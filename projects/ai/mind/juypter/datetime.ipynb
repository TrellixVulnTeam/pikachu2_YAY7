{
 "cells": [
  {
   "cell_type": "code",
   "execution_count": 27,
   "metadata": {},
   "outputs": [],
   "source": [
    "import pandas as pd\n",
    "from datetime import datetime\n",
    "from gezi import tqdm"
   ]
  },
  {
   "cell_type": "code",
   "execution_count": 2,
   "metadata": {},
   "outputs": [
    {
     "data": {
      "text/plain": [
       "['11/10/2019',\n",
       " '11/11/2019',\n",
       " '11/12/2019',\n",
       " '11/13/2019',\n",
       " '11/14/2019',\n",
       " '11/9/2019']"
      ]
     },
     "execution_count": 2,
     "metadata": {},
     "output_type": "execute_result"
    }
   ],
   "source": [
    "days = set()\n",
    "for line in open('../input/train/behaviors.tsv'):\n",
    "  l = line.strip().split('\\t')\n",
    "  time_ = l[2]\n",
    "  day = time_.split()[0]\n",
    "  days.add(day)\n",
    "sorted(days)"
   ]
  },
  {
   "cell_type": "code",
   "execution_count": 3,
   "metadata": {},
   "outputs": [
    {
     "data": {
      "text/plain": [
       "6"
      ]
     },
     "execution_count": 3,
     "metadata": {},
     "output_type": "execute_result"
    }
   ],
   "source": [
    "len(days)"
   ]
  },
  {
   "cell_type": "code",
   "execution_count": 4,
   "metadata": {},
   "outputs": [
    {
     "data": {
      "text/plain": [
       "['11/15/2019']"
      ]
     },
     "execution_count": 4,
     "metadata": {},
     "output_type": "execute_result"
    }
   ],
   "source": [
    "days = set()\n",
    "for line in open('../input/dev/behaviors.tsv'):\n",
    "  l = line.strip().split('\\t')\n",
    "  time_ = l[2]\n",
    "  day = time_.split()[0]\n",
    "  days.add(day)\n",
    "sorted(days)"
   ]
  },
  {
   "cell_type": "code",
   "execution_count": 5,
   "metadata": {},
   "outputs": [
    {
     "data": {
      "text/plain": [
       "['11/16/2019',\n",
       " '11/17/2019',\n",
       " '11/18/2019',\n",
       " '11/19/2019',\n",
       " '11/20/2019',\n",
       " '11/21/2019',\n",
       " '11/22/2019']"
      ]
     },
     "execution_count": 5,
     "metadata": {},
     "output_type": "execute_result"
    }
   ],
   "source": [
    "days = set()\n",
    "for line in open('../input/test/behaviors.tsv'):\n",
    "  l = line.strip().split('\\t')\n",
    "  time_ = l[2]\n",
    "  day = time_.split()[0]\n",
    "  days.add(day)\n",
    "sorted(days)"
   ]
  },
  {
   "cell_type": "code",
   "execution_count": 6,
   "metadata": {},
   "outputs": [
    {
     "data": {
      "text/plain": [
       "7"
      ]
     },
     "execution_count": 6,
     "metadata": {},
     "output_type": "execute_result"
    }
   ],
   "source": [
    "len(days)"
   ]
  },
  {
   "cell_type": "code",
   "execution_count": 32,
   "metadata": {},
   "outputs": [
    {
     "data": {
      "text/plain": [
       "datetime.datetime(2019, 11, 11, 21, 49, 52)"
      ]
     },
     "execution_count": 32,
     "metadata": {},
     "output_type": "execute_result"
    }
   ],
   "source": [
    "s = '11/11/2019 9:49:52 PM'\n",
    "x = datetime.strptime(s,\"%m/%d/%Y %I:%M:%S %p\")\n",
    "x"
   ]
  },
  {
   "cell_type": "code",
   "execution_count": 43,
   "metadata": {},
   "outputs": [
    {
     "data": {
      "text/plain": [
       "4"
      ]
     },
     "execution_count": 43,
     "metadata": {},
     "output_type": "execute_result"
    }
   ],
   "source": [
    "datetime.strptime('11/15/2019 9:49:52 PM',\"%m/%d/%Y %I:%M:%S %p\").weekday()"
   ]
  },
  {
   "cell_type": "code",
   "execution_count": 67,
   "metadata": {},
   "outputs": [
    {
     "data": {
      "text/plain": [
       "21"
      ]
     },
     "execution_count": 67,
     "metadata": {},
     "output_type": "execute_result"
    }
   ],
   "source": [
    "datetime.strptime('11/15/2019 9:49:52 PM',\"%m/%d/%Y %I:%M:%S %p\").hour"
   ]
  },
  {
   "cell_type": "code",
   "execution_count": 33,
   "metadata": {},
   "outputs": [
    {
     "data": {
      "text/plain": [
       "1573480192.0"
      ]
     },
     "execution_count": 33,
     "metadata": {},
     "output_type": "execute_result"
    }
   ],
   "source": [
    "datetime.timestamp(x)"
   ]
  },
  {
   "cell_type": "code",
   "execution_count": 34,
   "metadata": {},
   "outputs": [
    {
     "data": {
      "text/plain": [
       "datetime.datetime(2019, 11, 11, 9, 49, 52)"
      ]
     },
     "execution_count": 34,
     "metadata": {},
     "output_type": "execute_result"
    }
   ],
   "source": [
    "s = '11/11/2019 9:49:52 AM'\n",
    "x2 = datetime.strptime(s,\"%m/%d/%Y %I:%M:%S %p\")\n",
    "x2"
   ]
  },
  {
   "cell_type": "code",
   "execution_count": 35,
   "metadata": {},
   "outputs": [
    {
     "data": {
      "text/plain": [
       "1573436992.0"
      ]
     },
     "execution_count": 35,
     "metadata": {},
     "output_type": "execute_result"
    }
   ],
   "source": [
    "datetime.timestamp(x2)"
   ]
  },
  {
   "cell_type": "code",
   "execution_count": 36,
   "metadata": {},
   "outputs": [
    {
     "data": {
      "text/plain": [
       "12.0"
      ]
     },
     "execution_count": 36,
     "metadata": {},
     "output_type": "execute_result"
    }
   ],
   "source": [
    "(datetime.timestamp(x) - datetime.timestamp(x2)) / (60 * 60)"
   ]
  },
  {
   "cell_type": "code",
   "execution_count": 53,
   "metadata": {},
   "outputs": [],
   "source": [
    "def to_timestamp(s):\n",
    "  return int(datetime.timestamp(datetime.strptime(s,\"%m/%d/%Y %I:%M:%S %p\")))"
   ]
  },
  {
   "cell_type": "code",
   "execution_count": 54,
   "metadata": {},
   "outputs": [],
   "source": [
    "start_times = {}\n",
    "start_timestamps = {}"
   ]
  },
  {
   "cell_type": "code",
   "execution_count": 55,
   "metadata": {},
   "outputs": [
    {
     "name": "stderr",
     "output_type": "stream",
     "text": [
      "100%|██████████| 2232748/2232748 [05:30<00:00, 6760.05it/s] \n",
      "100%|██████████| 376471/376471 [00:49<00:00, 7663.12it/s] \n",
      "100%|██████████| 2370727/2370727 [04:03<00:00, 9751.08it/s] \n"
     ]
    }
   ],
   "source": [
    "files = [\n",
    "  '../input/train/behaviors.tsv',\n",
    "  '../input/dev/behaviors.tsv',\n",
    "  '../input/test/behaviors.tsv',\n",
    "]\n",
    "for file in files:\n",
    "  total = len(open(file).readlines())\n",
    "  for line in tqdm(open(file), total=total):\n",
    "    l = line.strip().split('\\t')\n",
    "    impressions = l[-1]\n",
    "    time_ = l[2]\n",
    "    timestamp = to_timestamp(time_)\n",
    "    for did in impressions.split():\n",
    "      did = did.split('-')[0]\n",
    "      if did not in start_times or timestamp < start_timestamps[did]:\n",
    "        start_times[did] = time_\n",
    "        start_timestamps[did] = timestamp    "
   ]
  },
  {
   "cell_type": "code",
   "execution_count": 56,
   "metadata": {},
   "outputs": [
    {
     "data": {
      "text/plain": [
       "54581"
      ]
     },
     "execution_count": 56,
     "metadata": {},
     "output_type": "execute_result"
    }
   ],
   "source": [
    "len(start_times)"
   ]
  },
  {
   "cell_type": "code",
   "execution_count": 61,
   "metadata": {},
   "outputs": [],
   "source": [
    "with open('../../input/big/start_times.txt', 'w') as out:\n",
    "  for key in start_times:\n",
    "    print(key, start_timestamps[key], start_times[key], sep='\\t', file=out)"
   ]
  },
  {
   "cell_type": "code",
   "execution_count": null,
   "metadata": {},
   "outputs": [],
   "source": []
  }
 ],
 "metadata": {
  "kernelspec": {
   "display_name": "Python 3",
   "language": "python",
   "name": "python3"
  },
  "language_info": {
   "codemirror_mode": {
    "name": "ipython",
    "version": 3
   },
   "file_extension": ".py",
   "mimetype": "text/x-python",
   "name": "python",
   "nbconvert_exporter": "python",
   "pygments_lexer": "ipython3",
   "version": "3.6.8"
  }
 },
 "nbformat": 4,
 "nbformat_minor": 2
}
