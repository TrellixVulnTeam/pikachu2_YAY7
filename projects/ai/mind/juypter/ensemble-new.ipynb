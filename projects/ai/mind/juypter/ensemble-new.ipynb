{
 "cells": [
  {
   "cell_type": "code",
   "execution_count": 71,
   "metadata": {},
   "outputs": [],
   "source": [
    "import pandas as pd\n",
    "import sys, os, os.path\n",
    "import numpy as np\n",
    "import json\n",
    "from sklearn.metrics import roc_auc_score\n",
    "import traceback\n",
    "import gezi\n",
    "from gezi import tqdm"
   ]
  },
  {
   "cell_type": "code",
   "execution_count": 72,
   "metadata": {},
   "outputs": [],
   "source": [
    "def dcg_score(y_true, y_score, k=10):\n",
    "    order = np.argsort(y_score)[::-1]\n",
    "    y_true = np.take(y_true, order[:k])\n",
    "    gains = 2 ** y_true - 1\n",
    "    discounts = np.log2(np.arange(len(y_true)) + 2)\n",
    "    return np.sum(gains / discounts)\n",
    "    \n",
    "\n",
    "def ndcg_score(y_true, y_score, k=10):\n",
    "    best = dcg_score(y_true, y_true, k)\n",
    "    actual = dcg_score(y_true, y_score, k)\n",
    "    return actual / best\n",
    "\n",
    "\n",
    "def mrr_score(y_true, y_score):\n",
    "    order = np.argsort(y_score)[::-1]\n",
    "    y_true = np.take(y_true, order)\n",
    "    rr_score = y_true / (np.arange(len(y_true)) + 1)\n",
    "    return np.sum(rr_score) / np.sum(y_true)\n",
    "\n",
    "def parse_line(l, is_truth=True):\n",
    "    impid, ranks = l.strip('\\n').split(' ', 1)\n",
    "    ranks = json.loads(ranks)\n",
    "    return impid, ranks\n",
    "\n",
    "def scoring_file(sub_f, is_rank=False):\n",
    "    aucs = []\n",
    "    mrrs = []\n",
    "    ndcg5s = []\n",
    "    ndcg10s = []\n",
    "    \n",
    "    line_index = 1\n",
    "    # cat get by using tools/to_truth.py and ../input/dev/behaviours.tsv\n",
    "    truth_f = '../input/dev/truth.txt'\n",
    "    total = len(open(truth_f).readlines())\n",
    "    truth_f = open(truth_f)\n",
    "    sub_f = open(sub_f)\n",
    "    for lt in tqdm(truth_f, total=total):\n",
    "        ls = sub_f.readline()\n",
    "        impid, labels = parse_line(lt)\n",
    "        \n",
    "        # ignore masked impressions\n",
    "        if labels == []:\n",
    "            continue \n",
    "        \n",
    "        if ls == '':\n",
    "            # empty line: filled with 0 ranks\n",
    "            sub_impid = impid\n",
    "            sub_ranks = [1] * len(labels)\n",
    "        else:\n",
    "            try:\n",
    "                sub_impid, sub_ranks = parse_line(ls, is_truth=False)\n",
    "            except:\n",
    "                raise ValueError(\"line-{}: Invalid Input Format!\".format(line_index))       \n",
    "        \n",
    "        if sub_impid != impid:\n",
    "            raise ValueError(\"line-{}: Inconsistent Impression Id {} and {}\".format(\n",
    "                line_index,\n",
    "                sub_impid,\n",
    "                impid\n",
    "            ))        \n",
    "        \n",
    "        lt_len = float(len(labels))\n",
    "        \n",
    "        y_true =  np.array(labels,dtype='float32')\n",
    "        y_score = []\n",
    "        for rank in sub_ranks:\n",
    "            score_rslt = 1./rank if is_rank else float(rank)\n",
    "            if score_rslt < 0 or score_rslt > 1:\n",
    "                raise ValueError(\"Line-{}: score_rslt should be int from 0 to {}\".format(\n",
    "                    line_index,\n",
    "                    lt_len\n",
    "                ))\n",
    "            y_score.append(score_rslt)\n",
    "            \n",
    "        try:\n",
    "          auc = roc_auc_score(y_true,y_score)\n",
    "          mrr = mrr_score(y_true,y_score)\n",
    "          ndcg5 = ndcg_score(y_true,y_score,5)\n",
    "          ndcg10 = ndcg_score(y_true,y_score,10)\n",
    "\n",
    "          aucs.append(auc)\n",
    "          mrrs.append(mrr)\n",
    "          ndcg5s.append(ndcg5)\n",
    "          ndcg10s.append(ndcg10)\n",
    "        except Exception:\n",
    "          pass\n",
    "        \n",
    "        line_index += 1\n",
    "\n",
    "    return np.mean(aucs), np.mean(mrrs), np.mean(ndcg5s), np.mean(ndcg10s)\n",
    "  \n",
    "\n",
    "def get_scores(pred_file):\n",
    "  res = {}\n",
    "  total = len(open(pred_file).readlines())\n",
    "  for line in tqdm(open(pred_file), total=total):\n",
    "    impression_id, labels = line.rstrip('\\t').split(' ')\n",
    "    scores = json.loads(labels)\n",
    "    res[impression_id] = np.asarray(scores)\n",
    "  return res\n",
    "  \n",
    "gold = {}\n",
    "for line in open('../input/dev/truth.txt'):\n",
    "  impression_id, labels = line.rstrip('\\t').split(' ')\n",
    "  labels = json.loads(labels)\n",
    "  gold[impression_id] = labels\n",
    "  \n",
    "def scoring(res):\n",
    "  aucs = []\n",
    "  mrrs = []\n",
    "  ndcg5s = []\n",
    "  ndcg10s = []\n",
    "  for impression_id in tqdm(gold, total=len(gold)):\n",
    "    y_true = gold[impression_id]\n",
    "    y_score = res[impression_id]\n",
    "    auc = roc_auc_score(y_true,y_score)\n",
    "    mrr = mrr_score(y_true,y_score)\n",
    "    ndcg5 = ndcg_score(y_true,y_score,5)\n",
    "    ndcg10 = ndcg_score(y_true,y_score,10)\n",
    "\n",
    "    aucs.append(auc)\n",
    "    mrrs.append(mrr)\n",
    "    ndcg5s.append(ndcg5)\n",
    "    ndcg10s.append(ndcg10)\n",
    "  return np.mean(aucs), np.mean(mrrs), np.mean(ndcg5s), np.mean(ndcg10s)\n",
    "\n",
    "def prob2rank(res, ofile):\n",
    "  with open(ofile, 'w') as out:\n",
    "    for i in tqdm(range(len(res))):\n",
    "      impression_id = str(i + 1)\n",
    "      scores = res[impression_id]\n",
    "      ranks = (-np.asarray(scores)).argsort().argsort() + 1\n",
    "      print(impression_id, '[' + ','.join(map(str, ranks)) + ']', sep=' ', file=out)"
   ]
  },
  {
   "cell_type": "code",
   "execution_count": null,
   "metadata": {},
   "outputs": [],
   "source": [
    "# label file (dev)"
   ]
  },
  {
   "cell_type": "code",
   "execution_count": null,
   "metadata": {},
   "outputs": [],
   "source": [
    "total = len(open('../input/dev/behaviors.tsv').readlines())\n",
    "with open('../input/dev/truth.txt', 'w') as out:\n",
    "  for line in tqdm(open('../input/dev/behaviors.tsv'), total=total):\n",
    "    l = line.strip('\\n').split('\\t')\n",
    "    id, history = l[0], l[-1]\n",
    "    labels = []\n",
    "    for item in history.split():\n",
    "      labels.append(item.split('-')[-1])\n",
    "    print(id, '[' + ','.join(labels) + ']', sep=' ', file=out)"
   ]
  },
  {
   "cell_type": "code",
   "execution_count": null,
   "metadata": {},
   "outputs": [],
   "source": [
    "label_file = '../input/dev/truth.txt'"
   ]
  },
  {
   "cell_type": "code",
   "execution_count": null,
   "metadata": {},
   "outputs": [],
   "source": [
    "# v8/din-title-pretrain.run2 l2 normalize word emb first\n",
    "# test 0.698 "
   ]
  },
  {
   "cell_type": "code",
   "execution_count": null,
   "metadata": {},
   "outputs": [],
   "source": [
    "!ls ../working/v8/din-title-pretrain.run2/infos/dev"
   ]
  },
  {
   "cell_type": "code",
   "execution_count": null,
   "metadata": {},
   "outputs": [],
   "source": [
    "valid_file = '../working/v8/din-title-pretrain.run2/infos/dev/valid.csv'"
   ]
  },
  {
   "cell_type": "code",
   "execution_count": null,
   "metadata": {},
   "outputs": [],
   "source": [
    "x = open(valid_file).readline()"
   ]
  },
  {
   "cell_type": "code",
   "execution_count": null,
   "metadata": {},
   "outputs": [],
   "source": [
    "x"
   ]
  },
  {
   "cell_type": "code",
   "execution_count": null,
   "metadata": {},
   "outputs": [],
   "source": [
    "json.loads(json.loads(x.strip('\\n').split(' ', 1)[1]))"
   ]
  },
  {
   "cell_type": "code",
   "execution_count": null,
   "metadata": {},
   "outputs": [],
   "source": [
    "scoring(label_file, valid_file, is_rank=False)"
   ]
  },
  {
   "cell_type": "code",
   "execution_count": null,
   "metadata": {},
   "outputs": [],
   "source": [
    "len(json.loads(json.loads('\"[0.14826497435569763, 0.011713951826095581, 0.12337428331375122, 0.006044149398803711, 0.024754375219345093, 0.09507068991661072, 0.016183137893676758, 0.03523629903793335, 0.018186092376708984, 0.014278829097747803, 0.004878878593444824, 0.20712491869926453, 0.021077275276184082, 0.017076998949050903, 0.013494908809661865, 0.02057015895843506, 0.004425853490829468, 0.019422262907028198, 0.06679847836494446, 0.05480983853340149, 0.032058119773864746, 0.009513318538665771, 0.044002264738082886, 0.02062860131263733, 0.01940673589706421, 0.014451682567596436]\"')))"
   ]
  },
  {
   "cell_type": "code",
   "execution_count": null,
   "metadata": {},
   "outputs": [],
   "source": [
    "!more ../working/v8/din-title-pretrain.run2/infos/dev/valid.csv"
   ]
  },
  {
   "cell_type": "code",
   "execution_count": null,
   "metadata": {},
   "outputs": [],
   "source": [
    "!more ../working/v8/din-title-pretrain.ru"
   ]
  },
  {
   "cell_type": "code",
   "execution_count": null,
   "metadata": {},
   "outputs": [],
   "source": [
    "!more ../working/v8/din-title-pretrain.run2/submission.csv"
   ]
  },
  {
   "cell_type": "code",
   "execution_count": 2,
   "metadata": {},
   "outputs": [
    {
     "name": "stderr",
     "output_type": "stream",
     "text": [
      " 49%|████▉     | 1160216/2370727 [00:41<00:39, 30687.03it/s]"
     ]
    },
    {
     "name": "stdout",
     "output_type": "stream",
     "text": [
      "1154912 [0.0508275032043457]\n"
     ]
    },
    {
     "name": "stderr",
     "output_type": "stream",
     "text": [
      "100%|██████████| 2370727/2370727 [01:27<00:00, 27140.47it/s]\n"
     ]
    }
   ],
   "source": [
    "file = '../working/v8/din-title-pretrain.run2/submission.csv'\n",
    "total = len(open(file).readlines())\n",
    "m1 = {}\n",
    "for line in tqdm(open(file), total=total):\n",
    "  id, scores = line.rstrip('\\n').split(' ', 1)\n",
    "  id = int(id)\n",
    "  scores = json.loads(scores)\n",
    "  m1[id] = scores"
   ]
  },
  {
   "cell_type": "code",
   "execution_count": null,
   "metadata": {},
   "outputs": [],
   "source": [
    "# v10/din-title-pretrain day train add dev"
   ]
  },
  {
   "cell_type": "code",
   "execution_count": 3,
   "metadata": {},
   "outputs": [
    {
     "name": "stderr",
     "output_type": "stream",
     "text": [
      " 49%|████▉     | 1160581/2370727 [00:41<00:40, 30044.48it/s]"
     ]
    },
    {
     "name": "stdout",
     "output_type": "stream",
     "text": [
      "1154912 [0.0364307165145874]\n"
     ]
    },
    {
     "name": "stderr",
     "output_type": "stream",
     "text": [
      "100%|██████████| 2370727/2370727 [01:28<00:00, 26641.16it/s]\n"
     ]
    }
   ],
   "source": [
    "file = '../working/v10/din-title-pretrain/submission.csv'\n",
    "total = len(open(file).readlines())\n",
    "m2 = {}\n",
    "for line in tqdm(open(file), total=total):\n",
    "  id, scores = line.rstrip('\\n').split(' ', 1)\n",
    "  id = int(id)\n",
    "  scores = json.loads(scores)\n",
    "  m2[id] = scores"
   ]
  },
  {
   "cell_type": "code",
   "execution_count": 4,
   "metadata": {},
   "outputs": [
    {
     "name": "stderr",
     "output_type": "stream",
     "text": [
      " 49%|████▉     | 1160594/2370727 [00:43<00:39, 30375.03it/s]"
     ]
    },
    {
     "name": "stdout",
     "output_type": "stream",
     "text": [
      "1154912 [0.053904205560684204]\n"
     ]
    },
    {
     "name": "stderr",
     "output_type": "stream",
     "text": [
      "100%|██████████| 2370727/2370727 [01:23<00:00, 28461.96it/s]\n"
     ]
    }
   ],
   "source": [
    "file = '../working/v8/din-title-pretrain.negfilter/submission.csv'\n",
    "total = len(open(file).readlines())\n",
    "m3 = {}\n",
    "for line in tqdm(open(file), total=total):\n",
    "  id, scores = line.rstrip('\\n').split(' ', 1)\n",
    "  id = int(id)\n",
    "  scores = json.loads(scores)\n",
    "  m3[id] = scores"
   ]
  },
  {
   "cell_type": "code",
   "execution_count": null,
   "metadata": {},
   "outputs": [],
   "source": [
    "m1"
   ]
  },
  {
   "cell_type": "code",
   "execution_count": 5,
   "metadata": {},
   "outputs": [
    {
     "name": "stderr",
     "output_type": "stream",
     "text": [
      "100%|██████████| 2370727/2370727 [00:47<00:00, 49701.37it/s]\n"
     ]
    }
   ],
   "source": [
    "m = {}\n",
    "for id in tqdm(m1.keys(), total=len(m1)):\n",
    "  m[id] = np.asarray(m1[id]) * 0.3 + np.asarray(m2[id]) * 0.5 + np.asarray(m3[id]) * 0.2"
   ]
  },
  {
   "cell_type": "code",
   "execution_count": null,
   "metadata": {},
   "outputs": [],
   "source": [
    "# m"
   ]
  },
  {
   "cell_type": "code",
   "execution_count": 7,
   "metadata": {},
   "outputs": [],
   "source": [
    "res = {}"
   ]
  },
  {
   "cell_type": "code",
   "execution_count": null,
   "metadata": {},
   "outputs": [
    {
     "name": "stderr",
     "output_type": "stream",
     "text": [
      " 70%|███████   | 1664296/2370727 [08:00<03:17, 3575.68it/s]"
     ]
    }
   ],
   "source": [
    "for id in tqdm(m.keys(), total=len(m)):\n",
    "  res[id] = ['[' + ','.join(map(str,(-np.asarray(x)).argsort().argsort() + 1)) + ']' for x in m[id]]"
   ]
  },
  {
   "cell_type": "code",
   "execution_count": null,
   "metadata": {},
   "outputs": [],
   "source": [
    "with open('../working/prediction.txt', 'w') as out:\n",
    "  for id in range(len(m)):\n",
    "    print(id + 1, res[id], sep=' ', file=out)"
   ]
  },
  {
   "cell_type": "code",
   "execution_count": null,
   "metadata": {},
   "outputs": [],
   "source": [
    "import os\n",
    "odir = '../working'\n",
    "os.system(f'cd {odir};zip prediction.zip prediction.txt')  "
   ]
  },
  {
   "cell_type": "code",
   "execution_count": 11,
   "metadata": {},
   "outputs": [
    {
     "name": "stderr",
     "output_type": "stream",
     "text": [
      "100%|██████████| 376471/376471 [08:40<00:00, 723.68it/s]\n"
     ]
    },
    {
     "data": {
      "text/plain": [
       "(0.6996642001146163,\n",
       " 0.3460991747858584,\n",
       " 0.3869146134654522,\n",
       " 0.4484090926147784)"
      ]
     },
     "execution_count": 11,
     "metadata": {},
     "output_type": "execute_result"
    }
   ],
   "source": [
    "scoring_file('../working/v16/base/infos/dev/valid-0.csv')"
   ]
  },
  {
   "cell_type": "code",
   "execution_count": 21,
   "metadata": {},
   "outputs": [
    {
     "name": "stderr",
     "output_type": "stream",
     "text": [
      "100%|██████████| 376471/376471 [00:12<00:00, 29954.96it/s]\n"
     ]
    }
   ],
   "source": [
    "res = parse_scores('../working/v16/base/infos/dev/valid-0.csv')"
   ]
  },
  {
   "cell_type": "code",
   "execution_count": 26,
   "metadata": {},
   "outputs": [
    {
     "name": "stderr",
     "output_type": "stream",
     "text": [
      "100%|██████████| 376471/376471 [08:05<00:00, 775.35it/s]\n"
     ]
    },
    {
     "data": {
      "text/plain": [
       "(0.6996642001146163,\n",
       " 0.3460991747858584,\n",
       " 0.3869146134654522,\n",
       " 0.4484090926147784)"
      ]
     },
     "execution_count": 26,
     "metadata": {},
     "output_type": "execute_result"
    }
   ],
   "source": [
    "scoring(res)"
   ]
  },
  {
   "cell_type": "code",
   "execution_count": 22,
   "metadata": {},
   "outputs": [],
   "source": [
    "def mean_ensemble(files, weights=None):\n",
    "  res = {}\n",
    "  l = []\n",
    "  for file in files:\n",
    "    print(file)\n",
    "    l.append(get_scores(file))\n",
    "  if not weights:\n",
    "    weights = [1 / len(files)] * len(files)\n",
    "  res = {}\n",
    "  for key in l[0]:\n",
    "    res[key] = l[0][key] * weights[0]\n",
    "    for i in range(1, len(files)):\n",
    "      res[key] += l[i][key] * weights[i]\n",
    "  return res"
   ]
  },
  {
   "cell_type": "code",
   "execution_count": 21,
   "metadata": {},
   "outputs": [],
   "source": [
    "files = [\n",
    "#   '../working/v16/base/infos/dev/valid-0.csv',    #0.6997\n",
    "  \n",
    "  '../working/v16/body/infos/dev/valid.csv',      #0.7032\n",
    "  '../working/v16/bert/infos/dev/valid.csv',      #0.7036\n",
    "  '../working/v16/bert-body/infos/dev/valid.csv', #0.7019\n",
    "]"
   ]
  },
  {
   "cell_type": "code",
   "execution_count": 14,
   "metadata": {},
   "outputs": [
    {
     "name": "stderr",
     "output_type": "stream",
     "text": [
      "100%|██████████| 376471/376471 [00:26<00:00, 14056.29it/s]\n",
      "100%|██████████| 376471/376471 [00:29<00:00, 12647.73it/s]\n"
     ]
    }
   ],
   "source": [
    "res = mean_ensemble(files)"
   ]
  },
  {
   "cell_type": "code",
   "execution_count": null,
   "metadata": {},
   "outputs": [],
   "source": [
    "# res"
   ]
  },
  {
   "cell_type": "code",
   "execution_count": 11,
   "metadata": {},
   "outputs": [
    {
     "data": {
      "text/plain": [
       "array([3., 6., 9.])"
      ]
     },
     "execution_count": 11,
     "metadata": {},
     "output_type": "execute_result"
    }
   ],
   "source": [
    "np.asarray([1,2.,3]) * 3"
   ]
  },
  {
   "cell_type": "code",
   "execution_count": 17,
   "metadata": {},
   "outputs": [
    {
     "name": "stderr",
     "output_type": "stream",
     "text": [
      "100%|██████████| 376471/376471 [07:11<00:00, 872.12it/s]\n"
     ]
    },
    {
     "data": {
      "text/plain": [
       "(0.7037429259287659,\n",
       " 0.34927063679819276,\n",
       " 0.3908604904781282,\n",
       " 0.4520881269614195)"
      ]
     },
     "execution_count": 17,
     "metadata": {},
     "output_type": "execute_result"
    }
   ],
   "source": [
    "scoring(res)"
   ]
  },
  {
   "cell_type": "code",
   "execution_count": 18,
   "metadata": {},
   "outputs": [
    {
     "name": "stderr",
     "output_type": "stream",
     "text": [
      "100%|██████████| 376471/376471 [09:37<00:00, 651.66it/s]\n"
     ]
    },
    {
     "data": {
      "text/plain": [
       "(0.7031702802781835, 0.3486213566609537, 0.390114675854853, 0.451380388216034)"
      ]
     },
     "execution_count": 18,
     "metadata": {},
     "output_type": "execute_result"
    }
   ],
   "source": [
    "scoring_file(files[1])"
   ]
  },
  {
   "cell_type": "code",
   "execution_count": 26,
   "metadata": {},
   "outputs": [
    {
     "name": "stderr",
     "output_type": "stream",
     "text": [
      "100%|██████████| 376471/376471 [08:29<00:00, 739.14it/s]\n"
     ]
    },
    {
     "data": {
      "text/plain": [
       "(0.7035922947159546,\n",
       " 0.3494844533391006,\n",
       " 0.3901419334081718,\n",
       " 0.4514067530598507)"
      ]
     },
     "execution_count": 26,
     "metadata": {},
     "output_type": "execute_result"
    }
   ],
   "source": [
    "scoring_file(files[2])"
   ]
  },
  {
   "cell_type": "code",
   "execution_count": 27,
   "metadata": {},
   "outputs": [
    {
     "name": "stderr",
     "output_type": "stream",
     "text": [
      "100%|██████████| 376471/376471 [09:27<00:00, 662.93it/s]\n"
     ]
    },
    {
     "data": {
      "text/plain": [
       "(0.7018593210045291,\n",
       " 0.3492488210895961,\n",
       " 0.3897183195502203,\n",
       " 0.45109102897487596)"
      ]
     },
     "execution_count": 27,
     "metadata": {},
     "output_type": "execute_result"
    }
   ],
   "source": [
    "scoring_file(files[3])"
   ]
  },
  {
   "cell_type": "code",
   "execution_count": 23,
   "metadata": {},
   "outputs": [
    {
     "name": "stdout",
     "output_type": "stream",
     "text": [
      "../working/v16/body/infos/dev/valid.csv\n"
     ]
    },
    {
     "name": "stderr",
     "output_type": "stream",
     "text": [
      "100%|██████████| 376471/376471 [00:11<00:00, 32935.13it/s]\n"
     ]
    },
    {
     "name": "stdout",
     "output_type": "stream",
     "text": [
      "../working/v16/bert/infos/dev/valid.csv\n"
     ]
    },
    {
     "name": "stderr",
     "output_type": "stream",
     "text": [
      "100%|██████████| 376471/376471 [00:11<00:00, 33449.66it/s]\n",
      "100%|██████████| 376471/376471 [07:07<00:00, 880.93it/s]\n"
     ]
    },
    {
     "data": {
      "text/plain": [
       "(0.7058625317529923,\n",
       " 0.35102640872004653,\n",
       " 0.39259167666269296,\n",
       " 0.4537627916810185)"
      ]
     },
     "execution_count": 23,
     "metadata": {},
     "output_type": "execute_result"
    }
   ],
   "source": [
    "scoring(mean_ensemble(files[1:3]))"
   ]
  },
  {
   "cell_type": "code",
   "execution_count": 24,
   "metadata": {},
   "outputs": [
    {
     "name": "stdout",
     "output_type": "stream",
     "text": [
      "../working/v16/body/infos/dev/valid.csv\n"
     ]
    },
    {
     "name": "stderr",
     "output_type": "stream",
     "text": [
      "100%|██████████| 376471/376471 [00:11<00:00, 33556.43it/s]\n"
     ]
    },
    {
     "name": "stdout",
     "output_type": "stream",
     "text": [
      "../working/v16/bert/infos/dev/valid.csv\n"
     ]
    },
    {
     "name": "stderr",
     "output_type": "stream",
     "text": [
      "100%|██████████| 376471/376471 [00:11<00:00, 33230.90it/s]\n"
     ]
    },
    {
     "name": "stdout",
     "output_type": "stream",
     "text": [
      "../working/v16/bert-body/infos/dev/valid.csv\n"
     ]
    },
    {
     "name": "stderr",
     "output_type": "stream",
     "text": [
      "100%|██████████| 376471/376471 [00:11<00:00, 33180.46it/s]\n",
      "100%|██████████| 376471/376471 [06:56<00:00, 904.15it/s]\n"
     ]
    },
    {
     "data": {
      "text/plain": [
       "(0.7059093478311262,\n",
       " 0.35163698133738525,\n",
       " 0.3931353913418697,\n",
       " 0.45421754590796054)"
      ]
     },
     "execution_count": 24,
     "metadata": {},
     "output_type": "execute_result"
    }
   ],
   "source": [
    "scoring(mean_ensemble(files[1:4]))"
   ]
  },
  {
   "cell_type": "code",
   "execution_count": 25,
   "metadata": {
    "scrolled": true
   },
   "outputs": [
    {
     "name": "stdout",
     "output_type": "stream",
     "text": [
      "../working/v16/base/infos/dev/valid-0.csv\n"
     ]
    },
    {
     "name": "stderr",
     "output_type": "stream",
     "text": [
      "100%|██████████| 376471/376471 [00:11<00:00, 33883.70it/s]\n"
     ]
    },
    {
     "name": "stdout",
     "output_type": "stream",
     "text": [
      "../working/v16/body/infos/dev/valid.csv\n"
     ]
    },
    {
     "name": "stderr",
     "output_type": "stream",
     "text": [
      "100%|██████████| 376471/376471 [00:11<00:00, 34005.64it/s]\n"
     ]
    },
    {
     "name": "stdout",
     "output_type": "stream",
     "text": [
      "../working/v16/bert/infos/dev/valid.csv\n"
     ]
    },
    {
     "name": "stderr",
     "output_type": "stream",
     "text": [
      "100%|██████████| 376471/376471 [00:11<00:00, 33615.93it/s]\n"
     ]
    },
    {
     "name": "stdout",
     "output_type": "stream",
     "text": [
      "../working/v16/bert-body/infos/dev/valid.csv\n"
     ]
    },
    {
     "name": "stderr",
     "output_type": "stream",
     "text": [
      "100%|██████████| 376471/376471 [00:11<00:00, 33228.73it/s]\n",
      "100%|██████████| 376471/376471 [06:58<00:00, 899.81it/s]\n"
     ]
    },
    {
     "data": {
      "text/plain": [
       "(0.7057999806117466,\n",
       " 0.351517094148398,\n",
       " 0.39302212809983805,\n",
       " 0.4542241906064121)"
      ]
     },
     "execution_count": 25,
     "metadata": {},
     "output_type": "execute_result"
    }
   ],
   "source": [
    "scoring(mean_ensemble(files))"
   ]
  },
  {
   "cell_type": "markdown",
   "metadata": {},
   "source": [
    "# fix bad input"
   ]
  },
  {
   "cell_type": "code",
   "execution_count": 29,
   "metadata": {},
   "outputs": [
    {
     "name": "stdout",
     "output_type": "stream",
     "text": [
      "../working/v16/body/submission.csv\n"
     ]
    }
   ],
   "source": [
    "!ls ../working/v16/body/submission.csv"
   ]
  },
  {
   "cell_type": "code",
   "execution_count": 30,
   "metadata": {},
   "outputs": [],
   "source": [
    "files = [\n",
    "  '../working/v16/body/submission.csv',\n",
    "  '../working/v16/bert/submission.csv',\n",
    "  '../working/v16/bert-body/submission.csv'\n",
    "]"
   ]
  },
  {
   "cell_type": "code",
   "execution_count": 37,
   "metadata": {},
   "outputs": [],
   "source": [
    "def fix_bad_input(file):\n",
    "  total = len(open(file).readlines())\n",
    "  ofile = file.replace('.csv', '_fix.csv')\n",
    "  bad_count = 0\n",
    "  with open(ofile, 'w') as out:\n",
    "    for line in tqdm(open(file), total=total):\n",
    "      id, scores = line.rstrip('\\n').split(' ', 1)\n",
    "      try:\n",
    "        scores = json.loads(json.loads(scores))\n",
    "      except Exception:\n",
    "        scores = json.loads(scores)\n",
    "        print(line)\n",
    "        print(id, scores)\n",
    "        bad_count += 1\n",
    "        if len(scores) > 1 or bad_count > 10:\n",
    "          break\n",
    "      print(id, '[' + ','.join(map(str, scores)) + ']', sep=' ', file=out)"
   ]
  },
  {
   "cell_type": "code",
   "execution_count": 42,
   "metadata": {},
   "outputs": [
    {
     "name": "stderr",
     "output_type": "stream",
     "text": [
      " 49%|████▊     | 1155346/2370727 [04:10<06:34, 3083.33it/s]"
     ]
    },
    {
     "name": "stdout",
     "output_type": "stream",
     "text": [
      "1154912 [0.03233453631401062]\n",
      "\n",
      "1154912 [0.03233453631401062]\n"
     ]
    },
    {
     "name": "stderr",
     "output_type": "stream",
     "text": [
      "100%|██████████| 2370727/2370727 [10:04<00:00, 3922.27it/s]\n"
     ]
    }
   ],
   "source": [
    "fix_bad_input(files[1])"
   ]
  },
  {
   "cell_type": "code",
   "execution_count": 43,
   "metadata": {},
   "outputs": [
    {
     "name": "stderr",
     "output_type": "stream",
     "text": [
      " 49%|████▊     | 1155380/2370727 [05:29<03:31, 5757.89it/s]"
     ]
    },
    {
     "name": "stdout",
     "output_type": "stream",
     "text": [
      "1154912 [0.051009178161621094]\n",
      "\n",
      "1154912 [0.051009178161621094]\n"
     ]
    },
    {
     "name": "stderr",
     "output_type": "stream",
     "text": [
      "100%|██████████| 2370727/2370727 [07:54<00:00, 4999.77it/s] \n"
     ]
    }
   ],
   "source": [
    "fix_bad_input(files[2])"
   ]
  },
  {
   "cell_type": "code",
   "execution_count": 93,
   "metadata": {},
   "outputs": [],
   "source": [
    "files = [\n",
    "  '../working/v17/v16.body.dev/submission.csv',\n",
    "  '../working/v17/body.dev1/submission.csv',\n",
    "  '../working/v17/body.dev2/submission.csv',\n",
    "  '../working/v17/body.dev3/submission.csv',\n",
    "  '../working/v17/body.dev4/submission.csv',\n",
    "]"
   ]
  },
  {
   "cell_type": "code",
   "execution_count": 94,
   "metadata": {},
   "outputs": [
    {
     "name": "stdout",
     "output_type": "stream",
     "text": [
      "../working/v17/v16.body.dev/submission.csv\n"
     ]
    },
    {
     "name": "stderr",
     "output_type": "stream",
     "text": [
      "100%|██████████| 2370727/2370727 [01:14<00:00, 32010.71it/s]\n"
     ]
    },
    {
     "name": "stdout",
     "output_type": "stream",
     "text": [
      "../working/v17/body.dev1/submission.csv\n"
     ]
    },
    {
     "name": "stderr",
     "output_type": "stream",
     "text": [
      "100%|██████████| 2370727/2370727 [01:13<00:00, 32343.63it/s]\n"
     ]
    },
    {
     "name": "stdout",
     "output_type": "stream",
     "text": [
      "../working/v17/body.dev2/submission.csv\n"
     ]
    },
    {
     "name": "stderr",
     "output_type": "stream",
     "text": [
      "100%|██████████| 2370727/2370727 [01:13<00:00, 32450.48it/s]\n"
     ]
    },
    {
     "name": "stdout",
     "output_type": "stream",
     "text": [
      "../working/v17/body.dev3/submission.csv\n"
     ]
    },
    {
     "name": "stderr",
     "output_type": "stream",
     "text": [
      "100%|██████████| 2370727/2370727 [01:13<00:00, 32203.83it/s]\n"
     ]
    },
    {
     "name": "stdout",
     "output_type": "stream",
     "text": [
      "../working/v17/body.dev4/submission.csv\n"
     ]
    },
    {
     "name": "stderr",
     "output_type": "stream",
     "text": [
      "100%|██████████| 2370727/2370727 [01:13<00:00, 32154.84it/s]\n"
     ]
    }
   ],
   "source": [
    "res = mean_ensemble(files)"
   ]
  },
  {
   "cell_type": "code",
   "execution_count": null,
   "metadata": {},
   "outputs": [],
   "source": [
    "# res"
   ]
  },
  {
   "cell_type": "code",
   "execution_count": 96,
   "metadata": {},
   "outputs": [
    {
     "data": {
      "text/plain": [
       "0.15314926356077196"
      ]
     },
     "execution_count": 96,
     "metadata": {},
     "output_type": "execute_result"
    }
   ],
   "source": [
    "res['1'].mean()"
   ]
  },
  {
   "cell_type": "code",
   "execution_count": 97,
   "metadata": {},
   "outputs": [
    {
     "name": "stderr",
     "output_type": "stream",
     "text": [
      "100%|██████████| 2370727/2370727 [01:39<00:00, 23807.29it/s]\n"
     ]
    }
   ],
   "source": [
    "prob2rank(res, '../working/v17/submit.body/prediction.txt')"
   ]
  },
  {
   "cell_type": "code",
   "execution_count": 99,
   "metadata": {},
   "outputs": [
    {
     "data": {
      "text/plain": [
       "0"
      ]
     },
     "execution_count": 99,
     "metadata": {},
     "output_type": "execute_result"
    }
   ],
   "source": [
    "odir = '../working/v17/submit.body/'\n",
    "os.system(f'cd {odir};zip prediction.zip prediction.txt')  "
   ]
  },
  {
   "cell_type": "code",
   "execution_count": 50,
   "metadata": {},
   "outputs": [],
   "source": [
    "files = [\n",
    "#   '../working/v16/base/infos/dev/valid-0.csv',    #0.6997\n",
    "  '../working/v16/base.pairloss/infos/dev/valid.csv', #0.7005 \n",
    "  '../working/v16/body/infos/dev/valid.csv',      #0.7032\n",
    "  '../working/v16/bert/infos/dev/valid.csv',      #0.7036\n",
    "  '../working/v16/bert-body/infos/dev/valid.csv', #0.7019\n",
    "]"
   ]
  },
  {
   "cell_type": "code",
   "execution_count": 52,
   "metadata": {},
   "outputs": [
    {
     "name": "stdout",
     "output_type": "stream",
     "text": [
      "../working/v16/base.pairloss/infos/dev/valid.csv\n"
     ]
    },
    {
     "name": "stderr",
     "output_type": "stream",
     "text": [
      "100%|██████████| 376471/376471 [00:13<00:00, 28386.53it/s]\n"
     ]
    },
    {
     "name": "stdout",
     "output_type": "stream",
     "text": [
      "../working/v16/body/infos/dev/valid.csv\n"
     ]
    },
    {
     "name": "stderr",
     "output_type": "stream",
     "text": [
      "100%|██████████| 376471/376471 [00:13<00:00, 27870.55it/s]\n"
     ]
    },
    {
     "name": "stdout",
     "output_type": "stream",
     "text": [
      "../working/v16/bert/infos/dev/valid.csv\n"
     ]
    },
    {
     "name": "stderr",
     "output_type": "stream",
     "text": [
      "100%|██████████| 376471/376471 [00:13<00:00, 28374.06it/s]\n"
     ]
    },
    {
     "name": "stdout",
     "output_type": "stream",
     "text": [
      "../working/v16/bert-body/infos/dev/valid.csv\n"
     ]
    },
    {
     "name": "stderr",
     "output_type": "stream",
     "text": [
      "100%|██████████| 376471/376471 [00:13<00:00, 28669.01it/s]\n"
     ]
    }
   ],
   "source": [
    "res = mean_ensemble(files)"
   ]
  },
  {
   "cell_type": "code",
   "execution_count": 53,
   "metadata": {},
   "outputs": [
    {
     "name": "stderr",
     "output_type": "stream",
     "text": [
      "100%|██████████| 376471/376471 [07:56<00:00, 789.85it/s]\n"
     ]
    },
    {
     "data": {
      "text/plain": [
       "(0.7058645483809668,\n",
       " 0.35148798041400764,\n",
       " 0.3929760593834304,\n",
       " 0.4540967924048985)"
      ]
     },
     "execution_count": 53,
     "metadata": {},
     "output_type": "execute_result"
    }
   ],
   "source": [
    "scoring(res)"
   ]
  },
  {
   "cell_type": "code",
   "execution_count": 73,
   "metadata": {},
   "outputs": [],
   "source": [
    "files = [\n",
    "  '../working/v16/body/infos/dev/valid.csv',      #0.7032\n",
    "  '../working/v16/bert/infos/dev/valid.csv',      #0.7035\n",
    "  '../working/v16/bert-body/infos/dev/valid.csv', #0.7019\n",
    "  '../working/v16/body.pairloss/infos/dev/valid.csv', #7053\n",
    "]"
   ]
  },
  {
   "cell_type": "code",
   "execution_count": 74,
   "metadata": {},
   "outputs": [
    {
     "name": "stdout",
     "output_type": "stream",
     "text": [
      "../working/v16/body/infos/dev/valid.csv\n"
     ]
    },
    {
     "name": "stderr",
     "output_type": "stream",
     "text": [
      "100%|██████████| 376471/376471 [00:21<00:00, 17258.89it/s]\n"
     ]
    },
    {
     "name": "stdout",
     "output_type": "stream",
     "text": [
      "../working/v16/bert/infos/dev/valid.csv\n"
     ]
    },
    {
     "name": "stderr",
     "output_type": "stream",
     "text": [
      "100%|██████████| 376471/376471 [00:22<00:00, 17065.84it/s]\n"
     ]
    },
    {
     "name": "stdout",
     "output_type": "stream",
     "text": [
      "../working/v16/bert-body/infos/dev/valid.csv\n"
     ]
    },
    {
     "name": "stderr",
     "output_type": "stream",
     "text": [
      "100%|██████████| 376471/376471 [00:21<00:00, 17176.84it/s]\n",
      "  0%|          | 0/26700 [00:00<?, ?it/s]"
     ]
    },
    {
     "name": "stdout",
     "output_type": "stream",
     "text": [
      "../working/v16/body.pairloss/infos/dev/valid.csv\n"
     ]
    },
    {
     "name": "stderr",
     "output_type": "stream",
     "text": [
      "100%|██████████| 26700/26700 [00:01<00:00, 18312.56it/s]\n"
     ]
    },
    {
     "ename": "KeyError",
     "evalue": "'18823'",
     "output_type": "error",
     "traceback": [
      "\u001b[0;31m---------------------------------------------------------------------------\u001b[0m",
      "\u001b[0;31mKeyError\u001b[0m                                  Traceback (most recent call last)",
      "\u001b[0;32m<ipython-input-74-2f38c5dd93fb>\u001b[0m in \u001b[0;36m<module>\u001b[0;34m()\u001b[0m\n\u001b[0;32m----> 1\u001b[0;31m \u001b[0mscoring\u001b[0m\u001b[0;34m(\u001b[0m\u001b[0mmean_ensemble\u001b[0m\u001b[0;34m(\u001b[0m\u001b[0mfiles\u001b[0m\u001b[0;34m)\u001b[0m\u001b[0;34m)\u001b[0m\u001b[0;34m\u001b[0m\u001b[0;34m\u001b[0m\u001b[0m\n\u001b[0m",
      "\u001b[0;32m<ipython-input-22-c7c66d8df481>\u001b[0m in \u001b[0;36mmean_ensemble\u001b[0;34m(files, weights)\u001b[0m\n\u001b[1;32m     11\u001b[0m     \u001b[0mres\u001b[0m\u001b[0;34m[\u001b[0m\u001b[0mkey\u001b[0m\u001b[0;34m]\u001b[0m \u001b[0;34m=\u001b[0m \u001b[0ml\u001b[0m\u001b[0;34m[\u001b[0m\u001b[0;36m0\u001b[0m\u001b[0;34m]\u001b[0m\u001b[0;34m[\u001b[0m\u001b[0mkey\u001b[0m\u001b[0;34m]\u001b[0m \u001b[0;34m*\u001b[0m \u001b[0mweights\u001b[0m\u001b[0;34m[\u001b[0m\u001b[0;36m0\u001b[0m\u001b[0;34m]\u001b[0m\u001b[0;34m\u001b[0m\u001b[0;34m\u001b[0m\u001b[0m\n\u001b[1;32m     12\u001b[0m     \u001b[0;32mfor\u001b[0m \u001b[0mi\u001b[0m \u001b[0;32min\u001b[0m \u001b[0mrange\u001b[0m\u001b[0;34m(\u001b[0m\u001b[0;36m1\u001b[0m\u001b[0;34m,\u001b[0m \u001b[0mlen\u001b[0m\u001b[0;34m(\u001b[0m\u001b[0mfiles\u001b[0m\u001b[0;34m)\u001b[0m\u001b[0;34m)\u001b[0m\u001b[0;34m:\u001b[0m\u001b[0;34m\u001b[0m\u001b[0;34m\u001b[0m\u001b[0m\n\u001b[0;32m---> 13\u001b[0;31m       \u001b[0mres\u001b[0m\u001b[0;34m[\u001b[0m\u001b[0mkey\u001b[0m\u001b[0;34m]\u001b[0m \u001b[0;34m+=\u001b[0m \u001b[0ml\u001b[0m\u001b[0;34m[\u001b[0m\u001b[0mi\u001b[0m\u001b[0;34m]\u001b[0m\u001b[0;34m[\u001b[0m\u001b[0mkey\u001b[0m\u001b[0;34m]\u001b[0m \u001b[0;34m*\u001b[0m \u001b[0mweights\u001b[0m\u001b[0;34m[\u001b[0m\u001b[0mi\u001b[0m\u001b[0;34m]\u001b[0m\u001b[0;34m\u001b[0m\u001b[0;34m\u001b[0m\u001b[0m\n\u001b[0m\u001b[1;32m     14\u001b[0m   \u001b[0;32mreturn\u001b[0m \u001b[0mres\u001b[0m\u001b[0;34m\u001b[0m\u001b[0;34m\u001b[0m\u001b[0m\n",
      "\u001b[0;31mKeyError\u001b[0m: '18823'"
     ]
    }
   ],
   "source": [
    "scoring(mean_ensemble(files))"
   ]
  },
  {
   "cell_type": "code",
   "execution_count": null,
   "metadata": {},
   "outputs": [],
   "source": [
    "scoring(mean_ensemble(files, [0.4, 0.4, 0.2]))"
   ]
  },
  {
   "cell_type": "code",
   "execution_count": 61,
   "metadata": {},
   "outputs": [],
   "source": [
    "from scipy.stats import rankdata"
   ]
  },
  {
   "cell_type": "code",
   "execution_count": 60,
   "metadata": {},
   "outputs": [],
   "source": [
    "def blend_byrank(weights):\n",
    "  ranked = rankdata(weights)\n",
    "  sum_rank = np.sum(ranked)\n",
    "  for i in range(len(weights)):\n",
    "    weights[i] = ranked[i] / sum_rank\n",
    "  return weights"
   ]
  },
  {
   "cell_type": "code",
   "execution_count": 62,
   "metadata": {},
   "outputs": [
    {
     "data": {
      "text/plain": [
       "array([2., 3., 1.])"
      ]
     },
     "execution_count": 62,
     "metadata": {},
     "output_type": "execute_result"
    }
   ],
   "source": [
    "rankdata([1.5, 2.8, 0.2])"
   ]
  },
  {
   "cell_type": "code",
   "execution_count": null,
   "metadata": {},
   "outputs": [],
   "source": [
    "# body.dev 91\n",
    "# "
   ]
  }
 ],
 "metadata": {
  "kernelspec": {
   "display_name": "Python 3",
   "language": "python",
   "name": "python3"
  },
  "language_info": {
   "codemirror_mode": {
    "name": "ipython",
    "version": 3
   },
   "file_extension": ".py",
   "mimetype": "text/x-python",
   "name": "python",
   "nbconvert_exporter": "python",
   "pygments_lexer": "ipython3",
   "version": "3.7.4"
  }
 },
 "nbformat": 4,
 "nbformat_minor": 4
}
