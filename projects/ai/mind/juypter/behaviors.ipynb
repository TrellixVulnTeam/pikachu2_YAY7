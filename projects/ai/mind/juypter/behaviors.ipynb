{
 "cells": [
  {
   "cell_type": "code",
   "execution_count": 65,
   "metadata": {},
   "outputs": [],
   "source": [
    "import gezi\n",
    "from gezi import tqdm"
   ]
  },
  {
   "cell_type": "code",
   "execution_count": 66,
   "metadata": {},
   "outputs": [],
   "source": [
    "behaviors_names = ['impression_id', 'uid', 'time', 'history', 'impressions']"
   ]
  },
  {
   "cell_type": "code",
   "execution_count": 67,
   "metadata": {},
   "outputs": [
    {
     "name": "stderr",
     "output_type": "stream",
     "text": [
      "100%|██████████| 2232748/2232748 [08:37<00:00, 4311.55it/s]\n",
      "100%|██████████| 376471/376471 [01:22<00:00, 4545.95it/s]\n",
      "100%|██████████| 2370727/2370727 [11:34<00:00, 3414.25it/s]\n"
     ]
    }
   ],
   "source": [
    "TEST_START = 1000000\n",
    "uid_vocab = gezi.WordCounter()\n",
    "did_vocab = gezi.WordCounter()\n",
    "train_uid_vocab = gezi.WordCounter()\n",
    "train_did_vocab = gezi.WordCounter()\n",
    "dev_uid_vocab = gezi.WordCounter()\n",
    "dev_did_vocab = gezi.WordCounter()\n",
    "test_uid_vocab = gezi.WordCounter()\n",
    "test_did_vocab = gezi.WordCounter()\n",
    "\n",
    "files = [\n",
    "  '../input/train/behaviors.tsv',\n",
    "  '../input/dev/behaviors.tsv',\n",
    "  '../input/test/behaviors.tsv',\n",
    "]\n",
    "\n",
    "# 让train dev出现的排在test出现的前面\n",
    "# history 会用户去重 一个用户一个history 对应一次history 中doc计数\n",
    "# 理论上 不去重可以由uid表征\n",
    "\n",
    "uids = set()\n",
    "dids = set()\n",
    "def _add(did, file, is_history=False):\n",
    "  count = 1 if ('test' in file and not is_history) or did in dids else 1000000\n",
    "  dids.add(did)\n",
    "  did_vocab.add(did, count)\n",
    "  if 'train' in file:\n",
    "    train_did_vocab.add(did)\n",
    "  if 'dev' in file:\n",
    "    dev_did_vocab.add(did)\n",
    "  if 'test' in file:\n",
    "    test_did_vocab.add(did)\n",
    "\n",
    "for file in files:\n",
    "  total = len(open(file).readlines())\n",
    "  for line in tqdm(open(file), total=total):\n",
    "    l = line.strip().split('\\t')\n",
    "    uid, history, impressions = l[1], l[-2], l[-1]\n",
    "    count = 1 if 'test' in file or uid in uids else TEST_START\n",
    "    \n",
    "    uid_vocab.add(uid, count)\n",
    "    if 'train' in file:\n",
    "      train_uid_vocab.add(uid)\n",
    "    if 'dev' in file:\n",
    "      dev_uid_vocab.add(uid)\n",
    "    if 'test' in file:\n",
    "      test_uid_vocab.add(uid)\n",
    "    \n",
    "    for did in history.split():\n",
    "      if uid not in uids:\n",
    "        _add(did, file, is_history=False)\n",
    "      _add(did, file, is_history=False)\n",
    "    for did in impressions.split():\n",
    "      did = did.split('-')[0]\n",
    "      _add(did, file)\n",
    "      \n",
    "    uids.add(uid)"
   ]
  },
  {
   "cell_type": "code",
   "execution_count": 114,
   "metadata": {},
   "outputs": [
    {
     "name": "stderr",
     "output_type": "stream",
     "text": [
      "total_count 750438229512 unknown_count 0 total_word 876956\n",
      "total_count 104541073881 unknown_count 0 total_word 130379\n"
     ]
    }
   ],
   "source": [
    "uid_vocab.save('../input/uid.txt')\n",
    "did_vocab.save('../input/did.txt')"
   ]
  },
  {
   "cell_type": "code",
   "execution_count": 115,
   "metadata": {},
   "outputs": [
    {
     "data": {
      "text/plain": [
       "130379"
      ]
     },
     "execution_count": 115,
     "metadata": {},
     "output_type": "execute_result"
    }
   ],
   "source": [
    "len(did_vocab.counter)"
   ]
  },
  {
   "cell_type": "code",
   "execution_count": 116,
   "metadata": {},
   "outputs": [
    {
     "name": "stderr",
     "output_type": "stream",
     "text": [
      "total_count 2232748 unknown_count 0 total_word 711222\n",
      "total_count 170487392 unknown_count 0 total_word 101527\n",
      "total_count 376471 unknown_count 0 total_word 255990\n",
      "total_count 26760487 unknown_count 0 total_word 72023\n",
      "total_count 2370727 unknown_count 0 total_word 702005\n",
      "total_count 192930153 unknown_count 0 total_word 120961\n"
     ]
    }
   ],
   "source": [
    "train_uid_vocab.save('../input/train/uid.txt')\n",
    "train_did_vocab.save('../input/train/did.txt')\n",
    "dev_uid_vocab.save('../input/dev/uid.txt')\n",
    "dev_did_vocab.save('../input/dev/did.txt')\n",
    "test_uid_vocab.save('../input/test/uid.txt')\n",
    "test_did_vocab.save('../input/test/did.txt')"
   ]
  },
  {
   "cell_type": "code",
   "execution_count": 117,
   "metadata": {},
   "outputs": [
    {
     "data": {
      "text/plain": [
       "876956"
      ]
     },
     "execution_count": 117,
     "metadata": {},
     "output_type": "execute_result"
    }
   ],
   "source": [
    "len(uid_vocab.counter)"
   ]
  },
  {
   "cell_type": "code",
   "execution_count": 118,
   "metadata": {},
   "outputs": [
    {
     "data": {
      "text/plain": [
       "711222"
      ]
     },
     "execution_count": 118,
     "metadata": {},
     "output_type": "execute_result"
    }
   ],
   "source": [
    "len(train_uid_vocab.counter)"
   ]
  },
  {
   "cell_type": "code",
   "execution_count": 119,
   "metadata": {},
   "outputs": [
    {
     "data": {
      "text/plain": [
       "255990"
      ]
     },
     "execution_count": 119,
     "metadata": {},
     "output_type": "execute_result"
    }
   ],
   "source": [
    "len(dev_uid_vocab.counter)"
   ]
  },
  {
   "cell_type": "code",
   "execution_count": 120,
   "metadata": {},
   "outputs": [
    {
     "data": {
      "text/plain": [
       "702005"
      ]
     },
     "execution_count": 120,
     "metadata": {},
     "output_type": "execute_result"
    }
   ],
   "source": [
    "len(test_uid_vocab.counter)"
   ]
  },
  {
   "cell_type": "code",
   "execution_count": 121,
   "metadata": {},
   "outputs": [
    {
     "data": {
      "text/plain": [
       "0.15317785851009805"
      ]
     },
     "execution_count": 121,
     "metadata": {},
     "output_type": "execute_result"
    }
   ],
   "source": [
    "len(set(dev_uid_vocab.counter) - set(train_uid_vocab.counter)) / len(dev_uid_vocab.counter)"
   ]
  },
  {
   "cell_type": "code",
   "execution_count": 122,
   "metadata": {},
   "outputs": [
    {
     "data": {
      "text/plain": [
       "0.22116651590800634"
      ]
     },
     "execution_count": 122,
     "metadata": {},
     "output_type": "execute_result"
    }
   ],
   "source": [
    "len(set(test_uid_vocab.counter) - set(train_uid_vocab.counter)) / len(test_uid_vocab.counter)"
   ]
  },
  {
   "cell_type": "code",
   "execution_count": 123,
   "metadata": {},
   "outputs": [
    {
     "data": {
      "text/plain": [
       "0.03643280618691251"
      ]
     },
     "execution_count": 123,
     "metadata": {},
     "output_type": "execute_result"
    }
   ],
   "source": [
    "len(set(dev_did_vocab.counter) - set(train_did_vocab.counter)) / len(dev_did_vocab.counter)"
   ]
  },
  {
   "cell_type": "code",
   "execution_count": 124,
   "metadata": {},
   "outputs": [
    {
     "data": {
      "text/plain": [
       "0.23380263059994544"
      ]
     },
     "execution_count": 124,
     "metadata": {},
     "output_type": "execute_result"
    }
   ],
   "source": [
    "len(set(test_did_vocab.counter) - set(train_did_vocab.counter)) / len(test_did_vocab.counter)"
   ]
  },
  {
   "cell_type": "code",
   "execution_count": 125,
   "metadata": {},
   "outputs": [],
   "source": [
    "# dev uid \n",
    "def uid_info(mark):\n",
    "  file = f'../input/{mark}/behaviors.tsv'\n",
    "  total = len(open(file).readlines())\n",
    "  new_uid_impress = 0\n",
    "  for line in tqdm(open(file), total=total):\n",
    "    l = line.strip().split('\\t')\n",
    "    uid = l[1]\n",
    "    if not uid in train_uid_vocab.counter:\n",
    "      new_uid_impress += 1\n",
    "  print('new uid impression ratio:', new_uid_impress / total, new_uid_impress, total)"
   ]
  },
  {
   "cell_type": "code",
   "execution_count": 126,
   "metadata": {},
   "outputs": [
    {
     "name": "stderr",
     "output_type": "stream",
     "text": [
      "100%|██████████| 376471/376471 [00:01<00:00, 291533.40it/s]"
     ]
    },
    {
     "name": "stdout",
     "output_type": "stream",
     "text": [
      "new uid impression ratio: 0.12912017127481268 48610 376471\n"
     ]
    },
    {
     "name": "stderr",
     "output_type": "stream",
     "text": [
      "\n"
     ]
    }
   ],
   "source": [
    "uid_info('dev')"
   ]
  },
  {
   "cell_type": "code",
   "execution_count": 127,
   "metadata": {},
   "outputs": [
    {
     "name": "stderr",
     "output_type": "stream",
     "text": [
      "100%|██████████| 2370727/2370727 [00:08<00:00, 288344.12it/s]"
     ]
    },
    {
     "name": "stdout",
     "output_type": "stream",
     "text": [
      "new uid impression ratio: 0.1510481805792063 358094 2370727\n"
     ]
    },
    {
     "name": "stderr",
     "output_type": "stream",
     "text": [
      "\n"
     ]
    }
   ],
   "source": [
    "uid_info('test')"
   ]
  },
  {
   "cell_type": "code",
   "execution_count": 128,
   "metadata": {},
   "outputs": [],
   "source": [
    "def did_info(mark):\n",
    "  file = f'../input/{mark}/behaviors.tsv'\n",
    "  total = len(open(file).readlines())\n",
    "  new_did_insts = 0\n",
    "  total_impres = 0\n",
    "  new_did_impres = 0\n",
    "  for line in tqdm(open(file), total=total):\n",
    "    l = line.strip().split('\\t')\n",
    "    impressions = l[-1]\n",
    "    find = 0\n",
    "    for item in impressions.split():\n",
    "      did = item.split('-')[0]\n",
    "      if did not in train_did_vocab.counter:\n",
    "        find += 1\n",
    "      total += 1\n",
    "    new_did_insts += find\n",
    "    if find:\n",
    "      new_did_impres += 1\n",
    "    total_impres += 1\n",
    "\n",
    "  print('new_did_insts_ratio:', new_did_insts / total)\n",
    "  print('new_did_impress_ratio:', new_did_impres / total_impres)"
   ]
  },
  {
   "cell_type": "code",
   "execution_count": 129,
   "metadata": {},
   "outputs": [
    {
     "name": "stderr",
     "output_type": "stream",
     "text": [
      "100%|██████████| 376471/376471 [00:11<00:00, 32611.16it/s]"
     ]
    },
    {
     "name": "stdout",
     "output_type": "stream",
     "text": [
      "new_did_insts_ratio: 0.05225947564200539\n",
      "new_did_impress_ratio: 0.6119568306722164\n"
     ]
    },
    {
     "name": "stderr",
     "output_type": "stream",
     "text": [
      "\n"
     ]
    }
   ],
   "source": [
    "did_info('dev')"
   ]
  },
  {
   "cell_type": "code",
   "execution_count": 130,
   "metadata": {},
   "outputs": [
    {
     "name": "stderr",
     "output_type": "stream",
     "text": [
      "100%|██████████| 2370727/2370727 [01:05<00:00, 35953.38it/s]"
     ]
    },
    {
     "name": "stdout",
     "output_type": "stream",
     "text": [
      "new_did_insts_ratio: 0.8388794501310185\n",
      "new_did_impress_ratio: 0.9996380857011372\n"
     ]
    },
    {
     "name": "stderr",
     "output_type": "stream",
     "text": [
      "\n"
     ]
    }
   ],
   "source": [
    "did_info('test')"
   ]
  },
  {
   "cell_type": "code",
   "execution_count": 131,
   "metadata": {},
   "outputs": [],
   "source": [
    "vocab = gezi.Vocab('../input/train/uid.txt')"
   ]
  },
  {
   "cell_type": "code",
   "execution_count": 132,
   "metadata": {},
   "outputs": [
    {
     "data": {
      "text/plain": [
       "711224"
      ]
     },
     "execution_count": 132,
     "metadata": {},
     "output_type": "execute_result"
    }
   ],
   "source": [
    "vocab.size()"
   ]
  },
  {
   "cell_type": "code",
   "execution_count": 133,
   "metadata": {},
   "outputs": [
    {
     "data": {
      "text/plain": [
       "28899"
      ]
     },
     "execution_count": 133,
     "metadata": {},
     "output_type": "execute_result"
    }
   ],
   "source": [
    "vocab.size(10)"
   ]
  },
  {
   "cell_type": "code",
   "execution_count": 134,
   "metadata": {},
   "outputs": [],
   "source": [
    "vocab = gezi.Vocab('../input/train/did.txt')"
   ]
  },
  {
   "cell_type": "code",
   "execution_count": 135,
   "metadata": {},
   "outputs": [
    {
     "data": {
      "text/plain": [
       "101529"
      ]
     },
     "execution_count": 135,
     "metadata": {},
     "output_type": "execute_result"
    }
   ],
   "source": [
    "vocab.size()"
   ]
  },
  {
   "cell_type": "code",
   "execution_count": 136,
   "metadata": {},
   "outputs": [
    {
     "data": {
      "text/plain": [
       "80034"
      ]
     },
     "execution_count": 136,
     "metadata": {},
     "output_type": "execute_result"
    }
   ],
   "source": [
    "vocab.size(10)"
   ]
  },
  {
   "cell_type": "code",
   "execution_count": 137,
   "metadata": {},
   "outputs": [],
   "source": [
    "vocab = gezi.Vocab('../input/entity.txt')"
   ]
  },
  {
   "cell_type": "code",
   "execution_count": 138,
   "metadata": {},
   "outputs": [
    {
     "data": {
      "text/plain": [
       "50927"
      ]
     },
     "execution_count": 138,
     "metadata": {},
     "output_type": "execute_result"
    }
   ],
   "source": [
    "vocab.size()"
   ]
  },
  {
   "cell_type": "code",
   "execution_count": 139,
   "metadata": {},
   "outputs": [
    {
     "data": {
      "text/plain": [
       "44104"
      ]
     },
     "execution_count": 139,
     "metadata": {},
     "output_type": "execute_result"
    }
   ],
   "source": [
    "vocab.size(10)"
   ]
  },
  {
   "cell_type": "code",
   "execution_count": 140,
   "metadata": {},
   "outputs": [],
   "source": [
    "vocab = gezi.Vocab('../input/entity_type.txt')"
   ]
  },
  {
   "cell_type": "code",
   "execution_count": 141,
   "metadata": {},
   "outputs": [
    {
     "data": {
      "text/plain": [
       "24"
      ]
     },
     "execution_count": 141,
     "metadata": {},
     "output_type": "execute_result"
    }
   ],
   "source": [
    "vocab.size()"
   ]
  },
  {
   "cell_type": "code",
   "execution_count": 142,
   "metadata": {},
   "outputs": [
    {
     "data": {
      "text/plain": [
       "23"
      ]
     },
     "execution_count": 142,
     "metadata": {},
     "output_type": "execute_result"
    }
   ],
   "source": [
    "vocab.size(10)"
   ]
  },
  {
   "cell_type": "code",
   "execution_count": null,
   "metadata": {},
   "outputs": [],
   "source": []
  },
  {
   "cell_type": "code",
   "execution_count": null,
   "metadata": {},
   "outputs": [],
   "source": []
  }
 ],
 "metadata": {
  "kernelspec": {
   "display_name": "Python 3",
   "language": "python",
   "name": "python3"
  },
  "language_info": {
   "codemirror_mode": {
    "name": "ipython",
    "version": 3
   },
   "file_extension": ".py",
   "mimetype": "text/x-python",
   "name": "python",
   "nbconvert_exporter": "python",
   "pygments_lexer": "ipython3",
   "version": "3.6.8"
  }
 },
 "nbformat": 4,
 "nbformat_minor": 2
}
