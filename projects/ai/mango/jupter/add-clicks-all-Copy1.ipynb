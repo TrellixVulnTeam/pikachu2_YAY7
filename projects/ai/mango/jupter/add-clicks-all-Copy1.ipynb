{
 "cells": [
  {
   "cell_type": "code",
   "execution_count": 1,
   "metadata": {},
   "outputs": [
    {
     "data": {
      "text/html": [
       "        <script type=\"text/javascript\">\n",
       "        window.PlotlyConfig = {MathJaxConfig: 'local'};\n",
       "        if (window.MathJax) {MathJax.Hub.Config({SVG: {font: \"STIX-Web\"}});}\n",
       "        if (typeof require !== 'undefined') {\n",
       "        require.undef(\"plotly\");\n",
       "        requirejs.config({\n",
       "            paths: {\n",
       "                'plotly': ['https://cdn.plot.ly/plotly-latest.min']\n",
       "            }\n",
       "        });\n",
       "        require(['plotly'], function(Plotly) {\n",
       "            window._Plotly = Plotly;\n",
       "        });\n",
       "        }\n",
       "        </script>\n",
       "        "
      ]
     },
     "metadata": {},
     "output_type": "display_data"
    }
   ],
   "source": [
    "import os, sys\n",
    "import glob\n",
    "import time\n",
    "from datetime import timedelta, datetime\n",
    "import pandas as pd\n",
    "from plotly.graph_objs import Scatter,Layout\n",
    "import plotly\n",
    "import plotly.offline as py\n",
    "import numpy as np\n",
    "import plotly.graph_objs as go\n",
    "from plotly.subplots import make_subplots\n",
    "import plotly.express as px\n",
    "#setting offilne\n",
    "plotly.offline.init_notebook_mode(connected=True)\n",
    "import pyarrow.parquet as pq\n",
    "import json\n",
    "from gezi import tqdm\n",
    "import gezi\n",
    "import qgrid\n",
    "import pymp\n",
    "from multiprocessing import Pool, Manager, cpu_count \n",
    "from collections import Counter"
   ]
  },
  {
   "cell_type": "code",
   "execution_count": 2,
   "metadata": {},
   "outputs": [],
   "source": [
    "def gtime(timestamp):\n",
    "  x = time.localtime(timestamp)\n",
    "  return f'{x.tm_mon}-{x.tm_mday}'"
   ]
  },
  {
   "cell_type": "code",
   "execution_count": 3,
   "metadata": {},
   "outputs": [],
   "source": [
    "def deal(mark):\n",
    "  dc = gezi.read_parquet(f'../input/{mark}/context.parquet')\n",
    "  dids = set(dc.did.values)\n",
    "  vids = set(dc.vid.values)\n",
    "  dc['id'] = dc.did + '\\t' + dc.vid.astype(str)  \n",
    "  ids = set(dc.id)\n",
    "  du = gezi.read_parquet(f'../input/{mark}/user.parquet')\n",
    "  du['watches'] =  du.watch.apply(json.loads)\n",
    "  now_time = gtime(dc.timestamp.values[0])\n",
    "  did_vids = []\n",
    "  for _, row in tqdm(du.iterrows(), total=len(du)):\n",
    "    did = row['did']\n",
    "    watches = row['watches']\n",
    "    for timestamp, vid in watches:\n",
    "      if gtime(timestamp) == now_time:\n",
    "        id_ = did + str(vid)\n",
    "        if vid in vids and id_ not in ids:\n",
    "          did_vids += [(did, vid, timestamp)]\n",
    "  dids, vids, timestamps = zip(*did_vids)\n",
    "  dvs = pd.DataFrame({'did': dids, 'vid': vids, 'timestamp': timestamps})\n",
    "  dc_vid = dc[['vid', 'prev']].drop_duplicates()\n",
    "  m = {}\n",
    "  for _, row in dc_vid.iterrows():\n",
    "    vid, prev = row['vid'], row['prev']\n",
    "    if vid not in m:\n",
    "      m[vid] = Counter()\n",
    "    m[vid][prev] += 1\n",
    "  prevs = []\n",
    "  for vid in dc_vid.vid:\n",
    "    prevs += [m[vid].most_common(1)[0][0]]\n",
    "  dc_vid = pd.DataFrame({'vid': dc_vid.vid.values, 'prev': prevs})\n",
    "  dc_vid = dc_vid.drop_duplicates()\n",
    "  dvs = dvs.merge(dc_vid, on='vid', how='left')\n",
    "  dc_did = dc.drop(['label', 'index', 'prev', 'id', 'timestamp', 'vid'], axis=1)\n",
    "  dc_did = dc_did.drop_duplicates()\n",
    "  dc_did = dc_did.groupby('did', as_index=False).first()\n",
    "  dvs = dvs.merge(dc_did, on='did', how='left')\n",
    "  dvs['label'] = 1\n",
    "  dvs['index'] = -1\n",
    "  dc = dc.drop(['id'], 1)\n",
    "  dvall = pd.concat([dc, dvs])\n",
    "  dvall.to_csv(f'../input/{mark}/context.csv', index=False)"
   ]
  },
  {
   "cell_type": "code",
   "execution_count": 4,
   "metadata": {},
   "outputs": [
    {
     "name": "stderr",
     "output_type": "stream",
     "text": [
      "100%|██████████| 63661/63661 [00:43<00:00, 1454.09it/s]\n",
      " 95%|█████████▌| 63090/66128 [00:43<00:01, 1571.76it/s]\n",
      " 79%|███████▉  | 56177/70992 [00:38<00:09, 1534.24it/s]\n",
      "100%|██████████| 69144/69144 [00:46<00:00, 1476.36it/s]\n",
      "100%|██████████| 64060/64060 [00:46<00:00, 1377.72it/s]\n",
      " 83%|████████▎ | 58997/70992 [00:40<00:07, 1532.05it/s]\n",
      " 68%|██████▊   | 56195/82827 [00:37<00:19, 1394.80it/s]\n",
      " 89%|████████▉ | 60857/68202 [00:41<00:05, 1389.46it/s]\n",
      " 76%|███████▌  | 62706/82827 [00:42<00:12, 1602.98it/s]\n",
      " 77%|███████▋  | 62776/81584 [00:42<00:11, 1696.42it/s]\n",
      " 87%|████████▋ | 65606/75017 [00:48<00:07, 1223.41it/s]\n",
      "100%|██████████| 72722/72722 [00:48<00:00, 1510.24it/s]\n",
      " 90%|████████▉ | 68311/76123 [00:45<00:05, 1360.66it/s]\n",
      "100%|██████████| 70992/70992 [00:49<00:00, 1437.80it/s]\n",
      "100%|██████████| 71798/71798 [00:48<00:00, 1466.25it/s]\n",
      " 93%|█████████▎| 71871/77435 [00:49<00:03, 1480.07it/s]\n",
      "100%|██████████| 73436/73436 [00:50<00:00, 1454.07it/s]\n",
      " 97%|█████████▋| 73792/76123 [00:49<00:01, 1786.31it/s]\n",
      " 85%|████████▌ | 71654/84039 [00:48<00:10, 1165.14it/s]\n",
      "100%|██████████| 76123/76123 [00:50<00:00, 1493.38it/s]\n",
      "100%|█████████▉| 75988/76329 [00:52<00:00, 1429.74it/s]\n",
      "100%|██████████| 76329/76329 [00:53<00:00, 1438.43it/s]\n",
      "100%|██████████| 82735/82735 [00:56<00:00, 1466.41it/s]\n",
      "100%|██████████| 80136/80136 [00:54<00:00, 1480.51it/s]\n",
      "100%|██████████| 81584/81584 [00:55<00:00, 1461.91it/s]\n",
      " 89%|████████▉ | 82018/92104 [00:54<00:07, 1325.21it/s]\n",
      "100%|██████████| 92295/92295 [00:58<00:00, 1571.10it/s]\n",
      "100%|██████████| 84039/84039 [00:57<00:00, 1434.56it/s]\n",
      "100%|██████████| 88300/88300 [01:00<00:00, 1463.74it/s]\n",
      "100%|██████████| 92104/92104 [01:01<00:00, 1508.90it/s]\n"
     ]
    },
    {
     "name": "stdout",
     "output_type": "stream",
     "text": [
      "done 19\n"
     ]
    },
    {
     "name": "stderr",
     "output_type": "stream",
     "text": [
      "convert: 100%|██████████| 1/1 [03:14<00:00, 194.97s/it]\n"
     ]
    },
    {
     "name": "stdout",
     "output_type": "stream",
     "text": [
      "done 18\n"
     ]
    },
    {
     "name": "stderr",
     "output_type": "stream",
     "text": [
      "convert: 100%|██████████| 1/1 [03:15<00:00, 195.17s/it]\n"
     ]
    },
    {
     "name": "stdout",
     "output_type": "stream",
     "text": [
      "done 28\n"
     ]
    },
    {
     "name": "stderr",
     "output_type": "stream",
     "text": [
      "convert: 100%|██████████| 1/1 [03:22<00:00, 202.72s/it]\n"
     ]
    },
    {
     "name": "stdout",
     "output_type": "stream",
     "text": [
      "done 20\n"
     ]
    },
    {
     "name": "stderr",
     "output_type": "stream",
     "text": [
      "convert: 100%|██████████| 1/1 [03:24<00:00, 204.14s/it]\n"
     ]
    },
    {
     "name": "stdout",
     "output_type": "stream",
     "text": [
      "done 11\n"
     ]
    },
    {
     "name": "stderr",
     "output_type": "stream",
     "text": [
      "convert: 100%|██████████| 1/1 [03:25<00:00, 205.62s/it]\n"
     ]
    },
    {
     "name": "stdout",
     "output_type": "stream",
     "text": [
      "done 15\n"
     ]
    },
    {
     "name": "stderr",
     "output_type": "stream",
     "text": [
      "convert: 100%|██████████| 1/1 [03:27<00:00, 207.49s/it]\n"
     ]
    },
    {
     "name": "stdout",
     "output_type": "stream",
     "text": [
      "done 4\n"
     ]
    },
    {
     "name": "stderr",
     "output_type": "stream",
     "text": [
      "convert: 100%|██████████| 1/1 [03:28<00:00, 208.05s/it]\n"
     ]
    },
    {
     "name": "stdout",
     "output_type": "stream",
     "text": [
      "done 14\n"
     ]
    },
    {
     "name": "stderr",
     "output_type": "stream",
     "text": [
      "convert: 100%|██████████| 1/1 [03:33<00:00, 213.28s/it]\n"
     ]
    },
    {
     "name": "stdout",
     "output_type": "stream",
     "text": [
      "done 5\n"
     ]
    },
    {
     "name": "stderr",
     "output_type": "stream",
     "text": [
      "convert: 100%|██████████| 1/1 [03:36<00:00, 216.35s/it]\n"
     ]
    },
    {
     "name": "stdout",
     "output_type": "stream",
     "text": [
      "done 8\n"
     ]
    },
    {
     "name": "stderr",
     "output_type": "stream",
     "text": [
      "convert: 100%|██████████| 1/1 [03:38<00:00, 218.95s/it]\n"
     ]
    },
    {
     "name": "stdout",
     "output_type": "stream",
     "text": [
      "done 21\n"
     ]
    },
    {
     "name": "stderr",
     "output_type": "stream",
     "text": [
      "convert: 100%|██████████| 1/1 [03:39<00:00, 219.11s/it]\n"
     ]
    },
    {
     "name": "stdout",
     "output_type": "stream",
     "text": [
      "done 12\n"
     ]
    },
    {
     "name": "stderr",
     "output_type": "stream",
     "text": [
      "convert: 100%|██████████| 1/1 [03:40<00:00, 220.15s/it]\n"
     ]
    },
    {
     "name": "stdout",
     "output_type": "stream",
     "text": [
      "done 13\n"
     ]
    },
    {
     "name": "stderr",
     "output_type": "stream",
     "text": [
      "convert: 100%|██████████| 1/1 [03:40<00:00, 220.49s/it]\n"
     ]
    },
    {
     "name": "stdout",
     "output_type": "stream",
     "text": [
      "done 6\n"
     ]
    },
    {
     "name": "stderr",
     "output_type": "stream",
     "text": [
      "\n",
      "convert: 100%|██████████| 1/1 [03:40<00:00, 220.99s/it]"
     ]
    },
    {
     "name": "stdout",
     "output_type": "stream",
     "text": [
      "done 7\n"
     ]
    },
    {
     "name": "stderr",
     "output_type": "stream",
     "text": [
      "convert: 100%|██████████| 1/1 [03:41<00:00, 221.16s/it]\n"
     ]
    },
    {
     "name": "stdout",
     "output_type": "stream",
     "text": [
      "done 29\n"
     ]
    },
    {
     "name": "stderr",
     "output_type": "stream",
     "text": [
      "convert: 100%|██████████| 1/1 [03:45<00:00, 225.81s/it]\n"
     ]
    },
    {
     "name": "stdout",
     "output_type": "stream",
     "text": [
      "done 9\n"
     ]
    },
    {
     "name": "stderr",
     "output_type": "stream",
     "text": [
      "convert: 100%|██████████| 1/1 [03:47<00:00, 227.17s/it]\n"
     ]
    },
    {
     "name": "stdout",
     "output_type": "stream",
     "text": [
      "done 16\n"
     ]
    },
    {
     "name": "stderr",
     "output_type": "stream",
     "text": [
      "convert: 100%|██████████| 1/1 [03:48<00:00, 228.85s/it]\n"
     ]
    },
    {
     "name": "stdout",
     "output_type": "stream",
     "text": [
      "done 17\n"
     ]
    },
    {
     "name": "stderr",
     "output_type": "stream",
     "text": [
      "convert: 100%|██████████| 1/1 [03:48<00:00, 228.19s/it]\n"
     ]
    },
    {
     "name": "stdout",
     "output_type": "stream",
     "text": [
      "done 1\n"
     ]
    },
    {
     "name": "stderr",
     "output_type": "stream",
     "text": [
      "\n"
     ]
    },
    {
     "name": "stdout",
     "output_type": "stream",
     "text": [
      "done 10\n"
     ]
    },
    {
     "name": "stderr",
     "output_type": "stream",
     "text": [
      "convert: 100%|██████████| 1/1 [03:52<00:00, 232.11s/it]\n"
     ]
    },
    {
     "name": "stdout",
     "output_type": "stream",
     "text": [
      "done 23\n"
     ]
    },
    {
     "name": "stderr",
     "output_type": "stream",
     "text": [
      "convert: 100%|██████████| 1/1 [03:51<00:00, 231.89s/it]\n"
     ]
    },
    {
     "name": "stdout",
     "output_type": "stream",
     "text": [
      "done 30\n"
     ]
    },
    {
     "name": "stderr",
     "output_type": "stream",
     "text": [
      "convert: 100%|██████████| 1/1 [03:51<00:00, 231.50s/it]\n"
     ]
    },
    {
     "name": "stdout",
     "output_type": "stream",
     "text": [
      "done 3\n"
     ]
    },
    {
     "name": "stderr",
     "output_type": "stream",
     "text": [
      "convert: 100%|██████████| 1/1 [03:53<00:00, 233.64s/it]\n"
     ]
    },
    {
     "name": "stdout",
     "output_type": "stream",
     "text": [
      "done 2\n"
     ]
    },
    {
     "name": "stderr",
     "output_type": "stream",
     "text": [
      "convert: 100%|██████████| 1/1 [03:55<00:00, 235.60s/it]\n"
     ]
    },
    {
     "name": "stdout",
     "output_type": "stream",
     "text": [
      "done 27\n"
     ]
    },
    {
     "name": "stderr",
     "output_type": "stream",
     "text": [
      "convert: 100%|██████████| 1/1 [03:55<00:00, 235.90s/it]\n"
     ]
    },
    {
     "name": "stdout",
     "output_type": "stream",
     "text": [
      "done 24\n"
     ]
    },
    {
     "name": "stderr",
     "output_type": "stream",
     "text": [
      "convert: 100%|██████████| 1/1 [03:56<00:00, 236.78s/it]\n"
     ]
    },
    {
     "name": "stdout",
     "output_type": "stream",
     "text": [
      "done 22\n"
     ]
    },
    {
     "name": "stderr",
     "output_type": "stream",
     "text": [
      "convert: 100%|██████████| 1/1 [04:01<00:00, 241.52s/it]\n"
     ]
    },
    {
     "name": "stdout",
     "output_type": "stream",
     "text": [
      "done 26\n"
     ]
    },
    {
     "name": "stderr",
     "output_type": "stream",
     "text": [
      "convert: 100%|██████████| 1/1 [04:08<00:00, 248.23s/it]\n"
     ]
    },
    {
     "name": "stdout",
     "output_type": "stream",
     "text": [
      "done 25\n"
     ]
    },
    {
     "name": "stderr",
     "output_type": "stream",
     "text": [
      "convert: 100%|██████████| 1/1 [04:08<00:00, 248.70s/it]\n"
     ]
    }
   ],
   "source": [
    "marks = [f'train/part_{i + 1}' for i in range(30)] \n",
    "ps = min(len(marks), cpu_count())\n",
    "with pymp.Parallel(ps) as p:\n",
    "  for i in tqdm(p.range(len(marks)),desc='convert'):\n",
    "    deal(marks[i])\n",
    "    print(f'done {i + 1}')"
   ]
  },
  {
   "cell_type": "code",
   "execution_count": 8,
   "metadata": {},
   "outputs": [],
   "source": [
    "dce = gezi.read_parquet(f'../input/eval/context.parquet')\n",
    "dce.to_csv('../input/eval/context.csv', index=False)"
   ]
  },
  {
   "cell_type": "code",
   "execution_count": 7,
   "metadata": {},
   "outputs": [
    {
     "data": {
      "text/plain": [
       "5565249"
      ]
     },
     "execution_count": 7,
     "metadata": {},
     "output_type": "execute_result"
    }
   ],
   "source": [
    "len(dce)"
   ]
  },
  {
   "cell_type": "code",
   "execution_count": null,
   "metadata": {},
   "outputs": [],
   "source": []
  }
 ],
 "metadata": {
  "kernelspec": {
   "display_name": "Python 3",
   "language": "python",
   "name": "python3"
  },
  "language_info": {
   "codemirror_mode": {
    "name": "ipython",
    "version": 3
   },
   "file_extension": ".py",
   "mimetype": "text/x-python",
   "name": "python",
   "nbconvert_exporter": "python",
   "pygments_lexer": "ipython3",
   "version": "3.6.8"
  }
 },
 "nbformat": 4,
 "nbformat_minor": 2
}
