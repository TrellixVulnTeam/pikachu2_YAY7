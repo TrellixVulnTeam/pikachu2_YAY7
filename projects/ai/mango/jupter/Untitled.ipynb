{
 "cells": [
  {
   "cell_type": "code",
   "execution_count": 11,
   "metadata": {},
   "outputs": [
    {
     "data": {
      "text/html": [
       "        <script type=\"text/javascript\">\n",
       "        window.PlotlyConfig = {MathJaxConfig: 'local'};\n",
       "        if (window.MathJax) {MathJax.Hub.Config({SVG: {font: \"STIX-Web\"}});}\n",
       "        if (typeof require !== 'undefined') {\n",
       "        require.undef(\"plotly\");\n",
       "        requirejs.config({\n",
       "            paths: {\n",
       "                'plotly': ['https://cdn.plot.ly/plotly-latest.min']\n",
       "            }\n",
       "        });\n",
       "        require(['plotly'], function(Plotly) {\n",
       "            window._Plotly = Plotly;\n",
       "        });\n",
       "        }\n",
       "        </script>\n",
       "        "
      ]
     },
     "metadata": {},
     "output_type": "display_data"
    }
   ],
   "source": [
    "import os, sys\n",
    "import glob\n",
    "import time\n",
    "from datetime import timedelta, datetime\n",
    "import json\n",
    "import pandas as pd\n",
    "from plotly.graph_objs import Scatter,Layout\n",
    "import plotly\n",
    "import plotly.offline as py\n",
    "import numpy as np\n",
    "import plotly.graph_objs as go\n",
    "from plotly.subplots import make_subplots\n",
    "import plotly.express as px\n",
    "#setting offilne\n",
    "plotly.offline.init_notebook_mode(connected=True)\n",
    "import pyarrow.parquet as pq\n",
    "from gezi import tqdm\n",
    "import json\n",
    "import gezi"
   ]
  },
  {
   "cell_type": "code",
   "execution_count": 15,
   "metadata": {},
   "outputs": [],
   "source": [
    "d = gezi.read_parquet('../input/eval/item.parquet')"
   ]
  },
  {
   "cell_type": "code",
   "execution_count": 16,
   "metadata": {},
   "outputs": [
    {
     "data": {
      "text/html": [
       "<div>\n",
       "<style scoped>\n",
       "    .dataframe tbody tr th:only-of-type {\n",
       "        vertical-align: middle;\n",
       "    }\n",
       "\n",
       "    .dataframe tbody tr th {\n",
       "        vertical-align: top;\n",
       "    }\n",
       "\n",
       "    .dataframe thead th {\n",
       "        text-align: right;\n",
       "    }\n",
       "</style>\n",
       "<table border=\"1\" class=\"dataframe\">\n",
       "  <thead>\n",
       "    <tr style=\"text-align: right;\">\n",
       "      <th></th>\n",
       "      <th>vid</th>\n",
       "      <th>title_length</th>\n",
       "      <th>timestamp</th>\n",
       "      <th>stars</th>\n",
       "      <th>cid</th>\n",
       "      <th>class_id</th>\n",
       "      <th>is_intact</th>\n",
       "      <th>second_class</th>\n",
       "      <th>duration</th>\n",
       "      <th>ctr</th>\n",
       "      <th>vv</th>\n",
       "    </tr>\n",
       "  </thead>\n",
       "  <tbody>\n",
       "    <tr>\n",
       "      <th>0</th>\n",
       "      <td>5893106</td>\n",
       "      <td>25</td>\n",
       "      <td>1411552000</td>\n",
       "      <td>[]</td>\n",
       "      <td>600008821</td>\n",
       "      <td>3174145329</td>\n",
       "      <td>2234347078</td>\n",
       "      <td>0</td>\n",
       "      <td>86.110001</td>\n",
       "      <td>0.000</td>\n",
       "      <td>1004.0</td>\n",
       "    </tr>\n",
       "    <tr>\n",
       "      <th>1</th>\n",
       "      <td>15819492</td>\n",
       "      <td>98</td>\n",
       "      <td>1407204002</td>\n",
       "      <td>[2950753864, 3600550670, 3606342894, 333836411...</td>\n",
       "      <td>638675564</td>\n",
       "      <td>1413776458</td>\n",
       "      <td>2234347078</td>\n",
       "      <td>0</td>\n",
       "      <td>6954.200195</td>\n",
       "      <td>0.065</td>\n",
       "      <td>1392.0</td>\n",
       "    </tr>\n",
       "    <tr>\n",
       "      <th>2</th>\n",
       "      <td>16814925</td>\n",
       "      <td>21</td>\n",
       "      <td>1380506136</td>\n",
       "      <td>[]</td>\n",
       "      <td>511097257</td>\n",
       "      <td>3174145329</td>\n",
       "      <td>2234347078</td>\n",
       "      <td>0</td>\n",
       "      <td>317.190002</td>\n",
       "      <td>0.000</td>\n",
       "      <td>4360.0</td>\n",
       "    </tr>\n",
       "    <tr>\n",
       "      <th>3</th>\n",
       "      <td>38297769</td>\n",
       "      <td>112</td>\n",
       "      <td>1425690005</td>\n",
       "      <td>[3115812425, 2144664037, 1221620183, 325915182...</td>\n",
       "      <td>2168442617</td>\n",
       "      <td>1413776458</td>\n",
       "      <td>472867291</td>\n",
       "      <td>0</td>\n",
       "      <td>42.509998</td>\n",
       "      <td>0.000</td>\n",
       "      <td>5832.0</td>\n",
       "    </tr>\n",
       "    <tr>\n",
       "      <th>4</th>\n",
       "      <td>53280242</td>\n",
       "      <td>85</td>\n",
       "      <td>1367558225</td>\n",
       "      <td>[591536023, 1613895128, 2189138809, 559740265,...</td>\n",
       "      <td>155617312</td>\n",
       "      <td>3443952599</td>\n",
       "      <td>3172394293</td>\n",
       "      <td>0</td>\n",
       "      <td>376.049988</td>\n",
       "      <td>0.000</td>\n",
       "      <td>248.0</td>\n",
       "    </tr>\n",
       "    <tr>\n",
       "      <th>...</th>\n",
       "      <td>...</td>\n",
       "      <td>...</td>\n",
       "      <td>...</td>\n",
       "      <td>...</td>\n",
       "      <td>...</td>\n",
       "      <td>...</td>\n",
       "      <td>...</td>\n",
       "      <td>...</td>\n",
       "      <td>...</td>\n",
       "      <td>...</td>\n",
       "      <td>...</td>\n",
       "    </tr>\n",
       "    <tr>\n",
       "      <th>57230</th>\n",
       "      <td>4248901384</td>\n",
       "      <td>21</td>\n",
       "      <td>1422849565</td>\n",
       "      <td>[3902504787, 1235418045, 3804658193]</td>\n",
       "      <td>4074303298</td>\n",
       "      <td>1820266297</td>\n",
       "      <td>2234347078</td>\n",
       "      <td>0</td>\n",
       "      <td>1387.569946</td>\n",
       "      <td>0.000</td>\n",
       "      <td>5376.0</td>\n",
       "    </tr>\n",
       "    <tr>\n",
       "      <th>57231</th>\n",
       "      <td>4251549294</td>\n",
       "      <td>102</td>\n",
       "      <td>1331483047</td>\n",
       "      <td>[3491274685, 3673020319, 420212420, 2851531837...</td>\n",
       "      <td>3840315261</td>\n",
       "      <td>1413776458</td>\n",
       "      <td>3445748691</td>\n",
       "      <td>0</td>\n",
       "      <td>57.770000</td>\n",
       "      <td>0.000</td>\n",
       "      <td>80.0</td>\n",
       "    </tr>\n",
       "    <tr>\n",
       "      <th>57232</th>\n",
       "      <td>4255628613</td>\n",
       "      <td>33</td>\n",
       "      <td>1413545288</td>\n",
       "      <td>[1134598214]</td>\n",
       "      <td>1016220003</td>\n",
       "      <td>1820266297</td>\n",
       "      <td>2234347078</td>\n",
       "      <td>0</td>\n",
       "      <td>35.970001</td>\n",
       "      <td>0.000</td>\n",
       "      <td>480.0</td>\n",
       "    </tr>\n",
       "    <tr>\n",
       "      <th>57233</th>\n",
       "      <td>4272496705</td>\n",
       "      <td>80</td>\n",
       "      <td>1387029762</td>\n",
       "      <td>[3309131045, 2561243119, 184102567, 2880021111...</td>\n",
       "      <td>435329116</td>\n",
       "      <td>1820266297</td>\n",
       "      <td>472867291</td>\n",
       "      <td>0</td>\n",
       "      <td>115.540001</td>\n",
       "      <td>0.000</td>\n",
       "      <td>92.0</td>\n",
       "    </tr>\n",
       "    <tr>\n",
       "      <th>57234</th>\n",
       "      <td>4283547666</td>\n",
       "      <td>58</td>\n",
       "      <td>1424684908</td>\n",
       "      <td>[2142910698, 1316768238, 1853987563, 1984414365]</td>\n",
       "      <td>2753664459</td>\n",
       "      <td>470292959</td>\n",
       "      <td>2234347078</td>\n",
       "      <td>0</td>\n",
       "      <td>154.779999</td>\n",
       "      <td>0.045</td>\n",
       "      <td>10440.0</td>\n",
       "    </tr>\n",
       "  </tbody>\n",
       "</table>\n",
       "<p>57235 rows × 11 columns</p>\n",
       "</div>"
      ],
      "text/plain": [
       "              vid  title_length   timestamp  \\\n",
       "0         5893106            25  1411552000   \n",
       "1        15819492            98  1407204002   \n",
       "2        16814925            21  1380506136   \n",
       "3        38297769           112  1425690005   \n",
       "4        53280242            85  1367558225   \n",
       "...           ...           ...         ...   \n",
       "57230  4248901384            21  1422849565   \n",
       "57231  4251549294           102  1331483047   \n",
       "57232  4255628613            33  1413545288   \n",
       "57233  4272496705            80  1387029762   \n",
       "57234  4283547666            58  1424684908   \n",
       "\n",
       "                                                   stars         cid  \\\n",
       "0                                                     []   600008821   \n",
       "1      [2950753864, 3600550670, 3606342894, 333836411...   638675564   \n",
       "2                                                     []   511097257   \n",
       "3      [3115812425, 2144664037, 1221620183, 325915182...  2168442617   \n",
       "4      [591536023, 1613895128, 2189138809, 559740265,...   155617312   \n",
       "...                                                  ...         ...   \n",
       "57230               [3902504787, 1235418045, 3804658193]  4074303298   \n",
       "57231  [3491274685, 3673020319, 420212420, 2851531837...  3840315261   \n",
       "57232                                       [1134598214]  1016220003   \n",
       "57233  [3309131045, 2561243119, 184102567, 2880021111...   435329116   \n",
       "57234   [2142910698, 1316768238, 1853987563, 1984414365]  2753664459   \n",
       "\n",
       "         class_id   is_intact  second_class     duration    ctr       vv  \n",
       "0      3174145329  2234347078             0    86.110001  0.000   1004.0  \n",
       "1      1413776458  2234347078             0  6954.200195  0.065   1392.0  \n",
       "2      3174145329  2234347078             0   317.190002  0.000   4360.0  \n",
       "3      1413776458   472867291             0    42.509998  0.000   5832.0  \n",
       "4      3443952599  3172394293             0   376.049988  0.000    248.0  \n",
       "...           ...         ...           ...          ...    ...      ...  \n",
       "57230  1820266297  2234347078             0  1387.569946  0.000   5376.0  \n",
       "57231  1413776458  3445748691             0    57.770000  0.000     80.0  \n",
       "57232  1820266297  2234347078             0    35.970001  0.000    480.0  \n",
       "57233  1820266297   472867291             0   115.540001  0.000     92.0  \n",
       "57234   470292959  2234347078             0   154.779999  0.045  10440.0  \n",
       "\n",
       "[57235 rows x 11 columns]"
      ]
     },
     "execution_count": 16,
     "metadata": {},
     "output_type": "execute_result"
    }
   ],
   "source": [
    "d"
   ]
  },
  {
   "cell_type": "code",
   "execution_count": 18,
   "metadata": {},
   "outputs": [
    {
     "data": {
      "text/plain": [
       "0                                                       []\n",
       "1        [2950753864, 3600550670, 3606342894, 333836411...\n",
       "2                                                       []\n",
       "3        [3115812425, 2144664037, 1221620183, 325915182...\n",
       "4        [591536023, 1613895128, 2189138809, 559740265,...\n",
       "                               ...                        \n",
       "57230                 [3902504787, 1235418045, 3804658193]\n",
       "57231    [3491274685, 3673020319, 420212420, 2851531837...\n",
       "57232                                         [1134598214]\n",
       "57233    [3309131045, 2561243119, 184102567, 2880021111...\n",
       "57234     [2142910698, 1316768238, 1853987563, 1984414365]\n",
       "Name: stars, Length: 57235, dtype: object"
      ]
     },
     "execution_count": 18,
     "metadata": {},
     "output_type": "execute_result"
    }
   ],
   "source": [
    "d.stars"
   ]
  },
  {
   "cell_type": "code",
   "execution_count": 19,
   "metadata": {},
   "outputs": [],
   "source": [
    "d['num_stars'] = d.stars.apply(len)"
   ]
  },
  {
   "cell_type": "code",
   "execution_count": 20,
   "metadata": {},
   "outputs": [
    {
     "data": {
      "text/plain": [
       "count    57235.000000\n",
       "mean         3.952389\n",
       "std          4.368227\n",
       "min          0.000000\n",
       "25%          1.000000\n",
       "50%          3.000000\n",
       "75%          6.000000\n",
       "max         34.000000\n",
       "Name: num_stars, dtype: float64"
      ]
     },
     "execution_count": 20,
     "metadata": {},
     "output_type": "execute_result"
    }
   ],
   "source": [
    "d.num_stars.describe()"
   ]
  },
  {
   "cell_type": "code",
   "execution_count": 22,
   "metadata": {},
   "outputs": [
    {
     "data": {
      "text/plain": [
       "0.05865292216301214"
      ]
     },
     "execution_count": 22,
     "metadata": {},
     "output_type": "execute_result"
    }
   ],
   "source": [
    "len(d[d.num_stars>10]) / len(d)"
   ]
  },
  {
   "cell_type": "code",
   "execution_count": null,
   "metadata": {},
   "outputs": [],
   "source": [
    "d.ctr.describe()"
   ]
  },
  {
   "cell_type": "code",
   "execution_count": null,
   "metadata": {},
   "outputs": [],
   "source": [
    "d.vv.describe()"
   ]
  },
  {
   "cell_type": "code",
   "execution_count": null,
   "metadata": {},
   "outputs": [],
   "source": [
    "d.title_length.describe()"
   ]
  },
  {
   "cell_type": "code",
   "execution_count": null,
   "metadata": {},
   "outputs": [],
   "source": [
    "d.duration.describe()"
   ]
  },
  {
   "cell_type": "code",
   "execution_count": null,
   "metadata": {},
   "outputs": [],
   "source": [
    "len(d[d.duration<=600]) / len(d)"
   ]
  },
  {
   "cell_type": "code",
   "execution_count": null,
   "metadata": {},
   "outputs": [],
   "source": [
    "len(d[d.duration<=3600]) / len(d)"
   ]
  },
  {
   "cell_type": "code",
   "execution_count": null,
   "metadata": {},
   "outputs": [],
   "source": [
    "len(d[d.duration<=18000]) / len(d)"
   ]
  },
  {
   "cell_type": "code",
   "execution_count": null,
   "metadata": {},
   "outputs": [],
   "source": [
    "len(d[d.duration<=10000]) / len(d)"
   ]
  },
  {
   "cell_type": "code",
   "execution_count": null,
   "metadata": {},
   "outputs": [],
   "source": [
    "d.vv.min()"
   ]
  },
  {
   "cell_type": "code",
   "execution_count": null,
   "metadata": {},
   "outputs": [],
   "source": [
    "d.vv.max()"
   ]
  },
  {
   "cell_type": "code",
   "execution_count": null,
   "metadata": {},
   "outputs": [],
   "source": [
    "len(d[d.vv<=2608]) / len(d)"
   ]
  },
  {
   "cell_type": "code",
   "execution_count": null,
   "metadata": {},
   "outputs": [],
   "source": [
    "len(d[d.vv<=100000]) / len(d)"
   ]
  },
  {
   "cell_type": "code",
   "execution_count": 1,
   "metadata": {},
   "outputs": [],
   "source": [
    "import tensorflow as tf"
   ]
  },
  {
   "cell_type": "code",
   "execution_count": 2,
   "metadata": {},
   "outputs": [],
   "source": [
    "import tensorflow.keras.backend as K"
   ]
  },
  {
   "cell_type": "code",
   "execution_count": 3,
   "metadata": {},
   "outputs": [],
   "source": [
    "K.set_learning_phase(1)"
   ]
  },
  {
   "cell_type": "code",
   "execution_count": 4,
   "metadata": {},
   "outputs": [],
   "source": [
    "# bn = tf.layers.batch_normalization(tf.constant([0.0]), training=True)\n",
    "# print(tf.get_collection(tf.GraphKeys.UPDATE_OPS))"
   ]
  },
  {
   "cell_type": "code",
   "execution_count": 5,
   "metadata": {},
   "outputs": [
    {
     "name": "stdout",
     "output_type": "stream",
     "text": [
      "[]\n"
     ]
    }
   ],
   "source": [
    "bn = tf.keras.layers.BatchNormalization()\n",
    "bn(tf.constant([0.]))\n",
    "print(tf.get_collection(tf.GraphKeys.UPDATE_OPS))"
   ]
  },
  {
   "cell_type": "code",
   "execution_count": 6,
   "metadata": {},
   "outputs": [],
   "source": [
    "ops = tf.get_default_graph().get_operations()\n",
    "update_ops = [x for x in ops if (\"AssignMovingAvg\" in x.name and x.type==\"AssignSubVariableOp\")]\n",
    "tf.add_to_collection(tf.GraphKeys.UPDATE_OPS, update_ops)"
   ]
  },
  {
   "cell_type": "code",
   "execution_count": 7,
   "metadata": {},
   "outputs": [
    {
     "name": "stdout",
     "output_type": "stream",
     "text": [
      "[[<tf.Operation 'batch_normalization/AssignMovingAvg/AssignSubVariableOp' type=AssignSubVariableOp>, <tf.Operation 'batch_normalization/AssignMovingAvg_1/AssignSubVariableOp' type=AssignSubVariableOp>]]\n"
     ]
    }
   ],
   "source": [
    "print(tf.get_collection(tf.GraphKeys.UPDATE_OPS))"
   ]
  },
  {
   "cell_type": "code",
   "execution_count": null,
   "metadata": {},
   "outputs": [],
   "source": []
  }
 ],
 "metadata": {
  "kernelspec": {
   "display_name": "Python 3",
   "language": "python",
   "name": "python3"
  },
  "language_info": {
   "codemirror_mode": {
    "name": "ipython",
    "version": 3
   },
   "file_extension": ".py",
   "mimetype": "text/x-python",
   "name": "python",
   "nbconvert_exporter": "python",
   "pygments_lexer": "ipython3",
   "version": "3.6.8"
  }
 },
 "nbformat": 4,
 "nbformat_minor": 2
}
