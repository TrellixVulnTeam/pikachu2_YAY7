{
 "cells": [
  {
   "cell_type": "code",
   "execution_count": 5,
   "metadata": {},
   "outputs": [],
   "source": [
    "import numpy as np\n",
    "import tensorflow as tf"
   ]
  },
  {
   "cell_type": "code",
   "execution_count": 6,
   "metadata": {},
   "outputs": [],
   "source": [
    "def get_angles(pos, i, d_model):\n",
    "  angle_rates = 1 / np.power(10000, (2 * (i//2)) / np.float32(d_model))\n",
    "  return pos * angle_rates\n",
    "\n",
    "def positional_encoding(position, d_model):\n",
    "  angle_rads = get_angles(np.arange(position)[:, np.newaxis],\n",
    "                          np.arange(d_model)[np.newaxis, :],\n",
    "                          d_model)\n",
    "  \n",
    "  # apply sin to even indices in the array; 2i\n",
    "  angle_rads[:, 0::2] = np.sin(angle_rads[:, 0::2])\n",
    "  \n",
    "  # apply cos to odd indices in the array; 2i+1\n",
    "  angle_rads[:, 1::2] = np.cos(angle_rads[:, 1::2])\n",
    "    \n",
    "  pos_encoding = angle_rads[np.newaxis, ...]\n",
    "    \n",
    "  return tf.cast(pos_encoding, dtype=tf.float32)"
   ]
  },
  {
   "cell_type": "code",
   "execution_count": 7,
   "metadata": {},
   "outputs": [],
   "source": [
    "tf.enable_eager_execution()"
   ]
  },
  {
   "cell_type": "code",
   "execution_count": 8,
   "metadata": {},
   "outputs": [
    {
     "data": {
      "text/plain": [
       "<tf.Tensor: id=1, shape=(1, 3, 30), dtype=float32, numpy=\n",
       "array([[[ 0.0000000e+00,  1.0000000e+00,  0.0000000e+00,  1.0000000e+00,\n",
       "          0.0000000e+00,  1.0000000e+00,  0.0000000e+00,  1.0000000e+00,\n",
       "          0.0000000e+00,  1.0000000e+00,  0.0000000e+00,  1.0000000e+00,\n",
       "          0.0000000e+00,  1.0000000e+00,  0.0000000e+00,  1.0000000e+00,\n",
       "          0.0000000e+00,  1.0000000e+00,  0.0000000e+00,  1.0000000e+00,\n",
       "          0.0000000e+00,  1.0000000e+00,  0.0000000e+00,  1.0000000e+00,\n",
       "          0.0000000e+00,  1.0000000e+00,  0.0000000e+00,  1.0000000e+00,\n",
       "          0.0000000e+00,  1.0000000e+00],\n",
       "        [ 8.4147096e-01,  5.4030228e-01,  5.1513875e-01,  8.5710680e-01,\n",
       "          2.8869590e-01,  9.5742083e-01,  1.5782665e-01,  9.8746681e-01,\n",
       "          8.5664466e-02,  9.9632406e-01,  4.6399225e-02,  9.9892300e-01,\n",
       "          2.5116222e-02,  9.9968451e-01,  1.3593146e-02,  9.9990761e-01,\n",
       "          7.3563564e-03,  9.9997294e-01,  3.9810613e-03,  9.9999207e-01,\n",
       "          2.1544329e-03,  9.9999768e-01,  1.1659141e-03,  9.9999934e-01,\n",
       "          6.3095731e-04,  9.9999982e-01,  3.4145487e-04,  9.9999994e-01,\n",
       "          1.8478498e-04,  1.0000000e+00],\n",
       "        [ 9.0929741e-01, -4.1614684e-01,  8.8305783e-01,  4.6926412e-01,\n",
       "          5.5280691e-01,  8.3330935e-01,  3.1169716e-01,  9.5018148e-01,\n",
       "          1.7069913e-01,  9.8532319e-01,  9.2698500e-02,  9.9569422e-01,\n",
       "          5.0216600e-02,  9.9873835e-01,  2.7183779e-02,  9.9963045e-01,\n",
       "          1.4712314e-02,  9.9989176e-01,  7.9620592e-03,  9.9996829e-01,\n",
       "          4.3088561e-03,  9.9999070e-01,  2.3318266e-03,  9.9999726e-01,\n",
       "          1.2619144e-03,  9.9999923e-01,  6.8290974e-04,  9.9999976e-01,\n",
       "          3.6956996e-04,  9.9999994e-01]]], dtype=float32)>"
      ]
     },
     "execution_count": 8,
     "metadata": {},
     "output_type": "execute_result"
    }
   ],
   "source": [
    "positional_encoding(3, 30)"
   ]
  },
  {
   "cell_type": "code",
   "execution_count": 18,
   "metadata": {},
   "outputs": [],
   "source": [
    "def positional_encoding2(times, d_model):\n",
    "  angle_rads = get_angles(times[:, np.newaxis],\n",
    "                          np.arange(d_model)[np.newaxis, :],\n",
    "                          d_model)\n",
    "  \n",
    "  # apply sin to even indices in the array; 2i\n",
    "  angle_rads[:, 0::2] = np.sin(angle_rads[:, 0::2])\n",
    "  \n",
    "  # apply cos to odd indices in the array; 2i+1\n",
    "  angle_rads[:, 1::2] = np.cos(angle_rads[:, 1::2])\n",
    "    \n",
    "  pos_encoding = angle_rads[np.newaxis, ...]\n",
    "    \n",
    "  return tf.cast(pos_encoding, dtype=tf.float32)"
   ]
  },
  {
   "cell_type": "code",
   "execution_count": 20,
   "metadata": {},
   "outputs": [
    {
     "data": {
      "text/plain": [
       "<tf.Tensor: id=7, shape=(1, 3, 30), dtype=float32, numpy=\n",
       "array([[[ 8.4147096e-01,  5.4030228e-01,  5.1513875e-01,  8.5710680e-01,\n",
       "          2.8869590e-01,  9.5742083e-01,  1.5782665e-01,  9.8746681e-01,\n",
       "          8.5664466e-02,  9.9632406e-01,  4.6399225e-02,  9.9892300e-01,\n",
       "          2.5116222e-02,  9.9968451e-01,  1.3593146e-02,  9.9990761e-01,\n",
       "          7.3563564e-03,  9.9997294e-01,  3.9810613e-03,  9.9999207e-01,\n",
       "          2.1544329e-03,  9.9999768e-01,  1.1659141e-03,  9.9999934e-01,\n",
       "          6.3095731e-04,  9.9999982e-01,  3.4145487e-04,  9.9999994e-01,\n",
       "          1.8478498e-04,  1.0000000e+00],\n",
       "        [ 1.4112000e-01, -9.8999250e-01,  9.9861103e-01, -5.2687846e-02,\n",
       "          7.6984191e-01,  6.3823467e-01,  4.5775455e-01,  8.8907862e-01,\n",
       "          2.5447884e-01,  9.6707833e-01,  1.3879810e-01,  9.9032068e-01,\n",
       "          7.5285293e-02,  9.9716204e-01,  4.0769391e-02,  9.9916857e-01,\n",
       "          2.2067476e-02,  9.9975646e-01,  1.1942931e-02,  9.9992865e-01,\n",
       "          6.4632590e-03,  9.9997914e-01,  3.4977361e-03,  9.9999386e-01,\n",
       "          1.8928709e-03,  9.9999821e-01,  1.0243645e-03,  9.9999946e-01,\n",
       "          5.5435492e-04,  9.9999982e-01],\n",
       "        [-9.5892429e-01,  2.8366220e-01,  4.2208591e-01, -9.0655583e-01,\n",
       "          9.9433696e-01,  1.0627298e-01,  7.1207315e-01,  7.0210528e-01,\n",
       "          4.1582334e-01,  9.0944541e-01,  2.3000172e-01,  9.7319025e-01,\n",
       "          1.2526439e-01,  9.9212337e-01,  6.7915499e-02,  9.9769109e-01,\n",
       "          3.6773819e-02,  9.9932361e-01,  1.9904044e-02,  9.9980187e-01,\n",
       "          1.0771965e-02,  9.9994200e-01,  5.8295391e-03,  9.9998301e-01,\n",
       "          3.1547814e-03,  9.9999505e-01,  1.7072737e-03,  9.9999857e-01,\n",
       "          9.2392479e-04,  9.9999958e-01]]], dtype=float32)>"
      ]
     },
     "execution_count": 20,
     "metadata": {},
     "output_type": "execute_result"
    }
   ],
   "source": [
    "positional_encoding2(np.asarray([1,3,5]), 30)"
   ]
  },
  {
   "cell_type": "code",
   "execution_count": 13,
   "metadata": {},
   "outputs": [
    {
     "data": {
      "text/plain": [
       "array([0, 1, 2])"
      ]
     },
     "execution_count": 13,
     "metadata": {},
     "output_type": "execute_result"
    }
   ],
   "source": [
    "np.arange(3)"
   ]
  },
  {
   "cell_type": "code",
   "execution_count": null,
   "metadata": {},
   "outputs": [],
   "source": []
  }
 ],
 "metadata": {
  "kernelspec": {
   "display_name": "Python 3",
   "language": "python",
   "name": "python3"
  },
  "language_info": {
   "codemirror_mode": {
    "name": "ipython",
    "version": 3
   },
   "file_extension": ".py",
   "mimetype": "text/x-python",
   "name": "python",
   "nbconvert_exporter": "python",
   "pygments_lexer": "ipython3",
   "version": "3.6.8"
  }
 },
 "nbformat": 4,
 "nbformat_minor": 2
}
