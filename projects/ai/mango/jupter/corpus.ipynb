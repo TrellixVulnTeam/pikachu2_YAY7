{
 "cells": [
  {
   "cell_type": "code",
   "execution_count": 1,
   "metadata": {},
   "outputs": [
    {
     "data": {
      "text/html": [
       "        <script type=\"text/javascript\">\n",
       "        window.PlotlyConfig = {MathJaxConfig: 'local'};\n",
       "        if (window.MathJax) {MathJax.Hub.Config({SVG: {font: \"STIX-Web\"}});}\n",
       "        if (typeof require !== 'undefined') {\n",
       "        require.undef(\"plotly\");\n",
       "        requirejs.config({\n",
       "            paths: {\n",
       "                'plotly': ['https://cdn.plot.ly/plotly-latest.min']\n",
       "            }\n",
       "        });\n",
       "        require(['plotly'], function(Plotly) {\n",
       "            window._Plotly = Plotly;\n",
       "        });\n",
       "        }\n",
       "        </script>\n",
       "        "
      ]
     },
     "metadata": {},
     "output_type": "display_data"
    }
   ],
   "source": [
    "import os, sys\n",
    "import glob\n",
    "import time\n",
    "from datetime import timedelta, datetime\n",
    "import json\n",
    "import pandas as pd\n",
    "from plotly.graph_objs import Scatter,Layout\n",
    "import plotly\n",
    "import plotly.offline as py\n",
    "import numpy as np\n",
    "import plotly.graph_objs as go\n",
    "from plotly.subplots import make_subplots\n",
    "import plotly.express as px\n",
    "#setting offilne\n",
    "plotly.offline.init_notebook_mode(connected=True)\n",
    "import pyarrow.parquet as pq\n",
    "from gezi import tqdm\n",
    "import gezi"
   ]
  },
  {
   "cell_type": "markdown",
   "metadata": {},
   "source": [
    "# corpus of vid"
   ]
  },
  {
   "cell_type": "code",
   "execution_count": 2,
   "metadata": {},
   "outputs": [
    {
     "name": "stderr",
     "output_type": "stream",
     "text": [
      "100%|██████████| 30/30 [04:57<00:00, 11.86s/it]\n",
      "100%|██████████| 156273/156273 [00:08<00:00, 19481.63it/s]\n"
     ]
    }
   ],
   "source": [
    "with open(f'../input/all/corpus.txt', 'w') as out_all:\n",
    "  with open(f'../input/all/corpus_novalid.txt', 'w') as out_novalid:\n",
    "    with open(f'../input/all/corpus_train.txt', 'w') as out_train:\n",
    "      for k in tqdm(range(30)):\n",
    "        d = gezi.read_parquet(f'../input/train/part_{k + 1}/user.parquet')\n",
    "        d.watch = d.watch.apply(json.loads)\n",
    "        watches = d.watch.values\n",
    "        with open(f'../input/train/part_{k + 1}/corpus.txt', 'w') as out:\n",
    "          for i in range(len(watches)):\n",
    "            l = []\n",
    "            for j in range(len(watches[i])):\n",
    "              l.append(str(watches[i][j][1]))\n",
    "            if l:\n",
    "              print(' '.join(l), file=out)\n",
    "              print(' '.join(l), file=out_all)\n",
    "              if i != 30:\n",
    "                print(' '.join(l), file=out_novalid)\n",
    "                print(' '.join(l), file=out_train)\n",
    "      d = gezi.read_parquet('../input/eval/user.parquet')\n",
    "      d.watch = d.watch.apply(json.loads)\n",
    "      watches = d.watch.values\n",
    "      with open(f'../input/eval/corpus.txt', 'w') as out:\n",
    "        for i in tqdm(range(len(watches))):\n",
    "          l = []\n",
    "          for j in range(len(watches[i])):\n",
    "            l.append(str(watches[i][j][1]))\n",
    "          if l:\n",
    "            print(' '.join(l), file=out)\n",
    "            print(' '.join(l), file=out_novalid)\n",
    "            print(' '.join(l), file=out_all)"
   ]
  },
  {
   "cell_type": "markdown",
   "metadata": {},
   "source": [
    "# corpus of vid without click data"
   ]
  },
  {
   "cell_type": "code",
   "execution_count": 2,
   "metadata": {},
   "outputs": [
    {
     "name": "stderr",
     "output_type": "stream",
     "text": [
      "100%|██████████| 30/30 [07:10<00:00, 15.84s/it]\n",
      "100%|██████████| 156273/156273 [00:08<00:00, 17576.82it/s]\n"
     ]
    }
   ],
   "source": [
    "clicks = pd.read_csv('../input/all/clicks.csv')\n",
    "clicks = set(zip(clicks.did.values, clicks.vid.values))\n",
    "with open(f'../input/all/corpus_filter.txt', 'w') as out:\n",
    "  with open(f'../input/all/corpus_filter_train.txt', 'w') as out_train:\n",
    "    for k in tqdm(range(30)):\n",
    "      d = gezi.read_parquet(f'../input/train/part_{k + 1}/user.parquet')\n",
    "      dids = d.did.values\n",
    "      d.watch = d.watch.apply(json.loads)\n",
    "      watches = d.watch.values\n",
    "      for i in range(len(watches)):\n",
    "        did = dids[i]\n",
    "        l = []\n",
    "        for j in range(len(watches[i])):\n",
    "          vid = watches[i][j][1]\n",
    "          if not (did, vid) in clicks:\n",
    "            l.append(str(vid))\n",
    "        if l:\n",
    "          print(' '.join(l), file=out)\n",
    "        if i != 30:\n",
    "          print(' '.join(l), file=out_train)\n",
    "    d = gezi.read_parquet('../input/eval/user.parquet')\n",
    "    d.watch = d.watch.apply(json.loads)\n",
    "    watches = d.watch.values\n",
    "    for i in tqdm(range(len(watches))):\n",
    "      l = []\n",
    "      for j in range(len(watches[i])):\n",
    "        vid = watches[i][j][1]\n",
    "        if not (did, vid) in clicks:\n",
    "          l.append(str(vid))\n",
    "      if l:\n",
    "        print(' '.join(l), file=out)"
   ]
  },
  {
   "cell_type": "markdown",
   "metadata": {},
   "source": [
    "# corpus add click data"
   ]
  },
  {
   "cell_type": "code",
   "execution_count": 6,
   "metadata": {},
   "outputs": [
    {
     "name": "stderr",
     "output_type": "stream",
     "text": [
      "100%|██████████| 30/30 [00:33<00:00,  1.09s/it]\n"
     ]
    }
   ],
   "source": [
    "dcs = []\n",
    "for k in tqdm(range(30)):\n",
    "  d = gezi.read_parquet(f'../input/train/part_{k + 1}/context.parquet')\n",
    "  d = d[d.label==1][['did', 'vid', 'timestamp']]\n",
    "  d['day'] = k + 1\n",
    "  dcs += [d]\n",
    "dc = pd.concat(dcs)"
   ]
  },
  {
   "cell_type": "code",
   "execution_count": 12,
   "metadata": {},
   "outputs": [],
   "source": [
    "dc = dc.groupby('did').agg(vids=('vid', lambda x: list(x))).reset_index()"
   ]
  },
  {
   "cell_type": "code",
   "execution_count": 13,
   "metadata": {},
   "outputs": [
    {
     "data": {
      "text/html": [
       "<div>\n",
       "<style scoped>\n",
       "    .dataframe tbody tr th:only-of-type {\n",
       "        vertical-align: middle;\n",
       "    }\n",
       "\n",
       "    .dataframe tbody tr th {\n",
       "        vertical-align: top;\n",
       "    }\n",
       "\n",
       "    .dataframe thead th {\n",
       "        text-align: right;\n",
       "    }\n",
       "</style>\n",
       "<table border=\"1\" class=\"dataframe\">\n",
       "  <thead>\n",
       "    <tr style=\"text-align: right;\">\n",
       "      <th></th>\n",
       "      <th>did</th>\n",
       "      <th>vids</th>\n",
       "    </tr>\n",
       "  </thead>\n",
       "  <tbody>\n",
       "    <tr>\n",
       "      <th>0</th>\n",
       "      <td>000018568561880a0ab2e712c24fd935</td>\n",
       "      <td>[1933869142, 622642288, 3913676406, 2872596680]</td>\n",
       "    </tr>\n",
       "    <tr>\n",
       "      <th>1</th>\n",
       "      <td>000022506218ddedd0d064a96d07b6c5</td>\n",
       "      <td>[1653383727, 1867735501, 2315871907]</td>\n",
       "    </tr>\n",
       "    <tr>\n",
       "      <th>2</th>\n",
       "      <td>00002ad59519acc2b153c62da76a0fd0</td>\n",
       "      <td>[3592760380]</td>\n",
       "    </tr>\n",
       "    <tr>\n",
       "      <th>3</th>\n",
       "      <td>00002f7f7abc1e5aae45f774a3a44478</td>\n",
       "      <td>[1790097910, 3293210169, 3521169412, 686940390...</td>\n",
       "    </tr>\n",
       "    <tr>\n",
       "      <th>4</th>\n",
       "      <td>00003fc63ff11ea88d241d52d9bcc83a</td>\n",
       "      <td>[1907952065]</td>\n",
       "    </tr>\n",
       "    <tr>\n",
       "      <th>...</th>\n",
       "      <td>...</td>\n",
       "      <td>...</td>\n",
       "    </tr>\n",
       "    <tr>\n",
       "      <th>1177345</th>\n",
       "      <td>ffffd0ff4ed3b61458e1473373d9ce02</td>\n",
       "      <td>[622642288]</td>\n",
       "    </tr>\n",
       "    <tr>\n",
       "      <th>1177346</th>\n",
       "      <td>ffffd77a99fc2d36f60faf962c3225ee</td>\n",
       "      <td>[2436335535]</td>\n",
       "    </tr>\n",
       "    <tr>\n",
       "      <th>1177347</th>\n",
       "      <td>ffffeaa8cc4da28613264765faf6edd1</td>\n",
       "      <td>[2314749750, 609745040]</td>\n",
       "    </tr>\n",
       "    <tr>\n",
       "      <th>1177348</th>\n",
       "      <td>ffffed8bb4589077e9f33b365a1a5a4a</td>\n",
       "      <td>[2449410198]</td>\n",
       "    </tr>\n",
       "    <tr>\n",
       "      <th>1177349</th>\n",
       "      <td>fffff4ef877b6ab7f84e316dd88624db</td>\n",
       "      <td>[2593718793, 1612471931, 2019499855, 4153053381]</td>\n",
       "    </tr>\n",
       "  </tbody>\n",
       "</table>\n",
       "<p>1177350 rows × 2 columns</p>\n",
       "</div>"
      ],
      "text/plain": [
       "                                      did  \\\n",
       "0        000018568561880a0ab2e712c24fd935   \n",
       "1        000022506218ddedd0d064a96d07b6c5   \n",
       "2        00002ad59519acc2b153c62da76a0fd0   \n",
       "3        00002f7f7abc1e5aae45f774a3a44478   \n",
       "4        00003fc63ff11ea88d241d52d9bcc83a   \n",
       "...                                   ...   \n",
       "1177345  ffffd0ff4ed3b61458e1473373d9ce02   \n",
       "1177346  ffffd77a99fc2d36f60faf962c3225ee   \n",
       "1177347  ffffeaa8cc4da28613264765faf6edd1   \n",
       "1177348  ffffed8bb4589077e9f33b365a1a5a4a   \n",
       "1177349  fffff4ef877b6ab7f84e316dd88624db   \n",
       "\n",
       "                                                      vids  \n",
       "0          [1933869142, 622642288, 3913676406, 2872596680]  \n",
       "1                     [1653383727, 1867735501, 2315871907]  \n",
       "2                                             [3592760380]  \n",
       "3        [1790097910, 3293210169, 3521169412, 686940390...  \n",
       "4                                             [1907952065]  \n",
       "...                                                    ...  \n",
       "1177345                                        [622642288]  \n",
       "1177346                                       [2436335535]  \n",
       "1177347                            [2314749750, 609745040]  \n",
       "1177348                                       [2449410198]  \n",
       "1177349   [2593718793, 1612471931, 2019499855, 4153053381]  \n",
       "\n",
       "[1177350 rows x 2 columns]"
      ]
     },
     "execution_count": 13,
     "metadata": {},
     "output_type": "execute_result"
    }
   ],
   "source": [
    "dc"
   ]
  },
  {
   "cell_type": "code",
   "execution_count": 15,
   "metadata": {},
   "outputs": [
    {
     "name": "stderr",
     "output_type": "stream",
     "text": [
      "100%|██████████| 1177350/1177350 [04:10<00:00, 4701.70it/s]\n"
     ]
    }
   ],
   "source": [
    "m = {}\n",
    "for _, row in tqdm(dc.iterrows(), total=len(dc)):\n",
    "  m[row['did']] = row['vids']"
   ]
  },
  {
   "cell_type": "code",
   "execution_count": 17,
   "metadata": {},
   "outputs": [
    {
     "name": "stderr",
     "output_type": "stream",
     "text": [
      "100%|██████████| 30/30 [05:02<00:00, 10.33s/it]\n",
      "100%|██████████| 156273/156273 [00:05<00:00, 27528.68it/s]\n"
     ]
    }
   ],
   "source": [
    "clicks = pd.read_csv('../input/all/clicks.csv')\n",
    "clicks = set(zip(clicks.did.values, clicks.vid.values))\n",
    "with open(f'../input/all/corpus_add.txt', 'w') as out:\n",
    "  with open(f'../input/all/corpus_add_train.txt', 'w') as out_train:\n",
    "    for k in tqdm(range(30)):\n",
    "      d = gezi.read_parquet(f'../input/train/part_{k + 1}/user.parquet')\n",
    "      dids = d.did.values\n",
    "      d.watch = d.watch.apply(json.loads)\n",
    "      watches = d.watch.values\n",
    "      for i in range(len(watches)):\n",
    "        did = dids[i]\n",
    "        clicks = m[did] if did in m else []\n",
    "        clicks = [str(x) for x in clicks]\n",
    "        l = []\n",
    "        for j in range(len(watches[i])):\n",
    "          vid = watches[i][j][1]\n",
    "          if not (did, vid) in clicks:\n",
    "            l.append(str(vid))\n",
    "        l += clicks\n",
    "        if l:\n",
    "          print(' '.join(l), file=out)\n",
    "        if i != 30:\n",
    "          print(' '.join(l), file=out_train)\n",
    "    d = gezi.read_parquet('../input/eval/user.parquet')\n",
    "    d.watch = d.watch.apply(json.loads)\n",
    "    watches = d.watch.values\n",
    "    for i in tqdm(range(len(watches))):\n",
    "      l = []\n",
    "      for j in range(len(watches[i])):\n",
    "        vid = watches[i][j][1]\n",
    "        if not (did, vid) in clicks:\n",
    "          l.append(str(vid))\n",
    "      if l:\n",
    "        print(' '.join(l), file=out)"
   ]
  },
  {
   "cell_type": "markdown",
   "metadata": {},
   "source": [
    "# corpus of title from video info"
   ]
  },
  {
   "cell_type": "code",
   "execution_count": 8,
   "metadata": {},
   "outputs": [],
   "source": [
    "vinfo = pq.read_table('../input/train/raw.parquet').to_pandas()"
   ]
  },
  {
   "cell_type": "code",
   "execution_count": 9,
   "metadata": {},
   "outputs": [
    {
     "data": {
      "text/html": [
       "<div>\n",
       "<style scoped>\n",
       "    .dataframe tbody tr th:only-of-type {\n",
       "        vertical-align: middle;\n",
       "    }\n",
       "\n",
       "    .dataframe tbody tr th {\n",
       "        vertical-align: top;\n",
       "    }\n",
       "\n",
       "    .dataframe thead th {\n",
       "        text-align: right;\n",
       "    }\n",
       "</style>\n",
       "<table border=\"1\" class=\"dataframe\">\n",
       "  <thead>\n",
       "    <tr style=\"text-align: right;\">\n",
       "      <th></th>\n",
       "      <th>vid</th>\n",
       "      <th>image_emb</th>\n",
       "      <th>title</th>\n",
       "      <th>story</th>\n",
       "    </tr>\n",
       "  </thead>\n",
       "  <tbody>\n",
       "    <tr>\n",
       "      <th>0</th>\n",
       "      <td>5893106</td>\n",
       "      <td>-8.26598072052,1.63619112968,17.9674415588,6.9...</td>\n",
       "      <td>199575,199576,40564</td>\n",
       "      <td></td>\n",
       "    </tr>\n",
       "    <tr>\n",
       "      <th>1</th>\n",
       "      <td>10423101</td>\n",
       "      <td>-3.63512468338,2.38069868088,14.9096345901,1.2...</td>\n",
       "      <td>717361,318</td>\n",
       "      <td></td>\n",
       "    </tr>\n",
       "    <tr>\n",
       "      <th>2</th>\n",
       "      <td>15819492</td>\n",
       "      <td>0.107854895294,3.20008993149,20.3623485565,-0....</td>\n",
       "      <td>396,1705,31495,3424,77035,85420,28,17970,9300,...</td>\n",
       "      <td></td>\n",
       "    </tr>\n",
       "    <tr>\n",
       "      <th>3</th>\n",
       "      <td>16814925</td>\n",
       "      <td>-11.0617599487,1.99434304237,14.9591712952,1.2...</td>\n",
       "      <td>8579,18147,73,227</td>\n",
       "      <td></td>\n",
       "    </tr>\n",
       "    <tr>\n",
       "      <th>4</th>\n",
       "      <td>20360674</td>\n",
       "      <td>6.6802148819,1.83605599403,15.9008598328,3.244...</td>\n",
       "      <td>22485,118989,12418,396611,61891,3029,26353,396...</td>\n",
       "      <td></td>\n",
       "    </tr>\n",
       "    <tr>\n",
       "      <th>...</th>\n",
       "      <td>...</td>\n",
       "      <td>...</td>\n",
       "      <td>...</td>\n",
       "      <td>...</td>\n",
       "    </tr>\n",
       "    <tr>\n",
       "      <th>183788</th>\n",
       "      <td>4276491220</td>\n",
       "      <td>-4.29484510422,6.66334295273,16.4290809631,-4....</td>\n",
       "      <td>3072,34976,173488,1864,6276,492635,58,19175,24...</td>\n",
       "      <td></td>\n",
       "    </tr>\n",
       "    <tr>\n",
       "      <th>183789</th>\n",
       "      <td>4283547666</td>\n",
       "      <td>-4.81997919083,13.6302375793,14.3650541306,6.9...</td>\n",
       "      <td>266947,7450,58397,42,58167,44,2577,5</td>\n",
       "      <td></td>\n",
       "    </tr>\n",
       "    <tr>\n",
       "      <th>183790</th>\n",
       "      <td>4283640696</td>\n",
       "      <td>-0.665687978268,11.5875854492,9.86795520782,3....</td>\n",
       "      <td>406009,91149,52611,66378,290,355096</td>\n",
       "      <td></td>\n",
       "    </tr>\n",
       "    <tr>\n",
       "      <th>183791</th>\n",
       "      <td>4290887658</td>\n",
       "      <td>2.51159644127,2.58366537094,9.91071224213,4.36...</td>\n",
       "      <td>42,128095,44,188981,28,6705,87381,2679,59,3316...</td>\n",
       "      <td></td>\n",
       "    </tr>\n",
       "    <tr>\n",
       "      <th>183792</th>\n",
       "      <td>4294955976</td>\n",
       "      <td>2.63969039917,5.7608537674,14.7844266891,-2.15...</td>\n",
       "      <td>19588,24,1192,91989,518690,3430,4464,691,55756</td>\n",
       "      <td></td>\n",
       "    </tr>\n",
       "  </tbody>\n",
       "</table>\n",
       "<p>183793 rows × 4 columns</p>\n",
       "</div>"
      ],
      "text/plain": [
       "               vid                                          image_emb  \\\n",
       "0          5893106  -8.26598072052,1.63619112968,17.9674415588,6.9...   \n",
       "1         10423101  -3.63512468338,2.38069868088,14.9096345901,1.2...   \n",
       "2         15819492  0.107854895294,3.20008993149,20.3623485565,-0....   \n",
       "3         16814925  -11.0617599487,1.99434304237,14.9591712952,1.2...   \n",
       "4         20360674  6.6802148819,1.83605599403,15.9008598328,3.244...   \n",
       "...            ...                                                ...   \n",
       "183788  4276491220  -4.29484510422,6.66334295273,16.4290809631,-4....   \n",
       "183789  4283547666  -4.81997919083,13.6302375793,14.3650541306,6.9...   \n",
       "183790  4283640696  -0.665687978268,11.5875854492,9.86795520782,3....   \n",
       "183791  4290887658  2.51159644127,2.58366537094,9.91071224213,4.36...   \n",
       "183792  4294955976  2.63969039917,5.7608537674,14.7844266891,-2.15...   \n",
       "\n",
       "                                                    title story  \n",
       "0                                     199575,199576,40564        \n",
       "1                                              717361,318        \n",
       "2       396,1705,31495,3424,77035,85420,28,17970,9300,...        \n",
       "3                                       8579,18147,73,227        \n",
       "4       22485,118989,12418,396611,61891,3029,26353,396...        \n",
       "...                                                   ...   ...  \n",
       "183788  3072,34976,173488,1864,6276,492635,58,19175,24...        \n",
       "183789               266947,7450,58397,42,58167,44,2577,5        \n",
       "183790                406009,91149,52611,66378,290,355096        \n",
       "183791  42,128095,44,188981,28,6705,87381,2679,59,3316...        \n",
       "183792     19588,24,1192,91989,518690,3430,4464,691,55756        \n",
       "\n",
       "[183793 rows x 4 columns]"
      ]
     },
     "execution_count": 9,
     "metadata": {},
     "output_type": "execute_result"
    }
   ],
   "source": [
    "vinfo"
   ]
  },
  {
   "cell_type": "code",
   "execution_count": 10,
   "metadata": {},
   "outputs": [
    {
     "name": "stderr",
     "output_type": "stream",
     "text": [
      "100%|██████████| 183793/183793 [00:00<00:00, 370717.69it/s]\n"
     ]
    }
   ],
   "source": [
    "with open(f'../input/all/corpus_words.txt', 'w') as out:\n",
    "  titles = vinfo.title.values\n",
    "  stories = vinfo.story.values\n",
    "  for i in tqdm(range(len(vinfo))):\n",
    "    if ','  in titles[i]:\n",
    "      print(titles[i].replace(',', ' '), file=out)\n",
    "    if ','  in stories[i]:\n",
    "      print(stories[i].replace(',', ' '), file=out)"
   ]
  },
  {
   "cell_type": "code",
   "execution_count": 11,
   "metadata": {},
   "outputs": [],
   "source": [
    "vinfo['title_words'] = vinfo.title.apply(lambda x: len(x.split(',')))"
   ]
  },
  {
   "cell_type": "code",
   "execution_count": 12,
   "metadata": {},
   "outputs": [
    {
     "data": {
      "text/plain": [
       "count    183793.000000\n",
       "mean         10.977856\n",
       "std           4.995826\n",
       "min           1.000000\n",
       "25%           8.000000\n",
       "50%          11.000000\n",
       "75%          14.000000\n",
       "max          40.000000\n",
       "Name: title_words, dtype: float64"
      ]
     },
     "execution_count": 12,
     "metadata": {},
     "output_type": "execute_result"
    }
   ],
   "source": [
    "vinfo.title_words.describe()"
   ]
  },
  {
   "cell_type": "code",
   "execution_count": 13,
   "metadata": {},
   "outputs": [
    {
     "data": {
      "text/plain": [
       "0.5644828693149359"
      ]
     },
     "execution_count": 13,
     "metadata": {},
     "output_type": "execute_result"
    }
   ],
   "source": [
    "len(vinfo[vinfo.title_words>10]) / len(vinfo)"
   ]
  },
  {
   "cell_type": "markdown",
   "metadata": {},
   "source": [
    "# corpus of stars"
   ]
  },
  {
   "cell_type": "code",
   "execution_count": 15,
   "metadata": {},
   "outputs": [
    {
     "name": "stderr",
     "output_type": "stream",
     "text": [
      "100%|██████████| 30/30 [00:19<00:00,  1.74it/s]\n"
     ]
    }
   ],
   "source": [
    "with open('../input/all/corpus_stars.txt', 'w') as out:\n",
    "  for i in tqdm(range(30)):\n",
    "    d = gezi.read_parquet(f'../input/train/part_{i + 1}/item.parquet')\n",
    "    for stars in d.stars:\n",
    "      content = ' '.join(map(str, stars))\n",
    "      if len(content.strip().split()) > 1:\n",
    "        print(content, file=out)\n",
    "  d = gezi.read_parquet(f'../input/eval/item.parquet')\n",
    "  for stars in d.stars:\n",
    "    content = ' '.join(map(str, stars))\n",
    "    if len(content.strip().split()) > 1:\n",
    "      print(content, file=out)"
   ]
  },
  {
   "cell_type": "code",
   "execution_count": 16,
   "metadata": {},
   "outputs": [
    {
     "data": {
      "text/html": [
       "<div>\n",
       "<style scoped>\n",
       "    .dataframe tbody tr th:only-of-type {\n",
       "        vertical-align: middle;\n",
       "    }\n",
       "\n",
       "    .dataframe tbody tr th {\n",
       "        vertical-align: top;\n",
       "    }\n",
       "\n",
       "    .dataframe thead th {\n",
       "        text-align: right;\n",
       "    }\n",
       "</style>\n",
       "<table border=\"1\" class=\"dataframe\">\n",
       "  <thead>\n",
       "    <tr style=\"text-align: right;\">\n",
       "      <th></th>\n",
       "      <th>vid</th>\n",
       "      <th>title_length</th>\n",
       "      <th>timestamp</th>\n",
       "      <th>stars</th>\n",
       "      <th>cid</th>\n",
       "      <th>class_id</th>\n",
       "      <th>is_intact</th>\n",
       "      <th>second_class</th>\n",
       "      <th>duration</th>\n",
       "      <th>ctr</th>\n",
       "      <th>vv</th>\n",
       "    </tr>\n",
       "  </thead>\n",
       "  <tbody>\n",
       "    <tr>\n",
       "      <th>0</th>\n",
       "      <td>5893106</td>\n",
       "      <td>25</td>\n",
       "      <td>1411552000</td>\n",
       "      <td>[]</td>\n",
       "      <td>600008821</td>\n",
       "      <td>3174145329</td>\n",
       "      <td>2234347078</td>\n",
       "      <td>0</td>\n",
       "      <td>86.110001</td>\n",
       "      <td>0.000</td>\n",
       "      <td>1004.0</td>\n",
       "    </tr>\n",
       "    <tr>\n",
       "      <th>1</th>\n",
       "      <td>15819492</td>\n",
       "      <td>98</td>\n",
       "      <td>1407204002</td>\n",
       "      <td>[2950753864, 3600550670, 3606342894, 333836411...</td>\n",
       "      <td>638675564</td>\n",
       "      <td>1413776458</td>\n",
       "      <td>2234347078</td>\n",
       "      <td>0</td>\n",
       "      <td>6954.200195</td>\n",
       "      <td>0.065</td>\n",
       "      <td>1392.0</td>\n",
       "    </tr>\n",
       "    <tr>\n",
       "      <th>2</th>\n",
       "      <td>16814925</td>\n",
       "      <td>21</td>\n",
       "      <td>1380506136</td>\n",
       "      <td>[]</td>\n",
       "      <td>511097257</td>\n",
       "      <td>3174145329</td>\n",
       "      <td>2234347078</td>\n",
       "      <td>0</td>\n",
       "      <td>317.190002</td>\n",
       "      <td>0.000</td>\n",
       "      <td>4360.0</td>\n",
       "    </tr>\n",
       "    <tr>\n",
       "      <th>3</th>\n",
       "      <td>38297769</td>\n",
       "      <td>112</td>\n",
       "      <td>1425690005</td>\n",
       "      <td>[3115812425, 2144664037, 1221620183, 325915182...</td>\n",
       "      <td>2168442617</td>\n",
       "      <td>1413776458</td>\n",
       "      <td>472867291</td>\n",
       "      <td>0</td>\n",
       "      <td>42.509998</td>\n",
       "      <td>0.000</td>\n",
       "      <td>5832.0</td>\n",
       "    </tr>\n",
       "    <tr>\n",
       "      <th>4</th>\n",
       "      <td>53280242</td>\n",
       "      <td>85</td>\n",
       "      <td>1367558225</td>\n",
       "      <td>[591536023, 1613895128, 2189138809, 559740265,...</td>\n",
       "      <td>155617312</td>\n",
       "      <td>3443952599</td>\n",
       "      <td>3172394293</td>\n",
       "      <td>0</td>\n",
       "      <td>376.049988</td>\n",
       "      <td>0.000</td>\n",
       "      <td>248.0</td>\n",
       "    </tr>\n",
       "    <tr>\n",
       "      <th>...</th>\n",
       "      <td>...</td>\n",
       "      <td>...</td>\n",
       "      <td>...</td>\n",
       "      <td>...</td>\n",
       "      <td>...</td>\n",
       "      <td>...</td>\n",
       "      <td>...</td>\n",
       "      <td>...</td>\n",
       "      <td>...</td>\n",
       "      <td>...</td>\n",
       "      <td>...</td>\n",
       "    </tr>\n",
       "    <tr>\n",
       "      <th>56531</th>\n",
       "      <td>4204251528</td>\n",
       "      <td>70</td>\n",
       "      <td>1360118075</td>\n",
       "      <td>[1074701228, 4106478470]</td>\n",
       "      <td>2239251993</td>\n",
       "      <td>1413776458</td>\n",
       "      <td>2234347078</td>\n",
       "      <td>0</td>\n",
       "      <td>771.719971</td>\n",
       "      <td>0.000</td>\n",
       "      <td>56.0</td>\n",
       "    </tr>\n",
       "    <tr>\n",
       "      <th>56532</th>\n",
       "      <td>4255628613</td>\n",
       "      <td>33</td>\n",
       "      <td>1413545288</td>\n",
       "      <td>[1134598214]</td>\n",
       "      <td>1016220003</td>\n",
       "      <td>1820266297</td>\n",
       "      <td>2234347078</td>\n",
       "      <td>0</td>\n",
       "      <td>35.970001</td>\n",
       "      <td>0.000</td>\n",
       "      <td>480.0</td>\n",
       "    </tr>\n",
       "    <tr>\n",
       "      <th>56533</th>\n",
       "      <td>4261704198</td>\n",
       "      <td>32</td>\n",
       "      <td>1382493214</td>\n",
       "      <td>[]</td>\n",
       "      <td>1611517696</td>\n",
       "      <td>3174145329</td>\n",
       "      <td>2234347078</td>\n",
       "      <td>0</td>\n",
       "      <td>115.540001</td>\n",
       "      <td>0.000</td>\n",
       "      <td>36.0</td>\n",
       "    </tr>\n",
       "    <tr>\n",
       "      <th>56534</th>\n",
       "      <td>4272496705</td>\n",
       "      <td>80</td>\n",
       "      <td>1387029762</td>\n",
       "      <td>[3309131045, 2561243119, 184102567, 2880021111...</td>\n",
       "      <td>435329116</td>\n",
       "      <td>1820266297</td>\n",
       "      <td>472867291</td>\n",
       "      <td>0</td>\n",
       "      <td>115.540001</td>\n",
       "      <td>0.000</td>\n",
       "      <td>92.0</td>\n",
       "    </tr>\n",
       "    <tr>\n",
       "      <th>56535</th>\n",
       "      <td>4283547666</td>\n",
       "      <td>58</td>\n",
       "      <td>1424684908</td>\n",
       "      <td>[2142910698, 1316768238, 1853987563, 1984414365]</td>\n",
       "      <td>2753664459</td>\n",
       "      <td>470292959</td>\n",
       "      <td>2234347078</td>\n",
       "      <td>0</td>\n",
       "      <td>154.779999</td>\n",
       "      <td>0.045</td>\n",
       "      <td>10440.0</td>\n",
       "    </tr>\n",
       "  </tbody>\n",
       "</table>\n",
       "<p>56536 rows × 11 columns</p>\n",
       "</div>"
      ],
      "text/plain": [
       "              vid  title_length   timestamp  \\\n",
       "0         5893106            25  1411552000   \n",
       "1        15819492            98  1407204002   \n",
       "2        16814925            21  1380506136   \n",
       "3        38297769           112  1425690005   \n",
       "4        53280242            85  1367558225   \n",
       "...           ...           ...         ...   \n",
       "56531  4204251528            70  1360118075   \n",
       "56532  4255628613            33  1413545288   \n",
       "56533  4261704198            32  1382493214   \n",
       "56534  4272496705            80  1387029762   \n",
       "56535  4283547666            58  1424684908   \n",
       "\n",
       "                                                   stars         cid  \\\n",
       "0                                                     []   600008821   \n",
       "1      [2950753864, 3600550670, 3606342894, 333836411...   638675564   \n",
       "2                                                     []   511097257   \n",
       "3      [3115812425, 2144664037, 1221620183, 325915182...  2168442617   \n",
       "4      [591536023, 1613895128, 2189138809, 559740265,...   155617312   \n",
       "...                                                  ...         ...   \n",
       "56531                           [1074701228, 4106478470]  2239251993   \n",
       "56532                                       [1134598214]  1016220003   \n",
       "56533                                                 []  1611517696   \n",
       "56534  [3309131045, 2561243119, 184102567, 2880021111...   435329116   \n",
       "56535   [2142910698, 1316768238, 1853987563, 1984414365]  2753664459   \n",
       "\n",
       "         class_id   is_intact  second_class     duration    ctr       vv  \n",
       "0      3174145329  2234347078             0    86.110001  0.000   1004.0  \n",
       "1      1413776458  2234347078             0  6954.200195  0.065   1392.0  \n",
       "2      3174145329  2234347078             0   317.190002  0.000   4360.0  \n",
       "3      1413776458   472867291             0    42.509998  0.000   5832.0  \n",
       "4      3443952599  3172394293             0   376.049988  0.000    248.0  \n",
       "...           ...         ...           ...          ...    ...      ...  \n",
       "56531  1413776458  2234347078             0   771.719971  0.000     56.0  \n",
       "56532  1820266297  2234347078             0    35.970001  0.000    480.0  \n",
       "56533  3174145329  2234347078             0   115.540001  0.000     36.0  \n",
       "56534  1820266297   472867291             0   115.540001  0.000     92.0  \n",
       "56535   470292959  2234347078             0   154.779999  0.045  10440.0  \n",
       "\n",
       "[56536 rows x 11 columns]"
      ]
     },
     "execution_count": 16,
     "metadata": {},
     "output_type": "execute_result"
    }
   ],
   "source": [
    "d"
   ]
  },
  {
   "cell_type": "code",
   "execution_count": null,
   "metadata": {},
   "outputs": [],
   "source": []
  }
 ],
 "metadata": {
  "kernelspec": {
   "display_name": "Python 3",
   "language": "python",
   "name": "python3"
  },
  "language_info": {
   "codemirror_mode": {
    "name": "ipython",
    "version": 3
   },
   "file_extension": ".py",
   "mimetype": "text/x-python",
   "name": "python",
   "nbconvert_exporter": "python",
   "pygments_lexer": "ipython3",
   "version": "3.6.8"
  }
 },
 "nbformat": 4,
 "nbformat_minor": 2
}
