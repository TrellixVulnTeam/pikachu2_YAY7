{
 "cells": [
  {
   "cell_type": "code",
   "execution_count": 2,
   "metadata": {},
   "outputs": [
    {
     "data": {
      "text/html": [
       "        <script type=\"text/javascript\">\n",
       "        window.PlotlyConfig = {MathJaxConfig: 'local'};\n",
       "        if (window.MathJax) {MathJax.Hub.Config({SVG: {font: \"STIX-Web\"}});}\n",
       "        if (typeof require !== 'undefined') {\n",
       "        require.undef(\"plotly\");\n",
       "        requirejs.config({\n",
       "            paths: {\n",
       "                'plotly': ['https://cdn.plot.ly/plotly-latest.min']\n",
       "            }\n",
       "        });\n",
       "        require(['plotly'], function(Plotly) {\n",
       "            window._Plotly = Plotly;\n",
       "        });\n",
       "        }\n",
       "        </script>\n",
       "        "
      ]
     },
     "metadata": {},
     "output_type": "display_data"
    }
   ],
   "source": [
    "import os, sys\n",
    "import glob\n",
    "import time\n",
    "from datetime import timedelta, datetime\n",
    "import json\n",
    "import pandas as pd\n",
    "from plotly.graph_objs import Scatter,Layout\n",
    "import plotly\n",
    "import plotly.offline as py\n",
    "import numpy as np\n",
    "import plotly.graph_objs as go\n",
    "from plotly.subplots import make_subplots\n",
    "import plotly.express as px\n",
    "#setting offilne\n",
    "plotly.offline.init_notebook_mode(connected=True)\n",
    "import pyarrow.parquet as pq\n",
    "from gezi import tqdm\n",
    "import gezi"
   ]
  },
  {
   "cell_type": "markdown",
   "metadata": {},
   "source": [
    "# vocab of watch vids"
   ]
  },
  {
   "cell_type": "code",
   "execution_count": null,
   "metadata": {},
   "outputs": [],
   "source": [
    "counter_train = gezi.WordCounter()\n",
    "counter_eval = gezi.WordCounter()\n",
    "counter = gezi.WordCounter()"
   ]
  },
  {
   "cell_type": "code",
   "execution_count": null,
   "metadata": {},
   "outputs": [],
   "source": [
    "for k in tqdm(range(30)):\n",
    "  d = gezi.read_parquet(f'../input/train/part_{k + 1}/user.parquet')\n",
    "  d.watch = d.watch.apply(json.loads)\n",
    "  watches = d.watch.values\n",
    "  for i in range(len(watches)):\n",
    "    for j in range(len(watches[i])):\n",
    "      counter.add(watches[i][j][1])\n",
    "      counter_train.add(watches[i][j][1])"
   ]
  },
  {
   "cell_type": "code",
   "execution_count": null,
   "metadata": {},
   "outputs": [],
   "source": [
    "d = gezi.read_parquet('../input/eval/user.parquet')\n",
    "d.watch = d.watch.apply(json.loads)\n",
    "watches = d.watch.values\n",
    "for i in tqdm(range(len(watches))):\n",
    "  for j in range(len(watches[i])):\n",
    "    counter.add(watches[i][j][1])\n",
    "    counter_eval.add(watches[i][j][1])"
   ]
  },
  {
   "cell_type": "code",
   "execution_count": null,
   "metadata": {},
   "outputs": [],
   "source": [
    "counter.total"
   ]
  },
  {
   "cell_type": "code",
   "execution_count": null,
   "metadata": {},
   "outputs": [],
   "source": [
    "len(counter.counter)"
   ]
  },
  {
   "cell_type": "code",
   "execution_count": null,
   "metadata": {},
   "outputs": [],
   "source": [
    "len(counter_train.counter)"
   ]
  },
  {
   "cell_type": "code",
   "execution_count": null,
   "metadata": {},
   "outputs": [],
   "source": [
    "len(counter_eval.counter)"
   ]
  },
  {
   "cell_type": "code",
   "execution_count": null,
   "metadata": {},
   "outputs": [],
   "source": [
    "counter_train.counter.most_common(10)"
   ]
  },
  {
   "cell_type": "code",
   "execution_count": null,
   "metadata": {},
   "outputs": [],
   "source": [
    "counter_eval.counter.most_common(10)"
   ]
  },
  {
   "cell_type": "code",
   "execution_count": null,
   "metadata": {},
   "outputs": [],
   "source": [
    "counter_eval.counter[2633810051]"
   ]
  },
  {
   "cell_type": "code",
   "execution_count": null,
   "metadata": {},
   "outputs": [],
   "source": [
    "counter_train.counter[2633810051]"
   ]
  },
  {
   "cell_type": "code",
   "execution_count": null,
   "metadata": {},
   "outputs": [],
   "source": [
    "counter_train.counter[3380550257]"
   ]
  },
  {
   "cell_type": "code",
   "execution_count": null,
   "metadata": {},
   "outputs": [],
   "source": [
    "counter_eval.counter - counter_train.counter"
   ]
  },
  {
   "cell_type": "code",
   "execution_count": null,
   "metadata": {},
   "outputs": [],
   "source": [
    "len(counter_eval.counter - counter_train.counter)"
   ]
  },
  {
   "cell_type": "code",
   "execution_count": null,
   "metadata": {},
   "outputs": [],
   "source": [
    "set(counter_eval.counter.keys()) - set(counter_train.counter.keys())"
   ]
  },
  {
   "cell_type": "code",
   "execution_count": null,
   "metadata": {},
   "outputs": [],
   "source": [
    "len(set(counter_eval.counter.keys()) - set(counter_train.counter.keys()))"
   ]
  },
  {
   "cell_type": "code",
   "execution_count": null,
   "metadata": {},
   "outputs": [],
   "source": [
    "counter.save('../input/all/watch_vids.txt')"
   ]
  },
  {
   "cell_type": "code",
   "execution_count": null,
   "metadata": {},
   "outputs": [],
   "source": [
    "counter_train.save('../input/train/watch_vids.txt')"
   ]
  },
  {
   "cell_type": "code",
   "execution_count": null,
   "metadata": {},
   "outputs": [],
   "source": [
    "counter_eval.save('../input/eval/watch_vids.txt')"
   ]
  },
  {
   "cell_type": "markdown",
   "metadata": {},
   "source": [
    "# vocab of vids"
   ]
  },
  {
   "cell_type": "code",
   "execution_count": null,
   "metadata": {},
   "outputs": [],
   "source": [
    "counter2_train = gezi.WordCounter()\n",
    "counter2_eval = gezi.WordCounter()\n",
    "counter2 = gezi.WordCounter()"
   ]
  },
  {
   "cell_type": "code",
   "execution_count": null,
   "metadata": {},
   "outputs": [],
   "source": [
    "for i in tqdm(range(30)):\n",
    "  d = gezi.read_parquet(f'../input/train/part_{i+1}/context.parquet')\n",
    "  for vid in d.vid.values:\n",
    "    counter2.add(vid)\n",
    "    counter2_train.add(vid)"
   ]
  },
  {
   "cell_type": "code",
   "execution_count": null,
   "metadata": {},
   "outputs": [],
   "source": [
    "d = gezi.read_parquet(f'../input/eval/context.parquet')\n",
    "for vid in tqdm(d.vid.values):\n",
    "  counter2.add(vid)\n",
    "  counter2_eval.add(vid)"
   ]
  },
  {
   "cell_type": "code",
   "execution_count": null,
   "metadata": {},
   "outputs": [],
   "source": [
    "len(counter2.counter)"
   ]
  },
  {
   "cell_type": "code",
   "execution_count": null,
   "metadata": {},
   "outputs": [],
   "source": [
    "len(counter2_train.counter)"
   ]
  },
  {
   "cell_type": "code",
   "execution_count": null,
   "metadata": {},
   "outputs": [],
   "source": [
    "len(counter2_eval.counter)"
   ]
  },
  {
   "cell_type": "code",
   "execution_count": null,
   "metadata": {},
   "outputs": [],
   "source": [
    "counter2_eval.counter - counter2_train.counter"
   ]
  },
  {
   "cell_type": "code",
   "execution_count": null,
   "metadata": {},
   "outputs": [],
   "source": [
    "len(counter2_eval.counter - counter2_train.counter)"
   ]
  },
  {
   "cell_type": "code",
   "execution_count": null,
   "metadata": {},
   "outputs": [],
   "source": [
    "set(counter2_eval.counter.keys()) - set(counter2_train.counter.keys())"
   ]
  },
  {
   "cell_type": "code",
   "execution_count": null,
   "metadata": {},
   "outputs": [],
   "source": [
    "len(set(counter2_eval.counter.keys()) - set(counter2_train.counter.keys()))"
   ]
  },
  {
   "cell_type": "code",
   "execution_count": null,
   "metadata": {},
   "outputs": [],
   "source": [
    "counter2.save('../input/all/context_vids.txt')"
   ]
  },
  {
   "cell_type": "code",
   "execution_count": null,
   "metadata": {},
   "outputs": [],
   "source": [
    "counter2_train.save('../input/train/context_vids.txt')"
   ]
  },
  {
   "cell_type": "code",
   "execution_count": null,
   "metadata": {},
   "outputs": [],
   "source": [
    "counter2_eval.save('../input/eval/context_vids.txt')"
   ]
  },
  {
   "cell_type": "code",
   "execution_count": null,
   "metadata": {},
   "outputs": [],
   "source": [
    "for vid, count in counter2.counter.items():\n",
    "  counter.add(vid, count)"
   ]
  },
  {
   "cell_type": "code",
   "execution_count": null,
   "metadata": {},
   "outputs": [],
   "source": [
    "len(counter.counter)"
   ]
  },
  {
   "cell_type": "code",
   "execution_count": null,
   "metadata": {},
   "outputs": [],
   "source": [
    "counter.save('../input/all/vids.txt')"
   ]
  },
  {
   "cell_type": "code",
   "execution_count": null,
   "metadata": {},
   "outputs": [],
   "source": [
    "vocab = gezi.Vocab('../input/all/vids.txt')"
   ]
  },
  {
   "cell_type": "code",
   "execution_count": null,
   "metadata": {},
   "outputs": [],
   "source": [
    "vocab.id('2515906008')"
   ]
  },
  {
   "cell_type": "code",
   "execution_count": null,
   "metadata": {},
   "outputs": [],
   "source": [
    "vocab.size()"
   ]
  },
  {
   "cell_type": "code",
   "execution_count": null,
   "metadata": {},
   "outputs": [],
   "source": [
    "for vid, count in counter2_train.counter.items():\n",
    "  counter_train.add(vid, count)"
   ]
  },
  {
   "cell_type": "code",
   "execution_count": null,
   "metadata": {},
   "outputs": [],
   "source": [
    "counter_train.save('../input/train/vids.txt')"
   ]
  },
  {
   "cell_type": "markdown",
   "metadata": {},
   "source": [
    "# vocab of words"
   ]
  },
  {
   "cell_type": "code",
   "execution_count": null,
   "metadata": {},
   "outputs": [],
   "source": [
    "counter_words = gezi.WordCounter()"
   ]
  },
  {
   "cell_type": "code",
   "execution_count": null,
   "metadata": {},
   "outputs": [],
   "source": [
    "vinfo = pq.read_table('../input/train/raw.parquet').to_pandas()"
   ]
  },
  {
   "cell_type": "code",
   "execution_count": null,
   "metadata": {},
   "outputs": [],
   "source": [
    "for i in range(len(vinfo)):\n",
    "  for word in vinfo.title[i].split(','):\n",
    "    if word:\n",
    "      counter_words.add(word)"
   ]
  },
  {
   "cell_type": "code",
   "execution_count": null,
   "metadata": {},
   "outputs": [],
   "source": [
    "len(counter_words.counter)"
   ]
  },
  {
   "cell_type": "code",
   "execution_count": null,
   "metadata": {},
   "outputs": [],
   "source": [
    "counter_words.counter"
   ]
  },
  {
   "cell_type": "code",
   "execution_count": null,
   "metadata": {},
   "outputs": [],
   "source": [
    "counter_words.save('../input/all/words.txt')"
   ]
  },
  {
   "cell_type": "markdown",
   "metadata": {},
   "source": [
    "# vocab of stars"
   ]
  },
  {
   "cell_type": "code",
   "execution_count": null,
   "metadata": {},
   "outputs": [],
   "source": [
    "counter = gezi.WordCounter()\n",
    "counter_train = gezi.WordCounter()\n",
    "counter_eval = gezi.WordCounter()"
   ]
  },
  {
   "cell_type": "code",
   "execution_count": null,
   "metadata": {},
   "outputs": [],
   "source": [
    "for k in tqdm(range(30)):\n",
    "  d = gezi.read_parquet(f'../input/train/part_{k + 1}/item.parquet')\n",
    "  stars = d.stars.values\n",
    "  for i in range(len(stars)):\n",
    "    for star in stars[i]:\n",
    "      counter.add(star)\n",
    "      counter_train.add(star)"
   ]
  },
  {
   "cell_type": "code",
   "execution_count": null,
   "metadata": {},
   "outputs": [],
   "source": [
    "d = gezi.read_parquet('../input/eval/item.parquet')\n",
    "stars = d.stars.values\n",
    "for i in range(len(stars)):\n",
    "  for star in stars[i]:\n",
    "    counter.add(star)\n",
    "    counter_eval.add(star)"
   ]
  },
  {
   "cell_type": "code",
   "execution_count": null,
   "metadata": {},
   "outputs": [],
   "source": [
    "len(counter.counter)"
   ]
  },
  {
   "cell_type": "code",
   "execution_count": null,
   "metadata": {},
   "outputs": [],
   "source": [
    "len(counter_train.counter)"
   ]
  },
  {
   "cell_type": "code",
   "execution_count": null,
   "metadata": {},
   "outputs": [],
   "source": [
    "len(counter_eval.counter)"
   ]
  },
  {
   "cell_type": "code",
   "execution_count": null,
   "metadata": {},
   "outputs": [],
   "source": [
    "len(set(counter_eval.counter.keys()) - set(counter_train.counter.keys()))"
   ]
  },
  {
   "cell_type": "code",
   "execution_count": null,
   "metadata": {},
   "outputs": [],
   "source": [
    "counter.save('../input/all/stars.txt')"
   ]
  },
  {
   "cell_type": "markdown",
   "metadata": {},
   "source": [
    "# vocab fo video classes"
   ]
  },
  {
   "cell_type": "code",
   "execution_count": 3,
   "metadata": {},
   "outputs": [
    {
     "name": "stderr",
     "output_type": "stream",
     "text": [
      "100%|██████████| 30/30 [00:00<00:00, 31.30it/s]\n"
     ]
    }
   ],
   "source": [
    "dis = []\n",
    "for k in tqdm(range(30)):\n",
    "  d = gezi.read_parquet(f'../input/train/part_{k + 1}/item.parquet')\n",
    "  dis += [d]\n",
    "dis += [gezi.read_parquet('../input/eval/item.parquet')]\n",
    "dis = pd.concat(dis)"
   ]
  },
  {
   "cell_type": "code",
   "execution_count": 4,
   "metadata": {},
   "outputs": [
    {
     "data": {
      "text/html": [
       "<div>\n",
       "<style scoped>\n",
       "    .dataframe tbody tr th:only-of-type {\n",
       "        vertical-align: middle;\n",
       "    }\n",
       "\n",
       "    .dataframe tbody tr th {\n",
       "        vertical-align: top;\n",
       "    }\n",
       "\n",
       "    .dataframe thead th {\n",
       "        text-align: right;\n",
       "    }\n",
       "</style>\n",
       "<table border=\"1\" class=\"dataframe\">\n",
       "  <thead>\n",
       "    <tr style=\"text-align: right;\">\n",
       "      <th></th>\n",
       "      <th>vid</th>\n",
       "      <th>title_length</th>\n",
       "      <th>timestamp</th>\n",
       "      <th>stars</th>\n",
       "      <th>cid</th>\n",
       "      <th>class_id</th>\n",
       "      <th>is_intact</th>\n",
       "      <th>second_class</th>\n",
       "      <th>duration</th>\n",
       "      <th>ctr</th>\n",
       "      <th>vv</th>\n",
       "    </tr>\n",
       "  </thead>\n",
       "  <tbody>\n",
       "    <tr>\n",
       "      <th>0</th>\n",
       "      <td>5893106</td>\n",
       "      <td>25</td>\n",
       "      <td>1411552000</td>\n",
       "      <td>[]</td>\n",
       "      <td>600008821</td>\n",
       "      <td>3174145329</td>\n",
       "      <td>2234347078</td>\n",
       "      <td>0</td>\n",
       "      <td>86.110001</td>\n",
       "      <td>0.000</td>\n",
       "      <td>1396.0</td>\n",
       "    </tr>\n",
       "    <tr>\n",
       "      <th>1</th>\n",
       "      <td>15819492</td>\n",
       "      <td>98</td>\n",
       "      <td>1407204002</td>\n",
       "      <td>[2950753864, 3600550670, 3606342894, 333836411...</td>\n",
       "      <td>638675564</td>\n",
       "      <td>1413776458</td>\n",
       "      <td>2234347078</td>\n",
       "      <td>0</td>\n",
       "      <td>6954.200195</td>\n",
       "      <td>0.000</td>\n",
       "      <td>1100.0</td>\n",
       "    </tr>\n",
       "    <tr>\n",
       "      <th>2</th>\n",
       "      <td>16814925</td>\n",
       "      <td>21</td>\n",
       "      <td>1380506136</td>\n",
       "      <td>[]</td>\n",
       "      <td>511097257</td>\n",
       "      <td>3174145329</td>\n",
       "      <td>2234347078</td>\n",
       "      <td>0</td>\n",
       "      <td>317.190002</td>\n",
       "      <td>0.000</td>\n",
       "      <td>4196.0</td>\n",
       "    </tr>\n",
       "    <tr>\n",
       "      <th>3</th>\n",
       "      <td>43514419</td>\n",
       "      <td>41</td>\n",
       "      <td>1394444128</td>\n",
       "      <td>[3969330486]</td>\n",
       "      <td>3803211341</td>\n",
       "      <td>1574940925</td>\n",
       "      <td>2234347078</td>\n",
       "      <td>0</td>\n",
       "      <td>442.540009</td>\n",
       "      <td>0.000</td>\n",
       "      <td>48.0</td>\n",
       "    </tr>\n",
       "    <tr>\n",
       "      <th>4</th>\n",
       "      <td>66011667</td>\n",
       "      <td>64</td>\n",
       "      <td>1330590997</td>\n",
       "      <td>[359879236, 3688805521, 3190039951]</td>\n",
       "      <td>1009927708</td>\n",
       "      <td>3443952599</td>\n",
       "      <td>3172394293</td>\n",
       "      <td>1112680423</td>\n",
       "      <td>213.639999</td>\n",
       "      <td>0.000</td>\n",
       "      <td>8.0</td>\n",
       "    </tr>\n",
       "    <tr>\n",
       "      <th>...</th>\n",
       "      <td>...</td>\n",
       "      <td>...</td>\n",
       "      <td>...</td>\n",
       "      <td>...</td>\n",
       "      <td>...</td>\n",
       "      <td>...</td>\n",
       "      <td>...</td>\n",
       "      <td>...</td>\n",
       "      <td>...</td>\n",
       "      <td>...</td>\n",
       "      <td>...</td>\n",
       "    </tr>\n",
       "    <tr>\n",
       "      <th>57230</th>\n",
       "      <td>4248901384</td>\n",
       "      <td>21</td>\n",
       "      <td>1422849565</td>\n",
       "      <td>[3902504787, 1235418045, 3804658193]</td>\n",
       "      <td>4074303298</td>\n",
       "      <td>1820266297</td>\n",
       "      <td>2234347078</td>\n",
       "      <td>0</td>\n",
       "      <td>1387.569946</td>\n",
       "      <td>0.000</td>\n",
       "      <td>5376.0</td>\n",
       "    </tr>\n",
       "    <tr>\n",
       "      <th>57231</th>\n",
       "      <td>4251549294</td>\n",
       "      <td>102</td>\n",
       "      <td>1331483047</td>\n",
       "      <td>[3491274685, 3673020319, 420212420, 2851531837...</td>\n",
       "      <td>3840315261</td>\n",
       "      <td>1413776458</td>\n",
       "      <td>3445748691</td>\n",
       "      <td>0</td>\n",
       "      <td>57.770000</td>\n",
       "      <td>0.000</td>\n",
       "      <td>80.0</td>\n",
       "    </tr>\n",
       "    <tr>\n",
       "      <th>57232</th>\n",
       "      <td>4255628613</td>\n",
       "      <td>33</td>\n",
       "      <td>1413545288</td>\n",
       "      <td>[1134598214]</td>\n",
       "      <td>1016220003</td>\n",
       "      <td>1820266297</td>\n",
       "      <td>2234347078</td>\n",
       "      <td>0</td>\n",
       "      <td>35.970001</td>\n",
       "      <td>0.000</td>\n",
       "      <td>480.0</td>\n",
       "    </tr>\n",
       "    <tr>\n",
       "      <th>57233</th>\n",
       "      <td>4272496705</td>\n",
       "      <td>80</td>\n",
       "      <td>1387029762</td>\n",
       "      <td>[3309131045, 2561243119, 184102567, 2880021111...</td>\n",
       "      <td>435329116</td>\n",
       "      <td>1820266297</td>\n",
       "      <td>472867291</td>\n",
       "      <td>0</td>\n",
       "      <td>115.540001</td>\n",
       "      <td>0.000</td>\n",
       "      <td>92.0</td>\n",
       "    </tr>\n",
       "    <tr>\n",
       "      <th>57234</th>\n",
       "      <td>4283547666</td>\n",
       "      <td>58</td>\n",
       "      <td>1424684908</td>\n",
       "      <td>[2142910698, 1316768238, 1853987563, 1984414365]</td>\n",
       "      <td>2753664459</td>\n",
       "      <td>470292959</td>\n",
       "      <td>2234347078</td>\n",
       "      <td>0</td>\n",
       "      <td>154.779999</td>\n",
       "      <td>0.045</td>\n",
       "      <td>10440.0</td>\n",
       "    </tr>\n",
       "  </tbody>\n",
       "</table>\n",
       "<p>1639211 rows × 11 columns</p>\n",
       "</div>"
      ],
      "text/plain": [
       "              vid  title_length   timestamp  \\\n",
       "0         5893106            25  1411552000   \n",
       "1        15819492            98  1407204002   \n",
       "2        16814925            21  1380506136   \n",
       "3        43514419            41  1394444128   \n",
       "4        66011667            64  1330590997   \n",
       "...           ...           ...         ...   \n",
       "57230  4248901384            21  1422849565   \n",
       "57231  4251549294           102  1331483047   \n",
       "57232  4255628613            33  1413545288   \n",
       "57233  4272496705            80  1387029762   \n",
       "57234  4283547666            58  1424684908   \n",
       "\n",
       "                                                   stars         cid  \\\n",
       "0                                                     []   600008821   \n",
       "1      [2950753864, 3600550670, 3606342894, 333836411...   638675564   \n",
       "2                                                     []   511097257   \n",
       "3                                           [3969330486]  3803211341   \n",
       "4                    [359879236, 3688805521, 3190039951]  1009927708   \n",
       "...                                                  ...         ...   \n",
       "57230               [3902504787, 1235418045, 3804658193]  4074303298   \n",
       "57231  [3491274685, 3673020319, 420212420, 2851531837...  3840315261   \n",
       "57232                                       [1134598214]  1016220003   \n",
       "57233  [3309131045, 2561243119, 184102567, 2880021111...   435329116   \n",
       "57234   [2142910698, 1316768238, 1853987563, 1984414365]  2753664459   \n",
       "\n",
       "         class_id   is_intact  second_class     duration    ctr       vv  \n",
       "0      3174145329  2234347078             0    86.110001  0.000   1396.0  \n",
       "1      1413776458  2234347078             0  6954.200195  0.000   1100.0  \n",
       "2      3174145329  2234347078             0   317.190002  0.000   4196.0  \n",
       "3      1574940925  2234347078             0   442.540009  0.000     48.0  \n",
       "4      3443952599  3172394293    1112680423   213.639999  0.000      8.0  \n",
       "...           ...         ...           ...          ...    ...      ...  \n",
       "57230  1820266297  2234347078             0  1387.569946  0.000   5376.0  \n",
       "57231  1413776458  3445748691             0    57.770000  0.000     80.0  \n",
       "57232  1820266297  2234347078             0    35.970001  0.000    480.0  \n",
       "57233  1820266297   472867291             0   115.540001  0.000     92.0  \n",
       "57234   470292959  2234347078             0   154.779999  0.045  10440.0  \n",
       "\n",
       "[1639211 rows x 11 columns]"
      ]
     },
     "execution_count": 4,
     "metadata": {},
     "output_type": "execute_result"
    }
   ],
   "source": [
    "dis"
   ]
  },
  {
   "cell_type": "code",
   "execution_count": null,
   "metadata": {},
   "outputs": [],
   "source": [
    "len(set(dis.cid))"
   ]
  },
  {
   "cell_type": "code",
   "execution_count": null,
   "metadata": {},
   "outputs": [],
   "source": [
    "len(set(dis.class_id))"
   ]
  },
  {
   "cell_type": "code",
   "execution_count": null,
   "metadata": {},
   "outputs": [],
   "source": [
    "len(set(dis.second_class))"
   ]
  },
  {
   "cell_type": "code",
   "execution_count": null,
   "metadata": {},
   "outputs": [],
   "source": [
    "len(set(dis.is_intact))"
   ]
  },
  {
   "cell_type": "code",
   "execution_count": null,
   "metadata": {},
   "outputs": [],
   "source": [
    "list(dis.groupby('cid').size())"
   ]
  },
  {
   "cell_type": "code",
   "execution_count": null,
   "metadata": {},
   "outputs": [],
   "source": [
    "dis.groupby('cid').size().max()"
   ]
  },
  {
   "cell_type": "code",
   "execution_count": null,
   "metadata": {},
   "outputs": [],
   "source": [
    "dis.groupby('class_id').size()"
   ]
  },
  {
   "cell_type": "code",
   "execution_count": null,
   "metadata": {},
   "outputs": [],
   "source": [
    "dis.groupby('second_class').size() "
   ]
  },
  {
   "cell_type": "code",
   "execution_count": null,
   "metadata": {},
   "outputs": [],
   "source": [
    "sum(dis.groupby('second_class').size() == 1)"
   ]
  },
  {
   "cell_type": "code",
   "execution_count": null,
   "metadata": {},
   "outputs": [],
   "source": [
    "dis[dis.second_class==39363244]"
   ]
  },
  {
   "cell_type": "code",
   "execution_count": null,
   "metadata": {},
   "outputs": [],
   "source": [
    "dis.groupby('is_intact').size() "
   ]
  },
  {
   "cell_type": "code",
   "execution_count": null,
   "metadata": {},
   "outputs": [],
   "source": [
    "counter = gezi.WordCounter()\n",
    "counter.adds(dis.cid)\n",
    "counter.save('../input/all/cid.txt')"
   ]
  },
  {
   "cell_type": "code",
   "execution_count": null,
   "metadata": {},
   "outputs": [],
   "source": [
    "counter = gezi.WordCounter()\n",
    "counter.adds(dis.class_id)\n",
    "counter.save('../input/all/class_id.txt')"
   ]
  },
  {
   "cell_type": "code",
   "execution_count": null,
   "metadata": {},
   "outputs": [],
   "source": [
    "counter = gezi.WordCounter()\n",
    "counter.adds(dis.second_class)\n",
    "counter.save('../input/all/second_class.txt')"
   ]
  },
  {
   "cell_type": "code",
   "execution_count": 5,
   "metadata": {},
   "outputs": [
    {
     "name": "stderr",
     "output_type": "stream",
     "text": [
      "total_count 1639211 unknown_count 0 total_word 7\n"
     ]
    }
   ],
   "source": [
    "counter = gezi.WordCounter()\n",
    "counter.adds(dis.is_intact)\n",
    "counter.save('../input/all/is_intact.txt')"
   ]
  },
  {
   "cell_type": "markdown",
   "metadata": {},
   "source": [
    "# vocab of class infos"
   ]
  },
  {
   "cell_type": "code",
   "execution_count": null,
   "metadata": {},
   "outputs": [],
   "source": [
    "dcs = []\n",
    "for k in tqdm(range(30)):\n",
    "  d = gezi.read_parquet(f'../input/train/part_{k + 1}/context.parquet')\n",
    "  dcs += [d]\n",
    "dcs += [gezi.read_parquet('../input/eval/context.parquet')]\n",
    "dcs = pd.concat(dcs)"
   ]
  },
  {
   "cell_type": "code",
   "execution_count": null,
   "metadata": {},
   "outputs": [],
   "source": [
    "dcs"
   ]
  },
  {
   "cell_type": "code",
   "execution_count": null,
   "metadata": {},
   "outputs": [],
   "source": [
    "len(set(dcs.vid))"
   ]
  },
  {
   "cell_type": "code",
   "execution_count": null,
   "metadata": {},
   "outputs": [],
   "source": [
    "len(set(dcs.did))"
   ]
  },
  {
   "cell_type": "code",
   "execution_count": null,
   "metadata": {},
   "outputs": [],
   "source": [
    "len(set(dcs.aver))"
   ]
  },
  {
   "cell_type": "code",
   "execution_count": null,
   "metadata": {},
   "outputs": [],
   "source": [
    "len(set(dcs.mf))"
   ]
  },
  {
   "cell_type": "code",
   "execution_count": null,
   "metadata": {},
   "outputs": [],
   "source": [
    "len(set(dcs['mod']))"
   ]
  },
  {
   "cell_type": "code",
   "execution_count": null,
   "metadata": {},
   "outputs": [],
   "source": [
    "len(set(dcs.region))"
   ]
  },
  {
   "cell_type": "code",
   "execution_count": null,
   "metadata": {},
   "outputs": [],
   "source": [
    "len(set(dcs.sver))"
   ]
  },
  {
   "cell_type": "code",
   "execution_count": null,
   "metadata": {},
   "outputs": [],
   "source": [
    "counter = gezi.WordCounter()\n",
    "counter.adds(dcs.did)\n",
    "counter.save('../input/all/did.txt')"
   ]
  },
  {
   "cell_type": "code",
   "execution_count": null,
   "metadata": {},
   "outputs": [],
   "source": [
    "counter = gezi.WordCounter()\n",
    "counter.adds(dcs.aver)\n",
    "counter.save('../input/all/aver.txt')"
   ]
  },
  {
   "cell_type": "code",
   "execution_count": null,
   "metadata": {},
   "outputs": [],
   "source": [
    "counter = gezi.WordCounter()\n",
    "counter.adds(dcs.mf)\n",
    "counter.save('../input/all/mf.txt')"
   ]
  },
  {
   "cell_type": "code",
   "execution_count": null,
   "metadata": {},
   "outputs": [],
   "source": [
    "counter = gezi.WordCounter()\n",
    "counter.adds(dcs['mod'])\n",
    "counter.save('../input/all/mod.txt')"
   ]
  },
  {
   "cell_type": "code",
   "execution_count": null,
   "metadata": {},
   "outputs": [],
   "source": [
    "counter = gezi.WordCounter()\n",
    "counter.adds(dcs.region)\n",
    "counter.save('../input/all/region.txt')"
   ]
  },
  {
   "cell_type": "code",
   "execution_count": null,
   "metadata": {},
   "outputs": [],
   "source": [
    "counter = gezi.WordCounter()\n",
    "counter.adds(dcs.sver)\n",
    "counter.save('../input/all/sver.txt')"
   ]
  },
  {
   "cell_type": "code",
   "execution_count": null,
   "metadata": {},
   "outputs": [],
   "source": [
    "dcs[dcs.did=='8b326c7bbff886d86e3e36a9183abdf4']"
   ]
  },
  {
   "cell_type": "code",
   "execution_count": null,
   "metadata": {},
   "outputs": [],
   "source": [
    "dc_train = []\n",
    "for k in tqdm(range(30)):\n",
    "  d = gezi.read_parquet(f'../input/train/part_{k + 1}/context.parquet')\n",
    "  dc_train += [d]\n",
    "dct = pd.concat(dc_train)\n",
    "dce = gezi.read_parquet('../input/eval/context.parquet')"
   ]
  },
  {
   "cell_type": "code",
   "execution_count": null,
   "metadata": {},
   "outputs": [],
   "source": [
    "len(set(dct.did) & set(dce.did))"
   ]
  },
  {
   "cell_type": "code",
   "execution_count": null,
   "metadata": {},
   "outputs": [],
   "source": [
    "len(set(dce.did))"
   ]
  },
  {
   "cell_type": "code",
   "execution_count": null,
   "metadata": {},
   "outputs": [],
   "source": [
    "len(set(dct.did) & set(dce.did)) / len(set(dce.did))"
   ]
  },
  {
   "cell_type": "code",
   "execution_count": null,
   "metadata": {},
   "outputs": [],
   "source": [
    "# 如果用uid 只能每天记录 uid 访问次数  TODO \n",
    "# 需要对用户维度降采样吗 这种用户记录超多的。。"
   ]
  },
  {
   "cell_type": "code",
   "execution_count": null,
   "metadata": {},
   "outputs": [],
   "source": [
    "dct[dct.did=='8b326c7bbff886d86e3e36a9183abdf4']"
   ]
  },
  {
   "cell_type": "code",
   "execution_count": null,
   "metadata": {},
   "outputs": [],
   "source": [
    "dce[dce.did=='8b326c7bbff886d86e3e36a9183abdf4']"
   ]
  },
  {
   "cell_type": "code",
   "execution_count": null,
   "metadata": {},
   "outputs": [],
   "source": [
    "len(dce[dce.did.isin(set(dct.did) & set(dce.did))]) / len(dce)"
   ]
  }
 ],
 "metadata": {
  "kernelspec": {
   "display_name": "Python 3",
   "language": "python",
   "name": "python3"
  },
  "language_info": {
   "codemirror_mode": {
    "name": "ipython",
    "version": 3
   },
   "file_extension": ".py",
   "mimetype": "text/x-python",
   "name": "python",
   "nbconvert_exporter": "python",
   "pygments_lexer": "ipython3",
   "version": "3.6.8"
  }
 },
 "nbformat": 4,
 "nbformat_minor": 2
}
