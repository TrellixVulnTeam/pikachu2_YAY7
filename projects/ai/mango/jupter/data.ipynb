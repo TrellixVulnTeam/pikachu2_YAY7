{
 "cells": [
  {
   "cell_type": "code",
   "execution_count": 4,
   "metadata": {},
   "outputs": [
    {
     "data": {
      "text/html": [
       "        <script type=\"text/javascript\">\n",
       "        window.PlotlyConfig = {MathJaxConfig: 'local'};\n",
       "        if (window.MathJax) {MathJax.Hub.Config({SVG: {font: \"STIX-Web\"}});}\n",
       "        if (typeof require !== 'undefined') {\n",
       "        require.undef(\"plotly\");\n",
       "        requirejs.config({\n",
       "            paths: {\n",
       "                'plotly': ['https://cdn.plot.ly/plotly-latest.min']\n",
       "            }\n",
       "        });\n",
       "        require(['plotly'], function(Plotly) {\n",
       "            window._Plotly = Plotly;\n",
       "        });\n",
       "        }\n",
       "        </script>\n",
       "        "
      ]
     },
     "metadata": {},
     "output_type": "display_data"
    }
   ],
   "source": [
    "import os, sys\n",
    "import glob\n",
    "import time\n",
    "from datetime import timedelta, datetime\n",
    "import pandas as pd\n",
    "from plotly.graph_objs import Scatter,Layout\n",
    "import plotly\n",
    "import plotly.offline as py\n",
    "import numpy as np\n",
    "import plotly.graph_objs as go\n",
    "from plotly.subplots import make_subplots\n",
    "import plotly.express as px\n",
    "#setting offilne\n",
    "plotly.offline.init_notebook_mode(connected=True)\n",
    "import pyarrow.parquet as pq\n",
    "import json\n",
    "from gezi import tqdm\n",
    "import gezi"
   ]
  },
  {
   "cell_type": "code",
   "execution_count": 5,
   "metadata": {},
   "outputs": [],
   "source": [
    "t = pq.read_table('../input/train/part_1/context.parquet')\n",
    "dc1 = t.to_pandas()"
   ]
  },
  {
   "cell_type": "code",
   "execution_count": 6,
   "metadata": {},
   "outputs": [
    {
     "data": {
      "text/html": [
       "<div>\n",
       "<style scoped>\n",
       "    .dataframe tbody tr th:only-of-type {\n",
       "        vertical-align: middle;\n",
       "    }\n",
       "\n",
       "    .dataframe tbody tr th {\n",
       "        vertical-align: top;\n",
       "    }\n",
       "\n",
       "    .dataframe thead th {\n",
       "        text-align: right;\n",
       "    }\n",
       "</style>\n",
       "<table border=\"1\" class=\"dataframe\">\n",
       "  <thead>\n",
       "    <tr style=\"text-align: right;\">\n",
       "      <th></th>\n",
       "      <th>label</th>\n",
       "      <th>mod</th>\n",
       "      <th>mf</th>\n",
       "      <th>aver</th>\n",
       "      <th>sver</th>\n",
       "      <th>did</th>\n",
       "      <th>vid</th>\n",
       "      <th>prev</th>\n",
       "      <th>region</th>\n",
       "      <th>timestamp</th>\n",
       "      <th>index</th>\n",
       "    </tr>\n",
       "  </thead>\n",
       "  <tbody>\n",
       "    <tr>\n",
       "      <th>0</th>\n",
       "      <td>0</td>\n",
       "      <td>3687d08aeb8187c7691704b72fcbede2</td>\n",
       "      <td>932a5cc56763396c6b205a63868d6316</td>\n",
       "      <td>183e022fe835e248ec27774c2687e312</td>\n",
       "      <td>fb7400b0ab4726a59464a94b6842f136</td>\n",
       "      <td>3a0e9618b3fcf518deae3dce5babe72f</td>\n",
       "      <td>1904212554</td>\n",
       "      <td>0</td>\n",
       "      <td>2247014434</td>\n",
       "      <td>1424424164</td>\n",
       "      <td>0</td>\n",
       "    </tr>\n",
       "    <tr>\n",
       "      <th>1</th>\n",
       "      <td>0</td>\n",
       "      <td>3687d08aeb8187c7691704b72fcbede2</td>\n",
       "      <td>932a5cc56763396c6b205a63868d6316</td>\n",
       "      <td>183e022fe835e248ec27774c2687e312</td>\n",
       "      <td>fb7400b0ab4726a59464a94b6842f136</td>\n",
       "      <td>3a0e9618b3fcf518deae3dce5babe72f</td>\n",
       "      <td>4106149810</td>\n",
       "      <td>2572513449</td>\n",
       "      <td>2247014434</td>\n",
       "      <td>1424424153</td>\n",
       "      <td>1</td>\n",
       "    </tr>\n",
       "    <tr>\n",
       "      <th>2</th>\n",
       "      <td>0</td>\n",
       "      <td>3687d08aeb8187c7691704b72fcbede2</td>\n",
       "      <td>932a5cc56763396c6b205a63868d6316</td>\n",
       "      <td>183e022fe835e248ec27774c2687e312</td>\n",
       "      <td>fb7400b0ab4726a59464a94b6842f136</td>\n",
       "      <td>3a0e9618b3fcf518deae3dce5babe72f</td>\n",
       "      <td>3471448782</td>\n",
       "      <td>0</td>\n",
       "      <td>2247014434</td>\n",
       "      <td>1424424165</td>\n",
       "      <td>2</td>\n",
       "    </tr>\n",
       "    <tr>\n",
       "      <th>3</th>\n",
       "      <td>0</td>\n",
       "      <td>3687d08aeb8187c7691704b72fcbede2</td>\n",
       "      <td>932a5cc56763396c6b205a63868d6316</td>\n",
       "      <td>183e022fe835e248ec27774c2687e312</td>\n",
       "      <td>fb7400b0ab4726a59464a94b6842f136</td>\n",
       "      <td>3a0e9618b3fcf518deae3dce5babe72f</td>\n",
       "      <td>3408428944</td>\n",
       "      <td>0</td>\n",
       "      <td>2247014434</td>\n",
       "      <td>1424424159</td>\n",
       "      <td>3</td>\n",
       "    </tr>\n",
       "    <tr>\n",
       "      <th>4</th>\n",
       "      <td>0</td>\n",
       "      <td>3687d08aeb8187c7691704b72fcbede2</td>\n",
       "      <td>932a5cc56763396c6b205a63868d6316</td>\n",
       "      <td>183e022fe835e248ec27774c2687e312</td>\n",
       "      <td>fb7400b0ab4726a59464a94b6842f136</td>\n",
       "      <td>3a0e9618b3fcf518deae3dce5babe72f</td>\n",
       "      <td>3897511701</td>\n",
       "      <td>0</td>\n",
       "      <td>2247014434</td>\n",
       "      <td>1424424165</td>\n",
       "      <td>4</td>\n",
       "    </tr>\n",
       "    <tr>\n",
       "      <th>...</th>\n",
       "      <td>...</td>\n",
       "      <td>...</td>\n",
       "      <td>...</td>\n",
       "      <td>...</td>\n",
       "      <td>...</td>\n",
       "      <td>...</td>\n",
       "      <td>...</td>\n",
       "      <td>...</td>\n",
       "      <td>...</td>\n",
       "      <td>...</td>\n",
       "      <td>...</td>\n",
       "    </tr>\n",
       "    <tr>\n",
       "      <th>3208241</th>\n",
       "      <td>0</td>\n",
       "      <td>f7e745854c964620cea4ddfba338997a</td>\n",
       "      <td>e5f6bc8339ca5d6014c5b16a155c982d</td>\n",
       "      <td>3d731b6cd0c6fcb58ed6ece61f2b93f5</td>\n",
       "      <td>1c58433296d1b994e72747f4b3cddbf5</td>\n",
       "      <td>a9f1c66604ba2f9d69a9d945a8bfb1a8</td>\n",
       "      <td>3568116718</td>\n",
       "      <td>0</td>\n",
       "      <td>4253243724</td>\n",
       "      <td>1424368139</td>\n",
       "      <td>3208241</td>\n",
       "    </tr>\n",
       "    <tr>\n",
       "      <th>3208242</th>\n",
       "      <td>0</td>\n",
       "      <td>f7e745854c964620cea4ddfba338997a</td>\n",
       "      <td>e5f6bc8339ca5d6014c5b16a155c982d</td>\n",
       "      <td>3d731b6cd0c6fcb58ed6ece61f2b93f5</td>\n",
       "      <td>1c58433296d1b994e72747f4b3cddbf5</td>\n",
       "      <td>a9f1c66604ba2f9d69a9d945a8bfb1a8</td>\n",
       "      <td>2392759732</td>\n",
       "      <td>0</td>\n",
       "      <td>4253243724</td>\n",
       "      <td>1424367951</td>\n",
       "      <td>3208242</td>\n",
       "    </tr>\n",
       "    <tr>\n",
       "      <th>3208243</th>\n",
       "      <td>0</td>\n",
       "      <td>f7e745854c964620cea4ddfba338997a</td>\n",
       "      <td>e5f6bc8339ca5d6014c5b16a155c982d</td>\n",
       "      <td>3d731b6cd0c6fcb58ed6ece61f2b93f5</td>\n",
       "      <td>1c58433296d1b994e72747f4b3cddbf5</td>\n",
       "      <td>a9f1c66604ba2f9d69a9d945a8bfb1a8</td>\n",
       "      <td>3434540519</td>\n",
       "      <td>0</td>\n",
       "      <td>4253243724</td>\n",
       "      <td>1424368152</td>\n",
       "      <td>3208243</td>\n",
       "    </tr>\n",
       "    <tr>\n",
       "      <th>3208244</th>\n",
       "      <td>0</td>\n",
       "      <td>13bc10caa52bee55b48ec9e91ba92a50</td>\n",
       "      <td>49b4350906323cb44f6ce51ab22f2379</td>\n",
       "      <td>fb1ec50d3ce5505057f763c49d503b5a</td>\n",
       "      <td>ba195dd85894d6957bc61edca5ac7026</td>\n",
       "      <td>f717e2165118b1ec42fdc6057d65ebbd</td>\n",
       "      <td>2004359521</td>\n",
       "      <td>1665726605</td>\n",
       "      <td>3806913320</td>\n",
       "      <td>1424416282</td>\n",
       "      <td>3208244</td>\n",
       "    </tr>\n",
       "    <tr>\n",
       "      <th>3208245</th>\n",
       "      <td>1</td>\n",
       "      <td>13bc10caa52bee55b48ec9e91ba92a50</td>\n",
       "      <td>49b4350906323cb44f6ce51ab22f2379</td>\n",
       "      <td>fb1ec50d3ce5505057f763c49d503b5a</td>\n",
       "      <td>ba195dd85894d6957bc61edca5ac7026</td>\n",
       "      <td>f717e2165118b1ec42fdc6057d65ebbd</td>\n",
       "      <td>816517913</td>\n",
       "      <td>3192798612</td>\n",
       "      <td>3806913320</td>\n",
       "      <td>1424416282</td>\n",
       "      <td>3208245</td>\n",
       "    </tr>\n",
       "  </tbody>\n",
       "</table>\n",
       "<p>3208246 rows × 11 columns</p>\n",
       "</div>"
      ],
      "text/plain": [
       "         label                               mod  \\\n",
       "0            0  3687d08aeb8187c7691704b72fcbede2   \n",
       "1            0  3687d08aeb8187c7691704b72fcbede2   \n",
       "2            0  3687d08aeb8187c7691704b72fcbede2   \n",
       "3            0  3687d08aeb8187c7691704b72fcbede2   \n",
       "4            0  3687d08aeb8187c7691704b72fcbede2   \n",
       "...        ...                               ...   \n",
       "3208241      0  f7e745854c964620cea4ddfba338997a   \n",
       "3208242      0  f7e745854c964620cea4ddfba338997a   \n",
       "3208243      0  f7e745854c964620cea4ddfba338997a   \n",
       "3208244      0  13bc10caa52bee55b48ec9e91ba92a50   \n",
       "3208245      1  13bc10caa52bee55b48ec9e91ba92a50   \n",
       "\n",
       "                                       mf                              aver  \\\n",
       "0        932a5cc56763396c6b205a63868d6316  183e022fe835e248ec27774c2687e312   \n",
       "1        932a5cc56763396c6b205a63868d6316  183e022fe835e248ec27774c2687e312   \n",
       "2        932a5cc56763396c6b205a63868d6316  183e022fe835e248ec27774c2687e312   \n",
       "3        932a5cc56763396c6b205a63868d6316  183e022fe835e248ec27774c2687e312   \n",
       "4        932a5cc56763396c6b205a63868d6316  183e022fe835e248ec27774c2687e312   \n",
       "...                                   ...                               ...   \n",
       "3208241  e5f6bc8339ca5d6014c5b16a155c982d  3d731b6cd0c6fcb58ed6ece61f2b93f5   \n",
       "3208242  e5f6bc8339ca5d6014c5b16a155c982d  3d731b6cd0c6fcb58ed6ece61f2b93f5   \n",
       "3208243  e5f6bc8339ca5d6014c5b16a155c982d  3d731b6cd0c6fcb58ed6ece61f2b93f5   \n",
       "3208244  49b4350906323cb44f6ce51ab22f2379  fb1ec50d3ce5505057f763c49d503b5a   \n",
       "3208245  49b4350906323cb44f6ce51ab22f2379  fb1ec50d3ce5505057f763c49d503b5a   \n",
       "\n",
       "                                     sver                               did  \\\n",
       "0        fb7400b0ab4726a59464a94b6842f136  3a0e9618b3fcf518deae3dce5babe72f   \n",
       "1        fb7400b0ab4726a59464a94b6842f136  3a0e9618b3fcf518deae3dce5babe72f   \n",
       "2        fb7400b0ab4726a59464a94b6842f136  3a0e9618b3fcf518deae3dce5babe72f   \n",
       "3        fb7400b0ab4726a59464a94b6842f136  3a0e9618b3fcf518deae3dce5babe72f   \n",
       "4        fb7400b0ab4726a59464a94b6842f136  3a0e9618b3fcf518deae3dce5babe72f   \n",
       "...                                   ...                               ...   \n",
       "3208241  1c58433296d1b994e72747f4b3cddbf5  a9f1c66604ba2f9d69a9d945a8bfb1a8   \n",
       "3208242  1c58433296d1b994e72747f4b3cddbf5  a9f1c66604ba2f9d69a9d945a8bfb1a8   \n",
       "3208243  1c58433296d1b994e72747f4b3cddbf5  a9f1c66604ba2f9d69a9d945a8bfb1a8   \n",
       "3208244  ba195dd85894d6957bc61edca5ac7026  f717e2165118b1ec42fdc6057d65ebbd   \n",
       "3208245  ba195dd85894d6957bc61edca5ac7026  f717e2165118b1ec42fdc6057d65ebbd   \n",
       "\n",
       "                vid        prev      region   timestamp    index  \n",
       "0        1904212554           0  2247014434  1424424164        0  \n",
       "1        4106149810  2572513449  2247014434  1424424153        1  \n",
       "2        3471448782           0  2247014434  1424424165        2  \n",
       "3        3408428944           0  2247014434  1424424159        3  \n",
       "4        3897511701           0  2247014434  1424424165        4  \n",
       "...             ...         ...         ...         ...      ...  \n",
       "3208241  3568116718           0  4253243724  1424368139  3208241  \n",
       "3208242  2392759732           0  4253243724  1424367951  3208242  \n",
       "3208243  3434540519           0  4253243724  1424368152  3208243  \n",
       "3208244  2004359521  1665726605  3806913320  1424416282  3208244  \n",
       "3208245   816517913  3192798612  3806913320  1424416282  3208245  \n",
       "\n",
       "[3208246 rows x 11 columns]"
      ]
     },
     "execution_count": 6,
     "metadata": {},
     "output_type": "execute_result"
    }
   ],
   "source": [
    "dc1"
   ]
  },
  {
   "cell_type": "code",
   "execution_count": null,
   "metadata": {},
   "outputs": [],
   "source": []
  },
  {
   "cell_type": "code",
   "execution_count": 4,
   "metadata": {},
   "outputs": [],
   "source": [
    "t = pq.read_table('../input/train/part_2/context.parquet')\n",
    "dc2 = t.to_pandas()"
   ]
  },
  {
   "cell_type": "code",
   "execution_count": 33,
   "metadata": {},
   "outputs": [],
   "source": [
    "t = pq.read_table('../input/train/part_30/context.parquet')\n",
    "dc30 = t.to_pandas()"
   ]
  },
  {
   "cell_type": "code",
   "execution_count": 5,
   "metadata": {},
   "outputs": [
    {
     "data": {
      "text/html": [
       "<div>\n",
       "<style scoped>\n",
       "    .dataframe tbody tr th:only-of-type {\n",
       "        vertical-align: middle;\n",
       "    }\n",
       "\n",
       "    .dataframe tbody tr th {\n",
       "        vertical-align: top;\n",
       "    }\n",
       "\n",
       "    .dataframe thead th {\n",
       "        text-align: right;\n",
       "    }\n",
       "</style>\n",
       "<table border=\"1\" class=\"dataframe\">\n",
       "  <thead>\n",
       "    <tr style=\"text-align: right;\">\n",
       "      <th></th>\n",
       "      <th>label</th>\n",
       "      <th>mod</th>\n",
       "      <th>mf</th>\n",
       "      <th>aver</th>\n",
       "      <th>sver</th>\n",
       "      <th>did</th>\n",
       "      <th>vid</th>\n",
       "      <th>prev</th>\n",
       "      <th>region</th>\n",
       "      <th>timestamp</th>\n",
       "      <th>index</th>\n",
       "    </tr>\n",
       "  </thead>\n",
       "  <tbody>\n",
       "    <tr>\n",
       "      <th>0</th>\n",
       "      <td>0</td>\n",
       "      <td>5138a1999dfadc67a0b6963b7d42c50c</td>\n",
       "      <td>932a5cc56763396c6b205a63868d6316</td>\n",
       "      <td>183e022fe835e248ec27774c2687e312</td>\n",
       "      <td>21032c3a66d86aa1d99127d4b97cb548</td>\n",
       "      <td>97aa418db5bfa71f2289840fb9710ce1</td>\n",
       "      <td>731596015</td>\n",
       "      <td>1436229803</td>\n",
       "      <td>3065549804</td>\n",
       "      <td>1424450984</td>\n",
       "      <td>0</td>\n",
       "    </tr>\n",
       "    <tr>\n",
       "      <th>1</th>\n",
       "      <td>0</td>\n",
       "      <td>5138a1999dfadc67a0b6963b7d42c50c</td>\n",
       "      <td>932a5cc56763396c6b205a63868d6316</td>\n",
       "      <td>183e022fe835e248ec27774c2687e312</td>\n",
       "      <td>21032c3a66d86aa1d99127d4b97cb548</td>\n",
       "      <td>97aa418db5bfa71f2289840fb9710ce1</td>\n",
       "      <td>2408359345</td>\n",
       "      <td>1285724554</td>\n",
       "      <td>3065549804</td>\n",
       "      <td>1424450952</td>\n",
       "      <td>1</td>\n",
       "    </tr>\n",
       "    <tr>\n",
       "      <th>2</th>\n",
       "      <td>0</td>\n",
       "      <td>5138a1999dfadc67a0b6963b7d42c50c</td>\n",
       "      <td>932a5cc56763396c6b205a63868d6316</td>\n",
       "      <td>183e022fe835e248ec27774c2687e312</td>\n",
       "      <td>21032c3a66d86aa1d99127d4b97cb548</td>\n",
       "      <td>97aa418db5bfa71f2289840fb9710ce1</td>\n",
       "      <td>857908303</td>\n",
       "      <td>0</td>\n",
       "      <td>3065549804</td>\n",
       "      <td>1424451018</td>\n",
       "      <td>2</td>\n",
       "    </tr>\n",
       "    <tr>\n",
       "      <th>3</th>\n",
       "      <td>0</td>\n",
       "      <td>5138a1999dfadc67a0b6963b7d42c50c</td>\n",
       "      <td>932a5cc56763396c6b205a63868d6316</td>\n",
       "      <td>183e022fe835e248ec27774c2687e312</td>\n",
       "      <td>21032c3a66d86aa1d99127d4b97cb548</td>\n",
       "      <td>97aa418db5bfa71f2289840fb9710ce1</td>\n",
       "      <td>1427858618</td>\n",
       "      <td>0</td>\n",
       "      <td>3065549804</td>\n",
       "      <td>1424450987</td>\n",
       "      <td>3</td>\n",
       "    </tr>\n",
       "    <tr>\n",
       "      <th>4</th>\n",
       "      <td>0</td>\n",
       "      <td>5138a1999dfadc67a0b6963b7d42c50c</td>\n",
       "      <td>932a5cc56763396c6b205a63868d6316</td>\n",
       "      <td>183e022fe835e248ec27774c2687e312</td>\n",
       "      <td>21032c3a66d86aa1d99127d4b97cb548</td>\n",
       "      <td>97aa418db5bfa71f2289840fb9710ce1</td>\n",
       "      <td>2821273215</td>\n",
       "      <td>0</td>\n",
       "      <td>3065549804</td>\n",
       "      <td>1424450987</td>\n",
       "      <td>4</td>\n",
       "    </tr>\n",
       "    <tr>\n",
       "      <th>...</th>\n",
       "      <td>...</td>\n",
       "      <td>...</td>\n",
       "      <td>...</td>\n",
       "      <td>...</td>\n",
       "      <td>...</td>\n",
       "      <td>...</td>\n",
       "      <td>...</td>\n",
       "      <td>...</td>\n",
       "      <td>...</td>\n",
       "      <td>...</td>\n",
       "      <td>...</td>\n",
       "    </tr>\n",
       "    <tr>\n",
       "      <th>3319810</th>\n",
       "      <td>1</td>\n",
       "      <td>3e9b0f6563536090873992088b64b9ee</td>\n",
       "      <td>9de1665e6430fa58785027dbf9ab53e0</td>\n",
       "      <td>fb1ec50d3ce5505057f763c49d503b5a</td>\n",
       "      <td>ba195dd85894d6957bc61edca5ac7026</td>\n",
       "      <td>0edd34b914d329efd93893604491f99f</td>\n",
       "      <td>4250365497</td>\n",
       "      <td>1256605048</td>\n",
       "      <td>3781572183</td>\n",
       "      <td>1424454441</td>\n",
       "      <td>3319810</td>\n",
       "    </tr>\n",
       "    <tr>\n",
       "      <th>3319811</th>\n",
       "      <td>0</td>\n",
       "      <td>3e9b0f6563536090873992088b64b9ee</td>\n",
       "      <td>9de1665e6430fa58785027dbf9ab53e0</td>\n",
       "      <td>fb1ec50d3ce5505057f763c49d503b5a</td>\n",
       "      <td>ba195dd85894d6957bc61edca5ac7026</td>\n",
       "      <td>0edd34b914d329efd93893604491f99f</td>\n",
       "      <td>185658087</td>\n",
       "      <td>1860183527</td>\n",
       "      <td>3781572183</td>\n",
       "      <td>1424454441</td>\n",
       "      <td>3319811</td>\n",
       "    </tr>\n",
       "    <tr>\n",
       "      <th>3319812</th>\n",
       "      <td>0</td>\n",
       "      <td>3e9b0f6563536090873992088b64b9ee</td>\n",
       "      <td>9de1665e6430fa58785027dbf9ab53e0</td>\n",
       "      <td>fb1ec50d3ce5505057f763c49d503b5a</td>\n",
       "      <td>ba195dd85894d6957bc61edca5ac7026</td>\n",
       "      <td>0edd34b914d329efd93893604491f99f</td>\n",
       "      <td>3541459314</td>\n",
       "      <td>0</td>\n",
       "      <td>3781572183</td>\n",
       "      <td>1424454442</td>\n",
       "      <td>3319812</td>\n",
       "    </tr>\n",
       "    <tr>\n",
       "      <th>3319813</th>\n",
       "      <td>0</td>\n",
       "      <td>3e9b0f6563536090873992088b64b9ee</td>\n",
       "      <td>9de1665e6430fa58785027dbf9ab53e0</td>\n",
       "      <td>fb1ec50d3ce5505057f763c49d503b5a</td>\n",
       "      <td>ba195dd85894d6957bc61edca5ac7026</td>\n",
       "      <td>0edd34b914d329efd93893604491f99f</td>\n",
       "      <td>636502534</td>\n",
       "      <td>2286263208</td>\n",
       "      <td>3781572183</td>\n",
       "      <td>1424454439</td>\n",
       "      <td>3319813</td>\n",
       "    </tr>\n",
       "    <tr>\n",
       "      <th>3319814</th>\n",
       "      <td>0</td>\n",
       "      <td>3e9b0f6563536090873992088b64b9ee</td>\n",
       "      <td>9de1665e6430fa58785027dbf9ab53e0</td>\n",
       "      <td>fb1ec50d3ce5505057f763c49d503b5a</td>\n",
       "      <td>ba195dd85894d6957bc61edca5ac7026</td>\n",
       "      <td>0edd34b914d329efd93893604491f99f</td>\n",
       "      <td>3039103562</td>\n",
       "      <td>0</td>\n",
       "      <td>3781572183</td>\n",
       "      <td>1424454442</td>\n",
       "      <td>3319814</td>\n",
       "    </tr>\n",
       "  </tbody>\n",
       "</table>\n",
       "<p>3319815 rows × 11 columns</p>\n",
       "</div>"
      ],
      "text/plain": [
       "         label                               mod  \\\n",
       "0            0  5138a1999dfadc67a0b6963b7d42c50c   \n",
       "1            0  5138a1999dfadc67a0b6963b7d42c50c   \n",
       "2            0  5138a1999dfadc67a0b6963b7d42c50c   \n",
       "3            0  5138a1999dfadc67a0b6963b7d42c50c   \n",
       "4            0  5138a1999dfadc67a0b6963b7d42c50c   \n",
       "...        ...                               ...   \n",
       "3319810      1  3e9b0f6563536090873992088b64b9ee   \n",
       "3319811      0  3e9b0f6563536090873992088b64b9ee   \n",
       "3319812      0  3e9b0f6563536090873992088b64b9ee   \n",
       "3319813      0  3e9b0f6563536090873992088b64b9ee   \n",
       "3319814      0  3e9b0f6563536090873992088b64b9ee   \n",
       "\n",
       "                                       mf                              aver  \\\n",
       "0        932a5cc56763396c6b205a63868d6316  183e022fe835e248ec27774c2687e312   \n",
       "1        932a5cc56763396c6b205a63868d6316  183e022fe835e248ec27774c2687e312   \n",
       "2        932a5cc56763396c6b205a63868d6316  183e022fe835e248ec27774c2687e312   \n",
       "3        932a5cc56763396c6b205a63868d6316  183e022fe835e248ec27774c2687e312   \n",
       "4        932a5cc56763396c6b205a63868d6316  183e022fe835e248ec27774c2687e312   \n",
       "...                                   ...                               ...   \n",
       "3319810  9de1665e6430fa58785027dbf9ab53e0  fb1ec50d3ce5505057f763c49d503b5a   \n",
       "3319811  9de1665e6430fa58785027dbf9ab53e0  fb1ec50d3ce5505057f763c49d503b5a   \n",
       "3319812  9de1665e6430fa58785027dbf9ab53e0  fb1ec50d3ce5505057f763c49d503b5a   \n",
       "3319813  9de1665e6430fa58785027dbf9ab53e0  fb1ec50d3ce5505057f763c49d503b5a   \n",
       "3319814  9de1665e6430fa58785027dbf9ab53e0  fb1ec50d3ce5505057f763c49d503b5a   \n",
       "\n",
       "                                     sver                               did  \\\n",
       "0        21032c3a66d86aa1d99127d4b97cb548  97aa418db5bfa71f2289840fb9710ce1   \n",
       "1        21032c3a66d86aa1d99127d4b97cb548  97aa418db5bfa71f2289840fb9710ce1   \n",
       "2        21032c3a66d86aa1d99127d4b97cb548  97aa418db5bfa71f2289840fb9710ce1   \n",
       "3        21032c3a66d86aa1d99127d4b97cb548  97aa418db5bfa71f2289840fb9710ce1   \n",
       "4        21032c3a66d86aa1d99127d4b97cb548  97aa418db5bfa71f2289840fb9710ce1   \n",
       "...                                   ...                               ...   \n",
       "3319810  ba195dd85894d6957bc61edca5ac7026  0edd34b914d329efd93893604491f99f   \n",
       "3319811  ba195dd85894d6957bc61edca5ac7026  0edd34b914d329efd93893604491f99f   \n",
       "3319812  ba195dd85894d6957bc61edca5ac7026  0edd34b914d329efd93893604491f99f   \n",
       "3319813  ba195dd85894d6957bc61edca5ac7026  0edd34b914d329efd93893604491f99f   \n",
       "3319814  ba195dd85894d6957bc61edca5ac7026  0edd34b914d329efd93893604491f99f   \n",
       "\n",
       "                vid        prev      region   timestamp    index  \n",
       "0         731596015  1436229803  3065549804  1424450984        0  \n",
       "1        2408359345  1285724554  3065549804  1424450952        1  \n",
       "2         857908303           0  3065549804  1424451018        2  \n",
       "3        1427858618           0  3065549804  1424450987        3  \n",
       "4        2821273215           0  3065549804  1424450987        4  \n",
       "...             ...         ...         ...         ...      ...  \n",
       "3319810  4250365497  1256605048  3781572183  1424454441  3319810  \n",
       "3319811   185658087  1860183527  3781572183  1424454441  3319811  \n",
       "3319812  3541459314           0  3781572183  1424454442  3319812  \n",
       "3319813   636502534  2286263208  3781572183  1424454439  3319813  \n",
       "3319814  3039103562           0  3781572183  1424454442  3319814  \n",
       "\n",
       "[3319815 rows x 11 columns]"
      ]
     },
     "execution_count": 5,
     "metadata": {},
     "output_type": "execute_result"
    }
   ],
   "source": [
    "dc2"
   ]
  },
  {
   "cell_type": "code",
   "execution_count": 6,
   "metadata": {},
   "outputs": [
    {
     "data": {
      "text/plain": [
       "75017"
      ]
     },
     "execution_count": 6,
     "metadata": {},
     "output_type": "execute_result"
    }
   ],
   "source": [
    "len(set(dc1.did))"
   ]
  },
  {
   "cell_type": "code",
   "execution_count": 7,
   "metadata": {},
   "outputs": [
    {
     "data": {
      "text/plain": [
       "76329"
      ]
     },
     "execution_count": 7,
     "metadata": {},
     "output_type": "execute_result"
    }
   ],
   "source": [
    "len(set(dc2.did))"
   ]
  },
  {
   "cell_type": "code",
   "execution_count": 8,
   "metadata": {},
   "outputs": [
    {
     "data": {
      "text/plain": [
       "66239"
      ]
     },
     "execution_count": 8,
     "metadata": {},
     "output_type": "execute_result"
    }
   ],
   "source": [
    "len(set(dc2.did).difference(set(dc1.did)))"
   ]
  },
  {
   "cell_type": "code",
   "execution_count": 9,
   "metadata": {},
   "outputs": [],
   "source": [
    "t = pq.read_table('../input/train/part_3/context.parquet')\n",
    "dc3 = t.to_pandas()"
   ]
  },
  {
   "cell_type": "code",
   "execution_count": 10,
   "metadata": {},
   "outputs": [
    {
     "data": {
      "text/plain": [
       "77435"
      ]
     },
     "execution_count": 10,
     "metadata": {},
     "output_type": "execute_result"
    }
   ],
   "source": [
    "len(set(dc3.did))"
   ]
  },
  {
   "cell_type": "code",
   "execution_count": 11,
   "metadata": {},
   "outputs": [
    {
     "data": {
      "text/plain": [
       "60830"
      ]
     },
     "execution_count": 11,
     "metadata": {},
     "output_type": "execute_result"
    }
   ],
   "source": [
    "len(set(dc3.did).difference(set(dc2.did).union(set(dc1.did))))"
   ]
  },
  {
   "cell_type": "code",
   "execution_count": 12,
   "metadata": {},
   "outputs": [
    {
     "data": {
      "text/plain": [
       "'d37515c00fac7a4948a5e885e8dd0972'"
      ]
     },
     "execution_count": 12,
     "metadata": {},
     "output_type": "execute_result"
    }
   ],
   "source": [
    "list(set(dc3.did).difference(set(dc2.did).union(set(dc1.did))))[0]"
   ]
  },
  {
   "cell_type": "code",
   "execution_count": 13,
   "metadata": {},
   "outputs": [
    {
     "data": {
      "text/html": [
       "<div>\n",
       "<style scoped>\n",
       "    .dataframe tbody tr th:only-of-type {\n",
       "        vertical-align: middle;\n",
       "    }\n",
       "\n",
       "    .dataframe tbody tr th {\n",
       "        vertical-align: top;\n",
       "    }\n",
       "\n",
       "    .dataframe thead th {\n",
       "        text-align: right;\n",
       "    }\n",
       "</style>\n",
       "<table border=\"1\" class=\"dataframe\">\n",
       "  <thead>\n",
       "    <tr style=\"text-align: right;\">\n",
       "      <th></th>\n",
       "      <th>label</th>\n",
       "      <th>mod</th>\n",
       "      <th>mf</th>\n",
       "      <th>aver</th>\n",
       "      <th>sver</th>\n",
       "      <th>did</th>\n",
       "      <th>vid</th>\n",
       "      <th>prev</th>\n",
       "      <th>region</th>\n",
       "      <th>timestamp</th>\n",
       "      <th>index</th>\n",
       "    </tr>\n",
       "  </thead>\n",
       "  <tbody>\n",
       "    <tr>\n",
       "      <th>2005398</th>\n",
       "      <td>0</td>\n",
       "      <td>cd9ae53a622604a3a12081c84a7bcc86</td>\n",
       "      <td>9de1665e6430fa58785027dbf9ab53e0</td>\n",
       "      <td>183e022fe835e248ec27774c2687e312</td>\n",
       "      <td>ba195dd85894d6957bc61edca5ac7026</td>\n",
       "      <td>91d5a7b7ae85266d7fef72f812e8c37c</td>\n",
       "      <td>1241251750</td>\n",
       "      <td>969563992</td>\n",
       "      <td>1359546144</td>\n",
       "      <td>1424615325</td>\n",
       "      <td>2005398</td>\n",
       "    </tr>\n",
       "    <tr>\n",
       "      <th>2005399</th>\n",
       "      <td>0</td>\n",
       "      <td>cd9ae53a622604a3a12081c84a7bcc86</td>\n",
       "      <td>9de1665e6430fa58785027dbf9ab53e0</td>\n",
       "      <td>183e022fe835e248ec27774c2687e312</td>\n",
       "      <td>ba195dd85894d6957bc61edca5ac7026</td>\n",
       "      <td>91d5a7b7ae85266d7fef72f812e8c37c</td>\n",
       "      <td>3455749840</td>\n",
       "      <td>1639826783</td>\n",
       "      <td>1359546144</td>\n",
       "      <td>1424581702</td>\n",
       "      <td>2005399</td>\n",
       "    </tr>\n",
       "    <tr>\n",
       "      <th>2005400</th>\n",
       "      <td>0</td>\n",
       "      <td>cd9ae53a622604a3a12081c84a7bcc86</td>\n",
       "      <td>9de1665e6430fa58785027dbf9ab53e0</td>\n",
       "      <td>183e022fe835e248ec27774c2687e312</td>\n",
       "      <td>ba195dd85894d6957bc61edca5ac7026</td>\n",
       "      <td>91d5a7b7ae85266d7fef72f812e8c37c</td>\n",
       "      <td>1799090238</td>\n",
       "      <td>740820677</td>\n",
       "      <td>1359546144</td>\n",
       "      <td>1424615321</td>\n",
       "      <td>2005400</td>\n",
       "    </tr>\n",
       "    <tr>\n",
       "      <th>2005401</th>\n",
       "      <td>0</td>\n",
       "      <td>cd9ae53a622604a3a12081c84a7bcc86</td>\n",
       "      <td>9de1665e6430fa58785027dbf9ab53e0</td>\n",
       "      <td>183e022fe835e248ec27774c2687e312</td>\n",
       "      <td>ba195dd85894d6957bc61edca5ac7026</td>\n",
       "      <td>91d5a7b7ae85266d7fef72f812e8c37c</td>\n",
       "      <td>3356249183</td>\n",
       "      <td>2298375070</td>\n",
       "      <td>1359546144</td>\n",
       "      <td>1424581689</td>\n",
       "      <td>2005401</td>\n",
       "    </tr>\n",
       "    <tr>\n",
       "      <th>2005402</th>\n",
       "      <td>0</td>\n",
       "      <td>cd9ae53a622604a3a12081c84a7bcc86</td>\n",
       "      <td>9de1665e6430fa58785027dbf9ab53e0</td>\n",
       "      <td>183e022fe835e248ec27774c2687e312</td>\n",
       "      <td>ba195dd85894d6957bc61edca5ac7026</td>\n",
       "      <td>91d5a7b7ae85266d7fef72f812e8c37c</td>\n",
       "      <td>3750001454</td>\n",
       "      <td>1758310501</td>\n",
       "      <td>1359546144</td>\n",
       "      <td>1424537104</td>\n",
       "      <td>2005402</td>\n",
       "    </tr>\n",
       "    <tr>\n",
       "      <th>...</th>\n",
       "      <td>...</td>\n",
       "      <td>...</td>\n",
       "      <td>...</td>\n",
       "      <td>...</td>\n",
       "      <td>...</td>\n",
       "      <td>...</td>\n",
       "      <td>...</td>\n",
       "      <td>...</td>\n",
       "      <td>...</td>\n",
       "      <td>...</td>\n",
       "      <td>...</td>\n",
       "    </tr>\n",
       "    <tr>\n",
       "      <th>2005527</th>\n",
       "      <td>0</td>\n",
       "      <td>cd9ae53a622604a3a12081c84a7bcc86</td>\n",
       "      <td>9de1665e6430fa58785027dbf9ab53e0</td>\n",
       "      <td>183e022fe835e248ec27774c2687e312</td>\n",
       "      <td>ba195dd85894d6957bc61edca5ac7026</td>\n",
       "      <td>91d5a7b7ae85266d7fef72f812e8c37c</td>\n",
       "      <td>119656262</td>\n",
       "      <td>876699635</td>\n",
       "      <td>1359546144</td>\n",
       "      <td>1424537258</td>\n",
       "      <td>2005527</td>\n",
       "    </tr>\n",
       "    <tr>\n",
       "      <th>2005528</th>\n",
       "      <td>0</td>\n",
       "      <td>cd9ae53a622604a3a12081c84a7bcc86</td>\n",
       "      <td>9de1665e6430fa58785027dbf9ab53e0</td>\n",
       "      <td>183e022fe835e248ec27774c2687e312</td>\n",
       "      <td>ba195dd85894d6957bc61edca5ac7026</td>\n",
       "      <td>91d5a7b7ae85266d7fef72f812e8c37c</td>\n",
       "      <td>1439474535</td>\n",
       "      <td>0</td>\n",
       "      <td>1359546144</td>\n",
       "      <td>1424537124</td>\n",
       "      <td>2005528</td>\n",
       "    </tr>\n",
       "    <tr>\n",
       "      <th>2005529</th>\n",
       "      <td>0</td>\n",
       "      <td>cd9ae53a622604a3a12081c84a7bcc86</td>\n",
       "      <td>9de1665e6430fa58785027dbf9ab53e0</td>\n",
       "      <td>183e022fe835e248ec27774c2687e312</td>\n",
       "      <td>ba195dd85894d6957bc61edca5ac7026</td>\n",
       "      <td>91d5a7b7ae85266d7fef72f812e8c37c</td>\n",
       "      <td>1999241852</td>\n",
       "      <td>0</td>\n",
       "      <td>1359546144</td>\n",
       "      <td>1424581690</td>\n",
       "      <td>2005529</td>\n",
       "    </tr>\n",
       "    <tr>\n",
       "      <th>2005530</th>\n",
       "      <td>0</td>\n",
       "      <td>cd9ae53a622604a3a12081c84a7bcc86</td>\n",
       "      <td>9de1665e6430fa58785027dbf9ab53e0</td>\n",
       "      <td>183e022fe835e248ec27774c2687e312</td>\n",
       "      <td>ba195dd85894d6957bc61edca5ac7026</td>\n",
       "      <td>91d5a7b7ae85266d7fef72f812e8c37c</td>\n",
       "      <td>3898034810</td>\n",
       "      <td>0</td>\n",
       "      <td>1359546144</td>\n",
       "      <td>1424581680</td>\n",
       "      <td>2005530</td>\n",
       "    </tr>\n",
       "    <tr>\n",
       "      <th>2005531</th>\n",
       "      <td>0</td>\n",
       "      <td>cd9ae53a622604a3a12081c84a7bcc86</td>\n",
       "      <td>9de1665e6430fa58785027dbf9ab53e0</td>\n",
       "      <td>183e022fe835e248ec27774c2687e312</td>\n",
       "      <td>ba195dd85894d6957bc61edca5ac7026</td>\n",
       "      <td>91d5a7b7ae85266d7fef72f812e8c37c</td>\n",
       "      <td>4023224749</td>\n",
       "      <td>0</td>\n",
       "      <td>1359546144</td>\n",
       "      <td>1424615258</td>\n",
       "      <td>2005531</td>\n",
       "    </tr>\n",
       "  </tbody>\n",
       "</table>\n",
       "<p>134 rows × 11 columns</p>\n",
       "</div>"
      ],
      "text/plain": [
       "         label                               mod  \\\n",
       "2005398      0  cd9ae53a622604a3a12081c84a7bcc86   \n",
       "2005399      0  cd9ae53a622604a3a12081c84a7bcc86   \n",
       "2005400      0  cd9ae53a622604a3a12081c84a7bcc86   \n",
       "2005401      0  cd9ae53a622604a3a12081c84a7bcc86   \n",
       "2005402      0  cd9ae53a622604a3a12081c84a7bcc86   \n",
       "...        ...                               ...   \n",
       "2005527      0  cd9ae53a622604a3a12081c84a7bcc86   \n",
       "2005528      0  cd9ae53a622604a3a12081c84a7bcc86   \n",
       "2005529      0  cd9ae53a622604a3a12081c84a7bcc86   \n",
       "2005530      0  cd9ae53a622604a3a12081c84a7bcc86   \n",
       "2005531      0  cd9ae53a622604a3a12081c84a7bcc86   \n",
       "\n",
       "                                       mf                              aver  \\\n",
       "2005398  9de1665e6430fa58785027dbf9ab53e0  183e022fe835e248ec27774c2687e312   \n",
       "2005399  9de1665e6430fa58785027dbf9ab53e0  183e022fe835e248ec27774c2687e312   \n",
       "2005400  9de1665e6430fa58785027dbf9ab53e0  183e022fe835e248ec27774c2687e312   \n",
       "2005401  9de1665e6430fa58785027dbf9ab53e0  183e022fe835e248ec27774c2687e312   \n",
       "2005402  9de1665e6430fa58785027dbf9ab53e0  183e022fe835e248ec27774c2687e312   \n",
       "...                                   ...                               ...   \n",
       "2005527  9de1665e6430fa58785027dbf9ab53e0  183e022fe835e248ec27774c2687e312   \n",
       "2005528  9de1665e6430fa58785027dbf9ab53e0  183e022fe835e248ec27774c2687e312   \n",
       "2005529  9de1665e6430fa58785027dbf9ab53e0  183e022fe835e248ec27774c2687e312   \n",
       "2005530  9de1665e6430fa58785027dbf9ab53e0  183e022fe835e248ec27774c2687e312   \n",
       "2005531  9de1665e6430fa58785027dbf9ab53e0  183e022fe835e248ec27774c2687e312   \n",
       "\n",
       "                                     sver                               did  \\\n",
       "2005398  ba195dd85894d6957bc61edca5ac7026  91d5a7b7ae85266d7fef72f812e8c37c   \n",
       "2005399  ba195dd85894d6957bc61edca5ac7026  91d5a7b7ae85266d7fef72f812e8c37c   \n",
       "2005400  ba195dd85894d6957bc61edca5ac7026  91d5a7b7ae85266d7fef72f812e8c37c   \n",
       "2005401  ba195dd85894d6957bc61edca5ac7026  91d5a7b7ae85266d7fef72f812e8c37c   \n",
       "2005402  ba195dd85894d6957bc61edca5ac7026  91d5a7b7ae85266d7fef72f812e8c37c   \n",
       "...                                   ...                               ...   \n",
       "2005527  ba195dd85894d6957bc61edca5ac7026  91d5a7b7ae85266d7fef72f812e8c37c   \n",
       "2005528  ba195dd85894d6957bc61edca5ac7026  91d5a7b7ae85266d7fef72f812e8c37c   \n",
       "2005529  ba195dd85894d6957bc61edca5ac7026  91d5a7b7ae85266d7fef72f812e8c37c   \n",
       "2005530  ba195dd85894d6957bc61edca5ac7026  91d5a7b7ae85266d7fef72f812e8c37c   \n",
       "2005531  ba195dd85894d6957bc61edca5ac7026  91d5a7b7ae85266d7fef72f812e8c37c   \n",
       "\n",
       "                vid        prev      region   timestamp    index  \n",
       "2005398  1241251750   969563992  1359546144  1424615325  2005398  \n",
       "2005399  3455749840  1639826783  1359546144  1424581702  2005399  \n",
       "2005400  1799090238   740820677  1359546144  1424615321  2005400  \n",
       "2005401  3356249183  2298375070  1359546144  1424581689  2005401  \n",
       "2005402  3750001454  1758310501  1359546144  1424537104  2005402  \n",
       "...             ...         ...         ...         ...      ...  \n",
       "2005527   119656262   876699635  1359546144  1424537258  2005527  \n",
       "2005528  1439474535           0  1359546144  1424537124  2005528  \n",
       "2005529  1999241852           0  1359546144  1424581690  2005529  \n",
       "2005530  3898034810           0  1359546144  1424581680  2005530  \n",
       "2005531  4023224749           0  1359546144  1424615258  2005531  \n",
       "\n",
       "[134 rows x 11 columns]"
      ]
     },
     "execution_count": 13,
     "metadata": {},
     "output_type": "execute_result"
    }
   ],
   "source": [
    "dc3[dc3.did=='91d5a7b7ae85266d7fef72f812e8c37c']"
   ]
  },
  {
   "cell_type": "code",
   "execution_count": 14,
   "metadata": {},
   "outputs": [],
   "source": [
    "t = pq.read_table('../input/train/part_3/user.parquet')\n",
    "du3 = t.to_pandas()"
   ]
  },
  {
   "cell_type": "code",
   "execution_count": 15,
   "metadata": {},
   "outputs": [
    {
     "data": {
      "text/html": [
       "<div>\n",
       "<style scoped>\n",
       "    .dataframe tbody tr th:only-of-type {\n",
       "        vertical-align: middle;\n",
       "    }\n",
       "\n",
       "    .dataframe tbody tr th {\n",
       "        vertical-align: top;\n",
       "    }\n",
       "\n",
       "    .dataframe thead th {\n",
       "        text-align: right;\n",
       "    }\n",
       "</style>\n",
       "<table border=\"1\" class=\"dataframe\">\n",
       "  <thead>\n",
       "    <tr style=\"text-align: right;\">\n",
       "      <th></th>\n",
       "      <th>did</th>\n",
       "      <th>watch</th>\n",
       "    </tr>\n",
       "  </thead>\n",
       "  <tbody>\n",
       "    <tr>\n",
       "      <th>22855</th>\n",
       "      <td>91d5a7b7ae85266d7fef72f812e8c37c</td>\n",
       "      <td>[[1424615260, 3188957699], [1424537128, 383587...</td>\n",
       "    </tr>\n",
       "  </tbody>\n",
       "</table>\n",
       "</div>"
      ],
      "text/plain": [
       "                                    did  \\\n",
       "22855  91d5a7b7ae85266d7fef72f812e8c37c   \n",
       "\n",
       "                                                   watch  \n",
       "22855  [[1424615260, 3188957699], [1424537128, 383587...  "
      ]
     },
     "execution_count": 15,
     "metadata": {},
     "output_type": "execute_result"
    }
   ],
   "source": [
    "du3[du3.did=='91d5a7b7ae85266d7fef72f812e8c37c']"
   ]
  },
  {
   "cell_type": "code",
   "execution_count": 16,
   "metadata": {},
   "outputs": [
    {
     "data": {
      "text/plain": [
       "47719"
      ]
     },
     "execution_count": 16,
     "metadata": {},
     "output_type": "execute_result"
    }
   ],
   "source": [
    "len(set(dc1.vid))"
   ]
  },
  {
   "cell_type": "code",
   "execution_count": 17,
   "metadata": {},
   "outputs": [
    {
     "data": {
      "text/plain": [
       "46280"
      ]
     },
     "execution_count": 17,
     "metadata": {},
     "output_type": "execute_result"
    }
   ],
   "source": [
    "len(set(dc2.vid))"
   ]
  },
  {
   "cell_type": "code",
   "execution_count": 18,
   "metadata": {},
   "outputs": [
    {
     "data": {
      "text/plain": [
       "60"
      ]
     },
     "execution_count": 18,
     "metadata": {},
     "output_type": "execute_result"
    }
   ],
   "source": [
    "dc3['aver'].nunique()"
   ]
  },
  {
   "cell_type": "code",
   "execution_count": 19,
   "metadata": {},
   "outputs": [],
   "source": [
    "t = pq.read_table('../input/train/part_1/item.parquet')\n",
    "di1 = t.to_pandas()"
   ]
  },
  {
   "cell_type": "code",
   "execution_count": 20,
   "metadata": {},
   "outputs": [
    {
     "data": {
      "text/html": [
       "<div>\n",
       "<style scoped>\n",
       "    .dataframe tbody tr th:only-of-type {\n",
       "        vertical-align: middle;\n",
       "    }\n",
       "\n",
       "    .dataframe tbody tr th {\n",
       "        vertical-align: top;\n",
       "    }\n",
       "\n",
       "    .dataframe thead th {\n",
       "        text-align: right;\n",
       "    }\n",
       "</style>\n",
       "<table border=\"1\" class=\"dataframe\">\n",
       "  <thead>\n",
       "    <tr style=\"text-align: right;\">\n",
       "      <th></th>\n",
       "      <th>vid</th>\n",
       "      <th>title_length</th>\n",
       "      <th>timestamp</th>\n",
       "      <th>stars</th>\n",
       "      <th>cid</th>\n",
       "      <th>class_id</th>\n",
       "      <th>is_intact</th>\n",
       "      <th>second_class</th>\n",
       "      <th>duration</th>\n",
       "      <th>ctr</th>\n",
       "      <th>vv</th>\n",
       "    </tr>\n",
       "  </thead>\n",
       "  <tbody>\n",
       "    <tr>\n",
       "      <th>0</th>\n",
       "      <td>5893106</td>\n",
       "      <td>25</td>\n",
       "      <td>1411552000</td>\n",
       "      <td>[]</td>\n",
       "      <td>600008821</td>\n",
       "      <td>3174145329</td>\n",
       "      <td>2234347078</td>\n",
       "      <td>0</td>\n",
       "      <td>86.110001</td>\n",
       "      <td>0.0</td>\n",
       "      <td>1396.0</td>\n",
       "    </tr>\n",
       "    <tr>\n",
       "      <th>1</th>\n",
       "      <td>15819492</td>\n",
       "      <td>98</td>\n",
       "      <td>1407204002</td>\n",
       "      <td>[2950753864, 3600550670, 3606342894, 333836411...</td>\n",
       "      <td>638675564</td>\n",
       "      <td>1413776458</td>\n",
       "      <td>2234347078</td>\n",
       "      <td>0</td>\n",
       "      <td>6954.200195</td>\n",
       "      <td>0.0</td>\n",
       "      <td>1100.0</td>\n",
       "    </tr>\n",
       "    <tr>\n",
       "      <th>2</th>\n",
       "      <td>16814925</td>\n",
       "      <td>21</td>\n",
       "      <td>1380506136</td>\n",
       "      <td>[]</td>\n",
       "      <td>511097257</td>\n",
       "      <td>3174145329</td>\n",
       "      <td>2234347078</td>\n",
       "      <td>0</td>\n",
       "      <td>317.190002</td>\n",
       "      <td>0.0</td>\n",
       "      <td>4196.0</td>\n",
       "    </tr>\n",
       "    <tr>\n",
       "      <th>3</th>\n",
       "      <td>43514419</td>\n",
       "      <td>41</td>\n",
       "      <td>1394444128</td>\n",
       "      <td>[3969330486]</td>\n",
       "      <td>3803211341</td>\n",
       "      <td>1574940925</td>\n",
       "      <td>2234347078</td>\n",
       "      <td>0</td>\n",
       "      <td>442.540009</td>\n",
       "      <td>0.0</td>\n",
       "      <td>48.0</td>\n",
       "    </tr>\n",
       "    <tr>\n",
       "      <th>4</th>\n",
       "      <td>66011667</td>\n",
       "      <td>64</td>\n",
       "      <td>1330590997</td>\n",
       "      <td>[359879236, 3688805521, 3190039951]</td>\n",
       "      <td>1009927708</td>\n",
       "      <td>3443952599</td>\n",
       "      <td>3172394293</td>\n",
       "      <td>1112680423</td>\n",
       "      <td>213.639999</td>\n",
       "      <td>0.0</td>\n",
       "      <td>8.0</td>\n",
       "    </tr>\n",
       "    <tr>\n",
       "      <th>...</th>\n",
       "      <td>...</td>\n",
       "      <td>...</td>\n",
       "      <td>...</td>\n",
       "      <td>...</td>\n",
       "      <td>...</td>\n",
       "      <td>...</td>\n",
       "      <td>...</td>\n",
       "      <td>...</td>\n",
       "      <td>...</td>\n",
       "      <td>...</td>\n",
       "      <td>...</td>\n",
       "    </tr>\n",
       "    <tr>\n",
       "      <th>59112</th>\n",
       "      <td>4183392248</td>\n",
       "      <td>69</td>\n",
       "      <td>1377519802</td>\n",
       "      <td>[]</td>\n",
       "      <td>80040654</td>\n",
       "      <td>1413776458</td>\n",
       "      <td>3172394293</td>\n",
       "      <td>0</td>\n",
       "      <td>102.459999</td>\n",
       "      <td>0.0</td>\n",
       "      <td>28.0</td>\n",
       "    </tr>\n",
       "    <tr>\n",
       "      <th>59113</th>\n",
       "      <td>4209813609</td>\n",
       "      <td>99</td>\n",
       "      <td>1325172001</td>\n",
       "      <td>[2481153527, 3779642001]</td>\n",
       "      <td>375925933</td>\n",
       "      <td>1413776458</td>\n",
       "      <td>2234347078</td>\n",
       "      <td>0</td>\n",
       "      <td>4708.799805</td>\n",
       "      <td>0.0</td>\n",
       "      <td>700.0</td>\n",
       "    </tr>\n",
       "    <tr>\n",
       "      <th>59114</th>\n",
       "      <td>4223027093</td>\n",
       "      <td>87</td>\n",
       "      <td>1397116617</td>\n",
       "      <td>[3936607703]</td>\n",
       "      <td>3834636988</td>\n",
       "      <td>605350568</td>\n",
       "      <td>2234347078</td>\n",
       "      <td>0</td>\n",
       "      <td>83.930000</td>\n",
       "      <td>0.0</td>\n",
       "      <td>268.0</td>\n",
       "    </tr>\n",
       "    <tr>\n",
       "      <th>59115</th>\n",
       "      <td>4229590239</td>\n",
       "      <td>46</td>\n",
       "      <td>1402491146</td>\n",
       "      <td>[4215646548, 1736046716, 3437908489, 161060801...</td>\n",
       "      <td>1068867213</td>\n",
       "      <td>1820266297</td>\n",
       "      <td>3172394293</td>\n",
       "      <td>0</td>\n",
       "      <td>190.750000</td>\n",
       "      <td>0.0</td>\n",
       "      <td>648.0</td>\n",
       "    </tr>\n",
       "    <tr>\n",
       "      <th>59116</th>\n",
       "      <td>4231496370</td>\n",
       "      <td>20</td>\n",
       "      <td>1335347883</td>\n",
       "      <td>[980237148]</td>\n",
       "      <td>706830233</td>\n",
       "      <td>470292959</td>\n",
       "      <td>2234347078</td>\n",
       "      <td>0</td>\n",
       "      <td>1891.150024</td>\n",
       "      <td>0.0</td>\n",
       "      <td>0.0</td>\n",
       "    </tr>\n",
       "  </tbody>\n",
       "</table>\n",
       "<p>59117 rows × 11 columns</p>\n",
       "</div>"
      ],
      "text/plain": [
       "              vid  title_length   timestamp  \\\n",
       "0         5893106            25  1411552000   \n",
       "1        15819492            98  1407204002   \n",
       "2        16814925            21  1380506136   \n",
       "3        43514419            41  1394444128   \n",
       "4        66011667            64  1330590997   \n",
       "...           ...           ...         ...   \n",
       "59112  4183392248            69  1377519802   \n",
       "59113  4209813609            99  1325172001   \n",
       "59114  4223027093            87  1397116617   \n",
       "59115  4229590239            46  1402491146   \n",
       "59116  4231496370            20  1335347883   \n",
       "\n",
       "                                                   stars         cid  \\\n",
       "0                                                     []   600008821   \n",
       "1      [2950753864, 3600550670, 3606342894, 333836411...   638675564   \n",
       "2                                                     []   511097257   \n",
       "3                                           [3969330486]  3803211341   \n",
       "4                    [359879236, 3688805521, 3190039951]  1009927708   \n",
       "...                                                  ...         ...   \n",
       "59112                                                 []    80040654   \n",
       "59113                           [2481153527, 3779642001]   375925933   \n",
       "59114                                       [3936607703]  3834636988   \n",
       "59115  [4215646548, 1736046716, 3437908489, 161060801...  1068867213   \n",
       "59116                                        [980237148]   706830233   \n",
       "\n",
       "         class_id   is_intact  second_class     duration  ctr      vv  \n",
       "0      3174145329  2234347078             0    86.110001  0.0  1396.0  \n",
       "1      1413776458  2234347078             0  6954.200195  0.0  1100.0  \n",
       "2      3174145329  2234347078             0   317.190002  0.0  4196.0  \n",
       "3      1574940925  2234347078             0   442.540009  0.0    48.0  \n",
       "4      3443952599  3172394293    1112680423   213.639999  0.0     8.0  \n",
       "...           ...         ...           ...          ...  ...     ...  \n",
       "59112  1413776458  3172394293             0   102.459999  0.0    28.0  \n",
       "59113  1413776458  2234347078             0  4708.799805  0.0   700.0  \n",
       "59114   605350568  2234347078             0    83.930000  0.0   268.0  \n",
       "59115  1820266297  3172394293             0   190.750000  0.0   648.0  \n",
       "59116   470292959  2234347078             0  1891.150024  0.0     0.0  \n",
       "\n",
       "[59117 rows x 11 columns]"
      ]
     },
     "execution_count": 20,
     "metadata": {},
     "output_type": "execute_result"
    }
   ],
   "source": [
    "di1"
   ]
  },
  {
   "cell_type": "code",
   "execution_count": 21,
   "metadata": {},
   "outputs": [],
   "source": [
    "die = gezi.read_parquet('../input/eval/item.parquet')"
   ]
  },
  {
   "cell_type": "code",
   "execution_count": 22,
   "metadata": {},
   "outputs": [],
   "source": [
    "di30 = gezi.read_parquet('../input/train/part_30/item.parquet')"
   ]
  },
  {
   "cell_type": "code",
   "execution_count": 23,
   "metadata": {},
   "outputs": [
    {
     "data": {
      "text/html": [
       "<div>\n",
       "<style scoped>\n",
       "    .dataframe tbody tr th:only-of-type {\n",
       "        vertical-align: middle;\n",
       "    }\n",
       "\n",
       "    .dataframe tbody tr th {\n",
       "        vertical-align: top;\n",
       "    }\n",
       "\n",
       "    .dataframe thead th {\n",
       "        text-align: right;\n",
       "    }\n",
       "</style>\n",
       "<table border=\"1\" class=\"dataframe\">\n",
       "  <thead>\n",
       "    <tr style=\"text-align: right;\">\n",
       "      <th></th>\n",
       "      <th>vid</th>\n",
       "      <th>title_length</th>\n",
       "      <th>timestamp</th>\n",
       "      <th>stars</th>\n",
       "      <th>cid</th>\n",
       "      <th>class_id</th>\n",
       "      <th>is_intact</th>\n",
       "      <th>second_class</th>\n",
       "      <th>duration</th>\n",
       "      <th>ctr</th>\n",
       "      <th>vv</th>\n",
       "    </tr>\n",
       "  </thead>\n",
       "  <tbody>\n",
       "    <tr>\n",
       "      <th>0</th>\n",
       "      <td>5893106</td>\n",
       "      <td>25</td>\n",
       "      <td>1411552000</td>\n",
       "      <td>[]</td>\n",
       "      <td>600008821</td>\n",
       "      <td>3174145329</td>\n",
       "      <td>2234347078</td>\n",
       "      <td>0</td>\n",
       "      <td>86.110001</td>\n",
       "      <td>0.000</td>\n",
       "      <td>1004.0</td>\n",
       "    </tr>\n",
       "    <tr>\n",
       "      <th>1</th>\n",
       "      <td>15819492</td>\n",
       "      <td>98</td>\n",
       "      <td>1407204002</td>\n",
       "      <td>[2950753864, 3600550670, 3606342894, 333836411...</td>\n",
       "      <td>638675564</td>\n",
       "      <td>1413776458</td>\n",
       "      <td>2234347078</td>\n",
       "      <td>0</td>\n",
       "      <td>6954.200195</td>\n",
       "      <td>0.065</td>\n",
       "      <td>1392.0</td>\n",
       "    </tr>\n",
       "    <tr>\n",
       "      <th>2</th>\n",
       "      <td>16814925</td>\n",
       "      <td>21</td>\n",
       "      <td>1380506136</td>\n",
       "      <td>[]</td>\n",
       "      <td>511097257</td>\n",
       "      <td>3174145329</td>\n",
       "      <td>2234347078</td>\n",
       "      <td>0</td>\n",
       "      <td>317.190002</td>\n",
       "      <td>0.000</td>\n",
       "      <td>4360.0</td>\n",
       "    </tr>\n",
       "    <tr>\n",
       "      <th>3</th>\n",
       "      <td>38297769</td>\n",
       "      <td>112</td>\n",
       "      <td>1425690005</td>\n",
       "      <td>[3115812425, 2144664037, 1221620183, 325915182...</td>\n",
       "      <td>2168442617</td>\n",
       "      <td>1413776458</td>\n",
       "      <td>472867291</td>\n",
       "      <td>0</td>\n",
       "      <td>42.509998</td>\n",
       "      <td>0.000</td>\n",
       "      <td>5832.0</td>\n",
       "    </tr>\n",
       "    <tr>\n",
       "      <th>4</th>\n",
       "      <td>53280242</td>\n",
       "      <td>85</td>\n",
       "      <td>1367558225</td>\n",
       "      <td>[591536023, 1613895128, 2189138809, 559740265,...</td>\n",
       "      <td>155617312</td>\n",
       "      <td>3443952599</td>\n",
       "      <td>3172394293</td>\n",
       "      <td>0</td>\n",
       "      <td>376.049988</td>\n",
       "      <td>0.000</td>\n",
       "      <td>248.0</td>\n",
       "    </tr>\n",
       "    <tr>\n",
       "      <th>...</th>\n",
       "      <td>...</td>\n",
       "      <td>...</td>\n",
       "      <td>...</td>\n",
       "      <td>...</td>\n",
       "      <td>...</td>\n",
       "      <td>...</td>\n",
       "      <td>...</td>\n",
       "      <td>...</td>\n",
       "      <td>...</td>\n",
       "      <td>...</td>\n",
       "      <td>...</td>\n",
       "    </tr>\n",
       "    <tr>\n",
       "      <th>57230</th>\n",
       "      <td>4248901384</td>\n",
       "      <td>21</td>\n",
       "      <td>1422849565</td>\n",
       "      <td>[3902504787, 1235418045, 3804658193]</td>\n",
       "      <td>4074303298</td>\n",
       "      <td>1820266297</td>\n",
       "      <td>2234347078</td>\n",
       "      <td>0</td>\n",
       "      <td>1387.569946</td>\n",
       "      <td>0.000</td>\n",
       "      <td>5376.0</td>\n",
       "    </tr>\n",
       "    <tr>\n",
       "      <th>57231</th>\n",
       "      <td>4251549294</td>\n",
       "      <td>102</td>\n",
       "      <td>1331483047</td>\n",
       "      <td>[3491274685, 3673020319, 420212420, 2851531837...</td>\n",
       "      <td>3840315261</td>\n",
       "      <td>1413776458</td>\n",
       "      <td>3445748691</td>\n",
       "      <td>0</td>\n",
       "      <td>57.770000</td>\n",
       "      <td>0.000</td>\n",
       "      <td>80.0</td>\n",
       "    </tr>\n",
       "    <tr>\n",
       "      <th>57232</th>\n",
       "      <td>4255628613</td>\n",
       "      <td>33</td>\n",
       "      <td>1413545288</td>\n",
       "      <td>[1134598214]</td>\n",
       "      <td>1016220003</td>\n",
       "      <td>1820266297</td>\n",
       "      <td>2234347078</td>\n",
       "      <td>0</td>\n",
       "      <td>35.970001</td>\n",
       "      <td>0.000</td>\n",
       "      <td>480.0</td>\n",
       "    </tr>\n",
       "    <tr>\n",
       "      <th>57233</th>\n",
       "      <td>4272496705</td>\n",
       "      <td>80</td>\n",
       "      <td>1387029762</td>\n",
       "      <td>[3309131045, 2561243119, 184102567, 2880021111...</td>\n",
       "      <td>435329116</td>\n",
       "      <td>1820266297</td>\n",
       "      <td>472867291</td>\n",
       "      <td>0</td>\n",
       "      <td>115.540001</td>\n",
       "      <td>0.000</td>\n",
       "      <td>92.0</td>\n",
       "    </tr>\n",
       "    <tr>\n",
       "      <th>57234</th>\n",
       "      <td>4283547666</td>\n",
       "      <td>58</td>\n",
       "      <td>1424684908</td>\n",
       "      <td>[2142910698, 1316768238, 1853987563, 1984414365]</td>\n",
       "      <td>2753664459</td>\n",
       "      <td>470292959</td>\n",
       "      <td>2234347078</td>\n",
       "      <td>0</td>\n",
       "      <td>154.779999</td>\n",
       "      <td>0.045</td>\n",
       "      <td>10440.0</td>\n",
       "    </tr>\n",
       "  </tbody>\n",
       "</table>\n",
       "<p>57235 rows × 11 columns</p>\n",
       "</div>"
      ],
      "text/plain": [
       "              vid  title_length   timestamp  \\\n",
       "0         5893106            25  1411552000   \n",
       "1        15819492            98  1407204002   \n",
       "2        16814925            21  1380506136   \n",
       "3        38297769           112  1425690005   \n",
       "4        53280242            85  1367558225   \n",
       "...           ...           ...         ...   \n",
       "57230  4248901384            21  1422849565   \n",
       "57231  4251549294           102  1331483047   \n",
       "57232  4255628613            33  1413545288   \n",
       "57233  4272496705            80  1387029762   \n",
       "57234  4283547666            58  1424684908   \n",
       "\n",
       "                                                   stars         cid  \\\n",
       "0                                                     []   600008821   \n",
       "1      [2950753864, 3600550670, 3606342894, 333836411...   638675564   \n",
       "2                                                     []   511097257   \n",
       "3      [3115812425, 2144664037, 1221620183, 325915182...  2168442617   \n",
       "4      [591536023, 1613895128, 2189138809, 559740265,...   155617312   \n",
       "...                                                  ...         ...   \n",
       "57230               [3902504787, 1235418045, 3804658193]  4074303298   \n",
       "57231  [3491274685, 3673020319, 420212420, 2851531837...  3840315261   \n",
       "57232                                       [1134598214]  1016220003   \n",
       "57233  [3309131045, 2561243119, 184102567, 2880021111...   435329116   \n",
       "57234   [2142910698, 1316768238, 1853987563, 1984414365]  2753664459   \n",
       "\n",
       "         class_id   is_intact  second_class     duration    ctr       vv  \n",
       "0      3174145329  2234347078             0    86.110001  0.000   1004.0  \n",
       "1      1413776458  2234347078             0  6954.200195  0.065   1392.0  \n",
       "2      3174145329  2234347078             0   317.190002  0.000   4360.0  \n",
       "3      1413776458   472867291             0    42.509998  0.000   5832.0  \n",
       "4      3443952599  3172394293             0   376.049988  0.000    248.0  \n",
       "...           ...         ...           ...          ...    ...      ...  \n",
       "57230  1820266297  2234347078             0  1387.569946  0.000   5376.0  \n",
       "57231  1413776458  3445748691             0    57.770000  0.000     80.0  \n",
       "57232  1820266297  2234347078             0    35.970001  0.000    480.0  \n",
       "57233  1820266297   472867291             0   115.540001  0.000     92.0  \n",
       "57234   470292959  2234347078             0   154.779999  0.045  10440.0  \n",
       "\n",
       "[57235 rows x 11 columns]"
      ]
     },
     "execution_count": 23,
     "metadata": {},
     "output_type": "execute_result"
    }
   ],
   "source": [
    "die"
   ]
  },
  {
   "cell_type": "code",
   "execution_count": 7,
   "metadata": {},
   "outputs": [
    {
     "ename": "NameError",
     "evalue": "name 'die' is not defined",
     "output_type": "error",
     "traceback": [
      "\u001b[0;31m---------------------------------------------------------------------------\u001b[0m",
      "\u001b[0;31mNameError\u001b[0m                                 Traceback (most recent call last)",
      "\u001b[0;32m<ipython-input-7-088a2d2b79f4>\u001b[0m in \u001b[0;36m<module>\u001b[0;34m()\u001b[0m\n\u001b[0;32m----> 1\u001b[0;31m \u001b[0mdie\u001b[0m\u001b[0;34m[\u001b[0m\u001b[0mdie\u001b[0m\u001b[0;34m.\u001b[0m\u001b[0mvid\u001b[0m\u001b[0;34m==\u001b[0m\u001b[0;36m4272496705\u001b[0m\u001b[0;34m]\u001b[0m\u001b[0;34m\u001b[0m\u001b[0;34m\u001b[0m\u001b[0m\n\u001b[0m",
      "\u001b[0;31mNameError\u001b[0m: name 'die' is not defined"
     ]
    }
   ],
   "source": [
    "die[die.vid==4272496705]"
   ]
  },
  {
   "cell_type": "code",
   "execution_count": 24,
   "metadata": {},
   "outputs": [
    {
     "data": {
      "text/plain": [
       "274"
      ]
     },
     "execution_count": 24,
     "metadata": {},
     "output_type": "execute_result"
    }
   ],
   "source": [
    "len(di1.second_class.unique())"
   ]
  },
  {
   "cell_type": "code",
   "execution_count": 25,
   "metadata": {},
   "outputs": [
    {
     "data": {
      "text/plain": [
       "array([2950753864, 3600550670, 3606342894, 3338364112, 1616373015,\n",
       "        104796805])"
      ]
     },
     "execution_count": 25,
     "metadata": {},
     "output_type": "execute_result"
    }
   ],
   "source": [
    "di1.stars[1]"
   ]
  },
  {
   "cell_type": "code",
   "execution_count": 26,
   "metadata": {},
   "outputs": [],
   "source": [
    "t = pq.read_table('../input/train/part_1/user.parquet')\n",
    "du1 = t.to_pandas()"
   ]
  },
  {
   "cell_type": "code",
   "execution_count": 27,
   "metadata": {},
   "outputs": [
    {
     "data": {
      "text/html": [
       "<div>\n",
       "<style scoped>\n",
       "    .dataframe tbody tr th:only-of-type {\n",
       "        vertical-align: middle;\n",
       "    }\n",
       "\n",
       "    .dataframe tbody tr th {\n",
       "        vertical-align: top;\n",
       "    }\n",
       "\n",
       "    .dataframe thead th {\n",
       "        text-align: right;\n",
       "    }\n",
       "</style>\n",
       "<table border=\"1\" class=\"dataframe\">\n",
       "  <thead>\n",
       "    <tr style=\"text-align: right;\">\n",
       "      <th></th>\n",
       "      <th>did</th>\n",
       "      <th>watch</th>\n",
       "    </tr>\n",
       "  </thead>\n",
       "  <tbody>\n",
       "    <tr>\n",
       "      <th>0</th>\n",
       "      <td>b85ee45e0b0f0d32ea27b83859943bd8</td>\n",
       "      <td>[[1424450711, 1970231413], [1424450128, 209639...</td>\n",
       "    </tr>\n",
       "    <tr>\n",
       "      <th>1</th>\n",
       "      <td>ec51024cacd62b2f44a5dedeab3b3ddd</td>\n",
       "      <td>[[1424447915, 3224674369], [1424442687, 218108...</td>\n",
       "    </tr>\n",
       "    <tr>\n",
       "      <th>2</th>\n",
       "      <td>805a6dfc253c8fd72fff89a1468bf101</td>\n",
       "      <td>[[1424433395, 3683265124], [1424177945, 271756...</td>\n",
       "    </tr>\n",
       "    <tr>\n",
       "      <th>3</th>\n",
       "      <td>681af5bb683758603018eb30ced355a5</td>\n",
       "      <td>[[1424429841, 3753149116], [1424416653, 194721...</td>\n",
       "    </tr>\n",
       "    <tr>\n",
       "      <th>4</th>\n",
       "      <td>2f66caafbdd897ed371378323a2b9c41</td>\n",
       "      <td>[[1424433612, 113020635], [1424314589, 3359125...</td>\n",
       "    </tr>\n",
       "    <tr>\n",
       "      <th>...</th>\n",
       "      <td>...</td>\n",
       "      <td>...</td>\n",
       "    </tr>\n",
       "    <tr>\n",
       "      <th>75012</th>\n",
       "      <td>d679be3058b1c1b39e45ce22211cc2aa</td>\n",
       "      <td>[[1424437707, 3168322038], [1424437583, 263846...</td>\n",
       "    </tr>\n",
       "    <tr>\n",
       "      <th>75013</th>\n",
       "      <td>ffd7e854e2d6ae73ae31a3ce09e17992</td>\n",
       "      <td>[[1424431182, 597364737], [1424404501, 2779388...</td>\n",
       "    </tr>\n",
       "    <tr>\n",
       "      <th>75014</th>\n",
       "      <td>b36e5a2d261cd9ec0f4b5f8424e9f1b9</td>\n",
       "      <td>[[1424348459, 1123409917]]</td>\n",
       "    </tr>\n",
       "    <tr>\n",
       "      <th>75015</th>\n",
       "      <td>916739a22226633e38c3ed2ea6b6ba44</td>\n",
       "      <td>[[1424453233, 1343904424], [1424450895, 145739...</td>\n",
       "    </tr>\n",
       "    <tr>\n",
       "      <th>75016</th>\n",
       "      <td>eb95a45ba5f774a42c057c88f7db44ed</td>\n",
       "      <td>[[1424439918, 2966905610], [1424438129, 335531...</td>\n",
       "    </tr>\n",
       "  </tbody>\n",
       "</table>\n",
       "<p>75017 rows × 2 columns</p>\n",
       "</div>"
      ],
      "text/plain": [
       "                                    did  \\\n",
       "0      b85ee45e0b0f0d32ea27b83859943bd8   \n",
       "1      ec51024cacd62b2f44a5dedeab3b3ddd   \n",
       "2      805a6dfc253c8fd72fff89a1468bf101   \n",
       "3      681af5bb683758603018eb30ced355a5   \n",
       "4      2f66caafbdd897ed371378323a2b9c41   \n",
       "...                                 ...   \n",
       "75012  d679be3058b1c1b39e45ce22211cc2aa   \n",
       "75013  ffd7e854e2d6ae73ae31a3ce09e17992   \n",
       "75014  b36e5a2d261cd9ec0f4b5f8424e9f1b9   \n",
       "75015  916739a22226633e38c3ed2ea6b6ba44   \n",
       "75016  eb95a45ba5f774a42c057c88f7db44ed   \n",
       "\n",
       "                                                   watch  \n",
       "0      [[1424450711, 1970231413], [1424450128, 209639...  \n",
       "1      [[1424447915, 3224674369], [1424442687, 218108...  \n",
       "2      [[1424433395, 3683265124], [1424177945, 271756...  \n",
       "3      [[1424429841, 3753149116], [1424416653, 194721...  \n",
       "4      [[1424433612, 113020635], [1424314589, 3359125...  \n",
       "...                                                  ...  \n",
       "75012  [[1424437707, 3168322038], [1424437583, 263846...  \n",
       "75013  [[1424431182, 597364737], [1424404501, 2779388...  \n",
       "75014                         [[1424348459, 1123409917]]  \n",
       "75015  [[1424453233, 1343904424], [1424450895, 145739...  \n",
       "75016  [[1424439918, 2966905610], [1424438129, 335531...  \n",
       "\n",
       "[75017 rows x 2 columns]"
      ]
     },
     "execution_count": 27,
     "metadata": {},
     "output_type": "execute_result"
    }
   ],
   "source": [
    "du1"
   ]
  },
  {
   "cell_type": "code",
   "execution_count": 28,
   "metadata": {},
   "outputs": [
    {
     "data": {
      "text/html": [
       "<div>\n",
       "<style scoped>\n",
       "    .dataframe tbody tr th:only-of-type {\n",
       "        vertical-align: middle;\n",
       "    }\n",
       "\n",
       "    .dataframe tbody tr th {\n",
       "        vertical-align: top;\n",
       "    }\n",
       "\n",
       "    .dataframe thead th {\n",
       "        text-align: right;\n",
       "    }\n",
       "</style>\n",
       "<table border=\"1\" class=\"dataframe\">\n",
       "  <thead>\n",
       "    <tr style=\"text-align: right;\">\n",
       "      <th></th>\n",
       "      <th>did</th>\n",
       "      <th>watch</th>\n",
       "    </tr>\n",
       "  </thead>\n",
       "  <tbody>\n",
       "    <tr>\n",
       "      <th>0</th>\n",
       "      <td>ec51024cacd62b2f44a5dedeab3b3ddd</td>\n",
       "      <td>[[1426951647, 392178405], [1426948166, 2329609...</td>\n",
       "    </tr>\n",
       "    <tr>\n",
       "      <th>1</th>\n",
       "      <td>e955cbbb099892dc8f6f3fb594ced710</td>\n",
       "      <td>[[1426959713, 3784139339], [1426958209, 818147...</td>\n",
       "    </tr>\n",
       "    <tr>\n",
       "      <th>2</th>\n",
       "      <td>e8ae4e4849f8c9a1e113d2c8b2654532</td>\n",
       "      <td>[[1426950645, 1083423540], [1426950539, 119057...</td>\n",
       "    </tr>\n",
       "    <tr>\n",
       "      <th>3</th>\n",
       "      <td>0c185e11deabef240415a6d5596c6fcf</td>\n",
       "      <td>[[1426937047, 2633810051], [1426907692, 348815...</td>\n",
       "    </tr>\n",
       "    <tr>\n",
       "      <th>4</th>\n",
       "      <td>668f8f04e920af6005177ece3d06309c</td>\n",
       "      <td>[[1426944769, 3392895176], [1426944676, 263381...</td>\n",
       "    </tr>\n",
       "    <tr>\n",
       "      <th>...</th>\n",
       "      <td>...</td>\n",
       "      <td>...</td>\n",
       "    </tr>\n",
       "    <tr>\n",
       "      <th>92290</th>\n",
       "      <td>7e92b833c60c61731f41822804b4b757</td>\n",
       "      <td>[[1426948745, 4212935773], [1426948260, 293125...</td>\n",
       "    </tr>\n",
       "    <tr>\n",
       "      <th>92291</th>\n",
       "      <td>e71abbf6c2ee6992d5bc7c6f86f433d8</td>\n",
       "      <td>[[1426945479, 4101685914], [1426945376, 415305...</td>\n",
       "    </tr>\n",
       "    <tr>\n",
       "      <th>92292</th>\n",
       "      <td>5a7ee331f09ec8f87dc5c0dc1823928a</td>\n",
       "      <td>[[1426921816, 4153053381], [1426921294, 309199...</td>\n",
       "    </tr>\n",
       "    <tr>\n",
       "      <th>92293</th>\n",
       "      <td>3c9d39a68f7c58fde21a2bd9196f6d76</td>\n",
       "      <td>[[1426911634, 1099256000], [1426910255, 311265...</td>\n",
       "    </tr>\n",
       "    <tr>\n",
       "      <th>92294</th>\n",
       "      <td>89fb732ebbc2df0eb4928b4b006644c6</td>\n",
       "      <td>[[1426939574, 2370410637], [1426939503, 218254...</td>\n",
       "    </tr>\n",
       "  </tbody>\n",
       "</table>\n",
       "<p>92295 rows × 2 columns</p>\n",
       "</div>"
      ],
      "text/plain": [
       "                                    did  \\\n",
       "0      ec51024cacd62b2f44a5dedeab3b3ddd   \n",
       "1      e955cbbb099892dc8f6f3fb594ced710   \n",
       "2      e8ae4e4849f8c9a1e113d2c8b2654532   \n",
       "3      0c185e11deabef240415a6d5596c6fcf   \n",
       "4      668f8f04e920af6005177ece3d06309c   \n",
       "...                                 ...   \n",
       "92290  7e92b833c60c61731f41822804b4b757   \n",
       "92291  e71abbf6c2ee6992d5bc7c6f86f433d8   \n",
       "92292  5a7ee331f09ec8f87dc5c0dc1823928a   \n",
       "92293  3c9d39a68f7c58fde21a2bd9196f6d76   \n",
       "92294  89fb732ebbc2df0eb4928b4b006644c6   \n",
       "\n",
       "                                                   watch  \n",
       "0      [[1426951647, 392178405], [1426948166, 2329609...  \n",
       "1      [[1426959713, 3784139339], [1426958209, 818147...  \n",
       "2      [[1426950645, 1083423540], [1426950539, 119057...  \n",
       "3      [[1426937047, 2633810051], [1426907692, 348815...  \n",
       "4      [[1426944769, 3392895176], [1426944676, 263381...  \n",
       "...                                                  ...  \n",
       "92290  [[1426948745, 4212935773], [1426948260, 293125...  \n",
       "92291  [[1426945479, 4101685914], [1426945376, 415305...  \n",
       "92292  [[1426921816, 4153053381], [1426921294, 309199...  \n",
       "92293  [[1426911634, 1099256000], [1426910255, 311265...  \n",
       "92294  [[1426939574, 2370410637], [1426939503, 218254...  \n",
       "\n",
       "[92295 rows x 2 columns]"
      ]
     },
     "execution_count": 28,
     "metadata": {},
     "output_type": "execute_result"
    }
   ],
   "source": [
    "du30 = gezi.read_parquet('../input/train/part_30/user.parquet')\n",
    "du30"
   ]
  },
  {
   "cell_type": "code",
   "execution_count": 29,
   "metadata": {},
   "outputs": [
    {
     "data": {
      "text/html": [
       "<div>\n",
       "<style scoped>\n",
       "    .dataframe tbody tr th:only-of-type {\n",
       "        vertical-align: middle;\n",
       "    }\n",
       "\n",
       "    .dataframe tbody tr th {\n",
       "        vertical-align: top;\n",
       "    }\n",
       "\n",
       "    .dataframe thead th {\n",
       "        text-align: right;\n",
       "    }\n",
       "</style>\n",
       "<table border=\"1\" class=\"dataframe\">\n",
       "  <thead>\n",
       "    <tr style=\"text-align: right;\">\n",
       "      <th></th>\n",
       "      <th>did</th>\n",
       "      <th>watch</th>\n",
       "    </tr>\n",
       "  </thead>\n",
       "  <tbody>\n",
       "    <tr>\n",
       "      <th>0</th>\n",
       "      <td>e29be77eb3eafaf27e1b240d9fd94295</td>\n",
       "      <td>[[1426784837, 3783061137], [1426784780, 163468...</td>\n",
       "    </tr>\n",
       "    <tr>\n",
       "      <th>1</th>\n",
       "      <td>0afa206621a89461185d97968a46778f</td>\n",
       "      <td>[[1426597874, 2641330672], [1426589028, 355514...</td>\n",
       "    </tr>\n",
       "    <tr>\n",
       "      <th>2</th>\n",
       "      <td>59221135262c2f11107e611178fbe1cd</td>\n",
       "      <td>[[1426852510, 1208039942], [1423489809, 309774...</td>\n",
       "    </tr>\n",
       "    <tr>\n",
       "      <th>3</th>\n",
       "      <td>1de853f86071440fde852e287ffc14eb</td>\n",
       "      <td>[[1426860433, 4151932003], [1426852617, 197837...</td>\n",
       "    </tr>\n",
       "    <tr>\n",
       "      <th>4</th>\n",
       "      <td>a8a925796a4ca218243e0cda1a20e2f2</td>\n",
       "      <td>[[1426785134, 3330554546], [1424712823, 104409...</td>\n",
       "    </tr>\n",
       "    <tr>\n",
       "      <th>...</th>\n",
       "      <td>...</td>\n",
       "      <td>...</td>\n",
       "    </tr>\n",
       "    <tr>\n",
       "      <th>82730</th>\n",
       "      <td>50c8943406f4a36258b83bffc0ed08af</td>\n",
       "      <td>[[1426733921, 1241012114], [1426650862, 137363...</td>\n",
       "    </tr>\n",
       "    <tr>\n",
       "      <th>82731</th>\n",
       "      <td>5e83e7ed87bee870fdbf71e35bbb72a5</td>\n",
       "      <td>[[1426853207, 4153053381], [1426853091, 316058...</td>\n",
       "    </tr>\n",
       "    <tr>\n",
       "      <th>82732</th>\n",
       "      <td>738226e08fe25f285593d6a0a1fd1227</td>\n",
       "      <td>[[1426848521, 33081245], [1426460211, 22045558...</td>\n",
       "    </tr>\n",
       "    <tr>\n",
       "      <th>82733</th>\n",
       "      <td>6ecf068ff8eb3b1a204570a2c493332e</td>\n",
       "      <td>[[1426858542, 4153053381], [1426816464, 120803...</td>\n",
       "    </tr>\n",
       "    <tr>\n",
       "      <th>82734</th>\n",
       "      <td>e4eb30273c10532090b5c64a48239ce9</td>\n",
       "      <td>[[1426845753, 1208039942], [1426761233, 149180...</td>\n",
       "    </tr>\n",
       "  </tbody>\n",
       "</table>\n",
       "<p>82735 rows × 2 columns</p>\n",
       "</div>"
      ],
      "text/plain": [
       "                                    did  \\\n",
       "0      e29be77eb3eafaf27e1b240d9fd94295   \n",
       "1      0afa206621a89461185d97968a46778f   \n",
       "2      59221135262c2f11107e611178fbe1cd   \n",
       "3      1de853f86071440fde852e287ffc14eb   \n",
       "4      a8a925796a4ca218243e0cda1a20e2f2   \n",
       "...                                 ...   \n",
       "82730  50c8943406f4a36258b83bffc0ed08af   \n",
       "82731  5e83e7ed87bee870fdbf71e35bbb72a5   \n",
       "82732  738226e08fe25f285593d6a0a1fd1227   \n",
       "82733  6ecf068ff8eb3b1a204570a2c493332e   \n",
       "82734  e4eb30273c10532090b5c64a48239ce9   \n",
       "\n",
       "                                                   watch  \n",
       "0      [[1426784837, 3783061137], [1426784780, 163468...  \n",
       "1      [[1426597874, 2641330672], [1426589028, 355514...  \n",
       "2      [[1426852510, 1208039942], [1423489809, 309774...  \n",
       "3      [[1426860433, 4151932003], [1426852617, 197837...  \n",
       "4      [[1426785134, 3330554546], [1424712823, 104409...  \n",
       "...                                                  ...  \n",
       "82730  [[1426733921, 1241012114], [1426650862, 137363...  \n",
       "82731  [[1426853207, 4153053381], [1426853091, 316058...  \n",
       "82732  [[1426848521, 33081245], [1426460211, 22045558...  \n",
       "82733  [[1426858542, 4153053381], [1426816464, 120803...  \n",
       "82734  [[1426845753, 1208039942], [1426761233, 149180...  \n",
       "\n",
       "[82735 rows x 2 columns]"
      ]
     },
     "execution_count": 29,
     "metadata": {},
     "output_type": "execute_result"
    }
   ],
   "source": [
    "du29 = gezi.read_parquet('../input/train/part_29/user.parquet')\n",
    "du29"
   ]
  },
  {
   "cell_type": "code",
   "execution_count": 30,
   "metadata": {},
   "outputs": [],
   "source": [
    "t = pq.read_table('../input/train/part_2/context.parquet')\n",
    "d_c2 = t.to_pandas()"
   ]
  },
  {
   "cell_type": "code",
   "execution_count": 31,
   "metadata": {},
   "outputs": [
    {
     "data": {
      "text/html": [
       "<div>\n",
       "<style scoped>\n",
       "    .dataframe tbody tr th:only-of-type {\n",
       "        vertical-align: middle;\n",
       "    }\n",
       "\n",
       "    .dataframe tbody tr th {\n",
       "        vertical-align: top;\n",
       "    }\n",
       "\n",
       "    .dataframe thead th {\n",
       "        text-align: right;\n",
       "    }\n",
       "</style>\n",
       "<table border=\"1\" class=\"dataframe\">\n",
       "  <thead>\n",
       "    <tr style=\"text-align: right;\">\n",
       "      <th></th>\n",
       "      <th>label</th>\n",
       "      <th>mod</th>\n",
       "      <th>mf</th>\n",
       "      <th>aver</th>\n",
       "      <th>sver</th>\n",
       "      <th>did</th>\n",
       "      <th>vid</th>\n",
       "      <th>prev</th>\n",
       "      <th>region</th>\n",
       "      <th>timestamp</th>\n",
       "      <th>index</th>\n",
       "    </tr>\n",
       "  </thead>\n",
       "  <tbody>\n",
       "    <tr>\n",
       "      <th>0</th>\n",
       "      <td>0</td>\n",
       "      <td>5138a1999dfadc67a0b6963b7d42c50c</td>\n",
       "      <td>932a5cc56763396c6b205a63868d6316</td>\n",
       "      <td>183e022fe835e248ec27774c2687e312</td>\n",
       "      <td>21032c3a66d86aa1d99127d4b97cb548</td>\n",
       "      <td>97aa418db5bfa71f2289840fb9710ce1</td>\n",
       "      <td>731596015</td>\n",
       "      <td>1436229803</td>\n",
       "      <td>3065549804</td>\n",
       "      <td>1424450984</td>\n",
       "      <td>0</td>\n",
       "    </tr>\n",
       "    <tr>\n",
       "      <th>1</th>\n",
       "      <td>0</td>\n",
       "      <td>5138a1999dfadc67a0b6963b7d42c50c</td>\n",
       "      <td>932a5cc56763396c6b205a63868d6316</td>\n",
       "      <td>183e022fe835e248ec27774c2687e312</td>\n",
       "      <td>21032c3a66d86aa1d99127d4b97cb548</td>\n",
       "      <td>97aa418db5bfa71f2289840fb9710ce1</td>\n",
       "      <td>2408359345</td>\n",
       "      <td>1285724554</td>\n",
       "      <td>3065549804</td>\n",
       "      <td>1424450952</td>\n",
       "      <td>1</td>\n",
       "    </tr>\n",
       "    <tr>\n",
       "      <th>2</th>\n",
       "      <td>0</td>\n",
       "      <td>5138a1999dfadc67a0b6963b7d42c50c</td>\n",
       "      <td>932a5cc56763396c6b205a63868d6316</td>\n",
       "      <td>183e022fe835e248ec27774c2687e312</td>\n",
       "      <td>21032c3a66d86aa1d99127d4b97cb548</td>\n",
       "      <td>97aa418db5bfa71f2289840fb9710ce1</td>\n",
       "      <td>857908303</td>\n",
       "      <td>0</td>\n",
       "      <td>3065549804</td>\n",
       "      <td>1424451018</td>\n",
       "      <td>2</td>\n",
       "    </tr>\n",
       "    <tr>\n",
       "      <th>3</th>\n",
       "      <td>0</td>\n",
       "      <td>5138a1999dfadc67a0b6963b7d42c50c</td>\n",
       "      <td>932a5cc56763396c6b205a63868d6316</td>\n",
       "      <td>183e022fe835e248ec27774c2687e312</td>\n",
       "      <td>21032c3a66d86aa1d99127d4b97cb548</td>\n",
       "      <td>97aa418db5bfa71f2289840fb9710ce1</td>\n",
       "      <td>1427858618</td>\n",
       "      <td>0</td>\n",
       "      <td>3065549804</td>\n",
       "      <td>1424450987</td>\n",
       "      <td>3</td>\n",
       "    </tr>\n",
       "    <tr>\n",
       "      <th>4</th>\n",
       "      <td>0</td>\n",
       "      <td>5138a1999dfadc67a0b6963b7d42c50c</td>\n",
       "      <td>932a5cc56763396c6b205a63868d6316</td>\n",
       "      <td>183e022fe835e248ec27774c2687e312</td>\n",
       "      <td>21032c3a66d86aa1d99127d4b97cb548</td>\n",
       "      <td>97aa418db5bfa71f2289840fb9710ce1</td>\n",
       "      <td>2821273215</td>\n",
       "      <td>0</td>\n",
       "      <td>3065549804</td>\n",
       "      <td>1424450987</td>\n",
       "      <td>4</td>\n",
       "    </tr>\n",
       "    <tr>\n",
       "      <th>...</th>\n",
       "      <td>...</td>\n",
       "      <td>...</td>\n",
       "      <td>...</td>\n",
       "      <td>...</td>\n",
       "      <td>...</td>\n",
       "      <td>...</td>\n",
       "      <td>...</td>\n",
       "      <td>...</td>\n",
       "      <td>...</td>\n",
       "      <td>...</td>\n",
       "      <td>...</td>\n",
       "    </tr>\n",
       "    <tr>\n",
       "      <th>3319810</th>\n",
       "      <td>1</td>\n",
       "      <td>3e9b0f6563536090873992088b64b9ee</td>\n",
       "      <td>9de1665e6430fa58785027dbf9ab53e0</td>\n",
       "      <td>fb1ec50d3ce5505057f763c49d503b5a</td>\n",
       "      <td>ba195dd85894d6957bc61edca5ac7026</td>\n",
       "      <td>0edd34b914d329efd93893604491f99f</td>\n",
       "      <td>4250365497</td>\n",
       "      <td>1256605048</td>\n",
       "      <td>3781572183</td>\n",
       "      <td>1424454441</td>\n",
       "      <td>3319810</td>\n",
       "    </tr>\n",
       "    <tr>\n",
       "      <th>3319811</th>\n",
       "      <td>0</td>\n",
       "      <td>3e9b0f6563536090873992088b64b9ee</td>\n",
       "      <td>9de1665e6430fa58785027dbf9ab53e0</td>\n",
       "      <td>fb1ec50d3ce5505057f763c49d503b5a</td>\n",
       "      <td>ba195dd85894d6957bc61edca5ac7026</td>\n",
       "      <td>0edd34b914d329efd93893604491f99f</td>\n",
       "      <td>185658087</td>\n",
       "      <td>1860183527</td>\n",
       "      <td>3781572183</td>\n",
       "      <td>1424454441</td>\n",
       "      <td>3319811</td>\n",
       "    </tr>\n",
       "    <tr>\n",
       "      <th>3319812</th>\n",
       "      <td>0</td>\n",
       "      <td>3e9b0f6563536090873992088b64b9ee</td>\n",
       "      <td>9de1665e6430fa58785027dbf9ab53e0</td>\n",
       "      <td>fb1ec50d3ce5505057f763c49d503b5a</td>\n",
       "      <td>ba195dd85894d6957bc61edca5ac7026</td>\n",
       "      <td>0edd34b914d329efd93893604491f99f</td>\n",
       "      <td>3541459314</td>\n",
       "      <td>0</td>\n",
       "      <td>3781572183</td>\n",
       "      <td>1424454442</td>\n",
       "      <td>3319812</td>\n",
       "    </tr>\n",
       "    <tr>\n",
       "      <th>3319813</th>\n",
       "      <td>0</td>\n",
       "      <td>3e9b0f6563536090873992088b64b9ee</td>\n",
       "      <td>9de1665e6430fa58785027dbf9ab53e0</td>\n",
       "      <td>fb1ec50d3ce5505057f763c49d503b5a</td>\n",
       "      <td>ba195dd85894d6957bc61edca5ac7026</td>\n",
       "      <td>0edd34b914d329efd93893604491f99f</td>\n",
       "      <td>636502534</td>\n",
       "      <td>2286263208</td>\n",
       "      <td>3781572183</td>\n",
       "      <td>1424454439</td>\n",
       "      <td>3319813</td>\n",
       "    </tr>\n",
       "    <tr>\n",
       "      <th>3319814</th>\n",
       "      <td>0</td>\n",
       "      <td>3e9b0f6563536090873992088b64b9ee</td>\n",
       "      <td>9de1665e6430fa58785027dbf9ab53e0</td>\n",
       "      <td>fb1ec50d3ce5505057f763c49d503b5a</td>\n",
       "      <td>ba195dd85894d6957bc61edca5ac7026</td>\n",
       "      <td>0edd34b914d329efd93893604491f99f</td>\n",
       "      <td>3039103562</td>\n",
       "      <td>0</td>\n",
       "      <td>3781572183</td>\n",
       "      <td>1424454442</td>\n",
       "      <td>3319814</td>\n",
       "    </tr>\n",
       "  </tbody>\n",
       "</table>\n",
       "<p>3319815 rows × 11 columns</p>\n",
       "</div>"
      ],
      "text/plain": [
       "         label                               mod  \\\n",
       "0            0  5138a1999dfadc67a0b6963b7d42c50c   \n",
       "1            0  5138a1999dfadc67a0b6963b7d42c50c   \n",
       "2            0  5138a1999dfadc67a0b6963b7d42c50c   \n",
       "3            0  5138a1999dfadc67a0b6963b7d42c50c   \n",
       "4            0  5138a1999dfadc67a0b6963b7d42c50c   \n",
       "...        ...                               ...   \n",
       "3319810      1  3e9b0f6563536090873992088b64b9ee   \n",
       "3319811      0  3e9b0f6563536090873992088b64b9ee   \n",
       "3319812      0  3e9b0f6563536090873992088b64b9ee   \n",
       "3319813      0  3e9b0f6563536090873992088b64b9ee   \n",
       "3319814      0  3e9b0f6563536090873992088b64b9ee   \n",
       "\n",
       "                                       mf                              aver  \\\n",
       "0        932a5cc56763396c6b205a63868d6316  183e022fe835e248ec27774c2687e312   \n",
       "1        932a5cc56763396c6b205a63868d6316  183e022fe835e248ec27774c2687e312   \n",
       "2        932a5cc56763396c6b205a63868d6316  183e022fe835e248ec27774c2687e312   \n",
       "3        932a5cc56763396c6b205a63868d6316  183e022fe835e248ec27774c2687e312   \n",
       "4        932a5cc56763396c6b205a63868d6316  183e022fe835e248ec27774c2687e312   \n",
       "...                                   ...                               ...   \n",
       "3319810  9de1665e6430fa58785027dbf9ab53e0  fb1ec50d3ce5505057f763c49d503b5a   \n",
       "3319811  9de1665e6430fa58785027dbf9ab53e0  fb1ec50d3ce5505057f763c49d503b5a   \n",
       "3319812  9de1665e6430fa58785027dbf9ab53e0  fb1ec50d3ce5505057f763c49d503b5a   \n",
       "3319813  9de1665e6430fa58785027dbf9ab53e0  fb1ec50d3ce5505057f763c49d503b5a   \n",
       "3319814  9de1665e6430fa58785027dbf9ab53e0  fb1ec50d3ce5505057f763c49d503b5a   \n",
       "\n",
       "                                     sver                               did  \\\n",
       "0        21032c3a66d86aa1d99127d4b97cb548  97aa418db5bfa71f2289840fb9710ce1   \n",
       "1        21032c3a66d86aa1d99127d4b97cb548  97aa418db5bfa71f2289840fb9710ce1   \n",
       "2        21032c3a66d86aa1d99127d4b97cb548  97aa418db5bfa71f2289840fb9710ce1   \n",
       "3        21032c3a66d86aa1d99127d4b97cb548  97aa418db5bfa71f2289840fb9710ce1   \n",
       "4        21032c3a66d86aa1d99127d4b97cb548  97aa418db5bfa71f2289840fb9710ce1   \n",
       "...                                   ...                               ...   \n",
       "3319810  ba195dd85894d6957bc61edca5ac7026  0edd34b914d329efd93893604491f99f   \n",
       "3319811  ba195dd85894d6957bc61edca5ac7026  0edd34b914d329efd93893604491f99f   \n",
       "3319812  ba195dd85894d6957bc61edca5ac7026  0edd34b914d329efd93893604491f99f   \n",
       "3319813  ba195dd85894d6957bc61edca5ac7026  0edd34b914d329efd93893604491f99f   \n",
       "3319814  ba195dd85894d6957bc61edca5ac7026  0edd34b914d329efd93893604491f99f   \n",
       "\n",
       "                vid        prev      region   timestamp    index  \n",
       "0         731596015  1436229803  3065549804  1424450984        0  \n",
       "1        2408359345  1285724554  3065549804  1424450952        1  \n",
       "2         857908303           0  3065549804  1424451018        2  \n",
       "3        1427858618           0  3065549804  1424450987        3  \n",
       "4        2821273215           0  3065549804  1424450987        4  \n",
       "...             ...         ...         ...         ...      ...  \n",
       "3319810  4250365497  1256605048  3781572183  1424454441  3319810  \n",
       "3319811   185658087  1860183527  3781572183  1424454441  3319811  \n",
       "3319812  3541459314           0  3781572183  1424454442  3319812  \n",
       "3319813   636502534  2286263208  3781572183  1424454439  3319813  \n",
       "3319814  3039103562           0  3781572183  1424454442  3319814  \n",
       "\n",
       "[3319815 rows x 11 columns]"
      ]
     },
     "execution_count": 31,
     "metadata": {},
     "output_type": "execute_result"
    }
   ],
   "source": [
    "d_c2"
   ]
  },
  {
   "cell_type": "code",
   "execution_count": 34,
   "metadata": {},
   "outputs": [
    {
     "data": {
      "text/html": [
       "<div>\n",
       "<style scoped>\n",
       "    .dataframe tbody tr th:only-of-type {\n",
       "        vertical-align: middle;\n",
       "    }\n",
       "\n",
       "    .dataframe tbody tr th {\n",
       "        vertical-align: top;\n",
       "    }\n",
       "\n",
       "    .dataframe thead th {\n",
       "        text-align: right;\n",
       "    }\n",
       "</style>\n",
       "<table border=\"1\" class=\"dataframe\">\n",
       "  <thead>\n",
       "    <tr style=\"text-align: right;\">\n",
       "      <th></th>\n",
       "      <th>label</th>\n",
       "      <th>mod</th>\n",
       "      <th>mf</th>\n",
       "      <th>aver</th>\n",
       "      <th>sver</th>\n",
       "      <th>did</th>\n",
       "      <th>vid</th>\n",
       "      <th>prev</th>\n",
       "      <th>region</th>\n",
       "      <th>timestamp</th>\n",
       "      <th>index</th>\n",
       "    </tr>\n",
       "  </thead>\n",
       "  <tbody>\n",
       "    <tr>\n",
       "      <th>0</th>\n",
       "      <td>1</td>\n",
       "      <td>8e420890750df2b77a71e106dd52b17a</td>\n",
       "      <td>3de56d4b5045a6e2430a6c6b605784f4</td>\n",
       "      <td>856984b4b943d983e1ecd063561ede2d</td>\n",
       "      <td>e49dc1e8e576ff35a07e1182f4e98c91</td>\n",
       "      <td>2b738d0aa7695636ab1728073fbd86f6</td>\n",
       "      <td>2150409768</td>\n",
       "      <td>3466833237</td>\n",
       "      <td>1419611539</td>\n",
       "      <td>1426939472</td>\n",
       "      <td>0</td>\n",
       "    </tr>\n",
       "    <tr>\n",
       "      <th>1</th>\n",
       "      <td>0</td>\n",
       "      <td>8e420890750df2b77a71e106dd52b17a</td>\n",
       "      <td>3de56d4b5045a6e2430a6c6b605784f4</td>\n",
       "      <td>856984b4b943d983e1ecd063561ede2d</td>\n",
       "      <td>e49dc1e8e576ff35a07e1182f4e98c91</td>\n",
       "      <td>2b738d0aa7695636ab1728073fbd86f6</td>\n",
       "      <td>479266760</td>\n",
       "      <td>0</td>\n",
       "      <td>1419611539</td>\n",
       "      <td>1426940141</td>\n",
       "      <td>1</td>\n",
       "    </tr>\n",
       "    <tr>\n",
       "      <th>2</th>\n",
       "      <td>1</td>\n",
       "      <td>8e420890750df2b77a71e106dd52b17a</td>\n",
       "      <td>3de56d4b5045a6e2430a6c6b605784f4</td>\n",
       "      <td>856984b4b943d983e1ecd063561ede2d</td>\n",
       "      <td>e49dc1e8e576ff35a07e1182f4e98c91</td>\n",
       "      <td>2b738d0aa7695636ab1728073fbd86f6</td>\n",
       "      <td>4276937968</td>\n",
       "      <td>0</td>\n",
       "      <td>1419611539</td>\n",
       "      <td>1426939580</td>\n",
       "      <td>2</td>\n",
       "    </tr>\n",
       "    <tr>\n",
       "      <th>3</th>\n",
       "      <td>0</td>\n",
       "      <td>8e420890750df2b77a71e106dd52b17a</td>\n",
       "      <td>3de56d4b5045a6e2430a6c6b605784f4</td>\n",
       "      <td>856984b4b943d983e1ecd063561ede2d</td>\n",
       "      <td>e49dc1e8e576ff35a07e1182f4e98c91</td>\n",
       "      <td>2b738d0aa7695636ab1728073fbd86f6</td>\n",
       "      <td>1339723998</td>\n",
       "      <td>1102423729</td>\n",
       "      <td>1419611539</td>\n",
       "      <td>1426939474</td>\n",
       "      <td>3</td>\n",
       "    </tr>\n",
       "    <tr>\n",
       "      <th>4</th>\n",
       "      <td>0</td>\n",
       "      <td>8e420890750df2b77a71e106dd52b17a</td>\n",
       "      <td>3de56d4b5045a6e2430a6c6b605784f4</td>\n",
       "      <td>856984b4b943d983e1ecd063561ede2d</td>\n",
       "      <td>e49dc1e8e576ff35a07e1182f4e98c91</td>\n",
       "      <td>2b738d0aa7695636ab1728073fbd86f6</td>\n",
       "      <td>2488612978</td>\n",
       "      <td>0</td>\n",
       "      <td>1419611539</td>\n",
       "      <td>1426939580</td>\n",
       "      <td>4</td>\n",
       "    </tr>\n",
       "    <tr>\n",
       "      <th>...</th>\n",
       "      <td>...</td>\n",
       "      <td>...</td>\n",
       "      <td>...</td>\n",
       "      <td>...</td>\n",
       "      <td>...</td>\n",
       "      <td>...</td>\n",
       "      <td>...</td>\n",
       "      <td>...</td>\n",
       "      <td>...</td>\n",
       "      <td>...</td>\n",
       "      <td>...</td>\n",
       "    </tr>\n",
       "    <tr>\n",
       "      <th>3324508</th>\n",
       "      <td>0</td>\n",
       "      <td>d6380a5e93a7e09610801ee26ede1e86</td>\n",
       "      <td>9de1665e6430fa58785027dbf9ab53e0</td>\n",
       "      <td>3c0d3cb9415e8312b13cda9d0f111230</td>\n",
       "      <td>21032c3a66d86aa1d99127d4b97cb548</td>\n",
       "      <td>4d37aa0475ef29b6169e52c43e5ade94</td>\n",
       "      <td>751548132</td>\n",
       "      <td>0</td>\n",
       "      <td>2079574584</td>\n",
       "      <td>1426949698</td>\n",
       "      <td>3324508</td>\n",
       "    </tr>\n",
       "    <tr>\n",
       "      <th>3324509</th>\n",
       "      <td>0</td>\n",
       "      <td>52fe823f4e241bf498d82b6afc7fbc64</td>\n",
       "      <td>9de1665e6430fa58785027dbf9ab53e0</td>\n",
       "      <td>c088e05e114ccfd7e8f93d86d22652be</td>\n",
       "      <td>ba195dd85894d6957bc61edca5ac7026</td>\n",
       "      <td>3cd428138b93cf3aebebccaeb649d971</td>\n",
       "      <td>3592760380</td>\n",
       "      <td>526526995</td>\n",
       "      <td>3004987730</td>\n",
       "      <td>1426943422</td>\n",
       "      <td>3324509</td>\n",
       "    </tr>\n",
       "    <tr>\n",
       "      <th>3324510</th>\n",
       "      <td>0</td>\n",
       "      <td>52fe823f4e241bf498d82b6afc7fbc64</td>\n",
       "      <td>9de1665e6430fa58785027dbf9ab53e0</td>\n",
       "      <td>c088e05e114ccfd7e8f93d86d22652be</td>\n",
       "      <td>ba195dd85894d6957bc61edca5ac7026</td>\n",
       "      <td>3cd428138b93cf3aebebccaeb649d971</td>\n",
       "      <td>4054701265</td>\n",
       "      <td>0</td>\n",
       "      <td>3004987730</td>\n",
       "      <td>1426943425</td>\n",
       "      <td>3324510</td>\n",
       "    </tr>\n",
       "    <tr>\n",
       "      <th>3324511</th>\n",
       "      <td>1</td>\n",
       "      <td>52fe823f4e241bf498d82b6afc7fbc64</td>\n",
       "      <td>9de1665e6430fa58785027dbf9ab53e0</td>\n",
       "      <td>c088e05e114ccfd7e8f93d86d22652be</td>\n",
       "      <td>ba195dd85894d6957bc61edca5ac7026</td>\n",
       "      <td>3cd428138b93cf3aebebccaeb649d971</td>\n",
       "      <td>543883306</td>\n",
       "      <td>3859789495</td>\n",
       "      <td>3004987730</td>\n",
       "      <td>1426943420</td>\n",
       "      <td>3324511</td>\n",
       "    </tr>\n",
       "    <tr>\n",
       "      <th>3324512</th>\n",
       "      <td>0</td>\n",
       "      <td>52fe823f4e241bf498d82b6afc7fbc64</td>\n",
       "      <td>9de1665e6430fa58785027dbf9ab53e0</td>\n",
       "      <td>c088e05e114ccfd7e8f93d86d22652be</td>\n",
       "      <td>ba195dd85894d6957bc61edca5ac7026</td>\n",
       "      <td>3cd428138b93cf3aebebccaeb649d971</td>\n",
       "      <td>1265262632</td>\n",
       "      <td>0</td>\n",
       "      <td>3004987730</td>\n",
       "      <td>1426943425</td>\n",
       "      <td>3324512</td>\n",
       "    </tr>\n",
       "  </tbody>\n",
       "</table>\n",
       "<p>3324513 rows × 11 columns</p>\n",
       "</div>"
      ],
      "text/plain": [
       "         label                               mod  \\\n",
       "0            1  8e420890750df2b77a71e106dd52b17a   \n",
       "1            0  8e420890750df2b77a71e106dd52b17a   \n",
       "2            1  8e420890750df2b77a71e106dd52b17a   \n",
       "3            0  8e420890750df2b77a71e106dd52b17a   \n",
       "4            0  8e420890750df2b77a71e106dd52b17a   \n",
       "...        ...                               ...   \n",
       "3324508      0  d6380a5e93a7e09610801ee26ede1e86   \n",
       "3324509      0  52fe823f4e241bf498d82b6afc7fbc64   \n",
       "3324510      0  52fe823f4e241bf498d82b6afc7fbc64   \n",
       "3324511      1  52fe823f4e241bf498d82b6afc7fbc64   \n",
       "3324512      0  52fe823f4e241bf498d82b6afc7fbc64   \n",
       "\n",
       "                                       mf                              aver  \\\n",
       "0        3de56d4b5045a6e2430a6c6b605784f4  856984b4b943d983e1ecd063561ede2d   \n",
       "1        3de56d4b5045a6e2430a6c6b605784f4  856984b4b943d983e1ecd063561ede2d   \n",
       "2        3de56d4b5045a6e2430a6c6b605784f4  856984b4b943d983e1ecd063561ede2d   \n",
       "3        3de56d4b5045a6e2430a6c6b605784f4  856984b4b943d983e1ecd063561ede2d   \n",
       "4        3de56d4b5045a6e2430a6c6b605784f4  856984b4b943d983e1ecd063561ede2d   \n",
       "...                                   ...                               ...   \n",
       "3324508  9de1665e6430fa58785027dbf9ab53e0  3c0d3cb9415e8312b13cda9d0f111230   \n",
       "3324509  9de1665e6430fa58785027dbf9ab53e0  c088e05e114ccfd7e8f93d86d22652be   \n",
       "3324510  9de1665e6430fa58785027dbf9ab53e0  c088e05e114ccfd7e8f93d86d22652be   \n",
       "3324511  9de1665e6430fa58785027dbf9ab53e0  c088e05e114ccfd7e8f93d86d22652be   \n",
       "3324512  9de1665e6430fa58785027dbf9ab53e0  c088e05e114ccfd7e8f93d86d22652be   \n",
       "\n",
       "                                     sver                               did  \\\n",
       "0        e49dc1e8e576ff35a07e1182f4e98c91  2b738d0aa7695636ab1728073fbd86f6   \n",
       "1        e49dc1e8e576ff35a07e1182f4e98c91  2b738d0aa7695636ab1728073fbd86f6   \n",
       "2        e49dc1e8e576ff35a07e1182f4e98c91  2b738d0aa7695636ab1728073fbd86f6   \n",
       "3        e49dc1e8e576ff35a07e1182f4e98c91  2b738d0aa7695636ab1728073fbd86f6   \n",
       "4        e49dc1e8e576ff35a07e1182f4e98c91  2b738d0aa7695636ab1728073fbd86f6   \n",
       "...                                   ...                               ...   \n",
       "3324508  21032c3a66d86aa1d99127d4b97cb548  4d37aa0475ef29b6169e52c43e5ade94   \n",
       "3324509  ba195dd85894d6957bc61edca5ac7026  3cd428138b93cf3aebebccaeb649d971   \n",
       "3324510  ba195dd85894d6957bc61edca5ac7026  3cd428138b93cf3aebebccaeb649d971   \n",
       "3324511  ba195dd85894d6957bc61edca5ac7026  3cd428138b93cf3aebebccaeb649d971   \n",
       "3324512  ba195dd85894d6957bc61edca5ac7026  3cd428138b93cf3aebebccaeb649d971   \n",
       "\n",
       "                vid        prev      region   timestamp    index  \n",
       "0        2150409768  3466833237  1419611539  1426939472        0  \n",
       "1         479266760           0  1419611539  1426940141        1  \n",
       "2        4276937968           0  1419611539  1426939580        2  \n",
       "3        1339723998  1102423729  1419611539  1426939474        3  \n",
       "4        2488612978           0  1419611539  1426939580        4  \n",
       "...             ...         ...         ...         ...      ...  \n",
       "3324508   751548132           0  2079574584  1426949698  3324508  \n",
       "3324509  3592760380   526526995  3004987730  1426943422  3324509  \n",
       "3324510  4054701265           0  3004987730  1426943425  3324510  \n",
       "3324511   543883306  3859789495  3004987730  1426943420  3324511  \n",
       "3324512  1265262632           0  3004987730  1426943425  3324512  \n",
       "\n",
       "[3324513 rows x 11 columns]"
      ]
     },
     "execution_count": 34,
     "metadata": {},
     "output_type": "execute_result"
    }
   ],
   "source": [
    "dc30"
   ]
  },
  {
   "cell_type": "code",
   "execution_count": 35,
   "metadata": {},
   "outputs": [],
   "source": [
    "vinfo = pq.read_table('../input/train/raw.parquet').to_pandas()"
   ]
  },
  {
   "cell_type": "code",
   "execution_count": 36,
   "metadata": {},
   "outputs": [
    {
     "name": "stdout",
     "output_type": "stream",
     "text": [
      "context_vids.txt  \u001b[0m\u001b[38;5;27mpart_14\u001b[0m/  \u001b[38;5;27mpart_2\u001b[0m/   \u001b[38;5;27mpart_25\u001b[0m/  \u001b[38;5;27mpart_30\u001b[0m/  \u001b[38;5;27mpart_9\u001b[0m/\r\n",
      "\u001b[38;5;27mpart_1\u001b[0m/           \u001b[38;5;27mpart_15\u001b[0m/  \u001b[38;5;27mpart_20\u001b[0m/  \u001b[38;5;27mpart_26\u001b[0m/  \u001b[38;5;27mpart_4\u001b[0m/   raw.parquet\r\n",
      "\u001b[38;5;27mpart_10\u001b[0m/          \u001b[38;5;27mpart_16\u001b[0m/  \u001b[38;5;27mpart_21\u001b[0m/  \u001b[38;5;27mpart_27\u001b[0m/  \u001b[38;5;27mpart_5\u001b[0m/   vids.txt\r\n",
      "\u001b[38;5;27mpart_11\u001b[0m/          \u001b[38;5;27mpart_17\u001b[0m/  \u001b[38;5;27mpart_22\u001b[0m/  \u001b[38;5;27mpart_28\u001b[0m/  \u001b[38;5;27mpart_6\u001b[0m/   watch_vids.txt\r\n",
      "\u001b[38;5;27mpart_12\u001b[0m/          \u001b[38;5;27mpart_18\u001b[0m/  \u001b[38;5;27mpart_23\u001b[0m/  \u001b[38;5;27mpart_29\u001b[0m/  \u001b[38;5;27mpart_7\u001b[0m/\r\n",
      "\u001b[38;5;27mpart_13\u001b[0m/          \u001b[38;5;27mpart_19\u001b[0m/  \u001b[38;5;27mpart_24\u001b[0m/  \u001b[38;5;27mpart_3\u001b[0m/   \u001b[38;5;27mpart_8\u001b[0m/\r\n"
     ]
    }
   ],
   "source": [
    "ls ../input/train/"
   ]
  },
  {
   "cell_type": "code",
   "execution_count": 37,
   "metadata": {
    "scrolled": true
   },
   "outputs": [
    {
     "name": "stderr",
     "output_type": "stream",
     "text": [
      "100%|██████████| 30/30 [00:33<00:00,  1.30s/it]\n"
     ]
    },
    {
     "data": {
      "text/html": [
       "<div>\n",
       "<style scoped>\n",
       "    .dataframe tbody tr th:only-of-type {\n",
       "        vertical-align: middle;\n",
       "    }\n",
       "\n",
       "    .dataframe tbody tr th {\n",
       "        vertical-align: top;\n",
       "    }\n",
       "\n",
       "    .dataframe thead th {\n",
       "        text-align: right;\n",
       "    }\n",
       "</style>\n",
       "<table border=\"1\" class=\"dataframe\">\n",
       "  <thead>\n",
       "    <tr style=\"text-align: right;\">\n",
       "      <th></th>\n",
       "      <th>label</th>\n",
       "      <th>mod</th>\n",
       "      <th>mf</th>\n",
       "      <th>aver</th>\n",
       "      <th>sver</th>\n",
       "      <th>did</th>\n",
       "      <th>vid</th>\n",
       "      <th>prev</th>\n",
       "      <th>region</th>\n",
       "      <th>timestamp</th>\n",
       "      <th>index</th>\n",
       "    </tr>\n",
       "  </thead>\n",
       "  <tbody>\n",
       "    <tr>\n",
       "      <th>0</th>\n",
       "      <td>0</td>\n",
       "      <td>3687d08aeb8187c7691704b72fcbede2</td>\n",
       "      <td>932a5cc56763396c6b205a63868d6316</td>\n",
       "      <td>183e022fe835e248ec27774c2687e312</td>\n",
       "      <td>fb7400b0ab4726a59464a94b6842f136</td>\n",
       "      <td>3a0e9618b3fcf518deae3dce5babe72f</td>\n",
       "      <td>1904212554</td>\n",
       "      <td>0</td>\n",
       "      <td>2247014434</td>\n",
       "      <td>1424424164</td>\n",
       "      <td>0</td>\n",
       "    </tr>\n",
       "    <tr>\n",
       "      <th>1</th>\n",
       "      <td>0</td>\n",
       "      <td>3687d08aeb8187c7691704b72fcbede2</td>\n",
       "      <td>932a5cc56763396c6b205a63868d6316</td>\n",
       "      <td>183e022fe835e248ec27774c2687e312</td>\n",
       "      <td>fb7400b0ab4726a59464a94b6842f136</td>\n",
       "      <td>3a0e9618b3fcf518deae3dce5babe72f</td>\n",
       "      <td>4106149810</td>\n",
       "      <td>2572513449</td>\n",
       "      <td>2247014434</td>\n",
       "      <td>1424424153</td>\n",
       "      <td>1</td>\n",
       "    </tr>\n",
       "    <tr>\n",
       "      <th>2</th>\n",
       "      <td>0</td>\n",
       "      <td>3687d08aeb8187c7691704b72fcbede2</td>\n",
       "      <td>932a5cc56763396c6b205a63868d6316</td>\n",
       "      <td>183e022fe835e248ec27774c2687e312</td>\n",
       "      <td>fb7400b0ab4726a59464a94b6842f136</td>\n",
       "      <td>3a0e9618b3fcf518deae3dce5babe72f</td>\n",
       "      <td>3471448782</td>\n",
       "      <td>0</td>\n",
       "      <td>2247014434</td>\n",
       "      <td>1424424165</td>\n",
       "      <td>2</td>\n",
       "    </tr>\n",
       "    <tr>\n",
       "      <th>3</th>\n",
       "      <td>0</td>\n",
       "      <td>3687d08aeb8187c7691704b72fcbede2</td>\n",
       "      <td>932a5cc56763396c6b205a63868d6316</td>\n",
       "      <td>183e022fe835e248ec27774c2687e312</td>\n",
       "      <td>fb7400b0ab4726a59464a94b6842f136</td>\n",
       "      <td>3a0e9618b3fcf518deae3dce5babe72f</td>\n",
       "      <td>3408428944</td>\n",
       "      <td>0</td>\n",
       "      <td>2247014434</td>\n",
       "      <td>1424424159</td>\n",
       "      <td>3</td>\n",
       "    </tr>\n",
       "    <tr>\n",
       "      <th>4</th>\n",
       "      <td>0</td>\n",
       "      <td>3687d08aeb8187c7691704b72fcbede2</td>\n",
       "      <td>932a5cc56763396c6b205a63868d6316</td>\n",
       "      <td>183e022fe835e248ec27774c2687e312</td>\n",
       "      <td>fb7400b0ab4726a59464a94b6842f136</td>\n",
       "      <td>3a0e9618b3fcf518deae3dce5babe72f</td>\n",
       "      <td>3897511701</td>\n",
       "      <td>0</td>\n",
       "      <td>2247014434</td>\n",
       "      <td>1424424165</td>\n",
       "      <td>4</td>\n",
       "    </tr>\n",
       "    <tr>\n",
       "      <th>...</th>\n",
       "      <td>...</td>\n",
       "      <td>...</td>\n",
       "      <td>...</td>\n",
       "      <td>...</td>\n",
       "      <td>...</td>\n",
       "      <td>...</td>\n",
       "      <td>...</td>\n",
       "      <td>...</td>\n",
       "      <td>...</td>\n",
       "      <td>...</td>\n",
       "      <td>...</td>\n",
       "    </tr>\n",
       "    <tr>\n",
       "      <th>3324508</th>\n",
       "      <td>0</td>\n",
       "      <td>d6380a5e93a7e09610801ee26ede1e86</td>\n",
       "      <td>9de1665e6430fa58785027dbf9ab53e0</td>\n",
       "      <td>3c0d3cb9415e8312b13cda9d0f111230</td>\n",
       "      <td>21032c3a66d86aa1d99127d4b97cb548</td>\n",
       "      <td>4d37aa0475ef29b6169e52c43e5ade94</td>\n",
       "      <td>751548132</td>\n",
       "      <td>0</td>\n",
       "      <td>2079574584</td>\n",
       "      <td>1426949698</td>\n",
       "      <td>3324508</td>\n",
       "    </tr>\n",
       "    <tr>\n",
       "      <th>3324509</th>\n",
       "      <td>0</td>\n",
       "      <td>52fe823f4e241bf498d82b6afc7fbc64</td>\n",
       "      <td>9de1665e6430fa58785027dbf9ab53e0</td>\n",
       "      <td>c088e05e114ccfd7e8f93d86d22652be</td>\n",
       "      <td>ba195dd85894d6957bc61edca5ac7026</td>\n",
       "      <td>3cd428138b93cf3aebebccaeb649d971</td>\n",
       "      <td>3592760380</td>\n",
       "      <td>526526995</td>\n",
       "      <td>3004987730</td>\n",
       "      <td>1426943422</td>\n",
       "      <td>3324509</td>\n",
       "    </tr>\n",
       "    <tr>\n",
       "      <th>3324510</th>\n",
       "      <td>0</td>\n",
       "      <td>52fe823f4e241bf498d82b6afc7fbc64</td>\n",
       "      <td>9de1665e6430fa58785027dbf9ab53e0</td>\n",
       "      <td>c088e05e114ccfd7e8f93d86d22652be</td>\n",
       "      <td>ba195dd85894d6957bc61edca5ac7026</td>\n",
       "      <td>3cd428138b93cf3aebebccaeb649d971</td>\n",
       "      <td>4054701265</td>\n",
       "      <td>0</td>\n",
       "      <td>3004987730</td>\n",
       "      <td>1426943425</td>\n",
       "      <td>3324510</td>\n",
       "    </tr>\n",
       "    <tr>\n",
       "      <th>3324511</th>\n",
       "      <td>1</td>\n",
       "      <td>52fe823f4e241bf498d82b6afc7fbc64</td>\n",
       "      <td>9de1665e6430fa58785027dbf9ab53e0</td>\n",
       "      <td>c088e05e114ccfd7e8f93d86d22652be</td>\n",
       "      <td>ba195dd85894d6957bc61edca5ac7026</td>\n",
       "      <td>3cd428138b93cf3aebebccaeb649d971</td>\n",
       "      <td>543883306</td>\n",
       "      <td>3859789495</td>\n",
       "      <td>3004987730</td>\n",
       "      <td>1426943420</td>\n",
       "      <td>3324511</td>\n",
       "    </tr>\n",
       "    <tr>\n",
       "      <th>3324512</th>\n",
       "      <td>0</td>\n",
       "      <td>52fe823f4e241bf498d82b6afc7fbc64</td>\n",
       "      <td>9de1665e6430fa58785027dbf9ab53e0</td>\n",
       "      <td>c088e05e114ccfd7e8f93d86d22652be</td>\n",
       "      <td>ba195dd85894d6957bc61edca5ac7026</td>\n",
       "      <td>3cd428138b93cf3aebebccaeb649d971</td>\n",
       "      <td>1265262632</td>\n",
       "      <td>0</td>\n",
       "      <td>3004987730</td>\n",
       "      <td>1426943425</td>\n",
       "      <td>3324512</td>\n",
       "    </tr>\n",
       "  </tbody>\n",
       "</table>\n",
       "<p>91595511 rows × 11 columns</p>\n",
       "</div>"
      ],
      "text/plain": [
       "         label                               mod  \\\n",
       "0            0  3687d08aeb8187c7691704b72fcbede2   \n",
       "1            0  3687d08aeb8187c7691704b72fcbede2   \n",
       "2            0  3687d08aeb8187c7691704b72fcbede2   \n",
       "3            0  3687d08aeb8187c7691704b72fcbede2   \n",
       "4            0  3687d08aeb8187c7691704b72fcbede2   \n",
       "...        ...                               ...   \n",
       "3324508      0  d6380a5e93a7e09610801ee26ede1e86   \n",
       "3324509      0  52fe823f4e241bf498d82b6afc7fbc64   \n",
       "3324510      0  52fe823f4e241bf498d82b6afc7fbc64   \n",
       "3324511      1  52fe823f4e241bf498d82b6afc7fbc64   \n",
       "3324512      0  52fe823f4e241bf498d82b6afc7fbc64   \n",
       "\n",
       "                                       mf                              aver  \\\n",
       "0        932a5cc56763396c6b205a63868d6316  183e022fe835e248ec27774c2687e312   \n",
       "1        932a5cc56763396c6b205a63868d6316  183e022fe835e248ec27774c2687e312   \n",
       "2        932a5cc56763396c6b205a63868d6316  183e022fe835e248ec27774c2687e312   \n",
       "3        932a5cc56763396c6b205a63868d6316  183e022fe835e248ec27774c2687e312   \n",
       "4        932a5cc56763396c6b205a63868d6316  183e022fe835e248ec27774c2687e312   \n",
       "...                                   ...                               ...   \n",
       "3324508  9de1665e6430fa58785027dbf9ab53e0  3c0d3cb9415e8312b13cda9d0f111230   \n",
       "3324509  9de1665e6430fa58785027dbf9ab53e0  c088e05e114ccfd7e8f93d86d22652be   \n",
       "3324510  9de1665e6430fa58785027dbf9ab53e0  c088e05e114ccfd7e8f93d86d22652be   \n",
       "3324511  9de1665e6430fa58785027dbf9ab53e0  c088e05e114ccfd7e8f93d86d22652be   \n",
       "3324512  9de1665e6430fa58785027dbf9ab53e0  c088e05e114ccfd7e8f93d86d22652be   \n",
       "\n",
       "                                     sver                               did  \\\n",
       "0        fb7400b0ab4726a59464a94b6842f136  3a0e9618b3fcf518deae3dce5babe72f   \n",
       "1        fb7400b0ab4726a59464a94b6842f136  3a0e9618b3fcf518deae3dce5babe72f   \n",
       "2        fb7400b0ab4726a59464a94b6842f136  3a0e9618b3fcf518deae3dce5babe72f   \n",
       "3        fb7400b0ab4726a59464a94b6842f136  3a0e9618b3fcf518deae3dce5babe72f   \n",
       "4        fb7400b0ab4726a59464a94b6842f136  3a0e9618b3fcf518deae3dce5babe72f   \n",
       "...                                   ...                               ...   \n",
       "3324508  21032c3a66d86aa1d99127d4b97cb548  4d37aa0475ef29b6169e52c43e5ade94   \n",
       "3324509  ba195dd85894d6957bc61edca5ac7026  3cd428138b93cf3aebebccaeb649d971   \n",
       "3324510  ba195dd85894d6957bc61edca5ac7026  3cd428138b93cf3aebebccaeb649d971   \n",
       "3324511  ba195dd85894d6957bc61edca5ac7026  3cd428138b93cf3aebebccaeb649d971   \n",
       "3324512  ba195dd85894d6957bc61edca5ac7026  3cd428138b93cf3aebebccaeb649d971   \n",
       "\n",
       "                vid        prev      region   timestamp    index  \n",
       "0        1904212554           0  2247014434  1424424164        0  \n",
       "1        4106149810  2572513449  2247014434  1424424153        1  \n",
       "2        3471448782           0  2247014434  1424424165        2  \n",
       "3        3408428944           0  2247014434  1424424159        3  \n",
       "4        3897511701           0  2247014434  1424424165        4  \n",
       "...             ...         ...         ...         ...      ...  \n",
       "3324508   751548132           0  2079574584  1426949698  3324508  \n",
       "3324509  3592760380   526526995  3004987730  1426943422  3324509  \n",
       "3324510  4054701265           0  3004987730  1426943425  3324510  \n",
       "3324511   543883306  3859789495  3004987730  1426943420  3324511  \n",
       "3324512  1265262632           0  3004987730  1426943425  3324512  \n",
       "\n",
       "[91595511 rows x 11 columns]"
      ]
     },
     "execution_count": 37,
     "metadata": {},
     "output_type": "execute_result"
    }
   ],
   "source": [
    "import pickle\n",
    "d_cs = []\n",
    "for i in tqdm(range(30)):\n",
    "  dir_ = f'../input/train/part_{i+1}'\n",
    "  t = pq.read_table(f'{dir_}/context.parquet')\n",
    "#   pickle.dump(set(t.did.values), open(f'{dir_}/dids_1.pkl', 'wb'))\n",
    "#   pickle.dump(set(t.vid.values), open(f'{dir_}/vids_1.pkl', 'wb'))\n",
    "  d_cs += [t.to_pandas()]\n",
    "#   dt = pd.concat(d_cs)\n",
    "#   pickle.dump(set(dt.did.values), open(f'{dir_}/dids.pkl', 'wb'))\n",
    "#   pickle.dump(set(dt.vid.values), open(f'{dir_}/vids.pkl', 'wb'))\n",
    "d_c = pd.concat(d_cs)\n",
    "d_c"
   ]
  },
  {
   "cell_type": "code",
   "execution_count": 38,
   "metadata": {},
   "outputs": [],
   "source": [
    "t = pq.read_table('../input/train/part_27/context.parquet')\n",
    "dc27 = t.to_pandas()"
   ]
  },
  {
   "cell_type": "code",
   "execution_count": 39,
   "metadata": {},
   "outputs": [],
   "source": [
    "t = pq.read_table('../input/train/part_28/context.parquet')\n",
    "dc28 = t.to_pandas()"
   ]
  },
  {
   "cell_type": "code",
   "execution_count": 40,
   "metadata": {},
   "outputs": [],
   "source": [
    "t = pq.read_table('../input/train/part_29/context.parquet')\n",
    "dc29 = t.to_pandas()"
   ]
  },
  {
   "cell_type": "code",
   "execution_count": 41,
   "metadata": {},
   "outputs": [],
   "source": [
    "t = pq.read_table('../input/train/part_30/context.parquet')\n",
    "dc30 = t.to_pandas()"
   ]
  },
  {
   "cell_type": "code",
   "execution_count": 42,
   "metadata": {},
   "outputs": [
    {
     "data": {
      "text/plain": [
       "92295"
      ]
     },
     "execution_count": 42,
     "metadata": {},
     "output_type": "execute_result"
    }
   ],
   "source": [
    "dc30.did.nunique()"
   ]
  },
  {
   "cell_type": "code",
   "execution_count": 43,
   "metadata": {},
   "outputs": [
    {
     "data": {
      "text/plain": [
       "0.07856609374064713"
      ]
     },
     "execution_count": 43,
     "metadata": {},
     "output_type": "execute_result"
    }
   ],
   "source": [
    "dc30.label.mean()"
   ]
  },
  {
   "cell_type": "code",
   "execution_count": 44,
   "metadata": {},
   "outputs": [],
   "source": [
    "import random"
   ]
  },
  {
   "cell_type": "code",
   "execution_count": 45,
   "metadata": {},
   "outputs": [],
   "source": [
    "dc30['score'] = dc30.label.apply(lambda x:random.random())"
   ]
  },
  {
   "cell_type": "code",
   "execution_count": 46,
   "metadata": {},
   "outputs": [
    {
     "data": {
      "text/plain": [
       "0          0.084405\n",
       "1          0.655310\n",
       "2          0.372166\n",
       "3          0.832198\n",
       "4          0.660671\n",
       "             ...   \n",
       "3324508    0.627115\n",
       "3324509    0.397332\n",
       "3324510    0.624956\n",
       "3324511    0.011165\n",
       "3324512    0.546203\n",
       "Name: score, Length: 3324513, dtype: float64"
      ]
     },
     "execution_count": 46,
     "metadata": {},
     "output_type": "execute_result"
    }
   ],
   "source": [
    "dc30.score"
   ]
  },
  {
   "cell_type": "code",
   "execution_count": 47,
   "metadata": {},
   "outputs": [],
   "source": [
    "from projects.ai.mango.src import evaluate"
   ]
  },
  {
   "cell_type": "code",
   "execution_count": 48,
   "metadata": {},
   "outputs": [],
   "source": [
    "# evaluate.group_auc(dc30.label.values, dc30.score.values, dc30.did.values)"
   ]
  },
  {
   "cell_type": "code",
   "execution_count": 49,
   "metadata": {},
   "outputs": [
    {
     "data": {
      "text/plain": [
       "1177350"
      ]
     },
     "execution_count": 49,
     "metadata": {},
     "output_type": "execute_result"
    }
   ],
   "source": [
    "d_c.did.nunique()"
   ]
  },
  {
   "cell_type": "code",
   "execution_count": 50,
   "metadata": {},
   "outputs": [],
   "source": [
    "t = pq.read_table('../input/eval/context.parquet')\n",
    "dce = t.to_pandas()"
   ]
  },
  {
   "cell_type": "code",
   "execution_count": 51,
   "metadata": {},
   "outputs": [
    {
     "data": {
      "text/html": [
       "<div>\n",
       "<style scoped>\n",
       "    .dataframe tbody tr th:only-of-type {\n",
       "        vertical-align: middle;\n",
       "    }\n",
       "\n",
       "    .dataframe tbody tr th {\n",
       "        vertical-align: top;\n",
       "    }\n",
       "\n",
       "    .dataframe thead th {\n",
       "        text-align: right;\n",
       "    }\n",
       "</style>\n",
       "<table border=\"1\" class=\"dataframe\">\n",
       "  <thead>\n",
       "    <tr style=\"text-align: right;\">\n",
       "      <th></th>\n",
       "      <th>mod</th>\n",
       "      <th>mf</th>\n",
       "      <th>aver</th>\n",
       "      <th>sver</th>\n",
       "      <th>did</th>\n",
       "      <th>vid</th>\n",
       "      <th>prev</th>\n",
       "      <th>timestamp</th>\n",
       "      <th>index</th>\n",
       "      <th>region</th>\n",
       "    </tr>\n",
       "  </thead>\n",
       "  <tbody>\n",
       "    <tr>\n",
       "      <th>0</th>\n",
       "      <td>398b0b8ab9310f019835d4501687cf26</td>\n",
       "      <td>932a5cc56763396c6b205a63868d6316</td>\n",
       "      <td>58655385700ba140fd860b23e2e1e9f6</td>\n",
       "      <td>e49dc1e8e576ff35a07e1182f4e98c91</td>\n",
       "      <td>d4cd1b51cfa81a91371911d2c2200805</td>\n",
       "      <td>2423340274</td>\n",
       "      <td>0</td>\n",
       "      <td>1427079052</td>\n",
       "      <td>0</td>\n",
       "      <td>3630555764</td>\n",
       "    </tr>\n",
       "    <tr>\n",
       "      <th>1</th>\n",
       "      <td>5e7e4ffa4591e820b5087aa3e1c71507</td>\n",
       "      <td>fce8cc8ce0587de13c3fecbc13537746</td>\n",
       "      <td>58655385700ba140fd860b23e2e1e9f6</td>\n",
       "      <td>21032c3a66d86aa1d99127d4b97cb548</td>\n",
       "      <td>c8402ed2728240a7094d9cd47a64523e</td>\n",
       "      <td>1382533306</td>\n",
       "      <td>0</td>\n",
       "      <td>1427069477</td>\n",
       "      <td>1</td>\n",
       "      <td>3548503754</td>\n",
       "    </tr>\n",
       "    <tr>\n",
       "      <th>2</th>\n",
       "      <td>591ebc039b246bc4b31fe1c5eea5c95c</td>\n",
       "      <td>9a6e6cc222b26cc083646e13c32730ab</td>\n",
       "      <td>58655385700ba140fd860b23e2e1e9f6</td>\n",
       "      <td>94da3034f761cdce064433beb766449a</td>\n",
       "      <td>e144d82664c86cabcebd2cf0a400325e</td>\n",
       "      <td>3909211655</td>\n",
       "      <td>3012239822</td>\n",
       "      <td>1427088129</td>\n",
       "      <td>2</td>\n",
       "      <td>4142207059</td>\n",
       "    </tr>\n",
       "    <tr>\n",
       "      <th>3</th>\n",
       "      <td>693fbd70f2c7fb6e2cb6361f53eb5ee4</td>\n",
       "      <td>9a6e6cc222b26cc083646e13c32730ab</td>\n",
       "      <td>58655385700ba140fd860b23e2e1e9f6</td>\n",
       "      <td>3972c2aef021667834ae94db2220e845</td>\n",
       "      <td>05e86f77c9aea5b153e70194e172a3f4</td>\n",
       "      <td>3739176805</td>\n",
       "      <td>0</td>\n",
       "      <td>1427078750</td>\n",
       "      <td>3</td>\n",
       "      <td>4077617361</td>\n",
       "    </tr>\n",
       "    <tr>\n",
       "      <th>4</th>\n",
       "      <td>591ebc039b246bc4b31fe1c5eea5c95c</td>\n",
       "      <td>9a6e6cc222b26cc083646e13c32730ab</td>\n",
       "      <td>51b430ea3c1e69117f47831ec512a334</td>\n",
       "      <td>9202ffbeb9649f708fe3a745fe59b916</td>\n",
       "      <td>b847c153664ba1defed76fd73aa6d93e</td>\n",
       "      <td>1250204413</td>\n",
       "      <td>0</td>\n",
       "      <td>1427041170</td>\n",
       "      <td>4</td>\n",
       "      <td>2226260068</td>\n",
       "    </tr>\n",
       "    <tr>\n",
       "      <th>...</th>\n",
       "      <td>...</td>\n",
       "      <td>...</td>\n",
       "      <td>...</td>\n",
       "      <td>...</td>\n",
       "      <td>...</td>\n",
       "      <td>...</td>\n",
       "      <td>...</td>\n",
       "      <td>...</td>\n",
       "      <td>...</td>\n",
       "      <td>...</td>\n",
       "    </tr>\n",
       "    <tr>\n",
       "      <th>5565244</th>\n",
       "      <td>985d40fab040c84c65f892595fe9f7f2</td>\n",
       "      <td>fce8cc8ce0587de13c3fecbc13537746</td>\n",
       "      <td>a4ae7310d52aeec7511d20bd29289974</td>\n",
       "      <td>590a860a7867ed866c1c6954611f10aa</td>\n",
       "      <td>629d03f87a53041ae4ec3efe18f976d7</td>\n",
       "      <td>1205897918</td>\n",
       "      <td>0</td>\n",
       "      <td>1427109379</td>\n",
       "      <td>5565244</td>\n",
       "      <td>613774136</td>\n",
       "    </tr>\n",
       "    <tr>\n",
       "      <th>5565245</th>\n",
       "      <td>ecff271f71d2e2b20f40798da88bff7b</td>\n",
       "      <td>fce8cc8ce0587de13c3fecbc13537746</td>\n",
       "      <td>58655385700ba140fd860b23e2e1e9f6</td>\n",
       "      <td>21032c3a66d86aa1d99127d4b97cb548</td>\n",
       "      <td>ccf1b4abc81fffd830d770b3f7eceac5</td>\n",
       "      <td>2578931557</td>\n",
       "      <td>0</td>\n",
       "      <td>1427087632</td>\n",
       "      <td>5565245</td>\n",
       "      <td>1349132655</td>\n",
       "    </tr>\n",
       "    <tr>\n",
       "      <th>5565246</th>\n",
       "      <td>6186d14de34ab94754e384f56ac5c0bd</td>\n",
       "      <td>49b4350906323cb44f6ce51ab22f2379</td>\n",
       "      <td>58655385700ba140fd860b23e2e1e9f6</td>\n",
       "      <td>e49dc1e8e576ff35a07e1182f4e98c91</td>\n",
       "      <td>d672d8a6a7ea51ef3549b056b103f6ef</td>\n",
       "      <td>1956588681</td>\n",
       "      <td>0</td>\n",
       "      <td>1427110743</td>\n",
       "      <td>5565246</td>\n",
       "      <td>1132350273</td>\n",
       "    </tr>\n",
       "    <tr>\n",
       "      <th>5565247</th>\n",
       "      <td>e277978dc2149421abd2b4b7b69774f7</td>\n",
       "      <td>9de1665e6430fa58785027dbf9ab53e0</td>\n",
       "      <td>58655385700ba140fd860b23e2e1e9f6</td>\n",
       "      <td>ba195dd85894d6957bc61edca5ac7026</td>\n",
       "      <td>12fdab344ac3ee2a28e58f8aa034d8ac</td>\n",
       "      <td>4262689349</td>\n",
       "      <td>1335345942</td>\n",
       "      <td>1427124658</td>\n",
       "      <td>5565247</td>\n",
       "      <td>3781572183</td>\n",
       "    </tr>\n",
       "    <tr>\n",
       "      <th>5565248</th>\n",
       "      <td>f0c1a2307e75ee051478a212480b7aa1</td>\n",
       "      <td>932a5cc56763396c6b205a63868d6316</td>\n",
       "      <td>58655385700ba140fd860b23e2e1e9f6</td>\n",
       "      <td>e49dc1e8e576ff35a07e1182f4e98c91</td>\n",
       "      <td>43bd00ef779e3540dace7e7faaf0f2fa</td>\n",
       "      <td>1438669718</td>\n",
       "      <td>3097904224</td>\n",
       "      <td>1427103708</td>\n",
       "      <td>5565248</td>\n",
       "      <td>4036996937</td>\n",
       "    </tr>\n",
       "  </tbody>\n",
       "</table>\n",
       "<p>5565249 rows × 10 columns</p>\n",
       "</div>"
      ],
      "text/plain": [
       "                                      mod                                mf  \\\n",
       "0        398b0b8ab9310f019835d4501687cf26  932a5cc56763396c6b205a63868d6316   \n",
       "1        5e7e4ffa4591e820b5087aa3e1c71507  fce8cc8ce0587de13c3fecbc13537746   \n",
       "2        591ebc039b246bc4b31fe1c5eea5c95c  9a6e6cc222b26cc083646e13c32730ab   \n",
       "3        693fbd70f2c7fb6e2cb6361f53eb5ee4  9a6e6cc222b26cc083646e13c32730ab   \n",
       "4        591ebc039b246bc4b31fe1c5eea5c95c  9a6e6cc222b26cc083646e13c32730ab   \n",
       "...                                   ...                               ...   \n",
       "5565244  985d40fab040c84c65f892595fe9f7f2  fce8cc8ce0587de13c3fecbc13537746   \n",
       "5565245  ecff271f71d2e2b20f40798da88bff7b  fce8cc8ce0587de13c3fecbc13537746   \n",
       "5565246  6186d14de34ab94754e384f56ac5c0bd  49b4350906323cb44f6ce51ab22f2379   \n",
       "5565247  e277978dc2149421abd2b4b7b69774f7  9de1665e6430fa58785027dbf9ab53e0   \n",
       "5565248  f0c1a2307e75ee051478a212480b7aa1  932a5cc56763396c6b205a63868d6316   \n",
       "\n",
       "                                     aver                              sver  \\\n",
       "0        58655385700ba140fd860b23e2e1e9f6  e49dc1e8e576ff35a07e1182f4e98c91   \n",
       "1        58655385700ba140fd860b23e2e1e9f6  21032c3a66d86aa1d99127d4b97cb548   \n",
       "2        58655385700ba140fd860b23e2e1e9f6  94da3034f761cdce064433beb766449a   \n",
       "3        58655385700ba140fd860b23e2e1e9f6  3972c2aef021667834ae94db2220e845   \n",
       "4        51b430ea3c1e69117f47831ec512a334  9202ffbeb9649f708fe3a745fe59b916   \n",
       "...                                   ...                               ...   \n",
       "5565244  a4ae7310d52aeec7511d20bd29289974  590a860a7867ed866c1c6954611f10aa   \n",
       "5565245  58655385700ba140fd860b23e2e1e9f6  21032c3a66d86aa1d99127d4b97cb548   \n",
       "5565246  58655385700ba140fd860b23e2e1e9f6  e49dc1e8e576ff35a07e1182f4e98c91   \n",
       "5565247  58655385700ba140fd860b23e2e1e9f6  ba195dd85894d6957bc61edca5ac7026   \n",
       "5565248  58655385700ba140fd860b23e2e1e9f6  e49dc1e8e576ff35a07e1182f4e98c91   \n",
       "\n",
       "                                      did         vid        prev   timestamp  \\\n",
       "0        d4cd1b51cfa81a91371911d2c2200805  2423340274           0  1427079052   \n",
       "1        c8402ed2728240a7094d9cd47a64523e  1382533306           0  1427069477   \n",
       "2        e144d82664c86cabcebd2cf0a400325e  3909211655  3012239822  1427088129   \n",
       "3        05e86f77c9aea5b153e70194e172a3f4  3739176805           0  1427078750   \n",
       "4        b847c153664ba1defed76fd73aa6d93e  1250204413           0  1427041170   \n",
       "...                                   ...         ...         ...         ...   \n",
       "5565244  629d03f87a53041ae4ec3efe18f976d7  1205897918           0  1427109379   \n",
       "5565245  ccf1b4abc81fffd830d770b3f7eceac5  2578931557           0  1427087632   \n",
       "5565246  d672d8a6a7ea51ef3549b056b103f6ef  1956588681           0  1427110743   \n",
       "5565247  12fdab344ac3ee2a28e58f8aa034d8ac  4262689349  1335345942  1427124658   \n",
       "5565248  43bd00ef779e3540dace7e7faaf0f2fa  1438669718  3097904224  1427103708   \n",
       "\n",
       "           index      region  \n",
       "0              0  3630555764  \n",
       "1              1  3548503754  \n",
       "2              2  4142207059  \n",
       "3              3  4077617361  \n",
       "4              4  2226260068  \n",
       "...          ...         ...  \n",
       "5565244  5565244   613774136  \n",
       "5565245  5565245  1349132655  \n",
       "5565246  5565246  1132350273  \n",
       "5565247  5565247  3781572183  \n",
       "5565248  5565248  4036996937  \n",
       "\n",
       "[5565249 rows x 10 columns]"
      ]
     },
     "execution_count": 51,
     "metadata": {},
     "output_type": "execute_result"
    }
   ],
   "source": [
    "dce"
   ]
  },
  {
   "cell_type": "code",
   "execution_count": 52,
   "metadata": {},
   "outputs": [],
   "source": [
    "# pickle.dump(set(dc30.did.values), open(f'../input/train/part_30/dids_1.pkl', 'wb'))\n",
    "# pickle.dump(set(dc30.vid.values), open(f'../input/train/part_30/vids_1.pkl', 'wb'))\n",
    "# pickle.dump(set(dce.did.values), open(f'../input/eval/dids_1.pkl', 'wb'))\n",
    "# pickle.dump(set(dce.vid.values), open(f'../input/eval/vids_1.pkl', 'wb'))\n",
    "# dall = pd.concat([dce, d_c])\n",
    "# pickle.dump(set(dall.did.values), open(f'../input/eval/dids.pkl', 'wb'))\n",
    "# pickle.dump(set(dall.vid.values), open(f'../input/eval/vids.pkl', 'wb'))"
   ]
  },
  {
   "cell_type": "code",
   "execution_count": 53,
   "metadata": {},
   "outputs": [
    {
     "data": {
      "text/plain": [
       "156638"
      ]
     },
     "execution_count": 53,
     "metadata": {},
     "output_type": "execute_result"
    }
   ],
   "source": [
    "dce.did.nunique()"
   ]
  },
  {
   "cell_type": "code",
   "execution_count": 54,
   "metadata": {},
   "outputs": [
    {
     "data": {
      "text/plain": [
       "151599"
      ]
     },
     "execution_count": 54,
     "metadata": {},
     "output_type": "execute_result"
    }
   ],
   "source": [
    "len(set(dce.did).difference(set(dc30.did)))"
   ]
  },
  {
   "cell_type": "code",
   "execution_count": 55,
   "metadata": {},
   "outputs": [
    {
     "data": {
      "text/plain": [
       "18266"
      ]
     },
     "execution_count": 55,
     "metadata": {},
     "output_type": "execute_result"
    }
   ],
   "source": [
    "len(set(dce.vid).difference(set(dc30.vid)))"
   ]
  },
  {
   "cell_type": "code",
   "execution_count": 56,
   "metadata": {},
   "outputs": [
    {
     "data": {
      "text/plain": [
       "43407"
      ]
     },
     "execution_count": 56,
     "metadata": {},
     "output_type": "execute_result"
    }
   ],
   "source": [
    "len(set(dce.vid))"
   ]
  },
  {
   "cell_type": "code",
   "execution_count": 57,
   "metadata": {},
   "outputs": [
    {
     "data": {
      "text/plain": [
       "35.529367075677676"
      ]
     },
     "execution_count": 57,
     "metadata": {},
     "output_type": "execute_result"
    }
   ],
   "source": [
    "len(dce) / len(set(dce.did))"
   ]
  },
  {
   "cell_type": "code",
   "execution_count": 58,
   "metadata": {},
   "outputs": [
    {
     "data": {
      "text/plain": [
       "156638"
      ]
     },
     "execution_count": 58,
     "metadata": {},
     "output_type": "execute_result"
    }
   ],
   "source": [
    "len(set(dce.did))"
   ]
  },
  {
   "cell_type": "code",
   "execution_count": 59,
   "metadata": {},
   "outputs": [
    {
     "data": {
      "text/plain": [
       "36.02051032016902"
      ]
     },
     "execution_count": 59,
     "metadata": {},
     "output_type": "execute_result"
    }
   ],
   "source": [
    "len(dc30) / len(set(dc30.did))"
   ]
  },
  {
   "cell_type": "code",
   "execution_count": 60,
   "metadata": {},
   "outputs": [
    {
     "data": {
      "text/plain": [
       "92295"
      ]
     },
     "execution_count": 60,
     "metadata": {},
     "output_type": "execute_result"
    }
   ],
   "source": [
    "len(set(dc30.did))"
   ]
  },
  {
   "cell_type": "code",
   "execution_count": 61,
   "metadata": {},
   "outputs": [
    {
     "data": {
      "text/plain": [
       "82735"
      ]
     },
     "execution_count": 61,
     "metadata": {},
     "output_type": "execute_result"
    }
   ],
   "source": [
    "len(set(dc29.did))"
   ]
  },
  {
   "cell_type": "code",
   "execution_count": 62,
   "metadata": {},
   "outputs": [
    {
     "data": {
      "text/plain": [
       "71742"
      ]
     },
     "execution_count": 62,
     "metadata": {},
     "output_type": "execute_result"
    }
   ],
   "source": [
    "len(set(dc28.did))"
   ]
  },
  {
   "cell_type": "code",
   "execution_count": 63,
   "metadata": {},
   "outputs": [
    {
     "data": {
      "text/plain": [
       "75017"
      ]
     },
     "execution_count": 63,
     "metadata": {},
     "output_type": "execute_result"
    }
   ],
   "source": [
    "len(set(dc1.did))"
   ]
  },
  {
   "cell_type": "code",
   "execution_count": 64,
   "metadata": {},
   "outputs": [
    {
     "data": {
      "text/plain": [
       "0.9678302838391706"
      ]
     },
     "execution_count": 64,
     "metadata": {},
     "output_type": "execute_result"
    }
   ],
   "source": [
    "len(set(dce.did).difference(set(dc30.did)))/len(set(dce.did))"
   ]
  },
  {
   "cell_type": "code",
   "execution_count": 65,
   "metadata": {},
   "outputs": [
    {
     "data": {
      "text/plain": [
       "0.8498640176713186"
      ]
     },
     "execution_count": 65,
     "metadata": {},
     "output_type": "execute_result"
    }
   ],
   "source": [
    "len(set(dce.did).difference(set(d_c.did)))/len(set(dce.did))"
   ]
  },
  {
   "cell_type": "code",
   "execution_count": 66,
   "metadata": {},
   "outputs": [
    {
     "data": {
      "text/plain": [
       "0.8987160734601007"
      ]
     },
     "execution_count": 66,
     "metadata": {},
     "output_type": "execute_result"
    }
   ],
   "source": [
    "len(set(dc30.did).difference(set(dc28.did)))/len(set(dc30.did))"
   ]
  },
  {
   "cell_type": "code",
   "execution_count": 67,
   "metadata": {},
   "outputs": [
    {
     "data": {
      "text/plain": [
       "0.8733517525326399"
      ]
     },
     "execution_count": 67,
     "metadata": {},
     "output_type": "execute_result"
    }
   ],
   "source": [
    "len(set(dc30.did).difference(set(dc29.did)))/len(set(dc30.did))"
   ]
  },
  {
   "cell_type": "code",
   "execution_count": 68,
   "metadata": {},
   "outputs": [
    {
     "data": {
      "text/plain": [
       "0.30079748745265883"
      ]
     },
     "execution_count": 68,
     "metadata": {},
     "output_type": "execute_result"
    }
   ],
   "source": [
    "len(set(dc30.vid).difference(set(dc28.vid)))/len(set(dc30.vid))"
   ]
  },
  {
   "cell_type": "code",
   "execution_count": 69,
   "metadata": {},
   "outputs": [
    {
     "data": {
      "text/plain": [
       "0.2758567601687348"
      ]
     },
     "execution_count": 69,
     "metadata": {},
     "output_type": "execute_result"
    }
   ],
   "source": [
    "len(set(dc30.vid).difference(set(dc29.vid)))/len(set(dc30.vid))"
   ]
  },
  {
   "cell_type": "code",
   "execution_count": 70,
   "metadata": {},
   "outputs": [
    {
     "data": {
      "text/plain": [
       "0.2865412445730825"
      ]
     },
     "execution_count": 70,
     "metadata": {},
     "output_type": "execute_result"
    }
   ],
   "source": [
    "len(set(dc30.vid).difference(set(dc27.vid)))/len(set(dc30.vid))"
   ]
  },
  {
   "cell_type": "code",
   "execution_count": 71,
   "metadata": {},
   "outputs": [
    {
     "data": {
      "text/plain": [
       "0.42080770382657173"
      ]
     },
     "execution_count": 71,
     "metadata": {},
     "output_type": "execute_result"
    }
   ],
   "source": [
    "len(set(dce.vid).difference(set(dc30.vid)))/len(set(dce.vid))"
   ]
  },
  {
   "cell_type": "code",
   "execution_count": 72,
   "metadata": {},
   "outputs": [
    {
     "data": {
      "text/plain": [
       "0.06639482111180224"
      ]
     },
     "execution_count": 72,
     "metadata": {},
     "output_type": "execute_result"
    }
   ],
   "source": [
    "len(set(dce.vid).difference(set(d_c.vid)))/len(set(dce.vid))"
   ]
  },
  {
   "cell_type": "code",
   "execution_count": 73,
   "metadata": {},
   "outputs": [
    {
     "data": {
      "text/plain": [
       "0.8498640176713186"
      ]
     },
     "execution_count": 73,
     "metadata": {},
     "output_type": "execute_result"
    }
   ],
   "source": [
    "len(set(dce.did).difference(set(d_c.did)))/len(set(dce.did))"
   ]
  },
  {
   "cell_type": "code",
   "execution_count": 74,
   "metadata": {},
   "outputs": [
    {
     "data": {
      "text/plain": [
       "0.9423045668779457"
      ]
     },
     "execution_count": 74,
     "metadata": {},
     "output_type": "execute_result"
    }
   ],
   "source": [
    "len(set(dc30.did).difference(set(dc1.did)))/len(set(dc30.did))"
   ]
  },
  {
   "cell_type": "code",
   "execution_count": 75,
   "metadata": {},
   "outputs": [
    {
     "data": {
      "text/plain": [
       "21"
      ]
     },
     "execution_count": 75,
     "metadata": {},
     "output_type": "execute_result"
    }
   ],
   "source": [
    "time.localtime(dc30.timestamp[0]).tm_mday"
   ]
  },
  {
   "cell_type": "code",
   "execution_count": 76,
   "metadata": {},
   "outputs": [],
   "source": [
    "dc30['day'] = dc30.timestamp.apply(lambda x: time.localtime(x).tm_mday)"
   ]
  },
  {
   "cell_type": "code",
   "execution_count": 77,
   "metadata": {},
   "outputs": [
    {
     "data": {
      "text/plain": [
       "302547     20\n",
       "402348     20\n",
       "604320     20\n",
       "604321     20\n",
       "920052     20\n",
       "920057     20\n",
       "976436     20\n",
       "976464     20\n",
       "1107121    20\n",
       "1523440    20\n",
       "1824944    20\n",
       "1824950    20\n",
       "1844370    20\n",
       "2283858    20\n",
       "2283859    20\n",
       "3260354    20\n",
       "Name: day, dtype: int64"
      ]
     },
     "execution_count": 77,
     "metadata": {},
     "output_type": "execute_result"
    }
   ],
   "source": [
    "dc30.day[dc30.day==20]"
   ]
  },
  {
   "cell_type": "code",
   "execution_count": 78,
   "metadata": {},
   "outputs": [],
   "source": [
    "dce['day'] = dce.timestamp.apply(lambda x: time.localtime(x).tm_mday)"
   ]
  },
  {
   "cell_type": "code",
   "execution_count": 79,
   "metadata": {},
   "outputs": [
    {
     "data": {
      "text/html": [
       "<div>\n",
       "<style scoped>\n",
       "    .dataframe tbody tr th:only-of-type {\n",
       "        vertical-align: middle;\n",
       "    }\n",
       "\n",
       "    .dataframe tbody tr th {\n",
       "        vertical-align: top;\n",
       "    }\n",
       "\n",
       "    .dataframe thead th {\n",
       "        text-align: right;\n",
       "    }\n",
       "</style>\n",
       "<table border=\"1\" class=\"dataframe\">\n",
       "  <thead>\n",
       "    <tr style=\"text-align: right;\">\n",
       "      <th></th>\n",
       "      <th>mod</th>\n",
       "      <th>mf</th>\n",
       "      <th>aver</th>\n",
       "      <th>sver</th>\n",
       "      <th>did</th>\n",
       "      <th>vid</th>\n",
       "      <th>prev</th>\n",
       "      <th>timestamp</th>\n",
       "      <th>index</th>\n",
       "      <th>region</th>\n",
       "      <th>day</th>\n",
       "    </tr>\n",
       "  </thead>\n",
       "  <tbody>\n",
       "    <tr>\n",
       "      <th>5521819</th>\n",
       "      <td>ecff271f71d2e2b20f40798da88bff7b</td>\n",
       "      <td>fce8cc8ce0587de13c3fecbc13537746</td>\n",
       "      <td>58655385700ba140fd860b23e2e1e9f6</td>\n",
       "      <td>21032c3a66d86aa1d99127d4b97cb548</td>\n",
       "      <td>ccf1b4abc81fffd830d770b3f7eceac5</td>\n",
       "      <td>1108836843</td>\n",
       "      <td>0</td>\n",
       "      <td>1427087632</td>\n",
       "      <td>5521819</td>\n",
       "      <td>1349132655</td>\n",
       "      <td>23</td>\n",
       "    </tr>\n",
       "    <tr>\n",
       "      <th>5522279</th>\n",
       "      <td>ecff271f71d2e2b20f40798da88bff7b</td>\n",
       "      <td>fce8cc8ce0587de13c3fecbc13537746</td>\n",
       "      <td>58655385700ba140fd860b23e2e1e9f6</td>\n",
       "      <td>21032c3a66d86aa1d99127d4b97cb548</td>\n",
       "      <td>ccf1b4abc81fffd830d770b3f7eceac5</td>\n",
       "      <td>4049911516</td>\n",
       "      <td>0</td>\n",
       "      <td>1427087632</td>\n",
       "      <td>5522279</td>\n",
       "      <td>1349132655</td>\n",
       "      <td>23</td>\n",
       "    </tr>\n",
       "    <tr>\n",
       "      <th>5528379</th>\n",
       "      <td>ecff271f71d2e2b20f40798da88bff7b</td>\n",
       "      <td>fce8cc8ce0587de13c3fecbc13537746</td>\n",
       "      <td>58655385700ba140fd860b23e2e1e9f6</td>\n",
       "      <td>21032c3a66d86aa1d99127d4b97cb548</td>\n",
       "      <td>ccf1b4abc81fffd830d770b3f7eceac5</td>\n",
       "      <td>1579686363</td>\n",
       "      <td>0</td>\n",
       "      <td>1427087632</td>\n",
       "      <td>5528379</td>\n",
       "      <td>1349132655</td>\n",
       "      <td>23</td>\n",
       "    </tr>\n",
       "    <tr>\n",
       "      <th>5532980</th>\n",
       "      <td>ecff271f71d2e2b20f40798da88bff7b</td>\n",
       "      <td>fce8cc8ce0587de13c3fecbc13537746</td>\n",
       "      <td>58655385700ba140fd860b23e2e1e9f6</td>\n",
       "      <td>21032c3a66d86aa1d99127d4b97cb548</td>\n",
       "      <td>ccf1b4abc81fffd830d770b3f7eceac5</td>\n",
       "      <td>3131495765</td>\n",
       "      <td>0</td>\n",
       "      <td>1427087632</td>\n",
       "      <td>5532980</td>\n",
       "      <td>1349132655</td>\n",
       "      <td>23</td>\n",
       "    </tr>\n",
       "    <tr>\n",
       "      <th>5535773</th>\n",
       "      <td>ecff271f71d2e2b20f40798da88bff7b</td>\n",
       "      <td>fce8cc8ce0587de13c3fecbc13537746</td>\n",
       "      <td>58655385700ba140fd860b23e2e1e9f6</td>\n",
       "      <td>21032c3a66d86aa1d99127d4b97cb548</td>\n",
       "      <td>ccf1b4abc81fffd830d770b3f7eceac5</td>\n",
       "      <td>3906721310</td>\n",
       "      <td>0</td>\n",
       "      <td>1427087632</td>\n",
       "      <td>5535773</td>\n",
       "      <td>1349132655</td>\n",
       "      <td>23</td>\n",
       "    </tr>\n",
       "    <tr>\n",
       "      <th>5539834</th>\n",
       "      <td>ecff271f71d2e2b20f40798da88bff7b</td>\n",
       "      <td>fce8cc8ce0587de13c3fecbc13537746</td>\n",
       "      <td>58655385700ba140fd860b23e2e1e9f6</td>\n",
       "      <td>21032c3a66d86aa1d99127d4b97cb548</td>\n",
       "      <td>ccf1b4abc81fffd830d770b3f7eceac5</td>\n",
       "      <td>4228734880</td>\n",
       "      <td>0</td>\n",
       "      <td>1427087632</td>\n",
       "      <td>5539834</td>\n",
       "      <td>1349132655</td>\n",
       "      <td>23</td>\n",
       "    </tr>\n",
       "    <tr>\n",
       "      <th>5542147</th>\n",
       "      <td>ecff271f71d2e2b20f40798da88bff7b</td>\n",
       "      <td>fce8cc8ce0587de13c3fecbc13537746</td>\n",
       "      <td>58655385700ba140fd860b23e2e1e9f6</td>\n",
       "      <td>21032c3a66d86aa1d99127d4b97cb548</td>\n",
       "      <td>ccf1b4abc81fffd830d770b3f7eceac5</td>\n",
       "      <td>3674797174</td>\n",
       "      <td>1307270647</td>\n",
       "      <td>1427087632</td>\n",
       "      <td>5542147</td>\n",
       "      <td>1349132655</td>\n",
       "      <td>23</td>\n",
       "    </tr>\n",
       "    <tr>\n",
       "      <th>5545412</th>\n",
       "      <td>ecff271f71d2e2b20f40798da88bff7b</td>\n",
       "      <td>fce8cc8ce0587de13c3fecbc13537746</td>\n",
       "      <td>58655385700ba140fd860b23e2e1e9f6</td>\n",
       "      <td>21032c3a66d86aa1d99127d4b97cb548</td>\n",
       "      <td>ccf1b4abc81fffd830d770b3f7eceac5</td>\n",
       "      <td>1562302791</td>\n",
       "      <td>4233446058</td>\n",
       "      <td>1427087632</td>\n",
       "      <td>5545412</td>\n",
       "      <td>1349132655</td>\n",
       "      <td>23</td>\n",
       "    </tr>\n",
       "    <tr>\n",
       "      <th>5547386</th>\n",
       "      <td>ecff271f71d2e2b20f40798da88bff7b</td>\n",
       "      <td>fce8cc8ce0587de13c3fecbc13537746</td>\n",
       "      <td>58655385700ba140fd860b23e2e1e9f6</td>\n",
       "      <td>21032c3a66d86aa1d99127d4b97cb548</td>\n",
       "      <td>ccf1b4abc81fffd830d770b3f7eceac5</td>\n",
       "      <td>2713919673</td>\n",
       "      <td>0</td>\n",
       "      <td>1427087632</td>\n",
       "      <td>5547386</td>\n",
       "      <td>1349132655</td>\n",
       "      <td>23</td>\n",
       "    </tr>\n",
       "    <tr>\n",
       "      <th>5548797</th>\n",
       "      <td>ecff271f71d2e2b20f40798da88bff7b</td>\n",
       "      <td>fce8cc8ce0587de13c3fecbc13537746</td>\n",
       "      <td>58655385700ba140fd860b23e2e1e9f6</td>\n",
       "      <td>21032c3a66d86aa1d99127d4b97cb548</td>\n",
       "      <td>ccf1b4abc81fffd830d770b3f7eceac5</td>\n",
       "      <td>3319024092</td>\n",
       "      <td>0</td>\n",
       "      <td>1427087632</td>\n",
       "      <td>5548797</td>\n",
       "      <td>1349132655</td>\n",
       "      <td>23</td>\n",
       "    </tr>\n",
       "    <tr>\n",
       "      <th>5550159</th>\n",
       "      <td>ecff271f71d2e2b20f40798da88bff7b</td>\n",
       "      <td>fce8cc8ce0587de13c3fecbc13537746</td>\n",
       "      <td>58655385700ba140fd860b23e2e1e9f6</td>\n",
       "      <td>21032c3a66d86aa1d99127d4b97cb548</td>\n",
       "      <td>ccf1b4abc81fffd830d770b3f7eceac5</td>\n",
       "      <td>3980730321</td>\n",
       "      <td>0</td>\n",
       "      <td>1427087632</td>\n",
       "      <td>5550159</td>\n",
       "      <td>1349132655</td>\n",
       "      <td>23</td>\n",
       "    </tr>\n",
       "    <tr>\n",
       "      <th>5553994</th>\n",
       "      <td>ecff271f71d2e2b20f40798da88bff7b</td>\n",
       "      <td>fce8cc8ce0587de13c3fecbc13537746</td>\n",
       "      <td>58655385700ba140fd860b23e2e1e9f6</td>\n",
       "      <td>21032c3a66d86aa1d99127d4b97cb548</td>\n",
       "      <td>ccf1b4abc81fffd830d770b3f7eceac5</td>\n",
       "      <td>3233920140</td>\n",
       "      <td>0</td>\n",
       "      <td>1427087632</td>\n",
       "      <td>5553994</td>\n",
       "      <td>1349132655</td>\n",
       "      <td>23</td>\n",
       "    </tr>\n",
       "    <tr>\n",
       "      <th>5555129</th>\n",
       "      <td>ecff271f71d2e2b20f40798da88bff7b</td>\n",
       "      <td>fce8cc8ce0587de13c3fecbc13537746</td>\n",
       "      <td>58655385700ba140fd860b23e2e1e9f6</td>\n",
       "      <td>21032c3a66d86aa1d99127d4b97cb548</td>\n",
       "      <td>ccf1b4abc81fffd830d770b3f7eceac5</td>\n",
       "      <td>1617970278</td>\n",
       "      <td>374694284</td>\n",
       "      <td>1427087632</td>\n",
       "      <td>5555129</td>\n",
       "      <td>1349132655</td>\n",
       "      <td>23</td>\n",
       "    </tr>\n",
       "    <tr>\n",
       "      <th>5564752</th>\n",
       "      <td>ecff271f71d2e2b20f40798da88bff7b</td>\n",
       "      <td>fce8cc8ce0587de13c3fecbc13537746</td>\n",
       "      <td>58655385700ba140fd860b23e2e1e9f6</td>\n",
       "      <td>21032c3a66d86aa1d99127d4b97cb548</td>\n",
       "      <td>ccf1b4abc81fffd830d770b3f7eceac5</td>\n",
       "      <td>2526846199</td>\n",
       "      <td>1994135396</td>\n",
       "      <td>1427087632</td>\n",
       "      <td>5564752</td>\n",
       "      <td>1349132655</td>\n",
       "      <td>23</td>\n",
       "    </tr>\n",
       "    <tr>\n",
       "      <th>5564822</th>\n",
       "      <td>ecff271f71d2e2b20f40798da88bff7b</td>\n",
       "      <td>fce8cc8ce0587de13c3fecbc13537746</td>\n",
       "      <td>58655385700ba140fd860b23e2e1e9f6</td>\n",
       "      <td>21032c3a66d86aa1d99127d4b97cb548</td>\n",
       "      <td>ccf1b4abc81fffd830d770b3f7eceac5</td>\n",
       "      <td>1743874487</td>\n",
       "      <td>0</td>\n",
       "      <td>1427087632</td>\n",
       "      <td>5564822</td>\n",
       "      <td>1349132655</td>\n",
       "      <td>23</td>\n",
       "    </tr>\n",
       "    <tr>\n",
       "      <th>5565245</th>\n",
       "      <td>ecff271f71d2e2b20f40798da88bff7b</td>\n",
       "      <td>fce8cc8ce0587de13c3fecbc13537746</td>\n",
       "      <td>58655385700ba140fd860b23e2e1e9f6</td>\n",
       "      <td>21032c3a66d86aa1d99127d4b97cb548</td>\n",
       "      <td>ccf1b4abc81fffd830d770b3f7eceac5</td>\n",
       "      <td>2578931557</td>\n",
       "      <td>0</td>\n",
       "      <td>1427087632</td>\n",
       "      <td>5565245</td>\n",
       "      <td>1349132655</td>\n",
       "      <td>23</td>\n",
       "    </tr>\n",
       "  </tbody>\n",
       "</table>\n",
       "</div>"
      ],
      "text/plain": [
       "                                      mod                                mf  \\\n",
       "5521819  ecff271f71d2e2b20f40798da88bff7b  fce8cc8ce0587de13c3fecbc13537746   \n",
       "5522279  ecff271f71d2e2b20f40798da88bff7b  fce8cc8ce0587de13c3fecbc13537746   \n",
       "5528379  ecff271f71d2e2b20f40798da88bff7b  fce8cc8ce0587de13c3fecbc13537746   \n",
       "5532980  ecff271f71d2e2b20f40798da88bff7b  fce8cc8ce0587de13c3fecbc13537746   \n",
       "5535773  ecff271f71d2e2b20f40798da88bff7b  fce8cc8ce0587de13c3fecbc13537746   \n",
       "5539834  ecff271f71d2e2b20f40798da88bff7b  fce8cc8ce0587de13c3fecbc13537746   \n",
       "5542147  ecff271f71d2e2b20f40798da88bff7b  fce8cc8ce0587de13c3fecbc13537746   \n",
       "5545412  ecff271f71d2e2b20f40798da88bff7b  fce8cc8ce0587de13c3fecbc13537746   \n",
       "5547386  ecff271f71d2e2b20f40798da88bff7b  fce8cc8ce0587de13c3fecbc13537746   \n",
       "5548797  ecff271f71d2e2b20f40798da88bff7b  fce8cc8ce0587de13c3fecbc13537746   \n",
       "5550159  ecff271f71d2e2b20f40798da88bff7b  fce8cc8ce0587de13c3fecbc13537746   \n",
       "5553994  ecff271f71d2e2b20f40798da88bff7b  fce8cc8ce0587de13c3fecbc13537746   \n",
       "5555129  ecff271f71d2e2b20f40798da88bff7b  fce8cc8ce0587de13c3fecbc13537746   \n",
       "5564752  ecff271f71d2e2b20f40798da88bff7b  fce8cc8ce0587de13c3fecbc13537746   \n",
       "5564822  ecff271f71d2e2b20f40798da88bff7b  fce8cc8ce0587de13c3fecbc13537746   \n",
       "5565245  ecff271f71d2e2b20f40798da88bff7b  fce8cc8ce0587de13c3fecbc13537746   \n",
       "\n",
       "                                     aver                              sver  \\\n",
       "5521819  58655385700ba140fd860b23e2e1e9f6  21032c3a66d86aa1d99127d4b97cb548   \n",
       "5522279  58655385700ba140fd860b23e2e1e9f6  21032c3a66d86aa1d99127d4b97cb548   \n",
       "5528379  58655385700ba140fd860b23e2e1e9f6  21032c3a66d86aa1d99127d4b97cb548   \n",
       "5532980  58655385700ba140fd860b23e2e1e9f6  21032c3a66d86aa1d99127d4b97cb548   \n",
       "5535773  58655385700ba140fd860b23e2e1e9f6  21032c3a66d86aa1d99127d4b97cb548   \n",
       "5539834  58655385700ba140fd860b23e2e1e9f6  21032c3a66d86aa1d99127d4b97cb548   \n",
       "5542147  58655385700ba140fd860b23e2e1e9f6  21032c3a66d86aa1d99127d4b97cb548   \n",
       "5545412  58655385700ba140fd860b23e2e1e9f6  21032c3a66d86aa1d99127d4b97cb548   \n",
       "5547386  58655385700ba140fd860b23e2e1e9f6  21032c3a66d86aa1d99127d4b97cb548   \n",
       "5548797  58655385700ba140fd860b23e2e1e9f6  21032c3a66d86aa1d99127d4b97cb548   \n",
       "5550159  58655385700ba140fd860b23e2e1e9f6  21032c3a66d86aa1d99127d4b97cb548   \n",
       "5553994  58655385700ba140fd860b23e2e1e9f6  21032c3a66d86aa1d99127d4b97cb548   \n",
       "5555129  58655385700ba140fd860b23e2e1e9f6  21032c3a66d86aa1d99127d4b97cb548   \n",
       "5564752  58655385700ba140fd860b23e2e1e9f6  21032c3a66d86aa1d99127d4b97cb548   \n",
       "5564822  58655385700ba140fd860b23e2e1e9f6  21032c3a66d86aa1d99127d4b97cb548   \n",
       "5565245  58655385700ba140fd860b23e2e1e9f6  21032c3a66d86aa1d99127d4b97cb548   \n",
       "\n",
       "                                      did         vid        prev   timestamp  \\\n",
       "5521819  ccf1b4abc81fffd830d770b3f7eceac5  1108836843           0  1427087632   \n",
       "5522279  ccf1b4abc81fffd830d770b3f7eceac5  4049911516           0  1427087632   \n",
       "5528379  ccf1b4abc81fffd830d770b3f7eceac5  1579686363           0  1427087632   \n",
       "5532980  ccf1b4abc81fffd830d770b3f7eceac5  3131495765           0  1427087632   \n",
       "5535773  ccf1b4abc81fffd830d770b3f7eceac5  3906721310           0  1427087632   \n",
       "5539834  ccf1b4abc81fffd830d770b3f7eceac5  4228734880           0  1427087632   \n",
       "5542147  ccf1b4abc81fffd830d770b3f7eceac5  3674797174  1307270647  1427087632   \n",
       "5545412  ccf1b4abc81fffd830d770b3f7eceac5  1562302791  4233446058  1427087632   \n",
       "5547386  ccf1b4abc81fffd830d770b3f7eceac5  2713919673           0  1427087632   \n",
       "5548797  ccf1b4abc81fffd830d770b3f7eceac5  3319024092           0  1427087632   \n",
       "5550159  ccf1b4abc81fffd830d770b3f7eceac5  3980730321           0  1427087632   \n",
       "5553994  ccf1b4abc81fffd830d770b3f7eceac5  3233920140           0  1427087632   \n",
       "5555129  ccf1b4abc81fffd830d770b3f7eceac5  1617970278   374694284  1427087632   \n",
       "5564752  ccf1b4abc81fffd830d770b3f7eceac5  2526846199  1994135396  1427087632   \n",
       "5564822  ccf1b4abc81fffd830d770b3f7eceac5  1743874487           0  1427087632   \n",
       "5565245  ccf1b4abc81fffd830d770b3f7eceac5  2578931557           0  1427087632   \n",
       "\n",
       "           index      region  day  \n",
       "5521819  5521819  1349132655   23  \n",
       "5522279  5522279  1349132655   23  \n",
       "5528379  5528379  1349132655   23  \n",
       "5532980  5532980  1349132655   23  \n",
       "5535773  5535773  1349132655   23  \n",
       "5539834  5539834  1349132655   23  \n",
       "5542147  5542147  1349132655   23  \n",
       "5545412  5545412  1349132655   23  \n",
       "5547386  5547386  1349132655   23  \n",
       "5548797  5548797  1349132655   23  \n",
       "5550159  5550159  1349132655   23  \n",
       "5553994  5553994  1349132655   23  \n",
       "5555129  5555129  1349132655   23  \n",
       "5564752  5564752  1349132655   23  \n",
       "5564822  5564822  1349132655   23  \n",
       "5565245  5565245  1349132655   23  "
      ]
     },
     "execution_count": 79,
     "metadata": {},
     "output_type": "execute_result"
    }
   ],
   "source": [
    "dce[dce.did=='ccf1b4abc81fffd830d770b3f7eceac5']"
   ]
  },
  {
   "cell_type": "code",
   "execution_count": 80,
   "metadata": {},
   "outputs": [
    {
     "data": {
      "text/plain": [
       "0          2b738d0aa7695636ab1728073fbd86f6\n",
       "1          2b738d0aa7695636ab1728073fbd86f6\n",
       "2          2b738d0aa7695636ab1728073fbd86f6\n",
       "3          2b738d0aa7695636ab1728073fbd86f6\n",
       "4          2b738d0aa7695636ab1728073fbd86f6\n",
       "                         ...               \n",
       "3324508    4d37aa0475ef29b6169e52c43e5ade94\n",
       "3324509    3cd428138b93cf3aebebccaeb649d971\n",
       "3324510    3cd428138b93cf3aebebccaeb649d971\n",
       "3324511    3cd428138b93cf3aebebccaeb649d971\n",
       "3324512    3cd428138b93cf3aebebccaeb649d971\n",
       "Name: did, Length: 3324513, dtype: object"
      ]
     },
     "execution_count": 80,
     "metadata": {},
     "output_type": "execute_result"
    }
   ],
   "source": [
    "dc30.did"
   ]
  },
  {
   "cell_type": "code",
   "execution_count": 81,
   "metadata": {},
   "outputs": [
    {
     "data": {
      "text/plain": [
       "36.02051032016902"
      ]
     },
     "execution_count": 81,
     "metadata": {},
     "output_type": "execute_result"
    }
   ],
   "source": [
    "dc30.groupby('did').size().mean()"
   ]
  },
  {
   "cell_type": "code",
   "execution_count": 82,
   "metadata": {},
   "outputs": [
    {
     "data": {
      "text/plain": [
       "did\n",
       "0000b3b8627ea833eb7731f9b1b5a60e     51\n",
       "0000f799b31df5ce5cc710630ecbe9b6     14\n",
       "0000fb50045f6732120925b6a15d050f    264\n",
       "00013120bca77b65fda2df8525ccf30e      9\n",
       "0001a7c629a5cc2bfd52a8918f30d2cc     19\n",
       "                                   ... \n",
       "fffd13a011c8cadd34f4b830d6cc6f88     28\n",
       "fffdaa902c3d5567aca230478b3f1a62     10\n",
       "fffe6adca4c73d1a78be609b72d5ac16      9\n",
       "fffee408440d7646305f793d5050ff97     60\n",
       "ffffc5268ae6a29e7c41b553694a4013     15\n",
       "Length: 156638, dtype: int64"
      ]
     },
     "execution_count": 82,
     "metadata": {},
     "output_type": "execute_result"
    }
   ],
   "source": [
    "dce.groupby('did').size()"
   ]
  },
  {
   "cell_type": "code",
   "execution_count": 83,
   "metadata": {},
   "outputs": [
    {
     "data": {
      "text/html": [
       "<div>\n",
       "<style scoped>\n",
       "    .dataframe tbody tr th:only-of-type {\n",
       "        vertical-align: middle;\n",
       "    }\n",
       "\n",
       "    .dataframe tbody tr th {\n",
       "        vertical-align: top;\n",
       "    }\n",
       "\n",
       "    .dataframe thead th {\n",
       "        text-align: right;\n",
       "    }\n",
       "</style>\n",
       "<table border=\"1\" class=\"dataframe\">\n",
       "  <thead>\n",
       "    <tr style=\"text-align: right;\">\n",
       "      <th></th>\n",
       "      <th>mod</th>\n",
       "      <th>mf</th>\n",
       "      <th>aver</th>\n",
       "      <th>sver</th>\n",
       "      <th>did</th>\n",
       "      <th>vid</th>\n",
       "      <th>prev</th>\n",
       "      <th>timestamp</th>\n",
       "      <th>index</th>\n",
       "      <th>region</th>\n",
       "      <th>day</th>\n",
       "    </tr>\n",
       "  </thead>\n",
       "  <tbody>\n",
       "    <tr>\n",
       "      <th>779109</th>\n",
       "      <td>584010a1c0b7ce463539cd5b66df9b67</td>\n",
       "      <td>932a5cc56763396c6b205a63868d6316</td>\n",
       "      <td>58655385700ba140fd860b23e2e1e9f6</td>\n",
       "      <td>21032c3a66d86aa1d99127d4b97cb548</td>\n",
       "      <td>0000fb50045f6732120925b6a15d050f</td>\n",
       "      <td>3136848466</td>\n",
       "      <td>0</td>\n",
       "      <td>1427041490</td>\n",
       "      <td>779109</td>\n",
       "      <td>3618332974</td>\n",
       "      <td>23</td>\n",
       "    </tr>\n",
       "    <tr>\n",
       "      <th>779163</th>\n",
       "      <td>584010a1c0b7ce463539cd5b66df9b67</td>\n",
       "      <td>932a5cc56763396c6b205a63868d6316</td>\n",
       "      <td>58655385700ba140fd860b23e2e1e9f6</td>\n",
       "      <td>21032c3a66d86aa1d99127d4b97cb548</td>\n",
       "      <td>0000fb50045f6732120925b6a15d050f</td>\n",
       "      <td>4210035594</td>\n",
       "      <td>0</td>\n",
       "      <td>1427041490</td>\n",
       "      <td>779163</td>\n",
       "      <td>3618332974</td>\n",
       "      <td>23</td>\n",
       "    </tr>\n",
       "    <tr>\n",
       "      <th>779258</th>\n",
       "      <td>584010a1c0b7ce463539cd5b66df9b67</td>\n",
       "      <td>932a5cc56763396c6b205a63868d6316</td>\n",
       "      <td>58655385700ba140fd860b23e2e1e9f6</td>\n",
       "      <td>21032c3a66d86aa1d99127d4b97cb548</td>\n",
       "      <td>0000fb50045f6732120925b6a15d050f</td>\n",
       "      <td>315087530</td>\n",
       "      <td>0</td>\n",
       "      <td>1427041490</td>\n",
       "      <td>779258</td>\n",
       "      <td>3618332974</td>\n",
       "      <td>23</td>\n",
       "    </tr>\n",
       "    <tr>\n",
       "      <th>780352</th>\n",
       "      <td>584010a1c0b7ce463539cd5b66df9b67</td>\n",
       "      <td>932a5cc56763396c6b205a63868d6316</td>\n",
       "      <td>58655385700ba140fd860b23e2e1e9f6</td>\n",
       "      <td>21032c3a66d86aa1d99127d4b97cb548</td>\n",
       "      <td>0000fb50045f6732120925b6a15d050f</td>\n",
       "      <td>1931681183</td>\n",
       "      <td>0</td>\n",
       "      <td>1427041490</td>\n",
       "      <td>780352</td>\n",
       "      <td>3618332974</td>\n",
       "      <td>23</td>\n",
       "    </tr>\n",
       "    <tr>\n",
       "      <th>780468</th>\n",
       "      <td>584010a1c0b7ce463539cd5b66df9b67</td>\n",
       "      <td>932a5cc56763396c6b205a63868d6316</td>\n",
       "      <td>58655385700ba140fd860b23e2e1e9f6</td>\n",
       "      <td>21032c3a66d86aa1d99127d4b97cb548</td>\n",
       "      <td>0000fb50045f6732120925b6a15d050f</td>\n",
       "      <td>4195038968</td>\n",
       "      <td>0</td>\n",
       "      <td>1427041490</td>\n",
       "      <td>780468</td>\n",
       "      <td>3618332974</td>\n",
       "      <td>23</td>\n",
       "    </tr>\n",
       "    <tr>\n",
       "      <th>...</th>\n",
       "      <td>...</td>\n",
       "      <td>...</td>\n",
       "      <td>...</td>\n",
       "      <td>...</td>\n",
       "      <td>...</td>\n",
       "      <td>...</td>\n",
       "      <td>...</td>\n",
       "      <td>...</td>\n",
       "      <td>...</td>\n",
       "      <td>...</td>\n",
       "      <td>...</td>\n",
       "    </tr>\n",
       "    <tr>\n",
       "      <th>824651</th>\n",
       "      <td>584010a1c0b7ce463539cd5b66df9b67</td>\n",
       "      <td>932a5cc56763396c6b205a63868d6316</td>\n",
       "      <td>58655385700ba140fd860b23e2e1e9f6</td>\n",
       "      <td>21032c3a66d86aa1d99127d4b97cb548</td>\n",
       "      <td>0000fb50045f6732120925b6a15d050f</td>\n",
       "      <td>436749138</td>\n",
       "      <td>0</td>\n",
       "      <td>1427041490</td>\n",
       "      <td>824651</td>\n",
       "      <td>3618332974</td>\n",
       "      <td>23</td>\n",
       "    </tr>\n",
       "    <tr>\n",
       "      <th>824745</th>\n",
       "      <td>584010a1c0b7ce463539cd5b66df9b67</td>\n",
       "      <td>932a5cc56763396c6b205a63868d6316</td>\n",
       "      <td>58655385700ba140fd860b23e2e1e9f6</td>\n",
       "      <td>21032c3a66d86aa1d99127d4b97cb548</td>\n",
       "      <td>0000fb50045f6732120925b6a15d050f</td>\n",
       "      <td>2936801009</td>\n",
       "      <td>0</td>\n",
       "      <td>1427041490</td>\n",
       "      <td>824745</td>\n",
       "      <td>3618332974</td>\n",
       "      <td>23</td>\n",
       "    </tr>\n",
       "    <tr>\n",
       "      <th>824765</th>\n",
       "      <td>584010a1c0b7ce463539cd5b66df9b67</td>\n",
       "      <td>932a5cc56763396c6b205a63868d6316</td>\n",
       "      <td>58655385700ba140fd860b23e2e1e9f6</td>\n",
       "      <td>21032c3a66d86aa1d99127d4b97cb548</td>\n",
       "      <td>0000fb50045f6732120925b6a15d050f</td>\n",
       "      <td>806540076</td>\n",
       "      <td>0</td>\n",
       "      <td>1427041490</td>\n",
       "      <td>824765</td>\n",
       "      <td>3618332974</td>\n",
       "      <td>23</td>\n",
       "    </tr>\n",
       "    <tr>\n",
       "      <th>824777</th>\n",
       "      <td>584010a1c0b7ce463539cd5b66df9b67</td>\n",
       "      <td>932a5cc56763396c6b205a63868d6316</td>\n",
       "      <td>58655385700ba140fd860b23e2e1e9f6</td>\n",
       "      <td>21032c3a66d86aa1d99127d4b97cb548</td>\n",
       "      <td>0000fb50045f6732120925b6a15d050f</td>\n",
       "      <td>4008099164</td>\n",
       "      <td>0</td>\n",
       "      <td>1427041490</td>\n",
       "      <td>824777</td>\n",
       "      <td>3618332974</td>\n",
       "      <td>23</td>\n",
       "    </tr>\n",
       "    <tr>\n",
       "      <th>825088</th>\n",
       "      <td>584010a1c0b7ce463539cd5b66df9b67</td>\n",
       "      <td>932a5cc56763396c6b205a63868d6316</td>\n",
       "      <td>58655385700ba140fd860b23e2e1e9f6</td>\n",
       "      <td>21032c3a66d86aa1d99127d4b97cb548</td>\n",
       "      <td>0000fb50045f6732120925b6a15d050f</td>\n",
       "      <td>2742731966</td>\n",
       "      <td>0</td>\n",
       "      <td>1427041490</td>\n",
       "      <td>825088</td>\n",
       "      <td>3618332974</td>\n",
       "      <td>23</td>\n",
       "    </tr>\n",
       "  </tbody>\n",
       "</table>\n",
       "<p>264 rows × 11 columns</p>\n",
       "</div>"
      ],
      "text/plain": [
       "                                     mod                                mf  \\\n",
       "779109  584010a1c0b7ce463539cd5b66df9b67  932a5cc56763396c6b205a63868d6316   \n",
       "779163  584010a1c0b7ce463539cd5b66df9b67  932a5cc56763396c6b205a63868d6316   \n",
       "779258  584010a1c0b7ce463539cd5b66df9b67  932a5cc56763396c6b205a63868d6316   \n",
       "780352  584010a1c0b7ce463539cd5b66df9b67  932a5cc56763396c6b205a63868d6316   \n",
       "780468  584010a1c0b7ce463539cd5b66df9b67  932a5cc56763396c6b205a63868d6316   \n",
       "...                                  ...                               ...   \n",
       "824651  584010a1c0b7ce463539cd5b66df9b67  932a5cc56763396c6b205a63868d6316   \n",
       "824745  584010a1c0b7ce463539cd5b66df9b67  932a5cc56763396c6b205a63868d6316   \n",
       "824765  584010a1c0b7ce463539cd5b66df9b67  932a5cc56763396c6b205a63868d6316   \n",
       "824777  584010a1c0b7ce463539cd5b66df9b67  932a5cc56763396c6b205a63868d6316   \n",
       "825088  584010a1c0b7ce463539cd5b66df9b67  932a5cc56763396c6b205a63868d6316   \n",
       "\n",
       "                                    aver                              sver  \\\n",
       "779109  58655385700ba140fd860b23e2e1e9f6  21032c3a66d86aa1d99127d4b97cb548   \n",
       "779163  58655385700ba140fd860b23e2e1e9f6  21032c3a66d86aa1d99127d4b97cb548   \n",
       "779258  58655385700ba140fd860b23e2e1e9f6  21032c3a66d86aa1d99127d4b97cb548   \n",
       "780352  58655385700ba140fd860b23e2e1e9f6  21032c3a66d86aa1d99127d4b97cb548   \n",
       "780468  58655385700ba140fd860b23e2e1e9f6  21032c3a66d86aa1d99127d4b97cb548   \n",
       "...                                  ...                               ...   \n",
       "824651  58655385700ba140fd860b23e2e1e9f6  21032c3a66d86aa1d99127d4b97cb548   \n",
       "824745  58655385700ba140fd860b23e2e1e9f6  21032c3a66d86aa1d99127d4b97cb548   \n",
       "824765  58655385700ba140fd860b23e2e1e9f6  21032c3a66d86aa1d99127d4b97cb548   \n",
       "824777  58655385700ba140fd860b23e2e1e9f6  21032c3a66d86aa1d99127d4b97cb548   \n",
       "825088  58655385700ba140fd860b23e2e1e9f6  21032c3a66d86aa1d99127d4b97cb548   \n",
       "\n",
       "                                     did         vid  prev   timestamp  \\\n",
       "779109  0000fb50045f6732120925b6a15d050f  3136848466     0  1427041490   \n",
       "779163  0000fb50045f6732120925b6a15d050f  4210035594     0  1427041490   \n",
       "779258  0000fb50045f6732120925b6a15d050f   315087530     0  1427041490   \n",
       "780352  0000fb50045f6732120925b6a15d050f  1931681183     0  1427041490   \n",
       "780468  0000fb50045f6732120925b6a15d050f  4195038968     0  1427041490   \n",
       "...                                  ...         ...   ...         ...   \n",
       "824651  0000fb50045f6732120925b6a15d050f   436749138     0  1427041490   \n",
       "824745  0000fb50045f6732120925b6a15d050f  2936801009     0  1427041490   \n",
       "824765  0000fb50045f6732120925b6a15d050f   806540076     0  1427041490   \n",
       "824777  0000fb50045f6732120925b6a15d050f  4008099164     0  1427041490   \n",
       "825088  0000fb50045f6732120925b6a15d050f  2742731966     0  1427041490   \n",
       "\n",
       "         index      region  day  \n",
       "779109  779109  3618332974   23  \n",
       "779163  779163  3618332974   23  \n",
       "779258  779258  3618332974   23  \n",
       "780352  780352  3618332974   23  \n",
       "780468  780468  3618332974   23  \n",
       "...        ...         ...  ...  \n",
       "824651  824651  3618332974   23  \n",
       "824745  824745  3618332974   23  \n",
       "824765  824765  3618332974   23  \n",
       "824777  824777  3618332974   23  \n",
       "825088  825088  3618332974   23  \n",
       "\n",
       "[264 rows x 11 columns]"
      ]
     },
     "execution_count": 83,
     "metadata": {},
     "output_type": "execute_result"
    }
   ],
   "source": [
    "dce[dce.did=='0000fb50045f6732120925b6a15d050f']"
   ]
  },
  {
   "cell_type": "code",
   "execution_count": 84,
   "metadata": {},
   "outputs": [
    {
     "data": {
      "text/plain": [
       "did\n",
       "0000aa68cb571181da9ce69d451e67c9      6\n",
       "00023cbd0728e89fb5ed2fed5fd83612      3\n",
       "0002a1d83ecdb9cd70518fd350c5ace4      5\n",
       "0002a9e5f68969e3d488699dfd1ac76c    182\n",
       "0003c32bfde744bd2aabee5b18f9ced1     18\n",
       "                                   ... \n",
       "fffcb12ac5b86cde96de249e5b8655fe      5\n",
       "fffcb7794e1e7496f687c52429fd8c05      6\n",
       "fffda6aa89e05634706b97f065976baf      9\n",
       "fffde0944591a1e0391fffd795ec6ec4    246\n",
       "fffec4082de126350b3ae3743e359e42     18\n",
       "Length: 92295, dtype: int64"
      ]
     },
     "execution_count": 84,
     "metadata": {},
     "output_type": "execute_result"
    }
   ],
   "source": [
    "dc30.groupby('did').size()"
   ]
  },
  {
   "cell_type": "code",
   "execution_count": 85,
   "metadata": {},
   "outputs": [
    {
     "data": {
      "text/plain": [
       "26351"
      ]
     },
     "execution_count": 85,
     "metadata": {},
     "output_type": "execute_result"
    }
   ],
   "source": [
    "dc30[dc30.did=='0002a9e5f68969e3d488699dfd1ac76c'].timestamp.max() - dc30[dc30.did=='0002a9e5f68969e3d488699dfd1ac76c'].timestamp.min()"
   ]
  },
  {
   "cell_type": "code",
   "execution_count": null,
   "metadata": {},
   "outputs": [],
   "source": []
  },
  {
   "cell_type": "code",
   "execution_count": 86,
   "metadata": {},
   "outputs": [
    {
     "data": {
      "text/plain": [
       "7.3197222222222225"
      ]
     },
     "execution_count": 86,
     "metadata": {},
     "output_type": "execute_result"
    }
   ],
   "source": [
    "26351 / 60 / 60"
   ]
  },
  {
   "cell_type": "code",
   "execution_count": 87,
   "metadata": {},
   "outputs": [
    {
     "data": {
      "text/plain": [
       "time.struct_time(tm_year=2015, tm_mon=3, tm_mday=22, tm_hour=23, tm_min=59, tm_sec=59, tm_wday=6, tm_yday=81, tm_isdst=0)"
      ]
     },
     "execution_count": 87,
     "metadata": {},
     "output_type": "execute_result"
    }
   ],
   "source": [
    "time.localtime(1427039999)"
   ]
  },
  {
   "cell_type": "code",
   "execution_count": 88,
   "metadata": {},
   "outputs": [
    {
     "data": {
      "text/plain": [
       "time.struct_time(tm_year=2015, tm_mon=2, tm_mday=20, tm_hour=17, tm_min=22, tm_sec=44, tm_wday=4, tm_yday=51, tm_isdst=0)"
      ]
     },
     "execution_count": 88,
     "metadata": {},
     "output_type": "execute_result"
    }
   ],
   "source": [
    "time.localtime(dc1.timestamp[0])"
   ]
  },
  {
   "cell_type": "code",
   "execution_count": 89,
   "metadata": {},
   "outputs": [
    {
     "data": {
      "text/plain": [
       "time.struct_time(tm_year=2015, tm_mon=3, tm_mday=23, tm_hour=10, tm_min=50, tm_sec=52, tm_wday=0, tm_yday=82, tm_isdst=0)"
      ]
     },
     "execution_count": 89,
     "metadata": {},
     "output_type": "execute_result"
    }
   ],
   "source": [
    "time.localtime(dce.timestamp[0])"
   ]
  },
  {
   "cell_type": "code",
   "execution_count": 90,
   "metadata": {},
   "outputs": [
    {
     "data": {
      "text/plain": [
       "time.struct_time(tm_year=2015, tm_mon=3, tm_mday=23, tm_hour=8, tm_min=11, tm_sec=17, tm_wday=0, tm_yday=82, tm_isdst=0)"
      ]
     },
     "execution_count": 90,
     "metadata": {},
     "output_type": "execute_result"
    }
   ],
   "source": [
    "time.localtime(dce.timestamp[1])"
   ]
  },
  {
   "cell_type": "code",
   "execution_count": 91,
   "metadata": {},
   "outputs": [
    {
     "data": {
      "text/plain": [
       "time.struct_time(tm_year=2015, tm_mon=3, tm_mday=23, tm_hour=17, tm_min=41, tm_sec=48, tm_wday=0, tm_yday=82, tm_isdst=0)"
      ]
     },
     "execution_count": 91,
     "metadata": {},
     "output_type": "execute_result"
    }
   ],
   "source": [
    "time.localtime(dce.timestamp.values[-1])"
   ]
  },
  {
   "cell_type": "code",
   "execution_count": 92,
   "metadata": {},
   "outputs": [],
   "source": [
    "a = set(d_c.did.values)"
   ]
  },
  {
   "cell_type": "code",
   "execution_count": 93,
   "metadata": {},
   "outputs": [],
   "source": [
    "b = set(d_c2.did.values)"
   ]
  },
  {
   "cell_type": "code",
   "execution_count": 94,
   "metadata": {},
   "outputs": [
    {
     "data": {
      "text/plain": [
       "1101021"
      ]
     },
     "execution_count": 94,
     "metadata": {},
     "output_type": "execute_result"
    }
   ],
   "source": [
    "len(a.difference(b))"
   ]
  },
  {
   "cell_type": "code",
   "execution_count": 95,
   "metadata": {},
   "outputs": [
    {
     "data": {
      "text/plain": [
       "0"
      ]
     },
     "execution_count": 95,
     "metadata": {},
     "output_type": "execute_result"
    }
   ],
   "source": [
    "len(b.difference(a))"
   ]
  },
  {
   "cell_type": "code",
   "execution_count": 96,
   "metadata": {},
   "outputs": [
    {
     "data": {
      "text/plain": [
       "76329"
      ]
     },
     "execution_count": 96,
     "metadata": {},
     "output_type": "execute_result"
    }
   ],
   "source": [
    "len(b)"
   ]
  },
  {
   "cell_type": "code",
   "execution_count": 97,
   "metadata": {},
   "outputs": [
    {
     "data": {
      "text/plain": [
       "162719"
      ]
     },
     "execution_count": 97,
     "metadata": {},
     "output_type": "execute_result"
    }
   ],
   "source": [
    "d_c.vid.nunique()"
   ]
  },
  {
   "cell_type": "code",
   "execution_count": 98,
   "metadata": {},
   "outputs": [],
   "source": [
    "a = set(d_c.vid.values)"
   ]
  },
  {
   "cell_type": "code",
   "execution_count": 99,
   "metadata": {},
   "outputs": [],
   "source": [
    "b = set(d_c2.vid.values)"
   ]
  },
  {
   "cell_type": "code",
   "execution_count": 100,
   "metadata": {},
   "outputs": [
    {
     "data": {
      "text/plain": [
       "0"
      ]
     },
     "execution_count": 100,
     "metadata": {},
     "output_type": "execute_result"
    }
   ],
   "source": [
    "len(b.difference(a))"
   ]
  },
  {
   "cell_type": "code",
   "execution_count": 101,
   "metadata": {},
   "outputs": [
    {
     "data": {
      "text/plain": [
       "46280"
      ]
     },
     "execution_count": 101,
     "metadata": {},
     "output_type": "execute_result"
    }
   ],
   "source": [
    "len(b)"
   ]
  },
  {
   "cell_type": "code",
   "execution_count": 102,
   "metadata": {},
   "outputs": [
    {
     "ename": "NameError",
     "evalue": "name 'd_u' is not defined",
     "output_type": "error",
     "traceback": [
      "\u001b[0;31m---------------------------------------------------------------------------\u001b[0m",
      "\u001b[0;31mNameError\u001b[0m                                 Traceback (most recent call last)",
      "\u001b[0;32m<ipython-input-102-3e9d083b5875>\u001b[0m in \u001b[0;36m<module>\u001b[0;34m()\u001b[0m\n\u001b[0;32m----> 1\u001b[0;31m \u001b[0mtype\u001b[0m\u001b[0;34m(\u001b[0m\u001b[0md_u\u001b[0m\u001b[0;34m.\u001b[0m\u001b[0mwatch\u001b[0m\u001b[0;34m[\u001b[0m\u001b[0;36m0\u001b[0m\u001b[0;34m]\u001b[0m\u001b[0;34m[\u001b[0m\u001b[0;36m0\u001b[0m\u001b[0;34m]\u001b[0m\u001b[0;34m[\u001b[0m\u001b[0;36m1\u001b[0m\u001b[0;34m]\u001b[0m\u001b[0;34m)\u001b[0m\u001b[0;34m\u001b[0m\u001b[0;34m\u001b[0m\u001b[0m\n\u001b[0m",
      "\u001b[0;31mNameError\u001b[0m: name 'd_u' is not defined"
     ]
    }
   ],
   "source": [
    "type(d_u.watch[0][0][1])"
   ]
  },
  {
   "cell_type": "code",
   "execution_count": null,
   "metadata": {},
   "outputs": [],
   "source": [
    "1319215923 in b"
   ]
  },
  {
   "cell_type": "code",
   "execution_count": null,
   "metadata": {},
   "outputs": [],
   "source": [
    "1319215923 in vinfo.vid.values"
   ]
  },
  {
   "cell_type": "code",
   "execution_count": null,
   "metadata": {},
   "outputs": [],
   "source": [
    "819753845 in vinfo.vid.values"
   ]
  },
  {
   "cell_type": "code",
   "execution_count": null,
   "metadata": {},
   "outputs": [],
   "source": [
    "t = pq.read_table('../input/train/part_2/user.parquet')\n",
    "d_u = t.to_pandas()"
   ]
  },
  {
   "cell_type": "code",
   "execution_count": null,
   "metadata": {},
   "outputs": [],
   "source": [
    "d_u.watch"
   ]
  },
  {
   "cell_type": "code",
   "execution_count": null,
   "metadata": {},
   "outputs": [],
   "source": [
    "2500292537 in vinfo.vid.values"
   ]
  },
  {
   "cell_type": "code",
   "execution_count": null,
   "metadata": {},
   "outputs": [],
   "source": [
    "2500292537 in vinfo.vid.values"
   ]
  },
  {
   "cell_type": "code",
   "execution_count": null,
   "metadata": {},
   "outputs": [],
   "source": [
    "vinfo"
   ]
  },
  {
   "cell_type": "code",
   "execution_count": null,
   "metadata": {},
   "outputs": [],
   "source": [
    "vinfo.image_emb"
   ]
  },
  {
   "cell_type": "code",
   "execution_count": null,
   "metadata": {},
   "outputs": [],
   "source": [
    "dall = d_c"
   ]
  },
  {
   "cell_type": "code",
   "execution_count": null,
   "metadata": {},
   "outputs": [],
   "source": [
    "len(set(dce.vid).difference(set(dc30.vid))) / len(set(dce.vid))"
   ]
  },
  {
   "cell_type": "code",
   "execution_count": null,
   "metadata": {},
   "outputs": [],
   "source": [
    "len(set(dc30.vid).difference(set(dc29.vid))) / len(set(dc30.vid))"
   ]
  },
  {
   "cell_type": "code",
   "execution_count": null,
   "metadata": {},
   "outputs": [],
   "source": [
    "len(set(dc29.vid).difference(set(dc28.vid))) / len(set(dc29.vid))"
   ]
  },
  {
   "cell_type": "code",
   "execution_count": null,
   "metadata": {},
   "outputs": [],
   "source": [
    "len(set(dce.vid).difference(set(dall.vid))) / len(set(dce.vid))"
   ]
  },
  {
   "cell_type": "code",
   "execution_count": null,
   "metadata": {},
   "outputs": [],
   "source": [
    "len(set(dc30.vid))"
   ]
  },
  {
   "cell_type": "code",
   "execution_count": null,
   "metadata": {},
   "outputs": [],
   "source": [
    "len(set(dc1.vid))"
   ]
  },
  {
   "cell_type": "code",
   "execution_count": null,
   "metadata": {},
   "outputs": [],
   "source": [
    "len(set(dc30.vid).difference(set(dc1.vid))) / len(set(dc30.vid))"
   ]
  },
  {
   "cell_type": "code",
   "execution_count": null,
   "metadata": {},
   "outputs": [],
   "source": [
    "due = gezi.read_parquet('../input/eval/user.parquet')"
   ]
  },
  {
   "cell_type": "code",
   "execution_count": null,
   "metadata": {},
   "outputs": [],
   "source": [
    "due"
   ]
  },
  {
   "cell_type": "code",
   "execution_count": null,
   "metadata": {},
   "outputs": [],
   "source": [
    "dall.prev.nunique()"
   ]
  },
  {
   "cell_type": "code",
   "execution_count": null,
   "metadata": {},
   "outputs": [],
   "source": [
    "dce.prev.nunique()"
   ]
  },
  {
   "cell_type": "code",
   "execution_count": null,
   "metadata": {},
   "outputs": [],
   "source": [
    "len(set(dce.vid).difference(dall.vid)) / len(set(dce.vid))"
   ]
  },
  {
   "cell_type": "code",
   "execution_count": null,
   "metadata": {},
   "outputs": [],
   "source": [
    "len(set(dce.vid).difference(set(dc30.vid).union(dc29.vid))) / len(set(dce.vid))"
   ]
  },
  {
   "cell_type": "code",
   "execution_count": null,
   "metadata": {},
   "outputs": [],
   "source": [
    "len(set(dce.vid).difference(set(dc30.vid).union(dc29.vid).union(dc28.vid))) / len(set(dce.vid))"
   ]
  },
  {
   "cell_type": "code",
   "execution_count": null,
   "metadata": {},
   "outputs": [],
   "source": [
    "len(set(dce.vid).difference(set(dc30.vid).union(dc29.vid).union(dc28.vid).union(dc27.vid))) / len(set(dce.vid))"
   ]
  },
  {
   "cell_type": "code",
   "execution_count": null,
   "metadata": {},
   "outputs": [],
   "source": [
    "len(set(dce.vid).difference(set(dc30.vid).union(dc29.vid).union(dc28.vid).union(dc1.vid))) / len(set(dce.vid))"
   ]
  },
  {
   "cell_type": "code",
   "execution_count": null,
   "metadata": {},
   "outputs": [],
   "source": [
    "len(set(dce.vid).difference(set(dall.vid))) / len(set(dce.vid))"
   ]
  },
  {
   "cell_type": "code",
   "execution_count": null,
   "metadata": {},
   "outputs": [],
   "source": [
    "len(set(dce.prev).difference(dall.prev)) / len(set(dce.prev))"
   ]
  },
  {
   "cell_type": "code",
   "execution_count": null,
   "metadata": {},
   "outputs": [],
   "source": [
    "len(set(dc30.prev).difference(dc29.prev)) / len(set(dc30.prev))"
   ]
  },
  {
   "cell_type": "code",
   "execution_count": null,
   "metadata": {},
   "outputs": [],
   "source": [
    "dce.vid.nunique()"
   ]
  },
  {
   "cell_type": "code",
   "execution_count": null,
   "metadata": {},
   "outputs": [],
   "source": [
    "dall.vid.nunique()"
   ]
  },
  {
   "cell_type": "code",
   "execution_count": null,
   "metadata": {},
   "outputs": [],
   "source": [
    "vinfo.vid.nunique()"
   ]
  },
  {
   "cell_type": "code",
   "execution_count": null,
   "metadata": {},
   "outputs": [],
   "source": [
    "len(set(dce.vid).union(set(dall.vid)))"
   ]
  },
  {
   "cell_type": "code",
   "execution_count": null,
   "metadata": {},
   "outputs": [],
   "source": [
    "set(dce.vid).difference(vinfo.vid)"
   ]
  },
  {
   "cell_type": "code",
   "execution_count": null,
   "metadata": {},
   "outputs": [],
   "source": [
    "set(dall.vid).difference(vinfo.vid)"
   ]
  },
  {
   "cell_type": "code",
   "execution_count": null,
   "metadata": {},
   "outputs": [],
   "source": [
    "set(dce.prev).difference(vinfo.vid)"
   ]
  },
  {
   "cell_type": "code",
   "execution_count": null,
   "metadata": {},
   "outputs": [],
   "source": [
    "du1.watch = du1.watch.apply(json.loads)"
   ]
  },
  {
   "cell_type": "code",
   "execution_count": null,
   "metadata": {},
   "outputs": [],
   "source": [
    "du30.watch = du30.watch.apply(json.loads)"
   ]
  },
  {
   "cell_type": "code",
   "execution_count": null,
   "metadata": {},
   "outputs": [],
   "source": [
    "du29.watch = du29.watch.apply(json.loads)"
   ]
  },
  {
   "cell_type": "code",
   "execution_count": null,
   "metadata": {},
   "outputs": [],
   "source": [
    "due.watch = due.watch.apply(json.loads)"
   ]
  },
  {
   "cell_type": "code",
   "execution_count": null,
   "metadata": {},
   "outputs": [],
   "source": [
    "du1.watch[0]"
   ]
  },
  {
   "cell_type": "code",
   "execution_count": null,
   "metadata": {},
   "outputs": [],
   "source": [
    "due.watch[0]"
   ]
  },
  {
   "cell_type": "code",
   "execution_count": null,
   "metadata": {},
   "outputs": [],
   "source": [
    "time.localtime(du1.watch[0][0][0])"
   ]
  },
  {
   "cell_type": "code",
   "execution_count": null,
   "metadata": {},
   "outputs": [],
   "source": [
    "time.localtime(du1.watch[0][-1][0])"
   ]
  },
  {
   "cell_type": "code",
   "execution_count": null,
   "metadata": {},
   "outputs": [],
   "source": [
    "time.localtime(du1.watch.values[-1][0][0])"
   ]
  },
  {
   "cell_type": "code",
   "execution_count": null,
   "metadata": {},
   "outputs": [],
   "source": [
    "time.localtime(du1.watch.values[-1][-1][0])"
   ]
  },
  {
   "cell_type": "code",
   "execution_count": null,
   "metadata": {},
   "outputs": [],
   "source": [
    "du1.watch.values[-1][0][1] in set(vinfo.vid)"
   ]
  },
  {
   "cell_type": "code",
   "execution_count": null,
   "metadata": {},
   "outputs": [],
   "source": [
    "time.localtime(du30.watch[0][0][0])"
   ]
  },
  {
   "cell_type": "code",
   "execution_count": null,
   "metadata": {},
   "outputs": [],
   "source": [
    "all_vids = set(vinfo.vid)"
   ]
  },
  {
   "cell_type": "code",
   "execution_count": null,
   "metadata": {},
   "outputs": [],
   "source": [
    "w1_vids = set()\n",
    "for i in tqdm(range(len(du1))):\n",
    "  for j in range(len(du1.watch[i])):\n",
    "    all_vids.add(du1.watch[i][j][1])\n",
    "    w1_vids.add(du1.watch[i][j][1])"
   ]
  },
  {
   "cell_type": "code",
   "execution_count": null,
   "metadata": {},
   "outputs": [],
   "source": [
    "w30_vids = set()\n",
    "for i in tqdm(range(len(du30))):\n",
    "  for j in range(len(du30.watch[i])):\n",
    "    w30_vids.add(du30.watch[i][j][1])"
   ]
  },
  {
   "cell_type": "code",
   "execution_count": null,
   "metadata": {},
   "outputs": [],
   "source": [
    "w29_vids = set()\n",
    "for i in tqdm(range(len(du29))):\n",
    "  for j in range(len(du29.watch[i])):\n",
    "    w29_vids.add(du29.watch[i][j][1])"
   ]
  },
  {
   "cell_type": "code",
   "execution_count": null,
   "metadata": {},
   "outputs": [],
   "source": [
    "len(all_vids.difference(set(vinfo.vid)))"
   ]
  },
  {
   "cell_type": "code",
   "execution_count": null,
   "metadata": {},
   "outputs": [],
   "source": [
    "len(all_vids.difference(set(vinfo.vid))) / len(w1_vids)"
   ]
  },
  {
   "cell_type": "code",
   "execution_count": null,
   "metadata": {},
   "outputs": [],
   "source": [
    "len(w1_vids)"
   ]
  },
  {
   "cell_type": "code",
   "execution_count": null,
   "metadata": {},
   "outputs": [],
   "source": [
    "time.localtime(due[due.did=='00037fff9508f7f92b3b9239e0eefb52'].watch[0][0][0])"
   ]
  },
  {
   "cell_type": "code",
   "execution_count": null,
   "metadata": {},
   "outputs": [],
   "source": [
    "dce[dce.did=='00037fff9508f7f92b3b9239e0eefb52']"
   ]
  },
  {
   "cell_type": "code",
   "execution_count": null,
   "metadata": {},
   "outputs": [],
   "source": [
    "time.localtime(due.watch[0][0][0])"
   ]
  },
  {
   "cell_type": "code",
   "execution_count": null,
   "metadata": {},
   "outputs": [],
   "source": [
    "time.localtime(du1.watch.values[0][-1][0])"
   ]
  },
  {
   "cell_type": "code",
   "execution_count": null,
   "metadata": {},
   "outputs": [],
   "source": [
    "time.localtime(du1.watch.values[-1][0][0])"
   ]
  },
  {
   "cell_type": "code",
   "execution_count": null,
   "metadata": {},
   "outputs": [],
   "source": [
    "time.localtime(du1.watch.values[-1][-1][0])"
   ]
  },
  {
   "cell_type": "code",
   "execution_count": null,
   "metadata": {},
   "outputs": [],
   "source": [
    "alle_vids = set(vinfo.vid)\n",
    "we_vids = set()\n",
    "for i in tqdm(range(len(due))):\n",
    "  for j in range(len(due.watch[i])):\n",
    "    alle_vids.add(due.watch[i][j][1])\n",
    "    we_vids.add(due.watch[i][j][1])"
   ]
  },
  {
   "cell_type": "code",
   "execution_count": null,
   "metadata": {},
   "outputs": [],
   "source": [
    "len(alle_vids.difference(set(vinfo.vid))) / len(alle_vids)"
   ]
  },
  {
   "cell_type": "code",
   "execution_count": null,
   "metadata": {},
   "outputs": [],
   "source": [
    "len(we_vids.difference(set(dc30.vid))) / len(we_vids)"
   ]
  },
  {
   "cell_type": "code",
   "execution_count": null,
   "metadata": {},
   "outputs": [],
   "source": [
    "len(we_vids.difference(set(dall.vid))) / len(we_vids)"
   ]
  },
  {
   "cell_type": "code",
   "execution_count": null,
   "metadata": {},
   "outputs": [],
   "source": [
    "len(w1_vids.difference(set(dall.vid))) / len(w1_vids)"
   ]
  },
  {
   "cell_type": "code",
   "execution_count": null,
   "metadata": {},
   "outputs": [],
   "source": [
    "len(we_vids.difference(set(dc30.vid))) / len(we_vids)"
   ]
  },
  {
   "cell_type": "code",
   "execution_count": null,
   "metadata": {},
   "outputs": [],
   "source": [
    "len(we_vids.difference(set(dc30.vid) | set(w30_vids))) / len(we_vids)"
   ]
  },
  {
   "cell_type": "code",
   "execution_count": null,
   "metadata": {},
   "outputs": [],
   "source": [
    "len(w30_vids.difference(set(dc29.vid) | set(w29_vids))) / len(w30_vids)"
   ]
  },
  {
   "cell_type": "code",
   "execution_count": null,
   "metadata": {},
   "outputs": [],
   "source": [
    "len(w30_vids.difference(set(dc1.vid) | set(w1_vids))) / len(w30_vids)"
   ]
  },
  {
   "cell_type": "code",
   "execution_count": null,
   "metadata": {},
   "outputs": [],
   "source": [
    "len(w30_vids.difference(set(dc1.vid))) / len(w30_vids)"
   ]
  },
  {
   "cell_type": "code",
   "execution_count": null,
   "metadata": {},
   "outputs": [],
   "source": [
    "len(w30_vids.difference(set(dc29.vid))) / len(w30_vids)"
   ]
  },
  {
   "cell_type": "code",
   "execution_count": null,
   "metadata": {},
   "outputs": [],
   "source": [
    "len(alle_vids.difference(set(dc30.vid))) / len(alle_vids)"
   ]
  },
  {
   "cell_type": "code",
   "execution_count": null,
   "metadata": {},
   "outputs": [],
   "source": [
    "len(alle_vids - all_vids) / len(alle_vids)"
   ]
  },
  {
   "cell_type": "code",
   "execution_count": null,
   "metadata": {},
   "outputs": [],
   "source": [
    "vinfo"
   ]
  },
  {
   "cell_type": "code",
   "execution_count": null,
   "metadata": {},
   "outputs": [],
   "source": [
    "dall.timestamp.describe()"
   ]
  },
  {
   "cell_type": "code",
   "execution_count": null,
   "metadata": {},
   "outputs": [],
   "source": [
    "time.localtime(dall.timestamp.max())"
   ]
  },
  {
   "cell_type": "code",
   "execution_count": null,
   "metadata": {},
   "outputs": [],
   "source": [
    "time.localtime(dall.timestamp.min())"
   ]
  },
  {
   "cell_type": "code",
   "execution_count": null,
   "metadata": {},
   "outputs": [],
   "source": [
    "time.localtime(dce.timestamp.max())"
   ]
  },
  {
   "cell_type": "code",
   "execution_count": null,
   "metadata": {},
   "outputs": [],
   "source": [
    "time.localtime(dce.timestamp.min())"
   ]
  },
  {
   "cell_type": "code",
   "execution_count": null,
   "metadata": {},
   "outputs": [],
   "source": [
    "len(set(dce.vid) - set(dall.vid))"
   ]
  },
  {
   "cell_type": "code",
   "execution_count": null,
   "metadata": {},
   "outputs": [],
   "source": [
    "len(set(dce.vid) & set(dall.vid))"
   ]
  },
  {
   "cell_type": "code",
   "execution_count": null,
   "metadata": {},
   "outputs": [],
   "source": [
    "len(set(dce.vid))"
   ]
  },
  {
   "cell_type": "code",
   "execution_count": null,
   "metadata": {},
   "outputs": [],
   "source": [
    "len(set(dall.vid))"
   ]
  },
  {
   "cell_type": "code",
   "execution_count": null,
   "metadata": {},
   "outputs": [],
   "source": [
    "dce.vid[0]"
   ]
  },
  {
   "cell_type": "code",
   "execution_count": null,
   "metadata": {},
   "outputs": [],
   "source": [
    "dce[dce.vid==2423340274]"
   ]
  },
  {
   "cell_type": "code",
   "execution_count": null,
   "metadata": {},
   "outputs": [],
   "source": [
    "len(vinfo)"
   ]
  },
  {
   "cell_type": "code",
   "execution_count": null,
   "metadata": {},
   "outputs": [],
   "source": [
    "len(die)"
   ]
  },
  {
   "cell_type": "code",
   "execution_count": null,
   "metadata": {},
   "outputs": [],
   "source": [
    "len(di1)"
   ]
  },
  {
   "cell_type": "code",
   "execution_count": null,
   "metadata": {},
   "outputs": [],
   "source": [
    "len(set(die.vid))"
   ]
  },
  {
   "cell_type": "code",
   "execution_count": null,
   "metadata": {},
   "outputs": [],
   "source": [
    "set(die.vid) - set(vinfo.vid)"
   ]
  },
  {
   "cell_type": "code",
   "execution_count": null,
   "metadata": {},
   "outputs": [],
   "source": [
    "set(dce.vid) - set(vinfo.vid)"
   ]
  },
  {
   "cell_type": "code",
   "execution_count": null,
   "metadata": {},
   "outputs": [],
   "source": [
    "dce.timestamp.mean()"
   ]
  },
  {
   "cell_type": "code",
   "execution_count": null,
   "metadata": {},
   "outputs": [],
   "source": [
    "dce.timestamp.max()"
   ]
  },
  {
   "cell_type": "code",
   "execution_count": null,
   "metadata": {},
   "outputs": [],
   "source": [
    "dce.timestamp.min()"
   ]
  },
  {
   "cell_type": "code",
   "execution_count": null,
   "metadata": {},
   "outputs": [],
   "source": [
    "dce['hour'] = dctime.localtime(x).tm_hour"
   ]
  },
  {
   "cell_type": "code",
   "execution_count": null,
   "metadata": {},
   "outputs": [],
   "source": [
    "df = dce.merge(die, how=\"left\", on=\"vid\")"
   ]
  },
  {
   "cell_type": "code",
   "execution_count": null,
   "metadata": {},
   "outputs": [],
   "source": [
    "((df.timestamp_x - df.timestamp_y) / (3600*24*365)).min()"
   ]
  },
  {
   "cell_type": "code",
   "execution_count": null,
   "metadata": {},
   "outputs": [],
   "source": [
    "df30 = dc30.merge(di30, how=\"left\", on=\"vid\")"
   ]
  },
  {
   "cell_type": "code",
   "execution_count": null,
   "metadata": {},
   "outputs": [],
   "source": [
    "(df30.timestamp_x - df30.timestamp_y).mean()"
   ]
  },
  {
   "cell_type": "code",
   "execution_count": null,
   "metadata": {},
   "outputs": [],
   "source": [
    "(df.timestamp_x - df.timestamp_y).mean()"
   ]
  },
  {
   "cell_type": "code",
   "execution_count": null,
   "metadata": {},
   "outputs": [],
   "source": [
    "((df30.timestamp_x - df30.timestamp_y) / (3600*24)).mean()"
   ]
  },
  {
   "cell_type": "code",
   "execution_count": null,
   "metadata": {},
   "outputs": [],
   "source": [
    "df.timestamp_x "
   ]
  },
  {
   "cell_type": "code",
   "execution_count": null,
   "metadata": {},
   "outputs": [],
   "source": [
    "df.timestamp_y"
   ]
  },
  {
   "cell_type": "code",
   "execution_count": null,
   "metadata": {},
   "outputs": [],
   "source": [
    "time.localtime(df.timestamp_x[0])"
   ]
  },
  {
   "cell_type": "code",
   "execution_count": null,
   "metadata": {},
   "outputs": [],
   "source": [
    "time.localtime(df.timestamp_y[0])"
   ]
  },
  {
   "cell_type": "code",
   "execution_count": null,
   "metadata": {},
   "outputs": [],
   "source": [
    "df.timestamp_x - df.timestamp_y"
   ]
  },
  {
   "cell_type": "code",
   "execution_count": null,
   "metadata": {},
   "outputs": [],
   "source": [
    "2143961 / (3600 * 24)"
   ]
  },
  {
   "cell_type": "code",
   "execution_count": null,
   "metadata": {},
   "outputs": [],
   "source": [
    "(df.timestamp_x - df.timestamp_y).argmax()"
   ]
  },
  {
   "cell_type": "code",
   "execution_count": null,
   "metadata": {},
   "outputs": [],
   "source": [
    "time.localtime(df.timestamp_x[1778622])"
   ]
  },
  {
   "cell_type": "code",
   "execution_count": null,
   "metadata": {},
   "outputs": [],
   "source": [
    "time.localtime(df.timestamp_y[1778622])"
   ]
  },
  {
   "cell_type": "code",
   "execution_count": null,
   "metadata": {},
   "outputs": [],
   "source": [
    "((df30.timestamp_x - df30.timestamp_y) / (3600*24)).describe()"
   ]
  },
  {
   "cell_type": "code",
   "execution_count": null,
   "metadata": {},
   "outputs": [],
   "source": [
    "((df.timestamp_x - df.timestamp_y) / (3600*24)).describe()"
   ]
  },
  {
   "cell_type": "code",
   "execution_count": null,
   "metadata": {},
   "outputs": [],
   "source": [
    "((df.timestamp_x - df.timestamp_y) / (3600*24)).max()"
   ]
  },
  {
   "cell_type": "code",
   "execution_count": null,
   "metadata": {},
   "outputs": [],
   "source": [
    "dce"
   ]
  },
  {
   "cell_type": "code",
   "execution_count": null,
   "metadata": {},
   "outputs": [],
   "source": []
  },
  {
   "cell_type": "code",
   "execution_count": null,
   "metadata": {},
   "outputs": [],
   "source": []
  },
  {
   "cell_type": "code",
   "execution_count": null,
   "metadata": {},
   "outputs": [],
   "source": []
  },
  {
   "cell_type": "code",
   "execution_count": null,
   "metadata": {},
   "outputs": [],
   "source": []
  },
  {
   "cell_type": "code",
   "execution_count": null,
   "metadata": {},
   "outputs": [],
   "source": []
  },
  {
   "cell_type": "code",
   "execution_count": null,
   "metadata": {},
   "outputs": [],
   "source": []
  },
  {
   "cell_type": "code",
   "execution_count": null,
   "metadata": {},
   "outputs": [],
   "source": []
  }
 ],
 "metadata": {
  "kernelspec": {
   "display_name": "Python 3",
   "language": "python",
   "name": "python3"
  },
  "language_info": {
   "codemirror_mode": {
    "name": "ipython",
    "version": 3
   },
   "file_extension": ".py",
   "mimetype": "text/x-python",
   "name": "python",
   "nbconvert_exporter": "python",
   "pygments_lexer": "ipython3",
   "version": "3.6.8"
  }
 },
 "nbformat": 4,
 "nbformat_minor": 2
}
