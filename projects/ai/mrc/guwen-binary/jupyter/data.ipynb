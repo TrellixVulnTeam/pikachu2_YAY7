{
 "cells": [
  {
   "cell_type": "code",
   "execution_count": 1,
   "metadata": {},
   "outputs": [
    {
     "name": "stdout",
     "output_type": "stream",
     "text": [
      "sample.csv  train.json\tvalidation.json\r\n"
     ]
    }
   ],
   "source": [
    "!ls ../input/public"
   ]
  },
  {
   "cell_type": "code",
   "execution_count": 2,
   "metadata": {},
   "outputs": [],
   "source": [
    "import gezi\n",
    "from gezi import tqdm\n",
    "import pandas as pd"
   ]
  },
  {
   "cell_type": "code",
   "execution_count": 3,
   "metadata": {},
   "outputs": [],
   "source": [
    "m = gezi.read_json('../input/public/train.json')"
   ]
  },
  {
   "cell_type": "code",
   "execution_count": 4,
   "metadata": {},
   "outputs": [
    {
     "data": {
      "text/plain": [
       "6315"
      ]
     },
     "execution_count": 4,
     "metadata": {},
     "output_type": "execute_result"
    }
   ],
   "source": [
    "len(m)"
   ]
  },
  {
   "cell_type": "code",
   "execution_count": 5,
   "metadata": {},
   "outputs": [],
   "source": [
    "m2 = gezi.read_json('../input/public/validation.json')"
   ]
  },
  {
   "cell_type": "code",
   "execution_count": 6,
   "metadata": {},
   "outputs": [
    {
     "data": {
      "text/plain": [
       "1000"
      ]
     },
     "execution_count": 6,
     "metadata": {},
     "output_type": "execute_result"
    }
   ],
   "source": [
    "len(m2)"
   ]
  },
  {
   "cell_type": "code",
   "execution_count": 7,
   "metadata": {},
   "outputs": [
    {
     "data": {
      "text/plain": [
       "{'ID': 1,\n",
       " 'Content': '奉和袭美抱疾杜门见寄次韵  陆龟蒙虽失春城醉上期，下帷裁遍未裁诗。因吟郢岸百亩蕙，欲采商崖三秀芝。栖野鹤笼宽使织，施山僧饭别教炊。但医沈约重瞳健，不怕江花不满枝。',\n",
       " 'Questions': [{'Question': '下列对这首诗的理解和赏析，不正确的一项是',\n",
       "   'Choices': ['A．作者写作此诗之时，皮日休正患病居家，闭门谢客，与外界不通音讯。',\n",
       "    'B．由于友人患病，原有的约会被暂时搁置，作者游春的诗篇也未能写出。',\n",
       "    'C．作者虽然身在书斋从事教学，但心中盼望能走进自然，领略美好春光。',\n",
       "    'D．尾联使用了关于沈约的典故，可以由此推测皮日休所患的疾病是目疾。'],\n",
       "   'Answer': 'A',\n",
       "   'Q_id': '000101'}]}"
      ]
     },
     "execution_count": 7,
     "metadata": {},
     "output_type": "execute_result"
    }
   ],
   "source": [
    "m[0]"
   ]
  },
  {
   "cell_type": "code",
   "execution_count": 8,
   "metadata": {},
   "outputs": [
    {
     "data": {
      "text/plain": [
       "{'ID': 4,\n",
       " 'Content': '纯礼字彝叟以父仲淹荫知陵台令兼永安县永昭陵建京西转运使配木石砖甓及工徒于一路独永安不受令使者以白陵使韩琦，琦曰：“范纯礼岂不知此？将必有说。”他日，众质之，纯礼曰：“陵寝皆在邑境，岁时缮治无虚日，今乃与百县均赋，曷若置此，使之奉常时用乎？”琦是其对。还朝，用为三司盐铁判官，以比部员外郎出知遂州。沪南有边事，调度苛棘，纯礼一以静待之，辨其可具者，不取于民。民图像于庐，而奉之如神，名曰“范仲庵”。草场火，民情疑怖，守吏惕息俟诛。纯礼曰：“草湿则生火，何足怪！”但使密偿之。库吏盗丝多罪至死，纯礼曰：“以棼然之丝而杀之，吾不忍也。”听其家趣买以赎，命释其株连者。除户部郎中、京西转运副使。徽宗立，以龙图阁直学士知开封府。前尹以刻深为治，纯礼曰：“宽猛相济，圣人之训。方务去前之苛，犹虑未尽，岂有宽为患也。”由是一切以宽处之。中旨鞫享泽村民谋逆，纯礼审其故，此民入戏场观优，归途见匠者作桶，取而戴于首曰：“与刘先主如何？”遂为匠擒。明日入对，徽宗问何以处之，对曰：“愚人村野无所知，若以叛逆蔽罪，恐辜好生之德。以不应为杖之，足矣。”曰：“何以戒后人？”曰：“正欲外间知陛下刑宪不滥，足以为训尔。”徽宗从之。纯礼沉毅刚正，曾布惮之，激驸马都尉王诜曰：“上欲除君承旨，范右丞不可。”诜怒。会诜馆辽使，纯礼主宴，诜诬其辄斥御名，罢为端明殿学士、知颍昌府，提举崇福宫。崇宁五年，复左朝议大夫，提举鸿庆宫。卒，年七十六。',\n",
       " 'Questions': [{'Question': '下列对文中“纯礼字彝叟以父仲淹荫知陵台令兼永安县永昭陵建京西转运使配木石砖甓及工徒于一路独永安不受令”的断句，正确的一项是',\n",
       "   'Choices': ['A．纯礼字彝叟/以父仲淹荫/知陵台令兼永安县/永昭陵建京西转运使/配木石砖甓及工徒于一路/独永安不受令/',\n",
       "    'B．纯礼字彝叟/以父仲淹/荫知陵台令兼永安县/永昭陵建/京西转运使配木石砖甓及工徒于一路/独永安不受令/',\n",
       "    'C．纯礼字彝叟/以父仲淹/荫知陵台令兼永安县/永昭陵建京西转运使/配木石砖甓及工徒于一路/独永安不受令/',\n",
       "    'D．纯礼字彝叟/以父仲淹荫/知陵台令兼永安县/永昭陵建/京西转运使配木石砖甓及工徒于一路/独永安不受令/'],\n",
       "   'Answer': 'D',\n",
       "   'Q_id': '000401'},\n",
       "  {'Question': '下列对原文有关内容的概括和分析，不正确的一项是',\n",
       "   'Choices': ['A．纯礼敢于抗言，受到韩琦赏识。主管官员分配劳赋不当，他有理有据地提出异议，认为永安县负责陵寝日常维护，不应与各县均等，得到陵使韩琦认同。',\n",
       "    'B．纯礼关怀下属，处分重在惩戒。他在遂州任上对下属宽厚，草场失火，守吏惶恐等候诛杀，库吏因盗丝将被处死，他均认为罪不至死而采用赔偿的惩处。',\n",
       "    'C．纯礼鉴察往事，治事去苛从宽。在开封府任上，有村民被误告谋逆，他发现事实并非如此，认为应判杖刑，并以彰显皇上刑罚不滥为由，征得皇上认可。',\n",
       "    'D．纯礼坚毅刚直，不幸遭人算计。他的正直让曾布恐惧，曾挑唆驸马都尉王诜诬告纯礼，王即借纯礼宴请辽使事构陷纯礼，致使纯礼蒙冤，最终遭到免职。'],\n",
       "   'Answer': 'D',\n",
       "   'Q_id': '000402'}]}"
      ]
     },
     "execution_count": 8,
     "metadata": {},
     "output_type": "execute_result"
    }
   ],
   "source": [
    "m[3]"
   ]
  },
  {
   "cell_type": "code",
   "execution_count": 9,
   "metadata": {},
   "outputs": [
    {
     "data": {
      "text/plain": [
       "'A．纯礼字彝叟/以父仲淹荫/知陵台令兼永安县/永昭陵建京西转运使/配木石砖甓及工徒于一路/独永安不受令/'"
      ]
     },
     "execution_count": 9,
     "metadata": {},
     "output_type": "execute_result"
    }
   ],
   "source": [
    "m[3]['Questions'][0]['Choices'][0]"
   ]
  },
  {
   "cell_type": "code",
   "execution_count": 10,
   "metadata": {},
   "outputs": [
    {
     "data": {
      "application/vnd.jupyter.widget-view+json": {
       "model_id": "55e8149e6d0642c8939d62c67a62fecb",
       "version_major": 2,
       "version_minor": 0
      },
      "text/plain": [
       "HBox(children=(FloatProgress(value=0.0, max=6315.0), HTML(value='')))"
      ]
     },
     "metadata": {},
     "output_type": "display_data"
    },
    {
     "name": "stdout",
     "output_type": "stream",
     "text": [
      "\n"
     ]
    }
   ],
   "source": [
    "clens = []\n",
    "for i in tqdm(range(len(m))):\n",
    "  clens.append(len(m[i]['Content']))"
   ]
  },
  {
   "cell_type": "code",
   "execution_count": 11,
   "metadata": {},
   "outputs": [],
   "source": [
    "ids = list(range(len(m)))"
   ]
  },
  {
   "cell_type": "code",
   "execution_count": 12,
   "metadata": {},
   "outputs": [],
   "source": [
    "d = pd.DataFrame({\n",
    "    'id': ids,\n",
    "    'clen': clens\n",
    "})"
   ]
  },
  {
   "cell_type": "code",
   "execution_count": 13,
   "metadata": {},
   "outputs": [
    {
     "data": {
      "text/plain": [
       "count    6315.000000\n",
       "mean     1026.225337\n",
       "std       457.843199\n",
       "min        38.000000\n",
       "25%       707.000000\n",
       "50%      1056.000000\n",
       "75%      1258.500000\n",
       "max      3047.000000\n",
       "Name: clen, dtype: float64"
      ]
     },
     "execution_count": 13,
     "metadata": {},
     "output_type": "execute_result"
    }
   ],
   "source": [
    "d.clen.describe()"
   ]
  },
  {
   "cell_type": "code",
   "execution_count": 26,
   "metadata": {},
   "outputs": [
    {
     "data": {
      "application/vnd.jupyter.widget-view+json": {
       "model_id": "fbedf47a14e841828baa1bffccbffee2",
       "version_major": 2,
       "version_minor": 0
      },
      "text/plain": [
       "HBox(children=(FloatProgress(value=0.0, max=6315.0), HTML(value='')))"
      ]
     },
     "metadata": {},
     "output_type": "display_data"
    },
    {
     "name": "stdout",
     "output_type": "stream",
     "text": [
      "\n"
     ]
    }
   ],
   "source": [
    "qlens = []\n",
    "chlens = []\n",
    "for i in tqdm(range(len(m))):\n",
    "  for question in m[i]['Questions']:\n",
    "    qlens.append(len(question['Question']))\n",
    "    chlens.append(len(ques))"
   ]
  },
  {
   "cell_type": "code",
   "execution_count": 28,
   "metadata": {},
   "outputs": [
    {
     "data": {
      "text/plain": [
       "count    15425.000000\n",
       "mean        24.376013\n",
       "std         13.913446\n",
       "min          6.000000\n",
       "25%         19.000000\n",
       "50%         22.000000\n",
       "75%         26.000000\n",
       "99%         99.760000\n",
       "max        352.000000\n",
       "Name: qlen, dtype: float64"
      ]
     },
     "execution_count": 28,
     "metadata": {},
     "output_type": "execute_result"
    }
   ],
   "source": [
    "pd.DataFrame({\n",
    "    'id': list(range(len(qlens))),\n",
    "    'qlen': qlens\n",
    "}).qlen.describe([0.25,0.5,0.75,0.99])"
   ]
  },
  {
   "cell_type": "code",
   "execution_count": 29,
   "metadata": {},
   "outputs": [
    {
     "data": {
      "application/vnd.jupyter.widget-view+json": {
       "model_id": "3a8380fe2efc4ac29575ff665b47aef7",
       "version_major": 2,
       "version_minor": 0
      },
      "text/plain": [
       "HBox(children=(FloatProgress(value=0.0, max=1000.0), HTML(value='')))"
      ]
     },
     "metadata": {},
     "output_type": "display_data"
    },
    {
     "name": "stdout",
     "output_type": "stream",
     "text": [
      "\n"
     ]
    }
   ],
   "source": [
    "qlens2 = []\n",
    "for i in tqdm(range(len(m2))):\n",
    "  for question in m2[i]['Questions']:\n",
    "    qlens2.append(len(question['Question']))"
   ]
  },
  {
   "cell_type": "code",
   "execution_count": 30,
   "metadata": {},
   "outputs": [
    {
     "data": {
      "text/plain": [
       "count    2444.000000\n",
       "mean       24.597791\n",
       "std        14.179679\n",
       "min         8.000000\n",
       "25%        19.000000\n",
       "50%        22.000000\n",
       "75%        26.000000\n",
       "99%       106.570000\n",
       "max       178.000000\n",
       "Name: qlen, dtype: float64"
      ]
     },
     "execution_count": 30,
     "metadata": {},
     "output_type": "execute_result"
    }
   ],
   "source": [
    "pd.DataFrame({\n",
    "    'id': list(range(len(qlens2))),\n",
    "    'qlen': qlens2\n",
    "}).qlen.describe([0.25,0.5,0.75,0.99])"
   ]
  },
  {
   "cell_type": "code",
   "execution_count": 14,
   "metadata": {},
   "outputs": [
    {
     "data": {
      "application/vnd.jupyter.widget-view+json": {
       "model_id": "39106df28d3b41a49663f0a168b7bb9a",
       "version_major": 2,
       "version_minor": 0
      },
      "text/plain": [
       "HBox(children=(FloatProgress(value=0.0, max=1000.0), HTML(value='')))"
      ]
     },
     "metadata": {},
     "output_type": "display_data"
    },
    {
     "name": "stdout",
     "output_type": "stream",
     "text": [
      "\n"
     ]
    }
   ],
   "source": [
    "clens2 = []\n",
    "for i in tqdm(range(len(m2))):\n",
    "  clens2.append(len(m2[i]['Content']))\n",
    "ids2 = list(range(len(m2)))"
   ]
  },
  {
   "cell_type": "code",
   "execution_count": 15,
   "metadata": {},
   "outputs": [],
   "source": [
    "d2 = pd.DataFrame({\n",
    "    'id': ids2,\n",
    "    'clen': clens2\n",
    "})"
   ]
  },
  {
   "cell_type": "code",
   "execution_count": 16,
   "metadata": {},
   "outputs": [
    {
     "data": {
      "text/plain": [
       "count    1000.000000\n",
       "mean     1048.517000\n",
       "std       459.685709\n",
       "min        52.000000\n",
       "25%       723.750000\n",
       "50%      1065.500000\n",
       "75%      1279.500000\n",
       "99%      2274.090000\n",
       "max      4640.000000\n",
       "Name: clen, dtype: float64"
      ]
     },
     "execution_count": 16,
     "metadata": {},
     "output_type": "execute_result"
    }
   ],
   "source": [
    "d2.clen.describe([0.25,0.5,0.75,0.99])"
   ]
  },
  {
   "cell_type": "code",
   "execution_count": 31,
   "metadata": {},
   "outputs": [
    {
     "data": {
      "text/plain": [
       "9.0625"
      ]
     },
     "execution_count": 31,
     "metadata": {},
     "output_type": "execute_result"
    }
   ],
   "source": [
    "4640 / 512"
   ]
  },
  {
   "cell_type": "code",
   "execution_count": 32,
   "metadata": {},
   "outputs": [
    {
     "data": {
      "text/plain": [
       "5.951171875"
      ]
     },
     "execution_count": 32,
     "metadata": {},
     "output_type": "execute_result"
    }
   ],
   "source": [
    "3047 / 512"
   ]
  },
  {
   "cell_type": "code",
   "execution_count": 33,
   "metadata": {},
   "outputs": [
    {
     "data": {
      "text/plain": [
       "2.498046875"
      ]
     },
     "execution_count": 33,
     "metadata": {},
     "output_type": "execute_result"
    }
   ],
   "source": [
    "1279 / 512"
   ]
  },
  {
   "cell_type": "code",
   "execution_count": 38,
   "metadata": {},
   "outputs": [
    {
     "data": {
      "text/plain": [
       "4.44140625"
      ]
     },
     "execution_count": 38,
     "metadata": {},
     "output_type": "execute_result"
    }
   ],
   "source": [
    "2274/512"
   ]
  },
  {
   "cell_type": "code",
   "execution_count": null,
   "metadata": {},
   "outputs": [],
   "source": []
  }
 ],
 "metadata": {
  "kernelspec": {
   "display_name": "Python 3",
   "language": "python",
   "name": "python3"
  },
  "language_info": {
   "codemirror_mode": {
    "name": "ipython",
    "version": 3
   },
   "file_extension": ".py",
   "mimetype": "text/x-python",
   "name": "python",
   "nbconvert_exporter": "python",
   "pygments_lexer": "ipython3",
   "version": "3.6.8"
  }
 },
 "nbformat": 4,
 "nbformat_minor": 2
}
