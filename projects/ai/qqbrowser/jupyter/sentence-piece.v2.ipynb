{
 "cells": [
  {
   "cell_type": "code",
   "execution_count": 2,
   "source": [
    "import numpy as np\n",
    "import pandas as pd\n",
    "from collections import OrderedDict, defaultdict\n",
    "import multiprocessing as mp\n",
    "import glob\n",
    "import sys, os\n",
    "sys.path.append('..')\n",
    "sys.path.append('../../../../utils')\n",
    "sys.path.append('../../../../third')\n",
    "import gezi\n",
    "from gezi import tqdm\n",
    "tqdm.pandas()\n",
    "import sentencepiece as spm\n",
    "from gensim.models import Word2Vec\n",
    "from gensim.test.utils import common_texts\n",
    "from gensim.models.doc2vec import Doc2Vec, TaggedDocument"
   ],
   "outputs": [
    {
     "output_type": "stream",
     "name": "stderr",
     "text": [
      "2021-10-12 15:59:13.745306: I tensorflow/stream_executor/platform/default/dso_loader.cc:53] Successfully opened dynamic library libcudart.so.11.0\n"
     ]
    }
   ],
   "metadata": {}
  },
  {
   "cell_type": "code",
   "execution_count": null,
   "source": [
    "d = pd.read_csv('../input/info/infos.csv')"
   ],
   "outputs": [],
   "metadata": {}
  },
  {
   "cell_type": "code",
   "execution_count": null,
   "source": [
    "with open('../input/corpus.txt', 'w') as f:\n",
    "  for row in tqdm(d.itertuples(), total=len(d)):\n",
    "    print(row.title, file=f)\n",
    "    print(row.asr_text, file=f)"
   ],
   "outputs": [],
   "metadata": {}
  },
  {
   "cell_type": "code",
   "execution_count": null,
   "source": [
    "spm.SentencePieceTrainer.train(input='../input/corpus.txt', model_prefix='../input/sp10w', vocab_size=100000, user_defined_symbols=[f'SEP{i}' for i in range(200)])"
   ],
   "outputs": [],
   "metadata": {}
  },
  {
   "cell_type": "code",
   "execution_count": 6,
   "source": [
    "sp = spm.SentencePieceProcessor(model_file='../input/sp10w.model')\n",
    "sp.encode('我爱你中国')"
   ],
   "outputs": [
    {
     "output_type": "execute_result",
     "data": {
      "text/plain": [
       "[4813, 460]"
      ]
     },
     "metadata": {},
     "execution_count": 6
    }
   ],
   "metadata": {}
  },
  {
   "cell_type": "code",
   "execution_count": 7,
   "source": [
    "sp.decode([4813, 460])"
   ],
   "outputs": [
    {
     "output_type": "execute_result",
     "data": {
      "text/plain": [
       "'我爱你中国'"
      ]
     },
     "metadata": {},
     "execution_count": 7
    }
   ],
   "metadata": {}
  },
  {
   "cell_type": "code",
   "execution_count": null,
   "source": [
    "for line in open('../input/corpus.txt'):\n",
    "  line = line.strip()\n",
    "  print(line)\n",
    "  print(sp.encode(line))\n",
    "  print(sp.encode(line, out_type=str))\n",
    "  break"
   ],
   "outputs": [],
   "metadata": {}
  },
  {
   "cell_type": "code",
   "execution_count": null,
   "source": [
    "vocab = gezi.Vocab('../input/sp10w.vocab', 0)"
   ],
   "outputs": [],
   "metadata": {}
  },
  {
   "cell_type": "code",
   "execution_count": null,
   "source": [
    "sp.encode('我只不过')"
   ],
   "outputs": [],
   "metadata": {}
  },
  {
   "cell_type": "code",
   "execution_count": null,
   "source": [
    "vocab.id('我')"
   ],
   "outputs": [],
   "metadata": {}
  },
  {
   "cell_type": "code",
   "execution_count": null,
   "source": [
    "vocab.id('光子')"
   ],
   "outputs": [],
   "metadata": {}
  },
  {
   "cell_type": "code",
   "execution_count": null,
   "source": [
    "vocab.key(101)"
   ],
   "outputs": [],
   "metadata": {}
  },
  {
   "cell_type": "code",
   "execution_count": null,
   "source": [
    "vocab_names = [\n",
    "                'tag',\n",
    "                'word',\n",
    "              ]\n",
    "vocabs = {}\n",
    "for vocab_name in vocab_names:\n",
    "  if vocab_name != 'word':\n",
    "    vocab_file =  f'../input/{vocab_name}_vocab.txt'\n",
    "    vocab = gezi.Vocab(vocab_file)\n",
    "  else:\n",
    "    vocab_file = '../input/sp10w.vocab'\n",
    "    vocab = gezi.Vocab(vocab_file, 0)\n",
    "  vocabs[vocab_name] = vocab"
   ],
   "outputs": [],
   "metadata": {}
  },
  {
   "cell_type": "code",
   "execution_count": null,
   "source": [
    "d.head()"
   ],
   "outputs": [],
   "metadata": {}
  },
  {
   "cell_type": "code",
   "execution_count": null,
   "source": [
    "title_words = []\n",
    "asr_words = []\n",
    "for row in tqdm(d.itertuples(), total=len(d)):\n",
    "  title_words.append(len(sp.encode(row.title)))\n",
    "  asr_words.append(len(sp.encode(str(row.asr_text))))"
   ],
   "outputs": [],
   "metadata": {}
  },
  {
   "cell_type": "code",
   "execution_count": null,
   "source": [
    "d['title_words'] = title_words\n",
    "d['asr_words'] = asr_words"
   ],
   "outputs": [],
   "metadata": {}
  },
  {
   "cell_type": "code",
   "execution_count": null,
   "source": [
    "d.title_words.describe([.5,.9,.99,.999])"
   ],
   "outputs": [],
   "metadata": {}
  },
  {
   "cell_type": "code",
   "execution_count": null,
   "source": [
    "d.asr_words.describe([.5,.9,.99,.999])"
   ],
   "outputs": [],
   "metadata": {}
  },
  {
   "cell_type": "code",
   "execution_count": null,
   "source": [
    "def gen_w2v(window=32, min_count=1, emb_dim=256):\n",
    "  sentences = []\n",
    "  for row in tqdm(d.itertuples(), total=len(d)):\n",
    "    row = row._asdict()\n",
    "    l = ['[CLS]', *sp.encode(str(row['title']), out_type=str), '[SEP]', *sp.encode(str(row['asr_text']), out_type=str), '[SEP]']\n",
    "    sentences.append(l)\n",
    "  ic(len(sentences))\n",
    "  name = 'word'\n",
    "  monitor = gezi.MonitorCallback(name) \n",
    "  w2v = Word2Vec(sentences, vector_size=emb_dim, window=window, min_count=min_count, sg=1, workers=mp.cpu_count(), epochs=10, callbacks=[monitor])\n",
    "  ofile = f'../input/w2v/sp/{emb_dim}/{name}.pkl'\n",
    "  gezi.try_mkdir(os.path.dirname(ofile))\n",
    "  gezi.save_pickle(w2v, ofile)\n",
    "  for name in vocabs:\n",
    "    vocab = vocabs[name]\n",
    "    # emb = np.zeros([vocab.size(), emb_dim])\n",
    "    emb = np.random.uniform(-0.05, 0.05,(vocab.size(), emb_dim))\n",
    "    for i in range(vocab.size()):\n",
    "      word = vocab.key(i) \n",
    "      if word in w2v.wv:\n",
    "        emb[i] = w2v.wv[word]\n",
    "    ofile = f'../input/w2v/sp/{emb_dim}/{name}.npy'\n",
    "    np.save(ofile, emb)\n",
    "  \n",
    "  return w2v"
   ],
   "outputs": [],
   "metadata": {}
  },
  {
   "cell_type": "code",
   "execution_count": 47,
   "source": [
    "# gen_w2v(emb_dim=256)"
   ],
   "outputs": [],
   "metadata": {}
  },
  {
   "cell_type": "code",
   "execution_count": null,
   "source": [
    "# gen_w2v(emb_dim=512)"
   ],
   "outputs": [],
   "metadata": {}
  },
  {
   "cell_type": "code",
   "execution_count": null,
   "source": [
    "gen_w2v(emb_dim=768)"
   ],
   "outputs": [],
   "metadata": {}
  }
 ],
 "metadata": {
  "orig_nbformat": 4,
  "language_info": {
   "name": "python",
   "version": "3.9.6",
   "mimetype": "text/x-python",
   "codemirror_mode": {
    "name": "ipython",
    "version": 3
   },
   "pygments_lexer": "ipython3",
   "nbconvert_exporter": "python",
   "file_extension": ".py"
  },
  "kernelspec": {
   "name": "python3",
   "display_name": "Python 3.9.6 64-bit (conda)"
  },
  "interpreter": {
   "hash": "4a3b8e604c89dd738b73f629e47065937bc949a9033b2f0d810af4f206605dd3"
  }
 },
 "nbformat": 4,
 "nbformat_minor": 2
}