{
 "cells": [
  {
   "cell_type": "code",
   "execution_count": 1,
   "source": [
    "import sys, os \n",
    "sys.path.append('..')\n",
    "sys.path.append('../../../../utils')\n",
    "sys.path.append('../../../../third')\n",
    "import glob\n",
    "import pandas as pd\n",
    "import matplotlib.pyplot as plt\n",
    "from collections import Counter\n",
    "plt.rcParams['font.sans-serif'] = ['SimHei']  # 用来正常显示中文标签\n",
    "plt.rcParams['axes.unicode_minus'] = False  # 用来正常显示负号\n",
    "import gezi\n",
    "from gezi import tqdm"
   ],
   "outputs": [
    {
     "output_type": "stream",
     "name": "stderr",
     "text": [
      "2021-10-11 15:33:30.065837: I tensorflow/stream_executor/platform/default/dso_loader.cc:53] Successfully opened dynamic library libcudart.so.11.0\n"
     ]
    }
   ],
   "metadata": {}
  },
  {
   "cell_type": "code",
   "execution_count": null,
   "source": [],
   "outputs": [],
   "metadata": {}
  },
  {
   "cell_type": "code",
   "execution_count": 2,
   "source": [
    "%%html\n",
    "<style>\n",
    ".output_wrapper, .output {\n",
    "    height:auto !important;\n",
    "    max-height:10000px;  /* your desired max-height here */\n",
    "}\n",
    ".output_scroll {\n",
    "    box-shadow:none !important;\n",
    "    webkit-box-shadow:none !important;\n",
    "}\n",
    "</style>"
   ],
   "outputs": [
    {
     "output_type": "display_data",
     "data": {
      "text/html": [
       "<style>\n",
       ".output_wrapper, .output {\n",
       "    height:auto !important;\n",
       "    max-height:10000px;  /* your desired max-height here */\n",
       "}\n",
       ".output_scroll {\n",
       "    box-shadow:none !important;\n",
       "    webkit-box-shadow:none !important;\n",
       "}\n",
       "</style>\n"
      ],
      "text/plain": [
       "<IPython.core.display.HTML object>"
      ]
     },
     "metadata": {}
    }
   ],
   "metadata": {}
  },
  {
   "cell_type": "code",
   "execution_count": 5,
   "source": [
    "infos = pd.read_csv('../input/infos.csv')\n",
    "infos['asr_text'] = infos.asr_text.fillna(value='')\n",
    "infos['category_id'] = infos.category_id.fillna(value=-1)\n",
    "infos['cat'] = infos.cat.fillna(value=-1)\n",
    "infos['subcat'] = infos.subcat.fillna(value=-1)\n",
    "infos['tag_id'] = infos.tag_id.fillna(value='')\n",
    "infos.category_id = infos.category_id.astype(int)\n",
    "infos.cat = infos.cat.astype(int)\n",
    "infos.subcat = infos.subcat.astype(int)\n",
    "infos = infos.set_index('id')\n",
    "info = pd.read_csv('../input/info.csv')\n",
    "info['subject'] = info.subject.fillna(value=-1)\n",
    "info['subject'] = info.subject.astype(int)\n",
    "info['tags'] = info.tags.fillna(value='')\n",
    "info['tag_weights'] = info.tag_weights.fillna(value='')\n",
    "info = info.set_index('id')"
   ],
   "outputs": [],
   "metadata": {}
  },
  {
   "cell_type": "code",
   "execution_count": 6,
   "source": [
    "def sort_tags(tags, tag_weights):\n",
    "  try:\n",
    "    tags = tags.split(',')\n",
    "    tag_weights = [float(x) for x in tag_weights.split(',')]\n",
    "  except Exception:\n",
    "    tags = []\n",
    "    tag_weights = []\n",
    "\n",
    "  if tags:\n",
    "    l = zip(tags, tag_weights)\n",
    "    l = sorted(l, key=lambda x: -x[1])\n",
    "    tags, tag_weights = zip(*l)\n",
    "    tags = ','.join(tags)\n",
    "    tag_weights = ','.join([str(x) for x in tag_weights])\n",
    "    return tags, tag_weights\n",
    "  else:\n",
    "    return '', ''"
   ],
   "outputs": [],
   "metadata": {}
  },
  {
   "cell_type": "code",
   "execution_count": 10,
   "source": [
    "tags_list, tag_weights_list = [], []\n",
    "for row in tqdm(info.itertuples(), total=len(info)):\n",
    "  x, y = sort_tags(row.tags, row.tag_weights)\n",
    "  tags_list.append(x)\n",
    "  tag_weights_list.append(y)\n",
    "info['tags'], info['tag_weights'] = tags_list, tag_weights_list"
   ],
   "outputs": [
    {
     "output_type": "display_data",
     "data": {
      "application/vnd.jupyter.widget-view+json": {
       "version_major": 2,
       "version_minor": 0,
       "model_id": "e809062d74384c0f8a8686707afdef20"
      },
      "text/plain": [
       "  0%|          | 0/895233 [00:00<?, ?it/s]"
      ]
     },
     "metadata": {}
    }
   ],
   "metadata": {}
  },
  {
   "cell_type": "code",
   "execution_count": null,
   "source": [
    "!mkdir -p ../input/info"
   ],
   "outputs": [],
   "metadata": {}
  },
  {
   "cell_type": "code",
   "execution_count": 11,
   "source": [
    "infos.to_csv('../input/info/infos.csv')"
   ],
   "outputs": [],
   "metadata": {}
  },
  {
   "cell_type": "code",
   "execution_count": 12,
   "source": [
    "info.to_csv('../input/info/info.csv')"
   ],
   "outputs": [],
   "metadata": {}
  },
  {
   "cell_type": "code",
   "execution_count": 13,
   "source": [
    "infos"
   ],
   "outputs": [
    {
     "output_type": "execute_result",
     "data": {
      "text/html": [
       "<div>\n",
       "<style scoped>\n",
       "    .dataframe tbody tr th:only-of-type {\n",
       "        vertical-align: middle;\n",
       "    }\n",
       "\n",
       "    .dataframe tbody tr th {\n",
       "        vertical-align: top;\n",
       "    }\n",
       "\n",
       "    .dataframe thead th {\n",
       "        text-align: right;\n",
       "    }\n",
       "</style>\n",
       "<table border=\"1\" class=\"dataframe\">\n",
       "  <thead>\n",
       "    <tr style=\"text-align: right;\">\n",
       "      <th></th>\n",
       "      <th>category_id</th>\n",
       "      <th>cat</th>\n",
       "      <th>subcat</th>\n",
       "      <th>tag_id</th>\n",
       "      <th>title</th>\n",
       "      <th>asr_text</th>\n",
       "    </tr>\n",
       "    <tr>\n",
       "      <th>id</th>\n",
       "      <th></th>\n",
       "      <th></th>\n",
       "      <th></th>\n",
       "      <th></th>\n",
       "      <th></th>\n",
       "      <th></th>\n",
       "    </tr>\n",
       "  </thead>\n",
       "  <tbody>\n",
       "    <tr>\n",
       "      <th>8181862433864400302</th>\n",
       "      <td>10804</td>\n",
       "      <td>108</td>\n",
       "      <td>4</td>\n",
       "      <td>55848798,800002360,593341,55744355,55859481,55...</td>\n",
       "      <td>我只不过跳了跳舞，结果光子实在太狠了</td>\n",
       "      <td></td>\n",
       "    </tr>\n",
       "    <tr>\n",
       "      <th>4155641279071878522</th>\n",
       "      <td>10401</td>\n",
       "      <td>104</td>\n",
       "      <td>1</td>\n",
       "      <td>286226,101389,800000950,9504442,9820430</td>\n",
       "      <td>这么可爱的小姐姐，太搞怪了</td>\n",
       "      <td>邢飞真的是太能搞怪了，跟粉丝的速度一点都不装特别的，真就是喜欢这么正的女孩，你们是不是跟你一...</td>\n",
       "    </tr>\n",
       "    <tr>\n",
       "      <th>6281338907679991214</th>\n",
       "      <td>10501</td>\n",
       "      <td>105</td>\n",
       "      <td>1</td>\n",
       "      <td>56080717,4093463,41614380,224444,101461,560840...</td>\n",
       "      <td>最近超级火的歌曲《冬眠》，美女唱得很不赖，绝对是实力派</td>\n",
       "      <td>你听。热车吗？你听着他说着你的。只上了赌注你。拍女生。啊。都要。的总结到位深。你替他掩饰着粽...</td>\n",
       "    </tr>\n",
       "    <tr>\n",
       "      <th>8506122561779211694</th>\n",
       "      <td>11604</td>\n",
       "      <td>116</td>\n",
       "      <td>4</td>\n",
       "      <td>530228,3326413</td>\n",
       "      <td>下地干农活无意间拍下这一幕，这是什么东西，吓我一跳</td>\n",
       "      <td>一样。会落实。隆隆天空。给个反应。</td>\n",
       "    </tr>\n",
       "    <tr>\n",
       "      <th>4696077578276769146</th>\n",
       "      <td>10012</td>\n",
       "      <td>100</td>\n",
       "      <td>12</td>\n",
       "      <td>101334,102376,800000171,10115859</td>\n",
       "      <td>和女儿们一块玩游戏，把她俩给骗了，她们却玩的很开心</td>\n",
       "      <td>你想。样子。认真在。让魔王魔王。是谁。</td>\n",
       "    </tr>\n",
       "    <tr>\n",
       "      <th>...</th>\n",
       "      <td>...</td>\n",
       "      <td>...</td>\n",
       "      <td>...</td>\n",
       "      <td>...</td>\n",
       "      <td>...</td>\n",
       "      <td>...</td>\n",
       "    </tr>\n",
       "    <tr>\n",
       "      <th>7686483864890713518</th>\n",
       "      <td>-1</td>\n",
       "      <td>-1</td>\n",
       "      <td>-1</td>\n",
       "      <td></td>\n",
       "      <td>歌声绕耳边，余音不绝，意犹未尽，碰上绝不放过</td>\n",
       "      <td>哎呀别回。一。爱情。你吃。生气中。出来。</td>\n",
       "    </tr>\n",
       "    <tr>\n",
       "      <th>6632640791458512250</th>\n",
       "      <td>-1</td>\n",
       "      <td>-1</td>\n",
       "      <td>-1</td>\n",
       "      <td></td>\n",
       "      <td>你现在将会成为更好的人。</td>\n",
       "      <td>有魄力的一个主人。真的，如果你是。可将家中。我啊。</td>\n",
       "    </tr>\n",
       "    <tr>\n",
       "      <th>3822388538705970554</th>\n",
       "      <td>-1</td>\n",
       "      <td>-1</td>\n",
       "      <td>-1</td>\n",
       "      <td></td>\n",
       "      <td>P图技术真是太强大了，一位普通女子，愣是拍出了模特的感觉!</td>\n",
       "      <td>None</td>\n",
       "    </tr>\n",
       "    <tr>\n",
       "      <th>8145846732705418618</th>\n",
       "      <td>-1</td>\n",
       "      <td>-1</td>\n",
       "      <td>-1</td>\n",
       "      <td></td>\n",
       "      <td>P图技术真是太强大了，一位普通女子，愣是拍出了模特的感觉!</td>\n",
       "      <td>了。</td>\n",
       "    </tr>\n",
       "    <tr>\n",
       "      <th>1948898504203558318</th>\n",
       "      <td>-1</td>\n",
       "      <td>-1</td>\n",
       "      <td>-1</td>\n",
       "      <td></td>\n",
       "      <td>每次江澄出现，蓝湛都会紧紧盯着魏婴，既怕他伤到魏婴又更怕魏婴会跟他走！</td>\n",
       "      <td>听雨的声音，一滴滴清晰你的呼吸上的时候，我的爱。你真希望雨能下不停，让下你。器。</td>\n",
       "    </tr>\n",
       "  </tbody>\n",
       "</table>\n",
       "<p>1138154 rows × 6 columns</p>\n",
       "</div>"
      ],
      "text/plain": [
       "                     category_id  cat  subcat  \\\n",
       "id                                              \n",
       "8181862433864400302        10804  108       4   \n",
       "4155641279071878522        10401  104       1   \n",
       "6281338907679991214        10501  105       1   \n",
       "8506122561779211694        11604  116       4   \n",
       "4696077578276769146        10012  100      12   \n",
       "...                          ...  ...     ...   \n",
       "7686483864890713518           -1   -1      -1   \n",
       "6632640791458512250           -1   -1      -1   \n",
       "3822388538705970554           -1   -1      -1   \n",
       "8145846732705418618           -1   -1      -1   \n",
       "1948898504203558318           -1   -1      -1   \n",
       "\n",
       "                                                                tag_id  \\\n",
       "id                                                                       \n",
       "8181862433864400302  55848798,800002360,593341,55744355,55859481,55...   \n",
       "4155641279071878522            286226,101389,800000950,9504442,9820430   \n",
       "6281338907679991214  56080717,4093463,41614380,224444,101461,560840...   \n",
       "8506122561779211694                                     530228,3326413   \n",
       "4696077578276769146                   101334,102376,800000171,10115859   \n",
       "...                                                                ...   \n",
       "7686483864890713518                                                      \n",
       "6632640791458512250                                                      \n",
       "3822388538705970554                                                      \n",
       "8145846732705418618                                                      \n",
       "1948898504203558318                                                      \n",
       "\n",
       "                                                   title  \\\n",
       "id                                                         \n",
       "8181862433864400302                   我只不过跳了跳舞，结果光子实在太狠了   \n",
       "4155641279071878522                        这么可爱的小姐姐，太搞怪了   \n",
       "6281338907679991214          最近超级火的歌曲《冬眠》，美女唱得很不赖，绝对是实力派   \n",
       "8506122561779211694            下地干农活无意间拍下这一幕，这是什么东西，吓我一跳   \n",
       "4696077578276769146            和女儿们一块玩游戏，把她俩给骗了，她们却玩的很开心   \n",
       "...                                                  ...   \n",
       "7686483864890713518               歌声绕耳边，余音不绝，意犹未尽，碰上绝不放过   \n",
       "6632640791458512250                         你现在将会成为更好的人。   \n",
       "3822388538705970554        P图技术真是太强大了，一位普通女子，愣是拍出了模特的感觉!   \n",
       "8145846732705418618        P图技术真是太强大了，一位普通女子，愣是拍出了模特的感觉!   \n",
       "1948898504203558318  每次江澄出现，蓝湛都会紧紧盯着魏婴，既怕他伤到魏婴又更怕魏婴会跟他走！   \n",
       "\n",
       "                                                              asr_text  \n",
       "id                                                                      \n",
       "8181862433864400302                                                     \n",
       "4155641279071878522  邢飞真的是太能搞怪了，跟粉丝的速度一点都不装特别的，真就是喜欢这么正的女孩，你们是不是跟你一...  \n",
       "6281338907679991214  你听。热车吗？你听着他说着你的。只上了赌注你。拍女生。啊。都要。的总结到位深。你替他掩饰着粽...  \n",
       "8506122561779211694                                  一样。会落实。隆隆天空。给个反应。  \n",
       "4696077578276769146                                你想。样子。认真在。让魔王魔王。是谁。  \n",
       "...                                                                ...  \n",
       "7686483864890713518                               哎呀别回。一。爱情。你吃。生气中。出来。  \n",
       "6632640791458512250                          有魄力的一个主人。真的，如果你是。可将家中。我啊。  \n",
       "3822388538705970554                                               None  \n",
       "8145846732705418618                                                 了。  \n",
       "1948898504203558318           听雨的声音，一滴滴清晰你的呼吸上的时候，我的爱。你真希望雨能下不停，让下你。器。  \n",
       "\n",
       "[1138154 rows x 6 columns]"
      ]
     },
     "metadata": {},
     "execution_count": 13
    }
   ],
   "metadata": {}
  },
  {
   "cell_type": "code",
   "execution_count": 14,
   "source": [
    "info"
   ],
   "outputs": [
    {
     "output_type": "execute_result",
     "data": {
      "text/html": [
       "<div>\n",
       "<style scoped>\n",
       "    .dataframe tbody tr th:only-of-type {\n",
       "        vertical-align: middle;\n",
       "    }\n",
       "\n",
       "    .dataframe tbody tr th {\n",
       "        vertical-align: top;\n",
       "    }\n",
       "\n",
       "    .dataframe thead th {\n",
       "        text-align: right;\n",
       "    }\n",
       "</style>\n",
       "<table border=\"1\" class=\"dataframe\">\n",
       "  <thead>\n",
       "    <tr style=\"text-align: right;\">\n",
       "      <th></th>\n",
       "      <th>title</th>\n",
       "      <th>tags</th>\n",
       "      <th>tag_weights</th>\n",
       "      <th>imageUrl</th>\n",
       "      <th>mediaName</th>\n",
       "      <th>subject</th>\n",
       "      <th>type</th>\n",
       "      <th>totalTime</th>\n",
       "    </tr>\n",
       "    <tr>\n",
       "      <th>id</th>\n",
       "      <th></th>\n",
       "      <th></th>\n",
       "      <th></th>\n",
       "      <th></th>\n",
       "      <th></th>\n",
       "      <th></th>\n",
       "      <th></th>\n",
       "      <th></th>\n",
       "    </tr>\n",
       "  </thead>\n",
       "  <tbody>\n",
       "    <tr>\n",
       "      <th>723898876085796218</th>\n",
       "      <td>好吃，就是好吃。</td>\n",
       "      <td>农村生活,西红柿,生活随拍</td>\n",
       "      <td>0.800000011920929,0.800000011920929,0.80000001...</td>\n",
       "      <td>http://puui.qpic.cn/qqvideo/0/q0935h1vvp4/0</td>\n",
       "      <td>村长四哥</td>\n",
       "      <td>143</td>\n",
       "      <td>16</td>\n",
       "      <td>21</td>\n",
       "    </tr>\n",
       "    <tr>\n",
       "      <th>5912045860890211758</th>\n",
       "      <td>帮公婆地里种葱，我种的可还行</td>\n",
       "      <td>公婆,农村生活,普通女,务农,生活随拍,美女</td>\n",
       "      <td>0.9613615870475769,0.800000011920929,0.8000000...</td>\n",
       "      <td>http://puui.qpic.cn/qqvideo/0/g0936a8p5d7/0</td>\n",
       "      <td>零点大剧</td>\n",
       "      <td>143</td>\n",
       "      <td>16</td>\n",
       "      <td>15</td>\n",
       "    </tr>\n",
       "    <tr>\n",
       "      <th>2210085477637590446</th>\n",
       "      <td>看来这装车的师傅，可不是一般人啊</td>\n",
       "      <td>生活随拍,公路,汽车,师傅</td>\n",
       "      <td>0.800000011920929,0.800000011920929,0.80000001...</td>\n",
       "      <td>http://puui.qpic.cn/qqvideo/0/t0931xflmdy/0</td>\n",
       "      <td>我的键盘世界</td>\n",
       "      <td>143</td>\n",
       "      <td>16</td>\n",
       "      <td>9</td>\n",
       "    </tr>\n",
       "    <tr>\n",
       "      <th>3020735820005709230</th>\n",
       "      <td>大哥发明的新吃法，小妹没见过世面，赶紧给她展示一下！</td>\n",
       "      <td>吃播,中国吃播,吃货,布丁</td>\n",
       "      <td>0.800000011920929,0.800000011920929,0.80000001...</td>\n",
       "      <td>http://puui.qpic.cn/qqvideo/0/r0939vf5es2/0</td>\n",
       "      <td>许桂芳爱美丽</td>\n",
       "      <td>118</td>\n",
       "      <td>22</td>\n",
       "      <td>11</td>\n",
       "    </tr>\n",
       "    <tr>\n",
       "      <th>7902640677051000238</th>\n",
       "      <td>真是万物皆有灵，这鹿竟如此懂礼，涨姿势啦！</td>\n",
       "      <td>涨姿势,万物,梅花鹿,动物园,人与动物,动物喂食</td>\n",
       "      <td>0.9985171556472778,0.9767915606498718,0.800000...</td>\n",
       "      <td>http://puui.qpic.cn/qqvideo/0/a09474mo3ok/0</td>\n",
       "      <td>逗比小熊熊</td>\n",
       "      <td>12200</td>\n",
       "      <td>17</td>\n",
       "      <td>9</td>\n",
       "    </tr>\n",
       "    <tr>\n",
       "      <th>...</th>\n",
       "      <td>...</td>\n",
       "      <td>...</td>\n",
       "      <td>...</td>\n",
       "      <td>...</td>\n",
       "      <td>...</td>\n",
       "      <td>...</td>\n",
       "      <td>...</td>\n",
       "      <td>...</td>\n",
       "    </tr>\n",
       "    <tr>\n",
       "      <th>201487494505098670</th>\n",
       "      <td>切个蛋糕还要用手捂着，都已经四分五裂了，还怕它留流血吗？</td>\n",
       "      <td>西式甜点,面包,美食造型</td>\n",
       "      <td>0.800000011920929,0.800000011920929,0.80000001...</td>\n",
       "      <td>http://puui.qpic.cn/qqvideo/0/n0954ae2tt4/0</td>\n",
       "      <td>大策精彩视觉分享</td>\n",
       "      <td>11806</td>\n",
       "      <td>22</td>\n",
       "      <td>12</td>\n",
       "    </tr>\n",
       "    <tr>\n",
       "      <th>2831586096452244858</th>\n",
       "      <td>带你旅行。这才是“灯红酒绿”，这视角看真的是太壮观了！</td>\n",
       "      <td>古城,夜景,建筑景观,灯光秀,旅途见闻,航拍</td>\n",
       "      <td>0.800000011920929,0.800000011920929,0.80000001...</td>\n",
       "      <td>http://puui.qpic.cn/qqvideo/0/l09434x4x9e/0</td>\n",
       "      <td>阿碧爱美丽</td>\n",
       "      <td>12901</td>\n",
       "      <td>33</td>\n",
       "      <td>18</td>\n",
       "    </tr>\n",
       "    <tr>\n",
       "      <th>1768731488054367662</th>\n",
       "      <td>美国小学生唱中文歌，为武汉加油我喜欢中国，不想他们生病</td>\n",
       "      <td>武汉,萌宝,才艺表演,萌娃翻唱,国外萌娃</td>\n",
       "      <td>0.9522409439086914,0.800000011920929,0.8000000...</td>\n",
       "      <td>http://puui.qpic.cn/qqvideo/0/g3076ka9mla/0</td>\n",
       "      <td>大勇大智慧</td>\n",
       "      <td>1421701</td>\n",
       "      <td>17</td>\n",
       "      <td>10</td>\n",
       "    </tr>\n",
       "    <tr>\n",
       "      <th>5074376296330618286</th>\n",
       "      <td>真实的大货车女司机的生活，趁着堵车时间休息会儿，真是辛苦</td>\n",
       "      <td>堵车,女司机,货车,美女,大货车</td>\n",
       "      <td>0.973323404788971,0.800000011920929,0.80000001...</td>\n",
       "      <td>http://puui.qpic.cn/qqvideo/0/l0936vcoah7/0</td>\n",
       "      <td>泪花的飘漂</td>\n",
       "      <td>11604001</td>\n",
       "      <td>16</td>\n",
       "      <td>18</td>\n",
       "    </tr>\n",
       "    <tr>\n",
       "      <th>2732506735758617978</th>\n",
       "      <td>绝地走位之王遇到了我，可惜这身法了</td>\n",
       "      <td>走位,和平精英,军事题材,射击游戏,生存游戏,海岛地图,达人解说,压枪神技</td>\n",
       "      <td>0.9746045470237732,0.800000011920929,0.8000000...</td>\n",
       "      <td>http://puui.qpic.cn/qqvideo/0/g0943x8cqgs/0</td>\n",
       "      <td>爆笑大头</td>\n",
       "      <td>1144708</td>\n",
       "      <td>13</td>\n",
       "      <td>21</td>\n",
       "    </tr>\n",
       "  </tbody>\n",
       "</table>\n",
       "<p>895233 rows × 8 columns</p>\n",
       "</div>"
      ],
      "text/plain": [
       "                                            title  \\\n",
       "id                                                  \n",
       "723898876085796218                       好吃，就是好吃。   \n",
       "5912045860890211758                帮公婆地里种葱，我种的可还行   \n",
       "2210085477637590446              看来这装车的师傅，可不是一般人啊   \n",
       "3020735820005709230    大哥发明的新吃法，小妹没见过世面，赶紧给她展示一下！   \n",
       "7902640677051000238         真是万物皆有灵，这鹿竟如此懂礼，涨姿势啦！   \n",
       "...                                           ...   \n",
       "201487494505098670   切个蛋糕还要用手捂着，都已经四分五裂了，还怕它留流血吗？   \n",
       "2831586096452244858   带你旅行。这才是“灯红酒绿”，这视角看真的是太壮观了！   \n",
       "1768731488054367662   美国小学生唱中文歌，为武汉加油我喜欢中国，不想他们生病   \n",
       "5074376296330618286  真实的大货车女司机的生活，趁着堵车时间休息会儿，真是辛苦   \n",
       "2732506735758617978             绝地走位之王遇到了我，可惜这身法了   \n",
       "\n",
       "                                                      tags  \\\n",
       "id                                                           \n",
       "723898876085796218                           农村生活,西红柿,生活随拍   \n",
       "5912045860890211758                 公婆,农村生活,普通女,务农,生活随拍,美女   \n",
       "2210085477637590446                          生活随拍,公路,汽车,师傅   \n",
       "3020735820005709230                          吃播,中国吃播,吃货,布丁   \n",
       "7902640677051000238               涨姿势,万物,梅花鹿,动物园,人与动物,动物喂食   \n",
       "...                                                    ...   \n",
       "201487494505098670                            西式甜点,面包,美食造型   \n",
       "2831586096452244858                 古城,夜景,建筑景观,灯光秀,旅途见闻,航拍   \n",
       "1768731488054367662                   武汉,萌宝,才艺表演,萌娃翻唱,国外萌娃   \n",
       "5074376296330618286                       堵车,女司机,货车,美女,大货车   \n",
       "2732506735758617978  走位,和平精英,军事题材,射击游戏,生存游戏,海岛地图,达人解说,压枪神技   \n",
       "\n",
       "                                                           tag_weights  \\\n",
       "id                                                                       \n",
       "723898876085796218   0.800000011920929,0.800000011920929,0.80000001...   \n",
       "5912045860890211758  0.9613615870475769,0.800000011920929,0.8000000...   \n",
       "2210085477637590446  0.800000011920929,0.800000011920929,0.80000001...   \n",
       "3020735820005709230  0.800000011920929,0.800000011920929,0.80000001...   \n",
       "7902640677051000238  0.9985171556472778,0.9767915606498718,0.800000...   \n",
       "...                                                                ...   \n",
       "201487494505098670   0.800000011920929,0.800000011920929,0.80000001...   \n",
       "2831586096452244858  0.800000011920929,0.800000011920929,0.80000001...   \n",
       "1768731488054367662  0.9522409439086914,0.800000011920929,0.8000000...   \n",
       "5074376296330618286  0.973323404788971,0.800000011920929,0.80000001...   \n",
       "2732506735758617978  0.9746045470237732,0.800000011920929,0.8000000...   \n",
       "\n",
       "                                                        imageUrl mediaName  \\\n",
       "id                                                                           \n",
       "723898876085796218   http://puui.qpic.cn/qqvideo/0/q0935h1vvp4/0      村长四哥   \n",
       "5912045860890211758  http://puui.qpic.cn/qqvideo/0/g0936a8p5d7/0      零点大剧   \n",
       "2210085477637590446  http://puui.qpic.cn/qqvideo/0/t0931xflmdy/0    我的键盘世界   \n",
       "3020735820005709230  http://puui.qpic.cn/qqvideo/0/r0939vf5es2/0    许桂芳爱美丽   \n",
       "7902640677051000238  http://puui.qpic.cn/qqvideo/0/a09474mo3ok/0     逗比小熊熊   \n",
       "...                                                          ...       ...   \n",
       "201487494505098670   http://puui.qpic.cn/qqvideo/0/n0954ae2tt4/0  大策精彩视觉分享   \n",
       "2831586096452244858  http://puui.qpic.cn/qqvideo/0/l09434x4x9e/0     阿碧爱美丽   \n",
       "1768731488054367662  http://puui.qpic.cn/qqvideo/0/g3076ka9mla/0     大勇大智慧   \n",
       "5074376296330618286  http://puui.qpic.cn/qqvideo/0/l0936vcoah7/0     泪花的飘漂   \n",
       "2732506735758617978  http://puui.qpic.cn/qqvideo/0/g0943x8cqgs/0      爆笑大头   \n",
       "\n",
       "                      subject  type  totalTime  \n",
       "id                                              \n",
       "723898876085796218        143    16         21  \n",
       "5912045860890211758       143    16         15  \n",
       "2210085477637590446       143    16          9  \n",
       "3020735820005709230       118    22         11  \n",
       "7902640677051000238     12200    17          9  \n",
       "...                       ...   ...        ...  \n",
       "201487494505098670      11806    22         12  \n",
       "2831586096452244858     12901    33         18  \n",
       "1768731488054367662   1421701    17         10  \n",
       "5074376296330618286  11604001    16         18  \n",
       "2732506735758617978   1144708    13         21  \n",
       "\n",
       "[895233 rows x 8 columns]"
      ]
     },
     "metadata": {},
     "execution_count": 14
    }
   ],
   "metadata": {}
  },
  {
   "cell_type": "code",
   "execution_count": 11,
   "source": [
    "infos.title.map(len).describe(percentiles=[.25,.5,.75,.99]).apply(lambda x: format(x, 'f'))"
   ],
   "outputs": [
    {
     "output_type": "execute_result",
     "data": {
      "text/plain": [
       "count    1095127.000000\n",
       "mean          18.745051\n",
       "std            7.177088\n",
       "min            1.000000\n",
       "25%           13.000000\n",
       "50%           19.000000\n",
       "75%           24.000000\n",
       "99%           34.000000\n",
       "max           60.000000\n",
       "Name: title, dtype: object"
      ]
     },
     "metadata": {},
     "execution_count": 11
    }
   ],
   "metadata": {}
  },
  {
   "cell_type": "code",
   "execution_count": 12,
   "source": [
    "infos.asr_text.map(len).describe(percentiles=[.25,.5,.75,.99]).apply(lambda x: format(x, 'f'))"
   ],
   "outputs": [
    {
     "output_type": "execute_result",
     "data": {
      "text/plain": [
       "count    1095127.000000\n",
       "mean          40.643025\n",
       "std           53.172175\n",
       "min            0.000000\n",
       "25%            8.000000\n",
       "50%           23.000000\n",
       "75%           51.000000\n",
       "99%          257.000000\n",
       "max         3373.000000\n",
       "Name: asr_text, dtype: object"
      ]
     },
     "metadata": {},
     "execution_count": 12
    }
   ],
   "metadata": {}
  },
  {
   "cell_type": "code",
   "execution_count": 13,
   "source": [
    "infos.tag_id.map(lambda x: len(x.split(','))).describe(percentiles=[.25,.5,.75,.99]).apply(lambda x: format(x, 'f'))"
   ],
   "outputs": [
    {
     "output_type": "execute_result",
     "data": {
      "text/plain": [
       "count    1095127.000000\n",
       "mean           4.762703\n",
       "std            2.341799\n",
       "min            1.000000\n",
       "25%            3.000000\n",
       "50%            4.000000\n",
       "75%            6.000000\n",
       "99%           12.000000\n",
       "max           29.000000\n",
       "Name: tag_id, dtype: object"
      ]
     },
     "metadata": {},
     "execution_count": 13
    }
   ],
   "metadata": {}
  },
  {
   "cell_type": "code",
   "execution_count": 14,
   "source": [
    "id = 723898876085796218"
   ],
   "outputs": [],
   "metadata": {}
  },
  {
   "cell_type": "code",
   "execution_count": 15,
   "source": [
    "infos.loc[id]"
   ],
   "outputs": [
    {
     "output_type": "execute_result",
     "data": {
      "text/plain": [
       "category_id                            11604\n",
       "cat                                      116\n",
       "subcat                                     4\n",
       "tag_id                 530228,274383,3326413\n",
       "title                               好吃，就是好吃。\n",
       "asr_text       贡献。过亲亲。替你背。共虾米。我亲亲。我只在乎。西。东西。\n",
       "Name: 723898876085796218, dtype: object"
      ]
     },
     "metadata": {},
     "execution_count": 15
    }
   ],
   "metadata": {}
  },
  {
   "cell_type": "code",
   "execution_count": 16,
   "source": [
    "info.loc[id]"
   ],
   "outputs": [
    {
     "output_type": "execute_result",
     "data": {
      "text/plain": [
       "title                                                   好吃，就是好吃。\n",
       "tags                                               农村生活,西红柿,生活随拍\n",
       "tag_weights    0.800000011920929,0.800000011920929,0.80000001...\n",
       "imageUrl             http://puui.qpic.cn/qqvideo/0/q0935h1vvp4/0\n",
       "mediaName                                                   村长四哥\n",
       "subject                                                      143\n",
       "type                                                          16\n",
       "totalTime                                                     21\n",
       "Name: 723898876085796218, dtype: object"
      ]
     },
     "metadata": {},
     "execution_count": 16
    }
   ],
   "metadata": {}
  },
  {
   "cell_type": "code",
   "execution_count": 17,
   "source": [
    "info.index"
   ],
   "outputs": [
    {
     "output_type": "execute_result",
     "data": {
      "text/plain": [
       "Int64Index([ 723898876085796218, 5912045860890211758, 2210085477637590446,\n",
       "            3020735820005709230, 7902640677051000238, 1552568290114667950,\n",
       "            1048160058328874362, 7082983978233490810, 2489314311413319034,\n",
       "            1921864700827841966,\n",
       "            ...\n",
       "            1525547328732644782, 1561568484850648442,  579782993396030842,\n",
       "            1246322464964763054, 4633028643788596654,  201487494505098670,\n",
       "            2831586096452244858, 1768731488054367662, 5074376296330618286,\n",
       "            2732506735758617978],\n",
       "           dtype='int64', name='id', length=895233)"
      ]
     },
     "metadata": {},
     "execution_count": 17
    }
   ],
   "metadata": {}
  },
  {
   "cell_type": "code",
   "execution_count": 18,
   "source": [
    "# info.loc[1234566]"
   ],
   "outputs": [],
   "metadata": {}
  },
  {
   "cell_type": "code",
   "execution_count": 19,
   "source": [
    "tag_names = {}\n",
    "for row in tqdm(infos.itertuples(), total=len(infos)):\n",
    "  id = row.Index\n",
    "  try:\n",
    "    tag_ids = [int(x) for x in row.tag_id.split(',') if x]\n",
    "  except Exception:\n",
    "    # print(row.tag_id)\n",
    "    continue\n",
    "  for tag_id in tag_ids:\n",
    "    if tag_id not in tag_names:\n",
    "      tag_names[tag_id] = Counter()\n",
    "    else:\n",
    "      if id in info.index:\n",
    "        row_ = info.loc[id]\n",
    "        tags = row_.tags.split(',')\n",
    "        for tag in tags:\n",
    "          tag_names[tag_id][tag] += 1"
   ],
   "outputs": [
    {
     "output_type": "display_data",
     "data": {
      "application/vnd.jupyter.widget-view+json": {
       "version_major": 2,
       "version_minor": 0,
       "model_id": "07ec0a92896c4fd8b0980d0ca53dcc2a"
      },
      "text/plain": [
       "  0%|          | 0/1095127 [00:00<?, ?it/s]"
      ]
     },
     "metadata": {}
    }
   ],
   "metadata": {}
  },
  {
   "cell_type": "code",
   "execution_count": 21,
   "source": [
    "gezi.save_pickle(tag_names, '../input/tag_names.pkl')"
   ],
   "outputs": [],
   "metadata": {}
  },
  {
   "cell_type": "code",
   "execution_count": 22,
   "source": [
    "with open('../input/tag_names.txt', 'w') as f:  \n",
    "  for tag in tqdm(tag_names):\n",
    "    print(tag, tag_names[tag].most_common(3), file=f)"
   ],
   "outputs": [
    {
     "output_type": "display_data",
     "data": {
      "application/vnd.jupyter.widget-view+json": {
       "version_major": 2,
       "version_minor": 0,
       "model_id": "ce5bf73ea63a4fd1a84b5a3591fcc8c2"
      },
      "text/plain": [
       "  0%|          | 0/64903 [00:00<?, ?it/s]"
      ]
     },
     "metadata": {}
    }
   ],
   "metadata": {}
  },
  {
   "cell_type": "code",
   "execution_count": 23,
   "source": [
    "!head ../input/tag_names.txt"
   ],
   "outputs": [
    {
     "output_type": "stream",
     "name": "stdout",
     "text": [
      "541241 [('搞笑剧', 57767), ('反转剧', 56841), ('家庭剧', 22471)]\n",
      "392019 [('搞笑剧', 57527), ('反转剧', 56863), ('家庭剧', 22392)]\n",
      "3486458 [('反转', 13356), ('逗比', 5300), ('表演秀', 4946)]\n",
      "55754035 [('唐唐的烦恼生活', 157), ('搞笑段子', 144), ('搞笑动画', 143)]\n",
      "5744626 [('搞笑段子', 5382), ('反转', 3833), ('搞笑聊天记录', 2347)]\n",
      "497523 [('搞笑动画', 1694), ('搞笑段子', 1526), ('反转', 1265)]\n",
      "3667405 [('方世玉续集', 1), ('方世玉', 1), ('郭蔼明', 1)]\n",
      "196912 [('方世玉', 5), ('香港经典电影', 5), ('香港电影', 5)]\n",
      "100800 [('李连杰', 173), ('电影片花', 98), ('香港电影', 94)]\n",
      "90582 [('方世玉续集', 1), ('方世玉', 1), ('郭蔼明', 1)]\n"
     ]
    }
   ],
   "metadata": {}
  },
  {
   "cell_type": "code",
   "execution_count": 20,
   "source": [
    "img = f'../input/imgs/{id}.jpg'\n",
    "title = f'{info.loc[id].title}\\n{info.loc[id].tags}'\n",
    "x = gezi.plot.display_images(img, title=title)\n",
    "# x = gezi.plot.display_images(img)"
   ],
   "outputs": [
    {
     "output_type": "error",
     "ename": "KeyError",
     "evalue": "3624237198855630254",
     "traceback": [
      "\u001b[0;31m---------------------------------------------------------------------------\u001b[0m",
      "\u001b[0;31mKeyError\u001b[0m                                  Traceback (most recent call last)",
      "\u001b[0;32m/work/envs/pikachu/lib/python3.9/site-packages/pandas/core/indexes/base.py\u001b[0m in \u001b[0;36mget_loc\u001b[0;34m(self, key, method, tolerance)\u001b[0m\n\u001b[1;32m   3360\u001b[0m             \u001b[0;32mtry\u001b[0m\u001b[0;34m:\u001b[0m\u001b[0;34m\u001b[0m\u001b[0;34m\u001b[0m\u001b[0m\n\u001b[0;32m-> 3361\u001b[0;31m                 \u001b[0;32mreturn\u001b[0m \u001b[0mself\u001b[0m\u001b[0;34m.\u001b[0m\u001b[0m_engine\u001b[0m\u001b[0;34m.\u001b[0m\u001b[0mget_loc\u001b[0m\u001b[0;34m(\u001b[0m\u001b[0mcasted_key\u001b[0m\u001b[0;34m)\u001b[0m\u001b[0;34m\u001b[0m\u001b[0;34m\u001b[0m\u001b[0m\n\u001b[0m\u001b[1;32m   3362\u001b[0m             \u001b[0;32mexcept\u001b[0m \u001b[0mKeyError\u001b[0m \u001b[0;32mas\u001b[0m \u001b[0merr\u001b[0m\u001b[0;34m:\u001b[0m\u001b[0;34m\u001b[0m\u001b[0;34m\u001b[0m\u001b[0m\n",
      "\u001b[0;32m/work/envs/pikachu/lib/python3.9/site-packages/pandas/_libs/index.pyx\u001b[0m in \u001b[0;36mpandas._libs.index.IndexEngine.get_loc\u001b[0;34m()\u001b[0m\n",
      "\u001b[0;32m/work/envs/pikachu/lib/python3.9/site-packages/pandas/_libs/index.pyx\u001b[0m in \u001b[0;36mpandas._libs.index.IndexEngine.get_loc\u001b[0;34m()\u001b[0m\n",
      "\u001b[0;32mpandas/_libs/hashtable_class_helper.pxi\u001b[0m in \u001b[0;36mpandas._libs.hashtable.Int64HashTable.get_item\u001b[0;34m()\u001b[0m\n",
      "\u001b[0;32mpandas/_libs/hashtable_class_helper.pxi\u001b[0m in \u001b[0;36mpandas._libs.hashtable.Int64HashTable.get_item\u001b[0;34m()\u001b[0m\n",
      "\u001b[0;31mKeyError\u001b[0m: 3624237198855630254",
      "\nThe above exception was the direct cause of the following exception:\n",
      "\u001b[0;31mKeyError\u001b[0m                                  Traceback (most recent call last)",
      "\u001b[0;32m/tmp/ipykernel_28788/3161569280.py\u001b[0m in \u001b[0;36m<module>\u001b[0;34m\u001b[0m\n\u001b[1;32m      1\u001b[0m \u001b[0mimg\u001b[0m \u001b[0;34m=\u001b[0m \u001b[0;34mf'../input/imgs/{id}.jpg'\u001b[0m\u001b[0;34m\u001b[0m\u001b[0;34m\u001b[0m\u001b[0m\n\u001b[0;32m----> 2\u001b[0;31m \u001b[0mtitle\u001b[0m \u001b[0;34m=\u001b[0m \u001b[0;34mf'{info.loc[id].title}\\n{info.loc[id].tags}'\u001b[0m\u001b[0;34m\u001b[0m\u001b[0;34m\u001b[0m\u001b[0m\n\u001b[0m\u001b[1;32m      3\u001b[0m \u001b[0mx\u001b[0m \u001b[0;34m=\u001b[0m \u001b[0mgezi\u001b[0m\u001b[0;34m.\u001b[0m\u001b[0mplot\u001b[0m\u001b[0;34m.\u001b[0m\u001b[0mdisplay_images\u001b[0m\u001b[0;34m(\u001b[0m\u001b[0mimg\u001b[0m\u001b[0;34m,\u001b[0m \u001b[0mtitle\u001b[0m\u001b[0;34m=\u001b[0m\u001b[0mtitle\u001b[0m\u001b[0;34m)\u001b[0m\u001b[0;34m\u001b[0m\u001b[0;34m\u001b[0m\u001b[0m\n\u001b[1;32m      4\u001b[0m \u001b[0;31m# x = gezi.plot.display_images(img)\u001b[0m\u001b[0;34m\u001b[0m\u001b[0;34m\u001b[0m\u001b[0;34m\u001b[0m\u001b[0m\n",
      "\u001b[0;32m/work/envs/pikachu/lib/python3.9/site-packages/pandas/core/indexing.py\u001b[0m in \u001b[0;36m__getitem__\u001b[0;34m(self, key)\u001b[0m\n\u001b[1;32m    929\u001b[0m \u001b[0;34m\u001b[0m\u001b[0m\n\u001b[1;32m    930\u001b[0m             \u001b[0mmaybe_callable\u001b[0m \u001b[0;34m=\u001b[0m \u001b[0mcom\u001b[0m\u001b[0;34m.\u001b[0m\u001b[0mapply_if_callable\u001b[0m\u001b[0;34m(\u001b[0m\u001b[0mkey\u001b[0m\u001b[0;34m,\u001b[0m \u001b[0mself\u001b[0m\u001b[0;34m.\u001b[0m\u001b[0mobj\u001b[0m\u001b[0;34m)\u001b[0m\u001b[0;34m\u001b[0m\u001b[0;34m\u001b[0m\u001b[0m\n\u001b[0;32m--> 931\u001b[0;31m             \u001b[0;32mreturn\u001b[0m \u001b[0mself\u001b[0m\u001b[0;34m.\u001b[0m\u001b[0m_getitem_axis\u001b[0m\u001b[0;34m(\u001b[0m\u001b[0mmaybe_callable\u001b[0m\u001b[0;34m,\u001b[0m \u001b[0maxis\u001b[0m\u001b[0;34m=\u001b[0m\u001b[0maxis\u001b[0m\u001b[0;34m)\u001b[0m\u001b[0;34m\u001b[0m\u001b[0;34m\u001b[0m\u001b[0m\n\u001b[0m\u001b[1;32m    932\u001b[0m \u001b[0;34m\u001b[0m\u001b[0m\n\u001b[1;32m    933\u001b[0m     \u001b[0;32mdef\u001b[0m \u001b[0m_is_scalar_access\u001b[0m\u001b[0;34m(\u001b[0m\u001b[0mself\u001b[0m\u001b[0;34m,\u001b[0m \u001b[0mkey\u001b[0m\u001b[0;34m:\u001b[0m \u001b[0mtuple\u001b[0m\u001b[0;34m)\u001b[0m\u001b[0;34m:\u001b[0m\u001b[0;34m\u001b[0m\u001b[0;34m\u001b[0m\u001b[0m\n",
      "\u001b[0;32m/work/envs/pikachu/lib/python3.9/site-packages/pandas/core/indexing.py\u001b[0m in \u001b[0;36m_getitem_axis\u001b[0;34m(self, key, axis)\u001b[0m\n\u001b[1;32m   1162\u001b[0m         \u001b[0;31m# fall thru to straight lookup\u001b[0m\u001b[0;34m\u001b[0m\u001b[0;34m\u001b[0m\u001b[0;34m\u001b[0m\u001b[0m\n\u001b[1;32m   1163\u001b[0m         \u001b[0mself\u001b[0m\u001b[0;34m.\u001b[0m\u001b[0m_validate_key\u001b[0m\u001b[0;34m(\u001b[0m\u001b[0mkey\u001b[0m\u001b[0;34m,\u001b[0m \u001b[0maxis\u001b[0m\u001b[0;34m)\u001b[0m\u001b[0;34m\u001b[0m\u001b[0;34m\u001b[0m\u001b[0m\n\u001b[0;32m-> 1164\u001b[0;31m         \u001b[0;32mreturn\u001b[0m \u001b[0mself\u001b[0m\u001b[0;34m.\u001b[0m\u001b[0m_get_label\u001b[0m\u001b[0;34m(\u001b[0m\u001b[0mkey\u001b[0m\u001b[0;34m,\u001b[0m \u001b[0maxis\u001b[0m\u001b[0;34m=\u001b[0m\u001b[0maxis\u001b[0m\u001b[0;34m)\u001b[0m\u001b[0;34m\u001b[0m\u001b[0;34m\u001b[0m\u001b[0m\n\u001b[0m\u001b[1;32m   1165\u001b[0m \u001b[0;34m\u001b[0m\u001b[0m\n\u001b[1;32m   1166\u001b[0m     \u001b[0;32mdef\u001b[0m \u001b[0m_get_slice_axis\u001b[0m\u001b[0;34m(\u001b[0m\u001b[0mself\u001b[0m\u001b[0;34m,\u001b[0m \u001b[0mslice_obj\u001b[0m\u001b[0;34m:\u001b[0m \u001b[0mslice\u001b[0m\u001b[0;34m,\u001b[0m \u001b[0maxis\u001b[0m\u001b[0;34m:\u001b[0m \u001b[0mint\u001b[0m\u001b[0;34m)\u001b[0m\u001b[0;34m:\u001b[0m\u001b[0;34m\u001b[0m\u001b[0;34m\u001b[0m\u001b[0m\n",
      "\u001b[0;32m/work/envs/pikachu/lib/python3.9/site-packages/pandas/core/indexing.py\u001b[0m in \u001b[0;36m_get_label\u001b[0;34m(self, label, axis)\u001b[0m\n\u001b[1;32m   1111\u001b[0m     \u001b[0;32mdef\u001b[0m \u001b[0m_get_label\u001b[0m\u001b[0;34m(\u001b[0m\u001b[0mself\u001b[0m\u001b[0;34m,\u001b[0m \u001b[0mlabel\u001b[0m\u001b[0;34m,\u001b[0m \u001b[0maxis\u001b[0m\u001b[0;34m:\u001b[0m \u001b[0mint\u001b[0m\u001b[0;34m)\u001b[0m\u001b[0;34m:\u001b[0m\u001b[0;34m\u001b[0m\u001b[0;34m\u001b[0m\u001b[0m\n\u001b[1;32m   1112\u001b[0m         \u001b[0;31m# GH#5667 this will fail if the label is not present in the axis.\u001b[0m\u001b[0;34m\u001b[0m\u001b[0;34m\u001b[0m\u001b[0;34m\u001b[0m\u001b[0m\n\u001b[0;32m-> 1113\u001b[0;31m         \u001b[0;32mreturn\u001b[0m \u001b[0mself\u001b[0m\u001b[0;34m.\u001b[0m\u001b[0mobj\u001b[0m\u001b[0;34m.\u001b[0m\u001b[0mxs\u001b[0m\u001b[0;34m(\u001b[0m\u001b[0mlabel\u001b[0m\u001b[0;34m,\u001b[0m \u001b[0maxis\u001b[0m\u001b[0;34m=\u001b[0m\u001b[0maxis\u001b[0m\u001b[0;34m)\u001b[0m\u001b[0;34m\u001b[0m\u001b[0;34m\u001b[0m\u001b[0m\n\u001b[0m\u001b[1;32m   1114\u001b[0m \u001b[0;34m\u001b[0m\u001b[0m\n\u001b[1;32m   1115\u001b[0m     \u001b[0;32mdef\u001b[0m \u001b[0m_handle_lowerdim_multi_index_axis0\u001b[0m\u001b[0;34m(\u001b[0m\u001b[0mself\u001b[0m\u001b[0;34m,\u001b[0m \u001b[0mtup\u001b[0m\u001b[0;34m:\u001b[0m \u001b[0mtuple\u001b[0m\u001b[0;34m)\u001b[0m\u001b[0;34m:\u001b[0m\u001b[0;34m\u001b[0m\u001b[0;34m\u001b[0m\u001b[0m\n",
      "\u001b[0;32m/work/envs/pikachu/lib/python3.9/site-packages/pandas/core/generic.py\u001b[0m in \u001b[0;36mxs\u001b[0;34m(self, key, axis, level, drop_level)\u001b[0m\n\u001b[1;32m   3774\u001b[0m                 \u001b[0;32mraise\u001b[0m \u001b[0mTypeError\u001b[0m\u001b[0;34m(\u001b[0m\u001b[0;34mf\"Expected label or tuple of labels, got {key}\"\u001b[0m\u001b[0;34m)\u001b[0m \u001b[0;32mfrom\u001b[0m \u001b[0me\u001b[0m\u001b[0;34m\u001b[0m\u001b[0;34m\u001b[0m\u001b[0m\n\u001b[1;32m   3775\u001b[0m         \u001b[0;32melse\u001b[0m\u001b[0;34m:\u001b[0m\u001b[0;34m\u001b[0m\u001b[0;34m\u001b[0m\u001b[0m\n\u001b[0;32m-> 3776\u001b[0;31m             \u001b[0mloc\u001b[0m \u001b[0;34m=\u001b[0m \u001b[0mindex\u001b[0m\u001b[0;34m.\u001b[0m\u001b[0mget_loc\u001b[0m\u001b[0;34m(\u001b[0m\u001b[0mkey\u001b[0m\u001b[0;34m)\u001b[0m\u001b[0;34m\u001b[0m\u001b[0;34m\u001b[0m\u001b[0m\n\u001b[0m\u001b[1;32m   3777\u001b[0m \u001b[0;34m\u001b[0m\u001b[0m\n\u001b[1;32m   3778\u001b[0m             \u001b[0;32mif\u001b[0m \u001b[0misinstance\u001b[0m\u001b[0;34m(\u001b[0m\u001b[0mloc\u001b[0m\u001b[0;34m,\u001b[0m \u001b[0mnp\u001b[0m\u001b[0;34m.\u001b[0m\u001b[0mndarray\u001b[0m\u001b[0;34m)\u001b[0m\u001b[0;34m:\u001b[0m\u001b[0;34m\u001b[0m\u001b[0;34m\u001b[0m\u001b[0m\n",
      "\u001b[0;32m/work/envs/pikachu/lib/python3.9/site-packages/pandas/core/indexes/base.py\u001b[0m in \u001b[0;36mget_loc\u001b[0;34m(self, key, method, tolerance)\u001b[0m\n\u001b[1;32m   3361\u001b[0m                 \u001b[0;32mreturn\u001b[0m \u001b[0mself\u001b[0m\u001b[0;34m.\u001b[0m\u001b[0m_engine\u001b[0m\u001b[0;34m.\u001b[0m\u001b[0mget_loc\u001b[0m\u001b[0;34m(\u001b[0m\u001b[0mcasted_key\u001b[0m\u001b[0;34m)\u001b[0m\u001b[0;34m\u001b[0m\u001b[0;34m\u001b[0m\u001b[0m\n\u001b[1;32m   3362\u001b[0m             \u001b[0;32mexcept\u001b[0m \u001b[0mKeyError\u001b[0m \u001b[0;32mas\u001b[0m \u001b[0merr\u001b[0m\u001b[0;34m:\u001b[0m\u001b[0;34m\u001b[0m\u001b[0;34m\u001b[0m\u001b[0m\n\u001b[0;32m-> 3363\u001b[0;31m                 \u001b[0;32mraise\u001b[0m \u001b[0mKeyError\u001b[0m\u001b[0;34m(\u001b[0m\u001b[0mkey\u001b[0m\u001b[0;34m)\u001b[0m \u001b[0;32mfrom\u001b[0m \u001b[0merr\u001b[0m\u001b[0;34m\u001b[0m\u001b[0;34m\u001b[0m\u001b[0m\n\u001b[0m\u001b[1;32m   3364\u001b[0m \u001b[0;34m\u001b[0m\u001b[0m\n\u001b[1;32m   3365\u001b[0m         \u001b[0;32mif\u001b[0m \u001b[0mis_scalar\u001b[0m\u001b[0;34m(\u001b[0m\u001b[0mkey\u001b[0m\u001b[0;34m)\u001b[0m \u001b[0;32mand\u001b[0m \u001b[0misna\u001b[0m\u001b[0;34m(\u001b[0m\u001b[0mkey\u001b[0m\u001b[0;34m)\u001b[0m \u001b[0;32mand\u001b[0m \u001b[0;32mnot\u001b[0m \u001b[0mself\u001b[0m\u001b[0;34m.\u001b[0m\u001b[0mhasnans\u001b[0m\u001b[0;34m:\u001b[0m\u001b[0;34m\u001b[0m\u001b[0;34m\u001b[0m\u001b[0m\n",
      "\u001b[0;31mKeyError\u001b[0m: 3624237198855630254"
     ]
    }
   ],
   "metadata": {}
  },
  {
   "cell_type": "code",
   "execution_count": 2,
   "source": [
    "labels = pd.read_csv('../input/pairwise/label.tsv', sep='\\t', header=None, names=['query', 'candidate', 'relevance'])\n",
    "labels['id'] = range(len(labels))\n",
    "labels['pid'] = labels.apply(lambda x: gezi.hash_str(str(x.query) + str(x.candidate)).upper(), axis=1)\n",
    "labels['query'] = labels['query'].astype(int)\n",
    "labels['candidate'] = labels['candidate'].astype(int)\n",
    "labels['similarity'] = -1.\n",
    "labels = labels[['id', 'pid', 'query', 'candidate', 'relevance', 'similarity']]"
   ],
   "outputs": [],
   "metadata": {}
  },
  {
   "cell_type": "code",
   "execution_count": 3,
   "source": [
    "labels"
   ],
   "outputs": [
    {
     "output_type": "execute_result",
     "data": {
      "text/html": [
       "<div>\n",
       "<style scoped>\n",
       "    .dataframe tbody tr th:only-of-type {\n",
       "        vertical-align: middle;\n",
       "    }\n",
       "\n",
       "    .dataframe tbody tr th {\n",
       "        vertical-align: top;\n",
       "    }\n",
       "\n",
       "    .dataframe thead th {\n",
       "        text-align: right;\n",
       "    }\n",
       "</style>\n",
       "<table border=\"1\" class=\"dataframe\">\n",
       "  <thead>\n",
       "    <tr style=\"text-align: right;\">\n",
       "      <th></th>\n",
       "      <th>id</th>\n",
       "      <th>pid</th>\n",
       "      <th>query</th>\n",
       "      <th>candidate</th>\n",
       "      <th>relevance</th>\n",
       "      <th>similarity</th>\n",
       "    </tr>\n",
       "  </thead>\n",
       "  <tbody>\n",
       "    <tr>\n",
       "      <th>0</th>\n",
       "      <td>0</td>\n",
       "      <td>1274286F9083F3D3</td>\n",
       "      <td>2345203561710400875</td>\n",
       "      <td>5344606281729891758</td>\n",
       "      <td>1.00</td>\n",
       "      <td>-1.0</td>\n",
       "    </tr>\n",
       "    <tr>\n",
       "      <th>1</th>\n",
       "      <td>1</td>\n",
       "      <td>28C181C52657DBA4</td>\n",
       "      <td>759945328762912122</td>\n",
       "      <td>5560784129870034298</td>\n",
       "      <td>0.85</td>\n",
       "      <td>-1.0</td>\n",
       "    </tr>\n",
       "    <tr>\n",
       "      <th>2</th>\n",
       "      <td>2</td>\n",
       "      <td>384D8882D3F4373B</td>\n",
       "      <td>2336209090533711226</td>\n",
       "      <td>8010747189096226170</td>\n",
       "      <td>1.00</td>\n",
       "      <td>-1.0</td>\n",
       "    </tr>\n",
       "    <tr>\n",
       "      <th>3</th>\n",
       "      <td>3</td>\n",
       "      <td>53F9D21849B3DF6C</td>\n",
       "      <td>2588403135132530094</td>\n",
       "      <td>5380633252649788846</td>\n",
       "      <td>0.25</td>\n",
       "      <td>-1.0</td>\n",
       "    </tr>\n",
       "    <tr>\n",
       "      <th>4</th>\n",
       "      <td>4</td>\n",
       "      <td>457C55F4F165510F</td>\n",
       "      <td>3245934094259209594</td>\n",
       "      <td>120437073895839098</td>\n",
       "      <td>1.00</td>\n",
       "      <td>-1.0</td>\n",
       "    </tr>\n",
       "    <tr>\n",
       "      <th>...</th>\n",
       "      <td>...</td>\n",
       "      <td>...</td>\n",
       "      <td>...</td>\n",
       "      <td>...</td>\n",
       "      <td>...</td>\n",
       "      <td>...</td>\n",
       "    </tr>\n",
       "    <tr>\n",
       "      <th>67894</th>\n",
       "      <td>67894</td>\n",
       "      <td>11C3774065099D6F</td>\n",
       "      <td>3750336164790283694</td>\n",
       "      <td>6578593639340324218</td>\n",
       "      <td>0.50</td>\n",
       "      <td>-1.0</td>\n",
       "    </tr>\n",
       "    <tr>\n",
       "      <th>67895</th>\n",
       "      <td>67895</td>\n",
       "      <td>3913763E9186922A</td>\n",
       "      <td>4587992807793958251</td>\n",
       "      <td>3651241564586845614</td>\n",
       "      <td>0.05</td>\n",
       "      <td>-1.0</td>\n",
       "    </tr>\n",
       "    <tr>\n",
       "      <th>67896</th>\n",
       "      <td>67896</td>\n",
       "      <td>5C6086FBCA080C11</td>\n",
       "      <td>4939290286258343342</td>\n",
       "      <td>2750529751830584750</td>\n",
       "      <td>0.00</td>\n",
       "      <td>-1.0</td>\n",
       "    </tr>\n",
       "    <tr>\n",
       "      <th>67897</th>\n",
       "      <td>67897</td>\n",
       "      <td>1F5C9ED4B97BB99D</td>\n",
       "      <td>7461297012077098362</td>\n",
       "      <td>5939084830845425070</td>\n",
       "      <td>1.00</td>\n",
       "      <td>-1.0</td>\n",
       "    </tr>\n",
       "    <tr>\n",
       "      <th>67898</th>\n",
       "      <td>67898</td>\n",
       "      <td>30EDD03A1D87C513</td>\n",
       "      <td>1732719335966508462</td>\n",
       "      <td>7695458834097743278</td>\n",
       "      <td>0.15</td>\n",
       "      <td>-1.0</td>\n",
       "    </tr>\n",
       "  </tbody>\n",
       "</table>\n",
       "<p>67899 rows × 6 columns</p>\n",
       "</div>"
      ],
      "text/plain": [
       "          id               pid                query            candidate  \\\n",
       "0          0  1274286F9083F3D3  2345203561710400875  5344606281729891758   \n",
       "1          1  28C181C52657DBA4   759945328762912122  5560784129870034298   \n",
       "2          2  384D8882D3F4373B  2336209090533711226  8010747189096226170   \n",
       "3          3  53F9D21849B3DF6C  2588403135132530094  5380633252649788846   \n",
       "4          4  457C55F4F165510F  3245934094259209594   120437073895839098   \n",
       "...      ...               ...                  ...                  ...   \n",
       "67894  67894  11C3774065099D6F  3750336164790283694  6578593639340324218   \n",
       "67895  67895  3913763E9186922A  4587992807793958251  3651241564586845614   \n",
       "67896  67896  5C6086FBCA080C11  4939290286258343342  2750529751830584750   \n",
       "67897  67897  1F5C9ED4B97BB99D  7461297012077098362  5939084830845425070   \n",
       "67898  67898  30EDD03A1D87C513  1732719335966508462  7695458834097743278   \n",
       "\n",
       "       relevance  similarity  \n",
       "0           1.00        -1.0  \n",
       "1           0.85        -1.0  \n",
       "2           1.00        -1.0  \n",
       "3           0.25        -1.0  \n",
       "4           1.00        -1.0  \n",
       "...          ...         ...  \n",
       "67894       0.50        -1.0  \n",
       "67895       0.05        -1.0  \n",
       "67896       0.00        -1.0  \n",
       "67897       1.00        -1.0  \n",
       "67898       0.15        -1.0  \n",
       "\n",
       "[67899 rows x 6 columns]"
      ]
     },
     "metadata": {},
     "execution_count": 3
    }
   ],
   "metadata": {}
  },
  {
   "cell_type": "code",
   "execution_count": 4,
   "source": [
    "labels.to_csv('../input/pairwise/label.csv', index=False)"
   ],
   "outputs": [],
   "metadata": {}
  },
  {
   "cell_type": "code",
   "execution_count": null,
   "source": [
    "root = '../working/6/model2.ep4.dep8'"
   ],
   "outputs": [],
   "metadata": {}
  },
  {
   "cell_type": "code",
   "execution_count": null,
   "source": [
    "labels = pd.read_csv(f'{root}/valid.csv')"
   ],
   "outputs": [
    {
     "output_type": "error",
     "ename": "FileNotFoundError",
     "evalue": "[Errno 2] No such file or directory: '../working/6/model2.ep4.dep8/valid.csv'",
     "traceback": [
      "\u001b[0;31m---------------------------------------------------------------------------\u001b[0m",
      "\u001b[0;31mFileNotFoundError\u001b[0m                         Traceback (most recent call last)",
      "\u001b[0;32m/tmp/ipykernel_26277/1195072060.py\u001b[0m in \u001b[0;36m<module>\u001b[0;34m\u001b[0m\n\u001b[0;32m----> 1\u001b[0;31m \u001b[0mlabels\u001b[0m \u001b[0;34m=\u001b[0m \u001b[0mpd\u001b[0m\u001b[0;34m.\u001b[0m\u001b[0mread_csv\u001b[0m\u001b[0;34m(\u001b[0m\u001b[0;34mf'{root}/valid.csv'\u001b[0m\u001b[0;34m)\u001b[0m\u001b[0;34m\u001b[0m\u001b[0;34m\u001b[0m\u001b[0m\n\u001b[0m",
      "\u001b[0;32m/work/envs/pikachu/lib/python3.9/site-packages/pandas/util/_decorators.py\u001b[0m in \u001b[0;36mwrapper\u001b[0;34m(*args, **kwargs)\u001b[0m\n\u001b[1;32m    309\u001b[0m                     \u001b[0mstacklevel\u001b[0m\u001b[0;34m=\u001b[0m\u001b[0mstacklevel\u001b[0m\u001b[0;34m,\u001b[0m\u001b[0;34m\u001b[0m\u001b[0;34m\u001b[0m\u001b[0m\n\u001b[1;32m    310\u001b[0m                 )\n\u001b[0;32m--> 311\u001b[0;31m             \u001b[0;32mreturn\u001b[0m \u001b[0mfunc\u001b[0m\u001b[0;34m(\u001b[0m\u001b[0;34m*\u001b[0m\u001b[0margs\u001b[0m\u001b[0;34m,\u001b[0m \u001b[0;34m**\u001b[0m\u001b[0mkwargs\u001b[0m\u001b[0;34m)\u001b[0m\u001b[0;34m\u001b[0m\u001b[0;34m\u001b[0m\u001b[0m\n\u001b[0m\u001b[1;32m    312\u001b[0m \u001b[0;34m\u001b[0m\u001b[0m\n\u001b[1;32m    313\u001b[0m         \u001b[0;32mreturn\u001b[0m \u001b[0mwrapper\u001b[0m\u001b[0;34m\u001b[0m\u001b[0;34m\u001b[0m\u001b[0m\n",
      "\u001b[0;32m/work/envs/pikachu/lib/python3.9/site-packages/pandas/io/parsers/readers.py\u001b[0m in \u001b[0;36mread_csv\u001b[0;34m(filepath_or_buffer, sep, delimiter, header, names, index_col, usecols, squeeze, prefix, mangle_dupe_cols, dtype, engine, converters, true_values, false_values, skipinitialspace, skiprows, skipfooter, nrows, na_values, keep_default_na, na_filter, verbose, skip_blank_lines, parse_dates, infer_datetime_format, keep_date_col, date_parser, dayfirst, cache_dates, iterator, chunksize, compression, thousands, decimal, lineterminator, quotechar, quoting, doublequote, escapechar, comment, encoding, encoding_errors, dialect, error_bad_lines, warn_bad_lines, on_bad_lines, delim_whitespace, low_memory, memory_map, float_precision, storage_options)\u001b[0m\n\u001b[1;32m    584\u001b[0m     \u001b[0mkwds\u001b[0m\u001b[0;34m.\u001b[0m\u001b[0mupdate\u001b[0m\u001b[0;34m(\u001b[0m\u001b[0mkwds_defaults\u001b[0m\u001b[0;34m)\u001b[0m\u001b[0;34m\u001b[0m\u001b[0;34m\u001b[0m\u001b[0m\n\u001b[1;32m    585\u001b[0m \u001b[0;34m\u001b[0m\u001b[0m\n\u001b[0;32m--> 586\u001b[0;31m     \u001b[0;32mreturn\u001b[0m \u001b[0m_read\u001b[0m\u001b[0;34m(\u001b[0m\u001b[0mfilepath_or_buffer\u001b[0m\u001b[0;34m,\u001b[0m \u001b[0mkwds\u001b[0m\u001b[0;34m)\u001b[0m\u001b[0;34m\u001b[0m\u001b[0;34m\u001b[0m\u001b[0m\n\u001b[0m\u001b[1;32m    587\u001b[0m \u001b[0;34m\u001b[0m\u001b[0m\n\u001b[1;32m    588\u001b[0m \u001b[0;34m\u001b[0m\u001b[0m\n",
      "\u001b[0;32m/work/envs/pikachu/lib/python3.9/site-packages/pandas/io/parsers/readers.py\u001b[0m in \u001b[0;36m_read\u001b[0;34m(filepath_or_buffer, kwds)\u001b[0m\n\u001b[1;32m    480\u001b[0m \u001b[0;34m\u001b[0m\u001b[0m\n\u001b[1;32m    481\u001b[0m     \u001b[0;31m# Create the parser.\u001b[0m\u001b[0;34m\u001b[0m\u001b[0;34m\u001b[0m\u001b[0;34m\u001b[0m\u001b[0m\n\u001b[0;32m--> 482\u001b[0;31m     \u001b[0mparser\u001b[0m \u001b[0;34m=\u001b[0m \u001b[0mTextFileReader\u001b[0m\u001b[0;34m(\u001b[0m\u001b[0mfilepath_or_buffer\u001b[0m\u001b[0;34m,\u001b[0m \u001b[0;34m**\u001b[0m\u001b[0mkwds\u001b[0m\u001b[0;34m)\u001b[0m\u001b[0;34m\u001b[0m\u001b[0;34m\u001b[0m\u001b[0m\n\u001b[0m\u001b[1;32m    483\u001b[0m \u001b[0;34m\u001b[0m\u001b[0m\n\u001b[1;32m    484\u001b[0m     \u001b[0;32mif\u001b[0m \u001b[0mchunksize\u001b[0m \u001b[0;32mor\u001b[0m \u001b[0miterator\u001b[0m\u001b[0;34m:\u001b[0m\u001b[0;34m\u001b[0m\u001b[0;34m\u001b[0m\u001b[0m\n",
      "\u001b[0;32m/work/envs/pikachu/lib/python3.9/site-packages/pandas/io/parsers/readers.py\u001b[0m in \u001b[0;36m__init__\u001b[0;34m(self, f, engine, **kwds)\u001b[0m\n\u001b[1;32m    809\u001b[0m             \u001b[0mself\u001b[0m\u001b[0;34m.\u001b[0m\u001b[0moptions\u001b[0m\u001b[0;34m[\u001b[0m\u001b[0;34m\"has_index_names\"\u001b[0m\u001b[0;34m]\u001b[0m \u001b[0;34m=\u001b[0m \u001b[0mkwds\u001b[0m\u001b[0;34m[\u001b[0m\u001b[0;34m\"has_index_names\"\u001b[0m\u001b[0;34m]\u001b[0m\u001b[0;34m\u001b[0m\u001b[0;34m\u001b[0m\u001b[0m\n\u001b[1;32m    810\u001b[0m \u001b[0;34m\u001b[0m\u001b[0m\n\u001b[0;32m--> 811\u001b[0;31m         \u001b[0mself\u001b[0m\u001b[0;34m.\u001b[0m\u001b[0m_engine\u001b[0m \u001b[0;34m=\u001b[0m \u001b[0mself\u001b[0m\u001b[0;34m.\u001b[0m\u001b[0m_make_engine\u001b[0m\u001b[0;34m(\u001b[0m\u001b[0mself\u001b[0m\u001b[0;34m.\u001b[0m\u001b[0mengine\u001b[0m\u001b[0;34m)\u001b[0m\u001b[0;34m\u001b[0m\u001b[0;34m\u001b[0m\u001b[0m\n\u001b[0m\u001b[1;32m    812\u001b[0m \u001b[0;34m\u001b[0m\u001b[0m\n\u001b[1;32m    813\u001b[0m     \u001b[0;32mdef\u001b[0m \u001b[0mclose\u001b[0m\u001b[0;34m(\u001b[0m\u001b[0mself\u001b[0m\u001b[0;34m)\u001b[0m\u001b[0;34m:\u001b[0m\u001b[0;34m\u001b[0m\u001b[0;34m\u001b[0m\u001b[0m\n",
      "\u001b[0;32m/work/envs/pikachu/lib/python3.9/site-packages/pandas/io/parsers/readers.py\u001b[0m in \u001b[0;36m_make_engine\u001b[0;34m(self, engine)\u001b[0m\n\u001b[1;32m   1038\u001b[0m             )\n\u001b[1;32m   1039\u001b[0m         \u001b[0;31m# error: Too many arguments for \"ParserBase\"\u001b[0m\u001b[0;34m\u001b[0m\u001b[0;34m\u001b[0m\u001b[0;34m\u001b[0m\u001b[0m\n\u001b[0;32m-> 1040\u001b[0;31m         \u001b[0;32mreturn\u001b[0m \u001b[0mmapping\u001b[0m\u001b[0;34m[\u001b[0m\u001b[0mengine\u001b[0m\u001b[0;34m]\u001b[0m\u001b[0;34m(\u001b[0m\u001b[0mself\u001b[0m\u001b[0;34m.\u001b[0m\u001b[0mf\u001b[0m\u001b[0;34m,\u001b[0m \u001b[0;34m**\u001b[0m\u001b[0mself\u001b[0m\u001b[0;34m.\u001b[0m\u001b[0moptions\u001b[0m\u001b[0;34m)\u001b[0m  \u001b[0;31m# type: ignore[call-arg]\u001b[0m\u001b[0;34m\u001b[0m\u001b[0;34m\u001b[0m\u001b[0m\n\u001b[0m\u001b[1;32m   1041\u001b[0m \u001b[0;34m\u001b[0m\u001b[0m\n\u001b[1;32m   1042\u001b[0m     \u001b[0;32mdef\u001b[0m \u001b[0m_failover_to_python\u001b[0m\u001b[0;34m(\u001b[0m\u001b[0mself\u001b[0m\u001b[0;34m)\u001b[0m\u001b[0;34m:\u001b[0m\u001b[0;34m\u001b[0m\u001b[0;34m\u001b[0m\u001b[0m\n",
      "\u001b[0;32m/work/envs/pikachu/lib/python3.9/site-packages/pandas/io/parsers/c_parser_wrapper.py\u001b[0m in \u001b[0;36m__init__\u001b[0;34m(self, src, **kwds)\u001b[0m\n\u001b[1;32m     49\u001b[0m \u001b[0;34m\u001b[0m\u001b[0m\n\u001b[1;32m     50\u001b[0m         \u001b[0;31m# open handles\u001b[0m\u001b[0;34m\u001b[0m\u001b[0;34m\u001b[0m\u001b[0;34m\u001b[0m\u001b[0m\n\u001b[0;32m---> 51\u001b[0;31m         \u001b[0mself\u001b[0m\u001b[0;34m.\u001b[0m\u001b[0m_open_handles\u001b[0m\u001b[0;34m(\u001b[0m\u001b[0msrc\u001b[0m\u001b[0;34m,\u001b[0m \u001b[0mkwds\u001b[0m\u001b[0;34m)\u001b[0m\u001b[0;34m\u001b[0m\u001b[0;34m\u001b[0m\u001b[0m\n\u001b[0m\u001b[1;32m     52\u001b[0m         \u001b[0;32massert\u001b[0m \u001b[0mself\u001b[0m\u001b[0;34m.\u001b[0m\u001b[0mhandles\u001b[0m \u001b[0;32mis\u001b[0m \u001b[0;32mnot\u001b[0m \u001b[0;32mNone\u001b[0m\u001b[0;34m\u001b[0m\u001b[0;34m\u001b[0m\u001b[0m\n\u001b[1;32m     53\u001b[0m \u001b[0;34m\u001b[0m\u001b[0m\n",
      "\u001b[0;32m/work/envs/pikachu/lib/python3.9/site-packages/pandas/io/parsers/base_parser.py\u001b[0m in \u001b[0;36m_open_handles\u001b[0;34m(self, src, kwds)\u001b[0m\n\u001b[1;32m    220\u001b[0m         \u001b[0mLet\u001b[0m \u001b[0mthe\u001b[0m \u001b[0mreaders\u001b[0m \u001b[0mopen\u001b[0m \u001b[0mIOHandles\u001b[0m \u001b[0mafter\u001b[0m \u001b[0mthey\u001b[0m \u001b[0mare\u001b[0m \u001b[0mdone\u001b[0m \u001b[0;32mwith\u001b[0m \u001b[0mtheir\u001b[0m \u001b[0mpotential\u001b[0m \u001b[0mraises\u001b[0m\u001b[0;34m.\u001b[0m\u001b[0;34m\u001b[0m\u001b[0;34m\u001b[0m\u001b[0m\n\u001b[1;32m    221\u001b[0m         \"\"\"\n\u001b[0;32m--> 222\u001b[0;31m         self.handles = get_handle(\n\u001b[0m\u001b[1;32m    223\u001b[0m             \u001b[0msrc\u001b[0m\u001b[0;34m,\u001b[0m\u001b[0;34m\u001b[0m\u001b[0;34m\u001b[0m\u001b[0m\n\u001b[1;32m    224\u001b[0m             \u001b[0;34m\"r\"\u001b[0m\u001b[0;34m,\u001b[0m\u001b[0;34m\u001b[0m\u001b[0;34m\u001b[0m\u001b[0m\n",
      "\u001b[0;32m/work/envs/pikachu/lib/python3.9/site-packages/pandas/io/common.py\u001b[0m in \u001b[0;36mget_handle\u001b[0;34m(path_or_buf, mode, encoding, compression, memory_map, is_text, errors, storage_options)\u001b[0m\n\u001b[1;32m    699\u001b[0m         \u001b[0;32mif\u001b[0m \u001b[0mioargs\u001b[0m\u001b[0;34m.\u001b[0m\u001b[0mencoding\u001b[0m \u001b[0;32mand\u001b[0m \u001b[0;34m\"b\"\u001b[0m \u001b[0;32mnot\u001b[0m \u001b[0;32min\u001b[0m \u001b[0mioargs\u001b[0m\u001b[0;34m.\u001b[0m\u001b[0mmode\u001b[0m\u001b[0;34m:\u001b[0m\u001b[0;34m\u001b[0m\u001b[0;34m\u001b[0m\u001b[0m\n\u001b[1;32m    700\u001b[0m             \u001b[0;31m# Encoding\u001b[0m\u001b[0;34m\u001b[0m\u001b[0;34m\u001b[0m\u001b[0;34m\u001b[0m\u001b[0m\n\u001b[0;32m--> 701\u001b[0;31m             handle = open(\n\u001b[0m\u001b[1;32m    702\u001b[0m                 \u001b[0mhandle\u001b[0m\u001b[0;34m,\u001b[0m\u001b[0;34m\u001b[0m\u001b[0;34m\u001b[0m\u001b[0m\n\u001b[1;32m    703\u001b[0m                 \u001b[0mioargs\u001b[0m\u001b[0;34m.\u001b[0m\u001b[0mmode\u001b[0m\u001b[0;34m,\u001b[0m\u001b[0;34m\u001b[0m\u001b[0;34m\u001b[0m\u001b[0m\n",
      "\u001b[0;31mFileNotFoundError\u001b[0m: [Errno 2] No such file or directory: '../working/6/model2.ep4.dep8/valid.csv'"
     ]
    }
   ],
   "metadata": {}
  },
  {
   "cell_type": "code",
   "execution_count": null,
   "source": [
    "labels"
   ],
   "outputs": [],
   "metadata": {}
  },
  {
   "cell_type": "code",
   "execution_count": null,
   "source": [
    "MAX_LEN = 15\n",
    "def wrap_str(title):\n",
    "  import textwrap\n",
    "  return '\\n'.join(textwrap.wrap(title, MAX_LEN))\n",
    "\n",
    "def limit_str(text, max_len, last_tokens, sep='|'):\n",
    "  if len(text) <= max_len:\n",
    "    return text\n",
    "  first_tokens = max(max_len - last_tokens - len(sep), 1)\n",
    "  return text[:first_tokens] + sep + text[-last_tokens:]\n",
    "\n",
    "def get_text(vid, relevance=-1, similarity=-1):\n",
    "  tags = wrap_str(info.loc[vid].tags)\n",
    "  title = wrap_str(infos.loc[vid].title)\n",
    "  catid = infos.loc[vid].category_id\n",
    "  tagid = wrap_str(infos.loc[vid].tag_id)\n",
    "  asr = wrap_str(limit_str(infos.loc[vid].asr_text, 128, 10))\n",
    "  text = f'id:{vid}\\ncat:{catid} relevance:[{relevance}] sim:[{similarity:.2f}]\\n-------------------------\\n{tags}\\n{tagid}\\n-------------------------\\n{asr}\\n-------------------------\\n{title}'\n",
    "  return text\n",
    "\n",
    "\n",
    "def display_pair(left, right, relevance=0, similarity=0):\n",
    "  left = int(left)\n",
    "  right = int(right)\n",
    "  \n",
    "  if left in info.index and right in info.index:\n",
    "    img1 = f'../input/imgs/{left}.jpg'\n",
    "    img2 = f'../input/imgs/{right}.jpg'\n",
    "    if os.path.exists(img1) and os.path.exists(img2):\n",
    "      text1 = get_text(left, relevance, similarity)\n",
    "      text2 = get_text(right, relevance, similarity)\n",
    "      _ = gezi.plot.display_images([img1, img2], titles=[text1, text2], spacing=0.05)"
   ],
   "outputs": [],
   "metadata": {}
  },
  {
   "cell_type": "code",
   "execution_count": null,
   "source": [
    "def display(start, count=10):\n",
    "  for i in range(start, start + count):\n",
    "    display_pair(labels.loc[i, 'query'], labels.loc[i, 'candidate'], labels.loc[i, 'relevance'], labels.loc[i, 'similarity'])"
   ],
   "outputs": [],
   "metadata": {
    "tags": []
   }
  },
  {
   "cell_type": "code",
   "execution_count": null,
   "source": [
    "display(0)"
   ],
   "outputs": [],
   "metadata": {}
  },
  {
   "cell_type": "code",
   "execution_count": null,
   "source": [
    "def sample_without_replacement(prob_dist, nb_samples):\n",
    "    \"\"\"Sample integers in the range [0, N), without replacement, according to the probability\n",
    "       distribution `prob_dist`, where `N = prob_dist.shape[0]`.\n",
    "    \n",
    "    Args:\n",
    "        prob_dist: 1-D tf.float32 tensor.\n",
    "    \n",
    "    Returns:\n",
    "        selected_indices: 1-D tf.int32 tensor\n",
    "    \"\"\"\n",
    "\n",
    "    nb_candidates = tf.shape(prob_dist)[0]\n",
    "    logits = tf.math.log(prob_dist)\n",
    "    z = -tf.math.log(-tf.math.log(tf.random.uniform(shape=[nb_candidates], minval=0, maxval=1)))\n",
    "    _, selected_indices = tf.math.top_k(logits + z, nb_samples)\n",
    "\n",
    "    return selected_indices"
   ],
   "outputs": [],
   "metadata": {}
  },
  {
   "cell_type": "code",
   "execution_count": null,
   "source": [
    "import tensorflow as tf\n",
    "for i in range(10):\n",
    "    print('sample {}: {}'.format(i + 1, sample_without_replacement(tf.constant([0.1, 0.2, 0.3, 0.4]), nb_samples=3).numpy()))"
   ],
   "outputs": [],
   "metadata": {}
  },
  {
   "cell_type": "code",
   "execution_count": null,
   "source": [
    "import heapq as hq\n",
    "queue = []\n",
    "hq.heappush(queue, (2, 0, 'a'))\n",
    "hq.heappush(queue, (3, -1, 'b'))\n",
    "print(queue)\n",
    "# [(2, 0, 'a'), (3, -1, 'b')]\n",
    "hq.heappush(queue, (2, -2, 'c'))\n",
    "print(queue)\n",
    "# [(2, -2, 'c'), (3, -1, 'b'), (2, 0, 'a')]"
   ],
   "outputs": [],
   "metadata": {}
  },
  {
   "cell_type": "code",
   "execution_count": null,
   "source": [
    "print(hq.heappop(queue))\n",
    "# (2, -2, 'c')\n",
    "queue\n",
    "# [(2, 0, 'a'), (3, -1, 'b')]"
   ],
   "outputs": [],
   "metadata": {}
  },
  {
   "cell_type": "code",
   "execution_count": null,
   "source": [
    "import pandas as pd\n",
    "d = pd.read_csv('../input/info/infos.csv')"
   ],
   "outputs": [],
   "metadata": {}
  },
  {
   "cell_type": "code",
   "execution_count": null,
   "source": [
    "6803763629094413742 in d.index"
   ],
   "outputs": [],
   "metadata": {}
  },
  {
   "cell_type": "code",
   "execution_count": null,
   "source": [
    "6803763629094413742 in d.id"
   ],
   "outputs": [],
   "metadata": {}
  },
  {
   "cell_type": "code",
   "execution_count": null,
   "source": [
    "d.id"
   ],
   "outputs": [],
   "metadata": {}
  },
  {
   "cell_type": "code",
   "execution_count": null,
   "source": [
    "5740911444695754158 in d.id.values"
   ],
   "outputs": [],
   "metadata": {}
  },
  {
   "cell_type": "code",
   "execution_count": null,
   "source": [
    "5740911444695754158 in d.id.values"
   ],
   "outputs": [],
   "metadata": {}
  },
  {
   "cell_type": "code",
   "execution_count": null,
   "source": [
    "d = d.set_index('id')"
   ],
   "outputs": [],
   "metadata": {}
  },
  {
   "cell_type": "code",
   "execution_count": null,
   "source": [
    "5740911444695754158 in d.index"
   ],
   "outputs": [],
   "metadata": {}
  },
  {
   "cell_type": "code",
   "execution_count": null,
   "source": [],
   "outputs": [],
   "metadata": {}
  }
 ],
 "metadata": {
  "interpreter": {
   "hash": "4a3b8e604c89dd738b73f629e47065937bc949a9033b2f0d810af4f206605dd3"
  },
  "kernelspec": {
   "name": "python3",
   "display_name": "Python 3.9.6 64-bit (conda)"
  },
  "language_info": {
   "name": "python",
   "version": "3.9.6",
   "mimetype": "text/x-python",
   "codemirror_mode": {
    "name": "ipython",
    "version": 3
   },
   "pygments_lexer": "ipython3",
   "nbconvert_exporter": "python",
   "file_extension": ".py"
  }
 },
 "nbformat": 4,
 "nbformat_minor": 2
}