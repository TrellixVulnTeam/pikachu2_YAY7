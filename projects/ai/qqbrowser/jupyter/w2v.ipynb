{
 "cells": [
  {
   "cell_type": "code",
   "execution_count": 1,
   "metadata": {},
   "outputs": [
    {
     "name": "stderr",
     "output_type": "stream",
     "text": [
      "2021-10-13 21:43:46.035640: I tensorflow/stream_executor/platform/default/dso_loader.cc:53] Successfully opened dynamic library libcudart.so.11.0\n"
     ]
    }
   ],
   "source": [
    "import numpy as np\n",
    "import pandas as pd\n",
    "from collections import OrderedDict, defaultdict\n",
    "import multiprocessing as mp\n",
    "import glob\n",
    "import sys, os\n",
    "sys.path.append('..')\n",
    "sys.path.append('../../../../utils')\n",
    "sys.path.append('../../../../third')\n",
    "import gezi\n",
    "from gezi import tqdm\n",
    "tqdm.pandas()\n",
    "from gensim.models import Word2Vec\n",
    "from gensim.test.utils import common_texts\n",
    "from gensim.models.doc2vec import Doc2Vec, TaggedDocument\n",
    "import jieba"
   ]
  },
  {
   "cell_type": "code",
   "execution_count": 2,
   "metadata": {},
   "outputs": [],
   "source": [
    "vocab_names = [\n",
    "                'tag',\n",
    "                'word',\n",
    "              ]\n",
    "vocabs = {}\n",
    "for vocab_name in vocab_names:\n",
    "  vocab_file =  f'../input/{vocab_name}_vocab.txt'\n",
    "  if vocab_name != 'word':\n",
    "    vocab = gezi.Vocab(vocab_file)\n",
    "  else:\n",
    "    vocab = gezi.Vocab(vocab_file, 200)\n",
    "  vocabs[vocab_name] = vocab\n"
   ]
  },
  {
   "cell_type": "code",
   "execution_count": 3,
   "metadata": {},
   "outputs": [
    {
     "data": {
      "text/plain": [
       "<gezi.vocabulary.Vocab at 0x7ffaf723ce50>"
      ]
     },
     "execution_count": 3,
     "metadata": {},
     "output_type": "execute_result"
    }
   ],
   "source": [
    "vocabs['tag']"
   ]
  },
  {
   "cell_type": "code",
   "execution_count": 4,
   "metadata": {},
   "outputs": [],
   "source": [
    "d = pd.read_csv('../input/info/infos.csv')"
   ]
  },
  {
   "cell_type": "code",
   "execution_count": 5,
   "metadata": {},
   "outputs": [
    {
     "data": {
      "text/html": [
       "<div>\n",
       "<style scoped>\n",
       "    .dataframe tbody tr th:only-of-type {\n",
       "        vertical-align: middle;\n",
       "    }\n",
       "\n",
       "    .dataframe tbody tr th {\n",
       "        vertical-align: top;\n",
       "    }\n",
       "\n",
       "    .dataframe thead th {\n",
       "        text-align: right;\n",
       "    }\n",
       "</style>\n",
       "<table border=\"1\" class=\"dataframe\">\n",
       "  <thead>\n",
       "    <tr style=\"text-align: right;\">\n",
       "      <th></th>\n",
       "      <th>id</th>\n",
       "      <th>category_id</th>\n",
       "      <th>cat</th>\n",
       "      <th>subcat</th>\n",
       "      <th>tag_id</th>\n",
       "      <th>title</th>\n",
       "      <th>asr_text</th>\n",
       "    </tr>\n",
       "  </thead>\n",
       "  <tbody>\n",
       "    <tr>\n",
       "      <th>0</th>\n",
       "      <td>8181862433864400302</td>\n",
       "      <td>10804</td>\n",
       "      <td>108</td>\n",
       "      <td>4</td>\n",
       "      <td>55848798,800002360,593341,55744355,55859481,55...</td>\n",
       "      <td>我只不过跳了跳舞，结果光子实在太狠了</td>\n",
       "      <td>NaN</td>\n",
       "    </tr>\n",
       "    <tr>\n",
       "      <th>1</th>\n",
       "      <td>4155641279071878522</td>\n",
       "      <td>10401</td>\n",
       "      <td>104</td>\n",
       "      <td>1</td>\n",
       "      <td>286226,101389,800000950,9504442,9820430</td>\n",
       "      <td>这么可爱的小姐姐，太搞怪了</td>\n",
       "      <td>邢飞真的是太能搞怪了，跟粉丝的速度一点都不装特别的，真就是喜欢这么正的女孩，你们是不是跟你一...</td>\n",
       "    </tr>\n",
       "    <tr>\n",
       "      <th>2</th>\n",
       "      <td>6281338907679991214</td>\n",
       "      <td>10501</td>\n",
       "      <td>105</td>\n",
       "      <td>1</td>\n",
       "      <td>56080717,4093463,41614380,224444,101461,560840...</td>\n",
       "      <td>最近超级火的歌曲《冬眠》，美女唱得很不赖，绝对是实力派</td>\n",
       "      <td>你听。热车吗？你听着他说着你的。只上了赌注你。拍女生。啊。都要。的总结到位深。你替他掩饰着粽...</td>\n",
       "    </tr>\n",
       "    <tr>\n",
       "      <th>3</th>\n",
       "      <td>8506122561779211694</td>\n",
       "      <td>11604</td>\n",
       "      <td>116</td>\n",
       "      <td>4</td>\n",
       "      <td>530228,3326413</td>\n",
       "      <td>下地干农活无意间拍下这一幕，这是什么东西，吓我一跳</td>\n",
       "      <td>一样。会落实。隆隆天空。给个反应。</td>\n",
       "    </tr>\n",
       "    <tr>\n",
       "      <th>4</th>\n",
       "      <td>4696077578276769146</td>\n",
       "      <td>10012</td>\n",
       "      <td>100</td>\n",
       "      <td>12</td>\n",
       "      <td>101334,102376,800000171,10115859</td>\n",
       "      <td>和女儿们一块玩游戏，把她俩给骗了，她们却玩的很开心</td>\n",
       "      <td>你想。样子。认真在。让魔王魔王。是谁。</td>\n",
       "    </tr>\n",
       "    <tr>\n",
       "      <th>5</th>\n",
       "      <td>6290345740389858734</td>\n",
       "      <td>11604</td>\n",
       "      <td>116</td>\n",
       "      <td>4</td>\n",
       "      <td>800000841,3326413,4356581,830719</td>\n",
       "      <td>猪肉太贵吃不起，撒网高手坐不住了，正在河沟撒网捕鱼呢！</td>\n",
       "      <td>提起吃肉我就上火。朱荣辉一个了不。赌。一斤猪肉。多百姓着，今有物伤多。鸡蛋，青菜和水果，随着...</td>\n",
       "    </tr>\n",
       "    <tr>\n",
       "      <th>6</th>\n",
       "      <td>8380021795080191406</td>\n",
       "      <td>10500</td>\n",
       "      <td>105</td>\n",
       "      <td>0</td>\n",
       "      <td>5833128,3323093,55737387</td>\n",
       "      <td>沈老师跟我们告别回家休息了</td>\n",
       "      <td>那么吃饭点到底是？十二。怎么会。你不信。我现在会。现在却。切割。</td>\n",
       "    </tr>\n",
       "    <tr>\n",
       "      <th>7</th>\n",
       "      <td>3804367693936981422</td>\n",
       "      <td>11702</td>\n",
       "      <td>117</td>\n",
       "      <td>2</td>\n",
       "      <td>102419,800001783,800000841,56048305,149957</td>\n",
       "      <td>这就是所谓的备胎吧</td>\n",
       "      <td>新闻我也。申请。肩膀的首先。SL。</td>\n",
       "    </tr>\n",
       "    <tr>\n",
       "      <th>8</th>\n",
       "      <td>2804562438649978286</td>\n",
       "      <td>11604</td>\n",
       "      <td>116</td>\n",
       "      <td>4</td>\n",
       "      <td>1355431,165536,800001720,5865253</td>\n",
       "      <td>猪：你按呀，按破了喇叭，我也不走，哼哼</td>\n",
       "      <td>NaN</td>\n",
       "    </tr>\n",
       "    <tr>\n",
       "      <th>9</th>\n",
       "      <td>93400746928369018</td>\n",
       "      <td>12200</td>\n",
       "      <td>122</td>\n",
       "      <td>0</td>\n",
       "      <td>527631,752678,438424,55803230</td>\n",
       "      <td>炎热的沙漠配上美女变得更火辣！</td>\n",
       "      <td>来家族。应该。你。到时。谁。</td>\n",
       "    </tr>\n",
       "  </tbody>\n",
       "</table>\n",
       "</div>"
      ],
      "text/plain": [
       "                    id  category_id  cat  subcat  \\\n",
       "0  8181862433864400302        10804  108       4   \n",
       "1  4155641279071878522        10401  104       1   \n",
       "2  6281338907679991214        10501  105       1   \n",
       "3  8506122561779211694        11604  116       4   \n",
       "4  4696077578276769146        10012  100      12   \n",
       "5  6290345740389858734        11604  116       4   \n",
       "6  8380021795080191406        10500  105       0   \n",
       "7  3804367693936981422        11702  117       2   \n",
       "8  2804562438649978286        11604  116       4   \n",
       "9    93400746928369018        12200  122       0   \n",
       "\n",
       "                                              tag_id  \\\n",
       "0  55848798,800002360,593341,55744355,55859481,55...   \n",
       "1            286226,101389,800000950,9504442,9820430   \n",
       "2  56080717,4093463,41614380,224444,101461,560840...   \n",
       "3                                     530228,3326413   \n",
       "4                   101334,102376,800000171,10115859   \n",
       "5                   800000841,3326413,4356581,830719   \n",
       "6                           5833128,3323093,55737387   \n",
       "7         102419,800001783,800000841,56048305,149957   \n",
       "8                   1355431,165536,800001720,5865253   \n",
       "9                      527631,752678,438424,55803230   \n",
       "\n",
       "                         title  \\\n",
       "0           我只不过跳了跳舞，结果光子实在太狠了   \n",
       "1                这么可爱的小姐姐，太搞怪了   \n",
       "2  最近超级火的歌曲《冬眠》，美女唱得很不赖，绝对是实力派   \n",
       "3    下地干农活无意间拍下这一幕，这是什么东西，吓我一跳   \n",
       "4    和女儿们一块玩游戏，把她俩给骗了，她们却玩的很开心   \n",
       "5  猪肉太贵吃不起，撒网高手坐不住了，正在河沟撒网捕鱼呢！   \n",
       "6                沈老师跟我们告别回家休息了   \n",
       "7                    这就是所谓的备胎吧   \n",
       "8          猪：你按呀，按破了喇叭，我也不走，哼哼   \n",
       "9              炎热的沙漠配上美女变得更火辣！   \n",
       "\n",
       "                                            asr_text  \n",
       "0                                                NaN  \n",
       "1  邢飞真的是太能搞怪了，跟粉丝的速度一点都不装特别的，真就是喜欢这么正的女孩，你们是不是跟你一...  \n",
       "2  你听。热车吗？你听着他说着你的。只上了赌注你。拍女生。啊。都要。的总结到位深。你替他掩饰着粽...  \n",
       "3                                  一样。会落实。隆隆天空。给个反应。  \n",
       "4                                你想。样子。认真在。让魔王魔王。是谁。  \n",
       "5  提起吃肉我就上火。朱荣辉一个了不。赌。一斤猪肉。多百姓着，今有物伤多。鸡蛋，青菜和水果，随着...  \n",
       "6                   那么吃饭点到底是？十二。怎么会。你不信。我现在会。现在却。切割。  \n",
       "7                                  新闻我也。申请。肩膀的首先。SL。  \n",
       "8                                                NaN  \n",
       "9                                     来家族。应该。你。到时。谁。  "
      ]
     },
     "execution_count": 5,
     "metadata": {},
     "output_type": "execute_result"
    }
   ],
   "source": [
    "d.head(10)"
   ]
  },
  {
   "cell_type": "code",
   "execution_count": 6,
   "metadata": {},
   "outputs": [],
   "source": [
    "def gen_w2v(name, window=32, min_count=1, emb_dim=256):\n",
    "  sentences = []\n",
    "  for row in tqdm(d.itertuples(), total=len(d)):\n",
    "    row = row._asdict()\n",
    "    if name == 'word':\n",
    "      l = ['[CLS]', *jieba.cut(str(row['title'])), '[SEP]', *jieba.cut(str(row['asr_text'])), '[SEP]']\n",
    "    else:\n",
    "      l = str(row[name]).split(',')\n",
    "    sentences.append(l)\n",
    "  ic(len(sentences))\n",
    "  name = name.replace('_id', '')\n",
    "  monitor = gezi.MonitorCallback(name) \n",
    "  w2v = Word2Vec(sentences, vector_size=emb_dim, window=window, min_count=min_count, sg=1, workers=mp.cpu_count(), epochs=10, callbacks=[monitor])\n",
    "  ofile = f'../input/w2v/jieba/{emb_dim}/{name}.pkl'\n",
    "  gezi.try_mkdir(os.path.dirname(ofile))\n",
    "  vocab = vocabs[name]\n",
    "  # emb = np.zeros([vocab.size(), emb_dim])\n",
    "  emb = np.random.uniform(-0.05, 0.05,(vocab.size(), emb_dim))\n",
    "  for i in range(vocab.size()):\n",
    "    word = vocab.key(i) \n",
    "    if word in w2v.wv:\n",
    "      emb[i] = w2v.wv[word]\n",
    "  ofile = f'../input/w2v/jieba/{emb_dim}/{name}.npy'\n",
    "  np.save(ofile, emb)\n",
    "  \n",
    "  return w2v"
   ]
  },
  {
   "cell_type": "code",
   "execution_count": 8,
   "metadata": {},
   "outputs": [
    {
     "data": {
      "application/vnd.jupyter.widget-view+json": {
       "model_id": "469cf91870a94af498df5c5a2ef9ced8",
       "version_major": 2,
       "version_minor": 0
      },
      "text/plain": [
       "  0%|          | 0/1138154 [00:00<?, ?it/s]"
      ]
     },
     "metadata": {},
     "output_type": "display_data"
    },
    {
     "name": "stderr",
     "output_type": "stream",
     "text": [
      "ic| 245958767.py:10 in gen_w2v()- len(sentences): 1138154\n"
     ]
    },
    {
     "name": "stdout",
     "output_type": "stream",
     "text": [
      "name: tag epoch: 1 model loss: 0.0 elapsed minutes: 0.13\n",
      "name: tag epoch: 2 model loss: 0.0 elapsed minutes: 0.09\n",
      "name: tag epoch: 3 model loss: 0.0 elapsed minutes: 0.08\n",
      "name: tag epoch: 4 model loss: 0.0 elapsed minutes: 0.08\n",
      "name: tag epoch: 5 model loss: 0.0 elapsed minutes: 0.09\n",
      "name: tag epoch: 6 model loss: 0.0 elapsed minutes: 0.07\n",
      "name: tag epoch: 7 model loss: 0.0 elapsed minutes: 0.08\n",
      "name: tag epoch: 8 model loss: 0.0 elapsed minutes: 0.08\n"
     ]
    }
   ],
   "source": [
    "# gen_w2v('tag_id', emb_dim=256)"
   ]
  },
  {
   "cell_type": "code",
   "execution_count": null,
   "metadata": {},
   "outputs": [],
   "source": [
    "# gen_w2v('tag_id', emb_dim=512)"
   ]
  },
  {
   "cell_type": "code",
   "execution_count": null,
   "metadata": {},
   "outputs": [],
   "source": [
    "# gen_w2v('word', emb_dim=256)"
   ]
  },
  {
   "cell_type": "code",
   "execution_count": null,
   "metadata": {},
   "outputs": [],
   "source": [
    "#  gen_w2v('word', emb_dim=512)"
   ]
  },
  {
   "cell_type": "code",
   "execution_count": 7,
   "metadata": {},
   "outputs": [
    {
     "data": {
      "application/vnd.jupyter.widget-view+json": {
       "model_id": "ee4f4191334845339b33fef4666634dd",
       "version_major": 2,
       "version_minor": 0
      },
      "text/plain": [
       "  0%|          | 0/1138154 [00:00<?, ?it/s]"
      ]
     },
     "metadata": {},
     "output_type": "display_data"
    },
    {
     "name": "stderr",
     "output_type": "stream",
     "text": [
      "Building prefix dict from the default dictionary ...\n",
      "DEBUG:jieba:Building prefix dict from the default dictionary ...\n",
      "Loading model from cache /tmp/jieba.cache\n",
      "DEBUG:jieba:Loading model from cache /tmp/jieba.cache\n",
      "Loading model cost 0.661 seconds.\n",
      "DEBUG:jieba:Loading model cost 0.661 seconds.\n",
      "Prefix dict has been built successfully.\n",
      "DEBUG:jieba:Prefix dict has been built successfully.\n",
      "ic| 737410769.py:10 in gen_w2v()- len(sentences): 1138154\n"
     ]
    },
    {
     "name": "stdout",
     "output_type": "stream",
     "text": [
      "name: word epoch: 1 model loss: 0.0 elapsed minutes: 30.47\n",
      "name: word epoch: 2 model loss: 0.0 elapsed minutes: 28.90\n",
      "name: word epoch: 3 model loss: 0.0 elapsed minutes: 32.69\n",
      "name: word epoch: 4 model loss: 0.0 elapsed minutes: 31.31\n",
      "name: word epoch: 5 model loss: 0.0 elapsed minutes: 31.30\n",
      "name: word epoch: 6 model loss: 0.0 elapsed minutes: 30.35\n",
      "name: word epoch: 7 model loss: 0.0 elapsed minutes: 29.46\n",
      "name: word epoch: 8 model loss: 0.0 elapsed minutes: 29.23\n",
      "name: word epoch: 9 model loss: 0.0 elapsed minutes: 34.51\n",
      "name: word epoch: 10 model loss: 0.0 elapsed minutes: 34.38\n"
     ]
    },
    {
     "data": {
      "text/plain": [
       "<gensim.models.word2vec.Word2Vec at 0x7ff99c21f610>"
      ]
     },
     "execution_count": 7,
     "metadata": {},
     "output_type": "execute_result"
    }
   ],
   "source": [
    "#  gen_w2v('word', emb_dim=768)"
   ]
  },
  {
   "cell_type": "code",
   "execution_count": 8,
   "metadata": {},
   "outputs": [
    {
     "data": {
      "application/vnd.jupyter.widget-view+json": {
       "model_id": "c22bc7ffee9441b38ae743f078f78947",
       "version_major": 2,
       "version_minor": 0
      },
      "text/plain": [
       "  0%|          | 0/1138154 [00:00<?, ?it/s]"
      ]
     },
     "metadata": {},
     "output_type": "display_data"
    }
   ],
   "source": [
    "gen_w2v('word', emb_dim=300)"
   ]
  },
  {
   "cell_type": "code",
   "execution_count": null,
   "metadata": {},
   "outputs": [],
   "source": [
    "gen_w2v('word', emb_dim=400)"
   ]
  },
  {
   "cell_type": "code",
   "execution_count": null,
   "metadata": {},
   "outputs": [],
   "source": [
    "gen_w2v('word', emb_dim=600)"
   ]
  }
 ],
 "metadata": {
  "interpreter": {
   "hash": "2e1511501be64c09e2f1eb58c3220ebc9ce84b491d308a480caed250bbb4af51"
  },
  "kernelspec": {
   "display_name": "Python 3.9.6 64-bit",
   "name": "python3"
  },
  "language_info": {
   "codemirror_mode": {
    "name": "ipython",
    "version": 3
   },
   "file_extension": ".py",
   "mimetype": "text/x-python",
   "name": "python",
   "nbconvert_exporter": "python",
   "pygments_lexer": "ipython3",
   "version": "3.9.6"
  }
 },
 "nbformat": 4,
 "nbformat_minor": 2
}
