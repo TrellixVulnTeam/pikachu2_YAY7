{
 "cells": [
  {
   "cell_type": "code",
   "execution_count": 7,
   "source": [
    "import numpy as np\n",
    "import scipy\n",
    "from sklearn.metrics.pairwise import cosine_similarity\n",
    "import sklearn.preprocessing as skp\n",
    "from sklearn import metrics\n",
    "import gezi"
   ],
   "outputs": [],
   "metadata": {}
  },
  {
   "cell_type": "code",
   "execution_count": 8,
   "source": [
    "def print_spearmanr(a, b):\n",
    "    v = scipy.stats.spearmanr(a, b)\n",
    "    print(v, v.correlation)\n",
    "\n",
    "def print_corr(a, b):\n",
    "    v = scipy.stats.pearsonr(a, b)\n",
    "    print(v[0])\n",
    "\n",
    "a = np.array([0., 1., 2., 3.])\n",
    "b = np.array([0., 1., 2., 3.])\n",
    "print_spearmanr(a, b) # --> 1.\n",
    "print_corr(a, b)\n",
    "b2 = np.array([4., 5., 6., 7.])\n",
    "print_spearmanr(a, b2)  # --> 1.\n",
    "print_corr(a, b2)"
   ],
   "outputs": [
    {
     "output_type": "stream",
     "name": "stdout",
     "text": [
      "SpearmanrResult(correlation=1.0, pvalue=0.0) 1.0\n",
      "1.0\n",
      "SpearmanrResult(correlation=1.0, pvalue=0.0) 1.0\n",
      "1.0\n"
     ]
    }
   ],
   "metadata": {}
  },
  {
   "cell_type": "code",
   "execution_count": 9,
   "source": [
    "# https://www.kaggle.com/c/google-quest-challenge/discussion/118724\n",
    "a = np.array([0.5, 0.5, 0.7, 0.7])\n",
    "b = np.array([4., 5., 6., 7.])\n",
    "print_spearmanr(a, b) # --> 0.89\n",
    "print_corr(a, b)\n",
    "\n",
    "b2 = np.array([4., 4., 6., 6.])\n",
    "print_spearmanr(a, b2) # --> 1.\n",
    "print_corr(a, b2)"
   ],
   "outputs": [
    {
     "output_type": "stream",
     "name": "stdout",
     "text": [
      "SpearmanrResult(correlation=0.8944271909999159, pvalue=0.10557280900008413) 0.8944271909999159\n",
      "0.894427190999916\n",
      "SpearmanrResult(correlation=1.0, pvalue=0.0) 1.0\n",
      "1.0\n"
     ]
    }
   ],
   "metadata": {}
  },
  {
   "cell_type": "code",
   "execution_count": 10,
   "source": [
    "import tensorflow as tf\n",
    "from fast_soft_sort.tf_ops import soft_rank, soft_sort\n",
    "values = tf.convert_to_tensor([[5., 1., 2.], [2., 1., 5.]], dtype=tf.float64)\n",
    "ic(soft_sort(values, regularization_strength=1.0))\n",
    "ic(soft_sort(values, regularization_strength=0.1))\n",
    "ic(soft_rank(values, regularization_strength=2.0))\n",
    "ic(soft_rank(values, regularization_strength=1.0))"
   ],
   "outputs": [
    {
     "output_type": "stream",
     "name": "stderr",
     "text": [
      "2021-10-01 22:33:20.420315: W tensorflow/stream_executor/platform/default/dso_loader.cc:64] Could not load dynamic library 'libcuda.so.1'; dlerror: libcuda.so.1: cannot open shared object file: No such file or directory; LD_LIBRARY_PATH: /usr/local/nvidia/lib64/:/opt/nccl-rdma-sharp-plugins/lib:/opt/openmpi-4.0.4/lib:/usr/local/cuda/compat/lib:/usr/local/nvidia/lib:/usr/local/nvidia/lib64:/opt/nccl-rdma-sharp-plugins.install/lib\n",
      "2021-10-01 22:33:20.420448: W tensorflow/stream_executor/cuda/cuda_driver.cc:326] failed call to cuInit: UNKNOWN ERROR (303)\n",
      "2021-10-01 22:33:20.420488: I tensorflow/stream_executor/cuda/cuda_diagnostics.cc:163] no NVIDIA GPU device is present: /dev/nvidia0 does not exist\n",
      "2021-10-01 22:33:20.420976: I tensorflow/core/platform/cpu_feature_guard.cc:142] This TensorFlow binary is optimized with oneAPI Deep Neural Network Library (oneDNN) to use the following CPU instructions in performance-critical operations:  AVX2 FMA\n",
      "To enable them in other operations, rebuild TensorFlow with the appropriate compiler flags.\n",
      "ic| 3264584516.py:4 in <module>\n",
      "    soft_sort(values, regularization_strength=1.0): <tf.Tensor: shape=(2, 3), dtype=float64, numpy=\n",
      "                                                    array([[1.66666667, 2.66666667, 3.66666667],\n",
      "                                                           [1.66666667, 2.66666667, 3.66666667]])>\n",
      "ic| 3264584516.py:5 in <module>\n",
      "    soft_sort(values, regularization_strength=0.1): <tf.Tensor: shape=(2, 3), dtype=float64, numpy=\n",
      "                                                    array([[1., 2., 5.],\n",
      "                                                           [1., 2., 5.]])>\n",
      "ic| 3264584516.py:6 in <module>\n",
      "    soft_rank(values, regularization_strength=2.0): <tf.Tensor: shape=(2, 3), dtype=float64, numpy=\n",
      "                                                    array([[3.  , 1.25, 1.75],\n",
      "                                                           [1.75, 1.25, 3.  ]])>\n",
      "ic| 3264584516.py:7 in <module>\n",
      "    soft_rank(values, regularization_strength=1.0): <tf.Tensor: shape=(2, 3), dtype=float64, numpy=\n",
      "                                                    array([[3., 1., 2.],\n",
      "                                                           [2., 1., 3.]])>\n"
     ]
    },
    {
     "output_type": "execute_result",
     "data": {
      "text/plain": [
       "<tf.Tensor: shape=(2, 3), dtype=float64, numpy=\n",
       "array([[3., 1., 2.],\n",
       "       [2., 1., 3.]])>"
      ]
     },
     "metadata": {},
     "execution_count": 10
    }
   ],
   "metadata": {}
  },
  {
   "cell_type": "code",
   "execution_count": null,
   "source": [],
   "outputs": [],
   "metadata": {}
  }
 ],
 "metadata": {
  "orig_nbformat": 4,
  "language_info": {
   "name": "python",
   "version": "3.9.6",
   "mimetype": "text/x-python",
   "codemirror_mode": {
    "name": "ipython",
    "version": 3
   },
   "pygments_lexer": "ipython3",
   "nbconvert_exporter": "python",
   "file_extension": ".py"
  },
  "kernelspec": {
   "name": "python3",
   "display_name": "Python 3.9.6 64-bit (conda)"
  },
  "interpreter": {
   "hash": "4a3b8e604c89dd738b73f629e47065937bc949a9033b2f0d810af4f206605dd3"
  }
 },
 "nbformat": 4,
 "nbformat_minor": 2
}