{
 "cells": [
  {
   "cell_type": "code",
   "execution_count": 1,
   "metadata": {},
   "outputs": [],
   "source": [
    "def get_size_score(size, factor=2.):\n",
    "  size /= factor\n",
    "  size *= 0.9\n",
    "  print('file_size', size)\n",
    "  if size >= 50:\n",
    "    return 0 \n",
    "  else:\n",
    "    return 0.2 * (1. - size / 50)\n",
    "\n",
    "def get_perf_score(items_per_second):\n",
    "  hours = 300000 / items_per_second / 3600\n",
    "  print('hours:', hours, 'seconds:', hours * 3600)\n",
    "  if hours >= 6:\n",
    "    return 0\n",
    "  else:\n",
    "    return 0.3 * (1. - hours / 6)\n",
    "\n",
    "def get_metric_score(fwiou):\n",
    "  # 0.787 -> 0.581\n",
    "  # 0.7421 -> 0.540\n",
    "  # 0.7344 -> 0.5265\n",
    "  fwiou -= 0.2021\n",
    "  print('online_fwiou', fwiou)\n",
    "  return 0.5 * fwiou\n",
    "\n",
    "def get_score(size, duration, fwiou, factor=2.):\n",
    "  size_score = get_size_score(size, factor) \n",
    "  perf_score = get_perf_score(duration) \n",
    "  metric_score = get_metric_score(fwiou)\n",
    "  other_score = size_score + perf_score\n",
    "  score = other_score +  metric_score\n",
    "  res = {\n",
    "    'size_score': size_score,\n",
    "    'perf_score': perf_score,\n",
    "    'metric_score': metric_score,\n",
    "    'other_score': other_score,\n",
    "    'score': score\n",
    "  }\n",
    "  return res"
   ]
  },
  {
   "cell_type": "code",
   "execution_count": 2,
   "metadata": {},
   "outputs": [],
   "source": [
    "import sys\n",
    "root = '/home/featurize/data'\n",
    "sys.path.append(f'{root}/pikachu/utils')\n",
    "sys.path.append(f'{root}/pikachu/third')\n",
    "sys.path.append(f'{root}/pikachu')\n",
    "sys.path.append(f'{root}/pikachu/projects/ai/naic_seg')\n",
    "import gezi"
   ]
  },
  {
   "cell_type": "code",
   "execution_count": 52,
   "metadata": {},
   "outputs": [
    {
     "name": "stdout",
     "output_type": "stream",
     "text": [
      "file_size 4.1850000000000005\n",
      "hours: 0.7716049382716049 seconds: 2777.777777777778\n",
      "online_fwiou 0.5323\n",
      "\n",
      " +--------------+--------------+----------------+---------------+---------+\n",
      "|   size_score |   perf_score |   metric_score |   other_score |   score |\n",
      "|--------------+--------------+----------------+---------------+---------|\n",
      "|      0.18326 |      0.26142 |        0.26615 |       0.44468 | 0.71083 |\n",
      "+--------------+--------------+----------------+---------------+---------+\n"
     ]
    }
   ],
   "source": [
    "res = get_score(9.3, 108, 0.7344)\n",
    "gezi.pprint_dict(res)"
   ]
  },
  {
   "cell_type": "code",
   "execution_count": 53,
   "metadata": {},
   "outputs": [
    {
     "name": "stdout",
     "output_type": "stream",
     "text": [
      "file_size 4.1850000000000005\n",
      "hours: 0.7716049382716049 seconds: 2777.777777777778\n",
      "online_fwiou 0.54\n",
      "\n",
      " +--------------+--------------+----------------+---------------+---------+\n",
      "|   size_score |   perf_score |   metric_score |   other_score |   score |\n",
      "|--------------+--------------+----------------+---------------+---------|\n",
      "|      0.18326 |      0.26142 |           0.27 |       0.44468 | 0.71468 |\n",
      "+--------------+--------------+----------------+---------------+---------+\n"
     ]
    }
   ],
   "source": [
    "res = get_score(9.3, 108, 0.7421)\n",
    "gezi.pprint_dict(res)"
   ]
  },
  {
   "cell_type": "code",
   "execution_count": 26,
   "metadata": {},
   "outputs": [
    {
     "data": {
      "text/plain": [
       "0.20209999999999995"
      ]
     },
     "execution_count": 26,
     "metadata": {},
     "output_type": "execute_result"
    }
   ],
   "source": [
    "0.7421 - 0.540"
   ]
  },
  {
   "cell_type": "code",
   "execution_count": 54,
   "metadata": {},
   "outputs": [
    {
     "name": "stdout",
     "output_type": "stream",
     "text": [
      "file_size 4.1850000000000005\n",
      "hours: 0.764525993883792 seconds: 2752.293577981651\n",
      "online_fwiou 0.54\n",
      "\n",
      " +--------------+--------------+----------------+---------------+----------+\n",
      "|   size_score |   perf_score |   metric_score |   other_score |    score |\n",
      "|--------------+--------------+----------------+---------------+----------|\n",
      "|      0.18326 |     0.261774 |           0.27 |      0.445034 | 0.715034 |\n",
      "+--------------+--------------+----------------+---------------+----------+\n"
     ]
    }
   ],
   "source": [
    "res = get_score(9.3, 109, 0.7421)\n",
    "gezi.pprint_dict(res)"
   ]
  },
  {
   "cell_type": "code",
   "execution_count": 78,
   "metadata": {},
   "outputs": [
    {
     "name": "stdout",
     "output_type": "stream",
     "text": [
      "file_size 4.1850000000000005\n",
      "hours: 0.8391666666666666 seconds: 3021.0\n",
      "online_fwiou 0.54\n",
      "\n",
      " +--------------+--------------+----------------+---------------+----------+\n",
      "|   size_score |   perf_score |   metric_score |   other_score |    score |\n",
      "|--------------+--------------+----------------+---------------+----------|\n",
      "|      0.18326 |     0.258042 |           0.27 |      0.441302 | 0.711302 |\n",
      "+--------------+--------------+----------------+---------------+----------+\n"
     ]
    }
   ],
   "source": [
    "res = get_score(9.3, 10000 / 100.7, 0.7421)\n",
    "gezi.pprint_dict(res)"
   ]
  },
  {
   "cell_type": "code",
   "execution_count": 79,
   "metadata": {},
   "outputs": [
    {
     "name": "stdout",
     "output_type": "stream",
     "text": [
      "file_size 4.1850000000000005\n",
      "hours: 0.8666666666666667 seconds: 3120.0\n",
      "online_fwiou 0.54\n",
      "\n",
      " +--------------+--------------+----------------+---------------+----------+\n",
      "|   size_score |   perf_score |   metric_score |   other_score |    score |\n",
      "|--------------+--------------+----------------+---------------+----------|\n",
      "|      0.18326 |     0.256667 |           0.27 |      0.439927 | 0.709927 |\n",
      "+--------------+--------------+----------------+---------------+----------+\n"
     ]
    }
   ],
   "source": [
    "res = get_score(9.3, 10000 / 104, 0.7421)\n",
    "gezi.pprint_dict(res)"
   ]
  },
  {
   "cell_type": "code",
   "execution_count": 80,
   "metadata": {},
   "outputs": [
    {
     "name": "stdout",
     "output_type": "stream",
     "text": [
      "file_size 4.1850000000000005\n",
      "hours: 0.8666666666666667 seconds: 3120.0\n",
      "online_fwiou 0.5479\n",
      "\n",
      " +--------------+--------------+----------------+---------------+----------+\n",
      "|   size_score |   perf_score |   metric_score |   other_score |    score |\n",
      "|--------------+--------------+----------------+---------------+----------|\n",
      "|      0.18326 |     0.256667 |        0.27395 |      0.439927 | 0.713877 |\n",
      "+--------------+--------------+----------------+---------------+----------+\n"
     ]
    }
   ],
   "source": [
    "res = get_score(9.3, 10000 / 104, 0.75)\n",
    "gezi.pprint_dict(res)"
   ]
  },
  {
   "cell_type": "code",
   "execution_count": 56,
   "metadata": {},
   "outputs": [
    {
     "name": "stdout",
     "output_type": "stream",
     "text": [
      "file_size 4.95\n",
      "hours: 0.8333333333333334 seconds: 3000.0\n",
      "online_fwiou 0.54\n",
      "\n",
      " +--------------+--------------+----------------+---------------+----------+\n",
      "|   size_score |   perf_score |   metric_score |   other_score |    score |\n",
      "|--------------+--------------+----------------+---------------+----------|\n",
      "|       0.1802 |     0.258333 |           0.27 |      0.438533 | 0.708533 |\n",
      "+--------------+--------------+----------------+---------------+----------+\n"
     ]
    }
   ],
   "source": [
    "res = get_score(11, 100, 0.7421)\n",
    "gezi.pprint_dict(res)"
   ]
  },
  {
   "cell_type": "code",
   "execution_count": 77,
   "metadata": {},
   "outputs": [
    {
     "name": "stdout",
     "output_type": "stream",
     "text": [
      "file_size 4.95\n",
      "hours: 0.7936507936507937 seconds: 2857.1428571428573\n",
      "online_fwiou 0.5529\n",
      "\n",
      " +--------------+--------------+----------------+---------------+----------+\n",
      "|   size_score |   perf_score |   metric_score |   other_score |    score |\n",
      "|--------------+--------------+----------------+---------------+----------|\n",
      "|       0.1802 |     0.260317 |        0.27645 |      0.440517 | 0.716967 |\n",
      "+--------------+--------------+----------------+---------------+----------+\n"
     ]
    }
   ],
   "source": [
    "res = get_score(11, 105, 0.755)\n",
    "gezi.pprint_dict(res)"
   ]
  },
  {
   "cell_type": "code",
   "execution_count": 74,
   "metadata": {},
   "outputs": [
    {
     "name": "stdout",
     "output_type": "stream",
     "text": [
      "file_size 4.95\n",
      "hours: 0.8333333333333334 seconds: 3000.0\n",
      "online_fwiou 0.55\n",
      "\n",
      " +--------------+--------------+----------------+---------------+----------+\n",
      "|   size_score |   perf_score |   metric_score |   other_score |    score |\n",
      "|--------------+--------------+----------------+---------------+----------|\n",
      "|       0.1802 |     0.258333 |          0.275 |      0.438533 | 0.713533 |\n",
      "+--------------+--------------+----------------+---------------+----------+\n"
     ]
    }
   ],
   "source": [
    "res = get_score(11, 100, 0.7521)\n",
    "gezi.pprint_dict(res)"
   ]
  },
  {
   "cell_type": "code",
   "execution_count": 59,
   "metadata": {},
   "outputs": [
    {
     "name": "stdout",
     "output_type": "stream",
     "text": [
      "file_size 7.65\n",
      "hours: 0.8333333333333334 seconds: 3000.0\n",
      "online_fwiou 0.56\n",
      "\n",
      " +--------------+--------------+----------------+---------------+----------+\n",
      "|   size_score |   perf_score |   metric_score |   other_score |    score |\n",
      "|--------------+--------------+----------------+---------------+----------|\n",
      "|       0.1694 |     0.258333 |           0.28 |      0.427733 | 0.707733 |\n",
      "+--------------+--------------+----------------+---------------+----------+\n"
     ]
    }
   ],
   "source": [
    "res = get_score(17, 100, 0.7621)\n",
    "gezi.pprint_dict(res)"
   ]
  },
  {
   "cell_type": "code",
   "execution_count": 63,
   "metadata": {},
   "outputs": [
    {
     "name": "stdout",
     "output_type": "stream",
     "text": [
      "file_size 4.1850000000000005\n",
      "hours: 0.8333333333333334 seconds: 3000.0\n",
      "online_fwiou 0.5479\n",
      "\n",
      " +--------------+--------------+----------------+---------------+----------+\n",
      "|   size_score |   perf_score |   metric_score |   other_score |    score |\n",
      "|--------------+--------------+----------------+---------------+----------|\n",
      "|      0.18326 |     0.258333 |        0.27395 |      0.441593 | 0.715543 |\n",
      "+--------------+--------------+----------------+---------------+----------+\n"
     ]
    }
   ],
   "source": [
    "res = get_score(9.3, 100, 0.75)\n",
    "gezi.pprint_dict(res)"
   ]
  },
  {
   "cell_type": "code",
   "execution_count": 3,
   "metadata": {},
   "outputs": [
    {
     "name": "stdout",
     "output_type": "stream",
     "text": [
      "file_size 4.1850000000000005\n",
      "hours: 0.764525993883792 seconds: 2752.293577981651\n",
      "online_fwiou 0.5479\n",
      "\n",
      " +--------------+--------------+----------------+---------------+----------+\n",
      "|   size_score |   perf_score |   metric_score |   other_score |    score |\n",
      "|--------------+--------------+----------------+---------------+----------|\n",
      "|      0.18326 |     0.261774 |        0.27395 |      0.445034 | 0.718984 |\n",
      "+--------------+--------------+----------------+---------------+----------+\n"
     ]
    }
   ],
   "source": [
    "res = get_score(9.3, 109, 0.75)\n",
    "gezi.pprint_dict(res)"
   ]
  },
  {
   "cell_type": "code",
   "execution_count": 12,
   "metadata": {},
   "outputs": [
    {
     "name": "stdout",
     "output_type": "stream",
     "text": [
      "file_size 4.1850000000000005\n",
      "hours: 0.764525993883792 seconds: 2752.293577981651\n",
      "online_fwiou 0.5502\n",
      "\n",
      " +--------------+--------------+----------------+---------------+----------+\n",
      "|   size_score |   perf_score |   metric_score |   other_score |    score |\n",
      "|--------------+--------------+----------------+---------------+----------|\n",
      "|      0.18326 |     0.261774 |         0.2751 |      0.445034 | 0.720134 |\n",
      "+--------------+--------------+----------------+---------------+----------+\n"
     ]
    }
   ],
   "source": [
    "res = get_score(9.3, 109, 0.7523)\n",
    "gezi.pprint_dict(res)"
   ]
  },
  {
   "cell_type": "code",
   "execution_count": 19,
   "metadata": {},
   "outputs": [
    {
     "name": "stdout",
     "output_type": "stream",
     "text": [
      "file_size 2.07\n",
      "hours: 0.641025641025641 seconds: 2307.6923076923076\n",
      "online_fwiou 0.5214000000000001\n",
      "\n",
      " +--------------+--------------+----------------+---------------+----------+\n",
      "|   size_score |   perf_score |   metric_score |   other_score |    score |\n",
      "|--------------+--------------+----------------+---------------+----------|\n",
      "|      0.19172 |     0.267949 |         0.2607 |      0.459669 | 0.720369 |\n",
      "+--------------+--------------+----------------+---------------+----------+\n"
     ]
    }
   ],
   "source": [
    "res = get_score(4.6, 130, 0.7235)\n",
    "gezi.pprint_dict(res)"
   ]
  },
  {
   "cell_type": "code",
   "execution_count": 20,
   "metadata": {},
   "outputs": [
    {
     "name": "stdout",
     "output_type": "stream",
     "text": [
      "file_size 2.295\n",
      "hours: 0.641025641025641 seconds: 2307.6923076923076\n",
      "online_fwiou 0.5248999999999999\n",
      "\n",
      " +--------------+--------------+----------------+---------------+----------+\n",
      "|   size_score |   perf_score |   metric_score |   other_score |    score |\n",
      "|--------------+--------------+----------------+---------------+----------|\n",
      "|      0.19082 |     0.267949 |        0.26245 |      0.458769 | 0.721219 |\n",
      "+--------------+--------------+----------------+---------------+----------+\n"
     ]
    }
   ],
   "source": [
    "res = get_score(5.1, 130, 0.727)\n",
    "gezi.pprint_dict(res)"
   ]
  },
  {
   "cell_type": "code",
   "execution_count": 27,
   "metadata": {},
   "outputs": [
    {
     "name": "stdout",
     "output_type": "stream",
     "text": [
      "file_size 2.07\n",
      "hours: 0.764525993883792 seconds: 2752.293577981651\n",
      "online_fwiou 0.5379\n",
      "\n",
      " +--------------+--------------+----------------+---------------+----------+\n",
      "|   size_score |   perf_score |   metric_score |   other_score |    score |\n",
      "|--------------+--------------+----------------+---------------+----------|\n",
      "|      0.19172 |     0.261774 |        0.26895 |      0.453494 | 0.722444 |\n",
      "+--------------+--------------+----------------+---------------+----------+\n"
     ]
    }
   ],
   "source": [
    "res = get_score(4.6, 109, 0.74)\n",
    "gezi.pprint_dict(res)"
   ]
  },
  {
   "cell_type": "code",
   "execution_count": null,
   "metadata": {},
   "outputs": [],
   "source": [
    "res = get_score(5.3, 120, 0.72)\n",
    "gezi.pprint_dict(res)"
   ]
  },
  {
   "cell_type": "code",
   "execution_count": 36,
   "metadata": {},
   "outputs": [
    {
     "name": "stdout",
     "output_type": "stream",
     "text": [
      "file_size 2.385\n",
      "hours: 0.641025641025641 seconds: 2307.6923076923076\n",
      "online_fwiou 0.5379\n",
      "\n",
      " +--------------+--------------+----------------+---------------+----------+\n",
      "|   size_score |   perf_score |   metric_score |   other_score |    score |\n",
      "|--------------+--------------+----------------+---------------+----------|\n",
      "|      0.19046 |     0.267949 |        0.26895 |      0.458409 | 0.727359 |\n",
      "+--------------+--------------+----------------+---------------+----------+\n"
     ]
    }
   ],
   "source": [
    "res = get_score(5.3, 130, 0.74)\n",
    "gezi.pprint_dict(res)"
   ]
  },
  {
   "cell_type": "code",
   "execution_count": 9,
   "metadata": {},
   "outputs": [
    {
     "name": "stdout",
     "output_type": "stream",
     "text": [
      "file_size 4.95\n",
      "hours: 0.764525993883792 seconds: 2752.293577981651\n",
      "online_fwiou 0.5468999999999999\n",
      "\n",
      " +--------------+--------------+----------------+---------------+----------+\n",
      "|   size_score |   perf_score |   metric_score |   other_score |    score |\n",
      "|--------------+--------------+----------------+---------------+----------|\n",
      "|       0.1802 |     0.261774 |        0.27345 |      0.441974 | 0.715424 |\n",
      "+--------------+--------------+----------------+---------------+----------+\n"
     ]
    }
   ],
   "source": [
    "res = get_score(11, 109, 0.749)\n",
    "gezi.pprint_dict(res)"
   ]
  },
  {
   "cell_type": "code",
   "execution_count": 8,
   "metadata": {},
   "outputs": [
    {
     "name": "stdout",
     "output_type": "stream",
     "text": [
      "file_size 2.835\n",
      "hours: 0.764525993883792 seconds: 2752.293577981651\n",
      "online_fwiou 0.5328999999999999\n",
      "\n",
      " +--------------+--------------+----------------+---------------+----------+\n",
      "|   size_score |   perf_score |   metric_score |   other_score |    score |\n",
      "|--------------+--------------+----------------+---------------+----------|\n",
      "|      0.18866 |     0.261774 |        0.26645 |      0.450434 | 0.716884 |\n",
      "+--------------+--------------+----------------+---------------+----------+\n"
     ]
    }
   ],
   "source": [
    "res = get_score(6.3, 109, 0.735)\n",
    "gezi.pprint_dict(res)"
   ]
  },
  {
   "cell_type": "code",
   "execution_count": 9,
   "metadata": {},
   "outputs": [
    {
     "name": "stdout",
     "output_type": "stream",
     "text": [
      "file_size 2.0925000000000002\n",
      "hours: 0.764525993883792 seconds: 2752.293577981651\n",
      "online_fwiou 0.5402\n",
      "\n",
      " +--------------+--------------+----------------+---------------+----------+\n",
      "|   size_score |   perf_score |   metric_score |   other_score |    score |\n",
      "|--------------+--------------+----------------+---------------+----------|\n",
      "|      0.19163 |     0.261774 |         0.2701 |      0.453404 | 0.723504 |\n",
      "+--------------+--------------+----------------+---------------+----------+\n"
     ]
    }
   ],
   "source": [
    "res = get_score(9.3, 109, 0.7423, 4)\n",
    "gezi.pprint_dict(res)"
   ]
  },
  {
   "cell_type": "code",
   "execution_count": 15,
   "metadata": {},
   "outputs": [
    {
     "name": "stdout",
     "output_type": "stream",
     "text": [
      "file_size 4.1850000000000005\n",
      "hours: 0.7507507507507507 seconds: 2702.7027027027025\n",
      "online_fwiou 0.5402\n",
      "\n",
      " +--------------+--------------+----------------+---------------+----------+\n",
      "|   size_score |   perf_score |   metric_score |   other_score |    score |\n",
      "|--------------+--------------+----------------+---------------+----------|\n",
      "|      0.18326 |     0.262462 |         0.2701 |      0.445722 | 0.715822 |\n",
      "+--------------+--------------+----------------+---------------+----------+\n"
     ]
    }
   ],
   "source": [
    "res = get_score(9.3, 111, 0.7423)\n",
    "gezi.pprint_dict(res)"
   ]
  },
  {
   "cell_type": "code",
   "execution_count": 17,
   "metadata": {},
   "outputs": [
    {
     "name": "stdout",
     "output_type": "stream",
     "text": [
      "file_size 4.1850000000000005\n",
      "hours: 0.6775067750677507 seconds: 2439.0243902439024\n",
      "online_fwiou 0.5402\n",
      "\n",
      " +--------------+--------------+----------------+---------------+----------+\n",
      "|   size_score |   perf_score |   metric_score |   other_score |    score |\n",
      "|--------------+--------------+----------------+---------------+----------|\n",
      "|      0.18326 |     0.266125 |         0.2701 |      0.449385 | 0.719485 |\n",
      "+--------------+--------------+----------------+---------------+----------+\n"
     ]
    }
   ],
   "source": [
    "res = get_score(9.3, 123, 0.7423)\n",
    "gezi.pprint_dict(res)"
   ]
  },
  {
   "cell_type": "code",
   "execution_count": 16,
   "metadata": {},
   "outputs": [
    {
     "name": "stdout",
     "output_type": "stream",
     "text": [
      "file_size 3.69\n",
      "hours: 0.7507507507507507 seconds: 2702.7027027027025\n",
      "online_fwiou 0.5402\n",
      "\n",
      " +--------------+--------------+----------------+---------------+----------+\n",
      "|   size_score |   perf_score |   metric_score |   other_score |    score |\n",
      "|--------------+--------------+----------------+---------------+----------|\n",
      "|      0.18524 |     0.262462 |         0.2701 |      0.447702 | 0.717802 |\n",
      "+--------------+--------------+----------------+---------------+----------+\n"
     ]
    }
   ],
   "source": [
    "res = get_score(8.2, 111, 0.7423)\n",
    "gezi.pprint_dict(res)"
   ]
  },
  {
   "cell_type": "code",
   "execution_count": 14,
   "metadata": {},
   "outputs": [
    {
     "name": "stdout",
     "output_type": "stream",
     "text": [
      "file_size 4.1850000000000005\n",
      "hours: 0.8169934640522876 seconds: 2941.176470588235\n",
      "online_fwiou 0.5462\n",
      "\n",
      " +--------------+--------------+----------------+---------------+---------+\n",
      "|   size_score |   perf_score |   metric_score |   other_score |   score |\n",
      "|--------------+--------------+----------------+---------------+---------|\n",
      "|      0.18326 |      0.25915 |         0.2731 |       0.44241 | 0.71551 |\n",
      "+--------------+--------------+----------------+---------------+---------+\n"
     ]
    }
   ],
   "source": [
    "res = get_score(9.3, 102, 0.7483)\n",
    "gezi.pprint_dict(res)"
   ]
  },
  {
   "cell_type": "code",
   "execution_count": 72,
   "metadata": {},
   "outputs": [
    {
     "name": "stdout",
     "output_type": "stream",
     "text": [
      "file_size 4.1850000000000005\n",
      "hours: 0.764525993883792 seconds: 2752.293577981651\n",
      "online_fwiou 0.5422\n",
      "\n",
      " +--------------+--------------+----------------+---------------+----------+\n",
      "|   size_score |   perf_score |   metric_score |   other_score |    score |\n",
      "|--------------+--------------+----------------+---------------+----------|\n",
      "|      0.18326 |     0.261774 |         0.2711 |      0.445034 | 0.716134 |\n",
      "+--------------+--------------+----------------+---------------+----------+\n"
     ]
    }
   ],
   "source": [
    "res = get_score(9.3, 109, 0.7443)\n",
    "gezi.pprint_dict(res)"
   ]
  },
  {
   "cell_type": "code",
   "execution_count": 73,
   "metadata": {},
   "outputs": [
    {
     "name": "stdout",
     "output_type": "stream",
     "text": [
      "file_size 4.1850000000000005\n",
      "hours: 0.7936507936507937 seconds: 2857.1428571428573\n",
      "online_fwiou 0.5422\n",
      "\n",
      " +--------------+--------------+----------------+---------------+----------+\n",
      "|   size_score |   perf_score |   metric_score |   other_score |    score |\n",
      "|--------------+--------------+----------------+---------------+----------|\n",
      "|      0.18326 |     0.260317 |         0.2711 |      0.443577 | 0.714677 |\n",
      "+--------------+--------------+----------------+---------------+----------+\n"
     ]
    }
   ],
   "source": [
    "res = get_score(9.3, 105, 0.7443)\n",
    "gezi.pprint_dict(res)"
   ]
  },
  {
   "cell_type": "code",
   "execution_count": null,
   "metadata": {},
   "outputs": [],
   "source": []
  }
 ],
 "metadata": {
  "kernelspec": {
   "display_name": "Python 3",
   "language": "python",
   "name": "python3"
  },
  "language_info": {
   "codemirror_mode": {
    "name": "ipython",
    "version": 3
   },
   "file_extension": ".py",
   "mimetype": "text/x-python",
   "name": "python",
   "nbconvert_exporter": "python",
   "pygments_lexer": "ipython3",
   "version": "3.7.4"
  }
 },
 "nbformat": 4,
 "nbformat_minor": 4
}
