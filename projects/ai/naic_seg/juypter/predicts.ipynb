{
 "cells": [
  {
   "cell_type": "code",
   "execution_count": 1,
   "metadata": {},
   "outputs": [],
   "source": [
    "import sys\n",
    "root = '/home/featurize/data'\n",
    "sys.path.append(f'{root}/pikachu/utils')\n",
    "sys.path.append(f'{root}/pikachu/third')\n",
    "sys.path.append(f'{root}/pikachu')\n",
    "sys.path.append(f'{root}/pikachu/projects/ai/naic_seg')"
   ]
  },
  {
   "cell_type": "code",
   "execution_count": 11,
   "metadata": {},
   "outputs": [
    {
     "name": "stdout",
     "output_type": "stream",
     "text": [
      "max_profile: 0\n"
     ]
    }
   ],
   "source": [
    "import sys \n",
    "import os\n",
    "import importlib\n",
    "import glob\n",
    "import numpy as np\n",
    "from tqdm.auto import tqdm\n",
    "import tensorflow as tf\n",
    "import cv2\n",
    "import gezi\n",
    "import melt as mt\n",
    "\n",
    "def generate_outputs(pyfile_path, input_paths, output_dir):\n",
    "  pver = os.environ.get('PVER')\n",
    "  if not pver or pver == '0': \n",
    "    predict_py = pyfile_path + '.model_predict'\n",
    "    print('PVER:default')\n",
    "  else:\n",
    "    predict_py = pyfile_path + f'.v{pver}.model_predict'\n",
    "    print(f'PVER:{pver}')\n",
    "    \n",
    "  define_py = pyfile_path + '.model_define'\n",
    "  init_model = getattr(importlib.import_module(define_py), 'init_model')\n",
    "  predict = getattr(importlib.import_module(predict_py), 'predict')\n",
    "\n",
    "  np.random.shuffle(input_paths)\n",
    "\n",
    "  model = init_model()\n",
    "  gezi.set('model', model)\n",
    "\n",
    "  if os.environ.get('DEBUG') == '1':\n",
    "    tf.profiler.experimental.start(log_dir)\n",
    "  done = False\n",
    "  for i, input_path in tqdm(enumerate(input_paths), total=len(input_paths), ascii=True, desc='infer'):\n",
    "    if os.environ.get('DEBUG') == '1' and max_profile and i == max_profile:\n",
    "      done = True\n",
    "      tf.profiler.experimental.stop()\n",
    "\n",
    "    predict(model, input_path, output_dir)\n",
    "  \n",
    "  if os.environ.get('DEBUG') == '1' and not done:\n",
    "    tf.profiler.experimental.stop()\n",
    "\n",
    "def get_img_label_paths(images_path, labels_path):\n",
    "  res = []\n",
    "  for dir_entry in os.listdir(images_path):\n",
    "    if os.path.isfile(os.path.join(images_path, dir_entry)):\n",
    "      file_name, suffix = os.path.splitext(dir_entry)\n",
    "      res.append((os.path.join(images_path, file_name + f\"{suffix}\"),\n",
    "                  os.path.join(labels_path, file_name + \".png\")))\n",
    "  return res\n",
    "\n",
    "def predicts(model_dir, input_dir, output_dir, max_files=None, fold=1, folds=10, records=30):\n",
    "  print(input_dir)\n",
    "  print(output_dir)\n",
    "  os.system(f'rm -rf {output_dir}')\n",
    "  image_dir = input_dir\n",
    "  label_dir = input_dir.replace('image', 'label')\n",
    "  if os.path.exists(label_dir):\n",
    "    imgs = get_img_label_paths(image_dir, label_dir)\n",
    "    np.random.seed(12345)\n",
    "    np.random.shuffle(imgs)\n",
    "\n",
    "    input_paths = []\n",
    "    for i in range(len(imgs)):\n",
    "      input_paths.append(imgs[i][0])\n",
    "  else:\n",
    "    input_paths = glob.glob(f'{input_dir}/*')\n",
    "  input_paths = [x for x in input_paths if not '_' in x]\n",
    "\n",
    "  if max_files:\n",
    "    input_paths = input_paths[:max_files]\n",
    "  print(input_paths[:5])\n",
    "\n",
    "#   input_paths_ = []\n",
    "#   shapes = set()\n",
    "#   for file_ in tqdm(input_paths):\n",
    "#     shape_ = cv2.imread(file_).shape\n",
    "#     if shape_[0] in [3100]:\n",
    "#       input_paths_.append(file_)\n",
    "#       shapes.add(shape_)\n",
    "#   print(shapes)\n",
    "#   input_paths = input_paths_\n",
    "  \n",
    "  generate_outputs(model_dir, input_paths, output_dir)\n",
    "\n",
    "max_files = 0\n",
    "max_profile_ = os.environ.get('MAX_PROFILE')\n",
    "max_profile =  int(max_profile_) if max_profile_ else max_files\n",
    "print('max_profile:', max_profile)\n",
    "# max_files = 2000\n",
    "max_files = 0"
   ]
  },
  {
   "cell_type": "code",
   "execution_count": 12,
   "metadata": {},
   "outputs": [
    {
     "name": "stdout",
     "output_type": "stream",
     "text": [
      "/home/featurize/data\n"
     ]
    }
   ],
   "source": [
    "cd /home/featurize/data/"
   ]
  },
  {
   "cell_type": "code",
   "execution_count": 16,
   "metadata": {},
   "outputs": [
    {
     "name": "stdout",
     "output_type": "stream",
     "text": [
      "/home/featurize/dataset/images/\n",
      "./out\n",
      "['/home/featurize/dataset/images/36.tif', '/home/featurize/dataset/images/4178.tif', '/home/featurize/dataset/images/4530.tif', '/home/featurize/dataset/images/1000.tif', '/home/featurize/dataset/images/725.tif']\n",
      "PVER:default\n",
      "IMAGE_SIZE (256, 256) PAD_SIZE (0, 0)\n",
      "batch_size: 49\n",
      "THRE 0.125\n",
      "TTA: False\n",
      "model_path /home/featurize/data/submit_1125_1/model.h5\n",
      "Model: \"functional_9\"\n",
      "__________________________________________________________________________________________________\n",
      "Layer (type)                    Output Shape         Param #     Connected to                     \n",
      "==================================================================================================\n",
      "image (InputLayer)              [(None, 256, 256, 3) 0                                            \n",
      "__________________________________________________________________________________________________\n",
      "sm.Unet_EfficientNetB5_0 (Funct (None, 256, 256, 15) 41476094    image[0][0]                      \n",
      "__________________________________________________________________________________________________\n",
      "sm.Unet_EfficientNetB4_1 (Funct (None, 256, 256, 15) 23119790    image[0][0]                      \n",
      "__________________________________________________________________________________________________\n",
      "sm.Unet_EfficientNetB2_2 (Funct (None, 256, 256, 15) 12097480    image[0][0]                      \n",
      "__________________________________________________________________________________________________\n",
      "sm.Unet_EfficientNetB2_3 (Funct (None, 256, 256, 15) 17146240    image[0][0]                      \n",
      "__________________________________________________________________________________________________\n",
      "sm.FPN_EfficientNetB4_4 (Functi (None, 256, 256, 15) 20959734    image[0][0]                      \n",
      "__________________________________________________________________________________________________\n",
      "sm.Linknet_EfficientNetB4_5 (Fu (None, 256, 256, 15) 23629862    image[0][0]                      \n",
      "__________________________________________________________________________________________________\n",
      "tf_op_layer_stack_2 (TensorFlow (None, 6, 256, 256,  0           sm.Unet_EfficientNetB5_0[0][0]   \n",
      "                                                                 sm.Unet_EfficientNetB4_1[0][0]   \n",
      "                                                                 sm.Unet_EfficientNetB2_2[0][0]   \n",
      "                                                                 sm.Unet_EfficientNetB2_3[0][0]   \n",
      "                                                                 sm.FPN_EfficientNetB4_4[0][0]    \n",
      "                                                                 sm.Linknet_EfficientNetB4_5[0][0]\n",
      "__________________________________________________________________________________________________\n",
      "tf_op_layer_Mean_2 (TensorFlowO (None, 256, 256, 15) 0           tf_op_layer_stack_2[0][0]        \n",
      "__________________________________________________________________________________________________\n",
      "tf_op_layer_ArgMax_4 (TensorFlo [(None, 256, 256)]   0           tf_op_layer_Mean_2[0][0]         \n",
      "__________________________________________________________________________________________________\n",
      "tf_op_layer_Less_4 (TensorFlowO [(None, 256, 256)]   0           tf_op_layer_ArgMax_4[0][0]       \n",
      "__________________________________________________________________________________________________\n",
      "tf_op_layer_Cast_4 (TensorFlowO [(None, 256, 256)]   0           tf_op_layer_Less_4[0][0]         \n",
      "__________________________________________________________________________________________________\n",
      "tf_op_layer_AddV2_12 (TensorFlo [(None, 256, 256)]   0           tf_op_layer_ArgMax_4[0][0]       \n",
      "__________________________________________________________________________________________________\n",
      "tf_op_layer_AddV2_13 (TensorFlo [(None, 256, 256)]   0           tf_op_layer_ArgMax_4[0][0]       \n",
      "__________________________________________________________________________________________________\n",
      "tf_op_layer_Sub_4 (TensorFlowOp [(None, 256, 256)]   0           tf_op_layer_Cast_4[0][0]         \n",
      "__________________________________________________________________________________________________\n",
      "tf_op_layer_Mul_8 (TensorFlowOp [(None, 256, 256)]   0           tf_op_layer_AddV2_12[0][0]       \n",
      "                                                                 tf_op_layer_Cast_4[0][0]         \n",
      "__________________________________________________________________________________________________\n",
      "tf_op_layer_Mul_9 (TensorFlowOp [(None, 256, 256)]   0           tf_op_layer_AddV2_13[0][0]       \n",
      "                                                                 tf_op_layer_Sub_4[0][0]          \n",
      "__________________________________________________________________________________________________\n",
      "tf_op_layer_AddV2_14 (TensorFlo [(None, 256, 256)]   0           tf_op_layer_Mul_8[0][0]          \n",
      "                                                                 tf_op_layer_Mul_9[0][0]          \n",
      "__________________________________________________________________________________________________\n",
      "tf_op_layer_ExpandDims_4 (Tenso [(None, 256, 256, 1) 0           tf_op_layer_AddV2_14[0][0]       \n",
      "==================================================================================================\n",
      "Total params: 138,429,200\n",
      "Trainable params: 137,730,752\n",
      "Non-trainable params: 698,448\n",
      "__________________________________________________________________________________________________\n"
     ]
    },
    {
     "data": {
      "application/vnd.jupyter.widget-view+json": {
       "model_id": "e7f2eb6e5874442c8a9a6710a6d85b25",
       "version_major": 2,
       "version_minor": 0
      },
      "text/plain": [
       "HBox(children=(HTML(value='infer'), FloatProgress(value=0.0, max=5000.0), HTML(value='')))"
      ]
     },
     "metadata": {},
     "output_type": "display_data"
    },
    {
     "name": "stdout",
     "output_type": "stream",
     "text": [
      "\n",
      "440.9911832809448\n"
     ]
    }
   ],
   "source": [
    "fold = 1\n",
    "folds = 10\n",
    "records = 30\n",
    "model_dir = 'submit_1125_1'\n",
    "img_dir = '/home/featurize/dataset/images/'\n",
    "out_dir = './out'\n",
    "max_files=10000000\n",
    "timer = gezi.Timer()\n",
    "predicts(model_dir, img_dir, out_dir, max_files=max_files, fold=fold, folds=folds, records=records) \n",
    "print(timer.elapsed())"
   ]
  },
  {
   "cell_type": "code",
   "execution_count": null,
   "metadata": {},
   "outputs": [],
   "source": [
    "abcde"
   ]
  },
  {
   "cell_type": "code",
   "execution_count": null,
   "metadata": {},
   "outputs": [],
   "source": [
    "# fold = 1\n",
    "# folds = 10\n",
    "# records = 30\n",
    "# model_dir = 'submit_deeplab'\n",
    "# img_dir = './eval.naic/image'\n",
    "# out_dir = './out'\n",
    "# max_files=10000\n",
    "# timer = gezi.Timer()\n",
    "# predicts(model_dir, img_dir, out_dir, max_files=max_files, fold=fold, folds=folds, records=records) \n",
    "# print(timer.elapsed())"
   ]
  },
  {
   "cell_type": "code",
   "execution_count": null,
   "metadata": {},
   "outputs": [],
   "source": [
    "fold = 1\n",
    "folds = 10\n",
    "records = 30\n",
    "model_dir = 'submit_deeplab_tf1'\n",
    "img_dir = './eval.naic/image'\n",
    "out_dir = './out'\n",
    "max_files=10000\n",
    "timer = gezi.Timer()\n",
    "predicts(model_dir, img_dir, out_dir, max_files=max_files, fold=fold, folds=folds, records=records) \n",
    "print(timer.elapsed())"
   ]
  },
  {
   "cell_type": "code",
   "execution_count": null,
   "metadata": {},
   "outputs": [],
   "source": [
    "# fold = 1\n",
    "# folds = 10\n",
    "# records = 30\n",
    "# model_dir = 'submit_deeplab_b1'\n",
    "# img_dir = './eval.naic/image'\n",
    "# out_dir = './out'\n",
    "# max_files=10000\n",
    "# timer = gezi.Timer()\n",
    "# predicts(model_dir, img_dir, out_dir, max_files=max_files, fold=fold, folds=folds, records=records) \n",
    "# print(timer.elapsed())"
   ]
  },
  {
   "cell_type": "code",
   "execution_count": null,
   "metadata": {},
   "outputs": [],
   "source": [
    "# fold = 1\n",
    "# folds = 10\n",
    "# records = 30\n",
    "# model_dir = 'submit_deeplab_s288'\n",
    "# img_dir = './eval.naic/image'\n",
    "# out_dir = './out'\n",
    "# max_files=10000\n",
    "# timer = gezi.Timer()\n",
    "# predicts(model_dir, img_dir, out_dir, max_files=max_files, fold=fold, folds=folds, records=records) \n",
    "# print(timer.elapsed())"
   ]
  },
  {
   "cell_type": "code",
   "execution_count": null,
   "metadata": {},
   "outputs": [],
   "source": [
    "# fold = 1\n",
    "# folds = 10\n",
    "# records = 30\n",
    "# model_dir = 'submit_deeplab_s352'\n",
    "# img_dir = './eval.naic/image'\n",
    "# out_dir = './out'\n",
    "# max_files=10000\n",
    "# timer = gezi.Timer()\n",
    "# predicts(model_dir, img_dir, out_dir, max_files=max_files, fold=fold, folds=folds, records=records) \n",
    "# print(timer.elapsed())"
   ]
  },
  {
   "cell_type": "code",
   "execution_count": null,
   "metadata": {},
   "outputs": [],
   "source": [
    "abcde"
   ]
  },
  {
   "cell_type": "code",
   "execution_count": null,
   "metadata": {},
   "outputs": [],
   "source": [
    "fold = 4\n",
    "folds = 5\n",
    "records = 5\n",
    "model_dir = 'submit_deeplab_s352'\n",
    "img_dir = './eval.all/image'\n",
    "out_dir = './out.ccf.v1.naic'\n",
    "max_files = 2000\n",
    "predicts(model_dir, img_dir, out_dir, max_files=max_files, fold=fold, folds=folds, records=records) "
   ]
  },
  {
   "cell_type": "code",
   "execution_count": null,
   "metadata": {},
   "outputs": [],
   "source": [
    "abcde"
   ]
  },
  {
   "cell_type": "code",
   "execution_count": null,
   "metadata": {},
   "outputs": [],
   "source": [
    "fold = 4\n",
    "folds = 5\n",
    "records = 5\n",
    "model_dir = 'submit_1123_2'\n",
    "img_dir = './eval.all/image'\n",
    "out_dir = './out.ccf.v1.naic'\n",
    "max_files = 1000\n",
    "predicts(model_dir, img_dir, out_dir, max_files=max_files, fold=fold, folds=folds, records=records) "
   ]
  },
  {
   "cell_type": "code",
   "execution_count": null,
   "metadata": {},
   "outputs": [],
   "source": [
    "fold = 4\n",
    "folds = 5\n",
    "records = 5\n",
    "model_dir = 'submit_1119'\n",
    "img_dir = './eval.all/image'\n",
    "out_dir = './out.ccf.naic.bs4'\n",
    "max_files = 1000\n",
    "with gezi.Timer('predicts'):\n",
    "  predicts(model_dir, img_dir, out_dir, max_files=max_files, fold=fold, folds=folds, records=records) "
   ]
  },
  {
   "cell_type": "code",
   "execution_count": null,
   "metadata": {},
   "outputs": [],
   "source": [
    "fold = 4\n",
    "folds = 5\n",
    "records = 5\n",
    "model_dir = 'submit_1119'\n",
    "img_dir = './eval.all/image'\n",
    "out_dir = './out.ccf.naic.bs36'\n",
    "max_files = 1000\n",
    "with gezi.Timer('predicts'):\n",
    "  predicts(model_dir, img_dir, out_dir, max_files=max_files, fold=fold, folds=folds, records=records) "
   ]
  },
  {
   "cell_type": "code",
   "execution_count": null,
   "metadata": {},
   "outputs": [],
   "source": [
    "fold = 4\n",
    "folds = 5\n",
    "records = 5\n",
    "model_dir = 'submit_1119'\n",
    "img_dir = './eval.all/image'\n",
    "out_dir = './out.ccf.naic.bs36'\n",
    "max_files = 1000\n",
    "with gezi.Timer('predicts'):\n",
    "  predicts(model_dir, img_dir, out_dir, max_files=max_files, fold=fold, folds=folds, records=records) "
   ]
  },
  {
   "cell_type": "code",
   "execution_count": null,
   "metadata": {},
   "outputs": [],
   "source": [
    "fold = 4\n",
    "folds = 5\n",
    "records = 5\n",
    "model_dir = 'submit_ccf_v1'\n",
    "img_dir = './eval.all/image'\n",
    "out_dir = './out.ccf.v1'\n",
    "max_files = 1000\n",
    "predicts(model_dir, img_dir, out_dir, max_files=max_files, fold=fold, folds=folds, records=records) "
   ]
  },
  {
   "cell_type": "code",
   "execution_count": null,
   "metadata": {},
   "outputs": [],
   "source": [
    "# fold = 4\n",
    "# folds = 5\n",
    "# records = 5\n",
    "# model_dir = 'submit_ccf'\n",
    "# img_dir = './eval.all/image'\n",
    "# out_dir = './out.ccf'\n",
    "# max_files = 1000\n",
    "# # with tf.device('/cpu'):  \n",
    "# predicts(model_dir, img_dir, out_dir, max_files=max_files, fold=fold, folds=folds, records=records) "
   ]
  },
  {
   "cell_type": "code",
   "execution_count": null,
   "metadata": {},
   "outputs": [],
   "source": [
    "fold = 4\n",
    "folds = 5\n",
    "records = 5\n",
    "model_dir = 'submit_ccf_v2'\n",
    "img_dir = './eval.all/image'\n",
    "out_dir = './out.ccf.v2'\n",
    "max_files = 1000\n",
    "# with tf.device('/cpu'):  \n",
    "predicts(model_dir, img_dir, out_dir, max_files=max_files, fold=fold, folds=folds, records=records) "
   ]
  },
  {
   "cell_type": "code",
   "execution_count": null,
   "metadata": {},
   "outputs": [],
   "source": [
    "fold = 4\n",
    "folds = 5\n",
    "records = 5\n",
    "model_dir = 'submit_ccf'\n",
    "img_dir = './eval.all/image'\n",
    "out_dir = './out.ccf'\n",
    "max_files = 1000\n",
    "# with tf.device('/cpu'):  \n",
    "predicts(model_dir, img_dir, out_dir, max_files=max_files, fold=fold, folds=folds, records=records) "
   ]
  },
  {
   "cell_type": "code",
   "execution_count": null,
   "metadata": {},
   "outputs": [],
   "source": [
    "(3072 / 3000 - 1)"
   ]
  },
  {
   "cell_type": "code",
   "execution_count": null,
   "metadata": {},
   "outputs": [],
   "source": [
    "1 - 2976 / 3000"
   ]
  },
  {
   "cell_type": "code",
   "execution_count": null,
   "metadata": {},
   "outputs": [],
   "source": [
    "3000 / 1504"
   ]
  },
  {
   "cell_type": "code",
   "execution_count": null,
   "metadata": {},
   "outputs": [],
   "source": [
    "1500 / 1600"
   ]
  },
  {
   "cell_type": "code",
   "execution_count": null,
   "metadata": {},
   "outputs": [],
   "source": [
    "992 / 32"
   ]
  },
  {
   "cell_type": "code",
   "execution_count": null,
   "metadata": {},
   "outputs": [],
   "source": [
    "1024 / 32"
   ]
  },
  {
   "cell_type": "code",
   "execution_count": null,
   "metadata": {},
   "outputs": [],
   "source": []
  }
 ],
 "metadata": {
  "kernelspec": {
   "display_name": "Python 3",
   "language": "python",
   "name": "python3"
  },
  "language_info": {
   "codemirror_mode": {
    "name": "ipython",
    "version": 3
   },
   "file_extension": ".py",
   "mimetype": "text/x-python",
   "name": "python",
   "nbconvert_exporter": "python",
   "pygments_lexer": "ipython3",
   "version": "3.7.4"
  }
 },
 "nbformat": 4,
 "nbformat_minor": 4
}
