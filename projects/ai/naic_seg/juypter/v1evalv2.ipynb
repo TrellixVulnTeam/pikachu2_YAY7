{
 "cells": [
  {
   "cell_type": "markdown",
   "metadata": {},
   "source": [
    "# 用v1的model对v2预测 eval"
   ]
  },
  {
   "cell_type": "code",
   "execution_count": 1,
   "metadata": {},
   "outputs": [],
   "source": [
    "import sys\n",
    "root = '/home/featurize/data'\n",
    "sys.path.append(f'{root}/pikachu/utils')\n",
    "sys.path.append(f'{root}/pikachu/third')\n",
    "sys.path.append(f'{root}/pikachu')\n",
    "sys.path.append(f'{root}/pikachu/projects/ai/naic_seg')"
   ]
  },
  {
   "cell_type": "code",
   "execution_count": 2,
   "metadata": {},
   "outputs": [],
   "source": [
    "import sys \n",
    "import os\n",
    "import glob\n",
    "import cv2\n",
    "from PIL import Image\n",
    "import numpy as np\n",
    "\n",
    "from gezi import tqdm\n",
    "from gezi.metrics.image.semantic_seg import Evaluator\n",
    "import gezi"
   ]
  },
  {
   "cell_type": "code",
   "execution_count": 3,
   "metadata": {},
   "outputs": [],
   "source": [
    "CLASSES = ['water', 'track', 'build', 'arable', 'grass', 'forest', 'bare', 'other']\n",
    "NUM_CLASSES = len(CLASSES)\n",
    "m = {}\n",
    "for i in range(17):\n",
    "  if i < 4:\n",
    "    m[i + 1] = i\n",
    "  else:\n",
    "    m[i + 1] = i - 2\n",
    "\n",
    "m2 = {\n",
    "  0: 0,\n",
    "  1: 1,\n",
    "  2: 2,\n",
    "  3: 1,\n",
    "  4: 7,\n",
    "  5: 7,\n",
    "  6: 3,\n",
    "  7: 3,\n",
    "  8: 4,\n",
    "  9: 4,\n",
    "  10: 5,\n",
    "  11: 5,\n",
    "  12: 6,\n",
    "  13: 6,\n",
    "  14: 7,\n",
    "}"
   ]
  },
  {
   "cell_type": "code",
   "execution_count": 16,
   "metadata": {},
   "outputs": [],
   "source": [
    "def eval(pred_dir, label_dir='../input/eval.naic/label', from_v2=False):\n",
    "#   key_metric = 'FWIoU'\n",
    "  key_metric = 'IoU'\n",
    "\n",
    "  pred_files = glob.glob(f'{pred_dir}/*')\n",
    "\n",
    "  evaluator = Evaluator(CLASSES)\n",
    "  class_mious = 0.\n",
    "\n",
    "  t = tqdm(enumerate(pred_files), total=len(pred_files), ascii=True, desc= 'eval')\n",
    "  for i, pred_file in t:\n",
    "    file_name = os.path.basename(pred_file)\n",
    "#     if int(file_name.split('.')[0]) != 8534:\n",
    "#       continue\n",
    "    evaluator2 = Evaluator(CLASSES)\n",
    "    label_file = f'{label_dir}/{file_name}'\n",
    "    label = np.asarray(Image.open(label_file))\n",
    "    pred = cv2.imread(pred_file,cv2.IMREAD_UNCHANGED).astype(np.uint8)\n",
    "    if from_v2:\n",
    "      f = np.vectorize(lambda x: m[x])\n",
    "      pred = f(pred).astype(np.uint8)\n",
    "      f = np.vectorize(lambda x: m2[x])\n",
    "      pred = f(pred).astype(np.uint8)\n",
    "    \n",
    "    f = np.vectorize(lambda x: m[x])\n",
    "    label = f(label).astype(np.uint8)\n",
    "    f = np.vectorize(lambda x: m2[x])\n",
    "    label = f(label).astype(np.uint8)\n",
    "\n",
    "    evaluator.eval_each(label[np.newaxis,:, :], pred[np.newaxis,:, :], metric=key_metric)\n",
    "    evaluator2.eval_each(label[np.newaxis,:, :], pred[np.newaxis,:, :], metric=key_metric)\n",
    "\n",
    "    binary_label = np.bincount(label.reshape(-1), minlength=NUM_CLASSES).astype(np.bool)\n",
    "    binary_pred = np.bincount(pred.reshape(-1), minlength=NUM_CLASSES).astype(np.bool)\n",
    "    intersections = binary_label * binary_pred\n",
    "    intersection = np.sum(intersections, axis=-1)\n",
    "    union = np.sum(binary_label, axis=-1) + np.sum(binary_pred, axis=-1) - intersection\n",
    "    class_miou = np.mean(intersection / union)\n",
    "\n",
    "    class_mious += class_miou\n",
    "\n",
    "    metric = evaluator.eval_once(key_metric)\n",
    "    metric2 = evaluator2.eval_once(key_metric)\n",
    "    t.set_postfix({key_metric: metric2, 'IMAGE/CLASS/MIoU': class_mious / (i + 1)})\n",
    "    \n",
    "    if metric2 < 0.1:\n",
    "      print(file_name, metric2, class_miou)\n",
    "\n",
    "  res = evaluator.eval_once()\n",
    "  res['IMAGE/CLASS/MIoU'] = class_mious / i\n",
    "  gezi.set('evaluator', evaluator)\n",
    "  \n",
    "  return res"
   ]
  },
  {
   "cell_type": "code",
   "execution_count": 11,
   "metadata": {},
   "outputs": [
    {
     "data": {
      "application/vnd.jupyter.widget-view+json": {
       "model_id": "291e3e7c6d3846359bb16b88b65aeefd",
       "version_major": 2,
       "version_minor": 0
      },
      "text/plain": [
       "HBox(children=(HTML(value='eval'), FloatProgress(value=0.0, max=10000.0), HTML(value='')))"
      ]
     },
     "metadata": {},
     "output_type": "display_data"
    },
    {
     "name": "stdout",
     "output_type": "stream",
     "text": [
      "73189.png 0.02232520692529596 0.42857142857142855\n",
      "33928.png 0.046303006519588165 0.6666666666666666\n",
      "97975.png 0.005286311711352897 0.2857142857142857\n",
      "73317.png 0.029498704939439565 0.5\n",
      "12654.png 0.013577881404189175 0.25\n",
      "92216.png 0.08932820594439161 0.4\n",
      "6538.png 0.0 0.0\n",
      "3732.png 0.08069292491456967 0.6666666666666666\n",
      "52984.png 0.07890410162905416 0.625\n",
      "49580.png 0.0 0.0\n",
      "44454.png 0.06163864967802132 0.25\n",
      "70909.png 0.0718048095703125 0.2\n",
      "99209.png 0.06904220581054688 0.125\n",
      "26083.png 0.0 0.0\n",
      "69505.png 0.04445503362312792 0.2857142857142857\n",
      "95277.png 0.07061792975069779 0.375\n",
      "77065.png 0.09200613839285714 0.14285714285714285\n",
      "40556.png 0.0963291618258321 0.5714285714285714\n",
      "37395.png 0.07931147183789083 0.2\n",
      "41441.png 0.02862222089640524 0.6\n",
      "2804.png 0.09613082010310144 0.5714285714285714\n",
      "21992.png 0.0018280029296875 0.2\n",
      "93185.png 0.08405968046488348 0.5\n",
      "49707.png 0.094985654453715 0.3333333333333333\n",
      "15022.png 0.06314817591250164 0.5\n",
      "5745.png 0.08864109659187475 0.3333333333333333\n",
      "8902.png 0.0 0.0\n",
      "93135.png 0.0010699704669126751 0.25\n",
      "91430.png 0.081024092253632 0.375\n",
      "84357.png 0.011957286271500736 0.3333333333333333\n",
      "58000.png 0.09997905805328071 0.14285714285714285\n",
      "41342.png 0.08312894306801566 0.75\n",
      "92225.png 0.001732844226410633 0.42857142857142855\n",
      "2644.png 0.0006535093451836362 0.25\n",
      "79924.png 0.04159234055285764 0.375\n",
      "97860.png 0.029528794207939735 0.2857142857142857\n",
      "26377.png 0.006106118010361808 0.5\n",
      "9813.png 0.08157961766053226 0.42857142857142855\n",
      "94425.png 0.0 0.0\n",
      "64573.png 0.06902847150226894 0.5\n",
      "33888.png 0.009325318574380886 0.5\n",
      "50345.png 0.06701828765625263 0.3333333333333333\n",
      "38618.png 0.010059243703683579 0.4\n",
      "12716.png 0.009428499496475328 0.25\n",
      "41784.png 0.0750337881404598 0.42857142857142855\n",
      "55090.png 0.08017096231058153 0.14285714285714285\n",
      "88974.png 0.0 0.0\n",
      "50561.png 0.059504191080729164 0.16666666666666666\n",
      "95484.png 0.001028872398498806 0.3333333333333333\n",
      "21996.png 0.033115550945670286 0.42857142857142855\n",
      "92752.png 0.07186094814285608 0.2857142857142857\n",
      "99850.png 0.01236550401456295 0.4\n",
      "38653.png 0.09315245515800921 0.2857142857142857\n",
      "35780.png 0.09528530601795263 0.42857142857142855\n",
      "78808.png 0.017119462302186556 0.14285714285714285\n",
      "63721.png 0.08164318771296343 0.2857142857142857\n",
      "21371.png 0.09975516143902786 0.6666666666666666\n",
      "11851.png 0.06866254673075456 0.4\n",
      "81007.png 0.05067113366293694 0.375\n",
      "11402.png 0.009025570508338248 0.3333333333333333\n",
      "62707.png 0.04647550048736598 0.25\n",
      "31020.png 0.09158804058578708 0.42857142857142855\n",
      "88148.png 0.055678989848321744 0.42857142857142855\n",
      "70404.png 0.07513164323326638 0.2\n",
      "18852.png 0.05650236931172713 0.42857142857142855\n",
      "13389.png 0.050944793893398135 0.75\n",
      "78875.png 0.08290982540553105 0.75\n",
      "45399.png 0.00755009878633926 0.16666666666666666\n",
      "50213.png 0.049732291306574375 0.42857142857142855\n",
      "5873.png 0.001553211229854644 0.2\n",
      "32889.png 0.01711863580820607 0.5\n",
      "79014.png 0.08335440499441964 0.14285714285714285\n",
      "99217.png 0.004291035459409967 0.3333333333333333\n",
      "92723.png 0.0848519348776789 0.25\n",
      "65700.png 0.04287370312409436 0.16666666666666666\n",
      "50543.png 0.08283875982783002 0.42857142857142855\n",
      "34039.png 0.09729256124541887 0.5714285714285714\n",
      "51606.png 0.05243137935311263 0.375\n",
      "58798.png 0.07333681809528941 0.25\n",
      "43190.png 0.05166756906523056 0.2857142857142857\n",
      "17147.png 0.06460937895243687 0.5\n",
      "91682.png 0.0 0.0\n",
      "47944.png 0.08664490069124575 0.2857142857142857\n",
      "60023.png 0.0 0.0\n",
      "8846.png 0.004752022879464286 0.14285714285714285\n",
      "10777.png 0.02731632041903494 0.5\n",
      "97500.png 0.02264358818149574 0.375\n",
      "72157.png 0.05124230237076914 0.2857142857142857\n",
      "75641.png 0.09894370450907553 0.16666666666666666\n",
      "28355.png 0.0007693060859105087 0.3333333333333333\n",
      "94210.png 0.05522478180796307 0.42857142857142855\n",
      "74500.png 0.07750815963651873 0.14285714285714285\n",
      "27823.png 0.03304934520724259 0.5\n",
      "16200.png 0.004140407631778391 0.6666666666666666\n",
      "23719.png 0.0361465078946604 0.5714285714285714\n",
      "16696.png 0.03086312118570183 0.2\n",
      "83375.png 4.624633883150917e-05 0.2\n",
      "16089.png 0.004990978364210834 0.4\n",
      "20067.png 0.04119877066482041 0.25\n",
      "62392.png 0.011824483156804372 0.42857142857142855\n",
      "98048.png 0.03584316521506853 0.42857142857142855\n",
      "28171.png 0.030550571480260417 0.5\n",
      "56293.png 0.0081220312944136 0.2857142857142857\n",
      "18739.png 0.0 0.0\n",
      "68650.png 0.09917588085400601 0.16666666666666666\n",
      "8824.png 2.8914269191846177e-05 0.4\n",
      "58740.png 0.07004568903850601 0.625\n",
      "62846.png 0.05839525298466741 0.42857142857142855\n",
      "42595.png 0.04221032454226981 0.2\n",
      "28514.png 0.07946794460547267 0.4\n",
      "92049.png 0.009605522807009 0.5\n",
      "66844.png 0.0 0.0\n",
      "14035.png 0.07439597327750047 0.4\n",
      "92652.png 0.08217694040487362 0.2857142857142857\n",
      "51632.png 0.04890816708453181 0.16666666666666666\n",
      "91564.png 0.029914915027475966 0.3333333333333333\n",
      "70310.png 0.06542879969145156 0.14285714285714285\n",
      "55358.png 0.04066471500656693 0.375\n",
      "71164.png 0.07845573880876035 0.8333333333333334\n",
      "57405.png 0.07205757473666101 0.3333333333333333\n",
      "32123.png 0.019112259511992264 0.3333333333333333\n",
      "13339.png 0.0017634768713704052 0.6666666666666666\n",
      "14312.png 0.07905738221284679 0.75\n",
      "\n"
     ]
    },
    {
     "ename": "KeyboardInterrupt",
     "evalue": "",
     "output_type": "error",
     "traceback": [
      "\u001b[0;31m---------------------------------------------------------------------------\u001b[0m",
      "\u001b[0;31mKeyboardInterrupt\u001b[0m                         Traceback (most recent call last)",
      "\u001b[0;32m<ipython-input-11-d62fcdba8865>\u001b[0m in \u001b[0;36m<module>\u001b[0;34m\u001b[0m\n\u001b[0;32m----> 1\u001b[0;31m \u001b[0meval\u001b[0m\u001b[0;34m(\u001b[0m\u001b[0;34m'../input/out.v1inferv2/'\u001b[0m\u001b[0;34m)\u001b[0m\u001b[0;34m\u001b[0m\u001b[0;34m\u001b[0m\u001b[0m\n\u001b[0m",
      "\u001b[0;32m<ipython-input-10-faf1f61ae354>\u001b[0m in \u001b[0;36meval\u001b[0;34m(pred_dir, label_dir)\u001b[0m\n\u001b[1;32m     20\u001b[0m     \u001b[0mlabel\u001b[0m \u001b[0;34m=\u001b[0m \u001b[0mf\u001b[0m\u001b[0;34m(\u001b[0m\u001b[0mlabel\u001b[0m\u001b[0;34m)\u001b[0m\u001b[0;34m.\u001b[0m\u001b[0mastype\u001b[0m\u001b[0;34m(\u001b[0m\u001b[0mnp\u001b[0m\u001b[0;34m.\u001b[0m\u001b[0muint8\u001b[0m\u001b[0;34m)\u001b[0m\u001b[0;34m\u001b[0m\u001b[0;34m\u001b[0m\u001b[0m\n\u001b[1;32m     21\u001b[0m     \u001b[0mf\u001b[0m \u001b[0;34m=\u001b[0m \u001b[0mnp\u001b[0m\u001b[0;34m.\u001b[0m\u001b[0mvectorize\u001b[0m\u001b[0;34m(\u001b[0m\u001b[0;32mlambda\u001b[0m \u001b[0mx\u001b[0m\u001b[0;34m:\u001b[0m \u001b[0mm2\u001b[0m\u001b[0;34m[\u001b[0m\u001b[0mx\u001b[0m\u001b[0;34m]\u001b[0m\u001b[0;34m)\u001b[0m\u001b[0;34m\u001b[0m\u001b[0;34m\u001b[0m\u001b[0m\n\u001b[0;32m---> 22\u001b[0;31m     \u001b[0mlabel\u001b[0m \u001b[0;34m=\u001b[0m \u001b[0mf\u001b[0m\u001b[0;34m(\u001b[0m\u001b[0mlabel\u001b[0m\u001b[0;34m)\u001b[0m\u001b[0;34m.\u001b[0m\u001b[0mastype\u001b[0m\u001b[0;34m(\u001b[0m\u001b[0mnp\u001b[0m\u001b[0;34m.\u001b[0m\u001b[0muint8\u001b[0m\u001b[0;34m)\u001b[0m\u001b[0;34m\u001b[0m\u001b[0;34m\u001b[0m\u001b[0m\n\u001b[0m\u001b[1;32m     23\u001b[0m \u001b[0;34m\u001b[0m\u001b[0m\n\u001b[1;32m     24\u001b[0m     \u001b[0mevaluator\u001b[0m\u001b[0;34m.\u001b[0m\u001b[0meval_each\u001b[0m\u001b[0;34m(\u001b[0m\u001b[0mlabel\u001b[0m\u001b[0;34m[\u001b[0m\u001b[0mnp\u001b[0m\u001b[0;34m.\u001b[0m\u001b[0mnewaxis\u001b[0m\u001b[0;34m,\u001b[0m\u001b[0;34m:\u001b[0m\u001b[0;34m,\u001b[0m \u001b[0;34m:\u001b[0m\u001b[0;34m]\u001b[0m\u001b[0;34m,\u001b[0m \u001b[0mpred\u001b[0m\u001b[0;34m[\u001b[0m\u001b[0mnp\u001b[0m\u001b[0;34m.\u001b[0m\u001b[0mnewaxis\u001b[0m\u001b[0;34m,\u001b[0m\u001b[0;34m:\u001b[0m\u001b[0;34m,\u001b[0m \u001b[0;34m:\u001b[0m\u001b[0;34m]\u001b[0m\u001b[0;34m,\u001b[0m \u001b[0mmetric\u001b[0m\u001b[0;34m=\u001b[0m\u001b[0mkey_metric\u001b[0m\u001b[0;34m)\u001b[0m\u001b[0;34m\u001b[0m\u001b[0;34m\u001b[0m\u001b[0m\n",
      "\u001b[0;32m/environment/python/versions/3.7.4/lib/python3.7/site-packages/numpy/lib/function_base.py\u001b[0m in \u001b[0;36m__call__\u001b[0;34m(self, *args, **kwargs)\u001b[0m\n\u001b[1;32m   2089\u001b[0m             \u001b[0mvargs\u001b[0m\u001b[0;34m.\u001b[0m\u001b[0mextend\u001b[0m\u001b[0;34m(\u001b[0m\u001b[0;34m[\u001b[0m\u001b[0mkwargs\u001b[0m\u001b[0;34m[\u001b[0m\u001b[0m_n\u001b[0m\u001b[0;34m]\u001b[0m \u001b[0;32mfor\u001b[0m \u001b[0m_n\u001b[0m \u001b[0;32min\u001b[0m \u001b[0mnames\u001b[0m\u001b[0;34m]\u001b[0m\u001b[0;34m)\u001b[0m\u001b[0;34m\u001b[0m\u001b[0;34m\u001b[0m\u001b[0m\n\u001b[1;32m   2090\u001b[0m \u001b[0;34m\u001b[0m\u001b[0m\n\u001b[0;32m-> 2091\u001b[0;31m         \u001b[0;32mreturn\u001b[0m \u001b[0mself\u001b[0m\u001b[0;34m.\u001b[0m\u001b[0m_vectorize_call\u001b[0m\u001b[0;34m(\u001b[0m\u001b[0mfunc\u001b[0m\u001b[0;34m=\u001b[0m\u001b[0mfunc\u001b[0m\u001b[0;34m,\u001b[0m \u001b[0margs\u001b[0m\u001b[0;34m=\u001b[0m\u001b[0mvargs\u001b[0m\u001b[0;34m)\u001b[0m\u001b[0;34m\u001b[0m\u001b[0;34m\u001b[0m\u001b[0m\n\u001b[0m\u001b[1;32m   2092\u001b[0m \u001b[0;34m\u001b[0m\u001b[0m\n\u001b[1;32m   2093\u001b[0m     \u001b[0;32mdef\u001b[0m \u001b[0m_get_ufunc_and_otypes\u001b[0m\u001b[0;34m(\u001b[0m\u001b[0mself\u001b[0m\u001b[0;34m,\u001b[0m \u001b[0mfunc\u001b[0m\u001b[0;34m,\u001b[0m \u001b[0margs\u001b[0m\u001b[0;34m)\u001b[0m\u001b[0;34m:\u001b[0m\u001b[0;34m\u001b[0m\u001b[0;34m\u001b[0m\u001b[0m\n",
      "\u001b[0;32m/environment/python/versions/3.7.4/lib/python3.7/site-packages/numpy/lib/function_base.py\u001b[0m in \u001b[0;36m_vectorize_call\u001b[0;34m(self, func, args)\u001b[0m\n\u001b[1;32m   2165\u001b[0m                       for a in args]\n\u001b[1;32m   2166\u001b[0m \u001b[0;34m\u001b[0m\u001b[0m\n\u001b[0;32m-> 2167\u001b[0;31m             \u001b[0moutputs\u001b[0m \u001b[0;34m=\u001b[0m \u001b[0mufunc\u001b[0m\u001b[0;34m(\u001b[0m\u001b[0;34m*\u001b[0m\u001b[0minputs\u001b[0m\u001b[0;34m)\u001b[0m\u001b[0;34m\u001b[0m\u001b[0;34m\u001b[0m\u001b[0m\n\u001b[0m\u001b[1;32m   2168\u001b[0m \u001b[0;34m\u001b[0m\u001b[0m\n\u001b[1;32m   2169\u001b[0m             \u001b[0;32mif\u001b[0m \u001b[0mufunc\u001b[0m\u001b[0;34m.\u001b[0m\u001b[0mnout\u001b[0m \u001b[0;34m==\u001b[0m \u001b[0;36m1\u001b[0m\u001b[0;34m:\u001b[0m\u001b[0;34m\u001b[0m\u001b[0;34m\u001b[0m\u001b[0m\n",
      "\u001b[0;32m<ipython-input-10-faf1f61ae354>\u001b[0m in \u001b[0;36m<lambda>\u001b[0;34m(x)\u001b[0m\n\u001b[1;32m     19\u001b[0m     \u001b[0mf\u001b[0m \u001b[0;34m=\u001b[0m \u001b[0mnp\u001b[0m\u001b[0;34m.\u001b[0m\u001b[0mvectorize\u001b[0m\u001b[0;34m(\u001b[0m\u001b[0;32mlambda\u001b[0m \u001b[0mx\u001b[0m\u001b[0;34m:\u001b[0m \u001b[0mm\u001b[0m\u001b[0;34m[\u001b[0m\u001b[0mx\u001b[0m\u001b[0;34m]\u001b[0m\u001b[0;34m)\u001b[0m\u001b[0;34m\u001b[0m\u001b[0;34m\u001b[0m\u001b[0m\n\u001b[1;32m     20\u001b[0m     \u001b[0mlabel\u001b[0m \u001b[0;34m=\u001b[0m \u001b[0mf\u001b[0m\u001b[0;34m(\u001b[0m\u001b[0mlabel\u001b[0m\u001b[0;34m)\u001b[0m\u001b[0;34m.\u001b[0m\u001b[0mastype\u001b[0m\u001b[0;34m(\u001b[0m\u001b[0mnp\u001b[0m\u001b[0;34m.\u001b[0m\u001b[0muint8\u001b[0m\u001b[0;34m)\u001b[0m\u001b[0;34m\u001b[0m\u001b[0;34m\u001b[0m\u001b[0m\n\u001b[0;32m---> 21\u001b[0;31m     \u001b[0mf\u001b[0m \u001b[0;34m=\u001b[0m \u001b[0mnp\u001b[0m\u001b[0;34m.\u001b[0m\u001b[0mvectorize\u001b[0m\u001b[0;34m(\u001b[0m\u001b[0;32mlambda\u001b[0m \u001b[0mx\u001b[0m\u001b[0;34m:\u001b[0m \u001b[0mm2\u001b[0m\u001b[0;34m[\u001b[0m\u001b[0mx\u001b[0m\u001b[0;34m]\u001b[0m\u001b[0;34m)\u001b[0m\u001b[0;34m\u001b[0m\u001b[0;34m\u001b[0m\u001b[0m\n\u001b[0m\u001b[1;32m     22\u001b[0m     \u001b[0mlabel\u001b[0m \u001b[0;34m=\u001b[0m \u001b[0mf\u001b[0m\u001b[0;34m(\u001b[0m\u001b[0mlabel\u001b[0m\u001b[0;34m)\u001b[0m\u001b[0;34m.\u001b[0m\u001b[0mastype\u001b[0m\u001b[0;34m(\u001b[0m\u001b[0mnp\u001b[0m\u001b[0;34m.\u001b[0m\u001b[0muint8\u001b[0m\u001b[0;34m)\u001b[0m\u001b[0;34m\u001b[0m\u001b[0;34m\u001b[0m\u001b[0m\n\u001b[1;32m     23\u001b[0m \u001b[0;34m\u001b[0m\u001b[0m\n",
      "\u001b[0;31mKeyboardInterrupt\u001b[0m: "
     ]
    }
   ],
   "source": [
    "eval('../input/out.v1inferv2/')"
   ]
  },
  {
   "cell_type": "code",
   "execution_count": 17,
   "metadata": {},
   "outputs": [
    {
     "data": {
      "application/vnd.jupyter.widget-view+json": {
       "model_id": "df6fade1821d4fe59ae57e45df4665d6",
       "version_major": 2,
       "version_minor": 0
      },
      "text/plain": [
       "HBox(children=(HTML(value='eval'), FloatProgress(value=0.0, max=10000.0), HTML(value='')))"
      ]
     },
     "metadata": {},
     "output_type": "display_data"
    },
    {
     "name": "stdout",
     "output_type": "stream",
     "text": [
      "25408.png 0.05145932341170585 0.25\n",
      "25973.png 0.04288966712554897 0.6666666666666666\n",
      "20781.png 0.02934229724817087 0.6\n",
      "44170.png 0.021787114500046306 0.25\n",
      "21402.png 0.07386297391543982 0.3333333333333333\n",
      "8534.png 0.07723915215391472 0.4\n",
      "18896.png 0.08671385997485109 0.5\n",
      "40030.png 0.03744040263378231 0.6\n",
      "15993.png 0.09835162993849972 0.5\n",
      "14714.png 0.08015770676143558 0.75\n",
      "629.png 0.010640066500415627 0.16666666666666666\n",
      "36157.png 0.09550594877438905 0.75\n",
      "3869.png 0.032909866048534395 0.6\n",
      "8875.png 0.036997266907900006 0.5\n",
      "14142.png 0.05447875324168762 0.75\n",
      "\n"
     ]
    },
    {
     "data": {
      "text/plain": [
       "{'FWIoU': 0.7912062081926461,\n",
       " 'MIoU': 0.7890282091028283,\n",
       " 'ACC/pixel': 0.882419921875,\n",
       " 'ACC/class': 0.8773264806652123,\n",
       " 'IoU/water': 0.7868756335792606,\n",
       " 'IoU/track': 0.8004220188000045,\n",
       " 'IoU/build': 0.8621505014199441,\n",
       " 'IoU/arable': 0.8577092298412409,\n",
       " 'IoU/grass': 0.6803549446697694,\n",
       " 'IoU/forest': 0.7618928246547603,\n",
       " 'IoU/bare': 0.7827567625984676,\n",
       " 'IoU/other': 0.7800637572591792,\n",
       " 'IMAGE/CLASS/MIoU': 0.9100152872430213}"
      ]
     },
     "execution_count": 17,
     "metadata": {},
     "output_type": "execute_result"
    }
   ],
   "source": [
    "eval('../input/out/', from_v2=True)"
   ]
  },
  {
   "cell_type": "code",
   "execution_count": null,
   "metadata": {},
   "outputs": [],
   "source": []
  }
 ],
 "metadata": {
  "kernelspec": {
   "display_name": "Python 3",
   "language": "python",
   "name": "python3"
  },
  "language_info": {
   "codemirror_mode": {
    "name": "ipython",
    "version": 3
   },
   "file_extension": ".py",
   "mimetype": "text/x-python",
   "name": "python",
   "nbconvert_exporter": "python",
   "pygments_lexer": "ipython3",
   "version": "3.7.4"
  }
 },
 "nbformat": 4,
 "nbformat_minor": 4
}
