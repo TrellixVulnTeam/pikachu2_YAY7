{
 "cells": [
  {
   "cell_type": "code",
   "execution_count": 1,
   "metadata": {},
   "outputs": [],
   "source": [
    "import sys\n",
    "sys.path.append('/userhome/pikachu/utils')\n",
    "sys.path.append('/userhome/pikachu/third')\n",
    "sys.path.append('/userhome/pikachu')\n",
    "import os\n",
    "os.environ['SM_FRAMEWORK'] = 'tf.keras'"
   ]
  },
  {
   "cell_type": "code",
   "execution_count": 2,
   "metadata": {},
   "outputs": [],
   "source": [
    "sys.path.append('/userhome/pikachu/projects/ai/naic_seg')\n",
    "import gezi\n",
    "import melt\n",
    "import melt as mt\n",
    "from gezi import tqdm\n",
    "import lele\n",
    "import husky\n",
    "import pandas as pd\n",
    "import numpy as np\n",
    "import tensorflow as tf\n",
    "from absl import app, flags\n",
    "FLAGS = flags.FLAGS\n",
    "from gseg import config\n",
    "from gseg.config import *\n",
    "from gseg.dataset import Dataset\n",
    "from gseg.evaluate import get_eval_fn\n",
    "from gseg.util import get_infer_fn\n",
    "from gseg.loss import get_loss_fn\n",
    "from gseg.metrics import get_metrics\n",
    "from gseg.model import get_model"
   ]
  },
  {
   "cell_type": "code",
   "execution_count": 3,
   "metadata": {},
   "outputs": [],
   "source": [
    "argv = ['']\n",
    "FLAGS(argv)\n",
    "FLAGS.wandb = False\n",
    "FLAGS.write_summary = True\n",
    "FLAGS.write_metric_summary = True\n",
    "FLAGS.drop_remainder = True \n",
    "FLAGS.cache_valid = False\n",
    "FLAGS.do_test = False\n",
    "FLAGS.batch_parse = False\n",
    "FLAGS.static_input = True\n",
    "FLAGS.tb_image = True\n",
    "FLAGS.tb_image_interval = 1000000"
   ]
  },
  {
   "cell_type": "code",
   "execution_count": 4,
   "metadata": {},
   "outputs": [],
   "source": [
    "def fit(dry_run=False):\n",
    "  with strategy.scope():\n",
    "    mt.fit(model, \n",
    "           loss_fn=model.get_loss() if hasattr(model, 'get_loss') else get_loss_fn(),\n",
    "           Dataset=Dataset,\n",
    "           metrics=get_metrics(),\n",
    "           eval_fn=get_eval_fn(),\n",
    "           inference_fn=get_infer_fn(),\n",
    "           dry_run=dry_run\n",
    "          )"
   ]
  },
  {
   "cell_type": "code",
   "execution_count": 5,
   "metadata": {},
   "outputs": [],
   "source": [
    "FLAGS.fold = 1\n",
    "GCS_ROOT = '/userhome/data'\n",
    "FLAGS.train_input = f'{GCS_ROOT}/quarter/tfrecords/train/*/*'\n",
    "FLAGS.train_exclude = f'{GCS_ROOT}/quarter/tfrecords/train/{FLAGS.fold}/'\n",
    "FLAGS.valid_input = f'{GCS_ROOT}/quarter/tfrecords/train/{FLAGS.fold}/*'\n",
    "ver = 19 #@param\n",
    "tag = f'v{ver}' \n",
    "FLAGS.model_dir = f'/userhome/working/{tag}/base' \n",
    "FLAGS.fold = None\n",
    "FLAGS.clear_first =  False#@param\n",
    "FLAGS.mode = 'train'\n",
    "FLAGS.vie = 5\n",
    "FLAGS.save_interval_epochs = 1\n",
    "FLAGS.optimizer = 'bert-adamw'\n",
    "FLAGS.learning_rate = 1e-3\n",
    "FLAGS.min_learning_rate = 1e-5\n",
    "FLAGS.learning_rate_decay_power = 0.5\n",
    "\n",
    "FLAGS.model = 'sm.Unet' #@param\n",
    "FLAGS.backbone = 'EfficientNetB4' #@param\n",
    "image_size = 256 #@param\n",
    "FLAGS.image_size = [image_size, image_size]\n",
    "FLAGS.epochs = 100 #@param\n",
    "FLAGS.batch_size = 64 #@param\n",
    "FLAGS.gpus = 4\n",
    "FLAGS.fp16 = True\n",
    "\n",
    "# FLAGS.load_weights_only = True\n",
    "# FLAGS.mode = 'valid'\n",
    "# FLAGS.fp16 = False\n",
    "# FLAGS.gpus = 1\n",
    "\n",
    "model_name = FLAGS.model.split('.')[-1]\n",
    "FLAGS.mn = f'{model_name}.{FLAGS.backbone}.s{image_size}'\n",
    "\n",
    "FLAGS.image_sizes = [192, 224, 256, 288, 320]\n",
    "image_sizes = ','.join(map(str, FLAGS.image_sizes))\n",
    "FLAGS.mn += f'.s{image_sizes}'\n",
    "\n",
    "# FLAGS.image_sizes = []\n",
    "# image_size = 256 #@param\n",
    "# FLAGS.image_size = [image_size, image_size]\n",
    "# FLAGS.dynamic_image_size = True"
   ]
  },
  {
   "cell_type": "code",
   "execution_count": 6,
   "metadata": {},
   "outputs": [
    {
     "name": "stderr",
     "output_type": "stream",
     "text": [
      "2020-12-13 00:06:15 0:00:00 fcntl.floc with lock_file /root/.melt.lock (If hang here means other programs calling melt.init have not finished yet)\n",
      "2020-12-13 00:06:16 0:00:01 Tf dataset and Tf model train in Eager mode, keras True, distributed:False\n",
      "2020-12-13 00:06:16 0:00:01 log_level: 20 (try --debug to show more or --log_level=(> 20) to show less(no INFO), try --verbose to show train/valid loss intervaly)\n",
      "2020-12-13 00:06:16 0:00:01 batch_size: 256 eval_batch_size: 256 batch_size_per_gpu: 64 num_gpus: 4 gpu: [0, 1, 2, 3] CUDA_VISIABLE_DEVICES=[] work_mode: train distributed: False horovod: False\n",
      "2020-12-13 00:06:23 0:00:08 model: [Unet.EfficientNetB4.s256.s192,224,256,288,320] model_dir: [/userhome/working/v19/Unet.EfficientNetB4.s256.s192,224,256,288,320]\n",
      "2020-12-13 00:06:23 0:00:08 Train precision: mixed_float16\n",
      "2020-12-13 00:06:23 0:00:08 ori_image_size: [256, 256] image_size: [256, 256]\n"
     ]
    },
    {
     "name": "stdout",
     "output_type": "stream",
     "text": [
      "Segmentation Models: using `tf.keras` framework.\n",
      "Downloading data from https://github.com/qubvel/efficientnet/releases/download/v0.0.1/efficientnet-b4_noisy-student_notop.h5\n",
      "71680000/71678424 [==============================] - 9s 0us/step\n",
      "Segmentation Models: using `tf.keras` framework.\n"
     ]
    },
    {
     "name": "stderr",
     "output_type": "stream",
     "text": [
      "2020-12-13 00:06:49 0:00:34 model: <tensorflow.python.keras.engine.functional.Functional object at 0x7ff61acaf9e8> backbone: EfficientNetB4\n",
      "2020-12-13 00:06:49 0:00:34 using preprocess of sm for EfficientNetB0 efficientnetb0\n",
      "2020-12-13 00:06:49 0:00:34 preprocess: <function preprocess_input at 0x7ff61ab58400>\n"
     ]
    }
   ],
   "source": [
    "config.init()\n",
    "mt.init()\n",
    "strategy = mt.distributed.get_strategy()\n",
    "with strategy.scope():\n",
    "  model = get_model(FLAGS.model)"
   ]
  },
  {
   "cell_type": "code",
   "execution_count": 7,
   "metadata": {},
   "outputs": [
    {
     "name": "stderr",
     "output_type": "stream",
     "text": [
      "2020-12-13 00:06:49 0:00:34 Round: 0 mode: train train_input:[*] valid_input:[*] train_dirs:[1] valid_dir: /userhome/data/quarter/tfrecords/train/1/* do_valid: True do_test: False\n"
     ]
    },
    {
     "name": "stdout",
     "output_type": "stream",
     "text": [
      "('Failed to import pydot. You must `pip install pydot` and install graphviz (https://graphviz.gitlab.io/download/), ', 'for `pydotprint` to work.')\n"
     ]
    },
    {
     "name": "stderr",
     "output_type": "stream",
     "text": [
      "2020-12-13 00:07:06 0:00:51 WARNING: model2tb for model model fail\n",
      "2020-12-13 00:07:06 0:00:51 WARNING: Image data of dtype object cannot be converted to float\n",
      "2020-12-13 00:07:06 0:00:51 Model: \"model\"\n",
      "2020-12-13 00:07:06 0:00:51 _________________________________________________________________\n",
      "2020-12-13 00:07:06 0:00:51 Layer (type)                 Output Shape              Param #   \n",
      "2020-12-13 00:07:06 0:00:51 =================================================================\n",
      "2020-12-13 00:07:06 0:00:51 sm-unet-efficientnetb4 (Func [(None, 256, 256, 15), (N 29252951  \n",
      "2020-12-13 00:07:06 0:00:51 =================================================================\n",
      "2020-12-13 00:07:06 0:00:51 Total params: 29,252,951\n",
      "2020-12-13 00:07:06 0:00:51 Trainable params: 29,125,767\n",
      "2020-12-13 00:07:06 0:00:51 Non-trainable params: 127,184\n",
      "2020-12-13 00:07:06 0:00:51 _________________________________________________________________\n"
     ]
    },
    {
     "data": {
      "application/vnd.jupyter.widget-view+json": {
       "model_id": "",
       "version_major": 2,
       "version_minor": 0
      },
      "text/plain": [
       "HBox(children=(FloatProgress(value=0.0, description='get_num_records', max=27.0, style=ProgressStyle(descripti…"
      ]
     },
     "metadata": {},
     "output_type": "display_data"
    },
    {
     "name": "stderr",
     "output_type": "stream",
     "text": [
      "2020-12-13 00:07:27 0:01:12 num_train_examples: 90000 num_steps_per_epoch: 352\n"
     ]
    },
    {
     "data": {
      "application/vnd.jupyter.widget-view+json": {
       "model_id": "",
       "version_major": 2,
       "version_minor": 0
      },
      "text/plain": [
       "HBox(children=(FloatProgress(value=0.0, description='get_num_records', max=3.0, style=ProgressStyle(descriptio…"
      ]
     },
     "metadata": {},
     "output_type": "display_data"
    },
    {
     "name": "stderr",
     "output_type": "stream",
     "text": [
      "2020-12-13 00:07:27 0:01:12 num_valid_examples: 10000 num_valid_steps_per_epoch: 40\n",
      "2020-12-13 00:07:27 0:01:12 round: 0 loss_fn: <function Model.loss_wrapper.<locals>.loss_fn at 0x7ff61ab589d8>\n",
      "2020-12-13 00:07:27 0:01:12 optimizer: <husky.optimization.AdamWeightDecay object at 0x7ff5df1e19b0> lr: <husky.optimization.WarmUp object at 0x7ff5df1e1ac8> init_lr: 0.001\n",
      "2020-12-13 00:07:27 0:01:12 total_steps: 35200 warmup_steps: 3520 end_lr: 1e-05\n",
      "2020-12-13 00:07:28 0:01:12 before loading, total params: 29252951, l2:0.009015\n",
      "2020-12-13 00:07:28 0:01:12 latest ckpt to restore: [None] from /userhome/working/v19/Unet.EfficientNetB4.s256.s192,224,256,288,320\n",
      "2020-12-13 00:07:28 0:01:12 load_weights: [/userhome/working/v19/Unet.EfficientNetB4.s256.s192,224,256,288,320/model.h5]\n",
      "2020-12-13 00:07:29 0:01:14 after loading, total params: 29252951, l2:0.012360, l2_diff:0.003345\n"
     ]
    },
    {
     "data": {
      "application/vnd.jupyter.widget-view+json": {
       "model_id": "2545ed40ef8f45faa7a06c9f6c59e6db",
       "version_major": 2,
       "version_minor": 0
      },
      "text/plain": [
       "HBox(children=(FloatProgress(value=0.0, description='Training', layout=Layout(flex='2'), style=ProgressStyle(d…"
      ]
     },
     "metadata": {},
     "output_type": "display_data"
    },
    {
     "data": {
      "application/vnd.jupyter.widget-view+json": {
       "model_id": "3428775e9c8748f4814f48a402ddb154",
       "version_major": 2,
       "version_minor": 0
      },
      "text/plain": [
       "HBox(children=(FloatProgress(value=0.0, description='Epochs:100', layout=Layout(flex='2'), max=35200.0, style=…"
      ]
     },
     "metadata": {},
     "output_type": "display_data"
    },
    {
     "name": "stdout",
     "output_type": "stream",
     "text": [
      "WARNING: AutoGraph could not transform <function _preprocess_symbolic_input at 0x7ff63efde510> and will run it as-is.\n",
      "Please report this to the TensorFlow team. When filing the bug, set the verbosity to 10 (on Linux, `export AUTOGRAPH_VERBOSITY=10`) and attach the full output.\n",
      "Cause: name 'retval_' is nonlocal and global (tmpvkm99m2t.py, line 19)\n",
      "To silence this warning, decorate the function with @tf.autograph.experimental.do_not_convert\n",
      "40/40 [==============================] - 9s 229ms/step - loss: 0.4507 - FWIoU: 0.7290 - MIoU: 0.6615 - ACC/pixel: 0.8404 - ACC/class: 0.7691\n",
      "40/40 [==============================] - 8s 196ms/step - loss: 0.4302 - FWIoU: 0.7410 - MIoU: 0.6765 - ACC/pixel: 0.8490 - ACC/class: 0.7756\n",
      "40/40 [==============================] - 10s 260ms/step - loss: 0.4241 - FWIoU: 0.7449 - MIoU: 0.6835 - ACC/pixel: 0.8516 - ACC/class: 0.7820\n",
      "40/40 [==============================] - 8s 195ms/step - loss: 0.4325 - FWIoU: 0.7438 - MIoU: 0.6838 - ACC/pixel: 0.8504 - ACC/class: 0.7812\n",
      "40/40 [==============================] - 8s 194ms/step - loss: 0.4220 - FWIoU: 0.7486 - MIoU: 0.6872 - ACC/pixel: 0.8544 - ACC/class: 0.7838\n",
      "40/40 [==============================] - 8s 189ms/step - loss: 0.4215 - FWIoU: 0.7516 - MIoU: 0.6965 - ACC/pixel: 0.8554 - ACC/class: 0.7915\n",
      "40/40 [==============================] - 7s 184ms/step - loss: 0.4076 - FWIoU: 0.7570 - MIoU: 0.7021 - ACC/pixel: 0.8590 - ACC/class: 0.79476s - loss: 0.4042 \n",
      "40/40 [==============================] - 8s 195ms/step - loss: 0.4038 - FWIoU: 0.7597 - MIoU: 0.7100 - ACC/pixel: 0.8610 - ACC/class: 0.8017\n",
      "40/40 [==============================] - 8s 193ms/step - loss: 0.4047 - FWIoU: 0.7614 - MIoU: 0.7138 - ACC/pixel: 0.8622 - ACC/class: 0.8063\n",
      "40/40 [==============================] - 8s 189ms/step - loss: 0.3988 - FWIoU: 0.7648 - MIoU: 0.7234 - ACC/pixel: 0.8643 - ACC/class: 0.8157\n",
      "\n",
      "\r"
     ]
    },
    {
     "name": "stderr",
     "output_type": "stream",
     "text": [
      "2020-12-13 03:41:07 3:34:52 ALL DONE! You may check log file: [tail /userhome/working/v19/Unet.EfficientNetB4.s256.s192,224,256,288,320/log.html*]\n"
     ]
    },
    {
     "data": {
      "image/png": "[encoded data removed]",
      "text/plain": [
       "<Figure size 432x288 with 1 Axes>"
      ]
     },
     "metadata": {
      "needs_background": "light"
     },
     "output_type": "display_data"
    }
   ],
   "source": [
    "fit()"
   ]
  },
  {
   "cell_type": "code",
   "execution_count": 8,
   "metadata": {},
   "outputs": [
    {
     "name": "stdout",
     "output_type": "stream",
     "text": [
      "\r"
     ]
    },
    {
     "name": "stderr",
     "output_type": "stream",
     "text": [
      "2020-12-13 03:41:07 3:34:52 Round: 1 mode: valid train_input:[*] valid_input:[*] train_dirs:[1] valid_dir: /userhome/data/quarter/tfrecords/train/1/* do_valid: True do_test: False\n"
     ]
    },
    {
     "data": {
      "application/vnd.jupyter.widget-view+json": {
       "model_id": "",
       "version_major": 2,
       "version_minor": 0
      },
      "text/plain": [
       "HBox(children=(FloatProgress(value=0.0, description='get_num_records', max=27.0, style=ProgressStyle(descripti…"
      ]
     },
     "metadata": {},
     "output_type": "display_data"
    },
    {
     "name": "stdout",
     "output_type": "stream",
     "text": [
      "\r"
     ]
    },
    {
     "name": "stderr",
     "output_type": "stream",
     "text": [
      "2020-12-13 03:41:34 3:35:19 num_train_examples: 90000 num_steps_per_epoch: 352\n"
     ]
    },
    {
     "data": {
      "application/vnd.jupyter.widget-view+json": {
       "model_id": "",
       "version_major": 2,
       "version_minor": 0
      },
      "text/plain": [
       "HBox(children=(FloatProgress(value=0.0, description='get_num_records', max=3.0, style=ProgressStyle(descriptio…"
      ]
     },
     "metadata": {},
     "output_type": "display_data"
    },
    {
     "name": "stdout",
     "output_type": "stream",
     "text": [
      "\r"
     ]
    },
    {
     "name": "stderr",
     "output_type": "stream",
     "text": [
      "2020-12-13 03:41:34 3:35:19 num_valid_examples: 10000 num_valid_steps_per_epoch: 40\n"
     ]
    },
    {
     "name": "stdout",
     "output_type": "stream",
     "text": []
    },
    {
     "name": "stderr",
     "output_type": "stream",
     "text": [
      "2020-12-13 03:41:34 3:35:19 round: 1 loss_fn: <function Model.loss_wrapper.<locals>.loss_fn at 0x7ff5df08f510>\n",
      "2020-12-13 03:41:34 3:35:19 optimizer: <husky.optimization.AdamWeightDecay object at 0x7ff5df1e19b0> lr: 0.001 init_lr: 0.001\n",
      "2020-12-13 03:41:34 3:35:19 total_steps: 35200 warmup_steps: 3520 end_lr: 1e-05\n"
     ]
    },
    {
     "ename": "ValueError",
     "evalue": "Called Trackable._track_trackable() with name='base_optimizer', but a Trackable with this name is already declared as a dependency. Names must be unique (or overwrite=True).",
     "output_type": "error",
     "traceback": [
      "\u001b[0;31m---------------------------------------------------------------------------\u001b[0m",
      "\u001b[0;31mValueError\u001b[0m                                Traceback (most recent call last)",
      "\u001b[0;32m<ipython-input-8-105f999bc361>\u001b[0m in \u001b[0;36m<module>\u001b[0;34m\u001b[0m\n\u001b[1;32m      2\u001b[0m \u001b[0mFLAGS\u001b[0m\u001b[0;34m.\u001b[0m\u001b[0mcustom_eval\u001b[0m \u001b[0;34m=\u001b[0m \u001b[0;32mFalse\u001b[0m\u001b[0;34m\u001b[0m\u001b[0;34m\u001b[0m\u001b[0m\n\u001b[1;32m      3\u001b[0m \u001b[0mFLAGS\u001b[0m\u001b[0;34m.\u001b[0m\u001b[0mtta\u001b[0m \u001b[0;34m=\u001b[0m \u001b[0;32mFalse\u001b[0m\u001b[0;34m\u001b[0m\u001b[0;34m\u001b[0m\u001b[0m\n\u001b[0;32m----> 4\u001b[0;31m \u001b[0mfit\u001b[0m\u001b[0;34m(\u001b[0m\u001b[0;34m)\u001b[0m\u001b[0;34m\u001b[0m\u001b[0;34m\u001b[0m\u001b[0m\n\u001b[0m\u001b[1;32m      5\u001b[0m \u001b[0;31m# mt.save_model(model, f'{FLAGS.model_dir}/model.h5')\u001b[0m\u001b[0;34m\u001b[0m\u001b[0;34m\u001b[0m\u001b[0;34m\u001b[0m\u001b[0m\n",
      "\u001b[0;32m<ipython-input-4-2d517db91b6f>\u001b[0m in \u001b[0;36mfit\u001b[0;34m(dry_run)\u001b[0m\n\u001b[1;32m      7\u001b[0m            \u001b[0meval_fn\u001b[0m\u001b[0;34m=\u001b[0m\u001b[0mget_eval_fn\u001b[0m\u001b[0;34m(\u001b[0m\u001b[0;34m)\u001b[0m\u001b[0;34m,\u001b[0m\u001b[0;34m\u001b[0m\u001b[0;34m\u001b[0m\u001b[0m\n\u001b[1;32m      8\u001b[0m            \u001b[0minference_fn\u001b[0m\u001b[0;34m=\u001b[0m\u001b[0mget_infer_fn\u001b[0m\u001b[0;34m(\u001b[0m\u001b[0;34m)\u001b[0m\u001b[0;34m,\u001b[0m\u001b[0;34m\u001b[0m\u001b[0;34m\u001b[0m\u001b[0m\n\u001b[0;32m----> 9\u001b[0;31m            \u001b[0mdry_run\u001b[0m\u001b[0;34m=\u001b[0m\u001b[0mdry_run\u001b[0m\u001b[0;34m\u001b[0m\u001b[0;34m\u001b[0m\u001b[0m\n\u001b[0m\u001b[1;32m     10\u001b[0m           )\n",
      "\u001b[0;32m/userhome/pikachu/utils/melt/apps/train.py\u001b[0m in \u001b[0;36mfit\u001b[0;34m(model, loss_fn, Dataset, dataset, eval_dataset, valid_dataset, num_folds, dry_run, **kwargs)\u001b[0m\n\u001b[1;32m   1895\u001b[0m       \u001b[0;32mif\u001b[0m \u001b[0mFLAGS\u001b[0m\u001b[0;34m.\u001b[0m\u001b[0mkeras\u001b[0m\u001b[0;34m:\u001b[0m\u001b[0;34m\u001b[0m\u001b[0;34m\u001b[0m\u001b[0m\n\u001b[1;32m   1896\u001b[0m         \u001b[0;32mimport\u001b[0m \u001b[0mhusky\u001b[0m\u001b[0;34m\u001b[0m\u001b[0;34m\u001b[0m\u001b[0m\n\u001b[0;32m-> 1897\u001b[0;31m         \u001b[0mhistory\u001b[0m \u001b[0;34m=\u001b[0m \u001b[0mhusky\u001b[0m\u001b[0;34m.\u001b[0m\u001b[0mtrain\u001b[0m\u001b[0;34m(\u001b[0m\u001b[0mmodel\u001b[0m\u001b[0;34m,\u001b[0m \u001b[0mloss_fn\u001b[0m\u001b[0;34m,\u001b[0m \u001b[0minfo\u001b[0m\u001b[0;34m,\u001b[0m \u001b[0mDataset\u001b[0m\u001b[0;34m,\u001b[0m \u001b[0mdry_run\u001b[0m\u001b[0;34m=\u001b[0m\u001b[0mdry_run\u001b[0m\u001b[0;34m,\u001b[0m \u001b[0;34m**\u001b[0m\u001b[0mkwargs\u001b[0m\u001b[0;34m)\u001b[0m\u001b[0;34m\u001b[0m\u001b[0;34m\u001b[0m\u001b[0m\n\u001b[0m\u001b[1;32m   1898\u001b[0m       \u001b[0;32mif\u001b[0m \u001b[0minfo\u001b[0m \u001b[0;32mis\u001b[0m \u001b[0;32mnot\u001b[0m \u001b[0;32mNone\u001b[0m\u001b[0;34m:\u001b[0m\u001b[0;34m\u001b[0m\u001b[0;34m\u001b[0m\u001b[0m\n\u001b[1;32m   1899\u001b[0m         \u001b[0;32mif\u001b[0m \u001b[0mFLAGS\u001b[0m\u001b[0;34m.\u001b[0m\u001b[0mallow_round_grow\u001b[0m\u001b[0;34m:\u001b[0m\u001b[0;34m\u001b[0m\u001b[0;34m\u001b[0m\u001b[0m\n",
      "\u001b[0;32m/userhome/pikachu/utils/husky/train.py\u001b[0m in \u001b[0;36mtrain\u001b[0;34m(model, loss_fn, info, Dataset, dataset, valid_dataset, valid_dataset2, test_dataset, evaluate_fn, inference_fn, eval_fn, eval_keys, write_valid, valid_names, infer_names, infer_debug_names, valid_write_fn, infer_write_fn, valid_suffix, infer_suffix, write_streaming, optimizer, variables_list_fn, lr_params, init_fn, weights, sep, out_hook, out_keys, callbacks, metrics, initial_epoch, return_info, dry_run)\u001b[0m\n\u001b[1;32m    372\u001b[0m         \u001b[0mmetrics\u001b[0m\u001b[0;34m=\u001b[0m\u001b[0mmetrics\u001b[0m\u001b[0;34m,\u001b[0m\u001b[0;34m\u001b[0m\u001b[0;34m\u001b[0m\u001b[0m\n\u001b[1;32m    373\u001b[0m         \u001b[0mrun_eagerly\u001b[0m\u001b[0;34m=\u001b[0m\u001b[0mFLAGS\u001b[0m\u001b[0;34m.\u001b[0m\u001b[0mrun_eagerly\u001b[0m\u001b[0;34m,\u001b[0m\u001b[0;34m\u001b[0m\u001b[0;34m\u001b[0m\u001b[0m\n\u001b[0;32m--> 374\u001b[0;31m         \u001b[0;34m**\u001b[0m\u001b[0mkwargs\u001b[0m\u001b[0;34m,\u001b[0m\u001b[0;34m\u001b[0m\u001b[0;34m\u001b[0m\u001b[0m\n\u001b[0m\u001b[1;32m    375\u001b[0m       )\n\u001b[1;32m    376\u001b[0m \u001b[0;34m\u001b[0m\u001b[0m\n",
      "\u001b[0;32m/usr/local/lib/python3.6/site-packages/tensorflow/python/keras/engine/training.py\u001b[0m in \u001b[0;36mcompile\u001b[0;34m(self, optimizer, loss, metrics, loss_weights, weighted_metrics, run_eagerly, **kwargs)\u001b[0m\n\u001b[1;32m    539\u001b[0m       \u001b[0mself\u001b[0m\u001b[0;34m.\u001b[0m\u001b[0m_run_eagerly\u001b[0m \u001b[0;34m=\u001b[0m \u001b[0mrun_eagerly\u001b[0m\u001b[0;34m\u001b[0m\u001b[0;34m\u001b[0m\u001b[0m\n\u001b[1;32m    540\u001b[0m \u001b[0;34m\u001b[0m\u001b[0m\n\u001b[0;32m--> 541\u001b[0;31m       \u001b[0mself\u001b[0m\u001b[0;34m.\u001b[0m\u001b[0moptimizer\u001b[0m \u001b[0;34m=\u001b[0m \u001b[0mself\u001b[0m\u001b[0;34m.\u001b[0m\u001b[0m_get_optimizer\u001b[0m\u001b[0;34m(\u001b[0m\u001b[0moptimizer\u001b[0m\u001b[0;34m)\u001b[0m\u001b[0;34m\u001b[0m\u001b[0;34m\u001b[0m\u001b[0m\n\u001b[0m\u001b[1;32m    542\u001b[0m       self.compiled_loss = compile_utils.LossesContainer(\n\u001b[1;32m    543\u001b[0m           loss, loss_weights, output_names=self.output_names)\n",
      "\u001b[0;32m/usr/local/lib/python3.6/site-packages/tensorflow/python/keras/engine/training.py\u001b[0m in \u001b[0;36m_get_optimizer\u001b[0;34m(self, optimizer)\u001b[0m\n\u001b[1;32m    565\u001b[0m       \u001b[0;32mreturn\u001b[0m \u001b[0mopt\u001b[0m\u001b[0;34m\u001b[0m\u001b[0;34m\u001b[0m\u001b[0m\n\u001b[1;32m    566\u001b[0m \u001b[0;34m\u001b[0m\u001b[0m\n\u001b[0;32m--> 567\u001b[0;31m     \u001b[0;32mreturn\u001b[0m \u001b[0mnest\u001b[0m\u001b[0;34m.\u001b[0m\u001b[0mmap_structure\u001b[0m\u001b[0;34m(\u001b[0m\u001b[0m_get_single_optimizer\u001b[0m\u001b[0;34m,\u001b[0m \u001b[0moptimizer\u001b[0m\u001b[0;34m)\u001b[0m\u001b[0;34m\u001b[0m\u001b[0;34m\u001b[0m\u001b[0m\n\u001b[0m\u001b[1;32m    568\u001b[0m \u001b[0;34m\u001b[0m\u001b[0m\n\u001b[1;32m    569\u001b[0m   \u001b[0;34m@\u001b[0m\u001b[0mtrackable\u001b[0m\u001b[0;34m.\u001b[0m\u001b[0mno_automatic_dependency_tracking\u001b[0m\u001b[0;34m\u001b[0m\u001b[0;34m\u001b[0m\u001b[0m\n",
      "\u001b[0;32m/usr/local/lib/python3.6/site-packages/tensorflow/python/util/nest.py\u001b[0m in \u001b[0;36mmap_structure\u001b[0;34m(func, *structure, **kwargs)\u001b[0m\n\u001b[1;32m    633\u001b[0m \u001b[0;34m\u001b[0m\u001b[0m\n\u001b[1;32m    634\u001b[0m   return pack_sequence_as(\n\u001b[0;32m--> 635\u001b[0;31m       \u001b[0mstructure\u001b[0m\u001b[0;34m[\u001b[0m\u001b[0;36m0\u001b[0m\u001b[0;34m]\u001b[0m\u001b[0;34m,\u001b[0m \u001b[0;34m[\u001b[0m\u001b[0mfunc\u001b[0m\u001b[0;34m(\u001b[0m\u001b[0;34m*\u001b[0m\u001b[0mx\u001b[0m\u001b[0;34m)\u001b[0m \u001b[0;32mfor\u001b[0m \u001b[0mx\u001b[0m \u001b[0;32min\u001b[0m \u001b[0mentries\u001b[0m\u001b[0;34m]\u001b[0m\u001b[0;34m,\u001b[0m\u001b[0;34m\u001b[0m\u001b[0;34m\u001b[0m\u001b[0m\n\u001b[0m\u001b[1;32m    636\u001b[0m       expand_composites=expand_composites)\n\u001b[1;32m    637\u001b[0m \u001b[0;34m\u001b[0m\u001b[0m\n",
      "\u001b[0;32m/usr/local/lib/python3.6/site-packages/tensorflow/python/util/nest.py\u001b[0m in \u001b[0;36m<listcomp>\u001b[0;34m(.0)\u001b[0m\n\u001b[1;32m    633\u001b[0m \u001b[0;34m\u001b[0m\u001b[0m\n\u001b[1;32m    634\u001b[0m   return pack_sequence_as(\n\u001b[0;32m--> 635\u001b[0;31m       \u001b[0mstructure\u001b[0m\u001b[0;34m[\u001b[0m\u001b[0;36m0\u001b[0m\u001b[0;34m]\u001b[0m\u001b[0;34m,\u001b[0m \u001b[0;34m[\u001b[0m\u001b[0mfunc\u001b[0m\u001b[0;34m(\u001b[0m\u001b[0;34m*\u001b[0m\u001b[0mx\u001b[0m\u001b[0;34m)\u001b[0m \u001b[0;32mfor\u001b[0m \u001b[0mx\u001b[0m \u001b[0;32min\u001b[0m \u001b[0mentries\u001b[0m\u001b[0;34m]\u001b[0m\u001b[0;34m,\u001b[0m\u001b[0;34m\u001b[0m\u001b[0;34m\u001b[0m\u001b[0m\n\u001b[0m\u001b[1;32m    636\u001b[0m       expand_composites=expand_composites)\n\u001b[1;32m    637\u001b[0m \u001b[0;34m\u001b[0m\u001b[0m\n",
      "\u001b[0;32m/usr/local/lib/python3.6/site-packages/tensorflow/python/keras/engine/training.py\u001b[0m in \u001b[0;36m_get_single_optimizer\u001b[0;34m(opt)\u001b[0m\n\u001b[1;32m    562\u001b[0m       if (self._dtype_policy.loss_scale is not None and\n\u001b[1;32m    563\u001b[0m           not isinstance(opt, lso.LossScaleOptimizer)):\n\u001b[0;32m--> 564\u001b[0;31m         \u001b[0mopt\u001b[0m \u001b[0;34m=\u001b[0m \u001b[0mlso\u001b[0m\u001b[0;34m.\u001b[0m\u001b[0mLossScaleOptimizer\u001b[0m\u001b[0;34m(\u001b[0m\u001b[0mopt\u001b[0m\u001b[0;34m,\u001b[0m \u001b[0mself\u001b[0m\u001b[0;34m.\u001b[0m\u001b[0m_dtype_policy\u001b[0m\u001b[0;34m.\u001b[0m\u001b[0mloss_scale\u001b[0m\u001b[0;34m)\u001b[0m\u001b[0;34m\u001b[0m\u001b[0;34m\u001b[0m\u001b[0m\n\u001b[0m\u001b[1;32m    565\u001b[0m       \u001b[0;32mreturn\u001b[0m \u001b[0mopt\u001b[0m\u001b[0;34m\u001b[0m\u001b[0;34m\u001b[0m\u001b[0m\n\u001b[1;32m    566\u001b[0m \u001b[0;34m\u001b[0m\u001b[0m\n",
      "\u001b[0;32m/usr/local/lib/python3.6/site-packages/tensorflow/python/keras/mixed_precision/experimental/loss_scale_optimizer.py\u001b[0m in \u001b[0;36m__init__\u001b[0;34m(self, optimizer, loss_scale)\u001b[0m\n\u001b[1;32m    284\u001b[0m     \u001b[0;31m# To support restoring TensorFlow 2.2 checkpoints.\u001b[0m\u001b[0;34m\u001b[0m\u001b[0;34m\u001b[0m\u001b[0;34m\u001b[0m\u001b[0m\n\u001b[1;32m    285\u001b[0m     self._track_trackable(FakeOptimizerForRestoration(self._optimizer),\n\u001b[0;32m--> 286\u001b[0;31m                           'base_optimizer')\n\u001b[0m\u001b[1;32m    287\u001b[0m \u001b[0;34m\u001b[0m\u001b[0m\n\u001b[1;32m    288\u001b[0m   \u001b[0;34m@\u001b[0m\u001b[0mproperty\u001b[0m\u001b[0;34m\u001b[0m\u001b[0;34m\u001b[0m\u001b[0m\n",
      "\u001b[0;32m/usr/local/lib/python3.6/site-packages/tensorflow/python/keras/mixed_precision/experimental/loss_scale_optimizer.py\u001b[0m in \u001b[0;36m_track_trackable\u001b[0;34m(self, trackable, name, overwrite)\u001b[0m\n\u001b[1;32m    145\u001b[0m \u001b[0;34m\u001b[0m\u001b[0m\n\u001b[1;32m    146\u001b[0m   \u001b[0;32mdef\u001b[0m \u001b[0m_track_trackable\u001b[0m\u001b[0;34m(\u001b[0m\u001b[0mself\u001b[0m\u001b[0;34m,\u001b[0m \u001b[0mtrackable\u001b[0m\u001b[0;34m,\u001b[0m \u001b[0mname\u001b[0m\u001b[0;34m,\u001b[0m \u001b[0moverwrite\u001b[0m\u001b[0;34m=\u001b[0m\u001b[0;32mFalse\u001b[0m\u001b[0;34m)\u001b[0m\u001b[0;34m:\u001b[0m  \u001b[0;31m# pylint: disable=redefined-outer-name\u001b[0m\u001b[0;34m\u001b[0m\u001b[0;34m\u001b[0m\u001b[0m\n\u001b[0;32m--> 147\u001b[0;31m     \u001b[0;32mreturn\u001b[0m \u001b[0mself\u001b[0m\u001b[0;34m.\u001b[0m\u001b[0m_trackable\u001b[0m\u001b[0;34m.\u001b[0m\u001b[0m_track_trackable\u001b[0m\u001b[0;34m(\u001b[0m\u001b[0mtrackable\u001b[0m\u001b[0;34m,\u001b[0m \u001b[0mname\u001b[0m\u001b[0;34m,\u001b[0m \u001b[0moverwrite\u001b[0m\u001b[0;34m)\u001b[0m\u001b[0;34m\u001b[0m\u001b[0;34m\u001b[0m\u001b[0m\n\u001b[0m\u001b[1;32m    148\u001b[0m \u001b[0;34m\u001b[0m\u001b[0m\n\u001b[1;32m    149\u001b[0m   \u001b[0;32mdef\u001b[0m \u001b[0m_handle_deferred_dependencies\u001b[0m\u001b[0;34m(\u001b[0m\u001b[0mself\u001b[0m\u001b[0;34m,\u001b[0m \u001b[0mname\u001b[0m\u001b[0;34m,\u001b[0m \u001b[0mtrackable\u001b[0m\u001b[0;34m)\u001b[0m\u001b[0;34m:\u001b[0m  \u001b[0;31m# pylint: disable=redefined-outer-name\u001b[0m\u001b[0;34m\u001b[0m\u001b[0;34m\u001b[0m\u001b[0m\n",
      "\u001b[0;32m/usr/local/lib/python3.6/site-packages/tensorflow/python/training/tracking/base.py\u001b[0m in \u001b[0;36m_track_trackable\u001b[0;34m(self, trackable, name, overwrite)\u001b[0m\n\u001b[1;32m    838\u001b[0m             (\"Called Trackable._track_trackable() with name='%s', \"\n\u001b[1;32m    839\u001b[0m              \u001b[0;34m\"but a Trackable with this name is already declared as a \"\u001b[0m\u001b[0;34m\u001b[0m\u001b[0;34m\u001b[0m\u001b[0m\n\u001b[0;32m--> 840\u001b[0;31m              \"dependency. Names must be unique (or overwrite=True).\") % (name,))\n\u001b[0m\u001b[1;32m    841\u001b[0m       \u001b[0;31m# This is a weird thing to do, but we're not going to stop people from\u001b[0m\u001b[0;34m\u001b[0m\u001b[0;34m\u001b[0m\u001b[0;34m\u001b[0m\u001b[0m\n\u001b[1;32m    842\u001b[0m       \u001b[0;31m# using __setattr__.\u001b[0m\u001b[0;34m\u001b[0m\u001b[0;34m\u001b[0m\u001b[0;34m\u001b[0m\u001b[0m\n",
      "\u001b[0;31mValueError\u001b[0m: Called Trackable._track_trackable() with name='base_optimizer', but a Trackable with this name is already declared as a dependency. Names must be unique (or overwrite=True)."
     ]
    }
   ],
   "source": [
    "FLAGS.mode = 'valid'\n",
    "FLAGS.custom_eval = False\n",
    "FLAGS.tta = False\n",
    "fit()\n",
    "# mt.save_model(model, f'{FLAGS.model_dir}/model.h5')"
   ]
  },
  {
   "cell_type": "code",
   "execution_count": null,
   "metadata": {},
   "outputs": [],
   "source": [
    "FLAGS.mode = 'valid'\n",
    "FLAGS.custom_eval = False\n",
    "FLAGS.tta = True\n",
    "fit()\n",
    "# mt.save_model(model, f'{FLAGS.model_dir}/model.h5')"
   ]
  },
  {
   "cell_type": "code",
   "execution_count": null,
   "metadata": {},
   "outputs": [],
   "source": [
    "df = gezi.gen_metric_df(FLAGS.model_dir)"
   ]
  },
  {
   "cell_type": "code",
   "execution_count": null,
   "metadata": {},
   "outputs": [],
   "source": [
    "gezi.line(df, ['FWIoU'])"
   ]
  },
  {
   "cell_type": "code",
   "execution_count": null,
   "metadata": {},
   "outputs": [],
   "source": []
  }
 ],
 "metadata": {
  "kernelspec": {
   "display_name": "Python 3",
   "language": "python",
   "name": "python3"
  },
  "language_info": {
   "codemirror_mode": {
    "name": "ipython",
    "version": 3
   },
   "file_extension": ".py",
   "mimetype": "text/x-python",
   "name": "python",
   "nbconvert_exporter": "python",
   "pygments_lexer": "ipython3",
   "version": "3.6.10"
  }
 },
 "nbformat": 4,
 "nbformat_minor": 4
}
