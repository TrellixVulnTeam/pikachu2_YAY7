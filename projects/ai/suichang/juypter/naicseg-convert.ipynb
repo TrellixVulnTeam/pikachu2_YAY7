{
 "cells": [
  {
   "cell_type": "code",
   "execution_count": 1,
   "metadata": {},
   "outputs": [],
   "source": [
    "import sys\n",
    "root = '/home/featurize/data'\n",
    "sys.path.append(f'{root}/pikachu/utils')\n",
    "sys.path.append(f'{root}/pikachu/third')\n",
    "sys.path.append(f'{root}/pikachu')\n",
    "sys.path.append(f'{root}/pikachu/projects/ai/naic_seg')"
   ]
  },
  {
   "cell_type": "code",
   "execution_count": 2,
   "metadata": {},
   "outputs": [],
   "source": [
    "import gezi\n",
    "import melt\n",
    "import melt as mt\n",
    "from gezi import tqdm\n",
    "from gezi.metrics.image.semantic_seg import Evaluator\n",
    "import lele\n",
    "import husky\n",
    "import pandas as pd\n",
    "import numpy as np\n",
    "import tensorflow as tf\n",
    "from absl import app, flags\n",
    "FLAGS = flags.FLAGS\n",
    "from gseg import config\n",
    "from gseg.config import *\n",
    "from gseg.dataset import Dataset\n",
    "from gseg.evaluate import get_eval_fn\n",
    "from gseg import util\n",
    "from gseg.util import get_infer_fn\n",
    "from gseg.loss import get_loss_fn\n",
    "from gseg.metrics import get_metrics\n",
    "from gseg.model import get_model"
   ]
  },
  {
   "cell_type": "code",
   "execution_count": 3,
   "metadata": {},
   "outputs": [],
   "source": [
    "command = 'python ./train.py --model=Model --model_dir=../working/v1/common.sh --train_input=../input/tfrecords/train/*/* --test_input=../input/tfrecords/test/*/* --model=Model --restore_exclude=global_step,ignore,learning_rate --global_epoch=0 --global_step=0 --learning_rate=0.01 --min_learning_rate=1e-06 --optimizer=bert-adam --batch_size=32 --interval_steps=100 --valid_interval_steps=100 --write_summary --write_metric_summary --freeze_graph_final=0 --vie=0.25 --allow_cpu=0 --async_valid --model=Model --mname=baseline --mn=baseline.10epoch --mode=valid --tb_image=0'\n",
    "GCS_ROOT = '/home/featurize/data'\n",
    "GCS_PATH = f'{GCS_ROOT}/tfrecords'\n",
    "argv = command.strip().split()\n",
    "FLAGS(argv)\n",
    "FLAGS.async_valid = False\n",
    "FLAGS.allow_cpu = False\n",
    "FLAGS.train_input = f'{GCS_PATH}/train/*/*'\n",
    "FLAGS.test_input=f'{GCS_PATH}/test/*/*'\n",
    "# FLAGS.test_input=''\n",
    "FLAGS.do_test = False\n",
    "FLAGS.batch_parse = False\n",
    "FLAGS.static_input = True\n",
    "FLAGS.buffer_size = 200\n",
    "FLAGS.verbose = True\n",
    "FLAGS.mode = 'train'\n",
    "FLAGS.fold = 0\n",
    "FLAGS.tb_image = True\n",
    "FLAGS.bfloat16 = False\n",
    "FLAGS.write_valid_results = False\n",
    "FLAGS.write_test_results = False\n",
    "FLAGS.tb_image_interval = 1000000\n",
    "FLAGS.learning_rate=0.01 \n",
    "FLAGS.min_learning_rate=1e-06 \n",
    "FLAGS.optimizer='bert-adam'"
   ]
  },
  {
   "cell_type": "code",
   "execution_count": 4,
   "metadata": {},
   "outputs": [],
   "source": [
    "# 这里必须fix batch size\n",
    "FLAGS.drop_remainder = True \n",
    "FLAGS.print_depth = 1\n",
    "# since dataset is too big not cache 否则会socket close\n",
    "FLAGS.cache_valid = False\n",
    "FLAGS.epochs = 5\n",
    "FLAGS.vie = 1 \n",
    "FLAGS.fast_eval = False\n",
    "FLAGS.mode = 'train'\n",
    "FLAGS.dataset_device = 'cpu' \n",
    "FLAGS.aug_train_image = False\n",
    "# FLAGS.dry_run = True\n",
    "FLAGS.dry_run = False"
   ]
  },
  {
   "cell_type": "code",
   "execution_count": 5,
   "metadata": {},
   "outputs": [],
   "source": [
    "def fit(dry_run=False):\n",
    "  with strategy.scope():\n",
    "    mt.fit(model, \n",
    "          #  loss_fn=get_loss_fn(),\n",
    "           loss_fn=model.get_loss(),\n",
    "           Dataset=Dataset,\n",
    "           metrics=get_metrics(),\n",
    "           eval_fn=get_eval_fn(),\n",
    "           inference_fn=get_infer_fn(),\n",
    "           dry_run=dry_run\n",
    "          )"
   ]
  },
  {
   "cell_type": "code",
   "execution_count": 6,
   "metadata": {},
   "outputs": [
    {
     "name": "stdout",
     "output_type": "stream",
     "text": [
      "/home/featurize/work/naicseg/v9/sm.Unet.EfficientNetB4.augl4.size288.mrate1.200epoch.1115.swa10_aav\n"
     ]
    }
   ],
   "source": [
    "FLAGS.data_version = 2\n",
    "FLAGS.fold = 1\n",
    "ver = 9#@param\n",
    "tag = f'v{ver}' if FLAGS.data_version == 2 else f'v{ver}.dv1'\n",
    "FLAGS.model_dir = f'../working/{tag}/base' if FLAGS.fold == 1 else f'../working/{tag}.fold{FLAGS.fold}/base'\n",
    "FLAGS.clear_first = False #@param\n",
    "FLAGS.check_exists = False\n",
    "FLAGS.mode = 'train'\n",
    "FLAGS.custom_eval = False\n",
    "FLAGS.vie = 5\n",
    "FLAGS.save_interval_epochs = FLAGS.vie \n",
    "FLAGS.aug_train_image = True\n",
    "FLAGS.optimizer = 'bert-adamw'\n",
    "FLAGS.learning_rate = 1e-3\n",
    "FLAGS.min_learning_rate = 1e-5\n",
    "FLAGS.learning_rate_decay_power = 0.5\n",
    "# FLAGS.lr_decay_method = 'cosine'\n",
    "FLAGS.epochs =  200#@param\n",
    "# FLAGS.swa_start_epoch = 50\n",
    "# FLAGS.swa_lr_ratio = 0.1\n",
    "# FLAGS.swa_freq = 2\n",
    "FLAGS.hflip_rate = 0.5 #@param\n",
    "FLAGS.vflip_rate = 0.5 #@param\n",
    "FLAGS.rotate_rate =  0.5 #@param\n",
    "FLAGS.backbone_weights = 'noisy-student' \n",
    "# FLAGS.resize_aug_rate = 0.2\n",
    "FLAGS.dropout = 0.3\n",
    "FLAGS.label_smoothing = 0.05\n",
    "FLAGS.inter_activation = 'swish'\n",
    "FLAGS.deeplab_sepconv = False\n",
    "# FLAGS.fpn_filters = 256 #@param\n",
    "# FLAGS.seg_weights = '../working/v8.dv1/sm.unet.efficientnetb4.nosiy.100epoch.1030'\n",
    "# FLAGS.pretrain = 'sm.unet.efficientnetb4.nosiy.50epoch.adamw.power05.1030'\n",
    "# FLAGS.start_epoch = 50\n",
    "# FLAGS.teacher = '../working/v8/ensemble.gpu'\n",
    "# FLAGS.mix_dataset = True\n",
    "# FLAGS.input = f'{GCS_ROOT}/quarter/tfrecords/train/*/*,{GCS_PATH}/train/*/*'\n",
    "# FLAGS.valid_exclude = f'{GCS_PATH}'\n",
    "# FLAGS.multi_scale = True #@param\n",
    "# FLAGS.multi_scale_attn = True #@param\n",
    "# FLAGS.multi_scale_attn_dynamic = True #@param\n",
    "# FLAGS.image_size2 = [288, 288]\n",
    "# FLAGS.loss_fn = 'tanimoto' #@param\n",
    "# FLAGS.ce_loss_rate = 1. #@param\n",
    "FLAGS.augment_level =  3#@param\n",
    "# FLAGS.aug_train_image = False\n",
    "FLAGS.debug = False\n",
    "FLAGS.mode = 'valid'\n",
    "FLAGS.load_weights_only = True\n",
    "FLAGS.batch_size = 32\n",
    "\n",
    "# FLAGS.model = 'sm.Unet' #@param\n",
    "# FLAGS.backbone = 'EfficientNetB4' #@param\n",
    "# FLAGS.image_size = [288, 288]\n",
    "# FLAGS.mrate = 0\n",
    "# # FLAGS.fpn_filters = 128\n",
    "# FLAGS.mn = f'sm.Unet.EfficientNetB4.augl4.size288.mrate0.200epoch.1115' #@param\n",
    "# FLAGS.pretrain = f'/home/featurize/work/naicseg/v9/{FLAGS.mn}'\n",
    "\n",
    "FLAGS.model = 'sm.Unet' #@param\n",
    "FLAGS.backbone = 'EfficientNetB4' #@param\n",
    "FLAGS.image_size = [288, 288]\n",
    "FLAGS.mrate = 1\n",
    "# FLAGS.fpn_filters = 128\n",
    "FLAGS.mn = f'sm.Unet.EfficientNetB4.augl4.size288.mrate1.200epoch.1115.swa10_aav' #@param\n",
    "FLAGS.pretrain = f'/home/featurize/work/naicseg/v9/{FLAGS.mn}'\n",
    "\n",
    "# FLAGS.model = 'sm.FPN' #@param\n",
    "# FLAGS.backbone = 'EfficientNetB4' #@param\n",
    "# # FLAGS.image_size = [288, 288]\n",
    "# FLAGS.mrate = 1\n",
    "# # FLAGS.fpn_filters = 128\n",
    "# FLAGS.mn = 'sm.FPN.EfficientNetB4.augl4.size256.mrate1.200epoch.1115.swa10_aav' #@param\n",
    "# FLAGS.pretrain = f'/home/featurize/work/naicseg/v9/{FLAGS.mn}'\n",
    "\n",
    "# FLAGS.model = 'bread.DeeplabV3Plus' #@param\n",
    "# FLAGS.backbone = 'EfficientNetB6' #@param\n",
    "# # FLAGS.image_size = [288, 288]\n",
    "# FLAGS.mrate = 1\n",
    "# # FLAGS.fpn_filters = 128\n",
    "# FLAGS.mn = 'bread.DeeplabV3Plus.EfficientNetB6.augl4.size256.mrate1.200epoch.1115.swa10_aav' #@param\n",
    "# FLAGS.pretrain = f'/home/featurize/work/naicseg/v9/{FLAGS.mn}'\n",
    "\n",
    "# FLAGS.model = 'sm.FPN' #@param\n",
    "# FLAGS.backbone = 'EfficientNetB6' #@param\n",
    "# # FLAGS.image_size = [288, 288]\n",
    "# # FLAGS.mrate = True\n",
    "# # FLAGS.fpn_filters = 128\n",
    "# mn = 'sm.FPN.EfficientNetB6.augl3.200epoch'\n",
    "# FLAGS.pretrain = f'/home/featurize/work/naicseg/v9/{mn}'\n",
    "\n",
    "print(FLAGS.pretrain)"
   ]
  },
  {
   "cell_type": "code",
   "execution_count": 7,
   "metadata": {},
   "outputs": [
    {
     "name": "stderr",
     "output_type": "stream",
     "text": [
      "2020-11-17 16:54:25 0:00:00 fcntl.floc with lock_file /home/featurize/.melt.lock (If hang here means other programs calling melt.init have not finished yet)\n",
      "2020-11-17 16:54:25 0:00:00 Tf dataset and Tf model train in Eager mode, keras True, distributed:False\n",
      "2020-11-17 16:54:25 0:00:00 log_level: 20 (try --debug to show more or --log_level=(> 20) to show less(no INFO), try --verbose to show train/valid loss intervaly)\n",
      "2020-11-17 16:54:25 0:00:00 batch_size: 32 eval_batch_size: 32 batch_size_per_gpu: 32 num_gpus: 1 gpu: [0] CUDA_VISIABLE_DEVICES=[] work_mode: valid distributed: False horovod: False\n",
      "2020-11-17 16:54:26 0:00:00 model: [sm.Unet.EfficientNetB4.augl4.size288.mrate1.200epoch.1115.swa10_aav] model_dir: [../working/v9/sm.Unet.EfficientNetB4.augl4.size288.mrate1.200epoch.1115.swa10_aav]\n",
      "2020-11-17 16:54:26 0:00:00 ori_image_size: [256, 256] image_size: [288, 288]\n"
     ]
    },
    {
     "name": "stdout",
     "output_type": "stream",
     "text": [
      "Segmentation Models: using `tf.keras` framework.\n",
      "Segmentation Models: using `tf.keras` framework.\n"
     ]
    },
    {
     "name": "stderr",
     "output_type": "stream",
     "text": [
      "2020-11-17 16:54:30 0:00:04 model: <tensorflow.python.keras.engine.functional.Functional object at 0x7ff70075cfd0> backbone: EfficientNetB4\n",
      "2020-11-17 16:54:30 0:00:04 using preprocess of sm for EfficientNetB4 efficientnetb4\n",
      "2020-11-17 16:54:30 0:00:04 preprocess: <function preprocess_input at 0x7ff7006a2320>\n",
      "2020-11-17 16:54:30 0:00:04 use_tta: False tta: ['flip_left_right', 'flip_up_down'] []\n"
     ]
    }
   ],
   "source": [
    "config.init()\n",
    "mt.init()\n",
    "strategy = mt.distributed.get_strategy()\n",
    "with strategy.scope():\n",
    "  model = get_model(FLAGS.model)"
   ]
  },
  {
   "cell_type": "code",
   "execution_count": 8,
   "metadata": {},
   "outputs": [
    {
     "name": "stderr",
     "output_type": "stream",
     "text": [
      "2020-11-17 16:54:30 0:00:04 Round: 0 mode: valid train_input:[None] valid_input:[*] train_dirs:[0] valid_dir: /home/featurize/data/quarter/tfrecords/train/*/* do_valid: True do_test: False\n"
     ]
    },
    {
     "data": {
      "application/vnd.jupyter.widget-view+json": {
       "model_id": "",
       "version_major": 2,
       "version_minor": 0
      },
      "text/plain": [
       "HBox(children=(HTML(value='get_num_records'), FloatProgress(value=0.0, max=27.0), HTML(value='')))"
      ]
     },
     "metadata": {},
     "output_type": "display_data"
    },
    {
     "data": {
      "application/vnd.jupyter.widget-view+json": {
       "model_id": "",
       "version_major": 2,
       "version_minor": 0
      },
      "text/plain": [
       "HBox(children=(HTML(value='get_num_records'), FloatProgress(value=0.0, max=3.0), HTML(value='')))"
      ]
     },
     "metadata": {},
     "output_type": "display_data"
    },
    {
     "name": "stderr",
     "output_type": "stream",
     "text": [
      "2020-11-17 16:54:34 0:00:08 num_train_examples: 90000 num_steps_per_epoch: 2813\n",
      "2020-11-17 16:54:34 0:00:08 num_valid_examples: 100 num_valid_steps_per_epoch: 4\n",
      "2020-11-17 16:54:34 0:00:08 round: 0 loss_fn: <function Model.loss_wrapper.<locals>.loss_fn at 0x7ff7006a2b00>\n",
      "2020-11-17 16:54:34 0:00:08 optimizer: <husky.optimization.AdamWeightDecay object at 0x7ff88835b650> lr: <husky.optimization.WarmUp object at 0x7ff700287090> init_lr: 0.001\n",
      "2020-11-17 16:54:34 0:00:08 total_steps: 562600 warmup_steps: 56260 end_lr: 1e-05\n",
      "2020-11-17 16:54:35 0:00:09 load_weights: [/home/featurize/work/naicseg/v9/sm.Unet.EfficientNetB4.augl4.size288.mrate1.200epoch.1115.swa10_aav/model.h5]\n"
     ]
    },
    {
     "name": "stdout",
     "output_type": "stream",
     "text": [
      "Model: \"model\"\n",
      "_________________________________________________________________\n",
      "Layer (type)                 Output Shape              Param #   \n",
      "=================================================================\n",
      "sm-unet-efficientnetb4 (Func [(None, 288, 288, 15), (N 23092895  \n",
      "_________________________________________________________________\n",
      "global_average_pooling2d (Gl multiple                  0         \n",
      "_________________________________________________________________\n",
      "dense (Dense)                multiple                  26895     \n",
      "_________________________________________________________________\n",
      "efficientnet-b4 (Functional) (None, 9, 9, 1792)        17673816  \n",
      "_________________________________________________________________\n",
      "sm-unet-efficientnetb4_notop (None, 288, 288, 8)       23091800  \n",
      "=================================================================\n",
      "Total params: 23,119,790\n",
      "Trainable params: 22,993,598\n",
      "Non-trainable params: 126,192\n",
      "_________________________________________________________________\n",
      "4/4 [==============================] - 1s 139ms/step - loss: 0.5964 - FWIoU: 0.8086 - MIoU: 0.8194 - ACC/pixel: 0.8926 - ACC/class: 0.8379\n"
     ]
    },
    {
     "name": "stderr",
     "output_type": "stream",
     "text": [
      "2020-11-17 16:55:18 0:00:52 water                |true:0.0290 pred:0.0270 acc:0.9365 recall:0.8713 iou:0.8226 fwiou:0.9229|\n",
      "2020-11-17 16:55:18 0:00:52 track_road           |true:0.0760 pred:0.0736 acc:0.9146 recall:0.8852 iou:0.8176 fwiou:0.7920|\n",
      "2020-11-17 16:55:18 0:00:52 build                |true:0.1271 pred:0.1298 acc:0.9259 recall:0.9453 iou:0.8788 fwiou:0.7689|\n",
      "2020-11-17 16:55:18 0:00:52 track_airport        |true:0.0000 pred:0.0000 acc:nan recall:nan iou:nan fwiou:nan|\n",
      "2020-11-17 16:55:18 0:00:52 other_park           |true:0.0809 pred:0.0809 acc:0.9434 recall:0.9438 iou:0.8932 fwiou:0.8704|\n",
      "2020-11-17 16:55:18 0:00:52 other_playground     |true:0.0090 pred:0.0093 acc:0.9585 recall:0.9884 iou:0.9478 fwiou:0.9929|\n",
      "2020-11-17 16:55:18 0:00:52 arable_natural       |true:0.2111 pred:0.2161 acc:0.9078 recall:0.9292 iou:0.8490 fwiou:0.5221|\n",
      "2020-11-17 16:55:18 0:00:52 arable_greenhouse    |true:0.0143 pred:0.0148 acc:0.8845 recall:0.9184 iou:0.8201 fwiou:0.9615|\n",
      "2020-11-17 16:55:18 0:00:52 grass_natural        |true:0.1362 pred:0.1368 acc:0.8388 recall:0.8420 iou:0.7247 fwiou:0.4376|\n",
      "2020-11-17 16:55:18 0:00:52 grass_greenbelt      |true:0.0231 pred:0.0227 acc:0.9304 recall:0.9138 iou:0.8553 fwiou:0.9499|\n",
      "2020-11-17 16:55:18 0:00:52 forest_natural       |true:0.1287 pred:0.1266 acc:0.8659 recall:0.8521 iou:0.7528 fwiou:0.5229|\n",
      "2020-11-17 16:55:18 0:00:52 forest_planted       |true:0.0739 pred:0.0726 acc:0.8049 recall:0.7913 iou:0.6639 fwiou:0.6277|\n",
      "2020-11-17 16:55:18 0:00:52 bare_natural         |true:0.0481 pred:0.0472 acc:0.9471 recall:0.9289 iou:0.8831 fwiou:0.9156|\n",
      "2020-11-17 16:55:18 0:00:52 bare_planted         |true:0.0107 pred:0.0109 acc:0.8988 recall:0.9140 iou:0.8287 fwiou:0.9724|\n",
      "2020-11-17 16:55:18 0:00:52 other_other          |true:0.0319 pred:0.0318 acc:0.8476 recall:0.8446 iou:0.7333 fwiou:0.8723|\n",
      "2020-11-17 16:55:18 0:00:52 eval_step: 1 step: 0 epoch: 0.00\n",
      "2020-11-17 16:55:18 0:00:52 [sm.Unet.EfficientNetB4.augl4.size288.mrate1.200epoch.1115.swa10_aav] valid_metrics:\n",
      " +--------+---------+--------+-------------+-------------+\n",
      "|   Loss |   FWIoU |   MIoU |   ACC/pixel |   ACC/class |\n",
      "|--------+---------+--------+-------------+-------------|\n",
      "| 0.5964 |  0.8086 | 0.8194 |      0.8926 |      0.8379 |\n",
      "+--------+---------+--------+-------------+-------------+\n",
      "2020-11-17 16:55:18 0:00:53 ALL DONE! You may check log file: [tail ../working/v9/sm.Unet.EfficientNetB4.augl4.size288.mrate1.200epoch.1115.swa10_aav/log.html*]\n"
     ]
    }
   ],
   "source": [
    "FLAGS.custom_eval = False\n",
    "FLAGS.tta = False\n",
    "FLAGS.num_valid = 100\n",
    "fit()\n",
    "mt.save_model(model, f'{FLAGS.model_dir}/model.h5')"
   ]
  },
  {
   "cell_type": "code",
   "execution_count": 9,
   "metadata": {},
   "outputs": [
    {
     "name": "stderr",
     "output_type": "stream",
     "text": [
      "2020-11-17 16:55:20 0:00:54 Round: 1 mode: valid train_input:[None] valid_input:[*] train_dirs:[0] valid_dir: /home/featurize/data/quarter/tfrecords/train/*/* do_valid: True do_test: False\n"
     ]
    },
    {
     "data": {
      "application/vnd.jupyter.widget-view+json": {
       "model_id": "",
       "version_major": 2,
       "version_minor": 0
      },
      "text/plain": [
       "HBox(children=(HTML(value='get_num_records'), FloatProgress(value=0.0, max=27.0), HTML(value='')))"
      ]
     },
     "metadata": {},
     "output_type": "display_data"
    },
    {
     "data": {
      "application/vnd.jupyter.widget-view+json": {
       "model_id": "",
       "version_major": 2,
       "version_minor": 0
      },
      "text/plain": [
       "HBox(children=(HTML(value='get_num_records'), FloatProgress(value=0.0, max=3.0), HTML(value='')))"
      ]
     },
     "metadata": {},
     "output_type": "display_data"
    },
    {
     "name": "stderr",
     "output_type": "stream",
     "text": [
      "2020-11-17 16:55:20 0:00:55 num_train_examples: 90000 num_steps_per_epoch: 2813\n",
      "2020-11-17 16:55:20 0:00:55 num_valid_examples: 100 num_valid_steps_per_epoch: 4\n",
      "2020-11-17 16:55:20 0:00:55 round: 1 loss_fn: <function Model.loss_wrapper.<locals>.loss_fn at 0x7ff8883453b0>\n",
      "2020-11-17 16:55:20 0:00:55 optimizer: <husky.optimization.AdamWeightDecay object at 0x7ff88835b650> lr: 0.001 init_lr: 0.001\n",
      "2020-11-17 16:55:20 0:00:55 total_steps: 562600 warmup_steps: 56260 end_lr: 1e-05\n"
     ]
    },
    {
     "name": "stdout",
     "output_type": "stream",
     "text": [
      "Model: \"model\"\n",
      "_________________________________________________________________\n",
      "Layer (type)                 Output Shape              Param #   \n",
      "=================================================================\n",
      "sm-unet-efficientnetb4 (Func [(None, 288, 288, 15), (N 23092895  \n",
      "_________________________________________________________________\n",
      "global_average_pooling2d (Gl (None, 1792)              0         \n",
      "_________________________________________________________________\n",
      "dense (Dense)                (None, 15)                26895     \n",
      "_________________________________________________________________\n",
      "efficientnet-b4 (Functional) (None, 9, 9, 1792)        17673816  \n",
      "_________________________________________________________________\n",
      "sm-unet-efficientnetb4_notop (None, 288, 288, 8)       23091800  \n",
      "=================================================================\n",
      "Total params: 23,119,790\n",
      "Trainable params: 22,993,598\n",
      "Non-trainable params: 126,192\n",
      "_________________________________________________________________\n",
      "4/4 [==============================] - 1s 138ms/step - loss: 0.5958 - FWIoU: 0.8090 - MIoU: 0.8186 - ACC/pixel: 0.8929 - ACC/class: 0.8388\n"
     ]
    },
    {
     "name": "stderr",
     "output_type": "stream",
     "text": [
      "2020-11-17 16:55:21 0:00:56 water                |true:0.0290 pred:0.0277 acc:0.9171 recall:0.8758 iou:0.8115 fwiou:0.9181|\n",
      "2020-11-17 16:55:21 0:00:56 track_road           |true:0.0760 pred:0.0734 acc:0.9162 recall:0.8849 iou:0.8186 fwiou:0.7931|\n",
      "2020-11-17 16:55:21 0:00:56 build                |true:0.1271 pred:0.1297 acc:0.9274 recall:0.9460 iou:0.8807 fwiou:0.7726|\n",
      "2020-11-17 16:55:21 0:00:56 track_airport        |true:0.0000 pred:0.0000 acc:nan recall:nan iou:nan fwiou:nan|\n",
      "2020-11-17 16:55:21 0:00:56 other_park           |true:0.0809 pred:0.0806 acc:0.9447 recall:0.9417 iou:0.8925 fwiou:0.8696|\n",
      "2020-11-17 16:55:21 0:00:56 other_playground     |true:0.0090 pred:0.0094 acc:0.9507 recall:0.9889 iou:0.9407 fwiou:0.9919|\n",
      "2020-11-17 16:55:21 0:00:56 arable_natural       |true:0.2111 pred:0.2157 acc:0.9079 recall:0.9278 iou:0.8480 fwiou:0.5187|\n",
      "2020-11-17 16:55:21 0:00:56 arable_greenhouse    |true:0.0143 pred:0.0148 acc:0.8859 recall:0.9164 iou:0.8197 fwiou:0.9614|\n",
      "2020-11-17 16:55:21 0:00:56 grass_natural        |true:0.1362 pred:0.1363 acc:0.8406 recall:0.8410 iou:0.7253 fwiou:0.4387|\n",
      "2020-11-17 16:55:21 0:00:56 grass_greenbelt      |true:0.0231 pred:0.0230 acc:0.9202 recall:0.9175 iou:0.8499 fwiou:0.9480|\n",
      "2020-11-17 16:55:21 0:00:56 forest_natural       |true:0.1287 pred:0.1256 acc:0.8711 recall:0.8505 iou:0.7554 fwiou:0.5280|\n",
      "2020-11-17 16:55:21 0:00:56 forest_planted       |true:0.0739 pred:0.0735 acc:0.8019 recall:0.7979 iou:0.6666 fwiou:0.6306|\n",
      "2020-11-17 16:55:21 0:00:56 bare_natural         |true:0.0481 pred:0.0475 acc:0.9480 recall:0.9351 iou:0.8894 fwiou:0.9202|\n",
      "2020-11-17 16:55:21 0:00:56 bare_planted         |true:0.0107 pred:0.0109 acc:0.8996 recall:0.9133 iou:0.8288 fwiou:0.9724|\n",
      "2020-11-17 16:55:21 0:00:56 other_other          |true:0.0319 pred:0.0319 acc:0.8461 recall:0.8458 iou:0.7330 fwiou:0.8722|\n",
      "2020-11-17 16:55:21 0:00:56 eval_step: 2 step: 0 epoch: 0.00\n",
      "2020-11-17 16:55:21 0:00:56 [sm.Unet.EfficientNetB4.augl4.size288.mrate1.200epoch.1115.swa10_aav] valid_metrics:\n",
      " +--------+---------+--------+-------------+-------------+\n",
      "|   Loss |   FWIoU |   MIoU |   ACC/pixel |   ACC/class |\n",
      "|--------+---------+--------+-------------+-------------|\n",
      "| 0.5958 |   0.809 | 0.8186 |      0.8929 |      0.8388 |\n",
      "+--------+---------+--------+-------------+-------------+\n",
      "2020-11-17 16:55:22 0:00:56 ALL DONE! You may check log file: [tail ../working/v9/sm.Unet.EfficientNetB4.augl4.size288.mrate1.200epoch.1115.swa10_aav/log.html*]\n"
     ]
    }
   ],
   "source": [
    "FLAGS.custom_eval = False\n",
    "FLAGS.tta = True\n",
    "FLAGS.tta_fns = ['flip_left_right']\n",
    "FLAGS.tta_use_original = False\n",
    "FLAGS.num_valid = 100\n",
    "fit()\n",
    "mt.save_model(model, f'{FLAGS.model_dir}/model_lr.h5')"
   ]
  },
  {
   "cell_type": "code",
   "execution_count": 10,
   "metadata": {},
   "outputs": [
    {
     "name": "stderr",
     "output_type": "stream",
     "text": [
      "2020-11-17 16:55:23 0:00:57 Round: 2 mode: valid train_input:[None] valid_input:[*] train_dirs:[0] valid_dir: /home/featurize/data/quarter/tfrecords/train/*/* do_valid: True do_test: False\n"
     ]
    },
    {
     "data": {
      "application/vnd.jupyter.widget-view+json": {
       "model_id": "",
       "version_major": 2,
       "version_minor": 0
      },
      "text/plain": [
       "HBox(children=(HTML(value='get_num_records'), FloatProgress(value=0.0, max=27.0), HTML(value='')))"
      ]
     },
     "metadata": {},
     "output_type": "display_data"
    },
    {
     "data": {
      "application/vnd.jupyter.widget-view+json": {
       "model_id": "",
       "version_major": 2,
       "version_minor": 0
      },
      "text/plain": [
       "HBox(children=(HTML(value='get_num_records'), FloatProgress(value=0.0, max=3.0), HTML(value='')))"
      ]
     },
     "metadata": {},
     "output_type": "display_data"
    },
    {
     "name": "stderr",
     "output_type": "stream",
     "text": [
      "2020-11-17 16:55:24 0:00:58 num_train_examples: 90000 num_steps_per_epoch: 2813\n",
      "2020-11-17 16:55:24 0:00:58 num_valid_examples: 100 num_valid_steps_per_epoch: 4\n",
      "2020-11-17 16:55:24 0:00:58 round: 2 loss_fn: <function Model.loss_wrapper.<locals>.loss_fn at 0x7ff7002fbef0>\n",
      "2020-11-17 16:55:24 0:00:58 optimizer: <husky.optimization.AdamWeightDecay object at 0x7ff88835b650> lr: 0.001 init_lr: 0.001\n",
      "2020-11-17 16:55:24 0:00:58 total_steps: 562600 warmup_steps: 56260 end_lr: 1e-05\n"
     ]
    },
    {
     "name": "stdout",
     "output_type": "stream",
     "text": [
      "Model: \"model\"\n",
      "_________________________________________________________________\n",
      "Layer (type)                 Output Shape              Param #   \n",
      "=================================================================\n",
      "sm-unet-efficientnetb4 (Func [(None, 288, 288, 15), (N 23092895  \n",
      "_________________________________________________________________\n",
      "global_average_pooling2d (Gl (None, 1792)              0         \n",
      "_________________________________________________________________\n",
      "dense (Dense)                (None, 15)                26895     \n",
      "_________________________________________________________________\n",
      "efficientnet-b4 (Functional) (None, 9, 9, 1792)        17673816  \n",
      "_________________________________________________________________\n",
      "sm-unet-efficientnetb4_notop (None, 288, 288, 8)       23091800  \n",
      "=================================================================\n",
      "Total params: 23,119,790\n",
      "Trainable params: 22,993,598\n",
      "Non-trainable params: 126,192\n",
      "_________________________________________________________________\n",
      "4/4 [==============================] - 1s 127ms/step - loss: 0.5966 - FWIoU: 0.8066 - MIoU: 0.8158 - ACC/pixel: 0.8912 - ACC/class: 0.8361\n"
     ]
    },
    {
     "name": "stderr",
     "output_type": "stream",
     "text": [
      "2020-11-17 16:55:25 0:00:59 water                |true:0.0290 pred:0.0273 acc:0.9260 recall:0.8710 iou:0.8143 fwiou:0.9193|\n",
      "2020-11-17 16:55:25 0:00:59 track_road           |true:0.0760 pred:0.0736 acc:0.9129 recall:0.8842 iou:0.8155 fwiou:0.7895|\n",
      "2020-11-17 16:55:25 0:00:59 build                |true:0.1271 pred:0.1298 acc:0.9250 recall:0.9447 iou:0.8775 fwiou:0.7665|\n",
      "2020-11-17 16:55:25 0:00:59 track_airport        |true:0.0000 pred:0.0000 acc:nan recall:nan iou:nan fwiou:nan|\n",
      "2020-11-17 16:55:25 0:00:59 other_park           |true:0.0809 pred:0.0808 acc:0.9426 recall:0.9414 iou:0.8903 fwiou:0.8669|\n",
      "2020-11-17 16:55:25 0:00:59 other_playground     |true:0.0090 pred:0.0093 acc:0.9584 recall:0.9841 iou:0.9437 fwiou:0.9924|\n",
      "2020-11-17 16:55:25 0:00:59 arable_natural       |true:0.2111 pred:0.2140 acc:0.9105 recall:0.9232 iou:0.8464 fwiou:0.5137|\n",
      "2020-11-17 16:55:25 0:00:59 arable_greenhouse    |true:0.0143 pred:0.0148 acc:0.8861 recall:0.9180 iou:0.8211 fwiou:0.9617|\n",
      "2020-11-17 16:55:25 0:00:59 grass_natural        |true:0.1362 pred:0.1375 acc:0.8364 recall:0.8443 iou:0.7246 fwiou:0.4372|\n",
      "2020-11-17 16:55:25 0:00:59 grass_greenbelt      |true:0.0231 pred:0.0228 acc:0.9264 recall:0.9149 iou:0.8529 fwiou:0.9491|\n",
      "2020-11-17 16:55:25 0:00:59 forest_natural       |true:0.1287 pred:0.1258 acc:0.8692 recall:0.8496 iou:0.7533 fwiou:0.5239|\n",
      "2020-11-17 16:55:25 0:00:59 forest_planted       |true:0.0739 pred:0.0741 acc:0.7918 recall:0.7942 iou:0.6570 fwiou:0.6200|\n",
      "2020-11-17 16:55:25 0:00:59 bare_natural         |true:0.0481 pred:0.0472 acc:0.9512 recall:0.9327 iou:0.8901 fwiou:0.9207|\n",
      "2020-11-17 16:55:25 0:00:59 bare_planted         |true:0.0107 pred:0.0107 acc:0.8937 recall:0.8910 iou:0.8056 fwiou:0.9687|\n",
      "2020-11-17 16:55:25 0:00:59 other_other          |true:0.0319 pred:0.0323 acc:0.8372 recall:0.8485 iou:0.7283 fwiou:0.8700|\n",
      "2020-11-17 16:55:25 0:00:59 eval_step: 3 step: 0 epoch: 0.00\n",
      "2020-11-17 16:55:25 0:00:59 [sm.Unet.EfficientNetB4.augl4.size288.mrate1.200epoch.1115.swa10_aav] valid_metrics:\n",
      " +--------+---------+--------+-------------+-------------+\n",
      "|   Loss |   FWIoU |   MIoU |   ACC/pixel |   ACC/class |\n",
      "|--------+---------+--------+-------------+-------------|\n",
      "| 0.5966 |  0.8066 | 0.8158 |      0.8912 |      0.8361 |\n",
      "+--------+---------+--------+-------------+-------------+\n",
      "2020-11-17 16:55:25 0:00:59 ALL DONE! You may check log file: [tail ../working/v9/sm.Unet.EfficientNetB4.augl4.size288.mrate1.200epoch.1115.swa10_aav/log.html*]\n"
     ]
    }
   ],
   "source": [
    "FLAGS.custom_eval = False\n",
    "FLAGS.tta = True\n",
    "FLAGS.tta_fns = ['flip_up_down']\n",
    "FLAGS.tta_use_original = False\n",
    "FLAGS.num_valid = 100\n",
    "fit()\n",
    "mt.save_model(model, f'{FLAGS.model_dir}/model_ud.h5')"
   ]
  },
  {
   "cell_type": "code",
   "execution_count": 13,
   "metadata": {},
   "outputs": [],
   "source": [
    "# FLAGS.custom_eval = False\n",
    "# FLAGS.tta = True\n",
    "# FLAGS.tta_fns = ['flip_left_right']\n",
    "# FLAGS.tta_use_original = True\n",
    "# fit()\n",
    "# mt.save_model(model, f'{FLAGS.model_dir}/model_tta_lr.h5')"
   ]
  },
  {
   "cell_type": "code",
   "execution_count": 12,
   "metadata": {},
   "outputs": [],
   "source": [
    "# FLAGS.custom_eval = False\n",
    "# FLAGS.tta = True\n",
    "# FLAGS.tta_fns = ['flip_up_down']\n",
    "# FLAGS.tta_use_original = True\n",
    "# fit()\n",
    "# mt.save_model(model, f'{FLAGS.model_dir}/model_tta_ud.h5')"
   ]
  },
  {
   "cell_type": "code",
   "execution_count": 11,
   "metadata": {},
   "outputs": [],
   "source": [
    "# FLAGS.custom_eval = False\n",
    "# FLAGS.tta = True\n",
    "# FLAGS.tta_fns = ['flip_left_right', 'flip_up_down']\n",
    "# FLAGS.tta_use_original = True\n",
    "# fit()\n",
    "# mt.save_model(model, f'{FLAGS.model_dir}/model_tta.h5')"
   ]
  },
  {
   "cell_type": "code",
   "execution_count": 11,
   "metadata": {},
   "outputs": [],
   "source": [
    "def _predict(model, imgs, tta=False):\n",
    "  if not tta:\n",
    "    pred = model.predict(imgs)\n",
    "  else:\n",
    "    imgs_list = [imgs, tf.image.flip_left_right(imgs), tf.image.flip_up_down(imgs)]\n",
    "    imgs = tf.concat(imgs_list, axis=0)\n",
    "    res = np.split(model.predict(imgs), len(imgs_list))\n",
    "    res[1] = tf.image.flip_left_right(res[1]).numpy()\n",
    "    res[2] = tf.image.flip_up_down(res[2]).numpy()\n",
    "    # pred = np.mean(res, axis=0)\n",
    "    pred = (res[0] + res[1] + res[2]) / 3.\n",
    "  return pred\n",
    "    \n",
    "def predicts(model, indir='../input/eval.naic/image', odir='../input/out', batch_size=4, tta=False, num_imgs=0):\n",
    "  gezi.try_mkdir(odir)\n",
    "  os.system(f'rm -rf {odir}/*')\n",
    "  img_paths = glob.glob(f'{indir}/*')\n",
    "  num_imgs = num_imgs or len(img_paths)\n",
    "  for i in tqdm(range(0, num_imgs, batch_size), desc='predict', ascii=True, leave=True):\n",
    "    begin = i\n",
    "    end = min(i + batch_size, num_imgs)\n",
    "    imgs = np.asarray([gezi.imread(img_path) for img_path in img_paths[begin:end]])\n",
    "    logits = _predict(model, imgs, tta)\n",
    "    preds = logits.argmax(-1)\n",
    "    for img_path, pred in zip(img_paths[begin:end], preds):\n",
    "      index = os.path.basename(img_path).split('.')[0]\n",
    "      cv2.imwrite(os.path.join(odir, f'{index}.png'), pred)\n",
    "      \n",
    "CLASSES = ['water', 'track_road', 'build', 'track_airport', 'other_park', 'other_playground', 'arable_natural', 'arable_greenhouse',\n",
    "           'grass_natural', 'grass_greenbelt', 'forest_natural', 'forest_planted', 'bare_natural', 'bare_planted', 'other_other']\n",
    "NUM_CLASSES = len(CLASSES)\n",
    "def predicts_eval(model, indir='../input/eval.naic/image', odir='../input/out', batch_size=4, tta=False, num_imgs=0):\n",
    "  m = {}\n",
    "  for i in range(17):\n",
    "    if i < 4:\n",
    "      m[i + 1] = i\n",
    "    else:\n",
    "      m[i + 1] = i - 2\n",
    "\n",
    "  gezi.try_mkdir(odir)\n",
    "  os.system(f'rm -rf {odir}/*')\n",
    "  img_paths = glob.glob(f'{indir}/*')\n",
    "  label_dir = indir.replace('image', 'label')\n",
    "  num_imgs = num_imgs or len(img_paths)\n",
    "  evaluator = Evaluator(CLASSES)\n",
    "  key_metric = 'FWIoU'\n",
    "  class_mious = 0.\n",
    "  t = tqdm(range(0, num_imgs, batch_size), desc='predict', ascii=True, leave=True)\n",
    "  for i in t:\n",
    "    begin = i\n",
    "    end = min(i + batch_size, num_imgs)\n",
    "    imgs = np.asarray([gezi.imread(img_path) for img_path in img_paths[begin:end]])\n",
    "    logits = _predict(model, imgs, tta)\n",
    "    preds = logits.argmax(-1)\n",
    "    for img_path, pred in zip(img_paths[begin:end], preds):\n",
    "      index = os.path.basename(img_path).split('.')[0]\n",
    "      cv2.imwrite(os.path.join(odir, f'{index}.png'), pred)\n",
    "      \n",
    "      label_file = f'{label_dir}/{index}.png'\n",
    "      label = cv2.imread(label_file, cv2.IMREAD_UNCHANGED).astype(np.uint8)\n",
    "      f = np.vectorize(lambda x: m[x])\n",
    "      label = f(label).astype(np.uint8)\n",
    "      evaluator.eval_each(label[np.newaxis,:, :], pred[np.newaxis,:, :], metric=key_metric)\n",
    "      binary_label = np.bincount(label.reshape(-1), minlength=NUM_CLASSES).astype(np.bool)\n",
    "      binary_pred = np.bincount(pred.reshape(-1), minlength=NUM_CLASSES).astype(np.bool)\n",
    "      intersections = binary_label * binary_pred\n",
    "      intersection = np.sum(intersections, axis=-1)\n",
    "      union = np.sum(binary_label, axis=-1) + np.sum(binary_pred, axis=-1) - intersection\n",
    "      class_miou = np.mean(intersection / union)\n",
    "      class_mious += class_miou\n",
    "      t.set_postfix({key_metric: evaluator.eval_once(key_metric), 'IMAGE/CLASS/MIoU': class_mious / (i + 1)})\n",
    "\n",
    "  res = evaluator.eval_once()\n",
    "  res['IMAGE/CLASS/MIoU'] = class_mious / i\n",
    "  gezi.set('evaluator', evaluator)\n",
    "  return res"
   ]
  },
  {
   "cell_type": "code",
   "execution_count": 12,
   "metadata": {},
   "outputs": [
    {
     "data": {
      "application/vnd.jupyter.widget-view+json": {
       "model_id": "",
       "version_major": 2,
       "version_minor": 0
      },
      "text/plain": [
       "HBox(children=(HTML(value='get_num_records'), FloatProgress(value=0.0, max=1.0), HTML(value='')))"
      ]
     },
     "metadata": {},
     "output_type": "display_data"
    }
   ],
   "source": [
    "mt.init_flags()\n",
    "FLAGS = mt.get_flags()\n",
    "FLAGS.batch_parse = False\n",
    "batch_size = 32\n",
    "mt.set_global('batch_size', batch_size) # loss fn used / mt.batch_size()\n",
    "# eval_files = gezi.list_files('../input/quarter/tfrecords/train/1/*')\n",
    "eval_files = gezi.list_files('../input/quarter/tfrecords/train/1/21.*')\n",
    "eval_dataset = Dataset('valid').make_batch(batch_size, eval_files)\n",
    "steps = -(-mt.get_num_records(eval_files) // batch_size)\n",
    "FLAGS.NUM_CLASSES = NUM_CLASSES"
   ]
  },
  {
   "cell_type": "code",
   "execution_count": 13,
   "metadata": {},
   "outputs": [],
   "source": [
    "def eval(model):\n",
    "  loss_fn = tf.keras.losses.SparseCategoricalCrossentropy(from_logits=True)\n",
    "  metrics = get_metrics()\n",
    "  model.compile('sgd', loss_fn, metrics=metrics)\n",
    "  res = model.evaluate(eval_dataset, steps=steps, return_dict=True)\n",
    "  gezi.pprint_dict(res)\n",
    "  cm = mt.distributed.sum_merge(metrics[0].get_cm())\n",
    "  infos = util.get_infos_from_cm(cm, CLASSES)\n",
    "  res.update(infos)\n",
    "  return res"
   ]
  },
  {
   "cell_type": "code",
   "execution_count": 14,
   "metadata": {},
   "outputs": [
    {
     "data": {
      "application/vnd.jupyter.widget-view+json": {
       "model_id": "fca423732357428f91b6b5467b5b475b",
       "version_major": 2,
       "version_minor": 0
      },
      "text/plain": [
       "HBox(children=(HTML(value=''), FloatProgress(value=0.0, max=3.0), HTML(value='')))"
      ]
     },
     "metadata": {},
     "output_type": "display_data"
    },
    {
     "name": "stdout",
     "output_type": "stream",
     "text": [
      "\n",
      "104/105 [============================>.] - 62s 596ms/step - loss: 0.4045 - FWIoU: 0.7829 - MIoU: 0.7183 - ACC/pixel: 0.8761 - ACC/class: 0.8017\n",
      "\n",
      " +---------+----------+----------+-------------+-------------+\n",
      "|    loss |    FWIoU |     MIoU |   ACC/pixel |   ACC/class |\n",
      "|---------+----------+----------+-------------+-------------|\n",
      "| 0.40452 | 0.782869 | 0.718277 |    0.876074 |    0.801702 |\n",
      "+---------+----------+----------+-------------+-------------+\n",
      "water                |true:0.0257 pred:0.0252 acc:0.8930 recall:0.8748 iou:0.7919 fwiou:0.9198|\n",
      "track_road           |true:0.0776 pred:0.0764 acc:0.9019 recall:0.8884 iou:0.8102 fwiou:0.7790|\n",
      "build                |true:0.1217 pred:0.1252 acc:0.9180 recall:0.9440 iou:0.8706 fwiou:0.7637|\n",
      "track_airport        |true:0.0002 pred:0.0000 acc:nan recall:0.0000 iou:0.0000 fwiou:0.9973|\n",
      "other_park           |true:0.0654 pred:0.0653 acc:0.9315 recall:0.9300 iou:0.8705 fwiou:0.8730|\n",
      "other_playground     |true:0.0036 pred:0.0032 acc:0.9621 recall:0.8528 iou:0.8251 fwiou:0.9906|\n",
      "arable_natural       |true:0.2232 pred:0.2291 acc:0.9084 recall:0.9324 iou:0.8523 fwiou:0.5055|\n",
      "arable_greenhouse    |true:0.0121 pred:0.0123 acc:0.8826 recall:0.8964 iou:0.8009 fwiou:0.9638|\n",
      "grass_natural        |true:0.1275 pred:0.1230 acc:0.8090 recall:0.7804 iou:0.6590 fwiou:0.3476|\n",
      "grass_greenbelt      |true:0.0270 pred:0.0271 acc:0.8750 recall:0.8812 iou:0.7826 fwiou:0.9121|\n",
      "forest_natural       |true:0.1575 pred:0.1604 acc:0.8498 recall:0.8654 iou:0.7506 fwiou:0.4109|\n",
      "forest_planted       |true:0.0714 pred:0.0687 acc:0.7943 recall:0.7642 iou:0.6380 fwiou:0.6120|\n",
      "bare_natural         |true:0.0538 pred:0.0530 acc:0.9118 recall:0.8978 iou:0.8261 fwiou:0.8596|\n",
      "bare_planted         |true:0.0112 pred:0.0107 acc:0.8755 recall:0.8354 iou:0.7466 fwiou:0.9575|\n",
      "other_other          |true:0.0221 pred:0.0204 acc:0.7393 recall:0.6822 iou:0.5499 fwiou:0.8506|\n"
     ]
    }
   ],
   "source": [
    "model_paths = [\n",
    "  '../working/v9/sm.Unet.EfficientNetB4.augl4.size288.mrate1.200epoch.1115.swa10_asv/model.h5',\n",
    "  '../working/v9/sm.FPN.EfficientNetB4.augl4.size256.mrate1.200epoch.1115.swa10_asv/model.h5',\n",
    "  '../working/v9/bread.DeeplabV3Plus.EfficientNetB6.augl4.size256.mrate1.200epoch.1115.swa10_asv/model.h5'\n",
    "]\n",
    "models = []\n",
    "for model_path in tqdm(model_paths):\n",
    "  model = mt.load_model(model_path)\n",
    "  models.append(model)\n",
    "model = mt.EnsembleModel(models).get_model()\n",
    "# model.summary()\n",
    "res = eval(model)"
   ]
  },
  {
   "cell_type": "code",
   "execution_count": 15,
   "metadata": {},
   "outputs": [
    {
     "data": {
      "application/vnd.jupyter.widget-view+json": {
       "model_id": "05a02ab6ca9045d38682a41bc0f8d7e0",
       "version_major": 2,
       "version_minor": 0
      },
      "text/plain": [
       "HBox(children=(HTML(value=''), FloatProgress(value=0.0, max=3.0), HTML(value='')))"
      ]
     },
     "metadata": {},
     "output_type": "display_data"
    },
    {
     "name": "stdout",
     "output_type": "stream",
     "text": [
      "\n",
      "104/105 [============================>.] - 62s 597ms/step - loss: 0.4042 - FWIoU: 0.7828 - MIoU: 0.7185 - ACC/pixel: 0.8760 - ACC/class: 0.8018\n",
      "\n",
      " +----------+----------+----------+-------------+-------------+\n",
      "|     loss |    FWIoU |     MIoU |   ACC/pixel |   ACC/class |\n",
      "|----------+----------+----------+-------------+-------------|\n",
      "| 0.404174 | 0.782847 | 0.718485 |    0.876039 |    0.801849 |\n",
      "+----------+----------+----------+-------------+-------------+\n",
      "water                |true:0.0257 pred:0.0252 acc:0.8933 recall:0.8752 iou:0.7923 fwiou:0.9200|\n",
      "track_road           |true:0.0776 pred:0.0764 acc:0.9019 recall:0.8876 iou:0.8094 fwiou:0.7781|\n",
      "build                |true:0.1217 pred:0.1252 acc:0.9182 recall:0.9442 iou:0.8709 fwiou:0.7643|\n",
      "track_airport        |true:0.0002 pred:0.0000 acc:nan recall:0.0000 iou:0.0000 fwiou:0.9973|\n",
      "other_park           |true:0.0654 pred:0.0653 acc:0.9311 recall:0.9308 iou:0.8709 fwiou:0.8734|\n",
      "other_playground     |true:0.0036 pred:0.0032 acc:0.9586 recall:0.8521 iou:0.8218 fwiou:0.9905|\n",
      "arable_natural       |true:0.2232 pred:0.2290 acc:0.9085 recall:0.9323 iou:0.8522 fwiou:0.5053|\n",
      "arable_greenhouse    |true:0.0121 pred:0.0123 acc:0.8837 recall:0.8966 iou:0.8020 fwiou:0.9640|\n",
      "grass_natural        |true:0.1275 pred:0.1231 acc:0.8088 recall:0.7807 iou:0.6590 fwiou:0.3476|\n",
      "grass_greenbelt      |true:0.0270 pred:0.0270 acc:0.8791 recall:0.8820 iou:0.7866 fwiou:0.9137|\n",
      "forest_natural       |true:0.1575 pred:0.1604 acc:0.8495 recall:0.8649 iou:0.7500 fwiou:0.4093|\n",
      "forest_planted       |true:0.0714 pred:0.0689 acc:0.7928 recall:0.7641 iou:0.6369 fwiou:0.6109|\n",
      "bare_natural         |true:0.0538 pred:0.0529 acc:0.9123 recall:0.8971 iou:0.8259 fwiou:0.8594|\n",
      "bare_planted         |true:0.0112 pred:0.0107 acc:0.8767 recall:0.8353 iou:0.7475 fwiou:0.9576|\n",
      "other_other          |true:0.0221 pred:0.0205 acc:0.7396 recall:0.6850 iou:0.5519 fwiou:0.8513|\n"
     ]
    }
   ],
   "source": [
    "model_paths = [\n",
    "  '../working/v9/sm.Unet.EfficientNetB4.augl4.size288.mrate1.200epoch.1115.swa10_asv/model.h5',\n",
    "  '../working/v9/sm.FPN.EfficientNetB4.augl4.size256.mrate1.200epoch.1115.swa10_asv/model_lr.h5',\n",
    "  '../working/v9/bread.DeeplabV3Plus.EfficientNetB6.augl4.size256.mrate1.200epoch.1115.swa10_asv/model_ud.h5'\n",
    "]\n",
    "models = []\n",
    "for model_path in tqdm(model_paths):\n",
    "  model = mt.load_model(model_path)\n",
    "  models.append(model)\n",
    "model = mt.EnsembleModel(models).get_model()\n",
    "# model.summary()\n",
    "res = eval(model)"
   ]
  },
  {
   "cell_type": "code",
   "execution_count": 14,
   "metadata": {},
   "outputs": [
    {
     "data": {
      "application/vnd.jupyter.widget-view+json": {
       "model_id": "edb46681c89a4e41aa66e33966ea26a0",
       "version_major": 2,
       "version_minor": 0
      },
      "text/plain": [
       "HBox(children=(HTML(value=''), FloatProgress(value=0.0, max=3.0), HTML(value='')))"
      ]
     },
     "metadata": {},
     "output_type": "display_data"
    },
    {
     "name": "stdout",
     "output_type": "stream",
     "text": [
      "\n",
      "104/105 [============================>.] - 62s 598ms/step - loss: 0.3198 - FWIoU: 0.8204 - MIoU: 0.7582 - ACC/pixel: 0.9001 - ACC/class: 0.8287\n",
      "\n",
      " +----------+----------+----------+-------------+-------------+\n",
      "|     loss |    FWIoU |     MIoU |   ACC/pixel |   ACC/class |\n",
      "|----------+----------+----------+-------------+-------------|\n",
      "| 0.319758 | 0.820436 | 0.758236 |    0.900063 |    0.828738 |\n",
      "+----------+----------+----------+-------------+-------------+\n",
      "water                |true:0.0257 pred:0.0252 acc:0.9126 recall:0.8973 iou:0.8263 fwiou:0.9331|\n",
      "track_road           |true:0.0776 pred:0.0764 acc:0.9159 recall:0.9013 iou:0.8324 fwiou:0.8049|\n",
      "build                |true:0.1217 pred:0.1254 acc:0.9218 recall:0.9493 iou:0.8785 fwiou:0.7782|\n",
      "track_airport        |true:0.0002 pred:0.0000 acc:nan recall:0.0000 iou:0.0000 fwiou:0.9973|\n",
      "other_park           |true:0.0654 pred:0.0653 acc:0.9507 recall:0.9499 iou:0.9053 fwiou:0.9072|\n",
      "other_playground     |true:0.0036 pred:0.0033 acc:0.9645 recall:0.8976 iou:0.8689 fwiou:0.9930|\n",
      "arable_natural       |true:0.2232 pred:0.2286 acc:0.9188 recall:0.9411 iou:0.8689 fwiou:0.5612|\n",
      "arable_greenhouse    |true:0.0121 pred:0.0122 acc:0.8959 recall:0.9034 iou:0.8176 fwiou:0.9668|\n",
      "grass_natural        |true:0.1275 pred:0.1235 acc:0.8497 recall:0.8227 iou:0.7182 fwiou:0.4609|\n",
      "grass_greenbelt      |true:0.0270 pred:0.0268 acc:0.9190 recall:0.9125 iou:0.8446 fwiou:0.9372|\n",
      "forest_natural       |true:0.1575 pred:0.1589 acc:0.8850 recall:0.8931 iou:0.8002 fwiou:0.5280|\n",
      "forest_planted       |true:0.0714 pred:0.0701 acc:0.8426 recall:0.8264 iou:0.7159 fwiou:0.6955|\n",
      "bare_natural         |true:0.0538 pred:0.0529 acc:0.9477 recall:0.9312 iou:0.8856 fwiou:0.9077|\n",
      "bare_planted         |true:0.0112 pred:0.0108 acc:0.9104 recall:0.8803 iou:0.8101 fwiou:0.9681|\n",
      "other_other          |true:0.0221 pred:0.0206 acc:0.7785 recall:0.7248 iou:0.6009 fwiou:0.8675|\n"
     ]
    }
   ],
   "source": [
    "model_paths = [\n",
    "  '../working/v9/sm.Unet.EfficientNetB4.augl4.size288.mrate1.200epoch.1115.swa10_aav/model.h5',\n",
    "  '../working/v9/sm.FPN.EfficientNetB4.augl4.size256.mrate1.200epoch.1115.swa10_aav/model_lr.h5',\n",
    "  '../working/v9/bread.DeeplabV3Plus.EfficientNetB6.augl4.size256.mrate1.200epoch.1115.swa10_aav/model_ud.h5'\n",
    "]\n",
    "models = []\n",
    "for model_path in tqdm(model_paths):\n",
    "  model = mt.load_model(model_path)\n",
    "  models.append(model)\n",
    "model = mt.EnsembleModel(models).get_model()\n",
    "# model.summary()\n",
    "res = eval(model)"
   ]
  },
  {
   "cell_type": "code",
   "execution_count": 15,
   "metadata": {},
   "outputs": [],
   "source": [
    "mt.save_model(model, '../working/ensemble/model_1117.h5')"
   ]
  },
  {
   "cell_type": "code",
   "execution_count": 16,
   "metadata": {},
   "outputs": [
    {
     "data": {
      "application/vnd.jupyter.widget-view+json": {
       "model_id": "3195bc1dd2c34b0bb05375c9e777d141",
       "version_major": 2,
       "version_minor": 0
      },
      "text/plain": [
       "HBox(children=(HTML(value=''), FloatProgress(value=0.0, max=3.0), HTML(value='')))"
      ]
     },
     "metadata": {},
     "output_type": "display_data"
    },
    {
     "name": "stdout",
     "output_type": "stream",
     "text": [
      "\n",
      "104/105 [============================>.] - 62s 599ms/step - loss: 0.4128 - FWIoU: 0.7811 - MIoU: 0.7135 - ACC/pixel: 0.8749 - ACC/class: 0.7977\n",
      "\n",
      " +----------+----------+----------+-------------+-------------+\n",
      "|     loss |    FWIoU |     MIoU |   ACC/pixel |   ACC/class |\n",
      "|----------+----------+----------+-------------+-------------|\n",
      "| 0.412825 | 0.781128 | 0.713539 |    0.874905 |    0.797687 |\n",
      "+----------+----------+----------+-------------+-------------+\n",
      "water                |true:0.0257 pred:0.0256 acc:0.8808 recall:0.8773 iou:0.7842 fwiou:0.9169|\n",
      "track_road           |true:0.0776 pred:0.0764 acc:0.9016 recall:0.8872 iou:0.8088 fwiou:0.7775|\n",
      "build                |true:0.1217 pred:0.1251 acc:0.9185 recall:0.9437 iou:0.8708 fwiou:0.7641|\n",
      "track_airport        |true:0.0002 pred:0.0000 acc:nan recall:0.0000 iou:0.0000 fwiou:0.9973|\n",
      "other_park           |true:0.0654 pred:0.0654 acc:0.9298 recall:0.9303 iou:0.8693 fwiou:0.8718|\n",
      "other_playground     |true:0.0036 pred:0.0031 acc:0.9529 recall:0.8161 iou:0.7844 fwiou:0.9885|\n",
      "arable_natural       |true:0.2232 pred:0.2290 acc:0.9082 recall:0.9320 iou:0.8518 fwiou:0.5038|\n",
      "arable_greenhouse    |true:0.0121 pred:0.0123 acc:0.8861 recall:0.8963 iou:0.8036 fwiou:0.9643|\n",
      "grass_natural        |true:0.1275 pred:0.1236 acc:0.8032 recall:0.7786 iou:0.6539 fwiou:0.3379|\n",
      "grass_greenbelt      |true:0.0270 pred:0.0270 acc:0.8711 recall:0.8730 iou:0.7731 fwiou:0.9083|\n",
      "forest_natural       |true:0.1575 pred:0.1605 acc:0.8496 recall:0.8655 iou:0.7505 fwiou:0.4106|\n",
      "forest_planted       |true:0.0714 pred:0.0686 acc:0.7955 recall:0.7641 iou:0.6387 fwiou:0.6128|\n",
      "bare_natural         |true:0.0538 pred:0.0526 acc:0.9135 recall:0.8922 iou:0.8227 fwiou:0.8568|\n",
      "bare_planted         |true:0.0112 pred:0.0106 acc:0.8796 recall:0.8310 iou:0.7461 fwiou:0.9574|\n",
      "other_other          |true:0.0221 pred:0.0204 acc:0.7355 recall:0.6780 iou:0.5451 fwiou:0.8490|\n"
     ]
    }
   ],
   "source": [
    "model_paths = [\n",
    "  '../working/v9/sm.Unet.EfficientNetB4.augl4.size288.mrate1.200epoch.1115/model.h5',\n",
    "  '../working/v9/sm.FPN.EfficientNetB4.augl4.size256.mrate1.200epoch.1115/model_lr.h5',\n",
    "  '../working/v9/bread.DeeplabV3Plus.EfficientNetB6.augl4.size256.mrate1.200epoch.1115/model_ud.h5'\n",
    "]\n",
    "models = []\n",
    "for model_path in tqdm(model_paths):\n",
    "  model = mt.load_model(model_path)\n",
    "  models.append(model)\n",
    "model = mt.EnsembleModel(models).get_model()\n",
    "# model.summary()\n",
    "res = eval(model)"
   ]
  },
  {
   "cell_type": "code",
   "execution_count": 16,
   "metadata": {},
   "outputs": [
    {
     "data": {
      "application/vnd.jupyter.widget-view+json": {
       "model_id": "5ee1d9f829364d7aba461b8d2addb4c3",
       "version_major": 2,
       "version_minor": 0
      },
      "text/plain": [
       "HBox(children=(HTML(value=''), FloatProgress(value=0.0, max=3.0), HTML(value='')))"
      ]
     },
     "metadata": {},
     "output_type": "display_data"
    },
    {
     "name": "stdout",
     "output_type": "stream",
     "text": [
      "\n",
      "104/105 [============================>.] - 62s 596ms/step - loss: 0.4132 - FWIoU: 0.7811 - MIoU: 0.7142 - ACC/pixel: 0.8749 - ACC/class: 0.7983\n",
      "\n",
      " +----------+----------+---------+-------------+-------------+\n",
      "|     loss |    FWIoU |    MIoU |   ACC/pixel |   ACC/class |\n",
      "|----------+----------+---------+-------------+-------------|\n",
      "| 0.413181 | 0.781113 | 0.71421 |    0.874936 |    0.798327 |\n",
      "+----------+----------+---------+-------------+-------------+\n",
      "water                |true:0.0257 pred:0.0256 acc:0.8810 recall:0.8770 iou:0.7841 fwiou:0.9168|\n",
      "track_road           |true:0.0776 pred:0.0765 acc:0.8999 recall:0.8874 iou:0.8077 fwiou:0.7761|\n",
      "build                |true:0.1217 pred:0.1251 acc:0.9182 recall:0.9434 iou:0.8703 fwiou:0.7631|\n",
      "track_airport        |true:0.0002 pred:0.0000 acc:nan recall:0.0000 iou:0.0000 fwiou:0.9973|\n",
      "other_park           |true:0.0654 pred:0.0653 acc:0.9293 recall:0.9283 iou:0.8670 fwiou:0.8696|\n",
      "other_playground     |true:0.0036 pred:0.0031 acc:0.9589 recall:0.8214 iou:0.7934 fwiou:0.9889|\n",
      "arable_natural       |true:0.2232 pred:0.2291 acc:0.9078 recall:0.9319 iou:0.8514 fwiou:0.5025|\n",
      "arable_greenhouse    |true:0.0121 pred:0.0123 acc:0.8850 recall:0.8960 iou:0.8026 fwiou:0.9641|\n",
      "grass_natural        |true:0.1275 pred:0.1234 acc:0.8053 recall:0.7792 iou:0.6557 fwiou:0.3412|\n",
      "grass_greenbelt      |true:0.0270 pred:0.0272 acc:0.8737 recall:0.8812 iou:0.7816 fwiou:0.9117|\n",
      "forest_natural       |true:0.1575 pred:0.1604 acc:0.8498 recall:0.8654 iou:0.7506 fwiou:0.4108|\n",
      "forest_planted       |true:0.0714 pred:0.0685 acc:0.7948 recall:0.7624 iou:0.6370 fwiou:0.6110|\n",
      "bare_natural         |true:0.0538 pred:0.0526 acc:0.9139 recall:0.8932 iou:0.8239 fwiou:0.8578|\n",
      "bare_planted         |true:0.0112 pred:0.0106 acc:0.8756 recall:0.8314 iou:0.7436 fwiou:0.9569|\n",
      "other_other          |true:0.0221 pred:0.0204 acc:0.7358 recall:0.6767 iou:0.5444 fwiou:0.8488|\n"
     ]
    }
   ],
   "source": [
    "model_paths = [\n",
    "  '../working/v9/sm.Unet.EfficientNetB4.augl4.size288.mrate1.200epoch.1115/model.h5',\n",
    "  '../working/v9/sm.FPN.EfficientNetB4.augl4.size256.mrate1.200epoch.1115/model.h5',\n",
    "  '../working/v9/bread.DeeplabV3Plus.EfficientNetB6.augl4.size256.mrate1.200epoch.1115/model.h5'\n",
    "]\n",
    "models = []\n",
    "for model_path in tqdm(model_paths):\n",
    "  model = mt.load_model(model_path)\n",
    "  models.append(model)\n",
    "model = mt.EnsembleModel(models).get_model()\n",
    "# model.summary()\n",
    "res = eval(model)"
   ]
  },
  {
   "cell_type": "code",
   "execution_count": 17,
   "metadata": {},
   "outputs": [
    {
     "data": {
      "application/vnd.jupyter.widget-view+json": {
       "model_id": "1ab398604d41429e8348c4cb1314951e",
       "version_major": 2,
       "version_minor": 0
      },
      "text/plain": [
       "HBox(children=(HTML(value=''), FloatProgress(value=0.0, max=3.0), HTML(value='')))"
      ]
     },
     "metadata": {},
     "output_type": "display_data"
    },
    {
     "name": "stdout",
     "output_type": "stream",
     "text": [
      "\n",
      "104/105 [============================>.] - 64s 615ms/step - loss: 0.6300 - FWIoU: 0.7799 - MIoU: 0.7133 - ACC/pixel: 0.8741 - ACC/class: 0.7983\n",
      "\n",
      " +----------+----------+----------+-------------+-------------+\n",
      "|     loss |    FWIoU |     MIoU |   ACC/pixel |   ACC/class |\n",
      "|----------+----------+----------+-------------+-------------|\n",
      "| 0.630009 | 0.779875 | 0.713327 |    0.874141 |    0.798284 |\n",
      "+----------+----------+----------+-------------+-------------+\n",
      "water                |true:0.0257 pred:0.0257 acc:0.8762 recall:0.8766 iou:0.7800 fwiou:0.9153|\n",
      "track_road           |true:0.0776 pred:0.0767 acc:0.8987 recall:0.8877 iou:0.8070 fwiou:0.7753|\n",
      "build                |true:0.1217 pred:0.1250 acc:0.9182 recall:0.9429 iou:0.8698 fwiou:0.7623|\n",
      "track_airport        |true:0.0002 pred:0.0000 acc:nan recall:0.0000 iou:0.0000 fwiou:0.9973|\n",
      "other_park           |true:0.0654 pred:0.0653 acc:0.9285 recall:0.9274 iou:0.8655 fwiou:0.8682|\n",
      "other_playground     |true:0.0036 pred:0.0031 acc:0.9553 recall:0.8319 iou:0.8007 fwiou:0.9893|\n",
      "arable_natural       |true:0.2232 pred:0.2292 acc:0.9074 recall:0.9319 iou:0.8509 fwiou:0.5010|\n",
      "arable_greenhouse    |true:0.0121 pred:0.0123 acc:0.8842 recall:0.8944 iou:0.8006 fwiou:0.9638|\n",
      "grass_natural        |true:0.1275 pred:0.1234 acc:0.8041 recall:0.7780 iou:0.6540 fwiou:0.3380|\n",
      "grass_greenbelt      |true:0.0270 pred:0.0273 acc:0.8703 recall:0.8811 iou:0.7789 fwiou:0.9106|\n",
      "forest_natural       |true:0.1575 pred:0.1607 acc:0.8480 recall:0.8654 iou:0.7492 fwiou:0.4075|\n",
      "forest_planted       |true:0.0714 pred:0.0679 acc:0.7958 recall:0.7560 iou:0.6332 fwiou:0.6069|\n",
      "bare_natural         |true:0.0538 pred:0.0524 acc:0.9147 recall:0.8910 iou:0.8226 fwiou:0.8568|\n",
      "bare_planted         |true:0.0112 pred:0.0106 acc:0.8739 recall:0.8305 iou:0.7417 fwiou:0.9566|\n",
      "other_other          |true:0.0221 pred:0.0205 acc:0.7348 recall:0.6795 iou:0.5457 fwiou:0.8492|\n"
     ]
    }
   ],
   "source": [
    "model_paths = [\n",
    "  '../working/v9/sm.Unet.EfficientNetB4.augl4.size288.mrate1.200epoch.1115/model.h5',\n",
    "  '../working/v9/sm.FPN.EfficientNetB4.augl4.size256.mrate1.200epoch.1115/model.h5',\n",
    "  '../working/v9/bread.DeeplabV3Plus.EfficientNetB6.augl4.size256.mrate1.200epoch.1115/model.h5'\n",
    "]\n",
    "models = []\n",
    "for model_path in tqdm(model_paths):\n",
    "  model = mt.load_model(model_path)\n",
    "  models.append(model)\n",
    "model = mt.EnsembleModel(models, weights=[1., 0.8, 0.5]).get_model()\n",
    "# model.summary()\n",
    "res = eval(model)"
   ]
  },
  {
   "cell_type": "code",
   "execution_count": 14,
   "metadata": {},
   "outputs": [
    {
     "data": {
      "application/vnd.jupyter.widget-view+json": {
       "model_id": "ee0dda3d47b24eb182c21a9a4e90cbec",
       "version_major": 2,
       "version_minor": 0
      },
      "text/plain": [
       "HBox(children=(HTML(value=''), FloatProgress(value=0.0, max=3.0), HTML(value='')))"
      ]
     },
     "metadata": {},
     "output_type": "display_data"
    },
    {
     "name": "stdout",
     "output_type": "stream",
     "text": [
      "\n",
      "312/313 [============================>.] - 188s 604ms/step - loss: 0.4143 - FWIoU: 0.7808 - MIoU: 0.7138 - ACC/pixel: 0.8746 - ACC/class: 0.7983\n",
      "\n",
      " +----------+----------+----------+-------------+-------------+\n",
      "|     loss |    FWIoU |     MIoU |   ACC/pixel |   ACC/class |\n",
      "|----------+----------+----------+-------------+-------------|\n",
      "| 0.414297 | 0.780783 | 0.713831 |    0.874644 |     0.79834 |\n",
      "+----------+----------+----------+-------------+-------------+\n",
      "water                |true:0.0272 pred:0.0272 acc:0.8832 recall:0.8836 iou:0.7911 fwiou:0.9147|\n",
      "track_road           |true:0.0767 pred:0.0753 acc:0.9028 recall:0.8871 iou:0.8097 fwiou:0.7812|\n",
      "build                |true:0.1213 pred:0.1249 acc:0.9156 recall:0.9430 iou:0.8676 fwiou:0.7591|\n",
      "track_airport        |true:0.0001 pred:0.0000 acc:nan recall:0.0000 iou:0.0000 fwiou:0.9991|\n",
      "other_park           |true:0.0664 pred:0.0659 acc:0.9363 recall:0.9294 iou:0.8741 fwiou:0.8747|\n",
      "other_playground     |true:0.0033 pred:0.0030 acc:0.9484 recall:0.8727 iou:0.8331 fwiou:0.9918|\n",
      "arable_natural       |true:0.2265 pred:0.2328 acc:0.9078 recall:0.9330 iou:0.8523 fwiou:0.4982|\n",
      "arable_greenhouse    |true:0.0129 pred:0.0130 acc:0.8821 recall:0.8862 iou:0.7924 fwiou:0.9597|\n",
      "grass_natural        |true:0.1275 pred:0.1248 acc:0.7999 recall:0.7832 iou:0.6548 fwiou:0.3400|\n",
      "grass_greenbelt      |true:0.0245 pred:0.0244 acc:0.8709 recall:0.8683 iou:0.7693 fwiou:0.9153|\n",
      "forest_natural       |true:0.1566 pred:0.1591 acc:0.8513 recall:0.8650 iou:0.7514 fwiou:0.4162|\n",
      "forest_planted       |true:0.0727 pred:0.0696 acc:0.8018 recall:0.7678 iou:0.6453 fwiou:0.6132|\n",
      "bare_natural         |true:0.0498 pred:0.0477 acc:0.9138 recall:0.8751 iou:0.8083 fwiou:0.8569|\n",
      "bare_planted         |true:0.0113 pred:0.0104 acc:0.8704 recall:0.7995 iou:0.7144 fwiou:0.9514|\n",
      "other_other          |true:0.0233 pred:0.0218 acc:0.7288 recall:0.6813 iou:0.5435 fwiou:0.8403|\n"
     ]
    }
   ],
   "source": [
    "model_paths = [\n",
    "  '../working/v9/sm.Unet.EfficientNetB4.augl4.size288.mrate1.200epoch.1115/model_ud.h5',\n",
    "  '../working/v9/sm.FPN.EfficientNetB4.augl4.size256.mrate1.200epoch.1115/model_lr.h5',\n",
    "  '../working/v9/bread.DeeplabV3Plus.EfficientNetB6.augl4.size256.mrate1.200epoch.1115/model.h5'\n",
    "]\n",
    "models = []\n",
    "for model_path in tqdm(model_paths):\n",
    "  model = mt.load_model(model_path)\n",
    "  models.append(model)\n",
    "model = mt.EnsembleModel(models).get_model()\n",
    "# model.summary()\n",
    "res = eval(model)"
   ]
  },
  {
   "cell_type": "code",
   "execution_count": 15,
   "metadata": {},
   "outputs": [
    {
     "data": {
      "application/vnd.jupyter.widget-view+json": {
       "model_id": "b31964ce1f5146dca0d2e4dbd7685bf4",
       "version_major": 2,
       "version_minor": 0
      },
      "text/plain": [
       "HBox(children=(HTML(value=''), FloatProgress(value=0.0, max=3.0), HTML(value='')))"
      ]
     },
     "metadata": {},
     "output_type": "display_data"
    },
    {
     "name": "stdout",
     "output_type": "stream",
     "text": [
      "\n"
     ]
    }
   ],
   "source": [
    "model_paths = [\n",
    "  '../working/v9/sm.Unet.EfficientNetB4.augl4.size288.mrate1.200epoch.1115/model.h5',\n",
    "  '../working/v9/sm.FPN.EfficientNetB4.augl4.size256.mrate1.200epoch.1115/model_lr.h5',\n",
    "  '../working/v9/bread.DeeplabV3Plus.EfficientNetB6.augl4.size256.mrate1.200epoch.1115/model_ud.h5'\n",
    "]\n",
    "models = []\n",
    "for model_path in tqdm(model_paths):\n",
    "  model = mt.load_model(model_path)\n",
    "  models.append(model)\n",
    "model = mt.EnsembleModel(models).get_model()\n",
    "# model.summary()"
   ]
  },
  {
   "cell_type": "code",
   "execution_count": 16,
   "metadata": {},
   "outputs": [
    {
     "name": "stdout",
     "output_type": "stream",
     "text": [
      "312/313 [============================>.] - 189s 606ms/step - loss: 0.4149 - FWIoU: 0.7807 - MIoU: 0.7137 - ACC/pixel: 0.8746 - ACC/class: 0.7983\n",
      "\n",
      " +----------+----------+----------+-------------+-------------+\n",
      "|     loss |    FWIoU |     MIoU |   ACC/pixel |   ACC/class |\n",
      "|----------+----------+----------+-------------+-------------|\n",
      "| 0.414911 | 0.780725 | 0.713739 |    0.874611 |    0.798308 |\n",
      "+----------+----------+----------+-------------+-------------+\n",
      "water                |true:0.0272 pred:0.0272 acc:0.8831 recall:0.8838 iou:0.7912 fwiou:0.9147|\n",
      "track_road           |true:0.0767 pred:0.0753 acc:0.9028 recall:0.8866 iou:0.8093 fwiou:0.7807|\n",
      "build                |true:0.1213 pred:0.1249 acc:0.9155 recall:0.9429 iou:0.8674 fwiou:0.7588|\n",
      "track_airport        |true:0.0001 pred:0.0000 acc:nan recall:0.0000 iou:0.0000 fwiou:0.9991|\n",
      "other_park           |true:0.0664 pred:0.0659 acc:0.9364 recall:0.9297 iou:0.8744 fwiou:0.8750|\n",
      "other_playground     |true:0.0033 pred:0.0030 acc:0.9476 recall:0.8702 iou:0.8303 fwiou:0.9917|\n",
      "arable_natural       |true:0.2265 pred:0.2329 acc:0.9078 recall:0.9332 iou:0.8524 fwiou:0.4986|\n",
      "arable_greenhouse    |true:0.0129 pred:0.0130 acc:0.8821 recall:0.8865 iou:0.7926 fwiou:0.9598|\n",
      "grass_natural        |true:0.1275 pred:0.1248 acc:0.8003 recall:0.7834 iou:0.6553 fwiou:0.3408|\n",
      "grass_greenbelt      |true:0.0245 pred:0.0245 acc:0.8698 recall:0.8706 iou:0.7703 fwiou:0.9157|\n",
      "forest_natural       |true:0.1566 pred:0.1590 acc:0.8511 recall:0.8643 iou:0.7507 fwiou:0.4145|\n",
      "forest_planted       |true:0.0727 pred:0.0697 acc:0.8012 recall:0.7681 iou:0.6451 fwiou:0.6130|\n",
      "bare_natural         |true:0.0498 pred:0.0476 acc:0.9139 recall:0.8742 iou:0.8077 fwiou:0.8565|\n",
      "bare_planted         |true:0.0113 pred:0.0104 acc:0.8716 recall:0.7996 iou:0.7153 fwiou:0.9516|\n",
      "other_other          |true:0.0233 pred:0.0218 acc:0.7293 recall:0.6816 iou:0.5440 fwiou:0.8404|\n"
     ]
    }
   ],
   "source": [
    "res = eval(model)"
   ]
  },
  {
   "cell_type": "code",
   "execution_count": 18,
   "metadata": {},
   "outputs": [
    {
     "name": "stdout",
     "output_type": "stream",
     "text": [
      "args.txt\n",
      "command.txt\n",
      "eval_step.txt\n",
      "events.out.tfevents.1605539940.pengbo-featurize-penhuolong.3620596.0\n",
      "events.out.tfevents.1605539943.pengbo-featurize-penhuolong.3620596.1\n",
      "events.out.tfevents.1605539943.pengbo-featurize-penhuolong.3620596.2\n",
      "events.out.tfevents.1605539943.pengbo-featurize-penhuolong.3620596.3\n",
      "events.out.tfevents.1605539943.pengbo-featurize-penhuolong.3620596.4\n",
      "events.out.tfevents.1605539943.pengbo-featurize-penhuolong.3620596.5\n",
      "events.out.tfevents.1605539943.pengbo-featurize-penhuolong.3620596.6\n",
      "events.out.tfevents.1605539943.pengbo-featurize-penhuolong.3620596.7\n",
      "events.out.tfevents.1605600405.pengbo-featurize-penhuolong.3634342.0\n",
      "events.out.tfevents.1605600405.pengbo-featurize-penhuolong.3634342.1\n",
      "events.out.tfevents.1605600405.pengbo-featurize-penhuolong.3634342.2\n",
      "events.out.tfevents.1605600406.pengbo-featurize-penhuolong.3634342.3\n",
      "events.out.tfevents.1605600406.pengbo-featurize-penhuolong.3634342.4\n",
      "events.out.tfevents.1605600406.pengbo-featurize-penhuolong.3634342.5\n",
      "events.out.tfevents.1605600406.pengbo-featurize-penhuolong.3634342.6\n",
      "events.out.tfevents.1605600406.pengbo-featurize-penhuolong.3634342.7\n",
      "events.out.tfevents.1605600410.pengbo-featurize-penhuolong.3634342.8\n",
      "events.out.tfevents.1605600411.pengbo-featurize-penhuolong.3634342.10\n",
      "events.out.tfevents.1605600411.pengbo-featurize-penhuolong.3634342.11\n",
      "events.out.tfevents.1605600411.pengbo-featurize-penhuolong.3634342.12\n",
      "events.out.tfevents.1605600411.pengbo-featurize-penhuolong.3634342.13\n",
      "events.out.tfevents.1605600411.pengbo-featurize-penhuolong.3634342.14\n",
      "events.out.tfevents.1605600411.pengbo-featurize-penhuolong.3634342.15\n",
      "events.out.tfevents.1605600411.pengbo-featurize-penhuolong.3634342.9\n",
      "events.out.tfevents.1605600414.pengbo-featurize-penhuolong.3634342.16\n",
      "events.out.tfevents.1605600414.pengbo-featurize-penhuolong.3634342.17\n",
      "events.out.tfevents.1605600414.pengbo-featurize-penhuolong.3634342.18\n",
      "events.out.tfevents.1605600414.pengbo-featurize-penhuolong.3634342.19\n",
      "events.out.tfevents.1605600414.pengbo-featurize-penhuolong.3634342.20\n",
      "events.out.tfevents.1605600414.pengbo-featurize-penhuolong.3634342.21\n",
      "events.out.tfevents.1605600414.pengbo-featurize-penhuolong.3634342.22\n",
      "events.out.tfevents.1605600414.pengbo-featurize-penhuolong.3634342.23\n",
      "flags.txt\n",
      "history_flags.txt\n",
      "infos\n",
      "infos.csv\n",
      "log.html\n",
      "log.txt\n",
      "metrics.csv\n",
      "model.h5\n",
      "model_lr.h5\n",
      "model_ud.h5\n",
      "script.txt\n"
     ]
    }
   ],
   "source": [
    "!ls ../working/v9/sm.Unet.EfficientNetB4.augl4.size288.mrate0.200epoch.1115"
   ]
  },
  {
   "cell_type": "code",
   "execution_count": null,
   "metadata": {},
   "outputs": [],
   "source": []
  }
 ],
 "metadata": {
  "kernelspec": {
   "display_name": "Python 3",
   "language": "python",
   "name": "python3"
  },
  "language_info": {
   "codemirror_mode": {
    "name": "ipython",
    "version": 3
   },
   "file_extension": ".py",
   "mimetype": "text/x-python",
   "name": "python",
   "nbconvert_exporter": "python",
   "pygments_lexer": "ipython3",
   "version": "3.7.4"
  }
 },
 "nbformat": 4,
 "nbformat_minor": 4
}
