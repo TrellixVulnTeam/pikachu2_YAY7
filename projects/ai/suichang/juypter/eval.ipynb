{
 "cells": [
  {
   "cell_type": "code",
   "execution_count": 2,
   "metadata": {},
   "outputs": [],
   "source": [
    "import sys\n",
    "root = '/home/featurize/data'\n",
    "sys.path.append(f'{root}/pikachu/utils')\n",
    "sys.path.append(f'{root}/pikachu/third')\n",
    "sys.path.append(f'{root}/pikachu')\n",
    "sys.path.append(f'{root}/pikachu/projects/ai/naic_seg')"
   ]
  },
  {
   "cell_type": "code",
   "execution_count": 3,
   "metadata": {},
   "outputs": [],
   "source": [
    "# !pip install -q seaborn\n",
    "# !pip install -q tabulate"
   ]
  },
  {
   "cell_type": "code",
   "execution_count": 4,
   "metadata": {},
   "outputs": [],
   "source": [
    "import sys \n",
    "import os\n",
    "import glob\n",
    "import cv2\n",
    "from PIL import Image\n",
    "import numpy as np\n",
    "\n",
    "from gezi import tqdm\n",
    "from gezi.metrics.image.semantic_seg import Evaluator\n",
    "import gezi"
   ]
  },
  {
   "cell_type": "code",
   "execution_count": 5,
   "metadata": {},
   "outputs": [],
   "source": [
    "# !ls ./eval.naic/label\n",
    "# !ls ./out"
   ]
  },
  {
   "cell_type": "code",
   "execution_count": 6,
   "metadata": {},
   "outputs": [],
   "source": [
    "def eval(pred_dir, label_dir=None, src='v2', classes=None, round=2):\n",
    "  SRC = src\n",
    "  ROUND = round\n",
    "  label_dir_ = label_dir\n",
    "  if SRC == 'v2':\n",
    "    #17 but 5,6 missing\n",
    "    CLASSES = ['water', 'track_road', 'build', 'track_airport', 'other_park', 'other_playground', 'arable_natural', 'arable_greenhouse',\n",
    "                'grass_natural', 'grass_greenbelt', 'forest_natural', 'forest_planted', 'bare_natural', 'bare_planted', 'other_other']\n",
    "  #   label_dir = '../input/quarter/train/label'\n",
    "    label_dir = './eval.naic/label'\n",
    "  elif SRC == 'v1':\n",
    "    CLASSES = ['water', 'track', 'build', 'arable', 'grass', 'forest', 'bare', 'other']\n",
    "    label_dir = './eval.naic.v1/label'\n",
    "    if ROUND == 2:\n",
    "      m2 = {\n",
    "        0: 0,\n",
    "        1: 1,\n",
    "        2: 2,\n",
    "        3: 1,\n",
    "        4: 7,\n",
    "        5: 7,\n",
    "        6: 3,\n",
    "        7: 3,\n",
    "        8: 4,\n",
    "        9: 4,\n",
    "        10: 5,\n",
    "        11: 5,\n",
    "        12: 6,\n",
    "        13: 6,\n",
    "        14: 7,\n",
    "      }\n",
    "    else:\n",
    "      m2 = dict(zip(range(8), range(8)))\n",
    "  elif SRC == 'ccf': # ccf data\n",
    "    # 植被（标记1）、道路（标记2）、建筑（标记3）、水体（标记4）以及其他(标记0)\n",
    "    CLASSES = ['background', 'vegetation', 'road', 'build', 'water']\n",
    "    label_dir = './eval.all/label'\n",
    "    if ROUND == 2:\n",
    "      m2 = {\n",
    "        0: 4,\n",
    "        1: 2,\n",
    "        2: 3,\n",
    "        3: 2,\n",
    "        4: 0,\n",
    "        5: 0,\n",
    "        6: 1,\n",
    "        7: 1,\n",
    "        8: 1,\n",
    "        9: 1,\n",
    "        10: 1,\n",
    "        11: 1,\n",
    "        12: 1,\n",
    "        13: 1,\n",
    "        14: 0,\n",
    "      }\n",
    "    else:\n",
    "      m2 = {\n",
    "        0: 4,\n",
    "        1: 2,\n",
    "        2: 3,\n",
    "        3: 1,\n",
    "        4: 0,\n",
    "        5: 0,\n",
    "        6: 0,\n",
    "        7: 0,\n",
    "      }\n",
    "  elif SRC == 'baidu': # baidu\n",
    "    CLASSES = ['build', 'arable', 'forest', 'water', 'track', 'grass', 'other']\n",
    "    label_dir = './eval.baidu/label'\n",
    "    if ROUND == 2:\n",
    "      m2 = {\n",
    "        0: 3,\n",
    "        1: 4,\n",
    "        2: 0,\n",
    "        3: 4,\n",
    "        4: 6,\n",
    "        5: 6,\n",
    "        6: 1,\n",
    "        7: 1,\n",
    "        8: 5,\n",
    "        9: 5,\n",
    "        10: 2,\n",
    "        11: 2,\n",
    "        12: 6,\n",
    "        13: 6,\n",
    "        14: 6,\n",
    "      }\n",
    "    else:\n",
    "      m2 = {\n",
    "        0: 3,\n",
    "        1: 4,\n",
    "        2: 0,\n",
    "        3: 1,\n",
    "        4: 5,\n",
    "        5: 2,\n",
    "        6: 6,\n",
    "        7: 6,\n",
    "      }\n",
    "  else:\n",
    "    raise ValueError(SRC)\n",
    "\n",
    "  NUM_CLASSES = len(CLASSES)\n",
    "\n",
    "  if label_dir_:\n",
    "    label_dir = label_dir_\n",
    "\n",
    "  m = {}\n",
    "  for i in range(17):\n",
    "    if i < 4:\n",
    "      m[i + 1] = i\n",
    "    else:\n",
    "      m[i + 1] = i - 2\n",
    "\n",
    "  key_metric = 'FWIoU'\n",
    "\n",
    "  pred_files = glob.glob(f'{pred_dir}/*')\n",
    "\n",
    "  evaluator = Evaluator(CLASSES)\n",
    "  class_mious = 0.\n",
    "\n",
    "  t = tqdm(enumerate(pred_files), total=len(pred_files), ascii=True, desc= 'eval')\n",
    "  for i, pred_file in t:\n",
    "    file_name = os.path.basename(pred_file)\n",
    "    label_file = f'{label_dir}/{file_name}'\n",
    "    try:\n",
    "      if SRC != 'baidu':\n",
    "        label = cv2.imread(label_file, cv2.IMREAD_UNCHANGED).astype(np.int32)\n",
    "      else:\n",
    "        label = np.asarray(Image.open(label_file))\n",
    "      pred = cv2.imread(pred_file,cv2.IMREAD_UNCHANGED).astype(np.int32)    \n",
    "    except Exception as e:\n",
    "      print(label_file)\n",
    "      print(e)\n",
    "      break\n",
    "\n",
    "    if SRC == 'v2':\n",
    "      f = np.vectorize(lambda x: m[x])\n",
    "      label = f(label).astype(np.uint8)\n",
    "      pred = f(pred).astype(np.uint8)\n",
    "    else:\n",
    "      if SRC == 'v1':\n",
    "        label = (label / 100 - 1).astype(np.uint8)\n",
    "        # pred = (pred / 100 - 1).astype(np.uint8)\n",
    "      elif SRC == 'baidu':\n",
    "        f = np.vectorize(lambda x: 0 if x == 255 else x)\n",
    "        label = f(label).astype(np.uint8)\n",
    "\n",
    "      f = np.vectorize(lambda x: m[x])\n",
    "      pred = f(pred).astype(np.uint8)\n",
    "      f = np.vectorize(lambda x: m2[x])\n",
    "      pred = f(pred).astype(np.uint8)\n",
    "\n",
    "    evaluator.eval_each(label[np.newaxis,:, :], pred[np.newaxis,:, :], metric=key_metric)\n",
    "\n",
    "    binary_label = np.bincount(label.reshape(-1), minlength=NUM_CLASSES).astype(np.bool)\n",
    "    binary_pred = np.bincount(pred.reshape(-1), minlength=NUM_CLASSES).astype(np.bool)\n",
    "    intersections = binary_label * binary_pred\n",
    "    intersection = np.sum(intersections, axis=-1)\n",
    "    union = np.sum(binary_label, axis=-1) + np.sum(binary_pred, axis=-1) - intersection\n",
    "    class_miou = np.mean(intersection / union)\n",
    "\n",
    "    class_mious += class_miou\n",
    "\n",
    "    t.set_postfix({key_metric: evaluator.eval_once(key_metric), 'IMAGE/CLASS/MIoU': class_mious / (i + 1)})\n",
    "\n",
    "  res = evaluator.eval_once()\n",
    "  res['IMAGE/CLASS/MIoU'] = class_mious / i\n",
    "  gezi.set('evaluator', evaluator)\n",
    "  return res"
   ]
  },
  {
   "cell_type": "code",
   "execution_count": 7,
   "metadata": {},
   "outputs": [],
   "source": [
    "# pred_dir = './out'\n",
    "# res = eval(pred_dir)\n",
    "# gezi.pprint_dict(res)"
   ]
  },
  {
   "cell_type": "code",
   "execution_count": 8,
   "metadata": {},
   "outputs": [
    {
     "name": "stdout",
     "output_type": "stream",
     "text": [
      "/home/featurize/data\n"
     ]
    }
   ],
   "source": [
    "cd /home/featurize/data"
   ]
  },
  {
   "cell_type": "code",
   "execution_count": 13,
   "metadata": {},
   "outputs": [
    {
     "data": {
      "application/vnd.jupyter.widget-view+json": {
       "model_id": "046b978f0bdb4182b7010f5db0a1e204",
       "version_major": 2,
       "version_minor": 0
      },
      "text/plain": [
       "HBox(children=(HTML(value='eval'), FloatProgress(value=0.0, max=5000.0), HTML(value='')))"
      ]
     },
     "metadata": {},
     "output_type": "display_data"
    },
    {
     "name": "stdout",
     "output_type": "stream",
     "text": [
      "\n",
      "\n",
      " +----------+----------+-------------+-------------+-------------+------------------+-------------+---------------------+------------------+------------------------+----------------------+-------------------------+---------------------+-----------------------+----------------------+----------------------+--------------------+--------------------+-------------------+--------------------+\n",
      "|    FWIoU |     MIoU |   ACC/pixel |   ACC/class |   IoU/water |   IoU/track_road |   IoU/build |   IoU/track_airport |   IoU/other_park |   IoU/other_playground |   IoU/arable_natural |   IoU/arable_greenhouse |   IoU/grass_natural |   IoU/grass_greenbelt |   IoU/forest_natural |   IoU/forest_planted |   IoU/bare_natural |   IoU/bare_planted |   IoU/other_other |   IMAGE/CLASS/MIoU |\n",
      "|----------+----------+-------------+-------------+-------------+------------------+-------------+---------------------+------------------+------------------------+----------------------+-------------------------+---------------------+-----------------------+----------------------+----------------------+--------------------+--------------------+-------------------+--------------------|\n",
      "| 0.617276 | 0.623276 |    0.754401 |    0.726908 |    0.811484 |         0.831008 |    0.873098 |                 nan |         0.836587 |               0.861247 |             0.612405 |                0.646274 |            0.368687 |              0.132239 |             0.653219 |             0.298544 |           0.684945 |            0.66122 |          0.454905 |           0.781246 |\n",
      "+----------+----------+-------------+-------------+-------------+------------------+-------------+---------------------+------------------+------------------------+----------------------+-------------------------+---------------------+-----------------------+----------------------+----------------------+--------------------+--------------------+-------------------+--------------------+\n"
     ]
    }
   ],
   "source": [
    "pred_dir = '/home/featurize/data/out'\n",
    "SRC = 'v2'\n",
    "ROUND = 2\n",
    "label_dir = '/home/featurize/dataset/labels/'\n",
    "res = eval(pred_dir, src=SRC, round=ROUND, label_dir=label_dir)\n",
    "gezi.pprint_dict(res)"
   ]
  },
  {
   "cell_type": "code",
   "execution_count": null,
   "metadata": {},
   "outputs": [],
   "source": [
    "pred_dir = './out.v1'\n",
    "SRC = 'v2'\n",
    "ROUND = 2\n",
    "label_dir = './eval.naic/label'\n",
    "res = eval(pred_dir, src=SRC, round=ROUND)\n",
    "gezi.pprint_dict(res)"
   ]
  },
  {
   "cell_type": "code",
   "execution_count": 8,
   "metadata": {},
   "outputs": [
    {
     "data": {
      "application/vnd.jupyter.widget-view+json": {
       "model_id": "9a9d24b99be2458bb0269d6fcbdf3511",
       "version_major": 2,
       "version_minor": 0
      },
      "text/plain": [
       "HBox(children=(HTML(value='eval'), FloatProgress(value=0.0, max=10000.0), HTML(value='')))"
      ]
     },
     "metadata": {},
     "output_type": "display_data"
    },
    {
     "name": "stdout",
     "output_type": "stream",
     "text": [
      "\n",
      "\n",
      " +----------+----------+-------------+-------------+-------------+------------------+-------------+---------------------+------------------+------------------------+----------------------+-------------------------+---------------------+-----------------------+----------------------+----------------------+--------------------+--------------------+-------------------+--------------------+\n",
      "|    FWIoU |     MIoU |   ACC/pixel |   ACC/class |   IoU/water |   IoU/track_road |   IoU/build |   IoU/track_airport |   IoU/other_park |   IoU/other_playground |   IoU/arable_natural |   IoU/arable_greenhouse |   IoU/grass_natural |   IoU/grass_greenbelt |   IoU/forest_natural |   IoU/forest_planted |   IoU/bare_natural |   IoU/bare_planted |   IoU/other_other |   IMAGE/CLASS/MIoU |\n",
      "|----------+----------+-------------+-------------+-------------+------------------+-------------+---------------------+------------------+------------------------+----------------------+-------------------------+---------------------+-----------------------+----------------------+----------------------+--------------------+--------------------+-------------------+--------------------|\n",
      "| 0.785145 | 0.718749 |    0.877527 |    0.800973 |    0.799271 |         0.815029 |    0.869867 |                   0 |         0.880206 |               0.827117 |             0.853549 |                 0.79956 |            0.661946 |              0.783417 |             0.755673 |             0.648012 |           0.814619 |            0.72248 |          0.550495 |           0.888125 |\n",
      "+----------+----------+-------------+-------------+-------------+------------------+-------------+---------------------+------------------+------------------------+----------------------+-------------------------+---------------------+-----------------------+----------------------+----------------------+--------------------+--------------------+-------------------+--------------------+\n"
     ]
    }
   ],
   "source": [
    "pred_dir = './out'\n",
    "SRC = 'v2'\n",
    "ROUND = 2\n",
    "label_dir = './eval.naic/label'\n",
    "res = eval(pred_dir, src=SRC, round=ROUND)\n",
    "gezi.pprint_dict(res)"
   ]
  },
  {
   "cell_type": "code",
   "execution_count": null,
   "metadata": {},
   "outputs": [],
   "source": [
    "pred_dir = './out.dv1.v1'\n",
    "SRC = 'v1'\n",
    "ROUND = 2\n",
    "label_dir = './eval.naic.v1/label'\n",
    "res = eval(pred_dir, src=SRC, round=ROUND)\n",
    "gezi.pprint_dict(res)"
   ]
  },
  {
   "cell_type": "code",
   "execution_count": 19,
   "metadata": {},
   "outputs": [
    {
     "data": {
      "application/vnd.jupyter.widget-view+json": {
       "model_id": "9c12f6110e594d539f5a25d9a21b934a",
       "version_major": 2,
       "version_minor": 0
      },
      "text/plain": [
       "HBox(children=(HTML(value='eval'), FloatProgress(value=0.0, max=2000.0), HTML(value='')))"
      ]
     },
     "metadata": {},
     "output_type": "display_data"
    },
    {
     "name": "stdout",
     "output_type": "stream",
     "text": [
      "\n",
      "\n",
      " +----------+----------+-------------+-------------+-------------+-------------+-------------+--------------+-------------+--------------+------------+-------------+--------------------+\n",
      "|    FWIoU |     MIoU |   ACC/pixel |   ACC/class |   IoU/water |   IoU/track |   IoU/build |   IoU/arable |   IoU/grass |   IoU/forest |   IoU/bare |   IoU/other |   IMAGE/CLASS/MIoU |\n",
      "|----------+----------+-------------+-------------+-------------+-------------+-------------+--------------+-------------+--------------+------------+-------------+--------------------|\n",
      "| 0.289742 | 0.259168 |    0.446317 |    0.409526 |    0.350916 |    0.272992 |    0.533428 |     0.286362 |    0.100029 |     0.298093 |  0.0512532 |     0.18027 |           0.473644 |\n",
      "+----------+----------+-------------+-------------+-------------+-------------+-------------+--------------+-------------+--------------+------------+-------------+--------------------+\n"
     ]
    }
   ],
   "source": [
    "pred_dir = './out.dv1'\n",
    "SRC = 'v1'\n",
    "ROUND = 2\n",
    "label_dir = './eval.naic.v1/label'\n",
    "res = eval(pred_dir, src=SRC, round=ROUND)\n",
    "gezi.pprint_dict(res)"
   ]
  },
  {
   "cell_type": "code",
   "execution_count": 5,
   "metadata": {},
   "outputs": [
    {
     "data": {
      "application/vnd.jupyter.widget-view+json": {
       "model_id": "4d71cc63e91f48a78de1cad8b23d43e6",
       "version_major": 2,
       "version_minor": 0
      },
      "text/plain": [
       "HBox(children=(HTML(value='eval'), FloatProgress(value=0.0, max=2000.0), HTML(value='')))"
      ]
     },
     "metadata": {},
     "output_type": "display_data"
    },
    {
     "name": "stdout",
     "output_type": "stream",
     "text": [
      "\n",
      "\n",
      " +----------+----------+-------------+-------------+-------------+-------------+-------------+--------------+-------------+--------------+------------+-------------+--------------------+\n",
      "|    FWIoU |     MIoU |   ACC/pixel |   ACC/class |   IoU/water |   IoU/track |   IoU/build |   IoU/arable |   IoU/grass |   IoU/forest |   IoU/bare |   IoU/other |   IMAGE/CLASS/MIoU |\n",
      "|----------+----------+-------------+-------------+-------------+-------------+-------------+--------------+-------------+--------------+------------+-------------+--------------------|\n",
      "| 0.266661 | 0.243399 |    0.407373 |    0.379943 |    0.322582 |       0.281 |    0.494658 |     0.240387 |   0.0910705 |     0.271676 |  0.0804064 |    0.165416 |           0.459629 |\n",
      "+----------+----------+-------------+-------------+-------------+-------------+-------------+--------------+-------------+--------------+------------+-------------+--------------------+\n"
     ]
    }
   ],
   "source": [
    "pred_dir = './out.auglevel4'\n",
    "SRC = 'v1'\n",
    "ROUND = 2\n",
    "label_dir = './eval.naic.v1/label'\n",
    "res = eval(pred_dir, src=SRC, round=ROUND)\n",
    "gezi.pprint_dict(res)"
   ]
  },
  {
   "cell_type": "code",
   "execution_count": null,
   "metadata": {},
   "outputs": [
    {
     "data": {
      "application/vnd.jupyter.widget-view+json": {
       "model_id": "ba02cc2b191948eaaf9274f33456cfdf",
       "version_major": 2,
       "version_minor": 0
      },
      "text/plain": [
       "HBox(children=(HTML(value='eval'), FloatProgress(value=0.0, max=2000.0), HTML(value='')))"
      ]
     },
     "metadata": {},
     "output_type": "display_data"
    }
   ],
   "source": [
    "pred_dir = './out.dv1'\n",
    "SRC = 'v1'\n",
    "ROUND = 2\n",
    "label_dir = './eval.naic.v1/label'\n",
    "res = eval(pred_dir, src=SRC, round=ROUND)\n",
    "gezi.pprint_dict(res)"
   ]
  },
  {
   "cell_type": "code",
   "execution_count": null,
   "metadata": {},
   "outputs": [],
   "source": [
    "evaluator = gezi.get('evaluator')"
   ]
  },
  {
   "cell_type": "code",
   "execution_count": null,
   "metadata": {},
   "outputs": [],
   "source": [
    "gezi.plot.confusion_matrix(evaluator.confusion_matrix, evaluator.class_names, 'true')"
   ]
  },
  {
   "cell_type": "code",
   "execution_count": null,
   "metadata": {},
   "outputs": [],
   "source": [
    "gezi.plot.confusion_matrix(evaluator.confusion_matrix, evaluator.class_names, 'pred')"
   ]
  },
  {
   "cell_type": "code",
   "execution_count": null,
   "metadata": {},
   "outputs": [],
   "source": [
    "cm = evaluator.confusion_matrix\n",
    "trues = np.sum(cm, 1)\n",
    "preds = np.sum(cm, 0)\n",
    "total = np.sum(trues)\n",
    "classes_ratio_true = trues / total\n",
    "classes_ratio_pred = preds / total"
   ]
  },
  {
   "cell_type": "code",
   "execution_count": null,
   "metadata": {},
   "outputs": [],
   "source": [
    "classes_ratio_true"
   ]
  },
  {
   "cell_type": "code",
   "execution_count": null,
   "metadata": {},
   "outputs": [],
   "source": [
    "classes_ratio_pred"
   ]
  },
  {
   "cell_type": "code",
   "execution_count": null,
   "metadata": {},
   "outputs": [],
   "source": [
    "evaluator.class_names"
   ]
  },
  {
   "cell_type": "code",
   "execution_count": 14,
   "metadata": {},
   "outputs": [
    {
     "data": {
      "application/vnd.jupyter.widget-view+json": {
       "model_id": "732a12300a08408897812d26b582a7e3",
       "version_major": 2,
       "version_minor": 0
      },
      "text/plain": [
       "HBox(children=(HTML(value='eval'), FloatProgress(value=0.0, max=1000.0), HTML(value='')))"
      ]
     },
     "metadata": {},
     "output_type": "display_data"
    },
    {
     "name": "stdout",
     "output_type": "stream",
     "text": [
      "\n",
      "\n",
      " +----------+----------+-------------+-------------+------------------+------------------+------------+-------------+-------------+--------------------+\n",
      "|    FWIoU |     MIoU |   ACC/pixel |   ACC/class |   IoU/background |   IoU/vegetation |   IoU/road |   IoU/build |   IoU/water |   IMAGE/CLASS/MIoU |\n",
      "|----------+----------+-------------+-------------+------------------+------------------+------------+-------------+-------------+--------------------|\n",
      "| 0.363666 | 0.247244 |    0.466082 |    0.530955 |         0.365293 |         0.211418 |   0.214867 |    0.441926 |  0.00271718 |           0.660227 |\n",
      "+----------+----------+-------------+-------------+------------------+------------------+------------+-------------+-------------+--------------------+\n"
     ]
    }
   ],
   "source": [
    "pred_dir = './out.ccf.naic.bs4'\n",
    "SRC = 'ccf'\n",
    "ROUND = 2\n",
    "label_dir = './eval.all/label'\n",
    "res = eval(pred_dir, src=SRC, round=ROUND)\n",
    "gezi.pprint_dict(res)"
   ]
  },
  {
   "cell_type": "code",
   "execution_count": 15,
   "metadata": {},
   "outputs": [
    {
     "data": {
      "application/vnd.jupyter.widget-view+json": {
       "model_id": "db92fefd58da43219b93fde626aa415d",
       "version_major": 2,
       "version_minor": 0
      },
      "text/plain": [
       "HBox(children=(HTML(value='eval'), FloatProgress(value=0.0, max=1000.0), HTML(value='')))"
      ]
     },
     "metadata": {},
     "output_type": "display_data"
    },
    {
     "name": "stdout",
     "output_type": "stream",
     "text": [
      "\n",
      "\n",
      " +----------+----------+-------------+-------------+------------------+------------------+------------+-------------+-------------+--------------------+\n",
      "|    FWIoU |     MIoU |   ACC/pixel |   ACC/class |   IoU/background |   IoU/vegetation |   IoU/road |   IoU/build |   IoU/water |   IMAGE/CLASS/MIoU |\n",
      "|----------+----------+-------------+-------------+------------------+------------------+------------+-------------+-------------+--------------------|\n",
      "| 0.363666 | 0.247244 |    0.466082 |    0.530955 |         0.365293 |         0.211418 |   0.214867 |    0.441926 |  0.00271718 |           0.660227 |\n",
      "+----------+----------+-------------+-------------+------------------+------------------+------------+-------------+-------------+--------------------+\n"
     ]
    }
   ],
   "source": [
    "pred_dir = './out.ccf.naic.bs36'\n",
    "SRC = 'ccf'\n",
    "ROUND = 2\n",
    "label_dir = './eval.all/label'\n",
    "res = eval(pred_dir, src=SRC, round=ROUND)\n",
    "gezi.pprint_dict(res)"
   ]
  },
  {
   "cell_type": "code",
   "execution_count": 7,
   "metadata": {},
   "outputs": [
    {
     "data": {
      "application/vnd.jupyter.widget-view+json": {
       "model_id": "b2b419f7cd304c9c882eb4366d8a4c43",
       "version_major": 2,
       "version_minor": 0
      },
      "text/plain": [
       "HBox(children=(HTML(value='eval'), FloatProgress(value=0.0, max=1000.0), HTML(value='')))"
      ]
     },
     "metadata": {},
     "output_type": "display_data"
    },
    {
     "name": "stdout",
     "output_type": "stream",
     "text": [
      "\n",
      "\n",
      " +----------+----------+-------------+-------------+------------------+------------------+------------+-------------+-------------+--------------------+\n",
      "|    FWIoU |     MIoU |   ACC/pixel |   ACC/class |   IoU/background |   IoU/vegetation |   IoU/road |   IoU/build |   IoU/water |   IMAGE/CLASS/MIoU |\n",
      "|----------+----------+-------------+-------------+------------------+------------------+------------+-------------+-------------+--------------------|\n",
      "| 0.382492 | 0.266253 |    0.490279 |    0.550555 |         0.377365 |           0.2212 |   0.264922 |    0.464832 |  0.00294605 |           0.669002 |\n",
      "+----------+----------+-------------+-------------+------------------+------------------+------------+-------------+-------------+--------------------+\n"
     ]
    }
   ],
   "source": [
    "pred_dir = './out.ccf.naic'\n",
    "SRC = 'ccf'\n",
    "ROUND = 2\n",
    "label_dir = './eval.all/label'\n",
    "res = eval(pred_dir, src=SRC, round=ROUND)\n",
    "gezi.pprint_dict(res)"
   ]
  },
  {
   "cell_type": "code",
   "execution_count": 6,
   "metadata": {},
   "outputs": [
    {
     "data": {
      "application/vnd.jupyter.widget-view+json": {
       "model_id": "b91347578f624666959196917da76afa",
       "version_major": 2,
       "version_minor": 0
      },
      "text/plain": [
       "HBox(children=(HTML(value='eval'), FloatProgress(value=0.0, max=1000.0), HTML(value='')))"
      ]
     },
     "metadata": {},
     "output_type": "display_data"
    },
    {
     "name": "stdout",
     "output_type": "stream",
     "text": [
      "\n",
      "\n",
      " +----------+----------+-------------+-------------+------------------+------------------+------------+-------------+-------------+--------------------+\n",
      "|    FWIoU |     MIoU |   ACC/pixel |   ACC/class |   IoU/background |   IoU/vegetation |   IoU/road |   IoU/build |   IoU/water |   IMAGE/CLASS/MIoU |\n",
      "|----------+----------+-------------+-------------+------------------+------------------+------------+-------------+-------------+--------------------|\n",
      "| 0.381721 | 0.265681 |    0.489385 |    0.550038 |         0.376469 |         0.220758 |   0.264011 |    0.464225 |  0.00293971 |           0.668919 |\n",
      "+----------+----------+-------------+-------------+------------------+------------------+------------+-------------+-------------+--------------------+\n"
     ]
    }
   ],
   "source": [
    "pred_dir = './out.ccf.naic'\n",
    "SRC = 'ccf'\n",
    "ROUND = 2\n",
    "label_dir = './eval.all/label'\n",
    "res = eval(pred_dir, src=SRC, round=ROUND)\n",
    "gezi.pprint_dict(res)"
   ]
  },
  {
   "cell_type": "code",
   "execution_count": 10,
   "metadata": {},
   "outputs": [
    {
     "data": {
      "application/vnd.jupyter.widget-view+json": {
       "model_id": "0e5e1936326b4ab28dcc71aa4d1843ca",
       "version_major": 2,
       "version_minor": 0
      },
      "text/plain": [
       "HBox(children=(HTML(value='eval'), FloatProgress(value=0.0, max=1000.0), HTML(value='')))"
      ]
     },
     "metadata": {},
     "output_type": "display_data"
    },
    {
     "name": "stdout",
     "output_type": "stream",
     "text": [
      "\n",
      "\n",
      " +----------+----------+-------------+-------------+------------------+------------------+------------+-------------+-------------+--------------------+\n",
      "|    FWIoU |     MIoU |   ACC/pixel |   ACC/class |   IoU/background |   IoU/vegetation |   IoU/road |   IoU/build |   IoU/water |   IMAGE/CLASS/MIoU |\n",
      "|----------+----------+-------------+-------------+------------------+------------------+------------+-------------+-------------+--------------------|\n",
      "| 0.382492 | 0.266253 |    0.490279 |    0.550555 |         0.377365 |           0.2212 |   0.264922 |    0.464832 |  0.00294605 |           0.669002 |\n",
      "+----------+----------+-------------+-------------+------------------+------------------+------------+-------------+-------------+--------------------+\n"
     ]
    }
   ],
   "source": [
    "pred_dir = './out.ccf.naic'\n",
    "SRC = 'ccf'\n",
    "ROUND = 2\n",
    "label_dir = './eval.all/label'\n",
    "res = eval(pred_dir, src=SRC, round=ROUND)\n",
    "gezi.pprint_dict(res)"
   ]
  },
  {
   "cell_type": "code",
   "execution_count": null,
   "metadata": {},
   "outputs": [],
   "source": [
    "pred_dir = './out.ccf.v1'\n",
    "SRC = 'ccf'\n",
    "ROUND = 1\n",
    "label_dir = './eval.all/label'\n",
    "res = eval(pred_dir, src=SRC, round=ROUND)\n",
    "gezi.pprint_dict(res)"
   ]
  },
  {
   "cell_type": "code",
   "execution_count": 8,
   "metadata": {},
   "outputs": [
    {
     "data": {
      "application/vnd.jupyter.widget-view+json": {
       "model_id": "442b64f4cc474bfcbcffed151b203f90",
       "version_major": 2,
       "version_minor": 0
      },
      "text/plain": [
       "HBox(children=(HTML(value='eval'), FloatProgress(value=0.0, max=1000.0), HTML(value='')))"
      ]
     },
     "metadata": {},
     "output_type": "display_data"
    },
    {
     "name": "stdout",
     "output_type": "stream",
     "text": [
      "\n",
      "\n",
      " +----------+----------+-------------+-------------+------------------+------------------+------------+-------------+-------------+--------------------+\n",
      "|    FWIoU |     MIoU |   ACC/pixel |   ACC/class |   IoU/background |   IoU/vegetation |   IoU/road |   IoU/build |   IoU/water |   IMAGE/CLASS/MIoU |\n",
      "|----------+----------+-------------+-------------+------------------+------------------+------------+-------------+-------------+--------------------|\n",
      "| 0.797815 | 0.824612 |    0.887161 |     0.90685 |         0.808568 |         0.870755 |   0.829255 |    0.753473 |    0.861007 |           0.986286 |\n",
      "+----------+----------+-------------+-------------+------------------+------------------+------------+-------------+-------------+--------------------+\n"
     ]
    }
   ],
   "source": [
    "pred_dir = './out.ccf.v2'\n",
    "SRC = 'ccf'\n",
    "ROUND = 1\n",
    "label_dir = './eval.all/label'\n",
    "res = eval(pred_dir, src=SRC, round=ROUND)\n",
    "gezi.pprint_dict(res)"
   ]
  },
  {
   "cell_type": "code",
   "execution_count": 9,
   "metadata": {},
   "outputs": [
    {
     "data": {
      "application/vnd.jupyter.widget-view+json": {
       "model_id": "945509d20e0645168154705b2efe5548",
       "version_major": 2,
       "version_minor": 0
      },
      "text/plain": [
       "HBox(children=(HTML(value='eval'), FloatProgress(value=0.0, max=1000.0), HTML(value='')))"
      ]
     },
     "metadata": {},
     "output_type": "display_data"
    },
    {
     "name": "stdout",
     "output_type": "stream",
     "text": [
      "\n",
      "\n",
      " +----------+----------+-------------+-------------+------------------+------------------+------------+-------------+-------------+--------------------+\n",
      "|    FWIoU |     MIoU |   ACC/pixel |   ACC/class |   IoU/background |   IoU/vegetation |   IoU/road |   IoU/build |   IoU/water |   IMAGE/CLASS/MIoU |\n",
      "|----------+----------+-------------+-------------+------------------+------------------+------------+-------------+-------------+--------------------|\n",
      "| 0.791098 | 0.819253 |    0.882961 |    0.902221 |         0.802491 |         0.862314 |   0.825502 |    0.745267 |    0.860693 |           0.982449 |\n",
      "+----------+----------+-------------+-------------+------------------+------------------+------------+-------------+-------------+--------------------+\n"
     ]
    }
   ],
   "source": [
    "pred_dir = './out.ccf.v2'\n",
    "SRC = 'ccf'\n",
    "ROUND = 1\n",
    "label_dir = './eval.all/label'\n",
    "res = eval(pred_dir, src=SRC, round=ROUND)\n",
    "gezi.pprint_dict(res)"
   ]
  },
  {
   "cell_type": "code",
   "execution_count": 12,
   "metadata": {},
   "outputs": [
    {
     "data": {
      "application/vnd.jupyter.widget-view+json": {
       "model_id": "ffcc5133627046eca8dfe1d983072d32",
       "version_major": 2,
       "version_minor": 0
      },
      "text/plain": [
       "HBox(children=(HTML(value='eval'), FloatProgress(value=0.0, max=1000.0), HTML(value='')))"
      ]
     },
     "metadata": {},
     "output_type": "display_data"
    },
    {
     "name": "stdout",
     "output_type": "stream",
     "text": [
      "\n",
      "\n",
      " +----------+----------+-------------+-------------+------------------+------------------+------------+-------------+-------------+--------------------+\n",
      "|    FWIoU |     MIoU |   ACC/pixel |   ACC/class |   IoU/background |   IoU/vegetation |   IoU/road |   IoU/build |   IoU/water |   IMAGE/CLASS/MIoU |\n",
      "|----------+----------+-------------+-------------+------------------+------------------+------------+-------------+-------------+--------------------|\n",
      "| 0.791098 | 0.819253 |    0.882961 |    0.902221 |         0.802491 |         0.862314 |   0.825502 |    0.745267 |    0.860693 |           0.982449 |\n",
      "+----------+----------+-------------+-------------+------------------+------------------+------------+-------------+-------------+--------------------+\n"
     ]
    }
   ],
   "source": [
    "pred_dir = './out.ccf2'\n",
    "SRC = 'ccf'\n",
    "ROUND = 1\n",
    "label_dir = './eval.all/label'\n",
    "res = eval(pred_dir, src=SRC, round=ROUND)\n",
    "gezi.pprint_dict(res)"
   ]
  },
  {
   "cell_type": "code",
   "execution_count": 13,
   "metadata": {},
   "outputs": [
    {
     "data": {
      "application/vnd.jupyter.widget-view+json": {
       "model_id": "49228fad7ef1450cbe456a3103965ece",
       "version_major": 2,
       "version_minor": 0
      },
      "text/plain": [
       "HBox(children=(HTML(value='eval'), FloatProgress(value=0.0, max=1000.0), HTML(value='')))"
      ]
     },
     "metadata": {},
     "output_type": "display_data"
    },
    {
     "name": "stdout",
     "output_type": "stream",
     "text": [
      "\n",
      "\n",
      " +----------+----------+-------------+-------------+------------------+------------------+------------+-------------+-------------+--------------------+\n",
      "|    FWIoU |     MIoU |   ACC/pixel |   ACC/class |   IoU/background |   IoU/vegetation |   IoU/road |   IoU/build |   IoU/water |   IMAGE/CLASS/MIoU |\n",
      "|----------+----------+-------------+-------------+------------------+------------------+------------+-------------+-------------+--------------------|\n",
      "| 0.797815 | 0.824612 |    0.887161 |     0.90685 |         0.808568 |         0.870755 |   0.829255 |    0.753473 |    0.861007 |           0.986286 |\n",
      "+----------+----------+-------------+-------------+------------------+------------------+------------+-------------+-------------+--------------------+\n"
     ]
    }
   ],
   "source": [
    "pred_dir = './out.ccf'\n",
    "SRC = 'ccf'\n",
    "ROUND = 1\n",
    "label_dir = './eval.all/label'\n",
    "res = eval(pred_dir, src=SRC, round=ROUND)\n",
    "gezi.pprint_dict(res)"
   ]
  },
  {
   "cell_type": "code",
   "execution_count": 14,
   "metadata": {},
   "outputs": [
    {
     "data": {
      "application/vnd.jupyter.widget-view+json": {
       "model_id": "4f0ee7af53dd4c118245a362bfccfe9f",
       "version_major": 2,
       "version_minor": 0
      },
      "text/plain": [
       "HBox(children=(HTML(value='eval'), FloatProgress(value=0.0, max=1000.0), HTML(value='')))"
      ]
     },
     "metadata": {},
     "output_type": "display_data"
    },
    {
     "name": "stdout",
     "output_type": "stream",
     "text": [
      "\n",
      "\n",
      " +----------+----------+-------------+-------------+------------------+------------------+------------+-------------+-------------+--------------------+\n",
      "|    FWIoU |     MIoU |   ACC/pixel |   ACC/class |   IoU/background |   IoU/vegetation |   IoU/road |   IoU/build |   IoU/water |   IMAGE/CLASS/MIoU |\n",
      "|----------+----------+-------------+-------------+------------------+------------------+------------+-------------+-------------+--------------------|\n",
      "| 0.797815 | 0.824612 |    0.887161 |     0.90685 |         0.808568 |         0.870755 |   0.829255 |    0.753473 |    0.861007 |           0.986286 |\n",
      "+----------+----------+-------------+-------------+------------------+------------------+------------+-------------+-------------+--------------------+\n"
     ]
    }
   ],
   "source": [
    "pred_dir = './out.ccf'\n",
    "SRC = 'ccf'\n",
    "ROUND = 1\n",
    "label_dir = './eval.all/label'\n",
    "res = eval(pred_dir, src=SRC, round=ROUND)\n",
    "gezi.pprint_dict(res)"
   ]
  },
  {
   "cell_type": "code",
   "execution_count": null,
   "metadata": {},
   "outputs": [],
   "source": [
    "pred_dir = './out.ccf'\n",
    "SRC = 'ccf'\n",
    "ROUND = 1\n",
    "label_dir = './eval.all/label'\n",
    "res = eval(pred_dir, src=SRC, round=ROUND)\n",
    "gezi.pprint_dict(res)"
   ]
  },
  {
   "cell_type": "code",
   "execution_count": null,
   "metadata": {},
   "outputs": [],
   "source": [
    "pred_dir = './out.ccf2'\n",
    "SRC = 'ccf'\n",
    "ROUND = 1\n",
    "label_dir = './eval.all/label'\n",
    "res = eval(pred_dir, src=SRC, round=ROUND)\n",
    "gezi.pprint_dict(res)"
   ]
  },
  {
   "cell_type": "code",
   "execution_count": null,
   "metadata": {},
   "outputs": [],
   "source": []
  }
 ],
 "metadata": {
  "kernelspec": {
   "display_name": "Python 3",
   "language": "python",
   "name": "python3"
  },
  "language_info": {
   "codemirror_mode": {
    "name": "ipython",
    "version": 3
   },
   "file_extension": ".py",
   "mimetype": "text/x-python",
   "name": "python",
   "nbconvert_exporter": "python",
   "pygments_lexer": "ipython3",
   "version": "3.6.8"
  }
 },
 "nbformat": 4,
 "nbformat_minor": 4
}
