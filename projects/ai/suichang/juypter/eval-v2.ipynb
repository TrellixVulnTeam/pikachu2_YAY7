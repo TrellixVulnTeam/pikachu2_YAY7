{
 "cells": [
  {
   "cell_type": "code",
   "execution_count": 1,
   "metadata": {},
   "outputs": [],
   "source": [
    "import sys\n",
    "root = '/home/featurize/data'\n",
    "sys.path.append(f'{root}/pikachu/utils')\n",
    "sys.path.append(f'{root}/pikachu/third')\n",
    "sys.path.append(f'{root}/pikachu')\n",
    "sys.path.append(f'{root}/pikachu/projects/ai/naic_seg')"
   ]
  },
  {
   "cell_type": "code",
   "execution_count": 2,
   "metadata": {},
   "outputs": [],
   "source": [
    "import sys \n",
    "import os\n",
    "import glob\n",
    "import cv2\n",
    "from PIL import Image\n",
    "import numpy as np\n",
    "\n",
    "from gezi import tqdm\n",
    "from gezi.metrics.image.semantic_seg import Evaluator\n",
    "import gezi"
   ]
  },
  {
   "cell_type": "code",
   "execution_count": 3,
   "metadata": {},
   "outputs": [],
   "source": [
    "CLASSES_V2 = ['water', 'track_road', 'build', 'track_airport', 'other_park', 'other_playground', \n",
    "            'arable_natural', 'arable_greenhouse',\n",
    "            'grass_natural', 'grass_greenbelt', \n",
    "            'forest_natural', 'forest_planted', \n",
    "            'bare_natural', 'bare_planted', 'other_other']\n",
    "CLASSES = CLASSES_V2\n",
    "NUM_CLASSES = len(CLASSES)\n",
    "m = {}\n",
    "for i in range(17):\n",
    "  if i < 4:\n",
    "    m[i + 1] = i\n",
    "  else:\n",
    "    m[i + 1] = i - 2"
   ]
  },
  {
   "cell_type": "code",
   "execution_count": 4,
   "metadata": {},
   "outputs": [],
   "source": [
    "def eval(pred_dir, label_dir='../input/eval.naic/label'):\n",
    "  key_metric = 'FWIoU'\n",
    "  pred_files = glob.glob(f'{pred_dir}/*')\n",
    "\n",
    "  evaluator = Evaluator(CLASSES)\n",
    "  class_mious = 0.\n",
    "\n",
    "  t = tqdm(enumerate(pred_files), total=len(pred_files), ascii=True, desc= 'eval')\n",
    "  for i, pred_file in t:\n",
    "    file_name = os.path.basename(pred_file)\n",
    "    evaluator2 = Evaluator(CLASSES)\n",
    "    label_file = f'{label_dir}/{file_name}'\n",
    "    label = np.asarray(Image.open(label_file))\n",
    "    pred = cv2.imread(pred_file,cv2.IMREAD_UNCHANGED).astype(np.uint8)\n",
    "    \n",
    "    f = np.vectorize(lambda x: m[x])\n",
    "    label = f(label).astype(np.uint8)\n",
    "\n",
    "    evaluator.eval_each(label[np.newaxis,:, :], pred[np.newaxis,:, :], metric=key_metric)\n",
    "#     evaluator2.eval_each(label[np.newaxis,:, :], pred[np.newaxis,:, :], metric=key_metric)\n",
    "\n",
    "    binary_label = np.bincount(label.reshape(-1), minlength=NUM_CLASSES).astype(np.bool)\n",
    "    binary_pred = np.bincount(pred.reshape(-1), minlength=NUM_CLASSES).astype(np.bool)\n",
    "    intersections = binary_label * binary_pred\n",
    "    intersection = np.sum(intersections, axis=-1)\n",
    "    union = np.sum(binary_label, axis=-1) + np.sum(binary_pred, axis=-1) - intersection\n",
    "    class_miou = np.mean(intersection / union)\n",
    "\n",
    "    class_mious += class_miou\n",
    "\n",
    "    metric = evaluator.eval_once(key_metric)\n",
    "#     metric2 = evaluator2.eval_once(key_metric)\n",
    "    t.set_postfix({key_metric: metric, 'IMAGE/CLASS/MIoU': class_mious / (i + 1)})\n",
    "    \n",
    "#     if metric2 < 0.1:\n",
    "#       print(file_name, metric2, class_miou)\n",
    "\n",
    "  res = evaluator.eval_once()\n",
    "  res['IMAGE/CLASS/MIoU'] = class_mious / i\n",
    "  gezi.set('evaluator', evaluator)\n",
    "  \n",
    "  return res"
   ]
  },
  {
   "cell_type": "code",
   "execution_count": 5,
   "metadata": {},
   "outputs": [
    {
     "data": {
      "application/vnd.jupyter.widget-view+json": {
       "model_id": "49e1beea619d47ff99f5b7a471a253ac",
       "version_major": 2,
       "version_minor": 0
      },
      "text/plain": [
       "HBox(children=(HTML(value='eval'), FloatProgress(value=0.0, max=10000.0), HTML(value='')))"
      ]
     },
     "metadata": {},
     "output_type": "display_data"
    },
    {
     "name": "stdout",
     "output_type": "stream",
     "text": [
      "\n"
     ]
    },
    {
     "data": {
      "text/plain": [
       "{'FWIoU': 0.7778595563053591,\n",
       " 'MIoU': 0.7115360885254554,\n",
       " 'ACC/pixel': 0.8727666595458984,\n",
       " 'ACC/class': 0.7970300189375601,\n",
       " 'IoU/water': 0.7916577813042049,\n",
       " 'IoU/track_road': 0.8048845182297052,\n",
       " 'IoU/build': 0.865484699458146,\n",
       " 'IoU/track_airport': 0.0,\n",
       " 'IoU/other_park': 0.8718514392838806,\n",
       " 'IoU/other_playground': 0.8283863961009432,\n",
       " 'IoU/arable_natural': 0.8506058340246935,\n",
       " 'IoU/arable_greenhouse': 0.7910985606788657,\n",
       " 'IoU/grass_natural': 0.652738091659201,\n",
       " 'IoU/grass_greenbelt': 0.7659750800417351,\n",
       " 'IoU/forest_natural': 0.7466731268339089,\n",
       " 'IoU/forest_planted': 0.637545932904967,\n",
       " 'IoU/bare_natural': 0.8054980806120025,\n",
       " 'IoU/bare_planted': 0.7166763397989279,\n",
       " 'IoU/other_other': 0.5439654469506475,\n",
       " 'IMAGE/CLASS/MIoU': 0.886716824640617}"
      ]
     },
     "execution_count": 5,
     "metadata": {},
     "output_type": "execute_result"
    }
   ],
   "source": [
    "eval('../input/out')"
   ]
  },
  {
   "cell_type": "code",
   "execution_count": 6,
   "metadata": {},
   "outputs": [
    {
     "data": {
      "application/vnd.jupyter.widget-view+json": {
       "model_id": "b9db0ca7ed094a2285f3939acd676737",
       "version_major": 2,
       "version_minor": 0
      },
      "text/plain": [
       "HBox(children=(HTML(value='eval'), FloatProgress(value=0.0, max=10000.0), HTML(value='')))"
      ]
     },
     "metadata": {},
     "output_type": "display_data"
    },
    {
     "name": "stdout",
     "output_type": "stream",
     "text": [
      "\n"
     ]
    },
    {
     "data": {
      "text/plain": [
       "{'FWIoU': 0.7780047957622916,\n",
       " 'MIoU': 0.7109949620525206,\n",
       " 'ACC/pixel': 0.8728516265869141,\n",
       " 'ACC/class': 0.7963652543237473,\n",
       " 'IoU/water': 0.7921528853062886,\n",
       " 'IoU/track_road': 0.8050809563510685,\n",
       " 'IoU/build': 0.865668890762374,\n",
       " 'IoU/track_airport': 0.0,\n",
       " 'IoU/other_park': 0.8724400013862645,\n",
       " 'IoU/other_playground': 0.8200995757981693,\n",
       " 'IoU/arable_natural': 0.8506646139129812,\n",
       " 'IoU/arable_greenhouse': 0.7912588326002139,\n",
       " 'IoU/grass_natural': 0.6530510552586739,\n",
       " 'IoU/grass_greenbelt': 0.766720763250973,\n",
       " 'IoU/forest_natural': 0.7470513143552305,\n",
       " 'IoU/forest_planted': 0.6378407488937464,\n",
       " 'IoU/bare_natural': 0.8047805877303398,\n",
       " 'IoU/bare_planted': 0.7147780798927748,\n",
       " 'IoU/other_other': 0.5433361252887112,\n",
       " 'IMAGE/CLASS/MIoU': 0.8867348423153997}"
      ]
     },
     "execution_count": 6,
     "metadata": {},
     "output_type": "execute_result"
    }
   ],
   "source": [
    "eval('../input/out.2')"
   ]
  },
  {
   "cell_type": "code",
   "execution_count": 7,
   "metadata": {},
   "outputs": [
    {
     "data": {
      "application/vnd.jupyter.widget-view+json": {
       "model_id": "7b78fe2d2f4c478e8dfba3a7f941d3d2",
       "version_major": 2,
       "version_minor": 0
      },
      "text/plain": [
       "HBox(children=(HTML(value='eval'), FloatProgress(value=0.0, max=10000.0), HTML(value='')))"
      ]
     },
     "metadata": {},
     "output_type": "display_data"
    },
    {
     "name": "stdout",
     "output_type": "stream",
     "text": [
      "\n"
     ]
    },
    {
     "data": {
      "text/plain": [
       "{'FWIoU': 0.7790593023149208,\n",
       " 'MIoU': 0.7123095990480225,\n",
       " 'ACC/pixel': 0.8734884094238281,\n",
       " 'ACC/class': 0.7972925255933666,\n",
       " 'IoU/water': 0.7948946767854415,\n",
       " 'IoU/track_road': 0.8077832908836104,\n",
       " 'IoU/build': 0.8669825589089382,\n",
       " 'IoU/track_airport': 0.0,\n",
       " 'IoU/other_park': 0.874072627310912,\n",
       " 'IoU/other_playground': 0.8276761422607447,\n",
       " 'IoU/arable_natural': 0.852054759044725,\n",
       " 'IoU/arable_greenhouse': 0.7938192194143369,\n",
       " 'IoU/grass_natural': 0.6543796182831398,\n",
       " 'IoU/grass_greenbelt': 0.7614490638649299,\n",
       " 'IoU/forest_natural': 0.7466760521367689,\n",
       " 'IoU/forest_planted': 0.6385844402083368,\n",
       " 'IoU/bare_natural': 0.8060535109834166,\n",
       " 'IoU/bare_planted': 0.7161200475559886,\n",
       " 'IoU/other_other': 0.5440979780790498,\n",
       " 'IMAGE/CLASS/MIoU': 0.888313344321445}"
      ]
     },
     "execution_count": 7,
     "metadata": {},
     "output_type": "execute_result"
    }
   ],
   "source": [
    "eval('../input/out.3')"
   ]
  },
  {
   "cell_type": "code",
   "execution_count": 9,
   "metadata": {},
   "outputs": [
    {
     "data": {
      "application/vnd.jupyter.widget-view+json": {
       "model_id": "f57da1bf0e7b451ab37b7323e2f3fc5e",
       "version_major": 2,
       "version_minor": 0
      },
      "text/plain": [
       "HBox(children=(HTML(value='eval'), FloatProgress(value=0.0, max=10000.0), HTML(value='')))"
      ]
     },
     "metadata": {},
     "output_type": "display_data"
    },
    {
     "name": "stdout",
     "output_type": "stream",
     "text": [
      "\n"
     ]
    },
    {
     "data": {
      "text/plain": [
       "{'FWIoU': 0.7803804159874678,\n",
       " 'MIoU': 0.7131189104517832,\n",
       " 'ACC/pixel': 0.8743195175170898,\n",
       " 'ACC/class': 0.7973623439958104,\n",
       " 'IoU/water': 0.7949127501202037,\n",
       " 'IoU/track_road': 0.8093785373432069,\n",
       " 'IoU/build': 0.8678973762402427,\n",
       " 'IoU/track_airport': 0.0,\n",
       " 'IoU/other_park': 0.8760099070768841,\n",
       " 'IoU/other_playground': 0.8167003393438579,\n",
       " 'IoU/arable_natural': 0.852871926368416,\n",
       " 'IoU/arable_greenhouse': 0.7959723189361401,\n",
       " 'IoU/grass_natural': 0.6554955856704598,\n",
       " 'IoU/grass_greenbelt': 0.7705801719159979,\n",
       " 'IoU/forest_natural': 0.7476955965369697,\n",
       " 'IoU/forest_planted': 0.6413286546430517,\n",
       " 'IoU/bare_natural': 0.806909103894082,\n",
       " 'IoU/bare_planted': 0.7165366198764253,\n",
       " 'IoU/other_other': 0.5444947688108116,\n",
       " 'IMAGE/CLASS/MIoU': 0.8886501312468894}"
      ]
     },
     "execution_count": 9,
     "metadata": {},
     "output_type": "execute_result"
    }
   ],
   "source": [
    "eval('../input/out.4')"
   ]
  },
  {
   "cell_type": "code",
   "execution_count": null,
   "metadata": {},
   "outputs": [],
   "source": []
  }
 ],
 "metadata": {
  "kernelspec": {
   "display_name": "Python 3",
   "language": "python",
   "name": "python3"
  },
  "language_info": {
   "codemirror_mode": {
    "name": "ipython",
    "version": 3
   },
   "file_extension": ".py",
   "mimetype": "text/x-python",
   "name": "python",
   "nbconvert_exporter": "python",
   "pygments_lexer": "ipython3",
   "version": "3.7.4"
  }
 },
 "nbformat": 4,
 "nbformat_minor": 4
}
