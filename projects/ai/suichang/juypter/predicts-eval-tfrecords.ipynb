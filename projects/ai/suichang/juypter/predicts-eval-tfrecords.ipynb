{
 "cells": [
  {
   "cell_type": "code",
   "execution_count": 1,
   "metadata": {},
   "outputs": [],
   "source": [
    "import sys\n",
    "root = '/home/featurize/data'\n",
    "sys.path.append(f'{root}/pikachu/utils')\n",
    "sys.path.append(f'{root}/pikachu/third')\n",
    "sys.path.append(f'{root}/pikachu')\n",
    "sys.path.append(f'{root}/pikachu/projects/ai/naic_seg')"
   ]
  },
  {
   "cell_type": "code",
   "execution_count": 2,
   "metadata": {},
   "outputs": [],
   "source": [
    "import os, glob\n",
    "import numpy as np\n",
    "import cv2\n",
    "import tensorflow as tf\n",
    "import pandas as pd\n",
    "import gezi\n",
    "from gezi import tqdm\n",
    "from gezi.metrics.image.semantic_seg import Evaluator\n",
    "import melt as mt\n",
    "from gseg.dataset import Dataset\n",
    "from gseg.loss import get_loss_fn\n",
    "from gseg.metrics import get_metrics\n",
    "from gseg import util"
   ]
  },
  {
   "cell_type": "code",
   "execution_count": 3,
   "metadata": {},
   "outputs": [],
   "source": [
    "model_path = '../working/v9/bread.DeeplabV3Plus.EfficientNetB4.size288/model.h5'\n",
    "model_path = '/home/featurize/work/naicseg/v9/sm.Unet.EfficientNetB4.augl4.size288.mrate1.200epoch.1115/model.h5'\n",
    "model = mt.load_model(model_path)"
   ]
  },
  {
   "cell_type": "code",
   "execution_count": 4,
   "metadata": {},
   "outputs": [
    {
     "name": "stdout",
     "output_type": "stream",
     "text": [
      "Model: \"sm.Unet_EfficientNetB4\"\n",
      "__________________________________________________________________________________________________\n",
      "Layer (type)                    Output Shape         Param #     Connected to                     \n",
      "==================================================================================================\n",
      "image (InputLayer)              [(None, 256, 256, 3) 0                                            \n",
      "__________________________________________________________________________________________________\n",
      "tf_op_layer_ResizeBilinear (Ten (None, 288, 288, 3)  0           image[0][0]                      \n",
      "__________________________________________________________________________________________________\n",
      "tf_op_layer_Reshape (TensorFlow (None, 288, 288, 3)  0           tf_op_layer_ResizeBilinear[0][0] \n",
      "__________________________________________________________________________________________________\n",
      "tf_op_layer_RealDiv (TensorFlow (None, 288, 288, 3)  0           tf_op_layer_Reshape[0][0]        \n",
      "__________________________________________________________________________________________________\n",
      "tf_op_layer_BiasAdd (TensorFlow (None, 288, 288, 3)  0           tf_op_layer_RealDiv[0][0]        \n",
      "__________________________________________________________________________________________________\n",
      "tf_op_layer_RealDiv_1 (TensorFl (None, 288, 288, 3)  0           tf_op_layer_BiasAdd[0][0]        \n",
      "__________________________________________________________________________________________________\n",
      "tf_op_layer_ReverseV2 (TensorFl (None, 288, 288, 3)  0           tf_op_layer_RealDiv_1[0][0]      \n",
      "__________________________________________________________________________________________________\n",
      "tf_op_layer_ReverseV2_1 (Tensor (None, 288, 288, 3)  0           tf_op_layer_RealDiv_1[0][0]      \n",
      "__________________________________________________________________________________________________\n",
      "sm-unet-efficientnetb4 (Functio [(None, 288, 288, 15 23092895    tf_op_layer_RealDiv_1[0][0]      \n",
      "                                                                 tf_op_layer_ReverseV2[0][0]      \n",
      "                                                                 tf_op_layer_ReverseV2_1[0][0]    \n",
      "__________________________________________________________________________________________________\n",
      "global_average_pooling2d (Globa (None, 1792)         0           sm-unet-efficientnetb4[0][1]     \n",
      "                                                                 sm-unet-efficientnetb4[1][1]     \n",
      "                                                                 sm-unet-efficientnetb4[2][1]     \n",
      "__________________________________________________________________________________________________\n",
      "dense (Dense)                   (None, 15)           26895       global_average_pooling2d[0][0]   \n",
      "                                                                 global_average_pooling2d[1][0]   \n",
      "                                                                 global_average_pooling2d[2][0]   \n",
      "__________________________________________________________________________________________________\n",
      "tf_op_layer_Sigmoid_1 (TensorFl (None, 15)           0           dense[1][0]                      \n",
      "__________________________________________________________________________________________________\n",
      "tf_op_layer_Sigmoid_2 (TensorFl (None, 15)           0           dense[2][0]                      \n",
      "__________________________________________________________________________________________________\n",
      "tf_op_layer_Sigmoid (TensorFlow (None, 15)           0           dense[0][0]                      \n",
      "__________________________________________________________________________________________________\n",
      "tf_op_layer_Greater_1 (TensorFl (None, 15)           0           tf_op_layer_Sigmoid_1[0][0]      \n",
      "__________________________________________________________________________________________________\n",
      "tf_op_layer_Greater_2 (TensorFl (None, 15)           0           tf_op_layer_Sigmoid_2[0][0]      \n",
      "__________________________________________________________________________________________________\n",
      "tf_op_layer_Greater (TensorFlow (None, 15)           0           tf_op_layer_Sigmoid[0][0]        \n",
      "__________________________________________________________________________________________________\n",
      "tf_op_layer_Cast_1 (TensorFlowO (None, 15)           0           tf_op_layer_Greater_1[0][0]      \n",
      "__________________________________________________________________________________________________\n",
      "tf_op_layer_Cast_2 (TensorFlowO (None, 15)           0           tf_op_layer_Greater_2[0][0]      \n",
      "__________________________________________________________________________________________________\n",
      "tf_op_layer_Cast (TensorFlowOpL (None, 15)           0           tf_op_layer_Greater[0][0]        \n",
      "__________________________________________________________________________________________________\n",
      "tf_op_layer_strided_slice_1 (Te (None, 1, 1, 15)     0           tf_op_layer_Cast_1[0][0]         \n",
      "__________________________________________________________________________________________________\n",
      "tf_op_layer_strided_slice_2 (Te (None, 1, 1, 15)     0           tf_op_layer_Cast_2[0][0]         \n",
      "__________________________________________________________________________________________________\n",
      "tf_op_layer_strided_slice (Tens (None, 1, 1, 15)     0           tf_op_layer_Cast[0][0]           \n",
      "__________________________________________________________________________________________________\n",
      "tf_op_layer_Mul_1 (TensorFlowOp (None, 288, 288, 15) 0           sm-unet-efficientnetb4[1][0]     \n",
      "                                                                 tf_op_layer_strided_slice_1[0][0]\n",
      "__________________________________________________________________________________________________\n",
      "tf_op_layer_Mul_2 (TensorFlowOp (None, 288, 288, 15) 0           sm-unet-efficientnetb4[2][0]     \n",
      "                                                                 tf_op_layer_strided_slice_2[0][0]\n",
      "__________________________________________________________________________________________________\n",
      "tf_op_layer_Mul (TensorFlowOpLa (None, 288, 288, 15) 0           sm-unet-efficientnetb4[0][0]     \n",
      "                                                                 tf_op_layer_strided_slice[0][0]  \n",
      "__________________________________________________________________________________________________\n",
      "tf_op_layer_ReverseV2_2 (Tensor (None, 288, 288, 15) 0           tf_op_layer_Mul_1[0][0]          \n",
      "__________________________________________________________________________________________________\n",
      "tf_op_layer_ReverseV2_3 (Tensor (None, 288, 288, 15) 0           tf_op_layer_Mul_2[0][0]          \n",
      "__________________________________________________________________________________________________\n",
      "tf_op_layer_stack (TensorFlowOp (None, 3, 288, 288,  0           tf_op_layer_Mul[0][0]            \n",
      "                                                                 tf_op_layer_ReverseV2_2[0][0]    \n",
      "                                                                 tf_op_layer_ReverseV2_3[0][0]    \n",
      "__________________________________________________________________________________________________\n",
      "tf_op_layer_Mean (TensorFlowOpL (None, 288, 288, 15) 0           tf_op_layer_stack[0][0]          \n",
      "__________________________________________________________________________________________________\n",
      "tf_op_layer_ResizeBilinear_1 (T (None, 256, 256, 15) 0           tf_op_layer_Mean[0][0]           \n",
      "__________________________________________________________________________________________________\n",
      "tf_op_layer_Reshape_1 (TensorFl (None, 256, 256, 15) 0           tf_op_layer_ResizeBilinear_1[0][0\n",
      "==================================================================================================\n",
      "Total params: 23,119,790\n",
      "Trainable params: 22,993,598\n",
      "Non-trainable params: 126,192\n",
      "__________________________________________________________________________________________________\n"
     ]
    }
   ],
   "source": [
    "model.summary()"
   ]
  },
  {
   "cell_type": "code",
   "execution_count": 5,
   "metadata": {},
   "outputs": [],
   "source": [
    "mt.init_flags()\n",
    "FLAGS = mt.get_flags()\n",
    "FLAGS.batch_parse = False"
   ]
  },
  {
   "cell_type": "code",
   "execution_count": 6,
   "metadata": {},
   "outputs": [],
   "source": [
    "batch_size = 32\n",
    "mt.set_global('batch_size', batch_size) # loss fn used / mt.batch_size()\n",
    "eval_files = gezi.list_files('../input/quarter/tfrecords/train/1/*')\n",
    "eval_dataset = Dataset('valid').make_batch(batch_size, eval_files)"
   ]
  },
  {
   "cell_type": "code",
   "execution_count": 7,
   "metadata": {},
   "outputs": [
    {
     "data": {
      "application/vnd.jupyter.widget-view+json": {
       "model_id": "",
       "version_major": 2,
       "version_minor": 0
      },
      "text/plain": [
       "HBox(children=(HTML(value='get_num_records'), FloatProgress(value=0.0, max=3.0), HTML(value='')))"
      ]
     },
     "metadata": {},
     "output_type": "display_data"
    }
   ],
   "source": [
    "steps = -(-mt.get_num_records(eval_files) // batch_size)"
   ]
  },
  {
   "cell_type": "code",
   "execution_count": 8,
   "metadata": {},
   "outputs": [],
   "source": [
    "CLASSES = ['water', 'track_road', 'build', 'track_airport', 'other_park', 'other_playground', 'arable_natural', 'arable_greenhouse',\n",
    "            'grass_natural', 'grass_greenbelt', 'forest_natural', 'forest_planted', 'bare_natural', 'bare_planted', 'other_other']\n",
    "FLAGS.NUM_CLASSES = len(CLASSES) # metrics need this\n",
    "# class_weights = [1.] * len(CLASSES)\n",
    "# class_weights[-1] = 1.45\n",
    "# gezi.set('CLASS_WEIGHTS', class_weights)"
   ]
  },
  {
   "cell_type": "code",
   "execution_count": 9,
   "metadata": {},
   "outputs": [],
   "source": [
    "loss_fn = get_loss_fn()\n",
    "metrics = get_metrics()"
   ]
  },
  {
   "cell_type": "code",
   "execution_count": 10,
   "metadata": {},
   "outputs": [],
   "source": [
    "model.compile('sgd', loss_fn, metrics=metrics)"
   ]
  },
  {
   "cell_type": "code",
   "execution_count": 11,
   "metadata": {},
   "outputs": [
    {
     "name": "stdout",
     "output_type": "stream",
     "text": [
<<<<<<< HEAD
      "313/313 [==============================] - 128s 409ms/step - loss: 0.4615 - FWIoU: 0.7677 - MIoU: 0.7009 - ACC/pixel: 0.8659 - ACC/class: 0.7914\n"
=======
      "313/313 [==============================] - 237s 548ms/step - loss: 0.4581 - FWIoU: 0.7684 - MIoU: 0.7228 - ACC/pixel: 0.8663 - ACC/class: 0.7905\n"
>>>>>>> 462af94e4b75d7021d6da7ffc528529ec7671138
     ]
    },
    {
     "data": {
      "text/plain": [
<<<<<<< HEAD
       "[0.46154457330703735,\n",
       " 0.7676964998245239,\n",
       " 0.7008565664291382,\n",
       " 0.8659042716026306,\n",
       " 0.7913837432861328]"
=======
       "[0.4616478383541107,\n",
       " 0.7676939368247986,\n",
       " 0.7008837461471558,\n",
       " 0.8659031391143799,\n",
       " 0.7913824915885925]"
>>>>>>> 462af94e4b75d7021d6da7ffc528529ec7671138
      ]
     },
     "execution_count": 11,
     "metadata": {},
     "output_type": "execute_result"
    }
   ],
   "source": [
    "model.evaluate(eval_dataset, steps=steps)"
   ]
  },
  {
   "cell_type": "code",
<<<<<<< HEAD
   "execution_count": 12,
=======
   "execution_count": 13,
>>>>>>> 462af94e4b75d7021d6da7ffc528529ec7671138
   "metadata": {},
   "outputs": [
    {
     "name": "stdout",
     "output_type": "stream",
     "text": [
<<<<<<< HEAD
      "water                |true:0.0273 pred:0.0273 acc:0.8765 recall:0.8772 iou:0.7807 fwiou:0.9102|\n",
=======
      "water                |true:0.0273 pred:0.0273 acc:0.8764 recall:0.8772 iou:0.7806 fwiou:0.9102|\n",
>>>>>>> 462af94e4b75d7021d6da7ffc528529ec7671138
      "track_road           |true:0.0767 pred:0.0758 acc:0.8927 recall:0.8822 iou:0.7976 fwiou:0.7671|\n",
      "build                |true:0.1212 pred:0.1243 acc:0.9135 recall:0.9368 iou:0.8604 fwiou:0.7462|\n",
      "track_airport        |true:0.0001 pred:0.0000 acc:nan recall:0.0000 iou:0.0000 fwiou:0.9991|\n",
      "other_park           |true:0.0665 pred:0.0660 acc:0.9284 recall:0.9222 iou:0.8609 fwiou:0.8613|\n",
<<<<<<< HEAD
      "other_playground     |true:0.0033 pred:0.0030 acc:0.9403 recall:0.8760 iou:0.8298 fwiou:0.9917|\n",
=======
      "other_playground     |true:0.0033 pred:0.0030 acc:0.9409 recall:0.8760 iou:0.8303 fwiou:0.9917|\n",
>>>>>>> 462af94e4b75d7021d6da7ffc528529ec7671138
      "arable_natural       |true:0.2266 pred:0.2315 acc:0.9061 recall:0.9259 iou:0.8449 fwiou:0.4728|\n",
      "arable_greenhouse    |true:0.0129 pred:0.0130 acc:0.8754 recall:0.8791 iou:0.7813 fwiou:0.9577|\n",
      "grass_natural        |true:0.1275 pred:0.1251 acc:0.7851 recall:0.7702 iou:0.6361 fwiou:0.3040|\n",
      "grass_greenbelt      |true:0.0245 pred:0.0245 acc:0.8571 recall:0.8561 iou:0.7491 fwiou:0.9078|\n",
      "forest_natural       |true:0.1564 pred:0.1584 acc:0.8429 recall:0.8537 iou:0.7365 fwiou:0.3818|\n",
<<<<<<< HEAD
      "forest_planted       |true:0.0726 pred:0.0701 acc:0.7830 recall:0.7561 iou:0.6251 fwiou:0.5915|\n",
=======
      "forest_planted       |true:0.0726 pred:0.0701 acc:0.7830 recall:0.7560 iou:0.6251 fwiou:0.5915|\n",
>>>>>>> 462af94e4b75d7021d6da7ffc528529ec7671138
      "bare_natural         |true:0.0497 pred:0.0480 acc:0.8986 recall:0.8667 iou:0.7895 fwiou:0.8429|\n",
      "bare_planted         |true:0.0113 pred:0.0107 acc:0.8472 recall:0.8002 iou:0.6993 fwiou:0.9489|\n",
      "other_other          |true:0.0233 pred:0.0222 acc:0.7037 recall:0.6685 iou:0.5216 fwiou:0.8325|\n"
     ]
    }
   ],
   "source": [
    "cm = mt.distributed.sum_merge(metrics[0].get_cm())\n",
    "infos = util.get_infos_from_cm(cm, CLASSES)"
   ]
  },
  {
   "cell_type": "code",
<<<<<<< HEAD
   "execution_count": 13,
=======
   "execution_count": 14,
>>>>>>> 462af94e4b75d7021d6da7ffc528529ec7671138
   "metadata": {},
   "outputs": [
    {
     "data": {
      "text/plain": [
<<<<<<< HEAD
       "{'loss': 0.056116983294487,\n",
       " 'FWIoU': 0.31030941009521484,\n",
       " 'MIoU': 0.31075385212898254,\n",
       " 'ACC/pixel': 0.42388916015625,\n",
       " 'ACC/class': 0.20816953480243683}"
      ]
     },
     "execution_count": 13,
=======
       "{'loss': 0.004517556168138981,\n",
       " 'FWIoU': 0.9174063801765442,\n",
       " 'MIoU': 0.9038747549057007,\n",
       " 'ACC/pixel': 0.957000732421875,\n",
       " 'ACC/class': 0.3126445710659027}"
      ]
     },
     "execution_count": 14,
>>>>>>> 462af94e4b75d7021d6da7ffc528529ec7671138
     "metadata": {},
     "output_type": "execute_result"
    }
   ],
   "source": [
    "eval_dataset = Dataset('valid').make_batch(1, eval_files)\n",
    "x, y = next(iter(eval_dataset))\n",
    "model.evaluate(x, y, steps=1, verbose=0, return_dict=True)"
   ]
  },
  {
   "cell_type": "code",
<<<<<<< HEAD
   "execution_count": 14,
=======
   "execution_count": 15,
>>>>>>> 462af94e4b75d7021d6da7ffc528529ec7671138
   "metadata": {},
   "outputs": [
    {
     "data": {
      "text/plain": [
       "34382"
      ]
     },
<<<<<<< HEAD
     "execution_count": 14,
=======
     "execution_count": 15,
>>>>>>> 462af94e4b75d7021d6da7ffc528529ec7671138
     "metadata": {},
     "output_type": "execute_result"
    }
   ],
   "source": [
    "x['id'][0][0].numpy()"
   ]
  },
  {
   "cell_type": "code",
<<<<<<< HEAD
   "execution_count": 15,
=======
   "execution_count": 16,
>>>>>>> 462af94e4b75d7021d6da7ffc528529ec7671138
   "metadata": {},
   "outputs": [
    {
     "data": {
      "application/vnd.jupyter.widget-view+json": {
       "model_id": "",
       "version_major": 2,
       "version_minor": 0
      },
      "text/plain": [
       "HBox(children=(HTML(value='get_num_records'), FloatProgress(value=0.0, max=3.0), HTML(value='')))"
      ]
     },
     "metadata": {},
     "output_type": "display_data"
    },
    {
     "data": {
      "application/vnd.jupyter.widget-view+json": {
<<<<<<< HEAD
       "model_id": "e2651173a40f4b289980f4f3b2d35421",
=======
       "model_id": "e9565c5b7d6b402cbe6765f7599ae5dd",
>>>>>>> 462af94e4b75d7021d6da7ffc528529ec7671138
       "version_major": 2,
       "version_minor": 0
      },
      "text/plain": [
       "HBox(children=(HTML(value=''), FloatProgress(value=0.0, max=10000.0), HTML(value='')))"
      ]
     },
     "metadata": {},
     "output_type": "display_data"
    },
    {
     "name": "stdout",
     "output_type": "stream",
     "text": [
      "\n"
     ]
    }
   ],
   "source": [
    "l = []\n",
    "for x, y in tqdm(eval_dataset, total=mt.get_num_records(eval_files)):\n",
    "  res = model.evaluate(x, y, steps=1, verbose=0, return_dict=True)\n",
    "  res['id'] = x['id'][0][0].numpy()\n",
    "  l.append(res)"
   ]
  },
  {
   "cell_type": "code",
<<<<<<< HEAD
   "execution_count": 16,
=======
   "execution_count": 17,
>>>>>>> 462af94e4b75d7021d6da7ffc528529ec7671138
   "metadata": {},
   "outputs": [],
   "source": [
    "df = pd.DataFrame(l)"
   ]
  },
  {
   "cell_type": "code",
<<<<<<< HEAD
   "execution_count": 17,
=======
   "execution_count": 18,
>>>>>>> 462af94e4b75d7021d6da7ffc528529ec7671138
   "metadata": {},
   "outputs": [
    {
     "data": {
      "text/html": [
       "<div>\n",
       "<style scoped>\n",
       "    .dataframe tbody tr th:only-of-type {\n",
       "        vertical-align: middle;\n",
       "    }\n",
       "\n",
       "    .dataframe tbody tr th {\n",
       "        vertical-align: top;\n",
       "    }\n",
       "\n",
       "    .dataframe thead th {\n",
       "        text-align: right;\n",
       "    }\n",
       "</style>\n",
       "<table border=\"1\" class=\"dataframe\">\n",
       "  <thead>\n",
       "    <tr style=\"text-align: right;\">\n",
       "      <th></th>\n",
       "      <th>loss</th>\n",
       "      <th>FWIoU</th>\n",
       "      <th>MIoU</th>\n",
       "      <th>ACC/pixel</th>\n",
       "      <th>ACC/class</th>\n",
       "      <th>id</th>\n",
       "    </tr>\n",
       "  </thead>\n",
       "  <tbody>\n",
       "    <tr>\n",
       "      <th>0</th>\n",
<<<<<<< HEAD
       "      <td>0.056117</td>\n",
       "      <td>0.310309</td>\n",
       "      <td>0.310754</td>\n",
       "      <td>0.423889</td>\n",
       "      <td>0.208170</td>\n",
       "      <td>82441</td>\n",
       "    </tr>\n",
       "    <tr>\n",
       "      <th>1</th>\n",
       "      <td>0.002941</td>\n",
       "      <td>0.964635</td>\n",
       "      <td>0.931503</td>\n",
       "      <td>0.981247</td>\n",
       "      <td>0.259499</td>\n",
       "      <td>1760</td>\n",
       "    </tr>\n",
       "    <tr>\n",
       "      <th>2</th>\n",
       "      <td>0.018136</td>\n",
       "      <td>0.751284</td>\n",
       "      <td>0.266505</td>\n",
       "      <td>0.818726</td>\n",
       "      <td>0.100999</td>\n",
       "      <td>83283</td>\n",
       "    </tr>\n",
       "    <tr>\n",
       "      <th>3</th>\n",
       "      <td>0.022844</td>\n",
       "      <td>0.704151</td>\n",
       "      <td>0.452757</td>\n",
       "      <td>0.803329</td>\n",
       "      <td>0.257433</td>\n",
       "      <td>50601</td>\n",
       "    </tr>\n",
       "    <tr>\n",
       "      <th>4</th>\n",
       "      <td>0.012368</td>\n",
       "      <td>0.780455</td>\n",
       "      <td>0.690642</td>\n",
       "      <td>0.850891</td>\n",
       "      <td>0.290629</td>\n",
       "      <td>12918</td>\n",
=======
       "      <td>0.004518</td>\n",
       "      <td>0.917406</td>\n",
       "      <td>0.903875</td>\n",
       "      <td>0.957001</td>\n",
       "      <td>0.312645</td>\n",
       "      <td>34382</td>\n",
       "    </tr>\n",
       "    <tr>\n",
       "      <th>1</th>\n",
       "      <td>0.008197</td>\n",
       "      <td>0.872149</td>\n",
       "      <td>0.553350</td>\n",
       "      <td>0.919708</td>\n",
       "      <td>0.381920</td>\n",
       "      <td>70477</td>\n",
       "    </tr>\n",
       "    <tr>\n",
       "      <th>2</th>\n",
       "      <td>0.019956</td>\n",
       "      <td>0.659200</td>\n",
       "      <td>0.360020</td>\n",
       "      <td>0.782089</td>\n",
       "      <td>0.208225</td>\n",
       "      <td>57425</td>\n",
       "    </tr>\n",
       "    <tr>\n",
       "      <th>3</th>\n",
       "      <td>0.005318</td>\n",
       "      <td>0.903181</td>\n",
       "      <td>0.748722</td>\n",
       "      <td>0.949219</td>\n",
       "      <td>0.259416</td>\n",
       "      <td>12983</td>\n",
       "    </tr>\n",
       "    <tr>\n",
       "      <th>4</th>\n",
       "      <td>0.006203</td>\n",
       "      <td>0.884657</td>\n",
       "      <td>0.742785</td>\n",
       "      <td>0.937561</td>\n",
       "      <td>0.266507</td>\n",
       "      <td>42621</td>\n",
>>>>>>> 462af94e4b75d7021d6da7ffc528529ec7671138
       "    </tr>\n",
       "    <tr>\n",
       "      <th>...</th>\n",
       "      <td>...</td>\n",
       "      <td>...</td>\n",
       "      <td>...</td>\n",
       "      <td>...</td>\n",
       "      <td>...</td>\n",
       "      <td>...</td>\n",
       "    </tr>\n",
       "    <tr>\n",
       "      <th>9995</th>\n",
<<<<<<< HEAD
       "      <td>0.021576</td>\n",
       "      <td>0.593409</td>\n",
       "      <td>0.344832</td>\n",
       "      <td>0.743164</td>\n",
       "      <td>0.143940</td>\n",
       "      <td>99315</td>\n",
       "    </tr>\n",
       "    <tr>\n",
       "      <th>9996</th>\n",
       "      <td>0.025206</td>\n",
       "      <td>0.571243</td>\n",
       "      <td>0.390190</td>\n",
       "      <td>0.713989</td>\n",
       "      <td>0.258893</td>\n",
       "      <td>66205</td>\n",
       "    </tr>\n",
       "    <tr>\n",
       "      <th>9997</th>\n",
       "      <td>0.022884</td>\n",
       "      <td>0.643546</td>\n",
       "      <td>0.424294</td>\n",
       "      <td>0.771591</td>\n",
       "      <td>0.310246</td>\n",
       "      <td>70516</td>\n",
       "    </tr>\n",
       "    <tr>\n",
       "      <th>9998</th>\n",
       "      <td>0.007054</td>\n",
       "      <td>0.903057</td>\n",
       "      <td>0.310870</td>\n",
       "      <td>0.942123</td>\n",
       "      <td>0.144751</td>\n",
       "      <td>92379</td>\n",
       "    </tr>\n",
       "    <tr>\n",
       "      <th>9999</th>\n",
       "      <td>0.026320</td>\n",
       "      <td>0.733344</td>\n",
       "      <td>0.689860</td>\n",
       "      <td>0.855789</td>\n",
       "      <td>0.199134</td>\n",
       "      <td>47656</td>\n",
=======
       "      <td>0.002214</td>\n",
       "      <td>0.981447</td>\n",
       "      <td>0.965372</td>\n",
       "      <td>0.990631</td>\n",
       "      <td>0.195321</td>\n",
       "      <td>23141</td>\n",
       "    </tr>\n",
       "    <tr>\n",
       "      <th>9996</th>\n",
       "      <td>0.003774</td>\n",
       "      <td>0.941865</td>\n",
       "      <td>0.937651</td>\n",
       "      <td>0.969833</td>\n",
       "      <td>0.321759</td>\n",
       "      <td>8621</td>\n",
       "    </tr>\n",
       "    <tr>\n",
       "      <th>9997</th>\n",
       "      <td>0.005888</td>\n",
       "      <td>0.910188</td>\n",
       "      <td>0.810003</td>\n",
       "      <td>0.948364</td>\n",
       "      <td>0.238132</td>\n",
       "      <td>10248</td>\n",
       "    </tr>\n",
       "    <tr>\n",
       "      <th>9998</th>\n",
       "      <td>0.009956</td>\n",
       "      <td>0.823134</td>\n",
       "      <td>0.539206</td>\n",
       "      <td>0.898438</td>\n",
       "      <td>0.358289</td>\n",
       "      <td>63288</td>\n",
       "    </tr>\n",
       "    <tr>\n",
       "      <th>9999</th>\n",
       "      <td>0.033543</td>\n",
       "      <td>0.529774</td>\n",
       "      <td>0.393623</td>\n",
       "      <td>0.642075</td>\n",
       "      <td>0.240882</td>\n",
       "      <td>53083</td>\n",
>>>>>>> 462af94e4b75d7021d6da7ffc528529ec7671138
       "    </tr>\n",
       "  </tbody>\n",
       "</table>\n",
       "<p>10000 rows × 6 columns</p>\n",
       "</div>"
      ],
      "text/plain": [
       "          loss     FWIoU      MIoU  ACC/pixel  ACC/class     id\n",
<<<<<<< HEAD
       "0     0.056117  0.310309  0.310754   0.423889   0.208170  82441\n",
       "1     0.002941  0.964635  0.931503   0.981247   0.259499   1760\n",
       "2     0.018136  0.751284  0.266505   0.818726   0.100999  83283\n",
       "3     0.022844  0.704151  0.452757   0.803329   0.257433  50601\n",
       "4     0.012368  0.780455  0.690642   0.850891   0.290629  12918\n",
       "...        ...       ...       ...        ...        ...    ...\n",
       "9995  0.021576  0.593409  0.344832   0.743164   0.143940  99315\n",
       "9996  0.025206  0.571243  0.390190   0.713989   0.258893  66205\n",
       "9997  0.022884  0.643546  0.424294   0.771591   0.310246  70516\n",
       "9998  0.007054  0.903057  0.310870   0.942123   0.144751  92379\n",
       "9999  0.026320  0.733344  0.689860   0.855789   0.199134  47656\n",
=======
       "0     0.004518  0.917406  0.903875   0.957001   0.312645  34382\n",
       "1     0.008197  0.872149  0.553350   0.919708   0.381920  70477\n",
       "2     0.019956  0.659200  0.360020   0.782089   0.208225  57425\n",
       "3     0.005318  0.903181  0.748722   0.949219   0.259416  12983\n",
       "4     0.006203  0.884657  0.742785   0.937561   0.266507  42621\n",
       "...        ...       ...       ...        ...        ...    ...\n",
       "9995  0.002214  0.981447  0.965372   0.990631   0.195321  23141\n",
       "9996  0.003774  0.941865  0.937651   0.969833   0.321759   8621\n",
       "9997  0.005888  0.910188  0.810003   0.948364   0.238132  10248\n",
       "9998  0.009956  0.823134  0.539206   0.898438   0.358289  63288\n",
       "9999  0.033543  0.529774  0.393623   0.642075   0.240882  53083\n",
>>>>>>> 462af94e4b75d7021d6da7ffc528529ec7671138
       "\n",
       "[10000 rows x 6 columns]"
      ]
     },
<<<<<<< HEAD
     "execution_count": 17,
=======
     "execution_count": 18,
>>>>>>> 462af94e4b75d7021d6da7ffc528529ec7671138
     "metadata": {},
     "output_type": "execute_result"
    }
   ],
   "source": [
    "df"
   ]
  },
  {
   "cell_type": "code",
   "execution_count": 18,
   "metadata": {},
   "outputs": [
    {
     "data": {
      "text/html": [
       "<div>\n",
       "<style scoped>\n",
       "    .dataframe tbody tr th:only-of-type {\n",
       "        vertical-align: middle;\n",
       "    }\n",
       "\n",
       "    .dataframe tbody tr th {\n",
       "        vertical-align: top;\n",
       "    }\n",
       "\n",
       "    .dataframe thead th {\n",
       "        text-align: right;\n",
       "    }\n",
       "</style>\n",
       "<table border=\"1\" class=\"dataframe\">\n",
       "  <thead>\n",
       "    <tr style=\"text-align: right;\">\n",
       "      <th></th>\n",
       "      <th>loss</th>\n",
       "      <th>FWIoU</th>\n",
       "      <th>MIoU</th>\n",
       "      <th>ACC/pixel</th>\n",
       "      <th>ACC/class</th>\n",
       "      <th>id</th>\n",
       "    </tr>\n",
       "  </thead>\n",
       "  <tbody>\n",
       "    <tr>\n",
       "      <th>7835</th>\n",
       "      <td>0.177798</td>\n",
       "      <td>0.001213</td>\n",
       "      <td>0.072250</td>\n",
       "      <td>0.003357</td>\n",
       "      <td>0.066667</td>\n",
       "      <td>16368</td>\n",
       "    </tr>\n",
       "    <tr>\n",
       "      <th>7186</th>\n",
       "      <td>0.177525</td>\n",
       "      <td>0.007797</td>\n",
       "      <td>0.200000</td>\n",
       "      <td>0.007797</td>\n",
       "      <td>0.066667</td>\n",
       "      <td>18030</td>\n",
       "    </tr>\n",
       "    <tr>\n",
       "      <th>7044</th>\n",
       "      <td>0.177345</td>\n",
       "      <td>0.007797</td>\n",
       "      <td>0.200000</td>\n",
       "      <td>0.007797</td>\n",
       "      <td>0.066667</td>\n",
       "      <td>5473</td>\n",
       "    </tr>\n",
       "    <tr>\n",
       "      <th>2623</th>\n",
       "      <td>0.177316</td>\n",
       "      <td>0.007797</td>\n",
       "      <td>0.200000</td>\n",
       "      <td>0.007797</td>\n",
       "      <td>0.066667</td>\n",
       "      <td>25343</td>\n",
       "    </tr>\n",
       "    <tr>\n",
       "      <th>790</th>\n",
       "      <td>0.177289</td>\n",
       "      <td>0.003909</td>\n",
       "      <td>0.200395</td>\n",
       "      <td>0.005371</td>\n",
       "      <td>0.133333</td>\n",
       "      <td>23858</td>\n",
       "    </tr>\n",
       "    <tr>\n",
       "      <th>...</th>\n",
       "      <td>...</td>\n",
       "      <td>...</td>\n",
       "      <td>...</td>\n",
       "      <td>...</td>\n",
       "      <td>...</td>\n",
       "      <td>...</td>\n",
       "    </tr>\n",
       "    <tr>\n",
       "      <th>2862</th>\n",
       "      <td>0.078892</td>\n",
       "      <td>0.363211</td>\n",
       "      <td>0.319668</td>\n",
       "      <td>0.416595</td>\n",
       "      <td>0.232981</td>\n",
       "      <td>53381</td>\n",
       "    </tr>\n",
       "    <tr>\n",
       "      <th>7253</th>\n",
       "      <td>0.077687</td>\n",
       "      <td>0.533815</td>\n",
       "      <td>0.182124</td>\n",
       "      <td>0.555130</td>\n",
       "      <td>0.063132</td>\n",
       "      <td>5578</td>\n",
       "    </tr>\n",
       "    <tr>\n",
       "      <th>3229</th>\n",
       "      <td>0.077085</td>\n",
       "      <td>0.311992</td>\n",
       "      <td>0.253438</td>\n",
       "      <td>0.342072</td>\n",
       "      <td>0.164237</td>\n",
       "      <td>88780</td>\n",
       "    </tr>\n",
       "    <tr>\n",
       "      <th>6494</th>\n",
       "      <td>0.076600</td>\n",
       "      <td>0.268036</td>\n",
       "      <td>0.151664</td>\n",
       "      <td>0.466446</td>\n",
       "      <td>0.111605</td>\n",
       "      <td>73992</td>\n",
       "    </tr>\n",
       "    <tr>\n",
       "      <th>1214</th>\n",
       "      <td>0.076327</td>\n",
       "      <td>0.009854</td>\n",
       "      <td>0.249371</td>\n",
       "      <td>0.009857</td>\n",
       "      <td>0.099749</td>\n",
       "      <td>43915</td>\n",
       "    </tr>\n",
       "  </tbody>\n",
       "</table>\n",
       "<p>100 rows × 6 columns</p>\n",
       "</div>"
      ],
      "text/plain": [
       "          loss     FWIoU      MIoU  ACC/pixel  ACC/class     id\n",
       "7835  0.177798  0.001213  0.072250   0.003357   0.066667  16368\n",
       "7186  0.177525  0.007797  0.200000   0.007797   0.066667  18030\n",
       "7044  0.177345  0.007797  0.200000   0.007797   0.066667   5473\n",
       "2623  0.177316  0.007797  0.200000   0.007797   0.066667  25343\n",
       "790   0.177289  0.003909  0.200395   0.005371   0.133333  23858\n",
       "...        ...       ...       ...        ...        ...    ...\n",
       "2862  0.078892  0.363211  0.319668   0.416595   0.232981  53381\n",
       "7253  0.077687  0.533815  0.182124   0.555130   0.063132   5578\n",
       "3229  0.077085  0.311992  0.253438   0.342072   0.164237  88780\n",
       "6494  0.076600  0.268036  0.151664   0.466446   0.111605  73992\n",
       "1214  0.076327  0.009854  0.249371   0.009857   0.099749  43915\n",
       "\n",
       "[100 rows x 6 columns]"
      ]
     },
     "execution_count": 18,
     "metadata": {},
     "output_type": "execute_result"
    }
   ],
   "source": [
    "df.sort_values('loss', ascending=False)[:100]"
   ]
  },
  {
   "cell_type": "code",
   "execution_count": null,
   "metadata": {},
   "outputs": [],
   "source": []
  }
 ],
 "metadata": {
  "kernelspec": {
   "display_name": "Python 3",
   "language": "python",
   "name": "python3"
  },
  "language_info": {
   "codemirror_mode": {
    "name": "ipython",
    "version": 3
   },
   "file_extension": ".py",
   "mimetype": "text/x-python",
   "name": "python",
   "nbconvert_exporter": "python",
   "pygments_lexer": "ipython3",
   "version": "3.7.4"
  }
 },
 "nbformat": 4,
 "nbformat_minor": 4
}
