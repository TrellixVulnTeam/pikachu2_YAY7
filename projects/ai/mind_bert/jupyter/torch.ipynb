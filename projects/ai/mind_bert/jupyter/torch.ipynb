{
 "cells": [
  {
   "cell_type": "code",
   "execution_count": 1,
   "metadata": {},
   "outputs": [
    {
     "name": "stdout",
     "output_type": "stream",
     "text": [
      "\n",
      "Traceback (most recent call last):\n",
      "  File \"pytorch-xla-env-setup.py\", line 112, in <module>\n",
      "    run_setup(args)\n",
      "  File \"pytorch-xla-env-setup.py\", line 83, in run_setup\n",
      "    tpu_ip = args.tpu_ip if args.tpu_ip else parse_env_tpu_ip()\n",
      "  File \"pytorch-xla-env-setup.py\", line 52, in parse_env_tpu_ip\n",
      "    m_tpu_ip = tpu_ip_regex.match(tpu_addr)\n",
      "TypeError: expected string or bytes-like object\n"
     ]
    }
   ],
   "source": [
    "!curl https://raw.githubusercontent.com/pytorch/xla/master/contrib/scripts/env-setup.py -o pytorch-xla-env-setup.py\n",
    "!python pytorch-xla-env-setup.py --apt-packages libomp5 libopenblas-dev"
   ]
  },
  {
   "cell_type": "code",
   "execution_count": null,
   "metadata": {},
   "outputs": [],
   "source": []
  }
 ],
 "metadata": {
  "kernelspec": {
   "display_name": "Python 3",
   "language": "python",
   "name": "python3"
  },
  "language_info": {
   "codemirror_mode": {
    "name": "ipython",
    "version": 3
   },
   "file_extension": ".py",
   "mimetype": "text/x-python",
   "name": "python",
   "nbconvert_exporter": "python",
   "pygments_lexer": "ipython3",
   "version": "3.6.8"
  }
 },
 "nbformat": 4,
 "nbformat_minor": 2
}
