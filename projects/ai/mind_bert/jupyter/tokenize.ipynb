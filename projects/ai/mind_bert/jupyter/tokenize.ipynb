{
 "cells": [
  {
   "cell_type": "code",
   "execution_count": 1,
   "metadata": {},
   "outputs": [
    {
     "name": "stderr",
     "output_type": "stream",
     "text": [
      "I0425 08:03:03.725290 140309710157632 file_utils.py:41] PyTorch version 1.4.0 available.\n",
      "I0425 08:03:06.240532 140309710157632 file_utils.py:57] TensorFlow version 2.1.0 available.\n",
      "I0425 08:03:06.634310 140309710157632 configuration_utils.py:281] loading configuration file ../input/tf-xlm-roberta-base/config.json\n",
      "I0425 08:03:06.635900 140309710157632 configuration_utils.py:319] Model config XLMRobertaConfig {\n",
      "  \"_num_labels\": 2,\n",
      "  \"architectures\": [\n",
      "    \"XLMRobertaForMaskedLM\"\n",
      "  ],\n",
      "  \"attention_probs_dropout_prob\": 0.1,\n",
      "  \"bad_words_ids\": null,\n",
      "  \"bos_token_id\": 0,\n",
      "  \"decoder_start_token_id\": null,\n",
      "  \"do_sample\": false,\n",
      "  \"early_stopping\": false,\n",
      "  \"eos_token_id\": 2,\n",
      "  \"finetuning_task\": null,\n",
      "  \"hidden_act\": \"gelu\",\n",
      "  \"hidden_dropout_prob\": 0.1,\n",
      "  \"hidden_size\": 768,\n",
      "  \"id2label\": {\n",
      "    \"0\": \"LABEL_0\",\n",
      "    \"1\": \"LABEL_1\"\n",
      "  },\n",
      "  \"initializer_range\": 0.02,\n",
      "  \"intermediate_size\": 3072,\n",
      "  \"is_decoder\": false,\n",
      "  \"is_encoder_decoder\": false,\n",
      "  \"label2id\": {\n",
      "    \"LABEL_0\": 0,\n",
      "    \"LABEL_1\": 1\n",
      "  },\n",
      "  \"layer_norm_eps\": 1e-05,\n",
      "  \"length_penalty\": 1.0,\n",
      "  \"max_length\": 20,\n",
      "  \"max_position_embeddings\": 514,\n",
      "  \"min_length\": 0,\n",
      "  \"model_type\": \"xlm-roberta\",\n",
      "  \"no_repeat_ngram_size\": 0,\n",
      "  \"num_attention_heads\": 12,\n",
      "  \"num_beams\": 1,\n",
      "  \"num_hidden_layers\": 12,\n",
      "  \"num_return_sequences\": 1,\n",
      "  \"output_attentions\": false,\n",
      "  \"output_hidden_states\": false,\n",
      "  \"output_past\": true,\n",
      "  \"pad_token_id\": 1,\n",
      "  \"prefix\": null,\n",
      "  \"pruned_heads\": {},\n",
      "  \"repetition_penalty\": 1.0,\n",
      "  \"task_specific_params\": null,\n",
      "  \"temperature\": 1.0,\n",
      "  \"top_k\": 50,\n",
      "  \"top_p\": 1.0,\n",
      "  \"torchscript\": false,\n",
      "  \"type_vocab_size\": 1,\n",
      "  \"use_bfloat16\": false,\n",
      "  \"vocab_size\": 250002\n",
      "}\n",
      "\n",
      "I0425 08:03:06.637174 140309710157632 tokenization_utils.py:420] Model name '../input/tf-xlm-roberta-base/' not found in model shortcut name list (xlm-roberta-base, xlm-roberta-large, xlm-roberta-large-finetuned-conll02-dutch, xlm-roberta-large-finetuned-conll02-spanish, xlm-roberta-large-finetuned-conll03-english, xlm-roberta-large-finetuned-conll03-german). Assuming '../input/tf-xlm-roberta-base/' is a path, a model identifier, or url to a directory containing tokenizer files.\n",
      "I0425 08:03:06.637867 140309710157632 tokenization_utils.py:449] Didn't find file ../input/tf-xlm-roberta-base/added_tokens.json. We won't load it.\n",
      "I0425 08:03:06.638686 140309710157632 tokenization_utils.py:502] loading file ../input/tf-xlm-roberta-base/sentencepiece.bpe.model\n",
      "I0425 08:03:06.639086 140309710157632 tokenization_utils.py:502] loading file None\n",
      "I0425 08:03:06.639520 140309710157632 tokenization_utils.py:502] loading file ../input/tf-xlm-roberta-base/special_tokens_map.json\n",
      "I0425 08:03:06.639934 140309710157632 tokenization_utils.py:502] loading file ../input/tf-xlm-roberta-base/tokenizer_config.json\n",
      "I0425 08:03:07.518799 140309710157632 tokenization_utils.py:663] Adding [src_toxic] to the vocabulary\n",
      "I0425 08:03:07.520075 140309710157632 tokenization_utils.py:663] Adding [src_unintented] to the vocabulary\n",
      "I0425 08:03:07.520643 140309710157632 tokenization_utils.py:663] Adding [src_validation] to the vocabulary\n",
      "I0425 08:03:07.521155 140309710157632 tokenization_utils.py:663] Adding [lang_unk] to the vocabulary\n",
      "I0425 08:03:07.521629 140309710157632 tokenization_utils.py:663] Adding [lang_en] to the vocabulary\n",
      "I0425 08:03:07.522099 140309710157632 tokenization_utils.py:663] Adding [lang_es] to the vocabulary\n",
      "I0425 08:03:07.522589 140309710157632 tokenization_utils.py:663] Adding [lang_it] to the vocabulary\n",
      "I0425 08:03:07.523085 140309710157632 tokenization_utils.py:663] Adding [lang_tr] to the vocabulary\n",
      "I0425 08:03:07.523549 140309710157632 tokenization_utils.py:663] Adding [lang_fr] to the vocabulary\n",
      "I0425 08:03:07.524012 140309710157632 tokenization_utils.py:663] Adding [lang_pt] to the vocabulary\n",
      "I0425 08:03:07.524456 140309710157632 tokenization_utils.py:663] Adding [lang_ru] to the vocabulary\n"
     ]
    },
    {
     "data": {
      "text/plain": [
       "('/tmp/new/sentencepiece.bpe.model',\n",
       " '/tmp/new/special_tokens_map.json',\n",
       " '/tmp/new/added_tokens.json')"
      ]
     },
     "execution_count": 1,
     "metadata": {},
     "output_type": "execute_result"
    }
   ],
   "source": [
    "import os\n",
    "from transformers import AutoTokenizer, AutoModel\n",
    "SPECIAL_TOKENS = [\"[src_toxic]\", \"[src_unintented]\", \"[src_validation]\", \n",
    "                  \"[lang_unk]\", \"[lang_en]\", \n",
    "                  \"[lang_es]\", \"[lang_it]\",\"[lang_tr]\",\n",
    "                  \"[lang_fr]\", \"[lang_pt]\", \"[lang_ru]\"]\n",
    "\n",
    "tokenizer = AutoTokenizer.from_pretrained('../input/tf-xlm-roberta-base/')\n",
    "# model = AutoModel.from_pretrained(\"../input/tf-xlm-roberta-base\", from_tf=True)\n",
    "tokenizer.add_tokens(SPECIAL_TOKENS)\n",
    "# model.resize_token_embeddings(len(tokenizer))\n",
    "\n",
    "#To save the tokenizer \n",
    "os.system('mkdir -p /tmp/new')\n",
    "tokenizer.save_pretrained('/tmp/new')"
   ]
  },
  {
   "cell_type": "code",
   "execution_count": null,
   "metadata": {},
   "outputs": [],
   "source": []
  },
  {
   "cell_type": "code",
   "execution_count": 2,
   "metadata": {},
   "outputs": [
    {
     "name": "stdout",
     "output_type": "stream",
     "text": [
      "config.json\t       sentencepiece.bpe.model\ttf_model.h5\r\n",
      "dataset-metadata.json  special_tokens_map.json\ttokenizer_config.json\r\n"
     ]
    }
   ],
   "source": [
    "!ls ../input/tf-xlm-roberta-base/"
   ]
  },
  {
   "cell_type": "code",
   "execution_count": 3,
   "metadata": {},
   "outputs": [
    {
     "name": "stdout",
     "output_type": "stream",
     "text": [
      "added_tokens.json\t special_tokens_map.json\r\n",
      "sentencepiece.bpe.model  tokenizer_config.json\r\n"
     ]
    }
   ],
   "source": [
    "!ls /tmp/new"
   ]
  },
  {
   "cell_type": "code",
   "execution_count": 4,
   "metadata": {},
   "outputs": [
    {
     "data": {
      "text/plain": [
       "['▁', '你好', '这个', '▁', '白', '痴']"
      ]
     },
     "execution_count": 4,
     "metadata": {},
     "output_type": "execute_result"
    }
   ],
   "source": [
    "tokenizer.tokenize('你好这个        白痴')"
   ]
  },
  {
   "cell_type": "code",
   "execution_count": 5,
   "metadata": {},
   "outputs": [
    {
     "data": {
      "text/plain": [
       "[0, 6, 124084, 2935, 3515, 146749, 2, 2, 6, 3029, 1906, 6986, 274, 2]"
      ]
     },
     "execution_count": 5,
     "metadata": {},
     "output_type": "execute_result"
    }
   ],
   "source": [
    "tokenizer.encode('你好这个白痴', '没有天理了')"
   ]
  },
  {
   "cell_type": "code",
   "execution_count": 6,
   "metadata": {},
   "outputs": [
    {
     "data": {
      "text/plain": [
       "{'input_ids': [0,\n",
       "  6,\n",
       "  124084,\n",
       "  2935,\n",
       "  3515,\n",
       "  146749,\n",
       "  2,\n",
       "  2,\n",
       "  6,\n",
       "  3029,\n",
       "  1906,\n",
       "  6986,\n",
       "  274,\n",
       "  2],\n",
       " 'attention_mask': [1, 1, 1, 1, 1, 1, 1, 1, 1, 1, 1, 1, 1, 1]}"
      ]
     },
     "execution_count": 6,
     "metadata": {},
     "output_type": "execute_result"
    }
   ],
   "source": [
    "tokenizer.encode_plus('你好这个白痴', '没有天理了')"
   ]
  },
  {
   "cell_type": "code",
   "execution_count": 7,
   "metadata": {},
   "outputs": [
    {
     "data": {
      "text/plain": [
       "{'input_ids': [0, 6, 124084, 2], 'attention_mask': [1, 1, 1, 1]}"
      ]
     },
     "execution_count": 7,
     "metadata": {},
     "output_type": "execute_result"
    }
   ],
   "source": [
    "tokenizer.encode_plus('你好这个白痴', max_length=4)"
   ]
  },
  {
   "cell_type": "code",
   "execution_count": 8,
   "metadata": {},
   "outputs": [],
   "source": [
    "sent = '你好这个白痴[lang_fr][lang_pt][lang_abc][lang_ru]'"
   ]
  },
  {
   "cell_type": "code",
   "execution_count": 9,
   "metadata": {},
   "outputs": [
    {
     "data": {
      "text/plain": [
       "['▁',\n",
       " '你好',\n",
       " '这个',\n",
       " '白',\n",
       " '痴',\n",
       " '[lang_fr]',\n",
       " '[lang_pt]',\n",
       " '▁[',\n",
       " 'lang',\n",
       " '_',\n",
       " 'ab',\n",
       " 'c',\n",
       " ']',\n",
       " '[lang_ru]']"
      ]
     },
     "execution_count": 9,
     "metadata": {},
     "output_type": "execute_result"
    }
   ],
   "source": [
    "tokenizer.tokenize(sent)"
   ]
  },
  {
   "cell_type": "code",
   "execution_count": 10,
   "metadata": {},
   "outputs": [],
   "source": [
    "x = tokenizer.encode_plus(sent)"
   ]
  },
  {
   "cell_type": "code",
   "execution_count": 11,
   "metadata": {},
   "outputs": [
    {
     "data": {
      "text/plain": [
       "[(0, '▁'),\n",
       " (6, '你好'),\n",
       " (124084, '这个'),\n",
       " (2935, '白'),\n",
       " (3515, '痴'),\n",
       " (146749, '[lang_fr]'),\n",
       " (250010, '[lang_pt]'),\n",
       " (250011, '▁['),\n",
       " (378, 'lang'),\n",
       " (3066, '_'),\n",
       " (454, 'ab'),\n",
       " (2055, 'c'),\n",
       " (238, ']'),\n",
       " (268, '[lang_ru]')]"
      ]
     },
     "execution_count": 11,
     "metadata": {},
     "output_type": "execute_result"
    }
   ],
   "source": [
    "list(zip(x['input_ids'], tokenizer.tokenize(sent)))"
   ]
  },
  {
   "cell_type": "code",
   "execution_count": 12,
   "metadata": {},
   "outputs": [
    {
     "data": {
      "text/plain": [
       "[(0, 'start'),\n",
       " (6, '▁'),\n",
       " (124084, '你好'),\n",
       " (2935, '这个'),\n",
       " (3515, '白'),\n",
       " (146749, '痴'),\n",
       " (250010, '[lang_fr]'),\n",
       " (250011, '[lang_pt]'),\n",
       " (378, '▁['),\n",
       " (3066, 'lang'),\n",
       " (454, '_'),\n",
       " (2055, 'ab'),\n",
       " (238, 'c'),\n",
       " (268, ']'),\n",
       " (250012, '[lang_ru]'),\n",
       " (2, 'end')]"
      ]
     },
     "execution_count": 12,
     "metadata": {},
     "output_type": "execute_result"
    }
   ],
   "source": [
    "def show(sent, sent2=None):\n",
    "  x = tokenizer.encode_plus(sent, sent2)\n",
    "  ids = x['input_ids']\n",
    "  words = tokenizer.tokenize(sent)\n",
    "  words = ['start', *words, 'end']\n",
    "  return list(zip(x['input_ids'], words))\n",
    "show(sent)"
   ]
  },
  {
   "cell_type": "code",
   "execution_count": 13,
   "metadata": {},
   "outputs": [
    {
     "data": {
      "text/plain": [
       "[(0, 'start'),\n",
       " (250012, '[lang_ru]'),\n",
       " (136, '▁and'),\n",
       " (250011, '[lang_pt]'),\n",
       " (83, '▁is'),\n",
       " (4127, '▁good'),\n",
       " (1284, '▁but'),\n",
       " (959, '▁not'),\n",
       " (378, '▁['),\n",
       " (3066, 'lang'),\n",
       " (454, '_'),\n",
       " (2055, 'ab'),\n",
       " (238, 'c'),\n",
       " (268, ']'),\n",
       " (2, 'end')]"
      ]
     },
     "execution_count": 13,
     "metadata": {},
     "output_type": "execute_result"
    }
   ],
   "source": [
    "show('[lang_ru] and [lang_pt] is good but not [lang_abc]', 'dalailama hundan')"
   ]
  },
  {
   "cell_type": "code",
   "execution_count": 14,
   "metadata": {},
   "outputs": [
    {
     "data": {
      "text/plain": [
       "[(0, 'start'),\n",
       " (115861, '▁Possi'),\n",
       " (38526, 'bly'),\n",
       " (51, '▁un'),\n",
       " (32087, 'free'),\n",
       " (22710, '▁Image'),\n",
       " (12, ':'),\n",
       " (4613, 'Ma'),\n",
       " (17750, 'tsu'),\n",
       " (17043, 'jun'),\n",
       " (100484, '▁shin'),\n",
       " (5, '.'),\n",
       " (25687, 'jpg'),\n",
       " (2, 'end')]"
      ]
     },
     "execution_count": 14,
     "metadata": {},
     "output_type": "execute_result"
    }
   ],
   "source": [
    "show('Possibly unfree Image:Matsujun shin.jpg')"
   ]
  },
  {
   "cell_type": "code",
   "execution_count": 15,
   "metadata": {},
   "outputs": [
    {
     "data": {
      "text/plain": [
       "[0,\n",
       " 1310,\n",
       " 5072,\n",
       " 63770,\n",
       " 103962,\n",
       " 132329,\n",
       " 694,\n",
       " 6760,\n",
       " 8670,\n",
       " 84228,\n",
       " 12,\n",
       " 47731,\n",
       " 5072,\n",
       " 63770,\n",
       " 1643,\n",
       " 2]"
      ]
     },
     "execution_count": 15,
     "metadata": {},
     "output_type": "execute_result"
    }
   ],
   "source": [
    "tokenizer.encode('Dersim İsyanı maddesinin Tartışma:Dersim İsyan', None)"
   ]
  },
  {
   "cell_type": "code",
   "execution_count": 18,
   "metadata": {},
   "outputs": [
    {
     "data": {
      "text/html": [
       "<div>\n",
       "<style scoped>\n",
       "    .dataframe tbody tr th:only-of-type {\n",
       "        vertical-align: middle;\n",
       "    }\n",
       "\n",
       "    .dataframe tbody tr th {\n",
       "        vertical-align: top;\n",
       "    }\n",
       "\n",
       "    .dataframe thead th {\n",
       "        text-align: right;\n",
       "    }\n",
       "</style>\n",
       "<table border=\"1\" class=\"dataframe\">\n",
       "  <thead>\n",
       "    <tr style=\"text-align: right;\">\n",
       "      <th></th>\n",
       "      <th>id</th>\n",
       "      <th>comment_text</th>\n",
       "      <th>lang</th>\n",
       "      <th>toxic</th>\n",
       "    </tr>\n",
       "  </thead>\n",
       "  <tbody>\n",
       "    <tr>\n",
       "      <th>0</th>\n",
       "      <td>0</td>\n",
       "      <td>Este usuario ni siquiera llega al rango de    ...</td>\n",
       "      <td>es</td>\n",
       "      <td>0</td>\n",
       "    </tr>\n",
       "    <tr>\n",
       "      <th>1</th>\n",
       "      <td>1</td>\n",
       "      <td>Il testo di questa voce pare esser scopiazzato...</td>\n",
       "      <td>it</td>\n",
       "      <td>0</td>\n",
       "    </tr>\n",
       "    <tr>\n",
       "      <th>2</th>\n",
       "      <td>2</td>\n",
       "      <td>Vale. Sólo expongo mi pasado. Todo tiempo pasa...</td>\n",
       "      <td>es</td>\n",
       "      <td>1</td>\n",
       "    </tr>\n",
       "    <tr>\n",
       "      <th>3</th>\n",
       "      <td>3</td>\n",
       "      <td>Bu maddenin alt başlığı olarak  uluslararası i...</td>\n",
       "      <td>tr</td>\n",
       "      <td>0</td>\n",
       "    </tr>\n",
       "    <tr>\n",
       "      <th>4</th>\n",
       "      <td>4</td>\n",
       "      <td>Belçika nın şehirlerinin yanında ilçe ve belde...</td>\n",
       "      <td>tr</td>\n",
       "      <td>0</td>\n",
       "    </tr>\n",
       "  </tbody>\n",
       "</table>\n",
       "</div>"
      ],
      "text/plain": [
       "   id                                       comment_text lang  toxic\n",
       "0   0  Este usuario ni siquiera llega al rango de    ...   es      0\n",
       "1   1  Il testo di questa voce pare esser scopiazzato...   it      0\n",
       "2   2  Vale. Sólo expongo mi pasado. Todo tiempo pasa...   es      1\n",
       "3   3  Bu maddenin alt başlığı olarak  uluslararası i...   tr      0\n",
       "4   4  Belçika nın şehirlerinin yanında ilçe ve belde...   tr      0"
      ]
     },
     "execution_count": 18,
     "metadata": {},
     "output_type": "execute_result"
    }
   ],
   "source": [
    "import pandas as pd\n",
    "dv = pd.read_csv('../input/jigsaw-multilingual-toxic-comment-classification/validation.csv')\n",
    "dv.head()"
   ]
  },
  {
   "cell_type": "code",
   "execution_count": null,
   "metadata": {},
   "outputs": [],
   "source": [
    "tokenizer.encode_plus(dv[dv.id==3385].comment_text.values[0])"
   ]
  },
  {
   "cell_type": "code",
   "execution_count": null,
   "metadata": {},
   "outputs": [],
   "source": [
    "dv[dv.id==1940]"
   ]
  },
  {
   "cell_type": "code",
   "execution_count": 19,
   "metadata": {},
   "outputs": [
    {
     "data": {
      "text/html": [
       "<div>\n",
       "<style scoped>\n",
       "    .dataframe tbody tr th:only-of-type {\n",
       "        vertical-align: middle;\n",
       "    }\n",
       "\n",
       "    .dataframe tbody tr th {\n",
       "        vertical-align: top;\n",
       "    }\n",
       "\n",
       "    .dataframe thead th {\n",
       "        text-align: right;\n",
       "    }\n",
       "</style>\n",
       "<table border=\"1\" class=\"dataframe\">\n",
       "  <thead>\n",
       "    <tr style=\"text-align: right;\">\n",
       "      <th></th>\n",
       "      <th>id</th>\n",
       "      <th>comment_text</th>\n",
       "      <th>lang</th>\n",
       "      <th>toxic</th>\n",
       "    </tr>\n",
       "  </thead>\n",
       "  <tbody>\n",
       "    <tr>\n",
       "      <th>929</th>\n",
       "      <td>929</td>\n",
       "      <td>E poi mi accusi di vandalismo?? sei il primo c...</td>\n",
       "      <td>it</td>\n",
       "      <td>1</td>\n",
       "    </tr>\n",
       "  </tbody>\n",
       "</table>\n",
       "</div>"
      ],
      "text/plain": [
       "      id                                       comment_text lang  toxic\n",
       "929  929  E poi mi accusi di vandalismo?? sei il primo c...   it      1"
      ]
     },
     "execution_count": 19,
     "metadata": {},
     "output_type": "execute_result"
    }
   ],
   "source": [
    "dv[dv.id==929]"
   ]
  },
  {
   "cell_type": "code",
   "execution_count": 20,
   "metadata": {},
   "outputs": [
    {
     "data": {
      "text/html": [
       "<div>\n",
       "<style scoped>\n",
       "    .dataframe tbody tr th:only-of-type {\n",
       "        vertical-align: middle;\n",
       "    }\n",
       "\n",
       "    .dataframe tbody tr th {\n",
       "        vertical-align: top;\n",
       "    }\n",
       "\n",
       "    .dataframe thead th {\n",
       "        text-align: right;\n",
       "    }\n",
       "</style>\n",
       "<table border=\"1\" class=\"dataframe\">\n",
       "  <thead>\n",
       "    <tr style=\"text-align: right;\">\n",
       "      <th></th>\n",
       "      <th>id</th>\n",
       "      <th>comment_text</th>\n",
       "      <th>translated</th>\n",
       "      <th>lang</th>\n",
       "      <th>toxic</th>\n",
       "    </tr>\n",
       "  </thead>\n",
       "  <tbody>\n",
       "    <tr>\n",
       "      <th>0</th>\n",
       "      <td>0</td>\n",
       "      <td>Este usuario ni siquiera llega al rango de    ...</td>\n",
       "      <td>This user does not even make it to the rank of...</td>\n",
       "      <td>es</td>\n",
       "      <td>0</td>\n",
       "    </tr>\n",
       "    <tr>\n",
       "      <th>1</th>\n",
       "      <td>1</td>\n",
       "      <td>Il testo di questa voce pare esser scopiazzato...</td>\n",
       "      <td>The text of this entry appears to be like I di...</td>\n",
       "      <td>it</td>\n",
       "      <td>0</td>\n",
       "    </tr>\n",
       "    <tr>\n",
       "      <th>2</th>\n",
       "      <td>2</td>\n",
       "      <td>Vale. Sólo expongo mi pasado. Todo tiempo pasa...</td>\n",
       "      <td>It is worth it. Only expose my past. All time ...</td>\n",
       "      <td>es</td>\n",
       "      <td>1</td>\n",
       "    </tr>\n",
       "    <tr>\n",
       "      <th>3</th>\n",
       "      <td>3</td>\n",
       "      <td>Bu maddenin alt başlığı olarak  uluslararası i...</td>\n",
       "      <td>Of this article as a sub-heading with maintain...</td>\n",
       "      <td>tr</td>\n",
       "      <td>0</td>\n",
       "    </tr>\n",
       "    <tr>\n",
       "      <th>4</th>\n",
       "      <td>4</td>\n",
       "      <td>Belçika nın şehirlerinin yanında ilçe ve belde...</td>\n",
       "      <td>I guess while they're At of the city, district...</td>\n",
       "      <td>tr</td>\n",
       "      <td>0</td>\n",
       "    </tr>\n",
       "    <tr>\n",
       "      <th>...</th>\n",
       "      <td>...</td>\n",
       "      <td>...</td>\n",
       "      <td>...</td>\n",
       "      <td>...</td>\n",
       "      <td>...</td>\n",
       "    </tr>\n",
       "    <tr>\n",
       "      <th>7995</th>\n",
       "      <td>7995</td>\n",
       "      <td>Il fatto è che la pagina dei personaggi minor...</td>\n",
       "      <td>The fact is that the page of minor characters...</td>\n",
       "      <td>it</td>\n",
       "      <td>0</td>\n",
       "    </tr>\n",
       "    <tr>\n",
       "      <th>7996</th>\n",
       "      <td>7996</td>\n",
       "      <td>El imbesil ete dela luna no se entera ni ostia...</td>\n",
       "      <td>The imbesil tee of the moon does not know nor ...</td>\n",
       "      <td>es</td>\n",
       "      <td>1</td>\n",
       "    </tr>\n",
       "    <tr>\n",
       "      <th>7997</th>\n",
       "      <td>7997</td>\n",
       "      <td>olum sız manyakmısınz siz adam sıze sanal yıld...</td>\n",
       "      <td>Death Stars you the man you got it I don't kno...</td>\n",
       "      <td>tr</td>\n",
       "      <td>1</td>\n",
       "    </tr>\n",
       "    <tr>\n",
       "      <th>7998</th>\n",
       "      <td>7998</td>\n",
       "      <td>El mapa del reinado de Alhaken esta ligerament...</td>\n",
       "      <td>The map of the reign of Alhaken this slightly ...</td>\n",
       "      <td>es</td>\n",
       "      <td>0</td>\n",
       "    </tr>\n",
       "    <tr>\n",
       "      <th>7999</th>\n",
       "      <td>7999</td>\n",
       "      <td>lasciami la tua email per favore. ad ogni modo...</td>\n",
       "      <td>let me have your email please. anyway, if you ...</td>\n",
       "      <td>it</td>\n",
       "      <td>0</td>\n",
       "    </tr>\n",
       "  </tbody>\n",
       "</table>\n",
       "<p>8000 rows × 5 columns</p>\n",
       "</div>"
      ],
      "text/plain": [
       "        id                                       comment_text  \\\n",
       "0        0  Este usuario ni siquiera llega al rango de    ...   \n",
       "1        1  Il testo di questa voce pare esser scopiazzato...   \n",
       "2        2  Vale. Sólo expongo mi pasado. Todo tiempo pasa...   \n",
       "3        3  Bu maddenin alt başlığı olarak  uluslararası i...   \n",
       "4        4  Belçika nın şehirlerinin yanında ilçe ve belde...   \n",
       "...    ...                                                ...   \n",
       "7995  7995   Il fatto è che la pagina dei personaggi minor...   \n",
       "7996  7996  El imbesil ete dela luna no se entera ni ostia...   \n",
       "7997  7997  olum sız manyakmısınz siz adam sıze sanal yıld...   \n",
       "7998  7998  El mapa del reinado de Alhaken esta ligerament...   \n",
       "7999  7999  lasciami la tua email per favore. ad ogni modo...   \n",
       "\n",
       "                                             translated lang  toxic  \n",
       "0     This user does not even make it to the rank of...   es      0  \n",
       "1     The text of this entry appears to be like I di...   it      0  \n",
       "2     It is worth it. Only expose my past. All time ...   es      1  \n",
       "3     Of this article as a sub-heading with maintain...   tr      0  \n",
       "4     I guess while they're At of the city, district...   tr      0  \n",
       "...                                                 ...  ...    ...  \n",
       "7995   The fact is that the page of minor characters...   it      0  \n",
       "7996  The imbesil tee of the moon does not know nor ...   es      1  \n",
       "7997  Death Stars you the man you got it I don't kno...   tr      1  \n",
       "7998  The map of the reign of Alhaken this slightly ...   es      0  \n",
       "7999  let me have your email please. anyway, if you ...   it      0  \n",
       "\n",
       "[8000 rows x 5 columns]"
      ]
     },
     "execution_count": 20,
     "metadata": {},
     "output_type": "execute_result"
    }
   ],
   "source": [
    "dv2 = pd.read_csv('../input/jigsaw-multilingual-toxic-comment-classification/translate/validation-en.csv')\n",
    "dv2"
   ]
  },
  {
   "cell_type": "code",
   "execution_count": 27,
   "metadata": {},
   "outputs": [
    {
     "data": {
      "text/plain": [
       "'E poi mi accusi di vandalismo?? sei il primo che annulli le modifiche senza dare tempo agli altri utenti... Francesco Valentini (msg) '"
      ]
     },
     "execution_count": 27,
     "metadata": {},
     "output_type": "execute_result"
    }
   ],
   "source": [
    "dv2[dv2.id==929].comment_text.values[0]"
   ]
  },
  {
   "cell_type": "code",
   "execution_count": 28,
   "metadata": {},
   "outputs": [
    {
     "data": {
      "text/plain": [
       "'And then I accuse of vandalism?? you are the first one that you undo the changes without giving time to other users..., Francesco Valentini (msg) '"
      ]
     },
     "execution_count": 28,
     "metadata": {},
     "output_type": "execute_result"
    }
   ],
   "source": [
    "dv2[dv2.id==929].translated.values[0]"
   ]
  },
  {
   "cell_type": "code",
   "execution_count": 29,
   "metadata": {},
   "outputs": [
    {
     "data": {
      "text/html": [
       "<div>\n",
       "<style scoped>\n",
       "    .dataframe tbody tr th:only-of-type {\n",
       "        vertical-align: middle;\n",
       "    }\n",
       "\n",
       "    .dataframe tbody tr th {\n",
       "        vertical-align: top;\n",
       "    }\n",
       "\n",
       "    .dataframe thead th {\n",
       "        text-align: right;\n",
       "    }\n",
       "</style>\n",
       "<table border=\"1\" class=\"dataframe\">\n",
       "  <thead>\n",
       "    <tr style=\"text-align: right;\">\n",
       "      <th></th>\n",
       "      <th>id</th>\n",
       "      <th>content</th>\n",
       "      <th>lang</th>\n",
       "      <th>translated</th>\n",
       "    </tr>\n",
       "  </thead>\n",
       "  <tbody>\n",
       "    <tr>\n",
       "      <th>0</th>\n",
       "      <td>0</td>\n",
       "      <td>Doctor Who adlı viki başlığına 12. doctor olar...</td>\n",
       "      <td>tr</td>\n",
       "      <td>Title named Doctor Who wiki 12. doctor has add...</td>\n",
       "    </tr>\n",
       "    <tr>\n",
       "      <th>1</th>\n",
       "      <td>1</td>\n",
       "      <td>Вполне возможно, но я пока не вижу необходимо...</td>\n",
       "      <td>ru</td>\n",
       "      <td>It is possible, but I don't see the need to a...</td>\n",
       "    </tr>\n",
       "    <tr>\n",
       "      <th>2</th>\n",
       "      <td>2</td>\n",
       "      <td>Quindi tu sei uno di quelli   conservativi  , ...</td>\n",
       "      <td>it</td>\n",
       "      <td>Then you're one of those conservative , who wo...</td>\n",
       "    </tr>\n",
       "    <tr>\n",
       "      <th>3</th>\n",
       "      <td>3</td>\n",
       "      <td>Malesef gerçekleştirilmedi ancak şöyle bir şey...</td>\n",
       "      <td>tr</td>\n",
       "      <td>Unfortunately, it was not performed, but had s...</td>\n",
       "    </tr>\n",
       "    <tr>\n",
       "      <th>4</th>\n",
       "      <td>4</td>\n",
       "      <td>:Resim:Seldabagcan.jpg resminde kaynak sorunu ...</td>\n",
       "      <td>tr</td>\n",
       "      <td>:Resim:Seldabagcan.jpg the image of the source...</td>\n",
       "    </tr>\n",
       "    <tr>\n",
       "      <th>...</th>\n",
       "      <td>...</td>\n",
       "      <td>...</td>\n",
       "      <td>...</td>\n",
       "      <td>...</td>\n",
       "    </tr>\n",
       "    <tr>\n",
       "      <th>63807</th>\n",
       "      <td>63807</td>\n",
       "      <td>No, non risponderò, come preannunciato. Prefer...</td>\n",
       "      <td>it</td>\n",
       "      <td>No, I will not answer, as predicted. I prefer ...</td>\n",
       "    </tr>\n",
       "    <tr>\n",
       "      <th>63808</th>\n",
       "      <td>63808</td>\n",
       "      <td>Ciao, I tecnici della Wikimedia Foundation sta...</td>\n",
       "      <td>it</td>\n",
       "      <td>Hello, the technicians of The Wikimedia Founda...</td>\n",
       "    </tr>\n",
       "    <tr>\n",
       "      <th>63809</th>\n",
       "      <td>63809</td>\n",
       "      <td>innnazitutto ti ringrazio per i ringraziamenti...</td>\n",
       "      <td>it</td>\n",
       "      <td>innnazitutto thank you for the thanks!! ) is o...</td>\n",
       "    </tr>\n",
       "    <tr>\n",
       "      <th>63810</th>\n",
       "      <td>63810</td>\n",
       "      <td>Kaç olumlu oy gerekiyor? Şu an 7 oldu.  Hayır...</td>\n",
       "      <td>tr</td>\n",
       "      <td>How many affirmative votes are required? It's...</td>\n",
       "    </tr>\n",
       "    <tr>\n",
       "      <th>63811</th>\n",
       "      <td>63811</td>\n",
       "      <td>Te pido disculpas. La verdad es que no me per...</td>\n",
       "      <td>es</td>\n",
       "      <td>I apologise. The truth is that I didn't notic...</td>\n",
       "    </tr>\n",
       "  </tbody>\n",
       "</table>\n",
       "<p>63812 rows × 4 columns</p>\n",
       "</div>"
      ],
      "text/plain": [
       "          id                                            content lang  \\\n",
       "0          0  Doctor Who adlı viki başlığına 12. doctor olar...   tr   \n",
       "1          1   Вполне возможно, но я пока не вижу необходимо...   ru   \n",
       "2          2  Quindi tu sei uno di quelli   conservativi  , ...   it   \n",
       "3          3  Malesef gerçekleştirilmedi ancak şöyle bir şey...   tr   \n",
       "4          4  :Resim:Seldabagcan.jpg resminde kaynak sorunu ...   tr   \n",
       "...      ...                                                ...  ...   \n",
       "63807  63807  No, non risponderò, come preannunciato. Prefer...   it   \n",
       "63808  63808  Ciao, I tecnici della Wikimedia Foundation sta...   it   \n",
       "63809  63809  innnazitutto ti ringrazio per i ringraziamenti...   it   \n",
       "63810  63810   Kaç olumlu oy gerekiyor? Şu an 7 oldu.  Hayır...   tr   \n",
       "63811  63811   Te pido disculpas. La verdad es que no me per...   es   \n",
       "\n",
       "                                              translated  \n",
       "0      Title named Doctor Who wiki 12. doctor has add...  \n",
       "1       It is possible, but I don't see the need to a...  \n",
       "2      Then you're one of those conservative , who wo...  \n",
       "3      Unfortunately, it was not performed, but had s...  \n",
       "4      :Resim:Seldabagcan.jpg the image of the source...  \n",
       "...                                                  ...  \n",
       "63807  No, I will not answer, as predicted. I prefer ...  \n",
       "63808  Hello, the technicians of The Wikimedia Founda...  \n",
       "63809  innnazitutto thank you for the thanks!! ) is o...  \n",
       "63810   How many affirmative votes are required? It's...  \n",
       "63811   I apologise. The truth is that I didn't notic...  \n",
       "\n",
       "[63812 rows x 4 columns]"
      ]
     },
     "execution_count": 29,
     "metadata": {},
     "output_type": "execute_result"
    }
   ],
   "source": [
    "dt = pd.read_csv('../input/jigsaw-multilingual-toxic-comment-classification/translate/test-en.csv')\n",
    "dt"
   ]
  },
  {
   "cell_type": "code",
   "execution_count": 31,
   "metadata": {},
   "outputs": [
    {
     "data": {
      "text/html": [
       "<div>\n",
       "<style scoped>\n",
       "    .dataframe tbody tr th:only-of-type {\n",
       "        vertical-align: middle;\n",
       "    }\n",
       "\n",
       "    .dataframe tbody tr th {\n",
       "        vertical-align: top;\n",
       "    }\n",
       "\n",
       "    .dataframe thead th {\n",
       "        text-align: right;\n",
       "    }\n",
       "</style>\n",
       "<table border=\"1\" class=\"dataframe\">\n",
       "  <thead>\n",
       "    <tr style=\"text-align: right;\">\n",
       "      <th></th>\n",
       "      <th>id</th>\n",
       "      <th>comment_text</th>\n",
       "      <th>lang</th>\n",
       "      <th>toxic</th>\n",
       "    </tr>\n",
       "  </thead>\n",
       "  <tbody>\n",
       "    <tr>\n",
       "      <th>1</th>\n",
       "      <td>1</td>\n",
       "      <td>Il testo di questa voce pare esser scopiazzato...</td>\n",
       "      <td>it</td>\n",
       "      <td>0</td>\n",
       "    </tr>\n",
       "    <tr>\n",
       "      <th>10</th>\n",
       "      <td>10</td>\n",
       "      <td>Ciao, in sintesi Ti dico questo, trovo sbaglia...</td>\n",
       "      <td>it</td>\n",
       "      <td>0</td>\n",
       "    </tr>\n",
       "    <tr>\n",
       "      <th>16</th>\n",
       "      <td>16</td>\n",
       "      <td>il buon senso non lo usate voi. siete voi i ve...</td>\n",
       "      <td>it</td>\n",
       "      <td>1</td>\n",
       "    </tr>\n",
       "    <tr>\n",
       "      <th>17</th>\n",
       "      <td>17</td>\n",
       "      <td>In riguardo a cio  che ho pubblicato e tu hai ...</td>\n",
       "      <td>it</td>\n",
       "      <td>1</td>\n",
       "    </tr>\n",
       "    <tr>\n",
       "      <th>19</th>\n",
       "      <td>19</td>\n",
       "      <td>Ma che cosa stai dicendo!??? Questa è la versi...</td>\n",
       "      <td>it</td>\n",
       "      <td>1</td>\n",
       "    </tr>\n",
       "    <tr>\n",
       "      <th>...</th>\n",
       "      <td>...</td>\n",
       "      <td>...</td>\n",
       "      <td>...</td>\n",
       "      <td>...</td>\n",
       "    </tr>\n",
       "    <tr>\n",
       "      <th>7985</th>\n",
       "      <td>7985</td>\n",
       "      <td>sbaglio a sei gia  stato caldamente invitato d...</td>\n",
       "      <td>it</td>\n",
       "      <td>0</td>\n",
       "    </tr>\n",
       "    <tr>\n",
       "      <th>7986</th>\n",
       "      <td>7986</td>\n",
       "      <td>Scusa se ho pensato ke fossi una femmina.... d...</td>\n",
       "      <td>it</td>\n",
       "      <td>1</td>\n",
       "    </tr>\n",
       "    <tr>\n",
       "      <th>7990</th>\n",
       "      <td>7990</td>\n",
       "      <td>Sei il primo che mi dice una cosa simile, e qu...</td>\n",
       "      <td>it</td>\n",
       "      <td>0</td>\n",
       "    </tr>\n",
       "    <tr>\n",
       "      <th>7995</th>\n",
       "      <td>7995</td>\n",
       "      <td>Il fatto è che la pagina dei personaggi minor...</td>\n",
       "      <td>it</td>\n",
       "      <td>0</td>\n",
       "    </tr>\n",
       "    <tr>\n",
       "      <th>7999</th>\n",
       "      <td>7999</td>\n",
       "      <td>lasciami la tua email per favore. ad ogni modo...</td>\n",
       "      <td>it</td>\n",
       "      <td>0</td>\n",
       "    </tr>\n",
       "  </tbody>\n",
       "</table>\n",
       "<p>2500 rows × 4 columns</p>\n",
       "</div>"
      ],
      "text/plain": [
       "        id                                       comment_text lang  toxic\n",
       "1        1  Il testo di questa voce pare esser scopiazzato...   it      0\n",
       "10      10  Ciao, in sintesi Ti dico questo, trovo sbaglia...   it      0\n",
       "16      16  il buon senso non lo usate voi. siete voi i ve...   it      1\n",
       "17      17  In riguardo a cio  che ho pubblicato e tu hai ...   it      1\n",
       "19      19  Ma che cosa stai dicendo!??? Questa è la versi...   it      1\n",
       "...    ...                                                ...  ...    ...\n",
       "7985  7985  sbaglio a sei gia  stato caldamente invitato d...   it      0\n",
       "7986  7986  Scusa se ho pensato ke fossi una femmina.... d...   it      1\n",
       "7990  7990  Sei il primo che mi dice una cosa simile, e qu...   it      0\n",
       "7995  7995   Il fatto è che la pagina dei personaggi minor...   it      0\n",
       "7999  7999  lasciami la tua email per favore. ad ogni modo...   it      0\n",
       "\n",
       "[2500 rows x 4 columns]"
      ]
     },
     "execution_count": 31,
     "metadata": {},
     "output_type": "execute_result"
    }
   ],
   "source": [
    "dv[dv.lang=='it']"
   ]
  },
  {
   "cell_type": "code",
   "execution_count": null,
   "metadata": {},
   "outputs": [],
   "source": []
  }
 ],
 "metadata": {
  "kernelspec": {
   "display_name": "Python 3",
   "language": "python",
   "name": "python3"
  },
  "language_info": {
   "codemirror_mode": {
    "name": "ipython",
    "version": 3
   },
   "file_extension": ".py",
   "mimetype": "text/x-python",
   "name": "python",
   "nbconvert_exporter": "python",
   "pygments_lexer": "ipython3",
   "version": "3.6.8"
  }
 },
 "nbformat": 4,
 "nbformat_minor": 2
}
