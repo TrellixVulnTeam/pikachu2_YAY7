{
 "cells": [
  {
   "cell_type": "code",
   "execution_count": 1,
   "metadata": {},
   "outputs": [],
   "source": [
    "import pandas as pd\n",
    "import sys, os, glob\n",
    "import gezi, melt\n",
    "import traceback\n",
    "from scipy.stats import rankdata\n",
    "import numpy as np\n",
    "from sklearn.preprocessing import minmax_scale\n",
    "import sys\n",
    "sys.path.append('../src')\n",
    "from evaluate import evaluate\n",
    "import sys\n",
    "from config import *\n",
    "import melt\n",
    "melt.init_flags()\n",
    "FLAGS = melt.get_flags()\n",
    "from gezi import tqdm"
   ]
  },
  {
   "cell_type": "code",
   "execution_count": 2,
   "metadata": {},
   "outputs": [],
   "source": [
    "dv = pd.read_csv('../input/jigsaw-multilingual-toxic-comment-classification/validation.csv')"
   ]
  },
  {
   "cell_type": "code",
   "execution_count": 3,
   "metadata": {},
   "outputs": [],
   "source": [
    "dt = pd.read_csv('../input/jigsaw-multilingual-toxic-comment-classification/test.csv')"
   ]
  },
  {
   "cell_type": "code",
   "execution_count": 4,
   "metadata": {},
   "outputs": [],
   "source": [
    "dve = pd.read_csv('../input/jigsaw-multilingual-toxic-comment-classification/translate/validation-en.csv')"
   ]
  },
  {
   "cell_type": "code",
   "execution_count": 5,
   "metadata": {},
   "outputs": [],
   "source": [
    "dte = pd.read_csv('../input/jigsaw-multilingual-toxic-comment-classification/translate/test-en.csv')"
   ]
  },
  {
   "cell_type": "code",
   "execution_count": 6,
   "metadata": {},
   "outputs": [
    {
     "data": {
      "text/plain": [
       "63812"
      ]
     },
     "execution_count": 6,
     "metadata": {},
     "output_type": "execute_result"
    }
   ],
   "source": [
    "len(dte)"
   ]
  },
  {
   "cell_type": "code",
   "execution_count": 7,
   "metadata": {},
   "outputs": [],
   "source": [
    "pd.set_option('display.max_colwidth', -1)"
   ]
  },
  {
   "cell_type": "code",
   "execution_count": 8,
   "metadata": {},
   "outputs": [
    {
     "data": {
      "text/html": [
       "<div>\n",
       "<style scoped>\n",
       "    .dataframe tbody tr th:only-of-type {\n",
       "        vertical-align: middle;\n",
       "    }\n",
       "\n",
       "    .dataframe tbody tr th {\n",
       "        vertical-align: top;\n",
       "    }\n",
       "\n",
       "    .dataframe thead th {\n",
       "        text-align: right;\n",
       "    }\n",
       "</style>\n",
       "<table border=\"1\" class=\"dataframe\">\n",
       "  <thead>\n",
       "    <tr style=\"text-align: right;\">\n",
       "      <th></th>\n",
       "      <th>id</th>\n",
       "      <th>comment_text</th>\n",
       "      <th>translated</th>\n",
       "      <th>lang</th>\n",
       "      <th>toxic</th>\n",
       "    </tr>\n",
       "  </thead>\n",
       "  <tbody>\n",
       "    <tr>\n",
       "      <th>0</th>\n",
       "      <td>0</td>\n",
       "      <td>Este usuario ni siquiera llega al rango de    hereje   . Por lo tanto debería ser quemado en la barbacoa para purificar su alma y nuestro aparato digestivo mediante su ingestión.    Skipe linkin 22px   Honor, valor, leltad.      17:48 13 mar 2008 (UTC)</td>\n",
       "      <td>This user does not even make it to the rank of heretic . It should therefore be burned in the barbecue to purify his soul and to our digestive system through ingestion. Skipe linkin 22px Honor, courage, leltad. 17:48 13 mar 2008 (UTC)</td>\n",
       "      <td>es</td>\n",
       "      <td>0</td>\n",
       "    </tr>\n",
       "    <tr>\n",
       "      <th>1</th>\n",
       "      <td>1</td>\n",
       "      <td>Il testo di questa voce pare esser scopiazzato direttamente da qui. Immagino possano esserci problemi di copyright, nel fare cio .</td>\n",
       "      <td>The text of this entry appears to be like I directly from here. I guess there may be copyright issues in doing this .</td>\n",
       "      <td>it</td>\n",
       "      <td>0</td>\n",
       "    </tr>\n",
       "  </tbody>\n",
       "</table>\n",
       "</div>"
      ],
      "text/plain": [
       "   id  \\\n",
       "0  0    \n",
       "1  1    \n",
       "\n",
       "                                                                                                                                                                                                                                                   comment_text  \\\n",
       "0  Este usuario ni siquiera llega al rango de    hereje   . Por lo tanto debería ser quemado en la barbacoa para purificar su alma y nuestro aparato digestivo mediante su ingestión.    Skipe linkin 22px   Honor, valor, leltad.      17:48 13 mar 2008 (UTC)   \n",
       "1  Il testo di questa voce pare esser scopiazzato direttamente da qui. Immagino possano esserci problemi di copyright, nel fare cio .                                                                                                                             \n",
       "\n",
       "                                                                                                                                                                                                                                   translated  \\\n",
       "0  This user does not even make it to the rank of heretic . It should therefore be burned in the barbecue to purify his soul and to our digestive system through ingestion. Skipe linkin 22px Honor, courage, leltad. 17:48 13 mar 2008 (UTC)   \n",
       "1  The text of this entry appears to be like I directly from here. I guess there may be copyright issues in doing this .                                                                                                                        \n",
       "\n",
       "  lang  toxic  \n",
       "0  es   0      \n",
       "1  it   0      "
      ]
     },
     "execution_count": 8,
     "metadata": {},
     "output_type": "execute_result"
    }
   ],
   "source": [
    "dve.head(2)"
   ]
  },
  {
   "cell_type": "code",
   "execution_count": 9,
   "metadata": {},
   "outputs": [
    {
     "name": "stdout",
     "output_type": "stream",
     "text": [
      "cv-toxic-mix\r\n",
      "cv-toxic-mix-bylang\r\n",
      "cv-toxic-mix-mdrop\r\n",
      "cv-toxic-mix-mdrop-bylang\r\n",
      "cv-toxic-multi-en-finetune-unint-large\r\n",
      "cv-toxic-multi-en-finetune-unint-large-bylang\r\n",
      "cv-toxic-multi-en-finetune-unint-large-mdrop\r\n",
      "cv-toxic-multi-en-finetune-unint-large-mdrop-bylang\r\n",
      "cv-toxic-multi-en-finetune-unint-large-mdrop-old\r\n",
      "cv-toxic-multi-en-finetune-unint-large-mdrop-old-bylang\r\n",
      "cv-toxic-multi-en-finetune-unint-large-old\r\n",
      "cv-toxic-multi-en-finetune-unint-large-old-bylang\r\n",
      "cv-toxic-unintended\r\n",
      "cv-toxic-unintended2\r\n",
      "cv-toxic-unintended-bylang\r\n",
      "debug\r\n",
      "debug0\r\n",
      "debug2\r\n",
      "test\r\n",
      "toxic-from-mix\r\n",
      "toxic-mix\r\n",
      "toxic-mix-unintended\r\n",
      "toxic-unintended\r\n"
     ]
    }
   ],
   "source": [
    "!ls ../working/exps/xlm/"
   ]
  },
  {
   "cell_type": "code",
   "execution_count": 10,
   "metadata": {},
   "outputs": [
    {
     "name": "stdout",
     "output_type": "stream",
     "text": [
      "common\t\t\t    cv-toxic-mix-pair-bylang\r\n",
      "cv-debug10\t\t    cv-toxic-multi-en-finetune-unint-large\r\n",
      "cv-debug10-bylang\t    cv-toxic-multi-en-finetune-unint-large-bylang\r\n",
      "cv-debug2\t\t    cv-toxic-multi-en-finetune-unint-large-mdrop\r\n",
      "cv-debug2-bylang\t    cv-toxic-multi-en-finetune-unint-large-mdrop-bylang\r\n",
      "cv-debug5\t\t    debug\r\n",
      "cv-debug5-bylang\t    debug3\r\n",
      "cv-debug8\t\t    debug4\r\n",
      "cv-debug8-bylang\t    debug6\r\n",
      "cv-debug9\t\t    debug6-bylang\r\n",
      "cv-debug9-bylang\t    test\r\n",
      "cv-toxic-mix-pair\t    toxic-mix-unintended\r\n",
      "cv-toxic-mix-pair2\t    toxic-mix-unintended2\r\n",
      "cv-toxic-mix-pair2-baylang  trans\r\n"
     ]
    }
   ],
   "source": [
    "!ls ../working/exps/xlm-pair/"
   ]
  },
  {
   "cell_type": "code",
   "execution_count": 11,
   "metadata": {},
   "outputs": [],
   "source": [
    "def read_valid(dir, merge=True):\n",
    "  if os.path.exists(f'{dir}/cv/valid.csv'):\n",
    "    dfs = []\n",
    "    df = pd.read_csv(f'{dir}/cv/valid.csv')\n",
    "  else:\n",
    "    dfs = [pd.read_csv(x) for x in glob.glob(f'{dir}/infos/valid_*.csv')]\n",
    "    df = pd.concat(dfs)\n",
    "  if merge:\n",
    "    df = pd.merge(df, dve, on='id')[['id', 'label', 'pred', 'translated', 'lang', 'comment_text']]\n",
    "  assert len(df) == len(dv), f'{len(df)} {len(dfs)}'\n",
    "  df = df.sort_values('id')\n",
    "  return df\n",
    "\n",
    "def eval(df, name):\n",
    "  if 'label' not in df.columns:\n",
    "    df.label = df.toxic\n",
    "  result = evaluate(df.label, df.pred, df)\n",
    "  result['name'] = name\n",
    "  return result\n",
    "  \n",
    "def show_metrics(dir):\n",
    "  name = '/'.join(dir.split('/')[-2:])\n",
    "  try:\n",
    "    df = read_valid(dir)\n",
    "    df['name'] = name\n",
    "    results = eval(df, name)\n",
    "    gezi.pprint(results)\n",
    "  except Exception:\n",
    "    traceback.print_exc()\n",
    "    pass\n",
    "  try:\n",
    "    df2 = read_valid(f'{dir}-bylang')\n",
    "    df2[name] = name\n",
    "    eval(df2, name + '-bylang')\n",
    "    results = eval(df2, name)\n",
    "    gezi.pprint(results)\n",
    "  except Exception:\n",
    "    pass\n",
    "  \n",
    "def read_valids(dir):\n",
    "  name = '/'.join(dir.split('/')[-2:])\n",
    "  df = read_valid(dir)\n",
    "  df['name'] = name\n",
    "  df2 = read_valid(f'{dir}-bylang')\n",
    "  df2[name] = name\n",
    "  return df, df2\n",
    "\n",
    "def read_test(dir):\n",
    "  if os.path.exists(f'{dir}/cv/submission.csv'):\n",
    "    dfs = []\n",
    "    df = pd.read_csv(f'{dir}/cv/submission.csv')\n",
    "  else:\n",
    "    dfs = [pd.read_csv(x) for x in glob.glob(f'{dir}/infos/test_*.csv')]\n",
    "    assert len(dfs) == 5\n",
    "    assert len(dfs) > 0, dir\n",
    "    df = pd.concat(dfs).groupby('id', as_index=False).mean()\n",
    "  \n",
    "  assert len(df) == len(dt), f'{len(df)} {len(dfs)}, {dir}'\n",
    "  df = pd.merge(df, dte, on='id')[['id', 'toxic', 'translated', 'lang', 'content']]\n",
    "  df = df.sort_values('id')\n",
    "  return df\n",
    "\n",
    "def read_tests(dir):\n",
    "  df = read_test(dir)\n",
    "  try:\n",
    "    df2 = read_test(f'{dir}-bylang')\n",
    "  except Exception:\n",
    "    df2 = None\n",
    "  return df, df2"
   ]
  },
  {
   "cell_type": "code",
   "execution_count": 12,
   "metadata": {},
   "outputs": [
    {
     "name": "stdout",
     "output_type": "stream",
     "text": [
      "\n",
      " +----------+-----------+----------+----------+----------+-------------------------------------------+\n",
      "|     loss |   auc/all |   auc/es |   auc/it |   auc/tr | name                                      |\n",
      "|----------+-----------+----------+----------+----------+-------------------------------------------|\n",
      "| 0.199247 |  0.947923 | 0.930354 | 0.914224 | 0.983888 | v2/cv-toxic-multi-en-finetune-unint-large |\n",
      "+----------+-----------+----------+----------+----------+-------------------------------------------+\n"
     ]
    }
   ],
   "source": [
    "show_metrics('../working/exps/v2/cv-toxic-multi-en-finetune-unint-large')"
   ]
  },
  {
   "cell_type": "code",
   "execution_count": 13,
   "metadata": {},
   "outputs": [
    {
     "name": "stdout",
     "output_type": "stream",
     "text": [
      "\n",
      " +----------+-----------+----------+----------+----------+--------------------------------------------+\n",
      "|     loss |   auc/all |   auc/es |   auc/it |   auc/tr | name                                       |\n",
      "|----------+-----------+----------+----------+----------+--------------------------------------------|\n",
      "| 0.283819 |  0.945901 | 0.922055 |  0.91382 | 0.984441 | xlm/cv-toxic-multi-en-finetune-unint-large |\n",
      "+----------+-----------+----------+----------+----------+--------------------------------------------+\n",
      "\n",
      " +----------+-----------+----------+----------+----------+--------------------------------------------+\n",
      "|     loss |   auc/all |   auc/es |   auc/it |   auc/tr | name                                       |\n",
      "|----------+-----------+----------+----------+----------+--------------------------------------------|\n",
      "| 0.337029 |  0.925148 | 0.919403 | 0.898642 | 0.980316 | xlm/cv-toxic-multi-en-finetune-unint-large |\n",
      "+----------+-----------+----------+----------+----------+--------------------------------------------+\n"
     ]
    }
   ],
   "source": [
    "show_metrics('../working/exps/xlm/cv-toxic-multi-en-finetune-unint-large')"
   ]
  },
  {
   "cell_type": "code",
   "execution_count": 14,
   "metadata": {},
   "outputs": [
    {
     "name": "stdout",
     "output_type": "stream",
     "text": [
      "\n",
      " +----------+-----------+----------+----------+----------+--------------------------------------------------+\n",
      "|     loss |   auc/all |   auc/es |   auc/it |   auc/tr | name                                             |\n",
      "|----------+-----------+----------+----------+----------+--------------------------------------------------|\n",
      "| 0.319622 |  0.946249 | 0.924262 | 0.914941 | 0.982102 | xlm/cv-toxic-multi-en-finetune-unint-large-mdrop |\n",
      "+----------+-----------+----------+----------+----------+--------------------------------------------------+\n",
      "\n",
      " +----------+-----------+----------+----------+----------+--------------------------------------------------+\n",
      "|     loss |   auc/all |   auc/es |   auc/it |   auc/tr | name                                             |\n",
      "|----------+-----------+----------+----------+----------+--------------------------------------------------|\n",
      "| 0.370718 |  0.924685 | 0.920327 | 0.892403 | 0.978834 | xlm/cv-toxic-multi-en-finetune-unint-large-mdrop |\n",
      "+----------+-----------+----------+----------+----------+--------------------------------------------------+\n"
     ]
    }
   ],
   "source": [
    "show_metrics('../working/exps/xlm/cv-toxic-multi-en-finetune-unint-large-mdrop')"
   ]
  },
  {
   "cell_type": "code",
   "execution_count": 15,
   "metadata": {},
   "outputs": [
    {
     "name": "stdout",
     "output_type": "stream",
     "text": [
      "model_0.h5  model_1.h5\tmodel_2.h5  tmp.h5  valid.csv\r\n"
     ]
    }
   ],
   "source": [
    "!ls ../working/exps/xlm/cv-toxic-multi-en-finetune-unint-large-mdrop-bylang/cv"
   ]
  },
  {
   "cell_type": "code",
   "execution_count": 16,
   "metadata": {
    "scrolled": true
   },
   "outputs": [
    {
     "name": "stdout",
     "output_type": "stream",
     "text": [
      "\n",
      " +----------+-----------+----------+----------+----------+------------------------------------------------+\n",
      "|     loss |   auc/all |   auc/es |   auc/it |   auc/tr | name                                           |\n",
      "|----------+-----------+----------+----------+----------+------------------------------------------------|\n",
      "| 0.278315 |  0.947813 | 0.925435 | 0.917774 | 0.983008 | xlm/cv-toxic-multi-en-finetune-unint-large-old |\n",
      "+----------+-----------+----------+----------+----------+------------------------------------------------+\n",
      "\n",
      " +----------+-----------+----------+----------+----------+------------------------------------------------+\n",
      "|     loss |   auc/all |   auc/es |   auc/it |   auc/tr | name                                           |\n",
      "|----------+-----------+----------+----------+----------+------------------------------------------------|\n",
      "| 0.348721 |   0.93071 | 0.923939 | 0.902529 | 0.978039 | xlm/cv-toxic-multi-en-finetune-unint-large-old |\n",
      "+----------+-----------+----------+----------+----------+------------------------------------------------+\n"
     ]
    }
   ],
   "source": [
    "show_metrics('../working/exps/xlm/cv-toxic-multi-en-finetune-unint-large-old')"
   ]
  },
  {
   "cell_type": "code",
   "execution_count": 17,
   "metadata": {},
   "outputs": [
    {
     "name": "stdout",
     "output_type": "stream",
     "text": [
      "\n",
      " +----------+-----------+----------+----------+----------+------------------------------------------------------+\n",
      "|     loss |   auc/all |   auc/es |   auc/it |   auc/tr | name                                                 |\n",
      "|----------+-----------+----------+----------+----------+------------------------------------------------------|\n",
      "| 0.278363 |  0.947218 | 0.924197 |  0.91568 | 0.983216 | xlm/cv-toxic-multi-en-finetune-unint-large-mdrop-old |\n",
      "+----------+-----------+----------+----------+----------+------------------------------------------------------+\n",
      "\n",
      " +----------+-----------+----------+----------+----------+------------------------------------------------------+\n",
      "|     loss |   auc/all |   auc/es |   auc/it |   auc/tr | name                                                 |\n",
      "|----------+-----------+----------+----------+----------+------------------------------------------------------|\n",
      "| 0.326821 |  0.932707 | 0.921836 | 0.907648 | 0.976035 | xlm/cv-toxic-multi-en-finetune-unint-large-mdrop-old |\n",
      "+----------+-----------+----------+----------+----------+------------------------------------------------------+\n"
     ]
    }
   ],
   "source": [
    "show_metrics('../working/exps/xlm/cv-toxic-multi-en-finetune-unint-large-mdrop-old')"
   ]
  },
  {
   "cell_type": "code",
   "execution_count": 18,
   "metadata": {},
   "outputs": [
    {
     "name": "stdout",
     "output_type": "stream",
     "text": [
      "\n",
      " +----------+-----------+----------+----------+----------+------------------+\n",
      "|     loss |   auc/all |   auc/es |   auc/it |   auc/tr | name             |\n",
      "|----------+-----------+----------+----------+----------+------------------|\n",
      "| 0.203307 |  0.948511 | 0.921323 |  0.91886 | 0.985599 | xlm/cv-toxic-mix |\n",
      "+----------+-----------+----------+----------+----------+------------------+\n",
      "\n",
      " +----------+-----------+----------+----------+----------+------------------+\n",
      "|     loss |   auc/all |   auc/es |   auc/it |   auc/tr | name             |\n",
      "|----------+-----------+----------+----------+----------+------------------|\n",
      "| 0.232598 |  0.933887 | 0.921439 |  0.90482 | 0.979651 | xlm/cv-toxic-mix |\n",
      "+----------+-----------+----------+----------+----------+------------------+\n"
     ]
    }
   ],
   "source": [
    "show_metrics('../working/exps/xlm/cv-toxic-mix')"
   ]
  },
  {
   "cell_type": "code",
   "execution_count": 19,
   "metadata": {},
   "outputs": [
    {
     "name": "stdout",
     "output_type": "stream",
     "text": [
      "\n",
      " +----------+-----------+----------+----------+----------+------------------------+\n",
      "|     loss |   auc/all |   auc/es |   auc/it |   auc/tr | name                   |\n",
      "|----------+-----------+----------+----------+----------+------------------------|\n",
      "| 0.218142 |  0.947161 | 0.918152 | 0.918964 | 0.984805 | xlm/cv-toxic-mix-mdrop |\n",
      "+----------+-----------+----------+----------+----------+------------------------+\n",
      "\n",
      " +----------+-----------+----------+----------+----------+------------------------+\n",
      "|     loss |   auc/all |   auc/es |   auc/it |   auc/tr | name                   |\n",
      "|----------+-----------+----------+----------+----------+------------------------|\n",
      "| 0.238537 |  0.936728 | 0.920485 | 0.904579 | 0.981473 | xlm/cv-toxic-mix-mdrop |\n",
      "+----------+-----------+----------+----------+----------+------------------------+\n"
     ]
    }
   ],
   "source": [
    "show_metrics('../working/exps/xlm/cv-toxic-mix-mdrop')"
   ]
  },
  {
   "cell_type": "code",
   "execution_count": 20,
   "metadata": {},
   "outputs": [
    {
     "name": "stdout",
     "output_type": "stream",
     "text": [
      "\n",
      " +----------+-----------+----------+----------+----------+--------------------+\n",
      "|     loss |   auc/all |   auc/es |   auc/it |   auc/tr | name               |\n",
      "|----------+-----------+----------+----------+----------+--------------------|\n",
      "| 0.209074 |  0.950267 | 0.927335 | 0.918267 | 0.985589 | xlm-pair/cv-debug2 |\n",
      "+----------+-----------+----------+----------+----------+--------------------+\n",
      "\n",
      " +---------+-----------+----------+----------+----------+--------------------+\n",
      "|    loss |   auc/all |   auc/es |   auc/it |   auc/tr | name               |\n",
      "|---------+-----------+----------+----------+----------+--------------------|\n",
      "| 0.25412 |  0.931811 |  0.92089 | 0.895111 | 0.982178 | xlm-pair/cv-debug2 |\n",
      "+---------+-----------+----------+----------+----------+--------------------+\n"
     ]
    }
   ],
   "source": [
    "show_metrics('../working/exps/xlm-pair/cv-debug2')"
   ]
  },
  {
   "cell_type": "code",
   "execution_count": 21,
   "metadata": {},
   "outputs": [
    {
     "name": "stdout",
     "output_type": "stream",
     "text": [
      "\n",
      " +----------+-----------+----------+----------+----------+--------------------+\n",
      "|     loss |   auc/all |   auc/es |   auc/it |   auc/tr | name               |\n",
      "|----------+-----------+----------+----------+----------+--------------------|\n",
      "| 0.219925 |  0.949793 | 0.926174 | 0.913599 |  0.98714 | xlm-pair/cv-debug5 |\n",
      "+----------+-----------+----------+----------+----------+--------------------+\n",
      "\n",
      " +----------+-----------+----------+----------+----------+--------------------+\n",
      "|     loss |   auc/all |   auc/es |   auc/it |   auc/tr | name               |\n",
      "|----------+-----------+----------+----------+----------+--------------------|\n",
      "| 0.276038 |  0.933002 | 0.920997 | 0.895653 | 0.983039 | xlm-pair/cv-debug5 |\n",
      "+----------+-----------+----------+----------+----------+--------------------+\n"
     ]
    }
   ],
   "source": [
    "show_metrics('../working/exps/xlm-pair/cv-debug5')"
   ]
  },
  {
   "cell_type": "code",
   "execution_count": 22,
   "metadata": {},
   "outputs": [
    {
     "name": "stdout",
     "output_type": "stream",
     "text": [
      "\n",
      " +----------+-----------+----------+----------+----------+--------------------+\n",
      "|     loss |   auc/all |   auc/es |   auc/it |   auc/tr | name               |\n",
      "|----------+-----------+----------+----------+----------+--------------------|\n",
      "| 0.220467 |   0.94815 |  0.92457 | 0.913488 | 0.985338 | xlm-pair/cv-debug8 |\n",
      "+----------+-----------+----------+----------+----------+--------------------+\n",
      "\n",
      " +----------+-----------+----------+----------+----------+--------------------+\n",
      "|     loss |   auc/all |   auc/es |   auc/it |   auc/tr | name               |\n",
      "|----------+-----------+----------+----------+----------+--------------------|\n",
      "| 0.281877 |  0.933433 |  0.92242 | 0.900973 | 0.984181 | xlm-pair/cv-debug8 |\n",
      "+----------+-----------+----------+----------+----------+--------------------+\n"
     ]
    }
   ],
   "source": [
    "show_metrics('../working/exps/xlm-pair/cv-debug8')"
   ]
  },
  {
   "cell_type": "code",
   "execution_count": 23,
   "metadata": {},
   "outputs": [
    {
     "name": "stdout",
     "output_type": "stream",
     "text": [
      "\n",
      " +----------+-----------+----------+----------+----------+----------------------------+\n",
      "|     loss |   auc/all |   auc/es |   auc/it |   auc/tr | name                       |\n",
      "|----------+-----------+----------+----------+----------+----------------------------|\n",
      "| 0.232719 |  0.942092 | 0.924325 | 0.897427 | 0.984806 | xlm-pair/cv-toxic-mix-pair |\n",
      "+----------+-----------+----------+----------+----------+----------------------------+\n",
      "\n",
      " +---------+-----------+----------+----------+----------+----------------------------+\n",
      "|    loss |   auc/all |   auc/es |   auc/it |   auc/tr | name                       |\n",
      "|---------+-----------+----------+----------+----------+----------------------------|\n",
      "| 0.26295 |  0.929914 | 0.922246 | 0.891644 | 0.983692 | xlm-pair/cv-toxic-mix-pair |\n",
      "+---------+-----------+----------+----------+----------+----------------------------+\n"
     ]
    }
   ],
   "source": [
    "show_metrics('../working/exps/xlm-pair/cv-toxic-mix-pair')"
   ]
  },
  {
   "cell_type": "code",
   "execution_count": 24,
   "metadata": {},
   "outputs": [
    {
     "name": "stdout",
     "output_type": "stream",
     "text": [
      "\n",
      " +----------+-----------+----------+----------+----------+-------------------------------------------------+\n",
      "|     loss |   auc/all |   auc/es |   auc/it |   auc/tr | name                                            |\n",
      "|----------+-----------+----------+----------+----------+-------------------------------------------------|\n",
      "| 0.329557 |  0.945107 | 0.914951 | 0.913141 | 0.986753 | xlm-pair/cv-toxic-multi-en-finetune-unint-large |\n",
      "+----------+-----------+----------+----------+----------+-------------------------------------------------+\n",
      "\n",
      " +----------+-----------+----------+----------+----------+-------------------------------------------------+\n",
      "|     loss |   auc/all |   auc/es |   auc/it |   auc/tr | name                                            |\n",
      "|----------+-----------+----------+----------+----------+-------------------------------------------------|\n",
      "| 0.390636 |  0.923868 |  0.91448 | 0.877189 | 0.980809 | xlm-pair/cv-toxic-multi-en-finetune-unint-large |\n",
      "+----------+-----------+----------+----------+----------+-------------------------------------------------+\n"
     ]
    }
   ],
   "source": [
    "show_metrics('../working/exps/xlm-pair/cv-toxic-multi-en-finetune-unint-large')"
   ]
  },
  {
   "cell_type": "code",
   "execution_count": 25,
   "metadata": {},
   "outputs": [
    {
     "name": "stdout",
     "output_type": "stream",
     "text": [
      "\n",
      " +----------+-----------+----------+----------+----------+-------------------------------------------------------+\n",
      "|     loss |   auc/all |   auc/es |   auc/it |   auc/tr | name                                                  |\n",
      "|----------+-----------+----------+----------+----------+-------------------------------------------------------|\n",
      "| 0.205271 |  0.949219 | 0.929535 | 0.917462 | 0.983653 | xlm-pair/cv-toxic-multi-en-finetune-unint-large-mdrop |\n",
      "+----------+-----------+----------+----------+----------+-------------------------------------------------------+\n",
      "\n",
      " +----------+-----------+----------+----------+----------+-------------------------------------------------------+\n",
      "|     loss |   auc/all |   auc/es |   auc/it |   auc/tr | name                                                  |\n",
      "|----------+-----------+----------+----------+----------+-------------------------------------------------------|\n",
      "| 0.243609 |  0.933947 | 0.928675 | 0.899381 | 0.980068 | xlm-pair/cv-toxic-multi-en-finetune-unint-large-mdrop |\n",
      "+----------+-----------+----------+----------+----------+-------------------------------------------------------+\n"
     ]
    }
   ],
   "source": [
    "show_metrics('../working/exps/xlm-pair/cv-toxic-multi-en-finetune-unint-large-mdrop')"
   ]
  },
  {
   "cell_type": "code",
   "execution_count": 26,
   "metadata": {},
   "outputs": [],
   "source": [
    "root = '../working/exps/'\n",
    "models = [\n",
    "  'xlm/cv-toxic-multi-en-finetune-unint-large-old',\n",
    "  'xlm/cv-toxic-multi-en-finetune-unint-large-mdrop-old',\n",
    "  'xlm/cv-toxic-mix',\n",
    "  'xlm/cv-toxic-mix-mdrop',\n",
    "  'xlm-pair/cv-debug8',\n",
    "  'xlm-pair/cv-debug5',\n",
    "]"
   ]
  },
  {
   "cell_type": "code",
   "execution_count": 27,
   "metadata": {},
   "outputs": [],
   "source": [
    "dfs, dfs2 = [], []\n",
    "for model in models:\n",
    "  df, df2 = read_valids(f'{root}/{model}')\n",
    "  dfs += [df]\n",
    "  dfs2 += [df2]"
   ]
  },
  {
   "cell_type": "code",
   "execution_count": 28,
   "metadata": {},
   "outputs": [
    {
     "name": "stdout",
     "output_type": "stream",
     "text": [
      "\n",
      " +----------+-----------+----------+----------+----------+\n",
      "|     loss |   auc/all |   auc/es |   auc/it |   auc/tr |\n",
      "|----------+-----------+----------+----------+----------|\n",
      "| 0.194386 |  0.954716 | 0.931297 |  0.92633 | 0.987796 |\n",
      "+----------+-----------+----------+----------+----------+\n"
     ]
    }
   ],
   "source": [
    "df = pd.concat(dfs).groupby('id', as_index=False).mean()\n",
    "df = pd.merge(df, dve, on='id')\n",
    "gezi.pprint(evaluate(df.toxic, df.pred, df))"
   ]
  },
  {
   "cell_type": "code",
   "execution_count": 29,
   "metadata": {},
   "outputs": [
    {
     "name": "stdout",
     "output_type": "stream",
     "text": [
      "\n",
      " +---------+-----------+----------+----------+----------+\n",
      "|    loss |   auc/all |   auc/es |   auc/it |   auc/tr |\n",
      "|---------+-----------+----------+----------+----------|\n",
      "| 0.23037 |  0.939336 | 0.928304 | 0.908048 | 0.983612 |\n",
      "+---------+-----------+----------+----------+----------+\n"
     ]
    },
    {
     "data": {
      "text/html": [
       "<div>\n",
       "<style scoped>\n",
       "    .dataframe tbody tr th:only-of-type {\n",
       "        vertical-align: middle;\n",
       "    }\n",
       "\n",
       "    .dataframe tbody tr th {\n",
       "        vertical-align: top;\n",
       "    }\n",
       "\n",
       "    .dataframe thead th {\n",
       "        text-align: right;\n",
       "    }\n",
       "</style>\n",
       "<table border=\"1\" class=\"dataframe\">\n",
       "  <thead>\n",
       "    <tr style=\"text-align: right;\">\n",
       "      <th></th>\n",
       "      <th>id</th>\n",
       "      <th>toxic</th>\n",
       "      <th>pred</th>\n",
       "      <th>lang</th>\n",
       "      <th>y_true</th>\n",
       "    </tr>\n",
       "  </thead>\n",
       "  <tbody>\n",
       "    <tr>\n",
       "      <th>0</th>\n",
       "      <td>0</td>\n",
       "      <td>0</td>\n",
       "      <td>0.461195</td>\n",
       "      <td>es</td>\n",
       "      <td>0</td>\n",
       "    </tr>\n",
       "    <tr>\n",
       "      <th>1</th>\n",
       "      <td>1</td>\n",
       "      <td>0</td>\n",
       "      <td>0.000281</td>\n",
       "      <td>it</td>\n",
       "      <td>0</td>\n",
       "    </tr>\n",
       "    <tr>\n",
       "      <th>2</th>\n",
       "      <td>2</td>\n",
       "      <td>1</td>\n",
       "      <td>0.685151</td>\n",
       "      <td>es</td>\n",
       "      <td>1</td>\n",
       "    </tr>\n",
       "    <tr>\n",
       "      <th>3</th>\n",
       "      <td>3</td>\n",
       "      <td>0</td>\n",
       "      <td>0.000427</td>\n",
       "      <td>tr</td>\n",
       "      <td>0</td>\n",
       "    </tr>\n",
       "    <tr>\n",
       "      <th>4</th>\n",
       "      <td>4</td>\n",
       "      <td>0</td>\n",
       "      <td>0.000685</td>\n",
       "      <td>tr</td>\n",
       "      <td>0</td>\n",
       "    </tr>\n",
       "    <tr>\n",
       "      <th>...</th>\n",
       "      <td>...</td>\n",
       "      <td>...</td>\n",
       "      <td>...</td>\n",
       "      <td>...</td>\n",
       "      <td>...</td>\n",
       "    </tr>\n",
       "    <tr>\n",
       "      <th>7995</th>\n",
       "      <td>7995</td>\n",
       "      <td>0</td>\n",
       "      <td>0.000241</td>\n",
       "      <td>it</td>\n",
       "      <td>0</td>\n",
       "    </tr>\n",
       "    <tr>\n",
       "      <th>7996</th>\n",
       "      <td>7996</td>\n",
       "      <td>1</td>\n",
       "      <td>0.988563</td>\n",
       "      <td>es</td>\n",
       "      <td>1</td>\n",
       "    </tr>\n",
       "    <tr>\n",
       "      <th>7997</th>\n",
       "      <td>7997</td>\n",
       "      <td>1</td>\n",
       "      <td>0.659842</td>\n",
       "      <td>tr</td>\n",
       "      <td>1</td>\n",
       "    </tr>\n",
       "    <tr>\n",
       "      <th>7998</th>\n",
       "      <td>7998</td>\n",
       "      <td>0</td>\n",
       "      <td>0.000615</td>\n",
       "      <td>es</td>\n",
       "      <td>0</td>\n",
       "    </tr>\n",
       "    <tr>\n",
       "      <th>7999</th>\n",
       "      <td>7999</td>\n",
       "      <td>0</td>\n",
       "      <td>0.001919</td>\n",
       "      <td>it</td>\n",
       "      <td>0</td>\n",
       "    </tr>\n",
       "  </tbody>\n",
       "</table>\n",
       "<p>8000 rows × 5 columns</p>\n",
       "</div>"
      ],
      "text/plain": [
       "        id  toxic      pred lang  y_true\n",
       "0     0     0      0.461195  es   0     \n",
       "1     1     0      0.000281  it   0     \n",
       "2     2     1      0.685151  es   1     \n",
       "3     3     0      0.000427  tr   0     \n",
       "4     4     0      0.000685  tr   0     \n",
       "...  ..    ..           ...  ..  ..     \n",
       "7995  7995  0      0.000241  it   0     \n",
       "7996  7996  1      0.988563  es   1     \n",
       "7997  7997  1      0.659842  tr   1     \n",
       "7998  7998  0      0.000615  es   0     \n",
       "7999  7999  0      0.001919  it   0     \n",
       "\n",
       "[8000 rows x 5 columns]"
      ]
     },
     "execution_count": 29,
     "metadata": {},
     "output_type": "execute_result"
    }
   ],
   "source": [
    "df2 = pd.concat(dfs2).groupby('id', as_index=False).mean()\n",
    "df2 = pd.merge(df2, dve, on='id')[['id', 'toxic', 'pred', 'lang']]\n",
    "gezi.pprint(evaluate(df2.toxic, df2.pred, df2))\n",
    "df2"
   ]
  },
  {
   "cell_type": "code",
   "execution_count": 30,
   "metadata": {},
   "outputs": [],
   "source": [
    "def blend_byrank(weights):\n",
    "  ranked = rankdata(weights)\n",
    "  sum_rank = np.sum(ranked)\n",
    "  for j in range(len(weights)):\n",
    "    weights[j] = ranked[j] / sum_rank\n",
    "    \n",
    "def blend_byweight(weights, norm_facotr=0.1, scale=False):\n",
    "  if scale:\n",
    "    weights = minmax_scale(weights)\n",
    "  min_ws = np.min(weights)\n",
    "  max_ws = np.max(weights)\n",
    "  gap = max_ws - min_ws\n",
    "  if gap > 0:\n",
    "   for i in range(len(weights)):\n",
    "     weights[i] = ((weights[i] - min_ws) / gap) + norm_facotr"
   ]
  },
  {
   "cell_type": "code",
   "execution_count": 31,
   "metadata": {},
   "outputs": [
    {
     "name": "stdout",
     "output_type": "stream",
     "text": [
      "xlm/cv-toxic-multi-en-finetune-unint-large-old\n",
      "\n",
      " +----------+-----------+----------+----------+----------+------------------------------------------------+\n",
      "|     loss |   auc/all |   auc/es |   auc/it |   auc/tr | name                                           |\n",
      "|----------+-----------+----------+----------+----------+------------------------------------------------|\n",
      "| 0.278315 |  0.947813 | 0.925435 | 0.917774 | 0.983008 | xlm/cv-toxic-multi-en-finetune-unint-large-old |\n",
      "+----------+-----------+----------+----------+----------+------------------------------------------------+\n",
      "\n",
      " +----------+-----------+----------+----------+----------+------------------------------------------------+\n",
      "|     loss |   auc/all |   auc/es |   auc/it |   auc/tr | name                                           |\n",
      "|----------+-----------+----------+----------+----------+------------------------------------------------|\n",
      "| 0.348721 |   0.93071 | 0.923939 | 0.902529 | 0.978039 | xlm/cv-toxic-multi-en-finetune-unint-large-old |\n",
      "+----------+-----------+----------+----------+----------+------------------------------------------------+\n",
      "xlm/cv-toxic-multi-en-finetune-unint-large-mdrop-old\n",
      "\n",
      " +----------+-----------+----------+----------+----------+------------------------------------------------------+\n",
      "|     loss |   auc/all |   auc/es |   auc/it |   auc/tr | name                                                 |\n",
      "|----------+-----------+----------+----------+----------+------------------------------------------------------|\n",
      "| 0.278363 |  0.947218 | 0.924197 |  0.91568 | 0.983216 | xlm/cv-toxic-multi-en-finetune-unint-large-mdrop-old |\n",
      "+----------+-----------+----------+----------+----------+------------------------------------------------------+\n",
      "\n",
      " +----------+-----------+----------+----------+----------+------------------------------------------------------+\n",
      "|     loss |   auc/all |   auc/es |   auc/it |   auc/tr | name                                                 |\n",
      "|----------+-----------+----------+----------+----------+------------------------------------------------------|\n",
      "| 0.326821 |  0.932707 | 0.921836 | 0.907648 | 0.976035 | xlm/cv-toxic-multi-en-finetune-unint-large-mdrop-old |\n",
      "+----------+-----------+----------+----------+----------+------------------------------------------------------+\n",
      "xlm/cv-toxic-mix\n",
      "\n",
      " +----------+-----------+----------+----------+----------+------------------+\n",
      "|     loss |   auc/all |   auc/es |   auc/it |   auc/tr | name             |\n",
      "|----------+-----------+----------+----------+----------+------------------|\n",
      "| 0.203307 |  0.948511 | 0.921323 |  0.91886 | 0.985599 | xlm/cv-toxic-mix |\n",
      "+----------+-----------+----------+----------+----------+------------------+\n",
      "\n",
      " +----------+-----------+----------+----------+----------+------------------+\n",
      "|     loss |   auc/all |   auc/es |   auc/it |   auc/tr | name             |\n",
      "|----------+-----------+----------+----------+----------+------------------|\n",
      "| 0.232598 |  0.933887 | 0.921439 |  0.90482 | 0.979651 | xlm/cv-toxic-mix |\n",
      "+----------+-----------+----------+----------+----------+------------------+\n",
      "xlm/cv-toxic-mix-mdrop\n",
      "\n",
      " +----------+-----------+----------+----------+----------+------------------------+\n",
      "|     loss |   auc/all |   auc/es |   auc/it |   auc/tr | name                   |\n",
      "|----------+-----------+----------+----------+----------+------------------------|\n",
      "| 0.218142 |  0.947161 | 0.918152 | 0.918964 | 0.984805 | xlm/cv-toxic-mix-mdrop |\n",
      "+----------+-----------+----------+----------+----------+------------------------+\n",
      "\n",
      " +----------+-----------+----------+----------+----------+------------------------+\n",
      "|     loss |   auc/all |   auc/es |   auc/it |   auc/tr | name                   |\n",
      "|----------+-----------+----------+----------+----------+------------------------|\n",
      "| 0.238537 |  0.936728 | 0.920485 | 0.904579 | 0.981473 | xlm/cv-toxic-mix-mdrop |\n",
      "+----------+-----------+----------+----------+----------+------------------------+\n",
      "xlm-pair/cv-debug8\n",
      "\n",
      " +----------+-----------+----------+----------+----------+--------------------+\n",
      "|     loss |   auc/all |   auc/es |   auc/it |   auc/tr | name               |\n",
      "|----------+-----------+----------+----------+----------+--------------------|\n",
      "| 0.220467 |   0.94815 |  0.92457 | 0.913488 | 0.985338 | xlm-pair/cv-debug8 |\n",
      "+----------+-----------+----------+----------+----------+--------------------+\n",
      "\n",
      " +----------+-----------+----------+----------+----------+--------------------+\n",
      "|     loss |   auc/all |   auc/es |   auc/it |   auc/tr | name               |\n",
      "|----------+-----------+----------+----------+----------+--------------------|\n",
      "| 0.281877 |  0.933433 |  0.92242 | 0.900973 | 0.984181 | xlm-pair/cv-debug8 |\n",
      "+----------+-----------+----------+----------+----------+--------------------+\n",
      "xlm-pair/cv-debug5\n",
      "\n",
      " +----------+-----------+----------+----------+----------+--------------------+\n",
      "|     loss |   auc/all |   auc/es |   auc/it |   auc/tr | name               |\n",
      "|----------+-----------+----------+----------+----------+--------------------|\n",
      "| 0.219925 |  0.949793 | 0.926174 | 0.913599 |  0.98714 | xlm-pair/cv-debug5 |\n",
      "+----------+-----------+----------+----------+----------+--------------------+\n",
      "\n",
      " +----------+-----------+----------+----------+----------+--------------------+\n",
      "|     loss |   auc/all |   auc/es |   auc/it |   auc/tr | name               |\n",
      "|----------+-----------+----------+----------+----------+--------------------|\n",
      "| 0.276038 |  0.933002 | 0.920997 | 0.895653 | 0.983039 | xlm-pair/cv-debug5 |\n",
      "+----------+-----------+----------+----------+----------+--------------------+\n"
     ]
    },
    {
     "data": {
      "text/plain": [
       "{'all': [0.9307099710583516,\n",
       "  0.9327069447947064,\n",
       "  0.933887187616337,\n",
       "  0.9367279124785339,\n",
       "  0.9334326476204202,\n",
       "  0.9330017052755462],\n",
       " 'es': [0.9254352754425739,\n",
       "  0.9241968443955864,\n",
       "  0.9213231369937371,\n",
       "  0.918151795610982,\n",
       "  0.9245697421417787,\n",
       "  0.926174228774478],\n",
       " 'it': [0.9177740931460417,\n",
       "  0.9156800997294918,\n",
       "  0.9188597920672685,\n",
       "  0.9189636769546654,\n",
       "  0.9134883323012744,\n",
       "  0.9135993465436886],\n",
       " 'tr': [0.9830083955223881,\n",
       "  0.9832159514925374,\n",
       "  0.9855993470149254,\n",
       "  0.9848052705223881,\n",
       "  0.9853381529850747,\n",
       "  0.9871396921641792]}"
      ]
     },
     "execution_count": 31,
     "metadata": {},
     "output_type": "execute_result"
    }
   ],
   "source": [
    "weights_dict = {}\n",
    "langs = ['es', 'it', 'tr']\n",
    "weights_dict['all'] = []\n",
    "for lang in langs:\n",
    "  weights_dict[lang] = []\n",
    "dfs, dfs2, metrics = [], [], []\n",
    "for model in models:\n",
    "  df, df2 = read_valids(f'{root}/{model}')\n",
    "  dfs += [df]\n",
    "  dfs2 += [df2]\n",
    "  metrics += [(eval(df, model), eval(df2, model))]\n",
    "  print(model)\n",
    "  gezi.pprint(metrics[-1][0])\n",
    "  gezi.pprint(metrics[-1][1])\n",
    "  weights_dict['all'] += [metrics[-1][1]['auc/all']]\n",
    "  for lang in langs:\n",
    "    weights_dict[lang] += [metrics[-1][0][f'auc/{lang}']]\n",
    "weights_dict"
   ]
  },
  {
   "cell_type": "code",
   "execution_count": 32,
   "metadata": {},
   "outputs": [
    {
     "data": {
      "text/plain": [
       "{'all': [0.047619047619047616,\n",
       "  0.09523809523809523,\n",
       "  0.23809523809523808,\n",
       "  0.2857142857142857,\n",
       "  0.19047619047619047,\n",
       "  0.14285714285714285],\n",
       " 'es': [0.23809523809523808,\n",
       "  0.14285714285714285,\n",
       "  0.09523809523809523,\n",
       "  0.047619047619047616,\n",
       "  0.19047619047619047,\n",
       "  0.2857142857142857],\n",
       " 'it': [0.19047619047619047,\n",
       "  0.14285714285714285,\n",
       "  0.23809523809523808,\n",
       "  0.2857142857142857,\n",
       "  0.047619047619047616,\n",
       "  0.09523809523809523],\n",
       " 'tr': [0.047619047619047616,\n",
       "  0.09523809523809523,\n",
       "  0.23809523809523808,\n",
       "  0.14285714285714285,\n",
       "  0.19047619047619047,\n",
       "  0.2857142857142857]}"
      ]
     },
     "execution_count": 32,
     "metadata": {},
     "output_type": "execute_result"
    }
   ],
   "source": [
    "# TODO change auc/all to all single model lb auc\n",
    "for key in weights_dict:\n",
    "  blend_byrank(weights_dict[key])\n",
    "#   blend_byweight(weights_dict[key])\n",
    "weights_dict"
   ]
  },
  {
   "cell_type": "code",
   "execution_count": 33,
   "metadata": {},
   "outputs": [
    {
     "name": "stderr",
     "output_type": "stream",
     "text": [
      "100%|██████████| 8000/8000 [00:16<00:00, 490.76it/s]\n"
     ]
    }
   ],
   "source": [
    "preds = []\n",
    "for i in tqdm(range(len(dv))):\n",
    "  lang = dfs[0].iloc[i].lang\n",
    "  if lang not in weights_dict:\n",
    "    lang = 'all'\n",
    "  weights = weights_dict[lang]\n",
    "  sum_weights = np.sum(weights)\n",
    "  \n",
    "  total = 0\n",
    "  for j in range(len(dfs)):\n",
    "    pred = dfs[j].iloc[i].pred\n",
    "    pred *= weights[j]\n",
    "    total += pred\n",
    "   \n",
    "  pred = total / sum_weights\n",
    "  preds += [pred]\n",
    "df = dfs[0].copy()\n",
    "df.pred = preds"
   ]
  },
  {
   "cell_type": "code",
   "execution_count": 34,
   "metadata": {},
   "outputs": [
    {
     "name": "stdout",
     "output_type": "stream",
     "text": [
      "\n",
      " +----------+-----------+----------+----------+----------+--------------+\n",
      "|     loss |   auc/all |   auc/es |   auc/it |   auc/tr | name         |\n",
      "|----------+-----------+----------+----------+----------+--------------|\n",
      "| 0.194018 |  0.955195 | 0.932218 | 0.927377 |  0.98798 | blend_byrank |\n",
      "+----------+-----------+----------+----------+----------+--------------+\n"
     ]
    }
   ],
   "source": [
    "gezi.pprint(eval(df, 'blend_byrank'))"
   ]
  },
  {
   "cell_type": "code",
   "execution_count": 35,
   "metadata": {},
   "outputs": [],
   "source": [
    "# check test\n",
    "dfs, dfs2 = [], []\n",
    "for model in models:\n",
    "  df, df2 = read_tests(f'{root}/{model}')\n",
    "  dfs += [df]\n",
    "  dfs2 += [df2]"
   ]
  },
  {
   "cell_type": "code",
   "execution_count": 36,
   "metadata": {},
   "outputs": [
    {
     "name": "stderr",
     "output_type": "stream",
     "text": [
      "100%|██████████| 63812/63812 [02:01<00:00, 524.10it/s]\n"
     ]
    }
   ],
   "source": [
    "preds = []\n",
    "for i in tqdm(range(len(dt))):\n",
    "  lang = dfs[0].iloc[i].lang\n",
    "  if lang not in weights_dict:\n",
    "    lang = 'all'\n",
    "  weights = weights_dict[lang]\n",
    "  sum_weights = np.sum(weights)\n",
    "  \n",
    "  total = 0\n",
    "  for j in range(len(dfs)):\n",
    "    pred = dfs[j].iloc[i].toxic\n",
    "    pred *= weights[j]\n",
    "    total += pred\n",
    "   \n",
    "  pred = total / sum_weights\n",
    "  preds += [pred]\n",
    "df = dfs[0].copy()\n",
    "df.toxic = preds"
   ]
  },
  {
   "cell_type": "code",
   "execution_count": 37,
   "metadata": {},
   "outputs": [
    {
     "data": {
      "text/html": [
       "<div>\n",
       "<style scoped>\n",
       "    .dataframe tbody tr th:only-of-type {\n",
       "        vertical-align: middle;\n",
       "    }\n",
       "\n",
       "    .dataframe tbody tr th {\n",
       "        vertical-align: top;\n",
       "    }\n",
       "\n",
       "    .dataframe thead th {\n",
       "        text-align: right;\n",
       "    }\n",
       "</style>\n",
       "<table border=\"1\" class=\"dataframe\">\n",
       "  <thead>\n",
       "    <tr style=\"text-align: right;\">\n",
       "      <th></th>\n",
       "      <th>id</th>\n",
       "      <th>toxic</th>\n",
       "      <th>translated</th>\n",
       "      <th>lang</th>\n",
       "      <th>content</th>\n",
       "    </tr>\n",
       "  </thead>\n",
       "  <tbody>\n",
       "    <tr>\n",
       "      <th>12</th>\n",
       "      <td>12</td>\n",
       "      <td>0.975860</td>\n",
       "      <td>C is especially a sacred devotee and inner lining idiot, now quite disturbed, whose poems are pathetic and full of Jesus our Lord, Devil, God, sin, &amp; Holy church of mother of god, a roman what! An idolater and celtomane to bottom. Poor Brittany! BLEI is the plural of BLAI, a wolf, or that which plunders, is the loot. Therefore its name from Aum to the nuts of the Bards dressed in toga roman &amp; forgers are well known, BLEIMOR = PIRATE, PILLAGER. But c is a calottin, a true moron.</td>\n",
       "      <td>fr</td>\n",
       "      <td>C est surtout un sacré dévot et calotin idiot, un mythomane assez dérangé dont les poèmes sont pathétiques et pleins de Jésus nôtre Seigneur, Diable, Dieu, péché &amp; Sainte église de mère de dieu, un romain quoi! Un idolâtre et celtomane à fond. Pauvre Bretagne! BLEI est le pluriel de BLAI, un loup ou ce qui pille, fait du butin. Donc son nom de Secte à la noix des Bardes déguisés en toge romaine &amp; faussaires notoires, BLEIMOR = PIRATE, PILLARD. Mais c est un calottin, un vrai crétin.</td>\n",
       "    </tr>\n",
       "    <tr>\n",
       "      <th>14</th>\n",
       "      <td>14</td>\n",
       "      <td>0.946066</td>\n",
       "      <td>You want to offend them, go to edit in the center (which is a very simple and democratic, and, by the way), the fans of Inter that is the usa, not in color. I don't think there gremista was going to like it if I called the gaymista, bananas in pajamas, or talking about the shirt, it's a bar code of a bitch, you just move on to the market even once. Politics is not, cazzo!</td>\n",
       "      <td>pt</td>\n",
       "      <td>Quer ofender, vai editar a desciclopédia (que é muito engraçada e democrática, por sinal) o torcedor do Inter é colorado, não colorido. Acho que nenhum gremista ia gostar se eu os chamasse de gaymista, de banana de pijama ou falar que a camisa é um código de barras de viado, basta passar no caixa do mercado que até faz bip. Politicagem não, cazzo!</td>\n",
       "    </tr>\n",
       "  </tbody>\n",
       "</table>\n",
       "</div>"
      ],
      "text/plain": [
       "    id     toxic  \\\n",
       "12  12  0.975860   \n",
       "14  14  0.946066   \n",
       "\n",
       "                                                                                                                                                                                                                                                                                                                                                                                                                                                                                             translated  \\\n",
       "12   C is especially a sacred devotee and inner lining idiot, now quite disturbed, whose poems are pathetic and full of Jesus our Lord, Devil, God, sin, & Holy church of mother of god, a roman what! An idolater and celtomane to bottom. Poor Brittany! BLEI is the plural of BLAI, a wolf, or that which plunders, is the loot. Therefore its name from Aum to the nuts of the Bards dressed in toga roman & forgers are well known, BLEIMOR = PIRATE, PILLAGER. But c is a calottin, a true moron.   \n",
       "14  You want to offend them, go to edit in the center (which is a very simple and democratic, and, by the way), the fans of Inter that is the usa, not in color. I don't think there gremista was going to like it if I called the gaymista, bananas in pajamas, or talking about the shirt, it's a bar code of a bitch, you just move on to the market even once. Politics is not, cazzo!                                                                                                                \n",
       "\n",
       "   lang  \\\n",
       "12  fr    \n",
       "14  pt    \n",
       "\n",
       "                                                                                                                                                                                                                                                                                                                                                                                                                                                                                                     content  \n",
       "12   C est surtout un sacré dévot et calotin idiot, un mythomane assez dérangé dont les poèmes sont pathétiques et pleins de Jésus nôtre Seigneur, Diable, Dieu, péché & Sainte église de mère de dieu, un romain quoi! Un idolâtre et celtomane à fond. Pauvre Bretagne! BLEI est le pluriel de BLAI, un loup ou ce qui pille, fait du butin. Donc son nom de Secte à la noix des Bardes déguisés en toge romaine & faussaires notoires, BLEIMOR = PIRATE, PILLARD. Mais c est un calottin, un vrai crétin.  \n",
       "14  Quer ofender, vai editar a desciclopédia (que é muito engraçada e democrática, por sinal) o torcedor do Inter é colorado, não colorido. Acho que nenhum gremista ia gostar se eu os chamasse de gaymista, de banana de pijama ou falar que a camisa é um código de barras de viado, basta passar no caixa do mercado que até faz bip. Politicagem não, cazzo!                                                                                                                                             "
      ]
     },
     "execution_count": 37,
     "metadata": {},
     "output_type": "execute_result"
    }
   ],
   "source": [
    "df[df.toxic > 0.9].head(2)"
   ]
  },
  {
   "cell_type": "code",
   "execution_count": 38,
   "metadata": {},
   "outputs": [],
   "source": [
    "df[['id', 'toxic']].to_csv('../working/exps/submission.csv', index=False)"
   ]
  },
  {
   "cell_type": "code",
   "execution_count": 39,
   "metadata": {},
   "outputs": [
    {
     "data": {
      "text/html": [
       "<div>\n",
       "<style scoped>\n",
       "    .dataframe tbody tr th:only-of-type {\n",
       "        vertical-align: middle;\n",
       "    }\n",
       "\n",
       "    .dataframe tbody tr th {\n",
       "        vertical-align: top;\n",
       "    }\n",
       "\n",
       "    .dataframe thead th {\n",
       "        text-align: right;\n",
       "    }\n",
       "</style>\n",
       "<table border=\"1\" class=\"dataframe\">\n",
       "  <thead>\n",
       "    <tr style=\"text-align: right;\">\n",
       "      <th></th>\n",
       "      <th>id</th>\n",
       "      <th>toxic</th>\n",
       "    </tr>\n",
       "  </thead>\n",
       "  <tbody>\n",
       "    <tr>\n",
       "      <th>0</th>\n",
       "      <td>0</td>\n",
       "      <td>0.000210</td>\n",
       "    </tr>\n",
       "    <tr>\n",
       "      <th>1</th>\n",
       "      <td>1</td>\n",
       "      <td>0.000968</td>\n",
       "    </tr>\n",
       "    <tr>\n",
       "      <th>2</th>\n",
       "      <td>2</td>\n",
       "      <td>0.135567</td>\n",
       "    </tr>\n",
       "    <tr>\n",
       "      <th>3</th>\n",
       "      <td>3</td>\n",
       "      <td>0.000108</td>\n",
       "    </tr>\n",
       "    <tr>\n",
       "      <th>4</th>\n",
       "      <td>4</td>\n",
       "      <td>0.000115</td>\n",
       "    </tr>\n",
       "  </tbody>\n",
       "</table>\n",
       "</div>"
      ],
      "text/plain": [
       "   id     toxic\n",
       "0  0   0.000210\n",
       "1  1   0.000968\n",
       "2  2   0.135567\n",
       "3  3   0.000108\n",
       "4  4   0.000115"
      ]
     },
     "execution_count": 39,
     "metadata": {},
     "output_type": "execute_result"
    }
   ],
   "source": [
    "pd.read_csv('../working/exps/submission.csv').head()"
   ]
  },
  {
   "cell_type": "code",
   "execution_count": 40,
   "metadata": {},
   "outputs": [
    {
     "data": {
      "text/html": [
       "<div>\n",
       "<style scoped>\n",
       "    .dataframe tbody tr th:only-of-type {\n",
       "        vertical-align: middle;\n",
       "    }\n",
       "\n",
       "    .dataframe tbody tr th {\n",
       "        vertical-align: top;\n",
       "    }\n",
       "\n",
       "    .dataframe thead th {\n",
       "        text-align: right;\n",
       "    }\n",
       "</style>\n",
       "<table border=\"1\" class=\"dataframe\">\n",
       "  <thead>\n",
       "    <tr style=\"text-align: right;\">\n",
       "      <th></th>\n",
       "      <th>id</th>\n",
       "      <th>toxic</th>\n",
       "    </tr>\n",
       "  </thead>\n",
       "  <tbody>\n",
       "    <tr>\n",
       "      <th>0</th>\n",
       "      <td>0</td>\n",
       "      <td>0.000204</td>\n",
       "    </tr>\n",
       "    <tr>\n",
       "      <th>1</th>\n",
       "      <td>1</td>\n",
       "      <td>0.000688</td>\n",
       "    </tr>\n",
       "    <tr>\n",
       "      <th>2</th>\n",
       "      <td>2</td>\n",
       "      <td>0.129575</td>\n",
       "    </tr>\n",
       "    <tr>\n",
       "      <th>3</th>\n",
       "      <td>3</td>\n",
       "      <td>0.000118</td>\n",
       "    </tr>\n",
       "    <tr>\n",
       "      <th>4</th>\n",
       "      <td>4</td>\n",
       "      <td>0.000131</td>\n",
       "    </tr>\n",
       "    <tr>\n",
       "      <th>...</th>\n",
       "      <td>...</td>\n",
       "      <td>...</td>\n",
       "    </tr>\n",
       "    <tr>\n",
       "      <th>63807</th>\n",
       "      <td>63807</td>\n",
       "      <td>0.085056</td>\n",
       "    </tr>\n",
       "    <tr>\n",
       "      <th>63808</th>\n",
       "      <td>63808</td>\n",
       "      <td>0.000122</td>\n",
       "    </tr>\n",
       "    <tr>\n",
       "      <th>63809</th>\n",
       "      <td>63809</td>\n",
       "      <td>0.019116</td>\n",
       "    </tr>\n",
       "    <tr>\n",
       "      <th>63810</th>\n",
       "      <td>63810</td>\n",
       "      <td>0.000324</td>\n",
       "    </tr>\n",
       "    <tr>\n",
       "      <th>63811</th>\n",
       "      <td>63811</td>\n",
       "      <td>0.000141</td>\n",
       "    </tr>\n",
       "  </tbody>\n",
       "</table>\n",
       "<p>63812 rows × 2 columns</p>\n",
       "</div>"
      ],
      "text/plain": [
       "          id     toxic\n",
       "0      0      0.000204\n",
       "1      1      0.000688\n",
       "2      2      0.129575\n",
       "3      3      0.000118\n",
       "4      4      0.000131\n",
       "...   ..           ...\n",
       "63807  63807  0.085056\n",
       "63808  63808  0.000122\n",
       "63809  63809  0.019116\n",
       "63810  63810  0.000324\n",
       "63811  63811  0.000141\n",
       "\n",
       "[63812 rows x 2 columns]"
      ]
     },
     "execution_count": 40,
     "metadata": {},
     "output_type": "execute_result"
    }
   ],
   "source": [
    "df = pd.concat(dfs).groupby('id', as_index=False).mean()\n",
    "df"
   ]
  },
  {
   "cell_type": "code",
   "execution_count": 41,
   "metadata": {},
   "outputs": [],
   "source": [
    "df.to_csv('../working/exps/submission.csv', index=False)"
   ]
  },
  {
   "cell_type": "code",
   "execution_count": null,
   "metadata": {},
   "outputs": [],
   "source": []
  }
 ],
 "metadata": {
  "kernelspec": {
   "display_name": "Python 3",
   "language": "python",
   "name": "python3"
  },
  "language_info": {
   "codemirror_mode": {
    "name": "ipython",
    "version": 3
   },
   "file_extension": ".py",
   "mimetype": "text/x-python",
   "name": "python",
   "nbconvert_exporter": "python",
   "pygments_lexer": "ipython3",
   "version": "3.6.8"
  }
 },
 "nbformat": 4,
 "nbformat_minor": 2
}
