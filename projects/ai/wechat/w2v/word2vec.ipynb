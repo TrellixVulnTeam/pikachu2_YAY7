{
 "cells": [
  {
   "cell_type": "markdown",
   "source": [
    "##### Copyright 2020 The TensorFlow Authors."
   ],
   "metadata": {
    "id": "hX4n9TsbGw-f"
   }
  },
  {
   "cell_type": "code",
   "execution_count": 1,
   "source": [
    "#@title Licensed under the Apache License, Version 2.0 (the \"License\");\n",
    "# you may not use this file except in compliance with the License.\n",
    "# You may obtain a copy of the License at\n",
    "#\n",
    "# https://www.apache.org/licenses/LICENSE-2.0\n",
    "#\n",
    "# Unless required by applicable law or agreed to in writing, software\n",
    "# distributed under the License is distributed on an \"AS IS\" BASIS,\n",
    "# WITHOUT WARRANTIES OR CONDITIONS OF ANY KIND, either express or implied.\n",
    "# See the License for the specific language governing permissions and\n",
    "# limitations under the License."
   ],
   "outputs": [],
   "metadata": {
    "cellView": "form",
    "execution": {
     "iopub.execute_input": "2021-06-16T18:46:17.732878Z",
     "iopub.status.busy": "2021-06-16T18:46:17.732329Z",
     "iopub.status.idle": "2021-06-16T18:46:17.734487Z",
     "shell.execute_reply": "2021-06-16T18:46:17.734025Z"
    },
    "id": "0nbI5DtDGw-i"
   }
  },
  {
   "cell_type": "markdown",
   "source": [
    "<table class=\"tfo-notebook-buttons\" align=\"left\">\n",
    "  <td>\n",
    "    <a target=\"_blank\" href=\"https://www.tensorflow.org/tutorials/text/word2vec\">\n",
    "    <img src=\"https://www.tensorflow.org/images/tf_logo_32px.png\" />\n",
    "    View on TensorFlow.org</a>\n",
    "  </td>\n",
    "  <td>\n",
    "    <a target=\"_blank\" href=\"https://colab.research.google.com/github/tensorflow/docs/blob/master/site/en/tutorials/text/word2vec.ipynb\">\n",
    "    <img src=\"https://www.tensorflow.org/images/colab_logo_32px.png\" />\n",
    "    Run in Google Colab</a>\n",
    "  </td>\n",
    "  <td>\n",
    "    <a target=\"_blank\" href=\"https://github.com/tensorflow/docs/blob/master/site/en/tutorials/text/word2vec.ipynb\">\n",
    "    <img src=\"https://www.tensorflow.org/images/GitHub-Mark-32px.png\" />\n",
    "    View source on GitHub</a>\n",
    "  </td>\n",
    "  <td>\n",
    "    <a href=\"https://storage.googleapis.com/tensorflow_docs/docs/site/en/tutorials/text/word2vec.ipynb\"><img src=\"https://www.tensorflow.org/images/download_logo_32px.png\" />Download notebook</a>\n",
    "  </td>\n",
    "</table>"
   ],
   "metadata": {
    "id": "AOpGoE2T-YXS"
   }
  },
  {
   "cell_type": "markdown",
   "source": [
    "# Word2Vec"
   ],
   "metadata": {
    "id": "haJUNjSB60Kh"
   }
  },
  {
   "cell_type": "markdown",
   "source": [
    "Word2Vec is not a singular algorithm, rather, it is a family of model architectures and optimizations that can be used to learn word embeddings from large datasets. Embeddings learned through Word2Vec have proven to be successful on a variety of downstream natural language processing tasks.\n",
    "\n",
    "Note: This tutorial is based on [Efficient Estimation of Word Representations in Vector Space](https://arxiv.org/pdf/1301.3781.pdf) and\n",
    "[Distributed\n",
    "Representations of Words and Phrases and their Compositionality](https://papers.nips.cc/paper/5021-distributed-representations-of-words-and-phrases-and-their-compositionality.pdf). It is not an exact implementation of the papers. Rather, it is intended to illustrate the key ideas.\n",
    "\n",
    "These papers proposed two methods for learning representations of words: \n",
    "\n",
    "*   **Continuous Bag-of-Words Model** which predicts the middle word based on surrounding context words. The context consists of a few words before and after the current (middle) word. This architecture is called a bag-of-words model as the order of words in the context is not important.\n",
    "*   **Continuous Skip-gram Model** which predict words within a certain range before and after the current word in the same sentence. A worked example of this is given below.\n",
    "\n",
    "\n",
    "You'll use the skip-gram approach in this tutorial. First, you'll explore skip-grams and other concepts using a single sentence for illustration. Next, you'll train your own Word2Vec model on a small dataset. This tutorial also contains code to export the trained embeddings and visualize them in the [TensorFlow Embedding Projector](http://projector.tensorflow.org/).\n"
   ],
   "metadata": {
    "id": "99d4ky2lWFvn"
   }
  },
  {
   "cell_type": "markdown",
   "source": [
    "## Skip-gram and Negative Sampling "
   ],
   "metadata": {
    "id": "xP00WlaMWBZC"
   }
  },
  {
   "cell_type": "markdown",
   "source": [
    "While a bag-of-words model predicts a word given the neighboring context, a skip-gram model predicts the context (or neighbors) of a word, given the word itself. The model is trained on skip-grams, which are n-grams that allow tokens to be skipped (see the diagram below for an example). The context of a word can be represented through a set of skip-gram pairs of `(target_word, context_word)` where `context_word` appears in the neighboring context of `target_word`. "
   ],
   "metadata": {
    "id": "Zr2wjv0bW236"
   }
  },
  {
   "cell_type": "markdown",
   "source": [
    "Consider the following sentence of 8 words.\n",
    "> The wide road shimmered in the hot sun. \n",
    "\n",
    "The context words for each of the 8 words of this sentence are defined by a window size. The window size determines the span of words on either side of a `target_word` that can be considered `context word`. Take a look at this table of skip-grams for target words based on different window sizes."
   ],
   "metadata": {
    "id": "ICjc-McbaVTd"
   }
  },
  {
   "cell_type": "markdown",
   "source": [
    "Note: For this tutorial, a window size of *n* implies n words on each side with a total window span of 2*n+1 words across a word."
   ],
   "metadata": {
    "id": "YKE87IKT_YT8"
   }
  },
  {
   "cell_type": "markdown",
   "source": [
    "![word2vec_skipgrams](images/word2vec_skipgram.png)"
   ],
   "metadata": {
    "id": "RsCwQ07E8mqU"
   }
  },
  {
   "cell_type": "markdown",
   "source": [
    "The training objective of the skip-gram model is to maximize the probability of predicting context words given the target word. For a sequence of words *w<sub>1</sub>, w<sub>2</sub>, ... w<sub>T</sub>*, the objective can be written as the average log probability"
   ],
   "metadata": {
    "id": "gK1gN1jwkMpU"
   }
  },
  {
   "cell_type": "markdown",
   "source": [
    "![word2vec_skipgram_objective](images/word2vec_skipgram_objective.png)"
   ],
   "metadata": {
    "id": "pILO_iAc84e-"
   }
  },
  {
   "cell_type": "markdown",
   "source": [
    "where `c` is the size of the training context. The basic skip-gram formulation defines this probability using the softmax function."
   ],
   "metadata": {
    "id": "Gsy6TUbtnz_K"
   }
  },
  {
   "cell_type": "markdown",
   "source": [
    "![word2vec_full_softmax](images/word2vec_full_softmax.png)"
   ],
   "metadata": {
    "id": "P81Qavbb9APd"
   }
  },
  {
   "cell_type": "markdown",
   "source": [
    "where *v* and *v<sup>'<sup>* are target and context vector representations of words and *W* is vocabulary size. "
   ],
   "metadata": {
    "id": "axZvd-hhotVB"
   }
  },
  {
   "cell_type": "markdown",
   "source": [
    "Computing the denominator of this formulation involves performing a full softmax over the entire vocabulary words which is often large (10<sup>5</sup>-10<sup>7</sup>) terms. "
   ],
   "metadata": {
    "id": "SoLzxbqSpT6_"
   }
  },
  {
   "cell_type": "markdown",
   "source": [
    "The [Noise Contrastive Estimation](https://www.tensorflow.org/api_docs/python/tf/nn/nce_loss) loss function is an efficient approximation for a full softmax. With an objective to learn word embeddings instead of modelling the word distribution, NCE loss can be [simplified](https://papers.nips.cc/paper/5021-distributed-representations-of-words-and-phrases-and-their-compositionality.pdf) to use negative sampling. "
   ],
   "metadata": {
    "id": "Y5VWYtmFzHkU"
   }
  },
  {
   "cell_type": "markdown",
   "source": [
    "The simplified negative sampling objective for a target word is to distinguish  the context word from *num_ns* negative samples drawn from noise distribution *P<sub>n</sub>(w)* of words. More precisely, an efficient approximation of full softmax over the vocabulary is, for a skip-gram pair, to pose the loss for a target word as a classification problem between the context word and *num_ns* negative samples. "
   ],
   "metadata": {
    "id": "WTZBPf1RsOsg"
   }
  },
  {
   "cell_type": "markdown",
   "source": [
    "A negative sample is defined as a (target_word, context_word) pair such that the context_word does not appear in the `window_size` neighborhood of the target_word. For the example sentence, these are few potential negative samples (when `window_size` is 2).\n",
    "\n",
    "```\n",
    "(hot, shimmered)\n",
    "(wide, hot)\n",
    "(wide, sun)\n",
    "```"
   ],
   "metadata": {
    "id": "Cl0rSfHjt6Mf"
   }
  },
  {
   "cell_type": "markdown",
   "source": [
    "In the next section, you'll generate skip-grams and negative samples for a single sentence. You'll also learn about subsampling techniques and train a classification model for positive and negative training examples later in the tutorial."
   ],
   "metadata": {
    "id": "kq0q2uqbucFg"
   }
  },
  {
   "cell_type": "markdown",
   "source": [
    "## Setup"
   ],
   "metadata": {
    "id": "mk4-Hpe1CH16"
   }
  },
  {
   "cell_type": "code",
   "execution_count": 2,
   "source": [
    "import io\n",
    "import re\n",
    "import string\n",
    "import tensorflow as tf\n",
    "import tqdm\n",
    "from icecream import ic\n",
    "\n",
    "from tensorflow.keras import Model\n",
    "from tensorflow.keras.layers import Dot, Embedding, Flatten\n",
    "from tensorflow.keras.layers.experimental.preprocessing import TextVectorization"
   ],
   "outputs": [],
   "metadata": {
    "execution": {
     "iopub.execute_input": "2021-06-16T18:46:17.742757Z",
     "iopub.status.busy": "2021-06-16T18:46:17.742120Z",
     "iopub.status.idle": "2021-06-16T18:46:19.141796Z",
     "shell.execute_reply": "2021-06-16T18:46:19.141168Z"
    },
    "id": "RutaI-Tpev3T"
   }
  },
  {
   "cell_type": "code",
   "execution_count": 3,
   "source": [
    "# Load the TensorBoard notebook extension\n",
    "%load_ext tensorboard"
   ],
   "outputs": [],
   "metadata": {
    "execution": {
     "iopub.execute_input": "2021-06-16T18:46:19.145924Z",
     "iopub.status.busy": "2021-06-16T18:46:19.145340Z",
     "iopub.status.idle": "2021-06-16T18:46:19.148941Z",
     "shell.execute_reply": "2021-06-16T18:46:19.148514Z"
    },
    "id": "10pyUMFkGKVQ"
   }
  },
  {
   "cell_type": "code",
   "execution_count": 4,
   "source": [
    "SEED = 42\n",
    "AUTOTUNE = tf.data.AUTOTUNE"
   ],
   "outputs": [],
   "metadata": {
    "execution": {
     "iopub.execute_input": "2021-06-16T18:46:19.152404Z",
     "iopub.status.busy": "2021-06-16T18:46:19.151837Z",
     "iopub.status.idle": "2021-06-16T18:46:19.153851Z",
     "shell.execute_reply": "2021-06-16T18:46:19.153404Z"
    },
    "id": "XkJ5299Tek6B"
   }
  },
  {
   "cell_type": "markdown",
   "source": [
    "### Vectorize an example sentence"
   ],
   "metadata": {
    "id": "RW-g5buCHwh3"
   }
  },
  {
   "cell_type": "markdown",
   "source": [
    "Consider the following sentence:    \n",
    "`The wide road shimmered in the hot sun.`\n",
    "\n",
    "Tokenize the sentence:"
   ],
   "metadata": {
    "id": "y8TfZIgoQrcP"
   }
  },
  {
   "cell_type": "code",
   "execution_count": 5,
   "source": [
    "sentence = \"The wide road shimmered in the hot sun\"\n",
    "tokens = list(sentence.lower().split())\n",
    "print(len(tokens))"
   ],
   "outputs": [
    {
     "output_type": "stream",
     "name": "stdout",
     "text": [
      "8\n"
     ]
    }
   ],
   "metadata": {
    "execution": {
     "iopub.execute_input": "2021-06-16T18:46:19.157824Z",
     "iopub.status.busy": "2021-06-16T18:46:19.157263Z",
     "iopub.status.idle": "2021-06-16T18:46:19.159935Z",
     "shell.execute_reply": "2021-06-16T18:46:19.160284Z"
    },
    "id": "bsl7jBzV6_KK"
   }
  },
  {
   "cell_type": "markdown",
   "source": [
    "Create a vocabulary to save mappings from tokens to integer indices."
   ],
   "metadata": {
    "id": "PU-bs1XtThEw"
   }
  },
  {
   "cell_type": "code",
   "execution_count": 6,
   "source": [
    "vocab, index = {}, 1  # start indexing from 1\n",
    "vocab['<pad>'] = 0  # add a padding token\n",
    "for token in tokens:\n",
    "  if token not in vocab:\n",
    "    vocab[token] = index\n",
    "    index += 1\n",
    "vocab_size = len(vocab)\n",
    "print(vocab)"
   ],
   "outputs": [
    {
     "output_type": "stream",
     "name": "stdout",
     "text": [
      "{'<pad>': 0, 'the': 1, 'wide': 2, 'road': 3, 'shimmered': 4, 'in': 5, 'hot': 6, 'sun': 7}\n"
     ]
    }
   ],
   "metadata": {
    "execution": {
     "iopub.execute_input": "2021-06-16T18:46:19.164396Z",
     "iopub.status.busy": "2021-06-16T18:46:19.163862Z",
     "iopub.status.idle": "2021-06-16T18:46:19.166343Z",
     "shell.execute_reply": "2021-06-16T18:46:19.165860Z"
    },
    "id": "UdYv1HJUQ8XA"
   }
  },
  {
   "cell_type": "markdown",
   "source": [
    "Create an inverse vocabulary to save mappings from integer indices to tokens."
   ],
   "metadata": {
    "id": "ZpuP43Dddasr"
   }
  },
  {
   "cell_type": "code",
   "execution_count": 7,
   "source": [
    "inverse_vocab = {index: token for token, index in vocab.items()}\n",
    "print(inverse_vocab)"
   ],
   "outputs": [
    {
     "output_type": "stream",
     "name": "stdout",
     "text": [
      "{0: '<pad>', 1: 'the', 2: 'wide', 3: 'road', 4: 'shimmered', 5: 'in', 6: 'hot', 7: 'sun'}\n"
     ]
    }
   ],
   "metadata": {
    "execution": {
     "iopub.execute_input": "2021-06-16T18:46:19.169950Z",
     "iopub.status.busy": "2021-06-16T18:46:19.169420Z",
     "iopub.status.idle": "2021-06-16T18:46:19.171366Z",
     "shell.execute_reply": "2021-06-16T18:46:19.171737Z"
    },
    "id": "o9ULAJYtEvKl"
   }
  },
  {
   "cell_type": "markdown",
   "source": [
    "Vectorize your sentence.\n"
   ],
   "metadata": {
    "id": "n3qtuyxIRyii"
   }
  },
  {
   "cell_type": "code",
   "execution_count": 8,
   "source": [
    "example_sequence = [vocab[word] for word in tokens]\n",
    "print(example_sequence)"
   ],
   "outputs": [
    {
     "output_type": "stream",
     "name": "stdout",
     "text": [
      "[1, 2, 3, 4, 5, 1, 6, 7]\n"
     ]
    }
   ],
   "metadata": {
    "execution": {
     "iopub.execute_input": "2021-06-16T18:46:19.175260Z",
     "iopub.status.busy": "2021-06-16T18:46:19.174700Z",
     "iopub.status.idle": "2021-06-16T18:46:19.176579Z",
     "shell.execute_reply": "2021-06-16T18:46:19.176904Z"
    },
    "id": "CsB3-9uQQYyl"
   }
  },
  {
   "cell_type": "markdown",
   "source": [
    "### Generate skip-grams from one sentence"
   ],
   "metadata": {
    "id": "ox1I28JRIOdM"
   }
  },
  {
   "cell_type": "markdown",
   "source": [
    "The `tf.keras.preprocessing.sequence` module provides useful functions that simplify data preparation for Word2Vec. You can use the `tf.keras.preprocessing.sequence.skipgrams` to generate skip-gram pairs from the `example_sequence` with a given `window_size` from tokens in the range `[0, vocab_size)`.\n",
    "\n",
    "Note: `negative_samples` is set to `0` here as batching negative samples generated by this function requires a bit of code. You will use another function to perform negative sampling in the next section.\n"
   ],
   "metadata": {
    "id": "t7NNKAmSiHvy"
   }
  },
  {
   "cell_type": "code",
   "execution_count": 9,
   "source": [
    "window_size = 2\n",
    "positive_skip_grams, _ = tf.keras.preprocessing.sequence.skipgrams(\n",
    "      example_sequence,\n",
    "      vocabulary_size=vocab_size,\n",
    "      window_size=window_size,\n",
    "      negative_samples=0)\n",
    "print(len(positive_skip_grams))"
   ],
   "outputs": [
    {
     "output_type": "stream",
     "name": "stdout",
     "text": [
      "26\n"
     ]
    }
   ],
   "metadata": {
    "execution": {
     "iopub.execute_input": "2021-06-16T18:46:19.180833Z",
     "iopub.status.busy": "2021-06-16T18:46:19.180262Z",
     "iopub.status.idle": "2021-06-16T18:46:19.182490Z",
     "shell.execute_reply": "2021-06-16T18:46:19.182070Z"
    },
    "id": "USAJxW4RD7pn"
   }
  },
  {
   "cell_type": "markdown",
   "source": [
    "Take a look at few positive skip-grams."
   ],
   "metadata": {
    "id": "uc9uhiMwY-AQ"
   }
  },
  {
   "cell_type": "code",
   "execution_count": 10,
   "source": [
    "for target, context in positive_skip_grams[:5]:\n",
    "  print(f\"({target}, {context}): ({inverse_vocab[target]}, {inverse_vocab[context]})\")"
   ],
   "outputs": [
    {
     "output_type": "stream",
     "name": "stdout",
     "text": [
      "(6, 5): (hot, in)\n",
      "(5, 1): (in, the)\n",
      "(5, 6): (in, hot)\n",
      "(7, 6): (sun, hot)\n",
      "(6, 7): (hot, sun)\n"
     ]
    }
   ],
   "metadata": {
    "execution": {
     "iopub.execute_input": "2021-06-16T18:46:19.186150Z",
     "iopub.status.busy": "2021-06-16T18:46:19.185622Z",
     "iopub.status.idle": "2021-06-16T18:46:19.188098Z",
     "shell.execute_reply": "2021-06-16T18:46:19.187707Z"
    },
    "id": "SCnqEukIE9pt"
   }
  },
  {
   "cell_type": "markdown",
   "source": [
    "### Negative sampling for one skip-gram "
   ],
   "metadata": {
    "id": "_ua9PkMTISF0"
   }
  },
  {
   "cell_type": "markdown",
   "source": [
    "The `skipgrams` function returns all positive skip-gram pairs by sliding over a given window span. To produce additional skip-gram pairs that would serve as negative samples for training, you need to sample random words from the vocabulary. Use the `tf.random.log_uniform_candidate_sampler` function to sample `num_ns` number of negative samples for a given target word in a window. You can call the function on one skip-grams's target word and pass the context word as true class to exclude it from being sampled.\n"
   ],
   "metadata": {
    "id": "Esqn8WBfZnEK"
   }
  },
  {
   "cell_type": "markdown",
   "source": [
    "Key point: *num_ns* (number of negative samples per positive context word) between [5, 20] is [shown to work](https://papers.nips.cc/paper/5021-distributed-representations-of-words-and-phrases-and-their-compositionality.pdf) best for smaller datasets, while *num_ns* between [2,5] suffices for larger datasets. "
   ],
   "metadata": {
    "id": "AgH3aSvw3xTD"
   }
  },
  {
   "cell_type": "code",
   "execution_count": 11,
   "source": [
    "# Get target and context words for one positive skip-gram.\n",
    "target_word, context_word = positive_skip_grams[0]\n",
    "\n",
    "# Set the number of negative samples per positive context.\n",
    "num_ns = 4\n",
    "\n",
    "context_class = tf.reshape(tf.constant(context_word, dtype=\"int64\"), (1, 1))\n",
    "ic(context_class)\n",
    "negative_sampling_candidates, _, _ = tf.random.log_uniform_candidate_sampler(\n",
    "    true_classes=context_class,  # class that should be sampled as 'positive'\n",
    "    num_true=1,  # each positive skip-gram has 1 positive context class\n",
    "    num_sampled=num_ns,  # number of negative context words to sample\n",
    "    unique=True,  # all the negative samples should be unique\n",
    "    range_max=vocab_size,  # pick index of the samples from [0, vocab_size]\n",
    "    seed=SEED,  # seed for reproducibility\n",
    "    name=\"negative_sampling\"  # name of this operation\n",
    ")\n",
    "ic(negative_sampling_candidates)\n",
    "ic([inverse_vocab[index.numpy()] for index in negative_sampling_candidates])"
   ],
   "outputs": [
    {
     "output_type": "stream",
     "name": "stderr",
     "text": [
      "ic| context_class: <tf.Tensor: shape=(1, 1), dtype=int64, numpy=array([[5]])>\n",
      "ic| negative_sampling_candidates: <tf.Tensor: shape=(4,), dtype=int64, numpy=array([2, 1, 4, 3])>\n",
      "ic| [inverse_vocab[index.numpy()] for index in negative_sampling_candidates]: ['wide', 'the', 'shimmered', 'road']\n"
     ]
    },
    {
     "output_type": "execute_result",
     "data": {
      "text/plain": [
       "['wide', 'the', 'shimmered', 'road']"
      ]
     },
     "metadata": {},
     "execution_count": 11
    }
   ],
   "metadata": {
    "execution": {
     "iopub.execute_input": "2021-06-16T18:46:20.469014Z",
     "iopub.status.busy": "2021-06-16T18:46:20.468216Z",
     "iopub.status.idle": "2021-06-16T18:46:20.740633Z",
     "shell.execute_reply": "2021-06-16T18:46:20.740972Z"
    },
    "id": "m_LmdzqIGr5L"
   }
  },
  {
   "cell_type": "markdown",
   "source": [
    "### Construct one training example"
   ],
   "metadata": {
    "id": "8MSxWCrLIalp"
   }
  },
  {
   "cell_type": "markdown",
   "source": [
    "For a given positive `(target_word, context_word)` skip-gram, you now also have `num_ns` negative sampled context words that do not appear in the window size neighborhood of `target_word`. Batch the `1` positive `context_word` and `num_ns` negative context words into one tensor. This produces a set of positive skip-grams (labelled as `1`) and negative samples (labelled as `0`) for each target word."
   ],
   "metadata": {
    "id": "Q6uEWdj8vKKv"
   }
  },
  {
   "cell_type": "code",
   "execution_count": 12,
   "source": [
    "# Add a dimension so you can use concatenation (on the next step).\n",
    "negative_sampling_candidates = tf.expand_dims(negative_sampling_candidates, 1)\n",
    "\n",
    "# Concat positive context word with negative sampled words.\n",
    "context = tf.concat([context_class, negative_sampling_candidates], 0)\n",
    "\n",
    "# Label first context word as 1 (positive) followed by num_ns 0s (negative).\n",
    "label = tf.constant([1] + [0]*num_ns, dtype=\"int64\")\n",
    "\n",
    "# Reshape target to shape (1,) and context and label to (num_ns+1,).\n",
    "target = tf.squeeze(target_word)\n",
    "context = tf.squeeze(context)\n",
    "label = tf.squeeze(label)"
   ],
   "outputs": [],
   "metadata": {
    "execution": {
     "iopub.execute_input": "2021-06-16T18:46:20.746015Z",
     "iopub.status.busy": "2021-06-16T18:46:20.745447Z",
     "iopub.status.idle": "2021-06-16T18:46:20.748447Z",
     "shell.execute_reply": "2021-06-16T18:46:20.748032Z"
    },
    "id": "zSiZwifuLvHf"
   }
  },
  {
   "cell_type": "markdown",
   "source": [
    "Take a look at the context and the corresponding labels for the target word from the skip-gram example above. "
   ],
   "metadata": {
    "id": "OIJeoFCAwtXJ"
   }
  },
  {
   "cell_type": "code",
   "execution_count": 13,
   "source": [
    "print(f\"target_index    : {target}\")\n",
    "print(f\"target_word     : {inverse_vocab[target_word]}\")\n",
    "print(f\"context_indices : {context}\")\n",
    "print(f\"context_words   : {[inverse_vocab[c.numpy()] for c in context]}\")\n",
    "print(f\"label           : {label}\")"
   ],
   "outputs": [
    {
     "output_type": "stream",
     "name": "stdout",
     "text": [
      "target_index    : 6\n",
      "target_word     : hot\n",
      "context_indices : [5 2 1 4 3]\n",
      "context_words   : ['in', 'wide', 'the', 'shimmered', 'road']\n",
      "label           : [1 0 0 0 0]\n"
     ]
    }
   ],
   "metadata": {
    "execution": {
     "iopub.execute_input": "2021-06-16T18:46:20.752571Z",
     "iopub.status.busy": "2021-06-16T18:46:20.751804Z",
     "iopub.status.idle": "2021-06-16T18:46:20.756287Z",
     "shell.execute_reply": "2021-06-16T18:46:20.756608Z"
    },
    "id": "tzyCPCuZwmdL"
   }
  },
  {
   "cell_type": "markdown",
   "source": [
    "A tuple of `(target, context, label)` tensors constitutes one training example for training your skip-gram negative sampling Word2Vec model. Notice that the target is of shape `(1,)` while the context and label are of shape `(1+num_ns,)`"
   ],
   "metadata": {
    "id": "gBtTcUVQr8EO"
   }
  },
  {
   "cell_type": "code",
   "execution_count": 14,
   "source": [
    "print(\"target  :\", target)\n",
    "print(\"context :\", context)\n",
    "print(\"label   :\", label)"
   ],
   "outputs": [
    {
     "output_type": "stream",
     "name": "stdout",
     "text": [
      "target  : tf.Tensor(6, shape=(), dtype=int32)\n",
      "context : tf.Tensor([5 2 1 4 3], shape=(5,), dtype=int64)\n",
      "label   : tf.Tensor([1 0 0 0 0], shape=(5,), dtype=int64)\n"
     ]
    }
   ],
   "metadata": {
    "execution": {
     "iopub.execute_input": "2021-06-16T18:46:20.760390Z",
     "iopub.status.busy": "2021-06-16T18:46:20.759770Z",
     "iopub.status.idle": "2021-06-16T18:46:20.762374Z",
     "shell.execute_reply": "2021-06-16T18:46:20.762696Z"
    },
    "id": "x-FwkR8jx9-Z"
   }
  },
  {
   "cell_type": "markdown",
   "source": [
    "### Summary"
   ],
   "metadata": {
    "id": "4bRJIlow4Dlv"
   }
  },
  {
   "cell_type": "markdown",
   "source": [
    "This picture summarizes the procedure of generating training example from a sentence. \n"
   ],
   "metadata": {
    "id": "pWkuha0oykG5"
   }
  },
  {
   "cell_type": "markdown",
   "source": [
    "![word2vec_negative_sampling](images/word2vec_negative_sampling.png)"
   ],
   "metadata": {
    "id": "_KlwdiAa9crJ"
   }
  },
  {
   "cell_type": "markdown",
   "source": [
    "## Compile all steps into one function\n"
   ],
   "metadata": {
    "id": "9wmdO_MEIpaM"
   }
  },
  {
   "cell_type": "markdown",
   "source": [
    "### Skip-gram Sampling table "
   ],
   "metadata": {
    "id": "iLKwNAczHsKg"
   }
  },
  {
   "cell_type": "markdown",
   "source": [
    "A large dataset means larger vocabulary with higher number of more frequent words such as stopwords. Training examples obtained from sampling commonly occurring words (such as `the`, `is`, `on`) don't add much useful information  for the model to learn from. [Mikolov et al.](https://papers.nips.cc/paper/5021-distributed-representations-of-words-and-phrases-and-their-compositionality.pdf) suggest subsampling of frequent words as a helpful practice to improve embedding quality. "
   ],
   "metadata": {
    "id": "TUUK3uDtFNFE"
   }
  },
  {
   "cell_type": "markdown",
   "source": [
    "The `tf.keras.preprocessing.sequence.skipgrams` function accepts a sampling table argument to encode probabilities of sampling any token. You can use the `tf.keras.preprocessing.sequence.make_sampling_table` to  generate a word-frequency rank based probabilistic sampling table and pass it to `skipgrams` function. Take a look at the sampling probabilities for a `vocab_size` of 10."
   ],
   "metadata": {
    "id": "bPtbv7zNP7Dx"
   }
  },
  {
   "cell_type": "code",
   "execution_count": 15,
   "source": [
    "sampling_table = tf.keras.preprocessing.sequence.make_sampling_table(size=10)\n",
    "print(sampling_table)"
   ],
   "outputs": [
    {
     "output_type": "stream",
     "name": "stdout",
     "text": [
      "[0.00315225 0.00315225 0.00547597 0.00741556 0.00912817 0.01068435\n",
      " 0.01212381 0.01347162 0.01474487 0.0159558 ]\n"
     ]
    }
   ],
   "metadata": {
    "execution": {
     "iopub.execute_input": "2021-06-16T18:46:20.767393Z",
     "iopub.status.busy": "2021-06-16T18:46:20.766829Z",
     "iopub.status.idle": "2021-06-16T18:46:20.769241Z",
     "shell.execute_reply": "2021-06-16T18:46:20.768830Z"
    },
    "id": "Rn9zAnDccyRg"
   }
  },
  {
   "cell_type": "markdown",
   "source": [
    "`sampling_table[i]` denotes the probability of sampling the i-th most common word in a dataset. The function assumes a [Zipf's distribution](https://en.wikipedia.org/wiki/Zipf%27s_law) of the word frequencies for sampling."
   ],
   "metadata": {
    "id": "EHvSptcPk5fp"
   }
  },
  {
   "cell_type": "markdown",
   "source": [
    "Key point: The `tf.random.log_uniform_candidate_sampler` already assumes that the vocabulary frequency follows a log-uniform (Zipf's) distribution. Using these distribution weighted sampling also helps approximate the Noise Contrastive Estimation (NCE) loss with simpler loss functions for training a negative sampling objective."
   ],
   "metadata": {
    "id": "mRHMssMmHgH-"
   }
  },
  {
   "cell_type": "markdown",
   "source": [
    "### Generate training data"
   ],
   "metadata": {
    "id": "aj--8RFK6fgW"
   }
  },
  {
   "cell_type": "markdown",
   "source": [
    "Compile all the steps described above into a function that can be called on a list of vectorized sentences obtained from any text dataset. Notice that the sampling table is built before sampling skip-gram word pairs. You will use this function in the later sections."
   ],
   "metadata": {
    "id": "dy5hl4lQ0B2M"
   }
  },
  {
   "cell_type": "code",
   "execution_count": 16,
   "source": [
    "# Generates skip-gram pairs with negative sampling for a list of sequences\n",
    "# (int-encoded sentences) based on window size, number of negative samples\n",
    "# and vocabulary size.\n",
    "def generate_training_data(sequences, window_size, num_ns, vocab_size, seed):\n",
    "  # Elements of each training example are appended to these lists.\n",
    "  targets, contexts, labels = [], [], []\n",
    "\n",
    "  # Build the sampling table for vocab_size tokens.\n",
    "  sampling_table = tf.keras.preprocessing.sequence.make_sampling_table(vocab_size)\n",
    "\n",
    "  # Iterate over all sequences (sentences) in dataset.\n",
    "  for sequence in tqdm.tqdm(sequences):\n",
    "\n",
    "    # Generate positive skip-gram pairs for a sequence (sentence).\n",
    "    positive_skip_grams, _ = tf.keras.preprocessing.sequence.skipgrams(\n",
    "          sequence,\n",
    "          vocabulary_size=vocab_size,\n",
    "          sampling_table=sampling_table,\n",
    "          window_size=window_size,\n",
    "          negative_samples=0)\n",
    "\n",
    "    # Iterate over each positive skip-gram pair to produce training examples\n",
    "    # with positive context word and negative samples.\n",
    "    for target_word, context_word in positive_skip_grams:\n",
    "      context_class = tf.expand_dims(\n",
    "          tf.constant([context_word], dtype=\"int64\"), 1)\n",
    "      negative_sampling_candidates, _, _ = tf.random.log_uniform_candidate_sampler(\n",
    "          true_classes=context_class,\n",
    "          num_true=1,\n",
    "          num_sampled=num_ns,\n",
    "          unique=True,\n",
    "          range_max=vocab_size,\n",
    "          seed=SEED,\n",
    "          name=\"negative_sampling\")\n",
    "\n",
    "      # Build context and label vectors (for one target word)\n",
    "      negative_sampling_candidates = tf.expand_dims(\n",
    "          negative_sampling_candidates, 1)\n",
    "\n",
    "      context = tf.concat([context_class, negative_sampling_candidates], 0)\n",
    "      label = tf.constant([1] + [0]*num_ns, dtype=\"int64\")\n",
    "\n",
    "      # Append each element from the training example to global lists.\n",
    "      targets.append(target_word)\n",
    "      contexts.append(context)\n",
    "      labels.append(label)\n",
    "\n",
    "  return targets, contexts, labels"
   ],
   "outputs": [],
   "metadata": {
    "execution": {
     "iopub.execute_input": "2021-06-16T18:46:20.775998Z",
     "iopub.status.busy": "2021-06-16T18:46:20.775393Z",
     "iopub.status.idle": "2021-06-16T18:46:20.777120Z",
     "shell.execute_reply": "2021-06-16T18:46:20.777446Z"
    },
    "id": "63INISDEX1Hu"
   }
  },
  {
   "cell_type": "markdown",
   "source": [
    "## Prepare training data for Word2Vec"
   ],
   "metadata": {
    "id": "shvPC8Ji2cMK"
   }
  },
  {
   "cell_type": "markdown",
   "source": [
    "With an understanding of how to work with one sentence for a skip-gram negative sampling based Word2Vec model, you can proceed to generate training examples from a larger list of sentences!"
   ],
   "metadata": {
    "id": "j5mbZsZu6uKg"
   }
  },
  {
   "cell_type": "markdown",
   "source": [
    "### Download text corpus\n"
   ],
   "metadata": {
    "id": "OFlikI6L26nh"
   }
  },
  {
   "cell_type": "markdown",
   "source": [
    "You will use a text file of Shakespeare's writing for this tutorial. Change the following line to run this code on your own data."
   ],
   "metadata": {
    "id": "rEFavOgN98al"
   }
  },
  {
   "cell_type": "code",
   "execution_count": 17,
   "source": [
    "path_to_file = tf.keras.utils.get_file('shakespeare.txt', 'https://storage.googleapis.com/download.tensorflow.org/data/shakespeare.txt')"
   ],
   "outputs": [],
   "metadata": {
    "execution": {
     "iopub.execute_input": "2021-06-16T18:46:20.782472Z",
     "iopub.status.busy": "2021-06-16T18:46:20.781924Z",
     "iopub.status.idle": "2021-06-16T18:46:20.983587Z",
     "shell.execute_reply": "2021-06-16T18:46:20.983147Z"
    },
    "id": "QFkitxzVVaAi"
   }
  },
  {
   "cell_type": "markdown",
   "source": [
    "Read text from the file and take a look at the first few lines. "
   ],
   "metadata": {
    "id": "sOsbLq8a37dr"
   }
  },
  {
   "cell_type": "code",
   "execution_count": 18,
   "source": [
    "with open(path_to_file) as f: \n",
    "  lines = f.read().splitlines()\n",
    "for line in lines[:20]:\n",
    "  print(line)"
   ],
   "outputs": [
    {
     "output_type": "stream",
     "name": "stdout",
     "text": [
      "First Citizen:\n",
      "Before we proceed any further, hear me speak.\n",
      "\n",
      "All:\n",
      "Speak, speak.\n",
      "\n",
      "First Citizen:\n",
      "You are all resolved rather to die than to famish?\n",
      "\n",
      "All:\n",
      "Resolved. resolved.\n",
      "\n",
      "First Citizen:\n",
      "First, you know Caius Marcius is chief enemy to the people.\n",
      "\n",
      "All:\n",
      "We know't, we know't.\n",
      "\n",
      "First Citizen:\n",
      "Let us kill him, and we'll have corn at our own price.\n"
     ]
    }
   ],
   "metadata": {
    "execution": {
     "iopub.execute_input": "2021-06-16T18:46:20.987384Z",
     "iopub.status.busy": "2021-06-16T18:46:20.986824Z",
     "iopub.status.idle": "2021-06-16T18:46:20.994503Z",
     "shell.execute_reply": "2021-06-16T18:46:20.994892Z"
    },
    "id": "lfgnsUw3ofMD"
   }
  },
  {
   "cell_type": "markdown",
   "source": [
    "Use the non empty lines to construct a `tf.data.TextLineDataset` object for next steps."
   ],
   "metadata": {
    "id": "gTNZYqUs5C2V"
   }
  },
  {
   "cell_type": "code",
   "execution_count": 19,
   "source": [
    "text_ds = tf.data.TextLineDataset(path_to_file).filter(lambda x: tf.cast(tf.strings.length(x), bool))"
   ],
   "outputs": [],
   "metadata": {
    "execution": {
     "iopub.execute_input": "2021-06-16T18:46:21.000434Z",
     "iopub.status.busy": "2021-06-16T18:46:20.999883Z",
     "iopub.status.idle": "2021-06-16T18:46:21.036852Z",
     "shell.execute_reply": "2021-06-16T18:46:21.036404Z"
    },
    "id": "ViDrwy-HjAs9"
   }
  },
  {
   "cell_type": "markdown",
   "source": [
    "### Vectorize sentences from the corpus"
   ],
   "metadata": {
    "id": "vfsc88zE9upk"
   }
  },
  {
   "cell_type": "markdown",
   "source": [
    "You can use the `TextVectorization` layer to vectorize sentences from the corpus. Learn more about using this layer in this [Text Classification](https://www.tensorflow.org/tutorials/keras/text_classification) tutorial. Notice from the first few sentences above that the text needs to be in one case and punctuation needs to be removed. To do this, define a `custom_standardization function` that can be used in the TextVectorization layer."
   ],
   "metadata": {
    "id": "XfgZo8zR94KK"
   }
  },
  {
   "cell_type": "code",
   "execution_count": 20,
   "source": [
    "# Now, create a custom standardization function to lowercase the text and\n",
    "# remove punctuation.\n",
    "def custom_standardization(input_data):\n",
    "  lowercase = tf.strings.lower(input_data)\n",
    "  return tf.strings.regex_replace(lowercase,\n",
    "                                  '[%s]' % re.escape(string.punctuation), '')\n",
    "\n",
    "\n",
    "# Define the vocabulary size and number of words in a sequence.\n",
    "vocab_size = 4096\n",
    "sequence_length = 10\n",
    "\n",
    "# Use the text vectorization layer to normalize, split, and map strings to\n",
    "# integers. Set output_sequence_length length to pad all samples to same length.\n",
    "vectorize_layer = TextVectorization(\n",
    "    standardize=custom_standardization,\n",
    "    max_tokens=vocab_size,\n",
    "    output_mode='int',\n",
    "    output_sequence_length=sequence_length)"
   ],
   "outputs": [],
   "metadata": {
    "execution": {
     "iopub.execute_input": "2021-06-16T18:46:21.046382Z",
     "iopub.status.busy": "2021-06-16T18:46:21.040964Z",
     "iopub.status.idle": "2021-06-16T18:46:21.050072Z",
     "shell.execute_reply": "2021-06-16T18:46:21.050409Z"
    },
    "id": "2MlsXzo-ZlfK"
   }
  },
  {
   "cell_type": "markdown",
   "source": [
    "Call `adapt` on the text dataset to create vocabulary.\n"
   ],
   "metadata": {
    "id": "g92LuvnyBmz1"
   }
  },
  {
   "cell_type": "code",
   "execution_count": 21,
   "source": [
    "vectorize_layer.adapt(text_ds.batch(1024))"
   ],
   "outputs": [],
   "metadata": {
    "execution": {
     "iopub.execute_input": "2021-06-16T18:46:21.054199Z",
     "iopub.status.busy": "2021-06-16T18:46:21.053611Z",
     "iopub.status.idle": "2021-06-16T18:46:22.315263Z",
     "shell.execute_reply": "2021-06-16T18:46:22.315717Z"
    },
    "id": "seZau_iYMPFT"
   }
  },
  {
   "cell_type": "markdown",
   "source": [
    "Once the state of the layer has been adapted to represent the text corpus, the vocabulary can be accessed with `get_vocabulary()`. This function returns a list of all vocabulary tokens sorted (descending) by their frequency. "
   ],
   "metadata": {
    "id": "jg2z7eeHMnH-"
   }
  },
  {
   "cell_type": "code",
   "execution_count": 22,
   "source": [
    "# Save the created vocabulary for reference.\n",
    "inverse_vocab = vectorize_layer.get_vocabulary()\n",
    "print(inverse_vocab[:20])"
   ],
   "outputs": [
    {
     "output_type": "stream",
     "name": "stdout",
     "text": [
      "['', '[UNK]', 'the', 'and', 'to', 'i', 'of', 'you', 'my', 'a', 'that', 'in', 'is', 'not', 'for', 'with', 'me', 'it', 'be', 'your']\n"
     ]
    }
   ],
   "metadata": {
    "execution": {
     "iopub.execute_input": "2021-06-16T18:46:22.320243Z",
     "iopub.status.busy": "2021-06-16T18:46:22.319670Z",
     "iopub.status.idle": "2021-06-16T18:46:22.325924Z",
     "shell.execute_reply": "2021-06-16T18:46:22.326257Z"
    },
    "id": "jgw9pTA7MRaU"
   }
  },
  {
   "cell_type": "markdown",
   "source": [
    "The vectorize_layer can now be used to generate vectors for each element in the `text_ds`."
   ],
   "metadata": {
    "id": "DOQ30Tx6KA2G"
   }
  },
  {
   "cell_type": "code",
   "execution_count": 23,
   "source": [
    "# Vectorize the data in text_ds.\n",
    "text_vector_ds = text_ds.batch(1024).prefetch(AUTOTUNE).map(vectorize_layer).unbatch()"
   ],
   "outputs": [],
   "metadata": {
    "execution": {
     "iopub.execute_input": "2021-06-16T18:46:22.330310Z",
     "iopub.status.busy": "2021-06-16T18:46:22.329737Z",
     "iopub.status.idle": "2021-06-16T18:46:22.371833Z",
     "shell.execute_reply": "2021-06-16T18:46:22.372174Z"
    },
    "id": "yUVYrDp0araQ"
   }
  },
  {
   "cell_type": "markdown",
   "source": [
    "### Obtain sequences from the dataset"
   ],
   "metadata": {
    "id": "7YyH_SYzB72p"
   }
  },
  {
   "cell_type": "markdown",
   "source": [
    "You now have a `tf.data.Dataset` of integer encoded sentences. To prepare the dataset for training a Word2Vec model, flatten the dataset into a list of sentence vector sequences. This step is required as you would iterate over each sentence in the dataset to produce positive and negative examples. \n",
    "\n",
    "Note: Since the `generate_training_data()` defined earlier uses non-TF python/numpy functions, you could also use a `tf.py_function` or `tf.numpy_function` with `tf.data.Dataset.map()`."
   ],
   "metadata": {
    "id": "NFUQLX0_KaRC"
   }
  },
  {
   "cell_type": "code",
   "execution_count": 24,
   "source": [
    "sequences = list(text_vector_ds.as_numpy_iterator())\n",
    "print(len(sequences))"
   ],
   "outputs": [
    {
     "output_type": "stream",
     "name": "stdout",
     "text": [
      "32777\n"
     ]
    }
   ],
   "metadata": {
    "execution": {
     "iopub.execute_input": "2021-06-16T18:46:22.376519Z",
     "iopub.status.busy": "2021-06-16T18:46:22.375960Z",
     "iopub.status.idle": "2021-06-16T18:46:24.616943Z",
     "shell.execute_reply": "2021-06-16T18:46:24.616512Z"
    },
    "id": "sGXoOh9y11pM"
   }
  },
  {
   "cell_type": "markdown",
   "source": [
    "Take a look at few examples from `sequences`.\n"
   ],
   "metadata": {
    "id": "tDc4riukLTqg"
   }
  },
  {
   "cell_type": "code",
   "execution_count": 25,
   "source": [
    "for seq in sequences[:5]:\n",
    "  print(f\"{seq} => {[inverse_vocab[i] for i in seq]}\")"
   ],
   "outputs": [
    {
     "output_type": "stream",
     "name": "stdout",
     "text": [
      "[ 89 270   0   0   0   0   0   0   0   0] => ['first', 'citizen', '', '', '', '', '', '', '', '']\n",
      "[138  36 982 144 673 125  16 106   0   0] => ['before', 'we', 'proceed', 'any', 'further', 'hear', 'me', 'speak', '', '']\n",
      "[34  0  0  0  0  0  0  0  0  0] => ['all', '', '', '', '', '', '', '', '', '']\n",
      "[106 106   0   0   0   0   0   0   0   0] => ['speak', 'speak', '', '', '', '', '', '', '', '']\n",
      "[ 89 270   0   0   0   0   0   0   0   0] => ['first', 'citizen', '', '', '', '', '', '', '', '']\n"
     ]
    }
   ],
   "metadata": {
    "execution": {
     "iopub.execute_input": "2021-06-16T18:46:24.621930Z",
     "iopub.status.busy": "2021-06-16T18:46:24.621248Z",
     "iopub.status.idle": "2021-06-16T18:46:24.623974Z",
     "shell.execute_reply": "2021-06-16T18:46:24.623566Z"
    },
    "id": "WZf1RIbB2Dfb"
   }
  },
  {
   "cell_type": "markdown",
   "source": [
    "### Generate training examples from sequences"
   ],
   "metadata": {
    "id": "yDzSOjNwCWNh"
   }
  },
  {
   "cell_type": "markdown",
   "source": [
    "`sequences` is now a list of int encoded sentences. Just call the `generate_training_data()` function defined earlier to generate training examples for the Word2Vec model. To recap, the function iterates over each word from each sequence to collect positive and negative context words. Length of target, contexts and labels should be same, representing the total number of training examples."
   ],
   "metadata": {
    "id": "BehvYr-nEKyY"
   }
  },
  {
   "cell_type": "code",
   "execution_count": 26,
   "source": [
    "targets, contexts, labels = generate_training_data(\n",
    "    sequences=sequences,\n",
    "    window_size=2,\n",
    "    num_ns=4,\n",
    "    vocab_size=vocab_size,\n",
    "    seed=SEED)\n",
    "print(len(targets), len(contexts), len(labels))"
   ],
   "outputs": [
    {
     "output_type": "stream",
     "name": "stderr",
     "text": [
      "100%|██████████| 32777/32777 [00:07<00:00, 4649.04it/s]"
     ]
    },
    {
     "output_type": "stream",
     "name": "stdout",
     "text": [
      "64620 64620 64620\n"
     ]
    },
    {
     "output_type": "stream",
     "name": "stderr",
     "text": [
      "\n"
     ]
    }
   ],
   "metadata": {
    "execution": {
     "iopub.execute_input": "2021-06-16T18:46:24.628021Z",
     "iopub.status.busy": "2021-06-16T18:46:24.627471Z",
     "iopub.status.idle": "2021-06-16T18:46:50.497508Z",
     "shell.execute_reply": "2021-06-16T18:46:50.497083Z"
    },
    "id": "44DJ22M6nX5o"
   }
  },
  {
   "cell_type": "markdown",
   "source": [
    "### Configure the dataset for performance"
   ],
   "metadata": {
    "id": "97PqsusOFEpc"
   }
  },
  {
   "cell_type": "markdown",
   "source": [
    "To perform efficient batching for the potentially large number of training examples, use the `tf.data.Dataset` API. After this step, you would have a `tf.data.Dataset` object of `(target_word, context_word), (label)` elements to train your Word2Vec model!"
   ],
   "metadata": {
    "id": "7jnFVySViQTj"
   }
  },
  {
   "cell_type": "code",
   "execution_count": 27,
   "source": [
    "BATCH_SIZE = 1024\n",
    "BUFFER_SIZE = 10000\n",
    "dataset = tf.data.Dataset.from_tensor_slices(((targets, contexts), labels))\n",
    "dataset = dataset.shuffle(BUFFER_SIZE).batch(BATCH_SIZE, drop_remainder=True)\n",
    "print(dataset)"
   ],
   "outputs": [
    {
     "output_type": "stream",
     "name": "stdout",
     "text": [
      "<BatchDataset shapes: (((1024,), (1024, 5, 1)), (1024, 5)), types: ((tf.int32, tf.int64), tf.int64)>\n"
     ]
    }
   ],
   "metadata": {
    "execution": {
     "iopub.execute_input": "2021-06-16T18:46:50.541090Z",
     "iopub.status.busy": "2021-06-16T18:46:50.525637Z",
     "iopub.status.idle": "2021-06-16T18:46:54.636851Z",
     "shell.execute_reply": "2021-06-16T18:46:54.637232Z"
    },
    "id": "nbu8PxPSnVY2"
   }
  },
  {
   "cell_type": "markdown",
   "source": [
    "Add `cache()` and `prefetch()` to improve performance."
   ],
   "metadata": {
    "id": "tyrNX6Fs6K3F"
   }
  },
  {
   "cell_type": "code",
   "execution_count": 28,
   "source": [
    "dataset = dataset.cache().prefetch(buffer_size=AUTOTUNE)\n",
    "print(dataset)"
   ],
   "outputs": [
    {
     "output_type": "stream",
     "name": "stdout",
     "text": [
      "<PrefetchDataset shapes: (((1024,), (1024, 5, 1)), (1024, 5)), types: ((tf.int32, tf.int64), tf.int64)>\n"
     ]
    }
   ],
   "metadata": {
    "execution": {
     "iopub.execute_input": "2021-06-16T18:46:54.641103Z",
     "iopub.status.busy": "2021-06-16T18:46:54.640562Z",
     "iopub.status.idle": "2021-06-16T18:46:54.643317Z",
     "shell.execute_reply": "2021-06-16T18:46:54.643689Z"
    },
    "id": "Y5Ueg6bcFPVL"
   }
  },
  {
   "cell_type": "markdown",
   "source": [
    "## Model and Training"
   ],
   "metadata": {
    "id": "1S-CmUMszyEf"
   }
  },
  {
   "cell_type": "markdown",
   "source": [
    "The Word2Vec model can be implemented as a classifier to distinguish between true context words from skip-grams and false context words obtained through negative sampling. You can perform a dot product between the embeddings of target and context words to obtain predictions for labels and compute loss against true labels in the dataset."
   ],
   "metadata": {
    "id": "sQFqaBMPwBqC"
   }
  },
  {
   "cell_type": "markdown",
   "source": [
    "### Subclassed Word2Vec Model"
   ],
   "metadata": {
    "id": "oc7kTbiwD9sy"
   }
  },
  {
   "cell_type": "markdown",
   "source": [
    "Use the [Keras Subclassing API](https://www.tensorflow.org/guide/keras/custom_layers_and_models) to define your Word2Vec model with the following layers:\n",
    "\n",
    "\n",
    "* `target_embedding`: A `tf.keras.layers.Embedding` layer which looks up the embedding of a word when it appears as a target word. The number of parameters in this layer are `(vocab_size * embedding_dim)`.\n",
    "* `context_embedding`: Another `tf.keras.layers.Embedding` layer which looks up the embedding of a word when it appears as a context word. The number of parameters in this layer are the same as those in `target_embedding`, i.e. `(vocab_size * embedding_dim)`.\n",
    "* `dots`: A `tf.keras.layers.Dot` layer that computes the dot product of target and context embeddings from a training pair.\n",
    "* `flatten`: A `tf.keras.layers.Flatten` layer to flatten the results of `dots` layer into logits.\n",
    "\n",
    "With the subclassed model, you can define the `call()` function that accepts `(target, context)` pairs which can then be passed into their corresponding embedding layer. Reshape the `context_embedding` to perform a dot product with `target_embedding` and return the flattened result."
   ],
   "metadata": {
    "id": "Jvr9pM1G1sQN"
   }
  },
  {
   "cell_type": "markdown",
   "source": [
    "Key point: The `target_embedding` and `context_embedding` layers can be shared as well. You could also use a concatenation of both embeddings as the final Word2Vec embedding."
   ],
   "metadata": {
    "id": "KiAwuIqqw7-7"
   }
  },
  {
   "cell_type": "code",
   "execution_count": 33,
   "source": [
    "class Word2Vec(Model):\n",
    "  def __init__(self, vocab_size, embedding_dim):\n",
    "    super(Word2Vec, self).__init__()\n",
    "    self.target_embedding = Embedding(vocab_size,\n",
    "                                      embedding_dim,\n",
    "                                      input_length=1,\n",
    "                                      name=\"w2v_embedding\")\n",
    "    self.context_embedding = Embedding(vocab_size,\n",
    "                                       embedding_dim,\n",
    "                                       input_length=num_ns+1)\n",
    "    self.dots = Dot(axes=(3, 2))\n",
    "    self.flatten = Flatten()\n",
    "\n",
    "  def call(self, pair):\n",
    "    target, context = pair\n",
    "    # ic(target.shape, context.shape)\n",
    "    word_emb = self.target_embedding(target)\n",
    "    context_emb = self.context_embedding(context)\n",
    "    # ic(word_emb.shape, context_emb.shape)\n",
    "    dots = self.dots([context_emb, word_emb])\n",
    "    # ic(dots.shape)\n",
    "    res = self.flatten(dots)\n",
    "    # ic(res.shape)\n",
    "    return res"
   ],
   "outputs": [],
   "metadata": {
    "execution": {
     "iopub.execute_input": "2021-06-16T18:46:54.649919Z",
     "iopub.status.busy": "2021-06-16T18:46:54.649369Z",
     "iopub.status.idle": "2021-06-16T18:46:54.651279Z",
     "shell.execute_reply": "2021-06-16T18:46:54.650880Z"
    },
    "id": "i9ec-sS6xd8Z"
   }
  },
  {
   "cell_type": "markdown",
   "source": [
    "### Define loss function and compile model\n"
   ],
   "metadata": {
    "id": "-RLKz9LFECXu"
   }
  },
  {
   "cell_type": "markdown",
   "source": [
    "For simplicity, you can use `tf.keras.losses.CategoricalCrossEntropy` as an alternative to the negative sampling loss. If you would like to write your own custom loss function, you can also do so as follows:\n",
    "\n",
    "``` python\n",
    "def custom_loss(x_logit, y_true):\n",
    "      return tf.nn.sigmoid_cross_entropy_with_logits(logits=x_logit, labels=y_true)\n",
    "```\n",
    "\n",
    "It's time to build your model! Instantiate your Word2Vec class with an embedding dimension of 128 (you could experiment with different values). Compile the model with the `tf.keras.optimizers.Adam` optimizer. "
   ],
   "metadata": {
    "id": "I3Md-9QanqBM"
   }
  },
  {
   "cell_type": "code",
   "execution_count": 34,
   "source": [
    "embedding_dim = 128\n",
    "word2vec = Word2Vec(vocab_size, embedding_dim)\n",
    "word2vec.compile(optimizer='adam',\n",
    "                 loss=tf.keras.losses.CategoricalCrossentropy(from_logits=True),\n",
    "                 metrics=['accuracy'],\n",
    "                 run_eagerly=True)"
   ],
   "outputs": [],
   "metadata": {
    "execution": {
     "iopub.execute_input": "2021-06-16T18:46:54.655782Z",
     "iopub.status.busy": "2021-06-16T18:46:54.655183Z",
     "iopub.status.idle": "2021-06-16T18:46:54.836295Z",
     "shell.execute_reply": "2021-06-16T18:46:54.836660Z"
    },
    "id": "ekQg_KbWnnmQ"
   }
  },
  {
   "cell_type": "markdown",
   "source": [
    "Also define a callback to log training statistics for tensorboard."
   ],
   "metadata": {
    "id": "P3MUMrluqNX2"
   }
  },
  {
   "cell_type": "code",
   "execution_count": 35,
   "source": [
    "tensorboard_callback = tf.keras.callbacks.TensorBoard(log_dir=\"logs\")"
   ],
   "outputs": [],
   "metadata": {
    "execution": {
     "iopub.execute_input": "2021-06-16T18:46:54.840621Z",
     "iopub.status.busy": "2021-06-16T18:46:54.840073Z",
     "iopub.status.idle": "2021-06-16T18:46:55.090867Z",
     "shell.execute_reply": "2021-06-16T18:46:55.091248Z"
    },
    "id": "9d-ftBCeEZIR"
   }
  },
  {
   "cell_type": "markdown",
   "source": [
    "Train the model with `dataset` prepared above for some number of epochs."
   ],
   "metadata": {
    "id": "h5wEBotlGZ7B"
   }
  },
  {
   "cell_type": "code",
   "execution_count": 36,
   "source": [
    "word2vec.fit(dataset, epochs=20, callbacks=[tensorboard_callback])"
   ],
   "outputs": [
    {
     "output_type": "stream",
     "name": "stderr",
     "text": [
      "ic| target.shape: TensorShape([1024, 1])\n",
      "    context.shape: TensorShape([1024, 5, 1])\n",
      "ic| word_emb.shape: TensorShape([1024, 1, 128])\n",
      "    context_emb.shape: TensorShape([1024, 5, 1, 128])\n",
      "ic| dots.shape: TensorShape([1024, 5, 1, 1])\n",
      "ic| res.shape: TensorShape([1024, 5])\n"
     ]
    },
    {
     "output_type": "stream",
     "name": "stdout",
     "text": [
      "Epoch 1/20\n",
      " 1/63 [..............................] - ETA: 12s - loss: 1.6097 - accuracy: 0.1914"
     ]
    },
    {
     "output_type": "stream",
     "name": "stderr",
     "text": [
      "ic| target.shape: TensorShape([1024, 1])\n",
      "    context.shape: TensorShape([1024, 5, 1])\n",
      "ic| word_emb.shape: TensorShape([1024, 1, 128])\n",
      "    context_emb.shape: TensorShape([1024, 5, 1, "
     ]
    }
   ],
   "metadata": {
    "execution": {
     "iopub.execute_input": "2021-06-16T18:46:55.095911Z",
     "iopub.status.busy": "2021-06-16T18:46:55.095275Z",
     "iopub.status.idle": "2021-06-16T18:47:03.076585Z",
     "shell.execute_reply": "2021-06-16T18:47:03.076071Z"
    },
    "id": "gmC1BJalEZIY"
   }
  },
  {
   "cell_type": "markdown",
   "source": [
    "Tensorboard now shows the Word2Vec model's accuracy and loss."
   ],
   "metadata": {
    "id": "wze38jG57XvZ"
   }
  },
  {
   "cell_type": "code",
   "execution_count": null,
   "source": [
    "#docs_infra: no_execute\n",
    "%tensorboard --logdir logs"
   ],
   "outputs": [],
   "metadata": {
    "id": "22E9eqS55rgz"
   }
  },
  {
   "cell_type": "markdown",
   "source": [
    "<!-- <img class=\"tfo-display-only-on-site\" src=\"images/word2vec_tensorboard.png\"/> -->"
   ],
   "metadata": {
    "id": "awF3iRQCZOLj"
   }
  },
  {
   "cell_type": "markdown",
   "source": [
    "## Embedding lookup and analysis"
   ],
   "metadata": {
    "id": "TaDW2tIIz8fL"
   }
  },
  {
   "cell_type": "markdown",
   "source": [
    "Obtain the weights from the model using `get_layer()` and `get_weights()`. The `get_vocabulary()` function provides the vocabulary to build a metadata file with one token per line. "
   ],
   "metadata": {
    "id": "Zp5rv01WG2YA"
   }
  },
  {
   "cell_type": "code",
   "execution_count": null,
   "source": [
    "weights = word2vec.get_layer('w2v_embedding').get_weights()[0]\n",
    "vocab = vectorize_layer.get_vocabulary()"
   ],
   "outputs": [],
   "metadata": {
    "execution": {
     "iopub.execute_input": "2021-06-16T18:47:03.080624Z",
     "iopub.status.busy": "2021-06-16T18:47:03.080091Z",
     "iopub.status.idle": "2021-06-16T18:47:03.088754Z",
     "shell.execute_reply": "2021-06-16T18:47:03.089099Z"
    },
    "id": "_Uamp1YH8RzU"
   }
  },
  {
   "cell_type": "markdown",
   "source": [
    "Create and save the vectors and metadata file. "
   ],
   "metadata": {
    "id": "gWzdmUzS8Sl4"
   }
  },
  {
   "cell_type": "code",
   "execution_count": null,
   "source": [
    "out_v = io.open('vectors.tsv', 'w', encoding='utf-8')\n",
    "out_m = io.open('metadata.tsv', 'w', encoding='utf-8')\n",
    "\n",
    "for index, word in enumerate(vocab):\n",
    "  if index == 0:\n",
    "    continue  # skip 0, it's padding.\n",
    "  vec = weights[index]\n",
    "  out_v.write('\\t'.join([str(x) for x in vec]) + \"\\n\")\n",
    "  out_m.write(word + \"\\n\")\n",
    "out_v.close()\n",
    "out_m.close()"
   ],
   "outputs": [],
   "metadata": {
    "execution": {
     "iopub.execute_input": "2021-06-16T18:47:03.093632Z",
     "iopub.status.busy": "2021-06-16T18:47:03.093059Z",
     "iopub.status.idle": "2021-06-16T18:47:03.415093Z",
     "shell.execute_reply": "2021-06-16T18:47:03.414464Z"
    },
    "id": "VLIahl9s53XT"
   }
  },
  {
   "cell_type": "markdown",
   "source": [
    "Download the `vectors.tsv` and `metadata.tsv` to analyze the obtained embeddings in the [Embedding Projector](https://projector.tensorflow.org/)."
   ],
   "metadata": {
    "id": "1T8KcThhIU8-"
   }
  },
  {
   "cell_type": "code",
   "execution_count": null,
   "source": [
    "try:\n",
    "  from google.colab import files\n",
    "  files.download('vectors.tsv')\n",
    "  files.download('metadata.tsv')\n",
    "except Exception:\n",
    "  pass"
   ],
   "outputs": [],
   "metadata": {
    "execution": {
     "iopub.execute_input": "2021-06-16T18:47:03.419205Z",
     "iopub.status.busy": "2021-06-16T18:47:03.418655Z",
     "iopub.status.idle": "2021-06-16T18:47:03.420420Z",
     "shell.execute_reply": "2021-06-16T18:47:03.420754Z"
    },
    "id": "lUsjQOKMIV2z"
   }
  },
  {
   "cell_type": "markdown",
   "source": [
    "## Next steps\n"
   ],
   "metadata": {
    "id": "iS_uMeMw3Xpj"
   }
  },
  {
   "cell_type": "markdown",
   "source": [
    "This tutorial has shown you how to implement a skip-gram Word2Vec model with negative sampling from scratch and visualize the obtained word embeddings.\n",
    "\n",
    "* To learn more about word vectors and their mathematical representations, refer to these [notes](https://web.stanford.edu/class/cs224n/readings/cs224n-2019-notes01-wordvecs1.pdf).\n",
    "\n",
    "* To learn more about advanced text processing, read the [Transformer model for language understanding](https://www.tensorflow.org/tutorials/text/transformer) tutorial.\n",
    "\n",
    "* If you’re interested in pre-trained embedding models, you may also be interested in [Exploring the TF-Hub CORD-19 Swivel Embeddings](https://www.tensorflow.org/hub/tutorials/cord_19_embeddings_keras), or the [Multilingual Universal Sentence Encoder](https://www.tensorflow.org/hub/tutorials/cross_lingual_similarity_with_tf_hub_multilingual_universal_encoder)\n",
    "\n",
    "* You may also like to train the model on a new dataset (there are many available in [TensorFlow Datasets](https://www.tensorflow.org/datasets)).\n"
   ],
   "metadata": {
    "id": "BSgAZpwF5xF_"
   }
  }
 ],
 "metadata": {
  "colab": {
   "collapsed_sections": [],
   "name": "word2vec.ipynb",
   "toc_visible": true
  },
  "kernelspec": {
   "name": "python3",
   "display_name": "Python 3.6.10 64-bit ('base': conda)"
  },
  "language_info": {
   "codemirror_mode": {
    "name": "ipython",
    "version": 3
   },
   "file_extension": ".py",
   "mimetype": "text/x-python",
   "name": "python",
   "nbconvert_exporter": "python",
   "pygments_lexer": "ipython3",
   "version": "3.6.10"
  },
  "interpreter": {
   "hash": "98b0a9b7b4eaaa670588a142fd0a9b87eaafe866f1db4228be72b4211d12040f"
  }
 },
 "nbformat": 4,
 "nbformat_minor": 2
}