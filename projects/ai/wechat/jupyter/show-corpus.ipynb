{
 "cells": [
  {
   "cell_type": "code",
   "execution_count": 38,
   "metadata": {},
   "outputs": [],
   "source": [
    "import numpy as np\n",
    "import pandas as pd\n",
    "from collections import OrderedDict, defaultdict\n",
    "import glob\n",
    "import sys,os\n",
    "sys.path.append('..')\n",
    "sys.path.append('../../../../utils')\n",
    "sys.path.append('../../../../third')\n",
    "import gezi\n",
    "from gezi import tqdm\n",
    "tqdm.pandas()"
   ]
  },
  {
   "cell_type": "code",
   "execution_count": 39,
   "metadata": {},
   "outputs": [],
   "source": [
    "with gezi.Timer('read train user_actions'):\n",
    "  d = pd.read_csv('../input/user_action.csv')\n",
    "  try:\n",
    "    d1 = pd.read_csv('../input/v1/user_action.csv')\n",
    "    d = pd.concat([d, d1])\n",
    "  except Exception:\n",
    "    pass"
   ]
  },
  {
   "cell_type": "code",
   "execution_count": 40,
   "metadata": {},
   "outputs": [],
   "source": [
    "with gezi.Timer('read test and merge'):\n",
    "  dt = pd.read_csv('../input/test_a.csv')\n",
    "  try:\n",
    "    dt1a = pd.read_csv('../input/v1/test_a.csv')\n",
    "    dt1b = pd.read_csv('../input/v1/test_b.csv')\n",
    "    dt = pd.concat([dt, dt1a, dt1b])\n",
    "  except Exception:\n",
    "    dtb = pd.read_csv('../input/test_b.csv')\n",
    "    dt = pd.concat([dt, dtb])"
   ]
  },
  {
   "cell_type": "code",
   "execution_count": 41,
   "metadata": {},
   "outputs": [],
   "source": [
    "dt['date_'] = 15"
   ]
  },
  {
   "cell_type": "code",
   "execution_count": 42,
   "metadata": {},
   "outputs": [
    {
     "data": {
      "text/plain": [
       "{1, 2, 3, 4, 5, 6, 7, 8, 9, 10, 11, 12, 13, 14}"
      ]
     },
     "execution_count": 42,
     "metadata": {},
     "output_type": "execute_result"
    }
   ],
   "source": [
    "set(d.date_)"
   ]
  },
  {
   "cell_type": "code",
   "execution_count": 43,
   "metadata": {},
   "outputs": [],
   "source": [
    "dshow = pd.concat([d[['userid', 'feedid', 'date_']],\n",
    "                  dt[['userid', 'feedid', 'date_']]])\n",
    "dshow = dshow.sort_values(['date_'], ascending=True)"
   ]
  },
  {
   "cell_type": "code",
   "execution_count": 44,
   "metadata": {},
   "outputs": [],
   "source": [
    "days = [\n",
    "  # # 包含14号 1表示half \n",
    "  # 并且14号只有一半用户使用 userid % 2 == 0 14.5 (也许13.5更合适) date2<=13.5\n",
    "  # 也就是数据量 13 < 14.5(13.5) < 14 < 15\n",
    "  (14, 1),  # valid show一半用户可见\n",
    "  (13, 0),  # 截止到13号数据,valid show完全不可见\n",
    "  (14, 0),  # 包含14号全部用户数据 (valid show完全可见)\n",
    "  (15, 0)   # 包含15号(test_a)全部数据\n",
    "]"
   ]
  },
  {
   "cell_type": "code",
   "execution_count": 45,
   "metadata": {},
   "outputs": [
    {
     "name": "stderr",
     "output_type": "stream",
     "text": [
      "feed_info: 100%|██████████| 106444/106444 [00:01<00:00, 54022.09it/s]\n"
     ]
    }
   ],
   "source": [
    "feeds = {}\n",
    "def cache_feed():\n",
    "  df = pd.read_csv('../input/feed_info.csv')\n",
    "  df = df.fillna(-1)\n",
    "  for row in tqdm(df.itertuples(), total=len(df), desc='feed_info'):\n",
    "    row = row._asdict()               \n",
    "    feeds[row['feedid']] = row\n",
    "cache_feed()"
   ]
  },
  {
   "cell_type": "code",
   "execution_count": 1,
   "metadata": {},
   "outputs": [],
   "source": [
    "MAX_LEN = 1000"
   ]
  },
  {
   "cell_type": "code",
   "execution_count": null,
   "metadata": {},
   "outputs": [],
   "source": [
    "MODE = 'ignore' # or 'split'"
   ]
  },
  {
   "cell_type": "code",
   "execution_count": null,
   "metadata": {},
   "outputs": [],
   "source": [
    "def print_items(items, f, max_len=None, mode='ignore'):\n",
    "  l = []\n",
    "  if not max_len:\n",
    "    l = [items]\n",
    "  else:\n",
    "    len_ = len(items)\n",
    "    if len_ > max_len and mode == 'ignore':\n",
    "      return\n",
    "    count = -(-len_ // max_len)\n",
    "    l = np.array_split(items, count)\n",
    "    if count > 1:\n",
    "      l[-1] = items[-max_len:]\n",
    "  for items in l:\n",
    "    print(' '.join(map(str, items)), file=f)"
   ]
  },
  {
   "cell_type": "code",
   "execution_count": 53,
   "metadata": {},
   "outputs": [],
   "source": [
    "def write_user_corpus(d, mark, group_byday=False):\n",
    "  # TODO doc 对应的user比较多 特别复赛20w user， 初赛只有2w 可能需要shuffle 大的doc 然后限定小窗口\n",
    "  keys = ['feedid'] if not group_byday else ['feedid', 'date_']\n",
    "  users = d.groupby(keys)['userid'].progress_apply(list).reset_index(name='users')\n",
    "  users['num_users'] = users.users.apply(len)\n",
    "  corpus_name = 'user_corpus' if not group_byday else 'user_day_corpus'\n",
    "  with open(f'../input/{mark}/{corpus_name}.txt', 'w') as f:\n",
    "    for users_ in tqdm(users.users, desc=f'{mark}/{corpus_name}'):\n",
    "      # TODO 如果过长 一个doc展现了非常多的user 是忽略比较好 还是分段比较好\n",
    "      print_items(users_, f, MAX_LEN)"
   ]
  },
  {
   "cell_type": "code",
   "execution_count": 54,
   "metadata": {},
   "outputs": [],
   "source": [
    "def write_doc_corpus(d, mark, group_byday=False):\n",
    "  # TODO doc 对应的user比较多 特别复赛20w user， 初赛只有2w 可能需要shuffle 大的doc 然后限定小窗口\n",
    "  keys = ['userid'] if not group_byday else ['feedid', 'date_']\n",
    "  docs = d.groupby(keys)['feedid'].progress_apply(list).reset_index(name='docs')\n",
    "  docs['num_docs'] = docs.docs.apply(len)\n",
    "  corpus_name = 'doc_corpus' if not group_byday else 'doc_day_corpus'\n",
    "  with open(f'../input/{mark}/{corpus_name}.txt', 'w') as f:\n",
    "    for docs_ in tqdm(docs.docs, desc=f'{mark}/{corpus_name}'):\n",
    "      # TODO doc 虽然能跑 但是非常慢 大约需要6-7个小时 可以考虑也忽略掉长的? 一个user有过多doc的\n",
    "      print_items(docs_, f)\n",
    "  attrs = ['author', 'singer', 'song']\n",
    "  names = ['authorid', 'bgm_singer_id', 'bgm_song_id']\n",
    "  for attr, name in zip(attrs, names):\n",
    "    corpus_name = f'{attr}_corpus' if not group_byday else f'{attr}_day_corpus'\n",
    "    with open(f'../input/{mark}/{corpus_name}.txt', 'w') as f:\n",
    "      for docs_ in tqdm(docs.docs, desc=f'{mark}/{corpus_name}'):\n",
    "        items = [feeds[doc][name] for doc in docs_]\n",
    "        print_items(items, f)"
   ]
  },
  {
   "cell_type": "code",
   "execution_count": 55,
   "metadata": {},
   "outputs": [
    {
     "name": "stderr",
     "output_type": "stream",
     "text": [
      "  0%|          | 0/4 [00:00<?, ?it/s, day=13]\n",
      "  0%|          | 0/98243 [00:00<?, ?it/s]\u001b[A\n",
      "  0%|          | 1/98243 [00:10<288:40:15, 10.58s/it]\u001b[A\n",
      "  1%|▏         | 1252/98243 [00:10<09:41, 166.78it/s]\u001b[A\n",
      "  3%|▎         | 2568/98243 [00:10<03:53, 409.48it/s]\u001b[A\n",
      "  4%|▍         | 3855/98243 [00:10<02:08, 732.00it/s]\u001b[A\n",
      "  5%|▌         | 5141/98243 [00:10<01:19, 1165.42it/s]\u001b[A\n",
      "  7%|▋         | 6451/98243 [00:11<00:52, 1745.10it/s]\u001b[A\n",
      "  8%|▊         | 7731/98243 [00:11<00:38, 2368.23it/s]\u001b[A\n",
      "  9%|▉         | 9036/98243 [00:11<00:27, 3242.48it/s]\u001b[A\n",
      " 10%|█         | 10279/98243 [00:11<00:20, 4203.61it/s]\u001b[A\n",
      " 12%|█▏        | 11543/98243 [00:11<00:16, 5298.31it/s]\u001b[A\n",
      " 13%|█▎        | 12760/98243 [00:11<00:13, 6352.26it/s]\u001b[A\n",
      " 14%|█▍        | 14108/98243 [00:11<00:11, 7629.17it/s]\u001b[A\n",
      " 16%|█▌        | 15353/98243 [00:11<00:09, 8602.72it/s]\u001b[A\n",
      " 17%|█▋        | 16594/98243 [00:12<00:09, 8352.77it/s]\u001b[A\n",
      " 18%|█▊        | 17931/98243 [00:12<00:08, 9465.53it/s]\u001b[A\n",
      " 20%|█▉        | 19250/98243 [00:12<00:07, 10358.83it/s]\u001b[A\n",
      " 21%|██        | 20524/98243 [00:12<00:07, 10967.51it/s]\u001b[A\n",
      " 22%|██▏       | 21757/98243 [00:12<00:07, 10890.59it/s]\u001b[A\n",
      " 23%|██▎       | 23018/98243 [00:12<00:06, 11350.09it/s]\u001b[A\n",
      " 25%|██▍       | 24225/98243 [00:12<00:07, 10119.15it/s]\u001b[A\n",
      " 26%|██▌       | 25524/98243 [00:12<00:06, 10858.46it/s]\u001b[A\n",
      " 27%|██▋       | 26795/98243 [00:12<00:06, 11350.51it/s]\u001b[A\n",
      " 28%|██▊       | 27990/98243 [00:12<00:06, 11515.19it/s]\u001b[A\n",
      " 30%|██▉       | 29254/98243 [00:13<00:05, 11818.83it/s]\u001b[A\n",
      " 31%|███       | 30509/98243 [00:13<00:05, 12023.85it/s]\u001b[A\n",
      " 32%|███▏      | 31732/98243 [00:13<00:05, 11986.17it/s]\u001b[A\n",
      " 34%|███▎      | 32945/98243 [00:13<00:06, 10402.10it/s]\u001b[A\n",
      " 35%|███▍      | 34220/98243 [00:13<00:05, 11023.35it/s]\u001b[A\n",
      " 36%|███▌      | 35485/98243 [00:13<00:05, 11463.69it/s]\u001b[A\n",
      " 37%|███▋      | 36840/98243 [00:13<00:05, 12050.98it/s]\u001b[A\n",
      " 39%|███▉      | 38072/98243 [00:13<00:04, 12035.58it/s]\u001b[A\n",
      " 40%|████      | 39348/98243 [00:13<00:04, 12244.17it/s]\u001b[A\n",
      " 41%|████▏     | 40586/98243 [00:14<00:05, 10462.28it/s]\u001b[A\n",
      " 43%|████▎     | 41841/98243 [00:14<00:05, 11008.12it/s]\u001b[A\n",
      " 44%|████▍     | 43149/98243 [00:14<00:04, 11572.63it/s]\u001b[A\n",
      " 45%|████▌     | 44420/98243 [00:14<00:04, 11856.54it/s]\u001b[A\n",
      " 47%|████▋     | 45795/98243 [00:14<00:04, 12295.89it/s]\u001b[A\n",
      " 48%|████▊     | 47090/98243 [00:14<00:04, 12466.11it/s]\u001b[A\n",
      " 49%|████▉     | 48392/98243 [00:14<00:03, 12610.83it/s]\u001b[A\n",
      " 51%|█████     | 49665/98243 [00:14<00:04, 10759.73it/s]\u001b[A\n",
      " 52%|█████▏    | 50891/98243 [00:14<00:04, 11146.42it/s]\u001b[A\n",
      " 53%|█████▎    | 52145/98243 [00:15<00:03, 11525.78it/s]\u001b[A\n",
      " 54%|█████▍    | 53416/98243 [00:15<00:03, 11857.34it/s]\u001b[A\n",
      " 56%|█████▌    | 54668/98243 [00:15<00:03, 12044.40it/s]\u001b[A\n",
      " 57%|█████▋    | 55899/98243 [00:15<00:03, 12118.26it/s]\u001b[A\n",
      " 58%|█████▊    | 57125/98243 [00:15<00:03, 10378.76it/s]\u001b[A\n",
      " 59%|█████▉    | 58410/98243 [00:15<00:03, 11029.05it/s]\u001b[A\n",
      " 61%|██████    | 59569/98243 [00:15<00:03, 11120.00it/s]\u001b[A\n",
      " 62%|██████▏   | 60843/98243 [00:15<00:03, 11572.92it/s]\u001b[A\n",
      " 63%|██████▎   | 62100/98243 [00:15<00:03, 11853.87it/s]\u001b[A\n",
      " 64%|██████▍   | 63306/98243 [00:16<00:02, 11887.80it/s]\u001b[A\n",
      " 66%|██████▌   | 64509/98243 [00:16<00:02, 11499.36it/s]\u001b[A\n",
      " 67%|██████▋   | 65671/98243 [00:16<00:03, 9919.50it/s] \u001b[A\n",
      " 68%|██████▊   | 66931/98243 [00:16<00:02, 10613.75it/s]\u001b[A\n",
      " 69%|██████▉   | 68058/98243 [00:16<00:02, 10791.53it/s]\u001b[A\n",
      " 71%|███████   | 69299/98243 [00:16<00:02, 11243.25it/s]\u001b[A\n",
      " 72%|███████▏  | 70556/98243 [00:16<00:02, 11621.41it/s]\u001b[A\n",
      " 73%|███████▎  | 71738/98243 [00:16<00:02, 11578.25it/s]\u001b[A\n",
      " 74%|███████▍  | 73072/98243 [00:16<00:02, 12086.44it/s]\u001b[A\n",
      " 76%|███████▌  | 74292/98243 [00:17<00:02, 10730.73it/s]\u001b[A\n",
      " 77%|███████▋  | 75572/98243 [00:17<00:02, 11290.78it/s]\u001b[A\n",
      " 78%|███████▊  | 76791/98243 [00:17<00:01, 11540.74it/s]\u001b[A\n",
      " 79%|███████▉  | 78035/98243 [00:17<00:01, 11793.17it/s]\u001b[A\n",
      " 81%|████████  | 79269/98243 [00:17<00:01, 11946.14it/s]\u001b[A\n",
      " 82%|████████▏ | 80536/98243 [00:17<00:01, 12157.04it/s]\u001b[A\n",
      " 83%|████████▎ | 81762/98243 [00:17<00:01, 10388.18it/s]\u001b[A\n",
      " 85%|████████▍ | 83151/98243 [00:17<00:01, 11311.60it/s]\u001b[A\n",
      " 86%|████████▌ | 84356/98243 [00:17<00:01, 11373.30it/s]\u001b[A\n",
      " 87%|████████▋ | 85528/98243 [00:18<00:01, 11036.54it/s]\u001b[A\n",
      " 88%|████████▊ | 86657/98243 [00:18<00:01, 10695.80it/s]\u001b[A\n",
      " 89%|████████▉ | 87907/98243 [00:18<00:00, 11180.93it/s]\u001b[A\n",
      " 91%|█████████ | 89175/98243 [00:18<00:00, 11559.04it/s]\u001b[A\n",
      " 92%|█████████▏| 90345/98243 [00:18<00:00, 9998.15it/s] \u001b[A\n",
      " 93%|█████████▎| 91389/98243 [00:19<00:02, 2387.94it/s]\u001b[A\n",
      " 94%|█████████▍| 92689/98243 [00:19<00:01, 3246.06it/s]\u001b[A\n",
      " 96%|█████████▌| 93907/98243 [00:20<00:01, 4152.40it/s]\u001b[A\n",
      " 97%|█████████▋| 95201/98243 [00:20<00:00, 5279.51it/s]\u001b[A\n",
      " 98%|█████████▊| 96437/98243 [00:20<00:00, 6376.03it/s]\u001b[A\n",
      "100%|██████████| 98243/98243 [00:21<00:00, 4543.10it/s]\u001b[A\n",
      "  0%|          | 0/4 [00:25<?, ?it/s, day=13]\n"
     ]
    },
    {
     "ename": "KeyboardInterrupt",
     "evalue": "",
     "output_type": "error",
     "traceback": [
      "\u001b[0;31m---------------------------------------------------------------------------\u001b[0m",
      "\u001b[0;31mKeyboardInterrupt\u001b[0m                         Traceback (most recent call last)",
      "\u001b[0;32m<ipython-input-55-339318233f8d>\u001b[0m in \u001b[0;36m<module>\u001b[0;34m()\u001b[0m\n\u001b[1;32m      7\u001b[0m   \u001b[0;32mif\u001b[0m \u001b[0mis_half\u001b[0m\u001b[0;34m:\u001b[0m\u001b[0;34m\u001b[0m\u001b[0;34m\u001b[0m\u001b[0m\n\u001b[1;32m      8\u001b[0m     \u001b[0md\u001b[0m \u001b[0;34m=\u001b[0m \u001b[0md\u001b[0m\u001b[0;34m[\u001b[0m\u001b[0md\u001b[0m\u001b[0;34m.\u001b[0m\u001b[0muserid\u001b[0m \u001b[0;34m%\u001b[0m \u001b[0;36m2\u001b[0m \u001b[0;34m==\u001b[0m \u001b[0;36m0\u001b[0m\u001b[0;34m]\u001b[0m\u001b[0;34m\u001b[0m\u001b[0;34m\u001b[0m\u001b[0m\n\u001b[0;32m----> 9\u001b[0;31m   \u001b[0mwrite_user_corpus\u001b[0m\u001b[0;34m(\u001b[0m\u001b[0md\u001b[0m\u001b[0;34m,\u001b[0m \u001b[0mmark\u001b[0m\u001b[0;34m,\u001b[0m \u001b[0mgroup_byday\u001b[0m\u001b[0;34m=\u001b[0m\u001b[0;32mFalse\u001b[0m\u001b[0;34m)\u001b[0m\u001b[0;34m\u001b[0m\u001b[0;34m\u001b[0m\u001b[0m\n\u001b[0m\u001b[1;32m     10\u001b[0m   \u001b[0mwrite_doc_corpus\u001b[0m\u001b[0;34m(\u001b[0m\u001b[0md\u001b[0m\u001b[0;34m,\u001b[0m \u001b[0mmark\u001b[0m\u001b[0;34m,\u001b[0m \u001b[0mgroup_byday\u001b[0m\u001b[0;34m=\u001b[0m\u001b[0;32mFalse\u001b[0m\u001b[0;34m)\u001b[0m\u001b[0;34m\u001b[0m\u001b[0;34m\u001b[0m\u001b[0m\n\u001b[1;32m     11\u001b[0m   \u001b[0mwrite_user_corpus\u001b[0m\u001b[0;34m(\u001b[0m\u001b[0md\u001b[0m\u001b[0;34m,\u001b[0m \u001b[0mmark\u001b[0m\u001b[0;34m,\u001b[0m \u001b[0mgroup_byday\u001b[0m\u001b[0;34m=\u001b[0m\u001b[0;32mTrue\u001b[0m\u001b[0;34m)\u001b[0m\u001b[0;34m\u001b[0m\u001b[0;34m\u001b[0m\u001b[0m\n",
      "\u001b[0;32m<ipython-input-53-239c7aff4cd4>\u001b[0m in \u001b[0;36mwrite_user_corpus\u001b[0;34m(d, mark, group_byday)\u001b[0m\n\u001b[1;32m      2\u001b[0m   \u001b[0;31m# TODO doc 对应的user比较多 特别复赛20w user， 初赛只有2w 可能需要shuffle 大的doc 然后限定小窗口\u001b[0m\u001b[0;34m\u001b[0m\u001b[0;34m\u001b[0m\u001b[0;34m\u001b[0m\u001b[0m\n\u001b[1;32m      3\u001b[0m   \u001b[0mkeys\u001b[0m \u001b[0;34m=\u001b[0m \u001b[0;34m[\u001b[0m\u001b[0;34m'feedid'\u001b[0m\u001b[0;34m]\u001b[0m \u001b[0;32mif\u001b[0m \u001b[0;32mnot\u001b[0m \u001b[0mgroup_byday\u001b[0m \u001b[0;32melse\u001b[0m \u001b[0;34m[\u001b[0m\u001b[0;34m'feedid'\u001b[0m\u001b[0;34m,\u001b[0m \u001b[0;34m'date_'\u001b[0m\u001b[0;34m]\u001b[0m\u001b[0;34m\u001b[0m\u001b[0;34m\u001b[0m\u001b[0m\n\u001b[0;32m----> 4\u001b[0;31m   \u001b[0musers\u001b[0m \u001b[0;34m=\u001b[0m \u001b[0md\u001b[0m\u001b[0;34m.\u001b[0m\u001b[0mgroupby\u001b[0m\u001b[0;34m(\u001b[0m\u001b[0mkeys\u001b[0m\u001b[0;34m)\u001b[0m\u001b[0;34m[\u001b[0m\u001b[0;34m'userid'\u001b[0m\u001b[0;34m]\u001b[0m\u001b[0;34m.\u001b[0m\u001b[0mprogress_apply\u001b[0m\u001b[0;34m(\u001b[0m\u001b[0mlist\u001b[0m\u001b[0;34m)\u001b[0m\u001b[0;34m.\u001b[0m\u001b[0mreset_index\u001b[0m\u001b[0;34m(\u001b[0m\u001b[0mname\u001b[0m\u001b[0;34m=\u001b[0m\u001b[0;34m'users'\u001b[0m\u001b[0;34m)\u001b[0m\u001b[0;34m\u001b[0m\u001b[0;34m\u001b[0m\u001b[0m\n\u001b[0m\u001b[1;32m      5\u001b[0m   \u001b[0musers\u001b[0m\u001b[0;34m[\u001b[0m\u001b[0;34m'num_users'\u001b[0m\u001b[0;34m]\u001b[0m \u001b[0;34m=\u001b[0m \u001b[0musers\u001b[0m\u001b[0;34m.\u001b[0m\u001b[0musers\u001b[0m\u001b[0;34m.\u001b[0m\u001b[0mapply\u001b[0m\u001b[0;34m(\u001b[0m\u001b[0mlen\u001b[0m\u001b[0;34m)\u001b[0m\u001b[0;34m\u001b[0m\u001b[0;34m\u001b[0m\u001b[0m\n\u001b[1;32m      6\u001b[0m   \u001b[0mcorpus_name\u001b[0m \u001b[0;34m=\u001b[0m \u001b[0;34m'user_corpus'\u001b[0m \u001b[0;32mif\u001b[0m \u001b[0;32mnot\u001b[0m \u001b[0mgroup_byday\u001b[0m \u001b[0;32melse\u001b[0m \u001b[0;34m'user_day_corpus'\u001b[0m\u001b[0;34m\u001b[0m\u001b[0;34m\u001b[0m\u001b[0m\n",
      "\u001b[0;32m/home/tione/notebook/envs/pikachu/lib/python3.6/site-packages/tqdm/std.py\u001b[0m in \u001b[0;36minner\u001b[0;34m(df, func, *args, **kwargs)\u001b[0m\n\u001b[1;32m    815\u001b[0m                 \u001b[0;31m# on the df using our wrapper (which provides bar updating)\u001b[0m\u001b[0;34m\u001b[0m\u001b[0;34m\u001b[0m\u001b[0;34m\u001b[0m\u001b[0m\n\u001b[1;32m    816\u001b[0m                 \u001b[0;32mtry\u001b[0m\u001b[0;34m:\u001b[0m\u001b[0;34m\u001b[0m\u001b[0;34m\u001b[0m\u001b[0m\n\u001b[0;32m--> 817\u001b[0;31m                     \u001b[0;32mreturn\u001b[0m \u001b[0mgetattr\u001b[0m\u001b[0;34m(\u001b[0m\u001b[0mdf\u001b[0m\u001b[0;34m,\u001b[0m \u001b[0mdf_function\u001b[0m\u001b[0;34m)\u001b[0m\u001b[0;34m(\u001b[0m\u001b[0mwrapper\u001b[0m\u001b[0;34m,\u001b[0m \u001b[0;34m**\u001b[0m\u001b[0mkwargs\u001b[0m\u001b[0;34m)\u001b[0m\u001b[0;34m\u001b[0m\u001b[0;34m\u001b[0m\u001b[0m\n\u001b[0m\u001b[1;32m    818\u001b[0m                 \u001b[0;32mfinally\u001b[0m\u001b[0;34m:\u001b[0m\u001b[0;34m\u001b[0m\u001b[0;34m\u001b[0m\u001b[0m\n\u001b[1;32m    819\u001b[0m                     \u001b[0mt\u001b[0m\u001b[0;34m.\u001b[0m\u001b[0mclose\u001b[0m\u001b[0;34m(\u001b[0m\u001b[0;34m)\u001b[0m\u001b[0;34m\u001b[0m\u001b[0;34m\u001b[0m\u001b[0m\n",
      "\u001b[0;32m/home/tione/notebook/envs/pikachu/lib/python3.6/site-packages/pandas/core/groupby/generic.py\u001b[0m in \u001b[0;36mapply\u001b[0;34m(self, func, *args, **kwargs)\u001b[0m\n\u001b[1;32m    224\u001b[0m     )\n\u001b[1;32m    225\u001b[0m     \u001b[0;32mdef\u001b[0m \u001b[0mapply\u001b[0m\u001b[0;34m(\u001b[0m\u001b[0mself\u001b[0m\u001b[0;34m,\u001b[0m \u001b[0mfunc\u001b[0m\u001b[0;34m,\u001b[0m \u001b[0;34m*\u001b[0m\u001b[0margs\u001b[0m\u001b[0;34m,\u001b[0m \u001b[0;34m**\u001b[0m\u001b[0mkwargs\u001b[0m\u001b[0;34m)\u001b[0m\u001b[0;34m:\u001b[0m\u001b[0;34m\u001b[0m\u001b[0;34m\u001b[0m\u001b[0m\n\u001b[0;32m--> 226\u001b[0;31m         \u001b[0;32mreturn\u001b[0m \u001b[0msuper\u001b[0m\u001b[0;34m(\u001b[0m\u001b[0;34m)\u001b[0m\u001b[0;34m.\u001b[0m\u001b[0mapply\u001b[0m\u001b[0;34m(\u001b[0m\u001b[0mfunc\u001b[0m\u001b[0;34m,\u001b[0m \u001b[0;34m*\u001b[0m\u001b[0margs\u001b[0m\u001b[0;34m,\u001b[0m \u001b[0;34m**\u001b[0m\u001b[0mkwargs\u001b[0m\u001b[0;34m)\u001b[0m\u001b[0;34m\u001b[0m\u001b[0;34m\u001b[0m\u001b[0m\n\u001b[0m\u001b[1;32m    227\u001b[0m \u001b[0;34m\u001b[0m\u001b[0m\n\u001b[1;32m    228\u001b[0m     @doc(\n",
      "\u001b[0;32m/home/tione/notebook/envs/pikachu/lib/python3.6/site-packages/pandas/core/groupby/groupby.py\u001b[0m in \u001b[0;36mapply\u001b[0;34m(self, func, *args, **kwargs)\u001b[0m\n\u001b[1;32m    857\u001b[0m         \u001b[0;32mwith\u001b[0m \u001b[0moption_context\u001b[0m\u001b[0;34m(\u001b[0m\u001b[0;34m\"mode.chained_assignment\"\u001b[0m\u001b[0;34m,\u001b[0m \u001b[0;32mNone\u001b[0m\u001b[0;34m)\u001b[0m\u001b[0;34m:\u001b[0m\u001b[0;34m\u001b[0m\u001b[0;34m\u001b[0m\u001b[0m\n\u001b[1;32m    858\u001b[0m             \u001b[0;32mtry\u001b[0m\u001b[0;34m:\u001b[0m\u001b[0;34m\u001b[0m\u001b[0;34m\u001b[0m\u001b[0m\n\u001b[0;32m--> 859\u001b[0;31m                 \u001b[0mresult\u001b[0m \u001b[0;34m=\u001b[0m \u001b[0mself\u001b[0m\u001b[0;34m.\u001b[0m\u001b[0m_python_apply_general\u001b[0m\u001b[0;34m(\u001b[0m\u001b[0mf\u001b[0m\u001b[0;34m,\u001b[0m \u001b[0mself\u001b[0m\u001b[0;34m.\u001b[0m\u001b[0m_selected_obj\u001b[0m\u001b[0;34m)\u001b[0m\u001b[0;34m\u001b[0m\u001b[0;34m\u001b[0m\u001b[0m\n\u001b[0m\u001b[1;32m    860\u001b[0m             \u001b[0;32mexcept\u001b[0m \u001b[0mTypeError\u001b[0m\u001b[0;34m:\u001b[0m\u001b[0;34m\u001b[0m\u001b[0;34m\u001b[0m\u001b[0m\n\u001b[1;32m    861\u001b[0m                 \u001b[0;31m# gh-20949\u001b[0m\u001b[0;34m\u001b[0m\u001b[0;34m\u001b[0m\u001b[0;34m\u001b[0m\u001b[0m\n",
      "\u001b[0;32m/home/tione/notebook/envs/pikachu/lib/python3.6/site-packages/pandas/core/groupby/groupby.py\u001b[0m in \u001b[0;36m_python_apply_general\u001b[0;34m(self, f, data)\u001b[0m\n\u001b[1;32m    893\u001b[0m \u001b[0;34m\u001b[0m\u001b[0m\n\u001b[1;32m    894\u001b[0m         return self._wrap_applied_output(\n\u001b[0;32m--> 895\u001b[0;31m             \u001b[0mkeys\u001b[0m\u001b[0;34m,\u001b[0m \u001b[0mvalues\u001b[0m\u001b[0;34m,\u001b[0m \u001b[0mnot_indexed_same\u001b[0m\u001b[0;34m=\u001b[0m\u001b[0mmutated\u001b[0m \u001b[0;32mor\u001b[0m \u001b[0mself\u001b[0m\u001b[0;34m.\u001b[0m\u001b[0mmutated\u001b[0m\u001b[0;34m\u001b[0m\u001b[0;34m\u001b[0m\u001b[0m\n\u001b[0m\u001b[1;32m    896\u001b[0m         )\n\u001b[1;32m    897\u001b[0m \u001b[0;34m\u001b[0m\u001b[0m\n",
      "\u001b[0;32m/home/tione/notebook/envs/pikachu/lib/python3.6/site-packages/pandas/core/groupby/generic.py\u001b[0m in \u001b[0;36m_wrap_applied_output\u001b[0;34m(self, keys, values, not_indexed_same)\u001b[0m\n\u001b[1;32m    469\u001b[0m             \u001b[0;31m# GH #6265 #24880\u001b[0m\u001b[0;34m\u001b[0m\u001b[0;34m\u001b[0m\u001b[0;34m\u001b[0m\u001b[0m\n\u001b[1;32m    470\u001b[0m             result = self.obj._constructor(\n\u001b[0;32m--> 471\u001b[0;31m                 \u001b[0mdata\u001b[0m\u001b[0;34m=\u001b[0m\u001b[0mvalues\u001b[0m\u001b[0;34m,\u001b[0m \u001b[0mindex\u001b[0m\u001b[0;34m=\u001b[0m\u001b[0m_get_index\u001b[0m\u001b[0;34m(\u001b[0m\u001b[0;34m)\u001b[0m\u001b[0;34m,\u001b[0m \u001b[0mname\u001b[0m\u001b[0;34m=\u001b[0m\u001b[0mself\u001b[0m\u001b[0;34m.\u001b[0m\u001b[0m_selection_name\u001b[0m\u001b[0;34m\u001b[0m\u001b[0;34m\u001b[0m\u001b[0m\n\u001b[0m\u001b[1;32m    472\u001b[0m             )\n\u001b[1;32m    473\u001b[0m             \u001b[0;32mreturn\u001b[0m \u001b[0mself\u001b[0m\u001b[0;34m.\u001b[0m\u001b[0m_reindex_output\u001b[0m\u001b[0;34m(\u001b[0m\u001b[0mresult\u001b[0m\u001b[0;34m)\u001b[0m\u001b[0;34m\u001b[0m\u001b[0;34m\u001b[0m\u001b[0m\n",
      "\u001b[0;32m/home/tione/notebook/envs/pikachu/lib/python3.6/site-packages/pandas/core/series.py\u001b[0m in \u001b[0;36m__init__\u001b[0;34m(self, data, index, dtype, name, copy, fastpath)\u001b[0m\n\u001b[1;32m    325\u001b[0m                     \u001b[0mdata\u001b[0m \u001b[0;34m=\u001b[0m \u001b[0mdata\u001b[0m\u001b[0;34m.\u001b[0m\u001b[0mcopy\u001b[0m\u001b[0;34m(\u001b[0m\u001b[0;34m)\u001b[0m\u001b[0;34m\u001b[0m\u001b[0;34m\u001b[0m\u001b[0m\n\u001b[1;32m    326\u001b[0m             \u001b[0;32melse\u001b[0m\u001b[0;34m:\u001b[0m\u001b[0;34m\u001b[0m\u001b[0;34m\u001b[0m\u001b[0m\n\u001b[0;32m--> 327\u001b[0;31m                 \u001b[0mdata\u001b[0m \u001b[0;34m=\u001b[0m \u001b[0msanitize_array\u001b[0m\u001b[0;34m(\u001b[0m\u001b[0mdata\u001b[0m\u001b[0;34m,\u001b[0m \u001b[0mindex\u001b[0m\u001b[0;34m,\u001b[0m \u001b[0mdtype\u001b[0m\u001b[0;34m,\u001b[0m \u001b[0mcopy\u001b[0m\u001b[0;34m,\u001b[0m \u001b[0mraise_cast_failure\u001b[0m\u001b[0;34m=\u001b[0m\u001b[0;32mTrue\u001b[0m\u001b[0;34m)\u001b[0m\u001b[0;34m\u001b[0m\u001b[0;34m\u001b[0m\u001b[0m\n\u001b[0m\u001b[1;32m    328\u001b[0m \u001b[0;34m\u001b[0m\u001b[0m\n\u001b[1;32m    329\u001b[0m                 \u001b[0mdata\u001b[0m \u001b[0;34m=\u001b[0m \u001b[0mSingleBlockManager\u001b[0m\u001b[0;34m.\u001b[0m\u001b[0mfrom_array\u001b[0m\u001b[0;34m(\u001b[0m\u001b[0mdata\u001b[0m\u001b[0;34m,\u001b[0m \u001b[0mindex\u001b[0m\u001b[0;34m)\u001b[0m\u001b[0;34m\u001b[0m\u001b[0;34m\u001b[0m\u001b[0m\n",
      "\u001b[0;32m/home/tione/notebook/envs/pikachu/lib/python3.6/site-packages/pandas/core/construction.py\u001b[0m in \u001b[0;36msanitize_array\u001b[0;34m(data, index, dtype, copy, raise_cast_failure)\u001b[0m\n\u001b[1;32m    447\u001b[0m             \u001b[0msubarr\u001b[0m \u001b[0;34m=\u001b[0m \u001b[0m_try_cast\u001b[0m\u001b[0;34m(\u001b[0m\u001b[0mdata\u001b[0m\u001b[0;34m,\u001b[0m \u001b[0mdtype\u001b[0m\u001b[0;34m,\u001b[0m \u001b[0mcopy\u001b[0m\u001b[0;34m,\u001b[0m \u001b[0mraise_cast_failure\u001b[0m\u001b[0;34m)\u001b[0m\u001b[0;34m\u001b[0m\u001b[0;34m\u001b[0m\u001b[0m\n\u001b[1;32m    448\u001b[0m         \u001b[0;32melse\u001b[0m\u001b[0;34m:\u001b[0m\u001b[0;34m\u001b[0m\u001b[0;34m\u001b[0m\u001b[0m\n\u001b[0;32m--> 449\u001b[0;31m             \u001b[0msubarr\u001b[0m \u001b[0;34m=\u001b[0m \u001b[0mmaybe_convert_platform\u001b[0m\u001b[0;34m(\u001b[0m\u001b[0mdata\u001b[0m\u001b[0;34m)\u001b[0m\u001b[0;34m\u001b[0m\u001b[0;34m\u001b[0m\u001b[0m\n\u001b[0m\u001b[1;32m    450\u001b[0m \u001b[0;34m\u001b[0m\u001b[0m\n\u001b[1;32m    451\u001b[0m         \u001b[0msubarr\u001b[0m \u001b[0;34m=\u001b[0m \u001b[0mmaybe_cast_to_datetime\u001b[0m\u001b[0;34m(\u001b[0m\u001b[0msubarr\u001b[0m\u001b[0;34m,\u001b[0m \u001b[0mdtype\u001b[0m\u001b[0;34m)\u001b[0m\u001b[0;34m\u001b[0m\u001b[0;34m\u001b[0m\u001b[0m\n",
      "\u001b[0;32m/home/tione/notebook/envs/pikachu/lib/python3.6/site-packages/pandas/core/dtypes/cast.py\u001b[0m in \u001b[0;36mmaybe_convert_platform\u001b[0;34m(values)\u001b[0m\n\u001b[1;32m     89\u001b[0m     \u001b[0;34m\"\"\" try to do platform conversion, allow ndarray or list here \"\"\"\u001b[0m\u001b[0;34m\u001b[0m\u001b[0;34m\u001b[0m\u001b[0m\n\u001b[1;32m     90\u001b[0m     \u001b[0;32mif\u001b[0m \u001b[0misinstance\u001b[0m\u001b[0;34m(\u001b[0m\u001b[0mvalues\u001b[0m\u001b[0;34m,\u001b[0m \u001b[0;34m(\u001b[0m\u001b[0mlist\u001b[0m\u001b[0;34m,\u001b[0m \u001b[0mtuple\u001b[0m\u001b[0;34m,\u001b[0m \u001b[0mrange\u001b[0m\u001b[0;34m)\u001b[0m\u001b[0;34m)\u001b[0m\u001b[0;34m:\u001b[0m\u001b[0;34m\u001b[0m\u001b[0;34m\u001b[0m\u001b[0m\n\u001b[0;32m---> 91\u001b[0;31m         \u001b[0mvalues\u001b[0m \u001b[0;34m=\u001b[0m \u001b[0mconstruct_1d_object_array_from_listlike\u001b[0m\u001b[0;34m(\u001b[0m\u001b[0mvalues\u001b[0m\u001b[0;34m)\u001b[0m\u001b[0;34m\u001b[0m\u001b[0;34m\u001b[0m\u001b[0m\n\u001b[0m\u001b[1;32m     92\u001b[0m     \u001b[0;32mif\u001b[0m \u001b[0mgetattr\u001b[0m\u001b[0;34m(\u001b[0m\u001b[0mvalues\u001b[0m\u001b[0;34m,\u001b[0m \u001b[0;34m\"dtype\"\u001b[0m\u001b[0;34m,\u001b[0m \u001b[0;32mNone\u001b[0m\u001b[0;34m)\u001b[0m \u001b[0;34m==\u001b[0m \u001b[0mnp\u001b[0m\u001b[0;34m.\u001b[0m\u001b[0mobject_\u001b[0m\u001b[0;34m:\u001b[0m\u001b[0;34m\u001b[0m\u001b[0;34m\u001b[0m\u001b[0m\n\u001b[1;32m     93\u001b[0m         \u001b[0;32mif\u001b[0m \u001b[0mhasattr\u001b[0m\u001b[0;34m(\u001b[0m\u001b[0mvalues\u001b[0m\u001b[0;34m,\u001b[0m \u001b[0;34m\"_values\"\u001b[0m\u001b[0;34m)\u001b[0m\u001b[0;34m:\u001b[0m\u001b[0;34m\u001b[0m\u001b[0;34m\u001b[0m\u001b[0m\n",
      "\u001b[0;32m/home/tione/notebook/envs/pikachu/lib/python3.6/site-packages/pandas/core/dtypes/cast.py\u001b[0m in \u001b[0;36mconstruct_1d_object_array_from_listlike\u001b[0;34m(values)\u001b[0m\n\u001b[1;32m   1589\u001b[0m     \u001b[0;31m# making a 1D array that contains list-likes is a bit tricky:\u001b[0m\u001b[0;34m\u001b[0m\u001b[0;34m\u001b[0m\u001b[0;34m\u001b[0m\u001b[0m\n\u001b[1;32m   1590\u001b[0m     \u001b[0mresult\u001b[0m \u001b[0;34m=\u001b[0m \u001b[0mnp\u001b[0m\u001b[0;34m.\u001b[0m\u001b[0mempty\u001b[0m\u001b[0;34m(\u001b[0m\u001b[0mlen\u001b[0m\u001b[0;34m(\u001b[0m\u001b[0mvalues\u001b[0m\u001b[0;34m)\u001b[0m\u001b[0;34m,\u001b[0m \u001b[0mdtype\u001b[0m\u001b[0;34m=\u001b[0m\u001b[0;34m\"object\"\u001b[0m\u001b[0;34m)\u001b[0m\u001b[0;34m\u001b[0m\u001b[0;34m\u001b[0m\u001b[0m\n\u001b[0;32m-> 1591\u001b[0;31m     \u001b[0mresult\u001b[0m\u001b[0;34m[\u001b[0m\u001b[0;34m:\u001b[0m\u001b[0;34m]\u001b[0m \u001b[0;34m=\u001b[0m \u001b[0mvalues\u001b[0m\u001b[0;34m\u001b[0m\u001b[0;34m\u001b[0m\u001b[0m\n\u001b[0m\u001b[1;32m   1592\u001b[0m     \u001b[0;32mreturn\u001b[0m \u001b[0mresult\u001b[0m\u001b[0;34m\u001b[0m\u001b[0;34m\u001b[0m\u001b[0m\n\u001b[1;32m   1593\u001b[0m \u001b[0;34m\u001b[0m\u001b[0m\n",
      "\u001b[0;31mKeyboardInterrupt\u001b[0m: "
     ]
    }
   ],
   "source": [
    "t = tqdm(days, total=len(days))\n",
    "for day, is_half in t:\n",
    "  mark = day if not is_half else day + 0.5\n",
    "  os.system(f'mkdir -p ../input/{mark}')\n",
    "  if not is_half:\n",
    "    d = dshow[dshow.date_ <= day]\n",
    "  else:\n",
    "    d = dshow[(dshow.date_ < day) | (dshow.date_ == day) & (dshow.userid % 2 == 0)]\n",
    "  print({'day': mark, 'total': len(d)})\n",
    "  write_user_corpus(d, mark, group_byday=False)\n",
    "  write_doc_corpus(d, mark, group_byday=False)\n",
    "  write_user_corpus(d, mark, group_byday=True)\n",
    "  write_doc_corpus(d, mark, group_byday=True)"
   ]
  },
  {
   "cell_type": "code",
   "execution_count": null,
   "metadata": {},
   "outputs": [],
   "source": [
    "# 暂时留记录 但是不生成tag key corpu"
   ]
  },
  {
   "cell_type": "code",
   "execution_count": 34,
   "metadata": {},
   "outputs": [],
   "source": [
    "# with open('../input/tag_test_corpus.txt', 'w') as f:\n",
    "#   for docs_ in tqdm(docs.docs):\n",
    "#     tags = [str(feeds[doc]['manual_tag_list']).replace(';', ' ') for doc in docs_]\n",
    "#     tags = set(' '.join(tags).split())\n",
    "#     print(' '.join(tags), file=f)\n",
    "#     tags2 = [' '.join([x.split()[0] for x in str(feeds[doc]['machine_tag_list']).split(';')]) for doc in docs_]\n",
    "#     tags2 = set(' '.join(tags2).split())\n",
    "#     print(' '.join(tags2), file=f)"
   ]
  },
  {
   "cell_type": "code",
   "execution_count": 35,
   "metadata": {},
   "outputs": [],
   "source": [
    "# with open('../input/key_test_corpus.txt', 'w') as f:\n",
    "#   for docs_ in tqdm(docs.docs):\n",
    "#     tags = [str(feeds[doc]['manual_keyword_list']).replace(';', ' ') for doc in docs_]\n",
    "#     tags = set(' '.join(tags).split())\n",
    "#     print(' '.join(tags), file=f)\n",
    "#     tags2 = [' '.join([x.split()[0] for x in str(feeds[doc]['machine_keyword_list']).split(';')]) for doc in docs_]\n",
    "#     tags2 = set(' '.join(tags2).split())\n",
    "#     print(' '.join(tags2), file=f)"
   ]
  },
  {
   "cell_type": "code",
   "execution_count": null,
   "metadata": {},
   "outputs": [],
   "source": []
  },
  {
   "cell_type": "code",
   "execution_count": null,
   "metadata": {},
   "outputs": [],
   "source": []
  }
 ],
 "metadata": {
  "kernelspec": {
   "display_name": "conda_pikachu",
   "language": "python",
   "name": "conda_pikachu"
  },
  "language_info": {
   "codemirror_mode": {
    "name": "ipython",
    "version": 3
   },
   "file_extension": ".py",
   "mimetype": "text/x-python",
   "name": "python",
   "nbconvert_exporter": "python",
   "pygments_lexer": "ipython3",
   "version": "3.6.13"
  }
 },
 "nbformat": 4,
 "nbformat_minor": 4
}

