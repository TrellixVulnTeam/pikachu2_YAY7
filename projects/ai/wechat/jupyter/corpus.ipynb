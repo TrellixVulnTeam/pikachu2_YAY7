{
 "cells": [
  {
   "cell_type": "code",
   "execution_count": 229,
   "metadata": {},
   "outputs": [],
   "source": [
    "import numpy as np\n",
    "import pandas as pd\n",
    "from collections import OrderedDict, defaultdict\n",
    "import glob\n",
    "import sys \n",
    "sys.path.append('..')\n",
    "sys.path.append('../../../../utils')\n",
    "sys.path.append('../../../../third')\n",
    "import gezi\n",
    "from gezi import tqdm"
   ]
  },
  {
   "cell_type": "code",
   "execution_count": 230,
   "metadata": {},
   "outputs": [],
   "source": [
    "INCLUDE_TODAY = True"
   ]
  },
  {
   "cell_type": "code",
   "execution_count": 231,
   "metadata": {},
   "outputs": [],
   "source": [
    "MAX_VALID_DAY = 14 if INCLUDE_TODAY else 13\n",
    "MAX_TEST_DAY = 15 if INCLUDE_TODAY else 14"
   ]
  },
  {
   "cell_type": "code",
   "execution_count": 232,
   "metadata": {},
   "outputs": [],
   "source": [
    "MAX_VALID_DAY = 13\n",
    "MAX_TEST_DAY = 15"
   ]
  },
  {
   "cell_type": "code",
   "execution_count": 233,
   "metadata": {},
   "outputs": [],
   "source": [
    "d = pd.read_csv('../input/feed_info.csv')"
   ]
  },
  {
   "cell_type": "code",
   "execution_count": 234,
   "metadata": {},
   "outputs": [
    {
     "data": {
      "text/html": [
       "<div>\n",
       "<style scoped>\n",
       "    .dataframe tbody tr th:only-of-type {\n",
       "        vertical-align: middle;\n",
       "    }\n",
       "\n",
       "    .dataframe tbody tr th {\n",
       "        vertical-align: top;\n",
       "    }\n",
       "\n",
       "    .dataframe thead th {\n",
       "        text-align: right;\n",
       "    }\n",
       "</style>\n",
       "<table border=\"1\" class=\"dataframe\">\n",
       "  <thead>\n",
       "    <tr style=\"text-align: right;\">\n",
       "      <th></th>\n",
       "      <th>feedid</th>\n",
       "      <th>authorid</th>\n",
       "      <th>videoplayseconds</th>\n",
       "      <th>description</th>\n",
       "      <th>ocr</th>\n",
       "      <th>asr</th>\n",
       "      <th>bgm_song_id</th>\n",
       "      <th>bgm_singer_id</th>\n",
       "      <th>manual_keyword_list</th>\n",
       "      <th>machine_keyword_list</th>\n",
       "      <th>manual_tag_list</th>\n",
       "      <th>machine_tag_list</th>\n",
       "      <th>description_char</th>\n",
       "      <th>ocr_char</th>\n",
       "      <th>asr_char</th>\n",
       "    </tr>\n",
       "  </thead>\n",
       "  <tbody>\n",
       "    <tr>\n",
       "      <th>0</th>\n",
       "      <td>43549</td>\n",
       "      <td>6165</td>\n",
       "      <td>38</td>\n",
       "      <td>104741 122649 8109 117252 65632 23463 118668 4...</td>\n",
       "      <td>139499 59421 82007 142955 27736 83577 52394 11...</td>\n",
       "      <td>142955 27736 83577 103956 32010 34170 89740 90...</td>\n",
       "      <td>19356.0</td>\n",
       "      <td>11703.0</td>\n",
       "      <td>15506;7715;17582</td>\n",
       "      <td>26334;219;25209;7715;18541</td>\n",
       "      <td>81;269;159;6</td>\n",
       "      <td>269 0.8525666;81 0.8525666;8 1.1e-07;306 0.0;2...</td>\n",
       "      <td>26439 5247 6426 3827 1882 26018 20744 22204 30...</td>\n",
       "      <td>25926 8491 13394 2203 26439 6243 33054 16435 1...</td>\n",
       "      <td>2203 26439 6243 33054 16435 16307 17070 24908 ...</td>\n",
       "    </tr>\n",
       "    <tr>\n",
       "      <th>1</th>\n",
       "      <td>77432</td>\n",
       "      <td>9386</td>\n",
       "      <td>60</td>\n",
       "      <td>35753 27736 146603 73055 11794 101761 11794 81...</td>\n",
       "      <td>35753 146603 73055 11794 101761 67496 16933 52...</td>\n",
       "      <td>146739 14368 79290 79213 47366 8109 33194 1198...</td>\n",
       "      <td>NaN</td>\n",
       "      <td>NaN</td>\n",
       "      <td>8199;18322;4243</td>\n",
       "      <td>24078;19924</td>\n",
       "      <td>194;267;159;6</td>\n",
       "      <td>267 0.99293476;194 0.99293476</td>\n",
       "      <td>31010 32495 6243 13923 15360 30483 2709 26084 ...</td>\n",
       "      <td>31010 32495 13923 15360 30483 2709 26084 15160...</td>\n",
       "      <td>7259 20851 5061 26207 17573 17531 15117 20072 ...</td>\n",
       "    </tr>\n",
       "    <tr>\n",
       "      <th>2</th>\n",
       "      <td>12921</td>\n",
       "      <td>2996</td>\n",
       "      <td>15</td>\n",
       "      <td>114413 107973 117252 27736 41035 32715 125374 ...</td>\n",
       "      <td>NaN</td>\n",
       "      <td>NaN</td>\n",
       "      <td>10288.0</td>\n",
       "      <td>11354.0</td>\n",
       "      <td>NaN</td>\n",
       "      <td>11696;6926</td>\n",
       "      <td>202;23;160;6</td>\n",
       "      <td>23 0.64771646;202 0.64771646</td>\n",
       "      <td>27077 10050 27464 20072 26018 6243 21492 14750...</td>\n",
       "      <td>NaN</td>\n",
       "      <td>NaN</td>\n",
       "    </tr>\n",
       "    <tr>\n",
       "      <th>3</th>\n",
       "      <td>34538</td>\n",
       "      <td>12577</td>\n",
       "      <td>18</td>\n",
       "      <td>60473 9864 8109 135558 108803 89307 37630 6481...</td>\n",
       "      <td>39654 95201 22675 49521 135558 108803 89307 37...</td>\n",
       "      <td>7446 47082 37630 99660 9844 113002 9844 113002...</td>\n",
       "      <td>24435.0</td>\n",
       "      <td>13645.0</td>\n",
       "      <td>5454;1197;3727</td>\n",
       "      <td>NaN</td>\n",
       "      <td>328;13;159;6</td>\n",
       "      <td>267 0.21298289;191 0.21298289;8 0.34298885;306...</td>\n",
       "      <td>21489 24672 2223 1882 4956 1545 10424 19791 12...</td>\n",
       "      <td>9015 21209 5026 11192 4956 1545 10424 19791 12...</td>\n",
       "      <td>20825 13395 14765 24513 7305 12837 10337 8885 ...</td>\n",
       "    </tr>\n",
       "    <tr>\n",
       "      <th>4</th>\n",
       "      <td>75414</td>\n",
       "      <td>7185</td>\n",
       "      <td>16</td>\n",
       "      <td>105860 4691 134820 55911 80449 79213 23233 139...</td>\n",
       "      <td>73055 66447 88970</td>\n",
       "      <td>104002 4438 104002 4438</td>\n",
       "      <td>23428.0</td>\n",
       "      <td>10730.0</td>\n",
       "      <td>17083;4123</td>\n",
       "      <td>8058;219;21639;15621;25209</td>\n",
       "      <td>81;269;159;6</td>\n",
       "      <td>269 0.86163938;81 0.86163938</td>\n",
       "      <td>25782 19583 7768 3907 14068 12681 5043 17859 1...</td>\n",
       "      <td>30483 23721 1518 22741 25118</td>\n",
       "      <td>23112 969 23112 969</td>\n",
       "    </tr>\n",
       "  </tbody>\n",
       "</table>\n",
       "</div>"
      ],
      "text/plain": [
       "   feedid  authorid  videoplayseconds  \\\n",
       "0   43549      6165                38   \n",
       "1   77432      9386                60   \n",
       "2   12921      2996                15   \n",
       "3   34538     12577                18   \n",
       "4   75414      7185                16   \n",
       "\n",
       "                                         description  \\\n",
       "0  104741 122649 8109 117252 65632 23463 118668 4...   \n",
       "1  35753 27736 146603 73055 11794 101761 11794 81...   \n",
       "2  114413 107973 117252 27736 41035 32715 125374 ...   \n",
       "3  60473 9864 8109 135558 108803 89307 37630 6481...   \n",
       "4  105860 4691 134820 55911 80449 79213 23233 139...   \n",
       "\n",
       "                                                 ocr  \\\n",
       "0  139499 59421 82007 142955 27736 83577 52394 11...   \n",
       "1  35753 146603 73055 11794 101761 67496 16933 52...   \n",
       "2                                                NaN   \n",
       "3  39654 95201 22675 49521 135558 108803 89307 37...   \n",
       "4                                  73055 66447 88970   \n",
       "\n",
       "                                                 asr  bgm_song_id  \\\n",
       "0  142955 27736 83577 103956 32010 34170 89740 90...      19356.0   \n",
       "1  146739 14368 79290 79213 47366 8109 33194 1198...          NaN   \n",
       "2                                                NaN      10288.0   \n",
       "3  7446 47082 37630 99660 9844 113002 9844 113002...      24435.0   \n",
       "4                            104002 4438 104002 4438      23428.0   \n",
       "\n",
       "   bgm_singer_id manual_keyword_list        machine_keyword_list  \\\n",
       "0        11703.0    15506;7715;17582  26334;219;25209;7715;18541   \n",
       "1            NaN     8199;18322;4243                 24078;19924   \n",
       "2        11354.0                 NaN                  11696;6926   \n",
       "3        13645.0      5454;1197;3727                         NaN   \n",
       "4        10730.0          17083;4123  8058;219;21639;15621;25209   \n",
       "\n",
       "  manual_tag_list                                   machine_tag_list  \\\n",
       "0    81;269;159;6  269 0.8525666;81 0.8525666;8 1.1e-07;306 0.0;2...   \n",
       "1   194;267;159;6                      267 0.99293476;194 0.99293476   \n",
       "2    202;23;160;6                       23 0.64771646;202 0.64771646   \n",
       "3    328;13;159;6  267 0.21298289;191 0.21298289;8 0.34298885;306...   \n",
       "4    81;269;159;6                       269 0.86163938;81 0.86163938   \n",
       "\n",
       "                                    description_char  \\\n",
       "0  26439 5247 6426 3827 1882 26018 20744 22204 30...   \n",
       "1  31010 32495 6243 13923 15360 30483 2709 26084 ...   \n",
       "2  27077 10050 27464 20072 26018 6243 21492 14750...   \n",
       "3  21489 24672 2223 1882 4956 1545 10424 19791 12...   \n",
       "4  25782 19583 7768 3907 14068 12681 5043 17859 1...   \n",
       "\n",
       "                                            ocr_char  \\\n",
       "0  25926 8491 13394 2203 26439 6243 33054 16435 1...   \n",
       "1  31010 32495 13923 15360 30483 2709 26084 15160...   \n",
       "2                                                NaN   \n",
       "3  9015 21209 5026 11192 4956 1545 10424 19791 12...   \n",
       "4                       30483 23721 1518 22741 25118   \n",
       "\n",
       "                                            asr_char  \n",
       "0  2203 26439 6243 33054 16435 16307 17070 24908 ...  \n",
       "1  7259 20851 5061 26207 17573 17531 15117 20072 ...  \n",
       "2                                                NaN  \n",
       "3  20825 13395 14765 24513 7305 12837 10337 8885 ...  \n",
       "4                                23112 969 23112 969  "
      ]
     },
     "execution_count": 234,
     "metadata": {},
     "output_type": "execute_result"
    }
   ],
   "source": [
    "d.head()"
   ]
  },
  {
   "cell_type": "code",
   "execution_count": 235,
   "metadata": {},
   "outputs": [],
   "source": [
    "MAX_TAGS = 14\n",
    "MAX_KEYS = 18\n",
    "DESC_LEN = 128\n",
    "DESC_CHAR_LEN = 256\n",
    "WORD_LEN = 256\n",
    "START_ID = 3\n",
    "UNK_ID = 1\n",
    "EMPTY_ID = 2\n",
    "NAN_ID = -1"
   ]
  },
  {
   "cell_type": "code",
   "execution_count": 236,
   "metadata": {},
   "outputs": [],
   "source": [
    "d = d.fillna(NAN_ID)"
   ]
  },
  {
   "cell_type": "code",
   "execution_count": 237,
   "metadata": {},
   "outputs": [],
   "source": [
    "d.feedid = d.feedid.astype(int)\n",
    "d.authorid = d.authorid.astype(int)\n",
    "d.bgm_singer_id = d.bgm_singer_id.astype(int)\n",
    "d.bgm_song_id = d.bgm_song_id.astype(int)\n",
    "with open('../input/word_corpus.txt', 'w') as f:\n",
    "  for i, desc in enumerate(d.description.values):\n",
    "    if str(desc) == str(NAN_ID):\n",
    "      continue\n",
    "    print(desc, file=f)\n",
    "  for i, ocr in enumerate(d.ocr.values):\n",
    "    if str(ocr) == str(NAN_ID):\n",
    "      continue\n",
    "    print(ocr, file=f)\n",
    "  for i, asr in enumerate(d.asr.values):\n",
    "    if str(asr) == str(NAN_ID):\n",
    "      continue\n",
    "    print(asr, file=f)\n",
    "    \n",
    "with open('../input/char_corpus.txt', 'w') as f:\n",
    "  for i, desc in enumerate(d.description_char.values):\n",
    "    if str(desc) == str(NAN_ID):\n",
    "      continue\n",
    "    print(desc, file=f)\n",
    "  for i, ocr in enumerate(d.ocr_char.values):\n",
    "    if str(ocr) == str(NAN_ID):\n",
    "      continue\n",
    "    print(ocr, file=f)\n",
    "  for i, asr in enumerate(d.asr_char.values):\n",
    "    if str(asr) == str(NAN_ID):\n",
    "      continue\n",
    "    print(asr, file=f)"
   ]
  },
  {
   "cell_type": "code",
   "execution_count": 238,
   "metadata": {},
   "outputs": [],
   "source": [
    "with open('../input/author_corpus.txt', 'w') as f:\n",
    "  for i, author in enumerate(d.authorid.values):\n",
    "    if author == NAN_ID:\n",
    "      continue\n",
    "    print(author, file=f)\n",
    "with open('../input/singer_corpus.txt', 'w') as f:\n",
    "  for i, singer in enumerate(d.bgm_singer_id.values):\n",
    "    if singer == NAN_ID:\n",
    "      continue\n",
    "    print(singer, file=f)\n",
    "with open('../input/song_corpus.txt', 'w') as f:\n",
    "  for i, song in enumerate(d.bgm_song_id.values):\n",
    "    if song == NAN_ID:\n",
    "      continue\n",
    "    print(song, file=f)"
   ]
  },
  {
   "cell_type": "code",
   "execution_count": 239,
   "metadata": {},
   "outputs": [],
   "source": [
    "with open('../input/tag_corpus.txt', 'w') as f:\n",
    "  for i, tag in enumerate(d.manual_tag_list):\n",
    "    if str(tag) == str(NAN_ID):\n",
    "      continue\n",
    "    else:\n",
    "      print(str(tag).replace(';', ' '), file=f)\n",
    "  for i, tag in enumerate(d.machine_tag_list):\n",
    "    if str(tag) == str(NAN_ID):\n",
    "      continue\n",
    "    else:\n",
    "      print(' '.join([x.split()[0] for x in tag.split(';')]), file=f)\n",
    "    \n",
    "with open('../input/key_corpus.txt', 'w') as f:\n",
    "  for i, kw in enumerate(d.manual_keyword_list):\n",
    "    if str(kw) == str(NAN_ID):\n",
    "      continue\n",
    "    else:\n",
    "      print(str(kw).replace(';', ' '), file=f)\n",
    "  for kw in d.machine_keyword_list:\n",
    "    if str(kw) == str(NAN_ID):\n",
    "      continue\n",
    "    else:\n",
    "      print(str(kw).replace(';', ' '), file=f)"
   ]
  },
  {
   "cell_type": "code",
   "execution_count": 240,
   "metadata": {},
   "outputs": [],
   "source": [
    "d2 = pd.read_csv('../input/user_action2.csv')"
   ]
  },
  {
   "cell_type": "code",
   "execution_count": 241,
   "metadata": {},
   "outputs": [],
   "source": [
    "dt = pd.read_csv('../input/test_a.csv')"
   ]
  },
  {
   "cell_type": "code",
   "execution_count": 242,
   "metadata": {},
   "outputs": [],
   "source": [
    "dt2 = pd.read_csv('../input/test_b.csv')"
   ]
  },
  {
   "cell_type": "code",
   "execution_count": 243,
   "metadata": {},
   "outputs": [
    {
     "data": {
      "text/html": [
       "<div>\n",
       "<style scoped>\n",
       "    .dataframe tbody tr th:only-of-type {\n",
       "        vertical-align: middle;\n",
       "    }\n",
       "\n",
       "    .dataframe tbody tr th {\n",
       "        vertical-align: top;\n",
       "    }\n",
       "\n",
       "    .dataframe thead th {\n",
       "        text-align: right;\n",
       "    }\n",
       "</style>\n",
       "<table border=\"1\" class=\"dataframe\">\n",
       "  <thead>\n",
       "    <tr style=\"text-align: right;\">\n",
       "      <th></th>\n",
       "      <th>userid</th>\n",
       "      <th>feedid</th>\n",
       "      <th>device</th>\n",
       "    </tr>\n",
       "  </thead>\n",
       "  <tbody>\n",
       "    <tr>\n",
       "      <th>0</th>\n",
       "      <td>116490</td>\n",
       "      <td>18545</td>\n",
       "      <td>2</td>\n",
       "    </tr>\n",
       "    <tr>\n",
       "      <th>1</th>\n",
       "      <td>19265</td>\n",
       "      <td>53010</td>\n",
       "      <td>2</td>\n",
       "    </tr>\n",
       "    <tr>\n",
       "      <th>2</th>\n",
       "      <td>194374</td>\n",
       "      <td>9003</td>\n",
       "      <td>1</td>\n",
       "    </tr>\n",
       "    <tr>\n",
       "      <th>3</th>\n",
       "      <td>19414</td>\n",
       "      <td>75730</td>\n",
       "      <td>2</td>\n",
       "    </tr>\n",
       "    <tr>\n",
       "      <th>4</th>\n",
       "      <td>6434</td>\n",
       "      <td>17863</td>\n",
       "      <td>2</td>\n",
       "    </tr>\n",
       "  </tbody>\n",
       "</table>\n",
       "</div>"
      ],
      "text/plain": [
       "   userid  feedid  device\n",
       "0  116490   18545       2\n",
       "1   19265   53010       2\n",
       "2  194374    9003       1\n",
       "3   19414   75730       2\n",
       "4    6434   17863       2"
      ]
     },
     "execution_count": 243,
     "metadata": {},
     "output_type": "execute_result"
    }
   ],
   "source": [
    "dt2.head()"
   ]
  },
  {
   "cell_type": "code",
   "execution_count": 244,
   "metadata": {},
   "outputs": [],
   "source": [
    "dt['date_'] = 15\n",
    "dt2['date_'] = 15"
   ]
  },
  {
   "cell_type": "code",
   "execution_count": 245,
   "metadata": {},
   "outputs": [
    {
     "data": {
      "text/plain": [
       "{1, 2, 3, 4, 5, 6, 7, 8, 9, 10, 11, 12, 13, 14}"
      ]
     },
     "execution_count": 245,
     "metadata": {},
     "output_type": "execute_result"
    }
   ],
   "source": [
    "set(d2.date_)"
   ]
  },
  {
   "cell_type": "code",
   "execution_count": 246,
   "metadata": {},
   "outputs": [],
   "source": [
    "# dshows = d2[['userid', 'feedid', 'date_']]\n",
    "dshows = pd.concat([d2[['userid', 'feedid', 'date_']],\n",
    "                  dt[['userid', 'feedid', 'date_']], \n",
    "                  dt2[['userid', 'feedid', 'date_']]])"
   ]
  },
  {
   "cell_type": "code",
   "execution_count": 247,
   "metadata": {},
   "outputs": [],
   "source": [
    "# TODO add test"
   ]
  },
  {
   "cell_type": "code",
   "execution_count": 248,
   "metadata": {},
   "outputs": [
    {
     "data": {
      "text/html": [
       "<div>\n",
       "<style scoped>\n",
       "    .dataframe tbody tr th:only-of-type {\n",
       "        vertical-align: middle;\n",
       "    }\n",
       "\n",
       "    .dataframe tbody tr th {\n",
       "        vertical-align: top;\n",
       "    }\n",
       "\n",
       "    .dataframe thead th {\n",
       "        text-align: right;\n",
       "    }\n",
       "</style>\n",
       "<table border=\"1\" class=\"dataframe\">\n",
       "  <thead>\n",
       "    <tr style=\"text-align: right;\">\n",
       "      <th></th>\n",
       "      <th>userid</th>\n",
       "      <th>feedid</th>\n",
       "      <th>date_</th>\n",
       "    </tr>\n",
       "  </thead>\n",
       "  <tbody>\n",
       "    <tr>\n",
       "      <th>0</th>\n",
       "      <td>8</td>\n",
       "      <td>71474</td>\n",
       "      <td>1</td>\n",
       "    </tr>\n",
       "    <tr>\n",
       "      <th>1</th>\n",
       "      <td>237907</td>\n",
       "      <td>3404</td>\n",
       "      <td>1</td>\n",
       "    </tr>\n",
       "    <tr>\n",
       "      <th>2</th>\n",
       "      <td>237907</td>\n",
       "      <td>87814</td>\n",
       "      <td>1</td>\n",
       "    </tr>\n",
       "    <tr>\n",
       "      <th>3</th>\n",
       "      <td>237907</td>\n",
       "      <td>58723</td>\n",
       "      <td>1</td>\n",
       "    </tr>\n",
       "    <tr>\n",
       "      <th>4</th>\n",
       "      <td>82352</td>\n",
       "      <td>69580</td>\n",
       "      <td>1</td>\n",
       "    </tr>\n",
       "  </tbody>\n",
       "</table>\n",
       "</div>"
      ],
      "text/plain": [
       "   userid  feedid  date_\n",
       "0       8   71474      1\n",
       "1  237907    3404      1\n",
       "2  237907   87814      1\n",
       "3  237907   58723      1\n",
       "4   82352   69580      1"
      ]
     },
     "execution_count": 248,
     "metadata": {},
     "output_type": "execute_result"
    }
   ],
   "source": [
    "dshows.head()"
   ]
  },
  {
   "cell_type": "code",
   "execution_count": 249,
   "metadata": {},
   "outputs": [],
   "source": [
    "tqdm.pandas()"
   ]
  },
  {
   "cell_type": "code",
   "execution_count": 250,
   "metadata": {},
   "outputs": [],
   "source": [
    "# # 似乎不考虑date_效果更好 这个depreciate\n",
    "# docs = dshows.groupby(['userid', 'date_'])['feedid'].progress_apply(list).reset_index(name='docs')\n",
    "# docs.head()"
   ]
  },
  {
   "cell_type": "code",
   "execution_count": 22,
   "metadata": {},
   "outputs": [],
   "source": [
    "# with open('../input/doc_corpus.txt', 'w') as f:\n",
    "#   for docs_ in docs.docs:\n",
    "#     print(' '.join(map(str, docs_)), file=f)"
   ]
  },
  {
   "cell_type": "code",
   "execution_count": 23,
   "metadata": {},
   "outputs": [],
   "source": [
    "# docs['num_docs'] = docs.docs.apply(len)"
   ]
  },
  {
   "cell_type": "code",
   "execution_count": 24,
   "metadata": {},
   "outputs": [],
   "source": [
    "# docs.num_docs.describe()"
   ]
  },
  {
   "cell_type": "code",
   "execution_count": 251,
   "metadata": {},
   "outputs": [
    {
     "data": {
      "application/vnd.jupyter.widget-view+json": {
       "model_id": "f8d1eb6649ae45c69c738ba6015460e6",
       "version_major": 2,
       "version_minor": 0
      },
      "text/plain": [
       "  0%|          | 0/20000 [00:00<?, ?it/s]"
      ]
     },
     "metadata": {},
     "output_type": "display_data"
    },
    {
     "data": {
      "text/html": [
       "<div>\n",
       "<style scoped>\n",
       "    .dataframe tbody tr th:only-of-type {\n",
       "        vertical-align: middle;\n",
       "    }\n",
       "\n",
       "    .dataframe tbody tr th {\n",
       "        vertical-align: top;\n",
       "    }\n",
       "\n",
       "    .dataframe thead th {\n",
       "        text-align: right;\n",
       "    }\n",
       "</style>\n",
       "<table border=\"1\" class=\"dataframe\">\n",
       "  <thead>\n",
       "    <tr style=\"text-align: right;\">\n",
       "      <th></th>\n",
       "      <th>userid</th>\n",
       "      <th>docs</th>\n",
       "    </tr>\n",
       "  </thead>\n",
       "  <tbody>\n",
       "    <tr>\n",
       "      <th>0</th>\n",
       "      <td>8</td>\n",
       "      <td>[71474, 75420, 56747, 105148, 25619, 40803, 73...</td>\n",
       "    </tr>\n",
       "    <tr>\n",
       "      <th>1</th>\n",
       "      <td>12</td>\n",
       "      <td>[102005, 17278, 44471, 89669, 59778, 35323, 21...</td>\n",
       "    </tr>\n",
       "    <tr>\n",
       "      <th>2</th>\n",
       "      <td>13</td>\n",
       "      <td>[60767, 23302, 31961, 52458, 30296, 79618, 541...</td>\n",
       "    </tr>\n",
       "    <tr>\n",
       "      <th>3</th>\n",
       "      <td>25</td>\n",
       "      <td>[52971, 103380, 70469, 8460, 42520, 2430, 2267...</td>\n",
       "    </tr>\n",
       "    <tr>\n",
       "      <th>4</th>\n",
       "      <td>37</td>\n",
       "      <td>[60130, 2505, 18148, 49725, 32160, 10705, 2185...</td>\n",
       "    </tr>\n",
       "  </tbody>\n",
       "</table>\n",
       "</div>"
      ],
      "text/plain": [
       "   userid                                               docs\n",
       "0       8  [71474, 75420, 56747, 105148, 25619, 40803, 73...\n",
       "1      12  [102005, 17278, 44471, 89669, 59778, 35323, 21...\n",
       "2      13  [60767, 23302, 31961, 52458, 30296, 79618, 541...\n",
       "3      25  [52971, 103380, 70469, 8460, 42520, 2430, 2267...\n",
       "4      37  [60130, 2505, 18148, 49725, 32160, 10705, 2185..."
      ]
     },
     "execution_count": 251,
     "metadata": {},
     "output_type": "execute_result"
    }
   ],
   "source": [
    "docs = dshows[dshows.date_ <= MAX_TEST_DAY].groupby(['userid'])['feedid'].progress_apply(list).reset_index(name='docs')\n",
    "docs.head()"
   ]
  },
  {
   "cell_type": "code",
   "execution_count": 252,
   "metadata": {},
   "outputs": [],
   "source": [
    "docs_test = docs"
   ]
  },
  {
   "cell_type": "code",
   "execution_count": 253,
   "metadata": {},
   "outputs": [],
   "source": [
    "# 似乎不考虑date_效果更好，好很多\n",
    "with open('../input/doc_test_corpus.txt', 'w') as f:\n",
    "  for docs_ in docs.docs:\n",
    "    print(' '.join(map(str, docs_)), file=f)"
   ]
  },
  {
   "cell_type": "code",
   "execution_count": 254,
   "metadata": {},
   "outputs": [],
   "source": [
    "docs['num_docs'] = docs.docs.apply(len)"
   ]
  },
  {
   "cell_type": "code",
   "execution_count": 255,
   "metadata": {},
   "outputs": [
    {
     "data": {
      "text/plain": [
       "count    20000.00000\n",
       "mean       407.97565\n",
       "std        261.52334\n",
       "min         10.00000\n",
       "25%        185.00000\n",
       "50%        353.00000\n",
       "75%        597.00000\n",
       "max       1746.00000\n",
       "Name: num_docs, dtype: float64"
      ]
     },
     "execution_count": 255,
     "metadata": {},
     "output_type": "execute_result"
    }
   ],
   "source": [
    "docs.num_docs.describe()"
   ]
  },
  {
   "cell_type": "code",
   "execution_count": 256,
   "metadata": {},
   "outputs": [
    {
     "data": {
      "application/vnd.jupyter.widget-view+json": {
       "model_id": "fdd49045135a47de9b136063427b35cc",
       "version_major": 2,
       "version_minor": 0
      },
      "text/plain": [
       "  0%|          | 0/19916 [00:00<?, ?it/s]"
      ]
     },
     "metadata": {},
     "output_type": "display_data"
    },
    {
     "data": {
      "text/html": [
       "<div>\n",
       "<style scoped>\n",
       "    .dataframe tbody tr th:only-of-type {\n",
       "        vertical-align: middle;\n",
       "    }\n",
       "\n",
       "    .dataframe tbody tr th {\n",
       "        vertical-align: top;\n",
       "    }\n",
       "\n",
       "    .dataframe thead th {\n",
       "        text-align: right;\n",
       "    }\n",
       "</style>\n",
       "<table border=\"1\" class=\"dataframe\">\n",
       "  <thead>\n",
       "    <tr style=\"text-align: right;\">\n",
       "      <th></th>\n",
       "      <th>userid</th>\n",
       "      <th>docs</th>\n",
       "    </tr>\n",
       "  </thead>\n",
       "  <tbody>\n",
       "    <tr>\n",
       "      <th>0</th>\n",
       "      <td>8</td>\n",
       "      <td>[71474, 75420, 56747, 105148, 25619, 40803, 73...</td>\n",
       "    </tr>\n",
       "    <tr>\n",
       "      <th>1</th>\n",
       "      <td>12</td>\n",
       "      <td>[102005, 17278, 44471, 89669, 59778, 35323, 21...</td>\n",
       "    </tr>\n",
       "    <tr>\n",
       "      <th>2</th>\n",
       "      <td>13</td>\n",
       "      <td>[60767, 23302, 31961, 52458, 30296, 79618, 541...</td>\n",
       "    </tr>\n",
       "    <tr>\n",
       "      <th>3</th>\n",
       "      <td>25</td>\n",
       "      <td>[52971, 103380, 70469, 8460, 42520, 2430, 2267...</td>\n",
       "    </tr>\n",
       "    <tr>\n",
       "      <th>4</th>\n",
       "      <td>37</td>\n",
       "      <td>[60130, 2505, 18148, 49725, 32160, 10705, 2185...</td>\n",
       "    </tr>\n",
       "  </tbody>\n",
       "</table>\n",
       "</div>"
      ],
      "text/plain": [
       "   userid                                               docs\n",
       "0       8  [71474, 75420, 56747, 105148, 25619, 40803, 73...\n",
       "1      12  [102005, 17278, 44471, 89669, 59778, 35323, 21...\n",
       "2      13  [60767, 23302, 31961, 52458, 30296, 79618, 541...\n",
       "3      25  [52971, 103380, 70469, 8460, 42520, 2430, 2267...\n",
       "4      37  [60130, 2505, 18148, 49725, 32160, 10705, 2185..."
      ]
     },
     "execution_count": 256,
     "metadata": {},
     "output_type": "execute_result"
    }
   ],
   "source": [
    "docs = dshows[dshows.date_ <= MAX_VALID_DAY].groupby(['userid'])['feedid'].progress_apply(list).reset_index(name='docs')\n",
    "docs.head()"
   ]
  },
  {
   "cell_type": "code",
   "execution_count": 257,
   "metadata": {},
   "outputs": [],
   "source": [
    "docs_valid = docs"
   ]
  },
  {
   "cell_type": "code",
   "execution_count": 258,
   "metadata": {},
   "outputs": [],
   "source": [
    "with open('../input/doc_valid_corpus.txt', 'w') as f:\n",
    "  for docs_ in docs.docs:\n",
    "    print(' '.join(map(str, docs_)), file=f)"
   ]
  },
  {
   "cell_type": "code",
   "execution_count": 259,
   "metadata": {},
   "outputs": [],
   "source": [
    "docs['num_docs'] = docs.docs.apply(len)"
   ]
  },
  {
   "cell_type": "code",
   "execution_count": 260,
   "metadata": {},
   "outputs": [
    {
     "data": {
      "text/plain": [
       "count    19916.00000\n",
       "mean       336.85710\n",
       "std        228.29006\n",
       "min          1.00000\n",
       "25%        141.00000\n",
       "50%        287.00000\n",
       "75%        504.00000\n",
       "max        958.00000\n",
       "Name: num_docs, dtype: float64"
      ]
     },
     "execution_count": 260,
     "metadata": {},
     "output_type": "execute_result"
    }
   ],
   "source": [
    "docs.num_docs.describe()"
   ]
  },
  {
   "cell_type": "code",
   "execution_count": 261,
   "metadata": {},
   "outputs": [
    {
     "data": {
      "application/vnd.jupyter.widget-view+json": {
       "model_id": "3c96b57ea0bb454d99cc409207e912e3",
       "version_major": 2,
       "version_minor": 0
      },
      "text/plain": [
       "  0%|          | 0/53962 [00:00<?, ?it/s]"
      ]
     },
     "metadata": {},
     "output_type": "display_data"
    }
   ],
   "source": [
    "users = d2[(d2.date_ < MAX_TEST_DAY) & (d2.actions > 0)].groupby(['feedid'])['userid'].progress_apply(list).reset_index(name='users')"
   ]
  },
  {
   "cell_type": "code",
   "execution_count": 262,
   "metadata": {},
   "outputs": [
    {
     "data": {
      "text/html": [
       "<div>\n",
       "<style scoped>\n",
       "    .dataframe tbody tr th:only-of-type {\n",
       "        vertical-align: middle;\n",
       "    }\n",
       "\n",
       "    .dataframe tbody tr th {\n",
       "        vertical-align: top;\n",
       "    }\n",
       "\n",
       "    .dataframe thead th {\n",
       "        text-align: right;\n",
       "    }\n",
       "</style>\n",
       "<table border=\"1\" class=\"dataframe\">\n",
       "  <thead>\n",
       "    <tr style=\"text-align: right;\">\n",
       "      <th></th>\n",
       "      <th>feedid</th>\n",
       "      <th>users</th>\n",
       "    </tr>\n",
       "  </thead>\n",
       "  <tbody>\n",
       "    <tr>\n",
       "      <th>0</th>\n",
       "      <td>1</td>\n",
       "      <td>[233322, 6516]</td>\n",
       "    </tr>\n",
       "    <tr>\n",
       "      <th>1</th>\n",
       "      <td>3</td>\n",
       "      <td>[157285]</td>\n",
       "    </tr>\n",
       "    <tr>\n",
       "      <th>2</th>\n",
       "      <td>4</td>\n",
       "      <td>[55610]</td>\n",
       "    </tr>\n",
       "    <tr>\n",
       "      <th>3</th>\n",
       "      <td>7</td>\n",
       "      <td>[117581]</td>\n",
       "    </tr>\n",
       "    <tr>\n",
       "      <th>4</th>\n",
       "      <td>8</td>\n",
       "      <td>[227841, 202708, 174694, 45041, 186196, 56122,...</td>\n",
       "    </tr>\n",
       "  </tbody>\n",
       "</table>\n",
       "</div>"
      ],
      "text/plain": [
       "   feedid                                              users\n",
       "0       1                                     [233322, 6516]\n",
       "1       3                                           [157285]\n",
       "2       4                                            [55610]\n",
       "3       7                                           [117581]\n",
       "4       8  [227841, 202708, 174694, 45041, 186196, 56122,..."
      ]
     },
     "execution_count": 262,
     "metadata": {},
     "output_type": "execute_result"
    }
   ],
   "source": [
    "users.head()"
   ]
  },
  {
   "cell_type": "code",
   "execution_count": 263,
   "metadata": {},
   "outputs": [],
   "source": [
    "with open('../input/user_action_test_corpus.txt', 'w') as f:\n",
    "  for users_ in users.users:\n",
    "    print(' '.join(map(str, users_)), file=f)"
   ]
  },
  {
   "cell_type": "code",
   "execution_count": 264,
   "metadata": {},
   "outputs": [],
   "source": [
    "users['num_users'] = users.users.apply(len)"
   ]
  },
  {
   "cell_type": "code",
   "execution_count": 265,
   "metadata": {},
   "outputs": [
    {
     "data": {
      "text/plain": [
       "count    53962.000000\n",
       "mean         9.358864\n",
       "std         21.332441\n",
       "min          1.000000\n",
       "25%          1.000000\n",
       "50%          3.000000\n",
       "75%          8.000000\n",
       "max        642.000000\n",
       "Name: num_users, dtype: float64"
      ]
     },
     "execution_count": 265,
     "metadata": {},
     "output_type": "execute_result"
    }
   ],
   "source": [
    "users.num_users.describe()"
   ]
  },
  {
   "cell_type": "code",
   "execution_count": 266,
   "metadata": {},
   "outputs": [
    {
     "data": {
      "application/vnd.jupyter.widget-view+json": {
       "model_id": "d2e9db36b0ba4ae5b767ce5d3b50a0cb",
       "version_major": 2,
       "version_minor": 0
      },
      "text/plain": [
       "  0%|          | 0/47294 [00:00<?, ?it/s]"
      ]
     },
     "metadata": {},
     "output_type": "display_data"
    }
   ],
   "source": [
    "users = d2[(d2.date_ < MAX_VALID_DAY) & (d2.actions > 0)].groupby(['feedid'])['userid'].progress_apply(list).reset_index(name='users')"
   ]
  },
  {
   "cell_type": "code",
   "execution_count": 267,
   "metadata": {},
   "outputs": [],
   "source": [
    "with open('../input/user_action_valid_corpus.txt', 'w') as f:\n",
    "  for users_ in users.users:\n",
    "    print(' '.join(map(str, users_)), file=f)"
   ]
  },
  {
   "cell_type": "code",
   "execution_count": 268,
   "metadata": {},
   "outputs": [],
   "source": [
    "users['num_users'] = users.users.apply(len)"
   ]
  },
  {
   "cell_type": "code",
   "execution_count": 269,
   "metadata": {},
   "outputs": [
    {
     "data": {
      "text/plain": [
       "count    47294.000000\n",
       "mean         9.044699\n",
       "std         20.584722\n",
       "min          1.000000\n",
       "25%          1.000000\n",
       "50%          3.000000\n",
       "75%          8.000000\n",
       "max        601.000000\n",
       "Name: num_users, dtype: float64"
      ]
     },
     "execution_count": 269,
     "metadata": {},
     "output_type": "execute_result"
    }
   ],
   "source": [
    "users.num_users.describe()"
   ]
  },
  {
   "cell_type": "code",
   "execution_count": 270,
   "metadata": {},
   "outputs": [
    {
     "data": {
      "application/vnd.jupyter.widget-view+json": {
       "model_id": "d9cff9bb23984d87b0b850ca9ad65d4c",
       "version_major": 2,
       "version_minor": 0
      },
      "text/plain": [
       "  0%|          | 0/511773 [00:00<?, ?it/s]"
      ]
     },
     "metadata": {},
     "output_type": "display_data"
    }
   ],
   "source": [
    "# TODO doc 对应的user比较多 特别复赛20w user， 初赛只有2w 可能需要shuffle 大的doc 然后限定小窗口\n",
    "users = dshows[dshows.date_ <= MAX_TEST_DAY].groupby(['feedid', 'date_'])['userid'].progress_apply(list).reset_index(name='users')"
   ]
  },
  {
   "cell_type": "code",
   "execution_count": 271,
   "metadata": {},
   "outputs": [],
   "source": [
    "with open('../input/user_test_corpus.txt', 'w') as f:\n",
    "  for users_ in users.users:\n",
    "    print(' '.join(map(str, users_)), file=f)"
   ]
  },
  {
   "cell_type": "code",
   "execution_count": 272,
   "metadata": {},
   "outputs": [],
   "source": [
    "users['num_users'] = users.users.apply(len)"
   ]
  },
  {
   "cell_type": "code",
   "execution_count": 273,
   "metadata": {},
   "outputs": [
    {
     "data": {
      "text/plain": [
       "count    511773.000000\n",
       "mean         15.943618\n",
       "std          44.222516\n",
       "min           1.000000\n",
       "25%           1.000000\n",
       "50%           4.000000\n",
       "75%          13.000000\n",
       "max        2503.000000\n",
       "Name: num_users, dtype: float64"
      ]
     },
     "execution_count": 273,
     "metadata": {},
     "output_type": "execute_result"
    }
   ],
   "source": [
    "users.num_users.describe()"
   ]
  },
  {
   "cell_type": "code",
   "execution_count": 274,
   "metadata": {},
   "outputs": [
    {
     "data": {
      "application/vnd.jupyter.widget-view+json": {
       "model_id": "f67cfd5740774ed1b6ace439041a986f",
       "version_major": 2,
       "version_minor": 0
      },
      "text/plain": [
       "  0%|          | 0/427376 [00:00<?, ?it/s]"
      ]
     },
     "metadata": {},
     "output_type": "display_data"
    }
   ],
   "source": [
    "users = dshows[dshows.date_ <= MAX_VALID_DAY].groupby(['feedid', 'date_'])['userid'].progress_apply(list).reset_index(name='users')"
   ]
  },
  {
   "cell_type": "code",
   "execution_count": 275,
   "metadata": {},
   "outputs": [],
   "source": [
    "with open('../input/user_valid_corpus.txt', 'w') as f:\n",
    "  for users_ in users.users:\n",
    "    print(' '.join(map(str, users_)), file=f)"
   ]
  },
  {
   "cell_type": "code",
   "execution_count": 276,
   "metadata": {},
   "outputs": [],
   "source": [
    "users['num_users'] = users.users.apply(len)"
   ]
  },
  {
   "cell_type": "code",
   "execution_count": 277,
   "metadata": {},
   "outputs": [
    {
     "data": {
      "text/plain": [
       "count    427376.00000\n",
       "mean         15.69776\n",
       "std          42.16033\n",
       "min           1.00000\n",
       "25%           1.00000\n",
       "50%           4.00000\n",
       "75%          13.00000\n",
       "max        1820.00000\n",
       "Name: num_users, dtype: float64"
      ]
     },
     "execution_count": 277,
     "metadata": {},
     "output_type": "execute_result"
    }
   ],
   "source": [
    "users.num_users.describe()"
   ]
  },
  {
   "cell_type": "code",
   "execution_count": 278,
   "metadata": {},
   "outputs": [
    {
     "data": {
      "application/vnd.jupyter.widget-view+json": {
       "model_id": "0b4a775fb5e4465ca660a52107d90694",
       "version_major": 2,
       "version_minor": 0
      },
      "text/plain": [
       "feed_info:   0%|          | 0/106444 [00:00<?, ?it/s]"
      ]
     },
     "metadata": {},
     "output_type": "display_data"
    }
   ],
   "source": [
    "feeds = {}\n",
    "def cache_feed():\n",
    "  df = pd.read_csv('../input/feed_info.csv')\n",
    "  df = df.fillna(-1)\n",
    "  for row in tqdm(df.itertuples(), total=len(df), ascii=True, desc='feed_info'):\n",
    "    row = row._asdict()               \n",
    "    feeds[row['feedid']] = row\n",
    "cache_feed()"
   ]
  },
  {
   "cell_type": "code",
   "execution_count": 279,
   "metadata": {},
   "outputs": [
    {
     "data": {
      "text/plain": [
       "1746"
      ]
     },
     "execution_count": 279,
     "metadata": {},
     "output_type": "execute_result"
    }
   ],
   "source": [
    "docs_test.num_docs.max()"
   ]
  },
  {
   "cell_type": "code",
   "execution_count": 280,
   "metadata": {},
   "outputs": [
    {
     "data": {
      "text/plain": [
       "958"
      ]
     },
     "execution_count": 280,
     "metadata": {},
     "output_type": "execute_result"
    }
   ],
   "source": [
    "docs_valid.num_docs.max()"
   ]
  },
  {
   "cell_type": "code",
   "execution_count": 281,
   "metadata": {},
   "outputs": [
    {
     "data": {
      "application/vnd.jupyter.widget-view+json": {
       "model_id": "2383481e37084c6fbbde6236915f50b8",
       "version_major": 2,
       "version_minor": 0
      },
      "text/plain": [
       "  0%|          | 0/19916 [00:00<?, ?it/s]"
      ]
     },
     "metadata": {},
     "output_type": "display_data"
    }
   ],
   "source": [
    "# 下面对应的都是valid\n",
    "docs = docs_valid\n",
    "with open('../input/author_valid_corpus.txt', 'w') as f:\n",
    "  for docs_ in tqdm(docs.docs):\n",
    "    authors = [feeds[doc]['authorid'] for doc in docs_]\n",
    "    print(' '.join(map(str, authors)), file=f)"
   ]
  },
  {
   "cell_type": "code",
   "execution_count": 282,
   "metadata": {},
   "outputs": [
    {
     "data": {
      "application/vnd.jupyter.widget-view+json": {
       "model_id": "2054b81db4dd4c4eb6a63d7d42870755",
       "version_major": 2,
       "version_minor": 0
      },
      "text/plain": [
       "  0%|          | 0/19916 [00:00<?, ?it/s]"
      ]
     },
     "metadata": {},
     "output_type": "display_data"
    }
   ],
   "source": [
    "with open('../input/singer_valid_corpus.txt', 'w') as f:\n",
    "  for docs_ in tqdm(docs.docs):\n",
    "    singers = [feeds[doc]['bgm_singer_id'] for doc in docs_]\n",
    "    print(' '.join(map(str, singers)), file=f)"
   ]
  },
  {
   "cell_type": "code",
   "execution_count": 283,
   "metadata": {},
   "outputs": [
    {
     "data": {
      "application/vnd.jupyter.widget-view+json": {
       "model_id": "5a235783f7ea4f16a70d6c5848633a0f",
       "version_major": 2,
       "version_minor": 0
      },
      "text/plain": [
       "  0%|          | 0/19916 [00:00<?, ?it/s]"
      ]
     },
     "metadata": {},
     "output_type": "display_data"
    }
   ],
   "source": [
    "with open('../input/song_valid_corpus.txt', 'w') as f:\n",
    "  for docs_ in tqdm(docs.docs):\n",
    "    songs = [feeds[doc]['bgm_song_id'] for doc in docs_]\n",
    "    print(' '.join(map(str, songs)), file=f)"
   ]
  },
  {
   "cell_type": "code",
   "execution_count": 284,
   "metadata": {},
   "outputs": [],
   "source": [
    "# with open('../input/tag_valid_corpus.txt', 'w') as f:\n",
    "#   for docs_ in tqdm(docs.docs):\n",
    "#     tags = [str(feeds[doc]['manual_tag_list']).replace(';', ' ') for doc in docs_]\n",
    "#     print(' '.join(map(str, tags)), file=f)\n",
    "#     tags2 = [' '.join([x.split()[0] for x in str(feeds[doc]['machine_tag_list']).split(';')]) for doc in docs_]\n",
    "#     print(' '.join(map(str, tags2)), file=f)"
   ]
  },
  {
   "cell_type": "code",
   "execution_count": 285,
   "metadata": {},
   "outputs": [],
   "source": [
    "# with open('../input/key_valid_corpus.txt', 'w') as f:\n",
    "#   for docs_ in tqdm(docs.docs):\n",
    "#     keys = [str(feeds[doc]['manual_keyword_list']).replace(';', ' ') for doc in docs_]\n",
    "#     print(' '.join(map(str, keys)), file=f)\n",
    "#     keys2 = [' '.join([x.split()[0] for x in str(feeds[doc]['machine_keyword_list']).split(';')]) for doc in docs_]\n",
    "#     print(' '.join(map(str, keys2)), file=f)"
   ]
  },
  {
   "cell_type": "code",
   "execution_count": 286,
   "metadata": {},
   "outputs": [
    {
     "data": {
      "application/vnd.jupyter.widget-view+json": {
       "model_id": "ce61a7b8e9d2480bb897999e299872cf",
       "version_major": 2,
       "version_minor": 0
      },
      "text/plain": [
       "  0%|          | 0/19916 [00:00<?, ?it/s]"
      ]
     },
     "metadata": {},
     "output_type": "display_data"
    }
   ],
   "source": [
    "with open('../input/tag_valid_corpus.txt', 'w') as f:\n",
    "  for docs_ in tqdm(docs.docs):\n",
    "    tags = [str(feeds[doc]['manual_tag_list']).replace(';', ' ') for doc in docs_]\n",
    "    tags = set(' '.join(tags).split())\n",
    "    print(' '.join(tags), file=f)\n",
    "    tags2 = [' '.join([x.split()[0] for x in str(feeds[doc]['machine_tag_list']).split(';')]) for doc in docs_]\n",
    "    tags2 = set(' '.join(tags2).split())\n",
    "    print(' '.join(tags2), file=f)"
   ]
  },
  {
   "cell_type": "code",
   "execution_count": 287,
   "metadata": {},
   "outputs": [
    {
     "data": {
      "application/vnd.jupyter.widget-view+json": {
       "model_id": "377587f3acb9494db102db13ab724116",
       "version_major": 2,
       "version_minor": 0
      },
      "text/plain": [
       "  0%|          | 0/19916 [00:00<?, ?it/s]"
      ]
     },
     "metadata": {},
     "output_type": "display_data"
    }
   ],
   "source": [
    "with open('../input/key_valid_corpus.txt', 'w') as f:\n",
    "  for docs_ in tqdm(docs.docs):\n",
    "    tags = [str(feeds[doc]['manual_keyword_list']).replace(';', ' ') for doc in docs_]\n",
    "    tags = set(' '.join(tags).split())\n",
    "    print(' '.join(tags), file=f)\n",
    "    tags2 = [' '.join([x.split()[0] for x in str(feeds[doc]['machine_keyword_list']).split(';')]) for doc in docs_]\n",
    "    tags2 = set(' '.join(tags2).split())\n",
    "    print(' '.join(tags2), file=f)"
   ]
  },
  {
   "cell_type": "code",
   "execution_count": 288,
   "metadata": {},
   "outputs": [],
   "source": [
    "docs = docs_test"
   ]
  },
  {
   "cell_type": "code",
   "execution_count": 289,
   "metadata": {},
   "outputs": [
    {
     "data": {
      "application/vnd.jupyter.widget-view+json": {
       "model_id": "556e93b226994c0c866db84e377a547c",
       "version_major": 2,
       "version_minor": 0
      },
      "text/plain": [
       "  0%|          | 0/20000 [00:00<?, ?it/s]"
      ]
     },
     "metadata": {},
     "output_type": "display_data"
    },
    {
     "data": {
      "application/vnd.jupyter.widget-view+json": {
       "model_id": "15121b3607bf4659a201b590e689b1bc",
       "version_major": 2,
       "version_minor": 0
      },
      "text/plain": [
       "  0%|          | 0/20000 [00:00<?, ?it/s]"
      ]
     },
     "metadata": {},
     "output_type": "display_data"
    },
    {
     "data": {
      "application/vnd.jupyter.widget-view+json": {
       "model_id": "f0ffe2422ca448839741934c638d6b61",
       "version_major": 2,
       "version_minor": 0
      },
      "text/plain": [
       "  0%|          | 0/20000 [00:00<?, ?it/s]"
      ]
     },
     "metadata": {},
     "output_type": "display_data"
    }
   ],
   "source": [
    "with open('../input/author_test_corpus.txt', 'w') as f:\n",
    "  for docs_ in tqdm(docs.docs):\n",
    "    authors = [feeds[doc]['authorid'] for doc in docs_]\n",
    "    print(' '.join(map(str, authors)), file=f)\n",
    "with open('../input/singer_test_corpus.txt', 'w') as f:\n",
    "  for docs_ in tqdm(docs.docs):\n",
    "    singers = [feeds[doc]['bgm_singer_id'] for doc in docs_]\n",
    "    print(' '.join(map(str, singers)), file=f)\n",
    "with open('../input/song_test_corpus.txt', 'w') as f:\n",
    "  for docs_ in tqdm(docs.docs):\n",
    "    songs = [feeds[doc]['bgm_song_id'] for doc in docs_]\n",
    "    print(' '.join(map(str, songs)), file=f)"
   ]
  },
  {
   "cell_type": "code",
   "execution_count": 290,
   "metadata": {},
   "outputs": [
    {
     "data": {
      "application/vnd.jupyter.widget-view+json": {
       "model_id": "dd0c1eff9b71435aa2a1d10c165851ce",
       "version_major": 2,
       "version_minor": 0
      },
      "text/plain": [
       "  0%|          | 0/20000 [00:00<?, ?it/s]"
      ]
     },
     "metadata": {},
     "output_type": "display_data"
    }
   ],
   "source": [
    "with open('../input/tag_test_corpus.txt', 'w') as f:\n",
    "  for docs_ in tqdm(docs.docs):\n",
    "    tags = [str(feeds[doc]['manual_tag_list']).replace(';', ' ') for doc in docs_]\n",
    "    tags = set(' '.join(tags).split())\n",
    "    print(' '.join(tags), file=f)\n",
    "    tags2 = [' '.join([x.split()[0] for x in str(feeds[doc]['machine_tag_list']).split(';')]) for doc in docs_]\n",
    "    tags2 = set(' '.join(tags2).split())\n",
    "    print(' '.join(tags2), file=f)"
   ]
  },
  {
   "cell_type": "code",
   "execution_count": 291,
   "metadata": {},
   "outputs": [
    {
     "data": {
      "application/vnd.jupyter.widget-view+json": {
       "model_id": "c96bd43749a3464da11a76677bfc76b5",
       "version_major": 2,
       "version_minor": 0
      },
      "text/plain": [
       "  0%|          | 0/20000 [00:00<?, ?it/s]"
      ]
     },
     "metadata": {},
     "output_type": "display_data"
    }
   ],
   "source": [
    "with open('../input/key_test_corpus.txt', 'w') as f:\n",
    "  for docs_ in tqdm(docs.docs):\n",
    "    tags = [str(feeds[doc]['manual_keyword_list']).replace(';', ' ') for doc in docs_]\n",
    "    tags = set(' '.join(tags).split())\n",
    "    print(' '.join(tags), file=f)\n",
    "    tags2 = [' '.join([x.split()[0] for x in str(feeds[doc]['machine_keyword_list']).split(';')]) for doc in docs_]\n",
    "    tags2 = set(' '.join(tags2).split())\n",
    "    print(' '.join(tags2), file=f)"
   ]
  },
  {
   "cell_type": "code",
   "execution_count": null,
   "metadata": {},
   "outputs": [],
   "source": []
  },
  {
   "cell_type": "code",
   "execution_count": null,
   "metadata": {},
   "outputs": [],
   "source": []
  },
  {
   "cell_type": "code",
   "execution_count": null,
   "metadata": {},
   "outputs": [],
   "source": []
  }
 ],
 "metadata": {
  "kernelspec": {
   "display_name": "Python 3",
   "language": "python",
   "name": "python3"
  },
  "language_info": {
   "codemirror_mode": {
    "name": "ipython",
    "version": 3
   },
   "file_extension": ".py",
   "mimetype": "text/x-python",
   "name": "python",
   "nbconvert_exporter": "python",
   "pygments_lexer": "ipython3",
   "version": "3.6.10"
  }
 },
 "nbformat": 4,
 "nbformat_minor": 4
}
