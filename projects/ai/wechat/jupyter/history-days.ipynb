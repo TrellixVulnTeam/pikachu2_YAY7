{
 "cells": [
  {
   "cell_type": "code",
   "execution_count": 10,
   "metadata": {},
   "outputs": [],
   "source": [
    "import numpy as np\n",
    "import pandas as pd\n",
    "from collections import OrderedDict, defaultdict, ChainMap\n",
    "import glob\n",
    "import sys, os\n",
    "import functools\n",
    "sys.path.append('..')\n",
    "sys.path.append('../../../../utils')\n",
    "sys.path.append('../../../../third')\n",
    "import dask.dataframe as dd\n",
    "from multiprocessing import Pool, Manager, cpu_count\n",
    "from joblib import Parallel, delayed\n",
    "import pymp\n",
    "import gezi\n",
    "# from gezi import tqdm\n",
    "from tqdm import tqdm\n",
    "tqdm.pandas()"
   ]
  },
  {
   "cell_type": "code",
   "execution_count": 11,
   "metadata": {},
   "outputs": [],
   "source": [
    "DYNAMIC_LEN = False\n",
    "PARALLEL = True\n",
    "# if 'tione' in os.environ['PATH']:\n",
    "#   PARALLEL = False"
   ]
  },
  {
   "cell_type": "code",
   "execution_count": 12,
   "metadata": {},
   "outputs": [
    {
     "name": "stdout",
     "output_type": "stream",
     "text": [
      "read user_action2.feather start\n",
      "read user_action2.feather duration: 0.21790623664855957\n"
     ]
    }
   ],
   "source": [
    "with gezi.Timer('read user_action2.feather', True):\n",
    "  d = pd.read_feather('../input/user_action2.feather')\n",
    "  d.feedid = d.feedid.astype(int)\n",
    "  d.userid = d.userid.astype(int)\n",
    "  d.date_ = d.date_.astype(int)"
   ]
  },
  {
   "cell_type": "code",
   "execution_count": 13,
   "metadata": {},
   "outputs": [
    {
     "data": {
      "text/html": [
       "<div>\n",
       "<style scoped>\n",
       "    .dataframe tbody tr th:only-of-type {\n",
       "        vertical-align: middle;\n",
       "    }\n",
       "\n",
       "    .dataframe tbody tr th {\n",
       "        vertical-align: top;\n",
       "    }\n",
       "\n",
       "    .dataframe thead th {\n",
       "        text-align: right;\n",
       "    }\n",
       "</style>\n",
       "<table border=\"1\" class=\"dataframe\">\n",
       "  <thead>\n",
       "    <tr style=\"text-align: right;\">\n",
       "      <th></th>\n",
       "      <th>index</th>\n",
       "      <th>userid</th>\n",
       "      <th>feedid</th>\n",
       "      <th>date_</th>\n",
       "      <th>device</th>\n",
       "      <th>read_comment</th>\n",
       "      <th>comment</th>\n",
       "      <th>like</th>\n",
       "      <th>play</th>\n",
       "      <th>stay</th>\n",
       "      <th>click_avatar</th>\n",
       "      <th>forward</th>\n",
       "      <th>follow</th>\n",
       "      <th>favorite</th>\n",
       "      <th>version</th>\n",
       "      <th>finish_rate</th>\n",
       "      <th>stay_rate</th>\n",
       "      <th>is_first</th>\n",
       "      <th>actions</th>\n",
       "    </tr>\n",
       "  </thead>\n",
       "  <tbody>\n",
       "    <tr>\n",
       "      <th>0</th>\n",
       "      <td>0</td>\n",
       "      <td>8</td>\n",
       "      <td>71474</td>\n",
       "      <td>1</td>\n",
       "      <td>1</td>\n",
       "      <td>0</td>\n",
       "      <td>0</td>\n",
       "      <td>1</td>\n",
       "      <td>500</td>\n",
       "      <td>5366</td>\n",
       "      <td>0</td>\n",
       "      <td>0</td>\n",
       "      <td>0</td>\n",
       "      <td>0</td>\n",
       "      <td>2</td>\n",
       "      <td>0.045455</td>\n",
       "      <td>0.487818</td>\n",
       "      <td>1</td>\n",
       "      <td>1</td>\n",
       "    </tr>\n",
       "    <tr>\n",
       "      <th>1</th>\n",
       "      <td>6031775</td>\n",
       "      <td>205838</td>\n",
       "      <td>66594</td>\n",
       "      <td>1</td>\n",
       "      <td>2</td>\n",
       "      <td>0</td>\n",
       "      <td>0</td>\n",
       "      <td>0</td>\n",
       "      <td>15390</td>\n",
       "      <td>15618</td>\n",
       "      <td>0</td>\n",
       "      <td>0</td>\n",
       "      <td>0</td>\n",
       "      <td>0</td>\n",
       "      <td>2</td>\n",
       "      <td>1.183846</td>\n",
       "      <td>1.201385</td>\n",
       "      <td>1</td>\n",
       "      <td>0</td>\n",
       "    </tr>\n",
       "    <tr>\n",
       "      <th>2</th>\n",
       "      <td>6031776</td>\n",
       "      <td>205838</td>\n",
       "      <td>54005</td>\n",
       "      <td>1</td>\n",
       "      <td>2</td>\n",
       "      <td>0</td>\n",
       "      <td>0</td>\n",
       "      <td>0</td>\n",
       "      <td>27607</td>\n",
       "      <td>27856</td>\n",
       "      <td>0</td>\n",
       "      <td>0</td>\n",
       "      <td>0</td>\n",
       "      <td>0</td>\n",
       "      <td>2</td>\n",
       "      <td>2.509727</td>\n",
       "      <td>2.532364</td>\n",
       "      <td>1</td>\n",
       "      <td>0</td>\n",
       "    </tr>\n",
       "    <tr>\n",
       "      <th>3</th>\n",
       "      <td>6031777</td>\n",
       "      <td>205838</td>\n",
       "      <td>88694</td>\n",
       "      <td>1</td>\n",
       "      <td>2</td>\n",
       "      <td>0</td>\n",
       "      <td>0</td>\n",
       "      <td>0</td>\n",
       "      <td>24583</td>\n",
       "      <td>25066</td>\n",
       "      <td>0</td>\n",
       "      <td>0</td>\n",
       "      <td>0</td>\n",
       "      <td>0</td>\n",
       "      <td>2</td>\n",
       "      <td>0.910481</td>\n",
       "      <td>0.928370</td>\n",
       "      <td>1</td>\n",
       "      <td>0</td>\n",
       "    </tr>\n",
       "    <tr>\n",
       "      <th>4</th>\n",
       "      <td>6031778</td>\n",
       "      <td>205838</td>\n",
       "      <td>29299</td>\n",
       "      <td>1</td>\n",
       "      <td>2</td>\n",
       "      <td>0</td>\n",
       "      <td>0</td>\n",
       "      <td>0</td>\n",
       "      <td>12897</td>\n",
       "      <td>13070</td>\n",
       "      <td>0</td>\n",
       "      <td>0</td>\n",
       "      <td>0</td>\n",
       "      <td>0</td>\n",
       "      <td>2</td>\n",
       "      <td>1.289700</td>\n",
       "      <td>1.307000</td>\n",
       "      <td>1</td>\n",
       "      <td>0</td>\n",
       "    </tr>\n",
       "  </tbody>\n",
       "</table>\n",
       "</div>"
      ],
      "text/plain": [
       "     index  userid  feedid  date_  device  read_comment  comment  like   play  \\\n",
       "0        0       8   71474      1       1             0        0     1    500   \n",
       "1  6031775  205838   66594      1       2             0        0     0  15390   \n",
       "2  6031776  205838   54005      1       2             0        0     0  27607   \n",
       "3  6031777  205838   88694      1       2             0        0     0  24583   \n",
       "4  6031778  205838   29299      1       2             0        0     0  12897   \n",
       "\n",
       "    stay  click_avatar  forward  follow  favorite  version  finish_rate  \\\n",
       "0   5366             0        0       0         0        2     0.045455   \n",
       "1  15618             0        0       0         0        2     1.183846   \n",
       "2  27856             0        0       0         0        2     2.509727   \n",
       "3  25066             0        0       0         0        2     0.910481   \n",
       "4  13070             0        0       0         0        2     1.289700   \n",
       "\n",
       "   stay_rate  is_first  actions  \n",
       "0   0.487818         1        1  \n",
       "1   1.201385         1        0  \n",
       "2   2.532364         1        0  \n",
       "3   0.928370         1        0  \n",
       "4   1.307000         1        0  "
      ]
     },
     "execution_count": 13,
     "metadata": {},
     "output_type": "execute_result"
    }
   ],
   "source": [
    "d.head()"
   ]
  },
  {
   "cell_type": "code",
   "execution_count": 14,
   "metadata": {},
   "outputs": [
    {
     "name": "stdout",
     "output_type": "stream",
     "text": [
      "read history.pkl start\n",
      "read history.pkl duration: 2.0064737796783447\n"
     ]
    }
   ],
   "source": [
    "with gezi.Timer('read history.pkl', True):\n",
    "  history = gezi.read_pickle('../input/history.pkl')"
   ]
  },
  {
   "cell_type": "code",
   "execution_count": 15,
   "metadata": {},
   "outputs": [],
   "source": [
    "if not DYNAMIC_LEN:\n",
    "  HIST_LENS = {\n",
    "    \"read_comment\": 50,  # 是否查看评论\n",
    "    \"like\": 50,  # 是否点赞\n",
    "    \"click_avatar\": 30,  # 是否点击头像\n",
    "    \"forward\": 20,  # 是否转发\n",
    "    \"favorite\": 10,  # 是否收藏\n",
    "    \"comment\": 3,  # 是否发表评论\n",
    "    \"follow\": 5,  # 是否关注\n",
    "    \"pos\": 50,\n",
    "    \"neg\": 50,\n",
    "    \"finish\": 50,\n",
    "    \"unfinish\": 50,\n",
    "    'stay': 50,\n",
    "    'unstay': 20,\n",
    "  #   'unfinish2': 50,\n",
    "  #   'unstay2': 50,\n",
    "  #   \"latest\": 100, #  latest 包括不包括当天的show 对应所有都用户交互信息\n",
    "  #   \"today\": 100, # 当天的show\n",
    "    # \"show\": 100, # 不包括当天的show 相当于 action | neg\n",
    "  }\n",
    "else:\n",
    "  HIST_LENS = {\n",
    "    \"read_comment\": 200,  # 是否查看评论\n",
    "    \"like\": 200,  # 是否点赞\n",
    "    \"click_avatar\": 200,  # 是否点击头像\n",
    "    \"forward\": 200,  # 是否转发\n",
    "    \"favorite\": 200,  # 是否收藏\n",
    "    \"comment\": 200,  # 是否发表评论\n",
    "    \"follow\": 200,  # 是否关注\n",
    "    \"pos\": 50,\n",
    "    \"neg\": 50,\n",
    "    \"finish\": 50,\n",
    "    \"unfinish\": 50,\n",
    "    'stay': 50,\n",
    "    'unstay': 20,\n",
    "  #   'unfinish2': 50,\n",
    "  #   'unstay2': 50,\n",
    "  #   \"latest\": 500, #  latest 包括不包括当天的show 对应所有都用户交互信息\n",
    "  #   \"today\": 100, # 当天的show\n",
    "  }\n",
    "EMPTY_ID = 1\n",
    "HIS_ACTIONS = list(list(history.values())[0].keys())"
   ]
  },
  {
   "cell_type": "code",
   "execution_count": 16,
   "metadata": {},
   "outputs": [],
   "source": [
    "vocab = gezi.Vocab('../input/doc_vocab.txt')"
   ]
  },
  {
   "cell_type": "code",
   "execution_count": 17,
   "metadata": {},
   "outputs": [],
   "source": [
    "def get_history_day_(userid, action, day):  \n",
    "  feeds, days = [], []\n",
    "  if day > 1:\n",
    "    hist = history[userid][action]\n",
    "    for feedid_, day_ in hist:\n",
    "      if day_ < day:\n",
    "        feeds.append(vocab.id(feedid_))\n",
    "        days.append(day_)\n",
    "  return feeds, [day - x + 1 for x in days]\n",
    "\n",
    "def get_history_day(userids, day):\n",
    "  history_day = {}\n",
    "  for userid in tqdm(userids):\n",
    "    if day not in dates_[userid]:\n",
    "      continue\n",
    "    history_day[userid] = {}\n",
    "    for action in HIS_ACTIONS:\n",
    "      history_day[userid][action] = get_history_day_(userid, action, day)\n",
    "  return history_day"
   ]
  },
  {
   "cell_type": "code",
   "execution_count": 18,
   "metadata": {},
   "outputs": [
    {
     "name": "stderr",
     "output_type": "stream",
     "text": [
      "100%|██████████| 20000/20000 [00:01<00:00, 14506.60it/s]\n"
     ]
    }
   ],
   "source": [
    "dates = d.groupby(['userid'])['date_'].progress_apply(set).reset_index(name='dates')"
   ]
  },
  {
   "cell_type": "code",
   "execution_count": 19,
   "metadata": {},
   "outputs": [],
   "source": [
    "# dates.head()"
   ]
  },
  {
   "cell_type": "code",
   "execution_count": 20,
   "metadata": {},
   "outputs": [],
   "source": [
    "# let all userid have day 15 to lookup history for unkonw test_b\n",
    "dates.dates = dates.dates.apply(lambda x: list(x) + [15])"
   ]
  },
  {
   "cell_type": "code",
   "execution_count": 21,
   "metadata": {},
   "outputs": [],
   "source": [
    "# dates.head()"
   ]
  },
  {
   "cell_type": "code",
   "execution_count": 22,
   "metadata": {},
   "outputs": [
    {
     "name": "stderr",
     "output_type": "stream",
     "text": [
      "100%|██████████| 20000/20000 [00:00<00:00, 82951.38it/s]\n"
     ]
    }
   ],
   "source": [
    "dates_ = {}\n",
    "for i in tqdm(range(len(dates))):\n",
    "  dates_[dates.userid.values[i]] = set(dates.dates.values[i])"
   ]
  },
  {
   "cell_type": "code",
   "execution_count": 23,
   "metadata": {},
   "outputs": [],
   "source": [
    "# dates_"
   ]
  },
  {
   "cell_type": "code",
   "execution_count": 24,
   "metadata": {},
   "outputs": [],
   "source": [
    "# len(dates_)"
   ]
  },
  {
   "cell_type": "code",
   "execution_count": 25,
   "metadata": {},
   "outputs": [
    {
     "name": "stderr",
     "output_type": "stream",
     "text": [
      " 40%|███▉      | 7915/20000 [00:02<00:02, 4554.76it/s]\n",
      "100%|██████████| 20000/20000 [00:03<00:00, 6113.19it/s]\n",
      "100%|██████████| 20000/20000 [00:03<00:00, 5303.45it/s]\n",
      "100%|██████████| 20000/20000 [00:04<00:00, 4514.12it/s]\n",
      "100%|██████████| 20000/20000 [00:04<00:00, 4101.71it/s]\n",
      "100%|██████████| 20000/20000 [00:05<00:00, 3616.81it/s]\n",
      "100%|██████████| 20000/20000 [00:06<00:00, 3326.54it/s]\n",
      "100%|██████████| 20000/20000 [00:06<00:00, 2930.37it/s]\n",
      "100%|██████████| 20000/20000 [00:07<00:00, 2797.97it/s]\n",
      "100%|██████████| 20000/20000 [00:07<00:00, 2548.86it/s]\n",
      "100%|██████████| 20000/20000 [00:08<00:00, 2368.80it/s]\n",
      "100%|██████████| 20000/20000 [00:09<00:00, 2170.01it/s]\n",
      "100%|██████████| 20000/20000 [00:10<00:00, 1998.17it/s]\n",
      "100%|██████████| 20000/20000 [00:10<00:00, 1852.72it/s]\n",
      "100%|██████████| 20000/20000 [00:15<00:00, 1285.61it/s]\n"
     ]
    }
   ],
   "source": [
    "DAYS = 15\n",
    "nw = cpu_count()\n",
    "userids = list(history.keys())\n",
    "userids_list = np.array_split(userids, nw)\n",
    "\n",
    "## though write easy, but might connect fail if multiprocessing need long time run\n",
    "## not as stable as Pool, only could be used for not too heavy ..\n",
    "## might be call multiple times of with pymp.Parallel(nw) as p, or too much time waiting\n",
    "## for writting file\n",
    "##   File \"/home/tione/notebook/envs/pikachu/lib/python3.6/multiprocessing/connection.py\", line 614, in SocketClient\n",
    "##     s.connect(address)\n",
    "## ConnectionRefusedError: [Errno 111] Connection refused\n",
    "\n",
    "## 这些都会hang 后面 可能由于 单个进程等待时间过长\n",
    "# for day in tqdm(range(DAYS)):\n",
    "#   day += 1\n",
    "#   res = Manager().dict()\n",
    "#   with pymp.Parallel(nw) as p:\n",
    "#     for i in p.range(nw):\n",
    "#       res[i] = get_history_day(userids_list[i], day)\n",
    "#   history_day = dict(ChainMap(*res.values()))\n",
    "#   gezi.save_pickle(history_day, f'../input/history_{day}.pkl')\n",
    "\n",
    "# for day in tqdm(range(DAYS)):\n",
    "#   day += 1\n",
    "# #   if day == 1:\n",
    "# #     continue\n",
    "#   pfunc = functools.partial(get_history_day, day=day)\n",
    "#   with Pool(nw) as p:\n",
    "#     res = p.map(pfunc, userids_list)\n",
    "#   history_day = dict(ChainMap(*res))\n",
    "#   gezi.save_pickle(history_day, f'../input/history_{day}.pkl')\n",
    "\n",
    "if not PARALLEL:\n",
    "  for day in tqdm(range(DAYS)):\n",
    "    day += 1\n",
    "    history_day = get_history_day(userids, day)\n",
    "    gezi.save_pickle(history_day, f'../input/history_{day}.pkl')\n",
    "else:\n",
    "  # 如果没有OOM 超过内存 那么pymp 一个处理一个 一一对应是没问题的 cpu机器没问题\n",
    "  # 如果OOM 比如设置nw=8 那么下面就会有问题.. 启用进程数最好还是和p.range一致\n",
    "  # 为了安全 还是不走多进程\n",
    "  nw = min(nw, DAYS)\n",
    "  with pymp.Parallel(nw) as p:\n",
    "    for day in p.range(DAYS):\n",
    "      day += 1\n",
    "      history_day = get_history_day(userids, day)\n",
    "      gezi.save_pickle(history_day, f'../input/history_{day}.pkl')"
   ]
  },
  {
   "cell_type": "code",
   "execution_count": 26,
   "metadata": {},
   "outputs": [],
   "source": [
    "history_day = gezi.read_pickle('../input/history_14.pkl')"
   ]
  },
  {
   "cell_type": "code",
   "execution_count": 27,
   "metadata": {},
   "outputs": [
    {
     "name": "stdout",
     "output_type": "stream",
     "text": [
      "read_comment ([6942, 16611, 2881, 27411, 892], [4, 4, 4, 4, 5])\n",
      "comment ([], [])\n",
      "like ([6942, 5529, 2881, 2041, 14894, 330], [4, 4, 4, 12, 12, 13])\n",
      "click_avatar ([], [])\n",
      "forward ([], [])\n",
      "follow ([], [])\n",
      "favorite ([], [])\n",
      "finish ([23671, 49640, 45260, 4926, 3328, 30636, 35906, 10594, 8114, 16268, 884, 25714, 43945, 22352, 10268, 9483, 53870, 9023, 4305, 492, 3754, 8595, 1755, 7978, 21962, 66184, 46743, 17003, 7899, 11562, 49749, 12151, 7225, 3315, 2307, 29860, 9287, 31362, 10885, 28982, 24724, 34181, 21833, 5088, 2814, 12726, 14750, 13062, 1173, 36311], [2, 2, 2, 2, 2, 2, 2, 2, 2, 2, 2, 2, 2, 2, 2, 2, 2, 2, 2, 2, 2, 2, 2, 2, 2, 2, 2, 2, 2, 2, 4, 4, 4, 4, 4, 4, 4, 4, 4, 4, 4, 4, 4, 4, 4, 4, 4, 4, 4, 4])\n",
      "stay ([23671, 49640, 45260, 4926, 3328, 30636, 35906, 10594, 8114, 16268, 884, 25714, 43945, 22352, 10268, 9483, 53870, 9023, 4305, 492, 3754, 8595, 1755, 7978, 21962, 66184, 46743, 17003, 7899, 11562, 6942, 49749, 12151, 16611, 7225, 3315, 2307, 29860, 9287, 31362, 10885, 28982, 24724, 34181, 21833, 5088, 2814, 12726, 14750, 13062], [2, 2, 2, 2, 2, 2, 2, 2, 2, 2, 2, 2, 2, 2, 2, 2, 2, 2, 2, 2, 2, 2, 2, 2, 2, 2, 2, 2, 2, 2, 4, 4, 4, 4, 4, 4, 4, 4, 4, 4, 4, 4, 4, 4, 4, 4, 4, 4, 4, 4])\n",
      "pos ([6942, 16611, 5529, 2881, 27411, 892, 2041, 14894, 330], [4, 4, 4, 4, 4, 5, 12, 12, 13])\n",
      "neg ([23671, 49640, 10832, 45260, 4926, 3328, 30636, 35906, 10594, 8114, 16268, 884, 25714, 43945, 22352, 10268, 9483, 53870, 35352, 9023, 4305, 23298, 492, 3754, 8595, 1755, 7978, 21962, 66184, 46743, 17003, 7899, 11562, 35352, 42, 38800, 14727, 8105, 15618, 49749, 969, 19898, 12151, 10417, 7225, 3315, 2307, 29860, 7462, 32504], [2, 2, 2, 2, 2, 2, 2, 2, 2, 2, 2, 2, 2, 2, 2, 2, 2, 2, 2, 2, 2, 2, 2, 2, 2, 2, 2, 2, 2, 2, 2, 2, 2, 4, 4, 4, 4, 4, 4, 4, 4, 4, 4, 4, 4, 4, 4, 4, 4, 4])\n",
      "unfinish ([35352, 42, 38800, 14727, 8105, 27244, 14398, 11886, 32005, 2592, 9718, 539, 23903, 16165, 3849, 28397, 28397, 35967, 15048, 32229, 74782, 5026, 3546, 14182, 21973, 53839, 13356, 127, 9358, 9891, 3910, 17998, 20232, 23574, 30550, 7781, 8908, 18326, 6288, 23389, 1224, 49564, 907, 2811, 43389, 42754, 24239, 18148, 17996, 2041], [2, 4, 4, 4, 4, 4, 4, 5, 5, 5, 5, 5, 7, 7, 7, 8, 11, 11, 12, 12, 12, 12, 12, 12, 12, 12, 12, 12, 12, 12, 12, 12, 12, 12, 12, 12, 12, 12, 12, 12, 12, 12, 12, 12, 12, 12, 12, 12, 12, 12])\n",
      "unstay ([], [])\n"
     ]
    }
   ],
   "source": [
    "for action in HIS_ACTIONS:\n",
    "  uid = list(history_day.keys())[0]\n",
    "  print(action, history_day[uid][action])"
   ]
  },
  {
   "cell_type": "code",
   "execution_count": 28,
   "metadata": {},
   "outputs": [
    {
     "name": "stdout",
     "output_type": "stream",
     "text": [
      "196786 {'read_comment': ([], []), 'comment': ([], []), 'like': ([], []), 'click_avatar': ([], []), 'forward': ([], []), 'follow': ([], []), 'favorite': ([], []), 'finish': ([], []), 'stay': ([], []), 'pos': ([], []), 'neg': ([], []), 'unfinish': ([], []), 'unstay': ([], [])}\n",
      "{'read_comment': ([], []), 'comment': ([], []), 'like': ([], []), 'click_avatar': ([], []), 'forward': ([], []), 'follow': ([], []), 'favorite': ([], []), 'finish': ([], []), 'stay': ([], []), 'pos': ([], []), 'neg': ([2122, 101], [3, 3]), 'unfinish': ([101], [3]), 'unstay': ([], [])}\n"
     ]
    }
   ],
   "source": [
    "history_day = gezi.read_pickle('../input/history_14.pkl')\n",
    "for uid in history_day:\n",
    "  if len(history_day[uid]['pos'][0]) == 0:\n",
    "    print(uid, history_day[uid])\n",
    "    break\n",
    "print(history_day[100110])"
   ]
  },
  {
   "cell_type": "code",
   "execution_count": 29,
   "metadata": {},
   "outputs": [],
   "source": [
    "# history[1]"
   ]
  },
  {
   "cell_type": "code",
   "execution_count": null,
   "metadata": {},
   "outputs": [],
   "source": []
  },
  {
   "cell_type": "code",
   "execution_count": null,
   "metadata": {},
   "outputs": [],
   "source": []
  },
  {
   "cell_type": "code",
   "execution_count": null,
   "metadata": {},
   "outputs": [],
   "source": []
  }
 ],
 "metadata": {
  "interpreter": {
   "hash": "98b0a9b7b4eaaa670588a142fd0a9b87eaafe866f1db4228be72b4211d12040f"
  },
  "kernelspec": {
   "display_name": "Python 3",
   "language": "python",
   "name": "python3"
  },
  "language_info": {
   "codemirror_mode": {
    "name": "ipython",
    "version": 3
   },
   "file_extension": ".py",
   "mimetype": "text/x-python",
   "name": "python",
   "nbconvert_exporter": "python",
   "pygments_lexer": "ipython3",
   "version": "3.6.10"
  }
 },
 "nbformat": 4,
 "nbformat_minor": 4
}
