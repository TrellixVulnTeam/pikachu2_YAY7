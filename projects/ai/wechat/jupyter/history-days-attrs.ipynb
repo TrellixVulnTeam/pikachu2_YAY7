{
 "cells": [
  {
   "cell_type": "code",
   "execution_count": 1,
   "source": [
    "import numpy as np\n",
    "import pandas as pd\n",
    "from collections import OrderedDict, defaultdict, ChainMap\n",
    "import glob\n",
    "import sys, os\n",
    "import functools\n",
    "sys.path.append('..')\n",
    "sys.path.append('../../../../utils')\n",
    "sys.path.append('../../../../third')\n",
    "import dask.dataframe as dd\n",
    "from multiprocessing import Pool, Manager, cpu_count\n",
    "from joblib import Parallel, delayed\n",
    "import pymp\n",
    "import gezi\n",
    "# from gezi import tqdm\n",
    "from tqdm import tqdm\n",
    "tqdm.pandas()"
   ],
   "outputs": [],
   "metadata": {}
  },
  {
   "cell_type": "code",
   "execution_count": 3,
   "source": [
    "feeds = {}\n",
    "def cache_feed():\n",
    "  df = pd.read_csv('../input/feed_info.csv')\n",
    "  df = df.fillna(-1)\n",
    "  for row in tqdm(df.itertuples(), total=len(df), desc='feed_info'):\n",
    "    row = row._asdict()\n",
    "    feeds[row['feedid']] = row\n",
    "cache_feed()"
   ],
   "outputs": [
    {
     "output_type": "stream",
     "name": "stderr",
     "text": [
      "feed_info: 100%|██████████| 106444/106444 [00:00<00:00, 111879.22it/s]\n"
     ]
    }
   ],
   "metadata": {}
  },
  {
   "cell_type": "code",
   "execution_count": 4,
   "source": [
    "DYNAMIC_LEN = False\n",
    "PARALLEL = True\n",
    "if 'tione' in os.environ['PATH']:\n",
    "  PARALLEL = False"
   ],
   "outputs": [],
   "metadata": {}
  },
  {
   "cell_type": "code",
   "execution_count": 5,
   "source": [
    "with gezi.Timer('read user_action2.feather', True):\n",
    "  d = pd.read_feather('../input/user_action2.feather')\n",
    "  d.feedid = d.feedid.astype(int)\n",
    "  d.userid = d.userid.astype(int)\n",
    "  d.date_ = d.date_.astype(int)"
   ],
   "outputs": [
    {
     "output_type": "stream",
     "name": "stdout",
     "text": [
      "read user_action2.feather start\n",
      "read user_action2.feather duration: 0.3764004707336426\n"
     ]
    }
   ],
   "metadata": {}
  },
  {
   "cell_type": "code",
   "execution_count": 6,
   "source": [
    "d.head()"
   ],
   "outputs": [
    {
     "output_type": "execute_result",
     "data": {
      "text/plain": [
       "     index  userid  feedid  date_  device  read_comment  comment  like   play  \\\n",
       "0        0       8   71474      1       1             0        0     1    500   \n",
       "1  6031775  205838   66594      1       2             0        0     0  15390   \n",
       "2  6031776  205838   54005      1       2             0        0     0  27607   \n",
       "3  6031777  205838   88694      1       2             0        0     0  24583   \n",
       "4  6031778  205838   29299      1       2             0        0     0  12897   \n",
       "\n",
       "    stay  click_avatar  forward  follow  favorite  version  finish_rate  \\\n",
       "0   5366             0        0       0         0        2     0.045455   \n",
       "1  15618             0        0       0         0        2     1.183846   \n",
       "2  27856             0        0       0         0        2     2.509727   \n",
       "3  25066             0        0       0         0        2     0.910481   \n",
       "4  13070             0        0       0         0        2     1.289700   \n",
       "\n",
       "   stay_rate  is_first  actions  \n",
       "0   0.487818         1        1  \n",
       "1   1.201385         1        0  \n",
       "2   2.532364         1        0  \n",
       "3   0.928370         1        0  \n",
       "4   1.307000         1        0  "
      ],
      "text/html": [
       "<div>\n",
       "<style scoped>\n",
       "    .dataframe tbody tr th:only-of-type {\n",
       "        vertical-align: middle;\n",
       "    }\n",
       "\n",
       "    .dataframe tbody tr th {\n",
       "        vertical-align: top;\n",
       "    }\n",
       "\n",
       "    .dataframe thead th {\n",
       "        text-align: right;\n",
       "    }\n",
       "</style>\n",
       "<table border=\"1\" class=\"dataframe\">\n",
       "  <thead>\n",
       "    <tr style=\"text-align: right;\">\n",
       "      <th></th>\n",
       "      <th>index</th>\n",
       "      <th>userid</th>\n",
       "      <th>feedid</th>\n",
       "      <th>date_</th>\n",
       "      <th>device</th>\n",
       "      <th>read_comment</th>\n",
       "      <th>comment</th>\n",
       "      <th>like</th>\n",
       "      <th>play</th>\n",
       "      <th>stay</th>\n",
       "      <th>click_avatar</th>\n",
       "      <th>forward</th>\n",
       "      <th>follow</th>\n",
       "      <th>favorite</th>\n",
       "      <th>version</th>\n",
       "      <th>finish_rate</th>\n",
       "      <th>stay_rate</th>\n",
       "      <th>is_first</th>\n",
       "      <th>actions</th>\n",
       "    </tr>\n",
       "  </thead>\n",
       "  <tbody>\n",
       "    <tr>\n",
       "      <th>0</th>\n",
       "      <td>0</td>\n",
       "      <td>8</td>\n",
       "      <td>71474</td>\n",
       "      <td>1</td>\n",
       "      <td>1</td>\n",
       "      <td>0</td>\n",
       "      <td>0</td>\n",
       "      <td>1</td>\n",
       "      <td>500</td>\n",
       "      <td>5366</td>\n",
       "      <td>0</td>\n",
       "      <td>0</td>\n",
       "      <td>0</td>\n",
       "      <td>0</td>\n",
       "      <td>2</td>\n",
       "      <td>0.045455</td>\n",
       "      <td>0.487818</td>\n",
       "      <td>1</td>\n",
       "      <td>1</td>\n",
       "    </tr>\n",
       "    <tr>\n",
       "      <th>1</th>\n",
       "      <td>6031775</td>\n",
       "      <td>205838</td>\n",
       "      <td>66594</td>\n",
       "      <td>1</td>\n",
       "      <td>2</td>\n",
       "      <td>0</td>\n",
       "      <td>0</td>\n",
       "      <td>0</td>\n",
       "      <td>15390</td>\n",
       "      <td>15618</td>\n",
       "      <td>0</td>\n",
       "      <td>0</td>\n",
       "      <td>0</td>\n",
       "      <td>0</td>\n",
       "      <td>2</td>\n",
       "      <td>1.183846</td>\n",
       "      <td>1.201385</td>\n",
       "      <td>1</td>\n",
       "      <td>0</td>\n",
       "    </tr>\n",
       "    <tr>\n",
       "      <th>2</th>\n",
       "      <td>6031776</td>\n",
       "      <td>205838</td>\n",
       "      <td>54005</td>\n",
       "      <td>1</td>\n",
       "      <td>2</td>\n",
       "      <td>0</td>\n",
       "      <td>0</td>\n",
       "      <td>0</td>\n",
       "      <td>27607</td>\n",
       "      <td>27856</td>\n",
       "      <td>0</td>\n",
       "      <td>0</td>\n",
       "      <td>0</td>\n",
       "      <td>0</td>\n",
       "      <td>2</td>\n",
       "      <td>2.509727</td>\n",
       "      <td>2.532364</td>\n",
       "      <td>1</td>\n",
       "      <td>0</td>\n",
       "    </tr>\n",
       "    <tr>\n",
       "      <th>3</th>\n",
       "      <td>6031777</td>\n",
       "      <td>205838</td>\n",
       "      <td>88694</td>\n",
       "      <td>1</td>\n",
       "      <td>2</td>\n",
       "      <td>0</td>\n",
       "      <td>0</td>\n",
       "      <td>0</td>\n",
       "      <td>24583</td>\n",
       "      <td>25066</td>\n",
       "      <td>0</td>\n",
       "      <td>0</td>\n",
       "      <td>0</td>\n",
       "      <td>0</td>\n",
       "      <td>2</td>\n",
       "      <td>0.910481</td>\n",
       "      <td>0.928370</td>\n",
       "      <td>1</td>\n",
       "      <td>0</td>\n",
       "    </tr>\n",
       "    <tr>\n",
       "      <th>4</th>\n",
       "      <td>6031778</td>\n",
       "      <td>205838</td>\n",
       "      <td>29299</td>\n",
       "      <td>1</td>\n",
       "      <td>2</td>\n",
       "      <td>0</td>\n",
       "      <td>0</td>\n",
       "      <td>0</td>\n",
       "      <td>12897</td>\n",
       "      <td>13070</td>\n",
       "      <td>0</td>\n",
       "      <td>0</td>\n",
       "      <td>0</td>\n",
       "      <td>0</td>\n",
       "      <td>2</td>\n",
       "      <td>1.289700</td>\n",
       "      <td>1.307000</td>\n",
       "      <td>1</td>\n",
       "      <td>0</td>\n",
       "    </tr>\n",
       "  </tbody>\n",
       "</table>\n",
       "</div>"
      ]
     },
     "metadata": {},
     "execution_count": 6
    }
   ],
   "metadata": {}
  },
  {
   "cell_type": "code",
   "execution_count": 7,
   "source": [
    "with gezi.Timer('read history.pkl', True):\n",
    "  history = gezi.read_pickle('../input/history.pkl')"
   ],
   "outputs": [
    {
     "output_type": "stream",
     "name": "stdout",
     "text": [
      "read history.pkl start\n",
      "read history.pkl duration: 2.6896567344665527\n"
     ]
    }
   ],
   "metadata": {}
  },
  {
   "cell_type": "code",
   "execution_count": 9,
   "source": [
    "vocab_names = [\n",
    "                'user', 'doc',\n",
    "                'author', 'singer', 'song',\n",
    "                'key', 'tag', 'word', 'char'\n",
    "              ]\n",
    "vocabs = {}\n",
    "\n",
    "for vocab_name in vocab_names:\n",
    "  vocab_file =  f'../input/{vocab_name}_vocab.txt'\n",
    "  vocab = gezi.Vocab(vocab_file)\n",
    "  vocabs[vocab_name] = vocab"
   ],
   "outputs": [],
   "metadata": {}
  },
  {
   "cell_type": "code",
   "execution_count": null,
   "source": [
    "def get_history_day_(userid, action, day):  \n",
    "  feeds = []\n",
    "  if day > 1:\n",
    "    hist = history[userid][action]\n",
    "    for feedid_, day_ in hist:\n",
    "      if day_ < day:\n",
    "        \n",
    "\n",
    "def get_history_day(userids, day):\n",
    "  history_day = {}\n",
    "  for userid in tqdm(userids):\n",
    "    if day not in dates_[userid]:\n",
    "      continue\n",
    "    history_day[userid] = {}\n",
    "    for action in HIS_ACTIONS:\n",
    "      history_day[userid][action] = get_history_day_(userid, action, day)\n",
    "  return history_day"
   ],
   "outputs": [],
   "metadata": {}
  },
  {
   "cell_type": "code",
   "execution_count": null,
   "source": [
    "userids = list(history.keys())"
   ],
   "outputs": [],
   "metadata": {}
  },
  {
   "cell_type": "code",
   "execution_count": null,
   "source": [
    "dates = d.groupby(['userid'])['date_'].progress_apply(set).reset_index(name='dates')"
   ],
   "outputs": [],
   "metadata": {}
  },
  {
   "cell_type": "code",
   "execution_count": null,
   "source": [
    "# dates.head()"
   ],
   "outputs": [],
   "metadata": {}
  },
  {
   "cell_type": "code",
   "execution_count": null,
   "source": [
    "# let all userid have day 15 to lookup history for unkonw test_b\n",
    "dates.dates = dates.dates.apply(lambda x: list(x) + [15])"
   ],
   "outputs": [],
   "metadata": {}
  },
  {
   "cell_type": "code",
   "execution_count": null,
   "source": [
    "# dates.head()"
   ],
   "outputs": [],
   "metadata": {}
  },
  {
   "cell_type": "code",
   "execution_count": null,
   "source": [
    "dates_ = {}\n",
    "for i in tqdm(range(len(dates))):\n",
    "  dates_[dates.userid.values[i]] = set(dates.dates.values[i])"
   ],
   "outputs": [],
   "metadata": {}
  },
  {
   "cell_type": "code",
   "execution_count": null,
   "source": [
    "# dates_"
   ],
   "outputs": [],
   "metadata": {}
  },
  {
   "cell_type": "code",
   "execution_count": null,
   "source": [
    "# len(dates_)"
   ],
   "outputs": [],
   "metadata": {}
  },
  {
   "cell_type": "code",
   "execution_count": null,
   "source": [
    "DAYS = 15\n",
    "nw = cpu_count()\n",
    "userids = list(history.keys())\n",
    "userids_list = np.array_split(userids, nw)\n",
    "\n",
    "## though write easy, but might connect fail if multiprocessing need long time run\n",
    "## not as stable as Pool, only could be used for not too heavy ..\n",
    "## might be call multiple times of with pymp.Parallel(nw) as p, or too much time waiting\n",
    "## for writting file\n",
    "##   File \"/home/tione/notebook/envs/pikachu/lib/python3.6/multiprocessing/connection.py\", line 614, in SocketClient\n",
    "##     s.connect(address)\n",
    "## ConnectionRefusedError: [Errno 111] Connection refused\n",
    "\n",
    "## 这些都会hang 后面 可能由于 单个进程等待时间过长\n",
    "# for day in tqdm(range(DAYS)):\n",
    "#   day += 1\n",
    "#   res = Manager().dict()\n",
    "#   with pymp.Parallel(nw) as p:\n",
    "#     for i in p.range(nw):\n",
    "#       res[i] = get_history_day(userids_list[i], day)\n",
    "#   history_day = dict(ChainMap(*res.values()))\n",
    "#   gezi.save_pickle(history_day, f'../input/history_{day}.pkl')\n",
    "\n",
    "# for day in tqdm(range(DAYS)):\n",
    "#   day += 1\n",
    "# #   if day == 1:\n",
    "# #     continue\n",
    "#   pfunc = functools.partial(get_history_day, day=day)\n",
    "#   with Pool(nw) as p:\n",
    "#     res = p.map(pfunc, userids_list)\n",
    "#   history_day = dict(ChainMap(*res))\n",
    "#   gezi.save_pickle(history_day, f'../input/history_{day}.pkl')\n",
    "\n",
    "if not PARALLEL:\n",
    "  for day in tqdm(range(DAYS)):\n",
    "    day += 1\n",
    "    history_day = get_history_day(userids, day)\n",
    "    gezi.save_pickle(history_day, f'../input/history_{day}.pkl')\n",
    "else:\n",
    "  # 如果没有OOM 超过内存 那么pymp 一个处理一个 一一对应是没问题的 cpu机器没问题\n",
    "  # 如果OOM 比如设置nw=8 那么下面就会有问题.. 启用进程数最好还是和p.range一致\n",
    "  # 为了安全 还是不走多进程\n",
    "  nw = min(nw, DAYS)\n",
    "  with pymp.Parallel(nw) as p:\n",
    "    for day in p.range(DAYS):\n",
    "      day += 1\n",
    "      history_day = get_history_day(userids, day)\n",
    "      gezi.save_pickle(history_day, f'../input/history_{day}.pkl')"
   ],
   "outputs": [],
   "metadata": {}
  },
  {
   "cell_type": "code",
   "execution_count": null,
   "source": [
    "history_day = gezi.read_pickle('../input/history_14.pkl')"
   ],
   "outputs": [],
   "metadata": {}
  },
  {
   "cell_type": "code",
   "execution_count": null,
   "source": [
    "for action in HIS_ACTIONS:\n",
    "  uid = list(history_day.keys())[0]\n",
    "  print(action, history_day[uid][action])"
   ],
   "outputs": [],
   "metadata": {}
  },
  {
   "cell_type": "code",
   "execution_count": null,
   "source": [
    "history_day = gezi.read_pickle('../input/history_14.pkl')\n",
    "for uid in history_day:\n",
    "  if len(history_day[uid]['pos'][0]) == 0:\n",
    "    print(uid, history_day[uid])\n",
    "    break\n",
    "print(history_day[100110])"
   ],
   "outputs": [],
   "metadata": {}
  },
  {
   "cell_type": "code",
   "execution_count": null,
   "source": [
    "# history[1]"
   ],
   "outputs": [],
   "metadata": {}
  },
  {
   "cell_type": "code",
   "execution_count": null,
   "source": [],
   "outputs": [],
   "metadata": {}
  },
  {
   "cell_type": "code",
   "execution_count": null,
   "source": [],
   "outputs": [],
   "metadata": {}
  },
  {
   "cell_type": "code",
   "execution_count": null,
   "source": [],
   "outputs": [],
   "metadata": {}
  }
 ],
 "metadata": {
  "interpreter": {
   "hash": "98b0a9b7b4eaaa670588a142fd0a9b87eaafe866f1db4228be72b4211d12040f"
  },
  "kernelspec": {
   "name": "python3",
   "display_name": "Python 3.6.10 64-bit ('base': conda)"
  },
  "language_info": {
   "codemirror_mode": {
    "name": "ipython",
    "version": 3
   },
   "file_extension": ".py",
   "mimetype": "text/x-python",
   "name": "python",
   "nbconvert_exporter": "python",
   "pygments_lexer": "ipython3",
   "version": "3.6.10"
  }
 },
 "nbformat": 4,
 "nbformat_minor": 4
}