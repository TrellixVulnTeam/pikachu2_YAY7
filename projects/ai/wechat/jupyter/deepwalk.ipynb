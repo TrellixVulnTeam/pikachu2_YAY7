{
 "cells": [
  {
   "cell_type": "code",
   "execution_count": 40,
   "source": [
    "import numpy as np\n",
    "import pandas as pd\n",
    "import random\n",
    "from collections import OrderedDict, defaultdict\n",
    "import multiprocessing as mp\n",
    "import glob\n",
    "import sys,os\n",
    "sys.path.append('..')\n",
    "sys.path.append('../../../../utils')\n",
    "sys.path.append('../../../../third')\n",
    "import gezi\n",
    "from gezi import tqdm\n",
    "tqdm.pandas()\n",
    "from gensim.models import Word2Vec"
   ],
   "outputs": [],
   "metadata": {}
  },
  {
   "cell_type": "code",
   "execution_count": 2,
   "source": [
    "with gezi.Timer('read train user_actions'):\n",
    "  d = pd.read_csv('../input/user_action.csv')\n",
    "  try:\n",
    "    d1 = pd.read_csv('../input/v1/user_action.csv')\n",
    "    d = pd.concat([d, d1])\n",
    "  except Exception:\n",
    "    pass"
   ],
   "outputs": [
    {
     "output_type": "stream",
     "name": "stdout",
     "text": [
      "read train user_actions start\n",
      "read train user_actions duration: 3.6904406547546387\n"
     ]
    }
   ],
   "metadata": {}
  },
  {
   "cell_type": "code",
   "execution_count": 3,
   "source": [
    "with gezi.Timer('read test and merge'):\n",
    "  dt = pd.read_csv('../input/test_a.csv')\n",
    "  try:\n",
    "    dt1a = pd.read_csv('../input/v1/test_a.csv')\n",
    "    dt1b = pd.read_csv('../input/v1/test_b.csv')\n",
    "    dt = pd.concat([dt, dt1a, dt1b])\n",
    "  except Exception:\n",
    "    dtb = pd.read_csv('../input/test_b.csv')\n",
    "    dt = pd.concat([dt, dtb])"
   ],
   "outputs": [
    {
     "output_type": "stream",
     "name": "stdout",
     "text": [
      "read test and merge start\n",
      "read test and merge duration: 0.12495541572570801\n"
     ]
    }
   ],
   "metadata": {}
  },
  {
   "cell_type": "code",
   "execution_count": 4,
   "source": [
    "dt['date_'] = 15"
   ],
   "outputs": [],
   "metadata": {}
  },
  {
   "cell_type": "code",
   "execution_count": 5,
   "source": [
    "set(d.date_)"
   ],
   "outputs": [
    {
     "output_type": "execute_result",
     "data": {
      "text/plain": [
       "{1, 2, 3, 4, 5, 6, 7, 8, 9, 10, 11, 12, 13, 14}"
      ]
     },
     "metadata": {},
     "execution_count": 5
    }
   ],
   "metadata": {}
  },
  {
   "cell_type": "code",
   "execution_count": 6,
   "source": [
    "dshow = pd.concat([d[['userid', 'feedid', 'date_']],\n",
    "                  dt[['userid', 'feedid', 'date_']]])\n",
    "dshow = dshow.sort_values(['date_'], ascending=True)"
   ],
   "outputs": [],
   "metadata": {}
  },
  {
   "cell_type": "code",
   "execution_count": 7,
   "source": [
    "doc_vocab = gezi.Vocab('../input/doc_vocab.txt')"
   ],
   "outputs": [],
   "metadata": {}
  },
  {
   "cell_type": "code",
   "execution_count": 8,
   "source": [
    "user_vocab = gezi.Vocab('../input/user_vocab.txt')"
   ],
   "outputs": [],
   "metadata": {}
  },
  {
   "cell_type": "code",
   "execution_count": 9,
   "source": [
    "du = dshow.groupby(['userid'])['feedid'].progress_apply(list).reset_index(name='docs')"
   ],
   "outputs": [
    {
     "output_type": "display_data",
     "data": {
      "text/plain": [
       "  0%|          | 0/20000 [00:00<?, ?it/s]"
      ],
      "application/vnd.jupyter.widget-view+json": {
       "version_major": 2,
       "version_minor": 0,
       "model_id": "5646bf7b028d4a10b3d5332557c6c7c0"
      }
     },
     "metadata": {}
    }
   ],
   "metadata": {}
  },
  {
   "cell_type": "code",
   "execution_count": 10,
   "source": [
    "du.head()"
   ],
   "outputs": [
    {
     "output_type": "execute_result",
     "data": {
      "text/plain": [
       "   userid                                               docs\n",
       "0       8  [71474, 56747, 105148, 25619, 48027, 83826, 40...\n",
       "1      12  [69176, 102465, 85004, 36851, 106104, 80434, 3...\n",
       "2      13  [15729, 60767, 23302, 31961, 52458, 30296, 796...\n",
       "3      25  [49745, 79014, 2820, 49065, 69321, 104284, 846...\n",
       "4      37  [10705, 32160, 60130, 2505, 18148, 49725, 4113..."
      ],
      "text/html": [
       "<div>\n",
       "<style scoped>\n",
       "    .dataframe tbody tr th:only-of-type {\n",
       "        vertical-align: middle;\n",
       "    }\n",
       "\n",
       "    .dataframe tbody tr th {\n",
       "        vertical-align: top;\n",
       "    }\n",
       "\n",
       "    .dataframe thead th {\n",
       "        text-align: right;\n",
       "    }\n",
       "</style>\n",
       "<table border=\"1\" class=\"dataframe\">\n",
       "  <thead>\n",
       "    <tr style=\"text-align: right;\">\n",
       "      <th></th>\n",
       "      <th>userid</th>\n",
       "      <th>docs</th>\n",
       "    </tr>\n",
       "  </thead>\n",
       "  <tbody>\n",
       "    <tr>\n",
       "      <th>0</th>\n",
       "      <td>8</td>\n",
       "      <td>[71474, 56747, 105148, 25619, 48027, 83826, 40...</td>\n",
       "    </tr>\n",
       "    <tr>\n",
       "      <th>1</th>\n",
       "      <td>12</td>\n",
       "      <td>[69176, 102465, 85004, 36851, 106104, 80434, 3...</td>\n",
       "    </tr>\n",
       "    <tr>\n",
       "      <th>2</th>\n",
       "      <td>13</td>\n",
       "      <td>[15729, 60767, 23302, 31961, 52458, 30296, 796...</td>\n",
       "    </tr>\n",
       "    <tr>\n",
       "      <th>3</th>\n",
       "      <td>25</td>\n",
       "      <td>[49745, 79014, 2820, 49065, 69321, 104284, 846...</td>\n",
       "    </tr>\n",
       "    <tr>\n",
       "      <th>4</th>\n",
       "      <td>37</td>\n",
       "      <td>[10705, 32160, 60130, 2505, 18148, 49725, 4113...</td>\n",
       "    </tr>\n",
       "  </tbody>\n",
       "</table>\n",
       "</div>"
      ]
     },
     "metadata": {},
     "execution_count": 10
    }
   ],
   "metadata": {}
  },
  {
   "cell_type": "code",
   "execution_count": 11,
   "source": [
    "dd = dshow.groupby(['feedid'])['userid'].progress_apply(list).reset_index(name='users')"
   ],
   "outputs": [
    {
     "output_type": "display_data",
     "data": {
      "text/plain": [
       "  0%|          | 0/99420 [00:00<?, ?it/s]"
      ],
      "application/vnd.jupyter.widget-view+json": {
       "version_major": 2,
       "version_minor": 0,
       "model_id": "c35e5248e0814dbb87502e7955f2c072"
      }
     },
     "metadata": {}
    }
   ],
   "metadata": {}
  },
  {
   "cell_type": "code",
   "execution_count": 12,
   "source": [
    "dd.head()"
   ],
   "outputs": [
    {
     "output_type": "execute_result",
     "data": {
      "text/plain": [
       "   feedid                                              users\n",
       "0       0                                    [147722, 73624]\n",
       "1       1  [27024, 33584, 194804, 42126, 182589, 65828, 1...\n",
       "2       3                     [157285, 152350, 235809, 9979]\n",
       "3       4  [187003, 5534, 104470, 154220, 33844, 219000, ...\n",
       "4       6                                    [15685, 187003]"
      ],
      "text/html": [
       "<div>\n",
       "<style scoped>\n",
       "    .dataframe tbody tr th:only-of-type {\n",
       "        vertical-align: middle;\n",
       "    }\n",
       "\n",
       "    .dataframe tbody tr th {\n",
       "        vertical-align: top;\n",
       "    }\n",
       "\n",
       "    .dataframe thead th {\n",
       "        text-align: right;\n",
       "    }\n",
       "</style>\n",
       "<table border=\"1\" class=\"dataframe\">\n",
       "  <thead>\n",
       "    <tr style=\"text-align: right;\">\n",
       "      <th></th>\n",
       "      <th>feedid</th>\n",
       "      <th>users</th>\n",
       "    </tr>\n",
       "  </thead>\n",
       "  <tbody>\n",
       "    <tr>\n",
       "      <th>0</th>\n",
       "      <td>0</td>\n",
       "      <td>[147722, 73624]</td>\n",
       "    </tr>\n",
       "    <tr>\n",
       "      <th>1</th>\n",
       "      <td>1</td>\n",
       "      <td>[27024, 33584, 194804, 42126, 182589, 65828, 1...</td>\n",
       "    </tr>\n",
       "    <tr>\n",
       "      <th>2</th>\n",
       "      <td>3</td>\n",
       "      <td>[157285, 152350, 235809, 9979]</td>\n",
       "    </tr>\n",
       "    <tr>\n",
       "      <th>3</th>\n",
       "      <td>4</td>\n",
       "      <td>[187003, 5534, 104470, 154220, 33844, 219000, ...</td>\n",
       "    </tr>\n",
       "    <tr>\n",
       "      <th>4</th>\n",
       "      <td>6</td>\n",
       "      <td>[15685, 187003]</td>\n",
       "    </tr>\n",
       "  </tbody>\n",
       "</table>\n",
       "</div>"
      ]
     },
     "metadata": {},
     "execution_count": 12
    }
   ],
   "metadata": {}
  },
  {
   "cell_type": "code",
   "execution_count": 27,
   "source": [
    "dic = {}"
   ],
   "outputs": [],
   "metadata": {}
  },
  {
   "cell_type": "code",
   "execution_count": 28,
   "source": [
    "for row in tqdm(du.itertuples()):\n",
    "  dic[f'u{row.userid}'] = [f'd{x}' for x in row.docs]"
   ],
   "outputs": [
    {
     "output_type": "display_data",
     "data": {
      "text/plain": [
       "0it [00:00, ?it/s]"
      ],
      "application/vnd.jupyter.widget-view+json": {
       "version_major": 2,
       "version_minor": 0,
       "model_id": "9576f683a4114adf952a76304d0d749b"
      }
     },
     "metadata": {}
    }
   ],
   "metadata": {}
  },
  {
   "cell_type": "code",
   "execution_count": 29,
   "source": [
    "for row in tqdm(dd.itertuples()):\n",
    "  dic[f'd{row.feedid}'] = [f'u{x}' for x in row.users]"
   ],
   "outputs": [
    {
     "output_type": "display_data",
     "data": {
      "text/plain": [
       "0it [00:00, ?it/s]"
      ],
      "application/vnd.jupyter.widget-view+json": {
       "version_major": 2,
       "version_minor": 0,
       "model_id": "ffb32b2a5257426c82c63248dad8eb60"
      }
     },
     "metadata": {}
    }
   ],
   "metadata": {}
  },
  {
   "cell_type": "code",
   "execution_count": 31,
   "source": [
    "# dic"
   ],
   "outputs": [],
   "metadata": {}
  },
  {
   "cell_type": "code",
   "execution_count": 52,
   "source": [
    "window = 10\n",
    "emb_dim = 128\n",
    "path_len = 20\n",
    "rounds = 2"
   ],
   "outputs": [],
   "metadata": {}
  },
  {
   "cell_type": "code",
   "execution_count": 56,
   "source": [
    "from gensim.models.callbacks import CallbackAny2Vec\n",
    "\n",
    "class MonitorCallback(CallbackAny2Vec):\n",
    "  def __init__(self, name):\n",
    "    self.name = name\n",
    "    self.epoch = 1\n",
    "    self.timer = gezi.Timer()\n",
    "    \n",
    "  def on_epoch_end(self, model):\n",
    "    # TODO 为什么打印train loss一直是0\n",
    "    print('name:', self.name, 'epoch:', self.epoch, \"model loss:\", model.get_latest_training_loss(), f'elapsed minutes: {self.timer.elapsed_minutes():.2f}')  # print loss\n",
    "    self.epoch += 1"
   ],
   "outputs": [],
   "metadata": {}
  },
  {
   "cell_type": "code",
   "execution_count": null,
   "source": [],
   "outputs": [],
   "metadata": {}
  },
  {
   "cell_type": "code",
   "execution_count": 55,
   "source": [
    "sentences=[]\n",
    "length=[]\n",
    "for round in tqdm(range(rounds)):\n",
    "  for key in tqdm(dic, total=len(dic)):\n",
    "    sentence=[key]\n",
    "    while len(sentence) != path_len:\n",
    "      key=dic[sentence[-1]][random.randint(0, len(dic[sentence[-1]])-1)]\n",
    "      if len(sentence)>=2 and key == sentence[-2]:\n",
    "        break\n",
    "      else:\n",
    "        sentence.append(key)\n",
    "    sentences.append(sentence)\n",
    "  length.append(len(sentence))\n",
    "print(np.mean(length))\n",
    "print(len(sentences))"
   ],
   "outputs": [
    {
     "output_type": "display_data",
     "data": {
      "text/plain": [
       "  0%|          | 0/2 [00:00<?, ?it/s]"
      ],
      "application/vnd.jupyter.widget-view+json": {
       "version_major": 2,
       "version_minor": 0,
       "model_id": "02e0e917bba34fc98cf75295f3457698"
      }
     },
     "metadata": {}
    },
    {
     "output_type": "display_data",
     "data": {
      "text/plain": [
       "  0%|          | 0/119420 [00:00<?, ?it/s]"
      ],
      "application/vnd.jupyter.widget-view+json": {
       "version_major": 2,
       "version_minor": 0,
       "model_id": "c23182acf6d6446183e2729f36e60b98"
      }
     },
     "metadata": {}
    },
    {
     "output_type": "display_data",
     "data": {
      "text/plain": [
       "  0%|          | 0/119420 [00:00<?, ?it/s]"
      ],
      "application/vnd.jupyter.widget-view+json": {
       "version_major": 2,
       "version_minor": 0,
       "model_id": "1a661ae1d55540dda0e9121d80ce31d9"
      }
     },
     "metadata": {}
    },
    {
     "output_type": "stream",
     "name": "stderr",
     "text": [
      "Exception ignored in: <bound method tqdm.__del__ of <tqdm.auto.tqdm object at 0x7f9714078400>>\n",
      "Traceback (most recent call last):\n",
      "  File \"/home/huigecheng/.local/lib/python3.6/site-packages/tqdm/std.py\", line 1145, in __del__\n",
      "    self.close()\n",
      "  File \"/home/huigecheng/.local/lib/python3.6/site-packages/tqdm/notebook.py\", line 278, in close\n",
      "    self.disp(bar_style='success')\n",
      "AttributeError: 'tqdm' object has no attribute 'disp'\n"
     ]
    },
    {
     "output_type": "stream",
     "name": "stdout",
     "text": [
      "20.0\n",
      "238840\n"
     ]
    }
   ],
   "metadata": {}
  },
  {
   "cell_type": "code",
   "execution_count": 57,
   "source": [
    "random.shuffle(sentences)\n",
    "monitor = MonitorCallback('deepwalk')\n",
    "w2v = Word2Vec(sentences, vector_size=emb_dim, sg=1, window=window, workers=mp.cpu_count(), min_count=1, epochs=10, callbacks=[monitor])"
   ],
   "outputs": [
    {
     "output_type": "stream",
     "name": "stdout",
     "text": [
      "name: deepwalk epoch: 1 model loss: 0.0 elapsed minutes: 0.23\n",
      "name: deepwalk epoch: 2 model loss: 0.0 elapsed minutes: 0.14\n",
      "name: deepwalk epoch: 3 model loss: 0.0 elapsed minutes: 0.14\n",
      "name: deepwalk epoch: 4 model loss: 0.0 elapsed minutes: 0.14\n",
      "name: deepwalk epoch: 5 model loss: 0.0 elapsed minutes: 0.14\n",
      "name: deepwalk epoch: 6 model loss: 0.0 elapsed minutes: 0.12\n",
      "name: deepwalk epoch: 7 model loss: 0.0 elapsed minutes: 0.13\n",
      "name: deepwalk epoch: 8 model loss: 0.0 elapsed minutes: 0.14\n",
      "name: deepwalk epoch: 9 model loss: 0.0 elapsed minutes: 0.13\n",
      "name: deepwalk epoch: 10 model loss: 0.0 elapsed minutes: 0.17\n"
     ]
    }
   ],
   "metadata": {}
  },
  {
   "cell_type": "code",
   "execution_count": 58,
   "source": [
    "uvocab = gezi.Vocab('../input/user_vocab.txt')\n",
    "dvocab = gezi.Vocab('../input/doc_vocab.txt')\n",
    "uemb = np.zeros([uvocab.size(), emb_dim])\n",
    "for i in range(uvocab.size()):\n",
    "  word = f'u{uvocab.key(i)}'\n",
    "  if word in w2v.wv:\n",
    "    uemb[i] = w2v.wv[word]\n",
    "demb = np.zeros([dvocab.size(), emb_dim])\n",
    "for i in range(dvocab.size()):\n",
    "  word = f'd{dvocab.key(i)}'\n",
    "  if word in w2v.wv:\n",
    "    demb[i] = w2v.wv[word]"
   ],
   "outputs": [],
   "metadata": {}
  },
  {
   "cell_type": "code",
   "execution_count": 59,
   "source": [
    "np.save('../input/15/user_deepwalk_emb.npy', uemb)\n",
    "np.save('../input/15/doc_deepwalk_emb.npy', demb)"
   ],
   "outputs": [],
   "metadata": {}
  },
  {
   "cell_type": "code",
   "execution_count": null,
   "source": [],
   "outputs": [],
   "metadata": {}
  }
 ],
 "metadata": {
  "kernelspec": {
   "name": "python3",
   "display_name": "Python 3.6.10 64-bit ('base': conda)"
  },
  "language_info": {
   "name": "python",
   "version": "3.6.10",
   "mimetype": "text/x-python",
   "codemirror_mode": {
    "name": "ipython",
    "version": 3
   },
   "pygments_lexer": "ipython3",
   "nbconvert_exporter": "python",
   "file_extension": ".py"
  },
  "interpreter": {
   "hash": "98b0a9b7b4eaaa670588a142fd0a9b87eaafe866f1db4228be72b4211d12040f"
  }
 },
 "nbformat": 4,
 "nbformat_minor": 4
}