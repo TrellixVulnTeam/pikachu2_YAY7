{
 "cells": [
  {
   "cell_type": "code",
   "execution_count": 8,
   "metadata": {},
   "outputs": [],
   "source": [
    "import numpy as np\n",
    "import pandas as pd\n",
    "from collections import OrderedDict, defaultdict\n",
    "import multiprocessing as mp\n",
    "import glob\n",
    "import sys, os\n",
    "sys.path.append('..')\n",
    "sys.path.append('../../../../utils')\n",
    "sys.path.append('../../../../third')\n",
    "import gezi\n",
    "from gezi import tqdm\n",
    "tqdm.pandas()\n",
    "from gensim.models import Word2Vec\n",
    "from gensim.test.utils import common_texts\n",
    "from gensim.models.doc2vec import Doc2Vec, TaggedDocument"
   ]
  },
  {
   "cell_type": "code",
   "execution_count": 2,
   "metadata": {},
   "outputs": [],
   "source": [
    "ACTIONS = [\"read_comment\", \"like\", \"click_avatar\",  \"forward\", \"comment\", \"follow\", \"favorite\"]\n",
    "ACTIONS2 = ACTIONS + ['finish', 'stay']\n",
    "HIS_ACTIONS = ACTIONS2 + [\n",
    "    'pos', 'neg', 'unfinish', 'unstay'\n",
    "]"
   ]
  },
  {
   "cell_type": "code",
   "execution_count": 3,
   "metadata": {},
   "outputs": [],
   "source": [
    "# FAST = True\n",
    "# if FAST:\n",
    "  "
   ]
  },
  {
   "cell_type": "code",
   "execution_count": 4,
   "metadata": {},
   "outputs": [],
   "source": [
    "day = 14.5\n",
    "emb_dim = 128\n",
    "window = 32\n",
    "min_count = 1"
   ]
  },
  {
   "cell_type": "code",
   "execution_count": 5,
   "metadata": {},
   "outputs": [],
   "source": [
    "from gensim.models.callbacks import CallbackAny2Vec\n",
    "\n",
    "class MonitorCallback(CallbackAny2Vec):\n",
    "  def __init__(self, name):\n",
    "    self.name = name\n",
    "    self.epoch = 1\n",
    "    self.timer = gezi.Timer()\n",
    "    \n",
    "  def on_epoch_end(self, model):\n",
    "    # TODO 为什么打印train loss一直是0\n",
    "    print('name:', self.name, 'epoch:', self.epoch, \"model loss:\", model.get_latest_training_loss(), f'elapsed minutes: {self.timer.elapsed_minutes():.2f}')  # print loss\n",
    "    self.epoch += 1"
   ]
  },
  {
   "cell_type": "code",
   "execution_count": 6,
   "metadata": {},
   "outputs": [],
   "source": [
    "vocab_names = [\n",
    "                'user', 'doc',\n",
    "                'author', 'singer', 'song',\n",
    "                'key', 'tag', 'word', 'char'\n",
    "              ]\n",
    "vocabs = {}\n",
    "\n",
    "for vocab_name in vocab_names:\n",
    "  vocab_file =  f'../input/{vocab_name}_vocab.txt'\n",
    "  vocab = gezi.Vocab(vocab_file)\n",
    "  vocabs[vocab_name] = vocab\n"
   ]
  },
  {
   "cell_type": "code",
   "execution_count": 7,
   "metadata": {},
   "outputs": [],
   "source": [
    "def gen_w2v(name, day, window=32, min_count=1):\n",
    "  sentences = []\n",
    "  if day:\n",
    "    file = f'../input/{day}/{name}_corpus.txt'\n",
    "  else:\n",
    "    file = f'../input/{name}_corpus.txt'\n",
    "  for line in open(file):\n",
    "    l = line.rstrip().split()\n",
    "    sentences.append(l)\n",
    "  monitor = MonitorCallback(name) \n",
    "  w2v = Word2Vec(sentences, vector_size=emb_dim, window=window, min_count=min_count, sg=1, workers=mp.cpu_count(), epochs=10, callbacks=[monitor])\n",
    "  vocab = vocabs[name]\n",
    "  emb = np.zeros([vocab.size(), emb_dim])\n",
    "  # emb = np.random.uniform(-0.05, 0.05,(vocab.size(), emb_dim))\n",
    "  for i in range(vocab.size()):\n",
    "    word = vocab.key(i) \n",
    "    if word in w2v.wv:\n",
    "      emb[i] = w2v.wv[word]\n",
    "  if day:\n",
    "    ofile = f'../input/{day}/{name}_w2v{window}_{min_count}_emb.npy'\n",
    "  else:\n",
    "    ofile = f'../input/{name}_w2v{window}_{min_count}_emb.npy'\n",
    "  np.save(ofile, emb)\n",
    "  # print(emb.shape)"
   ]
  },
  {
   "cell_type": "code",
   "execution_count": 8,
   "metadata": {},
   "outputs": [
    {
     "data": {
      "application/vnd.jupyter.widget-view+json": {
       "model_id": "cd210f022e264d94a15940727999044a",
       "version_major": 2,
       "version_minor": 0
      },
      "text/plain": [
       "  0%|          | 0/4 [00:00<?, ?it/s]"
      ]
     },
     "metadata": {},
     "output_type": "display_data"
    },
    {
     "data": {
      "application/vnd.jupyter.widget-view+json": {
       "model_id": "2ecaea3418084bd3a61f009971e7d2ce",
       "version_major": 2,
       "version_minor": 0
      },
      "text/plain": [
       "14.5:   0%|          | 0/5 [00:00<?, ?it/s]"
      ]
     },
     "metadata": {},
     "output_type": "display_data"
    },
    {
     "name": "stdout",
     "output_type": "stream",
     "text": [
      "name: doc epoch: 1 model loss: 0.0 elapsed minutes: 0.24\n",
      "name: doc epoch: 2 model loss: 0.0 elapsed minutes: 0.20\n",
      "name: doc epoch: 3 model loss: 0.0 elapsed minutes: 0.16\n",
      "name: doc epoch: 4 model loss: 0.0 elapsed minutes: 0.12\n",
      "name: doc epoch: 5 model loss: 0.0 elapsed minutes: 0.13\n",
      "name: doc epoch: 6 model loss: 0.0 elapsed minutes: 0.13\n",
      "name: doc epoch: 7 model loss: 0.0 elapsed minutes: 0.13\n",
      "name: doc epoch: 8 model loss: 0.0 elapsed minutes: 0.12\n",
      "name: doc epoch: 9 model loss: 0.0 elapsed minutes: 0.13\n",
      "name: doc epoch: 10 model loss: 0.0 elapsed minutes: 0.12\n",
      "name: user epoch: 1 model loss: 0.0 elapsed minutes: 0.15\n",
      "name: user epoch: 2 model loss: 0.0 elapsed minutes: 0.11\n",
      "name: user epoch: 3 model loss: 0.0 elapsed minutes: 0.12\n",
      "name: user epoch: 4 model loss: 0.0 elapsed minutes: 0.11\n",
      "name: user epoch: 5 model loss: 0.0 elapsed minutes: 0.12\n",
      "name: user epoch: 6 model loss: 0.0 elapsed minutes: 0.12\n",
      "name: user epoch: 7 model loss: 0.0 elapsed minutes: 0.12\n",
      "name: user epoch: 8 model loss: 0.0 elapsed minutes: 0.12\n",
      "name: user epoch: 9 model loss: 0.0 elapsed minutes: 0.12\n",
      "name: user epoch: 10 model loss: 0.0 elapsed minutes: 0.11\n",
      "name: author epoch: 1 model loss: 0.0 elapsed minutes: 0.13\n",
      "name: author epoch: 2 model loss: 0.0 elapsed minutes: 0.11\n",
      "name: author epoch: 3 model loss: 0.0 elapsed minutes: 0.10\n",
      "name: author epoch: 4 model loss: 0.0 elapsed minutes: 0.10\n",
      "name: author epoch: 5 model loss: 0.0 elapsed minutes: 0.10\n",
      "name: author epoch: 6 model loss: 0.0 elapsed minutes: 0.10\n",
      "name: author epoch: 7 model loss: 0.0 elapsed minutes: 0.10\n",
      "name: author epoch: 8 model loss: 0.0 elapsed minutes: 0.10\n",
      "name: author epoch: 9 model loss: 0.0 elapsed minutes: 0.10\n",
      "name: author epoch: 10 model loss: 0.0 elapsed minutes: 0.12\n",
      "name: singer epoch: 1 model loss: 0.0 elapsed minutes: 0.29\n",
      "name: singer epoch: 2 model loss: 0.0 elapsed minutes: 0.28\n",
      "name: singer epoch: 3 model loss: 0.0 elapsed minutes: 0.28\n",
      "name: singer epoch: 4 model loss: 0.0 elapsed minutes: 0.30\n",
      "name: singer epoch: 5 model loss: 0.0 elapsed minutes: 0.29\n",
      "name: singer epoch: 6 model loss: 0.0 elapsed minutes: 0.26\n",
      "name: singer epoch: 7 model loss: 0.0 elapsed minutes: 0.28\n",
      "name: singer epoch: 8 model loss: 0.0 elapsed minutes: 0.28\n",
      "name: singer epoch: 9 model loss: 0.0 elapsed minutes: 0.29\n",
      "name: singer epoch: 10 model loss: 0.0 elapsed minutes: 0.29\n",
      "name: song epoch: 1 model loss: 0.0 elapsed minutes: 0.14\n",
      "name: song epoch: 2 model loss: 0.0 elapsed minutes: 0.12\n",
      "name: song epoch: 3 model loss: 0.0 elapsed minutes: 0.13\n",
      "name: song epoch: 4 model loss: 0.0 elapsed minutes: 0.13\n",
      "name: song epoch: 5 model loss: 0.0 elapsed minutes: 0.12\n",
      "name: song epoch: 6 model loss: 0.0 elapsed minutes: 0.13\n",
      "name: song epoch: 7 model loss: 0.0 elapsed minutes: 0.12\n",
      "name: song epoch: 8 model loss: 0.0 elapsed minutes: 0.12\n",
      "name: song epoch: 9 model loss: 0.0 elapsed minutes: 0.12\n",
      "name: song epoch: 10 model loss: 0.0 elapsed minutes: 0.14\n"
     ]
    },
    {
     "data": {
      "application/vnd.jupyter.widget-view+json": {
       "model_id": "60cb65e14c67496196d3ff4e2e2f6575",
       "version_major": 2,
       "version_minor": 0
      },
      "text/plain": [
       "15:   0%|          | 0/5 [00:00<?, ?it/s]"
      ]
     },
     "metadata": {},
     "output_type": "display_data"
    },
    {
     "name": "stdout",
     "output_type": "stream",
     "text": [
      "name: doc epoch: 1 model loss: 0.0 elapsed minutes: 0.26\n",
      "name: doc epoch: 2 model loss: 0.0 elapsed minutes: 0.19\n",
      "name: doc epoch: 3 model loss: 0.0 elapsed minutes: 0.19\n",
      "name: doc epoch: 4 model loss: 0.0 elapsed minutes: 0.19\n",
      "name: doc epoch: 5 model loss: 0.0 elapsed minutes: 0.20\n",
      "name: doc epoch: 6 model loss: 0.0 elapsed minutes: 0.22\n",
      "name: doc epoch: 7 model loss: 0.0 elapsed minutes: 0.22\n",
      "name: doc epoch: 8 model loss: 0.0 elapsed minutes: 0.21\n",
      "name: doc epoch: 9 model loss: 0.0 elapsed minutes: 0.22\n",
      "name: doc epoch: 10 model loss: 0.0 elapsed minutes: 0.20\n",
      "name: user epoch: 1 model loss: 0.0 elapsed minutes: 0.16\n",
      "name: user epoch: 2 model loss: 0.0 elapsed minutes: 0.12\n",
      "name: user epoch: 3 model loss: 0.0 elapsed minutes: 0.14\n",
      "name: user epoch: 4 model loss: 0.0 elapsed minutes: 0.12\n",
      "name: user epoch: 5 model loss: 0.0 elapsed minutes: 0.11\n",
      "name: user epoch: 6 model loss: 0.0 elapsed minutes: 0.11\n",
      "name: user epoch: 7 model loss: 0.0 elapsed minutes: 0.11\n",
      "name: user epoch: 8 model loss: 0.0 elapsed minutes: 0.10\n",
      "name: user epoch: 9 model loss: 0.0 elapsed minutes: 0.11\n",
      "name: user epoch: 10 model loss: 0.0 elapsed minutes: 0.10\n",
      "name: author epoch: 1 model loss: 0.0 elapsed minutes: 0.15\n",
      "name: author epoch: 2 model loss: 0.0 elapsed minutes: 0.13\n",
      "name: author epoch: 3 model loss: 0.0 elapsed minutes: 0.13\n",
      "name: author epoch: 4 model loss: 0.0 elapsed minutes: 0.12\n",
      "name: author epoch: 5 model loss: 0.0 elapsed minutes: 0.12\n",
      "name: author epoch: 6 model loss: 0.0 elapsed minutes: 0.12\n",
      "name: author epoch: 7 model loss: 0.0 elapsed minutes: 0.11\n",
      "name: author epoch: 8 model loss: 0.0 elapsed minutes: 0.12\n",
      "name: author epoch: 9 model loss: 0.0 elapsed minutes: 0.12\n",
      "name: author epoch: 10 model loss: 0.0 elapsed minutes: 0.12\n",
      "name: singer epoch: 1 model loss: 0.0 elapsed minutes: 0.08\n",
      "name: singer epoch: 2 model loss: 0.0 elapsed minutes: 0.06\n",
      "name: singer epoch: 3 model loss: 0.0 elapsed minutes: 0.06\n",
      "name: singer epoch: 4 model loss: 0.0 elapsed minutes: 0.06\n",
      "name: singer epoch: 5 model loss: 0.0 elapsed minutes: 0.06\n",
      "name: singer epoch: 6 model loss: 0.0 elapsed minutes: 0.06\n",
      "name: singer epoch: 7 model loss: 0.0 elapsed minutes: 0.06\n",
      "name: singer epoch: 8 model loss: 0.0 elapsed minutes: 0.06\n",
      "name: singer epoch: 9 model loss: 0.0 elapsed minutes: 0.06\n",
      "name: singer epoch: 10 model loss: 0.0 elapsed minutes: 0.06\n",
      "name: song epoch: 1 model loss: 0.0 elapsed minutes: 0.07\n",
      "name: song epoch: 2 model loss: 0.0 elapsed minutes: 0.05\n",
      "name: song epoch: 3 model loss: 0.0 elapsed minutes: 0.06\n",
      "name: song epoch: 4 model loss: 0.0 elapsed minutes: 0.06\n",
      "name: song epoch: 5 model loss: 0.0 elapsed minutes: 0.06\n",
      "name: song epoch: 6 model loss: 0.0 elapsed minutes: 0.05\n",
      "name: song epoch: 7 model loss: 0.0 elapsed minutes: 0.06\n",
      "name: song epoch: 8 model loss: 0.0 elapsed minutes: 0.06\n",
      "name: song epoch: 9 model loss: 0.0 elapsed minutes: 0.05\n",
      "name: song epoch: 10 model loss: 0.0 elapsed minutes: 0.06\n"
     ]
    },
    {
     "data": {
      "application/vnd.jupyter.widget-view+json": {
       "model_id": "13341a9b8aea4348ae4b4de56059fd3a",
       "version_major": 2,
       "version_minor": 0
      },
      "text/plain": [
       "13:   0%|          | 0/5 [00:00<?, ?it/s]"
      ]
     },
     "metadata": {},
     "output_type": "display_data"
    },
    {
     "name": "stdout",
     "output_type": "stream",
     "text": [
      "name: doc epoch: 1 model loss: 0.0 elapsed minutes: 0.20\n",
      "name: doc epoch: 2 model loss: 0.0 elapsed minutes: 0.15\n",
      "name: doc epoch: 3 model loss: 0.0 elapsed minutes: 0.15\n",
      "name: doc epoch: 4 model loss: 0.0 elapsed minutes: 0.14\n",
      "name: doc epoch: 5 model loss: 0.0 elapsed minutes: 0.17\n",
      "name: doc epoch: 6 model loss: 0.0 elapsed minutes: 0.16\n",
      "name: doc epoch: 7 model loss: 0.0 elapsed minutes: 0.15\n",
      "name: doc epoch: 8 model loss: 0.0 elapsed minutes: 0.14\n",
      "name: doc epoch: 9 model loss: 0.0 elapsed minutes: 0.17\n",
      "name: doc epoch: 10 model loss: 0.0 elapsed minutes: 0.15\n",
      "name: user epoch: 1 model loss: 0.0 elapsed minutes: 0.10\n",
      "name: user epoch: 2 model loss: 0.0 elapsed minutes: 0.09\n",
      "name: user epoch: 3 model loss: 0.0 elapsed minutes: 0.08\n",
      "name: user epoch: 4 model loss: 0.0 elapsed minutes: 0.09\n",
      "name: user epoch: 5 model loss: 0.0 elapsed minutes: 0.08\n",
      "name: user epoch: 6 model loss: 0.0 elapsed minutes: 0.08\n",
      "name: user epoch: 7 model loss: 0.0 elapsed minutes: 0.08\n",
      "name: user epoch: 8 model loss: 0.0 elapsed minutes: 0.09\n",
      "name: user epoch: 9 model loss: 0.0 elapsed minutes: 0.09\n",
      "name: user epoch: 10 model loss: 0.0 elapsed minutes: 0.08\n",
      "name: author epoch: 1 model loss: 0.0 elapsed minutes: 0.13\n",
      "name: author epoch: 2 model loss: 0.0 elapsed minutes: 0.10\n",
      "name: author epoch: 3 model loss: 0.0 elapsed minutes: 0.11\n",
      "name: author epoch: 4 model loss: 0.0 elapsed minutes: 0.11\n",
      "name: author epoch: 5 model loss: 0.0 elapsed minutes: 0.10\n",
      "name: author epoch: 6 model loss: 0.0 elapsed minutes: 0.11\n",
      "name: author epoch: 7 model loss: 0.0 elapsed minutes: 0.10\n",
      "name: author epoch: 8 model loss: 0.0 elapsed minutes: 0.10\n",
      "name: author epoch: 9 model loss: 0.0 elapsed minutes: 0.10\n",
      "name: author epoch: 10 model loss: 0.0 elapsed minutes: 0.10\n",
      "name: singer epoch: 1 model loss: 0.0 elapsed minutes: 0.22\n",
      "name: singer epoch: 2 model loss: 0.0 elapsed minutes: 0.26\n",
      "name: singer epoch: 3 model loss: 0.0 elapsed minutes: 0.26\n",
      "name: singer epoch: 4 model loss: 0.0 elapsed minutes: 0.26\n",
      "name: singer epoch: 5 model loss: 0.0 elapsed minutes: 0.25\n",
      "name: singer epoch: 6 model loss: 0.0 elapsed minutes: 0.26\n",
      "name: singer epoch: 7 model loss: 0.0 elapsed minutes: 0.26\n",
      "name: singer epoch: 8 model loss: 0.0 elapsed minutes: 0.27\n",
      "name: singer epoch: 9 model loss: 0.0 elapsed minutes: 0.26\n",
      "name: singer epoch: 10 model loss: 0.0 elapsed minutes: 0.27\n",
      "name: song epoch: 1 model loss: 0.0 elapsed minutes: 0.14\n",
      "name: song epoch: 2 model loss: 0.0 elapsed minutes: 0.12\n",
      "name: song epoch: 3 model loss: 0.0 elapsed minutes: 0.11\n",
      "name: song epoch: 4 model loss: 0.0 elapsed minutes: 0.12\n",
      "name: song epoch: 5 model loss: 0.0 elapsed minutes: 0.13\n",
      "name: song epoch: 6 model loss: 0.0 elapsed minutes: 0.12\n",
      "name: song epoch: 7 model loss: 0.0 elapsed minutes: 0.13\n",
      "name: song epoch: 8 model loss: 0.0 elapsed minutes: 0.11\n",
      "name: song epoch: 9 model loss: 0.0 elapsed minutes: 0.11\n",
      "name: song epoch: 10 model loss: 0.0 elapsed minutes: 0.11\n"
     ]
    },
    {
     "data": {
      "application/vnd.jupyter.widget-view+json": {
       "model_id": "26ed457b49ec44ea90d199e6574c56c3",
       "version_major": 2,
       "version_minor": 0
      },
      "text/plain": [
       "14:   0%|          | 0/5 [00:00<?, ?it/s]"
      ]
     },
     "metadata": {},
     "output_type": "display_data"
    },
    {
     "name": "stdout",
     "output_type": "stream",
     "text": [
      "name: doc epoch: 1 model loss: 0.0 elapsed minutes: 0.23\n",
      "name: doc epoch: 2 model loss: 0.0 elapsed minutes: 0.18\n",
      "name: doc epoch: 3 model loss: 0.0 elapsed minutes: 0.16\n",
      "name: doc epoch: 4 model loss: 0.0 elapsed minutes: 0.18\n",
      "name: doc epoch: 5 model loss: 0.0 elapsed minutes: 0.18\n",
      "name: doc epoch: 6 model loss: 0.0 elapsed minutes: 0.16\n",
      "name: doc epoch: 7 model loss: 0.0 elapsed minutes: 0.18\n",
      "name: doc epoch: 8 model loss: 0.0 elapsed minutes: 0.16\n",
      "name: doc epoch: 9 model loss: 0.0 elapsed minutes: 0.17\n",
      "name: doc epoch: 10 model loss: 0.0 elapsed minutes: 0.18\n",
      "name: user epoch: 1 model loss: 0.0 elapsed minutes: 0.13\n",
      "name: user epoch: 2 model loss: 0.0 elapsed minutes: 0.10\n",
      "name: user epoch: 3 model loss: 0.0 elapsed minutes: 0.10\n",
      "name: user epoch: 4 model loss: 0.0 elapsed minutes: 0.10\n",
      "name: user epoch: 5 model loss: 0.0 elapsed minutes: 0.10\n",
      "name: user epoch: 6 model loss: 0.0 elapsed minutes: 0.10\n",
      "name: user epoch: 7 model loss: 0.0 elapsed minutes: 0.10\n",
      "name: user epoch: 8 model loss: 0.0 elapsed minutes: 0.10\n",
      "name: user epoch: 9 model loss: 0.0 elapsed minutes: 0.10\n",
      "name: user epoch: 10 model loss: 0.0 elapsed minutes: 0.11\n",
      "name: author epoch: 1 model loss: 0.0 elapsed minutes: 0.12\n",
      "name: author epoch: 2 model loss: 0.0 elapsed minutes: 0.09\n",
      "name: author epoch: 3 model loss: 0.0 elapsed minutes: 0.10\n",
      "name: author epoch: 4 model loss: 0.0 elapsed minutes: 0.09\n",
      "name: author epoch: 5 model loss: 0.0 elapsed minutes: 0.09\n",
      "name: author epoch: 6 model loss: 0.0 elapsed minutes: 0.09\n",
      "name: author epoch: 7 model loss: 0.0 elapsed minutes: 0.09\n",
      "name: author epoch: 8 model loss: 0.0 elapsed minutes: 0.10\n",
      "name: author epoch: 9 model loss: 0.0 elapsed minutes: 0.09\n",
      "name: author epoch: 10 model loss: 0.0 elapsed minutes: 0.09\n",
      "name: singer epoch: 1 model loss: 0.0 elapsed minutes: 0.29\n",
      "name: singer epoch: 2 model loss: 0.0 elapsed minutes: 0.29\n",
      "name: singer epoch: 3 model loss: 0.0 elapsed minutes: 0.29\n",
      "name: singer epoch: 4 model loss: 0.0 elapsed minutes: 0.29\n",
      "name: singer epoch: 5 model loss: 0.0 elapsed minutes: 0.29\n",
      "name: singer epoch: 6 model loss: 0.0 elapsed minutes: 0.30\n",
      "name: singer epoch: 7 model loss: 0.0 elapsed minutes: 0.30\n",
      "name: singer epoch: 8 model loss: 0.0 elapsed minutes: 0.29\n",
      "name: singer epoch: 9 model loss: 0.0 elapsed minutes: 0.29\n",
      "name: singer epoch: 10 model loss: 0.0 elapsed minutes: 0.28\n",
      "name: song epoch: 1 model loss: 0.0 elapsed minutes: 0.08\n",
      "name: song epoch: 2 model loss: 0.0 elapsed minutes: 0.07\n",
      "name: song epoch: 3 model loss: 0.0 elapsed minutes: 0.06\n",
      "name: song epoch: 4 model loss: 0.0 elapsed minutes: 0.06\n",
      "name: song epoch: 5 model loss: 0.0 elapsed minutes: 0.06\n",
      "name: song epoch: 6 model loss: 0.0 elapsed minutes: 0.08\n",
      "name: song epoch: 7 model loss: 0.0 elapsed minutes: 0.07\n",
      "name: song epoch: 8 model loss: 0.0 elapsed minutes: 0.06\n",
      "name: song epoch: 9 model loss: 0.0 elapsed minutes: 0.07\n",
      "name: song epoch: 10 model loss: 0.0 elapsed minutes: 0.06\n"
     ]
    }
   ],
   "source": [
    "names = [\n",
    "  'doc', \n",
    "  'user',\n",
    "  'author', \n",
    "  'singer', \n",
    "  'song',\n",
    "  ]\n",
    "# days = [14.5, 15, 13, 14]\n",
    "days = [14.5, 13]\n",
    "if 'tione' in os.environ['PATH']:\n",
    "  days = [14.5, 15]\n",
    "for day in tqdm(days):\n",
    "  t = tqdm(names, desc=f'{day}')\n",
    "  for name in t:\n",
    "    t.set_postfix({'name': name, 'day': day, 'window': window, 'min_count': min_count})\n",
    "    gen_w2v(name, day, window=window, min_count=min_count)\n",
    "    # gen_w2v(name, day, window=32, min_count=1) # 0.6828\n",
    "    # gen_w2v(name, day, window=32, min_count=5) # 0.6825\n",
    "    # gen_w2v(name, day, window=64, min_count=1) # 0.6829\n",
    "    # gen_w2v(name, day, window=128, min_count=1)  # 0.6852\n",
    "    # gen_w2v(name, day, window=256, min_count=1)"
   ]
  },
  {
   "cell_type": "code",
   "execution_count": 16,
   "metadata": {},
   "outputs": [
    {
     "data": {
      "application/vnd.jupyter.widget-view+json": {
       "model_id": "6cf447339e584ee5af0ef4de1be3d68d",
       "version_major": 2,
       "version_minor": 0
      },
      "text/plain": [
       "14.5:   0%|          | 0/1 [00:00<?, ?it/s]"
      ]
     },
     "metadata": {},
     "output_type": "display_data"
    },
    {
     "name": "stdout",
     "output_type": "stream",
     "text": [
      "name: char epoch: 1 model loss: 0.0 elapsed minutes: 3.22\n",
      "name: char epoch: 2 model loss: 0.0 elapsed minutes: 2.67\n",
      "name: char epoch: 3 model loss: 0.0 elapsed minutes: 2.60\n",
      "name: char epoch: 4 model loss: 0.0 elapsed minutes: 2.95\n",
      "name: char epoch: 5 model loss: 0.0 elapsed minutes: 3.08\n",
      "name: char epoch: 6 model loss: 0.0 elapsed minutes: 3.46\n",
      "name: char epoch: 7 model loss: 0.0 elapsed minutes: 3.06\n",
      "name: char epoch: 8 model loss: 0.0 elapsed minutes: 3.36\n",
      "name: char epoch: 9 model loss: 0.0 elapsed minutes: 3.24\n",
      "name: char epoch: 10 model loss: 0.0 elapsed minutes: 3.25\n"
     ]
    }
   ],
   "source": [
    "names = [\n",
    "  'word', \n",
    "  'tag',\n",
    "  'key',\n",
    "  'char'\n",
    "]\n",
    "t = tqdm(names, desc=f'{day}')\n",
    "for name in t:\n",
    "  t.set_postfix({'name': name})\n",
    "  gen_w2v(name, 0, window=8, min_count=1)"
   ]
  },
  {
   "cell_type": "code",
   "execution_count": 12,
   "metadata": {},
   "outputs": [],
   "source": [
    "# d = pd.read_csv('../input/feed_info.csv')\n",
    "# NAN_ID = -1\n",
    "# d = d.fillna(NAN_ID)"
   ]
  },
  {
   "cell_type": "code",
   "execution_count": 26,
   "metadata": {},
   "outputs": [
    {
     "data": {
      "application/vnd.jupyter.widget-view+json": {
       "model_id": "7b54060055e945028d39fd1d1cf6e4e3",
       "version_major": 2,
       "version_minor": 0
      },
      "text/plain": [
       "  0%|          | 0/106444 [00:00<?, ?it/s]"
      ]
     },
     "metadata": {},
     "output_type": "display_data"
    },
    {
     "name": "stdout",
     "output_type": "stream",
     "text": [
      "name: char epoch: 1 model loss: 0.0 elapsed minutes: 0.31\n",
      "name: char epoch: 2 model loss: 0.0 elapsed minutes: 0.26\n",
      "name: char epoch: 3 model loss: 0.0 elapsed minutes: 0.22\n",
      "name: char epoch: 4 model loss: 0.0 elapsed minutes: 0.26\n",
      "name: char epoch: 5 model loss: 0.0 elapsed minutes: 0.26\n",
      "name: char epoch: 6 model loss: 0.0 elapsed minutes: 0.25\n",
      "name: char epoch: 7 model loss: 0.0 elapsed minutes: 0.24\n",
      "name: char epoch: 8 model loss: 0.0 elapsed minutes: 0.24\n",
      "name: char epoch: 9 model loss: 0.0 elapsed minutes: 0.26\n",
      "name: char epoch: 10 model loss: 0.0 elapsed minutes: 0.26\n"
     ]
    }
   ],
   "source": [
    "# desc_documents = []\n",
    "# count = 0\n",
    "# for i, desc in tqdm(enumerate(d.description.values), total=len(d)):\n",
    "#   if str(desc) == str(NAN_ID):\n",
    "#     continue\n",
    "#   desc_documents.append(TaggedDocument(desc.split(), [count]))\n",
    "#   count += 1\n",
    "# monitor = MonitorCallback('desc') \n",
    "# model = Doc2Vec(desc_documents, vector_size=emb_dim, window=8, min_count=1, workers=mp.cpu_count(), callbacks=[monitor])\n",
    "# model.save('../input/desc_doc2vec.model')"
   ]
  },
  {
   "cell_type": "code",
   "execution_count": 27,
   "metadata": {},
   "outputs": [
    {
     "data": {
      "application/vnd.jupyter.widget-view+json": {
       "model_id": "ca3a0bf5c0c249978d9f4fb1d1f7601f",
       "version_major": 2,
       "version_minor": 0
      },
      "text/plain": [
       "  0%|          | 0/106444 [00:00<?, ?it/s]"
      ]
     },
     "metadata": {},
     "output_type": "display_data"
    },
    {
     "name": "stdout",
     "output_type": "stream",
     "text": [
      "name: ocr epoch: 1 model loss: 0.0 elapsed minutes: 0.57\n",
      "name: ocr epoch: 2 model loss: 0.0 elapsed minutes: 0.47\n",
      "name: ocr epoch: 3 model loss: 0.0 elapsed minutes: 0.44\n",
      "name: ocr epoch: 4 model loss: 0.0 elapsed minutes: 0.45\n",
      "name: ocr epoch: 5 model loss: 0.0 elapsed minutes: 0.43\n",
      "name: ocr epoch: 6 model loss: 0.0 elapsed minutes: 0.46\n",
      "name: ocr epoch: 7 model loss: 0.0 elapsed minutes: 0.45\n",
      "name: ocr epoch: 8 model loss: 0.0 elapsed minutes: 0.56\n",
      "name: ocr epoch: 9 model loss: 0.0 elapsed minutes: 0.44\n",
      "name: ocr epoch: 10 model loss: 0.0 elapsed minutes: 0.44\n"
     ]
    }
   ],
   "source": [
    "# ocr_documents = []\n",
    "# count = 0\n",
    "# for i, ocr in tqdm(enumerate(d.ocr.values), total=len(d)):\n",
    "#   if str(ocr) == str(NAN_ID):\n",
    "#     continue\n",
    "#   desc_documents.append(TaggedDocument(ocr.split(), [count]))\n",
    "#   count += 1\n",
    "# monitor = MonitorCallback('ocr') \n",
    "# model = Doc2Vec(desc_documents, vector_size=emb_dim, window=8, min_count=1, workers=mp.cpu_count(), callbacks=[monitor])\n",
    "# model.save('../input/ocr_doc2vec.model')"
   ]
  },
  {
   "cell_type": "code",
   "execution_count": 28,
   "metadata": {},
   "outputs": [
    {
     "data": {
      "application/vnd.jupyter.widget-view+json": {
       "model_id": "6e2d5d5f770849cab11edc1c950b550a",
       "version_major": 2,
       "version_minor": 0
      },
      "text/plain": [
       "  0%|          | 0/106444 [00:00<?, ?it/s]"
      ]
     },
     "metadata": {},
     "output_type": "display_data"
    },
    {
     "name": "stdout",
     "output_type": "stream",
     "text": [
      "name: asr epoch: 1 model loss: 0.0 elapsed minutes: 0.78\n",
      "name: asr epoch: 2 model loss: 0.0 elapsed minutes: 0.67\n",
      "name: asr epoch: 3 model loss: 0.0 elapsed minutes: 0.68\n",
      "name: asr epoch: 4 model loss: 0.0 elapsed minutes: 0.67\n",
      "name: asr epoch: 5 model loss: 0.0 elapsed minutes: 0.67\n",
      "name: asr epoch: 6 model loss: 0.0 elapsed minutes: 0.65\n",
      "name: asr epoch: 7 model loss: 0.0 elapsed minutes: 0.65\n",
      "name: asr epoch: 8 model loss: 0.0 elapsed minutes: 0.66\n",
      "name: asr epoch: 9 model loss: 0.0 elapsed minutes: 0.65\n",
      "name: asr epoch: 10 model loss: 0.0 elapsed minutes: 0.66\n"
     ]
    }
   ],
   "source": [
    "# asr_documents = []\n",
    "# count = 0\n",
    "# for i, asr in tqdm(enumerate(d.asr.values), total=len(d)):\n",
    "#   if str(asr) == str(NAN_ID):\n",
    "#     continue\n",
    "#   desc_documents.append(TaggedDocument(asr.split(), [count]))\n",
    "#   count += 1\n",
    "# monitor = MonitorCallback('asr') \n",
    "# model = Doc2Vec(desc_documents, vector_size=emb_dim, window=8, min_count=1, workers=mp.cpu_count(), callbacks=[monitor])\n",
    "# model.save('../input/asr_doc2vec.model')"
   ]
  },
  {
   "cell_type": "code",
   "execution_count": 9,
   "metadata": {},
   "outputs": [],
   "source": [
    "# vocab = vocabs['doc']"
   ]
  },
  {
   "cell_type": "code",
   "execution_count": 16,
   "metadata": {},
   "outputs": [
    {
     "data": {
      "application/vnd.jupyter.widget-view+json": {
       "model_id": "419473b0a0754f77a3df075236ba4054",
       "version_major": 2,
       "version_minor": 0
      },
      "text/plain": [
       "  0%|          | 0/106444 [00:00<?, ?it/s]"
      ]
     },
     "metadata": {},
     "output_type": "display_data"
    }
   ],
   "source": [
    "# model = Doc2Vec.load('../input/desc_doc2vec.model')\n",
    "# emb = np.zeros([vocab.size(), emb_dim])\n",
    "# for i, desc in tqdm(enumerate(d.description.values), total=len(d)):\n",
    "#   if str(desc) == str(NAN_ID):\n",
    "#     continue\n",
    "#   emb[vocab.id(int(d.feedid.values[i]))] = model.infer_vector(desc.split())\n",
    "# np.save('../input/desc_vec_emb.npy', emb)"
   ]
  },
  {
   "cell_type": "code",
   "execution_count": 17,
   "metadata": {},
   "outputs": [
    {
     "data": {
      "application/vnd.jupyter.widget-view+json": {
       "model_id": "98479dfcfb16477ba7845442928144c9",
       "version_major": 2,
       "version_minor": 0
      },
      "text/plain": [
       "  0%|          | 0/106444 [00:00<?, ?it/s]"
      ]
     },
     "metadata": {},
     "output_type": "display_data"
    }
   ],
   "source": [
    "# model = Doc2Vec.load('../input/ocr_doc2vec.model')\n",
    "# emb = np.zeros([vocab.size(), emb_dim])\n",
    "# for i, ocr in tqdm(enumerate(d.ocr.values), total=len(d)):\n",
    "#   if str(ocr) == str(NAN_ID):\n",
    "#     continue\n",
    "#   emb[i] = model.infer_vector(ocr.split())\n",
    "# np.save('../input/ocr_vec_emb.npy', emb)"
   ]
  },
  {
   "cell_type": "code",
   "execution_count": 18,
   "metadata": {},
   "outputs": [
    {
     "data": {
      "application/vnd.jupyter.widget-view+json": {
       "model_id": "0159c73320204b9ea17048b16daab315",
       "version_major": 2,
       "version_minor": 0
      },
      "text/plain": [
       "  0%|          | 0/106444 [00:00<?, ?it/s]"
      ]
     },
     "metadata": {},
     "output_type": "display_data"
    }
   ],
   "source": [
    "# model = Doc2Vec.load('../input/asr_doc2vec.model')\n",
    "# emb = np.zeros([vocab.size(), emb_dim])\n",
    "# for i, asr in tqdm(enumerate(d.asr.values), total=len(d)):\n",
    "#   if str(asr) == str(NAN_ID):\n",
    "#     continue\n",
    "#   emb[i] = model.infer_vector(asr.split())\n",
    "# np.save('../input/asr_vec_emb.npy', emb)"
   ]
  },
  {
   "cell_type": "code",
   "execution_count": null,
   "metadata": {},
   "outputs": [],
   "source": []
  }
 ],
 "metadata": {
  "interpreter": {
   "hash": "98b0a9b7b4eaaa670588a142fd0a9b87eaafe866f1db4228be72b4211d12040f"
  },
  "kernelspec": {
   "display_name": "Python 3",
   "language": "python",
   "name": "python3"
  },
  "language_info": {
   "codemirror_mode": {
    "name": "ipython",
    "version": 3
   },
   "file_extension": ".py",
   "mimetype": "text/x-python",
   "name": "python",
   "nbconvert_exporter": "python",
   "pygments_lexer": "ipython3",
   "version": "3.6.10"
  }
 },
 "nbformat": 4,
 "nbformat_minor": 4
}
