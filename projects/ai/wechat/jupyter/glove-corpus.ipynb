{
 "cells": [
  {
   "cell_type": "code",
   "execution_count": 19,
   "source": [
    "import numpy as np\n",
    "import pandas as pd\n",
    "from collections import OrderedDict, defaultdict\n",
    "import glob\n",
    "import sys,os\n",
    "sys.path.append('..')\n",
    "sys.path.append('../../../../utils')\n",
    "sys.path.append('../../../../third')\n",
    "import gezi\n",
    "from gezi import tqdm\n",
    "tqdm.pandas()"
   ],
   "outputs": [],
   "metadata": {}
  },
  {
   "cell_type": "code",
   "execution_count": 20,
   "source": [
    "with gezi.Timer('read train user_actions'):\n",
    "  d = pd.read_csv('../input/user_action.csv')\n",
    "  d['version'] = 2\n",
    "  try:\n",
    "    d1 = pd.read_csv('../input/v1/user_action.csv')\n",
    "    d1['version'] = 1\n",
    "    d = pd.concat([d, d1])\n",
    "  except Exception:\n",
    "    pass"
   ],
   "outputs": [
    {
     "output_type": "stream",
     "name": "stdout",
     "text": [
      "read train user_actions start\n",
      "read train user_actions duration: 24.021987199783325\n"
     ]
    }
   ],
   "metadata": {}
  },
  {
   "cell_type": "code",
   "execution_count": 21,
   "source": [
    "with gezi.Timer('read test and merge'):\n",
    "  dt = pd.read_csv('../input/test_a.csv')\n",
    "  dt['version'] = 2\n",
    "  try:\n",
    "    dt1a = pd.read_csv('../input/v1/test_a.csv')\n",
    "    dt1a['version'] = 1\n",
    "    dt1b = pd.read_csv('../input/v1/test_b.csv')\n",
    "    dt1b['version'] = 1\n",
    "    dt = pd.concat([dt, dt1a, dt1b])\n",
    "  except Exception:\n",
    "    dtb = pd.read_csv('../input/test_b.csv')\n",
    "    dtb['version'] = 2\n",
    "    dt = pd.concat([dt, dtb])"
   ],
   "outputs": [
    {
     "output_type": "stream",
     "name": "stdout",
     "text": [
      "read test and merge start\n",
      "read test and merge duration: 0.44939517974853516\n"
     ]
    }
   ],
   "metadata": {}
  },
  {
   "cell_type": "code",
   "execution_count": 22,
   "source": [
    "dt['date_'] = 15"
   ],
   "outputs": [],
   "metadata": {}
  },
  {
   "cell_type": "code",
   "execution_count": 23,
   "source": [
    "set(d.date_)"
   ],
   "outputs": [
    {
     "output_type": "execute_result",
     "data": {
      "text/plain": [
       "{1, 2, 3, 4, 5, 6, 7, 8, 9, 10, 11, 12, 13, 14}"
      ]
     },
     "metadata": {},
     "execution_count": 23
    }
   ],
   "metadata": {}
  },
  {
   "cell_type": "code",
   "execution_count": 24,
   "source": [
    "cols = ['userid', 'feedid', 'date_', 'version', 'actions']\n",
    "dshow = pd.concat([d[cols], dt[cols]])\n",
    "dshow = dshow.sort_values(['date_'], ascending=True)"
   ],
   "outputs": [],
   "metadata": {}
  },
  {
   "cell_type": "code",
   "execution_count": 26,
   "source": [
    "days = [\n",
    "  # # 包含14号 1表示half \n",
    "  # 并且14号只有一半用户使用 userid % 2 == 0 14.5 (也许13.5更合适) date2<=13.5\n",
    "  # 也就是数据量 13 < 14.5(13.5) < 14 < 15\n",
    "  (14, 1),  # valid show一半用户可见\n",
    "  (13, 0),  # 截止到13号数据,valid show完全不可见\n",
    "  (14, 0),  # 包含14号全部用户数据 (valid show完全可见)\n",
    "  (15, 0),   # 包含15号(test_a)全部数据\n",
    "  (15, 1)   # 只包含15号初赛数据 不包括复赛test_a  15.5\n",
    "]"
   ],
   "outputs": [],
   "metadata": {}
  },
  {
   "cell_type": "code",
   "execution_count": 27,
   "source": [
    "feeds = {}\n",
    "def cache_feed():\n",
    "  df = pd.read_csv('../input/feed_info.csv')\n",
    "  df = df.fillna(-1)\n",
    "  for row in tqdm(df.itertuples(), total=len(df), desc='feed_info'):\n",
    "    row = row._asdict()               \n",
    "    feeds[row['feedid']] = row\n",
    "cache_feed()"
   ],
   "outputs": [
    {
     "output_type": "display_data",
     "data": {
      "text/plain": [
       "feed_info:   0%|          | 0/106444 [00:00<?, ?it/s]"
      ],
      "application/vnd.jupyter.widget-view+json": {
       "version_major": 2,
       "version_minor": 0,
       "model_id": "d81b32b56dc6443e89cee15c0f34bf5f"
      }
     },
     "metadata": {}
    }
   ],
   "metadata": {}
  },
  {
   "cell_type": "code",
   "execution_count": 28,
   "source": [
    "MAX_LEN = 1000"
   ],
   "outputs": [],
   "metadata": {}
  },
  {
   "cell_type": "code",
   "execution_count": 29,
   "source": [
    "MODE = 'ignore' # or 'split'"
   ],
   "outputs": [],
   "metadata": {}
  },
  {
   "cell_type": "code",
   "execution_count": 30,
   "source": [
    "def print_items(items, f, max_len=None, mode='ignore'):\n",
    "  l = []\n",
    "  if not max_len:\n",
    "    l = [items]\n",
    "  else:\n",
    "    len_ = len(items)\n",
    "    if len_ > max_len and mode == 'ignore':\n",
    "      return\n",
    "    count = -(-len_ // max_len)\n",
    "    l = np.array_split(items, count)\n",
    "    if count > 1:\n",
    "      l[-1] = items[-max_len:]\n",
    "  for items in l:\n",
    "    print(' '.join(map(str, items)), file=f)"
   ],
   "outputs": [],
   "metadata": {}
  },
  {
   "cell_type": "code",
   "execution_count": 31,
   "source": [
    "def write_user_corpus(d, mark, group_byday=False):\n",
    "  # TODO doc 对应的user比较多 特别复赛20w user， 初赛只有2w 可能需要shuffle 大的doc 然后限定小窗口\n",
    "  keys = ['feedid'] if not group_byday else ['feedid', 'date_']\n",
    "  users = d.groupby(keys)['userid'].progress_apply(list).reset_index(name='users')\n",
    "  users['num_users'] = users.users.apply(len)\n",
    "  corpus_name = 'user_corpus' if not group_byday else 'user_day_corpus'\n",
    "  with open(f'../input/{mark}/{corpus_name}.txt', 'w') as f:\n",
    "    for users_ in tqdm(users.users, desc=f'{mark}/{corpus_name}'):\n",
    "      # TODO 如果过长 一个doc展现了非常多的user 是忽略比较好 还是分段比较好\n",
    "      print_items(users_, f, MAX_LEN)"
   ],
   "outputs": [],
   "metadata": {}
  },
  {
   "cell_type": "code",
   "execution_count": 32,
   "source": [
    "def write_doc_corpus(d, mark, group_byday=False):\n",
    "  # TODO doc 对应的user比较多 特别复赛20w user， 初赛只有2w 可能需要shuffle 大的doc 然后限定小窗口\n",
    "  keys = ['userid'] if not group_byday else ['feedid', 'date_']\n",
    "  docs = d.groupby(keys)['feedid'].progress_apply(list).reset_index(name='docs')\n",
    "  docs['num_docs'] = docs.docs.apply(len)\n",
    "  corpus_name = 'doc_corpus' if not group_byday else 'doc_day_corpus'\n",
    "  with open(f'../input/{mark}/{corpus_name}.txt', 'w') as f:\n",
    "    for docs_ in tqdm(docs.docs, desc=f'{mark}/{corpus_name}'):\n",
    "      # TODO doc 虽然能跑 但是非常慢 大约需要6-7个小时 可以考虑也忽略掉长的? 一个user有过多doc的\n",
    "      print_items(docs_, f)\n",
    "  attrs = ['author', 'singer', 'song']\n",
    "  names = ['authorid', 'bgm_singer_id', 'bgm_song_id']\n",
    "  for attr, name in zip(attrs, names):\n",
    "    corpus_name = f'{attr}_corpus' if not group_byday else f'{attr}_day_corpus'\n",
    "    with open(f'../input/{mark}/{corpus_name}.txt', 'w') as f:\n",
    "      for docs_ in tqdm(docs.docs, desc=f'{mark}/{corpus_name}'):\n",
    "        items = [int(feeds[doc][name]) for doc in docs_]\n",
    "        items = [x for x in items if x != -1]\n",
    "        print_items(items, f)"
   ],
   "outputs": [],
   "metadata": {}
  },
  {
   "cell_type": "code",
   "execution_count": 33,
   "source": [
    "t = tqdm(days, total=len(days))\n",
    "for day, is_half in tqdm(t):\n",
    "  mark = day if not is_half else day + 0.5\n",
    "  os.system(f'mkdir -p ../input/{mark}')\n",
    "  if not is_half:\n",
    "    d = dshow[dshow.date_ <= day]\n",
    "  else:\n",
    "    if day < 15:\n",
    "      d = dshow[(dshow.date_ < day) | (dshow.date_ == day) & (dshow.userid % 2 == 0)]\n",
    "    else:\n",
    "      d = dshow[(dshow.date_ < day) | (dshow.date_ == day) & (dshow.version == 1)]\n",
    "  print({'day': mark, 'total': len(d)})\n",
    "  write_user_corpus(d, mark, group_byday=False)\n",
    "  write_doc_corpus(d, mark, group_byday=False)\n",
    "  write_user_corpus(d, mark, group_byday=True)\n",
    "  write_doc_corpus(d, mark, group_byday=True)"
   ],
   "outputs": [
    {
     "output_type": "display_data",
     "data": {
      "text/plain": [
       "  0%|          | 0/5 [00:00<?, ?it/s]"
      ],
      "application/vnd.jupyter.widget-view+json": {
       "version_major": 2,
       "version_minor": 0,
       "model_id": "7d05c7e125d14d5cbe57402e5a66bc11"
      }
     },
     "metadata": {}
    },
    {
     "output_type": "display_data",
     "data": {
      "text/plain": [
       "  0%|          | 0/5 [00:00<?, ?it/s]"
      ],
      "application/vnd.jupyter.widget-view+json": {
       "version_major": 2,
       "version_minor": 0,
       "model_id": "af5fd175e982485caad4e0359ee31881"
      }
     },
     "metadata": {}
    },
    {
     "output_type": "stream",
     "name": "stdout",
     "text": [
      "{'day': 14.5, 'total': 7014702}\n"
     ]
    },
    {
     "output_type": "display_data",
     "data": {
      "text/plain": [
       "  0%|          | 0/95948 [00:00<?, ?it/s]"
      ],
      "application/vnd.jupyter.widget-view+json": {
       "version_major": 2,
       "version_minor": 0,
       "model_id": "64cb90f24dc442d5a8f735d85fdb8062"
      }
     },
     "metadata": {}
    },
    {
     "output_type": "display_data",
     "data": {
      "text/plain": [
       "14.5/user_corpus:   0%|          | 0/95948 [00:00<?, ?it/s]"
      ],
      "application/vnd.jupyter.widget-view+json": {
       "version_major": 2,
       "version_minor": 0,
       "model_id": "d6beac91644747afaf134ecf17b6c0a7"
      }
     },
     "metadata": {}
    },
    {
     "output_type": "display_data",
     "data": {
      "text/plain": [
       "  0%|          | 0/19962 [00:00<?, ?it/s]"
      ],
      "application/vnd.jupyter.widget-view+json": {
       "version_major": 2,
       "version_minor": 0,
       "model_id": "9a0b29a8eb20499da863bb674ceff578"
      }
     },
     "metadata": {}
    },
    {
     "output_type": "display_data",
     "data": {
      "text/plain": [
       "14.5/doc_corpus:   0%|          | 0/19962 [00:00<?, ?it/s]"
      ],
      "application/vnd.jupyter.widget-view+json": {
       "version_major": 2,
       "version_minor": 0,
       "model_id": "5f0341fdacc84692afded00ab6e01550"
      }
     },
     "metadata": {}
    },
    {
     "output_type": "display_data",
     "data": {
      "text/plain": [
       "14.5/author_corpus:   0%|          | 0/19962 [00:00<?, ?it/s]"
      ],
      "application/vnd.jupyter.widget-view+json": {
       "version_major": 2,
       "version_minor": 0,
       "model_id": "676fef1f85c44ee29b82a15ef06a3cb3"
      }
     },
     "metadata": {}
    },
    {
     "output_type": "display_data",
     "data": {
      "text/plain": [
       "14.5/singer_corpus:   0%|          | 0/19962 [00:00<?, ?it/s]"
      ],
      "application/vnd.jupyter.widget-view+json": {
       "version_major": 2,
       "version_minor": 0,
       "model_id": "d036c4deb007467693b3df05ac0081b4"
      }
     },
     "metadata": {}
    },
    {
     "output_type": "display_data",
     "data": {
      "text/plain": [
       "14.5/song_corpus:   0%|          | 0/19962 [00:00<?, ?it/s]"
      ],
      "application/vnd.jupyter.widget-view+json": {
       "version_major": 2,
       "version_minor": 0,
       "model_id": "c0487c69693946b1a422324ced4add63"
      }
     },
     "metadata": {}
    },
    {
     "output_type": "display_data",
     "data": {
      "text/plain": [
       "  0%|          | 0/462103 [00:00<?, ?it/s]"
      ],
      "application/vnd.jupyter.widget-view+json": {
       "version_major": 2,
       "version_minor": 0,
       "model_id": "bd57397e0a6d44ce95f17d18a591974a"
      }
     },
     "metadata": {}
    },
    {
     "output_type": "display_data",
     "data": {
      "text/plain": [
       "14.5/user_day_corpus:   0%|          | 0/462103 [00:00<?, ?it/s]"
      ],
      "application/vnd.jupyter.widget-view+json": {
       "version_major": 2,
       "version_minor": 0,
       "model_id": "462e1c816936446fa95686f7106f2f95"
      }
     },
     "metadata": {}
    },
    {
     "output_type": "display_data",
     "data": {
      "text/plain": [
       "  0%|          | 0/462103 [00:00<?, ?it/s]"
      ],
      "application/vnd.jupyter.widget-view+json": {
       "version_major": 2,
       "version_minor": 0,
       "model_id": "7bd7ebdfbcd34a2a93e875b72791de2a"
      }
     },
     "metadata": {}
    },
    {
     "output_type": "display_data",
     "data": {
      "text/plain": [
       "14.5/doc_day_corpus:   0%|          | 0/462103 [00:00<?, ?it/s]"
      ],
      "application/vnd.jupyter.widget-view+json": {
       "version_major": 2,
       "version_minor": 0,
       "model_id": "1a3150a543a34a4aa5cb6e8ea9f858f8"
      }
     },
     "metadata": {}
    },
    {
     "output_type": "display_data",
     "data": {
      "text/plain": [
       "14.5/author_day_corpus:   0%|          | 0/462103 [00:00<?, ?it/s]"
      ],
      "application/vnd.jupyter.widget-view+json": {
       "version_major": 2,
       "version_minor": 0,
       "model_id": "ebeffa7cb52947d6bcdb43b5838ff94a"
      }
     },
     "metadata": {}
    },
    {
     "output_type": "display_data",
     "data": {
      "text/plain": [
       "14.5/singer_day_corpus:   0%|          | 0/462103 [00:00<?, ?it/s]"
      ],
      "application/vnd.jupyter.widget-view+json": {
       "version_major": 2,
       "version_minor": 0,
       "model_id": "c0e9e9c480354ae59ead3e0adc9d5e16"
      }
     },
     "metadata": {}
    },
    {
     "output_type": "display_data",
     "data": {
      "text/plain": [
       "14.5/song_day_corpus:   0%|          | 0/462103 [00:00<?, ?it/s]"
      ],
      "application/vnd.jupyter.widget-view+json": {
       "version_major": 2,
       "version_minor": 0,
       "model_id": "fcbfd6f20e9e48f0b7dcab16cb0a0b0d"
      }
     },
     "metadata": {}
    },
    {
     "output_type": "stream",
     "name": "stdout",
     "text": [
      "{'day': 13, 'total': 6708846}\n"
     ]
    },
    {
     "output_type": "display_data",
     "data": {
      "text/plain": [
       "  0%|          | 0/92201 [00:00<?, ?it/s]"
      ],
      "application/vnd.jupyter.widget-view+json": {
       "version_major": 2,
       "version_minor": 0,
       "model_id": "f166ef5caeed4458a35f2f06eaf6e9b9"
      }
     },
     "metadata": {}
    },
    {
     "output_type": "display_data",
     "data": {
      "text/plain": [
       "13/user_corpus:   0%|          | 0/92201 [00:00<?, ?it/s]"
      ],
      "application/vnd.jupyter.widget-view+json": {
       "version_major": 2,
       "version_minor": 0,
       "model_id": "171b4a5cc26647be92fa83a18a0e9479"
      }
     },
     "metadata": {}
    },
    {
     "output_type": "display_data",
     "data": {
      "text/plain": [
       "  0%|          | 0/19916 [00:00<?, ?it/s]"
      ],
      "application/vnd.jupyter.widget-view+json": {
       "version_major": 2,
       "version_minor": 0,
       "model_id": "587aaa05aa674e9a816c97552c88f244"
      }
     },
     "metadata": {}
    },
    {
     "output_type": "display_data",
     "data": {
      "text/plain": [
       "13/doc_corpus:   0%|          | 0/19916 [00:00<?, ?it/s]"
      ],
      "application/vnd.jupyter.widget-view+json": {
       "version_major": 2,
       "version_minor": 0,
       "model_id": "319dde905f8f4b9dba6f9271f33fc24a"
      }
     },
     "metadata": {}
    },
    {
     "output_type": "display_data",
     "data": {
      "text/plain": [
       "13/author_corpus:   0%|          | 0/19916 [00:00<?, ?it/s]"
      ],
      "application/vnd.jupyter.widget-view+json": {
       "version_major": 2,
       "version_minor": 0,
       "model_id": "6f0759af4f22436eb22ebd3dc851410a"
      }
     },
     "metadata": {}
    },
    {
     "output_type": "display_data",
     "data": {
      "text/plain": [
       "13/singer_corpus:   0%|          | 0/19916 [00:00<?, ?it/s]"
      ],
      "application/vnd.jupyter.widget-view+json": {
       "version_major": 2,
       "version_minor": 0,
       "model_id": "9c14b5468c6b4b0889d6b5f0affad97a"
      }
     },
     "metadata": {}
    },
    {
     "output_type": "display_data",
     "data": {
      "text/plain": [
       "13/song_corpus:   0%|          | 0/19916 [00:00<?, ?it/s]"
      ],
      "application/vnd.jupyter.widget-view+json": {
       "version_major": 2,
       "version_minor": 0,
       "model_id": "9cb534fe09c24d90991ec8f6e7837b06"
      }
     },
     "metadata": {}
    },
    {
     "output_type": "display_data",
     "data": {
      "text/plain": [
       "  0%|          | 0/427376 [00:00<?, ?it/s]"
      ],
      "application/vnd.jupyter.widget-view+json": {
       "version_major": 2,
       "version_minor": 0,
       "model_id": "5e3e73c7f86549dd80052d57f2fd0bce"
      }
     },
     "metadata": {}
    },
    {
     "output_type": "display_data",
     "data": {
      "text/plain": [
       "13/user_day_corpus:   0%|          | 0/427376 [00:00<?, ?it/s]"
      ],
      "application/vnd.jupyter.widget-view+json": {
       "version_major": 2,
       "version_minor": 0,
       "model_id": "483c4032b467470fa7c1b8394159208c"
      }
     },
     "metadata": {}
    },
    {
     "output_type": "display_data",
     "data": {
      "text/plain": [
       "  0%|          | 0/427376 [00:00<?, ?it/s]"
      ],
      "application/vnd.jupyter.widget-view+json": {
       "version_major": 2,
       "version_minor": 0,
       "model_id": "36401467726046bfa6a041a2115df60e"
      }
     },
     "metadata": {}
    },
    {
     "output_type": "display_data",
     "data": {
      "text/plain": [
       "13/doc_day_corpus:   0%|          | 0/427376 [00:00<?, ?it/s]"
      ],
      "application/vnd.jupyter.widget-view+json": {
       "version_major": 2,
       "version_minor": 0,
       "model_id": "6a3dc77be2e141e6a10fcff9bb046bf4"
      }
     },
     "metadata": {}
    },
    {
     "output_type": "display_data",
     "data": {
      "text/plain": [
       "13/author_day_corpus:   0%|          | 0/427376 [00:00<?, ?it/s]"
      ],
      "application/vnd.jupyter.widget-view+json": {
       "version_major": 2,
       "version_minor": 0,
       "model_id": "1973b32776654de0bbd0d2804ff09ee3"
      }
     },
     "metadata": {}
    },
    {
     "output_type": "display_data",
     "data": {
      "text/plain": [
       "13/singer_day_corpus:   0%|          | 0/427376 [00:00<?, ?it/s]"
      ],
      "application/vnd.jupyter.widget-view+json": {
       "version_major": 2,
       "version_minor": 0,
       "model_id": "3b74fde778804ef393adbf6e54a74b39"
      }
     },
     "metadata": {}
    },
    {
     "output_type": "display_data",
     "data": {
      "text/plain": [
       "13/song_day_corpus:   0%|          | 0/427376 [00:00<?, ?it/s]"
      ],
      "application/vnd.jupyter.widget-view+json": {
       "version_major": 2,
       "version_minor": 0,
       "model_id": "1a3b0187ea7b4fb09d277d6dffab3d13"
      }
     },
     "metadata": {}
    },
    {
     "output_type": "stream",
     "name": "stdout",
     "text": [
      "{'day': 14, 'total': 7317882}\n"
     ]
    },
    {
     "output_type": "display_data",
     "data": {
      "text/plain": [
       "  0%|          | 0/96564 [00:00<?, ?it/s]"
      ],
      "application/vnd.jupyter.widget-view+json": {
       "version_major": 2,
       "version_minor": 0,
       "model_id": "a0347d0c6e2d4d869d8bceeaafedb05c"
      }
     },
     "metadata": {}
    },
    {
     "output_type": "display_data",
     "data": {
      "text/plain": [
       "14/user_corpus:   0%|          | 0/96564 [00:00<?, ?it/s]"
      ],
      "application/vnd.jupyter.widget-view+json": {
       "version_major": 2,
       "version_minor": 0,
       "model_id": "5726949a8ba34ff4af1678707eef0bee"
      }
     },
     "metadata": {}
    },
    {
     "output_type": "display_data",
     "data": {
      "text/plain": [
       "  0%|          | 0/20000 [00:00<?, ?it/s]"
      ],
      "application/vnd.jupyter.widget-view+json": {
       "version_major": 2,
       "version_minor": 0,
       "model_id": "5cfcf024f81949f69fb1db57449928d7"
      }
     },
     "metadata": {}
    },
    {
     "output_type": "display_data",
     "data": {
      "text/plain": [
       "14/doc_corpus:   0%|          | 0/20000 [00:00<?, ?it/s]"
      ],
      "application/vnd.jupyter.widget-view+json": {
       "version_major": 2,
       "version_minor": 0,
       "model_id": "90aea1fa61c74675a759987bcce039b9"
      }
     },
     "metadata": {}
    },
    {
     "output_type": "display_data",
     "data": {
      "text/plain": [
       "14/author_corpus:   0%|          | 0/20000 [00:00<?, ?it/s]"
      ],
      "application/vnd.jupyter.widget-view+json": {
       "version_major": 2,
       "version_minor": 0,
       "model_id": "d670fd0172c0498b9808b77920bf95e6"
      }
     },
     "metadata": {}
    },
    {
     "output_type": "display_data",
     "data": {
      "text/plain": [
       "14/singer_corpus:   0%|          | 0/20000 [00:00<?, ?it/s]"
      ],
      "application/vnd.jupyter.widget-view+json": {
       "version_major": 2,
       "version_minor": 0,
       "model_id": "b3573a0eb8b44921be9b755c7a856f4d"
      }
     },
     "metadata": {}
    },
    {
     "output_type": "display_data",
     "data": {
      "text/plain": [
       "14/song_corpus:   0%|          | 0/20000 [00:00<?, ?it/s]"
      ],
      "application/vnd.jupyter.widget-view+json": {
       "version_major": 2,
       "version_minor": 0,
       "model_id": "5bf640a87ba94bd8aa17fe572b9a6e3c"
      }
     },
     "metadata": {}
    },
    {
     "output_type": "display_data",
     "data": {
      "text/plain": [
       "  0%|          | 0/469668 [00:00<?, ?it/s]"
      ],
      "application/vnd.jupyter.widget-view+json": {
       "version_major": 2,
       "version_minor": 0,
       "model_id": "d7410b2a4ee14e60bb46c01df0488db6"
      }
     },
     "metadata": {}
    },
    {
     "output_type": "display_data",
     "data": {
      "text/plain": [
       "14/user_day_corpus:   0%|          | 0/469668 [00:00<?, ?it/s]"
      ],
      "application/vnd.jupyter.widget-view+json": {
       "version_major": 2,
       "version_minor": 0,
       "model_id": "459a6cb216f442f488b6aafcac2e9096"
      }
     },
     "metadata": {}
    },
    {
     "output_type": "display_data",
     "data": {
      "text/plain": [
       "  0%|          | 0/469668 [00:00<?, ?it/s]"
      ],
      "application/vnd.jupyter.widget-view+json": {
       "version_major": 2,
       "version_minor": 0,
       "model_id": "2ce8ad1400b3442ea770f62156d3ea1b"
      }
     },
     "metadata": {}
    },
    {
     "output_type": "display_data",
     "data": {
      "text/plain": [
       "14/doc_day_corpus:   0%|          | 0/469668 [00:00<?, ?it/s]"
      ],
      "application/vnd.jupyter.widget-view+json": {
       "version_major": 2,
       "version_minor": 0,
       "model_id": "1de03f66f99f461e8ea752af5f2ca120"
      }
     },
     "metadata": {}
    },
    {
     "output_type": "display_data",
     "data": {
      "text/plain": [
       "14/author_day_corpus:   0%|          | 0/469668 [00:00<?, ?it/s]"
      ],
      "application/vnd.jupyter.widget-view+json": {
       "version_major": 2,
       "version_minor": 0,
       "model_id": "97ec941b7dbd45a38e492d8302e741c8"
      }
     },
     "metadata": {}
    },
    {
     "output_type": "display_data",
     "data": {
      "text/plain": [
       "14/singer_day_corpus:   0%|          | 0/469668 [00:00<?, ?it/s]"
      ],
      "application/vnd.jupyter.widget-view+json": {
       "version_major": 2,
       "version_minor": 0,
       "model_id": "19e7717e73c04afb91cca3298d8d642a"
      }
     },
     "metadata": {}
    },
    {
     "output_type": "display_data",
     "data": {
      "text/plain": [
       "14/song_day_corpus:   0%|          | 0/469668 [00:00<?, ?it/s]"
      ],
      "application/vnd.jupyter.widget-view+json": {
       "version_major": 2,
       "version_minor": 0,
       "model_id": "ebe6b77c82004665a6a49b2ef0b56cfa"
      }
     },
     "metadata": {}
    },
    {
     "output_type": "stream",
     "name": "stdout",
     "text": [
      "{'day': 15, 'total': 8159513}\n"
     ]
    },
    {
     "output_type": "display_data",
     "data": {
      "text/plain": [
       "  0%|          | 0/99420 [00:00<?, ?it/s]"
      ],
      "application/vnd.jupyter.widget-view+json": {
       "version_major": 2,
       "version_minor": 0,
       "model_id": "b4c30174cfc043f083ffcb0cf4220435"
      }
     },
     "metadata": {}
    },
    {
     "output_type": "display_data",
     "data": {
      "text/plain": [
       "15/user_corpus:   0%|          | 0/99420 [00:00<?, ?it/s]"
      ],
      "application/vnd.jupyter.widget-view+json": {
       "version_major": 2,
       "version_minor": 0,
       "model_id": "f5e2a284521b436aa4b163b238474a11"
      }
     },
     "metadata": {}
    },
    {
     "output_type": "display_data",
     "data": {
      "text/plain": [
       "  0%|          | 0/20000 [00:00<?, ?it/s]"
      ],
      "application/vnd.jupyter.widget-view+json": {
       "version_major": 2,
       "version_minor": 0,
       "model_id": "82051896f82c4f64a82a3a494175d0f5"
      }
     },
     "metadata": {}
    },
    {
     "output_type": "display_data",
     "data": {
      "text/plain": [
       "15/doc_corpus:   0%|          | 0/20000 [00:00<?, ?it/s]"
      ],
      "application/vnd.jupyter.widget-view+json": {
       "version_major": 2,
       "version_minor": 0,
       "model_id": "9670d0a16d764b53b40675b539f0a8aa"
      }
     },
     "metadata": {}
    },
    {
     "output_type": "display_data",
     "data": {
      "text/plain": [
       "15/author_corpus:   0%|          | 0/20000 [00:00<?, ?it/s]"
      ],
      "application/vnd.jupyter.widget-view+json": {
       "version_major": 2,
       "version_minor": 0,
       "model_id": "8287489ba8004483ab3dc677f670b46e"
      }
     },
     "metadata": {}
    },
    {
     "output_type": "display_data",
     "data": {
      "text/plain": [
       "15/singer_corpus:   0%|          | 0/20000 [00:00<?, ?it/s]"
      ],
      "application/vnd.jupyter.widget-view+json": {
       "version_major": 2,
       "version_minor": 0,
       "model_id": "ac5375635c594601a0bf3d28e9b99937"
      }
     },
     "metadata": {}
    },
    {
     "output_type": "display_data",
     "data": {
      "text/plain": [
       "15/song_corpus:   0%|          | 0/20000 [00:00<?, ?it/s]"
      ],
      "application/vnd.jupyter.widget-view+json": {
       "version_major": 2,
       "version_minor": 0,
       "model_id": "ef8cd0628ff9454bbb4f5018086ce1e5"
      }
     },
     "metadata": {}
    },
    {
     "output_type": "display_data",
     "data": {
      "text/plain": [
       "  0%|          | 0/511773 [00:00<?, ?it/s]"
      ],
      "application/vnd.jupyter.widget-view+json": {
       "version_major": 2,
       "version_minor": 0,
       "model_id": "6ea1dcd9eace4e9b840c50d97e0fa66b"
      }
     },
     "metadata": {}
    },
    {
     "output_type": "display_data",
     "data": {
      "text/plain": [
       "15/user_day_corpus:   0%|          | 0/511773 [00:00<?, ?it/s]"
      ],
      "application/vnd.jupyter.widget-view+json": {
       "version_major": 2,
       "version_minor": 0,
       "model_id": "7343998fde9b4b0d961906c422cf7872"
      }
     },
     "metadata": {}
    },
    {
     "output_type": "display_data",
     "data": {
      "text/plain": [
       "  0%|          | 0/511773 [00:00<?, ?it/s]"
      ],
      "application/vnd.jupyter.widget-view+json": {
       "version_major": 2,
       "version_minor": 0,
       "model_id": "493c299210534d2a930e5cf8ed98ab5e"
      }
     },
     "metadata": {}
    },
    {
     "output_type": "display_data",
     "data": {
      "text/plain": [
       "15/doc_day_corpus:   0%|          | 0/511773 [00:00<?, ?it/s]"
      ],
      "application/vnd.jupyter.widget-view+json": {
       "version_major": 2,
       "version_minor": 0,
       "model_id": "b212e78f62aa49d89c842f64cc51c885"
      }
     },
     "metadata": {}
    },
    {
     "output_type": "display_data",
     "data": {
      "text/plain": [
       "15/author_day_corpus:   0%|          | 0/511773 [00:00<?, ?it/s]"
      ],
      "application/vnd.jupyter.widget-view+json": {
       "version_major": 2,
       "version_minor": 0,
       "model_id": "f90da247b7aa4cf18d00677d1286f4ef"
      }
     },
     "metadata": {}
    },
    {
     "output_type": "display_data",
     "data": {
      "text/plain": [
       "15/singer_day_corpus:   0%|          | 0/511773 [00:00<?, ?it/s]"
      ],
      "application/vnd.jupyter.widget-view+json": {
       "version_major": 2,
       "version_minor": 0,
       "model_id": "8e052f4053084d7e9060a71c18501830"
      }
     },
     "metadata": {}
    }
   ],
   "metadata": {}
  },
  {
   "cell_type": "code",
   "execution_count": null,
   "source": [
    "# 暂时留记录 但是不生成tag key corpu"
   ],
   "outputs": [],
   "metadata": {}
  },
  {
   "cell_type": "code",
   "execution_count": null,
   "source": [
    "# with open('../input/tag_test_corpus.txt', 'w') as f:\n",
    "#   for docs_ in tqdm(docs.docs):\n",
    "#     tags = [str(feeds[doc]['manual_tag_list']).replace(';', ' ') for doc in docs_]\n",
    "#     tags = set(' '.join(tags).split())\n",
    "#     print(' '.join(tags), file=f)\n",
    "#     tags2 = [' '.join([x.split()[0] for x in str(feeds[doc]['machine_tag_list']).split(';')]) for doc in docs_]\n",
    "#     tags2 = set(' '.join(tags2).split())\n",
    "#     print(' '.join(tags2), file=f)"
   ],
   "outputs": [],
   "metadata": {}
  },
  {
   "cell_type": "code",
   "execution_count": 17,
   "source": [
    "# with open('../input/key_test_corpus.txt', 'w') as f:\n",
    "#   for docs_ in tqdm(docs.docs):\n",
    "#     tags = [str(feeds[doc]['manual_keyword_list']).replace(';', ' ') for doc in docs_]\n",
    "#     tags = set(' '.join(tags).split())\n",
    "#     print(' '.join(tags), file=f)\n",
    "#     tags2 = [' '.join([x.split()[0] for x in str(feeds[doc]['machine_keyword_list']).split(';')]) for doc in docs_]\n",
    "#     tags2 = set(' '.join(tags2).split())\n",
    "#     print(' '.join(tags2), file=f)"
   ],
   "outputs": [],
   "metadata": {}
  },
  {
   "cell_type": "code",
   "execution_count": null,
   "source": [],
   "outputs": [],
   "metadata": {}
  },
  {
   "cell_type": "code",
   "execution_count": null,
   "source": [],
   "outputs": [],
   "metadata": {}
  }
 ],
 "metadata": {
  "kernelspec": {
   "name": "python3",
   "display_name": "Python 3.6.10 64-bit ('base': conda)"
  },
  "language_info": {
   "codemirror_mode": {
    "name": "ipython",
    "version": 3
   },
   "file_extension": ".py",
   "mimetype": "text/x-python",
   "name": "python",
   "nbconvert_exporter": "python",
   "pygments_lexer": "ipython3",
   "version": "3.6.10"
  },
  "interpreter": {
   "hash": "98b0a9b7b4eaaa670588a142fd0a9b87eaafe866f1db4228be72b4211d12040f"
  }
 },
 "nbformat": 4,
 "nbformat_minor": 4
}