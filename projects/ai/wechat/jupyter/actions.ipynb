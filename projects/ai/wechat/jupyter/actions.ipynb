{
 "cells": [
  {
   "cell_type": "code",
   "execution_count": 1,
   "source": [
    "import numpy as np\n",
    "import pandas as pd\n",
    "from collections import defaultdict\n",
    "import glob\n",
    "import sys \n",
    "sys.path.append('..')\n",
    "sys.path.append('../../../../utils')\n",
    "sys.path.append('../../../../third')\n",
    "import gezi\n",
    "from gezi import tqdm"
   ],
   "outputs": [],
   "metadata": {}
  },
  {
   "cell_type": "code",
   "execution_count": 2,
   "source": [
    "ACTIONS = [\n",
    "  'read_comment',\n",
    "  'like',\n",
    "  'click_avatar',\n",
    "  'forward',\n",
    "  'favorite',\n",
    "  'comment',\n",
    "  'follow'\n",
    "]"
   ],
   "outputs": [],
   "metadata": {}
  },
  {
   "cell_type": "code",
   "execution_count": 3,
   "source": [
    "feeds = {}\n",
    "def cache_feed():\n",
    "  df = pd.read_csv('../input/feed_info.csv')\n",
    "  df = df.fillna(-1)\n",
    "  for row in tqdm(df.itertuples(), total=len(df), desc='feed_info'):\n",
    "    row = row._asdict()\n",
    "    feeds[row['feedid']] = row\n",
    "cache_feed()"
   ],
   "outputs": [
    {
     "output_type": "display_data",
     "data": {
      "text/plain": [
       "feed_info:   0%|          | 0/106444 [00:00<?, ?it/s]"
      ],
      "application/vnd.jupyter.widget-view+json": {
       "version_major": 2,
       "version_minor": 0,
       "model_id": "5382b893f58843e5b682189aaa13c878"
      }
     },
     "metadata": {}
    }
   ],
   "metadata": {}
  },
  {
   "cell_type": "code",
   "execution_count": 4,
   "source": [
    "def num_actions(row):\n",
    "  cnt = 0\n",
    "  for action in ACTIONS:\n",
    "    if row[action] > 0:\n",
    "      cnt += 1\n",
    "  return cnt"
   ],
   "outputs": [],
   "metadata": {}
  },
  {
   "cell_type": "code",
   "execution_count": 5,
   "source": [
    "with gezi.Timer('read_actions csv', True):\n",
    "  d = pd.read_csv('../input/user_action.csv')\n",
    "  d['version'] = 2\n",
    "  try:\n",
    "    d1 = pd.read_csv('../input/v1/user_action.csv')\n",
    "    d1['version'] = 1\n",
    "    d = pd.concat([d, d1])\n",
    "  except Exception:\n",
    "    pass\n",
    "  d.feedid = d.feedid.astype(int)\n",
    "  d.userid = d.userid.astype(int)\n",
    "  d.date_ = d.date_.astype(int)"
   ],
   "outputs": [
    {
     "output_type": "stream",
     "name": "stdout",
     "text": [
      "read_actions csv start\n",
      "read_actions csv duration: 2.83491587638855\n"
     ]
    }
   ],
   "metadata": {}
  },
  {
   "cell_type": "code",
   "execution_count": 6,
   "source": [
    "d.head()"
   ],
   "outputs": [
    {
     "output_type": "execute_result",
     "data": {
      "text/plain": [
       "   userid  feedid  date_  device  read_comment  comment  like  play  stay  \\\n",
       "0       8   71474      1       1             0        0     1   500  5366   \n",
       "1       8   73916      1       1             0        0     0   250  1533   \n",
       "2       8   50282      1       1             0        0     0   750  1302   \n",
       "3       8   11391      1       1             0        0     1  3750  5191   \n",
       "4       8   27349      1       1             0        0     0   250   800   \n",
       "\n",
       "   click_avatar  forward  follow  favorite  version  \n",
       "0             0        0       0         0        2  \n",
       "1             0        0       0         0        2  \n",
       "2             0        0       0         0        2  \n",
       "3             0        0       0         0        2  \n",
       "4             0        0       0         0        2  "
      ],
      "text/html": [
       "<div>\n",
       "<style scoped>\n",
       "    .dataframe tbody tr th:only-of-type {\n",
       "        vertical-align: middle;\n",
       "    }\n",
       "\n",
       "    .dataframe tbody tr th {\n",
       "        vertical-align: top;\n",
       "    }\n",
       "\n",
       "    .dataframe thead th {\n",
       "        text-align: right;\n",
       "    }\n",
       "</style>\n",
       "<table border=\"1\" class=\"dataframe\">\n",
       "  <thead>\n",
       "    <tr style=\"text-align: right;\">\n",
       "      <th></th>\n",
       "      <th>userid</th>\n",
       "      <th>feedid</th>\n",
       "      <th>date_</th>\n",
       "      <th>device</th>\n",
       "      <th>read_comment</th>\n",
       "      <th>comment</th>\n",
       "      <th>like</th>\n",
       "      <th>play</th>\n",
       "      <th>stay</th>\n",
       "      <th>click_avatar</th>\n",
       "      <th>forward</th>\n",
       "      <th>follow</th>\n",
       "      <th>favorite</th>\n",
       "      <th>version</th>\n",
       "    </tr>\n",
       "  </thead>\n",
       "  <tbody>\n",
       "    <tr>\n",
       "      <th>0</th>\n",
       "      <td>8</td>\n",
       "      <td>71474</td>\n",
       "      <td>1</td>\n",
       "      <td>1</td>\n",
       "      <td>0</td>\n",
       "      <td>0</td>\n",
       "      <td>1</td>\n",
       "      <td>500</td>\n",
       "      <td>5366</td>\n",
       "      <td>0</td>\n",
       "      <td>0</td>\n",
       "      <td>0</td>\n",
       "      <td>0</td>\n",
       "      <td>2</td>\n",
       "    </tr>\n",
       "    <tr>\n",
       "      <th>1</th>\n",
       "      <td>8</td>\n",
       "      <td>73916</td>\n",
       "      <td>1</td>\n",
       "      <td>1</td>\n",
       "      <td>0</td>\n",
       "      <td>0</td>\n",
       "      <td>0</td>\n",
       "      <td>250</td>\n",
       "      <td>1533</td>\n",
       "      <td>0</td>\n",
       "      <td>0</td>\n",
       "      <td>0</td>\n",
       "      <td>0</td>\n",
       "      <td>2</td>\n",
       "    </tr>\n",
       "    <tr>\n",
       "      <th>2</th>\n",
       "      <td>8</td>\n",
       "      <td>50282</td>\n",
       "      <td>1</td>\n",
       "      <td>1</td>\n",
       "      <td>0</td>\n",
       "      <td>0</td>\n",
       "      <td>0</td>\n",
       "      <td>750</td>\n",
       "      <td>1302</td>\n",
       "      <td>0</td>\n",
       "      <td>0</td>\n",
       "      <td>0</td>\n",
       "      <td>0</td>\n",
       "      <td>2</td>\n",
       "    </tr>\n",
       "    <tr>\n",
       "      <th>3</th>\n",
       "      <td>8</td>\n",
       "      <td>11391</td>\n",
       "      <td>1</td>\n",
       "      <td>1</td>\n",
       "      <td>0</td>\n",
       "      <td>0</td>\n",
       "      <td>1</td>\n",
       "      <td>3750</td>\n",
       "      <td>5191</td>\n",
       "      <td>0</td>\n",
       "      <td>0</td>\n",
       "      <td>0</td>\n",
       "      <td>0</td>\n",
       "      <td>2</td>\n",
       "    </tr>\n",
       "    <tr>\n",
       "      <th>4</th>\n",
       "      <td>8</td>\n",
       "      <td>27349</td>\n",
       "      <td>1</td>\n",
       "      <td>1</td>\n",
       "      <td>0</td>\n",
       "      <td>0</td>\n",
       "      <td>0</td>\n",
       "      <td>250</td>\n",
       "      <td>800</td>\n",
       "      <td>0</td>\n",
       "      <td>0</td>\n",
       "      <td>0</td>\n",
       "      <td>0</td>\n",
       "      <td>2</td>\n",
       "    </tr>\n",
       "  </tbody>\n",
       "</table>\n",
       "</div>"
      ]
     },
     "metadata": {},
     "execution_count": 6
    }
   ],
   "metadata": {}
  },
  {
   "cell_type": "code",
   "execution_count": 7,
   "source": [
    "finish_rates = []\n",
    "stay_rates = []\n",
    "is_firsts = []\n",
    "actions = []\n",
    "\n",
    "d = d.sort_values(['date_'], ascending=True)\n",
    "m = defaultdict(int)\n",
    "for row in tqdm(d.itertuples(), total=len(d), desc='user_action'):\n",
    "  row = row._asdict()\n",
    "  vtime = min(feeds[row['feedid']]['videoplayseconds'], 60) * 1000 # to ms\n",
    "  vtime = feeds[row['feedid']]['videoplayseconds'] * 1000 # to ms\n",
    "  finish_rates.append(row['play'] / vtime)\n",
    "  stay_rates.append(row['stay'] / vtime)\n",
    "  userid = row['userid']\n",
    "  feedid = row['feedid']\n",
    "  key = f'{userid}_{feedid}'\n",
    "  m[key] += 1\n",
    "  is_firsts.append(int(m[key] == 1))\n",
    "  actions.append(num_actions(row))\n",
    "d['finish_rate'] = finish_rates\n",
    "d['stay_rate'] = stay_rates\n",
    "d['is_first'] = is_firsts\n",
    "d['actions'] = actions"
   ],
   "outputs": [
    {
     "output_type": "display_data",
     "data": {
      "text/plain": [
       "user_action:   0%|          | 0/7317882 [00:00<?, ?it/s]"
      ],
      "application/vnd.jupyter.widget-view+json": {
       "version_major": 2,
       "version_minor": 0,
       "model_id": "84b2613300954222ba1a8fda070687f5"
      }
     },
     "metadata": {}
    }
   ],
   "metadata": {}
  },
  {
   "cell_type": "code",
   "execution_count": 8,
   "source": [
    "# d.head()"
   ],
   "outputs": [],
   "metadata": {}
  },
  {
   "cell_type": "code",
   "execution_count": 9,
   "source": [
    "# d.describe()"
   ],
   "outputs": [],
   "metadata": {}
  },
  {
   "cell_type": "code",
   "execution_count": 10,
   "source": [
    "# timer = gezi.Timer('save user_action2.csv')\n",
    "# d.to_csv('../input/user_action2.csv', index=False)\n",
    "# timer.print_elapsed()"
   ],
   "outputs": [],
   "metadata": {}
  },
  {
   "cell_type": "code",
   "execution_count": 14,
   "source": [
    "# timer = gezi.Timer('read user_action2.csv', True)\n",
    "# d = pd.read_csv('../input/user_action2.csv')\n",
    "# d.feedid = d.feedid.astype(int)\n",
    "# d.userid = d.userid.astype(int)\n",
    "# d.date_ = d.date_.astype(int)\n",
    "# timer.print_elapsed()\n",
    "timer = gezi.Timer('save user_action2.feather', True)\n",
    "d.reset_index().to_feather('../input/user_action2.feather')\n",
    "timer.print()"
   ],
   "outputs": [
    {
     "output_type": "stream",
     "name": "stdout",
     "text": [
      "save user_action2.feather start\n",
      "save user_action2.feather duration: 1.6008670330047607\n"
     ]
    }
   ],
   "metadata": {}
  },
  {
   "cell_type": "code",
   "execution_count": 15,
   "source": [
    "timer = gezi.Timer('read user_action2.feather', True)\n",
    "pd.read_feather('../input/user_action2.feather')\n",
    "timer.print()"
   ],
   "outputs": [
    {
     "output_type": "stream",
     "name": "stdout",
     "text": [
      "read user_action2.feather start\n",
      "read user_action2.feather duration: 0.9051821231842041\n"
     ]
    }
   ],
   "metadata": {}
  },
  {
   "cell_type": "code",
   "execution_count": 17,
   "source": [
    "for i in tqdm(range(14)):\n",
    "  day = i + 1\n",
    "  d[d.date_ == day].reset_index().to_feather(f'../input/user_action2_{day}.feather')"
   ],
   "outputs": [
    {
     "output_type": "display_data",
     "data": {
      "text/plain": [
       "  0%|          | 0/14 [00:00<?, ?it/s]"
      ],
      "application/vnd.jupyter.widget-view+json": {
       "version_major": 2,
       "version_minor": 0,
       "model_id": "4bc264a9a17946e38b7fd3f5d245d977"
      }
     },
     "metadata": {}
    }
   ],
   "metadata": {}
  },
  {
   "cell_type": "code",
   "execution_count": null,
   "source": [],
   "outputs": [],
   "metadata": {}
  },
  {
   "cell_type": "code",
   "execution_count": null,
   "source": [],
   "outputs": [],
   "metadata": {}
  }
 ],
 "metadata": {
  "kernelspec": {
   "name": "python3",
   "display_name": "Python 3.6.10 64-bit ('base': conda)"
  },
  "language_info": {
   "codemirror_mode": {
    "name": "ipython",
    "version": 3
   },
   "file_extension": ".py",
   "mimetype": "text/x-python",
   "name": "python",
   "nbconvert_exporter": "python",
   "pygments_lexer": "ipython3",
   "version": "3.6.10"
  },
  "interpreter": {
   "hash": "98b0a9b7b4eaaa670588a142fd0a9b87eaafe866f1db4228be72b4211d12040f"
  }
 },
 "nbformat": 4,
 "nbformat_minor": 4
}