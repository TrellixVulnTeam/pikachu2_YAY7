{
 "cells": [
  {
   "cell_type": "code",
   "execution_count": 1,
   "metadata": {},
   "outputs": [],
   "source": [
    "import numpy as np\n",
    "import pandas as pd\n",
    "from collections import OrderedDict, defaultdict, ChainMap, Counter\n",
    "import glob\n",
    "import sys \n",
    "import functools\n",
    "sys.path.append('..')\n",
    "sys.path.append('../../../../utils')\n",
    "sys.path.append('../../../../third')\n",
    "import dask.dataframe as dd\n",
    "from multiprocessing import Pool, Manager, cpu_count\n",
    "from joblib import Parallel, delayed\n",
    "import pymp\n",
    "import gezi\n",
    "from gezi import tqdm\n",
    "tqdm.pandas()"
   ]
  },
  {
   "cell_type": "code",
   "execution_count": 2,
   "metadata": {},
   "outputs": [],
   "source": [
    "ACTIONS = [\n",
    "  'read_comment',\n",
    "  'like',\t\n",
    "  'click_avatar',\t\n",
    "  'forward',\n",
    "  'favorite',\n",
    "  'comment',\t\n",
    "  'follow'\n",
    "]\n",
    "DAYS = 15"
   ]
  },
  {
   "cell_type": "code",
   "execution_count": 3,
   "metadata": {},
   "outputs": [],
   "source": [
    "d = pd.read_csv('../input/user_action2.csv')\n",
    "d.feedid = d.feedid.astype(int)\n",
    "d.userid = d.userid.astype(int)\n",
    "d.date_ = d.date_.astype(int)"
   ]
  },
  {
   "cell_type": "code",
   "execution_count": 4,
   "metadata": {},
   "outputs": [],
   "source": [
    "d = d.sort_values(['date_'], ascending=True)"
   ]
  },
  {
   "cell_type": "code",
   "execution_count": 5,
   "metadata": {},
   "outputs": [
    {
     "data": {
      "text/html": [
       "<div>\n",
       "<style scoped>\n",
       "    .dataframe tbody tr th:only-of-type {\n",
       "        vertical-align: middle;\n",
       "    }\n",
       "\n",
       "    .dataframe tbody tr th {\n",
       "        vertical-align: top;\n",
       "    }\n",
       "\n",
       "    .dataframe thead th {\n",
       "        text-align: right;\n",
       "    }\n",
       "</style>\n",
       "<table border=\"1\" class=\"dataframe\">\n",
       "  <thead>\n",
       "    <tr style=\"text-align: right;\">\n",
       "      <th></th>\n",
       "      <th>userid</th>\n",
       "      <th>feedid</th>\n",
       "      <th>date_</th>\n",
       "      <th>device</th>\n",
       "      <th>read_comment</th>\n",
       "      <th>comment</th>\n",
       "      <th>like</th>\n",
       "      <th>play</th>\n",
       "      <th>stay</th>\n",
       "      <th>click_avatar</th>\n",
       "      <th>forward</th>\n",
       "      <th>follow</th>\n",
       "      <th>favorite</th>\n",
       "      <th>finish_rate</th>\n",
       "      <th>stay_rate</th>\n",
       "      <th>is_first</th>\n",
       "      <th>actions</th>\n",
       "    </tr>\n",
       "  </thead>\n",
       "  <tbody>\n",
       "    <tr>\n",
       "      <th>0</th>\n",
       "      <td>8</td>\n",
       "      <td>71474</td>\n",
       "      <td>1</td>\n",
       "      <td>1</td>\n",
       "      <td>0</td>\n",
       "      <td>0</td>\n",
       "      <td>1</td>\n",
       "      <td>500</td>\n",
       "      <td>5366</td>\n",
       "      <td>0</td>\n",
       "      <td>0</td>\n",
       "      <td>0</td>\n",
       "      <td>0</td>\n",
       "      <td>0.045455</td>\n",
       "      <td>0.487818</td>\n",
       "      <td>1</td>\n",
       "      <td>1</td>\n",
       "    </tr>\n",
       "    <tr>\n",
       "      <th>319000</th>\n",
       "      <td>237907</td>\n",
       "      <td>3404</td>\n",
       "      <td>1</td>\n",
       "      <td>2</td>\n",
       "      <td>0</td>\n",
       "      <td>0</td>\n",
       "      <td>0</td>\n",
       "      <td>13573</td>\n",
       "      <td>13871</td>\n",
       "      <td>0</td>\n",
       "      <td>0</td>\n",
       "      <td>0</td>\n",
       "      <td>0</td>\n",
       "      <td>0.226217</td>\n",
       "      <td>0.231183</td>\n",
       "      <td>1</td>\n",
       "      <td>0</td>\n",
       "    </tr>\n",
       "    <tr>\n",
       "      <th>318999</th>\n",
       "      <td>237907</td>\n",
       "      <td>87814</td>\n",
       "      <td>1</td>\n",
       "      <td>2</td>\n",
       "      <td>0</td>\n",
       "      <td>0</td>\n",
       "      <td>0</td>\n",
       "      <td>0</td>\n",
       "      <td>333</td>\n",
       "      <td>0</td>\n",
       "      <td>0</td>\n",
       "      <td>0</td>\n",
       "      <td>0</td>\n",
       "      <td>0.000000</td>\n",
       "      <td>0.005550</td>\n",
       "      <td>1</td>\n",
       "      <td>0</td>\n",
       "    </tr>\n",
       "    <tr>\n",
       "      <th>318998</th>\n",
       "      <td>237907</td>\n",
       "      <td>58723</td>\n",
       "      <td>1</td>\n",
       "      <td>2</td>\n",
       "      <td>0</td>\n",
       "      <td>0</td>\n",
       "      <td>0</td>\n",
       "      <td>0</td>\n",
       "      <td>1973</td>\n",
       "      <td>0</td>\n",
       "      <td>0</td>\n",
       "      <td>0</td>\n",
       "      <td>0</td>\n",
       "      <td>0.000000</td>\n",
       "      <td>0.078920</td>\n",
       "      <td>1</td>\n",
       "      <td>0</td>\n",
       "    </tr>\n",
       "    <tr>\n",
       "      <th>318997</th>\n",
       "      <td>82352</td>\n",
       "      <td>69580</td>\n",
       "      <td>1</td>\n",
       "      <td>2</td>\n",
       "      <td>0</td>\n",
       "      <td>0</td>\n",
       "      <td>0</td>\n",
       "      <td>13241</td>\n",
       "      <td>13496</td>\n",
       "      <td>0</td>\n",
       "      <td>0</td>\n",
       "      <td>0</td>\n",
       "      <td>0</td>\n",
       "      <td>1.203727</td>\n",
       "      <td>1.226909</td>\n",
       "      <td>1</td>\n",
       "      <td>0</td>\n",
       "    </tr>\n",
       "  </tbody>\n",
       "</table>\n",
       "</div>"
      ],
      "text/plain": [
       "        userid  feedid  date_  device  read_comment  comment  like   play  \\\n",
       "0            8   71474      1       1             0        0     1    500   \n",
       "319000  237907    3404      1       2             0        0     0  13573   \n",
       "318999  237907   87814      1       2             0        0     0      0   \n",
       "318998  237907   58723      1       2             0        0     0      0   \n",
       "318997   82352   69580      1       2             0        0     0  13241   \n",
       "\n",
       "         stay  click_avatar  forward  follow  favorite  finish_rate  \\\n",
       "0        5366             0        0       0         0     0.045455   \n",
       "319000  13871             0        0       0         0     0.226217   \n",
       "318999    333             0        0       0         0     0.000000   \n",
       "318998   1973             0        0       0         0     0.000000   \n",
       "318997  13496             0        0       0         0     1.203727   \n",
       "\n",
       "        stay_rate  is_first  actions  \n",
       "0        0.487818         1        1  \n",
       "319000   0.231183         1        0  \n",
       "318999   0.005550         1        0  \n",
       "318998   0.078920         1        0  \n",
       "318997   1.226909         1        0  "
      ]
     },
     "execution_count": 5,
     "metadata": {},
     "output_type": "execute_result"
    }
   ],
   "source": [
    "d.head()"
   ]
  },
  {
   "cell_type": "code",
   "execution_count": 6,
   "metadata": {},
   "outputs": [
    {
     "data": {
      "text/plain": [
       "0.03501586934580252"
      ]
     },
     "execution_count": 6,
     "metadata": {},
     "output_type": "execute_result"
    }
   ],
   "source": [
    "d.read_comment.mean()"
   ]
  },
  {
   "cell_type": "code",
   "execution_count": 6,
   "metadata": {},
   "outputs": [
    {
     "data": {
      "application/vnd.jupyter.widget-view+json": {
       "model_id": "354502a8987e4e70b54b26d38b2b657d",
       "version_major": 2,
       "version_minor": 0
      },
      "text/plain": [
       "  0%|          | 0/96564 [00:00<?, ?it/s]"
      ]
     },
     "metadata": {},
     "output_type": "display_data"
    }
   ],
   "source": [
    "dates = d.groupby(['feedid'])['date_'].progress_apply(list).reset_index(name='dates')"
   ]
  },
  {
   "cell_type": "code",
   "execution_count": 7,
   "metadata": {},
   "outputs": [],
   "source": [
    "dates['dates'] = dates.dates.apply(lambda x:dict(Counter(x)))"
   ]
  },
  {
   "cell_type": "code",
   "execution_count": 8,
   "metadata": {},
   "outputs": [
    {
     "data": {
      "text/html": [
       "<div>\n",
       "<style scoped>\n",
       "    .dataframe tbody tr th:only-of-type {\n",
       "        vertical-align: middle;\n",
       "    }\n",
       "\n",
       "    .dataframe tbody tr th {\n",
       "        vertical-align: top;\n",
       "    }\n",
       "\n",
       "    .dataframe thead th {\n",
       "        text-align: right;\n",
       "    }\n",
       "</style>\n",
       "<table border=\"1\" class=\"dataframe\">\n",
       "  <thead>\n",
       "    <tr style=\"text-align: right;\">\n",
       "      <th></th>\n",
       "      <th>feedid</th>\n",
       "      <th>dates</th>\n",
       "    </tr>\n",
       "  </thead>\n",
       "  <tbody>\n",
       "    <tr>\n",
       "      <th>0</th>\n",
       "      <td>0</td>\n",
       "      <td>{10: 1}</td>\n",
       "    </tr>\n",
       "    <tr>\n",
       "      <th>1</th>\n",
       "      <td>1</td>\n",
       "      <td>{1: 3, 3: 22, 4: 15, 5: 10, 6: 6}</td>\n",
       "    </tr>\n",
       "    <tr>\n",
       "      <th>2</th>\n",
       "      <td>3</td>\n",
       "      <td>{11: 2, 14: 1}</td>\n",
       "    </tr>\n",
       "    <tr>\n",
       "      <th>3</th>\n",
       "      <td>4</td>\n",
       "      <td>{1: 2, 2: 4, 4: 2, 5: 1}</td>\n",
       "    </tr>\n",
       "    <tr>\n",
       "      <th>4</th>\n",
       "      <td>6</td>\n",
       "      <td>{1: 1, 2: 1}</td>\n",
       "    </tr>\n",
       "    <tr>\n",
       "      <th>...</th>\n",
       "      <td>...</td>\n",
       "      <td>...</td>\n",
       "    </tr>\n",
       "    <tr>\n",
       "      <th>96559</th>\n",
       "      <td>112866</td>\n",
       "      <td>{6: 4, 7: 3, 9: 1, 10: 1, 11: 3, 12: 3, 13: 4}</td>\n",
       "    </tr>\n",
       "    <tr>\n",
       "      <th>96560</th>\n",
       "      <td>112868</td>\n",
       "      <td>{11: 132, 12: 82, 13: 73, 14: 48}</td>\n",
       "    </tr>\n",
       "    <tr>\n",
       "      <th>96561</th>\n",
       "      <td>112869</td>\n",
       "      <td>{13: 7, 14: 14}</td>\n",
       "    </tr>\n",
       "    <tr>\n",
       "      <th>96562</th>\n",
       "      <td>112870</td>\n",
       "      <td>{1: 2, 3: 1, 4: 3, 6: 1}</td>\n",
       "    </tr>\n",
       "    <tr>\n",
       "      <th>96563</th>\n",
       "      <td>112871</td>\n",
       "      <td>{12: 8, 13: 5, 14: 2}</td>\n",
       "    </tr>\n",
       "  </tbody>\n",
       "</table>\n",
       "<p>96564 rows × 2 columns</p>\n",
       "</div>"
      ],
      "text/plain": [
       "       feedid                                           dates\n",
       "0           0                                         {10: 1}\n",
       "1           1               {1: 3, 3: 22, 4: 15, 5: 10, 6: 6}\n",
       "2           3                                  {11: 2, 14: 1}\n",
       "3           4                        {1: 2, 2: 4, 4: 2, 5: 1}\n",
       "4           6                                    {1: 1, 2: 1}\n",
       "...       ...                                             ...\n",
       "96559  112866  {6: 4, 7: 3, 9: 1, 10: 1, 11: 3, 12: 3, 13: 4}\n",
       "96560  112868               {11: 132, 12: 82, 13: 73, 14: 48}\n",
       "96561  112869                                 {13: 7, 14: 14}\n",
       "96562  112870                        {1: 2, 3: 1, 4: 3, 6: 1}\n",
       "96563  112871                           {12: 8, 13: 5, 14: 2}\n",
       "\n",
       "[96564 rows x 2 columns]"
      ]
     },
     "execution_count": 8,
     "metadata": {},
     "output_type": "execute_result"
    }
   ],
   "source": [
    "dates"
   ]
  },
  {
   "cell_type": "code",
   "execution_count": 9,
   "metadata": {},
   "outputs": [],
   "source": [
    "dates['start_day'] = dates.dates.apply(lambda x: min(x.keys()))"
   ]
  },
  {
   "cell_type": "code",
   "execution_count": 10,
   "metadata": {},
   "outputs": [
    {
     "data": {
      "text/html": [
       "<div>\n",
       "<style scoped>\n",
       "    .dataframe tbody tr th:only-of-type {\n",
       "        vertical-align: middle;\n",
       "    }\n",
       "\n",
       "    .dataframe tbody tr th {\n",
       "        vertical-align: top;\n",
       "    }\n",
       "\n",
       "    .dataframe thead th {\n",
       "        text-align: right;\n",
       "    }\n",
       "</style>\n",
       "<table border=\"1\" class=\"dataframe\">\n",
       "  <thead>\n",
       "    <tr style=\"text-align: right;\">\n",
       "      <th></th>\n",
       "      <th>feedid</th>\n",
       "      <th>dates</th>\n",
       "      <th>start_day</th>\n",
       "    </tr>\n",
       "  </thead>\n",
       "  <tbody>\n",
       "    <tr>\n",
       "      <th>0</th>\n",
       "      <td>0</td>\n",
       "      <td>{10: 1}</td>\n",
       "      <td>10</td>\n",
       "    </tr>\n",
       "    <tr>\n",
       "      <th>1</th>\n",
       "      <td>1</td>\n",
       "      <td>{1: 3, 3: 22, 4: 15, 5: 10, 6: 6}</td>\n",
       "      <td>1</td>\n",
       "    </tr>\n",
       "    <tr>\n",
       "      <th>2</th>\n",
       "      <td>3</td>\n",
       "      <td>{11: 2, 14: 1}</td>\n",
       "      <td>11</td>\n",
       "    </tr>\n",
       "    <tr>\n",
       "      <th>3</th>\n",
       "      <td>4</td>\n",
       "      <td>{1: 2, 2: 4, 4: 2, 5: 1}</td>\n",
       "      <td>1</td>\n",
       "    </tr>\n",
       "    <tr>\n",
       "      <th>4</th>\n",
       "      <td>6</td>\n",
       "      <td>{1: 1, 2: 1}</td>\n",
       "      <td>1</td>\n",
       "    </tr>\n",
       "    <tr>\n",
       "      <th>...</th>\n",
       "      <td>...</td>\n",
       "      <td>...</td>\n",
       "      <td>...</td>\n",
       "    </tr>\n",
       "    <tr>\n",
       "      <th>96559</th>\n",
       "      <td>112866</td>\n",
       "      <td>{6: 4, 7: 3, 9: 1, 10: 1, 11: 3, 12: 3, 13: 4}</td>\n",
       "      <td>6</td>\n",
       "    </tr>\n",
       "    <tr>\n",
       "      <th>96560</th>\n",
       "      <td>112868</td>\n",
       "      <td>{11: 132, 12: 82, 13: 73, 14: 48}</td>\n",
       "      <td>11</td>\n",
       "    </tr>\n",
       "    <tr>\n",
       "      <th>96561</th>\n",
       "      <td>112869</td>\n",
       "      <td>{13: 7, 14: 14}</td>\n",
       "      <td>13</td>\n",
       "    </tr>\n",
       "    <tr>\n",
       "      <th>96562</th>\n",
       "      <td>112870</td>\n",
       "      <td>{1: 2, 3: 1, 4: 3, 6: 1}</td>\n",
       "      <td>1</td>\n",
       "    </tr>\n",
       "    <tr>\n",
       "      <th>96563</th>\n",
       "      <td>112871</td>\n",
       "      <td>{12: 8, 13: 5, 14: 2}</td>\n",
       "      <td>12</td>\n",
       "    </tr>\n",
       "  </tbody>\n",
       "</table>\n",
       "<p>96564 rows × 3 columns</p>\n",
       "</div>"
      ],
      "text/plain": [
       "       feedid                                           dates  start_day\n",
       "0           0                                         {10: 1}         10\n",
       "1           1               {1: 3, 3: 22, 4: 15, 5: 10, 6: 6}          1\n",
       "2           3                                  {11: 2, 14: 1}         11\n",
       "3           4                        {1: 2, 2: 4, 4: 2, 5: 1}          1\n",
       "4           6                                    {1: 1, 2: 1}          1\n",
       "...       ...                                             ...        ...\n",
       "96559  112866  {6: 4, 7: 3, 9: 1, 10: 1, 11: 3, 12: 3, 13: 4}          6\n",
       "96560  112868               {11: 132, 12: 82, 13: 73, 14: 48}         11\n",
       "96561  112869                                 {13: 7, 14: 14}         13\n",
       "96562  112870                        {1: 2, 3: 1, 4: 3, 6: 1}          1\n",
       "96563  112871                           {12: 8, 13: 5, 14: 2}         12\n",
       "\n",
       "[96564 rows x 3 columns]"
      ]
     },
     "execution_count": 10,
     "metadata": {},
     "output_type": "execute_result"
    }
   ],
   "source": [
    "dates"
   ]
  },
  {
   "cell_type": "code",
   "execution_count": 40,
   "metadata": {},
   "outputs": [],
   "source": [
    "doc_dynamic_feature = {}\n",
    "for feedid in d.feedid.values:\n",
    "  doc_dynamic_feature[int(feedid)] = {}"
   ]
  },
  {
   "cell_type": "code",
   "execution_count": 41,
   "metadata": {},
   "outputs": [
    {
     "data": {
      "application/vnd.jupyter.widget-view+json": {
       "model_id": "73e4f0bce2fc4fdabbf5d14eae316372",
       "version_major": 2,
       "version_minor": 0
      },
      "text/plain": [
       "shows:   0%|          | 0/96564 [00:00<?, ?it/s]"
      ]
     },
     "metadata": {},
     "output_type": "display_data"
    }
   ],
   "source": [
    "days = DAYS\n",
    "for row in tqdm(dates.itertuples(), total=len(dates), desc='shows'):\n",
    "  row = row._asdict()\n",
    "  dates_ = row['dates']\n",
    "  shows = [0] * (days + 1)\n",
    "  for i in range(days):\n",
    "    i += 1\n",
    "    if i in dates_:\n",
    "      shows[i] = dates_[i]\n",
    "  doc_dynamic_feature[int(row['feedid'])]['shows'] = shows"
   ]
  },
  {
   "cell_type": "code",
   "execution_count": 42,
   "metadata": {},
   "outputs": [
    {
     "data": {
      "text/plain": [
       "{'shows': [0, 64, 42, 60, 73, 40, 20, 20, 15, 18, 27, 14, 4, 4, 0, 0]}"
      ]
     },
     "execution_count": 42,
     "metadata": {},
     "output_type": "execute_result"
    }
   ],
   "source": [
    "doc_dynamic_feature[d.feedid.values[0]]"
   ]
  },
  {
   "cell_type": "code",
   "execution_count": 27,
   "metadata": {},
   "outputs": [],
   "source": [
    "def gen_doc_dynamic(d, feedids=None):\n",
    "  if feedids is not None:\n",
    "    d = d[d.feedid.isin(set(feedids))]\n",
    "  dg = d.groupby(['feedid', 'date_'])\n",
    "  actions = ACTIONS + ['actions', 'finish_rate', 'stay_rate']\n",
    "  doc_dynamic_feature = {}\n",
    "  for feedid in d.feedid.values:\n",
    "    doc_dynamic_feature[int(feedid)] = {}\n",
    "  t = tqdm(actions)\n",
    "  for action in t:\n",
    "    t.set_postfix({'action': action})\n",
    "    da = dg[action].progress_apply(sum).reset_index(name=f'{action}_count')\n",
    "    days = DAYS\n",
    "    for row in tqdm(da.itertuples(), total=len(da), desc=f'{action}_count'):\n",
    "      row = row._asdict()\n",
    "      date = row['date_']\n",
    "      feedid = int(row['feedid'])\n",
    "      ddf = doc_dynamic_feature[int(row['feedid'])]\n",
    "      if action not in ddf:\n",
    "        ddf[action] = [0] * (days + 1)\n",
    "\n",
    "      ddf[action][date] = row[f'{action}_count']\n",
    "  return doc_dynamic_feature"
   ]
  },
  {
   "cell_type": "code",
   "execution_count": 17,
   "metadata": {},
   "outputs": [],
   "source": [
    "# gen_doc_dynamic(d)"
   ]
  },
  {
   "cell_type": "code",
   "execution_count": 28,
   "metadata": {},
   "outputs": [
    {
     "data": {
      "application/vnd.jupyter.widget-view+json": {
       "model_id": "464fbe12461f447ea09af010702e301b",
       "version_major": 2,
       "version_minor": 0
      },
      "text/plain": [
       "  0%|          | 0/10 [00:00<?, ?it/s]"
      ]
     },
     "metadata": {},
     "output_type": "display_data"
    },
    {
     "data": {
      "application/vnd.jupyter.widget-view+json": {
       "model_id": "59117dead3c144fb97a5d9825209b0a6",
       "version_major": 2,
       "version_minor": 0
      },
      "text/plain": [
       "  0%|          | 0/5069 [00:00<?, ?it/s]"
      ]
     },
     "metadata": {},
     "output_type": "display_data"
    },
    {
     "data": {
      "application/vnd.jupyter.widget-view+json": {
       "model_id": "92de1c2e94324c249c04bf917501b491",
       "version_major": 2,
       "version_minor": 0
      },
      "text/plain": [
       "read_comment_count:   0%|          | 0/5069 [00:00<?, ?it/s]"
      ]
     },
     "metadata": {},
     "output_type": "display_data"
    },
    {
     "data": {
      "application/vnd.jupyter.widget-view+json": {
       "model_id": "add98277674a46bf85d8119ef4156a5e",
       "version_major": 2,
       "version_minor": 0
      },
      "text/plain": [
       "  0%|          | 0/5069 [00:00<?, ?it/s]"
      ]
     },
     "metadata": {},
     "output_type": "display_data"
    },
    {
     "data": {
      "application/vnd.jupyter.widget-view+json": {
       "model_id": "51c3c86cf1f6400384caf766d0bf6948",
       "version_major": 2,
       "version_minor": 0
      },
      "text/plain": [
       "like_count:   0%|          | 0/5069 [00:00<?, ?it/s]"
      ]
     },
     "metadata": {},
     "output_type": "display_data"
    },
    {
     "data": {
      "application/vnd.jupyter.widget-view+json": {
       "model_id": "04d0b6afc0b44e4ea0d152de566fae7d",
       "version_major": 2,
       "version_minor": 0
      },
      "text/plain": [
       "  0%|          | 0/5069 [00:00<?, ?it/s]"
      ]
     },
     "metadata": {},
     "output_type": "display_data"
    },
    {
     "data": {
      "application/vnd.jupyter.widget-view+json": {
       "model_id": "e52c2f0072014bccb8e0e287fda1f94c",
       "version_major": 2,
       "version_minor": 0
      },
      "text/plain": [
       "click_avatar_count:   0%|          | 0/5069 [00:00<?, ?it/s]"
      ]
     },
     "metadata": {},
     "output_type": "display_data"
    },
    {
     "data": {
      "application/vnd.jupyter.widget-view+json": {
       "model_id": "8bfc751f5faa4dc29b74c1ef4755b857",
       "version_major": 2,
       "version_minor": 0
      },
      "text/plain": [
       "  0%|          | 0/5069 [00:00<?, ?it/s]"
      ]
     },
     "metadata": {},
     "output_type": "display_data"
    },
    {
     "data": {
      "application/vnd.jupyter.widget-view+json": {
       "model_id": "2ca5bd9479474fd698fc00d7ad24de91",
       "version_major": 2,
       "version_minor": 0
      },
      "text/plain": [
       "forward_count:   0%|          | 0/5069 [00:00<?, ?it/s]"
      ]
     },
     "metadata": {},
     "output_type": "display_data"
    },
    {
     "data": {
      "application/vnd.jupyter.widget-view+json": {
       "model_id": "35d1d3bd3d0e4a48b328c1e1047acbe2",
       "version_major": 2,
       "version_minor": 0
      },
      "text/plain": [
       "  0%|          | 0/5069 [00:00<?, ?it/s]"
      ]
     },
     "metadata": {},
     "output_type": "display_data"
    },
    {
     "data": {
      "application/vnd.jupyter.widget-view+json": {
       "model_id": "b7fa33a29742467b9d6119ead99f6e67",
       "version_major": 2,
       "version_minor": 0
      },
      "text/plain": [
       "favorite_count:   0%|          | 0/5069 [00:00<?, ?it/s]"
      ]
     },
     "metadata": {},
     "output_type": "display_data"
    },
    {
     "data": {
      "application/vnd.jupyter.widget-view+json": {
       "model_id": "0a63f5bf8db540d7809fd9c261f6e6d4",
       "version_major": 2,
       "version_minor": 0
      },
      "text/plain": [
       "  0%|          | 0/5069 [00:00<?, ?it/s]"
      ]
     },
     "metadata": {},
     "output_type": "display_data"
    },
    {
     "data": {
      "application/vnd.jupyter.widget-view+json": {
       "model_id": "9b9c3dced9294d92b1250e0d5e449795",
       "version_major": 2,
       "version_minor": 0
      },
      "text/plain": [
       "comment_count:   0%|          | 0/5069 [00:00<?, ?it/s]"
      ]
     },
     "metadata": {},
     "output_type": "display_data"
    },
    {
     "data": {
      "application/vnd.jupyter.widget-view+json": {
       "model_id": "8b566febc1054d788d70c293f29d878e",
       "version_major": 2,
       "version_minor": 0
      },
      "text/plain": [
       "  0%|          | 0/5069 [00:00<?, ?it/s]"
      ]
     },
     "metadata": {},
     "output_type": "display_data"
    },
    {
     "data": {
      "application/vnd.jupyter.widget-view+json": {
       "model_id": "a7316f81e6454b27b1a1244a8e6fdb27",
       "version_major": 2,
       "version_minor": 0
      },
      "text/plain": [
       "follow_count:   0%|          | 0/5069 [00:00<?, ?it/s]"
      ]
     },
     "metadata": {},
     "output_type": "display_data"
    },
    {
     "data": {
      "application/vnd.jupyter.widget-view+json": {
       "model_id": "d1ed2032bb9a4a98afad0c7d9d4af0a8",
       "version_major": 2,
       "version_minor": 0
      },
      "text/plain": [
       "  0%|          | 0/5069 [00:00<?, ?it/s]"
      ]
     },
     "metadata": {},
     "output_type": "display_data"
    },
    {
     "data": {
      "application/vnd.jupyter.widget-view+json": {
       "model_id": "e918a295d3ba45afa0ffa1514ba0b545",
       "version_major": 2,
       "version_minor": 0
      },
      "text/plain": [
       "actions_count:   0%|          | 0/5069 [00:00<?, ?it/s]"
      ]
     },
     "metadata": {},
     "output_type": "display_data"
    },
    {
     "data": {
      "application/vnd.jupyter.widget-view+json": {
       "model_id": "f0d09b98a3eb45d39e12045992185d9d",
       "version_major": 2,
       "version_minor": 0
      },
      "text/plain": [
       "  0%|          | 0/5069 [00:00<?, ?it/s]"
      ]
     },
     "metadata": {},
     "output_type": "display_data"
    },
    {
     "data": {
      "application/vnd.jupyter.widget-view+json": {
       "model_id": "d7909bedb3b844fb8f0ce7c14ac9e82f",
       "version_major": 2,
       "version_minor": 0
      },
      "text/plain": [
       "finish_rate_count:   0%|          | 0/5069 [00:00<?, ?it/s]"
      ]
     },
     "metadata": {},
     "output_type": "display_data"
    },
    {
     "data": {
      "application/vnd.jupyter.widget-view+json": {
       "model_id": "9a051d962c204dd8843c13ba56801e5a",
       "version_major": 2,
       "version_minor": 0
      },
      "text/plain": [
       "  0%|          | 0/5069 [00:00<?, ?it/s]"
      ]
     },
     "metadata": {},
     "output_type": "display_data"
    },
    {
     "data": {
      "application/vnd.jupyter.widget-view+json": {
       "model_id": "a3770da8105644aeb4bedc45fe250bdd",
       "version_major": 2,
       "version_minor": 0
      },
      "text/plain": [
       "stay_rate_count:   0%|          | 0/5069 [00:00<?, ?it/s]"
      ]
     },
     "metadata": {},
     "output_type": "display_data"
    }
   ],
   "source": [
    "import pymp\n",
    "nw = cpu_count()\n",
    "feedids_list = np.array_split(list(set(d.feedid)), nw)\n",
    "res = Manager().dict()\n",
    "with pymp.Parallel(nw) as p:\n",
    "  for i in p.range(nw):\n",
    "    res[i] = gen_doc_dynamic(d, feedids_list[i])"
   ]
  },
  {
   "cell_type": "code",
   "execution_count": 30,
   "metadata": {},
   "outputs": [],
   "source": [
    "doc_dynamic_feature2 = dict(ChainMap(*res.values()))"
   ]
  },
  {
   "cell_type": "code",
   "execution_count": 43,
   "metadata": {},
   "outputs": [],
   "source": [
    "for feedid in doc_dynamic_feature:\n",
    "  doc_dynamic_feature[feedid].update(doc_dynamic_feature2[feedid])"
   ]
  },
  {
   "cell_type": "code",
   "execution_count": 44,
   "metadata": {},
   "outputs": [
    {
     "data": {
      "text/plain": [
       "{'shows': [0, 64, 42, 60, 73, 40, 20, 20, 15, 18, 27, 14, 4, 4, 0, 0],\n",
       " 'read_comment': [0, 5, 5, 2, 1, 4, 0, 3, 1, 3, 2, 2, 0, 1, 0, 0],\n",
       " 'like': [0, 2, 1, 1, 3, 3, 4, 2, 1, 1, 3, 3, 0, 1, 0, 0],\n",
       " 'click_avatar': [0, 0, 1, 0, 1, 0, 0, 0, 0, 0, 0, 0, 0, 0, 0, 0],\n",
       " 'forward': [0, 1, 0, 0, 0, 0, 0, 0, 0, 0, 0, 0, 0, 0, 0, 0],\n",
       " 'favorite': [0, 0, 0, 0, 0, 0, 0, 0, 0, 0, 0, 0, 0, 0, 0, 0],\n",
       " 'comment': [0, 0, 0, 0, 0, 0, 0, 0, 0, 0, 0, 0, 0, 0, 0, 0],\n",
       " 'follow': [0, 0, 0, 0, 0, 0, 0, 0, 0, 0, 0, 0, 0, 0, 0, 0],\n",
       " 'actions': [0, 8, 7, 3, 5, 7, 4, 5, 2, 4, 5, 5, 0, 2, 0, 0],\n",
       " 'finish_rate': [0,\n",
       "  32.64390909090909,\n",
       "  27.221,\n",
       "  36.043,\n",
       "  32.32454545454546,\n",
       "  28.948545454545453,\n",
       "  11.886545454545457,\n",
       "  11.411636363636365,\n",
       "  9.01518181818182,\n",
       "  9.865727272727272,\n",
       "  11.901727272727273,\n",
       "  8.07690909090909,\n",
       "  3.9398181818181817,\n",
       "  3.9409090909090914,\n",
       "  0,\n",
       "  0],\n",
       " 'stay_rate': [0,\n",
       "  42.20454545454545,\n",
       "  37.18063636363637,\n",
       "  44.575545454545455,\n",
       "  50.346000000000004,\n",
       "  38.80199999999999,\n",
       "  15.386454545454546,\n",
       "  16.72827272727273,\n",
       "  13.427727272727271,\n",
       "  14.811727272727273,\n",
       "  14.644272727272728,\n",
       "  9.27081818181818,\n",
       "  4.167363636363636,\n",
       "  4.201727272727273,\n",
       "  0,\n",
       "  0]}"
      ]
     },
     "execution_count": 44,
     "metadata": {},
     "output_type": "execute_result"
    }
   ],
   "source": [
    "doc_dynamic_feature[d.feedid.values[0]]"
   ]
  },
  {
   "cell_type": "code",
   "execution_count": 52,
   "metadata": {},
   "outputs": [
    {
     "data": {
      "text/html": [
       "<div>\n",
       "<style scoped>\n",
       "    .dataframe tbody tr th:only-of-type {\n",
       "        vertical-align: middle;\n",
       "    }\n",
       "\n",
       "    .dataframe tbody tr th {\n",
       "        vertical-align: top;\n",
       "    }\n",
       "\n",
       "    .dataframe thead th {\n",
       "        text-align: right;\n",
       "    }\n",
       "</style>\n",
       "<table border=\"1\" class=\"dataframe\">\n",
       "  <thead>\n",
       "    <tr style=\"text-align: right;\">\n",
       "      <th></th>\n",
       "      <th>feedid</th>\n",
       "      <th>dates</th>\n",
       "      <th>start_day</th>\n",
       "    </tr>\n",
       "  </thead>\n",
       "  <tbody>\n",
       "    <tr>\n",
       "      <th>31261</th>\n",
       "      <td>36523</td>\n",
       "      <td>{14: 950}</td>\n",
       "      <td>14</td>\n",
       "    </tr>\n",
       "  </tbody>\n",
       "</table>\n",
       "</div>"
      ],
      "text/plain": [
       "       feedid      dates  start_day\n",
       "31261   36523  {14: 950}         14"
      ]
     },
     "execution_count": 52,
     "metadata": {},
     "output_type": "execute_result"
    }
   ],
   "source": [
    "dates[dates.feedid==36523]"
   ]
  },
  {
   "cell_type": "code",
   "execution_count": 49,
   "metadata": {},
   "outputs": [
    {
     "data": {
      "text/plain": [
       "{'shows': [0, 0, 0, 0, 0, 0, 0, 0, 0, 0, 0, 0, 0, 0, 950, 0],\n",
       " 'read_comment': [0, 0, 0, 0, 0, 0, 0, 0, 0, 0, 0, 0, 0, 0, 12, 0],\n",
       " 'like': [0, 0, 0, 0, 0, 0, 0, 0, 0, 0, 0, 0, 0, 0, 26, 0],\n",
       " 'click_avatar': [0, 0, 0, 0, 0, 0, 0, 0, 0, 0, 0, 0, 0, 0, 7, 0],\n",
       " 'forward': [0, 0, 0, 0, 0, 0, 0, 0, 0, 0, 0, 0, 0, 0, 0, 0],\n",
       " 'favorite': [0, 0, 0, 0, 0, 0, 0, 0, 0, 0, 0, 0, 0, 0, 0, 0],\n",
       " 'comment': [0, 0, 0, 0, 0, 0, 0, 0, 0, 0, 0, 0, 0, 0, 0, 0],\n",
       " 'follow': [0, 0, 0, 0, 0, 0, 0, 0, 0, 0, 0, 0, 0, 0, 0, 0],\n",
       " 'actions': [0, 0, 0, 0, 0, 0, 0, 0, 0, 0, 0, 0, 0, 0, 45, 0],\n",
       " 'finish_rate': [0,\n",
       "  0,\n",
       "  0,\n",
       "  0,\n",
       "  0,\n",
       "  0,\n",
       "  0,\n",
       "  0,\n",
       "  0,\n",
       "  0,\n",
       "  0,\n",
       "  0,\n",
       "  0,\n",
       "  0,\n",
       "  1326.4539736842105,\n",
       "  0],\n",
       " 'stay_rate': [0, 0, 0, 0, 0, 0, 0, 0, 0, 0, 0, 0, 0, 0, 1414.6835, 0]}"
      ]
     },
     "execution_count": 49,
     "metadata": {},
     "output_type": "execute_result"
    }
   ],
   "source": [
    "doc_dynamic_feature[36523]"
   ]
  },
  {
   "cell_type": "code",
   "execution_count": 45,
   "metadata": {},
   "outputs": [],
   "source": [
    "gezi.save_pickle(doc_dynamic_feature, '../input/doc_dynamic_feature.pkl')"
   ]
  },
  {
   "cell_type": "code",
   "execution_count": 46,
   "metadata": {},
   "outputs": [
    {
     "data": {
      "text/plain": [
       "0.9686956016196298"
      ]
     },
     "execution_count": 46,
     "metadata": {},
     "output_type": "execute_result"
    }
   ],
   "source": [
    "d.finish_rate.mean()"
   ]
  },
  {
   "cell_type": "code",
   "execution_count": 47,
   "metadata": {},
   "outputs": [
    {
     "data": {
      "text/plain": [
       "1.158361276127292"
      ]
     },
     "execution_count": 47,
     "metadata": {},
     "output_type": "execute_result"
    }
   ],
   "source": [
    "d.stay_rate.mean()"
   ]
  },
  {
   "cell_type": "code",
   "execution_count": null,
   "metadata": {},
   "outputs": [],
   "source": [
    "dates.to_csv('../input/doc_static_feature.csv', index=False)"
   ]
  },
  {
   "cell_type": "code",
   "execution_count": null,
   "metadata": {},
   "outputs": [],
   "source": [
    "dates2 = d.groupby(['userid'])['date_'].progress_apply(list).reset_index(name='dates')"
   ]
  },
  {
   "cell_type": "code",
   "execution_count": null,
   "metadata": {},
   "outputs": [],
   "source": [
    "dates2['dates'] = dates2.dates.apply(lambda x:dict(Counter(x)))"
   ]
  },
  {
   "cell_type": "code",
   "execution_count": null,
   "metadata": {},
   "outputs": [],
   "source": [
    "dates2"
   ]
  },
  {
   "cell_type": "code",
   "execution_count": null,
   "metadata": {},
   "outputs": [],
   "source": [
    "d.groupby(['date_'])['userid'].count()"
   ]
  },
  {
   "cell_type": "code",
   "execution_count": null,
   "metadata": {},
   "outputs": [],
   "source": [
    "d.groupby(['date_'])['feedid'].count()"
   ]
  },
  {
   "cell_type": "code",
   "execution_count": null,
   "metadata": {},
   "outputs": [],
   "source": [
    "import numpy as np\n",
    "\n",
    "def wilson_ctr(clks, imps, z=1.96):\n",
    "    \n",
    "    origin_ctr = clks * 1.0 / imps\n",
    "    \n",
    "    if origin_ctr > 0.9:\n",
    "        return 0.0\n",
    "    \n",
    "    n = imps\n",
    "    \n",
    "    first_part_numerator = origin_ctr + z**2 / (2*n)\n",
    "    second_part_numerator_2 = np.sqrt(origin_ctr * (1-origin_ctr) / n + z**2 / (4*(n**2)))\n",
    "    common_denominator = 1 + z**2 / n\n",
    "    second_part_numerator = z * second_part_numerator_2\n",
    "    \n",
    "\n",
    "    new_ctr = (first_part_numerator-second_part_numerator)/common_denominator\n",
    "    \n",
    "    return new_ctr\n",
    "\n",
    "test_case = [(5, 10), (50, 100), (500, 1000), (5000, 10000)]\n",
    "for item in test_case:\n",
    "    print(wilson_ctr(*item))\n"
   ]
  },
  {
   "cell_type": "code",
   "execution_count": null,
   "metadata": {},
   "outputs": [],
   "source": [
    "import numpy\n",
    "import random\n",
    "import scipy.special as special\n",
    " \n",
    "class BayesianSmoothing(object):\n",
    "    def __init__(self, alpha, beta):\n",
    "        self.alpha = alpha\n",
    "        self.beta = beta\n",
    "    \n",
    "    def sample(self, alpha, beta, num, imp_upperbound):\n",
    "        # 先验分布参数\n",
    "        clicks = []\n",
    "        exposes = []\n",
    "        for clk_rt in numpy.random.beta(alpha, beta, num):\n",
    "            imp = imp_upperbound\n",
    "            clk = int(imp * clk_rt)\n",
    "            exposes.append(imp)\n",
    "            clicks.append(clk)\n",
    "        return clicks, exposes\n",
    "    \n",
    "    def update(self, imps, clks, iter_num=1000, epsilon=1e-5):\n",
    "        for i in range(iter_num):\n",
    "            new_alpha, new_beta = self.__fixed_point_iteration(imps, clks, self.alpha, self.beta)\n",
    "            if abs(new_alpha-self.alpha)<epsilon and abs(new_beta-self.beta)<epsilon:\n",
    "                break\n",
    "            self.alpha = new_alpha\n",
    "            self.beta = new_beta\n",
    "            \n",
    "    def __fixed_point_iteration(self, imps, clks, alpha, beta):\n",
    "        numerator_alpha = 0.0\n",
    "        numerator_beta = 0.0\n",
    "        denominator = 0.0\n",
    "        \n",
    "        for i in range(len(imps)):\n",
    "            numerator_alpha += (special.digamma(clks[i]+alpha) - special.digamma(alpha))\n",
    "            numerator_beta += (special.digamma(imps[i]-clks[i]+beta) - special.digamma(beta))\n",
    "            denominator += (special.digamma(imps[i]+alpha+beta) - special.digamma(alpha+beta))\n",
    "        return alpha*(numerator_alpha/denominator), beta*(numerator_beta/denominator)\n",
    "    \n",
    "def main():\n",
    "    bs = BayesianSmoothing(1, 1)\n",
    "#     clk, exp = bs.sample(500, 500, 10, 1000)\n",
    "    clk = [5, 50, 500, 5000]\n",
    "    exp = [10, 100, 1000, 10000]\n",
    "    print('原始数据')\n",
    "    for i, j in zip(clk, exp):\n",
    "        print(i, j)\n",
    "        \n",
    "    bs.update(exp, clk)\n",
    "    print('bayes光滑先验分布参数：', bs.alpha, bs.beta)\n",
    "    fixed_ctr = []\n",
    "    for i in range(len(clk)):\n",
    "        origin_ctr = clk[i] / exp[i]\n",
    "        new_ctr = (clk[i] + bs.alpha) / (exp[i]+bs.alpha+bs.beta)\n",
    "        print('修正前{}, 修正后{}'.format(round(origin_ctr, 3), round(new_ctr, 3)))\n",
    "    \n",
    "if __name__ == '__main__':\n",
    "    main()"
   ]
  },
  {
   "cell_type": "code",
   "execution_count": null,
   "metadata": {},
   "outputs": [],
   "source": []
  }
 ],
 "metadata": {
  "interpreter": {
   "hash": "98b0a9b7b4eaaa670588a142fd0a9b87eaafe866f1db4228be72b4211d12040f"
  },
  "kernelspec": {
   "display_name": "Python 3",
   "language": "python",
   "name": "python3"
  },
  "language_info": {
   "codemirror_mode": {
    "name": "ipython",
    "version": 3
   },
   "file_extension": ".py",
   "mimetype": "text/x-python",
   "name": "python",
   "nbconvert_exporter": "python",
   "pygments_lexer": "ipython3",
   "version": "3.6.10"
  }
 },
 "nbformat": 4,
 "nbformat_minor": 4
}
