{
 "cells": [
  {
   "cell_type": "code",
   "execution_count": 1,
   "metadata": {},
   "outputs": [],
   "source": [
    "import pandas as pd"
   ]
  },
  {
   "cell_type": "code",
   "execution_count": null,
   "metadata": {},
   "outputs": [],
   "source": [
    "d = pd.read_csv(\"../src/other/train_embedding_id.csv\")"
   ]
  },
  {
   "cell_type": "code",
   "execution_count": null,
   "metadata": {},
   "outputs": [],
   "source": [
    "d"
   ]
  },
  {
   "cell_type": "code",
   "execution_count": null,
   "metadata": {},
   "outputs": [],
   "source": [
    "d.ad_idembedding = d.ad_idembedding.apply(eval)"
   ]
  },
  {
   "cell_type": "code",
   "execution_count": null,
   "metadata": {},
   "outputs": [],
   "source": [
    "data = d.sample(frac = 1.0,random_state=2020)\n",
    "#train = data.iloc[:850000,:]\n",
    "train = data.iloc[:800000,:]\n",
    "valid = data.iloc[800000:,:]"
   ]
  },
  {
   "cell_type": "code",
   "execution_count": null,
   "metadata": {},
   "outputs": [],
   "source": [
    "mkdir -p /home/gezi/tmp/ad2020/tfrecords3"
   ]
  },
  {
   "cell_type": "code",
   "execution_count": null,
   "metadata": {},
   "outputs": [],
   "source": [
    "mkdir -p /home/gezi/tmp/ad2020/tfrecords3/train"
   ]
  },
  {
   "cell_type": "code",
   "execution_count": null,
   "metadata": {},
   "outputs": [],
   "source": [
    "mkdir -p /home/gezi/tmp/ad2020/tfrecords3/valid"
   ]
  },
  {
   "cell_type": "code",
   "execution_count": 3,
   "metadata": {},
   "outputs": [],
   "source": [
    "import gezi\n",
    "from gezi import tqdm\n",
    "import melt\n",
    "import numpy as np\n",
    "import tensorflow as tf\n",
    "tf.enable_eager_execution()\n",
    "import os"
   ]
  },
  {
   "cell_type": "code",
   "execution_count": null,
   "metadata": {},
   "outputs": [],
   "source": [
    "ofile = '/home/gezi/tmp/ad2020/tfrecords3/valid/record.TMP'\n",
    "num_records = 0\n",
    "with melt.tfrecords.Writer(ofile) as writer:\n",
    "  for _, row in tqdm(valid.iterrows(), total=len(valid)):\n",
    "    feature = {}\n",
    "    ad_ids = list(map(int, row['ad_idembedding']))\n",
    "    ad_ids = gezi.pad(ad_ids, 128)\n",
    "    feature['age'] = melt.gen_feature([row['age']], np.int64)\n",
    "    feature['gender'] = melt.gen_feature(row['gender'], np.int64)\n",
    "    feature['ad_ids'] = melt.gen_feature(ad_ids, np.int64)\n",
    "    record = tf.train.Example(features=tf.train.Features(feature=feature))\n",
    "    writer.write(record)\n",
    "    num_records += 1"
   ]
  },
  {
   "cell_type": "code",
   "execution_count": null,
   "metadata": {},
   "outputs": [],
   "source": [
    "ofile2 = ofile.replace('.TMP', f'.{num_records}')\n",
    "os.system('mv %s %s' % (ofile, ofile2))"
   ]
  },
  {
   "cell_type": "code",
   "execution_count": null,
   "metadata": {},
   "outputs": [],
   "source": [
    "!du -h /home/gezi/tmp/ad2020/tfrecords3/valid/record.100000"
   ]
  },
  {
   "cell_type": "code",
   "execution_count": null,
   "metadata": {},
   "outputs": [],
   "source": [
    "ofile = '/home/gezi/tmp/ad2020/tfrecords3/train/record.TMP'\n",
    "num_records = 0\n",
    "with melt.tfrecords.Writer(ofile) as writer:\n",
    "  for _, row in tqdm(train.iterrows(), total=len(train)):\n",
    "    feature = {}\n",
    "    ad_ids = list(map(int, row['ad_idembedding']))\n",
    "    ad_ids = gezi.pad(ad_ids, 128)\n",
    "    feature['age'] = melt.gen_feature([row['age']], np.int64)\n",
    "    feature['gender'] = melt.gen_feature(row['gender'], np.int64)\n",
    "    feature['ad_ids'] = melt.gen_feature(ad_ids, np.int64)\n",
    "    record = tf.train.Example(features=tf.train.Features(feature=feature))\n",
    "    writer.write(record)\n",
    "    num_records += 1"
   ]
  },
  {
   "cell_type": "code",
   "execution_count": null,
   "metadata": {},
   "outputs": [],
   "source": [
    "ofile2 = ofile.replace('.TMP', f'.{num_records}')\n",
    "os.system('mv %s %s' % (ofile, ofile2))"
   ]
  },
  {
   "cell_type": "code",
   "execution_count": null,
   "metadata": {},
   "outputs": [],
   "source": [
    "!du -h /home/gezi/tmp/ad2020/tfrecords3/train/record.800000"
   ]
  },
  {
   "cell_type": "code",
   "execution_count": 10,
   "metadata": {},
   "outputs": [],
   "source": [
    "from projects.ai.ad.src.dataset import Dataset\n",
    "melt.init_flags()\n",
    "FLAGS = melt.get_flags()\n",
    "FLAGS.max_len = 128"
   ]
  },
  {
   "cell_type": "code",
   "execution_count": 11,
   "metadata": {},
   "outputs": [],
   "source": [
    "dataset = Dataset('valid')"
   ]
  },
  {
   "cell_type": "code",
   "execution_count": 12,
   "metadata": {},
   "outputs": [],
   "source": [
    "batches = dataset.make_batch(512, ['../input/tfrecords3/train/record.800000'])"
   ]
  },
  {
   "cell_type": "code",
   "execution_count": 14,
   "metadata": {},
   "outputs": [],
   "source": [
    "i = 0\n",
    "for item in batches:\n",
    "  i += 1"
   ]
  },
  {
   "cell_type": "code",
   "execution_count": 15,
   "metadata": {},
   "outputs": [
    {
     "name": "stdout",
     "output_type": "stream",
     "text": [
      "1563\n"
     ]
    }
   ],
   "source": [
    "print(i)"
   ]
  },
  {
   "cell_type": "code",
   "execution_count": null,
   "metadata": {},
   "outputs": [],
   "source": []
  }
 ],
 "metadata": {
  "kernelspec": {
   "display_name": "Python 3",
   "language": "python",
   "name": "python3"
  },
  "language_info": {
   "codemirror_mode": {
    "name": "ipython",
    "version": 3
   },
   "file_extension": ".py",
   "mimetype": "text/x-python",
   "name": "python",
   "nbconvert_exporter": "python",
   "pygments_lexer": "ipython3",
   "version": "3.6.8"
  }
 },
 "nbformat": 4,
 "nbformat_minor": 2
}
