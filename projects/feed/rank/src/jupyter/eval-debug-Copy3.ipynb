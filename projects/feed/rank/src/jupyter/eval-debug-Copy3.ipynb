{
 "cells": [
  {
   "cell_type": "code",
   "execution_count": 2,
   "metadata": {},
   "outputs": [
    {
     "data": {
      "text/html": [
       "        <script type=\"text/javascript\">\n",
       "        window.PlotlyConfig = {MathJaxConfig: 'local'};\n",
       "        if (window.MathJax) {MathJax.Hub.Config({SVG: {font: \"STIX-Web\"}});}\n",
       "        if (typeof require !== 'undefined') {\n",
       "        require.undef(\"plotly\");\n",
       "        requirejs.config({\n",
       "            paths: {\n",
       "                'plotly': ['https://cdn.plot.ly/plotly-latest.min']\n",
       "            }\n",
       "        });\n",
       "        require(['plotly'], function(Plotly) {\n",
       "            window._Plotly = Plotly;\n",
       "        });\n",
       "        }\n",
       "        </script>\n",
       "        "
      ]
     },
     "metadata": {},
     "output_type": "display_data"
    }
   ],
   "source": [
    "import pandas as pd\n",
    "import os\n",
    "import glob\n",
    "import traceback\n",
    "from datetime import datetime\n",
    "import pandas as pd\n",
    "from plotly.graph_objs import Scatter,Layout\n",
    "import plotly\n",
    "import plotly.offline as py\n",
    "import numpy as np\n",
    "import plotly.graph_objs as go\n",
    "from plotly.subplots import make_subplots\n",
    "plotly.offline.init_notebook_mode(connected=True)\n",
    "import plotly.express as px\n",
    "import gezi\n",
    "from gezi import tqdm \n",
    "import pymp\n",
    "import time\n",
    "import qgrid\n",
    "from sklearn.metrics import roc_auc_score\n",
    "from multiprocessing import Manager, cpu_count\n",
    "from projects.feed.rank.utils.doc_info.KV import KV"
   ]
  },
  {
   "cell_type": "code",
   "execution_count": 3,
   "metadata": {},
   "outputs": [
    {
     "data": {
      "text/html": [
       "<style>\n",
       ".output_wrapper, .output {\n",
       "    height:auto !important;\n",
       "    max-height:10000px;  /* your desired max-height here */\n",
       "}\n",
       ".output_scroll {\n",
       "    box-shadow:none !important;\n",
       "    webkit-box-shadow:none !important;\n",
       "}\n",
       "</style>"
      ],
      "text/plain": [
       "<IPython.core.display.HTML object>"
      ]
     },
     "metadata": {},
     "output_type": "display_data"
    }
   ],
   "source": [
    "%%html\n",
    "<style>\n",
    ".output_wrapper, .output {\n",
    "    height:auto !important;\n",
    "    max-height:10000px;  /* your desired max-height here */\n",
    "}\n",
    ".output_scroll {\n",
    "    box-shadow:none !important;\n",
    "    webkit-box-shadow:none !important;\n",
    "}\n",
    "</style>"
   ]
  },
  {
   "cell_type": "code",
   "execution_count": 4,
   "metadata": {},
   "outputs": [
    {
     "name": "stdout",
     "output_type": "stream",
     "text": [
      "/search/odin/publicData/CloudS/libowei/rank_online/infos/video/8/2020051800/valid.csv\n",
      "/search/odin/publicData/CloudS/libowei/rank_online/infos/video/8/2020051801/valid.csv\n",
      "/search/odin/publicData/CloudS/libowei/rank_online/infos/video/8/2020051802/valid.csv\n",
      "/search/odin/publicData/CloudS/libowei/rank_online/infos/video/8/2020051803/valid.csv\n",
      "/search/odin/publicData/CloudS/libowei/rank_online/infos/video/8/2020051804/valid.csv\n",
      "/search/odin/publicData/CloudS/libowei/rank_online/infos/video/8/2020051805/valid.csv\n",
      "/search/odin/publicData/CloudS/libowei/rank_online/infos/video/8/2020051806/valid.csv\n",
      "/search/odin/publicData/CloudS/libowei/rank_online/infos/video/8/2020051807/valid.csv\n",
      "/search/odin/publicData/CloudS/libowei/rank_online/infos/video/8/2020051808/valid.csv\n",
      "/search/odin/publicData/CloudS/libowei/rank_online/infos/video/8/2020051809/valid.csv\n",
      "/search/odin/publicData/CloudS/libowei/rank_online/infos/video/8/2020051810/valid.csv\n",
      "/search/odin/publicData/CloudS/libowei/rank_online/infos/video/8/2020051811/valid.csv\n",
      "/search/odin/publicData/CloudS/libowei/rank_online/infos/video/8/2020051812/valid.csv\n",
      "/search/odin/publicData/CloudS/libowei/rank_online/infos/video/8/2020051813/valid.csv\n",
      "/search/odin/publicData/CloudS/libowei/rank_online/infos/video/8/2020051814/valid.csv\n",
      "/search/odin/publicData/CloudS/libowei/rank_online/infos/video/8/2020051815/valid.csv\n",
      "/search/odin/publicData/CloudS/libowei/rank_online/infos/video/8/2020051816/valid.csv\n",
      "/search/odin/publicData/CloudS/libowei/rank_online/infos/video/8/2020051817/valid.csv\n",
      "/search/odin/publicData/CloudS/libowei/rank_online/infos/video/8/2020051819/valid.csv\n",
      "/search/odin/publicData/CloudS/libowei/rank_online/infos/video/8/2020051820/valid.csv\n",
      "/search/odin/publicData/CloudS/libowei/rank_online/infos/video/8/2020051821/valid.csv\n",
      "/search/odin/publicData/CloudS/libowei/rank_online/infos/video/8/2020051822/valid.csv\n",
      "/search/odin/publicData/CloudS/libowei/rank_online/infos/video/8/2020051823/valid.csv\n"
     ]
    },
    {
     "data": {
      "text/html": [
       "<div>\n",
       "<style scoped>\n",
       "    .dataframe tbody tr th:only-of-type {\n",
       "        vertical-align: middle;\n",
       "    }\n",
       "\n",
       "    .dataframe tbody tr th {\n",
       "        vertical-align: top;\n",
       "    }\n",
       "\n",
       "    .dataframe thead th {\n",
       "        text-align: right;\n",
       "    }\n",
       "</style>\n",
       "<table border=\"1\" class=\"dataframe\">\n",
       "  <thead>\n",
       "    <tr style=\"text-align: right;\">\n",
       "      <th></th>\n",
       "      <th>doc_topic</th>\n",
       "      <th>abtestid</th>\n",
       "      <th>article_page_time</th>\n",
       "      <th>coldstart_refresh_num</th>\n",
       "      <th>did</th>\n",
       "      <th>distribution</th>\n",
       "      <th>docid</th>\n",
       "      <th>duration</th>\n",
       "      <th>id</th>\n",
       "      <th>impression_time</th>\n",
       "      <th>...</th>\n",
       "      <th>video_time</th>\n",
       "      <th>click</th>\n",
       "      <th>weight</th>\n",
       "      <th>cold</th>\n",
       "      <th>product_data</th>\n",
       "      <th>pred</th>\n",
       "      <th>pred_click</th>\n",
       "      <th>pred_dur</th>\n",
       "      <th>hour</th>\n",
       "      <th>dur</th>\n",
       "    </tr>\n",
       "  </thead>\n",
       "  <tbody>\n",
       "    <tr>\n",
       "      <th>0</th>\n",
       "      <td>0</td>\n",
       "      <td>6</td>\n",
       "      <td>1588251083</td>\n",
       "      <td>2</td>\n",
       "      <td>-9148114551992452344</td>\n",
       "      <td>3039</td>\n",
       "      <td>20430m0K09EZxY</td>\n",
       "      <td>0</td>\n",
       "      <td>b97e1567320128840|7fe455\\t20430m0K09EZxY</td>\n",
       "      <td>1589731013</td>\n",
       "      <td>...</td>\n",
       "      <td>664</td>\n",
       "      <td>0</td>\n",
       "      <td>1.0</td>\n",
       "      <td>0</td>\n",
       "      <td>sgsapp</td>\n",
       "      <td>0.014687</td>\n",
       "      <td>0.054024</td>\n",
       "      <td>0.543360</td>\n",
       "      <td>2020051800</td>\n",
       "      <td>0</td>\n",
       "    </tr>\n",
       "    <tr>\n",
       "      <th>1</th>\n",
       "      <td>0</td>\n",
       "      <td>9</td>\n",
       "      <td>1587927300</td>\n",
       "      <td>4</td>\n",
       "      <td>6341462207138606553</td>\n",
       "      <td>update</td>\n",
       "      <td>2042730K3hbUk3</td>\n",
       "      <td>0</td>\n",
       "      <td>c065860602049559349\\t2042730K3hbUk3</td>\n",
       "      <td>1589731401</td>\n",
       "      <td>...</td>\n",
       "      <td>534</td>\n",
       "      <td>0</td>\n",
       "      <td>1.0</td>\n",
       "      <td>0</td>\n",
       "      <td>sgsapp</td>\n",
       "      <td>0.173773</td>\n",
       "      <td>0.354875</td>\n",
       "      <td>0.562129</td>\n",
       "      <td>2020051800</td>\n",
       "      <td>0</td>\n",
       "    </tr>\n",
       "    <tr>\n",
       "      <th>2</th>\n",
       "      <td>0</td>\n",
       "      <td>13</td>\n",
       "      <td>1588992050</td>\n",
       "      <td>1</td>\n",
       "      <td>-7957238556297169272</td>\n",
       "      <td>3008</td>\n",
       "      <td>open_doc_prod28361356</td>\n",
       "      <td>0</td>\n",
       "      <td>1a4c868802044542835\\topen_doc_prod28361356</td>\n",
       "      <td>1589729565</td>\n",
       "      <td>...</td>\n",
       "      <td>122</td>\n",
       "      <td>0</td>\n",
       "      <td>1.0</td>\n",
       "      <td>0</td>\n",
       "      <td>sgsapp</td>\n",
       "      <td>0.025054</td>\n",
       "      <td>0.157898</td>\n",
       "      <td>0.159008</td>\n",
       "      <td>2020051800</td>\n",
       "      <td>0</td>\n",
       "    </tr>\n",
       "    <tr>\n",
       "      <th>3</th>\n",
       "      <td>0</td>\n",
       "      <td>17</td>\n",
       "      <td>1589080401</td>\n",
       "      <td>4</td>\n",
       "      <td>-8082164799636661607</td>\n",
       "      <td>8139</td>\n",
       "      <td>20510c0K03NWIh</td>\n",
       "      <td>0</td>\n",
       "      <td>7720864550035953982\\t20510c0K03NWIh</td>\n",
       "      <td>1589729873</td>\n",
       "      <td>...</td>\n",
       "      <td>626</td>\n",
       "      <td>0</td>\n",
       "      <td>1.0</td>\n",
       "      <td>0</td>\n",
       "      <td>sgsapp</td>\n",
       "      <td>0.054488</td>\n",
       "      <td>0.138704</td>\n",
       "      <td>0.613734</td>\n",
       "      <td>2020051800</td>\n",
       "      <td>0</td>\n",
       "    </tr>\n",
       "    <tr>\n",
       "      <th>4</th>\n",
       "      <td>0</td>\n",
       "      <td>3</td>\n",
       "      <td>1589684551</td>\n",
       "      <td>6</td>\n",
       "      <td>-2040833186418347511</td>\n",
       "      <td>3016</td>\n",
       "      <td>20517e0K30DQtk</td>\n",
       "      <td>0</td>\n",
       "      <td>34b3866491036275810\\t20517e0K30DQtk</td>\n",
       "      <td>1589729960</td>\n",
       "      <td>...</td>\n",
       "      <td>537</td>\n",
       "      <td>0</td>\n",
       "      <td>1.0</td>\n",
       "      <td>0</td>\n",
       "      <td>sgsapp</td>\n",
       "      <td>0.024340</td>\n",
       "      <td>0.086114</td>\n",
       "      <td>0.470402</td>\n",
       "      <td>2020051800</td>\n",
       "      <td>0</td>\n",
       "    </tr>\n",
       "  </tbody>\n",
       "</table>\n",
       "<p>5 rows × 45 columns</p>\n",
       "</div>"
      ],
      "text/plain": [
       "   doc_topic  abtestid  article_page_time  coldstart_refresh_num  \\\n",
       "0          0         6         1588251083                      2   \n",
       "1          0         9         1587927300                      4   \n",
       "2          0        13         1588992050                      1   \n",
       "3          0        17         1589080401                      4   \n",
       "4          0         3         1589684551                      6   \n",
       "\n",
       "                   did distribution                  docid  duration  \\\n",
       "0 -9148114551992452344         3039         20430m0K09EZxY         0   \n",
       "1  6341462207138606553       update         2042730K3hbUk3         0   \n",
       "2 -7957238556297169272         3008  open_doc_prod28361356         0   \n",
       "3 -8082164799636661607         8139         20510c0K03NWIh         0   \n",
       "4 -2040833186418347511         3016         20517e0K30DQtk         0   \n",
       "\n",
       "                                           id  impression_time  ...  \\\n",
       "0    b97e1567320128840|7fe455\\t20430m0K09EZxY       1589731013  ...   \n",
       "1         c065860602049559349\\t2042730K3hbUk3       1589731401  ...   \n",
       "2  1a4c868802044542835\\topen_doc_prod28361356       1589729565  ...   \n",
       "3         7720864550035953982\\t20510c0K03NWIh       1589729873  ...   \n",
       "4         34b3866491036275810\\t20517e0K30DQtk       1589729960  ...   \n",
       "\n",
       "   video_time click weight cold  product_data      pred  pred_click  pred_dur  \\\n",
       "0         664     0    1.0    0        sgsapp  0.014687    0.054024  0.543360   \n",
       "1         534     0    1.0    0        sgsapp  0.173773    0.354875  0.562129   \n",
       "2         122     0    1.0    0        sgsapp  0.025054    0.157898  0.159008   \n",
       "3         626     0    1.0    0        sgsapp  0.054488    0.138704  0.613734   \n",
       "4         537     0    1.0    0        sgsapp  0.024340    0.086114  0.470402   \n",
       "\n",
       "         hour  dur  \n",
       "0  2020051800    0  \n",
       "1  2020051800    0  \n",
       "2  2020051800    0  \n",
       "3  2020051800    0  \n",
       "4  2020051800    0  \n",
       "\n",
       "[5 rows x 45 columns]"
      ]
     },
     "execution_count": 4,
     "metadata": {},
     "output_type": "execute_result"
    }
   ],
   "source": [
    "info_dir = f'/search/odin/publicData/CloudS/mkyuwen/rank/infos/video/11/'\n",
    "info_dir = f'/search/odin/publicData/CloudS/libowei/rank_online/infos/video/8'\n",
    "hour = 20200518\n",
    "dfs = []\n",
    "for file in glob.glob(f'{info_dir}/{hour}*/valid.csv'):\n",
    "  print(file)\n",
    "  df = pd.read_csv(file)\n",
    "  df['dur'] = df.duration\n",
    "  df = df[df.product_data=='sgsapp']\n",
    "  dfs += [df]\n",
    "df = pd.concat(dfs)\n",
    "df.head()"
   ]
  },
  {
   "cell_type": "code",
   "execution_count": 5,
   "metadata": {},
   "outputs": [],
   "source": [
    "df['click'] = (df.dur != 0).astype(int)"
   ]
  },
  {
   "cell_type": "code",
   "execution_count": 6,
   "metadata": {},
   "outputs": [],
   "source": [
    "df['impression'] = df['mid'] + '\\t' + df['impression_time'].astype('str')"
   ]
  },
  {
   "cell_type": "code",
   "execution_count": 7,
   "metadata": {},
   "outputs": [],
   "source": [
    "df5 = df[df.abtestid==5]"
   ]
  },
  {
   "cell_type": "code",
   "execution_count": 15,
   "metadata": {},
   "outputs": [],
   "source": [
    "df5_ = df5.docid.value_counts().reset_index().head(20)\n",
    "df5_['title'] = df5_['index'].apply(lambda x: titles.get(x, '')"
   ]
  },
  {
   "cell_type": "code",
   "execution_count": 16,
   "metadata": {},
   "outputs": [],
   "source": [
    "df15 = df[df.abtestid==15]"
   ]
  },
  {
   "cell_type": "code",
   "execution_count": 17,
   "metadata": {},
   "outputs": [
    {
     "data": {
      "text/plain": [
       "4.673479628019001"
      ]
     },
     "execution_count": 17,
     "metadata": {},
     "output_type": "execute_result"
    }
   ],
   "source": [
    "df15.groupby('mid', as_index=False)['impression'].nunique().mean()"
   ]
  },
  {
   "cell_type": "code",
   "execution_count": 18,
   "metadata": {},
   "outputs": [],
   "source": [
    "# df15[df15.mid=='e86a869043036649853']"
   ]
  },
  {
   "cell_type": "code",
   "execution_count": 19,
   "metadata": {},
   "outputs": [
    {
     "data": {
      "text/plain": [
       "impression    18.081923\n",
       "dtype: float64"
      ]
     },
     "execution_count": 19,
     "metadata": {},
     "output_type": "execute_result"
    }
   ],
   "source": [
    "df15.groupby('mid', as_index=False)['impression'].count().mean()"
   ]
  },
  {
   "cell_type": "code",
   "execution_count": 20,
   "metadata": {},
   "outputs": [
    {
     "data": {
      "text/plain": [
       "185"
      ]
     },
     "execution_count": 20,
     "metadata": {},
     "output_type": "execute_result"
    }
   ],
   "source": [
    "df15.groupby('mid', as_index=False)['impression'].nunique().max()"
   ]
  },
  {
   "cell_type": "code",
   "execution_count": 21,
   "metadata": {},
   "outputs": [
    {
     "data": {
      "text/plain": [
       "310"
      ]
     },
     "execution_count": 21,
     "metadata": {},
     "output_type": "execute_result"
    }
   ],
   "source": [
    "df5.groupby('mid', as_index=False)['impression'].nunique().max()"
   ]
  },
  {
   "cell_type": "code",
   "execution_count": 22,
   "metadata": {},
   "outputs": [],
   "source": [
    "df5 = df[df.abtestid==5]\n",
    "# df5.groupby('mid', as_index=False)['impression'].count().sort_values('impression')"
   ]
  },
  {
   "cell_type": "code",
   "execution_count": 23,
   "metadata": {},
   "outputs": [
    {
     "data": {
      "text/plain": [
       "4.680961421113296"
      ]
     },
     "execution_count": 23,
     "metadata": {},
     "output_type": "execute_result"
    }
   ],
   "source": [
    "df5.groupby('mid', as_index=False)['impression'].nunique().mean()"
   ]
  },
  {
   "cell_type": "code",
   "execution_count": 24,
   "metadata": {},
   "outputs": [
    {
     "data": {
      "text/plain": [
       "impression    17.980236\n",
       "dtype: float64"
      ]
     },
     "execution_count": 24,
     "metadata": {},
     "output_type": "execute_result"
    }
   ],
   "source": [
    "df5.groupby('mid', as_index=False)['impression'].count().mean()"
   ]
  },
  {
   "cell_type": "code",
   "execution_count": 25,
   "metadata": {},
   "outputs": [
    {
     "data": {
      "text/html": [
       "<div>\n",
       "<style scoped>\n",
       "    .dataframe tbody tr th:only-of-type {\n",
       "        vertical-align: middle;\n",
       "    }\n",
       "\n",
       "    .dataframe tbody tr th {\n",
       "        vertical-align: top;\n",
       "    }\n",
       "\n",
       "    .dataframe thead th {\n",
       "        text-align: right;\n",
       "    }\n",
       "</style>\n",
       "<table border=\"1\" class=\"dataframe\">\n",
       "  <thead>\n",
       "    <tr style=\"text-align: right;\">\n",
       "      <th></th>\n",
       "      <th>mid</th>\n",
       "      <th>impression</th>\n",
       "    </tr>\n",
       "  </thead>\n",
       "  <tbody>\n",
       "    <tr>\n",
       "      <th>10899</th>\n",
       "      <td>5f04860726040000423</td>\n",
       "      <td>1</td>\n",
       "    </tr>\n",
       "    <tr>\n",
       "      <th>17805</th>\n",
       "      <td>9a6a1587691700023|e75da8</td>\n",
       "      <td>1</td>\n",
       "    </tr>\n",
       "    <tr>\n",
       "      <th>17819</th>\n",
       "      <td>9a8b864186044386615</td>\n",
       "      <td>1</td>\n",
       "    </tr>\n",
       "    <tr>\n",
       "      <th>6875</th>\n",
       "      <td>3bea863732041718838</td>\n",
       "      <td>1</td>\n",
       "    </tr>\n",
       "    <tr>\n",
       "      <th>17848</th>\n",
       "      <td>9ac7861042049452295</td>\n",
       "      <td>1</td>\n",
       "    </tr>\n",
       "    <tr>\n",
       "      <th>...</th>\n",
       "      <td>...</td>\n",
       "      <td>...</td>\n",
       "    </tr>\n",
       "    <tr>\n",
       "      <th>24720</th>\n",
       "      <td>d6e4867640048874635</td>\n",
       "      <td>685</td>\n",
       "    </tr>\n",
       "    <tr>\n",
       "      <th>26249</th>\n",
       "      <td>e3e11583286634622|101a3c</td>\n",
       "      <td>689</td>\n",
       "    </tr>\n",
       "    <tr>\n",
       "      <th>19795</th>\n",
       "      <td>abf5866347044790432</td>\n",
       "      <td>711</td>\n",
       "    </tr>\n",
       "    <tr>\n",
       "      <th>1537</th>\n",
       "      <td>0cf0862853036895398</td>\n",
       "      <td>775</td>\n",
       "    </tr>\n",
       "    <tr>\n",
       "      <th>23068</th>\n",
       "      <td>c8ce867401040358196</td>\n",
       "      <td>1281</td>\n",
       "    </tr>\n",
       "  </tbody>\n",
       "</table>\n",
       "<p>29498 rows × 2 columns</p>\n",
       "</div>"
      ],
      "text/plain": [
       "                            mid  impression\n",
       "10899       5f04860726040000423           1\n",
       "17805  9a6a1587691700023|e75da8           1\n",
       "17819       9a8b864186044386615           1\n",
       "6875        3bea863732041718838           1\n",
       "17848       9ac7861042049452295           1\n",
       "...                         ...         ...\n",
       "24720       d6e4867640048874635         685\n",
       "26249  e3e11583286634622|101a3c         689\n",
       "19795       abf5866347044790432         711\n",
       "1537        0cf0862853036895398         775\n",
       "23068       c8ce867401040358196        1281\n",
       "\n",
       "[29498 rows x 2 columns]"
      ]
     },
     "execution_count": 25,
     "metadata": {},
     "output_type": "execute_result"
    }
   ],
   "source": [
    "df5.groupby('mid', as_index=False)['impression'].count().sort_values('impression')"
   ]
  },
  {
   "cell_type": "code",
   "execution_count": 32,
   "metadata": {},
   "outputs": [
    {
     "data": {
      "text/html": [
       "<div>\n",
       "<style scoped>\n",
       "    .dataframe tbody tr th:only-of-type {\n",
       "        vertical-align: middle;\n",
       "    }\n",
       "\n",
       "    .dataframe tbody tr th {\n",
       "        vertical-align: top;\n",
       "    }\n",
       "\n",
       "    .dataframe thead th {\n",
       "        text-align: right;\n",
       "    }\n",
       "</style>\n",
       "<table border=\"1\" class=\"dataframe\">\n",
       "  <thead>\n",
       "    <tr style=\"text-align: right;\">\n",
       "      <th></th>\n",
       "      <th>mid</th>\n",
       "      <th>impression</th>\n",
       "    </tr>\n",
       "  </thead>\n",
       "  <tbody>\n",
       "    <tr>\n",
       "      <th>6586</th>\n",
       "      <td>38da869456033241112</td>\n",
       "      <td>1</td>\n",
       "    </tr>\n",
       "    <tr>\n",
       "      <th>19140</th>\n",
       "      <td>a4b41568731439710|ce6bf4</td>\n",
       "      <td>1</td>\n",
       "    </tr>\n",
       "    <tr>\n",
       "      <th>19146</th>\n",
       "      <td>a4b9867701036859010</td>\n",
       "      <td>1</td>\n",
       "    </tr>\n",
       "    <tr>\n",
       "      <th>19152</th>\n",
       "      <td>a4c91582562702396|832fcf</td>\n",
       "      <td>1</td>\n",
       "    </tr>\n",
       "    <tr>\n",
       "      <th>5682</th>\n",
       "      <td>315a862809047069035</td>\n",
       "      <td>1</td>\n",
       "    </tr>\n",
       "    <tr>\n",
       "      <th>...</th>\n",
       "      <td>...</td>\n",
       "      <td>...</td>\n",
       "    </tr>\n",
       "    <tr>\n",
       "      <th>23648</th>\n",
       "      <td>ca631588910462164|0e82a9</td>\n",
       "      <td>759</td>\n",
       "    </tr>\n",
       "    <tr>\n",
       "      <th>5609</th>\n",
       "      <td>309bA10000544C1279</td>\n",
       "      <td>788</td>\n",
       "    </tr>\n",
       "    <tr>\n",
       "      <th>1146</th>\n",
       "      <td>0a0d862231037172051</td>\n",
       "      <td>866</td>\n",
       "    </tr>\n",
       "    <tr>\n",
       "      <th>3925</th>\n",
       "      <td>2242867817040551201</td>\n",
       "      <td>977</td>\n",
       "    </tr>\n",
       "    <tr>\n",
       "      <th>21773</th>\n",
       "      <td>bae1cd5b99f9b4e8bb741931cf2b0876338d275495dc</td>\n",
       "      <td>1018</td>\n",
       "    </tr>\n",
       "  </tbody>\n",
       "</table>\n",
       "<p>29894 rows × 2 columns</p>\n",
       "</div>"
      ],
      "text/plain": [
       "                                                mid  impression\n",
       "6586                            38da869456033241112           1\n",
       "19140                      a4b41568731439710|ce6bf4           1\n",
       "19146                           a4b9867701036859010           1\n",
       "19152                      a4c91582562702396|832fcf           1\n",
       "5682                            315a862809047069035           1\n",
       "...                                             ...         ...\n",
       "23648                      ca631588910462164|0e82a9         759\n",
       "5609                             309bA10000544C1279         788\n",
       "1146                            0a0d862231037172051         866\n",
       "3925                            2242867817040551201         977\n",
       "21773  bae1cd5b99f9b4e8bb741931cf2b0876338d275495dc        1018\n",
       "\n",
       "[29894 rows x 2 columns]"
      ]
     },
     "execution_count": 32,
     "metadata": {},
     "output_type": "execute_result"
    }
   ],
   "source": [
    "df15.groupby('mid', as_index=False)['impression'].count().sort_values('impression')"
   ]
  },
  {
   "cell_type": "code",
   "execution_count": 33,
   "metadata": {},
   "outputs": [
    {
     "data": {
      "text/plain": [
       "138079"
      ]
     },
     "execution_count": 33,
     "metadata": {},
     "output_type": "execute_result"
    }
   ],
   "source": [
    "len(set(df5.impression.values))"
   ]
  },
  {
   "cell_type": "code",
   "execution_count": 35,
   "metadata": {},
   "outputs": [
    {
     "data": {
      "text/plain": [
       "139709"
      ]
     },
     "execution_count": 35,
     "metadata": {},
     "output_type": "execute_result"
    }
   ],
   "source": [
    "len(set(df15.impression.values))"
   ]
  },
  {
   "cell_type": "code",
   "execution_count": 36,
   "metadata": {},
   "outputs": [],
   "source": [
    "clickmids5 = set(df5[df5.dur!=0].mid.values)"
   ]
  },
  {
   "cell_type": "code",
   "execution_count": 37,
   "metadata": {},
   "outputs": [],
   "source": [
    "clickmids15 = set(df15[df15.dur!=0].mid.values)"
   ]
  },
  {
   "cell_type": "code",
   "execution_count": 38,
   "metadata": {},
   "outputs": [
    {
     "data": {
      "text/plain": [
       "6.227629442540141"
      ]
     },
     "execution_count": 38,
     "metadata": {},
     "output_type": "execute_result"
    }
   ],
   "source": [
    "len(set(df5.impression.values)) / len(clickmids5)"
   ]
  },
  {
   "cell_type": "code",
   "execution_count": 40,
   "metadata": {},
   "outputs": [
    {
     "data": {
      "text/plain": [
       "6.199644996671844"
      ]
     },
     "execution_count": 40,
     "metadata": {},
     "output_type": "execute_result"
    }
   ],
   "source": [
    "len(set(df15.impression.values)) / len(clickmids15)"
   ]
  },
  {
   "cell_type": "code",
   "execution_count": null,
   "metadata": {},
   "outputs": [],
   "source": []
  }
 ],
 "metadata": {
  "kernelspec": {
   "display_name": "Python 3",
   "language": "python",
   "name": "python3"
  },
  "language_info": {
   "codemirror_mode": {
    "name": "ipython",
    "version": 3
   },
   "file_extension": ".py",
   "mimetype": "text/x-python",
   "name": "python",
   "nbconvert_exporter": "python",
   "pygments_lexer": "ipython3",
   "version": "3.6.8"
  }
 },
 "nbformat": 4,
 "nbformat_minor": 2
}
