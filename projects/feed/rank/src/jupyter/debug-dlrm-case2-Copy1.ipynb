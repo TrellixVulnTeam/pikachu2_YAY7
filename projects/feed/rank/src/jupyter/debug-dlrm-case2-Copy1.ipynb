{
 "cells": [
  {
   "cell_type": "code",
   "execution_count": 1,
   "metadata": {},
   "outputs": [
    {
     "data": {
      "text/html": [
       "        <script type=\"text/javascript\">\n",
       "        window.PlotlyConfig = {MathJaxConfig: 'local'};\n",
       "        if (window.MathJax) {MathJax.Hub.Config({SVG: {font: \"STIX-Web\"}});}\n",
       "        if (typeof require !== 'undefined') {\n",
       "        require.undef(\"plotly\");\n",
       "        requirejs.config({\n",
       "            paths: {\n",
       "                'plotly': ['https://cdn.plot.ly/plotly-latest.min']\n",
       "            }\n",
       "        });\n",
       "        require(['plotly'], function(Plotly) {\n",
       "            window._Plotly = Plotly;\n",
       "        });\n",
       "        }\n",
       "        </script>\n",
       "        "
      ]
     },
     "metadata": {},
     "output_type": "display_data"
    }
   ],
   "source": [
    "import pymp\n",
    "from multiprocessing import Manager, cpu_count \n",
    "import sys\n",
    "import os\n",
    "import glob \n",
    "import gezi\n",
    "from gezi import tqdm\n",
    "import pandas as pd\n",
    "import json\n",
    "import tensorflow as tf\n",
    "from absl import flags\n",
    "FLAGS = flags.FLAGS\n",
    "import melt\n",
    "\n",
    "from plotly.graph_objs import Scatter,Layout\n",
    "import plotly\n",
    "import plotly.offline as py\n",
    "import numpy as np\n",
    "import plotly.graph_objs as go\n",
    "from plotly.subplots import make_subplots\n",
    "\n",
    "#setting offilne\n",
    "plotly.offline.init_notebook_mode(connected=True)\n",
    "tf.enable_eager_execution()\n",
    "\n",
    "from projects.feed.rank.src import config\n",
    "from projects.feed.rank.src.model import Model\n",
    "from projects.feed.rank.src.tfrecord_dataset import Dataset"
   ]
  },
  {
   "cell_type": "code",
   "execution_count": 2,
   "metadata": {},
   "outputs": [
    {
     "data": {
      "text/html": [
       "<style>\n",
       ".output_wrapper, .output {\n",
       "    height:auto !important;\n",
       "    max-height:10000px;  /* your desired max-height here */\n",
       "}\n",
       ".output_scroll {\n",
       "    box-shadow:none !important;\n",
       "    webkit-box-shadow:none !important;\n",
       "}\n",
       "</style>"
      ],
      "text/plain": [
       "<IPython.core.display.HTML object>"
      ]
     },
     "metadata": {},
     "output_type": "display_data"
    }
   ],
   "source": [
    "%%html\n",
    "<style>\n",
    ".output_wrapper, .output {\n",
    "    height:auto !important;\n",
    "    max-height:10000px;  /* your desired max-height here */\n",
    "}\n",
    ".output_scroll {\n",
    "    box-shadow:none !important;\n",
    "    webkit-box-shadow:none !important;\n",
    "}\n",
    "</style>"
   ]
  },
  {
   "cell_type": "code",
   "execution_count": 3,
   "metadata": {},
   "outputs": [],
   "source": [
    "product='newmse'\n",
    "mark='tuwen'"
   ]
  },
  {
   "cell_type": "code",
   "execution_count": 4,
   "metadata": {},
   "outputs": [
    {
     "name": "stdout",
     "output_type": "stream",
     "text": [
      "model: /search/odin/publicData/CloudS/libowei/rank_online/data/tuwen_hour_sgsapp_v1/models/8/2020050819\n",
      "record: /search/odin/publicData/CloudS/libowei/rank/newmse/data/tuwen_hour_newmse_v1/tfrecords/2020050822\n"
     ]
    },
    {
     "name": "stderr",
     "output_type": "stream",
     "text": [
      "2020-05-11 20:11:11 0:00:00 Tf dataset and Tf model train in Eager mode, keras False, distributed:False\n",
      "2020-05-11 20:11:11 0:00:00 log_level: 20 (try --debug to show more or --log_level=(> 20) to show less(no INFO), try --verbose to show train/valid loss intervaly)\n",
      "2020-05-11 20:11:11 0:00:00 batch_size: 512 eval_batch_size: 512 batch_size_per_gpu: 512 num_gpus: 0 gpu: [] CUDA_VISIABLE_DEVICES=[-1] work_mode: train distributed: False horovod: False\n",
      "2020-05-11 20:11:11 0:00:00 model: [8] model_dir: [/search/odin/libowei/rank/tuwen/model/8]\n",
      "2020-05-11 20:11:12 0:00:00 Latest checkpoint: /search/odin/publicData/CloudS/libowei/rank_online/data/tuwen_hour_sgsapp_v1/models/8/2020050819/model.ckpt-2020050819-1.00-9677\n"
     ]
    }
   ],
   "source": [
    "# 载入模型\n",
    "model_hour = '2020050819'\n",
    "valid_hour = '2020050822'\n",
    "# valid_hour = '2020030812'\n",
    "model_root = f'/search/odin/publicData/CloudS/libowei/rank_online/data/{mark}_hour_sgsapp_v1/models/8'\n",
    "# model_root = '/home/gezi/tmp/rank/exps/tuwen/v29/dlrm-norm/'\n",
    "model_dir = f'{model_root}/{model_hour}'\n",
    "# model_dir = model_root\n",
    "tfrecord_root = f'/search/odin/publicData/CloudS/libowei/rank/{product}/data/{mark}_hour_{product}_v1/tfrecords'\n",
    "tfrecord_dir = f'{tfrecord_root}/{valid_hour}'\n",
    "print('model:', model_dir)\n",
    "print('record:', tfrecord_dir)\n",
    "argv = open(f'{model_dir}/command.txt').readline().strip().replace('data_version=2', 'data_version=1').split()\n",
    "FLAGS(argv)\n",
    "FLAGS.eager = True\n",
    "# FLAGS.fields_norm=True\n",
    "config.init()\n",
    "model = Model()\n",
    "melt.eager.restore(model, model_dir)"
   ]
  },
  {
   "cell_type": "code",
   "execution_count": 5,
   "metadata": {},
   "outputs": [],
   "source": [
    "dataset = Dataset('valid')"
   ]
  },
  {
   "cell_type": "code",
   "execution_count": 6,
   "metadata": {},
   "outputs": [
    {
     "name": "stderr",
     "output_type": "stream",
     "text": [
      "                                                       \r"
     ]
    },
    {
     "data": {
      "text/plain": [
       "4162592"
      ]
     },
     "execution_count": 6,
     "metadata": {},
     "output_type": "execute_result"
    }
   ],
   "source": [
    "files = gezi.list_files(tfrecord_dir)\n",
    "total = melt.get_num_records(files) \n",
    "total"
   ]
  },
  {
   "cell_type": "code",
   "execution_count": 7,
   "metadata": {},
   "outputs": [],
   "source": [
    "batch_size = 512\n",
    "batches = dataset.make_batch(batch_size=batch_size, filenames=files, repeat=False)\n",
    "num_steps = -int(-total // batch_size)"
   ]
  },
  {
   "cell_type": "code",
   "execution_count": 8,
   "metadata": {},
   "outputs": [],
   "source": [
    "def get_info(x, mid):\n",
    "  mids = gezi.decode(x['mid'].numpy())\n",
    "  hits = []\n",
    "  for i in range(len(mids)):\n",
    "    if mids[i] == mid:\n",
    "      hits += [i]\n",
    "  res = [{}] * len(hits)\n",
    "  for key in x:\n",
    "    for i, pos in enumerate(hits):\n",
    "      res[i][key] = tf.convert_to_tensor([x[key][pos]])\n",
    "  return res"
   ]
  },
  {
   "cell_type": "code",
   "execution_count": 9,
   "metadata": {},
   "outputs": [
    {
     "name": "stderr",
     "output_type": "stream",
     "text": [
      "loop: 100%|##########| 8131/8131 [02:42<00:00, 49.91it/s]\n"
     ]
    }
   ],
   "source": [
    "xs = []\n",
    "for i, (x, _) in tqdm(enumerate(batches), total=num_steps, ascii=True, desc='loop'):\n",
    "  xs += get_info(x, '00000000-56ef-e6bf-ffff-ffffba81c941')"
   ]
  },
  {
   "cell_type": "code",
   "execution_count": 10,
   "metadata": {},
   "outputs": [],
   "source": [
    "def get_doc(xs, docid):\n",
    "  for x in xs:\n",
    "    if tf.compat.as_str_any(x['docid'][0].numpy()) == docid:\n",
    "      return x"
   ]
  },
  {
   "cell_type": "code",
   "execution_count": 11,
   "metadata": {},
   "outputs": [],
   "source": [
    "# 这两个doc 第一个位于位置0 未点击           它被称为“黄金木”，价值比黄花梨还高，却是农民最讨厌的树\n",
    "# 第二个位于位置8 点击  时长30              阴历几月出生的人，外有志气，内有才华，十之八九能成为人中龙凤\n",
    "x1 = get_doc(xs, 'open_doc_prod28249148')\n",
    "x2 = get_doc(xs, 'open_doc_prod28262232')"
   ]
  },
  {
   "cell_type": "code",
   "execution_count": 12,
   "metadata": {},
   "outputs": [],
   "source": [
    "model(x1)\n",
    "x_all1 = model.deep.x_all"
   ]
  },
  {
   "cell_type": "code",
   "execution_count": 13,
   "metadata": {},
   "outputs": [],
   "source": [
    "model(x2)\n",
    "x_all2 = model.deep.x_all"
   ]
  },
  {
   "cell_type": "code",
   "execution_count": 14,
   "metadata": {},
   "outputs": [],
   "source": [
    "def rename(field):\n",
    "  for x in maps:\n",
    "#     print(x, len(x))\n",
    "#     print('0', field, x[0], x[1])\n",
    "    field = field.replace(x[0], x[1])\n",
    "#     print('1', field, x[0], x[1])\n",
    "  return field"
   ]
  },
  {
   "cell_type": "code",
   "execution_count": 15,
   "metadata": {},
   "outputs": [],
   "source": [
    "other_fields = [x.name.split('/')[-2] for x in model.variables if x.name.endswith('embeddings:0')and not '/emb/emb/' in x.name]\n",
    "other_fields[model.deep.history_index:model.deep.history_index] = model.deep.history_fields\n",
    "onehot_fields = gezi.get_global('fields')\n",
    "maps = [x.strip().split() for x in open('../conf/fields_map.txt')]\n",
    "onehot_fields2 = [rename(x) for x in onehot_fields]\n",
    "fields = other_fields + onehot_fields2\n",
    "fields2 = other_fields + onehot_fields\n",
    "# [(x, y) for x, y in zip(onehot_fields, onehot_fields2)]"
   ]
  },
  {
   "cell_type": "code",
   "execution_count": 16,
   "metadata": {},
   "outputs": [],
   "source": [
    "import copy\n",
    "x_all2_npy = x_all2.numpy()\n",
    "x_all1_npy = x_all1.numpy()"
   ]
  },
  {
   "cell_type": "code",
   "execution_count": 17,
   "metadata": {},
   "outputs": [
    {
     "name": "stderr",
     "output_type": "stream",
     "text": [
      "100%|██████████| 94/94 [00:04<00:00, 20.73it/s]"
     ]
    },
    {
     "name": "stdout",
     "output_type": "stream",
     "text": [
      "\n",
      " +-------+------------------------------+-----------------+-----------+-----------+------------+\n",
      "|   fid | field                        | ori_field       |   pclick1 |   pclick2 |      delta |\n",
      "|-------+------------------------------+-----------------+-----------+-----------+------------|\n",
      "|     1 | doc_emb                      | doc_emb         |  0.164102 | 0.116738  | -0.0473633 |\n",
      "|    29 | IArtKw2                      | IATKWSE         |  0.178624 | 0.0977463 | -0.0808774 |\n",
      "|    26 | IAccountId                   | IACID           |  0.179297 | 0.0898473 | -0.0894498 |\n",
      "|    72 | MInterestArtTopic            | MITATTP         |  0.234573 | 0.0705514 | -0.164022  |\n",
      "|    35 | IAvgDur                      | IAVGDUR         |  0.242454 | 0.0736471 | -0.168807  |\n",
      "|    71 | MInterestArtTag              | MITATTG         |  0.237348 | 0.0685159 | -0.168832  |\n",
      "|    64 | MInterestArtPornScoreKw      | MITATPORNSKW    |  0.238853 | 0.0672092 | -0.171644  |\n",
      "|    22 | DArtClickCnt                 | DATRD           |  0.242463 | 0.0694416 | -0.173022  |\n",
      "|    66 | MInterestArtPornScoreTopic   | MITATPORNSTP    |  0.24387  | 0.0675723 | -0.176298  |\n",
      "|     2 | history                      | history         |  0.244475 | 0.0677145 | -0.17676   |\n",
      "|    82 | XArtShowShare                | XATSWSA         |  0.244729 | 0.0665347 | -0.178194  |\n",
      "|    65 | MInterestArtPornScoreTag     | MITATPORNSTG    |  0.246695 | 0.0677527 | -0.178943  |\n",
      "|    52 | IWordCnt                     | IWCNT           |  0.24329  | 0.0635503 | -0.17974   |\n",
      "|    58 | MInterestArtKw               | MITATKW         |  0.246144 | 0.0651605 | -0.180984  |\n",
      "|    80 | XArtShowClickCnt             | XATSWCL         |  0.251298 | 0.0691012 | -0.182197  |\n",
      "|     5 | timespan_emb                 | timespan_emb    |  0.245907 | 0.0633213 | -0.182586  |\n",
      "|    79 | XArtClickCntShare            | XATCLSA         |  0.249132 | 0.066078  | -0.183054  |\n",
      "|    17 | CSXArtTopic                  | CSXATTP         |  0.249434 | 0.0658002 | -0.183634  |\n",
      "|    62 | MInterestArtPicCntTopic      | MITATPCNTTP     |  0.248414 | 0.0647551 | -0.183659  |\n",
      "|    63 | MInterestArtPornScoreAccount | MITATPORNSAC    |  0.248749 | 0.0644606 | -0.184288  |\n",
      "|    25 | IFavorCnt                    | FAVORNUM        |  0.248554 | 0.0641092 | -0.184445  |\n",
      "|    51 | IQuality                     | IQUALS          |  0.249349 | 0.0648538 | -0.184495  |\n",
      "|    67 | MInterestArtQualityAccount   | MITATQUALSAC    |  0.248974 | 0.0643269 | -0.184647  |\n",
      "|    81 | XArtShowFavor                | XATSWFV         |  0.2492   | 0.0644949 | -0.184706  |\n",
      "|    10 | CEduArtTopic                 | CEDATTP         |  0.248391 | 0.0633121 | -0.185079  |\n",
      "|    60 | MInterestArtPicCntKw         | MITATPCNTKW     |  0.249395 | 0.0641303 | -0.185265  |\n",
      "|    39 | ICBRecallWordPornScore       | ICBRWPORNS      |  0.247593 | 0.0623121 | -0.185281  |\n",
      "|    73 | MInterestArtWordCntAccount   | MITATWCNTAC     |  0.249596 | 0.0642201 | -0.185375  |\n",
      "|    38 | ICBRecallWordPicCnt          | ICBRWPCNT       |  0.249446 | 0.0639709 | -0.185475  |\n",
      "|    70 | MInterestArtQualityTopic     | MITATQUALSTP    |  0.249367 | 0.0638578 | -0.185509  |\n",
      "|    37 | ICBRecallWordDur             | ICBRWDUR        |  0.249401 | 0.0635861 | -0.185815  |\n",
      "|    76 | MInterestArtWordCntTopic     | MITATWCNTTP     |  0.249953 | 0.0639021 | -0.186051  |\n",
      "|    75 | MInterestArtWordCntTag       | MITATWCNTTG     |  0.250051 | 0.0638492 | -0.186202  |\n",
      "|    78 | XArtClickCntFavor            | XATCLFV         |  0.250522 | 0.0642471 | -0.186275  |\n",
      "|    59 | MInterestArtPicCntAccount    | MITATPCNTAC     |  0.250246 | 0.0639709 | -0.186275  |\n",
      "|    68 | MInterestArtQualityKw        | MITATQUALSKW    |  0.250147 | 0.0638011 | -0.186346  |\n",
      "|    41 | ICBRecallWordWordCnt         | ICBRWWCNT       |  0.250151 | 0.0637069 | -0.186444  |\n",
      "|    55 | MInterestArtDurKw            | MITATDURKW      |  0.250302 | 0.0637812 | -0.186521  |\n",
      "|    54 | MInterestArtDurAccount       | MITATDURAC      |  0.250308 | 0.0637465 | -0.186562  |\n",
      "|     0 | user_emb                     | user_emb        |  0.250339 | 0.0637686 | -0.18657   |\n",
      "|     3 | time_emb                     | time_emb        |  0.250339 | 0.0637686 | -0.18657   |\n",
      "|     4 | weekday_emb                  | weekday_emb     |  0.250339 | 0.0637686 | -0.18657   |\n",
      "|     6 | product_emb                  | product_emb     |  0.250339 | 0.0637686 | -0.18657   |\n",
      "|     7 | cold_emb                     | cold_emb        |  0.250339 | 0.0637686 | -0.18657   |\n",
      "|     8 | IAge                         | AGE             |  0.250339 | 0.0637686 | -0.18657   |\n",
      "|    18 | DArtCommentCnt               | DATCMT          |  0.250339 | 0.0637686 | -0.18657   |\n",
      "|    19 | DArtCommentLikeCnt           | DATCMTLIKE      |  0.250339 | 0.0637686 | -0.18657   |\n",
      "|    20 | DArtCommentReplyCnt          | DATCMTRPY       |  0.250339 | 0.0637686 | -0.18657   |\n",
      "|    21 | DArtCtr                      | DATCTR          |  0.250339 | 0.0637686 | -0.18657   |\n",
      "|    24 | IEdu                         | EDU             |  0.250339 | 0.0637686 | -0.18657   |\n",
      "|    27 | IArtAccount                  | IATAC           |  0.250339 | 0.0637686 | -0.18657   |\n",
      "|    30 | IArtLocation                 | IATLO           |  0.250339 | 0.0637686 | -0.18657   |\n",
      "|    31 | IArtOriSig                   | IATOR           |  0.250339 | 0.0637686 | -0.18657   |\n",
      "|    32 | IArtSrc                      | IATSO           |  0.250339 | 0.0637686 | -0.18657   |\n",
      "|    34 | IArtVideoSig                 | IATVI           |  0.250339 | 0.0637686 | -0.18657   |\n",
      "|    42 | ICFRecallWord                | ICFRW           |  0.250339 | 0.0637686 | -0.18657   |\n",
      "|    43 | ICFRecallWordDur             | ICFRWDUR        |  0.250339 | 0.0637686 | -0.18657   |\n",
      "|    44 | ICFRecallWordPicCnt          | ICFRWPCNT       |  0.250339 | 0.0637686 | -0.18657   |\n",
      "|    45 | ICFRecallWordPornScore       | ICFRWPORNS      |  0.250339 | 0.0637686 | -0.18657   |\n",
      "|    46 | ICFRecallWordQuality         | ICFRWQUALS      |  0.250339 | 0.0637686 | -0.18657   |\n",
      "|    47 | ICFRecallWordWordCnt         | ICFRWWCNT       |  0.250339 | 0.0637686 | -0.18657   |\n",
      "|    48 | ILocation                    | ILOC            |  0.250339 | 0.0637686 | -0.18657   |\n",
      "|    50 | IPornScore                   | IPORNS          |  0.250339 | 0.0637686 | -0.18657   |\n",
      "|    77 | ISex                         | SEX             |  0.250339 | 0.0637686 | -0.18657   |\n",
      "|    83 | long_term_acc                | long_term_acc   |  0.250339 | 0.0637686 | -0.18657   |\n",
      "|    84 | long_term_kw                 | long_term_kw    |  0.250339 | 0.0637686 | -0.18657   |\n",
      "|    85 | long_term_rec                | long_term_rec   |  0.250339 | 0.0637686 | -0.18657   |\n",
      "|    86 | long_term_tag                | long_term_tag   |  0.250339 | 0.0637686 | -0.18657   |\n",
      "|    87 | long_term_topic              | long_term_topic |  0.250339 | 0.0637686 | -0.18657   |\n",
      "|    88 | long_term_total              | long_term_total |  0.250339 | 0.0637686 | -0.18657   |\n",
      "|    89 | long_term_txk                | long_term_txk   |  0.250339 | 0.0637686 | -0.18657   |\n",
      "|    90 | MSubscribeInterestArtAccount | MSUBITATAC      |  0.250339 | 0.0637686 | -0.18657   |\n",
      "|    91 | MSubscribeInterestArtKw      | MSUBITATKW      |  0.250339 | 0.0637686 | -0.18657   |\n",
      "|    92 | MSubscribeInterestArtTag     | MSUBITATTG      |  0.250339 | 0.0637686 | -0.18657   |\n",
      "|    93 | MSubscribeInterestArtTopic   | MSUBITATTP      |  0.250339 | 0.0637686 | -0.18657   |\n",
      "|    56 | MInterestArtDurTag           | MITATDURTG      |  0.25045  | 0.0637003 | -0.18675   |\n",
      "|    57 | MInterestArtDurTopic         | MITATDURTP      |  0.250389 | 0.0635821 | -0.186806  |\n",
      "|    61 | MInterestArtPicCntTag        | MITATPCNTTG     |  0.250515 | 0.0636906 | -0.186824  |\n",
      "|    14 | CRecallWordArtIdPornScore    | CRWATIDPORNS    |  0.25066  | 0.0636657 | -0.186995  |\n",
      "|    74 | MInterestArtWordCntKw        | MITATWCNTKW     |  0.250691 | 0.063621  | -0.18707   |\n",
      "|    49 | IPicCnt                      | IPCNT           |  0.251214 | 0.0641224 | -0.187092  |\n",
      "|    40 | ICBRecallWordQuality         | ICBRWQUALS      |  0.25067  | 0.0635591 | -0.187111  |\n",
      "|    12 | CRecallWordArtIdDur          | CRWATIDDUR      |  0.25092  | 0.0634115 | -0.187508  |\n",
      "|    69 | MInterestArtQualityTag       | MITATQUALSTG    |  0.250891 | 0.0631282 | -0.187763  |\n",
      "|    16 | CRecallWordArtIdWordCnt      | CRWATIDWCNT     |  0.251321 | 0.0630718 | -0.18825   |\n",
      "|    23 | DPageTimeSpan                | DPTCT           |  0.253174 | 0.0644076 | -0.188766  |\n",
      "|     9 | CAgeArtTopic                 | CAGATTP         |  0.254542 | 0.0654582 | -0.189084  |\n",
      "|    13 | CRecallWordArtIdPicCnt       | CRWATIDPCNT     |  0.253884 | 0.0630335 | -0.19085   |\n",
      "|    11 | CInterestArtCOTopic          | CITATCOTP       |  0.251119 | 0.0574872 | -0.193631  |\n",
      "|    15 | CRecallWordArtIdQuality      | CRWATIDQUALS    |  0.254129 | 0.0603084 | -0.193821  |\n",
      "|    33 | IArtTopic                    | IATTP           |  0.265124 | 0.0701203 | -0.195004  |\n",
      "|    53 | MInterestArtAccount          | MITATAC         |  0.267401 | 0.0565378 | -0.210863  |\n",
      "|    28 | IArtKw                       | IATKW           |  0.276998 | 0.0657674 | -0.21123   |\n",
      "|    36 | ICBRecallWord                | ICBRW           |  0.273842 | 0.0497262 | -0.224116  |\n",
      "+-------+------------------------------+-----------------+-----------+-----------+------------+\n"
     ]
    },
    {
     "name": "stderr",
     "output_type": "stream",
     "text": [
      "\n"
     ]
    }
   ],
   "source": [
    "l = []\n",
    "for i in tqdm(range(len(fields))):\n",
    "  x_all = x_all1_npy.copy()\n",
    "  x_all[0][i] = x_all2_npy[0][i]\n",
    "  x1['x_all'] = x_all\n",
    "  model(x1)\n",
    "  prob_click1 = model.prob_click.numpy()[0][0]\n",
    "  x_all = x_all2_npy.copy()\n",
    "  x_all[0][i] = x_all1_npy[0][i]\n",
    "  x2['x_all'] = x_all\n",
    "  model(x2)\n",
    "  prob_click2 = model.prob_click.numpy()[0][0]\n",
    "  l.append((i, fields[i], fields2[i], prob_click1, prob_click2, prob_click2 - prob_click1))\n",
    "  l.sort(key=lambda x: x[-1], reverse=True)\n",
    "gezi.pprint(pd.DataFrame(l, columns=['fid', 'field', 'ori_field', 'pclick1', 'pclick2', 'delta']))"
   ]
  },
  {
   "cell_type": "code",
   "execution_count": null,
   "metadata": {},
   "outputs": [],
   "source": []
  }
 ],
 "metadata": {
  "kernelspec": {
   "display_name": "Python 3",
   "language": "python",
   "name": "python3"
  },
  "language_info": {
   "codemirror_mode": {
    "name": "ipython",
    "version": 3
   },
   "file_extension": ".py",
   "mimetype": "text/x-python",
   "name": "python",
   "nbconvert_exporter": "python",
   "pygments_lexer": "ipython3",
   "version": "3.6.8"
  }
 },
 "nbformat": 4,
 "nbformat_minor": 2
}
