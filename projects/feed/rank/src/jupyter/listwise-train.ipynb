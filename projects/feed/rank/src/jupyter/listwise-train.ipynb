{
 "cells": [
  {
   "cell_type": "code",
   "execution_count": 1,
   "metadata": {},
   "outputs": [
    {
     "data": {
      "text/html": [
       "        <script type=\"text/javascript\">\n",
       "        window.PlotlyConfig = {MathJaxConfig: 'local'};\n",
       "        if (window.MathJax) {MathJax.Hub.Config({SVG: {font: \"STIX-Web\"}});}\n",
       "        if (typeof require !== 'undefined') {\n",
       "        require.undef(\"plotly\");\n",
       "        requirejs.config({\n",
       "            paths: {\n",
       "                'plotly': ['https://cdn.plot.ly/plotly-latest.min']\n",
       "            }\n",
       "        });\n",
       "        require(['plotly'], function(Plotly) {\n",
       "            window._Plotly = Plotly;\n",
       "        });\n",
       "        }\n",
       "        </script>\n",
       "        "
      ]
     },
     "metadata": {},
     "output_type": "display_data"
    }
   ],
   "source": [
    "import pymp\n",
    "from multiprocessing import Manager, cpu_count \n",
    "import sys\n",
    "import os\n",
    "import glob \n",
    "import gezi\n",
    "from gezi import tqdm\n",
    "import pandas as pd\n",
    "import json\n",
    "import tensorflow as tf\n",
    "from absl import flags\n",
    "FLAGS = flags.FLAGS\n",
    "import melt\n",
    "\n",
    "from plotly.graph_objs import Scatter,Layout\n",
    "import plotly\n",
    "import plotly.offline as py\n",
    "import numpy as np\n",
    "import plotly.graph_objs as go\n",
    "from plotly.subplots import make_subplots\n",
    "\n",
    "#setting offilne\n",
    "plotly.offline.init_notebook_mode(connected=True)\n",
    "tf.enable_eager_execution()\n",
    "\n",
    "from projects.feed.rank.src import config\n",
    "from projects.feed.rank.src.model import Model\n",
    "from projects.feed.rank.src.tfrecord_dataset import Dataset"
   ]
  },
  {
   "cell_type": "code",
   "execution_count": 2,
   "metadata": {},
   "outputs": [
    {
     "data": {
      "text/html": [
       "<style>\n",
       ".output_wrapper, .output {\n",
       "    height:auto !important;\n",
       "    max-height:10000px;  /* your desired max-height here */\n",
       "}\n",
       ".output_scroll {\n",
       "    box-shadow:none !important;\n",
       "    webkit-box-shadow:none !important;\n",
       "}\n",
       "</style>"
      ],
      "text/plain": [
       "<IPython.core.display.HTML object>"
      ]
     },
     "metadata": {},
     "output_type": "display_data"
    }
   ],
   "source": [
    "%%html\n",
    "<style>\n",
    ".output_wrapper, .output {\n",
    "    height:auto !important;\n",
    "    max-height:10000px;  /* your desired max-height here */\n",
    "}\n",
    ".output_scroll {\n",
    "    box-shadow:none !important;\n",
    "    webkit-box-shadow:none !important;\n",
    "}\n",
    "</style>"
   ]
  },
  {
   "cell_type": "code",
   "execution_count": 3,
   "metadata": {},
   "outputs": [],
   "source": [
    "product='sgsapp'\n",
    "mark='tuwen'"
   ]
  },
  {
   "cell_type": "code",
   "execution_count": 4,
   "metadata": {},
   "outputs": [
    {
     "name": "stdout",
     "output_type": "stream",
     "text": [
      "model: /search/odin/publicData/CloudS/libowei/rank_online/data/tuwen_hour_sgsapp_v1/models/8/2020050100\n",
      "record: /search/odin/publicData/CloudS/libowei/rank/sgsapp/data/tuwen_hour_sgsapp_v1/tfrecords/2020050103\n"
     ]
    },
    {
     "name": "stderr",
     "output_type": "stream",
     "text": [
      "2020-05-23 23:04:36 0:00:00 Tf dataset and Tf model train in Eager mode, keras False, distributed:False\n",
      "2020-05-23 23:04:36 0:00:00 log_level: 20 (try --debug to show more or --log_level=(> 20) to show less(no INFO), try --verbose to show train/valid loss intervaly)\n",
      "2020-05-23 23:04:36 0:00:00 batch_size: 512 eval_batch_size: 512 batch_size_per_gpu: 512 num_gpus: 0 gpu: [] CUDA_VISIABLE_DEVICES=[-1] work_mode: train distributed: False horovod: False\n",
      "2020-05-23 23:04:36 0:00:00 model: [8] model_dir: [/search/odin/libowei/rank/tuwen/model/8]\n",
      "2020-05-23 23:04:36 0:00:00 Latest checkpoint: /search/odin/publicData/CloudS/libowei/rank_online/data/tuwen_hour_sgsapp_v1/models/8/2020050100/model.ckpt-2020050100-1.00-7957\n"
     ]
    }
   ],
   "source": [
    "# 载入模型\n",
    "model_hour = '2020050100'\n",
    "valid_hour = '2020050103'\n",
    "# valid_hour = '2020030812'\n",
    "model_root = f'/search/odin/publicData/CloudS/libowei/rank_online/data/{mark}_hour_sgsapp_v1/models/8'\n",
    "# model_root = '/home/gezi/tmp/rank/exps/tuwen/v29/dlrm-norm/'\n",
    "model_dir = f'{model_root}/{model_hour}'\n",
    "# model_dir = model_root\n",
    "tfrecord_root = f'/search/odin/publicData/CloudS/libowei/rank/{product}/data/{mark}_hour_{product}_v1/tfrecords'\n",
    "tfrecord_dir = f'{tfrecord_root}/{valid_hour}'\n",
    "tfrecord_dir2 = f'{tfrecord_root}/{model_hour}'\n",
    "print('model:', model_dir)\n",
    "print('record:', tfrecord_dir)\n",
    "argv = open(f'{model_dir}/command.txt').readline().strip().replace('data_version=2', 'data_version=1').split()\n",
    "FLAGS(argv)\n",
    "FLAGS.eager = True\n",
    "# FLAGS.fields_norm=True\n",
    "config.init()\n",
    "model = Model()\n",
    "melt.eager.restore(model, model_dir)"
   ]
  },
  {
   "cell_type": "code",
   "execution_count": 5,
   "metadata": {},
   "outputs": [],
   "source": [
    "dataset = Dataset('valid')"
   ]
  },
  {
   "cell_type": "code",
   "execution_count": 6,
   "metadata": {},
   "outputs": [
    {
     "name": "stderr",
     "output_type": "stream",
     "text": [
      "                                                       \r"
     ]
    },
    {
     "data": {
      "text/plain": [
       "575763"
      ]
     },
     "execution_count": 6,
     "metadata": {},
     "output_type": "execute_result"
    }
   ],
   "source": [
    "files = gezi.list_files(tfrecord_dir)\n",
    "total = melt.get_num_records(files) \n",
    "total"
   ]
  },
  {
   "cell_type": "code",
   "execution_count": 7,
   "metadata": {},
   "outputs": [],
   "source": [
    "batch_size = 512\n",
    "batches = dataset.make_batch(batch_size=batch_size, filenames=files, repeat=False)\n",
    "num_steps = -int(-total // batch_size)"
   ]
  },
  {
   "cell_type": "code",
   "execution_count": 8,
   "metadata": {},
   "outputs": [],
   "source": [
    "def gen_feats(batches, num_steps, ofile):\n",
    "  with open(ofile, 'w') as out:\n",
    "    print('mid,impression_time,docid,position,dur,click_feat,dur_feat', file=out)\n",
    "    for x, _ in tqdm(batches, total=num_steps):\n",
    "      mids = gezi.decode(x['mid'].numpy())\n",
    "      docids = gezi.decode(x['docid'].numpy())\n",
    "      positions = x['position'].numpy()\n",
    "      durs = gezi.squeeze(x['duration'].numpy())\n",
    "      impression_times = gezi.squeeze(x['impression_time'].numpy())\n",
    "      model(x)\n",
    "      click_feats = model.deep.click_feat.numpy()\n",
    "      dur_feats = model.deep.dur_feat.numpy()\n",
    "      for mid, impression_time, docid, position, dur, click_feat, dur_feat in zip(mids, impression_times, docids, positions, durs, click_feats, dur_feats):\n",
    "        print(mid, impression_time, docid, position, dur, ' '.join(map(str, click_feat)), ' '.join(map(str, dur_feat)), sep=',', file=out)"
   ]
  },
  {
   "cell_type": "code",
   "execution_count": 9,
   "metadata": {},
   "outputs": [
    {
     "name": "stderr",
     "output_type": "stream",
     "text": [
      "100%|██████████| 1125/1125 [02:41<00:00,  6.98it/s]\n"
     ]
    }
   ],
   "source": [
    "gen_feats(batches, num_steps, f'/home/gezi/tmp/rerank/feats/valid/{valid_hour}.txt')"
   ]
  },
  {
   "cell_type": "code",
   "execution_count": 10,
   "metadata": {},
   "outputs": [
    {
     "name": "stderr",
     "output_type": "stream",
     "text": [
      "100%|██████████| 3073/3073 [06:58<00:00,  7.35it/s]    \n"
     ]
    }
   ],
   "source": [
    "files = gezi.list_files(tfrecord_dir2)\n",
    "total = melt.get_num_records(files) \n",
    "batches = dataset.make_batch(batch_size=batch_size, filenames=files, repeat=False)\n",
    "num_steps = -int(-total // batch_size)\n",
    "gen_feats(batches, num_steps, f'/home/gezi/tmp/rerank/feats/train/{model_hour}.txt')"
   ]
  },
  {
   "cell_type": "code",
   "execution_count": 11,
   "metadata": {},
   "outputs": [],
   "source": [
    "train_df = pd.read_csv(f'/home/gezi/tmp/rerank/feats/train/{model_hour}.txt')"
   ]
  },
  {
   "cell_type": "code",
   "execution_count": 13,
   "metadata": {},
   "outputs": [
    {
     "data": {
      "text/plain": [
       "1573000"
      ]
     },
     "execution_count": 13,
     "metadata": {},
     "output_type": "execute_result"
    }
   ],
   "source": [
    "len(train_df)"
   ]
  },
  {
   "cell_type": "code",
   "execution_count": 14,
   "metadata": {},
   "outputs": [],
   "source": [
    "train_df['impression'] = train_df['mid'] + '\\t' + train_df['impression_time'].astype(str)"
   ]
  },
  {
   "cell_type": "code",
   "execution_count": 15,
   "metadata": {},
   "outputs": [],
   "source": [
    "train_df = train_df.sort_values(['impression', 'position'])"
   ]
  },
  {
   "cell_type": "code",
   "execution_count": 16,
   "metadata": {},
   "outputs": [],
   "source": [
    "mid = train_df.mid.sample(1).values[0]"
   ]
  },
  {
   "cell_type": "code",
   "execution_count": 17,
   "metadata": {
    "scrolled": false
   },
   "outputs": [
    {
     "data": {
      "text/html": [
       "<div>\n",
       "<style scoped>\n",
       "    .dataframe tbody tr th:only-of-type {\n",
       "        vertical-align: middle;\n",
       "    }\n",
       "\n",
       "    .dataframe tbody tr th {\n",
       "        vertical-align: top;\n",
       "    }\n",
       "\n",
       "    .dataframe thead th {\n",
       "        text-align: right;\n",
       "    }\n",
       "</style>\n",
       "<table border=\"1\" class=\"dataframe\">\n",
       "  <thead>\n",
       "    <tr style=\"text-align: right;\">\n",
       "      <th></th>\n",
       "      <th>mid</th>\n",
       "      <th>impression_time</th>\n",
       "      <th>docid</th>\n",
       "      <th>position</th>\n",
       "      <th>dur</th>\n",
       "      <th>click_feat</th>\n",
       "      <th>dur_feat</th>\n",
       "      <th>impression</th>\n",
       "    </tr>\n",
       "  </thead>\n",
       "  <tbody>\n",
       "    <tr>\n",
       "      <th>475846</th>\n",
       "      <td>ba96865937033144210</td>\n",
       "      <td>1588262505</td>\n",
       "      <td>20200425A0GETB00</td>\n",
       "      <td>0</td>\n",
       "      <td>0</td>\n",
       "      <td>-2.367145 -1.6647412 -3.3636727 -6.0215836 -1....</td>\n",
       "      <td>-5.2149854 -3.6094081 -4.545166 -4.0723243 -2....</td>\n",
       "      <td>ba96865937033144210\\t1588262505</td>\n",
       "    </tr>\n",
       "    <tr>\n",
       "      <th>402207</th>\n",
       "      <td>ba96865937033144210</td>\n",
       "      <td>1588262505</td>\n",
       "      <td>20428k0l3vmxG1</td>\n",
       "      <td>1</td>\n",
       "      <td>0</td>\n",
       "      <td>-2.0335872 -1.4561865 -2.9174113 -5.889706 -1....</td>\n",
       "      <td>-4.3894453 -7.1682467 -8.394838 -7.707675 -2.5...</td>\n",
       "      <td>ba96865937033144210\\t1588262505</td>\n",
       "    </tr>\n",
       "    <tr>\n",
       "      <th>1024317</th>\n",
       "      <td>ba96865937033144210</td>\n",
       "      <td>1588262505</td>\n",
       "      <td>20423i0l1ZgZTU</td>\n",
       "      <td>2</td>\n",
       "      <td>0</td>\n",
       "      <td>-1.9373739 -0.98902106 -1.6917835 -1.868069 -1...</td>\n",
       "      <td>-1.7407173 -12.77156 -15.076688 -13.543906 -1....</td>\n",
       "      <td>ba96865937033144210\\t1588262505</td>\n",
       "    </tr>\n",
       "    <tr>\n",
       "      <th>251182</th>\n",
       "      <td>ba96865937033144210</td>\n",
       "      <td>1588263617</td>\n",
       "      <td>20200423A0U5M100</td>\n",
       "      <td>0</td>\n",
       "      <td>0</td>\n",
       "      <td>-1.7511288 -1.3083367 -2.6993248 -3.620738 -1....</td>\n",
       "      <td>-4.4357567 -4.9165683 -5.533539 -5.336941 -2.1...</td>\n",
       "      <td>ba96865937033144210\\t1588263617</td>\n",
       "    </tr>\n",
       "    <tr>\n",
       "      <th>1279932</th>\n",
       "      <td>ba96865937033144210</td>\n",
       "      <td>1588263617</td>\n",
       "      <td>open_doc_prod27098762</td>\n",
       "      <td>1</td>\n",
       "      <td>23</td>\n",
       "      <td>-2.151579 -1.2168039 -2.80949 -3.3796303 -1.42...</td>\n",
       "      <td>-4.4778037 -5.8544774 -6.8430624 -6.3423276 -2...</td>\n",
       "      <td>ba96865937033144210\\t1588263617</td>\n",
       "    </tr>\n",
       "    <tr>\n",
       "      <th>660139</th>\n",
       "      <td>ba96865937033144210</td>\n",
       "      <td>1588263617</td>\n",
       "      <td>20428n0l2Kc0I5</td>\n",
       "      <td>2</td>\n",
       "      <td>0</td>\n",
       "      <td>-3.0969675 -1.4869043 -2.2352421 -0.39854637 -...</td>\n",
       "      <td>-2.2273054 -26.101847 -31.27649 -27.670265 -1....</td>\n",
       "      <td>ba96865937033144210\\t1588263617</td>\n",
       "    </tr>\n",
       "    <tr>\n",
       "      <th>671981</th>\n",
       "      <td>ba96865937033144210</td>\n",
       "      <td>1588263617</td>\n",
       "      <td>open_doc_prod27441970</td>\n",
       "      <td>3</td>\n",
       "      <td>0</td>\n",
       "      <td>-1.3036186 -0.8427943 -1.8812513 -2.4491687 -1...</td>\n",
       "      <td>-2.9650888 -9.718634 -11.141988 -10.240099 -1....</td>\n",
       "      <td>ba96865937033144210\\t1588263617</td>\n",
       "    </tr>\n",
       "    <tr>\n",
       "      <th>775179</th>\n",
       "      <td>ba96865937033144210</td>\n",
       "      <td>1588263617</td>\n",
       "      <td>open_doc_prod27630370</td>\n",
       "      <td>4</td>\n",
       "      <td>0</td>\n",
       "      <td>-1.8898225 -0.9571392 -1.9957663 -0.43434992 -...</td>\n",
       "      <td>-3.008373 -11.336805 -13.45088 -12.048143 -1.9...</td>\n",
       "      <td>ba96865937033144210\\t1588263617</td>\n",
       "    </tr>\n",
       "    <tr>\n",
       "      <th>1460928</th>\n",
       "      <td>ba96865937033144210</td>\n",
       "      <td>1588263617</td>\n",
       "      <td>20430f0l2GGiMK</td>\n",
       "      <td>5</td>\n",
       "      <td>0</td>\n",
       "      <td>-2.3241937 -0.9380552 -2.0523584 96.97018 -1.6...</td>\n",
       "      <td>-2.9368663 -13.868858 -16.570797 -14.715276 -1...</td>\n",
       "      <td>ba96865937033144210\\t1588263617</td>\n",
       "    </tr>\n",
       "    <tr>\n",
       "      <th>693218</th>\n",
       "      <td>ba96865937033144210</td>\n",
       "      <td>1588263617</td>\n",
       "      <td>20430d0l31yrDB</td>\n",
       "      <td>6</td>\n",
       "      <td>0</td>\n",
       "      <td>-3.694609 -1.50496 -2.4728296 277.35797 -2.249...</td>\n",
       "      <td>-3.7510228 -23.945822 -29.135117 -25.503496 -2...</td>\n",
       "      <td>ba96865937033144210\\t1588263617</td>\n",
       "    </tr>\n",
       "  </tbody>\n",
       "</table>\n",
       "</div>"
      ],
      "text/plain": [
       "                         mid  impression_time                  docid  \\\n",
       "475846   ba96865937033144210       1588262505       20200425A0GETB00   \n",
       "402207   ba96865937033144210       1588262505         20428k0l3vmxG1   \n",
       "1024317  ba96865937033144210       1588262505         20423i0l1ZgZTU   \n",
       "251182   ba96865937033144210       1588263617       20200423A0U5M100   \n",
       "1279932  ba96865937033144210       1588263617  open_doc_prod27098762   \n",
       "660139   ba96865937033144210       1588263617         20428n0l2Kc0I5   \n",
       "671981   ba96865937033144210       1588263617  open_doc_prod27441970   \n",
       "775179   ba96865937033144210       1588263617  open_doc_prod27630370   \n",
       "1460928  ba96865937033144210       1588263617         20430f0l2GGiMK   \n",
       "693218   ba96865937033144210       1588263617         20430d0l31yrDB   \n",
       "\n",
       "         position  dur                                         click_feat  \\\n",
       "475846          0    0  -2.367145 -1.6647412 -3.3636727 -6.0215836 -1....   \n",
       "402207          1    0  -2.0335872 -1.4561865 -2.9174113 -5.889706 -1....   \n",
       "1024317         2    0  -1.9373739 -0.98902106 -1.6917835 -1.868069 -1...   \n",
       "251182          0    0  -1.7511288 -1.3083367 -2.6993248 -3.620738 -1....   \n",
       "1279932         1   23  -2.151579 -1.2168039 -2.80949 -3.3796303 -1.42...   \n",
       "660139          2    0  -3.0969675 -1.4869043 -2.2352421 -0.39854637 -...   \n",
       "671981          3    0  -1.3036186 -0.8427943 -1.8812513 -2.4491687 -1...   \n",
       "775179          4    0  -1.8898225 -0.9571392 -1.9957663 -0.43434992 -...   \n",
       "1460928         5    0  -2.3241937 -0.9380552 -2.0523584 96.97018 -1.6...   \n",
       "693218          6    0  -3.694609 -1.50496 -2.4728296 277.35797 -2.249...   \n",
       "\n",
       "                                                  dur_feat  \\\n",
       "475846   -5.2149854 -3.6094081 -4.545166 -4.0723243 -2....   \n",
       "402207   -4.3894453 -7.1682467 -8.394838 -7.707675 -2.5...   \n",
       "1024317  -1.7407173 -12.77156 -15.076688 -13.543906 -1....   \n",
       "251182   -4.4357567 -4.9165683 -5.533539 -5.336941 -2.1...   \n",
       "1279932  -4.4778037 -5.8544774 -6.8430624 -6.3423276 -2...   \n",
       "660139   -2.2273054 -26.101847 -31.27649 -27.670265 -1....   \n",
       "671981   -2.9650888 -9.718634 -11.141988 -10.240099 -1....   \n",
       "775179   -3.008373 -11.336805 -13.45088 -12.048143 -1.9...   \n",
       "1460928  -2.9368663 -13.868858 -16.570797 -14.715276 -1...   \n",
       "693218   -3.7510228 -23.945822 -29.135117 -25.503496 -2...   \n",
       "\n",
       "                              impression  \n",
       "475846   ba96865937033144210\\t1588262505  \n",
       "402207   ba96865937033144210\\t1588262505  \n",
       "1024317  ba96865937033144210\\t1588262505  \n",
       "251182   ba96865937033144210\\t1588263617  \n",
       "1279932  ba96865937033144210\\t1588263617  \n",
       "660139   ba96865937033144210\\t1588263617  \n",
       "671981   ba96865937033144210\\t1588263617  \n",
       "775179   ba96865937033144210\\t1588263617  \n",
       "1460928  ba96865937033144210\\t1588263617  \n",
       "693218   ba96865937033144210\\t1588263617  "
      ]
     },
     "execution_count": 17,
     "metadata": {},
     "output_type": "execute_result"
    }
   ],
   "source": [
    "train_df[train_df.mid==mid]"
   ]
  },
  {
   "cell_type": "code",
   "execution_count": 18,
   "metadata": {},
   "outputs": [],
   "source": [
    "impressions = train_df.impression.values"
   ]
  },
  {
   "cell_type": "code",
   "execution_count": 19,
   "metadata": {},
   "outputs": [],
   "source": [
    "def gen_records(df, ofile):\n",
    "  with melt.tfrecords.Writer(ofile) as writer:\n",
    "    pre_impression = None\n",
    "    feature = {}\n",
    "    click_feats = []\n",
    "    dur_feats = []\n",
    "    positions = []\n",
    "    durs = []\n",
    "    mids = []\n",
    "    num_records = 0\n",
    "    for i in tqdm(range(len(df))):\n",
    "      row = df.iloc[i]\n",
    "      impression = row['impression']\n",
    "      if impression != pre_impression:\n",
    "        if durs:\n",
    "          feature['durs'] = melt.gen_feature(durs, np.int64)\n",
    "          feature['positions'] = melt.gen_feature(positions, np.int64)\n",
    "          feature['impression'] = melt.gen_feature(row['impression'], df['impression'].dtype)\n",
    "          feature['click_feats'] = melt.gen_feature(click_feats, np.float32)\n",
    "          feature['dur_feats'] = melt.gen_feature(dur_feats, np.float32)\n",
    "          feature['mids'] = melt.gen_feature(mids, df['mid'],dtype)\n",
    "          record = tf.train.Example(features=tf.train.Features(feature=feature))\n",
    "          writer.write(record)\n",
    "          num_records += 1\n",
    "        feature = {}\n",
    "        click_feats = []\n",
    "        dur_feats = []\n",
    "        positions = []\n",
    "        durs = []\n",
    "        mids = []\n",
    "        pre_impression = impression\n",
    "      else:  \n",
    "        click_feats += list(map(float, row['click_feat'].split()))\n",
    "        dur_feats += list(map(float, row['dur_feat'].split()))\n",
    "        positions += [row['position']]\n",
    "        durs += [row['dur']]\n",
    "        mids += [row['mid']]\n",
    "        \n",
    "    if durs:\n",
    "      feature['dur'] = melt.gen_feature(durs, np.int64)\n",
    "      feature['position'] = melt.gen_feature(positions, np.int64)\n",
    "      feature['impression'] = melt.gen_feature(row['impression'], df['impression'].dtype)\n",
    "      feature['click_feats'] = melt.gen_feature(click_feats, np.float32)\n",
    "      feature['dur_feats'] = melt.gen_feature(dur_feats, np.float32)\n",
    "      feature['mids'] = melt.gen_feature(mids, df['mid'],dtype)\n",
    "      record = tf.train.Example(features=tf.train.Features(feature=feature))\n",
    "      writer.write(record)\n",
    "      num_records += 1\n",
    "      \n",
    "    with open(os.path.join(os.path.dirname(ofile), 'num_records.txt'), 'w') as out:\n",
    "      print(num_records, file=out)"
   ]
  },
  {
   "cell_type": "code",
   "execution_count": 20,
   "metadata": {},
   "outputs": [
    {
     "name": "stderr",
     "output_type": "stream",
     "text": [
      "  0%|          | 0/1573000 [00:00<?, ?it/s]\n"
     ]
    },
    {
     "ename": "NameError",
     "evalue": "name 'dtype' is not defined",
     "output_type": "error",
     "traceback": [
      "\u001b[0;31m---------------------------------------------------------------------------\u001b[0m",
      "\u001b[0;31mNameError\u001b[0m                                 Traceback (most recent call last)",
      "\u001b[0;32m<ipython-input-20-adc8a2e6c8a7>\u001b[0m in \u001b[0;36m<module>\u001b[0;34m()\u001b[0m\n\u001b[0;32m----> 1\u001b[0;31m \u001b[0mgen_records\u001b[0m\u001b[0;34m(\u001b[0m\u001b[0mtrain_df\u001b[0m\u001b[0;34m,\u001b[0m \u001b[0;34m'/home/gezi/tmp/rerank/tfrecords/train/2020050100/0.record'\u001b[0m\u001b[0;34m)\u001b[0m\u001b[0;34m\u001b[0m\u001b[0;34m\u001b[0m\u001b[0m\n\u001b[0m",
      "\u001b[0;32m<ipython-input-19-50c378b0228b>\u001b[0m in \u001b[0;36mgen_records\u001b[0;34m(df, ofile)\u001b[0m\n\u001b[1;32m     19\u001b[0m           \u001b[0mfeature\u001b[0m\u001b[0;34m[\u001b[0m\u001b[0;34m'click_feats'\u001b[0m\u001b[0;34m]\u001b[0m \u001b[0;34m=\u001b[0m \u001b[0mmelt\u001b[0m\u001b[0;34m.\u001b[0m\u001b[0mgen_feature\u001b[0m\u001b[0;34m(\u001b[0m\u001b[0mclick_feats\u001b[0m\u001b[0;34m,\u001b[0m \u001b[0mnp\u001b[0m\u001b[0;34m.\u001b[0m\u001b[0mfloat32\u001b[0m\u001b[0;34m)\u001b[0m\u001b[0;34m\u001b[0m\u001b[0;34m\u001b[0m\u001b[0m\n\u001b[1;32m     20\u001b[0m           \u001b[0mfeature\u001b[0m\u001b[0;34m[\u001b[0m\u001b[0;34m'dur_feats'\u001b[0m\u001b[0;34m]\u001b[0m \u001b[0;34m=\u001b[0m \u001b[0mmelt\u001b[0m\u001b[0;34m.\u001b[0m\u001b[0mgen_feature\u001b[0m\u001b[0;34m(\u001b[0m\u001b[0mdur_feats\u001b[0m\u001b[0;34m,\u001b[0m \u001b[0mnp\u001b[0m\u001b[0;34m.\u001b[0m\u001b[0mfloat32\u001b[0m\u001b[0;34m)\u001b[0m\u001b[0;34m\u001b[0m\u001b[0;34m\u001b[0m\u001b[0m\n\u001b[0;32m---> 21\u001b[0;31m           \u001b[0mfeature\u001b[0m\u001b[0;34m[\u001b[0m\u001b[0;34m'mids'\u001b[0m\u001b[0;34m]\u001b[0m \u001b[0;34m=\u001b[0m \u001b[0mmelt\u001b[0m\u001b[0;34m.\u001b[0m\u001b[0mgen_feature\u001b[0m\u001b[0;34m(\u001b[0m\u001b[0mmids\u001b[0m\u001b[0;34m,\u001b[0m \u001b[0mdf\u001b[0m\u001b[0;34m[\u001b[0m\u001b[0;34m'mid'\u001b[0m\u001b[0;34m]\u001b[0m\u001b[0;34m,\u001b[0m\u001b[0mdtype\u001b[0m\u001b[0;34m)\u001b[0m\u001b[0;34m\u001b[0m\u001b[0;34m\u001b[0m\u001b[0m\n\u001b[0m\u001b[1;32m     22\u001b[0m           \u001b[0mrecord\u001b[0m \u001b[0;34m=\u001b[0m \u001b[0mtf\u001b[0m\u001b[0;34m.\u001b[0m\u001b[0mtrain\u001b[0m\u001b[0;34m.\u001b[0m\u001b[0mExample\u001b[0m\u001b[0;34m(\u001b[0m\u001b[0mfeatures\u001b[0m\u001b[0;34m=\u001b[0m\u001b[0mtf\u001b[0m\u001b[0;34m.\u001b[0m\u001b[0mtrain\u001b[0m\u001b[0;34m.\u001b[0m\u001b[0mFeatures\u001b[0m\u001b[0;34m(\u001b[0m\u001b[0mfeature\u001b[0m\u001b[0;34m=\u001b[0m\u001b[0mfeature\u001b[0m\u001b[0;34m)\u001b[0m\u001b[0;34m)\u001b[0m\u001b[0;34m\u001b[0m\u001b[0;34m\u001b[0m\u001b[0m\n\u001b[1;32m     23\u001b[0m           \u001b[0mwriter\u001b[0m\u001b[0;34m.\u001b[0m\u001b[0mwrite\u001b[0m\u001b[0;34m(\u001b[0m\u001b[0mrecord\u001b[0m\u001b[0;34m)\u001b[0m\u001b[0;34m\u001b[0m\u001b[0;34m\u001b[0m\u001b[0m\n",
      "\u001b[0;31mNameError\u001b[0m: name 'dtype' is not defined"
     ]
    }
   ],
   "source": [
    "gen_records(train_df, '/home/gezi/tmp/rerank/tfrecords/train/2020050100/0.record')"
   ]
  },
  {
   "cell_type": "code",
   "execution_count": null,
   "metadata": {},
   "outputs": [],
   "source": [
    "valid_df = pd.read_csv(f'/home/gezi/tmp/rerank/feats/valid/{valid_hour}.txt')\n",
    "valid_df['impression'] = valid_df['mid'] + '\\t' + valid_df['impression_time'].astype(str)\n",
    "valid_df = valid_df.sort_values(['impression', 'position'])"
   ]
  },
  {
   "cell_type": "code",
   "execution_count": null,
   "metadata": {},
   "outputs": [],
   "source": [
    "gen_records(valid_df, '/home/gezi/tmp/rerank/tfrecords/valid/2020050103/0.record')"
   ]
  },
  {
   "cell_type": "code",
   "execution_count": null,
   "metadata": {},
   "outputs": [],
   "source": []
  },
  {
   "cell_type": "code",
   "execution_count": null,
   "metadata": {},
   "outputs": [],
   "source": []
  }
 ],
 "metadata": {
  "kernelspec": {
   "display_name": "Python 3",
   "language": "python",
   "name": "python3"
  },
  "language_info": {
   "codemirror_mode": {
    "name": "ipython",
    "version": 3
   },
   "file_extension": ".py",
   "mimetype": "text/x-python",
   "name": "python",
   "nbconvert_exporter": "python",
   "pygments_lexer": "ipython3",
   "version": "3.6.8"
  }
 },
 "nbformat": 4,
 "nbformat_minor": 2
}
