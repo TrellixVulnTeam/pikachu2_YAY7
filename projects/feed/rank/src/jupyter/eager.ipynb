{
 "cells": [
  {
   "cell_type": "code",
   "execution_count": 3,
   "metadata": {},
   "outputs": [
    {
     "data": {
      "text/plain": [
       "<tf.Tensor: id=11, shape=(3, 4), dtype=int32, numpy=\n",
       "array([[5, 5, 5, 5],\n",
       "       [0, 0, 0, 0],\n",
       "       [5, 6, 7, 8]], dtype=int32)>"
      ]
     },
     "execution_count": 3,
     "metadata": {},
     "output_type": "execute_result"
    }
   ],
   "source": [
    "import tensorflow as tf\n",
    "tf.enable_eager_execution()\n",
    "c = tf.constant([[1,2,3,4], [5,6,7,8], [4,3,2,1]])\n",
    "tf.unsorted_segment_sum(c, tf.constant([0, 2, 0]), num_segments=3)\n",
    "# ==> [[ 5,  5, 5, 5],\n",
    "#       [5,  6, 7, 8]]"
   ]
  },
  {
   "cell_type": "code",
   "execution_count": 4,
   "metadata": {},
   "outputs": [],
   "source": [
    "x = tf.constant([0])"
   ]
  },
  {
   "cell_type": "code",
   "execution_count": 6,
   "metadata": {},
   "outputs": [],
   "source": [
    "y = tf.constant([0], dtype=tf.int64)"
   ]
  },
  {
   "cell_type": "code",
   "execution_count": 10,
   "metadata": {},
   "outputs": [
    {
     "data": {
      "text/plain": [
       "<tf.Tensor: id=17, shape=(1,), dtype=bool, numpy=array([ True])>"
      ]
     },
     "execution_count": 10,
     "metadata": {},
     "output_type": "execute_result"
    }
   ],
   "source": [
    "tf.equal(y, tf.constant([0], dtype=tf.int64))"
   ]
  },
  {
   "cell_type": "code",
   "execution_count": 15,
   "metadata": {},
   "outputs": [
    {
     "data": {
      "text/plain": [
       "<tf.Tensor: id=34, shape=(), dtype=bool, numpy=True>"
      ]
     },
     "execution_count": 15,
     "metadata": {},
     "output_type": "execute_result"
    }
   ],
   "source": [
    "tf.equal(tf.reduce_sum(y), tf.constant(0, dtype=y.dtype))"
   ]
  },
  {
   "cell_type": "code",
   "execution_count": 16,
   "metadata": {},
   "outputs": [],
   "source": [
    "x = tf.constant([[1,2,3], [4,5,6]])"
   ]
  },
  {
   "cell_type": "code",
   "execution_count": 17,
   "metadata": {},
   "outputs": [
    {
     "data": {
      "text/plain": [
       "<tf.Tensor: id=36, shape=(2, 3), dtype=int32, numpy=\n",
       "array([[1, 2, 3],\n",
       "       [4, 5, 6]], dtype=int32)>"
      ]
     },
     "execution_count": 17,
     "metadata": {},
     "output_type": "execute_result"
    }
   ],
   "source": [
    "x"
   ]
  },
  {
   "cell_type": "code",
   "execution_count": 24,
   "metadata": {},
   "outputs": [
    {
     "data": {
      "text/plain": [
       "<tf.Tensor: id=70, shape=(10, 2, 3), dtype=int32, numpy=\n",
       "array([[[4, 5, 6],\n",
       "        [1, 2, 3]],\n",
       "\n",
       "       [[4, 5, 6],\n",
       "        [1, 2, 3]],\n",
       "\n",
       "       [[4, 5, 6],\n",
       "        [1, 2, 3]],\n",
       "\n",
       "       [[4, 5, 6],\n",
       "        [1, 2, 3]],\n",
       "\n",
       "       [[4, 5, 6],\n",
       "        [1, 2, 3]],\n",
       "\n",
       "       [[4, 5, 6],\n",
       "        [1, 2, 3]],\n",
       "\n",
       "       [[4, 5, 6],\n",
       "        [1, 2, 3]],\n",
       "\n",
       "       [[4, 5, 6],\n",
       "        [1, 2, 3]],\n",
       "\n",
       "       [[4, 5, 6],\n",
       "        [1, 2, 3]],\n",
       "\n",
       "       [[4, 5, 6],\n",
       "        [1, 2, 3]]], dtype=int32)>"
      ]
     },
     "execution_count": 24,
     "metadata": {},
     "output_type": "execute_result"
    }
   ],
   "source": [
    "tf.tile(tf.expand_dims(tf.nn.embedding_lookup(x, [1,0]), 0), [10, 1, 1])"
   ]
  },
  {
   "cell_type": "code",
   "execution_count": 31,
   "metadata": {},
   "outputs": [
    {
     "data": {
      "text/plain": [
       "<tf.Tensor: id=108, shape=(1, 2), dtype=int32, numpy=array([[1, 0]], dtype=int32)>"
      ]
     },
     "execution_count": 31,
     "metadata": {},
     "output_type": "execute_result"
    }
   ],
   "source": [
    "tf.expand_dims([1, 0], 0)"
   ]
  },
  {
   "cell_type": "code",
   "execution_count": 32,
   "metadata": {},
   "outputs": [
    {
     "data": {
      "text/plain": [
       "<tf.Tensor: id=114, shape=(1, 2, 3), dtype=int32, numpy=\n",
       "array([[[4, 5, 6],\n",
       "        [1, 2, 3]]], dtype=int32)>"
      ]
     },
     "execution_count": 32,
     "metadata": {},
     "output_type": "execute_result"
    }
   ],
   "source": [
    "u = tf.nn.embedding_lookup(x, tf.expand_dims([1,0],0))\n",
    "u"
   ]
  },
  {
   "cell_type": "code",
   "execution_count": 30,
   "metadata": {},
   "outputs": [
    {
     "data": {
      "text/plain": [
       "<tf.Tensor: id=104, shape=(20, 1, 3), dtype=int32, numpy=\n",
       "array([[[4, 5, 6]],\n",
       "\n",
       "       [[1, 2, 3]],\n",
       "\n",
       "       [[4, 5, 6]],\n",
       "\n",
       "       [[1, 2, 3]],\n",
       "\n",
       "       [[4, 5, 6]],\n",
       "\n",
       "       [[1, 2, 3]],\n",
       "\n",
       "       [[4, 5, 6]],\n",
       "\n",
       "       [[1, 2, 3]],\n",
       "\n",
       "       [[4, 5, 6]],\n",
       "\n",
       "       [[1, 2, 3]],\n",
       "\n",
       "       [[4, 5, 6]],\n",
       "\n",
       "       [[1, 2, 3]],\n",
       "\n",
       "       [[4, 5, 6]],\n",
       "\n",
       "       [[1, 2, 3]],\n",
       "\n",
       "       [[4, 5, 6]],\n",
       "\n",
       "       [[1, 2, 3]],\n",
       "\n",
       "       [[4, 5, 6]],\n",
       "\n",
       "       [[1, 2, 3]],\n",
       "\n",
       "       [[4, 5, 6]],\n",
       "\n",
       "       [[1, 2, 3]]], dtype=int32)>"
      ]
     },
     "execution_count": 30,
     "metadata": {},
     "output_type": "execute_result"
    }
   ],
   "source": [
    "tf.tile(u, [10, 1, 1])"
   ]
  },
  {
   "cell_type": "code",
   "execution_count": 33,
   "metadata": {},
   "outputs": [
    {
     "name": "stderr",
     "output_type": "stream",
     "text": [
      "tensorflow_version: 1.14.0\n",
      "torch_version: 1.3.1\n",
      "Using TensorFlow backend.\n"
     ]
    },
    {
     "name": "stdout",
     "output_type": "stream",
     "text": [
      "WARNING:tensorflow:\n",
      "The TensorFlow contrib module will not be included in TensorFlow 2.0.\n",
      "For more information, please see:\n",
      "  * https://github.com/tensorflow/community/blob/master/rfcs/20180907-contrib-sunset.md\n",
      "  * https://github.com/tensorflow/addons\n",
      "  * https://github.com/tensorflow/io (for I/O related ops)\n",
      "If you depend on functionality not listed there, please file an issue.\n",
      "\n"
     ]
    }
   ],
   "source": [
    "import melt"
   ]
  },
  {
   "cell_type": "code",
   "execution_count": 53,
   "metadata": {},
   "outputs": [],
   "source": [
    "from tensorflow.keras import backend as K\n",
    "def is_null(x):\n",
    "  return tf.equal(tf.reduce_sum(x), tf.constant(0, dtype=x.dtype))\n",
    "\n",
    "def tile(x, n):\n",
    "  return tf.tile(tf.expand_dims(x, 0), [n, 1])\n",
    "\n",
    "def tile_embs(embs, n):\n",
    "  return tf.tile(embs, [n, 1, 1])\n",
    "\n",
    "def merge_embs(emb, user_index, index):\n",
    "  ux = emb(tf.expand_dims(user_index, 0))\n",
    "  ux = tile_embs(ux, melt.get_shape(index, 0))\n",
    "  x = emb(index)\n",
    "  return K.concatenate([ux, x], 1)"
   ]
  },
  {
   "cell_type": "code",
   "execution_count": 54,
   "metadata": {},
   "outputs": [
    {
     "data": {
      "text/plain": [
       "<tf.Tensor: id=553, shape=(3, 3), dtype=int32, numpy=\n",
       "array([[1, 2, 3],\n",
       "       [1, 2, 3],\n",
       "       [1, 2, 3]], dtype=int32)>"
      ]
     },
     "execution_count": 54,
     "metadata": {},
     "output_type": "execute_result"
    }
   ],
   "source": [
    "tile([1,2,3], 3)"
   ]
  },
  {
   "cell_type": "code",
   "execution_count": 43,
   "metadata": {},
   "outputs": [],
   "source": [
    "emb = melt.layers.HashEmbedding(100, 20, 10)"
   ]
  },
  {
   "cell_type": "code",
   "execution_count": 44,
   "metadata": {},
   "outputs": [
    {
     "data": {
      "text/plain": [
       "<tf.Tensor: id=427, shape=(3, 1, 20), dtype=float32, numpy=\n",
       "array([[[-1.4232375e-05, -2.1683313e-03,  1.8446808e-03,  1.5733927e-03,\n",
       "         -5.1552505e-04, -1.1802160e-03,  1.2605854e-03,  1.5828777e-03,\n",
       "          1.4448896e-04, -2.0928057e-03,  1.2828046e-03,  7.4542640e-04,\n",
       "         -1.9718572e-03,  4.2032116e-05,  2.0312620e-03, -6.4412970e-04,\n",
       "         -6.0002541e-04,  6.6985504e-04, -1.5372126e-03, -1.4419297e-03]],\n",
       "\n",
       "       [[-2.7896799e-03,  2.3114060e-03, -7.0558477e-04, -2.4944074e-03,\n",
       "          2.1651583e-03,  2.0092248e-03,  1.8340673e-03, -1.4124392e-03,\n",
       "         -5.5292388e-05,  1.9774423e-04,  9.8822196e-04, -1.1506183e-03,\n",
       "         -2.2169889e-04,  2.1415241e-03,  8.4688445e-04,  3.1226664e-03,\n",
       "         -1.2198508e-03,  1.6570893e-03,  1.5899884e-03,  2.2374187e-04]],\n",
       "\n",
       "       [[ 9.4990181e-05, -5.1311581e-06, -1.7140435e-04,  5.6100008e-04,\n",
       "          2.4221675e-04, -5.6179694e-04,  3.7013163e-04, -2.7519729e-04,\n",
       "          2.9147131e-04,  6.3755014e-04, -6.2895881e-04,  2.9638121e-04,\n",
       "         -2.4978691e-04, -5.5453752e-04, -6.4026576e-04,  9.9250465e-05,\n",
       "          3.4029380e-04, -1.0845708e-04,  1.9472455e-04,  1.1213956e-04]]],\n",
       "      dtype=float32)>"
      ]
     },
     "execution_count": 44,
     "metadata": {},
     "output_type": "execute_result"
    }
   ],
   "source": [
    "emb(tf.expand_dims([0,1, 2], 1))"
   ]
  },
  {
   "cell_type": "code",
   "execution_count": 45,
   "metadata": {},
   "outputs": [
    {
     "data": {
      "text/plain": [
       "<tf.Tensor: id=504, shape=(2, 4, 20), dtype=float32, numpy=\n",
       "array([[[-1.4232375e-05, -2.1683313e-03,  1.8446808e-03,  1.5733927e-03,\n",
       "         -5.1552505e-04, -1.1802160e-03,  1.2605854e-03,  1.5828777e-03,\n",
       "          1.4448896e-04, -2.0928057e-03,  1.2828046e-03,  7.4542640e-04,\n",
       "         -1.9718572e-03,  4.2032116e-05,  2.0312620e-03, -6.4412970e-04,\n",
       "         -6.0002541e-04,  6.6985504e-04, -1.5372126e-03, -1.4419297e-03],\n",
       "        [-2.7896799e-03,  2.3114060e-03, -7.0558477e-04, -2.4944074e-03,\n",
       "          2.1651583e-03,  2.0092248e-03,  1.8340673e-03, -1.4124392e-03,\n",
       "         -5.5292388e-05,  1.9774423e-04,  9.8822196e-04, -1.1506183e-03,\n",
       "         -2.2169889e-04,  2.1415241e-03,  8.4688445e-04,  3.1226664e-03,\n",
       "         -1.2198508e-03,  1.6570893e-03,  1.5899884e-03,  2.2374187e-04],\n",
       "        [ 9.4990181e-05, -5.1311581e-06, -1.7140435e-04,  5.6100008e-04,\n",
       "          2.4221675e-04, -5.6179694e-04,  3.7013163e-04, -2.7519729e-04,\n",
       "          2.9147131e-04,  6.3755014e-04, -6.2895881e-04,  2.9638121e-04,\n",
       "         -2.4978691e-04, -5.5453752e-04, -6.4026576e-04,  9.9250465e-05,\n",
       "          3.4029380e-04, -1.0845708e-04,  1.9472455e-04,  1.1213956e-04],\n",
       "        [ 1.6778730e-03, -1.8137405e-03, -4.8618102e-05,  1.3588895e-03,\n",
       "         -7.8795716e-04, -1.3541122e-03, -2.5145020e-03,  1.4011990e-03,\n",
       "         -8.8877301e-04,  6.1447464e-04, -1.0524940e-03,  2.7774228e-04,\n",
       "         -3.6355545e-04, -1.0310706e-03, -8.5961842e-04, -2.5146820e-03,\n",
       "          1.2303712e-03, -2.0002965e-03, -1.3431327e-03, -1.2016579e-03]],\n",
       "\n",
       "       [[-1.4232375e-05, -2.1683313e-03,  1.8446808e-03,  1.5733927e-03,\n",
       "         -5.1552505e-04, -1.1802160e-03,  1.2605854e-03,  1.5828777e-03,\n",
       "          1.4448896e-04, -2.0928057e-03,  1.2828046e-03,  7.4542640e-04,\n",
       "         -1.9718572e-03,  4.2032116e-05,  2.0312620e-03, -6.4412970e-04,\n",
       "         -6.0002541e-04,  6.6985504e-04, -1.5372126e-03, -1.4419297e-03],\n",
       "        [-2.7896799e-03,  2.3114060e-03, -7.0558477e-04, -2.4944074e-03,\n",
       "          2.1651583e-03,  2.0092248e-03,  1.8340673e-03, -1.4124392e-03,\n",
       "         -5.5292388e-05,  1.9774423e-04,  9.8822196e-04, -1.1506183e-03,\n",
       "         -2.2169889e-04,  2.1415241e-03,  8.4688445e-04,  3.1226664e-03,\n",
       "         -1.2198508e-03,  1.6570893e-03,  1.5899884e-03,  2.2374187e-04],\n",
       "        [ 9.4990181e-05, -5.1311581e-06, -1.7140435e-04,  5.6100008e-04,\n",
       "          2.4221675e-04, -5.6179694e-04,  3.7013163e-04, -2.7519729e-04,\n",
       "          2.9147131e-04,  6.3755014e-04, -6.2895881e-04,  2.9638121e-04,\n",
       "         -2.4978691e-04, -5.5453752e-04, -6.4026576e-04,  9.9250465e-05,\n",
       "          3.4029380e-04, -1.0845708e-04,  1.9472455e-04,  1.1213956e-04],\n",
       "        [ 5.4522185e-05, -3.6636073e-04,  9.5895748e-04, -7.1124354e-04,\n",
       "         -1.4911437e-03,  1.0375483e-03, -9.1575243e-04,  6.2558684e-04,\n",
       "         -4.2374610e-04, -2.3875369e-03,  1.3881841e-03, -4.3422068e-04,\n",
       "          1.2591624e-03,  9.3781238e-04,  2.1591343e-03, -9.3738479e-04,\n",
       "         -8.9085149e-04,  2.2304925e-04, -9.6891163e-04,  3.0900270e-04]]],\n",
       "      dtype=float32)>"
      ]
     },
     "execution_count": 45,
     "metadata": {},
     "output_type": "execute_result"
    }
   ],
   "source": [
    "merge_embs(emb, tf.constant([0, 1, 2]), tf.constant([[3], [4]]))"
   ]
  },
  {
   "cell_type": "code",
   "execution_count": 50,
   "metadata": {},
   "outputs": [
    {
     "data": {
      "text/plain": [
       "<tf.Tensor: id=537, shape=(2,), dtype=int32, numpy=array([6, 5], dtype=int32)>"
      ]
     },
     "execution_count": 50,
     "metadata": {},
     "output_type": "execute_result"
    }
   ],
   "source": [
    "melt.length(tf.constant([[1, 2, 3]])) + melt.length([[1,2,3], [4,5,0]])"
   ]
  },
  {
   "cell_type": "code",
   "execution_count": 52,
   "metadata": {},
   "outputs": [
    {
     "data": {
      "text/plain": [
       "<tf.Tensor: id=547, shape=(2,), dtype=int32, numpy=array([6, 5], dtype=int32)>"
      ]
     },
     "execution_count": 52,
     "metadata": {},
     "output_type": "execute_result"
    }
   ],
   "source": [
    " melt.get_shape(tf.constant([1, 2, 3]), 0) + melt.length([[1,2,3], [4,5,0]])"
   ]
  },
  {
   "cell_type": "code",
   "execution_count": 55,
   "metadata": {},
   "outputs": [],
   "source": [
    "x = tf.constant([[1,2,3], [4,5,6]])"
   ]
  },
  {
   "cell_type": "code",
   "execution_count": 56,
   "metadata": {},
   "outputs": [],
   "source": [
    "y = tf.constant([1])"
   ]
  },
  {
   "cell_type": "code",
   "execution_count": 59,
   "metadata": {},
   "outputs": [
    {
     "data": {
      "text/plain": [
       "<tf.Tensor: id=566, shape=(2, 2), dtype=int32, numpy=\n",
       "array([[2, 3],\n",
       "       [5, 6]], dtype=int32)>"
      ]
     },
     "execution_count": 59,
     "metadata": {},
     "output_type": "execute_result"
    }
   ],
   "source": [
    "x[:,1:]"
   ]
  },
  {
   "cell_type": "code",
   "execution_count": 60,
   "metadata": {},
   "outputs": [
    {
     "ename": "TypeError",
     "evalue": "Only integers, slices (`:`), ellipsis (`...`), tf.newaxis (`None`) and scalar tf.int32/tf.int64 tensors are valid indices, got <tf.Tensor: id=556, shape=(1,), dtype=int32, numpy=array([1], dtype=int32)>",
     "output_type": "error",
     "traceback": [
      "\u001b[0;31m---------------------------------------------------------------------------\u001b[0m",
      "\u001b[0;31mTypeError\u001b[0m                                 Traceback (most recent call last)",
      "\u001b[0;32m<ipython-input-60-41fa7bfc1f2f>\u001b[0m in \u001b[0;36m<module>\u001b[0;34m()\u001b[0m\n\u001b[0;32m----> 1\u001b[0;31m \u001b[0mx\u001b[0m\u001b[0;34m[\u001b[0m\u001b[0;34m:\u001b[0m\u001b[0;34m,\u001b[0m\u001b[0my\u001b[0m\u001b[0;34m:\u001b[0m\u001b[0;34m]\u001b[0m\u001b[0;34m\u001b[0m\u001b[0;34m\u001b[0m\u001b[0m\n\u001b[0m",
      "\u001b[0;32m/home/gezi/env/anaconda3/lib/python3.6/site-packages/tensorflow/python/ops/array_ops.py\u001b[0m in \u001b[0;36m_slice_helper\u001b[0;34m(tensor, slice_spec, var)\u001b[0m\n\u001b[1;32m    615\u001b[0m       \u001b[0;31m# whereas a[::1] gives slice(None,None,None)\u001b[0m\u001b[0;34m\u001b[0m\u001b[0;34m\u001b[0m\u001b[0;34m\u001b[0m\u001b[0m\n\u001b[1;32m    616\u001b[0m       \u001b[0;32mif\u001b[0m \u001b[0ms\u001b[0m\u001b[0;34m.\u001b[0m\u001b[0mstart\u001b[0m \u001b[0;32mis\u001b[0m \u001b[0;32mnot\u001b[0m \u001b[0;32mNone\u001b[0m \u001b[0;32mand\u001b[0m \u001b[0ms\u001b[0m\u001b[0;34m.\u001b[0m\u001b[0mstart\u001b[0m \u001b[0;32mis\u001b[0m \u001b[0;32mnot\u001b[0m \u001b[0msys\u001b[0m\u001b[0;34m.\u001b[0m\u001b[0mmaxsize\u001b[0m\u001b[0;34m:\u001b[0m\u001b[0;34m\u001b[0m\u001b[0;34m\u001b[0m\u001b[0m\n\u001b[0;32m--> 617\u001b[0;31m         \u001b[0m_check_index\u001b[0m\u001b[0;34m(\u001b[0m\u001b[0ms\u001b[0m\u001b[0;34m.\u001b[0m\u001b[0mstart\u001b[0m\u001b[0;34m)\u001b[0m\u001b[0;34m\u001b[0m\u001b[0;34m\u001b[0m\u001b[0m\n\u001b[0m\u001b[1;32m    618\u001b[0m         \u001b[0mbegin\u001b[0m\u001b[0;34m.\u001b[0m\u001b[0mappend\u001b[0m\u001b[0;34m(\u001b[0m\u001b[0ms\u001b[0m\u001b[0;34m.\u001b[0m\u001b[0mstart\u001b[0m\u001b[0;34m)\u001b[0m\u001b[0;34m\u001b[0m\u001b[0;34m\u001b[0m\u001b[0m\n\u001b[1;32m    619\u001b[0m       \u001b[0;32melse\u001b[0m\u001b[0;34m:\u001b[0m\u001b[0;34m\u001b[0m\u001b[0;34m\u001b[0m\u001b[0m\n",
      "\u001b[0;32m/home/gezi/env/anaconda3/lib/python3.6/site-packages/tensorflow/python/ops/array_ops.py\u001b[0m in \u001b[0;36m_check_index\u001b[0;34m(idx)\u001b[0m\n\u001b[1;32m    533\u001b[0m     \u001b[0;31m# TODO(slebedev): IndexError seems more appropriate here, but it\u001b[0m\u001b[0;34m\u001b[0m\u001b[0;34m\u001b[0m\u001b[0;34m\u001b[0m\u001b[0m\n\u001b[1;32m    534\u001b[0m     \u001b[0;31m# will break `_slice_helper` contract.\u001b[0m\u001b[0;34m\u001b[0m\u001b[0;34m\u001b[0m\u001b[0;34m\u001b[0m\u001b[0m\n\u001b[0;32m--> 535\u001b[0;31m     \u001b[0;32mraise\u001b[0m \u001b[0mTypeError\u001b[0m\u001b[0;34m(\u001b[0m\u001b[0m_SLICE_TYPE_ERROR\u001b[0m \u001b[0;34m+\u001b[0m \u001b[0;34m\", got {!r}\"\u001b[0m\u001b[0;34m.\u001b[0m\u001b[0mformat\u001b[0m\u001b[0;34m(\u001b[0m\u001b[0midx\u001b[0m\u001b[0;34m)\u001b[0m\u001b[0;34m)\u001b[0m\u001b[0;34m\u001b[0m\u001b[0;34m\u001b[0m\u001b[0m\n\u001b[0m\u001b[1;32m    536\u001b[0m \u001b[0;34m\u001b[0m\u001b[0m\n\u001b[1;32m    537\u001b[0m \u001b[0;34m\u001b[0m\u001b[0m\n",
      "\u001b[0;31mTypeError\u001b[0m: Only integers, slices (`:`), ellipsis (`...`), tf.newaxis (`None`) and scalar tf.int32/tf.int64 tensors are valid indices, got <tf.Tensor: id=556, shape=(1,), dtype=int32, numpy=array([1], dtype=int32)>"
     ]
    }
   ],
   "source": [
    "x[:,y:]"
   ]
  },
  {
   "cell_type": "code",
   "execution_count": null,
   "metadata": {},
   "outputs": [],
   "source": []
  }
 ],
 "metadata": {
  "kernelspec": {
   "display_name": "Python 3",
   "language": "python",
   "name": "python3"
  },
  "language_info": {
   "codemirror_mode": {
    "name": "ipython",
    "version": 3
   },
   "file_extension": ".py",
   "mimetype": "text/x-python",
   "name": "python",
   "nbconvert_exporter": "python",
   "pygments_lexer": "ipython3",
   "version": "3.6.8"
  }
 },
 "nbformat": 4,
 "nbformat_minor": 2
}
