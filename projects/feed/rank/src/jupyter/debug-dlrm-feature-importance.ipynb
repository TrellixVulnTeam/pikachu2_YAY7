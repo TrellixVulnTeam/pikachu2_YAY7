{
 "cells": [
  {
   "cell_type": "code",
   "execution_count": 1,
   "metadata": {},
   "outputs": [
    {
     "data": {
      "text/html": [
       "        <script type=\"text/javascript\">\n",
       "        window.PlotlyConfig = {MathJaxConfig: 'local'};\n",
       "        if (window.MathJax) {MathJax.Hub.Config({SVG: {font: \"STIX-Web\"}});}\n",
       "        if (typeof require !== 'undefined') {\n",
       "        require.undef(\"plotly\");\n",
       "        requirejs.config({\n",
       "            paths: {\n",
       "                'plotly': ['https://cdn.plot.ly/plotly-latest.min']\n",
       "            }\n",
       "        });\n",
       "        require(['plotly'], function(Plotly) {\n",
       "            window._Plotly = Plotly;\n",
       "        });\n",
       "        }\n",
       "        </script>\n",
       "        "
      ]
     },
     "metadata": {},
     "output_type": "display_data"
    }
   ],
   "source": [
    "import pymp\n",
    "from multiprocessing import Manager, cpu_count \n",
    "import sys\n",
    "import os\n",
    "import glob \n",
    "import gezi\n",
    "from gezi import tqdm\n",
    "import pandas as pd\n",
    "import json\n",
    "import tensorflow as tf\n",
    "from absl import flags\n",
    "FLAGS = flags.FLAGS\n",
    "import melt\n",
    "\n",
    "from plotly.graph_objs import Scatter,Layout\n",
    "import plotly\n",
    "import plotly.offline as py\n",
    "import numpy as np\n",
    "import plotly.graph_objs as go\n",
    "from plotly.subplots import make_subplots\n",
    "\n",
    "#setting offilne\n",
    "plotly.offline.init_notebook_mode(connected=True)\n",
    "tf.enable_eager_execution()\n",
    "\n",
    "from projects.feed.rank.src import config\n",
    "from projects.feed.rank.src.model import Model\n",
    "from projects.feed.rank.src.tfrecord_dataset import Dataset"
   ]
  },
  {
   "cell_type": "code",
   "execution_count": 2,
   "metadata": {},
   "outputs": [
    {
     "data": {
      "text/html": [
       "<style>\n",
       ".output_wrapper, .output {\n",
       "    height:auto !important;\n",
       "    max-height:10000px;  /* your desired max-height here */\n",
       "}\n",
       ".output_scroll {\n",
       "    box-shadow:none !important;\n",
       "    webkit-box-shadow:none !important;\n",
       "}\n",
       "</style>"
      ],
      "text/plain": [
       "<IPython.core.display.HTML object>"
      ]
     },
     "metadata": {},
     "output_type": "display_data"
    }
   ],
   "source": [
    "%%html\n",
    "<style>\n",
    ".output_wrapper, .output {\n",
    "    height:auto !important;\n",
    "    max-height:10000px;  /* your desired max-height here */\n",
    "}\n",
    ".output_scroll {\n",
    "    box-shadow:none !important;\n",
    "    webkit-box-shadow:none !important;\n",
    "}\n",
    "</style>"
   ]
  },
  {
   "cell_type": "code",
   "execution_count": 3,
   "metadata": {},
   "outputs": [],
   "source": [
    "product='sgsapp'\n",
    "mark='tuwen'"
   ]
  },
  {
   "cell_type": "code",
   "execution_count": 4,
   "metadata": {},
   "outputs": [
    {
     "name": "stdout",
     "output_type": "stream",
     "text": [
      "model: /search/odin/publicData/CloudS/libowei/rank_online/data/tuwen_hour_sgsapp_v1/models/8/2020050819\n",
      "record: /search/odin/publicData/CloudS/libowei/rank/newmse/data/tuwen_hour_newmse_v1/tfrecords/2020050822\n"
     ]
    },
    {
     "name": "stderr",
     "output_type": "stream",
     "text": [
      "2020-05-12 14:03:06 0:00:00 Tf dataset and Tf model train in Eager mode, keras False, distributed:False\n",
      "2020-05-12 14:03:06 0:00:00 log_level: 20 (try --debug to show more or --log_level=(> 20) to show less(no INFO), try --verbose to show train/valid loss intervaly)\n",
      "2020-05-12 14:03:06 0:00:00 batch_size: 512 eval_batch_size: 512 batch_size_per_gpu: 512 num_gpus: 0 gpu: [] CUDA_VISIABLE_DEVICES=[-1] work_mode: train distributed: False horovod: False\n",
      "2020-05-12 14:03:06 0:00:00 model: [8] model_dir: [/search/odin/libowei/rank/tuwen/model/8]\n",
      "2020-05-12 14:03:07 0:00:00 Latest checkpoint: /search/odin/publicData/CloudS/libowei/rank_online/data/tuwen_hour_sgsapp_v1/models/8/2020050819/model.ckpt-2020050819-1.00-9677\n"
     ]
    }
   ],
   "source": [
    "# 载入模型\n",
    "model_hour = '2020050819'\n",
    "valid_hour = '2020050822'\n",
    "# valid_hour = '2020030812'\n",
    "model_root = f'/search/odin/publicData/CloudS/libowei/rank_online/data/{mark}_hour_sgsapp_v1/models/8'\n",
    "# model_root = '/home/gezi/tmp/rank/exps/tuwen/v29/dlrm-norm/'\n",
    "model_dir = f'{model_root}/{model_hour}'\n",
    "# model_dir = model_root\n",
    "tfrecord_root = f'/search/odin/publicData/CloudS/libowei/rank/{product}/data/{mark}_hour_{product}_v1/tfrecords'\n",
    "tfrecord_dir = f'{tfrecord_root}/{valid_hour}'\n",
    "print('model:', model_dir)\n",
    "print('record:', tfrecord_dir)\n",
    "argv = open(f'{model_dir}/command.txt').readline().strip().replace('data_version=2', 'data_version=1').split()\n",
    "FLAGS(argv)\n",
    "FLAGS.eager = True\n",
    "# FLAGS.fields_norm=True\n",
    "config.init()\n",
    "model = Model()\n",
    "melt.eager.restore(model, model_dir)"
   ]
  },
  {
   "cell_type": "code",
   "execution_count": 5,
   "metadata": {},
   "outputs": [],
   "source": [
    "dataset = Dataset('valid')"
   ]
  },
  {
   "cell_type": "code",
   "execution_count": 6,
   "metadata": {},
   "outputs": [
    {
     "name": "stderr",
     "output_type": "stream",
     "text": [
      "                                                       \r"
     ]
    },
    {
     "data": {
      "text/plain": [
       "4162592"
      ]
     },
     "execution_count": 6,
     "metadata": {},
     "output_type": "execute_result"
    }
   ],
   "source": [
    "files = gezi.list_files(tfrecord_dir)\n",
    "total = melt.get_num_records(files) \n",
    "total"
   ]
  },
  {
   "cell_type": "code",
   "execution_count": 8,
   "metadata": {},
   "outputs": [],
   "source": [
    "batch_size = 512\n",
    "batches = dataset.make_batch(batch_size=batch_size, filenames=files, repeat=False, shuffle=True)\n",
    "num_steps = -int(-total // batch_size)"
   ]
  },
  {
   "cell_type": "code",
   "execution_count": 9,
   "metadata": {},
   "outputs": [
    {
     "name": "stderr",
     "output_type": "stream",
     "text": [
      "\r",
      "loop:   0%|          | 0/8131 [00:00<?, ?it/s]"
     ]
    }
   ],
   "source": [
    "xs = []\n",
    "for i, (x, _) in tqdm(enumerate(batches), total=num_steps, ascii=True, desc='loop'):\n",
    "  model(x)\n",
    "  break"
   ]
  },
  {
   "cell_type": "code",
   "execution_count": 12,
   "metadata": {},
   "outputs": [
    {
     "data": {
      "text/plain": [
       "<tf.Tensor: id=874, shape=(512, 94, 32), dtype=float32, numpy=\n",
       "array([[[ 5.6850e-01,  1.3466e-01,  1.6126e-01, ...,  2.0559e-01,\n",
       "          3.0121e-01,  2.8068e-01],\n",
       "        [-1.7477e-02, -8.8006e-03, -3.8504e-02, ...,  2.0034e-02,\n",
       "         -2.1419e-02,  8.4295e-02],\n",
       "        [-9.4730e-01,  1.9611e+00,  3.1698e+00, ...,  1.4435e+00,\n",
       "         -1.3255e+00,  1.2816e+00],\n",
       "        ...,\n",
       "        [ 0.0000e+00,  0.0000e+00,  0.0000e+00, ...,  0.0000e+00,\n",
       "          0.0000e+00,  0.0000e+00],\n",
       "        [ 0.0000e+00,  0.0000e+00,  0.0000e+00, ...,  0.0000e+00,\n",
       "          0.0000e+00,  0.0000e+00],\n",
       "        [ 0.0000e+00,  0.0000e+00,  0.0000e+00, ...,  0.0000e+00,\n",
       "          0.0000e+00,  0.0000e+00]],\n",
       "\n",
       "       [[-6.0657e-02, -1.9167e-01, -1.2993e-01, ..., -4.6300e-02,\n",
       "         -4.4084e-01,  3.0533e-02],\n",
       "        [-2.2878e-01,  9.1265e-02, -8.6723e-02, ..., -1.9738e-01,\n",
       "          4.4939e-03,  7.8245e-02],\n",
       "        [-3.2795e+00,  2.3117e+00,  2.8664e+00, ...,  1.3823e+00,\n",
       "         -3.4593e-01,  1.1049e+00],\n",
       "        ...,\n",
       "        [ 0.0000e+00,  0.0000e+00,  0.0000e+00, ...,  0.0000e+00,\n",
       "          0.0000e+00,  0.0000e+00],\n",
       "        [ 0.0000e+00,  0.0000e+00,  0.0000e+00, ...,  0.0000e+00,\n",
       "          0.0000e+00,  0.0000e+00],\n",
       "        [ 0.0000e+00,  0.0000e+00,  0.0000e+00, ...,  0.0000e+00,\n",
       "          0.0000e+00,  0.0000e+00]],\n",
       "\n",
       "       [[ 3.9748e-01, -2.7178e-02, -1.8337e-01, ...,  1.6440e-02,\n",
       "          2.5172e-01, -1.7270e-01],\n",
       "        [ 6.7819e-03,  3.7196e-02,  4.0241e-02, ...,  7.2723e-02,\n",
       "          4.3800e-01,  5.5357e-02],\n",
       "        [-7.1781e-02,  1.0022e+00,  3.4762e-01, ...,  1.1287e-01,\n",
       "         -2.1323e-02, -3.9330e-01],\n",
       "        ...,\n",
       "        [ 0.0000e+00,  0.0000e+00,  0.0000e+00, ...,  0.0000e+00,\n",
       "          0.0000e+00,  0.0000e+00],\n",
       "        [ 0.0000e+00,  0.0000e+00,  0.0000e+00, ...,  0.0000e+00,\n",
       "          0.0000e+00,  0.0000e+00],\n",
       "        [ 0.0000e+00,  0.0000e+00,  0.0000e+00, ...,  0.0000e+00,\n",
       "          0.0000e+00,  0.0000e+00]],\n",
       "\n",
       "       ...,\n",
       "\n",
       "       [[-1.3244e-01, -5.3200e-01,  2.1597e-01, ...,  5.0717e-03,\n",
       "         -2.4642e-01,  4.0364e-01],\n",
       "        [-3.3750e-02,  3.0518e-02,  9.0915e-02, ...,  7.0474e-02,\n",
       "         -2.1724e-02, -5.1095e-02],\n",
       "        [-6.6827e-01,  5.6644e+00,  2.1660e+00, ...,  8.2177e-01,\n",
       "          3.6089e+00,  4.2767e+00],\n",
       "        ...,\n",
       "        [ 0.0000e+00,  0.0000e+00,  0.0000e+00, ...,  0.0000e+00,\n",
       "          0.0000e+00,  0.0000e+00],\n",
       "        [ 0.0000e+00,  0.0000e+00,  0.0000e+00, ...,  0.0000e+00,\n",
       "          0.0000e+00,  0.0000e+00],\n",
       "        [ 0.0000e+00,  0.0000e+00,  0.0000e+00, ...,  0.0000e+00,\n",
       "          0.0000e+00,  0.0000e+00]],\n",
       "\n",
       "       [[ 1.8193e-01, -4.1447e-01, -2.7845e-01, ..., -2.4021e-01,\n",
       "          3.4777e-01, -4.3540e-01],\n",
       "        [ 2.5740e-01, -1.5426e-01,  2.2986e-01, ..., -1.7157e-01,\n",
       "          2.3991e-02,  6.6691e-02],\n",
       "        [ 3.7708e-01,  4.0894e-02,  3.6740e-01, ..., -3.2410e-04,\n",
       "         -1.2088e-01, -1.0025e-01],\n",
       "        ...,\n",
       "        [ 0.0000e+00,  0.0000e+00,  0.0000e+00, ...,  0.0000e+00,\n",
       "          0.0000e+00,  0.0000e+00],\n",
       "        [ 0.0000e+00,  0.0000e+00,  0.0000e+00, ...,  0.0000e+00,\n",
       "          0.0000e+00,  0.0000e+00],\n",
       "        [ 0.0000e+00,  0.0000e+00,  0.0000e+00, ...,  0.0000e+00,\n",
       "          0.0000e+00,  0.0000e+00]],\n",
       "\n",
       "       [[-1.6425e-01, -2.9331e-01,  4.9749e-03, ...,  3.8042e-01,\n",
       "         -6.7253e-01, -5.5406e-01],\n",
       "        [-2.8271e-02,  6.9751e-02,  1.5269e-01, ...,  1.4939e-01,\n",
       "         -5.5697e-03,  5.6444e-02],\n",
       "        [ 1.1830e+00, -5.2146e-02,  8.5893e-01, ..., -3.6624e+00,\n",
       "          3.5254e+00, -7.8886e-02],\n",
       "        ...,\n",
       "        [ 0.0000e+00,  0.0000e+00,  0.0000e+00, ...,  0.0000e+00,\n",
       "          0.0000e+00,  0.0000e+00],\n",
       "        [ 0.0000e+00,  0.0000e+00,  0.0000e+00, ...,  0.0000e+00,\n",
       "          0.0000e+00,  0.0000e+00],\n",
       "        [ 0.0000e+00,  0.0000e+00,  0.0000e+00, ...,  0.0000e+00,\n",
       "          0.0000e+00,  0.0000e+00]]], dtype=float32)>"
      ]
     },
     "execution_count": 12,
     "metadata": {},
     "output_type": "execute_result"
    }
   ],
   "source": [
    "model.deep.x_all"
   ]
  },
  {
   "cell_type": "code",
   "execution_count": 32,
   "metadata": {},
   "outputs": [],
   "source": [
    "# 这两个doc 第一个位于位置1 未点击            《楞严经》未得谓得未证言证 \n",
    "# 第二个位于位置11 点击  时长276              不管你相不相信转世和业，修持金刚萨埵法门非常重要\n",
    "x1 = get_doc(xs, '2041980l3wSzO6')\n",
    "x2 = get_doc(xs, '20506m0l326Btq')"
   ]
  },
  {
   "cell_type": "code",
   "execution_count": 54,
   "metadata": {},
   "outputs": [
    {
     "data": {
      "text/plain": [
       "<tf.Tensor: id=438689, shape=(1, 1), dtype=float32, numpy=array([[0.037]], dtype=float32)>"
      ]
     },
     "execution_count": 54,
     "metadata": {},
     "output_type": "execute_result"
    }
   ],
   "source": [
    "model(x1)"
   ]
  },
  {
   "cell_type": "code",
   "execution_count": 55,
   "metadata": {},
   "outputs": [
    {
     "data": {
      "text/plain": [
       "<tf.Tensor: id=438589, shape=(1, 1), dtype=float32, numpy=array([[-0.8849]], dtype=float32)>"
      ]
     },
     "execution_count": 55,
     "metadata": {},
     "output_type": "execute_result"
    }
   ],
   "source": [
    "model.d"
   ]
  },
  {
   "cell_type": "code",
   "execution_count": 56,
   "metadata": {},
   "outputs": [
    {
     "data": {
      "text/plain": [
       "<tf.Tensor: id=438372, shape=(1, 1), dtype=float32, numpy=array([[1.0864]], dtype=float32)>"
      ]
     },
     "execution_count": 56,
     "metadata": {},
     "output_type": "execute_result"
    }
   ],
   "source": [
    "model.w"
   ]
  },
  {
   "cell_type": "code",
   "execution_count": 57,
   "metadata": {},
   "outputs": [
    {
     "data": {
      "text/plain": [
       "<tf.Tensor: id=438630, shape=(1, 1), dtype=float32, numpy=array([[0.2072]], dtype=float32)>"
      ]
     },
     "execution_count": 57,
     "metadata": {},
     "output_type": "execute_result"
    }
   ],
   "source": [
    "model.prob_click"
   ]
  },
  {
   "cell_type": "code",
   "execution_count": 58,
   "metadata": {},
   "outputs": [
    {
     "data": {
      "text/plain": [
       "<tf.Tensor: id=438599, shape=(1, 1), dtype=float32, numpy=array([[-1.3418]], dtype=float32)>"
      ]
     },
     "execution_count": 58,
     "metadata": {},
     "output_type": "execute_result"
    }
   ],
   "source": [
    "model.y_click"
   ]
  },
  {
   "cell_type": "code",
   "execution_count": 64,
   "metadata": {},
   "outputs": [
    {
     "data": {
      "text/plain": [
       "0.20721847628049556"
      ]
     },
     "execution_count": 64,
     "metadata": {},
     "output_type": "execute_result"
    }
   ],
   "source": [
    "gezi.sigmoid(0.0054 * 1.0864 + 0.0344 * (-0.8849) + (-1.3172))"
   ]
  },
  {
   "cell_type": "code",
   "execution_count": 65,
   "metadata": {},
   "outputs": [],
   "source": [
    "x_all1 = model.deep.x_all"
   ]
  },
  {
   "cell_type": "code",
   "execution_count": 66,
   "metadata": {},
   "outputs": [
    {
     "data": {
      "text/plain": [
       "<tf.Tensor: id=438554, shape=(1, 94, 32), dtype=float32, numpy=\n",
       "array([[[ 0.459 ,  0.0914, -0.2821, ...,  0.3804, -0.4798, -1.0662],\n",
       "        [-0.0323,  0.0285,  0.019 , ..., -0.0047, -0.0163,  0.0139],\n",
       "        [ 1.8274,  3.1585, -0.1991, ..., -1.6778, -0.8073, -2.459 ],\n",
       "        ...,\n",
       "        [ 0.    ,  0.    ,  0.    , ...,  0.    ,  0.    ,  0.    ],\n",
       "        [ 0.    ,  0.    ,  0.    , ...,  0.    ,  0.    ,  0.    ],\n",
       "        [ 0.    ,  0.    ,  0.    , ...,  0.    ,  0.    ,  0.    ]]],\n",
       "      dtype=float32)>"
      ]
     },
     "execution_count": 66,
     "metadata": {},
     "output_type": "execute_result"
    }
   ],
   "source": [
    "x_all1"
   ]
  },
  {
   "cell_type": "code",
   "execution_count": 80,
   "metadata": {},
   "outputs": [
    {
     "data": {
      "text/plain": [
       "<tf.Tensor: id=439766, shape=(1, 1), dtype=float32, numpy=array([[0.0022]], dtype=float32)>"
      ]
     },
     "execution_count": 80,
     "metadata": {},
     "output_type": "execute_result"
    }
   ],
   "source": [
    "model(x2)"
   ]
  },
  {
   "cell_type": "code",
   "execution_count": 81,
   "metadata": {},
   "outputs": [
    {
     "data": {
      "text/plain": [
       "<tf.Tensor: id=439666, shape=(1, 1), dtype=float32, numpy=array([[-50.9848]], dtype=float32)>"
      ]
     },
     "execution_count": 81,
     "metadata": {},
     "output_type": "execute_result"
    }
   ],
   "source": [
    "model.d"
   ]
  },
  {
   "cell_type": "code",
   "execution_count": 82,
   "metadata": {},
   "outputs": [
    {
     "data": {
      "text/plain": [
       "<tf.Tensor: id=439449, shape=(1, 1), dtype=float32, numpy=array([[-1.2384]], dtype=float32)>"
      ]
     },
     "execution_count": 82,
     "metadata": {},
     "output_type": "execute_result"
    }
   ],
   "source": [
    "model.w"
   ]
  },
  {
   "cell_type": "code",
   "execution_count": 83,
   "metadata": {},
   "outputs": [
    {
     "data": {
      "text/plain": [
       "<tf.Tensor: id=439707, shape=(1, 1), dtype=float32, numpy=array([[0.044]], dtype=float32)>"
      ]
     },
     "execution_count": 83,
     "metadata": {},
     "output_type": "execute_result"
    }
   ],
   "source": [
    "model.prob_click"
   ]
  },
  {
   "cell_type": "code",
   "execution_count": 84,
   "metadata": {},
   "outputs": [],
   "source": [
    "x_all2 = model.deep.x_all"
   ]
  },
  {
   "cell_type": "code",
   "execution_count": 71,
   "metadata": {},
   "outputs": [
    {
     "data": {
      "text/plain": [
       "<tf.Tensor: id=438932, shape=(1, 94, 32), dtype=float32, numpy=\n",
       "array([[[ 0.459 ,  0.0914, -0.2821, ...,  0.3804, -0.4798, -1.0662],\n",
       "        [-0.0391,  0.0165,  0.0103, ...,  0.022 ,  0.0049, -0.0378],\n",
       "        [ 1.8274,  3.1585, -0.1991, ..., -1.6778, -0.8073, -2.459 ],\n",
       "        ...,\n",
       "        [ 0.    ,  0.    ,  0.    , ...,  0.    ,  0.    ,  0.    ],\n",
       "        [ 0.    ,  0.    ,  0.    , ...,  0.    ,  0.    ,  0.    ],\n",
       "        [ 0.    ,  0.    ,  0.    , ...,  0.    ,  0.    ,  0.    ]]],\n",
       "      dtype=float32)>"
      ]
     },
     "execution_count": 71,
     "metadata": {},
     "output_type": "execute_result"
    }
   ],
   "source": [
    "x_all2"
   ]
  },
  {
   "cell_type": "code",
   "execution_count": 74,
   "metadata": {},
   "outputs": [
    {
     "data": {
      "text/plain": [
       "<tf.Tensor: id=439411, shape=(1, 1), dtype=float32, numpy=array([[0.0022]], dtype=float32)>"
      ]
     },
     "execution_count": 74,
     "metadata": {},
     "output_type": "execute_result"
    }
   ],
   "source": [
    "x1['x_all'] = x_all2\n",
    "model(x1)\n",
    "# 可以看到wide部分几乎没有影响到最终得分"
   ]
  },
  {
   "cell_type": "code",
   "execution_count": 75,
   "metadata": {},
   "outputs": [
    {
     "data": {
      "text/plain": [
       "<tf.Tensor: id=439311, shape=(1, 1), dtype=float32, numpy=array([[-50.9848]], dtype=float32)>"
      ]
     },
     "execution_count": 75,
     "metadata": {},
     "output_type": "execute_result"
    }
   ],
   "source": [
    "model.d"
   ]
  },
  {
   "cell_type": "code",
   "execution_count": 76,
   "metadata": {},
   "outputs": [
    {
     "data": {
      "text/plain": [
       "<tf.Tensor: id=439276, shape=(1, 1), dtype=float32, numpy=array([[1.0864]], dtype=float32)>"
      ]
     },
     "execution_count": 76,
     "metadata": {},
     "output_type": "execute_result"
    }
   ],
   "source": [
    "model.w"
   ]
  },
  {
   "cell_type": "code",
   "execution_count": 78,
   "metadata": {},
   "outputs": [
    {
     "data": {
      "text/plain": [
       "<tf.Tensor: id=439352, shape=(1, 1), dtype=float32, numpy=array([[0.0445]], dtype=float32)>"
      ]
     },
     "execution_count": 78,
     "metadata": {},
     "output_type": "execute_result"
    }
   ],
   "source": [
    "model.prob_click"
   ]
  },
  {
   "cell_type": "code",
   "execution_count": 79,
   "metadata": {},
   "outputs": [
    {
     "data": {
      "text/plain": [
       "0.04456531408785941"
      ]
     },
     "execution_count": 79,
     "metadata": {},
     "output_type": "execute_result"
    }
   ],
   "source": [
    "# 保持wide不变 更好 deep  的fields x_all 点击改了只是稍稍高了一点点 几乎可以忽略\n",
    "gezi.sigmoid(0.0054 * 1.0864 + 0.0344 * (-50.9848) + (-1.3172))"
   ]
  },
  {
   "cell_type": "code",
   "execution_count": 85,
   "metadata": {},
   "outputs": [],
   "source": [
    "def rename(field):\n",
    "  for x in maps:\n",
    "#     print(x, len(x))\n",
    "#     print('0', field, x[0], x[1])\n",
    "    field = field.replace(x[0], x[1])\n",
    "#     print('1', field, x[0], x[1])\n",
    "  return field"
   ]
  },
  {
   "cell_type": "code",
   "execution_count": 130,
   "metadata": {},
   "outputs": [],
   "source": [
    "other_fields = [x.name.split('/')[-2] for x in model.variables if x.name.endswith('embeddings:0')and not '/emb/emb/' in x.name]\n",
    "other_fields[model.deep.history_index:model.deep.history_index] = model.deep.history_fields\n",
    "onehot_fields = gezi.get_global('fields')\n",
    "maps = [x.strip().split() for x in open('../conf/fields_map.txt')]\n",
    "onehot_fields2 = [rename(x) for x in onehot_fields]\n",
    "fields = other_fields + onehot_fields2\n",
    "fields2 = other_fields + onehot_fields\n",
    "# [(x, y) for x, y in zip(onehot_fields, onehot_fields2)]"
   ]
  },
  {
   "cell_type": "code",
   "execution_count": 110,
   "metadata": {},
   "outputs": [],
   "source": [
    "import copy\n",
    "x_all2_npy = x_all2.numpy()\n",
    "x_all1_npy = x_all1.numpy()"
   ]
  },
  {
   "cell_type": "code",
   "execution_count": 114,
   "metadata": {},
   "outputs": [
    {
     "data": {
      "text/plain": [
       "array([[[ 0.459 ,  0.0914, -0.2821, ...,  0.3804, -0.4798, -1.0662],\n",
       "        [-0.0391,  0.0165,  0.0103, ...,  0.022 ,  0.0049, -0.0378],\n",
       "        [ 1.8274,  3.1585, -0.1991, ..., -1.6778, -0.8073, -2.459 ],\n",
       "        ...,\n",
       "        [ 0.    ,  0.    ,  0.    , ...,  0.    ,  0.    ,  0.    ],\n",
       "        [ 0.    ,  0.    ,  0.    , ...,  0.    ,  0.    ,  0.    ],\n",
       "        [ 0.    ,  0.    ,  0.    , ...,  0.    ,  0.    ,  0.    ]]],\n",
       "      dtype=float32)"
      ]
     },
     "execution_count": 114,
     "metadata": {},
     "output_type": "execute_result"
    }
   ],
   "source": [
    "x_all2_npy"
   ]
  },
  {
   "cell_type": "code",
   "execution_count": 115,
   "metadata": {},
   "outputs": [
    {
     "data": {
      "text/plain": [
       "array([[[ 0.459 ,  0.0914, -0.2821, ...,  0.3804, -0.4798, -1.0662],\n",
       "        [-0.0323,  0.0285,  0.019 , ..., -0.0047, -0.0163,  0.0139],\n",
       "        [ 1.8274,  3.1585, -0.1991, ..., -1.6778, -0.8073, -2.459 ],\n",
       "        ...,\n",
       "        [ 0.    ,  0.    ,  0.    , ...,  0.    ,  0.    ,  0.    ],\n",
       "        [ 0.    ,  0.    ,  0.    , ...,  0.    ,  0.    ,  0.    ],\n",
       "        [ 0.    ,  0.    ,  0.    , ...,  0.    ,  0.    ,  0.    ]]],\n",
       "      dtype=float32)"
      ]
     },
     "execution_count": 115,
     "metadata": {},
     "output_type": "execute_result"
    }
   ],
   "source": [
    "x_all = x_all2_npy.copy()\n",
    "x_all[0][1] = x_all1_npy[0][1]\n",
    "x_all"
   ]
  },
  {
   "cell_type": "code",
   "execution_count": 119,
   "metadata": {},
   "outputs": [
    {
     "data": {
      "text/plain": [
       "<tf.Tensor: id=441285, shape=(1, 1), dtype=float32, numpy=array([[0.0338]], dtype=float32)>"
      ]
     },
     "execution_count": 119,
     "metadata": {},
     "output_type": "execute_result"
    }
   ],
   "source": [
    "x2['x_all'] = x_all\n",
    "model(x2)\n",
    "model.prob_click"
   ]
  },
  {
   "cell_type": "code",
   "execution_count": 136,
   "metadata": {},
   "outputs": [
    {
     "name": "stderr",
     "output_type": "stream",
     "text": [
      "100%|██████████| 94/94 [00:03<00:00, 30.57it/s]"
     ]
    },
    {
     "name": "stdout",
     "output_type": "stream",
     "text": [
      "\n",
      " +-------+------------------------------+-----------------+-----------+-----------+--------------+\n",
      "|   fid | field                        | ori_field       |   pclick1 |   pclick2 |        delta |\n",
      "|-------+------------------------------+-----------------+-----------+-----------+--------------|\n",
      "|    64 | MInterestArtPornScoreKw      | MITATPORNSKW    |  0.142161 | 0.141803  | -0.000357732 |\n",
      "|    63 | MInterestArtPornScoreAccount | MITATPORNSAC    |  0.154762 | 0.0963815 | -0.0583803   |\n",
      "|    59 | MInterestArtPicCntAccount    | MITATPCNTAC     |  0.178602 | 0.0948361 | -0.0837662   |\n",
      "|     5 | timespan_emb                 | timespan_emb    |  0.175528 | 0.0546406 | -0.120887    |\n",
      "|    29 | IArtKw2                      | IATKWSE         |  0.174993 | 0.0520846 | -0.122908    |\n",
      "|    71 | MInterestArtTag              | MITATTG         |  0.198853 | 0.0743374 | -0.124515    |\n",
      "|    72 | MInterestArtTopic            | MITATTP         |  0.179713 | 0.0522657 | -0.127448    |\n",
      "|    53 | MInterestArtAccount          | MITATAC         |  0.205938 | 0.0643925 | -0.141545    |\n",
      "|    58 | MInterestArtKw               | MITATKW         |  0.224969 | 0.0814495 | -0.14352     |\n",
      "|    65 | MInterestArtPornScoreTag     | MITATPORNSTG    |  0.212611 | 0.0638059 | -0.148806    |\n",
      "|    35 | IAvgDur                      | IAVGDUR         |  0.197777 | 0.0453827 | -0.152395    |\n",
      "|    81 | XArtShowFavor                | XATSWFV         |  0.200585 | 0.0449527 | -0.155633    |\n",
      "|    13 | CRecallWordArtIdPicCnt       | CRWATIDPCNT     |  0.201362 | 0.0454589 | -0.155903    |\n",
      "|    73 | MInterestArtWordCntAccount   | MITATWCNTAC     |  0.203784 | 0.0463223 | -0.157462    |\n",
      "|    67 | MInterestArtQualityAccount   | MITATQUALSAC    |  0.205452 | 0.0478712 | -0.157581    |\n",
      "|    66 | MInterestArtPornScoreTopic   | MITATPORNSTP    |  0.205288 | 0.0469166 | -0.158372    |\n",
      "|    17 | CSXArtTopic                  | CSXATTP         |  0.203585 | 0.044625  | -0.15896     |\n",
      "|    49 | IPicCnt                      | IPCNT           |  0.206246 | 0.0464728 | -0.159774    |\n",
      "|    41 | ICBRecallWordWordCnt         | ICBRWWCNT       |  0.205702 | 0.0442703 | -0.161431    |\n",
      "|    23 | DPageTimeSpan                | DPTCT           |  0.213978 | 0.0523699 | -0.161609    |\n",
      "|    46 | ICFRecallWordQuality         | ICFRWQUALS      |  0.20619  | 0.0443842 | -0.161805    |\n",
      "|    15 | CRecallWordArtIdQuality      | CRWATIDQUALS    |  0.205536 | 0.0436309 | -0.161905    |\n",
      "|    69 | MInterestArtQualityTag       | MITATQUALSTG    |  0.207313 | 0.0451751 | -0.162138    |\n",
      "|    75 | MInterestArtWordCntTag       | MITATWCNTTG     |  0.208375 | 0.0462014 | -0.162173    |\n",
      "|    56 | MInterestArtDurTag           | MITATDURTG      |  0.207083 | 0.0447898 | -0.162293    |\n",
      "|    55 | MInterestArtDurKw            | MITATDURKW      |  0.20724  | 0.0446043 | -0.162635    |\n",
      "|    12 | CRecallWordArtIdDur          | CRWATIDDUR      |  0.207073 | 0.0441909 | -0.162882    |\n",
      "|    76 | MInterestArtWordCntTopic     | MITATWCNTTP     |  0.208256 | 0.0453072 | -0.162948    |\n",
      "|    57 | MInterestArtDurTopic         | MITATDURTP      |  0.206863 | 0.043903  | -0.16296     |\n",
      "|    38 | ICBRecallWordPicCnt          | ICBRWPCNT       |  0.206621 | 0.0436196 | -0.163001    |\n",
      "|    42 | ICFRecallWord                | ICFRW           |  0.207715 | 0.0445828 | -0.163132    |\n",
      "|     0 | user_emb                     | user_emb        |  0.207222 | 0.0439596 | -0.163263    |\n",
      "|     2 | history                      | history         |  0.207222 | 0.0439596 | -0.163263    |\n",
      "|     3 | time_emb                     | time_emb        |  0.207222 | 0.0439596 | -0.163263    |\n",
      "|     4 | weekday_emb                  | weekday_emb     |  0.207222 | 0.0439596 | -0.163263    |\n",
      "|     6 | product_emb                  | product_emb     |  0.207222 | 0.0439596 | -0.163263    |\n",
      "|     7 | cold_emb                     | cold_emb        |  0.207222 | 0.0439596 | -0.163263    |\n",
      "|     8 | IAge                         | AGE             |  0.207222 | 0.0439596 | -0.163263    |\n",
      "|    18 | DArtCommentCnt               | DATCMT          |  0.207222 | 0.0439596 | -0.163263    |\n",
      "|    19 | DArtCommentLikeCnt           | DATCMTLIKE      |  0.207222 | 0.0439596 | -0.163263    |\n",
      "|    20 | DArtCommentReplyCnt          | DATCMTRPY       |  0.207222 | 0.0439596 | -0.163263    |\n",
      "|    21 | DArtCtr                      | DATCTR          |  0.207222 | 0.0439596 | -0.163263    |\n",
      "|    24 | IEdu                         | EDU             |  0.207222 | 0.0439596 | -0.163263    |\n",
      "|    27 | IArtAccount                  | IATAC           |  0.207222 | 0.0439596 | -0.163263    |\n",
      "|    30 | IArtLocation                 | IATLO           |  0.207222 | 0.0439596 | -0.163263    |\n",
      "|    31 | IArtOriSig                   | IATOR           |  0.207222 | 0.0439596 | -0.163263    |\n",
      "|    32 | IArtSrc                      | IATSO           |  0.207222 | 0.0439596 | -0.163263    |\n",
      "|    34 | IArtVideoSig                 | IATVI           |  0.207222 | 0.0439596 | -0.163263    |\n",
      "|    48 | ILocation                    | ILOC            |  0.207222 | 0.0439596 | -0.163263    |\n",
      "|    50 | IPornScore                   | IPORNS          |  0.207222 | 0.0439596 | -0.163263    |\n",
      "|    77 | ISex                         | SEX             |  0.207222 | 0.0439596 | -0.163263    |\n",
      "|    83 | long_term_acc                | long_term_acc   |  0.207222 | 0.0439596 | -0.163263    |\n",
      "|    84 | long_term_kw                 | long_term_kw    |  0.207222 | 0.0439596 | -0.163263    |\n",
      "|    85 | long_term_rec                | long_term_rec   |  0.207222 | 0.0439596 | -0.163263    |\n",
      "|    86 | long_term_tag                | long_term_tag   |  0.207222 | 0.0439596 | -0.163263    |\n",
      "|    87 | long_term_topic              | long_term_topic |  0.207222 | 0.0439596 | -0.163263    |\n",
      "|    88 | long_term_total              | long_term_total |  0.207222 | 0.0439596 | -0.163263    |\n",
      "|    89 | long_term_txk                | long_term_txk   |  0.207222 | 0.0439596 | -0.163263    |\n",
      "|    90 | MSubscribeInterestArtAccount | MSUBITATAC      |  0.207222 | 0.0439596 | -0.163263    |\n",
      "|    91 | MSubscribeInterestArtKw      | MSUBITATKW      |  0.207222 | 0.0439596 | -0.163263    |\n",
      "|    92 | MSubscribeInterestArtTag     | MSUBITATTG      |  0.207222 | 0.0439596 | -0.163263    |\n",
      "|    93 | MSubscribeInterestArtTopic   | MSUBITATTP      |  0.207222 | 0.0439596 | -0.163263    |\n",
      "|    70 | MInterestArtQualityTopic     | MITATQUALSTP    |  0.207675 | 0.0443459 | -0.163329    |\n",
      "|    45 | ICFRecallWordPornScore       | ICFRWPORNS      |  0.206214 | 0.0428384 | -0.163375    |\n",
      "|    43 | ICFRecallWordDur             | ICFRWDUR        |  0.207622 | 0.0439006 | -0.163722    |\n",
      "|     9 | CAgeArtTopic                 | CAGATTP         |  0.204752 | 0.04098   | -0.163772    |\n",
      "|    40 | ICBRecallWordQuality         | ICBRWQUALS      |  0.207759 | 0.0438577 | -0.163901    |\n",
      "|    47 | ICFRecallWordWordCnt         | ICFRWWCNT       |  0.20734  | 0.0434268 | -0.163913    |\n",
      "|    54 | MInterestArtDurAccount       | MITATDURAC      |  0.20784  | 0.0437457 | -0.164094    |\n",
      "|    37 | ICBRecallWordDur             | ICBRWDUR        |  0.208192 | 0.0438582 | -0.164334    |\n",
      "|    39 | ICBRecallWordPornScore       | ICBRWPORNS      |  0.207707 | 0.0433622 | -0.164345    |\n",
      "|    25 | IFavorCnt                    | FAVORNUM        |  0.207463 | 0.0425919 | -0.164871    |\n",
      "|    62 | MInterestArtPicCntTopic      | MITATPCNTTP     |  0.20728  | 0.0420628 | -0.165217    |\n",
      "|    44 | ICFRecallWordPicCnt          | ICFRWPCNT       |  0.208911 | 0.0435812 | -0.165329    |\n",
      "|    14 | CRecallWordArtIdPornScore    | CRWATIDPORNS    |  0.208528 | 0.0430886 | -0.16544     |\n",
      "|    68 | MInterestArtQualityKw        | MITATQUALSKW    |  0.205969 | 0.0404069 | -0.165562    |\n",
      "|    16 | CRecallWordArtIdWordCnt      | CRWATIDWCNT     |  0.209527 | 0.0433887 | -0.166139    |\n",
      "|    51 | IQuality                     | IQUALS          |  0.213417 | 0.0455223 | -0.167895    |\n",
      "|    26 | IAccountId                   | IACID           |  0.219518 | 0.0515792 | -0.167938    |\n",
      "|    82 | XArtShowShare                | XATSWSA         |  0.214854 | 0.0462469 | -0.168607    |\n",
      "|    52 | IWordCnt                     | IWCNT           |  0.212753 | 0.0439183 | -0.168835    |\n",
      "|    79 | XArtClickCntShare            | XATCLSA         |  0.213903 | 0.0433687 | -0.170534    |\n",
      "|    10 | CEduArtTopic                 | CEDATTP         |  0.212948 | 0.0421383 | -0.17081     |\n",
      "|    36 | ICBRecallWord                | ICBRW           |  0.210761 | 0.0386241 | -0.172137    |\n",
      "|    74 | MInterestArtWordCntKw        | MITATWCNTKW     |  0.211011 | 0.0374265 | -0.173584    |\n",
      "|    61 | MInterestArtPicCntTag        | MITATPCNTTG     |  0.204095 | 0.0270412 | -0.177054    |\n",
      "|    22 | DArtClickCnt                 | DATRD           |  0.215916 | 0.0388073 | -0.177108    |\n",
      "|    80 | XArtShowClickCnt             | XATSWCL         |  0.216669 | 0.036616  | -0.180053    |\n",
      "|    78 | XArtClickCntFavor            | XATCLFV         |  0.220818 | 0.0387364 | -0.182082    |\n",
      "|    28 | IArtKw                       | IATKW           |  0.22016  | 0.037014  | -0.183146    |\n",
      "|    11 | CInterestArtCOTopic          | CITATCOTP       |  0.220987 | 0.0368428 | -0.184144    |\n",
      "|    33 | IArtTopic                    | IATTP           |  0.220933 | 0.03312   | -0.187813    |\n",
      "|    60 | MInterestArtPicCntKw         | MITATPCNTKW     |  0.221341 | 0.0333739 | -0.187967    |\n",
      "|     1 | doc_emb                      | doc_emb         |  0.256863 | 0.0338027 | -0.22306     |\n",
      "+-------+------------------------------+-----------------+-----------+-----------+--------------+\n"
     ]
    },
    {
     "name": "stderr",
     "output_type": "stream",
     "text": [
      "\n"
     ]
    }
   ],
   "source": [
    "l = []\n",
    "for i in tqdm(range(len(fields))):\n",
    "  x_all = x_all1_npy.copy()\n",
    "  x_all[0][i] = x_all2_npy[0][i]\n",
    "  x1['x_all'] = x_all\n",
    "  model(x1)\n",
    "  prob_click1 = model.prob_click.numpy()[0][0]\n",
    "  x_all = x_all2_npy.copy()\n",
    "  x_all[0][i] = x_all1_npy[0][i]\n",
    "  x2['x_all'] = x_all\n",
    "  model(x2)\n",
    "  prob_click2 = model.prob_click.numpy()[0][0]\n",
    "  l.append((i, fields[i], fields2[i], prob_click1, prob_click2, prob_click2 - prob_click1))\n",
    "  l.sort(key=lambda x: x[-1], reverse=True)\n",
    "gezi.pprint(pd.DataFrame(l, columns=['fid', 'field', 'ori_field', 'pclick1', 'pclick2', 'delta']))"
   ]
  }
 ],
 "metadata": {
  "kernelspec": {
   "display_name": "Python 3",
   "language": "python",
   "name": "python3"
  },
  "language_info": {
   "codemirror_mode": {
    "name": "ipython",
    "version": 3
   },
   "file_extension": ".py",
   "mimetype": "text/x-python",
   "name": "python",
   "nbconvert_exporter": "python",
   "pygments_lexer": "ipython3",
   "version": "3.6.8"
  }
 },
 "nbformat": 4,
 "nbformat_minor": 2
}
