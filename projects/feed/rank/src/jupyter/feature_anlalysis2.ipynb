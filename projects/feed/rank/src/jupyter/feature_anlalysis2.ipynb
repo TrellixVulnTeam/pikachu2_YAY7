{
 "cells": [
  {
   "cell_type": "code",
   "execution_count": 17,
   "metadata": {},
   "outputs": [],
   "source": [
    "import sys\n",
    "import os\n",
    "import scipy\n",
    "import numpy as np\n",
    "from scipy.sparse import csr_matrix\n",
    "from tqdm import tqdm\n",
    "from collections import defaultdict"
   ]
  },
  {
   "cell_type": "code",
   "execution_count": 18,
   "metadata": {},
   "outputs": [],
   "source": [
    "names = [x.rstrip().replace('\\a', '|') for x in open('/home/gezi/new/temp/feed/rank/portrait/feature_index').readlines()]"
   ]
  },
  {
   "cell_type": "code",
   "execution_count": 19,
   "metadata": {},
   "outputs": [],
   "source": [
    "feature_file = '/home/gezi/new/temp/feed/rank/online/online/train/rand_0'"
   ]
  },
  {
   "cell_type": "code",
   "execution_count": 23,
   "metadata": {},
   "outputs": [],
   "source": [
    "def parse(line):\n",
    "  l = line.split('\\t')\n",
    "  l = l[4:-3]\n",
    "  return l"
   ]
  },
  {
   "cell_type": "code",
   "execution_count": 24,
   "metadata": {},
   "outputs": [],
   "source": [
    "lines = open(feature_file).readlines()"
   ]
  },
  {
   "cell_type": "code",
   "execution_count": 25,
   "metadata": {},
   "outputs": [
    {
     "name": "stderr",
     "output_type": "stream",
     "text": [
      "  0%|          | 2/785877 [00:00<12:04:12, 18.09it/s]"
     ]
    },
    {
     "name": "stdout",
     "output_type": "stream",
     "text": [
      "inst 0\n",
      "CAGATTP|19_23|时政\t71\n",
      "CEDATTP|初中|教育\t356\n",
      "CRWATIDDUR|title_黑龙江|open_doc_prod8457419|102\t489241\n",
      "CRWATIDPCNT|title_鬼吹灯|open_doc_prod8439781|4\t728427\n",
      "CRWATIDPORNS|title_龙椅|19728e0C3xMgbt|0\t967760\n",
      "CRWATIDQUALS|topic_摄影|open_doc_prod8492483|82\t1207212\n",
      "CRWATIDWCNT|DOCID_1972680x3AcBJZ|open_doc_prod8388621|5\t1265629\n",
      "CRWATIDWCNT|DOCID_1972680x4cKuK8|19728h0x3bwAHy|4\t1265643\n",
      "CRWATIDWCNT|DOCID_1972690l0DyLat|19727h0x27qB0V|7\t1265654\n",
      "CRWATIDWCNT|DOCID_1972690l2nJUV8|19729a0l0mINqa|24\t1265666\n",
      "CRWATIDWCNT|DOCID_1972690x02TOSw|1972790x2zn2yi|4\t1265687\n",
      "CRWATIDWCNT|DOCID_1972690x0mMSOn|19728e0l4bqgyF|1\t1265703\n",
      "CRWATIDWCNT|DOCID_1972690x1LNotr|20190725A0V4T100|1\t1265713\n",
      "CRWATIDWCNT|DOCID_20190720A0LTR900|open_doc_prod8332293|11\t1290152\n",
      "CRWATIDWCNT|NormalDataStream_娱乐|1971850f3THNGk|27\t1329553\n",
      "CRWATIDWCNT|TITLE_分时图|1972440l1Vd0gv|49\t1346434\n",
      "CRWATIDWCNT|article_19724e0x341qRl|19729c0x21aeai|8\t1363034\n",
      "CRWATIDWCNT|article_19729j0l309vDC|19729e0l32X3aQ|6\t1369893\n",
      "CRWATIDWCNT|article_20190725A0QSKB00|open_doc_prod8432089|13\t1374686\n",
      "CRWATIDWCNT|newsearch_keyword_视频app|19724e0x2ttVMi|9\t1393593\n",
      "CRWATIDWCNT|title_战略|19729m0l0fcAfp|26\t1420057\n",
      "CRWATIDWCNT|title_战舰|20190730A0N6ZS00|7\t1420065\n",
      "CRWATIDWCNT|title_戴笠|19730i0l4rxl91|21\t1420109\n",
      "CRWATIDWCNT|title_房事|1972780x1LX4gz|11\t1420124\n",
      "CRWATIDWCNT|title_手游|20190729A0TB3800|8\t1420370\n",
      "ICBRW|title_孙策\t1645847\n",
      "ICBRWDUR|title_一条狗117\t1752105\n",
      "ICBRWPCNT|article_tt_67111845381957391435\t1861247\n",
      "ICBRWPORNS|title_水怪0\t1990451\n",
      "ICFRWPCNT|ACC_qie_f22f85c2868b4af6efd9aeca22fe74ef5\t2425736\n",
      "ICFRWPCNT|ACC_tt_516759912044\t2426832\n",
      "ICFRWPCNT|ACC_tt_522363783293\t2426849\n",
      "ICFRWPCNT|ACC_tt_562087326339\t2426971\n",
      "ICFRWPCNT|ACC_tt_5962997974810\t2427087\n",
      "ICFRWQUALS|DOCID_19729d0C1t2upa62\t2605396\n",
      "ICFRWWCNT|DOCID_19723j0x1pMowZ4\t2672003\n",
      "ICFRWWCNT|DOCID_20190728A08ZPC0013\t2709999\n",
      "MITATDURKW|幽默段子121\t2827087\n",
      "MITATDURTG|菜谱43\t2905288\n",
      "MITATDURTG|高中88\t2907384\n",
      "MITATDURTG|高考138\t2907479\n",
      "inst 1\n",
      "AGE|-1_-1\t1\n",
      "CEDATTP|大学生|理财\t453\n",
      "CRWATID|DOCID_1972620x0w5CDl|19726k0x4qmMp3\t39161\n",
      "CRWATIDDUR|DOCID_20190721A0M3M000|19723j0l3huvr6|105\t309216\n",
      "CRWATIDPCNT|DOCID_19725e0l3nbhgx|20190724A0UAO000|3\t548515\n",
      "CRWATIDPORNS|DOCID_19725j0l2eh0zU|19724l0l0ol116|0\t787797\n",
      "CRWATIDQUALS|DOCID_1972620x0w5CDl|19723l0x1aS1Kd|26\t1027069\n",
      "CRWATIDWCNT|DOCID_1972680f2mCyoj|19727n0x39Wkg4|14\t1265565\n",
      "CRWATIDWCNT|DOCID_1972680x4cKuK8|19728h0x3bwAHy|4\t1265643\n",
      "CRWATIDWCNT|DOCID_1972690l0DyLat|1973020l2D0tJN|9\t1265659\n",
      "CRWATIDWCNT|DOCID_1972690l2nJUV8|19729a0l0mINqa|24\t1265666\n",
      "CRWATIDWCNT|DOCID_1972690x02TOSw|1972790x2zn2yi|4\t1265687\n",
      "CRWATIDWCNT|DOCID_1972690x0PdnnY|19725j0l24y6YR|8\t1265697\n",
      "CRWATIDWCNT|DOCID_1972690x1SBW3c|19729g0x3dl1RG|8\t1265716\n",
      "CRWATIDWCNT|DOCID_19727m0x4EkNeb|19727m0x4wCObf|10\t1274453\n",
      "CRWATIDWCNT|NormalDataStream_娱乐|1971850f3THNGk|27\t1329553\n",
      "CRWATIDWCNT|TITLE_胸肌|19729c0l3g6QQF|15\t1350888\n",
      "CRWATIDWCNT|article_19725c0x14HsLj|20190730A06IT200|10\t1363891\n",
      "CRWATIDWCNT|article_tt_6711221225160442380|19729g0x2ix65B|8\t1381429\n",
      "CRWATIDWCNT|tag_农村生活|20190729A0G6C500|14\t1398831\n",
      "CRWATIDWCNT|title_世界之最|19730a0x2CK1qg|6\t1404325\n",
      "CRWATIDWCNT|title_战略|19729m0l0fcAfp|26\t1420057\n",
      "CRWATIDWCNT|title_戛纳|19729h0x1c9Hbx|5\t1420081\n",
      "CRWATIDWCNT|title_截拳道|19728m0x10hzm3|3\t1420084\n",
      "CRWATIDWCNT|title_房事|1972780x1LX4gz|11\t1420124\n",
      "CRWATIDWCNT|title_手游|19729i0x1f5se4|6\t1420360\n",
      "ICBRWQUALS|article_20190710A0EBDK002\t2045273\n",
      "ICBRWWCNT|NormalDataStream_数码12\t2146997\n",
      "ICBRWWCNT|title_张敏8\t2214549\n",
      "ICFRW|ACC_qie_461aab0d6697038f0484a5718618cbad\t2264378\n",
      "ICFRWDUR|DOCID_1972690x4CFJSw25\t2351793\n",
      "ICFRWPCNT|ACC_qie_f22f85c2868b4af6efd9aeca22fe74ef5\t2425736\n",
      "ICFRWPCNT|ACC_tt_520053009294\t2426843\n",
      "ICFRWPCNT|ACC_tt_522363783293\t2426849\n",
      "ICFRWPCNT|ACC_tt_569357962525\t2426988\n",
      "ICFRWPCNT|ACC_tt_58925749665\t2427052\n",
      "ICFRWPCNT|DOCID_19718n0C0TjB5N5\t2431096\n",
      "ICFRWPORNS|DOCID_open_doc_prod83880450\t2544824\n",
      "ICFRWQUALS|DOCID_19730e0x0Xb5Ps14\t2609893\n",
      "ICFRWWCNT|ACC_qie_8f11f461add40081fbb1eeaf471ab7ae8\t2653864\n",
      "ICFRWWCNT|DOCID_19724d0C3VlLHL12\t2674303\n",
      "ICFRWWCNT|DOCID_20190717A0T5HN006\t2699678\n",
      "ICFRWWCNT|DOCID_open_doc_prod801376714\t2713482\n",
      "MITATDURAC|tt_736664958432\t2788800\n",
      "MITATDURKW|快递65\t2830694\n",
      "MITATDURTG|驾驶技巧80\t2907351\n",
      "MITATDURTG|高尔夫45\t2907439\n",
      "inst 2\n",
      "CAGATTP|24_30|娱乐\t101\n",
      "CEDATTP|NULL|健身\t304\n",
      "CRWATIDWCNT|DOCID_1972680l4BxNX5|19724l0l0CRcqo|8\t1265579\n",
      "CRWATIDWCNT|DOCID_1972680x4cKuK8|19728h0x3bwAHy|4\t1265643\n",
      "CRWATIDWCNT|DOCID_1972690l0DyLat|19727h0x27qB0V|7\t1265654\n",
      "CRWATIDWCNT|DOCID_1972690l2nJUV8|19729a0l0mINqa|24\t1265666\n",
      "CRWATIDWCNT|DOCID_1972690x08JklL|19723g0x1geGb1|3\t1265688\n",
      "CRWATIDWCNT|DOCID_1972690x1SBW3c|19729b0l2X89lp|14\t1265715\n",
      "CRWATIDWCNT|DOCID_19726g0l4udj62|19726k0l4Gg71R|5\t1267855\n",
      "CRWATIDWCNT|NormalDataStream_娱乐|1971850f3THNGk|27\t1329553\n",
      "CRWATIDWCNT|NormalDataStream_新时代|d5566cb14e487f3015de7ec3f42a7ff3|7\t1333100\n",
      "CRWATIDWCNT|NormalDataStream_热门|19713b0r11VCJb|33\t1335382\n",
      "CRWATIDWCNT|account_open_prod290625|open_doc_prod8483263|9\t1353525\n",
      "CRWATIDWCNT|tag_欧美明星|19730l0l26oSuH|5\t1400719\n",
      "CRWATIDWCNT|title_战略|19729m0l0fcAfp|26\t1420057\n",
      "CRWATIDWCNT|title_戚薇|19730g0x2hNIZ1|12\t1420076\n",
      "CRWATIDWCNT|title_戴安娜|20190730A07EM800|11\t1420099\n",
      "CRWATIDWCNT|title_房事|1972780x1LX4gz|11\t1420124\n",
      "CRWATIDWCNT|title_手机|1972920l2xgb5e|7\t1420272\n",
      "ICFRWPCNT|ACC_qie_f22f85c2868b4af6efd9aeca22fe74ef5\t2425736\n",
      "ICFRWPCNT|ACC_tt_520053009294\t2426843\n",
      "ICFRWPCNT|ACC_tt_522363783293\t2426849\n",
      "ICFRWPCNT|ACC_tt_558148762625\t2426967\n",
      "ICFRWPCNT|ACC_tt_595867366715\t2427086\n",
      "ICFRWQUALS|DOCID_19728f0l0FRbdP22\t2600841\n",
      "ICFRWQUALS|DOCID_1972900x0cgjEs25\t2603435\n",
      "ICFRWQUALS|DOCID_19729l0l0AtvK021\t2608274\n",
      "ICFRWQUALS|DOCID_open_doc_prod817117917\t2630646\n",
      "ICFRWWCNT|DOCID_19712a0C1QEFG620\t2656973\n",
      "ICFRWWCNT|DOCID_19723f0x1PTQja10\t2671108\n",
      "ICFRWWCNT|DOCID_19723i0l1EeL4y10\t2671592\n",
      "ICFRWWCNT|DOCID_1972410l016SXN12\t2672875\n",
      "ICFRWWCNT|DOCID_1972890x41CtBK5\t2688626\n",
      "ICFRWWCNT|DOCID_20190720A09Y5Q004\t2701254\n",
      "ICFRWWCNT|DOCID_20190727A0F9Y30012\t2708935\n",
      "ICFRWWCNT|DOCID_20190727A0Q9BM008\t2709535\n",
      "MITATDURKW|上官婉儿49\t2794201\n",
      "MITATDURKW|小说65\t2824920\n",
      "MITATDURKW|巨兽45\t2826149\n",
      "MITATDURKW|张艺谋68\t2828913\n",
      "MITATDURTG|综艺129\t2904113\n",
      "MITATDURTG|考研94\t2904771\n",
      "MITATDURTG|驾驶技巧60\t2907332\n",
      "MITATDURTG|高分经典电影85\t2907425\n"
     ]
    },
    {
     "name": "stderr",
     "output_type": "stream",
     "text": [
      "\n"
     ]
    }
   ],
   "source": [
    "for i, line in tqdm(enumerate(lines), total=len(lines)):\n",
    "    if i > 2:\n",
    "        break\n",
    "    print('inst %d' % i)\n",
    "    l = parse(line)\n",
    "    for item in l:\n",
    "        idx, val = item.split(':')\n",
    "        idx = int(idx)\n",
    "        print(names[idx - 1])"
   ]
  },
  {
   "cell_type": "code",
   "execution_count": 22,
   "metadata": {},
   "outputs": [
    {
     "data": {
      "text/plain": [
       "785877"
      ]
     },
     "execution_count": 22,
     "metadata": {},
     "output_type": "execute_result"
    }
   ],
   "source": [
    "len(lines)"
   ]
  },
  {
   "cell_type": "code",
   "execution_count": 11,
   "metadata": {},
   "outputs": [],
   "source": [
    "numerical_features = defaultdict(int)"
   ]
  },
  {
   "cell_type": "code",
   "execution_count": 12,
   "metadata": {},
   "outputs": [
    {
     "name": "stderr",
     "output_type": "stream",
     "text": [
      "100%|██████████| 785877/785877 [00:35<00:00, 22116.74it/s]\n"
     ]
    }
   ],
   "source": [
    "max_idx = 0\n",
    "for i, line in tqdm(enumerate(lines), total=len(lines)):\n",
    "  l = parse(line)\n",
    "  for item in l:\n",
    "    idx, val = item.split(':')\n",
    "    idx = int(idx)\n",
    "    if idx > max_idx:\n",
    "      max_idx = idx\n",
    "    if val != '1':\n",
    "      numerical_features[idx] += 1"
   ]
  },
  {
   "cell_type": "code",
   "execution_count": 14,
   "metadata": {},
   "outputs": [],
   "source": [
    "num_features = max_idx + 1\n",
    "num_numerical_features = len(numerical_features)\n",
    "numerical_feature_ratio = num_numerical_features / num_features"
   ]
  },
  {
   "cell_type": "code",
   "execution_count": 16,
   "metadata": {},
   "outputs": [
    {
     "name": "stdout",
     "output_type": "stream",
     "text": [
      "num_features 2907506 num_numerical_features 377234 numerical_feature_ratio 0.12974487412923655\n"
     ]
    }
   ],
   "source": [
    "print('num_features', num_features, 'num_numerical_features', num_numerical_features, 'numerical_feature_ratio', numerical_feature_ratio)"
   ]
  },
  {
   "cell_type": "code",
   "execution_count": null,
   "metadata": {},
   "outputs": [],
   "source": [
    "# row = np.array([0, 0, 1, 2, 2, 2])\n",
    "# col = np.array([0, 2, 2, 0, 1, 2])\n",
    "# data = np.array([1, 2, 3, 4, 5, 6])\n",
    "# a = csr_matrix((data, (row, col)), shape=(3, 3)).toarray()\n",
    "\n",
    "# array([[1, 0, 2],\n",
    "#        [0, 0, 3],\n",
    "#        [4, 5, 6]])"
   ]
  },
  {
   "cell_type": "code",
   "execution_count": null,
   "metadata": {},
   "outputs": [],
   "source": []
  },
  {
   "cell_type": "code",
   "execution_count": null,
   "metadata": {},
   "outputs": [],
   "source": [
    "row = []\n",
    "col = []\n",
    "data = [] \n",
    "max_idx = 0\n",
    "for i, line in tqdm(enumerate(lines), total=len(lines)):\n",
    "  l = parse(line)\n",
    "  for item in l:\n",
    "    idx, val = item.split(':')\n",
    "    idx = int(idx)\n",
    "    if idx > max_idx:\n",
    "      max_idx = idx\n",
    "    val = float(val)\n",
    "    row.append(i)\n",
    "    col.append(idx)\n",
    "    data.append(val)"
   ]
  },
  {
   "cell_type": "code",
   "execution_count": null,
   "metadata": {},
   "outputs": [],
   "source": [
    "i"
   ]
  },
  {
   "cell_type": "code",
   "execution_count": null,
   "metadata": {},
   "outputs": [],
   "source": [
    "max_idx"
   ]
  },
  {
   "cell_type": "code",
   "execution_count": null,
   "metadata": {},
   "outputs": [],
   "source": [
    "for j in range(3):\n",
    "  pass\n",
    "print(j)"
   ]
  },
  {
   "cell_type": "code",
   "execution_count": null,
   "metadata": {},
   "outputs": [],
   "source": [
    "a = csr_matrix((data, (row, col)), shape=(i + 1, max_idx + 1))"
   ]
  },
  {
   "cell_type": "code",
   "execution_count": null,
   "metadata": {},
   "outputs": [],
   "source": [
    "from sklearn.preprocessing import StandardScaler, QuantileTransformer\n",
    "scaler = StandardScaler(with_mean=False)"
   ]
  },
  {
   "cell_type": "code",
   "execution_count": null,
   "metadata": {},
   "outputs": [],
   "source": [
    "a"
   ]
  },
  {
   "cell_type": "code",
   "execution_count": null,
   "metadata": {},
   "outputs": [],
   "source": [
    "scaler.fit(a)"
   ]
  },
  {
   "cell_type": "code",
   "execution_count": null,
   "metadata": {},
   "outputs": [],
   "source": [
    "scaler"
   ]
  },
  {
   "cell_type": "code",
   "execution_count": null,
   "metadata": {},
   "outputs": [],
   "source": [
    "scaler.mean_"
   ]
  },
  {
   "cell_type": "code",
   "execution_count": null,
   "metadata": {},
   "outputs": [],
   "source": [
    "scaler.scale_"
   ]
  },
  {
   "cell_type": "code",
   "execution_count": null,
   "metadata": {},
   "outputs": [],
   "source": [
    "scaler.var_"
   ]
  },
  {
   "cell_type": "code",
   "execution_count": null,
   "metadata": {},
   "outputs": [],
   "source": [
    "b = scaler.transform(a)"
   ]
  },
  {
   "cell_type": "code",
   "execution_count": null,
   "metadata": {},
   "outputs": [],
   "source": [
    "b[0].toarray()[0][2]"
   ]
  },
  {
   "cell_type": "code",
   "execution_count": null,
   "metadata": {},
   "outputs": [],
   "source": [
    "a[0].toarray()[0][2]"
   ]
  },
  {
   "cell_type": "code",
   "execution_count": null,
   "metadata": {},
   "outputs": [],
   "source": [
    "b[2].toarray()[0][2]"
   ]
  },
  {
   "cell_type": "code",
   "execution_count": null,
   "metadata": {},
   "outputs": [],
   "source": [
    "s = QuantileTransformer(random_state=0)"
   ]
  },
  {
   "cell_type": "code",
   "execution_count": null,
   "metadata": {},
   "outputs": [],
   "source": [
    "s.fit(a)"
   ]
  },
  {
   "cell_type": "code",
   "execution_count": null,
   "metadata": {},
   "outputs": [],
   "source": [
    "c = s.transform(a)"
   ]
  },
  {
   "cell_type": "code",
   "execution_count": null,
   "metadata": {},
   "outputs": [],
   "source": [
    "b[0]"
   ]
  },
  {
   "cell_type": "code",
   "execution_count": null,
   "metadata": {},
   "outputs": [],
   "source": []
  }
 ],
 "metadata": {
  "kernelspec": {
   "display_name": "Python 3",
   "language": "python",
   "name": "python3"
  },
  "language_info": {
   "codemirror_mode": {
    "name": "ipython",
    "version": 3
   },
   "file_extension": ".py",
   "mimetype": "text/x-python",
   "name": "python",
   "nbconvert_exporter": "python",
   "pygments_lexer": "ipython3",
   "version": "3.6.8"
  }
 },
 "nbformat": 4,
 "nbformat_minor": 2
}
