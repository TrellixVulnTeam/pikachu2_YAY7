{
 "cells": [
  {
   "cell_type": "code",
   "execution_count": 1,
   "metadata": {},
   "outputs": [],
   "source": [
    "import pandas as pd\n",
    "from projects.feed.rank.src.evaluate import eval"
   ]
  },
  {
   "cell_type": "code",
   "execution_count": 2,
   "metadata": {},
   "outputs": [],
   "source": [
    "click_file = '/home/gezi/tmp/rank/exps/tuwen/v26/dlrm-click/infos/2020021723/valid.csv'\n",
    "dur_file = '/home/gezi/tmp/rank/exps/tuwen/v26/dlrm-dur/infos/2020021723/valid.csv'\n",
    "file = '/home/gezi/tmp/rank/exps/tuwen/v26/dlrm/infos/2020021723/valid.csv'"
   ]
  },
  {
   "cell_type": "code",
   "execution_count": 3,
   "metadata": {},
   "outputs": [],
   "source": [
    "d = pd.read_csv(file)"
   ]
  },
  {
   "cell_type": "code",
   "execution_count": 4,
   "metadata": {},
   "outputs": [
    {
     "data": {
      "text/html": [
       "<div>\n",
       "<style scoped>\n",
       "    .dataframe tbody tr th:only-of-type {\n",
       "        vertical-align: middle;\n",
       "    }\n",
       "\n",
       "    .dataframe tbody tr th {\n",
       "        vertical-align: top;\n",
       "    }\n",
       "\n",
       "    .dataframe thead th {\n",
       "        text-align: right;\n",
       "    }\n",
       "</style>\n",
       "<table border=\"1\" class=\"dataframe\">\n",
       "  <thead>\n",
       "    <tr style=\"text-align: right;\">\n",
       "      <th></th>\n",
       "      <th>mid</th>\n",
       "      <th>duration</th>\n",
       "      <th>ori_lr_score</th>\n",
       "      <th>abtest</th>\n",
       "      <th>rea</th>\n",
       "      <th>page_time</th>\n",
       "      <th>product_data</th>\n",
       "      <th>distribution</th>\n",
       "      <th>impression_time</th>\n",
       "      <th>position</th>\n",
       "      <th>read_completion_rate</th>\n",
       "      <th>docid</th>\n",
       "      <th>pred</th>\n",
       "      <th>pred_click</th>\n",
       "      <th>pred_dur</th>\n",
       "    </tr>\n",
       "  </thead>\n",
       "  <tbody>\n",
       "    <tr>\n",
       "      <th>0</th>\n",
       "      <td>6a92357071100469311</td>\n",
       "      <td>0</td>\n",
       "      <td>0.152933</td>\n",
       "      <td>5</td>\n",
       "      <td>940</td>\n",
       "      <td>50</td>\n",
       "      <td>sgsapp</td>\n",
       "      <td>3016</td>\n",
       "      <td>1581951611</td>\n",
       "      <td>0</td>\n",
       "      <td>0.0</td>\n",
       "      <td>20215l0l05123q</td>\n",
       "      <td>0.061950</td>\n",
       "      <td>0.297614</td>\n",
       "      <td>0.178584</td>\n",
       "    </tr>\n",
       "    <tr>\n",
       "      <th>1</th>\n",
       "      <td>3bb3863098034387878</td>\n",
       "      <td>0</td>\n",
       "      <td>0.215933</td>\n",
       "      <td>6</td>\n",
       "      <td>901</td>\n",
       "      <td>33</td>\n",
       "      <td>sgsapp</td>\n",
       "      <td>3065</td>\n",
       "      <td>1581950958</td>\n",
       "      <td>6</td>\n",
       "      <td>0.0</td>\n",
       "      <td>open_doc_prod19776476</td>\n",
       "      <td>0.021594</td>\n",
       "      <td>0.177198</td>\n",
       "      <td>0.103798</td>\n",
       "    </tr>\n",
       "    <tr>\n",
       "      <th>2</th>\n",
       "      <td>b68a1566309707020|adfb01</td>\n",
       "      <td>0</td>\n",
       "      <td>0.298333</td>\n",
       "      <td>6</td>\n",
       "      <td>908</td>\n",
       "      <td>170</td>\n",
       "      <td>sgsapp</td>\n",
       "      <td>3057</td>\n",
       "      <td>1581950006</td>\n",
       "      <td>4</td>\n",
       "      <td>0.0</td>\n",
       "      <td>20210k0l3tjkUo</td>\n",
       "      <td>0.065370</td>\n",
       "      <td>0.258934</td>\n",
       "      <td>0.249734</td>\n",
       "    </tr>\n",
       "    <tr>\n",
       "      <th>3</th>\n",
       "      <td>6ed7860364046224191</td>\n",
       "      <td>0</td>\n",
       "      <td>0.153033</td>\n",
       "      <td>4</td>\n",
       "      <td>993</td>\n",
       "      <td>92</td>\n",
       "      <td>sgsapp</td>\n",
       "      <td>3116</td>\n",
       "      <td>1581951562</td>\n",
       "      <td>7</td>\n",
       "      <td>0.0</td>\n",
       "      <td>2021420l3temqv</td>\n",
       "      <td>0.007045</td>\n",
       "      <td>0.044437</td>\n",
       "      <td>0.273456</td>\n",
       "    </tr>\n",
       "    <tr>\n",
       "      <th>4</th>\n",
       "      <td>3487865472044179468</td>\n",
       "      <td>0</td>\n",
       "      <td>0.156233</td>\n",
       "      <td>6</td>\n",
       "      <td>993</td>\n",
       "      <td>93</td>\n",
       "      <td>sgsapp</td>\n",
       "      <td>3039</td>\n",
       "      <td>1581950370</td>\n",
       "      <td>4</td>\n",
       "      <td>0.0</td>\n",
       "      <td>open_doc_prod19544038</td>\n",
       "      <td>0.024107</td>\n",
       "      <td>0.185619</td>\n",
       "      <td>0.111439</td>\n",
       "    </tr>\n",
       "  </tbody>\n",
       "</table>\n",
       "</div>"
      ],
      "text/plain": [
       "                        mid  duration  ori_lr_score  abtest  rea  page_time  \\\n",
       "0       6a92357071100469311         0      0.152933       5  940         50   \n",
       "1       3bb3863098034387878         0      0.215933       6  901         33   \n",
       "2  b68a1566309707020|adfb01         0      0.298333       6  908        170   \n",
       "3       6ed7860364046224191         0      0.153033       4  993         92   \n",
       "4       3487865472044179468         0      0.156233       6  993         93   \n",
       "\n",
       "  product_data distribution  impression_time  position  read_completion_rate  \\\n",
       "0       sgsapp         3016       1581951611         0                   0.0   \n",
       "1       sgsapp         3065       1581950958         6                   0.0   \n",
       "2       sgsapp         3057       1581950006         4                   0.0   \n",
       "3       sgsapp         3116       1581951562         7                   0.0   \n",
       "4       sgsapp         3039       1581950370         4                   0.0   \n",
       "\n",
       "                   docid      pred  pred_click  pred_dur  \n",
       "0         20215l0l05123q  0.061950    0.297614  0.178584  \n",
       "1  open_doc_prod19776476  0.021594    0.177198  0.103798  \n",
       "2         20210k0l3tjkUo  0.065370    0.258934  0.249734  \n",
       "3         2021420l3temqv  0.007045    0.044437  0.273456  \n",
       "4  open_doc_prod19544038  0.024107    0.185619  0.111439  "
      ]
     },
     "execution_count": 4,
     "metadata": {},
     "output_type": "execute_result"
    }
   ],
   "source": [
    "d.head()"
   ]
  },
  {
   "cell_type": "code",
   "execution_count": 5,
   "metadata": {},
   "outputs": [],
   "source": [
    "dclick = pd.read_csv(click_file)"
   ]
  },
  {
   "cell_type": "code",
   "execution_count": 6,
   "metadata": {},
   "outputs": [],
   "source": [
    "ddur = pd.read_csv(dur_file)"
   ]
  },
  {
   "cell_type": "code",
   "execution_count": 7,
   "metadata": {},
   "outputs": [
    {
     "data": {
      "text/html": [
       "<div>\n",
       "<style scoped>\n",
       "    .dataframe tbody tr th:only-of-type {\n",
       "        vertical-align: middle;\n",
       "    }\n",
       "\n",
       "    .dataframe tbody tr th {\n",
       "        vertical-align: top;\n",
       "    }\n",
       "\n",
       "    .dataframe thead th {\n",
       "        text-align: right;\n",
       "    }\n",
       "</style>\n",
       "<table border=\"1\" class=\"dataframe\">\n",
       "  <thead>\n",
       "    <tr style=\"text-align: right;\">\n",
       "      <th></th>\n",
       "      <th>mid</th>\n",
       "      <th>duration</th>\n",
       "      <th>ori_lr_score</th>\n",
       "      <th>abtest</th>\n",
       "      <th>rea</th>\n",
       "      <th>page_time</th>\n",
       "      <th>product_data</th>\n",
       "      <th>distribution</th>\n",
       "      <th>impression_time</th>\n",
       "      <th>position</th>\n",
       "      <th>read_completion_rate</th>\n",
       "      <th>docid</th>\n",
       "      <th>pred</th>\n",
       "      <th>pred_click</th>\n",
       "      <th>pred_dur</th>\n",
       "    </tr>\n",
       "  </thead>\n",
       "  <tbody>\n",
       "    <tr>\n",
       "      <th>0</th>\n",
       "      <td>6a92357071100469311</td>\n",
       "      <td>0</td>\n",
       "      <td>0.152933</td>\n",
       "      <td>5</td>\n",
       "      <td>940</td>\n",
       "      <td>50</td>\n",
       "      <td>sgsapp</td>\n",
       "      <td>3016</td>\n",
       "      <td>1581951611</td>\n",
       "      <td>0</td>\n",
       "      <td>0.0</td>\n",
       "      <td>20215l0l05123q</td>\n",
       "      <td>0.233122</td>\n",
       "      <td>0.233122</td>\n",
       "      <td>0.502911</td>\n",
       "    </tr>\n",
       "    <tr>\n",
       "      <th>1</th>\n",
       "      <td>3bb3863098034387878</td>\n",
       "      <td>0</td>\n",
       "      <td>0.215933</td>\n",
       "      <td>6</td>\n",
       "      <td>901</td>\n",
       "      <td>33</td>\n",
       "      <td>sgsapp</td>\n",
       "      <td>3065</td>\n",
       "      <td>1581950958</td>\n",
       "      <td>6</td>\n",
       "      <td>0.0</td>\n",
       "      <td>open_doc_prod19776476</td>\n",
       "      <td>0.218242</td>\n",
       "      <td>0.218242</td>\n",
       "      <td>0.534044</td>\n",
       "    </tr>\n",
       "    <tr>\n",
       "      <th>2</th>\n",
       "      <td>b68a1566309707020|adfb01</td>\n",
       "      <td>0</td>\n",
       "      <td>0.298333</td>\n",
       "      <td>6</td>\n",
       "      <td>908</td>\n",
       "      <td>170</td>\n",
       "      <td>sgsapp</td>\n",
       "      <td>3057</td>\n",
       "      <td>1581950006</td>\n",
       "      <td>4</td>\n",
       "      <td>0.0</td>\n",
       "      <td>20210k0l3tjkUo</td>\n",
       "      <td>0.295047</td>\n",
       "      <td>0.295047</td>\n",
       "      <td>0.533588</td>\n",
       "    </tr>\n",
       "    <tr>\n",
       "      <th>3</th>\n",
       "      <td>6ed7860364046224191</td>\n",
       "      <td>0</td>\n",
       "      <td>0.153033</td>\n",
       "      <td>4</td>\n",
       "      <td>993</td>\n",
       "      <td>92</td>\n",
       "      <td>sgsapp</td>\n",
       "      <td>3116</td>\n",
       "      <td>1581951562</td>\n",
       "      <td>7</td>\n",
       "      <td>0.0</td>\n",
       "      <td>2021420l3temqv</td>\n",
       "      <td>0.039778</td>\n",
       "      <td>0.039778</td>\n",
       "      <td>0.779283</td>\n",
       "    </tr>\n",
       "    <tr>\n",
       "      <th>4</th>\n",
       "      <td>3487865472044179468</td>\n",
       "      <td>0</td>\n",
       "      <td>0.156233</td>\n",
       "      <td>6</td>\n",
       "      <td>993</td>\n",
       "      <td>93</td>\n",
       "      <td>sgsapp</td>\n",
       "      <td>3039</td>\n",
       "      <td>1581950370</td>\n",
       "      <td>4</td>\n",
       "      <td>0.0</td>\n",
       "      <td>open_doc_prod19544038</td>\n",
       "      <td>0.217194</td>\n",
       "      <td>0.217194</td>\n",
       "      <td>0.518890</td>\n",
       "    </tr>\n",
       "  </tbody>\n",
       "</table>\n",
       "</div>"
      ],
      "text/plain": [
       "                        mid  duration  ori_lr_score  abtest  rea  page_time  \\\n",
       "0       6a92357071100469311         0      0.152933       5  940         50   \n",
       "1       3bb3863098034387878         0      0.215933       6  901         33   \n",
       "2  b68a1566309707020|adfb01         0      0.298333       6  908        170   \n",
       "3       6ed7860364046224191         0      0.153033       4  993         92   \n",
       "4       3487865472044179468         0      0.156233       6  993         93   \n",
       "\n",
       "  product_data distribution  impression_time  position  read_completion_rate  \\\n",
       "0       sgsapp         3016       1581951611         0                   0.0   \n",
       "1       sgsapp         3065       1581950958         6                   0.0   \n",
       "2       sgsapp         3057       1581950006         4                   0.0   \n",
       "3       sgsapp         3116       1581951562         7                   0.0   \n",
       "4       sgsapp         3039       1581950370         4                   0.0   \n",
       "\n",
       "                   docid      pred  pred_click  pred_dur  \n",
       "0         20215l0l05123q  0.233122    0.233122  0.502911  \n",
       "1  open_doc_prod19776476  0.218242    0.218242  0.534044  \n",
       "2         20210k0l3tjkUo  0.295047    0.295047  0.533588  \n",
       "3         2021420l3temqv  0.039778    0.039778  0.779283  \n",
       "4  open_doc_prod19544038  0.217194    0.217194  0.518890  "
      ]
     },
     "execution_count": 7,
     "metadata": {},
     "output_type": "execute_result"
    }
   ],
   "source": [
    "dclick.head()"
   ]
  },
  {
   "cell_type": "code",
   "execution_count": 8,
   "metadata": {
    "scrolled": true
   },
   "outputs": [
    {
     "data": {
      "text/html": [
       "<div>\n",
       "<style scoped>\n",
       "    .dataframe tbody tr th:only-of-type {\n",
       "        vertical-align: middle;\n",
       "    }\n",
       "\n",
       "    .dataframe tbody tr th {\n",
       "        vertical-align: top;\n",
       "    }\n",
       "\n",
       "    .dataframe thead th {\n",
       "        text-align: right;\n",
       "    }\n",
       "</style>\n",
       "<table border=\"1\" class=\"dataframe\">\n",
       "  <thead>\n",
       "    <tr style=\"text-align: right;\">\n",
       "      <th></th>\n",
       "      <th>mid</th>\n",
       "      <th>duration</th>\n",
       "      <th>ori_lr_score</th>\n",
       "      <th>abtest</th>\n",
       "      <th>rea</th>\n",
       "      <th>page_time</th>\n",
       "      <th>product_data</th>\n",
       "      <th>distribution</th>\n",
       "      <th>impression_time</th>\n",
       "      <th>position</th>\n",
       "      <th>read_completion_rate</th>\n",
       "      <th>docid</th>\n",
       "      <th>pred</th>\n",
       "      <th>pred_click</th>\n",
       "      <th>pred_dur</th>\n",
       "    </tr>\n",
       "  </thead>\n",
       "  <tbody>\n",
       "    <tr>\n",
       "      <th>0</th>\n",
       "      <td>6a92357071100469311</td>\n",
       "      <td>0</td>\n",
       "      <td>0.152933</td>\n",
       "      <td>5</td>\n",
       "      <td>940</td>\n",
       "      <td>50</td>\n",
       "      <td>sgsapp</td>\n",
       "      <td>3016</td>\n",
       "      <td>1581951611</td>\n",
       "      <td>0</td>\n",
       "      <td>0.0</td>\n",
       "      <td>20215l0l05123q</td>\n",
       "      <td>0.125361</td>\n",
       "      <td>0.905904</td>\n",
       "      <td>0.125361</td>\n",
       "    </tr>\n",
       "    <tr>\n",
       "      <th>1</th>\n",
       "      <td>3bb3863098034387878</td>\n",
       "      <td>0</td>\n",
       "      <td>0.215933</td>\n",
       "      <td>6</td>\n",
       "      <td>901</td>\n",
       "      <td>33</td>\n",
       "      <td>sgsapp</td>\n",
       "      <td>3065</td>\n",
       "      <td>1581950958</td>\n",
       "      <td>6</td>\n",
       "      <td>0.0</td>\n",
       "      <td>open_doc_prod19776476</td>\n",
       "      <td>0.108166</td>\n",
       "      <td>0.906800</td>\n",
       "      <td>0.108166</td>\n",
       "    </tr>\n",
       "    <tr>\n",
       "      <th>2</th>\n",
       "      <td>b68a1566309707020|adfb01</td>\n",
       "      <td>0</td>\n",
       "      <td>0.298333</td>\n",
       "      <td>6</td>\n",
       "      <td>908</td>\n",
       "      <td>170</td>\n",
       "      <td>sgsapp</td>\n",
       "      <td>3057</td>\n",
       "      <td>1581950006</td>\n",
       "      <td>4</td>\n",
       "      <td>0.0</td>\n",
       "      <td>20210k0l3tjkUo</td>\n",
       "      <td>0.206083</td>\n",
       "      <td>0.778061</td>\n",
       "      <td>0.206083</td>\n",
       "    </tr>\n",
       "    <tr>\n",
       "      <th>3</th>\n",
       "      <td>6ed7860364046224191</td>\n",
       "      <td>0</td>\n",
       "      <td>0.153033</td>\n",
       "      <td>4</td>\n",
       "      <td>993</td>\n",
       "      <td>92</td>\n",
       "      <td>sgsapp</td>\n",
       "      <td>3116</td>\n",
       "      <td>1581951562</td>\n",
       "      <td>7</td>\n",
       "      <td>0.0</td>\n",
       "      <td>2021420l3temqv</td>\n",
       "      <td>0.221492</td>\n",
       "      <td>0.767863</td>\n",
       "      <td>0.221492</td>\n",
       "    </tr>\n",
       "    <tr>\n",
       "      <th>4</th>\n",
       "      <td>3487865472044179468</td>\n",
       "      <td>0</td>\n",
       "      <td>0.156233</td>\n",
       "      <td>6</td>\n",
       "      <td>993</td>\n",
       "      <td>93</td>\n",
       "      <td>sgsapp</td>\n",
       "      <td>3039</td>\n",
       "      <td>1581950370</td>\n",
       "      <td>4</td>\n",
       "      <td>0.0</td>\n",
       "      <td>open_doc_prod19544038</td>\n",
       "      <td>0.071564</td>\n",
       "      <td>0.934756</td>\n",
       "      <td>0.071564</td>\n",
       "    </tr>\n",
       "  </tbody>\n",
       "</table>\n",
       "</div>"
      ],
      "text/plain": [
       "                        mid  duration  ori_lr_score  abtest  rea  page_time  \\\n",
       "0       6a92357071100469311         0      0.152933       5  940         50   \n",
       "1       3bb3863098034387878         0      0.215933       6  901         33   \n",
       "2  b68a1566309707020|adfb01         0      0.298333       6  908        170   \n",
       "3       6ed7860364046224191         0      0.153033       4  993         92   \n",
       "4       3487865472044179468         0      0.156233       6  993         93   \n",
       "\n",
       "  product_data distribution  impression_time  position  read_completion_rate  \\\n",
       "0       sgsapp         3016       1581951611         0                   0.0   \n",
       "1       sgsapp         3065       1581950958         6                   0.0   \n",
       "2       sgsapp         3057       1581950006         4                   0.0   \n",
       "3       sgsapp         3116       1581951562         7                   0.0   \n",
       "4       sgsapp         3039       1581950370         4                   0.0   \n",
       "\n",
       "                   docid      pred  pred_click  pred_dur  \n",
       "0         20215l0l05123q  0.125361    0.905904  0.125361  \n",
       "1  open_doc_prod19776476  0.108166    0.906800  0.108166  \n",
       "2         20210k0l3tjkUo  0.206083    0.778061  0.206083  \n",
       "3         2021420l3temqv  0.221492    0.767863  0.221492  \n",
       "4  open_doc_prod19544038  0.071564    0.934756  0.071564  "
      ]
     },
     "execution_count": 8,
     "metadata": {},
     "output_type": "execute_result"
    }
   ],
   "source": [
    "ddur.head()"
   ]
  },
  {
   "cell_type": "code",
   "execution_count": 9,
   "metadata": {},
   "outputs": [
    {
     "name": "stderr",
     "output_type": "stream",
     "text": [
      "                                                                       \r"
     ]
    }
   ],
   "source": [
    "rclick = eval(dclick.duration.values, dclick.pred_click.values, dclick.mid.values, group=True, max_duration=600)"
   ]
  },
  {
   "cell_type": "code",
   "execution_count": 10,
   "metadata": {},
   "outputs": [
    {
     "name": "stderr",
     "output_type": "stream",
     "text": [
      "                                                                       \r"
     ]
    }
   ],
   "source": [
    "rdur = eval(ddur.duration.values, ddur.pred_dur.values, ddur.mid.values, group=True, max_duration=600)"
   ]
  },
  {
   "cell_type": "code",
   "execution_count": 11,
   "metadata": {},
   "outputs": [
    {
     "name": "stderr",
     "output_type": "stream",
     "text": [
      "                                                                       \r"
     ]
    }
   ],
   "source": [
    "res_click = eval(d.duration.values, d.pred_click.values, d.mid.values, group=True, max_duration=600)"
   ]
  },
  {
   "cell_type": "code",
   "execution_count": 12,
   "metadata": {},
   "outputs": [
    {
     "name": "stderr",
     "output_type": "stream",
     "text": [
      "                                                                       \r"
     ]
    }
   ],
   "source": [
    "res_dur = eval(d.duration.values, d.pred_dur.values, d.mid.values, group=True, max_duration=600)"
   ]
  },
  {
   "cell_type": "code",
   "execution_count": 13,
   "metadata": {},
   "outputs": [
    {
     "name": "stderr",
     "output_type": "stream",
     "text": [
      "                                                                       \r"
     ]
    }
   ],
   "source": [
    "res = eval(d.duration.values, d.pred.values, d.mid.values, group=True, max_duration=600)"
   ]
  },
  {
   "cell_type": "code",
   "execution_count": 14,
   "metadata": {},
   "outputs": [
    {
     "name": "stderr",
     "output_type": "stream",
     "text": [
      "                                                                       \r"
     ]
    }
   ],
   "source": [
    "res2 = eval(d.duration.values, dclick.pred_click.values * ddur.pred_dur.values, d.mid.values, group=True, max_duration=600)"
   ]
  },
  {
   "cell_type": "code",
   "execution_count": 15,
   "metadata": {},
   "outputs": [
    {
     "name": "stderr",
     "output_type": "stream",
     "text": [
      "                                                                       \r"
     ]
    }
   ],
   "source": [
    "res3 = eval(d.duration.values, (dclick.pred_click.values ** 1.3) * (ddur.pred_dur.values ** 0.7), d.mid.values, group=True, max_duration=600)"
   ]
  },
  {
   "cell_type": "code",
   "execution_count": 17,
   "metadata": {},
   "outputs": [
    {
     "data": {
      "text/plain": [
       "0.6283906646496755"
      ]
     },
     "execution_count": 17,
     "metadata": {},
     "output_type": "execute_result"
    }
   ],
   "source": [
    "res3['group/auc']"
   ]
  },
  {
   "cell_type": "code",
   "execution_count": 18,
   "metadata": {},
   "outputs": [
    {
     "data": {
      "text/plain": [
       "0.585257092871273"
      ]
     },
     "execution_count": 18,
     "metadata": {},
     "output_type": "execute_result"
    }
   ],
   "source": [
    "res3['group/click/time_auc']"
   ]
  },
  {
   "cell_type": "code",
   "execution_count": 22,
   "metadata": {},
   "outputs": [
    {
     "data": {
      "text/plain": [
       "0.790111183606757"
      ]
     },
     "execution_count": 22,
     "metadata": {},
     "output_type": "execute_result"
    }
   ],
   "source": [
    "res3['click/rmse']"
   ]
  },
  {
   "cell_type": "code",
   "execution_count": 23,
   "metadata": {},
   "outputs": [
    {
     "data": {
      "text/plain": [
       "0.628614943577599"
      ]
     },
     "execution_count": 23,
     "metadata": {},
     "output_type": "execute_result"
    }
   ],
   "source": [
    "res['group/auc']"
   ]
  },
  {
   "cell_type": "code",
   "execution_count": 24,
   "metadata": {},
   "outputs": [
    {
     "data": {
      "text/plain": [
       "0.5789597556168813"
      ]
     },
     "execution_count": 24,
     "metadata": {},
     "output_type": "execute_result"
    }
   ],
   "source": [
    "res['group/click/time_auc']"
   ]
  },
  {
   "cell_type": "code",
   "execution_count": 25,
   "metadata": {},
   "outputs": [
    {
     "data": {
      "text/plain": [
       "0.7903809750581042"
      ]
     },
     "execution_count": 25,
     "metadata": {},
     "output_type": "execute_result"
    }
   ],
   "source": [
    "res['click/rmse']"
   ]
  },
  {
   "cell_type": "code",
   "execution_count": 26,
   "metadata": {},
   "outputs": [
    {
     "data": {
      "text/plain": [
       "132.74150739271548"
      ]
     },
     "execution_count": 26,
     "metadata": {},
     "output_type": "execute_result"
    }
   ],
   "source": [
    "res['group/click/top1_dur']"
   ]
  },
  {
   "cell_type": "code",
   "execution_count": 27,
   "metadata": {},
   "outputs": [
    {
     "data": {
      "text/plain": [
       "133.6178867652362"
      ]
     },
     "execution_count": 27,
     "metadata": {},
     "output_type": "execute_result"
    }
   ],
   "source": [
    "res3['group/click/top1_dur']"
   ]
  },
  {
   "cell_type": "code",
   "execution_count": 28,
   "metadata": {},
   "outputs": [
    {
     "data": {
      "text/plain": [
       "0.9190367403206996"
      ]
     },
     "execution_count": 28,
     "metadata": {},
     "output_type": "execute_result"
    }
   ],
   "source": [
    "res['group/click/ndcg_dur']"
   ]
  },
  {
   "cell_type": "code",
   "execution_count": 29,
   "metadata": {},
   "outputs": [
    {
     "data": {
      "text/plain": [
       "0.9202611007142744"
      ]
     },
     "execution_count": 29,
     "metadata": {},
     "output_type": "execute_result"
    }
   ],
   "source": [
    "res3['group/click/ndcg_dur']"
   ]
  },
  {
   "cell_type": "code",
   "execution_count": 30,
   "metadata": {},
   "outputs": [
    {
     "data": {
      "text/plain": [
       "0.943687412514923"
      ]
     },
     "execution_count": 30,
     "metadata": {},
     "output_type": "execute_result"
    }
   ],
   "source": [
    "res_dur['group/click/ndcg_dur']"
   ]
  },
  {
   "cell_type": "code",
   "execution_count": 31,
   "metadata": {},
   "outputs": [
    {
     "data": {
      "text/plain": [
       "0.9448993916881671"
      ]
     },
     "execution_count": 31,
     "metadata": {},
     "output_type": "execute_result"
    }
   ],
   "source": [
    "rdur['group/click/ndcg_dur']"
   ]
  },
  {
   "cell_type": "code",
   "execution_count": 36,
   "metadata": {},
   "outputs": [
    {
     "data": {
      "text/plain": [
       "0.9051033303374042"
      ]
     },
     "execution_count": 36,
     "metadata": {},
     "output_type": "execute_result"
    }
   ],
   "source": [
    "1 - res['mse'] ** 0.5"
   ]
  },
  {
   "cell_type": "code",
   "execution_count": 37,
   "metadata": {},
   "outputs": [
    {
     "data": {
      "text/plain": [
       "0.9057331996973467"
      ]
     },
     "execution_count": 37,
     "metadata": {},
     "output_type": "execute_result"
    }
   ],
   "source": [
    "1 - res3['mse'] ** 0.5"
   ]
  },
  {
   "cell_type": "code",
   "execution_count": 38,
   "metadata": {},
   "outputs": [
    {
     "data": {
      "text/plain": [
       "0.6366854590778471"
      ]
     },
     "execution_count": 38,
     "metadata": {},
     "output_type": "execute_result"
    }
   ],
   "source": [
    "res['group/auc2']"
   ]
  },
  {
   "cell_type": "code",
   "execution_count": 39,
   "metadata": {},
   "outputs": [
    {
     "data": {
      "text/plain": [
       "0.6351234640667798"
      ]
     },
     "execution_count": 39,
     "metadata": {},
     "output_type": "execute_result"
    }
   ],
   "source": [
    "res3['group/auc2']"
   ]
  },
  {
   "cell_type": "code",
   "execution_count": 40,
   "metadata": {},
   "outputs": [
    {
     "name": "stderr",
     "output_type": "stream",
     "text": [
      "                                                                       \r"
     ]
    }
   ],
   "source": [
    "res4 = eval(d.duration.values, (d.pred_click.values ** 1.3) * (ddur.pred_dur.values ** 0.7), d.mid.values, group=True, max_duration=600)"
   ]
  },
  {
   "cell_type": "code",
   "execution_count": 42,
   "metadata": {},
   "outputs": [
    {
     "data": {
      "text/plain": [
       "0.6354908153864355"
      ]
     },
     "execution_count": 42,
     "metadata": {},
     "output_type": "execute_result"
    }
   ],
   "source": [
    "res4['group/auc2']"
   ]
  },
  {
   "cell_type": "code",
   "execution_count": null,
   "metadata": {},
   "outputs": [],
   "source": []
  }
 ],
 "metadata": {
  "kernelspec": {
   "display_name": "Python 3",
   "language": "python",
   "name": "python3"
  },
  "language_info": {
   "codemirror_mode": {
    "name": "ipython",
    "version": 3
   },
   "file_extension": ".py",
   "mimetype": "text/x-python",
   "name": "python",
   "nbconvert_exporter": "python",
   "pygments_lexer": "ipython3",
   "version": "3.6.8"
  }
 },
 "nbformat": 4,
 "nbformat_minor": 2
}
