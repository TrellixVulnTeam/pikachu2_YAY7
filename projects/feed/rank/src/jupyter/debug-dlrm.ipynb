{
 "cells": [
  {
   "cell_type": "code",
   "execution_count": 1,
   "metadata": {},
   "outputs": [
    {
     "data": {
      "text/html": [
       "        <script type=\"text/javascript\">\n",
       "        window.PlotlyConfig = {MathJaxConfig: 'local'};\n",
       "        if (window.MathJax) {MathJax.Hub.Config({SVG: {font: \"STIX-Web\"}});}\n",
       "        if (typeof require !== 'undefined') {\n",
       "        require.undef(\"plotly\");\n",
       "        requirejs.config({\n",
       "            paths: {\n",
       "                'plotly': ['https://cdn.plot.ly/plotly-latest.min']\n",
       "            }\n",
       "        });\n",
       "        require(['plotly'], function(Plotly) {\n",
       "            window._Plotly = Plotly;\n",
       "        });\n",
       "        }\n",
       "        </script>\n",
       "        "
      ]
     },
     "metadata": {},
     "output_type": "display_data"
    }
   ],
   "source": [
    "import pymp\n",
    "from multiprocessing import Manager, cpu_count \n",
    "import sys\n",
    "import os\n",
    "import glob \n",
    "import gezi\n",
    "from gezi import tqdm\n",
    "import pandas as pd\n",
    "import json\n",
    "import tensorflow as tf\n",
    "from absl import flags\n",
    "FLAGS = flags.FLAGS\n",
    "import melt\n",
    "\n",
    "from plotly.graph_objs import Scatter,Layout\n",
    "import plotly\n",
    "import plotly.offline as py\n",
    "import numpy as np\n",
    "import plotly.graph_objs as go\n",
    "from plotly.subplots import make_subplots\n",
    "\n",
    "#setting offilne\n",
    "plotly.offline.init_notebook_mode(connected=True)\n",
    "tf.enable_eager_execution()\n",
    "\n",
    "from projects.feed.rank.src import config\n",
    "from projects.feed.rank.src.model import Model\n",
    "from projects.feed.rank.src.tfrecord_dataset import Dataset"
   ]
  },
  {
   "cell_type": "code",
   "execution_count": 2,
   "metadata": {},
   "outputs": [
    {
     "data": {
      "text/html": [
       "<style>\n",
       ".output_wrapper, .output {\n",
       "    height:auto !important;\n",
       "    max-height:10000px;  /* your desired max-height here */\n",
       "}\n",
       ".output_scroll {\n",
       "    box-shadow:none !important;\n",
       "    webkit-box-shadow:none !important;\n",
       "}\n",
       "</style>"
      ],
      "text/plain": [
       "<IPython.core.display.HTML object>"
      ]
     },
     "metadata": {},
     "output_type": "display_data"
    }
   ],
   "source": [
    "%%html\n",
    "<style>\n",
    ".output_wrapper, .output {\n",
    "    height:auto !important;\n",
    "    max-height:10000px;  /* your desired max-height here */\n",
    "}\n",
    ".output_scroll {\n",
    "    box-shadow:none !important;\n",
    "    webkit-box-shadow:none !important;\n",
    "}\n",
    "</style>"
   ]
  },
  {
   "cell_type": "code",
   "execution_count": 3,
   "metadata": {},
   "outputs": [],
   "source": [
    "product='sgsapp'\n",
    "mark='video'"
   ]
  },
  {
   "cell_type": "code",
   "execution_count": 4,
   "metadata": {},
   "outputs": [
    {
     "name": "stdout",
     "output_type": "stream",
     "text": [
      "model: /search/odin/publicData/CloudS/mkyuwen/rank_online/data/video_hour_sgsapp_v1/models/1/2020072019\n",
      "record: /search/odin/publicData/CloudS/yuwenmengke/rank_0521/sgsapp/data/video_hour_sgsapp_v1/tfrecords/2020072022\n"
     ]
    },
    {
     "name": "stderr",
     "output_type": "stream",
     "text": [
      "2020-07-21 17:16:40 0:00:00 Tf dataset and Tf model train in Eager mode, keras False, distributed:False\n",
      "2020-07-21 17:16:40 0:00:00 log_level: 20 (try --debug to show more or --log_level=(> 20) to show less(no INFO), try --verbose to show train/valid loss intervaly)\n",
      "2020-07-21 17:16:40 0:00:00 batch_size: 512 eval_batch_size: 512 batch_size_per_gpu: 512 num_gpus: 0 gpu: [] CUDA_VISIABLE_DEVICES=[-1] work_mode: train distributed: False horovod: False\n",
      "2020-07-21 17:16:40 0:00:00 model: [1] model_dir: [/search/odin/mkyuwen/rank_onexp_0612/video/model/1]\n",
      "2020-07-21 17:16:41 0:00:00 Latest checkpoint: /search/odin/publicData/CloudS/mkyuwen/rank_online/data/video_hour_sgsapp_v1/models/1/2020072019/model.ckpt-2020072019-1.00-3590\n"
     ]
    }
   ],
   "source": [
    "# 载入模型\n",
    "model_hour = '2020072019'\n",
    "valid_hour = '2020072022'\n",
    "# valid_hour = '2020030812'\n",
    "#model_root = f'/search/odin/publicData/CloudS/libowei/rank_online/data/{mark}_hour_sgsapp_v1/models/8'\n",
    "model_root = f'/search/odin/publicData/CloudS/mkyuwen/rank_online/data/video_hour_sgsapp_v1/models/1'\n",
    "# model_root = '/home/gezi/tmp/rank/exps/tuwen/v29/dlrm-norm/'\n",
    "model_dir = f'{model_root}/{model_hour}'\n",
    "# model_dir = model_root\n",
    "# tfrecord_root = f'/search/odin/publicData/CloudS/libowei/rank/{product}/data/{mark}_hour_{product}_v1/tfrecords'\n",
    "tfrecord_root = f'/search/odin/publicData/CloudS/yuwenmengke/rank_0521/sgsapp/data/video_hour_sgsapp_v1/tfrecords'\n",
    "tfrecord_dir = f'{tfrecord_root}/{valid_hour}'\n",
    "print('model:', model_dir)\n",
    "print('record:', tfrecord_dir)\n",
    "argv = open(f'{model_dir}/command.txt').readline().strip().replace('data_version=2', 'data_version=1').split()\n",
    "FLAGS(argv)\n",
    "FLAGS.eager = True\n",
    "# FLAGS.fields_norm=True\n",
    "config.init()\n",
    "model = Model()\n",
    "melt.eager.restore(model, model_dir)"
   ]
  },
  {
   "cell_type": "code",
   "execution_count": 5,
   "metadata": {},
   "outputs": [],
   "source": [
    "dataset = Dataset('valid')"
   ]
  },
  {
   "cell_type": "code",
   "execution_count": 6,
   "metadata": {},
   "outputs": [
    {
     "name": "stderr",
     "output_type": "stream",
     "text": [
      "                                                       \r"
     ]
    },
    {
     "data": {
      "text/plain": [
       "1102904"
      ]
     },
     "execution_count": 6,
     "metadata": {},
     "output_type": "execute_result"
    }
   ],
   "source": [
    "files = gezi.list_files(tfrecord_dir)\n",
    "total = melt.get_num_records(files) \n",
    "total"
   ]
  },
  {
   "cell_type": "code",
   "execution_count": 21,
   "metadata": {},
   "outputs": [],
   "source": [
    "batch_size = 512\n",
    "batch_size = 1\n",
    "batches = dataset.make_batch(batch_size=batch_size, filenames=files, repeat=False)\n",
    "num_steps = -int(-total // batch_size)"
   ]
  },
  {
   "cell_type": "code",
   "execution_count": 22,
   "metadata": {},
   "outputs": [],
   "source": [
    "def get_info(x, mid):\n",
    "  mids = gezi.decode(x['mid'].numpy())\n",
    "  hits = []\n",
    "  for i in range(len(mids)):\n",
    "    if mids[i] == mid:\n",
    "      hits += [i]\n",
    "  res = [{}] * len(hits)\n",
    "  for key in x:\n",
    "    for i, pos in enumerate(hits):\n",
    "      res[i][key] = tf.convert_to_tensor([x[key][pos]])\n",
    "  return res"
   ]
  },
  {
   "cell_type": "code",
   "execution_count": 23,
   "metadata": {},
   "outputs": [
    {
     "name": "stderr",
     "output_type": "stream",
     "text": [
      "loop:   0%|          | 0/1102904 [00:00<?, ?it/s]\n"
     ]
    }
   ],
   "source": [
    "# xs = []\n",
    "# for i, (x, _) in tqdm(enumerate(batches), total=num_steps, ascii=True, desc='loop'):\n",
    "# #   xs += get_info(x, 'bfa1A00000934E2403')\n",
    "#   break"
   ]
  },
  {
   "cell_type": "code",
   "execution_count": 26,
   "metadata": {},
   "outputs": [
    {
     "name": "stderr",
     "output_type": "stream",
     "text": [
      "loop:   0%|          | 1000/1102904 [00:03<55:39, 329.98it/s] \n"
     ]
    }
   ],
   "source": [
    "xs = []\n",
    "for i, (x, _) in tqdm(enumerate(batches), total=num_steps, ascii=True, desc='loop'):\n",
    "  xs += [x]\n",
    "  if i == 1000:\n",
    "    break\n",
    "#   if i == num_steps:\n",
    "#     break"
   ]
  },
  {
   "cell_type": "code",
   "execution_count": 27,
   "metadata": {},
   "outputs": [],
   "source": [
    "x = xs[2]\n",
    "count = 0\n",
    "for i in range(1000):\n",
    "  if xs[i]['duration'].numpy() > 0:\n",
    "    x = xs[i]\n",
    "    count += 1\n",
    "    if count == 9:\n",
    "      break"
   ]
  },
  {
   "cell_type": "code",
   "execution_count": 28,
   "metadata": {},
   "outputs": [],
   "source": [
    "def get_doc(xs, docid):\n",
    "  for x in xs:\n",
    "    if tf.compat.as_str_any(x['docid'][0].numpy()) == docid:\n",
    "      return x"
   ]
  },
  {
   "cell_type": "code",
   "execution_count": 29,
   "metadata": {},
   "outputs": [
    {
     "data": {
      "text/plain": [
       "<tf.Tensor: id=211675, shape=(1, 1), dtype=float32, numpy=array([[0.0213]], dtype=float32)>"
      ]
     },
     "execution_count": 29,
     "metadata": {},
     "output_type": "execute_result"
    }
   ],
   "source": [
    "model(x)"
   ]
  },
  {
   "cell_type": "code",
   "execution_count": 32,
   "metadata": {},
   "outputs": [
    {
     "data": {
      "text/plain": [
       "<tf.Tensor: id=148757, shape=(1,), dtype=string, numpy=array([b'7790864571047670299\\t20719m0K1NMLzv'], dtype=object)>"
      ]
     },
     "execution_count": 32,
     "metadata": {},
     "output_type": "execute_result"
    }
   ],
   "source": [
    "x['id']"
   ]
  },
  {
   "cell_type": "code",
   "execution_count": 33,
   "metadata": {},
   "outputs": [
    {
     "data": {
      "text/plain": [
       "<tf.Tensor: id=148754, shape=(1, 1), dtype=int64, numpy=array([[183]])>"
      ]
     },
     "execution_count": 33,
     "metadata": {},
     "output_type": "execute_result"
    }
   ],
   "source": [
    "x['duration']"
   ]
  },
  {
   "cell_type": "code",
   "execution_count": 30,
   "metadata": {},
   "outputs": [
    {
     "data": {
      "text/plain": [
       "[<projects.feed.rank.src.model.Wide at 0x7faf132a9b38>,\n",
       " <projects.feed.rank.src.model.Wide at 0x7faf132a9898>,\n",
       " <projects.feed.rank.src.model.Deep at 0x7faf132a9c88>,\n",
       " <tensorflow.python.keras.layers.core.Dense at 0x7faf12f81630>,\n",
       " <tensorflow.python.keras.layers.core.Dense at 0x7faf12f81908>]"
      ]
     },
     "execution_count": 30,
     "metadata": {},
     "output_type": "execute_result"
    }
   ],
   "source": [
    "model.layers"
   ]
  },
  {
   "cell_type": "code",
   "execution_count": 31,
   "metadata": {},
   "outputs": [
    {
     "data": {
      "text/plain": [
       "[<tf.Variable 'wide_deep/deep/kw_emb/embeddings:0' shape=(1000001, 32) dtype=float32, numpy=\n",
       " array([[ 0.0341,  0.0431, -0.0375, ...,  0.0173, -0.0411,  0.0428],\n",
       "        [ 0.018 ,  0.0162,  0.0014, ..., -0.0406, -0.0291, -0.0057],\n",
       "        [-0.0013, -0.0383, -0.0357, ..., -0.0465, -0.0369, -0.0283],\n",
       "        ...,\n",
       "        [ 0.0066, -0.0494, -0.0094, ...,  0.0312,  0.0222,  0.0085],\n",
       "        [-0.036 , -0.0222, -0.0496, ...,  0.0385, -0.0085,  0.0415],\n",
       "        [-0.0248,  0.0458, -0.0626, ...,  0.0629, -0.0305, -0.0139]],\n",
       "       dtype=float32)>]"
      ]
     },
     "execution_count": 31,
     "metadata": {},
     "output_type": "execute_result"
    }
   ],
   "source": [
    "model.deep.kw_emb.weights"
   ]
  },
  {
   "cell_type": "code",
   "execution_count": 40,
   "metadata": {},
   "outputs": [],
   "source": [
    "kw_emb = model.deep.kw_emb.weights[0].numpy()"
   ]
  },
  {
   "cell_type": "code",
   "execution_count": 45,
   "metadata": {},
   "outputs": [
    {
     "data": {
      "text/plain": [
       "(1000001, 32)"
      ]
     },
     "execution_count": 45,
     "metadata": {},
     "output_type": "execute_result"
    }
   ],
   "source": [
    "kw_emb.shape"
   ]
  },
  {
   "cell_type": "code",
   "execution_count": 50,
   "metadata": {},
   "outputs": [],
   "source": [
    "def kw_sim(kw1, kw2, height=1000000):\n",
    "  h1 = gezi.hash_int64(kw1)\n",
    "  h2 = gezi.hash_int64(kw2)\n",
    "  id1 = h1 % height + 1\n",
    "  id2 = h2 % height + 1\n",
    "  return gezi.cosine(kw_emb[id1], kw_emb[id2])"
   ]
  },
  {
   "cell_type": "code",
   "execution_count": 51,
   "metadata": {},
   "outputs": [
    {
     "data": {
      "text/plain": [
       "-0.065345645"
      ]
     },
     "execution_count": 51,
     "metadata": {},
     "output_type": "execute_result"
    }
   ],
   "source": [
    "kw_sim('老婆', '媳妇')"
   ]
  },
  {
   "cell_type": "code",
   "execution_count": 52,
   "metadata": {},
   "outputs": [
    {
     "data": {
      "text/plain": [
       "0.17124209"
      ]
     },
     "execution_count": 52,
     "metadata": {},
     "output_type": "execute_result"
    }
   ],
   "source": [
    "kw_sim('老婆', '孩子')"
   ]
  },
  {
   "cell_type": "code",
   "execution_count": 53,
   "metadata": {},
   "outputs": [
    {
     "data": {
      "text/plain": [
       "-0.13594934"
      ]
     },
     "execution_count": 53,
     "metadata": {},
     "output_type": "execute_result"
    }
   ],
   "source": [
    "kw_sim('老婆', '丈夫')"
   ]
  },
  {
   "cell_type": "code",
   "execution_count": 54,
   "metadata": {},
   "outputs": [
    {
     "data": {
      "text/plain": [
       "0.12070185"
      ]
     },
     "execution_count": 54,
     "metadata": {},
     "output_type": "execute_result"
    }
   ],
   "source": [
    "kw_sim('乒乓球', '丈夫')"
   ]
  },
  {
   "cell_type": "code",
   "execution_count": 55,
   "metadata": {},
   "outputs": [
    {
     "data": {
      "text/plain": [
       "-0.105204456"
      ]
     },
     "execution_count": 55,
     "metadata": {},
     "output_type": "execute_result"
    }
   ],
   "source": [
    "kw_sim('乒乓球', '足球')"
   ]
  },
  {
   "cell_type": "code",
   "execution_count": 56,
   "metadata": {},
   "outputs": [
    {
     "data": {
      "text/plain": [
       "0.023281164"
      ]
     },
     "execution_count": 56,
     "metadata": {},
     "output_type": "execute_result"
    }
   ],
   "source": [
    "kw_sim('篮球', '足球')"
   ]
  },
  {
   "cell_type": "code",
   "execution_count": 57,
   "metadata": {},
   "outputs": [
    {
     "data": {
      "text/plain": [
       "0.0534849"
      ]
     },
     "execution_count": 57,
     "metadata": {},
     "output_type": "execute_result"
    }
   ],
   "source": [
    "kw_sim('篮球', '笔记本')"
   ]
  },
  {
   "cell_type": "code",
   "execution_count": 58,
   "metadata": {},
   "outputs": [
    {
     "data": {
      "text/plain": [
       "0.15951999"
      ]
     },
     "execution_count": 58,
     "metadata": {},
     "output_type": "execute_result"
    }
   ],
   "source": [
    "kw_sim('手机', '笔记本')"
   ]
  },
  {
   "cell_type": "code",
   "execution_count": 59,
   "metadata": {},
   "outputs": [
    {
     "data": {
      "text/plain": [
       "0.2748438"
      ]
     },
     "execution_count": 59,
     "metadata": {},
     "output_type": "execute_result"
    }
   ],
   "source": [
    "kw_sim('苹果', '梨')"
   ]
  },
  {
   "cell_type": "code",
   "execution_count": 60,
   "metadata": {},
   "outputs": [
    {
     "data": {
      "text/plain": [
       "0.07417711"
      ]
     },
     "execution_count": 60,
     "metadata": {},
     "output_type": "execute_result"
    }
   ],
   "source": [
    "kw_sim('苹果', 'mac')"
   ]
  },
  {
   "cell_type": "code",
   "execution_count": 61,
   "metadata": {},
   "outputs": [
    {
     "data": {
      "text/plain": [
       "-0.12172077"
      ]
     },
     "execution_count": 61,
     "metadata": {},
     "output_type": "execute_result"
    }
   ],
   "source": [
    "kw_sim('电脑', 'mac')"
   ]
  },
  {
   "cell_type": "code",
   "execution_count": 62,
   "metadata": {},
   "outputs": [
    {
     "data": {
      "text/plain": [
       "0.15630038"
      ]
     },
     "execution_count": 62,
     "metadata": {},
     "output_type": "execute_result"
    }
   ],
   "source": [
    "kw_sim('电脑', '鼠标')"
   ]
  },
  {
   "cell_type": "code",
   "execution_count": 63,
   "metadata": {},
   "outputs": [
    {
     "data": {
      "text/plain": [
       "-0.13156724"
      ]
     },
     "execution_count": 63,
     "metadata": {},
     "output_type": "execute_result"
    }
   ],
   "source": [
    "kw_sim('搜狗', '百度')"
   ]
  },
  {
   "cell_type": "code",
   "execution_count": 64,
   "metadata": {},
   "outputs": [
    {
     "data": {
      "text/plain": [
       "-0.2364463"
      ]
     },
     "execution_count": 64,
     "metadata": {},
     "output_type": "execute_result"
    }
   ],
   "source": [
    "kw_sim('腾讯', '百度')"
   ]
  },
  {
   "cell_type": "code",
   "execution_count": 65,
   "metadata": {},
   "outputs": [
    {
     "data": {
      "text/plain": [
       "0.14354429"
      ]
     },
     "execution_count": 65,
     "metadata": {},
     "output_type": "execute_result"
    }
   ],
   "source": [
    "kw_sim('美女', '明显')"
   ]
  },
  {
   "cell_type": "code",
   "execution_count": 66,
   "metadata": {},
   "outputs": [
    {
     "data": {
      "text/plain": [
       "0.33288077"
      ]
     },
     "execution_count": 66,
     "metadata": {},
     "output_type": "execute_result"
    }
   ],
   "source": [
    "kw_sim('美女', '明星')"
   ]
  },
  {
   "cell_type": "code",
   "execution_count": 67,
   "metadata": {},
   "outputs": [
    {
     "data": {
      "text/plain": [
       "0.091602005"
      ]
     },
     "execution_count": 67,
     "metadata": {},
     "output_type": "execute_result"
    }
   ],
   "source": [
    "kw_sim('美女', '两性')"
   ]
  },
  {
   "cell_type": "code",
   "execution_count": 68,
   "metadata": {},
   "outputs": [
    {
     "data": {
      "text/plain": [
       "-0.44393417"
      ]
     },
     "execution_count": 68,
     "metadata": {},
     "output_type": "execute_result"
    }
   ],
   "source": [
    "kw_sim('美女', '军事')"
   ]
  },
  {
   "cell_type": "code",
   "execution_count": 69,
   "metadata": {},
   "outputs": [
    {
     "data": {
      "text/plain": [
       "-0.026391614"
      ]
     },
     "execution_count": 69,
     "metadata": {},
     "output_type": "execute_result"
    }
   ],
   "source": [
    "kw_sim('时政', '军事')"
   ]
  },
  {
   "cell_type": "code",
   "execution_count": 70,
   "metadata": {},
   "outputs": [
    {
     "data": {
      "text/plain": [
       "0.29270053"
      ]
     },
     "execution_count": 70,
     "metadata": {},
     "output_type": "execute_result"
    }
   ],
   "source": [
    "kw_sim('政治', '军事')"
   ]
  },
  {
   "cell_type": "code",
   "execution_count": 71,
   "metadata": {},
   "outputs": [
    {
     "data": {
      "text/plain": [
       "0.30990842"
      ]
     },
     "execution_count": 71,
     "metadata": {},
     "output_type": "execute_result"
    }
   ],
   "source": [
    "kw_sim('体育', '足球')"
   ]
  },
  {
   "cell_type": "code",
   "execution_count": 72,
   "metadata": {},
   "outputs": [
    {
     "data": {
      "text/plain": [
       "-0.0284415"
      ]
     },
     "execution_count": 72,
     "metadata": {},
     "output_type": "execute_result"
    }
   ],
   "source": [
    "kw_sim('体育', '篮球')"
   ]
  },
  {
   "cell_type": "code",
   "execution_count": 73,
   "metadata": {},
   "outputs": [
    {
     "data": {
      "text/plain": [
       "0.19276936"
      ]
     },
     "execution_count": 73,
     "metadata": {},
     "output_type": "execute_result"
    }
   ],
   "source": [
    "kw_sim('体育', '乒乓球')"
   ]
  },
  {
   "cell_type": "code",
   "execution_count": 74,
   "metadata": {},
   "outputs": [
    {
     "data": {
      "text/plain": [
       "-0.045936987"
      ]
     },
     "execution_count": 74,
     "metadata": {},
     "output_type": "execute_result"
    }
   ],
   "source": [
    "kw_sim('羽毛球', '乒乓球')"
   ]
  },
  {
   "cell_type": "code",
   "execution_count": 75,
   "metadata": {},
   "outputs": [
    {
     "data": {
      "text/plain": [
       "0.18916212"
      ]
     },
     "execution_count": 75,
     "metadata": {},
     "output_type": "execute_result"
    }
   ],
   "source": [
    "kw_sim('体育', '健身')"
   ]
  },
  {
   "cell_type": "code",
   "execution_count": 76,
   "metadata": {},
   "outputs": [
    {
     "data": {
      "text/plain": [
       "0.09824768"
      ]
     },
     "execution_count": 76,
     "metadata": {},
     "output_type": "execute_result"
    }
   ],
   "source": [
    "kw_sim('体育', '姚明')"
   ]
  },
  {
   "cell_type": "code",
   "execution_count": 77,
   "metadata": {},
   "outputs": [
    {
     "data": {
      "text/plain": [
       "-0.32485664"
      ]
     },
     "execution_count": 77,
     "metadata": {},
     "output_type": "execute_result"
    }
   ],
   "source": [
    "kw_sim('体育', '李克强')"
   ]
  },
  {
   "cell_type": "code",
   "execution_count": 78,
   "metadata": {},
   "outputs": [
    {
     "data": {
      "text/plain": [
       "-0.078976475"
      ]
     },
     "execution_count": 78,
     "metadata": {},
     "output_type": "execute_result"
    }
   ],
   "source": [
    "kw_sim('翼装飞行', '翼装')"
   ]
  },
  {
   "cell_type": "code",
   "execution_count": 79,
   "metadata": {},
   "outputs": [
    {
     "data": {
      "text/plain": [
       "-0.12455144"
      ]
     },
     "execution_count": 79,
     "metadata": {},
     "output_type": "execute_result"
    }
   ],
   "source": [
    "kw_sim('肯豆', '时装')"
   ]
  },
  {
   "cell_type": "code",
   "execution_count": 80,
   "metadata": {},
   "outputs": [
    {
     "data": {
      "text/plain": [
       "-0.1029112"
      ]
     },
     "execution_count": 80,
     "metadata": {},
     "output_type": "execute_result"
    }
   ],
   "source": [
    "kw_sim('肯豆', '明星')"
   ]
  },
  {
   "cell_type": "code",
   "execution_count": 81,
   "metadata": {},
   "outputs": [
    {
     "data": {
      "text/plain": [
       "0.19523934"
      ]
     },
     "execution_count": 81,
     "metadata": {},
     "output_type": "execute_result"
    }
   ],
   "source": [
    "kw_sim('章子怡', '明星')"
   ]
  },
  {
   "cell_type": "code",
   "execution_count": 82,
   "metadata": {},
   "outputs": [
    {
     "data": {
      "text/plain": [
       "0.19065455"
      ]
     },
     "execution_count": 82,
     "metadata": {},
     "output_type": "execute_result"
    }
   ],
   "source": [
    "kw_sim('越南', '新加坡')"
   ]
  },
  {
   "cell_type": "code",
   "execution_count": 83,
   "metadata": {},
   "outputs": [
    {
     "data": {
      "text/plain": [
       "0.31473112"
      ]
     },
     "execution_count": 83,
     "metadata": {},
     "output_type": "execute_result"
    }
   ],
   "source": [
    "kw_sim('越南', '俄罗斯')"
   ]
  },
  {
   "cell_type": "code",
   "execution_count": 84,
   "metadata": {},
   "outputs": [
    {
     "data": {
      "text/plain": [
       "0.015419804"
      ]
     },
     "execution_count": 84,
     "metadata": {},
     "output_type": "execute_result"
    }
   ],
   "source": [
    "kw_sim('越南', '特朗普')"
   ]
  },
  {
   "cell_type": "code",
   "execution_count": 85,
   "metadata": {},
   "outputs": [
    {
     "data": {
      "text/plain": [
       "0.2662671"
      ]
     },
     "execution_count": 85,
     "metadata": {},
     "output_type": "execute_result"
    }
   ],
   "source": [
    "kw_sim('新冠', '特朗普')"
   ]
  },
  {
   "cell_type": "code",
   "execution_count": 86,
   "metadata": {},
   "outputs": [
    {
     "data": {
      "text/plain": [
       "0.14773594"
      ]
     },
     "execution_count": 86,
     "metadata": {},
     "output_type": "execute_result"
    }
   ],
   "source": [
    "kw_sim('美国', '特朗普')"
   ]
  },
  {
   "cell_type": "code",
   "execution_count": 87,
   "metadata": {},
   "outputs": [
    {
     "data": {
      "text/plain": [
       "0.21929994"
      ]
     },
     "execution_count": 87,
     "metadata": {},
     "output_type": "execute_result"
    }
   ],
   "source": [
    "kw_sim('中国', '特朗普')"
   ]
  },
  {
   "cell_type": "code",
   "execution_count": 88,
   "metadata": {},
   "outputs": [
    {
     "data": {
      "text/plain": [
       "-0.15745132"
      ]
     },
     "execution_count": 88,
     "metadata": {},
     "output_type": "execute_result"
    }
   ],
   "source": [
    "kw_sim('牛肉', '特朗普')"
   ]
  },
  {
   "cell_type": "code",
   "execution_count": 89,
   "metadata": {},
   "outputs": [
    {
     "data": {
      "text/plain": [
       "0.36206806"
      ]
     },
     "execution_count": 89,
     "metadata": {},
     "output_type": "execute_result"
    }
   ],
   "source": [
    "kw_sim('牛肉', '美食')"
   ]
  },
  {
   "cell_type": "code",
   "execution_count": 39,
   "metadata": {},
   "outputs": [
    {
     "data": {
      "text/plain": [
       "0.0014265358"
      ]
     },
     "execution_count": 39,
     "metadata": {},
     "output_type": "execute_result"
    }
   ],
   "source": [
    "model.deep.user_emb.weights[0].numpy().mean()"
   ]
  },
  {
   "cell_type": "code",
   "execution_count": 36,
   "metadata": {},
   "outputs": [
    {
     "data": {
      "text/plain": [
       "0.00029412145"
      ]
     },
     "execution_count": 36,
     "metadata": {},
     "output_type": "execute_result"
    }
   ],
   "source": [
    "model.deep.doc_emb.weights[0].numpy().mean()"
   ]
  },
  {
   "cell_type": "code",
   "execution_count": 14,
   "metadata": {},
   "outputs": [
    {
     "data": {
      "text/plain": [
       "[<tf.Variable 'wide_deep/dense_12/kernel:0' shape=(2, 1) dtype=float32, numpy=\n",
       " array([[ 0.003 ],\n",
       "        [-0.0432]], dtype=float32)>,\n",
       " <tf.Variable 'wide_deep/dense_12/bias:0' shape=(1,) dtype=float32, numpy=array([-1.2739], dtype=float32)>]"
      ]
     },
     "execution_count": 14,
     "metadata": {},
     "output_type": "execute_result"
    }
   ],
   "source": [
    "# 点击塔 wide 的权重0.0054 deep权重 0.0344 wide的影响极小 后面也证明这一点\n",
    "model.layers[-2].weights"
   ]
  },
  {
   "cell_type": "code",
   "execution_count": 12,
   "metadata": {},
   "outputs": [],
   "source": [
    "# 这两个doc 第一个位于位置1 未点击            《楞严经》未得谓得未证言证 \n",
    "# 第二个位于位置11 点击  时长276              不管你相不相信转世和业，修持金刚萨埵法门非常重要\n",
    "x1 = get_doc(xs, '2050880x18kxgs')\n",
    "x2 = get_doc(xs, '20508l0l1Sy3rK')"
   ]
  },
  {
   "cell_type": "code",
   "execution_count": 14,
   "metadata": {},
   "outputs": [
    {
     "data": {
      "text/plain": [
       "<tf.Tensor: id=164808, shape=(1, 100), dtype=int64, numpy=\n",
       "array([[ 2497018187339628289,  7454267765482564390,  5249870935199499468,\n",
       "        -7445710862883341190,  9200600509661742591,  4613952955898248268,\n",
       "         4613952955898248268,   789118711552849257,  6676206831695143456,\n",
       "        -4690589300209911868,  5832513682969836603,  5814871040139463220,\n",
       "         8231775787324756526,  6542662098019923192, -8085199320759549422,\n",
       "         1624967564591613045,  7981911317382662345,  5062345579739016777,\n",
       "         7153798303226364985,  8309539223362353568,  1413542521776041921,\n",
       "        -7045646830384326602,  1173712025618709632,  2457001617728112838,\n",
       "         -408629747063015612,  5155997678851131417, -1802263287388093764,\n",
       "         -165857663623427133,   -50534922134768071,   457426426774322503,\n",
       "         5434037021565601746,  4803698468749676103,  7070228455537301648,\n",
       "         8985521105019028127, -8766603623861055052, -3076034891908382671,\n",
       "         6818765462259455698,  6479711340744711493,  -987675398918212919,\n",
       "         6186743497941807350, -8732195311222701933, -8204357353188178419,\n",
       "         5595272719159130805, -4737083012796490668,  8119823652576291328,\n",
       "         6235130892484399231, -8293480901399513928, -6413966337122844213,\n",
       "        -2531652172767490750, -5824600183074964418,  6593519331401628355,\n",
       "        -2878182825467545517,  5035070383595549969, -2154385964041050225,\n",
       "        -3195042333143695978, -3753497172189288489, -6842693703167769051,\n",
       "         7874958400245841978,    91932356178016685,  8488895782228832175,\n",
       "        -7955686565049990088,   165480683853816636, -2073258489109326721,\n",
       "        -7798187571826126272, -8031869901775623882, -6164275133545882013,\n",
       "         5619465704214664996,  7844026362504164292,  8591717612067821726,\n",
       "         4906462705808320486,  6166790401276950585,  5958208414399371290,\n",
       "        -8950371127480170251, -4151358799814859239, -1606327519717755837,\n",
       "        -3644438083164697751,  1665648572091376140,  8393667288617355067,\n",
       "        -4492714588224017868, -5320347657916306483, -3644438083164697751,\n",
       "         3225323031012980268,  7278469160622639117, -2770003471000378757,\n",
       "        -2306518529284586723,  4249680900153552740,  -383599440842269165,\n",
       "                           0,                    0,                    0,\n",
       "                           0,                    0,                    0,\n",
       "                           0,                    0,                    0,\n",
       "                           0,                    0,                    0,\n",
       "                           0]])>"
      ]
     },
     "execution_count": 14,
     "metadata": {},
     "output_type": "execute_result"
    }
   ],
   "source": [
    "x1['history']"
   ]
  },
  {
   "cell_type": "code",
   "execution_count": 14,
   "metadata": {},
   "outputs": [
    {
     "data": {
      "text/plain": [
       "<tf.Tensor: id=244287, shape=(1, 1), dtype=float32, numpy=array([[0.0881]], dtype=float32)>"
      ]
     },
     "execution_count": 14,
     "metadata": {},
     "output_type": "execute_result"
    }
   ],
   "source": [
    "model(x1)"
   ]
  },
  {
   "cell_type": "code",
   "execution_count": 15,
   "metadata": {},
   "outputs": [
    {
     "data": {
      "text/plain": [
       "<tf.Tensor: id=244049, shape=(1, 1), dtype=float32, numpy=array([[50.2766]], dtype=float32)>"
      ]
     },
     "execution_count": 15,
     "metadata": {},
     "output_type": "execute_result"
    }
   ],
   "source": [
    "model.d"
   ]
  },
  {
   "cell_type": "code",
   "execution_count": 16,
   "metadata": {},
   "outputs": [
    {
     "data": {
      "text/plain": [
       "<tf.Tensor: id=243464, shape=(1, 1), dtype=float32, numpy=array([[-0.348]], dtype=float32)>"
      ]
     },
     "execution_count": 16,
     "metadata": {},
     "output_type": "execute_result"
    }
   ],
   "source": [
    "model.w"
   ]
  },
  {
   "cell_type": "code",
   "execution_count": 17,
   "metadata": {},
   "outputs": [
    {
     "data": {
      "text/plain": [
       "<tf.Tensor: id=244228, shape=(1, 1), dtype=float32, numpy=array([[0.6016]], dtype=float32)>"
      ]
     },
     "execution_count": 17,
     "metadata": {},
     "output_type": "execute_result"
    }
   ],
   "source": [
    "model.prob_click"
   ]
  },
  {
   "cell_type": "code",
   "execution_count": 18,
   "metadata": {},
   "outputs": [
    {
     "data": {
      "text/plain": [
       "<tf.Tensor: id=244119, shape=(1, 1), dtype=float32, numpy=array([[0.4122]], dtype=float32)>"
      ]
     },
     "execution_count": 18,
     "metadata": {},
     "output_type": "execute_result"
    }
   ],
   "source": [
    "model.y_click"
   ]
  },
  {
   "cell_type": "code",
   "execution_count": 19,
   "metadata": {},
   "outputs": [
    {
     "data": {
      "text/plain": [
       "0.20721847628049556"
      ]
     },
     "execution_count": 19,
     "metadata": {},
     "output_type": "execute_result"
    }
   ],
   "source": [
    "gezi.sigmoid(0.0054 * 1.0864 + 0.0344 * (-0.8849) + (-1.3172))"
   ]
  },
  {
   "cell_type": "code",
   "execution_count": 20,
   "metadata": {},
   "outputs": [],
   "source": [
    "x_all1 = model.deep.x_all"
   ]
  },
  {
   "cell_type": "code",
   "execution_count": 21,
   "metadata": {},
   "outputs": [
    {
     "data": {
      "text/plain": [
       "<tf.Tensor: id=243834, shape=(1, 94, 32), dtype=float32, numpy=\n",
       "array([[[ 5.8152e-01,  5.1480e-01,  1.7443e-01, ..., -2.2064e-01,\n",
       "          8.7434e-01, -3.2459e-01],\n",
       "        [-9.6461e-03, -2.5568e-02, -5.2258e-03, ..., -6.2161e-04,\n",
       "          4.1080e-02,  5.5956e-03],\n",
       "        [-2.8259e+00,  1.9503e+00,  1.9650e+00, ...,  3.3509e-01,\n",
       "         -1.5168e+00,  5.3758e-03],\n",
       "        ...,\n",
       "        [ 0.0000e+00,  0.0000e+00,  0.0000e+00, ...,  0.0000e+00,\n",
       "          0.0000e+00,  0.0000e+00],\n",
       "        [ 0.0000e+00,  0.0000e+00,  0.0000e+00, ...,  0.0000e+00,\n",
       "          0.0000e+00,  0.0000e+00],\n",
       "        [ 0.0000e+00,  0.0000e+00,  0.0000e+00, ...,  0.0000e+00,\n",
       "          0.0000e+00,  0.0000e+00]]], dtype=float32)>"
      ]
     },
     "execution_count": 21,
     "metadata": {},
     "output_type": "execute_result"
    }
   ],
   "source": [
    "x_all1"
   ]
  },
  {
   "cell_type": "code",
   "execution_count": 22,
   "metadata": {},
   "outputs": [
    {
     "data": {
      "text/plain": [
       "<tf.Tensor: id=244663, shape=(1, 1), dtype=float32, numpy=array([[0.0057]], dtype=float32)>"
      ]
     },
     "execution_count": 22,
     "metadata": {},
     "output_type": "execute_result"
    }
   ],
   "source": [
    "model(x2)"
   ]
  },
  {
   "cell_type": "code",
   "execution_count": 23,
   "metadata": {},
   "outputs": [
    {
     "data": {
      "text/plain": [
       "<tf.Tensor: id=244562, shape=(1, 1), dtype=float32, numpy=array([[-40.3782]], dtype=float32)>"
      ]
     },
     "execution_count": 23,
     "metadata": {},
     "output_type": "execute_result"
    }
   ],
   "source": [
    "model.d"
   ]
  },
  {
   "cell_type": "code",
   "execution_count": 24,
   "metadata": {},
   "outputs": [
    {
     "data": {
      "text/plain": [
       "<tf.Tensor: id=244344, shape=(1, 1), dtype=float32, numpy=array([[-0.725]], dtype=float32)>"
      ]
     },
     "execution_count": 24,
     "metadata": {},
     "output_type": "execute_result"
    }
   ],
   "source": [
    "model.w"
   ]
  },
  {
   "cell_type": "code",
   "execution_count": 25,
   "metadata": {},
   "outputs": [
    {
     "data": {
      "text/plain": [
       "<tf.Tensor: id=244604, shape=(1, 1), dtype=float32, numpy=array([[0.0623]], dtype=float32)>"
      ]
     },
     "execution_count": 25,
     "metadata": {},
     "output_type": "execute_result"
    }
   ],
   "source": [
    "model.prob_click"
   ]
  },
  {
   "cell_type": "code",
   "execution_count": 26,
   "metadata": {},
   "outputs": [],
   "source": [
    "x_all2 = model.deep.x_all"
   ]
  },
  {
   "cell_type": "code",
   "execution_count": 27,
   "metadata": {},
   "outputs": [
    {
     "data": {
      "text/plain": [
       "<tf.Tensor: id=244527, shape=(1, 94, 32), dtype=float32, numpy=\n",
       "array([[[ 0.5815,  0.5148,  0.1744, ..., -0.2206,  0.8743, -0.3246],\n",
       "        [ 0.04  ,  0.0771, -0.0435, ..., -0.1052, -0.1644, -0.0134],\n",
       "        [-2.098 ,  1.3853,  1.2746, ...,  0.4001, -0.9486, -0.1274],\n",
       "        ...,\n",
       "        [ 0.    ,  0.    ,  0.    , ...,  0.    ,  0.    ,  0.    ],\n",
       "        [ 0.    ,  0.    ,  0.    , ...,  0.    ,  0.    ,  0.    ],\n",
       "        [ 0.    ,  0.    ,  0.    , ...,  0.    ,  0.    ,  0.    ]]],\n",
       "      dtype=float32)>"
      ]
     },
     "execution_count": 27,
     "metadata": {},
     "output_type": "execute_result"
    }
   ],
   "source": [
    "x_all2"
   ]
  },
  {
   "cell_type": "code",
   "execution_count": null,
   "metadata": {},
   "outputs": [],
   "source": []
  },
  {
   "cell_type": "code",
   "execution_count": 28,
   "metadata": {},
   "outputs": [
    {
     "data": {
      "text/plain": [
       "<tf.Tensor: id=244837, shape=(1, 1), dtype=float32, numpy=array([[0.0042]], dtype=float32)>"
      ]
     },
     "execution_count": 28,
     "metadata": {},
     "output_type": "execute_result"
    }
   ],
   "source": [
    "x1['x_all'] = x_all2\n",
    "model(x1)\n",
    "# 可以看到wide部分几乎没有影响到最终得分"
   ]
  },
  {
   "cell_type": "code",
   "execution_count": 29,
   "metadata": {},
   "outputs": [
    {
     "data": {
      "text/plain": [
       "<tf.Tensor: id=244737, shape=(1, 1), dtype=float32, numpy=array([[-40.3782]], dtype=float32)>"
      ]
     },
     "execution_count": 29,
     "metadata": {},
     "output_type": "execute_result"
    }
   ],
   "source": [
    "model.d"
   ]
  },
  {
   "cell_type": "code",
   "execution_count": 30,
   "metadata": {},
   "outputs": [
    {
     "data": {
      "text/plain": [
       "<tf.Tensor: id=244702, shape=(1, 1), dtype=float32, numpy=array([[-0.348]], dtype=float32)>"
      ]
     },
     "execution_count": 30,
     "metadata": {},
     "output_type": "execute_result"
    }
   ],
   "source": [
    "model.w"
   ]
  },
  {
   "cell_type": "code",
   "execution_count": 31,
   "metadata": {},
   "outputs": [
    {
     "data": {
      "text/plain": [
       "<tf.Tensor: id=244778, shape=(1, 1), dtype=float32, numpy=array([[0.0624]], dtype=float32)>"
      ]
     },
     "execution_count": 31,
     "metadata": {},
     "output_type": "execute_result"
    }
   ],
   "source": [
    "model.prob_click"
   ]
  },
  {
   "cell_type": "code",
   "execution_count": 32,
   "metadata": {},
   "outputs": [
    {
     "data": {
      "text/plain": [
       "0.04456531408785941"
      ]
     },
     "execution_count": 32,
     "metadata": {},
     "output_type": "execute_result"
    }
   ],
   "source": [
    "# 保持wide不变 更好 deep  的fields x_all 点击改了只是稍稍高了一点点 几乎可以忽略\n",
    "gezi.sigmoid(0.0054 * 1.0864 + 0.0344 * (-50.9848) + (-1.3172))"
   ]
  },
  {
   "cell_type": "code",
   "execution_count": 33,
   "metadata": {},
   "outputs": [],
   "source": [
    "def rename(field):\n",
    "  for x in maps:\n",
    "#     print(x, len(x))\n",
    "#     print('0', field, x[0], x[1])\n",
    "    field = field.replace(x[0], x[1])\n",
    "#     print('1', field, x[0], x[1])\n",
    "  return field"
   ]
  },
  {
   "cell_type": "code",
   "execution_count": 34,
   "metadata": {},
   "outputs": [],
   "source": [
    "other_fields = [x.name.split('/')[-2] for x in model.variables if x.name.endswith('embeddings:0')and not '/emb/emb/' in x.name]\n",
    "other_fields[model.deep.history_index:model.deep.history_index] = model.deep.history_fields\n",
    "onehot_fields = gezi.get_global('fields')\n",
    "maps = [x.strip().split() for x in open('../conf/fields_map.txt')]\n",
    "onehot_fields2 = [rename(x) for x in onehot_fields]\n",
    "fields = other_fields + onehot_fields2\n",
    "fields2 = other_fields + onehot_fields\n",
    "# [(x, y) for x, y in zip(onehot_fields, onehot_fields2)]"
   ]
  },
  {
   "cell_type": "code",
   "execution_count": 35,
   "metadata": {},
   "outputs": [],
   "source": [
    "import copy\n",
    "x_all2_npy = x_all2.numpy()\n",
    "x_all1_npy = x_all1.numpy()"
   ]
  },
  {
   "cell_type": "code",
   "execution_count": 36,
   "metadata": {},
   "outputs": [
    {
     "data": {
      "text/plain": [
       "array([[[ 0.5815,  0.5148,  0.1744, ..., -0.2206,  0.8743, -0.3246],\n",
       "        [ 0.04  ,  0.0771, -0.0435, ..., -0.1052, -0.1644, -0.0134],\n",
       "        [-2.098 ,  1.3853,  1.2746, ...,  0.4001, -0.9486, -0.1274],\n",
       "        ...,\n",
       "        [ 0.    ,  0.    ,  0.    , ...,  0.    ,  0.    ,  0.    ],\n",
       "        [ 0.    ,  0.    ,  0.    , ...,  0.    ,  0.    ,  0.    ],\n",
       "        [ 0.    ,  0.    ,  0.    , ...,  0.    ,  0.    ,  0.    ]]],\n",
       "      dtype=float32)"
      ]
     },
     "execution_count": 36,
     "metadata": {},
     "output_type": "execute_result"
    }
   ],
   "source": [
    "x_all2_npy"
   ]
  },
  {
   "cell_type": "code",
   "execution_count": 37,
   "metadata": {},
   "outputs": [
    {
     "data": {
      "text/plain": [
       "array([[[ 5.8152e-01,  5.1480e-01,  1.7443e-01, ..., -2.2064e-01,\n",
       "          8.7434e-01, -3.2459e-01],\n",
       "        [-9.6461e-03, -2.5568e-02, -5.2258e-03, ..., -6.2161e-04,\n",
       "          4.1080e-02,  5.5956e-03],\n",
       "        [-2.0980e+00,  1.3853e+00,  1.2746e+00, ...,  4.0013e-01,\n",
       "         -9.4864e-01, -1.2743e-01],\n",
       "        ...,\n",
       "        [ 0.0000e+00,  0.0000e+00,  0.0000e+00, ...,  0.0000e+00,\n",
       "          0.0000e+00,  0.0000e+00],\n",
       "        [ 0.0000e+00,  0.0000e+00,  0.0000e+00, ...,  0.0000e+00,\n",
       "          0.0000e+00,  0.0000e+00],\n",
       "        [ 0.0000e+00,  0.0000e+00,  0.0000e+00, ...,  0.0000e+00,\n",
       "          0.0000e+00,  0.0000e+00]]], dtype=float32)"
      ]
     },
     "execution_count": 37,
     "metadata": {},
     "output_type": "execute_result"
    }
   ],
   "source": [
    "x_all = x_all2_npy.copy()\n",
    "x_all[0][1] = x_all1_npy[0][1]\n",
    "x_all"
   ]
  },
  {
   "cell_type": "code",
   "execution_count": 38,
   "metadata": {},
   "outputs": [
    {
     "data": {
      "text/plain": [
       "<tf.Tensor: id=244954, shape=(1, 1), dtype=float32, numpy=array([[0.0795]], dtype=float32)>"
      ]
     },
     "execution_count": 38,
     "metadata": {},
     "output_type": "execute_result"
    }
   ],
   "source": [
    "x2['x_all'] = x_all\n",
    "model(x2)\n",
    "model.prob_click"
   ]
  },
  {
   "cell_type": "code",
   "execution_count": 39,
   "metadata": {},
   "outputs": [
    {
     "name": "stderr",
     "output_type": "stream",
     "text": [
      "100%|██████████| 94/94 [00:02<00:00, 37.13it/s]"
     ]
    },
    {
     "name": "stdout",
     "output_type": "stream",
     "text": [
      "\n",
      " +-------+------------------------------+-----------------+-----------+-----------+-----------+\n",
      "|   fid | field                        | ori_field       |   pclick1 |   pclick2 |     delta |\n",
      "|-------+------------------------------+-----------------+-----------+-----------+-----------|\n",
      "|    29 | IArtKw2                      | IATKWSE         |  0.415008 | 0.0965749 | -0.318433 |\n",
      "|    26 | IAccountId                   | IACID           |  0.463604 | 0.135509  | -0.328095 |\n",
      "|    65 | MInterestArtPornScoreTag     | MITATPORNSTG    |  0.525344 | 0.103286  | -0.422058 |\n",
      "|    63 | MInterestArtPornScoreAccount | MITATPORNSAC    |  0.551189 | 0.0938884 | -0.457301 |\n",
      "|    33 | IArtTopic                    | IATTP           |  0.542161 | 0.0666729 | -0.475488 |\n",
      "|    80 | XArtShowClickCnt             | XATSWCL         |  0.561255 | 0.0741115 | -0.487144 |\n",
      "|     2 | history                      | history         |  0.556743 | 0.062308  | -0.494435 |\n",
      "|    64 | MInterestArtPornScoreKw      | MITATPORNSKW    |  0.571214 | 0.071379  | -0.499835 |\n",
      "|    75 | MInterestArtWordCntTag       | MITATWCNTTG     |  0.567729 | 0.0676047 | -0.500125 |\n",
      "|    36 | ICBRecallWord                | ICBRW           |  0.576342 | 0.0746902 | -0.501651 |\n",
      "|    53 | MInterestArtAccount          | MITATAC         |  0.587708 | 0.082069  | -0.505639 |\n",
      "|    22 | DArtClickCnt                 | DATRD           |  0.582658 | 0.0699719 | -0.512686 |\n",
      "|    59 | MInterestArtPicCntAccount    | MITATPCNTAC     |  0.587989 | 0.0724812 | -0.515508 |\n",
      "|    72 | MInterestArtTopic            | MITATTP         |  0.583276 | 0.0648662 | -0.51841  |\n",
      "|    82 | XArtShowShare                | XATSWSA         |  0.57906  | 0.0559586 | -0.523101 |\n",
      "|    60 | MInterestArtPicCntKw         | MITATPCNTKW     |  0.591369 | 0.0657965 | -0.525573 |\n",
      "|    71 | MInterestArtTag              | MITATTG         |  0.595875 | 0.0677913 | -0.528084 |\n",
      "|    39 | ICBRecallWordPornScore       | ICBRWPORNS      |  0.592969 | 0.0644445 | -0.528524 |\n",
      "|    42 | ICFRecallWord                | ICFRW           |  0.590134 | 0.0596775 | -0.530457 |\n",
      "|    32 | IArtSrc                      | IATSO           |  0.594707 | 0.0638463 | -0.53086  |\n",
      "|    76 | MInterestArtWordCntTopic     | MITATWCNTTP     |  0.59718  | 0.0652097 | -0.53197  |\n",
      "|    79 | XArtClickCntShare            | XATCLSA         |  0.597978 | 0.0657393 | -0.532238 |\n",
      "|    25 | IFavorCnt                    | FAVORNUM        |  0.596961 | 0.0634448 | -0.533516 |\n",
      "|    37 | ICBRecallWordDur             | ICBRWDUR        |  0.594845 | 0.0612989 | -0.533546 |\n",
      "|    27 | IArtAccount                  | IATAC           |  0.597139 | 0.0625053 | -0.534633 |\n",
      "|    61 | MInterestArtPicCntTag        | MITATPCNTTG     |  0.599263 | 0.0641558 | -0.535107 |\n",
      "|    74 | MInterestArtWordCntKw        | MITATWCNTKW     |  0.599073 | 0.0632541 | -0.535819 |\n",
      "|    69 | MInterestArtQualityTag       | MITATQUALSTG    |  0.602119 | 0.064801  | -0.537318 |\n",
      "|    40 | ICBRecallWordQuality         | ICBRWQUALS      |  0.600515 | 0.0625562 | -0.537959 |\n",
      "|    15 | CRecallWordArtIdQuality      | CRWATIDQUALS    |  0.601505 | 0.0631596 | -0.538345 |\n",
      "|    43 | ICFRecallWordDur             | ICFRWDUR        |  0.60104  | 0.0623654 | -0.538675 |\n",
      "|    35 | IAvgDur                      | IAVGDUR         |  0.603464 | 0.0646626 | -0.538802 |\n",
      "|    90 | MSubscribeInterestArtAccount | MSUBITATAC      |  0.601464 | 0.0623202 | -0.539143 |\n",
      "|     0 | user_emb                     | user_emb        |  0.601613 | 0.0622975 | -0.539315 |\n",
      "|     3 | time_emb                     | time_emb        |  0.601613 | 0.0622975 | -0.539315 |\n",
      "|     4 | weekday_emb                  | weekday_emb     |  0.601613 | 0.0622975 | -0.539315 |\n",
      "|     6 | product_emb                  | product_emb     |  0.601613 | 0.0622975 | -0.539315 |\n",
      "|     7 | cold_emb                     | cold_emb        |  0.601613 | 0.0622975 | -0.539315 |\n",
      "|     8 | IAge                         | AGE             |  0.601613 | 0.0622975 | -0.539315 |\n",
      "|    18 | DArtCommentCnt               | DATCMT          |  0.601613 | 0.0622975 | -0.539315 |\n",
      "|    19 | DArtCommentLikeCnt           | DATCMTLIKE      |  0.601613 | 0.0622975 | -0.539315 |\n",
      "|    20 | DArtCommentReplyCnt          | DATCMTRPY       |  0.601613 | 0.0622975 | -0.539315 |\n",
      "|    21 | DArtCtr                      | DATCTR          |  0.601613 | 0.0622975 | -0.539315 |\n",
      "|    24 | IEdu                         | EDU             |  0.601613 | 0.0622975 | -0.539315 |\n",
      "|    30 | IArtLocation                 | IATLO           |  0.601613 | 0.0622975 | -0.539315 |\n",
      "|    31 | IArtOriSig                   | IATOR           |  0.601613 | 0.0622975 | -0.539315 |\n",
      "|    34 | IArtVideoSig                 | IATVI           |  0.601613 | 0.0622975 | -0.539315 |\n",
      "|    48 | ILocation                    | ILOC            |  0.601613 | 0.0622975 | -0.539315 |\n",
      "|    50 | IPornScore                   | IPORNS          |  0.601613 | 0.0622975 | -0.539315 |\n",
      "|    77 | ISex                         | SEX             |  0.601613 | 0.0622975 | -0.539315 |\n",
      "|    83 | long_term_acc                | long_term_acc   |  0.601613 | 0.0622975 | -0.539315 |\n",
      "|    84 | long_term_kw                 | long_term_kw    |  0.601613 | 0.0622975 | -0.539315 |\n",
      "|    85 | long_term_rec                | long_term_rec   |  0.601613 | 0.0622975 | -0.539315 |\n",
      "|    86 | long_term_tag                | long_term_tag   |  0.601613 | 0.0622975 | -0.539315 |\n",
      "|    87 | long_term_topic              | long_term_topic |  0.601613 | 0.0622975 | -0.539315 |\n",
      "|    88 | long_term_total              | long_term_total |  0.601613 | 0.0622975 | -0.539315 |\n",
      "|    89 | long_term_txk                | long_term_txk   |  0.601613 | 0.0622975 | -0.539315 |\n",
      "|    91 | MSubscribeInterestArtKw      | MSUBITATKW      |  0.601613 | 0.0622975 | -0.539315 |\n",
      "|    92 | MSubscribeInterestArtTag     | MSUBITATTG      |  0.601613 | 0.0622975 | -0.539315 |\n",
      "|    93 | MSubscribeInterestArtTopic   | MSUBITATTP      |  0.601613 | 0.0622975 | -0.539315 |\n",
      "|    55 | MInterestArtDurKw            | MITATDURKW      |  0.601555 | 0.0621777 | -0.539378 |\n",
      "|    54 | MInterestArtDurAccount       | MITATDURAC      |  0.601744 | 0.0622358 | -0.539508 |\n",
      "|    57 | MInterestArtDurTopic         | MITATDURTP      |  0.601782 | 0.0622399 | -0.539542 |\n",
      "|    38 | ICBRecallWordPicCnt          | ICBRWPCNT       |  0.602117 | 0.0623522 | -0.539765 |\n",
      "|    66 | MInterestArtPornScoreTopic   | MITATPORNSTP    |  0.601078 | 0.0611631 | -0.539915 |\n",
      "|    46 | ICFRecallWordQuality         | ICFRWQUALS      |  0.60293  | 0.0623388 | -0.540591 |\n",
      "|    68 | MInterestArtQualityKw        | MITATQUALSKW    |  0.603206 | 0.0622824 | -0.540923 |\n",
      "|    56 | MInterestArtDurTag           | MITATDURTG      |  0.604318 | 0.062456  | -0.541862 |\n",
      "|    41 | ICBRecallWordWordCnt         | ICBRWWCNT       |  0.603871 | 0.0619977 | -0.541873 |\n",
      "|    16 | CRecallWordArtIdWordCnt      | CRWATIDWCNT     |  0.603003 | 0.0611196 | -0.541883 |\n",
      "|    47 | ICFRecallWordWordCnt         | ICFRWWCNT       |  0.603993 | 0.0620648 | -0.541929 |\n",
      "|    12 | CRecallWordArtIdDur          | CRWATIDDUR      |  0.604537 | 0.0622946 | -0.542242 |\n",
      "|    14 | CRecallWordArtIdPornScore    | CRWATIDPORNS    |  0.604744 | 0.0623629 | -0.542381 |\n",
      "|    13 | CRecallWordArtIdPicCnt       | CRWATIDPCNT     |  0.604241 | 0.0616958 | -0.542545 |\n",
      "|    70 | MInterestArtQualityTopic     | MITATQUALSTP    |  0.606151 | 0.0634351 | -0.542715 |\n",
      "|    44 | ICFRecallWordPicCnt          | ICFRWPCNT       |  0.60675  | 0.0612885 | -0.545461 |\n",
      "|    67 | MInterestArtQualityAccount   | MITATQUALSAC    |  0.606393 | 0.0606405 | -0.545752 |\n",
      "|    81 | XArtShowFavor                | XATSWFV         |  0.606752 | 0.0596966 | -0.547055 |\n",
      "|    11 | CInterestArtCOTopic          | CITATCOTP       |  0.618044 | 0.0704134 | -0.54763  |\n",
      "|    45 | ICFRecallWordPornScore       | ICFRWPORNS      |  0.60695  | 0.0590282 | -0.547922 |\n",
      "|    10 | CEduArtTopic                 | CEDATTP         |  0.613134 | 0.064988  | -0.548146 |\n",
      "|    49 | IPicCnt                      | IPCNT           |  0.610707 | 0.0625528 | -0.548154 |\n",
      "|     9 | CAgeArtTopic                 | CAGATTP         |  0.607069 | 0.0581607 | -0.548909 |\n",
      "|    28 | IArtKw                       | IATKW           |  0.613497 | 0.0638641 | -0.549633 |\n",
      "|    78 | XArtClickCntFavor            | XATCLFV         |  0.614869 | 0.0643772 | -0.550492 |\n",
      "|    17 | CSXArtTopic                  | CSXATTP         |  0.616615 | 0.0638521 | -0.552763 |\n",
      "|    51 | IQuality                     | IQUALS          |  0.612953 | 0.0600625 | -0.55289  |\n",
      "|     1 | doc_emb                      | doc_emb         |  0.633289 | 0.0795261 | -0.553763 |\n",
      "|    73 | MInterestArtWordCntAccount   | MITATWCNTAC     |  0.610482 | 0.0563591 | -0.554123 |\n",
      "|    62 | MInterestArtPicCntTopic      | MITATPCNTTP     |  0.623481 | 0.0617789 | -0.561702 |\n",
      "|    23 | DPageTimeSpan                | DPTCT           |  0.629679 | 0.0618739 | -0.567805 |\n",
      "|    58 | MInterestArtKw               | MITATKW         |  0.618992 | 0.0469873 | -0.572005 |\n",
      "|     5 | timespan_emb                 | timespan_emb    |  0.631463 | 0.0546337 | -0.576829 |\n",
      "|    52 | IWordCnt                     | IWCNT           |  0.647802 | 0.0462476 | -0.601554 |\n",
      "+-------+------------------------------+-----------------+-----------+-----------+-----------+\n"
     ]
    },
    {
     "name": "stderr",
     "output_type": "stream",
     "text": [
      "\n"
     ]
    }
   ],
   "source": [
    "l = []\n",
    "for i in tqdm(range(len(fields))):\n",
    "  x_all = x_all1_npy.copy()\n",
    "  x_all[0][i] = x_all2_npy[0][i]\n",
    "  x1['x_all'] = x_all\n",
    "  model(x1)\n",
    "  prob_click1 = model.prob_click.numpy()[0][0]\n",
    "  x_all = x_all2_npy.copy()\n",
    "  x_all[0][i] = x_all1_npy[0][i]\n",
    "  x2['x_all'] = x_all\n",
    "  model(x2)\n",
    "  prob_click2 = model.prob_click.numpy()[0][0]\n",
    "  l.append((i, fields[i], fields2[i], prob_click1, prob_click2, prob_click2 - prob_click1))\n",
    "  l.sort(key=lambda x: x[-1], reverse=True)\n",
    "gezi.pprint(pd.DataFrame(l, columns=['fid', 'field', 'ori_field', 'pclick1', 'pclick2', 'delta']))"
   ]
  },
  {
   "cell_type": "code",
   "execution_count": 51,
   "metadata": {},
   "outputs": [
    {
     "data": {
      "text/plain": [
       "<tf.Tensor: id=278983, shape=(1, 1), dtype=float32, numpy=array([[0.4575]], dtype=float32)>"
      ]
     },
     "execution_count": 51,
     "metadata": {},
     "output_type": "execute_result"
    }
   ],
   "source": [
    "x_all = x_all2_npy.copy()\n",
    "x_all[0][26] = x_all1_npy[0][26]\n",
    "x_all[0][29] = x_all1_npy[0][29]\n",
    "x_all[0][65] = x_all1_npy[0][65]\n",
    "x_all[0][63] = x_all1_npy[0][63]\n",
    "x_all[0][33] = x_all1_npy[0][33]\n",
    "x2['x_all'] = x_all\n",
    "model(x2)\n",
    "model.prob_click"
   ]
  },
  {
   "cell_type": "code",
   "execution_count": 40,
   "metadata": {},
   "outputs": [
    {
     "data": {
      "text/plain": [
       "<projects.feed.rank.src.model.WideDeep at 0x7efbdef29160>"
      ]
     },
     "execution_count": 40,
     "metadata": {},
     "output_type": "execute_result"
    }
   ],
   "source": [
    "model"
   ]
  },
  {
   "cell_type": "code",
   "execution_count": null,
   "metadata": {},
   "outputs": [],
   "source": [
    "model.logit"
   ]
  },
  {
   "cell_type": "code",
   "execution_count": null,
   "metadata": {},
   "outputs": [],
   "source": [
    "model.prob"
   ]
  },
  {
   "cell_type": "code",
   "execution_count": null,
   "metadata": {},
   "outputs": [],
   "source": [
    "model.prob_click"
   ]
  },
  {
   "cell_type": "code",
   "execution_count": null,
   "metadata": {},
   "outputs": [],
   "source": [
    "model.prob_dur"
   ]
  },
  {
   "cell_type": "code",
   "execution_count": null,
   "metadata": {},
   "outputs": [],
   "source": [
    "x['ol_pred']"
   ]
  },
  {
   "cell_type": "code",
   "execution_count": null,
   "metadata": {},
   "outputs": [],
   "source": [
    "x['ol_pred_click']"
   ]
  },
  {
   "cell_type": "code",
   "execution_count": null,
   "metadata": {},
   "outputs": [],
   "source": [
    "x['ol_pred_dur']"
   ]
  },
  {
   "cell_type": "code",
   "execution_count": null,
   "metadata": {},
   "outputs": [],
   "source": [
    "x['ol_pred_click'] ** 1.3 * x['ol_pred_dur'] ** 0.7"
   ]
  },
  {
   "cell_type": "code",
   "execution_count": null,
   "metadata": {},
   "outputs": [],
   "source": [
    "model.prob_click ** 1.3 * model.prob_dur ** 0.7"
   ]
  },
  {
   "cell_type": "code",
   "execution_count": null,
   "metadata": {},
   "outputs": [],
   "source": [
    "x['ori_lr_score']"
   ]
  },
  {
   "cell_type": "code",
   "execution_count": null,
   "metadata": {},
   "outputs": [],
   "source": [
    "model.deep.before_mlp"
   ]
  },
  {
   "cell_type": "code",
   "execution_count": null,
   "metadata": {},
   "outputs": [],
   "source": [
    "dim = tf.cast(tf.cast(tf.shape(model.deep.before_mlp)[1], tf.float32) ** 0.5, tf.int32)\n",
    "dim"
   ]
  },
  {
   "cell_type": "code",
   "execution_count": null,
   "metadata": {},
   "outputs": [],
   "source": [
    "intersection = tf.reshape(model.deep.before_mlp, [dim, dim]).numpy()"
   ]
  },
  {
   "cell_type": "code",
   "execution_count": null,
   "metadata": {},
   "outputs": [],
   "source": [
    "intersection[0][1]"
   ]
  },
  {
   "cell_type": "code",
   "execution_count": null,
   "metadata": {},
   "outputs": [],
   "source": [
    "for i in range(dim):\n",
    "  intersection[i][i] = 0."
   ]
  },
  {
   "cell_type": "code",
   "execution_count": null,
   "metadata": {},
   "outputs": [],
   "source": [
    "intersection.shape"
   ]
  },
  {
   "cell_type": "code",
   "execution_count": null,
   "metadata": {},
   "outputs": [],
   "source": [
    "# intersection = tf.minimum(intersection, 5)"
   ]
  },
  {
   "cell_type": "code",
   "execution_count": null,
   "metadata": {},
   "outputs": [],
   "source": [
    "tf.reduce_sum(tf.cast(intersection > 2, tf.int32))"
   ]
  },
  {
   "cell_type": "code",
   "execution_count": null,
   "metadata": {},
   "outputs": [],
   "source": []
  },
  {
   "cell_type": "code",
   "execution_count": null,
   "metadata": {},
   "outputs": [],
   "source": []
  },
  {
   "cell_type": "code",
   "execution_count": null,
   "metadata": {},
   "outputs": [],
   "source": [
    "X = list(range(dim))\n",
    "X = fields\n",
    "heat = go.Heatmap(z=intersection,\n",
    "                  x=X,\n",
    "                  y=X,\n",
    "                  xgap=1, ygap=1,\n",
    "                  )\n",
    "layout = go.Layout(\n",
    "width=2000, height=2000,\n",
    "xaxis_showgrid=False,\n",
    "yaxis_showgrid=False,\n",
    "yaxis_autorange='reversed'\n",
    ")\n",
    "fig=go.Figure(data=[heat], layout=layout)\n",
    "py.iplot(fig)"
   ]
  },
  {
   "cell_type": "code",
   "execution_count": null,
   "metadata": {},
   "outputs": [],
   "source": [
    "d = pd.DataFrame(intersection)\n",
    "d"
   ]
  },
  {
   "cell_type": "code",
   "execution_count": null,
   "metadata": {},
   "outputs": [],
   "source": [
    "x['history'].shape"
   ]
  },
  {
   "cell_type": "code",
   "execution_count": null,
   "metadata": {},
   "outputs": [],
   "source": [
    "l = [(d[i] ** 2).mean() for i in range(len(d))]\n",
    "l2 = [d[i].mean() for i in range(len(d))]"
   ]
  },
  {
   "cell_type": "code",
   "execution_count": null,
   "metadata": {},
   "outputs": [],
   "source": [
    "[(i, fields[i]) for i in range(len(d)) if l[i] == 0]"
   ]
  },
  {
   "cell_type": "code",
   "execution_count": null,
   "metadata": {},
   "outputs": [],
   "source": [
    "sorted([(l[i], fields[i]) for i in range(len(d))], reverse=True)"
   ]
  },
  {
   "cell_type": "code",
   "execution_count": null,
   "metadata": {},
   "outputs": [],
   "source": [
    "sorted([(l2[i], fields[i]) for i in range(len(d))], reverse=True)"
   ]
  },
  {
   "cell_type": "code",
   "execution_count": null,
   "metadata": {},
   "outputs": [],
   "source": [
    "m = []\n",
    "m2 = []\n",
    "for i in range(len(d)):\n",
    "  for j in range(len(d)):\n",
    "    if j > i:\n",
    "      m.append((d[i][j], fields[i], fields[j]))\n",
    "      m2.append((d[i][j] ** 2, d[i][j], fields[i], fields[j]))"
   ]
  },
  {
   "cell_type": "code",
   "execution_count": null,
   "metadata": {},
   "outputs": [],
   "source": [
    "sorted(m, reverse=True)[:100]"
   ]
  },
  {
   "cell_type": "code",
   "execution_count": null,
   "metadata": {},
   "outputs": [],
   "source": [
    "sorted(m, reverse=False)[:100]"
   ]
  },
  {
   "cell_type": "code",
   "execution_count": null,
   "metadata": {},
   "outputs": [],
   "source": [
    "sorted(m2, reverse=True)[:100]"
   ]
  },
  {
   "cell_type": "code",
   "execution_count": null,
   "metadata": {},
   "outputs": [],
   "source": [
    "x['history'].shape"
   ]
  },
  {
   "cell_type": "code",
   "execution_count": null,
   "metadata": {},
   "outputs": [],
   "source": [
    "index = [u.numpy().decode('gbk').split('\\a', 1) for u in info[x['id'][0].numpy()]['index'] if u.numpy().decode('gbk') != '\\x01']\n",
    "[(rename(field), val) for field, val in index]"
   ]
  },
  {
   "cell_type": "code",
   "execution_count": null,
   "metadata": {},
   "outputs": [],
   "source": [
    "len(x['value'][0])"
   ]
  },
  {
   "cell_type": "code",
   "execution_count": null,
   "metadata": {},
   "outputs": [],
   "source": [
    "len([(rename(field), val) for field, val in index if not 'last' in field and not 'long' in field])"
   ]
  },
  {
   "cell_type": "code",
   "execution_count": null,
   "metadata": {},
   "outputs": [],
   "source": [
    "x['mid']"
   ]
  },
  {
   "cell_type": "code",
   "execution_count": null,
   "metadata": {},
   "outputs": [],
   "source": [
    "len([(rename(field), val) for field, val in index if 'last' in field])"
   ]
  },
  {
   "cell_type": "code",
   "execution_count": null,
   "metadata": {},
   "outputs": [],
   "source": [
    "len([(rename(field), val) for field, val in index if 'long' in field])"
   ]
  },
  {
   "cell_type": "code",
   "execution_count": null,
   "metadata": {},
   "outputs": [],
   "source": [
    "from projects.feed.rank.utils.doc_info.KV import KV\n",
    "kv = KV()\n",
    "titles = kv.get_titles([u.decode() for u in info[x['id'][0].numpy()]['history'].numpy() if u.decode() not in ['\\x01', 'null']])\n",
    "titles"
   ]
  },
  {
   "cell_type": "code",
   "execution_count": null,
   "metadata": {},
   "outputs": [],
   "source": [
    "kv.get_titles([x['docid'][0].numpy().decode()])"
   ]
  },
  {
   "cell_type": "code",
   "execution_count": null,
   "metadata": {},
   "outputs": [],
   "source": [
    "docs = [u.decode() for u in info[x['id'][0].numpy()]['history'].numpy() if u.decode() != '\\x01']\n",
    "docs"
   ]
  },
  {
   "cell_type": "code",
   "execution_count": null,
   "metadata": {},
   "outputs": [],
   "source": [
    "keys = list(info.keys())\n",
    "index = [u.numpy().decode('gbk').split('\\a', 1) for u in info[keys[0]]['index'] if u.numpy().decode('gbk') != '\\x01']\n",
    "[(rename(field), val) for field, val in index]"
   ]
  },
  {
   "cell_type": "code",
   "execution_count": null,
   "metadata": {},
   "outputs": [],
   "source": [
    "info[keys[0]]"
   ]
  },
  {
   "cell_type": "code",
   "execution_count": null,
   "metadata": {},
   "outputs": [],
   "source": [
    "doc_embs = model.deep.doc_emb(tf.constant([gezi.hash_int64(u) for u in docs]))"
   ]
  },
  {
   "cell_type": "code",
   "execution_count": null,
   "metadata": {},
   "outputs": [],
   "source": [
    "doc2doc = tf.matmul(doc_embs, tf.transpose(doc_embs))"
   ]
  },
  {
   "cell_type": "code",
   "execution_count": null,
   "metadata": {},
   "outputs": [],
   "source": [
    "X = [titles.get(u, 'null') for u in docs]\n",
    "heat = go.Heatmap(z=doc2doc,\n",
    "                  x=X,\n",
    "                  y=X,\n",
    "                  xgap=1, ygap=1,\n",
    "                  )\n",
    "layout = go.Layout(\n",
    "width=1000, height=1000,\n",
    "xaxis_showgrid=False,\n",
    "yaxis_showgrid=False,\n",
    "yaxis_autorange='reversed'\n",
    ")\n",
    "fig=go.Figure(data=[heat], layout=layout)\n",
    "py.iplot(fig)"
   ]
  },
  {
   "cell_type": "code",
   "execution_count": null,
   "metadata": {},
   "outputs": [],
   "source": []
  },
  {
   "cell_type": "code",
   "execution_count": null,
   "metadata": {},
   "outputs": [],
   "source": []
  }
 ],
 "metadata": {
  "kernelspec": {
   "display_name": "Python 3",
   "language": "python",
   "name": "python3"
  },
  "language_info": {
   "codemirror_mode": {
    "name": "ipython",
    "version": 3
   },
   "file_extension": ".py",
   "mimetype": "text/x-python",
   "name": "python",
   "nbconvert_exporter": "python",
   "pygments_lexer": "ipython3",
   "version": "3.6.10"
  }
 },
 "nbformat": 4,
 "nbformat_minor": 2
}
