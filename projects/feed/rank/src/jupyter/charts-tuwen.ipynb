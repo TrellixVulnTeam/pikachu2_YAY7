{
 "cells": [
  {
   "cell_type": "code",
   "execution_count": 1,
   "metadata": {},
   "outputs": [],
   "source": [
    "from pyecharts.globals import CurrentConfig, NotebookType\n",
    "CurrentConfig.NOTEBOOK_TYPE = NotebookType.JUPYTER_LAB \n",
    "import datetime"
   ]
  },
  {
   "cell_type": "code",
   "execution_count": 2,
   "metadata": {},
   "outputs": [],
   "source": [
    "root_dir = '/home/gezi/tmp/rank/log/'"
   ]
  },
  {
   "cell_type": "code",
   "execution_count": 3,
   "metadata": {},
   "outputs": [],
   "source": [
    "score_file = f'{root_dir}/score_info.txt'\n",
    "score_file2 = f'{root_dir}/score_info2.txt'"
   ]
  },
  {
   "cell_type": "code",
   "execution_count": 4,
   "metadata": {},
   "outputs": [],
   "source": [
    "lines = open(score_file).readlines()\n",
    "lines2 = open(score_file2).readlines()"
   ]
  },
  {
   "cell_type": "code",
   "execution_count": 5,
   "metadata": {},
   "outputs": [],
   "source": [
    "l = [x.strip().split('\\t') for x in lines]\n",
    "l2 = [x.strip().split('\\t') for x in lines2]"
   ]
  },
  {
   "cell_type": "code",
   "execution_count": 6,
   "metadata": {},
   "outputs": [],
   "source": [
    "mark = 'tuwen'\n",
    "# mark = 'video'\n",
    "base_id = '4,5,6'\n",
    "exp_id = '16'"
   ]
  },
  {
   "cell_type": "code",
   "execution_count": 7,
   "metadata": {},
   "outputs": [],
   "source": [
    "online_base = [x for x in l if mark in x[2] and f'online_abid{base_id}' in x[0]]\n",
    "offline_base = [x for x in l if mark in x[2] and f'offline_abid{base_id}' in x[0]]\n",
    "offline_base2 = [x for x in l2 if mark in x[2] and f'offline_abid{base_id}' in x[0]]\n",
    "online_exp = [x for x in l if mark in x[2] and f'online_abid{exp_id}' in x[0]]\n",
    "offline_exp = [x for x in l if mark in x[2] and f'offline_abid{exp_id}' in x[0]]"
   ]
  },
  {
   "cell_type": "code",
   "execution_count": 8,
   "metadata": {},
   "outputs": [
    {
     "data": {
      "text/plain": [
       "[['valid_online_abid4,5,6', '2019110811', 'tuwen'],\n",
       " ['valid_online_abid4,5,6', '2019110811', 'tuwen'],\n",
       " ['valid_online_abid4,5,6',\n",
       "  '2019110812',\n",
       "  'tuwen',\n",
       "  'pos_ratio:0.13860 auc:0.65655 time_auc:0.65053 weighted_time_auc:0.68504 click/time_auc:0.57324 click/weighted_inv:0.42205 group/auc:0.63753 group/pos_ratio:0.16480 group/top1_score:27.25740 group/top3_score:23.66295 group/time_auc:0.63234 group/weighted_time_auc:0.65348 group/top1_best:117.41208 group/top3_best:63.55368 group/top1_rate:0.23215 group/top3_rate:0.37233 group/top1_click:0.31775 group/top3_click:0.27928 group/top1_click_best:1.00000 group/top3_click_best:0.67342 group/top1_click_rate:0.31775 group/top3_click_rate:0.41472 group/click/auc:0.00000 group/click/pos_ratio:0.00000 group/click/top1_score:85.83287 group/click/top3_score:81.20418 group/click/time_auc:0.55457 group/click/weighted_time_auc:0.67386 group/click/top1_best:117.41208 group/click/top3_best:94.37448 group/click/top1_rate:0.73104 group/click/top3_rate:0.86045 group/click/top1_click:1.00000 group/click/top3_click:1.00000 group/click/top1_click_best:1.00000 group/click/top3_click_best:1.00000 group/click/top1_click_rate:1.00000 group/click/top3_click_rate:1.00000 click_ratio:0.13860 time_per_show:10.51239 time_per_click:75.84633 time_per_user:79.75709 version:None'],\n",
       " ['valid_online_abid4,5,6', '2019110813', 'tuwen'],\n",
       " ['valid_online_abid4,5,6', '2019110814', 'tuwen'],\n",
       " ['valid_online_abid4,5,6', '2019110815', 'tuwen'],\n",
       " ['valid_online_abid4,5,6', '2019110816', 'tuwen'],\n",
       " ['valid_online_abid4,5,6',\n",
       "  '2019110817',\n",
       "  'tuwen',\n",
       "  'pos_ratio:0.08029 auc:0.66288 time_auc:0.66023 weighted_time_auc:0.70265 click/time_auc:0.59536 click/weighted_inv:0.42543 group/auc:0.64137 group/pos_ratio:0.15732 group/top1_score:29.74589 group/top3_score:23.69242 group/time_auc:0.63694 group/weighted_time_auc:0.66187 group/top1_best:112.62920 group/top3_best:60.90017 group/top1_rate:0.26410 group/top3_rate:0.38904 group/top1_click:0.33315 group/top3_click:0.27811 group/top1_click_best:1.00000 group/top3_click_best:0.66375 group/top1_click_rate:0.33315 group/top3_click_rate:0.41900 group/click/auc:0.00000 group/click/pos_ratio:0.00000 group/click/top1_score:83.54291 group/click/top3_score:79.55590 group/click/time_auc:0.56748 group/click/weighted_time_auc:0.68871 group/click/top1_best:112.62920 group/click/top3_best:91.75209 group/click/top1_rate:0.74175 group/click/top3_rate:0.86707 group/click/top1_click:1.00000 group/click/top3_click:1.00000 group/click/top1_click_best:1.00000 group/click/top3_click_best:1.00000 group/click/top1_click_rate:1.00000 group/click/top3_click_rate:1.00000 click_ratio:0.08029 time_per_show:5.78960 time_per_click:72.10639 time_per_user:53.94478 version:None'],\n",
       " ['valid_online_abid4,5,6',\n",
       "  '2019110818',\n",
       "  'tuwen',\n",
       "  'pos_ratio:0.07995 auc:0.66277 time_auc:0.65982 weighted_time_auc:0.70564 click/time_auc:0.58817 click/weighted_inv:0.41897 group/auc:0.63135 group/pos_ratio:0.15634 group/top1_score:28.64977 group/top3_score:23.71100 group/time_auc:0.62831 group/weighted_time_auc:0.65049 group/top1_best:116.27147 group/top3_best:62.78426 group/top1_rate:0.24640 group/top3_rate:0.37766 group/top1_click:0.31413 group/top3_click:0.27199 group/top1_click_best:1.00000 group/top3_click_best:0.66878 group/top1_click_rate:0.31413 group/top3_click_rate:0.40669 group/click/auc:0.00000 group/click/pos_ratio:0.00000 group/click/top1_score:85.89091 group/click/top3_score:80.78604 group/click/time_auc:0.56134 group/click/weighted_time_auc:0.67984 group/click/top1_best:116.27147 group/click/top3_best:93.87924 group/click/top1_rate:0.73871 group/click/top3_rate:0.86053 group/click/top1_click:1.00000 group/click/top3_click:1.00000 group/click/top1_click_best:1.00000 group/click/top3_click_best:1.00000 group/click/top1_click_rate:1.00000 group/click/top3_click_rate:1.00000 click_ratio:0.07995 time_per_show:5.90539 time_per_click:73.86218 time_per_user:54.59406 version:None'],\n",
       " ['valid_online_abid4,5,6',\n",
       "  '2019110819',\n",
       "  'tuwen',\n",
       "  'pos_ratio:0.08252 auc:0.67127 time_auc:0.66762 weighted_time_auc:0.70819 click/time_auc:0.58296 click/weighted_time_auc:0.58067 group/auc:0.62808 group/pos_ratio:0.15491 group/top1_score:26.89954 group/top3_score:23.21051 group/time_auc:0.62555 group/weighted_time_auc:0.64843 group/top1_best:117.90391 group/top3_best:64.44795 group/top1_rate:0.22815 group/top3_rate:0.36014 group/top1_click:0.30018 group/top3_click:0.26792 group/top1_click_best:1.00000 group/top3_click_best:0.67498 group/top1_click_rate:0.30018 group/top3_click_rate:0.39693 group/click/auc:0.00000 group/click/pos_ratio:0.00000 group/click/top1_score:85.88884 group/click/top3_score:81.57993 group/click/time_auc:0.56331 group/click/weighted_time_auc:0.67883 group/click/top1_best:117.90391 group/click/top3_best:95.48178 group/click/top1_rate:0.72846 group/click/top3_rate:0.85440 group/click/top1_click:1.00000 group/click/top3_click:1.00000 group/click/top1_click_best:1.00000 group/click/top3_click_best:1.00000 group/click/top1_click_rate:1.00000 group/click/top3_click_rate:1.00000 click_ratio:0.08252 time_per_show:6.13512 time_per_click:74.34632 time_per_user:59.12229 version:tuwen'],\n",
       " ['valid_online_abid4,5,6',\n",
       "  '2019110820',\n",
       "  'tuwen',\n",
       "  'pos_ratio:0.08257 auc:0.66949 time_auc:0.66555 weighted_time_auc:0.70345 click/time_auc:0.57433 click/weighted_time_auc:0.56417 group/auc:0.62711 group/pos_ratio:0.15418 group/top1_score:26.99993 group/top3_score:23.47659 group/time_auc:0.62588 group/weighted_time_auc:0.64566 group/top1_best:123.55077 group/top3_best:67.34944 group/top1_rate:0.21853 group/top3_rate:0.34858 group/top1_click:0.30149 group/top3_click:0.26600 group/top1_click_best:1.00000 group/top3_click_best:0.67842 group/top1_click_rate:0.30149 group/top3_click_rate:0.39208 group/click/auc:0.00000 group/click/pos_ratio:0.00000 group/click/top1_score:87.47951 group/click/top3_score:84.09958 group/click/time_auc:0.55914 group/click/weighted_time_auc:0.67158 group/click/top1_best:123.55077 group/click/top3_best:99.27418 group/click/top1_rate:0.70805 group/click/top3_rate:0.84714 group/click/top1_click:1.00000 group/click/top3_click:1.00000 group/click/top1_click_best:1.00000 group/click/top3_click_best:1.00000 group/click/top1_click_rate:1.00000 group/click/top3_click_rate:1.00000 click_ratio:0.08257 time_per_show:6.28564 time_per_click:76.12374 time_per_user:61.74309 version:tuwen'],\n",
       " ['valid_online_abid4,5,6',\n",
       "  '2019110821',\n",
       "  'tuwen',\n",
       "  'pos_ratio:0.08350 auc:0.67374 time_auc:0.66921 weighted_time_auc:0.70185 click/time_auc:0.56665 click/weighted_time_auc:0.56645 group/auc:0.62223 group/pos_ratio:0.15419 group/top1_score:28.41925 group/top3_score:24.05512 group/time_auc:0.61908 group/weighted_time_auc:0.64073 group/top1_best:124.52052 group/top3_best:69.20647 group/top1_rate:0.22823 group/top3_rate:0.34758 group/top1_click:0.30573 group/top3_click:0.26554 group/top1_click_best:1.00000 group/top3_click_best:0.68675 group/top1_click_rate:0.30573 group/top3_click_rate:0.38665 group/click/auc:0.00000 group/click/pos_ratio:0.00000 group/click/top1_score:89.15011 group/click/top3_score:84.94900 group/click/time_auc:0.55455 group/click/weighted_time_auc:0.66590 group/click/top1_best:124.52052 group/click/top3_best:100.77318 group/click/top1_rate:0.71595 group/click/top3_rate:0.84297 group/click/top1_click:1.00000 group/click/top3_click:1.00000 group/click/top1_click_best:1.00000 group/click/top3_click_best:1.00000 group/click/top1_click_rate:1.00000 group/click/top3_click_rate:1.00000 click_ratio:0.08350 time_per_show:6.46208 time_per_click:77.38797 time_per_user:63.96859 version:tuwen'],\n",
       " ['valid_online_abid4,5,6',\n",
       "  '2019110822',\n",
       "  'tuwen',\n",
       "  'pos_ratio:0.13643 auc:0.65680 time_auc:0.64987 weighted_time_auc:0.67197 click/time_auc:0.55970 click/weighted_time_auc:0.55128 group/auc:0.62419 group/pos_ratio:0.15480 group/top1_score:28.98593 group/top3_score:23.69903 group/time_auc:0.62224 group/weighted_time_auc:0.64396 group/top1_best:122.54399 group/top3_best:68.43612 group/top1_rate:0.23653 group/top3_rate:0.34629 group/top1_click:0.31714 group/top3_click:0.27165 group/top1_click_best:1.00000 group/top3_click_best:0.68982 group/top1_click_rate:0.31714 group/top3_click_rate:0.39380 group/click/auc:0.00000 group/click/pos_ratio:0.00000 group/click/top1_score:87.80265 group/click/top3_score:83.66653 group/click/time_auc:0.56006 group/click/weighted_time_auc:0.67354 group/click/top1_best:122.54399 group/click/top3_best:99.20894 group/click/top1_rate:0.71650 group/click/top3_rate:0.84334 group/click/top1_click:1.00000 group/click/top3_click:1.00000 group/click/top1_click_best:1.00000 group/click/top3_click_best:1.00000 group/click/top1_click_rate:1.00000 group/click/top3_click_rate:1.00000 click_ratio:0.13643 time_per_show:10.40037 time_per_click:76.23356 time_per_user:182.02700 version:tuwen'],\n",
       " ['valid_online_abid4,5,6',\n",
       "  '2019110823',\n",
       "  'tuwen',\n",
       "  'pos_ratio:0.13853 auc:0.65345 time_auc:0.64730 weighted_time_auc:0.67850 click/time_auc:0.56858 click/weighted_time_auc:0.57328 group/auc:0.63248 group/pos_ratio:0.15858 group/top1_score:27.73853 group/top3_score:23.37200 group/time_auc:0.63049 group/weighted_time_auc:0.64923 group/top1_best:121.16346 group/top3_best:67.66465 group/top1_rate:0.22893 group/top3_rate:0.34541 group/top1_click:0.32904 group/top3_click:0.28034 group/top1_click_best:1.00000 group/top3_click_best:0.69634 group/top1_click_rate:0.32904 group/top3_click_rate:0.40259 group/click/auc:0.00000 group/click/pos_ratio:0.00000 group/click/top1_score:83.86461 group/click/top3_score:80.87200 group/click/time_auc:0.55000 group/click/weighted_time_auc:0.66736 group/click/top1_best:121.16346 group/click/top3_best:97.17147 group/click/top1_rate:0.69216 group/click/top3_rate:0.83226 group/click/top1_click:1.00000 group/click/top3_click:1.00000 group/click/top1_click_best:1.00000 group/click/top3_click_best:1.00000 group/click/top1_click_rate:1.00000 group/click/top3_click_rate:1.00000 click_ratio:0.13853 time_per_show:10.25117 time_per_click:73.99762 time_per_user:174.53607 version:tuwen'],\n",
       " ['valid_online_abid4,5,6',\n",
       "  '2019110900',\n",
       "  'tuwen',\n",
       "  'pos_ratio:0.14078 auc:0.65036 time_auc:0.64520 weighted_time_auc:0.67821 click/time_auc:0.57818 click/weighted_time_auc:0.54216 group/auc:0.63478 group/pos_ratio:0.16521 group/top1_score:25.70876 group/top3_score:21.79445 group/time_auc:0.62836 group/weighted_time_auc:0.65366 group/top1_best:108.21286 group/top3_best:60.39696 group/top1_rate:0.23758 group/top3_rate:0.36085 group/top1_click:0.32983 group/top3_click:0.29331 group/top1_click_best:1.00000 group/top3_click_best:0.70140 group/top1_click_rate:0.32983 group/top3_click_rate:0.41818 group/click/auc:0.00000 group/click/pos_ratio:0.00000 group/click/top1_score:78.94481 group/click/top3_score:73.07539 group/click/time_auc:0.55819 group/click/weighted_time_auc:0.68340 group/click/top1_best:108.21286 group/click/top3_best:86.10857 group/click/top1_rate:0.72953 group/click/top3_rate:0.84864 group/click/top1_click:1.00000 group/click/top3_click:1.00000 group/click/top1_click_best:1.00000 group/click/top3_click_best:1.00000 group/click/top1_click_rate:1.00000 group/click/top3_click_rate:1.00000 click_ratio:0.14078 time_per_show:9.67649 time_per_click:68.73287 time_per_user:146.92875 version:tuwen'],\n",
       " ['valid_online_abid4,5,6',\n",
       "  '2019110901',\n",
       "  'tuwen',\n",
       "  'pos_ratio:0.14190 auc:0.64470 time_auc:0.64090 weighted_time_auc:0.67335 click/time_auc:0.58787 click/weighted_time_auc:0.52796 group/auc:0.62644 group/pos_ratio:0.16475 group/top1_score:23.03098 group/top3_score:19.23604 group/time_auc:0.61717 group/weighted_time_auc:0.64884 group/top1_best:95.28565 group/top3_best:54.06471 group/top1_rate:0.24170 group/top3_rate:0.35580 group/top1_click:0.31943 group/top3_click:0.28877 group/top1_click_best:1.00000 group/top3_click_best:0.69775 group/top1_click_rate:0.31943 group/top3_click_rate:0.41386 group/click/auc:0.00000 group/click/pos_ratio:0.00000 group/click/top1_score:68.15800 group/click/top3_score:65.16743 group/click/time_auc:0.55920 group/click/weighted_time_auc:0.68662 group/click/top1_best:95.28565 group/click/top3_best:77.48482 group/click/top1_rate:0.71530 group/click/top3_rate:0.84103 group/click/top1_click:1.00000 group/click/top3_click:1.00000 group/click/top1_click_best:1.00000 group/click/top3_click_best:1.00000 group/click/top1_click_rate:1.00000 group/click/top3_click_rate:1.00000 click_ratio:0.14190 time_per_show:9.14880 time_per_click:64.47481 time_per_user:136.44339 version:tuwen'],\n",
       " ['valid_online_abid4,5,6',\n",
       "  '2019110902',\n",
       "  'tuwen',\n",
       "  'pos_ratio:0.14642 auc:0.63711 time_auc:0.63572 weighted_time_auc:0.68255 click/time_auc:0.60913 click/weighted_time_auc:0.53623 group/auc:0.62141 group/pos_ratio:0.16829 group/top1_score:21.78515 group/top3_score:18.27221 group/time_auc:0.61286 group/weighted_time_auc:0.64140 group/top1_best:92.24750 group/top3_best:51.90956 group/top1_rate:0.23616 group/top3_rate:0.35200 group/top1_click:0.32477 group/top3_click:0.29592 group/top1_click_best:1.00000 group/top3_click_best:0.69395 group/top1_click_rate:0.32477 group/top3_click_rate:0.42642 group/click/auc:0.00000 group/click/pos_ratio:0.00000 group/click/top1_score:66.87941 group/click/top3_score:64.17868 group/click/time_auc:0.54937 group/click/weighted_time_auc:0.68212 group/click/top1_best:92.24750 group/click/top3_best:74.80345 group/click/top1_rate:0.72500 group/click/top3_rate:0.85796 group/click/top1_click:1.00000 group/click/top3_click:1.00000 group/click/top1_click_best:1.00000 group/click/top3_click_best:1.00000 group/click/top1_click_rate:1.00000 group/click/top3_click_rate:1.00000 click_ratio:0.14642 time_per_show:9.34985 time_per_click:63.85427 time_per_user:132.68323 version:tuwen'],\n",
       " ['valid_online_abid4,5,6',\n",
       "  '2019110903',\n",
       "  'tuwen',\n",
       "  'pos_ratio:0.15075 auc:0.64595 time_auc:0.64441 weighted_time_auc:0.68830 click/time_auc:0.61032 click/weighted_time_auc:0.51657 group/auc:0.62051 group/pos_ratio:0.17112 group/top1_score:23.06357 group/top3_score:20.99862 group/time_auc:0.61191 group/weighted_time_auc:0.64182 group/top1_best:93.36202 group/top3_best:53.94757 group/top1_rate:0.24703 group/top3_rate:0.38924 group/top1_click:0.32300 group/top3_click:0.30689 group/top1_click_best:1.00000 group/top3_click_best:0.69580 group/top1_click_rate:0.32300 group/top3_click_rate:0.44106 group/click/auc:0.00000 group/click/pos_ratio:0.00000 group/click/top1_score:70.15426 group/click/top3_score:67.64026 group/click/time_auc:0.55307 group/click/weighted_time_auc:0.69046 group/click/top1_best:93.36202 group/click/top3_best:77.53370 group/click/top1_rate:0.75142 group/click/top3_rate:0.87240 group/click/top1_click:1.00000 group/click/top3_click:1.00000 group/click/top1_click_best:1.00000 group/click/top3_click_best:1.00000 group/click/top1_click_rate:1.00000 group/click/top3_click_rate:1.00000 click_ratio:0.15075 time_per_show:10.05744 time_per_click:66.71738 time_per_user:144.38689 version:tuwen'],\n",
       " ['valid_online_abid4,5,6',\n",
       "  '2019110904',\n",
       "  'tuwen',\n",
       "  'pos_ratio:0.15537 auc:0.65159 time_auc:0.64916 weighted_time_auc:0.69365 click/time_auc:0.60852 click/weighted_time_auc:0.51343 group/auc:0.62309 group/pos_ratio:0.17623 group/top1_score:24.76880 group/top3_score:21.66372 group/time_auc:0.61416 group/weighted_time_auc:0.64532 group/top1_best:95.73755 group/top3_best:54.98903 group/top1_rate:0.25872 group/top3_rate:0.39396 group/top1_click:0.33003 group/top3_click:0.30602 group/top1_click_best:1.00000 group/top3_click_best:0.69432 group/top1_click_rate:0.33003 group/top3_click_rate:0.44074 group/click/auc:0.00000 group/click/pos_ratio:0.00000 group/click/top1_score:71.39634 group/click/top3_score:68.82603 group/click/time_auc:0.54125 group/click/weighted_time_auc:0.69037 group/click/top1_best:95.73755 group/click/top3_best:79.19821 group/click/top1_rate:0.74575 group/click/top3_rate:0.86904 group/click/top1_click:1.00000 group/click/top3_click:1.00000 group/click/top1_click_best:1.00000 group/click/top3_click_best:1.00000 group/click/top1_click_rate:1.00000 group/click/top3_click_rate:1.00000 click_ratio:0.15537 time_per_show:10.81215 time_per_click:69.59119 time_per_user:148.34481 version:tuwen'],\n",
       " ['valid_online_abid4,5,6',\n",
       "  '2019110905',\n",
       "  'tuwen',\n",
       "  'pos_ratio:0.15741 auc:0.65104 time_auc:0.64806 weighted_time_auc:0.69122 click/time_auc:0.60682 click/weighted_time_auc:0.54984 group/auc:0.62059 group/pos_ratio:0.18054 group/top1_score:28.28647 group/top3_score:24.12718 group/time_auc:0.61138 group/weighted_time_auc:0.64034 group/top1_best:109.29717 group/top3_best:61.84131 group/top1_rate:0.25880 group/top3_rate:0.39015 group/top1_click:0.34410 group/top3_click:0.31199 group/top1_click_best:1.00000 group/top3_click_best:0.69843 group/top1_click_rate:0.34410 group/top3_click_rate:0.44670 group/click/auc:0.00000 group/click/pos_ratio:0.00000 group/click/top1_score:81.15356 group/click/top3_score:76.45470 group/click/time_auc:0.54461 group/click/weighted_time_auc:0.67943 group/click/top1_best:109.29717 group/click/top3_best:88.54323 group/click/top1_rate:0.74250 group/click/top3_rate:0.86347 group/click/top1_click:1.00000 group/click/top3_click:1.00000 group/click/top1_click_best:1.00000 group/click/top3_click_best:1.00000 group/click/top1_click_rate:1.00000 group/click/top3_click_rate:1.00000 click_ratio:0.15741 time_per_show:11.69601 time_per_click:74.30349 time_per_user:161.94499 version:tuwen'],\n",
       " ['valid_online_abid4,5,6',\n",
       "  '2019110906',\n",
       "  'tuwen',\n",
       "  'pos_ratio:0.14573 auc:0.63825 time_auc:0.63422 weighted_time_auc:0.67289 click/time_auc:0.58256 click/weighted_time_auc:0.56344 group/auc:0.61886 group/pos_ratio:0.17348 group/top1_score:29.03341 group/top3_score:25.48255 group/time_auc:0.61193 group/weighted_time_auc:0.64045 group/top1_best:118.66457 group/top3_best:64.91358 group/top1_rate:0.24467 group/top3_rate:0.39256 group/top1_click:0.31939 group/top3_click:0.28520 group/top1_click_best:1.00000 group/top3_click_best:0.68553 group/top1_click_rate:0.31939 group/top3_click_rate:0.41603 group/click/auc:0.00000 group/click/pos_ratio:0.00000 group/click/top1_score:90.03901 group/click/top3_score:83.07375 group/click/time_auc:0.55127 group/click/weighted_time_auc:0.68967 group/click/top1_best:118.66457 group/click/top3_best:94.69107 group/click/top1_rate:0.75877 group/click/top3_rate:0.87731 group/click/top1_click:1.00000 group/click/top3_click:1.00000 group/click/top1_click_best:1.00000 group/click/top3_click_best:1.00000 group/click/top1_click_rate:1.00000 group/click/top3_click_rate:1.00000 click_ratio:0.14573 time_per_show:11.36798 time_per_click:78.00888 time_per_user:154.30125 version:tuwen'],\n",
       " ['valid_online_abid4,5,6',\n",
       "  '2019110907',\n",
       "  'tuwen',\n",
       "  'pos_ratio:0.14134 auc:0.64079 time_auc:0.63543 weighted_time_auc:0.66685 click/time_auc:0.56728 click/weighted_time_auc:0.56508 group/auc:0.62864 group/pos_ratio:0.17159 group/top1_score:27.19637 group/top3_score:23.07765 group/time_auc:0.62188 group/weighted_time_auc:0.64635 group/top1_best:112.37643 group/top3_best:62.15938 group/top1_rate:0.24201 group/top3_rate:0.37127 group/top1_click:0.32448 group/top3_click:0.28395 group/top1_click_best:1.00000 group/top3_click_best:0.68189 group/top1_click_rate:0.32448 group/top3_click_rate:0.41641 group/click/auc:0.00000 group/click/pos_ratio:0.00000 group/click/top1_score:81.98699 group/click/top3_score:78.99915 group/click/time_auc:0.55013 group/click/weighted_time_auc:0.67757 group/click/top1_best:112.37643 group/click/top3_best:91.15716 group/click/top1_rate:0.72957 group/click/top3_rate:0.86663 group/click/top1_click:1.00000 group/click/top3_click:1.00000 group/click/top1_click_best:1.00000 group/click/top3_click_best:1.00000 group/click/top1_click_rate:1.00000 group/click/top3_click_rate:1.00000 click_ratio:0.14134 time_per_show:10.45481 time_per_click:73.96780 time_per_user:140.87403 version:tuwen'],\n",
       " ['valid_online_abid4,5,6',\n",
       "  '2019110908',\n",
       "  'tuwen',\n",
       "  'pos_ratio:0.13718 auc:0.63712 time_auc:0.63167 weighted_time_auc:0.65670 click/time_auc:0.56030 click/weighted_time_auc:0.55094 group/auc:0.62729 group/pos_ratio:0.16818 group/top1_score:24.85107 group/top3_score:21.44903 group/time_auc:0.62417 group/weighted_time_auc:0.64636 group/top1_best:107.89592 group/top3_best:58.87633 group/top1_rate:0.23032 group/top3_rate:0.36431 group/top1_click:0.31540 group/top3_click:0.27613 group/top1_click_best:1.00000 group/top3_click_best:0.67595 group/top1_click_rate:0.31540 group/top3_click_rate:0.40850 group/click/auc:0.00000 group/click/pos_ratio:0.00000 group/click/top1_score:79.11064 group/click/top3_score:74.89244 group/click/time_auc:0.55503 group/click/weighted_time_auc:0.67547 group/click/top1_best:107.89592 group/click/top3_best:87.10126 group/click/top1_rate:0.73321 group/click/top3_rate:0.85983 group/click/top1_click:1.00000 group/click/top3_click:1.00000 group/click/top1_click_best:1.00000 group/click/top3_click_best:1.00000 group/click/top1_click_rate:1.00000 group/click/top3_click_rate:1.00000 click_ratio:0.13718 time_per_show:9.68335 time_per_click:70.58795 time_per_user:130.38482 version:tuwen'],\n",
       " ['valid_online_abid4,5,6',\n",
       "  '2019110909',\n",
       "  'tuwen',\n",
       "  'pos_ratio:0.13262 auc:0.63197 time_auc:0.62747 weighted_time_auc:0.66017 click/time_auc:0.56620 click/weighted_time_auc:0.56528 group/auc:0.62346 group/pos_ratio:0.16521 group/top1_score:23.29905 group/top3_score:20.28332 group/time_auc:0.61787 group/weighted_time_auc:0.63981 group/top1_best:103.29507 group/top3_best:56.66526 group/top1_rate:0.22556 group/top3_rate:0.35795 group/top1_click:0.29570 group/top3_click:0.26860 group/top1_click_best:1.00000 group/top3_click_best:0.67324 group/top1_click_rate:0.29570 group/top3_click_rate:0.39897 group/click/auc:0.00000 group/click/pos_ratio:0.00000 group/click/top1_score:76.24574 group/click/top3_score:72.80383 group/click/time_auc:0.55142 group/click/weighted_time_auc:0.67246 group/click/top1_best:103.29507 group/click/top3_best:84.16790 group/click/top1_rate:0.73814 group/click/top3_rate:0.86498 group/click/top1_click:1.00000 group/click/top3_click:1.00000 group/click/top1_click_best:1.00000 group/click/top3_click_best:1.00000 group/click/top1_click_rate:1.00000 group/click/top3_click_rate:1.00000 click_ratio:0.13262 time_per_show:9.10333 time_per_click:68.64474 time_per_user:120.69558 version:tuwen'],\n",
       " ['valid_online_abid4,5,6',\n",
       "  '2019110910',\n",
       "  'tuwen',\n",
       "  'pos_ratio:0.12787 auc:0.62717 time_auc:0.62319 weighted_time_auc:0.65356 click/time_auc:0.56661 click/weighted_time_auc:0.55730 group/auc:0.62410 group/pos_ratio:0.16393 group/top1_score:23.44274 group/top3_score:19.79413 group/time_auc:0.62023 group/weighted_time_auc:0.64258 group/top1_best:102.16304 group/top3_best:55.54135 group/top1_rate:0.22946 group/top3_rate:0.35639 group/top1_click:0.29679 group/top3_click:0.26928 group/top1_click_best:1.00000 group/top3_click_best:0.66679 group/top1_click_rate:0.29679 group/top3_click_rate:0.40384 group/click/auc:0.00000 group/click/pos_ratio:0.00000 group/click/top1_score:75.72660 group/click/top3_score:72.25503 group/click/time_auc:0.55523 group/click/weighted_time_auc:0.67707 group/click/top1_best:102.16304 group/click/top3_best:83.29607 group/click/top1_rate:0.74123 group/click/top3_rate:0.86745 group/click/top1_click:1.00000 group/click/top3_click:1.00000 group/click/top1_click_best:1.00000 group/click/top3_click_best:1.00000 group/click/top1_click_rate:1.00000 group/click/top3_click_rate:1.00000 click_ratio:0.12787 time_per_show:8.65949 time_per_click:67.71889 time_per_user:111.64522 version:tuwen'],\n",
       " ['valid_online_abid4,5,6', '2019110911', 'tuwen'],\n",
       " ['valid_online_abid4,5,6',\n",
       "  '2019110912',\n",
       "  'tuwen',\n",
       "  'pos_ratio:0.12243 auc:0.62886 time_auc:0.62483 weighted_time_auc:0.65790 click/time_auc:0.56509 click/weighted_time_auc:0.57845 group/auc:0.61990 group/pos_ratio:0.15892 group/top1_score:22.94478 group/top3_score:20.51947 group/time_auc:0.61352 group/weighted_time_auc:0.63741 group/top1_best:106.88086 group/top3_best:57.35247 group/top1_rate:0.21468 group/top3_rate:0.35778 group/top1_click:0.28083 group/top3_click:0.25826 group/top1_click_best:1.00000 group/top3_click_best:0.65876 group/top1_click_rate:0.28083 group/top3_click_rate:0.39203 group/click/auc:0.00000 group/click/pos_ratio:0.00000 group/click/top1_score:80.05224 group/click/top3_score:76.25000 group/click/time_auc:0.55395 group/click/weighted_time_auc:0.67434 group/click/top1_best:106.88086 group/click/top3_best:87.06072 group/click/top1_rate:0.74899 group/click/top3_rate:0.87583 group/click/top1_click:1.00000 group/click/top3_click:1.00000 group/click/top1_click_best:1.00000 group/click/top3_click_best:1.00000 group/click/top1_click_rate:1.00000 group/click/top3_click_rate:1.00000 click_ratio:0.12243 time_per_show:8.72495 time_per_click:71.26208 time_per_user:109.43289 version:tuwen'],\n",
       " ['valid_online_abid4,5,6',\n",
       "  '2019110913',\n",
       "  'tuwen',\n",
       "  'pos_ratio:0.12793 auc:0.64000 time_auc:0.63534 weighted_time_auc:0.66252 click/time_auc:0.56922 click/weighted_time_auc:0.56008 group/auc:0.62758 group/pos_ratio:0.16313 group/top1_score:26.46935 group/top3_score:22.41690 group/time_auc:0.62258 group/weighted_time_auc:0.64388 group/top1_best:108.07154 group/top3_best:58.49223 group/top1_rate:0.24492 group/top3_rate:0.38325 group/top1_click:0.32716 group/top3_click:0.28036 group/top1_click_best:1.00000 group/top3_click_best:0.66758 group/top1_click_rate:0.32716 group/top3_click_rate:0.41996 group/click/auc:0.00000 group/click/pos_ratio:0.00000 group/click/top1_score:79.06939 group/click/top3_score:75.54725 group/click/time_auc:0.55503 group/click/weighted_time_auc:0.67101 group/click/top1_best:108.07154 group/click/top3_best:87.61780 group/click/top1_rate:0.73164 group/click/top3_rate:0.86224 group/click/top1_click:1.00000 group/click/top3_click:1.00000 group/click/top1_click_best:1.00000 group/click/top3_click_best:1.00000 group/click/top1_click_rate:1.00000 group/click/top3_click_rate:1.00000 click_ratio:0.12793 time_per_show:9.03440 time_per_click:70.61945 time_per_user:117.16085 version:tuwen'],\n",
       " ['valid_online_abid4,5,6',\n",
       "  '2019110914',\n",
       "  'tuwen',\n",
       "  'pos_ratio:0.12388 auc:0.63469 time_auc:0.63093 weighted_time_auc:0.66464 click/time_auc:0.57526 click/weighted_time_auc:0.56725 group/auc:0.62829 group/pos_ratio:0.16156 group/top1_score:25.62839 group/top3_score:21.76758 group/time_auc:0.62479 group/weighted_time_auc:0.64800 group/top1_best:107.92639 group/top3_best:58.73127 group/top1_rate:0.23746 group/top3_rate:0.37063 group/top1_click:0.31028 group/top3_click:0.27280 group/top1_click_best:1.00000 group/top3_click_best:0.66669 group/top1_click_rate:0.31028 group/top3_click_rate:0.40920 group/click/auc:0.00000 group/click/pos_ratio:0.00000 group/click/top1_score:79.52312 group/click/top3_score:76.71365 group/click/time_auc:0.56391 group/click/weighted_time_auc:0.68674 group/click/top1_best:107.92639 group/click/top3_best:88.09448 group/click/top1_rate:0.73683 group/click/top3_rate:0.87081 group/click/top1_click:1.00000 group/click/top3_click:1.00000 group/click/top1_click_best:1.00000 group/click/top3_click_best:1.00000 group/click/top1_click_rate:1.00000 group/click/top3_click_rate:1.00000 click_ratio:0.12388 time_per_show:8.77343 time_per_click:70.82453 time_per_user:112.63401 version:tuwen'],\n",
       " ['valid_online_abid4,5,6',\n",
       "  '2019110915',\n",
       "  'tuwen',\n",
       "  'pos_ratio:0.12357 auc:0.64148 time_auc:0.63798 weighted_time_auc:0.67507 click/time_auc:0.58476 click/weighted_time_auc:0.57615 group/auc:0.63419 group/pos_ratio:0.15912 group/top1_score:26.57529 group/top3_score:22.08760 group/time_auc:0.62968 group/weighted_time_auc:0.65430 group/top1_best:105.35793 group/top3_best:56.92971 group/top1_rate:0.25224 group/top3_rate:0.38798 group/top1_click:0.33192 group/top3_click:0.28245 group/top1_click_best:1.00000 group/top3_click_best:0.67311 group/top1_click_rate:0.33192 group/top3_click_rate:0.41962 group/click/auc:0.00000 group/click/pos_ratio:0.00000 group/click/top1_score:77.06537 group/click/top3_score:72.97498 group/click/time_auc:0.56488 group/click/weighted_time_auc:0.68578 group/click/top1_best:105.35793 group/click/top3_best:84.57752 group/click/top1_rate:0.73146 group/click/top3_rate:0.86282 group/click/top1_click:1.00000 group/click/top3_click:1.00000 group/click/top1_click_best:1.00000 group/click/top3_click_best:1.00000 group/click/top1_click_rate:1.00000 group/click/top3_click_rate:1.00000 click_ratio:0.12357 time_per_show:8.34841 time_per_click:67.55952 time_per_user:110.04266 version:tuwen'],\n",
       " ['valid_online_abid4,5,6',\n",
       "  '2019110916',\n",
       "  'tuwen',\n",
       "  'pos_ratio:0.12249 auc:0.63535 time_auc:0.63221 weighted_time_auc:0.67090 click/time_auc:0.58432 click/weighted_time_auc:0.57749 group/auc:0.63100 group/pos_ratio:0.16104 group/top1_score:26.16712 group/top3_score:21.54760 group/time_auc:0.62791 group/weighted_time_auc:0.65092 group/top1_best:103.47909 group/top3_best:55.85439 group/top1_rate:0.25287 group/top3_rate:0.38578 group/top1_click:0.32137 group/top3_click:0.27922 group/top1_click_best:1.00000 group/top3_click_best:0.66909 group/top1_click_rate:0.32137 group/top3_click_rate:0.41731 group/click/auc:0.00000 group/click/pos_ratio:0.00000 group/click/top1_score:76.97030 group/click/top3_score:72.31702 group/click/time_auc:0.56601 group/click/weighted_time_auc:0.68343 group/click/top1_best:103.47909 group/click/top3_best:83.47752 group/click/top1_rate:0.74382 group/click/top3_rate:0.86631 group/click/top1_click:1.00000 group/click/top3_click:1.00000 group/click/top1_click_best:1.00000 group/click/top3_click_best:1.00000 group/click/top1_click_rate:1.00000 group/click/top3_click_rate:1.00000 click_ratio:0.12249 time_per_show:8.13528 time_per_click:66.41628 time_per_user:104.15292 version:tuwen'],\n",
       " ['valid_online_abid4,5,6',\n",
       "  '2019110917',\n",
       "  'tuwen',\n",
       "  'pos_ratio:0.11723 auc:0.63546 time_auc:0.63253 weighted_time_auc:0.67139 click/time_auc:0.58525 click/weighted_time_auc:0.57463 group/auc:0.62695 group/pos_ratio:0.15625 group/top1_score:25.16189 group/top3_score:21.29519 group/time_auc:0.62395 group/weighted_time_auc:0.64845 group/top1_best:104.42772 group/top3_best:56.80642 group/top1_rate:0.24095 group/top3_rate:0.37487 group/top1_click:0.31389 group/top3_click:0.27073 group/top1_click_best:1.00000 group/top3_click_best:0.66567 group/top1_click_rate:0.31389 group/top3_click_rate:0.40670 group/click/auc:0.00000 group/click/pos_ratio:0.00000 group/click/top1_score:77.70116 group/click/top3_score:74.30757 group/click/time_auc:0.56620 group/click/weighted_time_auc:0.69252 group/click/top1_best:104.42772 group/click/top3_best:85.33657 group/click/top1_rate:0.74407 group/click/top3_rate:0.87076 group/click/top1_click:1.00000 group/click/top3_click:1.00000 group/click/top1_click_best:1.00000 group/click/top3_click_best:1.00000 group/click/top1_click_rate:1.00000 group/click/top3_click_rate:1.00000 click_ratio:0.11723 time_per_show:8.06153 time_per_click:68.76528 time_per_user:102.21588 version:tuwen'],\n",
       " ['valid_online_abid4,5,6',\n",
       "  '2019110918',\n",
       "  'tuwen',\n",
       "  'pos_ratio:0.12201 auc:0.63449 time_auc:0.63140 weighted_time_auc:0.67095 click/time_auc:0.58413 click/weighted_time_auc:0.57439 group/auc:0.62980 group/pos_ratio:0.16223 group/top1_score:27.58203 group/top3_score:22.63939 group/time_auc:0.62667 group/weighted_time_auc:0.64911 group/top1_best:107.65029 group/top3_best:58.96398 group/top1_rate:0.25622 group/top3_rate:0.38395 group/top1_click:0.32216 group/top3_click:0.27538 group/top1_click_best:1.00000 group/top3_click_best:0.67476 group/top1_click_rate:0.32216 group/top3_click_rate:0.40812 group/click/auc:0.00000 group/click/pos_ratio:0.00000 group/click/top1_score:79.84844 group/click/top3_score:75.80827 group/click/time_auc:0.55869 group/click/weighted_time_auc:0.68515 group/click/top1_best:107.65029 group/click/top3_best:87.38537 group/click/top1_rate:0.74174 group/click/top3_rate:0.86752 group/click/top1_click:1.00000 group/click/top3_click:1.00000 group/click/top1_click_best:1.00000 group/click/top3_click_best:1.00000 group/click/top1_click_rate:1.00000 group/click/top3_click_rate:1.00000 click_ratio:0.12201 time_per_show:8.46658 time_per_click:69.39413 time_per_user:107.91410 version:tuwen'],\n",
       " ['valid_online_abid4,5,6',\n",
       "  '2019110919',\n",
       "  'tuwen',\n",
       "  'pos_ratio:0.12535 auc:0.64931 time_auc:0.64446 weighted_time_auc:0.67892 click/time_auc:0.57383 click/weighted_time_auc:0.57015 group/auc:0.62959 group/pos_ratio:0.16236 group/top1_score:28.87727 group/top3_score:23.90607 group/time_auc:0.62451 group/weighted_time_auc:0.64965 group/top1_best:114.27414 group/top3_best:62.79579 group/top1_rate:0.25270 group/top3_rate:0.38070 group/top1_click:0.32843 group/top3_click:0.28420 group/top1_click_best:1.00000 group/top3_click_best:0.67907 group/top1_click_rate:0.32843 group/top3_click_rate:0.41852 group/click/auc:0.00000 group/click/pos_ratio:0.00000 group/click/top1_score:83.27414 group/click/top3_score:78.68883 group/click/time_auc:0.56019 group/click/weighted_time_auc:0.67815 group/click/top1_best:114.27414 group/click/top3_best:92.47381 group/click/top1_rate:0.72872 group/click/top3_rate:0.85093 group/click/top1_click:1.00000 group/click/top3_click:1.00000 group/click/top1_click_best:1.00000 group/click/top3_click_best:1.00000 group/click/top1_click_rate:1.00000 group/click/top3_click_rate:1.00000 click_ratio:0.12535 time_per_show:8.98869 time_per_click:71.70719 time_per_user:121.73102 version:tuwen'],\n",
       " ['valid_online_abid4,5,6',\n",
       "  '2019110920',\n",
       "  'tuwen',\n",
       "  'pos_ratio:0.12349 auc:0.64976 time_auc:0.64460 weighted_time_auc:0.67474 click/time_auc:0.56895 click/weighted_time_auc:0.56621 group/auc:0.62569 group/pos_ratio:0.15870 group/top1_score:28.12994 group/top3_score:23.67768 group/time_auc:0.62247 group/weighted_time_auc:0.64523 group/top1_best:116.45715 group/top3_best:64.26923 group/top1_rate:0.24155 group/top3_rate:0.36841 group/top1_click:0.32462 group/top3_click:0.27873 group/top1_click_best:1.00000 group/top3_click_best:0.68189 group/top1_click_rate:0.32462 group/top3_click_rate:0.40876 group/click/auc:0.00000 group/click/pos_ratio:0.00000 group/click/top1_score:84.06330 group/click/top3_score:79.92415 group/click/time_auc:0.56152 group/click/weighted_time_auc:0.67454 group/click/top1_best:116.45715 group/click/top3_best:94.25181 group/click/top1_rate:0.72184 group/click/top3_rate:0.84799 group/click/top1_click:1.00000 group/click/top3_click:1.00000 group/click/top1_click_best:1.00000 group/click/top3_click_best:1.00000 group/click/top1_click_rate:1.00000 group/click/top3_click_rate:1.00000 click_ratio:0.12349 time_per_show:9.08064 time_per_click:73.53545 time_per_user:125.19502 version:tuwen'],\n",
       " ['valid_online_abid4,5,6',\n",
       "  '2019110921',\n",
       "  'tuwen',\n",
       "  'pos_ratio:0.12546 auc:0.64700 time_auc:0.64164 weighted_time_auc:0.67169 click/time_auc:0.56474 click/weighted_time_auc:0.56641 group/auc:0.62212 group/pos_ratio:0.15978 group/top1_score:26.90551 group/top3_score:23.42817 group/time_auc:0.61925 group/weighted_time_auc:0.64183 group/top1_best:118.39747 group/top3_best:66.03395 group/top1_rate:0.22725 group/top3_rate:0.35479 group/top1_click:0.30337 group/top3_click:0.27241 group/top1_click_best:1.00000 group/top3_click_best:0.68651 group/top1_click_rate:0.30337 group/top3_click_rate:0.39680 group/click/auc:0.00000 group/click/pos_ratio:0.00000 group/click/top1_score:84.33007 group/click/top3_score:81.90659 group/click/time_auc:0.55677 group/click/weighted_time_auc:0.67661 group/click/top1_best:118.39747 group/click/top3_best:96.18755 group/click/top1_rate:0.71226 group/click/top3_rate:0.85153 group/click/top1_click:1.00000 group/click/top3_click:1.00000 group/click/top1_click_best:1.00000 group/click/top3_click_best:1.00000 group/click/top1_click_rate:1.00000 group/click/top3_click_rate:1.00000 click_ratio:0.12546 time_per_show:9.33354 time_per_click:74.39293 time_per_user:131.40539 version:tuwen'],\n",
       " ['valid_online_abid4,5,6',\n",
       "  '2019110922',\n",
       "  'tuwen',\n",
       "  'pos_ratio:0.12640 auc:0.63822 time_auc:0.63310 weighted_time_auc:0.65739 click/time_auc:0.56091 click/weighted_time_auc:0.56587 group/auc:0.61364 group/pos_ratio:0.15956 group/top1_score:25.84585 group/top3_score:22.85981 group/time_auc:0.60904 group/weighted_time_auc:0.63132 group/top1_best:118.27614 group/top3_best:66.65770 group/top1_rate:0.21852 group/top3_rate:0.34294 group/top1_click:0.29139 group/top3_click:0.26467 group/top1_click_best:1.00000 group/top3_click_best:0.69193 group/top1_click_rate:0.29139 group/top3_click_rate:0.38251 group/click/auc:0.00000 group/click/pos_ratio:0.00000 group/click/top1_score:85.14418 group/click/top3_score:81.37868 group/click/time_auc:0.55370 group/click/weighted_time_auc:0.67597 group/click/top1_best:118.27614 group/click/top3_best:96.33649 group/click/top1_rate:0.71988 group/click/top3_rate:0.84473 group/click/top1_click:1.00000 group/click/top3_click:1.00000 group/click/top1_click_best:1.00000 group/click/top3_click_best:1.00000 group/click/top1_click_rate:1.00000 group/click/top3_click_rate:1.00000 click_ratio:0.12640 time_per_show:9.47232 time_per_click:74.93754 time_per_user:134.85112 version:tuwen'],\n",
       " ['valid_online_abid4,5,6',\n",
       "  '2019110923',\n",
       "  'tuwen',\n",
       "  'pos_ratio:0.12849 auc:0.64812 time_auc:0.64198 weighted_time_auc:0.66475 click/time_auc:0.55711 click/weighted_time_auc:0.57326 group/auc:0.62589 group/pos_ratio:0.16199 group/top1_score:27.35741 group/top3_score:23.05390 group/time_auc:0.62212 group/weighted_time_auc:0.64381 group/top1_best:118.10900 group/top3_best:66.61469 group/top1_rate:0.23163 group/top3_rate:0.34608 group/top1_click:0.31791 group/top3_click:0.27468 group/top1_click_best:1.00000 group/top3_click_best:0.69220 group/top1_click_rate:0.31791 group/top3_click_rate:0.39682 group/click/auc:0.00000 group/click/pos_ratio:0.00000 group/click/top1_score:83.10128 group/click/top3_score:80.67519 group/click/time_auc:0.55257 group/click/weighted_time_auc:0.67695 group/click/top1_best:118.10900 group/click/top3_best:96.23645 group/click/top1_rate:0.70360 group/click/top3_rate:0.83830 group/click/top1_click:1.00000 group/click/top3_click:1.00000 group/click/top1_click_best:1.00000 group/click/top3_click_best:1.00000 group/click/top1_click_rate:1.00000 group/click/top3_click_rate:1.00000 click_ratio:0.12849 time_per_show:9.54727 time_per_click:74.30478 time_per_user:136.48042 version:tuwen'],\n",
       " ['valid_online_abid4,5,6',\n",
       "  '2019111000',\n",
       "  'tuwen',\n",
       "  'pos_ratio:0.13357 auc:0.63715 time_auc:0.63441 weighted_time_auc:0.67797 click/time_auc:0.59673 click/weighted_time_auc:0.58201 group/auc:0.62382 group/pos_ratio:0.16788 group/top1_score:23.84585 group/top3_score:20.61500 group/time_auc:0.62032 group/weighted_time_auc:0.64199 group/top1_best:102.09856 group/top3_best:57.69405 group/top1_rate:0.23356 group/top3_rate:0.35732 group/top1_click:0.30997 group/top3_click:0.28429 group/top1_click_best:1.00000 group/top3_click_best:0.69491 group/top1_click_rate:0.30997 group/top3_click_rate:0.40911 group/click/auc:0.00000 group/click/pos_ratio:0.00000 group/click/top1_score:73.26652 group/click/top3_score:70.14563 group/click/time_auc:0.55541 group/click/weighted_time_auc:0.67911 group/click/top1_best:102.09856 group/click/top3_best:83.02428 group/click/top1_rate:0.71761 group/click/top3_rate:0.84488 group/click/top1_click:1.00000 group/click/top3_click:1.00000 group/click/top1_click_best:1.00000 group/click/top3_click_best:1.00000 group/click/top1_click_rate:1.00000 group/click/top3_click_rate:1.00000 click_ratio:0.13357 time_per_show:8.92392 time_per_click:66.81187 time_per_user:118.23322 version:tuwen'],\n",
       " ['valid_online_abid4,5,6',\n",
       "  '2019111001',\n",
       "  'tuwen',\n",
       "  'pos_ratio:0.13914 auc:0.63261 time_auc:0.63010 weighted_time_auc:0.66417 click/time_auc:0.59523 click/weighted_time_auc:0.54484 group/auc:0.62442 group/pos_ratio:0.17061 group/top1_score:22.32267 group/top3_score:19.74688 group/time_auc:0.61549 group/weighted_time_auc:0.64525 group/top1_best:96.71798 group/top3_best:55.59322 group/top1_rate:0.23080 group/top3_rate:0.35520 group/top1_click:0.32428 group/top3_click:0.29457 group/top1_click_best:1.00000 group/top3_click_best:0.69776 group/top1_click_rate:0.32428 group/top3_click_rate:0.42217 group/click/auc:0.00000 group/click/pos_ratio:0.00000 group/click/top1_score:69.72106 group/click/top3_score:67.00895 group/click/time_auc:0.55231 group/click/weighted_time_auc:0.68339 group/click/top1_best:96.71798 group/click/top3_best:79.67409 group/click/top1_rate:0.72087 group/click/top3_rate:0.84104 group/click/top1_click:1.00000 group/click/top3_click:1.00000 group/click/top1_click_best:1.00000 group/click/top3_click_best:1.00000 group/click/top1_click_rate:1.00000 group/click/top3_click_rate:1.00000 click_ratio:0.13914 time_per_show:9.18411 time_per_click:66.00458 time_per_user:121.68439 version:tuwen'],\n",
       " ['valid_online_abid4,5,6',\n",
       "  '2019111002',\n",
       "  'tuwen',\n",
       "  'pos_ratio:0.14252 auc:0.64300 time_auc:0.64052 weighted_time_auc:0.67748 click/time_auc:0.60252 click/weighted_time_auc:0.51539 group/auc:0.62569 group/pos_ratio:0.16985 group/top1_score:24.96152 group/top3_score:21.43827 group/time_auc:0.61731 group/weighted_time_auc:0.64882 group/top1_best:101.18331 group/top3_best:56.17237 group/top1_rate:0.24670 group/top3_rate:0.38165 group/top1_click:0.32755 group/top3_click:0.29960 group/top1_click_best:1.00000 group/top3_click_best:0.69749 group/top1_click_rate:0.32755 group/top3_click_rate:0.42955 group/click/auc:0.00000 group/click/pos_ratio:0.00000 group/click/top1_score:73.04519 group/click/top3_score:69.28163 group/click/time_auc:0.55624 group/click/weighted_time_auc:0.69169 group/click/top1_best:101.18331 group/click/top3_best:80.53520 group/click/top1_rate:0.72191 group/click/top3_rate:0.86027 group/click/top1_click:1.00000 group/click/top3_click:1.00000 group/click/top1_click_best:1.00000 group/click/top3_click_best:1.00000 group/click/top1_click_rate:1.00000 group/click/top3_click_rate:1.00000 click_ratio:0.14252 time_per_show:9.58721 time_per_click:67.26971 time_per_user:131.38652 version:tuwen'],\n",
       " ['valid_online_abid4,5,6',\n",
       "  '2019111003',\n",
       "  'tuwen',\n",
       "  'pos_ratio:0.14309 auc:0.63832 time_auc:0.63777 weighted_time_auc:0.68158 click/time_auc:0.61610 click/weighted_time_auc:0.50076 group/auc:0.61915 group/pos_ratio:0.17108 group/top1_score:22.66015 group/top3_score:20.49190 group/time_auc:0.60299 group/weighted_time_auc:0.64144 group/top1_best:97.40954 group/top3_best:54.59630 group/top1_rate:0.23263 group/top3_rate:0.37533 group/top1_click:0.32298 group/top3_click:0.30208 group/top1_click_best:1.00000 group/top3_click_best:0.69424 group/top1_click_rate:0.32298 group/top3_click_rate:0.43512 group/click/auc:0.00000 group/click/pos_ratio:0.00000 group/click/top1_score:74.19462 group/click/top3_score:68.78951 group/click/time_auc:0.54689 group/click/weighted_time_auc:0.69552 group/click/top1_best:97.40954 group/click/top3_best:78.64184 group/click/top1_rate:0.76168 group/click/top3_rate:0.87472 group/click/top1_click:1.00000 group/click/top3_click:1.00000 group/click/top1_click_best:1.00000 group/click/top3_click_best:1.00000 group/click/top1_click_rate:1.00000 group/click/top3_click_rate:1.00000 click_ratio:0.14309 time_per_show:9.71590 time_per_click:67.90241 time_per_user:130.95691 version:tuwen'],\n",
       " ['valid_online_abid4,5,6',\n",
       "  '2019111004',\n",
       "  'tuwen',\n",
       "  'pos_ratio:0.14766 auc:0.63533 time_auc:0.63596 weighted_time_auc:0.68397 click/time_auc:0.62632 click/weighted_time_auc:0.51943 group/auc:0.60940 group/pos_ratio:0.17542 group/top1_score:23.79199 group/top3_score:21.16082 group/time_auc:0.59289 group/weighted_time_auc:0.63087 group/top1_best:95.81051 group/top3_best:54.82000 group/top1_rate:0.24832 group/top3_rate:0.38601 group/top1_click:0.31640 group/top3_click:0.29483 group/top1_click_best:1.00000 group/top3_click_best:0.69930 group/top1_click_rate:0.31640 group/top3_click_rate:0.42161 group/click/auc:0.00000 group/click/pos_ratio:0.00000 group/click/top1_score:72.91239 group/click/top3_score:68.49108 group/click/time_auc:0.54843 group/click/weighted_time_auc:0.69614 group/click/top1_best:95.81051 group/click/top3_best:78.39214 group/click/top1_rate:0.76101 group/click/top3_rate:0.87370 group/click/top1_click:1.00000 group/click/top3_click:1.00000 group/click/top1_click_best:1.00000 group/click/top3_click_best:1.00000 group/click/top1_click_rate:1.00000 group/click/top3_click_rate:1.00000 click_ratio:0.14766 time_per_show:10.04087 time_per_click:68.00083 time_per_user:132.26354 version:tuwen'],\n",
       " ['valid_online_abid4,5,6',\n",
       "  '2019111005',\n",
       "  'tuwen',\n",
       "  'pos_ratio:0.14755 auc:0.62791 time_auc:0.62710 weighted_time_auc:0.67073 click/time_auc:0.61025 click/weighted_time_auc:0.54105 group/auc:0.61691 group/pos_ratio:0.17685 group/top1_score:27.02889 group/top3_score:22.85490 group/time_auc:0.61244 group/weighted_time_auc:0.64318 group/top1_best:107.20305 group/top3_best:61.18795 group/top1_rate:0.25213 group/top3_rate:0.37352 group/top1_click:0.32722 group/top3_click:0.29712 group/top1_click_best:1.00000 group/top3_click_best:0.70092 group/top1_click_rate:0.32722 group/top3_click_rate:0.42390 group/click/auc:0.00000 group/click/pos_ratio:0.00000 group/click/top1_score:80.12007 group/click/top3_score:75.50862 group/click/time_auc:0.55758 group/click/weighted_time_auc:0.69473 group/click/top1_best:107.20305 group/click/top3_best:87.29649 group/click/top1_rate:0.74737 group/click/top3_rate:0.86497 group/click/top1_click:1.00000 group/click/top3_click:1.00000 group/click/top1_click_best:1.00000 group/click/top3_click_best:1.00000 group/click/top1_click_rate:1.00000 group/click/top3_click_rate:1.00000 click_ratio:0.14755 time_per_show:10.84986 time_per_click:73.53229 time_per_user:145.18235 version:tuwen'],\n",
       " ['valid_online_abid4,5,6',\n",
       "  '2019111006',\n",
       "  'tuwen',\n",
       "  'pos_ratio:0.14705 auc:0.63664 time_auc:0.63322 weighted_time_auc:0.67681 click/time_auc:0.58985 click/weighted_time_auc:0.57795 group/auc:0.62749 group/pos_ratio:0.18099 group/top1_score:29.27235 group/top3_score:25.47806 group/time_auc:0.62137 group/weighted_time_auc:0.65019 group/top1_best:116.04255 group/top3_best:66.18560 group/top1_rate:0.25226 group/top3_rate:0.38495 group/top1_click:0.33820 group/top3_click:0.30122 group/top1_click_best:1.00000 group/top3_click_best:0.70344 group/top1_click_rate:0.33820 group/top3_click_rate:0.42821 group/click/auc:0.00000 group/click/pos_ratio:0.00000 group/click/top1_score:86.89507 group/click/top3_score:82.04999 group/click/time_auc:0.55970 group/click/weighted_time_auc:0.69336 group/click/top1_best:116.04255 group/click/top3_best:94.08913 group/click/top1_rate:0.74882 group/click/top3_rate:0.87205 group/click/top1_click:1.00000 group/click/top3_click:1.00000 group/click/top1_click_best:1.00000 group/click/top3_click_best:1.00000 group/click/top1_click_rate:1.00000 group/click/top3_click_rate:1.00000 click_ratio:0.14705 time_per_show:11.32123 time_per_click:76.98858 time_per_user:146.85626 version:tuwen'],\n",
       " ['valid_online_abid4,5,6',\n",
       "  '2019111007',\n",
       "  'tuwen',\n",
       "  'pos_ratio:0.13602 auc:0.63369 time_auc:0.62915 weighted_time_auc:0.66182 click/time_auc:0.56840 click/weighted_time_auc:0.56584 group/auc:0.61829 group/pos_ratio:0.17183 group/top1_score:26.89294 group/top3_score:23.26813 group/time_auc:0.61420 group/weighted_time_auc:0.63944 group/top1_best:114.16429 group/top3_best:63.49178 group/top1_rate:0.23556 group/top3_rate:0.36647 group/top1_click:0.30413 group/top3_click:0.27537 group/top1_click_best:1.00000 group/top3_click_best:0.68478 group/top1_click_rate:0.30413 group/top3_click_rate:0.40213 group/click/auc:0.00000 group/click/pos_ratio:0.00000 group/click/top1_score:84.57401 group/click/top3_score:79.98593 group/click/time_auc:0.55786 group/click/weighted_time_auc:0.68799 group/click/top1_best:114.16429 group/click/top3_best:92.71805 group/click/top1_rate:0.74081 group/click/top3_rate:0.86268 group/click/top1_click:1.00000 group/click/top3_click:1.00000 group/click/top1_click_best:1.00000 group/click/top3_click_best:1.00000 group/click/top1_click_rate:1.00000 group/click/top3_click_rate:1.00000 click_ratio:0.13602 time_per_show:10.26655 time_per_click:75.47623 time_per_user:131.37278 version:tuwen'],\n",
       " ['valid_online_abid4,5,6',\n",
       "  '2019111008',\n",
       "  'tuwen',\n",
       "  'pos_ratio:0.13408 auc:0.63172 time_auc:0.62647 weighted_time_auc:0.65069 click/time_auc:0.55633 click/weighted_time_auc:0.55039 group/auc:0.61770 group/pos_ratio:0.17176 group/top1_score:24.87174 group/top3_score:21.60129 group/time_auc:0.61174 group/weighted_time_auc:0.63710 group/top1_best:113.01512 group/top3_best:61.73013 group/top1_rate:0.22007 group/top3_rate:0.34993 group/top1_click:0.30086 group/top3_click:0.26965 group/top1_click_best:1.00000 group/top3_click_best:0.67939 group/top1_click_rate:0.30086 group/top3_click_rate:0.39691 group/click/auc:0.00000 group/click/pos_ratio:0.00000 group/click/top1_score:83.15630 group/click/top3_score:77.95716 group/click/time_auc:0.55202 group/click/weighted_time_auc:0.67996 group/click/top1_best:113.01512 group/click/top3_best:90.86137 group/click/top1_rate:0.73580 group/click/top3_rate:0.85798 group/click/top1_click:1.00000 group/click/top3_click:1.00000 group/click/top1_click_best:1.00000 group/click/top3_click_best:1.00000 group/click/top1_click_rate:1.00000 group/click/top3_click_rate:1.00000 click_ratio:0.13408 time_per_show:9.86862 time_per_click:73.60470 time_per_user:123.75935 version:tuwen'],\n",
       " ['valid_online_abid4,5,6',\n",
       "  '2019111009',\n",
       "  'tuwen',\n",
       "  'pos_ratio:0.13312 auc:0.63471 time_auc:0.63025 weighted_time_auc:0.66203 click/time_auc:0.56952 click/weighted_time_auc:0.56455 group/auc:0.62295 group/pos_ratio:0.17315 group/top1_score:24.47637 group/top3_score:21.75563 group/time_auc:0.61710 group/weighted_time_auc:0.64235 group/top1_best:108.47900 group/top3_best:59.71988 group/top1_rate:0.22563 group/top3_rate:0.36429 group/top1_click:0.31044 group/top3_click:0.27596 group/top1_click_best:1.00000 group/top3_click_best:0.67877 group/top1_click_rate:0.31044 group/top3_click_rate:0.40656 group/click/auc:0.00000 group/click/pos_ratio:0.00000 group/click/top1_score:78.63061 group/click/top3_score:75.82556 group/click/time_auc:0.55436 group/click/weighted_time_auc:0.68489 group/click/top1_best:108.47900 group/click/top3_best:87.98292 group/click/top1_rate:0.72485 group/click/top3_rate:0.86182 group/click/top1_click:1.00000 group/click/top3_click:1.00000 group/click/top1_click_best:1.00000 group/click/top3_click_best:1.00000 group/click/top1_click_rate:1.00000 group/click/top3_click_rate:1.00000 click_ratio:0.13312 time_per_show:9.44031 time_per_click:70.91454 time_per_user:117.33545 version:tuwen'],\n",
       " ['valid_online_abid4,5,6',\n",
       "  '2019111010',\n",
       "  'tuwen',\n",
       "  'pos_ratio:0.12921 auc:0.63537 time_auc:0.63101 weighted_time_auc:0.65933 click/time_auc:0.56997 click/weighted_time_auc:0.55827 group/auc:0.63027 group/pos_ratio:0.17076 group/top1_score:26.08348 group/top3_score:22.17041 group/time_auc:0.62622 group/weighted_time_auc:0.65015 group/top1_best:106.23371 group/top3_best:58.25216 group/top1_rate:0.24553 group/top3_rate:0.38059 group/top1_click:0.31367 group/top3_click:0.28133 group/top1_click_best:1.00000 group/top3_click_best:0.67447 group/top1_click_rate:0.31367 group/top3_click_rate:0.41711 group/click/auc:0.00000 group/click/pos_ratio:0.00000 group/click/top1_score:79.09453 group/click/top3_score:74.70768 group/click/time_auc:0.55927 group/click/weighted_time_auc:0.68522 group/click/top1_best:106.23371 group/click/top3_best:86.36687 group/click/top1_rate:0.74453 group/click/top3_rate:0.86500 group/click/top1_click:1.00000 group/click/top3_click:1.00000 group/click/top1_click_best:1.00000 group/click/top3_click_best:1.00000 group/click/top1_click_rate:1.00000 group/click/top3_click_rate:1.00000 click_ratio:0.12921 time_per_show:8.96934 time_per_click:69.41545 time_per_user:110.07072 version:tuwen'],\n",
       " ['valid_online_abid4,5,6', '2019111011', 'tuwen'],\n",
       " ['valid_online_abid4,5,6',\n",
       "  '2019111012',\n",
       "  'tuwen',\n",
       "  'pos_ratio:0.12241 auc:0.63541 time_auc:0.63159 weighted_time_auc:0.66557 click/time_auc:0.57472 click/weighted_time_auc:0.57717 group/auc:0.62931 group/pos_ratio:0.16229 group/top1_score:26.38192 group/top3_score:22.32202 group/time_auc:0.62636 group/weighted_time_auc:0.64878 group/top1_best:107.05776 group/top3_best:57.93883 group/top1_rate:0.24643 group/top3_rate:0.38527 group/top1_click:0.31089 group/top3_click:0.27299 group/top1_click_best:1.00000 group/top3_click_best:0.66174 group/top1_click_rate:0.31089 group/top3_click_rate:0.41254 group/click/auc:0.00000 group/click/pos_ratio:0.00000 group/click/top1_score:81.33062 group/click/top3_score:76.81738 group/click/time_auc:0.56420 group/click/weighted_time_auc:0.68567 group/click/top1_best:107.05776 group/click/top3_best:87.55500 group/click/top1_rate:0.75969 group/click/top3_rate:0.87736 group/click/top1_click:1.00000 group/click/top3_click:1.00000 group/click/top1_click_best:1.00000 group/click/top3_click_best:1.00000 group/click/top1_click_rate:1.00000 group/click/top3_click_rate:1.00000 click_ratio:0.12241 time_per_show:8.69957 time_per_click:71.06771 time_per_user:106.05284 version:tuwen'],\n",
       " ['valid_online_abid4,5,6',\n",
       "  '2019111013',\n",
       "  'tuwen',\n",
       "  'pos_ratio:0.12433 auc:0.63548 time_auc:0.63220 weighted_time_auc:0.67417 click/time_auc:0.58358 click/weighted_time_auc:0.59170 group/auc:0.62825 group/pos_ratio:0.16254 group/top1_score:26.34739 group/top3_score:21.99062 group/time_auc:0.62388 group/weighted_time_auc:0.65010 group/top1_best:105.81443 group/top3_best:57.32402 group/top1_rate:0.24900 group/top3_rate:0.38362 group/top1_click:0.31689 group/top3_click:0.27625 group/top1_click_best:1.00000 group/top3_click_best:0.66995 group/top1_click_rate:0.31689 group/top3_click_rate:0.41234 group/click/auc:0.00000 group/click/pos_ratio:0.00000 group/click/top1_score:79.24656 group/click/top3_score:74.14684 group/click/time_auc:0.56589 group/click/weighted_time_auc:0.69368 group/click/top1_best:105.81443 group/click/top3_best:85.56505 group/click/top1_rate:0.74892 group/click/top3_rate:0.86656 group/click/top1_click:1.00000 group/click/top3_click:1.00000 group/click/top1_click_best:1.00000 group/click/top3_click_best:1.00000 group/click/top1_click_rate:1.00000 group/click/top3_click_rate:1.00000 click_ratio:0.12433 time_per_show:8.62709 time_per_click:69.38799 time_per_user:108.24832 version:tuwen'],\n",
       " ['valid_online_abid4,5,6',\n",
       "  '2019111014',\n",
       "  'tuwen',\n",
       "  'pos_ratio:0.12245 auc:0.63402 time_auc:0.63095 weighted_time_auc:0.66496 click/time_auc:0.58433 click/weighted_time_auc:0.56358 group/auc:0.62702 group/pos_ratio:0.15984 group/top1_score:26.45948 group/top3_score:21.97361 group/time_auc:0.62163 group/weighted_time_auc:0.64476 group/top1_best:108.82006 group/top3_best:59.23292 group/top1_rate:0.24315 group/top3_rate:0.37097 group/top1_click:0.30766 group/top3_click:0.27120 group/top1_click_best:1.00000 group/top3_click_best:0.67050 group/top1_click_rate:0.30766 group/top3_click_rate:0.40448 group/click/auc:0.00000 group/click/pos_ratio:0.00000 group/click/top1_score:81.58017 group/click/top3_score:76.79221 group/click/time_auc:0.55757 group/click/weighted_time_auc:0.68251 group/click/top1_best:108.82006 group/click/top3_best:88.34179 group/click/top1_rate:0.74968 group/click/top3_rate:0.86926 group/click/top1_click:1.00000 group/click/top3_click:1.00000 group/click/top1_click_best:1.00000 group/click/top3_click_best:1.00000 group/click/top1_click_rate:1.00000 group/click/top3_click_rate:1.00000 click_ratio:0.12245 time_per_show:8.58779 time_per_click:70.13493 time_per_user:111.16416 version:tuwen'],\n",
       " ['valid_online_abid4,5,6',\n",
       "  '2019111015',\n",
       "  'tuwen',\n",
       "  'pos_ratio:0.11938 auc:0.62947 time_auc:0.62707 weighted_time_auc:0.66520 click/time_auc:0.58850 click/weighted_time_auc:0.56301 group/auc:0.62013 group/pos_ratio:0.15769 group/top1_score:25.83853 group/top3_score:21.64878 group/time_auc:0.61806 group/weighted_time_auc:0.64037 group/top1_best:108.63347 group/top3_best:58.83464 group/top1_rate:0.23785 group/top3_rate:0.36796 group/top1_click:0.29290 group/top3_click:0.26322 group/top1_click_best:1.00000 group/top3_click_best:0.67139 group/top1_click_rate:0.29290 group/top3_click_rate:0.39206 group/click/auc:0.00000 group/click/pos_ratio:0.00000 group/click/top1_score:79.97887 group/click/top3_score:75.73503 group/click/time_auc:0.56328 group/click/weighted_time_auc:0.68443 group/click/top1_best:108.63347 group/click/top3_best:87.63052 group/click/top1_rate:0.73623 group/click/top3_rate:0.86425 group/click/top1_click:1.00000 group/click/top3_click:1.00000 group/click/top1_click_best:1.00000 group/click/top3_click_best:1.00000 group/click/top1_click_rate:1.00000 group/click/top3_click_rate:1.00000 click_ratio:0.11938 time_per_show:8.34652 time_per_click:69.91301 time_per_user:108.20856 version:tuwen'],\n",
       " ['valid_online_abid4,5,6',\n",
       "  '2019111016',\n",
       "  'tuwen',\n",
       "  'pos_ratio:0.11721 auc:0.62701 time_auc:0.62494 weighted_time_auc:0.66202 click/time_auc:0.59095 click/weighted_time_auc:0.55823 group/auc:0.62801 group/pos_ratio:0.15441 group/top1_score:25.58312 group/top3_score:20.94345 group/time_auc:0.62593 group/weighted_time_auc:0.64551 group/top1_best:108.59772 group/top3_best:58.09442 group/top1_rate:0.23558 group/top3_rate:0.36051 group/top1_click:0.30405 group/top3_click:0.26462 group/top1_click_best:1.00000 group/top3_click_best:0.66297 group/top1_click_rate:0.30405 group/top3_click_rate:0.39914 group/click/auc:0.00000 group/click/pos_ratio:0.00000 group/click/top1_score:80.44135 group/click/top3_score:75.96416 group/click/time_auc:0.55873 group/click/weighted_time_auc:0.68036 group/click/top1_best:108.59772 group/click/top3_best:87.62755 group/click/top1_rate:0.74073 group/click/top3_rate:0.86690 group/click/top1_click:1.00000 group/click/top3_click:1.00000 group/click/top1_click_best:1.00000 group/click/top3_click_best:1.00000 group/click/top1_click_rate:1.00000 group/click/top3_click_rate:1.00000 click_ratio:0.11721 time_per_show:8.21981 time_per_click:70.12777 time_per_user:106.64619 version:tuwen'],\n",
       " ['valid_online_abid4,5,6',\n",
       "  '2019111017',\n",
       "  'tuwen',\n",
       "  'pos_ratio:0.11721 auc:0.63679 time_auc:0.63408 weighted_time_auc:0.67679 click/time_auc:0.59034 click/weighted_time_auc:0.57371 group/auc:0.63775 group/pos_ratio:0.15681 group/top1_score:27.39787 group/top3_score:22.34283 group/time_auc:0.63359 group/weighted_time_auc:0.65911 group/top1_best:106.73132 group/top3_best:57.88921 group/top1_rate:0.25670 group/top3_rate:0.38596 group/top1_click:0.33433 group/top3_click:0.28391 group/top1_click_best:1.00000 group/top3_click_best:0.66737 group/top1_click_rate:0.33433 group/top3_click_rate:0.42541 group/click/auc:0.00000 group/click/pos_ratio:0.00000 group/click/top1_score:80.65220 group/click/top3_score:75.39023 group/click/time_auc:0.56738 group/click/weighted_time_auc:0.69044 group/click/top1_best:106.73132 group/click/top3_best:86.74199 group/click/top1_rate:0.75566 group/click/top3_rate:0.86913 group/click/top1_click:1.00000 group/click/top3_click:1.00000 group/click/top1_click_best:1.00000 group/click/top3_click_best:1.00000 group/click/top1_click_rate:1.00000 group/click/top3_click_rate:1.00000 click_ratio:0.11721 time_per_show:8.10975 time_per_click:69.19247 time_per_user:103.57625 version:tuwen'],\n",
       " ['valid_online_abid4,5,6',\n",
       "  '2019111018',\n",
       "  'tuwen',\n",
       "  'pos_ratio:0.11506 auc:0.63251 time_auc:0.63002 weighted_time_auc:0.67261 click/time_auc:0.58846 click/weighted_time_auc:0.58005 group/auc:0.62842 group/pos_ratio:0.15527 group/top1_score:27.34865 group/top3_score:22.49226 group/time_auc:0.62569 group/weighted_time_auc:0.64822 group/top1_best:111.65347 group/top3_best:60.01497 group/top1_rate:0.24494 group/top3_rate:0.37478 group/top1_click:0.31788 group/top3_click:0.27397 group/top1_click_best:1.00000 group/top3_click_best:0.66660 group/top1_click_rate:0.31788 group/top3_click_rate:0.41100 group/click/auc:0.00000 group/click/pos_ratio:0.00000 group/click/top1_score:83.06192 group/click/top3_score:77.80234 group/click/time_auc:0.56230 group/click/weighted_time_auc:0.68508 group/click/top1_best:111.65347 group/click/top3_best:90.03193 group/click/top1_rate:0.74393 group/click/top3_rate:0.86416 group/click/top1_click:1.00000 group/click/top3_click:1.00000 group/click/top1_click_best:1.00000 group/click/top3_click_best:1.00000 group/click/top1_click_rate:1.00000 group/click/top3_click_rate:1.00000 click_ratio:0.11506 time_per_show:8.28967 time_per_click:72.04563 time_per_user:105.16204 version:tuwen'],\n",
       " ['valid_online_abid4,5,6',\n",
       "  '2019111019',\n",
       "  'tuwen',\n",
       "  'pos_ratio:0.11624 auc:0.63788 time_auc:0.63475 weighted_time_auc:0.67329 click/time_auc:0.58434 click/weighted_time_auc:0.57436 group/auc:0.62917 group/pos_ratio:0.15312 group/top1_score:28.86297 group/top3_score:23.71452 group/time_auc:0.62679 group/weighted_time_auc:0.64945 group/top1_best:114.99353 group/top3_best:62.83823 group/top1_rate:0.25100 group/top3_rate:0.37739 group/top1_click:0.31491 group/top3_click:0.27183 group/top1_click_best:1.00000 group/top3_click_best:0.67249 group/top1_click_rate:0.31491 group/top3_click_rate:0.40421 group/click/auc:0.00000 group/click/pos_ratio:0.00000 group/click/top1_score:85.40640 group/click/top3_score:81.09863 group/click/time_auc:0.56173 group/click/weighted_time_auc:0.68329 group/click/top1_best:114.99353 group/click/top3_best:93.44111 group/click/top1_rate:0.74271 group/click/top3_rate:0.86791 group/click/top1_click:1.00000 group/click/top3_click:1.00000 group/click/top1_click_best:1.00000 group/click/top3_click_best:1.00000 group/click/top1_click_rate:1.00000 group/click/top3_click_rate:1.00000 click_ratio:0.11624 time_per_show:8.64459 time_per_click:74.36828 time_per_user:114.72144 version:tuwen'],\n",
       " ['valid_online_abid4,5,6',\n",
       "  '2019111020',\n",
       "  'tuwen',\n",
       "  'pos_ratio:0.11870 auc:0.64113 time_auc:0.63747 weighted_time_auc:0.67567 click/time_auc:0.58081 click/weighted_time_auc:0.58141 group/auc:0.62496 group/pos_ratio:0.15413 group/top1_score:26.80114 group/top3_score:23.69657 group/time_auc:0.62135 group/weighted_time_auc:0.64346 group/top1_best:117.63125 group/top3_best:65.05111 group/top1_rate:0.22784 group/top3_rate:0.36428 group/top1_click:0.30010 group/top3_click:0.26795 group/top1_click_best:1.00000 group/top3_click_best:0.67882 group/top1_click_rate:0.30010 group/top3_click_rate:0.39473 group/click/auc:0.00000 group/click/pos_ratio:0.00000 group/click/top1_score:87.21140 group/click/top3_score:82.61112 group/click/time_auc:0.56089 group/click/weighted_time_auc:0.67982 group/click/top1_best:117.63125 group/click/top3_best:95.82948 group/click/top1_rate:0.74140 group/click/top3_rate:0.86206 group/click/top1_click:1.00000 group/click/top3_click:1.00000 group/click/top1_click_best:1.00000 group/click/top3_click_best:1.00000 group/click/top1_click_rate:1.00000 group/click/top3_click_rate:1.00000 click_ratio:0.11870 time_per_show:8.98116 time_per_click:75.66330 time_per_user:122.01431 version:tuwen'],\n",
       " ['valid_online_abid4,5,6',\n",
       "  '2019111021',\n",
       "  'tuwen',\n",
       "  'pos_ratio:0.11838 auc:0.64431 time_auc:0.63992 weighted_time_auc:0.66822 click/time_auc:0.57271 click/weighted_time_auc:0.56734 group/auc:0.62114 group/pos_ratio:0.15367 group/top1_score:26.42993 group/top3_score:23.52125 group/time_auc:0.61712 group/weighted_time_auc:0.63896 group/top1_best:120.35830 group/top3_best:66.37784 group/top1_rate:0.21959 group/top3_rate:0.35435 group/top1_click:0.29950 group/top3_click:0.26472 group/top1_click_best:1.00000 group/top3_click_best:0.68069 group/top1_click_rate:0.29950 group/top3_click_rate:0.38889 group/click/auc:0.00000 group/click/pos_ratio:0.00000 group/click/top1_score:88.29901 group/click/top3_score:83.92959 group/click/time_auc:0.55603 group/click/weighted_time_auc:0.67273 group/click/top1_best:120.35830 group/click/top3_best:97.51543 group/click/top1_rate:0.73363 group/click/top3_rate:0.86068 group/click/top1_click:1.00000 group/click/top3_click:1.00000 group/click/top1_click_best:1.00000 group/click/top3_click_best:1.00000 group/click/top1_click_rate:1.00000 group/click/top3_click_rate:1.00000 click_ratio:0.11838 time_per_show:9.12864 time_per_click:77.11272 time_per_user:125.64930 version:tuwen'],\n",
       " ['valid_online_abid4,5,6',\n",
       "  '2019111022',\n",
       "  'tuwen',\n",
       "  'pos_ratio:0.12373 auc:0.64325 time_auc:0.63807 weighted_time_auc:0.66821 click/time_auc:0.56311 click/weighted_time_auc:0.57539 group/auc:0.62020 group/pos_ratio:0.15904 group/top1_score:26.70457 group/top3_score:23.38499 group/time_auc:0.61660 group/weighted_time_auc:0.63732 group/top1_best:120.02591 group/top3_best:67.08319 group/top1_rate:0.22249 group/top3_rate:0.34860 group/top1_click:0.30359 group/top3_click:0.26936 group/top1_click_best:1.00000 group/top3_click_best:0.69053 group/top1_click_rate:0.30359 group/top3_click_rate:0.39007 group/click/auc:0.00000 group/click/pos_ratio:0.00000 group/click/top1_score:85.59227 group/click/top3_score:82.16731 group/click/time_auc:0.54827 group/click/weighted_time_auc:0.66553 group/click/top1_best:120.02591 group/click/top3_best:97.14682 group/click/top1_rate:0.71311 group/click/top3_rate:0.84581 group/click/top1_click:1.00000 group/click/top3_click:1.00000 group/click/top1_click_best:1.00000 group/click/top3_click_best:1.00000 group/click/top1_click_rate:1.00000 group/click/top3_click_rate:1.00000 click_ratio:0.12373 time_per_show:9.35566 time_per_click:75.61191 time_per_user:130.11108 version:tuwen'],\n",
       " ['valid_online_abid4,5,6',\n",
       "  '2019111023',\n",
       "  'tuwen',\n",
       "  'pos_ratio:0.12050 auc:0.64889 time_auc:0.64353 weighted_time_auc:0.67621 click/time_auc:0.56375 click/weighted_time_auc:0.59164 group/auc:0.63203 group/pos_ratio:0.15545 group/top1_score:27.44683 group/top3_score:23.04830 group/time_auc:0.62871 group/weighted_time_auc:0.64809 group/top1_best:114.82240 group/top3_best:63.38446 group/top1_rate:0.23904 group/top3_rate:0.36363 group/top1_click:0.32775 group/top3_click:0.27734 group/top1_click_best:1.00000 group/top3_click_best:0.68005 group/top1_click_rate:0.32775 group/top3_click_rate:0.40782 group/click/auc:0.00000 group/click/pos_ratio:0.00000 group/click/top1_score:82.30310 group/click/top3_score:79.12495 group/click/time_auc:0.55152 group/click/weighted_time_auc:0.67498 group/click/top1_best:114.82240 group/click/top3_best:93.20544 group/click/top1_rate:0.71679 group/click/top3_rate:0.84893 group/click/top1_click:1.00000 group/click/top3_click:1.00000 group/click/top1_click_best:1.00000 group/click/top3_click_best:1.00000 group/click/top1_click_rate:1.00000 group/click/top3_click_rate:1.00000 click_ratio:0.12050 time_per_show:8.83189 time_per_click:73.29250 time_per_user:121.05736 version:tuwen'],\n",
       " ['valid_online_abid4,5,6',\n",
       "  '2019111100',\n",
       "  'tuwen',\n",
       "  'pos_ratio:0.12093 auc:0.63570 time_auc:0.63322 weighted_time_auc:0.67510 click/time_auc:0.59460 click/weighted_time_auc:0.56577 group/auc:0.63577 group/pos_ratio:0.16047 group/top1_score:23.06572 group/top3_score:19.43635 group/time_auc:0.63075 group/weighted_time_auc:0.65241 group/top1_best:97.52228 group/top3_best:54.40673 group/top1_rate:0.23652 group/top3_rate:0.35724 group/top1_click:0.31987 group/top3_click:0.28547 group/top1_click_best:1.00000 group/top3_click_best:0.68058 group/top1_click_rate:0.31987 group/top3_click_rate:0.41946 group/click/auc:0.00000 group/click/pos_ratio:0.00000 group/click/top1_score:70.90537 group/click/top3_score:68.03239 group/click/time_auc:0.55613 group/click/weighted_time_auc:0.67634 group/click/top1_best:97.52228 group/click/top3_best:79.94222 group/click/top1_rate:0.72707 group/click/top3_rate:0.85102 group/click/top1_click:1.00000 group/click/top3_click:1.00000 group/click/top1_click_best:1.00000 group/click/top3_click_best:1.00000 group/click/top1_click_rate:1.00000 group/click/top3_click_rate:1.00000 click_ratio:0.12093 time_per_show:7.95572 time_per_click:65.78537 time_per_user:97.96766 version:tuwen'],\n",
       " ['valid_online_abid4,5,6',\n",
       "  '2019111101',\n",
       "  'tuwen',\n",
       "  'pos_ratio:0.12917 auc:0.64547 time_auc:0.64210 weighted_time_auc:0.67809 click/time_auc:0.59214 click/weighted_time_auc:0.53073 group/auc:0.63735 group/pos_ratio:0.16424 group/top1_score:24.25374 group/top3_score:20.47794 group/time_auc:0.63106 group/weighted_time_auc:0.65333 group/top1_best:95.29477 group/top3_best:53.41852 group/top1_rate:0.25451 group/top3_rate:0.38335 group/top1_click:0.33782 group/top3_click:0.30555 group/top1_click_best:1.00000 group/top3_click_best:0.68683 group/top1_click_rate:0.33782 group/top3_click_rate:0.44487 group/click/auc:0.00000 group/click/pos_ratio:0.00000 group/click/top1_score:70.54549 group/click/top3_score:66.47905 group/click/time_auc:0.55837 group/click/weighted_time_auc:0.68228 group/click/top1_best:95.29477 group/click/top3_best:77.77547 group/click/top1_rate:0.74029 group/click/top3_rate:0.85476 group/click/top1_click:1.00000 group/click/top3_click:1.00000 group/click/top1_click_best:1.00000 group/click/top3_click_best:1.00000 group/click/top1_click_rate:1.00000 group/click/top3_click_rate:1.00000 click_ratio:0.12917 time_per_show:8.36460 time_per_click:64.75606 time_per_user:106.18804 version:tuwen'],\n",
       " ['valid_online_abid4,5,6',\n",
       "  '2019111102',\n",
       "  'tuwen',\n",
       "  'pos_ratio:0.14286 auc:0.64676 time_auc:0.64312 weighted_time_auc:0.67247 click/time_auc:0.59369 click/weighted_time_auc:0.49950 group/auc:0.64549 group/pos_ratio:0.17270 group/top1_score:22.81313 group/top3_score:20.19403 group/time_auc:0.64146 group/weighted_time_auc:0.66583 group/top1_best:91.72060 group/top3_best:52.07689 group/top1_rate:0.24872 group/top3_rate:0.38777 group/top1_click:0.34845 group/top3_click:0.31943 group/top1_click_best:1.00000 group/top3_click_best:0.69258 group/top1_click_rate:0.34845 group/top3_click_rate:0.46122 group/click/auc:0.00000 group/click/pos_ratio:0.00000 group/click/top1_score:67.50091 group/click/top3_score:64.57468 group/click/time_auc:0.54145 group/click/weighted_time_auc:0.69028 group/click/top1_best:91.72060 group/click/top3_best:75.19278 group/click/top1_rate:0.73594 group/click/top3_rate:0.85879 group/click/top1_click:1.00000 group/click/top3_click:1.00000 group/click/top1_click_best:1.00000 group/click/top3_click_best:1.00000 group/click/top1_click_rate:1.00000 group/click/top3_click_rate:1.00000 click_ratio:0.14286 time_per_show:9.25946 time_per_click:64.81288 time_per_user:121.89060 version:tuwen'],\n",
       " ['valid_online_abid4,5,6',\n",
       "  '2019111104',\n",
       "  'tuwen',\n",
       "  'pos_ratio:0.14052 auc:0.64626 time_auc:0.64431 weighted_time_auc:0.69019 click/time_auc:0.60939 click/weighted_time_auc:0.52100 group/auc:0.64796 group/pos_ratio:0.17345 group/top1_score:24.32837 group/top3_score:20.56603 group/time_auc:0.63908 group/weighted_time_auc:0.66480 group/top1_best:88.47130 group/top3_best:50.58927 group/top1_rate:0.27499 group/top3_rate:0.40653 group/top1_click:0.35679 group/top3_click:0.33204 group/top1_click_best:1.00000 group/top3_click_best:0.70297 group/top1_click_rate:0.35679 group/top3_click_rate:0.47234 group/click/auc:0.00000 group/click/pos_ratio:0.00000 group/click/top1_score:67.61505 group/click/top3_score:63.11413 group/click/time_auc:0.54097 group/click/weighted_time_auc:0.70090 group/click/top1_best:88.47130 group/click/top3_best:71.96539 group/click/top1_rate:0.76426 group/click/top3_rate:0.87701 group/click/top1_click:1.00000 group/click/top3_click:1.00000 group/click/top1_click_best:1.00000 group/click/top3_click_best:1.00000 group/click/top1_click_rate:1.00000 group/click/top3_click_rate:1.00000 click_ratio:0.14052 time_per_show:8.82745 time_per_click:62.81922 time_per_user:114.51377 version:tuwen'],\n",
       " ['valid_online_abid4,5,6',\n",
       "  '2019111105',\n",
       "  'tuwen',\n",
       "  'pos_ratio:0.13956 auc:0.63487 time_auc:0.63410 weighted_time_auc:0.68879 click/time_auc:0.61574 click/weighted_time_auc:0.55602 group/auc:0.63030 group/pos_ratio:0.17457 group/top1_score:27.55990 group/top3_score:23.74649 group/time_auc:0.62726 group/weighted_time_auc:0.65416 group/top1_best:104.70770 group/top3_best:60.45924 group/top1_rate:0.26321 group/top3_rate:0.39277 group/top1_click:0.33756 group/top3_click:0.30899 group/top1_click_best:1.00000 group/top3_click_best:0.70148 group/top1_click_rate:0.33756 group/top3_click_rate:0.44048 group/click/auc:0.00000 group/click/pos_ratio:0.00000 group/click/top1_score:81.85527 group/click/top3_score:76.67804 group/click/time_auc:0.55723 group/click/weighted_time_auc:0.70314 group/click/top1_best:104.70770 group/click/top3_best:86.18832 group/click/top1_rate:0.78175 group/click/top3_rate:0.88966 group/click/top1_click:1.00000 group/click/top3_click:1.00000 group/click/top1_click_best:1.00000 group/click/top3_click_best:1.00000 group/click/top1_click_rate:1.00000 group/click/top3_click_rate:1.00000 click_ratio:0.13956 time_per_show:10.21787 time_per_click:73.21474 time_per_user:132.08997 version:tuwen'],\n",
       " ['valid_online_abid4,5,6',\n",
       "  '2019111106',\n",
       "  'tuwen',\n",
       "  'pos_ratio:0.12873 auc:0.63356 time_auc:0.63046 weighted_time_auc:0.66555 click/time_auc:0.58525 click/weighted_time_auc:0.54177 group/auc:0.63556 group/pos_ratio:0.16988 group/top1_score:29.14510 group/top3_score:24.02448 group/time_auc:0.63174 group/weighted_time_auc:0.65796 group/top1_best:114.07116 group/top3_best:62.87484 group/top1_rate:0.25550 group/top3_rate:0.38210 group/top1_click:0.32762 group/top3_click:0.29285 group/top1_click_best:1.00000 group/top3_click_best:0.68162 group/top1_click_rate:0.32762 group/top3_click_rate:0.42963 group/click/auc:0.00000 group/click/pos_ratio:0.00000 group/click/top1_score:86.32723 group/click/top3_score:81.12523 group/click/time_auc:0.56197 group/click/weighted_time_auc:0.69275 group/click/top1_best:114.07116 group/click/top3_best:92.24323 group/click/top1_rate:0.75678 group/click/top3_rate:0.87947 group/click/top1_click:1.00000 group/click/top3_click:1.00000 group/click/top1_click_best:1.00000 group/click/top3_click_best:1.00000 group/click/top1_click_rate:1.00000 group/click/top3_click_rate:1.00000 click_ratio:0.12873 time_per_show:9.85934 time_per_click:76.59107 time_per_user:118.41159 version:tuwen'],\n",
       " ['valid_online_abid4,5,6', '2019111110', 'tuwen'],\n",
       " ['valid_online_abid4,5,6',\n",
       "  '2019111109',\n",
       "  'tuwen',\n",
       "  'pos_ratio:0.12305 auc:0.62669 time_auc:0.62413 weighted_time_auc:0.66374 click/time_auc:0.58503 click/weighted_time_auc:0.56287 group/auc:0.63668 group/pos_ratio:0.16445 group/top1_score:25.77503 group/top3_score:21.08021 group/time_auc:0.63424 group/weighted_time_auc:0.65608 group/top1_best:104.68237 group/top3_best:57.18918 group/top1_rate:0.24622 group/top3_rate:0.36860 group/top1_click:0.32196 group/top3_click:0.27949 group/top1_click_best:1.00000 group/top3_click_best:0.66690 group/top1_click_rate:0.32196 group/top3_click_rate:0.41909 group/click/auc:0.00000 group/click/pos_ratio:0.00000 group/click/top1_score:77.82009 group/click/top3_score:74.32024 group/click/time_auc:0.56190 group/click/weighted_time_auc:0.68249 group/click/top1_best:104.68237 group/click/top3_best:85.75413 group/click/top1_rate:0.74339 group/click/top3_rate:0.86667 group/click/top1_click:1.00000 group/click/top3_click:1.00000 group/click/top1_click_best:1.00000 group/click/top3_click_best:1.00000 group/click/top1_click_rate:1.00000 group/click/top3_click_rate:1.00000 click_ratio:0.12305 time_per_show:8.69033 time_per_click:70.62422 time_per_user:105.75952 version:tuwen'],\n",
       " ['valid_online_abid4,5,6',\n",
       "  '2019111111',\n",
       "  'tuwen',\n",
       "  'pos_ratio:0.11958 auc:0.63491 time_auc:0.63171 weighted_time_auc:0.66956 click/time_auc:0.58178 click/weighted_time_auc:0.56378 group/auc:0.64391 group/pos_ratio:0.15885 group/top1_score:26.71375 group/top3_score:22.37803 group/time_auc:0.63888 group/weighted_time_auc:0.66189 group/top1_best:107.12561 group/top3_best:57.07613 group/top1_rate:0.24937 group/top3_rate:0.39207 group/top1_click:0.33997 group/top3_click:0.28557 group/top1_click_best:1.00000 group/top3_click_best:0.65887 group/top1_click_rate:0.33997 group/top3_click_rate:0.43343 group/click/auc:0.00000 group/click/pos_ratio:0.00000 group/click/top1_score:80.91872 group/click/top3_score:75.88344 group/click/time_auc:0.56380 group/click/weighted_time_auc:0.68390 group/click/top1_best:107.12561 group/click/top3_best:86.62734 group/click/top1_rate:0.75536 group/click/top3_rate:0.87598 group/click/top1_click:1.00000 group/click/top3_click:1.00000 group/click/top1_click_best:1.00000 group/click/top3_click_best:1.00000 group/click/top1_click_rate:1.00000 group/click/top3_click_rate:1.00000 click_ratio:0.11958 time_per_show:8.46435 time_per_click:70.78554 time_per_user:106.04271 version:tuwen'],\n",
       " ['valid_online_abid4,5,6',\n",
       "  '2019111108',\n",
       "  'tuwen',\n",
       "  'pos_ratio:0.12192 auc:0.63430 time_auc:0.63130 weighted_time_auc:0.66711 click/time_auc:0.58495 click/weighted_time_auc:0.56046 group/auc:0.64395 group/pos_ratio:0.16388 group/top1_score:28.07648 group/top3_score:22.35569 group/time_auc:0.64082 group/weighted_time_auc:0.66284 group/top1_best:106.65786 group/top3_best:57.05368 group/top1_rate:0.26324 group/top3_rate:0.39184 group/top1_click:0.32992 group/top3_click:0.28282 group/top1_click_best:1.00000 group/top3_click_best:0.66380 group/top1_click_rate:0.32992 group/top3_click_rate:0.42606 group/click/auc:0.00000 group/click/pos_ratio:0.00000 group/click/top1_score:80.74375 group/click/top3_score:75.28551 group/click/time_auc:0.56053 group/click/weighted_time_auc:0.67663 group/click/top1_best:106.65786 group/click/top3_best:85.94985 group/click/top1_rate:0.75704 group/click/top3_rate:0.87592 group/click/top1_click:1.00000 group/click/top3_click:1.00000 group/click/top1_click_best:1.00000 group/click/top3_click_best:1.00000 group/click/top1_click_rate:1.00000 group/click/top3_click_rate:1.00000 click_ratio:0.12192 time_per_show:8.62310 time_per_click:70.72868 time_per_user:103.28437 version:tuwen'],\n",
       " ['valid_online_abid4,5,6',\n",
       "  '2019111107',\n",
       "  'tuwen',\n",
       "  'pos_ratio:0.11981 auc:0.63499 time_auc:0.63183 weighted_time_auc:0.66933 click/time_auc:0.58315 click/weighted_time_auc:0.56545 group/auc:0.64090 group/pos_ratio:0.16454 group/top1_score:27.34976 group/top3_score:23.35567 group/time_auc:0.63537 group/weighted_time_auc:0.65890 group/top1_best:109.04208 group/top3_best:59.78048 group/top1_rate:0.25082 group/top3_rate:0.39069 group/top1_click:0.33246 group/top3_click:0.28988 group/top1_click_best:1.00000 group/top3_click_best:0.67252 group/top1_click_rate:0.33246 group/top3_click_rate:0.43104 group/click/auc:0.00000 group/click/pos_ratio:0.00000 group/click/top1_score:83.87637 group/click/top3_score:78.74103 group/click/time_auc:0.56299 group/click/weighted_time_auc:0.69316 group/click/top1_best:109.04208 group/click/top3_best:88.89068 group/click/top1_rate:0.76921 group/click/top3_rate:0.88582 group/click/top1_click:1.00000 group/click/top3_click:1.00000 group/click/top1_click_best:1.00000 group/click/top3_click_best:1.00000 group/click/top1_click_rate:1.00000 group/click/top3_click_rate:1.00000 click_ratio:0.11981 time_per_show:8.84428 time_per_click:73.82161 time_per_user:104.02211 version:tuwen'],\n",
       " ['valid_online_abid4,5,6',\n",
       "  '2019111112',\n",
       "  'tuwen',\n",
       "  'pos_ratio:0.12255 auc:0.63570 time_auc:0.63177 weighted_time_auc:0.66875 click/time_auc:0.57345 click/weighted_time_auc:0.58103 group/auc:0.63776 group/pos_ratio:0.15911 group/top1_score:26.95937 group/top3_score:22.68215 group/time_auc:0.63403 group/weighted_time_auc:0.65549 group/top1_best:108.45604 group/top3_best:59.17210 group/top1_rate:0.24857 group/top3_rate:0.38333 group/top1_click:0.33211 group/top3_click:0.28099 group/top1_click_best:1.00000 group/top3_click_best:0.67041 group/top1_click_rate:0.33211 group/top3_click_rate:0.41913 group/click/auc:0.00000 group/click/pos_ratio:0.00000 group/click/top1_score:81.03758 group/click/top3_score:76.87612 group/click/time_auc:0.56153 group/click/weighted_time_auc:0.67929 group/click/top1_best:108.45604 group/click/top3_best:88.26218 group/click/top1_rate:0.74719 group/click/top3_rate:0.87100 group/click/top1_click:1.00000 group/click/top3_click:1.00000 group/click/top1_click_best:1.00000 group/click/top3_click_best:1.00000 group/click/top1_click_rate:1.00000 group/click/top3_click_rate:1.00000 click_ratio:0.12255 time_per_show:8.82273 time_per_click:71.99018 time_per_user:114.28060 version:tuwen'],\n",
       " ['valid_online_abid4,5,6',\n",
       "  '2019111113',\n",
       "  'tuwen',\n",
       "  'pos_ratio:0.12447 auc:0.63318 time_auc:0.63024 weighted_time_auc:0.66831 click/time_auc:0.58641 click/weighted_time_auc:0.57109 group/auc:0.63467 group/pos_ratio:0.15962 group/top1_score:26.57561 group/top3_score:22.30962 group/time_auc:0.63094 group/weighted_time_auc:0.65478 group/top1_best:107.78224 group/top3_best:58.70144 group/top1_rate:0.24657 group/top3_rate:0.38005 group/top1_click:0.33108 group/top3_click:0.28381 group/top1_click_best:1.00000 group/top3_click_best:0.67330 group/top1_click_rate:0.33108 group/top3_click_rate:0.42153 group/click/auc:0.00000 group/click/pos_ratio:0.00000 group/click/top1_score:80.73589 group/click/top3_score:76.02958 group/click/time_auc:0.56572 group/click/weighted_time_auc:0.68318 group/click/top1_best:107.78224 group/click/top3_best:87.18517 group/click/top1_rate:0.74906 group/click/top3_rate:0.87205 group/click/top1_click:1.00000 group/click/top3_click:1.00000 group/click/top1_click_best:1.00000 group/click/top3_click_best:1.00000 group/click/top1_click_rate:1.00000 group/click/top3_click_rate:1.00000 click_ratio:0.12447 time_per_show:8.74147 time_per_click:70.23135 time_per_user:116.70240 version:tuwen'],\n",
       " ['valid_online_abid4,5,6',\n",
       "  '2019111114',\n",
       "  'tuwen',\n",
       "  'pos_ratio:0.11650 auc:0.61526 time_auc:0.61410 weighted_time_auc:0.65637 click/time_auc:0.59399 click/weighted_time_auc:0.57457 group/auc:0.62489 group/pos_ratio:0.15619 group/top1_score:25.54366 group/top3_score:21.71583 group/time_auc:0.62235 group/weighted_time_auc:0.64634 group/top1_best:107.31622 group/top3_best:58.37656 group/top1_rate:0.23802 group/top3_rate:0.37200 group/top1_click:0.31065 group/top3_click:0.27090 group/top1_click_best:1.00000 group/top3_click_best:0.66596 group/top1_click_rate:0.31065 group/top3_click_rate:0.40678 group/click/auc:0.00000 group/click/pos_ratio:0.00000 group/click/top1_score:81.06170 group/click/top3_score:76.34809 group/click/time_auc:0.56541 group/click/weighted_time_auc:0.68750 group/click/top1_best:107.31622 group/click/top3_best:87.65795 group/click/top1_rate:0.75535 group/click/top3_rate:0.87098 group/click/top1_click:1.00000 group/click/top3_click:1.00000 group/click/top1_click_best:1.00000 group/click/top3_click_best:1.00000 group/click/top1_click_rate:1.00000 group/click/top3_click_rate:1.00000 click_ratio:0.11650 time_per_show:8.29028 time_per_click:71.16161 time_per_user:104.79969 version:tuwen'],\n",
       " ['valid_online_abid4,5,6',\n",
       "  '2019111115',\n",
       "  'tuwen',\n",
       "  'pos_ratio:0.11445 auc:0.62381 time_auc:0.62242 weighted_time_auc:0.67451 click/time_auc:0.59622 click/weighted_time_auc:0.58728 group/auc:0.63116 group/pos_ratio:0.15252 group/top1_score:26.36375 group/top3_score:21.87168 group/time_auc:0.63065 group/weighted_time_auc:0.65243 group/top1_best:108.44843 group/top3_best:58.69171 group/top1_rate:0.24310 group/top3_rate:0.37265 group/top1_click:0.30713 group/top3_click:0.27033 group/top1_click_best:1.00000 group/top3_click_best:0.67413 group/top1_click_rate:0.30713 group/top3_click_rate:0.40100 group/click/auc:0.00000 group/click/pos_ratio:0.00000 group/click/top1_score:81.53522 group/click/top3_score:75.90516 group/click/time_auc:0.57156 group/click/weighted_time_auc:0.68788 group/click/top1_best:108.44843 group/click/top3_best:87.06231 group/click/top1_rate:0.75183 group/click/top3_rate:0.87185 group/click/top1_click:1.00000 group/click/top3_click:1.00000 group/click/top1_click_best:1.00000 group/click/top3_click_best:1.00000 group/click/top1_click_rate:1.00000 group/click/top3_click_rate:1.00000 click_ratio:0.11445 time_per_show:7.91301 time_per_click:69.14034 time_per_user:104.10715 version:tuwen'],\n",
       " ['valid_online_abid4,5,6',\n",
       "  '2019111103',\n",
       "  'tuwen',\n",
       "  'pos_ratio:0.00529 auc:0.56044 time_auc:0.56061 weighted_time_auc:0.61153 click/time_auc:0.59668 click/weighted_time_auc:0.48414 group/auc:0.61495 group/pos_ratio:0.10718 group/top1_score:13.32852 group/top3_score:13.73732 group/time_auc:0.61110 group/weighted_time_auc:0.63296 group/top1_best:89.26210 group/top3_best:50.66349 group/top1_rate:0.14932 group/top3_rate:0.27115 group/top1_click:0.25308 group/top3_click:0.24681 group/top1_click_best:1.00000 group/top3_click_best:0.67775 group/top1_click_rate:0.25308 group/top3_click_rate:0.36416 group/click/auc:0.00000 group/click/pos_ratio:0.00000 group/click/top1_score:68.72047 group/click/top3_score:65.81859 group/click/time_auc:0.54113 group/click/weighted_time_auc:0.68955 group/click/top1_best:89.26210 group/click/top3_best:74.75248 group/click/top1_rate:0.76987 group/click/top3_rate:0.88049 group/click/top1_click:1.00000 group/click/top3_click:1.00000 group/click/top1_click_best:1.00000 group/click/top3_click_best:1.00000 group/click/top1_click_rate:1.00000 group/click/top3_click_rate:1.00000 click_ratio:0.00529 time_per_show:0.34657 time_per_click:65.48648 time_per_user:5.68626 version:tuwen'],\n",
       " ['valid_online_abid4,5,6',\n",
       "  '2019111116',\n",
       "  'tuwen',\n",
       "  'pos_ratio:0.11213 auc:0.61160 time_auc:0.61074 weighted_time_auc:0.65192 click/time_auc:0.59361 click/weighted_time_auc:0.56110 group/auc:0.62271 group/pos_ratio:0.15296 group/top1_score:23.90784 group/top3_score:20.33977 group/time_auc:0.62150 group/weighted_time_auc:0.64542 group/top1_best:106.83524 group/top3_best:57.78629 group/top1_rate:0.22378 group/top3_rate:0.35198 group/top1_click:0.30405 group/top3_click:0.26116 group/top1_click_best:1.00000 group/top3_click_best:0.66643 group/top1_click_rate:0.30405 group/top3_click_rate:0.39187 group/click/auc:0.00000 group/click/pos_ratio:0.00000 group/click/top1_score:79.42118 group/click/top3_score:75.68239 group/click/time_auc:0.57072 group/click/weighted_time_auc:0.68490 group/click/top1_best:106.83524 group/click/top3_best:86.70994 group/click/top1_rate:0.74340 group/click/top3_rate:0.87282 group/click/top1_click:1.00000 group/click/top3_click:1.00000 group/click/top1_click_best:1.00000 group/click/top3_click_best:1.00000 group/click/top1_click_rate:1.00000 group/click/top3_click_rate:1.00000 click_ratio:0.11213 time_per_show:7.86469 time_per_click:70.14101 time_per_user:99.45794 version:tuwen'],\n",
       " ['valid_online_abid4,5,6',\n",
       "  '2019111117',\n",
       "  'tuwen',\n",
       "  'pos_ratio:0.11077 auc:0.61262 time_auc:0.61199 weighted_time_auc:0.65699 click/time_auc:0.59881 click/weighted_time_auc:0.56984 group/auc:0.62483 group/pos_ratio:0.15349 group/top1_score:22.67545 group/top3_score:20.36284 group/time_auc:0.62265 group/weighted_time_auc:0.64617 group/top1_best:103.69137 group/top3_best:55.75433 group/top1_rate:0.21868 group/top3_rate:0.36522 group/top1_click:0.29849 group/top3_click:0.26337 group/top1_click_best:1.00000 group/top3_click_best:0.66176 group/top1_click_rate:0.29849 group/top3_click_rate:0.39799 group/click/auc:0.00000 group/click/pos_ratio:0.00000 group/click/top1_score:77.34628 group/click/top3_score:73.89835 group/click/time_auc:0.57424 group/click/weighted_time_auc:0.68860 group/click/top1_best:103.69137 group/click/top3_best:84.25098 group/click/top1_rate:0.74593 group/click/top3_rate:0.87712 group/click/top1_click:1.00000 group/click/top3_click:1.00000 group/click/top1_click_best:1.00000 group/click/top3_click_best:1.00000 group/click/top1_click_rate:1.00000 group/click/top3_click_rate:1.00000 click_ratio:0.11077 time_per_show:7.50341 time_per_click:67.73651 time_per_user:93.05338 version:tuwen'],\n",
       " ['valid_online_abid4,5,6',\n",
       "  '2019111118',\n",
       "  'tuwen',\n",
       "  'pos_ratio:0.11133 auc:0.62303 time_auc:0.62085 weighted_time_auc:0.65570 click/time_auc:0.58268 click/weighted_time_auc:0.55378 group/auc:0.62520 group/pos_ratio:0.15120 group/top1_score:25.35543 group/top3_score:21.14615 group/time_auc:0.62197 group/weighted_time_auc:0.64804 group/top1_best:109.43008 group/top3_best:59.29023 group/top1_rate:0.23170 group/top3_rate:0.35665 group/top1_click:0.30151 group/top3_click:0.26007 group/top1_click_best:1.00000 group/top3_click_best:0.66947 group/top1_click_rate:0.30151 group/top3_click_rate:0.38847 group/click/auc:0.00000 group/click/pos_ratio:0.00000 group/click/top1_score:81.40550 group/click/top3_score:77.01357 group/click/time_auc:0.57065 group/click/weighted_time_auc:0.68701 group/click/top1_best:109.43008 group/click/top3_best:88.56281 group/click/top1_rate:0.74390 group/click/top3_rate:0.86959 group/click/top1_click:1.00000 group/click/top3_click:1.00000 group/click/top1_click_best:1.00000 group/click/top3_click_best:1.00000 group/click/top1_click_rate:1.00000 group/click/top3_click_rate:1.00000 click_ratio:0.11133 time_per_show:7.87925 time_per_click:70.77160 time_per_user:102.30580 version:tuwen'],\n",
       " ['valid_online_abid4,5,6',\n",
       "  '2019111119',\n",
       "  'tuwen',\n",
       "  'pos_ratio:0.11571 auc:0.62376 time_auc:0.62183 weighted_time_auc:0.66641 click/time_auc:0.58887 click/weighted_time_auc:0.57691 group/auc:0.61855 group/pos_ratio:0.15387 group/top1_score:26.02020 group/top3_score:21.72272 group/time_auc:0.61545 group/weighted_time_auc:0.64102 group/top1_best:114.30168 group/top3_best:62.62883 group/top1_rate:0.22764 group/top3_rate:0.34685 group/top1_click:0.29324 group/top3_click:0.25650 group/top1_click_best:1.00000 group/top3_click_best:0.67901 group/top1_click_rate:0.29324 group/top3_click_rate:0.37775 group/click/auc:0.00000 group/click/pos_ratio:0.00000 group/click/top1_score:83.82788 group/click/top3_score:79.52234 group/click/time_auc:0.56539 group/click/weighted_time_auc:0.67925 group/click/top1_best:114.30168 group/click/top3_best:92.23533 group/click/top1_rate:0.73339 group/click/top3_rate:0.86217 group/click/top1_click:1.00000 group/click/top3_click:1.00000 group/click/top1_click_best:1.00000 group/click/top3_click_best:1.00000 group/click/top1_click_rate:1.00000 group/click/top3_click_rate:1.00000 click_ratio:0.11571 time_per_show:8.38692 time_per_click:72.48421 time_per_user:113.28318 version:tuwen'],\n",
       " ['valid_online_abid4,5,6',\n",
       "  '2019111120',\n",
       "  'tuwen',\n",
       "  'pos_ratio:0.11645 auc:0.62625 time_auc:0.62345 weighted_time_auc:0.65912 click/time_auc:0.57807 click/weighted_time_auc:0.56166 group/auc:0.61595 group/pos_ratio:0.15283 group/top1_score:24.41088 group/top3_score:21.52541 group/time_auc:0.61535 group/weighted_time_auc:0.63623 group/top1_best:116.50358 group/top3_best:64.23281 group/top1_rate:0.20953 group/top3_rate:0.33512 group/top1_click:0.28461 group/top3_click:0.25447 group/top1_click_best:1.00000 group/top3_click_best:0.67833 group/top1_click_rate:0.28461 group/top3_click_rate:0.37514 group/click/auc:0.00000 group/click/pos_ratio:0.00000 group/click/top1_score:84.42338 group/click/top3_score:80.73746 group/click/time_auc:0.55887 group/click/weighted_time_auc:0.67134 group/click/top1_best:116.50358 group/click/top3_best:94.69283 group/click/top1_rate:0.72464 group/click/top3_rate:0.85262 group/click/top1_click:1.00000 group/click/top3_click:1.00000 group/click/top1_click_best:1.00000 group/click/top3_click_best:1.00000 group/click/top1_click_rate:1.00000 group/click/top3_click_rate:1.00000 click_ratio:0.11645 time_per_show:8.59131 time_per_click:73.77787 time_per_user:119.27238 version:tuwen'],\n",
       " ['valid_online_abid4,5,6',\n",
       "  '2019111121',\n",
       "  'tuwen',\n",
       "  'pos_ratio:0.11728 auc:0.63148 time_auc:0.62829 weighted_time_auc:0.66441 click/time_auc:0.57717 click/weighted_time_auc:0.57020 group/auc:0.61634 group/pos_ratio:0.15164 group/top1_score:24.17177 group/top3_score:22.01639 group/time_auc:0.61398 group/weighted_time_auc:0.63660 group/top1_best:118.39412 group/top3_best:65.21260 group/top1_rate:0.20416 group/top3_rate:0.33761 group/top1_click:0.28554 group/top3_click:0.25347 group/top1_click_best:1.00000 group/top3_click_best:0.68062 group/top1_click_rate:0.28554 group/top3_click_rate:0.37241 group/click/auc:0.00000 group/click/pos_ratio:0.00000 group/click/top1_score:85.58830 group/click/top3_score:81.55721 group/click/time_auc:0.56192 group/click/weighted_time_auc:0.67820 group/click/top1_best:118.39412 group/click/top3_best:95.81334 group/click/top1_rate:0.72291 group/click/top3_rate:0.85121 group/click/top1_click:1.00000 group/click/top3_click:1.00000 group/click/top1_click_best:1.00000 group/click/top3_click_best:1.00000 group/click/top1_click_rate:1.00000 group/click/top3_click_rate:1.00000 click_ratio:0.11728 time_per_show:8.72564 time_per_click:74.39937 time_per_user:126.47628 version:tuwen'],\n",
       " ['valid_online_abid4,5,6',\n",
       "  '2019111122',\n",
       "  'tuwen',\n",
       "  'pos_ratio:0.11784 auc:0.63123 time_auc:0.62724 weighted_time_auc:0.65076 click/time_auc:0.56534 click/weighted_time_auc:0.55511 group/auc:0.61465 group/pos_ratio:0.14933 group/top1_score:21.14071 group/top3_score:19.76560 group/time_auc:0.61287 group/weighted_time_auc:0.63029 group/top1_best:118.18060 group/top3_best:66.48304 group/top1_rate:0.17888 group/top3_rate:0.29730 group/top1_click:0.25205 group/top3_click:0.23699 group/top1_click_best:1.00000 group/top3_click_best:0.68656 group/top1_click_rate:0.25205 group/top3_click_rate:0.34519 group/click/auc:0.00000 group/click/pos_ratio:0.00000 group/click/top1_score:83.55165 group/click/top3_score:81.66207 group/click/time_auc:0.55008 group/click/weighted_time_auc:0.66811 group/click/top1_best:118.18060 group/click/top3_best:96.83523 group/click/top1_rate:0.70698 group/click/top3_rate:0.84331 group/click/top1_click:1.00000 group/click/top3_click:1.00000 group/click/top1_click_best:1.00000 group/click/top3_click_best:1.00000 group/click/top1_click_rate:1.00000 group/click/top3_click_rate:1.00000 click_ratio:0.11784 time_per_show:8.93365 time_per_click:75.81071 time_per_user:131.25193 version:tuwen'],\n",
       " ['valid_online_abid4,5,6',\n",
       "  '2019111123',\n",
       "  'tuwen',\n",
       "  'pos_ratio:0.11979 auc:0.63666 time_auc:0.63243 weighted_time_auc:0.66572 click/time_auc:0.56843 click/weighted_time_auc:0.58601 group/auc:0.62343 group/pos_ratio:0.15249 group/top1_score:24.13630 group/top3_score:20.97554 group/time_auc:0.62191 group/weighted_time_auc:0.64051 group/top1_best:115.86925 group/top3_best:64.76421 group/top1_rate:0.20831 group/top3_rate:0.32388 group/top1_click:0.27304 group/top3_click:0.24728 group/top1_click_best:1.00000 group/top3_click_best:0.68429 group/top1_click_rate:0.27304 group/top3_click_rate:0.36136 group/click/auc:0.00000 group/click/pos_ratio:0.00000 group/click/top1_score:84.09629 group/click/top3_score:80.14471 group/click/time_auc:0.55650 group/click/weighted_time_auc:0.67759 group/click/top1_best:115.86925 group/click/top3_best:94.64406 group/click/top1_rate:0.72579 group/click/top3_rate:0.84680 group/click/top1_click:1.00000 group/click/top3_click:1.00000 group/click/top1_click_best:1.00000 group/click/top3_click_best:1.00000 group/click/top1_click_rate:1.00000 group/click/top3_click_rate:1.00000 click_ratio:0.11979 time_per_show:8.82043 time_per_click:73.63322 time_per_user:128.58620 version:tuwen'],\n",
       " ['valid_online_abid4,5,6',\n",
       "  '2019111200',\n",
       "  'tuwen',\n",
       "  'pos_ratio:0.12378 auc:0.63563 time_auc:0.63229 weighted_time_auc:0.66748 click/time_auc:0.58191 click/weighted_time_auc:0.55246 group/auc:0.63101 group/pos_ratio:0.15717 group/top1_score:21.11442 group/top3_score:19.48401 group/time_auc:0.62554 group/weighted_time_auc:0.65320 group/top1_best:102.39648 group/top3_best:57.09953 group/top1_rate:0.20620 group/top3_rate:0.34123 group/top1_click:0.28343 group/top3_click:0.26785 group/top1_click_best:1.00000 group/top3_click_best:0.68747 group/top1_click_rate:0.28343 group/top3_click_rate:0.38962 group/click/auc:0.00000 group/click/pos_ratio:0.00000 group/click/top1_score:75.44813 group/click/top3_score:71.42001 group/click/time_auc:0.56064 group/click/weighted_time_auc:0.69027 group/click/top1_best:102.39648 group/click/top3_best:83.05730 group/click/top1_rate:0.73682 group/click/top3_rate:0.85989 group/click/top1_click:1.00000 group/click/top3_click:1.00000 group/click/top1_click_best:1.00000 group/click/top3_click_best:1.00000 group/click/top1_click_rate:1.00000 group/click/top3_click_rate:1.00000 click_ratio:0.12378 time_per_show:8.38451 time_per_click:67.73745 time_per_user:113.55750 version:tuwen'],\n",
       " ['valid_online_abid4,5,6',\n",
       "  '2019111201',\n",
       "  'tuwen',\n",
       "  'pos_ratio:0.13267 auc:0.64768 time_auc:0.64463 weighted_time_auc:0.68181 click/time_auc:0.59779 click/weighted_time_auc:0.53259 group/auc:0.63863 group/pos_ratio:0.16224 group/top1_score:22.13717 group/top3_score:19.46166 group/time_auc:0.63291 group/weighted_time_auc:0.65844 group/top1_best:96.41462 group/top3_best:56.00308 group/top1_rate:0.22960 group/top3_rate:0.34751 group/top1_click:0.31625 group/top3_click:0.29325 group/top1_click_best:1.00000 group/top3_click_best:0.69802 group/top1_click_rate:0.31625 group/top3_click_rate:0.42012 group/click/auc:0.00000 group/click/pos_ratio:0.00000 group/click/top1_score:69.85088 group/click/top3_score:67.60047 group/click/time_auc:0.55232 group/click/weighted_time_auc:0.68906 group/click/top1_best:96.41462 group/click/top3_best:80.23110 group/click/top1_rate:0.72448 group/click/top3_rate:0.84257 group/click/top1_click:1.00000 group/click/top3_click:1.00000 group/click/top1_click_best:1.00000 group/click/top3_click_best:1.00000 group/click/top1_click_rate:1.00000 group/click/top3_click_rate:1.00000 click_ratio:0.13267 time_per_show:8.96538 time_per_click:67.57789 time_per_user:123.73761 version:tuwen'],\n",
       " ['valid_online_abid4,5,6',\n",
       "  '2019111202',\n",
       "  'tuwen',\n",
       "  'pos_ratio:0.13453 auc:0.65441 time_auc:0.65118 weighted_time_auc:0.69768 click/time_auc:0.60145 click/weighted_time_auc:0.54031 group/auc:0.64290 group/pos_ratio:0.16106 group/top1_score:21.65043 group/top3_score:18.61529 group/time_auc:0.63412 group/weighted_time_auc:0.66609 group/top1_best:85.59627 group/top3_best:48.46361 group/top1_rate:0.25294 group/top3_rate:0.38411 group/top1_click:0.33318 group/top3_click:0.30657 group/top1_click_best:1.00000 group/top3_click_best:0.67633 group/top1_click_rate:0.33318 group/top3_click_rate:0.45329 group/click/auc:0.00000 group/click/pos_ratio:0.00000 group/click/top1_score:64.99499 group/click/top3_score:62.33526 group/click/time_auc:0.56372 group/click/weighted_time_auc:0.71153 group/click/top1_best:85.59627 group/click/top3_best:71.65692 group/click/top1_rate:0.75932 group/click/top3_rate:0.86991 group/click/top1_click:1.00000 group/click/top3_click:1.00000 group/click/top1_click_best:1.00000 group/click/top3_click_best:1.00000 group/click/top1_click_rate:1.00000 group/click/top3_click_rate:1.00000 click_ratio:0.13453 time_per_show:8.51055 time_per_click:63.26268 time_per_user:115.44167 version:tuwen'],\n",
       " ['valid_online_abid4,5,6',\n",
       "  '2019111203',\n",
       "  'tuwen',\n",
       "  'pos_ratio:0.12767 auc:0.67080 time_auc:0.66919 weighted_time_auc:0.69706 click/time_auc:0.59458 click/weighted_time_auc:0.48769 group/auc:0.64363 group/pos_ratio:0.15134 group/top1_score:23.40403 group/top3_score:19.81326 group/time_auc:0.62327 group/weighted_time_auc:0.66331 group/top1_best:88.36620 group/top3_best:49.53001 group/top1_rate:0.26485 group/top3_rate:0.40003 group/top1_click:0.33416 group/top3_click:0.30283 group/top1_click_best:1.00000 group/top3_click_best:0.67695 group/top1_click_rate:0.33416 group/top3_click_rate:0.44734 group/click/auc:0.00000 group/click/pos_ratio:0.00000 group/click/top1_score:67.29357 group/click/top3_score:64.16671 group/click/time_auc:0.55208 group/click/weighted_time_auc:0.69831 group/click/top1_best:88.36620 group/click/top3_best:73.16658 group/click/top1_rate:0.76153 group/click/top3_rate:0.87699 group/click/top1_click:1.00000 group/click/top3_click:1.00000 group/click/top1_click_best:1.00000 group/click/top3_click_best:1.00000 group/click/top1_click_rate:1.00000 group/click/top3_click_rate:1.00000 click_ratio:0.12767 time_per_show:8.28451 time_per_click:64.89095 time_per_user:119.11221 version:tuwen'],\n",
       " ['valid_online_abid4,5,6',\n",
       "  '2019111204',\n",
       "  'tuwen',\n",
       "  'pos_ratio:0.14505 auc:0.67070 time_auc:0.66599 weighted_time_auc:0.70768 click/time_auc:0.59859 click/weighted_time_auc:0.52552 group/auc:0.64836 group/pos_ratio:0.16979 group/top1_score:27.34094 group/top3_score:23.23098 group/time_auc:0.63950 group/weighted_time_auc:0.66939 group/top1_best:94.21575 group/top3_best:55.62090 group/top1_rate:0.29020 group/top3_rate:0.41767 group/top1_click:0.34633 group/top3_click:0.31959 group/top1_click_best:1.00000 group/top3_click_best:0.69277 group/top1_click_rate:0.34633 group/top3_click_rate:0.46133 group/click/auc:0.00000 group/click/pos_ratio:0.00000 group/click/top1_score:73.21473 group/click/top3_score:70.38299 group/click/time_auc:0.54998 group/click/weighted_time_auc:0.70709 group/click/top1_best:94.21575 group/click/top3_best:80.28768 group/click/top1_rate:0.77710 group/click/top3_rate:0.87664 group/click/top1_click:1.00000 group/click/top3_click:1.00000 group/click/top1_click_best:1.00000 group/click/top3_click_best:1.00000 group/click/top1_click_rate:1.00000 group/click/top3_click_rate:1.00000 click_ratio:0.14505 time_per_show:10.14842 time_per_click:69.96260 time_per_user:142.45123 version:tuwen'],\n",
       " ['valid_online_abid4,5,6',\n",
       "  '2019111205',\n",
       "  'tuwen',\n",
       "  'pos_ratio:0.14190 auc:0.66339 time_auc:0.65827 weighted_time_auc:0.68239 click/time_auc:0.58967 click/weighted_time_auc:0.50719 group/auc:0.64897 group/pos_ratio:0.17238 group/top1_score:31.81822 group/top3_score:26.31963 group/time_auc:0.63774 group/weighted_time_auc:0.66688 group/top1_best:115.89124 group/top3_best:63.66647 group/top1_rate:0.27455 group/top3_rate:0.41340 group/top1_click:0.37183 group/top3_click:0.32234 group/top1_click_best:1.00000 group/top3_click_best:0.68622 group/top1_click_rate:0.37183 group/top3_click_rate:0.46973 group/click/auc:0.00000 group/click/pos_ratio:0.00000 group/click/top1_score:88.20849 group/click/top3_score:80.95023 group/click/time_auc:0.55082 group/click/weighted_time_auc:0.69595 group/click/top1_best:115.89124 group/click/top3_best:92.77882 group/click/top1_rate:0.76113 group/click/top3_rate:0.87251 group/click/top1_click:1.00000 group/click/top3_click:1.00000 group/click/top1_click_best:1.00000 group/click/top3_click_best:1.00000 group/click/top1_click_rate:1.00000 group/click/top3_click_rate:1.00000 click_ratio:0.14190 time_per_show:11.04751 time_per_click:77.85249 time_per_user:146.38506 version:tuwen'],\n",
       " ['valid_online_abid4,5,6',\n",
       "  '2019111206',\n",
       "  'tuwen',\n",
       "  'pos_ratio:0.13339 auc:0.64051 time_auc:0.63643 weighted_time_auc:0.67532 click/time_auc:0.57975 click/weighted_time_auc:0.56610 group/auc:0.64595 group/pos_ratio:0.17207 group/top1_score:32.16445 group/top3_score:25.82356 group/time_auc:0.64006 group/weighted_time_auc:0.66708 group/top1_best:112.73383 group/top3_best:62.70521 group/top1_rate:0.28531 group/top3_rate:0.41182 group/top1_click:0.35049 group/top3_click:0.30399 group/top1_click_best:1.00000 group/top3_click_best:0.68097 group/top1_click_rate:0.35049 group/top3_click_rate:0.44641 group/click/auc:0.00000 group/click/pos_ratio:0.00000 group/click/top1_score:86.58973 group/click/top3_score:81.55326 group/click/time_auc:0.57012 group/click/weighted_time_auc:0.70648 group/click/top1_best:112.73383 group/click/top3_best:92.08285 group/click/top1_rate:0.76809 group/click/top3_rate:0.88565 group/click/top1_click:1.00000 group/click/top3_click:1.00000 group/click/top1_click_best:1.00000 group/click/top3_click_best:1.00000 group/click/top1_click_rate:1.00000 group/click/top3_click_rate:1.00000 click_ratio:0.13339 time_per_show:10.15225 time_per_click:76.10731 time_per_user:125.58082 version:tuwen'],\n",
       " ['valid_online_abid4,5,6',\n",
       "  '2019111207',\n",
       "  'tuwen',\n",
       "  'pos_ratio:0.12570 auc:0.64487 time_auc:0.64075 weighted_time_auc:0.67722 click/time_auc:0.58064 click/weighted_time_auc:0.56960 group/auc:0.65943 group/pos_ratio:0.16718 group/top1_score:33.96077 group/top3_score:27.09625 group/time_auc:0.65572 group/weighted_time_auc:0.67859 group/top1_best:117.11136 group/top3_best:63.02603 group/top1_rate:0.28999 group/top3_rate:0.42992 group/top1_click:0.37766 group/top3_click:0.31163 group/top1_click_best:1.00000 group/top3_click_best:0.66506 group/top1_click_rate:0.37766 group/top3_click_rate:0.46858 group/click/auc:0.00000 group/click/pos_ratio:0.00000 group/click/top1_score:89.15626 group/click/top3_score:83.96624 group/click/time_auc:0.56293 group/click/weighted_time_auc:0.69736 group/click/top1_best:117.11136 group/click/top3_best:94.76722 group/click/top1_rate:0.76129 group/click/top3_rate:0.88603 group/click/top1_click:1.00000 group/click/top3_click:1.00000 group/click/top1_click_best:1.00000 group/click/top3_click_best:1.00000 group/click/top1_click_rate:1.00000 group/click/top3_click_rate:1.00000 click_ratio:0.12570 time_per_show:9.89410 time_per_click:78.71149 time_per_user:118.45613 version:tuwen'],\n",
       " ['valid_online_abid4,5,6',\n",
       "  '2019111208',\n",
       "  'tuwen',\n",
       "  'pos_ratio:0.12665 auc:0.63339 time_auc:0.63007 weighted_time_auc:0.67148 click/time_auc:0.58175 click/weighted_time_auc:0.58652 group/auc:0.64935 group/pos_ratio:0.16652 group/top1_score:30.71107 group/top3_score:24.95530 group/time_auc:0.64414 group/weighted_time_auc:0.66928 group/top1_best:109.66947 group/top3_best:60.38105 group/top1_rate:0.28003 group/top3_rate:0.41330 group/top1_click:0.35533 group/top3_click:0.29803 group/top1_click_best:1.00000 group/top3_click_best:0.67002 group/top1_click_rate:0.35533 group/top3_click_rate:0.44480 group/click/auc:0.00000 group/click/pos_ratio:0.00000 group/click/top1_score:83.26793 group/click/top3_score:79.30344 group/click/time_auc:0.56505 group/click/weighted_time_auc:0.69698 group/click/top1_best:109.66947 group/click/top3_best:90.11766 group/click/top1_rate:0.75926 group/click/top3_rate:0.88000 group/click/top1_click:1.00000 group/click/top3_click:1.00000 group/click/top1_click_best:1.00000 group/click/top3_click_best:1.00000 group/click/top1_click_rate:1.00000 group/click/top3_click_rate:1.00000 click_ratio:0.12665 time_per_show:9.47343 time_per_click:74.80195 time_per_user:115.86275 version:tuwen'],\n",
       " ['valid_online_abid4,5,6',\n",
       "  '2019111209',\n",
       "  'tuwen',\n",
       "  'pos_ratio:0.12650 auc:0.62785 time_auc:0.62461 weighted_time_auc:0.66365 click/time_auc:0.57730 click/weighted_time_auc:0.57008 group/auc:0.63328 group/pos_ratio:0.16614 group/top1_score:30.02368 group/top3_score:24.11145 group/time_auc:0.62862 group/weighted_time_auc:0.65410 group/top1_best:111.25885 group/top3_best:60.73877 group/top1_rate:0.26985 group/top3_rate:0.39697 group/top1_click:0.33213 group/top3_click:0.28285 group/top1_click_best:1.00000 group/top3_click_best:0.67004 group/top1_click_rate:0.33213 group/top3_click_rate:0.42214 group/click/auc:0.00000 group/click/pos_ratio:0.00000 group/click/top1_score:84.01877 group/click/top3_score:79.01328 group/click/time_auc:0.56609 group/click/weighted_time_auc:0.68948 group/click/top1_best:111.25885 group/click/top3_best:90.64881 group/click/top1_rate:0.75516 group/click/top3_rate:0.87164 group/click/top1_click:1.00000 group/click/top3_click:1.00000 group/click/top1_click_best:1.00000 group/click/top3_click_best:1.00000 group/click/top1_click_rate:1.00000 group/click/top3_click_rate:1.00000 click_ratio:0.12650 time_per_show:9.39231 time_per_click:74.24814 time_per_user:115.42772 version:tuwen'],\n",
       " ['valid_online_abid4,5,6',\n",
       "  '2019111210',\n",
       "  'tuwen',\n",
       "  'pos_ratio:0.12131 auc:0.64653 time_auc:0.64273 weighted_time_auc:0.68710 click/time_auc:0.58462 click/weighted_time_auc:0.59026 group/auc:0.65329 group/pos_ratio:0.15917 group/top1_score:33.00180 group/top3_score:25.19709 group/time_auc:0.64809 group/weighted_time_auc:0.67454 group/top1_best:111.81039 group/top3_best:60.33515 group/top1_rate:0.29516 group/top3_rate:0.41762 group/top1_click:0.35234 group/top3_click:0.29395 group/top1_click_best:1.00000 group/top3_click_best:0.66577 group/top1_click_rate:0.35234 group/top3_click_rate:0.44152 group/click/auc:0.00000 group/click/pos_ratio:0.00000 group/click/top1_score:85.56360 group/click/top3_score:79.52331 group/click/time_auc:0.56761 group/click/weighted_time_auc:0.69391 group/click/top1_best:111.81039 group/click/top3_best:90.62467 group/click/top1_rate:0.76526 group/click/top3_rate:0.87750 group/click/top1_click:1.00000 group/click/top3_click:1.00000 group/click/top1_click_best:1.00000 group/click/top3_click_best:1.00000 group/click/top1_click_rate:1.00000 group/click/top3_click_rate:1.00000 click_ratio:0.12131 time_per_show:8.93739 time_per_click:73.67534 time_per_user:113.52546 version:tuwen'],\n",
       " ['valid_online_abid4,5,6',\n",
       "  '2019111211',\n",
       "  'tuwen',\n",
       "  'pos_ratio:0.11434 auc:0.63594 time_auc:0.63282 weighted_time_auc:0.67253 click/time_auc:0.58162 click/weighted_time_auc:0.57040 group/auc:0.64535 group/pos_ratio:0.15310 group/top1_score:27.60743 group/top3_score:22.67694 group/time_auc:0.64183 group/weighted_time_auc:0.66668 group/top1_best:111.91471 group/top3_best:59.34535 group/top1_rate:0.24668 group/top3_rate:0.38212 group/top1_click:0.31056 group/top3_click:0.27124 group/top1_click_best:1.00000 group/top3_click_best:0.65334 group/top1_click_rate:0.31056 group/top3_click_rate:0.41516 group/click/auc:0.00000 group/click/pos_ratio:0.00000 group/click/top1_score:82.30141 group/click/top3_score:78.72472 group/click/time_auc:0.57021 group/click/weighted_time_auc:0.69207 group/click/top1_best:111.91471 group/click/top3_best:90.83400 group/click/top1_rate:0.73539 group/click/top3_rate:0.86669 group/click/top1_click:1.00000 group/click/top3_click:1.00000 group/click/top1_click_best:1.00000 group/click/top3_click_best:1.00000 group/click/top1_click_rate:1.00000 group/click/top3_click_rate:1.00000 click_ratio:0.11434 time_per_show:8.51683 time_per_click:74.48454 time_per_user:106.74723 version:tuwen'],\n",
       " ['valid_online_abid4,5,6',\n",
       "  '2019111212',\n",
       "  'tuwen',\n",
       "  'pos_ratio:0.12293 auc:0.64655 time_auc:0.64238 weighted_time_auc:0.68504 click/time_auc:0.58059 click/weighted_time_auc:0.59919 group/auc:0.64825 group/pos_ratio:0.16092 group/top1_score:32.77336 group/top3_score:26.00897 group/time_auc:0.64371 group/weighted_time_auc:0.66820 group/top1_best:115.07574 group/top3_best:62.71386 group/top1_rate:0.28480 group/top3_rate:0.41472 group/top1_click:0.34679 group/top3_click:0.28995 group/top1_click_best:1.00000 group/top3_click_best:0.66419 group/top1_click_rate:0.34679 group/top3_click_rate:0.43655 group/click/auc:0.00000 group/click/pos_ratio:0.00000 group/click/top1_score:87.11705 group/click/top3_score:83.06304 group/click/time_auc:0.56523 group/click/weighted_time_auc:0.69334 group/click/top1_best:115.07574 group/click/top3_best:94.42219 group/click/top1_rate:0.75704 group/click/top3_rate:0.87970 group/click/top1_click:1.00000 group/click/top3_click:1.00000 group/click/top1_click_best:1.00000 group/click/top3_click_best:1.00000 group/click/top1_click_rate:1.00000 group/click/top3_click_rate:1.00000 click_ratio:0.12293 time_per_show:9.48139 time_per_click:77.12704 time_per_user:119.88495 version:tuwen'],\n",
       " ['valid_online_abid4,5,6',\n",
       "  '2019111213',\n",
       "  'tuwen',\n",
       "  'pos_ratio:0.12385 auc:0.64475 time_auc:0.64106 weighted_time_auc:0.68256 click/time_auc:0.58544 click/weighted_time_auc:0.58618 group/auc:0.64080 group/pos_ratio:0.15977 group/top1_score:31.15630 group/top3_score:25.14410 group/time_auc:0.63526 group/weighted_time_auc:0.66150 group/top1_best:114.94866 group/top3_best:63.22335 group/top1_rate:0.27105 group/top3_rate:0.39770 group/top1_click:0.34237 group/top3_click:0.28825 group/top1_click_best:1.00000 group/top3_click_best:0.67419 group/top1_click_rate:0.34237 group/top3_click_rate:0.42755 group/click/auc:0.00000 group/click/pos_ratio:0.00000 group/click/top1_score:86.56968 group/click/top3_score:81.85831 group/click/time_auc:0.56831 group/click/weighted_time_auc:0.69752 group/click/top1_best:114.94866 group/click/top3_best:93.77658 group/click/top1_rate:0.75312 group/click/top3_rate:0.87291 group/click/top1_click:1.00000 group/click/top3_click:1.00000 group/click/top1_click_best:1.00000 group/click/top3_click_best:1.00000 group/click/top1_click_rate:1.00000 group/click/top3_click_rate:1.00000 click_ratio:0.12385 time_per_show:9.42659 time_per_click:76.11270 time_per_user:122.55975 version:tuwen'],\n",
       " ['valid_online_abid4,5,6',\n",
       "  '2019111214',\n",
       "  'tuwen',\n",
       "  'pos_ratio:0.11764 auc:0.63355 time_auc:0.63156 weighted_time_auc:0.68164 click/time_auc:0.59858 click/weighted_time_auc:0.59725 group/auc:0.63604 group/pos_ratio:0.15658 group/top1_score:29.63255 group/top3_score:24.05538 group/time_auc:0.63212 group/weighted_time_auc:0.65880 group/top1_best:110.73203 group/top3_best:59.50175 group/top1_rate:0.26761 group/top3_rate:0.40428 group/top1_click:0.33097 group/top3_click:0.27866 group/top1_click_best:1.00000 group/top3_click_best:0.65844 group/top1_click_rate:0.33097 group/top3_click_rate:0.42322 group/click/auc:0.00000 group/click/pos_ratio:0.00000 group/click/top1_score:84.67860 group/click/top3_score:79.70115 group/click/time_auc:0.57436 group/click/weighted_time_auc:0.70037 group/click/top1_best:110.73203 group/click/top3_best:90.36830 group/click/top1_rate:0.76472 group/click/top3_rate:0.88196 group/click/top1_click:1.00000 group/click/top3_click:1.00000 group/click/top1_click_best:1.00000 group/click/top3_click_best:1.00000 group/click/top1_click_rate:1.00000 group/click/top3_click_rate:1.00000 click_ratio:0.11764 time_per_show:8.64658 time_per_click:73.50283 time_per_user:106.73839 version:tuwen'],\n",
       " ['valid_online_abid4,5,6', '2019111215', 'tuwen'],\n",
       " ['valid_online_abid4,5,6',\n",
       "  '2019111216',\n",
       "  'tuwen',\n",
       "  'pos_ratio:0.10368 auc:0.62746 time_auc:0.62565 weighted_time_auc:0.67052 click/time_auc:0.59139 click/weighted_time_auc:0.58673 group/auc:0.62183 group/pos_ratio:0.14586 group/top1_score:24.24102 group/top3_score:20.91682 group/time_auc:0.61772 group/weighted_time_auc:0.64164 group/top1_best:101.42630 group/top3_best:52.09463 group/top1_rate:0.23900 group/top3_rate:0.40152 group/top1_click:0.29322 group/top3_click:0.25368 group/top1_click_best:1.00000 group/top3_click_best:0.63728 group/top1_click_rate:0.29322 group/top3_click_rate:0.39806 group/click/auc:0.00000 group/click/pos_ratio:0.00000 group/click/top1_score:80.67326 group/click/top3_score:73.59977 group/click/time_auc:0.56869 group/click/weighted_time_auc:0.69559 group/click/top1_best:101.42630 group/click/top3_best:81.74584 group/click/top1_rate:0.79539 group/click/top3_rate:0.90035 group/click/top1_click:1.00000 group/click/top3_click:1.00000 group/click/top1_click_best:1.00000 group/click/top3_click_best:1.00000 group/click/top1_click_rate:1.00000 group/click/top3_click_rate:1.00000 click_ratio:0.10368 time_per_show:6.98777 time_per_click:67.39714 time_per_user:82.95849 version:tuwen'],\n",
       " ['valid_online_abid4,5,6',\n",
       "  '2019111217',\n",
       "  'tuwen',\n",
       "  'pos_ratio:0.11474 auc:0.64132 time_auc:0.63862 weighted_time_auc:0.68640 click/time_auc:0.59403 click/weighted_time_auc:0.58775 group/auc:0.63964 group/pos_ratio:0.15534 group/top1_score:30.35632 group/top3_score:24.06476 group/time_auc:0.63651 group/weighted_time_auc:0.66322 group/top1_best:111.12010 group/top3_best:59.81703 group/top1_rate:0.27318 group/top3_rate:0.40231 group/top1_click:0.33818 group/top3_click:0.28310 group/top1_click_best:1.00000 group/top3_click_best:0.66570 group/top1_click_rate:0.33818 group/top3_click_rate:0.42527 group/click/auc:0.00000 group/click/pos_ratio:0.00000 group/click/top1_score:84.47872 group/click/top3_score:78.92158 group/click/time_auc:0.58009 group/click/weighted_time_auc:0.69423 group/click/top1_best:111.12010 group/click/top3_best:89.85578 group/click/top1_rate:0.76025 group/click/top3_rate:0.87831 group/click/top1_click:1.00000 group/click/top3_click:1.00000 group/click/top1_click_best:1.00000 group/click/top3_click_best:1.00000 group/click/top1_click_rate:1.00000 group/click/top3_click_rate:1.00000 click_ratio:0.11474 time_per_show:8.22860 time_per_click:71.71310 time_per_user:104.65415 version:tuwen'],\n",
       " ['valid_online_abid4,5,6',\n",
       "  '2019111218',\n",
       "  'tuwen',\n",
       "  'pos_ratio:0.11776 auc:0.63807 time_auc:0.63543 weighted_time_auc:0.68207 click/time_auc:0.59339 click/weighted_time_auc:0.59058 group/auc:0.63769 group/pos_ratio:0.15674 group/top1_score:29.82967 group/top3_score:24.05106 group/time_auc:0.63666 group/weighted_time_auc:0.66041 group/top1_best:115.53449 group/top3_best:62.60035 group/top1_rate:0.25819 group/top3_rate:0.38420 group/top1_click:0.32660 group/top3_click:0.27352 group/top1_click_best:1.00000 group/top3_click_best:0.67202 group/top1_click_rate:0.32660 group/top3_click_rate:0.40701 group/click/auc:0.00000 group/click/pos_ratio:0.00000 group/click/top1_score:87.16637 group/click/top3_score:81.53030 group/click/time_auc:0.57394 group/click/weighted_time_auc:0.69839 group/click/top1_best:115.53449 group/click/top3_best:93.15268 group/click/top1_rate:0.75446 group/click/top3_rate:0.87523 group/click/top1_click:1.00000 group/click/top3_click:1.00000 group/click/top1_click_best:1.00000 group/click/top3_click_best:1.00000 group/click/top1_click_rate:1.00000 group/click/top3_click_rate:1.00000 click_ratio:0.11776 time_per_show:8.70720 time_per_click:73.94239 time_per_user:113.51232 version:tuwen'],\n",
       " ['valid_online_abid4,5,6',\n",
       "  '2019111219',\n",
       "  'tuwen',\n",
       "  'pos_ratio:0.12026 auc:0.64288 time_auc:0.63921 weighted_time_auc:0.68040 click/time_auc:0.58264 click/weighted_time_auc:0.57792 group/auc:0.63143 group/pos_ratio:0.15738 group/top1_score:28.76748 group/top3_score:24.14477 group/time_auc:0.63019 group/weighted_time_auc:0.65345 group/top1_best:119.57097 group/top3_best:65.55050 group/top1_rate:0.24059 group/top3_rate:0.36834 group/top1_click:0.30754 group/top3_click:0.26909 group/top1_click_best:1.00000 group/top3_click_best:0.67530 group/top1_click_rate:0.30754 group/top3_click_rate:0.39847 group/click/auc:0.00000 group/click/pos_ratio:0.00000 group/click/top1_score:88.43542 group/click/top3_score:83.64497 group/click/time_auc:0.56783 group/click/weighted_time_auc:0.68863 group/click/top1_best:119.57097 group/click/top3_best:97.06825 group/click/top1_rate:0.73961 group/click/top3_rate:0.86171 group/click/top1_click:1.00000 group/click/top3_click:1.00000 group/click/top1_click_best:1.00000 group/click/top3_click_best:1.00000 group/click/top1_click_rate:1.00000 group/click/top3_click_rate:1.00000 click_ratio:0.12026 time_per_show:9.15642 time_per_click:76.13633 time_per_user:124.41632 version:tuwen'],\n",
       " ['valid_online_abid4,5,6',\n",
       "  '2019111220',\n",
       "  'tuwen',\n",
       "  'pos_ratio:0.12134 auc:0.64829 time_auc:0.64377 weighted_time_auc:0.68241 click/time_auc:0.57631 click/weighted_time_auc:0.58053 group/auc:0.62774 group/pos_ratio:0.15586 group/top1_score:29.74978 group/top3_score:24.48128 group/time_auc:0.62484 group/weighted_time_auc:0.64864 group/top1_best:120.09341 group/top3_best:67.16742 group/top1_rate:0.24772 group/top3_rate:0.36448 group/top1_click:0.32218 group/top3_click:0.27514 group/top1_click_best:1.00000 group/top3_click_best:0.68535 group/top1_click_rate:0.32218 group/top3_click_rate:0.40145 group/click/auc:0.00000 group/click/pos_ratio:0.00000 group/click/top1_score:88.10892 group/click/top3_score:84.05157 group/click/time_auc:0.56750 group/click/weighted_time_auc:0.68611 group/click/top1_best:120.09341 group/click/top3_best:98.00391 group/click/top1_rate:0.73367 group/click/top3_rate:0.85763 group/click/top1_click:1.00000 group/click/top3_click:1.00000 group/click/top1_click_best:1.00000 group/click/top3_click_best:1.00000 group/click/top1_click_rate:1.00000 group/click/top3_click_rate:1.00000 click_ratio:0.12134 time_per_show:9.30492 time_per_click:76.68387 time_per_user:133.64168 version:tuwen'],\n",
       " ['valid_online_abid4,5,6',\n",
       "  '2019111221',\n",
       "  'tuwen',\n",
       "  'pos_ratio:0.12421 auc:0.64450 time_auc:0.63944 weighted_time_auc:0.67099 click/time_auc:0.56614 click/weighted_time_auc:0.57419 group/auc:0.62375 group/pos_ratio:0.15759 group/top1_score:30.58491 group/top3_score:24.64197 group/time_auc:0.62053 group/weighted_time_auc:0.64445 group/top1_best:123.45334 group/top3_best:69.31992 group/top1_rate:0.24774 group/top3_rate:0.35548 group/top1_click:0.32949 group/top3_click:0.27378 group/top1_click_best:1.00000 group/top3_click_best:0.69116 group/top1_click_rate:0.32949 group/top3_click_rate:0.39611 group/click/auc:0.00000 group/click/pos_ratio:0.00000 group/click/top1_score:89.38603 group/click/top3_score:84.72946 group/click/time_auc:0.56171 group/click/weighted_time_auc:0.67957 group/click/top1_best:123.45334 group/click/top3_best:100.29456 group/click/top1_rate:0.72405 group/click/top3_rate:0.84481 group/click/top1_click:1.00000 group/click/top3_click:1.00000 group/click/top1_click_best:1.00000 group/click/top3_click_best:1.00000 group/click/top1_click_rate:1.00000 group/click/top3_click_rate:1.00000 click_ratio:0.12421 time_per_show:9.59078 time_per_click:77.21129 time_per_user:140.41072 version:tuwen'],\n",
       " ['valid_online_abid4,5,6',\n",
       "  '2019111222',\n",
       "  'tuwen',\n",
       "  'pos_ratio:0.13042 auc:0.65122 time_auc:0.64559 weighted_time_auc:0.67885 click/time_auc:0.56885 click/weighted_time_auc:0.58736 group/auc:0.63192 group/pos_ratio:0.16231 group/top1_score:31.16556 group/top3_score:25.56011 group/time_auc:0.62771 group/weighted_time_auc:0.65140 group/top1_best:121.19508 group/top3_best:68.75750 group/top1_rate:0.25715 group/top3_rate:0.37174 group/top1_click:0.34338 group/top3_click:0.28801 group/top1_click_best:1.00000 group/top3_click_best:0.69639 group/top1_click_rate:0.34338 group/top3_click_rate:0.41357 group/click/auc:0.00000 group/click/pos_ratio:0.00000 group/click/top1_score:86.84852 group/click/top3_score:82.91024 group/click/time_auc:0.56101 group/click/weighted_time_auc:0.68206 group/click/top1_best:121.19508 group/click/top3_best:98.73451 group/click/top1_rate:0.71660 group/click/top3_rate:0.83973 group/click/top1_click:1.00000 group/click/top3_click:1.00000 group/click/top1_click_best:1.00000 group/click/top3_click_best:1.00000 group/click/top1_click_rate:1.00000 group/click/top3_click_rate:1.00000 click_ratio:0.13042 time_per_show:9.91472 time_per_click:76.01898 time_per_user:145.96182 version:tuwen'],\n",
       " ['valid_online_abid4,5,6',\n",
       "  '2019111223',\n",
       "  'tuwen',\n",
       "  'pos_ratio:0.12522 auc:0.65570 time_auc:0.64953 weighted_time_auc:0.67685 click/time_auc:0.56159 click/weighted_time_auc:0.58074 group/auc:0.63827 group/pos_ratio:0.15620 group/top1_score:29.95831 group/top3_score:24.53442 group/time_auc:0.63518 group/weighted_time_auc:0.65480 group/top1_best:120.56330 group/top3_best:67.59756 group/top1_rate:0.24849 group/top3_rate:0.36295 group/top1_click:0.33699 group/top3_click:0.28052 group/top1_click_best:1.00000 group/top3_click_best:0.68670 group/top1_click_rate:0.33699 group/top3_click_rate:0.40850 group/click/auc:0.00000 group/click/pos_ratio:0.00000 group/click/top1_score:86.65205 group/click/top3_score:82.50821 group/click/time_auc:0.55885 group/click/weighted_time_auc:0.68344 group/click/top1_best:120.56330 group/click/top3_best:98.43879 group/click/top1_rate:0.71873 group/click/top3_rate:0.83817 group/click/top1_click:1.00000 group/click/top3_click:1.00000 group/click/top1_click_best:1.00000 group/click/top3_click_best:1.00000 group/click/top1_click_rate:1.00000 group/click/top3_click_rate:1.00000 click_ratio:0.12522 time_per_show:9.54231 time_per_click:76.20717 time_per_user:140.93124 version:tuwen'],\n",
       " ['valid_online_abid4,5,6',\n",
       "  '2019111300',\n",
       "  'tuwen',\n",
       "  'pos_ratio:0.13182 auc:0.64219 time_auc:0.63911 weighted_time_auc:0.68275 click/time_auc:0.59641 click/weighted_time_auc:0.58247 group/auc:0.63717 group/pos_ratio:0.16458 group/top1_score:26.22239 group/top3_score:21.79228 group/time_auc:0.63188 group/weighted_time_auc:0.65803 group/top1_best:104.79634 group/top3_best:59.24730 group/top1_rate:0.25022 group/top3_rate:0.36782 group/top1_click:0.33086 group/top3_click:0.28826 group/top1_click_best:1.00000 group/top3_click_best:0.68817 group/top1_click_rate:0.33086 group/top3_click_rate:0.41888 group/click/auc:0.00000 group/click/pos_ratio:0.00000 group/click/top1_score:76.15005 group/click/top3_score:72.94389 group/click/time_auc:0.56187 group/click/weighted_time_auc:0.69277 group/click/top1_best:104.79634 group/click/top3_best:86.09351 group/click/top1_rate:0.72665 group/click/top3_rate:0.84726 group/click/top1_click:1.00000 group/click/top3_click:1.00000 group/click/top1_click_best:1.00000 group/click/top3_click_best:1.00000 group/click/top1_click_rate:1.00000 group/click/top3_click_rate:1.00000 click_ratio:0.13182 time_per_show:9.17021 time_per_click:69.56706 time_per_user:123.25382 version:tuwen'],\n",
       " ['valid_online_abid4,5,6',\n",
       "  '2019111301',\n",
       "  'tuwen',\n",
       "  'pos_ratio:0.13493 auc:0.63765 time_auc:0.63539 weighted_time_auc:0.68058 click/time_auc:0.60045 click/weighted_time_auc:0.55215 group/auc:0.63128 group/pos_ratio:0.16529 group/top1_score:24.55472 group/top3_score:21.04149 group/time_auc:0.62519 group/weighted_time_auc:0.65458 group/top1_best:99.41344 group/top3_best:55.83781 group/top1_rate:0.24700 group/top3_rate:0.37683 group/top1_click:0.32544 group/top3_click:0.29769 group/top1_click_best:1.00000 group/top3_click_best:0.69041 group/top1_click_rate:0.32544 group/top3_click_rate:0.43118 group/click/auc:0.00000 group/click/pos_ratio:0.00000 group/click/top1_score:72.50704 group/click/top3_score:68.51223 group/click/time_auc:0.56573 group/click/weighted_time_auc:0.69608 group/click/top1_best:99.41344 group/click/top3_best:80.87617 group/click/top1_rate:0.72935 group/click/top3_rate:0.84712 group/click/top1_click:1.00000 group/click/top3_click:1.00000 group/click/top1_click_best:1.00000 group/click/top3_click_best:1.00000 group/click/top1_click_rate:1.00000 group/click/top3_click_rate:1.00000 click_ratio:0.13493 time_per_show:9.10502 time_per_click:67.48154 time_per_user:122.04949 version:tuwen'],\n",
       " ['valid_online_abid4,5,6',\n",
       "  '2019111302',\n",
       "  'tuwen',\n",
       "  'pos_ratio:0.13948 auc:0.65104 time_auc:0.64765 weighted_time_auc:0.68372 click/time_auc:0.59636 click/weighted_time_auc:0.50881 group/auc:0.63019 group/pos_ratio:0.16671 group/top1_score:21.14049 group/top3_score:19.45821 group/time_auc:0.61785 group/weighted_time_auc:0.65207 group/top1_best:94.35243 group/top3_best:53.13559 group/top1_rate:0.22406 group/top3_rate:0.36620 group/top1_click:0.32477 group/top3_click:0.30277 group/top1_click_best:1.00000 group/top3_click_best:0.68694 group/top1_click_rate:0.32477 group/top3_click_rate:0.44075 group/click/auc:0.00000 group/click/pos_ratio:0.00000 group/click/top1_score:70.29057 group/click/top3_score:66.17583 group/click/time_auc:0.55905 group/click/weighted_time_auc:0.69886 group/click/top1_best:94.35243 group/click/top3_best:77.35071 group/click/top1_rate:0.74498 group/click/top3_rate:0.85553 group/click/top1_click:1.00000 group/click/top3_click:1.00000 group/click/top1_click_best:1.00000 group/click/top3_click_best:1.00000 group/click/top1_click_rate:1.00000 group/click/top3_click_rate:1.00000 click_ratio:0.13948 time_per_show:9.25293 time_per_click:66.33840 time_per_user:127.25705 version:tuwen'],\n",
       " ['valid_online_abid4,5,6',\n",
       "  '2019111303',\n",
       "  'tuwen',\n",
       "  'pos_ratio:0.14538 auc:0.65358 time_auc:0.65088 weighted_time_auc:0.69332 click/time_auc:0.60431 click/weighted_time_auc:0.49718 group/auc:0.63497 group/pos_ratio:0.17255 group/top1_score:27.60293 group/top3_score:23.43103 group/time_auc:0.62768 group/weighted_time_auc:0.66003 group/top1_best:96.08472 group/top3_best:55.23189 group/top1_rate:0.28728 group/top3_rate:0.42423 group/top1_click:0.35812 group/top3_click:0.31728 group/top1_click_best:1.00000 group/top3_click_best:0.69440 group/top1_click_rate:0.35812 group/top3_click_rate:0.45692 group/click/auc:0.00000 group/click/pos_ratio:0.00000 group/click/top1_score:74.46333 group/click/top3_score:71.24180 group/click/time_auc:0.56087 group/click/weighted_time_auc:0.71124 group/click/top1_best:96.08472 group/click/top3_best:79.53931 group/click/top1_rate:0.77498 group/click/top3_rate:0.89568 group/click/top1_click:1.00000 group/click/top3_click:1.00000 group/click/top1_click_best:1.00000 group/click/top3_click_best:1.00000 group/click/top1_click_rate:1.00000 group/click/top3_click_rate:1.00000 click_ratio:0.14538 time_per_show:10.15764 time_per_click:69.86838 time_per_user:136.13924 version:tuwen'],\n",
       " ['valid_online_abid4,5,6',\n",
       "  '2019111304',\n",
       "  'tuwen',\n",
       "  'pos_ratio:0.14638 auc:0.64452 time_auc:0.64277 weighted_time_auc:0.68481 click/time_auc:0.61074 click/weighted_time_auc:0.50896 group/auc:0.63567 group/pos_ratio:0.17147 group/top1_score:26.61277 group/top3_score:22.89874 group/time_auc:0.62758 group/weighted_time_auc:0.65894 group/top1_best:98.52161 group/top3_best:56.84413 group/top1_rate:0.27012 group/top3_rate:0.40283 group/top1_click:0.34103 group/top3_click:0.31723 group/top1_click_best:1.00000 group/top3_click_best:0.68875 group/top1_click_rate:0.34103 group/top3_click_rate:0.46059 group/click/auc:0.00000 group/click/pos_ratio:0.00000 group/click/top1_score:75.61972 group/click/top3_score:73.12070 group/click/time_auc:0.55370 group/click/weighted_time_auc:0.70297 group/click/top1_best:98.52161 group/click/top3_best:82.53205 group/click/top1_rate:0.76754 group/click/top3_rate:0.88597 group/click/top1_click:1.00000 group/click/top3_click:1.00000 group/click/top1_click_best:1.00000 group/click/top3_click_best:1.00000 group/click/top1_click_rate:1.00000 group/click/top3_click_rate:1.00000 click_ratio:0.14638 time_per_show:10.61709 time_per_click:72.53063 time_per_user:141.99441 version:tuwen'],\n",
       " ['valid_online_abid4,5,6',\n",
       "  '2019111305',\n",
       "  'tuwen',\n",
       "  'pos_ratio:0.14749 auc:0.65023 time_auc:0.64734 weighted_time_auc:0.69493 click/time_auc:0.60607 click/weighted_time_auc:0.57112 group/auc:0.63289 group/pos_ratio:0.17784 group/top1_score:31.34377 group/top3_score:25.74293 group/time_auc:0.62416 group/weighted_time_auc:0.65219 group/top1_best:109.59257 group/top3_best:61.76026 group/top1_rate:0.28600 group/top3_rate:0.41682 group/top1_click:0.36173 group/top3_click:0.31606 group/top1_click_best:1.00000 group/top3_click_best:0.69044 group/top1_click_rate:0.36173 group/top3_click_rate:0.45776 group/click/auc:0.00000 group/click/pos_ratio:0.00000 group/click/top1_score:81.91535 group/click/top3_score:78.04332 group/click/time_auc:0.55377 group/click/weighted_time_auc:0.70070 group/click/top1_best:109.59257 group/click/top3_best:89.45086 group/click/top1_rate:0.74745 group/click/top3_rate:0.87247 group/click/top1_click:1.00000 group/click/top3_click:1.00000 group/click/top1_click_best:1.00000 group/click/top3_click_best:1.00000 group/click/top1_click_rate:1.00000 group/click/top3_click_rate:1.00000 click_ratio:0.14749 time_per_show:11.27796 time_per_click:76.46705 time_per_user:149.50311 version:tuwen'],\n",
       " ['valid_online_abid4,5,6',\n",
       "  '2019111306',\n",
       "  'tuwen',\n",
       "  'pos_ratio:0.13662 auc:0.63601 time_auc:0.63234 weighted_time_auc:0.66676 click/time_auc:0.58215 click/weighted_time_auc:0.55912 group/auc:0.63572 group/pos_ratio:0.17356 group/top1_score:30.62388 group/top3_score:24.97470 group/time_auc:0.62917 group/weighted_time_auc:0.65765 group/top1_best:113.77111 group/top3_best:62.97412 group/top1_rate:0.26917 group/top3_rate:0.39659 group/top1_click:0.34004 group/top3_click:0.29094 group/top1_click_best:1.00000 group/top3_click_best:0.68000 group/top1_click_rate:0.34004 group/top3_click_rate:0.42785 group/click/auc:0.00000 group/click/pos_ratio:0.00000 group/click/top1_score:86.26838 group/click/top3_score:81.08555 group/click/time_auc:0.56422 group/click/weighted_time_auc:0.69585 group/click/top1_best:113.77111 group/click/top3_best:92.60843 group/click/top1_rate:0.75826 group/click/top3_rate:0.87557 group/click/top1_click:1.00000 group/click/top3_click:1.00000 group/click/top1_click_best:1.00000 group/click/top3_click_best:1.00000 group/click/top1_click_rate:1.00000 group/click/top3_click_rate:1.00000 click_ratio:0.13662 time_per_show:10.50722 time_per_click:76.90834 time_per_user:130.74594 version:tuwen'],\n",
       " ['valid_online_abid4,5,6',\n",
       "  '2019111307',\n",
       "  'tuwen',\n",
       "  'pos_ratio:0.12900 auc:0.64427 time_auc:0.63980 weighted_time_auc:0.66767 click/time_auc:0.57672 click/weighted_time_auc:0.55445 group/auc:0.65165 group/pos_ratio:0.16939 group/top1_score:30.96695 group/top3_score:25.40701 group/time_auc:0.64489 group/weighted_time_auc:0.66861 group/top1_best:114.96732 group/top3_best:62.07034 group/top1_rate:0.26935 group/top3_rate:0.40933 group/top1_click:0.36483 group/top3_click:0.30253 group/top1_click_best:1.00000 group/top3_click_best:0.66929 group/top1_click_rate:0.36483 group/top3_click_rate:0.45201 group/click/auc:0.00000 group/click/pos_ratio:0.00000 group/click/top1_score:86.59376 group/click/top3_score:81.03199 group/click/time_auc:0.55759 group/click/weighted_time_auc:0.68572 group/click/top1_best:114.96732 group/click/top3_best:92.74093 group/click/top1_rate:0.75320 group/click/top3_rate:0.87375 group/click/top1_click:1.00000 group/click/top3_click:1.00000 group/click/top1_click_best:1.00000 group/click/top3_click_best:1.00000 group/click/top1_click_rate:1.00000 group/click/top3_click_rate:1.00000 click_ratio:0.12900 time_per_show:9.81126 time_per_click:76.05337 time_per_user:120.59208 version:tuwen'],\n",
       " ['valid_online_abid4,5,6',\n",
       "  '2019111308',\n",
       "  'tuwen',\n",
       "  'pos_ratio:0.12834 auc:0.63448 time_auc:0.63081 weighted_time_auc:0.66907 click/time_auc:0.57831 click/weighted_time_auc:0.58341 group/auc:0.63588 group/pos_ratio:0.16875 group/top1_score:28.54433 group/top3_score:23.97783 group/time_auc:0.62734 group/weighted_time_auc:0.65650 group/top1_best:112.21877 group/top3_best:61.44348 group/top1_rate:0.25436 group/top3_rate:0.39024 group/top1_click:0.32954 group/top3_click:0.28391 group/top1_click_best:1.00000 group/top3_click_best:0.67226 group/top1_click_rate:0.32954 group/top3_click_rate:0.42232 group/click/auc:0.00000 group/click/pos_ratio:0.00000 group/click/top1_score:84.35239 group/click/top3_score:79.54147 group/click/time_auc:0.56394 group/click/weighted_time_auc:0.68801 group/click/top1_best:112.21877 group/click/top3_best:91.39832 group/click/top1_rate:0.75168 group/click/top3_rate:0.87027 group/click/top1_click:1.00000 group/click/top3_click:1.00000 group/click/top1_click_best:1.00000 group/click/top3_click_best:1.00000 group/click/top1_click_rate:1.00000 group/click/top3_click_rate:1.00000 click_ratio:0.12834 time_per_show:9.67425 time_per_click:75.38037 time_per_user:118.29735 version:tuwen'],\n",
       " ['valid_online_abid4,5,6',\n",
       "  '2019111309',\n",
       "  'tuwen',\n",
       "  'pos_ratio:0.12851 auc:0.63536 time_auc:0.63132 weighted_time_auc:0.66442 click/time_auc:0.57379 click/weighted_time_auc:0.55843 group/auc:0.63752 group/pos_ratio:0.16965 group/top1_score:25.62215 group/top3_score:22.29301 group/time_auc:0.63363 group/weighted_time_auc:0.65842 group/top1_best:108.68569 group/top3_best:59.86324 group/top1_rate:0.23575 group/top3_rate:0.37240 group/top1_click:0.32626 group/top3_click:0.28505 group/top1_click_best:1.00000 group/top3_click_best:0.67312 group/top1_click_rate:0.32626 group/top3_click_rate:0.42347 group/click/auc:0.00000 group/click/pos_ratio:0.00000 group/click/top1_score:78.86654 group/click/top3_score:76.97324 group/click/time_auc:0.56142 group/click/weighted_time_auc:0.68743 group/click/top1_best:108.68569 group/click/top3_best:88.93384 group/click/top1_rate:0.72564 group/click/top3_rate:0.86551 group/click/top1_click:1.00000 group/click/top3_click:1.00000 group/click/top1_click_best:1.00000 group/click/top3_click_best:1.00000 group/click/top1_click_rate:1.00000 group/click/top3_click_rate:1.00000 click_ratio:0.12851 time_per_show:9.34787 time_per_click:72.73912 time_per_user:115.03590 version:tuwen'],\n",
       " ['valid_online_abid4,5,6',\n",
       "  '2019111310',\n",
       "  'tuwen',\n",
       "  'pos_ratio:0.12243 auc:0.63197 time_auc:0.62901 weighted_time_auc:0.67147 click/time_auc:0.58377 click/weighted_time_auc:0.58497 group/auc:0.63375 group/pos_ratio:0.16118 group/top1_score:25.61129 group/top3_score:21.94379 group/time_auc:0.63029 group/weighted_time_auc:0.65428 group/top1_best:103.98715 group/top3_best:57.50853 group/top1_rate:0.24629 group/top3_rate:0.38157 group/top1_click:0.32436 group/top3_click:0.28215 group/top1_click_best:1.00000 group/top3_click_best:0.67285 group/top1_click_rate:0.32436 group/top3_click_rate:0.41934 group/click/auc:0.00000 group/click/pos_ratio:0.00000 group/click/top1_score:77.52416 group/click/top3_score:74.03429 group/click/time_auc:0.56244 group/click/weighted_time_auc:0.68725 group/click/top1_best:103.98715 group/click/top3_best:85.46988 group/click/top1_rate:0.74552 group/click/top3_rate:0.86620 group/click/top1_click:1.00000 group/click/top3_click:1.00000 group/click/top1_click_best:1.00000 group/click/top3_click_best:1.00000 group/click/top1_click_rate:1.00000 group/click/top3_click_rate:1.00000 click_ratio:0.12243 time_per_show:8.51397 time_per_click:69.54184 time_per_user:107.87974 version:tuwen'],\n",
       " ['valid_online_abid4,5,6',\n",
       "  '2019111311',\n",
       "  'tuwen',\n",
       "  'pos_ratio:0.11961 auc:0.63231 time_auc:0.62934 weighted_time_auc:0.66649 click/time_auc:0.58257 click/weighted_time_auc:0.57231 group/auc:0.63622 group/pos_ratio:0.16150 group/top1_score:26.45546 group/top3_score:21.79495 group/time_auc:0.62945 group/weighted_time_auc:0.65361 group/top1_best:105.85475 group/top3_best:57.14617 group/top1_rate:0.24992 group/top3_rate:0.38139 group/top1_click:0.33637 group/top3_click:0.28192 group/top1_click_best:1.00000 group/top3_click_best:0.66437 group/top1_click_rate:0.33637 group/top3_click_rate:0.42434 group/click/auc:0.00000 group/click/pos_ratio:0.00000 group/click/top1_score:78.24638 group/click/top3_score:74.74088 group/click/time_auc:0.55593 group/click/weighted_time_auc:0.67964 group/click/top1_best:105.85475 group/click/top3_best:86.01580 group/click/top1_rate:0.73919 group/click/top3_rate:0.86892 group/click/top1_click:1.00000 group/click/top3_click:1.00000 group/click/top1_click_best:1.00000 group/click/top3_click_best:1.00000 group/click/top1_click_rate:1.00000 group/click/top3_click_rate:1.00000 click_ratio:0.11961 time_per_show:8.39628 time_per_click:70.19443 time_per_user:102.35841 version:tuwen'],\n",
       " ['valid_online_abid4,5,6',\n",
       "  '2019111312',\n",
       "  'tuwen',\n",
       "  'pos_ratio:0.12828 auc:0.64068 time_auc:0.63632 weighted_time_auc:0.67142 click/time_auc:0.57476 click/weighted_time_auc:0.57905 group/auc:0.64162 group/pos_ratio:0.16763 group/top1_score:29.43943 group/top3_score:23.83839 group/time_auc:0.63564 group/weighted_time_auc:0.65844 group/top1_best:112.03329 group/top3_best:61.34849 group/top1_rate:0.26277 group/top3_rate:0.38857 group/top1_click:0.35128 group/top3_click:0.29475 group/top1_click_best:1.00000 group/top3_click_best:0.67318 group/top1_click_rate:0.35128 group/top3_click_rate:0.43785 group/click/auc:0.00000 group/click/pos_ratio:0.00000 group/click/top1_score:80.82936 group/click/top3_score:78.43566 group/click/time_auc:0.55217 group/click/weighted_time_auc:0.67572 group/click/top1_best:112.03329 group/click/top3_best:91.13208 group/click/top1_rate:0.72148 group/click/top3_rate:0.86068 group/click/top1_click:1.00000 group/click/top3_click:1.00000 group/click/top1_click_best:1.00000 group/click/top3_click_best:1.00000 group/click/top1_click_rate:1.00000 group/click/top3_click_rate:1.00000 click_ratio:0.12828 time_per_show:9.49320 time_per_click:74.00357 time_per_user:118.95184 version:tuwen'],\n",
       " ['valid_online_abid4,5,6',\n",
       "  '2019111313',\n",
       "  'tuwen',\n",
       "  'pos_ratio:0.13023 auc:0.63600 time_auc:0.63275 weighted_time_auc:0.67511 click/time_auc:0.58680 click/weighted_time_auc:0.58787 group/auc:0.63898 group/pos_ratio:0.16907 group/top1_score:30.60600 group/top3_score:24.43161 group/time_auc:0.63422 group/weighted_time_auc:0.65686 group/top1_best:110.28355 group/top3_best:60.69623 group/top1_rate:0.27752 group/top3_rate:0.40252 group/top1_click:0.36049 group/top3_click:0.29836 group/top1_click_best:1.00000 group/top3_click_best:0.68013 group/top1_click_rate:0.36049 group/top3_click_rate:0.43868 group/click/auc:0.00000 group/click/pos_ratio:0.00000 group/click/top1_score:80.81326 group/click/top3_score:76.67446 group/click/time_auc:0.55889 group/click/weighted_time_auc:0.68453 group/click/top1_best:110.28355 group/click/top3_best:89.24264 group/click/top1_rate:0.73278 group/click/top3_rate:0.85917 group/click/top1_click:1.00000 group/click/top3_click:1.00000 group/click/top1_click_best:1.00000 group/click/top3_click_best:1.00000 group/click/top1_click_rate:1.00000 group/click/top3_click_rate:1.00000 click_ratio:0.13023 time_per_show:9.32669 time_per_click:71.61584 time_per_user:119.37679 version:tuwen'],\n",
       " ['valid_online_abid4,5,6',\n",
       "  '2019111314',\n",
       "  'tuwen',\n",
       "  'pos_ratio:0.12390 auc:0.63095 time_auc:0.62833 weighted_time_auc:0.66828 click/time_auc:0.58837 click/weighted_time_auc:0.57346 group/auc:0.62804 group/pos_ratio:0.16218 group/top1_score:27.08029 group/top3_score:22.78035 group/time_auc:0.62298 group/weighted_time_auc:0.64320 group/top1_best:114.03795 group/top3_best:62.25767 group/top1_rate:0.23747 group/top3_rate:0.36590 group/top1_click:0.32421 group/top3_click:0.27739 group/top1_click_best:1.00000 group/top3_click_best:0.67940 group/top1_click_rate:0.32421 group/top3_click_rate:0.40828 group/click/auc:0.00000 group/click/pos_ratio:0.00000 group/click/top1_score:82.43873 group/click/top3_score:78.72410 group/click/time_auc:0.55468 group/click/weighted_time_auc:0.67607 group/click/top1_best:114.03795 group/click/top3_best:91.63670 group/click/top1_rate:0.72291 group/click/top3_rate:0.85909 group/click/top1_click:1.00000 group/click/top3_click:1.00000 group/click/top1_click_best:1.00000 group/click/top3_click_best:1.00000 group/click/top1_click_rate:1.00000 group/click/top3_click_rate:1.00000 click_ratio:0.12390 time_per_show:9.13000 time_per_click:73.68733 time_per_user:117.41743 version:tuwen'],\n",
       " ['valid_online_abid4,5,6',\n",
       "  '2019111315',\n",
       "  'tuwen',\n",
       "  'pos_ratio:0.12223 auc:0.63361 time_auc:0.63086 weighted_time_auc:0.67255 click/time_auc:0.58877 click/weighted_time_auc:0.58239 group/auc:0.63505 group/pos_ratio:0.16158 group/top1_score:25.81702 group/top3_score:21.94247 group/time_auc:0.63146 group/weighted_time_auc:0.65198 group/top1_best:109.34997 group/top3_best:60.40636 group/top1_rate:0.23610 group/top3_rate:0.36325 group/top1_click:0.31781 group/top3_click:0.27791 group/top1_click_best:1.00000 group/top3_click_best:0.67930 group/top1_click_rate:0.31781 group/top3_click_rate:0.40910 group/click/auc:0.00000 group/click/pos_ratio:0.00000 group/click/top1_score:79.86043 group/click/top3_score:76.13277 group/click/time_auc:0.55519 group/click/weighted_time_auc:0.68392 group/click/top1_best:109.34997 group/click/top3_best:88.92383 group/click/top1_rate:0.73032 group/click/top3_rate:0.85616 group/click/top1_click:1.00000 group/click/top3_click:1.00000 group/click/top1_click_best:1.00000 group/click/top3_click_best:1.00000 group/click/top1_click_rate:1.00000 group/click/top3_click_rate:1.00000 click_ratio:0.12223 time_per_show:8.71064 time_per_click:71.26594 time_per_user:113.38723 version:tuwen'],\n",
       " ['valid_online_abid4,5,6', '2019111316', 'tuwen'],\n",
       " ['valid_online_abid4,5,6',\n",
       "  '2019111317',\n",
       "  'tuwen',\n",
       "  'pos_ratio:0.11460 auc:0.63738 time_auc:0.63425 weighted_time_auc:0.67456 click/time_auc:0.58319 click/weighted_time_auc:0.58615 group/auc:0.63506 group/pos_ratio:0.15598 group/top1_score:25.73927 group/top3_score:22.08319 group/time_auc:0.63305 group/weighted_time_auc:0.65205 group/top1_best:109.48866 group/top3_best:58.99934 group/top1_rate:0.23509 group/top3_rate:0.37430 group/top1_click:0.30183 group/top3_click:0.26696 group/top1_click_best:1.00000 group/top3_click_best:0.66690 group/top1_click_rate:0.30183 group/top3_click_rate:0.40030 group/click/auc:0.00000 group/click/pos_ratio:0.00000 group/click/top1_score:81.51885 group/click/top3_score:77.15603 group/click/time_auc:0.56034 group/click/weighted_time_auc:0.68713 group/click/top1_best:109.48866 group/click/top3_best:88.46747 group/click/top1_rate:0.74454 group/click/top3_rate:0.87214 group/click/top1_click:1.00000 group/click/top3_click:1.00000 group/click/top1_click_best:1.00000 group/click/top3_click_best:1.00000 group/click/top1_click_rate:1.00000 group/click/top3_click_rate:1.00000 click_ratio:0.11460 time_per_show:8.13466 time_per_click:70.98075 time_per_user:101.67394 version:tuwen'],\n",
       " ['valid_online_abid4,5,6',\n",
       "  '2019111318',\n",
       "  'tuwen',\n",
       "  'pos_ratio:0.11740 auc:0.64961 time_auc:0.64539 weighted_time_auc:0.68266 click/time_auc:0.57921 click/weighted_time_auc:0.57926 group/auc:0.63827 group/pos_ratio:0.15769 group/top1_score:29.30712 group/top3_score:24.10778 group/time_auc:0.63414 group/weighted_time_auc:0.65573 group/top1_best:113.60259 group/top3_best:62.32586 group/top1_rate:0.25798 group/top3_rate:0.38680 group/top1_click:0.32845 group/top3_click:0.27996 group/top1_click_best:1.00000 group/top3_click_best:0.67428 group/top1_click_rate:0.32845 group/top3_click_rate:0.41519 group/click/auc:0.00000 group/click/pos_ratio:0.00000 group/click/top1_score:84.89579 group/click/top3_score:79.64431 group/click/time_auc:0.56437 group/click/weighted_time_auc:0.68982 group/click/top1_best:113.60259 group/click/top3_best:92.43256 group/click/top1_rate:0.74731 group/click/top3_rate:0.86165 group/click/top1_click:1.00000 group/click/top3_click:1.00000 group/click/top1_click_best:1.00000 group/click/top3_click_best:1.00000 group/click/top1_click_rate:1.00000 group/click/top3_click_rate:1.00000 click_ratio:0.11740 time_per_show:8.63714 time_per_click:73.56935 time_per_user:111.71756 version:tuwen'],\n",
       " ['valid_online_abid4,5,6',\n",
       "  '2019111319',\n",
       "  'tuwen',\n",
       "  'pos_ratio:0.11682 auc:0.64838 time_auc:0.64426 weighted_time_auc:0.67846 click/time_auc:0.57922 click/weighted_time_auc:0.57274 group/auc:0.63016 group/pos_ratio:0.15441 group/top1_score:27.30147 group/top3_score:22.75737 group/time_auc:0.62682 group/weighted_time_auc:0.64738 group/top1_best:113.86724 group/top3_best:62.13861 group/top1_rate:0.23977 group/top3_rate:0.36624 group/top1_click:0.30658 group/top3_click:0.26910 group/top1_click_best:1.00000 group/top3_click_best:0.67542 group/top1_click_rate:0.30658 group/top3_click_rate:0.39842 group/click/auc:0.00000 group/click/pos_ratio:0.00000 group/click/top1_score:83.97222 group/click/top3_score:79.40387 group/click/time_auc:0.55854 group/click/weighted_time_auc:0.68343 group/click/top1_best:113.86724 group/click/top3_best:92.00022 group/click/top1_rate:0.73746 group/click/top3_rate:0.86308 group/click/top1_click:1.00000 group/click/top3_click:1.00000 group/click/top1_click_best:1.00000 group/click/top3_click_best:1.00000 group/click/top1_click_rate:1.00000 group/click/top3_click_rate:1.00000 click_ratio:0.11682 time_per_show:8.52989 time_per_click:73.01598 time_per_user:113.81842 version:tuwen'],\n",
       " ['valid_online_abid4,5,6',\n",
       "  '2019111320',\n",
       "  'tuwen',\n",
       "  'pos_ratio:0.12435 auc:0.65075 time_auc:0.64570 weighted_time_auc:0.67695 click/time_auc:0.57230 click/weighted_time_auc:0.56907 group/auc:0.62718 group/pos_ratio:0.16091 group/top1_score:28.20881 group/top3_score:23.65256 group/time_auc:0.62237 group/weighted_time_auc:0.64323 group/top1_best:120.26868 group/top3_best:67.22148 group/top1_rate:0.23455 group/top3_rate:0.35186 group/top1_click:0.32270 group/top3_click:0.27405 group/top1_click_best:1.00000 group/top3_click_best:0.68789 group/top1_click_rate:0.32270 group/top3_click_rate:0.39839 group/click/auc:0.00000 group/click/pos_ratio:0.00000 group/click/top1_score:85.59823 group/click/top3_score:82.37891 group/click/time_auc:0.55228 group/click/weighted_time_auc:0.67067 group/click/top1_best:120.26868 group/click/top3_best:97.72186 group/click/top1_rate:0.71173 group/click/top3_rate:0.84299 group/click/top1_click:1.00000 group/click/top3_click:1.00000 group/click/top1_click_best:1.00000 group/click/top3_click_best:1.00000 group/click/top1_click_rate:1.00000 group/click/top3_click_rate:1.00000 click_ratio:0.12435 time_per_show:9.38794 time_per_click:75.49641 time_per_user:131.47126 version:tuwen'],\n",
       " ['valid_online_abid4,5,6',\n",
       "  '2019111321',\n",
       "  'tuwen',\n",
       "  'pos_ratio:0.12727 auc:0.64877 time_auc:0.64298 weighted_time_auc:0.67394 click/time_auc:0.56193 click/weighted_time_auc:0.57624 group/auc:0.61920 group/pos_ratio:0.16222 group/top1_score:25.97194 group/top3_score:23.25579 group/time_auc:0.61721 group/weighted_time_auc:0.63514 group/top1_best:121.73389 group/top3_best:68.26314 group/top1_rate:0.21335 group/top3_rate:0.34068 group/top1_click:0.30274 group/top3_click:0.26944 group/top1_click_best:1.00000 group/top3_click_best:0.69305 group/top1_click_rate:0.30274 group/top3_click_rate:0.38878 group/click/auc:0.00000 group/click/pos_ratio:0.00000 group/click/top1_score:85.07115 group/click/top3_score:82.60582 group/click/time_auc:0.54949 group/click/weighted_time_auc:0.66627 group/click/top1_best:121.73389 group/click/top3_best:98.49705 group/click/top1_rate:0.69883 group/click/top3_rate:0.83866 group/click/top1_click:1.00000 group/click/top3_click:1.00000 group/click/top1_click_best:1.00000 group/click/top3_click_best:1.00000 group/click/top1_click_rate:1.00000 group/click/top3_click_rate:1.00000 click_ratio:0.12727 time_per_show:9.63218 time_per_click:75.68391 time_per_user:137.44340 version:tuwen'],\n",
       " ['valid_online_abid4,5,6',\n",
       "  '2019111322',\n",
       "  'tuwen',\n",
       "  'pos_ratio:0.13004 auc:0.64641 time_auc:0.64049 weighted_time_auc:0.66703 click/time_auc:0.56000 click/weighted_time_auc:0.57693 group/auc:0.61912 group/pos_ratio:0.16472 group/top1_score:27.21078 group/top3_score:23.68137 group/time_auc:0.61471 group/weighted_time_auc:0.63356 group/top1_best:121.83898 group/top3_best:68.50455 group/top1_rate:0.22333 group/top3_rate:0.34569 group/top1_click:0.30900 group/top3_click:0.27253 group/top1_click_best:1.00000 group/top3_click_best:0.69676 group/top1_click_rate:0.30900 group/top3_click_rate:0.39114 group/click/auc:0.00000 group/click/pos_ratio:0.00000 group/click/top1_score:85.88296 group/click/top3_score:81.88021 group/click/time_auc:0.54534 group/click/weighted_time_auc:0.66753 group/click/top1_best:121.83898 group/click/top3_best:98.31806 group/click/top1_rate:0.70489 group/click/top3_rate:0.83281 group/click/top1_click:1.00000 group/click/top3_click:1.00000 group/click/top1_click_best:1.00000 group/click/top3_click_best:1.00000 group/click/top1_click_rate:1.00000 group/click/top3_click_rate:1.00000 click_ratio:0.13004 time_per_show:9.82435 time_per_click:75.54847 time_per_user:141.04071 version:tuwen'],\n",
       " ['valid_online_abid4,5,6',\n",
       "  '2019111323',\n",
       "  'tuwen',\n",
       "  'pos_ratio:0.13184 auc:0.64815 time_auc:0.64119 weighted_time_auc:0.66224 click/time_auc:0.54812 click/weighted_time_auc:0.56918 group/auc:0.62224 group/pos_ratio:0.16553 group/top1_score:26.63851 group/top3_score:22.94251 group/time_auc:0.61817 group/weighted_time_auc:0.63699 group/top1_best:120.45699 group/top3_best:68.41209 group/top1_rate:0.22115 group/top3_rate:0.33536 group/top1_click:0.31118 group/top3_click:0.27433 group/top1_click_best:1.00000 group/top3_click_best:0.70001 group/top1_click_rate:0.31118 group/top3_click_rate:0.39189 group/click/auc:0.00000 group/click/pos_ratio:0.00000 group/click/top1_score:82.95893 group/click/top3_score:80.55581 group/click/time_auc:0.54493 group/click/weighted_time_auc:0.66479 group/click/top1_best:120.45699 group/click/top3_best:97.72975 group/click/top1_rate:0.68870 group/click/top3_rate:0.82427 group/click/top1_click:1.00000 group/click/top3_click:1.00000 group/click/top1_click_best:1.00000 group/click/top3_click_best:1.00000 group/click/top1_click_rate:1.00000 group/click/top3_click_rate:1.00000 click_ratio:0.13184 time_per_show:9.88754 time_per_click:74.99566 time_per_user:142.75328 version:tuwen'],\n",
       " ['valid_online_abid4,5,6',\n",
       "  '2019111400',\n",
       "  'tuwen',\n",
       "  'pos_ratio:0.13124 auc:0.63538 time_auc:0.63264 weighted_time_auc:0.67102 click/time_auc:0.59329 click/weighted_time_auc:0.55524 group/auc:0.62163 group/pos_ratio:0.16428 group/top1_score:24.54611 group/top3_score:21.34069 group/time_auc:0.61493 group/weighted_time_auc:0.63811 group/top1_best:108.54186 group/top3_best:61.31721 group/top1_rate:0.22614 group/top3_rate:0.34804 group/top1_click:0.31694 group/top3_click:0.28376 group/top1_click_best:1.00000 group/top3_click_best:0.69727 group/top1_click_rate:0.31694 group/top3_click_rate:0.40696 group/click/auc:0.00000 group/click/pos_ratio:0.00000 group/click/top1_score:75.48576 group/click/top3_score:73.28170 group/click/time_auc:0.55063 group/click/weighted_time_auc:0.66888 group/click/top1_best:108.54186 group/click/top3_best:87.93836 group/click/top1_rate:0.69545 group/click/top3_rate:0.83333 group/click/top1_click:1.00000 group/click/top3_click:1.00000 group/click/top1_click_best:1.00000 group/click/top3_click_best:1.00000 group/click/top1_click_rate:1.00000 group/click/top3_click_rate:1.00000 click_ratio:0.13124 time_per_show:9.18469 time_per_click:69.98425 time_per_user:124.52626 version:tuwen'],\n",
       " ['valid_online_abid4,5,6',\n",
       "  '2019111401',\n",
       "  'tuwen',\n",
       "  'pos_ratio:0.14203 auc:0.63173 time_auc:0.63044 weighted_time_auc:0.67924 click/time_auc:0.61090 click/weighted_time_auc:0.57257 group/auc:0.62690 group/pos_ratio:0.17546 group/top1_score:25.01101 group/top3_score:21.11447 group/time_auc:0.61524 group/weighted_time_auc:0.64371 group/top1_best:98.87646 group/top3_best:56.75741 group/top1_rate:0.25295 group/top3_rate:0.37201 group/top1_click:0.33530 group/top3_click:0.30382 group/top1_click_best:1.00000 group/top3_click_best:0.70714 group/top1_click_rate:0.33530 group/top3_click_rate:0.42965 group/click/auc:0.00000 group/click/pos_ratio:0.00000 group/click/top1_score:70.66716 group/click/top3_score:67.43642 group/click/time_auc:0.55277 group/click/weighted_time_auc:0.68665 group/click/top1_best:98.87646 group/click/top3_best:80.26380 group/click/top1_rate:0.71470 group/click/top3_rate:0.84018 group/click/top1_click:1.00000 group/click/top3_click:1.00000 group/click/top1_click_best:1.00000 group/click/top3_click_best:1.00000 group/click/top1_click_rate:1.00000 group/click/top3_click_rate:1.00000 click_ratio:0.14203 time_per_show:9.46209 time_per_click:66.61841 time_per_user:125.58968 version:tuwen'],\n",
       " ['valid_online_abid4,5,6',\n",
       "  '2019111402',\n",
       "  'tuwen',\n",
       "  'pos_ratio:0.14335 auc:0.63231 time_auc:0.63262 weighted_time_auc:0.68246 click/time_auc:0.62762 click/weighted_time_auc:0.54702 group/auc:0.62033 group/pos_ratio:0.17125 group/top1_score:22.16954 group/top3_score:19.51056 group/time_auc:0.60757 group/weighted_time_auc:0.64214 group/top1_best:95.19678 group/top3_best:54.76979 group/top1_rate:0.23288 group/top3_rate:0.35623 group/top1_click:0.31684 group/top3_click:0.30039 group/top1_click_best:1.00000 group/top3_click_best:0.69831 group/top1_click_rate:0.31684 group/top3_click_rate:0.43017 group/click/auc:0.00000 group/click/pos_ratio:0.00000 group/click/top1_score:68.30595 group/click/top3_score:66.22906 group/click/time_auc:0.55257 group/click/weighted_time_auc:0.68780 group/click/top1_best:95.19678 group/click/top3_best:78.43148 group/click/top1_rate:0.71752 group/click/top3_rate:0.84442 group/click/top1_click:1.00000 group/click/top3_click:1.00000 group/click/top1_click_best:1.00000 group/click/top3_click_best:1.00000 group/click/top1_click_rate:1.00000 group/click/top3_click_rate:1.00000 click_ratio:0.14335 time_per_show:9.77859 time_per_click:68.21380 time_per_user:133.19859 version:tuwen'],\n",
       " ['valid_online_abid4,5,6',\n",
       "  '2019111403',\n",
       "  'tuwen',\n",
       "  'pos_ratio:0.14738 auc:0.62930 time_auc:0.63006 weighted_time_auc:0.66806 click/time_auc:0.62905 click/weighted_time_auc:0.49920 group/auc:0.62291 group/pos_ratio:0.17404 group/top1_score:22.05649 group/top3_score:19.79036 group/time_auc:0.61524 group/weighted_time_auc:0.63943 group/top1_best:93.82975 group/top3_best:54.09802 group/top1_rate:0.23507 group/top3_rate:0.36582 group/top1_click:0.32988 group/top3_click:0.31069 group/top1_click_best:1.00000 group/top3_click_best:0.70110 group/top1_click_rate:0.32988 group/top3_click_rate:0.44314 group/click/auc:0.00000 group/click/pos_ratio:0.00000 group/click/top1_score:68.36331 group/click/top3_score:66.47886 group/click/time_auc:0.55737 group/click/weighted_time_auc:0.70455 group/click/top1_best:93.82975 group/click/top3_best:77.16156 group/click/top1_rate:0.72859 group/click/top3_rate:0.86155 group/click/top1_click:1.00000 group/click/top3_click:1.00000 group/click/top1_click_best:1.00000 group/click/top3_click_best:1.00000 group/click/top1_click_rate:1.00000 group/click/top3_click_rate:1.00000 click_ratio:0.14738 time_per_show:9.95283 time_per_click:67.53060 time_per_user:135.19794 version:tuwen'],\n",
       " ['valid_online_abid4,5,6',\n",
       "  '2019111404',\n",
       "  'tuwen',\n",
       "  'pos_ratio:0.14567 auc:0.63712 time_auc:0.63753 weighted_time_auc:0.69280 click/time_auc:0.62866 click/weighted_time_auc:0.53716 group/auc:0.61599 group/pos_ratio:0.17250 group/top1_score:22.85270 group/top3_score:20.64500 group/time_auc:0.60350 group/weighted_time_auc:0.64125 group/top1_best:94.90163 group/top3_best:53.46933 group/top1_rate:0.24080 group/top3_rate:0.38611 group/top1_click:0.32416 group/top3_click:0.30951 group/top1_click_best:1.00000 group/top3_click_best:0.69305 group/top1_click_rate:0.32416 group/top3_click_rate:0.44659 group/click/auc:0.00000 group/click/pos_ratio:0.00000 group/click/top1_score:71.52115 group/click/top3_score:67.21045 group/click/time_auc:0.55779 group/click/weighted_time_auc:0.69761 group/click/top1_best:94.90163 group/click/top3_best:77.15095 group/click/top1_rate:0.75363 group/click/top3_rate:0.87116 group/click/top1_click:1.00000 group/click/top3_click:1.00000 group/click/top1_click_best:1.00000 group/click/top3_click_best:1.00000 group/click/top1_click_rate:1.00000 group/click/top3_click_rate:1.00000 click_ratio:0.14567 time_per_show:9.79231 time_per_click:67.22060 time_per_user:130.89739 version:tuwen'],\n",
       " ['valid_online_abid4,5,6',\n",
       "  '2019111405',\n",
       "  'tuwen',\n",
       "  'pos_ratio:0.15135 auc:0.63829 time_auc:0.63681 weighted_time_auc:0.68012 click/time_auc:0.61331 click/weighted_time_auc:0.53973 group/auc:0.62908 group/pos_ratio:0.18398 group/top1_score:28.80030 group/top3_score:24.36056 group/time_auc:0.61801 group/weighted_time_auc:0.65051 group/top1_best:109.44609 group/top3_best:64.18009 group/top1_rate:0.26315 group/top3_rate:0.37957 group/top1_click:0.35606 group/top3_click:0.31290 group/top1_click_best:1.00000 group/top3_click_best:0.70383 group/top1_click_rate:0.35606 group/top3_click_rate:0.44457 group/click/auc:0.00000 group/click/pos_ratio:0.00000 group/click/top1_score:80.52983 group/click/top3_score:78.06419 group/click/time_auc:0.55198 group/click/weighted_time_auc:0.68948 group/click/top1_best:109.44609 group/click/top3_best:91.18693 group/click/top1_rate:0.73579 group/click/top3_rate:0.85609 group/click/top1_click:1.00000 group/click/top3_click:1.00000 group/click/top1_click_best:1.00000 group/click/top3_click_best:1.00000 group/click/top1_click_rate:1.00000 group/click/top3_click_rate:1.00000 click_ratio:0.15135 time_per_show:11.62275 time_per_click:76.79144 time_per_user:150.30173 version:tuwen'],\n",
       " ['valid_online_abid4,5,6',\n",
       "  '2019111406',\n",
       "  'tuwen',\n",
       "  'pos_ratio:0.14027 auc:0.62763 time_auc:0.62440 weighted_time_auc:0.66178 click/time_auc:0.58157 click/weighted_time_auc:0.56156 group/auc:0.62107 group/pos_ratio:0.17973 group/top1_score:26.61900 group/top3_score:23.52699 group/time_auc:0.61485 group/weighted_time_auc:0.63941 group/top1_best:115.74950 group/top3_best:64.23548 group/top1_rate:0.22997 group/top3_rate:0.36626 group/top1_click:0.32560 group/top3_click:0.28882 group/top1_click_best:1.00000 group/top3_click_best:0.68531 group/top1_click_rate:0.32560 group/top3_click_rate:0.42144 group/click/auc:0.00000 group/click/pos_ratio:0.00000 group/click/top1_score:84.01896 group/click/top3_score:80.75931 group/click/time_auc:0.55637 group/click/weighted_time_auc:0.68594 group/click/top1_best:115.74950 group/click/top3_best:93.73211 group/click/top1_rate:0.72587 group/click/top3_rate:0.86160 group/click/top1_click:1.00000 group/click/top3_click:1.00000 group/click/top1_click_best:1.00000 group/click/top3_click_best:1.00000 group/click/top1_click_rate:1.00000 group/click/top3_click_rate:1.00000 click_ratio:0.14027 time_per_show:10.79873 time_per_click:76.98619 time_per_user:130.84805 version:tuwen'],\n",
       " ['valid_online_abid4,5,6',\n",
       "  '2019111407',\n",
       "  'tuwen',\n",
       "  'pos_ratio:0.13191 auc:0.62598 time_auc:0.62232 weighted_time_auc:0.65719 click/time_auc:0.57232 click/weighted_time_auc:0.57455 group/auc:0.62584 group/pos_ratio:0.17464 group/top1_score:27.94810 group/top3_score:23.29344 group/time_auc:0.62202 group/weighted_time_auc:0.64454 group/top1_best:111.21149 group/top3_best:60.97809 group/top1_rate:0.25131 group/top3_rate:0.38200 group/top1_click:0.32200 group/top3_click:0.28085 group/top1_click_best:1.00000 group/top3_click_best:0.67447 group/top1_click_rate:0.32200 group/top3_click_rate:0.41641 group/click/auc:0.00000 group/click/pos_ratio:0.00000 group/click/top1_score:82.81404 group/click/top3_score:78.60391 group/click/time_auc:0.55361 group/click/weighted_time_auc:0.68092 group/click/top1_best:111.21149 group/click/top3_best:90.40897 group/click/top1_rate:0.74465 group/click/top3_rate:0.86943 group/click/top1_click:1.00000 group/click/top3_click:1.00000 group/click/top1_click_best:1.00000 group/click/top3_click_best:1.00000 group/click/top1_click_rate:1.00000 group/click/top3_click_rate:1.00000 click_ratio:0.13191 time_per_show:9.76001 time_per_click:73.99157 time_per_user:116.72357 version:tuwen'],\n",
       " ['valid_online_abid4,5,6',\n",
       "  '2019111408',\n",
       "  'tuwen',\n",
       "  'pos_ratio:0.12931 auc:0.62725 time_auc:0.62361 weighted_time_auc:0.65762 click/time_auc:0.57263 click/weighted_time_auc:0.56556 group/auc:0.62417 group/pos_ratio:0.17192 group/top1_score:25.68684 group/top3_score:21.86025 group/time_auc:0.61771 group/weighted_time_auc:0.64138 group/top1_best:110.39676 group/top3_best:60.57973 group/top1_rate:0.23268 group/top3_rate:0.36085 group/top1_click:0.31862 group/top3_click:0.27997 group/top1_click_best:1.00000 group/top3_click_best:0.67407 group/top1_click_rate:0.31862 group/top3_click_rate:0.41534 group/click/auc:0.00000 group/click/pos_ratio:0.00000 group/click/top1_score:79.65713 group/click/top3_score:77.28490 group/click/time_auc:0.54832 group/click/weighted_time_auc:0.67152 group/click/top1_best:110.39676 group/click/top3_best:89.87103 group/click/top1_rate:0.72155 group/click/top3_rate:0.85995 group/click/top1_click:1.00000 group/click/top3_click:1.00000 group/click/top1_click_best:1.00000 group/click/top3_click_best:1.00000 group/click/top1_click_rate:1.00000 group/click/top3_click_rate:1.00000 click_ratio:0.12931 time_per_show:9.56170 time_per_click:73.94252 time_per_user:115.99092 version:tuwen'],\n",
       " ['valid_online_abid4,5,6',\n",
       "  '2019111409',\n",
       "  'tuwen',\n",
       "  'pos_ratio:0.12857 auc:0.62590 time_auc:0.62273 weighted_time_auc:0.65762 click/time_auc:0.57727 click/weighted_time_auc:0.56082 group/auc:0.62497 group/pos_ratio:0.17118 group/top1_score:24.77476 group/top3_score:21.39781 group/time_auc:0.61844 group/weighted_time_auc:0.64379 group/top1_best:110.09776 group/top3_best:60.23228 group/top1_rate:0.22503 group/top3_rate:0.35525 group/top1_click:0.30721 group/top3_click:0.27395 group/top1_click_best:1.00000 group/top3_click_best:0.67725 group/top1_click_rate:0.30721 group/top3_click_rate:0.40451 group/click/auc:0.00000 group/click/pos_ratio:0.00000 group/click/top1_score:79.05618 group/click/top3_score:76.49090 group/click/time_auc:0.55424 group/click/weighted_time_auc:0.67505 group/click/top1_best:110.09776 group/click/top3_best:88.93717 group/click/top1_rate:0.71805 group/click/top3_rate:0.86006 group/click/top1_click:1.00000 group/click/top3_click:1.00000 group/click/top1_click_best:1.00000 group/click/top3_click_best:1.00000 group/click/top1_click_rate:1.00000 group/click/top3_click_rate:1.00000 click_ratio:0.12857 time_per_show:9.28096 time_per_click:72.18882 time_per_user:113.10695 version:tuwen'],\n",
       " ['valid_online_abid4,5,6',\n",
       "  '2019111410',\n",
       "  'tuwen',\n",
       "  'pos_ratio:0.12507 auc:0.62711 time_auc:0.62421 weighted_time_auc:0.66107 click/time_auc:0.58127 click/weighted_time_auc:0.56846 group/auc:0.62701 group/pos_ratio:0.16708 group/top1_score:24.68383 group/top3_score:21.19573 group/time_auc:0.62152 group/weighted_time_auc:0.64235 group/top1_best:106.14406 group/top3_best:58.49938 group/top1_rate:0.23255 group/top3_rate:0.36232 group/top1_click:0.31207 group/top3_click:0.27726 group/top1_click_best:1.00000 group/top3_click_best:0.67114 group/top1_click_rate:0.31207 group/top3_click_rate:0.41312 group/click/auc:0.00000 group/click/pos_ratio:0.00000 group/click/top1_score:77.35434 group/click/top3_score:74.51132 group/click/time_auc:0.55139 group/click/weighted_time_auc:0.66150 group/click/top1_best:106.14406 group/click/top3_best:87.16484 group/click/top1_rate:0.72877 group/click/top3_rate:0.85483 group/click/top1_click:1.00000 group/click/top3_click:1.00000 group/click/top1_click_best:1.00000 group/click/top3_click_best:1.00000 group/click/top1_click_rate:1.00000 group/click/top3_click_rate:1.00000 click_ratio:0.12507 time_per_show:8.86952 time_per_click:70.91431 time_per_user:109.54568 version:tuwen'],\n",
       " ['valid_online_abid4,5,6',\n",
       "  '2019111410',\n",
       "  'tuwen',\n",
       "  'pos_ratio:0.12507 auc:0.62711 time_auc:0.62421 weighted_time_auc:0.66106 click/time_auc:0.58127 click/weighted_time_auc:0.56845 group/auc:0.62701 group/pos_ratio:0.16708 group/top1_score:24.68266 group/top3_score:21.19960 group/time_auc:0.62152 group/weighted_time_auc:0.64168 group/top1_best:106.14406 group/top3_best:58.49938 group/top1_rate:0.23254 group/top3_rate:0.36239 group/top1_click:0.31190 group/top3_click:0.27726 group/top1_click_best:1.00000 group/top3_click_best:0.67114 group/top1_click_rate:0.31190 group/top3_click_rate:0.41312 group/click/auc:0.00000 group/click/pos_ratio:0.00000 group/click/top1_score:77.20442 group/click/top3_score:74.57049 group/click/time_auc:0.55139 group/click/weighted_time_auc:0.66162 group/click/top1_best:106.14406 group/click/top3_best:87.16484 group/click/top1_rate:0.72736 group/click/top3_rate:0.85551 group/click/top1_click:1.00000 group/click/top3_click:1.00000 group/click/top1_click_best:1.00000 group/click/top3_click_best:1.00000 group/click/top1_click_rate:1.00000 group/click/top3_click_rate:1.00000 click_ratio:0.12507 time_per_show:8.86952 time_per_click:70.91431 time_per_user:109.54568 version:tuwen'],\n",
       " ['valid_online_abid4,5,6',\n",
       "  '2019111411',\n",
       "  'tuwen',\n",
       "  'pos_ratio:0.11981 auc:0.62393 time_auc:0.62175 weighted_time_auc:0.66467 click/time_auc:0.58708 click/weighted_time_auc:0.57822 group/auc:0.62260 group/pos_ratio:0.16402 group/top1_score:24.11216 group/top3_score:20.84416 group/time_auc:0.61967 group/weighted_time_auc:0.63904 group/top1_best:103.92402 group/top3_best:56.86469 group/top1_rate:0.23202 group/top3_rate:0.36656 group/top1_click:0.30656 group/top3_click:0.27295 group/top1_click_best:1.00000 group/top3_click_best:0.66513 group/top1_click_rate:0.30656 group/top3_click_rate:0.41037 group/click/auc:0.00000 group/click/pos_ratio:0.00000 group/click/top1_score:76.57865 group/click/top3_score:73.70534 group/click/time_auc:0.55170 group/click/weighted_time_auc:0.66903 group/click/top1_best:103.92402 group/click/top3_best:85.49374 group/click/top1_rate:0.73687 group/click/top3_rate:0.86211 group/click/top1_click:1.00000 group/click/top3_click:1.00000 group/click/top1_click_best:1.00000 group/click/top3_click_best:1.00000 group/click/top1_click_rate:1.00000 group/click/top3_click_rate:1.00000 click_ratio:0.11981 time_per_show:8.36596 time_per_click:69.82565 time_per_user:99.66834 version:tuwen'],\n",
       " ['valid_online_abid4,5,6',\n",
       "  '2019111412',\n",
       "  'tuwen',\n",
       "  'pos_ratio:0.12415 auc:0.62535 time_auc:0.62239 weighted_time_auc:0.65708 click/time_auc:0.57836 click/weighted_time_auc:0.56853 group/auc:0.61474 group/pos_ratio:0.16551 group/top1_score:23.07074 group/top3_score:21.12105 group/time_auc:0.61134 group/weighted_time_auc:0.63143 group/top1_best:113.22457 group/top3_best:61.85066 group/top1_rate:0.20376 group/top3_rate:0.34148 group/top1_click:0.28119 group/top3_click:0.25873 group/top1_click_best:1.00000 group/top3_click_best:0.67151 group/top1_click_rate:0.28119 group/top3_click_rate:0.38529 group/click/auc:0.00000 group/click/pos_ratio:0.00000 group/click/top1_score:82.42318 group/click/top3_score:79.61620 group/click/time_auc:0.54856 group/click/weighted_time_auc:0.66642 group/click/top1_best:113.22457 group/click/top3_best:92.10697 group/click/top1_rate:0.72796 group/click/top3_rate:0.86439 group/click/top1_click:1.00000 group/click/top3_click:1.00000 group/click/top1_click_best:1.00000 group/click/top3_click_best:1.00000 group/click/top1_click_rate:1.00000 group/click/top3_click_rate:1.00000 click_ratio:0.12415 time_per_show:9.29505 time_per_click:74.87020 time_per_user:115.08900 version:tuwen'],\n",
       " ['valid_online_abid4,5,6',\n",
       "  '2019111413',\n",
       "  'tuwen',\n",
       "  'pos_ratio:0.12062 auc:0.62385 time_auc:0.62167 weighted_time_auc:0.66523 click/time_auc:0.58732 click/weighted_time_auc:0.58621 group/auc:0.61871 group/pos_ratio:0.15982 group/top1_score:24.99272 group/top3_score:21.47624 group/time_auc:0.61597 group/weighted_time_auc:0.63744 group/top1_best:109.44769 group/top3_best:58.88438 group/top1_rate:0.22835 group/top3_rate:0.36472 group/top1_click:0.30417 group/top3_click:0.26755 group/top1_click_best:1.00000 group/top3_click_best:0.67122 group/top1_click_rate:0.30417 group/top3_click_rate:0.39860 group/click/auc:0.00000 group/click/pos_ratio:0.00000 group/click/top1_score:81.19149 group/click/top3_score:76.86915 group/click/time_auc:0.55200 group/click/weighted_time_auc:0.67488 group/click/top1_best:109.44769 group/click/top3_best:87.72698 group/click/top1_rate:0.74183 group/click/top3_rate:0.87623 group/click/top1_click:1.00000 group/click/top3_click:1.00000 group/click/top1_click_best:1.00000 group/click/top3_click_best:1.00000 group/click/top1_click_rate:1.00000 group/click/top3_click_rate:1.00000 click_ratio:0.12062 time_per_show:8.61699 time_per_click:71.43974 time_per_user:107.36413 version:tuwen'],\n",
       " ['valid_online_abid4,5,6',\n",
       "  '2019111414',\n",
       "  'tuwen',\n",
       "  'pos_ratio:0.12431 auc:0.62530 time_auc:0.62363 weighted_time_auc:0.66738 click/time_auc:0.59736 click/weighted_time_auc:0.57857 group/auc:0.62299 group/pos_ratio:0.16483 group/top1_score:26.03197 group/top3_score:22.36489 group/time_auc:0.61843 group/weighted_time_auc:0.64013 group/top1_best:111.42446 group/top3_best:61.30209 group/top1_rate:0.23363 group/top3_rate:0.36483 group/top1_click:0.31725 group/top3_click:0.27813 group/top1_click_best:1.00000 group/top3_click_best:0.67713 group/top1_click_rate:0.31725 group/top3_click_rate:0.41075 group/click/auc:0.00000 group/click/pos_ratio:0.00000 group/click/top1_score:81.49362 group/click/top3_score:77.88533 group/click/time_auc:0.55788 group/click/weighted_time_auc:0.67615 group/click/top1_best:111.42446 group/click/top3_best:90.53249 group/click/top1_rate:0.73138 group/click/top3_rate:0.86030 group/click/top1_click:1.00000 group/click/top3_click:1.00000 group/click/top1_click_best:1.00000 group/click/top3_click_best:1.00000 group/click/top1_click_rate:1.00000 group/click/top3_click_rate:1.00000 click_ratio:0.12431 time_per_show:9.03604 time_per_click:72.68686 time_per_user:115.31909 version:tuwen'],\n",
       " ['valid_online_abid4,5,6',\n",
       "  '2019111415',\n",
       "  'tuwen',\n",
       "  'pos_ratio:0.12431 auc:0.62133 time_auc:0.62052 weighted_time_auc:0.67532 click/time_auc:0.60544 click/weighted_time_auc:0.59362 group/auc:0.62197 group/pos_ratio:0.16295 group/top1_score:27.01911 group/top3_score:22.58790 group/time_auc:0.61824 group/weighted_time_auc:0.64166 group/top1_best:111.64983 group/top3_best:61.19902 group/top1_rate:0.24200 group/top3_rate:0.36909 group/top1_click:0.30703 group/top3_click:0.27279 group/top1_click_best:1.00000 group/top3_click_best:0.68243 group/top1_click_rate:0.30703 group/top3_click_rate:0.39973 group/click/auc:0.00000 group/click/pos_ratio:0.00000 group/click/top1_score:80.55339 group/click/top3_score:76.78388 group/click/time_auc:0.56041 group/click/weighted_time_auc:0.67662 group/click/top1_best:111.64983 group/click/top3_best:89.67865 group/click/top1_rate:0.72148 group/click/top3_rate:0.85621 group/click/top1_click:1.00000 group/click/top3_click:1.00000 group/click/top1_click_best:1.00000 group/click/top3_click_best:1.00000 group/click/top1_click_rate:1.00000 group/click/top3_click_rate:1.00000 click_ratio:0.12431 time_per_show:8.74513 time_per_click:70.34844 time_per_user:114.94971 version:tuwen'],\n",
       " ['valid_online_abid4,5,6',\n",
       "  '2019111416',\n",
       "  'tuwen',\n",
       "  'pos_ratio:0.12019 auc:0.62247 time_auc:0.62178 weighted_time_auc:0.67637 click/time_auc:0.60836 click/weighted_time_auc:0.59541 group/auc:0.62313 group/pos_ratio:0.15948 group/top1_score:24.31256 group/top3_score:20.85664 group/time_auc:0.62177 group/weighted_time_auc:0.64433 group/top1_best:110.13114 group/top3_best:60.20031 group/top1_rate:0.22076 group/top3_rate:0.34645 group/top1_click:0.30088 group/top3_click:0.26513 group/top1_click_best:1.00000 group/top3_click_best:0.67872 group/top1_click_rate:0.30088 group/top3_click_rate:0.39064 group/click/auc:0.00000 group/click/pos_ratio:0.00000 group/click/top1_score:79.66123 group/click/top3_score:75.83340 group/click/time_auc:0.56313 group/click/weighted_time_auc:0.67965 group/click/top1_best:110.13114 group/click/top3_best:88.69719 group/click/top1_rate:0.72333 group/click/top3_rate:0.85497 group/click/top1_click:1.00000 group/click/top3_click:1.00000 group/click/top1_click_best:1.00000 group/click/top3_click_best:1.00000 group/click/top1_click_rate:1.00000 group/click/top3_click_rate:1.00000 click_ratio:0.12019 time_per_show:8.38485 time_per_click:69.76511 time_per_user:109.60628 version:tuwen'],\n",
       " ['valid_online_abid4,5,6',\n",
       "  '2019111417',\n",
       "  'tuwen',\n",
       "  'pos_ratio:0.11673 auc:0.62188 time_auc:0.62063 weighted_time_auc:0.66931 click/time_auc:0.59880 click/weighted_time_auc:0.59215 group/auc:0.62574 group/pos_ratio:0.15771 group/top1_score:26.47032 group/top3_score:22.40800 group/time_auc:0.62353 group/weighted_time_auc:0.64446 group/top1_best:108.80235 group/top3_best:59.03061 group/top1_rate:0.24329 group/top3_rate:0.37960 group/top1_click:0.30658 group/top3_click:0.26651 group/top1_click_best:1.00000 group/top3_click_best:0.67157 group/top1_click_rate:0.30658 group/top3_click_rate:0.39684 group/click/auc:0.00000 group/click/pos_ratio:0.00000 group/click/top1_score:81.69099 group/click/top3_score:76.72109 group/click/time_auc:0.56166 group/click/weighted_time_auc:0.68040 group/click/top1_best:108.80235 group/click/top3_best:87.89922 group/click/top1_rate:0.75082 group/click/top3_rate:0.87283 group/click/top1_click:1.00000 group/click/top3_click:1.00000 group/click/top1_click_best:1.00000 group/click/top3_click_best:1.00000 group/click/top1_click_rate:1.00000 group/click/top3_click_rate:1.00000 click_ratio:0.11673 time_per_show:8.15731 time_per_click:69.88164 time_per_user:102.50869 version:tuwen'],\n",
       " ['valid_online_abid4,5,6',\n",
       "  '2019111418',\n",
       "  'tuwen',\n",
       "  'pos_ratio:0.11866 auc:0.63431 time_auc:0.63166 weighted_time_auc:0.67446 click/time_auc:0.58963 click/weighted_time_auc:0.58922 group/auc:0.62579 group/pos_ratio:0.15990 group/top1_score:25.90480 group/top3_score:22.28087 group/time_auc:0.62185 group/weighted_time_auc:0.64364 group/top1_best:112.16134 group/top3_best:61.48503 group/top1_rate:0.23096 group/top3_rate:0.36238 group/top1_click:0.31309 group/top3_click:0.27146 group/top1_click_best:1.00000 group/top3_click_best:0.67640 group/top1_click_rate:0.31309 group/top3_click_rate:0.40132 group/click/auc:0.00000 group/click/pos_ratio:0.00000 group/click/top1_score:82.18527 group/click/top3_score:77.99835 group/click/time_auc:0.55659 group/click/weighted_time_auc:0.68119 group/click/top1_best:112.16134 group/click/top3_best:90.89985 group/click/top1_rate:0.73274 group/click/top3_rate:0.85807 group/click/top1_click:1.00000 group/click/top3_click:1.00000 group/click/top1_click_best:1.00000 group/click/top3_click_best:1.00000 group/click/top1_click_rate:1.00000 group/click/top3_click_rate:1.00000 click_ratio:0.11866 time_per_show:8.59358 time_per_click:72.41897 time_per_user:110.42027 version:tuwen'],\n",
       " ['valid_online_abid4,5,6',\n",
       "  '2019111419',\n",
       "  'tuwen',\n",
       "  'pos_ratio:0.11603 auc:0.63306 time_auc:0.63054 weighted_time_auc:0.67819 click/time_auc:0.58973 click/weighted_time_auc:0.59774 group/auc:0.62237 group/pos_ratio:0.15286 group/top1_score:24.64919 group/top3_score:21.74615 group/time_auc:0.61970 group/weighted_time_auc:0.63996 group/top1_best:112.98670 group/top3_best:61.62908 group/top1_rate:0.21816 group/top3_rate:0.35286 group/top1_click:0.29674 group/top3_click:0.26184 group/top1_click_best:1.00000 group/top3_click_best:0.67203 group/top1_click_rate:0.29674 group/top3_click_rate:0.38963 group/click/auc:0.00000 group/click/pos_ratio:0.00000 group/click/top1_score:81.99346 group/click/top3_score:78.61414 group/click/time_auc:0.55819 group/click/weighted_time_auc:0.67482 group/click/top1_best:112.98670 group/click/top3_best:91.70604 group/click/top1_rate:0.72569 group/click/top3_rate:0.85724 group/click/top1_click:1.00000 group/click/top3_click:1.00000 group/click/top1_click_best:1.00000 group/click/top3_click_best:1.00000 group/click/top1_click_rate:1.00000 group/click/top3_click_rate:1.00000 click_ratio:0.11603 time_per_show:8.41315 time_per_click:72.50960 time_per_user:112.49756 version:tuwen'],\n",
       " ['valid_online_abid4,5,6',\n",
       "  '2019111420',\n",
       "  'tuwen',\n",
       "  'pos_ratio:0.12309 auc:0.64291 time_auc:0.63900 weighted_time_auc:0.68058 click/time_auc:0.58075 click/weighted_time_auc:0.59382 group/auc:0.62286 group/pos_ratio:0.15823 group/top1_score:27.44762 group/top3_score:23.16911 group/time_auc:0.61956 group/weighted_time_auc:0.63977 group/top1_best:119.35976 group/top3_best:66.38189 group/top1_rate:0.22996 group/top3_rate:0.34903 group/top1_click:0.30842 group/top3_click:0.27028 group/top1_click_best:1.00000 group/top3_click_best:0.68819 group/top1_click_rate:0.30842 group/top3_click_rate:0.39274 group/click/auc:0.00000 group/click/pos_ratio:0.00000 group/click/top1_score:85.47460 group/click/top3_score:81.18173 group/click/time_auc:0.55381 group/click/weighted_time_auc:0.67186 group/click/top1_best:119.35976 group/click/top3_best:96.45931 group/click/top1_rate:0.71611 group/click/top3_rate:0.84162 group/click/top1_click:1.00000 group/click/top3_click:1.00000 group/click/top1_click_best:1.00000 group/click/top3_click_best:1.00000 group/click/top1_click_rate:1.00000 group/click/top3_click_rate:1.00000 click_ratio:0.12309 time_per_show:9.19522 time_per_click:74.70274 time_per_user:131.22031 version:tuwen'],\n",
       " ['valid_online_abid4,5,6',\n",
       "  '2019111421',\n",
       "  'tuwen',\n",
       "  'pos_ratio:0.12514 auc:0.64005 time_auc:0.63568 weighted_time_auc:0.67095 click/time_auc:0.57260 click/weighted_time_auc:0.58432 group/auc:0.61089 group/pos_ratio:0.15972 group/top1_score:26.94227 group/top3_score:23.17226 group/time_auc:0.60858 group/weighted_time_auc:0.63036 group/top1_best:122.90959 group/top3_best:68.66680 group/top1_rate:0.21920 group/top3_rate:0.33746 group/top1_click:0.29398 group/top3_click:0.26103 group/top1_click_best:1.00000 group/top3_click_best:0.69176 group/top1_click_rate:0.29398 group/top3_click_rate:0.37735 group/click/auc:0.00000 group/click/pos_ratio:0.00000 group/click/top1_score:87.46856 group/click/top3_score:83.91270 group/click/time_auc:0.55513 group/click/weighted_time_auc:0.67136 group/click/top1_best:122.90959 group/click/top3_best:99.26439 group/click/top1_rate:0.71165 group/click/top3_rate:0.84535 group/click/top1_click:1.00000 group/click/top3_click:1.00000 group/click/top1_click_best:1.00000 group/click/top3_click_best:1.00000 group/click/top1_click_rate:1.00000 group/click/top3_click_rate:1.00000 click_ratio:0.12514 time_per_show:9.61339 time_per_click:76.82168 time_per_user:136.93156 version:tuwen'],\n",
       " ['valid_online_abid4,5,6',\n",
       "  '2019111422',\n",
       "  'tuwen',\n",
       "  'pos_ratio:0.12939 auc:0.64201 time_auc:0.63582 weighted_time_auc:0.66068 click/time_auc:0.55148 click/weighted_time_auc:0.58373 group/auc:0.61472 group/pos_ratio:0.16374 group/top1_score:26.58710 group/top3_score:23.88186 group/time_auc:0.61095 group/weighted_time_auc:0.62846 group/top1_best:125.27030 group/top3_best:69.95747 group/top1_rate:0.21224 group/top3_rate:0.34138 group/top1_click:0.29634 group/top3_click:0.26333 group/top1_click_best:1.00000 group/top3_click_best:0.68658 group/top1_click_rate:0.29634 group/top3_click_rate:0.38353 group/click/auc:0.00000 group/click/pos_ratio:0.00000 group/click/top1_score:88.37343 group/click/top3_score:85.17012 group/click/time_auc:0.54281 group/click/weighted_time_auc:0.66452 group/click/top1_best:125.27030 group/click/top3_best:101.89241 group/click/top1_rate:0.70546 group/click/top3_rate:0.83588 group/click/top1_click:1.00000 group/click/top3_click:1.00000 group/click/top1_click_best:1.00000 group/click/top3_click_best:1.00000 group/click/top1_click_rate:1.00000 group/click/top3_click_rate:1.00000 click_ratio:0.12939 time_per_show:10.14596 time_per_click:78.41282 time_per_user:145.11775 version:tuwen'],\n",
       " ['valid_online_abid4,5,6',\n",
       "  '2019111423',\n",
       "  'tuwen',\n",
       "  'pos_ratio:0.13089 auc:0.64617 time_auc:0.63858 weighted_time_auc:0.65798 click/time_auc:0.53696 click/weighted_time_auc:0.57949 group/auc:0.62401 group/pos_ratio:0.16515 group/top1_score:26.55753 group/top3_score:23.55292 group/time_auc:0.61914 group/weighted_time_auc:0.63730 group/top1_best:123.63703 group/top3_best:69.89418 group/top1_rate:0.21480 group/top3_rate:0.33698 group/top1_click:0.30842 group/top3_click:0.27171 group/top1_click_best:1.00000 group/top3_click_best:0.69316 group/top1_click_rate:0.30842 group/top3_click_rate:0.39199 group/click/auc:0.00000 group/click/pos_ratio:0.00000 group/click/top1_score:86.82516 group/click/top3_score:83.63078 group/click/time_auc:0.53910 group/click/weighted_time_auc:0.66382 group/click/top1_best:123.63703 group/click/top3_best:100.83428 group/click/top1_rate:0.70226 group/click/top3_rate:0.82939 group/click/top1_click:1.00000 group/click/top3_click:1.00000 group/click/top1_click_best:1.00000 group/click/top3_click_best:1.00000 group/click/top1_click_rate:1.00000 group/click/top3_click_rate:1.00000 click_ratio:0.13089 time_per_show:10.09676 time_per_click:77.14093 time_per_user:146.07037 version:tuwen'],\n",
       " ['valid_online_abid4,5,6',\n",
       "  '2019111500',\n",
       "  'tuwen',\n",
       "  'pos_ratio:0.13532 auc:0.62921 time_auc:0.62664 weighted_time_auc:0.66337 click/time_auc:0.59181 click/weighted_time_auc:0.55457 group/auc:0.62208 group/pos_ratio:0.16905 group/top1_score:26.30256 group/top3_score:22.53369 group/time_auc:0.61730 group/weighted_time_auc:0.64176 group/top1_best:115.54005 group/top3_best:64.91155 group/top1_rate:0.22765 group/top3_rate:0.34714 group/top1_click:0.31812 group/top3_click:0.28704 group/top1_click_best:1.00000 group/top3_click_best:0.70434 group/top1_click_rate:0.31812 group/top3_click_rate:0.40754 group/click/auc:0.00000 group/click/pos_ratio:0.00000 group/click/top1_score:78.05626 group/click/top3_score:75.58140 group/click/time_auc:0.55483 group/click/weighted_time_auc:0.68024 group/click/top1_best:115.54005 group/click/top3_best:92.15964 group/click/top1_rate:0.67558 group/click/top3_rate:0.82011 group/click/top1_click:1.00000 group/click/top3_click:1.00000 group/click/top1_click_best:1.00000 group/click/top3_click_best:1.00000 group/click/top1_click_rate:1.00000 group/click/top3_click_rate:1.00000 click_ratio:0.13532 time_per_show:9.86954 time_per_click:72.93560 time_per_user:133.90617 version:tuwen'],\n",
       " ['valid_online_abid4,5,6',\n",
       "  '2019111501',\n",
       "  'tuwen',\n",
       "  'pos_ratio:0.14115 auc:0.61652 time_auc:0.61793 weighted_time_auc:0.67428 click/time_auc:0.63085 click/weighted_time_auc:0.57359 group/auc:0.62420 group/pos_ratio:0.17325 group/top1_score:26.30895 group/top3_score:21.56084 group/time_auc:0.61813 group/weighted_time_auc:0.64461 group/top1_best:102.67017 group/top3_best:59.32564 group/top1_rate:0.25625 group/top3_rate:0.36343 group/top1_click:0.33367 group/top3_click:0.30403 group/top1_click_best:1.00000 group/top3_click_best:0.70617 group/top1_click_rate:0.33367 group/top3_click_rate:0.43053 group/click/auc:0.00000 group/click/pos_ratio:0.00000 group/click/top1_score:74.34335 group/click/top3_score:71.00896 group/click/time_auc:0.56001 group/click/weighted_time_auc:0.69071 group/click/top1_best:102.67017 group/click/top3_best:84.01094 group/click/top1_rate:0.72410 group/click/top3_rate:0.84523 group/click/top1_click:1.00000 group/click/top3_click:1.00000 group/click/top1_click_best:1.00000 group/click/top3_click_best:1.00000 group/click/top1_click_rate:1.00000 group/click/top3_click_rate:1.00000 click_ratio:0.14115 time_per_show:9.80641 time_per_click:69.47652 time_per_user:129.93079 version:tuwen'],\n",
       " ['valid_online_abid4,5,6',\n",
       "  '2019111502',\n",
       "  'tuwen',\n",
       "  'pos_ratio:0.14681 auc:0.61614 time_auc:0.61760 weighted_time_auc:0.66854 click/time_auc:0.62688 click/weighted_time_auc:0.54632 group/auc:0.61415 group/pos_ratio:0.17769 group/top1_score:21.25900 group/top3_score:19.81211 group/time_auc:0.60373 group/weighted_time_auc:0.63369 group/top1_best:95.00163 group/top3_best:55.37906 group/top1_rate:0.22378 group/top3_rate:0.35775 group/top1_click:0.32172 group/top3_click:0.30024 group/top1_click_best:1.00000 group/top3_click_best:0.70178 group/top1_click_rate:0.32172 group/top3_click_rate:0.42783 group/click/auc:0.00000 group/click/pos_ratio:0.00000 group/click/top1_score:69.38513 group/click/top3_score:66.80942 group/click/time_auc:0.55299 group/click/weighted_time_auc:0.69429 group/click/top1_best:95.00163 group/click/top3_best:78.91208 group/click/top1_rate:0.73036 group/click/top3_rate:0.84663 group/click/top1_click:1.00000 group/click/top3_click:1.00000 group/click/top1_click_best:1.00000 group/click/top3_click_best:1.00000 group/click/top1_click_rate:1.00000 group/click/top3_click_rate:1.00000 click_ratio:0.14681 time_per_show:9.93252 time_per_click:67.65384 time_per_user:132.20787 version:tuwen'],\n",
       " ['valid_online_abid4,5,6',\n",
       "  '2019111503',\n",
       "  'tuwen',\n",
       "  'pos_ratio:0.15313 auc:0.61498 time_auc:0.61703 weighted_time_auc:0.65985 click/time_auc:0.63143 click/weighted_time_auc:0.51113 group/auc:0.61687 group/pos_ratio:0.18095 group/top1_score:23.89855 group/top3_score:20.02314 group/time_auc:0.60609 group/weighted_time_auc:0.63901 group/top1_best:94.40581 group/top3_best:54.81336 group/top1_rate:0.25315 group/top3_rate:0.36530 group/top1_click:0.32655 group/top3_click:0.30872 group/top1_click_best:1.00000 group/top3_click_best:0.70303 group/top1_click_rate:0.32655 group/top3_click_rate:0.43913 group/click/auc:0.00000 group/click/pos_ratio:0.00000 group/click/top1_score:67.75720 group/click/top3_score:67.06358 group/click/time_auc:0.54932 group/click/weighted_time_auc:0.69663 group/click/top1_best:94.40581 group/click/top3_best:77.96733 group/click/top1_rate:0.71772 group/click/top3_rate:0.86015 group/click/top1_click:1.00000 group/click/top3_click:1.00000 group/click/top1_click_best:1.00000 group/click/top3_click_best:1.00000 group/click/top1_click_rate:1.00000 group/click/top3_click_rate:1.00000 click_ratio:0.15313 time_per_show:10.33691 time_per_click:67.50367 time_per_user:137.76378 version:tuwen'],\n",
       " ['valid_online_abid4,5,6',\n",
       "  '2019111504',\n",
       "  'tuwen',\n",
       "  'pos_ratio:0.15692 auc:0.61770 time_auc:0.61995 weighted_time_auc:0.66977 click/time_auc:0.63588 click/weighted_time_auc:0.52725 group/auc:0.61722 group/pos_ratio:0.18578 group/top1_score:24.94106 group/top3_score:22.54010 group/time_auc:0.60964 group/weighted_time_auc:0.63878 group/top1_best:102.32406 group/top3_best:59.67538 group/top1_rate:0.24375 group/top3_rate:0.37771 group/top1_click:0.34192 group/top3_click:0.31360 group/top1_click_best:1.00000 group/top3_click_best:0.70424 group/top1_click_rate:0.34192 group/top3_click_rate:0.44531 group/click/auc:0.00000 group/click/pos_ratio:0.00000 group/click/top1_score:76.35672 group/click/top3_score:73.26376 group/click/time_auc:0.54852 group/click/weighted_time_auc:0.69199 group/click/top1_best:102.32406 group/click/top3_best:84.73672 group/click/top1_rate:0.74622 group/click/top3_rate:0.86460 group/click/top1_click:1.00000 group/click/top3_click:1.00000 group/click/top1_click_best:1.00000 group/click/top3_click_best:1.00000 group/click/top1_click_rate:1.00000 group/click/top3_click_rate:1.00000 click_ratio:0.15692 time_per_show:11.52668 time_per_click:73.45700 time_per_user:150.11734 version:tuwen'],\n",
       " ['valid_online_abid4,5,6',\n",
       "  '2019111505',\n",
       "  'tuwen',\n",
       "  'pos_ratio:0.15285 auc:0.62611 time_auc:0.62622 weighted_time_auc:0.67158 click/time_auc:0.62016 click/weighted_time_auc:0.55546 group/auc:0.62630 group/pos_ratio:0.18469 group/top1_score:30.14707 group/top3_score:24.99408 group/time_auc:0.61903 group/weighted_time_auc:0.64963 group/top1_best:110.34009 group/top3_best:63.37898 group/top1_rate:0.27322 group/top3_rate:0.39436 group/top1_click:0.35582 group/top3_click:0.31734 group/top1_click_best:1.00000 group/top3_click_best:0.70732 group/top1_click_rate:0.35582 group/top3_click_rate:0.44865 group/click/auc:0.00000 group/click/pos_ratio:0.00000 group/click/top1_score:81.40702 group/click/top3_score:77.39884 group/click/time_auc:0.55149 group/click/weighted_time_auc:0.69933 group/click/top1_best:110.34009 group/click/top3_best:89.60458 group/click/top1_rate:0.73778 group/click/top3_rate:0.86378 group/click/top1_click:1.00000 group/click/top3_click:1.00000 group/click/top1_click_best:1.00000 group/click/top3_click_best:1.00000 group/click/top1_click_rate:1.00000 group/click/top3_click_rate:1.00000 click_ratio:0.15285 time_per_show:11.59984 time_per_click:75.88926 time_per_user:152.51506 version:tuwen'],\n",
       " ['valid_online_abid4,5,6',\n",
       "  '2019111506',\n",
       "  'tuwen',\n",
       "  'pos_ratio:0.13856 auc:0.62303 time_auc:0.62105 weighted_time_auc:0.66246 click/time_auc:0.59318 click/weighted_time_auc:0.57055 group/auc:0.62346 group/pos_ratio:0.17758 group/top1_score:29.54265 group/top3_score:25.47266 group/time_auc:0.61678 group/weighted_time_auc:0.64458 group/top1_best:116.97251 group/top3_best:65.49339 group/top1_rate:0.25256 group/top3_rate:0.38893 group/top1_click:0.32882 group/top3_click:0.28827 group/top1_click_best:1.00000 group/top3_click_best:0.68848 group/top1_click_rate:0.32882 group/top3_click_rate:0.41870 group/click/auc:0.00000 group/click/pos_ratio:0.00000 group/click/top1_score:88.28192 group/click/top3_score:83.47871 group/click/time_auc:0.56563 group/click/weighted_time_auc:0.69438 group/click/top1_best:116.97251 group/click/top3_best:95.12755 group/click/top1_rate:0.75472 group/click/top3_rate:0.87755 group/click/top1_click:1.00000 group/click/top3_click:1.00000 group/click/top1_click_best:1.00000 group/click/top3_click_best:1.00000 group/click/top1_click_rate:1.00000 group/click/top3_click_rate:1.00000 click_ratio:0.13856 time_per_show:10.93208 time_per_click:78.89822 time_per_user:134.46902 version:tuwen'],\n",
       " ['valid_online_abid4,5,6',\n",
       "  '2019111507',\n",
       "  'tuwen',\n",
       "  'pos_ratio:0.13105 auc:0.62779 time_auc:0.62495 weighted_time_auc:0.66379 click/time_auc:0.58497 click/weighted_time_auc:0.58318 group/auc:0.62763 group/pos_ratio:0.17316 group/top1_score:30.09459 group/top3_score:24.61291 group/time_auc:0.62316 group/weighted_time_auc:0.64781 group/top1_best:114.24825 group/top3_best:63.19430 group/top1_rate:0.26341 group/top3_rate:0.38948 group/top1_click:0.33125 group/top3_click:0.28639 group/top1_click_best:1.00000 group/top3_click_best:0.67972 group/top1_click_rate:0.33125 group/top3_click_rate:0.42134 group/click/auc:0.00000 group/click/pos_ratio:0.00000 group/click/top1_score:86.86616 group/click/top3_score:80.99120 group/click/time_auc:0.56823 group/click/weighted_time_auc:0.69151 group/click/top1_best:114.24825 group/click/top3_best:92.97108 group/click/top1_rate:0.76033 group/click/top3_rate:0.87114 group/click/top1_click:1.00000 group/click/top3_click:1.00000 group/click/top1_click_best:1.00000 group/click/top3_click_best:1.00000 group/click/top1_click_rate:1.00000 group/click/top3_click_rate:1.00000 click_ratio:0.13105 time_per_show:9.97822 time_per_click:76.14136 time_per_user:121.34122 version:tuwen'],\n",
       " ['valid_online_abid4,5,6',\n",
       "  '2019111508',\n",
       "  'tuwen',\n",
       "  'pos_ratio:0.12856 auc:0.62625 time_auc:0.62341 weighted_time_auc:0.66422 click/time_auc:0.58255 click/weighted_time_auc:0.58653 group/auc:0.62750 group/pos_ratio:0.17109 group/top1_score:27.06964 group/top3_score:23.25470 group/time_auc:0.62229 group/weighted_time_auc:0.64599 group/top1_best:112.04225 group/top3_best:61.19341 group/top1_rate:0.24160 group/top3_rate:0.38002 group/top1_click:0.32386 group/top3_click:0.28457 group/top1_click_best:1.00000 group/top3_click_best:0.67578 group/top1_click_rate:0.32386 group/top3_click_rate:0.42110 group/click/auc:0.00000 group/click/pos_ratio:0.00000 group/click/top1_score:82.28460 group/click/top3_score:77.94728 group/click/time_auc:0.55909 group/click/weighted_time_auc:0.68004 group/click/top1_best:112.04225 group/click/top3_best:90.55206 group/click/top1_rate:0.73441 group/click/top3_rate:0.86080 group/click/top1_click:1.00000 group/click/top3_click:1.00000 group/click/top1_click_best:1.00000 group/click/top3_click_best:1.00000 group/click/top1_click_rate:1.00000 group/click/top3_click_rate:1.00000 click_ratio:0.12856 time_per_show:9.44048 time_per_click:73.42971 time_per_user:116.34676 version:tuwen'],\n",
       " ['valid_online_abid4,5,6',\n",
       "  '2019111509',\n",
       "  'tuwen',\n",
       "  'pos_ratio:0.12775 auc:0.63000 time_auc:0.62690 weighted_time_auc:0.66422 click/time_auc:0.58246 click/weighted_time_auc:0.57483 group/auc:0.62961 group/pos_ratio:0.16919 group/top1_score:27.39269 group/top3_score:22.91346 group/time_auc:0.62577 group/weighted_time_auc:0.64911 group/top1_best:107.80543 group/top3_best:59.17039 group/top1_rate:0.25409 group/top3_rate:0.38725 group/top1_click:0.32454 group/top3_click:0.28699 group/top1_click_best:1.00000 group/top3_click_best:0.66988 group/top1_click_rate:0.32454 group/top3_click_rate:0.42843 group/click/auc:0.00000 group/click/pos_ratio:0.00000 group/click/top1_score:80.58270 group/click/top3_score:76.19609 group/click/time_auc:0.56045 group/click/weighted_time_auc:0.68020 group/click/top1_best:107.80543 group/click/top3_best:88.32996 group/click/top1_rate:0.74748 group/click/top3_rate:0.86263 group/click/top1_click:1.00000 group/click/top3_click:1.00000 group/click/top1_click_best:1.00000 group/click/top3_click_best:1.00000 group/click/top1_click_rate:1.00000 group/click/top3_click_rate:1.00000 click_ratio:0.12775 time_per_show:9.13247 time_per_click:71.48464 time_per_user:111.88291 version:tuwen'],\n",
       " ['valid_online_abid4,5,6', '2019111510', 'tuwen'],\n",
       " ['valid_online_abid4,5,6',\n",
       "  '2019111510',\n",
       "  'tuwen',\n",
       "  'pos_ratio:0.12100 auc:0.63386 time_auc:0.63143 weighted_time_auc:0.67781 click/time_auc:0.59307 click/weighted_time_auc:0.59628 group/auc:0.63195 group/pos_ratio:0.16124 group/top1_score:25.56794 group/top3_score:22.17639 group/time_auc:0.62655 group/weighted_time_auc:0.65114 group/top1_best:104.86499 group/top3_best:57.49856 group/top1_rate:0.24382 group/top3_rate:0.38569 group/top1_click:0.31908 group/top3_click:0.28338 group/top1_click_best:1.00000 group/top3_click_best:0.67291 group/top1_click_rate:0.31908 group/top3_click_rate:0.42112 group/click/auc:0.00000 group/click/pos_ratio:0.00000 group/click/top1_score:78.03537 group/click/top3_score:74.10724 group/click/time_auc:0.56443 group/click/weighted_time_auc:0.68635 group/click/top1_best:104.86499 group/click/top3_best:85.44792 group/click/top1_rate:0.74415 group/click/top3_rate:0.86728 group/click/top1_click:1.00000 group/click/top3_click:1.00000 group/click/top1_click_best:1.00000 group/click/top3_click_best:1.00000 group/click/top1_click_rate:1.00000 group/click/top3_click_rate:1.00000 click_ratio:0.12100 time_per_show:8.52413 time_per_click:70.44859 time_per_user:106.33243 version:tuwen'],\n",
       " ['valid_online_abid4,5,6',\n",
       "  '2019111511',\n",
       "  'tuwen',\n",
       "  'pos_ratio:0.11727 auc:0.62544 time_auc:0.62335 weighted_time_auc:0.66441 click/time_auc:0.58950 click/weighted_time_auc:0.58170 group/auc:0.62750 group/pos_ratio:0.16022 group/top1_score:25.73164 group/top3_score:22.26099 group/time_auc:0.62444 group/weighted_time_auc:0.64675 group/top1_best:108.31937 group/top3_best:58.55860 group/top1_rate:0.23755 group/top3_rate:0.38015 group/top1_click:0.30952 group/top3_click:0.27692 group/top1_click_best:1.00000 group/top3_click_best:0.66343 group/top1_click_rate:0.30952 group/top3_click_rate:0.41741 group/click/auc:0.00000 group/click/pos_ratio:0.00000 group/click/top1_score:80.73625 group/click/top3_score:76.93471 group/click/time_auc:0.55981 group/click/weighted_time_auc:0.68085 group/click/top1_best:108.31937 group/click/top3_best:88.26689 group/click/top1_rate:0.74535 group/click/top3_rate:0.87161 group/click/top1_click:1.00000 group/click/top3_click:1.00000 group/click/top1_click_best:1.00000 group/click/top3_click_best:1.00000 group/click/top1_click_rate:1.00000 group/click/top3_click_rate:1.00000 click_ratio:0.11727 time_per_show:8.49024 time_per_click:72.39737 time_per_user:102.63927 version:tuwen'],\n",
       " ['valid_online_abid4,5,6',\n",
       "  '2019111512',\n",
       "  'tuwen',\n",
       "  'pos_ratio:0.12452 auc:0.63588 time_auc:0.63230 weighted_time_auc:0.67068 click/time_auc:0.57996 click/weighted_time_auc:0.59500 group/auc:0.62591 group/pos_ratio:0.16472 group/top1_score:26.20983 group/top3_score:22.70111 group/time_auc:0.62262 group/weighted_time_auc:0.64577 group/top1_best:111.65956 group/top3_best:61.50726 group/top1_rate:0.23473 group/top3_rate:0.36908 group/top1_click:0.30578 group/top3_click:0.27091 group/top1_click_best:1.00000 group/top3_click_best:0.67448 group/top1_click_rate:0.30578 group/top3_click_rate:0.40166 group/click/auc:0.00000 group/click/pos_ratio:0.00000 group/click/top1_score:82.46955 group/click/top3_score:79.06797 group/click/time_auc:0.56004 group/click/weighted_time_auc:0.68371 group/click/top1_best:111.65956 group/click/top3_best:91.19260 group/click/top1_rate:0.73858 group/click/top3_rate:0.86704 group/click/top1_click:1.00000 group/click/top3_click:1.00000 group/click/top1_click_best:1.00000 group/click/top3_click_best:1.00000 group/click/top1_click_rate:1.00000 group/click/top3_click_rate:1.00000 click_ratio:0.12452 time_per_show:9.26712 time_per_click:74.42429 time_per_user:115.58327 version:tuwen'],\n",
       " ['valid_online_abid4,5,6',\n",
       "  '2019111513',\n",
       "  'tuwen',\n",
       "  'pos_ratio:0.12476 auc:0.62831 time_auc:0.62615 weighted_time_auc:0.67271 click/time_auc:0.59345 click/weighted_time_auc:0.60371 group/auc:0.62191 group/pos_ratio:0.16377 group/top1_score:25.46753 group/top3_score:23.08438 group/time_auc:0.61748 group/weighted_time_auc:0.64460 group/top1_best:111.18989 group/top3_best:61.62024 group/top1_rate:0.22905 group/top3_rate:0.37462 group/top1_click:0.29165 group/top3_click:0.26886 group/top1_click_best:1.00000 group/top3_click_best:0.67651 group/top1_click_rate:0.29165 group/top3_click_rate:0.39743 group/click/auc:0.00000 group/click/pos_ratio:0.00000 group/click/top1_score:83.19954 group/click/top3_score:79.37795 group/click/time_auc:0.56682 group/click/weighted_time_auc:0.69503 group/click/top1_best:111.18989 group/click/top3_best:91.08563 group/click/top1_rate:0.74827 group/click/top3_rate:0.87147 group/click/top1_click:1.00000 group/click/top3_click:1.00000 group/click/top1_click_best:1.00000 group/click/top3_click_best:1.00000 group/click/top1_click_rate:1.00000 group/click/top3_click_rate:1.00000 click_ratio:0.12476 time_per_show:9.22195 time_per_click:73.92016 time_per_user:116.91060 version:tuwen'],\n",
       " ['valid_online_abid4,5,6',\n",
       "  '2019111514',\n",
       "  'tuwen',\n",
       "  'pos_ratio:0.12214 auc:0.62540 time_auc:0.62389 weighted_time_auc:0.67323 click/time_auc:0.59974 click/weighted_time_auc:0.59915 group/auc:0.62565 group/pos_ratio:0.16079 group/top1_score:26.72572 group/top3_score:22.48609 group/time_auc:0.62139 group/weighted_time_auc:0.64683 group/top1_best:110.94239 group/top3_best:60.91439 group/top1_rate:0.24090 group/top3_rate:0.36914 group/top1_click:0.31007 group/top3_click:0.27438 group/top1_click_best:1.00000 group/top3_click_best:0.67616 group/top1_click_rate:0.31007 group/top3_click_rate:0.40579 group/click/auc:0.00000 group/click/pos_ratio:0.00000 group/click/top1_score:82.06294 group/click/top3_score:78.01895 group/click/time_auc:0.56620 group/click/weighted_time_auc:0.69306 group/click/top1_best:110.94239 group/click/top3_best:90.08880 group/click/top1_rate:0.73969 group/click/top3_rate:0.86602 group/click/top1_click:1.00000 group/click/top3_click:1.00000 group/click/top1_click_best:1.00000 group/click/top3_click_best:1.00000 group/click/top1_click_rate:1.00000 group/click/top3_click_rate:1.00000 click_ratio:0.12214 time_per_show:8.86217 time_per_click:72.55848 time_per_user:114.36655 version:tuwen'],\n",
       " ['valid_online_abid4,5,6',\n",
       "  '2019111515',\n",
       "  'tuwen',\n",
       "  'pos_ratio:0.11639 auc:0.62931 time_auc:0.62776 weighted_time_auc:0.68123 click/time_auc:0.60076 click/weighted_time_auc:0.60316 group/auc:0.61894 group/pos_ratio:0.15960 group/top1_score:26.58283 group/top3_score:22.63679 group/time_auc:0.61400 group/weighted_time_auc:0.63850 group/top1_best:105.73683 group/top3_best:56.74714 group/top1_rate:0.25141 group/top3_rate:0.39891 group/top1_click:0.31065 group/top3_click:0.27662 group/top1_click_best:1.00000 group/top3_click_best:0.66134 group/top1_click_rate:0.31065 group/top3_click_rate:0.41827 group/click/auc:0.00000 group/click/pos_ratio:0.00000 group/click/top1_score:81.35027 group/click/top3_score:75.94092 group/click/time_auc:0.56929 group/click/weighted_time_auc:0.68784 group/click/top1_best:105.73683 group/click/top3_best:85.80623 group/click/top1_rate:0.76937 group/click/top3_rate:0.88503 group/click/top1_click:1.00000 group/click/top3_click:1.00000 group/click/top1_click_best:1.00000 group/click/top3_click_best:1.00000 group/click/top1_click_rate:1.00000 group/click/top3_click_rate:1.00000 click_ratio:0.11639 time_per_show:8.19875 time_per_click:70.44429 time_per_user:94.54592 version:tuwen'],\n",
       " ['valid_online_abid4,5,6',\n",
       "  '2019111516',\n",
       "  'tuwen',\n",
       "  'pos_ratio:0.12290 auc:0.62437 time_auc:0.62297 weighted_time_auc:0.67434 click/time_auc:0.59987 click/weighted_time_auc:0.59905 group/auc:0.61347 group/pos_ratio:0.16147 group/top1_score:25.38995 group/top3_score:21.82921 group/time_auc:0.61055 group/weighted_time_auc:0.63723 group/top1_best:110.34606 group/top3_best:60.28988 group/top1_rate:0.23009 group/top3_rate:0.36207 group/top1_click:0.29504 group/top3_click:0.26452 group/top1_click_best:1.00000 group/top3_click_best:0.67963 group/top1_click_rate:0.29504 group/top3_click_rate:0.38921 group/click/auc:0.00000 group/click/pos_ratio:0.00000 group/click/top1_score:81.80801 group/click/top3_score:77.01923 group/click/time_auc:0.56820 group/click/weighted_time_auc:0.69512 group/click/top1_best:110.34606 group/click/top3_best:88.70930 group/click/top1_rate:0.74138 group/click/top3_rate:0.86822 group/click/top1_click:1.00000 group/click/top3_click:1.00000 group/click/top1_click_best:1.00000 group/click/top3_click_best:1.00000 group/click/top1_click_rate:1.00000 group/click/top3_click_rate:1.00000 click_ratio:0.12290 time_per_show:8.62512 time_per_click:70.17748 time_per_user:113.62331 version:tuwen'],\n",
       " ['valid_online_abid4,5,6',\n",
       "  '2019111517',\n",
       "  'tuwen',\n",
       "  'pos_ratio:0.11216 auc:0.62553 time_auc:0.62403 weighted_time_auc:0.67361 click/time_auc:0.59764 click/weighted_time_auc:0.60352 group/auc:0.61721 group/pos_ratio:0.15349 group/top1_score:25.00487 group/top3_score:21.06243 group/time_auc:0.61609 group/weighted_time_auc:0.63923 group/top1_best:103.61184 group/top3_best:55.40623 group/top1_rate:0.24133 group/top3_rate:0.38015 group/top1_click:0.29488 group/top3_click:0.25980 group/top1_click_best:1.00000 group/top3_click_best:0.65536 group/top1_click_rate:0.29488 group/top3_click_rate:0.39642 group/click/auc:0.00000 group/click/pos_ratio:0.00000 group/click/top1_score:79.34287 group/click/top3_score:74.48805 group/click/time_auc:0.56641 group/click/weighted_time_auc:0.69552 group/click/top1_best:103.61184 group/click/top3_best:84.54322 group/click/top1_rate:0.76577 group/click/top3_rate:0.88106 group/click/top1_click:1.00000 group/click/top3_click:1.00000 group/click/top1_click_best:1.00000 group/click/top3_click_best:1.00000 group/click/top1_click_rate:1.00000 group/click/top3_click_rate:1.00000 click_ratio:0.11216 time_per_show:7.62485 time_per_click:67.98401 time_per_user:94.39312 version:tuwen'],\n",
       " ['valid_online_abid4,5,6',\n",
       "  '2019111518',\n",
       "  'tuwen',\n",
       "  'pos_ratio:0.11329 auc:0.63532 time_auc:0.63303 weighted_time_auc:0.68000 click/time_auc:0.59477 click/weighted_time_auc:0.60013 group/auc:0.62954 group/pos_ratio:0.15112 group/top1_score:25.96938 group/top3_score:21.32363 group/time_auc:0.62597 group/weighted_time_auc:0.65048 group/top1_best:108.81080 group/top3_best:59.10395 group/top1_rate:0.23867 group/top3_rate:0.36078 group/top1_click:0.30289 group/top3_click:0.25988 group/top1_click_best:1.00000 group/top3_click_best:0.66629 group/top1_click_rate:0.30289 group/top3_click_rate:0.39005 group/click/auc:0.00000 group/click/pos_ratio:0.00000 group/click/top1_score:81.66153 group/click/top3_score:77.28706 group/click/time_auc:0.56783 group/click/weighted_time_auc:0.69227 group/click/top1_best:108.81080 group/click/top3_best:88.70570 group/click/top1_rate:0.75049 group/click/top3_rate:0.87127 group/click/top1_click:1.00000 group/click/top3_click:1.00000 group/click/top1_click_best:1.00000 group/click/top3_click_best:1.00000 group/click/top1_click_rate:1.00000 group/click/top3_click_rate:1.00000 click_ratio:0.11329 time_per_show:8.10183 time_per_click:71.51185 time_per_user:106.20401 version:tuwen'],\n",
       " ['valid_online_abid4,5,6',\n",
       "  '2019111519',\n",
       "  'tuwen',\n",
       "  'pos_ratio:0.13654 auc:0.67500 time_auc:0.66914 weighted_time_auc:0.71263 click/time_auc:0.59122 click/weighted_time_auc:0.60409 group/auc:0.62318 group/pos_ratio:0.15450 group/top1_score:27.99084 group/top3_score:23.20005 group/time_auc:0.61947 group/weighted_time_auc:0.64583 group/top1_best:117.61650 group/top3_best:65.60803 group/top1_rate:0.23798 group/top3_rate:0.35362 group/top1_click:0.30310 group/top3_click:0.26292 group/top1_click_best:1.00000 group/top3_click_best:0.68155 group/top1_click_rate:0.30310 group/top3_click_rate:0.38576 group/click/auc:0.00000 group/click/pos_ratio:0.00000 group/click/top1_score:86.80612 group/click/top3_score:82.17768 group/click/time_auc:0.56284 group/click/weighted_time_auc:0.68881 group/click/top1_best:117.61650 group/click/top3_best:96.26249 group/click/top1_rate:0.73804 group/click/top3_rate:0.85368 group/click/top1_click:1.00000 group/click/top3_click:1.00000 group/click/top1_click_best:1.00000 group/click/top3_click_best:1.00000 group/click/top1_click_rate:1.00000 group/click/top3_click_rate:1.00000 click_ratio:0.13654 time_per_show:10.35175 time_per_click:75.81590 time_per_user:191.91694 version:tuwen'],\n",
       " ['valid_online_abid4,5,6',\n",
       "  '2019111520',\n",
       "  'tuwen',\n",
       "  'pos_ratio:0.14094 auc:0.67640 time_auc:0.66962 weighted_time_auc:0.70916 click/time_auc:0.58401 click/weighted_time_auc:0.59516 group/auc:0.62123 group/pos_ratio:0.15832 group/top1_score:28.36748 group/top3_score:24.01177 group/time_auc:0.61880 group/weighted_time_auc:0.64135 group/top1_best:119.86534 group/top3_best:67.51723 group/top1_rate:0.23666 group/top3_rate:0.35564 group/top1_click:0.31124 group/top3_click:0.27060 group/top1_click_best:1.00000 group/top3_click_best:0.69441 group/top1_click_rate:0.31124 group/top3_click_rate:0.38969 group/click/auc:0.00000 group/click/pos_ratio:0.00000 group/click/top1_score:87.40237 group/click/top3_score:82.60777 group/click/time_auc:0.56058 group/click/weighted_time_auc:0.68669 group/click/top1_best:119.86534 group/click/top3_best:97.22941 group/click/top1_rate:0.72917 group/click/top3_rate:0.84962 group/click/top1_click:1.00000 group/click/top3_click:1.00000 group/click/top1_click_best:1.00000 group/click/top3_click_best:1.00000 group/click/top1_click_rate:1.00000 group/click/top3_click_rate:1.00000 click_ratio:0.14094 time_per_show:10.56928 time_per_click:74.99232 time_per_user:203.02752 version:tuwen'],\n",
       " ['valid_online_abid4,5,6',\n",
       "  '2019111521',\n",
       "  'tuwen',\n",
       "  'pos_ratio:0.10479 auc:0.70414 time_auc:0.69857 weighted_time_auc:0.73241 click/time_auc:0.58830 click/weighted_time_auc:0.57129 group/auc:0.61738 group/pos_ratio:0.14461 group/top1_score:29.23934 group/top3_score:24.04779 group/time_auc:0.61769 group/weighted_time_auc:0.63908 group/top1_best:116.10247 group/top3_best:67.60440 group/top1_rate:0.25184 group/top3_rate:0.35571 group/top1_click:0.33925 group/top3_click:0.29578 group/top1_click_best:1.00000 group/top3_click_best:0.74255 group/top1_click_rate:0.33925 group/top3_click_rate:0.39833 group/click/auc:0.00000 group/click/pos_ratio:0.00000 group/click/top1_score:80.20494 group/click/top3_score:74.63476 group/click/time_auc:0.55784 group/click/weighted_time_auc:0.68221 group/click/top1_best:116.10247 group/click/top3_best:91.04335 group/click/top1_rate:0.69081 group/click/top3_rate:0.81977 group/click/top1_click:1.00000 group/click/top3_click:1.00000 group/click/top1_click_best:1.00000 group/click/top3_click_best:1.00000 group/click/top1_click_rate:1.00000 group/click/top3_click_rate:1.00000 click_ratio:0.10479 time_per_show:7.00940 time_per_click:66.88815 time_per_user:119.25964 version:tuwen'],\n",
       " ['valid_online_abid4,5,6',\n",
       "  '2019111522',\n",
       "  'tuwen',\n",
       "  'pos_ratio:0.14261 auc:0.67308 time_auc:0.66591 weighted_time_auc:0.70087 click/time_auc:0.57699 click/weighted_time_auc:0.58948 group/auc:0.61921 group/pos_ratio:0.15988 group/top1_score:28.01370 group/top3_score:24.15508 group/time_auc:0.61847 group/weighted_time_auc:0.63920 group/top1_best:123.82356 group/top3_best:70.29061 group/top1_rate:0.22624 group/top3_rate:0.34365 group/top1_click:0.30307 group/top3_click:0.26638 group/top1_click_best:1.00000 group/top3_click_best:0.69743 group/top1_click_rate:0.30307 group/top3_click_rate:0.38195 group/click/auc:0.00000 group/click/pos_ratio:0.00000 group/click/top1_score:88.85361 group/click/top3_score:84.89031 group/click/time_auc:0.55869 group/click/weighted_time_auc:0.68048 group/click/top1_best:123.82356 group/click/top3_best:100.78524 group/click/top1_rate:0.71758 group/click/top3_rate:0.84229 group/click/top1_click:1.00000 group/click/top3_click:1.00000 group/click/top1_click_best:1.00000 group/click/top3_click_best:1.00000 group/click/top1_click_rate:1.00000 group/click/top3_click_rate:1.00000 click_ratio:0.14261 time_per_show:10.95622 time_per_click:76.82408 time_per_user:213.48215 version:tuwen'],\n",
       " ['valid_online_abid4,5,6',\n",
       "  '2019111523',\n",
       "  'tuwen',\n",
       "  'pos_ratio:0.14338 auc:0.67957 time_auc:0.67195 weighted_time_auc:0.70990 click/time_auc:0.57849 click/weighted_time_auc:0.59483 group/auc:0.62785 group/pos_ratio:0.16158 group/top1_score:28.96180 group/top3_score:24.52127 group/time_auc:0.62614 group/weighted_time_auc:0.64891 group/top1_best:120.43911 group/top3_best:68.59431 group/top1_rate:0.24047 group/top3_rate:0.35748 group/top1_click:0.32444 group/top3_click:0.28146 group/top1_click_best:1.00000 group/top3_click_best:0.70341 group/top1_click_rate:0.32444 group/top3_click_rate:0.40013 group/click/auc:0.00000 group/click/pos_ratio:0.00000 group/click/top1_score:85.08140 group/click/top3_score:81.93327 group/click/time_auc:0.55917 group/click/weighted_time_auc:0.68169 group/click/top1_best:120.43911 group/click/top3_best:97.51644 group/click/top1_rate:0.70643 group/click/top3_rate:0.84020 group/click/top1_click:1.00000 group/click/top3_click:1.00000 group/click/top1_click_best:1.00000 group/click/top3_click_best:1.00000 group/click/top1_click_rate:1.00000 group/click/top3_click_rate:1.00000 click_ratio:0.14338 time_per_show:10.69661 time_per_click:74.60311 time_per_user:210.90218 version:tuwen'],\n",
       " ['valid_online_abid4,5,6',\n",
       "  '2019111600',\n",
       "  'tuwen',\n",
       "  'pos_ratio:0.14040 auc:0.67329 time_auc:0.66798 weighted_time_auc:0.71343 click/time_auc:0.59953 click/weighted_time_auc:0.58856 group/auc:0.62882 group/pos_ratio:0.16135 group/top1_score:24.58933 group/top3_score:21.96836 group/time_auc:0.62327 group/weighted_time_auc:0.64771 group/top1_best:107.84915 group/top3_best:61.05867 group/top1_rate:0.22800 group/top3_rate:0.35979 group/top1_click:0.31174 group/top3_click:0.28336 group/top1_click_best:1.00000 group/top3_click_best:0.69903 group/top1_click_rate:0.31174 group/top3_click_rate:0.40537 group/click/auc:0.00000 group/click/pos_ratio:0.00000 group/click/top1_score:77.25128 group/click/top3_score:73.06913 group/click/time_auc:0.55591 group/click/weighted_time_auc:0.68071 group/click/top1_best:107.84915 group/click/top3_best:87.34826 group/click/top1_rate:0.71629 group/click/top3_rate:0.83653 group/click/top1_click:1.00000 group/click/top3_click:1.00000 group/click/top1_click_best:1.00000 group/click/top3_click_best:1.00000 group/click/top1_click_rate:1.00000 group/click/top3_click_rate:1.00000 click_ratio:0.14040 time_per_show:9.57464 time_per_click:68.19644 time_per_user:187.20405 version:tuwen'],\n",
       " ['valid_online_abid4,5,6',\n",
       "  '2019111601',\n",
       "  'tuwen',\n",
       "  'pos_ratio:0.13888 auc:0.67545 time_auc:0.67220 weighted_time_auc:0.72133 click/time_auc:0.62559 click/weighted_time_auc:0.56839 group/auc:0.62179 group/pos_ratio:0.16765 group/top1_score:23.86247 group/top3_score:20.78315 group/time_auc:0.61855 group/weighted_time_auc:0.64531 group/top1_best:100.60274 group/top3_best:57.31933 group/top1_rate:0.23720 group/top3_rate:0.36259 group/top1_click:0.31775 group/top3_click:0.28779 group/top1_click_best:1.00000 group/top3_click_best:0.69777 group/top1_click_rate:0.31775 group/top3_click_rate:0.41245 group/click/auc:0.00000 group/click/pos_ratio:0.00000 group/click/top1_score:74.36660 group/click/top3_score:70.30588 group/click/time_auc:0.56655 group/click/weighted_time_auc:0.69867 group/click/top1_best:100.60274 group/click/top3_best:82.14658 group/click/top1_rate:0.73921 group/click/top3_rate:0.85586 group/click/top1_click:1.00000 group/click/top3_click:1.00000 group/click/top1_click_best:1.00000 group/click/top3_click_best:1.00000 group/click/top1_click_rate:1.00000 group/click/top3_click_rate:1.00000 click_ratio:0.13888 time_per_show:9.35403 time_per_click:67.35330 time_per_user:175.29148 version:tuwen'],\n",
       " ['valid_online_abid4,5,6',\n",
       "  '2019111602',\n",
       "  'tuwen',\n",
       "  'pos_ratio:0.13382 auc:0.69610 time_auc:0.69255 weighted_time_auc:0.74711 click/time_auc:0.63470 click/weighted_time_auc:0.56409 group/auc:0.61947 group/pos_ratio:0.16790 group/top1_score:25.88537 group/top3_score:22.00113 group/time_auc:0.61112 group/weighted_time_auc:0.64252 group/top1_best:95.76441 group/top3_best:55.07583 group/top1_rate:0.27030 group/top3_rate:0.39947 group/top1_click:0.32362 group/top3_click:0.29746 group/top1_click_best:1.00000 group/top3_click_best:0.69930 group/top1_click_rate:0.32362 group/top3_click_rate:0.42538 group/click/auc:0.00000 group/click/pos_ratio:0.00000 group/click/top1_score:73.15009 group/click/top3_score:68.32420 group/click/time_auc:0.57711 group/click/weighted_time_auc:0.70856 group/click/top1_best:95.76441 group/click/top3_best:78.75904 group/click/top1_rate:0.76385 group/click/top3_rate:0.86751 group/click/top1_click:1.00000 group/click/top3_click:1.00000 group/click/top1_click_best:1.00000 group/click/top3_click_best:1.00000 group/click/top1_click_rate:1.00000 group/click/top3_click_rate:1.00000 click_ratio:0.13382 time_per_show:8.80255 time_per_click:65.77735 time_per_user:166.61502 version:tuwen'],\n",
       " ['valid_online_abid4,5,6',\n",
       "  '2019111603',\n",
       "  'tuwen',\n",
       "  'pos_ratio:0.13011 auc:0.69899 time_auc:0.69672 weighted_time_auc:0.75630 click/time_auc:0.64731 click/weighted_time_auc:0.55743 group/auc:0.60874 group/pos_ratio:0.17118 group/top1_score:22.15737 group/top3_score:22.37703 group/time_auc:0.60031 group/weighted_time_auc:0.63251 group/top1_best:101.40981 group/top3_best:57.64971 group/top1_rate:0.21849 group/top3_rate:0.38816 group/top1_click:0.31499 group/top3_click:0.30384 group/top1_click_best:1.00000 group/top3_click_best:0.71178 group/top1_click_rate:0.31499 group/top3_click_rate:0.42688 group/click/auc:0.00000 group/click/pos_ratio:0.00000 group/click/top1_score:77.43683 group/click/top3_score:71.03451 group/click/time_auc:0.56210 group/click/weighted_time_auc:0.70645 group/click/top1_best:101.40981 group/click/top3_best:80.99378 group/click/top1_rate:0.76360 group/click/top3_rate:0.87704 group/click/top1_click:1.00000 group/click/top3_click:1.00000 group/click/top1_click_best:1.00000 group/click/top3_click_best:1.00000 group/click/top1_click_rate:1.00000 group/click/top3_click_rate:1.00000 click_ratio:0.13011 time_per_show:9.06231 time_per_click:69.64923 time_per_user:172.05549 version:tuwen'],\n",
       " ['valid_online_abid4,5,6',\n",
       "  '2019111604',\n",
       "  'tuwen',\n",
       "  'pos_ratio:0.13561 auc:0.70326 time_auc:0.70084 weighted_time_auc:0.76290 click/time_auc:0.65168 click/weighted_time_auc:0.56872 group/auc:0.61521 group/pos_ratio:0.17788 group/top1_score:28.04107 group/top3_score:23.62382 group/time_auc:0.60405 group/weighted_time_auc:0.64033 group/top1_best:98.81757 group/top3_best:58.15180 group/top1_rate:0.28377 group/top3_rate:0.40624 group/top1_click:0.34818 group/top3_click:0.31573 group/top1_click_best:1.00000 group/top3_click_best:0.70487 group/top1_click_rate:0.34818 group/top3_click_rate:0.44793 group/click/auc:0.00000 group/click/pos_ratio:0.00000 group/click/top1_score:74.94052 group/click/top3_score:71.63984 group/click/time_auc:0.56737 group/click/weighted_time_auc:0.71403 group/click/top1_best:98.81757 group/click/top3_best:82.50047 group/click/top1_rate:0.75837 group/click/top3_rate:0.86836 group/click/top1_click:1.00000 group/click/top3_click:1.00000 group/click/top1_click_best:1.00000 group/click/top3_click_best:1.00000 group/click/top1_click_rate:1.00000 group/click/top3_click_rate:1.00000 click_ratio:0.13561 time_per_show:9.63355 time_per_click:71.03944 time_per_user:181.47961 version:tuwen'],\n",
       " ['valid_online_abid4,5,6',\n",
       "  '2019111605',\n",
       "  'tuwen',\n",
       "  'pos_ratio:0.13852 auc:0.71194 time_auc:0.70646 weighted_time_auc:0.76361 click/time_auc:0.62512 click/weighted_time_auc:0.59810 group/auc:0.61649 group/pos_ratio:0.17879 group/top1_score:31.17235 group/top3_score:25.43279 group/time_auc:0.60415 group/weighted_time_auc:0.63903 group/top1_best:117.83646 group/top3_best:66.74577 group/top1_rate:0.26454 group/top3_rate:0.38104 group/top1_click:0.33421 group/top3_click:0.30261 group/top1_click_best:1.00000 group/top3_click_best:0.69783 group/top1_click_rate:0.33421 group/top3_click_rate:0.43364 group/click/auc:0.00000 group/click/pos_ratio:0.00000 group/click/top1_score:91.59423 group/click/top3_score:83.47161 group/click/time_auc:0.56648 group/click/weighted_time_auc:0.70932 group/click/top1_best:117.83646 group/click/top3_best:95.64741 group/click/top1_rate:0.77730 group/click/top3_rate:0.87270 group/click/top1_click:1.00000 group/click/top3_click:1.00000 group/click/top1_click_best:1.00000 group/click/top3_click_best:1.00000 group/click/top1_click_rate:1.00000 group/click/top3_click_rate:1.00000 click_ratio:0.13852 time_per_show:11.05154 time_per_click:79.78175 time_per_user:203.75282 version:tuwen'],\n",
       " ['valid_online_abid4,5,6',\n",
       "  '2019111606',\n",
       "  'tuwen',\n",
       "  'pos_ratio:0.14848 auc:0.68376 time_auc:0.67659 weighted_time_auc:0.72067 click/time_auc:0.58906 click/weighted_time_auc:0.58982 group/auc:0.62354 group/pos_ratio:0.17354 group/top1_score:29.24441 group/top3_score:25.44979 group/time_auc:0.61879 group/weighted_time_auc:0.64965 group/top1_best:119.76959 group/top3_best:67.59215 group/top1_rate:0.24417 group/top3_rate:0.37652 group/top1_click:0.31196 group/top3_click:0.28222 group/top1_click_best:1.00000 group/top3_click_best:0.69407 group/top1_click_rate:0.31196 group/top3_click_rate:0.40661 group/click/auc:0.00000 group/click/pos_ratio:0.00000 group/click/top1_score:91.63240 group/click/top3_score:85.17677 group/click/time_auc:0.57259 group/click/weighted_time_auc:0.71046 group/click/top1_best:119.76959 group/click/top3_best:97.38453 group/click/top1_rate:0.76507 group/click/top3_rate:0.87464 group/click/top1_click:1.00000 group/click/top3_click:1.00000 group/click/top1_click_best:1.00000 group/click/top3_click_best:1.00000 group/click/top1_click_rate:1.00000 group/click/top3_click_rate:1.00000 click_ratio:0.14848 time_per_show:11.82284 time_per_click:79.62401 time_per_user:203.90770 version:tuwen'],\n",
       " ['valid_online_abid4,5,6',\n",
       "  '2019111607',\n",
       "  'tuwen',\n",
       "  'pos_ratio:0.15122 auc:0.67108 time_auc:0.66319 weighted_time_auc:0.69615 click/time_auc:0.57178 click/weighted_time_auc:0.58132 group/auc:0.61631 group/pos_ratio:0.17266 group/top1_score:26.77866 group/top3_score:23.38940 group/time_auc:0.61142 group/weighted_time_auc:0.63658 group/top1_best:118.72627 group/top3_best:66.90319 group/top1_rate:0.22555 group/top3_rate:0.34960 group/top1_click:0.29415 group/top3_click:0.26744 group/top1_click_best:1.00000 group/top3_click_best:0.68711 group/top1_click_rate:0.29415 group/top3_click_rate:0.38922 group/click/auc:0.00000 group/click/pos_ratio:0.00000 group/click/top1_score:88.72451 group/click/top3_score:84.02442 group/click/time_auc:0.56087 group/click/weighted_time_auc:0.68830 group/click/top1_best:118.72627 group/click/top3_best:97.36858 group/click/top1_rate:0.74730 group/click/top3_rate:0.86295 group/click/top1_click:1.00000 group/click/top3_click:1.00000 group/click/top1_click_best:1.00000 group/click/top3_click_best:1.00000 group/click/top1_click_rate:1.00000 group/click/top3_click_rate:1.00000 click_ratio:0.15122 time_per_show:11.82216 time_per_click:78.18062 time_per_user:199.50212 version:tuwen'],\n",
       " ['valid_online_abid4,5,6',\n",
       "  '2019111608',\n",
       "  'tuwen',\n",
       "  'pos_ratio:0.15552 auc:0.67133 time_auc:0.66340 weighted_time_auc:0.69757 click/time_auc:0.57434 click/weighted_time_auc:0.57993 group/auc:0.63063 group/pos_ratio:0.17475 group/top1_score:28.96524 group/top3_score:24.21368 group/time_auc:0.62611 group/weighted_time_auc:0.65065 group/top1_best:114.64013 group/top3_best:64.58955 group/top1_rate:0.25266 group/top3_rate:0.37489 group/top1_click:0.33810 group/top3_click:0.28904 group/top1_click_best:1.00000 group/top3_click_best:0.69158 group/top1_click_rate:0.33810 group/top3_click_rate:0.41795 group/click/auc:0.00000 group/click/pos_ratio:0.00000 group/click/top1_score:84.60910 group/click/top3_score:80.23114 group/click/time_auc:0.56203 group/click/weighted_time_auc:0.68397 group/click/top1_best:114.64013 group/click/top3_best:93.39482 group/click/top1_rate:0.73804 group/click/top3_rate:0.85905 group/click/top1_click:1.00000 group/click/top3_click:1.00000 group/click/top1_click_best:1.00000 group/click/top3_click_best:1.00000 group/click/top1_click_rate:1.00000 group/click/top3_click_rate:1.00000 click_ratio:0.15552 time_per_show:11.56135 time_per_click:74.34225 time_per_user:195.18441 version:tuwen'],\n",
       " ['valid_online_abid4,5,6',\n",
       "  '2019111609',\n",
       "  'tuwen',\n",
       "  'pos_ratio:0.14974 auc:0.67804 time_auc:0.67040 weighted_time_auc:0.70683 click/time_auc:0.58097 click/weighted_time_auc:0.58685 group/auc:0.63894 group/pos_ratio:0.17000 group/top1_score:30.93478 group/top3_score:24.90961 group/time_auc:0.63438 group/weighted_time_auc:0.65906 group/top1_best:113.28554 group/top3_best:63.28623 group/top1_rate:0.27307 group/top3_rate:0.39360 group/top1_click:0.35174 group/top3_click:0.29563 group/top1_click_best:1.00000 group/top3_click_best:0.68736 group/top1_click_rate:0.35174 group/top3_click_rate:0.43009 group/click/auc:0.00000 group/click/pos_ratio:0.00000 group/click/top1_score:84.47588 group/click/top3_score:79.16890 group/click/time_auc:0.56447 group/click/weighted_time_auc:0.69112 group/click/top1_best:113.28554 group/click/top3_best:92.07137 group/click/top1_rate:0.74569 group/click/top3_rate:0.85986 group/click/top1_click:1.00000 group/click/top3_click:1.00000 group/click/top1_click_best:1.00000 group/click/top3_click_best:1.00000 group/click/top1_click_rate:1.00000 group/click/top3_click_rate:1.00000 click_ratio:0.14974 time_per_show:10.91840 time_per_click:72.91390 time_per_user:189.38254 version:tuwen'],\n",
       " ['valid_online_abid4,5,6',\n",
       "  '2019111610',\n",
       "  'tuwen',\n",
       "  'pos_ratio:0.14615 auc:0.67561 time_auc:0.66849 weighted_time_auc:0.70432 click/time_auc:0.58164 click/weighted_time_auc:0.57842 group/auc:0.62976 group/pos_ratio:0.16653 group/top1_score:27.76130 group/top3_score:23.17629 group/time_auc:0.62393 group/weighted_time_auc:0.64959 group/top1_best:109.10114 group/top3_best:60.01049 group/top1_rate:0.25445 group/top3_rate:0.38620 group/top1_click:0.32415 group/top3_click:0.28076 group/top1_click_best:1.00000 group/top3_click_best:0.68116 group/top1_click_rate:0.32415 group/top3_click_rate:0.41218 group/click/auc:0.00000 group/click/pos_ratio:0.00000 group/click/top1_score:81.23434 group/click/top3_score:75.81049 group/click/time_auc:0.56228 group/click/weighted_time_auc:0.68161 group/click/top1_best:109.10114 group/click/top3_best:88.10084 group/click/top1_rate:0.74458 group/click/top3_rate:0.86050 group/click/top1_click:1.00000 group/click/top3_click:1.00000 group/click/top1_click_best:1.00000 group/click/top3_click_best:1.00000 group/click/top1_click_rate:1.00000 group/click/top3_click_rate:1.00000 click_ratio:0.14615 time_per_show:10.25392 time_per_click:70.15888 time_per_user:176.08076 version:tuwen'],\n",
       " ['valid_online_abid4,5,6',\n",
       "  '2019111611',\n",
       "  'tuwen',\n",
       "  'pos_ratio:0.14123 auc:0.68088 time_auc:0.67373 weighted_time_auc:0.71199 click/time_auc:0.58341 click/weighted_time_auc:0.58418 group/auc:0.63345 group/pos_ratio:0.16136 group/top1_score:28.85486 group/top3_score:23.22376 group/time_auc:0.62883 group/weighted_time_auc:0.65331 group/top1_best:110.55648 group/top3_best:60.19543 group/top1_rate:0.26100 group/top3_rate:0.38581 group/top1_click:0.34179 group/top3_click:0.28734 group/top1_click_best:1.00000 group/top3_click_best:0.67402 group/top1_click_rate:0.34179 group/top3_click_rate:0.42630 group/click/auc:0.00000 group/click/pos_ratio:0.00000 group/click/top1_score:80.66631 group/click/top3_score:76.00960 group/click/time_auc:0.55921 group/click/weighted_time_auc:0.68260 group/click/top1_best:110.55648 group/click/top3_best:89.30812 group/click/top1_rate:0.72964 group/click/top3_rate:0.85109 group/click/top1_click:1.00000 group/click/top3_click:1.00000 group/click/top1_click_best:1.00000 group/click/top3_click_best:1.00000 group/click/top1_click_rate:1.00000 group/click/top3_click_rate:1.00000 click_ratio:0.14123 time_per_show:10.10469 time_per_click:71.54773 time_per_user:174.06979 version:tuwen'],\n",
       " ['valid_online_abid4,5,6',\n",
       "  '2019111612',\n",
       "  'tuwen',\n",
       "  'pos_ratio:0.14810 auc:0.68152 time_auc:0.67431 weighted_time_auc:0.71536 click/time_auc:0.58797 click/weighted_time_auc:0.60149 group/auc:0.64317 group/pos_ratio:0.16736 group/top1_score:30.46294 group/top3_score:24.44956 group/time_auc:0.63534 group/weighted_time_auc:0.65981 group/top1_best:110.04079 group/top3_best:60.95205 group/top1_rate:0.27683 group/top3_rate:0.40113 group/top1_click:0.35895 group/top3_click:0.29848 group/top1_click_best:1.00000 group/top3_click_best:0.68237 group/top1_click_rate:0.35895 group/top3_click_rate:0.43741 group/click/auc:0.00000 group/click/pos_ratio:0.00000 group/click/top1_score:81.49714 group/click/top3_score:77.21977 group/click/time_auc:0.55931 group/click/weighted_time_auc:0.68382 group/click/top1_best:110.04079 group/click/top3_best:89.32374 group/click/top1_rate:0.74061 group/click/top3_rate:0.86449 group/click/top1_click:1.00000 group/click/top3_click:1.00000 group/click/top1_click_best:1.00000 group/click/top3_click_best:1.00000 group/click/top1_click_rate:1.00000 group/click/top3_click_rate:1.00000 click_ratio:0.14810 time_per_show:10.58738 time_per_click:71.48610 time_per_user:178.92521 version:tuwen'],\n",
       " ['valid_online_abid4,5,6',\n",
       "  '2019111613',\n",
       "  'tuwen',\n",
       "  'pos_ratio:0.14618 auc:0.67801 time_auc:0.67078 weighted_time_auc:0.70828 click/time_auc:0.58327 click/weighted_time_auc:0.59205 group/auc:0.62983 group/pos_ratio:0.16562 group/top1_score:26.76131 group/top3_score:22.96032 group/time_auc:0.62339 group/weighted_time_auc:0.64739 group/top1_best:107.64542 group/top3_best:59.49304 group/top1_rate:0.24861 group/top3_rate:0.38593 group/top1_click:0.33211 group/top3_click:0.28662 group/top1_click_best:1.00000 group/top3_click_best:0.68239 group/top1_click_rate:0.33211 group/top3_click_rate:0.42003 group/click/auc:0.00000 group/click/pos_ratio:0.00000 group/click/top1_score:79.12712 group/click/top3_score:74.49130 group/click/time_auc:0.55812 group/click/weighted_time_auc:0.68126 group/click/top1_best:107.64542 group/click/top3_best:87.18318 group/click/top1_rate:0.73507 group/click/top3_rate:0.85442 group/click/top1_click:1.00000 group/click/top3_click:1.00000 group/click/top1_click_best:1.00000 group/click/top3_click_best:1.00000 group/click/top1_click_rate:1.00000 group/click/top3_click_rate:1.00000 click_ratio:0.14618 time_per_show:10.13254 time_per_click:69.31585 time_per_user:177.17155 version:tuwen'],\n",
       " ['valid_online_abid4,5,6',\n",
       "  '2019111614',\n",
       "  'tuwen',\n",
       "  'pos_ratio:0.14355 auc:0.67434 time_auc:0.66799 weighted_time_auc:0.70661 click/time_auc:0.58886 click/weighted_time_auc:0.58860 group/auc:0.62518 group/pos_ratio:0.16293 group/top1_score:26.87475 group/top3_score:22.69507 group/time_auc:0.62246 group/weighted_time_auc:0.64875 group/top1_best:108.99813 group/top3_best:60.45220 group/top1_rate:0.24656 group/top3_rate:0.37542 group/top1_click:0.31903 group/top3_click:0.27956 group/top1_click_best:1.00000 group/top3_click_best:0.68470 group/top1_click_rate:0.31903 group/top3_click_rate:0.40829 group/click/auc:0.00000 group/click/pos_ratio:0.00000 group/click/top1_score:80.66236 group/click/top3_score:75.63339 group/click/time_auc:0.56651 group/click/weighted_time_auc:0.69631 group/click/top1_best:108.99813 group/click/top3_best:88.29041 group/click/top1_rate:0.74003 group/click/top3_rate:0.85664 group/click/top1_click:1.00000 group/click/top3_click:1.00000 group/click/top1_click_best:1.00000 group/click/top3_click_best:1.00000 group/click/top1_click_rate:1.00000 group/click/top3_click_rate:1.00000 click_ratio:0.14355 time_per_show:10.01190 time_per_click:69.74474 time_per_user:180.71435 version:tuwen'],\n",
       " ['valid_online_abid4,5,6',\n",
       "  '2019111615',\n",
       "  'tuwen',\n",
       "  'pos_ratio:0.14314 auc:0.67538 time_auc:0.66893 weighted_time_auc:0.70722 click/time_auc:0.58770 click/weighted_time_auc:0.58561 group/auc:0.62605 group/pos_ratio:0.16154 group/top1_score:25.68305 group/top3_score:21.97461 group/time_auc:0.62244 group/weighted_time_auc:0.64771 group/top1_best:108.08834 group/top3_best:60.50601 group/top1_rate:0.23761 group/top3_rate:0.36318 group/top1_click:0.31440 group/top3_click:0.27519 group/top1_click_best:1.00000 group/top3_click_best:0.68835 group/top1_click_rate:0.31440 group/top3_click_rate:0.39978 group/click/auc:0.00000 group/click/pos_ratio:0.00000 group/click/top1_score:79.39125 group/click/top3_score:74.57368 group/click/time_auc:0.56268 group/click/weighted_time_auc:0.69245 group/click/top1_best:108.08834 group/click/top3_best:87.89958 group/click/top1_rate:0.73450 group/click/top3_rate:0.84840 group/click/top1_click:1.00000 group/click/top3_click:1.00000 group/click/top1_click_best:1.00000 group/click/top3_click_best:1.00000 group/click/top1_click_rate:1.00000 group/click/top3_click_rate:1.00000 click_ratio:0.14314 time_per_show:9.78459 time_per_click:68.35656 time_per_user:182.55851 version:tuwen'],\n",
       " ['valid_online_abid4,5,6',\n",
       "  '2019111616',\n",
       "  'tuwen',\n",
       "  'pos_ratio:0.14358 auc:0.66721 time_auc:0.66106 weighted_time_auc:0.69927 click/time_auc:0.58431 click/weighted_time_auc:0.58159 group/auc:0.62397 group/pos_ratio:0.16041 group/top1_score:24.24280 group/top3_score:21.01138 group/time_auc:0.62066 group/weighted_time_auc:0.64607 group/top1_best:104.17200 group/top3_best:58.22210 group/top1_rate:0.23272 group/top3_rate:0.36088 group/top1_click:0.29952 group/top3_click:0.26975 group/top1_click_best:1.00000 group/top3_click_best:0.68649 group/top1_click_rate:0.29952 group/top3_click_rate:0.39294 group/click/auc:0.00000 group/click/pos_ratio:0.00000 group/click/top1_score:77.16988 group/click/top3_score:72.70303 group/click/time_auc:0.56099 group/click/weighted_time_auc:0.68732 group/click/top1_best:104.17200 group/click/top3_best:84.81115 group/click/top1_rate:0.74079 group/click/top3_rate:0.85723 group/click/top1_click:1.00000 group/click/top3_click:1.00000 group/click/top1_click_best:1.00000 group/click/top3_click_best:1.00000 group/click/top1_click_rate:1.00000 group/click/top3_click_rate:1.00000 click_ratio:0.14358 time_per_show:9.52996 time_per_click:66.37481 time_per_user:175.72538 version:tuwen'],\n",
       " ['valid_online_abid4,5,6',\n",
       "  '2019111617',\n",
       "  'tuwen',\n",
       "  'pos_ratio:0.14403 auc:0.66392 time_auc:0.65785 weighted_time_auc:0.69383 click/time_auc:0.58245 click/weighted_time_auc:0.57869 group/auc:0.62168 group/pos_ratio:0.16179 group/top1_score:23.60437 group/top3_score:20.43088 group/time_auc:0.61964 group/weighted_time_auc:0.64335 group/top1_best:104.34348 group/top3_best:57.34918 group/top1_rate:0.22622 group/top3_rate:0.35625 group/top1_click:0.30187 group/top3_click:0.26524 group/top1_click_best:1.00000 group/top3_click_best:0.68187 group/top1_click_rate:0.30187 group/top3_click_rate:0.38898 group/click/auc:0.00000 group/click/pos_ratio:0.00000 group/click/top1_score:77.22032 group/click/top3_score:72.43212 group/click/time_auc:0.56196 group/click/weighted_time_auc:0.68706 group/click/top1_best:104.34348 group/click/top3_best:84.10513 group/click/top1_rate:0.74006 group/click/top3_rate:0.86121 group/click/top1_click:1.00000 group/click/top3_click:1.00000 group/click/top1_click_best:1.00000 group/click/top3_click_best:1.00000 group/click/top1_click_rate:1.00000 group/click/top3_click_rate:1.00000 click_ratio:0.14403 time_per_show:9.45693 time_per_click:65.66040 time_per_user:168.29574 version:tuwen'],\n",
       " ['valid_online_abid4,5,6',\n",
       "  '2019111618',\n",
       "  'tuwen',\n",
       "  'pos_ratio:0.14271 auc:0.66577 time_auc:0.65959 weighted_time_auc:0.69411 click/time_auc:0.58193 click/weighted_time_auc:0.57586 group/auc:0.62046 group/pos_ratio:0.15868 group/top1_score:25.74857 group/top3_score:21.99937 group/time_auc:0.61745 group/weighted_time_auc:0.64136 group/top1_best:110.61725 group/top3_best:61.23875 group/top1_rate:0.23277 group/top3_rate:0.35924 group/top1_click:0.29219 group/top3_click:0.26220 group/top1_click_best:1.00000 group/top3_click_best:0.68250 group/top1_click_rate:0.29219 group/top3_click_rate:0.38418 group/click/auc:0.00000 group/click/pos_ratio:0.00000 group/click/top1_score:82.15676 group/click/top3_score:77.38368 group/click/time_auc:0.56391 group/click/weighted_time_auc:0.69068 group/click/top1_best:110.61725 group/click/top3_best:89.72743 group/click/top1_rate:0.74271 group/click/top3_rate:0.86243 group/click/top1_click:1.00000 group/click/top3_click:1.00000 group/click/top1_click_best:1.00000 group/click/top3_click_best:1.00000 group/click/top1_click_rate:1.00000 group/click/top3_click_rate:1.00000 click_ratio:0.14271 time_per_show:10.01337 time_per_click:70.16358 time_per_user:178.73712 version:tuwen'],\n",
       " ['valid_online_abid4,5,6',\n",
       "  '2019111619',\n",
       "  'tuwen',\n",
       "  'pos_ratio:0.14002 auc:0.67217 time_auc:0.66524 weighted_time_auc:0.70413 click/time_auc:0.57674 click/weighted_time_auc:0.58798 group/auc:0.61897 group/pos_ratio:0.15737 group/top1_score:24.62570 group/top3_score:21.93371 group/time_auc:0.61498 group/weighted_time_auc:0.63851 group/top1_best:112.76878 group/top3_best:62.64751 group/top1_rate:0.21837 group/top3_rate:0.35011 group/top1_click:0.28280 group/top3_click:0.26161 group/top1_click_best:1.00000 group/top3_click_best:0.68220 group/top1_click_rate:0.28280 group/top3_click_rate:0.38348 group/click/auc:0.00000 group/click/pos_ratio:0.00000 group/click/top1_score:82.11129 group/click/top3_score:78.45570 group/click/time_auc:0.55656 group/click/weighted_time_auc:0.68041 group/click/top1_best:112.76878 group/click/top3_best:91.83225 group/click/top1_rate:0.72814 group/click/top3_rate:0.85434 group/click/top1_click:1.00000 group/click/top3_click:1.00000 group/click/top1_click_best:1.00000 group/click/top3_click_best:1.00000 group/click/top1_click_rate:1.00000 group/click/top3_click_rate:1.00000 click_ratio:0.14002 time_per_show:9.93221 time_per_click:70.93474 time_per_user:186.06948 version:tuwen'],\n",
       " ['valid_online_abid4,5,6',\n",
       "  '2019111620',\n",
       "  'tuwen',\n",
       "  'pos_ratio:0.13953 auc:0.67846 time_auc:0.67060 weighted_time_auc:0.70387 click/time_auc:0.57054 click/weighted_time_auc:0.57826 group/auc:0.61562 group/pos_ratio:0.15816 group/top1_score:27.49933 group/top3_score:22.67240 group/time_auc:0.61123 group/weighted_time_auc:0.63497 group/top1_best:115.71544 group/top3_best:65.16456 group/top1_rate:0.23765 group/top3_rate:0.34793 group/top1_click:0.30063 group/top3_click:0.26546 group/top1_click_best:1.00000 group/top3_click_best:0.69173 group/top1_click_rate:0.30063 group/top3_click_rate:0.38376 group/click/auc:0.00000 group/click/pos_ratio:0.00000 group/click/top1_score:84.57268 group/click/top3_score:79.99149 group/click/time_auc:0.55594 group/click/weighted_time_auc:0.67773 group/click/top1_best:115.71544 group/click/top3_best:94.20527 group/click/top1_rate:0.73087 group/click/top3_rate:0.84912 group/click/top1_click:1.00000 group/click/top3_click:1.00000 group/click/top1_click_best:1.00000 group/click/top3_click_best:1.00000 group/click/top1_click_rate:1.00000 group/click/top3_click_rate:1.00000 click_ratio:0.13953 time_per_show:10.08139 time_per_click:72.25411 time_per_user:195.60632 version:tuwen'],\n",
       " ['valid_online_abid4,5,6',\n",
       "  '2019111621',\n",
       "  'tuwen',\n",
       "  'pos_ratio:0.13796 auc:0.67481 time_auc:0.66762 weighted_time_auc:0.70340 click/time_auc:0.57497 click/weighted_time_auc:0.59355 group/auc:0.61543 group/pos_ratio:0.15655 group/top1_score:26.65276 group/top3_score:22.95184 group/time_auc:0.61273 group/weighted_time_auc:0.63358 group/top1_best:118.02659 group/top3_best:66.80648 group/top1_rate:0.22582 group/top3_rate:0.34356 group/top1_click:0.29815 group/top3_click:0.26541 group/top1_click_best:1.00000 group/top3_click_best:0.69561 group/top1_click_rate:0.29815 group/top3_click_rate:0.38155 group/click/auc:0.00000 group/click/pos_ratio:0.00000 group/click/top1_score:85.06812 group/click/top3_score:80.49871 group/click/time_auc:0.55549 group/click/weighted_time_auc:0.68204 group/click/top1_best:118.02659 group/click/top3_best:96.04014 group/click/top1_rate:0.72075 group/click/top3_rate:0.83818 group/click/top1_click:1.00000 group/click/top3_click:1.00000 group/click/top1_click_best:1.00000 group/click/top3_click_best:1.00000 group/click/top1_click_rate:1.00000 group/click/top3_click_rate:1.00000 click_ratio:0.13796 time_per_show:10.15477 time_per_click:73.60610 time_per_user:201.46831 version:tuwen'],\n",
       " ['valid_online_abid4,5,6',\n",
       "  '2019111622',\n",
       "  'tuwen',\n",
       "  'pos_ratio:0.14350 auc:0.66848 time_auc:0.66150 weighted_time_auc:0.69464 click/time_auc:0.57577 click/weighted_time_auc:0.58658 group/auc:0.61458 group/pos_ratio:0.16038 group/top1_score:25.88670 group/top3_score:22.55045 group/time_auc:0.61326 group/weighted_time_auc:0.63319 group/top1_best:120.73108 group/top3_best:69.04138 group/top1_rate:0.21442 group/top3_rate:0.32662 group/top1_click:0.28990 group/top3_click:0.26183 group/top1_click_best:1.00000 group/top3_click_best:0.70358 group/top1_click_rate:0.28990 group/top3_click_rate:0.37214 group/click/auc:0.00000 group/click/pos_ratio:0.00000 group/click/top1_score:84.69056 group/click/top3_score:81.29170 group/click/time_auc:0.55696 group/click/weighted_time_auc:0.68430 group/click/top1_best:120.73108 group/click/top3_best:98.12826 group/click/top1_rate:0.70148 group/click/top3_rate:0.82842 group/click/top1_click:1.00000 group/click/top3_click:1.00000 group/click/top1_click_best:1.00000 group/click/top3_click_best:1.00000 group/click/top1_click_rate:1.00000 group/click/top3_click_rate:1.00000 click_ratio:0.14350 time_per_show:10.66894 time_per_click:74.34858 time_per_user:214.84427 version:tuwen'],\n",
       " ['valid_online_abid4,5,6',\n",
       "  '2019111623',\n",
       "  'tuwen',\n",
       "  'pos_ratio:0.13981 auc:0.67856 time_auc:0.67027 weighted_time_auc:0.69733 click/time_auc:0.56572 click/weighted_time_auc:0.57757 group/auc:0.62050 group/pos_ratio:0.15856 group/top1_score:28.87487 group/top3_score:23.88768 group/time_auc:0.61712 group/weighted_time_auc:0.64276 group/top1_best:121.06256 group/top3_best:68.75473 group/top1_rate:0.23851 group/top3_rate:0.34743 group/top1_click:0.30044 group/top3_click:0.26865 group/top1_click_best:1.00000 group/top3_click_best:0.70045 group/top1_click_rate:0.30044 group/top3_click_rate:0.38354 group/click/auc:0.00000 group/click/pos_ratio:0.00000 group/click/top1_score:87.39560 group/click/top3_score:82.91083 group/click/time_auc:0.56286 group/click/weighted_time_auc:0.69398 group/click/top1_best:121.06256 group/click/top3_best:98.15801 group/click/top1_rate:0.72190 group/click/top3_rate:0.84467 group/click/top1_click:1.00000 group/click/top3_click:1.00000 group/click/top1_click_best:1.00000 group/click/top3_click_best:1.00000 group/click/top1_click_rate:1.00000 group/click/top3_click_rate:1.00000 click_ratio:0.13981 time_per_show:10.56798 time_per_click:75.58755 time_per_user:210.65184 version:tuwen'],\n",
       " ['valid_online_abid4,5,6',\n",
       "  '2019111700',\n",
       "  'tuwen',\n",
       "  'pos_ratio:0.14369 auc:0.66475 time_auc:0.65962 weighted_time_auc:0.69833 click/time_auc:0.59524 click/weighted_time_auc:0.58167 group/auc:0.61686 group/pos_ratio:0.16383 group/top1_score:23.06505 group/top3_score:20.74473 group/time_auc:0.61122 group/weighted_time_auc:0.63772 group/top1_best:104.68707 group/top3_best:60.47353 group/top1_rate:0.22032 group/top3_rate:0.34304 group/top1_click:0.29712 group/top3_click:0.27178 group/top1_click_best:1.00000 group/top3_click_best:0.70400 group/top1_click_rate:0.29712 group/top3_click_rate:0.38605 group/click/auc:0.00000 group/click/pos_ratio:0.00000 group/click/top1_score:76.56583 group/click/top3_score:72.53273 group/click/time_auc:0.55983 group/click/weighted_time_auc:0.69410 group/click/top1_best:104.68707 group/click/top3_best:85.89957 group/click/top1_rate:0.73138 group/click/top3_rate:0.84439 group/click/top1_click:1.00000 group/click/top3_click:1.00000 group/click/top1_click_best:1.00000 group/click/top3_click_best:1.00000 group/click/top1_click_rate:1.00000 group/click/top3_click_rate:1.00000 click_ratio:0.14369 time_per_show:9.85808 time_per_click:68.60572 time_per_user:192.22175 version:tuwen'],\n",
       " ['valid_online_abid4,5,6',\n",
       "  '2019111701',\n",
       "  'tuwen',\n",
       "  'pos_ratio:0.14057 auc:0.66487 time_auc:0.66141 weighted_time_auc:0.70911 click/time_auc:0.61203 click/weighted_time_auc:0.57697 group/auc:0.61176 group/pos_ratio:0.16278 group/top1_score:22.76941 group/top3_score:19.18572 group/time_auc:0.60402 group/weighted_time_auc:0.63105 group/top1_best:98.31676 group/top3_best:56.22107 group/top1_rate:0.23159 group/top3_rate:0.34125 group/top1_click:0.30293 group/top3_click:0.27432 group/top1_click_best:1.00000 group/top3_click_best:0.70547 group/top1_click_rate:0.30293 group/top3_click_rate:0.38884 group/click/auc:0.00000 group/click/pos_ratio:0.00000 group/click/top1_score:71.27905 group/click/top3_score:67.70657 group/click/time_auc:0.56417 group/click/weighted_time_auc:0.69629 group/click/top1_best:98.31676 group/click/top3_best:79.69323 group/click/top1_rate:0.72499 group/click/top3_rate:0.84959 group/click/top1_click:1.00000 group/click/top3_click:1.00000 group/click/top1_click_best:1.00000 group/click/top3_click_best:1.00000 group/click/top1_click_rate:1.00000 group/click/top3_click_rate:1.00000 click_ratio:0.14057 time_per_show:9.18135 time_per_click:65.31495 time_per_user:172.83472 version:tuwen'],\n",
       " ['valid_online_abid4,5,6',\n",
       "  '2019111702',\n",
       "  'tuwen',\n",
       "  'pos_ratio:0.14208 auc:0.67580 time_auc:0.67231 weighted_time_auc:0.72020 click/time_auc:0.61989 click/weighted_time_auc:0.55024 group/auc:0.61503 group/pos_ratio:0.16986 group/top1_score:20.95690 group/top3_score:19.44349 group/time_auc:0.60504 group/weighted_time_auc:0.63317 group/top1_best:95.71732 group/top3_best:54.58439 group/top1_rate:0.21895 group/top3_rate:0.35621 group/top1_click:0.30393 group/top3_click:0.29210 group/top1_click_best:1.00000 group/top3_click_best:0.70242 group/top1_click_rate:0.30393 group/top3_click_rate:0.41584 group/click/auc:0.00000 group/click/pos_ratio:0.00000 group/click/top1_score:69.44908 group/click/top3_score:66.64023 group/click/time_auc:0.55955 group/click/weighted_time_auc:0.69290 group/click/top1_best:95.71732 group/click/top3_best:77.70897 group/click/top1_rate:0.72556 group/click/top3_rate:0.85756 group/click/top1_click:1.00000 group/click/top3_click:1.00000 group/click/top1_click_best:1.00000 group/click/top3_click_best:1.00000 group/click/top1_click_rate:1.00000 group/click/top3_click_rate:1.00000 click_ratio:0.14208 time_per_show:9.39023 time_per_click:66.09009 time_per_user:167.00868 version:tuwen'],\n",
       " ['valid_online_abid4,5,6',\n",
       "  '2019111703',\n",
       "  'tuwen',\n",
       "  'pos_ratio:0.12769 auc:0.70258 time_auc:0.69947 weighted_time_auc:0.74785 click/time_auc:0.63908 click/weighted_time_auc:0.55296 group/auc:0.61002 group/pos_ratio:0.17011 group/top1_score:21.53319 group/top3_score:18.49343 group/time_auc:0.60345 group/weighted_time_auc:0.63398 group/top1_best:87.36788 group/top3_best:50.08958 group/top1_rate:0.24647 group/top3_rate:0.36921 group/top1_click:0.31094 group/top3_click:0.29273 group/top1_click_best:1.00000 group/top3_click_best:0.69562 group/top1_click_rate:0.31094 group/top3_click_rate:0.42082 group/click/auc:0.00000 group/click/pos_ratio:0.00000 group/click/top1_score:66.48465 group/click/top3_score:63.19612 group/click/time_auc:0.56544 group/click/weighted_time_auc:0.70904 group/click/top1_best:87.36788 group/click/top3_best:72.00692 group/click/top1_rate:0.76097 group/click/top3_rate:0.87764 group/click/top1_click:1.00000 group/click/top3_click:1.00000 group/click/top1_click_best:1.00000 group/click/top3_click_best:1.00000 group/click/top1_click_rate:1.00000 group/click/top3_click_rate:1.00000 click_ratio:0.12769 time_per_show:7.96271 time_per_click:62.35967 time_per_user:145.20948 version:tuwen'],\n",
       " ['valid_online_abid4,5,6',\n",
       "  '2019111704',\n",
       "  'tuwen',\n",
       "  'pos_ratio:0.11890 auc:0.70138 time_auc:0.69947 weighted_time_auc:0.75922 click/time_auc:0.65118 click/weighted_time_auc:0.56766 group/auc:0.61457 group/pos_ratio:0.16326 group/top1_score:23.45329 group/top3_score:20.08314 group/time_auc:0.60470 group/weighted_time_auc:0.63946 group/top1_best:92.53201 group/top3_best:51.50649 group/top1_rate:0.25346 group/top3_rate:0.38991 group/top1_click:0.32312 group/top3_click:0.29088 group/top1_click_best:1.00000 group/top3_click_best:0.67950 group/top1_click_rate:0.32312 group/top3_click_rate:0.42808 group/click/auc:0.00000 group/click/pos_ratio:0.00000 group/click/top1_score:72.81623 group/click/top3_score:67.96768 group/click/time_auc:0.56587 group/click/weighted_time_auc:0.71204 group/click/top1_best:92.53201 group/click/top3_best:75.80039 group/click/top1_rate:0.78693 group/click/top3_rate:0.89667 group/click/top1_click:1.00000 group/click/top3_click:1.00000 group/click/top1_click_best:1.00000 group/click/top3_click_best:1.00000 group/click/top1_click_rate:1.00000 group/click/top3_click_rate:1.00000 click_ratio:0.11890 time_per_show:7.93059 time_per_click:66.69756 time_per_user:141.77124 version:tuwen'],\n",
       " ['valid_online_abid4,5,6',\n",
       "  '2019111705',\n",
       "  'tuwen',\n",
       "  'pos_ratio:0.13294 auc:0.68893 time_auc:0.68543 weighted_time_auc:0.74316 click/time_auc:0.62709 click/weighted_time_auc:0.58302 group/auc:0.61191 group/pos_ratio:0.16967 group/top1_score:25.52666 group/top3_score:21.23903 group/time_auc:0.59948 group/weighted_time_auc:0.63360 group/top1_best:102.17038 group/top3_best:57.12756 group/top1_rate:0.24984 group/top3_rate:0.37178 group/top1_click:0.32082 group/top3_click:0.28506 group/top1_click_best:1.00000 group/top3_click_best:0.69088 group/top1_click_rate:0.32082 group/top3_click_rate:0.41261 group/click/auc:0.00000 group/click/pos_ratio:0.00000 group/click/top1_score:79.16203 group/click/top3_score:73.81133 group/click/time_auc:0.56132 group/click/weighted_time_auc:0.69791 group/click/top1_best:102.17038 group/click/top3_best:82.68816 group/click/top1_rate:0.77480 group/click/top3_rate:0.89265 group/click/top1_click:1.00000 group/click/top3_click:1.00000 group/click/top1_click_best:1.00000 group/click/top3_click_best:1.00000 group/click/top1_click_rate:1.00000 group/click/top3_click_rate:1.00000 click_ratio:0.13294 time_per_show:9.47647 time_per_click:71.28172 time_per_user:159.12140 version:tuwen'],\n",
       " ['valid_online_abid4,5,6',\n",
       "  '2019111706',\n",
       "  'tuwen',\n",
       "  'pos_ratio:0.14888 auc:0.67339 time_auc:0.66710 weighted_time_auc:0.70778 click/time_auc:0.59044 click/weighted_time_auc:0.58456 group/auc:0.61182 group/pos_ratio:0.17528 group/top1_score:26.27570 group/top3_score:23.10174 group/time_auc:0.60626 group/weighted_time_auc:0.63418 group/top1_best:115.55779 group/top3_best:66.56290 group/top1_rate:0.22738 group/top3_rate:0.34707 group/top1_click:0.29349 group/top3_click:0.27218 group/top1_click_best:1.00000 group/top3_click_best:0.69970 group/top1_click_rate:0.29349 group/top3_click_rate:0.38899 group/click/auc:0.00000 group/click/pos_ratio:0.00000 group/click/top1_score:87.00349 group/click/top3_score:81.74927 group/click/time_auc:0.56626 group/click/weighted_time_auc:0.70169 group/click/top1_best:115.55779 group/click/top3_best:95.13044 group/click/top1_rate:0.75290 group/click/top3_rate:0.85934 group/click/top1_click:1.00000 group/click/top3_click:1.00000 group/click/top1_click_best:1.00000 group/click/top3_click_best:1.00000 group/click/top1_click_rate:1.00000 group/click/top3_click_rate:1.00000 click_ratio:0.14888 time_per_show:11.52984 time_per_click:77.44148 time_per_user:204.64162 version:tuwen'],\n",
       " ['valid_online_abid4,5,6',\n",
       "  '2019111707',\n",
       "  'tuwen',\n",
       "  'pos_ratio:0.15045 auc:0.66995 time_auc:0.66305 weighted_time_auc:0.70131 click/time_auc:0.58194 click/weighted_time_auc:0.60271 group/auc:0.61848 group/pos_ratio:0.17103 group/top1_score:27.35028 group/top3_score:23.29219 group/time_auc:0.61447 group/weighted_time_auc:0.63826 group/top1_best:113.38203 group/top3_best:64.53523 group/top1_rate:0.24122 group/top3_rate:0.36092 group/top1_click:0.30871 group/top3_click:0.27525 group/top1_click_best:1.00000 group/top3_click_best:0.69402 group/top1_click_rate:0.30871 group/top3_click_rate:0.39661 group/click/auc:0.00000 group/click/pos_ratio:0.00000 group/click/top1_score:83.43546 group/click/top3_score:79.48705 group/click/time_auc:0.56081 group/click/weighted_time_auc:0.69238 group/click/top1_best:113.38203 group/click/top3_best:92.98823 group/click/top1_rate:0.73588 group/click/top3_rate:0.85481 group/click/top1_click:1.00000 group/click/top3_click:1.00000 group/click/top1_click_best:1.00000 group/click/top3_click_best:1.00000 group/click/top1_click_rate:1.00000 group/click/top3_click_rate:1.00000 click_ratio:0.15045 time_per_show:11.29220 time_per_click:75.05476 time_per_user:196.27425 version:tuwen'],\n",
       " ['valid_online_abid4,5,6',\n",
       "  '2019111708',\n",
       "  'tuwen',\n",
       "  'pos_ratio:0.15065 auc:0.67486 time_auc:0.66618 weighted_time_auc:0.69265 click/time_auc:0.56554 click/weighted_time_auc:0.57477 group/auc:0.61975 group/pos_ratio:0.17204 group/top1_score:26.67051 group/top3_score:22.57297 group/time_auc:0.61384 group/weighted_time_auc:0.64014 group/top1_best:113.07749 group/top3_best:63.90417 group/top1_rate:0.23586 group/top3_rate:0.35323 group/top1_click:0.31075 group/top3_click:0.27456 group/top1_click_best:1.00000 group/top3_click_best:0.69400 group/top1_click_rate:0.31075 group/top3_click_rate:0.39562 group/click/auc:0.00000 group/click/pos_ratio:0.00000 group/click/top1_score:82.43364 group/click/top3_score:78.17963 group/click/time_auc:0.55878 group/click/weighted_time_auc:0.68831 group/click/top1_best:113.07749 group/click/top3_best:92.08046 group/click/top1_rate:0.72900 group/click/top3_rate:0.84904 group/click/top1_click:1.00000 group/click/top3_click:1.00000 group/click/top1_click_best:1.00000 group/click/top3_click_best:1.00000 group/click/top1_click_rate:1.00000 group/click/top3_click_rate:1.00000 click_ratio:0.15065 time_per_show:11.07669 time_per_click:73.52648 time_per_user:193.56963 version:tuwen'],\n",
       " ['valid_online_abid4,5,6',\n",
       "  '2019111709',\n",
       "  'tuwen',\n",
       "  'pos_ratio:0.14705 auc:0.67602 time_auc:0.66725 weighted_time_auc:0.69356 click/time_auc:0.56257 click/weighted_time_auc:0.56580 group/auc:0.61748 group/pos_ratio:0.16859 group/top1_score:23.08002 group/top3_score:20.91534 group/time_auc:0.61311 group/weighted_time_auc:0.63819 group/top1_best:108.58819 group/top3_best:61.27583 group/top1_rate:0.21255 group/top3_rate:0.34133 group/top1_click:0.28461 group/top3_click:0.26489 group/top1_click_best:1.00000 group/top3_click_best:0.68983 group/top1_click_rate:0.28461 group/top3_click_rate:0.38399 group/click/auc:0.00000 group/click/pos_ratio:0.00000 group/click/top1_score:79.82440 group/click/top3_score:75.70127 group/click/time_auc:0.56187 group/click/weighted_time_auc:0.68761 group/click/top1_best:108.58819 group/click/top3_best:88.82712 group/click/top1_rate:0.73511 group/click/top3_rate:0.85223 group/click/top1_click:1.00000 group/click/top3_click:1.00000 group/click/top1_click_best:1.00000 group/click/top3_click_best:1.00000 group/click/top1_click_rate:1.00000 group/click/top3_click_rate:1.00000 click_ratio:0.14705 time_per_show:10.31924 time_per_click:70.17559 time_per_user:184.54233 version:tuwen'],\n",
       " ['valid_online_abid4,5,6',\n",
       "  '2019111710',\n",
       "  'tuwen',\n",
       "  'pos_ratio:0.14272 auc:0.67112 time_auc:0.66366 weighted_time_auc:0.69488 click/time_auc:0.57104 click/weighted_time_auc:0.57509 group/auc:0.61689 group/pos_ratio:0.16450 group/top1_score:25.14775 group/top3_score:21.14774 group/time_auc:0.61277 group/weighted_time_auc:0.63633 group/top1_best:107.95192 group/top3_best:59.17690 group/top1_rate:0.23295 group/top3_rate:0.35736 group/top1_click:0.29433 group/top3_click:0.26403 group/top1_click_best:1.00000 group/top3_click_best:0.67915 group/top1_click_rate:0.29433 group/top3_click_rate:0.38877 group/click/auc:0.00000 group/click/pos_ratio:0.00000 group/click/top1_score:78.11606 group/click/top3_score:74.45281 group/click/time_auc:0.55621 group/click/weighted_time_auc:0.68084 group/click/top1_best:107.95192 group/click/top3_best:87.13419 group/click/top1_rate:0.72362 group/click/top3_rate:0.85446 group/click/top1_click:1.00000 group/click/top3_click:1.00000 group/click/top1_click_best:1.00000 group/click/top3_click_best:1.00000 group/click/top1_click_rate:1.00000 group/click/top3_click_rate:1.00000 click_ratio:0.14272 time_per_show:9.91380 time_per_click:69.46459 time_per_user:171.60227 version:tuwen'],\n",
       " ['valid_online_abid4,5,6',\n",
       "  '2019111711',\n",
       "  'tuwen',\n",
       "  'pos_ratio:0.14086 auc:0.67279 time_auc:0.66609 weighted_time_auc:0.70210 click/time_auc:0.58142 click/weighted_time_auc:0.58520 group/auc:0.62038 group/pos_ratio:0.16243 group/top1_score:26.28447 group/top3_score:21.51067 group/time_auc:0.61626 group/weighted_time_auc:0.63902 group/top1_best:104.59676 group/top3_best:56.68670 group/top1_rate:0.25129 group/top3_rate:0.37947 group/top1_click:0.31052 group/top3_click:0.27362 group/top1_click_best:1.00000 group/top3_click_best:0.66895 group/top1_click_rate:0.31052 group/top3_click_rate:0.40903 group/click/auc:0.00000 group/click/pos_ratio:0.00000 group/click/top1_score:78.10285 group/click/top3_score:73.60449 group/click/time_auc:0.55798 group/click/weighted_time_auc:0.68114 group/click/top1_best:104.59676 group/click/top3_best:84.74000 group/click/top1_rate:0.74670 group/click/top3_rate:0.86859 group/click/top1_click:1.00000 group/click/top3_click:1.00000 group/click/top1_click_best:1.00000 group/click/top3_click_best:1.00000 group/click/top1_click_rate:1.00000 group/click/top3_click_rate:1.00000 click_ratio:0.14086 time_per_show:9.64953 time_per_click:68.50425 time_per_user:160.66816 version:tuwen'],\n",
       " ['valid_online_abid4,5,6',\n",
       "  '2019111712',\n",
       "  'tuwen',\n",
       "  'pos_ratio:0.14442 auc:0.67608 time_auc:0.66855 weighted_time_auc:0.70208 click/time_auc:0.57675 click/weighted_time_auc:0.58290 group/auc:0.62998 group/pos_ratio:0.16586 group/top1_score:26.78801 group/top3_score:22.49863 group/time_auc:0.62480 group/weighted_time_auc:0.64752 group/top1_best:107.58740 group/top3_best:58.95422 group/top1_rate:0.24899 group/top3_rate:0.38163 group/top1_click:0.32540 group/top3_click:0.27944 group/top1_click_best:1.00000 group/top3_click_best:0.67212 group/top1_click_rate:0.32540 group/top3_click_rate:0.41576 group/click/auc:0.00000 group/click/pos_ratio:0.00000 group/click/top1_score:80.32586 group/click/top3_score:75.72750 group/click/time_auc:0.55622 group/click/weighted_time_auc:0.68269 group/click/top1_best:107.58740 group/click/top3_best:87.71424 group/click/top1_rate:0.74661 group/click/top3_rate:0.86334 group/click/top1_click:1.00000 group/click/top3_click:1.00000 group/click/top1_click_best:1.00000 group/click/top3_click_best:1.00000 group/click/top1_click_rate:1.00000 group/click/top3_click_rate:1.00000 click_ratio:0.14442 time_per_show:10.19226 time_per_click:70.57454 time_per_user:168.52386 version:tuwen'],\n",
       " ['valid_online_abid4,5,6',\n",
       "  '2019111713',\n",
       "  'tuwen',\n",
       "  'pos_ratio:0.13890 auc:0.67611 time_auc:0.66945 weighted_time_auc:0.70458 click/time_auc:0.58374 click/weighted_time_auc:0.58507 group/auc:0.61868 group/pos_ratio:0.16041 group/top1_score:25.11987 group/top3_score:21.57363 group/time_auc:0.61673 group/weighted_time_auc:0.63888 group/top1_best:105.92314 group/top3_best:58.37808 group/top1_rate:0.23715 group/top3_rate:0.36955 group/top1_click:0.30644 group/top3_click:0.27274 group/top1_click_best:1.00000 group/top3_click_best:0.67222 group/top1_click_rate:0.30644 group/top3_click_rate:0.40573 group/click/auc:0.00000 group/click/pos_ratio:0.00000 group/click/top1_score:78.77100 group/click/top3_score:74.89225 group/click/time_auc:0.56229 group/click/weighted_time_auc:0.68491 group/click/top1_best:105.92314 group/click/top3_best:86.84318 group/click/top1_rate:0.74366 group/click/top3_rate:0.86238 group/click/top1_click:1.00000 group/click/top3_click:1.00000 group/click/top1_click_best:1.00000 group/click/top3_click_best:1.00000 group/click/top1_click_rate:1.00000 group/click/top3_click_rate:1.00000 click_ratio:0.13890 time_per_show:9.70344 time_per_click:69.86169 time_per_user:168.75725 version:tuwen'],\n",
       " ['valid_online_abid4,5,6',\n",
       "  '2019111714',\n",
       "  'tuwen',\n",
       "  'pos_ratio:0.13800 auc:0.67317 time_auc:0.66718 weighted_time_auc:0.70742 click/time_auc:0.58853 click/weighted_time_auc:0.58860 group/auc:0.62353 group/pos_ratio:0.15880 group/top1_score:26.42547 group/top3_score:22.38381 group/time_auc:0.61659 group/weighted_time_auc:0.64117 group/top1_best:104.98899 group/top3_best:57.70728 group/top1_rate:0.25170 group/top3_rate:0.38789 group/top1_click:0.32746 group/top3_click:0.27972 group/top1_click_best:1.00000 group/top3_click_best:0.67414 group/top1_click_rate:0.32746 group/top3_click_rate:0.41493 group/click/auc:0.00000 group/click/pos_ratio:0.00000 group/click/top1_score:78.32322 group/click/top3_score:74.05558 group/click/time_auc:0.55992 group/click/weighted_time_auc:0.68396 group/click/top1_best:104.98899 group/click/top3_best:85.60193 group/click/top1_rate:0.74601 group/click/top3_rate:0.86512 group/click/top1_click:1.00000 group/click/top3_click:1.00000 group/click/top1_click_best:1.00000 group/click/top3_click_best:1.00000 group/click/top1_click_rate:1.00000 group/click/top3_click_rate:1.00000 click_ratio:0.13800 time_per_show:9.44188 time_per_click:68.42149 time_per_user:164.29902 version:tuwen'],\n",
       " ['valid_online_abid4,5,6',\n",
       "  '2019111715',\n",
       "  'tuwen',\n",
       "  'pos_ratio:0.11914 auc:0.65550 time_auc:0.65213 weighted_time_auc:0.69495 click/time_auc:0.59812 click/weighted_time_auc:0.57687 group/auc:0.61149 group/pos_ratio:0.14102 group/top1_score:22.07813 group/top3_score:18.10913 group/time_auc:0.60692 group/weighted_time_auc:0.62837 group/top1_best:94.09479 group/top3_best:48.14873 group/top1_rate:0.23464 group/top3_rate:0.37611 group/top1_click:0.29470 group/top3_click:0.24623 group/top1_click_best:1.00000 group/top3_click_best:0.62703 group/top1_click_rate:0.29470 group/top3_click_rate:0.39270 group/click/auc:0.00000 group/click/pos_ratio:0.00000 group/click/top1_score:73.45530 group/click/top3_score:69.81055 group/click/time_auc:0.56179 group/click/weighted_time_auc:0.68574 group/click/top1_best:94.09479 group/click/top3_best:76.78858 group/click/top1_rate:0.78065 group/click/top3_rate:0.90913 group/click/top1_click:1.00000 group/click/top3_click:1.00000 group/click/top1_click_best:1.00000 group/click/top3_click_best:1.00000 group/click/top1_click_rate:1.00000 group/click/top3_click_rate:1.00000 click_ratio:0.11914 time_per_show:7.77761 time_per_click:65.28355 time_per_user:118.27663 version:tuwen'],\n",
       " ['valid_online_abid4,5,6',\n",
       "  '2019111716',\n",
       "  'tuwen',\n",
       "  'pos_ratio:0.12802 auc:0.65684 time_auc:0.65284 weighted_time_auc:0.69915 click/time_auc:0.59485 click/weighted_time_auc:0.58844 group/auc:0.61031 group/pos_ratio:0.14530 group/top1_score:23.22535 group/top3_score:20.13218 group/time_auc:0.60699 group/weighted_time_auc:0.62916 group/top1_best:101.00490 group/top3_best:52.50193 group/top1_rate:0.22994 group/top3_rate:0.38346 group/top1_click:0.28075 group/top3_click:0.25100 group/top1_click_best:1.00000 group/top3_click_best:0.64187 group/top1_click_rate:0.28075 group/top3_click_rate:0.39105 group/click/auc:0.00000 group/click/pos_ratio:0.00000 group/click/top1_score:78.45884 group/click/top3_score:72.51382 group/click/time_auc:0.56391 group/click/weighted_time_auc:0.69020 group/click/top1_best:101.00490 group/click/top3_best:81.79521 group/click/top1_rate:0.77678 group/click/top3_rate:0.88653 group/click/top1_click:1.00000 group/click/top3_click:1.00000 group/click/top1_click_best:1.00000 group/click/top3_click_best:1.00000 group/click/top1_click_rate:1.00000 group/click/top3_click_rate:1.00000 click_ratio:0.12802 time_per_show:8.64916 time_per_click:67.56026 time_per_user:138.69349 version:tuwen'],\n",
       " ['valid_online_abid4,5,6',\n",
       "  '2019111717',\n",
       "  'tuwen',\n",
       "  'pos_ratio:0.13279 auc:0.65744 time_auc:0.65318 weighted_time_auc:0.69479 click/time_auc:0.59441 click/weighted_time_auc:0.59516 group/auc:0.61428 group/pos_ratio:0.14809 group/top1_score:21.93041 group/top3_score:19.20462 group/time_auc:0.61038 group/weighted_time_auc:0.63353 group/top1_best:104.93618 group/top3_best:56.82886 group/top1_rate:0.20899 group/top3_rate:0.33794 group/top1_click:0.26592 group/top3_click:0.24344 group/top1_click_best:1.00000 group/top3_click_best:0.66511 group/top1_click_rate:0.26592 group/top3_click_rate:0.36601 group/click/auc:0.00000 group/click/pos_ratio:0.00000 group/click/top1_score:78.98534 group/click/top3_score:74.30147 group/click/time_auc:0.56420 group/click/weighted_time_auc:0.68595 group/click/top1_best:104.93618 group/click/top3_best:85.44247 group/click/top1_rate:0.75270 group/click/top3_rate:0.86961 group/click/top1_click:1.00000 group/click/top3_click:1.00000 group/click/top1_click_best:1.00000 group/click/top3_click_best:1.00000 group/click/top1_click_rate:1.00000 group/click/top3_click_rate:1.00000 click_ratio:0.13279 time_per_show:9.08676 time_per_click:68.42797 time_per_user:159.56447 version:tuwen'],\n",
       " ['valid_online_abid4,5,6',\n",
       "  '2019111718',\n",
       "  'tuwen',\n",
       "  'pos_ratio:0.13847 auc:0.66439 time_auc:0.65891 weighted_time_auc:0.69808 click/time_auc:0.58732 click/weighted_time_auc:0.58180 group/auc:0.61488 group/pos_ratio:0.15620 group/top1_score:24.95395 group/top3_score:22.01689 group/time_auc:0.61170 group/weighted_time_auc:0.63607 group/top1_best:114.77980 group/top3_best:63.10884 group/top1_rate:0.21741 group/top3_rate:0.34887 group/top1_click:0.28896 group/top3_click:0.25762 group/top1_click_best:1.00000 group/top3_click_best:0.67777 group/top1_click_rate:0.28896 group/top3_click_rate:0.38010 group/click/auc:0.00000 group/click/pos_ratio:0.00000 group/click/top1_score:83.98854 group/click/top3_score:79.52910 group/click/time_auc:0.56143 group/click/weighted_time_auc:0.68024 group/click/top1_best:114.77980 group/click/top3_best:93.11256 group/click/top1_rate:0.73174 group/click/top3_rate:0.85412 group/click/top1_click:1.00000 group/click/top3_click:1.00000 group/click/top1_click_best:1.00000 group/click/top3_click_best:1.00000 group/click/top1_click_rate:1.00000 group/click/top3_click_rate:1.00000 click_ratio:0.13847 time_per_show:10.10426 time_per_click:72.97285 time_per_user:181.86272 version:tuwen'],\n",
       " ['valid_online_abid4,5,6',\n",
       "  '2019111719',\n",
       "  'tuwen',\n",
       "  'pos_ratio:0.13600 auc:0.67515 time_auc:0.66871 weighted_time_auc:0.70481 click/time_auc:0.58339 click/weighted_time_auc:0.58235 group/auc:0.61536 group/pos_ratio:0.15505 group/top1_score:24.73507 group/top3_score:22.25391 group/time_auc:0.61272 group/weighted_time_auc:0.63447 group/top1_best:119.66725 group/top3_best:66.46106 group/top1_rate:0.20670 group/top3_rate:0.33484 group/top1_click:0.27648 group/top3_click:0.25254 group/top1_click_best:1.00000 group/top3_click_best:0.68597 group/top1_click_rate:0.27648 group/top3_click_rate:0.36815 group/click/auc:0.00000 group/click/pos_ratio:0.00000 group/click/top1_score:85.50269 group/click/top3_score:81.94842 group/click/time_auc:0.55780 group/click/weighted_time_auc:0.67663 group/click/top1_best:119.66725 group/click/top3_best:96.88667 group/click/top1_rate:0.71450 group/click/top3_rate:0.84582 group/click/top1_click:1.00000 group/click/top3_click:1.00000 group/click/top1_click_best:1.00000 group/click/top3_click_best:1.00000 group/click/top1_click_rate:1.00000 group/click/top3_click_rate:1.00000 click_ratio:0.13600 time_per_show:10.24057 time_per_click:75.29646 time_per_user:193.35924 version:tuwen'],\n",
       " ['valid_online_abid4,5,6',\n",
       "  '2019111720',\n",
       "  'tuwen',\n",
       "  'pos_ratio:0.13434 auc:0.67814 time_auc:0.67087 weighted_time_auc:0.70476 click/time_auc:0.57387 click/weighted_time_auc:0.57205 group/auc:0.61016 group/pos_ratio:0.15309 group/top1_score:24.29638 group/top3_score:21.97045 group/time_auc:0.60935 group/weighted_time_auc:0.62929 group/top1_best:121.96388 group/top3_best:67.98654 group/top1_rate:0.19921 group/top3_rate:0.32316 group/top1_click:0.27256 group/top3_click:0.24874 group/top1_click_best:1.00000 group/top3_click_best:0.68896 group/top1_click_rate:0.27256 group/top3_click_rate:0.36104 group/click/auc:0.00000 group/click/pos_ratio:0.00000 group/click/top1_score:87.65860 group/click/top3_score:83.59738 group/click/time_auc:0.55610 group/click/weighted_time_auc:0.67126 group/click/top1_best:121.96388 group/click/top3_best:98.67985 group/click/top1_rate:0.71873 group/click/top3_rate:0.84716 group/click/top1_click:1.00000 group/click/top3_click:1.00000 group/click/top1_click_best:1.00000 group/click/top3_click_best:1.00000 group/click/top1_click_rate:1.00000 group/click/top3_click_rate:1.00000 click_ratio:0.13434 time_per_show:10.20197 time_per_click:75.93923 time_per_user:200.19048 version:tuwen'],\n",
       " ['valid_online_abid4,5,6',\n",
       "  '2019111721',\n",
       "  'tuwen',\n",
       "  'pos_ratio:0.13611 auc:0.67486 time_auc:0.66746 weighted_time_auc:0.70095 click/time_auc:0.57082 click/weighted_time_auc:0.58111 group/auc:0.60941 group/pos_ratio:0.15460 group/top1_score:23.75898 group/top3_score:22.28005 group/time_auc:0.60673 group/weighted_time_auc:0.62647 group/top1_best:124.93183 group/top3_best:70.04404 group/top1_rate:0.19018 group/top3_rate:0.31809 group/top1_click:0.27179 group/top3_click:0.24900 group/top1_click_best:1.00000 group/top3_click_best:0.69713 group/top1_click_rate:0.27179 group/top3_click_rate:0.35717 group/click/auc:0.00000 group/click/pos_ratio:0.00000 group/click/top1_score:87.56645 group/click/top3_score:84.16525 group/click/time_auc:0.55096 group/click/weighted_time_auc:0.66831 group/click/top1_best:124.93183 group/click/top3_best:100.47486 group/click/top1_rate:0.70091 group/click/top3_rate:0.83767 group/click/top1_click:1.00000 group/click/top3_click:1.00000 group/click/top1_click_best:1.00000 group/click/top3_click_best:1.00000 group/click/top1_click_rate:1.00000 group/click/top3_click_rate:1.00000 click_ratio:0.13611 time_per_show:10.53130 time_per_click:77.37146 time_per_user:210.06852 version:tuwen'],\n",
       " ['valid_online_abid4,5,6',\n",
       "  '2019111722',\n",
       "  'tuwen',\n",
       "  'pos_ratio:0.13642 auc:0.67482 time_auc:0.66688 weighted_time_auc:0.69443 click/time_auc:0.56364 click/weighted_time_auc:0.57728 group/auc:0.60946 group/pos_ratio:0.15452 group/top1_score:24.21748 group/top3_score:22.17688 group/time_auc:0.60744 group/weighted_time_auc:0.62816 group/top1_best:122.22747 group/top3_best:69.25917 group/top1_rate:0.19813 group/top3_rate:0.32020 group/top1_click:0.26860 group/top3_click:0.25066 group/top1_click_best:1.00000 group/top3_click_best:0.69802 group/top1_click_rate:0.26860 group/top3_click_rate:0.35910 group/click/auc:0.00000 group/click/pos_ratio:0.00000 group/click/top1_score:86.63496 group/click/top3_score:83.21465 group/click/time_auc:0.55364 group/click/weighted_time_auc:0.67368 group/click/top1_best:122.22747 group/click/top3_best:99.22172 group/click/top1_rate:0.70880 group/click/top3_rate:0.83867 group/click/top1_click:1.00000 group/click/top3_click:1.00000 group/click/top1_click_best:1.00000 group/click/top3_click_best:1.00000 group/click/top1_click_rate:1.00000 group/click/top3_click_rate:1.00000 click_ratio:0.13642 time_per_show:10.39135 time_per_click:76.17209 time_per_user:208.30068 version:tuwen'],\n",
       " ['valid_online_abid4,5,6',\n",
       "  '2019111723',\n",
       "  'tuwen',\n",
       "  'pos_ratio:0.13491 auc:0.67955 time_auc:0.67170 weighted_time_auc:0.69807 click/time_auc:0.56820 click/weighted_time_auc:0.57675 group/auc:0.61281 group/pos_ratio:0.15503 group/top1_score:24.30790 group/top3_score:21.91625 group/time_auc:0.60810 group/weighted_time_auc:0.62997 group/top1_best:119.88210 group/top3_best:68.06604 group/top1_rate:0.20277 group/top3_rate:0.32199 group/top1_click:0.26914 group/top3_click:0.25195 group/top1_click_best:1.00000 group/top3_click_best:0.69502 group/top1_click_rate:0.26914 group/top3_click_rate:0.36252 group/click/auc:0.00000 group/click/pos_ratio:0.00000 group/click/top1_score:85.38647 group/click/top3_score:81.91779 group/click/time_auc:0.55203 group/click/weighted_time_auc:0.67345 group/click/top1_best:119.88210 group/click/top3_best:97.93448 group/click/top1_rate:0.71225 group/click/top3_rate:0.83646 group/click/top1_click:1.00000 group/click/top3_click:1.00000 group/click/top1_click_best:1.00000 group/click/top3_click_best:1.00000 group/click/top1_click_rate:1.00000 group/click/top3_click_rate:1.00000 click_ratio:0.13491 time_per_show:10.27866 time_per_click:76.18624 time_per_user:206.46969 version:tuwen'],\n",
       " ['valid_online_abid4,5,6',\n",
       "  '2019111800',\n",
       "  'tuwen',\n",
       "  'pos_ratio:0.13516 auc:0.67418 time_auc:0.66946 weighted_time_auc:0.71838 click/time_auc:0.60501 click/weighted_time_auc:0.59344 group/auc:0.62381 group/pos_ratio:0.16063 group/top1_score:24.34124 group/top3_score:21.21690 group/time_auc:0.61991 group/weighted_time_auc:0.64316 group/top1_best:108.68183 group/top3_best:61.21511 group/top1_rate:0.22397 group/top3_rate:0.34660 group/top1_click:0.29445 group/top3_click:0.27222 group/top1_click_best:1.00000 group/top3_click_best:0.70012 group/top1_click_rate:0.29445 group/top3_click_rate:0.38882 group/click/auc:0.00000 group/click/pos_ratio:0.00000 group/click/top1_score:78.28823 group/click/top3_score:73.78694 group/click/time_auc:0.56168 group/click/weighted_time_auc:0.68256 group/click/top1_best:108.68183 group/click/top3_best:87.43497 group/click/top1_rate:0.72034 group/click/top3_rate:0.84391 group/click/top1_click:1.00000 group/click/top3_click:1.00000 group/click/top1_click_best:1.00000 group/click/top3_click_best:1.00000 group/click/top1_click_rate:1.00000 group/click/top3_click_rate:1.00000 click_ratio:0.13516 time_per_show:9.42262 time_per_click:69.71580 time_per_user:185.89160 version:tuwen'],\n",
       " ['valid_online_abid4,5,6',\n",
       "  '2019111801',\n",
       "  'tuwen',\n",
       "  'pos_ratio:0.13181 auc:0.67629 time_auc:0.67325 weighted_time_auc:0.72442 click/time_auc:0.62599 click/weighted_time_auc:0.57380 group/auc:0.61528 group/pos_ratio:0.16195 group/top1_score:21.46164 group/top3_score:19.72333 group/time_auc:0.60861 group/weighted_time_auc:0.63703 group/top1_best:101.50415 group/top3_best:57.54908 group/top1_rate:0.21144 group/top3_rate:0.34272 group/top1_click:0.28678 group/top3_click:0.27523 group/top1_click_best:1.00000 group/top3_click_best:0.69775 group/top1_click_rate:0.28678 group/top3_click_rate:0.39446 group/click/auc:0.00000 group/click/pos_ratio:0.00000 group/click/top1_score:73.95965 group/click/top3_score:69.51539 group/click/time_auc:0.56138 group/click/weighted_time_auc:0.68625 group/click/top1_best:101.50415 group/click/top3_best:82.47850 group/click/top1_rate:0.72864 group/click/top3_rate:0.84283 group/click/top1_click:1.00000 group/click/top3_click:1.00000 group/click/top1_click_best:1.00000 group/click/top3_click_best:1.00000 group/click/top1_click_rate:1.00000 group/click/top3_click_rate:1.00000 click_ratio:0.13181 time_per_show:9.04503 time_per_click:68.62308 time_per_user:175.61927 version:tuwen'],\n",
       " ['valid_online_abid4,5,6',\n",
       "  '2019111802',\n",
       "  'tuwen',\n",
       "  'pos_ratio:0.12673 auc:0.70219 time_auc:0.69896 weighted_time_auc:0.75041 click/time_auc:0.63720 click/weighted_time_auc:0.55290 group/auc:0.61278 group/pos_ratio:0.16644 group/top1_score:19.86942 group/top3_score:18.80757 group/time_auc:0.60485 group/weighted_time_auc:0.63869 group/top1_best:95.54668 group/top3_best:55.42194 group/top1_rate:0.20796 group/top3_rate:0.33935 group/top1_click:0.28733 group/top3_click:0.28132 group/top1_click_best:1.00000 group/top3_click_best:0.69935 group/top1_click_rate:0.28733 group/top3_click_rate:0.40226 group/click/auc:0.00000 group/click/pos_ratio:0.00000 group/click/top1_score:69.44903 group/click/top3_score:67.28645 group/click/time_auc:0.56527 group/click/weighted_time_auc:0.69272 group/click/top1_best:95.54668 group/click/top3_best:79.24742 group/click/top1_rate:0.72686 group/click/top3_rate:0.84907 group/click/top1_click:1.00000 group/click/top3_click:1.00000 group/click/top1_click_best:1.00000 group/click/top3_click_best:1.00000 group/click/top1_click_rate:1.00000 group/click/top3_click_rate:1.00000 click_ratio:0.12673 time_per_show:8.54528 time_per_click:67.42851 time_per_user:172.04230 version:tuwen'],\n",
       " ['valid_online_abid4,5,6',\n",
       "  '2019111803',\n",
       "  'tuwen',\n",
       "  'pos_ratio:0.12389 auc:0.69179 time_auc:0.69074 weighted_time_auc:0.75546 click/time_auc:0.65350 click/weighted_time_auc:0.55633 group/auc:0.61167 group/pos_ratio:0.16685 group/top1_score:19.05160 group/top3_score:17.59751 group/time_auc:0.60067 group/weighted_time_auc:0.62972 group/top1_best:88.35549 group/top3_best:51.65733 group/top1_rate:0.21562 group/top3_rate:0.34066 group/top1_click:0.30388 group/top3_click:0.29415 group/top1_click_best:1.00000 group/top3_click_best:0.71011 group/top1_click_rate:0.30388 group/top3_click_rate:0.41423 group/click/auc:0.00000 group/click/pos_ratio:0.00000 group/click/top1_score:65.16497 group/click/top3_score:62.94208 group/click/time_auc:0.56027 group/click/weighted_time_auc:0.69486 group/click/top1_best:88.35549 group/click/top3_best:72.74532 group/click/top1_rate:0.73753 group/click/top3_rate:0.86524 group/click/top1_click:1.00000 group/click/top3_click:1.00000 group/click/top1_click_best:1.00000 group/click/top3_click_best:1.00000 group/click/top1_click_rate:1.00000 group/click/top3_click_rate:1.00000 click_ratio:0.12389 time_per_show:7.88003 time_per_click:63.60495 time_per_user:155.15871 version:tuwen'],\n",
       " ['valid_online_abid4,5,6',\n",
       "  '2019111804',\n",
       "  'tuwen',\n",
       "  'pos_ratio:0.12441 auc:0.70813 time_auc:0.70598 weighted_time_auc:0.76802 click/time_auc:0.65546 click/weighted_time_auc:0.56389 group/auc:0.61634 group/pos_ratio:0.17139 group/top1_score:20.37664 group/top3_score:19.91975 group/time_auc:0.61084 group/weighted_time_auc:0.64551 group/top1_best:93.34082 group/top3_best:54.24253 group/top1_rate:0.21830 group/top3_rate:0.36723 group/top1_click:0.30553 group/top3_click:0.29906 group/top1_click_best:1.00000 group/top3_click_best:0.70424 group/top1_click_rate:0.30553 group/top3_click_rate:0.42466 group/click/auc:0.00000 group/click/pos_ratio:0.00000 group/click/top1_score:69.46485 group/click/top3_score:67.37516 group/click/time_auc:0.56690 group/click/weighted_time_auc:0.69926 group/click/top1_best:93.34082 group/click/top3_best:77.02330 group/click/top1_rate:0.74421 group/click/top3_rate:0.87474 group/click/top1_click:1.00000 group/click/top3_click:1.00000 group/click/top1_click_best:1.00000 group/click/top3_click_best:1.00000 group/click/top1_click_rate:1.00000 group/click/top3_click_rate:1.00000 click_ratio:0.12441 time_per_show:8.21039 time_per_click:65.99240 time_per_user:163.71590 version:tuwen'],\n",
       " ['valid_online_abid4,5,6',\n",
       "  '2019111805',\n",
       "  'tuwen',\n",
       "  'pos_ratio:0.13462 auc:0.70070 time_auc:0.69546 weighted_time_auc:0.74353 click/time_auc:0.61469 click/weighted_time_auc:0.55185 group/auc:0.62022 group/pos_ratio:0.17232 group/top1_score:25.67313 group/top3_score:22.14623 group/time_auc:0.61440 group/weighted_time_auc:0.64175 group/top1_best:108.83157 group/top3_best:62.01180 group/top1_rate:0.23590 group/top3_rate:0.35713 group/top1_click:0.30470 group/top3_click:0.28852 group/top1_click_best:1.00000 group/top3_click_best:0.69821 group/top1_click_rate:0.30470 group/top3_click_rate:0.41323 group/click/auc:0.00000 group/click/pos_ratio:0.00000 group/click/top1_score:82.25614 group/click/top3_score:76.98005 group/click/time_auc:0.55841 group/click/weighted_time_auc:0.68828 group/click/top1_best:108.83157 group/click/top3_best:88.81491 group/click/top1_rate:0.75581 group/click/top3_rate:0.86675 group/click/top1_click:1.00000 group/click/top3_click:1.00000 group/click/top1_click_best:1.00000 group/click/top3_click_best:1.00000 group/click/top1_click_rate:1.00000 group/click/top3_click_rate:1.00000 click_ratio:0.13462 time_per_show:9.96114 time_per_click:73.99564 time_per_user:184.68438 version:tuwen'],\n",
       " ['valid_online_abid4,5,6',\n",
       "  '2019111806',\n",
       "  'tuwen',\n",
       "  'pos_ratio:0.14092 auc:0.67852 time_auc:0.67204 weighted_time_auc:0.70748 click/time_auc:0.58745 click/weighted_time_auc:0.56460 group/auc:0.60641 group/pos_ratio:0.16930 group/top1_score:23.15360 group/top3_score:22.08572 group/time_auc:0.60216 group/weighted_time_auc:0.62918 group/top1_best:117.62595 group/top3_best:65.57771 group/top1_rate:0.19684 group/top3_rate:0.33679 group/top1_click:0.27134 group/top3_click:0.25610 group/top1_click_best:1.00000 group/top3_click_best:0.69070 group/top1_click_rate:0.27134 group/top3_click_rate:0.37079 group/click/auc:0.00000 group/click/pos_ratio:0.00000 group/click/top1_score:89.40481 group/click/top3_score:82.45267 group/click/time_auc:0.56494 group/click/weighted_time_auc:0.69446 group/click/top1_best:117.62595 group/click/top3_best:94.94393 group/click/top1_rate:0.76008 group/click/top3_rate:0.86844 group/click/top1_click:1.00000 group/click/top3_click:1.00000 group/click/top1_click_best:1.00000 group/click/top3_click_best:1.00000 group/click/top1_click_rate:1.00000 group/click/top3_click_rate:1.00000 click_ratio:0.14092 time_per_show:10.98091 time_per_click:77.92040 time_per_user:189.79043 version:tuwen'],\n",
       " ['valid_online_abid4,5,6',\n",
       "  '2019111807',\n",
       "  'tuwen',\n",
       "  'pos_ratio:0.13844 auc:0.66815 time_auc:0.66210 weighted_time_auc:0.69907 click/time_auc:0.58275 click/weighted_time_auc:0.58213 group/auc:0.61323 group/pos_ratio:0.16120 group/top1_score:23.31341 group/top3_score:21.00564 group/time_auc:0.60783 group/weighted_time_auc:0.63182 group/top1_best:112.57604 group/top3_best:61.36090 group/top1_rate:0.20709 group/top3_rate:0.34233 group/top1_click:0.27476 group/top3_click:0.25343 group/top1_click_best:1.00000 group/top3_click_best:0.67518 group/top1_click_rate:0.27476 group/top3_click_rate:0.37535 group/click/auc:0.00000 group/click/pos_ratio:0.00000 group/click/top1_score:83.71590 group/click/top3_score:79.17002 group/click/time_auc:0.55703 group/click/weighted_time_auc:0.68366 group/click/top1_best:112.57604 group/click/top3_best:90.88018 group/click/top1_rate:0.74364 group/click/top3_rate:0.87115 group/click/top1_click:1.00000 group/click/top3_click:1.00000 group/click/top1_click_best:1.00000 group/click/top3_click_best:1.00000 group/click/top1_click_rate:1.00000 group/click/top3_click_rate:1.00000 click_ratio:0.13844 time_per_show:10.36945 time_per_click:74.90302 time_per_user:172.94525 version:tuwen'],\n",
       " ['valid_online_abid4,5,6',\n",
       "  '2019111808',\n",
       "  'tuwen',\n",
       "  'pos_ratio:0.14136 auc:0.67075 time_auc:0.66415 weighted_time_auc:0.69785 click/time_auc:0.58033 click/weighted_time_auc:0.57531 group/auc:0.61685 group/pos_ratio:0.16368 group/top1_score:25.07471 group/top3_score:21.39607 group/time_auc:0.61242 group/weighted_time_auc:0.63556 group/top1_best:110.66731 group/top3_best:60.94978 group/top1_rate:0.22658 group/top3_rate:0.35104 group/top1_click:0.29201 group/top3_click:0.26253 group/top1_click_best:1.00000 group/top3_click_best:0.67604 group/top1_click_rate:0.29201 group/top3_click_rate:0.38833 group/click/auc:0.00000 group/click/pos_ratio:0.00000 group/click/top1_score:81.77716 group/click/top3_score:77.57399 group/click/time_auc:0.56032 group/click/weighted_time_auc:0.68191 group/click/top1_best:110.66731 group/click/top3_best:90.15704 group/click/top1_rate:0.73895 group/click/top3_rate:0.86043 group/click/top1_click:1.00000 group/click/top3_click:1.00000 group/click/top1_click_best:1.00000 group/click/top3_click_best:1.00000 group/click/top1_click_rate:1.00000 group/click/top3_click_rate:1.00000 click_ratio:0.14136 time_per_show:10.45320 time_per_click:73.94836 time_per_user:177.43875 version:tuwen'],\n",
       " ['valid_online_abid4,5,6',\n",
       "  '2019111809',\n",
       "  'tuwen',\n",
       "  'pos_ratio:0.13782 auc:0.67099 time_auc:0.66533 weighted_time_auc:0.70502 click/time_auc:0.59028 click/weighted_time_auc:0.57922 group/auc:0.61972 group/pos_ratio:0.16117 group/top1_score:24.37674 group/top3_score:21.14116 group/time_auc:0.61437 group/weighted_time_auc:0.63836 group/top1_best:109.42911 group/top3_best:59.85283 group/top1_rate:0.22276 group/top3_rate:0.35322 group/top1_click:0.28036 group/top3_click:0.25843 group/top1_click_best:1.00000 group/top3_click_best:0.67086 group/top1_click_rate:0.28036 group/top3_click_rate:0.38522 group/click/auc:0.00000 group/click/pos_ratio:0.00000 group/click/top1_score:81.34953 group/click/top3_score:76.51986 group/click/time_auc:0.56502 group/click/weighted_time_auc:0.68232 group/click/top1_best:109.42911 group/click/top3_best:89.21808 group/click/top1_rate:0.74340 group/click/top3_rate:0.85767 group/click/top1_click:1.00000 group/click/top3_click:1.00000 group/click/top1_click_best:1.00000 group/click/top3_click_best:1.00000 group/click/top1_click_rate:1.00000 group/click/top3_click_rate:1.00000 click_ratio:0.13782 time_per_show:10.03362 time_per_click:72.80343 time_per_user:173.32146 version:tuwen'],\n",
       " ['valid_online_abid4,5,6',\n",
       "  '2019111810',\n",
       "  'tuwen',\n",
       "  'pos_ratio:0.13502 auc:0.66879 time_auc:0.66266 weighted_time_auc:0.70188 click/time_auc:0.57995 click/weighted_time_auc:0.57810 group/auc:0.61454 group/pos_ratio:0.15740 group/top1_score:21.00522 group/top3_score:19.80355 group/time_auc:0.61077 group/weighted_time_auc:0.63452 group/top1_best:105.99906 group/top3_best:57.16106 group/top1_rate:0.19816 group/top3_rate:0.34645 group/top1_click:0.26602 group/top3_click:0.25410 group/top1_click_best:1.00000 group/top3_click_best:0.66957 group/top1_click_rate:0.26602 group/top3_click_rate:0.37950 group/click/auc:0.00000 group/click/pos_ratio:0.00000 group/click/top1_score:79.18208 group/click/top3_score:73.90362 group/click/time_auc:0.56519 group/click/weighted_time_auc:0.67607 group/click/top1_best:105.99906 group/click/top3_best:85.36968 group/click/top1_rate:0.74701 group/click/top3_rate:0.86569 group/click/top1_click:1.00000 group/click/top3_click:1.00000 group/click/top1_click_best:1.00000 group/click/top3_click_best:1.00000 group/click/top1_click_rate:1.00000 group/click/top3_click_rate:1.00000 click_ratio:0.13502 time_per_show:9.42489 time_per_click:69.80188 time_per_user:161.37919 version:tuwen'],\n",
       " ['valid_online_abid4,5,6',\n",
       "  '2019111811',\n",
       "  'tuwen',\n",
       "  'pos_ratio:0.12991 auc:0.66913 time_auc:0.66294 weighted_time_auc:0.69964 click/time_auc:0.57576 click/weighted_time_auc:0.56869 group/auc:0.61168 group/pos_ratio:0.15275 group/top1_score:21.21963 group/top3_score:18.97109 group/time_auc:0.60789 group/weighted_time_auc:0.63095 group/top1_best:100.27430 group/top3_best:53.65191 group/top1_rate:0.21162 group/top3_rate:0.35360 group/top1_click:0.26992 group/top3_click:0.25120 group/top1_click_best:1.00000 group/top3_click_best:0.65582 group/top1_click_rate:0.26992 group/top3_click_rate:0.38303 group/click/auc:0.00000 group/click/pos_ratio:0.00000 group/click/top1_score:76.57018 group/click/top3_score:71.86482 group/click/time_auc:0.56191 group/click/weighted_time_auc:0.67483 group/click/top1_best:100.27430 group/click/top3_best:81.80883 group/click/top1_rate:0.76361 group/click/top3_rate:0.87845 group/click/top1_click:1.00000 group/click/top3_click:1.00000 group/click/top1_click_best:1.00000 group/click/top3_click_best:1.00000 group/click/top1_click_rate:1.00000 group/click/top3_click_rate:1.00000 click_ratio:0.12991 time_per_show:8.77422 time_per_click:67.54265 time_per_user:145.30944 version:tuwen'],\n",
       " ['valid_online_abid4,5,6',\n",
       "  '2019111812',\n",
       "  'tuwen',\n",
       "  'pos_ratio:0.13509 auc:0.67884 time_auc:0.67134 weighted_time_auc:0.70455 click/time_auc:0.57242 click/weighted_time_auc:0.58354 group/auc:0.61942 group/pos_ratio:0.15632 group/top1_score:22.47275 group/top3_score:20.83206 group/time_auc:0.61459 group/weighted_time_auc:0.63805 group/top1_best:111.02552 group/top3_best:60.49036 group/top1_rate:0.20241 group/top3_rate:0.34439 group/top1_click:0.26694 group/top3_click:0.25303 group/top1_click_best:1.00000 group/top3_click_best:0.66943 group/top1_click_rate:0.26694 group/top3_click_rate:0.37798 group/click/auc:0.00000 group/click/pos_ratio:0.00000 group/click/top1_score:82.91271 group/click/top3_score:78.26047 group/click/time_auc:0.56140 group/click/weighted_time_auc:0.68452 group/click/top1_best:111.02552 group/click/top3_best:90.36077 group/click/top1_rate:0.74679 group/click/top3_rate:0.86609 group/click/top1_click:1.00000 group/click/top3_click:1.00000 group/click/top1_click_best:1.00000 group/click/top3_click_best:1.00000 group/click/top1_click_rate:1.00000 group/click/top3_click_rate:1.00000 click_ratio:0.13509 time_per_show:9.91517 time_per_click:73.39732 time_per_user:171.59770 version:tuwen'],\n",
       " ['valid_online_abid4,5,6',\n",
       "  '2019111813',\n",
       "  'tuwen',\n",
       "  'pos_ratio:0.13309 auc:0.67587 time_auc:0.66885 weighted_time_auc:0.70278 click/time_auc:0.57391 click/weighted_time_auc:0.57325 group/auc:0.61773 group/pos_ratio:0.15806 group/top1_score:22.58848 group/top3_score:20.89162 group/time_auc:0.61319 group/weighted_time_auc:0.63657 group/top1_best:109.12002 group/top3_best:60.11877 group/top1_rate:0.20701 group/top3_rate:0.34751 group/top1_click:0.26267 group/top3_click:0.25494 group/top1_click_best:1.00000 group/top3_click_best:0.67445 group/top1_click_rate:0.26267 group/top3_click_rate:0.37800 group/click/auc:0.00000 group/click/pos_ratio:0.00000 group/click/top1_score:80.69080 group/click/top3_score:77.36352 group/click/time_auc:0.56149 group/click/weighted_time_auc:0.67892 group/click/top1_best:109.12002 group/click/top3_best:89.13737 group/click/top1_rate:0.73947 group/click/top3_rate:0.86791 group/click/top1_click:1.00000 group/click/top3_click:1.00000 group/click/top1_click_best:1.00000 group/click/top3_click_best:1.00000 group/click/top1_click_rate:1.00000 group/click/top3_click_rate:1.00000 click_ratio:0.13309 time_per_show:9.61978 time_per_click:72.28182 time_per_user:170.06157 version:tuwen'],\n",
       " ['valid_online_abid4,5,6',\n",
       "  '2019111814',\n",
       "  'tuwen',\n",
       "  'pos_ratio:0.12870 auc:0.67620 time_auc:0.67004 weighted_time_auc:0.70482 click/time_auc:0.58260 click/weighted_time_auc:0.56801 group/auc:0.61477 group/pos_ratio:0.15104 group/top1_score:22.82261 group/top3_score:20.50898 group/time_auc:0.61178 group/weighted_time_auc:0.63448 group/top1_best:112.44806 group/top3_best:60.62540 group/top1_rate:0.20296 group/top3_rate:0.33829 group/top1_click:0.25781 group/top3_click:0.24821 group/top1_click_best:1.00000 group/top3_click_best:0.66679 group/top1_click_rate:0.25781 group/top3_click_rate:0.37225 group/click/auc:0.00000 group/click/pos_ratio:0.00000 group/click/top1_score:84.94618 group/click/top3_score:79.07520 group/click/time_auc:0.56300 group/click/weighted_time_auc:0.68101 group/click/top1_best:112.44806 group/click/top3_best:90.92086 group/click/top1_rate:0.75543 group/click/top3_rate:0.86971 group/click/top1_click:1.00000 group/click/top3_click:1.00000 group/click/top1_click_best:1.00000 group/click/top3_click_best:1.00000 group/click/top1_click_rate:1.00000 group/click/top3_click_rate:1.00000 click_ratio:0.12870 time_per_show:9.45018 time_per_click:73.42603 time_per_user:172.03936 version:tuwen'],\n",
       " ['valid_online_abid4,5,6',\n",
       "  '2019111815',\n",
       "  'tuwen',\n",
       "  'pos_ratio:0.12625 auc:0.67900 time_auc:0.67424 weighted_time_auc:0.71804 click/time_auc:0.60383 click/weighted_time_auc:0.58834 group/auc:0.62365 group/pos_ratio:0.14957 group/top1_score:24.69285 group/top3_score:21.58588 group/time_auc:0.62194 group/weighted_time_auc:0.64066 group/top1_best:110.98227 group/top3_best:60.22434 group/top1_rate:0.22249 group/top3_rate:0.35842 group/top1_click:0.29404 group/top3_click:0.25836 group/top1_click_best:1.00000 group/top3_click_best:0.67694 group/top1_click_rate:0.29404 group/top3_click_rate:0.38166 group/click/auc:0.00000 group/click/pos_ratio:0.00000 group/click/top1_score:82.28656 group/click/top3_score:76.26606 group/click/time_auc:0.56505 group/click/weighted_time_auc:0.68515 group/click/top1_best:110.98227 group/click/top3_best:88.96585 group/click/top1_rate:0.74144 group/click/top3_rate:0.85725 group/click/top1_click:1.00000 group/click/top3_click:1.00000 group/click/top1_click_best:1.00000 group/click/top3_click_best:1.00000 group/click/top1_click_rate:1.00000 group/click/top3_click_rate:1.00000 click_ratio:0.12625 time_per_show:9.02443 time_per_click:71.48321 time_per_user:171.98107 version:tuwen'],\n",
       " ['valid_online_abid4,5,6', '2019111816', 'tuwen'],\n",
       " ['valid_online_abid4,5,6',\n",
       "  '2019111817',\n",
       "  'tuwen',\n",
       "  'pos_ratio:0.12489 auc:0.66854 time_auc:0.66470 weighted_time_auc:0.71127 click/time_auc:0.60423 click/weighted_time_auc:0.58913 group/auc:0.62243 group/pos_ratio:0.14806 group/top1_score:26.24007 group/top3_score:21.28319 group/time_auc:0.61979 group/weighted_time_auc:0.64014 group/top1_best:107.82018 group/top3_best:57.93680 group/top1_rate:0.24337 group/top3_rate:0.36735 group/top1_click:0.29184 group/top3_click:0.25683 group/top1_click_best:1.00000 group/top3_click_best:0.66603 group/top1_click_rate:0.29184 group/top3_click_rate:0.38561 group/click/auc:0.00000 group/click/pos_ratio:0.00000 group/click/top1_score:80.87441 group/click/top3_score:75.96389 group/click/time_auc:0.56486 group/click/weighted_time_auc:0.68571 group/click/top1_best:107.82018 group/click/top3_best:86.98887 group/click/top1_rate:0.75009 group/click/top3_rate:0.87326 group/click/top1_click:1.00000 group/click/top3_click:1.00000 group/click/top1_click_best:1.00000 group/click/top3_click_best:1.00000 group/click/top1_click_rate:1.00000 group/click/top3_click_rate:1.00000 click_ratio:0.12489 time_per_show:8.69060 time_per_click:69.58773 time_per_user:156.38235 version:tuwen'],\n",
       " ['valid_online_abid4,5,6',\n",
       "  '2019111818',\n",
       "  'tuwen',\n",
       "  'pos_ratio:0.12719 auc:0.66790 time_auc:0.66399 weighted_time_auc:0.70822 click/time_auc:0.60573 click/weighted_time_auc:0.58597 group/auc:0.61694 group/pos_ratio:0.14963 group/top1_score:26.25593 group/top3_score:21.87712 group/time_auc:0.61538 group/weighted_time_auc:0.63656 group/top1_best:113.03907 group/top3_best:61.76038 group/top1_rate:0.23227 group/top3_rate:0.35423 group/top1_click:0.29061 group/top3_click:0.25745 group/top1_click_best:1.00000 group/top3_click_best:0.66985 group/top1_click_rate:0.29061 group/top3_click_rate:0.38433 group/click/auc:0.00000 group/click/pos_ratio:0.00000 group/click/top1_score:84.03139 group/click/top3_score:79.93504 group/click/time_auc:0.56270 group/click/weighted_time_auc:0.68534 group/click/top1_best:113.03907 group/click/top3_best:92.20012 group/click/top1_rate:0.74338 group/click/top3_rate:0.86697 group/click/top1_click:1.00000 group/click/top3_click:1.00000 group/click/top1_click_best:1.00000 group/click/top3_click_best:1.00000 group/click/top1_click_rate:1.00000 group/click/top3_click_rate:1.00000 click_ratio:0.12719 time_per_show:9.35638 time_per_click:73.56229 time_per_user:169.21001 version:tuwen'],\n",
       " ['valid_online_abid4,5,6',\n",
       "  '2019111819',\n",
       "  'tuwen',\n",
       "  'pos_ratio:0.12751 auc:0.66807 time_auc:0.66314 weighted_time_auc:0.70259 click/time_auc:0.59082 click/weighted_time_auc:0.57214 group/auc:0.60707 group/pos_ratio:0.14995 group/top1_score:23.98378 group/top3_score:21.39303 group/time_auc:0.60509 group/weighted_time_auc:0.62555 group/top1_best:119.75571 group/top3_best:65.80927 group/top1_rate:0.20027 group/top3_rate:0.32508 group/top1_click:0.26149 group/top3_click:0.24111 group/top1_click_best:1.00000 group/top3_click_best:0.67861 group/top1_click_rate:0.26149 group/top3_click_rate:0.35530 group/click/auc:0.00000 group/click/pos_ratio:0.00000 group/click/top1_score:87.18714 group/click/top3_score:82.75481 group/click/time_auc:0.55529 group/click/weighted_time_auc:0.66834 group/click/top1_best:119.75571 group/click/top3_best:96.97646 group/click/top1_rate:0.72804 group/click/top3_rate:0.85335 group/click/top1_click:1.00000 group/click/top3_click:1.00000 group/click/top1_click_best:1.00000 group/click/top3_click_best:1.00000 group/click/top1_click_rate:1.00000 group/click/top3_click_rate:1.00000 click_ratio:0.12751 time_per_show:9.66494 time_per_click:75.79696 time_per_user:185.89794 version:tuwen'],\n",
       " ['valid_online_abid4,5,6',\n",
       "  '2019111820',\n",
       "  'tuwen',\n",
       "  'pos_ratio:0.13077 auc:0.66068 time_auc:0.65565 weighted_time_auc:0.69458 click/time_auc:0.58535 click/weighted_time_auc:0.57728 group/auc:0.60826 group/pos_ratio:0.14723 group/top1_score:22.40220 group/top3_score:20.30125 group/time_auc:0.60622 group/weighted_time_auc:0.62627 group/top1_best:121.40328 group/top3_best:67.10156 group/top1_rate:0.18453 group/top3_rate:0.30255 group/top1_click:0.24195 group/top3_click:0.22958 group/top1_click_best:1.00000 group/top3_click_best:0.67890 group/top1_click_rate:0.24195 group/top3_click_rate:0.33816 group/click/auc:0.00000 group/click/pos_ratio:0.00000 group/click/top1_score:88.16830 group/click/top3_score:83.80847 group/click/time_auc:0.55647 group/click/weighted_time_auc:0.67325 group/click/top1_best:121.40328 group/click/top3_best:98.83802 group/click/top1_rate:0.72624 group/click/top3_rate:0.84794 group/click/top1_click:1.00000 group/click/top3_click:1.00000 group/click/top1_click_best:1.00000 group/click/top3_click_best:1.00000 group/click/top1_click_rate:1.00000 group/click/top3_click_rate:1.00000 click_ratio:0.13077 time_per_show:10.10169 time_per_click:77.24692 time_per_user:193.19512 version:tuwen'],\n",
       " ['valid_online_abid4,5,6',\n",
       "  '2019111821',\n",
       "  'tuwen',\n",
       "  'pos_ratio:0.13267 auc:0.66345 time_auc:0.65778 weighted_time_auc:0.69483 click/time_auc:0.58036 click/weighted_time_auc:0.58400 group/auc:0.61138 group/pos_ratio:0.14723 group/top1_score:22.41998 group/top3_score:21.11731 group/time_auc:0.60942 group/weighted_time_auc:0.63045 group/top1_best:121.70251 group/top3_best:67.63214 group/top1_rate:0.18422 group/top3_rate:0.31224 group/top1_click:0.24132 group/top3_click:0.23492 group/top1_click_best:1.00000 group/top3_click_best:0.68594 group/top1_click_rate:0.24132 group/top3_click_rate:0.34248 group/click/auc:0.00000 group/click/pos_ratio:0.00000 group/click/top1_score:88.32603 group/click/top3_score:83.16151 group/click/time_auc:0.55695 group/click/weighted_time_auc:0.67517 group/click/top1_best:121.70251 group/click/top3_best:98.59734 group/click/top1_rate:0.72575 group/click/top3_rate:0.84345 group/click/top1_click:1.00000 group/click/top3_click:1.00000 group/click/top1_click_best:1.00000 group/click/top3_click_best:1.00000 group/click/top1_click_rate:1.00000 group/click/top3_click_rate:1.00000 click_ratio:0.13267 time_per_show:10.17535 time_per_click:76.69516 time_per_user:196.23447 version:tuwen'],\n",
       " ['valid_online_abid4,5,6',\n",
       "  '2019111822',\n",
       "  'tuwen',\n",
       "  'pos_ratio:0.13719 auc:0.65328 time_auc:0.64794 weighted_time_auc:0.68701 click/time_auc:0.57819 click/weighted_time_auc:0.58842 group/auc:0.60154 group/pos_ratio:0.15090 group/top1_score:21.68238 group/top3_score:20.69098 group/time_auc:0.60084 group/weighted_time_auc:0.61949 group/top1_best:120.04169 group/top3_best:66.57367 group/top1_rate:0.18062 group/top3_rate:0.31080 group/top1_click:0.24807 group/top3_click:0.23552 group/top1_click_best:1.00000 group/top3_click_best:0.68336 group/top1_click_rate:0.24807 group/top3_click_rate:0.34466 group/click/auc:0.00000 group/click/pos_ratio:0.00000 group/click/top1_score:86.35917 group/click/top3_score:83.21795 group/click/time_auc:0.55528 group/click/weighted_time_auc:0.67345 group/click/top1_best:120.04169 group/click/top3_best:97.42170 group/click/top1_rate:0.71941 group/click/top3_rate:0.85420 group/click/top1_click:1.00000 group/click/top3_click:1.00000 group/click/top1_click_best:1.00000 group/click/top3_click_best:1.00000 group/click/top1_click_rate:1.00000 group/click/top3_click_rate:1.00000 click_ratio:0.13719 time_per_show:10.49573 time_per_click:76.50638 time_per_user:193.95104 version:tuwen'],\n",
       " ['valid_online_abid4,5,6',\n",
       "  '2019111823',\n",
       "  'tuwen',\n",
       "  'pos_ratio:0.13871 auc:0.65474 time_auc:0.64942 weighted_time_auc:0.68416 click/time_auc:0.58102 click/weighted_time_auc:0.58046 group/auc:0.61435 group/pos_ratio:0.15377 group/top1_score:25.06623 group/top3_score:21.39905 group/time_auc:0.61260 group/weighted_time_auc:0.63017 group/top1_best:119.41870 group/top3_best:66.32657 group/top1_rate:0.20990 group/top3_rate:0.32263 group/top1_click:0.28625 group/top3_click:0.25351 group/top1_click_best:1.00000 group/top3_click_best:0.68410 group/top1_click_rate:0.28625 group/top3_click_rate:0.37057 group/click/auc:0.00000 group/click/pos_ratio:0.00000 group/click/top1_score:84.00898 group/click/top3_score:81.77632 group/click/time_auc:0.54852 group/click/weighted_time_auc:0.66808 group/click/top1_best:119.41870 group/click/top3_best:96.95498 group/click/top1_rate:0.70348 group/click/top3_rate:0.84345 group/click/top1_click:1.00000 group/click/top3_click:1.00000 group/click/top1_click_best:1.00000 group/click/top3_click_best:1.00000 group/click/top1_click_rate:1.00000 group/click/top3_click_rate:1.00000 click_ratio:0.13871 time_per_show:10.51043 time_per_click:75.77024 time_per_user:193.61765 version:tuwen'],\n",
       " ['valid_online_abid4,5,6',\n",
       "  '2019111900',\n",
       "  'tuwen',\n",
       "  'pos_ratio:0.14468 auc:0.65149 time_auc:0.64874 weighted_time_auc:0.70489 click/time_auc:0.61200 click/weighted_time_auc:0.59734 group/auc:0.61216 group/pos_ratio:0.16177 group/top1_score:25.07019 group/top3_score:20.71439 group/time_auc:0.60492 group/weighted_time_auc:0.63126 group/top1_best:101.94044 group/top3_best:56.49718 group/top1_rate:0.24593 group/top3_rate:0.36664 group/top1_click:0.32109 group/top3_click:0.27957 group/top1_click_best:1.00000 group/top3_click_best:0.68454 group/top1_click_rate:0.32109 group/top3_click_rate:0.40840 group/click/auc:0.00000 group/click/pos_ratio:0.00000 group/click/top1_score:75.12890 group/click/top3_score:70.77850 group/click/time_auc:0.56742 group/click/weighted_time_auc:0.68828 group/click/top1_best:101.94044 group/click/top3_best:82.53316 group/click/top1_rate:0.73699 group/click/top3_rate:0.85758 group/click/top1_click:1.00000 group/click/top3_click:1.00000 group/click/top1_click_best:1.00000 group/click/top3_click_best:1.00000 group/click/top1_click_rate:1.00000 group/click/top3_click_rate:1.00000 click_ratio:0.14468 time_per_show:9.76201 time_per_click:67.47306 time_per_user:168.37458 version:tuwen'],\n",
       " ['valid_online_abid4,5,6',\n",
       "  '2019111901',\n",
       "  'tuwen',\n",
       "  'pos_ratio:0.14374 auc:0.65419 time_auc:0.65333 weighted_time_auc:0.71580 click/time_auc:0.63512 click/weighted_time_auc:0.57678 group/auc:0.61460 group/pos_ratio:0.16364 group/top1_score:21.65095 group/top3_score:19.42086 group/time_auc:0.61022 group/weighted_time_auc:0.63585 group/top1_best:98.11214 group/top3_best:54.94968 group/top1_rate:0.22068 group/top3_rate:0.35343 group/top1_click:0.30022 group/top3_click:0.28183 group/top1_click_best:1.00000 group/top3_click_best:0.69564 group/top1_click_rate:0.30022 group/top3_click_rate:0.40514 group/click/auc:0.00000 group/click/pos_ratio:0.00000 group/click/top1_score:70.93260 group/click/top3_score:67.58916 group/click/time_auc:0.57227 group/click/weighted_time_auc:0.69405 group/click/top1_best:98.11214 group/click/top3_best:78.99199 group/click/top1_rate:0.72297 group/click/top3_rate:0.85565 group/click/top1_click:1.00000 group/click/top3_click:1.00000 group/click/top1_click_best:1.00000 group/click/top3_click_best:1.00000 group/click/top1_click_rate:1.00000 group/click/top3_click_rate:1.00000 click_ratio:0.14374 time_per_show:9.53944 time_per_click:66.36631 time_per_user:166.57464 version:tuwen'],\n",
       " ['valid_online_abid4,5,6', '2019111902', 'tuwen'],\n",
       " ['valid_online_abid4,5,6',\n",
       "  '2019111902',\n",
       "  'tuwen',\n",
       "  'pos_ratio:0.14401 auc:0.65608 time_auc:0.65706 weighted_time_auc:0.72408 click/time_auc:0.65332 click/weighted_time_auc:0.55836 group/auc:0.61034 group/pos_ratio:0.16751 group/top1_score:21.01212 group/top3_score:18.59281 group/time_auc:0.60332 group/weighted_time_auc:0.63363 group/top1_best:87.92826 group/top3_best:49.39885 group/top1_rate:0.23897 group/top3_rate:0.37638 group/top1_click:0.31877 group/top3_click:0.30032 group/top1_click_best:1.00000 group/top3_click_best:0.69547 group/top1_click_rate:0.31877 group/top3_click_rate:0.43182 group/click/auc:0.00000 group/click/pos_ratio:0.00000 group/click/top1_score:64.74059 group/click/top3_score:61.55304 group/click/time_auc:0.57739 group/click/weighted_time_auc:0.71042 group/click/top1_best:87.92826 group/click/top3_best:71.02955 group/click/top1_rate:0.73629 group/click/top3_rate:0.86658 group/click/top1_click:1.00000 group/click/top3_click:1.00000 group/click/top1_click_best:1.00000 group/click/top3_click_best:1.00000 group/click/top1_click_rate:1.00000 group/click/top3_click_rate:1.00000 click_ratio:0.14401 time_per_show:8.94349 time_per_click:62.10357 time_per_user:151.39878 version:tuwen'],\n",
       " ['valid_online_abid4,5,6',\n",
       "  '2019111903',\n",
       "  'tuwen',\n",
       "  'pos_ratio:0.15004 auc:0.64778 time_auc:0.65026 weighted_time_auc:0.73430 click/time_auc:0.66464 click/weighted_time_auc:0.58413 group/auc:0.60384 group/pos_ratio:0.17286 group/top1_score:20.08459 group/top3_score:19.23333 group/time_auc:0.59987 group/weighted_time_auc:0.62909 group/top1_best:87.92351 group/top3_best:49.46415 group/top1_rate:0.22843 group/top3_rate:0.38883 group/top1_click:0.30988 group/top3_click:0.29963 group/top1_click_best:1.00000 group/top3_click_best:0.69935 group/top1_click_rate:0.30988 group/top3_click_rate:0.42844 group/click/auc:0.00000 group/click/pos_ratio:0.00000 group/click/top1_score:65.77415 group/click/top3_score:61.78725 group/click/time_auc:0.57053 group/click/weighted_time_auc:0.70750 group/click/top1_best:87.92351 group/click/top3_best:70.72893 group/click/top1_rate:0.74808 group/click/top3_rate:0.87358 group/click/top1_click:1.00000 group/click/top3_click:1.00000 group/click/top1_click_best:1.00000 group/click/top3_click_best:1.00000 group/click/top1_click_rate:1.00000 group/click/top3_click_rate:1.00000 click_ratio:0.15004 time_per_show:9.36933 time_per_click:62.44685 time_per_user:153.94246 version:tuwen'],\n",
       " ['valid_online_abid4,5,6',\n",
       "  '2019111904',\n",
       "  'tuwen',\n",
       "  'pos_ratio:0.14730 auc:0.65829 time_auc:0.66081 weighted_time_auc:0.73982 click/time_auc:0.66940 click/weighted_time_auc:0.57562 group/auc:0.61215 group/pos_ratio:0.17082 group/top1_score:26.56927 group/top3_score:21.37264 group/time_auc:0.60103 group/weighted_time_auc:0.64116 group/top1_best:93.90014 group/top3_best:53.67832 group/top1_rate:0.28295 group/top3_rate:0.39816 group/top1_click:0.32593 group/top3_click:0.30631 group/top1_click_best:1.00000 group/top3_click_best:0.70439 group/top1_click_rate:0.32593 group/top3_click_rate:0.43486 group/click/auc:0.00000 group/click/pos_ratio:0.00000 group/click/top1_score:70.97037 group/click/top3_score:67.18236 group/click/time_auc:0.59152 group/click/weighted_time_auc:0.72827 group/click/top1_best:93.90014 group/click/top3_best:76.20522 group/click/top1_rate:0.75581 group/click/top3_rate:0.88160 group/click/top1_click:1.00000 group/click/top3_click:1.00000 group/click/top1_click_best:1.00000 group/click/top3_click_best:1.00000 group/click/top1_click_rate:1.00000 group/click/top3_click_rate:1.00000 click_ratio:0.14730 time_per_show:9.86729 time_per_click:66.98857 time_per_user:168.86511 version:tuwen'],\n",
       " ['valid_online_abid4,5,6',\n",
       "  '2019111905',\n",
       "  'tuwen',\n",
       "  'pos_ratio:0.15525 auc:0.64918 time_auc:0.64900 weighted_time_auc:0.71995 click/time_auc:0.63739 click/weighted_time_auc:0.58399 group/auc:0.60842 group/pos_ratio:0.17422 group/top1_score:26.19439 group/top3_score:22.59078 group/time_auc:0.60376 group/weighted_time_auc:0.63151 group/top1_best:105.44151 group/top3_best:59.33017 group/top1_rate:0.24843 group/top3_rate:0.38076 group/top1_click:0.30488 group/top3_click:0.29026 group/top1_click_best:1.00000 group/top3_click_best:0.69083 group/top1_click_rate:0.30488 group/top3_click_rate:0.42016 group/click/auc:0.00000 group/click/pos_ratio:0.00000 group/click/top1_score:80.31890 group/click/top3_score:75.38521 group/click/time_auc:0.56759 group/click/weighted_time_auc:0.70332 group/click/top1_best:105.44151 group/click/top3_best:85.88223 group/click/top1_rate:0.76174 group/click/top3_rate:0.87777 group/click/top1_click:1.00000 group/click/top3_click:1.00000 group/click/top1_click_best:1.00000 group/click/top3_click_best:1.00000 group/click/top1_click_rate:1.00000 group/click/top3_click_rate:1.00000 click_ratio:0.15525 time_per_show:11.31245 time_per_click:72.86368 time_per_user:181.48166 version:tuwen'],\n",
       " ['valid_online_abid4,5,6',\n",
       "  '2019111906',\n",
       "  'tuwen',\n",
       "  'pos_ratio:0.15238 auc:0.64941 time_auc:0.64654 weighted_time_auc:0.69808 click/time_auc:0.60781 click/weighted_time_auc:0.57728 group/auc:0.61626 group/pos_ratio:0.16854 group/top1_score:28.53874 group/top3_score:23.60292 group/time_auc:0.61027 group/weighted_time_auc:0.64024 group/top1_best:114.14204 group/top3_best:63.19030 group/top1_rate:0.25003 group/top3_rate:0.37352 group/top1_click:0.30958 group/top3_click:0.27745 group/top1_click_best:1.00000 group/top3_click_best:0.68222 group/top1_click_rate:0.30958 group/top3_click_rate:0.40669 group/click/auc:0.00000 group/click/pos_ratio:0.00000 group/click/top1_score:88.07871 group/click/top3_score:81.98390 group/click/time_auc:0.56999 group/click/weighted_time_auc:0.70175 group/click/top1_best:114.14204 group/click/top3_best:92.62408 group/click/top1_rate:0.77166 group/click/top3_rate:0.88513 group/click/top1_click:1.00000 group/click/top3_click:1.00000 group/click/top1_click_best:1.00000 group/click/top3_click_best:1.00000 group/click/top1_click_rate:1.00000 group/click/top3_click_rate:1.00000 click_ratio:0.15238 time_per_show:11.67297 time_per_click:76.60505 time_per_user:182.47233 version:tuwen'],\n",
       " ['valid_online_abid4,5,6',\n",
       "  '2019111907',\n",
       "  'tuwen',\n",
       "  'pos_ratio:0.15347 auc:0.64624 time_auc:0.64192 weighted_time_auc:0.68467 click/time_auc:0.59047 click/weighted_time_auc:0.57978 group/auc:0.61858 group/pos_ratio:0.17004 group/top1_score:28.72730 group/top3_score:24.13365 group/time_auc:0.61222 group/weighted_time_auc:0.63742 group/top1_best:115.26088 group/top3_best:62.47552 group/top1_rate:0.24924 group/top3_rate:0.38629 group/top1_click:0.30933 group/top3_click:0.27148 group/top1_click_best:1.00000 group/top3_click_best:0.66675 group/top1_click_rate:0.30933 group/top3_click_rate:0.40717 group/click/auc:0.00000 group/click/pos_ratio:0.00000 group/click/top1_score:88.04395 group/click/top3_score:82.46763 group/click/time_auc:0.56025 group/click/weighted_time_auc:0.68785 group/click/top1_best:115.26088 group/click/top3_best:93.70087 group/click/top1_rate:0.76387 group/click/top3_rate:0.88012 group/click/top1_click:1.00000 group/click/top3_click:1.00000 group/click/top1_click_best:1.00000 group/click/top3_click_best:1.00000 group/click/top1_click_rate:1.00000 group/click/top3_click_rate:1.00000 click_ratio:0.15347 time_per_show:11.88196 time_per_click:77.42320 time_per_user:177.27771 version:tuwen'],\n",
       " ['valid_online_abid4,5,6',\n",
       "  '2019111908',\n",
       "  'tuwen',\n",
       "  'pos_ratio:0.14957 auc:0.64089 time_auc:0.63726 weighted_time_auc:0.68349 click/time_auc:0.59281 click/weighted_time_auc:0.58743 group/auc:0.61563 group/pos_ratio:0.16401 group/top1_score:25.53057 group/top3_score:22.02596 group/time_auc:0.61248 group/weighted_time_auc:0.63632 group/top1_best:112.95260 group/top3_best:60.86137 group/top1_rate:0.22603 group/top3_rate:0.36190 group/top1_click:0.29014 group/top3_click:0.26099 group/top1_click_best:1.00000 group/top3_click_best:0.66387 group/top1_click_rate:0.29014 group/top3_click_rate:0.39313 group/click/auc:0.00000 group/click/pos_ratio:0.00000 group/click/top1_score:84.07793 group/click/top3_score:80.22355 group/click/time_auc:0.56515 group/click/weighted_time_auc:0.68482 group/click/top1_best:112.95260 group/click/top3_best:91.67650 group/click/top1_rate:0.74436 group/click/top3_rate:0.87507 group/click/top1_click:1.00000 group/click/top3_click:1.00000 group/click/top1_click_best:1.00000 group/click/top3_click_best:1.00000 group/click/top1_click_rate:1.00000 group/click/top3_click_rate:1.00000 click_ratio:0.14957 time_per_show:11.30674 time_per_click:75.59592 time_per_user:174.37886 version:tuwen'],\n",
       " ['valid_online_abid4,5,6',\n",
       "  '2019111909',\n",
       "  'tuwen',\n",
       "  'pos_ratio:0.14793 auc:0.64322 time_auc:0.63971 weighted_time_auc:0.68678 click/time_auc:0.59506 click/weighted_time_auc:0.57848 group/auc:0.60826 group/pos_ratio:0.16287 group/top1_score:25.09141 group/top3_score:21.92593 group/time_auc:0.60296 group/weighted_time_auc:0.62765 group/top1_best:111.47997 group/top3_best:59.86395 group/top1_rate:0.22508 group/top3_rate:0.36626 group/top1_click:0.28194 group/top3_click:0.26350 group/top1_click_best:1.00000 group/top3_click_best:0.67103 group/top1_click_rate:0.28194 group/top3_click_rate:0.39268 group/click/auc:0.00000 group/click/pos_ratio:0.00000 group/click/top1_score:84.07037 group/click/top3_score:78.25252 group/click/time_auc:0.56317 group/click/weighted_time_auc:0.68068 group/click/top1_best:111.47997 group/click/top3_best:89.21238 group/click/top1_rate:0.75413 group/click/top3_rate:0.87715 group/click/top1_click:1.00000 group/click/top3_click:1.00000 group/click/top1_click_best:1.00000 group/click/top3_click_best:1.00000 group/click/top1_click_rate:1.00000 group/click/top3_click_rate:1.00000 click_ratio:0.14793 time_per_show:10.75376 time_per_click:72.69480 time_per_user:170.01153 version:tuwen'],\n",
       " ['valid_online_abid4,5,6',\n",
       "  '2019111910',\n",
       "  'tuwen',\n",
       "  'pos_ratio:0.14360 auc:0.64278 time_auc:0.64006 weighted_time_auc:0.68809 click/time_auc:0.60308 click/weighted_time_auc:0.58148 group/auc:0.61678 group/pos_ratio:0.15752 group/top1_score:24.78801 group/top3_score:20.87162 group/time_auc:0.61182 group/weighted_time_auc:0.63614 group/top1_best:105.96845 group/top3_best:56.90226 group/top1_rate:0.23392 group/top3_rate:0.36680 group/top1_click:0.29350 group/top3_click:0.26460 group/top1_click_best:1.00000 group/top3_click_best:0.66109 group/top1_click_rate:0.29350 group/top3_click_rate:0.40025 group/click/auc:0.00000 group/click/pos_ratio:0.00000 group/click/top1_score:79.84962 group/click/top3_score:75.29785 group/click/time_auc:0.57375 group/click/weighted_time_auc:0.68392 group/click/top1_best:105.96845 group/click/top3_best:86.07338 group/click/top1_rate:0.75352 group/click/top3_rate:0.87481 group/click/top1_click:1.00000 group/click/top3_click:1.00000 group/click/top1_click_best:1.00000 group/click/top3_click_best:1.00000 group/click/top1_click_rate:1.00000 group/click/top3_click_rate:1.00000 click_ratio:0.14360 time_per_show:10.20908 time_per_click:71.09202 time_per_user:161.38303 version:tuwen'],\n",
       " ['valid_online_abid4,5,6',\n",
       "  '2019111911',\n",
       "  'tuwen',\n",
       "  'pos_ratio:0.14287 auc:0.64741 time_auc:0.64428 weighted_time_auc:0.69437 click/time_auc:0.60316 click/weighted_time_auc:0.59575 group/auc:0.62684 group/pos_ratio:0.15840 group/top1_score:26.88054 group/top3_score:21.77446 group/time_auc:0.62149 group/weighted_time_auc:0.64558 group/top1_best:106.08913 group/top3_best:56.74288 group/top1_rate:0.25338 group/top3_rate:0.38374 group/top1_click:0.30802 group/top3_click:0.27296 group/top1_click_best:1.00000 group/top3_click_best:0.66044 group/top1_click_rate:0.30802 group/top3_click_rate:0.41330 group/click/auc:0.00000 group/click/pos_ratio:0.00000 group/click/top1_score:80.31151 group/click/top3_score:75.87384 group/click/time_auc:0.56605 group/click/weighted_time_auc:0.68517 group/click/top1_best:106.08913 group/click/top3_best:85.91637 group/click/top1_rate:0.75702 group/click/top3_rate:0.88311 group/click/top1_click:1.00000 group/click/top3_click:1.00000 group/click/top1_click_best:1.00000 group/click/top3_click_best:1.00000 group/click/top1_click_rate:1.00000 group/click/top3_click_rate:1.00000 click_ratio:0.14287 time_per_show:10.19237 time_per_click:71.33842 time_per_user:158.46937 version:tuwen'],\n",
       " ['valid_online_abid4,5,6',\n",
       "  '2019111912',\n",
       "  'tuwen',\n",
       "  'pos_ratio:0.14408 auc:0.66028 time_auc:0.65516 weighted_time_auc:0.69996 click/time_auc:0.59117 click/weighted_time_auc:0.60301 group/auc:0.62584 group/pos_ratio:0.16098 group/top1_score:27.45047 group/top3_score:22.89053 group/time_auc:0.62226 group/weighted_time_auc:0.64484 group/top1_best:110.91582 group/top3_best:59.59255 group/top1_rate:0.24749 group/top3_rate:0.38412 group/top1_click:0.29842 group/top3_click:0.26820 group/top1_click_best:1.00000 group/top3_click_best:0.65975 group/top1_click_rate:0.29842 group/top3_click_rate:0.40651 group/click/auc:0.00000 group/click/pos_ratio:0.00000 group/click/top1_score:84.59569 group/click/top3_score:78.98699 group/click/time_auc:0.56498 group/click/weighted_time_auc:0.69123 group/click/top1_best:110.91582 group/click/top3_best:90.32577 group/click/top1_rate:0.76270 group/click/top3_rate:0.87447 group/click/top1_click:1.00000 group/click/top3_click:1.00000 group/click/top1_click_best:1.00000 group/click/top3_click_best:1.00000 group/click/top1_click_rate:1.00000 group/click/top3_click_rate:1.00000 click_ratio:0.14408 time_per_show:10.69368 time_per_click:74.22067 time_per_user:167.33789 version:tuwen'],\n",
       " ['valid_online_abid4,5,6',\n",
       "  '2019111913',\n",
       "  'tuwen',\n",
       "  'pos_ratio:0.13958 auc:0.66659 time_auc:0.66152 weighted_time_auc:0.70723 click/time_auc:0.59590 click/weighted_time_auc:0.59324 group/auc:0.62578 group/pos_ratio:0.15893 group/top1_score:27.22016 group/top3_score:23.10044 group/time_auc:0.62083 group/weighted_time_auc:0.64690 group/top1_best:112.18221 group/top3_best:60.57954 group/top1_rate:0.24264 group/top3_rate:0.38132 group/top1_click:0.30514 group/top3_click:0.27383 group/top1_click_best:1.00000 group/top3_click_best:0.66689 group/top1_click_rate:0.30514 group/top3_click_rate:0.41060 group/click/auc:0.00000 group/click/pos_ratio:0.00000 group/click/top1_score:83.55928 group/click/top3_score:79.15982 group/click/time_auc:0.56194 group/click/weighted_time_auc:0.68313 group/click/top1_best:112.18221 group/click/top3_best:90.83860 group/click/top1_rate:0.74485 group/click/top3_rate:0.87143 group/click/top1_click:1.00000 group/click/top3_click:1.00000 group/click/top1_click_best:1.00000 group/click/top3_click_best:1.00000 group/click/top1_click_rate:1.00000 group/click/top3_click_rate:1.00000 click_ratio:0.13958 time_per_show:10.35016 time_per_click:74.14956 time_per_user:171.49250 version:tuwen'],\n",
       " ['valid_online_abid4,5,6',\n",
       "  '2019111914',\n",
       "  'tuwen',\n",
       "  'pos_ratio:0.13214 auc:0.67096 time_auc:0.66710 weighted_time_auc:0.72033 click/time_auc:0.61222 click/weighted_time_auc:0.60381 group/auc:0.62338 group/pos_ratio:0.15654 group/top1_score:27.10676 group/top3_score:23.38931 group/time_auc:0.62100 group/weighted_time_auc:0.64817 group/top1_best:110.41591 group/top3_best:60.01569 group/top1_rate:0.24550 group/top3_rate:0.38972 group/top1_click:0.30689 group/top3_click:0.27490 group/top1_click_best:1.00000 group/top3_click_best:0.66248 group/top1_click_rate:0.30689 group/top3_click_rate:0.41496 group/click/auc:0.00000 group/click/pos_ratio:0.00000 group/click/top1_score:83.28173 group/click/top3_score:79.31324 group/click/time_auc:0.56840 group/click/weighted_time_auc:0.69310 group/click/top1_best:110.41591 group/click/top3_best:90.59252 group/click/top1_rate:0.75425 group/click/top3_rate:0.87549 group/click/top1_click:1.00000 group/click/top3_click:1.00000 group/click/top1_click_best:1.00000 group/click/top3_click_best:1.00000 group/click/top1_click_rate:1.00000 group/click/top3_click_rate:1.00000 click_ratio:0.13214 time_per_show:9.74490 time_per_click:73.74542 time_per_user:161.38080 version:tuwen'],\n",
       " ['valid_online_abid4,5,6',\n",
       "  '2019111915',\n",
       "  'tuwen',\n",
       "  'pos_ratio:0.12415 auc:0.66843 time_auc:0.66527 weighted_time_auc:0.72470 click/time_auc:0.61651 click/weighted_time_auc:0.61585 group/auc:0.61848 group/pos_ratio:0.15062 group/top1_score:24.81392 group/top3_score:21.31174 group/time_auc:0.61496 group/weighted_time_auc:0.63769 group/top1_best:106.85540 group/top3_best:57.44361 group/top1_rate:0.23222 group/top3_rate:0.37100 group/top1_click:0.29523 group/top3_click:0.26039 group/top1_click_best:1.00000 group/top3_click_best:0.66146 group/top1_click_rate:0.29523 group/top3_click_rate:0.39366 group/click/auc:0.00000 group/click/pos_ratio:0.00000 group/click/top1_score:80.77731 group/click/top3_score:75.68308 group/click/time_auc:0.56505 group/click/weighted_time_auc:0.68528 group/click/top1_best:106.85540 group/click/top3_best:86.84351 group/click/top1_rate:0.75595 group/click/top3_rate:0.87149 group/click/top1_click:1.00000 group/click/top3_click:1.00000 group/click/top1_click_best:1.00000 group/click/top3_click_best:1.00000 group/click/top1_click_rate:1.00000 group/click/top3_click_rate:1.00000 click_ratio:0.12415 time_per_show:8.80986 time_per_click:70.96332 time_per_user:151.15844 version:tuwen'],\n",
       " ['valid_online_abid4,5,6',\n",
       "  '2019111916',\n",
       "  'tuwen',\n",
       "  'pos_ratio:0.12509 auc:0.67133 time_auc:0.66814 weighted_time_auc:0.72551 click/time_auc:0.61866 click/weighted_time_auc:0.61039 group/auc:0.62388 group/pos_ratio:0.15231 group/top1_score:27.85659 group/top3_score:22.88035 group/time_auc:0.62235 group/weighted_time_auc:0.64737 group/top1_best:112.30451 group/top3_best:61.11330 group/top1_rate:0.24805 group/top3_rate:0.37439 group/top1_click:0.29332 group/top3_click:0.26450 group/top1_click_best:1.00000 group/top3_click_best:0.66965 group/top1_click_rate:0.29332 group/top3_click_rate:0.39499 group/click/auc:0.00000 group/click/pos_ratio:0.00000 group/click/top1_score:84.99450 group/click/top3_score:78.97144 group/click/time_auc:0.57015 group/click/weighted_time_auc:0.68974 group/click/top1_best:112.30451 group/click/top3_best:91.26096 group/click/top1_rate:0.75682 group/click/top3_rate:0.86534 group/click/top1_click:1.00000 group/click/top3_click:1.00000 group/click/top1_click_best:1.00000 group/click/top3_click_best:1.00000 group/click/top1_click_rate:1.00000 group/click/top3_click_rate:1.00000 click_ratio:0.12509 time_per_show:9.08234 time_per_click:72.60711 time_per_user:162.93837 version:tuwen'],\n",
       " ['valid_online_abid4,5,6',\n",
       "  '2019111917',\n",
       "  'tuwen',\n",
       "  'pos_ratio:0.13160 auc:0.64796 time_auc:0.64595 weighted_time_auc:0.70697 click/time_auc:0.61456 click/weighted_time_auc:0.60829 group/auc:0.62631 group/pos_ratio:0.15219 group/top1_score:26.69948 group/top3_score:22.28080 group/time_auc:0.62364 group/weighted_time_auc:0.64563 group/top1_best:114.45615 group/top3_best:60.67624 group/top1_rate:0.23327 group/top3_rate:0.36721 group/top1_click:0.29061 group/top3_click:0.25967 group/top1_click_best:1.00000 group/top3_click_best:0.66369 group/top1_click_rate:0.29061 group/top3_click_rate:0.39126 group/click/auc:0.00000 group/click/pos_ratio:0.00000 group/click/top1_score:84.06237 group/click/top3_score:78.80943 group/click/time_auc:0.56718 group/click/weighted_time_auc:0.68564 group/click/top1_best:114.45615 group/click/top3_best:91.42267 group/click/top1_rate:0.73445 group/click/top3_rate:0.86203 group/click/top1_click:1.00000 group/click/top3_click:1.00000 group/click/top1_click_best:1.00000 group/click/top3_click_best:1.00000 group/click/top1_click_rate:1.00000 group/click/top3_click_rate:1.00000 click_ratio:0.13160 time_per_show:9.61652 time_per_click:73.07301 time_per_user:155.80002 version:tuwen'],\n",
       " ['valid_online_abid4,5,6',\n",
       "  '2019111918',\n",
       "  'tuwen',\n",
       "  'pos_ratio:0.13712 auc:0.64931 time_auc:0.64679 weighted_time_auc:0.69907 click/time_auc:0.61125 click/weighted_time_auc:0.59799 group/auc:0.62504 group/pos_ratio:0.15655 group/top1_score:28.52997 group/top3_score:23.49847 group/time_auc:0.62450 group/weighted_time_auc:0.64307 group/top1_best:115.45441 group/top3_best:62.92725 group/top1_rate:0.24711 group/top3_rate:0.37342 group/top1_click:0.30927 group/top3_click:0.26995 group/top1_click_best:1.00000 group/top3_click_best:0.66955 group/top1_click_rate:0.30927 group/top3_click_rate:0.40318 group/click/auc:0.00000 group/click/pos_ratio:0.00000 group/click/top1_score:85.64656 group/click/top3_score:81.30721 group/click/time_auc:0.56863 group/click/weighted_time_auc:0.68516 group/click/top1_best:115.45441 group/click/top3_best:93.98455 group/click/top1_rate:0.74182 group/click/top3_rate:0.86511 group/click/top1_click:1.00000 group/click/top3_click:1.00000 group/click/top1_click_best:1.00000 group/click/top3_click_best:1.00000 group/click/top1_click_rate:1.00000 group/click/top3_click_rate:1.00000 click_ratio:0.13712 time_per_show:10.15188 time_per_click:74.03423 time_per_user:165.95366 version:tuwen']]"
      ]
     },
     "execution_count": 8,
     "metadata": {},
     "output_type": "execute_result"
    }
   ],
   "source": [
    "online_base"
   ]
  },
  {
   "cell_type": "code",
   "execution_count": 9,
   "metadata": {},
   "outputs": [],
   "source": [
    "def parse(l, times):\n",
    "    if len(l) != 4:\n",
    "      return None\n",
    "    items = l[-1].split()\n",
    "    items = [x.split(':') for x in items if not x.startswith('version')]\n",
    "    items = [(x, float(y)) for x, y in items]\n",
    "    d = dict(items)\n",
    "    if l[1] in times:\n",
    "      return None\n",
    "    else:\n",
    "      times.add(l[1])\n",
    "    try:\n",
    "      x = datetime.datetime.strptime(l[1],\"%Y%m%d%H\")\n",
    "      d['time'] = x\n",
    "    except Exception:\n",
    "      return None\n",
    "    return d\n",
    "\n",
    "def get_df(input):\n",
    "    times = set()\n",
    "    xs = [parse(l, times) for l in input]\n",
    "    xs = [x for x in xs if x]\n",
    "    df = pd.DataFrame.from_dict(xs)\n",
    "    df.sort_values(['time'])\n",
    "    return df"
   ]
  },
  {
   "cell_type": "code",
   "execution_count": 10,
   "metadata": {},
   "outputs": [],
   "source": [
    "import pandas as pd"
   ]
  },
  {
   "cell_type": "code",
   "execution_count": 11,
   "metadata": {},
   "outputs": [],
   "source": [
    "df_online_base = get_df(online_base)\n",
    "df_offline_base = get_df(offline_base)\n",
    "df_offline_base2 = get_df(offline_base2)"
   ]
  },
  {
   "cell_type": "code",
   "execution_count": 12,
   "metadata": {},
   "outputs": [
    {
     "data": {
      "text/html": [
       "<div>\n",
       "<style scoped>\n",
       "    .dataframe tbody tr th:only-of-type {\n",
       "        vertical-align: middle;\n",
       "    }\n",
       "\n",
       "    .dataframe tbody tr th {\n",
       "        vertical-align: top;\n",
       "    }\n",
       "\n",
       "    .dataframe thead th {\n",
       "        text-align: right;\n",
       "    }\n",
       "</style>\n",
       "<table border=\"1\" class=\"dataframe\">\n",
       "  <thead>\n",
       "    <tr style=\"text-align: right;\">\n",
       "      <th></th>\n",
       "      <th>pos_ratio</th>\n",
       "      <th>auc</th>\n",
       "      <th>time_auc</th>\n",
       "      <th>weighted_time_auc</th>\n",
       "      <th>click/time_auc</th>\n",
       "      <th>click/weighted_inv</th>\n",
       "      <th>group/auc</th>\n",
       "      <th>group/pos_ratio</th>\n",
       "      <th>group/top1_score</th>\n",
       "      <th>group/top3_score</th>\n",
       "      <th>...</th>\n",
       "      <th>group/click/top1_click_best</th>\n",
       "      <th>group/click/top3_click_best</th>\n",
       "      <th>group/click/top1_click_rate</th>\n",
       "      <th>group/click/top3_click_rate</th>\n",
       "      <th>click_ratio</th>\n",
       "      <th>time_per_show</th>\n",
       "      <th>time_per_click</th>\n",
       "      <th>time_per_user</th>\n",
       "      <th>time</th>\n",
       "      <th>click/weighted_time_auc</th>\n",
       "    </tr>\n",
       "  </thead>\n",
       "  <tbody>\n",
       "    <tr>\n",
       "      <td>0</td>\n",
       "      <td>0.13439</td>\n",
       "      <td>0.71169</td>\n",
       "      <td>0.70226</td>\n",
       "      <td>0.73931</td>\n",
       "      <td>0.57604</td>\n",
       "      <td>0.39919</td>\n",
       "      <td>0.67140</td>\n",
       "      <td>0.16066</td>\n",
       "      <td>33.99942</td>\n",
       "      <td>27.26358</td>\n",
       "      <td>...</td>\n",
       "      <td>1.0</td>\n",
       "      <td>1.0</td>\n",
       "      <td>1.0</td>\n",
       "      <td>1.0</td>\n",
       "      <td>0.13439</td>\n",
       "      <td>10.16886</td>\n",
       "      <td>75.66677</td>\n",
       "      <td>77.58287</td>\n",
       "      <td>2019-11-08 12:00:00</td>\n",
       "      <td>NaN</td>\n",
       "    </tr>\n",
       "    <tr>\n",
       "      <td>1</td>\n",
       "      <td>0.07671</td>\n",
       "      <td>0.72858</td>\n",
       "      <td>0.72317</td>\n",
       "      <td>0.76287</td>\n",
       "      <td>0.58605</td>\n",
       "      <td>0.40502</td>\n",
       "      <td>0.65973</td>\n",
       "      <td>0.15315</td>\n",
       "      <td>30.76896</td>\n",
       "      <td>25.37287</td>\n",
       "      <td>...</td>\n",
       "      <td>1.0</td>\n",
       "      <td>1.0</td>\n",
       "      <td>1.0</td>\n",
       "      <td>1.0</td>\n",
       "      <td>0.07671</td>\n",
       "      <td>5.53069</td>\n",
       "      <td>72.10084</td>\n",
       "      <td>53.56972</td>\n",
       "      <td>2019-11-08 17:00:00</td>\n",
       "      <td>NaN</td>\n",
       "    </tr>\n",
       "    <tr>\n",
       "      <td>2</td>\n",
       "      <td>0.07653</td>\n",
       "      <td>0.75859</td>\n",
       "      <td>0.75128</td>\n",
       "      <td>0.78021</td>\n",
       "      <td>0.56688</td>\n",
       "      <td>0.42208</td>\n",
       "      <td>0.66014</td>\n",
       "      <td>0.15242</td>\n",
       "      <td>31.38553</td>\n",
       "      <td>25.69395</td>\n",
       "      <td>...</td>\n",
       "      <td>1.0</td>\n",
       "      <td>1.0</td>\n",
       "      <td>1.0</td>\n",
       "      <td>1.0</td>\n",
       "      <td>0.07653</td>\n",
       "      <td>5.65287</td>\n",
       "      <td>73.86672</td>\n",
       "      <td>54.14143</td>\n",
       "      <td>2019-11-08 18:00:00</td>\n",
       "      <td>NaN</td>\n",
       "    </tr>\n",
       "    <tr>\n",
       "      <td>3</td>\n",
       "      <td>0.07920</td>\n",
       "      <td>0.75894</td>\n",
       "      <td>0.75152</td>\n",
       "      <td>0.78124</td>\n",
       "      <td>0.57143</td>\n",
       "      <td>NaN</td>\n",
       "      <td>0.65993</td>\n",
       "      <td>0.15128</td>\n",
       "      <td>31.49225</td>\n",
       "      <td>25.25712</td>\n",
       "      <td>...</td>\n",
       "      <td>1.0</td>\n",
       "      <td>1.0</td>\n",
       "      <td>1.0</td>\n",
       "      <td>1.0</td>\n",
       "      <td>0.07920</td>\n",
       "      <td>5.89030</td>\n",
       "      <td>74.36863</td>\n",
       "      <td>58.68668</td>\n",
       "      <td>2019-11-08 19:00:00</td>\n",
       "      <td>0.58622</td>\n",
       "    </tr>\n",
       "    <tr>\n",
       "      <td>4</td>\n",
       "      <td>0.07951</td>\n",
       "      <td>0.75992</td>\n",
       "      <td>0.75220</td>\n",
       "      <td>0.78282</td>\n",
       "      <td>0.56444</td>\n",
       "      <td>NaN</td>\n",
       "      <td>0.65777</td>\n",
       "      <td>0.15069</td>\n",
       "      <td>31.73924</td>\n",
       "      <td>26.33051</td>\n",
       "      <td>...</td>\n",
       "      <td>1.0</td>\n",
       "      <td>1.0</td>\n",
       "      <td>1.0</td>\n",
       "      <td>1.0</td>\n",
       "      <td>0.07951</td>\n",
       "      <td>6.04187</td>\n",
       "      <td>75.98610</td>\n",
       "      <td>61.35375</td>\n",
       "      <td>2019-11-08 20:00:00</td>\n",
       "      <td>0.57646</td>\n",
       "    </tr>\n",
       "    <tr>\n",
       "      <td>...</td>\n",
       "      <td>...</td>\n",
       "      <td>...</td>\n",
       "      <td>...</td>\n",
       "      <td>...</td>\n",
       "      <td>...</td>\n",
       "      <td>...</td>\n",
       "      <td>...</td>\n",
       "      <td>...</td>\n",
       "      <td>...</td>\n",
       "      <td>...</td>\n",
       "      <td>...</td>\n",
       "      <td>...</td>\n",
       "      <td>...</td>\n",
       "      <td>...</td>\n",
       "      <td>...</td>\n",
       "      <td>...</td>\n",
       "      <td>...</td>\n",
       "      <td>...</td>\n",
       "      <td>...</td>\n",
       "      <td>...</td>\n",
       "      <td>...</td>\n",
       "    </tr>\n",
       "    <tr>\n",
       "      <td>256</td>\n",
       "      <td>0.13020</td>\n",
       "      <td>0.71727</td>\n",
       "      <td>0.71108</td>\n",
       "      <td>0.76256</td>\n",
       "      <td>0.62361</td>\n",
       "      <td>NaN</td>\n",
       "      <td>0.67439</td>\n",
       "      <td>0.15392</td>\n",
       "      <td>31.38016</td>\n",
       "      <td>24.87208</td>\n",
       "      <td>...</td>\n",
       "      <td>1.0</td>\n",
       "      <td>1.0</td>\n",
       "      <td>1.0</td>\n",
       "      <td>1.0</td>\n",
       "      <td>0.13020</td>\n",
       "      <td>9.58308</td>\n",
       "      <td>73.60340</td>\n",
       "      <td>161.26091</td>\n",
       "      <td>2019-11-19 14:00:00</td>\n",
       "      <td>0.61605</td>\n",
       "    </tr>\n",
       "    <tr>\n",
       "      <td>257</td>\n",
       "      <td>0.12267</td>\n",
       "      <td>0.71773</td>\n",
       "      <td>0.71179</td>\n",
       "      <td>0.76291</td>\n",
       "      <td>0.62189</td>\n",
       "      <td>NaN</td>\n",
       "      <td>0.66976</td>\n",
       "      <td>0.14848</td>\n",
       "      <td>27.69994</td>\n",
       "      <td>22.99772</td>\n",
       "      <td>...</td>\n",
       "      <td>1.0</td>\n",
       "      <td>1.0</td>\n",
       "      <td>1.0</td>\n",
       "      <td>1.0</td>\n",
       "      <td>0.12267</td>\n",
       "      <td>8.68119</td>\n",
       "      <td>70.76924</td>\n",
       "      <td>151.02778</td>\n",
       "      <td>2019-11-19 15:00:00</td>\n",
       "      <td>0.61614</td>\n",
       "    </tr>\n",
       "    <tr>\n",
       "      <td>258</td>\n",
       "      <td>0.12327</td>\n",
       "      <td>0.72666</td>\n",
       "      <td>0.71990</td>\n",
       "      <td>0.76923</td>\n",
       "      <td>0.61849</td>\n",
       "      <td>NaN</td>\n",
       "      <td>0.67624</td>\n",
       "      <td>0.14978</td>\n",
       "      <td>30.51850</td>\n",
       "      <td>24.85610</td>\n",
       "      <td>...</td>\n",
       "      <td>1.0</td>\n",
       "      <td>1.0</td>\n",
       "      <td>1.0</td>\n",
       "      <td>1.0</td>\n",
       "      <td>0.12327</td>\n",
       "      <td>8.94400</td>\n",
       "      <td>72.55518</td>\n",
       "      <td>162.64657</td>\n",
       "      <td>2019-11-19 16:00:00</td>\n",
       "      <td>0.61329</td>\n",
       "    </tr>\n",
       "    <tr>\n",
       "      <td>259</td>\n",
       "      <td>0.12966</td>\n",
       "      <td>0.70135</td>\n",
       "      <td>0.69588</td>\n",
       "      <td>0.75329</td>\n",
       "      <td>0.61769</td>\n",
       "      <td>NaN</td>\n",
       "      <td>0.67694</td>\n",
       "      <td>0.14984</td>\n",
       "      <td>31.98936</td>\n",
       "      <td>25.89891</td>\n",
       "      <td>...</td>\n",
       "      <td>1.0</td>\n",
       "      <td>1.0</td>\n",
       "      <td>1.0</td>\n",
       "      <td>1.0</td>\n",
       "      <td>0.12966</td>\n",
       "      <td>9.47010</td>\n",
       "      <td>73.03526</td>\n",
       "      <td>155.74401</td>\n",
       "      <td>2019-11-19 17:00:00</td>\n",
       "      <td>0.61583</td>\n",
       "    </tr>\n",
       "    <tr>\n",
       "      <td>260</td>\n",
       "      <td>0.13502</td>\n",
       "      <td>0.70368</td>\n",
       "      <td>0.69707</td>\n",
       "      <td>0.74134</td>\n",
       "      <td>0.60761</td>\n",
       "      <td>NaN</td>\n",
       "      <td>0.67738</td>\n",
       "      <td>0.15402</td>\n",
       "      <td>31.02914</td>\n",
       "      <td>25.78276</td>\n",
       "      <td>...</td>\n",
       "      <td>1.0</td>\n",
       "      <td>1.0</td>\n",
       "      <td>1.0</td>\n",
       "      <td>1.0</td>\n",
       "      <td>0.13502</td>\n",
       "      <td>9.98791</td>\n",
       "      <td>73.97298</td>\n",
       "      <td>166.09732</td>\n",
       "      <td>2019-11-19 18:00:00</td>\n",
       "      <td>0.59393</td>\n",
       "    </tr>\n",
       "  </tbody>\n",
       "</table>\n",
       "<p>261 rows × 44 columns</p>\n",
       "</div>"
      ],
      "text/plain": [
       "     pos_ratio      auc  time_auc  weighted_time_auc  click/time_auc  \\\n",
       "0      0.13439  0.71169   0.70226            0.73931         0.57604   \n",
       "1      0.07671  0.72858   0.72317            0.76287         0.58605   \n",
       "2      0.07653  0.75859   0.75128            0.78021         0.56688   \n",
       "3      0.07920  0.75894   0.75152            0.78124         0.57143   \n",
       "4      0.07951  0.75992   0.75220            0.78282         0.56444   \n",
       "..         ...      ...       ...                ...             ...   \n",
       "256    0.13020  0.71727   0.71108            0.76256         0.62361   \n",
       "257    0.12267  0.71773   0.71179            0.76291         0.62189   \n",
       "258    0.12327  0.72666   0.71990            0.76923         0.61849   \n",
       "259    0.12966  0.70135   0.69588            0.75329         0.61769   \n",
       "260    0.13502  0.70368   0.69707            0.74134         0.60761   \n",
       "\n",
       "     click/weighted_inv  group/auc  group/pos_ratio  group/top1_score  \\\n",
       "0               0.39919    0.67140          0.16066          33.99942   \n",
       "1               0.40502    0.65973          0.15315          30.76896   \n",
       "2               0.42208    0.66014          0.15242          31.38553   \n",
       "3                   NaN    0.65993          0.15128          31.49225   \n",
       "4                   NaN    0.65777          0.15069          31.73924   \n",
       "..                  ...        ...              ...               ...   \n",
       "256                 NaN    0.67439          0.15392          31.38016   \n",
       "257                 NaN    0.66976          0.14848          27.69994   \n",
       "258                 NaN    0.67624          0.14978          30.51850   \n",
       "259                 NaN    0.67694          0.14984          31.98936   \n",
       "260                 NaN    0.67738          0.15402          31.02914   \n",
       "\n",
       "     group/top3_score  ...  group/click/top1_click_best  \\\n",
       "0            27.26358  ...                          1.0   \n",
       "1            25.37287  ...                          1.0   \n",
       "2            25.69395  ...                          1.0   \n",
       "3            25.25712  ...                          1.0   \n",
       "4            26.33051  ...                          1.0   \n",
       "..                ...  ...                          ...   \n",
       "256          24.87208  ...                          1.0   \n",
       "257          22.99772  ...                          1.0   \n",
       "258          24.85610  ...                          1.0   \n",
       "259          25.89891  ...                          1.0   \n",
       "260          25.78276  ...                          1.0   \n",
       "\n",
       "     group/click/top3_click_best  group/click/top1_click_rate  \\\n",
       "0                            1.0                          1.0   \n",
       "1                            1.0                          1.0   \n",
       "2                            1.0                          1.0   \n",
       "3                            1.0                          1.0   \n",
       "4                            1.0                          1.0   \n",
       "..                           ...                          ...   \n",
       "256                          1.0                          1.0   \n",
       "257                          1.0                          1.0   \n",
       "258                          1.0                          1.0   \n",
       "259                          1.0                          1.0   \n",
       "260                          1.0                          1.0   \n",
       "\n",
       "     group/click/top3_click_rate  click_ratio  time_per_show  time_per_click  \\\n",
       "0                            1.0      0.13439       10.16886        75.66677   \n",
       "1                            1.0      0.07671        5.53069        72.10084   \n",
       "2                            1.0      0.07653        5.65287        73.86672   \n",
       "3                            1.0      0.07920        5.89030        74.36863   \n",
       "4                            1.0      0.07951        6.04187        75.98610   \n",
       "..                           ...          ...            ...             ...   \n",
       "256                          1.0      0.13020        9.58308        73.60340   \n",
       "257                          1.0      0.12267        8.68119        70.76924   \n",
       "258                          1.0      0.12327        8.94400        72.55518   \n",
       "259                          1.0      0.12966        9.47010        73.03526   \n",
       "260                          1.0      0.13502        9.98791        73.97298   \n",
       "\n",
       "     time_per_user                time  click/weighted_time_auc  \n",
       "0         77.58287 2019-11-08 12:00:00                      NaN  \n",
       "1         53.56972 2019-11-08 17:00:00                      NaN  \n",
       "2         54.14143 2019-11-08 18:00:00                      NaN  \n",
       "3         58.68668 2019-11-08 19:00:00                  0.58622  \n",
       "4         61.35375 2019-11-08 20:00:00                  0.57646  \n",
       "..             ...                 ...                      ...  \n",
       "256      161.26091 2019-11-19 14:00:00                  0.61605  \n",
       "257      151.02778 2019-11-19 15:00:00                  0.61614  \n",
       "258      162.64657 2019-11-19 16:00:00                  0.61329  \n",
       "259      155.74401 2019-11-19 17:00:00                  0.61583  \n",
       "260      166.09732 2019-11-19 18:00:00                  0.59393  \n",
       "\n",
       "[261 rows x 44 columns]"
      ]
     },
     "execution_count": 12,
     "metadata": {},
     "output_type": "execute_result"
    }
   ],
   "source": [
    "df_offline_base"
   ]
  },
  {
   "cell_type": "code",
   "execution_count": 13,
   "metadata": {},
   "outputs": [],
   "source": [
    "df_online_exp = get_df(online_exp)\n",
    "df_offline_exp = get_df(offline_exp)"
   ]
  },
  {
   "cell_type": "code",
   "execution_count": 14,
   "metadata": {},
   "outputs": [
    {
     "data": {
      "text/html": [
       "<div>\n",
       "<style scoped>\n",
       "    .dataframe tbody tr th:only-of-type {\n",
       "        vertical-align: middle;\n",
       "    }\n",
       "\n",
       "    .dataframe tbody tr th {\n",
       "        vertical-align: top;\n",
       "    }\n",
       "\n",
       "    .dataframe thead th {\n",
       "        text-align: right;\n",
       "    }\n",
       "</style>\n",
       "<table border=\"1\" class=\"dataframe\">\n",
       "  <thead>\n",
       "    <tr style=\"text-align: right;\">\n",
       "      <th></th>\n",
       "      <th>pos_ratio</th>\n",
       "      <th>auc</th>\n",
       "      <th>time_auc</th>\n",
       "      <th>weighted_time_auc</th>\n",
       "      <th>click/time_auc</th>\n",
       "      <th>click/weighted_inv</th>\n",
       "      <th>group/auc</th>\n",
       "      <th>group/pos_ratio</th>\n",
       "      <th>group/top1_score</th>\n",
       "      <th>group/top3_score</th>\n",
       "      <th>...</th>\n",
       "      <th>group/click/top1_click_best</th>\n",
       "      <th>group/click/top3_click_best</th>\n",
       "      <th>group/click/top1_click_rate</th>\n",
       "      <th>group/click/top3_click_rate</th>\n",
       "      <th>click_ratio</th>\n",
       "      <th>time_per_show</th>\n",
       "      <th>time_per_click</th>\n",
       "      <th>time_per_user</th>\n",
       "      <th>time</th>\n",
       "      <th>click/weighted_time_auc</th>\n",
       "    </tr>\n",
       "  </thead>\n",
       "  <tbody>\n",
       "    <tr>\n",
       "      <td>0</td>\n",
       "      <td>0.13439</td>\n",
       "      <td>0.71169</td>\n",
       "      <td>0.70226</td>\n",
       "      <td>0.73931</td>\n",
       "      <td>0.57604</td>\n",
       "      <td>0.39919</td>\n",
       "      <td>0.67140</td>\n",
       "      <td>0.16066</td>\n",
       "      <td>33.99942</td>\n",
       "      <td>27.26358</td>\n",
       "      <td>...</td>\n",
       "      <td>1.0</td>\n",
       "      <td>1.0</td>\n",
       "      <td>1.0</td>\n",
       "      <td>1.0</td>\n",
       "      <td>0.13439</td>\n",
       "      <td>10.16886</td>\n",
       "      <td>75.66677</td>\n",
       "      <td>77.58287</td>\n",
       "      <td>2019-11-08 12:00:00</td>\n",
       "      <td>NaN</td>\n",
       "    </tr>\n",
       "    <tr>\n",
       "      <td>1</td>\n",
       "      <td>0.07671</td>\n",
       "      <td>0.72858</td>\n",
       "      <td>0.72317</td>\n",
       "      <td>0.76287</td>\n",
       "      <td>0.58605</td>\n",
       "      <td>0.40502</td>\n",
       "      <td>0.65973</td>\n",
       "      <td>0.15315</td>\n",
       "      <td>30.76896</td>\n",
       "      <td>25.37287</td>\n",
       "      <td>...</td>\n",
       "      <td>1.0</td>\n",
       "      <td>1.0</td>\n",
       "      <td>1.0</td>\n",
       "      <td>1.0</td>\n",
       "      <td>0.07671</td>\n",
       "      <td>5.53069</td>\n",
       "      <td>72.10084</td>\n",
       "      <td>53.56972</td>\n",
       "      <td>2019-11-08 17:00:00</td>\n",
       "      <td>NaN</td>\n",
       "    </tr>\n",
       "    <tr>\n",
       "      <td>2</td>\n",
       "      <td>0.07653</td>\n",
       "      <td>0.75859</td>\n",
       "      <td>0.75128</td>\n",
       "      <td>0.78021</td>\n",
       "      <td>0.56688</td>\n",
       "      <td>0.42208</td>\n",
       "      <td>0.66014</td>\n",
       "      <td>0.15242</td>\n",
       "      <td>31.38553</td>\n",
       "      <td>25.69395</td>\n",
       "      <td>...</td>\n",
       "      <td>1.0</td>\n",
       "      <td>1.0</td>\n",
       "      <td>1.0</td>\n",
       "      <td>1.0</td>\n",
       "      <td>0.07653</td>\n",
       "      <td>5.65287</td>\n",
       "      <td>73.86672</td>\n",
       "      <td>54.14143</td>\n",
       "      <td>2019-11-08 18:00:00</td>\n",
       "      <td>NaN</td>\n",
       "    </tr>\n",
       "    <tr>\n",
       "      <td>3</td>\n",
       "      <td>0.07920</td>\n",
       "      <td>0.75894</td>\n",
       "      <td>0.75152</td>\n",
       "      <td>0.78124</td>\n",
       "      <td>0.57143</td>\n",
       "      <td>NaN</td>\n",
       "      <td>0.65993</td>\n",
       "      <td>0.15128</td>\n",
       "      <td>31.49225</td>\n",
       "      <td>25.25712</td>\n",
       "      <td>...</td>\n",
       "      <td>1.0</td>\n",
       "      <td>1.0</td>\n",
       "      <td>1.0</td>\n",
       "      <td>1.0</td>\n",
       "      <td>0.07920</td>\n",
       "      <td>5.89030</td>\n",
       "      <td>74.36863</td>\n",
       "      <td>58.68668</td>\n",
       "      <td>2019-11-08 19:00:00</td>\n",
       "      <td>0.58622</td>\n",
       "    </tr>\n",
       "    <tr>\n",
       "      <td>4</td>\n",
       "      <td>0.07951</td>\n",
       "      <td>0.75992</td>\n",
       "      <td>0.75220</td>\n",
       "      <td>0.78282</td>\n",
       "      <td>0.56444</td>\n",
       "      <td>NaN</td>\n",
       "      <td>0.65777</td>\n",
       "      <td>0.15069</td>\n",
       "      <td>31.73924</td>\n",
       "      <td>26.33051</td>\n",
       "      <td>...</td>\n",
       "      <td>1.0</td>\n",
       "      <td>1.0</td>\n",
       "      <td>1.0</td>\n",
       "      <td>1.0</td>\n",
       "      <td>0.07951</td>\n",
       "      <td>6.04187</td>\n",
       "      <td>75.98610</td>\n",
       "      <td>61.35375</td>\n",
       "      <td>2019-11-08 20:00:00</td>\n",
       "      <td>0.57646</td>\n",
       "    </tr>\n",
       "    <tr>\n",
       "      <td>...</td>\n",
       "      <td>...</td>\n",
       "      <td>...</td>\n",
       "      <td>...</td>\n",
       "      <td>...</td>\n",
       "      <td>...</td>\n",
       "      <td>...</td>\n",
       "      <td>...</td>\n",
       "      <td>...</td>\n",
       "      <td>...</td>\n",
       "      <td>...</td>\n",
       "      <td>...</td>\n",
       "      <td>...</td>\n",
       "      <td>...</td>\n",
       "      <td>...</td>\n",
       "      <td>...</td>\n",
       "      <td>...</td>\n",
       "      <td>...</td>\n",
       "      <td>...</td>\n",
       "      <td>...</td>\n",
       "      <td>...</td>\n",
       "      <td>...</td>\n",
       "    </tr>\n",
       "    <tr>\n",
       "      <td>256</td>\n",
       "      <td>0.13020</td>\n",
       "      <td>0.71727</td>\n",
       "      <td>0.71108</td>\n",
       "      <td>0.76256</td>\n",
       "      <td>0.62361</td>\n",
       "      <td>NaN</td>\n",
       "      <td>0.67439</td>\n",
       "      <td>0.15392</td>\n",
       "      <td>31.38016</td>\n",
       "      <td>24.87208</td>\n",
       "      <td>...</td>\n",
       "      <td>1.0</td>\n",
       "      <td>1.0</td>\n",
       "      <td>1.0</td>\n",
       "      <td>1.0</td>\n",
       "      <td>0.13020</td>\n",
       "      <td>9.58308</td>\n",
       "      <td>73.60340</td>\n",
       "      <td>161.26091</td>\n",
       "      <td>2019-11-19 14:00:00</td>\n",
       "      <td>0.61605</td>\n",
       "    </tr>\n",
       "    <tr>\n",
       "      <td>257</td>\n",
       "      <td>0.12267</td>\n",
       "      <td>0.71773</td>\n",
       "      <td>0.71179</td>\n",
       "      <td>0.76291</td>\n",
       "      <td>0.62189</td>\n",
       "      <td>NaN</td>\n",
       "      <td>0.66976</td>\n",
       "      <td>0.14848</td>\n",
       "      <td>27.69994</td>\n",
       "      <td>22.99772</td>\n",
       "      <td>...</td>\n",
       "      <td>1.0</td>\n",
       "      <td>1.0</td>\n",
       "      <td>1.0</td>\n",
       "      <td>1.0</td>\n",
       "      <td>0.12267</td>\n",
       "      <td>8.68119</td>\n",
       "      <td>70.76924</td>\n",
       "      <td>151.02778</td>\n",
       "      <td>2019-11-19 15:00:00</td>\n",
       "      <td>0.61614</td>\n",
       "    </tr>\n",
       "    <tr>\n",
       "      <td>258</td>\n",
       "      <td>0.12327</td>\n",
       "      <td>0.72666</td>\n",
       "      <td>0.71990</td>\n",
       "      <td>0.76923</td>\n",
       "      <td>0.61849</td>\n",
       "      <td>NaN</td>\n",
       "      <td>0.67624</td>\n",
       "      <td>0.14978</td>\n",
       "      <td>30.51850</td>\n",
       "      <td>24.85610</td>\n",
       "      <td>...</td>\n",
       "      <td>1.0</td>\n",
       "      <td>1.0</td>\n",
       "      <td>1.0</td>\n",
       "      <td>1.0</td>\n",
       "      <td>0.12327</td>\n",
       "      <td>8.94400</td>\n",
       "      <td>72.55518</td>\n",
       "      <td>162.64657</td>\n",
       "      <td>2019-11-19 16:00:00</td>\n",
       "      <td>0.61329</td>\n",
       "    </tr>\n",
       "    <tr>\n",
       "      <td>259</td>\n",
       "      <td>0.12966</td>\n",
       "      <td>0.70135</td>\n",
       "      <td>0.69588</td>\n",
       "      <td>0.75329</td>\n",
       "      <td>0.61769</td>\n",
       "      <td>NaN</td>\n",
       "      <td>0.67694</td>\n",
       "      <td>0.14984</td>\n",
       "      <td>31.98936</td>\n",
       "      <td>25.89891</td>\n",
       "      <td>...</td>\n",
       "      <td>1.0</td>\n",
       "      <td>1.0</td>\n",
       "      <td>1.0</td>\n",
       "      <td>1.0</td>\n",
       "      <td>0.12966</td>\n",
       "      <td>9.47010</td>\n",
       "      <td>73.03526</td>\n",
       "      <td>155.74401</td>\n",
       "      <td>2019-11-19 17:00:00</td>\n",
       "      <td>0.61583</td>\n",
       "    </tr>\n",
       "    <tr>\n",
       "      <td>260</td>\n",
       "      <td>0.13502</td>\n",
       "      <td>0.70368</td>\n",
       "      <td>0.69707</td>\n",
       "      <td>0.74134</td>\n",
       "      <td>0.60761</td>\n",
       "      <td>NaN</td>\n",
       "      <td>0.67738</td>\n",
       "      <td>0.15402</td>\n",
       "      <td>31.02914</td>\n",
       "      <td>25.78276</td>\n",
       "      <td>...</td>\n",
       "      <td>1.0</td>\n",
       "      <td>1.0</td>\n",
       "      <td>1.0</td>\n",
       "      <td>1.0</td>\n",
       "      <td>0.13502</td>\n",
       "      <td>9.98791</td>\n",
       "      <td>73.97298</td>\n",
       "      <td>166.09732</td>\n",
       "      <td>2019-11-19 18:00:00</td>\n",
       "      <td>0.59393</td>\n",
       "    </tr>\n",
       "  </tbody>\n",
       "</table>\n",
       "<p>261 rows × 44 columns</p>\n",
       "</div>"
      ],
      "text/plain": [
       "     pos_ratio      auc  time_auc  weighted_time_auc  click/time_auc  \\\n",
       "0      0.13439  0.71169   0.70226            0.73931         0.57604   \n",
       "1      0.07671  0.72858   0.72317            0.76287         0.58605   \n",
       "2      0.07653  0.75859   0.75128            0.78021         0.56688   \n",
       "3      0.07920  0.75894   0.75152            0.78124         0.57143   \n",
       "4      0.07951  0.75992   0.75220            0.78282         0.56444   \n",
       "..         ...      ...       ...                ...             ...   \n",
       "256    0.13020  0.71727   0.71108            0.76256         0.62361   \n",
       "257    0.12267  0.71773   0.71179            0.76291         0.62189   \n",
       "258    0.12327  0.72666   0.71990            0.76923         0.61849   \n",
       "259    0.12966  0.70135   0.69588            0.75329         0.61769   \n",
       "260    0.13502  0.70368   0.69707            0.74134         0.60761   \n",
       "\n",
       "     click/weighted_inv  group/auc  group/pos_ratio  group/top1_score  \\\n",
       "0               0.39919    0.67140          0.16066          33.99942   \n",
       "1               0.40502    0.65973          0.15315          30.76896   \n",
       "2               0.42208    0.66014          0.15242          31.38553   \n",
       "3                   NaN    0.65993          0.15128          31.49225   \n",
       "4                   NaN    0.65777          0.15069          31.73924   \n",
       "..                  ...        ...              ...               ...   \n",
       "256                 NaN    0.67439          0.15392          31.38016   \n",
       "257                 NaN    0.66976          0.14848          27.69994   \n",
       "258                 NaN    0.67624          0.14978          30.51850   \n",
       "259                 NaN    0.67694          0.14984          31.98936   \n",
       "260                 NaN    0.67738          0.15402          31.02914   \n",
       "\n",
       "     group/top3_score  ...  group/click/top1_click_best  \\\n",
       "0            27.26358  ...                          1.0   \n",
       "1            25.37287  ...                          1.0   \n",
       "2            25.69395  ...                          1.0   \n",
       "3            25.25712  ...                          1.0   \n",
       "4            26.33051  ...                          1.0   \n",
       "..                ...  ...                          ...   \n",
       "256          24.87208  ...                          1.0   \n",
       "257          22.99772  ...                          1.0   \n",
       "258          24.85610  ...                          1.0   \n",
       "259          25.89891  ...                          1.0   \n",
       "260          25.78276  ...                          1.0   \n",
       "\n",
       "     group/click/top3_click_best  group/click/top1_click_rate  \\\n",
       "0                            1.0                          1.0   \n",
       "1                            1.0                          1.0   \n",
       "2                            1.0                          1.0   \n",
       "3                            1.0                          1.0   \n",
       "4                            1.0                          1.0   \n",
       "..                           ...                          ...   \n",
       "256                          1.0                          1.0   \n",
       "257                          1.0                          1.0   \n",
       "258                          1.0                          1.0   \n",
       "259                          1.0                          1.0   \n",
       "260                          1.0                          1.0   \n",
       "\n",
       "     group/click/top3_click_rate  click_ratio  time_per_show  time_per_click  \\\n",
       "0                            1.0      0.13439       10.16886        75.66677   \n",
       "1                            1.0      0.07671        5.53069        72.10084   \n",
       "2                            1.0      0.07653        5.65287        73.86672   \n",
       "3                            1.0      0.07920        5.89030        74.36863   \n",
       "4                            1.0      0.07951        6.04187        75.98610   \n",
       "..                           ...          ...            ...             ...   \n",
       "256                          1.0      0.13020        9.58308        73.60340   \n",
       "257                          1.0      0.12267        8.68119        70.76924   \n",
       "258                          1.0      0.12327        8.94400        72.55518   \n",
       "259                          1.0      0.12966        9.47010        73.03526   \n",
       "260                          1.0      0.13502        9.98791        73.97298   \n",
       "\n",
       "     time_per_user                time  click/weighted_time_auc  \n",
       "0         77.58287 2019-11-08 12:00:00                      NaN  \n",
       "1         53.56972 2019-11-08 17:00:00                      NaN  \n",
       "2         54.14143 2019-11-08 18:00:00                      NaN  \n",
       "3         58.68668 2019-11-08 19:00:00                  0.58622  \n",
       "4         61.35375 2019-11-08 20:00:00                  0.57646  \n",
       "..             ...                 ...                      ...  \n",
       "256      161.26091 2019-11-19 14:00:00                  0.61605  \n",
       "257      151.02778 2019-11-19 15:00:00                  0.61614  \n",
       "258      162.64657 2019-11-19 16:00:00                  0.61329  \n",
       "259      155.74401 2019-11-19 17:00:00                  0.61583  \n",
       "260      166.09732 2019-11-19 18:00:00                  0.59393  \n",
       "\n",
       "[261 rows x 44 columns]"
      ]
     },
     "execution_count": 14,
     "metadata": {},
     "output_type": "execute_result"
    }
   ],
   "source": [
    "df_offline_base"
   ]
  },
  {
   "cell_type": "code",
   "execution_count": 15,
   "metadata": {},
   "outputs": [
    {
     "data": {
      "text/html": [
       "        <script type=\"text/javascript\">\n",
       "        window.PlotlyConfig = {MathJaxConfig: 'local'};\n",
       "        if (window.MathJax) {MathJax.Hub.Config({SVG: {font: \"STIX-Web\"}});}\n",
       "        if (typeof require !== 'undefined') {\n",
       "        require.undef(\"plotly\");\n",
       "        requirejs.config({\n",
       "            paths: {\n",
       "                'plotly': ['https://cdn.plot.ly/plotly-latest.min']\n",
       "            }\n",
       "        });\n",
       "        require(['plotly'], function(Plotly) {\n",
       "            window._Plotly = Plotly;\n",
       "        });\n",
       "        }\n",
       "        </script>\n",
       "        "
      ]
     },
     "metadata": {},
     "output_type": "display_data"
    }
   ],
   "source": [
    "from plotly.graph_objs import Scatter,Layout\n",
    "import plotly\n",
    "import plotly.offline as py\n",
    "import numpy as np\n",
    "import plotly.graph_objs as go\n",
    "\n",
    "#setting offilne\n",
    "plotly.offline.init_notebook_mode(connected=True)"
   ]
  },
  {
   "cell_type": "code",
   "execution_count": 16,
   "metadata": {},
   "outputs": [],
   "source": [
    "starttime = datetime.datetime.strptime('2019102710',\"%Y%m%d%H\")"
   ]
  },
  {
   "cell_type": "code",
   "execution_count": 17,
   "metadata": {},
   "outputs": [],
   "source": [
    "def time_diff(x):\n",
    "  diff = x - starttime\n",
    "  return diff.days * 24 + int(diff.seconds / 3600)"
   ]
  },
  {
   "cell_type": "code",
   "execution_count": 18,
   "metadata": {},
   "outputs": [
    {
     "data": {
      "text/plain": [
       "24"
      ]
     },
     "execution_count": 18,
     "metadata": {},
     "output_type": "execute_result"
    }
   ],
   "source": [
    "time_diff(datetime.datetime.strptime('2019102810',\"%Y%m%d%H\"))"
   ]
  },
  {
   "cell_type": "code",
   "execution_count": 19,
   "metadata": {},
   "outputs": [
    {
     "data": {
      "text/plain": [
       "0      290\n",
       "1      295\n",
       "2      296\n",
       "3      297\n",
       "4      298\n",
       "      ... \n",
       "256    556\n",
       "257    557\n",
       "258    558\n",
       "259    559\n",
       "260    560\n",
       "Name: time, Length: 261, dtype: int64"
      ]
     },
     "execution_count": 19,
     "metadata": {},
     "output_type": "execute_result"
    }
   ],
   "source": [
    "df_online_base.time.apply(time_diff)"
   ]
  },
  {
   "cell_type": "code",
   "execution_count": 20,
   "metadata": {},
   "outputs": [],
   "source": [
    "def parse_click(line, times):\n",
    "    l = line.split('\\t')\n",
    "    try:\n",
    "      items = l[-1].split()\n",
    "      items = [x.split(':') for x in items]\n",
    "      items = [(x, float(y)) for x, y in items]\n",
    "      d = dict(items)\n",
    "      d['time'] = datetime.datetime.strptime(l[0],\"%Y%m%d%H\")\n",
    "    except Exception:\n",
    "      return None\n",
    "    if l[0] in times:\n",
    "      return None\n",
    "    else:\n",
    "      times.add(l[0])\n",
    "    return d"
   ]
  },
  {
   "cell_type": "code",
   "execution_count": 21,
   "metadata": {},
   "outputs": [],
   "source": [
    "# clicks = f'{root_dir}/{mark}_hour.txt'\n",
    "# clines = [x.strip() for x in open(clicks).readlines()]\n",
    "# times = set()\n",
    "# online_indicator = [parse_click(x, times) for x in clines]\n",
    "# online_indicator = [x for x in online_indicator if x]\n",
    "# df_online_click = pd.DataFrame.from_dict(online_indicator)\n",
    "# df_online_click.sort_values(['time'])"
   ]
  },
  {
   "cell_type": "code",
   "execution_count": 22,
   "metadata": {},
   "outputs": [],
   "source": [
    "def show(name):\n",
    "    online_base = go.Scatter(\n",
    "        x = df_online_base.time.apply(time_diff),\n",
    "        y = df_online_base[name],\n",
    "        mode = 'lines',\n",
    "        line_shape='spline',\n",
    "        name = f'online_{base_id}_{mark}'\n",
    "    )\n",
    "\n",
    "    offline_base = go.Scatter(\n",
    "        x = df_offline_base.time.apply(time_diff),\n",
    "        y = df_offline_base[name],\n",
    "        mode = 'lines',\n",
    "        line_shape='spline',\n",
    "        name = f'offline_{base_id}_{mark}'\n",
    "    )\n",
    "    \n",
    "    offline_base2 = go.Scatter(\n",
    "        x = df_offline_base2.time.apply(time_diff),\n",
    "        y = df_offline_base2[name],\n",
    "        mode = 'lines',\n",
    "        line_shape='spline',\n",
    "        name = f'offline_{base_id}_{mark}2'\n",
    "    )\n",
    "    \n",
    "    online_exp = go.Scatter(\n",
    "        x = df_online_exp.time.apply(time_diff),\n",
    "        y = df_online_exp[name],\n",
    "        mode = 'lines',\n",
    "        line_shape='spline',\n",
    "        name = f'online_{exp_id}_{mark}'\n",
    "    )\n",
    "\n",
    "    offline_exp = go.Scatter(\n",
    "        x = df_offline_exp.time.apply(time_diff),\n",
    "        y = df_offline_exp[name],\n",
    "        mode = 'lines',\n",
    "        line_shape='spline',\n",
    "        name = f'offline_{exp_id}_{mark}'\n",
    "    )\n",
    "\n",
    "#     base_read = go.Scatter(\n",
    "#         x = df_online_click.time.apply(time_diff),\n",
    "#         y = df_online_click[f'{base_id}_read_ratio'],\n",
    "#         mode = 'lines',\n",
    "#         line_shape='spline',\n",
    "#         name = f'{base_id}_read_ratio'\n",
    "#     )    \n",
    "    \n",
    "#     base_dur1 = go.Scatter(\n",
    "#         x = df_online_click.time.apply(time_diff),\n",
    "#         y = df_online_click[f'{base_id}_read_dur1'] / 100,\n",
    "#         mode = 'lines',\n",
    "#         line_shape='spline',\n",
    "#         name = f'{base_id}_read_dur1'\n",
    "#     )\n",
    "    \n",
    "#     base_dur2 = go.Scatter(\n",
    "#         x = df_online_click.time.apply(time_diff),\n",
    "#         y = df_online_click[f'{base_id}_read_dur2'] / 500,\n",
    "#         mode = 'lines',\n",
    "#         line_shape='spline',\n",
    "#         name = f'{base_id}_read_dur2'\n",
    "#     )\n",
    "    \n",
    "#     exp_read = go.Scatter(\n",
    "#         x = df_online_click.time.apply(time_diff),\n",
    "#         y = df_online_click[f'{exp_id}_read_ratio'],\n",
    "#         mode = 'lines',\n",
    "#         line_shape='spline',\n",
    "#         name = f'{exp_id}_read_ratio'\n",
    "#     )    \n",
    "    \n",
    "#     exp_dur1 = go.Scatter(\n",
    "#         x = df_online_click.time.apply(time_diff),\n",
    "#         y = df_online_click[f'{exp_id}_read_dur1'] / 100,\n",
    "#         mode = 'lines',\n",
    "#         line_shape='spline',\n",
    "#         name = f'{exp_id}_read_dur1'\n",
    "#     )\n",
    "    \n",
    "#     exp_dur2 = go.Scatter(\n",
    "#         x = df_online_click.time.apply(time_diff),\n",
    "#         y = df_online_click[f'{exp_id}_read_dur2'] / 500,\n",
    "#         mode = 'lines',\n",
    "#         line_shape='spline',\n",
    "#         name = f'{exp_id}_read_dur2'\n",
    "#     )\n",
    "    \n",
    "    data = [\n",
    "#             online_base, \\\n",
    "            offline_base, \\\n",
    "            offline_base2, \\\n",
    "#             online_exp, \\\n",
    "#             offline_exp, \\\n",
    "#             base_read, \\\n",
    "#             base_dur1, \\\n",
    "#             base_dur2, \\\n",
    "#             exp_read, \\\n",
    "#             exp_dur1, \\\n",
    "#             exp_dur2 \\\n",
    "           ]\n",
    "#     data = [offline_base_tuwen]\n",
    "    py.iplot(data)"
   ]
  },
  {
   "cell_type": "code",
   "execution_count": 23,
   "metadata": {},
   "outputs": [
    {
     "data": {
      "application/vnd.plotly.v1+json": {
       "config": {
        "linkText": "Export to plot.ly",
        "plotlyServerURL": "https://plot.ly",
        "showLink": false
       },
       "data": [
        {
         "line": {
          "shape": "spline"
         },
         "mode": "lines",
         "name": "offline_4,5,6_tuwen",
         "type": "scatter",
         "x": [
          290,
          295,
          296,
          297,
          298,
          299,
          300,
          301,
          302,
          303,
          304,
          305,
          306,
          307,
          308,
          309,
          310,
          311,
          312,
          314,
          315,
          316,
          317,
          318,
          319,
          320,
          321,
          322,
          323,
          324,
          325,
          326,
          327,
          328,
          329,
          330,
          331,
          332,
          333,
          334,
          335,
          336,
          338,
          339,
          340,
          341,
          342,
          343,
          344,
          345,
          346,
          347,
          348,
          349,
          350,
          351,
          352,
          354,
          355,
          356,
          359,
          361,
          358,
          357,
          362,
          363,
          364,
          365,
          366,
          353,
          367,
          368,
          369,
          370,
          371,
          372,
          373,
          374,
          375,
          376,
          377,
          378,
          379,
          380,
          381,
          382,
          383,
          384,
          385,
          386,
          387,
          388,
          390,
          391,
          392,
          393,
          394,
          395,
          396,
          397,
          398,
          399,
          400,
          401,
          402,
          403,
          404,
          405,
          406,
          407,
          408,
          409,
          410,
          411,
          412,
          413,
          415,
          416,
          417,
          418,
          419,
          420,
          421,
          422,
          423,
          424,
          425,
          426,
          427,
          428,
          429,
          430,
          431,
          432,
          433,
          434,
          435,
          436,
          437,
          438,
          439,
          440,
          441,
          442,
          443,
          444,
          445,
          446,
          447,
          448,
          449,
          450,
          451,
          452,
          453,
          454,
          455,
          456,
          457,
          458,
          459,
          460,
          461,
          462,
          463,
          464,
          465,
          466,
          467,
          468,
          469,
          470,
          471,
          472,
          473,
          474,
          475,
          476,
          477,
          478,
          479,
          480,
          481,
          482,
          483,
          484,
          485,
          486,
          487,
          488,
          489,
          490,
          491,
          492,
          493,
          494,
          495,
          496,
          497,
          498,
          499,
          500,
          501,
          502,
          503,
          504,
          505,
          506,
          507,
          508,
          509,
          510,
          511,
          512,
          513,
          514,
          515,
          516,
          517,
          518,
          519,
          520,
          521,
          522,
          523,
          524,
          525,
          526,
          527,
          528,
          529,
          530,
          531,
          532,
          533,
          535,
          536,
          537,
          538,
          539,
          540,
          541,
          542,
          543,
          544,
          545,
          546,
          547,
          548,
          549,
          550,
          551,
          552,
          553,
          554,
          555,
          556,
          557,
          558,
          559,
          560
         ],
         "y": [
          0.6714,
          0.65973,
          0.66014,
          0.65993,
          0.65777,
          0.65678,
          0.65803,
          0.66319,
          0.68023,
          0.68474,
          0.68509,
          0.6853,
          0.6888,
          0.67449,
          0.67473,
          0.66806,
          0.67561,
          0.67485,
          0.67873,
          0.66913,
          0.66718,
          0.66347,
          0.6699,
          0.66631,
          0.664,
          0.66708,
          0.65395,
          0.66194,
          0.66175,
          0.66012,
          0.66027,
          0.67267,
          0.67634,
          0.68786,
          0.70288,
          0.69941,
          0.68525,
          0.68221,
          0.67231,
          0.66918,
          0.67333,
          0.67088,
          0.67431,
          0.67254,
          0.67693,
          0.67575,
          0.67664,
          0.67573,
          0.67333,
          0.68024,
          0.68309,
          0.67889,
          0.67549,
          0.67956,
          0.6947,
          0.70082,
          0.71243,
          0.71604,
          0.70443,
          0.68858,
          0.68974,
          0.68897,
          0.69506,
          0.68647,
          0.68006,
          0.67497,
          0.6813,
          0.68858,
          0.68179,
          0.68452,
          0.61992,
          0.67429,
          0.67706,
          0.67193,
          0.67233,
          0.67748,
          0.68181,
          0.68904,
          0.70005,
          0.70064,
          0.72915,
          0.70791,
          0.69396,
          0.69328,
          0.68905,
          0.69179,
          0.68812,
          0.6848,
          0.68914,
          0.68346,
          0.67096,
          0.67368,
          0.67054,
          0.68095,
          0.68274,
          0.6789,
          0.67371,
          0.67337,
          0.67689,
          0.68218,
          0.68741,
          0.69202,
          0.70578,
          0.7083,
          0.70838,
          0.70132,
          0.69464,
          0.69895,
          0.68271,
          0.68517,
          0.68492,
          0.68208,
          0.68534,
          0.679,
          0.67363,
          0.67623,
          0.68262,
          0.67662,
          0.66923,
          0.66919,
          0.66826,
          0.66605,
          0.65942,
          0.6798,
          0.6808,
          0.68234,
          0.68651,
          0.68361,
          0.68145,
          0.67588,
          0.67288,
          0.66896,
          0.66932,
          0.66221,
          0.66051,
          0.66585,
          0.65999,
          0.66093,
          0.66214,
          0.67133,
          0.66872,
          0.6675,
          0.66899,
          0.66609,
          0.66198,
          0.65908,
          0.66055,
          0.66369,
          0.68247,
          0.68819,
          0.6922,
          0.68989,
          0.69371,
          0.68678,
          0.67934,
          0.67679,
          0.67404,
          0.67818,
          0.67235,
          0.67419,
          0.67418,
          0.67284,
          0.66283,
          0.66587,
          0.66601,
          0.67205,
          0.67082,
          0.67019,
          0.67741,
          0.67154,
          0.67315,
          0.6764,
          0.67958,
          0.68329,
          0.68617,
          0.68823,
          0.68858,
          0.6869,
          0.68258,
          0.68286,
          0.68314,
          0.67996,
          0.67964,
          0.68312,
          0.67615,
          0.67037,
          0.66828,
          0.66172,
          0.66836,
          0.67373,
          0.66661,
          0.66477,
          0.66579,
          0.66698,
          0.66613,
          0.67284,
          0.67841,
          0.67807,
          0.68311,
          0.69426,
          0.67878,
          0.67607,
          0.6737,
          0.67207,
          0.66999,
          0.66752,
          0.66874,
          0.67198,
          0.66318,
          0.66212,
          0.65331,
          0.65488,
          0.66573,
          0.66677,
          0.66701,
          0.66861,
          0.66475,
          0.67077,
          0.67095,
          0.67528,
          0.67414,
          0.69212,
          0.68215,
          0.68656,
          0.68683,
          0.67194,
          0.67953,
          0.67668,
          0.6769,
          0.67191,
          0.66277,
          0.67286,
          0.67217,
          0.66984,
          0.6737,
          0.66647,
          0.66122,
          0.66085,
          0.67361,
          0.67378,
          0.67274,
          0.67522,
          0.66821,
          0.67939,
          0.69119,
          0.68483,
          0.68871,
          0.67771,
          0.67428,
          0.67289,
          0.6734,
          0.67116,
          0.67807,
          0.67482,
          0.67358,
          0.67299,
          0.67439,
          0.66976,
          0.67624,
          0.67694,
          0.67738
         ]
        },
        {
         "line": {
          "shape": "spline"
         },
         "mode": "lines",
         "name": "offline_4,5,6_tuwen2",
         "type": "scatter",
         "x": [
          501,
          502,
          503,
          504,
          505,
          506,
          507,
          508,
          509,
          510,
          511,
          512,
          513,
          514,
          515,
          516,
          517,
          518,
          519,
          520,
          521,
          522,
          523,
          524,
          525,
          526,
          527,
          528,
          529,
          530,
          531,
          532,
          533,
          535,
          536,
          537,
          538,
          539,
          540,
          541,
          542,
          543,
          544,
          545,
          546,
          547,
          548,
          549,
          550,
          551,
          552,
          553,
          554,
          555,
          556,
          557,
          558,
          559,
          560
         ],
         "y": [
          0.6699,
          0.66852,
          0.6392,
          0.64016,
          0.64292,
          0.64817,
          0.64623,
          0.6439,
          0.63922,
          0.63769,
          0.66008,
          0.66015,
          0.6616,
          0.66206,
          0.65997,
          0.66428,
          0.66373,
          0.67064,
          0.66989,
          0.68829,
          0.68207,
          0.68368,
          0.68077,
          0.6719,
          0.67696,
          0.67543,
          0.67354,
          0.66718,
          0.66111,
          0.6681,
          0.66885,
          0.66386,
          0.66909,
          0.65972,
          0.65528,
          0.65451,
          0.6572,
          0.65786,
          0.67266,
          0.67508,
          0.66809,
          0.67868,
          0.6909,
          0.68483,
          0.67742,
          0.67019,
          0.666,
          0.66411,
          0.66193,
          0.6733,
          0.6808,
          0.67808,
          0.67552,
          0.67653,
          0.67825,
          0.67391,
          0.68015,
          0.6798,
          0.68187
         ]
        }
       ],
       "layout": {
        "template": {
         "data": {
          "bar": [
           {
            "error_x": {
             "color": "#2a3f5f"
            },
            "error_y": {
             "color": "#2a3f5f"
            },
            "marker": {
             "line": {
              "color": "#E5ECF6",
              "width": 0.5
             }
            },
            "type": "bar"
           }
          ],
          "barpolar": [
           {
            "marker": {
             "line": {
              "color": "#E5ECF6",
              "width": 0.5
             }
            },
            "type": "barpolar"
           }
          ],
          "carpet": [
           {
            "aaxis": {
             "endlinecolor": "#2a3f5f",
             "gridcolor": "white",
             "linecolor": "white",
             "minorgridcolor": "white",
             "startlinecolor": "#2a3f5f"
            },
            "baxis": {
             "endlinecolor": "#2a3f5f",
             "gridcolor": "white",
             "linecolor": "white",
             "minorgridcolor": "white",
             "startlinecolor": "#2a3f5f"
            },
            "type": "carpet"
           }
          ],
          "choropleth": [
           {
            "colorbar": {
             "outlinewidth": 0,
             "ticks": ""
            },
            "type": "choropleth"
           }
          ],
          "contour": [
           {
            "colorbar": {
             "outlinewidth": 0,
             "ticks": ""
            },
            "colorscale": [
             [
              0,
              "#0d0887"
             ],
             [
              0.1111111111111111,
              "#46039f"
             ],
             [
              0.2222222222222222,
              "#7201a8"
             ],
             [
              0.3333333333333333,
              "#9c179e"
             ],
             [
              0.4444444444444444,
              "#bd3786"
             ],
             [
              0.5555555555555556,
              "#d8576b"
             ],
             [
              0.6666666666666666,
              "#ed7953"
             ],
             [
              0.7777777777777778,
              "#fb9f3a"
             ],
             [
              0.8888888888888888,
              "#fdca26"
             ],
             [
              1,
              "#f0f921"
             ]
            ],
            "type": "contour"
           }
          ],
          "contourcarpet": [
           {
            "colorbar": {
             "outlinewidth": 0,
             "ticks": ""
            },
            "type": "contourcarpet"
           }
          ],
          "heatmap": [
           {
            "colorbar": {
             "outlinewidth": 0,
             "ticks": ""
            },
            "colorscale": [
             [
              0,
              "#0d0887"
             ],
             [
              0.1111111111111111,
              "#46039f"
             ],
             [
              0.2222222222222222,
              "#7201a8"
             ],
             [
              0.3333333333333333,
              "#9c179e"
             ],
             [
              0.4444444444444444,
              "#bd3786"
             ],
             [
              0.5555555555555556,
              "#d8576b"
             ],
             [
              0.6666666666666666,
              "#ed7953"
             ],
             [
              0.7777777777777778,
              "#fb9f3a"
             ],
             [
              0.8888888888888888,
              "#fdca26"
             ],
             [
              1,
              "#f0f921"
             ]
            ],
            "type": "heatmap"
           }
          ],
          "heatmapgl": [
           {
            "colorbar": {
             "outlinewidth": 0,
             "ticks": ""
            },
            "colorscale": [
             [
              0,
              "#0d0887"
             ],
             [
              0.1111111111111111,
              "#46039f"
             ],
             [
              0.2222222222222222,
              "#7201a8"
             ],
             [
              0.3333333333333333,
              "#9c179e"
             ],
             [
              0.4444444444444444,
              "#bd3786"
             ],
             [
              0.5555555555555556,
              "#d8576b"
             ],
             [
              0.6666666666666666,
              "#ed7953"
             ],
             [
              0.7777777777777778,
              "#fb9f3a"
             ],
             [
              0.8888888888888888,
              "#fdca26"
             ],
             [
              1,
              "#f0f921"
             ]
            ],
            "type": "heatmapgl"
           }
          ],
          "histogram": [
           {
            "marker": {
             "colorbar": {
              "outlinewidth": 0,
              "ticks": ""
             }
            },
            "type": "histogram"
           }
          ],
          "histogram2d": [
           {
            "colorbar": {
             "outlinewidth": 0,
             "ticks": ""
            },
            "colorscale": [
             [
              0,
              "#0d0887"
             ],
             [
              0.1111111111111111,
              "#46039f"
             ],
             [
              0.2222222222222222,
              "#7201a8"
             ],
             [
              0.3333333333333333,
              "#9c179e"
             ],
             [
              0.4444444444444444,
              "#bd3786"
             ],
             [
              0.5555555555555556,
              "#d8576b"
             ],
             [
              0.6666666666666666,
              "#ed7953"
             ],
             [
              0.7777777777777778,
              "#fb9f3a"
             ],
             [
              0.8888888888888888,
              "#fdca26"
             ],
             [
              1,
              "#f0f921"
             ]
            ],
            "type": "histogram2d"
           }
          ],
          "histogram2dcontour": [
           {
            "colorbar": {
             "outlinewidth": 0,
             "ticks": ""
            },
            "colorscale": [
             [
              0,
              "#0d0887"
             ],
             [
              0.1111111111111111,
              "#46039f"
             ],
             [
              0.2222222222222222,
              "#7201a8"
             ],
             [
              0.3333333333333333,
              "#9c179e"
             ],
             [
              0.4444444444444444,
              "#bd3786"
             ],
             [
              0.5555555555555556,
              "#d8576b"
             ],
             [
              0.6666666666666666,
              "#ed7953"
             ],
             [
              0.7777777777777778,
              "#fb9f3a"
             ],
             [
              0.8888888888888888,
              "#fdca26"
             ],
             [
              1,
              "#f0f921"
             ]
            ],
            "type": "histogram2dcontour"
           }
          ],
          "mesh3d": [
           {
            "colorbar": {
             "outlinewidth": 0,
             "ticks": ""
            },
            "type": "mesh3d"
           }
          ],
          "parcoords": [
           {
            "line": {
             "colorbar": {
              "outlinewidth": 0,
              "ticks": ""
             }
            },
            "type": "parcoords"
           }
          ],
          "scatter": [
           {
            "marker": {
             "colorbar": {
              "outlinewidth": 0,
              "ticks": ""
             }
            },
            "type": "scatter"
           }
          ],
          "scatter3d": [
           {
            "line": {
             "colorbar": {
              "outlinewidth": 0,
              "ticks": ""
             }
            },
            "marker": {
             "colorbar": {
              "outlinewidth": 0,
              "ticks": ""
             }
            },
            "type": "scatter3d"
           }
          ],
          "scattercarpet": [
           {
            "marker": {
             "colorbar": {
              "outlinewidth": 0,
              "ticks": ""
             }
            },
            "type": "scattercarpet"
           }
          ],
          "scattergeo": [
           {
            "marker": {
             "colorbar": {
              "outlinewidth": 0,
              "ticks": ""
             }
            },
            "type": "scattergeo"
           }
          ],
          "scattergl": [
           {
            "marker": {
             "colorbar": {
              "outlinewidth": 0,
              "ticks": ""
             }
            },
            "type": "scattergl"
           }
          ],
          "scattermapbox": [
           {
            "marker": {
             "colorbar": {
              "outlinewidth": 0,
              "ticks": ""
             }
            },
            "type": "scattermapbox"
           }
          ],
          "scatterpolar": [
           {
            "marker": {
             "colorbar": {
              "outlinewidth": 0,
              "ticks": ""
             }
            },
            "type": "scatterpolar"
           }
          ],
          "scatterpolargl": [
           {
            "marker": {
             "colorbar": {
              "outlinewidth": 0,
              "ticks": ""
             }
            },
            "type": "scatterpolargl"
           }
          ],
          "scatterternary": [
           {
            "marker": {
             "colorbar": {
              "outlinewidth": 0,
              "ticks": ""
             }
            },
            "type": "scatterternary"
           }
          ],
          "surface": [
           {
            "colorbar": {
             "outlinewidth": 0,
             "ticks": ""
            },
            "colorscale": [
             [
              0,
              "#0d0887"
             ],
             [
              0.1111111111111111,
              "#46039f"
             ],
             [
              0.2222222222222222,
              "#7201a8"
             ],
             [
              0.3333333333333333,
              "#9c179e"
             ],
             [
              0.4444444444444444,
              "#bd3786"
             ],
             [
              0.5555555555555556,
              "#d8576b"
             ],
             [
              0.6666666666666666,
              "#ed7953"
             ],
             [
              0.7777777777777778,
              "#fb9f3a"
             ],
             [
              0.8888888888888888,
              "#fdca26"
             ],
             [
              1,
              "#f0f921"
             ]
            ],
            "type": "surface"
           }
          ],
          "table": [
           {
            "cells": {
             "fill": {
              "color": "#EBF0F8"
             },
             "line": {
              "color": "white"
             }
            },
            "header": {
             "fill": {
              "color": "#C8D4E3"
             },
             "line": {
              "color": "white"
             }
            },
            "type": "table"
           }
          ]
         },
         "layout": {
          "annotationdefaults": {
           "arrowcolor": "#2a3f5f",
           "arrowhead": 0,
           "arrowwidth": 1
          },
          "colorscale": {
           "diverging": [
            [
             0,
             "#8e0152"
            ],
            [
             0.1,
             "#c51b7d"
            ],
            [
             0.2,
             "#de77ae"
            ],
            [
             0.3,
             "#f1b6da"
            ],
            [
             0.4,
             "#fde0ef"
            ],
            [
             0.5,
             "#f7f7f7"
            ],
            [
             0.6,
             "#e6f5d0"
            ],
            [
             0.7,
             "#b8e186"
            ],
            [
             0.8,
             "#7fbc41"
            ],
            [
             0.9,
             "#4d9221"
            ],
            [
             1,
             "#276419"
            ]
           ],
           "sequential": [
            [
             0,
             "#0d0887"
            ],
            [
             0.1111111111111111,
             "#46039f"
            ],
            [
             0.2222222222222222,
             "#7201a8"
            ],
            [
             0.3333333333333333,
             "#9c179e"
            ],
            [
             0.4444444444444444,
             "#bd3786"
            ],
            [
             0.5555555555555556,
             "#d8576b"
            ],
            [
             0.6666666666666666,
             "#ed7953"
            ],
            [
             0.7777777777777778,
             "#fb9f3a"
            ],
            [
             0.8888888888888888,
             "#fdca26"
            ],
            [
             1,
             "#f0f921"
            ]
           ],
           "sequentialminus": [
            [
             0,
             "#0d0887"
            ],
            [
             0.1111111111111111,
             "#46039f"
            ],
            [
             0.2222222222222222,
             "#7201a8"
            ],
            [
             0.3333333333333333,
             "#9c179e"
            ],
            [
             0.4444444444444444,
             "#bd3786"
            ],
            [
             0.5555555555555556,
             "#d8576b"
            ],
            [
             0.6666666666666666,
             "#ed7953"
            ],
            [
             0.7777777777777778,
             "#fb9f3a"
            ],
            [
             0.8888888888888888,
             "#fdca26"
            ],
            [
             1,
             "#f0f921"
            ]
           ]
          },
          "colorway": [
           "#636efa",
           "#EF553B",
           "#00cc96",
           "#ab63fa",
           "#FFA15A",
           "#19d3f3",
           "#FF6692",
           "#B6E880",
           "#FF97FF",
           "#FECB52"
          ],
          "font": {
           "color": "#2a3f5f"
          },
          "geo": {
           "bgcolor": "white",
           "lakecolor": "white",
           "landcolor": "#E5ECF6",
           "showlakes": true,
           "showland": true,
           "subunitcolor": "white"
          },
          "hoverlabel": {
           "align": "left"
          },
          "hovermode": "closest",
          "mapbox": {
           "style": "light"
          },
          "paper_bgcolor": "white",
          "plot_bgcolor": "#E5ECF6",
          "polar": {
           "angularaxis": {
            "gridcolor": "white",
            "linecolor": "white",
            "ticks": ""
           },
           "bgcolor": "#E5ECF6",
           "radialaxis": {
            "gridcolor": "white",
            "linecolor": "white",
            "ticks": ""
           }
          },
          "scene": {
           "xaxis": {
            "backgroundcolor": "#E5ECF6",
            "gridcolor": "white",
            "gridwidth": 2,
            "linecolor": "white",
            "showbackground": true,
            "ticks": "",
            "zerolinecolor": "white"
           },
           "yaxis": {
            "backgroundcolor": "#E5ECF6",
            "gridcolor": "white",
            "gridwidth": 2,
            "linecolor": "white",
            "showbackground": true,
            "ticks": "",
            "zerolinecolor": "white"
           },
           "zaxis": {
            "backgroundcolor": "#E5ECF6",
            "gridcolor": "white",
            "gridwidth": 2,
            "linecolor": "white",
            "showbackground": true,
            "ticks": "",
            "zerolinecolor": "white"
           }
          },
          "shapedefaults": {
           "line": {
            "color": "#2a3f5f"
           }
          },
          "ternary": {
           "aaxis": {
            "gridcolor": "white",
            "linecolor": "white",
            "ticks": ""
           },
           "baxis": {
            "gridcolor": "white",
            "linecolor": "white",
            "ticks": ""
           },
           "bgcolor": "#E5ECF6",
           "caxis": {
            "gridcolor": "white",
            "linecolor": "white",
            "ticks": ""
           }
          },
          "title": {
           "x": 0.05
          },
          "xaxis": {
           "automargin": true,
           "gridcolor": "white",
           "linecolor": "white",
           "ticks": "",
           "zerolinecolor": "white",
           "zerolinewidth": 2
          },
          "yaxis": {
           "automargin": true,
           "gridcolor": "white",
           "linecolor": "white",
           "ticks": "",
           "zerolinecolor": "white",
           "zerolinewidth": 2
          }
         }
        }
       }
      },
      "text/html": [
       "<div>\n",
       "        \n",
       "        \n",
       "            <div id=\"d69bef72-0421-4e44-8943-f0b35a58d10a\" class=\"plotly-graph-div\" style=\"height:525px; width:100%;\"></div>\n",
       "            <script type=\"text/javascript\">\n",
       "                require([\"plotly\"], function(Plotly) {\n",
       "                    window.PLOTLYENV=window.PLOTLYENV || {};\n",
       "                    \n",
       "                if (document.getElementById(\"d69bef72-0421-4e44-8943-f0b35a58d10a\")) {\n",
       "                    Plotly.newPlot(\n",
       "                        'd69bef72-0421-4e44-8943-f0b35a58d10a',\n",
       "                        [{\"line\": {\"shape\": \"spline\"}, \"mode\": \"lines\", \"name\": \"offline_4,5,6_tuwen\", \"type\": \"scatter\", \"x\": [290, 295, 296, 297, 298, 299, 300, 301, 302, 303, 304, 305, 306, 307, 308, 309, 310, 311, 312, 314, 315, 316, 317, 318, 319, 320, 321, 322, 323, 324, 325, 326, 327, 328, 329, 330, 331, 332, 333, 334, 335, 336, 338, 339, 340, 341, 342, 343, 344, 345, 346, 347, 348, 349, 350, 351, 352, 354, 355, 356, 359, 361, 358, 357, 362, 363, 364, 365, 366, 353, 367, 368, 369, 370, 371, 372, 373, 374, 375, 376, 377, 378, 379, 380, 381, 382, 383, 384, 385, 386, 387, 388, 390, 391, 392, 393, 394, 395, 396, 397, 398, 399, 400, 401, 402, 403, 404, 405, 406, 407, 408, 409, 410, 411, 412, 413, 415, 416, 417, 418, 419, 420, 421, 422, 423, 424, 425, 426, 427, 428, 429, 430, 431, 432, 433, 434, 435, 436, 437, 438, 439, 440, 441, 442, 443, 444, 445, 446, 447, 448, 449, 450, 451, 452, 453, 454, 455, 456, 457, 458, 459, 460, 461, 462, 463, 464, 465, 466, 467, 468, 469, 470, 471, 472, 473, 474, 475, 476, 477, 478, 479, 480, 481, 482, 483, 484, 485, 486, 487, 488, 489, 490, 491, 492, 493, 494, 495, 496, 497, 498, 499, 500, 501, 502, 503, 504, 505, 506, 507, 508, 509, 510, 511, 512, 513, 514, 515, 516, 517, 518, 519, 520, 521, 522, 523, 524, 525, 526, 527, 528, 529, 530, 531, 532, 533, 535, 536, 537, 538, 539, 540, 541, 542, 543, 544, 545, 546, 547, 548, 549, 550, 551, 552, 553, 554, 555, 556, 557, 558, 559, 560], \"y\": [0.6714, 0.65973, 0.66014, 0.65993, 0.65777, 0.65678, 0.65803, 0.66319, 0.68023, 0.68474, 0.68509, 0.6853, 0.6888, 0.67449, 0.67473, 0.66806, 0.67561, 0.67485, 0.67873, 0.66913, 0.66718, 0.66347, 0.6699, 0.66631, 0.664, 0.66708, 0.65395, 0.66194, 0.66175, 0.66012, 0.66027, 0.67267, 0.67634, 0.68786, 0.70288, 0.69941, 0.68525, 0.68221, 0.67231, 0.66918, 0.67333, 0.67088, 0.67431, 0.67254, 0.67693, 0.67575, 0.67664, 0.67573, 0.67333, 0.68024, 0.68309, 0.67889, 0.67549, 0.67956, 0.6947, 0.70082, 0.71243, 0.71604, 0.70443, 0.68858, 0.68974, 0.68897, 0.69506, 0.68647, 0.68006, 0.67497, 0.6813, 0.68858, 0.68179, 0.68452, 0.61992, 0.67429, 0.67706, 0.67193, 0.67233, 0.67748, 0.68181, 0.68904, 0.70005, 0.70064, 0.72915, 0.70791, 0.69396, 0.69328, 0.68905, 0.69179, 0.68812, 0.6848, 0.68914, 0.68346, 0.67096, 0.67368, 0.67054, 0.68095, 0.68274, 0.6789, 0.67371, 0.67337, 0.67689, 0.68218, 0.68741, 0.69202, 0.70578, 0.7083, 0.70838, 0.70132, 0.69464, 0.69895, 0.68271, 0.68517, 0.68492, 0.68208, 0.68534, 0.679, 0.67363, 0.67623, 0.68262, 0.67662, 0.66923, 0.66919, 0.66826, 0.66605, 0.65942, 0.6798, 0.6808, 0.68234, 0.68651, 0.68361, 0.68145, 0.67588, 0.67288, 0.66896, 0.66932, 0.66221, 0.66051, 0.66585, 0.65999, 0.66093, 0.66214, 0.67133, 0.66872, 0.6675, 0.66899, 0.66609, 0.66198, 0.65908, 0.66055, 0.66369, 0.68247, 0.68819, 0.6922, 0.68989, 0.69371, 0.68678, 0.67934, 0.67679, 0.67404, 0.67818, 0.67235, 0.67419, 0.67418, 0.67284, 0.66283, 0.66587, 0.66601, 0.67205, 0.67082, 0.67019, 0.67741, 0.67154, 0.67315, 0.6764, 0.67958, 0.68329, 0.68617, 0.68823, 0.68858, 0.6869, 0.68258, 0.68286, 0.68314, 0.67996, 0.67964, 0.68312, 0.67615, 0.67037, 0.66828, 0.66172, 0.66836, 0.67373, 0.66661, 0.66477, 0.66579, 0.66698, 0.66613, 0.67284, 0.67841, 0.67807, 0.68311, 0.69426, 0.67878, 0.67607, 0.6737, 0.67207, 0.66999, 0.66752, 0.66874, 0.67198, 0.66318, 0.66212, 0.65331, 0.65488, 0.66573, 0.66677, 0.66701, 0.66861, 0.66475, 0.67077, 0.67095, 0.67528, 0.67414, 0.69212, 0.68215, 0.68656, 0.68683, 0.67194, 0.67953, 0.67668, 0.6769, 0.67191, 0.66277, 0.67286, 0.67217, 0.66984, 0.6737, 0.66647, 0.66122, 0.66085, 0.67361, 0.67378, 0.67274, 0.67522, 0.66821, 0.67939, 0.69119, 0.68483, 0.68871, 0.67771, 0.67428, 0.67289, 0.6734, 0.67116, 0.67807, 0.67482, 0.67358, 0.67299, 0.67439, 0.66976, 0.67624, 0.67694, 0.67738]}, {\"line\": {\"shape\": \"spline\"}, \"mode\": \"lines\", \"name\": \"offline_4,5,6_tuwen2\", \"type\": \"scatter\", \"x\": [501, 502, 503, 504, 505, 506, 507, 508, 509, 510, 511, 512, 513, 514, 515, 516, 517, 518, 519, 520, 521, 522, 523, 524, 525, 526, 527, 528, 529, 530, 531, 532, 533, 535, 536, 537, 538, 539, 540, 541, 542, 543, 544, 545, 546, 547, 548, 549, 550, 551, 552, 553, 554, 555, 556, 557, 558, 559, 560], \"y\": [0.6699, 0.66852, 0.6392, 0.64016, 0.64292, 0.64817, 0.64623, 0.6439, 0.63922, 0.63769, 0.66008, 0.66015, 0.6616, 0.66206, 0.65997, 0.66428, 0.66373, 0.67064, 0.66989, 0.68829, 0.68207, 0.68368, 0.68077, 0.6719, 0.67696, 0.67543, 0.67354, 0.66718, 0.66111, 0.6681, 0.66885, 0.66386, 0.66909, 0.65972, 0.65528, 0.65451, 0.6572, 0.65786, 0.67266, 0.67508, 0.66809, 0.67868, 0.6909, 0.68483, 0.67742, 0.67019, 0.666, 0.66411, 0.66193, 0.6733, 0.6808, 0.67808, 0.67552, 0.67653, 0.67825, 0.67391, 0.68015, 0.6798, 0.68187]}],\n",
       "                        {\"template\": {\"data\": {\"bar\": [{\"error_x\": {\"color\": \"#2a3f5f\"}, \"error_y\": {\"color\": \"#2a3f5f\"}, \"marker\": {\"line\": {\"color\": \"#E5ECF6\", \"width\": 0.5}}, \"type\": \"bar\"}], \"barpolar\": [{\"marker\": {\"line\": {\"color\": \"#E5ECF6\", \"width\": 0.5}}, \"type\": \"barpolar\"}], \"carpet\": [{\"aaxis\": {\"endlinecolor\": \"#2a3f5f\", \"gridcolor\": \"white\", \"linecolor\": \"white\", \"minorgridcolor\": \"white\", \"startlinecolor\": \"#2a3f5f\"}, \"baxis\": {\"endlinecolor\": \"#2a3f5f\", \"gridcolor\": \"white\", \"linecolor\": \"white\", \"minorgridcolor\": \"white\", \"startlinecolor\": \"#2a3f5f\"}, \"type\": \"carpet\"}], \"choropleth\": [{\"colorbar\": {\"outlinewidth\": 0, \"ticks\": \"\"}, \"type\": \"choropleth\"}], \"contour\": [{\"colorbar\": {\"outlinewidth\": 0, \"ticks\": \"\"}, \"colorscale\": [[0.0, \"#0d0887\"], [0.1111111111111111, \"#46039f\"], [0.2222222222222222, \"#7201a8\"], [0.3333333333333333, \"#9c179e\"], [0.4444444444444444, \"#bd3786\"], [0.5555555555555556, \"#d8576b\"], [0.6666666666666666, \"#ed7953\"], [0.7777777777777778, \"#fb9f3a\"], [0.8888888888888888, \"#fdca26\"], [1.0, \"#f0f921\"]], \"type\": \"contour\"}], \"contourcarpet\": [{\"colorbar\": {\"outlinewidth\": 0, \"ticks\": \"\"}, \"type\": \"contourcarpet\"}], \"heatmap\": [{\"colorbar\": {\"outlinewidth\": 0, \"ticks\": \"\"}, \"colorscale\": [[0.0, \"#0d0887\"], [0.1111111111111111, \"#46039f\"], [0.2222222222222222, \"#7201a8\"], [0.3333333333333333, \"#9c179e\"], [0.4444444444444444, \"#bd3786\"], [0.5555555555555556, \"#d8576b\"], [0.6666666666666666, \"#ed7953\"], [0.7777777777777778, \"#fb9f3a\"], [0.8888888888888888, \"#fdca26\"], [1.0, \"#f0f921\"]], \"type\": \"heatmap\"}], \"heatmapgl\": [{\"colorbar\": {\"outlinewidth\": 0, \"ticks\": \"\"}, \"colorscale\": [[0.0, \"#0d0887\"], [0.1111111111111111, \"#46039f\"], [0.2222222222222222, \"#7201a8\"], [0.3333333333333333, \"#9c179e\"], [0.4444444444444444, \"#bd3786\"], [0.5555555555555556, \"#d8576b\"], [0.6666666666666666, \"#ed7953\"], [0.7777777777777778, \"#fb9f3a\"], [0.8888888888888888, \"#fdca26\"], [1.0, \"#f0f921\"]], \"type\": \"heatmapgl\"}], \"histogram\": [{\"marker\": {\"colorbar\": {\"outlinewidth\": 0, \"ticks\": \"\"}}, \"type\": \"histogram\"}], \"histogram2d\": [{\"colorbar\": {\"outlinewidth\": 0, \"ticks\": \"\"}, \"colorscale\": [[0.0, \"#0d0887\"], [0.1111111111111111, \"#46039f\"], [0.2222222222222222, \"#7201a8\"], [0.3333333333333333, \"#9c179e\"], [0.4444444444444444, \"#bd3786\"], [0.5555555555555556, \"#d8576b\"], [0.6666666666666666, \"#ed7953\"], [0.7777777777777778, \"#fb9f3a\"], [0.8888888888888888, \"#fdca26\"], [1.0, \"#f0f921\"]], \"type\": \"histogram2d\"}], \"histogram2dcontour\": [{\"colorbar\": {\"outlinewidth\": 0, \"ticks\": \"\"}, \"colorscale\": [[0.0, \"#0d0887\"], [0.1111111111111111, \"#46039f\"], [0.2222222222222222, \"#7201a8\"], [0.3333333333333333, \"#9c179e\"], [0.4444444444444444, \"#bd3786\"], [0.5555555555555556, \"#d8576b\"], [0.6666666666666666, \"#ed7953\"], [0.7777777777777778, \"#fb9f3a\"], [0.8888888888888888, \"#fdca26\"], [1.0, \"#f0f921\"]], \"type\": \"histogram2dcontour\"}], \"mesh3d\": [{\"colorbar\": {\"outlinewidth\": 0, \"ticks\": \"\"}, \"type\": \"mesh3d\"}], \"parcoords\": [{\"line\": {\"colorbar\": {\"outlinewidth\": 0, \"ticks\": \"\"}}, \"type\": \"parcoords\"}], \"scatter\": [{\"marker\": {\"colorbar\": {\"outlinewidth\": 0, \"ticks\": \"\"}}, \"type\": \"scatter\"}], \"scatter3d\": [{\"line\": {\"colorbar\": {\"outlinewidth\": 0, \"ticks\": \"\"}}, \"marker\": {\"colorbar\": {\"outlinewidth\": 0, \"ticks\": \"\"}}, \"type\": \"scatter3d\"}], \"scattercarpet\": [{\"marker\": {\"colorbar\": {\"outlinewidth\": 0, \"ticks\": \"\"}}, \"type\": \"scattercarpet\"}], \"scattergeo\": [{\"marker\": {\"colorbar\": {\"outlinewidth\": 0, \"ticks\": \"\"}}, \"type\": \"scattergeo\"}], \"scattergl\": [{\"marker\": {\"colorbar\": {\"outlinewidth\": 0, \"ticks\": \"\"}}, \"type\": \"scattergl\"}], \"scattermapbox\": [{\"marker\": {\"colorbar\": {\"outlinewidth\": 0, \"ticks\": \"\"}}, \"type\": \"scattermapbox\"}], \"scatterpolar\": [{\"marker\": {\"colorbar\": {\"outlinewidth\": 0, \"ticks\": \"\"}}, \"type\": \"scatterpolar\"}], \"scatterpolargl\": [{\"marker\": {\"colorbar\": {\"outlinewidth\": 0, \"ticks\": \"\"}}, \"type\": \"scatterpolargl\"}], \"scatterternary\": [{\"marker\": {\"colorbar\": {\"outlinewidth\": 0, \"ticks\": \"\"}}, \"type\": \"scatterternary\"}], \"surface\": [{\"colorbar\": {\"outlinewidth\": 0, \"ticks\": \"\"}, \"colorscale\": [[0.0, \"#0d0887\"], [0.1111111111111111, \"#46039f\"], [0.2222222222222222, \"#7201a8\"], [0.3333333333333333, \"#9c179e\"], [0.4444444444444444, \"#bd3786\"], [0.5555555555555556, \"#d8576b\"], [0.6666666666666666, \"#ed7953\"], [0.7777777777777778, \"#fb9f3a\"], [0.8888888888888888, \"#fdca26\"], [1.0, \"#f0f921\"]], \"type\": \"surface\"}], \"table\": [{\"cells\": {\"fill\": {\"color\": \"#EBF0F8\"}, \"line\": {\"color\": \"white\"}}, \"header\": {\"fill\": {\"color\": \"#C8D4E3\"}, \"line\": {\"color\": \"white\"}}, \"type\": \"table\"}]}, \"layout\": {\"annotationdefaults\": {\"arrowcolor\": \"#2a3f5f\", \"arrowhead\": 0, \"arrowwidth\": 1}, \"colorscale\": {\"diverging\": [[0, \"#8e0152\"], [0.1, \"#c51b7d\"], [0.2, \"#de77ae\"], [0.3, \"#f1b6da\"], [0.4, \"#fde0ef\"], [0.5, \"#f7f7f7\"], [0.6, \"#e6f5d0\"], [0.7, \"#b8e186\"], [0.8, \"#7fbc41\"], [0.9, \"#4d9221\"], [1, \"#276419\"]], \"sequential\": [[0.0, \"#0d0887\"], [0.1111111111111111, \"#46039f\"], [0.2222222222222222, \"#7201a8\"], [0.3333333333333333, \"#9c179e\"], [0.4444444444444444, \"#bd3786\"], [0.5555555555555556, \"#d8576b\"], [0.6666666666666666, \"#ed7953\"], [0.7777777777777778, \"#fb9f3a\"], [0.8888888888888888, \"#fdca26\"], [1.0, \"#f0f921\"]], \"sequentialminus\": [[0.0, \"#0d0887\"], [0.1111111111111111, \"#46039f\"], [0.2222222222222222, \"#7201a8\"], [0.3333333333333333, \"#9c179e\"], [0.4444444444444444, \"#bd3786\"], [0.5555555555555556, \"#d8576b\"], [0.6666666666666666, \"#ed7953\"], [0.7777777777777778, \"#fb9f3a\"], [0.8888888888888888, \"#fdca26\"], [1.0, \"#f0f921\"]]}, \"colorway\": [\"#636efa\", \"#EF553B\", \"#00cc96\", \"#ab63fa\", \"#FFA15A\", \"#19d3f3\", \"#FF6692\", \"#B6E880\", \"#FF97FF\", \"#FECB52\"], \"font\": {\"color\": \"#2a3f5f\"}, \"geo\": {\"bgcolor\": \"white\", \"lakecolor\": \"white\", \"landcolor\": \"#E5ECF6\", \"showlakes\": true, \"showland\": true, \"subunitcolor\": \"white\"}, \"hoverlabel\": {\"align\": \"left\"}, \"hovermode\": \"closest\", \"mapbox\": {\"style\": \"light\"}, \"paper_bgcolor\": \"white\", \"plot_bgcolor\": \"#E5ECF6\", \"polar\": {\"angularaxis\": {\"gridcolor\": \"white\", \"linecolor\": \"white\", \"ticks\": \"\"}, \"bgcolor\": \"#E5ECF6\", \"radialaxis\": {\"gridcolor\": \"white\", \"linecolor\": \"white\", \"ticks\": \"\"}}, \"scene\": {\"xaxis\": {\"backgroundcolor\": \"#E5ECF6\", \"gridcolor\": \"white\", \"gridwidth\": 2, \"linecolor\": \"white\", \"showbackground\": true, \"ticks\": \"\", \"zerolinecolor\": \"white\"}, \"yaxis\": {\"backgroundcolor\": \"#E5ECF6\", \"gridcolor\": \"white\", \"gridwidth\": 2, \"linecolor\": \"white\", \"showbackground\": true, \"ticks\": \"\", \"zerolinecolor\": \"white\"}, \"zaxis\": {\"backgroundcolor\": \"#E5ECF6\", \"gridcolor\": \"white\", \"gridwidth\": 2, \"linecolor\": \"white\", \"showbackground\": true, \"ticks\": \"\", \"zerolinecolor\": \"white\"}}, \"shapedefaults\": {\"line\": {\"color\": \"#2a3f5f\"}}, \"ternary\": {\"aaxis\": {\"gridcolor\": \"white\", \"linecolor\": \"white\", \"ticks\": \"\"}, \"baxis\": {\"gridcolor\": \"white\", \"linecolor\": \"white\", \"ticks\": \"\"}, \"bgcolor\": \"#E5ECF6\", \"caxis\": {\"gridcolor\": \"white\", \"linecolor\": \"white\", \"ticks\": \"\"}}, \"title\": {\"x\": 0.05}, \"xaxis\": {\"automargin\": true, \"gridcolor\": \"white\", \"linecolor\": \"white\", \"ticks\": \"\", \"zerolinecolor\": \"white\", \"zerolinewidth\": 2}, \"yaxis\": {\"automargin\": true, \"gridcolor\": \"white\", \"linecolor\": \"white\", \"ticks\": \"\", \"zerolinecolor\": \"white\", \"zerolinewidth\": 2}}}},\n",
       "                        {\"responsive\": true}\n",
       "                    ).then(function(){\n",
       "                            \n",
       "var gd = document.getElementById('d69bef72-0421-4e44-8943-f0b35a58d10a');\n",
       "var x = new MutationObserver(function (mutations, observer) {{\n",
       "        var display = window.getComputedStyle(gd).display;\n",
       "        if (!display || display === 'none') {{\n",
       "            console.log([gd, 'removed!']);\n",
       "            Plotly.purge(gd);\n",
       "            observer.disconnect();\n",
       "        }}\n",
       "}});\n",
       "\n",
       "// Listen for the removal of the full notebook cells\n",
       "var notebookContainer = gd.closest('#notebook-container');\n",
       "if (notebookContainer) {{\n",
       "    x.observe(notebookContainer, {childList: true});\n",
       "}}\n",
       "\n",
       "// Listen for the clearing of the current output cell\n",
       "var outputEl = gd.closest('.output');\n",
       "if (outputEl) {{\n",
       "    x.observe(outputEl, {childList: true});\n",
       "}}\n",
       "\n",
       "                        })\n",
       "                };\n",
       "                });\n",
       "            </script>\n",
       "        </div>"
      ]
     },
     "metadata": {},
     "output_type": "display_data"
    }
   ],
   "source": [
    "show('group/auc')"
   ]
  },
  {
   "cell_type": "code",
   "execution_count": 24,
   "metadata": {},
   "outputs": [
    {
     "data": {
      "application/vnd.plotly.v1+json": {
       "config": {
        "linkText": "Export to plot.ly",
        "plotlyServerURL": "https://plot.ly",
        "showLink": false
       },
       "data": [
        {
         "line": {
          "shape": "spline"
         },
         "mode": "lines",
         "name": "offline_4,5,6_tuwen",
         "type": "scatter",
         "x": [
          290,
          295,
          296,
          297,
          298,
          299,
          300,
          301,
          302,
          303,
          304,
          305,
          306,
          307,
          308,
          309,
          310,
          311,
          312,
          314,
          315,
          316,
          317,
          318,
          319,
          320,
          321,
          322,
          323,
          324,
          325,
          326,
          327,
          328,
          329,
          330,
          331,
          332,
          333,
          334,
          335,
          336,
          338,
          339,
          340,
          341,
          342,
          343,
          344,
          345,
          346,
          347,
          348,
          349,
          350,
          351,
          352,
          354,
          355,
          356,
          359,
          361,
          358,
          357,
          362,
          363,
          364,
          365,
          366,
          353,
          367,
          368,
          369,
          370,
          371,
          372,
          373,
          374,
          375,
          376,
          377,
          378,
          379,
          380,
          381,
          382,
          383,
          384,
          385,
          386,
          387,
          388,
          390,
          391,
          392,
          393,
          394,
          395,
          396,
          397,
          398,
          399,
          400,
          401,
          402,
          403,
          404,
          405,
          406,
          407,
          408,
          409,
          410,
          411,
          412,
          413,
          415,
          416,
          417,
          418,
          419,
          420,
          421,
          422,
          423,
          424,
          425,
          426,
          427,
          428,
          429,
          430,
          431,
          432,
          433,
          434,
          435,
          436,
          437,
          438,
          439,
          440,
          441,
          442,
          443,
          444,
          445,
          446,
          447,
          448,
          449,
          450,
          451,
          452,
          453,
          454,
          455,
          456,
          457,
          458,
          459,
          460,
          461,
          462,
          463,
          464,
          465,
          466,
          467,
          468,
          469,
          470,
          471,
          472,
          473,
          474,
          475,
          476,
          477,
          478,
          479,
          480,
          481,
          482,
          483,
          484,
          485,
          486,
          487,
          488,
          489,
          490,
          491,
          492,
          493,
          494,
          495,
          496,
          497,
          498,
          499,
          500,
          501,
          502,
          503,
          504,
          505,
          506,
          507,
          508,
          509,
          510,
          511,
          512,
          513,
          514,
          515,
          516,
          517,
          518,
          519,
          520,
          521,
          522,
          523,
          524,
          525,
          526,
          527,
          528,
          529,
          530,
          531,
          532,
          533,
          535,
          536,
          537,
          538,
          539,
          540,
          541,
          542,
          543,
          544,
          545,
          546,
          547,
          548,
          549,
          550,
          551,
          552,
          553,
          554,
          555,
          556,
          557,
          558,
          559,
          560
         ],
         "y": [
          0.57382,
          0.57526,
          0.56482,
          0.57013,
          0.56418,
          0.56053,
          0.5689,
          0.56036,
          0.56854,
          0.56315,
          0.56461,
          0.56302,
          0.55591,
          0.55647,
          0.56493,
          0.56318,
          0.54682,
          0.54491,
          0.54043,
          0.57133,
          0.57183,
          0.57229,
          0.57186,
          0.56644,
          0.57785,
          0.56957,
          0.57149,
          0.55364,
          0.55705,
          0.55561,
          0.55944,
          0.55354,
          0.55002,
          0.55408,
          0.54774,
          0.55056,
          0.55796,
          0.55599,
          0.54542,
          0.55616,
          0.55377,
          0.55474,
          0.5559,
          0.55054,
          0.54864,
          0.54282,
          0.54264,
          0.54944,
          0.54425,
          0.52379,
          0.52145,
          0.51799,
          0.51098,
          0.50646,
          0.51394,
          0.50727,
          0.50796,
          0.52689,
          0.50669,
          0.51772,
          0.52337,
          0.52986,
          0.52569,
          0.52622,
          0.52538,
          0.52851,
          0.52061,
          0.52343,
          0.52355,
          0.50856,
          0.52909,
          0.51793,
          0.52815,
          0.52981,
          0.53838,
          0.54508,
          0.54462,
          0.55703,
          0.56395,
          0.57639,
          0.58386,
          0.57869,
          0.56876,
          0.57002,
          0.56246,
          0.5635,
          0.57183,
          0.5626,
          0.56439,
          0.56175,
          0.56236,
          0.57112,
          0.56013,
          0.55422,
          0.56065,
          0.55456,
          0.55218,
          0.55208,
          0.55268,
          0.54959,
          0.55257,
          0.55946,
          0.55632,
          0.56539,
          0.56723,
          0.56144,
          0.54858,
          0.54812,
          0.55357,
          0.55387,
          0.55568,
          0.55557,
          0.54867,
          0.54778,
          0.54929,
          0.55267,
          0.55297,
          0.55305,
          0.55677,
          0.54563,
          0.54229,
          0.54342,
          0.54671,
          0.55437,
          0.56057,
          0.57033,
          0.57259,
          0.57854,
          0.55989,
          0.55445,
          0.54606,
          0.54687,
          0.55918,
          0.56071,
          0.55252,
          0.54595,
          0.55124,
          0.54661,
          0.5576,
          0.55428,
          0.55465,
          0.54908,
          0.55119,
          0.54561,
          0.55188,
          0.53559,
          0.5406,
          0.54533,
          0.55398,
          0.55656,
          0.57145,
          0.55724,
          0.549,
          0.55791,
          0.55328,
          0.54796,
          0.55491,
          0.54964,
          0.55139,
          0.5501,
          0.553,
          0.5507,
          0.56146,
          0.56065,
          0.55479,
          0.55269,
          0.55142,
          0.55743,
          0.55429,
          0.55551,
          0.55819,
          0.55239,
          0.56468,
          0.57047,
          0.57644,
          0.57061,
          0.56872,
          0.56787,
          0.55897,
          0.56006,
          0.56407,
          0.56438,
          0.55987,
          0.55672,
          0.55735,
          0.55372,
          0.56203,
          0.55554,
          0.55207,
          0.55611,
          0.55038,
          0.55554,
          0.55322,
          0.54968,
          0.55722,
          0.55193,
          0.55749,
          0.56156,
          0.55995,
          0.55963,
          0.56298,
          0.55028,
          0.54961,
          0.55284,
          0.55467,
          0.55076,
          0.55404,
          0.55486,
          0.55753,
          0.55383,
          0.55662,
          0.55382,
          0.54854,
          0.55396,
          0.54336,
          0.55082,
          0.54782,
          0.54911,
          0.54605,
          0.5553,
          0.55544,
          0.5612,
          0.56506,
          0.57483,
          0.55637,
          0.54926,
          0.55004,
          0.5515,
          0.55944,
          0.56049,
          0.55875,
          0.55859,
          0.55674,
          0.56268,
          0.55914,
          0.55895,
          0.55393,
          0.55491,
          0.55415,
          0.551,
          0.55077,
          0.5492,
          0.56515,
          0.56385,
          0.58295,
          0.58084,
          0.58911,
          0.57709,
          0.56803,
          0.55748,
          0.5666,
          0.56359,
          0.56659,
          0.56327,
          0.56832,
          0.56644,
          0.57289,
          0.55822,
          0.56184,
          0.55823,
          0.56023
         ]
        },
        {
         "line": {
          "shape": "spline"
         },
         "mode": "lines",
         "name": "offline_4,5,6_tuwen2",
         "type": "scatter",
         "x": [
          501,
          502,
          503,
          504,
          505,
          506,
          507,
          508,
          509,
          510,
          511,
          512,
          513,
          514,
          515,
          516,
          517,
          518,
          519,
          520,
          521,
          522,
          523,
          524,
          525,
          526,
          527,
          528,
          529,
          530,
          531,
          532,
          533,
          535,
          536,
          537,
          538,
          539,
          540,
          541,
          542,
          543,
          544,
          545,
          546,
          547,
          548,
          549,
          550,
          551,
          552,
          553,
          554,
          555,
          556,
          557,
          558,
          559,
          560
         ],
         "y": [
          0.5484,
          0.54609,
          0.53954,
          0.54261,
          0.55121,
          0.55037,
          0.55375,
          0.55139,
          0.55167,
          0.54573,
          0.55329,
          0.55087,
          0.54373,
          0.54858,
          0.54516,
          0.54865,
          0.54629,
          0.55114,
          0.55727,
          0.55885,
          0.56685,
          0.56966,
          0.55526,
          0.55108,
          0.55,
          0.55001,
          0.55927,
          0.55838,
          0.5531,
          0.5563,
          0.55917,
          0.56291,
          0.55906,
          0.56294,
          0.5531,
          0.55198,
          0.55217,
          0.54841,
          0.55248,
          0.55045,
          0.5642,
          0.56343,
          0.58834,
          0.58283,
          0.58556,
          0.57801,
          0.5613,
          0.5489,
          0.56147,
          0.55842,
          0.56345,
          0.5618,
          0.564,
          0.5654,
          0.56614,
          0.55737,
          0.55654,
          0.55354,
          0.55258
         ]
        }
       ],
       "layout": {
        "template": {
         "data": {
          "bar": [
           {
            "error_x": {
             "color": "#2a3f5f"
            },
            "error_y": {
             "color": "#2a3f5f"
            },
            "marker": {
             "line": {
              "color": "#E5ECF6",
              "width": 0.5
             }
            },
            "type": "bar"
           }
          ],
          "barpolar": [
           {
            "marker": {
             "line": {
              "color": "#E5ECF6",
              "width": 0.5
             }
            },
            "type": "barpolar"
           }
          ],
          "carpet": [
           {
            "aaxis": {
             "endlinecolor": "#2a3f5f",
             "gridcolor": "white",
             "linecolor": "white",
             "minorgridcolor": "white",
             "startlinecolor": "#2a3f5f"
            },
            "baxis": {
             "endlinecolor": "#2a3f5f",
             "gridcolor": "white",
             "linecolor": "white",
             "minorgridcolor": "white",
             "startlinecolor": "#2a3f5f"
            },
            "type": "carpet"
           }
          ],
          "choropleth": [
           {
            "colorbar": {
             "outlinewidth": 0,
             "ticks": ""
            },
            "type": "choropleth"
           }
          ],
          "contour": [
           {
            "colorbar": {
             "outlinewidth": 0,
             "ticks": ""
            },
            "colorscale": [
             [
              0,
              "#0d0887"
             ],
             [
              0.1111111111111111,
              "#46039f"
             ],
             [
              0.2222222222222222,
              "#7201a8"
             ],
             [
              0.3333333333333333,
              "#9c179e"
             ],
             [
              0.4444444444444444,
              "#bd3786"
             ],
             [
              0.5555555555555556,
              "#d8576b"
             ],
             [
              0.6666666666666666,
              "#ed7953"
             ],
             [
              0.7777777777777778,
              "#fb9f3a"
             ],
             [
              0.8888888888888888,
              "#fdca26"
             ],
             [
              1,
              "#f0f921"
             ]
            ],
            "type": "contour"
           }
          ],
          "contourcarpet": [
           {
            "colorbar": {
             "outlinewidth": 0,
             "ticks": ""
            },
            "type": "contourcarpet"
           }
          ],
          "heatmap": [
           {
            "colorbar": {
             "outlinewidth": 0,
             "ticks": ""
            },
            "colorscale": [
             [
              0,
              "#0d0887"
             ],
             [
              0.1111111111111111,
              "#46039f"
             ],
             [
              0.2222222222222222,
              "#7201a8"
             ],
             [
              0.3333333333333333,
              "#9c179e"
             ],
             [
              0.4444444444444444,
              "#bd3786"
             ],
             [
              0.5555555555555556,
              "#d8576b"
             ],
             [
              0.6666666666666666,
              "#ed7953"
             ],
             [
              0.7777777777777778,
              "#fb9f3a"
             ],
             [
              0.8888888888888888,
              "#fdca26"
             ],
             [
              1,
              "#f0f921"
             ]
            ],
            "type": "heatmap"
           }
          ],
          "heatmapgl": [
           {
            "colorbar": {
             "outlinewidth": 0,
             "ticks": ""
            },
            "colorscale": [
             [
              0,
              "#0d0887"
             ],
             [
              0.1111111111111111,
              "#46039f"
             ],
             [
              0.2222222222222222,
              "#7201a8"
             ],
             [
              0.3333333333333333,
              "#9c179e"
             ],
             [
              0.4444444444444444,
              "#bd3786"
             ],
             [
              0.5555555555555556,
              "#d8576b"
             ],
             [
              0.6666666666666666,
              "#ed7953"
             ],
             [
              0.7777777777777778,
              "#fb9f3a"
             ],
             [
              0.8888888888888888,
              "#fdca26"
             ],
             [
              1,
              "#f0f921"
             ]
            ],
            "type": "heatmapgl"
           }
          ],
          "histogram": [
           {
            "marker": {
             "colorbar": {
              "outlinewidth": 0,
              "ticks": ""
             }
            },
            "type": "histogram"
           }
          ],
          "histogram2d": [
           {
            "colorbar": {
             "outlinewidth": 0,
             "ticks": ""
            },
            "colorscale": [
             [
              0,
              "#0d0887"
             ],
             [
              0.1111111111111111,
              "#46039f"
             ],
             [
              0.2222222222222222,
              "#7201a8"
             ],
             [
              0.3333333333333333,
              "#9c179e"
             ],
             [
              0.4444444444444444,
              "#bd3786"
             ],
             [
              0.5555555555555556,
              "#d8576b"
             ],
             [
              0.6666666666666666,
              "#ed7953"
             ],
             [
              0.7777777777777778,
              "#fb9f3a"
             ],
             [
              0.8888888888888888,
              "#fdca26"
             ],
             [
              1,
              "#f0f921"
             ]
            ],
            "type": "histogram2d"
           }
          ],
          "histogram2dcontour": [
           {
            "colorbar": {
             "outlinewidth": 0,
             "ticks": ""
            },
            "colorscale": [
             [
              0,
              "#0d0887"
             ],
             [
              0.1111111111111111,
              "#46039f"
             ],
             [
              0.2222222222222222,
              "#7201a8"
             ],
             [
              0.3333333333333333,
              "#9c179e"
             ],
             [
              0.4444444444444444,
              "#bd3786"
             ],
             [
              0.5555555555555556,
              "#d8576b"
             ],
             [
              0.6666666666666666,
              "#ed7953"
             ],
             [
              0.7777777777777778,
              "#fb9f3a"
             ],
             [
              0.8888888888888888,
              "#fdca26"
             ],
             [
              1,
              "#f0f921"
             ]
            ],
            "type": "histogram2dcontour"
           }
          ],
          "mesh3d": [
           {
            "colorbar": {
             "outlinewidth": 0,
             "ticks": ""
            },
            "type": "mesh3d"
           }
          ],
          "parcoords": [
           {
            "line": {
             "colorbar": {
              "outlinewidth": 0,
              "ticks": ""
             }
            },
            "type": "parcoords"
           }
          ],
          "scatter": [
           {
            "marker": {
             "colorbar": {
              "outlinewidth": 0,
              "ticks": ""
             }
            },
            "type": "scatter"
           }
          ],
          "scatter3d": [
           {
            "line": {
             "colorbar": {
              "outlinewidth": 0,
              "ticks": ""
             }
            },
            "marker": {
             "colorbar": {
              "outlinewidth": 0,
              "ticks": ""
             }
            },
            "type": "scatter3d"
           }
          ],
          "scattercarpet": [
           {
            "marker": {
             "colorbar": {
              "outlinewidth": 0,
              "ticks": ""
             }
            },
            "type": "scattercarpet"
           }
          ],
          "scattergeo": [
           {
            "marker": {
             "colorbar": {
              "outlinewidth": 0,
              "ticks": ""
             }
            },
            "type": "scattergeo"
           }
          ],
          "scattergl": [
           {
            "marker": {
             "colorbar": {
              "outlinewidth": 0,
              "ticks": ""
             }
            },
            "type": "scattergl"
           }
          ],
          "scattermapbox": [
           {
            "marker": {
             "colorbar": {
              "outlinewidth": 0,
              "ticks": ""
             }
            },
            "type": "scattermapbox"
           }
          ],
          "scatterpolar": [
           {
            "marker": {
             "colorbar": {
              "outlinewidth": 0,
              "ticks": ""
             }
            },
            "type": "scatterpolar"
           }
          ],
          "scatterpolargl": [
           {
            "marker": {
             "colorbar": {
              "outlinewidth": 0,
              "ticks": ""
             }
            },
            "type": "scatterpolargl"
           }
          ],
          "scatterternary": [
           {
            "marker": {
             "colorbar": {
              "outlinewidth": 0,
              "ticks": ""
             }
            },
            "type": "scatterternary"
           }
          ],
          "surface": [
           {
            "colorbar": {
             "outlinewidth": 0,
             "ticks": ""
            },
            "colorscale": [
             [
              0,
              "#0d0887"
             ],
             [
              0.1111111111111111,
              "#46039f"
             ],
             [
              0.2222222222222222,
              "#7201a8"
             ],
             [
              0.3333333333333333,
              "#9c179e"
             ],
             [
              0.4444444444444444,
              "#bd3786"
             ],
             [
              0.5555555555555556,
              "#d8576b"
             ],
             [
              0.6666666666666666,
              "#ed7953"
             ],
             [
              0.7777777777777778,
              "#fb9f3a"
             ],
             [
              0.8888888888888888,
              "#fdca26"
             ],
             [
              1,
              "#f0f921"
             ]
            ],
            "type": "surface"
           }
          ],
          "table": [
           {
            "cells": {
             "fill": {
              "color": "#EBF0F8"
             },
             "line": {
              "color": "white"
             }
            },
            "header": {
             "fill": {
              "color": "#C8D4E3"
             },
             "line": {
              "color": "white"
             }
            },
            "type": "table"
           }
          ]
         },
         "layout": {
          "annotationdefaults": {
           "arrowcolor": "#2a3f5f",
           "arrowhead": 0,
           "arrowwidth": 1
          },
          "colorscale": {
           "diverging": [
            [
             0,
             "#8e0152"
            ],
            [
             0.1,
             "#c51b7d"
            ],
            [
             0.2,
             "#de77ae"
            ],
            [
             0.3,
             "#f1b6da"
            ],
            [
             0.4,
             "#fde0ef"
            ],
            [
             0.5,
             "#f7f7f7"
            ],
            [
             0.6,
             "#e6f5d0"
            ],
            [
             0.7,
             "#b8e186"
            ],
            [
             0.8,
             "#7fbc41"
            ],
            [
             0.9,
             "#4d9221"
            ],
            [
             1,
             "#276419"
            ]
           ],
           "sequential": [
            [
             0,
             "#0d0887"
            ],
            [
             0.1111111111111111,
             "#46039f"
            ],
            [
             0.2222222222222222,
             "#7201a8"
            ],
            [
             0.3333333333333333,
             "#9c179e"
            ],
            [
             0.4444444444444444,
             "#bd3786"
            ],
            [
             0.5555555555555556,
             "#d8576b"
            ],
            [
             0.6666666666666666,
             "#ed7953"
            ],
            [
             0.7777777777777778,
             "#fb9f3a"
            ],
            [
             0.8888888888888888,
             "#fdca26"
            ],
            [
             1,
             "#f0f921"
            ]
           ],
           "sequentialminus": [
            [
             0,
             "#0d0887"
            ],
            [
             0.1111111111111111,
             "#46039f"
            ],
            [
             0.2222222222222222,
             "#7201a8"
            ],
            [
             0.3333333333333333,
             "#9c179e"
            ],
            [
             0.4444444444444444,
             "#bd3786"
            ],
            [
             0.5555555555555556,
             "#d8576b"
            ],
            [
             0.6666666666666666,
             "#ed7953"
            ],
            [
             0.7777777777777778,
             "#fb9f3a"
            ],
            [
             0.8888888888888888,
             "#fdca26"
            ],
            [
             1,
             "#f0f921"
            ]
           ]
          },
          "colorway": [
           "#636efa",
           "#EF553B",
           "#00cc96",
           "#ab63fa",
           "#FFA15A",
           "#19d3f3",
           "#FF6692",
           "#B6E880",
           "#FF97FF",
           "#FECB52"
          ],
          "font": {
           "color": "#2a3f5f"
          },
          "geo": {
           "bgcolor": "white",
           "lakecolor": "white",
           "landcolor": "#E5ECF6",
           "showlakes": true,
           "showland": true,
           "subunitcolor": "white"
          },
          "hoverlabel": {
           "align": "left"
          },
          "hovermode": "closest",
          "mapbox": {
           "style": "light"
          },
          "paper_bgcolor": "white",
          "plot_bgcolor": "#E5ECF6",
          "polar": {
           "angularaxis": {
            "gridcolor": "white",
            "linecolor": "white",
            "ticks": ""
           },
           "bgcolor": "#E5ECF6",
           "radialaxis": {
            "gridcolor": "white",
            "linecolor": "white",
            "ticks": ""
           }
          },
          "scene": {
           "xaxis": {
            "backgroundcolor": "#E5ECF6",
            "gridcolor": "white",
            "gridwidth": 2,
            "linecolor": "white",
            "showbackground": true,
            "ticks": "",
            "zerolinecolor": "white"
           },
           "yaxis": {
            "backgroundcolor": "#E5ECF6",
            "gridcolor": "white",
            "gridwidth": 2,
            "linecolor": "white",
            "showbackground": true,
            "ticks": "",
            "zerolinecolor": "white"
           },
           "zaxis": {
            "backgroundcolor": "#E5ECF6",
            "gridcolor": "white",
            "gridwidth": 2,
            "linecolor": "white",
            "showbackground": true,
            "ticks": "",
            "zerolinecolor": "white"
           }
          },
          "shapedefaults": {
           "line": {
            "color": "#2a3f5f"
           }
          },
          "ternary": {
           "aaxis": {
            "gridcolor": "white",
            "linecolor": "white",
            "ticks": ""
           },
           "baxis": {
            "gridcolor": "white",
            "linecolor": "white",
            "ticks": ""
           },
           "bgcolor": "#E5ECF6",
           "caxis": {
            "gridcolor": "white",
            "linecolor": "white",
            "ticks": ""
           }
          },
          "title": {
           "x": 0.05
          },
          "xaxis": {
           "automargin": true,
           "gridcolor": "white",
           "linecolor": "white",
           "ticks": "",
           "zerolinecolor": "white",
           "zerolinewidth": 2
          },
          "yaxis": {
           "automargin": true,
           "gridcolor": "white",
           "linecolor": "white",
           "ticks": "",
           "zerolinecolor": "white",
           "zerolinewidth": 2
          }
         }
        }
       }
      },
      "text/html": [
       "<div>\n",
       "        \n",
       "        \n",
       "            <div id=\"3e012a16-2fde-4cfe-bac2-d8d03963370a\" class=\"plotly-graph-div\" style=\"height:525px; width:100%;\"></div>\n",
       "            <script type=\"text/javascript\">\n",
       "                require([\"plotly\"], function(Plotly) {\n",
       "                    window.PLOTLYENV=window.PLOTLYENV || {};\n",
       "                    \n",
       "                if (document.getElementById(\"3e012a16-2fde-4cfe-bac2-d8d03963370a\")) {\n",
       "                    Plotly.newPlot(\n",
       "                        '3e012a16-2fde-4cfe-bac2-d8d03963370a',\n",
       "                        [{\"line\": {\"shape\": \"spline\"}, \"mode\": \"lines\", \"name\": \"offline_4,5,6_tuwen\", \"type\": \"scatter\", \"x\": [290, 295, 296, 297, 298, 299, 300, 301, 302, 303, 304, 305, 306, 307, 308, 309, 310, 311, 312, 314, 315, 316, 317, 318, 319, 320, 321, 322, 323, 324, 325, 326, 327, 328, 329, 330, 331, 332, 333, 334, 335, 336, 338, 339, 340, 341, 342, 343, 344, 345, 346, 347, 348, 349, 350, 351, 352, 354, 355, 356, 359, 361, 358, 357, 362, 363, 364, 365, 366, 353, 367, 368, 369, 370, 371, 372, 373, 374, 375, 376, 377, 378, 379, 380, 381, 382, 383, 384, 385, 386, 387, 388, 390, 391, 392, 393, 394, 395, 396, 397, 398, 399, 400, 401, 402, 403, 404, 405, 406, 407, 408, 409, 410, 411, 412, 413, 415, 416, 417, 418, 419, 420, 421, 422, 423, 424, 425, 426, 427, 428, 429, 430, 431, 432, 433, 434, 435, 436, 437, 438, 439, 440, 441, 442, 443, 444, 445, 446, 447, 448, 449, 450, 451, 452, 453, 454, 455, 456, 457, 458, 459, 460, 461, 462, 463, 464, 465, 466, 467, 468, 469, 470, 471, 472, 473, 474, 475, 476, 477, 478, 479, 480, 481, 482, 483, 484, 485, 486, 487, 488, 489, 490, 491, 492, 493, 494, 495, 496, 497, 498, 499, 500, 501, 502, 503, 504, 505, 506, 507, 508, 509, 510, 511, 512, 513, 514, 515, 516, 517, 518, 519, 520, 521, 522, 523, 524, 525, 526, 527, 528, 529, 530, 531, 532, 533, 535, 536, 537, 538, 539, 540, 541, 542, 543, 544, 545, 546, 547, 548, 549, 550, 551, 552, 553, 554, 555, 556, 557, 558, 559, 560], \"y\": [0.57382, 0.57526, 0.56482, 0.57013, 0.56418, 0.56053, 0.5689, 0.56036, 0.56854, 0.56315, 0.56461, 0.56302, 0.55591, 0.55647, 0.56493, 0.56318, 0.54682, 0.54491, 0.54043, 0.57133, 0.57183, 0.57229, 0.57186, 0.56644, 0.57785, 0.56957, 0.57149, 0.55364, 0.55705, 0.55561, 0.55944, 0.55354, 0.55002, 0.55408, 0.54774, 0.55056, 0.55796, 0.55599, 0.54542, 0.55616, 0.55377, 0.55474, 0.5559, 0.55054, 0.54864, 0.54282, 0.54264, 0.54944, 0.54425, 0.52379, 0.52145, 0.51799, 0.51098, 0.50646, 0.51394, 0.50727, 0.50796, 0.52689, 0.50669, 0.51772, 0.52337, 0.52986, 0.52569, 0.52622, 0.52538, 0.52851, 0.52061, 0.52343, 0.52355, 0.50856, 0.52909, 0.51793, 0.52815, 0.52981, 0.53838, 0.54508, 0.54462, 0.55703, 0.56395, 0.57639, 0.58386, 0.57869, 0.56876, 0.57002, 0.56246, 0.5635, 0.57183, 0.5626, 0.56439, 0.56175, 0.56236, 0.57112, 0.56013, 0.55422, 0.56065, 0.55456, 0.55218, 0.55208, 0.55268, 0.54959, 0.55257, 0.55946, 0.55632, 0.56539, 0.56723, 0.56144, 0.54858, 0.54812, 0.55357, 0.55387, 0.55568, 0.55557, 0.54867, 0.54778, 0.54929, 0.55267, 0.55297, 0.55305, 0.55677, 0.54563, 0.54229, 0.54342, 0.54671, 0.55437, 0.56057, 0.57033, 0.57259, 0.57854, 0.55989, 0.55445, 0.54606, 0.54687, 0.55918, 0.56071, 0.55252, 0.54595, 0.55124, 0.54661, 0.5576, 0.55428, 0.55465, 0.54908, 0.55119, 0.54561, 0.55188, 0.53559, 0.5406, 0.54533, 0.55398, 0.55656, 0.57145, 0.55724, 0.549, 0.55791, 0.55328, 0.54796, 0.55491, 0.54964, 0.55139, 0.5501, 0.553, 0.5507, 0.56146, 0.56065, 0.55479, 0.55269, 0.55142, 0.55743, 0.55429, 0.55551, 0.55819, 0.55239, 0.56468, 0.57047, 0.57644, 0.57061, 0.56872, 0.56787, 0.55897, 0.56006, 0.56407, 0.56438, 0.55987, 0.55672, 0.55735, 0.55372, 0.56203, 0.55554, 0.55207, 0.55611, 0.55038, 0.55554, 0.55322, 0.54968, 0.55722, 0.55193, 0.55749, 0.56156, 0.55995, 0.55963, 0.56298, 0.55028, 0.54961, 0.55284, 0.55467, 0.55076, 0.55404, 0.55486, 0.55753, 0.55383, 0.55662, 0.55382, 0.54854, 0.55396, 0.54336, 0.55082, 0.54782, 0.54911, 0.54605, 0.5553, 0.55544, 0.5612, 0.56506, 0.57483, 0.55637, 0.54926, 0.55004, 0.5515, 0.55944, 0.56049, 0.55875, 0.55859, 0.55674, 0.56268, 0.55914, 0.55895, 0.55393, 0.55491, 0.55415, 0.551, 0.55077, 0.5492, 0.56515, 0.56385, 0.58295, 0.58084, 0.58911, 0.57709, 0.56803, 0.55748, 0.5666, 0.56359, 0.56659, 0.56327, 0.56832, 0.56644, 0.57289, 0.55822, 0.56184, 0.55823, 0.56023]}, {\"line\": {\"shape\": \"spline\"}, \"mode\": \"lines\", \"name\": \"offline_4,5,6_tuwen2\", \"type\": \"scatter\", \"x\": [501, 502, 503, 504, 505, 506, 507, 508, 509, 510, 511, 512, 513, 514, 515, 516, 517, 518, 519, 520, 521, 522, 523, 524, 525, 526, 527, 528, 529, 530, 531, 532, 533, 535, 536, 537, 538, 539, 540, 541, 542, 543, 544, 545, 546, 547, 548, 549, 550, 551, 552, 553, 554, 555, 556, 557, 558, 559, 560], \"y\": [0.5484, 0.54609, 0.53954, 0.54261, 0.55121, 0.55037, 0.55375, 0.55139, 0.55167, 0.54573, 0.55329, 0.55087, 0.54373, 0.54858, 0.54516, 0.54865, 0.54629, 0.55114, 0.55727, 0.55885, 0.56685, 0.56966, 0.55526, 0.55108, 0.55, 0.55001, 0.55927, 0.55838, 0.5531, 0.5563, 0.55917, 0.56291, 0.55906, 0.56294, 0.5531, 0.55198, 0.55217, 0.54841, 0.55248, 0.55045, 0.5642, 0.56343, 0.58834, 0.58283, 0.58556, 0.57801, 0.5613, 0.5489, 0.56147, 0.55842, 0.56345, 0.5618, 0.564, 0.5654, 0.56614, 0.55737, 0.55654, 0.55354, 0.55258]}],\n",
       "                        {\"template\": {\"data\": {\"bar\": [{\"error_x\": {\"color\": \"#2a3f5f\"}, \"error_y\": {\"color\": \"#2a3f5f\"}, \"marker\": {\"line\": {\"color\": \"#E5ECF6\", \"width\": 0.5}}, \"type\": \"bar\"}], \"barpolar\": [{\"marker\": {\"line\": {\"color\": \"#E5ECF6\", \"width\": 0.5}}, \"type\": \"barpolar\"}], \"carpet\": [{\"aaxis\": {\"endlinecolor\": \"#2a3f5f\", \"gridcolor\": \"white\", \"linecolor\": \"white\", \"minorgridcolor\": \"white\", \"startlinecolor\": \"#2a3f5f\"}, \"baxis\": {\"endlinecolor\": \"#2a3f5f\", \"gridcolor\": \"white\", \"linecolor\": \"white\", \"minorgridcolor\": \"white\", \"startlinecolor\": \"#2a3f5f\"}, \"type\": \"carpet\"}], \"choropleth\": [{\"colorbar\": {\"outlinewidth\": 0, \"ticks\": \"\"}, \"type\": \"choropleth\"}], \"contour\": [{\"colorbar\": {\"outlinewidth\": 0, \"ticks\": \"\"}, \"colorscale\": [[0.0, \"#0d0887\"], [0.1111111111111111, \"#46039f\"], [0.2222222222222222, \"#7201a8\"], [0.3333333333333333, \"#9c179e\"], [0.4444444444444444, \"#bd3786\"], [0.5555555555555556, \"#d8576b\"], [0.6666666666666666, \"#ed7953\"], [0.7777777777777778, \"#fb9f3a\"], [0.8888888888888888, \"#fdca26\"], [1.0, \"#f0f921\"]], \"type\": \"contour\"}], \"contourcarpet\": [{\"colorbar\": {\"outlinewidth\": 0, \"ticks\": \"\"}, \"type\": \"contourcarpet\"}], \"heatmap\": [{\"colorbar\": {\"outlinewidth\": 0, \"ticks\": \"\"}, \"colorscale\": [[0.0, \"#0d0887\"], [0.1111111111111111, \"#46039f\"], [0.2222222222222222, \"#7201a8\"], [0.3333333333333333, \"#9c179e\"], [0.4444444444444444, \"#bd3786\"], [0.5555555555555556, \"#d8576b\"], [0.6666666666666666, \"#ed7953\"], [0.7777777777777778, \"#fb9f3a\"], [0.8888888888888888, \"#fdca26\"], [1.0, \"#f0f921\"]], \"type\": \"heatmap\"}], \"heatmapgl\": [{\"colorbar\": {\"outlinewidth\": 0, \"ticks\": \"\"}, \"colorscale\": [[0.0, \"#0d0887\"], [0.1111111111111111, \"#46039f\"], [0.2222222222222222, \"#7201a8\"], [0.3333333333333333, \"#9c179e\"], [0.4444444444444444, \"#bd3786\"], [0.5555555555555556, \"#d8576b\"], [0.6666666666666666, \"#ed7953\"], [0.7777777777777778, \"#fb9f3a\"], [0.8888888888888888, \"#fdca26\"], [1.0, \"#f0f921\"]], \"type\": \"heatmapgl\"}], \"histogram\": [{\"marker\": {\"colorbar\": {\"outlinewidth\": 0, \"ticks\": \"\"}}, \"type\": \"histogram\"}], \"histogram2d\": [{\"colorbar\": {\"outlinewidth\": 0, \"ticks\": \"\"}, \"colorscale\": [[0.0, \"#0d0887\"], [0.1111111111111111, \"#46039f\"], [0.2222222222222222, \"#7201a8\"], [0.3333333333333333, \"#9c179e\"], [0.4444444444444444, \"#bd3786\"], [0.5555555555555556, \"#d8576b\"], [0.6666666666666666, \"#ed7953\"], [0.7777777777777778, \"#fb9f3a\"], [0.8888888888888888, \"#fdca26\"], [1.0, \"#f0f921\"]], \"type\": \"histogram2d\"}], \"histogram2dcontour\": [{\"colorbar\": {\"outlinewidth\": 0, \"ticks\": \"\"}, \"colorscale\": [[0.0, \"#0d0887\"], [0.1111111111111111, \"#46039f\"], [0.2222222222222222, \"#7201a8\"], [0.3333333333333333, \"#9c179e\"], [0.4444444444444444, \"#bd3786\"], [0.5555555555555556, \"#d8576b\"], [0.6666666666666666, \"#ed7953\"], [0.7777777777777778, \"#fb9f3a\"], [0.8888888888888888, \"#fdca26\"], [1.0, \"#f0f921\"]], \"type\": \"histogram2dcontour\"}], \"mesh3d\": [{\"colorbar\": {\"outlinewidth\": 0, \"ticks\": \"\"}, \"type\": \"mesh3d\"}], \"parcoords\": [{\"line\": {\"colorbar\": {\"outlinewidth\": 0, \"ticks\": \"\"}}, \"type\": \"parcoords\"}], \"scatter\": [{\"marker\": {\"colorbar\": {\"outlinewidth\": 0, \"ticks\": \"\"}}, \"type\": \"scatter\"}], \"scatter3d\": [{\"line\": {\"colorbar\": {\"outlinewidth\": 0, \"ticks\": \"\"}}, \"marker\": {\"colorbar\": {\"outlinewidth\": 0, \"ticks\": \"\"}}, \"type\": \"scatter3d\"}], \"scattercarpet\": [{\"marker\": {\"colorbar\": {\"outlinewidth\": 0, \"ticks\": \"\"}}, \"type\": \"scattercarpet\"}], \"scattergeo\": [{\"marker\": {\"colorbar\": {\"outlinewidth\": 0, \"ticks\": \"\"}}, \"type\": \"scattergeo\"}], \"scattergl\": [{\"marker\": {\"colorbar\": {\"outlinewidth\": 0, \"ticks\": \"\"}}, \"type\": \"scattergl\"}], \"scattermapbox\": [{\"marker\": {\"colorbar\": {\"outlinewidth\": 0, \"ticks\": \"\"}}, \"type\": \"scattermapbox\"}], \"scatterpolar\": [{\"marker\": {\"colorbar\": {\"outlinewidth\": 0, \"ticks\": \"\"}}, \"type\": \"scatterpolar\"}], \"scatterpolargl\": [{\"marker\": {\"colorbar\": {\"outlinewidth\": 0, \"ticks\": \"\"}}, \"type\": \"scatterpolargl\"}], \"scatterternary\": [{\"marker\": {\"colorbar\": {\"outlinewidth\": 0, \"ticks\": \"\"}}, \"type\": \"scatterternary\"}], \"surface\": [{\"colorbar\": {\"outlinewidth\": 0, \"ticks\": \"\"}, \"colorscale\": [[0.0, \"#0d0887\"], [0.1111111111111111, \"#46039f\"], [0.2222222222222222, \"#7201a8\"], [0.3333333333333333, \"#9c179e\"], [0.4444444444444444, \"#bd3786\"], [0.5555555555555556, \"#d8576b\"], [0.6666666666666666, \"#ed7953\"], [0.7777777777777778, \"#fb9f3a\"], [0.8888888888888888, \"#fdca26\"], [1.0, \"#f0f921\"]], \"type\": \"surface\"}], \"table\": [{\"cells\": {\"fill\": {\"color\": \"#EBF0F8\"}, \"line\": {\"color\": \"white\"}}, \"header\": {\"fill\": {\"color\": \"#C8D4E3\"}, \"line\": {\"color\": \"white\"}}, \"type\": \"table\"}]}, \"layout\": {\"annotationdefaults\": {\"arrowcolor\": \"#2a3f5f\", \"arrowhead\": 0, \"arrowwidth\": 1}, \"colorscale\": {\"diverging\": [[0, \"#8e0152\"], [0.1, \"#c51b7d\"], [0.2, \"#de77ae\"], [0.3, \"#f1b6da\"], [0.4, \"#fde0ef\"], [0.5, \"#f7f7f7\"], [0.6, \"#e6f5d0\"], [0.7, \"#b8e186\"], [0.8, \"#7fbc41\"], [0.9, \"#4d9221\"], [1, \"#276419\"]], \"sequential\": [[0.0, \"#0d0887\"], [0.1111111111111111, \"#46039f\"], [0.2222222222222222, \"#7201a8\"], [0.3333333333333333, \"#9c179e\"], [0.4444444444444444, \"#bd3786\"], [0.5555555555555556, \"#d8576b\"], [0.6666666666666666, \"#ed7953\"], [0.7777777777777778, \"#fb9f3a\"], [0.8888888888888888, \"#fdca26\"], [1.0, \"#f0f921\"]], \"sequentialminus\": [[0.0, \"#0d0887\"], [0.1111111111111111, \"#46039f\"], [0.2222222222222222, \"#7201a8\"], [0.3333333333333333, \"#9c179e\"], [0.4444444444444444, \"#bd3786\"], [0.5555555555555556, \"#d8576b\"], [0.6666666666666666, \"#ed7953\"], [0.7777777777777778, \"#fb9f3a\"], [0.8888888888888888, \"#fdca26\"], [1.0, \"#f0f921\"]]}, \"colorway\": [\"#636efa\", \"#EF553B\", \"#00cc96\", \"#ab63fa\", \"#FFA15A\", \"#19d3f3\", \"#FF6692\", \"#B6E880\", \"#FF97FF\", \"#FECB52\"], \"font\": {\"color\": \"#2a3f5f\"}, \"geo\": {\"bgcolor\": \"white\", \"lakecolor\": \"white\", \"landcolor\": \"#E5ECF6\", \"showlakes\": true, \"showland\": true, \"subunitcolor\": \"white\"}, \"hoverlabel\": {\"align\": \"left\"}, \"hovermode\": \"closest\", \"mapbox\": {\"style\": \"light\"}, \"paper_bgcolor\": \"white\", \"plot_bgcolor\": \"#E5ECF6\", \"polar\": {\"angularaxis\": {\"gridcolor\": \"white\", \"linecolor\": \"white\", \"ticks\": \"\"}, \"bgcolor\": \"#E5ECF6\", \"radialaxis\": {\"gridcolor\": \"white\", \"linecolor\": \"white\", \"ticks\": \"\"}}, \"scene\": {\"xaxis\": {\"backgroundcolor\": \"#E5ECF6\", \"gridcolor\": \"white\", \"gridwidth\": 2, \"linecolor\": \"white\", \"showbackground\": true, \"ticks\": \"\", \"zerolinecolor\": \"white\"}, \"yaxis\": {\"backgroundcolor\": \"#E5ECF6\", \"gridcolor\": \"white\", \"gridwidth\": 2, \"linecolor\": \"white\", \"showbackground\": true, \"ticks\": \"\", \"zerolinecolor\": \"white\"}, \"zaxis\": {\"backgroundcolor\": \"#E5ECF6\", \"gridcolor\": \"white\", \"gridwidth\": 2, \"linecolor\": \"white\", \"showbackground\": true, \"ticks\": \"\", \"zerolinecolor\": \"white\"}}, \"shapedefaults\": {\"line\": {\"color\": \"#2a3f5f\"}}, \"ternary\": {\"aaxis\": {\"gridcolor\": \"white\", \"linecolor\": \"white\", \"ticks\": \"\"}, \"baxis\": {\"gridcolor\": \"white\", \"linecolor\": \"white\", \"ticks\": \"\"}, \"bgcolor\": \"#E5ECF6\", \"caxis\": {\"gridcolor\": \"white\", \"linecolor\": \"white\", \"ticks\": \"\"}}, \"title\": {\"x\": 0.05}, \"xaxis\": {\"automargin\": true, \"gridcolor\": \"white\", \"linecolor\": \"white\", \"ticks\": \"\", \"zerolinecolor\": \"white\", \"zerolinewidth\": 2}, \"yaxis\": {\"automargin\": true, \"gridcolor\": \"white\", \"linecolor\": \"white\", \"ticks\": \"\", \"zerolinecolor\": \"white\", \"zerolinewidth\": 2}}}},\n",
       "                        {\"responsive\": true}\n",
       "                    ).then(function(){\n",
       "                            \n",
       "var gd = document.getElementById('3e012a16-2fde-4cfe-bac2-d8d03963370a');\n",
       "var x = new MutationObserver(function (mutations, observer) {{\n",
       "        var display = window.getComputedStyle(gd).display;\n",
       "        if (!display || display === 'none') {{\n",
       "            console.log([gd, 'removed!']);\n",
       "            Plotly.purge(gd);\n",
       "            observer.disconnect();\n",
       "        }}\n",
       "}});\n",
       "\n",
       "// Listen for the removal of the full notebook cells\n",
       "var notebookContainer = gd.closest('#notebook-container');\n",
       "if (notebookContainer) {{\n",
       "    x.observe(notebookContainer, {childList: true});\n",
       "}}\n",
       "\n",
       "// Listen for the clearing of the current output cell\n",
       "var outputEl = gd.closest('.output');\n",
       "if (outputEl) {{\n",
       "    x.observe(outputEl, {childList: true});\n",
       "}}\n",
       "\n",
       "                        })\n",
       "                };\n",
       "                });\n",
       "            </script>\n",
       "        </div>"
      ]
     },
     "metadata": {},
     "output_type": "display_data"
    }
   ],
   "source": [
    "show('group/click/time_auc')"
   ]
  },
  {
   "cell_type": "code",
   "execution_count": 25,
   "metadata": {},
   "outputs": [
    {
     "data": {
      "application/vnd.plotly.v1+json": {
       "config": {
        "linkText": "Export to plot.ly",
        "plotlyServerURL": "https://plot.ly",
        "showLink": false
       },
       "data": [
        {
         "line": {
          "shape": "spline"
         },
         "mode": "lines",
         "name": "offline_4,5,6_tuwen",
         "type": "scatter",
         "x": [
          290,
          295,
          296,
          297,
          298,
          299,
          300,
          301,
          302,
          303,
          304,
          305,
          306,
          307,
          308,
          309,
          310,
          311,
          312,
          314,
          315,
          316,
          317,
          318,
          319,
          320,
          321,
          322,
          323,
          324,
          325,
          326,
          327,
          328,
          329,
          330,
          331,
          332,
          333,
          334,
          335,
          336,
          338,
          339,
          340,
          341,
          342,
          343,
          344,
          345,
          346,
          347,
          348,
          349,
          350,
          351,
          352,
          354,
          355,
          356,
          359,
          361,
          358,
          357,
          362,
          363,
          364,
          365,
          366,
          353,
          367,
          368,
          369,
          370,
          371,
          372,
          373,
          374,
          375,
          376,
          377,
          378,
          379,
          380,
          381,
          382,
          383,
          384,
          385,
          386,
          387,
          388,
          390,
          391,
          392,
          393,
          394,
          395,
          396,
          397,
          398,
          399,
          400,
          401,
          402,
          403,
          404,
          405,
          406,
          407,
          408,
          409,
          410,
          411,
          412,
          413,
          415,
          416,
          417,
          418,
          419,
          420,
          421,
          422,
          423,
          424,
          425,
          426,
          427,
          428,
          429,
          430,
          431,
          432,
          433,
          434,
          435,
          436,
          437,
          438,
          439,
          440,
          441,
          442,
          443,
          444,
          445,
          446,
          447,
          448,
          449,
          450,
          451,
          452,
          453,
          454,
          455,
          456,
          457,
          458,
          459,
          460,
          461,
          462,
          463,
          464,
          465,
          466,
          467,
          468,
          469,
          470,
          471,
          472,
          473,
          474,
          475,
          476,
          477,
          478,
          479,
          480,
          481,
          482,
          483,
          484,
          485,
          486,
          487,
          488,
          489,
          490,
          491,
          492,
          493,
          494,
          495,
          496,
          497,
          498,
          499,
          500,
          501,
          502,
          503,
          504,
          505,
          506,
          507,
          508,
          509,
          510,
          511,
          512,
          513,
          514,
          515,
          516,
          517,
          518,
          519,
          520,
          521,
          522,
          523,
          524,
          525,
          526,
          527,
          528,
          529,
          530,
          531,
          532,
          533,
          535,
          536,
          537,
          538,
          539,
          540,
          541,
          542,
          543,
          544,
          545,
          546,
          547,
          548,
          549,
          550,
          551,
          552,
          553,
          554,
          555,
          556,
          557,
          558,
          559,
          560
         ],
         "y": [
          0.69872,
          0.70008,
          0.68689,
          0.68996,
          0.68317,
          0.67689,
          0.686,
          0.68339,
          0.69701,
          0.69518,
          0.69386,
          0.69762,
          0.69996,
          0.68736,
          0.69613,
          0.6959,
          0.66867,
          0.66945,
          0.66321,
          0.69674,
          0.69829,
          0.70046,
          0.69865,
          0.69461,
          0.70687,
          0.70325,
          0.6974,
          0.67353,
          0.68186,
          0.68385,
          0.69083,
          0.68103,
          0.68238,
          0.68581,
          0.69115,
          0.6941,
          0.69131,
          0.6873,
          0.67605,
          0.68452,
          0.68409,
          0.68272,
          0.6783,
          0.67794,
          0.67256,
          0.66653,
          0.66713,
          0.67525,
          0.66815,
          0.6413,
          0.63941,
          0.632,
          0.62669,
          0.62956,
          0.63416,
          0.62309,
          0.63934,
          0.66851,
          0.64966,
          0.64159,
          0.64159,
          0.65083,
          0.64095,
          0.65187,
          0.64283,
          0.64315,
          0.63602,
          0.63756,
          0.63772,
          0.64156,
          0.64462,
          0.63625,
          0.6405,
          0.63973,
          0.65369,
          0.66272,
          0.66284,
          0.6812,
          0.69692,
          0.71851,
          0.72234,
          0.723,
          0.70405,
          0.70332,
          0.69401,
          0.69384,
          0.69557,
          0.6879,
          0.68298,
          0.68747,
          0.69098,
          0.69312,
          0.68361,
          0.66811,
          0.68213,
          0.67699,
          0.67041,
          0.67035,
          0.67618,
          0.67491,
          0.68242,
          0.68821,
          0.68788,
          0.70415,
          0.70683,
          0.69944,
          0.67578,
          0.67652,
          0.67667,
          0.67523,
          0.67999,
          0.67999,
          0.67515,
          0.67668,
          0.67405,
          0.68089,
          0.68022,
          0.68077,
          0.68169,
          0.66769,
          0.66121,
          0.66662,
          0.66704,
          0.67398,
          0.69427,
          0.70352,
          0.71657,
          0.71408,
          0.6959,
          0.68599,
          0.67398,
          0.66886,
          0.68337,
          0.67691,
          0.67121,
          0.66763,
          0.67054,
          0.66898,
          0.67559,
          0.67257,
          0.67514,
          0.67514,
          0.66714,
          0.66234,
          0.67162,
          0.66094,
          0.66303,
          0.66934,
          0.68677,
          0.69025,
          0.70989,
          0.69568,
          0.68972,
          0.68578,
          0.67898,
          0.66989,
          0.6748,
          0.673,
          0.67108,
          0.67172,
          0.68092,
          0.67763,
          0.68384,
          0.68592,
          0.68349,
          0.67461,
          0.67601,
          0.68019,
          0.67315,
          0.67735,
          0.68185,
          0.67893,
          0.69358,
          0.70134,
          0.712,
          0.71109,
          0.70472,
          0.70571,
          0.68359,
          0.68207,
          0.69099,
          0.68359,
          0.68536,
          0.68144,
          0.68377,
          0.68212,
          0.69026,
          0.68069,
          0.67644,
          0.68322,
          0.67393,
          0.6781,
          0.67611,
          0.67793,
          0.68749,
          0.6832,
          0.69074,
          0.69247,
          0.70228,
          0.70147,
          0.68713,
          0.68942,
          0.68084,
          0.68068,
          0.6797,
          0.67292,
          0.68,
          0.68156,
          0.68198,
          0.68258,
          0.67836,
          0.6802,
          0.67318,
          0.67316,
          0.66362,
          0.66724,
          0.66633,
          0.67171,
          0.6724,
          0.67843,
          0.68403,
          0.69595,
          0.69807,
          0.70759,
          0.68698,
          0.68272,
          0.67827,
          0.67217,
          0.67742,
          0.67535,
          0.6721,
          0.68028,
          0.67395,
          0.68106,
          0.67959,
          0.68237,
          0.68107,
          0.66853,
          0.67055,
          0.6717,
          0.67056,
          0.66882,
          0.685,
          0.68495,
          0.71423,
          0.71593,
          0.72385,
          0.71413,
          0.6961,
          0.68569,
          0.68671,
          0.67893,
          0.68123,
          0.68791,
          0.69314,
          0.68713,
          0.69594,
          0.68001,
          0.68058,
          0.67591,
          0.67767
         ]
        },
        {
         "line": {
          "shape": "spline"
         },
         "mode": "lines",
         "name": "offline_4,5,6_tuwen2",
         "type": "scatter",
         "x": [
          501,
          502,
          503,
          504,
          505,
          506,
          507,
          508,
          509,
          510,
          511,
          512,
          513,
          514,
          515,
          516,
          517,
          518,
          519,
          520,
          521,
          522,
          523,
          524,
          525,
          526,
          527,
          528,
          529,
          530,
          531,
          532,
          533,
          535,
          536,
          537,
          538,
          539,
          540,
          541,
          542,
          543,
          544,
          545,
          546,
          547,
          548,
          549,
          550,
          551,
          552,
          553,
          554,
          555,
          556,
          557,
          558,
          559,
          560
         ],
         "y": [
          0.6778,
          0.67289,
          0.66241,
          0.66365,
          0.67634,
          0.67766,
          0.67588,
          0.67731,
          0.67165,
          0.67326,
          0.67595,
          0.67084,
          0.66428,
          0.66453,
          0.66478,
          0.67017,
          0.67183,
          0.67346,
          0.68537,
          0.69072,
          0.70276,
          0.70029,
          0.68393,
          0.68267,
          0.67602,
          0.67114,
          0.67985,
          0.67413,
          0.6662,
          0.676,
          0.67614,
          0.68068,
          0.67954,
          0.6848,
          0.67896,
          0.66645,
          0.66978,
          0.67025,
          0.6723,
          0.67017,
          0.68499,
          0.68446,
          0.71744,
          0.71713,
          0.72013,
          0.71238,
          0.68659,
          0.676,
          0.68168,
          0.67752,
          0.67858,
          0.68583,
          0.69099,
          0.68765,
          0.68797,
          0.67767,
          0.67552,
          0.67196,
          0.6696
         ]
        }
       ],
       "layout": {
        "template": {
         "data": {
          "bar": [
           {
            "error_x": {
             "color": "#2a3f5f"
            },
            "error_y": {
             "color": "#2a3f5f"
            },
            "marker": {
             "line": {
              "color": "#E5ECF6",
              "width": 0.5
             }
            },
            "type": "bar"
           }
          ],
          "barpolar": [
           {
            "marker": {
             "line": {
              "color": "#E5ECF6",
              "width": 0.5
             }
            },
            "type": "barpolar"
           }
          ],
          "carpet": [
           {
            "aaxis": {
             "endlinecolor": "#2a3f5f",
             "gridcolor": "white",
             "linecolor": "white",
             "minorgridcolor": "white",
             "startlinecolor": "#2a3f5f"
            },
            "baxis": {
             "endlinecolor": "#2a3f5f",
             "gridcolor": "white",
             "linecolor": "white",
             "minorgridcolor": "white",
             "startlinecolor": "#2a3f5f"
            },
            "type": "carpet"
           }
          ],
          "choropleth": [
           {
            "colorbar": {
             "outlinewidth": 0,
             "ticks": ""
            },
            "type": "choropleth"
           }
          ],
          "contour": [
           {
            "colorbar": {
             "outlinewidth": 0,
             "ticks": ""
            },
            "colorscale": [
             [
              0,
              "#0d0887"
             ],
             [
              0.1111111111111111,
              "#46039f"
             ],
             [
              0.2222222222222222,
              "#7201a8"
             ],
             [
              0.3333333333333333,
              "#9c179e"
             ],
             [
              0.4444444444444444,
              "#bd3786"
             ],
             [
              0.5555555555555556,
              "#d8576b"
             ],
             [
              0.6666666666666666,
              "#ed7953"
             ],
             [
              0.7777777777777778,
              "#fb9f3a"
             ],
             [
              0.8888888888888888,
              "#fdca26"
             ],
             [
              1,
              "#f0f921"
             ]
            ],
            "type": "contour"
           }
          ],
          "contourcarpet": [
           {
            "colorbar": {
             "outlinewidth": 0,
             "ticks": ""
            },
            "type": "contourcarpet"
           }
          ],
          "heatmap": [
           {
            "colorbar": {
             "outlinewidth": 0,
             "ticks": ""
            },
            "colorscale": [
             [
              0,
              "#0d0887"
             ],
             [
              0.1111111111111111,
              "#46039f"
             ],
             [
              0.2222222222222222,
              "#7201a8"
             ],
             [
              0.3333333333333333,
              "#9c179e"
             ],
             [
              0.4444444444444444,
              "#bd3786"
             ],
             [
              0.5555555555555556,
              "#d8576b"
             ],
             [
              0.6666666666666666,
              "#ed7953"
             ],
             [
              0.7777777777777778,
              "#fb9f3a"
             ],
             [
              0.8888888888888888,
              "#fdca26"
             ],
             [
              1,
              "#f0f921"
             ]
            ],
            "type": "heatmap"
           }
          ],
          "heatmapgl": [
           {
            "colorbar": {
             "outlinewidth": 0,
             "ticks": ""
            },
            "colorscale": [
             [
              0,
              "#0d0887"
             ],
             [
              0.1111111111111111,
              "#46039f"
             ],
             [
              0.2222222222222222,
              "#7201a8"
             ],
             [
              0.3333333333333333,
              "#9c179e"
             ],
             [
              0.4444444444444444,
              "#bd3786"
             ],
             [
              0.5555555555555556,
              "#d8576b"
             ],
             [
              0.6666666666666666,
              "#ed7953"
             ],
             [
              0.7777777777777778,
              "#fb9f3a"
             ],
             [
              0.8888888888888888,
              "#fdca26"
             ],
             [
              1,
              "#f0f921"
             ]
            ],
            "type": "heatmapgl"
           }
          ],
          "histogram": [
           {
            "marker": {
             "colorbar": {
              "outlinewidth": 0,
              "ticks": ""
             }
            },
            "type": "histogram"
           }
          ],
          "histogram2d": [
           {
            "colorbar": {
             "outlinewidth": 0,
             "ticks": ""
            },
            "colorscale": [
             [
              0,
              "#0d0887"
             ],
             [
              0.1111111111111111,
              "#46039f"
             ],
             [
              0.2222222222222222,
              "#7201a8"
             ],
             [
              0.3333333333333333,
              "#9c179e"
             ],
             [
              0.4444444444444444,
              "#bd3786"
             ],
             [
              0.5555555555555556,
              "#d8576b"
             ],
             [
              0.6666666666666666,
              "#ed7953"
             ],
             [
              0.7777777777777778,
              "#fb9f3a"
             ],
             [
              0.8888888888888888,
              "#fdca26"
             ],
             [
              1,
              "#f0f921"
             ]
            ],
            "type": "histogram2d"
           }
          ],
          "histogram2dcontour": [
           {
            "colorbar": {
             "outlinewidth": 0,
             "ticks": ""
            },
            "colorscale": [
             [
              0,
              "#0d0887"
             ],
             [
              0.1111111111111111,
              "#46039f"
             ],
             [
              0.2222222222222222,
              "#7201a8"
             ],
             [
              0.3333333333333333,
              "#9c179e"
             ],
             [
              0.4444444444444444,
              "#bd3786"
             ],
             [
              0.5555555555555556,
              "#d8576b"
             ],
             [
              0.6666666666666666,
              "#ed7953"
             ],
             [
              0.7777777777777778,
              "#fb9f3a"
             ],
             [
              0.8888888888888888,
              "#fdca26"
             ],
             [
              1,
              "#f0f921"
             ]
            ],
            "type": "histogram2dcontour"
           }
          ],
          "mesh3d": [
           {
            "colorbar": {
             "outlinewidth": 0,
             "ticks": ""
            },
            "type": "mesh3d"
           }
          ],
          "parcoords": [
           {
            "line": {
             "colorbar": {
              "outlinewidth": 0,
              "ticks": ""
             }
            },
            "type": "parcoords"
           }
          ],
          "scatter": [
           {
            "marker": {
             "colorbar": {
              "outlinewidth": 0,
              "ticks": ""
             }
            },
            "type": "scatter"
           }
          ],
          "scatter3d": [
           {
            "line": {
             "colorbar": {
              "outlinewidth": 0,
              "ticks": ""
             }
            },
            "marker": {
             "colorbar": {
              "outlinewidth": 0,
              "ticks": ""
             }
            },
            "type": "scatter3d"
           }
          ],
          "scattercarpet": [
           {
            "marker": {
             "colorbar": {
              "outlinewidth": 0,
              "ticks": ""
             }
            },
            "type": "scattercarpet"
           }
          ],
          "scattergeo": [
           {
            "marker": {
             "colorbar": {
              "outlinewidth": 0,
              "ticks": ""
             }
            },
            "type": "scattergeo"
           }
          ],
          "scattergl": [
           {
            "marker": {
             "colorbar": {
              "outlinewidth": 0,
              "ticks": ""
             }
            },
            "type": "scattergl"
           }
          ],
          "scattermapbox": [
           {
            "marker": {
             "colorbar": {
              "outlinewidth": 0,
              "ticks": ""
             }
            },
            "type": "scattermapbox"
           }
          ],
          "scatterpolar": [
           {
            "marker": {
             "colorbar": {
              "outlinewidth": 0,
              "ticks": ""
             }
            },
            "type": "scatterpolar"
           }
          ],
          "scatterpolargl": [
           {
            "marker": {
             "colorbar": {
              "outlinewidth": 0,
              "ticks": ""
             }
            },
            "type": "scatterpolargl"
           }
          ],
          "scatterternary": [
           {
            "marker": {
             "colorbar": {
              "outlinewidth": 0,
              "ticks": ""
             }
            },
            "type": "scatterternary"
           }
          ],
          "surface": [
           {
            "colorbar": {
             "outlinewidth": 0,
             "ticks": ""
            },
            "colorscale": [
             [
              0,
              "#0d0887"
             ],
             [
              0.1111111111111111,
              "#46039f"
             ],
             [
              0.2222222222222222,
              "#7201a8"
             ],
             [
              0.3333333333333333,
              "#9c179e"
             ],
             [
              0.4444444444444444,
              "#bd3786"
             ],
             [
              0.5555555555555556,
              "#d8576b"
             ],
             [
              0.6666666666666666,
              "#ed7953"
             ],
             [
              0.7777777777777778,
              "#fb9f3a"
             ],
             [
              0.8888888888888888,
              "#fdca26"
             ],
             [
              1,
              "#f0f921"
             ]
            ],
            "type": "surface"
           }
          ],
          "table": [
           {
            "cells": {
             "fill": {
              "color": "#EBF0F8"
             },
             "line": {
              "color": "white"
             }
            },
            "header": {
             "fill": {
              "color": "#C8D4E3"
             },
             "line": {
              "color": "white"
             }
            },
            "type": "table"
           }
          ]
         },
         "layout": {
          "annotationdefaults": {
           "arrowcolor": "#2a3f5f",
           "arrowhead": 0,
           "arrowwidth": 1
          },
          "colorscale": {
           "diverging": [
            [
             0,
             "#8e0152"
            ],
            [
             0.1,
             "#c51b7d"
            ],
            [
             0.2,
             "#de77ae"
            ],
            [
             0.3,
             "#f1b6da"
            ],
            [
             0.4,
             "#fde0ef"
            ],
            [
             0.5,
             "#f7f7f7"
            ],
            [
             0.6,
             "#e6f5d0"
            ],
            [
             0.7,
             "#b8e186"
            ],
            [
             0.8,
             "#7fbc41"
            ],
            [
             0.9,
             "#4d9221"
            ],
            [
             1,
             "#276419"
            ]
           ],
           "sequential": [
            [
             0,
             "#0d0887"
            ],
            [
             0.1111111111111111,
             "#46039f"
            ],
            [
             0.2222222222222222,
             "#7201a8"
            ],
            [
             0.3333333333333333,
             "#9c179e"
            ],
            [
             0.4444444444444444,
             "#bd3786"
            ],
            [
             0.5555555555555556,
             "#d8576b"
            ],
            [
             0.6666666666666666,
             "#ed7953"
            ],
            [
             0.7777777777777778,
             "#fb9f3a"
            ],
            [
             0.8888888888888888,
             "#fdca26"
            ],
            [
             1,
             "#f0f921"
            ]
           ],
           "sequentialminus": [
            [
             0,
             "#0d0887"
            ],
            [
             0.1111111111111111,
             "#46039f"
            ],
            [
             0.2222222222222222,
             "#7201a8"
            ],
            [
             0.3333333333333333,
             "#9c179e"
            ],
            [
             0.4444444444444444,
             "#bd3786"
            ],
            [
             0.5555555555555556,
             "#d8576b"
            ],
            [
             0.6666666666666666,
             "#ed7953"
            ],
            [
             0.7777777777777778,
             "#fb9f3a"
            ],
            [
             0.8888888888888888,
             "#fdca26"
            ],
            [
             1,
             "#f0f921"
            ]
           ]
          },
          "colorway": [
           "#636efa",
           "#EF553B",
           "#00cc96",
           "#ab63fa",
           "#FFA15A",
           "#19d3f3",
           "#FF6692",
           "#B6E880",
           "#FF97FF",
           "#FECB52"
          ],
          "font": {
           "color": "#2a3f5f"
          },
          "geo": {
           "bgcolor": "white",
           "lakecolor": "white",
           "landcolor": "#E5ECF6",
           "showlakes": true,
           "showland": true,
           "subunitcolor": "white"
          },
          "hoverlabel": {
           "align": "left"
          },
          "hovermode": "closest",
          "mapbox": {
           "style": "light"
          },
          "paper_bgcolor": "white",
          "plot_bgcolor": "#E5ECF6",
          "polar": {
           "angularaxis": {
            "gridcolor": "white",
            "linecolor": "white",
            "ticks": ""
           },
           "bgcolor": "#E5ECF6",
           "radialaxis": {
            "gridcolor": "white",
            "linecolor": "white",
            "ticks": ""
           }
          },
          "scene": {
           "xaxis": {
            "backgroundcolor": "#E5ECF6",
            "gridcolor": "white",
            "gridwidth": 2,
            "linecolor": "white",
            "showbackground": true,
            "ticks": "",
            "zerolinecolor": "white"
           },
           "yaxis": {
            "backgroundcolor": "#E5ECF6",
            "gridcolor": "white",
            "gridwidth": 2,
            "linecolor": "white",
            "showbackground": true,
            "ticks": "",
            "zerolinecolor": "white"
           },
           "zaxis": {
            "backgroundcolor": "#E5ECF6",
            "gridcolor": "white",
            "gridwidth": 2,
            "linecolor": "white",
            "showbackground": true,
            "ticks": "",
            "zerolinecolor": "white"
           }
          },
          "shapedefaults": {
           "line": {
            "color": "#2a3f5f"
           }
          },
          "ternary": {
           "aaxis": {
            "gridcolor": "white",
            "linecolor": "white",
            "ticks": ""
           },
           "baxis": {
            "gridcolor": "white",
            "linecolor": "white",
            "ticks": ""
           },
           "bgcolor": "#E5ECF6",
           "caxis": {
            "gridcolor": "white",
            "linecolor": "white",
            "ticks": ""
           }
          },
          "title": {
           "x": 0.05
          },
          "xaxis": {
           "automargin": true,
           "gridcolor": "white",
           "linecolor": "white",
           "ticks": "",
           "zerolinecolor": "white",
           "zerolinewidth": 2
          },
          "yaxis": {
           "automargin": true,
           "gridcolor": "white",
           "linecolor": "white",
           "ticks": "",
           "zerolinecolor": "white",
           "zerolinewidth": 2
          }
         }
        }
       }
      },
      "text/html": [
       "<div>\n",
       "        \n",
       "        \n",
       "            <div id=\"336bb9f8-acd7-4767-ae99-478166d7f83d\" class=\"plotly-graph-div\" style=\"height:525px; width:100%;\"></div>\n",
       "            <script type=\"text/javascript\">\n",
       "                require([\"plotly\"], function(Plotly) {\n",
       "                    window.PLOTLYENV=window.PLOTLYENV || {};\n",
       "                    \n",
       "                if (document.getElementById(\"336bb9f8-acd7-4767-ae99-478166d7f83d\")) {\n",
       "                    Plotly.newPlot(\n",
       "                        '336bb9f8-acd7-4767-ae99-478166d7f83d',\n",
       "                        [{\"line\": {\"shape\": \"spline\"}, \"mode\": \"lines\", \"name\": \"offline_4,5,6_tuwen\", \"type\": \"scatter\", \"x\": [290, 295, 296, 297, 298, 299, 300, 301, 302, 303, 304, 305, 306, 307, 308, 309, 310, 311, 312, 314, 315, 316, 317, 318, 319, 320, 321, 322, 323, 324, 325, 326, 327, 328, 329, 330, 331, 332, 333, 334, 335, 336, 338, 339, 340, 341, 342, 343, 344, 345, 346, 347, 348, 349, 350, 351, 352, 354, 355, 356, 359, 361, 358, 357, 362, 363, 364, 365, 366, 353, 367, 368, 369, 370, 371, 372, 373, 374, 375, 376, 377, 378, 379, 380, 381, 382, 383, 384, 385, 386, 387, 388, 390, 391, 392, 393, 394, 395, 396, 397, 398, 399, 400, 401, 402, 403, 404, 405, 406, 407, 408, 409, 410, 411, 412, 413, 415, 416, 417, 418, 419, 420, 421, 422, 423, 424, 425, 426, 427, 428, 429, 430, 431, 432, 433, 434, 435, 436, 437, 438, 439, 440, 441, 442, 443, 444, 445, 446, 447, 448, 449, 450, 451, 452, 453, 454, 455, 456, 457, 458, 459, 460, 461, 462, 463, 464, 465, 466, 467, 468, 469, 470, 471, 472, 473, 474, 475, 476, 477, 478, 479, 480, 481, 482, 483, 484, 485, 486, 487, 488, 489, 490, 491, 492, 493, 494, 495, 496, 497, 498, 499, 500, 501, 502, 503, 504, 505, 506, 507, 508, 509, 510, 511, 512, 513, 514, 515, 516, 517, 518, 519, 520, 521, 522, 523, 524, 525, 526, 527, 528, 529, 530, 531, 532, 533, 535, 536, 537, 538, 539, 540, 541, 542, 543, 544, 545, 546, 547, 548, 549, 550, 551, 552, 553, 554, 555, 556, 557, 558, 559, 560], \"y\": [0.69872, 0.70008, 0.68689, 0.68996, 0.68317, 0.67689, 0.686, 0.68339, 0.69701, 0.69518, 0.69386, 0.69762, 0.69996, 0.68736, 0.69613, 0.6959, 0.66867, 0.66945, 0.66321, 0.69674, 0.69829, 0.70046, 0.69865, 0.69461, 0.70687, 0.70325, 0.6974, 0.67353, 0.68186, 0.68385, 0.69083, 0.68103, 0.68238, 0.68581, 0.69115, 0.6941, 0.69131, 0.6873, 0.67605, 0.68452, 0.68409, 0.68272, 0.6783, 0.67794, 0.67256, 0.66653, 0.66713, 0.67525, 0.66815, 0.6413, 0.63941, 0.632, 0.62669, 0.62956, 0.63416, 0.62309, 0.63934, 0.66851, 0.64966, 0.64159, 0.64159, 0.65083, 0.64095, 0.65187, 0.64283, 0.64315, 0.63602, 0.63756, 0.63772, 0.64156, 0.64462, 0.63625, 0.6405, 0.63973, 0.65369, 0.66272, 0.66284, 0.6812, 0.69692, 0.71851, 0.72234, 0.723, 0.70405, 0.70332, 0.69401, 0.69384, 0.69557, 0.6879, 0.68298, 0.68747, 0.69098, 0.69312, 0.68361, 0.66811, 0.68213, 0.67699, 0.67041, 0.67035, 0.67618, 0.67491, 0.68242, 0.68821, 0.68788, 0.70415, 0.70683, 0.69944, 0.67578, 0.67652, 0.67667, 0.67523, 0.67999, 0.67999, 0.67515, 0.67668, 0.67405, 0.68089, 0.68022, 0.68077, 0.68169, 0.66769, 0.66121, 0.66662, 0.66704, 0.67398, 0.69427, 0.70352, 0.71657, 0.71408, 0.6959, 0.68599, 0.67398, 0.66886, 0.68337, 0.67691, 0.67121, 0.66763, 0.67054, 0.66898, 0.67559, 0.67257, 0.67514, 0.67514, 0.66714, 0.66234, 0.67162, 0.66094, 0.66303, 0.66934, 0.68677, 0.69025, 0.70989, 0.69568, 0.68972, 0.68578, 0.67898, 0.66989, 0.6748, 0.673, 0.67108, 0.67172, 0.68092, 0.67763, 0.68384, 0.68592, 0.68349, 0.67461, 0.67601, 0.68019, 0.67315, 0.67735, 0.68185, 0.67893, 0.69358, 0.70134, 0.712, 0.71109, 0.70472, 0.70571, 0.68359, 0.68207, 0.69099, 0.68359, 0.68536, 0.68144, 0.68377, 0.68212, 0.69026, 0.68069, 0.67644, 0.68322, 0.67393, 0.6781, 0.67611, 0.67793, 0.68749, 0.6832, 0.69074, 0.69247, 0.70228, 0.70147, 0.68713, 0.68942, 0.68084, 0.68068, 0.6797, 0.67292, 0.68, 0.68156, 0.68198, 0.68258, 0.67836, 0.6802, 0.67318, 0.67316, 0.66362, 0.66724, 0.66633, 0.67171, 0.6724, 0.67843, 0.68403, 0.69595, 0.69807, 0.70759, 0.68698, 0.68272, 0.67827, 0.67217, 0.67742, 0.67535, 0.6721, 0.68028, 0.67395, 0.68106, 0.67959, 0.68237, 0.68107, 0.66853, 0.67055, 0.6717, 0.67056, 0.66882, 0.685, 0.68495, 0.71423, 0.71593, 0.72385, 0.71413, 0.6961, 0.68569, 0.68671, 0.67893, 0.68123, 0.68791, 0.69314, 0.68713, 0.69594, 0.68001, 0.68058, 0.67591, 0.67767]}, {\"line\": {\"shape\": \"spline\"}, \"mode\": \"lines\", \"name\": \"offline_4,5,6_tuwen2\", \"type\": \"scatter\", \"x\": [501, 502, 503, 504, 505, 506, 507, 508, 509, 510, 511, 512, 513, 514, 515, 516, 517, 518, 519, 520, 521, 522, 523, 524, 525, 526, 527, 528, 529, 530, 531, 532, 533, 535, 536, 537, 538, 539, 540, 541, 542, 543, 544, 545, 546, 547, 548, 549, 550, 551, 552, 553, 554, 555, 556, 557, 558, 559, 560], \"y\": [0.6778, 0.67289, 0.66241, 0.66365, 0.67634, 0.67766, 0.67588, 0.67731, 0.67165, 0.67326, 0.67595, 0.67084, 0.66428, 0.66453, 0.66478, 0.67017, 0.67183, 0.67346, 0.68537, 0.69072, 0.70276, 0.70029, 0.68393, 0.68267, 0.67602, 0.67114, 0.67985, 0.67413, 0.6662, 0.676, 0.67614, 0.68068, 0.67954, 0.6848, 0.67896, 0.66645, 0.66978, 0.67025, 0.6723, 0.67017, 0.68499, 0.68446, 0.71744, 0.71713, 0.72013, 0.71238, 0.68659, 0.676, 0.68168, 0.67752, 0.67858, 0.68583, 0.69099, 0.68765, 0.68797, 0.67767, 0.67552, 0.67196, 0.6696]}],\n",
       "                        {\"template\": {\"data\": {\"bar\": [{\"error_x\": {\"color\": \"#2a3f5f\"}, \"error_y\": {\"color\": \"#2a3f5f\"}, \"marker\": {\"line\": {\"color\": \"#E5ECF6\", \"width\": 0.5}}, \"type\": \"bar\"}], \"barpolar\": [{\"marker\": {\"line\": {\"color\": \"#E5ECF6\", \"width\": 0.5}}, \"type\": \"barpolar\"}], \"carpet\": [{\"aaxis\": {\"endlinecolor\": \"#2a3f5f\", \"gridcolor\": \"white\", \"linecolor\": \"white\", \"minorgridcolor\": \"white\", \"startlinecolor\": \"#2a3f5f\"}, \"baxis\": {\"endlinecolor\": \"#2a3f5f\", \"gridcolor\": \"white\", \"linecolor\": \"white\", \"minorgridcolor\": \"white\", \"startlinecolor\": \"#2a3f5f\"}, \"type\": \"carpet\"}], \"choropleth\": [{\"colorbar\": {\"outlinewidth\": 0, \"ticks\": \"\"}, \"type\": \"choropleth\"}], \"contour\": [{\"colorbar\": {\"outlinewidth\": 0, \"ticks\": \"\"}, \"colorscale\": [[0.0, \"#0d0887\"], [0.1111111111111111, \"#46039f\"], [0.2222222222222222, \"#7201a8\"], [0.3333333333333333, \"#9c179e\"], [0.4444444444444444, \"#bd3786\"], [0.5555555555555556, \"#d8576b\"], [0.6666666666666666, \"#ed7953\"], [0.7777777777777778, \"#fb9f3a\"], [0.8888888888888888, \"#fdca26\"], [1.0, \"#f0f921\"]], \"type\": \"contour\"}], \"contourcarpet\": [{\"colorbar\": {\"outlinewidth\": 0, \"ticks\": \"\"}, \"type\": \"contourcarpet\"}], \"heatmap\": [{\"colorbar\": {\"outlinewidth\": 0, \"ticks\": \"\"}, \"colorscale\": [[0.0, \"#0d0887\"], [0.1111111111111111, \"#46039f\"], [0.2222222222222222, \"#7201a8\"], [0.3333333333333333, \"#9c179e\"], [0.4444444444444444, \"#bd3786\"], [0.5555555555555556, \"#d8576b\"], [0.6666666666666666, \"#ed7953\"], [0.7777777777777778, \"#fb9f3a\"], [0.8888888888888888, \"#fdca26\"], [1.0, \"#f0f921\"]], \"type\": \"heatmap\"}], \"heatmapgl\": [{\"colorbar\": {\"outlinewidth\": 0, \"ticks\": \"\"}, \"colorscale\": [[0.0, \"#0d0887\"], [0.1111111111111111, \"#46039f\"], [0.2222222222222222, \"#7201a8\"], [0.3333333333333333, \"#9c179e\"], [0.4444444444444444, \"#bd3786\"], [0.5555555555555556, \"#d8576b\"], [0.6666666666666666, \"#ed7953\"], [0.7777777777777778, \"#fb9f3a\"], [0.8888888888888888, \"#fdca26\"], [1.0, \"#f0f921\"]], \"type\": \"heatmapgl\"}], \"histogram\": [{\"marker\": {\"colorbar\": {\"outlinewidth\": 0, \"ticks\": \"\"}}, \"type\": \"histogram\"}], \"histogram2d\": [{\"colorbar\": {\"outlinewidth\": 0, \"ticks\": \"\"}, \"colorscale\": [[0.0, \"#0d0887\"], [0.1111111111111111, \"#46039f\"], [0.2222222222222222, \"#7201a8\"], [0.3333333333333333, \"#9c179e\"], [0.4444444444444444, \"#bd3786\"], [0.5555555555555556, \"#d8576b\"], [0.6666666666666666, \"#ed7953\"], [0.7777777777777778, \"#fb9f3a\"], [0.8888888888888888, \"#fdca26\"], [1.0, \"#f0f921\"]], \"type\": \"histogram2d\"}], \"histogram2dcontour\": [{\"colorbar\": {\"outlinewidth\": 0, \"ticks\": \"\"}, \"colorscale\": [[0.0, \"#0d0887\"], [0.1111111111111111, \"#46039f\"], [0.2222222222222222, \"#7201a8\"], [0.3333333333333333, \"#9c179e\"], [0.4444444444444444, \"#bd3786\"], [0.5555555555555556, \"#d8576b\"], [0.6666666666666666, \"#ed7953\"], [0.7777777777777778, \"#fb9f3a\"], [0.8888888888888888, \"#fdca26\"], [1.0, \"#f0f921\"]], \"type\": \"histogram2dcontour\"}], \"mesh3d\": [{\"colorbar\": {\"outlinewidth\": 0, \"ticks\": \"\"}, \"type\": \"mesh3d\"}], \"parcoords\": [{\"line\": {\"colorbar\": {\"outlinewidth\": 0, \"ticks\": \"\"}}, \"type\": \"parcoords\"}], \"scatter\": [{\"marker\": {\"colorbar\": {\"outlinewidth\": 0, \"ticks\": \"\"}}, \"type\": \"scatter\"}], \"scatter3d\": [{\"line\": {\"colorbar\": {\"outlinewidth\": 0, \"ticks\": \"\"}}, \"marker\": {\"colorbar\": {\"outlinewidth\": 0, \"ticks\": \"\"}}, \"type\": \"scatter3d\"}], \"scattercarpet\": [{\"marker\": {\"colorbar\": {\"outlinewidth\": 0, \"ticks\": \"\"}}, \"type\": \"scattercarpet\"}], \"scattergeo\": [{\"marker\": {\"colorbar\": {\"outlinewidth\": 0, \"ticks\": \"\"}}, \"type\": \"scattergeo\"}], \"scattergl\": [{\"marker\": {\"colorbar\": {\"outlinewidth\": 0, \"ticks\": \"\"}}, \"type\": \"scattergl\"}], \"scattermapbox\": [{\"marker\": {\"colorbar\": {\"outlinewidth\": 0, \"ticks\": \"\"}}, \"type\": \"scattermapbox\"}], \"scatterpolar\": [{\"marker\": {\"colorbar\": {\"outlinewidth\": 0, \"ticks\": \"\"}}, \"type\": \"scatterpolar\"}], \"scatterpolargl\": [{\"marker\": {\"colorbar\": {\"outlinewidth\": 0, \"ticks\": \"\"}}, \"type\": \"scatterpolargl\"}], \"scatterternary\": [{\"marker\": {\"colorbar\": {\"outlinewidth\": 0, \"ticks\": \"\"}}, \"type\": \"scatterternary\"}], \"surface\": [{\"colorbar\": {\"outlinewidth\": 0, \"ticks\": \"\"}, \"colorscale\": [[0.0, \"#0d0887\"], [0.1111111111111111, \"#46039f\"], [0.2222222222222222, \"#7201a8\"], [0.3333333333333333, \"#9c179e\"], [0.4444444444444444, \"#bd3786\"], [0.5555555555555556, \"#d8576b\"], [0.6666666666666666, \"#ed7953\"], [0.7777777777777778, \"#fb9f3a\"], [0.8888888888888888, \"#fdca26\"], [1.0, \"#f0f921\"]], \"type\": \"surface\"}], \"table\": [{\"cells\": {\"fill\": {\"color\": \"#EBF0F8\"}, \"line\": {\"color\": \"white\"}}, \"header\": {\"fill\": {\"color\": \"#C8D4E3\"}, \"line\": {\"color\": \"white\"}}, \"type\": \"table\"}]}, \"layout\": {\"annotationdefaults\": {\"arrowcolor\": \"#2a3f5f\", \"arrowhead\": 0, \"arrowwidth\": 1}, \"colorscale\": {\"diverging\": [[0, \"#8e0152\"], [0.1, \"#c51b7d\"], [0.2, \"#de77ae\"], [0.3, \"#f1b6da\"], [0.4, \"#fde0ef\"], [0.5, \"#f7f7f7\"], [0.6, \"#e6f5d0\"], [0.7, \"#b8e186\"], [0.8, \"#7fbc41\"], [0.9, \"#4d9221\"], [1, \"#276419\"]], \"sequential\": [[0.0, \"#0d0887\"], [0.1111111111111111, \"#46039f\"], [0.2222222222222222, \"#7201a8\"], [0.3333333333333333, \"#9c179e\"], [0.4444444444444444, \"#bd3786\"], [0.5555555555555556, \"#d8576b\"], [0.6666666666666666, \"#ed7953\"], [0.7777777777777778, \"#fb9f3a\"], [0.8888888888888888, \"#fdca26\"], [1.0, \"#f0f921\"]], \"sequentialminus\": [[0.0, \"#0d0887\"], [0.1111111111111111, \"#46039f\"], [0.2222222222222222, \"#7201a8\"], [0.3333333333333333, \"#9c179e\"], [0.4444444444444444, \"#bd3786\"], [0.5555555555555556, \"#d8576b\"], [0.6666666666666666, \"#ed7953\"], [0.7777777777777778, \"#fb9f3a\"], [0.8888888888888888, \"#fdca26\"], [1.0, \"#f0f921\"]]}, \"colorway\": [\"#636efa\", \"#EF553B\", \"#00cc96\", \"#ab63fa\", \"#FFA15A\", \"#19d3f3\", \"#FF6692\", \"#B6E880\", \"#FF97FF\", \"#FECB52\"], \"font\": {\"color\": \"#2a3f5f\"}, \"geo\": {\"bgcolor\": \"white\", \"lakecolor\": \"white\", \"landcolor\": \"#E5ECF6\", \"showlakes\": true, \"showland\": true, \"subunitcolor\": \"white\"}, \"hoverlabel\": {\"align\": \"left\"}, \"hovermode\": \"closest\", \"mapbox\": {\"style\": \"light\"}, \"paper_bgcolor\": \"white\", \"plot_bgcolor\": \"#E5ECF6\", \"polar\": {\"angularaxis\": {\"gridcolor\": \"white\", \"linecolor\": \"white\", \"ticks\": \"\"}, \"bgcolor\": \"#E5ECF6\", \"radialaxis\": {\"gridcolor\": \"white\", \"linecolor\": \"white\", \"ticks\": \"\"}}, \"scene\": {\"xaxis\": {\"backgroundcolor\": \"#E5ECF6\", \"gridcolor\": \"white\", \"gridwidth\": 2, \"linecolor\": \"white\", \"showbackground\": true, \"ticks\": \"\", \"zerolinecolor\": \"white\"}, \"yaxis\": {\"backgroundcolor\": \"#E5ECF6\", \"gridcolor\": \"white\", \"gridwidth\": 2, \"linecolor\": \"white\", \"showbackground\": true, \"ticks\": \"\", \"zerolinecolor\": \"white\"}, \"zaxis\": {\"backgroundcolor\": \"#E5ECF6\", \"gridcolor\": \"white\", \"gridwidth\": 2, \"linecolor\": \"white\", \"showbackground\": true, \"ticks\": \"\", \"zerolinecolor\": \"white\"}}, \"shapedefaults\": {\"line\": {\"color\": \"#2a3f5f\"}}, \"ternary\": {\"aaxis\": {\"gridcolor\": \"white\", \"linecolor\": \"white\", \"ticks\": \"\"}, \"baxis\": {\"gridcolor\": \"white\", \"linecolor\": \"white\", \"ticks\": \"\"}, \"bgcolor\": \"#E5ECF6\", \"caxis\": {\"gridcolor\": \"white\", \"linecolor\": \"white\", \"ticks\": \"\"}}, \"title\": {\"x\": 0.05}, \"xaxis\": {\"automargin\": true, \"gridcolor\": \"white\", \"linecolor\": \"white\", \"ticks\": \"\", \"zerolinecolor\": \"white\", \"zerolinewidth\": 2}, \"yaxis\": {\"automargin\": true, \"gridcolor\": \"white\", \"linecolor\": \"white\", \"ticks\": \"\", \"zerolinecolor\": \"white\", \"zerolinewidth\": 2}}}},\n",
       "                        {\"responsive\": true}\n",
       "                    ).then(function(){\n",
       "                            \n",
       "var gd = document.getElementById('336bb9f8-acd7-4767-ae99-478166d7f83d');\n",
       "var x = new MutationObserver(function (mutations, observer) {{\n",
       "        var display = window.getComputedStyle(gd).display;\n",
       "        if (!display || display === 'none') {{\n",
       "            console.log([gd, 'removed!']);\n",
       "            Plotly.purge(gd);\n",
       "            observer.disconnect();\n",
       "        }}\n",
       "}});\n",
       "\n",
       "// Listen for the removal of the full notebook cells\n",
       "var notebookContainer = gd.closest('#notebook-container');\n",
       "if (notebookContainer) {{\n",
       "    x.observe(notebookContainer, {childList: true});\n",
       "}}\n",
       "\n",
       "// Listen for the clearing of the current output cell\n",
       "var outputEl = gd.closest('.output');\n",
       "if (outputEl) {{\n",
       "    x.observe(outputEl, {childList: true});\n",
       "}}\n",
       "\n",
       "                        })\n",
       "                };\n",
       "                });\n",
       "            </script>\n",
       "        </div>"
      ]
     },
     "metadata": {},
     "output_type": "display_data"
    }
   ],
   "source": [
    "show('group/click/weighted_time_auc')"
   ]
  },
  {
   "cell_type": "code",
   "execution_count": 26,
   "metadata": {},
   "outputs": [
    {
     "data": {
      "application/vnd.plotly.v1+json": {
       "config": {
        "linkText": "Export to plot.ly",
        "plotlyServerURL": "https://plot.ly",
        "showLink": false
       },
       "data": [
        {
         "line": {
          "shape": "spline"
         },
         "mode": "lines",
         "name": "offline_4,5,6_tuwen",
         "type": "scatter",
         "x": [
          290,
          295,
          296,
          297,
          298,
          299,
          300,
          301,
          302,
          303,
          304,
          305,
          306,
          307,
          308,
          309,
          310,
          311,
          312,
          314,
          315,
          316,
          317,
          318,
          319,
          320,
          321,
          322,
          323,
          324,
          325,
          326,
          327,
          328,
          329,
          330,
          331,
          332,
          333,
          334,
          335,
          336,
          338,
          339,
          340,
          341,
          342,
          343,
          344,
          345,
          346,
          347,
          348,
          349,
          350,
          351,
          352,
          354,
          355,
          356,
          359,
          361,
          358,
          357,
          362,
          363,
          364,
          365,
          366,
          353,
          367,
          368,
          369,
          370,
          371,
          372,
          373,
          374,
          375,
          376,
          377,
          378,
          379,
          380,
          381,
          382,
          383,
          384,
          385,
          386,
          387,
          388,
          390,
          391,
          392,
          393,
          394,
          395,
          396,
          397,
          398,
          399,
          400,
          401,
          402,
          403,
          404,
          405,
          406,
          407,
          408,
          409,
          410,
          411,
          412,
          413,
          415,
          416,
          417,
          418,
          419,
          420,
          421,
          422,
          423,
          424,
          425,
          426,
          427,
          428,
          429,
          430,
          431,
          432,
          433,
          434,
          435,
          436,
          437,
          438,
          439,
          440,
          441,
          442,
          443,
          444,
          445,
          446,
          447,
          448,
          449,
          450,
          451,
          452,
          453,
          454,
          455,
          456,
          457,
          458,
          459,
          460,
          461,
          462,
          463,
          464,
          465,
          466,
          467,
          468,
          469,
          470,
          471,
          472,
          473,
          474,
          475,
          476,
          477,
          478,
          479,
          480,
          481,
          482,
          483,
          484,
          485,
          486,
          487,
          488,
          489,
          490,
          491,
          492,
          493,
          494,
          495,
          496,
          497,
          498,
          499,
          500,
          501,
          502,
          503,
          504,
          505,
          506,
          507,
          508,
          509,
          510,
          511,
          512,
          513,
          514,
          515,
          516,
          517,
          518,
          519,
          520,
          521,
          522,
          523,
          524,
          525,
          526,
          527,
          528,
          529,
          530,
          531,
          532,
          533,
          535,
          536,
          537,
          538,
          539,
          540,
          541,
          542,
          543,
          544,
          545,
          546,
          547,
          548,
          549,
          550,
          551,
          552,
          553,
          554,
          555,
          556,
          557,
          558,
          559,
          560
         ],
         "y": [
          0.13439,
          0.07671,
          0.07653,
          0.0792,
          0.07951,
          0.0803,
          0.13303,
          0.1351,
          0.1376,
          0.13905,
          0.1441,
          0.14821,
          0.15274,
          0.15417,
          0.14234,
          0.13777,
          0.13352,
          0.12839,
          0.12373,
          0.1187,
          0.12406,
          0.12057,
          0.12042,
          0.11858,
          0.11352,
          0.11824,
          0.12193,
          0.11975,
          0.12177,
          0.1227,
          0.12502,
          0.13018,
          0.13577,
          0.13929,
          0.14019,
          0.1445,
          0.14413,
          0.14291,
          0.13224,
          0.13058,
          0.12891,
          0.1251,
          0.11862,
          0.12068,
          0.11907,
          0.11615,
          0.11367,
          0.11387,
          0.11186,
          0.11316,
          0.115,
          0.11478,
          0.12002,
          0.11704,
          0.11723,
          0.12493,
          0.138,
          0.13537,
          0.13434,
          0.12438,
          0.11906,
          0.116,
          0.11836,
          0.11596,
          0.1192,
          0.12084,
          0.11307,
          0.11181,
          0.10831,
          0.00514,
          0.10711,
          0.10801,
          0.11259,
          0.11327,
          0.11413,
          0.11498,
          0.11697,
          0.12101,
          0.12997,
          0.13259,
          0.12613,
          0.14289,
          0.13897,
          0.1301,
          0.12249,
          0.12338,
          0.12283,
          0.11787,
          0.11094,
          0.11915,
          0.1205,
          0.11463,
          0.10053,
          0.11144,
          0.11444,
          0.11725,
          0.11815,
          0.12106,
          0.12714,
          0.12207,
          0.1286,
          0.13217,
          0.13683,
          0.14254,
          0.14353,
          0.14448,
          0.13314,
          0.12572,
          0.12499,
          0.12438,
          0.1192,
          0.11635,
          0.12445,
          0.12618,
          0.12001,
          0.11845,
          0.11136,
          0.11439,
          0.1139,
          0.12089,
          0.12389,
          0.12646,
          0.12834,
          0.12825,
          0.13888,
          0.14034,
          0.14469,
          0.14263,
          0.14774,
          0.13668,
          0.12836,
          0.12566,
          0.1248,
          0.12171,
          0.11657,
          0.12036,
          0.1172,
          0.12114,
          0.12119,
          0.1164,
          0.11332,
          0.11518,
          0.11297,
          0.11961,
          0.12169,
          0.12594,
          0.12763,
          0.13171,
          0.13678,
          0.14161,
          0.14748,
          0.1512,
          0.14786,
          0.13389,
          0.12703,
          0.12479,
          0.12371,
          0.11714,
          0.11372,
          0.12061,
          0.12102,
          0.11879,
          0.11373,
          0.11934,
          0.10887,
          0.11021,
          0.13436,
          0.13852,
          0.10479,
          0.14033,
          0.14106,
          0.13842,
          0.13679,
          0.13198,
          0.12854,
          0.13367,
          0.13673,
          0.14604,
          0.14852,
          0.15248,
          0.14714,
          0.14351,
          0.13884,
          0.14537,
          0.14364,
          0.14131,
          0.14113,
          0.14156,
          0.14176,
          0.14037,
          0.13791,
          0.13742,
          0.13575,
          0.14123,
          0.13762,
          0.14136,
          0.13829,
          0.13942,
          0.12548,
          0.11706,
          0.13045,
          0.14624,
          0.14773,
          0.14773,
          0.14446,
          0.14035,
          0.13849,
          0.1418,
          0.13673,
          0.13598,
          0.11769,
          0.126,
          0.13077,
          0.1365,
          0.13417,
          0.13224,
          0.13399,
          0.13441,
          0.13294,
          0.13349,
          0.13019,
          0.12518,
          0.1225,
          0.12288,
          0.13289,
          0.13876,
          0.13622,
          0.13906,
          0.1355,
          0.13282,
          0.12768,
          0.13281,
          0.13105,
          0.12675,
          0.12446,
          0.12306,
          0.12537,
          0.12584,
          0.12887,
          0.13066,
          0.13514,
          0.1368,
          0.14282,
          0.14172,
          0.14217,
          0.14798,
          0.1455,
          0.1531,
          0.14998,
          0.15079,
          0.14686,
          0.14533,
          0.14113,
          0.14036,
          0.14156,
          0.13757,
          0.1302,
          0.12267,
          0.12327,
          0.12966,
          0.13502
         ]
        },
        {
         "line": {
          "shape": "spline"
         },
         "mode": "lines",
         "name": "offline_4,5,6_tuwen2",
         "type": "scatter",
         "x": [
          501,
          502,
          503,
          504,
          505,
          506,
          507,
          508,
          509,
          510,
          511,
          512,
          513,
          514,
          515,
          516,
          517,
          518,
          519,
          520,
          521,
          522,
          523,
          524,
          525,
          526,
          527,
          528,
          529,
          530,
          531,
          532,
          533,
          535,
          536,
          537,
          538,
          539,
          540,
          541,
          542,
          543,
          544,
          545,
          546,
          547,
          548,
          549,
          550,
          551,
          552,
          553,
          554,
          555,
          556,
          557,
          558,
          559,
          560
         ],
         "y": [
          0.14773,
          0.14773,
          0.14446,
          0.14035,
          0.13849,
          0.1418,
          0.13673,
          0.13598,
          0.11769,
          0.126,
          0.13077,
          0.1365,
          0.13417,
          0.13224,
          0.13399,
          0.13441,
          0.13294,
          0.13349,
          0.13019,
          0.12518,
          0.1225,
          0.12288,
          0.13289,
          0.13876,
          0.13622,
          0.13906,
          0.1355,
          0.13282,
          0.12768,
          0.13281,
          0.13105,
          0.12675,
          0.12446,
          0.12306,
          0.12537,
          0.12584,
          0.12887,
          0.13066,
          0.13514,
          0.1368,
          0.14282,
          0.14172,
          0.14217,
          0.14798,
          0.1455,
          0.1531,
          0.14998,
          0.15079,
          0.14686,
          0.14533,
          0.14113,
          0.14036,
          0.14156,
          0.13757,
          0.1302,
          0.12267,
          0.12327,
          0.12966,
          0.13502
         ]
        }
       ],
       "layout": {
        "template": {
         "data": {
          "bar": [
           {
            "error_x": {
             "color": "#2a3f5f"
            },
            "error_y": {
             "color": "#2a3f5f"
            },
            "marker": {
             "line": {
              "color": "#E5ECF6",
              "width": 0.5
             }
            },
            "type": "bar"
           }
          ],
          "barpolar": [
           {
            "marker": {
             "line": {
              "color": "#E5ECF6",
              "width": 0.5
             }
            },
            "type": "barpolar"
           }
          ],
          "carpet": [
           {
            "aaxis": {
             "endlinecolor": "#2a3f5f",
             "gridcolor": "white",
             "linecolor": "white",
             "minorgridcolor": "white",
             "startlinecolor": "#2a3f5f"
            },
            "baxis": {
             "endlinecolor": "#2a3f5f",
             "gridcolor": "white",
             "linecolor": "white",
             "minorgridcolor": "white",
             "startlinecolor": "#2a3f5f"
            },
            "type": "carpet"
           }
          ],
          "choropleth": [
           {
            "colorbar": {
             "outlinewidth": 0,
             "ticks": ""
            },
            "type": "choropleth"
           }
          ],
          "contour": [
           {
            "colorbar": {
             "outlinewidth": 0,
             "ticks": ""
            },
            "colorscale": [
             [
              0,
              "#0d0887"
             ],
             [
              0.1111111111111111,
              "#46039f"
             ],
             [
              0.2222222222222222,
              "#7201a8"
             ],
             [
              0.3333333333333333,
              "#9c179e"
             ],
             [
              0.4444444444444444,
              "#bd3786"
             ],
             [
              0.5555555555555556,
              "#d8576b"
             ],
             [
              0.6666666666666666,
              "#ed7953"
             ],
             [
              0.7777777777777778,
              "#fb9f3a"
             ],
             [
              0.8888888888888888,
              "#fdca26"
             ],
             [
              1,
              "#f0f921"
             ]
            ],
            "type": "contour"
           }
          ],
          "contourcarpet": [
           {
            "colorbar": {
             "outlinewidth": 0,
             "ticks": ""
            },
            "type": "contourcarpet"
           }
          ],
          "heatmap": [
           {
            "colorbar": {
             "outlinewidth": 0,
             "ticks": ""
            },
            "colorscale": [
             [
              0,
              "#0d0887"
             ],
             [
              0.1111111111111111,
              "#46039f"
             ],
             [
              0.2222222222222222,
              "#7201a8"
             ],
             [
              0.3333333333333333,
              "#9c179e"
             ],
             [
              0.4444444444444444,
              "#bd3786"
             ],
             [
              0.5555555555555556,
              "#d8576b"
             ],
             [
              0.6666666666666666,
              "#ed7953"
             ],
             [
              0.7777777777777778,
              "#fb9f3a"
             ],
             [
              0.8888888888888888,
              "#fdca26"
             ],
             [
              1,
              "#f0f921"
             ]
            ],
            "type": "heatmap"
           }
          ],
          "heatmapgl": [
           {
            "colorbar": {
             "outlinewidth": 0,
             "ticks": ""
            },
            "colorscale": [
             [
              0,
              "#0d0887"
             ],
             [
              0.1111111111111111,
              "#46039f"
             ],
             [
              0.2222222222222222,
              "#7201a8"
             ],
             [
              0.3333333333333333,
              "#9c179e"
             ],
             [
              0.4444444444444444,
              "#bd3786"
             ],
             [
              0.5555555555555556,
              "#d8576b"
             ],
             [
              0.6666666666666666,
              "#ed7953"
             ],
             [
              0.7777777777777778,
              "#fb9f3a"
             ],
             [
              0.8888888888888888,
              "#fdca26"
             ],
             [
              1,
              "#f0f921"
             ]
            ],
            "type": "heatmapgl"
           }
          ],
          "histogram": [
           {
            "marker": {
             "colorbar": {
              "outlinewidth": 0,
              "ticks": ""
             }
            },
            "type": "histogram"
           }
          ],
          "histogram2d": [
           {
            "colorbar": {
             "outlinewidth": 0,
             "ticks": ""
            },
            "colorscale": [
             [
              0,
              "#0d0887"
             ],
             [
              0.1111111111111111,
              "#46039f"
             ],
             [
              0.2222222222222222,
              "#7201a8"
             ],
             [
              0.3333333333333333,
              "#9c179e"
             ],
             [
              0.4444444444444444,
              "#bd3786"
             ],
             [
              0.5555555555555556,
              "#d8576b"
             ],
             [
              0.6666666666666666,
              "#ed7953"
             ],
             [
              0.7777777777777778,
              "#fb9f3a"
             ],
             [
              0.8888888888888888,
              "#fdca26"
             ],
             [
              1,
              "#f0f921"
             ]
            ],
            "type": "histogram2d"
           }
          ],
          "histogram2dcontour": [
           {
            "colorbar": {
             "outlinewidth": 0,
             "ticks": ""
            },
            "colorscale": [
             [
              0,
              "#0d0887"
             ],
             [
              0.1111111111111111,
              "#46039f"
             ],
             [
              0.2222222222222222,
              "#7201a8"
             ],
             [
              0.3333333333333333,
              "#9c179e"
             ],
             [
              0.4444444444444444,
              "#bd3786"
             ],
             [
              0.5555555555555556,
              "#d8576b"
             ],
             [
              0.6666666666666666,
              "#ed7953"
             ],
             [
              0.7777777777777778,
              "#fb9f3a"
             ],
             [
              0.8888888888888888,
              "#fdca26"
             ],
             [
              1,
              "#f0f921"
             ]
            ],
            "type": "histogram2dcontour"
           }
          ],
          "mesh3d": [
           {
            "colorbar": {
             "outlinewidth": 0,
             "ticks": ""
            },
            "type": "mesh3d"
           }
          ],
          "parcoords": [
           {
            "line": {
             "colorbar": {
              "outlinewidth": 0,
              "ticks": ""
             }
            },
            "type": "parcoords"
           }
          ],
          "scatter": [
           {
            "marker": {
             "colorbar": {
              "outlinewidth": 0,
              "ticks": ""
             }
            },
            "type": "scatter"
           }
          ],
          "scatter3d": [
           {
            "line": {
             "colorbar": {
              "outlinewidth": 0,
              "ticks": ""
             }
            },
            "marker": {
             "colorbar": {
              "outlinewidth": 0,
              "ticks": ""
             }
            },
            "type": "scatter3d"
           }
          ],
          "scattercarpet": [
           {
            "marker": {
             "colorbar": {
              "outlinewidth": 0,
              "ticks": ""
             }
            },
            "type": "scattercarpet"
           }
          ],
          "scattergeo": [
           {
            "marker": {
             "colorbar": {
              "outlinewidth": 0,
              "ticks": ""
             }
            },
            "type": "scattergeo"
           }
          ],
          "scattergl": [
           {
            "marker": {
             "colorbar": {
              "outlinewidth": 0,
              "ticks": ""
             }
            },
            "type": "scattergl"
           }
          ],
          "scattermapbox": [
           {
            "marker": {
             "colorbar": {
              "outlinewidth": 0,
              "ticks": ""
             }
            },
            "type": "scattermapbox"
           }
          ],
          "scatterpolar": [
           {
            "marker": {
             "colorbar": {
              "outlinewidth": 0,
              "ticks": ""
             }
            },
            "type": "scatterpolar"
           }
          ],
          "scatterpolargl": [
           {
            "marker": {
             "colorbar": {
              "outlinewidth": 0,
              "ticks": ""
             }
            },
            "type": "scatterpolargl"
           }
          ],
          "scatterternary": [
           {
            "marker": {
             "colorbar": {
              "outlinewidth": 0,
              "ticks": ""
             }
            },
            "type": "scatterternary"
           }
          ],
          "surface": [
           {
            "colorbar": {
             "outlinewidth": 0,
             "ticks": ""
            },
            "colorscale": [
             [
              0,
              "#0d0887"
             ],
             [
              0.1111111111111111,
              "#46039f"
             ],
             [
              0.2222222222222222,
              "#7201a8"
             ],
             [
              0.3333333333333333,
              "#9c179e"
             ],
             [
              0.4444444444444444,
              "#bd3786"
             ],
             [
              0.5555555555555556,
              "#d8576b"
             ],
             [
              0.6666666666666666,
              "#ed7953"
             ],
             [
              0.7777777777777778,
              "#fb9f3a"
             ],
             [
              0.8888888888888888,
              "#fdca26"
             ],
             [
              1,
              "#f0f921"
             ]
            ],
            "type": "surface"
           }
          ],
          "table": [
           {
            "cells": {
             "fill": {
              "color": "#EBF0F8"
             },
             "line": {
              "color": "white"
             }
            },
            "header": {
             "fill": {
              "color": "#C8D4E3"
             },
             "line": {
              "color": "white"
             }
            },
            "type": "table"
           }
          ]
         },
         "layout": {
          "annotationdefaults": {
           "arrowcolor": "#2a3f5f",
           "arrowhead": 0,
           "arrowwidth": 1
          },
          "colorscale": {
           "diverging": [
            [
             0,
             "#8e0152"
            ],
            [
             0.1,
             "#c51b7d"
            ],
            [
             0.2,
             "#de77ae"
            ],
            [
             0.3,
             "#f1b6da"
            ],
            [
             0.4,
             "#fde0ef"
            ],
            [
             0.5,
             "#f7f7f7"
            ],
            [
             0.6,
             "#e6f5d0"
            ],
            [
             0.7,
             "#b8e186"
            ],
            [
             0.8,
             "#7fbc41"
            ],
            [
             0.9,
             "#4d9221"
            ],
            [
             1,
             "#276419"
            ]
           ],
           "sequential": [
            [
             0,
             "#0d0887"
            ],
            [
             0.1111111111111111,
             "#46039f"
            ],
            [
             0.2222222222222222,
             "#7201a8"
            ],
            [
             0.3333333333333333,
             "#9c179e"
            ],
            [
             0.4444444444444444,
             "#bd3786"
            ],
            [
             0.5555555555555556,
             "#d8576b"
            ],
            [
             0.6666666666666666,
             "#ed7953"
            ],
            [
             0.7777777777777778,
             "#fb9f3a"
            ],
            [
             0.8888888888888888,
             "#fdca26"
            ],
            [
             1,
             "#f0f921"
            ]
           ],
           "sequentialminus": [
            [
             0,
             "#0d0887"
            ],
            [
             0.1111111111111111,
             "#46039f"
            ],
            [
             0.2222222222222222,
             "#7201a8"
            ],
            [
             0.3333333333333333,
             "#9c179e"
            ],
            [
             0.4444444444444444,
             "#bd3786"
            ],
            [
             0.5555555555555556,
             "#d8576b"
            ],
            [
             0.6666666666666666,
             "#ed7953"
            ],
            [
             0.7777777777777778,
             "#fb9f3a"
            ],
            [
             0.8888888888888888,
             "#fdca26"
            ],
            [
             1,
             "#f0f921"
            ]
           ]
          },
          "colorway": [
           "#636efa",
           "#EF553B",
           "#00cc96",
           "#ab63fa",
           "#FFA15A",
           "#19d3f3",
           "#FF6692",
           "#B6E880",
           "#FF97FF",
           "#FECB52"
          ],
          "font": {
           "color": "#2a3f5f"
          },
          "geo": {
           "bgcolor": "white",
           "lakecolor": "white",
           "landcolor": "#E5ECF6",
           "showlakes": true,
           "showland": true,
           "subunitcolor": "white"
          },
          "hoverlabel": {
           "align": "left"
          },
          "hovermode": "closest",
          "mapbox": {
           "style": "light"
          },
          "paper_bgcolor": "white",
          "plot_bgcolor": "#E5ECF6",
          "polar": {
           "angularaxis": {
            "gridcolor": "white",
            "linecolor": "white",
            "ticks": ""
           },
           "bgcolor": "#E5ECF6",
           "radialaxis": {
            "gridcolor": "white",
            "linecolor": "white",
            "ticks": ""
           }
          },
          "scene": {
           "xaxis": {
            "backgroundcolor": "#E5ECF6",
            "gridcolor": "white",
            "gridwidth": 2,
            "linecolor": "white",
            "showbackground": true,
            "ticks": "",
            "zerolinecolor": "white"
           },
           "yaxis": {
            "backgroundcolor": "#E5ECF6",
            "gridcolor": "white",
            "gridwidth": 2,
            "linecolor": "white",
            "showbackground": true,
            "ticks": "",
            "zerolinecolor": "white"
           },
           "zaxis": {
            "backgroundcolor": "#E5ECF6",
            "gridcolor": "white",
            "gridwidth": 2,
            "linecolor": "white",
            "showbackground": true,
            "ticks": "",
            "zerolinecolor": "white"
           }
          },
          "shapedefaults": {
           "line": {
            "color": "#2a3f5f"
           }
          },
          "ternary": {
           "aaxis": {
            "gridcolor": "white",
            "linecolor": "white",
            "ticks": ""
           },
           "baxis": {
            "gridcolor": "white",
            "linecolor": "white",
            "ticks": ""
           },
           "bgcolor": "#E5ECF6",
           "caxis": {
            "gridcolor": "white",
            "linecolor": "white",
            "ticks": ""
           }
          },
          "title": {
           "x": 0.05
          },
          "xaxis": {
           "automargin": true,
           "gridcolor": "white",
           "linecolor": "white",
           "ticks": "",
           "zerolinecolor": "white",
           "zerolinewidth": 2
          },
          "yaxis": {
           "automargin": true,
           "gridcolor": "white",
           "linecolor": "white",
           "ticks": "",
           "zerolinecolor": "white",
           "zerolinewidth": 2
          }
         }
        }
       }
      },
      "text/html": [
       "<div>\n",
       "        \n",
       "        \n",
       "            <div id=\"8214c36b-ca41-4f09-9086-cd1d04aa6435\" class=\"plotly-graph-div\" style=\"height:525px; width:100%;\"></div>\n",
       "            <script type=\"text/javascript\">\n",
       "                require([\"plotly\"], function(Plotly) {\n",
       "                    window.PLOTLYENV=window.PLOTLYENV || {};\n",
       "                    \n",
       "                if (document.getElementById(\"8214c36b-ca41-4f09-9086-cd1d04aa6435\")) {\n",
       "                    Plotly.newPlot(\n",
       "                        '8214c36b-ca41-4f09-9086-cd1d04aa6435',\n",
       "                        [{\"line\": {\"shape\": \"spline\"}, \"mode\": \"lines\", \"name\": \"offline_4,5,6_tuwen\", \"type\": \"scatter\", \"x\": [290, 295, 296, 297, 298, 299, 300, 301, 302, 303, 304, 305, 306, 307, 308, 309, 310, 311, 312, 314, 315, 316, 317, 318, 319, 320, 321, 322, 323, 324, 325, 326, 327, 328, 329, 330, 331, 332, 333, 334, 335, 336, 338, 339, 340, 341, 342, 343, 344, 345, 346, 347, 348, 349, 350, 351, 352, 354, 355, 356, 359, 361, 358, 357, 362, 363, 364, 365, 366, 353, 367, 368, 369, 370, 371, 372, 373, 374, 375, 376, 377, 378, 379, 380, 381, 382, 383, 384, 385, 386, 387, 388, 390, 391, 392, 393, 394, 395, 396, 397, 398, 399, 400, 401, 402, 403, 404, 405, 406, 407, 408, 409, 410, 411, 412, 413, 415, 416, 417, 418, 419, 420, 421, 422, 423, 424, 425, 426, 427, 428, 429, 430, 431, 432, 433, 434, 435, 436, 437, 438, 439, 440, 441, 442, 443, 444, 445, 446, 447, 448, 449, 450, 451, 452, 453, 454, 455, 456, 457, 458, 459, 460, 461, 462, 463, 464, 465, 466, 467, 468, 469, 470, 471, 472, 473, 474, 475, 476, 477, 478, 479, 480, 481, 482, 483, 484, 485, 486, 487, 488, 489, 490, 491, 492, 493, 494, 495, 496, 497, 498, 499, 500, 501, 502, 503, 504, 505, 506, 507, 508, 509, 510, 511, 512, 513, 514, 515, 516, 517, 518, 519, 520, 521, 522, 523, 524, 525, 526, 527, 528, 529, 530, 531, 532, 533, 535, 536, 537, 538, 539, 540, 541, 542, 543, 544, 545, 546, 547, 548, 549, 550, 551, 552, 553, 554, 555, 556, 557, 558, 559, 560], \"y\": [0.13439, 0.07671, 0.07653, 0.0792, 0.07951, 0.0803, 0.13303, 0.1351, 0.1376, 0.13905, 0.1441, 0.14821, 0.15274, 0.15417, 0.14234, 0.13777, 0.13352, 0.12839, 0.12373, 0.1187, 0.12406, 0.12057, 0.12042, 0.11858, 0.11352, 0.11824, 0.12193, 0.11975, 0.12177, 0.1227, 0.12502, 0.13018, 0.13577, 0.13929, 0.14019, 0.1445, 0.14413, 0.14291, 0.13224, 0.13058, 0.12891, 0.1251, 0.11862, 0.12068, 0.11907, 0.11615, 0.11367, 0.11387, 0.11186, 0.11316, 0.115, 0.11478, 0.12002, 0.11704, 0.11723, 0.12493, 0.138, 0.13537, 0.13434, 0.12438, 0.11906, 0.116, 0.11836, 0.11596, 0.1192, 0.12084, 0.11307, 0.11181, 0.10831, 0.00514, 0.10711, 0.10801, 0.11259, 0.11327, 0.11413, 0.11498, 0.11697, 0.12101, 0.12997, 0.13259, 0.12613, 0.14289, 0.13897, 0.1301, 0.12249, 0.12338, 0.12283, 0.11787, 0.11094, 0.11915, 0.1205, 0.11463, 0.10053, 0.11144, 0.11444, 0.11725, 0.11815, 0.12106, 0.12714, 0.12207, 0.1286, 0.13217, 0.13683, 0.14254, 0.14353, 0.14448, 0.13314, 0.12572, 0.12499, 0.12438, 0.1192, 0.11635, 0.12445, 0.12618, 0.12001, 0.11845, 0.11136, 0.11439, 0.1139, 0.12089, 0.12389, 0.12646, 0.12834, 0.12825, 0.13888, 0.14034, 0.14469, 0.14263, 0.14774, 0.13668, 0.12836, 0.12566, 0.1248, 0.12171, 0.11657, 0.12036, 0.1172, 0.12114, 0.12119, 0.1164, 0.11332, 0.11518, 0.11297, 0.11961, 0.12169, 0.12594, 0.12763, 0.13171, 0.13678, 0.14161, 0.14748, 0.1512, 0.14786, 0.13389, 0.12703, 0.12479, 0.12371, 0.11714, 0.11372, 0.12061, 0.12102, 0.11879, 0.11373, 0.11934, 0.10887, 0.11021, 0.13436, 0.13852, 0.10479, 0.14033, 0.14106, 0.13842, 0.13679, 0.13198, 0.12854, 0.13367, 0.13673, 0.14604, 0.14852, 0.15248, 0.14714, 0.14351, 0.13884, 0.14537, 0.14364, 0.14131, 0.14113, 0.14156, 0.14176, 0.14037, 0.13791, 0.13742, 0.13575, 0.14123, 0.13762, 0.14136, 0.13829, 0.13942, 0.12548, 0.11706, 0.13045, 0.14624, 0.14773, 0.14773, 0.14446, 0.14035, 0.13849, 0.1418, 0.13673, 0.13598, 0.11769, 0.126, 0.13077, 0.1365, 0.13417, 0.13224, 0.13399, 0.13441, 0.13294, 0.13349, 0.13019, 0.12518, 0.1225, 0.12288, 0.13289, 0.13876, 0.13622, 0.13906, 0.1355, 0.13282, 0.12768, 0.13281, 0.13105, 0.12675, 0.12446, 0.12306, 0.12537, 0.12584, 0.12887, 0.13066, 0.13514, 0.1368, 0.14282, 0.14172, 0.14217, 0.14798, 0.1455, 0.1531, 0.14998, 0.15079, 0.14686, 0.14533, 0.14113, 0.14036, 0.14156, 0.13757, 0.1302, 0.12267, 0.12327, 0.12966, 0.13502]}, {\"line\": {\"shape\": \"spline\"}, \"mode\": \"lines\", \"name\": \"offline_4,5,6_tuwen2\", \"type\": \"scatter\", \"x\": [501, 502, 503, 504, 505, 506, 507, 508, 509, 510, 511, 512, 513, 514, 515, 516, 517, 518, 519, 520, 521, 522, 523, 524, 525, 526, 527, 528, 529, 530, 531, 532, 533, 535, 536, 537, 538, 539, 540, 541, 542, 543, 544, 545, 546, 547, 548, 549, 550, 551, 552, 553, 554, 555, 556, 557, 558, 559, 560], \"y\": [0.14773, 0.14773, 0.14446, 0.14035, 0.13849, 0.1418, 0.13673, 0.13598, 0.11769, 0.126, 0.13077, 0.1365, 0.13417, 0.13224, 0.13399, 0.13441, 0.13294, 0.13349, 0.13019, 0.12518, 0.1225, 0.12288, 0.13289, 0.13876, 0.13622, 0.13906, 0.1355, 0.13282, 0.12768, 0.13281, 0.13105, 0.12675, 0.12446, 0.12306, 0.12537, 0.12584, 0.12887, 0.13066, 0.13514, 0.1368, 0.14282, 0.14172, 0.14217, 0.14798, 0.1455, 0.1531, 0.14998, 0.15079, 0.14686, 0.14533, 0.14113, 0.14036, 0.14156, 0.13757, 0.1302, 0.12267, 0.12327, 0.12966, 0.13502]}],\n",
       "                        {\"template\": {\"data\": {\"bar\": [{\"error_x\": {\"color\": \"#2a3f5f\"}, \"error_y\": {\"color\": \"#2a3f5f\"}, \"marker\": {\"line\": {\"color\": \"#E5ECF6\", \"width\": 0.5}}, \"type\": \"bar\"}], \"barpolar\": [{\"marker\": {\"line\": {\"color\": \"#E5ECF6\", \"width\": 0.5}}, \"type\": \"barpolar\"}], \"carpet\": [{\"aaxis\": {\"endlinecolor\": \"#2a3f5f\", \"gridcolor\": \"white\", \"linecolor\": \"white\", \"minorgridcolor\": \"white\", \"startlinecolor\": \"#2a3f5f\"}, \"baxis\": {\"endlinecolor\": \"#2a3f5f\", \"gridcolor\": \"white\", \"linecolor\": \"white\", \"minorgridcolor\": \"white\", \"startlinecolor\": \"#2a3f5f\"}, \"type\": \"carpet\"}], \"choropleth\": [{\"colorbar\": {\"outlinewidth\": 0, \"ticks\": \"\"}, \"type\": \"choropleth\"}], \"contour\": [{\"colorbar\": {\"outlinewidth\": 0, \"ticks\": \"\"}, \"colorscale\": [[0.0, \"#0d0887\"], [0.1111111111111111, \"#46039f\"], [0.2222222222222222, \"#7201a8\"], [0.3333333333333333, \"#9c179e\"], [0.4444444444444444, \"#bd3786\"], [0.5555555555555556, \"#d8576b\"], [0.6666666666666666, \"#ed7953\"], [0.7777777777777778, \"#fb9f3a\"], [0.8888888888888888, \"#fdca26\"], [1.0, \"#f0f921\"]], \"type\": \"contour\"}], \"contourcarpet\": [{\"colorbar\": {\"outlinewidth\": 0, \"ticks\": \"\"}, \"type\": \"contourcarpet\"}], \"heatmap\": [{\"colorbar\": {\"outlinewidth\": 0, \"ticks\": \"\"}, \"colorscale\": [[0.0, \"#0d0887\"], [0.1111111111111111, \"#46039f\"], [0.2222222222222222, \"#7201a8\"], [0.3333333333333333, \"#9c179e\"], [0.4444444444444444, \"#bd3786\"], [0.5555555555555556, \"#d8576b\"], [0.6666666666666666, \"#ed7953\"], [0.7777777777777778, \"#fb9f3a\"], [0.8888888888888888, \"#fdca26\"], [1.0, \"#f0f921\"]], \"type\": \"heatmap\"}], \"heatmapgl\": [{\"colorbar\": {\"outlinewidth\": 0, \"ticks\": \"\"}, \"colorscale\": [[0.0, \"#0d0887\"], [0.1111111111111111, \"#46039f\"], [0.2222222222222222, \"#7201a8\"], [0.3333333333333333, \"#9c179e\"], [0.4444444444444444, \"#bd3786\"], [0.5555555555555556, \"#d8576b\"], [0.6666666666666666, \"#ed7953\"], [0.7777777777777778, \"#fb9f3a\"], [0.8888888888888888, \"#fdca26\"], [1.0, \"#f0f921\"]], \"type\": \"heatmapgl\"}], \"histogram\": [{\"marker\": {\"colorbar\": {\"outlinewidth\": 0, \"ticks\": \"\"}}, \"type\": \"histogram\"}], \"histogram2d\": [{\"colorbar\": {\"outlinewidth\": 0, \"ticks\": \"\"}, \"colorscale\": [[0.0, \"#0d0887\"], [0.1111111111111111, \"#46039f\"], [0.2222222222222222, \"#7201a8\"], [0.3333333333333333, \"#9c179e\"], [0.4444444444444444, \"#bd3786\"], [0.5555555555555556, \"#d8576b\"], [0.6666666666666666, \"#ed7953\"], [0.7777777777777778, \"#fb9f3a\"], [0.8888888888888888, \"#fdca26\"], [1.0, \"#f0f921\"]], \"type\": \"histogram2d\"}], \"histogram2dcontour\": [{\"colorbar\": {\"outlinewidth\": 0, \"ticks\": \"\"}, \"colorscale\": [[0.0, \"#0d0887\"], [0.1111111111111111, \"#46039f\"], [0.2222222222222222, \"#7201a8\"], [0.3333333333333333, \"#9c179e\"], [0.4444444444444444, \"#bd3786\"], [0.5555555555555556, \"#d8576b\"], [0.6666666666666666, \"#ed7953\"], [0.7777777777777778, \"#fb9f3a\"], [0.8888888888888888, \"#fdca26\"], [1.0, \"#f0f921\"]], \"type\": \"histogram2dcontour\"}], \"mesh3d\": [{\"colorbar\": {\"outlinewidth\": 0, \"ticks\": \"\"}, \"type\": \"mesh3d\"}], \"parcoords\": [{\"line\": {\"colorbar\": {\"outlinewidth\": 0, \"ticks\": \"\"}}, \"type\": \"parcoords\"}], \"scatter\": [{\"marker\": {\"colorbar\": {\"outlinewidth\": 0, \"ticks\": \"\"}}, \"type\": \"scatter\"}], \"scatter3d\": [{\"line\": {\"colorbar\": {\"outlinewidth\": 0, \"ticks\": \"\"}}, \"marker\": {\"colorbar\": {\"outlinewidth\": 0, \"ticks\": \"\"}}, \"type\": \"scatter3d\"}], \"scattercarpet\": [{\"marker\": {\"colorbar\": {\"outlinewidth\": 0, \"ticks\": \"\"}}, \"type\": \"scattercarpet\"}], \"scattergeo\": [{\"marker\": {\"colorbar\": {\"outlinewidth\": 0, \"ticks\": \"\"}}, \"type\": \"scattergeo\"}], \"scattergl\": [{\"marker\": {\"colorbar\": {\"outlinewidth\": 0, \"ticks\": \"\"}}, \"type\": \"scattergl\"}], \"scattermapbox\": [{\"marker\": {\"colorbar\": {\"outlinewidth\": 0, \"ticks\": \"\"}}, \"type\": \"scattermapbox\"}], \"scatterpolar\": [{\"marker\": {\"colorbar\": {\"outlinewidth\": 0, \"ticks\": \"\"}}, \"type\": \"scatterpolar\"}], \"scatterpolargl\": [{\"marker\": {\"colorbar\": {\"outlinewidth\": 0, \"ticks\": \"\"}}, \"type\": \"scatterpolargl\"}], \"scatterternary\": [{\"marker\": {\"colorbar\": {\"outlinewidth\": 0, \"ticks\": \"\"}}, \"type\": \"scatterternary\"}], \"surface\": [{\"colorbar\": {\"outlinewidth\": 0, \"ticks\": \"\"}, \"colorscale\": [[0.0, \"#0d0887\"], [0.1111111111111111, \"#46039f\"], [0.2222222222222222, \"#7201a8\"], [0.3333333333333333, \"#9c179e\"], [0.4444444444444444, \"#bd3786\"], [0.5555555555555556, \"#d8576b\"], [0.6666666666666666, \"#ed7953\"], [0.7777777777777778, \"#fb9f3a\"], [0.8888888888888888, \"#fdca26\"], [1.0, \"#f0f921\"]], \"type\": \"surface\"}], \"table\": [{\"cells\": {\"fill\": {\"color\": \"#EBF0F8\"}, \"line\": {\"color\": \"white\"}}, \"header\": {\"fill\": {\"color\": \"#C8D4E3\"}, \"line\": {\"color\": \"white\"}}, \"type\": \"table\"}]}, \"layout\": {\"annotationdefaults\": {\"arrowcolor\": \"#2a3f5f\", \"arrowhead\": 0, \"arrowwidth\": 1}, \"colorscale\": {\"diverging\": [[0, \"#8e0152\"], [0.1, \"#c51b7d\"], [0.2, \"#de77ae\"], [0.3, \"#f1b6da\"], [0.4, \"#fde0ef\"], [0.5, \"#f7f7f7\"], [0.6, \"#e6f5d0\"], [0.7, \"#b8e186\"], [0.8, \"#7fbc41\"], [0.9, \"#4d9221\"], [1, \"#276419\"]], \"sequential\": [[0.0, \"#0d0887\"], [0.1111111111111111, \"#46039f\"], [0.2222222222222222, \"#7201a8\"], [0.3333333333333333, \"#9c179e\"], [0.4444444444444444, \"#bd3786\"], [0.5555555555555556, \"#d8576b\"], [0.6666666666666666, \"#ed7953\"], [0.7777777777777778, \"#fb9f3a\"], [0.8888888888888888, \"#fdca26\"], [1.0, \"#f0f921\"]], \"sequentialminus\": [[0.0, \"#0d0887\"], [0.1111111111111111, \"#46039f\"], [0.2222222222222222, \"#7201a8\"], [0.3333333333333333, \"#9c179e\"], [0.4444444444444444, \"#bd3786\"], [0.5555555555555556, \"#d8576b\"], [0.6666666666666666, \"#ed7953\"], [0.7777777777777778, \"#fb9f3a\"], [0.8888888888888888, \"#fdca26\"], [1.0, \"#f0f921\"]]}, \"colorway\": [\"#636efa\", \"#EF553B\", \"#00cc96\", \"#ab63fa\", \"#FFA15A\", \"#19d3f3\", \"#FF6692\", \"#B6E880\", \"#FF97FF\", \"#FECB52\"], \"font\": {\"color\": \"#2a3f5f\"}, \"geo\": {\"bgcolor\": \"white\", \"lakecolor\": \"white\", \"landcolor\": \"#E5ECF6\", \"showlakes\": true, \"showland\": true, \"subunitcolor\": \"white\"}, \"hoverlabel\": {\"align\": \"left\"}, \"hovermode\": \"closest\", \"mapbox\": {\"style\": \"light\"}, \"paper_bgcolor\": \"white\", \"plot_bgcolor\": \"#E5ECF6\", \"polar\": {\"angularaxis\": {\"gridcolor\": \"white\", \"linecolor\": \"white\", \"ticks\": \"\"}, \"bgcolor\": \"#E5ECF6\", \"radialaxis\": {\"gridcolor\": \"white\", \"linecolor\": \"white\", \"ticks\": \"\"}}, \"scene\": {\"xaxis\": {\"backgroundcolor\": \"#E5ECF6\", \"gridcolor\": \"white\", \"gridwidth\": 2, \"linecolor\": \"white\", \"showbackground\": true, \"ticks\": \"\", \"zerolinecolor\": \"white\"}, \"yaxis\": {\"backgroundcolor\": \"#E5ECF6\", \"gridcolor\": \"white\", \"gridwidth\": 2, \"linecolor\": \"white\", \"showbackground\": true, \"ticks\": \"\", \"zerolinecolor\": \"white\"}, \"zaxis\": {\"backgroundcolor\": \"#E5ECF6\", \"gridcolor\": \"white\", \"gridwidth\": 2, \"linecolor\": \"white\", \"showbackground\": true, \"ticks\": \"\", \"zerolinecolor\": \"white\"}}, \"shapedefaults\": {\"line\": {\"color\": \"#2a3f5f\"}}, \"ternary\": {\"aaxis\": {\"gridcolor\": \"white\", \"linecolor\": \"white\", \"ticks\": \"\"}, \"baxis\": {\"gridcolor\": \"white\", \"linecolor\": \"white\", \"ticks\": \"\"}, \"bgcolor\": \"#E5ECF6\", \"caxis\": {\"gridcolor\": \"white\", \"linecolor\": \"white\", \"ticks\": \"\"}}, \"title\": {\"x\": 0.05}, \"xaxis\": {\"automargin\": true, \"gridcolor\": \"white\", \"linecolor\": \"white\", \"ticks\": \"\", \"zerolinecolor\": \"white\", \"zerolinewidth\": 2}, \"yaxis\": {\"automargin\": true, \"gridcolor\": \"white\", \"linecolor\": \"white\", \"ticks\": \"\", \"zerolinecolor\": \"white\", \"zerolinewidth\": 2}}}},\n",
       "                        {\"responsive\": true}\n",
       "                    ).then(function(){\n",
       "                            \n",
       "var gd = document.getElementById('8214c36b-ca41-4f09-9086-cd1d04aa6435');\n",
       "var x = new MutationObserver(function (mutations, observer) {{\n",
       "        var display = window.getComputedStyle(gd).display;\n",
       "        if (!display || display === 'none') {{\n",
       "            console.log([gd, 'removed!']);\n",
       "            Plotly.purge(gd);\n",
       "            observer.disconnect();\n",
       "        }}\n",
       "}});\n",
       "\n",
       "// Listen for the removal of the full notebook cells\n",
       "var notebookContainer = gd.closest('#notebook-container');\n",
       "if (notebookContainer) {{\n",
       "    x.observe(notebookContainer, {childList: true});\n",
       "}}\n",
       "\n",
       "// Listen for the clearing of the current output cell\n",
       "var outputEl = gd.closest('.output');\n",
       "if (outputEl) {{\n",
       "    x.observe(outputEl, {childList: true});\n",
       "}}\n",
       "\n",
       "                        })\n",
       "                };\n",
       "                });\n",
       "            </script>\n",
       "        </div>"
      ]
     },
     "metadata": {},
     "output_type": "display_data"
    }
   ],
   "source": [
    "show('pos_ratio')"
   ]
  },
  {
   "cell_type": "code",
   "execution_count": 27,
   "metadata": {},
   "outputs": [
    {
     "data": {
      "application/vnd.plotly.v1+json": {
       "config": {
        "linkText": "Export to plot.ly",
        "plotlyServerURL": "https://plot.ly",
        "showLink": false
       },
       "data": [
        {
         "line": {
          "shape": "spline"
         },
         "mode": "lines",
         "name": "offline_4,5,6_tuwen",
         "type": "scatter",
         "x": [
          290,
          295,
          296,
          297,
          298,
          299,
          300,
          301,
          302,
          303,
          304,
          305,
          306,
          307,
          308,
          309,
          310,
          311,
          312,
          314,
          315,
          316,
          317,
          318,
          319,
          320,
          321,
          322,
          323,
          324,
          325,
          326,
          327,
          328,
          329,
          330,
          331,
          332,
          333,
          334,
          335,
          336,
          338,
          339,
          340,
          341,
          342,
          343,
          344,
          345,
          346,
          347,
          348,
          349,
          350,
          351,
          352,
          354,
          355,
          356,
          359,
          361,
          358,
          357,
          362,
          363,
          364,
          365,
          366,
          353,
          367,
          368,
          369,
          370,
          371,
          372,
          373,
          374,
          375,
          376,
          377,
          378,
          379,
          380,
          381,
          382,
          383,
          384,
          385,
          386,
          387,
          388,
          390,
          391,
          392,
          393,
          394,
          395,
          396,
          397,
          398,
          399,
          400,
          401,
          402,
          403,
          404,
          405,
          406,
          407,
          408,
          409,
          410,
          411,
          412,
          413,
          415,
          416,
          417,
          418,
          419,
          420,
          421,
          422,
          423,
          424,
          425,
          426,
          427,
          428,
          429,
          430,
          431,
          432,
          433,
          434,
          435,
          436,
          437,
          438,
          439,
          440,
          441,
          442,
          443,
          444,
          445,
          446,
          447,
          448,
          449,
          450,
          451,
          452,
          453,
          454,
          455,
          456,
          457,
          458,
          459,
          460,
          461,
          462,
          463,
          464,
          465,
          466,
          467,
          468,
          469,
          470,
          471,
          472,
          473,
          474,
          475,
          476,
          477,
          478,
          479,
          480,
          481,
          482,
          483,
          484,
          485,
          486,
          487,
          488,
          489,
          490,
          491,
          492,
          493,
          494,
          495,
          496,
          497,
          498,
          499,
          500,
          501,
          502,
          503,
          504,
          505,
          506,
          507,
          508,
          509,
          510,
          511,
          512,
          513,
          514,
          515,
          516,
          517,
          518,
          519,
          520,
          521,
          522,
          523,
          524,
          525,
          526,
          527,
          528,
          529,
          530,
          531,
          532,
          533,
          535,
          536,
          537,
          538,
          539,
          540,
          541,
          542,
          543,
          544,
          545,
          546,
          547,
          548,
          549,
          550,
          551,
          552,
          553,
          554,
          555,
          556,
          557,
          558,
          559,
          560
         ],
         "y": [
          0.69183,
          0.68108,
          0.67909,
          0.67943,
          0.67727,
          0.67527,
          0.67769,
          0.68159,
          0.70036,
          0.70403,
          0.70198,
          0.7023,
          0.70335,
          0.69005,
          0.69253,
          0.68598,
          0.68813,
          0.68666,
          0.68886,
          0.68802,
          0.68745,
          0.68437,
          0.68974,
          0.68571,
          0.68533,
          0.68768,
          0.67623,
          0.67827,
          0.67924,
          0.67683,
          0.67864,
          0.68807,
          0.69041,
          0.7008,
          0.71375,
          0.71356,
          0.70097,
          0.6965,
          0.68434,
          0.68423,
          0.68828,
          0.68511,
          0.68865,
          0.68598,
          0.687,
          0.68641,
          0.68751,
          0.68854,
          0.68442,
          0.68362,
          0.68602,
          0.67979,
          0.67475,
          0.67892,
          0.69354,
          0.6976,
          0.71121,
          0.71953,
          0.70618,
          0.69021,
          0.69327,
          0.6942,
          0.69803,
          0.69059,
          0.68393,
          0.67911,
          0.68352,
          0.69043,
          0.68466,
          0.68695,
          0.62708,
          0.67823,
          0.68234,
          0.67601,
          0.68116,
          0.68714,
          0.69033,
          0.70046,
          0.71147,
          0.717,
          0.74279,
          0.7241,
          0.70865,
          0.70809,
          0.70173,
          0.70661,
          0.70435,
          0.69928,
          0.70275,
          0.69708,
          0.68661,
          0.68837,
          0.68268,
          0.69033,
          0.69616,
          0.69262,
          0.68594,
          0.6863,
          0.69069,
          0.69412,
          0.70069,
          0.70601,
          0.7172,
          0.72222,
          0.72,
          0.71254,
          0.7041,
          0.70845,
          0.69451,
          0.69603,
          0.69675,
          0.69545,
          0.69638,
          0.69113,
          0.68558,
          0.68797,
          0.69472,
          0.68891,
          0.68334,
          0.68123,
          0.67792,
          0.67648,
          0.67269,
          0.69187,
          0.69426,
          0.69823,
          0.70357,
          0.70321,
          0.69493,
          0.6883,
          0.68493,
          0.68094,
          0.68485,
          0.67721,
          0.67321,
          0.67724,
          0.67288,
          0.67266,
          0.67515,
          0.68415,
          0.6807,
          0.67996,
          0.68008,
          0.67624,
          0.6763,
          0.66875,
          0.67146,
          0.67595,
          0.69566,
          0.69836,
          0.70809,
          0.70221,
          0.70537,
          0.69897,
          0.69237,
          0.68699,
          0.68453,
          0.68974,
          0.68426,
          0.68489,
          0.6876,
          0.6859,
          0.67676,
          0.68107,
          0.67983,
          0.68397,
          0.68435,
          0.68384,
          0.68883,
          0.6864,
          0.68824,
          0.68935,
          0.6937,
          0.69935,
          0.70257,
          0.70488,
          0.70327,
          0.7037,
          0.69547,
          0.69616,
          0.69954,
          0.69379,
          0.69451,
          0.69543,
          0.69067,
          0.68571,
          0.68477,
          0.67783,
          0.68239,
          0.68778,
          0.6792,
          0.68013,
          0.67839,
          0.68027,
          0.68233,
          0.68687,
          0.69252,
          0.69097,
          0.69803,
          0.70657,
          0.69025,
          0.68859,
          0.68664,
          0.68453,
          0.68282,
          0.68026,
          0.68369,
          0.6862,
          0.67821,
          0.67647,
          0.66727,
          0.66832,
          0.67769,
          0.68114,
          0.67703,
          0.68202,
          0.67709,
          0.68439,
          0.68394,
          0.69013,
          0.68919,
          0.70798,
          0.69583,
          0.70448,
          0.6994,
          0.68375,
          0.68976,
          0.68748,
          0.68928,
          0.68557,
          0.6754,
          0.68642,
          0.68435,
          0.68522,
          0.68765,
          0.68012,
          0.6767,
          0.67513,
          0.6846,
          0.68679,
          0.68476,
          0.68695,
          0.68388,
          0.69371,
          0.70942,
          0.7017,
          0.71083,
          0.69723,
          0.69102,
          0.6871,
          0.68986,
          0.68485,
          0.69235,
          0.68978,
          0.69039,
          0.68928,
          0.69213,
          0.68373,
          0.6923,
          0.69072,
          0.692
         ]
        },
        {
         "line": {
          "shape": "spline"
         },
         "mode": "lines",
         "name": "offline_4,5,6_tuwen2",
         "type": "scatter",
         "x": [
          501,
          502,
          503,
          504,
          505,
          506,
          507,
          508,
          509,
          510,
          511,
          512,
          513,
          514,
          515,
          516,
          517,
          518,
          519,
          520,
          521,
          522,
          523,
          524,
          525,
          526,
          527,
          528,
          529,
          530,
          531,
          532,
          533,
          535,
          536,
          537,
          538,
          539,
          540,
          541,
          542,
          543,
          544,
          545,
          546,
          547,
          548,
          549,
          550,
          551,
          552,
          553,
          554,
          555,
          556,
          557,
          558,
          559,
          560
         ],
         "y": [
          0.68168,
          0.67946,
          0.65003,
          0.65143,
          0.65844,
          0.66248,
          0.65992,
          0.65585,
          0.6512,
          0.65095,
          0.67238,
          0.67449,
          0.67282,
          0.67502,
          0.67221,
          0.67768,
          0.67699,
          0.68435,
          0.68486,
          0.70368,
          0.69561,
          0.70002,
          0.69472,
          0.68402,
          0.68722,
          0.68661,
          0.68669,
          0.68059,
          0.67277,
          0.68072,
          0.68171,
          0.67966,
          0.68313,
          0.67485,
          0.67156,
          0.66957,
          0.67038,
          0.67207,
          0.68529,
          0.68678,
          0.68431,
          0.69338,
          0.70973,
          0.7023,
          0.69879,
          0.68923,
          0.68101,
          0.67635,
          0.67835,
          0.6871,
          0.69417,
          0.69289,
          0.69154,
          0.69153,
          0.69451,
          0.68706,
          0.69422,
          0.69263,
          0.69358
         ]
        }
       ],
       "layout": {
        "template": {
         "data": {
          "bar": [
           {
            "error_x": {
             "color": "#2a3f5f"
            },
            "error_y": {
             "color": "#2a3f5f"
            },
            "marker": {
             "line": {
              "color": "#E5ECF6",
              "width": 0.5
             }
            },
            "type": "bar"
           }
          ],
          "barpolar": [
           {
            "marker": {
             "line": {
              "color": "#E5ECF6",
              "width": 0.5
             }
            },
            "type": "barpolar"
           }
          ],
          "carpet": [
           {
            "aaxis": {
             "endlinecolor": "#2a3f5f",
             "gridcolor": "white",
             "linecolor": "white",
             "minorgridcolor": "white",
             "startlinecolor": "#2a3f5f"
            },
            "baxis": {
             "endlinecolor": "#2a3f5f",
             "gridcolor": "white",
             "linecolor": "white",
             "minorgridcolor": "white",
             "startlinecolor": "#2a3f5f"
            },
            "type": "carpet"
           }
          ],
          "choropleth": [
           {
            "colorbar": {
             "outlinewidth": 0,
             "ticks": ""
            },
            "type": "choropleth"
           }
          ],
          "contour": [
           {
            "colorbar": {
             "outlinewidth": 0,
             "ticks": ""
            },
            "colorscale": [
             [
              0,
              "#0d0887"
             ],
             [
              0.1111111111111111,
              "#46039f"
             ],
             [
              0.2222222222222222,
              "#7201a8"
             ],
             [
              0.3333333333333333,
              "#9c179e"
             ],
             [
              0.4444444444444444,
              "#bd3786"
             ],
             [
              0.5555555555555556,
              "#d8576b"
             ],
             [
              0.6666666666666666,
              "#ed7953"
             ],
             [
              0.7777777777777778,
              "#fb9f3a"
             ],
             [
              0.8888888888888888,
              "#fdca26"
             ],
             [
              1,
              "#f0f921"
             ]
            ],
            "type": "contour"
           }
          ],
          "contourcarpet": [
           {
            "colorbar": {
             "outlinewidth": 0,
             "ticks": ""
            },
            "type": "contourcarpet"
           }
          ],
          "heatmap": [
           {
            "colorbar": {
             "outlinewidth": 0,
             "ticks": ""
            },
            "colorscale": [
             [
              0,
              "#0d0887"
             ],
             [
              0.1111111111111111,
              "#46039f"
             ],
             [
              0.2222222222222222,
              "#7201a8"
             ],
             [
              0.3333333333333333,
              "#9c179e"
             ],
             [
              0.4444444444444444,
              "#bd3786"
             ],
             [
              0.5555555555555556,
              "#d8576b"
             ],
             [
              0.6666666666666666,
              "#ed7953"
             ],
             [
              0.7777777777777778,
              "#fb9f3a"
             ],
             [
              0.8888888888888888,
              "#fdca26"
             ],
             [
              1,
              "#f0f921"
             ]
            ],
            "type": "heatmap"
           }
          ],
          "heatmapgl": [
           {
            "colorbar": {
             "outlinewidth": 0,
             "ticks": ""
            },
            "colorscale": [
             [
              0,
              "#0d0887"
             ],
             [
              0.1111111111111111,
              "#46039f"
             ],
             [
              0.2222222222222222,
              "#7201a8"
             ],
             [
              0.3333333333333333,
              "#9c179e"
             ],
             [
              0.4444444444444444,
              "#bd3786"
             ],
             [
              0.5555555555555556,
              "#d8576b"
             ],
             [
              0.6666666666666666,
              "#ed7953"
             ],
             [
              0.7777777777777778,
              "#fb9f3a"
             ],
             [
              0.8888888888888888,
              "#fdca26"
             ],
             [
              1,
              "#f0f921"
             ]
            ],
            "type": "heatmapgl"
           }
          ],
          "histogram": [
           {
            "marker": {
             "colorbar": {
              "outlinewidth": 0,
              "ticks": ""
             }
            },
            "type": "histogram"
           }
          ],
          "histogram2d": [
           {
            "colorbar": {
             "outlinewidth": 0,
             "ticks": ""
            },
            "colorscale": [
             [
              0,
              "#0d0887"
             ],
             [
              0.1111111111111111,
              "#46039f"
             ],
             [
              0.2222222222222222,
              "#7201a8"
             ],
             [
              0.3333333333333333,
              "#9c179e"
             ],
             [
              0.4444444444444444,
              "#bd3786"
             ],
             [
              0.5555555555555556,
              "#d8576b"
             ],
             [
              0.6666666666666666,
              "#ed7953"
             ],
             [
              0.7777777777777778,
              "#fb9f3a"
             ],
             [
              0.8888888888888888,
              "#fdca26"
             ],
             [
              1,
              "#f0f921"
             ]
            ],
            "type": "histogram2d"
           }
          ],
          "histogram2dcontour": [
           {
            "colorbar": {
             "outlinewidth": 0,
             "ticks": ""
            },
            "colorscale": [
             [
              0,
              "#0d0887"
             ],
             [
              0.1111111111111111,
              "#46039f"
             ],
             [
              0.2222222222222222,
              "#7201a8"
             ],
             [
              0.3333333333333333,
              "#9c179e"
             ],
             [
              0.4444444444444444,
              "#bd3786"
             ],
             [
              0.5555555555555556,
              "#d8576b"
             ],
             [
              0.6666666666666666,
              "#ed7953"
             ],
             [
              0.7777777777777778,
              "#fb9f3a"
             ],
             [
              0.8888888888888888,
              "#fdca26"
             ],
             [
              1,
              "#f0f921"
             ]
            ],
            "type": "histogram2dcontour"
           }
          ],
          "mesh3d": [
           {
            "colorbar": {
             "outlinewidth": 0,
             "ticks": ""
            },
            "type": "mesh3d"
           }
          ],
          "parcoords": [
           {
            "line": {
             "colorbar": {
              "outlinewidth": 0,
              "ticks": ""
             }
            },
            "type": "parcoords"
           }
          ],
          "scatter": [
           {
            "marker": {
             "colorbar": {
              "outlinewidth": 0,
              "ticks": ""
             }
            },
            "type": "scatter"
           }
          ],
          "scatter3d": [
           {
            "line": {
             "colorbar": {
              "outlinewidth": 0,
              "ticks": ""
             }
            },
            "marker": {
             "colorbar": {
              "outlinewidth": 0,
              "ticks": ""
             }
            },
            "type": "scatter3d"
           }
          ],
          "scattercarpet": [
           {
            "marker": {
             "colorbar": {
              "outlinewidth": 0,
              "ticks": ""
             }
            },
            "type": "scattercarpet"
           }
          ],
          "scattergeo": [
           {
            "marker": {
             "colorbar": {
              "outlinewidth": 0,
              "ticks": ""
             }
            },
            "type": "scattergeo"
           }
          ],
          "scattergl": [
           {
            "marker": {
             "colorbar": {
              "outlinewidth": 0,
              "ticks": ""
             }
            },
            "type": "scattergl"
           }
          ],
          "scattermapbox": [
           {
            "marker": {
             "colorbar": {
              "outlinewidth": 0,
              "ticks": ""
             }
            },
            "type": "scattermapbox"
           }
          ],
          "scatterpolar": [
           {
            "marker": {
             "colorbar": {
              "outlinewidth": 0,
              "ticks": ""
             }
            },
            "type": "scatterpolar"
           }
          ],
          "scatterpolargl": [
           {
            "marker": {
             "colorbar": {
              "outlinewidth": 0,
              "ticks": ""
             }
            },
            "type": "scatterpolargl"
           }
          ],
          "scatterternary": [
           {
            "marker": {
             "colorbar": {
              "outlinewidth": 0,
              "ticks": ""
             }
            },
            "type": "scatterternary"
           }
          ],
          "surface": [
           {
            "colorbar": {
             "outlinewidth": 0,
             "ticks": ""
            },
            "colorscale": [
             [
              0,
              "#0d0887"
             ],
             [
              0.1111111111111111,
              "#46039f"
             ],
             [
              0.2222222222222222,
              "#7201a8"
             ],
             [
              0.3333333333333333,
              "#9c179e"
             ],
             [
              0.4444444444444444,
              "#bd3786"
             ],
             [
              0.5555555555555556,
              "#d8576b"
             ],
             [
              0.6666666666666666,
              "#ed7953"
             ],
             [
              0.7777777777777778,
              "#fb9f3a"
             ],
             [
              0.8888888888888888,
              "#fdca26"
             ],
             [
              1,
              "#f0f921"
             ]
            ],
            "type": "surface"
           }
          ],
          "table": [
           {
            "cells": {
             "fill": {
              "color": "#EBF0F8"
             },
             "line": {
              "color": "white"
             }
            },
            "header": {
             "fill": {
              "color": "#C8D4E3"
             },
             "line": {
              "color": "white"
             }
            },
            "type": "table"
           }
          ]
         },
         "layout": {
          "annotationdefaults": {
           "arrowcolor": "#2a3f5f",
           "arrowhead": 0,
           "arrowwidth": 1
          },
          "colorscale": {
           "diverging": [
            [
             0,
             "#8e0152"
            ],
            [
             0.1,
             "#c51b7d"
            ],
            [
             0.2,
             "#de77ae"
            ],
            [
             0.3,
             "#f1b6da"
            ],
            [
             0.4,
             "#fde0ef"
            ],
            [
             0.5,
             "#f7f7f7"
            ],
            [
             0.6,
             "#e6f5d0"
            ],
            [
             0.7,
             "#b8e186"
            ],
            [
             0.8,
             "#7fbc41"
            ],
            [
             0.9,
             "#4d9221"
            ],
            [
             1,
             "#276419"
            ]
           ],
           "sequential": [
            [
             0,
             "#0d0887"
            ],
            [
             0.1111111111111111,
             "#46039f"
            ],
            [
             0.2222222222222222,
             "#7201a8"
            ],
            [
             0.3333333333333333,
             "#9c179e"
            ],
            [
             0.4444444444444444,
             "#bd3786"
            ],
            [
             0.5555555555555556,
             "#d8576b"
            ],
            [
             0.6666666666666666,
             "#ed7953"
            ],
            [
             0.7777777777777778,
             "#fb9f3a"
            ],
            [
             0.8888888888888888,
             "#fdca26"
            ],
            [
             1,
             "#f0f921"
            ]
           ],
           "sequentialminus": [
            [
             0,
             "#0d0887"
            ],
            [
             0.1111111111111111,
             "#46039f"
            ],
            [
             0.2222222222222222,
             "#7201a8"
            ],
            [
             0.3333333333333333,
             "#9c179e"
            ],
            [
             0.4444444444444444,
             "#bd3786"
            ],
            [
             0.5555555555555556,
             "#d8576b"
            ],
            [
             0.6666666666666666,
             "#ed7953"
            ],
            [
             0.7777777777777778,
             "#fb9f3a"
            ],
            [
             0.8888888888888888,
             "#fdca26"
            ],
            [
             1,
             "#f0f921"
            ]
           ]
          },
          "colorway": [
           "#636efa",
           "#EF553B",
           "#00cc96",
           "#ab63fa",
           "#FFA15A",
           "#19d3f3",
           "#FF6692",
           "#B6E880",
           "#FF97FF",
           "#FECB52"
          ],
          "font": {
           "color": "#2a3f5f"
          },
          "geo": {
           "bgcolor": "white",
           "lakecolor": "white",
           "landcolor": "#E5ECF6",
           "showlakes": true,
           "showland": true,
           "subunitcolor": "white"
          },
          "hoverlabel": {
           "align": "left"
          },
          "hovermode": "closest",
          "mapbox": {
           "style": "light"
          },
          "paper_bgcolor": "white",
          "plot_bgcolor": "#E5ECF6",
          "polar": {
           "angularaxis": {
            "gridcolor": "white",
            "linecolor": "white",
            "ticks": ""
           },
           "bgcolor": "#E5ECF6",
           "radialaxis": {
            "gridcolor": "white",
            "linecolor": "white",
            "ticks": ""
           }
          },
          "scene": {
           "xaxis": {
            "backgroundcolor": "#E5ECF6",
            "gridcolor": "white",
            "gridwidth": 2,
            "linecolor": "white",
            "showbackground": true,
            "ticks": "",
            "zerolinecolor": "white"
           },
           "yaxis": {
            "backgroundcolor": "#E5ECF6",
            "gridcolor": "white",
            "gridwidth": 2,
            "linecolor": "white",
            "showbackground": true,
            "ticks": "",
            "zerolinecolor": "white"
           },
           "zaxis": {
            "backgroundcolor": "#E5ECF6",
            "gridcolor": "white",
            "gridwidth": 2,
            "linecolor": "white",
            "showbackground": true,
            "ticks": "",
            "zerolinecolor": "white"
           }
          },
          "shapedefaults": {
           "line": {
            "color": "#2a3f5f"
           }
          },
          "ternary": {
           "aaxis": {
            "gridcolor": "white",
            "linecolor": "white",
            "ticks": ""
           },
           "baxis": {
            "gridcolor": "white",
            "linecolor": "white",
            "ticks": ""
           },
           "bgcolor": "#E5ECF6",
           "caxis": {
            "gridcolor": "white",
            "linecolor": "white",
            "ticks": ""
           }
          },
          "title": {
           "x": 0.05
          },
          "xaxis": {
           "automargin": true,
           "gridcolor": "white",
           "linecolor": "white",
           "ticks": "",
           "zerolinecolor": "white",
           "zerolinewidth": 2
          },
          "yaxis": {
           "automargin": true,
           "gridcolor": "white",
           "linecolor": "white",
           "ticks": "",
           "zerolinecolor": "white",
           "zerolinewidth": 2
          }
         }
        }
       }
      },
      "text/html": [
       "<div>\n",
       "        \n",
       "        \n",
       "            <div id=\"d1bf1338-74c2-478d-8937-16f0cf877755\" class=\"plotly-graph-div\" style=\"height:525px; width:100%;\"></div>\n",
       "            <script type=\"text/javascript\">\n",
       "                require([\"plotly\"], function(Plotly) {\n",
       "                    window.PLOTLYENV=window.PLOTLYENV || {};\n",
       "                    \n",
       "                if (document.getElementById(\"d1bf1338-74c2-478d-8937-16f0cf877755\")) {\n",
       "                    Plotly.newPlot(\n",
       "                        'd1bf1338-74c2-478d-8937-16f0cf877755',\n",
       "                        [{\"line\": {\"shape\": \"spline\"}, \"mode\": \"lines\", \"name\": \"offline_4,5,6_tuwen\", \"type\": \"scatter\", \"x\": [290, 295, 296, 297, 298, 299, 300, 301, 302, 303, 304, 305, 306, 307, 308, 309, 310, 311, 312, 314, 315, 316, 317, 318, 319, 320, 321, 322, 323, 324, 325, 326, 327, 328, 329, 330, 331, 332, 333, 334, 335, 336, 338, 339, 340, 341, 342, 343, 344, 345, 346, 347, 348, 349, 350, 351, 352, 354, 355, 356, 359, 361, 358, 357, 362, 363, 364, 365, 366, 353, 367, 368, 369, 370, 371, 372, 373, 374, 375, 376, 377, 378, 379, 380, 381, 382, 383, 384, 385, 386, 387, 388, 390, 391, 392, 393, 394, 395, 396, 397, 398, 399, 400, 401, 402, 403, 404, 405, 406, 407, 408, 409, 410, 411, 412, 413, 415, 416, 417, 418, 419, 420, 421, 422, 423, 424, 425, 426, 427, 428, 429, 430, 431, 432, 433, 434, 435, 436, 437, 438, 439, 440, 441, 442, 443, 444, 445, 446, 447, 448, 449, 450, 451, 452, 453, 454, 455, 456, 457, 458, 459, 460, 461, 462, 463, 464, 465, 466, 467, 468, 469, 470, 471, 472, 473, 474, 475, 476, 477, 478, 479, 480, 481, 482, 483, 484, 485, 486, 487, 488, 489, 490, 491, 492, 493, 494, 495, 496, 497, 498, 499, 500, 501, 502, 503, 504, 505, 506, 507, 508, 509, 510, 511, 512, 513, 514, 515, 516, 517, 518, 519, 520, 521, 522, 523, 524, 525, 526, 527, 528, 529, 530, 531, 532, 533, 535, 536, 537, 538, 539, 540, 541, 542, 543, 544, 545, 546, 547, 548, 549, 550, 551, 552, 553, 554, 555, 556, 557, 558, 559, 560], \"y\": [0.69183, 0.68108, 0.67909, 0.67943, 0.67727, 0.67527, 0.67769, 0.68159, 0.70036, 0.70403, 0.70198, 0.7023, 0.70335, 0.69005, 0.69253, 0.68598, 0.68813, 0.68666, 0.68886, 0.68802, 0.68745, 0.68437, 0.68974, 0.68571, 0.68533, 0.68768, 0.67623, 0.67827, 0.67924, 0.67683, 0.67864, 0.68807, 0.69041, 0.7008, 0.71375, 0.71356, 0.70097, 0.6965, 0.68434, 0.68423, 0.68828, 0.68511, 0.68865, 0.68598, 0.687, 0.68641, 0.68751, 0.68854, 0.68442, 0.68362, 0.68602, 0.67979, 0.67475, 0.67892, 0.69354, 0.6976, 0.71121, 0.71953, 0.70618, 0.69021, 0.69327, 0.6942, 0.69803, 0.69059, 0.68393, 0.67911, 0.68352, 0.69043, 0.68466, 0.68695, 0.62708, 0.67823, 0.68234, 0.67601, 0.68116, 0.68714, 0.69033, 0.70046, 0.71147, 0.717, 0.74279, 0.7241, 0.70865, 0.70809, 0.70173, 0.70661, 0.70435, 0.69928, 0.70275, 0.69708, 0.68661, 0.68837, 0.68268, 0.69033, 0.69616, 0.69262, 0.68594, 0.6863, 0.69069, 0.69412, 0.70069, 0.70601, 0.7172, 0.72222, 0.72, 0.71254, 0.7041, 0.70845, 0.69451, 0.69603, 0.69675, 0.69545, 0.69638, 0.69113, 0.68558, 0.68797, 0.69472, 0.68891, 0.68334, 0.68123, 0.67792, 0.67648, 0.67269, 0.69187, 0.69426, 0.69823, 0.70357, 0.70321, 0.69493, 0.6883, 0.68493, 0.68094, 0.68485, 0.67721, 0.67321, 0.67724, 0.67288, 0.67266, 0.67515, 0.68415, 0.6807, 0.67996, 0.68008, 0.67624, 0.6763, 0.66875, 0.67146, 0.67595, 0.69566, 0.69836, 0.70809, 0.70221, 0.70537, 0.69897, 0.69237, 0.68699, 0.68453, 0.68974, 0.68426, 0.68489, 0.6876, 0.6859, 0.67676, 0.68107, 0.67983, 0.68397, 0.68435, 0.68384, 0.68883, 0.6864, 0.68824, 0.68935, 0.6937, 0.69935, 0.70257, 0.70488, 0.70327, 0.7037, 0.69547, 0.69616, 0.69954, 0.69379, 0.69451, 0.69543, 0.69067, 0.68571, 0.68477, 0.67783, 0.68239, 0.68778, 0.6792, 0.68013, 0.67839, 0.68027, 0.68233, 0.68687, 0.69252, 0.69097, 0.69803, 0.70657, 0.69025, 0.68859, 0.68664, 0.68453, 0.68282, 0.68026, 0.68369, 0.6862, 0.67821, 0.67647, 0.66727, 0.66832, 0.67769, 0.68114, 0.67703, 0.68202, 0.67709, 0.68439, 0.68394, 0.69013, 0.68919, 0.70798, 0.69583, 0.70448, 0.6994, 0.68375, 0.68976, 0.68748, 0.68928, 0.68557, 0.6754, 0.68642, 0.68435, 0.68522, 0.68765, 0.68012, 0.6767, 0.67513, 0.6846, 0.68679, 0.68476, 0.68695, 0.68388, 0.69371, 0.70942, 0.7017, 0.71083, 0.69723, 0.69102, 0.6871, 0.68986, 0.68485, 0.69235, 0.68978, 0.69039, 0.68928, 0.69213, 0.68373, 0.6923, 0.69072, 0.692]}, {\"line\": {\"shape\": \"spline\"}, \"mode\": \"lines\", \"name\": \"offline_4,5,6_tuwen2\", \"type\": \"scatter\", \"x\": [501, 502, 503, 504, 505, 506, 507, 508, 509, 510, 511, 512, 513, 514, 515, 516, 517, 518, 519, 520, 521, 522, 523, 524, 525, 526, 527, 528, 529, 530, 531, 532, 533, 535, 536, 537, 538, 539, 540, 541, 542, 543, 544, 545, 546, 547, 548, 549, 550, 551, 552, 553, 554, 555, 556, 557, 558, 559, 560], \"y\": [0.68168, 0.67946, 0.65003, 0.65143, 0.65844, 0.66248, 0.65992, 0.65585, 0.6512, 0.65095, 0.67238, 0.67449, 0.67282, 0.67502, 0.67221, 0.67768, 0.67699, 0.68435, 0.68486, 0.70368, 0.69561, 0.70002, 0.69472, 0.68402, 0.68722, 0.68661, 0.68669, 0.68059, 0.67277, 0.68072, 0.68171, 0.67966, 0.68313, 0.67485, 0.67156, 0.66957, 0.67038, 0.67207, 0.68529, 0.68678, 0.68431, 0.69338, 0.70973, 0.7023, 0.69879, 0.68923, 0.68101, 0.67635, 0.67835, 0.6871, 0.69417, 0.69289, 0.69154, 0.69153, 0.69451, 0.68706, 0.69422, 0.69263, 0.69358]}],\n",
       "                        {\"template\": {\"data\": {\"bar\": [{\"error_x\": {\"color\": \"#2a3f5f\"}, \"error_y\": {\"color\": \"#2a3f5f\"}, \"marker\": {\"line\": {\"color\": \"#E5ECF6\", \"width\": 0.5}}, \"type\": \"bar\"}], \"barpolar\": [{\"marker\": {\"line\": {\"color\": \"#E5ECF6\", \"width\": 0.5}}, \"type\": \"barpolar\"}], \"carpet\": [{\"aaxis\": {\"endlinecolor\": \"#2a3f5f\", \"gridcolor\": \"white\", \"linecolor\": \"white\", \"minorgridcolor\": \"white\", \"startlinecolor\": \"#2a3f5f\"}, \"baxis\": {\"endlinecolor\": \"#2a3f5f\", \"gridcolor\": \"white\", \"linecolor\": \"white\", \"minorgridcolor\": \"white\", \"startlinecolor\": \"#2a3f5f\"}, \"type\": \"carpet\"}], \"choropleth\": [{\"colorbar\": {\"outlinewidth\": 0, \"ticks\": \"\"}, \"type\": \"choropleth\"}], \"contour\": [{\"colorbar\": {\"outlinewidth\": 0, \"ticks\": \"\"}, \"colorscale\": [[0.0, \"#0d0887\"], [0.1111111111111111, \"#46039f\"], [0.2222222222222222, \"#7201a8\"], [0.3333333333333333, \"#9c179e\"], [0.4444444444444444, \"#bd3786\"], [0.5555555555555556, \"#d8576b\"], [0.6666666666666666, \"#ed7953\"], [0.7777777777777778, \"#fb9f3a\"], [0.8888888888888888, \"#fdca26\"], [1.0, \"#f0f921\"]], \"type\": \"contour\"}], \"contourcarpet\": [{\"colorbar\": {\"outlinewidth\": 0, \"ticks\": \"\"}, \"type\": \"contourcarpet\"}], \"heatmap\": [{\"colorbar\": {\"outlinewidth\": 0, \"ticks\": \"\"}, \"colorscale\": [[0.0, \"#0d0887\"], [0.1111111111111111, \"#46039f\"], [0.2222222222222222, \"#7201a8\"], [0.3333333333333333, \"#9c179e\"], [0.4444444444444444, \"#bd3786\"], [0.5555555555555556, \"#d8576b\"], [0.6666666666666666, \"#ed7953\"], [0.7777777777777778, \"#fb9f3a\"], [0.8888888888888888, \"#fdca26\"], [1.0, \"#f0f921\"]], \"type\": \"heatmap\"}], \"heatmapgl\": [{\"colorbar\": {\"outlinewidth\": 0, \"ticks\": \"\"}, \"colorscale\": [[0.0, \"#0d0887\"], [0.1111111111111111, \"#46039f\"], [0.2222222222222222, \"#7201a8\"], [0.3333333333333333, \"#9c179e\"], [0.4444444444444444, \"#bd3786\"], [0.5555555555555556, \"#d8576b\"], [0.6666666666666666, \"#ed7953\"], [0.7777777777777778, \"#fb9f3a\"], [0.8888888888888888, \"#fdca26\"], [1.0, \"#f0f921\"]], \"type\": \"heatmapgl\"}], \"histogram\": [{\"marker\": {\"colorbar\": {\"outlinewidth\": 0, \"ticks\": \"\"}}, \"type\": \"histogram\"}], \"histogram2d\": [{\"colorbar\": {\"outlinewidth\": 0, \"ticks\": \"\"}, \"colorscale\": [[0.0, \"#0d0887\"], [0.1111111111111111, \"#46039f\"], [0.2222222222222222, \"#7201a8\"], [0.3333333333333333, \"#9c179e\"], [0.4444444444444444, \"#bd3786\"], [0.5555555555555556, \"#d8576b\"], [0.6666666666666666, \"#ed7953\"], [0.7777777777777778, \"#fb9f3a\"], [0.8888888888888888, \"#fdca26\"], [1.0, \"#f0f921\"]], \"type\": \"histogram2d\"}], \"histogram2dcontour\": [{\"colorbar\": {\"outlinewidth\": 0, \"ticks\": \"\"}, \"colorscale\": [[0.0, \"#0d0887\"], [0.1111111111111111, \"#46039f\"], [0.2222222222222222, \"#7201a8\"], [0.3333333333333333, \"#9c179e\"], [0.4444444444444444, \"#bd3786\"], [0.5555555555555556, \"#d8576b\"], [0.6666666666666666, \"#ed7953\"], [0.7777777777777778, \"#fb9f3a\"], [0.8888888888888888, \"#fdca26\"], [1.0, \"#f0f921\"]], \"type\": \"histogram2dcontour\"}], \"mesh3d\": [{\"colorbar\": {\"outlinewidth\": 0, \"ticks\": \"\"}, \"type\": \"mesh3d\"}], \"parcoords\": [{\"line\": {\"colorbar\": {\"outlinewidth\": 0, \"ticks\": \"\"}}, \"type\": \"parcoords\"}], \"scatter\": [{\"marker\": {\"colorbar\": {\"outlinewidth\": 0, \"ticks\": \"\"}}, \"type\": \"scatter\"}], \"scatter3d\": [{\"line\": {\"colorbar\": {\"outlinewidth\": 0, \"ticks\": \"\"}}, \"marker\": {\"colorbar\": {\"outlinewidth\": 0, \"ticks\": \"\"}}, \"type\": \"scatter3d\"}], \"scattercarpet\": [{\"marker\": {\"colorbar\": {\"outlinewidth\": 0, \"ticks\": \"\"}}, \"type\": \"scattercarpet\"}], \"scattergeo\": [{\"marker\": {\"colorbar\": {\"outlinewidth\": 0, \"ticks\": \"\"}}, \"type\": \"scattergeo\"}], \"scattergl\": [{\"marker\": {\"colorbar\": {\"outlinewidth\": 0, \"ticks\": \"\"}}, \"type\": \"scattergl\"}], \"scattermapbox\": [{\"marker\": {\"colorbar\": {\"outlinewidth\": 0, \"ticks\": \"\"}}, \"type\": \"scattermapbox\"}], \"scatterpolar\": [{\"marker\": {\"colorbar\": {\"outlinewidth\": 0, \"ticks\": \"\"}}, \"type\": \"scatterpolar\"}], \"scatterpolargl\": [{\"marker\": {\"colorbar\": {\"outlinewidth\": 0, \"ticks\": \"\"}}, \"type\": \"scatterpolargl\"}], \"scatterternary\": [{\"marker\": {\"colorbar\": {\"outlinewidth\": 0, \"ticks\": \"\"}}, \"type\": \"scatterternary\"}], \"surface\": [{\"colorbar\": {\"outlinewidth\": 0, \"ticks\": \"\"}, \"colorscale\": [[0.0, \"#0d0887\"], [0.1111111111111111, \"#46039f\"], [0.2222222222222222, \"#7201a8\"], [0.3333333333333333, \"#9c179e\"], [0.4444444444444444, \"#bd3786\"], [0.5555555555555556, \"#d8576b\"], [0.6666666666666666, \"#ed7953\"], [0.7777777777777778, \"#fb9f3a\"], [0.8888888888888888, \"#fdca26\"], [1.0, \"#f0f921\"]], \"type\": \"surface\"}], \"table\": [{\"cells\": {\"fill\": {\"color\": \"#EBF0F8\"}, \"line\": {\"color\": \"white\"}}, \"header\": {\"fill\": {\"color\": \"#C8D4E3\"}, \"line\": {\"color\": \"white\"}}, \"type\": \"table\"}]}, \"layout\": {\"annotationdefaults\": {\"arrowcolor\": \"#2a3f5f\", \"arrowhead\": 0, \"arrowwidth\": 1}, \"colorscale\": {\"diverging\": [[0, \"#8e0152\"], [0.1, \"#c51b7d\"], [0.2, \"#de77ae\"], [0.3, \"#f1b6da\"], [0.4, \"#fde0ef\"], [0.5, \"#f7f7f7\"], [0.6, \"#e6f5d0\"], [0.7, \"#b8e186\"], [0.8, \"#7fbc41\"], [0.9, \"#4d9221\"], [1, \"#276419\"]], \"sequential\": [[0.0, \"#0d0887\"], [0.1111111111111111, \"#46039f\"], [0.2222222222222222, \"#7201a8\"], [0.3333333333333333, \"#9c179e\"], [0.4444444444444444, \"#bd3786\"], [0.5555555555555556, \"#d8576b\"], [0.6666666666666666, \"#ed7953\"], [0.7777777777777778, \"#fb9f3a\"], [0.8888888888888888, \"#fdca26\"], [1.0, \"#f0f921\"]], \"sequentialminus\": [[0.0, \"#0d0887\"], [0.1111111111111111, \"#46039f\"], [0.2222222222222222, \"#7201a8\"], [0.3333333333333333, \"#9c179e\"], [0.4444444444444444, \"#bd3786\"], [0.5555555555555556, \"#d8576b\"], [0.6666666666666666, \"#ed7953\"], [0.7777777777777778, \"#fb9f3a\"], [0.8888888888888888, \"#fdca26\"], [1.0, \"#f0f921\"]]}, \"colorway\": [\"#636efa\", \"#EF553B\", \"#00cc96\", \"#ab63fa\", \"#FFA15A\", \"#19d3f3\", \"#FF6692\", \"#B6E880\", \"#FF97FF\", \"#FECB52\"], \"font\": {\"color\": \"#2a3f5f\"}, \"geo\": {\"bgcolor\": \"white\", \"lakecolor\": \"white\", \"landcolor\": \"#E5ECF6\", \"showlakes\": true, \"showland\": true, \"subunitcolor\": \"white\"}, \"hoverlabel\": {\"align\": \"left\"}, \"hovermode\": \"closest\", \"mapbox\": {\"style\": \"light\"}, \"paper_bgcolor\": \"white\", \"plot_bgcolor\": \"#E5ECF6\", \"polar\": {\"angularaxis\": {\"gridcolor\": \"white\", \"linecolor\": \"white\", \"ticks\": \"\"}, \"bgcolor\": \"#E5ECF6\", \"radialaxis\": {\"gridcolor\": \"white\", \"linecolor\": \"white\", \"ticks\": \"\"}}, \"scene\": {\"xaxis\": {\"backgroundcolor\": \"#E5ECF6\", \"gridcolor\": \"white\", \"gridwidth\": 2, \"linecolor\": \"white\", \"showbackground\": true, \"ticks\": \"\", \"zerolinecolor\": \"white\"}, \"yaxis\": {\"backgroundcolor\": \"#E5ECF6\", \"gridcolor\": \"white\", \"gridwidth\": 2, \"linecolor\": \"white\", \"showbackground\": true, \"ticks\": \"\", \"zerolinecolor\": \"white\"}, \"zaxis\": {\"backgroundcolor\": \"#E5ECF6\", \"gridcolor\": \"white\", \"gridwidth\": 2, \"linecolor\": \"white\", \"showbackground\": true, \"ticks\": \"\", \"zerolinecolor\": \"white\"}}, \"shapedefaults\": {\"line\": {\"color\": \"#2a3f5f\"}}, \"ternary\": {\"aaxis\": {\"gridcolor\": \"white\", \"linecolor\": \"white\", \"ticks\": \"\"}, \"baxis\": {\"gridcolor\": \"white\", \"linecolor\": \"white\", \"ticks\": \"\"}, \"bgcolor\": \"#E5ECF6\", \"caxis\": {\"gridcolor\": \"white\", \"linecolor\": \"white\", \"ticks\": \"\"}}, \"title\": {\"x\": 0.05}, \"xaxis\": {\"automargin\": true, \"gridcolor\": \"white\", \"linecolor\": \"white\", \"ticks\": \"\", \"zerolinecolor\": \"white\", \"zerolinewidth\": 2}, \"yaxis\": {\"automargin\": true, \"gridcolor\": \"white\", \"linecolor\": \"white\", \"ticks\": \"\", \"zerolinecolor\": \"white\", \"zerolinewidth\": 2}}}},\n",
       "                        {\"responsive\": true}\n",
       "                    ).then(function(){\n",
       "                            \n",
       "var gd = document.getElementById('d1bf1338-74c2-478d-8937-16f0cf877755');\n",
       "var x = new MutationObserver(function (mutations, observer) {{\n",
       "        var display = window.getComputedStyle(gd).display;\n",
       "        if (!display || display === 'none') {{\n",
       "            console.log([gd, 'removed!']);\n",
       "            Plotly.purge(gd);\n",
       "            observer.disconnect();\n",
       "        }}\n",
       "}});\n",
       "\n",
       "// Listen for the removal of the full notebook cells\n",
       "var notebookContainer = gd.closest('#notebook-container');\n",
       "if (notebookContainer) {{\n",
       "    x.observe(notebookContainer, {childList: true});\n",
       "}}\n",
       "\n",
       "// Listen for the clearing of the current output cell\n",
       "var outputEl = gd.closest('.output');\n",
       "if (outputEl) {{\n",
       "    x.observe(outputEl, {childList: true});\n",
       "}}\n",
       "\n",
       "                        })\n",
       "                };\n",
       "                });\n",
       "            </script>\n",
       "        </div>"
      ]
     },
     "metadata": {},
     "output_type": "display_data"
    }
   ],
   "source": [
    "show('group/weighted_time_auc')"
   ]
  },
  {
   "cell_type": "code",
   "execution_count": 28,
   "metadata": {},
   "outputs": [
    {
     "data": {
      "application/vnd.plotly.v1+json": {
       "config": {
        "linkText": "Export to plot.ly",
        "plotlyServerURL": "https://plot.ly",
        "showLink": false
       },
       "data": [
        {
         "line": {
          "shape": "spline"
         },
         "mode": "lines",
         "name": "offline_4,5,6_tuwen",
         "type": "scatter",
         "x": [
          290,
          295,
          296,
          297,
          298,
          299,
          300,
          301,
          302,
          303,
          304,
          305,
          306,
          307,
          308,
          309,
          310,
          311,
          312,
          314,
          315,
          316,
          317,
          318,
          319,
          320,
          321,
          322,
          323,
          324,
          325,
          326,
          327,
          328,
          329,
          330,
          331,
          332,
          333,
          334,
          335,
          336,
          338,
          339,
          340,
          341,
          342,
          343,
          344,
          345,
          346,
          347,
          348,
          349,
          350,
          351,
          352,
          354,
          355,
          356,
          359,
          361,
          358,
          357,
          362,
          363,
          364,
          365,
          366,
          353,
          367,
          368,
          369,
          370,
          371,
          372,
          373,
          374,
          375,
          376,
          377,
          378,
          379,
          380,
          381,
          382,
          383,
          384,
          385,
          386,
          387,
          388,
          390,
          391,
          392,
          393,
          394,
          395,
          396,
          397,
          398,
          399,
          400,
          401,
          402,
          403,
          404,
          405,
          406,
          407,
          408,
          409,
          410,
          411,
          412,
          413,
          415,
          416,
          417,
          418,
          419,
          420,
          421,
          422,
          423,
          424,
          425,
          426,
          427,
          428,
          429,
          430,
          431,
          432,
          433,
          434,
          435,
          436,
          437,
          438,
          439,
          440,
          441,
          442,
          443,
          444,
          445,
          446,
          447,
          448,
          449,
          450,
          451,
          452,
          453,
          454,
          455,
          456,
          457,
          458,
          459,
          460,
          461,
          462,
          463,
          464,
          465,
          466,
          467,
          468,
          469,
          470,
          471,
          472,
          473,
          474,
          475,
          476,
          477,
          478,
          479,
          480,
          481,
          482,
          483,
          484,
          485,
          486,
          487,
          488,
          489,
          490,
          491,
          492,
          493,
          494,
          495,
          496,
          497,
          498,
          499,
          500,
          501,
          502,
          503,
          504,
          505,
          506,
          507,
          508,
          509,
          510,
          511,
          512,
          513,
          514,
          515,
          516,
          517,
          518,
          519,
          520,
          521,
          522,
          523,
          524,
          525,
          526,
          527,
          528,
          529,
          530,
          531,
          532,
          533,
          535,
          536,
          537,
          538,
          539,
          540,
          541,
          542,
          543,
          544,
          545,
          546,
          547,
          548,
          549,
          550,
          551,
          552,
          553,
          554,
          555,
          556,
          557,
          558,
          559,
          560
         ],
         "y": [
          0.66792,
          0.65719,
          0.65664,
          0.65672,
          0.65423,
          0.65308,
          0.65463,
          0.6588,
          0.67562,
          0.67963,
          0.68043,
          0.68102,
          0.68384,
          0.66936,
          0.67018,
          0.66353,
          0.67005,
          0.66944,
          0.67348,
          0.66585,
          0.66376,
          0.66017,
          0.66655,
          0.66234,
          0.66097,
          0.66332,
          0.65069,
          0.6574,
          0.65725,
          0.6555,
          0.65598,
          0.66743,
          0.67047,
          0.68225,
          0.69663,
          0.69342,
          0.68019,
          0.67614,
          0.66625,
          0.66446,
          0.66799,
          0.66573,
          0.66992,
          0.66778,
          0.6719,
          0.67051,
          0.67198,
          0.67077,
          0.66826,
          0.67334,
          0.67578,
          0.67135,
          0.66711,
          0.67136,
          0.68629,
          0.69176,
          0.70338,
          0.70848,
          0.69545,
          0.68049,
          0.68268,
          0.68242,
          0.68769,
          0.67969,
          0.67319,
          0.66855,
          0.67439,
          0.68172,
          0.67517,
          0.68053,
          0.62333,
          0.66756,
          0.67098,
          0.66552,
          0.6666,
          0.67194,
          0.67596,
          0.6834,
          0.69438,
          0.69612,
          0.72459,
          0.70299,
          0.68876,
          0.68801,
          0.68379,
          0.68662,
          0.6837,
          0.67979,
          0.6846,
          0.67858,
          0.66665,
          0.66991,
          0.66704,
          0.67561,
          0.67812,
          0.67361,
          0.6683,
          0.66803,
          0.67136,
          0.67663,
          0.68155,
          0.68633,
          0.70004,
          0.70277,
          0.70306,
          0.69496,
          0.68818,
          0.69203,
          0.67686,
          0.67895,
          0.6797,
          0.67709,
          0.67908,
          0.67273,
          0.66806,
          0.67104,
          0.67759,
          0.67156,
          0.66484,
          0.66368,
          0.66222,
          0.66021,
          0.65344,
          0.67417,
          0.67549,
          0.6776,
          0.68208,
          0.67941,
          0.67526,
          0.67001,
          0.66706,
          0.66299,
          0.66436,
          0.65787,
          0.65596,
          0.66041,
          0.65522,
          0.6557,
          0.65707,
          0.6665,
          0.66394,
          0.66245,
          0.6641,
          0.6605,
          0.65682,
          0.65266,
          0.65426,
          0.65784,
          0.67678,
          0.6817,
          0.68685,
          0.68366,
          0.68677,
          0.68076,
          0.67357,
          0.6707,
          0.66818,
          0.67285,
          0.66736,
          0.66853,
          0.66893,
          0.66787,
          0.65859,
          0.66138,
          0.6613,
          0.66747,
          0.66576,
          0.66511,
          0.67192,
          0.66613,
          0.6678,
          0.67075,
          0.67456,
          0.67816,
          0.68182,
          0.68295,
          0.6827,
          0.68112,
          0.6764,
          0.67692,
          0.67752,
          0.67478,
          0.67442,
          0.67713,
          0.67031,
          0.66486,
          0.66379,
          0.65683,
          0.66283,
          0.66878,
          0.66137,
          0.65955,
          0.66045,
          0.66124,
          0.66105,
          0.66716,
          0.67296,
          0.67287,
          0.67789,
          0.68926,
          0.6743,
          0.6692,
          0.66782,
          0.66639,
          0.66433,
          0.66193,
          0.66366,
          0.66661,
          0.65859,
          0.65749,
          0.65028,
          0.65085,
          0.66104,
          0.6617,
          0.66132,
          0.66336,
          0.65927,
          0.66533,
          0.66525,
          0.67028,
          0.66861,
          0.68674,
          0.67771,
          0.68206,
          0.68131,
          0.6663,
          0.67393,
          0.67128,
          0.67194,
          0.66744,
          0.65864,
          0.66847,
          0.66753,
          0.66575,
          0.6696,
          0.66271,
          0.65692,
          0.65644,
          0.66859,
          0.66877,
          0.66734,
          0.66963,
          0.66388,
          0.67467,
          0.6867,
          0.6807,
          0.68465,
          0.67291,
          0.66997,
          0.66775,
          0.66911,
          0.66655,
          0.67361,
          0.67026,
          0.66937,
          0.66881,
          0.67057,
          0.66548,
          0.6717,
          0.67229,
          0.67237
         ]
        },
        {
         "line": {
          "shape": "spline"
         },
         "mode": "lines",
         "name": "offline_4,5,6_tuwen2",
         "type": "scatter",
         "x": [
          501,
          502,
          503,
          504,
          505,
          506,
          507,
          508,
          509,
          510,
          511,
          512,
          513,
          514,
          515,
          516,
          517,
          518,
          519,
          520,
          521,
          522,
          523,
          524,
          525,
          526,
          527,
          528,
          529,
          530,
          531,
          532,
          533,
          535,
          536,
          537,
          538,
          539,
          540,
          541,
          542,
          543,
          544,
          545,
          546,
          547,
          548,
          549,
          550,
          551,
          552,
          553,
          554,
          555,
          556,
          557,
          558,
          559,
          560
         ],
         "y": [
          0.66429,
          0.66264,
          0.63437,
          0.63576,
          0.63879,
          0.64359,
          0.64204,
          0.63981,
          0.6365,
          0.63386,
          0.65588,
          0.65516,
          0.65618,
          0.65701,
          0.65459,
          0.65907,
          0.65845,
          0.66558,
          0.66465,
          0.6832,
          0.67809,
          0.67886,
          0.67553,
          0.6667,
          0.67152,
          0.6702,
          0.6689,
          0.66254,
          0.65684,
          0.66384,
          0.66447,
          0.65978,
          0.66513,
          0.65667,
          0.65137,
          0.65044,
          0.65299,
          0.65374,
          0.66735,
          0.66955,
          0.66376,
          0.67392,
          0.68672,
          0.681,
          0.67397,
          0.66606,
          0.66168,
          0.65897,
          0.65782,
          0.66905,
          0.67639,
          0.67379,
          0.67149,
          0.67246,
          0.67425,
          0.66982,
          0.67553,
          0.67512,
          0.67664
         ]
        }
       ],
       "layout": {
        "template": {
         "data": {
          "bar": [
           {
            "error_x": {
             "color": "#2a3f5f"
            },
            "error_y": {
             "color": "#2a3f5f"
            },
            "marker": {
             "line": {
              "color": "#E5ECF6",
              "width": 0.5
             }
            },
            "type": "bar"
           }
          ],
          "barpolar": [
           {
            "marker": {
             "line": {
              "color": "#E5ECF6",
              "width": 0.5
             }
            },
            "type": "barpolar"
           }
          ],
          "carpet": [
           {
            "aaxis": {
             "endlinecolor": "#2a3f5f",
             "gridcolor": "white",
             "linecolor": "white",
             "minorgridcolor": "white",
             "startlinecolor": "#2a3f5f"
            },
            "baxis": {
             "endlinecolor": "#2a3f5f",
             "gridcolor": "white",
             "linecolor": "white",
             "minorgridcolor": "white",
             "startlinecolor": "#2a3f5f"
            },
            "type": "carpet"
           }
          ],
          "choropleth": [
           {
            "colorbar": {
             "outlinewidth": 0,
             "ticks": ""
            },
            "type": "choropleth"
           }
          ],
          "contour": [
           {
            "colorbar": {
             "outlinewidth": 0,
             "ticks": ""
            },
            "colorscale": [
             [
              0,
              "#0d0887"
             ],
             [
              0.1111111111111111,
              "#46039f"
             ],
             [
              0.2222222222222222,
              "#7201a8"
             ],
             [
              0.3333333333333333,
              "#9c179e"
             ],
             [
              0.4444444444444444,
              "#bd3786"
             ],
             [
              0.5555555555555556,
              "#d8576b"
             ],
             [
              0.6666666666666666,
              "#ed7953"
             ],
             [
              0.7777777777777778,
              "#fb9f3a"
             ],
             [
              0.8888888888888888,
              "#fdca26"
             ],
             [
              1,
              "#f0f921"
             ]
            ],
            "type": "contour"
           }
          ],
          "contourcarpet": [
           {
            "colorbar": {
             "outlinewidth": 0,
             "ticks": ""
            },
            "type": "contourcarpet"
           }
          ],
          "heatmap": [
           {
            "colorbar": {
             "outlinewidth": 0,
             "ticks": ""
            },
            "colorscale": [
             [
              0,
              "#0d0887"
             ],
             [
              0.1111111111111111,
              "#46039f"
             ],
             [
              0.2222222222222222,
              "#7201a8"
             ],
             [
              0.3333333333333333,
              "#9c179e"
             ],
             [
              0.4444444444444444,
              "#bd3786"
             ],
             [
              0.5555555555555556,
              "#d8576b"
             ],
             [
              0.6666666666666666,
              "#ed7953"
             ],
             [
              0.7777777777777778,
              "#fb9f3a"
             ],
             [
              0.8888888888888888,
              "#fdca26"
             ],
             [
              1,
              "#f0f921"
             ]
            ],
            "type": "heatmap"
           }
          ],
          "heatmapgl": [
           {
            "colorbar": {
             "outlinewidth": 0,
             "ticks": ""
            },
            "colorscale": [
             [
              0,
              "#0d0887"
             ],
             [
              0.1111111111111111,
              "#46039f"
             ],
             [
              0.2222222222222222,
              "#7201a8"
             ],
             [
              0.3333333333333333,
              "#9c179e"
             ],
             [
              0.4444444444444444,
              "#bd3786"
             ],
             [
              0.5555555555555556,
              "#d8576b"
             ],
             [
              0.6666666666666666,
              "#ed7953"
             ],
             [
              0.7777777777777778,
              "#fb9f3a"
             ],
             [
              0.8888888888888888,
              "#fdca26"
             ],
             [
              1,
              "#f0f921"
             ]
            ],
            "type": "heatmapgl"
           }
          ],
          "histogram": [
           {
            "marker": {
             "colorbar": {
              "outlinewidth": 0,
              "ticks": ""
             }
            },
            "type": "histogram"
           }
          ],
          "histogram2d": [
           {
            "colorbar": {
             "outlinewidth": 0,
             "ticks": ""
            },
            "colorscale": [
             [
              0,
              "#0d0887"
             ],
             [
              0.1111111111111111,
              "#46039f"
             ],
             [
              0.2222222222222222,
              "#7201a8"
             ],
             [
              0.3333333333333333,
              "#9c179e"
             ],
             [
              0.4444444444444444,
              "#bd3786"
             ],
             [
              0.5555555555555556,
              "#d8576b"
             ],
             [
              0.6666666666666666,
              "#ed7953"
             ],
             [
              0.7777777777777778,
              "#fb9f3a"
             ],
             [
              0.8888888888888888,
              "#fdca26"
             ],
             [
              1,
              "#f0f921"
             ]
            ],
            "type": "histogram2d"
           }
          ],
          "histogram2dcontour": [
           {
            "colorbar": {
             "outlinewidth": 0,
             "ticks": ""
            },
            "colorscale": [
             [
              0,
              "#0d0887"
             ],
             [
              0.1111111111111111,
              "#46039f"
             ],
             [
              0.2222222222222222,
              "#7201a8"
             ],
             [
              0.3333333333333333,
              "#9c179e"
             ],
             [
              0.4444444444444444,
              "#bd3786"
             ],
             [
              0.5555555555555556,
              "#d8576b"
             ],
             [
              0.6666666666666666,
              "#ed7953"
             ],
             [
              0.7777777777777778,
              "#fb9f3a"
             ],
             [
              0.8888888888888888,
              "#fdca26"
             ],
             [
              1,
              "#f0f921"
             ]
            ],
            "type": "histogram2dcontour"
           }
          ],
          "mesh3d": [
           {
            "colorbar": {
             "outlinewidth": 0,
             "ticks": ""
            },
            "type": "mesh3d"
           }
          ],
          "parcoords": [
           {
            "line": {
             "colorbar": {
              "outlinewidth": 0,
              "ticks": ""
             }
            },
            "type": "parcoords"
           }
          ],
          "scatter": [
           {
            "marker": {
             "colorbar": {
              "outlinewidth": 0,
              "ticks": ""
             }
            },
            "type": "scatter"
           }
          ],
          "scatter3d": [
           {
            "line": {
             "colorbar": {
              "outlinewidth": 0,
              "ticks": ""
             }
            },
            "marker": {
             "colorbar": {
              "outlinewidth": 0,
              "ticks": ""
             }
            },
            "type": "scatter3d"
           }
          ],
          "scattercarpet": [
           {
            "marker": {
             "colorbar": {
              "outlinewidth": 0,
              "ticks": ""
             }
            },
            "type": "scattercarpet"
           }
          ],
          "scattergeo": [
           {
            "marker": {
             "colorbar": {
              "outlinewidth": 0,
              "ticks": ""
             }
            },
            "type": "scattergeo"
           }
          ],
          "scattergl": [
           {
            "marker": {
             "colorbar": {
              "outlinewidth": 0,
              "ticks": ""
             }
            },
            "type": "scattergl"
           }
          ],
          "scattermapbox": [
           {
            "marker": {
             "colorbar": {
              "outlinewidth": 0,
              "ticks": ""
             }
            },
            "type": "scattermapbox"
           }
          ],
          "scatterpolar": [
           {
            "marker": {
             "colorbar": {
              "outlinewidth": 0,
              "ticks": ""
             }
            },
            "type": "scatterpolar"
           }
          ],
          "scatterpolargl": [
           {
            "marker": {
             "colorbar": {
              "outlinewidth": 0,
              "ticks": ""
             }
            },
            "type": "scatterpolargl"
           }
          ],
          "scatterternary": [
           {
            "marker": {
             "colorbar": {
              "outlinewidth": 0,
              "ticks": ""
             }
            },
            "type": "scatterternary"
           }
          ],
          "surface": [
           {
            "colorbar": {
             "outlinewidth": 0,
             "ticks": ""
            },
            "colorscale": [
             [
              0,
              "#0d0887"
             ],
             [
              0.1111111111111111,
              "#46039f"
             ],
             [
              0.2222222222222222,
              "#7201a8"
             ],
             [
              0.3333333333333333,
              "#9c179e"
             ],
             [
              0.4444444444444444,
              "#bd3786"
             ],
             [
              0.5555555555555556,
              "#d8576b"
             ],
             [
              0.6666666666666666,
              "#ed7953"
             ],
             [
              0.7777777777777778,
              "#fb9f3a"
             ],
             [
              0.8888888888888888,
              "#fdca26"
             ],
             [
              1,
              "#f0f921"
             ]
            ],
            "type": "surface"
           }
          ],
          "table": [
           {
            "cells": {
             "fill": {
              "color": "#EBF0F8"
             },
             "line": {
              "color": "white"
             }
            },
            "header": {
             "fill": {
              "color": "#C8D4E3"
             },
             "line": {
              "color": "white"
             }
            },
            "type": "table"
           }
          ]
         },
         "layout": {
          "annotationdefaults": {
           "arrowcolor": "#2a3f5f",
           "arrowhead": 0,
           "arrowwidth": 1
          },
          "colorscale": {
           "diverging": [
            [
             0,
             "#8e0152"
            ],
            [
             0.1,
             "#c51b7d"
            ],
            [
             0.2,
             "#de77ae"
            ],
            [
             0.3,
             "#f1b6da"
            ],
            [
             0.4,
             "#fde0ef"
            ],
            [
             0.5,
             "#f7f7f7"
            ],
            [
             0.6,
             "#e6f5d0"
            ],
            [
             0.7,
             "#b8e186"
            ],
            [
             0.8,
             "#7fbc41"
            ],
            [
             0.9,
             "#4d9221"
            ],
            [
             1,
             "#276419"
            ]
           ],
           "sequential": [
            [
             0,
             "#0d0887"
            ],
            [
             0.1111111111111111,
             "#46039f"
            ],
            [
             0.2222222222222222,
             "#7201a8"
            ],
            [
             0.3333333333333333,
             "#9c179e"
            ],
            [
             0.4444444444444444,
             "#bd3786"
            ],
            [
             0.5555555555555556,
             "#d8576b"
            ],
            [
             0.6666666666666666,
             "#ed7953"
            ],
            [
             0.7777777777777778,
             "#fb9f3a"
            ],
            [
             0.8888888888888888,
             "#fdca26"
            ],
            [
             1,
             "#f0f921"
            ]
           ],
           "sequentialminus": [
            [
             0,
             "#0d0887"
            ],
            [
             0.1111111111111111,
             "#46039f"
            ],
            [
             0.2222222222222222,
             "#7201a8"
            ],
            [
             0.3333333333333333,
             "#9c179e"
            ],
            [
             0.4444444444444444,
             "#bd3786"
            ],
            [
             0.5555555555555556,
             "#d8576b"
            ],
            [
             0.6666666666666666,
             "#ed7953"
            ],
            [
             0.7777777777777778,
             "#fb9f3a"
            ],
            [
             0.8888888888888888,
             "#fdca26"
            ],
            [
             1,
             "#f0f921"
            ]
           ]
          },
          "colorway": [
           "#636efa",
           "#EF553B",
           "#00cc96",
           "#ab63fa",
           "#FFA15A",
           "#19d3f3",
           "#FF6692",
           "#B6E880",
           "#FF97FF",
           "#FECB52"
          ],
          "font": {
           "color": "#2a3f5f"
          },
          "geo": {
           "bgcolor": "white",
           "lakecolor": "white",
           "landcolor": "#E5ECF6",
           "showlakes": true,
           "showland": true,
           "subunitcolor": "white"
          },
          "hoverlabel": {
           "align": "left"
          },
          "hovermode": "closest",
          "mapbox": {
           "style": "light"
          },
          "paper_bgcolor": "white",
          "plot_bgcolor": "#E5ECF6",
          "polar": {
           "angularaxis": {
            "gridcolor": "white",
            "linecolor": "white",
            "ticks": ""
           },
           "bgcolor": "#E5ECF6",
           "radialaxis": {
            "gridcolor": "white",
            "linecolor": "white",
            "ticks": ""
           }
          },
          "scene": {
           "xaxis": {
            "backgroundcolor": "#E5ECF6",
            "gridcolor": "white",
            "gridwidth": 2,
            "linecolor": "white",
            "showbackground": true,
            "ticks": "",
            "zerolinecolor": "white"
           },
           "yaxis": {
            "backgroundcolor": "#E5ECF6",
            "gridcolor": "white",
            "gridwidth": 2,
            "linecolor": "white",
            "showbackground": true,
            "ticks": "",
            "zerolinecolor": "white"
           },
           "zaxis": {
            "backgroundcolor": "#E5ECF6",
            "gridcolor": "white",
            "gridwidth": 2,
            "linecolor": "white",
            "showbackground": true,
            "ticks": "",
            "zerolinecolor": "white"
           }
          },
          "shapedefaults": {
           "line": {
            "color": "#2a3f5f"
           }
          },
          "ternary": {
           "aaxis": {
            "gridcolor": "white",
            "linecolor": "white",
            "ticks": ""
           },
           "baxis": {
            "gridcolor": "white",
            "linecolor": "white",
            "ticks": ""
           },
           "bgcolor": "#E5ECF6",
           "caxis": {
            "gridcolor": "white",
            "linecolor": "white",
            "ticks": ""
           }
          },
          "title": {
           "x": 0.05
          },
          "xaxis": {
           "automargin": true,
           "gridcolor": "white",
           "linecolor": "white",
           "ticks": "",
           "zerolinecolor": "white",
           "zerolinewidth": 2
          },
          "yaxis": {
           "automargin": true,
           "gridcolor": "white",
           "linecolor": "white",
           "ticks": "",
           "zerolinecolor": "white",
           "zerolinewidth": 2
          }
         }
        }
       }
      },
      "text/html": [
       "<div>\n",
       "        \n",
       "        \n",
       "            <div id=\"4b6dabe5-8dac-4767-9c1e-90f3dc62c4cd\" class=\"plotly-graph-div\" style=\"height:525px; width:100%;\"></div>\n",
       "            <script type=\"text/javascript\">\n",
       "                require([\"plotly\"], function(Plotly) {\n",
       "                    window.PLOTLYENV=window.PLOTLYENV || {};\n",
       "                    \n",
       "                if (document.getElementById(\"4b6dabe5-8dac-4767-9c1e-90f3dc62c4cd\")) {\n",
       "                    Plotly.newPlot(\n",
       "                        '4b6dabe5-8dac-4767-9c1e-90f3dc62c4cd',\n",
       "                        [{\"line\": {\"shape\": \"spline\"}, \"mode\": \"lines\", \"name\": \"offline_4,5,6_tuwen\", \"type\": \"scatter\", \"x\": [290, 295, 296, 297, 298, 299, 300, 301, 302, 303, 304, 305, 306, 307, 308, 309, 310, 311, 312, 314, 315, 316, 317, 318, 319, 320, 321, 322, 323, 324, 325, 326, 327, 328, 329, 330, 331, 332, 333, 334, 335, 336, 338, 339, 340, 341, 342, 343, 344, 345, 346, 347, 348, 349, 350, 351, 352, 354, 355, 356, 359, 361, 358, 357, 362, 363, 364, 365, 366, 353, 367, 368, 369, 370, 371, 372, 373, 374, 375, 376, 377, 378, 379, 380, 381, 382, 383, 384, 385, 386, 387, 388, 390, 391, 392, 393, 394, 395, 396, 397, 398, 399, 400, 401, 402, 403, 404, 405, 406, 407, 408, 409, 410, 411, 412, 413, 415, 416, 417, 418, 419, 420, 421, 422, 423, 424, 425, 426, 427, 428, 429, 430, 431, 432, 433, 434, 435, 436, 437, 438, 439, 440, 441, 442, 443, 444, 445, 446, 447, 448, 449, 450, 451, 452, 453, 454, 455, 456, 457, 458, 459, 460, 461, 462, 463, 464, 465, 466, 467, 468, 469, 470, 471, 472, 473, 474, 475, 476, 477, 478, 479, 480, 481, 482, 483, 484, 485, 486, 487, 488, 489, 490, 491, 492, 493, 494, 495, 496, 497, 498, 499, 500, 501, 502, 503, 504, 505, 506, 507, 508, 509, 510, 511, 512, 513, 514, 515, 516, 517, 518, 519, 520, 521, 522, 523, 524, 525, 526, 527, 528, 529, 530, 531, 532, 533, 535, 536, 537, 538, 539, 540, 541, 542, 543, 544, 545, 546, 547, 548, 549, 550, 551, 552, 553, 554, 555, 556, 557, 558, 559, 560], \"y\": [0.66792, 0.65719, 0.65664, 0.65672, 0.65423, 0.65308, 0.65463, 0.6588, 0.67562, 0.67963, 0.68043, 0.68102, 0.68384, 0.66936, 0.67018, 0.66353, 0.67005, 0.66944, 0.67348, 0.66585, 0.66376, 0.66017, 0.66655, 0.66234, 0.66097, 0.66332, 0.65069, 0.6574, 0.65725, 0.6555, 0.65598, 0.66743, 0.67047, 0.68225, 0.69663, 0.69342, 0.68019, 0.67614, 0.66625, 0.66446, 0.66799, 0.66573, 0.66992, 0.66778, 0.6719, 0.67051, 0.67198, 0.67077, 0.66826, 0.67334, 0.67578, 0.67135, 0.66711, 0.67136, 0.68629, 0.69176, 0.70338, 0.70848, 0.69545, 0.68049, 0.68268, 0.68242, 0.68769, 0.67969, 0.67319, 0.66855, 0.67439, 0.68172, 0.67517, 0.68053, 0.62333, 0.66756, 0.67098, 0.66552, 0.6666, 0.67194, 0.67596, 0.6834, 0.69438, 0.69612, 0.72459, 0.70299, 0.68876, 0.68801, 0.68379, 0.68662, 0.6837, 0.67979, 0.6846, 0.67858, 0.66665, 0.66991, 0.66704, 0.67561, 0.67812, 0.67361, 0.6683, 0.66803, 0.67136, 0.67663, 0.68155, 0.68633, 0.70004, 0.70277, 0.70306, 0.69496, 0.68818, 0.69203, 0.67686, 0.67895, 0.6797, 0.67709, 0.67908, 0.67273, 0.66806, 0.67104, 0.67759, 0.67156, 0.66484, 0.66368, 0.66222, 0.66021, 0.65344, 0.67417, 0.67549, 0.6776, 0.68208, 0.67941, 0.67526, 0.67001, 0.66706, 0.66299, 0.66436, 0.65787, 0.65596, 0.66041, 0.65522, 0.6557, 0.65707, 0.6665, 0.66394, 0.66245, 0.6641, 0.6605, 0.65682, 0.65266, 0.65426, 0.65784, 0.67678, 0.6817, 0.68685, 0.68366, 0.68677, 0.68076, 0.67357, 0.6707, 0.66818, 0.67285, 0.66736, 0.66853, 0.66893, 0.66787, 0.65859, 0.66138, 0.6613, 0.66747, 0.66576, 0.66511, 0.67192, 0.66613, 0.6678, 0.67075, 0.67456, 0.67816, 0.68182, 0.68295, 0.6827, 0.68112, 0.6764, 0.67692, 0.67752, 0.67478, 0.67442, 0.67713, 0.67031, 0.66486, 0.66379, 0.65683, 0.66283, 0.66878, 0.66137, 0.65955, 0.66045, 0.66124, 0.66105, 0.66716, 0.67296, 0.67287, 0.67789, 0.68926, 0.6743, 0.6692, 0.66782, 0.66639, 0.66433, 0.66193, 0.66366, 0.66661, 0.65859, 0.65749, 0.65028, 0.65085, 0.66104, 0.6617, 0.66132, 0.66336, 0.65927, 0.66533, 0.66525, 0.67028, 0.66861, 0.68674, 0.67771, 0.68206, 0.68131, 0.6663, 0.67393, 0.67128, 0.67194, 0.66744, 0.65864, 0.66847, 0.66753, 0.66575, 0.6696, 0.66271, 0.65692, 0.65644, 0.66859, 0.66877, 0.66734, 0.66963, 0.66388, 0.67467, 0.6867, 0.6807, 0.68465, 0.67291, 0.66997, 0.66775, 0.66911, 0.66655, 0.67361, 0.67026, 0.66937, 0.66881, 0.67057, 0.66548, 0.6717, 0.67229, 0.67237]}, {\"line\": {\"shape\": \"spline\"}, \"mode\": \"lines\", \"name\": \"offline_4,5,6_tuwen2\", \"type\": \"scatter\", \"x\": [501, 502, 503, 504, 505, 506, 507, 508, 509, 510, 511, 512, 513, 514, 515, 516, 517, 518, 519, 520, 521, 522, 523, 524, 525, 526, 527, 528, 529, 530, 531, 532, 533, 535, 536, 537, 538, 539, 540, 541, 542, 543, 544, 545, 546, 547, 548, 549, 550, 551, 552, 553, 554, 555, 556, 557, 558, 559, 560], \"y\": [0.66429, 0.66264, 0.63437, 0.63576, 0.63879, 0.64359, 0.64204, 0.63981, 0.6365, 0.63386, 0.65588, 0.65516, 0.65618, 0.65701, 0.65459, 0.65907, 0.65845, 0.66558, 0.66465, 0.6832, 0.67809, 0.67886, 0.67553, 0.6667, 0.67152, 0.6702, 0.6689, 0.66254, 0.65684, 0.66384, 0.66447, 0.65978, 0.66513, 0.65667, 0.65137, 0.65044, 0.65299, 0.65374, 0.66735, 0.66955, 0.66376, 0.67392, 0.68672, 0.681, 0.67397, 0.66606, 0.66168, 0.65897, 0.65782, 0.66905, 0.67639, 0.67379, 0.67149, 0.67246, 0.67425, 0.66982, 0.67553, 0.67512, 0.67664]}],\n",
       "                        {\"template\": {\"data\": {\"bar\": [{\"error_x\": {\"color\": \"#2a3f5f\"}, \"error_y\": {\"color\": \"#2a3f5f\"}, \"marker\": {\"line\": {\"color\": \"#E5ECF6\", \"width\": 0.5}}, \"type\": \"bar\"}], \"barpolar\": [{\"marker\": {\"line\": {\"color\": \"#E5ECF6\", \"width\": 0.5}}, \"type\": \"barpolar\"}], \"carpet\": [{\"aaxis\": {\"endlinecolor\": \"#2a3f5f\", \"gridcolor\": \"white\", \"linecolor\": \"white\", \"minorgridcolor\": \"white\", \"startlinecolor\": \"#2a3f5f\"}, \"baxis\": {\"endlinecolor\": \"#2a3f5f\", \"gridcolor\": \"white\", \"linecolor\": \"white\", \"minorgridcolor\": \"white\", \"startlinecolor\": \"#2a3f5f\"}, \"type\": \"carpet\"}], \"choropleth\": [{\"colorbar\": {\"outlinewidth\": 0, \"ticks\": \"\"}, \"type\": \"choropleth\"}], \"contour\": [{\"colorbar\": {\"outlinewidth\": 0, \"ticks\": \"\"}, \"colorscale\": [[0.0, \"#0d0887\"], [0.1111111111111111, \"#46039f\"], [0.2222222222222222, \"#7201a8\"], [0.3333333333333333, \"#9c179e\"], [0.4444444444444444, \"#bd3786\"], [0.5555555555555556, \"#d8576b\"], [0.6666666666666666, \"#ed7953\"], [0.7777777777777778, \"#fb9f3a\"], [0.8888888888888888, \"#fdca26\"], [1.0, \"#f0f921\"]], \"type\": \"contour\"}], \"contourcarpet\": [{\"colorbar\": {\"outlinewidth\": 0, \"ticks\": \"\"}, \"type\": \"contourcarpet\"}], \"heatmap\": [{\"colorbar\": {\"outlinewidth\": 0, \"ticks\": \"\"}, \"colorscale\": [[0.0, \"#0d0887\"], [0.1111111111111111, \"#46039f\"], [0.2222222222222222, \"#7201a8\"], [0.3333333333333333, \"#9c179e\"], [0.4444444444444444, \"#bd3786\"], [0.5555555555555556, \"#d8576b\"], [0.6666666666666666, \"#ed7953\"], [0.7777777777777778, \"#fb9f3a\"], [0.8888888888888888, \"#fdca26\"], [1.0, \"#f0f921\"]], \"type\": \"heatmap\"}], \"heatmapgl\": [{\"colorbar\": {\"outlinewidth\": 0, \"ticks\": \"\"}, \"colorscale\": [[0.0, \"#0d0887\"], [0.1111111111111111, \"#46039f\"], [0.2222222222222222, \"#7201a8\"], [0.3333333333333333, \"#9c179e\"], [0.4444444444444444, \"#bd3786\"], [0.5555555555555556, \"#d8576b\"], [0.6666666666666666, \"#ed7953\"], [0.7777777777777778, \"#fb9f3a\"], [0.8888888888888888, \"#fdca26\"], [1.0, \"#f0f921\"]], \"type\": \"heatmapgl\"}], \"histogram\": [{\"marker\": {\"colorbar\": {\"outlinewidth\": 0, \"ticks\": \"\"}}, \"type\": \"histogram\"}], \"histogram2d\": [{\"colorbar\": {\"outlinewidth\": 0, \"ticks\": \"\"}, \"colorscale\": [[0.0, \"#0d0887\"], [0.1111111111111111, \"#46039f\"], [0.2222222222222222, \"#7201a8\"], [0.3333333333333333, \"#9c179e\"], [0.4444444444444444, \"#bd3786\"], [0.5555555555555556, \"#d8576b\"], [0.6666666666666666, \"#ed7953\"], [0.7777777777777778, \"#fb9f3a\"], [0.8888888888888888, \"#fdca26\"], [1.0, \"#f0f921\"]], \"type\": \"histogram2d\"}], \"histogram2dcontour\": [{\"colorbar\": {\"outlinewidth\": 0, \"ticks\": \"\"}, \"colorscale\": [[0.0, \"#0d0887\"], [0.1111111111111111, \"#46039f\"], [0.2222222222222222, \"#7201a8\"], [0.3333333333333333, \"#9c179e\"], [0.4444444444444444, \"#bd3786\"], [0.5555555555555556, \"#d8576b\"], [0.6666666666666666, \"#ed7953\"], [0.7777777777777778, \"#fb9f3a\"], [0.8888888888888888, \"#fdca26\"], [1.0, \"#f0f921\"]], \"type\": \"histogram2dcontour\"}], \"mesh3d\": [{\"colorbar\": {\"outlinewidth\": 0, \"ticks\": \"\"}, \"type\": \"mesh3d\"}], \"parcoords\": [{\"line\": {\"colorbar\": {\"outlinewidth\": 0, \"ticks\": \"\"}}, \"type\": \"parcoords\"}], \"scatter\": [{\"marker\": {\"colorbar\": {\"outlinewidth\": 0, \"ticks\": \"\"}}, \"type\": \"scatter\"}], \"scatter3d\": [{\"line\": {\"colorbar\": {\"outlinewidth\": 0, \"ticks\": \"\"}}, \"marker\": {\"colorbar\": {\"outlinewidth\": 0, \"ticks\": \"\"}}, \"type\": \"scatter3d\"}], \"scattercarpet\": [{\"marker\": {\"colorbar\": {\"outlinewidth\": 0, \"ticks\": \"\"}}, \"type\": \"scattercarpet\"}], \"scattergeo\": [{\"marker\": {\"colorbar\": {\"outlinewidth\": 0, \"ticks\": \"\"}}, \"type\": \"scattergeo\"}], \"scattergl\": [{\"marker\": {\"colorbar\": {\"outlinewidth\": 0, \"ticks\": \"\"}}, \"type\": \"scattergl\"}], \"scattermapbox\": [{\"marker\": {\"colorbar\": {\"outlinewidth\": 0, \"ticks\": \"\"}}, \"type\": \"scattermapbox\"}], \"scatterpolar\": [{\"marker\": {\"colorbar\": {\"outlinewidth\": 0, \"ticks\": \"\"}}, \"type\": \"scatterpolar\"}], \"scatterpolargl\": [{\"marker\": {\"colorbar\": {\"outlinewidth\": 0, \"ticks\": \"\"}}, \"type\": \"scatterpolargl\"}], \"scatterternary\": [{\"marker\": {\"colorbar\": {\"outlinewidth\": 0, \"ticks\": \"\"}}, \"type\": \"scatterternary\"}], \"surface\": [{\"colorbar\": {\"outlinewidth\": 0, \"ticks\": \"\"}, \"colorscale\": [[0.0, \"#0d0887\"], [0.1111111111111111, \"#46039f\"], [0.2222222222222222, \"#7201a8\"], [0.3333333333333333, \"#9c179e\"], [0.4444444444444444, \"#bd3786\"], [0.5555555555555556, \"#d8576b\"], [0.6666666666666666, \"#ed7953\"], [0.7777777777777778, \"#fb9f3a\"], [0.8888888888888888, \"#fdca26\"], [1.0, \"#f0f921\"]], \"type\": \"surface\"}], \"table\": [{\"cells\": {\"fill\": {\"color\": \"#EBF0F8\"}, \"line\": {\"color\": \"white\"}}, \"header\": {\"fill\": {\"color\": \"#C8D4E3\"}, \"line\": {\"color\": \"white\"}}, \"type\": \"table\"}]}, \"layout\": {\"annotationdefaults\": {\"arrowcolor\": \"#2a3f5f\", \"arrowhead\": 0, \"arrowwidth\": 1}, \"colorscale\": {\"diverging\": [[0, \"#8e0152\"], [0.1, \"#c51b7d\"], [0.2, \"#de77ae\"], [0.3, \"#f1b6da\"], [0.4, \"#fde0ef\"], [0.5, \"#f7f7f7\"], [0.6, \"#e6f5d0\"], [0.7, \"#b8e186\"], [0.8, \"#7fbc41\"], [0.9, \"#4d9221\"], [1, \"#276419\"]], \"sequential\": [[0.0, \"#0d0887\"], [0.1111111111111111, \"#46039f\"], [0.2222222222222222, \"#7201a8\"], [0.3333333333333333, \"#9c179e\"], [0.4444444444444444, \"#bd3786\"], [0.5555555555555556, \"#d8576b\"], [0.6666666666666666, \"#ed7953\"], [0.7777777777777778, \"#fb9f3a\"], [0.8888888888888888, \"#fdca26\"], [1.0, \"#f0f921\"]], \"sequentialminus\": [[0.0, \"#0d0887\"], [0.1111111111111111, \"#46039f\"], [0.2222222222222222, \"#7201a8\"], [0.3333333333333333, \"#9c179e\"], [0.4444444444444444, \"#bd3786\"], [0.5555555555555556, \"#d8576b\"], [0.6666666666666666, \"#ed7953\"], [0.7777777777777778, \"#fb9f3a\"], [0.8888888888888888, \"#fdca26\"], [1.0, \"#f0f921\"]]}, \"colorway\": [\"#636efa\", \"#EF553B\", \"#00cc96\", \"#ab63fa\", \"#FFA15A\", \"#19d3f3\", \"#FF6692\", \"#B6E880\", \"#FF97FF\", \"#FECB52\"], \"font\": {\"color\": \"#2a3f5f\"}, \"geo\": {\"bgcolor\": \"white\", \"lakecolor\": \"white\", \"landcolor\": \"#E5ECF6\", \"showlakes\": true, \"showland\": true, \"subunitcolor\": \"white\"}, \"hoverlabel\": {\"align\": \"left\"}, \"hovermode\": \"closest\", \"mapbox\": {\"style\": \"light\"}, \"paper_bgcolor\": \"white\", \"plot_bgcolor\": \"#E5ECF6\", \"polar\": {\"angularaxis\": {\"gridcolor\": \"white\", \"linecolor\": \"white\", \"ticks\": \"\"}, \"bgcolor\": \"#E5ECF6\", \"radialaxis\": {\"gridcolor\": \"white\", \"linecolor\": \"white\", \"ticks\": \"\"}}, \"scene\": {\"xaxis\": {\"backgroundcolor\": \"#E5ECF6\", \"gridcolor\": \"white\", \"gridwidth\": 2, \"linecolor\": \"white\", \"showbackground\": true, \"ticks\": \"\", \"zerolinecolor\": \"white\"}, \"yaxis\": {\"backgroundcolor\": \"#E5ECF6\", \"gridcolor\": \"white\", \"gridwidth\": 2, \"linecolor\": \"white\", \"showbackground\": true, \"ticks\": \"\", \"zerolinecolor\": \"white\"}, \"zaxis\": {\"backgroundcolor\": \"#E5ECF6\", \"gridcolor\": \"white\", \"gridwidth\": 2, \"linecolor\": \"white\", \"showbackground\": true, \"ticks\": \"\", \"zerolinecolor\": \"white\"}}, \"shapedefaults\": {\"line\": {\"color\": \"#2a3f5f\"}}, \"ternary\": {\"aaxis\": {\"gridcolor\": \"white\", \"linecolor\": \"white\", \"ticks\": \"\"}, \"baxis\": {\"gridcolor\": \"white\", \"linecolor\": \"white\", \"ticks\": \"\"}, \"bgcolor\": \"#E5ECF6\", \"caxis\": {\"gridcolor\": \"white\", \"linecolor\": \"white\", \"ticks\": \"\"}}, \"title\": {\"x\": 0.05}, \"xaxis\": {\"automargin\": true, \"gridcolor\": \"white\", \"linecolor\": \"white\", \"ticks\": \"\", \"zerolinecolor\": \"white\", \"zerolinewidth\": 2}, \"yaxis\": {\"automargin\": true, \"gridcolor\": \"white\", \"linecolor\": \"white\", \"ticks\": \"\", \"zerolinecolor\": \"white\", \"zerolinewidth\": 2}}}},\n",
       "                        {\"responsive\": true}\n",
       "                    ).then(function(){\n",
       "                            \n",
       "var gd = document.getElementById('4b6dabe5-8dac-4767-9c1e-90f3dc62c4cd');\n",
       "var x = new MutationObserver(function (mutations, observer) {{\n",
       "        var display = window.getComputedStyle(gd).display;\n",
       "        if (!display || display === 'none') {{\n",
       "            console.log([gd, 'removed!']);\n",
       "            Plotly.purge(gd);\n",
       "            observer.disconnect();\n",
       "        }}\n",
       "}});\n",
       "\n",
       "// Listen for the removal of the full notebook cells\n",
       "var notebookContainer = gd.closest('#notebook-container');\n",
       "if (notebookContainer) {{\n",
       "    x.observe(notebookContainer, {childList: true});\n",
       "}}\n",
       "\n",
       "// Listen for the clearing of the current output cell\n",
       "var outputEl = gd.closest('.output');\n",
       "if (outputEl) {{\n",
       "    x.observe(outputEl, {childList: true});\n",
       "}}\n",
       "\n",
       "                        })\n",
       "                };\n",
       "                });\n",
       "            </script>\n",
       "        </div>"
      ]
     },
     "metadata": {},
     "output_type": "display_data"
    }
   ],
   "source": [
    "show('group/time_auc')"
   ]
  },
  {
   "cell_type": "code",
   "execution_count": 29,
   "metadata": {},
   "outputs": [
    {
     "data": {
      "application/vnd.plotly.v1+json": {
       "config": {
        "linkText": "Export to plot.ly",
        "plotlyServerURL": "https://plot.ly",
        "showLink": false
       },
       "data": [
        {
         "line": {
          "shape": "spline"
         },
         "mode": "lines",
         "name": "offline_4,5,6_tuwen",
         "type": "scatter",
         "x": [
          290,
          295,
          296,
          297,
          298,
          299,
          300,
          301,
          302,
          303,
          304,
          305,
          306,
          307,
          308,
          309,
          310,
          311,
          312,
          314,
          315,
          316,
          317,
          318,
          319,
          320,
          321,
          322,
          323,
          324,
          325,
          326,
          327,
          328,
          329,
          330,
          331,
          332,
          333,
          334,
          335,
          336,
          338,
          339,
          340,
          341,
          342,
          343,
          344,
          345,
          346,
          347,
          348,
          349,
          350,
          351,
          352,
          354,
          355,
          356,
          359,
          361,
          358,
          357,
          362,
          363,
          364,
          365,
          366,
          353,
          367,
          368,
          369,
          370,
          371,
          372,
          373,
          374,
          375,
          376,
          377,
          378,
          379,
          380,
          381,
          382,
          383,
          384,
          385,
          386,
          387,
          388,
          390,
          391,
          392,
          393,
          394,
          395,
          396,
          397,
          398,
          399,
          400,
          401,
          402,
          403,
          404,
          405,
          406,
          407,
          408,
          409,
          410,
          411,
          412,
          413,
          415,
          416,
          417,
          418,
          419,
          420,
          421,
          422,
          423,
          424,
          425,
          426,
          427,
          428,
          429,
          430,
          431,
          432,
          433,
          434,
          435,
          436,
          437,
          438,
          439,
          440,
          441,
          442,
          443,
          444,
          445,
          446,
          447,
          448,
          449,
          450,
          451,
          452,
          453,
          454,
          455,
          456,
          457,
          458,
          459,
          460,
          461,
          462,
          463,
          464,
          465,
          466,
          467,
          468,
          469,
          470,
          471,
          472,
          473,
          474,
          475,
          476,
          477,
          478,
          479,
          480,
          481,
          482,
          483,
          484,
          485,
          486,
          487,
          488,
          489,
          490,
          491,
          492,
          493,
          494,
          495,
          496,
          497,
          498,
          499,
          500,
          501,
          502,
          503,
          504,
          505,
          506,
          507,
          508,
          509,
          510,
          511,
          512,
          513,
          514,
          515,
          516,
          517,
          518,
          519,
          520,
          521,
          522,
          523,
          524,
          525,
          526,
          527,
          528,
          529,
          530,
          531,
          532,
          533,
          535,
          536,
          537,
          538,
          539,
          540,
          541,
          542,
          543,
          544,
          545,
          546,
          547,
          548,
          549,
          550,
          551,
          552,
          553,
          554,
          555,
          556,
          557,
          558,
          559,
          560
         ],
         "y": [
          0.71169,
          0.72858,
          0.75859,
          0.75894,
          0.75992,
          0.76437,
          0.68099,
          0.69549,
          0.70923,
          0.70351,
          0.70872,
          0.70403,
          0.70575,
          0.70037,
          0.69546,
          0.69254,
          0.70593,
          0.71199,
          0.71127,
          0.6996,
          0.69687,
          0.69499,
          0.701,
          0.699,
          0.69871,
          0.69859,
          0.69669,
          0.70374,
          0.70329,
          0.70107,
          0.69722,
          0.7115,
          0.70214,
          0.72166,
          0.73314,
          0.72394,
          0.71187,
          0.71226,
          0.70812,
          0.70387,
          0.71138,
          0.71105,
          0.71207,
          0.70972,
          0.71406,
          0.71454,
          0.70984,
          0.71635,
          0.71214,
          0.7211,
          0.723,
          0.72294,
          0.71679,
          0.71985,
          0.7312,
          0.74277,
          0.76559,
          0.76692,
          0.76364,
          0.73635,
          0.73091,
          0.72175,
          0.73883,
          0.72907,
          0.71165,
          0.71088,
          0.71644,
          0.72754,
          0.72643,
          0.75163,
          0.63991,
          0.71904,
          0.72157,
          0.72009,
          0.70153,
          0.70565,
          0.70555,
          0.70275,
          0.69792,
          0.70583,
          0.72623,
          0.71521,
          0.69987,
          0.69668,
          0.70147,
          0.70371,
          0.70144,
          0.70683,
          0.69667,
          0.69821,
          0.68978,
          0.68388,
          0.68593,
          0.69867,
          0.69639,
          0.70065,
          0.70026,
          0.70003,
          0.70186,
          0.70596,
          0.70479,
          0.6927,
          0.70062,
          0.69737,
          0.69033,
          0.69492,
          0.69499,
          0.70989,
          0.70391,
          0.70368,
          0.70316,
          0.69756,
          0.70247,
          0.69562,
          0.69174,
          0.6925,
          0.69735,
          0.70286,
          0.7,
          0.70272,
          0.70422,
          0.70057,
          0.69767,
          0.69543,
          0.67943,
          0.67843,
          0.67752,
          0.68093,
          0.67448,
          0.68673,
          0.69142,
          0.69381,
          0.69028,
          0.68335,
          0.68762,
          0.69238,
          0.68384,
          0.67906,
          0.67994,
          0.68529,
          0.68322,
          0.69351,
          0.69168,
          0.6978,
          0.69824,
          0.6965,
          0.69557,
          0.687,
          0.68125,
          0.68636,
          0.67903,
          0.68051,
          0.68365,
          0.69198,
          0.69817,
          0.70388,
          0.6982,
          0.70005,
          0.69511,
          0.70073,
          0.69281,
          0.6884,
          0.69022,
          0.68891,
          0.69052,
          0.69449,
          0.71851,
          0.71647,
          0.74675,
          0.71979,
          0.72239,
          0.71736,
          0.72475,
          0.73657,
          0.74791,
          0.75439,
          0.75483,
          0.72597,
          0.72344,
          0.71519,
          0.72197,
          0.71956,
          0.72413,
          0.72409,
          0.72221,
          0.71526,
          0.71469,
          0.70726,
          0.71014,
          0.70988,
          0.71524,
          0.72205,
          0.71854,
          0.71594,
          0.72286,
          0.71872,
          0.71444,
          0.71883,
          0.74768,
          0.76575,
          0.73944,
          0.72363,
          0.71729,
          0.72173,
          0.72475,
          0.71787,
          0.71765,
          0.7197,
          0.718,
          0.71149,
          0.69768,
          0.6998,
          0.70373,
          0.70745,
          0.71897,
          0.72336,
          0.72309,
          0.72615,
          0.72694,
          0.72893,
          0.72914,
          0.75693,
          0.74306,
          0.76018,
          0.74339,
          0.72579,
          0.72396,
          0.71971,
          0.72315,
          0.71741,
          0.71626,
          0.72619,
          0.72754,
          0.72654,
          0.72922,
          0.71661,
          0.71157,
          0.71379,
          0.71454,
          0.71596,
          0.71428,
          0.71038,
          0.69658,
          0.70467,
          0.70581,
          0.69513,
          0.70865,
          0.68528,
          0.68946,
          0.69131,
          0.69244,
          0.69174,
          0.69392,
          0.69815,
          0.70757,
          0.71286,
          0.71727,
          0.71773,
          0.72666,
          0.70135,
          0.70368
         ]
        },
        {
         "line": {
          "shape": "spline"
         },
         "mode": "lines",
         "name": "offline_4,5,6_tuwen2",
         "type": "scatter",
         "x": [
          501,
          502,
          503,
          504,
          505,
          506,
          507,
          508,
          509,
          510,
          511,
          512,
          513,
          514,
          515,
          516,
          517,
          518,
          519,
          520,
          521,
          522,
          523,
          524,
          525,
          526,
          527,
          528,
          529,
          530,
          531,
          532,
          533,
          535,
          536,
          537,
          538,
          539,
          540,
          541,
          542,
          543,
          544,
          545,
          546,
          547,
          548,
          549,
          550,
          551,
          552,
          553,
          554,
          555,
          556,
          557,
          558,
          559,
          560
         ],
         "y": [
          0.71323,
          0.7171,
          0.69973,
          0.69554,
          0.69867,
          0.70248,
          0.70441,
          0.69766,
          0.68284,
          0.68629,
          0.69897,
          0.70336,
          0.71558,
          0.72048,
          0.7194,
          0.72269,
          0.72271,
          0.72678,
          0.72673,
          0.75587,
          0.74192,
          0.76252,
          0.74406,
          0.72597,
          0.72288,
          0.71944,
          0.7223,
          0.71687,
          0.71644,
          0.7246,
          0.72512,
          0.72436,
          0.72787,
          0.7135,
          0.70973,
          0.71111,
          0.70457,
          0.70538,
          0.71421,
          0.70991,
          0.69586,
          0.70453,
          0.70624,
          0.70016,
          0.7025,
          0.67899,
          0.68868,
          0.68807,
          0.69151,
          0.71212,
          0.71898,
          0.71979,
          0.72363,
          0.72767,
          0.73729,
          0.73739,
          0.74677,
          0.72159,
          0.7231
         ]
        }
       ],
       "layout": {
        "template": {
         "data": {
          "bar": [
           {
            "error_x": {
             "color": "#2a3f5f"
            },
            "error_y": {
             "color": "#2a3f5f"
            },
            "marker": {
             "line": {
              "color": "#E5ECF6",
              "width": 0.5
             }
            },
            "type": "bar"
           }
          ],
          "barpolar": [
           {
            "marker": {
             "line": {
              "color": "#E5ECF6",
              "width": 0.5
             }
            },
            "type": "barpolar"
           }
          ],
          "carpet": [
           {
            "aaxis": {
             "endlinecolor": "#2a3f5f",
             "gridcolor": "white",
             "linecolor": "white",
             "minorgridcolor": "white",
             "startlinecolor": "#2a3f5f"
            },
            "baxis": {
             "endlinecolor": "#2a3f5f",
             "gridcolor": "white",
             "linecolor": "white",
             "minorgridcolor": "white",
             "startlinecolor": "#2a3f5f"
            },
            "type": "carpet"
           }
          ],
          "choropleth": [
           {
            "colorbar": {
             "outlinewidth": 0,
             "ticks": ""
            },
            "type": "choropleth"
           }
          ],
          "contour": [
           {
            "colorbar": {
             "outlinewidth": 0,
             "ticks": ""
            },
            "colorscale": [
             [
              0,
              "#0d0887"
             ],
             [
              0.1111111111111111,
              "#46039f"
             ],
             [
              0.2222222222222222,
              "#7201a8"
             ],
             [
              0.3333333333333333,
              "#9c179e"
             ],
             [
              0.4444444444444444,
              "#bd3786"
             ],
             [
              0.5555555555555556,
              "#d8576b"
             ],
             [
              0.6666666666666666,
              "#ed7953"
             ],
             [
              0.7777777777777778,
              "#fb9f3a"
             ],
             [
              0.8888888888888888,
              "#fdca26"
             ],
             [
              1,
              "#f0f921"
             ]
            ],
            "type": "contour"
           }
          ],
          "contourcarpet": [
           {
            "colorbar": {
             "outlinewidth": 0,
             "ticks": ""
            },
            "type": "contourcarpet"
           }
          ],
          "heatmap": [
           {
            "colorbar": {
             "outlinewidth": 0,
             "ticks": ""
            },
            "colorscale": [
             [
              0,
              "#0d0887"
             ],
             [
              0.1111111111111111,
              "#46039f"
             ],
             [
              0.2222222222222222,
              "#7201a8"
             ],
             [
              0.3333333333333333,
              "#9c179e"
             ],
             [
              0.4444444444444444,
              "#bd3786"
             ],
             [
              0.5555555555555556,
              "#d8576b"
             ],
             [
              0.6666666666666666,
              "#ed7953"
             ],
             [
              0.7777777777777778,
              "#fb9f3a"
             ],
             [
              0.8888888888888888,
              "#fdca26"
             ],
             [
              1,
              "#f0f921"
             ]
            ],
            "type": "heatmap"
           }
          ],
          "heatmapgl": [
           {
            "colorbar": {
             "outlinewidth": 0,
             "ticks": ""
            },
            "colorscale": [
             [
              0,
              "#0d0887"
             ],
             [
              0.1111111111111111,
              "#46039f"
             ],
             [
              0.2222222222222222,
              "#7201a8"
             ],
             [
              0.3333333333333333,
              "#9c179e"
             ],
             [
              0.4444444444444444,
              "#bd3786"
             ],
             [
              0.5555555555555556,
              "#d8576b"
             ],
             [
              0.6666666666666666,
              "#ed7953"
             ],
             [
              0.7777777777777778,
              "#fb9f3a"
             ],
             [
              0.8888888888888888,
              "#fdca26"
             ],
             [
              1,
              "#f0f921"
             ]
            ],
            "type": "heatmapgl"
           }
          ],
          "histogram": [
           {
            "marker": {
             "colorbar": {
              "outlinewidth": 0,
              "ticks": ""
             }
            },
            "type": "histogram"
           }
          ],
          "histogram2d": [
           {
            "colorbar": {
             "outlinewidth": 0,
             "ticks": ""
            },
            "colorscale": [
             [
              0,
              "#0d0887"
             ],
             [
              0.1111111111111111,
              "#46039f"
             ],
             [
              0.2222222222222222,
              "#7201a8"
             ],
             [
              0.3333333333333333,
              "#9c179e"
             ],
             [
              0.4444444444444444,
              "#bd3786"
             ],
             [
              0.5555555555555556,
              "#d8576b"
             ],
             [
              0.6666666666666666,
              "#ed7953"
             ],
             [
              0.7777777777777778,
              "#fb9f3a"
             ],
             [
              0.8888888888888888,
              "#fdca26"
             ],
             [
              1,
              "#f0f921"
             ]
            ],
            "type": "histogram2d"
           }
          ],
          "histogram2dcontour": [
           {
            "colorbar": {
             "outlinewidth": 0,
             "ticks": ""
            },
            "colorscale": [
             [
              0,
              "#0d0887"
             ],
             [
              0.1111111111111111,
              "#46039f"
             ],
             [
              0.2222222222222222,
              "#7201a8"
             ],
             [
              0.3333333333333333,
              "#9c179e"
             ],
             [
              0.4444444444444444,
              "#bd3786"
             ],
             [
              0.5555555555555556,
              "#d8576b"
             ],
             [
              0.6666666666666666,
              "#ed7953"
             ],
             [
              0.7777777777777778,
              "#fb9f3a"
             ],
             [
              0.8888888888888888,
              "#fdca26"
             ],
             [
              1,
              "#f0f921"
             ]
            ],
            "type": "histogram2dcontour"
           }
          ],
          "mesh3d": [
           {
            "colorbar": {
             "outlinewidth": 0,
             "ticks": ""
            },
            "type": "mesh3d"
           }
          ],
          "parcoords": [
           {
            "line": {
             "colorbar": {
              "outlinewidth": 0,
              "ticks": ""
             }
            },
            "type": "parcoords"
           }
          ],
          "scatter": [
           {
            "marker": {
             "colorbar": {
              "outlinewidth": 0,
              "ticks": ""
             }
            },
            "type": "scatter"
           }
          ],
          "scatter3d": [
           {
            "line": {
             "colorbar": {
              "outlinewidth": 0,
              "ticks": ""
             }
            },
            "marker": {
             "colorbar": {
              "outlinewidth": 0,
              "ticks": ""
             }
            },
            "type": "scatter3d"
           }
          ],
          "scattercarpet": [
           {
            "marker": {
             "colorbar": {
              "outlinewidth": 0,
              "ticks": ""
             }
            },
            "type": "scattercarpet"
           }
          ],
          "scattergeo": [
           {
            "marker": {
             "colorbar": {
              "outlinewidth": 0,
              "ticks": ""
             }
            },
            "type": "scattergeo"
           }
          ],
          "scattergl": [
           {
            "marker": {
             "colorbar": {
              "outlinewidth": 0,
              "ticks": ""
             }
            },
            "type": "scattergl"
           }
          ],
          "scattermapbox": [
           {
            "marker": {
             "colorbar": {
              "outlinewidth": 0,
              "ticks": ""
             }
            },
            "type": "scattermapbox"
           }
          ],
          "scatterpolar": [
           {
            "marker": {
             "colorbar": {
              "outlinewidth": 0,
              "ticks": ""
             }
            },
            "type": "scatterpolar"
           }
          ],
          "scatterpolargl": [
           {
            "marker": {
             "colorbar": {
              "outlinewidth": 0,
              "ticks": ""
             }
            },
            "type": "scatterpolargl"
           }
          ],
          "scatterternary": [
           {
            "marker": {
             "colorbar": {
              "outlinewidth": 0,
              "ticks": ""
             }
            },
            "type": "scatterternary"
           }
          ],
          "surface": [
           {
            "colorbar": {
             "outlinewidth": 0,
             "ticks": ""
            },
            "colorscale": [
             [
              0,
              "#0d0887"
             ],
             [
              0.1111111111111111,
              "#46039f"
             ],
             [
              0.2222222222222222,
              "#7201a8"
             ],
             [
              0.3333333333333333,
              "#9c179e"
             ],
             [
              0.4444444444444444,
              "#bd3786"
             ],
             [
              0.5555555555555556,
              "#d8576b"
             ],
             [
              0.6666666666666666,
              "#ed7953"
             ],
             [
              0.7777777777777778,
              "#fb9f3a"
             ],
             [
              0.8888888888888888,
              "#fdca26"
             ],
             [
              1,
              "#f0f921"
             ]
            ],
            "type": "surface"
           }
          ],
          "table": [
           {
            "cells": {
             "fill": {
              "color": "#EBF0F8"
             },
             "line": {
              "color": "white"
             }
            },
            "header": {
             "fill": {
              "color": "#C8D4E3"
             },
             "line": {
              "color": "white"
             }
            },
            "type": "table"
           }
          ]
         },
         "layout": {
          "annotationdefaults": {
           "arrowcolor": "#2a3f5f",
           "arrowhead": 0,
           "arrowwidth": 1
          },
          "colorscale": {
           "diverging": [
            [
             0,
             "#8e0152"
            ],
            [
             0.1,
             "#c51b7d"
            ],
            [
             0.2,
             "#de77ae"
            ],
            [
             0.3,
             "#f1b6da"
            ],
            [
             0.4,
             "#fde0ef"
            ],
            [
             0.5,
             "#f7f7f7"
            ],
            [
             0.6,
             "#e6f5d0"
            ],
            [
             0.7,
             "#b8e186"
            ],
            [
             0.8,
             "#7fbc41"
            ],
            [
             0.9,
             "#4d9221"
            ],
            [
             1,
             "#276419"
            ]
           ],
           "sequential": [
            [
             0,
             "#0d0887"
            ],
            [
             0.1111111111111111,
             "#46039f"
            ],
            [
             0.2222222222222222,
             "#7201a8"
            ],
            [
             0.3333333333333333,
             "#9c179e"
            ],
            [
             0.4444444444444444,
             "#bd3786"
            ],
            [
             0.5555555555555556,
             "#d8576b"
            ],
            [
             0.6666666666666666,
             "#ed7953"
            ],
            [
             0.7777777777777778,
             "#fb9f3a"
            ],
            [
             0.8888888888888888,
             "#fdca26"
            ],
            [
             1,
             "#f0f921"
            ]
           ],
           "sequentialminus": [
            [
             0,
             "#0d0887"
            ],
            [
             0.1111111111111111,
             "#46039f"
            ],
            [
             0.2222222222222222,
             "#7201a8"
            ],
            [
             0.3333333333333333,
             "#9c179e"
            ],
            [
             0.4444444444444444,
             "#bd3786"
            ],
            [
             0.5555555555555556,
             "#d8576b"
            ],
            [
             0.6666666666666666,
             "#ed7953"
            ],
            [
             0.7777777777777778,
             "#fb9f3a"
            ],
            [
             0.8888888888888888,
             "#fdca26"
            ],
            [
             1,
             "#f0f921"
            ]
           ]
          },
          "colorway": [
           "#636efa",
           "#EF553B",
           "#00cc96",
           "#ab63fa",
           "#FFA15A",
           "#19d3f3",
           "#FF6692",
           "#B6E880",
           "#FF97FF",
           "#FECB52"
          ],
          "font": {
           "color": "#2a3f5f"
          },
          "geo": {
           "bgcolor": "white",
           "lakecolor": "white",
           "landcolor": "#E5ECF6",
           "showlakes": true,
           "showland": true,
           "subunitcolor": "white"
          },
          "hoverlabel": {
           "align": "left"
          },
          "hovermode": "closest",
          "mapbox": {
           "style": "light"
          },
          "paper_bgcolor": "white",
          "plot_bgcolor": "#E5ECF6",
          "polar": {
           "angularaxis": {
            "gridcolor": "white",
            "linecolor": "white",
            "ticks": ""
           },
           "bgcolor": "#E5ECF6",
           "radialaxis": {
            "gridcolor": "white",
            "linecolor": "white",
            "ticks": ""
           }
          },
          "scene": {
           "xaxis": {
            "backgroundcolor": "#E5ECF6",
            "gridcolor": "white",
            "gridwidth": 2,
            "linecolor": "white",
            "showbackground": true,
            "ticks": "",
            "zerolinecolor": "white"
           },
           "yaxis": {
            "backgroundcolor": "#E5ECF6",
            "gridcolor": "white",
            "gridwidth": 2,
            "linecolor": "white",
            "showbackground": true,
            "ticks": "",
            "zerolinecolor": "white"
           },
           "zaxis": {
            "backgroundcolor": "#E5ECF6",
            "gridcolor": "white",
            "gridwidth": 2,
            "linecolor": "white",
            "showbackground": true,
            "ticks": "",
            "zerolinecolor": "white"
           }
          },
          "shapedefaults": {
           "line": {
            "color": "#2a3f5f"
           }
          },
          "ternary": {
           "aaxis": {
            "gridcolor": "white",
            "linecolor": "white",
            "ticks": ""
           },
           "baxis": {
            "gridcolor": "white",
            "linecolor": "white",
            "ticks": ""
           },
           "bgcolor": "#E5ECF6",
           "caxis": {
            "gridcolor": "white",
            "linecolor": "white",
            "ticks": ""
           }
          },
          "title": {
           "x": 0.05
          },
          "xaxis": {
           "automargin": true,
           "gridcolor": "white",
           "linecolor": "white",
           "ticks": "",
           "zerolinecolor": "white",
           "zerolinewidth": 2
          },
          "yaxis": {
           "automargin": true,
           "gridcolor": "white",
           "linecolor": "white",
           "ticks": "",
           "zerolinecolor": "white",
           "zerolinewidth": 2
          }
         }
        }
       }
      },
      "text/html": [
       "<div>\n",
       "        \n",
       "        \n",
       "            <div id=\"92a0fa63-7a32-4912-936d-10ef1a781808\" class=\"plotly-graph-div\" style=\"height:525px; width:100%;\"></div>\n",
       "            <script type=\"text/javascript\">\n",
       "                require([\"plotly\"], function(Plotly) {\n",
       "                    window.PLOTLYENV=window.PLOTLYENV || {};\n",
       "                    \n",
       "                if (document.getElementById(\"92a0fa63-7a32-4912-936d-10ef1a781808\")) {\n",
       "                    Plotly.newPlot(\n",
       "                        '92a0fa63-7a32-4912-936d-10ef1a781808',\n",
       "                        [{\"line\": {\"shape\": \"spline\"}, \"mode\": \"lines\", \"name\": \"offline_4,5,6_tuwen\", \"type\": \"scatter\", \"x\": [290, 295, 296, 297, 298, 299, 300, 301, 302, 303, 304, 305, 306, 307, 308, 309, 310, 311, 312, 314, 315, 316, 317, 318, 319, 320, 321, 322, 323, 324, 325, 326, 327, 328, 329, 330, 331, 332, 333, 334, 335, 336, 338, 339, 340, 341, 342, 343, 344, 345, 346, 347, 348, 349, 350, 351, 352, 354, 355, 356, 359, 361, 358, 357, 362, 363, 364, 365, 366, 353, 367, 368, 369, 370, 371, 372, 373, 374, 375, 376, 377, 378, 379, 380, 381, 382, 383, 384, 385, 386, 387, 388, 390, 391, 392, 393, 394, 395, 396, 397, 398, 399, 400, 401, 402, 403, 404, 405, 406, 407, 408, 409, 410, 411, 412, 413, 415, 416, 417, 418, 419, 420, 421, 422, 423, 424, 425, 426, 427, 428, 429, 430, 431, 432, 433, 434, 435, 436, 437, 438, 439, 440, 441, 442, 443, 444, 445, 446, 447, 448, 449, 450, 451, 452, 453, 454, 455, 456, 457, 458, 459, 460, 461, 462, 463, 464, 465, 466, 467, 468, 469, 470, 471, 472, 473, 474, 475, 476, 477, 478, 479, 480, 481, 482, 483, 484, 485, 486, 487, 488, 489, 490, 491, 492, 493, 494, 495, 496, 497, 498, 499, 500, 501, 502, 503, 504, 505, 506, 507, 508, 509, 510, 511, 512, 513, 514, 515, 516, 517, 518, 519, 520, 521, 522, 523, 524, 525, 526, 527, 528, 529, 530, 531, 532, 533, 535, 536, 537, 538, 539, 540, 541, 542, 543, 544, 545, 546, 547, 548, 549, 550, 551, 552, 553, 554, 555, 556, 557, 558, 559, 560], \"y\": [0.71169, 0.72858, 0.75859, 0.75894, 0.75992, 0.76437, 0.68099, 0.69549, 0.70923, 0.70351, 0.70872, 0.70403, 0.70575, 0.70037, 0.69546, 0.69254, 0.70593, 0.71199, 0.71127, 0.6996, 0.69687, 0.69499, 0.701, 0.699, 0.69871, 0.69859, 0.69669, 0.70374, 0.70329, 0.70107, 0.69722, 0.7115, 0.70214, 0.72166, 0.73314, 0.72394, 0.71187, 0.71226, 0.70812, 0.70387, 0.71138, 0.71105, 0.71207, 0.70972, 0.71406, 0.71454, 0.70984, 0.71635, 0.71214, 0.7211, 0.723, 0.72294, 0.71679, 0.71985, 0.7312, 0.74277, 0.76559, 0.76692, 0.76364, 0.73635, 0.73091, 0.72175, 0.73883, 0.72907, 0.71165, 0.71088, 0.71644, 0.72754, 0.72643, 0.75163, 0.63991, 0.71904, 0.72157, 0.72009, 0.70153, 0.70565, 0.70555, 0.70275, 0.69792, 0.70583, 0.72623, 0.71521, 0.69987, 0.69668, 0.70147, 0.70371, 0.70144, 0.70683, 0.69667, 0.69821, 0.68978, 0.68388, 0.68593, 0.69867, 0.69639, 0.70065, 0.70026, 0.70003, 0.70186, 0.70596, 0.70479, 0.6927, 0.70062, 0.69737, 0.69033, 0.69492, 0.69499, 0.70989, 0.70391, 0.70368, 0.70316, 0.69756, 0.70247, 0.69562, 0.69174, 0.6925, 0.69735, 0.70286, 0.7, 0.70272, 0.70422, 0.70057, 0.69767, 0.69543, 0.67943, 0.67843, 0.67752, 0.68093, 0.67448, 0.68673, 0.69142, 0.69381, 0.69028, 0.68335, 0.68762, 0.69238, 0.68384, 0.67906, 0.67994, 0.68529, 0.68322, 0.69351, 0.69168, 0.6978, 0.69824, 0.6965, 0.69557, 0.687, 0.68125, 0.68636, 0.67903, 0.68051, 0.68365, 0.69198, 0.69817, 0.70388, 0.6982, 0.70005, 0.69511, 0.70073, 0.69281, 0.6884, 0.69022, 0.68891, 0.69052, 0.69449, 0.71851, 0.71647, 0.74675, 0.71979, 0.72239, 0.71736, 0.72475, 0.73657, 0.74791, 0.75439, 0.75483, 0.72597, 0.72344, 0.71519, 0.72197, 0.71956, 0.72413, 0.72409, 0.72221, 0.71526, 0.71469, 0.70726, 0.71014, 0.70988, 0.71524, 0.72205, 0.71854, 0.71594, 0.72286, 0.71872, 0.71444, 0.71883, 0.74768, 0.76575, 0.73944, 0.72363, 0.71729, 0.72173, 0.72475, 0.71787, 0.71765, 0.7197, 0.718, 0.71149, 0.69768, 0.6998, 0.70373, 0.70745, 0.71897, 0.72336, 0.72309, 0.72615, 0.72694, 0.72893, 0.72914, 0.75693, 0.74306, 0.76018, 0.74339, 0.72579, 0.72396, 0.71971, 0.72315, 0.71741, 0.71626, 0.72619, 0.72754, 0.72654, 0.72922, 0.71661, 0.71157, 0.71379, 0.71454, 0.71596, 0.71428, 0.71038, 0.69658, 0.70467, 0.70581, 0.69513, 0.70865, 0.68528, 0.68946, 0.69131, 0.69244, 0.69174, 0.69392, 0.69815, 0.70757, 0.71286, 0.71727, 0.71773, 0.72666, 0.70135, 0.70368]}, {\"line\": {\"shape\": \"spline\"}, \"mode\": \"lines\", \"name\": \"offline_4,5,6_tuwen2\", \"type\": \"scatter\", \"x\": [501, 502, 503, 504, 505, 506, 507, 508, 509, 510, 511, 512, 513, 514, 515, 516, 517, 518, 519, 520, 521, 522, 523, 524, 525, 526, 527, 528, 529, 530, 531, 532, 533, 535, 536, 537, 538, 539, 540, 541, 542, 543, 544, 545, 546, 547, 548, 549, 550, 551, 552, 553, 554, 555, 556, 557, 558, 559, 560], \"y\": [0.71323, 0.7171, 0.69973, 0.69554, 0.69867, 0.70248, 0.70441, 0.69766, 0.68284, 0.68629, 0.69897, 0.70336, 0.71558, 0.72048, 0.7194, 0.72269, 0.72271, 0.72678, 0.72673, 0.75587, 0.74192, 0.76252, 0.74406, 0.72597, 0.72288, 0.71944, 0.7223, 0.71687, 0.71644, 0.7246, 0.72512, 0.72436, 0.72787, 0.7135, 0.70973, 0.71111, 0.70457, 0.70538, 0.71421, 0.70991, 0.69586, 0.70453, 0.70624, 0.70016, 0.7025, 0.67899, 0.68868, 0.68807, 0.69151, 0.71212, 0.71898, 0.71979, 0.72363, 0.72767, 0.73729, 0.73739, 0.74677, 0.72159, 0.7231]}],\n",
       "                        {\"template\": {\"data\": {\"bar\": [{\"error_x\": {\"color\": \"#2a3f5f\"}, \"error_y\": {\"color\": \"#2a3f5f\"}, \"marker\": {\"line\": {\"color\": \"#E5ECF6\", \"width\": 0.5}}, \"type\": \"bar\"}], \"barpolar\": [{\"marker\": {\"line\": {\"color\": \"#E5ECF6\", \"width\": 0.5}}, \"type\": \"barpolar\"}], \"carpet\": [{\"aaxis\": {\"endlinecolor\": \"#2a3f5f\", \"gridcolor\": \"white\", \"linecolor\": \"white\", \"minorgridcolor\": \"white\", \"startlinecolor\": \"#2a3f5f\"}, \"baxis\": {\"endlinecolor\": \"#2a3f5f\", \"gridcolor\": \"white\", \"linecolor\": \"white\", \"minorgridcolor\": \"white\", \"startlinecolor\": \"#2a3f5f\"}, \"type\": \"carpet\"}], \"choropleth\": [{\"colorbar\": {\"outlinewidth\": 0, \"ticks\": \"\"}, \"type\": \"choropleth\"}], \"contour\": [{\"colorbar\": {\"outlinewidth\": 0, \"ticks\": \"\"}, \"colorscale\": [[0.0, \"#0d0887\"], [0.1111111111111111, \"#46039f\"], [0.2222222222222222, \"#7201a8\"], [0.3333333333333333, \"#9c179e\"], [0.4444444444444444, \"#bd3786\"], [0.5555555555555556, \"#d8576b\"], [0.6666666666666666, \"#ed7953\"], [0.7777777777777778, \"#fb9f3a\"], [0.8888888888888888, \"#fdca26\"], [1.0, \"#f0f921\"]], \"type\": \"contour\"}], \"contourcarpet\": [{\"colorbar\": {\"outlinewidth\": 0, \"ticks\": \"\"}, \"type\": \"contourcarpet\"}], \"heatmap\": [{\"colorbar\": {\"outlinewidth\": 0, \"ticks\": \"\"}, \"colorscale\": [[0.0, \"#0d0887\"], [0.1111111111111111, \"#46039f\"], [0.2222222222222222, \"#7201a8\"], [0.3333333333333333, \"#9c179e\"], [0.4444444444444444, \"#bd3786\"], [0.5555555555555556, \"#d8576b\"], [0.6666666666666666, \"#ed7953\"], [0.7777777777777778, \"#fb9f3a\"], [0.8888888888888888, \"#fdca26\"], [1.0, \"#f0f921\"]], \"type\": \"heatmap\"}], \"heatmapgl\": [{\"colorbar\": {\"outlinewidth\": 0, \"ticks\": \"\"}, \"colorscale\": [[0.0, \"#0d0887\"], [0.1111111111111111, \"#46039f\"], [0.2222222222222222, \"#7201a8\"], [0.3333333333333333, \"#9c179e\"], [0.4444444444444444, \"#bd3786\"], [0.5555555555555556, \"#d8576b\"], [0.6666666666666666, \"#ed7953\"], [0.7777777777777778, \"#fb9f3a\"], [0.8888888888888888, \"#fdca26\"], [1.0, \"#f0f921\"]], \"type\": \"heatmapgl\"}], \"histogram\": [{\"marker\": {\"colorbar\": {\"outlinewidth\": 0, \"ticks\": \"\"}}, \"type\": \"histogram\"}], \"histogram2d\": [{\"colorbar\": {\"outlinewidth\": 0, \"ticks\": \"\"}, \"colorscale\": [[0.0, \"#0d0887\"], [0.1111111111111111, \"#46039f\"], [0.2222222222222222, \"#7201a8\"], [0.3333333333333333, \"#9c179e\"], [0.4444444444444444, \"#bd3786\"], [0.5555555555555556, \"#d8576b\"], [0.6666666666666666, \"#ed7953\"], [0.7777777777777778, \"#fb9f3a\"], [0.8888888888888888, \"#fdca26\"], [1.0, \"#f0f921\"]], \"type\": \"histogram2d\"}], \"histogram2dcontour\": [{\"colorbar\": {\"outlinewidth\": 0, \"ticks\": \"\"}, \"colorscale\": [[0.0, \"#0d0887\"], [0.1111111111111111, \"#46039f\"], [0.2222222222222222, \"#7201a8\"], [0.3333333333333333, \"#9c179e\"], [0.4444444444444444, \"#bd3786\"], [0.5555555555555556, \"#d8576b\"], [0.6666666666666666, \"#ed7953\"], [0.7777777777777778, \"#fb9f3a\"], [0.8888888888888888, \"#fdca26\"], [1.0, \"#f0f921\"]], \"type\": \"histogram2dcontour\"}], \"mesh3d\": [{\"colorbar\": {\"outlinewidth\": 0, \"ticks\": \"\"}, \"type\": \"mesh3d\"}], \"parcoords\": [{\"line\": {\"colorbar\": {\"outlinewidth\": 0, \"ticks\": \"\"}}, \"type\": \"parcoords\"}], \"scatter\": [{\"marker\": {\"colorbar\": {\"outlinewidth\": 0, \"ticks\": \"\"}}, \"type\": \"scatter\"}], \"scatter3d\": [{\"line\": {\"colorbar\": {\"outlinewidth\": 0, \"ticks\": \"\"}}, \"marker\": {\"colorbar\": {\"outlinewidth\": 0, \"ticks\": \"\"}}, \"type\": \"scatter3d\"}], \"scattercarpet\": [{\"marker\": {\"colorbar\": {\"outlinewidth\": 0, \"ticks\": \"\"}}, \"type\": \"scattercarpet\"}], \"scattergeo\": [{\"marker\": {\"colorbar\": {\"outlinewidth\": 0, \"ticks\": \"\"}}, \"type\": \"scattergeo\"}], \"scattergl\": [{\"marker\": {\"colorbar\": {\"outlinewidth\": 0, \"ticks\": \"\"}}, \"type\": \"scattergl\"}], \"scattermapbox\": [{\"marker\": {\"colorbar\": {\"outlinewidth\": 0, \"ticks\": \"\"}}, \"type\": \"scattermapbox\"}], \"scatterpolar\": [{\"marker\": {\"colorbar\": {\"outlinewidth\": 0, \"ticks\": \"\"}}, \"type\": \"scatterpolar\"}], \"scatterpolargl\": [{\"marker\": {\"colorbar\": {\"outlinewidth\": 0, \"ticks\": \"\"}}, \"type\": \"scatterpolargl\"}], \"scatterternary\": [{\"marker\": {\"colorbar\": {\"outlinewidth\": 0, \"ticks\": \"\"}}, \"type\": \"scatterternary\"}], \"surface\": [{\"colorbar\": {\"outlinewidth\": 0, \"ticks\": \"\"}, \"colorscale\": [[0.0, \"#0d0887\"], [0.1111111111111111, \"#46039f\"], [0.2222222222222222, \"#7201a8\"], [0.3333333333333333, \"#9c179e\"], [0.4444444444444444, \"#bd3786\"], [0.5555555555555556, \"#d8576b\"], [0.6666666666666666, \"#ed7953\"], [0.7777777777777778, \"#fb9f3a\"], [0.8888888888888888, \"#fdca26\"], [1.0, \"#f0f921\"]], \"type\": \"surface\"}], \"table\": [{\"cells\": {\"fill\": {\"color\": \"#EBF0F8\"}, \"line\": {\"color\": \"white\"}}, \"header\": {\"fill\": {\"color\": \"#C8D4E3\"}, \"line\": {\"color\": \"white\"}}, \"type\": \"table\"}]}, \"layout\": {\"annotationdefaults\": {\"arrowcolor\": \"#2a3f5f\", \"arrowhead\": 0, \"arrowwidth\": 1}, \"colorscale\": {\"diverging\": [[0, \"#8e0152\"], [0.1, \"#c51b7d\"], [0.2, \"#de77ae\"], [0.3, \"#f1b6da\"], [0.4, \"#fde0ef\"], [0.5, \"#f7f7f7\"], [0.6, \"#e6f5d0\"], [0.7, \"#b8e186\"], [0.8, \"#7fbc41\"], [0.9, \"#4d9221\"], [1, \"#276419\"]], \"sequential\": [[0.0, \"#0d0887\"], [0.1111111111111111, \"#46039f\"], [0.2222222222222222, \"#7201a8\"], [0.3333333333333333, \"#9c179e\"], [0.4444444444444444, \"#bd3786\"], [0.5555555555555556, \"#d8576b\"], [0.6666666666666666, \"#ed7953\"], [0.7777777777777778, \"#fb9f3a\"], [0.8888888888888888, \"#fdca26\"], [1.0, \"#f0f921\"]], \"sequentialminus\": [[0.0, \"#0d0887\"], [0.1111111111111111, \"#46039f\"], [0.2222222222222222, \"#7201a8\"], [0.3333333333333333, \"#9c179e\"], [0.4444444444444444, \"#bd3786\"], [0.5555555555555556, \"#d8576b\"], [0.6666666666666666, \"#ed7953\"], [0.7777777777777778, \"#fb9f3a\"], [0.8888888888888888, \"#fdca26\"], [1.0, \"#f0f921\"]]}, \"colorway\": [\"#636efa\", \"#EF553B\", \"#00cc96\", \"#ab63fa\", \"#FFA15A\", \"#19d3f3\", \"#FF6692\", \"#B6E880\", \"#FF97FF\", \"#FECB52\"], \"font\": {\"color\": \"#2a3f5f\"}, \"geo\": {\"bgcolor\": \"white\", \"lakecolor\": \"white\", \"landcolor\": \"#E5ECF6\", \"showlakes\": true, \"showland\": true, \"subunitcolor\": \"white\"}, \"hoverlabel\": {\"align\": \"left\"}, \"hovermode\": \"closest\", \"mapbox\": {\"style\": \"light\"}, \"paper_bgcolor\": \"white\", \"plot_bgcolor\": \"#E5ECF6\", \"polar\": {\"angularaxis\": {\"gridcolor\": \"white\", \"linecolor\": \"white\", \"ticks\": \"\"}, \"bgcolor\": \"#E5ECF6\", \"radialaxis\": {\"gridcolor\": \"white\", \"linecolor\": \"white\", \"ticks\": \"\"}}, \"scene\": {\"xaxis\": {\"backgroundcolor\": \"#E5ECF6\", \"gridcolor\": \"white\", \"gridwidth\": 2, \"linecolor\": \"white\", \"showbackground\": true, \"ticks\": \"\", \"zerolinecolor\": \"white\"}, \"yaxis\": {\"backgroundcolor\": \"#E5ECF6\", \"gridcolor\": \"white\", \"gridwidth\": 2, \"linecolor\": \"white\", \"showbackground\": true, \"ticks\": \"\", \"zerolinecolor\": \"white\"}, \"zaxis\": {\"backgroundcolor\": \"#E5ECF6\", \"gridcolor\": \"white\", \"gridwidth\": 2, \"linecolor\": \"white\", \"showbackground\": true, \"ticks\": \"\", \"zerolinecolor\": \"white\"}}, \"shapedefaults\": {\"line\": {\"color\": \"#2a3f5f\"}}, \"ternary\": {\"aaxis\": {\"gridcolor\": \"white\", \"linecolor\": \"white\", \"ticks\": \"\"}, \"baxis\": {\"gridcolor\": \"white\", \"linecolor\": \"white\", \"ticks\": \"\"}, \"bgcolor\": \"#E5ECF6\", \"caxis\": {\"gridcolor\": \"white\", \"linecolor\": \"white\", \"ticks\": \"\"}}, \"title\": {\"x\": 0.05}, \"xaxis\": {\"automargin\": true, \"gridcolor\": \"white\", \"linecolor\": \"white\", \"ticks\": \"\", \"zerolinecolor\": \"white\", \"zerolinewidth\": 2}, \"yaxis\": {\"automargin\": true, \"gridcolor\": \"white\", \"linecolor\": \"white\", \"ticks\": \"\", \"zerolinecolor\": \"white\", \"zerolinewidth\": 2}}}},\n",
       "                        {\"responsive\": true}\n",
       "                    ).then(function(){\n",
       "                            \n",
       "var gd = document.getElementById('92a0fa63-7a32-4912-936d-10ef1a781808');\n",
       "var x = new MutationObserver(function (mutations, observer) {{\n",
       "        var display = window.getComputedStyle(gd).display;\n",
       "        if (!display || display === 'none') {{\n",
       "            console.log([gd, 'removed!']);\n",
       "            Plotly.purge(gd);\n",
       "            observer.disconnect();\n",
       "        }}\n",
       "}});\n",
       "\n",
       "// Listen for the removal of the full notebook cells\n",
       "var notebookContainer = gd.closest('#notebook-container');\n",
       "if (notebookContainer) {{\n",
       "    x.observe(notebookContainer, {childList: true});\n",
       "}}\n",
       "\n",
       "// Listen for the clearing of the current output cell\n",
       "var outputEl = gd.closest('.output');\n",
       "if (outputEl) {{\n",
       "    x.observe(outputEl, {childList: true});\n",
       "}}\n",
       "\n",
       "                        })\n",
       "                };\n",
       "                });\n",
       "            </script>\n",
       "        </div>"
      ]
     },
     "metadata": {},
     "output_type": "display_data"
    }
   ],
   "source": [
    "show('auc')"
   ]
  },
  {
   "cell_type": "code",
   "execution_count": null,
   "metadata": {},
   "outputs": [],
   "source": []
  }
 ],
 "metadata": {
  "kernelspec": {
   "display_name": "Python 3",
   "language": "python",
   "name": "python3"
  },
  "language_info": {
   "codemirror_mode": {
    "name": "ipython",
    "version": 3
   },
   "file_extension": ".py",
   "mimetype": "text/x-python",
   "name": "python",
   "nbconvert_exporter": "python",
   "pygments_lexer": "ipython3",
   "version": "3.6.10"
  }
 },
 "nbformat": 4,
 "nbformat_minor": 4
}
