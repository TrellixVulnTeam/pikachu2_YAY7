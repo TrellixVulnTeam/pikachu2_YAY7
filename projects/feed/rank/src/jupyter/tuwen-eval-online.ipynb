{
 "cells": [
  {
   "cell_type": "code",
   "execution_count": 1,
   "metadata": {},
   "outputs": [
    {
     "data": {
      "text/html": [
       "        <script type=\"text/javascript\">\n",
       "        window.PlotlyConfig = {MathJaxConfig: 'local'};\n",
       "        if (window.MathJax) {MathJax.Hub.Config({SVG: {font: \"STIX-Web\"}});}\n",
       "        if (typeof require !== 'undefined') {\n",
       "        require.undef(\"plotly\");\n",
       "        requirejs.config({\n",
       "            paths: {\n",
       "                'plotly': ['https://cdn.plot.ly/plotly-latest.min']\n",
       "            }\n",
       "        });\n",
       "        require(['plotly'], function(Plotly) {\n",
       "            window._Plotly = Plotly;\n",
       "        });\n",
       "        }\n",
       "        </script>\n",
       "        "
      ]
     },
     "metadata": {},
     "output_type": "display_data"
    }
   ],
   "source": [
    "import pandas as pd\n",
    "import os\n",
    "import glob\n",
    "import traceback\n",
    "from datetime import datetime\n",
    "import pandas as pd\n",
    "from plotly.graph_objs import Scatter,Layout\n",
    "import plotly\n",
    "import plotly.offline as py\n",
    "import numpy as np\n",
    "import plotly.graph_objs as go\n",
    "from plotly.subplots import make_subplots\n",
    "plotly.offline.init_notebook_mode(connected=True)\n",
    "import plotly.express as px\n",
    "import gezi\n",
    "from gezi import tqdm \n",
    "import pymp\n",
    "import time\n",
    "import qgrid\n",
    "from sklearn.metrics import roc_auc_score\n",
    "from multiprocessing import Manager, cpu_count\n",
    "from projects.feed.rank.utils.doc_info.KV import KV"
   ]
  },
  {
   "cell_type": "code",
   "execution_count": 2,
   "metadata": {},
   "outputs": [
    {
     "data": {
      "text/html": [
       "<style>\n",
       ".output_wrapper, .output {\n",
       "    height:auto !important;\n",
       "    max-height:10000px;  /* your desired max-height here */\n",
       "}\n",
       ".output_scroll {\n",
       "    box-shadow:none !important;\n",
       "    webkit-box-shadow:none !important;\n",
       "}\n",
       "</style>"
      ],
      "text/plain": [
       "<IPython.core.display.HTML object>"
      ]
     },
     "metadata": {},
     "output_type": "display_data"
    }
   ],
   "source": [
    "%%html\n",
    "<style>\n",
    ".output_wrapper, .output {\n",
    "    height:auto !important;\n",
    "    max-height:10000px;  /* your desired max-height here */\n",
    "}\n",
    ".output_scroll {\n",
    "    box-shadow:none !important;\n",
    "    webkit-box-shadow:none !important;\n",
    "}\n",
    "</style>"
   ]
  },
  {
   "cell_type": "code",
   "execution_count": 3,
   "metadata": {},
   "outputs": [
    {
     "name": "stdout",
     "output_type": "stream",
     "text": [
      "/search/odin/publicData/CloudS/libowei/rank_online/infos/tuwen/8/2020050822/valid.csv\n"
     ]
    },
    {
     "data": {
      "text/html": [
       "<div>\n",
       "<style scoped>\n",
       "    .dataframe tbody tr th:only-of-type {\n",
       "        vertical-align: middle;\n",
       "    }\n",
       "\n",
       "    .dataframe tbody tr th {\n",
       "        vertical-align: top;\n",
       "    }\n",
       "\n",
       "    .dataframe thead th {\n",
       "        text-align: right;\n",
       "    }\n",
       "</style>\n",
       "<table border=\"1\" class=\"dataframe\">\n",
       "  <thead>\n",
       "    <tr style=\"text-align: right;\">\n",
       "      <th></th>\n",
       "      <th>doc_topic</th>\n",
       "      <th>abtestid</th>\n",
       "      <th>article_page_time</th>\n",
       "      <th>coldstart_refresh_num</th>\n",
       "      <th>did</th>\n",
       "      <th>distribution</th>\n",
       "      <th>docid</th>\n",
       "      <th>duration</th>\n",
       "      <th>id</th>\n",
       "      <th>impression_time</th>\n",
       "      <th>...</th>\n",
       "      <th>click</th>\n",
       "      <th>weight</th>\n",
       "      <th>cold</th>\n",
       "      <th>product_data</th>\n",
       "      <th>pred</th>\n",
       "      <th>pred_click</th>\n",
       "      <th>pred_dur</th>\n",
       "      <th>hour</th>\n",
       "      <th>dur</th>\n",
       "      <th>mark</th>\n",
       "    </tr>\n",
       "  </thead>\n",
       "  <tbody>\n",
       "    <tr>\n",
       "      <th>0</th>\n",
       "      <td>0</td>\n",
       "      <td>4</td>\n",
       "      <td>1588764222</td>\n",
       "      <td>2</td>\n",
       "      <td>7751987992946443570</td>\n",
       "      <td>3028</td>\n",
       "      <td>20506l0l42osgG</td>\n",
       "      <td>0</td>\n",
       "      <td>721a866655031185162\\t20506l0l42osgG</td>\n",
       "      <td>1588945094</td>\n",
       "      <td>...</td>\n",
       "      <td>0</td>\n",
       "      <td>1.0</td>\n",
       "      <td>0</td>\n",
       "      <td>sgsapp</td>\n",
       "      <td>0.023042</td>\n",
       "      <td>0.088624</td>\n",
       "      <td>0.412387</td>\n",
       "      <td>2020050822</td>\n",
       "      <td>0</td>\n",
       "      <td>tuwen</td>\n",
       "    </tr>\n",
       "    <tr>\n",
       "      <th>1</th>\n",
       "      <td>0</td>\n",
       "      <td>16</td>\n",
       "      <td>1588867796</td>\n",
       "      <td>1</td>\n",
       "      <td>-1694197970914465223</td>\n",
       "      <td>3039</td>\n",
       "      <td>open_doc_prod28265848</td>\n",
       "      <td>64</td>\n",
       "      <td>35c3864826043423386\\topen_doc_prod28265848</td>\n",
       "      <td>1588944890</td>\n",
       "      <td>...</td>\n",
       "      <td>1</td>\n",
       "      <td>1.0</td>\n",
       "      <td>0</td>\n",
       "      <td>sgsapp</td>\n",
       "      <td>0.127533</td>\n",
       "      <td>0.633218</td>\n",
       "      <td>0.123271</td>\n",
       "      <td>2020050822</td>\n",
       "      <td>64</td>\n",
       "      <td>tuwen</td>\n",
       "    </tr>\n",
       "    <tr>\n",
       "      <th>2</th>\n",
       "      <td>0</td>\n",
       "      <td>16</td>\n",
       "      <td>1588640321</td>\n",
       "      <td>7</td>\n",
       "      <td>-4696901797553807890</td>\n",
       "      <td>3116</td>\n",
       "      <td>open_doc_prod28047474</td>\n",
       "      <td>0</td>\n",
       "      <td>3f65860469041174513\\topen_doc_prod28047474</td>\n",
       "      <td>1588948145</td>\n",
       "      <td>...</td>\n",
       "      <td>0</td>\n",
       "      <td>1.0</td>\n",
       "      <td>0</td>\n",
       "      <td>sgsapp</td>\n",
       "      <td>0.054822</td>\n",
       "      <td>0.234560</td>\n",
       "      <td>0.233364</td>\n",
       "      <td>2020050822</td>\n",
       "      <td>0</td>\n",
       "      <td>tuwen</td>\n",
       "    </tr>\n",
       "    <tr>\n",
       "      <th>3</th>\n",
       "      <td>0</td>\n",
       "      <td>0</td>\n",
       "      <td>1588314032</td>\n",
       "      <td>6</td>\n",
       "      <td>-7499005563532932609</td>\n",
       "      <td>3019</td>\n",
       "      <td>20501f0l3qu8D1</td>\n",
       "      <td>0</td>\n",
       "      <td>c85e1588292268995|8a4770\\t20501f0l3qu8D1</td>\n",
       "      <td>1588944951</td>\n",
       "      <td>...</td>\n",
       "      <td>0</td>\n",
       "      <td>1.0</td>\n",
       "      <td>0</td>\n",
       "      <td>sgsapp</td>\n",
       "      <td>0.033811</td>\n",
       "      <td>0.160258</td>\n",
       "      <td>0.237362</td>\n",
       "      <td>2020050822</td>\n",
       "      <td>0</td>\n",
       "      <td>tuwen</td>\n",
       "    </tr>\n",
       "    <tr>\n",
       "      <th>4</th>\n",
       "      <td>0</td>\n",
       "      <td>2</td>\n",
       "      <td>1588922950</td>\n",
       "      <td>1</td>\n",
       "      <td>5004843507350979974</td>\n",
       "      <td>3116</td>\n",
       "      <td>20508f0T39QH90</td>\n",
       "      <td>0</td>\n",
       "      <td>b89e864395038608971\\t20508f0T39QH90</td>\n",
       "      <td>1588946523</td>\n",
       "      <td>...</td>\n",
       "      <td>0</td>\n",
       "      <td>1.0</td>\n",
       "      <td>0</td>\n",
       "      <td>sgsapp</td>\n",
       "      <td>0.013509</td>\n",
       "      <td>0.085229</td>\n",
       "      <td>0.206792</td>\n",
       "      <td>2020050822</td>\n",
       "      <td>0</td>\n",
       "      <td>tuwen</td>\n",
       "    </tr>\n",
       "  </tbody>\n",
       "</table>\n",
       "<p>5 rows × 46 columns</p>\n",
       "</div>"
      ],
      "text/plain": [
       "   doc_topic  abtestid  article_page_time  coldstart_refresh_num  \\\n",
       "0          0         4         1588764222                      2   \n",
       "1          0        16         1588867796                      1   \n",
       "2          0        16         1588640321                      7   \n",
       "3          0         0         1588314032                      6   \n",
       "4          0         2         1588922950                      1   \n",
       "\n",
       "                   did distribution                  docid  duration  \\\n",
       "0  7751987992946443570         3028         20506l0l42osgG         0   \n",
       "1 -1694197970914465223         3039  open_doc_prod28265848        64   \n",
       "2 -4696901797553807890         3116  open_doc_prod28047474         0   \n",
       "3 -7499005563532932609         3019         20501f0l3qu8D1         0   \n",
       "4  5004843507350979974         3116         20508f0T39QH90         0   \n",
       "\n",
       "                                           id  impression_time  ...  click  \\\n",
       "0         721a866655031185162\\t20506l0l42osgG       1588945094  ...      0   \n",
       "1  35c3864826043423386\\topen_doc_prod28265848       1588944890  ...      1   \n",
       "2  3f65860469041174513\\topen_doc_prod28047474       1588948145  ...      0   \n",
       "3    c85e1588292268995|8a4770\\t20501f0l3qu8D1       1588944951  ...      0   \n",
       "4         b89e864395038608971\\t20508f0T39QH90       1588946523  ...      0   \n",
       "\n",
       "  weight cold product_data      pred pred_click  pred_dur        hour  dur  \\\n",
       "0    1.0    0       sgsapp  0.023042   0.088624  0.412387  2020050822    0   \n",
       "1    1.0    0       sgsapp  0.127533   0.633218  0.123271  2020050822   64   \n",
       "2    1.0    0       sgsapp  0.054822   0.234560  0.233364  2020050822    0   \n",
       "3    1.0    0       sgsapp  0.033811   0.160258  0.237362  2020050822    0   \n",
       "4    1.0    0       sgsapp  0.013509   0.085229  0.206792  2020050822    0   \n",
       "\n",
       "    mark  \n",
       "0  tuwen  \n",
       "1  tuwen  \n",
       "2  tuwen  \n",
       "3  tuwen  \n",
       "4  tuwen  \n",
       "\n",
       "[5 rows x 46 columns]"
      ]
     },
     "execution_count": 3,
     "metadata": {},
     "output_type": "execute_result"
    }
   ],
   "source": [
    "info_dir = f'/search/odin/publicData/CloudS/libowei/rank_online/infos/tuwen/8'\n",
    "hour = 2020050822\n",
    "info_path = f'{info_dir}/{hour}/valid.csv'\n",
    "print(info_path)\n",
    "df = pd.read_csv(info_path)\n",
    "# df2 = pd.read_csv()\n",
    "# df = df.rename({'duration':'dur'})\n",
    "df['dur'] = df.duration\n",
    "df['mark'] = 'tuwen'\n",
    "# info_dir = f'/search/odin/publicData/CloudS/libowei/rank_online/infos/video/8'\n",
    "# info_path = f'{info_dir}/{hour}/valid.csv'\n",
    "# df2 = pd.read_csv(info_path)\n",
    "# df2['dur'] = df.duration\n",
    "# df2['mark'] = 'video'\n",
    "# df = pd.concat([df, df2])\n",
    "df = df[df.product_data=='sgsapp']\n",
    "df.head()"
   ]
  },
  {
   "cell_type": "code",
   "execution_count": 4,
   "metadata": {},
   "outputs": [],
   "source": [
    "df['click'] = (df.dur != 0).astype(int)"
   ]
  },
  {
   "cell_type": "code",
   "execution_count": 5,
   "metadata": {},
   "outputs": [],
   "source": [
    "# kv = KV()\n",
    "# titles = kv.get_titles(list(set(df.docid.values)))\n",
    "# df['title'] = df.docid.apply(lambda x: titles.get(x, ''))"
   ]
  },
  {
   "cell_type": "code",
   "execution_count": 6,
   "metadata": {},
   "outputs": [],
   "source": [
    "pd.set_option('display.max_rows', 1000)\n",
    "pd.set_option(\"display.precision\", 8)"
   ]
  },
  {
   "cell_type": "code",
   "execution_count": 7,
   "metadata": {},
   "outputs": [],
   "source": [
    "if 'article_page_time' not in df.columns:\n",
    "  df.article_page_time = df.impression_time\n",
    "df['page_time'] = (df.impression_time - df.article_page_time) / 60 / 60 / 24"
   ]
  },
  {
   "cell_type": "code",
   "execution_count": 8,
   "metadata": {},
   "outputs": [],
   "source": [
    "df['impression'] = df.mid + '\\t' + df.impression_time.astype(str)"
   ]
  },
  {
   "cell_type": "code",
   "execution_count": 9,
   "metadata": {},
   "outputs": [],
   "source": [
    "mean_duration = df[df.dur > 0].dur.mean()"
   ]
  },
  {
   "cell_type": "code",
   "execution_count": 10,
   "metadata": {},
   "outputs": [
    {
     "data": {
      "text/plain": [
       "93.39725693648246"
      ]
     },
     "execution_count": 10,
     "metadata": {},
     "output_type": "execute_result"
    }
   ],
   "source": [
    "mean_duration"
   ]
  },
  {
   "cell_type": "code",
   "execution_count": 11,
   "metadata": {},
   "outputs": [],
   "source": [
    "from projects.feed.rank.src import util\n",
    "df['cold'] = df.rea.apply(lambda x: int(x) in util.cold_starts)\n",
    "# df = df[df.product_data=='sgsapp']"
   ]
  },
  {
   "cell_type": "code",
   "execution_count": 12,
   "metadata": {},
   "outputs": [],
   "source": [
    "import math\n",
    "df.pred = df.pred.apply(lambda x: math.sqrt(x))"
   ]
  },
  {
   "cell_type": "code",
   "execution_count": 13,
   "metadata": {},
   "outputs": [],
   "source": [
    "cold_mids = set(df[df.cold==True].mid.values)"
   ]
  },
  {
   "cell_type": "code",
   "execution_count": 14,
   "metadata": {},
   "outputs": [
    {
     "data": {
      "text/plain": [
       "111499"
      ]
     },
     "execution_count": 14,
     "metadata": {},
     "output_type": "execute_result"
    }
   ],
   "source": [
    "len(set(df.mid.values))"
   ]
  },
  {
   "cell_type": "code",
   "execution_count": 15,
   "metadata": {},
   "outputs": [
    {
     "data": {
      "text/plain": [
       "5800"
      ]
     },
     "execution_count": 15,
     "metadata": {},
     "output_type": "execute_result"
    }
   ],
   "source": [
    "len(cold_mids)"
   ]
  },
  {
   "cell_type": "code",
   "execution_count": 16,
   "metadata": {},
   "outputs": [],
   "source": [
    "# def debug(mid=None, cold=False):\n",
    "#   if mid is None:\n",
    "#     if not cold:\n",
    "#       mid = df.mid.sample(1).values[0]\n",
    "#     else:\n",
    "#       mid = df[df.mid.isin(cold_mids)].mid.sample(1).values[0]\n",
    "#   print('mid:', mid)\n",
    "#   cols = ['position', 'title', 'mark', 'dur', 'ori_lr_score', 'pred', 'pred_click', 'pred_dur', 'docid']\n",
    "# #   if 'hour' in df.columns:\n",
    "# #     cols += ['hour']\n",
    "#   d = df[df.mid==mid]\n",
    "#   start_time = d.impression_time.min()\n",
    "#   d['time'] = d.impression_time.apply(lambda x: int((x - start_time) / 60))\n",
    "# #   cols += ['time']\n",
    "#   d = d.sort_values(['impression_time', 'position'])[cols].reset_index(drop=True)\n",
    "# #   return d.sort_values(['ori_lr_score'], ascending=False)[cols].reset_index(drop=True)\n",
    "#   return d"
   ]
  },
  {
   "cell_type": "code",
   "execution_count": 17,
   "metadata": {},
   "outputs": [],
   "source": [
    "# debug()"
   ]
  },
  {
   "cell_type": "code",
   "execution_count": 18,
   "metadata": {},
   "outputs": [
    {
     "data": {
      "text/plain": [
       "364616"
      ]
     },
     "execution_count": 18,
     "metadata": {},
     "output_type": "execute_result"
    }
   ],
   "source": [
    "len(set(df.impression.values)) "
   ]
  },
  {
   "cell_type": "code",
   "execution_count": 19,
   "metadata": {},
   "outputs": [
    {
     "data": {
      "text/plain": [
       "111499"
      ]
     },
     "execution_count": 19,
     "metadata": {},
     "output_type": "execute_result"
    }
   ],
   "source": [
    "len(set(df.mid.values))"
   ]
  },
  {
   "cell_type": "code",
   "execution_count": 20,
   "metadata": {},
   "outputs": [
    {
     "data": {
      "text/plain": [
       "3.2701279832106116"
      ]
     },
     "execution_count": 20,
     "metadata": {},
     "output_type": "execute_result"
    }
   ],
   "source": [
    "len(set(df.impression.values))  / len(set(df.mid.values))"
   ]
  },
  {
   "cell_type": "code",
   "execution_count": 21,
   "metadata": {},
   "outputs": [
    {
     "data": {
      "text/plain": [
       "99042"
      ]
     },
     "execution_count": 21,
     "metadata": {},
     "output_type": "execute_result"
    }
   ],
   "source": [
    "len(set(df[df.dur!=0].mid.values))"
   ]
  },
  {
   "cell_type": "code",
   "execution_count": 22,
   "metadata": {},
   "outputs": [
    {
     "data": {
      "text/plain": [
       "0.888277024906053"
      ]
     },
     "execution_count": 22,
     "metadata": {},
     "output_type": "execute_result"
    }
   ],
   "source": [
    "len(set(df[df.dur!=0].mid.values)) / len(set(df.mid.values))"
   ]
  },
  {
   "cell_type": "code",
   "execution_count": 23,
   "metadata": {},
   "outputs": [],
   "source": [
    "d_tuwen = df[df.mark=='tuwen']"
   ]
  },
  {
   "cell_type": "code",
   "execution_count": 24,
   "metadata": {},
   "outputs": [],
   "source": [
    "from projects.feed.rank.src.evaluate import evaluate_df as eval\n",
    "import melt "
   ]
  },
  {
   "cell_type": "code",
   "execution_count": 25,
   "metadata": {},
   "outputs": [],
   "source": [
    "melt.init_flags()"
   ]
  },
  {
   "cell_type": "code",
   "execution_count": 26,
   "metadata": {},
   "outputs": [
    {
     "name": "stderr",
     "output_type": "stream",
     "text": [
      "                                                                         \r"
     ]
    },
    {
     "data": {
      "text/plain": [
       "{'auc': 0.6481778767768719,\n",
       " 'mse': 0.1286269221498225,\n",
       " 'mae': 0.2125833805389246,\n",
       " 'time_auc': 0.6369662834497358,\n",
       " 'mean': 0.3032631352178993,\n",
       " 'loss/click': 2.9298920103780777,\n",
       " 'loss/dur': array(3.115561, dtype=float32),\n",
       " 'stats/pos_ratio': 0.16470850074916119,\n",
       " 'vtime_auc': nan,\n",
       " 'finish_auc': 0.8163894347800009,\n",
       " 'rcr_auc': 0.6397850541717504,\n",
       " 'ptime_auc': 0.5364894584122226,\n",
       " 'stats/num_instances': 2197124,\n",
       " 'stats/click_ratio': 0.16470850074916119,\n",
       " 'stats/time_per_show': 0.24864667019822026,\n",
       " 'stats/time_per_click': 0.025943682482356237,\n",
       " 'stats/time_per_user': 0.02482401195900466,\n",
       " 'stats/vtime_per_show': 0.0,\n",
       " 'stats/vtime_per_click': 0.0,\n",
       " 'stats/vtime_per_user': 0.0,\n",
       " 'click/time_auc': 0.500214514340685,\n",
       " 'click/loss/dur': nan,\n",
       " 'click/mse': 0.7541507413451413,\n",
       " 'click/rmse': 0.13158147109522056,\n",
       " 'click/mae': 0.5288891430208741,\n",
       " 'click/mean': 0.5609502743714677,\n",
       " 'group/auc': 0.6605122291860622,\n",
       " 'group/auc2': 0.6870433234976439,\n",
       " 'group/pos_ratio': 0.2658416858410858,\n",
       " 'group/time_auc': 0.6522090688442328,\n",
       " 'group/top1_dur': 51.222258642541846,\n",
       " 'group/top3_dur': 30.91845495020902,\n",
       " 'group/top1_dur_best': 120.69818845330187,\n",
       " 'group/top3_dur_best': 36.76423432915293,\n",
       " 'group/top1_dur_rate': 0.4243829944668949,\n",
       " 'group/top3_dur_rate': 0.8409927614266026,\n",
       " 'group/top1_click': 0.5474171123558762,\n",
       " 'group/top3_click': 0.32225914354060126,\n",
       " 'group/top1_click_best': 1.0,\n",
       " 'group/top3_click_best': 0.3934730510525149,\n",
       " 'group/top1_click_rate': 0.5474171123558762,\n",
       " 'group/top3_click_rate': 0.819011982341812,\n",
       " 'group/first_click_position': 1.228530438726964,\n",
       " 'group/last_click_position': 3.1918362395434454,\n",
       " 'group/ndcg3_click': 0.6381483227308337,\n",
       " 'group/ndcg7_click': 0.723873336612498,\n",
       " 'group/ndcg14_click': 0.7621868403700826,\n",
       " 'group/ndcg_click': 0.7622826187878251,\n",
       " 'group/ndcg3_dur': 0.597920283639613,\n",
       " 'group/ndcg7_dur': 0.6879215838020244,\n",
       " 'group/ndcg14_dur': 0.7206599302320518,\n",
       " 'group/ndcg_dur': 0.7207335449755916,\n",
       " 'group/click/time_auc': 0.5320211095353917,\n",
       " 'group/click/top1_dur': 92.12900987719068,\n",
       " 'group/click/top3_dur': 93.60519327320905,\n",
       " 'group/click/top1_dur_best': 120.69818845330187,\n",
       " 'group/click/top3_dur_best': 94.28728906141045,\n",
       " 'group/click/top1_dur_rate': 0.7633006846066741,\n",
       " 'group/click/top3_dur_rate': 0.9927657715584851,\n",
       " 'group/click/top1_click': 1.0,\n",
       " 'group/click/top3_click': 1.0,\n",
       " 'group/click/top1_click_best': 1.0,\n",
       " 'group/click/top3_click_best': 1.0,\n",
       " 'group/click/top1_click_rate': 1.0,\n",
       " 'group/click/top3_click_rate': 1.0,\n",
       " 'group/click/first_click_position': 0.0,\n",
       " 'group/click/last_click_position': 0.9087365633933563,\n",
       " 'group/click/ndcg3_click': 1.0,\n",
       " 'group/click/ndcg7_click': 1.0,\n",
       " 'group/click/ndcg14_click': 1.0,\n",
       " 'group/click/ndcg_click': 1.0,\n",
       " 'group/click/ndcg3_dur': 0.9348071646377413,\n",
       " 'group/click/ndcg7_dur': 0.948386872717455,\n",
       " 'group/click/ndcg14_dur': 0.9487868161289489,\n",
       " 'group/click/ndcg_dur': 0.9487868161289489,\n",
       " 'gold/auc': 0.5927954529458401,\n",
       " 'clickmids/auc': 0.6398003376537472,\n",
       " 'cold/auc': 0.7131230945609626,\n",
       " 'cold/group/auc': 0.5909957019770103,\n",
       " 'cold/group/auc2': 0.5938272580418598,\n",
       " 'cold/group/pos_ratio': 0.2677443798939126,\n",
       " 'cold/group/top1_score': 21.729174591099277,\n",
       " 'cold/group/top3_score': 11.664877300613497,\n",
       " 'cold/group/top1_best': 40.71662228984405,\n",
       " 'cold/group/top3_best': 12.190184049079754,\n",
       " 'cold/group/top1_rate': 0.5336683980419267,\n",
       " 'cold/group/top3_rate': 0.9569073980875693,\n",
       " 'cold/group/top1_click': 0.4623694634497659,\n",
       " 'cold/group/top3_click': 0.3077207240487625,\n",
       " 'cold/group/top1_click_best': 1.0,\n",
       " 'cold/group/top3_click_best': 0.324251939416328,\n",
       " 'cold/group/top1_click_rate': 0.4623694634497659,\n",
       " 'cold/group/top3_click_rate': 0.9490173739675307,\n",
       " 'cold/group/first_click_position': 1.1245948865682391,\n",
       " 'cold/group/last_click_position': 1.726683471371984,\n",
       " 'cold/group/ndcg3_click': 0.6569233856479885,\n",
       " 'cold/group/ndcg7_click': 0.7377071666736097,\n",
       " 'cold/group/ndcg14_click': 0.7436654172184717,\n",
       " 'cold/group/ndcg_click': 0.7436654172184717,\n",
       " 'cold/group/ndcg3_dur': 0.64536447839215,\n",
       " 'cold/group/ndcg7_dur': 0.7253625054830657,\n",
       " 'cold/group/ndcg14_dur': 0.7313985417395701,\n",
       " 'cold/group/ndcg_dur': 0.7313985417395701,\n",
       " 'cold/click/time_auc': 0.5469363621667467,\n",
       " 'cold/group/click/time_auc': 0.556174618422457,\n",
       " 'cold/group/click/top1_score': 38.02814758463294,\n",
       " 'cold/group/click/top3_score': 38.238496240601506,\n",
       " 'cold/group/click/top1_best': 40.71662228984405,\n",
       " 'cold/group/click/top3_best': 38.246015037593985,\n",
       " 'cold/group/click/top1_rate': 0.9339710773140018,\n",
       " 'cold/group/click/top3_rate': 0.9998034096628083,\n",
       " 'cold/group/click/top1_click': 1.0,\n",
       " 'cold/group/click/top3_click': 1.0,\n",
       " 'cold/group/click/top1_click_best': 1.0,\n",
       " 'cold/group/click/top3_click_best': 1.0,\n",
       " 'cold/group/click/top1_click_rate': 1.0,\n",
       " 'cold/group/click/top3_click_rate': 1.0,\n",
       " 'cold/group/click/first_click_position': 0.0,\n",
       " 'cold/group/click/last_click_position': 0.26511981742107266,\n",
       " 'cold/group/click/ndcg3_click': 1.0,\n",
       " 'cold/group/click/ndcg7_click': 1.0,\n",
       " 'cold/group/click/ndcg14_click': 1.0,\n",
       " 'cold/group/click/ndcg_click': 1.0,\n",
       " 'cold/group/click/ndcg3_dur': 0.9868347625857024,\n",
       " 'cold/group/click/ndcg7_dur': 0.9878344739889385,\n",
       " 'cold/group/click/ndcg14_dur': 0.9878344739889385,\n",
       " 'cold/group/click/ndcg_dur': 0.9878344739889385,\n",
       " 'quality/auc': 0.6404504615121982,\n",
       " 'quality/group/auc': 0.6700125460383509,\n",
       " 'quality/group/auc2': 0.6992688319541908,\n",
       " 'quality/group/pos_ratio': 0.27297198153184493,\n",
       " 'quality/group/top1_score': 51.487164795860785,\n",
       " 'quality/group/top3_score': 31.019415243826185,\n",
       " 'quality/group/top1_best': 118.17824309190823,\n",
       " 'quality/group/top3_best': 36.43617079970869,\n",
       " 'quality/group/top1_rate': 0.43567380465978645,\n",
       " 'quality/group/top3_rate': 0.8513357623209458,\n",
       " 'quality/group/top1_click': 0.5666940266005561,\n",
       " 'quality/group/top3_click': 0.33164233622341194,\n",
       " 'quality/group/top1_click_best': 1.0,\n",
       " 'quality/group/top3_click_best': 0.3998254146848431,\n",
       " 'quality/group/top1_click_rate': 0.5666940266005561,\n",
       " 'quality/group/top3_click_rate': 0.8294678728335078,\n",
       " 'quality/group/first_click_position': 1.1406328520218432,\n",
       " 'quality/group/last_click_position': 3.0310479413045663,\n",
       " 'quality/group/ndcg3_click': 0.6589482184649001,\n",
       " 'quality/group/ndcg7_click': 0.7395325349736139,\n",
       " 'quality/group/ndcg14_click': 0.774772274051699,\n",
       " 'quality/group/ndcg_click': 0.7748424750285191,\n",
       " 'quality/group/ndcg3_dur': 0.6180978334162387,\n",
       " 'quality/group/ndcg7_dur': 0.7030995610683083,\n",
       " 'quality/group/ndcg14_dur': 0.7328331495108314,\n",
       " 'quality/group/ndcg_dur': 0.7328917480140156,\n",
       " 'quality/click/time_auc': 0.5057381689922578,\n",
       " 'quality/group/click/time_auc': 0.5351840362262413,\n",
       " 'quality/group/click/top1_score': 90.74884322559922,\n",
       " 'quality/group/click/top3_score': 91.28398624727984,\n",
       " 'quality/group/click/top1_best': 118.17824309190823,\n",
       " 'quality/group/click/top3_best': 91.92651760153304,\n",
       " 'quality/group/click/top1_rate': 0.7678980567939486,\n",
       " 'quality/group/click/top3_rate': 0.9930103807800233,\n",
       " 'quality/group/click/top1_click': 1.0,\n",
       " 'quality/group/click/top3_click': 1.0,\n",
       " 'quality/group/click/top1_click_best': 1.0,\n",
       " 'quality/group/click/top3_click_best': 1.0,\n",
       " 'quality/group/click/top1_click_rate': 1.0,\n",
       " 'quality/group/click/top3_click_rate': 1.0,\n",
       " 'quality/group/click/first_click_position': 0.0,\n",
       " 'quality/group/click/last_click_position': 0.8969450738338933,\n",
       " 'quality/group/click/ndcg3_click': 1.0,\n",
       " 'quality/group/click/ndcg7_click': 1.0,\n",
       " 'quality/group/click/ndcg14_click': 1.0,\n",
       " 'quality/group/click/ndcg_click': 1.0,\n",
       " 'quality/group/click/ndcg3_dur': 0.9350210310767791,\n",
       " 'quality/group/click/ndcg7_dur': 0.9484609288761625,\n",
       " 'quality/group/click/ndcg14_dur': 0.9488730694491928,\n",
       " 'quality/group/click/ndcg_dur': 0.9488730694491928,\n",
       " 'inv_rate': 0.0}"
      ]
     },
     "execution_count": 26,
     "metadata": {},
     "output_type": "execute_result"
    }
   ],
   "source": [
    "result = eval(d_tuwen, group_by_impression=True, key='ori_lr_score', eval_click=False, eval_duration=False)\n",
    "result "
   ]
  },
  {
   "cell_type": "code",
   "execution_count": 27,
   "metadata": {},
   "outputs": [
    {
     "data": {
      "text/plain": [
       "0          sgsapp\n",
       "1          sgsapp\n",
       "2          sgsapp\n",
       "3          sgsapp\n",
       "4          sgsapp\n",
       "            ...  \n",
       "4778048    sgsapp\n",
       "4778099    sgsapp\n",
       "4778150    sgsapp\n",
       "4778201    sgsapp\n",
       "4778252    sgsapp\n",
       "Name: product_data, Length: 2197124, dtype: object"
      ]
     },
     "execution_count": 27,
     "metadata": {},
     "output_type": "execute_result"
    }
   ],
   "source": [
    "d_tuwen.product_data"
   ]
  },
  {
   "cell_type": "code",
   "execution_count": null,
   "metadata": {},
   "outputs": [],
   "source": []
  }
 ],
 "metadata": {
  "kernelspec": {
   "display_name": "Python 3",
   "language": "python",
   "name": "python3"
  },
  "language_info": {
   "codemirror_mode": {
    "name": "ipython",
    "version": 3
   },
   "file_extension": ".py",
   "mimetype": "text/x-python",
   "name": "python",
   "nbconvert_exporter": "python",
   "pygments_lexer": "ipython3",
   "version": "3.6.8"
  }
 },
 "nbformat": 4,
 "nbformat_minor": 2
}
