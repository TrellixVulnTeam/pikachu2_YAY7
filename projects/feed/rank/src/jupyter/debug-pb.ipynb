{
 "cells": [
  {
   "cell_type": "code",
   "execution_count": 1,
   "metadata": {},
   "outputs": [
    {
     "name": "stderr",
     "output_type": "stream",
     "text": [
      "tensorflow_version: 1.14.0\n",
      "torch_version: 1.2.0\n",
      "Using TensorFlow backend.\n"
     ]
    },
    {
     "name": "stdout",
     "output_type": "stream",
     "text": [
      "WARNING:tensorflow:\n",
      "The TensorFlow contrib module will not be included in TensorFlow 2.0.\n",
      "For more information, please see:\n",
      "  * https://github.com/tensorflow/community/blob/master/rfcs/20180907-contrib-sunset.md\n",
      "  * https://github.com/tensorflow/addons\n",
      "  * https://github.com/tensorflow/io (for I/O related ops)\n",
      "If you depend on functionality not listed there, please file an issue.\n",
      "\n"
     ]
    }
   ],
   "source": [
    "import sys\n",
    "import os\n",
    "import melt\n",
    "import gezi\n",
    "import tensorflow as tf\n",
    "import numpy as np"
   ]
  },
  {
   "cell_type": "code",
   "execution_count": 54,
   "metadata": {},
   "outputs": [],
   "source": [
    "pb_path = '/home/gezi/tmp/rank/data/debug/2019102407_1-2019102404_24/model.pb'"
   ]
  },
  {
   "cell_type": "code",
   "execution_count": 3,
   "metadata": {},
   "outputs": [
    {
     "name": "stdout",
     "output_type": "stream",
     "text": [
      "WARNING:tensorflow:From /home/gezi/mine/pikachu/utils/melt/util.py:405: The name tf.keras.backend.set_session is deprecated. Please use tf.compat.v1.keras.backend.set_session instead.\n",
      "\n"
     ]
    },
    {
     "name": "stderr",
     "output_type": "stream",
     "text": [
      "model.pb: /home/gezi/tmp/rank/data/debug/2019102407_1-2019102404_24/model.pb\n",
      "------------frozen_graph_name: prefix\n",
      "load pb done\n"
     ]
    }
   ],
   "source": [
    "predictor = melt.Predictor()\n",
    "print('model.pb:', pb_path, file=sys.stderr)\n",
    "predictor.load_graph(pb_path, 'prefix', frozen_map_file=pb_path.replace('.pb', '.map'))\n",
    "print('load pb done', file=sys.stderr)"
   ]
  },
  {
   "cell_type": "code",
   "execution_count": 4,
   "metadata": {},
   "outputs": [
    {
     "data": {
      "text/plain": [
       "[<tf.Tensor 'prefix/index_feed:0' shape=(?, ?) dtype=int64>]"
      ]
     },
     "execution_count": 4,
     "metadata": {},
     "output_type": "execute_result"
    }
   ],
   "source": [
    "predictor.graph.get_collection('index_feed')"
   ]
  },
  {
   "cell_type": "code",
   "execution_count": 36,
   "metadata": {},
   "outputs": [],
   "source": [
    "fnames = open('/home/gezi/tmp/rank/data/debug/2019102407_1-2019102404_24/feat_fields.txt').readlines()\n",
    "fnames = ['None'] + [x.split()[0] for x in fnames]"
   ]
  },
  {
   "cell_type": "code",
   "execution_count": 55,
   "metadata": {},
   "outputs": [],
   "source": [
    "debug_file = '/home/gezi/tmp/rank/data/debug/2019102407_1-2019102404_24/debug.txt'"
   ]
  },
  {
   "cell_type": "code",
   "execution_count": 56,
   "metadata": {},
   "outputs": [],
   "source": [
    "def filter(index, value, field, masked_fields):\n",
    "    flags = np.asarray([True if x not in masked_fields else False for x in field])\n",
    "    index, value, field = np.asarray(index), np.asarray(value), np.asarray(field)\n",
    "    index = list(index[flags])\n",
    "    value = list(value[flags])\n",
    "    field = list(field[flags])\n",
    "    return index, value, field"
   ]
  },
  {
   "cell_type": "code",
   "execution_count": 59,
   "metadata": {},
   "outputs": [
    {
     "name": "stdout",
     "output_type": "stream",
     "text": [
      "1\tAGE\t01d9867474035026342\t19a22n0l4lySEy\t0\t0.2888722\n",
      "2\tCAGATTP\t01d9867474035026342\t19a22n0l4lySEy\t0\t0.2888722\n",
      "3\tCEDATTP\t01d9867474035026342\t19a22n0l4lySEy\t0\t0.2888722\n",
      "4\tCITATCOTP\t01d9867474035026342\t19a22n0l4lySEy\t0\t0.2588722\n",
      "5\tCRWATIDQUALS\t01d9867474035026342\t19a22n0l4lySEy\t0\t0.2888722\n",
      "6\tCSXATTP\t01d9867474035026342\t19a22n0l4lySEy\t0\t0.2788722\n",
      "7\tDATCMT\t01d9867474035026342\t19a22n0l4lySEy\t0\t0.2588722\n",
      "8\tDATCMTLIKE\t01d9867474035026342\t19a22n0l4lySEy\t0\t0.2788722\n",
      "9\tDATCMTRPY\t01d9867474035026342\t19a22n0l4lySEy\t0\t0.2888722\n",
      "10\tDATCTR\t01d9867474035026342\t19a22n0l4lySEy\t0\t0.3188722\n",
      "11\tDATRD\t01d9867474035026342\t19a22n0l4lySEy\t0\t0.2988722\n",
      "12\tDPTCT\t01d9867474035026342\t19a22n0l4lySEy\t0\t0.24887219\n",
      "13\tEDU\t01d9867474035026342\t19a22n0l4lySEy\t0\t0.2888722\n",
      "14\tFAVORNUM\t01d9867474035026342\t19a22n0l4lySEy\t0\t0.2988722\n",
      "15\tIACID\t01d9867474035026342\t19a22n0l4lySEy\t0\t0.2888722\n",
      "16\tIATAC\t01d9867474035026342\t19a22n0l4lySEy\t0\t0.2988722\n",
      "17\tIATKW\t01d9867474035026342\t19a22n0l4lySEy\t0\t0.2788722\n",
      "18\tIATKWSE\t01d9867474035026342\t19a22n0l4lySEy\t0\t0.2788722\n",
      "19\tIATLO\t01d9867474035026342\t19a22n0l4lySEy\t0\t0.2888722\n",
      "20\tIATOR\t01d9867474035026342\t19a22n0l4lySEy\t0\t0.2888722\n",
      "21\tIATSO\t01d9867474035026342\t19a22n0l4lySEy\t0\t0.3188722\n",
      "22\tIATTP\t01d9867474035026342\t19a22n0l4lySEy\t0\t0.2788722\n",
      "23\tIATVI\t01d9867474035026342\t19a22n0l4lySEy\t0\t0.2888722\n",
      "24\tIAVGDUR\t01d9867474035026342\t19a22n0l4lySEy\t0\t0.2888722\n",
      "25\tICBRW\t01d9867474035026342\t19a22n0l4lySEy\t0\t0.2888722\n",
      "26\tICBRWDUR\t01d9867474035026342\t19a22n0l4lySEy\t0\t0.2888732\n",
      "27\tICBRWPCNT\t01d9867474035026342\t19a22n0l4lySEy\t0\t0.2888722\n",
      "28\tICBRWPORNS\t01d9867474035026342\t19a22n0l4lySEy\t0\t0.2888722\n",
      "29\tICBRWQUALS\t01d9867474035026342\t19a22n0l4lySEy\t0\t0.2788722\n",
      "30\tICBRWWCNT\t01d9867474035026342\t19a22n0l4lySEy\t0\t0.2888722\n",
      "31\tICFRW\t01d9867474035026342\t19a22n0l4lySEy\t0\t0.2888732\n",
      "32\tICFRWDUR\t01d9867474035026342\t19a22n0l4lySEy\t0\t0.2888732\n",
      "33\tICFRWPCNT\t01d9867474035026342\t19a22n0l4lySEy\t0\t0.2888732\n",
      "34\tICFRWPORNS\t01d9867474035026342\t19a22n0l4lySEy\t0\t0.2888732\n",
      "35\tICFRWQUALS\t01d9867474035026342\t19a22n0l4lySEy\t0\t0.2888732\n",
      "36\tICFRWWCNT\t01d9867474035026342\t19a22n0l4lySEy\t0\t0.2888732\n",
      "37\tILOC\t01d9867474035026342\t19a22n0l4lySEy\t0\t0.2888722\n",
      "38\tIPCNT\t01d9867474035026342\t19a22n0l4lySEy\t0\t0.2588722\n",
      "39\tIPORNS\t01d9867474035026342\t19a22n0l4lySEy\t0\t0.3388722\n",
      "40\tIQUALS\t01d9867474035026342\t19a22n0l4lySEy\t0\t0.2788722\n",
      "41\tIWCNT\t01d9867474035026342\t19a22n0l4lySEy\t0\t0.2888722\n",
      "42\tMITATAC\t01d9867474035026342\t19a22n0l4lySEy\t0\t0.2888732\n",
      "43\tMITATDURAC\t01d9867474035026342\t19a22n0l4lySEy\t0\t0.2888732\n",
      "44\tMITATDURKW\t01d9867474035026342\t19a22n0l4lySEy\t0\t0.2888722\n",
      "45\tMITATDURTG\t01d9867474035026342\t19a22n0l4lySEy\t0\t0.2888722\n",
      "46\tMITATDURTP\t01d9867474035026342\t19a22n0l4lySEy\t0\t0.2888722\n",
      "47\tMITATKW\t01d9867474035026342\t19a22n0l4lySEy\t0\t0.2688722\n",
      "48\tMITATPCNTAC\t01d9867474035026342\t19a22n0l4lySEy\t0\t0.2888732\n",
      "49\tMITATPCNTKW\t01d9867474035026342\t19a22n0l4lySEy\t0\t0.2888722\n",
      "50\tMITATPCNTTG\t01d9867474035026342\t19a22n0l4lySEy\t0\t0.2888722\n",
      "51\tMITATPCNTTP\t01d9867474035026342\t19a22n0l4lySEy\t0\t0.3088722\n",
      "52\tMITATPORNSAC\t01d9867474035026342\t19a22n0l4lySEy\t0\t0.2888732\n",
      "53\tMITATPORNSKW\t01d9867474035026342\t19a22n0l4lySEy\t0\t0.2688722\n",
      "54\tMITATPORNSTG\t01d9867474035026342\t19a22n0l4lySEy\t0\t0.2788722\n",
      "55\tMITATPORNSTP\t01d9867474035026342\t19a22n0l4lySEy\t0\t0.2688722\n",
      "56\tMITATQUALSAC\t01d9867474035026342\t19a22n0l4lySEy\t0\t0.2888732\n",
      "57\tMITATQUALSKW\t01d9867474035026342\t19a22n0l4lySEy\t0\t0.2888722\n",
      "58\tMITATQUALSTG\t01d9867474035026342\t19a22n0l4lySEy\t0\t0.2788722\n",
      "59\tMITATQUALSTP\t01d9867474035026342\t19a22n0l4lySEy\t0\t0.2988722\n",
      "60\tMITATTG\t01d9867474035026342\t19a22n0l4lySEy\t0\t0.2788722\n",
      "61\tMITATTP\t01d9867474035026342\t19a22n0l4lySEy\t0\t0.2888722\n",
      "62\tMITATWCNTAC\t01d9867474035026342\t19a22n0l4lySEy\t0\t0.2888732\n",
      "63\tMITATWCNTKW\t01d9867474035026342\t19a22n0l4lySEy\t0\t0.2788722\n",
      "64\tMITATWCNTTG\t01d9867474035026342\t19a22n0l4lySEy\t0\t0.2888722\n",
      "65\tMITATWCNTTP\t01d9867474035026342\t19a22n0l4lySEy\t0\t0.2788722\n",
      "66\tMSUBITATAC\t01d9867474035026342\t19a22n0l4lySEy\t0\t0.2888732\n",
      "67\tMSUBITATKW\t01d9867474035026342\t19a22n0l4lySEy\t0\t0.2888732\n",
      "68\tMSUBITATTG\t01d9867474035026342\t19a22n0l4lySEy\t0\t0.2888732\n",
      "69\tMSUBITATTP\t01d9867474035026342\t19a22n0l4lySEy\t0\t0.2888732\n",
      "70\tSEX\t01d9867474035026342\t19a22n0l4lySEy\t0\t0.2888722\n",
      "71\tXATCLFV\t01d9867474035026342\t19a22n0l4lySEy\t0\t0.2888722\n",
      "72\tXATCLSA\t01d9867474035026342\t19a22n0l4lySEy\t0\t0.2888722\n",
      "73\tXATSWCL\t01d9867474035026342\t19a22n0l4lySEy\t0\t0.2888722\n",
      "74\tXATSWFV\t01d9867474035026342\t19a22n0l4lySEy\t0\t0.2988722\n",
      "75\tXATSWSA\t01d9867474035026342\t19a22n0l4lySEy\t0\t0.2888722\n",
      "76\tlast_day_acc\t01d9867474035026342\t19a22n0l4lySEy\t0\t0.2888732\n",
      "77\tlast_day_kw\t01d9867474035026342\t19a22n0l4lySEy\t0\t0.2888732\n",
      "78\tlast_day_tag\t01d9867474035026342\t19a22n0l4lySEy\t0\t0.2888732\n",
      "79\tlast_day_topic\t01d9867474035026342\t19a22n0l4lySEy\t0\t0.2888732\n",
      "80\tlast_day_txk\t01d9867474035026342\t19a22n0l4lySEy\t0\t0.2888732\n",
      "81\tlast_seven_day_acc\t01d9867474035026342\t19a22n0l4lySEy\t0\t0.2988722\n",
      "82\tlast_seven_day_kw\t01d9867474035026342\t19a22n0l4lySEy\t0\t0.3088722\n",
      "83\tlast_seven_day_tag\t01d9867474035026342\t19a22n0l4lySEy\t0\t0.2688722\n",
      "84\tlast_seven_day_topic\t01d9867474035026342\t19a22n0l4lySEy\t0\t0.2688722\n",
      "85\tlast_seven_day_txk\t01d9867474035026342\t19a22n0l4lySEy\t0\t0.3188722\n",
      "86\tlast_three_day_acc\t01d9867474035026342\t19a22n0l4lySEy\t0\t0.3188722\n",
      "87\tlast_three_day_kw\t01d9867474035026342\t19a22n0l4lySEy\t0\t0.3288722\n",
      "88\tlast_three_day_tag\t01d9867474035026342\t19a22n0l4lySEy\t0\t0.2788722\n",
      "89\tlast_three_day_topic\t01d9867474035026342\t19a22n0l4lySEy\t0\t0.2688722\n",
      "90\tlast_three_day_txk\t01d9867474035026342\t19a22n0l4lySEy\t0\t0.3088722\n",
      "91\tlong_term_acc\t01d9867474035026342\t19a22n0l4lySEy\t0\t0.2888722\n",
      "92\tlong_term_kw\t01d9867474035026342\t19a22n0l4lySEy\t0\t0.3088722\n",
      "93\tlong_term_tag\t01d9867474035026342\t19a22n0l4lySEy\t0\t0.2888722\n",
      "94\tlong_term_topic\t01d9867474035026342\t19a22n0l4lySEy\t0\t0.2988722\n",
      "95\tlong_term_txk\t01d9867474035026342\t19a22n0l4lySEy\t0\t0.3388722\n"
     ]
    }
   ],
   "source": [
    "for line in open(debug_file):\n",
    "  for i in range(1, 96):\n",
    "      mid, docid, duration, indexes, fields, values = line.strip().split('\\t')\n",
    "      index = list(map(int, indexes.split()))\n",
    "      value = list(map(float, values.split()))\n",
    "      field = list(map(int, fields.split()))\n",
    "      index, value, field = filter(index, value, field, [i])\n",
    "#       print(index)\n",
    "#       print(value)\n",
    "#       print(field)\n",
    "      feed_dict = {predictor.graph.get_collection('index_feed')[0]: [index],\n",
    "                   predictor.graph.get_collection('value_feed')[0]: [value],\n",
    "                   predictor.graph.get_collection('field_feed')[0]: [field]}\n",
    "      pred = predictor.predict('pred', feed_dict)\n",
    "      pred = pred[0][0]\n",
    "      print(i, fnames[i], mid, docid, duration, pred, sep='\\t')"
   ]
  },
  {
   "cell_type": "code",
   "execution_count": 58,
   "metadata": {},
   "outputs": [
    {
     "name": "stdout",
     "output_type": "stream",
     "text": [
      "01d9867474035026342\t19a22n0l4lySEy\t0\t0.2888732\n"
     ]
    }
   ],
   "source": [
    "for line in open(debug_file):\n",
    "  mid, docid, duration, indexes, fields, values = line.strip().split('\\t')\n",
    "  index = list(map(int, indexes.split()))\n",
    "  value = list(map(float, values.split()))\n",
    "  field = list(map(int, fields.split()))\n",
    "#   index, value, field = filter(index, value, field, [73])\n",
    "#       print(index)\n",
    "#       print(value)\n",
    "#       print(field)\n",
    "  feed_dict = {predictor.graph.get_collection('index_feed')[0]: [index],\n",
    "               predictor.graph.get_collection('value_feed')[0]: [value],\n",
    "               predictor.graph.get_collection('field_feed')[0]: [field]}\n",
    "  pred = predictor.predict('pred', feed_dict)\n",
    "  pred = pred[0][0]\n",
    "  print(mid, docid, duration, pred, sep='\\t')"
   ]
  },
  {
   "cell_type": "code",
   "execution_count": null,
   "metadata": {},
   "outputs": [],
   "source": []
  },
  {
   "cell_type": "code",
   "execution_count": null,
   "metadata": {},
   "outputs": [],
   "source": []
  },
  {
   "cell_type": "code",
   "execution_count": null,
   "metadata": {},
   "outputs": [],
   "source": []
  }
 ],
 "metadata": {
  "kernelspec": {
   "display_name": "Python 3",
   "language": "python",
   "name": "python3"
  },
  "language_info": {
   "codemirror_mode": {
    "name": "ipython",
    "version": 3
   },
   "file_extension": ".py",
   "mimetype": "text/x-python",
   "name": "python",
   "nbconvert_exporter": "python",
   "pygments_lexer": "ipython3",
   "version": "3.6.8"
  }
 },
 "nbformat": 4,
 "nbformat_minor": 2
}
