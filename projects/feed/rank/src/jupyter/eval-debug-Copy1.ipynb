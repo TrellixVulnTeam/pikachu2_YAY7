{
 "cells": [
  {
   "cell_type": "code",
   "execution_count": 1,
   "metadata": {},
   "outputs": [
    {
     "data": {
      "text/html": [
       "        <script type=\"text/javascript\">\n",
       "        window.PlotlyConfig = {MathJaxConfig: 'local'};\n",
       "        if (window.MathJax) {MathJax.Hub.Config({SVG: {font: \"STIX-Web\"}});}\n",
       "        if (typeof require !== 'undefined') {\n",
       "        require.undef(\"plotly\");\n",
       "        requirejs.config({\n",
       "            paths: {\n",
       "                'plotly': ['https://cdn.plot.ly/plotly-latest.min']\n",
       "            }\n",
       "        });\n",
       "        require(['plotly'], function(Plotly) {\n",
       "            window._Plotly = Plotly;\n",
       "        });\n",
       "        }\n",
       "        </script>\n",
       "        "
      ]
     },
     "metadata": {},
     "output_type": "display_data"
    }
   ],
   "source": [
    "import pandas as pd\n",
    "import os\n",
    "import glob\n",
    "import traceback\n",
    "from datetime import datetime\n",
    "import pandas as pd\n",
    "from plotly.graph_objs import Scatter,Layout\n",
    "import plotly\n",
    "import plotly.offline as py\n",
    "import numpy as np\n",
    "import plotly.graph_objs as go\n",
    "from plotly.subplots import make_subplots\n",
    "plotly.offline.init_notebook_mode(connected=True)\n",
    "import plotly.express as px\n",
    "import gezi\n",
    "from gezi import tqdm \n",
    "import pymp\n",
    "import time\n",
    "import qgrid\n",
    "from sklearn.metrics import roc_auc_score\n",
    "from multiprocessing import Manager, cpu_count\n",
    "from projects.feed.rank.utils.doc_info.KV import KV"
   ]
  },
  {
   "cell_type": "code",
   "execution_count": 2,
   "metadata": {},
   "outputs": [
    {
     "data": {
      "text/html": [
       "<style>\n",
       ".output_wrapper, .output {\n",
       "    height:auto !important;\n",
       "    max-height:10000px;  /* your desired max-height here */\n",
       "}\n",
       ".output_scroll {\n",
       "    box-shadow:none !important;\n",
       "    webkit-box-shadow:none !important;\n",
       "}\n",
       "</style>"
      ],
      "text/plain": [
       "<IPython.core.display.HTML object>"
      ]
     },
     "metadata": {},
     "output_type": "display_data"
    }
   ],
   "source": [
    "%%html\n",
    "<style>\n",
    ".output_wrapper, .output {\n",
    "    height:auto !important;\n",
    "    max-height:10000px;  /* your desired max-height here */\n",
    "}\n",
    ".output_scroll {\n",
    "    box-shadow:none !important;\n",
    "    webkit-box-shadow:none !important;\n",
    "}\n",
    "</style>"
   ]
  },
  {
   "cell_type": "code",
   "execution_count": 60,
   "metadata": {},
   "outputs": [
    {
     "name": "stdout",
     "output_type": "stream",
     "text": [
      "/search/odin/publicData/CloudS/libowei/rank_online/infos/video/8/2020051909/valid.csv\n"
     ]
    },
    {
     "data": {
      "text/html": [
       "<div>\n",
       "<style scoped>\n",
       "    .dataframe tbody tr th:only-of-type {\n",
       "        vertical-align: middle;\n",
       "    }\n",
       "\n",
       "    .dataframe tbody tr th {\n",
       "        vertical-align: top;\n",
       "    }\n",
       "\n",
       "    .dataframe thead th {\n",
       "        text-align: right;\n",
       "    }\n",
       "</style>\n",
       "<table border=\"1\" class=\"dataframe\">\n",
       "  <thead>\n",
       "    <tr style=\"text-align: right;\">\n",
       "      <th></th>\n",
       "      <th>doc_topic</th>\n",
       "      <th>abtestid</th>\n",
       "      <th>article_page_time</th>\n",
       "      <th>coldstart_refresh_num</th>\n",
       "      <th>did</th>\n",
       "      <th>distribution</th>\n",
       "      <th>docid</th>\n",
       "      <th>duration</th>\n",
       "      <th>id</th>\n",
       "      <th>impression_time</th>\n",
       "      <th>...</th>\n",
       "      <th>video_time</th>\n",
       "      <th>click</th>\n",
       "      <th>weight</th>\n",
       "      <th>cold</th>\n",
       "      <th>product_data</th>\n",
       "      <th>pred</th>\n",
       "      <th>pred_click</th>\n",
       "      <th>pred_dur</th>\n",
       "      <th>hour</th>\n",
       "      <th>dur</th>\n",
       "    </tr>\n",
       "  </thead>\n",
       "  <tbody>\n",
       "    <tr>\n",
       "      <th>0</th>\n",
       "      <td>0</td>\n",
       "      <td>5</td>\n",
       "      <td>1588853600</td>\n",
       "      <td>1</td>\n",
       "      <td>-5487410083488566407</td>\n",
       "      <td>5007</td>\n",
       "      <td>20507n0K3H1Y38</td>\n",
       "      <td>0</td>\n",
       "      <td>0523864885048470040\\t20507n0K3H1Y38</td>\n",
       "      <td>1589851063</td>\n",
       "      <td>...</td>\n",
       "      <td>49</td>\n",
       "      <td>0</td>\n",
       "      <td>1.0</td>\n",
       "      <td>0</td>\n",
       "      <td>sgsapp</td>\n",
       "      <td>0.06440441</td>\n",
       "      <td>0.50721040</td>\n",
       "      <td>0.07013884</td>\n",
       "      <td>2020051909</td>\n",
       "      <td>0</td>\n",
       "    </tr>\n",
       "    <tr>\n",
       "      <th>1</th>\n",
       "      <td>0</td>\n",
       "      <td>12</td>\n",
       "      <td>1589699926</td>\n",
       "      <td>3</td>\n",
       "      <td>-4910287128900267240</td>\n",
       "      <td>3039</td>\n",
       "      <td>20517h0K3yJEod</td>\n",
       "      <td>0</td>\n",
       "      <td>5897862265045219645\\t20517h0K3yJEod</td>\n",
       "      <td>1589848549</td>\n",
       "      <td>...</td>\n",
       "      <td>690</td>\n",
       "      <td>0</td>\n",
       "      <td>1.0</td>\n",
       "      <td>0</td>\n",
       "      <td>sgsapp</td>\n",
       "      <td>0.01576874</td>\n",
       "      <td>0.07992744</td>\n",
       "      <td>0.29058588</td>\n",
       "      <td>2020051909</td>\n",
       "      <td>0</td>\n",
       "    </tr>\n",
       "    <tr>\n",
       "      <th>2</th>\n",
       "      <td>0</td>\n",
       "      <td>6</td>\n",
       "      <td>1588667226</td>\n",
       "      <td>1</td>\n",
       "      <td>7297875804759759819</td>\n",
       "      <td>3039</td>\n",
       "      <td>20505h040MSZoE</td>\n",
       "      <td>0</td>\n",
       "      <td>78eb868198043360265\\t20505h040MSZoE</td>\n",
       "      <td>1589849772</td>\n",
       "      <td>...</td>\n",
       "      <td>129</td>\n",
       "      <td>0</td>\n",
       "      <td>1.0</td>\n",
       "      <td>0</td>\n",
       "      <td>sgsapp</td>\n",
       "      <td>0.00354569</td>\n",
       "      <td>0.05164549</td>\n",
       "      <td>0.07756320</td>\n",
       "      <td>2020051909</td>\n",
       "      <td>0</td>\n",
       "    </tr>\n",
       "    <tr>\n",
       "      <th>3</th>\n",
       "      <td>0</td>\n",
       "      <td>7</td>\n",
       "      <td>1589450501</td>\n",
       "      <td>8</td>\n",
       "      <td>-2011539449682497723</td>\n",
       "      <td>AisiAssist</td>\n",
       "      <td>20514j0K0bE7J7</td>\n",
       "      <td>332</td>\n",
       "      <td>cb87f9e26e787cec2f3233b3b769a1ffd58bd689cef3\\t...</td>\n",
       "      <td>1589850237</td>\n",
       "      <td>...</td>\n",
       "      <td>332</td>\n",
       "      <td>1</td>\n",
       "      <td>1.0</td>\n",
       "      <td>0</td>\n",
       "      <td>sgsapp</td>\n",
       "      <td>0.01853448</td>\n",
       "      <td>0.06698492</td>\n",
       "      <td>0.50817640</td>\n",
       "      <td>2020051909</td>\n",
       "      <td>332</td>\n",
       "    </tr>\n",
       "    <tr>\n",
       "      <th>4</th>\n",
       "      <td>0</td>\n",
       "      <td>14</td>\n",
       "      <td>1589443825</td>\n",
       "      <td>2</td>\n",
       "      <td>3101413342895488890</td>\n",
       "      <td>1445</td>\n",
       "      <td>20514g0Q0lFEbp</td>\n",
       "      <td>58</td>\n",
       "      <td>f460862363030743206\\t20514g0Q0lFEbp</td>\n",
       "      <td>1589849317</td>\n",
       "      <td>...</td>\n",
       "      <td>58</td>\n",
       "      <td>1</td>\n",
       "      <td>1.0</td>\n",
       "      <td>0</td>\n",
       "      <td>sgsapp</td>\n",
       "      <td>0.05921218</td>\n",
       "      <td>0.39634532</td>\n",
       "      <td>0.09834132</td>\n",
       "      <td>2020051909</td>\n",
       "      <td>58</td>\n",
       "    </tr>\n",
       "  </tbody>\n",
       "</table>\n",
       "<p>5 rows × 45 columns</p>\n",
       "</div>"
      ],
      "text/plain": [
       "   doc_topic  abtestid  article_page_time  coldstart_refresh_num  \\\n",
       "0          0         5         1588853600                      1   \n",
       "1          0        12         1589699926                      3   \n",
       "2          0         6         1588667226                      1   \n",
       "3          0         7         1589450501                      8   \n",
       "4          0        14         1589443825                      2   \n",
       "\n",
       "                   did distribution           docid  duration  \\\n",
       "0 -5487410083488566407         5007  20507n0K3H1Y38         0   \n",
       "1 -4910287128900267240         3039  20517h0K3yJEod         0   \n",
       "2  7297875804759759819         3039  20505h040MSZoE         0   \n",
       "3 -2011539449682497723   AisiAssist  20514j0K0bE7J7       332   \n",
       "4  3101413342895488890         1445  20514g0Q0lFEbp        58   \n",
       "\n",
       "                                                  id  impression_time  ...  \\\n",
       "0                0523864885048470040\\t20507n0K3H1Y38       1589851063  ...   \n",
       "1                5897862265045219645\\t20517h0K3yJEod       1589848549  ...   \n",
       "2                78eb868198043360265\\t20505h040MSZoE       1589849772  ...   \n",
       "3  cb87f9e26e787cec2f3233b3b769a1ffd58bd689cef3\\t...       1589850237  ...   \n",
       "4                f460862363030743206\\t20514g0Q0lFEbp       1589849317  ...   \n",
       "\n",
       "   video_time click weight cold  product_data        pred  pred_click  \\\n",
       "0          49     0    1.0    0        sgsapp  0.06440441  0.50721040   \n",
       "1         690     0    1.0    0        sgsapp  0.01576874  0.07992744   \n",
       "2         129     0    1.0    0        sgsapp  0.00354569  0.05164549   \n",
       "3         332     1    1.0    0        sgsapp  0.01853448  0.06698492   \n",
       "4          58     1    1.0    0        sgsapp  0.05921218  0.39634532   \n",
       "\n",
       "     pred_dur        hour  dur  \n",
       "0  0.07013884  2020051909    0  \n",
       "1  0.29058588  2020051909    0  \n",
       "2  0.07756320  2020051909    0  \n",
       "3  0.50817640  2020051909  332  \n",
       "4  0.09834132  2020051909   58  \n",
       "\n",
       "[5 rows x 45 columns]"
      ]
     },
     "execution_count": 60,
     "metadata": {},
     "output_type": "execute_result"
    }
   ],
   "source": [
    "info_dir = f'/search/odin/publicData/CloudS/mkyuwen/rank/infos/video/11/'\n",
    "info_dir = f'/search/odin/publicData/CloudS/libowei/rank_online/infos/video/8'\n",
    "hour = 2020051909\n",
    "info_path = f'{info_dir}/{hour}/valid.csv'\n",
    "print(info_path)\n",
    "df = pd.read_csv(info_path)\n",
    "# df2 = pd.read_csv()\n",
    "# df = df.rename({'duration':'dur'})\n",
    "df['dur'] = df.duration\n",
    "# df['mark'] = 'video'\n",
    "# info_dir = f'/search/odin/publicData/CloudS/libowei/rank_online/infos/video/8'\n",
    "# info_path = f'{info_dir}/{hour}/valid.csv'\n",
    "# df2 = pd.read_csv(info_path)\n",
    "# df2['dur'] = df.duration\n",
    "# df2['mark'] = 'video'\n",
    "# df = pd.concat([df, df2])\n",
    "df = df[df.product_data=='sgsapp']\n",
    "df.head()"
   ]
  },
  {
   "cell_type": "code",
   "execution_count": 61,
   "metadata": {},
   "outputs": [],
   "source": [
    "df['click'] = (df.dur != 0).astype(int)"
   ]
  },
  {
   "cell_type": "code",
   "execution_count": 75,
   "metadata": {},
   "outputs": [],
   "source": [
    "df['impression'] = df['mid'] + '\\t' + df['impression_time'].astype('str')"
   ]
  },
  {
   "cell_type": "code",
   "execution_count": 76,
   "metadata": {},
   "outputs": [],
   "source": [
    "df5 = df[df.abtestid==5]"
   ]
  },
  {
   "cell_type": "code",
   "execution_count": 77,
   "metadata": {},
   "outputs": [
    {
     "data": {
      "text/plain": [
       "307.47042998064853"
      ]
     },
     "execution_count": 77,
     "metadata": {},
     "output_type": "execute_result"
    }
   ],
   "source": [
    "df5.video_time.mean()"
   ]
  },
  {
   "cell_type": "code",
   "execution_count": 78,
   "metadata": {},
   "outputs": [],
   "source": [
    "df5_ = df5.docid.value_counts().reset_index().head(20)\n",
    "# df5_['index']"
   ]
  },
  {
   "cell_type": "code",
   "execution_count": 79,
   "metadata": {},
   "outputs": [
    {
     "data": {
      "text/plain": [
       "302.4304493513188"
      ]
     },
     "execution_count": 79,
     "metadata": {},
     "output_type": "execute_result"
    }
   ],
   "source": [
    "df8 = df[df.abtestid==8]\n",
    "df8.video_time.mean()"
   ]
  },
  {
   "cell_type": "code",
   "execution_count": 80,
   "metadata": {},
   "outputs": [],
   "source": [
    "df8_ = df8.docid.value_counts().reset_index().head(20)\n",
    "# df8_['index']"
   ]
  },
  {
   "cell_type": "code",
   "execution_count": 81,
   "metadata": {},
   "outputs": [
    {
     "data": {
      "text/plain": [
       "4.080506558118499"
      ]
     },
     "execution_count": 81,
     "metadata": {},
     "output_type": "execute_result"
    }
   ],
   "source": [
    "len(set(df5.docid.values)) / len(set(df5.mid.values))"
   ]
  },
  {
   "cell_type": "code",
   "execution_count": 82,
   "metadata": {},
   "outputs": [
    {
     "data": {
      "text/plain": [
       "4.22217555648887"
      ]
     },
     "execution_count": 82,
     "metadata": {},
     "output_type": "execute_result"
    }
   ],
   "source": [
    "len(set(df8.docid.values)) / len(set(df8.mid.values))"
   ]
  },
  {
   "cell_type": "code",
   "execution_count": 83,
   "metadata": {},
   "outputs": [
    {
     "name": "stderr",
     "output_type": "stream",
     "text": [
      "get_titles: 100%|##########| 91/91 [00:05<00:00, 15.72it/s]\n"
     ]
    }
   ],
   "source": [
    "from projects.feed.rank.utils.doc_info.KV import KV\n",
    "kv = KV()\n",
    "titles = kv.get_titles(list(set(df5.docid.values)))"
   ]
  },
  {
   "cell_type": "code",
   "execution_count": 84,
   "metadata": {},
   "outputs": [],
   "source": [
    "df5_ = df5.docid.value_counts().reset_index().head(20)\n",
    "df5_['title'] = df5_['index'].apply(lambda x: titles.get(x, ''))"
   ]
  },
  {
   "cell_type": "code",
   "execution_count": 85,
   "metadata": {},
   "outputs": [],
   "source": [
    "df15 = df[df.abtestid==15]"
   ]
  },
  {
   "cell_type": "code",
   "execution_count": 86,
   "metadata": {},
   "outputs": [
    {
     "data": {
      "text/plain": [
       "2.616373767681097"
      ]
     },
     "execution_count": 86,
     "metadata": {},
     "output_type": "execute_result"
    }
   ],
   "source": [
    "df15.groupby('mid', as_index=False)['impression'].nunique().mean()"
   ]
  },
  {
   "cell_type": "code",
   "execution_count": 87,
   "metadata": {},
   "outputs": [],
   "source": [
    "# df15[df15.mid=='e86a869043036649853']"
   ]
  },
  {
   "cell_type": "code",
   "execution_count": 88,
   "metadata": {},
   "outputs": [
    {
     "data": {
      "text/plain": [
       "impression    9.78825547\n",
       "dtype: float64"
      ]
     },
     "execution_count": 88,
     "metadata": {},
     "output_type": "execute_result"
    }
   ],
   "source": [
    "df15.groupby('mid', as_index=False)['impression'].count().mean()"
   ]
  },
  {
   "cell_type": "code",
   "execution_count": 108,
   "metadata": {},
   "outputs": [
    {
     "data": {
      "text/plain": [
       "67"
      ]
     },
     "execution_count": 108,
     "metadata": {},
     "output_type": "execute_result"
    }
   ],
   "source": [
    "df15.groupby('mid', as_index=False)['impression'].nunique().max()"
   ]
  },
  {
   "cell_type": "code",
   "execution_count": 109,
   "metadata": {},
   "outputs": [
    {
     "data": {
      "text/plain": [
       "35"
      ]
     },
     "execution_count": 109,
     "metadata": {},
     "output_type": "execute_result"
    }
   ],
   "source": [
    "df5.groupby('mid', as_index=False)['impression'].nunique().max()"
   ]
  },
  {
   "cell_type": "code",
   "execution_count": 94,
   "metadata": {},
   "outputs": [],
   "source": [
    "df5 = df[df.abtestid==5]\n",
    "# df5.groupby('mid', as_index=False)['impression'].count().sort_values('impression')"
   ]
  },
  {
   "cell_type": "code",
   "execution_count": 95,
   "metadata": {},
   "outputs": [
    {
     "data": {
      "text/plain": [
       "2.563545906829489"
      ]
     },
     "execution_count": 95,
     "metadata": {},
     "output_type": "execute_result"
    }
   ],
   "source": [
    "df5.groupby('mid', as_index=False)['impression'].nunique().mean()"
   ]
  },
  {
   "cell_type": "code",
   "execution_count": 104,
   "metadata": {},
   "outputs": [
    {
     "data": {
      "text/plain": [
       "impression    9.58254184\n",
       "dtype: float64"
      ]
     },
     "execution_count": 104,
     "metadata": {},
     "output_type": "execute_result"
    }
   ],
   "source": [
    "df5.groupby('mid', as_index=False)['impression'].count().mean()"
   ]
  },
  {
   "cell_type": "code",
   "execution_count": 102,
   "metadata": {},
   "outputs": [
    {
     "data": {
      "text/html": [
       "<div>\n",
       "<style scoped>\n",
       "    .dataframe tbody tr th:only-of-type {\n",
       "        vertical-align: middle;\n",
       "    }\n",
       "\n",
       "    .dataframe tbody tr th {\n",
       "        vertical-align: top;\n",
       "    }\n",
       "\n",
       "    .dataframe thead th {\n",
       "        text-align: right;\n",
       "    }\n",
       "</style>\n",
       "<table border=\"1\" class=\"dataframe\">\n",
       "  <thead>\n",
       "    <tr style=\"text-align: right;\">\n",
       "      <th></th>\n",
       "      <th>mid</th>\n",
       "      <th>impression</th>\n",
       "    </tr>\n",
       "  </thead>\n",
       "  <tbody>\n",
       "    <tr>\n",
       "      <th>1771</th>\n",
       "      <td>cc4e862493032493623</td>\n",
       "      <td>1</td>\n",
       "    </tr>\n",
       "    <tr>\n",
       "      <th>949</th>\n",
       "      <td>6a2a1587102449506|c4e4a3</td>\n",
       "      <td>1</td>\n",
       "    </tr>\n",
       "    <tr>\n",
       "      <th>1817</th>\n",
       "      <td>d430869007045255051</td>\n",
       "      <td>1</td>\n",
       "    </tr>\n",
       "    <tr>\n",
       "      <th>950</th>\n",
       "      <td>6a3e861945030222941</td>\n",
       "      <td>1</td>\n",
       "    </tr>\n",
       "    <tr>\n",
       "      <th>1516</th>\n",
       "      <td>ad6aA00000644BD511</td>\n",
       "      <td>1</td>\n",
       "    </tr>\n",
       "    <tr>\n",
       "      <th>...</th>\n",
       "      <td>...</td>\n",
       "      <td>...</td>\n",
       "    </tr>\n",
       "    <tr>\n",
       "      <th>111</th>\n",
       "      <td>0ae5866708041992158</td>\n",
       "      <td>108</td>\n",
       "    </tr>\n",
       "    <tr>\n",
       "      <th>977</th>\n",
       "      <td>6deb868515036995387</td>\n",
       "      <td>110</td>\n",
       "    </tr>\n",
       "    <tr>\n",
       "      <th>662</th>\n",
       "      <td>4c84867519037314201</td>\n",
       "      <td>152</td>\n",
       "    </tr>\n",
       "    <tr>\n",
       "      <th>1255</th>\n",
       "      <td>8dcd866841039413893</td>\n",
       "      <td>160</td>\n",
       "    </tr>\n",
       "    <tr>\n",
       "      <th>1655</th>\n",
       "      <td>be77866509031860615</td>\n",
       "      <td>207</td>\n",
       "    </tr>\n",
       "  </tbody>\n",
       "</table>\n",
       "<p>2211 rows × 2 columns</p>\n",
       "</div>"
      ],
      "text/plain": [
       "                           mid  impression\n",
       "1771       cc4e862493032493623           1\n",
       "949   6a2a1587102449506|c4e4a3           1\n",
       "1817       d430869007045255051           1\n",
       "950        6a3e861945030222941           1\n",
       "1516        ad6aA00000644BD511           1\n",
       "...                        ...         ...\n",
       "111        0ae5866708041992158         108\n",
       "977        6deb868515036995387         110\n",
       "662        4c84867519037314201         152\n",
       "1255       8dcd866841039413893         160\n",
       "1655       be77866509031860615         207\n",
       "\n",
       "[2211 rows x 2 columns]"
      ]
     },
     "execution_count": 102,
     "metadata": {},
     "output_type": "execute_result"
    }
   ],
   "source": [
    "df5.groupby('mid', as_index=False)['impression'].count().sort_values('impression')"
   ]
  },
  {
   "cell_type": "code",
   "execution_count": 96,
   "metadata": {},
   "outputs": [
    {
     "data": {
      "text/plain": [
       "5668"
      ]
     },
     "execution_count": 96,
     "metadata": {},
     "output_type": "execute_result"
    }
   ],
   "source": [
    "len(set(df5.impression.values))"
   ]
  },
  {
   "cell_type": "code",
   "execution_count": 97,
   "metadata": {},
   "outputs": [
    {
     "data": {
      "text/plain": [
       "6104"
      ]
     },
     "execution_count": 97,
     "metadata": {},
     "output_type": "execute_result"
    }
   ],
   "source": [
    "len(set(df15.impression.values))"
   ]
  },
  {
   "cell_type": "code",
   "execution_count": 98,
   "metadata": {},
   "outputs": [
    {
     "data": {
      "text/plain": [
       "time.struct_time(tm_year=2020, tm_mon=5, tm_mday=19, tm_hour=9, tm_min=17, tm_sec=43, tm_wday=1, tm_yday=140, tm_isdst=0)"
      ]
     },
     "execution_count": 98,
     "metadata": {},
     "output_type": "execute_result"
    }
   ],
   "source": [
    "time.localtime(df5.impression_time.values[0])"
   ]
  },
  {
   "cell_type": "code",
   "execution_count": null,
   "metadata": {},
   "outputs": [],
   "source": [
    "df5_"
   ]
  },
  {
   "cell_type": "code",
   "execution_count": null,
   "metadata": {},
   "outputs": [],
   "source": [
    "df8_ = df8.docid.value_counts().reset_index().head(20)\n",
    "df8_['title'] = df8_['index'].apply(lambda x: titles.get(x, ''))"
   ]
  },
  {
   "cell_type": "code",
   "execution_count": 17,
   "metadata": {},
   "outputs": [
    {
     "data": {
      "text/html": [
       "<div>\n",
       "<style scoped>\n",
       "    .dataframe tbody tr th:only-of-type {\n",
       "        vertical-align: middle;\n",
       "    }\n",
       "\n",
       "    .dataframe tbody tr th {\n",
       "        vertical-align: top;\n",
       "    }\n",
       "\n",
       "    .dataframe thead th {\n",
       "        text-align: right;\n",
       "    }\n",
       "</style>\n",
       "<table border=\"1\" class=\"dataframe\">\n",
       "  <thead>\n",
       "    <tr style=\"text-align: right;\">\n",
       "      <th></th>\n",
       "      <th>index</th>\n",
       "      <th>docid</th>\n",
       "      <th>title</th>\n",
       "    </tr>\n",
       "  </thead>\n",
       "  <tbody>\n",
       "    <tr>\n",
       "      <th>0</th>\n",
       "      <td>20518h0K0YlGJ5</td>\n",
       "      <td>335</td>\n",
       "      <td>“鸡眼”熟了，看的人直打冷颤。这脚是不是已经成木头了</td>\n",
       "    </tr>\n",
       "    <tr>\n",
       "      <th>1</th>\n",
       "      <td>20517f0K3eXQwB</td>\n",
       "      <td>258</td>\n",
       "      <td>Asherah Swim SS 2020迈阿密游泳周游泳时装秀全场</td>\n",
       "    </tr>\n",
       "    <tr>\n",
       "      <th>2</th>\n",
       "      <td>2051030435BuEp</td>\n",
       "      <td>193</td>\n",
       "      <td>珍贵影像：“东莞扫黄”前最牛的酒店，每晚上演啥肮脏一幕?</td>\n",
       "    </tr>\n",
       "    <tr>\n",
       "      <th>3</th>\n",
       "      <td>20426h043PkRXL</td>\n",
       "      <td>158</td>\n",
       "      <td>眼看大货车就要掉下大桥，后面司机一个举动，成功挽救一个家庭</td>\n",
       "    </tr>\n",
       "    <tr>\n",
       "      <th>4</th>\n",
       "      <td>20510d0Q1ws3GD</td>\n",
       "      <td>157</td>\n",
       "      <td>女生为什么都穿“三角裤”，不穿“四角裤”呢?看完总算明白了!</td>\n",
       "    </tr>\n",
       "    <tr>\n",
       "      <th>5</th>\n",
       "      <td>20518b0K3bZ5Gx</td>\n",
       "      <td>155</td>\n",
       "      <td>大丈夫：女子带男友参加同学聚会，教授醋意大发，厕所霸王硬上弓</td>\n",
       "    </tr>\n",
       "    <tr>\n",
       "      <th>6</th>\n",
       "      <td>20518e0K18jLj2</td>\n",
       "      <td>153</td>\n",
       "      <td>陈赫小品《魂斗罗》陈赫：下次打我直接一点，不要问那么多问题</td>\n",
       "    </tr>\n",
       "    <tr>\n",
       "      <th>7</th>\n",
       "      <td>20427d041tAHJu</td>\n",
       "      <td>150</td>\n",
       "      <td>人去世后埋进土里，3D动画模拟身体的变化，看完不知不觉有点心酸!</td>\n",
       "    </tr>\n",
       "    <tr>\n",
       "      <th>8</th>\n",
       "      <td>2051890K2wrHDo</td>\n",
       "      <td>112</td>\n",
       "      <td>经典：兄弟俩下棋，一盘棋竟下了1千年，周围的天兵都已变成白骨</td>\n",
       "    </tr>\n",
       "    <tr>\n",
       "      <th>9</th>\n",
       "      <td>20506n043ir3fp</td>\n",
       "      <td>112</td>\n",
       "      <td>小伙喜欢上年轻的单亲妈妈，通过不懈努力后，终于得偿所愿了</td>\n",
       "    </tr>\n",
       "    <tr>\n",
       "      <th>10</th>\n",
       "      <td>20421a043hUyhq</td>\n",
       "      <td>109</td>\n",
       "      <td>四川遂宁用手机拍摄的一段视频，一条大蛇在挡风玻璃上探头爬行，有点吓人</td>\n",
       "    </tr>\n",
       "    <tr>\n",
       "      <th>11</th>\n",
       "      <td>20517k0K42QHUS</td>\n",
       "      <td>103</td>\n",
       "      <td>解放军买猪肉，肉铺老板割几刀才称准，立马意识到对方是特务!</td>\n",
       "    </tr>\n",
       "    <tr>\n",
       "      <th>12</th>\n",
       "      <td>20518l040b0P59</td>\n",
       "      <td>100</td>\n",
       "      <td>一部日本伦理片，女妓糜烂的生活让你大开眼界</td>\n",
       "    </tr>\n",
       "    <tr>\n",
       "      <th>13</th>\n",
       "      <td>20515e0K0Qxxb5</td>\n",
       "      <td>94</td>\n",
       "      <td>杨紫打电话张口就借2个亿，张一山不知是做节目，反应过于真实!</td>\n",
       "    </tr>\n",
       "    <tr>\n",
       "      <th>14</th>\n",
       "      <td>20518l0K0Qq4By</td>\n",
       "      <td>91</td>\n",
       "      <td>终于实锤!川普突然说漏嘴了!全球舆论瞬间炸锅!美国这次玩大了</td>\n",
       "    </tr>\n",
       "    <tr>\n",
       "      <th>15</th>\n",
       "      <td>204018041sadpA</td>\n",
       "      <td>84</td>\n",
       "      <td>下人还是太年轻，以为占有了少奶奶，其实只是棋子</td>\n",
       "    </tr>\n",
       "    <tr>\n",
       "      <th>16</th>\n",
       "      <td>open_doc_prod26925502</td>\n",
       "      <td>82</td>\n",
       "      <td>3岁女童不小心和父母走散，当他说出爸爸名字时，民警笑倒在地上</td>\n",
       "    </tr>\n",
       "    <tr>\n",
       "      <th>17</th>\n",
       "      <td>20517k0K2pvaru</td>\n",
       "      <td>82</td>\n",
       "      <td>影视 古代就有丝袜了吗?这波操作牛B了</td>\n",
       "    </tr>\n",
       "    <tr>\n",
       "      <th>18</th>\n",
       "      <td>2051820446bs8k</td>\n",
       "      <td>82</td>\n",
       "      <td>姐妹穿汉服出门遇到日本和服，接下来的画面，真的让我看傻眼了!</td>\n",
       "    </tr>\n",
       "    <tr>\n",
       "      <th>19</th>\n",
       "      <td>20419n0K1j1op2</td>\n",
       "      <td>74</td>\n",
       "      <td>泰式精油按摩，男人最爱的职业!</td>\n",
       "    </tr>\n",
       "  </tbody>\n",
       "</table>\n",
       "</div>"
      ],
      "text/plain": [
       "                    index  docid                               title\n",
       "0          20518h0K0YlGJ5    335          “鸡眼”熟了，看的人直打冷颤。这脚是不是已经成木头了\n",
       "1          20517f0K3eXQwB    258   Asherah Swim SS 2020迈阿密游泳周游泳时装秀全场\n",
       "2          2051030435BuEp    193        珍贵影像：“东莞扫黄”前最牛的酒店，每晚上演啥肮脏一幕?\n",
       "3          20426h043PkRXL    158       眼看大货车就要掉下大桥，后面司机一个举动，成功挽救一个家庭\n",
       "4          20510d0Q1ws3GD    157      女生为什么都穿“三角裤”，不穿“四角裤”呢?看完总算明白了!\n",
       "5          20518b0K3bZ5Gx    155      大丈夫：女子带男友参加同学聚会，教授醋意大发，厕所霸王硬上弓\n",
       "6          20518e0K18jLj2    153       陈赫小品《魂斗罗》陈赫：下次打我直接一点，不要问那么多问题\n",
       "7          20427d041tAHJu    150    人去世后埋进土里，3D动画模拟身体的变化，看完不知不觉有点心酸!\n",
       "8          2051890K2wrHDo    112      经典：兄弟俩下棋，一盘棋竟下了1千年，周围的天兵都已变成白骨\n",
       "9          20506n043ir3fp    112        小伙喜欢上年轻的单亲妈妈，通过不懈努力后，终于得偿所愿了\n",
       "10         20421a043hUyhq    109  四川遂宁用手机拍摄的一段视频，一条大蛇在挡风玻璃上探头爬行，有点吓人\n",
       "11         20517k0K42QHUS    103       解放军买猪肉，肉铺老板割几刀才称准，立马意识到对方是特务!\n",
       "12         20518l040b0P59    100               一部日本伦理片，女妓糜烂的生活让你大开眼界\n",
       "13         20515e0K0Qxxb5     94      杨紫打电话张口就借2个亿，张一山不知是做节目，反应过于真实!\n",
       "14         20518l0K0Qq4By     91      终于实锤!川普突然说漏嘴了!全球舆论瞬间炸锅!美国这次玩大了\n",
       "15         204018041sadpA     84             下人还是太年轻，以为占有了少奶奶，其实只是棋子\n",
       "16  open_doc_prod26925502     82      3岁女童不小心和父母走散，当他说出爸爸名字时，民警笑倒在地上\n",
       "17         20517k0K2pvaru     82                 影视 古代就有丝袜了吗?这波操作牛B了\n",
       "18         2051820446bs8k     82      姐妹穿汉服出门遇到日本和服，接下来的画面，真的让我看傻眼了!\n",
       "19         20419n0K1j1op2     74                     泰式精油按摩，男人最爱的职业!"
      ]
     },
     "execution_count": 17,
     "metadata": {},
     "output_type": "execute_result"
    }
   ],
   "source": [
    "df8_"
   ]
  },
  {
   "cell_type": "code",
   "execution_count": 18,
   "metadata": {},
   "outputs": [],
   "source": [
    "pd.set_option('display.max_rows', 1000)\n",
    "pd.set_option(\"display.precision\", 8)"
   ]
  },
  {
   "cell_type": "code",
   "execution_count": 19,
   "metadata": {},
   "outputs": [],
   "source": [
    "if 'article_page_time' not in df.columns:\n",
    "  df.article_page_time = df.impression_time\n",
    "df['page_time'] = (df.impression_time - df.article_page_time) / 60 / 60 / 24"
   ]
  },
  {
   "cell_type": "code",
   "execution_count": 20,
   "metadata": {},
   "outputs": [],
   "source": [
    "df['impression'] = df.mid + '\\t' + df.impression_time.astype(str)"
   ]
  },
  {
   "cell_type": "code",
   "execution_count": 21,
   "metadata": {},
   "outputs": [],
   "source": [
    "mean_duration = df[df.dur > 0].dur.mean()"
   ]
  },
  {
   "cell_type": "code",
   "execution_count": 22,
   "metadata": {},
   "outputs": [
    {
     "data": {
      "text/plain": [
       "107.46830833885035"
      ]
     },
     "execution_count": 22,
     "metadata": {},
     "output_type": "execute_result"
    }
   ],
   "source": [
    "mean_duration"
   ]
  },
  {
   "cell_type": "code",
   "execution_count": 23,
   "metadata": {},
   "outputs": [],
   "source": [
    "from projects.feed.rank.src import util\n",
    "df['cold'] = df.rea.apply(lambda x: int(x) in util.cold_starts)\n",
    "# df = df[df.product_data=='sgsapp']"
   ]
  },
  {
   "cell_type": "code",
   "execution_count": 24,
   "metadata": {},
   "outputs": [],
   "source": [
    "import math\n",
    "df.pred = df.pred.apply(lambda x: math.sqrt(x))"
   ]
  },
  {
   "cell_type": "code",
   "execution_count": 25,
   "metadata": {},
   "outputs": [],
   "source": [
    "cold_mids = set(df[df.cold==True].mid.values)"
   ]
  },
  {
   "cell_type": "code",
   "execution_count": 26,
   "metadata": {},
   "outputs": [
    {
     "data": {
      "text/plain": [
       "53669"
      ]
     },
     "execution_count": 26,
     "metadata": {},
     "output_type": "execute_result"
    }
   ],
   "source": [
    "len(set(df.mid.values))"
   ]
  },
  {
   "cell_type": "code",
   "execution_count": 27,
   "metadata": {},
   "outputs": [
    {
     "data": {
      "text/plain": [
       "3535"
      ]
     },
     "execution_count": 27,
     "metadata": {},
     "output_type": "execute_result"
    }
   ],
   "source": [
    "len(cold_mids)"
   ]
  },
  {
   "cell_type": "code",
   "execution_count": 28,
   "metadata": {},
   "outputs": [
    {
     "data": {
      "text/plain": [
       "132979"
      ]
     },
     "execution_count": 28,
     "metadata": {},
     "output_type": "execute_result"
    }
   ],
   "source": [
    "len(set(df.impression.values)) "
   ]
  },
  {
   "cell_type": "code",
   "execution_count": 29,
   "metadata": {},
   "outputs": [
    {
     "data": {
      "text/plain": [
       "53669"
      ]
     },
     "execution_count": 29,
     "metadata": {},
     "output_type": "execute_result"
    }
   ],
   "source": [
    "len(set(df.mid.values))"
   ]
  },
  {
   "cell_type": "code",
   "execution_count": 30,
   "metadata": {},
   "outputs": [
    {
     "data": {
      "text/plain": [
       "2.4777618364418936"
      ]
     },
     "execution_count": 30,
     "metadata": {},
     "output_type": "execute_result"
    }
   ],
   "source": [
    "len(set(df.impression.values))  / len(set(df.mid.values))"
   ]
  },
  {
   "cell_type": "code",
   "execution_count": 31,
   "metadata": {},
   "outputs": [
    {
     "data": {
      "text/plain": [
       "38192"
      ]
     },
     "execution_count": 31,
     "metadata": {},
     "output_type": "execute_result"
    }
   ],
   "source": [
    "len(set(df[df.dur!=0].mid.values))"
   ]
  },
  {
   "cell_type": "code",
   "execution_count": 32,
   "metadata": {},
   "outputs": [
    {
     "data": {
      "text/plain": [
       "0.7116212338593975"
      ]
     },
     "execution_count": 32,
     "metadata": {},
     "output_type": "execute_result"
    }
   ],
   "source": [
    "len(set(df[df.dur!=0].mid.values)) / len(set(df.mid.values))"
   ]
  },
  {
   "cell_type": "code",
   "execution_count": 33,
   "metadata": {},
   "outputs": [],
   "source": [
    "from projects.feed.rank.src.evaluate import evaluate_df as eval\n",
    "import melt "
   ]
  },
  {
   "cell_type": "code",
   "execution_count": 34,
   "metadata": {},
   "outputs": [],
   "source": [
    "melt.init_flags()"
   ]
  },
  {
   "cell_type": "code",
   "execution_count": 35,
   "metadata": {},
   "outputs": [
    {
     "data": {
      "text/plain": [
       "8         6\n",
       "12        4\n",
       "13        5\n",
       "33        6\n",
       "42        6\n",
       "         ..\n",
       "996871    5\n",
       "996975    6\n",
       "996976    5\n",
       "997184    4\n",
       "997390    6\n",
       "Name: abtestid, Length: 64969, dtype: int64"
      ]
     },
     "execution_count": 35,
     "metadata": {},
     "output_type": "execute_result"
    }
   ],
   "source": [
    "df[df.abtestid.isin([4,5,6])].abtestid"
   ]
  },
  {
   "cell_type": "code",
   "execution_count": 36,
   "metadata": {},
   "outputs": [
    {
     "name": "stderr",
     "output_type": "stream",
     "text": [
      "                                                                     \r"
     ]
    },
    {
     "data": {
      "text/plain": [
       "{'auc': 0.7243860246781154,\n",
       " 'mse': 0.010316976790523428,\n",
       " 'mae': 0.04297721955828595,\n",
       " 'time_auc': 0.7134579702509607,\n",
       " 'mean': 0.03165065127526469,\n",
       " 'loss/click': 0.5608294484363151,\n",
       " 'loss/dur': array(0.10662279, dtype=float32),\n",
       " 'stats/pos_ratio': 0.16144622820114207,\n",
       " 'vtime_auc': 0.5615608061619735,\n",
       " 'finish_auc': 0.6608664554532782,\n",
       " 'rcr_auc': 0.6966054082301374,\n",
       " 'ptime_auc': 0.48469571731280525,\n",
       " 'stats/num_instances': 64969,\n",
       " 'stats/click_ratio': 0.16144622820114207,\n",
       " 'stats/time_per_show': 0.2643689755660166,\n",
       " 'stats/time_per_click': 0.029778417832270487,\n",
       " 'stats/time_per_user': 0.016145192613817253,\n",
       " 'stats/vtime_per_show': 5.2978459308842005,\n",
       " 'stats/vtime_per_click': 5.007610189197759,\n",
       " 'stats/vtime_per_user': 2.7150143266475646,\n",
       " 'click/time_auc': 0.6227123441507203,\n",
       " 'click/loss/dur': array(0.5592743, dtype=float32),\n",
       " 'click/mse': 0.05830152845425757,\n",
       " 'click/rmse': 0.7585429055623804,\n",
       " 'click/mae': 0.13547713468790984,\n",
       " 'click/mean': 0.05625454649715177,\n",
       " 'group/auc': 0.5229641188210593,\n",
       " 'group/auc2': 0.528206268908782,\n",
       " 'group/pos_ratio': 0.32534321202876443,\n",
       " 'group/time_auc': 0.5344492177967937,\n",
       " 'group/top1_dur': 57.843122676579924,\n",
       " 'group/top3_dur': 38.99396038009341,\n",
       " 'group/top1_dur_best': 125.026468401487,\n",
       " 'group/top3_dur_best': 40.835440489611855,\n",
       " 'group/top1_dur_rate': 0.462647017196656,\n",
       " 'group/top3_dur_rate': 0.9549048550122314,\n",
       " 'group/top1_click': 0.48562741846323937,\n",
       " 'group/top3_click': 0.3682498613934578,\n",
       " 'group/top1_click_best': 1.0,\n",
       " 'group/top3_click_best': 0.3868785806690076,\n",
       " 'group/top1_click_rate': 0.48562741846323937,\n",
       " 'group/top3_click_rate': 0.9518486672398968,\n",
       " 'group/first_click_position': 1.0714483139856275,\n",
       " 'group/last_click_position': 1.8330569375345496,\n",
       " 'group/ndcg3_click': 0.6617075647524011,\n",
       " 'group/ndcg7_click': 0.7525301832518779,\n",
       " 'group/ndcg14_click': 0.7567115884114329,\n",
       " 'group/ndcg_click': 0.7567115884114329,\n",
       " 'group/ndcg3_dur': 0.6557631309883951,\n",
       " 'group/ndcg7_dur': 0.7383802272082528,\n",
       " 'group/ndcg14_dur': 0.7411923874086684,\n",
       " 'group/ndcg_dur': 0.7411923874086684,\n",
       " 'group/click/time_auc': 0.6335047493237718,\n",
       " 'group/click/top1_dur': 111.33977695167286,\n",
       " 'group/click/top3_dur': 107.21328116738924,\n",
       " 'group/click/top1_dur_best': 125.026468401487,\n",
       " 'group/click/top3_dur_best': 107.24214867294067,\n",
       " 'group/click/top1_dur_rate': 0.8905296484432144,\n",
       " 'group/click/top3_dur_rate': 0.9997308194034841,\n",
       " 'group/click/top1_click': 1.0,\n",
       " 'group/click/top3_click': 1.0,\n",
       " 'group/click/top1_click_best': 1.0,\n",
       " 'group/click/top3_click_best': 1.0,\n",
       " 'group/click/top1_click_rate': 1.0,\n",
       " 'group/click/top3_click_rate': 1.0,\n",
       " 'group/click/first_click_position': 0.0,\n",
       " 'group/click/last_click_position': 0.4495577667219458,\n",
       " 'group/click/ndcg3_click': 1.0,\n",
       " 'group/click/ndcg7_click': 1.0,\n",
       " 'group/click/ndcg14_click': 1.0,\n",
       " 'group/click/ndcg_click': 1.0,\n",
       " 'group/click/ndcg3_dur': 0.977690422643932,\n",
       " 'group/click/ndcg7_dur': 0.9799885817072141,\n",
       " 'group/click/ndcg14_dur': 0.9799885817072141,\n",
       " 'group/click/ndcg_dur': 0.9799885817072141,\n",
       " 'gold/auc': 0.5755868770212386,\n",
       " 'clickmids/auc': 0.6573419238811864,\n",
       " 'cold/auc': 0.9564573525802638,\n",
       " 'cold/group/auc': 0.5704225352112676,\n",
       " 'cold/group/auc2': 0.5967741935483871,\n",
       " 'cold/group/pos_ratio': 0.49295774647887325,\n",
       " 'cold/group/top1_score': 31.37226277372263,\n",
       " 'cold/group/top3_score': 28.262295081967213,\n",
       " 'cold/group/top1_best': 35.043795620437955,\n",
       " 'cold/group/top3_best': 28.262295081967213,\n",
       " 'cold/group/top1_rate': 0.8952301603832535,\n",
       " 'cold/group/top3_rate': 1.0,\n",
       " 'cold/group/top1_click': 0.9142857142857143,\n",
       " 'cold/group/top3_click': 0.8085106382978723,\n",
       " 'cold/group/top1_click_best': 1.0,\n",
       " 'cold/group/top3_click_best': 0.8085106382978723,\n",
       " 'cold/group/top1_click_rate': 0.9142857142857143,\n",
       " 'cold/group/top3_click_rate': 1.0,\n",
       " 'cold/group/first_click_position': 0.10714285714285714,\n",
       " 'cold/group/last_click_position': 0.20714285714285716,\n",
       " 'cold/group/ndcg3_click': 0.9648593286463235,\n",
       " 'cold/group/ndcg7_click': 0.9648593286463235,\n",
       " 'cold/group/ndcg14_click': 0.9648593286463235,\n",
       " 'cold/group/ndcg_click': 0.9648593286463235,\n",
       " 'cold/group/ndcg3_dur': 0.963152495236587,\n",
       " 'cold/group/ndcg7_dur': 0.963152495236587,\n",
       " 'cold/group/ndcg14_dur': 0.963152495236587,\n",
       " 'cold/group/ndcg_dur': 0.963152495236587,\n",
       " 'cold/click/time_auc': 0.5141478186807987,\n",
       " 'cold/group/click/time_auc': 0.5454545454545454,\n",
       " 'cold/group/click/top1_score': 34.167883211678834,\n",
       " 'cold/group/click/top3_score': 34.711409395973156,\n",
       " 'cold/group/click/top1_best': 35.043795620437955,\n",
       " 'cold/group/click/top3_best': 34.711409395973156,\n",
       " 'cold/group/click/top1_rate': 0.97500520724849,\n",
       " 'cold/group/click/top3_rate': 1.0,\n",
       " 'cold/group/click/top1_click': 1.0,\n",
       " 'cold/group/click/top3_click': 1.0,\n",
       " 'cold/group/click/top1_click_best': 1.0,\n",
       " 'cold/group/click/top3_click_best': 1.0,\n",
       " 'cold/group/click/top1_click_rate': 1.0,\n",
       " 'cold/group/click/top3_click_rate': 1.0,\n",
       " 'cold/group/click/first_click_position': 0.0,\n",
       " 'cold/group/click/last_click_position': 0.08759124087591241,\n",
       " 'cold/group/click/ndcg3_click': 1.0,\n",
       " 'cold/group/click/ndcg7_click': 1.0,\n",
       " 'cold/group/click/ndcg14_click': 1.0,\n",
       " 'cold/group/click/ndcg_click': 1.0,\n",
       " 'cold/group/click/ndcg3_dur': 0.9965906902771503,\n",
       " 'cold/group/click/ndcg7_dur': 0.9965906902771503,\n",
       " 'cold/group/click/ndcg14_dur': 0.9965906902771503,\n",
       " 'cold/group/click/ndcg_dur': 0.9965906902771503,\n",
       " 'quality/auc': 0.7313780078695429,\n",
       " 'quality/group/auc': 0.5306844062328637,\n",
       " 'quality/group/auc2': 0.5360339745801703,\n",
       " 'quality/group/pos_ratio': 0.31629822644364125,\n",
       " 'quality/group/top1_score': 57.11549384663932,\n",
       " 'quality/group/top3_score': 37.63531412206909,\n",
       " 'quality/group/top1_best': 120.55127800568002,\n",
       " 'quality/group/top3_best': 38.88696975120816,\n",
       " 'quality/group/top1_rate': 0.4737858842437838,\n",
       " 'quality/group/top3_rate': 0.9678129811310333,\n",
       " 'quality/group/top1_click': 0.4963963963963964,\n",
       " 'quality/group/top3_click': 0.36429595882898846,\n",
       " 'quality/group/top1_click_best': 1.0,\n",
       " 'quality/group/top3_click_best': 0.37855395258584323,\n",
       " 'quality/group/top1_click_rate': 0.4963963963963964,\n",
       " 'quality/group/top3_click_rate': 0.9623356362825942,\n",
       " 'quality/group/first_click_position': 1.0315315315315314,\n",
       " 'quality/group/last_click_position': 1.6312312312312311,\n",
       " 'quality/group/ndcg3_click': 0.6782702039990706,\n",
       " 'quality/group/ndcg7_click': 0.7589704412137913,\n",
       " 'quality/group/ndcg14_click': 0.7625228632708547,\n",
       " 'quality/group/ndcg_click': 0.7625228632708547,\n",
       " 'quality/group/ndcg3_dur': 0.6715770251383028,\n",
       " 'quality/group/ndcg7_dur': 0.7463136151163563,\n",
       " 'quality/group/ndcg14_dur': 0.748911304647313,\n",
       " 'quality/group/ndcg_dur': 0.748911304647313,\n",
       " 'quality/click/time_auc': 0.5804854215557949,\n",
       " 'quality/group/click/time_auc': 0.6277486232588274,\n",
       " 'quality/group/click/top1_score': 109.41621962764279,\n",
       " 'quality/group/click/top3_score': 104.05100574712644,\n",
       " 'quality/group/click/top1_best': 120.55127800568002,\n",
       " 'quality/group/click/top3_best': 104.05244252873563,\n",
       " 'quality/group/click/top1_rate': 0.9076321830655949,\n",
       " 'quality/group/click/top3_rate': 0.9999861917550971,\n",
       " 'quality/group/click/top1_click': 1.0,\n",
       " 'quality/group/click/top3_click': 1.0,\n",
       " 'quality/group/click/top1_click_best': 1.0,\n",
       " 'quality/group/click/top3_click_best': 1.0,\n",
       " 'quality/group/click/top1_click_rate': 1.0,\n",
       " 'quality/group/click/top3_click_rate': 1.0,\n",
       " 'quality/group/click/first_click_position': 0.0,\n",
       " 'quality/group/click/last_click_position': 0.31808141369517196,\n",
       " 'quality/group/click/ndcg3_click': 1.0,\n",
       " 'quality/group/click/ndcg7_click': 1.0,\n",
       " 'quality/group/click/ndcg14_click': 1.0,\n",
       " 'quality/group/click/ndcg_click': 1.0,\n",
       " 'quality/group/click/ndcg3_dur': 0.9797188644773536,\n",
       " 'quality/group/click/ndcg7_dur': 0.9812925651934705,\n",
       " 'quality/group/click/ndcg14_dur': 0.9812925651934705,\n",
       " 'quality/group/click/ndcg_dur': 0.9812925651934705,\n",
       " 'inv_rate': 0.32939883686424676}"
      ]
     },
     "execution_count": 36,
     "metadata": {},
     "output_type": "execute_result"
    }
   ],
   "source": [
    "result = eval(df[df.abtestid.isin([4,5,6])], group_by_impression=True, key='ol_pred', eval_click=False, eval_duration=False)\n",
    "result "
   ]
  },
  {
   "cell_type": "code",
   "execution_count": null,
   "metadata": {},
   "outputs": [],
   "source": []
  }
 ],
 "metadata": {
  "kernelspec": {
   "display_name": "Python 3",
   "language": "python",
   "name": "python3"
  },
  "language_info": {
   "codemirror_mode": {
    "name": "ipython",
    "version": 3
   },
   "file_extension": ".py",
   "mimetype": "text/x-python",
   "name": "python",
   "nbconvert_exporter": "python",
   "pygments_lexer": "ipython3",
   "version": "3.6.8"
  }
 },
 "nbformat": 4,
 "nbformat_minor": 2
}
