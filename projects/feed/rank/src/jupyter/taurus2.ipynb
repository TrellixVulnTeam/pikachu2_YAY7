{
 "cells": [
  {
   "cell_type": "code",
   "execution_count": 1,
   "metadata": {},
   "outputs": [
    {
     "data": {
      "text/html": [
       "        <script type=\"text/javascript\">\n",
       "        window.PlotlyConfig = {MathJaxConfig: 'local'};\n",
       "        if (window.MathJax) {MathJax.Hub.Config({SVG: {font: \"STIX-Web\"}});}\n",
       "        if (typeof require !== 'undefined') {\n",
       "        require.undef(\"plotly\");\n",
       "        requirejs.config({\n",
       "            paths: {\n",
       "                'plotly': ['https://cdn.plot.ly/plotly-latest.min']\n",
       "            }\n",
       "        });\n",
       "        require(['plotly'], function(Plotly) {\n",
       "            window._Plotly = Plotly;\n",
       "        });\n",
       "        }\n",
       "        </script>\n",
       "        "
      ]
     },
     "metadata": {},
     "output_type": "display_data"
    }
   ],
   "source": [
    "import os\n",
    "import glob\n",
    "import time\n",
    "from datetime import timedelta, datetime\n",
    "import numpy as np\n",
    "import pandas as pd\n",
    "\n",
    "from plotly.graph_objs import Scatter,Layout\n",
    "import plotly\n",
    "import plotly.offline as py\n",
    "import plotly.graph_objs as go\n",
    "from plotly.subplots import make_subplots\n",
    "\n",
    "#setting offilne\n",
    "plotly.offline.init_notebook_mode(connected=True)\n",
    "import gezi\n",
    "\n",
    "from projects.feed.rank.monitor.taurus import Taurus"
   ]
  },
  {
   "cell_type": "code",
   "execution_count": 2,
   "metadata": {},
   "outputs": [
    {
     "data": {
      "text/html": [
       "<style>\n",
       ".output_wrapper, .output {\n",
       "    height:auto !important;\n",
       "    max-height:10000px;  /* your desired max-height here */\n",
       "}\n",
       ".output_scroll {\n",
       "    box-shadow:none !important;\n",
       "    webkit-box-shadow:none !important;\n",
       "}\n",
       "</style>"
      ],
      "text/plain": [
       "<IPython.core.display.HTML object>"
      ]
     },
     "metadata": {},
     "output_type": "display_data"
    }
   ],
   "source": [
    "%%html\n",
    "<style>\n",
    ".output_wrapper, .output {\n",
    "    height:auto !important;\n",
    "    max-height:10000px;  /* your desired max-height here */\n",
    "}\n",
    ".output_scroll {\n",
    "    box-shadow:none !important;\n",
    "    webkit-box-shadow:none !important;\n",
    "}\n",
    "</style>"
   ]
  },
  {
   "cell_type": "code",
   "execution_count": 3,
   "metadata": {},
   "outputs": [],
   "source": [
    "last_days = 15\n",
    "start_time = None\n",
    "end_time = None\n",
    "# start_time = 20191210\n",
    "# end_time = 20191220\n",
    "abids = [8,15,16]\n",
    "# abids = [16, 8]\n",
    "# abids = [8]\n",
    "abids = [16]\n",
    "abids = [8]\n",
    "abids = [7]\n",
    "# product = 'sgsapp'\n",
    "product = 'newmse'\n",
    "\n",
    "diff_spans = {\n",
    "    8: [20191115, 20191121],\n",
    "    15: [20191113, 20191118],\n",
    "    16: [20191104, 20191110],\n",
    "    7: [20191230, 20200105],\n",
    "    9: [20191230, 20200105],\n",
    "}     \n",
    "\n",
    "# diff_spans = None"
   ]
  },
  {
   "cell_type": "code",
   "execution_count": 4,
   "metadata": {},
   "outputs": [
    {
     "name": "stderr",
     "output_type": "stream",
     "text": [
      "SELECT * FROM feed_abtest_video_type_common_daily \n",
      "                WHERE product = 'newmse'\n",
      "                AND abtest in ('6','4','5','7') \n",
      "                AND date BETWEEN '20191104' AND '20200114'\n",
      "                AND video_type not in ('-1', 'NULL')\n",
      "          \n",
      "0.37065792083740234\n"
     ]
    }
   ],
   "source": [
    "worker_daily = Taurus()\n",
    "worker_daily.init(abids, last_days, 'daily', product=product,\n",
    "            diff_spans=diff_spans, start_time=start_time, end_time=end_time)\n",
    "worker_daily.run()\n",
    "\n",
    "# for name 1(tuwen,video,small_video,total) 2(quality,total) 3(recommend,relative,total)\n",
    "def show_daily(name, use_diff=True, quality=False, field=None):\n",
    "  worker_daily.show(name, quality, field, use_diff=True)"
   ]
  },
  {
   "cell_type": "code",
   "execution_count": 5,
   "metadata": {},
   "outputs": [
    {
     "data": {
      "text/html": [
       "        <script type=\"text/javascript\">\n",
       "        window.PlotlyConfig = {MathJaxConfig: 'local'};\n",
       "        if (window.MathJax) {MathJax.Hub.Config({SVG: {font: \"STIX-Web\"}});}\n",
       "        if (typeof require !== 'undefined') {\n",
       "        require.undef(\"plotly\");\n",
       "        requirejs.config({\n",
       "            paths: {\n",
       "                'plotly': ['https://cdn.plot.ly/plotly-latest.min']\n",
       "            }\n",
       "        });\n",
       "        require(['plotly'], function(Plotly) {\n",
       "            window._Plotly = Plotly;\n",
       "        });\n",
       "        }\n",
       "        </script>\n",
       "        "
      ]
     },
     "metadata": {},
     "output_type": "display_data"
    },
    {
     "data": {
      "application/vnd.plotly.v1+json": {
       "config": {
        "linkText": "Export to plot.ly",
        "plotlyServerURL": "https://plot.ly",
        "showLink": false
       },
       "data": [
        {
         "hovertext": [
          "0.0090",
          "-0.0002",
          "-0.0070",
          "0.0015",
          "-0.0047",
          "0.0023",
          "-0.0059",
          "-0.0027",
          "0.0114",
          "0.0099",
          "0.0016",
          "-0.0159",
          "-0.0127",
          "-0.0151"
         ],
         "line": {
          "shape": "spline",
          "smoothing": 1
         },
         "mode": "lines+markers",
         "name": "7",
         "showlegend": true,
         "type": "scatter",
         "x": [
          "2019-12-31T00:00:00",
          "2020-01-01T00:00:00",
          "2020-01-02T00:00:00",
          "2020-01-03T00:00:00",
          "2020-01-04T00:00:00",
          "2020-01-05T00:00:00",
          "2020-01-06T00:00:00",
          "2020-01-07T00:00:00",
          "2020-01-08T00:00:00",
          "2020-01-09T00:00:00",
          "2020-01-10T00:00:00",
          "2020-01-11T00:00:00",
          "2020-01-12T00:00:00",
          "2020-01-13T00:00:00"
         ],
         "y": [
          0.23342294512566297,
          0.24886091030277993,
          0.2538315262201634,
          0.2629024096257752,
          0.2607475850690217,
          0.2697362859447984,
          0.26367654472681296,
          0.2600954559303462,
          0.26867049607828586,
          0.25726319321925956,
          0.2546777577044389,
          0.25409749089758277,
          0.25349552470437325,
          0.2463824417585749
         ]
        },
        {
         "line": {
          "shape": "spline",
          "smoothing": 1
         },
         "mode": "lines+markers",
         "name": "456",
         "showlegend": true,
         "type": "scatter",
         "x": [
          "2019-12-31T00:00:00",
          "2020-01-01T00:00:00",
          "2020-01-02T00:00:00",
          "2020-01-03T00:00:00",
          "2020-01-04T00:00:00",
          "2020-01-05T00:00:00",
          "2020-01-06T00:00:00",
          "2020-01-07T00:00:00",
          "2020-01-08T00:00:00",
          "2020-01-09T00:00:00",
          "2020-01-10T00:00:00",
          "2020-01-11T00:00:00",
          "2020-01-12T00:00:00",
          "2020-01-13T00:00:00"
         ],
         "y": [
          0.23134629044299274,
          0.248913000200771,
          0.2556272731201152,
          0.26251889121682787,
          0.26196826696585046,
          0.2691279403416445,
          0.2652495863841653,
          0.2608105365953198,
          0.2656488468183922,
          0.25474562627728187,
          0.2542708304686133,
          0.25821336483127605,
          0.25674975750270085,
          0.25016132500695837
         ]
        }
       ],
       "layout": {
        "hovermode": "x",
        "template": {
         "data": {
          "bar": [
           {
            "error_x": {
             "color": "#2a3f5f"
            },
            "error_y": {
             "color": "#2a3f5f"
            },
            "marker": {
             "line": {
              "color": "#E5ECF6",
              "width": 0.5
             }
            },
            "type": "bar"
           }
          ],
          "barpolar": [
           {
            "marker": {
             "line": {
              "color": "#E5ECF6",
              "width": 0.5
             }
            },
            "type": "barpolar"
           }
          ],
          "carpet": [
           {
            "aaxis": {
             "endlinecolor": "#2a3f5f",
             "gridcolor": "white",
             "linecolor": "white",
             "minorgridcolor": "white",
             "startlinecolor": "#2a3f5f"
            },
            "baxis": {
             "endlinecolor": "#2a3f5f",
             "gridcolor": "white",
             "linecolor": "white",
             "minorgridcolor": "white",
             "startlinecolor": "#2a3f5f"
            },
            "type": "carpet"
           }
          ],
          "choropleth": [
           {
            "colorbar": {
             "outlinewidth": 0,
             "ticks": ""
            },
            "type": "choropleth"
           }
          ],
          "contour": [
           {
            "colorbar": {
             "outlinewidth": 0,
             "ticks": ""
            },
            "colorscale": [
             [
              0,
              "#0d0887"
             ],
             [
              0.1111111111111111,
              "#46039f"
             ],
             [
              0.2222222222222222,
              "#7201a8"
             ],
             [
              0.3333333333333333,
              "#9c179e"
             ],
             [
              0.4444444444444444,
              "#bd3786"
             ],
             [
              0.5555555555555556,
              "#d8576b"
             ],
             [
              0.6666666666666666,
              "#ed7953"
             ],
             [
              0.7777777777777778,
              "#fb9f3a"
             ],
             [
              0.8888888888888888,
              "#fdca26"
             ],
             [
              1,
              "#f0f921"
             ]
            ],
            "type": "contour"
           }
          ],
          "contourcarpet": [
           {
            "colorbar": {
             "outlinewidth": 0,
             "ticks": ""
            },
            "type": "contourcarpet"
           }
          ],
          "heatmap": [
           {
            "colorbar": {
             "outlinewidth": 0,
             "ticks": ""
            },
            "colorscale": [
             [
              0,
              "#0d0887"
             ],
             [
              0.1111111111111111,
              "#46039f"
             ],
             [
              0.2222222222222222,
              "#7201a8"
             ],
             [
              0.3333333333333333,
              "#9c179e"
             ],
             [
              0.4444444444444444,
              "#bd3786"
             ],
             [
              0.5555555555555556,
              "#d8576b"
             ],
             [
              0.6666666666666666,
              "#ed7953"
             ],
             [
              0.7777777777777778,
              "#fb9f3a"
             ],
             [
              0.8888888888888888,
              "#fdca26"
             ],
             [
              1,
              "#f0f921"
             ]
            ],
            "type": "heatmap"
           }
          ],
          "heatmapgl": [
           {
            "colorbar": {
             "outlinewidth": 0,
             "ticks": ""
            },
            "colorscale": [
             [
              0,
              "#0d0887"
             ],
             [
              0.1111111111111111,
              "#46039f"
             ],
             [
              0.2222222222222222,
              "#7201a8"
             ],
             [
              0.3333333333333333,
              "#9c179e"
             ],
             [
              0.4444444444444444,
              "#bd3786"
             ],
             [
              0.5555555555555556,
              "#d8576b"
             ],
             [
              0.6666666666666666,
              "#ed7953"
             ],
             [
              0.7777777777777778,
              "#fb9f3a"
             ],
             [
              0.8888888888888888,
              "#fdca26"
             ],
             [
              1,
              "#f0f921"
             ]
            ],
            "type": "heatmapgl"
           }
          ],
          "histogram": [
           {
            "marker": {
             "colorbar": {
              "outlinewidth": 0,
              "ticks": ""
             }
            },
            "type": "histogram"
           }
          ],
          "histogram2d": [
           {
            "colorbar": {
             "outlinewidth": 0,
             "ticks": ""
            },
            "colorscale": [
             [
              0,
              "#0d0887"
             ],
             [
              0.1111111111111111,
              "#46039f"
             ],
             [
              0.2222222222222222,
              "#7201a8"
             ],
             [
              0.3333333333333333,
              "#9c179e"
             ],
             [
              0.4444444444444444,
              "#bd3786"
             ],
             [
              0.5555555555555556,
              "#d8576b"
             ],
             [
              0.6666666666666666,
              "#ed7953"
             ],
             [
              0.7777777777777778,
              "#fb9f3a"
             ],
             [
              0.8888888888888888,
              "#fdca26"
             ],
             [
              1,
              "#f0f921"
             ]
            ],
            "type": "histogram2d"
           }
          ],
          "histogram2dcontour": [
           {
            "colorbar": {
             "outlinewidth": 0,
             "ticks": ""
            },
            "colorscale": [
             [
              0,
              "#0d0887"
             ],
             [
              0.1111111111111111,
              "#46039f"
             ],
             [
              0.2222222222222222,
              "#7201a8"
             ],
             [
              0.3333333333333333,
              "#9c179e"
             ],
             [
              0.4444444444444444,
              "#bd3786"
             ],
             [
              0.5555555555555556,
              "#d8576b"
             ],
             [
              0.6666666666666666,
              "#ed7953"
             ],
             [
              0.7777777777777778,
              "#fb9f3a"
             ],
             [
              0.8888888888888888,
              "#fdca26"
             ],
             [
              1,
              "#f0f921"
             ]
            ],
            "type": "histogram2dcontour"
           }
          ],
          "mesh3d": [
           {
            "colorbar": {
             "outlinewidth": 0,
             "ticks": ""
            },
            "type": "mesh3d"
           }
          ],
          "parcoords": [
           {
            "line": {
             "colorbar": {
              "outlinewidth": 0,
              "ticks": ""
             }
            },
            "type": "parcoords"
           }
          ],
          "scatter": [
           {
            "marker": {
             "colorbar": {
              "outlinewidth": 0,
              "ticks": ""
             }
            },
            "type": "scatter"
           }
          ],
          "scatter3d": [
           {
            "line": {
             "colorbar": {
              "outlinewidth": 0,
              "ticks": ""
             }
            },
            "marker": {
             "colorbar": {
              "outlinewidth": 0,
              "ticks": ""
             }
            },
            "type": "scatter3d"
           }
          ],
          "scattercarpet": [
           {
            "marker": {
             "colorbar": {
              "outlinewidth": 0,
              "ticks": ""
             }
            },
            "type": "scattercarpet"
           }
          ],
          "scattergeo": [
           {
            "marker": {
             "colorbar": {
              "outlinewidth": 0,
              "ticks": ""
             }
            },
            "type": "scattergeo"
           }
          ],
          "scattergl": [
           {
            "marker": {
             "colorbar": {
              "outlinewidth": 0,
              "ticks": ""
             }
            },
            "type": "scattergl"
           }
          ],
          "scattermapbox": [
           {
            "marker": {
             "colorbar": {
              "outlinewidth": 0,
              "ticks": ""
             }
            },
            "type": "scattermapbox"
           }
          ],
          "scatterpolar": [
           {
            "marker": {
             "colorbar": {
              "outlinewidth": 0,
              "ticks": ""
             }
            },
            "type": "scatterpolar"
           }
          ],
          "scatterpolargl": [
           {
            "marker": {
             "colorbar": {
              "outlinewidth": 0,
              "ticks": ""
             }
            },
            "type": "scatterpolargl"
           }
          ],
          "scatterternary": [
           {
            "marker": {
             "colorbar": {
              "outlinewidth": 0,
              "ticks": ""
             }
            },
            "type": "scatterternary"
           }
          ],
          "surface": [
           {
            "colorbar": {
             "outlinewidth": 0,
             "ticks": ""
            },
            "colorscale": [
             [
              0,
              "#0d0887"
             ],
             [
              0.1111111111111111,
              "#46039f"
             ],
             [
              0.2222222222222222,
              "#7201a8"
             ],
             [
              0.3333333333333333,
              "#9c179e"
             ],
             [
              0.4444444444444444,
              "#bd3786"
             ],
             [
              0.5555555555555556,
              "#d8576b"
             ],
             [
              0.6666666666666666,
              "#ed7953"
             ],
             [
              0.7777777777777778,
              "#fb9f3a"
             ],
             [
              0.8888888888888888,
              "#fdca26"
             ],
             [
              1,
              "#f0f921"
             ]
            ],
            "type": "surface"
           }
          ],
          "table": [
           {
            "cells": {
             "fill": {
              "color": "#EBF0F8"
             },
             "line": {
              "color": "white"
             }
            },
            "header": {
             "fill": {
              "color": "#C8D4E3"
             },
             "line": {
              "color": "white"
             }
            },
            "type": "table"
           }
          ]
         },
         "layout": {
          "annotationdefaults": {
           "arrowcolor": "#2a3f5f",
           "arrowhead": 0,
           "arrowwidth": 1
          },
          "colorscale": {
           "diverging": [
            [
             0,
             "#8e0152"
            ],
            [
             0.1,
             "#c51b7d"
            ],
            [
             0.2,
             "#de77ae"
            ],
            [
             0.3,
             "#f1b6da"
            ],
            [
             0.4,
             "#fde0ef"
            ],
            [
             0.5,
             "#f7f7f7"
            ],
            [
             0.6,
             "#e6f5d0"
            ],
            [
             0.7,
             "#b8e186"
            ],
            [
             0.8,
             "#7fbc41"
            ],
            [
             0.9,
             "#4d9221"
            ],
            [
             1,
             "#276419"
            ]
           ],
           "sequential": [
            [
             0,
             "#0d0887"
            ],
            [
             0.1111111111111111,
             "#46039f"
            ],
            [
             0.2222222222222222,
             "#7201a8"
            ],
            [
             0.3333333333333333,
             "#9c179e"
            ],
            [
             0.4444444444444444,
             "#bd3786"
            ],
            [
             0.5555555555555556,
             "#d8576b"
            ],
            [
             0.6666666666666666,
             "#ed7953"
            ],
            [
             0.7777777777777778,
             "#fb9f3a"
            ],
            [
             0.8888888888888888,
             "#fdca26"
            ],
            [
             1,
             "#f0f921"
            ]
           ],
           "sequentialminus": [
            [
             0,
             "#0d0887"
            ],
            [
             0.1111111111111111,
             "#46039f"
            ],
            [
             0.2222222222222222,
             "#7201a8"
            ],
            [
             0.3333333333333333,
             "#9c179e"
            ],
            [
             0.4444444444444444,
             "#bd3786"
            ],
            [
             0.5555555555555556,
             "#d8576b"
            ],
            [
             0.6666666666666666,
             "#ed7953"
            ],
            [
             0.7777777777777778,
             "#fb9f3a"
            ],
            [
             0.8888888888888888,
             "#fdca26"
            ],
            [
             1,
             "#f0f921"
            ]
           ]
          },
          "colorway": [
           "#636efa",
           "#EF553B",
           "#00cc96",
           "#ab63fa",
           "#FFA15A",
           "#19d3f3",
           "#FF6692",
           "#B6E880",
           "#FF97FF",
           "#FECB52"
          ],
          "font": {
           "color": "#2a3f5f"
          },
          "geo": {
           "bgcolor": "white",
           "lakecolor": "white",
           "landcolor": "#E5ECF6",
           "showlakes": true,
           "showland": true,
           "subunitcolor": "white"
          },
          "hoverlabel": {
           "align": "left"
          },
          "hovermode": "closest",
          "mapbox": {
           "style": "light"
          },
          "paper_bgcolor": "white",
          "plot_bgcolor": "#E5ECF6",
          "polar": {
           "angularaxis": {
            "gridcolor": "white",
            "linecolor": "white",
            "ticks": ""
           },
           "bgcolor": "#E5ECF6",
           "radialaxis": {
            "gridcolor": "white",
            "linecolor": "white",
            "ticks": ""
           }
          },
          "scene": {
           "xaxis": {
            "backgroundcolor": "#E5ECF6",
            "gridcolor": "white",
            "gridwidth": 2,
            "linecolor": "white",
            "showbackground": true,
            "ticks": "",
            "zerolinecolor": "white"
           },
           "yaxis": {
            "backgroundcolor": "#E5ECF6",
            "gridcolor": "white",
            "gridwidth": 2,
            "linecolor": "white",
            "showbackground": true,
            "ticks": "",
            "zerolinecolor": "white"
           },
           "zaxis": {
            "backgroundcolor": "#E5ECF6",
            "gridcolor": "white",
            "gridwidth": 2,
            "linecolor": "white",
            "showbackground": true,
            "ticks": "",
            "zerolinecolor": "white"
           }
          },
          "shapedefaults": {
           "line": {
            "color": "#2a3f5f"
           }
          },
          "ternary": {
           "aaxis": {
            "gridcolor": "white",
            "linecolor": "white",
            "ticks": ""
           },
           "baxis": {
            "gridcolor": "white",
            "linecolor": "white",
            "ticks": ""
           },
           "bgcolor": "#E5ECF6",
           "caxis": {
            "gridcolor": "white",
            "linecolor": "white",
            "ticks": ""
           }
          },
          "title": {
           "x": 0.05
          },
          "xaxis": {
           "automargin": true,
           "gridcolor": "white",
           "linecolor": "white",
           "ticks": "",
           "zerolinecolor": "white",
           "zerolinewidth": 2
          },
          "yaxis": {
           "automargin": true,
           "gridcolor": "white",
           "linecolor": "white",
           "ticks": "",
           "zerolinecolor": "white",
           "zerolinewidth": 2
          }
         }
        },
        "title": {
         "text": "newmse:tuwen:total_recommend:(read_ratio)"
        },
        "xaxis": {
         "type": "date"
        },
        "yaxis": {
         "title": {
          "text": "read_ratio"
         }
        }
       }
      },
      "text/html": [
       "<div>\n",
       "        \n",
       "        \n",
       "            <div id=\"c1a7d066-1026-4700-8f4c-09f85a9aa62c\" class=\"plotly-graph-div\" style=\"height:525px; width:100%;\"></div>\n",
       "            <script type=\"text/javascript\">\n",
       "                require([\"plotly\"], function(Plotly) {\n",
       "                    window.PLOTLYENV=window.PLOTLYENV || {};\n",
       "                    \n",
       "                if (document.getElementById(\"c1a7d066-1026-4700-8f4c-09f85a9aa62c\")) {\n",
       "                    Plotly.newPlot(\n",
       "                        'c1a7d066-1026-4700-8f4c-09f85a9aa62c',\n",
       "                        [{\"hovertext\": [\"0.0090\", \"-0.0002\", \"-0.0070\", \"0.0015\", \"-0.0047\", \"0.0023\", \"-0.0059\", \"-0.0027\", \"0.0114\", \"0.0099\", \"0.0016\", \"-0.0159\", \"-0.0127\", \"-0.0151\"], \"line\": {\"shape\": \"spline\", \"smoothing\": 1.0}, \"mode\": \"lines+markers\", \"name\": \"7\", \"showlegend\": true, \"type\": \"scatter\", \"x\": [\"2019-12-31T00:00:00\", \"2020-01-01T00:00:00\", \"2020-01-02T00:00:00\", \"2020-01-03T00:00:00\", \"2020-01-04T00:00:00\", \"2020-01-05T00:00:00\", \"2020-01-06T00:00:00\", \"2020-01-07T00:00:00\", \"2020-01-08T00:00:00\", \"2020-01-09T00:00:00\", \"2020-01-10T00:00:00\", \"2020-01-11T00:00:00\", \"2020-01-12T00:00:00\", \"2020-01-13T00:00:00\"], \"y\": [0.23342294512566297, 0.24886091030277993, 0.2538315262201634, 0.2629024096257752, 0.2607475850690217, 0.2697362859447984, 0.26367654472681296, 0.2600954559303462, 0.26867049607828586, 0.25726319321925956, 0.2546777577044389, 0.25409749089758277, 0.25349552470437325, 0.2463824417585749]}, {\"line\": {\"shape\": \"spline\", \"smoothing\": 1.0}, \"mode\": \"lines+markers\", \"name\": \"456\", \"showlegend\": true, \"type\": \"scatter\", \"x\": [\"2019-12-31T00:00:00\", \"2020-01-01T00:00:00\", \"2020-01-02T00:00:00\", \"2020-01-03T00:00:00\", \"2020-01-04T00:00:00\", \"2020-01-05T00:00:00\", \"2020-01-06T00:00:00\", \"2020-01-07T00:00:00\", \"2020-01-08T00:00:00\", \"2020-01-09T00:00:00\", \"2020-01-10T00:00:00\", \"2020-01-11T00:00:00\", \"2020-01-12T00:00:00\", \"2020-01-13T00:00:00\"], \"y\": [0.23134629044299274, 0.248913000200771, 0.2556272731201152, 0.26251889121682787, 0.26196826696585046, 0.2691279403416445, 0.2652495863841653, 0.2608105365953198, 0.2656488468183922, 0.25474562627728187, 0.2542708304686133, 0.25821336483127605, 0.25674975750270085, 0.25016132500695837]}],\n",
       "                        {\"hovermode\": \"x\", \"template\": {\"data\": {\"bar\": [{\"error_x\": {\"color\": \"#2a3f5f\"}, \"error_y\": {\"color\": \"#2a3f5f\"}, \"marker\": {\"line\": {\"color\": \"#E5ECF6\", \"width\": 0.5}}, \"type\": \"bar\"}], \"barpolar\": [{\"marker\": {\"line\": {\"color\": \"#E5ECF6\", \"width\": 0.5}}, \"type\": \"barpolar\"}], \"carpet\": [{\"aaxis\": {\"endlinecolor\": \"#2a3f5f\", \"gridcolor\": \"white\", \"linecolor\": \"white\", \"minorgridcolor\": \"white\", \"startlinecolor\": \"#2a3f5f\"}, \"baxis\": {\"endlinecolor\": \"#2a3f5f\", \"gridcolor\": \"white\", \"linecolor\": \"white\", \"minorgridcolor\": \"white\", \"startlinecolor\": \"#2a3f5f\"}, \"type\": \"carpet\"}], \"choropleth\": [{\"colorbar\": {\"outlinewidth\": 0, \"ticks\": \"\"}, \"type\": \"choropleth\"}], \"contour\": [{\"colorbar\": {\"outlinewidth\": 0, \"ticks\": \"\"}, \"colorscale\": [[0.0, \"#0d0887\"], [0.1111111111111111, \"#46039f\"], [0.2222222222222222, \"#7201a8\"], [0.3333333333333333, \"#9c179e\"], [0.4444444444444444, \"#bd3786\"], [0.5555555555555556, \"#d8576b\"], [0.6666666666666666, \"#ed7953\"], [0.7777777777777778, \"#fb9f3a\"], [0.8888888888888888, \"#fdca26\"], [1.0, \"#f0f921\"]], \"type\": \"contour\"}], \"contourcarpet\": [{\"colorbar\": {\"outlinewidth\": 0, \"ticks\": \"\"}, \"type\": \"contourcarpet\"}], \"heatmap\": [{\"colorbar\": {\"outlinewidth\": 0, \"ticks\": \"\"}, \"colorscale\": [[0.0, \"#0d0887\"], [0.1111111111111111, \"#46039f\"], [0.2222222222222222, \"#7201a8\"], [0.3333333333333333, \"#9c179e\"], [0.4444444444444444, \"#bd3786\"], [0.5555555555555556, \"#d8576b\"], [0.6666666666666666, \"#ed7953\"], [0.7777777777777778, \"#fb9f3a\"], [0.8888888888888888, \"#fdca26\"], [1.0, \"#f0f921\"]], \"type\": \"heatmap\"}], \"heatmapgl\": [{\"colorbar\": {\"outlinewidth\": 0, \"ticks\": \"\"}, \"colorscale\": [[0.0, \"#0d0887\"], [0.1111111111111111, \"#46039f\"], [0.2222222222222222, \"#7201a8\"], [0.3333333333333333, \"#9c179e\"], [0.4444444444444444, \"#bd3786\"], [0.5555555555555556, \"#d8576b\"], [0.6666666666666666, \"#ed7953\"], [0.7777777777777778, \"#fb9f3a\"], [0.8888888888888888, \"#fdca26\"], [1.0, \"#f0f921\"]], \"type\": \"heatmapgl\"}], \"histogram\": [{\"marker\": {\"colorbar\": {\"outlinewidth\": 0, \"ticks\": \"\"}}, \"type\": \"histogram\"}], \"histogram2d\": [{\"colorbar\": {\"outlinewidth\": 0, \"ticks\": \"\"}, \"colorscale\": [[0.0, \"#0d0887\"], [0.1111111111111111, \"#46039f\"], [0.2222222222222222, \"#7201a8\"], [0.3333333333333333, \"#9c179e\"], [0.4444444444444444, \"#bd3786\"], [0.5555555555555556, \"#d8576b\"], [0.6666666666666666, \"#ed7953\"], [0.7777777777777778, \"#fb9f3a\"], [0.8888888888888888, \"#fdca26\"], [1.0, \"#f0f921\"]], \"type\": \"histogram2d\"}], \"histogram2dcontour\": [{\"colorbar\": {\"outlinewidth\": 0, \"ticks\": \"\"}, \"colorscale\": [[0.0, \"#0d0887\"], [0.1111111111111111, \"#46039f\"], [0.2222222222222222, \"#7201a8\"], [0.3333333333333333, \"#9c179e\"], [0.4444444444444444, \"#bd3786\"], [0.5555555555555556, \"#d8576b\"], [0.6666666666666666, \"#ed7953\"], [0.7777777777777778, \"#fb9f3a\"], [0.8888888888888888, \"#fdca26\"], [1.0, \"#f0f921\"]], \"type\": \"histogram2dcontour\"}], \"mesh3d\": [{\"colorbar\": {\"outlinewidth\": 0, \"ticks\": \"\"}, \"type\": \"mesh3d\"}], \"parcoords\": [{\"line\": {\"colorbar\": {\"outlinewidth\": 0, \"ticks\": \"\"}}, \"type\": \"parcoords\"}], \"scatter\": [{\"marker\": {\"colorbar\": {\"outlinewidth\": 0, \"ticks\": \"\"}}, \"type\": \"scatter\"}], \"scatter3d\": [{\"line\": {\"colorbar\": {\"outlinewidth\": 0, \"ticks\": \"\"}}, \"marker\": {\"colorbar\": {\"outlinewidth\": 0, \"ticks\": \"\"}}, \"type\": \"scatter3d\"}], \"scattercarpet\": [{\"marker\": {\"colorbar\": {\"outlinewidth\": 0, \"ticks\": \"\"}}, \"type\": \"scattercarpet\"}], \"scattergeo\": [{\"marker\": {\"colorbar\": {\"outlinewidth\": 0, \"ticks\": \"\"}}, \"type\": \"scattergeo\"}], \"scattergl\": [{\"marker\": {\"colorbar\": {\"outlinewidth\": 0, \"ticks\": \"\"}}, \"type\": \"scattergl\"}], \"scattermapbox\": [{\"marker\": {\"colorbar\": {\"outlinewidth\": 0, \"ticks\": \"\"}}, \"type\": \"scattermapbox\"}], \"scatterpolar\": [{\"marker\": {\"colorbar\": {\"outlinewidth\": 0, \"ticks\": \"\"}}, \"type\": \"scatterpolar\"}], \"scatterpolargl\": [{\"marker\": {\"colorbar\": {\"outlinewidth\": 0, \"ticks\": \"\"}}, \"type\": \"scatterpolargl\"}], \"scatterternary\": [{\"marker\": {\"colorbar\": {\"outlinewidth\": 0, \"ticks\": \"\"}}, \"type\": \"scatterternary\"}], \"surface\": [{\"colorbar\": {\"outlinewidth\": 0, \"ticks\": \"\"}, \"colorscale\": [[0.0, \"#0d0887\"], [0.1111111111111111, \"#46039f\"], [0.2222222222222222, \"#7201a8\"], [0.3333333333333333, \"#9c179e\"], [0.4444444444444444, \"#bd3786\"], [0.5555555555555556, \"#d8576b\"], [0.6666666666666666, \"#ed7953\"], [0.7777777777777778, \"#fb9f3a\"], [0.8888888888888888, \"#fdca26\"], [1.0, \"#f0f921\"]], \"type\": \"surface\"}], \"table\": [{\"cells\": {\"fill\": {\"color\": \"#EBF0F8\"}, \"line\": {\"color\": \"white\"}}, \"header\": {\"fill\": {\"color\": \"#C8D4E3\"}, \"line\": {\"color\": \"white\"}}, \"type\": \"table\"}]}, \"layout\": {\"annotationdefaults\": {\"arrowcolor\": \"#2a3f5f\", \"arrowhead\": 0, \"arrowwidth\": 1}, \"colorscale\": {\"diverging\": [[0, \"#8e0152\"], [0.1, \"#c51b7d\"], [0.2, \"#de77ae\"], [0.3, \"#f1b6da\"], [0.4, \"#fde0ef\"], [0.5, \"#f7f7f7\"], [0.6, \"#e6f5d0\"], [0.7, \"#b8e186\"], [0.8, \"#7fbc41\"], [0.9, \"#4d9221\"], [1, \"#276419\"]], \"sequential\": [[0.0, \"#0d0887\"], [0.1111111111111111, \"#46039f\"], [0.2222222222222222, \"#7201a8\"], [0.3333333333333333, \"#9c179e\"], [0.4444444444444444, \"#bd3786\"], [0.5555555555555556, \"#d8576b\"], [0.6666666666666666, \"#ed7953\"], [0.7777777777777778, \"#fb9f3a\"], [0.8888888888888888, \"#fdca26\"], [1.0, \"#f0f921\"]], \"sequentialminus\": [[0.0, \"#0d0887\"], [0.1111111111111111, \"#46039f\"], [0.2222222222222222, \"#7201a8\"], [0.3333333333333333, \"#9c179e\"], [0.4444444444444444, \"#bd3786\"], [0.5555555555555556, \"#d8576b\"], [0.6666666666666666, \"#ed7953\"], [0.7777777777777778, \"#fb9f3a\"], [0.8888888888888888, \"#fdca26\"], [1.0, \"#f0f921\"]]}, \"colorway\": [\"#636efa\", \"#EF553B\", \"#00cc96\", \"#ab63fa\", \"#FFA15A\", \"#19d3f3\", \"#FF6692\", \"#B6E880\", \"#FF97FF\", \"#FECB52\"], \"font\": {\"color\": \"#2a3f5f\"}, \"geo\": {\"bgcolor\": \"white\", \"lakecolor\": \"white\", \"landcolor\": \"#E5ECF6\", \"showlakes\": true, \"showland\": true, \"subunitcolor\": \"white\"}, \"hoverlabel\": {\"align\": \"left\"}, \"hovermode\": \"closest\", \"mapbox\": {\"style\": \"light\"}, \"paper_bgcolor\": \"white\", \"plot_bgcolor\": \"#E5ECF6\", \"polar\": {\"angularaxis\": {\"gridcolor\": \"white\", \"linecolor\": \"white\", \"ticks\": \"\"}, \"bgcolor\": \"#E5ECF6\", \"radialaxis\": {\"gridcolor\": \"white\", \"linecolor\": \"white\", \"ticks\": \"\"}}, \"scene\": {\"xaxis\": {\"backgroundcolor\": \"#E5ECF6\", \"gridcolor\": \"white\", \"gridwidth\": 2, \"linecolor\": \"white\", \"showbackground\": true, \"ticks\": \"\", \"zerolinecolor\": \"white\"}, \"yaxis\": {\"backgroundcolor\": \"#E5ECF6\", \"gridcolor\": \"white\", \"gridwidth\": 2, \"linecolor\": \"white\", \"showbackground\": true, \"ticks\": \"\", \"zerolinecolor\": \"white\"}, \"zaxis\": {\"backgroundcolor\": \"#E5ECF6\", \"gridcolor\": \"white\", \"gridwidth\": 2, \"linecolor\": \"white\", \"showbackground\": true, \"ticks\": \"\", \"zerolinecolor\": \"white\"}}, \"shapedefaults\": {\"line\": {\"color\": \"#2a3f5f\"}}, \"ternary\": {\"aaxis\": {\"gridcolor\": \"white\", \"linecolor\": \"white\", \"ticks\": \"\"}, \"baxis\": {\"gridcolor\": \"white\", \"linecolor\": \"white\", \"ticks\": \"\"}, \"bgcolor\": \"#E5ECF6\", \"caxis\": {\"gridcolor\": \"white\", \"linecolor\": \"white\", \"ticks\": \"\"}}, \"title\": {\"x\": 0.05}, \"xaxis\": {\"automargin\": true, \"gridcolor\": \"white\", \"linecolor\": \"white\", \"ticks\": \"\", \"zerolinecolor\": \"white\", \"zerolinewidth\": 2}, \"yaxis\": {\"automargin\": true, \"gridcolor\": \"white\", \"linecolor\": \"white\", \"ticks\": \"\", \"zerolinecolor\": \"white\", \"zerolinewidth\": 2}}}, \"title\": {\"text\": \"newmse:tuwen:total_recommend:(read_ratio)\"}, \"xaxis\": {\"type\": \"date\"}, \"yaxis\": {\"title\": {\"text\": \"read_ratio\"}}},\n",
       "                        {\"responsive\": true}\n",
       "                    ).then(function(){\n",
       "                            \n",
       "var gd = document.getElementById('c1a7d066-1026-4700-8f4c-09f85a9aa62c');\n",
       "var x = new MutationObserver(function (mutations, observer) {{\n",
       "        var display = window.getComputedStyle(gd).display;\n",
       "        if (!display || display === 'none') {{\n",
       "            console.log([gd, 'removed!']);\n",
       "            Plotly.purge(gd);\n",
       "            observer.disconnect();\n",
       "        }}\n",
       "}});\n",
       "\n",
       "// Listen for the removal of the full notebook cells\n",
       "var notebookContainer = gd.closest('#notebook-container');\n",
       "if (notebookContainer) {{\n",
       "    x.observe(notebookContainer, {childList: true});\n",
       "}}\n",
       "\n",
       "// Listen for the clearing of the current output cell\n",
       "var outputEl = gd.closest('.output');\n",
       "if (outputEl) {{\n",
       "    x.observe(outputEl, {childList: true});\n",
       "}}\n",
       "\n",
       "                        })\n",
       "                };\n",
       "                });\n",
       "            </script>\n",
       "        </div>"
      ]
     },
     "metadata": {},
     "output_type": "display_data"
    },
    {
     "data": {
      "application/vnd.plotly.v1+json": {
       "config": {
        "linkText": "Export to plot.ly",
        "plotlyServerURL": "https://plot.ly",
        "showLink": false
       },
       "data": [
        {
         "hovertext": [
          "0.0068",
          "0.0162",
          "-0.0110",
          "-0.0093",
          "-0.0087",
          "0.0075",
          "0.0960",
          "0.2888",
          "0.0541",
          "-0.2681",
          "-0.2746",
          "-0.2658",
          "-0.2505",
          "-0.2484"
         ],
         "line": {
          "shape": "spline",
          "smoothing": 1
         },
         "mode": "lines+markers",
         "name": "7",
         "showlegend": true,
         "type": "scatter",
         "x": [
          "2019-12-31T00:00:00",
          "2020-01-01T00:00:00",
          "2020-01-02T00:00:00",
          "2020-01-03T00:00:00",
          "2020-01-04T00:00:00",
          "2020-01-05T00:00:00",
          "2020-01-06T00:00:00",
          "2020-01-07T00:00:00",
          "2020-01-08T00:00:00",
          "2020-01-09T00:00:00",
          "2020-01-10T00:00:00",
          "2020-01-11T00:00:00",
          "2020-01-12T00:00:00",
          "2020-01-13T00:00:00"
         ],
         "y": [
          2.293308807510593,
          2.658556040154761,
          2.5042660749943613,
          2.8440290537102584,
          3.389544168147024,
          3.5533401766478536,
          3.053955186496149,
          3.7374242955724504,
          3.3333957551961673,
          2.723270423194899,
          2.598426736706826,
          2.753430297363064,
          2.7363264036197017,
          2.479468464940889
         ]
        },
        {
         "line": {
          "shape": "spline",
          "smoothing": 1
         },
         "mode": "lines+markers",
         "name": "456",
         "showlegend": true,
         "type": "scatter",
         "x": [
          "2019-12-31T00:00:00",
          "2020-01-01T00:00:00",
          "2020-01-02T00:00:00",
          "2020-01-03T00:00:00",
          "2020-01-04T00:00:00",
          "2020-01-05T00:00:00",
          "2020-01-06T00:00:00",
          "2020-01-07T00:00:00",
          "2020-01-08T00:00:00",
          "2020-01-09T00:00:00",
          "2020-01-10T00:00:00",
          "2020-01-11T00:00:00",
          "2020-01-12T00:00:00",
          "2020-01-13T00:00:00"
         ],
         "y": [
          2.2778284167556944,
          2.61618939166463,
          2.532116714651647,
          2.8707046896437,
          3.4192264477534806,
          3.5269786606957028,
          2.7863476231948305,
          2.8998940370993793,
          3.162255785382419,
          3.720945692383229,
          3.58219777056415,
          3.750015986025977,
          3.650685579891268,
          3.298900557091048
         ]
        }
       ],
       "layout": {
        "hovermode": "x",
        "template": {
         "data": {
          "bar": [
           {
            "error_x": {
             "color": "#2a3f5f"
            },
            "error_y": {
             "color": "#2a3f5f"
            },
            "marker": {
             "line": {
              "color": "#E5ECF6",
              "width": 0.5
             }
            },
            "type": "bar"
           }
          ],
          "barpolar": [
           {
            "marker": {
             "line": {
              "color": "#E5ECF6",
              "width": 0.5
             }
            },
            "type": "barpolar"
           }
          ],
          "carpet": [
           {
            "aaxis": {
             "endlinecolor": "#2a3f5f",
             "gridcolor": "white",
             "linecolor": "white",
             "minorgridcolor": "white",
             "startlinecolor": "#2a3f5f"
            },
            "baxis": {
             "endlinecolor": "#2a3f5f",
             "gridcolor": "white",
             "linecolor": "white",
             "minorgridcolor": "white",
             "startlinecolor": "#2a3f5f"
            },
            "type": "carpet"
           }
          ],
          "choropleth": [
           {
            "colorbar": {
             "outlinewidth": 0,
             "ticks": ""
            },
            "type": "choropleth"
           }
          ],
          "contour": [
           {
            "colorbar": {
             "outlinewidth": 0,
             "ticks": ""
            },
            "colorscale": [
             [
              0,
              "#0d0887"
             ],
             [
              0.1111111111111111,
              "#46039f"
             ],
             [
              0.2222222222222222,
              "#7201a8"
             ],
             [
              0.3333333333333333,
              "#9c179e"
             ],
             [
              0.4444444444444444,
              "#bd3786"
             ],
             [
              0.5555555555555556,
              "#d8576b"
             ],
             [
              0.6666666666666666,
              "#ed7953"
             ],
             [
              0.7777777777777778,
              "#fb9f3a"
             ],
             [
              0.8888888888888888,
              "#fdca26"
             ],
             [
              1,
              "#f0f921"
             ]
            ],
            "type": "contour"
           }
          ],
          "contourcarpet": [
           {
            "colorbar": {
             "outlinewidth": 0,
             "ticks": ""
            },
            "type": "contourcarpet"
           }
          ],
          "heatmap": [
           {
            "colorbar": {
             "outlinewidth": 0,
             "ticks": ""
            },
            "colorscale": [
             [
              0,
              "#0d0887"
             ],
             [
              0.1111111111111111,
              "#46039f"
             ],
             [
              0.2222222222222222,
              "#7201a8"
             ],
             [
              0.3333333333333333,
              "#9c179e"
             ],
             [
              0.4444444444444444,
              "#bd3786"
             ],
             [
              0.5555555555555556,
              "#d8576b"
             ],
             [
              0.6666666666666666,
              "#ed7953"
             ],
             [
              0.7777777777777778,
              "#fb9f3a"
             ],
             [
              0.8888888888888888,
              "#fdca26"
             ],
             [
              1,
              "#f0f921"
             ]
            ],
            "type": "heatmap"
           }
          ],
          "heatmapgl": [
           {
            "colorbar": {
             "outlinewidth": 0,
             "ticks": ""
            },
            "colorscale": [
             [
              0,
              "#0d0887"
             ],
             [
              0.1111111111111111,
              "#46039f"
             ],
             [
              0.2222222222222222,
              "#7201a8"
             ],
             [
              0.3333333333333333,
              "#9c179e"
             ],
             [
              0.4444444444444444,
              "#bd3786"
             ],
             [
              0.5555555555555556,
              "#d8576b"
             ],
             [
              0.6666666666666666,
              "#ed7953"
             ],
             [
              0.7777777777777778,
              "#fb9f3a"
             ],
             [
              0.8888888888888888,
              "#fdca26"
             ],
             [
              1,
              "#f0f921"
             ]
            ],
            "type": "heatmapgl"
           }
          ],
          "histogram": [
           {
            "marker": {
             "colorbar": {
              "outlinewidth": 0,
              "ticks": ""
             }
            },
            "type": "histogram"
           }
          ],
          "histogram2d": [
           {
            "colorbar": {
             "outlinewidth": 0,
             "ticks": ""
            },
            "colorscale": [
             [
              0,
              "#0d0887"
             ],
             [
              0.1111111111111111,
              "#46039f"
             ],
             [
              0.2222222222222222,
              "#7201a8"
             ],
             [
              0.3333333333333333,
              "#9c179e"
             ],
             [
              0.4444444444444444,
              "#bd3786"
             ],
             [
              0.5555555555555556,
              "#d8576b"
             ],
             [
              0.6666666666666666,
              "#ed7953"
             ],
             [
              0.7777777777777778,
              "#fb9f3a"
             ],
             [
              0.8888888888888888,
              "#fdca26"
             ],
             [
              1,
              "#f0f921"
             ]
            ],
            "type": "histogram2d"
           }
          ],
          "histogram2dcontour": [
           {
            "colorbar": {
             "outlinewidth": 0,
             "ticks": ""
            },
            "colorscale": [
             [
              0,
              "#0d0887"
             ],
             [
              0.1111111111111111,
              "#46039f"
             ],
             [
              0.2222222222222222,
              "#7201a8"
             ],
             [
              0.3333333333333333,
              "#9c179e"
             ],
             [
              0.4444444444444444,
              "#bd3786"
             ],
             [
              0.5555555555555556,
              "#d8576b"
             ],
             [
              0.6666666666666666,
              "#ed7953"
             ],
             [
              0.7777777777777778,
              "#fb9f3a"
             ],
             [
              0.8888888888888888,
              "#fdca26"
             ],
             [
              1,
              "#f0f921"
             ]
            ],
            "type": "histogram2dcontour"
           }
          ],
          "mesh3d": [
           {
            "colorbar": {
             "outlinewidth": 0,
             "ticks": ""
            },
            "type": "mesh3d"
           }
          ],
          "parcoords": [
           {
            "line": {
             "colorbar": {
              "outlinewidth": 0,
              "ticks": ""
             }
            },
            "type": "parcoords"
           }
          ],
          "scatter": [
           {
            "marker": {
             "colorbar": {
              "outlinewidth": 0,
              "ticks": ""
             }
            },
            "type": "scatter"
           }
          ],
          "scatter3d": [
           {
            "line": {
             "colorbar": {
              "outlinewidth": 0,
              "ticks": ""
             }
            },
            "marker": {
             "colorbar": {
              "outlinewidth": 0,
              "ticks": ""
             }
            },
            "type": "scatter3d"
           }
          ],
          "scattercarpet": [
           {
            "marker": {
             "colorbar": {
              "outlinewidth": 0,
              "ticks": ""
             }
            },
            "type": "scattercarpet"
           }
          ],
          "scattergeo": [
           {
            "marker": {
             "colorbar": {
              "outlinewidth": 0,
              "ticks": ""
             }
            },
            "type": "scattergeo"
           }
          ],
          "scattergl": [
           {
            "marker": {
             "colorbar": {
              "outlinewidth": 0,
              "ticks": ""
             }
            },
            "type": "scattergl"
           }
          ],
          "scattermapbox": [
           {
            "marker": {
             "colorbar": {
              "outlinewidth": 0,
              "ticks": ""
             }
            },
            "type": "scattermapbox"
           }
          ],
          "scatterpolar": [
           {
            "marker": {
             "colorbar": {
              "outlinewidth": 0,
              "ticks": ""
             }
            },
            "type": "scatterpolar"
           }
          ],
          "scatterpolargl": [
           {
            "marker": {
             "colorbar": {
              "outlinewidth": 0,
              "ticks": ""
             }
            },
            "type": "scatterpolargl"
           }
          ],
          "scatterternary": [
           {
            "marker": {
             "colorbar": {
              "outlinewidth": 0,
              "ticks": ""
             }
            },
            "type": "scatterternary"
           }
          ],
          "surface": [
           {
            "colorbar": {
             "outlinewidth": 0,
             "ticks": ""
            },
            "colorscale": [
             [
              0,
              "#0d0887"
             ],
             [
              0.1111111111111111,
              "#46039f"
             ],
             [
              0.2222222222222222,
              "#7201a8"
             ],
             [
              0.3333333333333333,
              "#9c179e"
             ],
             [
              0.4444444444444444,
              "#bd3786"
             ],
             [
              0.5555555555555556,
              "#d8576b"
             ],
             [
              0.6666666666666666,
              "#ed7953"
             ],
             [
              0.7777777777777778,
              "#fb9f3a"
             ],
             [
              0.8888888888888888,
              "#fdca26"
             ],
             [
              1,
              "#f0f921"
             ]
            ],
            "type": "surface"
           }
          ],
          "table": [
           {
            "cells": {
             "fill": {
              "color": "#EBF0F8"
             },
             "line": {
              "color": "white"
             }
            },
            "header": {
             "fill": {
              "color": "#C8D4E3"
             },
             "line": {
              "color": "white"
             }
            },
            "type": "table"
           }
          ]
         },
         "layout": {
          "annotationdefaults": {
           "arrowcolor": "#2a3f5f",
           "arrowhead": 0,
           "arrowwidth": 1
          },
          "colorscale": {
           "diverging": [
            [
             0,
             "#8e0152"
            ],
            [
             0.1,
             "#c51b7d"
            ],
            [
             0.2,
             "#de77ae"
            ],
            [
             0.3,
             "#f1b6da"
            ],
            [
             0.4,
             "#fde0ef"
            ],
            [
             0.5,
             "#f7f7f7"
            ],
            [
             0.6,
             "#e6f5d0"
            ],
            [
             0.7,
             "#b8e186"
            ],
            [
             0.8,
             "#7fbc41"
            ],
            [
             0.9,
             "#4d9221"
            ],
            [
             1,
             "#276419"
            ]
           ],
           "sequential": [
            [
             0,
             "#0d0887"
            ],
            [
             0.1111111111111111,
             "#46039f"
            ],
            [
             0.2222222222222222,
             "#7201a8"
            ],
            [
             0.3333333333333333,
             "#9c179e"
            ],
            [
             0.4444444444444444,
             "#bd3786"
            ],
            [
             0.5555555555555556,
             "#d8576b"
            ],
            [
             0.6666666666666666,
             "#ed7953"
            ],
            [
             0.7777777777777778,
             "#fb9f3a"
            ],
            [
             0.8888888888888888,
             "#fdca26"
            ],
            [
             1,
             "#f0f921"
            ]
           ],
           "sequentialminus": [
            [
             0,
             "#0d0887"
            ],
            [
             0.1111111111111111,
             "#46039f"
            ],
            [
             0.2222222222222222,
             "#7201a8"
            ],
            [
             0.3333333333333333,
             "#9c179e"
            ],
            [
             0.4444444444444444,
             "#bd3786"
            ],
            [
             0.5555555555555556,
             "#d8576b"
            ],
            [
             0.6666666666666666,
             "#ed7953"
            ],
            [
             0.7777777777777778,
             "#fb9f3a"
            ],
            [
             0.8888888888888888,
             "#fdca26"
            ],
            [
             1,
             "#f0f921"
            ]
           ]
          },
          "colorway": [
           "#636efa",
           "#EF553B",
           "#00cc96",
           "#ab63fa",
           "#FFA15A",
           "#19d3f3",
           "#FF6692",
           "#B6E880",
           "#FF97FF",
           "#FECB52"
          ],
          "font": {
           "color": "#2a3f5f"
          },
          "geo": {
           "bgcolor": "white",
           "lakecolor": "white",
           "landcolor": "#E5ECF6",
           "showlakes": true,
           "showland": true,
           "subunitcolor": "white"
          },
          "hoverlabel": {
           "align": "left"
          },
          "hovermode": "closest",
          "mapbox": {
           "style": "light"
          },
          "paper_bgcolor": "white",
          "plot_bgcolor": "#E5ECF6",
          "polar": {
           "angularaxis": {
            "gridcolor": "white",
            "linecolor": "white",
            "ticks": ""
           },
           "bgcolor": "#E5ECF6",
           "radialaxis": {
            "gridcolor": "white",
            "linecolor": "white",
            "ticks": ""
           }
          },
          "scene": {
           "xaxis": {
            "backgroundcolor": "#E5ECF6",
            "gridcolor": "white",
            "gridwidth": 2,
            "linecolor": "white",
            "showbackground": true,
            "ticks": "",
            "zerolinecolor": "white"
           },
           "yaxis": {
            "backgroundcolor": "#E5ECF6",
            "gridcolor": "white",
            "gridwidth": 2,
            "linecolor": "white",
            "showbackground": true,
            "ticks": "",
            "zerolinecolor": "white"
           },
           "zaxis": {
            "backgroundcolor": "#E5ECF6",
            "gridcolor": "white",
            "gridwidth": 2,
            "linecolor": "white",
            "showbackground": true,
            "ticks": "",
            "zerolinecolor": "white"
           }
          },
          "shapedefaults": {
           "line": {
            "color": "#2a3f5f"
           }
          },
          "ternary": {
           "aaxis": {
            "gridcolor": "white",
            "linecolor": "white",
            "ticks": ""
           },
           "baxis": {
            "gridcolor": "white",
            "linecolor": "white",
            "ticks": ""
           },
           "bgcolor": "#E5ECF6",
           "caxis": {
            "gridcolor": "white",
            "linecolor": "white",
            "ticks": ""
           }
          },
          "title": {
           "x": 0.05
          },
          "xaxis": {
           "automargin": true,
           "gridcolor": "white",
           "linecolor": "white",
           "ticks": "",
           "zerolinecolor": "white",
           "zerolinewidth": 2
          },
          "yaxis": {
           "automargin": true,
           "gridcolor": "white",
           "linecolor": "white",
           "ticks": "",
           "zerolinecolor": "white",
           "zerolinewidth": 2
          }
         }
        },
        "title": {
         "text": "newmse:tuwen:total_recommend:(dur1)"
        },
        "xaxis": {
         "type": "date"
        },
        "yaxis": {
         "title": {
          "text": "dur1"
         }
        }
       }
      },
      "text/html": [
       "<div>\n",
       "        \n",
       "        \n",
       "            <div id=\"b608937a-541f-4c8f-9da4-d19f2a65ffaf\" class=\"plotly-graph-div\" style=\"height:525px; width:100%;\"></div>\n",
       "            <script type=\"text/javascript\">\n",
       "                require([\"plotly\"], function(Plotly) {\n",
       "                    window.PLOTLYENV=window.PLOTLYENV || {};\n",
       "                    \n",
       "                if (document.getElementById(\"b608937a-541f-4c8f-9da4-d19f2a65ffaf\")) {\n",
       "                    Plotly.newPlot(\n",
       "                        'b608937a-541f-4c8f-9da4-d19f2a65ffaf',\n",
       "                        [{\"hovertext\": [\"0.0068\", \"0.0162\", \"-0.0110\", \"-0.0093\", \"-0.0087\", \"0.0075\", \"0.0960\", \"0.2888\", \"0.0541\", \"-0.2681\", \"-0.2746\", \"-0.2658\", \"-0.2505\", \"-0.2484\"], \"line\": {\"shape\": \"spline\", \"smoothing\": 1.0}, \"mode\": \"lines+markers\", \"name\": \"7\", \"showlegend\": true, \"type\": \"scatter\", \"x\": [\"2019-12-31T00:00:00\", \"2020-01-01T00:00:00\", \"2020-01-02T00:00:00\", \"2020-01-03T00:00:00\", \"2020-01-04T00:00:00\", \"2020-01-05T00:00:00\", \"2020-01-06T00:00:00\", \"2020-01-07T00:00:00\", \"2020-01-08T00:00:00\", \"2020-01-09T00:00:00\", \"2020-01-10T00:00:00\", \"2020-01-11T00:00:00\", \"2020-01-12T00:00:00\", \"2020-01-13T00:00:00\"], \"y\": [2.293308807510593, 2.658556040154761, 2.5042660749943613, 2.8440290537102584, 3.389544168147024, 3.5533401766478536, 3.053955186496149, 3.7374242955724504, 3.3333957551961673, 2.723270423194899, 2.598426736706826, 2.753430297363064, 2.7363264036197017, 2.479468464940889]}, {\"line\": {\"shape\": \"spline\", \"smoothing\": 1.0}, \"mode\": \"lines+markers\", \"name\": \"456\", \"showlegend\": true, \"type\": \"scatter\", \"x\": [\"2019-12-31T00:00:00\", \"2020-01-01T00:00:00\", \"2020-01-02T00:00:00\", \"2020-01-03T00:00:00\", \"2020-01-04T00:00:00\", \"2020-01-05T00:00:00\", \"2020-01-06T00:00:00\", \"2020-01-07T00:00:00\", \"2020-01-08T00:00:00\", \"2020-01-09T00:00:00\", \"2020-01-10T00:00:00\", \"2020-01-11T00:00:00\", \"2020-01-12T00:00:00\", \"2020-01-13T00:00:00\"], \"y\": [2.2778284167556944, 2.61618939166463, 2.532116714651647, 2.8707046896437, 3.4192264477534806, 3.5269786606957028, 2.7863476231948305, 2.8998940370993793, 3.162255785382419, 3.720945692383229, 3.58219777056415, 3.750015986025977, 3.650685579891268, 3.298900557091048]}],\n",
       "                        {\"hovermode\": \"x\", \"template\": {\"data\": {\"bar\": [{\"error_x\": {\"color\": \"#2a3f5f\"}, \"error_y\": {\"color\": \"#2a3f5f\"}, \"marker\": {\"line\": {\"color\": \"#E5ECF6\", \"width\": 0.5}}, \"type\": \"bar\"}], \"barpolar\": [{\"marker\": {\"line\": {\"color\": \"#E5ECF6\", \"width\": 0.5}}, \"type\": \"barpolar\"}], \"carpet\": [{\"aaxis\": {\"endlinecolor\": \"#2a3f5f\", \"gridcolor\": \"white\", \"linecolor\": \"white\", \"minorgridcolor\": \"white\", \"startlinecolor\": \"#2a3f5f\"}, \"baxis\": {\"endlinecolor\": \"#2a3f5f\", \"gridcolor\": \"white\", \"linecolor\": \"white\", \"minorgridcolor\": \"white\", \"startlinecolor\": \"#2a3f5f\"}, \"type\": \"carpet\"}], \"choropleth\": [{\"colorbar\": {\"outlinewidth\": 0, \"ticks\": \"\"}, \"type\": \"choropleth\"}], \"contour\": [{\"colorbar\": {\"outlinewidth\": 0, \"ticks\": \"\"}, \"colorscale\": [[0.0, \"#0d0887\"], [0.1111111111111111, \"#46039f\"], [0.2222222222222222, \"#7201a8\"], [0.3333333333333333, \"#9c179e\"], [0.4444444444444444, \"#bd3786\"], [0.5555555555555556, \"#d8576b\"], [0.6666666666666666, \"#ed7953\"], [0.7777777777777778, \"#fb9f3a\"], [0.8888888888888888, \"#fdca26\"], [1.0, \"#f0f921\"]], \"type\": \"contour\"}], \"contourcarpet\": [{\"colorbar\": {\"outlinewidth\": 0, \"ticks\": \"\"}, \"type\": \"contourcarpet\"}], \"heatmap\": [{\"colorbar\": {\"outlinewidth\": 0, \"ticks\": \"\"}, \"colorscale\": [[0.0, \"#0d0887\"], [0.1111111111111111, \"#46039f\"], [0.2222222222222222, \"#7201a8\"], [0.3333333333333333, \"#9c179e\"], [0.4444444444444444, \"#bd3786\"], [0.5555555555555556, \"#d8576b\"], [0.6666666666666666, \"#ed7953\"], [0.7777777777777778, \"#fb9f3a\"], [0.8888888888888888, \"#fdca26\"], [1.0, \"#f0f921\"]], \"type\": \"heatmap\"}], \"heatmapgl\": [{\"colorbar\": {\"outlinewidth\": 0, \"ticks\": \"\"}, \"colorscale\": [[0.0, \"#0d0887\"], [0.1111111111111111, \"#46039f\"], [0.2222222222222222, \"#7201a8\"], [0.3333333333333333, \"#9c179e\"], [0.4444444444444444, \"#bd3786\"], [0.5555555555555556, \"#d8576b\"], [0.6666666666666666, \"#ed7953\"], [0.7777777777777778, \"#fb9f3a\"], [0.8888888888888888, \"#fdca26\"], [1.0, \"#f0f921\"]], \"type\": \"heatmapgl\"}], \"histogram\": [{\"marker\": {\"colorbar\": {\"outlinewidth\": 0, \"ticks\": \"\"}}, \"type\": \"histogram\"}], \"histogram2d\": [{\"colorbar\": {\"outlinewidth\": 0, \"ticks\": \"\"}, \"colorscale\": [[0.0, \"#0d0887\"], [0.1111111111111111, \"#46039f\"], [0.2222222222222222, \"#7201a8\"], [0.3333333333333333, \"#9c179e\"], [0.4444444444444444, \"#bd3786\"], [0.5555555555555556, \"#d8576b\"], [0.6666666666666666, \"#ed7953\"], [0.7777777777777778, \"#fb9f3a\"], [0.8888888888888888, \"#fdca26\"], [1.0, \"#f0f921\"]], \"type\": \"histogram2d\"}], \"histogram2dcontour\": [{\"colorbar\": {\"outlinewidth\": 0, \"ticks\": \"\"}, \"colorscale\": [[0.0, \"#0d0887\"], [0.1111111111111111, \"#46039f\"], [0.2222222222222222, \"#7201a8\"], [0.3333333333333333, \"#9c179e\"], [0.4444444444444444, \"#bd3786\"], [0.5555555555555556, \"#d8576b\"], [0.6666666666666666, \"#ed7953\"], [0.7777777777777778, \"#fb9f3a\"], [0.8888888888888888, \"#fdca26\"], [1.0, \"#f0f921\"]], \"type\": \"histogram2dcontour\"}], \"mesh3d\": [{\"colorbar\": {\"outlinewidth\": 0, \"ticks\": \"\"}, \"type\": \"mesh3d\"}], \"parcoords\": [{\"line\": {\"colorbar\": {\"outlinewidth\": 0, \"ticks\": \"\"}}, \"type\": \"parcoords\"}], \"scatter\": [{\"marker\": {\"colorbar\": {\"outlinewidth\": 0, \"ticks\": \"\"}}, \"type\": \"scatter\"}], \"scatter3d\": [{\"line\": {\"colorbar\": {\"outlinewidth\": 0, \"ticks\": \"\"}}, \"marker\": {\"colorbar\": {\"outlinewidth\": 0, \"ticks\": \"\"}}, \"type\": \"scatter3d\"}], \"scattercarpet\": [{\"marker\": {\"colorbar\": {\"outlinewidth\": 0, \"ticks\": \"\"}}, \"type\": \"scattercarpet\"}], \"scattergeo\": [{\"marker\": {\"colorbar\": {\"outlinewidth\": 0, \"ticks\": \"\"}}, \"type\": \"scattergeo\"}], \"scattergl\": [{\"marker\": {\"colorbar\": {\"outlinewidth\": 0, \"ticks\": \"\"}}, \"type\": \"scattergl\"}], \"scattermapbox\": [{\"marker\": {\"colorbar\": {\"outlinewidth\": 0, \"ticks\": \"\"}}, \"type\": \"scattermapbox\"}], \"scatterpolar\": [{\"marker\": {\"colorbar\": {\"outlinewidth\": 0, \"ticks\": \"\"}}, \"type\": \"scatterpolar\"}], \"scatterpolargl\": [{\"marker\": {\"colorbar\": {\"outlinewidth\": 0, \"ticks\": \"\"}}, \"type\": \"scatterpolargl\"}], \"scatterternary\": [{\"marker\": {\"colorbar\": {\"outlinewidth\": 0, \"ticks\": \"\"}}, \"type\": \"scatterternary\"}], \"surface\": [{\"colorbar\": {\"outlinewidth\": 0, \"ticks\": \"\"}, \"colorscale\": [[0.0, \"#0d0887\"], [0.1111111111111111, \"#46039f\"], [0.2222222222222222, \"#7201a8\"], [0.3333333333333333, \"#9c179e\"], [0.4444444444444444, \"#bd3786\"], [0.5555555555555556, \"#d8576b\"], [0.6666666666666666, \"#ed7953\"], [0.7777777777777778, \"#fb9f3a\"], [0.8888888888888888, \"#fdca26\"], [1.0, \"#f0f921\"]], \"type\": \"surface\"}], \"table\": [{\"cells\": {\"fill\": {\"color\": \"#EBF0F8\"}, \"line\": {\"color\": \"white\"}}, \"header\": {\"fill\": {\"color\": \"#C8D4E3\"}, \"line\": {\"color\": \"white\"}}, \"type\": \"table\"}]}, \"layout\": {\"annotationdefaults\": {\"arrowcolor\": \"#2a3f5f\", \"arrowhead\": 0, \"arrowwidth\": 1}, \"colorscale\": {\"diverging\": [[0, \"#8e0152\"], [0.1, \"#c51b7d\"], [0.2, \"#de77ae\"], [0.3, \"#f1b6da\"], [0.4, \"#fde0ef\"], [0.5, \"#f7f7f7\"], [0.6, \"#e6f5d0\"], [0.7, \"#b8e186\"], [0.8, \"#7fbc41\"], [0.9, \"#4d9221\"], [1, \"#276419\"]], \"sequential\": [[0.0, \"#0d0887\"], [0.1111111111111111, \"#46039f\"], [0.2222222222222222, \"#7201a8\"], [0.3333333333333333, \"#9c179e\"], [0.4444444444444444, \"#bd3786\"], [0.5555555555555556, \"#d8576b\"], [0.6666666666666666, \"#ed7953\"], [0.7777777777777778, \"#fb9f3a\"], [0.8888888888888888, \"#fdca26\"], [1.0, \"#f0f921\"]], \"sequentialminus\": [[0.0, \"#0d0887\"], [0.1111111111111111, \"#46039f\"], [0.2222222222222222, \"#7201a8\"], [0.3333333333333333, \"#9c179e\"], [0.4444444444444444, \"#bd3786\"], [0.5555555555555556, \"#d8576b\"], [0.6666666666666666, \"#ed7953\"], [0.7777777777777778, \"#fb9f3a\"], [0.8888888888888888, \"#fdca26\"], [1.0, \"#f0f921\"]]}, \"colorway\": [\"#636efa\", \"#EF553B\", \"#00cc96\", \"#ab63fa\", \"#FFA15A\", \"#19d3f3\", \"#FF6692\", \"#B6E880\", \"#FF97FF\", \"#FECB52\"], \"font\": {\"color\": \"#2a3f5f\"}, \"geo\": {\"bgcolor\": \"white\", \"lakecolor\": \"white\", \"landcolor\": \"#E5ECF6\", \"showlakes\": true, \"showland\": true, \"subunitcolor\": \"white\"}, \"hoverlabel\": {\"align\": \"left\"}, \"hovermode\": \"closest\", \"mapbox\": {\"style\": \"light\"}, \"paper_bgcolor\": \"white\", \"plot_bgcolor\": \"#E5ECF6\", \"polar\": {\"angularaxis\": {\"gridcolor\": \"white\", \"linecolor\": \"white\", \"ticks\": \"\"}, \"bgcolor\": \"#E5ECF6\", \"radialaxis\": {\"gridcolor\": \"white\", \"linecolor\": \"white\", \"ticks\": \"\"}}, \"scene\": {\"xaxis\": {\"backgroundcolor\": \"#E5ECF6\", \"gridcolor\": \"white\", \"gridwidth\": 2, \"linecolor\": \"white\", \"showbackground\": true, \"ticks\": \"\", \"zerolinecolor\": \"white\"}, \"yaxis\": {\"backgroundcolor\": \"#E5ECF6\", \"gridcolor\": \"white\", \"gridwidth\": 2, \"linecolor\": \"white\", \"showbackground\": true, \"ticks\": \"\", \"zerolinecolor\": \"white\"}, \"zaxis\": {\"backgroundcolor\": \"#E5ECF6\", \"gridcolor\": \"white\", \"gridwidth\": 2, \"linecolor\": \"white\", \"showbackground\": true, \"ticks\": \"\", \"zerolinecolor\": \"white\"}}, \"shapedefaults\": {\"line\": {\"color\": \"#2a3f5f\"}}, \"ternary\": {\"aaxis\": {\"gridcolor\": \"white\", \"linecolor\": \"white\", \"ticks\": \"\"}, \"baxis\": {\"gridcolor\": \"white\", \"linecolor\": \"white\", \"ticks\": \"\"}, \"bgcolor\": \"#E5ECF6\", \"caxis\": {\"gridcolor\": \"white\", \"linecolor\": \"white\", \"ticks\": \"\"}}, \"title\": {\"x\": 0.05}, \"xaxis\": {\"automargin\": true, \"gridcolor\": \"white\", \"linecolor\": \"white\", \"ticks\": \"\", \"zerolinecolor\": \"white\", \"zerolinewidth\": 2}, \"yaxis\": {\"automargin\": true, \"gridcolor\": \"white\", \"linecolor\": \"white\", \"ticks\": \"\", \"zerolinecolor\": \"white\", \"zerolinewidth\": 2}}}, \"title\": {\"text\": \"newmse:tuwen:total_recommend:(dur1)\"}, \"xaxis\": {\"type\": \"date\"}, \"yaxis\": {\"title\": {\"text\": \"dur1\"}}},\n",
       "                        {\"responsive\": true}\n",
       "                    ).then(function(){\n",
       "                            \n",
       "var gd = document.getElementById('b608937a-541f-4c8f-9da4-d19f2a65ffaf');\n",
       "var x = new MutationObserver(function (mutations, observer) {{\n",
       "        var display = window.getComputedStyle(gd).display;\n",
       "        if (!display || display === 'none') {{\n",
       "            console.log([gd, 'removed!']);\n",
       "            Plotly.purge(gd);\n",
       "            observer.disconnect();\n",
       "        }}\n",
       "}});\n",
       "\n",
       "// Listen for the removal of the full notebook cells\n",
       "var notebookContainer = gd.closest('#notebook-container');\n",
       "if (notebookContainer) {{\n",
       "    x.observe(notebookContainer, {childList: true});\n",
       "}}\n",
       "\n",
       "// Listen for the clearing of the current output cell\n",
       "var outputEl = gd.closest('.output');\n",
       "if (outputEl) {{\n",
       "    x.observe(outputEl, {childList: true});\n",
       "}}\n",
       "\n",
       "                        })\n",
       "                };\n",
       "                });\n",
       "            </script>\n",
       "        </div>"
      ]
     },
     "metadata": {},
     "output_type": "display_data"
    },
    {
     "data": {
      "application/vnd.plotly.v1+json": {
       "config": {
        "linkText": "Export to plot.ly",
        "plotlyServerURL": "https://plot.ly",
        "showLink": false
       },
       "data": [
        {
         "hovertext": [
          "-0.0020",
          "0.0162",
          "-0.0043",
          "-0.0109",
          "-0.0043",
          "0.0051",
          "0.1021",
          "0.2915",
          "0.0422",
          "-0.2746",
          "-0.2754",
          "-0.2538",
          "-0.2408",
          "-0.2368"
         ],
         "line": {
          "shape": "spline",
          "smoothing": 1
         },
         "mode": "lines+markers",
         "name": "7",
         "showlegend": true,
         "type": "scatter",
         "x": [
          "2019-12-31T00:00:00",
          "2020-01-01T00:00:00",
          "2020-01-02T00:00:00",
          "2020-01-03T00:00:00",
          "2020-01-04T00:00:00",
          "2020-01-05T00:00:00",
          "2020-01-06T00:00:00",
          "2020-01-07T00:00:00",
          "2020-01-08T00:00:00",
          "2020-01-09T00:00:00",
          "2020-01-10T00:00:00",
          "2020-01-11T00:00:00",
          "2020-01-12T00:00:00",
          "2020-01-13T00:00:00"
         ],
         "y": [
          9.824928642866654,
          10.680665945818912,
          9.862692472146174,
          10.816523000381505,
          12.99584413973871,
          13.171615857955592,
          11.57670276436292,
          14.359886849497771,
          12.406827026130012,
          10.594636159013497,
          10.209143380380295,
          10.836427002235945,
          10.795314907391484,
          10.063539619009195
         ]
        },
        {
         "line": {
          "shape": "spline",
          "smoothing": 1
         },
         "mode": "lines+markers",
         "name": "456",
         "showlegend": true,
         "type": "scatter",
         "x": [
          "2019-12-31T00:00:00",
          "2020-01-01T00:00:00",
          "2020-01-02T00:00:00",
          "2020-01-03T00:00:00",
          "2020-01-04T00:00:00",
          "2020-01-05T00:00:00",
          "2020-01-06T00:00:00",
          "2020-01-07T00:00:00",
          "2020-01-08T00:00:00",
          "2020-01-09T00:00:00",
          "2020-01-10T00:00:00",
          "2020-01-11T00:00:00",
          "2020-01-12T00:00:00",
          "2020-01-13T00:00:00"
         ],
         "y": [
          9.844695026433515,
          10.51040348730538,
          9.905293776452053,
          10.935234345096463,
          13.051807031134901,
          13.10483639248524,
          10.504640089349586,
          11.118612253144525,
          11.904242192428404,
          14.606214319916157,
          14.088548130380685,
          14.52218850836813,
          14.218718585964952,
          13.186709998585366
         ]
        }
       ],
       "layout": {
        "hovermode": "x",
        "template": {
         "data": {
          "bar": [
           {
            "error_x": {
             "color": "#2a3f5f"
            },
            "error_y": {
             "color": "#2a3f5f"
            },
            "marker": {
             "line": {
              "color": "#E5ECF6",
              "width": 0.5
             }
            },
            "type": "bar"
           }
          ],
          "barpolar": [
           {
            "marker": {
             "line": {
              "color": "#E5ECF6",
              "width": 0.5
             }
            },
            "type": "barpolar"
           }
          ],
          "carpet": [
           {
            "aaxis": {
             "endlinecolor": "#2a3f5f",
             "gridcolor": "white",
             "linecolor": "white",
             "minorgridcolor": "white",
             "startlinecolor": "#2a3f5f"
            },
            "baxis": {
             "endlinecolor": "#2a3f5f",
             "gridcolor": "white",
             "linecolor": "white",
             "minorgridcolor": "white",
             "startlinecolor": "#2a3f5f"
            },
            "type": "carpet"
           }
          ],
          "choropleth": [
           {
            "colorbar": {
             "outlinewidth": 0,
             "ticks": ""
            },
            "type": "choropleth"
           }
          ],
          "contour": [
           {
            "colorbar": {
             "outlinewidth": 0,
             "ticks": ""
            },
            "colorscale": [
             [
              0,
              "#0d0887"
             ],
             [
              0.1111111111111111,
              "#46039f"
             ],
             [
              0.2222222222222222,
              "#7201a8"
             ],
             [
              0.3333333333333333,
              "#9c179e"
             ],
             [
              0.4444444444444444,
              "#bd3786"
             ],
             [
              0.5555555555555556,
              "#d8576b"
             ],
             [
              0.6666666666666666,
              "#ed7953"
             ],
             [
              0.7777777777777778,
              "#fb9f3a"
             ],
             [
              0.8888888888888888,
              "#fdca26"
             ],
             [
              1,
              "#f0f921"
             ]
            ],
            "type": "contour"
           }
          ],
          "contourcarpet": [
           {
            "colorbar": {
             "outlinewidth": 0,
             "ticks": ""
            },
            "type": "contourcarpet"
           }
          ],
          "heatmap": [
           {
            "colorbar": {
             "outlinewidth": 0,
             "ticks": ""
            },
            "colorscale": [
             [
              0,
              "#0d0887"
             ],
             [
              0.1111111111111111,
              "#46039f"
             ],
             [
              0.2222222222222222,
              "#7201a8"
             ],
             [
              0.3333333333333333,
              "#9c179e"
             ],
             [
              0.4444444444444444,
              "#bd3786"
             ],
             [
              0.5555555555555556,
              "#d8576b"
             ],
             [
              0.6666666666666666,
              "#ed7953"
             ],
             [
              0.7777777777777778,
              "#fb9f3a"
             ],
             [
              0.8888888888888888,
              "#fdca26"
             ],
             [
              1,
              "#f0f921"
             ]
            ],
            "type": "heatmap"
           }
          ],
          "heatmapgl": [
           {
            "colorbar": {
             "outlinewidth": 0,
             "ticks": ""
            },
            "colorscale": [
             [
              0,
              "#0d0887"
             ],
             [
              0.1111111111111111,
              "#46039f"
             ],
             [
              0.2222222222222222,
              "#7201a8"
             ],
             [
              0.3333333333333333,
              "#9c179e"
             ],
             [
              0.4444444444444444,
              "#bd3786"
             ],
             [
              0.5555555555555556,
              "#d8576b"
             ],
             [
              0.6666666666666666,
              "#ed7953"
             ],
             [
              0.7777777777777778,
              "#fb9f3a"
             ],
             [
              0.8888888888888888,
              "#fdca26"
             ],
             [
              1,
              "#f0f921"
             ]
            ],
            "type": "heatmapgl"
           }
          ],
          "histogram": [
           {
            "marker": {
             "colorbar": {
              "outlinewidth": 0,
              "ticks": ""
             }
            },
            "type": "histogram"
           }
          ],
          "histogram2d": [
           {
            "colorbar": {
             "outlinewidth": 0,
             "ticks": ""
            },
            "colorscale": [
             [
              0,
              "#0d0887"
             ],
             [
              0.1111111111111111,
              "#46039f"
             ],
             [
              0.2222222222222222,
              "#7201a8"
             ],
             [
              0.3333333333333333,
              "#9c179e"
             ],
             [
              0.4444444444444444,
              "#bd3786"
             ],
             [
              0.5555555555555556,
              "#d8576b"
             ],
             [
              0.6666666666666666,
              "#ed7953"
             ],
             [
              0.7777777777777778,
              "#fb9f3a"
             ],
             [
              0.8888888888888888,
              "#fdca26"
             ],
             [
              1,
              "#f0f921"
             ]
            ],
            "type": "histogram2d"
           }
          ],
          "histogram2dcontour": [
           {
            "colorbar": {
             "outlinewidth": 0,
             "ticks": ""
            },
            "colorscale": [
             [
              0,
              "#0d0887"
             ],
             [
              0.1111111111111111,
              "#46039f"
             ],
             [
              0.2222222222222222,
              "#7201a8"
             ],
             [
              0.3333333333333333,
              "#9c179e"
             ],
             [
              0.4444444444444444,
              "#bd3786"
             ],
             [
              0.5555555555555556,
              "#d8576b"
             ],
             [
              0.6666666666666666,
              "#ed7953"
             ],
             [
              0.7777777777777778,
              "#fb9f3a"
             ],
             [
              0.8888888888888888,
              "#fdca26"
             ],
             [
              1,
              "#f0f921"
             ]
            ],
            "type": "histogram2dcontour"
           }
          ],
          "mesh3d": [
           {
            "colorbar": {
             "outlinewidth": 0,
             "ticks": ""
            },
            "type": "mesh3d"
           }
          ],
          "parcoords": [
           {
            "line": {
             "colorbar": {
              "outlinewidth": 0,
              "ticks": ""
             }
            },
            "type": "parcoords"
           }
          ],
          "scatter": [
           {
            "marker": {
             "colorbar": {
              "outlinewidth": 0,
              "ticks": ""
             }
            },
            "type": "scatter"
           }
          ],
          "scatter3d": [
           {
            "line": {
             "colorbar": {
              "outlinewidth": 0,
              "ticks": ""
             }
            },
            "marker": {
             "colorbar": {
              "outlinewidth": 0,
              "ticks": ""
             }
            },
            "type": "scatter3d"
           }
          ],
          "scattercarpet": [
           {
            "marker": {
             "colorbar": {
              "outlinewidth": 0,
              "ticks": ""
             }
            },
            "type": "scattercarpet"
           }
          ],
          "scattergeo": [
           {
            "marker": {
             "colorbar": {
              "outlinewidth": 0,
              "ticks": ""
             }
            },
            "type": "scattergeo"
           }
          ],
          "scattergl": [
           {
            "marker": {
             "colorbar": {
              "outlinewidth": 0,
              "ticks": ""
             }
            },
            "type": "scattergl"
           }
          ],
          "scattermapbox": [
           {
            "marker": {
             "colorbar": {
              "outlinewidth": 0,
              "ticks": ""
             }
            },
            "type": "scattermapbox"
           }
          ],
          "scatterpolar": [
           {
            "marker": {
             "colorbar": {
              "outlinewidth": 0,
              "ticks": ""
             }
            },
            "type": "scatterpolar"
           }
          ],
          "scatterpolargl": [
           {
            "marker": {
             "colorbar": {
              "outlinewidth": 0,
              "ticks": ""
             }
            },
            "type": "scatterpolargl"
           }
          ],
          "scatterternary": [
           {
            "marker": {
             "colorbar": {
              "outlinewidth": 0,
              "ticks": ""
             }
            },
            "type": "scatterternary"
           }
          ],
          "surface": [
           {
            "colorbar": {
             "outlinewidth": 0,
             "ticks": ""
            },
            "colorscale": [
             [
              0,
              "#0d0887"
             ],
             [
              0.1111111111111111,
              "#46039f"
             ],
             [
              0.2222222222222222,
              "#7201a8"
             ],
             [
              0.3333333333333333,
              "#9c179e"
             ],
             [
              0.4444444444444444,
              "#bd3786"
             ],
             [
              0.5555555555555556,
              "#d8576b"
             ],
             [
              0.6666666666666666,
              "#ed7953"
             ],
             [
              0.7777777777777778,
              "#fb9f3a"
             ],
             [
              0.8888888888888888,
              "#fdca26"
             ],
             [
              1,
              "#f0f921"
             ]
            ],
            "type": "surface"
           }
          ],
          "table": [
           {
            "cells": {
             "fill": {
              "color": "#EBF0F8"
             },
             "line": {
              "color": "white"
             }
            },
            "header": {
             "fill": {
              "color": "#C8D4E3"
             },
             "line": {
              "color": "white"
             }
            },
            "type": "table"
           }
          ]
         },
         "layout": {
          "annotationdefaults": {
           "arrowcolor": "#2a3f5f",
           "arrowhead": 0,
           "arrowwidth": 1
          },
          "colorscale": {
           "diverging": [
            [
             0,
             "#8e0152"
            ],
            [
             0.1,
             "#c51b7d"
            ],
            [
             0.2,
             "#de77ae"
            ],
            [
             0.3,
             "#f1b6da"
            ],
            [
             0.4,
             "#fde0ef"
            ],
            [
             0.5,
             "#f7f7f7"
            ],
            [
             0.6,
             "#e6f5d0"
            ],
            [
             0.7,
             "#b8e186"
            ],
            [
             0.8,
             "#7fbc41"
            ],
            [
             0.9,
             "#4d9221"
            ],
            [
             1,
             "#276419"
            ]
           ],
           "sequential": [
            [
             0,
             "#0d0887"
            ],
            [
             0.1111111111111111,
             "#46039f"
            ],
            [
             0.2222222222222222,
             "#7201a8"
            ],
            [
             0.3333333333333333,
             "#9c179e"
            ],
            [
             0.4444444444444444,
             "#bd3786"
            ],
            [
             0.5555555555555556,
             "#d8576b"
            ],
            [
             0.6666666666666666,
             "#ed7953"
            ],
            [
             0.7777777777777778,
             "#fb9f3a"
            ],
            [
             0.8888888888888888,
             "#fdca26"
            ],
            [
             1,
             "#f0f921"
            ]
           ],
           "sequentialminus": [
            [
             0,
             "#0d0887"
            ],
            [
             0.1111111111111111,
             "#46039f"
            ],
            [
             0.2222222222222222,
             "#7201a8"
            ],
            [
             0.3333333333333333,
             "#9c179e"
            ],
            [
             0.4444444444444444,
             "#bd3786"
            ],
            [
             0.5555555555555556,
             "#d8576b"
            ],
            [
             0.6666666666666666,
             "#ed7953"
            ],
            [
             0.7777777777777778,
             "#fb9f3a"
            ],
            [
             0.8888888888888888,
             "#fdca26"
            ],
            [
             1,
             "#f0f921"
            ]
           ]
          },
          "colorway": [
           "#636efa",
           "#EF553B",
           "#00cc96",
           "#ab63fa",
           "#FFA15A",
           "#19d3f3",
           "#FF6692",
           "#B6E880",
           "#FF97FF",
           "#FECB52"
          ],
          "font": {
           "color": "#2a3f5f"
          },
          "geo": {
           "bgcolor": "white",
           "lakecolor": "white",
           "landcolor": "#E5ECF6",
           "showlakes": true,
           "showland": true,
           "subunitcolor": "white"
          },
          "hoverlabel": {
           "align": "left"
          },
          "hovermode": "closest",
          "mapbox": {
           "style": "light"
          },
          "paper_bgcolor": "white",
          "plot_bgcolor": "#E5ECF6",
          "polar": {
           "angularaxis": {
            "gridcolor": "white",
            "linecolor": "white",
            "ticks": ""
           },
           "bgcolor": "#E5ECF6",
           "radialaxis": {
            "gridcolor": "white",
            "linecolor": "white",
            "ticks": ""
           }
          },
          "scene": {
           "xaxis": {
            "backgroundcolor": "#E5ECF6",
            "gridcolor": "white",
            "gridwidth": 2,
            "linecolor": "white",
            "showbackground": true,
            "ticks": "",
            "zerolinecolor": "white"
           },
           "yaxis": {
            "backgroundcolor": "#E5ECF6",
            "gridcolor": "white",
            "gridwidth": 2,
            "linecolor": "white",
            "showbackground": true,
            "ticks": "",
            "zerolinecolor": "white"
           },
           "zaxis": {
            "backgroundcolor": "#E5ECF6",
            "gridcolor": "white",
            "gridwidth": 2,
            "linecolor": "white",
            "showbackground": true,
            "ticks": "",
            "zerolinecolor": "white"
           }
          },
          "shapedefaults": {
           "line": {
            "color": "#2a3f5f"
           }
          },
          "ternary": {
           "aaxis": {
            "gridcolor": "white",
            "linecolor": "white",
            "ticks": ""
           },
           "baxis": {
            "gridcolor": "white",
            "linecolor": "white",
            "ticks": ""
           },
           "bgcolor": "#E5ECF6",
           "caxis": {
            "gridcolor": "white",
            "linecolor": "white",
            "ticks": ""
           }
          },
          "title": {
           "x": 0.05
          },
          "xaxis": {
           "automargin": true,
           "gridcolor": "white",
           "linecolor": "white",
           "ticks": "",
           "zerolinecolor": "white",
           "zerolinewidth": 2
          },
          "yaxis": {
           "automargin": true,
           "gridcolor": "white",
           "linecolor": "white",
           "ticks": "",
           "zerolinecolor": "white",
           "zerolinewidth": 2
          }
         }
        },
        "title": {
         "text": "newmse:tuwen:total_recommend:(dur2)"
        },
        "xaxis": {
         "type": "date"
        },
        "yaxis": {
         "title": {
          "text": "dur2"
         }
        }
       }
      },
      "text/html": [
       "<div>\n",
       "        \n",
       "        \n",
       "            <div id=\"7faee730-7cd9-4679-addd-5c60e4c399e2\" class=\"plotly-graph-div\" style=\"height:525px; width:100%;\"></div>\n",
       "            <script type=\"text/javascript\">\n",
       "                require([\"plotly\"], function(Plotly) {\n",
       "                    window.PLOTLYENV=window.PLOTLYENV || {};\n",
       "                    \n",
       "                if (document.getElementById(\"7faee730-7cd9-4679-addd-5c60e4c399e2\")) {\n",
       "                    Plotly.newPlot(\n",
       "                        '7faee730-7cd9-4679-addd-5c60e4c399e2',\n",
       "                        [{\"hovertext\": [\"-0.0020\", \"0.0162\", \"-0.0043\", \"-0.0109\", \"-0.0043\", \"0.0051\", \"0.1021\", \"0.2915\", \"0.0422\", \"-0.2746\", \"-0.2754\", \"-0.2538\", \"-0.2408\", \"-0.2368\"], \"line\": {\"shape\": \"spline\", \"smoothing\": 1.0}, \"mode\": \"lines+markers\", \"name\": \"7\", \"showlegend\": true, \"type\": \"scatter\", \"x\": [\"2019-12-31T00:00:00\", \"2020-01-01T00:00:00\", \"2020-01-02T00:00:00\", \"2020-01-03T00:00:00\", \"2020-01-04T00:00:00\", \"2020-01-05T00:00:00\", \"2020-01-06T00:00:00\", \"2020-01-07T00:00:00\", \"2020-01-08T00:00:00\", \"2020-01-09T00:00:00\", \"2020-01-10T00:00:00\", \"2020-01-11T00:00:00\", \"2020-01-12T00:00:00\", \"2020-01-13T00:00:00\"], \"y\": [9.824928642866654, 10.680665945818912, 9.862692472146174, 10.816523000381505, 12.99584413973871, 13.171615857955592, 11.57670276436292, 14.359886849497771, 12.406827026130012, 10.594636159013497, 10.209143380380295, 10.836427002235945, 10.795314907391484, 10.063539619009195]}, {\"line\": {\"shape\": \"spline\", \"smoothing\": 1.0}, \"mode\": \"lines+markers\", \"name\": \"456\", \"showlegend\": true, \"type\": \"scatter\", \"x\": [\"2019-12-31T00:00:00\", \"2020-01-01T00:00:00\", \"2020-01-02T00:00:00\", \"2020-01-03T00:00:00\", \"2020-01-04T00:00:00\", \"2020-01-05T00:00:00\", \"2020-01-06T00:00:00\", \"2020-01-07T00:00:00\", \"2020-01-08T00:00:00\", \"2020-01-09T00:00:00\", \"2020-01-10T00:00:00\", \"2020-01-11T00:00:00\", \"2020-01-12T00:00:00\", \"2020-01-13T00:00:00\"], \"y\": [9.844695026433515, 10.51040348730538, 9.905293776452053, 10.935234345096463, 13.051807031134901, 13.10483639248524, 10.504640089349586, 11.118612253144525, 11.904242192428404, 14.606214319916157, 14.088548130380685, 14.52218850836813, 14.218718585964952, 13.186709998585366]}],\n",
       "                        {\"hovermode\": \"x\", \"template\": {\"data\": {\"bar\": [{\"error_x\": {\"color\": \"#2a3f5f\"}, \"error_y\": {\"color\": \"#2a3f5f\"}, \"marker\": {\"line\": {\"color\": \"#E5ECF6\", \"width\": 0.5}}, \"type\": \"bar\"}], \"barpolar\": [{\"marker\": {\"line\": {\"color\": \"#E5ECF6\", \"width\": 0.5}}, \"type\": \"barpolar\"}], \"carpet\": [{\"aaxis\": {\"endlinecolor\": \"#2a3f5f\", \"gridcolor\": \"white\", \"linecolor\": \"white\", \"minorgridcolor\": \"white\", \"startlinecolor\": \"#2a3f5f\"}, \"baxis\": {\"endlinecolor\": \"#2a3f5f\", \"gridcolor\": \"white\", \"linecolor\": \"white\", \"minorgridcolor\": \"white\", \"startlinecolor\": \"#2a3f5f\"}, \"type\": \"carpet\"}], \"choropleth\": [{\"colorbar\": {\"outlinewidth\": 0, \"ticks\": \"\"}, \"type\": \"choropleth\"}], \"contour\": [{\"colorbar\": {\"outlinewidth\": 0, \"ticks\": \"\"}, \"colorscale\": [[0.0, \"#0d0887\"], [0.1111111111111111, \"#46039f\"], [0.2222222222222222, \"#7201a8\"], [0.3333333333333333, \"#9c179e\"], [0.4444444444444444, \"#bd3786\"], [0.5555555555555556, \"#d8576b\"], [0.6666666666666666, \"#ed7953\"], [0.7777777777777778, \"#fb9f3a\"], [0.8888888888888888, \"#fdca26\"], [1.0, \"#f0f921\"]], \"type\": \"contour\"}], \"contourcarpet\": [{\"colorbar\": {\"outlinewidth\": 0, \"ticks\": \"\"}, \"type\": \"contourcarpet\"}], \"heatmap\": [{\"colorbar\": {\"outlinewidth\": 0, \"ticks\": \"\"}, \"colorscale\": [[0.0, \"#0d0887\"], [0.1111111111111111, \"#46039f\"], [0.2222222222222222, \"#7201a8\"], [0.3333333333333333, \"#9c179e\"], [0.4444444444444444, \"#bd3786\"], [0.5555555555555556, \"#d8576b\"], [0.6666666666666666, \"#ed7953\"], [0.7777777777777778, \"#fb9f3a\"], [0.8888888888888888, \"#fdca26\"], [1.0, \"#f0f921\"]], \"type\": \"heatmap\"}], \"heatmapgl\": [{\"colorbar\": {\"outlinewidth\": 0, \"ticks\": \"\"}, \"colorscale\": [[0.0, \"#0d0887\"], [0.1111111111111111, \"#46039f\"], [0.2222222222222222, \"#7201a8\"], [0.3333333333333333, \"#9c179e\"], [0.4444444444444444, \"#bd3786\"], [0.5555555555555556, \"#d8576b\"], [0.6666666666666666, \"#ed7953\"], [0.7777777777777778, \"#fb9f3a\"], [0.8888888888888888, \"#fdca26\"], [1.0, \"#f0f921\"]], \"type\": \"heatmapgl\"}], \"histogram\": [{\"marker\": {\"colorbar\": {\"outlinewidth\": 0, \"ticks\": \"\"}}, \"type\": \"histogram\"}], \"histogram2d\": [{\"colorbar\": {\"outlinewidth\": 0, \"ticks\": \"\"}, \"colorscale\": [[0.0, \"#0d0887\"], [0.1111111111111111, \"#46039f\"], [0.2222222222222222, \"#7201a8\"], [0.3333333333333333, \"#9c179e\"], [0.4444444444444444, \"#bd3786\"], [0.5555555555555556, \"#d8576b\"], [0.6666666666666666, \"#ed7953\"], [0.7777777777777778, \"#fb9f3a\"], [0.8888888888888888, \"#fdca26\"], [1.0, \"#f0f921\"]], \"type\": \"histogram2d\"}], \"histogram2dcontour\": [{\"colorbar\": {\"outlinewidth\": 0, \"ticks\": \"\"}, \"colorscale\": [[0.0, \"#0d0887\"], [0.1111111111111111, \"#46039f\"], [0.2222222222222222, \"#7201a8\"], [0.3333333333333333, \"#9c179e\"], [0.4444444444444444, \"#bd3786\"], [0.5555555555555556, \"#d8576b\"], [0.6666666666666666, \"#ed7953\"], [0.7777777777777778, \"#fb9f3a\"], [0.8888888888888888, \"#fdca26\"], [1.0, \"#f0f921\"]], \"type\": \"histogram2dcontour\"}], \"mesh3d\": [{\"colorbar\": {\"outlinewidth\": 0, \"ticks\": \"\"}, \"type\": \"mesh3d\"}], \"parcoords\": [{\"line\": {\"colorbar\": {\"outlinewidth\": 0, \"ticks\": \"\"}}, \"type\": \"parcoords\"}], \"scatter\": [{\"marker\": {\"colorbar\": {\"outlinewidth\": 0, \"ticks\": \"\"}}, \"type\": \"scatter\"}], \"scatter3d\": [{\"line\": {\"colorbar\": {\"outlinewidth\": 0, \"ticks\": \"\"}}, \"marker\": {\"colorbar\": {\"outlinewidth\": 0, \"ticks\": \"\"}}, \"type\": \"scatter3d\"}], \"scattercarpet\": [{\"marker\": {\"colorbar\": {\"outlinewidth\": 0, \"ticks\": \"\"}}, \"type\": \"scattercarpet\"}], \"scattergeo\": [{\"marker\": {\"colorbar\": {\"outlinewidth\": 0, \"ticks\": \"\"}}, \"type\": \"scattergeo\"}], \"scattergl\": [{\"marker\": {\"colorbar\": {\"outlinewidth\": 0, \"ticks\": \"\"}}, \"type\": \"scattergl\"}], \"scattermapbox\": [{\"marker\": {\"colorbar\": {\"outlinewidth\": 0, \"ticks\": \"\"}}, \"type\": \"scattermapbox\"}], \"scatterpolar\": [{\"marker\": {\"colorbar\": {\"outlinewidth\": 0, \"ticks\": \"\"}}, \"type\": \"scatterpolar\"}], \"scatterpolargl\": [{\"marker\": {\"colorbar\": {\"outlinewidth\": 0, \"ticks\": \"\"}}, \"type\": \"scatterpolargl\"}], \"scatterternary\": [{\"marker\": {\"colorbar\": {\"outlinewidth\": 0, \"ticks\": \"\"}}, \"type\": \"scatterternary\"}], \"surface\": [{\"colorbar\": {\"outlinewidth\": 0, \"ticks\": \"\"}, \"colorscale\": [[0.0, \"#0d0887\"], [0.1111111111111111, \"#46039f\"], [0.2222222222222222, \"#7201a8\"], [0.3333333333333333, \"#9c179e\"], [0.4444444444444444, \"#bd3786\"], [0.5555555555555556, \"#d8576b\"], [0.6666666666666666, \"#ed7953\"], [0.7777777777777778, \"#fb9f3a\"], [0.8888888888888888, \"#fdca26\"], [1.0, \"#f0f921\"]], \"type\": \"surface\"}], \"table\": [{\"cells\": {\"fill\": {\"color\": \"#EBF0F8\"}, \"line\": {\"color\": \"white\"}}, \"header\": {\"fill\": {\"color\": \"#C8D4E3\"}, \"line\": {\"color\": \"white\"}}, \"type\": \"table\"}]}, \"layout\": {\"annotationdefaults\": {\"arrowcolor\": \"#2a3f5f\", \"arrowhead\": 0, \"arrowwidth\": 1}, \"colorscale\": {\"diverging\": [[0, \"#8e0152\"], [0.1, \"#c51b7d\"], [0.2, \"#de77ae\"], [0.3, \"#f1b6da\"], [0.4, \"#fde0ef\"], [0.5, \"#f7f7f7\"], [0.6, \"#e6f5d0\"], [0.7, \"#b8e186\"], [0.8, \"#7fbc41\"], [0.9, \"#4d9221\"], [1, \"#276419\"]], \"sequential\": [[0.0, \"#0d0887\"], [0.1111111111111111, \"#46039f\"], [0.2222222222222222, \"#7201a8\"], [0.3333333333333333, \"#9c179e\"], [0.4444444444444444, \"#bd3786\"], [0.5555555555555556, \"#d8576b\"], [0.6666666666666666, \"#ed7953\"], [0.7777777777777778, \"#fb9f3a\"], [0.8888888888888888, \"#fdca26\"], [1.0, \"#f0f921\"]], \"sequentialminus\": [[0.0, \"#0d0887\"], [0.1111111111111111, \"#46039f\"], [0.2222222222222222, \"#7201a8\"], [0.3333333333333333, \"#9c179e\"], [0.4444444444444444, \"#bd3786\"], [0.5555555555555556, \"#d8576b\"], [0.6666666666666666, \"#ed7953\"], [0.7777777777777778, \"#fb9f3a\"], [0.8888888888888888, \"#fdca26\"], [1.0, \"#f0f921\"]]}, \"colorway\": [\"#636efa\", \"#EF553B\", \"#00cc96\", \"#ab63fa\", \"#FFA15A\", \"#19d3f3\", \"#FF6692\", \"#B6E880\", \"#FF97FF\", \"#FECB52\"], \"font\": {\"color\": \"#2a3f5f\"}, \"geo\": {\"bgcolor\": \"white\", \"lakecolor\": \"white\", \"landcolor\": \"#E5ECF6\", \"showlakes\": true, \"showland\": true, \"subunitcolor\": \"white\"}, \"hoverlabel\": {\"align\": \"left\"}, \"hovermode\": \"closest\", \"mapbox\": {\"style\": \"light\"}, \"paper_bgcolor\": \"white\", \"plot_bgcolor\": \"#E5ECF6\", \"polar\": {\"angularaxis\": {\"gridcolor\": \"white\", \"linecolor\": \"white\", \"ticks\": \"\"}, \"bgcolor\": \"#E5ECF6\", \"radialaxis\": {\"gridcolor\": \"white\", \"linecolor\": \"white\", \"ticks\": \"\"}}, \"scene\": {\"xaxis\": {\"backgroundcolor\": \"#E5ECF6\", \"gridcolor\": \"white\", \"gridwidth\": 2, \"linecolor\": \"white\", \"showbackground\": true, \"ticks\": \"\", \"zerolinecolor\": \"white\"}, \"yaxis\": {\"backgroundcolor\": \"#E5ECF6\", \"gridcolor\": \"white\", \"gridwidth\": 2, \"linecolor\": \"white\", \"showbackground\": true, \"ticks\": \"\", \"zerolinecolor\": \"white\"}, \"zaxis\": {\"backgroundcolor\": \"#E5ECF6\", \"gridcolor\": \"white\", \"gridwidth\": 2, \"linecolor\": \"white\", \"showbackground\": true, \"ticks\": \"\", \"zerolinecolor\": \"white\"}}, \"shapedefaults\": {\"line\": {\"color\": \"#2a3f5f\"}}, \"ternary\": {\"aaxis\": {\"gridcolor\": \"white\", \"linecolor\": \"white\", \"ticks\": \"\"}, \"baxis\": {\"gridcolor\": \"white\", \"linecolor\": \"white\", \"ticks\": \"\"}, \"bgcolor\": \"#E5ECF6\", \"caxis\": {\"gridcolor\": \"white\", \"linecolor\": \"white\", \"ticks\": \"\"}}, \"title\": {\"x\": 0.05}, \"xaxis\": {\"automargin\": true, \"gridcolor\": \"white\", \"linecolor\": \"white\", \"ticks\": \"\", \"zerolinecolor\": \"white\", \"zerolinewidth\": 2}, \"yaxis\": {\"automargin\": true, \"gridcolor\": \"white\", \"linecolor\": \"white\", \"ticks\": \"\", \"zerolinecolor\": \"white\", \"zerolinewidth\": 2}}}, \"title\": {\"text\": \"newmse:tuwen:total_recommend:(dur2)\"}, \"xaxis\": {\"type\": \"date\"}, \"yaxis\": {\"title\": {\"text\": \"dur2\"}}},\n",
       "                        {\"responsive\": true}\n",
       "                    ).then(function(){\n",
       "                            \n",
       "var gd = document.getElementById('7faee730-7cd9-4679-addd-5c60e4c399e2');\n",
       "var x = new MutationObserver(function (mutations, observer) {{\n",
       "        var display = window.getComputedStyle(gd).display;\n",
       "        if (!display || display === 'none') {{\n",
       "            console.log([gd, 'removed!']);\n",
       "            Plotly.purge(gd);\n",
       "            observer.disconnect();\n",
       "        }}\n",
       "}});\n",
       "\n",
       "// Listen for the removal of the full notebook cells\n",
       "var notebookContainer = gd.closest('#notebook-container');\n",
       "if (notebookContainer) {{\n",
       "    x.observe(notebookContainer, {childList: true});\n",
       "}}\n",
       "\n",
       "// Listen for the clearing of the current output cell\n",
       "var outputEl = gd.closest('.output');\n",
       "if (outputEl) {{\n",
       "    x.observe(outputEl, {childList: true});\n",
       "}}\n",
       "\n",
       "                        })\n",
       "                };\n",
       "                });\n",
       "            </script>\n",
       "        </div>"
      ]
     },
     "metadata": {},
     "output_type": "display_data"
    },
    {
     "data": {
      "application/vnd.plotly.v1+json": {
       "config": {
        "linkText": "Export to plot.ly",
        "plotlyServerURL": "https://plot.ly",
        "showLink": false
       },
       "data": [
        {
         "hovertext": [
          "0.0016",
          "0.0047",
          "0.0013",
          "0.0106",
          "-0.0193",
          "0.0050",
          "-0.0442",
          "-0.1505",
          "0.0327",
          "0.2279",
          "0.1539",
          "0.0620",
          "0.0802",
          "0.0701"
         ],
         "line": {
          "shape": "spline",
          "smoothing": 1
         },
         "mode": "lines+markers",
         "name": "7",
         "showlegend": true,
         "type": "scatter",
         "x": [
          "2019-12-31T00:00:00",
          "2020-01-01T00:00:00",
          "2020-01-02T00:00:00",
          "2020-01-03T00:00:00",
          "2020-01-04T00:00:00",
          "2020-01-05T00:00:00",
          "2020-01-06T00:00:00",
          "2020-01-07T00:00:00",
          "2020-01-08T00:00:00",
          "2020-01-09T00:00:00",
          "2020-01-10T00:00:00",
          "2020-01-11T00:00:00",
          "2020-01-12T00:00:00",
          "2020-01-13T00:00:00"
         ],
         "y": [
          433198.217374401,
          496471.9858584687,
          432572.2759402666,
          482279.00610718253,
          591240.2765185451,
          587963.9048678026,
          426605.6267912459,
          404987.07288322854,
          441010.72202585544,
          446308.72256169183,
          427325.5922947302,
          436800.032367832,
          428504.1637280734,
          394457.6481236485
         ]
        },
        {
         "line": {
          "shape": "spline",
          "smoothing": 1
         },
         "mode": "lines+markers",
         "name": "456",
         "showlegend": true,
         "type": "scatter",
         "x": [
          "2019-12-31T00:00:00",
          "2020-01-01T00:00:00",
          "2020-01-02T00:00:00",
          "2020-01-03T00:00:00",
          "2020-01-04T00:00:00",
          "2020-01-05T00:00:00",
          "2020-01-06T00:00:00",
          "2020-01-07T00:00:00",
          "2020-01-08T00:00:00",
          "2020-01-09T00:00:00",
          "2020-01-10T00:00:00",
          "2020-01-11T00:00:00",
          "2020-01-12T00:00:00",
          "2020-01-13T00:00:00"
         ],
         "y": [
          432485.3333333333,
          494144.3333333333,
          431991,
          477211.6666666667,
          602876.3333333334,
          585017,
          446320.6666666667,
          476716.3333333333,
          427064.6666666667,
          363485,
          370321.6666666667,
          411314.6666666667,
          396682.6666666667,
          368609.6666666667
         ]
        }
       ],
       "layout": {
        "hovermode": "x",
        "template": {
         "data": {
          "bar": [
           {
            "error_x": {
             "color": "#2a3f5f"
            },
            "error_y": {
             "color": "#2a3f5f"
            },
            "marker": {
             "line": {
              "color": "#E5ECF6",
              "width": 0.5
             }
            },
            "type": "bar"
           }
          ],
          "barpolar": [
           {
            "marker": {
             "line": {
              "color": "#E5ECF6",
              "width": 0.5
             }
            },
            "type": "barpolar"
           }
          ],
          "carpet": [
           {
            "aaxis": {
             "endlinecolor": "#2a3f5f",
             "gridcolor": "white",
             "linecolor": "white",
             "minorgridcolor": "white",
             "startlinecolor": "#2a3f5f"
            },
            "baxis": {
             "endlinecolor": "#2a3f5f",
             "gridcolor": "white",
             "linecolor": "white",
             "minorgridcolor": "white",
             "startlinecolor": "#2a3f5f"
            },
            "type": "carpet"
           }
          ],
          "choropleth": [
           {
            "colorbar": {
             "outlinewidth": 0,
             "ticks": ""
            },
            "type": "choropleth"
           }
          ],
          "contour": [
           {
            "colorbar": {
             "outlinewidth": 0,
             "ticks": ""
            },
            "colorscale": [
             [
              0,
              "#0d0887"
             ],
             [
              0.1111111111111111,
              "#46039f"
             ],
             [
              0.2222222222222222,
              "#7201a8"
             ],
             [
              0.3333333333333333,
              "#9c179e"
             ],
             [
              0.4444444444444444,
              "#bd3786"
             ],
             [
              0.5555555555555556,
              "#d8576b"
             ],
             [
              0.6666666666666666,
              "#ed7953"
             ],
             [
              0.7777777777777778,
              "#fb9f3a"
             ],
             [
              0.8888888888888888,
              "#fdca26"
             ],
             [
              1,
              "#f0f921"
             ]
            ],
            "type": "contour"
           }
          ],
          "contourcarpet": [
           {
            "colorbar": {
             "outlinewidth": 0,
             "ticks": ""
            },
            "type": "contourcarpet"
           }
          ],
          "heatmap": [
           {
            "colorbar": {
             "outlinewidth": 0,
             "ticks": ""
            },
            "colorscale": [
             [
              0,
              "#0d0887"
             ],
             [
              0.1111111111111111,
              "#46039f"
             ],
             [
              0.2222222222222222,
              "#7201a8"
             ],
             [
              0.3333333333333333,
              "#9c179e"
             ],
             [
              0.4444444444444444,
              "#bd3786"
             ],
             [
              0.5555555555555556,
              "#d8576b"
             ],
             [
              0.6666666666666666,
              "#ed7953"
             ],
             [
              0.7777777777777778,
              "#fb9f3a"
             ],
             [
              0.8888888888888888,
              "#fdca26"
             ],
             [
              1,
              "#f0f921"
             ]
            ],
            "type": "heatmap"
           }
          ],
          "heatmapgl": [
           {
            "colorbar": {
             "outlinewidth": 0,
             "ticks": ""
            },
            "colorscale": [
             [
              0,
              "#0d0887"
             ],
             [
              0.1111111111111111,
              "#46039f"
             ],
             [
              0.2222222222222222,
              "#7201a8"
             ],
             [
              0.3333333333333333,
              "#9c179e"
             ],
             [
              0.4444444444444444,
              "#bd3786"
             ],
             [
              0.5555555555555556,
              "#d8576b"
             ],
             [
              0.6666666666666666,
              "#ed7953"
             ],
             [
              0.7777777777777778,
              "#fb9f3a"
             ],
             [
              0.8888888888888888,
              "#fdca26"
             ],
             [
              1,
              "#f0f921"
             ]
            ],
            "type": "heatmapgl"
           }
          ],
          "histogram": [
           {
            "marker": {
             "colorbar": {
              "outlinewidth": 0,
              "ticks": ""
             }
            },
            "type": "histogram"
           }
          ],
          "histogram2d": [
           {
            "colorbar": {
             "outlinewidth": 0,
             "ticks": ""
            },
            "colorscale": [
             [
              0,
              "#0d0887"
             ],
             [
              0.1111111111111111,
              "#46039f"
             ],
             [
              0.2222222222222222,
              "#7201a8"
             ],
             [
              0.3333333333333333,
              "#9c179e"
             ],
             [
              0.4444444444444444,
              "#bd3786"
             ],
             [
              0.5555555555555556,
              "#d8576b"
             ],
             [
              0.6666666666666666,
              "#ed7953"
             ],
             [
              0.7777777777777778,
              "#fb9f3a"
             ],
             [
              0.8888888888888888,
              "#fdca26"
             ],
             [
              1,
              "#f0f921"
             ]
            ],
            "type": "histogram2d"
           }
          ],
          "histogram2dcontour": [
           {
            "colorbar": {
             "outlinewidth": 0,
             "ticks": ""
            },
            "colorscale": [
             [
              0,
              "#0d0887"
             ],
             [
              0.1111111111111111,
              "#46039f"
             ],
             [
              0.2222222222222222,
              "#7201a8"
             ],
             [
              0.3333333333333333,
              "#9c179e"
             ],
             [
              0.4444444444444444,
              "#bd3786"
             ],
             [
              0.5555555555555556,
              "#d8576b"
             ],
             [
              0.6666666666666666,
              "#ed7953"
             ],
             [
              0.7777777777777778,
              "#fb9f3a"
             ],
             [
              0.8888888888888888,
              "#fdca26"
             ],
             [
              1,
              "#f0f921"
             ]
            ],
            "type": "histogram2dcontour"
           }
          ],
          "mesh3d": [
           {
            "colorbar": {
             "outlinewidth": 0,
             "ticks": ""
            },
            "type": "mesh3d"
           }
          ],
          "parcoords": [
           {
            "line": {
             "colorbar": {
              "outlinewidth": 0,
              "ticks": ""
             }
            },
            "type": "parcoords"
           }
          ],
          "scatter": [
           {
            "marker": {
             "colorbar": {
              "outlinewidth": 0,
              "ticks": ""
             }
            },
            "type": "scatter"
           }
          ],
          "scatter3d": [
           {
            "line": {
             "colorbar": {
              "outlinewidth": 0,
              "ticks": ""
             }
            },
            "marker": {
             "colorbar": {
              "outlinewidth": 0,
              "ticks": ""
             }
            },
            "type": "scatter3d"
           }
          ],
          "scattercarpet": [
           {
            "marker": {
             "colorbar": {
              "outlinewidth": 0,
              "ticks": ""
             }
            },
            "type": "scattercarpet"
           }
          ],
          "scattergeo": [
           {
            "marker": {
             "colorbar": {
              "outlinewidth": 0,
              "ticks": ""
             }
            },
            "type": "scattergeo"
           }
          ],
          "scattergl": [
           {
            "marker": {
             "colorbar": {
              "outlinewidth": 0,
              "ticks": ""
             }
            },
            "type": "scattergl"
           }
          ],
          "scattermapbox": [
           {
            "marker": {
             "colorbar": {
              "outlinewidth": 0,
              "ticks": ""
             }
            },
            "type": "scattermapbox"
           }
          ],
          "scatterpolar": [
           {
            "marker": {
             "colorbar": {
              "outlinewidth": 0,
              "ticks": ""
             }
            },
            "type": "scatterpolar"
           }
          ],
          "scatterpolargl": [
           {
            "marker": {
             "colorbar": {
              "outlinewidth": 0,
              "ticks": ""
             }
            },
            "type": "scatterpolargl"
           }
          ],
          "scatterternary": [
           {
            "marker": {
             "colorbar": {
              "outlinewidth": 0,
              "ticks": ""
             }
            },
            "type": "scatterternary"
           }
          ],
          "surface": [
           {
            "colorbar": {
             "outlinewidth": 0,
             "ticks": ""
            },
            "colorscale": [
             [
              0,
              "#0d0887"
             ],
             [
              0.1111111111111111,
              "#46039f"
             ],
             [
              0.2222222222222222,
              "#7201a8"
             ],
             [
              0.3333333333333333,
              "#9c179e"
             ],
             [
              0.4444444444444444,
              "#bd3786"
             ],
             [
              0.5555555555555556,
              "#d8576b"
             ],
             [
              0.6666666666666666,
              "#ed7953"
             ],
             [
              0.7777777777777778,
              "#fb9f3a"
             ],
             [
              0.8888888888888888,
              "#fdca26"
             ],
             [
              1,
              "#f0f921"
             ]
            ],
            "type": "surface"
           }
          ],
          "table": [
           {
            "cells": {
             "fill": {
              "color": "#EBF0F8"
             },
             "line": {
              "color": "white"
             }
            },
            "header": {
             "fill": {
              "color": "#C8D4E3"
             },
             "line": {
              "color": "white"
             }
            },
            "type": "table"
           }
          ]
         },
         "layout": {
          "annotationdefaults": {
           "arrowcolor": "#2a3f5f",
           "arrowhead": 0,
           "arrowwidth": 1
          },
          "colorscale": {
           "diverging": [
            [
             0,
             "#8e0152"
            ],
            [
             0.1,
             "#c51b7d"
            ],
            [
             0.2,
             "#de77ae"
            ],
            [
             0.3,
             "#f1b6da"
            ],
            [
             0.4,
             "#fde0ef"
            ],
            [
             0.5,
             "#f7f7f7"
            ],
            [
             0.6,
             "#e6f5d0"
            ],
            [
             0.7,
             "#b8e186"
            ],
            [
             0.8,
             "#7fbc41"
            ],
            [
             0.9,
             "#4d9221"
            ],
            [
             1,
             "#276419"
            ]
           ],
           "sequential": [
            [
             0,
             "#0d0887"
            ],
            [
             0.1111111111111111,
             "#46039f"
            ],
            [
             0.2222222222222222,
             "#7201a8"
            ],
            [
             0.3333333333333333,
             "#9c179e"
            ],
            [
             0.4444444444444444,
             "#bd3786"
            ],
            [
             0.5555555555555556,
             "#d8576b"
            ],
            [
             0.6666666666666666,
             "#ed7953"
            ],
            [
             0.7777777777777778,
             "#fb9f3a"
            ],
            [
             0.8888888888888888,
             "#fdca26"
            ],
            [
             1,
             "#f0f921"
            ]
           ],
           "sequentialminus": [
            [
             0,
             "#0d0887"
            ],
            [
             0.1111111111111111,
             "#46039f"
            ],
            [
             0.2222222222222222,
             "#7201a8"
            ],
            [
             0.3333333333333333,
             "#9c179e"
            ],
            [
             0.4444444444444444,
             "#bd3786"
            ],
            [
             0.5555555555555556,
             "#d8576b"
            ],
            [
             0.6666666666666666,
             "#ed7953"
            ],
            [
             0.7777777777777778,
             "#fb9f3a"
            ],
            [
             0.8888888888888888,
             "#fdca26"
            ],
            [
             1,
             "#f0f921"
            ]
           ]
          },
          "colorway": [
           "#636efa",
           "#EF553B",
           "#00cc96",
           "#ab63fa",
           "#FFA15A",
           "#19d3f3",
           "#FF6692",
           "#B6E880",
           "#FF97FF",
           "#FECB52"
          ],
          "font": {
           "color": "#2a3f5f"
          },
          "geo": {
           "bgcolor": "white",
           "lakecolor": "white",
           "landcolor": "#E5ECF6",
           "showlakes": true,
           "showland": true,
           "subunitcolor": "white"
          },
          "hoverlabel": {
           "align": "left"
          },
          "hovermode": "closest",
          "mapbox": {
           "style": "light"
          },
          "paper_bgcolor": "white",
          "plot_bgcolor": "#E5ECF6",
          "polar": {
           "angularaxis": {
            "gridcolor": "white",
            "linecolor": "white",
            "ticks": ""
           },
           "bgcolor": "#E5ECF6",
           "radialaxis": {
            "gridcolor": "white",
            "linecolor": "white",
            "ticks": ""
           }
          },
          "scene": {
           "xaxis": {
            "backgroundcolor": "#E5ECF6",
            "gridcolor": "white",
            "gridwidth": 2,
            "linecolor": "white",
            "showbackground": true,
            "ticks": "",
            "zerolinecolor": "white"
           },
           "yaxis": {
            "backgroundcolor": "#E5ECF6",
            "gridcolor": "white",
            "gridwidth": 2,
            "linecolor": "white",
            "showbackground": true,
            "ticks": "",
            "zerolinecolor": "white"
           },
           "zaxis": {
            "backgroundcolor": "#E5ECF6",
            "gridcolor": "white",
            "gridwidth": 2,
            "linecolor": "white",
            "showbackground": true,
            "ticks": "",
            "zerolinecolor": "white"
           }
          },
          "shapedefaults": {
           "line": {
            "color": "#2a3f5f"
           }
          },
          "ternary": {
           "aaxis": {
            "gridcolor": "white",
            "linecolor": "white",
            "ticks": ""
           },
           "baxis": {
            "gridcolor": "white",
            "linecolor": "white",
            "ticks": ""
           },
           "bgcolor": "#E5ECF6",
           "caxis": {
            "gridcolor": "white",
            "linecolor": "white",
            "ticks": ""
           }
          },
          "title": {
           "x": 0.05
          },
          "xaxis": {
           "automargin": true,
           "gridcolor": "white",
           "linecolor": "white",
           "ticks": "",
           "zerolinecolor": "white",
           "zerolinewidth": 2
          },
          "yaxis": {
           "automargin": true,
           "gridcolor": "white",
           "linecolor": "white",
           "ticks": "",
           "zerolinecolor": "white",
           "zerolinewidth": 2
          }
         }
        },
        "title": {
         "text": "newmse:tuwen:total_recommend:(click)"
        },
        "xaxis": {
         "type": "date"
        },
        "yaxis": {
         "title": {
          "text": "click"
         }
        }
       }
      },
      "text/html": [
       "<div>\n",
       "        \n",
       "        \n",
       "            <div id=\"d50d4320-6162-4a7c-95c4-ca984443c9f0\" class=\"plotly-graph-div\" style=\"height:525px; width:100%;\"></div>\n",
       "            <script type=\"text/javascript\">\n",
       "                require([\"plotly\"], function(Plotly) {\n",
       "                    window.PLOTLYENV=window.PLOTLYENV || {};\n",
       "                    \n",
       "                if (document.getElementById(\"d50d4320-6162-4a7c-95c4-ca984443c9f0\")) {\n",
       "                    Plotly.newPlot(\n",
       "                        'd50d4320-6162-4a7c-95c4-ca984443c9f0',\n",
       "                        [{\"hovertext\": [\"0.0016\", \"0.0047\", \"0.0013\", \"0.0106\", \"-0.0193\", \"0.0050\", \"-0.0442\", \"-0.1505\", \"0.0327\", \"0.2279\", \"0.1539\", \"0.0620\", \"0.0802\", \"0.0701\"], \"line\": {\"shape\": \"spline\", \"smoothing\": 1.0}, \"mode\": \"lines+markers\", \"name\": \"7\", \"showlegend\": true, \"type\": \"scatter\", \"x\": [\"2019-12-31T00:00:00\", \"2020-01-01T00:00:00\", \"2020-01-02T00:00:00\", \"2020-01-03T00:00:00\", \"2020-01-04T00:00:00\", \"2020-01-05T00:00:00\", \"2020-01-06T00:00:00\", \"2020-01-07T00:00:00\", \"2020-01-08T00:00:00\", \"2020-01-09T00:00:00\", \"2020-01-10T00:00:00\", \"2020-01-11T00:00:00\", \"2020-01-12T00:00:00\", \"2020-01-13T00:00:00\"], \"y\": [433198.217374401, 496471.9858584687, 432572.2759402666, 482279.00610718253, 591240.2765185451, 587963.9048678026, 426605.6267912459, 404987.07288322854, 441010.72202585544, 446308.72256169183, 427325.5922947302, 436800.032367832, 428504.1637280734, 394457.6481236485]}, {\"line\": {\"shape\": \"spline\", \"smoothing\": 1.0}, \"mode\": \"lines+markers\", \"name\": \"456\", \"showlegend\": true, \"type\": \"scatter\", \"x\": [\"2019-12-31T00:00:00\", \"2020-01-01T00:00:00\", \"2020-01-02T00:00:00\", \"2020-01-03T00:00:00\", \"2020-01-04T00:00:00\", \"2020-01-05T00:00:00\", \"2020-01-06T00:00:00\", \"2020-01-07T00:00:00\", \"2020-01-08T00:00:00\", \"2020-01-09T00:00:00\", \"2020-01-10T00:00:00\", \"2020-01-11T00:00:00\", \"2020-01-12T00:00:00\", \"2020-01-13T00:00:00\"], \"y\": [432485.3333333333, 494144.3333333333, 431991.0, 477211.6666666667, 602876.3333333334, 585017.0, 446320.6666666667, 476716.3333333333, 427064.6666666667, 363485.0, 370321.6666666667, 411314.6666666667, 396682.6666666667, 368609.6666666667]}],\n",
       "                        {\"hovermode\": \"x\", \"template\": {\"data\": {\"bar\": [{\"error_x\": {\"color\": \"#2a3f5f\"}, \"error_y\": {\"color\": \"#2a3f5f\"}, \"marker\": {\"line\": {\"color\": \"#E5ECF6\", \"width\": 0.5}}, \"type\": \"bar\"}], \"barpolar\": [{\"marker\": {\"line\": {\"color\": \"#E5ECF6\", \"width\": 0.5}}, \"type\": \"barpolar\"}], \"carpet\": [{\"aaxis\": {\"endlinecolor\": \"#2a3f5f\", \"gridcolor\": \"white\", \"linecolor\": \"white\", \"minorgridcolor\": \"white\", \"startlinecolor\": \"#2a3f5f\"}, \"baxis\": {\"endlinecolor\": \"#2a3f5f\", \"gridcolor\": \"white\", \"linecolor\": \"white\", \"minorgridcolor\": \"white\", \"startlinecolor\": \"#2a3f5f\"}, \"type\": \"carpet\"}], \"choropleth\": [{\"colorbar\": {\"outlinewidth\": 0, \"ticks\": \"\"}, \"type\": \"choropleth\"}], \"contour\": [{\"colorbar\": {\"outlinewidth\": 0, \"ticks\": \"\"}, \"colorscale\": [[0.0, \"#0d0887\"], [0.1111111111111111, \"#46039f\"], [0.2222222222222222, \"#7201a8\"], [0.3333333333333333, \"#9c179e\"], [0.4444444444444444, \"#bd3786\"], [0.5555555555555556, \"#d8576b\"], [0.6666666666666666, \"#ed7953\"], [0.7777777777777778, \"#fb9f3a\"], [0.8888888888888888, \"#fdca26\"], [1.0, \"#f0f921\"]], \"type\": \"contour\"}], \"contourcarpet\": [{\"colorbar\": {\"outlinewidth\": 0, \"ticks\": \"\"}, \"type\": \"contourcarpet\"}], \"heatmap\": [{\"colorbar\": {\"outlinewidth\": 0, \"ticks\": \"\"}, \"colorscale\": [[0.0, \"#0d0887\"], [0.1111111111111111, \"#46039f\"], [0.2222222222222222, \"#7201a8\"], [0.3333333333333333, \"#9c179e\"], [0.4444444444444444, \"#bd3786\"], [0.5555555555555556, \"#d8576b\"], [0.6666666666666666, \"#ed7953\"], [0.7777777777777778, \"#fb9f3a\"], [0.8888888888888888, \"#fdca26\"], [1.0, \"#f0f921\"]], \"type\": \"heatmap\"}], \"heatmapgl\": [{\"colorbar\": {\"outlinewidth\": 0, \"ticks\": \"\"}, \"colorscale\": [[0.0, \"#0d0887\"], [0.1111111111111111, \"#46039f\"], [0.2222222222222222, \"#7201a8\"], [0.3333333333333333, \"#9c179e\"], [0.4444444444444444, \"#bd3786\"], [0.5555555555555556, \"#d8576b\"], [0.6666666666666666, \"#ed7953\"], [0.7777777777777778, \"#fb9f3a\"], [0.8888888888888888, \"#fdca26\"], [1.0, \"#f0f921\"]], \"type\": \"heatmapgl\"}], \"histogram\": [{\"marker\": {\"colorbar\": {\"outlinewidth\": 0, \"ticks\": \"\"}}, \"type\": \"histogram\"}], \"histogram2d\": [{\"colorbar\": {\"outlinewidth\": 0, \"ticks\": \"\"}, \"colorscale\": [[0.0, \"#0d0887\"], [0.1111111111111111, \"#46039f\"], [0.2222222222222222, \"#7201a8\"], [0.3333333333333333, \"#9c179e\"], [0.4444444444444444, \"#bd3786\"], [0.5555555555555556, \"#d8576b\"], [0.6666666666666666, \"#ed7953\"], [0.7777777777777778, \"#fb9f3a\"], [0.8888888888888888, \"#fdca26\"], [1.0, \"#f0f921\"]], \"type\": \"histogram2d\"}], \"histogram2dcontour\": [{\"colorbar\": {\"outlinewidth\": 0, \"ticks\": \"\"}, \"colorscale\": [[0.0, \"#0d0887\"], [0.1111111111111111, \"#46039f\"], [0.2222222222222222, \"#7201a8\"], [0.3333333333333333, \"#9c179e\"], [0.4444444444444444, \"#bd3786\"], [0.5555555555555556, \"#d8576b\"], [0.6666666666666666, \"#ed7953\"], [0.7777777777777778, \"#fb9f3a\"], [0.8888888888888888, \"#fdca26\"], [1.0, \"#f0f921\"]], \"type\": \"histogram2dcontour\"}], \"mesh3d\": [{\"colorbar\": {\"outlinewidth\": 0, \"ticks\": \"\"}, \"type\": \"mesh3d\"}], \"parcoords\": [{\"line\": {\"colorbar\": {\"outlinewidth\": 0, \"ticks\": \"\"}}, \"type\": \"parcoords\"}], \"scatter\": [{\"marker\": {\"colorbar\": {\"outlinewidth\": 0, \"ticks\": \"\"}}, \"type\": \"scatter\"}], \"scatter3d\": [{\"line\": {\"colorbar\": {\"outlinewidth\": 0, \"ticks\": \"\"}}, \"marker\": {\"colorbar\": {\"outlinewidth\": 0, \"ticks\": \"\"}}, \"type\": \"scatter3d\"}], \"scattercarpet\": [{\"marker\": {\"colorbar\": {\"outlinewidth\": 0, \"ticks\": \"\"}}, \"type\": \"scattercarpet\"}], \"scattergeo\": [{\"marker\": {\"colorbar\": {\"outlinewidth\": 0, \"ticks\": \"\"}}, \"type\": \"scattergeo\"}], \"scattergl\": [{\"marker\": {\"colorbar\": {\"outlinewidth\": 0, \"ticks\": \"\"}}, \"type\": \"scattergl\"}], \"scattermapbox\": [{\"marker\": {\"colorbar\": {\"outlinewidth\": 0, \"ticks\": \"\"}}, \"type\": \"scattermapbox\"}], \"scatterpolar\": [{\"marker\": {\"colorbar\": {\"outlinewidth\": 0, \"ticks\": \"\"}}, \"type\": \"scatterpolar\"}], \"scatterpolargl\": [{\"marker\": {\"colorbar\": {\"outlinewidth\": 0, \"ticks\": \"\"}}, \"type\": \"scatterpolargl\"}], \"scatterternary\": [{\"marker\": {\"colorbar\": {\"outlinewidth\": 0, \"ticks\": \"\"}}, \"type\": \"scatterternary\"}], \"surface\": [{\"colorbar\": {\"outlinewidth\": 0, \"ticks\": \"\"}, \"colorscale\": [[0.0, \"#0d0887\"], [0.1111111111111111, \"#46039f\"], [0.2222222222222222, \"#7201a8\"], [0.3333333333333333, \"#9c179e\"], [0.4444444444444444, \"#bd3786\"], [0.5555555555555556, \"#d8576b\"], [0.6666666666666666, \"#ed7953\"], [0.7777777777777778, \"#fb9f3a\"], [0.8888888888888888, \"#fdca26\"], [1.0, \"#f0f921\"]], \"type\": \"surface\"}], \"table\": [{\"cells\": {\"fill\": {\"color\": \"#EBF0F8\"}, \"line\": {\"color\": \"white\"}}, \"header\": {\"fill\": {\"color\": \"#C8D4E3\"}, \"line\": {\"color\": \"white\"}}, \"type\": \"table\"}]}, \"layout\": {\"annotationdefaults\": {\"arrowcolor\": \"#2a3f5f\", \"arrowhead\": 0, \"arrowwidth\": 1}, \"colorscale\": {\"diverging\": [[0, \"#8e0152\"], [0.1, \"#c51b7d\"], [0.2, \"#de77ae\"], [0.3, \"#f1b6da\"], [0.4, \"#fde0ef\"], [0.5, \"#f7f7f7\"], [0.6, \"#e6f5d0\"], [0.7, \"#b8e186\"], [0.8, \"#7fbc41\"], [0.9, \"#4d9221\"], [1, \"#276419\"]], \"sequential\": [[0.0, \"#0d0887\"], [0.1111111111111111, \"#46039f\"], [0.2222222222222222, \"#7201a8\"], [0.3333333333333333, \"#9c179e\"], [0.4444444444444444, \"#bd3786\"], [0.5555555555555556, \"#d8576b\"], [0.6666666666666666, \"#ed7953\"], [0.7777777777777778, \"#fb9f3a\"], [0.8888888888888888, \"#fdca26\"], [1.0, \"#f0f921\"]], \"sequentialminus\": [[0.0, \"#0d0887\"], [0.1111111111111111, \"#46039f\"], [0.2222222222222222, \"#7201a8\"], [0.3333333333333333, \"#9c179e\"], [0.4444444444444444, \"#bd3786\"], [0.5555555555555556, \"#d8576b\"], [0.6666666666666666, \"#ed7953\"], [0.7777777777777778, \"#fb9f3a\"], [0.8888888888888888, \"#fdca26\"], [1.0, \"#f0f921\"]]}, \"colorway\": [\"#636efa\", \"#EF553B\", \"#00cc96\", \"#ab63fa\", \"#FFA15A\", \"#19d3f3\", \"#FF6692\", \"#B6E880\", \"#FF97FF\", \"#FECB52\"], \"font\": {\"color\": \"#2a3f5f\"}, \"geo\": {\"bgcolor\": \"white\", \"lakecolor\": \"white\", \"landcolor\": \"#E5ECF6\", \"showlakes\": true, \"showland\": true, \"subunitcolor\": \"white\"}, \"hoverlabel\": {\"align\": \"left\"}, \"hovermode\": \"closest\", \"mapbox\": {\"style\": \"light\"}, \"paper_bgcolor\": \"white\", \"plot_bgcolor\": \"#E5ECF6\", \"polar\": {\"angularaxis\": {\"gridcolor\": \"white\", \"linecolor\": \"white\", \"ticks\": \"\"}, \"bgcolor\": \"#E5ECF6\", \"radialaxis\": {\"gridcolor\": \"white\", \"linecolor\": \"white\", \"ticks\": \"\"}}, \"scene\": {\"xaxis\": {\"backgroundcolor\": \"#E5ECF6\", \"gridcolor\": \"white\", \"gridwidth\": 2, \"linecolor\": \"white\", \"showbackground\": true, \"ticks\": \"\", \"zerolinecolor\": \"white\"}, \"yaxis\": {\"backgroundcolor\": \"#E5ECF6\", \"gridcolor\": \"white\", \"gridwidth\": 2, \"linecolor\": \"white\", \"showbackground\": true, \"ticks\": \"\", \"zerolinecolor\": \"white\"}, \"zaxis\": {\"backgroundcolor\": \"#E5ECF6\", \"gridcolor\": \"white\", \"gridwidth\": 2, \"linecolor\": \"white\", \"showbackground\": true, \"ticks\": \"\", \"zerolinecolor\": \"white\"}}, \"shapedefaults\": {\"line\": {\"color\": \"#2a3f5f\"}}, \"ternary\": {\"aaxis\": {\"gridcolor\": \"white\", \"linecolor\": \"white\", \"ticks\": \"\"}, \"baxis\": {\"gridcolor\": \"white\", \"linecolor\": \"white\", \"ticks\": \"\"}, \"bgcolor\": \"#E5ECF6\", \"caxis\": {\"gridcolor\": \"white\", \"linecolor\": \"white\", \"ticks\": \"\"}}, \"title\": {\"x\": 0.05}, \"xaxis\": {\"automargin\": true, \"gridcolor\": \"white\", \"linecolor\": \"white\", \"ticks\": \"\", \"zerolinecolor\": \"white\", \"zerolinewidth\": 2}, \"yaxis\": {\"automargin\": true, \"gridcolor\": \"white\", \"linecolor\": \"white\", \"ticks\": \"\", \"zerolinecolor\": \"white\", \"zerolinewidth\": 2}}}, \"title\": {\"text\": \"newmse:tuwen:total_recommend:(click)\"}, \"xaxis\": {\"type\": \"date\"}, \"yaxis\": {\"title\": {\"text\": \"click\"}}},\n",
       "                        {\"responsive\": true}\n",
       "                    ).then(function(){\n",
       "                            \n",
       "var gd = document.getElementById('d50d4320-6162-4a7c-95c4-ca984443c9f0');\n",
       "var x = new MutationObserver(function (mutations, observer) {{\n",
       "        var display = window.getComputedStyle(gd).display;\n",
       "        if (!display || display === 'none') {{\n",
       "            console.log([gd, 'removed!']);\n",
       "            Plotly.purge(gd);\n",
       "            observer.disconnect();\n",
       "        }}\n",
       "}});\n",
       "\n",
       "// Listen for the removal of the full notebook cells\n",
       "var notebookContainer = gd.closest('#notebook-container');\n",
       "if (notebookContainer) {{\n",
       "    x.observe(notebookContainer, {childList: true});\n",
       "}}\n",
       "\n",
       "// Listen for the clearing of the current output cell\n",
       "var outputEl = gd.closest('.output');\n",
       "if (outputEl) {{\n",
       "    x.observe(outputEl, {childList: true});\n",
       "}}\n",
       "\n",
       "                        })\n",
       "                };\n",
       "                });\n",
       "            </script>\n",
       "        </div>"
      ]
     },
     "metadata": {},
     "output_type": "display_data"
    },
    {
     "data": {
      "application/vnd.plotly.v1+json": {
       "config": {
        "linkText": "Export to plot.ly",
        "plotlyServerURL": "https://plot.ly",
        "showLink": false
       },
       "data": [
        {
         "hovertext": [
          "0.0089",
          "0.0121",
          "-0.0018",
          "-0.0039",
          "-0.0131",
          "0.0016",
          "0.1017",
          "0.3017",
          "0.0571",
          "-0.2769",
          "-0.2836",
          "-0.2813",
          "-0.2657",
          "-0.2623"
         ],
         "line": {
          "shape": "spline",
          "smoothing": 1
         },
         "mode": "lines+markers",
         "name": "7",
         "showlegend": true,
         "type": "scatter",
         "x": [
          "2019-12-31T00:00:00",
          "2020-01-01T00:00:00",
          "2020-01-02T00:00:00",
          "2020-01-03T00:00:00",
          "2020-01-04T00:00:00",
          "2020-01-05T00:00:00",
          "2020-01-06T00:00:00",
          "2020-01-07T00:00:00",
          "2020-01-08T00:00:00",
          "2020-01-09T00:00:00",
          "2020-01-10T00:00:00",
          "2020-01-11T00:00:00",
          "2020-01-12T00:00:00",
          "2020-01-13T00:00:00"
         ],
         "y": [
          462832.99099553213,
          514444.2755005774,
          460071.0511676902,
          509700.72710530704,
          629514.7853561472,
          660907.5976525237,
          547556.4335600516,
          690997.9896068756,
          601343.5384398438,
          487212.89494904724,
          466735.12668023247,
          499448.9871050301,
          497832.70158349257,
          444801.55454587337
         ]
        },
        {
         "line": {
          "shape": "spline",
          "smoothing": 1
         },
         "mode": "lines+markers",
         "name": "456",
         "showlegend": true,
         "type": "scatter",
         "x": [
          "2019-12-31T00:00:00",
          "2020-01-01T00:00:00",
          "2020-01-02T00:00:00",
          "2020-01-03T00:00:00",
          "2020-01-04T00:00:00",
          "2020-01-05T00:00:00",
          "2020-01-06T00:00:00",
          "2020-01-07T00:00:00",
          "2020-01-08T00:00:00",
          "2020-01-09T00:00:00",
          "2020-01-10T00:00:00",
          "2020-01-11T00:00:00",
          "2020-01-12T00:00:00",
          "2020-01-13T00:00:00"
         ],
         "y": [
          458766.8,
          508302.3,
          460906.4111111111,
          511709.68333333335,
          637901.8666666666,
          659884.3666666667,
          496999.9777777777,
          530826.35,
          568849.8055555555,
          673802.3555555557,
          651502.15,
          694919.0555555555,
          677939.0777777778,
          602917.8333333334
         ]
        }
       ],
       "layout": {
        "hovermode": "x",
        "template": {
         "data": {
          "bar": [
           {
            "error_x": {
             "color": "#2a3f5f"
            },
            "error_y": {
             "color": "#2a3f5f"
            },
            "marker": {
             "line": {
              "color": "#E5ECF6",
              "width": 0.5
             }
            },
            "type": "bar"
           }
          ],
          "barpolar": [
           {
            "marker": {
             "line": {
              "color": "#E5ECF6",
              "width": 0.5
             }
            },
            "type": "barpolar"
           }
          ],
          "carpet": [
           {
            "aaxis": {
             "endlinecolor": "#2a3f5f",
             "gridcolor": "white",
             "linecolor": "white",
             "minorgridcolor": "white",
             "startlinecolor": "#2a3f5f"
            },
            "baxis": {
             "endlinecolor": "#2a3f5f",
             "gridcolor": "white",
             "linecolor": "white",
             "minorgridcolor": "white",
             "startlinecolor": "#2a3f5f"
            },
            "type": "carpet"
           }
          ],
          "choropleth": [
           {
            "colorbar": {
             "outlinewidth": 0,
             "ticks": ""
            },
            "type": "choropleth"
           }
          ],
          "contour": [
           {
            "colorbar": {
             "outlinewidth": 0,
             "ticks": ""
            },
            "colorscale": [
             [
              0,
              "#0d0887"
             ],
             [
              0.1111111111111111,
              "#46039f"
             ],
             [
              0.2222222222222222,
              "#7201a8"
             ],
             [
              0.3333333333333333,
              "#9c179e"
             ],
             [
              0.4444444444444444,
              "#bd3786"
             ],
             [
              0.5555555555555556,
              "#d8576b"
             ],
             [
              0.6666666666666666,
              "#ed7953"
             ],
             [
              0.7777777777777778,
              "#fb9f3a"
             ],
             [
              0.8888888888888888,
              "#fdca26"
             ],
             [
              1,
              "#f0f921"
             ]
            ],
            "type": "contour"
           }
          ],
          "contourcarpet": [
           {
            "colorbar": {
             "outlinewidth": 0,
             "ticks": ""
            },
            "type": "contourcarpet"
           }
          ],
          "heatmap": [
           {
            "colorbar": {
             "outlinewidth": 0,
             "ticks": ""
            },
            "colorscale": [
             [
              0,
              "#0d0887"
             ],
             [
              0.1111111111111111,
              "#46039f"
             ],
             [
              0.2222222222222222,
              "#7201a8"
             ],
             [
              0.3333333333333333,
              "#9c179e"
             ],
             [
              0.4444444444444444,
              "#bd3786"
             ],
             [
              0.5555555555555556,
              "#d8576b"
             ],
             [
              0.6666666666666666,
              "#ed7953"
             ],
             [
              0.7777777777777778,
              "#fb9f3a"
             ],
             [
              0.8888888888888888,
              "#fdca26"
             ],
             [
              1,
              "#f0f921"
             ]
            ],
            "type": "heatmap"
           }
          ],
          "heatmapgl": [
           {
            "colorbar": {
             "outlinewidth": 0,
             "ticks": ""
            },
            "colorscale": [
             [
              0,
              "#0d0887"
             ],
             [
              0.1111111111111111,
              "#46039f"
             ],
             [
              0.2222222222222222,
              "#7201a8"
             ],
             [
              0.3333333333333333,
              "#9c179e"
             ],
             [
              0.4444444444444444,
              "#bd3786"
             ],
             [
              0.5555555555555556,
              "#d8576b"
             ],
             [
              0.6666666666666666,
              "#ed7953"
             ],
             [
              0.7777777777777778,
              "#fb9f3a"
             ],
             [
              0.8888888888888888,
              "#fdca26"
             ],
             [
              1,
              "#f0f921"
             ]
            ],
            "type": "heatmapgl"
           }
          ],
          "histogram": [
           {
            "marker": {
             "colorbar": {
              "outlinewidth": 0,
              "ticks": ""
             }
            },
            "type": "histogram"
           }
          ],
          "histogram2d": [
           {
            "colorbar": {
             "outlinewidth": 0,
             "ticks": ""
            },
            "colorscale": [
             [
              0,
              "#0d0887"
             ],
             [
              0.1111111111111111,
              "#46039f"
             ],
             [
              0.2222222222222222,
              "#7201a8"
             ],
             [
              0.3333333333333333,
              "#9c179e"
             ],
             [
              0.4444444444444444,
              "#bd3786"
             ],
             [
              0.5555555555555556,
              "#d8576b"
             ],
             [
              0.6666666666666666,
              "#ed7953"
             ],
             [
              0.7777777777777778,
              "#fb9f3a"
             ],
             [
              0.8888888888888888,
              "#fdca26"
             ],
             [
              1,
              "#f0f921"
             ]
            ],
            "type": "histogram2d"
           }
          ],
          "histogram2dcontour": [
           {
            "colorbar": {
             "outlinewidth": 0,
             "ticks": ""
            },
            "colorscale": [
             [
              0,
              "#0d0887"
             ],
             [
              0.1111111111111111,
              "#46039f"
             ],
             [
              0.2222222222222222,
              "#7201a8"
             ],
             [
              0.3333333333333333,
              "#9c179e"
             ],
             [
              0.4444444444444444,
              "#bd3786"
             ],
             [
              0.5555555555555556,
              "#d8576b"
             ],
             [
              0.6666666666666666,
              "#ed7953"
             ],
             [
              0.7777777777777778,
              "#fb9f3a"
             ],
             [
              0.8888888888888888,
              "#fdca26"
             ],
             [
              1,
              "#f0f921"
             ]
            ],
            "type": "histogram2dcontour"
           }
          ],
          "mesh3d": [
           {
            "colorbar": {
             "outlinewidth": 0,
             "ticks": ""
            },
            "type": "mesh3d"
           }
          ],
          "parcoords": [
           {
            "line": {
             "colorbar": {
              "outlinewidth": 0,
              "ticks": ""
             }
            },
            "type": "parcoords"
           }
          ],
          "scatter": [
           {
            "marker": {
             "colorbar": {
              "outlinewidth": 0,
              "ticks": ""
             }
            },
            "type": "scatter"
           }
          ],
          "scatter3d": [
           {
            "line": {
             "colorbar": {
              "outlinewidth": 0,
              "ticks": ""
             }
            },
            "marker": {
             "colorbar": {
              "outlinewidth": 0,
              "ticks": ""
             }
            },
            "type": "scatter3d"
           }
          ],
          "scattercarpet": [
           {
            "marker": {
             "colorbar": {
              "outlinewidth": 0,
              "ticks": ""
             }
            },
            "type": "scattercarpet"
           }
          ],
          "scattergeo": [
           {
            "marker": {
             "colorbar": {
              "outlinewidth": 0,
              "ticks": ""
             }
            },
            "type": "scattergeo"
           }
          ],
          "scattergl": [
           {
            "marker": {
             "colorbar": {
              "outlinewidth": 0,
              "ticks": ""
             }
            },
            "type": "scattergl"
           }
          ],
          "scattermapbox": [
           {
            "marker": {
             "colorbar": {
              "outlinewidth": 0,
              "ticks": ""
             }
            },
            "type": "scattermapbox"
           }
          ],
          "scatterpolar": [
           {
            "marker": {
             "colorbar": {
              "outlinewidth": 0,
              "ticks": ""
             }
            },
            "type": "scatterpolar"
           }
          ],
          "scatterpolargl": [
           {
            "marker": {
             "colorbar": {
              "outlinewidth": 0,
              "ticks": ""
             }
            },
            "type": "scatterpolargl"
           }
          ],
          "scatterternary": [
           {
            "marker": {
             "colorbar": {
              "outlinewidth": 0,
              "ticks": ""
             }
            },
            "type": "scatterternary"
           }
          ],
          "surface": [
           {
            "colorbar": {
             "outlinewidth": 0,
             "ticks": ""
            },
            "colorscale": [
             [
              0,
              "#0d0887"
             ],
             [
              0.1111111111111111,
              "#46039f"
             ],
             [
              0.2222222222222222,
              "#7201a8"
             ],
             [
              0.3333333333333333,
              "#9c179e"
             ],
             [
              0.4444444444444444,
              "#bd3786"
             ],
             [
              0.5555555555555556,
              "#d8576b"
             ],
             [
              0.6666666666666666,
              "#ed7953"
             ],
             [
              0.7777777777777778,
              "#fb9f3a"
             ],
             [
              0.8888888888888888,
              "#fdca26"
             ],
             [
              1,
              "#f0f921"
             ]
            ],
            "type": "surface"
           }
          ],
          "table": [
           {
            "cells": {
             "fill": {
              "color": "#EBF0F8"
             },
             "line": {
              "color": "white"
             }
            },
            "header": {
             "fill": {
              "color": "#C8D4E3"
             },
             "line": {
              "color": "white"
             }
            },
            "type": "table"
           }
          ]
         },
         "layout": {
          "annotationdefaults": {
           "arrowcolor": "#2a3f5f",
           "arrowhead": 0,
           "arrowwidth": 1
          },
          "colorscale": {
           "diverging": [
            [
             0,
             "#8e0152"
            ],
            [
             0.1,
             "#c51b7d"
            ],
            [
             0.2,
             "#de77ae"
            ],
            [
             0.3,
             "#f1b6da"
            ],
            [
             0.4,
             "#fde0ef"
            ],
            [
             0.5,
             "#f7f7f7"
            ],
            [
             0.6,
             "#e6f5d0"
            ],
            [
             0.7,
             "#b8e186"
            ],
            [
             0.8,
             "#7fbc41"
            ],
            [
             0.9,
             "#4d9221"
            ],
            [
             1,
             "#276419"
            ]
           ],
           "sequential": [
            [
             0,
             "#0d0887"
            ],
            [
             0.1111111111111111,
             "#46039f"
            ],
            [
             0.2222222222222222,
             "#7201a8"
            ],
            [
             0.3333333333333333,
             "#9c179e"
            ],
            [
             0.4444444444444444,
             "#bd3786"
            ],
            [
             0.5555555555555556,
             "#d8576b"
            ],
            [
             0.6666666666666666,
             "#ed7953"
            ],
            [
             0.7777777777777778,
             "#fb9f3a"
            ],
            [
             0.8888888888888888,
             "#fdca26"
            ],
            [
             1,
             "#f0f921"
            ]
           ],
           "sequentialminus": [
            [
             0,
             "#0d0887"
            ],
            [
             0.1111111111111111,
             "#46039f"
            ],
            [
             0.2222222222222222,
             "#7201a8"
            ],
            [
             0.3333333333333333,
             "#9c179e"
            ],
            [
             0.4444444444444444,
             "#bd3786"
            ],
            [
             0.5555555555555556,
             "#d8576b"
            ],
            [
             0.6666666666666666,
             "#ed7953"
            ],
            [
             0.7777777777777778,
             "#fb9f3a"
            ],
            [
             0.8888888888888888,
             "#fdca26"
            ],
            [
             1,
             "#f0f921"
            ]
           ]
          },
          "colorway": [
           "#636efa",
           "#EF553B",
           "#00cc96",
           "#ab63fa",
           "#FFA15A",
           "#19d3f3",
           "#FF6692",
           "#B6E880",
           "#FF97FF",
           "#FECB52"
          ],
          "font": {
           "color": "#2a3f5f"
          },
          "geo": {
           "bgcolor": "white",
           "lakecolor": "white",
           "landcolor": "#E5ECF6",
           "showlakes": true,
           "showland": true,
           "subunitcolor": "white"
          },
          "hoverlabel": {
           "align": "left"
          },
          "hovermode": "closest",
          "mapbox": {
           "style": "light"
          },
          "paper_bgcolor": "white",
          "plot_bgcolor": "#E5ECF6",
          "polar": {
           "angularaxis": {
            "gridcolor": "white",
            "linecolor": "white",
            "ticks": ""
           },
           "bgcolor": "#E5ECF6",
           "radialaxis": {
            "gridcolor": "white",
            "linecolor": "white",
            "ticks": ""
           }
          },
          "scene": {
           "xaxis": {
            "backgroundcolor": "#E5ECF6",
            "gridcolor": "white",
            "gridwidth": 2,
            "linecolor": "white",
            "showbackground": true,
            "ticks": "",
            "zerolinecolor": "white"
           },
           "yaxis": {
            "backgroundcolor": "#E5ECF6",
            "gridcolor": "white",
            "gridwidth": 2,
            "linecolor": "white",
            "showbackground": true,
            "ticks": "",
            "zerolinecolor": "white"
           },
           "zaxis": {
            "backgroundcolor": "#E5ECF6",
            "gridcolor": "white",
            "gridwidth": 2,
            "linecolor": "white",
            "showbackground": true,
            "ticks": "",
            "zerolinecolor": "white"
           }
          },
          "shapedefaults": {
           "line": {
            "color": "#2a3f5f"
           }
          },
          "ternary": {
           "aaxis": {
            "gridcolor": "white",
            "linecolor": "white",
            "ticks": ""
           },
           "baxis": {
            "gridcolor": "white",
            "linecolor": "white",
            "ticks": ""
           },
           "bgcolor": "#E5ECF6",
           "caxis": {
            "gridcolor": "white",
            "linecolor": "white",
            "ticks": ""
           }
          },
          "title": {
           "x": 0.05
          },
          "xaxis": {
           "automargin": true,
           "gridcolor": "white",
           "linecolor": "white",
           "ticks": "",
           "zerolinecolor": "white",
           "zerolinewidth": 2
          },
          "yaxis": {
           "automargin": true,
           "gridcolor": "white",
           "linecolor": "white",
           "ticks": "",
           "zerolinecolor": "white",
           "zerolinewidth": 2
          }
         }
        },
        "title": {
         "text": "newmse:tuwen:total_recommend:(duration)"
        },
        "xaxis": {
         "type": "date"
        },
        "yaxis": {
         "title": {
          "text": "duration"
         }
        }
       }
      },
      "text/html": [
       "<div>\n",
       "        \n",
       "        \n",
       "            <div id=\"fc895d0d-88aa-47ab-af5b-63caad300403\" class=\"plotly-graph-div\" style=\"height:525px; width:100%;\"></div>\n",
       "            <script type=\"text/javascript\">\n",
       "                require([\"plotly\"], function(Plotly) {\n",
       "                    window.PLOTLYENV=window.PLOTLYENV || {};\n",
       "                    \n",
       "                if (document.getElementById(\"fc895d0d-88aa-47ab-af5b-63caad300403\")) {\n",
       "                    Plotly.newPlot(\n",
       "                        'fc895d0d-88aa-47ab-af5b-63caad300403',\n",
       "                        [{\"hovertext\": [\"0.0089\", \"0.0121\", \"-0.0018\", \"-0.0039\", \"-0.0131\", \"0.0016\", \"0.1017\", \"0.3017\", \"0.0571\", \"-0.2769\", \"-0.2836\", \"-0.2813\", \"-0.2657\", \"-0.2623\"], \"line\": {\"shape\": \"spline\", \"smoothing\": 1.0}, \"mode\": \"lines+markers\", \"name\": \"7\", \"showlegend\": true, \"type\": \"scatter\", \"x\": [\"2019-12-31T00:00:00\", \"2020-01-01T00:00:00\", \"2020-01-02T00:00:00\", \"2020-01-03T00:00:00\", \"2020-01-04T00:00:00\", \"2020-01-05T00:00:00\", \"2020-01-06T00:00:00\", \"2020-01-07T00:00:00\", \"2020-01-08T00:00:00\", \"2020-01-09T00:00:00\", \"2020-01-10T00:00:00\", \"2020-01-11T00:00:00\", \"2020-01-12T00:00:00\", \"2020-01-13T00:00:00\"], \"y\": [462832.99099553213, 514444.2755005774, 460071.0511676902, 509700.72710530704, 629514.7853561472, 660907.5976525237, 547556.4335600516, 690997.9896068756, 601343.5384398438, 487212.89494904724, 466735.12668023247, 499448.9871050301, 497832.70158349257, 444801.55454587337]}, {\"line\": {\"shape\": \"spline\", \"smoothing\": 1.0}, \"mode\": \"lines+markers\", \"name\": \"456\", \"showlegend\": true, \"type\": \"scatter\", \"x\": [\"2019-12-31T00:00:00\", \"2020-01-01T00:00:00\", \"2020-01-02T00:00:00\", \"2020-01-03T00:00:00\", \"2020-01-04T00:00:00\", \"2020-01-05T00:00:00\", \"2020-01-06T00:00:00\", \"2020-01-07T00:00:00\", \"2020-01-08T00:00:00\", \"2020-01-09T00:00:00\", \"2020-01-10T00:00:00\", \"2020-01-11T00:00:00\", \"2020-01-12T00:00:00\", \"2020-01-13T00:00:00\"], \"y\": [458766.8, 508302.3, 460906.4111111111, 511709.68333333335, 637901.8666666666, 659884.3666666667, 496999.9777777777, 530826.35, 568849.8055555555, 673802.3555555557, 651502.15, 694919.0555555555, 677939.0777777778, 602917.8333333334]}],\n",
       "                        {\"hovermode\": \"x\", \"template\": {\"data\": {\"bar\": [{\"error_x\": {\"color\": \"#2a3f5f\"}, \"error_y\": {\"color\": \"#2a3f5f\"}, \"marker\": {\"line\": {\"color\": \"#E5ECF6\", \"width\": 0.5}}, \"type\": \"bar\"}], \"barpolar\": [{\"marker\": {\"line\": {\"color\": \"#E5ECF6\", \"width\": 0.5}}, \"type\": \"barpolar\"}], \"carpet\": [{\"aaxis\": {\"endlinecolor\": \"#2a3f5f\", \"gridcolor\": \"white\", \"linecolor\": \"white\", \"minorgridcolor\": \"white\", \"startlinecolor\": \"#2a3f5f\"}, \"baxis\": {\"endlinecolor\": \"#2a3f5f\", \"gridcolor\": \"white\", \"linecolor\": \"white\", \"minorgridcolor\": \"white\", \"startlinecolor\": \"#2a3f5f\"}, \"type\": \"carpet\"}], \"choropleth\": [{\"colorbar\": {\"outlinewidth\": 0, \"ticks\": \"\"}, \"type\": \"choropleth\"}], \"contour\": [{\"colorbar\": {\"outlinewidth\": 0, \"ticks\": \"\"}, \"colorscale\": [[0.0, \"#0d0887\"], [0.1111111111111111, \"#46039f\"], [0.2222222222222222, \"#7201a8\"], [0.3333333333333333, \"#9c179e\"], [0.4444444444444444, \"#bd3786\"], [0.5555555555555556, \"#d8576b\"], [0.6666666666666666, \"#ed7953\"], [0.7777777777777778, \"#fb9f3a\"], [0.8888888888888888, \"#fdca26\"], [1.0, \"#f0f921\"]], \"type\": \"contour\"}], \"contourcarpet\": [{\"colorbar\": {\"outlinewidth\": 0, \"ticks\": \"\"}, \"type\": \"contourcarpet\"}], \"heatmap\": [{\"colorbar\": {\"outlinewidth\": 0, \"ticks\": \"\"}, \"colorscale\": [[0.0, \"#0d0887\"], [0.1111111111111111, \"#46039f\"], [0.2222222222222222, \"#7201a8\"], [0.3333333333333333, \"#9c179e\"], [0.4444444444444444, \"#bd3786\"], [0.5555555555555556, \"#d8576b\"], [0.6666666666666666, \"#ed7953\"], [0.7777777777777778, \"#fb9f3a\"], [0.8888888888888888, \"#fdca26\"], [1.0, \"#f0f921\"]], \"type\": \"heatmap\"}], \"heatmapgl\": [{\"colorbar\": {\"outlinewidth\": 0, \"ticks\": \"\"}, \"colorscale\": [[0.0, \"#0d0887\"], [0.1111111111111111, \"#46039f\"], [0.2222222222222222, \"#7201a8\"], [0.3333333333333333, \"#9c179e\"], [0.4444444444444444, \"#bd3786\"], [0.5555555555555556, \"#d8576b\"], [0.6666666666666666, \"#ed7953\"], [0.7777777777777778, \"#fb9f3a\"], [0.8888888888888888, \"#fdca26\"], [1.0, \"#f0f921\"]], \"type\": \"heatmapgl\"}], \"histogram\": [{\"marker\": {\"colorbar\": {\"outlinewidth\": 0, \"ticks\": \"\"}}, \"type\": \"histogram\"}], \"histogram2d\": [{\"colorbar\": {\"outlinewidth\": 0, \"ticks\": \"\"}, \"colorscale\": [[0.0, \"#0d0887\"], [0.1111111111111111, \"#46039f\"], [0.2222222222222222, \"#7201a8\"], [0.3333333333333333, \"#9c179e\"], [0.4444444444444444, \"#bd3786\"], [0.5555555555555556, \"#d8576b\"], [0.6666666666666666, \"#ed7953\"], [0.7777777777777778, \"#fb9f3a\"], [0.8888888888888888, \"#fdca26\"], [1.0, \"#f0f921\"]], \"type\": \"histogram2d\"}], \"histogram2dcontour\": [{\"colorbar\": {\"outlinewidth\": 0, \"ticks\": \"\"}, \"colorscale\": [[0.0, \"#0d0887\"], [0.1111111111111111, \"#46039f\"], [0.2222222222222222, \"#7201a8\"], [0.3333333333333333, \"#9c179e\"], [0.4444444444444444, \"#bd3786\"], [0.5555555555555556, \"#d8576b\"], [0.6666666666666666, \"#ed7953\"], [0.7777777777777778, \"#fb9f3a\"], [0.8888888888888888, \"#fdca26\"], [1.0, \"#f0f921\"]], \"type\": \"histogram2dcontour\"}], \"mesh3d\": [{\"colorbar\": {\"outlinewidth\": 0, \"ticks\": \"\"}, \"type\": \"mesh3d\"}], \"parcoords\": [{\"line\": {\"colorbar\": {\"outlinewidth\": 0, \"ticks\": \"\"}}, \"type\": \"parcoords\"}], \"scatter\": [{\"marker\": {\"colorbar\": {\"outlinewidth\": 0, \"ticks\": \"\"}}, \"type\": \"scatter\"}], \"scatter3d\": [{\"line\": {\"colorbar\": {\"outlinewidth\": 0, \"ticks\": \"\"}}, \"marker\": {\"colorbar\": {\"outlinewidth\": 0, \"ticks\": \"\"}}, \"type\": \"scatter3d\"}], \"scattercarpet\": [{\"marker\": {\"colorbar\": {\"outlinewidth\": 0, \"ticks\": \"\"}}, \"type\": \"scattercarpet\"}], \"scattergeo\": [{\"marker\": {\"colorbar\": {\"outlinewidth\": 0, \"ticks\": \"\"}}, \"type\": \"scattergeo\"}], \"scattergl\": [{\"marker\": {\"colorbar\": {\"outlinewidth\": 0, \"ticks\": \"\"}}, \"type\": \"scattergl\"}], \"scattermapbox\": [{\"marker\": {\"colorbar\": {\"outlinewidth\": 0, \"ticks\": \"\"}}, \"type\": \"scattermapbox\"}], \"scatterpolar\": [{\"marker\": {\"colorbar\": {\"outlinewidth\": 0, \"ticks\": \"\"}}, \"type\": \"scatterpolar\"}], \"scatterpolargl\": [{\"marker\": {\"colorbar\": {\"outlinewidth\": 0, \"ticks\": \"\"}}, \"type\": \"scatterpolargl\"}], \"scatterternary\": [{\"marker\": {\"colorbar\": {\"outlinewidth\": 0, \"ticks\": \"\"}}, \"type\": \"scatterternary\"}], \"surface\": [{\"colorbar\": {\"outlinewidth\": 0, \"ticks\": \"\"}, \"colorscale\": [[0.0, \"#0d0887\"], [0.1111111111111111, \"#46039f\"], [0.2222222222222222, \"#7201a8\"], [0.3333333333333333, \"#9c179e\"], [0.4444444444444444, \"#bd3786\"], [0.5555555555555556, \"#d8576b\"], [0.6666666666666666, \"#ed7953\"], [0.7777777777777778, \"#fb9f3a\"], [0.8888888888888888, \"#fdca26\"], [1.0, \"#f0f921\"]], \"type\": \"surface\"}], \"table\": [{\"cells\": {\"fill\": {\"color\": \"#EBF0F8\"}, \"line\": {\"color\": \"white\"}}, \"header\": {\"fill\": {\"color\": \"#C8D4E3\"}, \"line\": {\"color\": \"white\"}}, \"type\": \"table\"}]}, \"layout\": {\"annotationdefaults\": {\"arrowcolor\": \"#2a3f5f\", \"arrowhead\": 0, \"arrowwidth\": 1}, \"colorscale\": {\"diverging\": [[0, \"#8e0152\"], [0.1, \"#c51b7d\"], [0.2, \"#de77ae\"], [0.3, \"#f1b6da\"], [0.4, \"#fde0ef\"], [0.5, \"#f7f7f7\"], [0.6, \"#e6f5d0\"], [0.7, \"#b8e186\"], [0.8, \"#7fbc41\"], [0.9, \"#4d9221\"], [1, \"#276419\"]], \"sequential\": [[0.0, \"#0d0887\"], [0.1111111111111111, \"#46039f\"], [0.2222222222222222, \"#7201a8\"], [0.3333333333333333, \"#9c179e\"], [0.4444444444444444, \"#bd3786\"], [0.5555555555555556, \"#d8576b\"], [0.6666666666666666, \"#ed7953\"], [0.7777777777777778, \"#fb9f3a\"], [0.8888888888888888, \"#fdca26\"], [1.0, \"#f0f921\"]], \"sequentialminus\": [[0.0, \"#0d0887\"], [0.1111111111111111, \"#46039f\"], [0.2222222222222222, \"#7201a8\"], [0.3333333333333333, \"#9c179e\"], [0.4444444444444444, \"#bd3786\"], [0.5555555555555556, \"#d8576b\"], [0.6666666666666666, \"#ed7953\"], [0.7777777777777778, \"#fb9f3a\"], [0.8888888888888888, \"#fdca26\"], [1.0, \"#f0f921\"]]}, \"colorway\": [\"#636efa\", \"#EF553B\", \"#00cc96\", \"#ab63fa\", \"#FFA15A\", \"#19d3f3\", \"#FF6692\", \"#B6E880\", \"#FF97FF\", \"#FECB52\"], \"font\": {\"color\": \"#2a3f5f\"}, \"geo\": {\"bgcolor\": \"white\", \"lakecolor\": \"white\", \"landcolor\": \"#E5ECF6\", \"showlakes\": true, \"showland\": true, \"subunitcolor\": \"white\"}, \"hoverlabel\": {\"align\": \"left\"}, \"hovermode\": \"closest\", \"mapbox\": {\"style\": \"light\"}, \"paper_bgcolor\": \"white\", \"plot_bgcolor\": \"#E5ECF6\", \"polar\": {\"angularaxis\": {\"gridcolor\": \"white\", \"linecolor\": \"white\", \"ticks\": \"\"}, \"bgcolor\": \"#E5ECF6\", \"radialaxis\": {\"gridcolor\": \"white\", \"linecolor\": \"white\", \"ticks\": \"\"}}, \"scene\": {\"xaxis\": {\"backgroundcolor\": \"#E5ECF6\", \"gridcolor\": \"white\", \"gridwidth\": 2, \"linecolor\": \"white\", \"showbackground\": true, \"ticks\": \"\", \"zerolinecolor\": \"white\"}, \"yaxis\": {\"backgroundcolor\": \"#E5ECF6\", \"gridcolor\": \"white\", \"gridwidth\": 2, \"linecolor\": \"white\", \"showbackground\": true, \"ticks\": \"\", \"zerolinecolor\": \"white\"}, \"zaxis\": {\"backgroundcolor\": \"#E5ECF6\", \"gridcolor\": \"white\", \"gridwidth\": 2, \"linecolor\": \"white\", \"showbackground\": true, \"ticks\": \"\", \"zerolinecolor\": \"white\"}}, \"shapedefaults\": {\"line\": {\"color\": \"#2a3f5f\"}}, \"ternary\": {\"aaxis\": {\"gridcolor\": \"white\", \"linecolor\": \"white\", \"ticks\": \"\"}, \"baxis\": {\"gridcolor\": \"white\", \"linecolor\": \"white\", \"ticks\": \"\"}, \"bgcolor\": \"#E5ECF6\", \"caxis\": {\"gridcolor\": \"white\", \"linecolor\": \"white\", \"ticks\": \"\"}}, \"title\": {\"x\": 0.05}, \"xaxis\": {\"automargin\": true, \"gridcolor\": \"white\", \"linecolor\": \"white\", \"ticks\": \"\", \"zerolinecolor\": \"white\", \"zerolinewidth\": 2}, \"yaxis\": {\"automargin\": true, \"gridcolor\": \"white\", \"linecolor\": \"white\", \"ticks\": \"\", \"zerolinecolor\": \"white\", \"zerolinewidth\": 2}}}, \"title\": {\"text\": \"newmse:tuwen:total_recommend:(duration)\"}, \"xaxis\": {\"type\": \"date\"}, \"yaxis\": {\"title\": {\"text\": \"duration\"}}},\n",
       "                        {\"responsive\": true}\n",
       "                    ).then(function(){\n",
       "                            \n",
       "var gd = document.getElementById('fc895d0d-88aa-47ab-af5b-63caad300403');\n",
       "var x = new MutationObserver(function (mutations, observer) {{\n",
       "        var display = window.getComputedStyle(gd).display;\n",
       "        if (!display || display === 'none') {{\n",
       "            console.log([gd, 'removed!']);\n",
       "            Plotly.purge(gd);\n",
       "            observer.disconnect();\n",
       "        }}\n",
       "}});\n",
       "\n",
       "// Listen for the removal of the full notebook cells\n",
       "var notebookContainer = gd.closest('#notebook-container');\n",
       "if (notebookContainer) {{\n",
       "    x.observe(notebookContainer, {childList: true});\n",
       "}}\n",
       "\n",
       "// Listen for the clearing of the current output cell\n",
       "var outputEl = gd.closest('.output');\n",
       "if (outputEl) {{\n",
       "    x.observe(outputEl, {childList: true});\n",
       "}}\n",
       "\n",
       "                        })\n",
       "                };\n",
       "                });\n",
       "            </script>\n",
       "        </div>"
      ]
     },
     "metadata": {},
     "output_type": "display_data"
    },
    {
     "data": {
      "application/vnd.plotly.v1+json": {
       "config": {
        "linkText": "Export to plot.ly",
        "plotlyServerURL": "https://plot.ly",
        "showLink": false
       },
       "data": [
        {
         "hovertext": [
          "0.0104",
          "-0.0050",
          "0.0022",
          "0.0070",
          "-0.0094",
          "-0.0042",
          "-0.0034",
          "0.0012",
          "0.0132",
          "0.0073",
          "-0.0010",
          "-0.0287",
          "-0.0250",
          "-0.0258"
         ],
         "line": {
          "shape": "spline",
          "smoothing": 1
         },
         "mode": "lines+markers",
         "name": "7",
         "showlegend": true,
         "type": "scatter",
         "x": [
          "2019-12-31T00:00:00",
          "2020-01-01T00:00:00",
          "2020-01-02T00:00:00",
          "2020-01-03T00:00:00",
          "2020-01-04T00:00:00",
          "2020-01-05T00:00:00",
          "2020-01-06T00:00:00",
          "2020-01-07T00:00:00",
          "2020-01-08T00:00:00",
          "2020-01-09T00:00:00",
          "2020-01-10T00:00:00",
          "2020-01-11T00:00:00",
          "2020-01-12T00:00:00",
          "2020-01-13T00:00:00"
         ],
         "y": [
          47103.57470185103,
          48120.8434439684,
          46638.00989734031,
          47126.51406122487,
          48417.1942211032,
          50145.863674512206,
          47153.79825098301,
          47799.60324857185,
          48409.47126316864,
          46471.42487619631,
          46193.48551914089,
          46490.15021746792,
          46489.36305781215,
          44548.06815462943
         ]
        },
        {
         "line": {
          "shape": "spline",
          "smoothing": 1
         },
         "mode": "lines+markers",
         "name": "456",
         "showlegend": true,
         "type": "scatter",
         "x": [
          "2019-12-31T00:00:00",
          "2020-01-01T00:00:00",
          "2020-01-02T00:00:00",
          "2020-01-03T00:00:00",
          "2020-01-04T00:00:00",
          "2020-01-05T00:00:00",
          "2020-01-06T00:00:00",
          "2020-01-07T00:00:00",
          "2020-01-08T00:00:00",
          "2020-01-09T00:00:00",
          "2020-01-10T00:00:00",
          "2020-01-11T00:00:00",
          "2020-01-12T00:00:00",
          "2020-01-13T00:00:00"
         ],
         "y": [
          46620.333333333336,
          48363,
          46535,
          46797.666666666664,
          48876.333333333336,
          50359.666666666664,
          47313.333333333336,
          47740.666666666664,
          47780.333333333336,
          46135,
          46238,
          47861.666666666664,
          47679,
          45727
         ]
        }
       ],
       "layout": {
        "hovermode": "x",
        "template": {
         "data": {
          "bar": [
           {
            "error_x": {
             "color": "#2a3f5f"
            },
            "error_y": {
             "color": "#2a3f5f"
            },
            "marker": {
             "line": {
              "color": "#E5ECF6",
              "width": 0.5
             }
            },
            "type": "bar"
           }
          ],
          "barpolar": [
           {
            "marker": {
             "line": {
              "color": "#E5ECF6",
              "width": 0.5
             }
            },
            "type": "barpolar"
           }
          ],
          "carpet": [
           {
            "aaxis": {
             "endlinecolor": "#2a3f5f",
             "gridcolor": "white",
             "linecolor": "white",
             "minorgridcolor": "white",
             "startlinecolor": "#2a3f5f"
            },
            "baxis": {
             "endlinecolor": "#2a3f5f",
             "gridcolor": "white",
             "linecolor": "white",
             "minorgridcolor": "white",
             "startlinecolor": "#2a3f5f"
            },
            "type": "carpet"
           }
          ],
          "choropleth": [
           {
            "colorbar": {
             "outlinewidth": 0,
             "ticks": ""
            },
            "type": "choropleth"
           }
          ],
          "contour": [
           {
            "colorbar": {
             "outlinewidth": 0,
             "ticks": ""
            },
            "colorscale": [
             [
              0,
              "#0d0887"
             ],
             [
              0.1111111111111111,
              "#46039f"
             ],
             [
              0.2222222222222222,
              "#7201a8"
             ],
             [
              0.3333333333333333,
              "#9c179e"
             ],
             [
              0.4444444444444444,
              "#bd3786"
             ],
             [
              0.5555555555555556,
              "#d8576b"
             ],
             [
              0.6666666666666666,
              "#ed7953"
             ],
             [
              0.7777777777777778,
              "#fb9f3a"
             ],
             [
              0.8888888888888888,
              "#fdca26"
             ],
             [
              1,
              "#f0f921"
             ]
            ],
            "type": "contour"
           }
          ],
          "contourcarpet": [
           {
            "colorbar": {
             "outlinewidth": 0,
             "ticks": ""
            },
            "type": "contourcarpet"
           }
          ],
          "heatmap": [
           {
            "colorbar": {
             "outlinewidth": 0,
             "ticks": ""
            },
            "colorscale": [
             [
              0,
              "#0d0887"
             ],
             [
              0.1111111111111111,
              "#46039f"
             ],
             [
              0.2222222222222222,
              "#7201a8"
             ],
             [
              0.3333333333333333,
              "#9c179e"
             ],
             [
              0.4444444444444444,
              "#bd3786"
             ],
             [
              0.5555555555555556,
              "#d8576b"
             ],
             [
              0.6666666666666666,
              "#ed7953"
             ],
             [
              0.7777777777777778,
              "#fb9f3a"
             ],
             [
              0.8888888888888888,
              "#fdca26"
             ],
             [
              1,
              "#f0f921"
             ]
            ],
            "type": "heatmap"
           }
          ],
          "heatmapgl": [
           {
            "colorbar": {
             "outlinewidth": 0,
             "ticks": ""
            },
            "colorscale": [
             [
              0,
              "#0d0887"
             ],
             [
              0.1111111111111111,
              "#46039f"
             ],
             [
              0.2222222222222222,
              "#7201a8"
             ],
             [
              0.3333333333333333,
              "#9c179e"
             ],
             [
              0.4444444444444444,
              "#bd3786"
             ],
             [
              0.5555555555555556,
              "#d8576b"
             ],
             [
              0.6666666666666666,
              "#ed7953"
             ],
             [
              0.7777777777777778,
              "#fb9f3a"
             ],
             [
              0.8888888888888888,
              "#fdca26"
             ],
             [
              1,
              "#f0f921"
             ]
            ],
            "type": "heatmapgl"
           }
          ],
          "histogram": [
           {
            "marker": {
             "colorbar": {
              "outlinewidth": 0,
              "ticks": ""
             }
            },
            "type": "histogram"
           }
          ],
          "histogram2d": [
           {
            "colorbar": {
             "outlinewidth": 0,
             "ticks": ""
            },
            "colorscale": [
             [
              0,
              "#0d0887"
             ],
             [
              0.1111111111111111,
              "#46039f"
             ],
             [
              0.2222222222222222,
              "#7201a8"
             ],
             [
              0.3333333333333333,
              "#9c179e"
             ],
             [
              0.4444444444444444,
              "#bd3786"
             ],
             [
              0.5555555555555556,
              "#d8576b"
             ],
             [
              0.6666666666666666,
              "#ed7953"
             ],
             [
              0.7777777777777778,
              "#fb9f3a"
             ],
             [
              0.8888888888888888,
              "#fdca26"
             ],
             [
              1,
              "#f0f921"
             ]
            ],
            "type": "histogram2d"
           }
          ],
          "histogram2dcontour": [
           {
            "colorbar": {
             "outlinewidth": 0,
             "ticks": ""
            },
            "colorscale": [
             [
              0,
              "#0d0887"
             ],
             [
              0.1111111111111111,
              "#46039f"
             ],
             [
              0.2222222222222222,
              "#7201a8"
             ],
             [
              0.3333333333333333,
              "#9c179e"
             ],
             [
              0.4444444444444444,
              "#bd3786"
             ],
             [
              0.5555555555555556,
              "#d8576b"
             ],
             [
              0.6666666666666666,
              "#ed7953"
             ],
             [
              0.7777777777777778,
              "#fb9f3a"
             ],
             [
              0.8888888888888888,
              "#fdca26"
             ],
             [
              1,
              "#f0f921"
             ]
            ],
            "type": "histogram2dcontour"
           }
          ],
          "mesh3d": [
           {
            "colorbar": {
             "outlinewidth": 0,
             "ticks": ""
            },
            "type": "mesh3d"
           }
          ],
          "parcoords": [
           {
            "line": {
             "colorbar": {
              "outlinewidth": 0,
              "ticks": ""
             }
            },
            "type": "parcoords"
           }
          ],
          "scatter": [
           {
            "marker": {
             "colorbar": {
              "outlinewidth": 0,
              "ticks": ""
             }
            },
            "type": "scatter"
           }
          ],
          "scatter3d": [
           {
            "line": {
             "colorbar": {
              "outlinewidth": 0,
              "ticks": ""
             }
            },
            "marker": {
             "colorbar": {
              "outlinewidth": 0,
              "ticks": ""
             }
            },
            "type": "scatter3d"
           }
          ],
          "scattercarpet": [
           {
            "marker": {
             "colorbar": {
              "outlinewidth": 0,
              "ticks": ""
             }
            },
            "type": "scattercarpet"
           }
          ],
          "scattergeo": [
           {
            "marker": {
             "colorbar": {
              "outlinewidth": 0,
              "ticks": ""
             }
            },
            "type": "scattergeo"
           }
          ],
          "scattergl": [
           {
            "marker": {
             "colorbar": {
              "outlinewidth": 0,
              "ticks": ""
             }
            },
            "type": "scattergl"
           }
          ],
          "scattermapbox": [
           {
            "marker": {
             "colorbar": {
              "outlinewidth": 0,
              "ticks": ""
             }
            },
            "type": "scattermapbox"
           }
          ],
          "scatterpolar": [
           {
            "marker": {
             "colorbar": {
              "outlinewidth": 0,
              "ticks": ""
             }
            },
            "type": "scatterpolar"
           }
          ],
          "scatterpolargl": [
           {
            "marker": {
             "colorbar": {
              "outlinewidth": 0,
              "ticks": ""
             }
            },
            "type": "scatterpolargl"
           }
          ],
          "scatterternary": [
           {
            "marker": {
             "colorbar": {
              "outlinewidth": 0,
              "ticks": ""
             }
            },
            "type": "scatterternary"
           }
          ],
          "surface": [
           {
            "colorbar": {
             "outlinewidth": 0,
             "ticks": ""
            },
            "colorscale": [
             [
              0,
              "#0d0887"
             ],
             [
              0.1111111111111111,
              "#46039f"
             ],
             [
              0.2222222222222222,
              "#7201a8"
             ],
             [
              0.3333333333333333,
              "#9c179e"
             ],
             [
              0.4444444444444444,
              "#bd3786"
             ],
             [
              0.5555555555555556,
              "#d8576b"
             ],
             [
              0.6666666666666666,
              "#ed7953"
             ],
             [
              0.7777777777777778,
              "#fb9f3a"
             ],
             [
              0.8888888888888888,
              "#fdca26"
             ],
             [
              1,
              "#f0f921"
             ]
            ],
            "type": "surface"
           }
          ],
          "table": [
           {
            "cells": {
             "fill": {
              "color": "#EBF0F8"
             },
             "line": {
              "color": "white"
             }
            },
            "header": {
             "fill": {
              "color": "#C8D4E3"
             },
             "line": {
              "color": "white"
             }
            },
            "type": "table"
           }
          ]
         },
         "layout": {
          "annotationdefaults": {
           "arrowcolor": "#2a3f5f",
           "arrowhead": 0,
           "arrowwidth": 1
          },
          "colorscale": {
           "diverging": [
            [
             0,
             "#8e0152"
            ],
            [
             0.1,
             "#c51b7d"
            ],
            [
             0.2,
             "#de77ae"
            ],
            [
             0.3,
             "#f1b6da"
            ],
            [
             0.4,
             "#fde0ef"
            ],
            [
             0.5,
             "#f7f7f7"
            ],
            [
             0.6,
             "#e6f5d0"
            ],
            [
             0.7,
             "#b8e186"
            ],
            [
             0.8,
             "#7fbc41"
            ],
            [
             0.9,
             "#4d9221"
            ],
            [
             1,
             "#276419"
            ]
           ],
           "sequential": [
            [
             0,
             "#0d0887"
            ],
            [
             0.1111111111111111,
             "#46039f"
            ],
            [
             0.2222222222222222,
             "#7201a8"
            ],
            [
             0.3333333333333333,
             "#9c179e"
            ],
            [
             0.4444444444444444,
             "#bd3786"
            ],
            [
             0.5555555555555556,
             "#d8576b"
            ],
            [
             0.6666666666666666,
             "#ed7953"
            ],
            [
             0.7777777777777778,
             "#fb9f3a"
            ],
            [
             0.8888888888888888,
             "#fdca26"
            ],
            [
             1,
             "#f0f921"
            ]
           ],
           "sequentialminus": [
            [
             0,
             "#0d0887"
            ],
            [
             0.1111111111111111,
             "#46039f"
            ],
            [
             0.2222222222222222,
             "#7201a8"
            ],
            [
             0.3333333333333333,
             "#9c179e"
            ],
            [
             0.4444444444444444,
             "#bd3786"
            ],
            [
             0.5555555555555556,
             "#d8576b"
            ],
            [
             0.6666666666666666,
             "#ed7953"
            ],
            [
             0.7777777777777778,
             "#fb9f3a"
            ],
            [
             0.8888888888888888,
             "#fdca26"
            ],
            [
             1,
             "#f0f921"
            ]
           ]
          },
          "colorway": [
           "#636efa",
           "#EF553B",
           "#00cc96",
           "#ab63fa",
           "#FFA15A",
           "#19d3f3",
           "#FF6692",
           "#B6E880",
           "#FF97FF",
           "#FECB52"
          ],
          "font": {
           "color": "#2a3f5f"
          },
          "geo": {
           "bgcolor": "white",
           "lakecolor": "white",
           "landcolor": "#E5ECF6",
           "showlakes": true,
           "showland": true,
           "subunitcolor": "white"
          },
          "hoverlabel": {
           "align": "left"
          },
          "hovermode": "closest",
          "mapbox": {
           "style": "light"
          },
          "paper_bgcolor": "white",
          "plot_bgcolor": "#E5ECF6",
          "polar": {
           "angularaxis": {
            "gridcolor": "white",
            "linecolor": "white",
            "ticks": ""
           },
           "bgcolor": "#E5ECF6",
           "radialaxis": {
            "gridcolor": "white",
            "linecolor": "white",
            "ticks": ""
           }
          },
          "scene": {
           "xaxis": {
            "backgroundcolor": "#E5ECF6",
            "gridcolor": "white",
            "gridwidth": 2,
            "linecolor": "white",
            "showbackground": true,
            "ticks": "",
            "zerolinecolor": "white"
           },
           "yaxis": {
            "backgroundcolor": "#E5ECF6",
            "gridcolor": "white",
            "gridwidth": 2,
            "linecolor": "white",
            "showbackground": true,
            "ticks": "",
            "zerolinecolor": "white"
           },
           "zaxis": {
            "backgroundcolor": "#E5ECF6",
            "gridcolor": "white",
            "gridwidth": 2,
            "linecolor": "white",
            "showbackground": true,
            "ticks": "",
            "zerolinecolor": "white"
           }
          },
          "shapedefaults": {
           "line": {
            "color": "#2a3f5f"
           }
          },
          "ternary": {
           "aaxis": {
            "gridcolor": "white",
            "linecolor": "white",
            "ticks": ""
           },
           "baxis": {
            "gridcolor": "white",
            "linecolor": "white",
            "ticks": ""
           },
           "bgcolor": "#E5ECF6",
           "caxis": {
            "gridcolor": "white",
            "linecolor": "white",
            "ticks": ""
           }
          },
          "title": {
           "x": 0.05
          },
          "xaxis": {
           "automargin": true,
           "gridcolor": "white",
           "linecolor": "white",
           "ticks": "",
           "zerolinecolor": "white",
           "zerolinewidth": 2
          },
          "yaxis": {
           "automargin": true,
           "gridcolor": "white",
           "linecolor": "white",
           "ticks": "",
           "zerolinecolor": "white",
           "zerolinewidth": 2
          }
         }
        },
        "title": {
         "text": "newmse:tuwen:total_recommend:(click_user)"
        },
        "xaxis": {
         "type": "date"
        },
        "yaxis": {
         "title": {
          "text": "click_user"
         }
        }
       }
      },
      "text/html": [
       "<div>\n",
       "        \n",
       "        \n",
       "            <div id=\"340680fc-502a-43ea-ba36-f22ff05f8d5e\" class=\"plotly-graph-div\" style=\"height:525px; width:100%;\"></div>\n",
       "            <script type=\"text/javascript\">\n",
       "                require([\"plotly\"], function(Plotly) {\n",
       "                    window.PLOTLYENV=window.PLOTLYENV || {};\n",
       "                    \n",
       "                if (document.getElementById(\"340680fc-502a-43ea-ba36-f22ff05f8d5e\")) {\n",
       "                    Plotly.newPlot(\n",
       "                        '340680fc-502a-43ea-ba36-f22ff05f8d5e',\n",
       "                        [{\"hovertext\": [\"0.0104\", \"-0.0050\", \"0.0022\", \"0.0070\", \"-0.0094\", \"-0.0042\", \"-0.0034\", \"0.0012\", \"0.0132\", \"0.0073\", \"-0.0010\", \"-0.0287\", \"-0.0250\", \"-0.0258\"], \"line\": {\"shape\": \"spline\", \"smoothing\": 1.0}, \"mode\": \"lines+markers\", \"name\": \"7\", \"showlegend\": true, \"type\": \"scatter\", \"x\": [\"2019-12-31T00:00:00\", \"2020-01-01T00:00:00\", \"2020-01-02T00:00:00\", \"2020-01-03T00:00:00\", \"2020-01-04T00:00:00\", \"2020-01-05T00:00:00\", \"2020-01-06T00:00:00\", \"2020-01-07T00:00:00\", \"2020-01-08T00:00:00\", \"2020-01-09T00:00:00\", \"2020-01-10T00:00:00\", \"2020-01-11T00:00:00\", \"2020-01-12T00:00:00\", \"2020-01-13T00:00:00\"], \"y\": [47103.57470185103, 48120.8434439684, 46638.00989734031, 47126.51406122487, 48417.1942211032, 50145.863674512206, 47153.79825098301, 47799.60324857185, 48409.47126316864, 46471.42487619631, 46193.48551914089, 46490.15021746792, 46489.36305781215, 44548.06815462943]}, {\"line\": {\"shape\": \"spline\", \"smoothing\": 1.0}, \"mode\": \"lines+markers\", \"name\": \"456\", \"showlegend\": true, \"type\": \"scatter\", \"x\": [\"2019-12-31T00:00:00\", \"2020-01-01T00:00:00\", \"2020-01-02T00:00:00\", \"2020-01-03T00:00:00\", \"2020-01-04T00:00:00\", \"2020-01-05T00:00:00\", \"2020-01-06T00:00:00\", \"2020-01-07T00:00:00\", \"2020-01-08T00:00:00\", \"2020-01-09T00:00:00\", \"2020-01-10T00:00:00\", \"2020-01-11T00:00:00\", \"2020-01-12T00:00:00\", \"2020-01-13T00:00:00\"], \"y\": [46620.333333333336, 48363.0, 46535.0, 46797.666666666664, 48876.333333333336, 50359.666666666664, 47313.333333333336, 47740.666666666664, 47780.333333333336, 46135.0, 46238.0, 47861.666666666664, 47679.0, 45727.0]}],\n",
       "                        {\"hovermode\": \"x\", \"template\": {\"data\": {\"bar\": [{\"error_x\": {\"color\": \"#2a3f5f\"}, \"error_y\": {\"color\": \"#2a3f5f\"}, \"marker\": {\"line\": {\"color\": \"#E5ECF6\", \"width\": 0.5}}, \"type\": \"bar\"}], \"barpolar\": [{\"marker\": {\"line\": {\"color\": \"#E5ECF6\", \"width\": 0.5}}, \"type\": \"barpolar\"}], \"carpet\": [{\"aaxis\": {\"endlinecolor\": \"#2a3f5f\", \"gridcolor\": \"white\", \"linecolor\": \"white\", \"minorgridcolor\": \"white\", \"startlinecolor\": \"#2a3f5f\"}, \"baxis\": {\"endlinecolor\": \"#2a3f5f\", \"gridcolor\": \"white\", \"linecolor\": \"white\", \"minorgridcolor\": \"white\", \"startlinecolor\": \"#2a3f5f\"}, \"type\": \"carpet\"}], \"choropleth\": [{\"colorbar\": {\"outlinewidth\": 0, \"ticks\": \"\"}, \"type\": \"choropleth\"}], \"contour\": [{\"colorbar\": {\"outlinewidth\": 0, \"ticks\": \"\"}, \"colorscale\": [[0.0, \"#0d0887\"], [0.1111111111111111, \"#46039f\"], [0.2222222222222222, \"#7201a8\"], [0.3333333333333333, \"#9c179e\"], [0.4444444444444444, \"#bd3786\"], [0.5555555555555556, \"#d8576b\"], [0.6666666666666666, \"#ed7953\"], [0.7777777777777778, \"#fb9f3a\"], [0.8888888888888888, \"#fdca26\"], [1.0, \"#f0f921\"]], \"type\": \"contour\"}], \"contourcarpet\": [{\"colorbar\": {\"outlinewidth\": 0, \"ticks\": \"\"}, \"type\": \"contourcarpet\"}], \"heatmap\": [{\"colorbar\": {\"outlinewidth\": 0, \"ticks\": \"\"}, \"colorscale\": [[0.0, \"#0d0887\"], [0.1111111111111111, \"#46039f\"], [0.2222222222222222, \"#7201a8\"], [0.3333333333333333, \"#9c179e\"], [0.4444444444444444, \"#bd3786\"], [0.5555555555555556, \"#d8576b\"], [0.6666666666666666, \"#ed7953\"], [0.7777777777777778, \"#fb9f3a\"], [0.8888888888888888, \"#fdca26\"], [1.0, \"#f0f921\"]], \"type\": \"heatmap\"}], \"heatmapgl\": [{\"colorbar\": {\"outlinewidth\": 0, \"ticks\": \"\"}, \"colorscale\": [[0.0, \"#0d0887\"], [0.1111111111111111, \"#46039f\"], [0.2222222222222222, \"#7201a8\"], [0.3333333333333333, \"#9c179e\"], [0.4444444444444444, \"#bd3786\"], [0.5555555555555556, \"#d8576b\"], [0.6666666666666666, \"#ed7953\"], [0.7777777777777778, \"#fb9f3a\"], [0.8888888888888888, \"#fdca26\"], [1.0, \"#f0f921\"]], \"type\": \"heatmapgl\"}], \"histogram\": [{\"marker\": {\"colorbar\": {\"outlinewidth\": 0, \"ticks\": \"\"}}, \"type\": \"histogram\"}], \"histogram2d\": [{\"colorbar\": {\"outlinewidth\": 0, \"ticks\": \"\"}, \"colorscale\": [[0.0, \"#0d0887\"], [0.1111111111111111, \"#46039f\"], [0.2222222222222222, \"#7201a8\"], [0.3333333333333333, \"#9c179e\"], [0.4444444444444444, \"#bd3786\"], [0.5555555555555556, \"#d8576b\"], [0.6666666666666666, \"#ed7953\"], [0.7777777777777778, \"#fb9f3a\"], [0.8888888888888888, \"#fdca26\"], [1.0, \"#f0f921\"]], \"type\": \"histogram2d\"}], \"histogram2dcontour\": [{\"colorbar\": {\"outlinewidth\": 0, \"ticks\": \"\"}, \"colorscale\": [[0.0, \"#0d0887\"], [0.1111111111111111, \"#46039f\"], [0.2222222222222222, \"#7201a8\"], [0.3333333333333333, \"#9c179e\"], [0.4444444444444444, \"#bd3786\"], [0.5555555555555556, \"#d8576b\"], [0.6666666666666666, \"#ed7953\"], [0.7777777777777778, \"#fb9f3a\"], [0.8888888888888888, \"#fdca26\"], [1.0, \"#f0f921\"]], \"type\": \"histogram2dcontour\"}], \"mesh3d\": [{\"colorbar\": {\"outlinewidth\": 0, \"ticks\": \"\"}, \"type\": \"mesh3d\"}], \"parcoords\": [{\"line\": {\"colorbar\": {\"outlinewidth\": 0, \"ticks\": \"\"}}, \"type\": \"parcoords\"}], \"scatter\": [{\"marker\": {\"colorbar\": {\"outlinewidth\": 0, \"ticks\": \"\"}}, \"type\": \"scatter\"}], \"scatter3d\": [{\"line\": {\"colorbar\": {\"outlinewidth\": 0, \"ticks\": \"\"}}, \"marker\": {\"colorbar\": {\"outlinewidth\": 0, \"ticks\": \"\"}}, \"type\": \"scatter3d\"}], \"scattercarpet\": [{\"marker\": {\"colorbar\": {\"outlinewidth\": 0, \"ticks\": \"\"}}, \"type\": \"scattercarpet\"}], \"scattergeo\": [{\"marker\": {\"colorbar\": {\"outlinewidth\": 0, \"ticks\": \"\"}}, \"type\": \"scattergeo\"}], \"scattergl\": [{\"marker\": {\"colorbar\": {\"outlinewidth\": 0, \"ticks\": \"\"}}, \"type\": \"scattergl\"}], \"scattermapbox\": [{\"marker\": {\"colorbar\": {\"outlinewidth\": 0, \"ticks\": \"\"}}, \"type\": \"scattermapbox\"}], \"scatterpolar\": [{\"marker\": {\"colorbar\": {\"outlinewidth\": 0, \"ticks\": \"\"}}, \"type\": \"scatterpolar\"}], \"scatterpolargl\": [{\"marker\": {\"colorbar\": {\"outlinewidth\": 0, \"ticks\": \"\"}}, \"type\": \"scatterpolargl\"}], \"scatterternary\": [{\"marker\": {\"colorbar\": {\"outlinewidth\": 0, \"ticks\": \"\"}}, \"type\": \"scatterternary\"}], \"surface\": [{\"colorbar\": {\"outlinewidth\": 0, \"ticks\": \"\"}, \"colorscale\": [[0.0, \"#0d0887\"], [0.1111111111111111, \"#46039f\"], [0.2222222222222222, \"#7201a8\"], [0.3333333333333333, \"#9c179e\"], [0.4444444444444444, \"#bd3786\"], [0.5555555555555556, \"#d8576b\"], [0.6666666666666666, \"#ed7953\"], [0.7777777777777778, \"#fb9f3a\"], [0.8888888888888888, \"#fdca26\"], [1.0, \"#f0f921\"]], \"type\": \"surface\"}], \"table\": [{\"cells\": {\"fill\": {\"color\": \"#EBF0F8\"}, \"line\": {\"color\": \"white\"}}, \"header\": {\"fill\": {\"color\": \"#C8D4E3\"}, \"line\": {\"color\": \"white\"}}, \"type\": \"table\"}]}, \"layout\": {\"annotationdefaults\": {\"arrowcolor\": \"#2a3f5f\", \"arrowhead\": 0, \"arrowwidth\": 1}, \"colorscale\": {\"diverging\": [[0, \"#8e0152\"], [0.1, \"#c51b7d\"], [0.2, \"#de77ae\"], [0.3, \"#f1b6da\"], [0.4, \"#fde0ef\"], [0.5, \"#f7f7f7\"], [0.6, \"#e6f5d0\"], [0.7, \"#b8e186\"], [0.8, \"#7fbc41\"], [0.9, \"#4d9221\"], [1, \"#276419\"]], \"sequential\": [[0.0, \"#0d0887\"], [0.1111111111111111, \"#46039f\"], [0.2222222222222222, \"#7201a8\"], [0.3333333333333333, \"#9c179e\"], [0.4444444444444444, \"#bd3786\"], [0.5555555555555556, \"#d8576b\"], [0.6666666666666666, \"#ed7953\"], [0.7777777777777778, \"#fb9f3a\"], [0.8888888888888888, \"#fdca26\"], [1.0, \"#f0f921\"]], \"sequentialminus\": [[0.0, \"#0d0887\"], [0.1111111111111111, \"#46039f\"], [0.2222222222222222, \"#7201a8\"], [0.3333333333333333, \"#9c179e\"], [0.4444444444444444, \"#bd3786\"], [0.5555555555555556, \"#d8576b\"], [0.6666666666666666, \"#ed7953\"], [0.7777777777777778, \"#fb9f3a\"], [0.8888888888888888, \"#fdca26\"], [1.0, \"#f0f921\"]]}, \"colorway\": [\"#636efa\", \"#EF553B\", \"#00cc96\", \"#ab63fa\", \"#FFA15A\", \"#19d3f3\", \"#FF6692\", \"#B6E880\", \"#FF97FF\", \"#FECB52\"], \"font\": {\"color\": \"#2a3f5f\"}, \"geo\": {\"bgcolor\": \"white\", \"lakecolor\": \"white\", \"landcolor\": \"#E5ECF6\", \"showlakes\": true, \"showland\": true, \"subunitcolor\": \"white\"}, \"hoverlabel\": {\"align\": \"left\"}, \"hovermode\": \"closest\", \"mapbox\": {\"style\": \"light\"}, \"paper_bgcolor\": \"white\", \"plot_bgcolor\": \"#E5ECF6\", \"polar\": {\"angularaxis\": {\"gridcolor\": \"white\", \"linecolor\": \"white\", \"ticks\": \"\"}, \"bgcolor\": \"#E5ECF6\", \"radialaxis\": {\"gridcolor\": \"white\", \"linecolor\": \"white\", \"ticks\": \"\"}}, \"scene\": {\"xaxis\": {\"backgroundcolor\": \"#E5ECF6\", \"gridcolor\": \"white\", \"gridwidth\": 2, \"linecolor\": \"white\", \"showbackground\": true, \"ticks\": \"\", \"zerolinecolor\": \"white\"}, \"yaxis\": {\"backgroundcolor\": \"#E5ECF6\", \"gridcolor\": \"white\", \"gridwidth\": 2, \"linecolor\": \"white\", \"showbackground\": true, \"ticks\": \"\", \"zerolinecolor\": \"white\"}, \"zaxis\": {\"backgroundcolor\": \"#E5ECF6\", \"gridcolor\": \"white\", \"gridwidth\": 2, \"linecolor\": \"white\", \"showbackground\": true, \"ticks\": \"\", \"zerolinecolor\": \"white\"}}, \"shapedefaults\": {\"line\": {\"color\": \"#2a3f5f\"}}, \"ternary\": {\"aaxis\": {\"gridcolor\": \"white\", \"linecolor\": \"white\", \"ticks\": \"\"}, \"baxis\": {\"gridcolor\": \"white\", \"linecolor\": \"white\", \"ticks\": \"\"}, \"bgcolor\": \"#E5ECF6\", \"caxis\": {\"gridcolor\": \"white\", \"linecolor\": \"white\", \"ticks\": \"\"}}, \"title\": {\"x\": 0.05}, \"xaxis\": {\"automargin\": true, \"gridcolor\": \"white\", \"linecolor\": \"white\", \"ticks\": \"\", \"zerolinecolor\": \"white\", \"zerolinewidth\": 2}, \"yaxis\": {\"automargin\": true, \"gridcolor\": \"white\", \"linecolor\": \"white\", \"ticks\": \"\", \"zerolinecolor\": \"white\", \"zerolinewidth\": 2}}}, \"title\": {\"text\": \"newmse:tuwen:total_recommend:(click_user)\"}, \"xaxis\": {\"type\": \"date\"}, \"yaxis\": {\"title\": {\"text\": \"click_user\"}}},\n",
       "                        {\"responsive\": true}\n",
       "                    ).then(function(){\n",
       "                            \n",
       "var gd = document.getElementById('340680fc-502a-43ea-ba36-f22ff05f8d5e');\n",
       "var x = new MutationObserver(function (mutations, observer) {{\n",
       "        var display = window.getComputedStyle(gd).display;\n",
       "        if (!display || display === 'none') {{\n",
       "            console.log([gd, 'removed!']);\n",
       "            Plotly.purge(gd);\n",
       "            observer.disconnect();\n",
       "        }}\n",
       "}});\n",
       "\n",
       "// Listen for the removal of the full notebook cells\n",
       "var notebookContainer = gd.closest('#notebook-container');\n",
       "if (notebookContainer) {{\n",
       "    x.observe(notebookContainer, {childList: true});\n",
       "}}\n",
       "\n",
       "// Listen for the clearing of the current output cell\n",
       "var outputEl = gd.closest('.output');\n",
       "if (outputEl) {{\n",
       "    x.observe(outputEl, {childList: true});\n",
       "}}\n",
       "\n",
       "                        })\n",
       "                };\n",
       "                });\n",
       "            </script>\n",
       "        </div>"
      ]
     },
     "metadata": {},
     "output_type": "display_data"
    },
    {
     "data": {
      "application/vnd.plotly.v1+json": {
       "config": {
        "linkText": "Export to plot.ly",
        "plotlyServerURL": "https://plot.ly",
        "showLink": false
       },
       "data": [
        {
         "hovertext": [
          "-0.0002",
          "0.0089",
          "-0.0083",
          "0.0046",
          "-0.0151",
          "0.0108",
          "-0.0462",
          "-0.1505",
          "0.0298",
          "0.2248",
          "0.1524",
          "0.0729",
          "0.0906",
          "0.0787"
         ],
         "line": {
          "shape": "spline",
          "smoothing": 1
         },
         "mode": "lines+markers",
         "name": "7",
         "showlegend": true,
         "type": "scatter",
         "x": [
          "2019-12-31T00:00:00",
          "2020-01-01T00:00:00",
          "2020-01-02T00:00:00",
          "2020-01-03T00:00:00",
          "2020-01-04T00:00:00",
          "2020-01-05T00:00:00",
          "2020-01-06T00:00:00",
          "2020-01-07T00:00:00",
          "2020-01-08T00:00:00",
          "2020-01-09T00:00:00",
          "2020-01-10T00:00:00",
          "2020-01-11T00:00:00",
          "2020-01-12T00:00:00",
          "2020-01-13T00:00:00"
         ],
         "y": [
          2.14557209080866,
          2.5646676454190644,
          2.3529393972681762,
          2.6884044712690347,
          3.1821044869614172,
          3.159076286620065,
          2.386310507238032,
          2.211935443332579,
          2.4446295711372636,
          2.4577474439457077,
          2.3461429004423424,
          2.379712021057148,
          2.328355527682675,
          2.1744863954294926
         ]
        },
        {
         "line": {
          "shape": "spline",
          "smoothing": 1
         },
         "mode": "lines+markers",
         "name": "456",
         "showlegend": true,
         "type": "scatter",
         "x": [
          "2019-12-31T00:00:00",
          "2020-01-01T00:00:00",
          "2020-01-02T00:00:00",
          "2020-01-03T00:00:00",
          "2020-01-04T00:00:00",
          "2020-01-05T00:00:00",
          "2020-01-06T00:00:00",
          "2020-01-07T00:00:00",
          "2020-01-08T00:00:00",
          "2020-01-09T00:00:00",
          "2020-01-10T00:00:00",
          "2020-01-11T00:00:00",
          "2020-01-12T00:00:00",
          "2020-01-13T00:00:00"
         ],
         "y": [
          2.145959560962907,
          2.5420006712917105,
          2.3725679330188565,
          2.675999388622755,
          3.2308121678893493,
          3.125424656560837,
          2.501895987263896,
          2.603747762933206,
          2.373860528973829,
          2.00672805788006,
          2.0359116303425,
          2.217971560812165,
          2.1349727083414263,
          2.015828755291965
         ]
        }
       ],
       "layout": {
        "hovermode": "x",
        "template": {
         "data": {
          "bar": [
           {
            "error_x": {
             "color": "#2a3f5f"
            },
            "error_y": {
             "color": "#2a3f5f"
            },
            "marker": {
             "line": {
              "color": "#E5ECF6",
              "width": 0.5
             }
            },
            "type": "bar"
           }
          ],
          "barpolar": [
           {
            "marker": {
             "line": {
              "color": "#E5ECF6",
              "width": 0.5
             }
            },
            "type": "barpolar"
           }
          ],
          "carpet": [
           {
            "aaxis": {
             "endlinecolor": "#2a3f5f",
             "gridcolor": "white",
             "linecolor": "white",
             "minorgridcolor": "white",
             "startlinecolor": "#2a3f5f"
            },
            "baxis": {
             "endlinecolor": "#2a3f5f",
             "gridcolor": "white",
             "linecolor": "white",
             "minorgridcolor": "white",
             "startlinecolor": "#2a3f5f"
            },
            "type": "carpet"
           }
          ],
          "choropleth": [
           {
            "colorbar": {
             "outlinewidth": 0,
             "ticks": ""
            },
            "type": "choropleth"
           }
          ],
          "contour": [
           {
            "colorbar": {
             "outlinewidth": 0,
             "ticks": ""
            },
            "colorscale": [
             [
              0,
              "#0d0887"
             ],
             [
              0.1111111111111111,
              "#46039f"
             ],
             [
              0.2222222222222222,
              "#7201a8"
             ],
             [
              0.3333333333333333,
              "#9c179e"
             ],
             [
              0.4444444444444444,
              "#bd3786"
             ],
             [
              0.5555555555555556,
              "#d8576b"
             ],
             [
              0.6666666666666666,
              "#ed7953"
             ],
             [
              0.7777777777777778,
              "#fb9f3a"
             ],
             [
              0.8888888888888888,
              "#fdca26"
             ],
             [
              1,
              "#f0f921"
             ]
            ],
            "type": "contour"
           }
          ],
          "contourcarpet": [
           {
            "colorbar": {
             "outlinewidth": 0,
             "ticks": ""
            },
            "type": "contourcarpet"
           }
          ],
          "heatmap": [
           {
            "colorbar": {
             "outlinewidth": 0,
             "ticks": ""
            },
            "colorscale": [
             [
              0,
              "#0d0887"
             ],
             [
              0.1111111111111111,
              "#46039f"
             ],
             [
              0.2222222222222222,
              "#7201a8"
             ],
             [
              0.3333333333333333,
              "#9c179e"
             ],
             [
              0.4444444444444444,
              "#bd3786"
             ],
             [
              0.5555555555555556,
              "#d8576b"
             ],
             [
              0.6666666666666666,
              "#ed7953"
             ],
             [
              0.7777777777777778,
              "#fb9f3a"
             ],
             [
              0.8888888888888888,
              "#fdca26"
             ],
             [
              1,
              "#f0f921"
             ]
            ],
            "type": "heatmap"
           }
          ],
          "heatmapgl": [
           {
            "colorbar": {
             "outlinewidth": 0,
             "ticks": ""
            },
            "colorscale": [
             [
              0,
              "#0d0887"
             ],
             [
              0.1111111111111111,
              "#46039f"
             ],
             [
              0.2222222222222222,
              "#7201a8"
             ],
             [
              0.3333333333333333,
              "#9c179e"
             ],
             [
              0.4444444444444444,
              "#bd3786"
             ],
             [
              0.5555555555555556,
              "#d8576b"
             ],
             [
              0.6666666666666666,
              "#ed7953"
             ],
             [
              0.7777777777777778,
              "#fb9f3a"
             ],
             [
              0.8888888888888888,
              "#fdca26"
             ],
             [
              1,
              "#f0f921"
             ]
            ],
            "type": "heatmapgl"
           }
          ],
          "histogram": [
           {
            "marker": {
             "colorbar": {
              "outlinewidth": 0,
              "ticks": ""
             }
            },
            "type": "histogram"
           }
          ],
          "histogram2d": [
           {
            "colorbar": {
             "outlinewidth": 0,
             "ticks": ""
            },
            "colorscale": [
             [
              0,
              "#0d0887"
             ],
             [
              0.1111111111111111,
              "#46039f"
             ],
             [
              0.2222222222222222,
              "#7201a8"
             ],
             [
              0.3333333333333333,
              "#9c179e"
             ],
             [
              0.4444444444444444,
              "#bd3786"
             ],
             [
              0.5555555555555556,
              "#d8576b"
             ],
             [
              0.6666666666666666,
              "#ed7953"
             ],
             [
              0.7777777777777778,
              "#fb9f3a"
             ],
             [
              0.8888888888888888,
              "#fdca26"
             ],
             [
              1,
              "#f0f921"
             ]
            ],
            "type": "histogram2d"
           }
          ],
          "histogram2dcontour": [
           {
            "colorbar": {
             "outlinewidth": 0,
             "ticks": ""
            },
            "colorscale": [
             [
              0,
              "#0d0887"
             ],
             [
              0.1111111111111111,
              "#46039f"
             ],
             [
              0.2222222222222222,
              "#7201a8"
             ],
             [
              0.3333333333333333,
              "#9c179e"
             ],
             [
              0.4444444444444444,
              "#bd3786"
             ],
             [
              0.5555555555555556,
              "#d8576b"
             ],
             [
              0.6666666666666666,
              "#ed7953"
             ],
             [
              0.7777777777777778,
              "#fb9f3a"
             ],
             [
              0.8888888888888888,
              "#fdca26"
             ],
             [
              1,
              "#f0f921"
             ]
            ],
            "type": "histogram2dcontour"
           }
          ],
          "mesh3d": [
           {
            "colorbar": {
             "outlinewidth": 0,
             "ticks": ""
            },
            "type": "mesh3d"
           }
          ],
          "parcoords": [
           {
            "line": {
             "colorbar": {
              "outlinewidth": 0,
              "ticks": ""
             }
            },
            "type": "parcoords"
           }
          ],
          "scatter": [
           {
            "marker": {
             "colorbar": {
              "outlinewidth": 0,
              "ticks": ""
             }
            },
            "type": "scatter"
           }
          ],
          "scatter3d": [
           {
            "line": {
             "colorbar": {
              "outlinewidth": 0,
              "ticks": ""
             }
            },
            "marker": {
             "colorbar": {
              "outlinewidth": 0,
              "ticks": ""
             }
            },
            "type": "scatter3d"
           }
          ],
          "scattercarpet": [
           {
            "marker": {
             "colorbar": {
              "outlinewidth": 0,
              "ticks": ""
             }
            },
            "type": "scattercarpet"
           }
          ],
          "scattergeo": [
           {
            "marker": {
             "colorbar": {
              "outlinewidth": 0,
              "ticks": ""
             }
            },
            "type": "scattergeo"
           }
          ],
          "scattergl": [
           {
            "marker": {
             "colorbar": {
              "outlinewidth": 0,
              "ticks": ""
             }
            },
            "type": "scattergl"
           }
          ],
          "scattermapbox": [
           {
            "marker": {
             "colorbar": {
              "outlinewidth": 0,
              "ticks": ""
             }
            },
            "type": "scattermapbox"
           }
          ],
          "scatterpolar": [
           {
            "marker": {
             "colorbar": {
              "outlinewidth": 0,
              "ticks": ""
             }
            },
            "type": "scatterpolar"
           }
          ],
          "scatterpolargl": [
           {
            "marker": {
             "colorbar": {
              "outlinewidth": 0,
              "ticks": ""
             }
            },
            "type": "scatterpolargl"
           }
          ],
          "scatterternary": [
           {
            "marker": {
             "colorbar": {
              "outlinewidth": 0,
              "ticks": ""
             }
            },
            "type": "scatterternary"
           }
          ],
          "surface": [
           {
            "colorbar": {
             "outlinewidth": 0,
             "ticks": ""
            },
            "colorscale": [
             [
              0,
              "#0d0887"
             ],
             [
              0.1111111111111111,
              "#46039f"
             ],
             [
              0.2222222222222222,
              "#7201a8"
             ],
             [
              0.3333333333333333,
              "#9c179e"
             ],
             [
              0.4444444444444444,
              "#bd3786"
             ],
             [
              0.5555555555555556,
              "#d8576b"
             ],
             [
              0.6666666666666666,
              "#ed7953"
             ],
             [
              0.7777777777777778,
              "#fb9f3a"
             ],
             [
              0.8888888888888888,
              "#fdca26"
             ],
             [
              1,
              "#f0f921"
             ]
            ],
            "type": "surface"
           }
          ],
          "table": [
           {
            "cells": {
             "fill": {
              "color": "#EBF0F8"
             },
             "line": {
              "color": "white"
             }
            },
            "header": {
             "fill": {
              "color": "#C8D4E3"
             },
             "line": {
              "color": "white"
             }
            },
            "type": "table"
           }
          ]
         },
         "layout": {
          "annotationdefaults": {
           "arrowcolor": "#2a3f5f",
           "arrowhead": 0,
           "arrowwidth": 1
          },
          "colorscale": {
           "diverging": [
            [
             0,
             "#8e0152"
            ],
            [
             0.1,
             "#c51b7d"
            ],
            [
             0.2,
             "#de77ae"
            ],
            [
             0.3,
             "#f1b6da"
            ],
            [
             0.4,
             "#fde0ef"
            ],
            [
             0.5,
             "#f7f7f7"
            ],
            [
             0.6,
             "#e6f5d0"
            ],
            [
             0.7,
             "#b8e186"
            ],
            [
             0.8,
             "#7fbc41"
            ],
            [
             0.9,
             "#4d9221"
            ],
            [
             1,
             "#276419"
            ]
           ],
           "sequential": [
            [
             0,
             "#0d0887"
            ],
            [
             0.1111111111111111,
             "#46039f"
            ],
            [
             0.2222222222222222,
             "#7201a8"
            ],
            [
             0.3333333333333333,
             "#9c179e"
            ],
            [
             0.4444444444444444,
             "#bd3786"
            ],
            [
             0.5555555555555556,
             "#d8576b"
            ],
            [
             0.6666666666666666,
             "#ed7953"
            ],
            [
             0.7777777777777778,
             "#fb9f3a"
            ],
            [
             0.8888888888888888,
             "#fdca26"
            ],
            [
             1,
             "#f0f921"
            ]
           ],
           "sequentialminus": [
            [
             0,
             "#0d0887"
            ],
            [
             0.1111111111111111,
             "#46039f"
            ],
            [
             0.2222222222222222,
             "#7201a8"
            ],
            [
             0.3333333333333333,
             "#9c179e"
            ],
            [
             0.4444444444444444,
             "#bd3786"
            ],
            [
             0.5555555555555556,
             "#d8576b"
            ],
            [
             0.6666666666666666,
             "#ed7953"
            ],
            [
             0.7777777777777778,
             "#fb9f3a"
            ],
            [
             0.8888888888888888,
             "#fdca26"
            ],
            [
             1,
             "#f0f921"
            ]
           ]
          },
          "colorway": [
           "#636efa",
           "#EF553B",
           "#00cc96",
           "#ab63fa",
           "#FFA15A",
           "#19d3f3",
           "#FF6692",
           "#B6E880",
           "#FF97FF",
           "#FECB52"
          ],
          "font": {
           "color": "#2a3f5f"
          },
          "geo": {
           "bgcolor": "white",
           "lakecolor": "white",
           "landcolor": "#E5ECF6",
           "showlakes": true,
           "showland": true,
           "subunitcolor": "white"
          },
          "hoverlabel": {
           "align": "left"
          },
          "hovermode": "closest",
          "mapbox": {
           "style": "light"
          },
          "paper_bgcolor": "white",
          "plot_bgcolor": "#E5ECF6",
          "polar": {
           "angularaxis": {
            "gridcolor": "white",
            "linecolor": "white",
            "ticks": ""
           },
           "bgcolor": "#E5ECF6",
           "radialaxis": {
            "gridcolor": "white",
            "linecolor": "white",
            "ticks": ""
           }
          },
          "scene": {
           "xaxis": {
            "backgroundcolor": "#E5ECF6",
            "gridcolor": "white",
            "gridwidth": 2,
            "linecolor": "white",
            "showbackground": true,
            "ticks": "",
            "zerolinecolor": "white"
           },
           "yaxis": {
            "backgroundcolor": "#E5ECF6",
            "gridcolor": "white",
            "gridwidth": 2,
            "linecolor": "white",
            "showbackground": true,
            "ticks": "",
            "zerolinecolor": "white"
           },
           "zaxis": {
            "backgroundcolor": "#E5ECF6",
            "gridcolor": "white",
            "gridwidth": 2,
            "linecolor": "white",
            "showbackground": true,
            "ticks": "",
            "zerolinecolor": "white"
           }
          },
          "shapedefaults": {
           "line": {
            "color": "#2a3f5f"
           }
          },
          "ternary": {
           "aaxis": {
            "gridcolor": "white",
            "linecolor": "white",
            "ticks": ""
           },
           "baxis": {
            "gridcolor": "white",
            "linecolor": "white",
            "ticks": ""
           },
           "bgcolor": "#E5ECF6",
           "caxis": {
            "gridcolor": "white",
            "linecolor": "white",
            "ticks": ""
           }
          },
          "title": {
           "x": 0.05
          },
          "xaxis": {
           "automargin": true,
           "gridcolor": "white",
           "linecolor": "white",
           "ticks": "",
           "zerolinecolor": "white",
           "zerolinewidth": 2
          },
          "yaxis": {
           "automargin": true,
           "gridcolor": "white",
           "linecolor": "white",
           "ticks": "",
           "zerolinecolor": "white",
           "zerolinewidth": 2
          }
         }
        },
        "title": {
         "text": "newmse:tuwen:total_recommend:(read_files)"
        },
        "xaxis": {
         "type": "date"
        },
        "yaxis": {
         "title": {
          "text": "read_files"
         }
        }
       }
      },
      "text/html": [
       "<div>\n",
       "        \n",
       "        \n",
       "            <div id=\"3cee72b8-2ede-41b6-b903-a29f964b6867\" class=\"plotly-graph-div\" style=\"height:525px; width:100%;\"></div>\n",
       "            <script type=\"text/javascript\">\n",
       "                require([\"plotly\"], function(Plotly) {\n",
       "                    window.PLOTLYENV=window.PLOTLYENV || {};\n",
       "                    \n",
       "                if (document.getElementById(\"3cee72b8-2ede-41b6-b903-a29f964b6867\")) {\n",
       "                    Plotly.newPlot(\n",
       "                        '3cee72b8-2ede-41b6-b903-a29f964b6867',\n",
       "                        [{\"hovertext\": [\"-0.0002\", \"0.0089\", \"-0.0083\", \"0.0046\", \"-0.0151\", \"0.0108\", \"-0.0462\", \"-0.1505\", \"0.0298\", \"0.2248\", \"0.1524\", \"0.0729\", \"0.0906\", \"0.0787\"], \"line\": {\"shape\": \"spline\", \"smoothing\": 1.0}, \"mode\": \"lines+markers\", \"name\": \"7\", \"showlegend\": true, \"type\": \"scatter\", \"x\": [\"2019-12-31T00:00:00\", \"2020-01-01T00:00:00\", \"2020-01-02T00:00:00\", \"2020-01-03T00:00:00\", \"2020-01-04T00:00:00\", \"2020-01-05T00:00:00\", \"2020-01-06T00:00:00\", \"2020-01-07T00:00:00\", \"2020-01-08T00:00:00\", \"2020-01-09T00:00:00\", \"2020-01-10T00:00:00\", \"2020-01-11T00:00:00\", \"2020-01-12T00:00:00\", \"2020-01-13T00:00:00\"], \"y\": [2.14557209080866, 2.5646676454190644, 2.3529393972681762, 2.6884044712690347, 3.1821044869614172, 3.159076286620065, 2.386310507238032, 2.211935443332579, 2.4446295711372636, 2.4577474439457077, 2.3461429004423424, 2.379712021057148, 2.328355527682675, 2.1744863954294926]}, {\"line\": {\"shape\": \"spline\", \"smoothing\": 1.0}, \"mode\": \"lines+markers\", \"name\": \"456\", \"showlegend\": true, \"type\": \"scatter\", \"x\": [\"2019-12-31T00:00:00\", \"2020-01-01T00:00:00\", \"2020-01-02T00:00:00\", \"2020-01-03T00:00:00\", \"2020-01-04T00:00:00\", \"2020-01-05T00:00:00\", \"2020-01-06T00:00:00\", \"2020-01-07T00:00:00\", \"2020-01-08T00:00:00\", \"2020-01-09T00:00:00\", \"2020-01-10T00:00:00\", \"2020-01-11T00:00:00\", \"2020-01-12T00:00:00\", \"2020-01-13T00:00:00\"], \"y\": [2.145959560962907, 2.5420006712917105, 2.3725679330188565, 2.675999388622755, 3.2308121678893493, 3.125424656560837, 2.501895987263896, 2.603747762933206, 2.373860528973829, 2.00672805788006, 2.0359116303425, 2.217971560812165, 2.1349727083414263, 2.015828755291965]}],\n",
       "                        {\"hovermode\": \"x\", \"template\": {\"data\": {\"bar\": [{\"error_x\": {\"color\": \"#2a3f5f\"}, \"error_y\": {\"color\": \"#2a3f5f\"}, \"marker\": {\"line\": {\"color\": \"#E5ECF6\", \"width\": 0.5}}, \"type\": \"bar\"}], \"barpolar\": [{\"marker\": {\"line\": {\"color\": \"#E5ECF6\", \"width\": 0.5}}, \"type\": \"barpolar\"}], \"carpet\": [{\"aaxis\": {\"endlinecolor\": \"#2a3f5f\", \"gridcolor\": \"white\", \"linecolor\": \"white\", \"minorgridcolor\": \"white\", \"startlinecolor\": \"#2a3f5f\"}, \"baxis\": {\"endlinecolor\": \"#2a3f5f\", \"gridcolor\": \"white\", \"linecolor\": \"white\", \"minorgridcolor\": \"white\", \"startlinecolor\": \"#2a3f5f\"}, \"type\": \"carpet\"}], \"choropleth\": [{\"colorbar\": {\"outlinewidth\": 0, \"ticks\": \"\"}, \"type\": \"choropleth\"}], \"contour\": [{\"colorbar\": {\"outlinewidth\": 0, \"ticks\": \"\"}, \"colorscale\": [[0.0, \"#0d0887\"], [0.1111111111111111, \"#46039f\"], [0.2222222222222222, \"#7201a8\"], [0.3333333333333333, \"#9c179e\"], [0.4444444444444444, \"#bd3786\"], [0.5555555555555556, \"#d8576b\"], [0.6666666666666666, \"#ed7953\"], [0.7777777777777778, \"#fb9f3a\"], [0.8888888888888888, \"#fdca26\"], [1.0, \"#f0f921\"]], \"type\": \"contour\"}], \"contourcarpet\": [{\"colorbar\": {\"outlinewidth\": 0, \"ticks\": \"\"}, \"type\": \"contourcarpet\"}], \"heatmap\": [{\"colorbar\": {\"outlinewidth\": 0, \"ticks\": \"\"}, \"colorscale\": [[0.0, \"#0d0887\"], [0.1111111111111111, \"#46039f\"], [0.2222222222222222, \"#7201a8\"], [0.3333333333333333, \"#9c179e\"], [0.4444444444444444, \"#bd3786\"], [0.5555555555555556, \"#d8576b\"], [0.6666666666666666, \"#ed7953\"], [0.7777777777777778, \"#fb9f3a\"], [0.8888888888888888, \"#fdca26\"], [1.0, \"#f0f921\"]], \"type\": \"heatmap\"}], \"heatmapgl\": [{\"colorbar\": {\"outlinewidth\": 0, \"ticks\": \"\"}, \"colorscale\": [[0.0, \"#0d0887\"], [0.1111111111111111, \"#46039f\"], [0.2222222222222222, \"#7201a8\"], [0.3333333333333333, \"#9c179e\"], [0.4444444444444444, \"#bd3786\"], [0.5555555555555556, \"#d8576b\"], [0.6666666666666666, \"#ed7953\"], [0.7777777777777778, \"#fb9f3a\"], [0.8888888888888888, \"#fdca26\"], [1.0, \"#f0f921\"]], \"type\": \"heatmapgl\"}], \"histogram\": [{\"marker\": {\"colorbar\": {\"outlinewidth\": 0, \"ticks\": \"\"}}, \"type\": \"histogram\"}], \"histogram2d\": [{\"colorbar\": {\"outlinewidth\": 0, \"ticks\": \"\"}, \"colorscale\": [[0.0, \"#0d0887\"], [0.1111111111111111, \"#46039f\"], [0.2222222222222222, \"#7201a8\"], [0.3333333333333333, \"#9c179e\"], [0.4444444444444444, \"#bd3786\"], [0.5555555555555556, \"#d8576b\"], [0.6666666666666666, \"#ed7953\"], [0.7777777777777778, \"#fb9f3a\"], [0.8888888888888888, \"#fdca26\"], [1.0, \"#f0f921\"]], \"type\": \"histogram2d\"}], \"histogram2dcontour\": [{\"colorbar\": {\"outlinewidth\": 0, \"ticks\": \"\"}, \"colorscale\": [[0.0, \"#0d0887\"], [0.1111111111111111, \"#46039f\"], [0.2222222222222222, \"#7201a8\"], [0.3333333333333333, \"#9c179e\"], [0.4444444444444444, \"#bd3786\"], [0.5555555555555556, \"#d8576b\"], [0.6666666666666666, \"#ed7953\"], [0.7777777777777778, \"#fb9f3a\"], [0.8888888888888888, \"#fdca26\"], [1.0, \"#f0f921\"]], \"type\": \"histogram2dcontour\"}], \"mesh3d\": [{\"colorbar\": {\"outlinewidth\": 0, \"ticks\": \"\"}, \"type\": \"mesh3d\"}], \"parcoords\": [{\"line\": {\"colorbar\": {\"outlinewidth\": 0, \"ticks\": \"\"}}, \"type\": \"parcoords\"}], \"scatter\": [{\"marker\": {\"colorbar\": {\"outlinewidth\": 0, \"ticks\": \"\"}}, \"type\": \"scatter\"}], \"scatter3d\": [{\"line\": {\"colorbar\": {\"outlinewidth\": 0, \"ticks\": \"\"}}, \"marker\": {\"colorbar\": {\"outlinewidth\": 0, \"ticks\": \"\"}}, \"type\": \"scatter3d\"}], \"scattercarpet\": [{\"marker\": {\"colorbar\": {\"outlinewidth\": 0, \"ticks\": \"\"}}, \"type\": \"scattercarpet\"}], \"scattergeo\": [{\"marker\": {\"colorbar\": {\"outlinewidth\": 0, \"ticks\": \"\"}}, \"type\": \"scattergeo\"}], \"scattergl\": [{\"marker\": {\"colorbar\": {\"outlinewidth\": 0, \"ticks\": \"\"}}, \"type\": \"scattergl\"}], \"scattermapbox\": [{\"marker\": {\"colorbar\": {\"outlinewidth\": 0, \"ticks\": \"\"}}, \"type\": \"scattermapbox\"}], \"scatterpolar\": [{\"marker\": {\"colorbar\": {\"outlinewidth\": 0, \"ticks\": \"\"}}, \"type\": \"scatterpolar\"}], \"scatterpolargl\": [{\"marker\": {\"colorbar\": {\"outlinewidth\": 0, \"ticks\": \"\"}}, \"type\": \"scatterpolargl\"}], \"scatterternary\": [{\"marker\": {\"colorbar\": {\"outlinewidth\": 0, \"ticks\": \"\"}}, \"type\": \"scatterternary\"}], \"surface\": [{\"colorbar\": {\"outlinewidth\": 0, \"ticks\": \"\"}, \"colorscale\": [[0.0, \"#0d0887\"], [0.1111111111111111, \"#46039f\"], [0.2222222222222222, \"#7201a8\"], [0.3333333333333333, \"#9c179e\"], [0.4444444444444444, \"#bd3786\"], [0.5555555555555556, \"#d8576b\"], [0.6666666666666666, \"#ed7953\"], [0.7777777777777778, \"#fb9f3a\"], [0.8888888888888888, \"#fdca26\"], [1.0, \"#f0f921\"]], \"type\": \"surface\"}], \"table\": [{\"cells\": {\"fill\": {\"color\": \"#EBF0F8\"}, \"line\": {\"color\": \"white\"}}, \"header\": {\"fill\": {\"color\": \"#C8D4E3\"}, \"line\": {\"color\": \"white\"}}, \"type\": \"table\"}]}, \"layout\": {\"annotationdefaults\": {\"arrowcolor\": \"#2a3f5f\", \"arrowhead\": 0, \"arrowwidth\": 1}, \"colorscale\": {\"diverging\": [[0, \"#8e0152\"], [0.1, \"#c51b7d\"], [0.2, \"#de77ae\"], [0.3, \"#f1b6da\"], [0.4, \"#fde0ef\"], [0.5, \"#f7f7f7\"], [0.6, \"#e6f5d0\"], [0.7, \"#b8e186\"], [0.8, \"#7fbc41\"], [0.9, \"#4d9221\"], [1, \"#276419\"]], \"sequential\": [[0.0, \"#0d0887\"], [0.1111111111111111, \"#46039f\"], [0.2222222222222222, \"#7201a8\"], [0.3333333333333333, \"#9c179e\"], [0.4444444444444444, \"#bd3786\"], [0.5555555555555556, \"#d8576b\"], [0.6666666666666666, \"#ed7953\"], [0.7777777777777778, \"#fb9f3a\"], [0.8888888888888888, \"#fdca26\"], [1.0, \"#f0f921\"]], \"sequentialminus\": [[0.0, \"#0d0887\"], [0.1111111111111111, \"#46039f\"], [0.2222222222222222, \"#7201a8\"], [0.3333333333333333, \"#9c179e\"], [0.4444444444444444, \"#bd3786\"], [0.5555555555555556, \"#d8576b\"], [0.6666666666666666, \"#ed7953\"], [0.7777777777777778, \"#fb9f3a\"], [0.8888888888888888, \"#fdca26\"], [1.0, \"#f0f921\"]]}, \"colorway\": [\"#636efa\", \"#EF553B\", \"#00cc96\", \"#ab63fa\", \"#FFA15A\", \"#19d3f3\", \"#FF6692\", \"#B6E880\", \"#FF97FF\", \"#FECB52\"], \"font\": {\"color\": \"#2a3f5f\"}, \"geo\": {\"bgcolor\": \"white\", \"lakecolor\": \"white\", \"landcolor\": \"#E5ECF6\", \"showlakes\": true, \"showland\": true, \"subunitcolor\": \"white\"}, \"hoverlabel\": {\"align\": \"left\"}, \"hovermode\": \"closest\", \"mapbox\": {\"style\": \"light\"}, \"paper_bgcolor\": \"white\", \"plot_bgcolor\": \"#E5ECF6\", \"polar\": {\"angularaxis\": {\"gridcolor\": \"white\", \"linecolor\": \"white\", \"ticks\": \"\"}, \"bgcolor\": \"#E5ECF6\", \"radialaxis\": {\"gridcolor\": \"white\", \"linecolor\": \"white\", \"ticks\": \"\"}}, \"scene\": {\"xaxis\": {\"backgroundcolor\": \"#E5ECF6\", \"gridcolor\": \"white\", \"gridwidth\": 2, \"linecolor\": \"white\", \"showbackground\": true, \"ticks\": \"\", \"zerolinecolor\": \"white\"}, \"yaxis\": {\"backgroundcolor\": \"#E5ECF6\", \"gridcolor\": \"white\", \"gridwidth\": 2, \"linecolor\": \"white\", \"showbackground\": true, \"ticks\": \"\", \"zerolinecolor\": \"white\"}, \"zaxis\": {\"backgroundcolor\": \"#E5ECF6\", \"gridcolor\": \"white\", \"gridwidth\": 2, \"linecolor\": \"white\", \"showbackground\": true, \"ticks\": \"\", \"zerolinecolor\": \"white\"}}, \"shapedefaults\": {\"line\": {\"color\": \"#2a3f5f\"}}, \"ternary\": {\"aaxis\": {\"gridcolor\": \"white\", \"linecolor\": \"white\", \"ticks\": \"\"}, \"baxis\": {\"gridcolor\": \"white\", \"linecolor\": \"white\", \"ticks\": \"\"}, \"bgcolor\": \"#E5ECF6\", \"caxis\": {\"gridcolor\": \"white\", \"linecolor\": \"white\", \"ticks\": \"\"}}, \"title\": {\"x\": 0.05}, \"xaxis\": {\"automargin\": true, \"gridcolor\": \"white\", \"linecolor\": \"white\", \"ticks\": \"\", \"zerolinecolor\": \"white\", \"zerolinewidth\": 2}, \"yaxis\": {\"automargin\": true, \"gridcolor\": \"white\", \"linecolor\": \"white\", \"ticks\": \"\", \"zerolinecolor\": \"white\", \"zerolinewidth\": 2}}}, \"title\": {\"text\": \"newmse:tuwen:total_recommend:(read_files)\"}, \"xaxis\": {\"type\": \"date\"}, \"yaxis\": {\"title\": {\"text\": \"read_files\"}}},\n",
       "                        {\"responsive\": true}\n",
       "                    ).then(function(){\n",
       "                            \n",
       "var gd = document.getElementById('3cee72b8-2ede-41b6-b903-a29f964b6867');\n",
       "var x = new MutationObserver(function (mutations, observer) {{\n",
       "        var display = window.getComputedStyle(gd).display;\n",
       "        if (!display || display === 'none') {{\n",
       "            console.log([gd, 'removed!']);\n",
       "            Plotly.purge(gd);\n",
       "            observer.disconnect();\n",
       "        }}\n",
       "}});\n",
       "\n",
       "// Listen for the removal of the full notebook cells\n",
       "var notebookContainer = gd.closest('#notebook-container');\n",
       "if (notebookContainer) {{\n",
       "    x.observe(notebookContainer, {childList: true});\n",
       "}}\n",
       "\n",
       "// Listen for the clearing of the current output cell\n",
       "var outputEl = gd.closest('.output');\n",
       "if (outputEl) {{\n",
       "    x.observe(outputEl, {childList: true});\n",
       "}}\n",
       "\n",
       "                        })\n",
       "                };\n",
       "                });\n",
       "            </script>\n",
       "        </div>"
      ]
     },
     "metadata": {},
     "output_type": "display_data"
    },
    {
     "data": {
      "application/vnd.plotly.v1+json": {
       "config": {
        "linkText": "Export to plot.ly",
        "plotlyServerURL": "https://plot.ly",
        "showLink": false
       },
       "data": [
        {
         "hovertext": [
          "0.0072",
          "0.0073",
          "-0.0029",
          "-0.0142",
          "0.0066",
          "-0.0033",
          "0.1516",
          "0.5271",
          "0.0240",
          "-0.4075",
          "-0.3757",
          "-0.3205",
          "-0.3174",
          "-0.3079"
         ],
         "line": {
          "shape": "spline",
          "smoothing": 1
         },
         "mode": "lines+markers",
         "name": "7",
         "showlegend": true,
         "type": "scatter",
         "x": [
          "2019-12-31T00:00:00",
          "2020-01-01T00:00:00",
          "2020-01-02T00:00:00",
          "2020-01-03T00:00:00",
          "2020-01-04T00:00:00",
          "2020-01-05T00:00:00",
          "2020-01-06T00:00:00",
          "2020-01-07T00:00:00",
          "2020-01-08T00:00:00",
          "2020-01-09T00:00:00",
          "2020-01-10T00:00:00",
          "2020-01-11T00:00:00",
          "2020-01-12T00:00:00",
          "2020-01-13T00:00:00"
         ],
         "y": [
          1.0689419284835353,
          1.0367233390486728,
          1.0641943923686328,
          1.0576071747712665,
          1.0652184275984156,
          1.1247345147376981,
          1.282565670857818,
          1.700691389388779,
          1.364150390321353,
          1.0985755318034953,
          1.0984817211417106,
          1.1487965906956068,
          1.1671784141273687,
          1.1326661312406614
         ]
        },
        {
         "line": {
          "shape": "spline",
          "smoothing": 1
         },
         "mode": "lines+markers",
         "name": "456",
         "showlegend": true,
         "type": "scatter",
         "x": [
          "2019-12-31T00:00:00",
          "2020-01-01T00:00:00",
          "2020-01-02T00:00:00",
          "2020-01-03T00:00:00",
          "2020-01-04T00:00:00",
          "2020-01-05T00:00:00",
          "2020-01-06T00:00:00",
          "2020-01-07T00:00:00",
          "2020-01-08T00:00:00",
          "2020-01-09T00:00:00",
          "2020-01-10T00:00:00",
          "2020-01-11T00:00:00",
          "2020-01-12T00:00:00",
          "2020-01-13T00:00:00"
         ],
         "y": [
          1.0613332201196275,
          1.0292574678389084,
          1.0672394358924047,
          1.0728508429872539,
          1.0582819180118825,
          1.1284568921581464,
          1.1136980150512548,
          1.113701491902,
          1.3321143499162023,
          1.8542001177904508,
          1.7594863947067754,
          1.6907248954771792,
          1.7099342049311046,
          1.6365250806264007
         ]
        }
       ],
       "layout": {
        "hovermode": "x",
        "template": {
         "data": {
          "bar": [
           {
            "error_x": {
             "color": "#2a3f5f"
            },
            "error_y": {
             "color": "#2a3f5f"
            },
            "marker": {
             "line": {
              "color": "#E5ECF6",
              "width": 0.5
             }
            },
            "type": "bar"
           }
          ],
          "barpolar": [
           {
            "marker": {
             "line": {
              "color": "#E5ECF6",
              "width": 0.5
             }
            },
            "type": "barpolar"
           }
          ],
          "carpet": [
           {
            "aaxis": {
             "endlinecolor": "#2a3f5f",
             "gridcolor": "white",
             "linecolor": "white",
             "minorgridcolor": "white",
             "startlinecolor": "#2a3f5f"
            },
            "baxis": {
             "endlinecolor": "#2a3f5f",
             "gridcolor": "white",
             "linecolor": "white",
             "minorgridcolor": "white",
             "startlinecolor": "#2a3f5f"
            },
            "type": "carpet"
           }
          ],
          "choropleth": [
           {
            "colorbar": {
             "outlinewidth": 0,
             "ticks": ""
            },
            "type": "choropleth"
           }
          ],
          "contour": [
           {
            "colorbar": {
             "outlinewidth": 0,
             "ticks": ""
            },
            "colorscale": [
             [
              0,
              "#0d0887"
             ],
             [
              0.1111111111111111,
              "#46039f"
             ],
             [
              0.2222222222222222,
              "#7201a8"
             ],
             [
              0.3333333333333333,
              "#9c179e"
             ],
             [
              0.4444444444444444,
              "#bd3786"
             ],
             [
              0.5555555555555556,
              "#d8576b"
             ],
             [
              0.6666666666666666,
              "#ed7953"
             ],
             [
              0.7777777777777778,
              "#fb9f3a"
             ],
             [
              0.8888888888888888,
              "#fdca26"
             ],
             [
              1,
              "#f0f921"
             ]
            ],
            "type": "contour"
           }
          ],
          "contourcarpet": [
           {
            "colorbar": {
             "outlinewidth": 0,
             "ticks": ""
            },
            "type": "contourcarpet"
           }
          ],
          "heatmap": [
           {
            "colorbar": {
             "outlinewidth": 0,
             "ticks": ""
            },
            "colorscale": [
             [
              0,
              "#0d0887"
             ],
             [
              0.1111111111111111,
              "#46039f"
             ],
             [
              0.2222222222222222,
              "#7201a8"
             ],
             [
              0.3333333333333333,
              "#9c179e"
             ],
             [
              0.4444444444444444,
              "#bd3786"
             ],
             [
              0.5555555555555556,
              "#d8576b"
             ],
             [
              0.6666666666666666,
              "#ed7953"
             ],
             [
              0.7777777777777778,
              "#fb9f3a"
             ],
             [
              0.8888888888888888,
              "#fdca26"
             ],
             [
              1,
              "#f0f921"
             ]
            ],
            "type": "heatmap"
           }
          ],
          "heatmapgl": [
           {
            "colorbar": {
             "outlinewidth": 0,
             "ticks": ""
            },
            "colorscale": [
             [
              0,
              "#0d0887"
             ],
             [
              0.1111111111111111,
              "#46039f"
             ],
             [
              0.2222222222222222,
              "#7201a8"
             ],
             [
              0.3333333333333333,
              "#9c179e"
             ],
             [
              0.4444444444444444,
              "#bd3786"
             ],
             [
              0.5555555555555556,
              "#d8576b"
             ],
             [
              0.6666666666666666,
              "#ed7953"
             ],
             [
              0.7777777777777778,
              "#fb9f3a"
             ],
             [
              0.8888888888888888,
              "#fdca26"
             ],
             [
              1,
              "#f0f921"
             ]
            ],
            "type": "heatmapgl"
           }
          ],
          "histogram": [
           {
            "marker": {
             "colorbar": {
              "outlinewidth": 0,
              "ticks": ""
             }
            },
            "type": "histogram"
           }
          ],
          "histogram2d": [
           {
            "colorbar": {
             "outlinewidth": 0,
             "ticks": ""
            },
            "colorscale": [
             [
              0,
              "#0d0887"
             ],
             [
              0.1111111111111111,
              "#46039f"
             ],
             [
              0.2222222222222222,
              "#7201a8"
             ],
             [
              0.3333333333333333,
              "#9c179e"
             ],
             [
              0.4444444444444444,
              "#bd3786"
             ],
             [
              0.5555555555555556,
              "#d8576b"
             ],
             [
              0.6666666666666666,
              "#ed7953"
             ],
             [
              0.7777777777777778,
              "#fb9f3a"
             ],
             [
              0.8888888888888888,
              "#fdca26"
             ],
             [
              1,
              "#f0f921"
             ]
            ],
            "type": "histogram2d"
           }
          ],
          "histogram2dcontour": [
           {
            "colorbar": {
             "outlinewidth": 0,
             "ticks": ""
            },
            "colorscale": [
             [
              0,
              "#0d0887"
             ],
             [
              0.1111111111111111,
              "#46039f"
             ],
             [
              0.2222222222222222,
              "#7201a8"
             ],
             [
              0.3333333333333333,
              "#9c179e"
             ],
             [
              0.4444444444444444,
              "#bd3786"
             ],
             [
              0.5555555555555556,
              "#d8576b"
             ],
             [
              0.6666666666666666,
              "#ed7953"
             ],
             [
              0.7777777777777778,
              "#fb9f3a"
             ],
             [
              0.8888888888888888,
              "#fdca26"
             ],
             [
              1,
              "#f0f921"
             ]
            ],
            "type": "histogram2dcontour"
           }
          ],
          "mesh3d": [
           {
            "colorbar": {
             "outlinewidth": 0,
             "ticks": ""
            },
            "type": "mesh3d"
           }
          ],
          "parcoords": [
           {
            "line": {
             "colorbar": {
              "outlinewidth": 0,
              "ticks": ""
             }
            },
            "type": "parcoords"
           }
          ],
          "scatter": [
           {
            "marker": {
             "colorbar": {
              "outlinewidth": 0,
              "ticks": ""
             }
            },
            "type": "scatter"
           }
          ],
          "scatter3d": [
           {
            "line": {
             "colorbar": {
              "outlinewidth": 0,
              "ticks": ""
             }
            },
            "marker": {
             "colorbar": {
              "outlinewidth": 0,
              "ticks": ""
             }
            },
            "type": "scatter3d"
           }
          ],
          "scattercarpet": [
           {
            "marker": {
             "colorbar": {
              "outlinewidth": 0,
              "ticks": ""
             }
            },
            "type": "scattercarpet"
           }
          ],
          "scattergeo": [
           {
            "marker": {
             "colorbar": {
              "outlinewidth": 0,
              "ticks": ""
             }
            },
            "type": "scattergeo"
           }
          ],
          "scattergl": [
           {
            "marker": {
             "colorbar": {
              "outlinewidth": 0,
              "ticks": ""
             }
            },
            "type": "scattergl"
           }
          ],
          "scattermapbox": [
           {
            "marker": {
             "colorbar": {
              "outlinewidth": 0,
              "ticks": ""
             }
            },
            "type": "scattermapbox"
           }
          ],
          "scatterpolar": [
           {
            "marker": {
             "colorbar": {
              "outlinewidth": 0,
              "ticks": ""
             }
            },
            "type": "scatterpolar"
           }
          ],
          "scatterpolargl": [
           {
            "marker": {
             "colorbar": {
              "outlinewidth": 0,
              "ticks": ""
             }
            },
            "type": "scatterpolargl"
           }
          ],
          "scatterternary": [
           {
            "marker": {
             "colorbar": {
              "outlinewidth": 0,
              "ticks": ""
             }
            },
            "type": "scatterternary"
           }
          ],
          "surface": [
           {
            "colorbar": {
             "outlinewidth": 0,
             "ticks": ""
            },
            "colorscale": [
             [
              0,
              "#0d0887"
             ],
             [
              0.1111111111111111,
              "#46039f"
             ],
             [
              0.2222222222222222,
              "#7201a8"
             ],
             [
              0.3333333333333333,
              "#9c179e"
             ],
             [
              0.4444444444444444,
              "#bd3786"
             ],
             [
              0.5555555555555556,
              "#d8576b"
             ],
             [
              0.6666666666666666,
              "#ed7953"
             ],
             [
              0.7777777777777778,
              "#fb9f3a"
             ],
             [
              0.8888888888888888,
              "#fdca26"
             ],
             [
              1,
              "#f0f921"
             ]
            ],
            "type": "surface"
           }
          ],
          "table": [
           {
            "cells": {
             "fill": {
              "color": "#EBF0F8"
             },
             "line": {
              "color": "white"
             }
            },
            "header": {
             "fill": {
              "color": "#C8D4E3"
             },
             "line": {
              "color": "white"
             }
            },
            "type": "table"
           }
          ]
         },
         "layout": {
          "annotationdefaults": {
           "arrowcolor": "#2a3f5f",
           "arrowhead": 0,
           "arrowwidth": 1
          },
          "colorscale": {
           "diverging": [
            [
             0,
             "#8e0152"
            ],
            [
             0.1,
             "#c51b7d"
            ],
            [
             0.2,
             "#de77ae"
            ],
            [
             0.3,
             "#f1b6da"
            ],
            [
             0.4,
             "#fde0ef"
            ],
            [
             0.5,
             "#f7f7f7"
            ],
            [
             0.6,
             "#e6f5d0"
            ],
            [
             0.7,
             "#b8e186"
            ],
            [
             0.8,
             "#7fbc41"
            ],
            [
             0.9,
             "#4d9221"
            ],
            [
             1,
             "#276419"
            ]
           ],
           "sequential": [
            [
             0,
             "#0d0887"
            ],
            [
             0.1111111111111111,
             "#46039f"
            ],
            [
             0.2222222222222222,
             "#7201a8"
            ],
            [
             0.3333333333333333,
             "#9c179e"
            ],
            [
             0.4444444444444444,
             "#bd3786"
            ],
            [
             0.5555555555555556,
             "#d8576b"
            ],
            [
             0.6666666666666666,
             "#ed7953"
            ],
            [
             0.7777777777777778,
             "#fb9f3a"
            ],
            [
             0.8888888888888888,
             "#fdca26"
            ],
            [
             1,
             "#f0f921"
            ]
           ],
           "sequentialminus": [
            [
             0,
             "#0d0887"
            ],
            [
             0.1111111111111111,
             "#46039f"
            ],
            [
             0.2222222222222222,
             "#7201a8"
            ],
            [
             0.3333333333333333,
             "#9c179e"
            ],
            [
             0.4444444444444444,
             "#bd3786"
            ],
            [
             0.5555555555555556,
             "#d8576b"
            ],
            [
             0.6666666666666666,
             "#ed7953"
            ],
            [
             0.7777777777777778,
             "#fb9f3a"
            ],
            [
             0.8888888888888888,
             "#fdca26"
            ],
            [
             1,
             "#f0f921"
            ]
           ]
          },
          "colorway": [
           "#636efa",
           "#EF553B",
           "#00cc96",
           "#ab63fa",
           "#FFA15A",
           "#19d3f3",
           "#FF6692",
           "#B6E880",
           "#FF97FF",
           "#FECB52"
          ],
          "font": {
           "color": "#2a3f5f"
          },
          "geo": {
           "bgcolor": "white",
           "lakecolor": "white",
           "landcolor": "#E5ECF6",
           "showlakes": true,
           "showland": true,
           "subunitcolor": "white"
          },
          "hoverlabel": {
           "align": "left"
          },
          "hovermode": "closest",
          "mapbox": {
           "style": "light"
          },
          "paper_bgcolor": "white",
          "plot_bgcolor": "#E5ECF6",
          "polar": {
           "angularaxis": {
            "gridcolor": "white",
            "linecolor": "white",
            "ticks": ""
           },
           "bgcolor": "#E5ECF6",
           "radialaxis": {
            "gridcolor": "white",
            "linecolor": "white",
            "ticks": ""
           }
          },
          "scene": {
           "xaxis": {
            "backgroundcolor": "#E5ECF6",
            "gridcolor": "white",
            "gridwidth": 2,
            "linecolor": "white",
            "showbackground": true,
            "ticks": "",
            "zerolinecolor": "white"
           },
           "yaxis": {
            "backgroundcolor": "#E5ECF6",
            "gridcolor": "white",
            "gridwidth": 2,
            "linecolor": "white",
            "showbackground": true,
            "ticks": "",
            "zerolinecolor": "white"
           },
           "zaxis": {
            "backgroundcolor": "#E5ECF6",
            "gridcolor": "white",
            "gridwidth": 2,
            "linecolor": "white",
            "showbackground": true,
            "ticks": "",
            "zerolinecolor": "white"
           }
          },
          "shapedefaults": {
           "line": {
            "color": "#2a3f5f"
           }
          },
          "ternary": {
           "aaxis": {
            "gridcolor": "white",
            "linecolor": "white",
            "ticks": ""
           },
           "baxis": {
            "gridcolor": "white",
            "linecolor": "white",
            "ticks": ""
           },
           "bgcolor": "#E5ECF6",
           "caxis": {
            "gridcolor": "white",
            "linecolor": "white",
            "ticks": ""
           }
          },
          "title": {
           "x": 0.05
          },
          "xaxis": {
           "automargin": true,
           "gridcolor": "white",
           "linecolor": "white",
           "ticks": "",
           "zerolinecolor": "white",
           "zerolinewidth": 2
          },
          "yaxis": {
           "automargin": true,
           "gridcolor": "white",
           "linecolor": "white",
           "ticks": "",
           "zerolinecolor": "white",
           "zerolinewidth": 2
          }
         }
        },
        "title": {
         "text": "newmse:tuwen:total_recommend:(doc_dur)"
        },
        "xaxis": {
         "type": "date"
        },
        "yaxis": {
         "title": {
          "text": "doc_dur"
         }
        }
       }
      },
      "text/html": [
       "<div>\n",
       "        \n",
       "        \n",
       "            <div id=\"f6946ddb-e7f4-4e5b-96c8-7b732037a297\" class=\"plotly-graph-div\" style=\"height:525px; width:100%;\"></div>\n",
       "            <script type=\"text/javascript\">\n",
       "                require([\"plotly\"], function(Plotly) {\n",
       "                    window.PLOTLYENV=window.PLOTLYENV || {};\n",
       "                    \n",
       "                if (document.getElementById(\"f6946ddb-e7f4-4e5b-96c8-7b732037a297\")) {\n",
       "                    Plotly.newPlot(\n",
       "                        'f6946ddb-e7f4-4e5b-96c8-7b732037a297',\n",
       "                        [{\"hovertext\": [\"0.0072\", \"0.0073\", \"-0.0029\", \"-0.0142\", \"0.0066\", \"-0.0033\", \"0.1516\", \"0.5271\", \"0.0240\", \"-0.4075\", \"-0.3757\", \"-0.3205\", \"-0.3174\", \"-0.3079\"], \"line\": {\"shape\": \"spline\", \"smoothing\": 1.0}, \"mode\": \"lines+markers\", \"name\": \"7\", \"showlegend\": true, \"type\": \"scatter\", \"x\": [\"2019-12-31T00:00:00\", \"2020-01-01T00:00:00\", \"2020-01-02T00:00:00\", \"2020-01-03T00:00:00\", \"2020-01-04T00:00:00\", \"2020-01-05T00:00:00\", \"2020-01-06T00:00:00\", \"2020-01-07T00:00:00\", \"2020-01-08T00:00:00\", \"2020-01-09T00:00:00\", \"2020-01-10T00:00:00\", \"2020-01-11T00:00:00\", \"2020-01-12T00:00:00\", \"2020-01-13T00:00:00\"], \"y\": [1.0689419284835353, 1.0367233390486728, 1.0641943923686328, 1.0576071747712665, 1.0652184275984156, 1.1247345147376981, 1.282565670857818, 1.700691389388779, 1.364150390321353, 1.0985755318034953, 1.0984817211417106, 1.1487965906956068, 1.1671784141273687, 1.1326661312406614]}, {\"line\": {\"shape\": \"spline\", \"smoothing\": 1.0}, \"mode\": \"lines+markers\", \"name\": \"456\", \"showlegend\": true, \"type\": \"scatter\", \"x\": [\"2019-12-31T00:00:00\", \"2020-01-01T00:00:00\", \"2020-01-02T00:00:00\", \"2020-01-03T00:00:00\", \"2020-01-04T00:00:00\", \"2020-01-05T00:00:00\", \"2020-01-06T00:00:00\", \"2020-01-07T00:00:00\", \"2020-01-08T00:00:00\", \"2020-01-09T00:00:00\", \"2020-01-10T00:00:00\", \"2020-01-11T00:00:00\", \"2020-01-12T00:00:00\", \"2020-01-13T00:00:00\"], \"y\": [1.0613332201196275, 1.0292574678389084, 1.0672394358924047, 1.0728508429872539, 1.0582819180118825, 1.1284568921581464, 1.1136980150512548, 1.113701491902, 1.3321143499162023, 1.8542001177904508, 1.7594863947067754, 1.6907248954771792, 1.7099342049311046, 1.6365250806264007]}],\n",
       "                        {\"hovermode\": \"x\", \"template\": {\"data\": {\"bar\": [{\"error_x\": {\"color\": \"#2a3f5f\"}, \"error_y\": {\"color\": \"#2a3f5f\"}, \"marker\": {\"line\": {\"color\": \"#E5ECF6\", \"width\": 0.5}}, \"type\": \"bar\"}], \"barpolar\": [{\"marker\": {\"line\": {\"color\": \"#E5ECF6\", \"width\": 0.5}}, \"type\": \"barpolar\"}], \"carpet\": [{\"aaxis\": {\"endlinecolor\": \"#2a3f5f\", \"gridcolor\": \"white\", \"linecolor\": \"white\", \"minorgridcolor\": \"white\", \"startlinecolor\": \"#2a3f5f\"}, \"baxis\": {\"endlinecolor\": \"#2a3f5f\", \"gridcolor\": \"white\", \"linecolor\": \"white\", \"minorgridcolor\": \"white\", \"startlinecolor\": \"#2a3f5f\"}, \"type\": \"carpet\"}], \"choropleth\": [{\"colorbar\": {\"outlinewidth\": 0, \"ticks\": \"\"}, \"type\": \"choropleth\"}], \"contour\": [{\"colorbar\": {\"outlinewidth\": 0, \"ticks\": \"\"}, \"colorscale\": [[0.0, \"#0d0887\"], [0.1111111111111111, \"#46039f\"], [0.2222222222222222, \"#7201a8\"], [0.3333333333333333, \"#9c179e\"], [0.4444444444444444, \"#bd3786\"], [0.5555555555555556, \"#d8576b\"], [0.6666666666666666, \"#ed7953\"], [0.7777777777777778, \"#fb9f3a\"], [0.8888888888888888, \"#fdca26\"], [1.0, \"#f0f921\"]], \"type\": \"contour\"}], \"contourcarpet\": [{\"colorbar\": {\"outlinewidth\": 0, \"ticks\": \"\"}, \"type\": \"contourcarpet\"}], \"heatmap\": [{\"colorbar\": {\"outlinewidth\": 0, \"ticks\": \"\"}, \"colorscale\": [[0.0, \"#0d0887\"], [0.1111111111111111, \"#46039f\"], [0.2222222222222222, \"#7201a8\"], [0.3333333333333333, \"#9c179e\"], [0.4444444444444444, \"#bd3786\"], [0.5555555555555556, \"#d8576b\"], [0.6666666666666666, \"#ed7953\"], [0.7777777777777778, \"#fb9f3a\"], [0.8888888888888888, \"#fdca26\"], [1.0, \"#f0f921\"]], \"type\": \"heatmap\"}], \"heatmapgl\": [{\"colorbar\": {\"outlinewidth\": 0, \"ticks\": \"\"}, \"colorscale\": [[0.0, \"#0d0887\"], [0.1111111111111111, \"#46039f\"], [0.2222222222222222, \"#7201a8\"], [0.3333333333333333, \"#9c179e\"], [0.4444444444444444, \"#bd3786\"], [0.5555555555555556, \"#d8576b\"], [0.6666666666666666, \"#ed7953\"], [0.7777777777777778, \"#fb9f3a\"], [0.8888888888888888, \"#fdca26\"], [1.0, \"#f0f921\"]], \"type\": \"heatmapgl\"}], \"histogram\": [{\"marker\": {\"colorbar\": {\"outlinewidth\": 0, \"ticks\": \"\"}}, \"type\": \"histogram\"}], \"histogram2d\": [{\"colorbar\": {\"outlinewidth\": 0, \"ticks\": \"\"}, \"colorscale\": [[0.0, \"#0d0887\"], [0.1111111111111111, \"#46039f\"], [0.2222222222222222, \"#7201a8\"], [0.3333333333333333, \"#9c179e\"], [0.4444444444444444, \"#bd3786\"], [0.5555555555555556, \"#d8576b\"], [0.6666666666666666, \"#ed7953\"], [0.7777777777777778, \"#fb9f3a\"], [0.8888888888888888, \"#fdca26\"], [1.0, \"#f0f921\"]], \"type\": \"histogram2d\"}], \"histogram2dcontour\": [{\"colorbar\": {\"outlinewidth\": 0, \"ticks\": \"\"}, \"colorscale\": [[0.0, \"#0d0887\"], [0.1111111111111111, \"#46039f\"], [0.2222222222222222, \"#7201a8\"], [0.3333333333333333, \"#9c179e\"], [0.4444444444444444, \"#bd3786\"], [0.5555555555555556, \"#d8576b\"], [0.6666666666666666, \"#ed7953\"], [0.7777777777777778, \"#fb9f3a\"], [0.8888888888888888, \"#fdca26\"], [1.0, \"#f0f921\"]], \"type\": \"histogram2dcontour\"}], \"mesh3d\": [{\"colorbar\": {\"outlinewidth\": 0, \"ticks\": \"\"}, \"type\": \"mesh3d\"}], \"parcoords\": [{\"line\": {\"colorbar\": {\"outlinewidth\": 0, \"ticks\": \"\"}}, \"type\": \"parcoords\"}], \"scatter\": [{\"marker\": {\"colorbar\": {\"outlinewidth\": 0, \"ticks\": \"\"}}, \"type\": \"scatter\"}], \"scatter3d\": [{\"line\": {\"colorbar\": {\"outlinewidth\": 0, \"ticks\": \"\"}}, \"marker\": {\"colorbar\": {\"outlinewidth\": 0, \"ticks\": \"\"}}, \"type\": \"scatter3d\"}], \"scattercarpet\": [{\"marker\": {\"colorbar\": {\"outlinewidth\": 0, \"ticks\": \"\"}}, \"type\": \"scattercarpet\"}], \"scattergeo\": [{\"marker\": {\"colorbar\": {\"outlinewidth\": 0, \"ticks\": \"\"}}, \"type\": \"scattergeo\"}], \"scattergl\": [{\"marker\": {\"colorbar\": {\"outlinewidth\": 0, \"ticks\": \"\"}}, \"type\": \"scattergl\"}], \"scattermapbox\": [{\"marker\": {\"colorbar\": {\"outlinewidth\": 0, \"ticks\": \"\"}}, \"type\": \"scattermapbox\"}], \"scatterpolar\": [{\"marker\": {\"colorbar\": {\"outlinewidth\": 0, \"ticks\": \"\"}}, \"type\": \"scatterpolar\"}], \"scatterpolargl\": [{\"marker\": {\"colorbar\": {\"outlinewidth\": 0, \"ticks\": \"\"}}, \"type\": \"scatterpolargl\"}], \"scatterternary\": [{\"marker\": {\"colorbar\": {\"outlinewidth\": 0, \"ticks\": \"\"}}, \"type\": \"scatterternary\"}], \"surface\": [{\"colorbar\": {\"outlinewidth\": 0, \"ticks\": \"\"}, \"colorscale\": [[0.0, \"#0d0887\"], [0.1111111111111111, \"#46039f\"], [0.2222222222222222, \"#7201a8\"], [0.3333333333333333, \"#9c179e\"], [0.4444444444444444, \"#bd3786\"], [0.5555555555555556, \"#d8576b\"], [0.6666666666666666, \"#ed7953\"], [0.7777777777777778, \"#fb9f3a\"], [0.8888888888888888, \"#fdca26\"], [1.0, \"#f0f921\"]], \"type\": \"surface\"}], \"table\": [{\"cells\": {\"fill\": {\"color\": \"#EBF0F8\"}, \"line\": {\"color\": \"white\"}}, \"header\": {\"fill\": {\"color\": \"#C8D4E3\"}, \"line\": {\"color\": \"white\"}}, \"type\": \"table\"}]}, \"layout\": {\"annotationdefaults\": {\"arrowcolor\": \"#2a3f5f\", \"arrowhead\": 0, \"arrowwidth\": 1}, \"colorscale\": {\"diverging\": [[0, \"#8e0152\"], [0.1, \"#c51b7d\"], [0.2, \"#de77ae\"], [0.3, \"#f1b6da\"], [0.4, \"#fde0ef\"], [0.5, \"#f7f7f7\"], [0.6, \"#e6f5d0\"], [0.7, \"#b8e186\"], [0.8, \"#7fbc41\"], [0.9, \"#4d9221\"], [1, \"#276419\"]], \"sequential\": [[0.0, \"#0d0887\"], [0.1111111111111111, \"#46039f\"], [0.2222222222222222, \"#7201a8\"], [0.3333333333333333, \"#9c179e\"], [0.4444444444444444, \"#bd3786\"], [0.5555555555555556, \"#d8576b\"], [0.6666666666666666, \"#ed7953\"], [0.7777777777777778, \"#fb9f3a\"], [0.8888888888888888, \"#fdca26\"], [1.0, \"#f0f921\"]], \"sequentialminus\": [[0.0, \"#0d0887\"], [0.1111111111111111, \"#46039f\"], [0.2222222222222222, \"#7201a8\"], [0.3333333333333333, \"#9c179e\"], [0.4444444444444444, \"#bd3786\"], [0.5555555555555556, \"#d8576b\"], [0.6666666666666666, \"#ed7953\"], [0.7777777777777778, \"#fb9f3a\"], [0.8888888888888888, \"#fdca26\"], [1.0, \"#f0f921\"]]}, \"colorway\": [\"#636efa\", \"#EF553B\", \"#00cc96\", \"#ab63fa\", \"#FFA15A\", \"#19d3f3\", \"#FF6692\", \"#B6E880\", \"#FF97FF\", \"#FECB52\"], \"font\": {\"color\": \"#2a3f5f\"}, \"geo\": {\"bgcolor\": \"white\", \"lakecolor\": \"white\", \"landcolor\": \"#E5ECF6\", \"showlakes\": true, \"showland\": true, \"subunitcolor\": \"white\"}, \"hoverlabel\": {\"align\": \"left\"}, \"hovermode\": \"closest\", \"mapbox\": {\"style\": \"light\"}, \"paper_bgcolor\": \"white\", \"plot_bgcolor\": \"#E5ECF6\", \"polar\": {\"angularaxis\": {\"gridcolor\": \"white\", \"linecolor\": \"white\", \"ticks\": \"\"}, \"bgcolor\": \"#E5ECF6\", \"radialaxis\": {\"gridcolor\": \"white\", \"linecolor\": \"white\", \"ticks\": \"\"}}, \"scene\": {\"xaxis\": {\"backgroundcolor\": \"#E5ECF6\", \"gridcolor\": \"white\", \"gridwidth\": 2, \"linecolor\": \"white\", \"showbackground\": true, \"ticks\": \"\", \"zerolinecolor\": \"white\"}, \"yaxis\": {\"backgroundcolor\": \"#E5ECF6\", \"gridcolor\": \"white\", \"gridwidth\": 2, \"linecolor\": \"white\", \"showbackground\": true, \"ticks\": \"\", \"zerolinecolor\": \"white\"}, \"zaxis\": {\"backgroundcolor\": \"#E5ECF6\", \"gridcolor\": \"white\", \"gridwidth\": 2, \"linecolor\": \"white\", \"showbackground\": true, \"ticks\": \"\", \"zerolinecolor\": \"white\"}}, \"shapedefaults\": {\"line\": {\"color\": \"#2a3f5f\"}}, \"ternary\": {\"aaxis\": {\"gridcolor\": \"white\", \"linecolor\": \"white\", \"ticks\": \"\"}, \"baxis\": {\"gridcolor\": \"white\", \"linecolor\": \"white\", \"ticks\": \"\"}, \"bgcolor\": \"#E5ECF6\", \"caxis\": {\"gridcolor\": \"white\", \"linecolor\": \"white\", \"ticks\": \"\"}}, \"title\": {\"x\": 0.05}, \"xaxis\": {\"automargin\": true, \"gridcolor\": \"white\", \"linecolor\": \"white\", \"ticks\": \"\", \"zerolinecolor\": \"white\", \"zerolinewidth\": 2}, \"yaxis\": {\"automargin\": true, \"gridcolor\": \"white\", \"linecolor\": \"white\", \"ticks\": \"\", \"zerolinecolor\": \"white\", \"zerolinewidth\": 2}}}, \"title\": {\"text\": \"newmse:tuwen:total_recommend:(doc_dur)\"}, \"xaxis\": {\"type\": \"date\"}, \"yaxis\": {\"title\": {\"text\": \"doc_dur\"}}},\n",
       "                        {\"responsive\": true}\n",
       "                    ).then(function(){\n",
       "                            \n",
       "var gd = document.getElementById('f6946ddb-e7f4-4e5b-96c8-7b732037a297');\n",
       "var x = new MutationObserver(function (mutations, observer) {{\n",
       "        var display = window.getComputedStyle(gd).display;\n",
       "        if (!display || display === 'none') {{\n",
       "            console.log([gd, 'removed!']);\n",
       "            Plotly.purge(gd);\n",
       "            observer.disconnect();\n",
       "        }}\n",
       "}});\n",
       "\n",
       "// Listen for the removal of the full notebook cells\n",
       "var notebookContainer = gd.closest('#notebook-container');\n",
       "if (notebookContainer) {{\n",
       "    x.observe(notebookContainer, {childList: true});\n",
       "}}\n",
       "\n",
       "// Listen for the clearing of the current output cell\n",
       "var outputEl = gd.closest('.output');\n",
       "if (outputEl) {{\n",
       "    x.observe(outputEl, {childList: true});\n",
       "}}\n",
       "\n",
       "                        })\n",
       "                };\n",
       "                });\n",
       "            </script>\n",
       "        </div>"
      ]
     },
     "metadata": {},
     "output_type": "display_data"
    },
    {
     "data": {
      "application/vnd.plotly.v1+json": {
       "config": {
        "linkText": "Export to plot.ly",
        "plotlyServerURL": "https://plot.ly",
        "showLink": false
       },
       "data": [
        {
         "hovertext": [
          "0.0011",
          "-0.0047",
          "0.0096",
          "0.0057",
          "-0.0046",
          "-0.0066",
          "0.0030",
          "0.0041",
          "0.0015",
          "-0.0028",
          "-0.0027",
          "-0.0126",
          "-0.0123",
          "-0.0105"
         ],
         "line": {
          "shape": "spline",
          "smoothing": 1
         },
         "mode": "lines+markers",
         "name": "7",
         "showlegend": true,
         "type": "scatter",
         "x": [
          "2019-12-31T00:00:00",
          "2020-01-01T00:00:00",
          "2020-01-02T00:00:00",
          "2020-01-03T00:00:00",
          "2020-01-04T00:00:00",
          "2020-01-05T00:00:00",
          "2020-01-06T00:00:00",
          "2020-01-07T00:00:00",
          "2020-01-08T00:00:00",
          "2020-01-09T00:00:00",
          "2020-01-10T00:00:00",
          "2020-01-11T00:00:00",
          "2020-01-12T00:00:00",
          "2020-01-13T00:00:00"
         ],
         "y": [
          201816.8196399524,
          193434.96755137446,
          183829.7308997847,
          179308.30106905263,
          185775.6684752125,
          185962.84569795663,
          178921.840713272,
          183852.38603383783,
          180190.04185955285,
          180654.84931701462,
          181435.889247583,
          183109.1543625085,
          183523.86738575902,
          180949.48494394196
         ]
        },
        {
         "line": {
          "shape": "spline",
          "smoothing": 1
         },
         "mode": "lines+markers",
         "name": "456",
         "showlegend": true,
         "type": "scatter",
         "x": [
          "2019-12-31T00:00:00",
          "2020-01-01T00:00:00",
          "2020-01-02T00:00:00",
          "2020-01-03T00:00:00",
          "2020-01-04T00:00:00",
          "2020-01-05T00:00:00",
          "2020-01-06T00:00:00",
          "2020-01-07T00:00:00",
          "2020-01-08T00:00:00",
          "2020-01-09T00:00:00",
          "2020-01-10T00:00:00",
          "2020-01-11T00:00:00",
          "2020-01-12T00:00:00",
          "2020-01-13T00:00:00"
         ],
         "y": [
          201587,
          194347.66666666666,
          182082.66666666666,
          178290,
          186625.33333333334,
          187195.66666666666,
          178384.66666666666,
          183096.33333333334,
          179916,
          181154.66666666666,
          181922.66666666666,
          185452.33333333334,
          185809.66666666666,
          182861.66666666666
         ]
        }
       ],
       "layout": {
        "hovermode": "x",
        "template": {
         "data": {
          "bar": [
           {
            "error_x": {
             "color": "#2a3f5f"
            },
            "error_y": {
             "color": "#2a3f5f"
            },
            "marker": {
             "line": {
              "color": "#E5ECF6",
              "width": 0.5
             }
            },
            "type": "bar"
           }
          ],
          "barpolar": [
           {
            "marker": {
             "line": {
              "color": "#E5ECF6",
              "width": 0.5
             }
            },
            "type": "barpolar"
           }
          ],
          "carpet": [
           {
            "aaxis": {
             "endlinecolor": "#2a3f5f",
             "gridcolor": "white",
             "linecolor": "white",
             "minorgridcolor": "white",
             "startlinecolor": "#2a3f5f"
            },
            "baxis": {
             "endlinecolor": "#2a3f5f",
             "gridcolor": "white",
             "linecolor": "white",
             "minorgridcolor": "white",
             "startlinecolor": "#2a3f5f"
            },
            "type": "carpet"
           }
          ],
          "choropleth": [
           {
            "colorbar": {
             "outlinewidth": 0,
             "ticks": ""
            },
            "type": "choropleth"
           }
          ],
          "contour": [
           {
            "colorbar": {
             "outlinewidth": 0,
             "ticks": ""
            },
            "colorscale": [
             [
              0,
              "#0d0887"
             ],
             [
              0.1111111111111111,
              "#46039f"
             ],
             [
              0.2222222222222222,
              "#7201a8"
             ],
             [
              0.3333333333333333,
              "#9c179e"
             ],
             [
              0.4444444444444444,
              "#bd3786"
             ],
             [
              0.5555555555555556,
              "#d8576b"
             ],
             [
              0.6666666666666666,
              "#ed7953"
             ],
             [
              0.7777777777777778,
              "#fb9f3a"
             ],
             [
              0.8888888888888888,
              "#fdca26"
             ],
             [
              1,
              "#f0f921"
             ]
            ],
            "type": "contour"
           }
          ],
          "contourcarpet": [
           {
            "colorbar": {
             "outlinewidth": 0,
             "ticks": ""
            },
            "type": "contourcarpet"
           }
          ],
          "heatmap": [
           {
            "colorbar": {
             "outlinewidth": 0,
             "ticks": ""
            },
            "colorscale": [
             [
              0,
              "#0d0887"
             ],
             [
              0.1111111111111111,
              "#46039f"
             ],
             [
              0.2222222222222222,
              "#7201a8"
             ],
             [
              0.3333333333333333,
              "#9c179e"
             ],
             [
              0.4444444444444444,
              "#bd3786"
             ],
             [
              0.5555555555555556,
              "#d8576b"
             ],
             [
              0.6666666666666666,
              "#ed7953"
             ],
             [
              0.7777777777777778,
              "#fb9f3a"
             ],
             [
              0.8888888888888888,
              "#fdca26"
             ],
             [
              1,
              "#f0f921"
             ]
            ],
            "type": "heatmap"
           }
          ],
          "heatmapgl": [
           {
            "colorbar": {
             "outlinewidth": 0,
             "ticks": ""
            },
            "colorscale": [
             [
              0,
              "#0d0887"
             ],
             [
              0.1111111111111111,
              "#46039f"
             ],
             [
              0.2222222222222222,
              "#7201a8"
             ],
             [
              0.3333333333333333,
              "#9c179e"
             ],
             [
              0.4444444444444444,
              "#bd3786"
             ],
             [
              0.5555555555555556,
              "#d8576b"
             ],
             [
              0.6666666666666666,
              "#ed7953"
             ],
             [
              0.7777777777777778,
              "#fb9f3a"
             ],
             [
              0.8888888888888888,
              "#fdca26"
             ],
             [
              1,
              "#f0f921"
             ]
            ],
            "type": "heatmapgl"
           }
          ],
          "histogram": [
           {
            "marker": {
             "colorbar": {
              "outlinewidth": 0,
              "ticks": ""
             }
            },
            "type": "histogram"
           }
          ],
          "histogram2d": [
           {
            "colorbar": {
             "outlinewidth": 0,
             "ticks": ""
            },
            "colorscale": [
             [
              0,
              "#0d0887"
             ],
             [
              0.1111111111111111,
              "#46039f"
             ],
             [
              0.2222222222222222,
              "#7201a8"
             ],
             [
              0.3333333333333333,
              "#9c179e"
             ],
             [
              0.4444444444444444,
              "#bd3786"
             ],
             [
              0.5555555555555556,
              "#d8576b"
             ],
             [
              0.6666666666666666,
              "#ed7953"
             ],
             [
              0.7777777777777778,
              "#fb9f3a"
             ],
             [
              0.8888888888888888,
              "#fdca26"
             ],
             [
              1,
              "#f0f921"
             ]
            ],
            "type": "histogram2d"
           }
          ],
          "histogram2dcontour": [
           {
            "colorbar": {
             "outlinewidth": 0,
             "ticks": ""
            },
            "colorscale": [
             [
              0,
              "#0d0887"
             ],
             [
              0.1111111111111111,
              "#46039f"
             ],
             [
              0.2222222222222222,
              "#7201a8"
             ],
             [
              0.3333333333333333,
              "#9c179e"
             ],
             [
              0.4444444444444444,
              "#bd3786"
             ],
             [
              0.5555555555555556,
              "#d8576b"
             ],
             [
              0.6666666666666666,
              "#ed7953"
             ],
             [
              0.7777777777777778,
              "#fb9f3a"
             ],
             [
              0.8888888888888888,
              "#fdca26"
             ],
             [
              1,
              "#f0f921"
             ]
            ],
            "type": "histogram2dcontour"
           }
          ],
          "mesh3d": [
           {
            "colorbar": {
             "outlinewidth": 0,
             "ticks": ""
            },
            "type": "mesh3d"
           }
          ],
          "parcoords": [
           {
            "line": {
             "colorbar": {
              "outlinewidth": 0,
              "ticks": ""
             }
            },
            "type": "parcoords"
           }
          ],
          "scatter": [
           {
            "marker": {
             "colorbar": {
              "outlinewidth": 0,
              "ticks": ""
             }
            },
            "type": "scatter"
           }
          ],
          "scatter3d": [
           {
            "line": {
             "colorbar": {
              "outlinewidth": 0,
              "ticks": ""
             }
            },
            "marker": {
             "colorbar": {
              "outlinewidth": 0,
              "ticks": ""
             }
            },
            "type": "scatter3d"
           }
          ],
          "scattercarpet": [
           {
            "marker": {
             "colorbar": {
              "outlinewidth": 0,
              "ticks": ""
             }
            },
            "type": "scattercarpet"
           }
          ],
          "scattergeo": [
           {
            "marker": {
             "colorbar": {
              "outlinewidth": 0,
              "ticks": ""
             }
            },
            "type": "scattergeo"
           }
          ],
          "scattergl": [
           {
            "marker": {
             "colorbar": {
              "outlinewidth": 0,
              "ticks": ""
             }
            },
            "type": "scattergl"
           }
          ],
          "scattermapbox": [
           {
            "marker": {
             "colorbar": {
              "outlinewidth": 0,
              "ticks": ""
             }
            },
            "type": "scattermapbox"
           }
          ],
          "scatterpolar": [
           {
            "marker": {
             "colorbar": {
              "outlinewidth": 0,
              "ticks": ""
             }
            },
            "type": "scatterpolar"
           }
          ],
          "scatterpolargl": [
           {
            "marker": {
             "colorbar": {
              "outlinewidth": 0,
              "ticks": ""
             }
            },
            "type": "scatterpolargl"
           }
          ],
          "scatterternary": [
           {
            "marker": {
             "colorbar": {
              "outlinewidth": 0,
              "ticks": ""
             }
            },
            "type": "scatterternary"
           }
          ],
          "surface": [
           {
            "colorbar": {
             "outlinewidth": 0,
             "ticks": ""
            },
            "colorscale": [
             [
              0,
              "#0d0887"
             ],
             [
              0.1111111111111111,
              "#46039f"
             ],
             [
              0.2222222222222222,
              "#7201a8"
             ],
             [
              0.3333333333333333,
              "#9c179e"
             ],
             [
              0.4444444444444444,
              "#bd3786"
             ],
             [
              0.5555555555555556,
              "#d8576b"
             ],
             [
              0.6666666666666666,
              "#ed7953"
             ],
             [
              0.7777777777777778,
              "#fb9f3a"
             ],
             [
              0.8888888888888888,
              "#fdca26"
             ],
             [
              1,
              "#f0f921"
             ]
            ],
            "type": "surface"
           }
          ],
          "table": [
           {
            "cells": {
             "fill": {
              "color": "#EBF0F8"
             },
             "line": {
              "color": "white"
             }
            },
            "header": {
             "fill": {
              "color": "#C8D4E3"
             },
             "line": {
              "color": "white"
             }
            },
            "type": "table"
           }
          ]
         },
         "layout": {
          "annotationdefaults": {
           "arrowcolor": "#2a3f5f",
           "arrowhead": 0,
           "arrowwidth": 1
          },
          "colorscale": {
           "diverging": [
            [
             0,
             "#8e0152"
            ],
            [
             0.1,
             "#c51b7d"
            ],
            [
             0.2,
             "#de77ae"
            ],
            [
             0.3,
             "#f1b6da"
            ],
            [
             0.4,
             "#fde0ef"
            ],
            [
             0.5,
             "#f7f7f7"
            ],
            [
             0.6,
             "#e6f5d0"
            ],
            [
             0.7,
             "#b8e186"
            ],
            [
             0.8,
             "#7fbc41"
            ],
            [
             0.9,
             "#4d9221"
            ],
            [
             1,
             "#276419"
            ]
           ],
           "sequential": [
            [
             0,
             "#0d0887"
            ],
            [
             0.1111111111111111,
             "#46039f"
            ],
            [
             0.2222222222222222,
             "#7201a8"
            ],
            [
             0.3333333333333333,
             "#9c179e"
            ],
            [
             0.4444444444444444,
             "#bd3786"
            ],
            [
             0.5555555555555556,
             "#d8576b"
            ],
            [
             0.6666666666666666,
             "#ed7953"
            ],
            [
             0.7777777777777778,
             "#fb9f3a"
            ],
            [
             0.8888888888888888,
             "#fdca26"
            ],
            [
             1,
             "#f0f921"
            ]
           ],
           "sequentialminus": [
            [
             0,
             "#0d0887"
            ],
            [
             0.1111111111111111,
             "#46039f"
            ],
            [
             0.2222222222222222,
             "#7201a8"
            ],
            [
             0.3333333333333333,
             "#9c179e"
            ],
            [
             0.4444444444444444,
             "#bd3786"
            ],
            [
             0.5555555555555556,
             "#d8576b"
            ],
            [
             0.6666666666666666,
             "#ed7953"
            ],
            [
             0.7777777777777778,
             "#fb9f3a"
            ],
            [
             0.8888888888888888,
             "#fdca26"
            ],
            [
             1,
             "#f0f921"
            ]
           ]
          },
          "colorway": [
           "#636efa",
           "#EF553B",
           "#00cc96",
           "#ab63fa",
           "#FFA15A",
           "#19d3f3",
           "#FF6692",
           "#B6E880",
           "#FF97FF",
           "#FECB52"
          ],
          "font": {
           "color": "#2a3f5f"
          },
          "geo": {
           "bgcolor": "white",
           "lakecolor": "white",
           "landcolor": "#E5ECF6",
           "showlakes": true,
           "showland": true,
           "subunitcolor": "white"
          },
          "hoverlabel": {
           "align": "left"
          },
          "hovermode": "closest",
          "mapbox": {
           "style": "light"
          },
          "paper_bgcolor": "white",
          "plot_bgcolor": "#E5ECF6",
          "polar": {
           "angularaxis": {
            "gridcolor": "white",
            "linecolor": "white",
            "ticks": ""
           },
           "bgcolor": "#E5ECF6",
           "radialaxis": {
            "gridcolor": "white",
            "linecolor": "white",
            "ticks": ""
           }
          },
          "scene": {
           "xaxis": {
            "backgroundcolor": "#E5ECF6",
            "gridcolor": "white",
            "gridwidth": 2,
            "linecolor": "white",
            "showbackground": true,
            "ticks": "",
            "zerolinecolor": "white"
           },
           "yaxis": {
            "backgroundcolor": "#E5ECF6",
            "gridcolor": "white",
            "gridwidth": 2,
            "linecolor": "white",
            "showbackground": true,
            "ticks": "",
            "zerolinecolor": "white"
           },
           "zaxis": {
            "backgroundcolor": "#E5ECF6",
            "gridcolor": "white",
            "gridwidth": 2,
            "linecolor": "white",
            "showbackground": true,
            "ticks": "",
            "zerolinecolor": "white"
           }
          },
          "shapedefaults": {
           "line": {
            "color": "#2a3f5f"
           }
          },
          "ternary": {
           "aaxis": {
            "gridcolor": "white",
            "linecolor": "white",
            "ticks": ""
           },
           "baxis": {
            "gridcolor": "white",
            "linecolor": "white",
            "ticks": ""
           },
           "bgcolor": "#E5ECF6",
           "caxis": {
            "gridcolor": "white",
            "linecolor": "white",
            "ticks": ""
           }
          },
          "title": {
           "x": 0.05
          },
          "xaxis": {
           "automargin": true,
           "gridcolor": "white",
           "linecolor": "white",
           "ticks": "",
           "zerolinecolor": "white",
           "zerolinewidth": 2
          },
          "yaxis": {
           "automargin": true,
           "gridcolor": "white",
           "linecolor": "white",
           "ticks": "",
           "zerolinecolor": "white",
           "zerolinewidth": 2
          }
         }
        },
        "title": {
         "text": "newmse:tuwen:total_recommend:(dis_user)"
        },
        "xaxis": {
         "type": "date"
        },
        "yaxis": {
         "title": {
          "text": "dis_user"
         }
        }
       }
      },
      "text/html": [
       "<div>\n",
       "        \n",
       "        \n",
       "            <div id=\"5778a91e-72a6-4ecf-b5f4-8b9b50de5c57\" class=\"plotly-graph-div\" style=\"height:525px; width:100%;\"></div>\n",
       "            <script type=\"text/javascript\">\n",
       "                require([\"plotly\"], function(Plotly) {\n",
       "                    window.PLOTLYENV=window.PLOTLYENV || {};\n",
       "                    \n",
       "                if (document.getElementById(\"5778a91e-72a6-4ecf-b5f4-8b9b50de5c57\")) {\n",
       "                    Plotly.newPlot(\n",
       "                        '5778a91e-72a6-4ecf-b5f4-8b9b50de5c57',\n",
       "                        [{\"hovertext\": [\"0.0011\", \"-0.0047\", \"0.0096\", \"0.0057\", \"-0.0046\", \"-0.0066\", \"0.0030\", \"0.0041\", \"0.0015\", \"-0.0028\", \"-0.0027\", \"-0.0126\", \"-0.0123\", \"-0.0105\"], \"line\": {\"shape\": \"spline\", \"smoothing\": 1.0}, \"mode\": \"lines+markers\", \"name\": \"7\", \"showlegend\": true, \"type\": \"scatter\", \"x\": [\"2019-12-31T00:00:00\", \"2020-01-01T00:00:00\", \"2020-01-02T00:00:00\", \"2020-01-03T00:00:00\", \"2020-01-04T00:00:00\", \"2020-01-05T00:00:00\", \"2020-01-06T00:00:00\", \"2020-01-07T00:00:00\", \"2020-01-08T00:00:00\", \"2020-01-09T00:00:00\", \"2020-01-10T00:00:00\", \"2020-01-11T00:00:00\", \"2020-01-12T00:00:00\", \"2020-01-13T00:00:00\"], \"y\": [201816.8196399524, 193434.96755137446, 183829.7308997847, 179308.30106905263, 185775.6684752125, 185962.84569795663, 178921.840713272, 183852.38603383783, 180190.04185955285, 180654.84931701462, 181435.889247583, 183109.1543625085, 183523.86738575902, 180949.48494394196]}, {\"line\": {\"shape\": \"spline\", \"smoothing\": 1.0}, \"mode\": \"lines+markers\", \"name\": \"456\", \"showlegend\": true, \"type\": \"scatter\", \"x\": [\"2019-12-31T00:00:00\", \"2020-01-01T00:00:00\", \"2020-01-02T00:00:00\", \"2020-01-03T00:00:00\", \"2020-01-04T00:00:00\", \"2020-01-05T00:00:00\", \"2020-01-06T00:00:00\", \"2020-01-07T00:00:00\", \"2020-01-08T00:00:00\", \"2020-01-09T00:00:00\", \"2020-01-10T00:00:00\", \"2020-01-11T00:00:00\", \"2020-01-12T00:00:00\", \"2020-01-13T00:00:00\"], \"y\": [201587.0, 194347.66666666666, 182082.66666666666, 178290.0, 186625.33333333334, 187195.66666666666, 178384.66666666666, 183096.33333333334, 179916.0, 181154.66666666666, 181922.66666666666, 185452.33333333334, 185809.66666666666, 182861.66666666666]}],\n",
       "                        {\"hovermode\": \"x\", \"template\": {\"data\": {\"bar\": [{\"error_x\": {\"color\": \"#2a3f5f\"}, \"error_y\": {\"color\": \"#2a3f5f\"}, \"marker\": {\"line\": {\"color\": \"#E5ECF6\", \"width\": 0.5}}, \"type\": \"bar\"}], \"barpolar\": [{\"marker\": {\"line\": {\"color\": \"#E5ECF6\", \"width\": 0.5}}, \"type\": \"barpolar\"}], \"carpet\": [{\"aaxis\": {\"endlinecolor\": \"#2a3f5f\", \"gridcolor\": \"white\", \"linecolor\": \"white\", \"minorgridcolor\": \"white\", \"startlinecolor\": \"#2a3f5f\"}, \"baxis\": {\"endlinecolor\": \"#2a3f5f\", \"gridcolor\": \"white\", \"linecolor\": \"white\", \"minorgridcolor\": \"white\", \"startlinecolor\": \"#2a3f5f\"}, \"type\": \"carpet\"}], \"choropleth\": [{\"colorbar\": {\"outlinewidth\": 0, \"ticks\": \"\"}, \"type\": \"choropleth\"}], \"contour\": [{\"colorbar\": {\"outlinewidth\": 0, \"ticks\": \"\"}, \"colorscale\": [[0.0, \"#0d0887\"], [0.1111111111111111, \"#46039f\"], [0.2222222222222222, \"#7201a8\"], [0.3333333333333333, \"#9c179e\"], [0.4444444444444444, \"#bd3786\"], [0.5555555555555556, \"#d8576b\"], [0.6666666666666666, \"#ed7953\"], [0.7777777777777778, \"#fb9f3a\"], [0.8888888888888888, \"#fdca26\"], [1.0, \"#f0f921\"]], \"type\": \"contour\"}], \"contourcarpet\": [{\"colorbar\": {\"outlinewidth\": 0, \"ticks\": \"\"}, \"type\": \"contourcarpet\"}], \"heatmap\": [{\"colorbar\": {\"outlinewidth\": 0, \"ticks\": \"\"}, \"colorscale\": [[0.0, \"#0d0887\"], [0.1111111111111111, \"#46039f\"], [0.2222222222222222, \"#7201a8\"], [0.3333333333333333, \"#9c179e\"], [0.4444444444444444, \"#bd3786\"], [0.5555555555555556, \"#d8576b\"], [0.6666666666666666, \"#ed7953\"], [0.7777777777777778, \"#fb9f3a\"], [0.8888888888888888, \"#fdca26\"], [1.0, \"#f0f921\"]], \"type\": \"heatmap\"}], \"heatmapgl\": [{\"colorbar\": {\"outlinewidth\": 0, \"ticks\": \"\"}, \"colorscale\": [[0.0, \"#0d0887\"], [0.1111111111111111, \"#46039f\"], [0.2222222222222222, \"#7201a8\"], [0.3333333333333333, \"#9c179e\"], [0.4444444444444444, \"#bd3786\"], [0.5555555555555556, \"#d8576b\"], [0.6666666666666666, \"#ed7953\"], [0.7777777777777778, \"#fb9f3a\"], [0.8888888888888888, \"#fdca26\"], [1.0, \"#f0f921\"]], \"type\": \"heatmapgl\"}], \"histogram\": [{\"marker\": {\"colorbar\": {\"outlinewidth\": 0, \"ticks\": \"\"}}, \"type\": \"histogram\"}], \"histogram2d\": [{\"colorbar\": {\"outlinewidth\": 0, \"ticks\": \"\"}, \"colorscale\": [[0.0, \"#0d0887\"], [0.1111111111111111, \"#46039f\"], [0.2222222222222222, \"#7201a8\"], [0.3333333333333333, \"#9c179e\"], [0.4444444444444444, \"#bd3786\"], [0.5555555555555556, \"#d8576b\"], [0.6666666666666666, \"#ed7953\"], [0.7777777777777778, \"#fb9f3a\"], [0.8888888888888888, \"#fdca26\"], [1.0, \"#f0f921\"]], \"type\": \"histogram2d\"}], \"histogram2dcontour\": [{\"colorbar\": {\"outlinewidth\": 0, \"ticks\": \"\"}, \"colorscale\": [[0.0, \"#0d0887\"], [0.1111111111111111, \"#46039f\"], [0.2222222222222222, \"#7201a8\"], [0.3333333333333333, \"#9c179e\"], [0.4444444444444444, \"#bd3786\"], [0.5555555555555556, \"#d8576b\"], [0.6666666666666666, \"#ed7953\"], [0.7777777777777778, \"#fb9f3a\"], [0.8888888888888888, \"#fdca26\"], [1.0, \"#f0f921\"]], \"type\": \"histogram2dcontour\"}], \"mesh3d\": [{\"colorbar\": {\"outlinewidth\": 0, \"ticks\": \"\"}, \"type\": \"mesh3d\"}], \"parcoords\": [{\"line\": {\"colorbar\": {\"outlinewidth\": 0, \"ticks\": \"\"}}, \"type\": \"parcoords\"}], \"scatter\": [{\"marker\": {\"colorbar\": {\"outlinewidth\": 0, \"ticks\": \"\"}}, \"type\": \"scatter\"}], \"scatter3d\": [{\"line\": {\"colorbar\": {\"outlinewidth\": 0, \"ticks\": \"\"}}, \"marker\": {\"colorbar\": {\"outlinewidth\": 0, \"ticks\": \"\"}}, \"type\": \"scatter3d\"}], \"scattercarpet\": [{\"marker\": {\"colorbar\": {\"outlinewidth\": 0, \"ticks\": \"\"}}, \"type\": \"scattercarpet\"}], \"scattergeo\": [{\"marker\": {\"colorbar\": {\"outlinewidth\": 0, \"ticks\": \"\"}}, \"type\": \"scattergeo\"}], \"scattergl\": [{\"marker\": {\"colorbar\": {\"outlinewidth\": 0, \"ticks\": \"\"}}, \"type\": \"scattergl\"}], \"scattermapbox\": [{\"marker\": {\"colorbar\": {\"outlinewidth\": 0, \"ticks\": \"\"}}, \"type\": \"scattermapbox\"}], \"scatterpolar\": [{\"marker\": {\"colorbar\": {\"outlinewidth\": 0, \"ticks\": \"\"}}, \"type\": \"scatterpolar\"}], \"scatterpolargl\": [{\"marker\": {\"colorbar\": {\"outlinewidth\": 0, \"ticks\": \"\"}}, \"type\": \"scatterpolargl\"}], \"scatterternary\": [{\"marker\": {\"colorbar\": {\"outlinewidth\": 0, \"ticks\": \"\"}}, \"type\": \"scatterternary\"}], \"surface\": [{\"colorbar\": {\"outlinewidth\": 0, \"ticks\": \"\"}, \"colorscale\": [[0.0, \"#0d0887\"], [0.1111111111111111, \"#46039f\"], [0.2222222222222222, \"#7201a8\"], [0.3333333333333333, \"#9c179e\"], [0.4444444444444444, \"#bd3786\"], [0.5555555555555556, \"#d8576b\"], [0.6666666666666666, \"#ed7953\"], [0.7777777777777778, \"#fb9f3a\"], [0.8888888888888888, \"#fdca26\"], [1.0, \"#f0f921\"]], \"type\": \"surface\"}], \"table\": [{\"cells\": {\"fill\": {\"color\": \"#EBF0F8\"}, \"line\": {\"color\": \"white\"}}, \"header\": {\"fill\": {\"color\": \"#C8D4E3\"}, \"line\": {\"color\": \"white\"}}, \"type\": \"table\"}]}, \"layout\": {\"annotationdefaults\": {\"arrowcolor\": \"#2a3f5f\", \"arrowhead\": 0, \"arrowwidth\": 1}, \"colorscale\": {\"diverging\": [[0, \"#8e0152\"], [0.1, \"#c51b7d\"], [0.2, \"#de77ae\"], [0.3, \"#f1b6da\"], [0.4, \"#fde0ef\"], [0.5, \"#f7f7f7\"], [0.6, \"#e6f5d0\"], [0.7, \"#b8e186\"], [0.8, \"#7fbc41\"], [0.9, \"#4d9221\"], [1, \"#276419\"]], \"sequential\": [[0.0, \"#0d0887\"], [0.1111111111111111, \"#46039f\"], [0.2222222222222222, \"#7201a8\"], [0.3333333333333333, \"#9c179e\"], [0.4444444444444444, \"#bd3786\"], [0.5555555555555556, \"#d8576b\"], [0.6666666666666666, \"#ed7953\"], [0.7777777777777778, \"#fb9f3a\"], [0.8888888888888888, \"#fdca26\"], [1.0, \"#f0f921\"]], \"sequentialminus\": [[0.0, \"#0d0887\"], [0.1111111111111111, \"#46039f\"], [0.2222222222222222, \"#7201a8\"], [0.3333333333333333, \"#9c179e\"], [0.4444444444444444, \"#bd3786\"], [0.5555555555555556, \"#d8576b\"], [0.6666666666666666, \"#ed7953\"], [0.7777777777777778, \"#fb9f3a\"], [0.8888888888888888, \"#fdca26\"], [1.0, \"#f0f921\"]]}, \"colorway\": [\"#636efa\", \"#EF553B\", \"#00cc96\", \"#ab63fa\", \"#FFA15A\", \"#19d3f3\", \"#FF6692\", \"#B6E880\", \"#FF97FF\", \"#FECB52\"], \"font\": {\"color\": \"#2a3f5f\"}, \"geo\": {\"bgcolor\": \"white\", \"lakecolor\": \"white\", \"landcolor\": \"#E5ECF6\", \"showlakes\": true, \"showland\": true, \"subunitcolor\": \"white\"}, \"hoverlabel\": {\"align\": \"left\"}, \"hovermode\": \"closest\", \"mapbox\": {\"style\": \"light\"}, \"paper_bgcolor\": \"white\", \"plot_bgcolor\": \"#E5ECF6\", \"polar\": {\"angularaxis\": {\"gridcolor\": \"white\", \"linecolor\": \"white\", \"ticks\": \"\"}, \"bgcolor\": \"#E5ECF6\", \"radialaxis\": {\"gridcolor\": \"white\", \"linecolor\": \"white\", \"ticks\": \"\"}}, \"scene\": {\"xaxis\": {\"backgroundcolor\": \"#E5ECF6\", \"gridcolor\": \"white\", \"gridwidth\": 2, \"linecolor\": \"white\", \"showbackground\": true, \"ticks\": \"\", \"zerolinecolor\": \"white\"}, \"yaxis\": {\"backgroundcolor\": \"#E5ECF6\", \"gridcolor\": \"white\", \"gridwidth\": 2, \"linecolor\": \"white\", \"showbackground\": true, \"ticks\": \"\", \"zerolinecolor\": \"white\"}, \"zaxis\": {\"backgroundcolor\": \"#E5ECF6\", \"gridcolor\": \"white\", \"gridwidth\": 2, \"linecolor\": \"white\", \"showbackground\": true, \"ticks\": \"\", \"zerolinecolor\": \"white\"}}, \"shapedefaults\": {\"line\": {\"color\": \"#2a3f5f\"}}, \"ternary\": {\"aaxis\": {\"gridcolor\": \"white\", \"linecolor\": \"white\", \"ticks\": \"\"}, \"baxis\": {\"gridcolor\": \"white\", \"linecolor\": \"white\", \"ticks\": \"\"}, \"bgcolor\": \"#E5ECF6\", \"caxis\": {\"gridcolor\": \"white\", \"linecolor\": \"white\", \"ticks\": \"\"}}, \"title\": {\"x\": 0.05}, \"xaxis\": {\"automargin\": true, \"gridcolor\": \"white\", \"linecolor\": \"white\", \"ticks\": \"\", \"zerolinecolor\": \"white\", \"zerolinewidth\": 2}, \"yaxis\": {\"automargin\": true, \"gridcolor\": \"white\", \"linecolor\": \"white\", \"ticks\": \"\", \"zerolinecolor\": \"white\", \"zerolinewidth\": 2}}}, \"title\": {\"text\": \"newmse:tuwen:total_recommend:(dis_user)\"}, \"xaxis\": {\"type\": \"date\"}, \"yaxis\": {\"title\": {\"text\": \"dis_user\"}}},\n",
       "                        {\"responsive\": true}\n",
       "                    ).then(function(){\n",
       "                            \n",
       "var gd = document.getElementById('5778a91e-72a6-4ecf-b5f4-8b9b50de5c57');\n",
       "var x = new MutationObserver(function (mutations, observer) {{\n",
       "        var display = window.getComputedStyle(gd).display;\n",
       "        if (!display || display === 'none') {{\n",
       "            console.log([gd, 'removed!']);\n",
       "            Plotly.purge(gd);\n",
       "            observer.disconnect();\n",
       "        }}\n",
       "}});\n",
       "\n",
       "// Listen for the removal of the full notebook cells\n",
       "var notebookContainer = gd.closest('#notebook-container');\n",
       "if (notebookContainer) {{\n",
       "    x.observe(notebookContainer, {childList: true});\n",
       "}}\n",
       "\n",
       "// Listen for the clearing of the current output cell\n",
       "var outputEl = gd.closest('.output');\n",
       "if (outputEl) {{\n",
       "    x.observe(outputEl, {childList: true});\n",
       "}}\n",
       "\n",
       "                        })\n",
       "                };\n",
       "                });\n",
       "            </script>\n",
       "        </div>"
      ]
     },
     "metadata": {},
     "output_type": "display_data"
    },
    {
     "data": {
      "application/vnd.plotly.v1+json": {
       "config": {
        "linkText": "Export to plot.ly",
        "plotlyServerURL": "https://plot.ly",
        "showLink": false
       },
       "data": [
        {
         "hovertext": [
          "-0.0019",
          "0.0047",
          "-0.0090",
          "0.0030",
          "-0.0070",
          "0.0095",
          "-0.0322",
          "-0.1568",
          "0.0237",
          "0.1663",
          "0.1079",
          "0.0402",
          "0.0569",
          "0.0525"
         ],
         "line": {
          "shape": "spline",
          "smoothing": 1
         },
         "mode": "lines+markers",
         "name": "7",
         "showlegend": true,
         "type": "scatter",
         "x": [
          "2019-12-31T00:00:00",
          "2020-01-01T00:00:00",
          "2020-01-02T00:00:00",
          "2020-01-03T00:00:00",
          "2020-01-04T00:00:00",
          "2020-01-05T00:00:00",
          "2020-01-06T00:00:00",
          "2020-01-07T00:00:00",
          "2020-01-08T00:00:00",
          "2020-01-09T00:00:00",
          "2020-01-10T00:00:00",
          "2020-01-11T00:00:00",
          "2020-01-12T00:00:00",
          "2020-01-13T00:00:00"
         ],
         "y": [
          0.061820664602675816,
          0.06814173714116757,
          0.06339931728520681,
          0.07296267791290251,
          0.08480083002915068,
          0.08097628440931104,
          0.06360809195437908,
          0.05746836600611094,
          0.06512079168858562,
          0.06491242436500536,
          0.0630858871529443,
          0.06200628588679061,
          0.06090950605925893,
          0.058298026661148694
         ]
        },
        {
         "line": {
          "shape": "spline",
          "smoothing": 1
         },
         "mode": "lines+markers",
         "name": "456",
         "showlegend": true,
         "type": "scatter",
         "x": [
          "2019-12-31T00:00:00",
          "2020-01-01T00:00:00",
          "2020-01-02T00:00:00",
          "2020-01-03T00:00:00",
          "2020-01-04T00:00:00",
          "2020-01-05T00:00:00",
          "2020-01-06T00:00:00",
          "2020-01-07T00:00:00",
          "2020-01-08T00:00:00",
          "2020-01-09T00:00:00",
          "2020-01-10T00:00:00",
          "2020-01-11T00:00:00",
          "2020-01-12T00:00:00",
          "2020-01-13T00:00:00"
         ],
         "y": [
          0.061939450411027865,
          0.06782592251144992,
          0.0639728074775865,
          0.07274586864007458,
          0.08539954532809335,
          0.08021791701218221,
          0.0657262676109971,
          0.06815291770461168,
          0.06361600085283471,
          0.05565574547695936,
          0.05694422280894815,
          0.05961115851338594,
          0.05763125267710898,
          0.05538879925136745
         ]
        }
       ],
       "layout": {
        "hovermode": "x",
        "template": {
         "data": {
          "bar": [
           {
            "error_x": {
             "color": "#2a3f5f"
            },
            "error_y": {
             "color": "#2a3f5f"
            },
            "marker": {
             "line": {
              "color": "#E5ECF6",
              "width": 0.5
             }
            },
            "type": "bar"
           }
          ],
          "barpolar": [
           {
            "marker": {
             "line": {
              "color": "#E5ECF6",
              "width": 0.5
             }
            },
            "type": "barpolar"
           }
          ],
          "carpet": [
           {
            "aaxis": {
             "endlinecolor": "#2a3f5f",
             "gridcolor": "white",
             "linecolor": "white",
             "minorgridcolor": "white",
             "startlinecolor": "#2a3f5f"
            },
            "baxis": {
             "endlinecolor": "#2a3f5f",
             "gridcolor": "white",
             "linecolor": "white",
             "minorgridcolor": "white",
             "startlinecolor": "#2a3f5f"
            },
            "type": "carpet"
           }
          ],
          "choropleth": [
           {
            "colorbar": {
             "outlinewidth": 0,
             "ticks": ""
            },
            "type": "choropleth"
           }
          ],
          "contour": [
           {
            "colorbar": {
             "outlinewidth": 0,
             "ticks": ""
            },
            "colorscale": [
             [
              0,
              "#0d0887"
             ],
             [
              0.1111111111111111,
              "#46039f"
             ],
             [
              0.2222222222222222,
              "#7201a8"
             ],
             [
              0.3333333333333333,
              "#9c179e"
             ],
             [
              0.4444444444444444,
              "#bd3786"
             ],
             [
              0.5555555555555556,
              "#d8576b"
             ],
             [
              0.6666666666666666,
              "#ed7953"
             ],
             [
              0.7777777777777778,
              "#fb9f3a"
             ],
             [
              0.8888888888888888,
              "#fdca26"
             ],
             [
              1,
              "#f0f921"
             ]
            ],
            "type": "contour"
           }
          ],
          "contourcarpet": [
           {
            "colorbar": {
             "outlinewidth": 0,
             "ticks": ""
            },
            "type": "contourcarpet"
           }
          ],
          "heatmap": [
           {
            "colorbar": {
             "outlinewidth": 0,
             "ticks": ""
            },
            "colorscale": [
             [
              0,
              "#0d0887"
             ],
             [
              0.1111111111111111,
              "#46039f"
             ],
             [
              0.2222222222222222,
              "#7201a8"
             ],
             [
              0.3333333333333333,
              "#9c179e"
             ],
             [
              0.4444444444444444,
              "#bd3786"
             ],
             [
              0.5555555555555556,
              "#d8576b"
             ],
             [
              0.6666666666666666,
              "#ed7953"
             ],
             [
              0.7777777777777778,
              "#fb9f3a"
             ],
             [
              0.8888888888888888,
              "#fdca26"
             ],
             [
              1,
              "#f0f921"
             ]
            ],
            "type": "heatmap"
           }
          ],
          "heatmapgl": [
           {
            "colorbar": {
             "outlinewidth": 0,
             "ticks": ""
            },
            "colorscale": [
             [
              0,
              "#0d0887"
             ],
             [
              0.1111111111111111,
              "#46039f"
             ],
             [
              0.2222222222222222,
              "#7201a8"
             ],
             [
              0.3333333333333333,
              "#9c179e"
             ],
             [
              0.4444444444444444,
              "#bd3786"
             ],
             [
              0.5555555555555556,
              "#d8576b"
             ],
             [
              0.6666666666666666,
              "#ed7953"
             ],
             [
              0.7777777777777778,
              "#fb9f3a"
             ],
             [
              0.8888888888888888,
              "#fdca26"
             ],
             [
              1,
              "#f0f921"
             ]
            ],
            "type": "heatmapgl"
           }
          ],
          "histogram": [
           {
            "marker": {
             "colorbar": {
              "outlinewidth": 0,
              "ticks": ""
             }
            },
            "type": "histogram"
           }
          ],
          "histogram2d": [
           {
            "colorbar": {
             "outlinewidth": 0,
             "ticks": ""
            },
            "colorscale": [
             [
              0,
              "#0d0887"
             ],
             [
              0.1111111111111111,
              "#46039f"
             ],
             [
              0.2222222222222222,
              "#7201a8"
             ],
             [
              0.3333333333333333,
              "#9c179e"
             ],
             [
              0.4444444444444444,
              "#bd3786"
             ],
             [
              0.5555555555555556,
              "#d8576b"
             ],
             [
              0.6666666666666666,
              "#ed7953"
             ],
             [
              0.7777777777777778,
              "#fb9f3a"
             ],
             [
              0.8888888888888888,
              "#fdca26"
             ],
             [
              1,
              "#f0f921"
             ]
            ],
            "type": "histogram2d"
           }
          ],
          "histogram2dcontour": [
           {
            "colorbar": {
             "outlinewidth": 0,
             "ticks": ""
            },
            "colorscale": [
             [
              0,
              "#0d0887"
             ],
             [
              0.1111111111111111,
              "#46039f"
             ],
             [
              0.2222222222222222,
              "#7201a8"
             ],
             [
              0.3333333333333333,
              "#9c179e"
             ],
             [
              0.4444444444444444,
              "#bd3786"
             ],
             [
              0.5555555555555556,
              "#d8576b"
             ],
             [
              0.6666666666666666,
              "#ed7953"
             ],
             [
              0.7777777777777778,
              "#fb9f3a"
             ],
             [
              0.8888888888888888,
              "#fdca26"
             ],
             [
              1,
              "#f0f921"
             ]
            ],
            "type": "histogram2dcontour"
           }
          ],
          "mesh3d": [
           {
            "colorbar": {
             "outlinewidth": 0,
             "ticks": ""
            },
            "type": "mesh3d"
           }
          ],
          "parcoords": [
           {
            "line": {
             "colorbar": {
              "outlinewidth": 0,
              "ticks": ""
             }
            },
            "type": "parcoords"
           }
          ],
          "scatter": [
           {
            "marker": {
             "colorbar": {
              "outlinewidth": 0,
              "ticks": ""
             }
            },
            "type": "scatter"
           }
          ],
          "scatter3d": [
           {
            "line": {
             "colorbar": {
              "outlinewidth": 0,
              "ticks": ""
             }
            },
            "marker": {
             "colorbar": {
              "outlinewidth": 0,
              "ticks": ""
             }
            },
            "type": "scatter3d"
           }
          ],
          "scattercarpet": [
           {
            "marker": {
             "colorbar": {
              "outlinewidth": 0,
              "ticks": ""
             }
            },
            "type": "scattercarpet"
           }
          ],
          "scattergeo": [
           {
            "marker": {
             "colorbar": {
              "outlinewidth": 0,
              "ticks": ""
             }
            },
            "type": "scattergeo"
           }
          ],
          "scattergl": [
           {
            "marker": {
             "colorbar": {
              "outlinewidth": 0,
              "ticks": ""
             }
            },
            "type": "scattergl"
           }
          ],
          "scattermapbox": [
           {
            "marker": {
             "colorbar": {
              "outlinewidth": 0,
              "ticks": ""
             }
            },
            "type": "scattermapbox"
           }
          ],
          "scatterpolar": [
           {
            "marker": {
             "colorbar": {
              "outlinewidth": 0,
              "ticks": ""
             }
            },
            "type": "scatterpolar"
           }
          ],
          "scatterpolargl": [
           {
            "marker": {
             "colorbar": {
              "outlinewidth": 0,
              "ticks": ""
             }
            },
            "type": "scatterpolargl"
           }
          ],
          "scatterternary": [
           {
            "marker": {
             "colorbar": {
              "outlinewidth": 0,
              "ticks": ""
             }
            },
            "type": "scatterternary"
           }
          ],
          "surface": [
           {
            "colorbar": {
             "outlinewidth": 0,
             "ticks": ""
            },
            "colorscale": [
             [
              0,
              "#0d0887"
             ],
             [
              0.1111111111111111,
              "#46039f"
             ],
             [
              0.2222222222222222,
              "#7201a8"
             ],
             [
              0.3333333333333333,
              "#9c179e"
             ],
             [
              0.4444444444444444,
              "#bd3786"
             ],
             [
              0.5555555555555556,
              "#d8576b"
             ],
             [
              0.6666666666666666,
              "#ed7953"
             ],
             [
              0.7777777777777778,
              "#fb9f3a"
             ],
             [
              0.8888888888888888,
              "#fdca26"
             ],
             [
              1,
              "#f0f921"
             ]
            ],
            "type": "surface"
           }
          ],
          "table": [
           {
            "cells": {
             "fill": {
              "color": "#EBF0F8"
             },
             "line": {
              "color": "white"
             }
            },
            "header": {
             "fill": {
              "color": "#C8D4E3"
             },
             "line": {
              "color": "white"
             }
            },
            "type": "table"
           }
          ]
         },
         "layout": {
          "annotationdefaults": {
           "arrowcolor": "#2a3f5f",
           "arrowhead": 0,
           "arrowwidth": 1
          },
          "colorscale": {
           "diverging": [
            [
             0,
             "#8e0152"
            ],
            [
             0.1,
             "#c51b7d"
            ],
            [
             0.2,
             "#de77ae"
            ],
            [
             0.3,
             "#f1b6da"
            ],
            [
             0.4,
             "#fde0ef"
            ],
            [
             0.5,
             "#f7f7f7"
            ],
            [
             0.6,
             "#e6f5d0"
            ],
            [
             0.7,
             "#b8e186"
            ],
            [
             0.8,
             "#7fbc41"
            ],
            [
             0.9,
             "#4d9221"
            ],
            [
             1,
             "#276419"
            ]
           ],
           "sequential": [
            [
             0,
             "#0d0887"
            ],
            [
             0.1111111111111111,
             "#46039f"
            ],
            [
             0.2222222222222222,
             "#7201a8"
            ],
            [
             0.3333333333333333,
             "#9c179e"
            ],
            [
             0.4444444444444444,
             "#bd3786"
            ],
            [
             0.5555555555555556,
             "#d8576b"
            ],
            [
             0.6666666666666666,
             "#ed7953"
            ],
            [
             0.7777777777777778,
             "#fb9f3a"
            ],
            [
             0.8888888888888888,
             "#fdca26"
            ],
            [
             1,
             "#f0f921"
            ]
           ],
           "sequentialminus": [
            [
             0,
             "#0d0887"
            ],
            [
             0.1111111111111111,
             "#46039f"
            ],
            [
             0.2222222222222222,
             "#7201a8"
            ],
            [
             0.3333333333333333,
             "#9c179e"
            ],
            [
             0.4444444444444444,
             "#bd3786"
            ],
            [
             0.5555555555555556,
             "#d8576b"
            ],
            [
             0.6666666666666666,
             "#ed7953"
            ],
            [
             0.7777777777777778,
             "#fb9f3a"
            ],
            [
             0.8888888888888888,
             "#fdca26"
            ],
            [
             1,
             "#f0f921"
            ]
           ]
          },
          "colorway": [
           "#636efa",
           "#EF553B",
           "#00cc96",
           "#ab63fa",
           "#FFA15A",
           "#19d3f3",
           "#FF6692",
           "#B6E880",
           "#FF97FF",
           "#FECB52"
          ],
          "font": {
           "color": "#2a3f5f"
          },
          "geo": {
           "bgcolor": "white",
           "lakecolor": "white",
           "landcolor": "#E5ECF6",
           "showlakes": true,
           "showland": true,
           "subunitcolor": "white"
          },
          "hoverlabel": {
           "align": "left"
          },
          "hovermode": "closest",
          "mapbox": {
           "style": "light"
          },
          "paper_bgcolor": "white",
          "plot_bgcolor": "#E5ECF6",
          "polar": {
           "angularaxis": {
            "gridcolor": "white",
            "linecolor": "white",
            "ticks": ""
           },
           "bgcolor": "#E5ECF6",
           "radialaxis": {
            "gridcolor": "white",
            "linecolor": "white",
            "ticks": ""
           }
          },
          "scene": {
           "xaxis": {
            "backgroundcolor": "#E5ECF6",
            "gridcolor": "white",
            "gridwidth": 2,
            "linecolor": "white",
            "showbackground": true,
            "ticks": "",
            "zerolinecolor": "white"
           },
           "yaxis": {
            "backgroundcolor": "#E5ECF6",
            "gridcolor": "white",
            "gridwidth": 2,
            "linecolor": "white",
            "showbackground": true,
            "ticks": "",
            "zerolinecolor": "white"
           },
           "zaxis": {
            "backgroundcolor": "#E5ECF6",
            "gridcolor": "white",
            "gridwidth": 2,
            "linecolor": "white",
            "showbackground": true,
            "ticks": "",
            "zerolinecolor": "white"
           }
          },
          "shapedefaults": {
           "line": {
            "color": "#2a3f5f"
           }
          },
          "ternary": {
           "aaxis": {
            "gridcolor": "white",
            "linecolor": "white",
            "ticks": ""
           },
           "baxis": {
            "gridcolor": "white",
            "linecolor": "white",
            "ticks": ""
           },
           "bgcolor": "#E5ECF6",
           "caxis": {
            "gridcolor": "white",
            "linecolor": "white",
            "ticks": ""
           }
          },
          "title": {
           "x": 0.05
          },
          "xaxis": {
           "automargin": true,
           "gridcolor": "white",
           "linecolor": "white",
           "ticks": "",
           "zerolinecolor": "white",
           "zerolinewidth": 2
          },
          "yaxis": {
           "automargin": true,
           "gridcolor": "white",
           "linecolor": "white",
           "ticks": "",
           "zerolinecolor": "white",
           "zerolinewidth": 2
          }
         }
        },
        "title": {
         "text": "newmse:tuwen:total_recommend:(ctr)"
        },
        "xaxis": {
         "type": "date"
        },
        "yaxis": {
         "title": {
          "text": "ctr"
         }
        }
       }
      },
      "text/html": [
       "<div>\n",
       "        \n",
       "        \n",
       "            <div id=\"3a588e0d-bc79-41dd-8200-82d15b1bb69e\" class=\"plotly-graph-div\" style=\"height:525px; width:100%;\"></div>\n",
       "            <script type=\"text/javascript\">\n",
       "                require([\"plotly\"], function(Plotly) {\n",
       "                    window.PLOTLYENV=window.PLOTLYENV || {};\n",
       "                    \n",
       "                if (document.getElementById(\"3a588e0d-bc79-41dd-8200-82d15b1bb69e\")) {\n",
       "                    Plotly.newPlot(\n",
       "                        '3a588e0d-bc79-41dd-8200-82d15b1bb69e',\n",
       "                        [{\"hovertext\": [\"-0.0019\", \"0.0047\", \"-0.0090\", \"0.0030\", \"-0.0070\", \"0.0095\", \"-0.0322\", \"-0.1568\", \"0.0237\", \"0.1663\", \"0.1079\", \"0.0402\", \"0.0569\", \"0.0525\"], \"line\": {\"shape\": \"spline\", \"smoothing\": 1.0}, \"mode\": \"lines+markers\", \"name\": \"7\", \"showlegend\": true, \"type\": \"scatter\", \"x\": [\"2019-12-31T00:00:00\", \"2020-01-01T00:00:00\", \"2020-01-02T00:00:00\", \"2020-01-03T00:00:00\", \"2020-01-04T00:00:00\", \"2020-01-05T00:00:00\", \"2020-01-06T00:00:00\", \"2020-01-07T00:00:00\", \"2020-01-08T00:00:00\", \"2020-01-09T00:00:00\", \"2020-01-10T00:00:00\", \"2020-01-11T00:00:00\", \"2020-01-12T00:00:00\", \"2020-01-13T00:00:00\"], \"y\": [0.061820664602675816, 0.06814173714116757, 0.06339931728520681, 0.07296267791290251, 0.08480083002915068, 0.08097628440931104, 0.06360809195437908, 0.05746836600611094, 0.06512079168858562, 0.06491242436500536, 0.0630858871529443, 0.06200628588679061, 0.06090950605925893, 0.058298026661148694]}, {\"line\": {\"shape\": \"spline\", \"smoothing\": 1.0}, \"mode\": \"lines+markers\", \"name\": \"456\", \"showlegend\": true, \"type\": \"scatter\", \"x\": [\"2019-12-31T00:00:00\", \"2020-01-01T00:00:00\", \"2020-01-02T00:00:00\", \"2020-01-03T00:00:00\", \"2020-01-04T00:00:00\", \"2020-01-05T00:00:00\", \"2020-01-06T00:00:00\", \"2020-01-07T00:00:00\", \"2020-01-08T00:00:00\", \"2020-01-09T00:00:00\", \"2020-01-10T00:00:00\", \"2020-01-11T00:00:00\", \"2020-01-12T00:00:00\", \"2020-01-13T00:00:00\"], \"y\": [0.061939450411027865, 0.06782592251144992, 0.0639728074775865, 0.07274586864007458, 0.08539954532809335, 0.08021791701218221, 0.0657262676109971, 0.06815291770461168, 0.06361600085283471, 0.05565574547695936, 0.05694422280894815, 0.05961115851338594, 0.05763125267710898, 0.05538879925136745]}],\n",
       "                        {\"hovermode\": \"x\", \"template\": {\"data\": {\"bar\": [{\"error_x\": {\"color\": \"#2a3f5f\"}, \"error_y\": {\"color\": \"#2a3f5f\"}, \"marker\": {\"line\": {\"color\": \"#E5ECF6\", \"width\": 0.5}}, \"type\": \"bar\"}], \"barpolar\": [{\"marker\": {\"line\": {\"color\": \"#E5ECF6\", \"width\": 0.5}}, \"type\": \"barpolar\"}], \"carpet\": [{\"aaxis\": {\"endlinecolor\": \"#2a3f5f\", \"gridcolor\": \"white\", \"linecolor\": \"white\", \"minorgridcolor\": \"white\", \"startlinecolor\": \"#2a3f5f\"}, \"baxis\": {\"endlinecolor\": \"#2a3f5f\", \"gridcolor\": \"white\", \"linecolor\": \"white\", \"minorgridcolor\": \"white\", \"startlinecolor\": \"#2a3f5f\"}, \"type\": \"carpet\"}], \"choropleth\": [{\"colorbar\": {\"outlinewidth\": 0, \"ticks\": \"\"}, \"type\": \"choropleth\"}], \"contour\": [{\"colorbar\": {\"outlinewidth\": 0, \"ticks\": \"\"}, \"colorscale\": [[0.0, \"#0d0887\"], [0.1111111111111111, \"#46039f\"], [0.2222222222222222, \"#7201a8\"], [0.3333333333333333, \"#9c179e\"], [0.4444444444444444, \"#bd3786\"], [0.5555555555555556, \"#d8576b\"], [0.6666666666666666, \"#ed7953\"], [0.7777777777777778, \"#fb9f3a\"], [0.8888888888888888, \"#fdca26\"], [1.0, \"#f0f921\"]], \"type\": \"contour\"}], \"contourcarpet\": [{\"colorbar\": {\"outlinewidth\": 0, \"ticks\": \"\"}, \"type\": \"contourcarpet\"}], \"heatmap\": [{\"colorbar\": {\"outlinewidth\": 0, \"ticks\": \"\"}, \"colorscale\": [[0.0, \"#0d0887\"], [0.1111111111111111, \"#46039f\"], [0.2222222222222222, \"#7201a8\"], [0.3333333333333333, \"#9c179e\"], [0.4444444444444444, \"#bd3786\"], [0.5555555555555556, \"#d8576b\"], [0.6666666666666666, \"#ed7953\"], [0.7777777777777778, \"#fb9f3a\"], [0.8888888888888888, \"#fdca26\"], [1.0, \"#f0f921\"]], \"type\": \"heatmap\"}], \"heatmapgl\": [{\"colorbar\": {\"outlinewidth\": 0, \"ticks\": \"\"}, \"colorscale\": [[0.0, \"#0d0887\"], [0.1111111111111111, \"#46039f\"], [0.2222222222222222, \"#7201a8\"], [0.3333333333333333, \"#9c179e\"], [0.4444444444444444, \"#bd3786\"], [0.5555555555555556, \"#d8576b\"], [0.6666666666666666, \"#ed7953\"], [0.7777777777777778, \"#fb9f3a\"], [0.8888888888888888, \"#fdca26\"], [1.0, \"#f0f921\"]], \"type\": \"heatmapgl\"}], \"histogram\": [{\"marker\": {\"colorbar\": {\"outlinewidth\": 0, \"ticks\": \"\"}}, \"type\": \"histogram\"}], \"histogram2d\": [{\"colorbar\": {\"outlinewidth\": 0, \"ticks\": \"\"}, \"colorscale\": [[0.0, \"#0d0887\"], [0.1111111111111111, \"#46039f\"], [0.2222222222222222, \"#7201a8\"], [0.3333333333333333, \"#9c179e\"], [0.4444444444444444, \"#bd3786\"], [0.5555555555555556, \"#d8576b\"], [0.6666666666666666, \"#ed7953\"], [0.7777777777777778, \"#fb9f3a\"], [0.8888888888888888, \"#fdca26\"], [1.0, \"#f0f921\"]], \"type\": \"histogram2d\"}], \"histogram2dcontour\": [{\"colorbar\": {\"outlinewidth\": 0, \"ticks\": \"\"}, \"colorscale\": [[0.0, \"#0d0887\"], [0.1111111111111111, \"#46039f\"], [0.2222222222222222, \"#7201a8\"], [0.3333333333333333, \"#9c179e\"], [0.4444444444444444, \"#bd3786\"], [0.5555555555555556, \"#d8576b\"], [0.6666666666666666, \"#ed7953\"], [0.7777777777777778, \"#fb9f3a\"], [0.8888888888888888, \"#fdca26\"], [1.0, \"#f0f921\"]], \"type\": \"histogram2dcontour\"}], \"mesh3d\": [{\"colorbar\": {\"outlinewidth\": 0, \"ticks\": \"\"}, \"type\": \"mesh3d\"}], \"parcoords\": [{\"line\": {\"colorbar\": {\"outlinewidth\": 0, \"ticks\": \"\"}}, \"type\": \"parcoords\"}], \"scatter\": [{\"marker\": {\"colorbar\": {\"outlinewidth\": 0, \"ticks\": \"\"}}, \"type\": \"scatter\"}], \"scatter3d\": [{\"line\": {\"colorbar\": {\"outlinewidth\": 0, \"ticks\": \"\"}}, \"marker\": {\"colorbar\": {\"outlinewidth\": 0, \"ticks\": \"\"}}, \"type\": \"scatter3d\"}], \"scattercarpet\": [{\"marker\": {\"colorbar\": {\"outlinewidth\": 0, \"ticks\": \"\"}}, \"type\": \"scattercarpet\"}], \"scattergeo\": [{\"marker\": {\"colorbar\": {\"outlinewidth\": 0, \"ticks\": \"\"}}, \"type\": \"scattergeo\"}], \"scattergl\": [{\"marker\": {\"colorbar\": {\"outlinewidth\": 0, \"ticks\": \"\"}}, \"type\": \"scattergl\"}], \"scattermapbox\": [{\"marker\": {\"colorbar\": {\"outlinewidth\": 0, \"ticks\": \"\"}}, \"type\": \"scattermapbox\"}], \"scatterpolar\": [{\"marker\": {\"colorbar\": {\"outlinewidth\": 0, \"ticks\": \"\"}}, \"type\": \"scatterpolar\"}], \"scatterpolargl\": [{\"marker\": {\"colorbar\": {\"outlinewidth\": 0, \"ticks\": \"\"}}, \"type\": \"scatterpolargl\"}], \"scatterternary\": [{\"marker\": {\"colorbar\": {\"outlinewidth\": 0, \"ticks\": \"\"}}, \"type\": \"scatterternary\"}], \"surface\": [{\"colorbar\": {\"outlinewidth\": 0, \"ticks\": \"\"}, \"colorscale\": [[0.0, \"#0d0887\"], [0.1111111111111111, \"#46039f\"], [0.2222222222222222, \"#7201a8\"], [0.3333333333333333, \"#9c179e\"], [0.4444444444444444, \"#bd3786\"], [0.5555555555555556, \"#d8576b\"], [0.6666666666666666, \"#ed7953\"], [0.7777777777777778, \"#fb9f3a\"], [0.8888888888888888, \"#fdca26\"], [1.0, \"#f0f921\"]], \"type\": \"surface\"}], \"table\": [{\"cells\": {\"fill\": {\"color\": \"#EBF0F8\"}, \"line\": {\"color\": \"white\"}}, \"header\": {\"fill\": {\"color\": \"#C8D4E3\"}, \"line\": {\"color\": \"white\"}}, \"type\": \"table\"}]}, \"layout\": {\"annotationdefaults\": {\"arrowcolor\": \"#2a3f5f\", \"arrowhead\": 0, \"arrowwidth\": 1}, \"colorscale\": {\"diverging\": [[0, \"#8e0152\"], [0.1, \"#c51b7d\"], [0.2, \"#de77ae\"], [0.3, \"#f1b6da\"], [0.4, \"#fde0ef\"], [0.5, \"#f7f7f7\"], [0.6, \"#e6f5d0\"], [0.7, \"#b8e186\"], [0.8, \"#7fbc41\"], [0.9, \"#4d9221\"], [1, \"#276419\"]], \"sequential\": [[0.0, \"#0d0887\"], [0.1111111111111111, \"#46039f\"], [0.2222222222222222, \"#7201a8\"], [0.3333333333333333, \"#9c179e\"], [0.4444444444444444, \"#bd3786\"], [0.5555555555555556, \"#d8576b\"], [0.6666666666666666, \"#ed7953\"], [0.7777777777777778, \"#fb9f3a\"], [0.8888888888888888, \"#fdca26\"], [1.0, \"#f0f921\"]], \"sequentialminus\": [[0.0, \"#0d0887\"], [0.1111111111111111, \"#46039f\"], [0.2222222222222222, \"#7201a8\"], [0.3333333333333333, \"#9c179e\"], [0.4444444444444444, \"#bd3786\"], [0.5555555555555556, \"#d8576b\"], [0.6666666666666666, \"#ed7953\"], [0.7777777777777778, \"#fb9f3a\"], [0.8888888888888888, \"#fdca26\"], [1.0, \"#f0f921\"]]}, \"colorway\": [\"#636efa\", \"#EF553B\", \"#00cc96\", \"#ab63fa\", \"#FFA15A\", \"#19d3f3\", \"#FF6692\", \"#B6E880\", \"#FF97FF\", \"#FECB52\"], \"font\": {\"color\": \"#2a3f5f\"}, \"geo\": {\"bgcolor\": \"white\", \"lakecolor\": \"white\", \"landcolor\": \"#E5ECF6\", \"showlakes\": true, \"showland\": true, \"subunitcolor\": \"white\"}, \"hoverlabel\": {\"align\": \"left\"}, \"hovermode\": \"closest\", \"mapbox\": {\"style\": \"light\"}, \"paper_bgcolor\": \"white\", \"plot_bgcolor\": \"#E5ECF6\", \"polar\": {\"angularaxis\": {\"gridcolor\": \"white\", \"linecolor\": \"white\", \"ticks\": \"\"}, \"bgcolor\": \"#E5ECF6\", \"radialaxis\": {\"gridcolor\": \"white\", \"linecolor\": \"white\", \"ticks\": \"\"}}, \"scene\": {\"xaxis\": {\"backgroundcolor\": \"#E5ECF6\", \"gridcolor\": \"white\", \"gridwidth\": 2, \"linecolor\": \"white\", \"showbackground\": true, \"ticks\": \"\", \"zerolinecolor\": \"white\"}, \"yaxis\": {\"backgroundcolor\": \"#E5ECF6\", \"gridcolor\": \"white\", \"gridwidth\": 2, \"linecolor\": \"white\", \"showbackground\": true, \"ticks\": \"\", \"zerolinecolor\": \"white\"}, \"zaxis\": {\"backgroundcolor\": \"#E5ECF6\", \"gridcolor\": \"white\", \"gridwidth\": 2, \"linecolor\": \"white\", \"showbackground\": true, \"ticks\": \"\", \"zerolinecolor\": \"white\"}}, \"shapedefaults\": {\"line\": {\"color\": \"#2a3f5f\"}}, \"ternary\": {\"aaxis\": {\"gridcolor\": \"white\", \"linecolor\": \"white\", \"ticks\": \"\"}, \"baxis\": {\"gridcolor\": \"white\", \"linecolor\": \"white\", \"ticks\": \"\"}, \"bgcolor\": \"#E5ECF6\", \"caxis\": {\"gridcolor\": \"white\", \"linecolor\": \"white\", \"ticks\": \"\"}}, \"title\": {\"x\": 0.05}, \"xaxis\": {\"automargin\": true, \"gridcolor\": \"white\", \"linecolor\": \"white\", \"ticks\": \"\", \"zerolinecolor\": \"white\", \"zerolinewidth\": 2}, \"yaxis\": {\"automargin\": true, \"gridcolor\": \"white\", \"linecolor\": \"white\", \"ticks\": \"\", \"zerolinecolor\": \"white\", \"zerolinewidth\": 2}}}, \"title\": {\"text\": \"newmse:tuwen:total_recommend:(ctr)\"}, \"xaxis\": {\"type\": \"date\"}, \"yaxis\": {\"title\": {\"text\": \"ctr\"}}},\n",
       "                        {\"responsive\": true}\n",
       "                    ).then(function(){\n",
       "                            \n",
       "var gd = document.getElementById('3a588e0d-bc79-41dd-8200-82d15b1bb69e');\n",
       "var x = new MutationObserver(function (mutations, observer) {{\n",
       "        var display = window.getComputedStyle(gd).display;\n",
       "        if (!display || display === 'none') {{\n",
       "            console.log([gd, 'removed!']);\n",
       "            Plotly.purge(gd);\n",
       "            observer.disconnect();\n",
       "        }}\n",
       "}});\n",
       "\n",
       "// Listen for the removal of the full notebook cells\n",
       "var notebookContainer = gd.closest('#notebook-container');\n",
       "if (notebookContainer) {{\n",
       "    x.observe(notebookContainer, {childList: true});\n",
       "}}\n",
       "\n",
       "// Listen for the clearing of the current output cell\n",
       "var outputEl = gd.closest('.output');\n",
       "if (outputEl) {{\n",
       "    x.observe(outputEl, {childList: true});\n",
       "}}\n",
       "\n",
       "                        })\n",
       "                };\n",
       "                });\n",
       "            </script>\n",
       "        </div>"
      ]
     },
     "metadata": {},
     "output_type": "display_data"
    },
    {
     "data": {
      "application/vnd.plotly.v1+json": {
       "config": {
        "linkText": "Export to plot.ly",
        "plotlyServerURL": "https://plot.ly",
        "showLink": false
       },
       "data": [
        {
         "hovertext": [
          "-0.0004",
          "-0.0084",
          "-0.0082",
          "0.0077",
          "-0.0024",
          "0.0101",
          "-0.0142",
          "-0.0772",
          "0.0179",
          "0.1033",
          "0.0486",
          "-0.0206",
          "0.0079",
          "-0.0049"
         ],
         "line": {
          "shape": "spline",
          "smoothing": 1
         },
         "mode": "lines+markers",
         "name": "7",
         "showlegend": true,
         "type": "scatter",
         "x": [
          "2019-12-31T00:00:00",
          "2020-01-01T00:00:00",
          "2020-01-02T00:00:00",
          "2020-01-03T00:00:00",
          "2020-01-04T00:00:00",
          "2020-01-05T00:00:00",
          "2020-01-06T00:00:00",
          "2020-01-07T00:00:00",
          "2020-01-08T00:00:00",
          "2020-01-09T00:00:00",
          "2020-01-10T00:00:00",
          "2020-01-11T00:00:00",
          "2020-01-12T00:00:00",
          "2020-01-13T00:00:00"
         ],
         "y": [
          0.17806406617970255,
          0.17710435835145072,
          0.1777887664689914,
          0.19737471839722073,
          0.22330139426975473,
          0.20501620204550786,
          0.1771826661653837,
          0.17014759040058136,
          0.18050488855261615,
          0.1770541776686687,
          0.17258067381088657,
          0.16130765806445999,
          0.159915916708496,
          0.1616593988479045
         ]
        },
        {
         "line": {
          "shape": "spline",
          "smoothing": 1
         },
         "mode": "lines+markers",
         "name": "456",
         "showlegend": true,
         "type": "scatter",
         "x": [
          "2019-12-31T00:00:00",
          "2020-01-01T00:00:00",
          "2020-01-02T00:00:00",
          "2020-01-03T00:00:00",
          "2020-01-04T00:00:00",
          "2020-01-05T00:00:00",
          "2020-01-06T00:00:00",
          "2020-01-07T00:00:00",
          "2020-01-08T00:00:00",
          "2020-01-09T00:00:00",
          "2020-01-10T00:00:00",
          "2020-01-11T00:00:00",
          "2020-01-12T00:00:00",
          "2020-01-13T00:00:00"
         ],
         "y": [
          0.17812781050733903,
          0.17860863776392255,
          0.17925813947690297,
          0.19585791456568666,
          0.22383900558707293,
          0.20295799781170384,
          0.17973913009739975,
          0.1843754819737523,
          0.17733515605547323,
          0.1604710753979205,
          0.16458140471557423,
          0.16470039105191084,
          0.1586555674269937,
          0.16246180870454854
         ]
        }
       ],
       "layout": {
        "hovermode": "x",
        "template": {
         "data": {
          "bar": [
           {
            "error_x": {
             "color": "#2a3f5f"
            },
            "error_y": {
             "color": "#2a3f5f"
            },
            "marker": {
             "line": {
              "color": "#E5ECF6",
              "width": 0.5
             }
            },
            "type": "bar"
           }
          ],
          "barpolar": [
           {
            "marker": {
             "line": {
              "color": "#E5ECF6",
              "width": 0.5
             }
            },
            "type": "barpolar"
           }
          ],
          "carpet": [
           {
            "aaxis": {
             "endlinecolor": "#2a3f5f",
             "gridcolor": "white",
             "linecolor": "white",
             "minorgridcolor": "white",
             "startlinecolor": "#2a3f5f"
            },
            "baxis": {
             "endlinecolor": "#2a3f5f",
             "gridcolor": "white",
             "linecolor": "white",
             "minorgridcolor": "white",
             "startlinecolor": "#2a3f5f"
            },
            "type": "carpet"
           }
          ],
          "choropleth": [
           {
            "colorbar": {
             "outlinewidth": 0,
             "ticks": ""
            },
            "type": "choropleth"
           }
          ],
          "contour": [
           {
            "colorbar": {
             "outlinewidth": 0,
             "ticks": ""
            },
            "colorscale": [
             [
              0,
              "#0d0887"
             ],
             [
              0.1111111111111111,
              "#46039f"
             ],
             [
              0.2222222222222222,
              "#7201a8"
             ],
             [
              0.3333333333333333,
              "#9c179e"
             ],
             [
              0.4444444444444444,
              "#bd3786"
             ],
             [
              0.5555555555555556,
              "#d8576b"
             ],
             [
              0.6666666666666666,
              "#ed7953"
             ],
             [
              0.7777777777777778,
              "#fb9f3a"
             ],
             [
              0.8888888888888888,
              "#fdca26"
             ],
             [
              1,
              "#f0f921"
             ]
            ],
            "type": "contour"
           }
          ],
          "contourcarpet": [
           {
            "colorbar": {
             "outlinewidth": 0,
             "ticks": ""
            },
            "type": "contourcarpet"
           }
          ],
          "heatmap": [
           {
            "colorbar": {
             "outlinewidth": 0,
             "ticks": ""
            },
            "colorscale": [
             [
              0,
              "#0d0887"
             ],
             [
              0.1111111111111111,
              "#46039f"
             ],
             [
              0.2222222222222222,
              "#7201a8"
             ],
             [
              0.3333333333333333,
              "#9c179e"
             ],
             [
              0.4444444444444444,
              "#bd3786"
             ],
             [
              0.5555555555555556,
              "#d8576b"
             ],
             [
              0.6666666666666666,
              "#ed7953"
             ],
             [
              0.7777777777777778,
              "#fb9f3a"
             ],
             [
              0.8888888888888888,
              "#fdca26"
             ],
             [
              1,
              "#f0f921"
             ]
            ],
            "type": "heatmap"
           }
          ],
          "heatmapgl": [
           {
            "colorbar": {
             "outlinewidth": 0,
             "ticks": ""
            },
            "colorscale": [
             [
              0,
              "#0d0887"
             ],
             [
              0.1111111111111111,
              "#46039f"
             ],
             [
              0.2222222222222222,
              "#7201a8"
             ],
             [
              0.3333333333333333,
              "#9c179e"
             ],
             [
              0.4444444444444444,
              "#bd3786"
             ],
             [
              0.5555555555555556,
              "#d8576b"
             ],
             [
              0.6666666666666666,
              "#ed7953"
             ],
             [
              0.7777777777777778,
              "#fb9f3a"
             ],
             [
              0.8888888888888888,
              "#fdca26"
             ],
             [
              1,
              "#f0f921"
             ]
            ],
            "type": "heatmapgl"
           }
          ],
          "histogram": [
           {
            "marker": {
             "colorbar": {
              "outlinewidth": 0,
              "ticks": ""
             }
            },
            "type": "histogram"
           }
          ],
          "histogram2d": [
           {
            "colorbar": {
             "outlinewidth": 0,
             "ticks": ""
            },
            "colorscale": [
             [
              0,
              "#0d0887"
             ],
             [
              0.1111111111111111,
              "#46039f"
             ],
             [
              0.2222222222222222,
              "#7201a8"
             ],
             [
              0.3333333333333333,
              "#9c179e"
             ],
             [
              0.4444444444444444,
              "#bd3786"
             ],
             [
              0.5555555555555556,
              "#d8576b"
             ],
             [
              0.6666666666666666,
              "#ed7953"
             ],
             [
              0.7777777777777778,
              "#fb9f3a"
             ],
             [
              0.8888888888888888,
              "#fdca26"
             ],
             [
              1,
              "#f0f921"
             ]
            ],
            "type": "histogram2d"
           }
          ],
          "histogram2dcontour": [
           {
            "colorbar": {
             "outlinewidth": 0,
             "ticks": ""
            },
            "colorscale": [
             [
              0,
              "#0d0887"
             ],
             [
              0.1111111111111111,
              "#46039f"
             ],
             [
              0.2222222222222222,
              "#7201a8"
             ],
             [
              0.3333333333333333,
              "#9c179e"
             ],
             [
              0.4444444444444444,
              "#bd3786"
             ],
             [
              0.5555555555555556,
              "#d8576b"
             ],
             [
              0.6666666666666666,
              "#ed7953"
             ],
             [
              0.7777777777777778,
              "#fb9f3a"
             ],
             [
              0.8888888888888888,
              "#fdca26"
             ],
             [
              1,
              "#f0f921"
             ]
            ],
            "type": "histogram2dcontour"
           }
          ],
          "mesh3d": [
           {
            "colorbar": {
             "outlinewidth": 0,
             "ticks": ""
            },
            "type": "mesh3d"
           }
          ],
          "parcoords": [
           {
            "line": {
             "colorbar": {
              "outlinewidth": 0,
              "ticks": ""
             }
            },
            "type": "parcoords"
           }
          ],
          "scatter": [
           {
            "marker": {
             "colorbar": {
              "outlinewidth": 0,
              "ticks": ""
             }
            },
            "type": "scatter"
           }
          ],
          "scatter3d": [
           {
            "line": {
             "colorbar": {
              "outlinewidth": 0,
              "ticks": ""
             }
            },
            "marker": {
             "colorbar": {
              "outlinewidth": 0,
              "ticks": ""
             }
            },
            "type": "scatter3d"
           }
          ],
          "scattercarpet": [
           {
            "marker": {
             "colorbar": {
              "outlinewidth": 0,
              "ticks": ""
             }
            },
            "type": "scattercarpet"
           }
          ],
          "scattergeo": [
           {
            "marker": {
             "colorbar": {
              "outlinewidth": 0,
              "ticks": ""
             }
            },
            "type": "scattergeo"
           }
          ],
          "scattergl": [
           {
            "marker": {
             "colorbar": {
              "outlinewidth": 0,
              "ticks": ""
             }
            },
            "type": "scattergl"
           }
          ],
          "scattermapbox": [
           {
            "marker": {
             "colorbar": {
              "outlinewidth": 0,
              "ticks": ""
             }
            },
            "type": "scattermapbox"
           }
          ],
          "scatterpolar": [
           {
            "marker": {
             "colorbar": {
              "outlinewidth": 0,
              "ticks": ""
             }
            },
            "type": "scatterpolar"
           }
          ],
          "scatterpolargl": [
           {
            "marker": {
             "colorbar": {
              "outlinewidth": 0,
              "ticks": ""
             }
            },
            "type": "scatterpolargl"
           }
          ],
          "scatterternary": [
           {
            "marker": {
             "colorbar": {
              "outlinewidth": 0,
              "ticks": ""
             }
            },
            "type": "scatterternary"
           }
          ],
          "surface": [
           {
            "colorbar": {
             "outlinewidth": 0,
             "ticks": ""
            },
            "colorscale": [
             [
              0,
              "#0d0887"
             ],
             [
              0.1111111111111111,
              "#46039f"
             ],
             [
              0.2222222222222222,
              "#7201a8"
             ],
             [
              0.3333333333333333,
              "#9c179e"
             ],
             [
              0.4444444444444444,
              "#bd3786"
             ],
             [
              0.5555555555555556,
              "#d8576b"
             ],
             [
              0.6666666666666666,
              "#ed7953"
             ],
             [
              0.7777777777777778,
              "#fb9f3a"
             ],
             [
              0.8888888888888888,
              "#fdca26"
             ],
             [
              1,
              "#f0f921"
             ]
            ],
            "type": "surface"
           }
          ],
          "table": [
           {
            "cells": {
             "fill": {
              "color": "#EBF0F8"
             },
             "line": {
              "color": "white"
             }
            },
            "header": {
             "fill": {
              "color": "#C8D4E3"
             },
             "line": {
              "color": "white"
             }
            },
            "type": "table"
           }
          ]
         },
         "layout": {
          "annotationdefaults": {
           "arrowcolor": "#2a3f5f",
           "arrowhead": 0,
           "arrowwidth": 1
          },
          "colorscale": {
           "diverging": [
            [
             0,
             "#8e0152"
            ],
            [
             0.1,
             "#c51b7d"
            ],
            [
             0.2,
             "#de77ae"
            ],
            [
             0.3,
             "#f1b6da"
            ],
            [
             0.4,
             "#fde0ef"
            ],
            [
             0.5,
             "#f7f7f7"
            ],
            [
             0.6,
             "#e6f5d0"
            ],
            [
             0.7,
             "#b8e186"
            ],
            [
             0.8,
             "#7fbc41"
            ],
            [
             0.9,
             "#4d9221"
            ],
            [
             1,
             "#276419"
            ]
           ],
           "sequential": [
            [
             0,
             "#0d0887"
            ],
            [
             0.1111111111111111,
             "#46039f"
            ],
            [
             0.2222222222222222,
             "#7201a8"
            ],
            [
             0.3333333333333333,
             "#9c179e"
            ],
            [
             0.4444444444444444,
             "#bd3786"
            ],
            [
             0.5555555555555556,
             "#d8576b"
            ],
            [
             0.6666666666666666,
             "#ed7953"
            ],
            [
             0.7777777777777778,
             "#fb9f3a"
            ],
            [
             0.8888888888888888,
             "#fdca26"
            ],
            [
             1,
             "#f0f921"
            ]
           ],
           "sequentialminus": [
            [
             0,
             "#0d0887"
            ],
            [
             0.1111111111111111,
             "#46039f"
            ],
            [
             0.2222222222222222,
             "#7201a8"
            ],
            [
             0.3333333333333333,
             "#9c179e"
            ],
            [
             0.4444444444444444,
             "#bd3786"
            ],
            [
             0.5555555555555556,
             "#d8576b"
            ],
            [
             0.6666666666666666,
             "#ed7953"
            ],
            [
             0.7777777777777778,
             "#fb9f3a"
            ],
            [
             0.8888888888888888,
             "#fdca26"
            ],
            [
             1,
             "#f0f921"
            ]
           ]
          },
          "colorway": [
           "#636efa",
           "#EF553B",
           "#00cc96",
           "#ab63fa",
           "#FFA15A",
           "#19d3f3",
           "#FF6692",
           "#B6E880",
           "#FF97FF",
           "#FECB52"
          ],
          "font": {
           "color": "#2a3f5f"
          },
          "geo": {
           "bgcolor": "white",
           "lakecolor": "white",
           "landcolor": "#E5ECF6",
           "showlakes": true,
           "showland": true,
           "subunitcolor": "white"
          },
          "hoverlabel": {
           "align": "left"
          },
          "hovermode": "closest",
          "mapbox": {
           "style": "light"
          },
          "paper_bgcolor": "white",
          "plot_bgcolor": "#E5ECF6",
          "polar": {
           "angularaxis": {
            "gridcolor": "white",
            "linecolor": "white",
            "ticks": ""
           },
           "bgcolor": "#E5ECF6",
           "radialaxis": {
            "gridcolor": "white",
            "linecolor": "white",
            "ticks": ""
           }
          },
          "scene": {
           "xaxis": {
            "backgroundcolor": "#E5ECF6",
            "gridcolor": "white",
            "gridwidth": 2,
            "linecolor": "white",
            "showbackground": true,
            "ticks": "",
            "zerolinecolor": "white"
           },
           "yaxis": {
            "backgroundcolor": "#E5ECF6",
            "gridcolor": "white",
            "gridwidth": 2,
            "linecolor": "white",
            "showbackground": true,
            "ticks": "",
            "zerolinecolor": "white"
           },
           "zaxis": {
            "backgroundcolor": "#E5ECF6",
            "gridcolor": "white",
            "gridwidth": 2,
            "linecolor": "white",
            "showbackground": true,
            "ticks": "",
            "zerolinecolor": "white"
           }
          },
          "shapedefaults": {
           "line": {
            "color": "#2a3f5f"
           }
          },
          "ternary": {
           "aaxis": {
            "gridcolor": "white",
            "linecolor": "white",
            "ticks": ""
           },
           "baxis": {
            "gridcolor": "white",
            "linecolor": "white",
            "ticks": ""
           },
           "bgcolor": "#E5ECF6",
           "caxis": {
            "gridcolor": "white",
            "linecolor": "white",
            "ticks": ""
           }
          },
          "title": {
           "x": 0.05
          },
          "xaxis": {
           "automargin": true,
           "gridcolor": "white",
           "linecolor": "white",
           "ticks": "",
           "zerolinecolor": "white",
           "zerolinewidth": 2
          },
          "yaxis": {
           "automargin": true,
           "gridcolor": "white",
           "linecolor": "white",
           "ticks": "",
           "zerolinecolor": "white",
           "zerolinewidth": 2
          }
         }
        },
        "title": {
         "text": "newmse:tuwen:total_recommend:(real_ctr)"
        },
        "xaxis": {
         "type": "date"
        },
        "yaxis": {
         "title": {
          "text": "real_ctr"
         }
        }
       }
      },
      "text/html": [
       "<div>\n",
       "        \n",
       "        \n",
       "            <div id=\"25b7dacd-d075-4e3a-bd3c-fe1a0bda6fcc\" class=\"plotly-graph-div\" style=\"height:525px; width:100%;\"></div>\n",
       "            <script type=\"text/javascript\">\n",
       "                require([\"plotly\"], function(Plotly) {\n",
       "                    window.PLOTLYENV=window.PLOTLYENV || {};\n",
       "                    \n",
       "                if (document.getElementById(\"25b7dacd-d075-4e3a-bd3c-fe1a0bda6fcc\")) {\n",
       "                    Plotly.newPlot(\n",
       "                        '25b7dacd-d075-4e3a-bd3c-fe1a0bda6fcc',\n",
       "                        [{\"hovertext\": [\"-0.0004\", \"-0.0084\", \"-0.0082\", \"0.0077\", \"-0.0024\", \"0.0101\", \"-0.0142\", \"-0.0772\", \"0.0179\", \"0.1033\", \"0.0486\", \"-0.0206\", \"0.0079\", \"-0.0049\"], \"line\": {\"shape\": \"spline\", \"smoothing\": 1.0}, \"mode\": \"lines+markers\", \"name\": \"7\", \"showlegend\": true, \"type\": \"scatter\", \"x\": [\"2019-12-31T00:00:00\", \"2020-01-01T00:00:00\", \"2020-01-02T00:00:00\", \"2020-01-03T00:00:00\", \"2020-01-04T00:00:00\", \"2020-01-05T00:00:00\", \"2020-01-06T00:00:00\", \"2020-01-07T00:00:00\", \"2020-01-08T00:00:00\", \"2020-01-09T00:00:00\", \"2020-01-10T00:00:00\", \"2020-01-11T00:00:00\", \"2020-01-12T00:00:00\", \"2020-01-13T00:00:00\"], \"y\": [0.17806406617970255, 0.17710435835145072, 0.1777887664689914, 0.19737471839722073, 0.22330139426975473, 0.20501620204550786, 0.1771826661653837, 0.17014759040058136, 0.18050488855261615, 0.1770541776686687, 0.17258067381088657, 0.16130765806445999, 0.159915916708496, 0.1616593988479045]}, {\"line\": {\"shape\": \"spline\", \"smoothing\": 1.0}, \"mode\": \"lines+markers\", \"name\": \"456\", \"showlegend\": true, \"type\": \"scatter\", \"x\": [\"2019-12-31T00:00:00\", \"2020-01-01T00:00:00\", \"2020-01-02T00:00:00\", \"2020-01-03T00:00:00\", \"2020-01-04T00:00:00\", \"2020-01-05T00:00:00\", \"2020-01-06T00:00:00\", \"2020-01-07T00:00:00\", \"2020-01-08T00:00:00\", \"2020-01-09T00:00:00\", \"2020-01-10T00:00:00\", \"2020-01-11T00:00:00\", \"2020-01-12T00:00:00\", \"2020-01-13T00:00:00\"], \"y\": [0.17812781050733903, 0.17860863776392255, 0.17925813947690297, 0.19585791456568666, 0.22383900558707293, 0.20295799781170384, 0.17973913009739975, 0.1843754819737523, 0.17733515605547323, 0.1604710753979205, 0.16458140471557423, 0.16470039105191084, 0.1586555674269937, 0.16246180870454854]}],\n",
       "                        {\"hovermode\": \"x\", \"template\": {\"data\": {\"bar\": [{\"error_x\": {\"color\": \"#2a3f5f\"}, \"error_y\": {\"color\": \"#2a3f5f\"}, \"marker\": {\"line\": {\"color\": \"#E5ECF6\", \"width\": 0.5}}, \"type\": \"bar\"}], \"barpolar\": [{\"marker\": {\"line\": {\"color\": \"#E5ECF6\", \"width\": 0.5}}, \"type\": \"barpolar\"}], \"carpet\": [{\"aaxis\": {\"endlinecolor\": \"#2a3f5f\", \"gridcolor\": \"white\", \"linecolor\": \"white\", \"minorgridcolor\": \"white\", \"startlinecolor\": \"#2a3f5f\"}, \"baxis\": {\"endlinecolor\": \"#2a3f5f\", \"gridcolor\": \"white\", \"linecolor\": \"white\", \"minorgridcolor\": \"white\", \"startlinecolor\": \"#2a3f5f\"}, \"type\": \"carpet\"}], \"choropleth\": [{\"colorbar\": {\"outlinewidth\": 0, \"ticks\": \"\"}, \"type\": \"choropleth\"}], \"contour\": [{\"colorbar\": {\"outlinewidth\": 0, \"ticks\": \"\"}, \"colorscale\": [[0.0, \"#0d0887\"], [0.1111111111111111, \"#46039f\"], [0.2222222222222222, \"#7201a8\"], [0.3333333333333333, \"#9c179e\"], [0.4444444444444444, \"#bd3786\"], [0.5555555555555556, \"#d8576b\"], [0.6666666666666666, \"#ed7953\"], [0.7777777777777778, \"#fb9f3a\"], [0.8888888888888888, \"#fdca26\"], [1.0, \"#f0f921\"]], \"type\": \"contour\"}], \"contourcarpet\": [{\"colorbar\": {\"outlinewidth\": 0, \"ticks\": \"\"}, \"type\": \"contourcarpet\"}], \"heatmap\": [{\"colorbar\": {\"outlinewidth\": 0, \"ticks\": \"\"}, \"colorscale\": [[0.0, \"#0d0887\"], [0.1111111111111111, \"#46039f\"], [0.2222222222222222, \"#7201a8\"], [0.3333333333333333, \"#9c179e\"], [0.4444444444444444, \"#bd3786\"], [0.5555555555555556, \"#d8576b\"], [0.6666666666666666, \"#ed7953\"], [0.7777777777777778, \"#fb9f3a\"], [0.8888888888888888, \"#fdca26\"], [1.0, \"#f0f921\"]], \"type\": \"heatmap\"}], \"heatmapgl\": [{\"colorbar\": {\"outlinewidth\": 0, \"ticks\": \"\"}, \"colorscale\": [[0.0, \"#0d0887\"], [0.1111111111111111, \"#46039f\"], [0.2222222222222222, \"#7201a8\"], [0.3333333333333333, \"#9c179e\"], [0.4444444444444444, \"#bd3786\"], [0.5555555555555556, \"#d8576b\"], [0.6666666666666666, \"#ed7953\"], [0.7777777777777778, \"#fb9f3a\"], [0.8888888888888888, \"#fdca26\"], [1.0, \"#f0f921\"]], \"type\": \"heatmapgl\"}], \"histogram\": [{\"marker\": {\"colorbar\": {\"outlinewidth\": 0, \"ticks\": \"\"}}, \"type\": \"histogram\"}], \"histogram2d\": [{\"colorbar\": {\"outlinewidth\": 0, \"ticks\": \"\"}, \"colorscale\": [[0.0, \"#0d0887\"], [0.1111111111111111, \"#46039f\"], [0.2222222222222222, \"#7201a8\"], [0.3333333333333333, \"#9c179e\"], [0.4444444444444444, \"#bd3786\"], [0.5555555555555556, \"#d8576b\"], [0.6666666666666666, \"#ed7953\"], [0.7777777777777778, \"#fb9f3a\"], [0.8888888888888888, \"#fdca26\"], [1.0, \"#f0f921\"]], \"type\": \"histogram2d\"}], \"histogram2dcontour\": [{\"colorbar\": {\"outlinewidth\": 0, \"ticks\": \"\"}, \"colorscale\": [[0.0, \"#0d0887\"], [0.1111111111111111, \"#46039f\"], [0.2222222222222222, \"#7201a8\"], [0.3333333333333333, \"#9c179e\"], [0.4444444444444444, \"#bd3786\"], [0.5555555555555556, \"#d8576b\"], [0.6666666666666666, \"#ed7953\"], [0.7777777777777778, \"#fb9f3a\"], [0.8888888888888888, \"#fdca26\"], [1.0, \"#f0f921\"]], \"type\": \"histogram2dcontour\"}], \"mesh3d\": [{\"colorbar\": {\"outlinewidth\": 0, \"ticks\": \"\"}, \"type\": \"mesh3d\"}], \"parcoords\": [{\"line\": {\"colorbar\": {\"outlinewidth\": 0, \"ticks\": \"\"}}, \"type\": \"parcoords\"}], \"scatter\": [{\"marker\": {\"colorbar\": {\"outlinewidth\": 0, \"ticks\": \"\"}}, \"type\": \"scatter\"}], \"scatter3d\": [{\"line\": {\"colorbar\": {\"outlinewidth\": 0, \"ticks\": \"\"}}, \"marker\": {\"colorbar\": {\"outlinewidth\": 0, \"ticks\": \"\"}}, \"type\": \"scatter3d\"}], \"scattercarpet\": [{\"marker\": {\"colorbar\": {\"outlinewidth\": 0, \"ticks\": \"\"}}, \"type\": \"scattercarpet\"}], \"scattergeo\": [{\"marker\": {\"colorbar\": {\"outlinewidth\": 0, \"ticks\": \"\"}}, \"type\": \"scattergeo\"}], \"scattergl\": [{\"marker\": {\"colorbar\": {\"outlinewidth\": 0, \"ticks\": \"\"}}, \"type\": \"scattergl\"}], \"scattermapbox\": [{\"marker\": {\"colorbar\": {\"outlinewidth\": 0, \"ticks\": \"\"}}, \"type\": \"scattermapbox\"}], \"scatterpolar\": [{\"marker\": {\"colorbar\": {\"outlinewidth\": 0, \"ticks\": \"\"}}, \"type\": \"scatterpolar\"}], \"scatterpolargl\": [{\"marker\": {\"colorbar\": {\"outlinewidth\": 0, \"ticks\": \"\"}}, \"type\": \"scatterpolargl\"}], \"scatterternary\": [{\"marker\": {\"colorbar\": {\"outlinewidth\": 0, \"ticks\": \"\"}}, \"type\": \"scatterternary\"}], \"surface\": [{\"colorbar\": {\"outlinewidth\": 0, \"ticks\": \"\"}, \"colorscale\": [[0.0, \"#0d0887\"], [0.1111111111111111, \"#46039f\"], [0.2222222222222222, \"#7201a8\"], [0.3333333333333333, \"#9c179e\"], [0.4444444444444444, \"#bd3786\"], [0.5555555555555556, \"#d8576b\"], [0.6666666666666666, \"#ed7953\"], [0.7777777777777778, \"#fb9f3a\"], [0.8888888888888888, \"#fdca26\"], [1.0, \"#f0f921\"]], \"type\": \"surface\"}], \"table\": [{\"cells\": {\"fill\": {\"color\": \"#EBF0F8\"}, \"line\": {\"color\": \"white\"}}, \"header\": {\"fill\": {\"color\": \"#C8D4E3\"}, \"line\": {\"color\": \"white\"}}, \"type\": \"table\"}]}, \"layout\": {\"annotationdefaults\": {\"arrowcolor\": \"#2a3f5f\", \"arrowhead\": 0, \"arrowwidth\": 1}, \"colorscale\": {\"diverging\": [[0, \"#8e0152\"], [0.1, \"#c51b7d\"], [0.2, \"#de77ae\"], [0.3, \"#f1b6da\"], [0.4, \"#fde0ef\"], [0.5, \"#f7f7f7\"], [0.6, \"#e6f5d0\"], [0.7, \"#b8e186\"], [0.8, \"#7fbc41\"], [0.9, \"#4d9221\"], [1, \"#276419\"]], \"sequential\": [[0.0, \"#0d0887\"], [0.1111111111111111, \"#46039f\"], [0.2222222222222222, \"#7201a8\"], [0.3333333333333333, \"#9c179e\"], [0.4444444444444444, \"#bd3786\"], [0.5555555555555556, \"#d8576b\"], [0.6666666666666666, \"#ed7953\"], [0.7777777777777778, \"#fb9f3a\"], [0.8888888888888888, \"#fdca26\"], [1.0, \"#f0f921\"]], \"sequentialminus\": [[0.0, \"#0d0887\"], [0.1111111111111111, \"#46039f\"], [0.2222222222222222, \"#7201a8\"], [0.3333333333333333, \"#9c179e\"], [0.4444444444444444, \"#bd3786\"], [0.5555555555555556, \"#d8576b\"], [0.6666666666666666, \"#ed7953\"], [0.7777777777777778, \"#fb9f3a\"], [0.8888888888888888, \"#fdca26\"], [1.0, \"#f0f921\"]]}, \"colorway\": [\"#636efa\", \"#EF553B\", \"#00cc96\", \"#ab63fa\", \"#FFA15A\", \"#19d3f3\", \"#FF6692\", \"#B6E880\", \"#FF97FF\", \"#FECB52\"], \"font\": {\"color\": \"#2a3f5f\"}, \"geo\": {\"bgcolor\": \"white\", \"lakecolor\": \"white\", \"landcolor\": \"#E5ECF6\", \"showlakes\": true, \"showland\": true, \"subunitcolor\": \"white\"}, \"hoverlabel\": {\"align\": \"left\"}, \"hovermode\": \"closest\", \"mapbox\": {\"style\": \"light\"}, \"paper_bgcolor\": \"white\", \"plot_bgcolor\": \"#E5ECF6\", \"polar\": {\"angularaxis\": {\"gridcolor\": \"white\", \"linecolor\": \"white\", \"ticks\": \"\"}, \"bgcolor\": \"#E5ECF6\", \"radialaxis\": {\"gridcolor\": \"white\", \"linecolor\": \"white\", \"ticks\": \"\"}}, \"scene\": {\"xaxis\": {\"backgroundcolor\": \"#E5ECF6\", \"gridcolor\": \"white\", \"gridwidth\": 2, \"linecolor\": \"white\", \"showbackground\": true, \"ticks\": \"\", \"zerolinecolor\": \"white\"}, \"yaxis\": {\"backgroundcolor\": \"#E5ECF6\", \"gridcolor\": \"white\", \"gridwidth\": 2, \"linecolor\": \"white\", \"showbackground\": true, \"ticks\": \"\", \"zerolinecolor\": \"white\"}, \"zaxis\": {\"backgroundcolor\": \"#E5ECF6\", \"gridcolor\": \"white\", \"gridwidth\": 2, \"linecolor\": \"white\", \"showbackground\": true, \"ticks\": \"\", \"zerolinecolor\": \"white\"}}, \"shapedefaults\": {\"line\": {\"color\": \"#2a3f5f\"}}, \"ternary\": {\"aaxis\": {\"gridcolor\": \"white\", \"linecolor\": \"white\", \"ticks\": \"\"}, \"baxis\": {\"gridcolor\": \"white\", \"linecolor\": \"white\", \"ticks\": \"\"}, \"bgcolor\": \"#E5ECF6\", \"caxis\": {\"gridcolor\": \"white\", \"linecolor\": \"white\", \"ticks\": \"\"}}, \"title\": {\"x\": 0.05}, \"xaxis\": {\"automargin\": true, \"gridcolor\": \"white\", \"linecolor\": \"white\", \"ticks\": \"\", \"zerolinecolor\": \"white\", \"zerolinewidth\": 2}, \"yaxis\": {\"automargin\": true, \"gridcolor\": \"white\", \"linecolor\": \"white\", \"ticks\": \"\", \"zerolinecolor\": \"white\", \"zerolinewidth\": 2}}}, \"title\": {\"text\": \"newmse:tuwen:total_recommend:(real_ctr)\"}, \"xaxis\": {\"type\": \"date\"}, \"yaxis\": {\"title\": {\"text\": \"real_ctr\"}}},\n",
       "                        {\"responsive\": true}\n",
       "                    ).then(function(){\n",
       "                            \n",
       "var gd = document.getElementById('25b7dacd-d075-4e3a-bd3c-fe1a0bda6fcc');\n",
       "var x = new MutationObserver(function (mutations, observer) {{\n",
       "        var display = window.getComputedStyle(gd).display;\n",
       "        if (!display || display === 'none') {{\n",
       "            console.log([gd, 'removed!']);\n",
       "            Plotly.purge(gd);\n",
       "            observer.disconnect();\n",
       "        }}\n",
       "}});\n",
       "\n",
       "// Listen for the removal of the full notebook cells\n",
       "var notebookContainer = gd.closest('#notebook-container');\n",
       "if (notebookContainer) {{\n",
       "    x.observe(notebookContainer, {childList: true});\n",
       "}}\n",
       "\n",
       "// Listen for the clearing of the current output cell\n",
       "var outputEl = gd.closest('.output');\n",
       "if (outputEl) {{\n",
       "    x.observe(outputEl, {childList: true});\n",
       "}}\n",
       "\n",
       "                        })\n",
       "                };\n",
       "                });\n",
       "            </script>\n",
       "        </div>"
      ]
     },
     "metadata": {},
     "output_type": "display_data"
    }
   ],
   "source": [
    "show_daily('tuwen_total_recommend')"
   ]
  },
  {
   "cell_type": "code",
   "execution_count": 6,
   "metadata": {},
   "outputs": [
    {
     "name": "stderr",
     "output_type": "stream",
     "text": [
      "SELECT * FROM feed_abtest_video_type_common_hourly \n",
      "                WHERE product = 'newmse'\n",
      "                AND abtest in ('6','4','5','7') \n",
      "                AND datetime BETWEEN '2019110400' AND '2020011416'\n",
      "                AND video_type not in ('-1', 'NULL')\n",
      "          \n",
      "1.4014654159545898\n"
     ]
    }
   ],
   "source": [
    "last_days = 2\n",
    "start_time = None\n",
    "end_time = None\n",
    "# start_time = 20191210\n",
    "# end_time = 20191220\n",
    "# abids = [8, 15, 16]\n",
    "# abids = [16, 8]\n",
    "# abids = [8]\n",
    "worker_hourly = Taurus()\n",
    "worker_hourly.init(abids, last_days, 'hourly', product=product,\n",
    "                 diff_spans=diff_spans, start_time=start_time, end_time=end_time)\n",
    "worker_hourly.run()\n",
    "\n",
    "# for name 1(tuwen,video,small_video,total) 2(quality,total) 3(recommend,relative,total)\n",
    "def show_hourly(name, use_diff=True, quality=False, field=None):\n",
    "  worker_hourly.show(name, quality, field, use_diff=use_diff, relative_diff=True)\n",
    "  "
   ]
  },
  {
   "cell_type": "code",
   "execution_count": 7,
   "metadata": {},
   "outputs": [
    {
     "data": {
      "text/html": [
       "        <script type=\"text/javascript\">\n",
       "        window.PlotlyConfig = {MathJaxConfig: 'local'};\n",
       "        if (window.MathJax) {MathJax.Hub.Config({SVG: {font: \"STIX-Web\"}});}\n",
       "        if (typeof require !== 'undefined') {\n",
       "        require.undef(\"plotly\");\n",
       "        requirejs.config({\n",
       "            paths: {\n",
       "                'plotly': ['https://cdn.plot.ly/plotly-latest.min']\n",
       "            }\n",
       "        });\n",
       "        require(['plotly'], function(Plotly) {\n",
       "            window._Plotly = Plotly;\n",
       "        });\n",
       "        }\n",
       "        </script>\n",
       "        "
      ]
     },
     "metadata": {},
     "output_type": "display_data"
    },
    {
     "data": {
      "application/vnd.plotly.v1+json": {
       "config": {
        "linkText": "Export to plot.ly",
        "plotlyServerURL": "https://plot.ly",
        "showLink": false
       },
       "data": [
        {
         "hovertext": [
          "-0.0266",
          "-0.0618",
          "-0.0665",
          "0.0081",
          "-0.0323",
          "-0.0881",
          "-0.0161",
          "-0.0710",
          "-0.0843",
          "-0.0636",
          "-0.0584",
          "-0.0386",
          "-0.0531",
          "-0.0581",
          "-0.0285",
          "-0.0120",
          "-0.0248",
          "-0.1151",
          "-0.0453",
          "-0.0986",
          "-0.0379",
          "-0.0662",
          "-0.0468",
          "-0.0453",
          "-0.0927",
          "-0.0435",
          "-0.0414",
          "-0.0510",
          "-0.0371",
          "-0.0489",
          "-0.0848",
          "-0.1001",
          "-0.0442",
          "-0.0338",
          "-0.0693",
          "-0.0518",
          "-0.0399",
          "-0.0107",
          "0.0066",
          "-0.0717",
          "0.0665",
          "-0.0692",
          "0.0234",
          "-0.0052",
          "-0.0220",
          "-0.0913",
          "-0.0366",
          "-0.0346",
          "-0.0179",
          "0.0109",
          "-0.0752"
         ],
         "line": {
          "shape": "spline",
          "smoothing": 1
         },
         "mode": "lines+markers",
         "name": "7",
         "showlegend": true,
         "type": "scatter",
         "x": [
          "2020-01-12T11:00:00",
          "2020-01-12T12:00:00",
          "2020-01-12T13:00:00",
          "2020-01-12T14:00:00",
          "2020-01-12T15:00:00",
          "2020-01-12T16:00:00",
          "2020-01-12T17:00:00",
          "2020-01-12T18:00:00",
          "2020-01-12T19:00:00",
          "2020-01-12T20:00:00",
          "2020-01-12T21:00:00",
          "2020-01-12T22:00:00",
          "2020-01-12T23:00:00",
          "2020-01-13T00:00:00",
          "2020-01-13T01:00:00",
          "2020-01-13T02:00:00",
          "2020-01-13T03:00:00",
          "2020-01-13T04:00:00",
          "2020-01-13T05:00:00",
          "2020-01-13T06:00:00",
          "2020-01-13T07:00:00",
          "2020-01-13T08:00:00",
          "2020-01-13T09:00:00",
          "2020-01-13T10:00:00",
          "2020-01-13T11:00:00",
          "2020-01-13T12:00:00",
          "2020-01-13T13:00:00",
          "2020-01-13T14:00:00",
          "2020-01-13T15:00:00",
          "2020-01-13T16:00:00",
          "2020-01-13T17:00:00",
          "2020-01-13T18:00:00",
          "2020-01-13T19:00:00",
          "2020-01-13T20:00:00",
          "2020-01-13T21:00:00",
          "2020-01-13T22:00:00",
          "2020-01-13T23:00:00",
          "2020-01-14T00:00:00",
          "2020-01-14T01:00:00",
          "2020-01-14T02:00:00",
          "2020-01-14T03:00:00",
          "2020-01-14T04:00:00",
          "2020-01-14T05:00:00",
          "2020-01-14T06:00:00",
          "2020-01-14T07:00:00",
          "2020-01-14T08:00:00",
          "2020-01-14T09:00:00",
          "2020-01-14T10:00:00",
          "2020-01-14T11:00:00",
          "2020-01-14T12:00:00",
          "2020-01-14T13:00:00"
         ],
         "y": [
          0.11350144200762821,
          0.11646210881148583,
          0.11836048083995314,
          0.12756006458012287,
          0.12613297362824075,
          0.12098015009931772,
          0.12691118628567832,
          0.12151448108086473,
          0.12180870629989023,
          0.12790247352003342,
          0.12988518307437646,
          0.14872116375406214,
          0.14371078990356073,
          0.10552695055222622,
          0.11068805925152002,
          0.1166408285961191,
          0.12150107270614985,
          0.12456836278229091,
          0.13556167371287053,
          0.12412664961696938,
          0.1226843649010689,
          0.09379869140294972,
          0.06957813085027073,
          0.0942787370689591,
          0.09942811336155773,
          0.11348833257638112,
          0.11885478686948486,
          0.10790416708174862,
          0.11258594873831561,
          0.11551007254205978,
          0.11808498593760379,
          0.12117858898089376,
          0.1363934909177848,
          0.1416487383088659,
          0.13954095453453666,
          0.1446253602372267,
          0.14329447535398213,
          0.10835396079796024,
          0.11343751234446292,
          0.11047417216942283,
          0.13674210218852953,
          0.12200153136367628,
          0.14277158364190973,
          0.13489527446968236,
          0.12090305076305818,
          0.09508986734918534,
          0.07353089815945693,
          0.09659148326173742,
          0.11116583528817214,
          0.12001610568887411,
          0.11497247765150427
         ]
        },
        {
         "line": {
          "shape": "spline",
          "smoothing": 1
         },
         "mode": "lines+markers",
         "name": "456",
         "showlegend": true,
         "type": "scatter",
         "x": [
          "2020-01-12T11:00:00",
          "2020-01-12T12:00:00",
          "2020-01-12T13:00:00",
          "2020-01-12T14:00:00",
          "2020-01-12T15:00:00",
          "2020-01-12T16:00:00",
          "2020-01-12T17:00:00",
          "2020-01-12T18:00:00",
          "2020-01-12T19:00:00",
          "2020-01-12T20:00:00",
          "2020-01-12T21:00:00",
          "2020-01-12T22:00:00",
          "2020-01-12T23:00:00",
          "2020-01-13T00:00:00",
          "2020-01-13T01:00:00",
          "2020-01-13T02:00:00",
          "2020-01-13T03:00:00",
          "2020-01-13T04:00:00",
          "2020-01-13T05:00:00",
          "2020-01-13T06:00:00",
          "2020-01-13T07:00:00",
          "2020-01-13T08:00:00",
          "2020-01-13T09:00:00",
          "2020-01-13T10:00:00",
          "2020-01-13T11:00:00",
          "2020-01-13T12:00:00",
          "2020-01-13T13:00:00",
          "2020-01-13T14:00:00",
          "2020-01-13T15:00:00",
          "2020-01-13T16:00:00",
          "2020-01-13T17:00:00",
          "2020-01-13T18:00:00",
          "2020-01-13T19:00:00",
          "2020-01-13T20:00:00",
          "2020-01-13T21:00:00",
          "2020-01-13T22:00:00",
          "2020-01-13T23:00:00",
          "2020-01-14T00:00:00",
          "2020-01-14T01:00:00",
          "2020-01-14T02:00:00",
          "2020-01-14T03:00:00",
          "2020-01-14T04:00:00",
          "2020-01-14T05:00:00",
          "2020-01-14T06:00:00",
          "2020-01-14T07:00:00",
          "2020-01-14T08:00:00",
          "2020-01-14T09:00:00",
          "2020-01-14T10:00:00",
          "2020-01-14T11:00:00",
          "2020-01-14T12:00:00",
          "2020-01-14T13:00:00"
         ],
         "y": [
          0.11660669606586416,
          0.12412704618795745,
          0.12679000115771802,
          0.12652893660676326,
          0.1303396113806322,
          0.13267316707603616,
          0.12898563873036265,
          0.1308083764866563,
          0.13301985984749312,
          0.13659321882677652,
          0.1379367502908457,
          0.15469070343015892,
          0.1517690987725371,
          0.11203736464155152,
          0.11393806408255591,
          0.11806329792025079,
          0.12458843768344308,
          0.14076383299660633,
          0.14199951928388133,
          0.1377104512259455,
          0.12751210103981234,
          0.10045117764447926,
          0.07299063085892492,
          0.09874786821388283,
          0.10958995329511319,
          0.11864838867932175,
          0.12398638718592962,
          0.11370672271082866,
          0.11692912845042765,
          0.12145018250994392,
          0.12902733990409068,
          0.1346518699922901,
          0.14269694138219258,
          0.14659908846306116,
          0.14992706382936805,
          0.15252751713253396,
          0.14924879604962335,
          0.10952688010520532,
          0.11269265383611127,
          0.11900435380925777,
          0.12821754727960127,
          0.13107354240035438,
          0.13951059572758448,
          0.1356016907165805,
          0.12361766662728531,
          0.10463870957893845,
          0.07632576949293278,
          0.10005830334566128,
          0.11319184099537377,
          0.11871646140107443,
          0.12432641953986799
         ]
        }
       ],
       "layout": {
        "hovermode": "x",
        "template": {
         "data": {
          "bar": [
           {
            "error_x": {
             "color": "#2a3f5f"
            },
            "error_y": {
             "color": "#2a3f5f"
            },
            "marker": {
             "line": {
              "color": "#E5ECF6",
              "width": 0.5
             }
            },
            "type": "bar"
           }
          ],
          "barpolar": [
           {
            "marker": {
             "line": {
              "color": "#E5ECF6",
              "width": 0.5
             }
            },
            "type": "barpolar"
           }
          ],
          "carpet": [
           {
            "aaxis": {
             "endlinecolor": "#2a3f5f",
             "gridcolor": "white",
             "linecolor": "white",
             "minorgridcolor": "white",
             "startlinecolor": "#2a3f5f"
            },
            "baxis": {
             "endlinecolor": "#2a3f5f",
             "gridcolor": "white",
             "linecolor": "white",
             "minorgridcolor": "white",
             "startlinecolor": "#2a3f5f"
            },
            "type": "carpet"
           }
          ],
          "choropleth": [
           {
            "colorbar": {
             "outlinewidth": 0,
             "ticks": ""
            },
            "type": "choropleth"
           }
          ],
          "contour": [
           {
            "colorbar": {
             "outlinewidth": 0,
             "ticks": ""
            },
            "colorscale": [
             [
              0,
              "#0d0887"
             ],
             [
              0.1111111111111111,
              "#46039f"
             ],
             [
              0.2222222222222222,
              "#7201a8"
             ],
             [
              0.3333333333333333,
              "#9c179e"
             ],
             [
              0.4444444444444444,
              "#bd3786"
             ],
             [
              0.5555555555555556,
              "#d8576b"
             ],
             [
              0.6666666666666666,
              "#ed7953"
             ],
             [
              0.7777777777777778,
              "#fb9f3a"
             ],
             [
              0.8888888888888888,
              "#fdca26"
             ],
             [
              1,
              "#f0f921"
             ]
            ],
            "type": "contour"
           }
          ],
          "contourcarpet": [
           {
            "colorbar": {
             "outlinewidth": 0,
             "ticks": ""
            },
            "type": "contourcarpet"
           }
          ],
          "heatmap": [
           {
            "colorbar": {
             "outlinewidth": 0,
             "ticks": ""
            },
            "colorscale": [
             [
              0,
              "#0d0887"
             ],
             [
              0.1111111111111111,
              "#46039f"
             ],
             [
              0.2222222222222222,
              "#7201a8"
             ],
             [
              0.3333333333333333,
              "#9c179e"
             ],
             [
              0.4444444444444444,
              "#bd3786"
             ],
             [
              0.5555555555555556,
              "#d8576b"
             ],
             [
              0.6666666666666666,
              "#ed7953"
             ],
             [
              0.7777777777777778,
              "#fb9f3a"
             ],
             [
              0.8888888888888888,
              "#fdca26"
             ],
             [
              1,
              "#f0f921"
             ]
            ],
            "type": "heatmap"
           }
          ],
          "heatmapgl": [
           {
            "colorbar": {
             "outlinewidth": 0,
             "ticks": ""
            },
            "colorscale": [
             [
              0,
              "#0d0887"
             ],
             [
              0.1111111111111111,
              "#46039f"
             ],
             [
              0.2222222222222222,
              "#7201a8"
             ],
             [
              0.3333333333333333,
              "#9c179e"
             ],
             [
              0.4444444444444444,
              "#bd3786"
             ],
             [
              0.5555555555555556,
              "#d8576b"
             ],
             [
              0.6666666666666666,
              "#ed7953"
             ],
             [
              0.7777777777777778,
              "#fb9f3a"
             ],
             [
              0.8888888888888888,
              "#fdca26"
             ],
             [
              1,
              "#f0f921"
             ]
            ],
            "type": "heatmapgl"
           }
          ],
          "histogram": [
           {
            "marker": {
             "colorbar": {
              "outlinewidth": 0,
              "ticks": ""
             }
            },
            "type": "histogram"
           }
          ],
          "histogram2d": [
           {
            "colorbar": {
             "outlinewidth": 0,
             "ticks": ""
            },
            "colorscale": [
             [
              0,
              "#0d0887"
             ],
             [
              0.1111111111111111,
              "#46039f"
             ],
             [
              0.2222222222222222,
              "#7201a8"
             ],
             [
              0.3333333333333333,
              "#9c179e"
             ],
             [
              0.4444444444444444,
              "#bd3786"
             ],
             [
              0.5555555555555556,
              "#d8576b"
             ],
             [
              0.6666666666666666,
              "#ed7953"
             ],
             [
              0.7777777777777778,
              "#fb9f3a"
             ],
             [
              0.8888888888888888,
              "#fdca26"
             ],
             [
              1,
              "#f0f921"
             ]
            ],
            "type": "histogram2d"
           }
          ],
          "histogram2dcontour": [
           {
            "colorbar": {
             "outlinewidth": 0,
             "ticks": ""
            },
            "colorscale": [
             [
              0,
              "#0d0887"
             ],
             [
              0.1111111111111111,
              "#46039f"
             ],
             [
              0.2222222222222222,
              "#7201a8"
             ],
             [
              0.3333333333333333,
              "#9c179e"
             ],
             [
              0.4444444444444444,
              "#bd3786"
             ],
             [
              0.5555555555555556,
              "#d8576b"
             ],
             [
              0.6666666666666666,
              "#ed7953"
             ],
             [
              0.7777777777777778,
              "#fb9f3a"
             ],
             [
              0.8888888888888888,
              "#fdca26"
             ],
             [
              1,
              "#f0f921"
             ]
            ],
            "type": "histogram2dcontour"
           }
          ],
          "mesh3d": [
           {
            "colorbar": {
             "outlinewidth": 0,
             "ticks": ""
            },
            "type": "mesh3d"
           }
          ],
          "parcoords": [
           {
            "line": {
             "colorbar": {
              "outlinewidth": 0,
              "ticks": ""
             }
            },
            "type": "parcoords"
           }
          ],
          "scatter": [
           {
            "marker": {
             "colorbar": {
              "outlinewidth": 0,
              "ticks": ""
             }
            },
            "type": "scatter"
           }
          ],
          "scatter3d": [
           {
            "line": {
             "colorbar": {
              "outlinewidth": 0,
              "ticks": ""
             }
            },
            "marker": {
             "colorbar": {
              "outlinewidth": 0,
              "ticks": ""
             }
            },
            "type": "scatter3d"
           }
          ],
          "scattercarpet": [
           {
            "marker": {
             "colorbar": {
              "outlinewidth": 0,
              "ticks": ""
             }
            },
            "type": "scattercarpet"
           }
          ],
          "scattergeo": [
           {
            "marker": {
             "colorbar": {
              "outlinewidth": 0,
              "ticks": ""
             }
            },
            "type": "scattergeo"
           }
          ],
          "scattergl": [
           {
            "marker": {
             "colorbar": {
              "outlinewidth": 0,
              "ticks": ""
             }
            },
            "type": "scattergl"
           }
          ],
          "scattermapbox": [
           {
            "marker": {
             "colorbar": {
              "outlinewidth": 0,
              "ticks": ""
             }
            },
            "type": "scattermapbox"
           }
          ],
          "scatterpolar": [
           {
            "marker": {
             "colorbar": {
              "outlinewidth": 0,
              "ticks": ""
             }
            },
            "type": "scatterpolar"
           }
          ],
          "scatterpolargl": [
           {
            "marker": {
             "colorbar": {
              "outlinewidth": 0,
              "ticks": ""
             }
            },
            "type": "scatterpolargl"
           }
          ],
          "scatterternary": [
           {
            "marker": {
             "colorbar": {
              "outlinewidth": 0,
              "ticks": ""
             }
            },
            "type": "scatterternary"
           }
          ],
          "surface": [
           {
            "colorbar": {
             "outlinewidth": 0,
             "ticks": ""
            },
            "colorscale": [
             [
              0,
              "#0d0887"
             ],
             [
              0.1111111111111111,
              "#46039f"
             ],
             [
              0.2222222222222222,
              "#7201a8"
             ],
             [
              0.3333333333333333,
              "#9c179e"
             ],
             [
              0.4444444444444444,
              "#bd3786"
             ],
             [
              0.5555555555555556,
              "#d8576b"
             ],
             [
              0.6666666666666666,
              "#ed7953"
             ],
             [
              0.7777777777777778,
              "#fb9f3a"
             ],
             [
              0.8888888888888888,
              "#fdca26"
             ],
             [
              1,
              "#f0f921"
             ]
            ],
            "type": "surface"
           }
          ],
          "table": [
           {
            "cells": {
             "fill": {
              "color": "#EBF0F8"
             },
             "line": {
              "color": "white"
             }
            },
            "header": {
             "fill": {
              "color": "#C8D4E3"
             },
             "line": {
              "color": "white"
             }
            },
            "type": "table"
           }
          ]
         },
         "layout": {
          "annotationdefaults": {
           "arrowcolor": "#2a3f5f",
           "arrowhead": 0,
           "arrowwidth": 1
          },
          "colorscale": {
           "diverging": [
            [
             0,
             "#8e0152"
            ],
            [
             0.1,
             "#c51b7d"
            ],
            [
             0.2,
             "#de77ae"
            ],
            [
             0.3,
             "#f1b6da"
            ],
            [
             0.4,
             "#fde0ef"
            ],
            [
             0.5,
             "#f7f7f7"
            ],
            [
             0.6,
             "#e6f5d0"
            ],
            [
             0.7,
             "#b8e186"
            ],
            [
             0.8,
             "#7fbc41"
            ],
            [
             0.9,
             "#4d9221"
            ],
            [
             1,
             "#276419"
            ]
           ],
           "sequential": [
            [
             0,
             "#0d0887"
            ],
            [
             0.1111111111111111,
             "#46039f"
            ],
            [
             0.2222222222222222,
             "#7201a8"
            ],
            [
             0.3333333333333333,
             "#9c179e"
            ],
            [
             0.4444444444444444,
             "#bd3786"
            ],
            [
             0.5555555555555556,
             "#d8576b"
            ],
            [
             0.6666666666666666,
             "#ed7953"
            ],
            [
             0.7777777777777778,
             "#fb9f3a"
            ],
            [
             0.8888888888888888,
             "#fdca26"
            ],
            [
             1,
             "#f0f921"
            ]
           ],
           "sequentialminus": [
            [
             0,
             "#0d0887"
            ],
            [
             0.1111111111111111,
             "#46039f"
            ],
            [
             0.2222222222222222,
             "#7201a8"
            ],
            [
             0.3333333333333333,
             "#9c179e"
            ],
            [
             0.4444444444444444,
             "#bd3786"
            ],
            [
             0.5555555555555556,
             "#d8576b"
            ],
            [
             0.6666666666666666,
             "#ed7953"
            ],
            [
             0.7777777777777778,
             "#fb9f3a"
            ],
            [
             0.8888888888888888,
             "#fdca26"
            ],
            [
             1,
             "#f0f921"
            ]
           ]
          },
          "colorway": [
           "#636efa",
           "#EF553B",
           "#00cc96",
           "#ab63fa",
           "#FFA15A",
           "#19d3f3",
           "#FF6692",
           "#B6E880",
           "#FF97FF",
           "#FECB52"
          ],
          "font": {
           "color": "#2a3f5f"
          },
          "geo": {
           "bgcolor": "white",
           "lakecolor": "white",
           "landcolor": "#E5ECF6",
           "showlakes": true,
           "showland": true,
           "subunitcolor": "white"
          },
          "hoverlabel": {
           "align": "left"
          },
          "hovermode": "closest",
          "mapbox": {
           "style": "light"
          },
          "paper_bgcolor": "white",
          "plot_bgcolor": "#E5ECF6",
          "polar": {
           "angularaxis": {
            "gridcolor": "white",
            "linecolor": "white",
            "ticks": ""
           },
           "bgcolor": "#E5ECF6",
           "radialaxis": {
            "gridcolor": "white",
            "linecolor": "white",
            "ticks": ""
           }
          },
          "scene": {
           "xaxis": {
            "backgroundcolor": "#E5ECF6",
            "gridcolor": "white",
            "gridwidth": 2,
            "linecolor": "white",
            "showbackground": true,
            "ticks": "",
            "zerolinecolor": "white"
           },
           "yaxis": {
            "backgroundcolor": "#E5ECF6",
            "gridcolor": "white",
            "gridwidth": 2,
            "linecolor": "white",
            "showbackground": true,
            "ticks": "",
            "zerolinecolor": "white"
           },
           "zaxis": {
            "backgroundcolor": "#E5ECF6",
            "gridcolor": "white",
            "gridwidth": 2,
            "linecolor": "white",
            "showbackground": true,
            "ticks": "",
            "zerolinecolor": "white"
           }
          },
          "shapedefaults": {
           "line": {
            "color": "#2a3f5f"
           }
          },
          "ternary": {
           "aaxis": {
            "gridcolor": "white",
            "linecolor": "white",
            "ticks": ""
           },
           "baxis": {
            "gridcolor": "white",
            "linecolor": "white",
            "ticks": ""
           },
           "bgcolor": "#E5ECF6",
           "caxis": {
            "gridcolor": "white",
            "linecolor": "white",
            "ticks": ""
           }
          },
          "title": {
           "x": 0.05
          },
          "xaxis": {
           "automargin": true,
           "gridcolor": "white",
           "linecolor": "white",
           "ticks": "",
           "zerolinecolor": "white",
           "zerolinewidth": 2
          },
          "yaxis": {
           "automargin": true,
           "gridcolor": "white",
           "linecolor": "white",
           "ticks": "",
           "zerolinecolor": "white",
           "zerolinewidth": 2
          }
         }
        },
        "title": {
         "text": "newmse:video:total_total:(read_ratio)"
        },
        "xaxis": {
         "type": "date"
        },
        "yaxis": {
         "title": {
          "text": "read_ratio"
         }
        }
       }
      },
      "text/html": [
       "<div>\n",
       "        \n",
       "        \n",
       "            <div id=\"d5da31fa-c36d-4b56-90e0-db4dc835e475\" class=\"plotly-graph-div\" style=\"height:525px; width:100%;\"></div>\n",
       "            <script type=\"text/javascript\">\n",
       "                require([\"plotly\"], function(Plotly) {\n",
       "                    window.PLOTLYENV=window.PLOTLYENV || {};\n",
       "                    \n",
       "                if (document.getElementById(\"d5da31fa-c36d-4b56-90e0-db4dc835e475\")) {\n",
       "                    Plotly.newPlot(\n",
       "                        'd5da31fa-c36d-4b56-90e0-db4dc835e475',\n",
       "                        [{\"hovertext\": [\"-0.0266\", \"-0.0618\", \"-0.0665\", \"0.0081\", \"-0.0323\", \"-0.0881\", \"-0.0161\", \"-0.0710\", \"-0.0843\", \"-0.0636\", \"-0.0584\", \"-0.0386\", \"-0.0531\", \"-0.0581\", \"-0.0285\", \"-0.0120\", \"-0.0248\", \"-0.1151\", \"-0.0453\", \"-0.0986\", \"-0.0379\", \"-0.0662\", \"-0.0468\", \"-0.0453\", \"-0.0927\", \"-0.0435\", \"-0.0414\", \"-0.0510\", \"-0.0371\", \"-0.0489\", \"-0.0848\", \"-0.1001\", \"-0.0442\", \"-0.0338\", \"-0.0693\", \"-0.0518\", \"-0.0399\", \"-0.0107\", \"0.0066\", \"-0.0717\", \"0.0665\", \"-0.0692\", \"0.0234\", \"-0.0052\", \"-0.0220\", \"-0.0913\", \"-0.0366\", \"-0.0346\", \"-0.0179\", \"0.0109\", \"-0.0752\"], \"line\": {\"shape\": \"spline\", \"smoothing\": 1.0}, \"mode\": \"lines+markers\", \"name\": \"7\", \"showlegend\": true, \"type\": \"scatter\", \"x\": [\"2020-01-12T11:00:00\", \"2020-01-12T12:00:00\", \"2020-01-12T13:00:00\", \"2020-01-12T14:00:00\", \"2020-01-12T15:00:00\", \"2020-01-12T16:00:00\", \"2020-01-12T17:00:00\", \"2020-01-12T18:00:00\", \"2020-01-12T19:00:00\", \"2020-01-12T20:00:00\", \"2020-01-12T21:00:00\", \"2020-01-12T22:00:00\", \"2020-01-12T23:00:00\", \"2020-01-13T00:00:00\", \"2020-01-13T01:00:00\", \"2020-01-13T02:00:00\", \"2020-01-13T03:00:00\", \"2020-01-13T04:00:00\", \"2020-01-13T05:00:00\", \"2020-01-13T06:00:00\", \"2020-01-13T07:00:00\", \"2020-01-13T08:00:00\", \"2020-01-13T09:00:00\", \"2020-01-13T10:00:00\", \"2020-01-13T11:00:00\", \"2020-01-13T12:00:00\", \"2020-01-13T13:00:00\", \"2020-01-13T14:00:00\", \"2020-01-13T15:00:00\", \"2020-01-13T16:00:00\", \"2020-01-13T17:00:00\", \"2020-01-13T18:00:00\", \"2020-01-13T19:00:00\", \"2020-01-13T20:00:00\", \"2020-01-13T21:00:00\", \"2020-01-13T22:00:00\", \"2020-01-13T23:00:00\", \"2020-01-14T00:00:00\", \"2020-01-14T01:00:00\", \"2020-01-14T02:00:00\", \"2020-01-14T03:00:00\", \"2020-01-14T04:00:00\", \"2020-01-14T05:00:00\", \"2020-01-14T06:00:00\", \"2020-01-14T07:00:00\", \"2020-01-14T08:00:00\", \"2020-01-14T09:00:00\", \"2020-01-14T10:00:00\", \"2020-01-14T11:00:00\", \"2020-01-14T12:00:00\", \"2020-01-14T13:00:00\"], \"y\": [0.11350144200762821, 0.11646210881148583, 0.11836048083995314, 0.12756006458012287, 0.12613297362824075, 0.12098015009931772, 0.12691118628567832, 0.12151448108086473, 0.12180870629989023, 0.12790247352003342, 0.12988518307437646, 0.14872116375406214, 0.14371078990356073, 0.10552695055222622, 0.11068805925152002, 0.1166408285961191, 0.12150107270614985, 0.12456836278229091, 0.13556167371287053, 0.12412664961696938, 0.1226843649010689, 0.09379869140294972, 0.06957813085027073, 0.0942787370689591, 0.09942811336155773, 0.11348833257638112, 0.11885478686948486, 0.10790416708174862, 0.11258594873831561, 0.11551007254205978, 0.11808498593760379, 0.12117858898089376, 0.1363934909177848, 0.1416487383088659, 0.13954095453453666, 0.1446253602372267, 0.14329447535398213, 0.10835396079796024, 0.11343751234446292, 0.11047417216942283, 0.13674210218852953, 0.12200153136367628, 0.14277158364190973, 0.13489527446968236, 0.12090305076305818, 0.09508986734918534, 0.07353089815945693, 0.09659148326173742, 0.11116583528817214, 0.12001610568887411, 0.11497247765150427]}, {\"line\": {\"shape\": \"spline\", \"smoothing\": 1.0}, \"mode\": \"lines+markers\", \"name\": \"456\", \"showlegend\": true, \"type\": \"scatter\", \"x\": [\"2020-01-12T11:00:00\", \"2020-01-12T12:00:00\", \"2020-01-12T13:00:00\", \"2020-01-12T14:00:00\", \"2020-01-12T15:00:00\", \"2020-01-12T16:00:00\", \"2020-01-12T17:00:00\", \"2020-01-12T18:00:00\", \"2020-01-12T19:00:00\", \"2020-01-12T20:00:00\", \"2020-01-12T21:00:00\", \"2020-01-12T22:00:00\", \"2020-01-12T23:00:00\", \"2020-01-13T00:00:00\", \"2020-01-13T01:00:00\", \"2020-01-13T02:00:00\", \"2020-01-13T03:00:00\", \"2020-01-13T04:00:00\", \"2020-01-13T05:00:00\", \"2020-01-13T06:00:00\", \"2020-01-13T07:00:00\", \"2020-01-13T08:00:00\", \"2020-01-13T09:00:00\", \"2020-01-13T10:00:00\", \"2020-01-13T11:00:00\", \"2020-01-13T12:00:00\", \"2020-01-13T13:00:00\", \"2020-01-13T14:00:00\", \"2020-01-13T15:00:00\", \"2020-01-13T16:00:00\", \"2020-01-13T17:00:00\", \"2020-01-13T18:00:00\", \"2020-01-13T19:00:00\", \"2020-01-13T20:00:00\", \"2020-01-13T21:00:00\", \"2020-01-13T22:00:00\", \"2020-01-13T23:00:00\", \"2020-01-14T00:00:00\", \"2020-01-14T01:00:00\", \"2020-01-14T02:00:00\", \"2020-01-14T03:00:00\", \"2020-01-14T04:00:00\", \"2020-01-14T05:00:00\", \"2020-01-14T06:00:00\", \"2020-01-14T07:00:00\", \"2020-01-14T08:00:00\", \"2020-01-14T09:00:00\", \"2020-01-14T10:00:00\", \"2020-01-14T11:00:00\", \"2020-01-14T12:00:00\", \"2020-01-14T13:00:00\"], \"y\": [0.11660669606586416, 0.12412704618795745, 0.12679000115771802, 0.12652893660676326, 0.1303396113806322, 0.13267316707603616, 0.12898563873036265, 0.1308083764866563, 0.13301985984749312, 0.13659321882677652, 0.1379367502908457, 0.15469070343015892, 0.1517690987725371, 0.11203736464155152, 0.11393806408255591, 0.11806329792025079, 0.12458843768344308, 0.14076383299660633, 0.14199951928388133, 0.1377104512259455, 0.12751210103981234, 0.10045117764447926, 0.07299063085892492, 0.09874786821388283, 0.10958995329511319, 0.11864838867932175, 0.12398638718592962, 0.11370672271082866, 0.11692912845042765, 0.12145018250994392, 0.12902733990409068, 0.1346518699922901, 0.14269694138219258, 0.14659908846306116, 0.14992706382936805, 0.15252751713253396, 0.14924879604962335, 0.10952688010520532, 0.11269265383611127, 0.11900435380925777, 0.12821754727960127, 0.13107354240035438, 0.13951059572758448, 0.1356016907165805, 0.12361766662728531, 0.10463870957893845, 0.07632576949293278, 0.10005830334566128, 0.11319184099537377, 0.11871646140107443, 0.12432641953986799]}],\n",
       "                        {\"hovermode\": \"x\", \"template\": {\"data\": {\"bar\": [{\"error_x\": {\"color\": \"#2a3f5f\"}, \"error_y\": {\"color\": \"#2a3f5f\"}, \"marker\": {\"line\": {\"color\": \"#E5ECF6\", \"width\": 0.5}}, \"type\": \"bar\"}], \"barpolar\": [{\"marker\": {\"line\": {\"color\": \"#E5ECF6\", \"width\": 0.5}}, \"type\": \"barpolar\"}], \"carpet\": [{\"aaxis\": {\"endlinecolor\": \"#2a3f5f\", \"gridcolor\": \"white\", \"linecolor\": \"white\", \"minorgridcolor\": \"white\", \"startlinecolor\": \"#2a3f5f\"}, \"baxis\": {\"endlinecolor\": \"#2a3f5f\", \"gridcolor\": \"white\", \"linecolor\": \"white\", \"minorgridcolor\": \"white\", \"startlinecolor\": \"#2a3f5f\"}, \"type\": \"carpet\"}], \"choropleth\": [{\"colorbar\": {\"outlinewidth\": 0, \"ticks\": \"\"}, \"type\": \"choropleth\"}], \"contour\": [{\"colorbar\": {\"outlinewidth\": 0, \"ticks\": \"\"}, \"colorscale\": [[0.0, \"#0d0887\"], [0.1111111111111111, \"#46039f\"], [0.2222222222222222, \"#7201a8\"], [0.3333333333333333, \"#9c179e\"], [0.4444444444444444, \"#bd3786\"], [0.5555555555555556, \"#d8576b\"], [0.6666666666666666, \"#ed7953\"], [0.7777777777777778, \"#fb9f3a\"], [0.8888888888888888, \"#fdca26\"], [1.0, \"#f0f921\"]], \"type\": \"contour\"}], \"contourcarpet\": [{\"colorbar\": {\"outlinewidth\": 0, \"ticks\": \"\"}, \"type\": \"contourcarpet\"}], \"heatmap\": [{\"colorbar\": {\"outlinewidth\": 0, \"ticks\": \"\"}, \"colorscale\": [[0.0, \"#0d0887\"], [0.1111111111111111, \"#46039f\"], [0.2222222222222222, \"#7201a8\"], [0.3333333333333333, \"#9c179e\"], [0.4444444444444444, \"#bd3786\"], [0.5555555555555556, \"#d8576b\"], [0.6666666666666666, \"#ed7953\"], [0.7777777777777778, \"#fb9f3a\"], [0.8888888888888888, \"#fdca26\"], [1.0, \"#f0f921\"]], \"type\": \"heatmap\"}], \"heatmapgl\": [{\"colorbar\": {\"outlinewidth\": 0, \"ticks\": \"\"}, \"colorscale\": [[0.0, \"#0d0887\"], [0.1111111111111111, \"#46039f\"], [0.2222222222222222, \"#7201a8\"], [0.3333333333333333, \"#9c179e\"], [0.4444444444444444, \"#bd3786\"], [0.5555555555555556, \"#d8576b\"], [0.6666666666666666, \"#ed7953\"], [0.7777777777777778, \"#fb9f3a\"], [0.8888888888888888, \"#fdca26\"], [1.0, \"#f0f921\"]], \"type\": \"heatmapgl\"}], \"histogram\": [{\"marker\": {\"colorbar\": {\"outlinewidth\": 0, \"ticks\": \"\"}}, \"type\": \"histogram\"}], \"histogram2d\": [{\"colorbar\": {\"outlinewidth\": 0, \"ticks\": \"\"}, \"colorscale\": [[0.0, \"#0d0887\"], [0.1111111111111111, \"#46039f\"], [0.2222222222222222, \"#7201a8\"], [0.3333333333333333, \"#9c179e\"], [0.4444444444444444, \"#bd3786\"], [0.5555555555555556, \"#d8576b\"], [0.6666666666666666, \"#ed7953\"], [0.7777777777777778, \"#fb9f3a\"], [0.8888888888888888, \"#fdca26\"], [1.0, \"#f0f921\"]], \"type\": \"histogram2d\"}], \"histogram2dcontour\": [{\"colorbar\": {\"outlinewidth\": 0, \"ticks\": \"\"}, \"colorscale\": [[0.0, \"#0d0887\"], [0.1111111111111111, \"#46039f\"], [0.2222222222222222, \"#7201a8\"], [0.3333333333333333, \"#9c179e\"], [0.4444444444444444, \"#bd3786\"], [0.5555555555555556, \"#d8576b\"], [0.6666666666666666, \"#ed7953\"], [0.7777777777777778, \"#fb9f3a\"], [0.8888888888888888, \"#fdca26\"], [1.0, \"#f0f921\"]], \"type\": \"histogram2dcontour\"}], \"mesh3d\": [{\"colorbar\": {\"outlinewidth\": 0, \"ticks\": \"\"}, \"type\": \"mesh3d\"}], \"parcoords\": [{\"line\": {\"colorbar\": {\"outlinewidth\": 0, \"ticks\": \"\"}}, \"type\": \"parcoords\"}], \"scatter\": [{\"marker\": {\"colorbar\": {\"outlinewidth\": 0, \"ticks\": \"\"}}, \"type\": \"scatter\"}], \"scatter3d\": [{\"line\": {\"colorbar\": {\"outlinewidth\": 0, \"ticks\": \"\"}}, \"marker\": {\"colorbar\": {\"outlinewidth\": 0, \"ticks\": \"\"}}, \"type\": \"scatter3d\"}], \"scattercarpet\": [{\"marker\": {\"colorbar\": {\"outlinewidth\": 0, \"ticks\": \"\"}}, \"type\": \"scattercarpet\"}], \"scattergeo\": [{\"marker\": {\"colorbar\": {\"outlinewidth\": 0, \"ticks\": \"\"}}, \"type\": \"scattergeo\"}], \"scattergl\": [{\"marker\": {\"colorbar\": {\"outlinewidth\": 0, \"ticks\": \"\"}}, \"type\": \"scattergl\"}], \"scattermapbox\": [{\"marker\": {\"colorbar\": {\"outlinewidth\": 0, \"ticks\": \"\"}}, \"type\": \"scattermapbox\"}], \"scatterpolar\": [{\"marker\": {\"colorbar\": {\"outlinewidth\": 0, \"ticks\": \"\"}}, \"type\": \"scatterpolar\"}], \"scatterpolargl\": [{\"marker\": {\"colorbar\": {\"outlinewidth\": 0, \"ticks\": \"\"}}, \"type\": \"scatterpolargl\"}], \"scatterternary\": [{\"marker\": {\"colorbar\": {\"outlinewidth\": 0, \"ticks\": \"\"}}, \"type\": \"scatterternary\"}], \"surface\": [{\"colorbar\": {\"outlinewidth\": 0, \"ticks\": \"\"}, \"colorscale\": [[0.0, \"#0d0887\"], [0.1111111111111111, \"#46039f\"], [0.2222222222222222, \"#7201a8\"], [0.3333333333333333, \"#9c179e\"], [0.4444444444444444, \"#bd3786\"], [0.5555555555555556, \"#d8576b\"], [0.6666666666666666, \"#ed7953\"], [0.7777777777777778, \"#fb9f3a\"], [0.8888888888888888, \"#fdca26\"], [1.0, \"#f0f921\"]], \"type\": \"surface\"}], \"table\": [{\"cells\": {\"fill\": {\"color\": \"#EBF0F8\"}, \"line\": {\"color\": \"white\"}}, \"header\": {\"fill\": {\"color\": \"#C8D4E3\"}, \"line\": {\"color\": \"white\"}}, \"type\": \"table\"}]}, \"layout\": {\"annotationdefaults\": {\"arrowcolor\": \"#2a3f5f\", \"arrowhead\": 0, \"arrowwidth\": 1}, \"colorscale\": {\"diverging\": [[0, \"#8e0152\"], [0.1, \"#c51b7d\"], [0.2, \"#de77ae\"], [0.3, \"#f1b6da\"], [0.4, \"#fde0ef\"], [0.5, \"#f7f7f7\"], [0.6, \"#e6f5d0\"], [0.7, \"#b8e186\"], [0.8, \"#7fbc41\"], [0.9, \"#4d9221\"], [1, \"#276419\"]], \"sequential\": [[0.0, \"#0d0887\"], [0.1111111111111111, \"#46039f\"], [0.2222222222222222, \"#7201a8\"], [0.3333333333333333, \"#9c179e\"], [0.4444444444444444, \"#bd3786\"], [0.5555555555555556, \"#d8576b\"], [0.6666666666666666, \"#ed7953\"], [0.7777777777777778, \"#fb9f3a\"], [0.8888888888888888, \"#fdca26\"], [1.0, \"#f0f921\"]], \"sequentialminus\": [[0.0, \"#0d0887\"], [0.1111111111111111, \"#46039f\"], [0.2222222222222222, \"#7201a8\"], [0.3333333333333333, \"#9c179e\"], [0.4444444444444444, \"#bd3786\"], [0.5555555555555556, \"#d8576b\"], [0.6666666666666666, \"#ed7953\"], [0.7777777777777778, \"#fb9f3a\"], [0.8888888888888888, \"#fdca26\"], [1.0, \"#f0f921\"]]}, \"colorway\": [\"#636efa\", \"#EF553B\", \"#00cc96\", \"#ab63fa\", \"#FFA15A\", \"#19d3f3\", \"#FF6692\", \"#B6E880\", \"#FF97FF\", \"#FECB52\"], \"font\": {\"color\": \"#2a3f5f\"}, \"geo\": {\"bgcolor\": \"white\", \"lakecolor\": \"white\", \"landcolor\": \"#E5ECF6\", \"showlakes\": true, \"showland\": true, \"subunitcolor\": \"white\"}, \"hoverlabel\": {\"align\": \"left\"}, \"hovermode\": \"closest\", \"mapbox\": {\"style\": \"light\"}, \"paper_bgcolor\": \"white\", \"plot_bgcolor\": \"#E5ECF6\", \"polar\": {\"angularaxis\": {\"gridcolor\": \"white\", \"linecolor\": \"white\", \"ticks\": \"\"}, \"bgcolor\": \"#E5ECF6\", \"radialaxis\": {\"gridcolor\": \"white\", \"linecolor\": \"white\", \"ticks\": \"\"}}, \"scene\": {\"xaxis\": {\"backgroundcolor\": \"#E5ECF6\", \"gridcolor\": \"white\", \"gridwidth\": 2, \"linecolor\": \"white\", \"showbackground\": true, \"ticks\": \"\", \"zerolinecolor\": \"white\"}, \"yaxis\": {\"backgroundcolor\": \"#E5ECF6\", \"gridcolor\": \"white\", \"gridwidth\": 2, \"linecolor\": \"white\", \"showbackground\": true, \"ticks\": \"\", \"zerolinecolor\": \"white\"}, \"zaxis\": {\"backgroundcolor\": \"#E5ECF6\", \"gridcolor\": \"white\", \"gridwidth\": 2, \"linecolor\": \"white\", \"showbackground\": true, \"ticks\": \"\", \"zerolinecolor\": \"white\"}}, \"shapedefaults\": {\"line\": {\"color\": \"#2a3f5f\"}}, \"ternary\": {\"aaxis\": {\"gridcolor\": \"white\", \"linecolor\": \"white\", \"ticks\": \"\"}, \"baxis\": {\"gridcolor\": \"white\", \"linecolor\": \"white\", \"ticks\": \"\"}, \"bgcolor\": \"#E5ECF6\", \"caxis\": {\"gridcolor\": \"white\", \"linecolor\": \"white\", \"ticks\": \"\"}}, \"title\": {\"x\": 0.05}, \"xaxis\": {\"automargin\": true, \"gridcolor\": \"white\", \"linecolor\": \"white\", \"ticks\": \"\", \"zerolinecolor\": \"white\", \"zerolinewidth\": 2}, \"yaxis\": {\"automargin\": true, \"gridcolor\": \"white\", \"linecolor\": \"white\", \"ticks\": \"\", \"zerolinecolor\": \"white\", \"zerolinewidth\": 2}}}, \"title\": {\"text\": \"newmse:video:total_total:(read_ratio)\"}, \"xaxis\": {\"type\": \"date\"}, \"yaxis\": {\"title\": {\"text\": \"read_ratio\"}}},\n",
       "                        {\"responsive\": true}\n",
       "                    ).then(function(){\n",
       "                            \n",
       "var gd = document.getElementById('d5da31fa-c36d-4b56-90e0-db4dc835e475');\n",
       "var x = new MutationObserver(function (mutations, observer) {{\n",
       "        var display = window.getComputedStyle(gd).display;\n",
       "        if (!display || display === 'none') {{\n",
       "            console.log([gd, 'removed!']);\n",
       "            Plotly.purge(gd);\n",
       "            observer.disconnect();\n",
       "        }}\n",
       "}});\n",
       "\n",
       "// Listen for the removal of the full notebook cells\n",
       "var notebookContainer = gd.closest('#notebook-container');\n",
       "if (notebookContainer) {{\n",
       "    x.observe(notebookContainer, {childList: true});\n",
       "}}\n",
       "\n",
       "// Listen for the clearing of the current output cell\n",
       "var outputEl = gd.closest('.output');\n",
       "if (outputEl) {{\n",
       "    x.observe(outputEl, {childList: true});\n",
       "}}\n",
       "\n",
       "                        })\n",
       "                };\n",
       "                });\n",
       "            </script>\n",
       "        </div>"
      ]
     },
     "metadata": {},
     "output_type": "display_data"
    },
    {
     "data": {
      "application/vnd.plotly.v1+json": {
       "config": {
        "linkText": "Export to plot.ly",
        "plotlyServerURL": "https://plot.ly",
        "showLink": false
       },
       "data": [
        {
         "hovertext": [
          "-0.0551",
          "-0.1206",
          "-0.0908",
          "-0.0256",
          "-0.0139",
          "-0.1469",
          "0.0129",
          "-0.1204",
          "-0.1405",
          "-0.1921",
          "-0.1886",
          "-0.1090",
          "-0.1355",
          "-0.1782",
          "-0.1065",
          "-0.0371",
          "-0.0130",
          "-0.1271",
          "-0.0971",
          "-0.1142",
          "-0.0470",
          "-0.1330",
          "-0.0938",
          "0.0106",
          "-0.0752",
          "-0.0483",
          "-0.0578",
          "-0.0480",
          "-0.0370",
          "-0.1589",
          "-0.0812",
          "-0.1284",
          "-0.1293",
          "-0.0648",
          "-0.1202",
          "-0.0640",
          "-0.1263",
          "-0.1330",
          "-0.0582",
          "-0.0973",
          "-0.0110",
          "-0.0783",
          "0.1662",
          "-0.0264",
          "-0.0510",
          "-0.1008",
          "-0.0887",
          "0.0014",
          "-0.0583",
          "-0.0055",
          "-0.1053"
         ],
         "line": {
          "shape": "spline",
          "smoothing": 1
         },
         "mode": "lines+markers",
         "name": "7",
         "showlegend": true,
         "type": "scatter",
         "x": [
          "2020-01-12T11:00:00",
          "2020-01-12T12:00:00",
          "2020-01-12T13:00:00",
          "2020-01-12T14:00:00",
          "2020-01-12T15:00:00",
          "2020-01-12T16:00:00",
          "2020-01-12T17:00:00",
          "2020-01-12T18:00:00",
          "2020-01-12T19:00:00",
          "2020-01-12T20:00:00",
          "2020-01-12T21:00:00",
          "2020-01-12T22:00:00",
          "2020-01-12T23:00:00",
          "2020-01-13T00:00:00",
          "2020-01-13T01:00:00",
          "2020-01-13T02:00:00",
          "2020-01-13T03:00:00",
          "2020-01-13T04:00:00",
          "2020-01-13T05:00:00",
          "2020-01-13T06:00:00",
          "2020-01-13T07:00:00",
          "2020-01-13T08:00:00",
          "2020-01-13T09:00:00",
          "2020-01-13T10:00:00",
          "2020-01-13T11:00:00",
          "2020-01-13T12:00:00",
          "2020-01-13T13:00:00",
          "2020-01-13T14:00:00",
          "2020-01-13T15:00:00",
          "2020-01-13T16:00:00",
          "2020-01-13T17:00:00",
          "2020-01-13T18:00:00",
          "2020-01-13T19:00:00",
          "2020-01-13T20:00:00",
          "2020-01-13T21:00:00",
          "2020-01-13T22:00:00",
          "2020-01-13T23:00:00",
          "2020-01-14T00:00:00",
          "2020-01-14T01:00:00",
          "2020-01-14T02:00:00",
          "2020-01-14T03:00:00",
          "2020-01-14T04:00:00",
          "2020-01-14T05:00:00",
          "2020-01-14T06:00:00",
          "2020-01-14T07:00:00",
          "2020-01-14T08:00:00",
          "2020-01-14T09:00:00",
          "2020-01-14T10:00:00",
          "2020-01-14T11:00:00",
          "2020-01-14T12:00:00",
          "2020-01-14T13:00:00"
         ],
         "y": [
          0.7668274523502343,
          0.7401330665273222,
          0.8000047824810322,
          0.9178585388959765,
          0.9445072652351906,
          0.7986750954608115,
          0.8936915538896845,
          0.8110906369803238,
          0.844897716172749,
          0.8876894904898305,
          0.8707234342326804,
          1.0780913912528836,
          1.074262820743006,
          0.8074912585265777,
          0.9069656609463604,
          0.9308091179595285,
          0.9098059417825887,
          0.8324148431948557,
          0.832295456438572,
          0.8056994319349678,
          0.7681821296371334,
          0.5242619578437907,
          0.27135883152637175,
          0.5536775465530506,
          0.6035148513522851,
          0.6909812369615247,
          0.7659955473318174,
          0.703395364985188,
          0.7333996959395713,
          0.6700538962037152,
          0.7504192545036377,
          0.7744368800744791,
          0.9134897769946444,
          1.0609168698055287,
          1.0115053663133353,
          1.0967488267400032,
          1.0416928313397105,
          0.7985167492206697,
          0.9164948087983544,
          0.9306318297748404,
          1.0103784614992208,
          0.889281241218931,
          1.0722985160412926,
          0.8235859418784367,
          0.755091500140508,
          0.5817112072347166,
          0.3294026400708012,
          0.60612222215988,
          0.6849522286558182,
          0.7612261395439055,
          0.7958520553367152
         ]
        },
        {
         "line": {
          "shape": "spline",
          "smoothing": 1
         },
         "mode": "lines+markers",
         "name": "456",
         "showlegend": true,
         "type": "scatter",
         "x": [
          "2020-01-12T11:00:00",
          "2020-01-12T12:00:00",
          "2020-01-12T13:00:00",
          "2020-01-12T14:00:00",
          "2020-01-12T15:00:00",
          "2020-01-12T16:00:00",
          "2020-01-12T17:00:00",
          "2020-01-12T18:00:00",
          "2020-01-12T19:00:00",
          "2020-01-12T20:00:00",
          "2020-01-12T21:00:00",
          "2020-01-12T22:00:00",
          "2020-01-12T23:00:00",
          "2020-01-13T00:00:00",
          "2020-01-13T01:00:00",
          "2020-01-13T02:00:00",
          "2020-01-13T03:00:00",
          "2020-01-13T04:00:00",
          "2020-01-13T05:00:00",
          "2020-01-13T06:00:00",
          "2020-01-13T07:00:00",
          "2020-01-13T08:00:00",
          "2020-01-13T09:00:00",
          "2020-01-13T10:00:00",
          "2020-01-13T11:00:00",
          "2020-01-13T12:00:00",
          "2020-01-13T13:00:00",
          "2020-01-13T14:00:00",
          "2020-01-13T15:00:00",
          "2020-01-13T16:00:00",
          "2020-01-13T17:00:00",
          "2020-01-13T18:00:00",
          "2020-01-13T19:00:00",
          "2020-01-13T20:00:00",
          "2020-01-13T21:00:00",
          "2020-01-13T22:00:00",
          "2020-01-13T23:00:00",
          "2020-01-14T00:00:00",
          "2020-01-14T01:00:00",
          "2020-01-14T02:00:00",
          "2020-01-14T03:00:00",
          "2020-01-14T04:00:00",
          "2020-01-14T05:00:00",
          "2020-01-14T06:00:00",
          "2020-01-14T07:00:00",
          "2020-01-14T08:00:00",
          "2020-01-14T09:00:00",
          "2020-01-14T10:00:00",
          "2020-01-14T11:00:00",
          "2020-01-14T12:00:00",
          "2020-01-14T13:00:00"
         ],
         "y": [
          0.8115752632867314,
          0.8416486047102522,
          0.8798688295144105,
          0.9419691984660856,
          0.9578410902830886,
          0.9361799193956353,
          0.8823174984435544,
          0.922107628287245,
          0.9829638715421979,
          1.0987326980542012,
          1.073121034248843,
          1.2100384416593837,
          1.2426595030004288,
          0.982599121993276,
          1.015068015998111,
          0.9666528685942604,
          0.9217500873083342,
          0.9535871300129019,
          0.9218234790632386,
          0.9095399460505224,
          0.8060418631549782,
          0.6047026439692588,
          0.2994595795950834,
          0.5478799858666656,
          0.6526173724042534,
          0.7260521466283145,
          0.8129432077176512,
          0.7388882940642741,
          0.7615829386891027,
          0.7966203674280151,
          0.8167696867310821,
          0.888567579031932,
          1.0491861431082519,
          1.1344324328321793,
          1.149752383735312,
          1.171718566364712,
          1.1922551881947774,
          0.9209922500301424,
          0.9730826611234916,
          1.030892440480278,
          1.0216011281672517,
          0.964869593597996,
          0.9194868035093112,
          0.8458935229783672,
          0.7956941420645233,
          0.6468999262295597,
          0.3614840713754508,
          0.6052781655575693,
          0.7273721154861169,
          0.7654568174444419,
          0.8895276197026333
         ]
        }
       ],
       "layout": {
        "hovermode": "x",
        "template": {
         "data": {
          "bar": [
           {
            "error_x": {
             "color": "#2a3f5f"
            },
            "error_y": {
             "color": "#2a3f5f"
            },
            "marker": {
             "line": {
              "color": "#E5ECF6",
              "width": 0.5
             }
            },
            "type": "bar"
           }
          ],
          "barpolar": [
           {
            "marker": {
             "line": {
              "color": "#E5ECF6",
              "width": 0.5
             }
            },
            "type": "barpolar"
           }
          ],
          "carpet": [
           {
            "aaxis": {
             "endlinecolor": "#2a3f5f",
             "gridcolor": "white",
             "linecolor": "white",
             "minorgridcolor": "white",
             "startlinecolor": "#2a3f5f"
            },
            "baxis": {
             "endlinecolor": "#2a3f5f",
             "gridcolor": "white",
             "linecolor": "white",
             "minorgridcolor": "white",
             "startlinecolor": "#2a3f5f"
            },
            "type": "carpet"
           }
          ],
          "choropleth": [
           {
            "colorbar": {
             "outlinewidth": 0,
             "ticks": ""
            },
            "type": "choropleth"
           }
          ],
          "contour": [
           {
            "colorbar": {
             "outlinewidth": 0,
             "ticks": ""
            },
            "colorscale": [
             [
              0,
              "#0d0887"
             ],
             [
              0.1111111111111111,
              "#46039f"
             ],
             [
              0.2222222222222222,
              "#7201a8"
             ],
             [
              0.3333333333333333,
              "#9c179e"
             ],
             [
              0.4444444444444444,
              "#bd3786"
             ],
             [
              0.5555555555555556,
              "#d8576b"
             ],
             [
              0.6666666666666666,
              "#ed7953"
             ],
             [
              0.7777777777777778,
              "#fb9f3a"
             ],
             [
              0.8888888888888888,
              "#fdca26"
             ],
             [
              1,
              "#f0f921"
             ]
            ],
            "type": "contour"
           }
          ],
          "contourcarpet": [
           {
            "colorbar": {
             "outlinewidth": 0,
             "ticks": ""
            },
            "type": "contourcarpet"
           }
          ],
          "heatmap": [
           {
            "colorbar": {
             "outlinewidth": 0,
             "ticks": ""
            },
            "colorscale": [
             [
              0,
              "#0d0887"
             ],
             [
              0.1111111111111111,
              "#46039f"
             ],
             [
              0.2222222222222222,
              "#7201a8"
             ],
             [
              0.3333333333333333,
              "#9c179e"
             ],
             [
              0.4444444444444444,
              "#bd3786"
             ],
             [
              0.5555555555555556,
              "#d8576b"
             ],
             [
              0.6666666666666666,
              "#ed7953"
             ],
             [
              0.7777777777777778,
              "#fb9f3a"
             ],
             [
              0.8888888888888888,
              "#fdca26"
             ],
             [
              1,
              "#f0f921"
             ]
            ],
            "type": "heatmap"
           }
          ],
          "heatmapgl": [
           {
            "colorbar": {
             "outlinewidth": 0,
             "ticks": ""
            },
            "colorscale": [
             [
              0,
              "#0d0887"
             ],
             [
              0.1111111111111111,
              "#46039f"
             ],
             [
              0.2222222222222222,
              "#7201a8"
             ],
             [
              0.3333333333333333,
              "#9c179e"
             ],
             [
              0.4444444444444444,
              "#bd3786"
             ],
             [
              0.5555555555555556,
              "#d8576b"
             ],
             [
              0.6666666666666666,
              "#ed7953"
             ],
             [
              0.7777777777777778,
              "#fb9f3a"
             ],
             [
              0.8888888888888888,
              "#fdca26"
             ],
             [
              1,
              "#f0f921"
             ]
            ],
            "type": "heatmapgl"
           }
          ],
          "histogram": [
           {
            "marker": {
             "colorbar": {
              "outlinewidth": 0,
              "ticks": ""
             }
            },
            "type": "histogram"
           }
          ],
          "histogram2d": [
           {
            "colorbar": {
             "outlinewidth": 0,
             "ticks": ""
            },
            "colorscale": [
             [
              0,
              "#0d0887"
             ],
             [
              0.1111111111111111,
              "#46039f"
             ],
             [
              0.2222222222222222,
              "#7201a8"
             ],
             [
              0.3333333333333333,
              "#9c179e"
             ],
             [
              0.4444444444444444,
              "#bd3786"
             ],
             [
              0.5555555555555556,
              "#d8576b"
             ],
             [
              0.6666666666666666,
              "#ed7953"
             ],
             [
              0.7777777777777778,
              "#fb9f3a"
             ],
             [
              0.8888888888888888,
              "#fdca26"
             ],
             [
              1,
              "#f0f921"
             ]
            ],
            "type": "histogram2d"
           }
          ],
          "histogram2dcontour": [
           {
            "colorbar": {
             "outlinewidth": 0,
             "ticks": ""
            },
            "colorscale": [
             [
              0,
              "#0d0887"
             ],
             [
              0.1111111111111111,
              "#46039f"
             ],
             [
              0.2222222222222222,
              "#7201a8"
             ],
             [
              0.3333333333333333,
              "#9c179e"
             ],
             [
              0.4444444444444444,
              "#bd3786"
             ],
             [
              0.5555555555555556,
              "#d8576b"
             ],
             [
              0.6666666666666666,
              "#ed7953"
             ],
             [
              0.7777777777777778,
              "#fb9f3a"
             ],
             [
              0.8888888888888888,
              "#fdca26"
             ],
             [
              1,
              "#f0f921"
             ]
            ],
            "type": "histogram2dcontour"
           }
          ],
          "mesh3d": [
           {
            "colorbar": {
             "outlinewidth": 0,
             "ticks": ""
            },
            "type": "mesh3d"
           }
          ],
          "parcoords": [
           {
            "line": {
             "colorbar": {
              "outlinewidth": 0,
              "ticks": ""
             }
            },
            "type": "parcoords"
           }
          ],
          "scatter": [
           {
            "marker": {
             "colorbar": {
              "outlinewidth": 0,
              "ticks": ""
             }
            },
            "type": "scatter"
           }
          ],
          "scatter3d": [
           {
            "line": {
             "colorbar": {
              "outlinewidth": 0,
              "ticks": ""
             }
            },
            "marker": {
             "colorbar": {
              "outlinewidth": 0,
              "ticks": ""
             }
            },
            "type": "scatter3d"
           }
          ],
          "scattercarpet": [
           {
            "marker": {
             "colorbar": {
              "outlinewidth": 0,
              "ticks": ""
             }
            },
            "type": "scattercarpet"
           }
          ],
          "scattergeo": [
           {
            "marker": {
             "colorbar": {
              "outlinewidth": 0,
              "ticks": ""
             }
            },
            "type": "scattergeo"
           }
          ],
          "scattergl": [
           {
            "marker": {
             "colorbar": {
              "outlinewidth": 0,
              "ticks": ""
             }
            },
            "type": "scattergl"
           }
          ],
          "scattermapbox": [
           {
            "marker": {
             "colorbar": {
              "outlinewidth": 0,
              "ticks": ""
             }
            },
            "type": "scattermapbox"
           }
          ],
          "scatterpolar": [
           {
            "marker": {
             "colorbar": {
              "outlinewidth": 0,
              "ticks": ""
             }
            },
            "type": "scatterpolar"
           }
          ],
          "scatterpolargl": [
           {
            "marker": {
             "colorbar": {
              "outlinewidth": 0,
              "ticks": ""
             }
            },
            "type": "scatterpolargl"
           }
          ],
          "scatterternary": [
           {
            "marker": {
             "colorbar": {
              "outlinewidth": 0,
              "ticks": ""
             }
            },
            "type": "scatterternary"
           }
          ],
          "surface": [
           {
            "colorbar": {
             "outlinewidth": 0,
             "ticks": ""
            },
            "colorscale": [
             [
              0,
              "#0d0887"
             ],
             [
              0.1111111111111111,
              "#46039f"
             ],
             [
              0.2222222222222222,
              "#7201a8"
             ],
             [
              0.3333333333333333,
              "#9c179e"
             ],
             [
              0.4444444444444444,
              "#bd3786"
             ],
             [
              0.5555555555555556,
              "#d8576b"
             ],
             [
              0.6666666666666666,
              "#ed7953"
             ],
             [
              0.7777777777777778,
              "#fb9f3a"
             ],
             [
              0.8888888888888888,
              "#fdca26"
             ],
             [
              1,
              "#f0f921"
             ]
            ],
            "type": "surface"
           }
          ],
          "table": [
           {
            "cells": {
             "fill": {
              "color": "#EBF0F8"
             },
             "line": {
              "color": "white"
             }
            },
            "header": {
             "fill": {
              "color": "#C8D4E3"
             },
             "line": {
              "color": "white"
             }
            },
            "type": "table"
           }
          ]
         },
         "layout": {
          "annotationdefaults": {
           "arrowcolor": "#2a3f5f",
           "arrowhead": 0,
           "arrowwidth": 1
          },
          "colorscale": {
           "diverging": [
            [
             0,
             "#8e0152"
            ],
            [
             0.1,
             "#c51b7d"
            ],
            [
             0.2,
             "#de77ae"
            ],
            [
             0.3,
             "#f1b6da"
            ],
            [
             0.4,
             "#fde0ef"
            ],
            [
             0.5,
             "#f7f7f7"
            ],
            [
             0.6,
             "#e6f5d0"
            ],
            [
             0.7,
             "#b8e186"
            ],
            [
             0.8,
             "#7fbc41"
            ],
            [
             0.9,
             "#4d9221"
            ],
            [
             1,
             "#276419"
            ]
           ],
           "sequential": [
            [
             0,
             "#0d0887"
            ],
            [
             0.1111111111111111,
             "#46039f"
            ],
            [
             0.2222222222222222,
             "#7201a8"
            ],
            [
             0.3333333333333333,
             "#9c179e"
            ],
            [
             0.4444444444444444,
             "#bd3786"
            ],
            [
             0.5555555555555556,
             "#d8576b"
            ],
            [
             0.6666666666666666,
             "#ed7953"
            ],
            [
             0.7777777777777778,
             "#fb9f3a"
            ],
            [
             0.8888888888888888,
             "#fdca26"
            ],
            [
             1,
             "#f0f921"
            ]
           ],
           "sequentialminus": [
            [
             0,
             "#0d0887"
            ],
            [
             0.1111111111111111,
             "#46039f"
            ],
            [
             0.2222222222222222,
             "#7201a8"
            ],
            [
             0.3333333333333333,
             "#9c179e"
            ],
            [
             0.4444444444444444,
             "#bd3786"
            ],
            [
             0.5555555555555556,
             "#d8576b"
            ],
            [
             0.6666666666666666,
             "#ed7953"
            ],
            [
             0.7777777777777778,
             "#fb9f3a"
            ],
            [
             0.8888888888888888,
             "#fdca26"
            ],
            [
             1,
             "#f0f921"
            ]
           ]
          },
          "colorway": [
           "#636efa",
           "#EF553B",
           "#00cc96",
           "#ab63fa",
           "#FFA15A",
           "#19d3f3",
           "#FF6692",
           "#B6E880",
           "#FF97FF",
           "#FECB52"
          ],
          "font": {
           "color": "#2a3f5f"
          },
          "geo": {
           "bgcolor": "white",
           "lakecolor": "white",
           "landcolor": "#E5ECF6",
           "showlakes": true,
           "showland": true,
           "subunitcolor": "white"
          },
          "hoverlabel": {
           "align": "left"
          },
          "hovermode": "closest",
          "mapbox": {
           "style": "light"
          },
          "paper_bgcolor": "white",
          "plot_bgcolor": "#E5ECF6",
          "polar": {
           "angularaxis": {
            "gridcolor": "white",
            "linecolor": "white",
            "ticks": ""
           },
           "bgcolor": "#E5ECF6",
           "radialaxis": {
            "gridcolor": "white",
            "linecolor": "white",
            "ticks": ""
           }
          },
          "scene": {
           "xaxis": {
            "backgroundcolor": "#E5ECF6",
            "gridcolor": "white",
            "gridwidth": 2,
            "linecolor": "white",
            "showbackground": true,
            "ticks": "",
            "zerolinecolor": "white"
           },
           "yaxis": {
            "backgroundcolor": "#E5ECF6",
            "gridcolor": "white",
            "gridwidth": 2,
            "linecolor": "white",
            "showbackground": true,
            "ticks": "",
            "zerolinecolor": "white"
           },
           "zaxis": {
            "backgroundcolor": "#E5ECF6",
            "gridcolor": "white",
            "gridwidth": 2,
            "linecolor": "white",
            "showbackground": true,
            "ticks": "",
            "zerolinecolor": "white"
           }
          },
          "shapedefaults": {
           "line": {
            "color": "#2a3f5f"
           }
          },
          "ternary": {
           "aaxis": {
            "gridcolor": "white",
            "linecolor": "white",
            "ticks": ""
           },
           "baxis": {
            "gridcolor": "white",
            "linecolor": "white",
            "ticks": ""
           },
           "bgcolor": "#E5ECF6",
           "caxis": {
            "gridcolor": "white",
            "linecolor": "white",
            "ticks": ""
           }
          },
          "title": {
           "x": 0.05
          },
          "xaxis": {
           "automargin": true,
           "gridcolor": "white",
           "linecolor": "white",
           "ticks": "",
           "zerolinecolor": "white",
           "zerolinewidth": 2
          },
          "yaxis": {
           "automargin": true,
           "gridcolor": "white",
           "linecolor": "white",
           "ticks": "",
           "zerolinecolor": "white",
           "zerolinewidth": 2
          }
         }
        },
        "title": {
         "text": "newmse:video:total_total:(dur1)"
        },
        "xaxis": {
         "type": "date"
        },
        "yaxis": {
         "title": {
          "text": "dur1"
         }
        }
       }
      },
      "text/html": [
       "<div>\n",
       "        \n",
       "        \n",
       "            <div id=\"bee53a5a-42ff-4f1f-82ea-2c961dd0ee2b\" class=\"plotly-graph-div\" style=\"height:525px; width:100%;\"></div>\n",
       "            <script type=\"text/javascript\">\n",
       "                require([\"plotly\"], function(Plotly) {\n",
       "                    window.PLOTLYENV=window.PLOTLYENV || {};\n",
       "                    \n",
       "                if (document.getElementById(\"bee53a5a-42ff-4f1f-82ea-2c961dd0ee2b\")) {\n",
       "                    Plotly.newPlot(\n",
       "                        'bee53a5a-42ff-4f1f-82ea-2c961dd0ee2b',\n",
       "                        [{\"hovertext\": [\"-0.0551\", \"-0.1206\", \"-0.0908\", \"-0.0256\", \"-0.0139\", \"-0.1469\", \"0.0129\", \"-0.1204\", \"-0.1405\", \"-0.1921\", \"-0.1886\", \"-0.1090\", \"-0.1355\", \"-0.1782\", \"-0.1065\", \"-0.0371\", \"-0.0130\", \"-0.1271\", \"-0.0971\", \"-0.1142\", \"-0.0470\", \"-0.1330\", \"-0.0938\", \"0.0106\", \"-0.0752\", \"-0.0483\", \"-0.0578\", \"-0.0480\", \"-0.0370\", \"-0.1589\", \"-0.0812\", \"-0.1284\", \"-0.1293\", \"-0.0648\", \"-0.1202\", \"-0.0640\", \"-0.1263\", \"-0.1330\", \"-0.0582\", \"-0.0973\", \"-0.0110\", \"-0.0783\", \"0.1662\", \"-0.0264\", \"-0.0510\", \"-0.1008\", \"-0.0887\", \"0.0014\", \"-0.0583\", \"-0.0055\", \"-0.1053\"], \"line\": {\"shape\": \"spline\", \"smoothing\": 1.0}, \"mode\": \"lines+markers\", \"name\": \"7\", \"showlegend\": true, \"type\": \"scatter\", \"x\": [\"2020-01-12T11:00:00\", \"2020-01-12T12:00:00\", \"2020-01-12T13:00:00\", \"2020-01-12T14:00:00\", \"2020-01-12T15:00:00\", \"2020-01-12T16:00:00\", \"2020-01-12T17:00:00\", \"2020-01-12T18:00:00\", \"2020-01-12T19:00:00\", \"2020-01-12T20:00:00\", \"2020-01-12T21:00:00\", \"2020-01-12T22:00:00\", \"2020-01-12T23:00:00\", \"2020-01-13T00:00:00\", \"2020-01-13T01:00:00\", \"2020-01-13T02:00:00\", \"2020-01-13T03:00:00\", \"2020-01-13T04:00:00\", \"2020-01-13T05:00:00\", \"2020-01-13T06:00:00\", \"2020-01-13T07:00:00\", \"2020-01-13T08:00:00\", \"2020-01-13T09:00:00\", \"2020-01-13T10:00:00\", \"2020-01-13T11:00:00\", \"2020-01-13T12:00:00\", \"2020-01-13T13:00:00\", \"2020-01-13T14:00:00\", \"2020-01-13T15:00:00\", \"2020-01-13T16:00:00\", \"2020-01-13T17:00:00\", \"2020-01-13T18:00:00\", \"2020-01-13T19:00:00\", \"2020-01-13T20:00:00\", \"2020-01-13T21:00:00\", \"2020-01-13T22:00:00\", \"2020-01-13T23:00:00\", \"2020-01-14T00:00:00\", \"2020-01-14T01:00:00\", \"2020-01-14T02:00:00\", \"2020-01-14T03:00:00\", \"2020-01-14T04:00:00\", \"2020-01-14T05:00:00\", \"2020-01-14T06:00:00\", \"2020-01-14T07:00:00\", \"2020-01-14T08:00:00\", \"2020-01-14T09:00:00\", \"2020-01-14T10:00:00\", \"2020-01-14T11:00:00\", \"2020-01-14T12:00:00\", \"2020-01-14T13:00:00\"], \"y\": [0.7668274523502343, 0.7401330665273222, 0.8000047824810322, 0.9178585388959765, 0.9445072652351906, 0.7986750954608115, 0.8936915538896845, 0.8110906369803238, 0.844897716172749, 0.8876894904898305, 0.8707234342326804, 1.0780913912528836, 1.074262820743006, 0.8074912585265777, 0.9069656609463604, 0.9308091179595285, 0.9098059417825887, 0.8324148431948557, 0.832295456438572, 0.8056994319349678, 0.7681821296371334, 0.5242619578437907, 0.27135883152637175, 0.5536775465530506, 0.6035148513522851, 0.6909812369615247, 0.7659955473318174, 0.703395364985188, 0.7333996959395713, 0.6700538962037152, 0.7504192545036377, 0.7744368800744791, 0.9134897769946444, 1.0609168698055287, 1.0115053663133353, 1.0967488267400032, 1.0416928313397105, 0.7985167492206697, 0.9164948087983544, 0.9306318297748404, 1.0103784614992208, 0.889281241218931, 1.0722985160412926, 0.8235859418784367, 0.755091500140508, 0.5817112072347166, 0.3294026400708012, 0.60612222215988, 0.6849522286558182, 0.7612261395439055, 0.7958520553367152]}, {\"line\": {\"shape\": \"spline\", \"smoothing\": 1.0}, \"mode\": \"lines+markers\", \"name\": \"456\", \"showlegend\": true, \"type\": \"scatter\", \"x\": [\"2020-01-12T11:00:00\", \"2020-01-12T12:00:00\", \"2020-01-12T13:00:00\", \"2020-01-12T14:00:00\", \"2020-01-12T15:00:00\", \"2020-01-12T16:00:00\", \"2020-01-12T17:00:00\", \"2020-01-12T18:00:00\", \"2020-01-12T19:00:00\", \"2020-01-12T20:00:00\", \"2020-01-12T21:00:00\", \"2020-01-12T22:00:00\", \"2020-01-12T23:00:00\", \"2020-01-13T00:00:00\", \"2020-01-13T01:00:00\", \"2020-01-13T02:00:00\", \"2020-01-13T03:00:00\", \"2020-01-13T04:00:00\", \"2020-01-13T05:00:00\", \"2020-01-13T06:00:00\", \"2020-01-13T07:00:00\", \"2020-01-13T08:00:00\", \"2020-01-13T09:00:00\", \"2020-01-13T10:00:00\", \"2020-01-13T11:00:00\", \"2020-01-13T12:00:00\", \"2020-01-13T13:00:00\", \"2020-01-13T14:00:00\", \"2020-01-13T15:00:00\", \"2020-01-13T16:00:00\", \"2020-01-13T17:00:00\", \"2020-01-13T18:00:00\", \"2020-01-13T19:00:00\", \"2020-01-13T20:00:00\", \"2020-01-13T21:00:00\", \"2020-01-13T22:00:00\", \"2020-01-13T23:00:00\", \"2020-01-14T00:00:00\", \"2020-01-14T01:00:00\", \"2020-01-14T02:00:00\", \"2020-01-14T03:00:00\", \"2020-01-14T04:00:00\", \"2020-01-14T05:00:00\", \"2020-01-14T06:00:00\", \"2020-01-14T07:00:00\", \"2020-01-14T08:00:00\", \"2020-01-14T09:00:00\", \"2020-01-14T10:00:00\", \"2020-01-14T11:00:00\", \"2020-01-14T12:00:00\", \"2020-01-14T13:00:00\"], \"y\": [0.8115752632867314, 0.8416486047102522, 0.8798688295144105, 0.9419691984660856, 0.9578410902830886, 0.9361799193956353, 0.8823174984435544, 0.922107628287245, 0.9829638715421979, 1.0987326980542012, 1.073121034248843, 1.2100384416593837, 1.2426595030004288, 0.982599121993276, 1.015068015998111, 0.9666528685942604, 0.9217500873083342, 0.9535871300129019, 0.9218234790632386, 0.9095399460505224, 0.8060418631549782, 0.6047026439692588, 0.2994595795950834, 0.5478799858666656, 0.6526173724042534, 0.7260521466283145, 0.8129432077176512, 0.7388882940642741, 0.7615829386891027, 0.7966203674280151, 0.8167696867310821, 0.888567579031932, 1.0491861431082519, 1.1344324328321793, 1.149752383735312, 1.171718566364712, 1.1922551881947774, 0.9209922500301424, 0.9730826611234916, 1.030892440480278, 1.0216011281672517, 0.964869593597996, 0.9194868035093112, 0.8458935229783672, 0.7956941420645233, 0.6468999262295597, 0.3614840713754508, 0.6052781655575693, 0.7273721154861169, 0.7654568174444419, 0.8895276197026333]}],\n",
       "                        {\"hovermode\": \"x\", \"template\": {\"data\": {\"bar\": [{\"error_x\": {\"color\": \"#2a3f5f\"}, \"error_y\": {\"color\": \"#2a3f5f\"}, \"marker\": {\"line\": {\"color\": \"#E5ECF6\", \"width\": 0.5}}, \"type\": \"bar\"}], \"barpolar\": [{\"marker\": {\"line\": {\"color\": \"#E5ECF6\", \"width\": 0.5}}, \"type\": \"barpolar\"}], \"carpet\": [{\"aaxis\": {\"endlinecolor\": \"#2a3f5f\", \"gridcolor\": \"white\", \"linecolor\": \"white\", \"minorgridcolor\": \"white\", \"startlinecolor\": \"#2a3f5f\"}, \"baxis\": {\"endlinecolor\": \"#2a3f5f\", \"gridcolor\": \"white\", \"linecolor\": \"white\", \"minorgridcolor\": \"white\", \"startlinecolor\": \"#2a3f5f\"}, \"type\": \"carpet\"}], \"choropleth\": [{\"colorbar\": {\"outlinewidth\": 0, \"ticks\": \"\"}, \"type\": \"choropleth\"}], \"contour\": [{\"colorbar\": {\"outlinewidth\": 0, \"ticks\": \"\"}, \"colorscale\": [[0.0, \"#0d0887\"], [0.1111111111111111, \"#46039f\"], [0.2222222222222222, \"#7201a8\"], [0.3333333333333333, \"#9c179e\"], [0.4444444444444444, \"#bd3786\"], [0.5555555555555556, \"#d8576b\"], [0.6666666666666666, \"#ed7953\"], [0.7777777777777778, \"#fb9f3a\"], [0.8888888888888888, \"#fdca26\"], [1.0, \"#f0f921\"]], \"type\": \"contour\"}], \"contourcarpet\": [{\"colorbar\": {\"outlinewidth\": 0, \"ticks\": \"\"}, \"type\": \"contourcarpet\"}], \"heatmap\": [{\"colorbar\": {\"outlinewidth\": 0, \"ticks\": \"\"}, \"colorscale\": [[0.0, \"#0d0887\"], [0.1111111111111111, \"#46039f\"], [0.2222222222222222, \"#7201a8\"], [0.3333333333333333, \"#9c179e\"], [0.4444444444444444, \"#bd3786\"], [0.5555555555555556, \"#d8576b\"], [0.6666666666666666, \"#ed7953\"], [0.7777777777777778, \"#fb9f3a\"], [0.8888888888888888, \"#fdca26\"], [1.0, \"#f0f921\"]], \"type\": \"heatmap\"}], \"heatmapgl\": [{\"colorbar\": {\"outlinewidth\": 0, \"ticks\": \"\"}, \"colorscale\": [[0.0, \"#0d0887\"], [0.1111111111111111, \"#46039f\"], [0.2222222222222222, \"#7201a8\"], [0.3333333333333333, \"#9c179e\"], [0.4444444444444444, \"#bd3786\"], [0.5555555555555556, \"#d8576b\"], [0.6666666666666666, \"#ed7953\"], [0.7777777777777778, \"#fb9f3a\"], [0.8888888888888888, \"#fdca26\"], [1.0, \"#f0f921\"]], \"type\": \"heatmapgl\"}], \"histogram\": [{\"marker\": {\"colorbar\": {\"outlinewidth\": 0, \"ticks\": \"\"}}, \"type\": \"histogram\"}], \"histogram2d\": [{\"colorbar\": {\"outlinewidth\": 0, \"ticks\": \"\"}, \"colorscale\": [[0.0, \"#0d0887\"], [0.1111111111111111, \"#46039f\"], [0.2222222222222222, \"#7201a8\"], [0.3333333333333333, \"#9c179e\"], [0.4444444444444444, \"#bd3786\"], [0.5555555555555556, \"#d8576b\"], [0.6666666666666666, \"#ed7953\"], [0.7777777777777778, \"#fb9f3a\"], [0.8888888888888888, \"#fdca26\"], [1.0, \"#f0f921\"]], \"type\": \"histogram2d\"}], \"histogram2dcontour\": [{\"colorbar\": {\"outlinewidth\": 0, \"ticks\": \"\"}, \"colorscale\": [[0.0, \"#0d0887\"], [0.1111111111111111, \"#46039f\"], [0.2222222222222222, \"#7201a8\"], [0.3333333333333333, \"#9c179e\"], [0.4444444444444444, \"#bd3786\"], [0.5555555555555556, \"#d8576b\"], [0.6666666666666666, \"#ed7953\"], [0.7777777777777778, \"#fb9f3a\"], [0.8888888888888888, \"#fdca26\"], [1.0, \"#f0f921\"]], \"type\": \"histogram2dcontour\"}], \"mesh3d\": [{\"colorbar\": {\"outlinewidth\": 0, \"ticks\": \"\"}, \"type\": \"mesh3d\"}], \"parcoords\": [{\"line\": {\"colorbar\": {\"outlinewidth\": 0, \"ticks\": \"\"}}, \"type\": \"parcoords\"}], \"scatter\": [{\"marker\": {\"colorbar\": {\"outlinewidth\": 0, \"ticks\": \"\"}}, \"type\": \"scatter\"}], \"scatter3d\": [{\"line\": {\"colorbar\": {\"outlinewidth\": 0, \"ticks\": \"\"}}, \"marker\": {\"colorbar\": {\"outlinewidth\": 0, \"ticks\": \"\"}}, \"type\": \"scatter3d\"}], \"scattercarpet\": [{\"marker\": {\"colorbar\": {\"outlinewidth\": 0, \"ticks\": \"\"}}, \"type\": \"scattercarpet\"}], \"scattergeo\": [{\"marker\": {\"colorbar\": {\"outlinewidth\": 0, \"ticks\": \"\"}}, \"type\": \"scattergeo\"}], \"scattergl\": [{\"marker\": {\"colorbar\": {\"outlinewidth\": 0, \"ticks\": \"\"}}, \"type\": \"scattergl\"}], \"scattermapbox\": [{\"marker\": {\"colorbar\": {\"outlinewidth\": 0, \"ticks\": \"\"}}, \"type\": \"scattermapbox\"}], \"scatterpolar\": [{\"marker\": {\"colorbar\": {\"outlinewidth\": 0, \"ticks\": \"\"}}, \"type\": \"scatterpolar\"}], \"scatterpolargl\": [{\"marker\": {\"colorbar\": {\"outlinewidth\": 0, \"ticks\": \"\"}}, \"type\": \"scatterpolargl\"}], \"scatterternary\": [{\"marker\": {\"colorbar\": {\"outlinewidth\": 0, \"ticks\": \"\"}}, \"type\": \"scatterternary\"}], \"surface\": [{\"colorbar\": {\"outlinewidth\": 0, \"ticks\": \"\"}, \"colorscale\": [[0.0, \"#0d0887\"], [0.1111111111111111, \"#46039f\"], [0.2222222222222222, \"#7201a8\"], [0.3333333333333333, \"#9c179e\"], [0.4444444444444444, \"#bd3786\"], [0.5555555555555556, \"#d8576b\"], [0.6666666666666666, \"#ed7953\"], [0.7777777777777778, \"#fb9f3a\"], [0.8888888888888888, \"#fdca26\"], [1.0, \"#f0f921\"]], \"type\": \"surface\"}], \"table\": [{\"cells\": {\"fill\": {\"color\": \"#EBF0F8\"}, \"line\": {\"color\": \"white\"}}, \"header\": {\"fill\": {\"color\": \"#C8D4E3\"}, \"line\": {\"color\": \"white\"}}, \"type\": \"table\"}]}, \"layout\": {\"annotationdefaults\": {\"arrowcolor\": \"#2a3f5f\", \"arrowhead\": 0, \"arrowwidth\": 1}, \"colorscale\": {\"diverging\": [[0, \"#8e0152\"], [0.1, \"#c51b7d\"], [0.2, \"#de77ae\"], [0.3, \"#f1b6da\"], [0.4, \"#fde0ef\"], [0.5, \"#f7f7f7\"], [0.6, \"#e6f5d0\"], [0.7, \"#b8e186\"], [0.8, \"#7fbc41\"], [0.9, \"#4d9221\"], [1, \"#276419\"]], \"sequential\": [[0.0, \"#0d0887\"], [0.1111111111111111, \"#46039f\"], [0.2222222222222222, \"#7201a8\"], [0.3333333333333333, \"#9c179e\"], [0.4444444444444444, \"#bd3786\"], [0.5555555555555556, \"#d8576b\"], [0.6666666666666666, \"#ed7953\"], [0.7777777777777778, \"#fb9f3a\"], [0.8888888888888888, \"#fdca26\"], [1.0, \"#f0f921\"]], \"sequentialminus\": [[0.0, \"#0d0887\"], [0.1111111111111111, \"#46039f\"], [0.2222222222222222, \"#7201a8\"], [0.3333333333333333, \"#9c179e\"], [0.4444444444444444, \"#bd3786\"], [0.5555555555555556, \"#d8576b\"], [0.6666666666666666, \"#ed7953\"], [0.7777777777777778, \"#fb9f3a\"], [0.8888888888888888, \"#fdca26\"], [1.0, \"#f0f921\"]]}, \"colorway\": [\"#636efa\", \"#EF553B\", \"#00cc96\", \"#ab63fa\", \"#FFA15A\", \"#19d3f3\", \"#FF6692\", \"#B6E880\", \"#FF97FF\", \"#FECB52\"], \"font\": {\"color\": \"#2a3f5f\"}, \"geo\": {\"bgcolor\": \"white\", \"lakecolor\": \"white\", \"landcolor\": \"#E5ECF6\", \"showlakes\": true, \"showland\": true, \"subunitcolor\": \"white\"}, \"hoverlabel\": {\"align\": \"left\"}, \"hovermode\": \"closest\", \"mapbox\": {\"style\": \"light\"}, \"paper_bgcolor\": \"white\", \"plot_bgcolor\": \"#E5ECF6\", \"polar\": {\"angularaxis\": {\"gridcolor\": \"white\", \"linecolor\": \"white\", \"ticks\": \"\"}, \"bgcolor\": \"#E5ECF6\", \"radialaxis\": {\"gridcolor\": \"white\", \"linecolor\": \"white\", \"ticks\": \"\"}}, \"scene\": {\"xaxis\": {\"backgroundcolor\": \"#E5ECF6\", \"gridcolor\": \"white\", \"gridwidth\": 2, \"linecolor\": \"white\", \"showbackground\": true, \"ticks\": \"\", \"zerolinecolor\": \"white\"}, \"yaxis\": {\"backgroundcolor\": \"#E5ECF6\", \"gridcolor\": \"white\", \"gridwidth\": 2, \"linecolor\": \"white\", \"showbackground\": true, \"ticks\": \"\", \"zerolinecolor\": \"white\"}, \"zaxis\": {\"backgroundcolor\": \"#E5ECF6\", \"gridcolor\": \"white\", \"gridwidth\": 2, \"linecolor\": \"white\", \"showbackground\": true, \"ticks\": \"\", \"zerolinecolor\": \"white\"}}, \"shapedefaults\": {\"line\": {\"color\": \"#2a3f5f\"}}, \"ternary\": {\"aaxis\": {\"gridcolor\": \"white\", \"linecolor\": \"white\", \"ticks\": \"\"}, \"baxis\": {\"gridcolor\": \"white\", \"linecolor\": \"white\", \"ticks\": \"\"}, \"bgcolor\": \"#E5ECF6\", \"caxis\": {\"gridcolor\": \"white\", \"linecolor\": \"white\", \"ticks\": \"\"}}, \"title\": {\"x\": 0.05}, \"xaxis\": {\"automargin\": true, \"gridcolor\": \"white\", \"linecolor\": \"white\", \"ticks\": \"\", \"zerolinecolor\": \"white\", \"zerolinewidth\": 2}, \"yaxis\": {\"automargin\": true, \"gridcolor\": \"white\", \"linecolor\": \"white\", \"ticks\": \"\", \"zerolinecolor\": \"white\", \"zerolinewidth\": 2}}}, \"title\": {\"text\": \"newmse:video:total_total:(dur1)\"}, \"xaxis\": {\"type\": \"date\"}, \"yaxis\": {\"title\": {\"text\": \"dur1\"}}},\n",
       "                        {\"responsive\": true}\n",
       "                    ).then(function(){\n",
       "                            \n",
       "var gd = document.getElementById('bee53a5a-42ff-4f1f-82ea-2c961dd0ee2b');\n",
       "var x = new MutationObserver(function (mutations, observer) {{\n",
       "        var display = window.getComputedStyle(gd).display;\n",
       "        if (!display || display === 'none') {{\n",
       "            console.log([gd, 'removed!']);\n",
       "            Plotly.purge(gd);\n",
       "            observer.disconnect();\n",
       "        }}\n",
       "}});\n",
       "\n",
       "// Listen for the removal of the full notebook cells\n",
       "var notebookContainer = gd.closest('#notebook-container');\n",
       "if (notebookContainer) {{\n",
       "    x.observe(notebookContainer, {childList: true});\n",
       "}}\n",
       "\n",
       "// Listen for the clearing of the current output cell\n",
       "var outputEl = gd.closest('.output');\n",
       "if (outputEl) {{\n",
       "    x.observe(outputEl, {childList: true});\n",
       "}}\n",
       "\n",
       "                        })\n",
       "                };\n",
       "                });\n",
       "            </script>\n",
       "        </div>"
      ]
     },
     "metadata": {},
     "output_type": "display_data"
    },
    {
     "data": {
      "application/vnd.plotly.v1+json": {
       "config": {
        "linkText": "Export to plot.ly",
        "plotlyServerURL": "https://plot.ly",
        "showLink": false
       },
       "data": [
        {
         "hovertext": [
          "-0.0313",
          "-0.0654",
          "-0.0278",
          "-0.0339",
          "0.0175",
          "-0.0660",
          "0.0293",
          "-0.0589",
          "-0.0650",
          "-0.1400",
          "-0.1396",
          "-0.0737",
          "-0.0854",
          "-0.1282",
          "-0.0819",
          "-0.0245",
          "0.0131",
          "-0.0162",
          "-0.0610",
          "-0.0173",
          "-0.0096",
          "-0.0721",
          "-0.0524",
          "0.0601",
          "0.0143",
          "-0.0060",
          "-0.0181",
          "0.0015",
          "-0.0015",
          "-0.1168",
          "-0.0001",
          "-0.0382",
          "-0.0919",
          "-0.0327",
          "-0.0558",
          "-0.0135",
          "-0.0880",
          "-0.1236",
          "-0.0645",
          "-0.0256",
          "-0.0781",
          "-0.0137",
          "0.1396",
          "-0.0226",
          "-0.0303",
          "-0.0097",
          "-0.0565",
          "0.0382",
          "-0.0439",
          "-0.0163",
          "-0.0346"
         ],
         "line": {
          "shape": "spline",
          "smoothing": 1
         },
         "mode": "lines+markers",
         "name": "7",
         "showlegend": true,
         "type": "scatter",
         "x": [
          "2020-01-12T11:00:00",
          "2020-01-12T12:00:00",
          "2020-01-12T13:00:00",
          "2020-01-12T14:00:00",
          "2020-01-12T15:00:00",
          "2020-01-12T16:00:00",
          "2020-01-12T17:00:00",
          "2020-01-12T18:00:00",
          "2020-01-12T19:00:00",
          "2020-01-12T20:00:00",
          "2020-01-12T21:00:00",
          "2020-01-12T22:00:00",
          "2020-01-12T23:00:00",
          "2020-01-13T00:00:00",
          "2020-01-13T01:00:00",
          "2020-01-13T02:00:00",
          "2020-01-13T03:00:00",
          "2020-01-13T04:00:00",
          "2020-01-13T05:00:00",
          "2020-01-13T06:00:00",
          "2020-01-13T07:00:00",
          "2020-01-13T08:00:00",
          "2020-01-13T09:00:00",
          "2020-01-13T10:00:00",
          "2020-01-13T11:00:00",
          "2020-01-13T12:00:00",
          "2020-01-13T13:00:00",
          "2020-01-13T14:00:00",
          "2020-01-13T15:00:00",
          "2020-01-13T16:00:00",
          "2020-01-13T17:00:00",
          "2020-01-13T18:00:00",
          "2020-01-13T19:00:00",
          "2020-01-13T20:00:00",
          "2020-01-13T21:00:00",
          "2020-01-13T22:00:00",
          "2020-01-13T23:00:00",
          "2020-01-14T00:00:00",
          "2020-01-14T01:00:00",
          "2020-01-14T02:00:00",
          "2020-01-14T03:00:00",
          "2020-01-14T04:00:00",
          "2020-01-14T05:00:00",
          "2020-01-14T06:00:00",
          "2020-01-14T07:00:00",
          "2020-01-14T08:00:00",
          "2020-01-14T09:00:00",
          "2020-01-14T10:00:00",
          "2020-01-14T11:00:00",
          "2020-01-14T12:00:00",
          "2020-01-14T13:00:00"
         ],
         "y": [
          6.741263443741599,
          6.333682965395701,
          6.74653703073969,
          7.18770495942729,
          7.478463478306817,
          6.589201367002772,
          7.040970736336073,
          6.634833401822379,
          6.909780853922564,
          6.918691056081182,
          6.693621575923287,
          7.244157726957697,
          7.487971979604091,
          7.642693446749205,
          8.186427949518789,
          7.986248294764042,
          7.49557916299137,
          6.653132021739602,
          6.1005076186562,
          6.486334979221873,
          6.253887335671767,
          5.5860604524860165,
          3.8876619518004327,
          5.881684132480518,
          6.040460755295452,
          6.080039807787492,
          6.4379587001144625,
          6.50705586241454,
          6.502578937333473,
          5.787391998543462,
          6.327623007049001,
          6.348391070723863,
          6.6753412470134466,
          7.4851249609190535,
          7.241170865362892,
          7.576704884216662,
          7.281452154403979,
          7.367850661705396,
          8.073677207140038,
          8.439971384131209,
          7.373136210446202,
          7.2731958782800765,
          7.519967859146284,
          6.096975344504463,
          6.241139060637286,
          6.12017695587425,
          4.466082175379771,
          6.281787187541574,
          6.149452667943819,
          6.343277841307365,
          6.907010898909572
         ]
        },
        {
         "line": {
          "shape": "spline",
          "smoothing": 1
         },
         "mode": "lines+markers",
         "name": "456",
         "showlegend": true,
         "type": "scatter",
         "x": [
          "2020-01-12T11:00:00",
          "2020-01-12T12:00:00",
          "2020-01-12T13:00:00",
          "2020-01-12T14:00:00",
          "2020-01-12T15:00:00",
          "2020-01-12T16:00:00",
          "2020-01-12T17:00:00",
          "2020-01-12T18:00:00",
          "2020-01-12T19:00:00",
          "2020-01-12T20:00:00",
          "2020-01-12T21:00:00",
          "2020-01-12T22:00:00",
          "2020-01-12T23:00:00",
          "2020-01-13T00:00:00",
          "2020-01-13T01:00:00",
          "2020-01-13T02:00:00",
          "2020-01-13T03:00:00",
          "2020-01-13T04:00:00",
          "2020-01-13T05:00:00",
          "2020-01-13T06:00:00",
          "2020-01-13T07:00:00",
          "2020-01-13T08:00:00",
          "2020-01-13T09:00:00",
          "2020-01-13T10:00:00",
          "2020-01-13T11:00:00",
          "2020-01-13T12:00:00",
          "2020-01-13T13:00:00",
          "2020-01-13T14:00:00",
          "2020-01-13T15:00:00",
          "2020-01-13T16:00:00",
          "2020-01-13T17:00:00",
          "2020-01-13T18:00:00",
          "2020-01-13T19:00:00",
          "2020-01-13T20:00:00",
          "2020-01-13T21:00:00",
          "2020-01-13T22:00:00",
          "2020-01-13T23:00:00",
          "2020-01-14T00:00:00",
          "2020-01-14T01:00:00",
          "2020-01-14T02:00:00",
          "2020-01-14T03:00:00",
          "2020-01-14T04:00:00",
          "2020-01-14T05:00:00",
          "2020-01-14T06:00:00",
          "2020-01-14T07:00:00",
          "2020-01-14T08:00:00",
          "2020-01-14T09:00:00",
          "2020-01-14T10:00:00",
          "2020-01-14T11:00:00",
          "2020-01-14T12:00:00",
          "2020-01-14T13:00:00"
         ],
         "y": [
          6.959055136901587,
          6.77666966319033,
          6.939795627165833,
          7.440015111594117,
          7.349749197659675,
          7.0545368337648355,
          6.8403902908358925,
          7.050201631209535,
          7.389840023548736,
          8.044561331015009,
          7.7792537302610425,
          7.820317510282043,
          8.187285367450484,
          8.766455216943791,
          8.916443071654568,
          8.186759156324705,
          7.39892373931125,
          6.762669520871346,
          6.496655885485673,
          6.600532746241357,
          6.314274543063822,
          6.020159519495615,
          4.102674837843215,
          5.548229828644384,
          5.955062136147244,
          6.116960772852365,
          6.556958751277684,
          6.497210584677787,
          6.512612065454604,
          6.553016386175041,
          6.328130796016649,
          6.600847481186899,
          7.351247176525128,
          7.738245259318162,
          7.6687692369614835,
          7.680106921754281,
          7.983985526738169,
          8.40738940089987,
          8.630508470176322,
          8.662032852581428,
          7.99803012048407,
          7.374016474016474,
          6.5986783062138175,
          6.237775814142002,
          6.436361034004431,
          6.1799079312664915,
          4.733517628711373,
          6.050861581559038,
          6.431806490689176,
          6.448420590244264,
          7.15447962310299
         ]
        }
       ],
       "layout": {
        "hovermode": "x",
        "template": {
         "data": {
          "bar": [
           {
            "error_x": {
             "color": "#2a3f5f"
            },
            "error_y": {
             "color": "#2a3f5f"
            },
            "marker": {
             "line": {
              "color": "#E5ECF6",
              "width": 0.5
             }
            },
            "type": "bar"
           }
          ],
          "barpolar": [
           {
            "marker": {
             "line": {
              "color": "#E5ECF6",
              "width": 0.5
             }
            },
            "type": "barpolar"
           }
          ],
          "carpet": [
           {
            "aaxis": {
             "endlinecolor": "#2a3f5f",
             "gridcolor": "white",
             "linecolor": "white",
             "minorgridcolor": "white",
             "startlinecolor": "#2a3f5f"
            },
            "baxis": {
             "endlinecolor": "#2a3f5f",
             "gridcolor": "white",
             "linecolor": "white",
             "minorgridcolor": "white",
             "startlinecolor": "#2a3f5f"
            },
            "type": "carpet"
           }
          ],
          "choropleth": [
           {
            "colorbar": {
             "outlinewidth": 0,
             "ticks": ""
            },
            "type": "choropleth"
           }
          ],
          "contour": [
           {
            "colorbar": {
             "outlinewidth": 0,
             "ticks": ""
            },
            "colorscale": [
             [
              0,
              "#0d0887"
             ],
             [
              0.1111111111111111,
              "#46039f"
             ],
             [
              0.2222222222222222,
              "#7201a8"
             ],
             [
              0.3333333333333333,
              "#9c179e"
             ],
             [
              0.4444444444444444,
              "#bd3786"
             ],
             [
              0.5555555555555556,
              "#d8576b"
             ],
             [
              0.6666666666666666,
              "#ed7953"
             ],
             [
              0.7777777777777778,
              "#fb9f3a"
             ],
             [
              0.8888888888888888,
              "#fdca26"
             ],
             [
              1,
              "#f0f921"
             ]
            ],
            "type": "contour"
           }
          ],
          "contourcarpet": [
           {
            "colorbar": {
             "outlinewidth": 0,
             "ticks": ""
            },
            "type": "contourcarpet"
           }
          ],
          "heatmap": [
           {
            "colorbar": {
             "outlinewidth": 0,
             "ticks": ""
            },
            "colorscale": [
             [
              0,
              "#0d0887"
             ],
             [
              0.1111111111111111,
              "#46039f"
             ],
             [
              0.2222222222222222,
              "#7201a8"
             ],
             [
              0.3333333333333333,
              "#9c179e"
             ],
             [
              0.4444444444444444,
              "#bd3786"
             ],
             [
              0.5555555555555556,
              "#d8576b"
             ],
             [
              0.6666666666666666,
              "#ed7953"
             ],
             [
              0.7777777777777778,
              "#fb9f3a"
             ],
             [
              0.8888888888888888,
              "#fdca26"
             ],
             [
              1,
              "#f0f921"
             ]
            ],
            "type": "heatmap"
           }
          ],
          "heatmapgl": [
           {
            "colorbar": {
             "outlinewidth": 0,
             "ticks": ""
            },
            "colorscale": [
             [
              0,
              "#0d0887"
             ],
             [
              0.1111111111111111,
              "#46039f"
             ],
             [
              0.2222222222222222,
              "#7201a8"
             ],
             [
              0.3333333333333333,
              "#9c179e"
             ],
             [
              0.4444444444444444,
              "#bd3786"
             ],
             [
              0.5555555555555556,
              "#d8576b"
             ],
             [
              0.6666666666666666,
              "#ed7953"
             ],
             [
              0.7777777777777778,
              "#fb9f3a"
             ],
             [
              0.8888888888888888,
              "#fdca26"
             ],
             [
              1,
              "#f0f921"
             ]
            ],
            "type": "heatmapgl"
           }
          ],
          "histogram": [
           {
            "marker": {
             "colorbar": {
              "outlinewidth": 0,
              "ticks": ""
             }
            },
            "type": "histogram"
           }
          ],
          "histogram2d": [
           {
            "colorbar": {
             "outlinewidth": 0,
             "ticks": ""
            },
            "colorscale": [
             [
              0,
              "#0d0887"
             ],
             [
              0.1111111111111111,
              "#46039f"
             ],
             [
              0.2222222222222222,
              "#7201a8"
             ],
             [
              0.3333333333333333,
              "#9c179e"
             ],
             [
              0.4444444444444444,
              "#bd3786"
             ],
             [
              0.5555555555555556,
              "#d8576b"
             ],
             [
              0.6666666666666666,
              "#ed7953"
             ],
             [
              0.7777777777777778,
              "#fb9f3a"
             ],
             [
              0.8888888888888888,
              "#fdca26"
             ],
             [
              1,
              "#f0f921"
             ]
            ],
            "type": "histogram2d"
           }
          ],
          "histogram2dcontour": [
           {
            "colorbar": {
             "outlinewidth": 0,
             "ticks": ""
            },
            "colorscale": [
             [
              0,
              "#0d0887"
             ],
             [
              0.1111111111111111,
              "#46039f"
             ],
             [
              0.2222222222222222,
              "#7201a8"
             ],
             [
              0.3333333333333333,
              "#9c179e"
             ],
             [
              0.4444444444444444,
              "#bd3786"
             ],
             [
              0.5555555555555556,
              "#d8576b"
             ],
             [
              0.6666666666666666,
              "#ed7953"
             ],
             [
              0.7777777777777778,
              "#fb9f3a"
             ],
             [
              0.8888888888888888,
              "#fdca26"
             ],
             [
              1,
              "#f0f921"
             ]
            ],
            "type": "histogram2dcontour"
           }
          ],
          "mesh3d": [
           {
            "colorbar": {
             "outlinewidth": 0,
             "ticks": ""
            },
            "type": "mesh3d"
           }
          ],
          "parcoords": [
           {
            "line": {
             "colorbar": {
              "outlinewidth": 0,
              "ticks": ""
             }
            },
            "type": "parcoords"
           }
          ],
          "scatter": [
           {
            "marker": {
             "colorbar": {
              "outlinewidth": 0,
              "ticks": ""
             }
            },
            "type": "scatter"
           }
          ],
          "scatter3d": [
           {
            "line": {
             "colorbar": {
              "outlinewidth": 0,
              "ticks": ""
             }
            },
            "marker": {
             "colorbar": {
              "outlinewidth": 0,
              "ticks": ""
             }
            },
            "type": "scatter3d"
           }
          ],
          "scattercarpet": [
           {
            "marker": {
             "colorbar": {
              "outlinewidth": 0,
              "ticks": ""
             }
            },
            "type": "scattercarpet"
           }
          ],
          "scattergeo": [
           {
            "marker": {
             "colorbar": {
              "outlinewidth": 0,
              "ticks": ""
             }
            },
            "type": "scattergeo"
           }
          ],
          "scattergl": [
           {
            "marker": {
             "colorbar": {
              "outlinewidth": 0,
              "ticks": ""
             }
            },
            "type": "scattergl"
           }
          ],
          "scattermapbox": [
           {
            "marker": {
             "colorbar": {
              "outlinewidth": 0,
              "ticks": ""
             }
            },
            "type": "scattermapbox"
           }
          ],
          "scatterpolar": [
           {
            "marker": {
             "colorbar": {
              "outlinewidth": 0,
              "ticks": ""
             }
            },
            "type": "scatterpolar"
           }
          ],
          "scatterpolargl": [
           {
            "marker": {
             "colorbar": {
              "outlinewidth": 0,
              "ticks": ""
             }
            },
            "type": "scatterpolargl"
           }
          ],
          "scatterternary": [
           {
            "marker": {
             "colorbar": {
              "outlinewidth": 0,
              "ticks": ""
             }
            },
            "type": "scatterternary"
           }
          ],
          "surface": [
           {
            "colorbar": {
             "outlinewidth": 0,
             "ticks": ""
            },
            "colorscale": [
             [
              0,
              "#0d0887"
             ],
             [
              0.1111111111111111,
              "#46039f"
             ],
             [
              0.2222222222222222,
              "#7201a8"
             ],
             [
              0.3333333333333333,
              "#9c179e"
             ],
             [
              0.4444444444444444,
              "#bd3786"
             ],
             [
              0.5555555555555556,
              "#d8576b"
             ],
             [
              0.6666666666666666,
              "#ed7953"
             ],
             [
              0.7777777777777778,
              "#fb9f3a"
             ],
             [
              0.8888888888888888,
              "#fdca26"
             ],
             [
              1,
              "#f0f921"
             ]
            ],
            "type": "surface"
           }
          ],
          "table": [
           {
            "cells": {
             "fill": {
              "color": "#EBF0F8"
             },
             "line": {
              "color": "white"
             }
            },
            "header": {
             "fill": {
              "color": "#C8D4E3"
             },
             "line": {
              "color": "white"
             }
            },
            "type": "table"
           }
          ]
         },
         "layout": {
          "annotationdefaults": {
           "arrowcolor": "#2a3f5f",
           "arrowhead": 0,
           "arrowwidth": 1
          },
          "colorscale": {
           "diverging": [
            [
             0,
             "#8e0152"
            ],
            [
             0.1,
             "#c51b7d"
            ],
            [
             0.2,
             "#de77ae"
            ],
            [
             0.3,
             "#f1b6da"
            ],
            [
             0.4,
             "#fde0ef"
            ],
            [
             0.5,
             "#f7f7f7"
            ],
            [
             0.6,
             "#e6f5d0"
            ],
            [
             0.7,
             "#b8e186"
            ],
            [
             0.8,
             "#7fbc41"
            ],
            [
             0.9,
             "#4d9221"
            ],
            [
             1,
             "#276419"
            ]
           ],
           "sequential": [
            [
             0,
             "#0d0887"
            ],
            [
             0.1111111111111111,
             "#46039f"
            ],
            [
             0.2222222222222222,
             "#7201a8"
            ],
            [
             0.3333333333333333,
             "#9c179e"
            ],
            [
             0.4444444444444444,
             "#bd3786"
            ],
            [
             0.5555555555555556,
             "#d8576b"
            ],
            [
             0.6666666666666666,
             "#ed7953"
            ],
            [
             0.7777777777777778,
             "#fb9f3a"
            ],
            [
             0.8888888888888888,
             "#fdca26"
            ],
            [
             1,
             "#f0f921"
            ]
           ],
           "sequentialminus": [
            [
             0,
             "#0d0887"
            ],
            [
             0.1111111111111111,
             "#46039f"
            ],
            [
             0.2222222222222222,
             "#7201a8"
            ],
            [
             0.3333333333333333,
             "#9c179e"
            ],
            [
             0.4444444444444444,
             "#bd3786"
            ],
            [
             0.5555555555555556,
             "#d8576b"
            ],
            [
             0.6666666666666666,
             "#ed7953"
            ],
            [
             0.7777777777777778,
             "#fb9f3a"
            ],
            [
             0.8888888888888888,
             "#fdca26"
            ],
            [
             1,
             "#f0f921"
            ]
           ]
          },
          "colorway": [
           "#636efa",
           "#EF553B",
           "#00cc96",
           "#ab63fa",
           "#FFA15A",
           "#19d3f3",
           "#FF6692",
           "#B6E880",
           "#FF97FF",
           "#FECB52"
          ],
          "font": {
           "color": "#2a3f5f"
          },
          "geo": {
           "bgcolor": "white",
           "lakecolor": "white",
           "landcolor": "#E5ECF6",
           "showlakes": true,
           "showland": true,
           "subunitcolor": "white"
          },
          "hoverlabel": {
           "align": "left"
          },
          "hovermode": "closest",
          "mapbox": {
           "style": "light"
          },
          "paper_bgcolor": "white",
          "plot_bgcolor": "#E5ECF6",
          "polar": {
           "angularaxis": {
            "gridcolor": "white",
            "linecolor": "white",
            "ticks": ""
           },
           "bgcolor": "#E5ECF6",
           "radialaxis": {
            "gridcolor": "white",
            "linecolor": "white",
            "ticks": ""
           }
          },
          "scene": {
           "xaxis": {
            "backgroundcolor": "#E5ECF6",
            "gridcolor": "white",
            "gridwidth": 2,
            "linecolor": "white",
            "showbackground": true,
            "ticks": "",
            "zerolinecolor": "white"
           },
           "yaxis": {
            "backgroundcolor": "#E5ECF6",
            "gridcolor": "white",
            "gridwidth": 2,
            "linecolor": "white",
            "showbackground": true,
            "ticks": "",
            "zerolinecolor": "white"
           },
           "zaxis": {
            "backgroundcolor": "#E5ECF6",
            "gridcolor": "white",
            "gridwidth": 2,
            "linecolor": "white",
            "showbackground": true,
            "ticks": "",
            "zerolinecolor": "white"
           }
          },
          "shapedefaults": {
           "line": {
            "color": "#2a3f5f"
           }
          },
          "ternary": {
           "aaxis": {
            "gridcolor": "white",
            "linecolor": "white",
            "ticks": ""
           },
           "baxis": {
            "gridcolor": "white",
            "linecolor": "white",
            "ticks": ""
           },
           "bgcolor": "#E5ECF6",
           "caxis": {
            "gridcolor": "white",
            "linecolor": "white",
            "ticks": ""
           }
          },
          "title": {
           "x": 0.05
          },
          "xaxis": {
           "automargin": true,
           "gridcolor": "white",
           "linecolor": "white",
           "ticks": "",
           "zerolinecolor": "white",
           "zerolinewidth": 2
          },
          "yaxis": {
           "automargin": true,
           "gridcolor": "white",
           "linecolor": "white",
           "ticks": "",
           "zerolinecolor": "white",
           "zerolinewidth": 2
          }
         }
        },
        "title": {
         "text": "newmse:video:total_total:(dur2)"
        },
        "xaxis": {
         "type": "date"
        },
        "yaxis": {
         "title": {
          "text": "dur2"
         }
        }
       }
      },
      "text/html": [
       "<div>\n",
       "        \n",
       "        \n",
       "            <div id=\"941830bb-6380-409c-a6b5-e08df0ef8565\" class=\"plotly-graph-div\" style=\"height:525px; width:100%;\"></div>\n",
       "            <script type=\"text/javascript\">\n",
       "                require([\"plotly\"], function(Plotly) {\n",
       "                    window.PLOTLYENV=window.PLOTLYENV || {};\n",
       "                    \n",
       "                if (document.getElementById(\"941830bb-6380-409c-a6b5-e08df0ef8565\")) {\n",
       "                    Plotly.newPlot(\n",
       "                        '941830bb-6380-409c-a6b5-e08df0ef8565',\n",
       "                        [{\"hovertext\": [\"-0.0313\", \"-0.0654\", \"-0.0278\", \"-0.0339\", \"0.0175\", \"-0.0660\", \"0.0293\", \"-0.0589\", \"-0.0650\", \"-0.1400\", \"-0.1396\", \"-0.0737\", \"-0.0854\", \"-0.1282\", \"-0.0819\", \"-0.0245\", \"0.0131\", \"-0.0162\", \"-0.0610\", \"-0.0173\", \"-0.0096\", \"-0.0721\", \"-0.0524\", \"0.0601\", \"0.0143\", \"-0.0060\", \"-0.0181\", \"0.0015\", \"-0.0015\", \"-0.1168\", \"-0.0001\", \"-0.0382\", \"-0.0919\", \"-0.0327\", \"-0.0558\", \"-0.0135\", \"-0.0880\", \"-0.1236\", \"-0.0645\", \"-0.0256\", \"-0.0781\", \"-0.0137\", \"0.1396\", \"-0.0226\", \"-0.0303\", \"-0.0097\", \"-0.0565\", \"0.0382\", \"-0.0439\", \"-0.0163\", \"-0.0346\"], \"line\": {\"shape\": \"spline\", \"smoothing\": 1.0}, \"mode\": \"lines+markers\", \"name\": \"7\", \"showlegend\": true, \"type\": \"scatter\", \"x\": [\"2020-01-12T11:00:00\", \"2020-01-12T12:00:00\", \"2020-01-12T13:00:00\", \"2020-01-12T14:00:00\", \"2020-01-12T15:00:00\", \"2020-01-12T16:00:00\", \"2020-01-12T17:00:00\", \"2020-01-12T18:00:00\", \"2020-01-12T19:00:00\", \"2020-01-12T20:00:00\", \"2020-01-12T21:00:00\", \"2020-01-12T22:00:00\", \"2020-01-12T23:00:00\", \"2020-01-13T00:00:00\", \"2020-01-13T01:00:00\", \"2020-01-13T02:00:00\", \"2020-01-13T03:00:00\", \"2020-01-13T04:00:00\", \"2020-01-13T05:00:00\", \"2020-01-13T06:00:00\", \"2020-01-13T07:00:00\", \"2020-01-13T08:00:00\", \"2020-01-13T09:00:00\", \"2020-01-13T10:00:00\", \"2020-01-13T11:00:00\", \"2020-01-13T12:00:00\", \"2020-01-13T13:00:00\", \"2020-01-13T14:00:00\", \"2020-01-13T15:00:00\", \"2020-01-13T16:00:00\", \"2020-01-13T17:00:00\", \"2020-01-13T18:00:00\", \"2020-01-13T19:00:00\", \"2020-01-13T20:00:00\", \"2020-01-13T21:00:00\", \"2020-01-13T22:00:00\", \"2020-01-13T23:00:00\", \"2020-01-14T00:00:00\", \"2020-01-14T01:00:00\", \"2020-01-14T02:00:00\", \"2020-01-14T03:00:00\", \"2020-01-14T04:00:00\", \"2020-01-14T05:00:00\", \"2020-01-14T06:00:00\", \"2020-01-14T07:00:00\", \"2020-01-14T08:00:00\", \"2020-01-14T09:00:00\", \"2020-01-14T10:00:00\", \"2020-01-14T11:00:00\", \"2020-01-14T12:00:00\", \"2020-01-14T13:00:00\"], \"y\": [6.741263443741599, 6.333682965395701, 6.74653703073969, 7.18770495942729, 7.478463478306817, 6.589201367002772, 7.040970736336073, 6.634833401822379, 6.909780853922564, 6.918691056081182, 6.693621575923287, 7.244157726957697, 7.487971979604091, 7.642693446749205, 8.186427949518789, 7.986248294764042, 7.49557916299137, 6.653132021739602, 6.1005076186562, 6.486334979221873, 6.253887335671767, 5.5860604524860165, 3.8876619518004327, 5.881684132480518, 6.040460755295452, 6.080039807787492, 6.4379587001144625, 6.50705586241454, 6.502578937333473, 5.787391998543462, 6.327623007049001, 6.348391070723863, 6.6753412470134466, 7.4851249609190535, 7.241170865362892, 7.576704884216662, 7.281452154403979, 7.367850661705396, 8.073677207140038, 8.439971384131209, 7.373136210446202, 7.2731958782800765, 7.519967859146284, 6.096975344504463, 6.241139060637286, 6.12017695587425, 4.466082175379771, 6.281787187541574, 6.149452667943819, 6.343277841307365, 6.907010898909572]}, {\"line\": {\"shape\": \"spline\", \"smoothing\": 1.0}, \"mode\": \"lines+markers\", \"name\": \"456\", \"showlegend\": true, \"type\": \"scatter\", \"x\": [\"2020-01-12T11:00:00\", \"2020-01-12T12:00:00\", \"2020-01-12T13:00:00\", \"2020-01-12T14:00:00\", \"2020-01-12T15:00:00\", \"2020-01-12T16:00:00\", \"2020-01-12T17:00:00\", \"2020-01-12T18:00:00\", \"2020-01-12T19:00:00\", \"2020-01-12T20:00:00\", \"2020-01-12T21:00:00\", \"2020-01-12T22:00:00\", \"2020-01-12T23:00:00\", \"2020-01-13T00:00:00\", \"2020-01-13T01:00:00\", \"2020-01-13T02:00:00\", \"2020-01-13T03:00:00\", \"2020-01-13T04:00:00\", \"2020-01-13T05:00:00\", \"2020-01-13T06:00:00\", \"2020-01-13T07:00:00\", \"2020-01-13T08:00:00\", \"2020-01-13T09:00:00\", \"2020-01-13T10:00:00\", \"2020-01-13T11:00:00\", \"2020-01-13T12:00:00\", \"2020-01-13T13:00:00\", \"2020-01-13T14:00:00\", \"2020-01-13T15:00:00\", \"2020-01-13T16:00:00\", \"2020-01-13T17:00:00\", \"2020-01-13T18:00:00\", \"2020-01-13T19:00:00\", \"2020-01-13T20:00:00\", \"2020-01-13T21:00:00\", \"2020-01-13T22:00:00\", \"2020-01-13T23:00:00\", \"2020-01-14T00:00:00\", \"2020-01-14T01:00:00\", \"2020-01-14T02:00:00\", \"2020-01-14T03:00:00\", \"2020-01-14T04:00:00\", \"2020-01-14T05:00:00\", \"2020-01-14T06:00:00\", \"2020-01-14T07:00:00\", \"2020-01-14T08:00:00\", \"2020-01-14T09:00:00\", \"2020-01-14T10:00:00\", \"2020-01-14T11:00:00\", \"2020-01-14T12:00:00\", \"2020-01-14T13:00:00\"], \"y\": [6.959055136901587, 6.77666966319033, 6.939795627165833, 7.440015111594117, 7.349749197659675, 7.0545368337648355, 6.8403902908358925, 7.050201631209535, 7.389840023548736, 8.044561331015009, 7.7792537302610425, 7.820317510282043, 8.187285367450484, 8.766455216943791, 8.916443071654568, 8.186759156324705, 7.39892373931125, 6.762669520871346, 6.496655885485673, 6.600532746241357, 6.314274543063822, 6.020159519495615, 4.102674837843215, 5.548229828644384, 5.955062136147244, 6.116960772852365, 6.556958751277684, 6.497210584677787, 6.512612065454604, 6.553016386175041, 6.328130796016649, 6.600847481186899, 7.351247176525128, 7.738245259318162, 7.6687692369614835, 7.680106921754281, 7.983985526738169, 8.40738940089987, 8.630508470176322, 8.662032852581428, 7.99803012048407, 7.374016474016474, 6.5986783062138175, 6.237775814142002, 6.436361034004431, 6.1799079312664915, 4.733517628711373, 6.050861581559038, 6.431806490689176, 6.448420590244264, 7.15447962310299]}],\n",
       "                        {\"hovermode\": \"x\", \"template\": {\"data\": {\"bar\": [{\"error_x\": {\"color\": \"#2a3f5f\"}, \"error_y\": {\"color\": \"#2a3f5f\"}, \"marker\": {\"line\": {\"color\": \"#E5ECF6\", \"width\": 0.5}}, \"type\": \"bar\"}], \"barpolar\": [{\"marker\": {\"line\": {\"color\": \"#E5ECF6\", \"width\": 0.5}}, \"type\": \"barpolar\"}], \"carpet\": [{\"aaxis\": {\"endlinecolor\": \"#2a3f5f\", \"gridcolor\": \"white\", \"linecolor\": \"white\", \"minorgridcolor\": \"white\", \"startlinecolor\": \"#2a3f5f\"}, \"baxis\": {\"endlinecolor\": \"#2a3f5f\", \"gridcolor\": \"white\", \"linecolor\": \"white\", \"minorgridcolor\": \"white\", \"startlinecolor\": \"#2a3f5f\"}, \"type\": \"carpet\"}], \"choropleth\": [{\"colorbar\": {\"outlinewidth\": 0, \"ticks\": \"\"}, \"type\": \"choropleth\"}], \"contour\": [{\"colorbar\": {\"outlinewidth\": 0, \"ticks\": \"\"}, \"colorscale\": [[0.0, \"#0d0887\"], [0.1111111111111111, \"#46039f\"], [0.2222222222222222, \"#7201a8\"], [0.3333333333333333, \"#9c179e\"], [0.4444444444444444, \"#bd3786\"], [0.5555555555555556, \"#d8576b\"], [0.6666666666666666, \"#ed7953\"], [0.7777777777777778, \"#fb9f3a\"], [0.8888888888888888, \"#fdca26\"], [1.0, \"#f0f921\"]], \"type\": \"contour\"}], \"contourcarpet\": [{\"colorbar\": {\"outlinewidth\": 0, \"ticks\": \"\"}, \"type\": \"contourcarpet\"}], \"heatmap\": [{\"colorbar\": {\"outlinewidth\": 0, \"ticks\": \"\"}, \"colorscale\": [[0.0, \"#0d0887\"], [0.1111111111111111, \"#46039f\"], [0.2222222222222222, \"#7201a8\"], [0.3333333333333333, \"#9c179e\"], [0.4444444444444444, \"#bd3786\"], [0.5555555555555556, \"#d8576b\"], [0.6666666666666666, \"#ed7953\"], [0.7777777777777778, \"#fb9f3a\"], [0.8888888888888888, \"#fdca26\"], [1.0, \"#f0f921\"]], \"type\": \"heatmap\"}], \"heatmapgl\": [{\"colorbar\": {\"outlinewidth\": 0, \"ticks\": \"\"}, \"colorscale\": [[0.0, \"#0d0887\"], [0.1111111111111111, \"#46039f\"], [0.2222222222222222, \"#7201a8\"], [0.3333333333333333, \"#9c179e\"], [0.4444444444444444, \"#bd3786\"], [0.5555555555555556, \"#d8576b\"], [0.6666666666666666, \"#ed7953\"], [0.7777777777777778, \"#fb9f3a\"], [0.8888888888888888, \"#fdca26\"], [1.0, \"#f0f921\"]], \"type\": \"heatmapgl\"}], \"histogram\": [{\"marker\": {\"colorbar\": {\"outlinewidth\": 0, \"ticks\": \"\"}}, \"type\": \"histogram\"}], \"histogram2d\": [{\"colorbar\": {\"outlinewidth\": 0, \"ticks\": \"\"}, \"colorscale\": [[0.0, \"#0d0887\"], [0.1111111111111111, \"#46039f\"], [0.2222222222222222, \"#7201a8\"], [0.3333333333333333, \"#9c179e\"], [0.4444444444444444, \"#bd3786\"], [0.5555555555555556, \"#d8576b\"], [0.6666666666666666, \"#ed7953\"], [0.7777777777777778, \"#fb9f3a\"], [0.8888888888888888, \"#fdca26\"], [1.0, \"#f0f921\"]], \"type\": \"histogram2d\"}], \"histogram2dcontour\": [{\"colorbar\": {\"outlinewidth\": 0, \"ticks\": \"\"}, \"colorscale\": [[0.0, \"#0d0887\"], [0.1111111111111111, \"#46039f\"], [0.2222222222222222, \"#7201a8\"], [0.3333333333333333, \"#9c179e\"], [0.4444444444444444, \"#bd3786\"], [0.5555555555555556, \"#d8576b\"], [0.6666666666666666, \"#ed7953\"], [0.7777777777777778, \"#fb9f3a\"], [0.8888888888888888, \"#fdca26\"], [1.0, \"#f0f921\"]], \"type\": \"histogram2dcontour\"}], \"mesh3d\": [{\"colorbar\": {\"outlinewidth\": 0, \"ticks\": \"\"}, \"type\": \"mesh3d\"}], \"parcoords\": [{\"line\": {\"colorbar\": {\"outlinewidth\": 0, \"ticks\": \"\"}}, \"type\": \"parcoords\"}], \"scatter\": [{\"marker\": {\"colorbar\": {\"outlinewidth\": 0, \"ticks\": \"\"}}, \"type\": \"scatter\"}], \"scatter3d\": [{\"line\": {\"colorbar\": {\"outlinewidth\": 0, \"ticks\": \"\"}}, \"marker\": {\"colorbar\": {\"outlinewidth\": 0, \"ticks\": \"\"}}, \"type\": \"scatter3d\"}], \"scattercarpet\": [{\"marker\": {\"colorbar\": {\"outlinewidth\": 0, \"ticks\": \"\"}}, \"type\": \"scattercarpet\"}], \"scattergeo\": [{\"marker\": {\"colorbar\": {\"outlinewidth\": 0, \"ticks\": \"\"}}, \"type\": \"scattergeo\"}], \"scattergl\": [{\"marker\": {\"colorbar\": {\"outlinewidth\": 0, \"ticks\": \"\"}}, \"type\": \"scattergl\"}], \"scattermapbox\": [{\"marker\": {\"colorbar\": {\"outlinewidth\": 0, \"ticks\": \"\"}}, \"type\": \"scattermapbox\"}], \"scatterpolar\": [{\"marker\": {\"colorbar\": {\"outlinewidth\": 0, \"ticks\": \"\"}}, \"type\": \"scatterpolar\"}], \"scatterpolargl\": [{\"marker\": {\"colorbar\": {\"outlinewidth\": 0, \"ticks\": \"\"}}, \"type\": \"scatterpolargl\"}], \"scatterternary\": [{\"marker\": {\"colorbar\": {\"outlinewidth\": 0, \"ticks\": \"\"}}, \"type\": \"scatterternary\"}], \"surface\": [{\"colorbar\": {\"outlinewidth\": 0, \"ticks\": \"\"}, \"colorscale\": [[0.0, \"#0d0887\"], [0.1111111111111111, \"#46039f\"], [0.2222222222222222, \"#7201a8\"], [0.3333333333333333, \"#9c179e\"], [0.4444444444444444, \"#bd3786\"], [0.5555555555555556, \"#d8576b\"], [0.6666666666666666, \"#ed7953\"], [0.7777777777777778, \"#fb9f3a\"], [0.8888888888888888, \"#fdca26\"], [1.0, \"#f0f921\"]], \"type\": \"surface\"}], \"table\": [{\"cells\": {\"fill\": {\"color\": \"#EBF0F8\"}, \"line\": {\"color\": \"white\"}}, \"header\": {\"fill\": {\"color\": \"#C8D4E3\"}, \"line\": {\"color\": \"white\"}}, \"type\": \"table\"}]}, \"layout\": {\"annotationdefaults\": {\"arrowcolor\": \"#2a3f5f\", \"arrowhead\": 0, \"arrowwidth\": 1}, \"colorscale\": {\"diverging\": [[0, \"#8e0152\"], [0.1, \"#c51b7d\"], [0.2, \"#de77ae\"], [0.3, \"#f1b6da\"], [0.4, \"#fde0ef\"], [0.5, \"#f7f7f7\"], [0.6, \"#e6f5d0\"], [0.7, \"#b8e186\"], [0.8, \"#7fbc41\"], [0.9, \"#4d9221\"], [1, \"#276419\"]], \"sequential\": [[0.0, \"#0d0887\"], [0.1111111111111111, \"#46039f\"], [0.2222222222222222, \"#7201a8\"], [0.3333333333333333, \"#9c179e\"], [0.4444444444444444, \"#bd3786\"], [0.5555555555555556, \"#d8576b\"], [0.6666666666666666, \"#ed7953\"], [0.7777777777777778, \"#fb9f3a\"], [0.8888888888888888, \"#fdca26\"], [1.0, \"#f0f921\"]], \"sequentialminus\": [[0.0, \"#0d0887\"], [0.1111111111111111, \"#46039f\"], [0.2222222222222222, \"#7201a8\"], [0.3333333333333333, \"#9c179e\"], [0.4444444444444444, \"#bd3786\"], [0.5555555555555556, \"#d8576b\"], [0.6666666666666666, \"#ed7953\"], [0.7777777777777778, \"#fb9f3a\"], [0.8888888888888888, \"#fdca26\"], [1.0, \"#f0f921\"]]}, \"colorway\": [\"#636efa\", \"#EF553B\", \"#00cc96\", \"#ab63fa\", \"#FFA15A\", \"#19d3f3\", \"#FF6692\", \"#B6E880\", \"#FF97FF\", \"#FECB52\"], \"font\": {\"color\": \"#2a3f5f\"}, \"geo\": {\"bgcolor\": \"white\", \"lakecolor\": \"white\", \"landcolor\": \"#E5ECF6\", \"showlakes\": true, \"showland\": true, \"subunitcolor\": \"white\"}, \"hoverlabel\": {\"align\": \"left\"}, \"hovermode\": \"closest\", \"mapbox\": {\"style\": \"light\"}, \"paper_bgcolor\": \"white\", \"plot_bgcolor\": \"#E5ECF6\", \"polar\": {\"angularaxis\": {\"gridcolor\": \"white\", \"linecolor\": \"white\", \"ticks\": \"\"}, \"bgcolor\": \"#E5ECF6\", \"radialaxis\": {\"gridcolor\": \"white\", \"linecolor\": \"white\", \"ticks\": \"\"}}, \"scene\": {\"xaxis\": {\"backgroundcolor\": \"#E5ECF6\", \"gridcolor\": \"white\", \"gridwidth\": 2, \"linecolor\": \"white\", \"showbackground\": true, \"ticks\": \"\", \"zerolinecolor\": \"white\"}, \"yaxis\": {\"backgroundcolor\": \"#E5ECF6\", \"gridcolor\": \"white\", \"gridwidth\": 2, \"linecolor\": \"white\", \"showbackground\": true, \"ticks\": \"\", \"zerolinecolor\": \"white\"}, \"zaxis\": {\"backgroundcolor\": \"#E5ECF6\", \"gridcolor\": \"white\", \"gridwidth\": 2, \"linecolor\": \"white\", \"showbackground\": true, \"ticks\": \"\", \"zerolinecolor\": \"white\"}}, \"shapedefaults\": {\"line\": {\"color\": \"#2a3f5f\"}}, \"ternary\": {\"aaxis\": {\"gridcolor\": \"white\", \"linecolor\": \"white\", \"ticks\": \"\"}, \"baxis\": {\"gridcolor\": \"white\", \"linecolor\": \"white\", \"ticks\": \"\"}, \"bgcolor\": \"#E5ECF6\", \"caxis\": {\"gridcolor\": \"white\", \"linecolor\": \"white\", \"ticks\": \"\"}}, \"title\": {\"x\": 0.05}, \"xaxis\": {\"automargin\": true, \"gridcolor\": \"white\", \"linecolor\": \"white\", \"ticks\": \"\", \"zerolinecolor\": \"white\", \"zerolinewidth\": 2}, \"yaxis\": {\"automargin\": true, \"gridcolor\": \"white\", \"linecolor\": \"white\", \"ticks\": \"\", \"zerolinecolor\": \"white\", \"zerolinewidth\": 2}}}, \"title\": {\"text\": \"newmse:video:total_total:(dur2)\"}, \"xaxis\": {\"type\": \"date\"}, \"yaxis\": {\"title\": {\"text\": \"dur2\"}}},\n",
       "                        {\"responsive\": true}\n",
       "                    ).then(function(){\n",
       "                            \n",
       "var gd = document.getElementById('941830bb-6380-409c-a6b5-e08df0ef8565');\n",
       "var x = new MutationObserver(function (mutations, observer) {{\n",
       "        var display = window.getComputedStyle(gd).display;\n",
       "        if (!display || display === 'none') {{\n",
       "            console.log([gd, 'removed!']);\n",
       "            Plotly.purge(gd);\n",
       "            observer.disconnect();\n",
       "        }}\n",
       "}});\n",
       "\n",
       "// Listen for the removal of the full notebook cells\n",
       "var notebookContainer = gd.closest('#notebook-container');\n",
       "if (notebookContainer) {{\n",
       "    x.observe(notebookContainer, {childList: true});\n",
       "}}\n",
       "\n",
       "// Listen for the clearing of the current output cell\n",
       "var outputEl = gd.closest('.output');\n",
       "if (outputEl) {{\n",
       "    x.observe(outputEl, {childList: true});\n",
       "}}\n",
       "\n",
       "                        })\n",
       "                };\n",
       "                });\n",
       "            </script>\n",
       "        </div>"
      ]
     },
     "metadata": {},
     "output_type": "display_data"
    },
    {
     "data": {
      "application/vnd.plotly.v1+json": {
       "config": {
        "linkText": "Export to plot.ly",
        "plotlyServerURL": "https://plot.ly",
        "showLink": false
       },
       "data": [
        {
         "hovertext": [
          "-0.0515",
          "-0.0380",
          "-0.0049",
          "0.0181",
          "-0.0045",
          "-0.0469",
          "0.0901",
          "0.0076",
          "-0.0571",
          "-0.0468",
          "-0.0268",
          "0.0000",
          "0.0579",
          "-0.0464",
          "0.0610",
          "0.0926",
          "0.0658",
          "-0.1610",
          "0.0338",
          "-0.0809",
          "0.0069",
          "-0.0655",
          "-0.0067",
          "-0.0211",
          "-0.0323",
          "0.0201",
          "-0.0170",
          "-0.0245",
          "-0.0353",
          "-0.0445",
          "0.0318",
          "-0.0268",
          "-0.0506",
          "0.0094",
          "-0.0105",
          "-0.0059",
          "-0.0031",
          "-0.0172",
          "0.0524",
          "-0.1014",
          "0.0731",
          "0.0498",
          "0.1895",
          "-0.0505",
          "0.0090",
          "-0.1150",
          "-0.0668",
          "0.0715",
          "-0.0399",
          "0.0373",
          "-0.0634"
         ],
         "line": {
          "shape": "spline",
          "smoothing": 1
         },
         "mode": "lines+markers",
         "name": "7",
         "showlegend": true,
         "type": "scatter",
         "x": [
          "2020-01-12T11:00:00",
          "2020-01-12T12:00:00",
          "2020-01-12T13:00:00",
          "2020-01-12T14:00:00",
          "2020-01-12T15:00:00",
          "2020-01-12T16:00:00",
          "2020-01-12T17:00:00",
          "2020-01-12T18:00:00",
          "2020-01-12T19:00:00",
          "2020-01-12T20:00:00",
          "2020-01-12T21:00:00",
          "2020-01-12T22:00:00",
          "2020-01-12T23:00:00",
          "2020-01-13T00:00:00",
          "2020-01-13T01:00:00",
          "2020-01-13T02:00:00",
          "2020-01-13T03:00:00",
          "2020-01-13T04:00:00",
          "2020-01-13T05:00:00",
          "2020-01-13T06:00:00",
          "2020-01-13T07:00:00",
          "2020-01-13T08:00:00",
          "2020-01-13T09:00:00",
          "2020-01-13T10:00:00",
          "2020-01-13T11:00:00",
          "2020-01-13T12:00:00",
          "2020-01-13T13:00:00",
          "2020-01-13T14:00:00",
          "2020-01-13T15:00:00",
          "2020-01-13T16:00:00",
          "2020-01-13T17:00:00",
          "2020-01-13T18:00:00",
          "2020-01-13T19:00:00",
          "2020-01-13T20:00:00",
          "2020-01-13T21:00:00",
          "2020-01-13T22:00:00",
          "2020-01-13T23:00:00",
          "2020-01-14T00:00:00",
          "2020-01-14T01:00:00",
          "2020-01-14T02:00:00",
          "2020-01-14T03:00:00",
          "2020-01-14T04:00:00",
          "2020-01-14T05:00:00",
          "2020-01-14T06:00:00",
          "2020-01-14T07:00:00",
          "2020-01-14T08:00:00",
          "2020-01-14T09:00:00",
          "2020-01-14T10:00:00",
          "2020-01-14T11:00:00",
          "2020-01-14T12:00:00",
          "2020-01-14T13:00:00"
         ],
         "y": [
          5104.401064641338,
          5144.322897961456,
          5931.304431804315,
          6056.743271966476,
          6009.051190244023,
          5828.340717893514,
          6087.648473591015,
          6119.054684868531,
          6981.439575113958,
          8266.500021962112,
          8944.00184868573,
          8606.6917879594,
          6323.354311925901,
          3451.13090472201,
          2176.482610105097,
          1451.3722276675367,
          1147.9106658388932,
          1037.8797549231683,
          1686.7961180140167,
          2715.651442337904,
          4049.6389339496295,
          3253.209470707114,
          2404.138698042691,
          3879.8398795457397,
          4408.63799011788,
          5395.486800776188,
          5403.778513862261,
          4845.872148755781,
          5029.183872555019,
          5083.92693044515,
          5403.741348836747,
          5637.170834282603,
          7102.407951373416,
          8686.367305979471,
          8957.460145324885,
          8178.923610922728,
          5888.441177939819,
          3299.0472700147966,
          2083.395876082901,
          1231.0664631652633,
          1218.7033854884276,
          1183.471929709015,
          1937.7359813553626,
          2615.3030085783057,
          3872.7330254845047,
          3404.190930916257,
          2542.8347137445257,
          4461.276674409707,
          4578.04349518082,
          5546.301913993624,
          5305.090868203719
         ]
        },
        {
         "line": {
          "shape": "spline",
          "smoothing": 1
         },
         "mode": "lines+markers",
         "name": "456",
         "showlegend": true,
         "type": "scatter",
         "x": [
          "2020-01-12T11:00:00",
          "2020-01-12T12:00:00",
          "2020-01-12T13:00:00",
          "2020-01-12T14:00:00",
          "2020-01-12T15:00:00",
          "2020-01-12T16:00:00",
          "2020-01-12T17:00:00",
          "2020-01-12T18:00:00",
          "2020-01-12T19:00:00",
          "2020-01-12T20:00:00",
          "2020-01-12T21:00:00",
          "2020-01-12T22:00:00",
          "2020-01-12T23:00:00",
          "2020-01-13T00:00:00",
          "2020-01-13T01:00:00",
          "2020-01-13T02:00:00",
          "2020-01-13T03:00:00",
          "2020-01-13T04:00:00",
          "2020-01-13T05:00:00",
          "2020-01-13T06:00:00",
          "2020-01-13T07:00:00",
          "2020-01-13T08:00:00",
          "2020-01-13T09:00:00",
          "2020-01-13T10:00:00",
          "2020-01-13T11:00:00",
          "2020-01-13T12:00:00",
          "2020-01-13T13:00:00",
          "2020-01-13T14:00:00",
          "2020-01-13T15:00:00",
          "2020-01-13T16:00:00",
          "2020-01-13T17:00:00",
          "2020-01-13T18:00:00",
          "2020-01-13T19:00:00",
          "2020-01-13T20:00:00",
          "2020-01-13T21:00:00",
          "2020-01-13T22:00:00",
          "2020-01-13T23:00:00",
          "2020-01-14T00:00:00",
          "2020-01-14T01:00:00",
          "2020-01-14T02:00:00",
          "2020-01-14T03:00:00",
          "2020-01-14T04:00:00",
          "2020-01-14T05:00:00",
          "2020-01-14T06:00:00",
          "2020-01-14T07:00:00",
          "2020-01-14T08:00:00",
          "2020-01-14T09:00:00",
          "2020-01-14T10:00:00",
          "2020-01-14T11:00:00",
          "2020-01-14T12:00:00",
          "2020-01-14T13:00:00"
         ],
         "y": [
          5381.666666666667,
          5347.666666666667,
          5960.666666666667,
          5949,
          6036,
          6115,
          5584.333333333333,
          6072.666666666667,
          7404.333333333333,
          8672.666666666666,
          9190,
          8606.333333333334,
          5977,
          3619,
          2051.3333333333335,
          1328.3333333333333,
          1077,
          1237,
          1631.6666666666667,
          2954.6666666666665,
          4022,
          3481.3333333333335,
          2420.3333333333335,
          3963.6666666666665,
          4555.666666666667,
          5289.333333333333,
          5497,
          4967.333333333333,
          5213,
          5320.666666666667,
          5237.333333333333,
          5792.333333333333,
          7481.333333333333,
          8605.333333333334,
          9052.666666666666,
          8227.333333333334,
          5907,
          3356.6666666666665,
          1979.6666666666667,
          1370,
          1135.6666666666667,
          1127.3333333333333,
          1629,
          2754.3333333333335,
          3838,
          3846.3333333333335,
          2725,
          4163.666666666667,
          4768.333333333333,
          5347,
          5664
         ]
        }
       ],
       "layout": {
        "hovermode": "x",
        "template": {
         "data": {
          "bar": [
           {
            "error_x": {
             "color": "#2a3f5f"
            },
            "error_y": {
             "color": "#2a3f5f"
            },
            "marker": {
             "line": {
              "color": "#E5ECF6",
              "width": 0.5
             }
            },
            "type": "bar"
           }
          ],
          "barpolar": [
           {
            "marker": {
             "line": {
              "color": "#E5ECF6",
              "width": 0.5
             }
            },
            "type": "barpolar"
           }
          ],
          "carpet": [
           {
            "aaxis": {
             "endlinecolor": "#2a3f5f",
             "gridcolor": "white",
             "linecolor": "white",
             "minorgridcolor": "white",
             "startlinecolor": "#2a3f5f"
            },
            "baxis": {
             "endlinecolor": "#2a3f5f",
             "gridcolor": "white",
             "linecolor": "white",
             "minorgridcolor": "white",
             "startlinecolor": "#2a3f5f"
            },
            "type": "carpet"
           }
          ],
          "choropleth": [
           {
            "colorbar": {
             "outlinewidth": 0,
             "ticks": ""
            },
            "type": "choropleth"
           }
          ],
          "contour": [
           {
            "colorbar": {
             "outlinewidth": 0,
             "ticks": ""
            },
            "colorscale": [
             [
              0,
              "#0d0887"
             ],
             [
              0.1111111111111111,
              "#46039f"
             ],
             [
              0.2222222222222222,
              "#7201a8"
             ],
             [
              0.3333333333333333,
              "#9c179e"
             ],
             [
              0.4444444444444444,
              "#bd3786"
             ],
             [
              0.5555555555555556,
              "#d8576b"
             ],
             [
              0.6666666666666666,
              "#ed7953"
             ],
             [
              0.7777777777777778,
              "#fb9f3a"
             ],
             [
              0.8888888888888888,
              "#fdca26"
             ],
             [
              1,
              "#f0f921"
             ]
            ],
            "type": "contour"
           }
          ],
          "contourcarpet": [
           {
            "colorbar": {
             "outlinewidth": 0,
             "ticks": ""
            },
            "type": "contourcarpet"
           }
          ],
          "heatmap": [
           {
            "colorbar": {
             "outlinewidth": 0,
             "ticks": ""
            },
            "colorscale": [
             [
              0,
              "#0d0887"
             ],
             [
              0.1111111111111111,
              "#46039f"
             ],
             [
              0.2222222222222222,
              "#7201a8"
             ],
             [
              0.3333333333333333,
              "#9c179e"
             ],
             [
              0.4444444444444444,
              "#bd3786"
             ],
             [
              0.5555555555555556,
              "#d8576b"
             ],
             [
              0.6666666666666666,
              "#ed7953"
             ],
             [
              0.7777777777777778,
              "#fb9f3a"
             ],
             [
              0.8888888888888888,
              "#fdca26"
             ],
             [
              1,
              "#f0f921"
             ]
            ],
            "type": "heatmap"
           }
          ],
          "heatmapgl": [
           {
            "colorbar": {
             "outlinewidth": 0,
             "ticks": ""
            },
            "colorscale": [
             [
              0,
              "#0d0887"
             ],
             [
              0.1111111111111111,
              "#46039f"
             ],
             [
              0.2222222222222222,
              "#7201a8"
             ],
             [
              0.3333333333333333,
              "#9c179e"
             ],
             [
              0.4444444444444444,
              "#bd3786"
             ],
             [
              0.5555555555555556,
              "#d8576b"
             ],
             [
              0.6666666666666666,
              "#ed7953"
             ],
             [
              0.7777777777777778,
              "#fb9f3a"
             ],
             [
              0.8888888888888888,
              "#fdca26"
             ],
             [
              1,
              "#f0f921"
             ]
            ],
            "type": "heatmapgl"
           }
          ],
          "histogram": [
           {
            "marker": {
             "colorbar": {
              "outlinewidth": 0,
              "ticks": ""
             }
            },
            "type": "histogram"
           }
          ],
          "histogram2d": [
           {
            "colorbar": {
             "outlinewidth": 0,
             "ticks": ""
            },
            "colorscale": [
             [
              0,
              "#0d0887"
             ],
             [
              0.1111111111111111,
              "#46039f"
             ],
             [
              0.2222222222222222,
              "#7201a8"
             ],
             [
              0.3333333333333333,
              "#9c179e"
             ],
             [
              0.4444444444444444,
              "#bd3786"
             ],
             [
              0.5555555555555556,
              "#d8576b"
             ],
             [
              0.6666666666666666,
              "#ed7953"
             ],
             [
              0.7777777777777778,
              "#fb9f3a"
             ],
             [
              0.8888888888888888,
              "#fdca26"
             ],
             [
              1,
              "#f0f921"
             ]
            ],
            "type": "histogram2d"
           }
          ],
          "histogram2dcontour": [
           {
            "colorbar": {
             "outlinewidth": 0,
             "ticks": ""
            },
            "colorscale": [
             [
              0,
              "#0d0887"
             ],
             [
              0.1111111111111111,
              "#46039f"
             ],
             [
              0.2222222222222222,
              "#7201a8"
             ],
             [
              0.3333333333333333,
              "#9c179e"
             ],
             [
              0.4444444444444444,
              "#bd3786"
             ],
             [
              0.5555555555555556,
              "#d8576b"
             ],
             [
              0.6666666666666666,
              "#ed7953"
             ],
             [
              0.7777777777777778,
              "#fb9f3a"
             ],
             [
              0.8888888888888888,
              "#fdca26"
             ],
             [
              1,
              "#f0f921"
             ]
            ],
            "type": "histogram2dcontour"
           }
          ],
          "mesh3d": [
           {
            "colorbar": {
             "outlinewidth": 0,
             "ticks": ""
            },
            "type": "mesh3d"
           }
          ],
          "parcoords": [
           {
            "line": {
             "colorbar": {
              "outlinewidth": 0,
              "ticks": ""
             }
            },
            "type": "parcoords"
           }
          ],
          "scatter": [
           {
            "marker": {
             "colorbar": {
              "outlinewidth": 0,
              "ticks": ""
             }
            },
            "type": "scatter"
           }
          ],
          "scatter3d": [
           {
            "line": {
             "colorbar": {
              "outlinewidth": 0,
              "ticks": ""
             }
            },
            "marker": {
             "colorbar": {
              "outlinewidth": 0,
              "ticks": ""
             }
            },
            "type": "scatter3d"
           }
          ],
          "scattercarpet": [
           {
            "marker": {
             "colorbar": {
              "outlinewidth": 0,
              "ticks": ""
             }
            },
            "type": "scattercarpet"
           }
          ],
          "scattergeo": [
           {
            "marker": {
             "colorbar": {
              "outlinewidth": 0,
              "ticks": ""
             }
            },
            "type": "scattergeo"
           }
          ],
          "scattergl": [
           {
            "marker": {
             "colorbar": {
              "outlinewidth": 0,
              "ticks": ""
             }
            },
            "type": "scattergl"
           }
          ],
          "scattermapbox": [
           {
            "marker": {
             "colorbar": {
              "outlinewidth": 0,
              "ticks": ""
             }
            },
            "type": "scattermapbox"
           }
          ],
          "scatterpolar": [
           {
            "marker": {
             "colorbar": {
              "outlinewidth": 0,
              "ticks": ""
             }
            },
            "type": "scatterpolar"
           }
          ],
          "scatterpolargl": [
           {
            "marker": {
             "colorbar": {
              "outlinewidth": 0,
              "ticks": ""
             }
            },
            "type": "scatterpolargl"
           }
          ],
          "scatterternary": [
           {
            "marker": {
             "colorbar": {
              "outlinewidth": 0,
              "ticks": ""
             }
            },
            "type": "scatterternary"
           }
          ],
          "surface": [
           {
            "colorbar": {
             "outlinewidth": 0,
             "ticks": ""
            },
            "colorscale": [
             [
              0,
              "#0d0887"
             ],
             [
              0.1111111111111111,
              "#46039f"
             ],
             [
              0.2222222222222222,
              "#7201a8"
             ],
             [
              0.3333333333333333,
              "#9c179e"
             ],
             [
              0.4444444444444444,
              "#bd3786"
             ],
             [
              0.5555555555555556,
              "#d8576b"
             ],
             [
              0.6666666666666666,
              "#ed7953"
             ],
             [
              0.7777777777777778,
              "#fb9f3a"
             ],
             [
              0.8888888888888888,
              "#fdca26"
             ],
             [
              1,
              "#f0f921"
             ]
            ],
            "type": "surface"
           }
          ],
          "table": [
           {
            "cells": {
             "fill": {
              "color": "#EBF0F8"
             },
             "line": {
              "color": "white"
             }
            },
            "header": {
             "fill": {
              "color": "#C8D4E3"
             },
             "line": {
              "color": "white"
             }
            },
            "type": "table"
           }
          ]
         },
         "layout": {
          "annotationdefaults": {
           "arrowcolor": "#2a3f5f",
           "arrowhead": 0,
           "arrowwidth": 1
          },
          "colorscale": {
           "diverging": [
            [
             0,
             "#8e0152"
            ],
            [
             0.1,
             "#c51b7d"
            ],
            [
             0.2,
             "#de77ae"
            ],
            [
             0.3,
             "#f1b6da"
            ],
            [
             0.4,
             "#fde0ef"
            ],
            [
             0.5,
             "#f7f7f7"
            ],
            [
             0.6,
             "#e6f5d0"
            ],
            [
             0.7,
             "#b8e186"
            ],
            [
             0.8,
             "#7fbc41"
            ],
            [
             0.9,
             "#4d9221"
            ],
            [
             1,
             "#276419"
            ]
           ],
           "sequential": [
            [
             0,
             "#0d0887"
            ],
            [
             0.1111111111111111,
             "#46039f"
            ],
            [
             0.2222222222222222,
             "#7201a8"
            ],
            [
             0.3333333333333333,
             "#9c179e"
            ],
            [
             0.4444444444444444,
             "#bd3786"
            ],
            [
             0.5555555555555556,
             "#d8576b"
            ],
            [
             0.6666666666666666,
             "#ed7953"
            ],
            [
             0.7777777777777778,
             "#fb9f3a"
            ],
            [
             0.8888888888888888,
             "#fdca26"
            ],
            [
             1,
             "#f0f921"
            ]
           ],
           "sequentialminus": [
            [
             0,
             "#0d0887"
            ],
            [
             0.1111111111111111,
             "#46039f"
            ],
            [
             0.2222222222222222,
             "#7201a8"
            ],
            [
             0.3333333333333333,
             "#9c179e"
            ],
            [
             0.4444444444444444,
             "#bd3786"
            ],
            [
             0.5555555555555556,
             "#d8576b"
            ],
            [
             0.6666666666666666,
             "#ed7953"
            ],
            [
             0.7777777777777778,
             "#fb9f3a"
            ],
            [
             0.8888888888888888,
             "#fdca26"
            ],
            [
             1,
             "#f0f921"
            ]
           ]
          },
          "colorway": [
           "#636efa",
           "#EF553B",
           "#00cc96",
           "#ab63fa",
           "#FFA15A",
           "#19d3f3",
           "#FF6692",
           "#B6E880",
           "#FF97FF",
           "#FECB52"
          ],
          "font": {
           "color": "#2a3f5f"
          },
          "geo": {
           "bgcolor": "white",
           "lakecolor": "white",
           "landcolor": "#E5ECF6",
           "showlakes": true,
           "showland": true,
           "subunitcolor": "white"
          },
          "hoverlabel": {
           "align": "left"
          },
          "hovermode": "closest",
          "mapbox": {
           "style": "light"
          },
          "paper_bgcolor": "white",
          "plot_bgcolor": "#E5ECF6",
          "polar": {
           "angularaxis": {
            "gridcolor": "white",
            "linecolor": "white",
            "ticks": ""
           },
           "bgcolor": "#E5ECF6",
           "radialaxis": {
            "gridcolor": "white",
            "linecolor": "white",
            "ticks": ""
           }
          },
          "scene": {
           "xaxis": {
            "backgroundcolor": "#E5ECF6",
            "gridcolor": "white",
            "gridwidth": 2,
            "linecolor": "white",
            "showbackground": true,
            "ticks": "",
            "zerolinecolor": "white"
           },
           "yaxis": {
            "backgroundcolor": "#E5ECF6",
            "gridcolor": "white",
            "gridwidth": 2,
            "linecolor": "white",
            "showbackground": true,
            "ticks": "",
            "zerolinecolor": "white"
           },
           "zaxis": {
            "backgroundcolor": "#E5ECF6",
            "gridcolor": "white",
            "gridwidth": 2,
            "linecolor": "white",
            "showbackground": true,
            "ticks": "",
            "zerolinecolor": "white"
           }
          },
          "shapedefaults": {
           "line": {
            "color": "#2a3f5f"
           }
          },
          "ternary": {
           "aaxis": {
            "gridcolor": "white",
            "linecolor": "white",
            "ticks": ""
           },
           "baxis": {
            "gridcolor": "white",
            "linecolor": "white",
            "ticks": ""
           },
           "bgcolor": "#E5ECF6",
           "caxis": {
            "gridcolor": "white",
            "linecolor": "white",
            "ticks": ""
           }
          },
          "title": {
           "x": 0.05
          },
          "xaxis": {
           "automargin": true,
           "gridcolor": "white",
           "linecolor": "white",
           "ticks": "",
           "zerolinecolor": "white",
           "zerolinewidth": 2
          },
          "yaxis": {
           "automargin": true,
           "gridcolor": "white",
           "linecolor": "white",
           "ticks": "",
           "zerolinecolor": "white",
           "zerolinewidth": 2
          }
         }
        },
        "title": {
         "text": "newmse:video:total_total:(click)"
        },
        "xaxis": {
         "type": "date"
        },
        "yaxis": {
         "title": {
          "text": "click"
         }
        }
       }
      },
      "text/html": [
       "<div>\n",
       "        \n",
       "        \n",
       "            <div id=\"52a5759e-5662-4c28-ba88-47437812aa46\" class=\"plotly-graph-div\" style=\"height:525px; width:100%;\"></div>\n",
       "            <script type=\"text/javascript\">\n",
       "                require([\"plotly\"], function(Plotly) {\n",
       "                    window.PLOTLYENV=window.PLOTLYENV || {};\n",
       "                    \n",
       "                if (document.getElementById(\"52a5759e-5662-4c28-ba88-47437812aa46\")) {\n",
       "                    Plotly.newPlot(\n",
       "                        '52a5759e-5662-4c28-ba88-47437812aa46',\n",
       "                        [{\"hovertext\": [\"-0.0515\", \"-0.0380\", \"-0.0049\", \"0.0181\", \"-0.0045\", \"-0.0469\", \"0.0901\", \"0.0076\", \"-0.0571\", \"-0.0468\", \"-0.0268\", \"0.0000\", \"0.0579\", \"-0.0464\", \"0.0610\", \"0.0926\", \"0.0658\", \"-0.1610\", \"0.0338\", \"-0.0809\", \"0.0069\", \"-0.0655\", \"-0.0067\", \"-0.0211\", \"-0.0323\", \"0.0201\", \"-0.0170\", \"-0.0245\", \"-0.0353\", \"-0.0445\", \"0.0318\", \"-0.0268\", \"-0.0506\", \"0.0094\", \"-0.0105\", \"-0.0059\", \"-0.0031\", \"-0.0172\", \"0.0524\", \"-0.1014\", \"0.0731\", \"0.0498\", \"0.1895\", \"-0.0505\", \"0.0090\", \"-0.1150\", \"-0.0668\", \"0.0715\", \"-0.0399\", \"0.0373\", \"-0.0634\"], \"line\": {\"shape\": \"spline\", \"smoothing\": 1.0}, \"mode\": \"lines+markers\", \"name\": \"7\", \"showlegend\": true, \"type\": \"scatter\", \"x\": [\"2020-01-12T11:00:00\", \"2020-01-12T12:00:00\", \"2020-01-12T13:00:00\", \"2020-01-12T14:00:00\", \"2020-01-12T15:00:00\", \"2020-01-12T16:00:00\", \"2020-01-12T17:00:00\", \"2020-01-12T18:00:00\", \"2020-01-12T19:00:00\", \"2020-01-12T20:00:00\", \"2020-01-12T21:00:00\", \"2020-01-12T22:00:00\", \"2020-01-12T23:00:00\", \"2020-01-13T00:00:00\", \"2020-01-13T01:00:00\", \"2020-01-13T02:00:00\", \"2020-01-13T03:00:00\", \"2020-01-13T04:00:00\", \"2020-01-13T05:00:00\", \"2020-01-13T06:00:00\", \"2020-01-13T07:00:00\", \"2020-01-13T08:00:00\", \"2020-01-13T09:00:00\", \"2020-01-13T10:00:00\", \"2020-01-13T11:00:00\", \"2020-01-13T12:00:00\", \"2020-01-13T13:00:00\", \"2020-01-13T14:00:00\", \"2020-01-13T15:00:00\", \"2020-01-13T16:00:00\", \"2020-01-13T17:00:00\", \"2020-01-13T18:00:00\", \"2020-01-13T19:00:00\", \"2020-01-13T20:00:00\", \"2020-01-13T21:00:00\", \"2020-01-13T22:00:00\", \"2020-01-13T23:00:00\", \"2020-01-14T00:00:00\", \"2020-01-14T01:00:00\", \"2020-01-14T02:00:00\", \"2020-01-14T03:00:00\", \"2020-01-14T04:00:00\", \"2020-01-14T05:00:00\", \"2020-01-14T06:00:00\", \"2020-01-14T07:00:00\", \"2020-01-14T08:00:00\", \"2020-01-14T09:00:00\", \"2020-01-14T10:00:00\", \"2020-01-14T11:00:00\", \"2020-01-14T12:00:00\", \"2020-01-14T13:00:00\"], \"y\": [5104.401064641338, 5144.322897961456, 5931.304431804315, 6056.743271966476, 6009.051190244023, 5828.340717893514, 6087.648473591015, 6119.054684868531, 6981.439575113958, 8266.500021962112, 8944.00184868573, 8606.6917879594, 6323.354311925901, 3451.13090472201, 2176.482610105097, 1451.3722276675367, 1147.9106658388932, 1037.8797549231683, 1686.7961180140167, 2715.651442337904, 4049.6389339496295, 3253.209470707114, 2404.138698042691, 3879.8398795457397, 4408.63799011788, 5395.486800776188, 5403.778513862261, 4845.872148755781, 5029.183872555019, 5083.92693044515, 5403.741348836747, 5637.170834282603, 7102.407951373416, 8686.367305979471, 8957.460145324885, 8178.923610922728, 5888.441177939819, 3299.0472700147966, 2083.395876082901, 1231.0664631652633, 1218.7033854884276, 1183.471929709015, 1937.7359813553626, 2615.3030085783057, 3872.7330254845047, 3404.190930916257, 2542.8347137445257, 4461.276674409707, 4578.04349518082, 5546.301913993624, 5305.090868203719]}, {\"line\": {\"shape\": \"spline\", \"smoothing\": 1.0}, \"mode\": \"lines+markers\", \"name\": \"456\", \"showlegend\": true, \"type\": \"scatter\", \"x\": [\"2020-01-12T11:00:00\", \"2020-01-12T12:00:00\", \"2020-01-12T13:00:00\", \"2020-01-12T14:00:00\", \"2020-01-12T15:00:00\", \"2020-01-12T16:00:00\", \"2020-01-12T17:00:00\", \"2020-01-12T18:00:00\", \"2020-01-12T19:00:00\", \"2020-01-12T20:00:00\", \"2020-01-12T21:00:00\", \"2020-01-12T22:00:00\", \"2020-01-12T23:00:00\", \"2020-01-13T00:00:00\", \"2020-01-13T01:00:00\", \"2020-01-13T02:00:00\", \"2020-01-13T03:00:00\", \"2020-01-13T04:00:00\", \"2020-01-13T05:00:00\", \"2020-01-13T06:00:00\", \"2020-01-13T07:00:00\", \"2020-01-13T08:00:00\", \"2020-01-13T09:00:00\", \"2020-01-13T10:00:00\", \"2020-01-13T11:00:00\", \"2020-01-13T12:00:00\", \"2020-01-13T13:00:00\", \"2020-01-13T14:00:00\", \"2020-01-13T15:00:00\", \"2020-01-13T16:00:00\", \"2020-01-13T17:00:00\", \"2020-01-13T18:00:00\", \"2020-01-13T19:00:00\", \"2020-01-13T20:00:00\", \"2020-01-13T21:00:00\", \"2020-01-13T22:00:00\", \"2020-01-13T23:00:00\", \"2020-01-14T00:00:00\", \"2020-01-14T01:00:00\", \"2020-01-14T02:00:00\", \"2020-01-14T03:00:00\", \"2020-01-14T04:00:00\", \"2020-01-14T05:00:00\", \"2020-01-14T06:00:00\", \"2020-01-14T07:00:00\", \"2020-01-14T08:00:00\", \"2020-01-14T09:00:00\", \"2020-01-14T10:00:00\", \"2020-01-14T11:00:00\", \"2020-01-14T12:00:00\", \"2020-01-14T13:00:00\"], \"y\": [5381.666666666667, 5347.666666666667, 5960.666666666667, 5949.0, 6036.0, 6115.0, 5584.333333333333, 6072.666666666667, 7404.333333333333, 8672.666666666666, 9190.0, 8606.333333333334, 5977.0, 3619.0, 2051.3333333333335, 1328.3333333333333, 1077.0, 1237.0, 1631.6666666666667, 2954.6666666666665, 4022.0, 3481.3333333333335, 2420.3333333333335, 3963.6666666666665, 4555.666666666667, 5289.333333333333, 5497.0, 4967.333333333333, 5213.0, 5320.666666666667, 5237.333333333333, 5792.333333333333, 7481.333333333333, 8605.333333333334, 9052.666666666666, 8227.333333333334, 5907.0, 3356.6666666666665, 1979.6666666666667, 1370.0, 1135.6666666666667, 1127.3333333333333, 1629.0, 2754.3333333333335, 3838.0, 3846.3333333333335, 2725.0, 4163.666666666667, 4768.333333333333, 5347.0, 5664.0]}],\n",
       "                        {\"hovermode\": \"x\", \"template\": {\"data\": {\"bar\": [{\"error_x\": {\"color\": \"#2a3f5f\"}, \"error_y\": {\"color\": \"#2a3f5f\"}, \"marker\": {\"line\": {\"color\": \"#E5ECF6\", \"width\": 0.5}}, \"type\": \"bar\"}], \"barpolar\": [{\"marker\": {\"line\": {\"color\": \"#E5ECF6\", \"width\": 0.5}}, \"type\": \"barpolar\"}], \"carpet\": [{\"aaxis\": {\"endlinecolor\": \"#2a3f5f\", \"gridcolor\": \"white\", \"linecolor\": \"white\", \"minorgridcolor\": \"white\", \"startlinecolor\": \"#2a3f5f\"}, \"baxis\": {\"endlinecolor\": \"#2a3f5f\", \"gridcolor\": \"white\", \"linecolor\": \"white\", \"minorgridcolor\": \"white\", \"startlinecolor\": \"#2a3f5f\"}, \"type\": \"carpet\"}], \"choropleth\": [{\"colorbar\": {\"outlinewidth\": 0, \"ticks\": \"\"}, \"type\": \"choropleth\"}], \"contour\": [{\"colorbar\": {\"outlinewidth\": 0, \"ticks\": \"\"}, \"colorscale\": [[0.0, \"#0d0887\"], [0.1111111111111111, \"#46039f\"], [0.2222222222222222, \"#7201a8\"], [0.3333333333333333, \"#9c179e\"], [0.4444444444444444, \"#bd3786\"], [0.5555555555555556, \"#d8576b\"], [0.6666666666666666, \"#ed7953\"], [0.7777777777777778, \"#fb9f3a\"], [0.8888888888888888, \"#fdca26\"], [1.0, \"#f0f921\"]], \"type\": \"contour\"}], \"contourcarpet\": [{\"colorbar\": {\"outlinewidth\": 0, \"ticks\": \"\"}, \"type\": \"contourcarpet\"}], \"heatmap\": [{\"colorbar\": {\"outlinewidth\": 0, \"ticks\": \"\"}, \"colorscale\": [[0.0, \"#0d0887\"], [0.1111111111111111, \"#46039f\"], [0.2222222222222222, \"#7201a8\"], [0.3333333333333333, \"#9c179e\"], [0.4444444444444444, \"#bd3786\"], [0.5555555555555556, \"#d8576b\"], [0.6666666666666666, \"#ed7953\"], [0.7777777777777778, \"#fb9f3a\"], [0.8888888888888888, \"#fdca26\"], [1.0, \"#f0f921\"]], \"type\": \"heatmap\"}], \"heatmapgl\": [{\"colorbar\": {\"outlinewidth\": 0, \"ticks\": \"\"}, \"colorscale\": [[0.0, \"#0d0887\"], [0.1111111111111111, \"#46039f\"], [0.2222222222222222, \"#7201a8\"], [0.3333333333333333, \"#9c179e\"], [0.4444444444444444, \"#bd3786\"], [0.5555555555555556, \"#d8576b\"], [0.6666666666666666, \"#ed7953\"], [0.7777777777777778, \"#fb9f3a\"], [0.8888888888888888, \"#fdca26\"], [1.0, \"#f0f921\"]], \"type\": \"heatmapgl\"}], \"histogram\": [{\"marker\": {\"colorbar\": {\"outlinewidth\": 0, \"ticks\": \"\"}}, \"type\": \"histogram\"}], \"histogram2d\": [{\"colorbar\": {\"outlinewidth\": 0, \"ticks\": \"\"}, \"colorscale\": [[0.0, \"#0d0887\"], [0.1111111111111111, \"#46039f\"], [0.2222222222222222, \"#7201a8\"], [0.3333333333333333, \"#9c179e\"], [0.4444444444444444, \"#bd3786\"], [0.5555555555555556, \"#d8576b\"], [0.6666666666666666, \"#ed7953\"], [0.7777777777777778, \"#fb9f3a\"], [0.8888888888888888, \"#fdca26\"], [1.0, \"#f0f921\"]], \"type\": \"histogram2d\"}], \"histogram2dcontour\": [{\"colorbar\": {\"outlinewidth\": 0, \"ticks\": \"\"}, \"colorscale\": [[0.0, \"#0d0887\"], [0.1111111111111111, \"#46039f\"], [0.2222222222222222, \"#7201a8\"], [0.3333333333333333, \"#9c179e\"], [0.4444444444444444, \"#bd3786\"], [0.5555555555555556, \"#d8576b\"], [0.6666666666666666, \"#ed7953\"], [0.7777777777777778, \"#fb9f3a\"], [0.8888888888888888, \"#fdca26\"], [1.0, \"#f0f921\"]], \"type\": \"histogram2dcontour\"}], \"mesh3d\": [{\"colorbar\": {\"outlinewidth\": 0, \"ticks\": \"\"}, \"type\": \"mesh3d\"}], \"parcoords\": [{\"line\": {\"colorbar\": {\"outlinewidth\": 0, \"ticks\": \"\"}}, \"type\": \"parcoords\"}], \"scatter\": [{\"marker\": {\"colorbar\": {\"outlinewidth\": 0, \"ticks\": \"\"}}, \"type\": \"scatter\"}], \"scatter3d\": [{\"line\": {\"colorbar\": {\"outlinewidth\": 0, \"ticks\": \"\"}}, \"marker\": {\"colorbar\": {\"outlinewidth\": 0, \"ticks\": \"\"}}, \"type\": \"scatter3d\"}], \"scattercarpet\": [{\"marker\": {\"colorbar\": {\"outlinewidth\": 0, \"ticks\": \"\"}}, \"type\": \"scattercarpet\"}], \"scattergeo\": [{\"marker\": {\"colorbar\": {\"outlinewidth\": 0, \"ticks\": \"\"}}, \"type\": \"scattergeo\"}], \"scattergl\": [{\"marker\": {\"colorbar\": {\"outlinewidth\": 0, \"ticks\": \"\"}}, \"type\": \"scattergl\"}], \"scattermapbox\": [{\"marker\": {\"colorbar\": {\"outlinewidth\": 0, \"ticks\": \"\"}}, \"type\": \"scattermapbox\"}], \"scatterpolar\": [{\"marker\": {\"colorbar\": {\"outlinewidth\": 0, \"ticks\": \"\"}}, \"type\": \"scatterpolar\"}], \"scatterpolargl\": [{\"marker\": {\"colorbar\": {\"outlinewidth\": 0, \"ticks\": \"\"}}, \"type\": \"scatterpolargl\"}], \"scatterternary\": [{\"marker\": {\"colorbar\": {\"outlinewidth\": 0, \"ticks\": \"\"}}, \"type\": \"scatterternary\"}], \"surface\": [{\"colorbar\": {\"outlinewidth\": 0, \"ticks\": \"\"}, \"colorscale\": [[0.0, \"#0d0887\"], [0.1111111111111111, \"#46039f\"], [0.2222222222222222, \"#7201a8\"], [0.3333333333333333, \"#9c179e\"], [0.4444444444444444, \"#bd3786\"], [0.5555555555555556, \"#d8576b\"], [0.6666666666666666, \"#ed7953\"], [0.7777777777777778, \"#fb9f3a\"], [0.8888888888888888, \"#fdca26\"], [1.0, \"#f0f921\"]], \"type\": \"surface\"}], \"table\": [{\"cells\": {\"fill\": {\"color\": \"#EBF0F8\"}, \"line\": {\"color\": \"white\"}}, \"header\": {\"fill\": {\"color\": \"#C8D4E3\"}, \"line\": {\"color\": \"white\"}}, \"type\": \"table\"}]}, \"layout\": {\"annotationdefaults\": {\"arrowcolor\": \"#2a3f5f\", \"arrowhead\": 0, \"arrowwidth\": 1}, \"colorscale\": {\"diverging\": [[0, \"#8e0152\"], [0.1, \"#c51b7d\"], [0.2, \"#de77ae\"], [0.3, \"#f1b6da\"], [0.4, \"#fde0ef\"], [0.5, \"#f7f7f7\"], [0.6, \"#e6f5d0\"], [0.7, \"#b8e186\"], [0.8, \"#7fbc41\"], [0.9, \"#4d9221\"], [1, \"#276419\"]], \"sequential\": [[0.0, \"#0d0887\"], [0.1111111111111111, \"#46039f\"], [0.2222222222222222, \"#7201a8\"], [0.3333333333333333, \"#9c179e\"], [0.4444444444444444, \"#bd3786\"], [0.5555555555555556, \"#d8576b\"], [0.6666666666666666, \"#ed7953\"], [0.7777777777777778, \"#fb9f3a\"], [0.8888888888888888, \"#fdca26\"], [1.0, \"#f0f921\"]], \"sequentialminus\": [[0.0, \"#0d0887\"], [0.1111111111111111, \"#46039f\"], [0.2222222222222222, \"#7201a8\"], [0.3333333333333333, \"#9c179e\"], [0.4444444444444444, \"#bd3786\"], [0.5555555555555556, \"#d8576b\"], [0.6666666666666666, \"#ed7953\"], [0.7777777777777778, \"#fb9f3a\"], [0.8888888888888888, \"#fdca26\"], [1.0, \"#f0f921\"]]}, \"colorway\": [\"#636efa\", \"#EF553B\", \"#00cc96\", \"#ab63fa\", \"#FFA15A\", \"#19d3f3\", \"#FF6692\", \"#B6E880\", \"#FF97FF\", \"#FECB52\"], \"font\": {\"color\": \"#2a3f5f\"}, \"geo\": {\"bgcolor\": \"white\", \"lakecolor\": \"white\", \"landcolor\": \"#E5ECF6\", \"showlakes\": true, \"showland\": true, \"subunitcolor\": \"white\"}, \"hoverlabel\": {\"align\": \"left\"}, \"hovermode\": \"closest\", \"mapbox\": {\"style\": \"light\"}, \"paper_bgcolor\": \"white\", \"plot_bgcolor\": \"#E5ECF6\", \"polar\": {\"angularaxis\": {\"gridcolor\": \"white\", \"linecolor\": \"white\", \"ticks\": \"\"}, \"bgcolor\": \"#E5ECF6\", \"radialaxis\": {\"gridcolor\": \"white\", \"linecolor\": \"white\", \"ticks\": \"\"}}, \"scene\": {\"xaxis\": {\"backgroundcolor\": \"#E5ECF6\", \"gridcolor\": \"white\", \"gridwidth\": 2, \"linecolor\": \"white\", \"showbackground\": true, \"ticks\": \"\", \"zerolinecolor\": \"white\"}, \"yaxis\": {\"backgroundcolor\": \"#E5ECF6\", \"gridcolor\": \"white\", \"gridwidth\": 2, \"linecolor\": \"white\", \"showbackground\": true, \"ticks\": \"\", \"zerolinecolor\": \"white\"}, \"zaxis\": {\"backgroundcolor\": \"#E5ECF6\", \"gridcolor\": \"white\", \"gridwidth\": 2, \"linecolor\": \"white\", \"showbackground\": true, \"ticks\": \"\", \"zerolinecolor\": \"white\"}}, \"shapedefaults\": {\"line\": {\"color\": \"#2a3f5f\"}}, \"ternary\": {\"aaxis\": {\"gridcolor\": \"white\", \"linecolor\": \"white\", \"ticks\": \"\"}, \"baxis\": {\"gridcolor\": \"white\", \"linecolor\": \"white\", \"ticks\": \"\"}, \"bgcolor\": \"#E5ECF6\", \"caxis\": {\"gridcolor\": \"white\", \"linecolor\": \"white\", \"ticks\": \"\"}}, \"title\": {\"x\": 0.05}, \"xaxis\": {\"automargin\": true, \"gridcolor\": \"white\", \"linecolor\": \"white\", \"ticks\": \"\", \"zerolinecolor\": \"white\", \"zerolinewidth\": 2}, \"yaxis\": {\"automargin\": true, \"gridcolor\": \"white\", \"linecolor\": \"white\", \"ticks\": \"\", \"zerolinecolor\": \"white\", \"zerolinewidth\": 2}}}, \"title\": {\"text\": \"newmse:video:total_total:(click)\"}, \"xaxis\": {\"type\": \"date\"}, \"yaxis\": {\"title\": {\"text\": \"click\"}}},\n",
       "                        {\"responsive\": true}\n",
       "                    ).then(function(){\n",
       "                            \n",
       "var gd = document.getElementById('52a5759e-5662-4c28-ba88-47437812aa46');\n",
       "var x = new MutationObserver(function (mutations, observer) {{\n",
       "        var display = window.getComputedStyle(gd).display;\n",
       "        if (!display || display === 'none') {{\n",
       "            console.log([gd, 'removed!']);\n",
       "            Plotly.purge(gd);\n",
       "            observer.disconnect();\n",
       "        }}\n",
       "}});\n",
       "\n",
       "// Listen for the removal of the full notebook cells\n",
       "var notebookContainer = gd.closest('#notebook-container');\n",
       "if (notebookContainer) {{\n",
       "    x.observe(notebookContainer, {childList: true});\n",
       "}}\n",
       "\n",
       "// Listen for the clearing of the current output cell\n",
       "var outputEl = gd.closest('.output');\n",
       "if (outputEl) {{\n",
       "    x.observe(outputEl, {childList: true});\n",
       "}}\n",
       "\n",
       "                        })\n",
       "                };\n",
       "                });\n",
       "            </script>\n",
       "        </div>"
      ]
     },
     "metadata": {},
     "output_type": "display_data"
    },
    {
     "data": {
      "application/vnd.plotly.v1+json": {
       "config": {
        "linkText": "Export to plot.ly",
        "plotlyServerURL": "https://plot.ly",
        "showLink": false
       },
       "data": [
        {
         "hovertext": [
          "-0.0866",
          "-0.1450",
          "-0.1097",
          "-0.0678",
          "-0.0458",
          "-0.1520",
          "-0.0128",
          "-0.1278",
          "-0.1546",
          "-0.2011",
          "-0.1858",
          "-0.1281",
          "-0.1540",
          "-0.1913",
          "-0.1106",
          "-0.0560",
          "-0.0261",
          "-0.1472",
          "-0.1122",
          "-0.1298",
          "-0.0487",
          "-0.1455",
          "-0.1198",
          "-0.0051",
          "-0.1010",
          "-0.0656",
          "-0.0958",
          "-0.0671",
          "-0.0551",
          "-0.1711",
          "-0.0961",
          "-0.1443",
          "-0.1567",
          "-0.0760",
          "-0.1369",
          "-0.0774",
          "-0.1579",
          "-0.1581",
          "-0.0774",
          "-0.1117",
          "0.0034",
          "-0.0617",
          "0.1582",
          "-0.0597",
          "-0.0848",
          "-0.1192",
          "-0.1074",
          "-0.0095",
          "-0.0839",
          "-0.0079",
          "-0.1244"
         ],
         "line": {
          "shape": "spline",
          "smoothing": 1
         },
         "mode": "lines+markers",
         "name": "7",
         "showlegend": true,
         "type": "scatter",
         "x": [
          "2020-01-12T11:00:00",
          "2020-01-12T12:00:00",
          "2020-01-12T13:00:00",
          "2020-01-12T14:00:00",
          "2020-01-12T15:00:00",
          "2020-01-12T16:00:00",
          "2020-01-12T17:00:00",
          "2020-01-12T18:00:00",
          "2020-01-12T19:00:00",
          "2020-01-12T20:00:00",
          "2020-01-12T21:00:00",
          "2020-01-12T22:00:00",
          "2020-01-12T23:00:00",
          "2020-01-13T00:00:00",
          "2020-01-13T01:00:00",
          "2020-01-13T02:00:00",
          "2020-01-13T03:00:00",
          "2020-01-13T04:00:00",
          "2020-01-13T05:00:00",
          "2020-01-13T06:00:00",
          "2020-01-13T07:00:00",
          "2020-01-13T08:00:00",
          "2020-01-13T09:00:00",
          "2020-01-13T10:00:00",
          "2020-01-13T11:00:00",
          "2020-01-13T12:00:00",
          "2020-01-13T13:00:00",
          "2020-01-13T14:00:00",
          "2020-01-13T15:00:00",
          "2020-01-13T16:00:00",
          "2020-01-13T17:00:00",
          "2020-01-13T18:00:00",
          "2020-01-13T19:00:00",
          "2020-01-13T20:00:00",
          "2020-01-13T21:00:00",
          "2020-01-13T22:00:00",
          "2020-01-13T23:00:00",
          "2020-01-14T00:00:00",
          "2020-01-14T01:00:00",
          "2020-01-14T02:00:00",
          "2020-01-14T03:00:00",
          "2020-01-14T04:00:00",
          "2020-01-14T05:00:00",
          "2020-01-14T06:00:00",
          "2020-01-14T07:00:00",
          "2020-01-14T08:00:00",
          "2020-01-14T09:00:00",
          "2020-01-14T10:00:00",
          "2020-01-14T11:00:00",
          "2020-01-14T12:00:00",
          "2020-01-14T13:00:00"
         ],
         "y": [
          11410.66736525536,
          11197.137064448234,
          12555.596784725787,
          13348.29443833016,
          13690.026363098576,
          11970.288790081731,
          13231.8186074092,
          12973.469723534752,
          15066.62831735164,
          17150.94951355758,
          18568.54912963978,
          19062.180802107752,
          13752.91547413465,
          8180.640708054724,
          5206.803983137332,
          3402.486935994343,
          2657.1571941940692,
          2435.314405184794,
          3479.002634402905,
          6288.047999987517,
          9282.8832269632,
          7125.886364537945,
          3855.138274647773,
          8112.380109367171,
          8809.639052834245,
          10852.709005463905,
          11308.312057011133,
          10268.51941958632,
          10750.978383456697,
          9746.236322059938,
          10658.25545610003,
          11647.325792750931,
          14912.7969730443,
          19054.127225858676,
          19012.340556130483,
          19099.006128143177,
          12999.355511311325,
          7625.713019650116,
          4949.9104840573045,
          3322.283727545277,
          2914.302065505186,
          2675.8043045151717,
          4564.022530648424,
          6246.59579357936,
          8792.001992057252,
          7953.506016452324,
          4727.304155013723,
          8941.205821123844,
          9749.244848115166,
          12108.983194983173,
          11887.408444848537
         ]
        },
        {
         "line": {
          "shape": "spline",
          "smoothing": 1
         },
         "mode": "lines+markers",
         "name": "456",
         "showlegend": true,
         "type": "scatter",
         "x": [
          "2020-01-12T11:00:00",
          "2020-01-12T12:00:00",
          "2020-01-12T13:00:00",
          "2020-01-12T14:00:00",
          "2020-01-12T15:00:00",
          "2020-01-12T16:00:00",
          "2020-01-12T17:00:00",
          "2020-01-12T18:00:00",
          "2020-01-12T19:00:00",
          "2020-01-12T20:00:00",
          "2020-01-12T21:00:00",
          "2020-01-12T22:00:00",
          "2020-01-12T23:00:00",
          "2020-01-13T00:00:00",
          "2020-01-13T01:00:00",
          "2020-01-13T02:00:00",
          "2020-01-13T03:00:00",
          "2020-01-13T04:00:00",
          "2020-01-13T05:00:00",
          "2020-01-13T06:00:00",
          "2020-01-13T07:00:00",
          "2020-01-13T08:00:00",
          "2020-01-13T09:00:00",
          "2020-01-13T10:00:00",
          "2020-01-13T11:00:00",
          "2020-01-13T12:00:00",
          "2020-01-13T13:00:00",
          "2020-01-13T14:00:00",
          "2020-01-13T15:00:00",
          "2020-01-13T16:00:00",
          "2020-01-13T17:00:00",
          "2020-01-13T18:00:00",
          "2020-01-13T19:00:00",
          "2020-01-13T20:00:00",
          "2020-01-13T21:00:00",
          "2020-01-13T22:00:00",
          "2020-01-13T23:00:00",
          "2020-01-14T00:00:00",
          "2020-01-14T01:00:00",
          "2020-01-14T02:00:00",
          "2020-01-14T03:00:00",
          "2020-01-14T04:00:00",
          "2020-01-14T05:00:00",
          "2020-01-14T06:00:00",
          "2020-01-14T07:00:00",
          "2020-01-14T08:00:00",
          "2020-01-14T09:00:00",
          "2020-01-14T10:00:00",
          "2020-01-14T11:00:00",
          "2020-01-14T12:00:00",
          "2020-01-14T13:00:00"
         ],
         "y": [
          12492.255555555554,
          13096.022222222222,
          14102.75,
          14318.449999999999,
          14346.833333333334,
          14116.183333333332,
          13402.861111111111,
          14874.166666666666,
          17821.57777777778,
          21467.216666666664,
          22806.07777777778,
          21863.92222222222,
          16256.033333333335,
          10115.761111111111,
          5854.4111111111115,
          3604.15,
          2728.338888888889,
          2855.5833333333335,
          3918.8111111111116,
          7225.938888888889,
          9758.077777777777,
          8339.561111111112,
          4379.63888888889,
          8153.705555555556,
          9798.888888888889,
          11614.544444444444,
          12507.033333333333,
          11007.544444444444,
          11378.311111111112,
          11758.166666666666,
          11791.372222222222,
          13610.677777777777,
          17684.38888888889,
          20620.46111111111,
          22027.100000000002,
          20700.605555555554,
          15436.944444444443,
          9058.077777777777,
          5365.122222222222,
          3740.0499999999997,
          2904.3777777777777,
          2851.8444444444444,
          3940.672222222222,
          6642.905555555556,
          9606.205555555554,
          9029.516666666668,
          5296.172222222222,
          9026.916666666666,
          10642.283333333333,
          12205.694444444445,
          13576.333333333334
         ]
        }
       ],
       "layout": {
        "hovermode": "x",
        "template": {
         "data": {
          "bar": [
           {
            "error_x": {
             "color": "#2a3f5f"
            },
            "error_y": {
             "color": "#2a3f5f"
            },
            "marker": {
             "line": {
              "color": "#E5ECF6",
              "width": 0.5
             }
            },
            "type": "bar"
           }
          ],
          "barpolar": [
           {
            "marker": {
             "line": {
              "color": "#E5ECF6",
              "width": 0.5
             }
            },
            "type": "barpolar"
           }
          ],
          "carpet": [
           {
            "aaxis": {
             "endlinecolor": "#2a3f5f",
             "gridcolor": "white",
             "linecolor": "white",
             "minorgridcolor": "white",
             "startlinecolor": "#2a3f5f"
            },
            "baxis": {
             "endlinecolor": "#2a3f5f",
             "gridcolor": "white",
             "linecolor": "white",
             "minorgridcolor": "white",
             "startlinecolor": "#2a3f5f"
            },
            "type": "carpet"
           }
          ],
          "choropleth": [
           {
            "colorbar": {
             "outlinewidth": 0,
             "ticks": ""
            },
            "type": "choropleth"
           }
          ],
          "contour": [
           {
            "colorbar": {
             "outlinewidth": 0,
             "ticks": ""
            },
            "colorscale": [
             [
              0,
              "#0d0887"
             ],
             [
              0.1111111111111111,
              "#46039f"
             ],
             [
              0.2222222222222222,
              "#7201a8"
             ],
             [
              0.3333333333333333,
              "#9c179e"
             ],
             [
              0.4444444444444444,
              "#bd3786"
             ],
             [
              0.5555555555555556,
              "#d8576b"
             ],
             [
              0.6666666666666666,
              "#ed7953"
             ],
             [
              0.7777777777777778,
              "#fb9f3a"
             ],
             [
              0.8888888888888888,
              "#fdca26"
             ],
             [
              1,
              "#f0f921"
             ]
            ],
            "type": "contour"
           }
          ],
          "contourcarpet": [
           {
            "colorbar": {
             "outlinewidth": 0,
             "ticks": ""
            },
            "type": "contourcarpet"
           }
          ],
          "heatmap": [
           {
            "colorbar": {
             "outlinewidth": 0,
             "ticks": ""
            },
            "colorscale": [
             [
              0,
              "#0d0887"
             ],
             [
              0.1111111111111111,
              "#46039f"
             ],
             [
              0.2222222222222222,
              "#7201a8"
             ],
             [
              0.3333333333333333,
              "#9c179e"
             ],
             [
              0.4444444444444444,
              "#bd3786"
             ],
             [
              0.5555555555555556,
              "#d8576b"
             ],
             [
              0.6666666666666666,
              "#ed7953"
             ],
             [
              0.7777777777777778,
              "#fb9f3a"
             ],
             [
              0.8888888888888888,
              "#fdca26"
             ],
             [
              1,
              "#f0f921"
             ]
            ],
            "type": "heatmap"
           }
          ],
          "heatmapgl": [
           {
            "colorbar": {
             "outlinewidth": 0,
             "ticks": ""
            },
            "colorscale": [
             [
              0,
              "#0d0887"
             ],
             [
              0.1111111111111111,
              "#46039f"
             ],
             [
              0.2222222222222222,
              "#7201a8"
             ],
             [
              0.3333333333333333,
              "#9c179e"
             ],
             [
              0.4444444444444444,
              "#bd3786"
             ],
             [
              0.5555555555555556,
              "#d8576b"
             ],
             [
              0.6666666666666666,
              "#ed7953"
             ],
             [
              0.7777777777777778,
              "#fb9f3a"
             ],
             [
              0.8888888888888888,
              "#fdca26"
             ],
             [
              1,
              "#f0f921"
             ]
            ],
            "type": "heatmapgl"
           }
          ],
          "histogram": [
           {
            "marker": {
             "colorbar": {
              "outlinewidth": 0,
              "ticks": ""
             }
            },
            "type": "histogram"
           }
          ],
          "histogram2d": [
           {
            "colorbar": {
             "outlinewidth": 0,
             "ticks": ""
            },
            "colorscale": [
             [
              0,
              "#0d0887"
             ],
             [
              0.1111111111111111,
              "#46039f"
             ],
             [
              0.2222222222222222,
              "#7201a8"
             ],
             [
              0.3333333333333333,
              "#9c179e"
             ],
             [
              0.4444444444444444,
              "#bd3786"
             ],
             [
              0.5555555555555556,
              "#d8576b"
             ],
             [
              0.6666666666666666,
              "#ed7953"
             ],
             [
              0.7777777777777778,
              "#fb9f3a"
             ],
             [
              0.8888888888888888,
              "#fdca26"
             ],
             [
              1,
              "#f0f921"
             ]
            ],
            "type": "histogram2d"
           }
          ],
          "histogram2dcontour": [
           {
            "colorbar": {
             "outlinewidth": 0,
             "ticks": ""
            },
            "colorscale": [
             [
              0,
              "#0d0887"
             ],
             [
              0.1111111111111111,
              "#46039f"
             ],
             [
              0.2222222222222222,
              "#7201a8"
             ],
             [
              0.3333333333333333,
              "#9c179e"
             ],
             [
              0.4444444444444444,
              "#bd3786"
             ],
             [
              0.5555555555555556,
              "#d8576b"
             ],
             [
              0.6666666666666666,
              "#ed7953"
             ],
             [
              0.7777777777777778,
              "#fb9f3a"
             ],
             [
              0.8888888888888888,
              "#fdca26"
             ],
             [
              1,
              "#f0f921"
             ]
            ],
            "type": "histogram2dcontour"
           }
          ],
          "mesh3d": [
           {
            "colorbar": {
             "outlinewidth": 0,
             "ticks": ""
            },
            "type": "mesh3d"
           }
          ],
          "parcoords": [
           {
            "line": {
             "colorbar": {
              "outlinewidth": 0,
              "ticks": ""
             }
            },
            "type": "parcoords"
           }
          ],
          "scatter": [
           {
            "marker": {
             "colorbar": {
              "outlinewidth": 0,
              "ticks": ""
             }
            },
            "type": "scatter"
           }
          ],
          "scatter3d": [
           {
            "line": {
             "colorbar": {
              "outlinewidth": 0,
              "ticks": ""
             }
            },
            "marker": {
             "colorbar": {
              "outlinewidth": 0,
              "ticks": ""
             }
            },
            "type": "scatter3d"
           }
          ],
          "scattercarpet": [
           {
            "marker": {
             "colorbar": {
              "outlinewidth": 0,
              "ticks": ""
             }
            },
            "type": "scattercarpet"
           }
          ],
          "scattergeo": [
           {
            "marker": {
             "colorbar": {
              "outlinewidth": 0,
              "ticks": ""
             }
            },
            "type": "scattergeo"
           }
          ],
          "scattergl": [
           {
            "marker": {
             "colorbar": {
              "outlinewidth": 0,
              "ticks": ""
             }
            },
            "type": "scattergl"
           }
          ],
          "scattermapbox": [
           {
            "marker": {
             "colorbar": {
              "outlinewidth": 0,
              "ticks": ""
             }
            },
            "type": "scattermapbox"
           }
          ],
          "scatterpolar": [
           {
            "marker": {
             "colorbar": {
              "outlinewidth": 0,
              "ticks": ""
             }
            },
            "type": "scatterpolar"
           }
          ],
          "scatterpolargl": [
           {
            "marker": {
             "colorbar": {
              "outlinewidth": 0,
              "ticks": ""
             }
            },
            "type": "scatterpolargl"
           }
          ],
          "scatterternary": [
           {
            "marker": {
             "colorbar": {
              "outlinewidth": 0,
              "ticks": ""
             }
            },
            "type": "scatterternary"
           }
          ],
          "surface": [
           {
            "colorbar": {
             "outlinewidth": 0,
             "ticks": ""
            },
            "colorscale": [
             [
              0,
              "#0d0887"
             ],
             [
              0.1111111111111111,
              "#46039f"
             ],
             [
              0.2222222222222222,
              "#7201a8"
             ],
             [
              0.3333333333333333,
              "#9c179e"
             ],
             [
              0.4444444444444444,
              "#bd3786"
             ],
             [
              0.5555555555555556,
              "#d8576b"
             ],
             [
              0.6666666666666666,
              "#ed7953"
             ],
             [
              0.7777777777777778,
              "#fb9f3a"
             ],
             [
              0.8888888888888888,
              "#fdca26"
             ],
             [
              1,
              "#f0f921"
             ]
            ],
            "type": "surface"
           }
          ],
          "table": [
           {
            "cells": {
             "fill": {
              "color": "#EBF0F8"
             },
             "line": {
              "color": "white"
             }
            },
            "header": {
             "fill": {
              "color": "#C8D4E3"
             },
             "line": {
              "color": "white"
             }
            },
            "type": "table"
           }
          ]
         },
         "layout": {
          "annotationdefaults": {
           "arrowcolor": "#2a3f5f",
           "arrowhead": 0,
           "arrowwidth": 1
          },
          "colorscale": {
           "diverging": [
            [
             0,
             "#8e0152"
            ],
            [
             0.1,
             "#c51b7d"
            ],
            [
             0.2,
             "#de77ae"
            ],
            [
             0.3,
             "#f1b6da"
            ],
            [
             0.4,
             "#fde0ef"
            ],
            [
             0.5,
             "#f7f7f7"
            ],
            [
             0.6,
             "#e6f5d0"
            ],
            [
             0.7,
             "#b8e186"
            ],
            [
             0.8,
             "#7fbc41"
            ],
            [
             0.9,
             "#4d9221"
            ],
            [
             1,
             "#276419"
            ]
           ],
           "sequential": [
            [
             0,
             "#0d0887"
            ],
            [
             0.1111111111111111,
             "#46039f"
            ],
            [
             0.2222222222222222,
             "#7201a8"
            ],
            [
             0.3333333333333333,
             "#9c179e"
            ],
            [
             0.4444444444444444,
             "#bd3786"
            ],
            [
             0.5555555555555556,
             "#d8576b"
            ],
            [
             0.6666666666666666,
             "#ed7953"
            ],
            [
             0.7777777777777778,
             "#fb9f3a"
            ],
            [
             0.8888888888888888,
             "#fdca26"
            ],
            [
             1,
             "#f0f921"
            ]
           ],
           "sequentialminus": [
            [
             0,
             "#0d0887"
            ],
            [
             0.1111111111111111,
             "#46039f"
            ],
            [
             0.2222222222222222,
             "#7201a8"
            ],
            [
             0.3333333333333333,
             "#9c179e"
            ],
            [
             0.4444444444444444,
             "#bd3786"
            ],
            [
             0.5555555555555556,
             "#d8576b"
            ],
            [
             0.6666666666666666,
             "#ed7953"
            ],
            [
             0.7777777777777778,
             "#fb9f3a"
            ],
            [
             0.8888888888888888,
             "#fdca26"
            ],
            [
             1,
             "#f0f921"
            ]
           ]
          },
          "colorway": [
           "#636efa",
           "#EF553B",
           "#00cc96",
           "#ab63fa",
           "#FFA15A",
           "#19d3f3",
           "#FF6692",
           "#B6E880",
           "#FF97FF",
           "#FECB52"
          ],
          "font": {
           "color": "#2a3f5f"
          },
          "geo": {
           "bgcolor": "white",
           "lakecolor": "white",
           "landcolor": "#E5ECF6",
           "showlakes": true,
           "showland": true,
           "subunitcolor": "white"
          },
          "hoverlabel": {
           "align": "left"
          },
          "hovermode": "closest",
          "mapbox": {
           "style": "light"
          },
          "paper_bgcolor": "white",
          "plot_bgcolor": "#E5ECF6",
          "polar": {
           "angularaxis": {
            "gridcolor": "white",
            "linecolor": "white",
            "ticks": ""
           },
           "bgcolor": "#E5ECF6",
           "radialaxis": {
            "gridcolor": "white",
            "linecolor": "white",
            "ticks": ""
           }
          },
          "scene": {
           "xaxis": {
            "backgroundcolor": "#E5ECF6",
            "gridcolor": "white",
            "gridwidth": 2,
            "linecolor": "white",
            "showbackground": true,
            "ticks": "",
            "zerolinecolor": "white"
           },
           "yaxis": {
            "backgroundcolor": "#E5ECF6",
            "gridcolor": "white",
            "gridwidth": 2,
            "linecolor": "white",
            "showbackground": true,
            "ticks": "",
            "zerolinecolor": "white"
           },
           "zaxis": {
            "backgroundcolor": "#E5ECF6",
            "gridcolor": "white",
            "gridwidth": 2,
            "linecolor": "white",
            "showbackground": true,
            "ticks": "",
            "zerolinecolor": "white"
           }
          },
          "shapedefaults": {
           "line": {
            "color": "#2a3f5f"
           }
          },
          "ternary": {
           "aaxis": {
            "gridcolor": "white",
            "linecolor": "white",
            "ticks": ""
           },
           "baxis": {
            "gridcolor": "white",
            "linecolor": "white",
            "ticks": ""
           },
           "bgcolor": "#E5ECF6",
           "caxis": {
            "gridcolor": "white",
            "linecolor": "white",
            "ticks": ""
           }
          },
          "title": {
           "x": 0.05
          },
          "xaxis": {
           "automargin": true,
           "gridcolor": "white",
           "linecolor": "white",
           "ticks": "",
           "zerolinecolor": "white",
           "zerolinewidth": 2
          },
          "yaxis": {
           "automargin": true,
           "gridcolor": "white",
           "linecolor": "white",
           "ticks": "",
           "zerolinecolor": "white",
           "zerolinewidth": 2
          }
         }
        },
        "title": {
         "text": "newmse:video:total_total:(duration)"
        },
        "xaxis": {
         "type": "date"
        },
        "yaxis": {
         "title": {
          "text": "duration"
         }
        }
       }
      },
      "text/html": [
       "<div>\n",
       "        \n",
       "        \n",
       "            <div id=\"d8e6834e-9225-40f4-a9a5-b465dd1a1662\" class=\"plotly-graph-div\" style=\"height:525px; width:100%;\"></div>\n",
       "            <script type=\"text/javascript\">\n",
       "                require([\"plotly\"], function(Plotly) {\n",
       "                    window.PLOTLYENV=window.PLOTLYENV || {};\n",
       "                    \n",
       "                if (document.getElementById(\"d8e6834e-9225-40f4-a9a5-b465dd1a1662\")) {\n",
       "                    Plotly.newPlot(\n",
       "                        'd8e6834e-9225-40f4-a9a5-b465dd1a1662',\n",
       "                        [{\"hovertext\": [\"-0.0866\", \"-0.1450\", \"-0.1097\", \"-0.0678\", \"-0.0458\", \"-0.1520\", \"-0.0128\", \"-0.1278\", \"-0.1546\", \"-0.2011\", \"-0.1858\", \"-0.1281\", \"-0.1540\", \"-0.1913\", \"-0.1106\", \"-0.0560\", \"-0.0261\", \"-0.1472\", \"-0.1122\", \"-0.1298\", \"-0.0487\", \"-0.1455\", \"-0.1198\", \"-0.0051\", \"-0.1010\", \"-0.0656\", \"-0.0958\", \"-0.0671\", \"-0.0551\", \"-0.1711\", \"-0.0961\", \"-0.1443\", \"-0.1567\", \"-0.0760\", \"-0.1369\", \"-0.0774\", \"-0.1579\", \"-0.1581\", \"-0.0774\", \"-0.1117\", \"0.0034\", \"-0.0617\", \"0.1582\", \"-0.0597\", \"-0.0848\", \"-0.1192\", \"-0.1074\", \"-0.0095\", \"-0.0839\", \"-0.0079\", \"-0.1244\"], \"line\": {\"shape\": \"spline\", \"smoothing\": 1.0}, \"mode\": \"lines+markers\", \"name\": \"7\", \"showlegend\": true, \"type\": \"scatter\", \"x\": [\"2020-01-12T11:00:00\", \"2020-01-12T12:00:00\", \"2020-01-12T13:00:00\", \"2020-01-12T14:00:00\", \"2020-01-12T15:00:00\", \"2020-01-12T16:00:00\", \"2020-01-12T17:00:00\", \"2020-01-12T18:00:00\", \"2020-01-12T19:00:00\", \"2020-01-12T20:00:00\", \"2020-01-12T21:00:00\", \"2020-01-12T22:00:00\", \"2020-01-12T23:00:00\", \"2020-01-13T00:00:00\", \"2020-01-13T01:00:00\", \"2020-01-13T02:00:00\", \"2020-01-13T03:00:00\", \"2020-01-13T04:00:00\", \"2020-01-13T05:00:00\", \"2020-01-13T06:00:00\", \"2020-01-13T07:00:00\", \"2020-01-13T08:00:00\", \"2020-01-13T09:00:00\", \"2020-01-13T10:00:00\", \"2020-01-13T11:00:00\", \"2020-01-13T12:00:00\", \"2020-01-13T13:00:00\", \"2020-01-13T14:00:00\", \"2020-01-13T15:00:00\", \"2020-01-13T16:00:00\", \"2020-01-13T17:00:00\", \"2020-01-13T18:00:00\", \"2020-01-13T19:00:00\", \"2020-01-13T20:00:00\", \"2020-01-13T21:00:00\", \"2020-01-13T22:00:00\", \"2020-01-13T23:00:00\", \"2020-01-14T00:00:00\", \"2020-01-14T01:00:00\", \"2020-01-14T02:00:00\", \"2020-01-14T03:00:00\", \"2020-01-14T04:00:00\", \"2020-01-14T05:00:00\", \"2020-01-14T06:00:00\", \"2020-01-14T07:00:00\", \"2020-01-14T08:00:00\", \"2020-01-14T09:00:00\", \"2020-01-14T10:00:00\", \"2020-01-14T11:00:00\", \"2020-01-14T12:00:00\", \"2020-01-14T13:00:00\"], \"y\": [11410.66736525536, 11197.137064448234, 12555.596784725787, 13348.29443833016, 13690.026363098576, 11970.288790081731, 13231.8186074092, 12973.469723534752, 15066.62831735164, 17150.94951355758, 18568.54912963978, 19062.180802107752, 13752.91547413465, 8180.640708054724, 5206.803983137332, 3402.486935994343, 2657.1571941940692, 2435.314405184794, 3479.002634402905, 6288.047999987517, 9282.8832269632, 7125.886364537945, 3855.138274647773, 8112.380109367171, 8809.639052834245, 10852.709005463905, 11308.312057011133, 10268.51941958632, 10750.978383456697, 9746.236322059938, 10658.25545610003, 11647.325792750931, 14912.7969730443, 19054.127225858676, 19012.340556130483, 19099.006128143177, 12999.355511311325, 7625.713019650116, 4949.9104840573045, 3322.283727545277, 2914.302065505186, 2675.8043045151717, 4564.022530648424, 6246.59579357936, 8792.001992057252, 7953.506016452324, 4727.304155013723, 8941.205821123844, 9749.244848115166, 12108.983194983173, 11887.408444848537]}, {\"line\": {\"shape\": \"spline\", \"smoothing\": 1.0}, \"mode\": \"lines+markers\", \"name\": \"456\", \"showlegend\": true, \"type\": \"scatter\", \"x\": [\"2020-01-12T11:00:00\", \"2020-01-12T12:00:00\", \"2020-01-12T13:00:00\", \"2020-01-12T14:00:00\", \"2020-01-12T15:00:00\", \"2020-01-12T16:00:00\", \"2020-01-12T17:00:00\", \"2020-01-12T18:00:00\", \"2020-01-12T19:00:00\", \"2020-01-12T20:00:00\", \"2020-01-12T21:00:00\", \"2020-01-12T22:00:00\", \"2020-01-12T23:00:00\", \"2020-01-13T00:00:00\", \"2020-01-13T01:00:00\", \"2020-01-13T02:00:00\", \"2020-01-13T03:00:00\", \"2020-01-13T04:00:00\", \"2020-01-13T05:00:00\", \"2020-01-13T06:00:00\", \"2020-01-13T07:00:00\", \"2020-01-13T08:00:00\", \"2020-01-13T09:00:00\", \"2020-01-13T10:00:00\", \"2020-01-13T11:00:00\", \"2020-01-13T12:00:00\", \"2020-01-13T13:00:00\", \"2020-01-13T14:00:00\", \"2020-01-13T15:00:00\", \"2020-01-13T16:00:00\", \"2020-01-13T17:00:00\", \"2020-01-13T18:00:00\", \"2020-01-13T19:00:00\", \"2020-01-13T20:00:00\", \"2020-01-13T21:00:00\", \"2020-01-13T22:00:00\", \"2020-01-13T23:00:00\", \"2020-01-14T00:00:00\", \"2020-01-14T01:00:00\", \"2020-01-14T02:00:00\", \"2020-01-14T03:00:00\", \"2020-01-14T04:00:00\", \"2020-01-14T05:00:00\", \"2020-01-14T06:00:00\", \"2020-01-14T07:00:00\", \"2020-01-14T08:00:00\", \"2020-01-14T09:00:00\", \"2020-01-14T10:00:00\", \"2020-01-14T11:00:00\", \"2020-01-14T12:00:00\", \"2020-01-14T13:00:00\"], \"y\": [12492.255555555554, 13096.022222222222, 14102.75, 14318.449999999999, 14346.833333333334, 14116.183333333332, 13402.861111111111, 14874.166666666666, 17821.57777777778, 21467.216666666664, 22806.07777777778, 21863.92222222222, 16256.033333333335, 10115.761111111111, 5854.4111111111115, 3604.15, 2728.338888888889, 2855.5833333333335, 3918.8111111111116, 7225.938888888889, 9758.077777777777, 8339.561111111112, 4379.63888888889, 8153.705555555556, 9798.888888888889, 11614.544444444444, 12507.033333333333, 11007.544444444444, 11378.311111111112, 11758.166666666666, 11791.372222222222, 13610.677777777777, 17684.38888888889, 20620.46111111111, 22027.100000000002, 20700.605555555554, 15436.944444444443, 9058.077777777777, 5365.122222222222, 3740.0499999999997, 2904.3777777777777, 2851.8444444444444, 3940.672222222222, 6642.905555555556, 9606.205555555554, 9029.516666666668, 5296.172222222222, 9026.916666666666, 10642.283333333333, 12205.694444444445, 13576.333333333334]}],\n",
       "                        {\"hovermode\": \"x\", \"template\": {\"data\": {\"bar\": [{\"error_x\": {\"color\": \"#2a3f5f\"}, \"error_y\": {\"color\": \"#2a3f5f\"}, \"marker\": {\"line\": {\"color\": \"#E5ECF6\", \"width\": 0.5}}, \"type\": \"bar\"}], \"barpolar\": [{\"marker\": {\"line\": {\"color\": \"#E5ECF6\", \"width\": 0.5}}, \"type\": \"barpolar\"}], \"carpet\": [{\"aaxis\": {\"endlinecolor\": \"#2a3f5f\", \"gridcolor\": \"white\", \"linecolor\": \"white\", \"minorgridcolor\": \"white\", \"startlinecolor\": \"#2a3f5f\"}, \"baxis\": {\"endlinecolor\": \"#2a3f5f\", \"gridcolor\": \"white\", \"linecolor\": \"white\", \"minorgridcolor\": \"white\", \"startlinecolor\": \"#2a3f5f\"}, \"type\": \"carpet\"}], \"choropleth\": [{\"colorbar\": {\"outlinewidth\": 0, \"ticks\": \"\"}, \"type\": \"choropleth\"}], \"contour\": [{\"colorbar\": {\"outlinewidth\": 0, \"ticks\": \"\"}, \"colorscale\": [[0.0, \"#0d0887\"], [0.1111111111111111, \"#46039f\"], [0.2222222222222222, \"#7201a8\"], [0.3333333333333333, \"#9c179e\"], [0.4444444444444444, \"#bd3786\"], [0.5555555555555556, \"#d8576b\"], [0.6666666666666666, \"#ed7953\"], [0.7777777777777778, \"#fb9f3a\"], [0.8888888888888888, \"#fdca26\"], [1.0, \"#f0f921\"]], \"type\": \"contour\"}], \"contourcarpet\": [{\"colorbar\": {\"outlinewidth\": 0, \"ticks\": \"\"}, \"type\": \"contourcarpet\"}], \"heatmap\": [{\"colorbar\": {\"outlinewidth\": 0, \"ticks\": \"\"}, \"colorscale\": [[0.0, \"#0d0887\"], [0.1111111111111111, \"#46039f\"], [0.2222222222222222, \"#7201a8\"], [0.3333333333333333, \"#9c179e\"], [0.4444444444444444, \"#bd3786\"], [0.5555555555555556, \"#d8576b\"], [0.6666666666666666, \"#ed7953\"], [0.7777777777777778, \"#fb9f3a\"], [0.8888888888888888, \"#fdca26\"], [1.0, \"#f0f921\"]], \"type\": \"heatmap\"}], \"heatmapgl\": [{\"colorbar\": {\"outlinewidth\": 0, \"ticks\": \"\"}, \"colorscale\": [[0.0, \"#0d0887\"], [0.1111111111111111, \"#46039f\"], [0.2222222222222222, \"#7201a8\"], [0.3333333333333333, \"#9c179e\"], [0.4444444444444444, \"#bd3786\"], [0.5555555555555556, \"#d8576b\"], [0.6666666666666666, \"#ed7953\"], [0.7777777777777778, \"#fb9f3a\"], [0.8888888888888888, \"#fdca26\"], [1.0, \"#f0f921\"]], \"type\": \"heatmapgl\"}], \"histogram\": [{\"marker\": {\"colorbar\": {\"outlinewidth\": 0, \"ticks\": \"\"}}, \"type\": \"histogram\"}], \"histogram2d\": [{\"colorbar\": {\"outlinewidth\": 0, \"ticks\": \"\"}, \"colorscale\": [[0.0, \"#0d0887\"], [0.1111111111111111, \"#46039f\"], [0.2222222222222222, \"#7201a8\"], [0.3333333333333333, \"#9c179e\"], [0.4444444444444444, \"#bd3786\"], [0.5555555555555556, \"#d8576b\"], [0.6666666666666666, \"#ed7953\"], [0.7777777777777778, \"#fb9f3a\"], [0.8888888888888888, \"#fdca26\"], [1.0, \"#f0f921\"]], \"type\": \"histogram2d\"}], \"histogram2dcontour\": [{\"colorbar\": {\"outlinewidth\": 0, \"ticks\": \"\"}, \"colorscale\": [[0.0, \"#0d0887\"], [0.1111111111111111, \"#46039f\"], [0.2222222222222222, \"#7201a8\"], [0.3333333333333333, \"#9c179e\"], [0.4444444444444444, \"#bd3786\"], [0.5555555555555556, \"#d8576b\"], [0.6666666666666666, \"#ed7953\"], [0.7777777777777778, \"#fb9f3a\"], [0.8888888888888888, \"#fdca26\"], [1.0, \"#f0f921\"]], \"type\": \"histogram2dcontour\"}], \"mesh3d\": [{\"colorbar\": {\"outlinewidth\": 0, \"ticks\": \"\"}, \"type\": \"mesh3d\"}], \"parcoords\": [{\"line\": {\"colorbar\": {\"outlinewidth\": 0, \"ticks\": \"\"}}, \"type\": \"parcoords\"}], \"scatter\": [{\"marker\": {\"colorbar\": {\"outlinewidth\": 0, \"ticks\": \"\"}}, \"type\": \"scatter\"}], \"scatter3d\": [{\"line\": {\"colorbar\": {\"outlinewidth\": 0, \"ticks\": \"\"}}, \"marker\": {\"colorbar\": {\"outlinewidth\": 0, \"ticks\": \"\"}}, \"type\": \"scatter3d\"}], \"scattercarpet\": [{\"marker\": {\"colorbar\": {\"outlinewidth\": 0, \"ticks\": \"\"}}, \"type\": \"scattercarpet\"}], \"scattergeo\": [{\"marker\": {\"colorbar\": {\"outlinewidth\": 0, \"ticks\": \"\"}}, \"type\": \"scattergeo\"}], \"scattergl\": [{\"marker\": {\"colorbar\": {\"outlinewidth\": 0, \"ticks\": \"\"}}, \"type\": \"scattergl\"}], \"scattermapbox\": [{\"marker\": {\"colorbar\": {\"outlinewidth\": 0, \"ticks\": \"\"}}, \"type\": \"scattermapbox\"}], \"scatterpolar\": [{\"marker\": {\"colorbar\": {\"outlinewidth\": 0, \"ticks\": \"\"}}, \"type\": \"scatterpolar\"}], \"scatterpolargl\": [{\"marker\": {\"colorbar\": {\"outlinewidth\": 0, \"ticks\": \"\"}}, \"type\": \"scatterpolargl\"}], \"scatterternary\": [{\"marker\": {\"colorbar\": {\"outlinewidth\": 0, \"ticks\": \"\"}}, \"type\": \"scatterternary\"}], \"surface\": [{\"colorbar\": {\"outlinewidth\": 0, \"ticks\": \"\"}, \"colorscale\": [[0.0, \"#0d0887\"], [0.1111111111111111, \"#46039f\"], [0.2222222222222222, \"#7201a8\"], [0.3333333333333333, \"#9c179e\"], [0.4444444444444444, \"#bd3786\"], [0.5555555555555556, \"#d8576b\"], [0.6666666666666666, \"#ed7953\"], [0.7777777777777778, \"#fb9f3a\"], [0.8888888888888888, \"#fdca26\"], [1.0, \"#f0f921\"]], \"type\": \"surface\"}], \"table\": [{\"cells\": {\"fill\": {\"color\": \"#EBF0F8\"}, \"line\": {\"color\": \"white\"}}, \"header\": {\"fill\": {\"color\": \"#C8D4E3\"}, \"line\": {\"color\": \"white\"}}, \"type\": \"table\"}]}, \"layout\": {\"annotationdefaults\": {\"arrowcolor\": \"#2a3f5f\", \"arrowhead\": 0, \"arrowwidth\": 1}, \"colorscale\": {\"diverging\": [[0, \"#8e0152\"], [0.1, \"#c51b7d\"], [0.2, \"#de77ae\"], [0.3, \"#f1b6da\"], [0.4, \"#fde0ef\"], [0.5, \"#f7f7f7\"], [0.6, \"#e6f5d0\"], [0.7, \"#b8e186\"], [0.8, \"#7fbc41\"], [0.9, \"#4d9221\"], [1, \"#276419\"]], \"sequential\": [[0.0, \"#0d0887\"], [0.1111111111111111, \"#46039f\"], [0.2222222222222222, \"#7201a8\"], [0.3333333333333333, \"#9c179e\"], [0.4444444444444444, \"#bd3786\"], [0.5555555555555556, \"#d8576b\"], [0.6666666666666666, \"#ed7953\"], [0.7777777777777778, \"#fb9f3a\"], [0.8888888888888888, \"#fdca26\"], [1.0, \"#f0f921\"]], \"sequentialminus\": [[0.0, \"#0d0887\"], [0.1111111111111111, \"#46039f\"], [0.2222222222222222, \"#7201a8\"], [0.3333333333333333, \"#9c179e\"], [0.4444444444444444, \"#bd3786\"], [0.5555555555555556, \"#d8576b\"], [0.6666666666666666, \"#ed7953\"], [0.7777777777777778, \"#fb9f3a\"], [0.8888888888888888, \"#fdca26\"], [1.0, \"#f0f921\"]]}, \"colorway\": [\"#636efa\", \"#EF553B\", \"#00cc96\", \"#ab63fa\", \"#FFA15A\", \"#19d3f3\", \"#FF6692\", \"#B6E880\", \"#FF97FF\", \"#FECB52\"], \"font\": {\"color\": \"#2a3f5f\"}, \"geo\": {\"bgcolor\": \"white\", \"lakecolor\": \"white\", \"landcolor\": \"#E5ECF6\", \"showlakes\": true, \"showland\": true, \"subunitcolor\": \"white\"}, \"hoverlabel\": {\"align\": \"left\"}, \"hovermode\": \"closest\", \"mapbox\": {\"style\": \"light\"}, \"paper_bgcolor\": \"white\", \"plot_bgcolor\": \"#E5ECF6\", \"polar\": {\"angularaxis\": {\"gridcolor\": \"white\", \"linecolor\": \"white\", \"ticks\": \"\"}, \"bgcolor\": \"#E5ECF6\", \"radialaxis\": {\"gridcolor\": \"white\", \"linecolor\": \"white\", \"ticks\": \"\"}}, \"scene\": {\"xaxis\": {\"backgroundcolor\": \"#E5ECF6\", \"gridcolor\": \"white\", \"gridwidth\": 2, \"linecolor\": \"white\", \"showbackground\": true, \"ticks\": \"\", \"zerolinecolor\": \"white\"}, \"yaxis\": {\"backgroundcolor\": \"#E5ECF6\", \"gridcolor\": \"white\", \"gridwidth\": 2, \"linecolor\": \"white\", \"showbackground\": true, \"ticks\": \"\", \"zerolinecolor\": \"white\"}, \"zaxis\": {\"backgroundcolor\": \"#E5ECF6\", \"gridcolor\": \"white\", \"gridwidth\": 2, \"linecolor\": \"white\", \"showbackground\": true, \"ticks\": \"\", \"zerolinecolor\": \"white\"}}, \"shapedefaults\": {\"line\": {\"color\": \"#2a3f5f\"}}, \"ternary\": {\"aaxis\": {\"gridcolor\": \"white\", \"linecolor\": \"white\", \"ticks\": \"\"}, \"baxis\": {\"gridcolor\": \"white\", \"linecolor\": \"white\", \"ticks\": \"\"}, \"bgcolor\": \"#E5ECF6\", \"caxis\": {\"gridcolor\": \"white\", \"linecolor\": \"white\", \"ticks\": \"\"}}, \"title\": {\"x\": 0.05}, \"xaxis\": {\"automargin\": true, \"gridcolor\": \"white\", \"linecolor\": \"white\", \"ticks\": \"\", \"zerolinecolor\": \"white\", \"zerolinewidth\": 2}, \"yaxis\": {\"automargin\": true, \"gridcolor\": \"white\", \"linecolor\": \"white\", \"ticks\": \"\", \"zerolinecolor\": \"white\", \"zerolinewidth\": 2}}}, \"title\": {\"text\": \"newmse:video:total_total:(duration)\"}, \"xaxis\": {\"type\": \"date\"}, \"yaxis\": {\"title\": {\"text\": \"duration\"}}},\n",
       "                        {\"responsive\": true}\n",
       "                    ).then(function(){\n",
       "                            \n",
       "var gd = document.getElementById('d8e6834e-9225-40f4-a9a5-b465dd1a1662');\n",
       "var x = new MutationObserver(function (mutations, observer) {{\n",
       "        var display = window.getComputedStyle(gd).display;\n",
       "        if (!display || display === 'none') {{\n",
       "            console.log([gd, 'removed!']);\n",
       "            Plotly.purge(gd);\n",
       "            observer.disconnect();\n",
       "        }}\n",
       "}});\n",
       "\n",
       "// Listen for the removal of the full notebook cells\n",
       "var notebookContainer = gd.closest('#notebook-container');\n",
       "if (notebookContainer) {{\n",
       "    x.observe(notebookContainer, {childList: true});\n",
       "}}\n",
       "\n",
       "// Listen for the clearing of the current output cell\n",
       "var outputEl = gd.closest('.output');\n",
       "if (outputEl) {{\n",
       "    x.observe(outputEl, {childList: true});\n",
       "}}\n",
       "\n",
       "                        })\n",
       "                };\n",
       "                });\n",
       "            </script>\n",
       "        </div>"
      ]
     },
     "metadata": {},
     "output_type": "display_data"
    },
    {
     "data": {
      "application/vnd.plotly.v1+json": {
       "config": {
        "linkText": "Export to plot.ly",
        "plotlyServerURL": "https://plot.ly",
        "showLink": false
       },
       "data": [
        {
         "hovertext": [
          "-0.0597",
          "-0.0861",
          "-0.0870",
          "-0.0356",
          "-0.0648",
          "-0.0917",
          "-0.0436",
          "-0.0797",
          "-0.0990",
          "-0.0721",
          "-0.0525",
          "-0.0584",
          "-0.0722",
          "-0.0716",
          "-0.0283",
          "-0.0325",
          "-0.0394",
          "-0.1356",
          "-0.0612",
          "-0.1136",
          "-0.0398",
          "-0.0762",
          "-0.0713",
          "-0.0603",
          "-0.1206",
          "-0.0622",
          "-0.0805",
          "-0.0709",
          "-0.0538",
          "-0.0607",
          "-0.1003",
          "-0.1172",
          "-0.0733",
          "-0.0460",
          "-0.0860",
          "-0.0646",
          "-0.0721",
          "-0.0380",
          "-0.0136",
          "-0.0879",
          "0.0828",
          "-0.0542",
          "0.0132",
          "-0.0396",
          "-0.0573",
          "-0.1084",
          "-0.0544",
          "-0.0443",
          "-0.0442",
          "0.0073",
          "-0.0952"
         ],
         "line": {
          "shape": "spline",
          "smoothing": 1
         },
         "mode": "lines+markers",
         "name": "7",
         "showlegend": true,
         "type": "scatter",
         "x": [
          "2020-01-12T11:00:00",
          "2020-01-12T12:00:00",
          "2020-01-12T13:00:00",
          "2020-01-12T14:00:00",
          "2020-01-12T15:00:00",
          "2020-01-12T16:00:00",
          "2020-01-12T17:00:00",
          "2020-01-12T18:00:00",
          "2020-01-12T19:00:00",
          "2020-01-12T20:00:00",
          "2020-01-12T21:00:00",
          "2020-01-12T22:00:00",
          "2020-01-12T23:00:00",
          "2020-01-13T00:00:00",
          "2020-01-13T01:00:00",
          "2020-01-13T02:00:00",
          "2020-01-13T03:00:00",
          "2020-01-13T04:00:00",
          "2020-01-13T05:00:00",
          "2020-01-13T06:00:00",
          "2020-01-13T07:00:00",
          "2020-01-13T08:00:00",
          "2020-01-13T09:00:00",
          "2020-01-13T10:00:00",
          "2020-01-13T11:00:00",
          "2020-01-13T12:00:00",
          "2020-01-13T13:00:00",
          "2020-01-13T14:00:00",
          "2020-01-13T15:00:00",
          "2020-01-13T16:00:00",
          "2020-01-13T17:00:00",
          "2020-01-13T18:00:00",
          "2020-01-13T19:00:00",
          "2020-01-13T20:00:00",
          "2020-01-13T21:00:00",
          "2020-01-13T22:00:00",
          "2020-01-13T23:00:00",
          "2020-01-14T00:00:00",
          "2020-01-14T01:00:00",
          "2020-01-14T02:00:00",
          "2020-01-14T03:00:00",
          "2020-01-14T04:00:00",
          "2020-01-14T05:00:00",
          "2020-01-14T06:00:00",
          "2020-01-14T07:00:00",
          "2020-01-14T08:00:00",
          "2020-01-14T09:00:00",
          "2020-01-14T10:00:00",
          "2020-01-14T11:00:00",
          "2020-01-14T12:00:00",
          "2020-01-14T13:00:00"
         ],
         "y": [
          1685.6294777512776,
          1762.345757745822,
          1856.3832655677556,
          1852.3099661168765,
          1823.907849397056,
          1814.521567928122,
          1873.6648945858183,
          1942.3978443728754,
          2172.5022138752524,
          2475.3274419151753,
          2778.5564822773476,
          2631.5630556183,
          1842.9589826907984,
          1071.9588796831815,
          636.7718928334239,
          426.3275773511931,
          354.1438943792593,
          363.3500389087438,
          566.4313136004317,
          968.5331463174092,
          1480.996300132525,
          1277.622006536491,
          988.7821578382985,
          1378.8214827426852,
          1447.2498571324018,
          1780.5404383958864,
          1752.3010047952228,
          1572.6292967618015,
          1648.199525029741,
          1682.226161267779,
          1673.7248216238645,
          1819.4942943394642,
          2227.526052564894,
          2543.3284868721194,
          2624.6889173470504,
          2517.501921643864,
          1791.7151177593212,
          1037.0199240460188,
          613.5464659344703,
          394.32138262064854,
          394.1420729314205,
          366.64400892218003,
          604.5480946656203,
          1023.1702061105674,
          1405.4941539859055,
          1300.239642949421,
          1055.9668843952097,
          1423.099401047609,
          1580.269655940189,
          1908.5666874722995,
          1716.3633056305077
         ]
        },
        {
         "line": {
          "shape": "spline",
          "smoothing": 1
         },
         "mode": "lines+markers",
         "name": "456",
         "showlegend": true,
         "type": "scatter",
         "x": [
          "2020-01-12T11:00:00",
          "2020-01-12T12:00:00",
          "2020-01-12T13:00:00",
          "2020-01-12T14:00:00",
          "2020-01-12T15:00:00",
          "2020-01-12T16:00:00",
          "2020-01-12T17:00:00",
          "2020-01-12T18:00:00",
          "2020-01-12T19:00:00",
          "2020-01-12T20:00:00",
          "2020-01-12T21:00:00",
          "2020-01-12T22:00:00",
          "2020-01-12T23:00:00",
          "2020-01-13T00:00:00",
          "2020-01-13T01:00:00",
          "2020-01-13T02:00:00",
          "2020-01-13T03:00:00",
          "2020-01-13T04:00:00",
          "2020-01-13T05:00:00",
          "2020-01-13T06:00:00",
          "2020-01-13T07:00:00",
          "2020-01-13T08:00:00",
          "2020-01-13T09:00:00",
          "2020-01-13T10:00:00",
          "2020-01-13T11:00:00",
          "2020-01-13T12:00:00",
          "2020-01-13T13:00:00",
          "2020-01-13T14:00:00",
          "2020-01-13T15:00:00",
          "2020-01-13T16:00:00",
          "2020-01-13T17:00:00",
          "2020-01-13T18:00:00",
          "2020-01-13T19:00:00",
          "2020-01-13T20:00:00",
          "2020-01-13T21:00:00",
          "2020-01-13T22:00:00",
          "2020-01-13T23:00:00",
          "2020-01-14T00:00:00",
          "2020-01-14T01:00:00",
          "2020-01-14T02:00:00",
          "2020-01-14T03:00:00",
          "2020-01-14T04:00:00",
          "2020-01-14T05:00:00",
          "2020-01-14T06:00:00",
          "2020-01-14T07:00:00",
          "2020-01-14T08:00:00",
          "2020-01-14T09:00:00",
          "2020-01-14T10:00:00",
          "2020-01-14T11:00:00",
          "2020-01-14T12:00:00",
          "2020-01-14T13:00:00"
         ],
         "y": [
          1792.6666666666667,
          1928.3333333333333,
          2033.3333333333333,
          1920.6666666666667,
          1950.3333333333333,
          1997.6666666666667,
          1959,
          2110.6666666666665,
          2411.3333333333335,
          2667.6666666666665,
          2932.6666666666665,
          2794.6666666666665,
          1986.3333333333333,
          1154.6666666666667,
          655.3333333333334,
          440.6666666666667,
          368.6666666666667,
          420.3333333333333,
          603.3333333333334,
          1092.6666666666667,
          1542.3333333333333,
          1383,
          1064.6666666666667,
          1467.3333333333333,
          1645.6666666666667,
          1898.6666666666667,
          1905.6666666666667,
          1692.6666666666667,
          1742,
          1791,
          1860.3333333333333,
          2061,
          2403.6666666666665,
          2666,
          2871.6666666666665,
          2691.3333333333335,
          1931,
          1078,
          622,
          432.3333333333333,
          364,
          387.6666666666667,
          596.6666666666666,
          1065.3333333333333,
          1491,
          1458.3333333333333,
          1116.6666666666667,
          1489,
          1653.3333333333333,
          1894.6666666666667,
          1897
         ]
        }
       ],
       "layout": {
        "hovermode": "x",
        "template": {
         "data": {
          "bar": [
           {
            "error_x": {
             "color": "#2a3f5f"
            },
            "error_y": {
             "color": "#2a3f5f"
            },
            "marker": {
             "line": {
              "color": "#E5ECF6",
              "width": 0.5
             }
            },
            "type": "bar"
           }
          ],
          "barpolar": [
           {
            "marker": {
             "line": {
              "color": "#E5ECF6",
              "width": 0.5
             }
            },
            "type": "barpolar"
           }
          ],
          "carpet": [
           {
            "aaxis": {
             "endlinecolor": "#2a3f5f",
             "gridcolor": "white",
             "linecolor": "white",
             "minorgridcolor": "white",
             "startlinecolor": "#2a3f5f"
            },
            "baxis": {
             "endlinecolor": "#2a3f5f",
             "gridcolor": "white",
             "linecolor": "white",
             "minorgridcolor": "white",
             "startlinecolor": "#2a3f5f"
            },
            "type": "carpet"
           }
          ],
          "choropleth": [
           {
            "colorbar": {
             "outlinewidth": 0,
             "ticks": ""
            },
            "type": "choropleth"
           }
          ],
          "contour": [
           {
            "colorbar": {
             "outlinewidth": 0,
             "ticks": ""
            },
            "colorscale": [
             [
              0,
              "#0d0887"
             ],
             [
              0.1111111111111111,
              "#46039f"
             ],
             [
              0.2222222222222222,
              "#7201a8"
             ],
             [
              0.3333333333333333,
              "#9c179e"
             ],
             [
              0.4444444444444444,
              "#bd3786"
             ],
             [
              0.5555555555555556,
              "#d8576b"
             ],
             [
              0.6666666666666666,
              "#ed7953"
             ],
             [
              0.7777777777777778,
              "#fb9f3a"
             ],
             [
              0.8888888888888888,
              "#fdca26"
             ],
             [
              1,
              "#f0f921"
             ]
            ],
            "type": "contour"
           }
          ],
          "contourcarpet": [
           {
            "colorbar": {
             "outlinewidth": 0,
             "ticks": ""
            },
            "type": "contourcarpet"
           }
          ],
          "heatmap": [
           {
            "colorbar": {
             "outlinewidth": 0,
             "ticks": ""
            },
            "colorscale": [
             [
              0,
              "#0d0887"
             ],
             [
              0.1111111111111111,
              "#46039f"
             ],
             [
              0.2222222222222222,
              "#7201a8"
             ],
             [
              0.3333333333333333,
              "#9c179e"
             ],
             [
              0.4444444444444444,
              "#bd3786"
             ],
             [
              0.5555555555555556,
              "#d8576b"
             ],
             [
              0.6666666666666666,
              "#ed7953"
             ],
             [
              0.7777777777777778,
              "#fb9f3a"
             ],
             [
              0.8888888888888888,
              "#fdca26"
             ],
             [
              1,
              "#f0f921"
             ]
            ],
            "type": "heatmap"
           }
          ],
          "heatmapgl": [
           {
            "colorbar": {
             "outlinewidth": 0,
             "ticks": ""
            },
            "colorscale": [
             [
              0,
              "#0d0887"
             ],
             [
              0.1111111111111111,
              "#46039f"
             ],
             [
              0.2222222222222222,
              "#7201a8"
             ],
             [
              0.3333333333333333,
              "#9c179e"
             ],
             [
              0.4444444444444444,
              "#bd3786"
             ],
             [
              0.5555555555555556,
              "#d8576b"
             ],
             [
              0.6666666666666666,
              "#ed7953"
             ],
             [
              0.7777777777777778,
              "#fb9f3a"
             ],
             [
              0.8888888888888888,
              "#fdca26"
             ],
             [
              1,
              "#f0f921"
             ]
            ],
            "type": "heatmapgl"
           }
          ],
          "histogram": [
           {
            "marker": {
             "colorbar": {
              "outlinewidth": 0,
              "ticks": ""
             }
            },
            "type": "histogram"
           }
          ],
          "histogram2d": [
           {
            "colorbar": {
             "outlinewidth": 0,
             "ticks": ""
            },
            "colorscale": [
             [
              0,
              "#0d0887"
             ],
             [
              0.1111111111111111,
              "#46039f"
             ],
             [
              0.2222222222222222,
              "#7201a8"
             ],
             [
              0.3333333333333333,
              "#9c179e"
             ],
             [
              0.4444444444444444,
              "#bd3786"
             ],
             [
              0.5555555555555556,
              "#d8576b"
             ],
             [
              0.6666666666666666,
              "#ed7953"
             ],
             [
              0.7777777777777778,
              "#fb9f3a"
             ],
             [
              0.8888888888888888,
              "#fdca26"
             ],
             [
              1,
              "#f0f921"
             ]
            ],
            "type": "histogram2d"
           }
          ],
          "histogram2dcontour": [
           {
            "colorbar": {
             "outlinewidth": 0,
             "ticks": ""
            },
            "colorscale": [
             [
              0,
              "#0d0887"
             ],
             [
              0.1111111111111111,
              "#46039f"
             ],
             [
              0.2222222222222222,
              "#7201a8"
             ],
             [
              0.3333333333333333,
              "#9c179e"
             ],
             [
              0.4444444444444444,
              "#bd3786"
             ],
             [
              0.5555555555555556,
              "#d8576b"
             ],
             [
              0.6666666666666666,
              "#ed7953"
             ],
             [
              0.7777777777777778,
              "#fb9f3a"
             ],
             [
              0.8888888888888888,
              "#fdca26"
             ],
             [
              1,
              "#f0f921"
             ]
            ],
            "type": "histogram2dcontour"
           }
          ],
          "mesh3d": [
           {
            "colorbar": {
             "outlinewidth": 0,
             "ticks": ""
            },
            "type": "mesh3d"
           }
          ],
          "parcoords": [
           {
            "line": {
             "colorbar": {
              "outlinewidth": 0,
              "ticks": ""
             }
            },
            "type": "parcoords"
           }
          ],
          "scatter": [
           {
            "marker": {
             "colorbar": {
              "outlinewidth": 0,
              "ticks": ""
             }
            },
            "type": "scatter"
           }
          ],
          "scatter3d": [
           {
            "line": {
             "colorbar": {
              "outlinewidth": 0,
              "ticks": ""
             }
            },
            "marker": {
             "colorbar": {
              "outlinewidth": 0,
              "ticks": ""
             }
            },
            "type": "scatter3d"
           }
          ],
          "scattercarpet": [
           {
            "marker": {
             "colorbar": {
              "outlinewidth": 0,
              "ticks": ""
             }
            },
            "type": "scattercarpet"
           }
          ],
          "scattergeo": [
           {
            "marker": {
             "colorbar": {
              "outlinewidth": 0,
              "ticks": ""
             }
            },
            "type": "scattergeo"
           }
          ],
          "scattergl": [
           {
            "marker": {
             "colorbar": {
              "outlinewidth": 0,
              "ticks": ""
             }
            },
            "type": "scattergl"
           }
          ],
          "scattermapbox": [
           {
            "marker": {
             "colorbar": {
              "outlinewidth": 0,
              "ticks": ""
             }
            },
            "type": "scattermapbox"
           }
          ],
          "scatterpolar": [
           {
            "marker": {
             "colorbar": {
              "outlinewidth": 0,
              "ticks": ""
             }
            },
            "type": "scatterpolar"
           }
          ],
          "scatterpolargl": [
           {
            "marker": {
             "colorbar": {
              "outlinewidth": 0,
              "ticks": ""
             }
            },
            "type": "scatterpolargl"
           }
          ],
          "scatterternary": [
           {
            "marker": {
             "colorbar": {
              "outlinewidth": 0,
              "ticks": ""
             }
            },
            "type": "scatterternary"
           }
          ],
          "surface": [
           {
            "colorbar": {
             "outlinewidth": 0,
             "ticks": ""
            },
            "colorscale": [
             [
              0,
              "#0d0887"
             ],
             [
              0.1111111111111111,
              "#46039f"
             ],
             [
              0.2222222222222222,
              "#7201a8"
             ],
             [
              0.3333333333333333,
              "#9c179e"
             ],
             [
              0.4444444444444444,
              "#bd3786"
             ],
             [
              0.5555555555555556,
              "#d8576b"
             ],
             [
              0.6666666666666666,
              "#ed7953"
             ],
             [
              0.7777777777777778,
              "#fb9f3a"
             ],
             [
              0.8888888888888888,
              "#fdca26"
             ],
             [
              1,
              "#f0f921"
             ]
            ],
            "type": "surface"
           }
          ],
          "table": [
           {
            "cells": {
             "fill": {
              "color": "#EBF0F8"
             },
             "line": {
              "color": "white"
             }
            },
            "header": {
             "fill": {
              "color": "#C8D4E3"
             },
             "line": {
              "color": "white"
             }
            },
            "type": "table"
           }
          ]
         },
         "layout": {
          "annotationdefaults": {
           "arrowcolor": "#2a3f5f",
           "arrowhead": 0,
           "arrowwidth": 1
          },
          "colorscale": {
           "diverging": [
            [
             0,
             "#8e0152"
            ],
            [
             0.1,
             "#c51b7d"
            ],
            [
             0.2,
             "#de77ae"
            ],
            [
             0.3,
             "#f1b6da"
            ],
            [
             0.4,
             "#fde0ef"
            ],
            [
             0.5,
             "#f7f7f7"
            ],
            [
             0.6,
             "#e6f5d0"
            ],
            [
             0.7,
             "#b8e186"
            ],
            [
             0.8,
             "#7fbc41"
            ],
            [
             0.9,
             "#4d9221"
            ],
            [
             1,
             "#276419"
            ]
           ],
           "sequential": [
            [
             0,
             "#0d0887"
            ],
            [
             0.1111111111111111,
             "#46039f"
            ],
            [
             0.2222222222222222,
             "#7201a8"
            ],
            [
             0.3333333333333333,
             "#9c179e"
            ],
            [
             0.4444444444444444,
             "#bd3786"
            ],
            [
             0.5555555555555556,
             "#d8576b"
            ],
            [
             0.6666666666666666,
             "#ed7953"
            ],
            [
             0.7777777777777778,
             "#fb9f3a"
            ],
            [
             0.8888888888888888,
             "#fdca26"
            ],
            [
             1,
             "#f0f921"
            ]
           ],
           "sequentialminus": [
            [
             0,
             "#0d0887"
            ],
            [
             0.1111111111111111,
             "#46039f"
            ],
            [
             0.2222222222222222,
             "#7201a8"
            ],
            [
             0.3333333333333333,
             "#9c179e"
            ],
            [
             0.4444444444444444,
             "#bd3786"
            ],
            [
             0.5555555555555556,
             "#d8576b"
            ],
            [
             0.6666666666666666,
             "#ed7953"
            ],
            [
             0.7777777777777778,
             "#fb9f3a"
            ],
            [
             0.8888888888888888,
             "#fdca26"
            ],
            [
             1,
             "#f0f921"
            ]
           ]
          },
          "colorway": [
           "#636efa",
           "#EF553B",
           "#00cc96",
           "#ab63fa",
           "#FFA15A",
           "#19d3f3",
           "#FF6692",
           "#B6E880",
           "#FF97FF",
           "#FECB52"
          ],
          "font": {
           "color": "#2a3f5f"
          },
          "geo": {
           "bgcolor": "white",
           "lakecolor": "white",
           "landcolor": "#E5ECF6",
           "showlakes": true,
           "showland": true,
           "subunitcolor": "white"
          },
          "hoverlabel": {
           "align": "left"
          },
          "hovermode": "closest",
          "mapbox": {
           "style": "light"
          },
          "paper_bgcolor": "white",
          "plot_bgcolor": "#E5ECF6",
          "polar": {
           "angularaxis": {
            "gridcolor": "white",
            "linecolor": "white",
            "ticks": ""
           },
           "bgcolor": "#E5ECF6",
           "radialaxis": {
            "gridcolor": "white",
            "linecolor": "white",
            "ticks": ""
           }
          },
          "scene": {
           "xaxis": {
            "backgroundcolor": "#E5ECF6",
            "gridcolor": "white",
            "gridwidth": 2,
            "linecolor": "white",
            "showbackground": true,
            "ticks": "",
            "zerolinecolor": "white"
           },
           "yaxis": {
            "backgroundcolor": "#E5ECF6",
            "gridcolor": "white",
            "gridwidth": 2,
            "linecolor": "white",
            "showbackground": true,
            "ticks": "",
            "zerolinecolor": "white"
           },
           "zaxis": {
            "backgroundcolor": "#E5ECF6",
            "gridcolor": "white",
            "gridwidth": 2,
            "linecolor": "white",
            "showbackground": true,
            "ticks": "",
            "zerolinecolor": "white"
           }
          },
          "shapedefaults": {
           "line": {
            "color": "#2a3f5f"
           }
          },
          "ternary": {
           "aaxis": {
            "gridcolor": "white",
            "linecolor": "white",
            "ticks": ""
           },
           "baxis": {
            "gridcolor": "white",
            "linecolor": "white",
            "ticks": ""
           },
           "bgcolor": "#E5ECF6",
           "caxis": {
            "gridcolor": "white",
            "linecolor": "white",
            "ticks": ""
           }
          },
          "title": {
           "x": 0.05
          },
          "xaxis": {
           "automargin": true,
           "gridcolor": "white",
           "linecolor": "white",
           "ticks": "",
           "zerolinecolor": "white",
           "zerolinewidth": 2
          },
          "yaxis": {
           "automargin": true,
           "gridcolor": "white",
           "linecolor": "white",
           "ticks": "",
           "zerolinecolor": "white",
           "zerolinewidth": 2
          }
         }
        },
        "title": {
         "text": "newmse:video:total_total:(click_user)"
        },
        "xaxis": {
         "type": "date"
        },
        "yaxis": {
         "title": {
          "text": "click_user"
         }
        }
       }
      },
      "text/html": [
       "<div>\n",
       "        \n",
       "        \n",
       "            <div id=\"6bcf26d0-5d7a-4997-804e-cccdcee37fb4\" class=\"plotly-graph-div\" style=\"height:525px; width:100%;\"></div>\n",
       "            <script type=\"text/javascript\">\n",
       "                require([\"plotly\"], function(Plotly) {\n",
       "                    window.PLOTLYENV=window.PLOTLYENV || {};\n",
       "                    \n",
       "                if (document.getElementById(\"6bcf26d0-5d7a-4997-804e-cccdcee37fb4\")) {\n",
       "                    Plotly.newPlot(\n",
       "                        '6bcf26d0-5d7a-4997-804e-cccdcee37fb4',\n",
       "                        [{\"hovertext\": [\"-0.0597\", \"-0.0861\", \"-0.0870\", \"-0.0356\", \"-0.0648\", \"-0.0917\", \"-0.0436\", \"-0.0797\", \"-0.0990\", \"-0.0721\", \"-0.0525\", \"-0.0584\", \"-0.0722\", \"-0.0716\", \"-0.0283\", \"-0.0325\", \"-0.0394\", \"-0.1356\", \"-0.0612\", \"-0.1136\", \"-0.0398\", \"-0.0762\", \"-0.0713\", \"-0.0603\", \"-0.1206\", \"-0.0622\", \"-0.0805\", \"-0.0709\", \"-0.0538\", \"-0.0607\", \"-0.1003\", \"-0.1172\", \"-0.0733\", \"-0.0460\", \"-0.0860\", \"-0.0646\", \"-0.0721\", \"-0.0380\", \"-0.0136\", \"-0.0879\", \"0.0828\", \"-0.0542\", \"0.0132\", \"-0.0396\", \"-0.0573\", \"-0.1084\", \"-0.0544\", \"-0.0443\", \"-0.0442\", \"0.0073\", \"-0.0952\"], \"line\": {\"shape\": \"spline\", \"smoothing\": 1.0}, \"mode\": \"lines+markers\", \"name\": \"7\", \"showlegend\": true, \"type\": \"scatter\", \"x\": [\"2020-01-12T11:00:00\", \"2020-01-12T12:00:00\", \"2020-01-12T13:00:00\", \"2020-01-12T14:00:00\", \"2020-01-12T15:00:00\", \"2020-01-12T16:00:00\", \"2020-01-12T17:00:00\", \"2020-01-12T18:00:00\", \"2020-01-12T19:00:00\", \"2020-01-12T20:00:00\", \"2020-01-12T21:00:00\", \"2020-01-12T22:00:00\", \"2020-01-12T23:00:00\", \"2020-01-13T00:00:00\", \"2020-01-13T01:00:00\", \"2020-01-13T02:00:00\", \"2020-01-13T03:00:00\", \"2020-01-13T04:00:00\", \"2020-01-13T05:00:00\", \"2020-01-13T06:00:00\", \"2020-01-13T07:00:00\", \"2020-01-13T08:00:00\", \"2020-01-13T09:00:00\", \"2020-01-13T10:00:00\", \"2020-01-13T11:00:00\", \"2020-01-13T12:00:00\", \"2020-01-13T13:00:00\", \"2020-01-13T14:00:00\", \"2020-01-13T15:00:00\", \"2020-01-13T16:00:00\", \"2020-01-13T17:00:00\", \"2020-01-13T18:00:00\", \"2020-01-13T19:00:00\", \"2020-01-13T20:00:00\", \"2020-01-13T21:00:00\", \"2020-01-13T22:00:00\", \"2020-01-13T23:00:00\", \"2020-01-14T00:00:00\", \"2020-01-14T01:00:00\", \"2020-01-14T02:00:00\", \"2020-01-14T03:00:00\", \"2020-01-14T04:00:00\", \"2020-01-14T05:00:00\", \"2020-01-14T06:00:00\", \"2020-01-14T07:00:00\", \"2020-01-14T08:00:00\", \"2020-01-14T09:00:00\", \"2020-01-14T10:00:00\", \"2020-01-14T11:00:00\", \"2020-01-14T12:00:00\", \"2020-01-14T13:00:00\"], \"y\": [1685.6294777512776, 1762.345757745822, 1856.3832655677556, 1852.3099661168765, 1823.907849397056, 1814.521567928122, 1873.6648945858183, 1942.3978443728754, 2172.5022138752524, 2475.3274419151753, 2778.5564822773476, 2631.5630556183, 1842.9589826907984, 1071.9588796831815, 636.7718928334239, 426.3275773511931, 354.1438943792593, 363.3500389087438, 566.4313136004317, 968.5331463174092, 1480.996300132525, 1277.622006536491, 988.7821578382985, 1378.8214827426852, 1447.2498571324018, 1780.5404383958864, 1752.3010047952228, 1572.6292967618015, 1648.199525029741, 1682.226161267779, 1673.7248216238645, 1819.4942943394642, 2227.526052564894, 2543.3284868721194, 2624.6889173470504, 2517.501921643864, 1791.7151177593212, 1037.0199240460188, 613.5464659344703, 394.32138262064854, 394.1420729314205, 366.64400892218003, 604.5480946656203, 1023.1702061105674, 1405.4941539859055, 1300.239642949421, 1055.9668843952097, 1423.099401047609, 1580.269655940189, 1908.5666874722995, 1716.3633056305077]}, {\"line\": {\"shape\": \"spline\", \"smoothing\": 1.0}, \"mode\": \"lines+markers\", \"name\": \"456\", \"showlegend\": true, \"type\": \"scatter\", \"x\": [\"2020-01-12T11:00:00\", \"2020-01-12T12:00:00\", \"2020-01-12T13:00:00\", \"2020-01-12T14:00:00\", \"2020-01-12T15:00:00\", \"2020-01-12T16:00:00\", \"2020-01-12T17:00:00\", \"2020-01-12T18:00:00\", \"2020-01-12T19:00:00\", \"2020-01-12T20:00:00\", \"2020-01-12T21:00:00\", \"2020-01-12T22:00:00\", \"2020-01-12T23:00:00\", \"2020-01-13T00:00:00\", \"2020-01-13T01:00:00\", \"2020-01-13T02:00:00\", \"2020-01-13T03:00:00\", \"2020-01-13T04:00:00\", \"2020-01-13T05:00:00\", \"2020-01-13T06:00:00\", \"2020-01-13T07:00:00\", \"2020-01-13T08:00:00\", \"2020-01-13T09:00:00\", \"2020-01-13T10:00:00\", \"2020-01-13T11:00:00\", \"2020-01-13T12:00:00\", \"2020-01-13T13:00:00\", \"2020-01-13T14:00:00\", \"2020-01-13T15:00:00\", \"2020-01-13T16:00:00\", \"2020-01-13T17:00:00\", \"2020-01-13T18:00:00\", \"2020-01-13T19:00:00\", \"2020-01-13T20:00:00\", \"2020-01-13T21:00:00\", \"2020-01-13T22:00:00\", \"2020-01-13T23:00:00\", \"2020-01-14T00:00:00\", \"2020-01-14T01:00:00\", \"2020-01-14T02:00:00\", \"2020-01-14T03:00:00\", \"2020-01-14T04:00:00\", \"2020-01-14T05:00:00\", \"2020-01-14T06:00:00\", \"2020-01-14T07:00:00\", \"2020-01-14T08:00:00\", \"2020-01-14T09:00:00\", \"2020-01-14T10:00:00\", \"2020-01-14T11:00:00\", \"2020-01-14T12:00:00\", \"2020-01-14T13:00:00\"], \"y\": [1792.6666666666667, 1928.3333333333333, 2033.3333333333333, 1920.6666666666667, 1950.3333333333333, 1997.6666666666667, 1959.0, 2110.6666666666665, 2411.3333333333335, 2667.6666666666665, 2932.6666666666665, 2794.6666666666665, 1986.3333333333333, 1154.6666666666667, 655.3333333333334, 440.6666666666667, 368.6666666666667, 420.3333333333333, 603.3333333333334, 1092.6666666666667, 1542.3333333333333, 1383.0, 1064.6666666666667, 1467.3333333333333, 1645.6666666666667, 1898.6666666666667, 1905.6666666666667, 1692.6666666666667, 1742.0, 1791.0, 1860.3333333333333, 2061.0, 2403.6666666666665, 2666.0, 2871.6666666666665, 2691.3333333333335, 1931.0, 1078.0, 622.0, 432.3333333333333, 364.0, 387.6666666666667, 596.6666666666666, 1065.3333333333333, 1491.0, 1458.3333333333333, 1116.6666666666667, 1489.0, 1653.3333333333333, 1894.6666666666667, 1897.0]}],\n",
       "                        {\"hovermode\": \"x\", \"template\": {\"data\": {\"bar\": [{\"error_x\": {\"color\": \"#2a3f5f\"}, \"error_y\": {\"color\": \"#2a3f5f\"}, \"marker\": {\"line\": {\"color\": \"#E5ECF6\", \"width\": 0.5}}, \"type\": \"bar\"}], \"barpolar\": [{\"marker\": {\"line\": {\"color\": \"#E5ECF6\", \"width\": 0.5}}, \"type\": \"barpolar\"}], \"carpet\": [{\"aaxis\": {\"endlinecolor\": \"#2a3f5f\", \"gridcolor\": \"white\", \"linecolor\": \"white\", \"minorgridcolor\": \"white\", \"startlinecolor\": \"#2a3f5f\"}, \"baxis\": {\"endlinecolor\": \"#2a3f5f\", \"gridcolor\": \"white\", \"linecolor\": \"white\", \"minorgridcolor\": \"white\", \"startlinecolor\": \"#2a3f5f\"}, \"type\": \"carpet\"}], \"choropleth\": [{\"colorbar\": {\"outlinewidth\": 0, \"ticks\": \"\"}, \"type\": \"choropleth\"}], \"contour\": [{\"colorbar\": {\"outlinewidth\": 0, \"ticks\": \"\"}, \"colorscale\": [[0.0, \"#0d0887\"], [0.1111111111111111, \"#46039f\"], [0.2222222222222222, \"#7201a8\"], [0.3333333333333333, \"#9c179e\"], [0.4444444444444444, \"#bd3786\"], [0.5555555555555556, \"#d8576b\"], [0.6666666666666666, \"#ed7953\"], [0.7777777777777778, \"#fb9f3a\"], [0.8888888888888888, \"#fdca26\"], [1.0, \"#f0f921\"]], \"type\": \"contour\"}], \"contourcarpet\": [{\"colorbar\": {\"outlinewidth\": 0, \"ticks\": \"\"}, \"type\": \"contourcarpet\"}], \"heatmap\": [{\"colorbar\": {\"outlinewidth\": 0, \"ticks\": \"\"}, \"colorscale\": [[0.0, \"#0d0887\"], [0.1111111111111111, \"#46039f\"], [0.2222222222222222, \"#7201a8\"], [0.3333333333333333, \"#9c179e\"], [0.4444444444444444, \"#bd3786\"], [0.5555555555555556, \"#d8576b\"], [0.6666666666666666, \"#ed7953\"], [0.7777777777777778, \"#fb9f3a\"], [0.8888888888888888, \"#fdca26\"], [1.0, \"#f0f921\"]], \"type\": \"heatmap\"}], \"heatmapgl\": [{\"colorbar\": {\"outlinewidth\": 0, \"ticks\": \"\"}, \"colorscale\": [[0.0, \"#0d0887\"], [0.1111111111111111, \"#46039f\"], [0.2222222222222222, \"#7201a8\"], [0.3333333333333333, \"#9c179e\"], [0.4444444444444444, \"#bd3786\"], [0.5555555555555556, \"#d8576b\"], [0.6666666666666666, \"#ed7953\"], [0.7777777777777778, \"#fb9f3a\"], [0.8888888888888888, \"#fdca26\"], [1.0, \"#f0f921\"]], \"type\": \"heatmapgl\"}], \"histogram\": [{\"marker\": {\"colorbar\": {\"outlinewidth\": 0, \"ticks\": \"\"}}, \"type\": \"histogram\"}], \"histogram2d\": [{\"colorbar\": {\"outlinewidth\": 0, \"ticks\": \"\"}, \"colorscale\": [[0.0, \"#0d0887\"], [0.1111111111111111, \"#46039f\"], [0.2222222222222222, \"#7201a8\"], [0.3333333333333333, \"#9c179e\"], [0.4444444444444444, \"#bd3786\"], [0.5555555555555556, \"#d8576b\"], [0.6666666666666666, \"#ed7953\"], [0.7777777777777778, \"#fb9f3a\"], [0.8888888888888888, \"#fdca26\"], [1.0, \"#f0f921\"]], \"type\": \"histogram2d\"}], \"histogram2dcontour\": [{\"colorbar\": {\"outlinewidth\": 0, \"ticks\": \"\"}, \"colorscale\": [[0.0, \"#0d0887\"], [0.1111111111111111, \"#46039f\"], [0.2222222222222222, \"#7201a8\"], [0.3333333333333333, \"#9c179e\"], [0.4444444444444444, \"#bd3786\"], [0.5555555555555556, \"#d8576b\"], [0.6666666666666666, \"#ed7953\"], [0.7777777777777778, \"#fb9f3a\"], [0.8888888888888888, \"#fdca26\"], [1.0, \"#f0f921\"]], \"type\": \"histogram2dcontour\"}], \"mesh3d\": [{\"colorbar\": {\"outlinewidth\": 0, \"ticks\": \"\"}, \"type\": \"mesh3d\"}], \"parcoords\": [{\"line\": {\"colorbar\": {\"outlinewidth\": 0, \"ticks\": \"\"}}, \"type\": \"parcoords\"}], \"scatter\": [{\"marker\": {\"colorbar\": {\"outlinewidth\": 0, \"ticks\": \"\"}}, \"type\": \"scatter\"}], \"scatter3d\": [{\"line\": {\"colorbar\": {\"outlinewidth\": 0, \"ticks\": \"\"}}, \"marker\": {\"colorbar\": {\"outlinewidth\": 0, \"ticks\": \"\"}}, \"type\": \"scatter3d\"}], \"scattercarpet\": [{\"marker\": {\"colorbar\": {\"outlinewidth\": 0, \"ticks\": \"\"}}, \"type\": \"scattercarpet\"}], \"scattergeo\": [{\"marker\": {\"colorbar\": {\"outlinewidth\": 0, \"ticks\": \"\"}}, \"type\": \"scattergeo\"}], \"scattergl\": [{\"marker\": {\"colorbar\": {\"outlinewidth\": 0, \"ticks\": \"\"}}, \"type\": \"scattergl\"}], \"scattermapbox\": [{\"marker\": {\"colorbar\": {\"outlinewidth\": 0, \"ticks\": \"\"}}, \"type\": \"scattermapbox\"}], \"scatterpolar\": [{\"marker\": {\"colorbar\": {\"outlinewidth\": 0, \"ticks\": \"\"}}, \"type\": \"scatterpolar\"}], \"scatterpolargl\": [{\"marker\": {\"colorbar\": {\"outlinewidth\": 0, \"ticks\": \"\"}}, \"type\": \"scatterpolargl\"}], \"scatterternary\": [{\"marker\": {\"colorbar\": {\"outlinewidth\": 0, \"ticks\": \"\"}}, \"type\": \"scatterternary\"}], \"surface\": [{\"colorbar\": {\"outlinewidth\": 0, \"ticks\": \"\"}, \"colorscale\": [[0.0, \"#0d0887\"], [0.1111111111111111, \"#46039f\"], [0.2222222222222222, \"#7201a8\"], [0.3333333333333333, \"#9c179e\"], [0.4444444444444444, \"#bd3786\"], [0.5555555555555556, \"#d8576b\"], [0.6666666666666666, \"#ed7953\"], [0.7777777777777778, \"#fb9f3a\"], [0.8888888888888888, \"#fdca26\"], [1.0, \"#f0f921\"]], \"type\": \"surface\"}], \"table\": [{\"cells\": {\"fill\": {\"color\": \"#EBF0F8\"}, \"line\": {\"color\": \"white\"}}, \"header\": {\"fill\": {\"color\": \"#C8D4E3\"}, \"line\": {\"color\": \"white\"}}, \"type\": \"table\"}]}, \"layout\": {\"annotationdefaults\": {\"arrowcolor\": \"#2a3f5f\", \"arrowhead\": 0, \"arrowwidth\": 1}, \"colorscale\": {\"diverging\": [[0, \"#8e0152\"], [0.1, \"#c51b7d\"], [0.2, \"#de77ae\"], [0.3, \"#f1b6da\"], [0.4, \"#fde0ef\"], [0.5, \"#f7f7f7\"], [0.6, \"#e6f5d0\"], [0.7, \"#b8e186\"], [0.8, \"#7fbc41\"], [0.9, \"#4d9221\"], [1, \"#276419\"]], \"sequential\": [[0.0, \"#0d0887\"], [0.1111111111111111, \"#46039f\"], [0.2222222222222222, \"#7201a8\"], [0.3333333333333333, \"#9c179e\"], [0.4444444444444444, \"#bd3786\"], [0.5555555555555556, \"#d8576b\"], [0.6666666666666666, \"#ed7953\"], [0.7777777777777778, \"#fb9f3a\"], [0.8888888888888888, \"#fdca26\"], [1.0, \"#f0f921\"]], \"sequentialminus\": [[0.0, \"#0d0887\"], [0.1111111111111111, \"#46039f\"], [0.2222222222222222, \"#7201a8\"], [0.3333333333333333, \"#9c179e\"], [0.4444444444444444, \"#bd3786\"], [0.5555555555555556, \"#d8576b\"], [0.6666666666666666, \"#ed7953\"], [0.7777777777777778, \"#fb9f3a\"], [0.8888888888888888, \"#fdca26\"], [1.0, \"#f0f921\"]]}, \"colorway\": [\"#636efa\", \"#EF553B\", \"#00cc96\", \"#ab63fa\", \"#FFA15A\", \"#19d3f3\", \"#FF6692\", \"#B6E880\", \"#FF97FF\", \"#FECB52\"], \"font\": {\"color\": \"#2a3f5f\"}, \"geo\": {\"bgcolor\": \"white\", \"lakecolor\": \"white\", \"landcolor\": \"#E5ECF6\", \"showlakes\": true, \"showland\": true, \"subunitcolor\": \"white\"}, \"hoverlabel\": {\"align\": \"left\"}, \"hovermode\": \"closest\", \"mapbox\": {\"style\": \"light\"}, \"paper_bgcolor\": \"white\", \"plot_bgcolor\": \"#E5ECF6\", \"polar\": {\"angularaxis\": {\"gridcolor\": \"white\", \"linecolor\": \"white\", \"ticks\": \"\"}, \"bgcolor\": \"#E5ECF6\", \"radialaxis\": {\"gridcolor\": \"white\", \"linecolor\": \"white\", \"ticks\": \"\"}}, \"scene\": {\"xaxis\": {\"backgroundcolor\": \"#E5ECF6\", \"gridcolor\": \"white\", \"gridwidth\": 2, \"linecolor\": \"white\", \"showbackground\": true, \"ticks\": \"\", \"zerolinecolor\": \"white\"}, \"yaxis\": {\"backgroundcolor\": \"#E5ECF6\", \"gridcolor\": \"white\", \"gridwidth\": 2, \"linecolor\": \"white\", \"showbackground\": true, \"ticks\": \"\", \"zerolinecolor\": \"white\"}, \"zaxis\": {\"backgroundcolor\": \"#E5ECF6\", \"gridcolor\": \"white\", \"gridwidth\": 2, \"linecolor\": \"white\", \"showbackground\": true, \"ticks\": \"\", \"zerolinecolor\": \"white\"}}, \"shapedefaults\": {\"line\": {\"color\": \"#2a3f5f\"}}, \"ternary\": {\"aaxis\": {\"gridcolor\": \"white\", \"linecolor\": \"white\", \"ticks\": \"\"}, \"baxis\": {\"gridcolor\": \"white\", \"linecolor\": \"white\", \"ticks\": \"\"}, \"bgcolor\": \"#E5ECF6\", \"caxis\": {\"gridcolor\": \"white\", \"linecolor\": \"white\", \"ticks\": \"\"}}, \"title\": {\"x\": 0.05}, \"xaxis\": {\"automargin\": true, \"gridcolor\": \"white\", \"linecolor\": \"white\", \"ticks\": \"\", \"zerolinecolor\": \"white\", \"zerolinewidth\": 2}, \"yaxis\": {\"automargin\": true, \"gridcolor\": \"white\", \"linecolor\": \"white\", \"ticks\": \"\", \"zerolinecolor\": \"white\", \"zerolinewidth\": 2}}}, \"title\": {\"text\": \"newmse:video:total_total:(click_user)\"}, \"xaxis\": {\"type\": \"date\"}, \"yaxis\": {\"title\": {\"text\": \"click_user\"}}},\n",
       "                        {\"responsive\": true}\n",
       "                    ).then(function(){\n",
       "                            \n",
       "var gd = document.getElementById('6bcf26d0-5d7a-4997-804e-cccdcee37fb4');\n",
       "var x = new MutationObserver(function (mutations, observer) {{\n",
       "        var display = window.getComputedStyle(gd).display;\n",
       "        if (!display || display === 'none') {{\n",
       "            console.log([gd, 'removed!']);\n",
       "            Plotly.purge(gd);\n",
       "            observer.disconnect();\n",
       "        }}\n",
       "}});\n",
       "\n",
       "// Listen for the removal of the full notebook cells\n",
       "var notebookContainer = gd.closest('#notebook-container');\n",
       "if (notebookContainer) {{\n",
       "    x.observe(notebookContainer, {childList: true});\n",
       "}}\n",
       "\n",
       "// Listen for the clearing of the current output cell\n",
       "var outputEl = gd.closest('.output');\n",
       "if (outputEl) {{\n",
       "    x.observe(outputEl, {childList: true});\n",
       "}}\n",
       "\n",
       "                        })\n",
       "                };\n",
       "                });\n",
       "            </script>\n",
       "        </div>"
      ]
     },
     "metadata": {},
     "output_type": "display_data"
    },
    {
     "data": {
      "application/vnd.plotly.v1+json": {
       "config": {
        "linkText": "Export to plot.ly",
        "plotlyServerURL": "https://plot.ly",
        "showLink": false
       },
       "data": [
        {
         "hovertext": [
          "-0.0188",
          "-0.0149",
          "0.0149",
          "0.0619",
          "0.0290",
          "-0.0432",
          "0.1169",
          "0.0153",
          "-0.0434",
          "-0.0389",
          "-0.0338",
          "0.0190",
          "0.0756",
          "-0.0340",
          "0.0592",
          "0.1168",
          "0.0794",
          "-0.1410",
          "0.0493",
          "-0.0670",
          "0.0071",
          "-0.0555",
          "0.0186",
          "-0.0063",
          "-0.0055",
          "0.0370",
          "0.0228",
          "-0.0037",
          "-0.0180",
          "-0.0325",
          "0.0452",
          "-0.0100",
          "-0.0226",
          "0.0203",
          "0.0046",
          "0.0063",
          "0.0272",
          "0.0075",
          "0.0729",
          "-0.0851",
          "0.0587",
          "0.0313",
          "0.1965",
          "-0.0165",
          "0.0455",
          "-0.0979",
          "-0.0496",
          "0.0798",
          "-0.0135",
          "0.0394",
          "-0.0438"
         ],
         "line": {
          "shape": "spline",
          "smoothing": 1
         },
         "mode": "lines+markers",
         "name": "7",
         "showlegend": true,
         "type": "scatter",
         "x": [
          "2020-01-12T11:00:00",
          "2020-01-12T12:00:00",
          "2020-01-12T13:00:00",
          "2020-01-12T14:00:00",
          "2020-01-12T15:00:00",
          "2020-01-12T16:00:00",
          "2020-01-12T17:00:00",
          "2020-01-12T18:00:00",
          "2020-01-12T19:00:00",
          "2020-01-12T20:00:00",
          "2020-01-12T21:00:00",
          "2020-01-12T22:00:00",
          "2020-01-12T23:00:00",
          "2020-01-13T00:00:00",
          "2020-01-13T01:00:00",
          "2020-01-13T02:00:00",
          "2020-01-13T03:00:00",
          "2020-01-13T04:00:00",
          "2020-01-13T05:00:00",
          "2020-01-13T06:00:00",
          "2020-01-13T07:00:00",
          "2020-01-13T08:00:00",
          "2020-01-13T09:00:00",
          "2020-01-13T10:00:00",
          "2020-01-13T11:00:00",
          "2020-01-13T12:00:00",
          "2020-01-13T13:00:00",
          "2020-01-13T14:00:00",
          "2020-01-13T15:00:00",
          "2020-01-13T16:00:00",
          "2020-01-13T17:00:00",
          "2020-01-13T18:00:00",
          "2020-01-13T19:00:00",
          "2020-01-13T20:00:00",
          "2020-01-13T21:00:00",
          "2020-01-13T22:00:00",
          "2020-01-13T23:00:00",
          "2020-01-14T00:00:00",
          "2020-01-14T01:00:00",
          "2020-01-14T02:00:00",
          "2020-01-14T03:00:00",
          "2020-01-14T04:00:00",
          "2020-01-14T05:00:00",
          "2020-01-14T06:00:00",
          "2020-01-14T07:00:00",
          "2020-01-14T08:00:00",
          "2020-01-14T09:00:00",
          "2020-01-14T10:00:00",
          "2020-01-14T11:00:00",
          "2020-01-14T12:00:00",
          "2020-01-14T13:00:00"
         ],
         "y": [
          0.3429435654289666,
          0.3388851465572548,
          0.37711626820296523,
          0.41543053278066466,
          0.4142461897506072,
          0.38808898856701884,
          0.4104190681479151,
          0.38175488475142616,
          0.3903824235775859,
          0.42636803444907045,
          0.41747893758738713,
          0.4850023254652242,
          0.49096861780000955,
          0.3390289383962346,
          0.3776746706669834,
          0.39682985547820526,
          0.3927839403948956,
          0.35508628742291115,
          0.4022874575173489,
          0.34723706002069105,
          0.3346551862737264,
          0.23861163217085984,
          0.16869682306766018,
          0.26459413810268734,
          0.30165567922851627,
          0.3426625733911996,
          0.36527890908656213,
          0.33144812812418994,
          0.3429038613594711,
          0.3486721304179743,
          0.3795666251771827,
          0.3741129456619678,
          0.4336482927438289,
          0.4826741059531326,
          0.47446787283681385,
          0.4686090931474669,
          0.4690416094406735,
          0.3438454575179014,
          0.38452242505358064,
          0.34517175730222105,
          0.42288260826572643,
          0.3927877405388356,
          0.455494245454464,
          0.3448528821741702,
          0.33252015837422555,
          0.248840216712204,
          0.17697797714938704,
          0.3016409257775031,
          0.32144070931361424,
          0.3481881217651573,
          0.35462278213537646
         ]
        },
        {
         "line": {
          "shape": "spline",
          "smoothing": 1
         },
         "mode": "lines+markers",
         "name": "456",
         "showlegend": true,
         "type": "scatter",
         "x": [
          "2020-01-12T11:00:00",
          "2020-01-12T12:00:00",
          "2020-01-12T13:00:00",
          "2020-01-12T14:00:00",
          "2020-01-12T15:00:00",
          "2020-01-12T16:00:00",
          "2020-01-12T17:00:00",
          "2020-01-12T18:00:00",
          "2020-01-12T19:00:00",
          "2020-01-12T20:00:00",
          "2020-01-12T21:00:00",
          "2020-01-12T22:00:00",
          "2020-01-12T23:00:00",
          "2020-01-13T00:00:00",
          "2020-01-13T01:00:00",
          "2020-01-13T02:00:00",
          "2020-01-13T03:00:00",
          "2020-01-13T04:00:00",
          "2020-01-13T05:00:00",
          "2020-01-13T06:00:00",
          "2020-01-13T07:00:00",
          "2020-01-13T08:00:00",
          "2020-01-13T09:00:00",
          "2020-01-13T10:00:00",
          "2020-01-13T11:00:00",
          "2020-01-13T12:00:00",
          "2020-01-13T13:00:00",
          "2020-01-13T14:00:00",
          "2020-01-13T15:00:00",
          "2020-01-13T16:00:00",
          "2020-01-13T17:00:00",
          "2020-01-13T18:00:00",
          "2020-01-13T19:00:00",
          "2020-01-13T20:00:00",
          "2020-01-13T21:00:00",
          "2020-01-13T22:00:00",
          "2020-01-13T23:00:00",
          "2020-01-14T00:00:00",
          "2020-01-14T01:00:00",
          "2020-01-14T02:00:00",
          "2020-01-14T03:00:00",
          "2020-01-14T04:00:00",
          "2020-01-14T05:00:00",
          "2020-01-14T06:00:00",
          "2020-01-14T07:00:00",
          "2020-01-14T08:00:00",
          "2020-01-14T09:00:00",
          "2020-01-14T10:00:00",
          "2020-01-14T11:00:00",
          "2020-01-14T12:00:00",
          "2020-01-14T13:00:00"
         ],
         "y": [
          0.3495132879300109,
          0.34400153743181683,
          0.37156790843269794,
          0.3912109023544419,
          0.4025633239910322,
          0.4055949403848269,
          0.3674626223659498,
          0.3759934387429959,
          0.40809616772839047,
          0.44364174226939523,
          0.43210000132168297,
          0.4759467670140698,
          0.4564785404278035,
          0.3509700117930758,
          0.3565722131615306,
          0.35534090813406727,
          0.3638801608564765,
          0.4133944094990953,
          0.3833807371794314,
          0.3721706601322016,
          0.33229905127289644,
          0.2526388376199753,
          0.16561118639160433,
          0.2662597322077786,
          0.3033373275663395,
          0.3304444299336024,
          0.35711936097254754,
          0.33268495919565094,
          0.3491815543815539,
          0.3603689852521474,
          0.36315565789670917,
          0.37790030733309626,
          0.4436539162853728,
          0.473052157083853,
          0.47230899144300387,
          0.46568062076160754,
          0.4566323956918967,
          0.34128847731782663,
          0.3583958197565497,
          0.3772713380843147,
          0.39943483652326345,
          0.380867144372606,
          0.3806969745325593,
          0.3506368781294369,
          0.31805131162724215,
          0.2758539591162827,
          0.18620690281389665,
          0.27935687943037496,
          0.3258278730649669,
          0.33499222170541776,
          0.3708626903238228
         ]
        }
       ],
       "layout": {
        "hovermode": "x",
        "template": {
         "data": {
          "bar": [
           {
            "error_x": {
             "color": "#2a3f5f"
            },
            "error_y": {
             "color": "#2a3f5f"
            },
            "marker": {
             "line": {
              "color": "#E5ECF6",
              "width": 0.5
             }
            },
            "type": "bar"
           }
          ],
          "barpolar": [
           {
            "marker": {
             "line": {
              "color": "#E5ECF6",
              "width": 0.5
             }
            },
            "type": "barpolar"
           }
          ],
          "carpet": [
           {
            "aaxis": {
             "endlinecolor": "#2a3f5f",
             "gridcolor": "white",
             "linecolor": "white",
             "minorgridcolor": "white",
             "startlinecolor": "#2a3f5f"
            },
            "baxis": {
             "endlinecolor": "#2a3f5f",
             "gridcolor": "white",
             "linecolor": "white",
             "minorgridcolor": "white",
             "startlinecolor": "#2a3f5f"
            },
            "type": "carpet"
           }
          ],
          "choropleth": [
           {
            "colorbar": {
             "outlinewidth": 0,
             "ticks": ""
            },
            "type": "choropleth"
           }
          ],
          "contour": [
           {
            "colorbar": {
             "outlinewidth": 0,
             "ticks": ""
            },
            "colorscale": [
             [
              0,
              "#0d0887"
             ],
             [
              0.1111111111111111,
              "#46039f"
             ],
             [
              0.2222222222222222,
              "#7201a8"
             ],
             [
              0.3333333333333333,
              "#9c179e"
             ],
             [
              0.4444444444444444,
              "#bd3786"
             ],
             [
              0.5555555555555556,
              "#d8576b"
             ],
             [
              0.6666666666666666,
              "#ed7953"
             ],
             [
              0.7777777777777778,
              "#fb9f3a"
             ],
             [
              0.8888888888888888,
              "#fdca26"
             ],
             [
              1,
              "#f0f921"
             ]
            ],
            "type": "contour"
           }
          ],
          "contourcarpet": [
           {
            "colorbar": {
             "outlinewidth": 0,
             "ticks": ""
            },
            "type": "contourcarpet"
           }
          ],
          "heatmap": [
           {
            "colorbar": {
             "outlinewidth": 0,
             "ticks": ""
            },
            "colorscale": [
             [
              0,
              "#0d0887"
             ],
             [
              0.1111111111111111,
              "#46039f"
             ],
             [
              0.2222222222222222,
              "#7201a8"
             ],
             [
              0.3333333333333333,
              "#9c179e"
             ],
             [
              0.4444444444444444,
              "#bd3786"
             ],
             [
              0.5555555555555556,
              "#d8576b"
             ],
             [
              0.6666666666666666,
              "#ed7953"
             ],
             [
              0.7777777777777778,
              "#fb9f3a"
             ],
             [
              0.8888888888888888,
              "#fdca26"
             ],
             [
              1,
              "#f0f921"
             ]
            ],
            "type": "heatmap"
           }
          ],
          "heatmapgl": [
           {
            "colorbar": {
             "outlinewidth": 0,
             "ticks": ""
            },
            "colorscale": [
             [
              0,
              "#0d0887"
             ],
             [
              0.1111111111111111,
              "#46039f"
             ],
             [
              0.2222222222222222,
              "#7201a8"
             ],
             [
              0.3333333333333333,
              "#9c179e"
             ],
             [
              0.4444444444444444,
              "#bd3786"
             ],
             [
              0.5555555555555556,
              "#d8576b"
             ],
             [
              0.6666666666666666,
              "#ed7953"
             ],
             [
              0.7777777777777778,
              "#fb9f3a"
             ],
             [
              0.8888888888888888,
              "#fdca26"
             ],
             [
              1,
              "#f0f921"
             ]
            ],
            "type": "heatmapgl"
           }
          ],
          "histogram": [
           {
            "marker": {
             "colorbar": {
              "outlinewidth": 0,
              "ticks": ""
             }
            },
            "type": "histogram"
           }
          ],
          "histogram2d": [
           {
            "colorbar": {
             "outlinewidth": 0,
             "ticks": ""
            },
            "colorscale": [
             [
              0,
              "#0d0887"
             ],
             [
              0.1111111111111111,
              "#46039f"
             ],
             [
              0.2222222222222222,
              "#7201a8"
             ],
             [
              0.3333333333333333,
              "#9c179e"
             ],
             [
              0.4444444444444444,
              "#bd3786"
             ],
             [
              0.5555555555555556,
              "#d8576b"
             ],
             [
              0.6666666666666666,
              "#ed7953"
             ],
             [
              0.7777777777777778,
              "#fb9f3a"
             ],
             [
              0.8888888888888888,
              "#fdca26"
             ],
             [
              1,
              "#f0f921"
             ]
            ],
            "type": "histogram2d"
           }
          ],
          "histogram2dcontour": [
           {
            "colorbar": {
             "outlinewidth": 0,
             "ticks": ""
            },
            "colorscale": [
             [
              0,
              "#0d0887"
             ],
             [
              0.1111111111111111,
              "#46039f"
             ],
             [
              0.2222222222222222,
              "#7201a8"
             ],
             [
              0.3333333333333333,
              "#9c179e"
             ],
             [
              0.4444444444444444,
              "#bd3786"
             ],
             [
              0.5555555555555556,
              "#d8576b"
             ],
             [
              0.6666666666666666,
              "#ed7953"
             ],
             [
              0.7777777777777778,
              "#fb9f3a"
             ],
             [
              0.8888888888888888,
              "#fdca26"
             ],
             [
              1,
              "#f0f921"
             ]
            ],
            "type": "histogram2dcontour"
           }
          ],
          "mesh3d": [
           {
            "colorbar": {
             "outlinewidth": 0,
             "ticks": ""
            },
            "type": "mesh3d"
           }
          ],
          "parcoords": [
           {
            "line": {
             "colorbar": {
              "outlinewidth": 0,
              "ticks": ""
             }
            },
            "type": "parcoords"
           }
          ],
          "scatter": [
           {
            "marker": {
             "colorbar": {
              "outlinewidth": 0,
              "ticks": ""
             }
            },
            "type": "scatter"
           }
          ],
          "scatter3d": [
           {
            "line": {
             "colorbar": {
              "outlinewidth": 0,
              "ticks": ""
             }
            },
            "marker": {
             "colorbar": {
              "outlinewidth": 0,
              "ticks": ""
             }
            },
            "type": "scatter3d"
           }
          ],
          "scattercarpet": [
           {
            "marker": {
             "colorbar": {
              "outlinewidth": 0,
              "ticks": ""
             }
            },
            "type": "scattercarpet"
           }
          ],
          "scattergeo": [
           {
            "marker": {
             "colorbar": {
              "outlinewidth": 0,
              "ticks": ""
             }
            },
            "type": "scattergeo"
           }
          ],
          "scattergl": [
           {
            "marker": {
             "colorbar": {
              "outlinewidth": 0,
              "ticks": ""
             }
            },
            "type": "scattergl"
           }
          ],
          "scattermapbox": [
           {
            "marker": {
             "colorbar": {
              "outlinewidth": 0,
              "ticks": ""
             }
            },
            "type": "scattermapbox"
           }
          ],
          "scatterpolar": [
           {
            "marker": {
             "colorbar": {
              "outlinewidth": 0,
              "ticks": ""
             }
            },
            "type": "scatterpolar"
           }
          ],
          "scatterpolargl": [
           {
            "marker": {
             "colorbar": {
              "outlinewidth": 0,
              "ticks": ""
             }
            },
            "type": "scatterpolargl"
           }
          ],
          "scatterternary": [
           {
            "marker": {
             "colorbar": {
              "outlinewidth": 0,
              "ticks": ""
             }
            },
            "type": "scatterternary"
           }
          ],
          "surface": [
           {
            "colorbar": {
             "outlinewidth": 0,
             "ticks": ""
            },
            "colorscale": [
             [
              0,
              "#0d0887"
             ],
             [
              0.1111111111111111,
              "#46039f"
             ],
             [
              0.2222222222222222,
              "#7201a8"
             ],
             [
              0.3333333333333333,
              "#9c179e"
             ],
             [
              0.4444444444444444,
              "#bd3786"
             ],
             [
              0.5555555555555556,
              "#d8576b"
             ],
             [
              0.6666666666666666,
              "#ed7953"
             ],
             [
              0.7777777777777778,
              "#fb9f3a"
             ],
             [
              0.8888888888888888,
              "#fdca26"
             ],
             [
              1,
              "#f0f921"
             ]
            ],
            "type": "surface"
           }
          ],
          "table": [
           {
            "cells": {
             "fill": {
              "color": "#EBF0F8"
             },
             "line": {
              "color": "white"
             }
            },
            "header": {
             "fill": {
              "color": "#C8D4E3"
             },
             "line": {
              "color": "white"
             }
            },
            "type": "table"
           }
          ]
         },
         "layout": {
          "annotationdefaults": {
           "arrowcolor": "#2a3f5f",
           "arrowhead": 0,
           "arrowwidth": 1
          },
          "colorscale": {
           "diverging": [
            [
             0,
             "#8e0152"
            ],
            [
             0.1,
             "#c51b7d"
            ],
            [
             0.2,
             "#de77ae"
            ],
            [
             0.3,
             "#f1b6da"
            ],
            [
             0.4,
             "#fde0ef"
            ],
            [
             0.5,
             "#f7f7f7"
            ],
            [
             0.6,
             "#e6f5d0"
            ],
            [
             0.7,
             "#b8e186"
            ],
            [
             0.8,
             "#7fbc41"
            ],
            [
             0.9,
             "#4d9221"
            ],
            [
             1,
             "#276419"
            ]
           ],
           "sequential": [
            [
             0,
             "#0d0887"
            ],
            [
             0.1111111111111111,
             "#46039f"
            ],
            [
             0.2222222222222222,
             "#7201a8"
            ],
            [
             0.3333333333333333,
             "#9c179e"
            ],
            [
             0.4444444444444444,
             "#bd3786"
            ],
            [
             0.5555555555555556,
             "#d8576b"
            ],
            [
             0.6666666666666666,
             "#ed7953"
            ],
            [
             0.7777777777777778,
             "#fb9f3a"
            ],
            [
             0.8888888888888888,
             "#fdca26"
            ],
            [
             1,
             "#f0f921"
            ]
           ],
           "sequentialminus": [
            [
             0,
             "#0d0887"
            ],
            [
             0.1111111111111111,
             "#46039f"
            ],
            [
             0.2222222222222222,
             "#7201a8"
            ],
            [
             0.3333333333333333,
             "#9c179e"
            ],
            [
             0.4444444444444444,
             "#bd3786"
            ],
            [
             0.5555555555555556,
             "#d8576b"
            ],
            [
             0.6666666666666666,
             "#ed7953"
            ],
            [
             0.7777777777777778,
             "#fb9f3a"
            ],
            [
             0.8888888888888888,
             "#fdca26"
            ],
            [
             1,
             "#f0f921"
            ]
           ]
          },
          "colorway": [
           "#636efa",
           "#EF553B",
           "#00cc96",
           "#ab63fa",
           "#FFA15A",
           "#19d3f3",
           "#FF6692",
           "#B6E880",
           "#FF97FF",
           "#FECB52"
          ],
          "font": {
           "color": "#2a3f5f"
          },
          "geo": {
           "bgcolor": "white",
           "lakecolor": "white",
           "landcolor": "#E5ECF6",
           "showlakes": true,
           "showland": true,
           "subunitcolor": "white"
          },
          "hoverlabel": {
           "align": "left"
          },
          "hovermode": "closest",
          "mapbox": {
           "style": "light"
          },
          "paper_bgcolor": "white",
          "plot_bgcolor": "#E5ECF6",
          "polar": {
           "angularaxis": {
            "gridcolor": "white",
            "linecolor": "white",
            "ticks": ""
           },
           "bgcolor": "#E5ECF6",
           "radialaxis": {
            "gridcolor": "white",
            "linecolor": "white",
            "ticks": ""
           }
          },
          "scene": {
           "xaxis": {
            "backgroundcolor": "#E5ECF6",
            "gridcolor": "white",
            "gridwidth": 2,
            "linecolor": "white",
            "showbackground": true,
            "ticks": "",
            "zerolinecolor": "white"
           },
           "yaxis": {
            "backgroundcolor": "#E5ECF6",
            "gridcolor": "white",
            "gridwidth": 2,
            "linecolor": "white",
            "showbackground": true,
            "ticks": "",
            "zerolinecolor": "white"
           },
           "zaxis": {
            "backgroundcolor": "#E5ECF6",
            "gridcolor": "white",
            "gridwidth": 2,
            "linecolor": "white",
            "showbackground": true,
            "ticks": "",
            "zerolinecolor": "white"
           }
          },
          "shapedefaults": {
           "line": {
            "color": "#2a3f5f"
           }
          },
          "ternary": {
           "aaxis": {
            "gridcolor": "white",
            "linecolor": "white",
            "ticks": ""
           },
           "baxis": {
            "gridcolor": "white",
            "linecolor": "white",
            "ticks": ""
           },
           "bgcolor": "#E5ECF6",
           "caxis": {
            "gridcolor": "white",
            "linecolor": "white",
            "ticks": ""
           }
          },
          "title": {
           "x": 0.05
          },
          "xaxis": {
           "automargin": true,
           "gridcolor": "white",
           "linecolor": "white",
           "ticks": "",
           "zerolinecolor": "white",
           "zerolinewidth": 2
          },
          "yaxis": {
           "automargin": true,
           "gridcolor": "white",
           "linecolor": "white",
           "ticks": "",
           "zerolinecolor": "white",
           "zerolinewidth": 2
          }
         }
        },
        "title": {
         "text": "newmse:video:total_total:(read_files)"
        },
        "xaxis": {
         "type": "date"
        },
        "yaxis": {
         "title": {
          "text": "read_files"
         }
        }
       }
      },
      "text/html": [
       "<div>\n",
       "        \n",
       "        \n",
       "            <div id=\"40692c76-3e7c-4a95-bec8-b8ccb943b892\" class=\"plotly-graph-div\" style=\"height:525px; width:100%;\"></div>\n",
       "            <script type=\"text/javascript\">\n",
       "                require([\"plotly\"], function(Plotly) {\n",
       "                    window.PLOTLYENV=window.PLOTLYENV || {};\n",
       "                    \n",
       "                if (document.getElementById(\"40692c76-3e7c-4a95-bec8-b8ccb943b892\")) {\n",
       "                    Plotly.newPlot(\n",
       "                        '40692c76-3e7c-4a95-bec8-b8ccb943b892',\n",
       "                        [{\"hovertext\": [\"-0.0188\", \"-0.0149\", \"0.0149\", \"0.0619\", \"0.0290\", \"-0.0432\", \"0.1169\", \"0.0153\", \"-0.0434\", \"-0.0389\", \"-0.0338\", \"0.0190\", \"0.0756\", \"-0.0340\", \"0.0592\", \"0.1168\", \"0.0794\", \"-0.1410\", \"0.0493\", \"-0.0670\", \"0.0071\", \"-0.0555\", \"0.0186\", \"-0.0063\", \"-0.0055\", \"0.0370\", \"0.0228\", \"-0.0037\", \"-0.0180\", \"-0.0325\", \"0.0452\", \"-0.0100\", \"-0.0226\", \"0.0203\", \"0.0046\", \"0.0063\", \"0.0272\", \"0.0075\", \"0.0729\", \"-0.0851\", \"0.0587\", \"0.0313\", \"0.1965\", \"-0.0165\", \"0.0455\", \"-0.0979\", \"-0.0496\", \"0.0798\", \"-0.0135\", \"0.0394\", \"-0.0438\"], \"line\": {\"shape\": \"spline\", \"smoothing\": 1.0}, \"mode\": \"lines+markers\", \"name\": \"7\", \"showlegend\": true, \"type\": \"scatter\", \"x\": [\"2020-01-12T11:00:00\", \"2020-01-12T12:00:00\", \"2020-01-12T13:00:00\", \"2020-01-12T14:00:00\", \"2020-01-12T15:00:00\", \"2020-01-12T16:00:00\", \"2020-01-12T17:00:00\", \"2020-01-12T18:00:00\", \"2020-01-12T19:00:00\", \"2020-01-12T20:00:00\", \"2020-01-12T21:00:00\", \"2020-01-12T22:00:00\", \"2020-01-12T23:00:00\", \"2020-01-13T00:00:00\", \"2020-01-13T01:00:00\", \"2020-01-13T02:00:00\", \"2020-01-13T03:00:00\", \"2020-01-13T04:00:00\", \"2020-01-13T05:00:00\", \"2020-01-13T06:00:00\", \"2020-01-13T07:00:00\", \"2020-01-13T08:00:00\", \"2020-01-13T09:00:00\", \"2020-01-13T10:00:00\", \"2020-01-13T11:00:00\", \"2020-01-13T12:00:00\", \"2020-01-13T13:00:00\", \"2020-01-13T14:00:00\", \"2020-01-13T15:00:00\", \"2020-01-13T16:00:00\", \"2020-01-13T17:00:00\", \"2020-01-13T18:00:00\", \"2020-01-13T19:00:00\", \"2020-01-13T20:00:00\", \"2020-01-13T21:00:00\", \"2020-01-13T22:00:00\", \"2020-01-13T23:00:00\", \"2020-01-14T00:00:00\", \"2020-01-14T01:00:00\", \"2020-01-14T02:00:00\", \"2020-01-14T03:00:00\", \"2020-01-14T04:00:00\", \"2020-01-14T05:00:00\", \"2020-01-14T06:00:00\", \"2020-01-14T07:00:00\", \"2020-01-14T08:00:00\", \"2020-01-14T09:00:00\", \"2020-01-14T10:00:00\", \"2020-01-14T11:00:00\", \"2020-01-14T12:00:00\", \"2020-01-14T13:00:00\"], \"y\": [0.3429435654289666, 0.3388851465572548, 0.37711626820296523, 0.41543053278066466, 0.4142461897506072, 0.38808898856701884, 0.4104190681479151, 0.38175488475142616, 0.3903824235775859, 0.42636803444907045, 0.41747893758738713, 0.4850023254652242, 0.49096861780000955, 0.3390289383962346, 0.3776746706669834, 0.39682985547820526, 0.3927839403948956, 0.35508628742291115, 0.4022874575173489, 0.34723706002069105, 0.3346551862737264, 0.23861163217085984, 0.16869682306766018, 0.26459413810268734, 0.30165567922851627, 0.3426625733911996, 0.36527890908656213, 0.33144812812418994, 0.3429038613594711, 0.3486721304179743, 0.3795666251771827, 0.3741129456619678, 0.4336482927438289, 0.4826741059531326, 0.47446787283681385, 0.4686090931474669, 0.4690416094406735, 0.3438454575179014, 0.38452242505358064, 0.34517175730222105, 0.42288260826572643, 0.3927877405388356, 0.455494245454464, 0.3448528821741702, 0.33252015837422555, 0.248840216712204, 0.17697797714938704, 0.3016409257775031, 0.32144070931361424, 0.3481881217651573, 0.35462278213537646]}, {\"line\": {\"shape\": \"spline\", \"smoothing\": 1.0}, \"mode\": \"lines+markers\", \"name\": \"456\", \"showlegend\": true, \"type\": \"scatter\", \"x\": [\"2020-01-12T11:00:00\", \"2020-01-12T12:00:00\", \"2020-01-12T13:00:00\", \"2020-01-12T14:00:00\", \"2020-01-12T15:00:00\", \"2020-01-12T16:00:00\", \"2020-01-12T17:00:00\", \"2020-01-12T18:00:00\", \"2020-01-12T19:00:00\", \"2020-01-12T20:00:00\", \"2020-01-12T21:00:00\", \"2020-01-12T22:00:00\", \"2020-01-12T23:00:00\", \"2020-01-13T00:00:00\", \"2020-01-13T01:00:00\", \"2020-01-13T02:00:00\", \"2020-01-13T03:00:00\", \"2020-01-13T04:00:00\", \"2020-01-13T05:00:00\", \"2020-01-13T06:00:00\", \"2020-01-13T07:00:00\", \"2020-01-13T08:00:00\", \"2020-01-13T09:00:00\", \"2020-01-13T10:00:00\", \"2020-01-13T11:00:00\", \"2020-01-13T12:00:00\", \"2020-01-13T13:00:00\", \"2020-01-13T14:00:00\", \"2020-01-13T15:00:00\", \"2020-01-13T16:00:00\", \"2020-01-13T17:00:00\", \"2020-01-13T18:00:00\", \"2020-01-13T19:00:00\", \"2020-01-13T20:00:00\", \"2020-01-13T21:00:00\", \"2020-01-13T22:00:00\", \"2020-01-13T23:00:00\", \"2020-01-14T00:00:00\", \"2020-01-14T01:00:00\", \"2020-01-14T02:00:00\", \"2020-01-14T03:00:00\", \"2020-01-14T04:00:00\", \"2020-01-14T05:00:00\", \"2020-01-14T06:00:00\", \"2020-01-14T07:00:00\", \"2020-01-14T08:00:00\", \"2020-01-14T09:00:00\", \"2020-01-14T10:00:00\", \"2020-01-14T11:00:00\", \"2020-01-14T12:00:00\", \"2020-01-14T13:00:00\"], \"y\": [0.3495132879300109, 0.34400153743181683, 0.37156790843269794, 0.3912109023544419, 0.4025633239910322, 0.4055949403848269, 0.3674626223659498, 0.3759934387429959, 0.40809616772839047, 0.44364174226939523, 0.43210000132168297, 0.4759467670140698, 0.4564785404278035, 0.3509700117930758, 0.3565722131615306, 0.35534090813406727, 0.3638801608564765, 0.4133944094990953, 0.3833807371794314, 0.3721706601322016, 0.33229905127289644, 0.2526388376199753, 0.16561118639160433, 0.2662597322077786, 0.3033373275663395, 0.3304444299336024, 0.35711936097254754, 0.33268495919565094, 0.3491815543815539, 0.3603689852521474, 0.36315565789670917, 0.37790030733309626, 0.4436539162853728, 0.473052157083853, 0.47230899144300387, 0.46568062076160754, 0.4566323956918967, 0.34128847731782663, 0.3583958197565497, 0.3772713380843147, 0.39943483652326345, 0.380867144372606, 0.3806969745325593, 0.3506368781294369, 0.31805131162724215, 0.2758539591162827, 0.18620690281389665, 0.27935687943037496, 0.3258278730649669, 0.33499222170541776, 0.3708626903238228]}],\n",
       "                        {\"hovermode\": \"x\", \"template\": {\"data\": {\"bar\": [{\"error_x\": {\"color\": \"#2a3f5f\"}, \"error_y\": {\"color\": \"#2a3f5f\"}, \"marker\": {\"line\": {\"color\": \"#E5ECF6\", \"width\": 0.5}}, \"type\": \"bar\"}], \"barpolar\": [{\"marker\": {\"line\": {\"color\": \"#E5ECF6\", \"width\": 0.5}}, \"type\": \"barpolar\"}], \"carpet\": [{\"aaxis\": {\"endlinecolor\": \"#2a3f5f\", \"gridcolor\": \"white\", \"linecolor\": \"white\", \"minorgridcolor\": \"white\", \"startlinecolor\": \"#2a3f5f\"}, \"baxis\": {\"endlinecolor\": \"#2a3f5f\", \"gridcolor\": \"white\", \"linecolor\": \"white\", \"minorgridcolor\": \"white\", \"startlinecolor\": \"#2a3f5f\"}, \"type\": \"carpet\"}], \"choropleth\": [{\"colorbar\": {\"outlinewidth\": 0, \"ticks\": \"\"}, \"type\": \"choropleth\"}], \"contour\": [{\"colorbar\": {\"outlinewidth\": 0, \"ticks\": \"\"}, \"colorscale\": [[0.0, \"#0d0887\"], [0.1111111111111111, \"#46039f\"], [0.2222222222222222, \"#7201a8\"], [0.3333333333333333, \"#9c179e\"], [0.4444444444444444, \"#bd3786\"], [0.5555555555555556, \"#d8576b\"], [0.6666666666666666, \"#ed7953\"], [0.7777777777777778, \"#fb9f3a\"], [0.8888888888888888, \"#fdca26\"], [1.0, \"#f0f921\"]], \"type\": \"contour\"}], \"contourcarpet\": [{\"colorbar\": {\"outlinewidth\": 0, \"ticks\": \"\"}, \"type\": \"contourcarpet\"}], \"heatmap\": [{\"colorbar\": {\"outlinewidth\": 0, \"ticks\": \"\"}, \"colorscale\": [[0.0, \"#0d0887\"], [0.1111111111111111, \"#46039f\"], [0.2222222222222222, \"#7201a8\"], [0.3333333333333333, \"#9c179e\"], [0.4444444444444444, \"#bd3786\"], [0.5555555555555556, \"#d8576b\"], [0.6666666666666666, \"#ed7953\"], [0.7777777777777778, \"#fb9f3a\"], [0.8888888888888888, \"#fdca26\"], [1.0, \"#f0f921\"]], \"type\": \"heatmap\"}], \"heatmapgl\": [{\"colorbar\": {\"outlinewidth\": 0, \"ticks\": \"\"}, \"colorscale\": [[0.0, \"#0d0887\"], [0.1111111111111111, \"#46039f\"], [0.2222222222222222, \"#7201a8\"], [0.3333333333333333, \"#9c179e\"], [0.4444444444444444, \"#bd3786\"], [0.5555555555555556, \"#d8576b\"], [0.6666666666666666, \"#ed7953\"], [0.7777777777777778, \"#fb9f3a\"], [0.8888888888888888, \"#fdca26\"], [1.0, \"#f0f921\"]], \"type\": \"heatmapgl\"}], \"histogram\": [{\"marker\": {\"colorbar\": {\"outlinewidth\": 0, \"ticks\": \"\"}}, \"type\": \"histogram\"}], \"histogram2d\": [{\"colorbar\": {\"outlinewidth\": 0, \"ticks\": \"\"}, \"colorscale\": [[0.0, \"#0d0887\"], [0.1111111111111111, \"#46039f\"], [0.2222222222222222, \"#7201a8\"], [0.3333333333333333, \"#9c179e\"], [0.4444444444444444, \"#bd3786\"], [0.5555555555555556, \"#d8576b\"], [0.6666666666666666, \"#ed7953\"], [0.7777777777777778, \"#fb9f3a\"], [0.8888888888888888, \"#fdca26\"], [1.0, \"#f0f921\"]], \"type\": \"histogram2d\"}], \"histogram2dcontour\": [{\"colorbar\": {\"outlinewidth\": 0, \"ticks\": \"\"}, \"colorscale\": [[0.0, \"#0d0887\"], [0.1111111111111111, \"#46039f\"], [0.2222222222222222, \"#7201a8\"], [0.3333333333333333, \"#9c179e\"], [0.4444444444444444, \"#bd3786\"], [0.5555555555555556, \"#d8576b\"], [0.6666666666666666, \"#ed7953\"], [0.7777777777777778, \"#fb9f3a\"], [0.8888888888888888, \"#fdca26\"], [1.0, \"#f0f921\"]], \"type\": \"histogram2dcontour\"}], \"mesh3d\": [{\"colorbar\": {\"outlinewidth\": 0, \"ticks\": \"\"}, \"type\": \"mesh3d\"}], \"parcoords\": [{\"line\": {\"colorbar\": {\"outlinewidth\": 0, \"ticks\": \"\"}}, \"type\": \"parcoords\"}], \"scatter\": [{\"marker\": {\"colorbar\": {\"outlinewidth\": 0, \"ticks\": \"\"}}, \"type\": \"scatter\"}], \"scatter3d\": [{\"line\": {\"colorbar\": {\"outlinewidth\": 0, \"ticks\": \"\"}}, \"marker\": {\"colorbar\": {\"outlinewidth\": 0, \"ticks\": \"\"}}, \"type\": \"scatter3d\"}], \"scattercarpet\": [{\"marker\": {\"colorbar\": {\"outlinewidth\": 0, \"ticks\": \"\"}}, \"type\": \"scattercarpet\"}], \"scattergeo\": [{\"marker\": {\"colorbar\": {\"outlinewidth\": 0, \"ticks\": \"\"}}, \"type\": \"scattergeo\"}], \"scattergl\": [{\"marker\": {\"colorbar\": {\"outlinewidth\": 0, \"ticks\": \"\"}}, \"type\": \"scattergl\"}], \"scattermapbox\": [{\"marker\": {\"colorbar\": {\"outlinewidth\": 0, \"ticks\": \"\"}}, \"type\": \"scattermapbox\"}], \"scatterpolar\": [{\"marker\": {\"colorbar\": {\"outlinewidth\": 0, \"ticks\": \"\"}}, \"type\": \"scatterpolar\"}], \"scatterpolargl\": [{\"marker\": {\"colorbar\": {\"outlinewidth\": 0, \"ticks\": \"\"}}, \"type\": \"scatterpolargl\"}], \"scatterternary\": [{\"marker\": {\"colorbar\": {\"outlinewidth\": 0, \"ticks\": \"\"}}, \"type\": \"scatterternary\"}], \"surface\": [{\"colorbar\": {\"outlinewidth\": 0, \"ticks\": \"\"}, \"colorscale\": [[0.0, \"#0d0887\"], [0.1111111111111111, \"#46039f\"], [0.2222222222222222, \"#7201a8\"], [0.3333333333333333, \"#9c179e\"], [0.4444444444444444, \"#bd3786\"], [0.5555555555555556, \"#d8576b\"], [0.6666666666666666, \"#ed7953\"], [0.7777777777777778, \"#fb9f3a\"], [0.8888888888888888, \"#fdca26\"], [1.0, \"#f0f921\"]], \"type\": \"surface\"}], \"table\": [{\"cells\": {\"fill\": {\"color\": \"#EBF0F8\"}, \"line\": {\"color\": \"white\"}}, \"header\": {\"fill\": {\"color\": \"#C8D4E3\"}, \"line\": {\"color\": \"white\"}}, \"type\": \"table\"}]}, \"layout\": {\"annotationdefaults\": {\"arrowcolor\": \"#2a3f5f\", \"arrowhead\": 0, \"arrowwidth\": 1}, \"colorscale\": {\"diverging\": [[0, \"#8e0152\"], [0.1, \"#c51b7d\"], [0.2, \"#de77ae\"], [0.3, \"#f1b6da\"], [0.4, \"#fde0ef\"], [0.5, \"#f7f7f7\"], [0.6, \"#e6f5d0\"], [0.7, \"#b8e186\"], [0.8, \"#7fbc41\"], [0.9, \"#4d9221\"], [1, \"#276419\"]], \"sequential\": [[0.0, \"#0d0887\"], [0.1111111111111111, \"#46039f\"], [0.2222222222222222, \"#7201a8\"], [0.3333333333333333, \"#9c179e\"], [0.4444444444444444, \"#bd3786\"], [0.5555555555555556, \"#d8576b\"], [0.6666666666666666, \"#ed7953\"], [0.7777777777777778, \"#fb9f3a\"], [0.8888888888888888, \"#fdca26\"], [1.0, \"#f0f921\"]], \"sequentialminus\": [[0.0, \"#0d0887\"], [0.1111111111111111, \"#46039f\"], [0.2222222222222222, \"#7201a8\"], [0.3333333333333333, \"#9c179e\"], [0.4444444444444444, \"#bd3786\"], [0.5555555555555556, \"#d8576b\"], [0.6666666666666666, \"#ed7953\"], [0.7777777777777778, \"#fb9f3a\"], [0.8888888888888888, \"#fdca26\"], [1.0, \"#f0f921\"]]}, \"colorway\": [\"#636efa\", \"#EF553B\", \"#00cc96\", \"#ab63fa\", \"#FFA15A\", \"#19d3f3\", \"#FF6692\", \"#B6E880\", \"#FF97FF\", \"#FECB52\"], \"font\": {\"color\": \"#2a3f5f\"}, \"geo\": {\"bgcolor\": \"white\", \"lakecolor\": \"white\", \"landcolor\": \"#E5ECF6\", \"showlakes\": true, \"showland\": true, \"subunitcolor\": \"white\"}, \"hoverlabel\": {\"align\": \"left\"}, \"hovermode\": \"closest\", \"mapbox\": {\"style\": \"light\"}, \"paper_bgcolor\": \"white\", \"plot_bgcolor\": \"#E5ECF6\", \"polar\": {\"angularaxis\": {\"gridcolor\": \"white\", \"linecolor\": \"white\", \"ticks\": \"\"}, \"bgcolor\": \"#E5ECF6\", \"radialaxis\": {\"gridcolor\": \"white\", \"linecolor\": \"white\", \"ticks\": \"\"}}, \"scene\": {\"xaxis\": {\"backgroundcolor\": \"#E5ECF6\", \"gridcolor\": \"white\", \"gridwidth\": 2, \"linecolor\": \"white\", \"showbackground\": true, \"ticks\": \"\", \"zerolinecolor\": \"white\"}, \"yaxis\": {\"backgroundcolor\": \"#E5ECF6\", \"gridcolor\": \"white\", \"gridwidth\": 2, \"linecolor\": \"white\", \"showbackground\": true, \"ticks\": \"\", \"zerolinecolor\": \"white\"}, \"zaxis\": {\"backgroundcolor\": \"#E5ECF6\", \"gridcolor\": \"white\", \"gridwidth\": 2, \"linecolor\": \"white\", \"showbackground\": true, \"ticks\": \"\", \"zerolinecolor\": \"white\"}}, \"shapedefaults\": {\"line\": {\"color\": \"#2a3f5f\"}}, \"ternary\": {\"aaxis\": {\"gridcolor\": \"white\", \"linecolor\": \"white\", \"ticks\": \"\"}, \"baxis\": {\"gridcolor\": \"white\", \"linecolor\": \"white\", \"ticks\": \"\"}, \"bgcolor\": \"#E5ECF6\", \"caxis\": {\"gridcolor\": \"white\", \"linecolor\": \"white\", \"ticks\": \"\"}}, \"title\": {\"x\": 0.05}, \"xaxis\": {\"automargin\": true, \"gridcolor\": \"white\", \"linecolor\": \"white\", \"ticks\": \"\", \"zerolinecolor\": \"white\", \"zerolinewidth\": 2}, \"yaxis\": {\"automargin\": true, \"gridcolor\": \"white\", \"linecolor\": \"white\", \"ticks\": \"\", \"zerolinecolor\": \"white\", \"zerolinewidth\": 2}}}, \"title\": {\"text\": \"newmse:video:total_total:(read_files)\"}, \"xaxis\": {\"type\": \"date\"}, \"yaxis\": {\"title\": {\"text\": \"read_files\"}}},\n",
       "                        {\"responsive\": true}\n",
       "                    ).then(function(){\n",
       "                            \n",
       "var gd = document.getElementById('40692c76-3e7c-4a95-bec8-b8ccb943b892');\n",
       "var x = new MutationObserver(function (mutations, observer) {{\n",
       "        var display = window.getComputedStyle(gd).display;\n",
       "        if (!display || display === 'none') {{\n",
       "            console.log([gd, 'removed!']);\n",
       "            Plotly.purge(gd);\n",
       "            observer.disconnect();\n",
       "        }}\n",
       "}});\n",
       "\n",
       "// Listen for the removal of the full notebook cells\n",
       "var notebookContainer = gd.closest('#notebook-container');\n",
       "if (notebookContainer) {{\n",
       "    x.observe(notebookContainer, {childList: true});\n",
       "}}\n",
       "\n",
       "// Listen for the clearing of the current output cell\n",
       "var outputEl = gd.closest('.output');\n",
       "if (outputEl) {{\n",
       "    x.observe(outputEl, {childList: true});\n",
       "}}\n",
       "\n",
       "                        })\n",
       "                };\n",
       "                });\n",
       "            </script>\n",
       "        </div>"
      ]
     },
     "metadata": {},
     "output_type": "display_data"
    },
    {
     "data": {
      "application/vnd.plotly.v1+json": {
       "config": {
        "linkText": "Export to plot.ly",
        "plotlyServerURL": "https://plot.ly",
        "showLink": false
       },
       "data": [
        {
         "hovertext": [
          "-0.0398",
          "-0.1128",
          "-0.1097",
          "-0.0886",
          "-0.0453",
          "-0.1119",
          "-0.1022",
          "-0.1493",
          "-0.1073",
          "-0.1694",
          "-0.1686",
          "-0.1307",
          "-0.2113",
          "-0.1562",
          "-0.1611",
          "-0.1296",
          "-0.0900",
          "0.0272",
          "-0.1476",
          "-0.0519",
          "-0.0520",
          "-0.0816",
          "-0.1155",
          "0.0203",
          "-0.0741",
          "-0.0870",
          "-0.0830",
          "-0.0500",
          "-0.0207",
          "-0.1349",
          "-0.1318",
          "-0.1329",
          "-0.1158",
          "-0.0902",
          "-0.1323",
          "-0.0729",
          "-0.1595",
          "-0.1463",
          "-0.1256",
          "-0.0126",
          "-0.0679",
          "-0.1041",
          "-0.0220",
          "-0.0137",
          "-0.0870",
          "-0.0000",
          "-0.0429",
          "-0.0763",
          "-0.0486",
          "-0.0465",
          "-0.0666"
         ],
         "line": {
          "shape": "spline",
          "smoothing": 1
         },
         "mode": "lines+markers",
         "name": "7",
         "showlegend": true,
         "type": "scatter",
         "x": [
          "2020-01-12T11:00:00",
          "2020-01-12T12:00:00",
          "2020-01-12T13:00:00",
          "2020-01-12T14:00:00",
          "2020-01-12T15:00:00",
          "2020-01-12T16:00:00",
          "2020-01-12T17:00:00",
          "2020-01-12T18:00:00",
          "2020-01-12T19:00:00",
          "2020-01-12T20:00:00",
          "2020-01-12T21:00:00",
          "2020-01-12T22:00:00",
          "2020-01-12T23:00:00",
          "2020-01-13T00:00:00",
          "2020-01-13T01:00:00",
          "2020-01-13T02:00:00",
          "2020-01-13T03:00:00",
          "2020-01-13T04:00:00",
          "2020-01-13T05:00:00",
          "2020-01-13T06:00:00",
          "2020-01-13T07:00:00",
          "2020-01-13T08:00:00",
          "2020-01-13T09:00:00",
          "2020-01-13T10:00:00",
          "2020-01-13T11:00:00",
          "2020-01-13T12:00:00",
          "2020-01-13T13:00:00",
          "2020-01-13T14:00:00",
          "2020-01-13T15:00:00",
          "2020-01-13T16:00:00",
          "2020-01-13T17:00:00",
          "2020-01-13T18:00:00",
          "2020-01-13T19:00:00",
          "2020-01-13T20:00:00",
          "2020-01-13T21:00:00",
          "2020-01-13T22:00:00",
          "2020-01-13T23:00:00",
          "2020-01-14T00:00:00",
          "2020-01-14T01:00:00",
          "2020-01-14T02:00:00",
          "2020-01-14T03:00:00",
          "2020-01-14T04:00:00",
          "2020-01-14T05:00:00",
          "2020-01-14T06:00:00",
          "2020-01-14T07:00:00",
          "2020-01-14T08:00:00",
          "2020-01-14T09:00:00",
          "2020-01-14T10:00:00",
          "2020-01-14T11:00:00",
          "2020-01-14T12:00:00",
          "2020-01-14T13:00:00"
         ],
         "y": [
          2.230653470628528,
          2.168365182688683,
          2.1089474362249683,
          2.19514391001694,
          2.2727956500711604,
          2.050335299930711,
          2.1563949489474905,
          2.0887999447036774,
          2.1513259841816796,
          2.057467299231113,
          2.06489265580992,
          2.2099444504780617,
          2.1461490336616826,
          2.364306841928883,
          2.3898925778044773,
          2.3675567426725546,
          2.3062347659245432,
          2.3659647515350826,
          2.0507363416415596,
          2.3154177078664278,
          2.298740787562554,
          2.197037176584931,
          1.5999636333834348,
          2.100418150465108,
          1.9922070788299417,
          2.0052827053216253,
          2.0878800435121794,
          2.116623780187916,
          2.1340365465231894,
          1.9119122488921376,
          1.9526335746060064,
          2.0394558819184634,
          2.0919450014070957,
          2.181997026880561,
          2.112289859628674,
          2.333167659258268,
          2.1933119797484646,
          2.30406872535217,
          2.3739174303807795,
          2.7050439680930496,
          2.3836362612957425,
          2.2720530223993247,
          2.3597080443662817,
          2.3848308535646034,
          2.2829408381795098,
          2.343750111105226,
          1.8583069731883703,
          2.001045262298357,
          2.124921342973094,
          2.1795013821241604,
          2.239494128761591
         ]
        },
        {
         "line": {
          "shape": "spline",
          "smoothing": 1
         },
         "mode": "lines+markers",
         "name": "456",
         "showlegend": true,
         "type": "scatter",
         "x": [
          "2020-01-12T11:00:00",
          "2020-01-12T12:00:00",
          "2020-01-12T13:00:00",
          "2020-01-12T14:00:00",
          "2020-01-12T15:00:00",
          "2020-01-12T16:00:00",
          "2020-01-12T17:00:00",
          "2020-01-12T18:00:00",
          "2020-01-12T19:00:00",
          "2020-01-12T20:00:00",
          "2020-01-12T21:00:00",
          "2020-01-12T22:00:00",
          "2020-01-12T23:00:00",
          "2020-01-13T00:00:00",
          "2020-01-13T01:00:00",
          "2020-01-13T02:00:00",
          "2020-01-13T03:00:00",
          "2020-01-13T04:00:00",
          "2020-01-13T05:00:00",
          "2020-01-13T06:00:00",
          "2020-01-13T07:00:00",
          "2020-01-13T08:00:00",
          "2020-01-13T09:00:00",
          "2020-01-13T10:00:00",
          "2020-01-13T11:00:00",
          "2020-01-13T12:00:00",
          "2020-01-13T13:00:00",
          "2020-01-13T14:00:00",
          "2020-01-13T15:00:00",
          "2020-01-13T16:00:00",
          "2020-01-13T17:00:00",
          "2020-01-13T18:00:00",
          "2020-01-13T19:00:00",
          "2020-01-13T20:00:00",
          "2020-01-13T21:00:00",
          "2020-01-13T22:00:00",
          "2020-01-13T23:00:00",
          "2020-01-14T00:00:00",
          "2020-01-14T01:00:00",
          "2020-01-14T02:00:00",
          "2020-01-14T03:00:00",
          "2020-01-14T04:00:00",
          "2020-01-14T05:00:00",
          "2020-01-14T06:00:00",
          "2020-01-14T07:00:00",
          "2020-01-14T08:00:00",
          "2020-01-14T09:00:00",
          "2020-01-14T10:00:00",
          "2020-01-14T11:00:00",
          "2020-01-14T12:00:00",
          "2020-01-14T13:00:00"
         ],
         "y": [
          2.3230919869741915,
          2.4439194094701873,
          2.368845784448139,
          2.4086587249368603,
          2.380653069997967,
          2.3087992169014004,
          2.4019333808167525,
          2.455379273137695,
          2.4098762355310464,
          2.4770852975764837,
          2.483555651064465,
          2.542135343477389,
          2.7212163072582563,
          2.8020801874042878,
          2.848800891826217,
          2.7201283946304677,
          2.5342403924889765,
          2.3033399079357357,
          2.4057489452551835,
          2.442128303539396,
          2.424757204042558,
          2.392114396655401,
          1.80879071414199,
          2.0586042067113013,
          2.1516854469681386,
          2.196356373340933,
          2.2769455219418684,
          2.227920668024535,
          2.17924761994459,
          2.2101086193164763,
          2.249068323792756,
          2.3520308476813923,
          2.365898607281466,
          2.3983544794929177,
          2.434474427896697,
          2.5165437536208675,
          2.6096240629113168,
          2.698914133908944,
          2.7148396672174684,
          2.739695326707899,
          2.557216465394689,
          2.5360300926037826,
          2.412780525448182,
          2.4179464802972617,
          2.500522096324161,
          2.3437659848892087,
          1.9415676940060704,
          2.1662735502090364,
          2.2335296743068436,
          2.285694361734505,
          2.399331930035688
         ]
        }
       ],
       "layout": {
        "hovermode": "x",
        "template": {
         "data": {
          "bar": [
           {
            "error_x": {
             "color": "#2a3f5f"
            },
            "error_y": {
             "color": "#2a3f5f"
            },
            "marker": {
             "line": {
              "color": "#E5ECF6",
              "width": 0.5
             }
            },
            "type": "bar"
           }
          ],
          "barpolar": [
           {
            "marker": {
             "line": {
              "color": "#E5ECF6",
              "width": 0.5
             }
            },
            "type": "barpolar"
           }
          ],
          "carpet": [
           {
            "aaxis": {
             "endlinecolor": "#2a3f5f",
             "gridcolor": "white",
             "linecolor": "white",
             "minorgridcolor": "white",
             "startlinecolor": "#2a3f5f"
            },
            "baxis": {
             "endlinecolor": "#2a3f5f",
             "gridcolor": "white",
             "linecolor": "white",
             "minorgridcolor": "white",
             "startlinecolor": "#2a3f5f"
            },
            "type": "carpet"
           }
          ],
          "choropleth": [
           {
            "colorbar": {
             "outlinewidth": 0,
             "ticks": ""
            },
            "type": "choropleth"
           }
          ],
          "contour": [
           {
            "colorbar": {
             "outlinewidth": 0,
             "ticks": ""
            },
            "colorscale": [
             [
              0,
              "#0d0887"
             ],
             [
              0.1111111111111111,
              "#46039f"
             ],
             [
              0.2222222222222222,
              "#7201a8"
             ],
             [
              0.3333333333333333,
              "#9c179e"
             ],
             [
              0.4444444444444444,
              "#bd3786"
             ],
             [
              0.5555555555555556,
              "#d8576b"
             ],
             [
              0.6666666666666666,
              "#ed7953"
             ],
             [
              0.7777777777777778,
              "#fb9f3a"
             ],
             [
              0.8888888888888888,
              "#fdca26"
             ],
             [
              1,
              "#f0f921"
             ]
            ],
            "type": "contour"
           }
          ],
          "contourcarpet": [
           {
            "colorbar": {
             "outlinewidth": 0,
             "ticks": ""
            },
            "type": "contourcarpet"
           }
          ],
          "heatmap": [
           {
            "colorbar": {
             "outlinewidth": 0,
             "ticks": ""
            },
            "colorscale": [
             [
              0,
              "#0d0887"
             ],
             [
              0.1111111111111111,
              "#46039f"
             ],
             [
              0.2222222222222222,
              "#7201a8"
             ],
             [
              0.3333333333333333,
              "#9c179e"
             ],
             [
              0.4444444444444444,
              "#bd3786"
             ],
             [
              0.5555555555555556,
              "#d8576b"
             ],
             [
              0.6666666666666666,
              "#ed7953"
             ],
             [
              0.7777777777777778,
              "#fb9f3a"
             ],
             [
              0.8888888888888888,
              "#fdca26"
             ],
             [
              1,
              "#f0f921"
             ]
            ],
            "type": "heatmap"
           }
          ],
          "heatmapgl": [
           {
            "colorbar": {
             "outlinewidth": 0,
             "ticks": ""
            },
            "colorscale": [
             [
              0,
              "#0d0887"
             ],
             [
              0.1111111111111111,
              "#46039f"
             ],
             [
              0.2222222222222222,
              "#7201a8"
             ],
             [
              0.3333333333333333,
              "#9c179e"
             ],
             [
              0.4444444444444444,
              "#bd3786"
             ],
             [
              0.5555555555555556,
              "#d8576b"
             ],
             [
              0.6666666666666666,
              "#ed7953"
             ],
             [
              0.7777777777777778,
              "#fb9f3a"
             ],
             [
              0.8888888888888888,
              "#fdca26"
             ],
             [
              1,
              "#f0f921"
             ]
            ],
            "type": "heatmapgl"
           }
          ],
          "histogram": [
           {
            "marker": {
             "colorbar": {
              "outlinewidth": 0,
              "ticks": ""
             }
            },
            "type": "histogram"
           }
          ],
          "histogram2d": [
           {
            "colorbar": {
             "outlinewidth": 0,
             "ticks": ""
            },
            "colorscale": [
             [
              0,
              "#0d0887"
             ],
             [
              0.1111111111111111,
              "#46039f"
             ],
             [
              0.2222222222222222,
              "#7201a8"
             ],
             [
              0.3333333333333333,
              "#9c179e"
             ],
             [
              0.4444444444444444,
              "#bd3786"
             ],
             [
              0.5555555555555556,
              "#d8576b"
             ],
             [
              0.6666666666666666,
              "#ed7953"
             ],
             [
              0.7777777777777778,
              "#fb9f3a"
             ],
             [
              0.8888888888888888,
              "#fdca26"
             ],
             [
              1,
              "#f0f921"
             ]
            ],
            "type": "histogram2d"
           }
          ],
          "histogram2dcontour": [
           {
            "colorbar": {
             "outlinewidth": 0,
             "ticks": ""
            },
            "colorscale": [
             [
              0,
              "#0d0887"
             ],
             [
              0.1111111111111111,
              "#46039f"
             ],
             [
              0.2222222222222222,
              "#7201a8"
             ],
             [
              0.3333333333333333,
              "#9c179e"
             ],
             [
              0.4444444444444444,
              "#bd3786"
             ],
             [
              0.5555555555555556,
              "#d8576b"
             ],
             [
              0.6666666666666666,
              "#ed7953"
             ],
             [
              0.7777777777777778,
              "#fb9f3a"
             ],
             [
              0.8888888888888888,
              "#fdca26"
             ],
             [
              1,
              "#f0f921"
             ]
            ],
            "type": "histogram2dcontour"
           }
          ],
          "mesh3d": [
           {
            "colorbar": {
             "outlinewidth": 0,
             "ticks": ""
            },
            "type": "mesh3d"
           }
          ],
          "parcoords": [
           {
            "line": {
             "colorbar": {
              "outlinewidth": 0,
              "ticks": ""
             }
            },
            "type": "parcoords"
           }
          ],
          "scatter": [
           {
            "marker": {
             "colorbar": {
              "outlinewidth": 0,
              "ticks": ""
             }
            },
            "type": "scatter"
           }
          ],
          "scatter3d": [
           {
            "line": {
             "colorbar": {
              "outlinewidth": 0,
              "ticks": ""
             }
            },
            "marker": {
             "colorbar": {
              "outlinewidth": 0,
              "ticks": ""
             }
            },
            "type": "scatter3d"
           }
          ],
          "scattercarpet": [
           {
            "marker": {
             "colorbar": {
              "outlinewidth": 0,
              "ticks": ""
             }
            },
            "type": "scattercarpet"
           }
          ],
          "scattergeo": [
           {
            "marker": {
             "colorbar": {
              "outlinewidth": 0,
              "ticks": ""
             }
            },
            "type": "scattergeo"
           }
          ],
          "scattergl": [
           {
            "marker": {
             "colorbar": {
              "outlinewidth": 0,
              "ticks": ""
             }
            },
            "type": "scattergl"
           }
          ],
          "scattermapbox": [
           {
            "marker": {
             "colorbar": {
              "outlinewidth": 0,
              "ticks": ""
             }
            },
            "type": "scattermapbox"
           }
          ],
          "scatterpolar": [
           {
            "marker": {
             "colorbar": {
              "outlinewidth": 0,
              "ticks": ""
             }
            },
            "type": "scatterpolar"
           }
          ],
          "scatterpolargl": [
           {
            "marker": {
             "colorbar": {
              "outlinewidth": 0,
              "ticks": ""
             }
            },
            "type": "scatterpolargl"
           }
          ],
          "scatterternary": [
           {
            "marker": {
             "colorbar": {
              "outlinewidth": 0,
              "ticks": ""
             }
            },
            "type": "scatterternary"
           }
          ],
          "surface": [
           {
            "colorbar": {
             "outlinewidth": 0,
             "ticks": ""
            },
            "colorscale": [
             [
              0,
              "#0d0887"
             ],
             [
              0.1111111111111111,
              "#46039f"
             ],
             [
              0.2222222222222222,
              "#7201a8"
             ],
             [
              0.3333333333333333,
              "#9c179e"
             ],
             [
              0.4444444444444444,
              "#bd3786"
             ],
             [
              0.5555555555555556,
              "#d8576b"
             ],
             [
              0.6666666666666666,
              "#ed7953"
             ],
             [
              0.7777777777777778,
              "#fb9f3a"
             ],
             [
              0.8888888888888888,
              "#fdca26"
             ],
             [
              1,
              "#f0f921"
             ]
            ],
            "type": "surface"
           }
          ],
          "table": [
           {
            "cells": {
             "fill": {
              "color": "#EBF0F8"
             },
             "line": {
              "color": "white"
             }
            },
            "header": {
             "fill": {
              "color": "#C8D4E3"
             },
             "line": {
              "color": "white"
             }
            },
            "type": "table"
           }
          ]
         },
         "layout": {
          "annotationdefaults": {
           "arrowcolor": "#2a3f5f",
           "arrowhead": 0,
           "arrowwidth": 1
          },
          "colorscale": {
           "diverging": [
            [
             0,
             "#8e0152"
            ],
            [
             0.1,
             "#c51b7d"
            ],
            [
             0.2,
             "#de77ae"
            ],
            [
             0.3,
             "#f1b6da"
            ],
            [
             0.4,
             "#fde0ef"
            ],
            [
             0.5,
             "#f7f7f7"
            ],
            [
             0.6,
             "#e6f5d0"
            ],
            [
             0.7,
             "#b8e186"
            ],
            [
             0.8,
             "#7fbc41"
            ],
            [
             0.9,
             "#4d9221"
            ],
            [
             1,
             "#276419"
            ]
           ],
           "sequential": [
            [
             0,
             "#0d0887"
            ],
            [
             0.1111111111111111,
             "#46039f"
            ],
            [
             0.2222222222222222,
             "#7201a8"
            ],
            [
             0.3333333333333333,
             "#9c179e"
            ],
            [
             0.4444444444444444,
             "#bd3786"
            ],
            [
             0.5555555555555556,
             "#d8576b"
            ],
            [
             0.6666666666666666,
             "#ed7953"
            ],
            [
             0.7777777777777778,
             "#fb9f3a"
            ],
            [
             0.8888888888888888,
             "#fdca26"
            ],
            [
             1,
             "#f0f921"
            ]
           ],
           "sequentialminus": [
            [
             0,
             "#0d0887"
            ],
            [
             0.1111111111111111,
             "#46039f"
            ],
            [
             0.2222222222222222,
             "#7201a8"
            ],
            [
             0.3333333333333333,
             "#9c179e"
            ],
            [
             0.4444444444444444,
             "#bd3786"
            ],
            [
             0.5555555555555556,
             "#d8576b"
            ],
            [
             0.6666666666666666,
             "#ed7953"
            ],
            [
             0.7777777777777778,
             "#fb9f3a"
            ],
            [
             0.8888888888888888,
             "#fdca26"
            ],
            [
             1,
             "#f0f921"
            ]
           ]
          },
          "colorway": [
           "#636efa",
           "#EF553B",
           "#00cc96",
           "#ab63fa",
           "#FFA15A",
           "#19d3f3",
           "#FF6692",
           "#B6E880",
           "#FF97FF",
           "#FECB52"
          ],
          "font": {
           "color": "#2a3f5f"
          },
          "geo": {
           "bgcolor": "white",
           "lakecolor": "white",
           "landcolor": "#E5ECF6",
           "showlakes": true,
           "showland": true,
           "subunitcolor": "white"
          },
          "hoverlabel": {
           "align": "left"
          },
          "hovermode": "closest",
          "mapbox": {
           "style": "light"
          },
          "paper_bgcolor": "white",
          "plot_bgcolor": "#E5ECF6",
          "polar": {
           "angularaxis": {
            "gridcolor": "white",
            "linecolor": "white",
            "ticks": ""
           },
           "bgcolor": "#E5ECF6",
           "radialaxis": {
            "gridcolor": "white",
            "linecolor": "white",
            "ticks": ""
           }
          },
          "scene": {
           "xaxis": {
            "backgroundcolor": "#E5ECF6",
            "gridcolor": "white",
            "gridwidth": 2,
            "linecolor": "white",
            "showbackground": true,
            "ticks": "",
            "zerolinecolor": "white"
           },
           "yaxis": {
            "backgroundcolor": "#E5ECF6",
            "gridcolor": "white",
            "gridwidth": 2,
            "linecolor": "white",
            "showbackground": true,
            "ticks": "",
            "zerolinecolor": "white"
           },
           "zaxis": {
            "backgroundcolor": "#E5ECF6",
            "gridcolor": "white",
            "gridwidth": 2,
            "linecolor": "white",
            "showbackground": true,
            "ticks": "",
            "zerolinecolor": "white"
           }
          },
          "shapedefaults": {
           "line": {
            "color": "#2a3f5f"
           }
          },
          "ternary": {
           "aaxis": {
            "gridcolor": "white",
            "linecolor": "white",
            "ticks": ""
           },
           "baxis": {
            "gridcolor": "white",
            "linecolor": "white",
            "ticks": ""
           },
           "bgcolor": "#E5ECF6",
           "caxis": {
            "gridcolor": "white",
            "linecolor": "white",
            "ticks": ""
           }
          },
          "title": {
           "x": 0.05
          },
          "xaxis": {
           "automargin": true,
           "gridcolor": "white",
           "linecolor": "white",
           "ticks": "",
           "zerolinecolor": "white",
           "zerolinewidth": 2
          },
          "yaxis": {
           "automargin": true,
           "gridcolor": "white",
           "linecolor": "white",
           "ticks": "",
           "zerolinecolor": "white",
           "zerolinewidth": 2
          }
         }
        },
        "title": {
         "text": "newmse:video:total_total:(doc_dur)"
        },
        "xaxis": {
         "type": "date"
        },
        "yaxis": {
         "title": {
          "text": "doc_dur"
         }
        }
       }
      },
      "text/html": [
       "<div>\n",
       "        \n",
       "        \n",
       "            <div id=\"e167102f-9a83-42cb-9739-3bde57d049e0\" class=\"plotly-graph-div\" style=\"height:525px; width:100%;\"></div>\n",
       "            <script type=\"text/javascript\">\n",
       "                require([\"plotly\"], function(Plotly) {\n",
       "                    window.PLOTLYENV=window.PLOTLYENV || {};\n",
       "                    \n",
       "                if (document.getElementById(\"e167102f-9a83-42cb-9739-3bde57d049e0\")) {\n",
       "                    Plotly.newPlot(\n",
       "                        'e167102f-9a83-42cb-9739-3bde57d049e0',\n",
       "                        [{\"hovertext\": [\"-0.0398\", \"-0.1128\", \"-0.1097\", \"-0.0886\", \"-0.0453\", \"-0.1119\", \"-0.1022\", \"-0.1493\", \"-0.1073\", \"-0.1694\", \"-0.1686\", \"-0.1307\", \"-0.2113\", \"-0.1562\", \"-0.1611\", \"-0.1296\", \"-0.0900\", \"0.0272\", \"-0.1476\", \"-0.0519\", \"-0.0520\", \"-0.0816\", \"-0.1155\", \"0.0203\", \"-0.0741\", \"-0.0870\", \"-0.0830\", \"-0.0500\", \"-0.0207\", \"-0.1349\", \"-0.1318\", \"-0.1329\", \"-0.1158\", \"-0.0902\", \"-0.1323\", \"-0.0729\", \"-0.1595\", \"-0.1463\", \"-0.1256\", \"-0.0126\", \"-0.0679\", \"-0.1041\", \"-0.0220\", \"-0.0137\", \"-0.0870\", \"-0.0000\", \"-0.0429\", \"-0.0763\", \"-0.0486\", \"-0.0465\", \"-0.0666\"], \"line\": {\"shape\": \"spline\", \"smoothing\": 1.0}, \"mode\": \"lines+markers\", \"name\": \"7\", \"showlegend\": true, \"type\": \"scatter\", \"x\": [\"2020-01-12T11:00:00\", \"2020-01-12T12:00:00\", \"2020-01-12T13:00:00\", \"2020-01-12T14:00:00\", \"2020-01-12T15:00:00\", \"2020-01-12T16:00:00\", \"2020-01-12T17:00:00\", \"2020-01-12T18:00:00\", \"2020-01-12T19:00:00\", \"2020-01-12T20:00:00\", \"2020-01-12T21:00:00\", \"2020-01-12T22:00:00\", \"2020-01-12T23:00:00\", \"2020-01-13T00:00:00\", \"2020-01-13T01:00:00\", \"2020-01-13T02:00:00\", \"2020-01-13T03:00:00\", \"2020-01-13T04:00:00\", \"2020-01-13T05:00:00\", \"2020-01-13T06:00:00\", \"2020-01-13T07:00:00\", \"2020-01-13T08:00:00\", \"2020-01-13T09:00:00\", \"2020-01-13T10:00:00\", \"2020-01-13T11:00:00\", \"2020-01-13T12:00:00\", \"2020-01-13T13:00:00\", \"2020-01-13T14:00:00\", \"2020-01-13T15:00:00\", \"2020-01-13T16:00:00\", \"2020-01-13T17:00:00\", \"2020-01-13T18:00:00\", \"2020-01-13T19:00:00\", \"2020-01-13T20:00:00\", \"2020-01-13T21:00:00\", \"2020-01-13T22:00:00\", \"2020-01-13T23:00:00\", \"2020-01-14T00:00:00\", \"2020-01-14T01:00:00\", \"2020-01-14T02:00:00\", \"2020-01-14T03:00:00\", \"2020-01-14T04:00:00\", \"2020-01-14T05:00:00\", \"2020-01-14T06:00:00\", \"2020-01-14T07:00:00\", \"2020-01-14T08:00:00\", \"2020-01-14T09:00:00\", \"2020-01-14T10:00:00\", \"2020-01-14T11:00:00\", \"2020-01-14T12:00:00\", \"2020-01-14T13:00:00\"], \"y\": [2.230653470628528, 2.168365182688683, 2.1089474362249683, 2.19514391001694, 2.2727956500711604, 2.050335299930711, 2.1563949489474905, 2.0887999447036774, 2.1513259841816796, 2.057467299231113, 2.06489265580992, 2.2099444504780617, 2.1461490336616826, 2.364306841928883, 2.3898925778044773, 2.3675567426725546, 2.3062347659245432, 2.3659647515350826, 2.0507363416415596, 2.3154177078664278, 2.298740787562554, 2.197037176584931, 1.5999636333834348, 2.100418150465108, 1.9922070788299417, 2.0052827053216253, 2.0878800435121794, 2.116623780187916, 2.1340365465231894, 1.9119122488921376, 1.9526335746060064, 2.0394558819184634, 2.0919450014070957, 2.181997026880561, 2.112289859628674, 2.333167659258268, 2.1933119797484646, 2.30406872535217, 2.3739174303807795, 2.7050439680930496, 2.3836362612957425, 2.2720530223993247, 2.3597080443662817, 2.3848308535646034, 2.2829408381795098, 2.343750111105226, 1.8583069731883703, 2.001045262298357, 2.124921342973094, 2.1795013821241604, 2.239494128761591]}, {\"line\": {\"shape\": \"spline\", \"smoothing\": 1.0}, \"mode\": \"lines+markers\", \"name\": \"456\", \"showlegend\": true, \"type\": \"scatter\", \"x\": [\"2020-01-12T11:00:00\", \"2020-01-12T12:00:00\", \"2020-01-12T13:00:00\", \"2020-01-12T14:00:00\", \"2020-01-12T15:00:00\", \"2020-01-12T16:00:00\", \"2020-01-12T17:00:00\", \"2020-01-12T18:00:00\", \"2020-01-12T19:00:00\", \"2020-01-12T20:00:00\", \"2020-01-12T21:00:00\", \"2020-01-12T22:00:00\", \"2020-01-12T23:00:00\", \"2020-01-13T00:00:00\", \"2020-01-13T01:00:00\", \"2020-01-13T02:00:00\", \"2020-01-13T03:00:00\", \"2020-01-13T04:00:00\", \"2020-01-13T05:00:00\", \"2020-01-13T06:00:00\", \"2020-01-13T07:00:00\", \"2020-01-13T08:00:00\", \"2020-01-13T09:00:00\", \"2020-01-13T10:00:00\", \"2020-01-13T11:00:00\", \"2020-01-13T12:00:00\", \"2020-01-13T13:00:00\", \"2020-01-13T14:00:00\", \"2020-01-13T15:00:00\", \"2020-01-13T16:00:00\", \"2020-01-13T17:00:00\", \"2020-01-13T18:00:00\", \"2020-01-13T19:00:00\", \"2020-01-13T20:00:00\", \"2020-01-13T21:00:00\", \"2020-01-13T22:00:00\", \"2020-01-13T23:00:00\", \"2020-01-14T00:00:00\", \"2020-01-14T01:00:00\", \"2020-01-14T02:00:00\", \"2020-01-14T03:00:00\", \"2020-01-14T04:00:00\", \"2020-01-14T05:00:00\", \"2020-01-14T06:00:00\", \"2020-01-14T07:00:00\", \"2020-01-14T08:00:00\", \"2020-01-14T09:00:00\", \"2020-01-14T10:00:00\", \"2020-01-14T11:00:00\", \"2020-01-14T12:00:00\", \"2020-01-14T13:00:00\"], \"y\": [2.3230919869741915, 2.4439194094701873, 2.368845784448139, 2.4086587249368603, 2.380653069997967, 2.3087992169014004, 2.4019333808167525, 2.455379273137695, 2.4098762355310464, 2.4770852975764837, 2.483555651064465, 2.542135343477389, 2.7212163072582563, 2.8020801874042878, 2.848800891826217, 2.7201283946304677, 2.5342403924889765, 2.3033399079357357, 2.4057489452551835, 2.442128303539396, 2.424757204042558, 2.392114396655401, 1.80879071414199, 2.0586042067113013, 2.1516854469681386, 2.196356373340933, 2.2769455219418684, 2.227920668024535, 2.17924761994459, 2.2101086193164763, 2.249068323792756, 2.3520308476813923, 2.365898607281466, 2.3983544794929177, 2.434474427896697, 2.5165437536208675, 2.6096240629113168, 2.698914133908944, 2.7148396672174684, 2.739695326707899, 2.557216465394689, 2.5360300926037826, 2.412780525448182, 2.4179464802972617, 2.500522096324161, 2.3437659848892087, 1.9415676940060704, 2.1662735502090364, 2.2335296743068436, 2.285694361734505, 2.399331930035688]}],\n",
       "                        {\"hovermode\": \"x\", \"template\": {\"data\": {\"bar\": [{\"error_x\": {\"color\": \"#2a3f5f\"}, \"error_y\": {\"color\": \"#2a3f5f\"}, \"marker\": {\"line\": {\"color\": \"#E5ECF6\", \"width\": 0.5}}, \"type\": \"bar\"}], \"barpolar\": [{\"marker\": {\"line\": {\"color\": \"#E5ECF6\", \"width\": 0.5}}, \"type\": \"barpolar\"}], \"carpet\": [{\"aaxis\": {\"endlinecolor\": \"#2a3f5f\", \"gridcolor\": \"white\", \"linecolor\": \"white\", \"minorgridcolor\": \"white\", \"startlinecolor\": \"#2a3f5f\"}, \"baxis\": {\"endlinecolor\": \"#2a3f5f\", \"gridcolor\": \"white\", \"linecolor\": \"white\", \"minorgridcolor\": \"white\", \"startlinecolor\": \"#2a3f5f\"}, \"type\": \"carpet\"}], \"choropleth\": [{\"colorbar\": {\"outlinewidth\": 0, \"ticks\": \"\"}, \"type\": \"choropleth\"}], \"contour\": [{\"colorbar\": {\"outlinewidth\": 0, \"ticks\": \"\"}, \"colorscale\": [[0.0, \"#0d0887\"], [0.1111111111111111, \"#46039f\"], [0.2222222222222222, \"#7201a8\"], [0.3333333333333333, \"#9c179e\"], [0.4444444444444444, \"#bd3786\"], [0.5555555555555556, \"#d8576b\"], [0.6666666666666666, \"#ed7953\"], [0.7777777777777778, \"#fb9f3a\"], [0.8888888888888888, \"#fdca26\"], [1.0, \"#f0f921\"]], \"type\": \"contour\"}], \"contourcarpet\": [{\"colorbar\": {\"outlinewidth\": 0, \"ticks\": \"\"}, \"type\": \"contourcarpet\"}], \"heatmap\": [{\"colorbar\": {\"outlinewidth\": 0, \"ticks\": \"\"}, \"colorscale\": [[0.0, \"#0d0887\"], [0.1111111111111111, \"#46039f\"], [0.2222222222222222, \"#7201a8\"], [0.3333333333333333, \"#9c179e\"], [0.4444444444444444, \"#bd3786\"], [0.5555555555555556, \"#d8576b\"], [0.6666666666666666, \"#ed7953\"], [0.7777777777777778, \"#fb9f3a\"], [0.8888888888888888, \"#fdca26\"], [1.0, \"#f0f921\"]], \"type\": \"heatmap\"}], \"heatmapgl\": [{\"colorbar\": {\"outlinewidth\": 0, \"ticks\": \"\"}, \"colorscale\": [[0.0, \"#0d0887\"], [0.1111111111111111, \"#46039f\"], [0.2222222222222222, \"#7201a8\"], [0.3333333333333333, \"#9c179e\"], [0.4444444444444444, \"#bd3786\"], [0.5555555555555556, \"#d8576b\"], [0.6666666666666666, \"#ed7953\"], [0.7777777777777778, \"#fb9f3a\"], [0.8888888888888888, \"#fdca26\"], [1.0, \"#f0f921\"]], \"type\": \"heatmapgl\"}], \"histogram\": [{\"marker\": {\"colorbar\": {\"outlinewidth\": 0, \"ticks\": \"\"}}, \"type\": \"histogram\"}], \"histogram2d\": [{\"colorbar\": {\"outlinewidth\": 0, \"ticks\": \"\"}, \"colorscale\": [[0.0, \"#0d0887\"], [0.1111111111111111, \"#46039f\"], [0.2222222222222222, \"#7201a8\"], [0.3333333333333333, \"#9c179e\"], [0.4444444444444444, \"#bd3786\"], [0.5555555555555556, \"#d8576b\"], [0.6666666666666666, \"#ed7953\"], [0.7777777777777778, \"#fb9f3a\"], [0.8888888888888888, \"#fdca26\"], [1.0, \"#f0f921\"]], \"type\": \"histogram2d\"}], \"histogram2dcontour\": [{\"colorbar\": {\"outlinewidth\": 0, \"ticks\": \"\"}, \"colorscale\": [[0.0, \"#0d0887\"], [0.1111111111111111, \"#46039f\"], [0.2222222222222222, \"#7201a8\"], [0.3333333333333333, \"#9c179e\"], [0.4444444444444444, \"#bd3786\"], [0.5555555555555556, \"#d8576b\"], [0.6666666666666666, \"#ed7953\"], [0.7777777777777778, \"#fb9f3a\"], [0.8888888888888888, \"#fdca26\"], [1.0, \"#f0f921\"]], \"type\": \"histogram2dcontour\"}], \"mesh3d\": [{\"colorbar\": {\"outlinewidth\": 0, \"ticks\": \"\"}, \"type\": \"mesh3d\"}], \"parcoords\": [{\"line\": {\"colorbar\": {\"outlinewidth\": 0, \"ticks\": \"\"}}, \"type\": \"parcoords\"}], \"scatter\": [{\"marker\": {\"colorbar\": {\"outlinewidth\": 0, \"ticks\": \"\"}}, \"type\": \"scatter\"}], \"scatter3d\": [{\"line\": {\"colorbar\": {\"outlinewidth\": 0, \"ticks\": \"\"}}, \"marker\": {\"colorbar\": {\"outlinewidth\": 0, \"ticks\": \"\"}}, \"type\": \"scatter3d\"}], \"scattercarpet\": [{\"marker\": {\"colorbar\": {\"outlinewidth\": 0, \"ticks\": \"\"}}, \"type\": \"scattercarpet\"}], \"scattergeo\": [{\"marker\": {\"colorbar\": {\"outlinewidth\": 0, \"ticks\": \"\"}}, \"type\": \"scattergeo\"}], \"scattergl\": [{\"marker\": {\"colorbar\": {\"outlinewidth\": 0, \"ticks\": \"\"}}, \"type\": \"scattergl\"}], \"scattermapbox\": [{\"marker\": {\"colorbar\": {\"outlinewidth\": 0, \"ticks\": \"\"}}, \"type\": \"scattermapbox\"}], \"scatterpolar\": [{\"marker\": {\"colorbar\": {\"outlinewidth\": 0, \"ticks\": \"\"}}, \"type\": \"scatterpolar\"}], \"scatterpolargl\": [{\"marker\": {\"colorbar\": {\"outlinewidth\": 0, \"ticks\": \"\"}}, \"type\": \"scatterpolargl\"}], \"scatterternary\": [{\"marker\": {\"colorbar\": {\"outlinewidth\": 0, \"ticks\": \"\"}}, \"type\": \"scatterternary\"}], \"surface\": [{\"colorbar\": {\"outlinewidth\": 0, \"ticks\": \"\"}, \"colorscale\": [[0.0, \"#0d0887\"], [0.1111111111111111, \"#46039f\"], [0.2222222222222222, \"#7201a8\"], [0.3333333333333333, \"#9c179e\"], [0.4444444444444444, \"#bd3786\"], [0.5555555555555556, \"#d8576b\"], [0.6666666666666666, \"#ed7953\"], [0.7777777777777778, \"#fb9f3a\"], [0.8888888888888888, \"#fdca26\"], [1.0, \"#f0f921\"]], \"type\": \"surface\"}], \"table\": [{\"cells\": {\"fill\": {\"color\": \"#EBF0F8\"}, \"line\": {\"color\": \"white\"}}, \"header\": {\"fill\": {\"color\": \"#C8D4E3\"}, \"line\": {\"color\": \"white\"}}, \"type\": \"table\"}]}, \"layout\": {\"annotationdefaults\": {\"arrowcolor\": \"#2a3f5f\", \"arrowhead\": 0, \"arrowwidth\": 1}, \"colorscale\": {\"diverging\": [[0, \"#8e0152\"], [0.1, \"#c51b7d\"], [0.2, \"#de77ae\"], [0.3, \"#f1b6da\"], [0.4, \"#fde0ef\"], [0.5, \"#f7f7f7\"], [0.6, \"#e6f5d0\"], [0.7, \"#b8e186\"], [0.8, \"#7fbc41\"], [0.9, \"#4d9221\"], [1, \"#276419\"]], \"sequential\": [[0.0, \"#0d0887\"], [0.1111111111111111, \"#46039f\"], [0.2222222222222222, \"#7201a8\"], [0.3333333333333333, \"#9c179e\"], [0.4444444444444444, \"#bd3786\"], [0.5555555555555556, \"#d8576b\"], [0.6666666666666666, \"#ed7953\"], [0.7777777777777778, \"#fb9f3a\"], [0.8888888888888888, \"#fdca26\"], [1.0, \"#f0f921\"]], \"sequentialminus\": [[0.0, \"#0d0887\"], [0.1111111111111111, \"#46039f\"], [0.2222222222222222, \"#7201a8\"], [0.3333333333333333, \"#9c179e\"], [0.4444444444444444, \"#bd3786\"], [0.5555555555555556, \"#d8576b\"], [0.6666666666666666, \"#ed7953\"], [0.7777777777777778, \"#fb9f3a\"], [0.8888888888888888, \"#fdca26\"], [1.0, \"#f0f921\"]]}, \"colorway\": [\"#636efa\", \"#EF553B\", \"#00cc96\", \"#ab63fa\", \"#FFA15A\", \"#19d3f3\", \"#FF6692\", \"#B6E880\", \"#FF97FF\", \"#FECB52\"], \"font\": {\"color\": \"#2a3f5f\"}, \"geo\": {\"bgcolor\": \"white\", \"lakecolor\": \"white\", \"landcolor\": \"#E5ECF6\", \"showlakes\": true, \"showland\": true, \"subunitcolor\": \"white\"}, \"hoverlabel\": {\"align\": \"left\"}, \"hovermode\": \"closest\", \"mapbox\": {\"style\": \"light\"}, \"paper_bgcolor\": \"white\", \"plot_bgcolor\": \"#E5ECF6\", \"polar\": {\"angularaxis\": {\"gridcolor\": \"white\", \"linecolor\": \"white\", \"ticks\": \"\"}, \"bgcolor\": \"#E5ECF6\", \"radialaxis\": {\"gridcolor\": \"white\", \"linecolor\": \"white\", \"ticks\": \"\"}}, \"scene\": {\"xaxis\": {\"backgroundcolor\": \"#E5ECF6\", \"gridcolor\": \"white\", \"gridwidth\": 2, \"linecolor\": \"white\", \"showbackground\": true, \"ticks\": \"\", \"zerolinecolor\": \"white\"}, \"yaxis\": {\"backgroundcolor\": \"#E5ECF6\", \"gridcolor\": \"white\", \"gridwidth\": 2, \"linecolor\": \"white\", \"showbackground\": true, \"ticks\": \"\", \"zerolinecolor\": \"white\"}, \"zaxis\": {\"backgroundcolor\": \"#E5ECF6\", \"gridcolor\": \"white\", \"gridwidth\": 2, \"linecolor\": \"white\", \"showbackground\": true, \"ticks\": \"\", \"zerolinecolor\": \"white\"}}, \"shapedefaults\": {\"line\": {\"color\": \"#2a3f5f\"}}, \"ternary\": {\"aaxis\": {\"gridcolor\": \"white\", \"linecolor\": \"white\", \"ticks\": \"\"}, \"baxis\": {\"gridcolor\": \"white\", \"linecolor\": \"white\", \"ticks\": \"\"}, \"bgcolor\": \"#E5ECF6\", \"caxis\": {\"gridcolor\": \"white\", \"linecolor\": \"white\", \"ticks\": \"\"}}, \"title\": {\"x\": 0.05}, \"xaxis\": {\"automargin\": true, \"gridcolor\": \"white\", \"linecolor\": \"white\", \"ticks\": \"\", \"zerolinecolor\": \"white\", \"zerolinewidth\": 2}, \"yaxis\": {\"automargin\": true, \"gridcolor\": \"white\", \"linecolor\": \"white\", \"ticks\": \"\", \"zerolinecolor\": \"white\", \"zerolinewidth\": 2}}}, \"title\": {\"text\": \"newmse:video:total_total:(doc_dur)\"}, \"xaxis\": {\"type\": \"date\"}, \"yaxis\": {\"title\": {\"text\": \"doc_dur\"}}},\n",
       "                        {\"responsive\": true}\n",
       "                    ).then(function(){\n",
       "                            \n",
       "var gd = document.getElementById('e167102f-9a83-42cb-9739-3bde57d049e0');\n",
       "var x = new MutationObserver(function (mutations, observer) {{\n",
       "        var display = window.getComputedStyle(gd).display;\n",
       "        if (!display || display === 'none') {{\n",
       "            console.log([gd, 'removed!']);\n",
       "            Plotly.purge(gd);\n",
       "            observer.disconnect();\n",
       "        }}\n",
       "}});\n",
       "\n",
       "// Listen for the removal of the full notebook cells\n",
       "var notebookContainer = gd.closest('#notebook-container');\n",
       "if (notebookContainer) {{\n",
       "    x.observe(notebookContainer, {childList: true});\n",
       "}}\n",
       "\n",
       "// Listen for the clearing of the current output cell\n",
       "var outputEl = gd.closest('.output');\n",
       "if (outputEl) {{\n",
       "    x.observe(outputEl, {childList: true});\n",
       "}}\n",
       "\n",
       "                        })\n",
       "                };\n",
       "                });\n",
       "            </script>\n",
       "        </div>"
      ]
     },
     "metadata": {},
     "output_type": "display_data"
    },
    {
     "data": {
      "application/vnd.plotly.v1+json": {
       "config": {
        "linkText": "Export to plot.ly",
        "plotlyServerURL": "https://plot.ly",
        "showLink": false
       },
       "data": [
        {
         "hovertext": [
          "-0.0338",
          "-0.0246",
          "-0.0215",
          "-0.0435",
          "-0.0339",
          "-0.0026",
          "-0.0282",
          "-0.0078",
          "-0.0146",
          "-0.0089",
          "0.0067",
          "-0.0204",
          "-0.0193",
          "-0.0135",
          "-0.0002",
          "-0.0220",
          "-0.0137",
          "-0.0199",
          "-0.0169",
          "-0.0119",
          "0.0008",
          "-0.0090",
          "-0.0252",
          "-0.0152",
          "-0.0289",
          "-0.0189",
          "-0.0412",
          "-0.0198",
          "-0.0166",
          "-0.0114",
          "-0.0160",
          "-0.0185",
          "-0.0297",
          "-0.0128",
          "-0.0171",
          "-0.0121",
          "-0.0315",
          "-0.0280",
          "-0.0213",
          "-0.0173",
          "0.0115",
          "0.0170",
          "-0.0105",
          "-0.0349",
          "-0.0356",
          "-0.0161",
          "-0.0182",
          "-0.0097",
          "-0.0278",
          "-0.0027",
          "-0.0208"
         ],
         "line": {
          "shape": "spline",
          "smoothing": 1
         },
         "mode": "lines+markers",
         "name": "7",
         "showlegend": true,
         "type": "scatter",
         "x": [
          "2020-01-12T11:00:00",
          "2020-01-12T12:00:00",
          "2020-01-12T13:00:00",
          "2020-01-12T14:00:00",
          "2020-01-12T15:00:00",
          "2020-01-12T16:00:00",
          "2020-01-12T17:00:00",
          "2020-01-12T18:00:00",
          "2020-01-12T19:00:00",
          "2020-01-12T20:00:00",
          "2020-01-12T21:00:00",
          "2020-01-12T22:00:00",
          "2020-01-12T23:00:00",
          "2020-01-13T00:00:00",
          "2020-01-13T01:00:00",
          "2020-01-13T02:00:00",
          "2020-01-13T03:00:00",
          "2020-01-13T04:00:00",
          "2020-01-13T05:00:00",
          "2020-01-13T06:00:00",
          "2020-01-13T07:00:00",
          "2020-01-13T08:00:00",
          "2020-01-13T09:00:00",
          "2020-01-13T10:00:00",
          "2020-01-13T11:00:00",
          "2020-01-13T12:00:00",
          "2020-01-13T13:00:00",
          "2020-01-13T14:00:00",
          "2020-01-13T15:00:00",
          "2020-01-13T16:00:00",
          "2020-01-13T17:00:00",
          "2020-01-13T18:00:00",
          "2020-01-13T19:00:00",
          "2020-01-13T20:00:00",
          "2020-01-13T21:00:00",
          "2020-01-13T22:00:00",
          "2020-01-13T23:00:00",
          "2020-01-14T00:00:00",
          "2020-01-14T01:00:00",
          "2020-01-14T02:00:00",
          "2020-01-14T03:00:00",
          "2020-01-14T04:00:00",
          "2020-01-14T05:00:00",
          "2020-01-14T06:00:00",
          "2020-01-14T07:00:00",
          "2020-01-14T08:00:00",
          "2020-01-14T09:00:00",
          "2020-01-14T10:00:00",
          "2020-01-14T11:00:00",
          "2020-01-14T12:00:00",
          "2020-01-14T13:00:00"
         ],
         "y": [
          14847.632682691994,
          15154.175520520192,
          15690.275623942589,
          14501.704647392773,
          14461.582338531467,
          15010.08619196819,
          14744.005496307993,
          15994.477005979003,
          17857.916207519364,
          19363.8012775539,
          21409.712759309525,
          17704.459353702878,
          12841.953162370763,
          10169.658156905738,
          5754.7084638132455,
          3653.6217792593247,
          2915.5766819371574,
          2924.007740028798,
          4184.270671350808,
          7835.151643601328,
          12084.26321204547,
          13643.523521767778,
          14211.751519262385,
          14631.964936603596,
          14579.979884189372,
          15705.250040184126,
          14739.869513855358,
          14579.490773639363,
          14644.85533275224,
          14565.47531081529,
          14181.42044697064,
          15027.37581034331,
          16331.769579930153,
          17955.20374841581,
          18828.556443906,
          17422.033473983956,
          12520.192944769688,
          9570.526593429544,
          5406.590470974293,
          3570.809958574759,
          2879.694118225673,
          3006.5959381357998,
          4231.645575926603,
          7583.800697742616,
          11629.746700678585,
          13707.647873418542,
          14360.467639805998,
          14739.359423761309,
          14211.328119294087,
          15900.885053035856,
          14936.774812947984
         ]
        },
        {
         "line": {
          "shape": "spline",
          "smoothing": 1
         },
         "mode": "lines+markers",
         "name": "456",
         "showlegend": true,
         "type": "scatter",
         "x": [
          "2020-01-12T11:00:00",
          "2020-01-12T12:00:00",
          "2020-01-12T13:00:00",
          "2020-01-12T14:00:00",
          "2020-01-12T15:00:00",
          "2020-01-12T16:00:00",
          "2020-01-12T17:00:00",
          "2020-01-12T18:00:00",
          "2020-01-12T19:00:00",
          "2020-01-12T20:00:00",
          "2020-01-12T21:00:00",
          "2020-01-12T22:00:00",
          "2020-01-12T23:00:00",
          "2020-01-13T00:00:00",
          "2020-01-13T01:00:00",
          "2020-01-13T02:00:00",
          "2020-01-13T03:00:00",
          "2020-01-13T04:00:00",
          "2020-01-13T05:00:00",
          "2020-01-13T06:00:00",
          "2020-01-13T07:00:00",
          "2020-01-13T08:00:00",
          "2020-01-13T09:00:00",
          "2020-01-13T10:00:00",
          "2020-01-13T11:00:00",
          "2020-01-13T12:00:00",
          "2020-01-13T13:00:00",
          "2020-01-13T14:00:00",
          "2020-01-13T15:00:00",
          "2020-01-13T16:00:00",
          "2020-01-13T17:00:00",
          "2020-01-13T18:00:00",
          "2020-01-13T19:00:00",
          "2020-01-13T20:00:00",
          "2020-01-13T21:00:00",
          "2020-01-13T22:00:00",
          "2020-01-13T23:00:00",
          "2020-01-14T00:00:00",
          "2020-01-14T01:00:00",
          "2020-01-14T02:00:00",
          "2020-01-14T03:00:00",
          "2020-01-14T04:00:00",
          "2020-01-14T05:00:00",
          "2020-01-14T06:00:00",
          "2020-01-14T07:00:00",
          "2020-01-14T08:00:00",
          "2020-01-14T09:00:00",
          "2020-01-14T10:00:00",
          "2020-01-14T11:00:00",
          "2020-01-14T12:00:00",
          "2020-01-14T13:00:00"
         ],
         "y": [
          15366.666666666666,
          15536.666666666666,
          16034.333333333334,
          15160.666666666666,
          14969.666666666666,
          15049,
          15171.666666666666,
          16121,
          18122,
          19537.666666666668,
          21266.333333333332,
          18074,
          13094.333333333334,
          10309,
          5755.666666666667,
          3736,
          2956,
          2983.3333333333335,
          4256,
          7929.333333333333,
          12074.666666666666,
          13767.666666666666,
          14579,
          14858.333333333334,
          15013.666666666666,
          16008.333333333334,
          15372.666666666666,
          14873.333333333334,
          14892.333333333334,
          14734,
          14412.333333333334,
          15311,
          16831.333333333332,
          18187.333333333332,
          19156.333333333332,
          17635.666666666668,
          12928,
          9846.666666666666,
          5524,
          3633.6666666666665,
          2847,
          2956.3333333333335,
          4276.666666666667,
          7858.333333333333,
          12059.333333333334,
          13932,
          14626,
          14884.333333333334,
          14618.333333333334,
          15943.666666666666,
          15253.666666666666
         ]
        }
       ],
       "layout": {
        "hovermode": "x",
        "template": {
         "data": {
          "bar": [
           {
            "error_x": {
             "color": "#2a3f5f"
            },
            "error_y": {
             "color": "#2a3f5f"
            },
            "marker": {
             "line": {
              "color": "#E5ECF6",
              "width": 0.5
             }
            },
            "type": "bar"
           }
          ],
          "barpolar": [
           {
            "marker": {
             "line": {
              "color": "#E5ECF6",
              "width": 0.5
             }
            },
            "type": "barpolar"
           }
          ],
          "carpet": [
           {
            "aaxis": {
             "endlinecolor": "#2a3f5f",
             "gridcolor": "white",
             "linecolor": "white",
             "minorgridcolor": "white",
             "startlinecolor": "#2a3f5f"
            },
            "baxis": {
             "endlinecolor": "#2a3f5f",
             "gridcolor": "white",
             "linecolor": "white",
             "minorgridcolor": "white",
             "startlinecolor": "#2a3f5f"
            },
            "type": "carpet"
           }
          ],
          "choropleth": [
           {
            "colorbar": {
             "outlinewidth": 0,
             "ticks": ""
            },
            "type": "choropleth"
           }
          ],
          "contour": [
           {
            "colorbar": {
             "outlinewidth": 0,
             "ticks": ""
            },
            "colorscale": [
             [
              0,
              "#0d0887"
             ],
             [
              0.1111111111111111,
              "#46039f"
             ],
             [
              0.2222222222222222,
              "#7201a8"
             ],
             [
              0.3333333333333333,
              "#9c179e"
             ],
             [
              0.4444444444444444,
              "#bd3786"
             ],
             [
              0.5555555555555556,
              "#d8576b"
             ],
             [
              0.6666666666666666,
              "#ed7953"
             ],
             [
              0.7777777777777778,
              "#fb9f3a"
             ],
             [
              0.8888888888888888,
              "#fdca26"
             ],
             [
              1,
              "#f0f921"
             ]
            ],
            "type": "contour"
           }
          ],
          "contourcarpet": [
           {
            "colorbar": {
             "outlinewidth": 0,
             "ticks": ""
            },
            "type": "contourcarpet"
           }
          ],
          "heatmap": [
           {
            "colorbar": {
             "outlinewidth": 0,
             "ticks": ""
            },
            "colorscale": [
             [
              0,
              "#0d0887"
             ],
             [
              0.1111111111111111,
              "#46039f"
             ],
             [
              0.2222222222222222,
              "#7201a8"
             ],
             [
              0.3333333333333333,
              "#9c179e"
             ],
             [
              0.4444444444444444,
              "#bd3786"
             ],
             [
              0.5555555555555556,
              "#d8576b"
             ],
             [
              0.6666666666666666,
              "#ed7953"
             ],
             [
              0.7777777777777778,
              "#fb9f3a"
             ],
             [
              0.8888888888888888,
              "#fdca26"
             ],
             [
              1,
              "#f0f921"
             ]
            ],
            "type": "heatmap"
           }
          ],
          "heatmapgl": [
           {
            "colorbar": {
             "outlinewidth": 0,
             "ticks": ""
            },
            "colorscale": [
             [
              0,
              "#0d0887"
             ],
             [
              0.1111111111111111,
              "#46039f"
             ],
             [
              0.2222222222222222,
              "#7201a8"
             ],
             [
              0.3333333333333333,
              "#9c179e"
             ],
             [
              0.4444444444444444,
              "#bd3786"
             ],
             [
              0.5555555555555556,
              "#d8576b"
             ],
             [
              0.6666666666666666,
              "#ed7953"
             ],
             [
              0.7777777777777778,
              "#fb9f3a"
             ],
             [
              0.8888888888888888,
              "#fdca26"
             ],
             [
              1,
              "#f0f921"
             ]
            ],
            "type": "heatmapgl"
           }
          ],
          "histogram": [
           {
            "marker": {
             "colorbar": {
              "outlinewidth": 0,
              "ticks": ""
             }
            },
            "type": "histogram"
           }
          ],
          "histogram2d": [
           {
            "colorbar": {
             "outlinewidth": 0,
             "ticks": ""
            },
            "colorscale": [
             [
              0,
              "#0d0887"
             ],
             [
              0.1111111111111111,
              "#46039f"
             ],
             [
              0.2222222222222222,
              "#7201a8"
             ],
             [
              0.3333333333333333,
              "#9c179e"
             ],
             [
              0.4444444444444444,
              "#bd3786"
             ],
             [
              0.5555555555555556,
              "#d8576b"
             ],
             [
              0.6666666666666666,
              "#ed7953"
             ],
             [
              0.7777777777777778,
              "#fb9f3a"
             ],
             [
              0.8888888888888888,
              "#fdca26"
             ],
             [
              1,
              "#f0f921"
             ]
            ],
            "type": "histogram2d"
           }
          ],
          "histogram2dcontour": [
           {
            "colorbar": {
             "outlinewidth": 0,
             "ticks": ""
            },
            "colorscale": [
             [
              0,
              "#0d0887"
             ],
             [
              0.1111111111111111,
              "#46039f"
             ],
             [
              0.2222222222222222,
              "#7201a8"
             ],
             [
              0.3333333333333333,
              "#9c179e"
             ],
             [
              0.4444444444444444,
              "#bd3786"
             ],
             [
              0.5555555555555556,
              "#d8576b"
             ],
             [
              0.6666666666666666,
              "#ed7953"
             ],
             [
              0.7777777777777778,
              "#fb9f3a"
             ],
             [
              0.8888888888888888,
              "#fdca26"
             ],
             [
              1,
              "#f0f921"
             ]
            ],
            "type": "histogram2dcontour"
           }
          ],
          "mesh3d": [
           {
            "colorbar": {
             "outlinewidth": 0,
             "ticks": ""
            },
            "type": "mesh3d"
           }
          ],
          "parcoords": [
           {
            "line": {
             "colorbar": {
              "outlinewidth": 0,
              "ticks": ""
             }
            },
            "type": "parcoords"
           }
          ],
          "scatter": [
           {
            "marker": {
             "colorbar": {
              "outlinewidth": 0,
              "ticks": ""
             }
            },
            "type": "scatter"
           }
          ],
          "scatter3d": [
           {
            "line": {
             "colorbar": {
              "outlinewidth": 0,
              "ticks": ""
             }
            },
            "marker": {
             "colorbar": {
              "outlinewidth": 0,
              "ticks": ""
             }
            },
            "type": "scatter3d"
           }
          ],
          "scattercarpet": [
           {
            "marker": {
             "colorbar": {
              "outlinewidth": 0,
              "ticks": ""
             }
            },
            "type": "scattercarpet"
           }
          ],
          "scattergeo": [
           {
            "marker": {
             "colorbar": {
              "outlinewidth": 0,
              "ticks": ""
             }
            },
            "type": "scattergeo"
           }
          ],
          "scattergl": [
           {
            "marker": {
             "colorbar": {
              "outlinewidth": 0,
              "ticks": ""
             }
            },
            "type": "scattergl"
           }
          ],
          "scattermapbox": [
           {
            "marker": {
             "colorbar": {
              "outlinewidth": 0,
              "ticks": ""
             }
            },
            "type": "scattermapbox"
           }
          ],
          "scatterpolar": [
           {
            "marker": {
             "colorbar": {
              "outlinewidth": 0,
              "ticks": ""
             }
            },
            "type": "scatterpolar"
           }
          ],
          "scatterpolargl": [
           {
            "marker": {
             "colorbar": {
              "outlinewidth": 0,
              "ticks": ""
             }
            },
            "type": "scatterpolargl"
           }
          ],
          "scatterternary": [
           {
            "marker": {
             "colorbar": {
              "outlinewidth": 0,
              "ticks": ""
             }
            },
            "type": "scatterternary"
           }
          ],
          "surface": [
           {
            "colorbar": {
             "outlinewidth": 0,
             "ticks": ""
            },
            "colorscale": [
             [
              0,
              "#0d0887"
             ],
             [
              0.1111111111111111,
              "#46039f"
             ],
             [
              0.2222222222222222,
              "#7201a8"
             ],
             [
              0.3333333333333333,
              "#9c179e"
             ],
             [
              0.4444444444444444,
              "#bd3786"
             ],
             [
              0.5555555555555556,
              "#d8576b"
             ],
             [
              0.6666666666666666,
              "#ed7953"
             ],
             [
              0.7777777777777778,
              "#fb9f3a"
             ],
             [
              0.8888888888888888,
              "#fdca26"
             ],
             [
              1,
              "#f0f921"
             ]
            ],
            "type": "surface"
           }
          ],
          "table": [
           {
            "cells": {
             "fill": {
              "color": "#EBF0F8"
             },
             "line": {
              "color": "white"
             }
            },
            "header": {
             "fill": {
              "color": "#C8D4E3"
             },
             "line": {
              "color": "white"
             }
            },
            "type": "table"
           }
          ]
         },
         "layout": {
          "annotationdefaults": {
           "arrowcolor": "#2a3f5f",
           "arrowhead": 0,
           "arrowwidth": 1
          },
          "colorscale": {
           "diverging": [
            [
             0,
             "#8e0152"
            ],
            [
             0.1,
             "#c51b7d"
            ],
            [
             0.2,
             "#de77ae"
            ],
            [
             0.3,
             "#f1b6da"
            ],
            [
             0.4,
             "#fde0ef"
            ],
            [
             0.5,
             "#f7f7f7"
            ],
            [
             0.6,
             "#e6f5d0"
            ],
            [
             0.7,
             "#b8e186"
            ],
            [
             0.8,
             "#7fbc41"
            ],
            [
             0.9,
             "#4d9221"
            ],
            [
             1,
             "#276419"
            ]
           ],
           "sequential": [
            [
             0,
             "#0d0887"
            ],
            [
             0.1111111111111111,
             "#46039f"
            ],
            [
             0.2222222222222222,
             "#7201a8"
            ],
            [
             0.3333333333333333,
             "#9c179e"
            ],
            [
             0.4444444444444444,
             "#bd3786"
            ],
            [
             0.5555555555555556,
             "#d8576b"
            ],
            [
             0.6666666666666666,
             "#ed7953"
            ],
            [
             0.7777777777777778,
             "#fb9f3a"
            ],
            [
             0.8888888888888888,
             "#fdca26"
            ],
            [
             1,
             "#f0f921"
            ]
           ],
           "sequentialminus": [
            [
             0,
             "#0d0887"
            ],
            [
             0.1111111111111111,
             "#46039f"
            ],
            [
             0.2222222222222222,
             "#7201a8"
            ],
            [
             0.3333333333333333,
             "#9c179e"
            ],
            [
             0.4444444444444444,
             "#bd3786"
            ],
            [
             0.5555555555555556,
             "#d8576b"
            ],
            [
             0.6666666666666666,
             "#ed7953"
            ],
            [
             0.7777777777777778,
             "#fb9f3a"
            ],
            [
             0.8888888888888888,
             "#fdca26"
            ],
            [
             1,
             "#f0f921"
            ]
           ]
          },
          "colorway": [
           "#636efa",
           "#EF553B",
           "#00cc96",
           "#ab63fa",
           "#FFA15A",
           "#19d3f3",
           "#FF6692",
           "#B6E880",
           "#FF97FF",
           "#FECB52"
          ],
          "font": {
           "color": "#2a3f5f"
          },
          "geo": {
           "bgcolor": "white",
           "lakecolor": "white",
           "landcolor": "#E5ECF6",
           "showlakes": true,
           "showland": true,
           "subunitcolor": "white"
          },
          "hoverlabel": {
           "align": "left"
          },
          "hovermode": "closest",
          "mapbox": {
           "style": "light"
          },
          "paper_bgcolor": "white",
          "plot_bgcolor": "#E5ECF6",
          "polar": {
           "angularaxis": {
            "gridcolor": "white",
            "linecolor": "white",
            "ticks": ""
           },
           "bgcolor": "#E5ECF6",
           "radialaxis": {
            "gridcolor": "white",
            "linecolor": "white",
            "ticks": ""
           }
          },
          "scene": {
           "xaxis": {
            "backgroundcolor": "#E5ECF6",
            "gridcolor": "white",
            "gridwidth": 2,
            "linecolor": "white",
            "showbackground": true,
            "ticks": "",
            "zerolinecolor": "white"
           },
           "yaxis": {
            "backgroundcolor": "#E5ECF6",
            "gridcolor": "white",
            "gridwidth": 2,
            "linecolor": "white",
            "showbackground": true,
            "ticks": "",
            "zerolinecolor": "white"
           },
           "zaxis": {
            "backgroundcolor": "#E5ECF6",
            "gridcolor": "white",
            "gridwidth": 2,
            "linecolor": "white",
            "showbackground": true,
            "ticks": "",
            "zerolinecolor": "white"
           }
          },
          "shapedefaults": {
           "line": {
            "color": "#2a3f5f"
           }
          },
          "ternary": {
           "aaxis": {
            "gridcolor": "white",
            "linecolor": "white",
            "ticks": ""
           },
           "baxis": {
            "gridcolor": "white",
            "linecolor": "white",
            "ticks": ""
           },
           "bgcolor": "#E5ECF6",
           "caxis": {
            "gridcolor": "white",
            "linecolor": "white",
            "ticks": ""
           }
          },
          "title": {
           "x": 0.05
          },
          "xaxis": {
           "automargin": true,
           "gridcolor": "white",
           "linecolor": "white",
           "ticks": "",
           "zerolinecolor": "white",
           "zerolinewidth": 2
          },
          "yaxis": {
           "automargin": true,
           "gridcolor": "white",
           "linecolor": "white",
           "ticks": "",
           "zerolinecolor": "white",
           "zerolinewidth": 2
          }
         }
        },
        "title": {
         "text": "newmse:video:total_total:(dis_user)"
        },
        "xaxis": {
         "type": "date"
        },
        "yaxis": {
         "title": {
          "text": "dis_user"
         }
        }
       }
      },
      "text/html": [
       "<div>\n",
       "        \n",
       "        \n",
       "            <div id=\"3676f0ef-7fa9-46b6-9918-b0335a2e016a\" class=\"plotly-graph-div\" style=\"height:525px; width:100%;\"></div>\n",
       "            <script type=\"text/javascript\">\n",
       "                require([\"plotly\"], function(Plotly) {\n",
       "                    window.PLOTLYENV=window.PLOTLYENV || {};\n",
       "                    \n",
       "                if (document.getElementById(\"3676f0ef-7fa9-46b6-9918-b0335a2e016a\")) {\n",
       "                    Plotly.newPlot(\n",
       "                        '3676f0ef-7fa9-46b6-9918-b0335a2e016a',\n",
       "                        [{\"hovertext\": [\"-0.0338\", \"-0.0246\", \"-0.0215\", \"-0.0435\", \"-0.0339\", \"-0.0026\", \"-0.0282\", \"-0.0078\", \"-0.0146\", \"-0.0089\", \"0.0067\", \"-0.0204\", \"-0.0193\", \"-0.0135\", \"-0.0002\", \"-0.0220\", \"-0.0137\", \"-0.0199\", \"-0.0169\", \"-0.0119\", \"0.0008\", \"-0.0090\", \"-0.0252\", \"-0.0152\", \"-0.0289\", \"-0.0189\", \"-0.0412\", \"-0.0198\", \"-0.0166\", \"-0.0114\", \"-0.0160\", \"-0.0185\", \"-0.0297\", \"-0.0128\", \"-0.0171\", \"-0.0121\", \"-0.0315\", \"-0.0280\", \"-0.0213\", \"-0.0173\", \"0.0115\", \"0.0170\", \"-0.0105\", \"-0.0349\", \"-0.0356\", \"-0.0161\", \"-0.0182\", \"-0.0097\", \"-0.0278\", \"-0.0027\", \"-0.0208\"], \"line\": {\"shape\": \"spline\", \"smoothing\": 1.0}, \"mode\": \"lines+markers\", \"name\": \"7\", \"showlegend\": true, \"type\": \"scatter\", \"x\": [\"2020-01-12T11:00:00\", \"2020-01-12T12:00:00\", \"2020-01-12T13:00:00\", \"2020-01-12T14:00:00\", \"2020-01-12T15:00:00\", \"2020-01-12T16:00:00\", \"2020-01-12T17:00:00\", \"2020-01-12T18:00:00\", \"2020-01-12T19:00:00\", \"2020-01-12T20:00:00\", \"2020-01-12T21:00:00\", \"2020-01-12T22:00:00\", \"2020-01-12T23:00:00\", \"2020-01-13T00:00:00\", \"2020-01-13T01:00:00\", \"2020-01-13T02:00:00\", \"2020-01-13T03:00:00\", \"2020-01-13T04:00:00\", \"2020-01-13T05:00:00\", \"2020-01-13T06:00:00\", \"2020-01-13T07:00:00\", \"2020-01-13T08:00:00\", \"2020-01-13T09:00:00\", \"2020-01-13T10:00:00\", \"2020-01-13T11:00:00\", \"2020-01-13T12:00:00\", \"2020-01-13T13:00:00\", \"2020-01-13T14:00:00\", \"2020-01-13T15:00:00\", \"2020-01-13T16:00:00\", \"2020-01-13T17:00:00\", \"2020-01-13T18:00:00\", \"2020-01-13T19:00:00\", \"2020-01-13T20:00:00\", \"2020-01-13T21:00:00\", \"2020-01-13T22:00:00\", \"2020-01-13T23:00:00\", \"2020-01-14T00:00:00\", \"2020-01-14T01:00:00\", \"2020-01-14T02:00:00\", \"2020-01-14T03:00:00\", \"2020-01-14T04:00:00\", \"2020-01-14T05:00:00\", \"2020-01-14T06:00:00\", \"2020-01-14T07:00:00\", \"2020-01-14T08:00:00\", \"2020-01-14T09:00:00\", \"2020-01-14T10:00:00\", \"2020-01-14T11:00:00\", \"2020-01-14T12:00:00\", \"2020-01-14T13:00:00\"], \"y\": [14847.632682691994, 15154.175520520192, 15690.275623942589, 14501.704647392773, 14461.582338531467, 15010.08619196819, 14744.005496307993, 15994.477005979003, 17857.916207519364, 19363.8012775539, 21409.712759309525, 17704.459353702878, 12841.953162370763, 10169.658156905738, 5754.7084638132455, 3653.6217792593247, 2915.5766819371574, 2924.007740028798, 4184.270671350808, 7835.151643601328, 12084.26321204547, 13643.523521767778, 14211.751519262385, 14631.964936603596, 14579.979884189372, 15705.250040184126, 14739.869513855358, 14579.490773639363, 14644.85533275224, 14565.47531081529, 14181.42044697064, 15027.37581034331, 16331.769579930153, 17955.20374841581, 18828.556443906, 17422.033473983956, 12520.192944769688, 9570.526593429544, 5406.590470974293, 3570.809958574759, 2879.694118225673, 3006.5959381357998, 4231.645575926603, 7583.800697742616, 11629.746700678585, 13707.647873418542, 14360.467639805998, 14739.359423761309, 14211.328119294087, 15900.885053035856, 14936.774812947984]}, {\"line\": {\"shape\": \"spline\", \"smoothing\": 1.0}, \"mode\": \"lines+markers\", \"name\": \"456\", \"showlegend\": true, \"type\": \"scatter\", \"x\": [\"2020-01-12T11:00:00\", \"2020-01-12T12:00:00\", \"2020-01-12T13:00:00\", \"2020-01-12T14:00:00\", \"2020-01-12T15:00:00\", \"2020-01-12T16:00:00\", \"2020-01-12T17:00:00\", \"2020-01-12T18:00:00\", \"2020-01-12T19:00:00\", \"2020-01-12T20:00:00\", \"2020-01-12T21:00:00\", \"2020-01-12T22:00:00\", \"2020-01-12T23:00:00\", \"2020-01-13T00:00:00\", \"2020-01-13T01:00:00\", \"2020-01-13T02:00:00\", \"2020-01-13T03:00:00\", \"2020-01-13T04:00:00\", \"2020-01-13T05:00:00\", \"2020-01-13T06:00:00\", \"2020-01-13T07:00:00\", \"2020-01-13T08:00:00\", \"2020-01-13T09:00:00\", \"2020-01-13T10:00:00\", \"2020-01-13T11:00:00\", \"2020-01-13T12:00:00\", \"2020-01-13T13:00:00\", \"2020-01-13T14:00:00\", \"2020-01-13T15:00:00\", \"2020-01-13T16:00:00\", \"2020-01-13T17:00:00\", \"2020-01-13T18:00:00\", \"2020-01-13T19:00:00\", \"2020-01-13T20:00:00\", \"2020-01-13T21:00:00\", \"2020-01-13T22:00:00\", \"2020-01-13T23:00:00\", \"2020-01-14T00:00:00\", \"2020-01-14T01:00:00\", \"2020-01-14T02:00:00\", \"2020-01-14T03:00:00\", \"2020-01-14T04:00:00\", \"2020-01-14T05:00:00\", \"2020-01-14T06:00:00\", \"2020-01-14T07:00:00\", \"2020-01-14T08:00:00\", \"2020-01-14T09:00:00\", \"2020-01-14T10:00:00\", \"2020-01-14T11:00:00\", \"2020-01-14T12:00:00\", \"2020-01-14T13:00:00\"], \"y\": [15366.666666666666, 15536.666666666666, 16034.333333333334, 15160.666666666666, 14969.666666666666, 15049.0, 15171.666666666666, 16121.0, 18122.0, 19537.666666666668, 21266.333333333332, 18074.0, 13094.333333333334, 10309.0, 5755.666666666667, 3736.0, 2956.0, 2983.3333333333335, 4256.0, 7929.333333333333, 12074.666666666666, 13767.666666666666, 14579.0, 14858.333333333334, 15013.666666666666, 16008.333333333334, 15372.666666666666, 14873.333333333334, 14892.333333333334, 14734.0, 14412.333333333334, 15311.0, 16831.333333333332, 18187.333333333332, 19156.333333333332, 17635.666666666668, 12928.0, 9846.666666666666, 5524.0, 3633.6666666666665, 2847.0, 2956.3333333333335, 4276.666666666667, 7858.333333333333, 12059.333333333334, 13932.0, 14626.0, 14884.333333333334, 14618.333333333334, 15943.666666666666, 15253.666666666666]}],\n",
       "                        {\"hovermode\": \"x\", \"template\": {\"data\": {\"bar\": [{\"error_x\": {\"color\": \"#2a3f5f\"}, \"error_y\": {\"color\": \"#2a3f5f\"}, \"marker\": {\"line\": {\"color\": \"#E5ECF6\", \"width\": 0.5}}, \"type\": \"bar\"}], \"barpolar\": [{\"marker\": {\"line\": {\"color\": \"#E5ECF6\", \"width\": 0.5}}, \"type\": \"barpolar\"}], \"carpet\": [{\"aaxis\": {\"endlinecolor\": \"#2a3f5f\", \"gridcolor\": \"white\", \"linecolor\": \"white\", \"minorgridcolor\": \"white\", \"startlinecolor\": \"#2a3f5f\"}, \"baxis\": {\"endlinecolor\": \"#2a3f5f\", \"gridcolor\": \"white\", \"linecolor\": \"white\", \"minorgridcolor\": \"white\", \"startlinecolor\": \"#2a3f5f\"}, \"type\": \"carpet\"}], \"choropleth\": [{\"colorbar\": {\"outlinewidth\": 0, \"ticks\": \"\"}, \"type\": \"choropleth\"}], \"contour\": [{\"colorbar\": {\"outlinewidth\": 0, \"ticks\": \"\"}, \"colorscale\": [[0.0, \"#0d0887\"], [0.1111111111111111, \"#46039f\"], [0.2222222222222222, \"#7201a8\"], [0.3333333333333333, \"#9c179e\"], [0.4444444444444444, \"#bd3786\"], [0.5555555555555556, \"#d8576b\"], [0.6666666666666666, \"#ed7953\"], [0.7777777777777778, \"#fb9f3a\"], [0.8888888888888888, \"#fdca26\"], [1.0, \"#f0f921\"]], \"type\": \"contour\"}], \"contourcarpet\": [{\"colorbar\": {\"outlinewidth\": 0, \"ticks\": \"\"}, \"type\": \"contourcarpet\"}], \"heatmap\": [{\"colorbar\": {\"outlinewidth\": 0, \"ticks\": \"\"}, \"colorscale\": [[0.0, \"#0d0887\"], [0.1111111111111111, \"#46039f\"], [0.2222222222222222, \"#7201a8\"], [0.3333333333333333, \"#9c179e\"], [0.4444444444444444, \"#bd3786\"], [0.5555555555555556, \"#d8576b\"], [0.6666666666666666, \"#ed7953\"], [0.7777777777777778, \"#fb9f3a\"], [0.8888888888888888, \"#fdca26\"], [1.0, \"#f0f921\"]], \"type\": \"heatmap\"}], \"heatmapgl\": [{\"colorbar\": {\"outlinewidth\": 0, \"ticks\": \"\"}, \"colorscale\": [[0.0, \"#0d0887\"], [0.1111111111111111, \"#46039f\"], [0.2222222222222222, \"#7201a8\"], [0.3333333333333333, \"#9c179e\"], [0.4444444444444444, \"#bd3786\"], [0.5555555555555556, \"#d8576b\"], [0.6666666666666666, \"#ed7953\"], [0.7777777777777778, \"#fb9f3a\"], [0.8888888888888888, \"#fdca26\"], [1.0, \"#f0f921\"]], \"type\": \"heatmapgl\"}], \"histogram\": [{\"marker\": {\"colorbar\": {\"outlinewidth\": 0, \"ticks\": \"\"}}, \"type\": \"histogram\"}], \"histogram2d\": [{\"colorbar\": {\"outlinewidth\": 0, \"ticks\": \"\"}, \"colorscale\": [[0.0, \"#0d0887\"], [0.1111111111111111, \"#46039f\"], [0.2222222222222222, \"#7201a8\"], [0.3333333333333333, \"#9c179e\"], [0.4444444444444444, \"#bd3786\"], [0.5555555555555556, \"#d8576b\"], [0.6666666666666666, \"#ed7953\"], [0.7777777777777778, \"#fb9f3a\"], [0.8888888888888888, \"#fdca26\"], [1.0, \"#f0f921\"]], \"type\": \"histogram2d\"}], \"histogram2dcontour\": [{\"colorbar\": {\"outlinewidth\": 0, \"ticks\": \"\"}, \"colorscale\": [[0.0, \"#0d0887\"], [0.1111111111111111, \"#46039f\"], [0.2222222222222222, \"#7201a8\"], [0.3333333333333333, \"#9c179e\"], [0.4444444444444444, \"#bd3786\"], [0.5555555555555556, \"#d8576b\"], [0.6666666666666666, \"#ed7953\"], [0.7777777777777778, \"#fb9f3a\"], [0.8888888888888888, \"#fdca26\"], [1.0, \"#f0f921\"]], \"type\": \"histogram2dcontour\"}], \"mesh3d\": [{\"colorbar\": {\"outlinewidth\": 0, \"ticks\": \"\"}, \"type\": \"mesh3d\"}], \"parcoords\": [{\"line\": {\"colorbar\": {\"outlinewidth\": 0, \"ticks\": \"\"}}, \"type\": \"parcoords\"}], \"scatter\": [{\"marker\": {\"colorbar\": {\"outlinewidth\": 0, \"ticks\": \"\"}}, \"type\": \"scatter\"}], \"scatter3d\": [{\"line\": {\"colorbar\": {\"outlinewidth\": 0, \"ticks\": \"\"}}, \"marker\": {\"colorbar\": {\"outlinewidth\": 0, \"ticks\": \"\"}}, \"type\": \"scatter3d\"}], \"scattercarpet\": [{\"marker\": {\"colorbar\": {\"outlinewidth\": 0, \"ticks\": \"\"}}, \"type\": \"scattercarpet\"}], \"scattergeo\": [{\"marker\": {\"colorbar\": {\"outlinewidth\": 0, \"ticks\": \"\"}}, \"type\": \"scattergeo\"}], \"scattergl\": [{\"marker\": {\"colorbar\": {\"outlinewidth\": 0, \"ticks\": \"\"}}, \"type\": \"scattergl\"}], \"scattermapbox\": [{\"marker\": {\"colorbar\": {\"outlinewidth\": 0, \"ticks\": \"\"}}, \"type\": \"scattermapbox\"}], \"scatterpolar\": [{\"marker\": {\"colorbar\": {\"outlinewidth\": 0, \"ticks\": \"\"}}, \"type\": \"scatterpolar\"}], \"scatterpolargl\": [{\"marker\": {\"colorbar\": {\"outlinewidth\": 0, \"ticks\": \"\"}}, \"type\": \"scatterpolargl\"}], \"scatterternary\": [{\"marker\": {\"colorbar\": {\"outlinewidth\": 0, \"ticks\": \"\"}}, \"type\": \"scatterternary\"}], \"surface\": [{\"colorbar\": {\"outlinewidth\": 0, \"ticks\": \"\"}, \"colorscale\": [[0.0, \"#0d0887\"], [0.1111111111111111, \"#46039f\"], [0.2222222222222222, \"#7201a8\"], [0.3333333333333333, \"#9c179e\"], [0.4444444444444444, \"#bd3786\"], [0.5555555555555556, \"#d8576b\"], [0.6666666666666666, \"#ed7953\"], [0.7777777777777778, \"#fb9f3a\"], [0.8888888888888888, \"#fdca26\"], [1.0, \"#f0f921\"]], \"type\": \"surface\"}], \"table\": [{\"cells\": {\"fill\": {\"color\": \"#EBF0F8\"}, \"line\": {\"color\": \"white\"}}, \"header\": {\"fill\": {\"color\": \"#C8D4E3\"}, \"line\": {\"color\": \"white\"}}, \"type\": \"table\"}]}, \"layout\": {\"annotationdefaults\": {\"arrowcolor\": \"#2a3f5f\", \"arrowhead\": 0, \"arrowwidth\": 1}, \"colorscale\": {\"diverging\": [[0, \"#8e0152\"], [0.1, \"#c51b7d\"], [0.2, \"#de77ae\"], [0.3, \"#f1b6da\"], [0.4, \"#fde0ef\"], [0.5, \"#f7f7f7\"], [0.6, \"#e6f5d0\"], [0.7, \"#b8e186\"], [0.8, \"#7fbc41\"], [0.9, \"#4d9221\"], [1, \"#276419\"]], \"sequential\": [[0.0, \"#0d0887\"], [0.1111111111111111, \"#46039f\"], [0.2222222222222222, \"#7201a8\"], [0.3333333333333333, \"#9c179e\"], [0.4444444444444444, \"#bd3786\"], [0.5555555555555556, \"#d8576b\"], [0.6666666666666666, \"#ed7953\"], [0.7777777777777778, \"#fb9f3a\"], [0.8888888888888888, \"#fdca26\"], [1.0, \"#f0f921\"]], \"sequentialminus\": [[0.0, \"#0d0887\"], [0.1111111111111111, \"#46039f\"], [0.2222222222222222, \"#7201a8\"], [0.3333333333333333, \"#9c179e\"], [0.4444444444444444, \"#bd3786\"], [0.5555555555555556, \"#d8576b\"], [0.6666666666666666, \"#ed7953\"], [0.7777777777777778, \"#fb9f3a\"], [0.8888888888888888, \"#fdca26\"], [1.0, \"#f0f921\"]]}, \"colorway\": [\"#636efa\", \"#EF553B\", \"#00cc96\", \"#ab63fa\", \"#FFA15A\", \"#19d3f3\", \"#FF6692\", \"#B6E880\", \"#FF97FF\", \"#FECB52\"], \"font\": {\"color\": \"#2a3f5f\"}, \"geo\": {\"bgcolor\": \"white\", \"lakecolor\": \"white\", \"landcolor\": \"#E5ECF6\", \"showlakes\": true, \"showland\": true, \"subunitcolor\": \"white\"}, \"hoverlabel\": {\"align\": \"left\"}, \"hovermode\": \"closest\", \"mapbox\": {\"style\": \"light\"}, \"paper_bgcolor\": \"white\", \"plot_bgcolor\": \"#E5ECF6\", \"polar\": {\"angularaxis\": {\"gridcolor\": \"white\", \"linecolor\": \"white\", \"ticks\": \"\"}, \"bgcolor\": \"#E5ECF6\", \"radialaxis\": {\"gridcolor\": \"white\", \"linecolor\": \"white\", \"ticks\": \"\"}}, \"scene\": {\"xaxis\": {\"backgroundcolor\": \"#E5ECF6\", \"gridcolor\": \"white\", \"gridwidth\": 2, \"linecolor\": \"white\", \"showbackground\": true, \"ticks\": \"\", \"zerolinecolor\": \"white\"}, \"yaxis\": {\"backgroundcolor\": \"#E5ECF6\", \"gridcolor\": \"white\", \"gridwidth\": 2, \"linecolor\": \"white\", \"showbackground\": true, \"ticks\": \"\", \"zerolinecolor\": \"white\"}, \"zaxis\": {\"backgroundcolor\": \"#E5ECF6\", \"gridcolor\": \"white\", \"gridwidth\": 2, \"linecolor\": \"white\", \"showbackground\": true, \"ticks\": \"\", \"zerolinecolor\": \"white\"}}, \"shapedefaults\": {\"line\": {\"color\": \"#2a3f5f\"}}, \"ternary\": {\"aaxis\": {\"gridcolor\": \"white\", \"linecolor\": \"white\", \"ticks\": \"\"}, \"baxis\": {\"gridcolor\": \"white\", \"linecolor\": \"white\", \"ticks\": \"\"}, \"bgcolor\": \"#E5ECF6\", \"caxis\": {\"gridcolor\": \"white\", \"linecolor\": \"white\", \"ticks\": \"\"}}, \"title\": {\"x\": 0.05}, \"xaxis\": {\"automargin\": true, \"gridcolor\": \"white\", \"linecolor\": \"white\", \"ticks\": \"\", \"zerolinecolor\": \"white\", \"zerolinewidth\": 2}, \"yaxis\": {\"automargin\": true, \"gridcolor\": \"white\", \"linecolor\": \"white\", \"ticks\": \"\", \"zerolinecolor\": \"white\", \"zerolinewidth\": 2}}}, \"title\": {\"text\": \"newmse:video:total_total:(dis_user)\"}, \"xaxis\": {\"type\": \"date\"}, \"yaxis\": {\"title\": {\"text\": \"dis_user\"}}},\n",
       "                        {\"responsive\": true}\n",
       "                    ).then(function(){\n",
       "                            \n",
       "var gd = document.getElementById('3676f0ef-7fa9-46b6-9918-b0335a2e016a');\n",
       "var x = new MutationObserver(function (mutations, observer) {{\n",
       "        var display = window.getComputedStyle(gd).display;\n",
       "        if (!display || display === 'none') {{\n",
       "            console.log([gd, 'removed!']);\n",
       "            Plotly.purge(gd);\n",
       "            observer.disconnect();\n",
       "        }}\n",
       "}});\n",
       "\n",
       "// Listen for the removal of the full notebook cells\n",
       "var notebookContainer = gd.closest('#notebook-container');\n",
       "if (notebookContainer) {{\n",
       "    x.observe(notebookContainer, {childList: true});\n",
       "}}\n",
       "\n",
       "// Listen for the clearing of the current output cell\n",
       "var outputEl = gd.closest('.output');\n",
       "if (outputEl) {{\n",
       "    x.observe(outputEl, {childList: true});\n",
       "}}\n",
       "\n",
       "                        })\n",
       "                };\n",
       "                });\n",
       "            </script>\n",
       "        </div>"
      ]
     },
     "metadata": {},
     "output_type": "display_data"
    },
    {
     "data": {
      "application/vnd.plotly.v1+json": {
       "config": {
        "linkText": "Export to plot.ly",
        "plotlyServerURL": "https://plot.ly",
        "showLink": false
       },
       "data": [
        {
         "hovertext": [
          "-0.0881",
          "-0.0833",
          "-0.0495",
          "-0.0345",
          "-0.0429",
          "-0.0999",
          "-0.0487",
          "-0.0785",
          "-0.1082",
          "-0.0781",
          "-0.0900",
          "-0.0942",
          "-0.0377",
          "-0.0545",
          "0.0002",
          "0.0243",
          "-0.0645",
          "-0.1147",
          "-0.0209",
          "-0.1236",
          "-0.0956",
          "-0.1238",
          "-0.0486",
          "-0.0965",
          "-0.0608",
          "-0.0669",
          "-0.0620",
          "-0.0737",
          "-0.0867",
          "-0.1116",
          "-0.0363",
          "-0.0688",
          "-0.0771",
          "-0.0635",
          "-0.0861",
          "-0.0913",
          "-0.0598",
          "-0.0617",
          "0.0115",
          "-0.0891",
          "-0.0403",
          "-0.0683",
          "0.0021",
          "-0.0858",
          "-0.0406",
          "-0.1123",
          "-0.0809",
          "-0.0113",
          "-0.0647",
          "-0.0447",
          "-0.0731"
         ],
         "line": {
          "shape": "spline",
          "smoothing": 1
         },
         "mode": "lines+markers",
         "name": "7",
         "showlegend": true,
         "type": "scatter",
         "x": [
          "2020-01-12T11:00:00",
          "2020-01-12T12:00:00",
          "2020-01-12T13:00:00",
          "2020-01-12T14:00:00",
          "2020-01-12T15:00:00",
          "2020-01-12T16:00:00",
          "2020-01-12T17:00:00",
          "2020-01-12T18:00:00",
          "2020-01-12T19:00:00",
          "2020-01-12T20:00:00",
          "2020-01-12T21:00:00",
          "2020-01-12T22:00:00",
          "2020-01-12T23:00:00",
          "2020-01-13T00:00:00",
          "2020-01-13T01:00:00",
          "2020-01-13T02:00:00",
          "2020-01-13T03:00:00",
          "2020-01-13T04:00:00",
          "2020-01-13T05:00:00",
          "2020-01-13T06:00:00",
          "2020-01-13T07:00:00",
          "2020-01-13T08:00:00",
          "2020-01-13T09:00:00",
          "2020-01-13T10:00:00",
          "2020-01-13T11:00:00",
          "2020-01-13T12:00:00",
          "2020-01-13T13:00:00",
          "2020-01-13T14:00:00",
          "2020-01-13T15:00:00",
          "2020-01-13T16:00:00",
          "2020-01-13T17:00:00",
          "2020-01-13T18:00:00",
          "2020-01-13T19:00:00",
          "2020-01-13T20:00:00",
          "2020-01-13T21:00:00",
          "2020-01-13T22:00:00",
          "2020-01-13T23:00:00",
          "2020-01-14T00:00:00",
          "2020-01-14T01:00:00",
          "2020-01-14T02:00:00",
          "2020-01-14T03:00:00",
          "2020-01-14T04:00:00",
          "2020-01-14T05:00:00",
          "2020-01-14T06:00:00",
          "2020-01-14T07:00:00",
          "2020-01-14T08:00:00",
          "2020-01-14T09:00:00",
          "2020-01-14T10:00:00",
          "2020-01-14T11:00:00",
          "2020-01-14T12:00:00",
          "2020-01-14T13:00:00"
         ],
         "y": [
          0.024328856423116135,
          0.02408172343314084,
          0.025737980892532927,
          0.026525294057882655,
          0.026035286457688683,
          0.024863558704629307,
          0.0253663366089407,
          0.0248808486783839,
          0.02536797361620147,
          0.026744956274099303,
          0.026454510193393503,
          0.027270293220009317,
          0.027244467286214432,
          0.024207497552704942,
          0.02519128354855953,
          0.02556520163144467,
          0.02384730791032136,
          0.024518747995424906,
          0.02668490060120661,
          0.024855137565949197,
          0.025331653276644026,
          0.0192556822302036,
          0.013915113875672847,
          0.02121194378527158,
          0.024068988018177775,
          0.02497637067926619,
          0.02554286666385499,
          0.024120057826023878,
          0.024015490648373758,
          0.023094401516565444,
          0.025087216836529515,
          0.024890275180046932,
          0.02617622716116924,
          0.027822280255028232,
          0.02690964106651064,
          0.026898159025762588,
          0.026962172930689195,
          0.02371116550913712,
          0.02448678265201436,
          0.02247275983492924,
          0.02390391465006935,
          0.023717825094977496,
          0.025961097287736847,
          0.024130082032239777,
          0.025558739605299145,
          0.02114960990701712,
          0.015400504874892007,
          0.02405484543793078,
          0.02451280119936049,
          0.025534131536304024,
          0.024776840588517486
         ]
        },
        {
         "line": {
          "shape": "spline",
          "smoothing": 1
         },
         "mode": "lines+markers",
         "name": "456",
         "showlegend": true,
         "type": "scatter",
         "x": [
          "2020-01-12T11:00:00",
          "2020-01-12T12:00:00",
          "2020-01-12T13:00:00",
          "2020-01-12T14:00:00",
          "2020-01-12T15:00:00",
          "2020-01-12T16:00:00",
          "2020-01-12T17:00:00",
          "2020-01-12T18:00:00",
          "2020-01-12T19:00:00",
          "2020-01-12T20:00:00",
          "2020-01-12T21:00:00",
          "2020-01-12T22:00:00",
          "2020-01-12T23:00:00",
          "2020-01-13T00:00:00",
          "2020-01-13T01:00:00",
          "2020-01-13T02:00:00",
          "2020-01-13T03:00:00",
          "2020-01-13T04:00:00",
          "2020-01-13T05:00:00",
          "2020-01-13T06:00:00",
          "2020-01-13T07:00:00",
          "2020-01-13T08:00:00",
          "2020-01-13T09:00:00",
          "2020-01-13T10:00:00",
          "2020-01-13T11:00:00",
          "2020-01-13T12:00:00",
          "2020-01-13T13:00:00",
          "2020-01-13T14:00:00",
          "2020-01-13T15:00:00",
          "2020-01-13T16:00:00",
          "2020-01-13T17:00:00",
          "2020-01-13T18:00:00",
          "2020-01-13T19:00:00",
          "2020-01-13T20:00:00",
          "2020-01-13T21:00:00",
          "2020-01-13T22:00:00",
          "2020-01-13T23:00:00",
          "2020-01-14T00:00:00",
          "2020-01-14T01:00:00",
          "2020-01-14T02:00:00",
          "2020-01-14T03:00:00",
          "2020-01-14T04:00:00",
          "2020-01-14T05:00:00",
          "2020-01-14T06:00:00",
          "2020-01-14T07:00:00",
          "2020-01-14T08:00:00",
          "2020-01-14T09:00:00",
          "2020-01-14T10:00:00",
          "2020-01-14T11:00:00",
          "2020-01-14T12:00:00",
          "2020-01-14T13:00:00"
         ],
         "y": [
          0.02667925022022628,
          0.026270830498107956,
          0.02707701923268881,
          0.027472831225583663,
          0.027202186478135507,
          0.027623515804140564,
          0.02666425666153234,
          0.026999257969531343,
          0.02844740188948071,
          0.0290119232921862,
          0.02906999715403967,
          0.030106202414267678,
          0.02831074298164467,
          0.025603747052046547,
          0.025187144466482934,
          0.024958910374223795,
          0.02549144558083279,
          0.027694709899417806,
          0.02725395380880472,
          0.028360960270124257,
          0.028009830856684695,
          0.021977315721993018,
          0.014626317871110768,
          0.023478735687815912,
          0.02562728673489091,
          0.02676848844816558,
          0.02723064976914505,
          0.0260380907803044,
          0.026295615297848244,
          0.02599516447595618,
          0.026031633767111467,
          0.026729418719169656,
          0.02836207888720042,
          0.02970803886506658,
          0.029443665323157137,
          0.0296016062664728,
          0.028675807768914253,
          0.02527093156870637,
          0.024209022578219122,
          0.024671411420481144,
          0.024907849900789248,
          0.025457361174543103,
          0.02590796213846423,
          0.026395949499032692,
          0.02663988566788747,
          0.02382547429695377,
          0.016756182039348352,
          0.024329321171473,
          0.026209647221212055,
          0.026728305625233307,
          0.026731695804360966
         ]
        }
       ],
       "layout": {
        "hovermode": "x",
        "template": {
         "data": {
          "bar": [
           {
            "error_x": {
             "color": "#2a3f5f"
            },
            "error_y": {
             "color": "#2a3f5f"
            },
            "marker": {
             "line": {
              "color": "#E5ECF6",
              "width": 0.5
             }
            },
            "type": "bar"
           }
          ],
          "barpolar": [
           {
            "marker": {
             "line": {
              "color": "#E5ECF6",
              "width": 0.5
             }
            },
            "type": "barpolar"
           }
          ],
          "carpet": [
           {
            "aaxis": {
             "endlinecolor": "#2a3f5f",
             "gridcolor": "white",
             "linecolor": "white",
             "minorgridcolor": "white",
             "startlinecolor": "#2a3f5f"
            },
            "baxis": {
             "endlinecolor": "#2a3f5f",
             "gridcolor": "white",
             "linecolor": "white",
             "minorgridcolor": "white",
             "startlinecolor": "#2a3f5f"
            },
            "type": "carpet"
           }
          ],
          "choropleth": [
           {
            "colorbar": {
             "outlinewidth": 0,
             "ticks": ""
            },
            "type": "choropleth"
           }
          ],
          "contour": [
           {
            "colorbar": {
             "outlinewidth": 0,
             "ticks": ""
            },
            "colorscale": [
             [
              0,
              "#0d0887"
             ],
             [
              0.1111111111111111,
              "#46039f"
             ],
             [
              0.2222222222222222,
              "#7201a8"
             ],
             [
              0.3333333333333333,
              "#9c179e"
             ],
             [
              0.4444444444444444,
              "#bd3786"
             ],
             [
              0.5555555555555556,
              "#d8576b"
             ],
             [
              0.6666666666666666,
              "#ed7953"
             ],
             [
              0.7777777777777778,
              "#fb9f3a"
             ],
             [
              0.8888888888888888,
              "#fdca26"
             ],
             [
              1,
              "#f0f921"
             ]
            ],
            "type": "contour"
           }
          ],
          "contourcarpet": [
           {
            "colorbar": {
             "outlinewidth": 0,
             "ticks": ""
            },
            "type": "contourcarpet"
           }
          ],
          "heatmap": [
           {
            "colorbar": {
             "outlinewidth": 0,
             "ticks": ""
            },
            "colorscale": [
             [
              0,
              "#0d0887"
             ],
             [
              0.1111111111111111,
              "#46039f"
             ],
             [
              0.2222222222222222,
              "#7201a8"
             ],
             [
              0.3333333333333333,
              "#9c179e"
             ],
             [
              0.4444444444444444,
              "#bd3786"
             ],
             [
              0.5555555555555556,
              "#d8576b"
             ],
             [
              0.6666666666666666,
              "#ed7953"
             ],
             [
              0.7777777777777778,
              "#fb9f3a"
             ],
             [
              0.8888888888888888,
              "#fdca26"
             ],
             [
              1,
              "#f0f921"
             ]
            ],
            "type": "heatmap"
           }
          ],
          "heatmapgl": [
           {
            "colorbar": {
             "outlinewidth": 0,
             "ticks": ""
            },
            "colorscale": [
             [
              0,
              "#0d0887"
             ],
             [
              0.1111111111111111,
              "#46039f"
             ],
             [
              0.2222222222222222,
              "#7201a8"
             ],
             [
              0.3333333333333333,
              "#9c179e"
             ],
             [
              0.4444444444444444,
              "#bd3786"
             ],
             [
              0.5555555555555556,
              "#d8576b"
             ],
             [
              0.6666666666666666,
              "#ed7953"
             ],
             [
              0.7777777777777778,
              "#fb9f3a"
             ],
             [
              0.8888888888888888,
              "#fdca26"
             ],
             [
              1,
              "#f0f921"
             ]
            ],
            "type": "heatmapgl"
           }
          ],
          "histogram": [
           {
            "marker": {
             "colorbar": {
              "outlinewidth": 0,
              "ticks": ""
             }
            },
            "type": "histogram"
           }
          ],
          "histogram2d": [
           {
            "colorbar": {
             "outlinewidth": 0,
             "ticks": ""
            },
            "colorscale": [
             [
              0,
              "#0d0887"
             ],
             [
              0.1111111111111111,
              "#46039f"
             ],
             [
              0.2222222222222222,
              "#7201a8"
             ],
             [
              0.3333333333333333,
              "#9c179e"
             ],
             [
              0.4444444444444444,
              "#bd3786"
             ],
             [
              0.5555555555555556,
              "#d8576b"
             ],
             [
              0.6666666666666666,
              "#ed7953"
             ],
             [
              0.7777777777777778,
              "#fb9f3a"
             ],
             [
              0.8888888888888888,
              "#fdca26"
             ],
             [
              1,
              "#f0f921"
             ]
            ],
            "type": "histogram2d"
           }
          ],
          "histogram2dcontour": [
           {
            "colorbar": {
             "outlinewidth": 0,
             "ticks": ""
            },
            "colorscale": [
             [
              0,
              "#0d0887"
             ],
             [
              0.1111111111111111,
              "#46039f"
             ],
             [
              0.2222222222222222,
              "#7201a8"
             ],
             [
              0.3333333333333333,
              "#9c179e"
             ],
             [
              0.4444444444444444,
              "#bd3786"
             ],
             [
              0.5555555555555556,
              "#d8576b"
             ],
             [
              0.6666666666666666,
              "#ed7953"
             ],
             [
              0.7777777777777778,
              "#fb9f3a"
             ],
             [
              0.8888888888888888,
              "#fdca26"
             ],
             [
              1,
              "#f0f921"
             ]
            ],
            "type": "histogram2dcontour"
           }
          ],
          "mesh3d": [
           {
            "colorbar": {
             "outlinewidth": 0,
             "ticks": ""
            },
            "type": "mesh3d"
           }
          ],
          "parcoords": [
           {
            "line": {
             "colorbar": {
              "outlinewidth": 0,
              "ticks": ""
             }
            },
            "type": "parcoords"
           }
          ],
          "scatter": [
           {
            "marker": {
             "colorbar": {
              "outlinewidth": 0,
              "ticks": ""
             }
            },
            "type": "scatter"
           }
          ],
          "scatter3d": [
           {
            "line": {
             "colorbar": {
              "outlinewidth": 0,
              "ticks": ""
             }
            },
            "marker": {
             "colorbar": {
              "outlinewidth": 0,
              "ticks": ""
             }
            },
            "type": "scatter3d"
           }
          ],
          "scattercarpet": [
           {
            "marker": {
             "colorbar": {
              "outlinewidth": 0,
              "ticks": ""
             }
            },
            "type": "scattercarpet"
           }
          ],
          "scattergeo": [
           {
            "marker": {
             "colorbar": {
              "outlinewidth": 0,
              "ticks": ""
             }
            },
            "type": "scattergeo"
           }
          ],
          "scattergl": [
           {
            "marker": {
             "colorbar": {
              "outlinewidth": 0,
              "ticks": ""
             }
            },
            "type": "scattergl"
           }
          ],
          "scattermapbox": [
           {
            "marker": {
             "colorbar": {
              "outlinewidth": 0,
              "ticks": ""
             }
            },
            "type": "scattermapbox"
           }
          ],
          "scatterpolar": [
           {
            "marker": {
             "colorbar": {
              "outlinewidth": 0,
              "ticks": ""
             }
            },
            "type": "scatterpolar"
           }
          ],
          "scatterpolargl": [
           {
            "marker": {
             "colorbar": {
              "outlinewidth": 0,
              "ticks": ""
             }
            },
            "type": "scatterpolargl"
           }
          ],
          "scatterternary": [
           {
            "marker": {
             "colorbar": {
              "outlinewidth": 0,
              "ticks": ""
             }
            },
            "type": "scatterternary"
           }
          ],
          "surface": [
           {
            "colorbar": {
             "outlinewidth": 0,
             "ticks": ""
            },
            "colorscale": [
             [
              0,
              "#0d0887"
             ],
             [
              0.1111111111111111,
              "#46039f"
             ],
             [
              0.2222222222222222,
              "#7201a8"
             ],
             [
              0.3333333333333333,
              "#9c179e"
             ],
             [
              0.4444444444444444,
              "#bd3786"
             ],
             [
              0.5555555555555556,
              "#d8576b"
             ],
             [
              0.6666666666666666,
              "#ed7953"
             ],
             [
              0.7777777777777778,
              "#fb9f3a"
             ],
             [
              0.8888888888888888,
              "#fdca26"
             ],
             [
              1,
              "#f0f921"
             ]
            ],
            "type": "surface"
           }
          ],
          "table": [
           {
            "cells": {
             "fill": {
              "color": "#EBF0F8"
             },
             "line": {
              "color": "white"
             }
            },
            "header": {
             "fill": {
              "color": "#C8D4E3"
             },
             "line": {
              "color": "white"
             }
            },
            "type": "table"
           }
          ]
         },
         "layout": {
          "annotationdefaults": {
           "arrowcolor": "#2a3f5f",
           "arrowhead": 0,
           "arrowwidth": 1
          },
          "colorscale": {
           "diverging": [
            [
             0,
             "#8e0152"
            ],
            [
             0.1,
             "#c51b7d"
            ],
            [
             0.2,
             "#de77ae"
            ],
            [
             0.3,
             "#f1b6da"
            ],
            [
             0.4,
             "#fde0ef"
            ],
            [
             0.5,
             "#f7f7f7"
            ],
            [
             0.6,
             "#e6f5d0"
            ],
            [
             0.7,
             "#b8e186"
            ],
            [
             0.8,
             "#7fbc41"
            ],
            [
             0.9,
             "#4d9221"
            ],
            [
             1,
             "#276419"
            ]
           ],
           "sequential": [
            [
             0,
             "#0d0887"
            ],
            [
             0.1111111111111111,
             "#46039f"
            ],
            [
             0.2222222222222222,
             "#7201a8"
            ],
            [
             0.3333333333333333,
             "#9c179e"
            ],
            [
             0.4444444444444444,
             "#bd3786"
            ],
            [
             0.5555555555555556,
             "#d8576b"
            ],
            [
             0.6666666666666666,
             "#ed7953"
            ],
            [
             0.7777777777777778,
             "#fb9f3a"
            ],
            [
             0.8888888888888888,
             "#fdca26"
            ],
            [
             1,
             "#f0f921"
            ]
           ],
           "sequentialminus": [
            [
             0,
             "#0d0887"
            ],
            [
             0.1111111111111111,
             "#46039f"
            ],
            [
             0.2222222222222222,
             "#7201a8"
            ],
            [
             0.3333333333333333,
             "#9c179e"
            ],
            [
             0.4444444444444444,
             "#bd3786"
            ],
            [
             0.5555555555555556,
             "#d8576b"
            ],
            [
             0.6666666666666666,
             "#ed7953"
            ],
            [
             0.7777777777777778,
             "#fb9f3a"
            ],
            [
             0.8888888888888888,
             "#fdca26"
            ],
            [
             1,
             "#f0f921"
            ]
           ]
          },
          "colorway": [
           "#636efa",
           "#EF553B",
           "#00cc96",
           "#ab63fa",
           "#FFA15A",
           "#19d3f3",
           "#FF6692",
           "#B6E880",
           "#FF97FF",
           "#FECB52"
          ],
          "font": {
           "color": "#2a3f5f"
          },
          "geo": {
           "bgcolor": "white",
           "lakecolor": "white",
           "landcolor": "#E5ECF6",
           "showlakes": true,
           "showland": true,
           "subunitcolor": "white"
          },
          "hoverlabel": {
           "align": "left"
          },
          "hovermode": "closest",
          "mapbox": {
           "style": "light"
          },
          "paper_bgcolor": "white",
          "plot_bgcolor": "#E5ECF6",
          "polar": {
           "angularaxis": {
            "gridcolor": "white",
            "linecolor": "white",
            "ticks": ""
           },
           "bgcolor": "#E5ECF6",
           "radialaxis": {
            "gridcolor": "white",
            "linecolor": "white",
            "ticks": ""
           }
          },
          "scene": {
           "xaxis": {
            "backgroundcolor": "#E5ECF6",
            "gridcolor": "white",
            "gridwidth": 2,
            "linecolor": "white",
            "showbackground": true,
            "ticks": "",
            "zerolinecolor": "white"
           },
           "yaxis": {
            "backgroundcolor": "#E5ECF6",
            "gridcolor": "white",
            "gridwidth": 2,
            "linecolor": "white",
            "showbackground": true,
            "ticks": "",
            "zerolinecolor": "white"
           },
           "zaxis": {
            "backgroundcolor": "#E5ECF6",
            "gridcolor": "white",
            "gridwidth": 2,
            "linecolor": "white",
            "showbackground": true,
            "ticks": "",
            "zerolinecolor": "white"
           }
          },
          "shapedefaults": {
           "line": {
            "color": "#2a3f5f"
           }
          },
          "ternary": {
           "aaxis": {
            "gridcolor": "white",
            "linecolor": "white",
            "ticks": ""
           },
           "baxis": {
            "gridcolor": "white",
            "linecolor": "white",
            "ticks": ""
           },
           "bgcolor": "#E5ECF6",
           "caxis": {
            "gridcolor": "white",
            "linecolor": "white",
            "ticks": ""
           }
          },
          "title": {
           "x": 0.05
          },
          "xaxis": {
           "automargin": true,
           "gridcolor": "white",
           "linecolor": "white",
           "ticks": "",
           "zerolinecolor": "white",
           "zerolinewidth": 2
          },
          "yaxis": {
           "automargin": true,
           "gridcolor": "white",
           "linecolor": "white",
           "ticks": "",
           "zerolinecolor": "white",
           "zerolinewidth": 2
          }
         }
        },
        "title": {
         "text": "newmse:video:total_total:(ctr)"
        },
        "xaxis": {
         "type": "date"
        },
        "yaxis": {
         "title": {
          "text": "ctr"
         }
        }
       }
      },
      "text/html": [
       "<div>\n",
       "        \n",
       "        \n",
       "            <div id=\"0081cc91-a6b3-4dfd-9123-bfc1efe2fcb7\" class=\"plotly-graph-div\" style=\"height:525px; width:100%;\"></div>\n",
       "            <script type=\"text/javascript\">\n",
       "                require([\"plotly\"], function(Plotly) {\n",
       "                    window.PLOTLYENV=window.PLOTLYENV || {};\n",
       "                    \n",
       "                if (document.getElementById(\"0081cc91-a6b3-4dfd-9123-bfc1efe2fcb7\")) {\n",
       "                    Plotly.newPlot(\n",
       "                        '0081cc91-a6b3-4dfd-9123-bfc1efe2fcb7',\n",
       "                        [{\"hovertext\": [\"-0.0881\", \"-0.0833\", \"-0.0495\", \"-0.0345\", \"-0.0429\", \"-0.0999\", \"-0.0487\", \"-0.0785\", \"-0.1082\", \"-0.0781\", \"-0.0900\", \"-0.0942\", \"-0.0377\", \"-0.0545\", \"0.0002\", \"0.0243\", \"-0.0645\", \"-0.1147\", \"-0.0209\", \"-0.1236\", \"-0.0956\", \"-0.1238\", \"-0.0486\", \"-0.0965\", \"-0.0608\", \"-0.0669\", \"-0.0620\", \"-0.0737\", \"-0.0867\", \"-0.1116\", \"-0.0363\", \"-0.0688\", \"-0.0771\", \"-0.0635\", \"-0.0861\", \"-0.0913\", \"-0.0598\", \"-0.0617\", \"0.0115\", \"-0.0891\", \"-0.0403\", \"-0.0683\", \"0.0021\", \"-0.0858\", \"-0.0406\", \"-0.1123\", \"-0.0809\", \"-0.0113\", \"-0.0647\", \"-0.0447\", \"-0.0731\"], \"line\": {\"shape\": \"spline\", \"smoothing\": 1.0}, \"mode\": \"lines+markers\", \"name\": \"7\", \"showlegend\": true, \"type\": \"scatter\", \"x\": [\"2020-01-12T11:00:00\", \"2020-01-12T12:00:00\", \"2020-01-12T13:00:00\", \"2020-01-12T14:00:00\", \"2020-01-12T15:00:00\", \"2020-01-12T16:00:00\", \"2020-01-12T17:00:00\", \"2020-01-12T18:00:00\", \"2020-01-12T19:00:00\", \"2020-01-12T20:00:00\", \"2020-01-12T21:00:00\", \"2020-01-12T22:00:00\", \"2020-01-12T23:00:00\", \"2020-01-13T00:00:00\", \"2020-01-13T01:00:00\", \"2020-01-13T02:00:00\", \"2020-01-13T03:00:00\", \"2020-01-13T04:00:00\", \"2020-01-13T05:00:00\", \"2020-01-13T06:00:00\", \"2020-01-13T07:00:00\", \"2020-01-13T08:00:00\", \"2020-01-13T09:00:00\", \"2020-01-13T10:00:00\", \"2020-01-13T11:00:00\", \"2020-01-13T12:00:00\", \"2020-01-13T13:00:00\", \"2020-01-13T14:00:00\", \"2020-01-13T15:00:00\", \"2020-01-13T16:00:00\", \"2020-01-13T17:00:00\", \"2020-01-13T18:00:00\", \"2020-01-13T19:00:00\", \"2020-01-13T20:00:00\", \"2020-01-13T21:00:00\", \"2020-01-13T22:00:00\", \"2020-01-13T23:00:00\", \"2020-01-14T00:00:00\", \"2020-01-14T01:00:00\", \"2020-01-14T02:00:00\", \"2020-01-14T03:00:00\", \"2020-01-14T04:00:00\", \"2020-01-14T05:00:00\", \"2020-01-14T06:00:00\", \"2020-01-14T07:00:00\", \"2020-01-14T08:00:00\", \"2020-01-14T09:00:00\", \"2020-01-14T10:00:00\", \"2020-01-14T11:00:00\", \"2020-01-14T12:00:00\", \"2020-01-14T13:00:00\"], \"y\": [0.024328856423116135, 0.02408172343314084, 0.025737980892532927, 0.026525294057882655, 0.026035286457688683, 0.024863558704629307, 0.0253663366089407, 0.0248808486783839, 0.02536797361620147, 0.026744956274099303, 0.026454510193393503, 0.027270293220009317, 0.027244467286214432, 0.024207497552704942, 0.02519128354855953, 0.02556520163144467, 0.02384730791032136, 0.024518747995424906, 0.02668490060120661, 0.024855137565949197, 0.025331653276644026, 0.0192556822302036, 0.013915113875672847, 0.02121194378527158, 0.024068988018177775, 0.02497637067926619, 0.02554286666385499, 0.024120057826023878, 0.024015490648373758, 0.023094401516565444, 0.025087216836529515, 0.024890275180046932, 0.02617622716116924, 0.027822280255028232, 0.02690964106651064, 0.026898159025762588, 0.026962172930689195, 0.02371116550913712, 0.02448678265201436, 0.02247275983492924, 0.02390391465006935, 0.023717825094977496, 0.025961097287736847, 0.024130082032239777, 0.025558739605299145, 0.02114960990701712, 0.015400504874892007, 0.02405484543793078, 0.02451280119936049, 0.025534131536304024, 0.024776840588517486]}, {\"line\": {\"shape\": \"spline\", \"smoothing\": 1.0}, \"mode\": \"lines+markers\", \"name\": \"456\", \"showlegend\": true, \"type\": \"scatter\", \"x\": [\"2020-01-12T11:00:00\", \"2020-01-12T12:00:00\", \"2020-01-12T13:00:00\", \"2020-01-12T14:00:00\", \"2020-01-12T15:00:00\", \"2020-01-12T16:00:00\", \"2020-01-12T17:00:00\", \"2020-01-12T18:00:00\", \"2020-01-12T19:00:00\", \"2020-01-12T20:00:00\", \"2020-01-12T21:00:00\", \"2020-01-12T22:00:00\", \"2020-01-12T23:00:00\", \"2020-01-13T00:00:00\", \"2020-01-13T01:00:00\", \"2020-01-13T02:00:00\", \"2020-01-13T03:00:00\", \"2020-01-13T04:00:00\", \"2020-01-13T05:00:00\", \"2020-01-13T06:00:00\", \"2020-01-13T07:00:00\", \"2020-01-13T08:00:00\", \"2020-01-13T09:00:00\", \"2020-01-13T10:00:00\", \"2020-01-13T11:00:00\", \"2020-01-13T12:00:00\", \"2020-01-13T13:00:00\", \"2020-01-13T14:00:00\", \"2020-01-13T15:00:00\", \"2020-01-13T16:00:00\", \"2020-01-13T17:00:00\", \"2020-01-13T18:00:00\", \"2020-01-13T19:00:00\", \"2020-01-13T20:00:00\", \"2020-01-13T21:00:00\", \"2020-01-13T22:00:00\", \"2020-01-13T23:00:00\", \"2020-01-14T00:00:00\", \"2020-01-14T01:00:00\", \"2020-01-14T02:00:00\", \"2020-01-14T03:00:00\", \"2020-01-14T04:00:00\", \"2020-01-14T05:00:00\", \"2020-01-14T06:00:00\", \"2020-01-14T07:00:00\", \"2020-01-14T08:00:00\", \"2020-01-14T09:00:00\", \"2020-01-14T10:00:00\", \"2020-01-14T11:00:00\", \"2020-01-14T12:00:00\", \"2020-01-14T13:00:00\"], \"y\": [0.02667925022022628, 0.026270830498107956, 0.02707701923268881, 0.027472831225583663, 0.027202186478135507, 0.027623515804140564, 0.02666425666153234, 0.026999257969531343, 0.02844740188948071, 0.0290119232921862, 0.02906999715403967, 0.030106202414267678, 0.02831074298164467, 0.025603747052046547, 0.025187144466482934, 0.024958910374223795, 0.02549144558083279, 0.027694709899417806, 0.02725395380880472, 0.028360960270124257, 0.028009830856684695, 0.021977315721993018, 0.014626317871110768, 0.023478735687815912, 0.02562728673489091, 0.02676848844816558, 0.02723064976914505, 0.0260380907803044, 0.026295615297848244, 0.02599516447595618, 0.026031633767111467, 0.026729418719169656, 0.02836207888720042, 0.02970803886506658, 0.029443665323157137, 0.0296016062664728, 0.028675807768914253, 0.02527093156870637, 0.024209022578219122, 0.024671411420481144, 0.024907849900789248, 0.025457361174543103, 0.02590796213846423, 0.026395949499032692, 0.02663988566788747, 0.02382547429695377, 0.016756182039348352, 0.024329321171473, 0.026209647221212055, 0.026728305625233307, 0.026731695804360966]}],\n",
       "                        {\"hovermode\": \"x\", \"template\": {\"data\": {\"bar\": [{\"error_x\": {\"color\": \"#2a3f5f\"}, \"error_y\": {\"color\": \"#2a3f5f\"}, \"marker\": {\"line\": {\"color\": \"#E5ECF6\", \"width\": 0.5}}, \"type\": \"bar\"}], \"barpolar\": [{\"marker\": {\"line\": {\"color\": \"#E5ECF6\", \"width\": 0.5}}, \"type\": \"barpolar\"}], \"carpet\": [{\"aaxis\": {\"endlinecolor\": \"#2a3f5f\", \"gridcolor\": \"white\", \"linecolor\": \"white\", \"minorgridcolor\": \"white\", \"startlinecolor\": \"#2a3f5f\"}, \"baxis\": {\"endlinecolor\": \"#2a3f5f\", \"gridcolor\": \"white\", \"linecolor\": \"white\", \"minorgridcolor\": \"white\", \"startlinecolor\": \"#2a3f5f\"}, \"type\": \"carpet\"}], \"choropleth\": [{\"colorbar\": {\"outlinewidth\": 0, \"ticks\": \"\"}, \"type\": \"choropleth\"}], \"contour\": [{\"colorbar\": {\"outlinewidth\": 0, \"ticks\": \"\"}, \"colorscale\": [[0.0, \"#0d0887\"], [0.1111111111111111, \"#46039f\"], [0.2222222222222222, \"#7201a8\"], [0.3333333333333333, \"#9c179e\"], [0.4444444444444444, \"#bd3786\"], [0.5555555555555556, \"#d8576b\"], [0.6666666666666666, \"#ed7953\"], [0.7777777777777778, \"#fb9f3a\"], [0.8888888888888888, \"#fdca26\"], [1.0, \"#f0f921\"]], \"type\": \"contour\"}], \"contourcarpet\": [{\"colorbar\": {\"outlinewidth\": 0, \"ticks\": \"\"}, \"type\": \"contourcarpet\"}], \"heatmap\": [{\"colorbar\": {\"outlinewidth\": 0, \"ticks\": \"\"}, \"colorscale\": [[0.0, \"#0d0887\"], [0.1111111111111111, \"#46039f\"], [0.2222222222222222, \"#7201a8\"], [0.3333333333333333, \"#9c179e\"], [0.4444444444444444, \"#bd3786\"], [0.5555555555555556, \"#d8576b\"], [0.6666666666666666, \"#ed7953\"], [0.7777777777777778, \"#fb9f3a\"], [0.8888888888888888, \"#fdca26\"], [1.0, \"#f0f921\"]], \"type\": \"heatmap\"}], \"heatmapgl\": [{\"colorbar\": {\"outlinewidth\": 0, \"ticks\": \"\"}, \"colorscale\": [[0.0, \"#0d0887\"], [0.1111111111111111, \"#46039f\"], [0.2222222222222222, \"#7201a8\"], [0.3333333333333333, \"#9c179e\"], [0.4444444444444444, \"#bd3786\"], [0.5555555555555556, \"#d8576b\"], [0.6666666666666666, \"#ed7953\"], [0.7777777777777778, \"#fb9f3a\"], [0.8888888888888888, \"#fdca26\"], [1.0, \"#f0f921\"]], \"type\": \"heatmapgl\"}], \"histogram\": [{\"marker\": {\"colorbar\": {\"outlinewidth\": 0, \"ticks\": \"\"}}, \"type\": \"histogram\"}], \"histogram2d\": [{\"colorbar\": {\"outlinewidth\": 0, \"ticks\": \"\"}, \"colorscale\": [[0.0, \"#0d0887\"], [0.1111111111111111, \"#46039f\"], [0.2222222222222222, \"#7201a8\"], [0.3333333333333333, \"#9c179e\"], [0.4444444444444444, \"#bd3786\"], [0.5555555555555556, \"#d8576b\"], [0.6666666666666666, \"#ed7953\"], [0.7777777777777778, \"#fb9f3a\"], [0.8888888888888888, \"#fdca26\"], [1.0, \"#f0f921\"]], \"type\": \"histogram2d\"}], \"histogram2dcontour\": [{\"colorbar\": {\"outlinewidth\": 0, \"ticks\": \"\"}, \"colorscale\": [[0.0, \"#0d0887\"], [0.1111111111111111, \"#46039f\"], [0.2222222222222222, \"#7201a8\"], [0.3333333333333333, \"#9c179e\"], [0.4444444444444444, \"#bd3786\"], [0.5555555555555556, \"#d8576b\"], [0.6666666666666666, \"#ed7953\"], [0.7777777777777778, \"#fb9f3a\"], [0.8888888888888888, \"#fdca26\"], [1.0, \"#f0f921\"]], \"type\": \"histogram2dcontour\"}], \"mesh3d\": [{\"colorbar\": {\"outlinewidth\": 0, \"ticks\": \"\"}, \"type\": \"mesh3d\"}], \"parcoords\": [{\"line\": {\"colorbar\": {\"outlinewidth\": 0, \"ticks\": \"\"}}, \"type\": \"parcoords\"}], \"scatter\": [{\"marker\": {\"colorbar\": {\"outlinewidth\": 0, \"ticks\": \"\"}}, \"type\": \"scatter\"}], \"scatter3d\": [{\"line\": {\"colorbar\": {\"outlinewidth\": 0, \"ticks\": \"\"}}, \"marker\": {\"colorbar\": {\"outlinewidth\": 0, \"ticks\": \"\"}}, \"type\": \"scatter3d\"}], \"scattercarpet\": [{\"marker\": {\"colorbar\": {\"outlinewidth\": 0, \"ticks\": \"\"}}, \"type\": \"scattercarpet\"}], \"scattergeo\": [{\"marker\": {\"colorbar\": {\"outlinewidth\": 0, \"ticks\": \"\"}}, \"type\": \"scattergeo\"}], \"scattergl\": [{\"marker\": {\"colorbar\": {\"outlinewidth\": 0, \"ticks\": \"\"}}, \"type\": \"scattergl\"}], \"scattermapbox\": [{\"marker\": {\"colorbar\": {\"outlinewidth\": 0, \"ticks\": \"\"}}, \"type\": \"scattermapbox\"}], \"scatterpolar\": [{\"marker\": {\"colorbar\": {\"outlinewidth\": 0, \"ticks\": \"\"}}, \"type\": \"scatterpolar\"}], \"scatterpolargl\": [{\"marker\": {\"colorbar\": {\"outlinewidth\": 0, \"ticks\": \"\"}}, \"type\": \"scatterpolargl\"}], \"scatterternary\": [{\"marker\": {\"colorbar\": {\"outlinewidth\": 0, \"ticks\": \"\"}}, \"type\": \"scatterternary\"}], \"surface\": [{\"colorbar\": {\"outlinewidth\": 0, \"ticks\": \"\"}, \"colorscale\": [[0.0, \"#0d0887\"], [0.1111111111111111, \"#46039f\"], [0.2222222222222222, \"#7201a8\"], [0.3333333333333333, \"#9c179e\"], [0.4444444444444444, \"#bd3786\"], [0.5555555555555556, \"#d8576b\"], [0.6666666666666666, \"#ed7953\"], [0.7777777777777778, \"#fb9f3a\"], [0.8888888888888888, \"#fdca26\"], [1.0, \"#f0f921\"]], \"type\": \"surface\"}], \"table\": [{\"cells\": {\"fill\": {\"color\": \"#EBF0F8\"}, \"line\": {\"color\": \"white\"}}, \"header\": {\"fill\": {\"color\": \"#C8D4E3\"}, \"line\": {\"color\": \"white\"}}, \"type\": \"table\"}]}, \"layout\": {\"annotationdefaults\": {\"arrowcolor\": \"#2a3f5f\", \"arrowhead\": 0, \"arrowwidth\": 1}, \"colorscale\": {\"diverging\": [[0, \"#8e0152\"], [0.1, \"#c51b7d\"], [0.2, \"#de77ae\"], [0.3, \"#f1b6da\"], [0.4, \"#fde0ef\"], [0.5, \"#f7f7f7\"], [0.6, \"#e6f5d0\"], [0.7, \"#b8e186\"], [0.8, \"#7fbc41\"], [0.9, \"#4d9221\"], [1, \"#276419\"]], \"sequential\": [[0.0, \"#0d0887\"], [0.1111111111111111, \"#46039f\"], [0.2222222222222222, \"#7201a8\"], [0.3333333333333333, \"#9c179e\"], [0.4444444444444444, \"#bd3786\"], [0.5555555555555556, \"#d8576b\"], [0.6666666666666666, \"#ed7953\"], [0.7777777777777778, \"#fb9f3a\"], [0.8888888888888888, \"#fdca26\"], [1.0, \"#f0f921\"]], \"sequentialminus\": [[0.0, \"#0d0887\"], [0.1111111111111111, \"#46039f\"], [0.2222222222222222, \"#7201a8\"], [0.3333333333333333, \"#9c179e\"], [0.4444444444444444, \"#bd3786\"], [0.5555555555555556, \"#d8576b\"], [0.6666666666666666, \"#ed7953\"], [0.7777777777777778, \"#fb9f3a\"], [0.8888888888888888, \"#fdca26\"], [1.0, \"#f0f921\"]]}, \"colorway\": [\"#636efa\", \"#EF553B\", \"#00cc96\", \"#ab63fa\", \"#FFA15A\", \"#19d3f3\", \"#FF6692\", \"#B6E880\", \"#FF97FF\", \"#FECB52\"], \"font\": {\"color\": \"#2a3f5f\"}, \"geo\": {\"bgcolor\": \"white\", \"lakecolor\": \"white\", \"landcolor\": \"#E5ECF6\", \"showlakes\": true, \"showland\": true, \"subunitcolor\": \"white\"}, \"hoverlabel\": {\"align\": \"left\"}, \"hovermode\": \"closest\", \"mapbox\": {\"style\": \"light\"}, \"paper_bgcolor\": \"white\", \"plot_bgcolor\": \"#E5ECF6\", \"polar\": {\"angularaxis\": {\"gridcolor\": \"white\", \"linecolor\": \"white\", \"ticks\": \"\"}, \"bgcolor\": \"#E5ECF6\", \"radialaxis\": {\"gridcolor\": \"white\", \"linecolor\": \"white\", \"ticks\": \"\"}}, \"scene\": {\"xaxis\": {\"backgroundcolor\": \"#E5ECF6\", \"gridcolor\": \"white\", \"gridwidth\": 2, \"linecolor\": \"white\", \"showbackground\": true, \"ticks\": \"\", \"zerolinecolor\": \"white\"}, \"yaxis\": {\"backgroundcolor\": \"#E5ECF6\", \"gridcolor\": \"white\", \"gridwidth\": 2, \"linecolor\": \"white\", \"showbackground\": true, \"ticks\": \"\", \"zerolinecolor\": \"white\"}, \"zaxis\": {\"backgroundcolor\": \"#E5ECF6\", \"gridcolor\": \"white\", \"gridwidth\": 2, \"linecolor\": \"white\", \"showbackground\": true, \"ticks\": \"\", \"zerolinecolor\": \"white\"}}, \"shapedefaults\": {\"line\": {\"color\": \"#2a3f5f\"}}, \"ternary\": {\"aaxis\": {\"gridcolor\": \"white\", \"linecolor\": \"white\", \"ticks\": \"\"}, \"baxis\": {\"gridcolor\": \"white\", \"linecolor\": \"white\", \"ticks\": \"\"}, \"bgcolor\": \"#E5ECF6\", \"caxis\": {\"gridcolor\": \"white\", \"linecolor\": \"white\", \"ticks\": \"\"}}, \"title\": {\"x\": 0.05}, \"xaxis\": {\"automargin\": true, \"gridcolor\": \"white\", \"linecolor\": \"white\", \"ticks\": \"\", \"zerolinecolor\": \"white\", \"zerolinewidth\": 2}, \"yaxis\": {\"automargin\": true, \"gridcolor\": \"white\", \"linecolor\": \"white\", \"ticks\": \"\", \"zerolinecolor\": \"white\", \"zerolinewidth\": 2}}}, \"title\": {\"text\": \"newmse:video:total_total:(ctr)\"}, \"xaxis\": {\"type\": \"date\"}, \"yaxis\": {\"title\": {\"text\": \"ctr\"}}},\n",
       "                        {\"responsive\": true}\n",
       "                    ).then(function(){\n",
       "                            \n",
       "var gd = document.getElementById('0081cc91-a6b3-4dfd-9123-bfc1efe2fcb7');\n",
       "var x = new MutationObserver(function (mutations, observer) {{\n",
       "        var display = window.getComputedStyle(gd).display;\n",
       "        if (!display || display === 'none') {{\n",
       "            console.log([gd, 'removed!']);\n",
       "            Plotly.purge(gd);\n",
       "            observer.disconnect();\n",
       "        }}\n",
       "}});\n",
       "\n",
       "// Listen for the removal of the full notebook cells\n",
       "var notebookContainer = gd.closest('#notebook-container');\n",
       "if (notebookContainer) {{\n",
       "    x.observe(notebookContainer, {childList: true});\n",
       "}}\n",
       "\n",
       "// Listen for the clearing of the current output cell\n",
       "var outputEl = gd.closest('.output');\n",
       "if (outputEl) {{\n",
       "    x.observe(outputEl, {childList: true});\n",
       "}}\n",
       "\n",
       "                        })\n",
       "                };\n",
       "                });\n",
       "            </script>\n",
       "        </div>"
      ]
     },
     "metadata": {},
     "output_type": "display_data"
    },
    {
     "data": {
      "application/vnd.plotly.v1+json": {
       "config": {
        "linkText": "Export to plot.ly",
        "plotlyServerURL": "https://plot.ly",
        "showLink": false
       },
       "data": [
        {
         "hovertext": [
          "-0.1091",
          "-0.0903",
          "-0.0518",
          "-0.0294",
          "-0.0321",
          "-0.1044",
          "-0.0419",
          "-0.0846",
          "-0.0975",
          "-0.0908",
          "-0.0740",
          "-0.0492",
          "0.0159",
          "-0.0729",
          "-0.0438",
          "0.0376",
          "-0.0803",
          "-0.1417",
          "0.0564",
          "-0.0927",
          "-0.0552",
          "-0.0870",
          "-0.0217",
          "-0.0954",
          "-0.0779",
          "-0.0780",
          "-0.0974",
          "-0.1040",
          "-0.1315",
          "-0.1350",
          "-0.0382",
          "-0.1241",
          "-0.0952",
          "-0.1014",
          "-0.0606",
          "-0.0712",
          "-0.0166",
          "-0.0474",
          "-0.0383",
          "-0.1721",
          "-0.0520",
          "-0.0850",
          "0.0296",
          "-0.0851",
          "-0.0364",
          "-0.1215",
          "-0.0322",
          "-0.0268",
          "-0.1429",
          "-0.0831",
          "-0.0626"
         ],
         "line": {
          "shape": "spline",
          "smoothing": 1
         },
         "mode": "lines+markers",
         "name": "7",
         "showlegend": true,
         "type": "scatter",
         "x": [
          "2020-01-12T11:00:00",
          "2020-01-12T12:00:00",
          "2020-01-12T13:00:00",
          "2020-01-12T14:00:00",
          "2020-01-12T15:00:00",
          "2020-01-12T16:00:00",
          "2020-01-12T17:00:00",
          "2020-01-12T18:00:00",
          "2020-01-12T19:00:00",
          "2020-01-12T20:00:00",
          "2020-01-12T21:00:00",
          "2020-01-12T22:00:00",
          "2020-01-12T23:00:00",
          "2020-01-13T00:00:00",
          "2020-01-13T01:00:00",
          "2020-01-13T02:00:00",
          "2020-01-13T03:00:00",
          "2020-01-13T04:00:00",
          "2020-01-13T05:00:00",
          "2020-01-13T06:00:00",
          "2020-01-13T07:00:00",
          "2020-01-13T08:00:00",
          "2020-01-13T09:00:00",
          "2020-01-13T10:00:00",
          "2020-01-13T11:00:00",
          "2020-01-13T12:00:00",
          "2020-01-13T13:00:00",
          "2020-01-13T14:00:00",
          "2020-01-13T15:00:00",
          "2020-01-13T16:00:00",
          "2020-01-13T17:00:00",
          "2020-01-13T18:00:00",
          "2020-01-13T19:00:00",
          "2020-01-13T20:00:00",
          "2020-01-13T21:00:00",
          "2020-01-13T22:00:00",
          "2020-01-13T23:00:00",
          "2020-01-14T00:00:00",
          "2020-01-14T01:00:00",
          "2020-01-14T02:00:00",
          "2020-01-14T03:00:00",
          "2020-01-14T04:00:00",
          "2020-01-14T05:00:00",
          "2020-01-14T06:00:00",
          "2020-01-14T07:00:00",
          "2020-01-14T08:00:00",
          "2020-01-14T09:00:00",
          "2020-01-14T10:00:00",
          "2020-01-14T11:00:00",
          "2020-01-14T12:00:00",
          "2020-01-14T13:00:00"
         ],
         "y": [
          0.1154446014606963,
          0.11668968267818478,
          0.1288270462570675,
          0.13065369816457478,
          0.12742565541957612,
          0.1177332341952087,
          0.1252362548479378,
          0.1187623366942852,
          0.11888125581805589,
          0.12196208490598884,
          0.11767989079775526,
          0.1186668364156683,
          0.11836048829887896,
          0.10868773499470197,
          0.11169015242581953,
          0.12070271773163478,
          0.11030848267828074,
          0.10898951102595693,
          0.12864753177250493,
          0.11540770605288828,
          0.11836687614505273,
          0.11407215723464782,
          0.16416430555539774,
          0.13332911629701705,
          0.12339892783603675,
          0.12497594222428804,
          0.12082406595464837,
          0.11936852864226516,
          0.1161682542567355,
          0.11548431946032676,
          0.12557823292603032,
          0.1164642082281336,
          0.12224408536507525,
          0.11862369339905487,
          0.12199118194484042,
          0.11619490600163314,
          0.11849857740440506,
          0.11168561342525937,
          0.11064655436931572,
          0.10059103650169567,
          0.1111696717542315,
          0.11047020916607475,
          0.12424939595467625,
          0.10937391340737236,
          0.11834463211842879,
          0.11820153049901652,
          0.15849252301154745,
          0.13848640472916515,
          0.11466150863518917,
          0.1224641521101411,
          0.12368207973626918
         ]
        },
        {
         "line": {
          "shape": "spline",
          "smoothing": 1
         },
         "mode": "lines+markers",
         "name": "456",
         "showlegend": true,
         "type": "scatter",
         "x": [
          "2020-01-12T11:00:00",
          "2020-01-12T12:00:00",
          "2020-01-12T13:00:00",
          "2020-01-12T14:00:00",
          "2020-01-12T15:00:00",
          "2020-01-12T16:00:00",
          "2020-01-12T17:00:00",
          "2020-01-12T18:00:00",
          "2020-01-12T19:00:00",
          "2020-01-12T20:00:00",
          "2020-01-12T21:00:00",
          "2020-01-12T22:00:00",
          "2020-01-12T23:00:00",
          "2020-01-13T00:00:00",
          "2020-01-13T01:00:00",
          "2020-01-13T02:00:00",
          "2020-01-13T03:00:00",
          "2020-01-13T04:00:00",
          "2020-01-13T05:00:00",
          "2020-01-13T06:00:00",
          "2020-01-13T07:00:00",
          "2020-01-13T08:00:00",
          "2020-01-13T09:00:00",
          "2020-01-13T10:00:00",
          "2020-01-13T11:00:00",
          "2020-01-13T12:00:00",
          "2020-01-13T13:00:00",
          "2020-01-13T14:00:00",
          "2020-01-13T15:00:00",
          "2020-01-13T16:00:00",
          "2020-01-13T17:00:00",
          "2020-01-13T18:00:00",
          "2020-01-13T19:00:00",
          "2020-01-13T20:00:00",
          "2020-01-13T21:00:00",
          "2020-01-13T22:00:00",
          "2020-01-13T23:00:00",
          "2020-01-14T00:00:00",
          "2020-01-14T01:00:00",
          "2020-01-14T02:00:00",
          "2020-01-14T03:00:00",
          "2020-01-14T04:00:00",
          "2020-01-14T05:00:00",
          "2020-01-14T06:00:00",
          "2020-01-14T07:00:00",
          "2020-01-14T08:00:00",
          "2020-01-14T09:00:00",
          "2020-01-14T10:00:00",
          "2020-01-14T11:00:00",
          "2020-01-14T12:00:00",
          "2020-01-14T13:00:00"
         ],
         "y": [
          0.12958425473419563,
          0.12827400288255864,
          0.13586752792240298,
          0.13460832227798933,
          0.13164839925235483,
          0.13146377766386275,
          0.13070937688577597,
          0.12974453053468685,
          0.13172305166526213,
          0.13414381255236255,
          0.12708645599431712,
          0.12480349831110964,
          0.1165103918414918,
          0.11723219863248317,
          0.11680363687651667,
          0.11632696872377486,
          0.11993490007087922,
          0.1269802081178624,
          0.1217773555393084,
          0.12720077471312471,
          0.12528315415992408,
          0.12494055459804243,
          0.16781123213943983,
          0.147385385458546,
          0.13382307152818007,
          0.13555155155278178,
          0.1338630491217013,
          0.1332183708549514,
          0.13375387032479916,
          0.13351417010963187,
          0.1305636688604353,
          0.13295980478889538,
          0.13509951112226815,
          0.13200383183621622,
          0.12986433248916554,
          0.1251058777016367,
          0.12049387422168507,
          0.11724748597358407,
          0.11504968363681604,
          0.12150754566102989,
          0.11726900558634445,
          0.12073829091903228,
          0.12067296790486515,
          0.11955304480752633,
          0.12281510868057642,
          0.13454793705675974,
          0.16377102334041593,
          0.14229535073515187,
          0.13378450556546137,
          0.13355921529514223,
          0.13193651548334917
         ]
        }
       ],
       "layout": {
        "hovermode": "x",
        "template": {
         "data": {
          "bar": [
           {
            "error_x": {
             "color": "#2a3f5f"
            },
            "error_y": {
             "color": "#2a3f5f"
            },
            "marker": {
             "line": {
              "color": "#E5ECF6",
              "width": 0.5
             }
            },
            "type": "bar"
           }
          ],
          "barpolar": [
           {
            "marker": {
             "line": {
              "color": "#E5ECF6",
              "width": 0.5
             }
            },
            "type": "barpolar"
           }
          ],
          "carpet": [
           {
            "aaxis": {
             "endlinecolor": "#2a3f5f",
             "gridcolor": "white",
             "linecolor": "white",
             "minorgridcolor": "white",
             "startlinecolor": "#2a3f5f"
            },
            "baxis": {
             "endlinecolor": "#2a3f5f",
             "gridcolor": "white",
             "linecolor": "white",
             "minorgridcolor": "white",
             "startlinecolor": "#2a3f5f"
            },
            "type": "carpet"
           }
          ],
          "choropleth": [
           {
            "colorbar": {
             "outlinewidth": 0,
             "ticks": ""
            },
            "type": "choropleth"
           }
          ],
          "contour": [
           {
            "colorbar": {
             "outlinewidth": 0,
             "ticks": ""
            },
            "colorscale": [
             [
              0,
              "#0d0887"
             ],
             [
              0.1111111111111111,
              "#46039f"
             ],
             [
              0.2222222222222222,
              "#7201a8"
             ],
             [
              0.3333333333333333,
              "#9c179e"
             ],
             [
              0.4444444444444444,
              "#bd3786"
             ],
             [
              0.5555555555555556,
              "#d8576b"
             ],
             [
              0.6666666666666666,
              "#ed7953"
             ],
             [
              0.7777777777777778,
              "#fb9f3a"
             ],
             [
              0.8888888888888888,
              "#fdca26"
             ],
             [
              1,
              "#f0f921"
             ]
            ],
            "type": "contour"
           }
          ],
          "contourcarpet": [
           {
            "colorbar": {
             "outlinewidth": 0,
             "ticks": ""
            },
            "type": "contourcarpet"
           }
          ],
          "heatmap": [
           {
            "colorbar": {
             "outlinewidth": 0,
             "ticks": ""
            },
            "colorscale": [
             [
              0,
              "#0d0887"
             ],
             [
              0.1111111111111111,
              "#46039f"
             ],
             [
              0.2222222222222222,
              "#7201a8"
             ],
             [
              0.3333333333333333,
              "#9c179e"
             ],
             [
              0.4444444444444444,
              "#bd3786"
             ],
             [
              0.5555555555555556,
              "#d8576b"
             ],
             [
              0.6666666666666666,
              "#ed7953"
             ],
             [
              0.7777777777777778,
              "#fb9f3a"
             ],
             [
              0.8888888888888888,
              "#fdca26"
             ],
             [
              1,
              "#f0f921"
             ]
            ],
            "type": "heatmap"
           }
          ],
          "heatmapgl": [
           {
            "colorbar": {
             "outlinewidth": 0,
             "ticks": ""
            },
            "colorscale": [
             [
              0,
              "#0d0887"
             ],
             [
              0.1111111111111111,
              "#46039f"
             ],
             [
              0.2222222222222222,
              "#7201a8"
             ],
             [
              0.3333333333333333,
              "#9c179e"
             ],
             [
              0.4444444444444444,
              "#bd3786"
             ],
             [
              0.5555555555555556,
              "#d8576b"
             ],
             [
              0.6666666666666666,
              "#ed7953"
             ],
             [
              0.7777777777777778,
              "#fb9f3a"
             ],
             [
              0.8888888888888888,
              "#fdca26"
             ],
             [
              1,
              "#f0f921"
             ]
            ],
            "type": "heatmapgl"
           }
          ],
          "histogram": [
           {
            "marker": {
             "colorbar": {
              "outlinewidth": 0,
              "ticks": ""
             }
            },
            "type": "histogram"
           }
          ],
          "histogram2d": [
           {
            "colorbar": {
             "outlinewidth": 0,
             "ticks": ""
            },
            "colorscale": [
             [
              0,
              "#0d0887"
             ],
             [
              0.1111111111111111,
              "#46039f"
             ],
             [
              0.2222222222222222,
              "#7201a8"
             ],
             [
              0.3333333333333333,
              "#9c179e"
             ],
             [
              0.4444444444444444,
              "#bd3786"
             ],
             [
              0.5555555555555556,
              "#d8576b"
             ],
             [
              0.6666666666666666,
              "#ed7953"
             ],
             [
              0.7777777777777778,
              "#fb9f3a"
             ],
             [
              0.8888888888888888,
              "#fdca26"
             ],
             [
              1,
              "#f0f921"
             ]
            ],
            "type": "histogram2d"
           }
          ],
          "histogram2dcontour": [
           {
            "colorbar": {
             "outlinewidth": 0,
             "ticks": ""
            },
            "colorscale": [
             [
              0,
              "#0d0887"
             ],
             [
              0.1111111111111111,
              "#46039f"
             ],
             [
              0.2222222222222222,
              "#7201a8"
             ],
             [
              0.3333333333333333,
              "#9c179e"
             ],
             [
              0.4444444444444444,
              "#bd3786"
             ],
             [
              0.5555555555555556,
              "#d8576b"
             ],
             [
              0.6666666666666666,
              "#ed7953"
             ],
             [
              0.7777777777777778,
              "#fb9f3a"
             ],
             [
              0.8888888888888888,
              "#fdca26"
             ],
             [
              1,
              "#f0f921"
             ]
            ],
            "type": "histogram2dcontour"
           }
          ],
          "mesh3d": [
           {
            "colorbar": {
             "outlinewidth": 0,
             "ticks": ""
            },
            "type": "mesh3d"
           }
          ],
          "parcoords": [
           {
            "line": {
             "colorbar": {
              "outlinewidth": 0,
              "ticks": ""
             }
            },
            "type": "parcoords"
           }
          ],
          "scatter": [
           {
            "marker": {
             "colorbar": {
              "outlinewidth": 0,
              "ticks": ""
             }
            },
            "type": "scatter"
           }
          ],
          "scatter3d": [
           {
            "line": {
             "colorbar": {
              "outlinewidth": 0,
              "ticks": ""
             }
            },
            "marker": {
             "colorbar": {
              "outlinewidth": 0,
              "ticks": ""
             }
            },
            "type": "scatter3d"
           }
          ],
          "scattercarpet": [
           {
            "marker": {
             "colorbar": {
              "outlinewidth": 0,
              "ticks": ""
             }
            },
            "type": "scattercarpet"
           }
          ],
          "scattergeo": [
           {
            "marker": {
             "colorbar": {
              "outlinewidth": 0,
              "ticks": ""
             }
            },
            "type": "scattergeo"
           }
          ],
          "scattergl": [
           {
            "marker": {
             "colorbar": {
              "outlinewidth": 0,
              "ticks": ""
             }
            },
            "type": "scattergl"
           }
          ],
          "scattermapbox": [
           {
            "marker": {
             "colorbar": {
              "outlinewidth": 0,
              "ticks": ""
             }
            },
            "type": "scattermapbox"
           }
          ],
          "scatterpolar": [
           {
            "marker": {
             "colorbar": {
              "outlinewidth": 0,
              "ticks": ""
             }
            },
            "type": "scatterpolar"
           }
          ],
          "scatterpolargl": [
           {
            "marker": {
             "colorbar": {
              "outlinewidth": 0,
              "ticks": ""
             }
            },
            "type": "scatterpolargl"
           }
          ],
          "scatterternary": [
           {
            "marker": {
             "colorbar": {
              "outlinewidth": 0,
              "ticks": ""
             }
            },
            "type": "scatterternary"
           }
          ],
          "surface": [
           {
            "colorbar": {
             "outlinewidth": 0,
             "ticks": ""
            },
            "colorscale": [
             [
              0,
              "#0d0887"
             ],
             [
              0.1111111111111111,
              "#46039f"
             ],
             [
              0.2222222222222222,
              "#7201a8"
             ],
             [
              0.3333333333333333,
              "#9c179e"
             ],
             [
              0.4444444444444444,
              "#bd3786"
             ],
             [
              0.5555555555555556,
              "#d8576b"
             ],
             [
              0.6666666666666666,
              "#ed7953"
             ],
             [
              0.7777777777777778,
              "#fb9f3a"
             ],
             [
              0.8888888888888888,
              "#fdca26"
             ],
             [
              1,
              "#f0f921"
             ]
            ],
            "type": "surface"
           }
          ],
          "table": [
           {
            "cells": {
             "fill": {
              "color": "#EBF0F8"
             },
             "line": {
              "color": "white"
             }
            },
            "header": {
             "fill": {
              "color": "#C8D4E3"
             },
             "line": {
              "color": "white"
             }
            },
            "type": "table"
           }
          ]
         },
         "layout": {
          "annotationdefaults": {
           "arrowcolor": "#2a3f5f",
           "arrowhead": 0,
           "arrowwidth": 1
          },
          "colorscale": {
           "diverging": [
            [
             0,
             "#8e0152"
            ],
            [
             0.1,
             "#c51b7d"
            ],
            [
             0.2,
             "#de77ae"
            ],
            [
             0.3,
             "#f1b6da"
            ],
            [
             0.4,
             "#fde0ef"
            ],
            [
             0.5,
             "#f7f7f7"
            ],
            [
             0.6,
             "#e6f5d0"
            ],
            [
             0.7,
             "#b8e186"
            ],
            [
             0.8,
             "#7fbc41"
            ],
            [
             0.9,
             "#4d9221"
            ],
            [
             1,
             "#276419"
            ]
           ],
           "sequential": [
            [
             0,
             "#0d0887"
            ],
            [
             0.1111111111111111,
             "#46039f"
            ],
            [
             0.2222222222222222,
             "#7201a8"
            ],
            [
             0.3333333333333333,
             "#9c179e"
            ],
            [
             0.4444444444444444,
             "#bd3786"
            ],
            [
             0.5555555555555556,
             "#d8576b"
            ],
            [
             0.6666666666666666,
             "#ed7953"
            ],
            [
             0.7777777777777778,
             "#fb9f3a"
            ],
            [
             0.8888888888888888,
             "#fdca26"
            ],
            [
             1,
             "#f0f921"
            ]
           ],
           "sequentialminus": [
            [
             0,
             "#0d0887"
            ],
            [
             0.1111111111111111,
             "#46039f"
            ],
            [
             0.2222222222222222,
             "#7201a8"
            ],
            [
             0.3333333333333333,
             "#9c179e"
            ],
            [
             0.4444444444444444,
             "#bd3786"
            ],
            [
             0.5555555555555556,
             "#d8576b"
            ],
            [
             0.6666666666666666,
             "#ed7953"
            ],
            [
             0.7777777777777778,
             "#fb9f3a"
            ],
            [
             0.8888888888888888,
             "#fdca26"
            ],
            [
             1,
             "#f0f921"
            ]
           ]
          },
          "colorway": [
           "#636efa",
           "#EF553B",
           "#00cc96",
           "#ab63fa",
           "#FFA15A",
           "#19d3f3",
           "#FF6692",
           "#B6E880",
           "#FF97FF",
           "#FECB52"
          ],
          "font": {
           "color": "#2a3f5f"
          },
          "geo": {
           "bgcolor": "white",
           "lakecolor": "white",
           "landcolor": "#E5ECF6",
           "showlakes": true,
           "showland": true,
           "subunitcolor": "white"
          },
          "hoverlabel": {
           "align": "left"
          },
          "hovermode": "closest",
          "mapbox": {
           "style": "light"
          },
          "paper_bgcolor": "white",
          "plot_bgcolor": "#E5ECF6",
          "polar": {
           "angularaxis": {
            "gridcolor": "white",
            "linecolor": "white",
            "ticks": ""
           },
           "bgcolor": "#E5ECF6",
           "radialaxis": {
            "gridcolor": "white",
            "linecolor": "white",
            "ticks": ""
           }
          },
          "scene": {
           "xaxis": {
            "backgroundcolor": "#E5ECF6",
            "gridcolor": "white",
            "gridwidth": 2,
            "linecolor": "white",
            "showbackground": true,
            "ticks": "",
            "zerolinecolor": "white"
           },
           "yaxis": {
            "backgroundcolor": "#E5ECF6",
            "gridcolor": "white",
            "gridwidth": 2,
            "linecolor": "white",
            "showbackground": true,
            "ticks": "",
            "zerolinecolor": "white"
           },
           "zaxis": {
            "backgroundcolor": "#E5ECF6",
            "gridcolor": "white",
            "gridwidth": 2,
            "linecolor": "white",
            "showbackground": true,
            "ticks": "",
            "zerolinecolor": "white"
           }
          },
          "shapedefaults": {
           "line": {
            "color": "#2a3f5f"
           }
          },
          "ternary": {
           "aaxis": {
            "gridcolor": "white",
            "linecolor": "white",
            "ticks": ""
           },
           "baxis": {
            "gridcolor": "white",
            "linecolor": "white",
            "ticks": ""
           },
           "bgcolor": "#E5ECF6",
           "caxis": {
            "gridcolor": "white",
            "linecolor": "white",
            "ticks": ""
           }
          },
          "title": {
           "x": 0.05
          },
          "xaxis": {
           "automargin": true,
           "gridcolor": "white",
           "linecolor": "white",
           "ticks": "",
           "zerolinecolor": "white",
           "zerolinewidth": 2
          },
          "yaxis": {
           "automargin": true,
           "gridcolor": "white",
           "linecolor": "white",
           "ticks": "",
           "zerolinecolor": "white",
           "zerolinewidth": 2
          }
         }
        },
        "title": {
         "text": "newmse:video:total_total:(real_ctr)"
        },
        "xaxis": {
         "type": "date"
        },
        "yaxis": {
         "title": {
          "text": "real_ctr"
         }
        }
       }
      },
      "text/html": [
       "<div>\n",
       "        \n",
       "        \n",
       "            <div id=\"13ca8f17-f34b-4a19-ad1e-f4a97ebc0744\" class=\"plotly-graph-div\" style=\"height:525px; width:100%;\"></div>\n",
       "            <script type=\"text/javascript\">\n",
       "                require([\"plotly\"], function(Plotly) {\n",
       "                    window.PLOTLYENV=window.PLOTLYENV || {};\n",
       "                    \n",
       "                if (document.getElementById(\"13ca8f17-f34b-4a19-ad1e-f4a97ebc0744\")) {\n",
       "                    Plotly.newPlot(\n",
       "                        '13ca8f17-f34b-4a19-ad1e-f4a97ebc0744',\n",
       "                        [{\"hovertext\": [\"-0.1091\", \"-0.0903\", \"-0.0518\", \"-0.0294\", \"-0.0321\", \"-0.1044\", \"-0.0419\", \"-0.0846\", \"-0.0975\", \"-0.0908\", \"-0.0740\", \"-0.0492\", \"0.0159\", \"-0.0729\", \"-0.0438\", \"0.0376\", \"-0.0803\", \"-0.1417\", \"0.0564\", \"-0.0927\", \"-0.0552\", \"-0.0870\", \"-0.0217\", \"-0.0954\", \"-0.0779\", \"-0.0780\", \"-0.0974\", \"-0.1040\", \"-0.1315\", \"-0.1350\", \"-0.0382\", \"-0.1241\", \"-0.0952\", \"-0.1014\", \"-0.0606\", \"-0.0712\", \"-0.0166\", \"-0.0474\", \"-0.0383\", \"-0.1721\", \"-0.0520\", \"-0.0850\", \"0.0296\", \"-0.0851\", \"-0.0364\", \"-0.1215\", \"-0.0322\", \"-0.0268\", \"-0.1429\", \"-0.0831\", \"-0.0626\"], \"line\": {\"shape\": \"spline\", \"smoothing\": 1.0}, \"mode\": \"lines+markers\", \"name\": \"7\", \"showlegend\": true, \"type\": \"scatter\", \"x\": [\"2020-01-12T11:00:00\", \"2020-01-12T12:00:00\", \"2020-01-12T13:00:00\", \"2020-01-12T14:00:00\", \"2020-01-12T15:00:00\", \"2020-01-12T16:00:00\", \"2020-01-12T17:00:00\", \"2020-01-12T18:00:00\", \"2020-01-12T19:00:00\", \"2020-01-12T20:00:00\", \"2020-01-12T21:00:00\", \"2020-01-12T22:00:00\", \"2020-01-12T23:00:00\", \"2020-01-13T00:00:00\", \"2020-01-13T01:00:00\", \"2020-01-13T02:00:00\", \"2020-01-13T03:00:00\", \"2020-01-13T04:00:00\", \"2020-01-13T05:00:00\", \"2020-01-13T06:00:00\", \"2020-01-13T07:00:00\", \"2020-01-13T08:00:00\", \"2020-01-13T09:00:00\", \"2020-01-13T10:00:00\", \"2020-01-13T11:00:00\", \"2020-01-13T12:00:00\", \"2020-01-13T13:00:00\", \"2020-01-13T14:00:00\", \"2020-01-13T15:00:00\", \"2020-01-13T16:00:00\", \"2020-01-13T17:00:00\", \"2020-01-13T18:00:00\", \"2020-01-13T19:00:00\", \"2020-01-13T20:00:00\", \"2020-01-13T21:00:00\", \"2020-01-13T22:00:00\", \"2020-01-13T23:00:00\", \"2020-01-14T00:00:00\", \"2020-01-14T01:00:00\", \"2020-01-14T02:00:00\", \"2020-01-14T03:00:00\", \"2020-01-14T04:00:00\", \"2020-01-14T05:00:00\", \"2020-01-14T06:00:00\", \"2020-01-14T07:00:00\", \"2020-01-14T08:00:00\", \"2020-01-14T09:00:00\", \"2020-01-14T10:00:00\", \"2020-01-14T11:00:00\", \"2020-01-14T12:00:00\", \"2020-01-14T13:00:00\"], \"y\": [0.1154446014606963, 0.11668968267818478, 0.1288270462570675, 0.13065369816457478, 0.12742565541957612, 0.1177332341952087, 0.1252362548479378, 0.1187623366942852, 0.11888125581805589, 0.12196208490598884, 0.11767989079775526, 0.1186668364156683, 0.11836048829887896, 0.10868773499470197, 0.11169015242581953, 0.12070271773163478, 0.11030848267828074, 0.10898951102595693, 0.12864753177250493, 0.11540770605288828, 0.11836687614505273, 0.11407215723464782, 0.16416430555539774, 0.13332911629701705, 0.12339892783603675, 0.12497594222428804, 0.12082406595464837, 0.11936852864226516, 0.1161682542567355, 0.11548431946032676, 0.12557823292603032, 0.1164642082281336, 0.12224408536507525, 0.11862369339905487, 0.12199118194484042, 0.11619490600163314, 0.11849857740440506, 0.11168561342525937, 0.11064655436931572, 0.10059103650169567, 0.1111696717542315, 0.11047020916607475, 0.12424939595467625, 0.10937391340737236, 0.11834463211842879, 0.11820153049901652, 0.15849252301154745, 0.13848640472916515, 0.11466150863518917, 0.1224641521101411, 0.12368207973626918]}, {\"line\": {\"shape\": \"spline\", \"smoothing\": 1.0}, \"mode\": \"lines+markers\", \"name\": \"456\", \"showlegend\": true, \"type\": \"scatter\", \"x\": [\"2020-01-12T11:00:00\", \"2020-01-12T12:00:00\", \"2020-01-12T13:00:00\", \"2020-01-12T14:00:00\", \"2020-01-12T15:00:00\", \"2020-01-12T16:00:00\", \"2020-01-12T17:00:00\", \"2020-01-12T18:00:00\", \"2020-01-12T19:00:00\", \"2020-01-12T20:00:00\", \"2020-01-12T21:00:00\", \"2020-01-12T22:00:00\", \"2020-01-12T23:00:00\", \"2020-01-13T00:00:00\", \"2020-01-13T01:00:00\", \"2020-01-13T02:00:00\", \"2020-01-13T03:00:00\", \"2020-01-13T04:00:00\", \"2020-01-13T05:00:00\", \"2020-01-13T06:00:00\", \"2020-01-13T07:00:00\", \"2020-01-13T08:00:00\", \"2020-01-13T09:00:00\", \"2020-01-13T10:00:00\", \"2020-01-13T11:00:00\", \"2020-01-13T12:00:00\", \"2020-01-13T13:00:00\", \"2020-01-13T14:00:00\", \"2020-01-13T15:00:00\", \"2020-01-13T16:00:00\", \"2020-01-13T17:00:00\", \"2020-01-13T18:00:00\", \"2020-01-13T19:00:00\", \"2020-01-13T20:00:00\", \"2020-01-13T21:00:00\", \"2020-01-13T22:00:00\", \"2020-01-13T23:00:00\", \"2020-01-14T00:00:00\", \"2020-01-14T01:00:00\", \"2020-01-14T02:00:00\", \"2020-01-14T03:00:00\", \"2020-01-14T04:00:00\", \"2020-01-14T05:00:00\", \"2020-01-14T06:00:00\", \"2020-01-14T07:00:00\", \"2020-01-14T08:00:00\", \"2020-01-14T09:00:00\", \"2020-01-14T10:00:00\", \"2020-01-14T11:00:00\", \"2020-01-14T12:00:00\", \"2020-01-14T13:00:00\"], \"y\": [0.12958425473419563, 0.12827400288255864, 0.13586752792240298, 0.13460832227798933, 0.13164839925235483, 0.13146377766386275, 0.13070937688577597, 0.12974453053468685, 0.13172305166526213, 0.13414381255236255, 0.12708645599431712, 0.12480349831110964, 0.1165103918414918, 0.11723219863248317, 0.11680363687651667, 0.11632696872377486, 0.11993490007087922, 0.1269802081178624, 0.1217773555393084, 0.12720077471312471, 0.12528315415992408, 0.12494055459804243, 0.16781123213943983, 0.147385385458546, 0.13382307152818007, 0.13555155155278178, 0.1338630491217013, 0.1332183708549514, 0.13375387032479916, 0.13351417010963187, 0.1305636688604353, 0.13295980478889538, 0.13509951112226815, 0.13200383183621622, 0.12986433248916554, 0.1251058777016367, 0.12049387422168507, 0.11724748597358407, 0.11504968363681604, 0.12150754566102989, 0.11726900558634445, 0.12073829091903228, 0.12067296790486515, 0.11955304480752633, 0.12281510868057642, 0.13454793705675974, 0.16377102334041593, 0.14229535073515187, 0.13378450556546137, 0.13355921529514223, 0.13193651548334917]}],\n",
       "                        {\"hovermode\": \"x\", \"template\": {\"data\": {\"bar\": [{\"error_x\": {\"color\": \"#2a3f5f\"}, \"error_y\": {\"color\": \"#2a3f5f\"}, \"marker\": {\"line\": {\"color\": \"#E5ECF6\", \"width\": 0.5}}, \"type\": \"bar\"}], \"barpolar\": [{\"marker\": {\"line\": {\"color\": \"#E5ECF6\", \"width\": 0.5}}, \"type\": \"barpolar\"}], \"carpet\": [{\"aaxis\": {\"endlinecolor\": \"#2a3f5f\", \"gridcolor\": \"white\", \"linecolor\": \"white\", \"minorgridcolor\": \"white\", \"startlinecolor\": \"#2a3f5f\"}, \"baxis\": {\"endlinecolor\": \"#2a3f5f\", \"gridcolor\": \"white\", \"linecolor\": \"white\", \"minorgridcolor\": \"white\", \"startlinecolor\": \"#2a3f5f\"}, \"type\": \"carpet\"}], \"choropleth\": [{\"colorbar\": {\"outlinewidth\": 0, \"ticks\": \"\"}, \"type\": \"choropleth\"}], \"contour\": [{\"colorbar\": {\"outlinewidth\": 0, \"ticks\": \"\"}, \"colorscale\": [[0.0, \"#0d0887\"], [0.1111111111111111, \"#46039f\"], [0.2222222222222222, \"#7201a8\"], [0.3333333333333333, \"#9c179e\"], [0.4444444444444444, \"#bd3786\"], [0.5555555555555556, \"#d8576b\"], [0.6666666666666666, \"#ed7953\"], [0.7777777777777778, \"#fb9f3a\"], [0.8888888888888888, \"#fdca26\"], [1.0, \"#f0f921\"]], \"type\": \"contour\"}], \"contourcarpet\": [{\"colorbar\": {\"outlinewidth\": 0, \"ticks\": \"\"}, \"type\": \"contourcarpet\"}], \"heatmap\": [{\"colorbar\": {\"outlinewidth\": 0, \"ticks\": \"\"}, \"colorscale\": [[0.0, \"#0d0887\"], [0.1111111111111111, \"#46039f\"], [0.2222222222222222, \"#7201a8\"], [0.3333333333333333, \"#9c179e\"], [0.4444444444444444, \"#bd3786\"], [0.5555555555555556, \"#d8576b\"], [0.6666666666666666, \"#ed7953\"], [0.7777777777777778, \"#fb9f3a\"], [0.8888888888888888, \"#fdca26\"], [1.0, \"#f0f921\"]], \"type\": \"heatmap\"}], \"heatmapgl\": [{\"colorbar\": {\"outlinewidth\": 0, \"ticks\": \"\"}, \"colorscale\": [[0.0, \"#0d0887\"], [0.1111111111111111, \"#46039f\"], [0.2222222222222222, \"#7201a8\"], [0.3333333333333333, \"#9c179e\"], [0.4444444444444444, \"#bd3786\"], [0.5555555555555556, \"#d8576b\"], [0.6666666666666666, \"#ed7953\"], [0.7777777777777778, \"#fb9f3a\"], [0.8888888888888888, \"#fdca26\"], [1.0, \"#f0f921\"]], \"type\": \"heatmapgl\"}], \"histogram\": [{\"marker\": {\"colorbar\": {\"outlinewidth\": 0, \"ticks\": \"\"}}, \"type\": \"histogram\"}], \"histogram2d\": [{\"colorbar\": {\"outlinewidth\": 0, \"ticks\": \"\"}, \"colorscale\": [[0.0, \"#0d0887\"], [0.1111111111111111, \"#46039f\"], [0.2222222222222222, \"#7201a8\"], [0.3333333333333333, \"#9c179e\"], [0.4444444444444444, \"#bd3786\"], [0.5555555555555556, \"#d8576b\"], [0.6666666666666666, \"#ed7953\"], [0.7777777777777778, \"#fb9f3a\"], [0.8888888888888888, \"#fdca26\"], [1.0, \"#f0f921\"]], \"type\": \"histogram2d\"}], \"histogram2dcontour\": [{\"colorbar\": {\"outlinewidth\": 0, \"ticks\": \"\"}, \"colorscale\": [[0.0, \"#0d0887\"], [0.1111111111111111, \"#46039f\"], [0.2222222222222222, \"#7201a8\"], [0.3333333333333333, \"#9c179e\"], [0.4444444444444444, \"#bd3786\"], [0.5555555555555556, \"#d8576b\"], [0.6666666666666666, \"#ed7953\"], [0.7777777777777778, \"#fb9f3a\"], [0.8888888888888888, \"#fdca26\"], [1.0, \"#f0f921\"]], \"type\": \"histogram2dcontour\"}], \"mesh3d\": [{\"colorbar\": {\"outlinewidth\": 0, \"ticks\": \"\"}, \"type\": \"mesh3d\"}], \"parcoords\": [{\"line\": {\"colorbar\": {\"outlinewidth\": 0, \"ticks\": \"\"}}, \"type\": \"parcoords\"}], \"scatter\": [{\"marker\": {\"colorbar\": {\"outlinewidth\": 0, \"ticks\": \"\"}}, \"type\": \"scatter\"}], \"scatter3d\": [{\"line\": {\"colorbar\": {\"outlinewidth\": 0, \"ticks\": \"\"}}, \"marker\": {\"colorbar\": {\"outlinewidth\": 0, \"ticks\": \"\"}}, \"type\": \"scatter3d\"}], \"scattercarpet\": [{\"marker\": {\"colorbar\": {\"outlinewidth\": 0, \"ticks\": \"\"}}, \"type\": \"scattercarpet\"}], \"scattergeo\": [{\"marker\": {\"colorbar\": {\"outlinewidth\": 0, \"ticks\": \"\"}}, \"type\": \"scattergeo\"}], \"scattergl\": [{\"marker\": {\"colorbar\": {\"outlinewidth\": 0, \"ticks\": \"\"}}, \"type\": \"scattergl\"}], \"scattermapbox\": [{\"marker\": {\"colorbar\": {\"outlinewidth\": 0, \"ticks\": \"\"}}, \"type\": \"scattermapbox\"}], \"scatterpolar\": [{\"marker\": {\"colorbar\": {\"outlinewidth\": 0, \"ticks\": \"\"}}, \"type\": \"scatterpolar\"}], \"scatterpolargl\": [{\"marker\": {\"colorbar\": {\"outlinewidth\": 0, \"ticks\": \"\"}}, \"type\": \"scatterpolargl\"}], \"scatterternary\": [{\"marker\": {\"colorbar\": {\"outlinewidth\": 0, \"ticks\": \"\"}}, \"type\": \"scatterternary\"}], \"surface\": [{\"colorbar\": {\"outlinewidth\": 0, \"ticks\": \"\"}, \"colorscale\": [[0.0, \"#0d0887\"], [0.1111111111111111, \"#46039f\"], [0.2222222222222222, \"#7201a8\"], [0.3333333333333333, \"#9c179e\"], [0.4444444444444444, \"#bd3786\"], [0.5555555555555556, \"#d8576b\"], [0.6666666666666666, \"#ed7953\"], [0.7777777777777778, \"#fb9f3a\"], [0.8888888888888888, \"#fdca26\"], [1.0, \"#f0f921\"]], \"type\": \"surface\"}], \"table\": [{\"cells\": {\"fill\": {\"color\": \"#EBF0F8\"}, \"line\": {\"color\": \"white\"}}, \"header\": {\"fill\": {\"color\": \"#C8D4E3\"}, \"line\": {\"color\": \"white\"}}, \"type\": \"table\"}]}, \"layout\": {\"annotationdefaults\": {\"arrowcolor\": \"#2a3f5f\", \"arrowhead\": 0, \"arrowwidth\": 1}, \"colorscale\": {\"diverging\": [[0, \"#8e0152\"], [0.1, \"#c51b7d\"], [0.2, \"#de77ae\"], [0.3, \"#f1b6da\"], [0.4, \"#fde0ef\"], [0.5, \"#f7f7f7\"], [0.6, \"#e6f5d0\"], [0.7, \"#b8e186\"], [0.8, \"#7fbc41\"], [0.9, \"#4d9221\"], [1, \"#276419\"]], \"sequential\": [[0.0, \"#0d0887\"], [0.1111111111111111, \"#46039f\"], [0.2222222222222222, \"#7201a8\"], [0.3333333333333333, \"#9c179e\"], [0.4444444444444444, \"#bd3786\"], [0.5555555555555556, \"#d8576b\"], [0.6666666666666666, \"#ed7953\"], [0.7777777777777778, \"#fb9f3a\"], [0.8888888888888888, \"#fdca26\"], [1.0, \"#f0f921\"]], \"sequentialminus\": [[0.0, \"#0d0887\"], [0.1111111111111111, \"#46039f\"], [0.2222222222222222, \"#7201a8\"], [0.3333333333333333, \"#9c179e\"], [0.4444444444444444, \"#bd3786\"], [0.5555555555555556, \"#d8576b\"], [0.6666666666666666, \"#ed7953\"], [0.7777777777777778, \"#fb9f3a\"], [0.8888888888888888, \"#fdca26\"], [1.0, \"#f0f921\"]]}, \"colorway\": [\"#636efa\", \"#EF553B\", \"#00cc96\", \"#ab63fa\", \"#FFA15A\", \"#19d3f3\", \"#FF6692\", \"#B6E880\", \"#FF97FF\", \"#FECB52\"], \"font\": {\"color\": \"#2a3f5f\"}, \"geo\": {\"bgcolor\": \"white\", \"lakecolor\": \"white\", \"landcolor\": \"#E5ECF6\", \"showlakes\": true, \"showland\": true, \"subunitcolor\": \"white\"}, \"hoverlabel\": {\"align\": \"left\"}, \"hovermode\": \"closest\", \"mapbox\": {\"style\": \"light\"}, \"paper_bgcolor\": \"white\", \"plot_bgcolor\": \"#E5ECF6\", \"polar\": {\"angularaxis\": {\"gridcolor\": \"white\", \"linecolor\": \"white\", \"ticks\": \"\"}, \"bgcolor\": \"#E5ECF6\", \"radialaxis\": {\"gridcolor\": \"white\", \"linecolor\": \"white\", \"ticks\": \"\"}}, \"scene\": {\"xaxis\": {\"backgroundcolor\": \"#E5ECF6\", \"gridcolor\": \"white\", \"gridwidth\": 2, \"linecolor\": \"white\", \"showbackground\": true, \"ticks\": \"\", \"zerolinecolor\": \"white\"}, \"yaxis\": {\"backgroundcolor\": \"#E5ECF6\", \"gridcolor\": \"white\", \"gridwidth\": 2, \"linecolor\": \"white\", \"showbackground\": true, \"ticks\": \"\", \"zerolinecolor\": \"white\"}, \"zaxis\": {\"backgroundcolor\": \"#E5ECF6\", \"gridcolor\": \"white\", \"gridwidth\": 2, \"linecolor\": \"white\", \"showbackground\": true, \"ticks\": \"\", \"zerolinecolor\": \"white\"}}, \"shapedefaults\": {\"line\": {\"color\": \"#2a3f5f\"}}, \"ternary\": {\"aaxis\": {\"gridcolor\": \"white\", \"linecolor\": \"white\", \"ticks\": \"\"}, \"baxis\": {\"gridcolor\": \"white\", \"linecolor\": \"white\", \"ticks\": \"\"}, \"bgcolor\": \"#E5ECF6\", \"caxis\": {\"gridcolor\": \"white\", \"linecolor\": \"white\", \"ticks\": \"\"}}, \"title\": {\"x\": 0.05}, \"xaxis\": {\"automargin\": true, \"gridcolor\": \"white\", \"linecolor\": \"white\", \"ticks\": \"\", \"zerolinecolor\": \"white\", \"zerolinewidth\": 2}, \"yaxis\": {\"automargin\": true, \"gridcolor\": \"white\", \"linecolor\": \"white\", \"ticks\": \"\", \"zerolinecolor\": \"white\", \"zerolinewidth\": 2}}}, \"title\": {\"text\": \"newmse:video:total_total:(real_ctr)\"}, \"xaxis\": {\"type\": \"date\"}, \"yaxis\": {\"title\": {\"text\": \"real_ctr\"}}},\n",
       "                        {\"responsive\": true}\n",
       "                    ).then(function(){\n",
       "                            \n",
       "var gd = document.getElementById('13ca8f17-f34b-4a19-ad1e-f4a97ebc0744');\n",
       "var x = new MutationObserver(function (mutations, observer) {{\n",
       "        var display = window.getComputedStyle(gd).display;\n",
       "        if (!display || display === 'none') {{\n",
       "            console.log([gd, 'removed!']);\n",
       "            Plotly.purge(gd);\n",
       "            observer.disconnect();\n",
       "        }}\n",
       "}});\n",
       "\n",
       "// Listen for the removal of the full notebook cells\n",
       "var notebookContainer = gd.closest('#notebook-container');\n",
       "if (notebookContainer) {{\n",
       "    x.observe(notebookContainer, {childList: true});\n",
       "}}\n",
       "\n",
       "// Listen for the clearing of the current output cell\n",
       "var outputEl = gd.closest('.output');\n",
       "if (outputEl) {{\n",
       "    x.observe(outputEl, {childList: true});\n",
       "}}\n",
       "\n",
       "                        })\n",
       "                };\n",
       "                });\n",
       "            </script>\n",
       "        </div>"
      ]
     },
     "metadata": {},
     "output_type": "display_data"
    }
   ],
   "source": [
    "show_hourly('video_total_total')"
   ]
  },
  {
   "cell_type": "code",
   "execution_count": 8,
   "metadata": {},
   "outputs": [],
   "source": [
    "# df = gezi.get_global('df')\n",
    "# base = gezi.get_global('base')\n",
    "# cols1 =gezi.get_global('cols1')\n",
    "# cols2 = gezi.get_global('cols2')"
   ]
  },
  {
   "cell_type": "code",
   "execution_count": 9,
   "metadata": {},
   "outputs": [],
   "source": [
    "# df"
   ]
  },
  {
   "cell_type": "code",
   "execution_count": 10,
   "metadata": {},
   "outputs": [],
   "source": [
    "# base"
   ]
  },
  {
   "cell_type": "code",
   "execution_count": 11,
   "metadata": {},
   "outputs": [],
   "source": [
    "# df.reset_index()[cols2] - base.reset_index()[cols2]"
   ]
  },
  {
   "cell_type": "code",
   "execution_count": 12,
   "metadata": {},
   "outputs": [
    {
     "data": {
      "text/html": [
       "<div>\n",
       "<style scoped>\n",
       "    .dataframe tbody tr th:only-of-type {\n",
       "        vertical-align: middle;\n",
       "    }\n",
       "\n",
       "    .dataframe tbody tr th {\n",
       "        vertical-align: top;\n",
       "    }\n",
       "\n",
       "    .dataframe thead th {\n",
       "        text-align: right;\n",
       "    }\n",
       "</style>\n",
       "<table border=\"1\" class=\"dataframe\">\n",
       "  <thead>\n",
       "    <tr style=\"text-align: right;\">\n",
       "      <th></th>\n",
       "      <th>product_name</th>\n",
       "      <th>datetime</th>\n",
       "      <th>name</th>\n",
       "      <th>data_obj</th>\n",
       "      <th>abtest</th>\n",
       "      <th>id</th>\n",
       "      <th>dis</th>\n",
       "      <th>dis_user</th>\n",
       "      <th>refresh_times</th>\n",
       "      <th>real_dis</th>\n",
       "      <th>...</th>\n",
       "      <th>ctr</th>\n",
       "      <th>real_ctr</th>\n",
       "      <th>read_ratio</th>\n",
       "      <th>dur1</th>\n",
       "      <th>dur2</th>\n",
       "      <th>finish_ratio</th>\n",
       "      <th>read_files</th>\n",
       "      <th>doc_dur</th>\n",
       "      <th>refresh</th>\n",
       "      <th>refresh2</th>\n",
       "    </tr>\n",
       "  </thead>\n",
       "  <tbody>\n",
       "    <tr>\n",
       "      <th>0</th>\n",
       "      <td>newmse</td>\n",
       "      <td>2019122801</td>\n",
       "      <td>video</td>\n",
       "      <td>total_recommend</td>\n",
       "      <td>7</td>\n",
       "      <td>1289064</td>\n",
       "      <td>39183.0</td>\n",
       "      <td>6667.0</td>\n",
       "      <td>1134.0</td>\n",
       "      <td>13492.0</td>\n",
       "      <td>...</td>\n",
       "      <td>0.033688</td>\n",
       "      <td>0.097836</td>\n",
       "      <td>0.084596</td>\n",
       "      <td>0.477656</td>\n",
       "      <td>5.646336</td>\n",
       "      <td>1.0</td>\n",
       "      <td>0.197990</td>\n",
       "      <td>2.412525</td>\n",
       "      <td>0.170091</td>\n",
       "      <td>2.010638</td>\n",
       "    </tr>\n",
       "    <tr>\n",
       "      <th>1</th>\n",
       "      <td>newmse</td>\n",
       "      <td>2019122801</td>\n",
       "      <td>small_video</td>\n",
       "      <td>total_total</td>\n",
       "      <td>7</td>\n",
       "      <td>1290234</td>\n",
       "      <td>1730.0</td>\n",
       "      <td>89.0</td>\n",
       "      <td>9.0</td>\n",
       "      <td>247.0</td>\n",
       "      <td>...</td>\n",
       "      <td>0.001156</td>\n",
       "      <td>0.008097</td>\n",
       "      <td>0.011236</td>\n",
       "      <td>0.000000</td>\n",
       "      <td>0.000000</td>\n",
       "      <td>0.0</td>\n",
       "      <td>0.022472</td>\n",
       "      <td>0.000000</td>\n",
       "      <td>0.101124</td>\n",
       "      <td>9.000000</td>\n",
       "    </tr>\n",
       "    <tr>\n",
       "      <th>2</th>\n",
       "      <td>newmse</td>\n",
       "      <td>2019122801</td>\n",
       "      <td>small_video</td>\n",
       "      <td>total_recommend</td>\n",
       "      <td>7</td>\n",
       "      <td>1289104</td>\n",
       "      <td>1655.0</td>\n",
       "      <td>88.0</td>\n",
       "      <td>1.0</td>\n",
       "      <td>225.0</td>\n",
       "      <td>...</td>\n",
       "      <td>0.001208</td>\n",
       "      <td>0.008889</td>\n",
       "      <td>0.011364</td>\n",
       "      <td>0.000000</td>\n",
       "      <td>0.000000</td>\n",
       "      <td>0.0</td>\n",
       "      <td>0.022727</td>\n",
       "      <td>0.000000</td>\n",
       "      <td>0.011364</td>\n",
       "      <td>1.000000</td>\n",
       "    </tr>\n",
       "    <tr>\n",
       "      <th>3</th>\n",
       "      <td>newmse</td>\n",
       "      <td>2019122801</td>\n",
       "      <td>tuwen</td>\n",
       "      <td>total_recommend</td>\n",
       "      <td>7</td>\n",
       "      <td>1289024</td>\n",
       "      <td>135268.0</td>\n",
       "      <td>7307.0</td>\n",
       "      <td>10512.0</td>\n",
       "      <td>51713.0</td>\n",
       "      <td>...</td>\n",
       "      <td>0.055749</td>\n",
       "      <td>0.145824</td>\n",
       "      <td>0.237307</td>\n",
       "      <td>1.127553</td>\n",
       "      <td>4.751461</td>\n",
       "      <td>1.0</td>\n",
       "      <td>1.032024</td>\n",
       "      <td>1.092565</td>\n",
       "      <td>1.438621</td>\n",
       "      <td>6.062284</td>\n",
       "    </tr>\n",
       "    <tr>\n",
       "      <th>4</th>\n",
       "      <td>newmse</td>\n",
       "      <td>2019122801</td>\n",
       "      <td>total</td>\n",
       "      <td>total_total</td>\n",
       "      <td>7</td>\n",
       "      <td>1290594</td>\n",
       "      <td>262290.0</td>\n",
       "      <td>7631.0</td>\n",
       "      <td>12353.0</td>\n",
       "      <td>81230.0</td>\n",
       "      <td>...</td>\n",
       "      <td>0.039727</td>\n",
       "      <td>0.128278</td>\n",
       "      <td>0.253833</td>\n",
       "      <td>1.759169</td>\n",
       "      <td>6.930416</td>\n",
       "      <td>1.0</td>\n",
       "      <td>1.365483</td>\n",
       "      <td>1.288313</td>\n",
       "      <td>1.618792</td>\n",
       "      <td>6.377388</td>\n",
       "    </tr>\n",
       "    <tr>\n",
       "      <th>...</th>\n",
       "      <td>...</td>\n",
       "      <td>...</td>\n",
       "      <td>...</td>\n",
       "      <td>...</td>\n",
       "      <td>...</td>\n",
       "      <td>...</td>\n",
       "      <td>...</td>\n",
       "      <td>...</td>\n",
       "      <td>...</td>\n",
       "      <td>...</td>\n",
       "      <td>...</td>\n",
       "      <td>...</td>\n",
       "      <td>...</td>\n",
       "      <td>...</td>\n",
       "      <td>...</td>\n",
       "      <td>...</td>\n",
       "      <td>...</td>\n",
       "      <td>...</td>\n",
       "      <td>...</td>\n",
       "      <td>...</td>\n",
       "      <td>...</td>\n",
       "    </tr>\n",
       "    <tr>\n",
       "      <th>4626</th>\n",
       "      <td>newmse</td>\n",
       "      <td>2020011413</td>\n",
       "      <td>video</td>\n",
       "      <td>total_relative</td>\n",
       "      <td>7</td>\n",
       "      <td>1287362</td>\n",
       "      <td>111002.0</td>\n",
       "      <td>1426.0</td>\n",
       "      <td>1.0</td>\n",
       "      <td>5988.0</td>\n",
       "      <td>...</td>\n",
       "      <td>0.012684</td>\n",
       "      <td>0.235137</td>\n",
       "      <td>0.464236</td>\n",
       "      <td>1.851075</td>\n",
       "      <td>3.987362</td>\n",
       "      <td>1.0</td>\n",
       "      <td>0.987377</td>\n",
       "      <td>1.874740</td>\n",
       "      <td>0.000701</td>\n",
       "      <td>0.001511</td>\n",
       "    </tr>\n",
       "    <tr>\n",
       "      <th>4627</th>\n",
       "      <td>newmse</td>\n",
       "      <td>2020011413</td>\n",
       "      <td>small_video</td>\n",
       "      <td>total_recommend</td>\n",
       "      <td>7</td>\n",
       "      <td>1286614</td>\n",
       "      <td>7281.0</td>\n",
       "      <td>349.0</td>\n",
       "      <td>6.0</td>\n",
       "      <td>867.0</td>\n",
       "      <td>...</td>\n",
       "      <td>0.000824</td>\n",
       "      <td>0.006920</td>\n",
       "      <td>0.017192</td>\n",
       "      <td>0.000000</td>\n",
       "      <td>0.000000</td>\n",
       "      <td>0.0</td>\n",
       "      <td>0.017192</td>\n",
       "      <td>0.000000</td>\n",
       "      <td>0.017192</td>\n",
       "      <td>1.000000</td>\n",
       "    </tr>\n",
       "    <tr>\n",
       "      <th>4628</th>\n",
       "      <td>newmse</td>\n",
       "      <td>2020011413</td>\n",
       "      <td>video</td>\n",
       "      <td>total_total</td>\n",
       "      <td>7</td>\n",
       "      <td>1287746</td>\n",
       "      <td>208150.0</td>\n",
       "      <td>15181.0</td>\n",
       "      <td>3810.0</td>\n",
       "      <td>42233.0</td>\n",
       "      <td>...</td>\n",
       "      <td>0.024458</td>\n",
       "      <td>0.120546</td>\n",
       "      <td>0.113958</td>\n",
       "      <td>0.767492</td>\n",
       "      <td>6.734855</td>\n",
       "      <td>1.0</td>\n",
       "      <td>0.335353</td>\n",
       "      <td>2.288607</td>\n",
       "      <td>0.250972</td>\n",
       "      <td>2.202312</td>\n",
       "    </tr>\n",
       "    <tr>\n",
       "      <th>4629</th>\n",
       "      <td>newmse</td>\n",
       "      <td>2020011413</td>\n",
       "      <td>small_video</td>\n",
       "      <td>total_total</td>\n",
       "      <td>7</td>\n",
       "      <td>1287786</td>\n",
       "      <td>8206.0</td>\n",
       "      <td>356.0</td>\n",
       "      <td>186.0</td>\n",
       "      <td>883.0</td>\n",
       "      <td>...</td>\n",
       "      <td>0.000731</td>\n",
       "      <td>0.006795</td>\n",
       "      <td>0.016854</td>\n",
       "      <td>0.000000</td>\n",
       "      <td>0.000000</td>\n",
       "      <td>0.0</td>\n",
       "      <td>0.016854</td>\n",
       "      <td>0.000000</td>\n",
       "      <td>0.522472</td>\n",
       "      <td>31.000000</td>\n",
       "    </tr>\n",
       "    <tr>\n",
       "      <th>4630</th>\n",
       "      <td>newmse</td>\n",
       "      <td>2020011413</td>\n",
       "      <td>total</td>\n",
       "      <td>total_total</td>\n",
       "      <td>7</td>\n",
       "      <td>1288146</td>\n",
       "      <td>628074.0</td>\n",
       "      <td>17471.0</td>\n",
       "      <td>30047.0</td>\n",
       "      <td>200798.0</td>\n",
       "      <td>...</td>\n",
       "      <td>0.042866</td>\n",
       "      <td>0.134080</td>\n",
       "      <td>0.336157</td>\n",
       "      <td>1.958270</td>\n",
       "      <td>5.825461</td>\n",
       "      <td>1.0</td>\n",
       "      <td>1.541011</td>\n",
       "      <td>1.270770</td>\n",
       "      <td>1.719821</td>\n",
       "      <td>5.116125</td>\n",
       "    </tr>\n",
       "  </tbody>\n",
       "</table>\n",
       "<p>4631 rows × 32 columns</p>\n",
       "</div>"
      ],
      "text/plain": [
       "     product_name    datetime         name         data_obj  abtest       id  \\\n",
       "0          newmse  2019122801        video  total_recommend       7  1289064   \n",
       "1          newmse  2019122801  small_video      total_total       7  1290234   \n",
       "2          newmse  2019122801  small_video  total_recommend       7  1289104   \n",
       "3          newmse  2019122801        tuwen  total_recommend       7  1289024   \n",
       "4          newmse  2019122801        total      total_total       7  1290594   \n",
       "...           ...         ...          ...              ...     ...      ...   \n",
       "4626       newmse  2020011413        video   total_relative       7  1287362   \n",
       "4627       newmse  2020011413  small_video  total_recommend       7  1286614   \n",
       "4628       newmse  2020011413        video      total_total       7  1287746   \n",
       "4629       newmse  2020011413  small_video      total_total       7  1287786   \n",
       "4630       newmse  2020011413        total      total_total       7  1288146   \n",
       "\n",
       "           dis  dis_user  refresh_times  real_dis  ...       ctr  real_ctr  \\\n",
       "0      39183.0    6667.0         1134.0   13492.0  ...  0.033688  0.097836   \n",
       "1       1730.0      89.0            9.0     247.0  ...  0.001156  0.008097   \n",
       "2       1655.0      88.0            1.0     225.0  ...  0.001208  0.008889   \n",
       "3     135268.0    7307.0        10512.0   51713.0  ...  0.055749  0.145824   \n",
       "4     262290.0    7631.0        12353.0   81230.0  ...  0.039727  0.128278   \n",
       "...        ...       ...            ...       ...  ...       ...       ...   \n",
       "4626  111002.0    1426.0            1.0    5988.0  ...  0.012684  0.235137   \n",
       "4627    7281.0     349.0            6.0     867.0  ...  0.000824  0.006920   \n",
       "4628  208150.0   15181.0         3810.0   42233.0  ...  0.024458  0.120546   \n",
       "4629    8206.0     356.0          186.0     883.0  ...  0.000731  0.006795   \n",
       "4630  628074.0   17471.0        30047.0  200798.0  ...  0.042866  0.134080   \n",
       "\n",
       "      read_ratio      dur1      dur2  finish_ratio  read_files   doc_dur  \\\n",
       "0       0.084596  0.477656  5.646336           1.0    0.197990  2.412525   \n",
       "1       0.011236  0.000000  0.000000           0.0    0.022472  0.000000   \n",
       "2       0.011364  0.000000  0.000000           0.0    0.022727  0.000000   \n",
       "3       0.237307  1.127553  4.751461           1.0    1.032024  1.092565   \n",
       "4       0.253833  1.759169  6.930416           1.0    1.365483  1.288313   \n",
       "...          ...       ...       ...           ...         ...       ...   \n",
       "4626    0.464236  1.851075  3.987362           1.0    0.987377  1.874740   \n",
       "4627    0.017192  0.000000  0.000000           0.0    0.017192  0.000000   \n",
       "4628    0.113958  0.767492  6.734855           1.0    0.335353  2.288607   \n",
       "4629    0.016854  0.000000  0.000000           0.0    0.016854  0.000000   \n",
       "4630    0.336157  1.958270  5.825461           1.0    1.541011  1.270770   \n",
       "\n",
       "       refresh   refresh2  \n",
       "0     0.170091   2.010638  \n",
       "1     0.101124   9.000000  \n",
       "2     0.011364   1.000000  \n",
       "3     1.438621   6.062284  \n",
       "4     1.618792   6.377388  \n",
       "...        ...        ...  \n",
       "4626  0.000701   0.001511  \n",
       "4627  0.017192   1.000000  \n",
       "4628  0.250972   2.202312  \n",
       "4629  0.522472  31.000000  \n",
       "4630  1.719821   5.116125  \n",
       "\n",
       "[4631 rows x 32 columns]"
      ]
     },
     "execution_count": 12,
     "metadata": {},
     "output_type": "execute_result"
    }
   ],
   "source": [
    "worker_hourly.df"
   ]
  },
  {
   "cell_type": "code",
   "execution_count": 13,
   "metadata": {},
   "outputs": [
    {
     "data": {
      "text/html": [
       "<div>\n",
       "<style scoped>\n",
       "    .dataframe tbody tr th:only-of-type {\n",
       "        vertical-align: middle;\n",
       "    }\n",
       "\n",
       "    .dataframe tbody tr th {\n",
       "        vertical-align: top;\n",
       "    }\n",
       "\n",
       "    .dataframe thead th {\n",
       "        text-align: right;\n",
       "    }\n",
       "</style>\n",
       "<table border=\"1\" class=\"dataframe\">\n",
       "  <thead>\n",
       "    <tr style=\"text-align: right;\">\n",
       "      <th></th>\n",
       "      <th>product_name</th>\n",
       "      <th>datetime</th>\n",
       "      <th>name</th>\n",
       "      <th>data_obj</th>\n",
       "      <th>abtest</th>\n",
       "      <th>id</th>\n",
       "      <th>dis</th>\n",
       "      <th>dis_user</th>\n",
       "      <th>refresh_times</th>\n",
       "      <th>real_dis</th>\n",
       "      <th>...</th>\n",
       "      <th>ctr</th>\n",
       "      <th>real_ctr</th>\n",
       "      <th>read_ratio</th>\n",
       "      <th>dur1</th>\n",
       "      <th>dur2</th>\n",
       "      <th>finish_ratio</th>\n",
       "      <th>read_files</th>\n",
       "      <th>doc_dur</th>\n",
       "      <th>refresh</th>\n",
       "      <th>refresh2</th>\n",
       "    </tr>\n",
       "  </thead>\n",
       "  <tbody>\n",
       "    <tr>\n",
       "      <th>0</th>\n",
       "      <td>newmse</td>\n",
       "      <td>2019122801</td>\n",
       "      <td>video</td>\n",
       "      <td>total_recommend</td>\n",
       "      <td>7</td>\n",
       "      <td>-36.0</td>\n",
       "      <td>37792.333333</td>\n",
       "      <td>6579.000000</td>\n",
       "      <td>1133.000000</td>\n",
       "      <td>13306.000000</td>\n",
       "      <td>...</td>\n",
       "      <td>0.031778</td>\n",
       "      <td>0.083583</td>\n",
       "      <td>0.054676</td>\n",
       "      <td>0.477656</td>\n",
       "      <td>5.646336</td>\n",
       "      <td>1.0</td>\n",
       "      <td>0.168070</td>\n",
       "      <td>2.412525</td>\n",
       "      <td>0.158703</td>\n",
       "      <td>1.482861</td>\n",
       "    </tr>\n",
       "    <tr>\n",
       "      <th>1</th>\n",
       "      <td>newmse</td>\n",
       "      <td>2019122801</td>\n",
       "      <td>small_video</td>\n",
       "      <td>total_total</td>\n",
       "      <td>7</td>\n",
       "      <td>4.0</td>\n",
       "      <td>14.333333</td>\n",
       "      <td>-1.666667</td>\n",
       "      <td>-47.666667</td>\n",
       "      <td>8.000000</td>\n",
       "      <td>...</td>\n",
       "      <td>-0.001476</td>\n",
       "      <td>-0.009621</td>\n",
       "      <td>-0.027840</td>\n",
       "      <td>0.000000</td>\n",
       "      <td>0.000000</td>\n",
       "      <td>0.0</td>\n",
       "      <td>-0.026808</td>\n",
       "      <td>0.000000</td>\n",
       "      <td>-0.506541</td>\n",
       "      <td>-5.694444</td>\n",
       "    </tr>\n",
       "    <tr>\n",
       "      <th>2</th>\n",
       "      <td>newmse</td>\n",
       "      <td>2019122801</td>\n",
       "      <td>small_video</td>\n",
       "      <td>total_recommend</td>\n",
       "      <td>7</td>\n",
       "      <td>-346.0</td>\n",
       "      <td>-169032.000000</td>\n",
       "      <td>-7016.666667</td>\n",
       "      <td>-11298.666667</td>\n",
       "      <td>-60669.333333</td>\n",
       "      <td>...</td>\n",
       "      <td>-0.050818</td>\n",
       "      <td>-0.136834</td>\n",
       "      <td>-0.232053</td>\n",
       "      <td>-1.687847</td>\n",
       "      <td>-6.932856</td>\n",
       "      <td>-1.0</td>\n",
       "      <td>-1.227207</td>\n",
       "      <td>-1.349551</td>\n",
       "      <td>-1.579125</td>\n",
       "      <td>-5.534514</td>\n",
       "    </tr>\n",
       "    <tr>\n",
       "      <th>3</th>\n",
       "      <td>newmse</td>\n",
       "      <td>2019122801</td>\n",
       "      <td>tuwen</td>\n",
       "      <td>total_recommend</td>\n",
       "      <td>7</td>\n",
       "      <td>-896.0</td>\n",
       "      <td>60712.333333</td>\n",
       "      <td>5773.666667</td>\n",
       "      <td>10511.000000</td>\n",
       "      <td>39669.000000</td>\n",
       "      <td>...</td>\n",
       "      <td>0.038956</td>\n",
       "      <td>0.041802</td>\n",
       "      <td>-0.051995</td>\n",
       "      <td>0.086709</td>\n",
       "      <td>1.156743</td>\n",
       "      <td>0.0</td>\n",
       "      <td>0.215452</td>\n",
       "      <td>-0.184755</td>\n",
       "      <td>1.437967</td>\n",
       "      <td>6.060021</td>\n",
       "    </tr>\n",
       "    <tr>\n",
       "      <th>4</th>\n",
       "      <td>newmse</td>\n",
       "      <td>2019122801</td>\n",
       "      <td>total</td>\n",
       "      <td>total_total</td>\n",
       "      <td>7</td>\n",
       "      <td>4.0</td>\n",
       "      <td>6847.333333</td>\n",
       "      <td>231.666667</td>\n",
       "      <td>338.333333</td>\n",
       "      <td>3513.000000</td>\n",
       "      <td>...</td>\n",
       "      <td>-0.001171</td>\n",
       "      <td>-0.006042</td>\n",
       "      <td>0.008632</td>\n",
       "      <td>-0.150332</td>\n",
       "      <td>-0.855082</td>\n",
       "      <td>0.0</td>\n",
       "      <td>-0.045269</td>\n",
       "      <td>-0.064523</td>\n",
       "      <td>-0.004568</td>\n",
       "      <td>-0.243879</td>\n",
       "    </tr>\n",
       "    <tr>\n",
       "      <th>...</th>\n",
       "      <td>...</td>\n",
       "      <td>...</td>\n",
       "      <td>...</td>\n",
       "      <td>...</td>\n",
       "      <td>...</td>\n",
       "      <td>...</td>\n",
       "      <td>...</td>\n",
       "      <td>...</td>\n",
       "      <td>...</td>\n",
       "      <td>...</td>\n",
       "      <td>...</td>\n",
       "      <td>...</td>\n",
       "      <td>...</td>\n",
       "      <td>...</td>\n",
       "      <td>...</td>\n",
       "      <td>...</td>\n",
       "      <td>...</td>\n",
       "      <td>...</td>\n",
       "      <td>...</td>\n",
       "      <td>...</td>\n",
       "      <td>...</td>\n",
       "    </tr>\n",
       "    <tr>\n",
       "      <th>4626</th>\n",
       "      <td>newmse</td>\n",
       "      <td>2020011413</td>\n",
       "      <td>video</td>\n",
       "      <td>total_relative</td>\n",
       "      <td>7</td>\n",
       "      <td>44.0</td>\n",
       "      <td>65829.666667</td>\n",
       "      <td>-2156.000000</td>\n",
       "      <td>0.000000</td>\n",
       "      <td>-14812.000000</td>\n",
       "      <td>...</td>\n",
       "      <td>-0.013477</td>\n",
       "      <td>0.178439</td>\n",
       "      <td>0.322584</td>\n",
       "      <td>1.798853</td>\n",
       "      <td>3.619945</td>\n",
       "      <td>0.0</td>\n",
       "      <td>0.658068</td>\n",
       "      <td>1.716114</td>\n",
       "      <td>0.000422</td>\n",
       "      <td>-0.000465</td>\n",
       "    </tr>\n",
       "    <tr>\n",
       "      <th>4627</th>\n",
       "      <td>newmse</td>\n",
       "      <td>2020011413</td>\n",
       "      <td>small_video</td>\n",
       "      <td>total_recommend</td>\n",
       "      <td>7</td>\n",
       "      <td>-1088.0</td>\n",
       "      <td>-387459.333333</td>\n",
       "      <td>-16911.000000</td>\n",
       "      <td>-25930.666667</td>\n",
       "      <td>-151594.333333</td>\n",
       "      <td>...</td>\n",
       "      <td>-0.050136</td>\n",
       "      <td>-0.124976</td>\n",
       "      <td>-0.303023</td>\n",
       "      <td>-1.797004</td>\n",
       "      <td>-5.611222</td>\n",
       "      <td>-1.0</td>\n",
       "      <td>-1.147787</td>\n",
       "      <td>-1.542379</td>\n",
       "      <td>-1.485197</td>\n",
       "      <td>-3.693054</td>\n",
       "    </tr>\n",
       "    <tr>\n",
       "      <th>4628</th>\n",
       "      <td>newmse</td>\n",
       "      <td>2020011413</td>\n",
       "      <td>video</td>\n",
       "      <td>total_total</td>\n",
       "      <td>7</td>\n",
       "      <td>1176.0</td>\n",
       "      <td>122464.666667</td>\n",
       "      <td>193.666667</td>\n",
       "      <td>669.333333</td>\n",
       "      <td>12592.333333</td>\n",
       "      <td>...</td>\n",
       "      <td>-0.021568</td>\n",
       "      <td>-0.012478</td>\n",
       "      <td>0.002411</td>\n",
       "      <td>0.089531</td>\n",
       "      <td>0.658033</td>\n",
       "      <td>0.0</td>\n",
       "      <td>0.072363</td>\n",
       "      <td>-0.289346</td>\n",
       "      <td>0.041827</td>\n",
       "      <td>0.327864</td>\n",
       "    </tr>\n",
       "    <tr>\n",
       "      <th>4629</th>\n",
       "      <td>newmse</td>\n",
       "      <td>2020011413</td>\n",
       "      <td>small_video</td>\n",
       "      <td>total_total</td>\n",
       "      <td>7</td>\n",
       "      <td>428.0</td>\n",
       "      <td>-104493.666667</td>\n",
       "      <td>-1128.000000</td>\n",
       "      <td>185.000000</td>\n",
       "      <td>-5715.333333</td>\n",
       "      <td>...</td>\n",
       "      <td>-0.008708</td>\n",
       "      <td>-0.154785</td>\n",
       "      <td>-0.288185</td>\n",
       "      <td>-1.492267</td>\n",
       "      <td>-4.907476</td>\n",
       "      <td>-1.0</td>\n",
       "      <td>-0.699903</td>\n",
       "      <td>-2.094601</td>\n",
       "      <td>0.521796</td>\n",
       "      <td>30.997778</td>\n",
       "    </tr>\n",
       "    <tr>\n",
       "      <th>4630</th>\n",
       "      <td>newmse</td>\n",
       "      <td>2020011413</td>\n",
       "      <td>total</td>\n",
       "      <td>total_total</td>\n",
       "      <td>7</td>\n",
       "      <td>404.0</td>\n",
       "      <td>416264.000000</td>\n",
       "      <td>2217.333333</td>\n",
       "      <td>26011.333333</td>\n",
       "      <td>157922.333333</td>\n",
       "      <td>...</td>\n",
       "      <td>0.016134</td>\n",
       "      <td>0.002144</td>\n",
       "      <td>0.211831</td>\n",
       "      <td>1.068742</td>\n",
       "      <td>-1.329018</td>\n",
       "      <td>0.0</td>\n",
       "      <td>1.170148</td>\n",
       "      <td>-1.128562</td>\n",
       "      <td>1.455851</td>\n",
       "      <td>2.993439</td>\n",
       "    </tr>\n",
       "  </tbody>\n",
       "</table>\n",
       "<p>4631 rows × 32 columns</p>\n",
       "</div>"
      ],
      "text/plain": [
       "     product_name    datetime         name         data_obj  abtest      id  \\\n",
       "0          newmse  2019122801        video  total_recommend       7   -36.0   \n",
       "1          newmse  2019122801  small_video      total_total       7     4.0   \n",
       "2          newmse  2019122801  small_video  total_recommend       7  -346.0   \n",
       "3          newmse  2019122801        tuwen  total_recommend       7  -896.0   \n",
       "4          newmse  2019122801        total      total_total       7     4.0   \n",
       "...           ...         ...          ...              ...     ...     ...   \n",
       "4626       newmse  2020011413        video   total_relative       7    44.0   \n",
       "4627       newmse  2020011413  small_video  total_recommend       7 -1088.0   \n",
       "4628       newmse  2020011413        video      total_total       7  1176.0   \n",
       "4629       newmse  2020011413  small_video      total_total       7   428.0   \n",
       "4630       newmse  2020011413        total      total_total       7   404.0   \n",
       "\n",
       "                dis      dis_user  refresh_times       real_dis  ...  \\\n",
       "0      37792.333333   6579.000000    1133.000000   13306.000000  ...   \n",
       "1         14.333333     -1.666667     -47.666667       8.000000  ...   \n",
       "2    -169032.000000  -7016.666667  -11298.666667  -60669.333333  ...   \n",
       "3      60712.333333   5773.666667   10511.000000   39669.000000  ...   \n",
       "4       6847.333333    231.666667     338.333333    3513.000000  ...   \n",
       "...             ...           ...            ...            ...  ...   \n",
       "4626   65829.666667  -2156.000000       0.000000  -14812.000000  ...   \n",
       "4627 -387459.333333 -16911.000000  -25930.666667 -151594.333333  ...   \n",
       "4628  122464.666667    193.666667     669.333333   12592.333333  ...   \n",
       "4629 -104493.666667  -1128.000000     185.000000   -5715.333333  ...   \n",
       "4630  416264.000000   2217.333333   26011.333333  157922.333333  ...   \n",
       "\n",
       "           ctr  real_ctr  read_ratio      dur1      dur2  finish_ratio  \\\n",
       "0     0.031778  0.083583    0.054676  0.477656  5.646336           1.0   \n",
       "1    -0.001476 -0.009621   -0.027840  0.000000  0.000000           0.0   \n",
       "2    -0.050818 -0.136834   -0.232053 -1.687847 -6.932856          -1.0   \n",
       "3     0.038956  0.041802   -0.051995  0.086709  1.156743           0.0   \n",
       "4    -0.001171 -0.006042    0.008632 -0.150332 -0.855082           0.0   \n",
       "...        ...       ...         ...       ...       ...           ...   \n",
       "4626 -0.013477  0.178439    0.322584  1.798853  3.619945           0.0   \n",
       "4627 -0.050136 -0.124976   -0.303023 -1.797004 -5.611222          -1.0   \n",
       "4628 -0.021568 -0.012478    0.002411  0.089531  0.658033           0.0   \n",
       "4629 -0.008708 -0.154785   -0.288185 -1.492267 -4.907476          -1.0   \n",
       "4630  0.016134  0.002144    0.211831  1.068742 -1.329018           0.0   \n",
       "\n",
       "      read_files   doc_dur   refresh   refresh2  \n",
       "0       0.168070  2.412525  0.158703   1.482861  \n",
       "1      -0.026808  0.000000 -0.506541  -5.694444  \n",
       "2      -1.227207 -1.349551 -1.579125  -5.534514  \n",
       "3       0.215452 -0.184755  1.437967   6.060021  \n",
       "4      -0.045269 -0.064523 -0.004568  -0.243879  \n",
       "...          ...       ...       ...        ...  \n",
       "4626    0.658068  1.716114  0.000422  -0.000465  \n",
       "4627   -1.147787 -1.542379 -1.485197  -3.693054  \n",
       "4628    0.072363 -0.289346  0.041827   0.327864  \n",
       "4629   -0.699903 -2.094601  0.521796  30.997778  \n",
       "4630    1.170148 -1.128562  1.455851   2.993439  \n",
       "\n",
       "[4631 rows x 32 columns]"
      ]
     },
     "execution_count": 13,
     "metadata": {},
     "output_type": "execute_result"
    }
   ],
   "source": [
    "worker_hourly.diff"
   ]
  },
  {
   "cell_type": "code",
   "execution_count": 14,
   "metadata": {},
   "outputs": [
    {
     "data": {
      "text/plain": [
       "120   -0.00359\n",
       "Name: read_ratio, dtype: float64"
      ]
     },
     "execution_count": 14,
     "metadata": {},
     "output_type": "execute_result"
    }
   ],
   "source": [
    "d = worker_hourly.natural_diff\n",
    "d[d.hour==10][d.name=='video'][d.data_obj=='total_total']['read_ratio']"
   ]
  },
  {
   "cell_type": "code",
   "execution_count": 15,
   "metadata": {},
   "outputs": [
    {
     "data": {
      "text/html": [
       "<div>\n",
       "<style scoped>\n",
       "    .dataframe tbody tr th:only-of-type {\n",
       "        vertical-align: middle;\n",
       "    }\n",
       "\n",
       "    .dataframe tbody tr th {\n",
       "        vertical-align: top;\n",
       "    }\n",
       "\n",
       "    .dataframe thead th {\n",
       "        text-align: right;\n",
       "    }\n",
       "</style>\n",
       "<table border=\"1\" class=\"dataframe\">\n",
       "  <thead>\n",
       "    <tr style=\"text-align: right;\">\n",
       "      <th></th>\n",
       "      <th>abtest</th>\n",
       "      <th>name</th>\n",
       "      <th>data_obj</th>\n",
       "      <th>date</th>\n",
       "      <th>id</th>\n",
       "      <th>dis</th>\n",
       "      <th>dis_user</th>\n",
       "      <th>refresh_times</th>\n",
       "      <th>real_dis</th>\n",
       "      <th>real_dis_user</th>\n",
       "      <th>...</th>\n",
       "      <th>ctr</th>\n",
       "      <th>real_ctr</th>\n",
       "      <th>read_ratio</th>\n",
       "      <th>dur1</th>\n",
       "      <th>dur2</th>\n",
       "      <th>finish_ratio</th>\n",
       "      <th>read_files</th>\n",
       "      <th>doc_dur</th>\n",
       "      <th>refresh</th>\n",
       "      <th>refresh2</th>\n",
       "    </tr>\n",
       "  </thead>\n",
       "  <tbody>\n",
       "    <tr>\n",
       "      <th>0</th>\n",
       "      <td>7</td>\n",
       "      <td>small_video</td>\n",
       "      <td>total_recommend</td>\n",
       "      <td>0.0</td>\n",
       "      <td>15246.333333</td>\n",
       "      <td>-1111.222222</td>\n",
       "      <td>-9.333333</td>\n",
       "      <td>0.777778</td>\n",
       "      <td>-96.888889</td>\n",
       "      <td>-8.555556</td>\n",
       "      <td>...</td>\n",
       "      <td>0.000214</td>\n",
       "      <td>0.001565</td>\n",
       "      <td>-0.000913</td>\n",
       "      <td>0.000000</td>\n",
       "      <td>0.000000</td>\n",
       "      <td>0.000000</td>\n",
       "      <td>0.006380</td>\n",
       "      <td>0.000000</td>\n",
       "      <td>3.298139e-04</td>\n",
       "      <td>6.995960e-03</td>\n",
       "    </tr>\n",
       "    <tr>\n",
       "      <th>1</th>\n",
       "      <td>7</td>\n",
       "      <td>small_video</td>\n",
       "      <td>total_total</td>\n",
       "      <td>0.0</td>\n",
       "      <td>13298.777778</td>\n",
       "      <td>-1369.333333</td>\n",
       "      <td>-6.555556</td>\n",
       "      <td>-72.555556</td>\n",
       "      <td>-12.944444</td>\n",
       "      <td>-6.333333</td>\n",
       "      <td>...</td>\n",
       "      <td>0.000192</td>\n",
       "      <td>0.001013</td>\n",
       "      <td>-0.001249</td>\n",
       "      <td>-0.000009</td>\n",
       "      <td>-0.000154</td>\n",
       "      <td>-0.055556</td>\n",
       "      <td>0.005451</td>\n",
       "      <td>-0.000072</td>\n",
       "      <td>-2.999248e-02</td>\n",
       "      <td>-1.849475e-01</td>\n",
       "    </tr>\n",
       "    <tr>\n",
       "      <th>2</th>\n",
       "      <td>7</td>\n",
       "      <td>total</td>\n",
       "      <td>total_recommend</td>\n",
       "      <td>0.0</td>\n",
       "      <td>-37.777778</td>\n",
       "      <td>103409.722222</td>\n",
       "      <td>4895.277778</td>\n",
       "      <td>6957.388889</td>\n",
       "      <td>4156.777778</td>\n",
       "      <td>1432.222222</td>\n",
       "      <td>...</td>\n",
       "      <td>-0.000394</td>\n",
       "      <td>0.000772</td>\n",
       "      <td>0.000347</td>\n",
       "      <td>-0.085444</td>\n",
       "      <td>-0.332943</td>\n",
       "      <td>0.000000</td>\n",
       "      <td>-0.062695</td>\n",
       "      <td>-0.002379</td>\n",
       "      <td>-4.331228e-02</td>\n",
       "      <td>-1.779977e-01</td>\n",
       "    </tr>\n",
       "    <tr>\n",
       "      <th>3</th>\n",
       "      <td>7</td>\n",
       "      <td>total</td>\n",
       "      <td>total_relative</td>\n",
       "      <td>0.0</td>\n",
       "      <td>-36.888889</td>\n",
       "      <td>-56296.388889</td>\n",
       "      <td>1300.388889</td>\n",
       "      <td>0.000000</td>\n",
       "      <td>3758.500000</td>\n",
       "      <td>945.388889</td>\n",
       "      <td>...</td>\n",
       "      <td>-0.000215</td>\n",
       "      <td>-0.003354</td>\n",
       "      <td>-0.005724</td>\n",
       "      <td>-0.160702</td>\n",
       "      <td>-0.361262</td>\n",
       "      <td>0.000000</td>\n",
       "      <td>-0.093470</td>\n",
       "      <td>-0.037520</td>\n",
       "      <td>-7.752390e-07</td>\n",
       "      <td>-1.112021e-06</td>\n",
       "    </tr>\n",
       "    <tr>\n",
       "      <th>4</th>\n",
       "      <td>7</td>\n",
       "      <td>total</td>\n",
       "      <td>total_total</td>\n",
       "      <td>0.0</td>\n",
       "      <td>-40.222222</td>\n",
       "      <td>24127.666667</td>\n",
       "      <td>4933.611111</td>\n",
       "      <td>5369.666667</td>\n",
       "      <td>1165.000000</td>\n",
       "      <td>1806.000000</td>\n",
       "      <td>...</td>\n",
       "      <td>-0.000122</td>\n",
       "      <td>-0.000064</td>\n",
       "      <td>0.000071</td>\n",
       "      <td>-0.136307</td>\n",
       "      <td>-0.501576</td>\n",
       "      <td>0.000000</td>\n",
       "      <td>-0.090477</td>\n",
       "      <td>-0.006912</td>\n",
       "      <td>-5.480165e-02</td>\n",
       "      <td>-2.064531e-01</td>\n",
       "    </tr>\n",
       "    <tr>\n",
       "      <th>5</th>\n",
       "      <td>7</td>\n",
       "      <td>tuwen</td>\n",
       "      <td>total_recommend</td>\n",
       "      <td>0.0</td>\n",
       "      <td>-816.888889</td>\n",
       "      <td>97812.500000</td>\n",
       "      <td>4895.277778</td>\n",
       "      <td>9781.055556</td>\n",
       "      <td>6755.388889</td>\n",
       "      <td>1418.333333</td>\n",
       "      <td>...</td>\n",
       "      <td>-0.000367</td>\n",
       "      <td>0.001229</td>\n",
       "      <td>0.000545</td>\n",
       "      <td>-0.057104</td>\n",
       "      <td>-0.244578</td>\n",
       "      <td>0.000000</td>\n",
       "      <td>-0.045300</td>\n",
       "      <td>-0.003202</td>\n",
       "      <td>-2.160852e-02</td>\n",
       "      <td>-1.105858e-01</td>\n",
       "    </tr>\n",
       "    <tr>\n",
       "      <th>6</th>\n",
       "      <td>7</td>\n",
       "      <td>tuwen</td>\n",
       "      <td>total_relative</td>\n",
       "      <td>0.0</td>\n",
       "      <td>-723.444444</td>\n",
       "      <td>18254.666667</td>\n",
       "      <td>1317.722222</td>\n",
       "      <td>0.000000</td>\n",
       "      <td>6303.166667</td>\n",
       "      <td>910.833333</td>\n",
       "      <td>...</td>\n",
       "      <td>-0.000844</td>\n",
       "      <td>-0.001900</td>\n",
       "      <td>-0.003067</td>\n",
       "      <td>-0.008638</td>\n",
       "      <td>-0.027410</td>\n",
       "      <td>0.000000</td>\n",
       "      <td>-0.045479</td>\n",
       "      <td>-0.001099</td>\n",
       "      <td>-9.221276e-07</td>\n",
       "      <td>-2.451089e-06</td>\n",
       "    </tr>\n",
       "    <tr>\n",
       "      <th>7</th>\n",
       "      <td>7</td>\n",
       "      <td>tuwen</td>\n",
       "      <td>total_total</td>\n",
       "      <td>0.0</td>\n",
       "      <td>-810.333333</td>\n",
       "      <td>116404.444444</td>\n",
       "      <td>4937.111111</td>\n",
       "      <td>9804.333333</td>\n",
       "      <td>13738.944444</td>\n",
       "      <td>1731.333333</td>\n",
       "      <td>...</td>\n",
       "      <td>-0.000443</td>\n",
       "      <td>0.000477</td>\n",
       "      <td>0.000539</td>\n",
       "      <td>-0.059462</td>\n",
       "      <td>-0.253158</td>\n",
       "      <td>0.000000</td>\n",
       "      <td>-0.053950</td>\n",
       "      <td>-0.001711</td>\n",
       "      <td>-2.310130e-02</td>\n",
       "      <td>-1.156393e-01</td>\n",
       "    </tr>\n",
       "    <tr>\n",
       "      <th>8</th>\n",
       "      <td>7</td>\n",
       "      <td>video</td>\n",
       "      <td>total_recommend</td>\n",
       "      <td>0.0</td>\n",
       "      <td>539.444444</td>\n",
       "      <td>6707.666667</td>\n",
       "      <td>3836.444444</td>\n",
       "      <td>-2824.722222</td>\n",
       "      <td>-2276.500000</td>\n",
       "      <td>1055.000000</td>\n",
       "      <td>...</td>\n",
       "      <td>-0.000800</td>\n",
       "      <td>-0.001404</td>\n",
       "      <td>-0.000092</td>\n",
       "      <td>-0.030177</td>\n",
       "      <td>-0.284878</td>\n",
       "      <td>0.000000</td>\n",
       "      <td>-0.018202</td>\n",
       "      <td>0.023667</td>\n",
       "      <td>-2.376072e-02</td>\n",
       "      <td>-2.305606e-01</td>\n",
       "    </tr>\n",
       "    <tr>\n",
       "      <th>9</th>\n",
       "      <td>7</td>\n",
       "      <td>video</td>\n",
       "      <td>total_relative</td>\n",
       "      <td>0.0</td>\n",
       "      <td>503.333333</td>\n",
       "      <td>-74551.055556</td>\n",
       "      <td>231.055556</td>\n",
       "      <td>0.000000</td>\n",
       "      <td>-2573.944444</td>\n",
       "      <td>116.388889</td>\n",
       "      <td>...</td>\n",
       "      <td>-0.000180</td>\n",
       "      <td>-0.006041</td>\n",
       "      <td>-0.005560</td>\n",
       "      <td>-0.343489</td>\n",
       "      <td>-0.574384</td>\n",
       "      <td>0.000000</td>\n",
       "      <td>-0.113363</td>\n",
       "      <td>-0.052845</td>\n",
       "      <td>-1.094060e-06</td>\n",
       "      <td>-8.727562e-07</td>\n",
       "    </tr>\n",
       "    <tr>\n",
       "      <th>10</th>\n",
       "      <td>7</td>\n",
       "      <td>video</td>\n",
       "      <td>total_total</td>\n",
       "      <td>0.0</td>\n",
       "      <td>539.111111</td>\n",
       "      <td>-90907.444444</td>\n",
       "      <td>3838.222222</td>\n",
       "      <td>-4362.111111</td>\n",
       "      <td>-12470.555556</td>\n",
       "      <td>1103.111111</td>\n",
       "      <td>...</td>\n",
       "      <td>-0.000332</td>\n",
       "      <td>-0.002412</td>\n",
       "      <td>-0.000561</td>\n",
       "      <td>-0.084146</td>\n",
       "      <td>-0.658652</td>\n",
       "      <td>0.000000</td>\n",
       "      <td>-0.039454</td>\n",
       "      <td>0.003462</td>\n",
       "      <td>-3.460858e-02</td>\n",
       "      <td>-2.826908e-01</td>\n",
       "    </tr>\n",
       "  </tbody>\n",
       "</table>\n",
       "<p>11 rows × 32 columns</p>\n",
       "</div>"
      ],
      "text/plain": [
       "    abtest         name         data_obj  date            id            dis  \\\n",
       "0        7  small_video  total_recommend   0.0  15246.333333   -1111.222222   \n",
       "1        7  small_video      total_total   0.0  13298.777778   -1369.333333   \n",
       "2        7        total  total_recommend   0.0    -37.777778  103409.722222   \n",
       "3        7        total   total_relative   0.0    -36.888889  -56296.388889   \n",
       "4        7        total      total_total   0.0    -40.222222   24127.666667   \n",
       "5        7        tuwen  total_recommend   0.0   -816.888889   97812.500000   \n",
       "6        7        tuwen   total_relative   0.0   -723.444444   18254.666667   \n",
       "7        7        tuwen      total_total   0.0   -810.333333  116404.444444   \n",
       "8        7        video  total_recommend   0.0    539.444444    6707.666667   \n",
       "9        7        video   total_relative   0.0    503.333333  -74551.055556   \n",
       "10       7        video      total_total   0.0    539.111111  -90907.444444   \n",
       "\n",
       "       dis_user  refresh_times      real_dis  real_dis_user  ...       ctr  \\\n",
       "0     -9.333333       0.777778    -96.888889      -8.555556  ...  0.000214   \n",
       "1     -6.555556     -72.555556    -12.944444      -6.333333  ...  0.000192   \n",
       "2   4895.277778    6957.388889   4156.777778    1432.222222  ... -0.000394   \n",
       "3   1300.388889       0.000000   3758.500000     945.388889  ... -0.000215   \n",
       "4   4933.611111    5369.666667   1165.000000    1806.000000  ... -0.000122   \n",
       "5   4895.277778    9781.055556   6755.388889    1418.333333  ... -0.000367   \n",
       "6   1317.722222       0.000000   6303.166667     910.833333  ... -0.000844   \n",
       "7   4937.111111    9804.333333  13738.944444    1731.333333  ... -0.000443   \n",
       "8   3836.444444   -2824.722222  -2276.500000    1055.000000  ... -0.000800   \n",
       "9    231.055556       0.000000  -2573.944444     116.388889  ... -0.000180   \n",
       "10  3838.222222   -4362.111111 -12470.555556    1103.111111  ... -0.000332   \n",
       "\n",
       "    real_ctr  read_ratio      dur1      dur2  finish_ratio  read_files  \\\n",
       "0   0.001565   -0.000913  0.000000  0.000000      0.000000    0.006380   \n",
       "1   0.001013   -0.001249 -0.000009 -0.000154     -0.055556    0.005451   \n",
       "2   0.000772    0.000347 -0.085444 -0.332943      0.000000   -0.062695   \n",
       "3  -0.003354   -0.005724 -0.160702 -0.361262      0.000000   -0.093470   \n",
       "4  -0.000064    0.000071 -0.136307 -0.501576      0.000000   -0.090477   \n",
       "5   0.001229    0.000545 -0.057104 -0.244578      0.000000   -0.045300   \n",
       "6  -0.001900   -0.003067 -0.008638 -0.027410      0.000000   -0.045479   \n",
       "7   0.000477    0.000539 -0.059462 -0.253158      0.000000   -0.053950   \n",
       "8  -0.001404   -0.000092 -0.030177 -0.284878      0.000000   -0.018202   \n",
       "9  -0.006041   -0.005560 -0.343489 -0.574384      0.000000   -0.113363   \n",
       "10 -0.002412   -0.000561 -0.084146 -0.658652      0.000000   -0.039454   \n",
       "\n",
       "     doc_dur       refresh      refresh2  \n",
       "0   0.000000  3.298139e-04  6.995960e-03  \n",
       "1  -0.000072 -2.999248e-02 -1.849475e-01  \n",
       "2  -0.002379 -4.331228e-02 -1.779977e-01  \n",
       "3  -0.037520 -7.752390e-07 -1.112021e-06  \n",
       "4  -0.006912 -5.480165e-02 -2.064531e-01  \n",
       "5  -0.003202 -2.160852e-02 -1.105858e-01  \n",
       "6  -0.001099 -9.221276e-07 -2.451089e-06  \n",
       "7  -0.001711 -2.310130e-02 -1.156393e-01  \n",
       "8   0.023667 -2.376072e-02 -2.305606e-01  \n",
       "9  -0.052845 -1.094060e-06 -8.727562e-07  \n",
       "10  0.003462 -3.460858e-02 -2.826908e-01  \n",
       "\n",
       "[11 rows x 32 columns]"
      ]
     },
     "execution_count": 15,
     "metadata": {},
     "output_type": "execute_result"
    }
   ],
   "source": [
    "worker_daily.natural_diff"
   ]
  },
  {
   "cell_type": "code",
   "execution_count": 16,
   "metadata": {},
   "outputs": [
    {
     "data": {
      "text/html": [
       "<div>\n",
       "<style scoped>\n",
       "    .dataframe tbody tr th:only-of-type {\n",
       "        vertical-align: middle;\n",
       "    }\n",
       "\n",
       "    .dataframe tbody tr th {\n",
       "        vertical-align: top;\n",
       "    }\n",
       "\n",
       "    .dataframe thead th {\n",
       "        text-align: right;\n",
       "    }\n",
       "</style>\n",
       "<table border=\"1\" class=\"dataframe\">\n",
       "  <thead>\n",
       "    <tr style=\"text-align: right;\">\n",
       "      <th></th>\n",
       "      <th>abtest</th>\n",
       "      <th>name</th>\n",
       "      <th>data_obj</th>\n",
       "      <th>date</th>\n",
       "      <th>id</th>\n",
       "      <th>dis</th>\n",
       "      <th>dis_user</th>\n",
       "      <th>refresh_times</th>\n",
       "      <th>real_dis</th>\n",
       "      <th>real_dis_user</th>\n",
       "      <th>...</th>\n",
       "      <th>ctr</th>\n",
       "      <th>real_ctr</th>\n",
       "      <th>read_ratio</th>\n",
       "      <th>dur1</th>\n",
       "      <th>dur2</th>\n",
       "      <th>finish_ratio</th>\n",
       "      <th>read_files</th>\n",
       "      <th>doc_dur</th>\n",
       "      <th>refresh</th>\n",
       "      <th>refresh2</th>\n",
       "    </tr>\n",
       "  </thead>\n",
       "  <tbody>\n",
       "    <tr>\n",
       "      <th>0</th>\n",
       "      <td>7</td>\n",
       "      <td>small_video</td>\n",
       "      <td>total_recommend</td>\n",
       "      <td>2.019862e+07</td>\n",
       "      <td>90922.666667</td>\n",
       "      <td>7.948189e+04</td>\n",
       "      <td>2287.166667</td>\n",
       "      <td>1.055556</td>\n",
       "      <td>1.015372e+04</td>\n",
       "      <td>2099.055556</td>\n",
       "      <td>...</td>\n",
       "      <td>0.003242</td>\n",
       "      <td>0.025357</td>\n",
       "      <td>0.050975</td>\n",
       "      <td>0.000000</td>\n",
       "      <td>0.000000</td>\n",
       "      <td>0.000000</td>\n",
       "      <td>0.113008</td>\n",
       "      <td>0.000000</td>\n",
       "      <td>0.000462</td>\n",
       "      <td>0.009146</td>\n",
       "    </tr>\n",
       "    <tr>\n",
       "      <th>1</th>\n",
       "      <td>7</td>\n",
       "      <td>small_video</td>\n",
       "      <td>total_total</td>\n",
       "      <td>2.019862e+07</td>\n",
       "      <td>95163.555556</td>\n",
       "      <td>8.777467e+04</td>\n",
       "      <td>2324.555556</td>\n",
       "      <td>1473.055556</td>\n",
       "      <td>1.121644e+04</td>\n",
       "      <td>2136.500000</td>\n",
       "      <td>...</td>\n",
       "      <td>0.003380</td>\n",
       "      <td>0.026470</td>\n",
       "      <td>0.055806</td>\n",
       "      <td>0.000009</td>\n",
       "      <td>0.000154</td>\n",
       "      <td>0.055556</td>\n",
       "      <td>0.127988</td>\n",
       "      <td>0.000072</td>\n",
       "      <td>0.633929</td>\n",
       "      <td>11.410094</td>\n",
       "    </tr>\n",
       "    <tr>\n",
       "      <th>2</th>\n",
       "      <td>7</td>\n",
       "      <td>total</td>\n",
       "      <td>total_recommend</td>\n",
       "      <td>2.019862e+07</td>\n",
       "      <td>177607.444444</td>\n",
       "      <td>8.952934e+06</td>\n",
       "      <td>188354.722222</td>\n",
       "      <td>592324.611111</td>\n",
       "      <td>3.290817e+06</td>\n",
       "      <td>72480.111111</td>\n",
       "      <td>...</td>\n",
       "      <td>0.065275</td>\n",
       "      <td>0.177366</td>\n",
       "      <td>0.268383</td>\n",
       "      <td>3.841176</td>\n",
       "      <td>14.256919</td>\n",
       "      <td>1.000000</td>\n",
       "      <td>3.113953</td>\n",
       "      <td>1.231676</td>\n",
       "      <td>3.146727</td>\n",
       "      <td>11.733796</td>\n",
       "    </tr>\n",
       "    <tr>\n",
       "      <th>3</th>\n",
       "      <td>7</td>\n",
       "      <td>total</td>\n",
       "      <td>total_relative</td>\n",
       "      <td>2.019862e+07</td>\n",
       "      <td>180235.888889</td>\n",
       "      <td>3.560714e+06</td>\n",
       "      <td>41183.111111</td>\n",
       "      <td>1.000000</td>\n",
       "      <td>6.463868e+05</td>\n",
       "      <td>35330.444444</td>\n",
       "      <td>...</td>\n",
       "      <td>0.019550</td>\n",
       "      <td>0.107415</td>\n",
       "      <td>0.371177</td>\n",
       "      <td>1.747842</td>\n",
       "      <td>4.688443</td>\n",
       "      <td>1.000000</td>\n",
       "      <td>1.690595</td>\n",
       "      <td>1.031452</td>\n",
       "      <td>0.000024</td>\n",
       "      <td>0.000066</td>\n",
       "    </tr>\n",
       "    <tr>\n",
       "      <th>4</th>\n",
       "      <td>7</td>\n",
       "      <td>total</td>\n",
       "      <td>total_total</td>\n",
       "      <td>2.019862e+07</td>\n",
       "      <td>176121.888889</td>\n",
       "      <td>1.300072e+07</td>\n",
       "      <td>190617.888889</td>\n",
       "      <td>625717.333333</td>\n",
       "      <td>4.157981e+06</td>\n",
       "      <td>80893.166667</td>\n",
       "      <td>...</td>\n",
       "      <td>0.051634</td>\n",
       "      <td>0.161265</td>\n",
       "      <td>0.271092</td>\n",
       "      <td>4.322834</td>\n",
       "      <td>15.882649</td>\n",
       "      <td>1.000000</td>\n",
       "      <td>3.536290</td>\n",
       "      <td>1.220391</td>\n",
       "      <td>3.284507</td>\n",
       "      <td>12.124051</td>\n",
       "    </tr>\n",
       "    <tr>\n",
       "      <th>5</th>\n",
       "      <td>7</td>\n",
       "      <td>tuwen</td>\n",
       "      <td>total_recommend</td>\n",
       "      <td>2.019862e+07</td>\n",
       "      <td>163295.555556</td>\n",
       "      <td>6.988861e+06</td>\n",
       "      <td>188354.722222</td>\n",
       "      <td>537037.611111</td>\n",
       "      <td>2.602714e+06</td>\n",
       "      <td>70831.000000</td>\n",
       "      <td>...</td>\n",
       "      <td>0.072017</td>\n",
       "      <td>0.193108</td>\n",
       "      <td>0.254917</td>\n",
       "      <td>2.873841</td>\n",
       "      <td>11.225378</td>\n",
       "      <td>1.000000</td>\n",
       "      <td>2.682127</td>\n",
       "      <td>1.069570</td>\n",
       "      <td>2.853735</td>\n",
       "      <td>11.203846</td>\n",
       "    </tr>\n",
       "    <tr>\n",
       "      <th>6</th>\n",
       "      <td>7</td>\n",
       "      <td>tuwen</td>\n",
       "      <td>total_relative</td>\n",
       "      <td>2.019862e+07</td>\n",
       "      <td>170936.777778</td>\n",
       "      <td>1.201538e+06</td>\n",
       "      <td>37811.944444</td>\n",
       "      <td>1.000000</td>\n",
       "      <td>4.913630e+05</td>\n",
       "      <td>27953.666667</td>\n",
       "      <td>...</td>\n",
       "      <td>0.031925</td>\n",
       "      <td>0.077957</td>\n",
       "      <td>0.239153</td>\n",
       "      <td>0.163422</td>\n",
       "      <td>0.680181</td>\n",
       "      <td>1.000000</td>\n",
       "      <td>1.016337</td>\n",
       "      <td>0.160692</td>\n",
       "      <td>0.000026</td>\n",
       "      <td>0.000111</td>\n",
       "    </tr>\n",
       "    <tr>\n",
       "      <th>7</th>\n",
       "      <td>7</td>\n",
       "      <td>tuwen</td>\n",
       "      <td>total_total</td>\n",
       "      <td>2.019862e+07</td>\n",
       "      <td>155230.000000</td>\n",
       "      <td>8.412100e+06</td>\n",
       "      <td>190317.222222</td>\n",
       "      <td>551818.833333</td>\n",
       "      <td>3.227945e+06</td>\n",
       "      <td>77703.666667</td>\n",
       "      <td>...</td>\n",
       "      <td>0.065203</td>\n",
       "      <td>0.169695</td>\n",
       "      <td>0.255911</td>\n",
       "      <td>2.916429</td>\n",
       "      <td>11.347061</td>\n",
       "      <td>1.000000</td>\n",
       "      <td>2.894347</td>\n",
       "      <td>1.006035</td>\n",
       "      <td>2.902058</td>\n",
       "      <td>11.348796</td>\n",
       "    </tr>\n",
       "    <tr>\n",
       "      <th>8</th>\n",
       "      <td>7</td>\n",
       "      <td>video</td>\n",
       "      <td>total_recommend</td>\n",
       "      <td>2.019862e+07</td>\n",
       "      <td>162599.888889</td>\n",
       "      <td>1.884592e+06</td>\n",
       "      <td>166089.888889</td>\n",
       "      <td>55286.722222</td>\n",
       "      <td>6.687750e+05</td>\n",
       "      <td>43636.833333</td>\n",
       "      <td>...</td>\n",
       "      <td>0.042061</td>\n",
       "      <td>0.118455</td>\n",
       "      <td>0.100688</td>\n",
       "      <td>1.080269</td>\n",
       "      <td>10.687055</td>\n",
       "      <td>1.000000</td>\n",
       "      <td>0.478837</td>\n",
       "      <td>2.252187</td>\n",
       "      <td>0.332274</td>\n",
       "      <td>3.302675</td>\n",
       "    </tr>\n",
       "    <tr>\n",
       "      <th>9</th>\n",
       "      <td>7</td>\n",
       "      <td>video</td>\n",
       "      <td>total_relative</td>\n",
       "      <td>2.019862e+07</td>\n",
       "      <td>170307.000000</td>\n",
       "      <td>2.359177e+06</td>\n",
       "      <td>15663.277778</td>\n",
       "      <td>1.000000</td>\n",
       "      <td>1.284643e+05</td>\n",
       "      <td>10536.111111</td>\n",
       "      <td>...</td>\n",
       "      <td>0.013050</td>\n",
       "      <td>0.239493</td>\n",
       "      <td>0.519882</td>\n",
       "      <td>4.190691</td>\n",
       "      <td>8.035360</td>\n",
       "      <td>1.000000</td>\n",
       "      <td>1.963181</td>\n",
       "      <td>2.127689</td>\n",
       "      <td>0.000064</td>\n",
       "      <td>0.000123</td>\n",
       "    </tr>\n",
       "    <tr>\n",
       "      <th>10</th>\n",
       "      <td>7</td>\n",
       "      <td>video</td>\n",
       "      <td>total_total</td>\n",
       "      <td>2.019862e+07</td>\n",
       "      <td>154531.555556</td>\n",
       "      <td>4.500842e+06</td>\n",
       "      <td>167118.944444</td>\n",
       "      <td>72425.444444</td>\n",
       "      <td>9.107069e+05</td>\n",
       "      <td>48148.222222</td>\n",
       "      <td>...</td>\n",
       "      <td>0.027049</td>\n",
       "      <td>0.133610</td>\n",
       "      <td>0.113940</td>\n",
       "      <td>1.600639</td>\n",
       "      <td>13.984071</td>\n",
       "      <td>1.000000</td>\n",
       "      <td>0.731394</td>\n",
       "      <td>2.183827</td>\n",
       "      <td>0.432605</td>\n",
       "      <td>3.797447</td>\n",
       "    </tr>\n",
       "  </tbody>\n",
       "</table>\n",
       "<p>11 rows × 32 columns</p>\n",
       "</div>"
      ],
      "text/plain": [
       "    abtest         name         data_obj          date             id  \\\n",
       "0        7  small_video  total_recommend  2.019862e+07   90922.666667   \n",
       "1        7  small_video      total_total  2.019862e+07   95163.555556   \n",
       "2        7        total  total_recommend  2.019862e+07  177607.444444   \n",
       "3        7        total   total_relative  2.019862e+07  180235.888889   \n",
       "4        7        total      total_total  2.019862e+07  176121.888889   \n",
       "5        7        tuwen  total_recommend  2.019862e+07  163295.555556   \n",
       "6        7        tuwen   total_relative  2.019862e+07  170936.777778   \n",
       "7        7        tuwen      total_total  2.019862e+07  155230.000000   \n",
       "8        7        video  total_recommend  2.019862e+07  162599.888889   \n",
       "9        7        video   total_relative  2.019862e+07  170307.000000   \n",
       "10       7        video      total_total  2.019862e+07  154531.555556   \n",
       "\n",
       "             dis       dis_user  refresh_times      real_dis  real_dis_user  \\\n",
       "0   7.948189e+04    2287.166667       1.055556  1.015372e+04    2099.055556   \n",
       "1   8.777467e+04    2324.555556    1473.055556  1.121644e+04    2136.500000   \n",
       "2   8.952934e+06  188354.722222  592324.611111  3.290817e+06   72480.111111   \n",
       "3   3.560714e+06   41183.111111       1.000000  6.463868e+05   35330.444444   \n",
       "4   1.300072e+07  190617.888889  625717.333333  4.157981e+06   80893.166667   \n",
       "5   6.988861e+06  188354.722222  537037.611111  2.602714e+06   70831.000000   \n",
       "6   1.201538e+06   37811.944444       1.000000  4.913630e+05   27953.666667   \n",
       "7   8.412100e+06  190317.222222  551818.833333  3.227945e+06   77703.666667   \n",
       "8   1.884592e+06  166089.888889   55286.722222  6.687750e+05   43636.833333   \n",
       "9   2.359177e+06   15663.277778       1.000000  1.284643e+05   10536.111111   \n",
       "10  4.500842e+06  167118.944444   72425.444444  9.107069e+05   48148.222222   \n",
       "\n",
       "    ...       ctr  real_ctr  read_ratio      dur1       dur2  finish_ratio  \\\n",
       "0   ...  0.003242  0.025357    0.050975  0.000000   0.000000      0.000000   \n",
       "1   ...  0.003380  0.026470    0.055806  0.000009   0.000154      0.055556   \n",
       "2   ...  0.065275  0.177366    0.268383  3.841176  14.256919      1.000000   \n",
       "3   ...  0.019550  0.107415    0.371177  1.747842   4.688443      1.000000   \n",
       "4   ...  0.051634  0.161265    0.271092  4.322834  15.882649      1.000000   \n",
       "5   ...  0.072017  0.193108    0.254917  2.873841  11.225378      1.000000   \n",
       "6   ...  0.031925  0.077957    0.239153  0.163422   0.680181      1.000000   \n",
       "7   ...  0.065203  0.169695    0.255911  2.916429  11.347061      1.000000   \n",
       "8   ...  0.042061  0.118455    0.100688  1.080269  10.687055      1.000000   \n",
       "9   ...  0.013050  0.239493    0.519882  4.190691   8.035360      1.000000   \n",
       "10  ...  0.027049  0.133610    0.113940  1.600639  13.984071      1.000000   \n",
       "\n",
       "    read_files   doc_dur   refresh   refresh2  \n",
       "0     0.113008  0.000000  0.000462   0.009146  \n",
       "1     0.127988  0.000072  0.633929  11.410094  \n",
       "2     3.113953  1.231676  3.146727  11.733796  \n",
       "3     1.690595  1.031452  0.000024   0.000066  \n",
       "4     3.536290  1.220391  3.284507  12.124051  \n",
       "5     2.682127  1.069570  2.853735  11.203846  \n",
       "6     1.016337  0.160692  0.000026   0.000111  \n",
       "7     2.894347  1.006035  2.902058  11.348796  \n",
       "8     0.478837  2.252187  0.332274   3.302675  \n",
       "9     1.963181  2.127689  0.000064   0.000123  \n",
       "10    0.731394  2.183827  0.432605   3.797447  \n",
       "\n",
       "[11 rows x 32 columns]"
      ]
     },
     "execution_count": 16,
     "metadata": {},
     "output_type": "execute_result"
    }
   ],
   "source": [
    "worker_daily.natural_base"
   ]
  },
  {
   "cell_type": "code",
   "execution_count": 17,
   "metadata": {},
   "outputs": [
    {
     "data": {
      "text/html": [
       "<div>\n",
       "<style scoped>\n",
       "    .dataframe tbody tr th:only-of-type {\n",
       "        vertical-align: middle;\n",
       "    }\n",
       "\n",
       "    .dataframe tbody tr th {\n",
       "        vertical-align: top;\n",
       "    }\n",
       "\n",
       "    .dataframe thead th {\n",
       "        text-align: right;\n",
       "    }\n",
       "</style>\n",
       "<table border=\"1\" class=\"dataframe\">\n",
       "  <thead>\n",
       "    <tr style=\"text-align: right;\">\n",
       "      <th></th>\n",
       "      <th>abtest</th>\n",
       "      <th>name</th>\n",
       "      <th>data_obj</th>\n",
       "      <th>date</th>\n",
       "      <th>id</th>\n",
       "      <th>dis</th>\n",
       "      <th>dis_user</th>\n",
       "      <th>refresh_times</th>\n",
       "      <th>real_dis</th>\n",
       "      <th>real_dis_user</th>\n",
       "      <th>...</th>\n",
       "      <th>ctr</th>\n",
       "      <th>real_ctr</th>\n",
       "      <th>read_ratio</th>\n",
       "      <th>dur1</th>\n",
       "      <th>dur2</th>\n",
       "      <th>finish_ratio</th>\n",
       "      <th>read_files</th>\n",
       "      <th>doc_dur</th>\n",
       "      <th>refresh</th>\n",
       "      <th>refresh2</th>\n",
       "    </tr>\n",
       "  </thead>\n",
       "  <tbody>\n",
       "    <tr>\n",
       "      <th>0</th>\n",
       "      <td>7</td>\n",
       "      <td>small_video</td>\n",
       "      <td>total_recommend</td>\n",
       "      <td>0.0</td>\n",
       "      <td>0.167685</td>\n",
       "      <td>-0.013981</td>\n",
       "      <td>-0.004081</td>\n",
       "      <td>0.736842</td>\n",
       "      <td>-0.009542</td>\n",
       "      <td>-0.004076</td>\n",
       "      <td>...</td>\n",
       "      <td>0.065906</td>\n",
       "      <td>0.061722</td>\n",
       "      <td>-0.017909</td>\n",
       "      <td>0.000000</td>\n",
       "      <td>0.000000</td>\n",
       "      <td>0.0</td>\n",
       "      <td>0.056458</td>\n",
       "      <td>0.000000</td>\n",
       "      <td>0.714520</td>\n",
       "      <td>0.764905</td>\n",
       "    </tr>\n",
       "    <tr>\n",
       "      <th>1</th>\n",
       "      <td>7</td>\n",
       "      <td>small_video</td>\n",
       "      <td>total_total</td>\n",
       "      <td>0.0</td>\n",
       "      <td>0.139747</td>\n",
       "      <td>-0.015601</td>\n",
       "      <td>-0.002820</td>\n",
       "      <td>-0.049255</td>\n",
       "      <td>-0.001154</td>\n",
       "      <td>-0.002964</td>\n",
       "      <td>...</td>\n",
       "      <td>0.056791</td>\n",
       "      <td>0.038253</td>\n",
       "      <td>-0.022384</td>\n",
       "      <td>-1.000000</td>\n",
       "      <td>-1.000000</td>\n",
       "      <td>-1.0</td>\n",
       "      <td>0.042594</td>\n",
       "      <td>-1.000000</td>\n",
       "      <td>-0.047312</td>\n",
       "      <td>-0.016209</td>\n",
       "    </tr>\n",
       "    <tr>\n",
       "      <th>2</th>\n",
       "      <td>7</td>\n",
       "      <td>total</td>\n",
       "      <td>total_recommend</td>\n",
       "      <td>0.0</td>\n",
       "      <td>-0.000213</td>\n",
       "      <td>0.011550</td>\n",
       "      <td>0.025990</td>\n",
       "      <td>0.011746</td>\n",
       "      <td>0.001263</td>\n",
       "      <td>0.019760</td>\n",
       "      <td>...</td>\n",
       "      <td>-0.006029</td>\n",
       "      <td>0.004352</td>\n",
       "      <td>0.001292</td>\n",
       "      <td>-0.022244</td>\n",
       "      <td>-0.023353</td>\n",
       "      <td>0.0</td>\n",
       "      <td>-0.020133</td>\n",
       "      <td>-0.001931</td>\n",
       "      <td>-0.013764</td>\n",
       "      <td>-0.015170</td>\n",
       "    </tr>\n",
       "    <tr>\n",
       "      <th>3</th>\n",
       "      <td>7</td>\n",
       "      <td>total</td>\n",
       "      <td>total_relative</td>\n",
       "      <td>0.0</td>\n",
       "      <td>-0.000205</td>\n",
       "      <td>-0.015810</td>\n",
       "      <td>0.031576</td>\n",
       "      <td>0.000000</td>\n",
       "      <td>0.005815</td>\n",
       "      <td>0.026758</td>\n",
       "      <td>...</td>\n",
       "      <td>-0.010999</td>\n",
       "      <td>-0.031227</td>\n",
       "      <td>-0.015422</td>\n",
       "      <td>-0.091943</td>\n",
       "      <td>-0.077054</td>\n",
       "      <td>0.0</td>\n",
       "      <td>-0.055288</td>\n",
       "      <td>-0.036376</td>\n",
       "      <td>-0.031878</td>\n",
       "      <td>-0.016934</td>\n",
       "    </tr>\n",
       "    <tr>\n",
       "      <th>4</th>\n",
       "      <td>7</td>\n",
       "      <td>total</td>\n",
       "      <td>total_total</td>\n",
       "      <td>0.0</td>\n",
       "      <td>-0.000228</td>\n",
       "      <td>0.001856</td>\n",
       "      <td>0.025882</td>\n",
       "      <td>0.008582</td>\n",
       "      <td>0.000280</td>\n",
       "      <td>0.022326</td>\n",
       "      <td>...</td>\n",
       "      <td>-0.002371</td>\n",
       "      <td>-0.000395</td>\n",
       "      <td>0.000264</td>\n",
       "      <td>-0.031532</td>\n",
       "      <td>-0.031580</td>\n",
       "      <td>0.0</td>\n",
       "      <td>-0.025585</td>\n",
       "      <td>-0.005664</td>\n",
       "      <td>-0.016685</td>\n",
       "      <td>-0.017028</td>\n",
       "    </tr>\n",
       "    <tr>\n",
       "      <th>5</th>\n",
       "      <td>7</td>\n",
       "      <td>tuwen</td>\n",
       "      <td>total_recommend</td>\n",
       "      <td>0.0</td>\n",
       "      <td>-0.005003</td>\n",
       "      <td>0.013995</td>\n",
       "      <td>0.025990</td>\n",
       "      <td>0.018213</td>\n",
       "      <td>0.002596</td>\n",
       "      <td>0.020024</td>\n",
       "      <td>...</td>\n",
       "      <td>-0.005093</td>\n",
       "      <td>0.006364</td>\n",
       "      <td>0.002137</td>\n",
       "      <td>-0.019870</td>\n",
       "      <td>-0.021788</td>\n",
       "      <td>0.0</td>\n",
       "      <td>-0.016889</td>\n",
       "      <td>-0.002994</td>\n",
       "      <td>-0.007572</td>\n",
       "      <td>-0.009870</td>\n",
       "    </tr>\n",
       "    <tr>\n",
       "      <th>6</th>\n",
       "      <td>7</td>\n",
       "      <td>tuwen</td>\n",
       "      <td>total_relative</td>\n",
       "      <td>0.0</td>\n",
       "      <td>-0.004232</td>\n",
       "      <td>0.015193</td>\n",
       "      <td>0.034849</td>\n",
       "      <td>0.000000</td>\n",
       "      <td>0.012828</td>\n",
       "      <td>0.032584</td>\n",
       "      <td>...</td>\n",
       "      <td>-0.026447</td>\n",
       "      <td>-0.024378</td>\n",
       "      <td>-0.012824</td>\n",
       "      <td>-0.052857</td>\n",
       "      <td>-0.040299</td>\n",
       "      <td>0.0</td>\n",
       "      <td>-0.044748</td>\n",
       "      <td>-0.006842</td>\n",
       "      <td>-0.034817</td>\n",
       "      <td>-0.022075</td>\n",
       "    </tr>\n",
       "    <tr>\n",
       "      <th>7</th>\n",
       "      <td>7</td>\n",
       "      <td>tuwen</td>\n",
       "      <td>total_total</td>\n",
       "      <td>0.0</td>\n",
       "      <td>-0.005220</td>\n",
       "      <td>0.013838</td>\n",
       "      <td>0.025941</td>\n",
       "      <td>0.017767</td>\n",
       "      <td>0.004256</td>\n",
       "      <td>0.022281</td>\n",
       "      <td>...</td>\n",
       "      <td>-0.006788</td>\n",
       "      <td>0.002812</td>\n",
       "      <td>0.002106</td>\n",
       "      <td>-0.020389</td>\n",
       "      <td>-0.022310</td>\n",
       "      <td>0.0</td>\n",
       "      <td>-0.018640</td>\n",
       "      <td>-0.001701</td>\n",
       "      <td>-0.007960</td>\n",
       "      <td>-0.010190</td>\n",
       "    </tr>\n",
       "    <tr>\n",
       "      <th>8</th>\n",
       "      <td>7</td>\n",
       "      <td>video</td>\n",
       "      <td>total_recommend</td>\n",
       "      <td>0.0</td>\n",
       "      <td>0.003318</td>\n",
       "      <td>0.003559</td>\n",
       "      <td>0.023099</td>\n",
       "      <td>-0.051092</td>\n",
       "      <td>-0.003404</td>\n",
       "      <td>0.024177</td>\n",
       "      <td>...</td>\n",
       "      <td>-0.019029</td>\n",
       "      <td>-0.011851</td>\n",
       "      <td>-0.000912</td>\n",
       "      <td>-0.027934</td>\n",
       "      <td>-0.026656</td>\n",
       "      <td>0.0</td>\n",
       "      <td>-0.038013</td>\n",
       "      <td>0.010508</td>\n",
       "      <td>-0.071509</td>\n",
       "      <td>-0.069810</td>\n",
       "    </tr>\n",
       "    <tr>\n",
       "      <th>9</th>\n",
       "      <td>7</td>\n",
       "      <td>video</td>\n",
       "      <td>total_relative</td>\n",
       "      <td>0.0</td>\n",
       "      <td>0.002955</td>\n",
       "      <td>-0.031600</td>\n",
       "      <td>0.014751</td>\n",
       "      <td>0.000000</td>\n",
       "      <td>-0.020036</td>\n",
       "      <td>0.011047</td>\n",
       "      <td>...</td>\n",
       "      <td>-0.013756</td>\n",
       "      <td>-0.025224</td>\n",
       "      <td>-0.010695</td>\n",
       "      <td>-0.081965</td>\n",
       "      <td>-0.071482</td>\n",
       "      <td>0.0</td>\n",
       "      <td>-0.057744</td>\n",
       "      <td>-0.024837</td>\n",
       "      <td>-0.017075</td>\n",
       "      <td>-0.007070</td>\n",
       "    </tr>\n",
       "    <tr>\n",
       "      <th>10</th>\n",
       "      <td>7</td>\n",
       "      <td>video</td>\n",
       "      <td>total_total</td>\n",
       "      <td>0.0</td>\n",
       "      <td>0.003489</td>\n",
       "      <td>-0.020198</td>\n",
       "      <td>0.022967</td>\n",
       "      <td>-0.060229</td>\n",
       "      <td>-0.013693</td>\n",
       "      <td>0.022911</td>\n",
       "      <td>...</td>\n",
       "      <td>-0.012283</td>\n",
       "      <td>-0.018051</td>\n",
       "      <td>-0.004924</td>\n",
       "      <td>-0.052571</td>\n",
       "      <td>-0.047100</td>\n",
       "      <td>0.0</td>\n",
       "      <td>-0.053944</td>\n",
       "      <td>0.001585</td>\n",
       "      <td>-0.080000</td>\n",
       "      <td>-0.074442</td>\n",
       "    </tr>\n",
       "  </tbody>\n",
       "</table>\n",
       "<p>11 rows × 32 columns</p>\n",
       "</div>"
      ],
      "text/plain": [
       "    abtest         name         data_obj  date        id       dis  dis_user  \\\n",
       "0        7  small_video  total_recommend   0.0  0.167685 -0.013981 -0.004081   \n",
       "1        7  small_video      total_total   0.0  0.139747 -0.015601 -0.002820   \n",
       "2        7        total  total_recommend   0.0 -0.000213  0.011550  0.025990   \n",
       "3        7        total   total_relative   0.0 -0.000205 -0.015810  0.031576   \n",
       "4        7        total      total_total   0.0 -0.000228  0.001856  0.025882   \n",
       "5        7        tuwen  total_recommend   0.0 -0.005003  0.013995  0.025990   \n",
       "6        7        tuwen   total_relative   0.0 -0.004232  0.015193  0.034849   \n",
       "7        7        tuwen      total_total   0.0 -0.005220  0.013838  0.025941   \n",
       "8        7        video  total_recommend   0.0  0.003318  0.003559  0.023099   \n",
       "9        7        video   total_relative   0.0  0.002955 -0.031600  0.014751   \n",
       "10       7        video      total_total   0.0  0.003489 -0.020198  0.022967   \n",
       "\n",
       "    refresh_times  real_dis  real_dis_user  ...       ctr  real_ctr  \\\n",
       "0        0.736842 -0.009542      -0.004076  ...  0.065906  0.061722   \n",
       "1       -0.049255 -0.001154      -0.002964  ...  0.056791  0.038253   \n",
       "2        0.011746  0.001263       0.019760  ... -0.006029  0.004352   \n",
       "3        0.000000  0.005815       0.026758  ... -0.010999 -0.031227   \n",
       "4        0.008582  0.000280       0.022326  ... -0.002371 -0.000395   \n",
       "5        0.018213  0.002596       0.020024  ... -0.005093  0.006364   \n",
       "6        0.000000  0.012828       0.032584  ... -0.026447 -0.024378   \n",
       "7        0.017767  0.004256       0.022281  ... -0.006788  0.002812   \n",
       "8       -0.051092 -0.003404       0.024177  ... -0.019029 -0.011851   \n",
       "9        0.000000 -0.020036       0.011047  ... -0.013756 -0.025224   \n",
       "10      -0.060229 -0.013693       0.022911  ... -0.012283 -0.018051   \n",
       "\n",
       "    read_ratio      dur1      dur2  finish_ratio  read_files   doc_dur  \\\n",
       "0    -0.017909  0.000000  0.000000           0.0    0.056458  0.000000   \n",
       "1    -0.022384 -1.000000 -1.000000          -1.0    0.042594 -1.000000   \n",
       "2     0.001292 -0.022244 -0.023353           0.0   -0.020133 -0.001931   \n",
       "3    -0.015422 -0.091943 -0.077054           0.0   -0.055288 -0.036376   \n",
       "4     0.000264 -0.031532 -0.031580           0.0   -0.025585 -0.005664   \n",
       "5     0.002137 -0.019870 -0.021788           0.0   -0.016889 -0.002994   \n",
       "6    -0.012824 -0.052857 -0.040299           0.0   -0.044748 -0.006842   \n",
       "7     0.002106 -0.020389 -0.022310           0.0   -0.018640 -0.001701   \n",
       "8    -0.000912 -0.027934 -0.026656           0.0   -0.038013  0.010508   \n",
       "9    -0.010695 -0.081965 -0.071482           0.0   -0.057744 -0.024837   \n",
       "10   -0.004924 -0.052571 -0.047100           0.0   -0.053944  0.001585   \n",
       "\n",
       "     refresh  refresh2  \n",
       "0   0.714520  0.764905  \n",
       "1  -0.047312 -0.016209  \n",
       "2  -0.013764 -0.015170  \n",
       "3  -0.031878 -0.016934  \n",
       "4  -0.016685 -0.017028  \n",
       "5  -0.007572 -0.009870  \n",
       "6  -0.034817 -0.022075  \n",
       "7  -0.007960 -0.010190  \n",
       "8  -0.071509 -0.069810  \n",
       "9  -0.017075 -0.007070  \n",
       "10 -0.080000 -0.074442  \n",
       "\n",
       "[11 rows x 32 columns]"
      ]
     },
     "execution_count": 17,
     "metadata": {},
     "output_type": "execute_result"
    }
   ],
   "source": [
    "worker_daily.natural_ratio"
   ]
  },
  {
   "cell_type": "code",
   "execution_count": 18,
   "metadata": {},
   "outputs": [
    {
     "data": {
      "text/html": [
       "<div>\n",
       "<style scoped>\n",
       "    .dataframe tbody tr th:only-of-type {\n",
       "        vertical-align: middle;\n",
       "    }\n",
       "\n",
       "    .dataframe tbody tr th {\n",
       "        vertical-align: top;\n",
       "    }\n",
       "\n",
       "    .dataframe thead th {\n",
       "        text-align: right;\n",
       "    }\n",
       "</style>\n",
       "<table border=\"1\" class=\"dataframe\">\n",
       "  <thead>\n",
       "    <tr style=\"text-align: right;\">\n",
       "      <th></th>\n",
       "      <th>product_name</th>\n",
       "      <th>date</th>\n",
       "      <th>name</th>\n",
       "      <th>data_obj</th>\n",
       "      <th>abtest</th>\n",
       "      <th>id</th>\n",
       "      <th>dis</th>\n",
       "      <th>dis_user</th>\n",
       "      <th>refresh_times</th>\n",
       "      <th>real_dis</th>\n",
       "      <th>...</th>\n",
       "      <th>ctr</th>\n",
       "      <th>real_ctr</th>\n",
       "      <th>read_ratio</th>\n",
       "      <th>dur1</th>\n",
       "      <th>dur2</th>\n",
       "      <th>finish_ratio</th>\n",
       "      <th>read_files</th>\n",
       "      <th>doc_dur</th>\n",
       "      <th>refresh</th>\n",
       "      <th>refresh2</th>\n",
       "    </tr>\n",
       "  </thead>\n",
       "  <tbody>\n",
       "    <tr>\n",
       "      <th>0</th>\n",
       "      <td>newmse</td>\n",
       "      <td>20191227</td>\n",
       "      <td>video</td>\n",
       "      <td>total_relative</td>\n",
       "      <td>7</td>\n",
       "      <td>19628</td>\n",
       "      <td>2184652.0</td>\n",
       "      <td>15853.0</td>\n",
       "      <td>1.0</td>\n",
       "      <td>115263.0</td>\n",
       "      <td>...</td>\n",
       "      <td>0.011194</td>\n",
       "      <td>0.212167</td>\n",
       "      <td>0.472907</td>\n",
       "      <td>3.124552</td>\n",
       "      <td>6.607112</td>\n",
       "      <td>1.0</td>\n",
       "      <td>1.542610</td>\n",
       "      <td>2.025496</td>\n",
       "      <td>0.000063</td>\n",
       "      <td>0.000133</td>\n",
       "    </tr>\n",
       "    <tr>\n",
       "      <th>1</th>\n",
       "      <td>newmse</td>\n",
       "      <td>20191227</td>\n",
       "      <td>video</td>\n",
       "      <td>total_total</td>\n",
       "      <td>7</td>\n",
       "      <td>3910</td>\n",
       "      <td>4205972.0</td>\n",
       "      <td>179204.0</td>\n",
       "      <td>62744.0</td>\n",
       "      <td>820006.0</td>\n",
       "      <td>...</td>\n",
       "      <td>0.024314</td>\n",
       "      <td>0.124714</td>\n",
       "      <td>0.104049</td>\n",
       "      <td>1.241335</td>\n",
       "      <td>11.930294</td>\n",
       "      <td>1.0</td>\n",
       "      <td>0.570668</td>\n",
       "      <td>2.175232</td>\n",
       "      <td>0.350126</td>\n",
       "      <td>3.365011</td>\n",
       "    </tr>\n",
       "    <tr>\n",
       "      <th>2</th>\n",
       "      <td>newmse</td>\n",
       "      <td>20191227</td>\n",
       "      <td>small_video</td>\n",
       "      <td>total_total</td>\n",
       "      <td>7</td>\n",
       "      <td>2778</td>\n",
       "      <td>77540.0</td>\n",
       "      <td>2119.0</td>\n",
       "      <td>1285.0</td>\n",
       "      <td>10127.0</td>\n",
       "      <td>...</td>\n",
       "      <td>0.003766</td>\n",
       "      <td>0.028834</td>\n",
       "      <td>0.058518</td>\n",
       "      <td>0.000000</td>\n",
       "      <td>0.000000</td>\n",
       "      <td>0.0</td>\n",
       "      <td>0.137801</td>\n",
       "      <td>0.000000</td>\n",
       "      <td>0.606418</td>\n",
       "      <td>10.362903</td>\n",
       "    </tr>\n",
       "    <tr>\n",
       "      <th>3</th>\n",
       "      <td>newmse</td>\n",
       "      <td>20191227</td>\n",
       "      <td>total</td>\n",
       "      <td>total_recommend</td>\n",
       "      <td>7</td>\n",
       "      <td>26626</td>\n",
       "      <td>8631519.0</td>\n",
       "      <td>202396.0</td>\n",
       "      <td>571428.0</td>\n",
       "      <td>3030609.0</td>\n",
       "      <td>...</td>\n",
       "      <td>0.059452</td>\n",
       "      <td>0.169326</td>\n",
       "      <td>0.249091</td>\n",
       "      <td>3.138709</td>\n",
       "      <td>12.600657</td>\n",
       "      <td>1.0</td>\n",
       "      <td>2.535431</td>\n",
       "      <td>1.237939</td>\n",
       "      <td>2.823317</td>\n",
       "      <td>11.334484</td>\n",
       "    </tr>\n",
       "    <tr>\n",
       "      <th>4</th>\n",
       "      <td>newmse</td>\n",
       "      <td>20191227</td>\n",
       "      <td>total</td>\n",
       "      <td>total_total</td>\n",
       "      <td>7</td>\n",
       "      <td>24524</td>\n",
       "      <td>12373155.0</td>\n",
       "      <td>204794.0</td>\n",
       "      <td>600158.0</td>\n",
       "      <td>3817345.0</td>\n",
       "      <td>...</td>\n",
       "      <td>0.047227</td>\n",
       "      <td>0.153078</td>\n",
       "      <td>0.251326</td>\n",
       "      <td>3.477053</td>\n",
       "      <td>13.834849</td>\n",
       "      <td>1.0</td>\n",
       "      <td>2.853370</td>\n",
       "      <td>1.218578</td>\n",
       "      <td>2.930545</td>\n",
       "      <td>11.660346</td>\n",
       "    </tr>\n",
       "    <tr>\n",
       "      <th>...</th>\n",
       "      <td>...</td>\n",
       "      <td>...</td>\n",
       "      <td>...</td>\n",
       "      <td>...</td>\n",
       "      <td>...</td>\n",
       "      <td>...</td>\n",
       "      <td>...</td>\n",
       "      <td>...</td>\n",
       "      <td>...</td>\n",
       "      <td>...</td>\n",
       "      <td>...</td>\n",
       "      <td>...</td>\n",
       "      <td>...</td>\n",
       "      <td>...</td>\n",
       "      <td>...</td>\n",
       "      <td>...</td>\n",
       "      <td>...</td>\n",
       "      <td>...</td>\n",
       "      <td>...</td>\n",
       "      <td>...</td>\n",
       "      <td>...</td>\n",
       "    </tr>\n",
       "    <tr>\n",
       "      <th>159</th>\n",
       "      <td>newmse</td>\n",
       "      <td>20200113</td>\n",
       "      <td>tuwen</td>\n",
       "      <td>total_total</td>\n",
       "      <td>7</td>\n",
       "      <td>557756</td>\n",
       "      <td>8334856.0</td>\n",
       "      <td>187741.0</td>\n",
       "      <td>527917.0</td>\n",
       "      <td>3002963.0</td>\n",
       "      <td>...</td>\n",
       "      <td>0.052050</td>\n",
       "      <td>0.144468</td>\n",
       "      <td>0.247964</td>\n",
       "      <td>2.445811</td>\n",
       "      <td>9.863575</td>\n",
       "      <td>1.0</td>\n",
       "      <td>2.310795</td>\n",
       "      <td>1.058428</td>\n",
       "      <td>2.811943</td>\n",
       "      <td>11.340128</td>\n",
       "    </tr>\n",
       "    <tr>\n",
       "      <th>160</th>\n",
       "      <td>newmse</td>\n",
       "      <td>20200113</td>\n",
       "      <td>total</td>\n",
       "      <td>total_relative</td>\n",
       "      <td>7</td>\n",
       "      <td>584084</td>\n",
       "      <td>3547770.0</td>\n",
       "      <td>42416.0</td>\n",
       "      <td>1.0</td>\n",
       "      <td>585289.0</td>\n",
       "      <td>...</td>\n",
       "      <td>0.015496</td>\n",
       "      <td>0.093930</td>\n",
       "      <td>0.324972</td>\n",
       "      <td>1.285582</td>\n",
       "      <td>3.955982</td>\n",
       "      <td>1.0</td>\n",
       "      <td>1.296115</td>\n",
       "      <td>0.991874</td>\n",
       "      <td>0.000024</td>\n",
       "      <td>0.000073</td>\n",
       "    </tr>\n",
       "    <tr>\n",
       "      <th>161</th>\n",
       "      <td>newmse</td>\n",
       "      <td>20200113</td>\n",
       "      <td>tuwen</td>\n",
       "      <td>total_recommend</td>\n",
       "      <td>7</td>\n",
       "      <td>566148</td>\n",
       "      <td>6851290.0</td>\n",
       "      <td>185702.0</td>\n",
       "      <td>513426.0</td>\n",
       "      <td>2443148.0</td>\n",
       "      <td>...</td>\n",
       "      <td>0.058016</td>\n",
       "      <td>0.162693</td>\n",
       "      <td>0.246917</td>\n",
       "      <td>2.413918</td>\n",
       "      <td>9.776228</td>\n",
       "      <td>1.0</td>\n",
       "      <td>2.140440</td>\n",
       "      <td>1.127767</td>\n",
       "      <td>2.764784</td>\n",
       "      <td>11.197217</td>\n",
       "    </tr>\n",
       "    <tr>\n",
       "      <th>162</th>\n",
       "      <td>newmse</td>\n",
       "      <td>20200113</td>\n",
       "      <td>tuwen</td>\n",
       "      <td>total_relative</td>\n",
       "      <td>7</td>\n",
       "      <td>574036</td>\n",
       "      <td>1266260.0</td>\n",
       "      <td>39291.0</td>\n",
       "      <td>1.0</td>\n",
       "      <td>446270.0</td>\n",
       "      <td>...</td>\n",
       "      <td>0.023870</td>\n",
       "      <td>0.067728</td>\n",
       "      <td>0.207885</td>\n",
       "      <td>0.123432</td>\n",
       "      <td>0.593754</td>\n",
       "      <td>1.0</td>\n",
       "      <td>0.769260</td>\n",
       "      <td>0.160456</td>\n",
       "      <td>0.000025</td>\n",
       "      <td>0.000122</td>\n",
       "    </tr>\n",
       "    <tr>\n",
       "      <th>163</th>\n",
       "      <td>newmse</td>\n",
       "      <td>20200113</td>\n",
       "      <td>total</td>\n",
       "      <td>total_total</td>\n",
       "      <td>7</td>\n",
       "      <td>579584</td>\n",
       "      <td>12752760.0</td>\n",
       "      <td>188031.0</td>\n",
       "      <td>608033.0</td>\n",
       "      <td>3878914.0</td>\n",
       "      <td>...</td>\n",
       "      <td>0.042247</td>\n",
       "      <td>0.138896</td>\n",
       "      <td>0.264244</td>\n",
       "      <td>3.647313</td>\n",
       "      <td>13.802841</td>\n",
       "      <td>1.0</td>\n",
       "      <td>2.865304</td>\n",
       "      <td>1.272924</td>\n",
       "      <td>3.233685</td>\n",
       "      <td>12.237512</td>\n",
       "    </tr>\n",
       "  </tbody>\n",
       "</table>\n",
       "<p>164 rows × 33 columns</p>\n",
       "</div>"
      ],
      "text/plain": [
       "    product_name      date         name         data_obj  abtest      id  \\\n",
       "0         newmse  20191227        video   total_relative       7   19628   \n",
       "1         newmse  20191227        video      total_total       7    3910   \n",
       "2         newmse  20191227  small_video      total_total       7    2778   \n",
       "3         newmse  20191227        total  total_recommend       7   26626   \n",
       "4         newmse  20191227        total      total_total       7   24524   \n",
       "..           ...       ...          ...              ...     ...     ...   \n",
       "159       newmse  20200113        tuwen      total_total       7  557756   \n",
       "160       newmse  20200113        total   total_relative       7  584084   \n",
       "161       newmse  20200113        tuwen  total_recommend       7  566148   \n",
       "162       newmse  20200113        tuwen   total_relative       7  574036   \n",
       "163       newmse  20200113        total      total_total       7  579584   \n",
       "\n",
       "            dis  dis_user  refresh_times   real_dis  ...       ctr  real_ctr  \\\n",
       "0     2184652.0   15853.0            1.0   115263.0  ...  0.011194  0.212167   \n",
       "1     4205972.0  179204.0        62744.0   820006.0  ...  0.024314  0.124714   \n",
       "2       77540.0    2119.0         1285.0    10127.0  ...  0.003766  0.028834   \n",
       "3     8631519.0  202396.0       571428.0  3030609.0  ...  0.059452  0.169326   \n",
       "4    12373155.0  204794.0       600158.0  3817345.0  ...  0.047227  0.153078   \n",
       "..          ...       ...            ...        ...  ...       ...       ...   \n",
       "159   8334856.0  187741.0       527917.0  3002963.0  ...  0.052050  0.144468   \n",
       "160   3547770.0   42416.0            1.0   585289.0  ...  0.015496  0.093930   \n",
       "161   6851290.0  185702.0       513426.0  2443148.0  ...  0.058016  0.162693   \n",
       "162   1266260.0   39291.0            1.0   446270.0  ...  0.023870  0.067728   \n",
       "163  12752760.0  188031.0       608033.0  3878914.0  ...  0.042247  0.138896   \n",
       "\n",
       "     read_ratio      dur1       dur2  finish_ratio  read_files   doc_dur  \\\n",
       "0      0.472907  3.124552   6.607112           1.0    1.542610  2.025496   \n",
       "1      0.104049  1.241335  11.930294           1.0    0.570668  2.175232   \n",
       "2      0.058518  0.000000   0.000000           0.0    0.137801  0.000000   \n",
       "3      0.249091  3.138709  12.600657           1.0    2.535431  1.237939   \n",
       "4      0.251326  3.477053  13.834849           1.0    2.853370  1.218578   \n",
       "..          ...       ...        ...           ...         ...       ...   \n",
       "159    0.247964  2.445811   9.863575           1.0    2.310795  1.058428   \n",
       "160    0.324972  1.285582   3.955982           1.0    1.296115  0.991874   \n",
       "161    0.246917  2.413918   9.776228           1.0    2.140440  1.127767   \n",
       "162    0.207885  0.123432   0.593754           1.0    0.769260  0.160456   \n",
       "163    0.264244  3.647313  13.802841           1.0    2.865304  1.272924   \n",
       "\n",
       "      refresh   refresh2  \n",
       "0    0.000063   0.000133  \n",
       "1    0.350126   3.365011  \n",
       "2    0.606418  10.362903  \n",
       "3    2.823317  11.334484  \n",
       "4    2.930545  11.660346  \n",
       "..        ...        ...  \n",
       "159  2.811943  11.340128  \n",
       "160  0.000024   0.000073  \n",
       "161  2.764784  11.197217  \n",
       "162  0.000025   0.000122  \n",
       "163  3.233685  12.237512  \n",
       "\n",
       "[164 rows x 33 columns]"
      ]
     },
     "execution_count": 18,
     "metadata": {},
     "output_type": "execute_result"
    }
   ],
   "source": [
    "worker_daily.df"
   ]
  },
  {
   "cell_type": "code",
   "execution_count": 19,
   "metadata": {},
   "outputs": [
    {
     "data": {
      "text/html": [
       "<div>\n",
       "<style scoped>\n",
       "    .dataframe tbody tr th:only-of-type {\n",
       "        vertical-align: middle;\n",
       "    }\n",
       "\n",
       "    .dataframe tbody tr th {\n",
       "        vertical-align: top;\n",
       "    }\n",
       "\n",
       "    .dataframe thead th {\n",
       "        text-align: right;\n",
       "    }\n",
       "</style>\n",
       "<table border=\"1\" class=\"dataframe\">\n",
       "  <thead>\n",
       "    <tr style=\"text-align: right;\">\n",
       "      <th></th>\n",
       "      <th>product_name</th>\n",
       "      <th>date</th>\n",
       "      <th>name</th>\n",
       "      <th>data_obj</th>\n",
       "      <th>abtest</th>\n",
       "      <th>id</th>\n",
       "      <th>dis</th>\n",
       "      <th>dis_user</th>\n",
       "      <th>refresh_times</th>\n",
       "      <th>real_dis</th>\n",
       "      <th>...</th>\n",
       "      <th>ctr</th>\n",
       "      <th>real_ctr</th>\n",
       "      <th>read_ratio</th>\n",
       "      <th>dur1</th>\n",
       "      <th>dur2</th>\n",
       "      <th>finish_ratio</th>\n",
       "      <th>read_files</th>\n",
       "      <th>doc_dur</th>\n",
       "      <th>refresh</th>\n",
       "      <th>refresh2</th>\n",
       "    </tr>\n",
       "  </thead>\n",
       "  <tbody>\n",
       "    <tr>\n",
       "      <th>0</th>\n",
       "      <td>newmse</td>\n",
       "      <td>20191227</td>\n",
       "      <td>small_video</td>\n",
       "      <td>total_recommend</td>\n",
       "      <td>5.0</td>\n",
       "      <td>8135.333333</td>\n",
       "      <td>7.182033e+04</td>\n",
       "      <td>2115.666667</td>\n",
       "      <td>1.000000</td>\n",
       "      <td>9.229333e+03</td>\n",
       "      <td>...</td>\n",
       "      <td>0.002691</td>\n",
       "      <td>0.020937</td>\n",
       "      <td>0.048480</td>\n",
       "      <td>0.000000</td>\n",
       "      <td>0.000000</td>\n",
       "      <td>0.0</td>\n",
       "      <td>0.091431</td>\n",
       "      <td>0.000000</td>\n",
       "      <td>0.000473</td>\n",
       "      <td>0.009797</td>\n",
       "    </tr>\n",
       "    <tr>\n",
       "      <th>1</th>\n",
       "      <td>newmse</td>\n",
       "      <td>20191227</td>\n",
       "      <td>small_video</td>\n",
       "      <td>total_total</td>\n",
       "      <td>5.0</td>\n",
       "      <td>4690.000000</td>\n",
       "      <td>7.938367e+04</td>\n",
       "      <td>2147.666667</td>\n",
       "      <td>1316.000000</td>\n",
       "      <td>1.043167e+04</td>\n",
       "      <td>...</td>\n",
       "      <td>0.002832</td>\n",
       "      <td>0.021583</td>\n",
       "      <td>0.053484</td>\n",
       "      <td>0.000000</td>\n",
       "      <td>0.000000</td>\n",
       "      <td>0.0</td>\n",
       "      <td>0.104761</td>\n",
       "      <td>0.000000</td>\n",
       "      <td>0.613770</td>\n",
       "      <td>11.593245</td>\n",
       "    </tr>\n",
       "    <tr>\n",
       "      <th>2</th>\n",
       "      <td>newmse</td>\n",
       "      <td>20191227</td>\n",
       "      <td>total</td>\n",
       "      <td>total_recommend</td>\n",
       "      <td>5.0</td>\n",
       "      <td>26666.666667</td>\n",
       "      <td>8.504552e+06</td>\n",
       "      <td>197040.000000</td>\n",
       "      <td>562869.333333</td>\n",
       "      <td>3.001490e+06</td>\n",
       "      <td>...</td>\n",
       "      <td>0.060115</td>\n",
       "      <td>0.170320</td>\n",
       "      <td>0.247018</td>\n",
       "      <td>3.215567</td>\n",
       "      <td>13.017480</td>\n",
       "      <td>1.0</td>\n",
       "      <td>2.595188</td>\n",
       "      <td>1.239016</td>\n",
       "      <td>2.857201</td>\n",
       "      <td>11.567537</td>\n",
       "    </tr>\n",
       "    <tr>\n",
       "      <th>3</th>\n",
       "      <td>newmse</td>\n",
       "      <td>20191227</td>\n",
       "      <td>total</td>\n",
       "      <td>total_total</td>\n",
       "      <td>5.0</td>\n",
       "      <td>24559.333333</td>\n",
       "      <td>1.231229e+07</td>\n",
       "      <td>199428.000000</td>\n",
       "      <td>592708.000000</td>\n",
       "      <td>3.789699e+06</td>\n",
       "      <td>...</td>\n",
       "      <td>0.047494</td>\n",
       "      <td>0.154279</td>\n",
       "      <td>0.249418</td>\n",
       "      <td>3.585096</td>\n",
       "      <td>14.374453</td>\n",
       "      <td>1.0</td>\n",
       "      <td>2.932308</td>\n",
       "      <td>1.222622</td>\n",
       "      <td>2.972531</td>\n",
       "      <td>11.918595</td>\n",
       "    </tr>\n",
       "    <tr>\n",
       "      <th>4</th>\n",
       "      <td>newmse</td>\n",
       "      <td>20191227</td>\n",
       "      <td>tuwen</td>\n",
       "      <td>total_recommend</td>\n",
       "      <td>5.0</td>\n",
       "      <td>12178.666667</td>\n",
       "      <td>6.628651e+06</td>\n",
       "      <td>197040.000000</td>\n",
       "      <td>509946.000000</td>\n",
       "      <td>2.370775e+06</td>\n",
       "      <td>...</td>\n",
       "      <td>0.066232</td>\n",
       "      <td>0.185169</td>\n",
       "      <td>0.233863</td>\n",
       "      <td>2.388329</td>\n",
       "      <td>10.211947</td>\n",
       "      <td>1.0</td>\n",
       "      <td>2.228680</td>\n",
       "      <td>1.071565</td>\n",
       "      <td>2.588794</td>\n",
       "      <td>11.070597</td>\n",
       "    </tr>\n",
       "    <tr>\n",
       "      <th>...</th>\n",
       "      <td>...</td>\n",
       "      <td>...</td>\n",
       "      <td>...</td>\n",
       "      <td>...</td>\n",
       "      <td>...</td>\n",
       "      <td>...</td>\n",
       "      <td>...</td>\n",
       "      <td>...</td>\n",
       "      <td>...</td>\n",
       "      <td>...</td>\n",
       "      <td>...</td>\n",
       "      <td>...</td>\n",
       "      <td>...</td>\n",
       "      <td>...</td>\n",
       "      <td>...</td>\n",
       "      <td>...</td>\n",
       "      <td>...</td>\n",
       "      <td>...</td>\n",
       "      <td>...</td>\n",
       "      <td>...</td>\n",
       "      <td>...</td>\n",
       "    </tr>\n",
       "    <tr>\n",
       "      <th>159</th>\n",
       "      <td>newmse</td>\n",
       "      <td>20200113</td>\n",
       "      <td>tuwen</td>\n",
       "      <td>total_relative</td>\n",
       "      <td>5.0</td>\n",
       "      <td>574755.333333</td>\n",
       "      <td>9.459417e+05</td>\n",
       "      <td>34848.666667</td>\n",
       "      <td>1.000000</td>\n",
       "      <td>3.985583e+05</td>\n",
       "      <td>...</td>\n",
       "      <td>0.028190</td>\n",
       "      <td>0.066869</td>\n",
       "      <td>0.208298</td>\n",
       "      <td>0.130737</td>\n",
       "      <td>0.627697</td>\n",
       "      <td>1.0</td>\n",
       "      <td>0.764751</td>\n",
       "      <td>0.171016</td>\n",
       "      <td>0.000029</td>\n",
       "      <td>0.000138</td>\n",
       "    </tr>\n",
       "    <tr>\n",
       "      <th>160</th>\n",
       "      <td>newmse</td>\n",
       "      <td>20200113</td>\n",
       "      <td>tuwen</td>\n",
       "      <td>total_total</td>\n",
       "      <td>5.0</td>\n",
       "      <td>558600.666667</td>\n",
       "      <td>7.815727e+06</td>\n",
       "      <td>184874.666667</td>\n",
       "      <td>510200.666667</td>\n",
       "      <td>2.790288e+06</td>\n",
       "      <td>...</td>\n",
       "      <td>0.051297</td>\n",
       "      <td>0.143653</td>\n",
       "      <td>0.250996</td>\n",
       "      <td>3.325158</td>\n",
       "      <td>13.247613</td>\n",
       "      <td>1.0</td>\n",
       "      <td>2.168543</td>\n",
       "      <td>1.533387</td>\n",
       "      <td>2.759607</td>\n",
       "      <td>10.995358</td>\n",
       "    </tr>\n",
       "    <tr>\n",
       "      <th>161</th>\n",
       "      <td>newmse</td>\n",
       "      <td>20200113</td>\n",
       "      <td>video</td>\n",
       "      <td>total_recommend</td>\n",
       "      <td>5.0</td>\n",
       "      <td>566264.666667</td>\n",
       "      <td>1.724243e+06</td>\n",
       "      <td>163945.000000</td>\n",
       "      <td>63756.666667</td>\n",
       "      <td>5.812270e+05</td>\n",
       "      <td>...</td>\n",
       "      <td>0.045783</td>\n",
       "      <td>0.135804</td>\n",
       "      <td>0.107058</td>\n",
       "      <td>1.192249</td>\n",
       "      <td>11.136340</td>\n",
       "      <td>1.0</td>\n",
       "      <td>0.481449</td>\n",
       "      <td>2.476884</td>\n",
       "      <td>0.388652</td>\n",
       "      <td>3.630076</td>\n",
       "    </tr>\n",
       "    <tr>\n",
       "      <th>162</th>\n",
       "      <td>newmse</td>\n",
       "      <td>20200113</td>\n",
       "      <td>video</td>\n",
       "      <td>total_relative</td>\n",
       "      <td>5.0</td>\n",
       "      <td>574123.333333</td>\n",
       "      <td>2.129695e+06</td>\n",
       "      <td>15174.000000</td>\n",
       "      <td>1.000000</td>\n",
       "      <td>1.191237e+05</td>\n",
       "      <td>...</td>\n",
       "      <td>0.009124</td>\n",
       "      <td>0.163022</td>\n",
       "      <td>0.375060</td>\n",
       "      <td>2.674780</td>\n",
       "      <td>7.131183</td>\n",
       "      <td>1.0</td>\n",
       "      <td>1.278198</td>\n",
       "      <td>2.092487</td>\n",
       "      <td>0.000066</td>\n",
       "      <td>0.000176</td>\n",
       "    </tr>\n",
       "    <tr>\n",
       "      <th>163</th>\n",
       "      <td>newmse</td>\n",
       "      <td>20200113</td>\n",
       "      <td>video</td>\n",
       "      <td>total_total</td>\n",
       "      <td>5.0</td>\n",
       "      <td>557873.333333</td>\n",
       "      <td>4.094622e+06</td>\n",
       "      <td>164823.666667</td>\n",
       "      <td>79802.666667</td>\n",
       "      <td>8.051633e+05</td>\n",
       "      <td>...</td>\n",
       "      <td>0.026559</td>\n",
       "      <td>0.134982</td>\n",
       "      <td>0.116091</td>\n",
       "      <td>1.554796</td>\n",
       "      <td>13.392355</td>\n",
       "      <td>1.0</td>\n",
       "      <td>0.659225</td>\n",
       "      <td>2.358811</td>\n",
       "      <td>0.483574</td>\n",
       "      <td>4.165093</td>\n",
       "    </tr>\n",
       "  </tbody>\n",
       "</table>\n",
       "<p>164 rows × 33 columns</p>\n",
       "</div>"
      ],
      "text/plain": [
       "    product_name      date         name         data_obj  abtest  \\\n",
       "0         newmse  20191227  small_video  total_recommend     5.0   \n",
       "1         newmse  20191227  small_video      total_total     5.0   \n",
       "2         newmse  20191227        total  total_recommend     5.0   \n",
       "3         newmse  20191227        total      total_total     5.0   \n",
       "4         newmse  20191227        tuwen  total_recommend     5.0   \n",
       "..           ...       ...          ...              ...     ...   \n",
       "159       newmse  20200113        tuwen   total_relative     5.0   \n",
       "160       newmse  20200113        tuwen      total_total     5.0   \n",
       "161       newmse  20200113        video  total_recommend     5.0   \n",
       "162       newmse  20200113        video   total_relative     5.0   \n",
       "163       newmse  20200113        video      total_total     5.0   \n",
       "\n",
       "                id           dis       dis_user  refresh_times      real_dis  \\\n",
       "0      8135.333333  7.182033e+04    2115.666667       1.000000  9.229333e+03   \n",
       "1      4690.000000  7.938367e+04    2147.666667    1316.000000  1.043167e+04   \n",
       "2     26666.666667  8.504552e+06  197040.000000  562869.333333  3.001490e+06   \n",
       "3     24559.333333  1.231229e+07  199428.000000  592708.000000  3.789699e+06   \n",
       "4     12178.666667  6.628651e+06  197040.000000  509946.000000  2.370775e+06   \n",
       "..             ...           ...            ...            ...           ...   \n",
       "159  574755.333333  9.459417e+05   34848.666667       1.000000  3.985583e+05   \n",
       "160  558600.666667  7.815727e+06  184874.666667  510200.666667  2.790288e+06   \n",
       "161  566264.666667  1.724243e+06  163945.000000   63756.666667  5.812270e+05   \n",
       "162  574123.333333  2.129695e+06   15174.000000       1.000000  1.191237e+05   \n",
       "163  557873.333333  4.094622e+06  164823.666667   79802.666667  8.051633e+05   \n",
       "\n",
       "     ...       ctr  real_ctr  read_ratio      dur1       dur2  finish_ratio  \\\n",
       "0    ...  0.002691  0.020937    0.048480  0.000000   0.000000           0.0   \n",
       "1    ...  0.002832  0.021583    0.053484  0.000000   0.000000           0.0   \n",
       "2    ...  0.060115  0.170320    0.247018  3.215567  13.017480           1.0   \n",
       "3    ...  0.047494  0.154279    0.249418  3.585096  14.374453           1.0   \n",
       "4    ...  0.066232  0.185169    0.233863  2.388329  10.211947           1.0   \n",
       "..   ...       ...       ...         ...       ...        ...           ...   \n",
       "159  ...  0.028190  0.066869    0.208298  0.130737   0.627697           1.0   \n",
       "160  ...  0.051297  0.143653    0.250996  3.325158  13.247613           1.0   \n",
       "161  ...  0.045783  0.135804    0.107058  1.192249  11.136340           1.0   \n",
       "162  ...  0.009124  0.163022    0.375060  2.674780   7.131183           1.0   \n",
       "163  ...  0.026559  0.134982    0.116091  1.554796  13.392355           1.0   \n",
       "\n",
       "     read_files   doc_dur   refresh   refresh2  \n",
       "0      0.091431  0.000000  0.000473   0.009797  \n",
       "1      0.104761  0.000000  0.613770  11.593245  \n",
       "2      2.595188  1.239016  2.857201  11.567537  \n",
       "3      2.932308  1.222622  2.972531  11.918595  \n",
       "4      2.228680  1.071565  2.588794  11.070597  \n",
       "..          ...       ...       ...        ...  \n",
       "159    0.764751  0.171016  0.000029   0.000138  \n",
       "160    2.168543  1.533387  2.759607  10.995358  \n",
       "161    0.481449  2.476884  0.388652   3.630076  \n",
       "162    1.278198  2.092487  0.000066   0.000176  \n",
       "163    0.659225  2.358811  0.483574   4.165093  \n",
       "\n",
       "[164 rows x 33 columns]"
      ]
     },
     "execution_count": 19,
     "metadata": {},
     "output_type": "execute_result"
    }
   ],
   "source": [
    "worker_daily.base"
   ]
  },
  {
   "cell_type": "code",
   "execution_count": 20,
   "metadata": {},
   "outputs": [
    {
     "ename": "AttributeError",
     "evalue": "'Taurus' object has no attribute 'ndf'",
     "output_type": "error",
     "traceback": [
      "\u001b[0;31m---------------------------------------------------------------------------\u001b[0m",
      "\u001b[0;31mAttributeError\u001b[0m                            Traceback (most recent call last)",
      "\u001b[0;32m<ipython-input-20-acc3627bf0ae>\u001b[0m in \u001b[0;36m<module>\u001b[0;34m()\u001b[0m\n\u001b[0;32m----> 1\u001b[0;31m \u001b[0mworker_daily\u001b[0m\u001b[0;34m.\u001b[0m\u001b[0mdf\u001b[0m\u001b[0;34m[\u001b[0m\u001b[0mworker_daily\u001b[0m\u001b[0;34m.\u001b[0m\u001b[0mndf\u001b[0m\u001b[0;34m.\u001b[0m\u001b[0mabtest\u001b[0m\u001b[0;34m==\u001b[0m\u001b[0;36m7\u001b[0m\u001b[0;34m]\u001b[0m\u001b[0;34m\u001b[0m\u001b[0;34m\u001b[0m\u001b[0m\n\u001b[0m",
      "\u001b[0;31mAttributeError\u001b[0m: 'Taurus' object has no attribute 'ndf'"
     ]
    }
   ],
   "source": [
    "worker_daily.df[worker_daily.ndf.abtest==7]"
   ]
  },
  {
   "cell_type": "code",
   "execution_count": null,
   "metadata": {},
   "outputs": [],
   "source": [
    "worker_daily.ratio"
   ]
  },
  {
   "cell_type": "code",
   "execution_count": null,
   "metadata": {},
   "outputs": [],
   "source": [
    "import plotly.graph_objects as go\n",
    "df = worker_daily.ratio2\n",
    "df = df[ndf.name!='small_video'].groupby(['product_name', 'name', 'data_obj', 'abtest']) \\\n",
    "    .tail(1).groupby(['name', 'abtest'], as_index=False).mean()\n",
    "# names = ['read_ratio', 'dur1', 'dur2', 'click', 'duration', 'click_user']\n",
    "names = ['click', 'click_user', 'duration', 'ctr', 'read_ratio', 'dur1', 'dur2', \n",
    "         'refresh', 'refresh2', 'praise', 'favor']\n",
    "\n",
    "for abid in abids:\n",
    "    fig = go.Figure(data=[\n",
    "        go.Bar(name=name, \n",
    "               x=df_[df_.abtest==abid].name, \n",
    "               y=df_[df_.abtest==abid][name]) for name in names]\n",
    "        )\n",
    "    # Change the bar mode\n",
    "    fig.update_layout(barmode='group', title_text='abtest:%d' % abid)\n",
    "    fig.show()"
   ]
  },
  {
   "cell_type": "code",
   "execution_count": null,
   "metadata": {},
   "outputs": [],
   "source": []
  },
  {
   "cell_type": "code",
   "execution_count": null,
   "metadata": {},
   "outputs": [],
   "source": []
  },
  {
   "cell_type": "code",
   "execution_count": null,
   "metadata": {},
   "outputs": [],
   "source": []
  },
  {
   "cell_type": "code",
   "execution_count": null,
   "metadata": {},
   "outputs": [],
   "source": []
  },
  {
   "cell_type": "code",
   "execution_count": null,
   "metadata": {},
   "outputs": [],
   "source": []
  },
  {
   "cell_type": "code",
   "execution_count": null,
   "metadata": {},
   "outputs": [],
   "source": []
  }
 ],
 "metadata": {
  "kernelspec": {
   "display_name": "Python 3",
   "language": "python",
   "name": "python3"
  },
  "language_info": {
   "codemirror_mode": {
    "name": "ipython",
    "version": 3
   },
   "file_extension": ".py",
   "mimetype": "text/x-python",
   "name": "python",
   "nbconvert_exporter": "python",
   "pygments_lexer": "ipython3",
   "version": "3.6.8"
  }
 },
 "nbformat": 4,
 "nbformat_minor": 2
}
