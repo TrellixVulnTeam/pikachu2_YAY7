{
 "cells": [
  {
   "cell_type": "code",
   "execution_count": 1,
   "metadata": {
    "scrolled": true
   },
   "outputs": [
    {
     "data": {
      "text/html": [
       "        <script type=\"text/javascript\">\n",
       "        window.PlotlyConfig = {MathJaxConfig: 'local'};\n",
       "        if (window.MathJax) {MathJax.Hub.Config({SVG: {font: \"STIX-Web\"}});}\n",
       "        if (typeof require !== 'undefined') {\n",
       "        require.undef(\"plotly\");\n",
       "        requirejs.config({\n",
       "            paths: {\n",
       "                'plotly': ['https://cdn.plot.ly/plotly-latest.min']\n",
       "            }\n",
       "        });\n",
       "        require(['plotly'], function(Plotly) {\n",
       "            window._Plotly = Plotly;\n",
       "        });\n",
       "        }\n",
       "        </script>\n",
       "        "
      ]
     },
     "metadata": {},
     "output_type": "display_data"
    }
   ],
   "source": [
    "import os\n",
    "import glob\n",
    "import time\n",
    "from datetime import timedelta, datetime\n",
    "import pandas as pd\n",
    "from plotly.graph_objs import Scatter,Layout\n",
    "import plotly\n",
    "import plotly.offline as py\n",
    "import numpy as np\n",
    "import plotly.graph_objs as go\n",
    "from plotly.subplots import make_subplots\n",
    "\n",
    "#setting offilne\n",
    "plotly.offline.init_notebook_mode(connected=True)\n",
    "import gezi"
   ]
  },
  {
   "cell_type": "code",
   "execution_count": 2,
   "metadata": {},
   "outputs": [
    {
     "data": {
      "text/html": [
       "<style>\n",
       ".output_wrapper, .output {\n",
       "    height:auto !important;\n",
       "    max-height:10000px;  /* your desired max-height here */\n",
       "}\n",
       ".output_scroll {\n",
       "    box-shadow:none !important;\n",
       "    webkit-box-shadow:none !important;\n",
       "}\n",
       "</style>"
      ],
      "text/plain": [
       "<IPython.core.display.HTML object>"
      ]
     },
     "metadata": {},
     "output_type": "display_data"
    }
   ],
   "source": [
    "%%html\n",
    "<style>\n",
    ".output_wrapper, .output {\n",
    "    height:auto !important;\n",
    "    max-height:10000px;  /* your desired max-height here */\n",
    "}\n",
    ".output_scroll {\n",
    "    box-shadow:none !important;\n",
    "    webkit-box-shadow:none !important;\n",
    "}\n",
    "</style>"
   ]
  },
  {
   "cell_type": "code",
   "execution_count": 3,
   "metadata": {},
   "outputs": [],
   "source": [
    "# !more /home/gezi/tmp/rank/data/video_hour_sgsapp_v2/infos/15/2019122104/scores"
   ]
  },
  {
   "cell_type": "code",
   "execution_count": 4,
   "metadata": {},
   "outputs": [],
   "source": [
    "# import glob\n",
    "# import traceback\n",
    "# import gezi\n",
    "# from gezi import tqdm\n",
    "# head = 'mid,docid,dur,pred,abid,ori_lr_score,lr_score,show_time,position,video_time,impression_time,interests,rea,pred_click,pred_dur'\n",
    "# head2 = 'mid,docid,dur,pred,abid,ori_lr_score,lr_score,show_time,position,video_time,impression_time,interests,rea'\n",
    "# root = '/home/gezi/tmp/rank/data/video_hour_sgsapp_v2/infos/15/'\n",
    "# l = []\n",
    "# for file in tqdm(glob.glob(f'{root}/*/scores')):\n",
    "#     if not gezi.non_empty(file):\n",
    "#         continue\n",
    "#     try:\n",
    "#         hour = os.path.basename(os.path.dirname(file))\n",
    "# #         print(hour, file)\n",
    "#         df = pd.read_csv(file, sep='\\t')\n",
    "#         try:\n",
    "#             df.columns = head.split(',')\n",
    "#         except Exception:\n",
    "#             df.columns = head2.split(',')\n",
    "#         video_time = df.video_time.mean()\n",
    "#         click_video_time = df[df.dur>0].video_time.mean()\n",
    "#         dur_per_click = df[df.dur>0].dur.mean()\n",
    "#         l.append((hour, video_time, click_video_time, dur_per_click))\n",
    "# #         print(len(l))\n",
    "#     except Exception:\n",
    "# #         print(traceback.format_exc())\n",
    "#         continue\n",
    "# df = pd.DataFrame.from_dict(l)\n",
    "# df.columns = ['hour', 'video_time', 'click_video_time', 'dur_per_click']\n",
    "# df"
   ]
  },
  {
   "cell_type": "code",
   "execution_count": 5,
   "metadata": {},
   "outputs": [],
   "source": [
    "# import plotly.express as px\n",
    "# hours = [datetime.strptime(str(x), '%Y%m%d%H') for x in df.hour.values]\n",
    "# df.hour = hours\n",
    "# df = df.sort_values(by=['hour'])\n",
    "# px.line(df, x='hour', y='video_time')"
   ]
  },
  {
   "cell_type": "code",
   "execution_count": 6,
   "metadata": {},
   "outputs": [],
   "source": [
    "# # fig = px.line(df, x='hour', y='video_time')\n",
    "# fig = px.line()\n",
    "# fig.add_scatter(x=df['hour'], y=df['click_video_time'], mode='lines', name='click_video_time')\n",
    "# fig.add_scatter(x=df['hour'], y=df['video_time'], mode='lines', name='video_time')\n",
    "# fig.add_scatter(x=df['hour'], y=df['dur_per_click'], mode='lines', name='video_time')\n",
    "# py.iplot(fig)"
   ]
  },
  {
   "cell_type": "code",
   "execution_count": 7,
   "metadata": {},
   "outputs": [],
   "source": [
    "abids = [456, 15]\n",
    "# metric_files = [\n",
    "#     '/home/gezi/tmp/rank/log/score_info.15.txt',\n",
    "#     '/home/gezi/tmp/rank/log/score_info.16.txt',\n",
    "# ]\n",
    "metric_files = [\n",
    "    '/home/gezi/tmp/rank/data/video_hour_sgsapp_v2/infos/15/metrics_online.csv',\n",
    "#     '/home/gezi/tmp/rank/data/video_hour_sgsapp_v2/infos/15/metrics_offline.csv',\n",
    "    '/home/gezi/tmp/rank/data/tuwen_hour_sgsapp_v2/infos/15/metrics_online.csv',\n",
    "#     '/home/gezi/tmp/rank/data/tuwen_hour_sgsapp_v2/infos/15/metrics_offline.csv',\n",
    "#     '/home/gezi/tmp/rank/data/video_hour_sgsapp_v2/infos/16/metrics_offline.csv',\n",
    "#     '/home/gezi/tmp/rank/data/tuwen_hour_sgsapp_v2/infos/16/metrics_offline.csv',\n",
    "]"
   ]
  },
  {
   "cell_type": "code",
   "execution_count": 8,
   "metadata": {},
   "outputs": [],
   "source": [
    "keys = ['gold/auc', 'group/auc', 'group/click/time_auc', 'auc', 'click/time_auc']"
   ]
  },
  {
   "cell_type": "code",
   "execution_count": 28,
   "metadata": {},
   "outputs": [],
   "source": [
    "df = pd.concat([pd.read_csv(metric_file, error_bad_lines=False, warn_bad_lines=True) for metric_file in metric_files])\n",
    "df.hour = df.hour.astype(str)\n",
    "df = df.groupby(['abtest', 'hour'], as_index=False).last()\n",
    "df = df.sort_values(by=['hour'])\n",
    "df = df.drop_duplicates()\n",
    "# name = 'tuwen'\n",
    "name = 'video'\n",
    "df = df[df.mark==name]\n",
    "# df = df[df.hour > '2019121000']\n",
    "df.name = name\n",
    "# df.columns"
   ]
  },
  {
   "cell_type": "code",
   "execution_count": 29,
   "metadata": {},
   "outputs": [],
   "source": [
    "def compare(df,  metric='auc', names='read_ratio',  offline=False, delta=0., ratio=1., abids=abids, smoothing=0.4):\n",
    "  if isinstance(names, str):\n",
    "    names = names.split(',')\n",
    "  if isinstance(abids, str):\n",
    "    abids = [int(x) for x in abids.split(',')]\n",
    "  if offline:\n",
    "    abids = [x * 100 for x in abids]\n",
    "    \n",
    "  df_ = df\n",
    "  for name in names:\n",
    "    datas = []\n",
    "    for abid in abids:\n",
    "        df = df_[df_.abtest==abid]\n",
    "        if not len(df):\n",
    "            continue\n",
    "        data = go.Scatter(\n",
    "            x=[datetime.strptime(str(x), '%Y%m%d%H') if len(str(x)) == 10 else datetime.strptime(str(x), '%Y%m%d') for x in df.hour],\n",
    "            y=gezi.smooth(df[metric].values, smoothing),\n",
    "            mode='lines+markers',\n",
    "            line_shape='spline',\n",
    "            line_smoothing=1.,\n",
    "            name=str(abid) + ':' + metric\n",
    "        )\n",
    "\n",
    "        datas.append(data)\n",
    "\n",
    "    layout = go.Layout(xaxis=dict(type='date'), title=f'{df_.name}:{metric}', hovermode='x')\n",
    "    fig = go.Figure(data=datas, layout=layout)\n",
    "    py.iplot(fig)"
   ]
  },
  {
   "cell_type": "code",
   "execution_count": 30,
   "metadata": {
    "scrolled": true
   },
   "outputs": [
    {
     "data": {
      "application/vnd.plotly.v1+json": {
       "config": {
        "linkText": "Export to plot.ly",
        "plotlyServerURL": "https://plot.ly",
        "showLink": false
       },
       "data": [
        {
         "line": {
          "shape": "spline",
          "smoothing": 1
         },
         "mode": "lines+markers",
         "name": "456:gold/auc",
         "type": "scatter",
         "x": [
          "2019-12-26T10:00:00",
          "2019-12-26T11:00:00",
          "2019-12-26T12:00:00",
          "2019-12-26T13:00:00",
          "2019-12-26T14:00:00",
          "2019-12-26T15:00:00",
          "2019-12-26T16:00:00",
          "2019-12-26T17:00:00",
          "2019-12-26T18:00:00",
          "2019-12-26T19:00:00",
          "2019-12-26T20:00:00",
          "2019-12-26T21:00:00",
          "2019-12-26T22:00:00",
          "2019-12-26T23:00:00",
          "2019-12-27T00:00:00",
          "2019-12-27T01:00:00",
          "2019-12-27T02:00:00",
          "2019-12-27T03:00:00",
          "2019-12-27T04:00:00",
          "2019-12-27T05:00:00",
          "2019-12-27T06:00:00",
          "2019-12-27T07:00:00",
          "2019-12-27T08:00:00",
          "2019-12-27T09:00:00",
          "2019-12-27T10:00:00",
          "2019-12-27T13:00:00",
          "2019-12-27T14:00:00",
          "2019-12-27T15:00:00",
          "2019-12-27T16:00:00",
          "2019-12-27T17:00:00",
          "2019-12-27T18:00:00",
          "2019-12-27T19:00:00",
          "2019-12-27T20:00:00",
          "2019-12-27T21:00:00",
          "2019-12-28T08:00:00",
          "2019-12-28T09:00:00",
          "2019-12-28T10:00:00",
          "2019-12-28T11:00:00",
          "2019-12-28T12:00:00",
          "2019-12-28T13:00:00",
          "2019-12-28T14:00:00",
          "2019-12-28T15:00:00",
          "2019-12-28T16:00:00",
          "2019-12-28T17:00:00",
          "2019-12-28T18:00:00",
          "2019-12-28T19:00:00",
          "2019-12-28T20:00:00",
          "2019-12-28T21:00:00",
          "2019-12-29T08:00:00",
          "2019-12-29T09:00:00",
          "2019-12-29T10:00:00",
          "2019-12-29T11:00:00",
          "2019-12-29T12:00:00",
          "2019-12-29T13:00:00",
          "2019-12-29T14:00:00",
          "2019-12-29T15:00:00",
          "2019-12-29T16:00:00",
          "2019-12-29T17:00:00",
          "2019-12-29T18:00:00",
          "2019-12-29T19:00:00",
          "2019-12-29T20:00:00",
          "2019-12-29T21:00:00",
          "2019-12-29T22:00:00",
          "2019-12-29T23:00:00",
          "2019-12-30T00:00:00",
          "2019-12-30T01:00:00",
          "2019-12-30T02:00:00",
          "2019-12-30T03:00:00",
          "2019-12-30T04:00:00",
          "2019-12-30T05:00:00",
          "2019-12-30T06:00:00",
          "2019-12-30T07:00:00",
          "2019-12-30T08:00:00",
          "2019-12-30T09:00:00",
          "2019-12-30T10:00:00",
          "2019-12-30T11:00:00",
          "2019-12-30T12:00:00",
          "2019-12-30T13:00:00",
          "2019-12-30T14:00:00",
          "2019-12-30T15:00:00",
          "2019-12-30T16:00:00",
          "2019-12-30T17:00:00",
          "2019-12-30T18:00:00",
          "2019-12-30T19:00:00",
          "2019-12-30T20:00:00",
          "2019-12-30T21:00:00",
          "2019-12-30T22:00:00",
          "2019-12-30T23:00:00",
          "2019-12-31T00:00:00",
          "2019-12-31T01:00:00",
          "2019-12-31T02:00:00",
          "2019-12-31T03:00:00",
          "2019-12-31T04:00:00",
          "2019-12-31T05:00:00",
          "2019-12-31T06:00:00",
          "2019-12-31T07:00:00",
          "2019-12-31T08:00:00",
          "2019-12-31T09:00:00",
          "2019-12-31T10:00:00",
          "2019-12-31T11:00:00",
          "2019-12-31T12:00:00",
          "2019-12-31T13:00:00"
         ],
         "y": [
          0.5390918614533496,
          0.5125415997860344,
          0.5286110739743338,
          0.5239311988612764,
          0.5237139933885605,
          0.5117578890679613,
          0.5163261009960136,
          0.5230161083047168,
          0.5152467432844559,
          0.5216051730284842,
          0.5212795977293448,
          0.518673259933499,
          0.5323677258505305,
          0.5275421637042457,
          0.5208459066890619,
          0.5142998522907204,
          0.5235290020244491,
          0.5146315139726723,
          0.5010299630594135,
          0.4968423608091967,
          0.5176982802306025,
          0.4982158689906334,
          0.5209145390253032,
          0.5109747612993941,
          0.5245025457849913,
          0.5256232830542896,
          0.5205693305594815,
          0.5217100388236344,
          0.5211960656277957,
          0.5165810004303186,
          0.5232461003273484,
          0.5246962379356992,
          0.5273460429120949,
          0.5217054966707704,
          0.5056934456078312,
          0.518148496386788,
          0.5243234326985601,
          0.5307065729280732,
          0.5167001163399304,
          0.51573190989265,
          0.5275195691323968,
          0.5162166350655434,
          0.5163176012806432,
          0.5180785848525435,
          0.5224367542387148,
          0.5182476534824298,
          0.5132709141592153,
          0.5293452809510588,
          0.5151914325861056,
          0.5250043497701075,
          0.5169697275857059,
          0.5203538249995149,
          0.5090553537442474,
          0.5199362382314658,
          0.5161754668378854,
          0.5214965239535829,
          0.515654689109753,
          0.5155451959610233,
          0.5151692109154052,
          0.5306593820638805,
          0.5129306867918183,
          0.520981154668384,
          0.5232486410007597,
          0.524936343470382,
          0.5248269923002051,
          0.5301231422865312,
          0.5081934773900433,
          0.5040115860291171,
          0.4936490151704101,
          0.4827502992986522,
          0.5201944815536187,
          0.5065840836486668,
          0.5209641922511288,
          0.5129115120058828,
          0.5200486122443561,
          0.5199784874539793,
          0.5239753615823313,
          0.5206906236368529,
          0.5108914593530487,
          0.5162144533068663,
          0.5252719715350544,
          0.508482808329716,
          0.5166353560602011,
          0.5237940878758187,
          0.5211734685524796,
          0.5140661378384589,
          0.5227238844578922,
          0.5324521037157907,
          0.5100101540365974,
          0.5185436694059948,
          0.5228519399244109,
          0.5216387850789312,
          0.5007412207745842,
          0.4991078756437372,
          0.5182262394538363,
          0.5155217061160291,
          0.5166711589458859,
          0.5201798861334074,
          0.5182089679618389,
          0.5152021887746422,
          0.5123027674256051,
          0.5194098115640643
         ]
        },
        {
         "line": {
          "shape": "spline",
          "smoothing": 1
         },
         "mode": "lines+markers",
         "name": "15:gold/auc",
         "type": "scatter",
         "x": [
          "2019-12-26T10:00:00",
          "2019-12-26T11:00:00",
          "2019-12-26T12:00:00",
          "2019-12-26T13:00:00",
          "2019-12-26T14:00:00",
          "2019-12-26T15:00:00",
          "2019-12-26T16:00:00",
          "2019-12-26T17:00:00",
          "2019-12-26T18:00:00",
          "2019-12-26T19:00:00",
          "2019-12-26T20:00:00",
          "2019-12-26T21:00:00",
          "2019-12-26T22:00:00",
          "2019-12-26T23:00:00",
          "2019-12-27T00:00:00",
          "2019-12-27T01:00:00",
          "2019-12-27T02:00:00",
          "2019-12-27T03:00:00",
          "2019-12-27T04:00:00",
          "2019-12-27T05:00:00",
          "2019-12-27T06:00:00",
          "2019-12-27T07:00:00",
          "2019-12-27T08:00:00",
          "2019-12-27T09:00:00",
          "2019-12-27T10:00:00",
          "2019-12-27T13:00:00",
          "2019-12-27T14:00:00",
          "2019-12-27T15:00:00",
          "2019-12-27T16:00:00",
          "2019-12-27T17:00:00",
          "2019-12-27T18:00:00",
          "2019-12-27T19:00:00",
          "2019-12-27T20:00:00",
          "2019-12-27T21:00:00",
          "2019-12-28T08:00:00",
          "2019-12-28T09:00:00",
          "2019-12-28T10:00:00",
          "2019-12-28T11:00:00",
          "2019-12-28T12:00:00",
          "2019-12-28T13:00:00",
          "2019-12-28T14:00:00",
          "2019-12-28T15:00:00",
          "2019-12-28T16:00:00",
          "2019-12-28T17:00:00",
          "2019-12-28T18:00:00",
          "2019-12-28T19:00:00",
          "2019-12-28T20:00:00",
          "2019-12-28T21:00:00",
          "2019-12-29T08:00:00",
          "2019-12-29T09:00:00",
          "2019-12-29T10:00:00",
          "2019-12-29T11:00:00",
          "2019-12-29T12:00:00",
          "2019-12-29T13:00:00",
          "2019-12-29T14:00:00",
          "2019-12-29T15:00:00",
          "2019-12-29T16:00:00",
          "2019-12-29T17:00:00",
          "2019-12-29T18:00:00",
          "2019-12-29T19:00:00",
          "2019-12-29T20:00:00",
          "2019-12-29T21:00:00",
          "2019-12-29T22:00:00",
          "2019-12-29T23:00:00",
          "2019-12-30T00:00:00",
          "2019-12-30T01:00:00",
          "2019-12-30T02:00:00",
          "2019-12-30T03:00:00",
          "2019-12-30T04:00:00",
          "2019-12-30T05:00:00",
          "2019-12-30T06:00:00",
          "2019-12-30T07:00:00",
          "2019-12-30T08:00:00",
          "2019-12-30T09:00:00",
          "2019-12-30T10:00:00",
          "2019-12-30T11:00:00",
          "2019-12-30T12:00:00",
          "2019-12-30T13:00:00",
          "2019-12-30T14:00:00",
          "2019-12-30T15:00:00",
          "2019-12-30T16:00:00",
          "2019-12-30T17:00:00",
          "2019-12-30T18:00:00",
          "2019-12-30T19:00:00",
          "2019-12-30T20:00:00",
          "2019-12-30T21:00:00",
          "2019-12-30T22:00:00",
          "2019-12-30T23:00:00",
          "2019-12-31T00:00:00",
          "2019-12-31T01:00:00",
          "2019-12-31T02:00:00",
          "2019-12-31T03:00:00",
          "2019-12-31T04:00:00",
          "2019-12-31T05:00:00",
          "2019-12-31T06:00:00",
          "2019-12-31T07:00:00",
          "2019-12-31T08:00:00",
          "2019-12-31T09:00:00",
          "2019-12-31T10:00:00",
          "2019-12-31T11:00:00",
          "2019-12-31T12:00:00",
          "2019-12-31T13:00:00"
         ],
         "y": [
          0.5127160615285675,
          0.5143777438425478,
          0.5066922517230362,
          0.5212420098391146,
          0.5176603164178384,
          0.49344508187525,
          0.4932686717956888,
          0.5199903088286181,
          0.5258700770999614,
          0.5301550613558764,
          0.5282160752115128,
          0.5188563288643384,
          0.5263721450983587,
          0.5168405988299514,
          0.5315173382182198,
          0.5132523858643533,
          0.529375891452734,
          0.5101230354269922,
          0.4520479369917378,
          0.5187724356829007,
          0.4966908879343368,
          0.5127951479032017,
          0.5279493518952355,
          0.5128202054448088,
          0.5202978668023542,
          0.5228752788128436,
          0.5165313962921327,
          0.5096317557624832,
          0.5155504997154721,
          0.5311393747674118,
          0.5231102695236217,
          0.5133689483673823,
          0.5205424843186602,
          0.5323541502675232,
          0.5182982382924037,
          0.5244633166901425,
          0.5296796781738836,
          0.5163529180189447,
          0.5343787079395844,
          0.5135042646860508,
          0.5179284958780921,
          0.5320921539744989,
          0.5091048834085291,
          0.5203838930424926,
          0.5204487966162996,
          0.5126466779285606,
          0.5160309066571961,
          0.5216392253599152,
          0.5094876220968967,
          0.5157704469133733,
          0.5142364453737148,
          0.5431447375874938,
          0.5268254367344563,
          0.5202245464290799,
          0.5152679296205331,
          0.5397768873095747,
          0.530095519997599,
          0.5200296016341073,
          0.5045662214299909,
          0.5109853988667766,
          0.5097188740121513,
          0.5128122633324163,
          0.5114938401225048,
          0.5058022347162661,
          0.5260022723811251,
          0.5310284076379289,
          0.5307208495191861,
          0.5417080014454697,
          0.532565759856755,
          0.4865609460351332,
          0.4907018982410027,
          0.5116903959785005,
          0.4990319122833925,
          0.5146552932212586,
          0.5271471059865763,
          0.5094343371763175,
          0.5334759296308467,
          0.5175199114818678,
          0.4968783230909779,
          0.5139572374641367,
          0.5113173673496887,
          0.5098156120649479,
          0.5072326737139752,
          0.4997114551581594,
          0.5214219673901246,
          0.5105363068034184,
          0.5141851266179247,
          0.5234345749571369,
          0.5244220591339108,
          0.5238676184827582,
          0.51475288619939,
          0.503133731679281,
          0.5016170215571625,
          0.4967861212050653,
          0.5180358138477968,
          0.5392657603868346,
          0.5098551369992628,
          0.5145574597414887,
          0.5227629926678479,
          0.5165769112108786,
          0.5286790453608002,
          0.5087472630213516
         ]
        }
       ],
       "layout": {
        "hovermode": "x",
        "template": {
         "data": {
          "bar": [
           {
            "error_x": {
             "color": "#2a3f5f"
            },
            "error_y": {
             "color": "#2a3f5f"
            },
            "marker": {
             "line": {
              "color": "#E5ECF6",
              "width": 0.5
             }
            },
            "type": "bar"
           }
          ],
          "barpolar": [
           {
            "marker": {
             "line": {
              "color": "#E5ECF6",
              "width": 0.5
             }
            },
            "type": "barpolar"
           }
          ],
          "carpet": [
           {
            "aaxis": {
             "endlinecolor": "#2a3f5f",
             "gridcolor": "white",
             "linecolor": "white",
             "minorgridcolor": "white",
             "startlinecolor": "#2a3f5f"
            },
            "baxis": {
             "endlinecolor": "#2a3f5f",
             "gridcolor": "white",
             "linecolor": "white",
             "minorgridcolor": "white",
             "startlinecolor": "#2a3f5f"
            },
            "type": "carpet"
           }
          ],
          "choropleth": [
           {
            "colorbar": {
             "outlinewidth": 0,
             "ticks": ""
            },
            "type": "choropleth"
           }
          ],
          "contour": [
           {
            "colorbar": {
             "outlinewidth": 0,
             "ticks": ""
            },
            "colorscale": [
             [
              0,
              "#0d0887"
             ],
             [
              0.1111111111111111,
              "#46039f"
             ],
             [
              0.2222222222222222,
              "#7201a8"
             ],
             [
              0.3333333333333333,
              "#9c179e"
             ],
             [
              0.4444444444444444,
              "#bd3786"
             ],
             [
              0.5555555555555556,
              "#d8576b"
             ],
             [
              0.6666666666666666,
              "#ed7953"
             ],
             [
              0.7777777777777778,
              "#fb9f3a"
             ],
             [
              0.8888888888888888,
              "#fdca26"
             ],
             [
              1,
              "#f0f921"
             ]
            ],
            "type": "contour"
           }
          ],
          "contourcarpet": [
           {
            "colorbar": {
             "outlinewidth": 0,
             "ticks": ""
            },
            "type": "contourcarpet"
           }
          ],
          "heatmap": [
           {
            "colorbar": {
             "outlinewidth": 0,
             "ticks": ""
            },
            "colorscale": [
             [
              0,
              "#0d0887"
             ],
             [
              0.1111111111111111,
              "#46039f"
             ],
             [
              0.2222222222222222,
              "#7201a8"
             ],
             [
              0.3333333333333333,
              "#9c179e"
             ],
             [
              0.4444444444444444,
              "#bd3786"
             ],
             [
              0.5555555555555556,
              "#d8576b"
             ],
             [
              0.6666666666666666,
              "#ed7953"
             ],
             [
              0.7777777777777778,
              "#fb9f3a"
             ],
             [
              0.8888888888888888,
              "#fdca26"
             ],
             [
              1,
              "#f0f921"
             ]
            ],
            "type": "heatmap"
           }
          ],
          "heatmapgl": [
           {
            "colorbar": {
             "outlinewidth": 0,
             "ticks": ""
            },
            "colorscale": [
             [
              0,
              "#0d0887"
             ],
             [
              0.1111111111111111,
              "#46039f"
             ],
             [
              0.2222222222222222,
              "#7201a8"
             ],
             [
              0.3333333333333333,
              "#9c179e"
             ],
             [
              0.4444444444444444,
              "#bd3786"
             ],
             [
              0.5555555555555556,
              "#d8576b"
             ],
             [
              0.6666666666666666,
              "#ed7953"
             ],
             [
              0.7777777777777778,
              "#fb9f3a"
             ],
             [
              0.8888888888888888,
              "#fdca26"
             ],
             [
              1,
              "#f0f921"
             ]
            ],
            "type": "heatmapgl"
           }
          ],
          "histogram": [
           {
            "marker": {
             "colorbar": {
              "outlinewidth": 0,
              "ticks": ""
             }
            },
            "type": "histogram"
           }
          ],
          "histogram2d": [
           {
            "colorbar": {
             "outlinewidth": 0,
             "ticks": ""
            },
            "colorscale": [
             [
              0,
              "#0d0887"
             ],
             [
              0.1111111111111111,
              "#46039f"
             ],
             [
              0.2222222222222222,
              "#7201a8"
             ],
             [
              0.3333333333333333,
              "#9c179e"
             ],
             [
              0.4444444444444444,
              "#bd3786"
             ],
             [
              0.5555555555555556,
              "#d8576b"
             ],
             [
              0.6666666666666666,
              "#ed7953"
             ],
             [
              0.7777777777777778,
              "#fb9f3a"
             ],
             [
              0.8888888888888888,
              "#fdca26"
             ],
             [
              1,
              "#f0f921"
             ]
            ],
            "type": "histogram2d"
           }
          ],
          "histogram2dcontour": [
           {
            "colorbar": {
             "outlinewidth": 0,
             "ticks": ""
            },
            "colorscale": [
             [
              0,
              "#0d0887"
             ],
             [
              0.1111111111111111,
              "#46039f"
             ],
             [
              0.2222222222222222,
              "#7201a8"
             ],
             [
              0.3333333333333333,
              "#9c179e"
             ],
             [
              0.4444444444444444,
              "#bd3786"
             ],
             [
              0.5555555555555556,
              "#d8576b"
             ],
             [
              0.6666666666666666,
              "#ed7953"
             ],
             [
              0.7777777777777778,
              "#fb9f3a"
             ],
             [
              0.8888888888888888,
              "#fdca26"
             ],
             [
              1,
              "#f0f921"
             ]
            ],
            "type": "histogram2dcontour"
           }
          ],
          "mesh3d": [
           {
            "colorbar": {
             "outlinewidth": 0,
             "ticks": ""
            },
            "type": "mesh3d"
           }
          ],
          "parcoords": [
           {
            "line": {
             "colorbar": {
              "outlinewidth": 0,
              "ticks": ""
             }
            },
            "type": "parcoords"
           }
          ],
          "scatter": [
           {
            "marker": {
             "colorbar": {
              "outlinewidth": 0,
              "ticks": ""
             }
            },
            "type": "scatter"
           }
          ],
          "scatter3d": [
           {
            "line": {
             "colorbar": {
              "outlinewidth": 0,
              "ticks": ""
             }
            },
            "marker": {
             "colorbar": {
              "outlinewidth": 0,
              "ticks": ""
             }
            },
            "type": "scatter3d"
           }
          ],
          "scattercarpet": [
           {
            "marker": {
             "colorbar": {
              "outlinewidth": 0,
              "ticks": ""
             }
            },
            "type": "scattercarpet"
           }
          ],
          "scattergeo": [
           {
            "marker": {
             "colorbar": {
              "outlinewidth": 0,
              "ticks": ""
             }
            },
            "type": "scattergeo"
           }
          ],
          "scattergl": [
           {
            "marker": {
             "colorbar": {
              "outlinewidth": 0,
              "ticks": ""
             }
            },
            "type": "scattergl"
           }
          ],
          "scattermapbox": [
           {
            "marker": {
             "colorbar": {
              "outlinewidth": 0,
              "ticks": ""
             }
            },
            "type": "scattermapbox"
           }
          ],
          "scatterpolar": [
           {
            "marker": {
             "colorbar": {
              "outlinewidth": 0,
              "ticks": ""
             }
            },
            "type": "scatterpolar"
           }
          ],
          "scatterpolargl": [
           {
            "marker": {
             "colorbar": {
              "outlinewidth": 0,
              "ticks": ""
             }
            },
            "type": "scatterpolargl"
           }
          ],
          "scatterternary": [
           {
            "marker": {
             "colorbar": {
              "outlinewidth": 0,
              "ticks": ""
             }
            },
            "type": "scatterternary"
           }
          ],
          "surface": [
           {
            "colorbar": {
             "outlinewidth": 0,
             "ticks": ""
            },
            "colorscale": [
             [
              0,
              "#0d0887"
             ],
             [
              0.1111111111111111,
              "#46039f"
             ],
             [
              0.2222222222222222,
              "#7201a8"
             ],
             [
              0.3333333333333333,
              "#9c179e"
             ],
             [
              0.4444444444444444,
              "#bd3786"
             ],
             [
              0.5555555555555556,
              "#d8576b"
             ],
             [
              0.6666666666666666,
              "#ed7953"
             ],
             [
              0.7777777777777778,
              "#fb9f3a"
             ],
             [
              0.8888888888888888,
              "#fdca26"
             ],
             [
              1,
              "#f0f921"
             ]
            ],
            "type": "surface"
           }
          ],
          "table": [
           {
            "cells": {
             "fill": {
              "color": "#EBF0F8"
             },
             "line": {
              "color": "white"
             }
            },
            "header": {
             "fill": {
              "color": "#C8D4E3"
             },
             "line": {
              "color": "white"
             }
            },
            "type": "table"
           }
          ]
         },
         "layout": {
          "annotationdefaults": {
           "arrowcolor": "#2a3f5f",
           "arrowhead": 0,
           "arrowwidth": 1
          },
          "colorscale": {
           "diverging": [
            [
             0,
             "#8e0152"
            ],
            [
             0.1,
             "#c51b7d"
            ],
            [
             0.2,
             "#de77ae"
            ],
            [
             0.3,
             "#f1b6da"
            ],
            [
             0.4,
             "#fde0ef"
            ],
            [
             0.5,
             "#f7f7f7"
            ],
            [
             0.6,
             "#e6f5d0"
            ],
            [
             0.7,
             "#b8e186"
            ],
            [
             0.8,
             "#7fbc41"
            ],
            [
             0.9,
             "#4d9221"
            ],
            [
             1,
             "#276419"
            ]
           ],
           "sequential": [
            [
             0,
             "#0d0887"
            ],
            [
             0.1111111111111111,
             "#46039f"
            ],
            [
             0.2222222222222222,
             "#7201a8"
            ],
            [
             0.3333333333333333,
             "#9c179e"
            ],
            [
             0.4444444444444444,
             "#bd3786"
            ],
            [
             0.5555555555555556,
             "#d8576b"
            ],
            [
             0.6666666666666666,
             "#ed7953"
            ],
            [
             0.7777777777777778,
             "#fb9f3a"
            ],
            [
             0.8888888888888888,
             "#fdca26"
            ],
            [
             1,
             "#f0f921"
            ]
           ],
           "sequentialminus": [
            [
             0,
             "#0d0887"
            ],
            [
             0.1111111111111111,
             "#46039f"
            ],
            [
             0.2222222222222222,
             "#7201a8"
            ],
            [
             0.3333333333333333,
             "#9c179e"
            ],
            [
             0.4444444444444444,
             "#bd3786"
            ],
            [
             0.5555555555555556,
             "#d8576b"
            ],
            [
             0.6666666666666666,
             "#ed7953"
            ],
            [
             0.7777777777777778,
             "#fb9f3a"
            ],
            [
             0.8888888888888888,
             "#fdca26"
            ],
            [
             1,
             "#f0f921"
            ]
           ]
          },
          "colorway": [
           "#636efa",
           "#EF553B",
           "#00cc96",
           "#ab63fa",
           "#FFA15A",
           "#19d3f3",
           "#FF6692",
           "#B6E880",
           "#FF97FF",
           "#FECB52"
          ],
          "font": {
           "color": "#2a3f5f"
          },
          "geo": {
           "bgcolor": "white",
           "lakecolor": "white",
           "landcolor": "#E5ECF6",
           "showlakes": true,
           "showland": true,
           "subunitcolor": "white"
          },
          "hoverlabel": {
           "align": "left"
          },
          "hovermode": "closest",
          "mapbox": {
           "style": "light"
          },
          "paper_bgcolor": "white",
          "plot_bgcolor": "#E5ECF6",
          "polar": {
           "angularaxis": {
            "gridcolor": "white",
            "linecolor": "white",
            "ticks": ""
           },
           "bgcolor": "#E5ECF6",
           "radialaxis": {
            "gridcolor": "white",
            "linecolor": "white",
            "ticks": ""
           }
          },
          "scene": {
           "xaxis": {
            "backgroundcolor": "#E5ECF6",
            "gridcolor": "white",
            "gridwidth": 2,
            "linecolor": "white",
            "showbackground": true,
            "ticks": "",
            "zerolinecolor": "white"
           },
           "yaxis": {
            "backgroundcolor": "#E5ECF6",
            "gridcolor": "white",
            "gridwidth": 2,
            "linecolor": "white",
            "showbackground": true,
            "ticks": "",
            "zerolinecolor": "white"
           },
           "zaxis": {
            "backgroundcolor": "#E5ECF6",
            "gridcolor": "white",
            "gridwidth": 2,
            "linecolor": "white",
            "showbackground": true,
            "ticks": "",
            "zerolinecolor": "white"
           }
          },
          "shapedefaults": {
           "line": {
            "color": "#2a3f5f"
           }
          },
          "ternary": {
           "aaxis": {
            "gridcolor": "white",
            "linecolor": "white",
            "ticks": ""
           },
           "baxis": {
            "gridcolor": "white",
            "linecolor": "white",
            "ticks": ""
           },
           "bgcolor": "#E5ECF6",
           "caxis": {
            "gridcolor": "white",
            "linecolor": "white",
            "ticks": ""
           }
          },
          "title": {
           "x": 0.05
          },
          "xaxis": {
           "automargin": true,
           "gridcolor": "white",
           "linecolor": "white",
           "ticks": "",
           "zerolinecolor": "white",
           "zerolinewidth": 2
          },
          "yaxis": {
           "automargin": true,
           "gridcolor": "white",
           "linecolor": "white",
           "ticks": "",
           "zerolinecolor": "white",
           "zerolinewidth": 2
          }
         }
        },
        "title": {
         "text": "video:gold/auc"
        },
        "xaxis": {
         "type": "date"
        }
       }
      },
      "text/html": [
       "<div>\n",
       "        \n",
       "        \n",
       "            <div id=\"1d88dd34-7ba5-4704-a7fb-a7e301bc3b16\" class=\"plotly-graph-div\" style=\"height:525px; width:100%;\"></div>\n",
       "            <script type=\"text/javascript\">\n",
       "                require([\"plotly\"], function(Plotly) {\n",
       "                    window.PLOTLYENV=window.PLOTLYENV || {};\n",
       "                    \n",
       "                if (document.getElementById(\"1d88dd34-7ba5-4704-a7fb-a7e301bc3b16\")) {\n",
       "                    Plotly.newPlot(\n",
       "                        '1d88dd34-7ba5-4704-a7fb-a7e301bc3b16',\n",
       "                        [{\"line\": {\"shape\": \"spline\", \"smoothing\": 1.0}, \"mode\": \"lines+markers\", \"name\": \"456:gold/auc\", \"type\": \"scatter\", \"x\": [\"2019-12-26T10:00:00\", \"2019-12-26T11:00:00\", \"2019-12-26T12:00:00\", \"2019-12-26T13:00:00\", \"2019-12-26T14:00:00\", \"2019-12-26T15:00:00\", \"2019-12-26T16:00:00\", \"2019-12-26T17:00:00\", \"2019-12-26T18:00:00\", \"2019-12-26T19:00:00\", \"2019-12-26T20:00:00\", \"2019-12-26T21:00:00\", \"2019-12-26T22:00:00\", \"2019-12-26T23:00:00\", \"2019-12-27T00:00:00\", \"2019-12-27T01:00:00\", \"2019-12-27T02:00:00\", \"2019-12-27T03:00:00\", \"2019-12-27T04:00:00\", \"2019-12-27T05:00:00\", \"2019-12-27T06:00:00\", \"2019-12-27T07:00:00\", \"2019-12-27T08:00:00\", \"2019-12-27T09:00:00\", \"2019-12-27T10:00:00\", \"2019-12-27T13:00:00\", \"2019-12-27T14:00:00\", \"2019-12-27T15:00:00\", \"2019-12-27T16:00:00\", \"2019-12-27T17:00:00\", \"2019-12-27T18:00:00\", \"2019-12-27T19:00:00\", \"2019-12-27T20:00:00\", \"2019-12-27T21:00:00\", \"2019-12-28T08:00:00\", \"2019-12-28T09:00:00\", \"2019-12-28T10:00:00\", \"2019-12-28T11:00:00\", \"2019-12-28T12:00:00\", \"2019-12-28T13:00:00\", \"2019-12-28T14:00:00\", \"2019-12-28T15:00:00\", \"2019-12-28T16:00:00\", \"2019-12-28T17:00:00\", \"2019-12-28T18:00:00\", \"2019-12-28T19:00:00\", \"2019-12-28T20:00:00\", \"2019-12-28T21:00:00\", \"2019-12-29T08:00:00\", \"2019-12-29T09:00:00\", \"2019-12-29T10:00:00\", \"2019-12-29T11:00:00\", \"2019-12-29T12:00:00\", \"2019-12-29T13:00:00\", \"2019-12-29T14:00:00\", \"2019-12-29T15:00:00\", \"2019-12-29T16:00:00\", \"2019-12-29T17:00:00\", \"2019-12-29T18:00:00\", \"2019-12-29T19:00:00\", \"2019-12-29T20:00:00\", \"2019-12-29T21:00:00\", \"2019-12-29T22:00:00\", \"2019-12-29T23:00:00\", \"2019-12-30T00:00:00\", \"2019-12-30T01:00:00\", \"2019-12-30T02:00:00\", \"2019-12-30T03:00:00\", \"2019-12-30T04:00:00\", \"2019-12-30T05:00:00\", \"2019-12-30T06:00:00\", \"2019-12-30T07:00:00\", \"2019-12-30T08:00:00\", \"2019-12-30T09:00:00\", \"2019-12-30T10:00:00\", \"2019-12-30T11:00:00\", \"2019-12-30T12:00:00\", \"2019-12-30T13:00:00\", \"2019-12-30T14:00:00\", \"2019-12-30T15:00:00\", \"2019-12-30T16:00:00\", \"2019-12-30T17:00:00\", \"2019-12-30T18:00:00\", \"2019-12-30T19:00:00\", \"2019-12-30T20:00:00\", \"2019-12-30T21:00:00\", \"2019-12-30T22:00:00\", \"2019-12-30T23:00:00\", \"2019-12-31T00:00:00\", \"2019-12-31T01:00:00\", \"2019-12-31T02:00:00\", \"2019-12-31T03:00:00\", \"2019-12-31T04:00:00\", \"2019-12-31T05:00:00\", \"2019-12-31T06:00:00\", \"2019-12-31T07:00:00\", \"2019-12-31T08:00:00\", \"2019-12-31T09:00:00\", \"2019-12-31T10:00:00\", \"2019-12-31T11:00:00\", \"2019-12-31T12:00:00\", \"2019-12-31T13:00:00\"], \"y\": [0.5390918614533496, 0.5125415997860344, 0.5286110739743338, 0.5239311988612764, 0.5237139933885605, 0.5117578890679613, 0.5163261009960136, 0.5230161083047168, 0.5152467432844559, 0.5216051730284842, 0.5212795977293448, 0.518673259933499, 0.5323677258505305, 0.5275421637042457, 0.5208459066890619, 0.5142998522907204, 0.5235290020244491, 0.5146315139726723, 0.5010299630594135, 0.4968423608091967, 0.5176982802306025, 0.4982158689906334, 0.5209145390253032, 0.5109747612993941, 0.5245025457849913, 0.5256232830542896, 0.5205693305594815, 0.5217100388236344, 0.5211960656277957, 0.5165810004303186, 0.5232461003273484, 0.5246962379356992, 0.5273460429120949, 0.5217054966707704, 0.5056934456078312, 0.518148496386788, 0.5243234326985601, 0.5307065729280732, 0.5167001163399304, 0.51573190989265, 0.5275195691323968, 0.5162166350655434, 0.5163176012806432, 0.5180785848525435, 0.5224367542387148, 0.5182476534824298, 0.5132709141592153, 0.5293452809510588, 0.5151914325861056, 0.5250043497701075, 0.5169697275857059, 0.5203538249995149, 0.5090553537442474, 0.5199362382314658, 0.5161754668378854, 0.5214965239535829, 0.515654689109753, 0.5155451959610233, 0.5151692109154052, 0.5306593820638805, 0.5129306867918183, 0.520981154668384, 0.5232486410007597, 0.524936343470382, 0.5248269923002051, 0.5301231422865312, 0.5081934773900433, 0.5040115860291171, 0.4936490151704101, 0.4827502992986522, 0.5201944815536187, 0.5065840836486668, 0.5209641922511288, 0.5129115120058828, 0.5200486122443561, 0.5199784874539793, 0.5239753615823313, 0.5206906236368529, 0.5108914593530487, 0.5162144533068663, 0.5252719715350544, 0.508482808329716, 0.5166353560602011, 0.5237940878758187, 0.5211734685524796, 0.5140661378384589, 0.5227238844578922, 0.5324521037157907, 0.5100101540365974, 0.5185436694059948, 0.5228519399244109, 0.5216387850789312, 0.5007412207745842, 0.4991078756437372, 0.5182262394538363, 0.5155217061160291, 0.5166711589458859, 0.5201798861334074, 0.5182089679618389, 0.5152021887746422, 0.5123027674256051, 0.5194098115640643]}, {\"line\": {\"shape\": \"spline\", \"smoothing\": 1.0}, \"mode\": \"lines+markers\", \"name\": \"15:gold/auc\", \"type\": \"scatter\", \"x\": [\"2019-12-26T10:00:00\", \"2019-12-26T11:00:00\", \"2019-12-26T12:00:00\", \"2019-12-26T13:00:00\", \"2019-12-26T14:00:00\", \"2019-12-26T15:00:00\", \"2019-12-26T16:00:00\", \"2019-12-26T17:00:00\", \"2019-12-26T18:00:00\", \"2019-12-26T19:00:00\", \"2019-12-26T20:00:00\", \"2019-12-26T21:00:00\", \"2019-12-26T22:00:00\", \"2019-12-26T23:00:00\", \"2019-12-27T00:00:00\", \"2019-12-27T01:00:00\", \"2019-12-27T02:00:00\", \"2019-12-27T03:00:00\", \"2019-12-27T04:00:00\", \"2019-12-27T05:00:00\", \"2019-12-27T06:00:00\", \"2019-12-27T07:00:00\", \"2019-12-27T08:00:00\", \"2019-12-27T09:00:00\", \"2019-12-27T10:00:00\", \"2019-12-27T13:00:00\", \"2019-12-27T14:00:00\", \"2019-12-27T15:00:00\", \"2019-12-27T16:00:00\", \"2019-12-27T17:00:00\", \"2019-12-27T18:00:00\", \"2019-12-27T19:00:00\", \"2019-12-27T20:00:00\", \"2019-12-27T21:00:00\", \"2019-12-28T08:00:00\", \"2019-12-28T09:00:00\", \"2019-12-28T10:00:00\", \"2019-12-28T11:00:00\", \"2019-12-28T12:00:00\", \"2019-12-28T13:00:00\", \"2019-12-28T14:00:00\", \"2019-12-28T15:00:00\", \"2019-12-28T16:00:00\", \"2019-12-28T17:00:00\", \"2019-12-28T18:00:00\", \"2019-12-28T19:00:00\", \"2019-12-28T20:00:00\", \"2019-12-28T21:00:00\", \"2019-12-29T08:00:00\", \"2019-12-29T09:00:00\", \"2019-12-29T10:00:00\", \"2019-12-29T11:00:00\", \"2019-12-29T12:00:00\", \"2019-12-29T13:00:00\", \"2019-12-29T14:00:00\", \"2019-12-29T15:00:00\", \"2019-12-29T16:00:00\", \"2019-12-29T17:00:00\", \"2019-12-29T18:00:00\", \"2019-12-29T19:00:00\", \"2019-12-29T20:00:00\", \"2019-12-29T21:00:00\", \"2019-12-29T22:00:00\", \"2019-12-29T23:00:00\", \"2019-12-30T00:00:00\", \"2019-12-30T01:00:00\", \"2019-12-30T02:00:00\", \"2019-12-30T03:00:00\", \"2019-12-30T04:00:00\", \"2019-12-30T05:00:00\", \"2019-12-30T06:00:00\", \"2019-12-30T07:00:00\", \"2019-12-30T08:00:00\", \"2019-12-30T09:00:00\", \"2019-12-30T10:00:00\", \"2019-12-30T11:00:00\", \"2019-12-30T12:00:00\", \"2019-12-30T13:00:00\", \"2019-12-30T14:00:00\", \"2019-12-30T15:00:00\", \"2019-12-30T16:00:00\", \"2019-12-30T17:00:00\", \"2019-12-30T18:00:00\", \"2019-12-30T19:00:00\", \"2019-12-30T20:00:00\", \"2019-12-30T21:00:00\", \"2019-12-30T22:00:00\", \"2019-12-30T23:00:00\", \"2019-12-31T00:00:00\", \"2019-12-31T01:00:00\", \"2019-12-31T02:00:00\", \"2019-12-31T03:00:00\", \"2019-12-31T04:00:00\", \"2019-12-31T05:00:00\", \"2019-12-31T06:00:00\", \"2019-12-31T07:00:00\", \"2019-12-31T08:00:00\", \"2019-12-31T09:00:00\", \"2019-12-31T10:00:00\", \"2019-12-31T11:00:00\", \"2019-12-31T12:00:00\", \"2019-12-31T13:00:00\"], \"y\": [0.5127160615285675, 0.5143777438425478, 0.5066922517230362, 0.5212420098391146, 0.5176603164178384, 0.49344508187525, 0.4932686717956888, 0.5199903088286181, 0.5258700770999614, 0.5301550613558764, 0.5282160752115128, 0.5188563288643384, 0.5263721450983587, 0.5168405988299514, 0.5315173382182198, 0.5132523858643533, 0.529375891452734, 0.5101230354269922, 0.4520479369917378, 0.5187724356829007, 0.4966908879343368, 0.5127951479032017, 0.5279493518952355, 0.5128202054448088, 0.5202978668023542, 0.5228752788128436, 0.5165313962921327, 0.5096317557624832, 0.5155504997154721, 0.5311393747674118, 0.5231102695236217, 0.5133689483673823, 0.5205424843186602, 0.5323541502675232, 0.5182982382924037, 0.5244633166901425, 0.5296796781738836, 0.5163529180189447, 0.5343787079395844, 0.5135042646860508, 0.5179284958780921, 0.5320921539744989, 0.5091048834085291, 0.5203838930424926, 0.5204487966162996, 0.5126466779285606, 0.5160309066571961, 0.5216392253599152, 0.5094876220968967, 0.5157704469133733, 0.5142364453737148, 0.5431447375874938, 0.5268254367344563, 0.5202245464290799, 0.5152679296205331, 0.5397768873095747, 0.530095519997599, 0.5200296016341073, 0.5045662214299909, 0.5109853988667766, 0.5097188740121513, 0.5128122633324163, 0.5114938401225048, 0.5058022347162661, 0.5260022723811251, 0.5310284076379289, 0.5307208495191861, 0.5417080014454697, 0.532565759856755, 0.4865609460351332, 0.4907018982410027, 0.5116903959785005, 0.4990319122833925, 0.5146552932212586, 0.5271471059865763, 0.5094343371763175, 0.5334759296308467, 0.5175199114818678, 0.4968783230909779, 0.5139572374641367, 0.5113173673496887, 0.5098156120649479, 0.5072326737139752, 0.4997114551581594, 0.5214219673901246, 0.5105363068034184, 0.5141851266179247, 0.5234345749571369, 0.5244220591339108, 0.5238676184827582, 0.51475288619939, 0.503133731679281, 0.5016170215571625, 0.4967861212050653, 0.5180358138477968, 0.5392657603868346, 0.5098551369992628, 0.5145574597414887, 0.5227629926678479, 0.5165769112108786, 0.5286790453608002, 0.5087472630213516]}],\n",
       "                        {\"hovermode\": \"x\", \"template\": {\"data\": {\"bar\": [{\"error_x\": {\"color\": \"#2a3f5f\"}, \"error_y\": {\"color\": \"#2a3f5f\"}, \"marker\": {\"line\": {\"color\": \"#E5ECF6\", \"width\": 0.5}}, \"type\": \"bar\"}], \"barpolar\": [{\"marker\": {\"line\": {\"color\": \"#E5ECF6\", \"width\": 0.5}}, \"type\": \"barpolar\"}], \"carpet\": [{\"aaxis\": {\"endlinecolor\": \"#2a3f5f\", \"gridcolor\": \"white\", \"linecolor\": \"white\", \"minorgridcolor\": \"white\", \"startlinecolor\": \"#2a3f5f\"}, \"baxis\": {\"endlinecolor\": \"#2a3f5f\", \"gridcolor\": \"white\", \"linecolor\": \"white\", \"minorgridcolor\": \"white\", \"startlinecolor\": \"#2a3f5f\"}, \"type\": \"carpet\"}], \"choropleth\": [{\"colorbar\": {\"outlinewidth\": 0, \"ticks\": \"\"}, \"type\": \"choropleth\"}], \"contour\": [{\"colorbar\": {\"outlinewidth\": 0, \"ticks\": \"\"}, \"colorscale\": [[0.0, \"#0d0887\"], [0.1111111111111111, \"#46039f\"], [0.2222222222222222, \"#7201a8\"], [0.3333333333333333, \"#9c179e\"], [0.4444444444444444, \"#bd3786\"], [0.5555555555555556, \"#d8576b\"], [0.6666666666666666, \"#ed7953\"], [0.7777777777777778, \"#fb9f3a\"], [0.8888888888888888, \"#fdca26\"], [1.0, \"#f0f921\"]], \"type\": \"contour\"}], \"contourcarpet\": [{\"colorbar\": {\"outlinewidth\": 0, \"ticks\": \"\"}, \"type\": \"contourcarpet\"}], \"heatmap\": [{\"colorbar\": {\"outlinewidth\": 0, \"ticks\": \"\"}, \"colorscale\": [[0.0, \"#0d0887\"], [0.1111111111111111, \"#46039f\"], [0.2222222222222222, \"#7201a8\"], [0.3333333333333333, \"#9c179e\"], [0.4444444444444444, \"#bd3786\"], [0.5555555555555556, \"#d8576b\"], [0.6666666666666666, \"#ed7953\"], [0.7777777777777778, \"#fb9f3a\"], [0.8888888888888888, \"#fdca26\"], [1.0, \"#f0f921\"]], \"type\": \"heatmap\"}], \"heatmapgl\": [{\"colorbar\": {\"outlinewidth\": 0, \"ticks\": \"\"}, \"colorscale\": [[0.0, \"#0d0887\"], [0.1111111111111111, \"#46039f\"], [0.2222222222222222, \"#7201a8\"], [0.3333333333333333, \"#9c179e\"], [0.4444444444444444, \"#bd3786\"], [0.5555555555555556, \"#d8576b\"], [0.6666666666666666, \"#ed7953\"], [0.7777777777777778, \"#fb9f3a\"], [0.8888888888888888, \"#fdca26\"], [1.0, \"#f0f921\"]], \"type\": \"heatmapgl\"}], \"histogram\": [{\"marker\": {\"colorbar\": {\"outlinewidth\": 0, \"ticks\": \"\"}}, \"type\": \"histogram\"}], \"histogram2d\": [{\"colorbar\": {\"outlinewidth\": 0, \"ticks\": \"\"}, \"colorscale\": [[0.0, \"#0d0887\"], [0.1111111111111111, \"#46039f\"], [0.2222222222222222, \"#7201a8\"], [0.3333333333333333, \"#9c179e\"], [0.4444444444444444, \"#bd3786\"], [0.5555555555555556, \"#d8576b\"], [0.6666666666666666, \"#ed7953\"], [0.7777777777777778, \"#fb9f3a\"], [0.8888888888888888, \"#fdca26\"], [1.0, \"#f0f921\"]], \"type\": \"histogram2d\"}], \"histogram2dcontour\": [{\"colorbar\": {\"outlinewidth\": 0, \"ticks\": \"\"}, \"colorscale\": [[0.0, \"#0d0887\"], [0.1111111111111111, \"#46039f\"], [0.2222222222222222, \"#7201a8\"], [0.3333333333333333, \"#9c179e\"], [0.4444444444444444, \"#bd3786\"], [0.5555555555555556, \"#d8576b\"], [0.6666666666666666, \"#ed7953\"], [0.7777777777777778, \"#fb9f3a\"], [0.8888888888888888, \"#fdca26\"], [1.0, \"#f0f921\"]], \"type\": \"histogram2dcontour\"}], \"mesh3d\": [{\"colorbar\": {\"outlinewidth\": 0, \"ticks\": \"\"}, \"type\": \"mesh3d\"}], \"parcoords\": [{\"line\": {\"colorbar\": {\"outlinewidth\": 0, \"ticks\": \"\"}}, \"type\": \"parcoords\"}], \"scatter\": [{\"marker\": {\"colorbar\": {\"outlinewidth\": 0, \"ticks\": \"\"}}, \"type\": \"scatter\"}], \"scatter3d\": [{\"line\": {\"colorbar\": {\"outlinewidth\": 0, \"ticks\": \"\"}}, \"marker\": {\"colorbar\": {\"outlinewidth\": 0, \"ticks\": \"\"}}, \"type\": \"scatter3d\"}], \"scattercarpet\": [{\"marker\": {\"colorbar\": {\"outlinewidth\": 0, \"ticks\": \"\"}}, \"type\": \"scattercarpet\"}], \"scattergeo\": [{\"marker\": {\"colorbar\": {\"outlinewidth\": 0, \"ticks\": \"\"}}, \"type\": \"scattergeo\"}], \"scattergl\": [{\"marker\": {\"colorbar\": {\"outlinewidth\": 0, \"ticks\": \"\"}}, \"type\": \"scattergl\"}], \"scattermapbox\": [{\"marker\": {\"colorbar\": {\"outlinewidth\": 0, \"ticks\": \"\"}}, \"type\": \"scattermapbox\"}], \"scatterpolar\": [{\"marker\": {\"colorbar\": {\"outlinewidth\": 0, \"ticks\": \"\"}}, \"type\": \"scatterpolar\"}], \"scatterpolargl\": [{\"marker\": {\"colorbar\": {\"outlinewidth\": 0, \"ticks\": \"\"}}, \"type\": \"scatterpolargl\"}], \"scatterternary\": [{\"marker\": {\"colorbar\": {\"outlinewidth\": 0, \"ticks\": \"\"}}, \"type\": \"scatterternary\"}], \"surface\": [{\"colorbar\": {\"outlinewidth\": 0, \"ticks\": \"\"}, \"colorscale\": [[0.0, \"#0d0887\"], [0.1111111111111111, \"#46039f\"], [0.2222222222222222, \"#7201a8\"], [0.3333333333333333, \"#9c179e\"], [0.4444444444444444, \"#bd3786\"], [0.5555555555555556, \"#d8576b\"], [0.6666666666666666, \"#ed7953\"], [0.7777777777777778, \"#fb9f3a\"], [0.8888888888888888, \"#fdca26\"], [1.0, \"#f0f921\"]], \"type\": \"surface\"}], \"table\": [{\"cells\": {\"fill\": {\"color\": \"#EBF0F8\"}, \"line\": {\"color\": \"white\"}}, \"header\": {\"fill\": {\"color\": \"#C8D4E3\"}, \"line\": {\"color\": \"white\"}}, \"type\": \"table\"}]}, \"layout\": {\"annotationdefaults\": {\"arrowcolor\": \"#2a3f5f\", \"arrowhead\": 0, \"arrowwidth\": 1}, \"colorscale\": {\"diverging\": [[0, \"#8e0152\"], [0.1, \"#c51b7d\"], [0.2, \"#de77ae\"], [0.3, \"#f1b6da\"], [0.4, \"#fde0ef\"], [0.5, \"#f7f7f7\"], [0.6, \"#e6f5d0\"], [0.7, \"#b8e186\"], [0.8, \"#7fbc41\"], [0.9, \"#4d9221\"], [1, \"#276419\"]], \"sequential\": [[0.0, \"#0d0887\"], [0.1111111111111111, \"#46039f\"], [0.2222222222222222, \"#7201a8\"], [0.3333333333333333, \"#9c179e\"], [0.4444444444444444, \"#bd3786\"], [0.5555555555555556, \"#d8576b\"], [0.6666666666666666, \"#ed7953\"], [0.7777777777777778, \"#fb9f3a\"], [0.8888888888888888, \"#fdca26\"], [1.0, \"#f0f921\"]], \"sequentialminus\": [[0.0, \"#0d0887\"], [0.1111111111111111, \"#46039f\"], [0.2222222222222222, \"#7201a8\"], [0.3333333333333333, \"#9c179e\"], [0.4444444444444444, \"#bd3786\"], [0.5555555555555556, \"#d8576b\"], [0.6666666666666666, \"#ed7953\"], [0.7777777777777778, \"#fb9f3a\"], [0.8888888888888888, \"#fdca26\"], [1.0, \"#f0f921\"]]}, \"colorway\": [\"#636efa\", \"#EF553B\", \"#00cc96\", \"#ab63fa\", \"#FFA15A\", \"#19d3f3\", \"#FF6692\", \"#B6E880\", \"#FF97FF\", \"#FECB52\"], \"font\": {\"color\": \"#2a3f5f\"}, \"geo\": {\"bgcolor\": \"white\", \"lakecolor\": \"white\", \"landcolor\": \"#E5ECF6\", \"showlakes\": true, \"showland\": true, \"subunitcolor\": \"white\"}, \"hoverlabel\": {\"align\": \"left\"}, \"hovermode\": \"closest\", \"mapbox\": {\"style\": \"light\"}, \"paper_bgcolor\": \"white\", \"plot_bgcolor\": \"#E5ECF6\", \"polar\": {\"angularaxis\": {\"gridcolor\": \"white\", \"linecolor\": \"white\", \"ticks\": \"\"}, \"bgcolor\": \"#E5ECF6\", \"radialaxis\": {\"gridcolor\": \"white\", \"linecolor\": \"white\", \"ticks\": \"\"}}, \"scene\": {\"xaxis\": {\"backgroundcolor\": \"#E5ECF6\", \"gridcolor\": \"white\", \"gridwidth\": 2, \"linecolor\": \"white\", \"showbackground\": true, \"ticks\": \"\", \"zerolinecolor\": \"white\"}, \"yaxis\": {\"backgroundcolor\": \"#E5ECF6\", \"gridcolor\": \"white\", \"gridwidth\": 2, \"linecolor\": \"white\", \"showbackground\": true, \"ticks\": \"\", \"zerolinecolor\": \"white\"}, \"zaxis\": {\"backgroundcolor\": \"#E5ECF6\", \"gridcolor\": \"white\", \"gridwidth\": 2, \"linecolor\": \"white\", \"showbackground\": true, \"ticks\": \"\", \"zerolinecolor\": \"white\"}}, \"shapedefaults\": {\"line\": {\"color\": \"#2a3f5f\"}}, \"ternary\": {\"aaxis\": {\"gridcolor\": \"white\", \"linecolor\": \"white\", \"ticks\": \"\"}, \"baxis\": {\"gridcolor\": \"white\", \"linecolor\": \"white\", \"ticks\": \"\"}, \"bgcolor\": \"#E5ECF6\", \"caxis\": {\"gridcolor\": \"white\", \"linecolor\": \"white\", \"ticks\": \"\"}}, \"title\": {\"x\": 0.05}, \"xaxis\": {\"automargin\": true, \"gridcolor\": \"white\", \"linecolor\": \"white\", \"ticks\": \"\", \"zerolinecolor\": \"white\", \"zerolinewidth\": 2}, \"yaxis\": {\"automargin\": true, \"gridcolor\": \"white\", \"linecolor\": \"white\", \"ticks\": \"\", \"zerolinecolor\": \"white\", \"zerolinewidth\": 2}}}, \"title\": {\"text\": \"video:gold/auc\"}, \"xaxis\": {\"type\": \"date\"}},\n",
       "                        {\"responsive\": true}\n",
       "                    ).then(function(){\n",
       "                            \n",
       "var gd = document.getElementById('1d88dd34-7ba5-4704-a7fb-a7e301bc3b16');\n",
       "var x = new MutationObserver(function (mutations, observer) {{\n",
       "        var display = window.getComputedStyle(gd).display;\n",
       "        if (!display || display === 'none') {{\n",
       "            console.log([gd, 'removed!']);\n",
       "            Plotly.purge(gd);\n",
       "            observer.disconnect();\n",
       "        }}\n",
       "}});\n",
       "\n",
       "// Listen for the removal of the full notebook cells\n",
       "var notebookContainer = gd.closest('#notebook-container');\n",
       "if (notebookContainer) {{\n",
       "    x.observe(notebookContainer, {childList: true});\n",
       "}}\n",
       "\n",
       "// Listen for the clearing of the current output cell\n",
       "var outputEl = gd.closest('.output');\n",
       "if (outputEl) {{\n",
       "    x.observe(outputEl, {childList: true});\n",
       "}}\n",
       "\n",
       "                        })\n",
       "                };\n",
       "                });\n",
       "            </script>\n",
       "        </div>"
      ]
     },
     "metadata": {},
     "output_type": "display_data"
    }
   ],
   "source": [
    "compare(df, 'gold/auc', smoothing=0.)"
   ]
  },
  {
   "cell_type": "code",
   "execution_count": 31,
   "metadata": {},
   "outputs": [
    {
     "data": {
      "application/vnd.plotly.v1+json": {
       "config": {
        "linkText": "Export to plot.ly",
        "plotlyServerURL": "https://plot.ly",
        "showLink": false
       },
       "data": [
        {
         "line": {
          "shape": "spline",
          "smoothing": 1
         },
         "mode": "lines+markers",
         "name": "456:auc",
         "type": "scatter",
         "x": [
          "2019-12-26T10:00:00",
          "2019-12-26T11:00:00",
          "2019-12-26T12:00:00",
          "2019-12-26T13:00:00",
          "2019-12-26T14:00:00",
          "2019-12-26T15:00:00",
          "2019-12-26T16:00:00",
          "2019-12-26T17:00:00",
          "2019-12-26T18:00:00",
          "2019-12-26T19:00:00",
          "2019-12-26T20:00:00",
          "2019-12-26T21:00:00",
          "2019-12-26T22:00:00",
          "2019-12-26T23:00:00",
          "2019-12-27T00:00:00",
          "2019-12-27T01:00:00",
          "2019-12-27T02:00:00",
          "2019-12-27T03:00:00",
          "2019-12-27T04:00:00",
          "2019-12-27T05:00:00",
          "2019-12-27T06:00:00",
          "2019-12-27T07:00:00",
          "2019-12-27T08:00:00",
          "2019-12-27T09:00:00",
          "2019-12-27T10:00:00",
          "2019-12-27T13:00:00",
          "2019-12-27T14:00:00",
          "2019-12-27T15:00:00",
          "2019-12-27T16:00:00",
          "2019-12-27T17:00:00",
          "2019-12-27T18:00:00",
          "2019-12-27T19:00:00",
          "2019-12-27T20:00:00",
          "2019-12-27T21:00:00",
          "2019-12-28T08:00:00",
          "2019-12-28T09:00:00",
          "2019-12-28T10:00:00",
          "2019-12-28T11:00:00",
          "2019-12-28T12:00:00",
          "2019-12-28T13:00:00",
          "2019-12-28T14:00:00",
          "2019-12-28T15:00:00",
          "2019-12-28T16:00:00",
          "2019-12-28T17:00:00",
          "2019-12-28T18:00:00",
          "2019-12-28T19:00:00",
          "2019-12-28T20:00:00",
          "2019-12-28T21:00:00",
          "2019-12-29T08:00:00",
          "2019-12-29T09:00:00",
          "2019-12-29T10:00:00",
          "2019-12-29T11:00:00",
          "2019-12-29T12:00:00",
          "2019-12-29T13:00:00",
          "2019-12-29T14:00:00",
          "2019-12-29T15:00:00",
          "2019-12-29T16:00:00",
          "2019-12-29T17:00:00",
          "2019-12-29T18:00:00",
          "2019-12-29T19:00:00",
          "2019-12-29T20:00:00",
          "2019-12-29T21:00:00",
          "2019-12-29T22:00:00",
          "2019-12-29T23:00:00",
          "2019-12-30T00:00:00",
          "2019-12-30T01:00:00",
          "2019-12-30T02:00:00",
          "2019-12-30T03:00:00",
          "2019-12-30T04:00:00",
          "2019-12-30T05:00:00",
          "2019-12-30T06:00:00",
          "2019-12-30T07:00:00",
          "2019-12-30T08:00:00",
          "2019-12-30T09:00:00",
          "2019-12-30T10:00:00",
          "2019-12-30T11:00:00",
          "2019-12-30T12:00:00",
          "2019-12-30T13:00:00",
          "2019-12-30T14:00:00",
          "2019-12-30T15:00:00",
          "2019-12-30T16:00:00",
          "2019-12-30T17:00:00",
          "2019-12-30T18:00:00",
          "2019-12-30T19:00:00",
          "2019-12-30T20:00:00",
          "2019-12-30T21:00:00",
          "2019-12-30T22:00:00",
          "2019-12-30T23:00:00",
          "2019-12-31T00:00:00",
          "2019-12-31T01:00:00",
          "2019-12-31T02:00:00",
          "2019-12-31T03:00:00",
          "2019-12-31T04:00:00",
          "2019-12-31T05:00:00",
          "2019-12-31T06:00:00",
          "2019-12-31T07:00:00",
          "2019-12-31T08:00:00",
          "2019-12-31T09:00:00",
          "2019-12-31T10:00:00",
          "2019-12-31T11:00:00",
          "2019-12-31T12:00:00",
          "2019-12-31T13:00:00"
         ],
         "y": [
          0.6685096322956594,
          0.6545339245645231,
          0.6380992124795831,
          0.6610756756686306,
          0.6668550841402602,
          0.6736617216006572,
          0.6719838240905046,
          0.6669260906915973,
          0.6781487120668585,
          0.6765921215551242,
          0.6748724881947491,
          0.6687654292605417,
          0.6777768623524947,
          0.6784570022570062,
          0.68198541554111,
          0.6859149947639219,
          0.670256630419615,
          0.6603538245674605,
          0.6633345366884461,
          0.6750905968145064,
          0.6695630970405579,
          0.6372769199022252,
          0.6568902292146843,
          0.6592242878611851,
          0.6750252498083154,
          0.6739552404744446,
          0.6758416085408845,
          0.6765837358854931,
          0.6820454504290544,
          0.6864293520751998,
          0.6739600930796062,
          0.6762583673754007,
          0.6795748649118741,
          0.677855562846687,
          0.668325561902033,
          0.6712636646514778,
          0.6745397716110314,
          0.6697229893790865,
          0.6677007085715035,
          0.666223175221898,
          0.6839830146261762,
          0.6748413853357976,
          0.6728207638887089,
          0.6734634535418242,
          0.6779655279323289,
          0.6719918874507388,
          0.6785448243667103,
          0.6670633221797327,
          0.6662854718896564,
          0.661937028930809,
          0.6649919621916961,
          0.6658922357898527,
          0.6716094810060604,
          0.6673885080591497,
          0.6664095098080229,
          0.6691835921046408,
          0.672400922125195,
          0.6719773040402736,
          0.6842830293061615,
          0.6763179368548506,
          0.6709709652600809,
          0.6788162681213122,
          0.6772829115564518,
          0.6768436416361625,
          0.6717070769121483,
          0.6813617995511247,
          0.703419773186537,
          0.6835302906587091,
          0.6816793956623061,
          0.6784340351021811,
          0.6694798917283937,
          0.6604490453453303,
          0.6681112402331508,
          0.6720612050441388,
          0.6685224281704454,
          0.6552119435626906,
          0.6564212859113818,
          0.676204304902706,
          0.6698245539247281,
          0.6694981923133947,
          0.6707512083263001,
          0.6575856966176317,
          0.6736042008207788,
          0.6594009684988038,
          0.6650781883939758,
          0.6763288877855735,
          0.6837635244530667,
          0.6895706908315953,
          0.6760521625435072,
          0.685953484117848,
          0.7024514784400109,
          0.6858367850374163,
          0.6789267143249444,
          0.6639635911529265,
          0.6682533904712099,
          0.6729220333980724,
          0.6797990374779573,
          0.6735336058337182,
          0.676549488017717,
          0.6856404597162659,
          0.6706506512444984,
          0.6727104479577611
         ]
        },
        {
         "line": {
          "shape": "spline",
          "smoothing": 1
         },
         "mode": "lines+markers",
         "name": "15:auc",
         "type": "scatter",
         "x": [
          "2019-12-26T10:00:00",
          "2019-12-26T11:00:00",
          "2019-12-26T12:00:00",
          "2019-12-26T13:00:00",
          "2019-12-26T14:00:00",
          "2019-12-26T15:00:00",
          "2019-12-26T16:00:00",
          "2019-12-26T17:00:00",
          "2019-12-26T18:00:00",
          "2019-12-26T19:00:00",
          "2019-12-26T20:00:00",
          "2019-12-26T21:00:00",
          "2019-12-26T22:00:00",
          "2019-12-26T23:00:00",
          "2019-12-27T00:00:00",
          "2019-12-27T01:00:00",
          "2019-12-27T02:00:00",
          "2019-12-27T03:00:00",
          "2019-12-27T04:00:00",
          "2019-12-27T05:00:00",
          "2019-12-27T06:00:00",
          "2019-12-27T07:00:00",
          "2019-12-27T08:00:00",
          "2019-12-27T09:00:00",
          "2019-12-27T10:00:00",
          "2019-12-27T13:00:00",
          "2019-12-27T14:00:00",
          "2019-12-27T15:00:00",
          "2019-12-27T16:00:00",
          "2019-12-27T17:00:00",
          "2019-12-27T18:00:00",
          "2019-12-27T19:00:00",
          "2019-12-27T20:00:00",
          "2019-12-27T21:00:00",
          "2019-12-28T08:00:00",
          "2019-12-28T09:00:00",
          "2019-12-28T10:00:00",
          "2019-12-28T11:00:00",
          "2019-12-28T12:00:00",
          "2019-12-28T13:00:00",
          "2019-12-28T14:00:00",
          "2019-12-28T15:00:00",
          "2019-12-28T16:00:00",
          "2019-12-28T17:00:00",
          "2019-12-28T18:00:00",
          "2019-12-28T19:00:00",
          "2019-12-28T20:00:00",
          "2019-12-28T21:00:00",
          "2019-12-29T08:00:00",
          "2019-12-29T09:00:00",
          "2019-12-29T10:00:00",
          "2019-12-29T11:00:00",
          "2019-12-29T12:00:00",
          "2019-12-29T13:00:00",
          "2019-12-29T14:00:00",
          "2019-12-29T15:00:00",
          "2019-12-29T16:00:00",
          "2019-12-29T17:00:00",
          "2019-12-29T18:00:00",
          "2019-12-29T19:00:00",
          "2019-12-29T20:00:00",
          "2019-12-29T21:00:00",
          "2019-12-29T22:00:00",
          "2019-12-29T23:00:00",
          "2019-12-30T00:00:00",
          "2019-12-30T01:00:00",
          "2019-12-30T02:00:00",
          "2019-12-30T03:00:00",
          "2019-12-30T04:00:00",
          "2019-12-30T05:00:00",
          "2019-12-30T06:00:00",
          "2019-12-30T07:00:00",
          "2019-12-30T08:00:00",
          "2019-12-30T09:00:00",
          "2019-12-30T10:00:00",
          "2019-12-30T11:00:00",
          "2019-12-30T12:00:00",
          "2019-12-30T13:00:00",
          "2019-12-30T14:00:00",
          "2019-12-30T15:00:00",
          "2019-12-30T16:00:00",
          "2019-12-30T17:00:00",
          "2019-12-30T18:00:00",
          "2019-12-30T19:00:00",
          "2019-12-30T20:00:00",
          "2019-12-30T21:00:00",
          "2019-12-30T22:00:00",
          "2019-12-30T23:00:00",
          "2019-12-31T00:00:00",
          "2019-12-31T01:00:00",
          "2019-12-31T02:00:00",
          "2019-12-31T03:00:00",
          "2019-12-31T04:00:00",
          "2019-12-31T05:00:00",
          "2019-12-31T06:00:00",
          "2019-12-31T07:00:00",
          "2019-12-31T08:00:00",
          "2019-12-31T09:00:00",
          "2019-12-31T10:00:00",
          "2019-12-31T11:00:00",
          "2019-12-31T12:00:00",
          "2019-12-31T13:00:00"
         ],
         "y": [
          0.6960686658368815,
          0.6548158385688813,
          0.6384786681937329,
          0.6487019613335137,
          0.670463950821041,
          0.6663979627485441,
          0.6614346641391381,
          0.6534100399264424,
          0.6737734963780849,
          0.6624269219289499,
          0.6702792099303471,
          0.6754409706304446,
          0.6708885557064039,
          0.6659086457996221,
          0.6662589224668279,
          0.682040770434021,
          0.6807209216260537,
          0.6794790293681057,
          0.6782881325109338,
          0.6653863591245889,
          0.6447181137945741,
          0.6361856500699139,
          0.6729138178232972,
          0.6775803731413679,
          0.639229915430766,
          0.6399420042392839,
          0.6412973490660951,
          0.6841027361769156,
          0.6590908780689361,
          0.6648007436703947,
          0.6677159758696128,
          0.6886054070586254,
          0.6756485645105501,
          0.6675931578639235,
          0.6799488448007966,
          0.6706449758951618,
          0.6621684028566652,
          0.6632424531284097,
          0.6650977998371914,
          0.6659954764427976,
          0.6726528518128215,
          0.6557460720757974,
          0.6458436189398871,
          0.666701828509063,
          0.6734551439566444,
          0.6732231065469771,
          0.6752095830670417,
          0.6682083826524143,
          0.6527332460602215,
          0.6527097525512979,
          0.6691457697035543,
          0.6701481519862148,
          0.6605439750448514,
          0.6662578364600862,
          0.6768583342172475,
          0.6732051203525343,
          0.6576814563532065,
          0.656397227741544,
          0.6538292165023761,
          0.6683149499289058,
          0.6655577865046833,
          0.6745617345331653,
          0.6761607626381752,
          0.6692310878111987,
          0.6730438474958629,
          0.6799274623144056,
          0.6738577731834687,
          0.6814914676623149,
          0.6850398384530556,
          0.6606016022946442,
          0.664680218206951,
          0.6684946547605806,
          0.6574186278812795,
          0.6720017686208858,
          0.6659297955831797,
          0.6402755828127144,
          0.6675995547260847,
          0.6746223151513346,
          0.6684960853922863,
          0.6706772468443105,
          0.6737439644129116,
          0.6674626961630766,
          0.6502736345044708,
          0.6518909591181967,
          0.6538536704265946,
          0.6572984188481313,
          0.6653566682492909,
          0.6573845244816624,
          0.6614202675158699,
          0.6754015293126957,
          0.6698860554569979,
          0.6980078513060181,
          0.6889738009246733,
          0.6950760792161057,
          0.6831542654247967,
          0.6711704454414593,
          0.6469935575470951,
          0.6788287874722672,
          0.6634878242098731,
          0.6652573836142937,
          0.6483410798984766,
          0.6651602074477979
         ]
        }
       ],
       "layout": {
        "hovermode": "x",
        "template": {
         "data": {
          "bar": [
           {
            "error_x": {
             "color": "#2a3f5f"
            },
            "error_y": {
             "color": "#2a3f5f"
            },
            "marker": {
             "line": {
              "color": "#E5ECF6",
              "width": 0.5
             }
            },
            "type": "bar"
           }
          ],
          "barpolar": [
           {
            "marker": {
             "line": {
              "color": "#E5ECF6",
              "width": 0.5
             }
            },
            "type": "barpolar"
           }
          ],
          "carpet": [
           {
            "aaxis": {
             "endlinecolor": "#2a3f5f",
             "gridcolor": "white",
             "linecolor": "white",
             "minorgridcolor": "white",
             "startlinecolor": "#2a3f5f"
            },
            "baxis": {
             "endlinecolor": "#2a3f5f",
             "gridcolor": "white",
             "linecolor": "white",
             "minorgridcolor": "white",
             "startlinecolor": "#2a3f5f"
            },
            "type": "carpet"
           }
          ],
          "choropleth": [
           {
            "colorbar": {
             "outlinewidth": 0,
             "ticks": ""
            },
            "type": "choropleth"
           }
          ],
          "contour": [
           {
            "colorbar": {
             "outlinewidth": 0,
             "ticks": ""
            },
            "colorscale": [
             [
              0,
              "#0d0887"
             ],
             [
              0.1111111111111111,
              "#46039f"
             ],
             [
              0.2222222222222222,
              "#7201a8"
             ],
             [
              0.3333333333333333,
              "#9c179e"
             ],
             [
              0.4444444444444444,
              "#bd3786"
             ],
             [
              0.5555555555555556,
              "#d8576b"
             ],
             [
              0.6666666666666666,
              "#ed7953"
             ],
             [
              0.7777777777777778,
              "#fb9f3a"
             ],
             [
              0.8888888888888888,
              "#fdca26"
             ],
             [
              1,
              "#f0f921"
             ]
            ],
            "type": "contour"
           }
          ],
          "contourcarpet": [
           {
            "colorbar": {
             "outlinewidth": 0,
             "ticks": ""
            },
            "type": "contourcarpet"
           }
          ],
          "heatmap": [
           {
            "colorbar": {
             "outlinewidth": 0,
             "ticks": ""
            },
            "colorscale": [
             [
              0,
              "#0d0887"
             ],
             [
              0.1111111111111111,
              "#46039f"
             ],
             [
              0.2222222222222222,
              "#7201a8"
             ],
             [
              0.3333333333333333,
              "#9c179e"
             ],
             [
              0.4444444444444444,
              "#bd3786"
             ],
             [
              0.5555555555555556,
              "#d8576b"
             ],
             [
              0.6666666666666666,
              "#ed7953"
             ],
             [
              0.7777777777777778,
              "#fb9f3a"
             ],
             [
              0.8888888888888888,
              "#fdca26"
             ],
             [
              1,
              "#f0f921"
             ]
            ],
            "type": "heatmap"
           }
          ],
          "heatmapgl": [
           {
            "colorbar": {
             "outlinewidth": 0,
             "ticks": ""
            },
            "colorscale": [
             [
              0,
              "#0d0887"
             ],
             [
              0.1111111111111111,
              "#46039f"
             ],
             [
              0.2222222222222222,
              "#7201a8"
             ],
             [
              0.3333333333333333,
              "#9c179e"
             ],
             [
              0.4444444444444444,
              "#bd3786"
             ],
             [
              0.5555555555555556,
              "#d8576b"
             ],
             [
              0.6666666666666666,
              "#ed7953"
             ],
             [
              0.7777777777777778,
              "#fb9f3a"
             ],
             [
              0.8888888888888888,
              "#fdca26"
             ],
             [
              1,
              "#f0f921"
             ]
            ],
            "type": "heatmapgl"
           }
          ],
          "histogram": [
           {
            "marker": {
             "colorbar": {
              "outlinewidth": 0,
              "ticks": ""
             }
            },
            "type": "histogram"
           }
          ],
          "histogram2d": [
           {
            "colorbar": {
             "outlinewidth": 0,
             "ticks": ""
            },
            "colorscale": [
             [
              0,
              "#0d0887"
             ],
             [
              0.1111111111111111,
              "#46039f"
             ],
             [
              0.2222222222222222,
              "#7201a8"
             ],
             [
              0.3333333333333333,
              "#9c179e"
             ],
             [
              0.4444444444444444,
              "#bd3786"
             ],
             [
              0.5555555555555556,
              "#d8576b"
             ],
             [
              0.6666666666666666,
              "#ed7953"
             ],
             [
              0.7777777777777778,
              "#fb9f3a"
             ],
             [
              0.8888888888888888,
              "#fdca26"
             ],
             [
              1,
              "#f0f921"
             ]
            ],
            "type": "histogram2d"
           }
          ],
          "histogram2dcontour": [
           {
            "colorbar": {
             "outlinewidth": 0,
             "ticks": ""
            },
            "colorscale": [
             [
              0,
              "#0d0887"
             ],
             [
              0.1111111111111111,
              "#46039f"
             ],
             [
              0.2222222222222222,
              "#7201a8"
             ],
             [
              0.3333333333333333,
              "#9c179e"
             ],
             [
              0.4444444444444444,
              "#bd3786"
             ],
             [
              0.5555555555555556,
              "#d8576b"
             ],
             [
              0.6666666666666666,
              "#ed7953"
             ],
             [
              0.7777777777777778,
              "#fb9f3a"
             ],
             [
              0.8888888888888888,
              "#fdca26"
             ],
             [
              1,
              "#f0f921"
             ]
            ],
            "type": "histogram2dcontour"
           }
          ],
          "mesh3d": [
           {
            "colorbar": {
             "outlinewidth": 0,
             "ticks": ""
            },
            "type": "mesh3d"
           }
          ],
          "parcoords": [
           {
            "line": {
             "colorbar": {
              "outlinewidth": 0,
              "ticks": ""
             }
            },
            "type": "parcoords"
           }
          ],
          "scatter": [
           {
            "marker": {
             "colorbar": {
              "outlinewidth": 0,
              "ticks": ""
             }
            },
            "type": "scatter"
           }
          ],
          "scatter3d": [
           {
            "line": {
             "colorbar": {
              "outlinewidth": 0,
              "ticks": ""
             }
            },
            "marker": {
             "colorbar": {
              "outlinewidth": 0,
              "ticks": ""
             }
            },
            "type": "scatter3d"
           }
          ],
          "scattercarpet": [
           {
            "marker": {
             "colorbar": {
              "outlinewidth": 0,
              "ticks": ""
             }
            },
            "type": "scattercarpet"
           }
          ],
          "scattergeo": [
           {
            "marker": {
             "colorbar": {
              "outlinewidth": 0,
              "ticks": ""
             }
            },
            "type": "scattergeo"
           }
          ],
          "scattergl": [
           {
            "marker": {
             "colorbar": {
              "outlinewidth": 0,
              "ticks": ""
             }
            },
            "type": "scattergl"
           }
          ],
          "scattermapbox": [
           {
            "marker": {
             "colorbar": {
              "outlinewidth": 0,
              "ticks": ""
             }
            },
            "type": "scattermapbox"
           }
          ],
          "scatterpolar": [
           {
            "marker": {
             "colorbar": {
              "outlinewidth": 0,
              "ticks": ""
             }
            },
            "type": "scatterpolar"
           }
          ],
          "scatterpolargl": [
           {
            "marker": {
             "colorbar": {
              "outlinewidth": 0,
              "ticks": ""
             }
            },
            "type": "scatterpolargl"
           }
          ],
          "scatterternary": [
           {
            "marker": {
             "colorbar": {
              "outlinewidth": 0,
              "ticks": ""
             }
            },
            "type": "scatterternary"
           }
          ],
          "surface": [
           {
            "colorbar": {
             "outlinewidth": 0,
             "ticks": ""
            },
            "colorscale": [
             [
              0,
              "#0d0887"
             ],
             [
              0.1111111111111111,
              "#46039f"
             ],
             [
              0.2222222222222222,
              "#7201a8"
             ],
             [
              0.3333333333333333,
              "#9c179e"
             ],
             [
              0.4444444444444444,
              "#bd3786"
             ],
             [
              0.5555555555555556,
              "#d8576b"
             ],
             [
              0.6666666666666666,
              "#ed7953"
             ],
             [
              0.7777777777777778,
              "#fb9f3a"
             ],
             [
              0.8888888888888888,
              "#fdca26"
             ],
             [
              1,
              "#f0f921"
             ]
            ],
            "type": "surface"
           }
          ],
          "table": [
           {
            "cells": {
             "fill": {
              "color": "#EBF0F8"
             },
             "line": {
              "color": "white"
             }
            },
            "header": {
             "fill": {
              "color": "#C8D4E3"
             },
             "line": {
              "color": "white"
             }
            },
            "type": "table"
           }
          ]
         },
         "layout": {
          "annotationdefaults": {
           "arrowcolor": "#2a3f5f",
           "arrowhead": 0,
           "arrowwidth": 1
          },
          "colorscale": {
           "diverging": [
            [
             0,
             "#8e0152"
            ],
            [
             0.1,
             "#c51b7d"
            ],
            [
             0.2,
             "#de77ae"
            ],
            [
             0.3,
             "#f1b6da"
            ],
            [
             0.4,
             "#fde0ef"
            ],
            [
             0.5,
             "#f7f7f7"
            ],
            [
             0.6,
             "#e6f5d0"
            ],
            [
             0.7,
             "#b8e186"
            ],
            [
             0.8,
             "#7fbc41"
            ],
            [
             0.9,
             "#4d9221"
            ],
            [
             1,
             "#276419"
            ]
           ],
           "sequential": [
            [
             0,
             "#0d0887"
            ],
            [
             0.1111111111111111,
             "#46039f"
            ],
            [
             0.2222222222222222,
             "#7201a8"
            ],
            [
             0.3333333333333333,
             "#9c179e"
            ],
            [
             0.4444444444444444,
             "#bd3786"
            ],
            [
             0.5555555555555556,
             "#d8576b"
            ],
            [
             0.6666666666666666,
             "#ed7953"
            ],
            [
             0.7777777777777778,
             "#fb9f3a"
            ],
            [
             0.8888888888888888,
             "#fdca26"
            ],
            [
             1,
             "#f0f921"
            ]
           ],
           "sequentialminus": [
            [
             0,
             "#0d0887"
            ],
            [
             0.1111111111111111,
             "#46039f"
            ],
            [
             0.2222222222222222,
             "#7201a8"
            ],
            [
             0.3333333333333333,
             "#9c179e"
            ],
            [
             0.4444444444444444,
             "#bd3786"
            ],
            [
             0.5555555555555556,
             "#d8576b"
            ],
            [
             0.6666666666666666,
             "#ed7953"
            ],
            [
             0.7777777777777778,
             "#fb9f3a"
            ],
            [
             0.8888888888888888,
             "#fdca26"
            ],
            [
             1,
             "#f0f921"
            ]
           ]
          },
          "colorway": [
           "#636efa",
           "#EF553B",
           "#00cc96",
           "#ab63fa",
           "#FFA15A",
           "#19d3f3",
           "#FF6692",
           "#B6E880",
           "#FF97FF",
           "#FECB52"
          ],
          "font": {
           "color": "#2a3f5f"
          },
          "geo": {
           "bgcolor": "white",
           "lakecolor": "white",
           "landcolor": "#E5ECF6",
           "showlakes": true,
           "showland": true,
           "subunitcolor": "white"
          },
          "hoverlabel": {
           "align": "left"
          },
          "hovermode": "closest",
          "mapbox": {
           "style": "light"
          },
          "paper_bgcolor": "white",
          "plot_bgcolor": "#E5ECF6",
          "polar": {
           "angularaxis": {
            "gridcolor": "white",
            "linecolor": "white",
            "ticks": ""
           },
           "bgcolor": "#E5ECF6",
           "radialaxis": {
            "gridcolor": "white",
            "linecolor": "white",
            "ticks": ""
           }
          },
          "scene": {
           "xaxis": {
            "backgroundcolor": "#E5ECF6",
            "gridcolor": "white",
            "gridwidth": 2,
            "linecolor": "white",
            "showbackground": true,
            "ticks": "",
            "zerolinecolor": "white"
           },
           "yaxis": {
            "backgroundcolor": "#E5ECF6",
            "gridcolor": "white",
            "gridwidth": 2,
            "linecolor": "white",
            "showbackground": true,
            "ticks": "",
            "zerolinecolor": "white"
           },
           "zaxis": {
            "backgroundcolor": "#E5ECF6",
            "gridcolor": "white",
            "gridwidth": 2,
            "linecolor": "white",
            "showbackground": true,
            "ticks": "",
            "zerolinecolor": "white"
           }
          },
          "shapedefaults": {
           "line": {
            "color": "#2a3f5f"
           }
          },
          "ternary": {
           "aaxis": {
            "gridcolor": "white",
            "linecolor": "white",
            "ticks": ""
           },
           "baxis": {
            "gridcolor": "white",
            "linecolor": "white",
            "ticks": ""
           },
           "bgcolor": "#E5ECF6",
           "caxis": {
            "gridcolor": "white",
            "linecolor": "white",
            "ticks": ""
           }
          },
          "title": {
           "x": 0.05
          },
          "xaxis": {
           "automargin": true,
           "gridcolor": "white",
           "linecolor": "white",
           "ticks": "",
           "zerolinecolor": "white",
           "zerolinewidth": 2
          },
          "yaxis": {
           "automargin": true,
           "gridcolor": "white",
           "linecolor": "white",
           "ticks": "",
           "zerolinecolor": "white",
           "zerolinewidth": 2
          }
         }
        },
        "title": {
         "text": "video:auc"
        },
        "xaxis": {
         "type": "date"
        }
       }
      },
      "text/html": [
       "<div>\n",
       "        \n",
       "        \n",
       "            <div id=\"8474f727-4058-4639-b1f3-a74a81477bd5\" class=\"plotly-graph-div\" style=\"height:525px; width:100%;\"></div>\n",
       "            <script type=\"text/javascript\">\n",
       "                require([\"plotly\"], function(Plotly) {\n",
       "                    window.PLOTLYENV=window.PLOTLYENV || {};\n",
       "                    \n",
       "                if (document.getElementById(\"8474f727-4058-4639-b1f3-a74a81477bd5\")) {\n",
       "                    Plotly.newPlot(\n",
       "                        '8474f727-4058-4639-b1f3-a74a81477bd5',\n",
       "                        [{\"line\": {\"shape\": \"spline\", \"smoothing\": 1.0}, \"mode\": \"lines+markers\", \"name\": \"456:auc\", \"type\": \"scatter\", \"x\": [\"2019-12-26T10:00:00\", \"2019-12-26T11:00:00\", \"2019-12-26T12:00:00\", \"2019-12-26T13:00:00\", \"2019-12-26T14:00:00\", \"2019-12-26T15:00:00\", \"2019-12-26T16:00:00\", \"2019-12-26T17:00:00\", \"2019-12-26T18:00:00\", \"2019-12-26T19:00:00\", \"2019-12-26T20:00:00\", \"2019-12-26T21:00:00\", \"2019-12-26T22:00:00\", \"2019-12-26T23:00:00\", \"2019-12-27T00:00:00\", \"2019-12-27T01:00:00\", \"2019-12-27T02:00:00\", \"2019-12-27T03:00:00\", \"2019-12-27T04:00:00\", \"2019-12-27T05:00:00\", \"2019-12-27T06:00:00\", \"2019-12-27T07:00:00\", \"2019-12-27T08:00:00\", \"2019-12-27T09:00:00\", \"2019-12-27T10:00:00\", \"2019-12-27T13:00:00\", \"2019-12-27T14:00:00\", \"2019-12-27T15:00:00\", \"2019-12-27T16:00:00\", \"2019-12-27T17:00:00\", \"2019-12-27T18:00:00\", \"2019-12-27T19:00:00\", \"2019-12-27T20:00:00\", \"2019-12-27T21:00:00\", \"2019-12-28T08:00:00\", \"2019-12-28T09:00:00\", \"2019-12-28T10:00:00\", \"2019-12-28T11:00:00\", \"2019-12-28T12:00:00\", \"2019-12-28T13:00:00\", \"2019-12-28T14:00:00\", \"2019-12-28T15:00:00\", \"2019-12-28T16:00:00\", \"2019-12-28T17:00:00\", \"2019-12-28T18:00:00\", \"2019-12-28T19:00:00\", \"2019-12-28T20:00:00\", \"2019-12-28T21:00:00\", \"2019-12-29T08:00:00\", \"2019-12-29T09:00:00\", \"2019-12-29T10:00:00\", \"2019-12-29T11:00:00\", \"2019-12-29T12:00:00\", \"2019-12-29T13:00:00\", \"2019-12-29T14:00:00\", \"2019-12-29T15:00:00\", \"2019-12-29T16:00:00\", \"2019-12-29T17:00:00\", \"2019-12-29T18:00:00\", \"2019-12-29T19:00:00\", \"2019-12-29T20:00:00\", \"2019-12-29T21:00:00\", \"2019-12-29T22:00:00\", \"2019-12-29T23:00:00\", \"2019-12-30T00:00:00\", \"2019-12-30T01:00:00\", \"2019-12-30T02:00:00\", \"2019-12-30T03:00:00\", \"2019-12-30T04:00:00\", \"2019-12-30T05:00:00\", \"2019-12-30T06:00:00\", \"2019-12-30T07:00:00\", \"2019-12-30T08:00:00\", \"2019-12-30T09:00:00\", \"2019-12-30T10:00:00\", \"2019-12-30T11:00:00\", \"2019-12-30T12:00:00\", \"2019-12-30T13:00:00\", \"2019-12-30T14:00:00\", \"2019-12-30T15:00:00\", \"2019-12-30T16:00:00\", \"2019-12-30T17:00:00\", \"2019-12-30T18:00:00\", \"2019-12-30T19:00:00\", \"2019-12-30T20:00:00\", \"2019-12-30T21:00:00\", \"2019-12-30T22:00:00\", \"2019-12-30T23:00:00\", \"2019-12-31T00:00:00\", \"2019-12-31T01:00:00\", \"2019-12-31T02:00:00\", \"2019-12-31T03:00:00\", \"2019-12-31T04:00:00\", \"2019-12-31T05:00:00\", \"2019-12-31T06:00:00\", \"2019-12-31T07:00:00\", \"2019-12-31T08:00:00\", \"2019-12-31T09:00:00\", \"2019-12-31T10:00:00\", \"2019-12-31T11:00:00\", \"2019-12-31T12:00:00\", \"2019-12-31T13:00:00\"], \"y\": [0.6685096322956594, 0.6545339245645231, 0.6380992124795831, 0.6610756756686306, 0.6668550841402602, 0.6736617216006572, 0.6719838240905046, 0.6669260906915973, 0.6781487120668585, 0.6765921215551242, 0.6748724881947491, 0.6687654292605417, 0.6777768623524947, 0.6784570022570062, 0.68198541554111, 0.6859149947639219, 0.670256630419615, 0.6603538245674605, 0.6633345366884461, 0.6750905968145064, 0.6695630970405579, 0.6372769199022252, 0.6568902292146843, 0.6592242878611851, 0.6750252498083154, 0.6739552404744446, 0.6758416085408845, 0.6765837358854931, 0.6820454504290544, 0.6864293520751998, 0.6739600930796062, 0.6762583673754007, 0.6795748649118741, 0.677855562846687, 0.668325561902033, 0.6712636646514778, 0.6745397716110314, 0.6697229893790865, 0.6677007085715035, 0.666223175221898, 0.6839830146261762, 0.6748413853357976, 0.6728207638887089, 0.6734634535418242, 0.6779655279323289, 0.6719918874507388, 0.6785448243667103, 0.6670633221797327, 0.6662854718896564, 0.661937028930809, 0.6649919621916961, 0.6658922357898527, 0.6716094810060604, 0.6673885080591497, 0.6664095098080229, 0.6691835921046408, 0.672400922125195, 0.6719773040402736, 0.6842830293061615, 0.6763179368548506, 0.6709709652600809, 0.6788162681213122, 0.6772829115564518, 0.6768436416361625, 0.6717070769121483, 0.6813617995511247, 0.703419773186537, 0.6835302906587091, 0.6816793956623061, 0.6784340351021811, 0.6694798917283937, 0.6604490453453303, 0.6681112402331508, 0.6720612050441388, 0.6685224281704454, 0.6552119435626906, 0.6564212859113818, 0.676204304902706, 0.6698245539247281, 0.6694981923133947, 0.6707512083263001, 0.6575856966176317, 0.6736042008207788, 0.6594009684988038, 0.6650781883939758, 0.6763288877855735, 0.6837635244530667, 0.6895706908315953, 0.6760521625435072, 0.685953484117848, 0.7024514784400109, 0.6858367850374163, 0.6789267143249444, 0.6639635911529265, 0.6682533904712099, 0.6729220333980724, 0.6797990374779573, 0.6735336058337182, 0.676549488017717, 0.6856404597162659, 0.6706506512444984, 0.6727104479577611]}, {\"line\": {\"shape\": \"spline\", \"smoothing\": 1.0}, \"mode\": \"lines+markers\", \"name\": \"15:auc\", \"type\": \"scatter\", \"x\": [\"2019-12-26T10:00:00\", \"2019-12-26T11:00:00\", \"2019-12-26T12:00:00\", \"2019-12-26T13:00:00\", \"2019-12-26T14:00:00\", \"2019-12-26T15:00:00\", \"2019-12-26T16:00:00\", \"2019-12-26T17:00:00\", \"2019-12-26T18:00:00\", \"2019-12-26T19:00:00\", \"2019-12-26T20:00:00\", \"2019-12-26T21:00:00\", \"2019-12-26T22:00:00\", \"2019-12-26T23:00:00\", \"2019-12-27T00:00:00\", \"2019-12-27T01:00:00\", \"2019-12-27T02:00:00\", \"2019-12-27T03:00:00\", \"2019-12-27T04:00:00\", \"2019-12-27T05:00:00\", \"2019-12-27T06:00:00\", \"2019-12-27T07:00:00\", \"2019-12-27T08:00:00\", \"2019-12-27T09:00:00\", \"2019-12-27T10:00:00\", \"2019-12-27T13:00:00\", \"2019-12-27T14:00:00\", \"2019-12-27T15:00:00\", \"2019-12-27T16:00:00\", \"2019-12-27T17:00:00\", \"2019-12-27T18:00:00\", \"2019-12-27T19:00:00\", \"2019-12-27T20:00:00\", \"2019-12-27T21:00:00\", \"2019-12-28T08:00:00\", \"2019-12-28T09:00:00\", \"2019-12-28T10:00:00\", \"2019-12-28T11:00:00\", \"2019-12-28T12:00:00\", \"2019-12-28T13:00:00\", \"2019-12-28T14:00:00\", \"2019-12-28T15:00:00\", \"2019-12-28T16:00:00\", \"2019-12-28T17:00:00\", \"2019-12-28T18:00:00\", \"2019-12-28T19:00:00\", \"2019-12-28T20:00:00\", \"2019-12-28T21:00:00\", \"2019-12-29T08:00:00\", \"2019-12-29T09:00:00\", \"2019-12-29T10:00:00\", \"2019-12-29T11:00:00\", \"2019-12-29T12:00:00\", \"2019-12-29T13:00:00\", \"2019-12-29T14:00:00\", \"2019-12-29T15:00:00\", \"2019-12-29T16:00:00\", \"2019-12-29T17:00:00\", \"2019-12-29T18:00:00\", \"2019-12-29T19:00:00\", \"2019-12-29T20:00:00\", \"2019-12-29T21:00:00\", \"2019-12-29T22:00:00\", \"2019-12-29T23:00:00\", \"2019-12-30T00:00:00\", \"2019-12-30T01:00:00\", \"2019-12-30T02:00:00\", \"2019-12-30T03:00:00\", \"2019-12-30T04:00:00\", \"2019-12-30T05:00:00\", \"2019-12-30T06:00:00\", \"2019-12-30T07:00:00\", \"2019-12-30T08:00:00\", \"2019-12-30T09:00:00\", \"2019-12-30T10:00:00\", \"2019-12-30T11:00:00\", \"2019-12-30T12:00:00\", \"2019-12-30T13:00:00\", \"2019-12-30T14:00:00\", \"2019-12-30T15:00:00\", \"2019-12-30T16:00:00\", \"2019-12-30T17:00:00\", \"2019-12-30T18:00:00\", \"2019-12-30T19:00:00\", \"2019-12-30T20:00:00\", \"2019-12-30T21:00:00\", \"2019-12-30T22:00:00\", \"2019-12-30T23:00:00\", \"2019-12-31T00:00:00\", \"2019-12-31T01:00:00\", \"2019-12-31T02:00:00\", \"2019-12-31T03:00:00\", \"2019-12-31T04:00:00\", \"2019-12-31T05:00:00\", \"2019-12-31T06:00:00\", \"2019-12-31T07:00:00\", \"2019-12-31T08:00:00\", \"2019-12-31T09:00:00\", \"2019-12-31T10:00:00\", \"2019-12-31T11:00:00\", \"2019-12-31T12:00:00\", \"2019-12-31T13:00:00\"], \"y\": [0.6960686658368815, 0.6548158385688813, 0.6384786681937329, 0.6487019613335137, 0.670463950821041, 0.6663979627485441, 0.6614346641391381, 0.6534100399264424, 0.6737734963780849, 0.6624269219289499, 0.6702792099303471, 0.6754409706304446, 0.6708885557064039, 0.6659086457996221, 0.6662589224668279, 0.682040770434021, 0.6807209216260537, 0.6794790293681057, 0.6782881325109338, 0.6653863591245889, 0.6447181137945741, 0.6361856500699139, 0.6729138178232972, 0.6775803731413679, 0.639229915430766, 0.6399420042392839, 0.6412973490660951, 0.6841027361769156, 0.6590908780689361, 0.6648007436703947, 0.6677159758696128, 0.6886054070586254, 0.6756485645105501, 0.6675931578639235, 0.6799488448007966, 0.6706449758951618, 0.6621684028566652, 0.6632424531284097, 0.6650977998371914, 0.6659954764427976, 0.6726528518128215, 0.6557460720757974, 0.6458436189398871, 0.666701828509063, 0.6734551439566444, 0.6732231065469771, 0.6752095830670417, 0.6682083826524143, 0.6527332460602215, 0.6527097525512979, 0.6691457697035543, 0.6701481519862148, 0.6605439750448514, 0.6662578364600862, 0.6768583342172475, 0.6732051203525343, 0.6576814563532065, 0.656397227741544, 0.6538292165023761, 0.6683149499289058, 0.6655577865046833, 0.6745617345331653, 0.6761607626381752, 0.6692310878111987, 0.6730438474958629, 0.6799274623144056, 0.6738577731834687, 0.6814914676623149, 0.6850398384530556, 0.6606016022946442, 0.664680218206951, 0.6684946547605806, 0.6574186278812795, 0.6720017686208858, 0.6659297955831797, 0.6402755828127144, 0.6675995547260847, 0.6746223151513346, 0.6684960853922863, 0.6706772468443105, 0.6737439644129116, 0.6674626961630766, 0.6502736345044708, 0.6518909591181967, 0.6538536704265946, 0.6572984188481313, 0.6653566682492909, 0.6573845244816624, 0.6614202675158699, 0.6754015293126957, 0.6698860554569979, 0.6980078513060181, 0.6889738009246733, 0.6950760792161057, 0.6831542654247967, 0.6711704454414593, 0.6469935575470951, 0.6788287874722672, 0.6634878242098731, 0.6652573836142937, 0.6483410798984766, 0.6651602074477979]}],\n",
       "                        {\"hovermode\": \"x\", \"template\": {\"data\": {\"bar\": [{\"error_x\": {\"color\": \"#2a3f5f\"}, \"error_y\": {\"color\": \"#2a3f5f\"}, \"marker\": {\"line\": {\"color\": \"#E5ECF6\", \"width\": 0.5}}, \"type\": \"bar\"}], \"barpolar\": [{\"marker\": {\"line\": {\"color\": \"#E5ECF6\", \"width\": 0.5}}, \"type\": \"barpolar\"}], \"carpet\": [{\"aaxis\": {\"endlinecolor\": \"#2a3f5f\", \"gridcolor\": \"white\", \"linecolor\": \"white\", \"minorgridcolor\": \"white\", \"startlinecolor\": \"#2a3f5f\"}, \"baxis\": {\"endlinecolor\": \"#2a3f5f\", \"gridcolor\": \"white\", \"linecolor\": \"white\", \"minorgridcolor\": \"white\", \"startlinecolor\": \"#2a3f5f\"}, \"type\": \"carpet\"}], \"choropleth\": [{\"colorbar\": {\"outlinewidth\": 0, \"ticks\": \"\"}, \"type\": \"choropleth\"}], \"contour\": [{\"colorbar\": {\"outlinewidth\": 0, \"ticks\": \"\"}, \"colorscale\": [[0.0, \"#0d0887\"], [0.1111111111111111, \"#46039f\"], [0.2222222222222222, \"#7201a8\"], [0.3333333333333333, \"#9c179e\"], [0.4444444444444444, \"#bd3786\"], [0.5555555555555556, \"#d8576b\"], [0.6666666666666666, \"#ed7953\"], [0.7777777777777778, \"#fb9f3a\"], [0.8888888888888888, \"#fdca26\"], [1.0, \"#f0f921\"]], \"type\": \"contour\"}], \"contourcarpet\": [{\"colorbar\": {\"outlinewidth\": 0, \"ticks\": \"\"}, \"type\": \"contourcarpet\"}], \"heatmap\": [{\"colorbar\": {\"outlinewidth\": 0, \"ticks\": \"\"}, \"colorscale\": [[0.0, \"#0d0887\"], [0.1111111111111111, \"#46039f\"], [0.2222222222222222, \"#7201a8\"], [0.3333333333333333, \"#9c179e\"], [0.4444444444444444, \"#bd3786\"], [0.5555555555555556, \"#d8576b\"], [0.6666666666666666, \"#ed7953\"], [0.7777777777777778, \"#fb9f3a\"], [0.8888888888888888, \"#fdca26\"], [1.0, \"#f0f921\"]], \"type\": \"heatmap\"}], \"heatmapgl\": [{\"colorbar\": {\"outlinewidth\": 0, \"ticks\": \"\"}, \"colorscale\": [[0.0, \"#0d0887\"], [0.1111111111111111, \"#46039f\"], [0.2222222222222222, \"#7201a8\"], [0.3333333333333333, \"#9c179e\"], [0.4444444444444444, \"#bd3786\"], [0.5555555555555556, \"#d8576b\"], [0.6666666666666666, \"#ed7953\"], [0.7777777777777778, \"#fb9f3a\"], [0.8888888888888888, \"#fdca26\"], [1.0, \"#f0f921\"]], \"type\": \"heatmapgl\"}], \"histogram\": [{\"marker\": {\"colorbar\": {\"outlinewidth\": 0, \"ticks\": \"\"}}, \"type\": \"histogram\"}], \"histogram2d\": [{\"colorbar\": {\"outlinewidth\": 0, \"ticks\": \"\"}, \"colorscale\": [[0.0, \"#0d0887\"], [0.1111111111111111, \"#46039f\"], [0.2222222222222222, \"#7201a8\"], [0.3333333333333333, \"#9c179e\"], [0.4444444444444444, \"#bd3786\"], [0.5555555555555556, \"#d8576b\"], [0.6666666666666666, \"#ed7953\"], [0.7777777777777778, \"#fb9f3a\"], [0.8888888888888888, \"#fdca26\"], [1.0, \"#f0f921\"]], \"type\": \"histogram2d\"}], \"histogram2dcontour\": [{\"colorbar\": {\"outlinewidth\": 0, \"ticks\": \"\"}, \"colorscale\": [[0.0, \"#0d0887\"], [0.1111111111111111, \"#46039f\"], [0.2222222222222222, \"#7201a8\"], [0.3333333333333333, \"#9c179e\"], [0.4444444444444444, \"#bd3786\"], [0.5555555555555556, \"#d8576b\"], [0.6666666666666666, \"#ed7953\"], [0.7777777777777778, \"#fb9f3a\"], [0.8888888888888888, \"#fdca26\"], [1.0, \"#f0f921\"]], \"type\": \"histogram2dcontour\"}], \"mesh3d\": [{\"colorbar\": {\"outlinewidth\": 0, \"ticks\": \"\"}, \"type\": \"mesh3d\"}], \"parcoords\": [{\"line\": {\"colorbar\": {\"outlinewidth\": 0, \"ticks\": \"\"}}, \"type\": \"parcoords\"}], \"scatter\": [{\"marker\": {\"colorbar\": {\"outlinewidth\": 0, \"ticks\": \"\"}}, \"type\": \"scatter\"}], \"scatter3d\": [{\"line\": {\"colorbar\": {\"outlinewidth\": 0, \"ticks\": \"\"}}, \"marker\": {\"colorbar\": {\"outlinewidth\": 0, \"ticks\": \"\"}}, \"type\": \"scatter3d\"}], \"scattercarpet\": [{\"marker\": {\"colorbar\": {\"outlinewidth\": 0, \"ticks\": \"\"}}, \"type\": \"scattercarpet\"}], \"scattergeo\": [{\"marker\": {\"colorbar\": {\"outlinewidth\": 0, \"ticks\": \"\"}}, \"type\": \"scattergeo\"}], \"scattergl\": [{\"marker\": {\"colorbar\": {\"outlinewidth\": 0, \"ticks\": \"\"}}, \"type\": \"scattergl\"}], \"scattermapbox\": [{\"marker\": {\"colorbar\": {\"outlinewidth\": 0, \"ticks\": \"\"}}, \"type\": \"scattermapbox\"}], \"scatterpolar\": [{\"marker\": {\"colorbar\": {\"outlinewidth\": 0, \"ticks\": \"\"}}, \"type\": \"scatterpolar\"}], \"scatterpolargl\": [{\"marker\": {\"colorbar\": {\"outlinewidth\": 0, \"ticks\": \"\"}}, \"type\": \"scatterpolargl\"}], \"scatterternary\": [{\"marker\": {\"colorbar\": {\"outlinewidth\": 0, \"ticks\": \"\"}}, \"type\": \"scatterternary\"}], \"surface\": [{\"colorbar\": {\"outlinewidth\": 0, \"ticks\": \"\"}, \"colorscale\": [[0.0, \"#0d0887\"], [0.1111111111111111, \"#46039f\"], [0.2222222222222222, \"#7201a8\"], [0.3333333333333333, \"#9c179e\"], [0.4444444444444444, \"#bd3786\"], [0.5555555555555556, \"#d8576b\"], [0.6666666666666666, \"#ed7953\"], [0.7777777777777778, \"#fb9f3a\"], [0.8888888888888888, \"#fdca26\"], [1.0, \"#f0f921\"]], \"type\": \"surface\"}], \"table\": [{\"cells\": {\"fill\": {\"color\": \"#EBF0F8\"}, \"line\": {\"color\": \"white\"}}, \"header\": {\"fill\": {\"color\": \"#C8D4E3\"}, \"line\": {\"color\": \"white\"}}, \"type\": \"table\"}]}, \"layout\": {\"annotationdefaults\": {\"arrowcolor\": \"#2a3f5f\", \"arrowhead\": 0, \"arrowwidth\": 1}, \"colorscale\": {\"diverging\": [[0, \"#8e0152\"], [0.1, \"#c51b7d\"], [0.2, \"#de77ae\"], [0.3, \"#f1b6da\"], [0.4, \"#fde0ef\"], [0.5, \"#f7f7f7\"], [0.6, \"#e6f5d0\"], [0.7, \"#b8e186\"], [0.8, \"#7fbc41\"], [0.9, \"#4d9221\"], [1, \"#276419\"]], \"sequential\": [[0.0, \"#0d0887\"], [0.1111111111111111, \"#46039f\"], [0.2222222222222222, \"#7201a8\"], [0.3333333333333333, \"#9c179e\"], [0.4444444444444444, \"#bd3786\"], [0.5555555555555556, \"#d8576b\"], [0.6666666666666666, \"#ed7953\"], [0.7777777777777778, \"#fb9f3a\"], [0.8888888888888888, \"#fdca26\"], [1.0, \"#f0f921\"]], \"sequentialminus\": [[0.0, \"#0d0887\"], [0.1111111111111111, \"#46039f\"], [0.2222222222222222, \"#7201a8\"], [0.3333333333333333, \"#9c179e\"], [0.4444444444444444, \"#bd3786\"], [0.5555555555555556, \"#d8576b\"], [0.6666666666666666, \"#ed7953\"], [0.7777777777777778, \"#fb9f3a\"], [0.8888888888888888, \"#fdca26\"], [1.0, \"#f0f921\"]]}, \"colorway\": [\"#636efa\", \"#EF553B\", \"#00cc96\", \"#ab63fa\", \"#FFA15A\", \"#19d3f3\", \"#FF6692\", \"#B6E880\", \"#FF97FF\", \"#FECB52\"], \"font\": {\"color\": \"#2a3f5f\"}, \"geo\": {\"bgcolor\": \"white\", \"lakecolor\": \"white\", \"landcolor\": \"#E5ECF6\", \"showlakes\": true, \"showland\": true, \"subunitcolor\": \"white\"}, \"hoverlabel\": {\"align\": \"left\"}, \"hovermode\": \"closest\", \"mapbox\": {\"style\": \"light\"}, \"paper_bgcolor\": \"white\", \"plot_bgcolor\": \"#E5ECF6\", \"polar\": {\"angularaxis\": {\"gridcolor\": \"white\", \"linecolor\": \"white\", \"ticks\": \"\"}, \"bgcolor\": \"#E5ECF6\", \"radialaxis\": {\"gridcolor\": \"white\", \"linecolor\": \"white\", \"ticks\": \"\"}}, \"scene\": {\"xaxis\": {\"backgroundcolor\": \"#E5ECF6\", \"gridcolor\": \"white\", \"gridwidth\": 2, \"linecolor\": \"white\", \"showbackground\": true, \"ticks\": \"\", \"zerolinecolor\": \"white\"}, \"yaxis\": {\"backgroundcolor\": \"#E5ECF6\", \"gridcolor\": \"white\", \"gridwidth\": 2, \"linecolor\": \"white\", \"showbackground\": true, \"ticks\": \"\", \"zerolinecolor\": \"white\"}, \"zaxis\": {\"backgroundcolor\": \"#E5ECF6\", \"gridcolor\": \"white\", \"gridwidth\": 2, \"linecolor\": \"white\", \"showbackground\": true, \"ticks\": \"\", \"zerolinecolor\": \"white\"}}, \"shapedefaults\": {\"line\": {\"color\": \"#2a3f5f\"}}, \"ternary\": {\"aaxis\": {\"gridcolor\": \"white\", \"linecolor\": \"white\", \"ticks\": \"\"}, \"baxis\": {\"gridcolor\": \"white\", \"linecolor\": \"white\", \"ticks\": \"\"}, \"bgcolor\": \"#E5ECF6\", \"caxis\": {\"gridcolor\": \"white\", \"linecolor\": \"white\", \"ticks\": \"\"}}, \"title\": {\"x\": 0.05}, \"xaxis\": {\"automargin\": true, \"gridcolor\": \"white\", \"linecolor\": \"white\", \"ticks\": \"\", \"zerolinecolor\": \"white\", \"zerolinewidth\": 2}, \"yaxis\": {\"automargin\": true, \"gridcolor\": \"white\", \"linecolor\": \"white\", \"ticks\": \"\", \"zerolinecolor\": \"white\", \"zerolinewidth\": 2}}}, \"title\": {\"text\": \"video:auc\"}, \"xaxis\": {\"type\": \"date\"}},\n",
       "                        {\"responsive\": true}\n",
       "                    ).then(function(){\n",
       "                            \n",
       "var gd = document.getElementById('8474f727-4058-4639-b1f3-a74a81477bd5');\n",
       "var x = new MutationObserver(function (mutations, observer) {{\n",
       "        var display = window.getComputedStyle(gd).display;\n",
       "        if (!display || display === 'none') {{\n",
       "            console.log([gd, 'removed!']);\n",
       "            Plotly.purge(gd);\n",
       "            observer.disconnect();\n",
       "        }}\n",
       "}});\n",
       "\n",
       "// Listen for the removal of the full notebook cells\n",
       "var notebookContainer = gd.closest('#notebook-container');\n",
       "if (notebookContainer) {{\n",
       "    x.observe(notebookContainer, {childList: true});\n",
       "}}\n",
       "\n",
       "// Listen for the clearing of the current output cell\n",
       "var outputEl = gd.closest('.output');\n",
       "if (outputEl) {{\n",
       "    x.observe(outputEl, {childList: true});\n",
       "}}\n",
       "\n",
       "                        })\n",
       "                };\n",
       "                });\n",
       "            </script>\n",
       "        </div>"
      ]
     },
     "metadata": {},
     "output_type": "display_data"
    }
   ],
   "source": [
    "compare(df, 'auc', smoothing=0.)"
   ]
  },
  {
   "cell_type": "code",
   "execution_count": 32,
   "metadata": {},
   "outputs": [
    {
     "data": {
      "application/vnd.plotly.v1+json": {
       "config": {
        "linkText": "Export to plot.ly",
        "plotlyServerURL": "https://plot.ly",
        "showLink": false
       },
       "data": [
        {
         "line": {
          "shape": "spline",
          "smoothing": 1
         },
         "mode": "lines+markers",
         "name": "456:group/auc",
         "type": "scatter",
         "x": [
          "2019-12-26T10:00:00",
          "2019-12-26T11:00:00",
          "2019-12-26T12:00:00",
          "2019-12-26T13:00:00",
          "2019-12-26T14:00:00",
          "2019-12-26T15:00:00",
          "2019-12-26T16:00:00",
          "2019-12-26T17:00:00",
          "2019-12-26T18:00:00",
          "2019-12-26T19:00:00",
          "2019-12-26T20:00:00",
          "2019-12-26T21:00:00",
          "2019-12-26T22:00:00",
          "2019-12-26T23:00:00",
          "2019-12-27T00:00:00",
          "2019-12-27T01:00:00",
          "2019-12-27T02:00:00",
          "2019-12-27T03:00:00",
          "2019-12-27T04:00:00",
          "2019-12-27T05:00:00",
          "2019-12-27T06:00:00",
          "2019-12-27T07:00:00",
          "2019-12-27T08:00:00",
          "2019-12-27T09:00:00",
          "2019-12-27T10:00:00",
          "2019-12-27T13:00:00",
          "2019-12-27T14:00:00",
          "2019-12-27T15:00:00",
          "2019-12-27T16:00:00",
          "2019-12-27T17:00:00",
          "2019-12-27T18:00:00",
          "2019-12-27T19:00:00",
          "2019-12-27T20:00:00",
          "2019-12-27T21:00:00",
          "2019-12-28T08:00:00",
          "2019-12-28T09:00:00",
          "2019-12-28T10:00:00",
          "2019-12-28T11:00:00",
          "2019-12-28T12:00:00",
          "2019-12-28T13:00:00",
          "2019-12-28T14:00:00",
          "2019-12-28T15:00:00",
          "2019-12-28T16:00:00",
          "2019-12-28T17:00:00",
          "2019-12-28T18:00:00",
          "2019-12-28T19:00:00",
          "2019-12-28T20:00:00",
          "2019-12-28T21:00:00",
          "2019-12-29T08:00:00",
          "2019-12-29T09:00:00",
          "2019-12-29T10:00:00",
          "2019-12-29T11:00:00",
          "2019-12-29T12:00:00",
          "2019-12-29T13:00:00",
          "2019-12-29T14:00:00",
          "2019-12-29T15:00:00",
          "2019-12-29T16:00:00",
          "2019-12-29T17:00:00",
          "2019-12-29T18:00:00",
          "2019-12-29T19:00:00",
          "2019-12-29T20:00:00",
          "2019-12-29T21:00:00",
          "2019-12-29T22:00:00",
          "2019-12-29T23:00:00",
          "2019-12-30T00:00:00",
          "2019-12-30T01:00:00",
          "2019-12-30T02:00:00",
          "2019-12-30T03:00:00",
          "2019-12-30T04:00:00",
          "2019-12-30T05:00:00",
          "2019-12-30T06:00:00",
          "2019-12-30T07:00:00",
          "2019-12-30T08:00:00",
          "2019-12-30T09:00:00",
          "2019-12-30T10:00:00",
          "2019-12-30T11:00:00",
          "2019-12-30T12:00:00",
          "2019-12-30T13:00:00",
          "2019-12-30T14:00:00",
          "2019-12-30T15:00:00",
          "2019-12-30T16:00:00",
          "2019-12-30T17:00:00",
          "2019-12-30T18:00:00",
          "2019-12-30T19:00:00",
          "2019-12-30T20:00:00",
          "2019-12-30T21:00:00",
          "2019-12-30T22:00:00",
          "2019-12-30T23:00:00",
          "2019-12-31T00:00:00",
          "2019-12-31T01:00:00",
          "2019-12-31T02:00:00",
          "2019-12-31T03:00:00",
          "2019-12-31T04:00:00",
          "2019-12-31T05:00:00",
          "2019-12-31T06:00:00",
          "2019-12-31T07:00:00",
          "2019-12-31T08:00:00",
          "2019-12-31T09:00:00",
          "2019-12-31T10:00:00",
          "2019-12-31T11:00:00",
          "2019-12-31T12:00:00",
          "2019-12-31T13:00:00"
         ],
         "y": [
          0.5178773150216085,
          0.5085128688455666,
          0.5084660753457428,
          0.4972522901457239,
          0.4997300171370352,
          0.4882086308868221,
          0.4922105770090137,
          0.5008894819490608,
          0.5074824736323418,
          0.5006897614766351,
          0.4986063987254792,
          0.49333231202512123,
          0.5011287381491747,
          0.5061016799912359,
          0.5042975892480238,
          0.5076448290661912,
          0.5060626046918906,
          0.4996948103222303,
          0.4920485893720654,
          0.4871867756906685,
          0.4920098545201862,
          0.4814413682809788,
          0.4927947342893295,
          0.48491973167799785,
          0.4987699884551703,
          0.5051886068054237,
          0.5010383738290551,
          0.5015896906841592,
          0.5047630274180397,
          0.5037052000790324,
          0.505870679696091,
          0.5092099286698437,
          0.5098429485651239,
          0.5070201396775897,
          0.496120556201121,
          0.4953562627153332,
          0.5030982337632823,
          0.5101187639258784,
          0.5080817930314935,
          0.5037592633236952,
          0.5031612010496715,
          0.505089712640496,
          0.5060504063637844,
          0.5091015258671863,
          0.5033107766478258,
          0.4988765271275051,
          0.4985653323413487,
          0.5047978309315453,
          0.49870816544919605,
          0.4945041774683422,
          0.49454940316604457,
          0.4946066712048989,
          0.4959322020232201,
          0.5060833907521732,
          0.5002708204812013,
          0.49928255196581645,
          0.4988678069098304,
          0.49683990937591455,
          0.50349589495354,
          0.5088858574717727,
          0.4973420123449786,
          0.5013924774845615,
          0.5030741569131709,
          0.5063976936283234,
          0.5054976843725092,
          0.507214651922975,
          0.4993534075937435,
          0.4948360432262888,
          0.49406569891187235,
          0.47597576547362275,
          0.47697994145343536,
          0.48375043750989283,
          0.4952323075326931,
          0.4916723475827825,
          0.4921273414957349,
          0.5005302325045118,
          0.5071751409265379,
          0.5042507552873323,
          0.4998464328087788,
          0.49729466980718073,
          0.49684689165530277,
          0.4925210272373015,
          0.4909451492483025,
          0.5002829789175366,
          0.5047222361414326,
          0.5000232198680143,
          0.5003580880752638,
          0.5113361644802847,
          0.4941303503586971,
          0.5026014704137789,
          0.5118721152003237,
          0.5107432185984421,
          0.500225538185441,
          0.4784907903616986,
          0.4789611195142895,
          0.49371105071338406,
          0.5003956822648197,
          0.49496644324071426,
          0.49237702942522316,
          0.4968798426352775,
          0.4974572316922087,
          0.5000871068909115
         ]
        },
        {
         "line": {
          "shape": "spline",
          "smoothing": 1
         },
         "mode": "lines+markers",
         "name": "15:group/auc",
         "type": "scatter",
         "x": [
          "2019-12-26T10:00:00",
          "2019-12-26T11:00:00",
          "2019-12-26T12:00:00",
          "2019-12-26T13:00:00",
          "2019-12-26T14:00:00",
          "2019-12-26T15:00:00",
          "2019-12-26T16:00:00",
          "2019-12-26T17:00:00",
          "2019-12-26T18:00:00",
          "2019-12-26T19:00:00",
          "2019-12-26T20:00:00",
          "2019-12-26T21:00:00",
          "2019-12-26T22:00:00",
          "2019-12-26T23:00:00",
          "2019-12-27T00:00:00",
          "2019-12-27T01:00:00",
          "2019-12-27T02:00:00",
          "2019-12-27T03:00:00",
          "2019-12-27T04:00:00",
          "2019-12-27T05:00:00",
          "2019-12-27T06:00:00",
          "2019-12-27T07:00:00",
          "2019-12-27T08:00:00",
          "2019-12-27T09:00:00",
          "2019-12-27T10:00:00",
          "2019-12-27T13:00:00",
          "2019-12-27T14:00:00",
          "2019-12-27T15:00:00",
          "2019-12-27T16:00:00",
          "2019-12-27T17:00:00",
          "2019-12-27T18:00:00",
          "2019-12-27T19:00:00",
          "2019-12-27T20:00:00",
          "2019-12-27T21:00:00",
          "2019-12-28T08:00:00",
          "2019-12-28T09:00:00",
          "2019-12-28T10:00:00",
          "2019-12-28T11:00:00",
          "2019-12-28T12:00:00",
          "2019-12-28T13:00:00",
          "2019-12-28T14:00:00",
          "2019-12-28T15:00:00",
          "2019-12-28T16:00:00",
          "2019-12-28T17:00:00",
          "2019-12-28T18:00:00",
          "2019-12-28T19:00:00",
          "2019-12-28T20:00:00",
          "2019-12-28T21:00:00",
          "2019-12-29T08:00:00",
          "2019-12-29T09:00:00",
          "2019-12-29T10:00:00",
          "2019-12-29T11:00:00",
          "2019-12-29T12:00:00",
          "2019-12-29T13:00:00",
          "2019-12-29T14:00:00",
          "2019-12-29T15:00:00",
          "2019-12-29T16:00:00",
          "2019-12-29T17:00:00",
          "2019-12-29T18:00:00",
          "2019-12-29T19:00:00",
          "2019-12-29T20:00:00",
          "2019-12-29T21:00:00",
          "2019-12-29T22:00:00",
          "2019-12-29T23:00:00",
          "2019-12-30T00:00:00",
          "2019-12-30T01:00:00",
          "2019-12-30T02:00:00",
          "2019-12-30T03:00:00",
          "2019-12-30T04:00:00",
          "2019-12-30T05:00:00",
          "2019-12-30T06:00:00",
          "2019-12-30T07:00:00",
          "2019-12-30T08:00:00",
          "2019-12-30T09:00:00",
          "2019-12-30T10:00:00",
          "2019-12-30T11:00:00",
          "2019-12-30T12:00:00",
          "2019-12-30T13:00:00",
          "2019-12-30T14:00:00",
          "2019-12-30T15:00:00",
          "2019-12-30T16:00:00",
          "2019-12-30T17:00:00",
          "2019-12-30T18:00:00",
          "2019-12-30T19:00:00",
          "2019-12-30T20:00:00",
          "2019-12-30T21:00:00",
          "2019-12-30T22:00:00",
          "2019-12-30T23:00:00",
          "2019-12-31T00:00:00",
          "2019-12-31T01:00:00",
          "2019-12-31T02:00:00",
          "2019-12-31T03:00:00",
          "2019-12-31T04:00:00",
          "2019-12-31T05:00:00",
          "2019-12-31T06:00:00",
          "2019-12-31T07:00:00",
          "2019-12-31T08:00:00",
          "2019-12-31T09:00:00",
          "2019-12-31T10:00:00",
          "2019-12-31T11:00:00",
          "2019-12-31T12:00:00",
          "2019-12-31T13:00:00"
         ],
         "y": [
          0.4967362301693423,
          0.498138440115795,
          0.48849746030840413,
          0.49603854382782775,
          0.49275039566747386,
          0.4971661682594367,
          0.49101640309188044,
          0.4989951836646921,
          0.5164638253142618,
          0.51448705101805,
          0.5077596172213166,
          0.5047998797904818,
          0.5070098431324157,
          0.5098844366219748,
          0.5123564322462152,
          0.49603497165569155,
          0.5121274668420291,
          0.48183708100629946,
          0.4512497522978669,
          0.48630022703287823,
          0.4840525068229801,
          0.5005696983267648,
          0.5017380065636389,
          0.5015791484288233,
          0.5076507921069009,
          0.5010174398198961,
          0.5051822165863353,
          0.49862393876967254,
          0.49382267338113106,
          0.5150593264040186,
          0.5087094612400862,
          0.5140999089946798,
          0.5128244603408632,
          0.5252535908089143,
          0.5134221696823185,
          0.508078101626187,
          0.502714063751901,
          0.508866181029857,
          0.5091373900374371,
          0.5052571366989882,
          0.5014715348081017,
          0.5073193117366732,
          0.5089395539435753,
          0.5047224333621307,
          0.5049488255985466,
          0.501359544379822,
          0.49817899314543773,
          0.5046552186290938,
          0.49482390889706107,
          0.4955864088311791,
          0.5030761208056571,
          0.5182135001682188,
          0.513239567183547,
          0.5054013768429605,
          0.5089856555707301,
          0.517312238478472,
          0.5219627009936261,
          0.5104047683472749,
          0.4927499624756574,
          0.49570294383916125,
          0.4866330047996432,
          0.49600113362906195,
          0.49589461118170863,
          0.4938235842088134,
          0.49858737266783526,
          0.5093798533217102,
          0.5118548581350483,
          0.5216017871014916,
          0.5128009972020742,
          0.48815206797005256,
          0.4638145058859746,
          0.4853801364539641,
          0.48555834518120067,
          0.49945424619259027,
          0.5068218170645905,
          0.49364365312115,
          0.5077489598622131,
          0.4988736285484588,
          0.4882117172489496,
          0.5048924155425614,
          0.49740471495329874,
          0.4880208206770962,
          0.4791393920984218,
          0.4805212930700255,
          0.4937618694111744,
          0.4915575005657101,
          0.4953489928930659,
          0.49337829715266046,
          0.49616413681190585,
          0.500203994771777,
          0.49619311479749123,
          0.4850421116978991,
          0.4710437597175342,
          0.47676095211199654,
          0.4788140706704242,
          0.4983310521367692,
          0.49654263187770725,
          0.4983564877049955,
          0.5065581620767518,
          0.5010021314727939,
          0.5050547161584755,
          0.5017658171255474
         ]
        }
       ],
       "layout": {
        "hovermode": "x",
        "template": {
         "data": {
          "bar": [
           {
            "error_x": {
             "color": "#2a3f5f"
            },
            "error_y": {
             "color": "#2a3f5f"
            },
            "marker": {
             "line": {
              "color": "#E5ECF6",
              "width": 0.5
             }
            },
            "type": "bar"
           }
          ],
          "barpolar": [
           {
            "marker": {
             "line": {
              "color": "#E5ECF6",
              "width": 0.5
             }
            },
            "type": "barpolar"
           }
          ],
          "carpet": [
           {
            "aaxis": {
             "endlinecolor": "#2a3f5f",
             "gridcolor": "white",
             "linecolor": "white",
             "minorgridcolor": "white",
             "startlinecolor": "#2a3f5f"
            },
            "baxis": {
             "endlinecolor": "#2a3f5f",
             "gridcolor": "white",
             "linecolor": "white",
             "minorgridcolor": "white",
             "startlinecolor": "#2a3f5f"
            },
            "type": "carpet"
           }
          ],
          "choropleth": [
           {
            "colorbar": {
             "outlinewidth": 0,
             "ticks": ""
            },
            "type": "choropleth"
           }
          ],
          "contour": [
           {
            "colorbar": {
             "outlinewidth": 0,
             "ticks": ""
            },
            "colorscale": [
             [
              0,
              "#0d0887"
             ],
             [
              0.1111111111111111,
              "#46039f"
             ],
             [
              0.2222222222222222,
              "#7201a8"
             ],
             [
              0.3333333333333333,
              "#9c179e"
             ],
             [
              0.4444444444444444,
              "#bd3786"
             ],
             [
              0.5555555555555556,
              "#d8576b"
             ],
             [
              0.6666666666666666,
              "#ed7953"
             ],
             [
              0.7777777777777778,
              "#fb9f3a"
             ],
             [
              0.8888888888888888,
              "#fdca26"
             ],
             [
              1,
              "#f0f921"
             ]
            ],
            "type": "contour"
           }
          ],
          "contourcarpet": [
           {
            "colorbar": {
             "outlinewidth": 0,
             "ticks": ""
            },
            "type": "contourcarpet"
           }
          ],
          "heatmap": [
           {
            "colorbar": {
             "outlinewidth": 0,
             "ticks": ""
            },
            "colorscale": [
             [
              0,
              "#0d0887"
             ],
             [
              0.1111111111111111,
              "#46039f"
             ],
             [
              0.2222222222222222,
              "#7201a8"
             ],
             [
              0.3333333333333333,
              "#9c179e"
             ],
             [
              0.4444444444444444,
              "#bd3786"
             ],
             [
              0.5555555555555556,
              "#d8576b"
             ],
             [
              0.6666666666666666,
              "#ed7953"
             ],
             [
              0.7777777777777778,
              "#fb9f3a"
             ],
             [
              0.8888888888888888,
              "#fdca26"
             ],
             [
              1,
              "#f0f921"
             ]
            ],
            "type": "heatmap"
           }
          ],
          "heatmapgl": [
           {
            "colorbar": {
             "outlinewidth": 0,
             "ticks": ""
            },
            "colorscale": [
             [
              0,
              "#0d0887"
             ],
             [
              0.1111111111111111,
              "#46039f"
             ],
             [
              0.2222222222222222,
              "#7201a8"
             ],
             [
              0.3333333333333333,
              "#9c179e"
             ],
             [
              0.4444444444444444,
              "#bd3786"
             ],
             [
              0.5555555555555556,
              "#d8576b"
             ],
             [
              0.6666666666666666,
              "#ed7953"
             ],
             [
              0.7777777777777778,
              "#fb9f3a"
             ],
             [
              0.8888888888888888,
              "#fdca26"
             ],
             [
              1,
              "#f0f921"
             ]
            ],
            "type": "heatmapgl"
           }
          ],
          "histogram": [
           {
            "marker": {
             "colorbar": {
              "outlinewidth": 0,
              "ticks": ""
             }
            },
            "type": "histogram"
           }
          ],
          "histogram2d": [
           {
            "colorbar": {
             "outlinewidth": 0,
             "ticks": ""
            },
            "colorscale": [
             [
              0,
              "#0d0887"
             ],
             [
              0.1111111111111111,
              "#46039f"
             ],
             [
              0.2222222222222222,
              "#7201a8"
             ],
             [
              0.3333333333333333,
              "#9c179e"
             ],
             [
              0.4444444444444444,
              "#bd3786"
             ],
             [
              0.5555555555555556,
              "#d8576b"
             ],
             [
              0.6666666666666666,
              "#ed7953"
             ],
             [
              0.7777777777777778,
              "#fb9f3a"
             ],
             [
              0.8888888888888888,
              "#fdca26"
             ],
             [
              1,
              "#f0f921"
             ]
            ],
            "type": "histogram2d"
           }
          ],
          "histogram2dcontour": [
           {
            "colorbar": {
             "outlinewidth": 0,
             "ticks": ""
            },
            "colorscale": [
             [
              0,
              "#0d0887"
             ],
             [
              0.1111111111111111,
              "#46039f"
             ],
             [
              0.2222222222222222,
              "#7201a8"
             ],
             [
              0.3333333333333333,
              "#9c179e"
             ],
             [
              0.4444444444444444,
              "#bd3786"
             ],
             [
              0.5555555555555556,
              "#d8576b"
             ],
             [
              0.6666666666666666,
              "#ed7953"
             ],
             [
              0.7777777777777778,
              "#fb9f3a"
             ],
             [
              0.8888888888888888,
              "#fdca26"
             ],
             [
              1,
              "#f0f921"
             ]
            ],
            "type": "histogram2dcontour"
           }
          ],
          "mesh3d": [
           {
            "colorbar": {
             "outlinewidth": 0,
             "ticks": ""
            },
            "type": "mesh3d"
           }
          ],
          "parcoords": [
           {
            "line": {
             "colorbar": {
              "outlinewidth": 0,
              "ticks": ""
             }
            },
            "type": "parcoords"
           }
          ],
          "scatter": [
           {
            "marker": {
             "colorbar": {
              "outlinewidth": 0,
              "ticks": ""
             }
            },
            "type": "scatter"
           }
          ],
          "scatter3d": [
           {
            "line": {
             "colorbar": {
              "outlinewidth": 0,
              "ticks": ""
             }
            },
            "marker": {
             "colorbar": {
              "outlinewidth": 0,
              "ticks": ""
             }
            },
            "type": "scatter3d"
           }
          ],
          "scattercarpet": [
           {
            "marker": {
             "colorbar": {
              "outlinewidth": 0,
              "ticks": ""
             }
            },
            "type": "scattercarpet"
           }
          ],
          "scattergeo": [
           {
            "marker": {
             "colorbar": {
              "outlinewidth": 0,
              "ticks": ""
             }
            },
            "type": "scattergeo"
           }
          ],
          "scattergl": [
           {
            "marker": {
             "colorbar": {
              "outlinewidth": 0,
              "ticks": ""
             }
            },
            "type": "scattergl"
           }
          ],
          "scattermapbox": [
           {
            "marker": {
             "colorbar": {
              "outlinewidth": 0,
              "ticks": ""
             }
            },
            "type": "scattermapbox"
           }
          ],
          "scatterpolar": [
           {
            "marker": {
             "colorbar": {
              "outlinewidth": 0,
              "ticks": ""
             }
            },
            "type": "scatterpolar"
           }
          ],
          "scatterpolargl": [
           {
            "marker": {
             "colorbar": {
              "outlinewidth": 0,
              "ticks": ""
             }
            },
            "type": "scatterpolargl"
           }
          ],
          "scatterternary": [
           {
            "marker": {
             "colorbar": {
              "outlinewidth": 0,
              "ticks": ""
             }
            },
            "type": "scatterternary"
           }
          ],
          "surface": [
           {
            "colorbar": {
             "outlinewidth": 0,
             "ticks": ""
            },
            "colorscale": [
             [
              0,
              "#0d0887"
             ],
             [
              0.1111111111111111,
              "#46039f"
             ],
             [
              0.2222222222222222,
              "#7201a8"
             ],
             [
              0.3333333333333333,
              "#9c179e"
             ],
             [
              0.4444444444444444,
              "#bd3786"
             ],
             [
              0.5555555555555556,
              "#d8576b"
             ],
             [
              0.6666666666666666,
              "#ed7953"
             ],
             [
              0.7777777777777778,
              "#fb9f3a"
             ],
             [
              0.8888888888888888,
              "#fdca26"
             ],
             [
              1,
              "#f0f921"
             ]
            ],
            "type": "surface"
           }
          ],
          "table": [
           {
            "cells": {
             "fill": {
              "color": "#EBF0F8"
             },
             "line": {
              "color": "white"
             }
            },
            "header": {
             "fill": {
              "color": "#C8D4E3"
             },
             "line": {
              "color": "white"
             }
            },
            "type": "table"
           }
          ]
         },
         "layout": {
          "annotationdefaults": {
           "arrowcolor": "#2a3f5f",
           "arrowhead": 0,
           "arrowwidth": 1
          },
          "colorscale": {
           "diverging": [
            [
             0,
             "#8e0152"
            ],
            [
             0.1,
             "#c51b7d"
            ],
            [
             0.2,
             "#de77ae"
            ],
            [
             0.3,
             "#f1b6da"
            ],
            [
             0.4,
             "#fde0ef"
            ],
            [
             0.5,
             "#f7f7f7"
            ],
            [
             0.6,
             "#e6f5d0"
            ],
            [
             0.7,
             "#b8e186"
            ],
            [
             0.8,
             "#7fbc41"
            ],
            [
             0.9,
             "#4d9221"
            ],
            [
             1,
             "#276419"
            ]
           ],
           "sequential": [
            [
             0,
             "#0d0887"
            ],
            [
             0.1111111111111111,
             "#46039f"
            ],
            [
             0.2222222222222222,
             "#7201a8"
            ],
            [
             0.3333333333333333,
             "#9c179e"
            ],
            [
             0.4444444444444444,
             "#bd3786"
            ],
            [
             0.5555555555555556,
             "#d8576b"
            ],
            [
             0.6666666666666666,
             "#ed7953"
            ],
            [
             0.7777777777777778,
             "#fb9f3a"
            ],
            [
             0.8888888888888888,
             "#fdca26"
            ],
            [
             1,
             "#f0f921"
            ]
           ],
           "sequentialminus": [
            [
             0,
             "#0d0887"
            ],
            [
             0.1111111111111111,
             "#46039f"
            ],
            [
             0.2222222222222222,
             "#7201a8"
            ],
            [
             0.3333333333333333,
             "#9c179e"
            ],
            [
             0.4444444444444444,
             "#bd3786"
            ],
            [
             0.5555555555555556,
             "#d8576b"
            ],
            [
             0.6666666666666666,
             "#ed7953"
            ],
            [
             0.7777777777777778,
             "#fb9f3a"
            ],
            [
             0.8888888888888888,
             "#fdca26"
            ],
            [
             1,
             "#f0f921"
            ]
           ]
          },
          "colorway": [
           "#636efa",
           "#EF553B",
           "#00cc96",
           "#ab63fa",
           "#FFA15A",
           "#19d3f3",
           "#FF6692",
           "#B6E880",
           "#FF97FF",
           "#FECB52"
          ],
          "font": {
           "color": "#2a3f5f"
          },
          "geo": {
           "bgcolor": "white",
           "lakecolor": "white",
           "landcolor": "#E5ECF6",
           "showlakes": true,
           "showland": true,
           "subunitcolor": "white"
          },
          "hoverlabel": {
           "align": "left"
          },
          "hovermode": "closest",
          "mapbox": {
           "style": "light"
          },
          "paper_bgcolor": "white",
          "plot_bgcolor": "#E5ECF6",
          "polar": {
           "angularaxis": {
            "gridcolor": "white",
            "linecolor": "white",
            "ticks": ""
           },
           "bgcolor": "#E5ECF6",
           "radialaxis": {
            "gridcolor": "white",
            "linecolor": "white",
            "ticks": ""
           }
          },
          "scene": {
           "xaxis": {
            "backgroundcolor": "#E5ECF6",
            "gridcolor": "white",
            "gridwidth": 2,
            "linecolor": "white",
            "showbackground": true,
            "ticks": "",
            "zerolinecolor": "white"
           },
           "yaxis": {
            "backgroundcolor": "#E5ECF6",
            "gridcolor": "white",
            "gridwidth": 2,
            "linecolor": "white",
            "showbackground": true,
            "ticks": "",
            "zerolinecolor": "white"
           },
           "zaxis": {
            "backgroundcolor": "#E5ECF6",
            "gridcolor": "white",
            "gridwidth": 2,
            "linecolor": "white",
            "showbackground": true,
            "ticks": "",
            "zerolinecolor": "white"
           }
          },
          "shapedefaults": {
           "line": {
            "color": "#2a3f5f"
           }
          },
          "ternary": {
           "aaxis": {
            "gridcolor": "white",
            "linecolor": "white",
            "ticks": ""
           },
           "baxis": {
            "gridcolor": "white",
            "linecolor": "white",
            "ticks": ""
           },
           "bgcolor": "#E5ECF6",
           "caxis": {
            "gridcolor": "white",
            "linecolor": "white",
            "ticks": ""
           }
          },
          "title": {
           "x": 0.05
          },
          "xaxis": {
           "automargin": true,
           "gridcolor": "white",
           "linecolor": "white",
           "ticks": "",
           "zerolinecolor": "white",
           "zerolinewidth": 2
          },
          "yaxis": {
           "automargin": true,
           "gridcolor": "white",
           "linecolor": "white",
           "ticks": "",
           "zerolinecolor": "white",
           "zerolinewidth": 2
          }
         }
        },
        "title": {
         "text": "video:group/auc"
        },
        "xaxis": {
         "type": "date"
        }
       }
      },
      "text/html": [
       "<div>\n",
       "        \n",
       "        \n",
       "            <div id=\"6f113e5b-b7be-45b4-890a-fae219ae8f0d\" class=\"plotly-graph-div\" style=\"height:525px; width:100%;\"></div>\n",
       "            <script type=\"text/javascript\">\n",
       "                require([\"plotly\"], function(Plotly) {\n",
       "                    window.PLOTLYENV=window.PLOTLYENV || {};\n",
       "                    \n",
       "                if (document.getElementById(\"6f113e5b-b7be-45b4-890a-fae219ae8f0d\")) {\n",
       "                    Plotly.newPlot(\n",
       "                        '6f113e5b-b7be-45b4-890a-fae219ae8f0d',\n",
       "                        [{\"line\": {\"shape\": \"spline\", \"smoothing\": 1.0}, \"mode\": \"lines+markers\", \"name\": \"456:group/auc\", \"type\": \"scatter\", \"x\": [\"2019-12-26T10:00:00\", \"2019-12-26T11:00:00\", \"2019-12-26T12:00:00\", \"2019-12-26T13:00:00\", \"2019-12-26T14:00:00\", \"2019-12-26T15:00:00\", \"2019-12-26T16:00:00\", \"2019-12-26T17:00:00\", \"2019-12-26T18:00:00\", \"2019-12-26T19:00:00\", \"2019-12-26T20:00:00\", \"2019-12-26T21:00:00\", \"2019-12-26T22:00:00\", \"2019-12-26T23:00:00\", \"2019-12-27T00:00:00\", \"2019-12-27T01:00:00\", \"2019-12-27T02:00:00\", \"2019-12-27T03:00:00\", \"2019-12-27T04:00:00\", \"2019-12-27T05:00:00\", \"2019-12-27T06:00:00\", \"2019-12-27T07:00:00\", \"2019-12-27T08:00:00\", \"2019-12-27T09:00:00\", \"2019-12-27T10:00:00\", \"2019-12-27T13:00:00\", \"2019-12-27T14:00:00\", \"2019-12-27T15:00:00\", \"2019-12-27T16:00:00\", \"2019-12-27T17:00:00\", \"2019-12-27T18:00:00\", \"2019-12-27T19:00:00\", \"2019-12-27T20:00:00\", \"2019-12-27T21:00:00\", \"2019-12-28T08:00:00\", \"2019-12-28T09:00:00\", \"2019-12-28T10:00:00\", \"2019-12-28T11:00:00\", \"2019-12-28T12:00:00\", \"2019-12-28T13:00:00\", \"2019-12-28T14:00:00\", \"2019-12-28T15:00:00\", \"2019-12-28T16:00:00\", \"2019-12-28T17:00:00\", \"2019-12-28T18:00:00\", \"2019-12-28T19:00:00\", \"2019-12-28T20:00:00\", \"2019-12-28T21:00:00\", \"2019-12-29T08:00:00\", \"2019-12-29T09:00:00\", \"2019-12-29T10:00:00\", \"2019-12-29T11:00:00\", \"2019-12-29T12:00:00\", \"2019-12-29T13:00:00\", \"2019-12-29T14:00:00\", \"2019-12-29T15:00:00\", \"2019-12-29T16:00:00\", \"2019-12-29T17:00:00\", \"2019-12-29T18:00:00\", \"2019-12-29T19:00:00\", \"2019-12-29T20:00:00\", \"2019-12-29T21:00:00\", \"2019-12-29T22:00:00\", \"2019-12-29T23:00:00\", \"2019-12-30T00:00:00\", \"2019-12-30T01:00:00\", \"2019-12-30T02:00:00\", \"2019-12-30T03:00:00\", \"2019-12-30T04:00:00\", \"2019-12-30T05:00:00\", \"2019-12-30T06:00:00\", \"2019-12-30T07:00:00\", \"2019-12-30T08:00:00\", \"2019-12-30T09:00:00\", \"2019-12-30T10:00:00\", \"2019-12-30T11:00:00\", \"2019-12-30T12:00:00\", \"2019-12-30T13:00:00\", \"2019-12-30T14:00:00\", \"2019-12-30T15:00:00\", \"2019-12-30T16:00:00\", \"2019-12-30T17:00:00\", \"2019-12-30T18:00:00\", \"2019-12-30T19:00:00\", \"2019-12-30T20:00:00\", \"2019-12-30T21:00:00\", \"2019-12-30T22:00:00\", \"2019-12-30T23:00:00\", \"2019-12-31T00:00:00\", \"2019-12-31T01:00:00\", \"2019-12-31T02:00:00\", \"2019-12-31T03:00:00\", \"2019-12-31T04:00:00\", \"2019-12-31T05:00:00\", \"2019-12-31T06:00:00\", \"2019-12-31T07:00:00\", \"2019-12-31T08:00:00\", \"2019-12-31T09:00:00\", \"2019-12-31T10:00:00\", \"2019-12-31T11:00:00\", \"2019-12-31T12:00:00\", \"2019-12-31T13:00:00\"], \"y\": [0.5178773150216085, 0.5085128688455666, 0.5084660753457428, 0.4972522901457239, 0.4997300171370352, 0.4882086308868221, 0.4922105770090137, 0.5008894819490608, 0.5074824736323418, 0.5006897614766351, 0.4986063987254792, 0.49333231202512123, 0.5011287381491747, 0.5061016799912359, 0.5042975892480238, 0.5076448290661912, 0.5060626046918906, 0.4996948103222303, 0.4920485893720654, 0.4871867756906685, 0.4920098545201862, 0.4814413682809788, 0.4927947342893295, 0.48491973167799785, 0.4987699884551703, 0.5051886068054237, 0.5010383738290551, 0.5015896906841592, 0.5047630274180397, 0.5037052000790324, 0.505870679696091, 0.5092099286698437, 0.5098429485651239, 0.5070201396775897, 0.496120556201121, 0.4953562627153332, 0.5030982337632823, 0.5101187639258784, 0.5080817930314935, 0.5037592633236952, 0.5031612010496715, 0.505089712640496, 0.5060504063637844, 0.5091015258671863, 0.5033107766478258, 0.4988765271275051, 0.4985653323413487, 0.5047978309315453, 0.49870816544919605, 0.4945041774683422, 0.49454940316604457, 0.4946066712048989, 0.4959322020232201, 0.5060833907521732, 0.5002708204812013, 0.49928255196581645, 0.4988678069098304, 0.49683990937591455, 0.50349589495354, 0.5088858574717727, 0.4973420123449786, 0.5013924774845615, 0.5030741569131709, 0.5063976936283234, 0.5054976843725092, 0.507214651922975, 0.4993534075937435, 0.4948360432262888, 0.49406569891187235, 0.47597576547362275, 0.47697994145343536, 0.48375043750989283, 0.4952323075326931, 0.4916723475827825, 0.4921273414957349, 0.5005302325045118, 0.5071751409265379, 0.5042507552873323, 0.4998464328087788, 0.49729466980718073, 0.49684689165530277, 0.4925210272373015, 0.4909451492483025, 0.5002829789175366, 0.5047222361414326, 0.5000232198680143, 0.5003580880752638, 0.5113361644802847, 0.4941303503586971, 0.5026014704137789, 0.5118721152003237, 0.5107432185984421, 0.500225538185441, 0.4784907903616986, 0.4789611195142895, 0.49371105071338406, 0.5003956822648197, 0.49496644324071426, 0.49237702942522316, 0.4968798426352775, 0.4974572316922087, 0.5000871068909115]}, {\"line\": {\"shape\": \"spline\", \"smoothing\": 1.0}, \"mode\": \"lines+markers\", \"name\": \"15:group/auc\", \"type\": \"scatter\", \"x\": [\"2019-12-26T10:00:00\", \"2019-12-26T11:00:00\", \"2019-12-26T12:00:00\", \"2019-12-26T13:00:00\", \"2019-12-26T14:00:00\", \"2019-12-26T15:00:00\", \"2019-12-26T16:00:00\", \"2019-12-26T17:00:00\", \"2019-12-26T18:00:00\", \"2019-12-26T19:00:00\", \"2019-12-26T20:00:00\", \"2019-12-26T21:00:00\", \"2019-12-26T22:00:00\", \"2019-12-26T23:00:00\", \"2019-12-27T00:00:00\", \"2019-12-27T01:00:00\", \"2019-12-27T02:00:00\", \"2019-12-27T03:00:00\", \"2019-12-27T04:00:00\", \"2019-12-27T05:00:00\", \"2019-12-27T06:00:00\", \"2019-12-27T07:00:00\", \"2019-12-27T08:00:00\", \"2019-12-27T09:00:00\", \"2019-12-27T10:00:00\", \"2019-12-27T13:00:00\", \"2019-12-27T14:00:00\", \"2019-12-27T15:00:00\", \"2019-12-27T16:00:00\", \"2019-12-27T17:00:00\", \"2019-12-27T18:00:00\", \"2019-12-27T19:00:00\", \"2019-12-27T20:00:00\", \"2019-12-27T21:00:00\", \"2019-12-28T08:00:00\", \"2019-12-28T09:00:00\", \"2019-12-28T10:00:00\", \"2019-12-28T11:00:00\", \"2019-12-28T12:00:00\", \"2019-12-28T13:00:00\", \"2019-12-28T14:00:00\", \"2019-12-28T15:00:00\", \"2019-12-28T16:00:00\", \"2019-12-28T17:00:00\", \"2019-12-28T18:00:00\", \"2019-12-28T19:00:00\", \"2019-12-28T20:00:00\", \"2019-12-28T21:00:00\", \"2019-12-29T08:00:00\", \"2019-12-29T09:00:00\", \"2019-12-29T10:00:00\", \"2019-12-29T11:00:00\", \"2019-12-29T12:00:00\", \"2019-12-29T13:00:00\", \"2019-12-29T14:00:00\", \"2019-12-29T15:00:00\", \"2019-12-29T16:00:00\", \"2019-12-29T17:00:00\", \"2019-12-29T18:00:00\", \"2019-12-29T19:00:00\", \"2019-12-29T20:00:00\", \"2019-12-29T21:00:00\", \"2019-12-29T22:00:00\", \"2019-12-29T23:00:00\", \"2019-12-30T00:00:00\", \"2019-12-30T01:00:00\", \"2019-12-30T02:00:00\", \"2019-12-30T03:00:00\", \"2019-12-30T04:00:00\", \"2019-12-30T05:00:00\", \"2019-12-30T06:00:00\", \"2019-12-30T07:00:00\", \"2019-12-30T08:00:00\", \"2019-12-30T09:00:00\", \"2019-12-30T10:00:00\", \"2019-12-30T11:00:00\", \"2019-12-30T12:00:00\", \"2019-12-30T13:00:00\", \"2019-12-30T14:00:00\", \"2019-12-30T15:00:00\", \"2019-12-30T16:00:00\", \"2019-12-30T17:00:00\", \"2019-12-30T18:00:00\", \"2019-12-30T19:00:00\", \"2019-12-30T20:00:00\", \"2019-12-30T21:00:00\", \"2019-12-30T22:00:00\", \"2019-12-30T23:00:00\", \"2019-12-31T00:00:00\", \"2019-12-31T01:00:00\", \"2019-12-31T02:00:00\", \"2019-12-31T03:00:00\", \"2019-12-31T04:00:00\", \"2019-12-31T05:00:00\", \"2019-12-31T06:00:00\", \"2019-12-31T07:00:00\", \"2019-12-31T08:00:00\", \"2019-12-31T09:00:00\", \"2019-12-31T10:00:00\", \"2019-12-31T11:00:00\", \"2019-12-31T12:00:00\", \"2019-12-31T13:00:00\"], \"y\": [0.4967362301693423, 0.498138440115795, 0.48849746030840413, 0.49603854382782775, 0.49275039566747386, 0.4971661682594367, 0.49101640309188044, 0.4989951836646921, 0.5164638253142618, 0.51448705101805, 0.5077596172213166, 0.5047998797904818, 0.5070098431324157, 0.5098844366219748, 0.5123564322462152, 0.49603497165569155, 0.5121274668420291, 0.48183708100629946, 0.4512497522978669, 0.48630022703287823, 0.4840525068229801, 0.5005696983267648, 0.5017380065636389, 0.5015791484288233, 0.5076507921069009, 0.5010174398198961, 0.5051822165863353, 0.49862393876967254, 0.49382267338113106, 0.5150593264040186, 0.5087094612400862, 0.5140999089946798, 0.5128244603408632, 0.5252535908089143, 0.5134221696823185, 0.508078101626187, 0.502714063751901, 0.508866181029857, 0.5091373900374371, 0.5052571366989882, 0.5014715348081017, 0.5073193117366732, 0.5089395539435753, 0.5047224333621307, 0.5049488255985466, 0.501359544379822, 0.49817899314543773, 0.5046552186290938, 0.49482390889706107, 0.4955864088311791, 0.5030761208056571, 0.5182135001682188, 0.513239567183547, 0.5054013768429605, 0.5089856555707301, 0.517312238478472, 0.5219627009936261, 0.5104047683472749, 0.4927499624756574, 0.49570294383916125, 0.4866330047996432, 0.49600113362906195, 0.49589461118170863, 0.4938235842088134, 0.49858737266783526, 0.5093798533217102, 0.5118548581350483, 0.5216017871014916, 0.5128009972020742, 0.48815206797005256, 0.4638145058859746, 0.4853801364539641, 0.48555834518120067, 0.49945424619259027, 0.5068218170645905, 0.49364365312115, 0.5077489598622131, 0.4988736285484588, 0.4882117172489496, 0.5048924155425614, 0.49740471495329874, 0.4880208206770962, 0.4791393920984218, 0.4805212930700255, 0.4937618694111744, 0.4915575005657101, 0.4953489928930659, 0.49337829715266046, 0.49616413681190585, 0.500203994771777, 0.49619311479749123, 0.4850421116978991, 0.4710437597175342, 0.47676095211199654, 0.4788140706704242, 0.4983310521367692, 0.49654263187770725, 0.4983564877049955, 0.5065581620767518, 0.5010021314727939, 0.5050547161584755, 0.5017658171255474]}],\n",
       "                        {\"hovermode\": \"x\", \"template\": {\"data\": {\"bar\": [{\"error_x\": {\"color\": \"#2a3f5f\"}, \"error_y\": {\"color\": \"#2a3f5f\"}, \"marker\": {\"line\": {\"color\": \"#E5ECF6\", \"width\": 0.5}}, \"type\": \"bar\"}], \"barpolar\": [{\"marker\": {\"line\": {\"color\": \"#E5ECF6\", \"width\": 0.5}}, \"type\": \"barpolar\"}], \"carpet\": [{\"aaxis\": {\"endlinecolor\": \"#2a3f5f\", \"gridcolor\": \"white\", \"linecolor\": \"white\", \"minorgridcolor\": \"white\", \"startlinecolor\": \"#2a3f5f\"}, \"baxis\": {\"endlinecolor\": \"#2a3f5f\", \"gridcolor\": \"white\", \"linecolor\": \"white\", \"minorgridcolor\": \"white\", \"startlinecolor\": \"#2a3f5f\"}, \"type\": \"carpet\"}], \"choropleth\": [{\"colorbar\": {\"outlinewidth\": 0, \"ticks\": \"\"}, \"type\": \"choropleth\"}], \"contour\": [{\"colorbar\": {\"outlinewidth\": 0, \"ticks\": \"\"}, \"colorscale\": [[0.0, \"#0d0887\"], [0.1111111111111111, \"#46039f\"], [0.2222222222222222, \"#7201a8\"], [0.3333333333333333, \"#9c179e\"], [0.4444444444444444, \"#bd3786\"], [0.5555555555555556, \"#d8576b\"], [0.6666666666666666, \"#ed7953\"], [0.7777777777777778, \"#fb9f3a\"], [0.8888888888888888, \"#fdca26\"], [1.0, \"#f0f921\"]], \"type\": \"contour\"}], \"contourcarpet\": [{\"colorbar\": {\"outlinewidth\": 0, \"ticks\": \"\"}, \"type\": \"contourcarpet\"}], \"heatmap\": [{\"colorbar\": {\"outlinewidth\": 0, \"ticks\": \"\"}, \"colorscale\": [[0.0, \"#0d0887\"], [0.1111111111111111, \"#46039f\"], [0.2222222222222222, \"#7201a8\"], [0.3333333333333333, \"#9c179e\"], [0.4444444444444444, \"#bd3786\"], [0.5555555555555556, \"#d8576b\"], [0.6666666666666666, \"#ed7953\"], [0.7777777777777778, \"#fb9f3a\"], [0.8888888888888888, \"#fdca26\"], [1.0, \"#f0f921\"]], \"type\": \"heatmap\"}], \"heatmapgl\": [{\"colorbar\": {\"outlinewidth\": 0, \"ticks\": \"\"}, \"colorscale\": [[0.0, \"#0d0887\"], [0.1111111111111111, \"#46039f\"], [0.2222222222222222, \"#7201a8\"], [0.3333333333333333, \"#9c179e\"], [0.4444444444444444, \"#bd3786\"], [0.5555555555555556, \"#d8576b\"], [0.6666666666666666, \"#ed7953\"], [0.7777777777777778, \"#fb9f3a\"], [0.8888888888888888, \"#fdca26\"], [1.0, \"#f0f921\"]], \"type\": \"heatmapgl\"}], \"histogram\": [{\"marker\": {\"colorbar\": {\"outlinewidth\": 0, \"ticks\": \"\"}}, \"type\": \"histogram\"}], \"histogram2d\": [{\"colorbar\": {\"outlinewidth\": 0, \"ticks\": \"\"}, \"colorscale\": [[0.0, \"#0d0887\"], [0.1111111111111111, \"#46039f\"], [0.2222222222222222, \"#7201a8\"], [0.3333333333333333, \"#9c179e\"], [0.4444444444444444, \"#bd3786\"], [0.5555555555555556, \"#d8576b\"], [0.6666666666666666, \"#ed7953\"], [0.7777777777777778, \"#fb9f3a\"], [0.8888888888888888, \"#fdca26\"], [1.0, \"#f0f921\"]], \"type\": \"histogram2d\"}], \"histogram2dcontour\": [{\"colorbar\": {\"outlinewidth\": 0, \"ticks\": \"\"}, \"colorscale\": [[0.0, \"#0d0887\"], [0.1111111111111111, \"#46039f\"], [0.2222222222222222, \"#7201a8\"], [0.3333333333333333, \"#9c179e\"], [0.4444444444444444, \"#bd3786\"], [0.5555555555555556, \"#d8576b\"], [0.6666666666666666, \"#ed7953\"], [0.7777777777777778, \"#fb9f3a\"], [0.8888888888888888, \"#fdca26\"], [1.0, \"#f0f921\"]], \"type\": \"histogram2dcontour\"}], \"mesh3d\": [{\"colorbar\": {\"outlinewidth\": 0, \"ticks\": \"\"}, \"type\": \"mesh3d\"}], \"parcoords\": [{\"line\": {\"colorbar\": {\"outlinewidth\": 0, \"ticks\": \"\"}}, \"type\": \"parcoords\"}], \"scatter\": [{\"marker\": {\"colorbar\": {\"outlinewidth\": 0, \"ticks\": \"\"}}, \"type\": \"scatter\"}], \"scatter3d\": [{\"line\": {\"colorbar\": {\"outlinewidth\": 0, \"ticks\": \"\"}}, \"marker\": {\"colorbar\": {\"outlinewidth\": 0, \"ticks\": \"\"}}, \"type\": \"scatter3d\"}], \"scattercarpet\": [{\"marker\": {\"colorbar\": {\"outlinewidth\": 0, \"ticks\": \"\"}}, \"type\": \"scattercarpet\"}], \"scattergeo\": [{\"marker\": {\"colorbar\": {\"outlinewidth\": 0, \"ticks\": \"\"}}, \"type\": \"scattergeo\"}], \"scattergl\": [{\"marker\": {\"colorbar\": {\"outlinewidth\": 0, \"ticks\": \"\"}}, \"type\": \"scattergl\"}], \"scattermapbox\": [{\"marker\": {\"colorbar\": {\"outlinewidth\": 0, \"ticks\": \"\"}}, \"type\": \"scattermapbox\"}], \"scatterpolar\": [{\"marker\": {\"colorbar\": {\"outlinewidth\": 0, \"ticks\": \"\"}}, \"type\": \"scatterpolar\"}], \"scatterpolargl\": [{\"marker\": {\"colorbar\": {\"outlinewidth\": 0, \"ticks\": \"\"}}, \"type\": \"scatterpolargl\"}], \"scatterternary\": [{\"marker\": {\"colorbar\": {\"outlinewidth\": 0, \"ticks\": \"\"}}, \"type\": \"scatterternary\"}], \"surface\": [{\"colorbar\": {\"outlinewidth\": 0, \"ticks\": \"\"}, \"colorscale\": [[0.0, \"#0d0887\"], [0.1111111111111111, \"#46039f\"], [0.2222222222222222, \"#7201a8\"], [0.3333333333333333, \"#9c179e\"], [0.4444444444444444, \"#bd3786\"], [0.5555555555555556, \"#d8576b\"], [0.6666666666666666, \"#ed7953\"], [0.7777777777777778, \"#fb9f3a\"], [0.8888888888888888, \"#fdca26\"], [1.0, \"#f0f921\"]], \"type\": \"surface\"}], \"table\": [{\"cells\": {\"fill\": {\"color\": \"#EBF0F8\"}, \"line\": {\"color\": \"white\"}}, \"header\": {\"fill\": {\"color\": \"#C8D4E3\"}, \"line\": {\"color\": \"white\"}}, \"type\": \"table\"}]}, \"layout\": {\"annotationdefaults\": {\"arrowcolor\": \"#2a3f5f\", \"arrowhead\": 0, \"arrowwidth\": 1}, \"colorscale\": {\"diverging\": [[0, \"#8e0152\"], [0.1, \"#c51b7d\"], [0.2, \"#de77ae\"], [0.3, \"#f1b6da\"], [0.4, \"#fde0ef\"], [0.5, \"#f7f7f7\"], [0.6, \"#e6f5d0\"], [0.7, \"#b8e186\"], [0.8, \"#7fbc41\"], [0.9, \"#4d9221\"], [1, \"#276419\"]], \"sequential\": [[0.0, \"#0d0887\"], [0.1111111111111111, \"#46039f\"], [0.2222222222222222, \"#7201a8\"], [0.3333333333333333, \"#9c179e\"], [0.4444444444444444, \"#bd3786\"], [0.5555555555555556, \"#d8576b\"], [0.6666666666666666, \"#ed7953\"], [0.7777777777777778, \"#fb9f3a\"], [0.8888888888888888, \"#fdca26\"], [1.0, \"#f0f921\"]], \"sequentialminus\": [[0.0, \"#0d0887\"], [0.1111111111111111, \"#46039f\"], [0.2222222222222222, \"#7201a8\"], [0.3333333333333333, \"#9c179e\"], [0.4444444444444444, \"#bd3786\"], [0.5555555555555556, \"#d8576b\"], [0.6666666666666666, \"#ed7953\"], [0.7777777777777778, \"#fb9f3a\"], [0.8888888888888888, \"#fdca26\"], [1.0, \"#f0f921\"]]}, \"colorway\": [\"#636efa\", \"#EF553B\", \"#00cc96\", \"#ab63fa\", \"#FFA15A\", \"#19d3f3\", \"#FF6692\", \"#B6E880\", \"#FF97FF\", \"#FECB52\"], \"font\": {\"color\": \"#2a3f5f\"}, \"geo\": {\"bgcolor\": \"white\", \"lakecolor\": \"white\", \"landcolor\": \"#E5ECF6\", \"showlakes\": true, \"showland\": true, \"subunitcolor\": \"white\"}, \"hoverlabel\": {\"align\": \"left\"}, \"hovermode\": \"closest\", \"mapbox\": {\"style\": \"light\"}, \"paper_bgcolor\": \"white\", \"plot_bgcolor\": \"#E5ECF6\", \"polar\": {\"angularaxis\": {\"gridcolor\": \"white\", \"linecolor\": \"white\", \"ticks\": \"\"}, \"bgcolor\": \"#E5ECF6\", \"radialaxis\": {\"gridcolor\": \"white\", \"linecolor\": \"white\", \"ticks\": \"\"}}, \"scene\": {\"xaxis\": {\"backgroundcolor\": \"#E5ECF6\", \"gridcolor\": \"white\", \"gridwidth\": 2, \"linecolor\": \"white\", \"showbackground\": true, \"ticks\": \"\", \"zerolinecolor\": \"white\"}, \"yaxis\": {\"backgroundcolor\": \"#E5ECF6\", \"gridcolor\": \"white\", \"gridwidth\": 2, \"linecolor\": \"white\", \"showbackground\": true, \"ticks\": \"\", \"zerolinecolor\": \"white\"}, \"zaxis\": {\"backgroundcolor\": \"#E5ECF6\", \"gridcolor\": \"white\", \"gridwidth\": 2, \"linecolor\": \"white\", \"showbackground\": true, \"ticks\": \"\", \"zerolinecolor\": \"white\"}}, \"shapedefaults\": {\"line\": {\"color\": \"#2a3f5f\"}}, \"ternary\": {\"aaxis\": {\"gridcolor\": \"white\", \"linecolor\": \"white\", \"ticks\": \"\"}, \"baxis\": {\"gridcolor\": \"white\", \"linecolor\": \"white\", \"ticks\": \"\"}, \"bgcolor\": \"#E5ECF6\", \"caxis\": {\"gridcolor\": \"white\", \"linecolor\": \"white\", \"ticks\": \"\"}}, \"title\": {\"x\": 0.05}, \"xaxis\": {\"automargin\": true, \"gridcolor\": \"white\", \"linecolor\": \"white\", \"ticks\": \"\", \"zerolinecolor\": \"white\", \"zerolinewidth\": 2}, \"yaxis\": {\"automargin\": true, \"gridcolor\": \"white\", \"linecolor\": \"white\", \"ticks\": \"\", \"zerolinecolor\": \"white\", \"zerolinewidth\": 2}}}, \"title\": {\"text\": \"video:group/auc\"}, \"xaxis\": {\"type\": \"date\"}},\n",
       "                        {\"responsive\": true}\n",
       "                    ).then(function(){\n",
       "                            \n",
       "var gd = document.getElementById('6f113e5b-b7be-45b4-890a-fae219ae8f0d');\n",
       "var x = new MutationObserver(function (mutations, observer) {{\n",
       "        var display = window.getComputedStyle(gd).display;\n",
       "        if (!display || display === 'none') {{\n",
       "            console.log([gd, 'removed!']);\n",
       "            Plotly.purge(gd);\n",
       "            observer.disconnect();\n",
       "        }}\n",
       "}});\n",
       "\n",
       "// Listen for the removal of the full notebook cells\n",
       "var notebookContainer = gd.closest('#notebook-container');\n",
       "if (notebookContainer) {{\n",
       "    x.observe(notebookContainer, {childList: true});\n",
       "}}\n",
       "\n",
       "// Listen for the clearing of the current output cell\n",
       "var outputEl = gd.closest('.output');\n",
       "if (outputEl) {{\n",
       "    x.observe(outputEl, {childList: true});\n",
       "}}\n",
       "\n",
       "                        })\n",
       "                };\n",
       "                });\n",
       "            </script>\n",
       "        </div>"
      ]
     },
     "metadata": {},
     "output_type": "display_data"
    }
   ],
   "source": [
    "compare(df, 'group/auc')"
   ]
  },
  {
   "cell_type": "code",
   "execution_count": 33,
   "metadata": {},
   "outputs": [
    {
     "data": {
      "application/vnd.plotly.v1+json": {
       "config": {
        "linkText": "Export to plot.ly",
        "plotlyServerURL": "https://plot.ly",
        "showLink": false
       },
       "data": [
        {
         "line": {
          "shape": "spline",
          "smoothing": 1
         },
         "mode": "lines+markers",
         "name": "456:group/click/time_auc",
         "type": "scatter",
         "x": [
          "2019-12-26T10:00:00",
          "2019-12-26T11:00:00",
          "2019-12-26T12:00:00",
          "2019-12-26T13:00:00",
          "2019-12-26T14:00:00",
          "2019-12-26T15:00:00",
          "2019-12-26T16:00:00",
          "2019-12-26T17:00:00",
          "2019-12-26T18:00:00",
          "2019-12-26T19:00:00",
          "2019-12-26T20:00:00",
          "2019-12-26T21:00:00",
          "2019-12-26T22:00:00",
          "2019-12-26T23:00:00",
          "2019-12-27T00:00:00",
          "2019-12-27T01:00:00",
          "2019-12-27T02:00:00",
          "2019-12-27T03:00:00",
          "2019-12-27T04:00:00",
          "2019-12-27T05:00:00",
          "2019-12-27T06:00:00",
          "2019-12-27T07:00:00",
          "2019-12-27T08:00:00",
          "2019-12-27T09:00:00",
          "2019-12-27T10:00:00",
          "2019-12-27T13:00:00",
          "2019-12-27T14:00:00",
          "2019-12-27T15:00:00",
          "2019-12-27T16:00:00",
          "2019-12-27T17:00:00",
          "2019-12-27T18:00:00",
          "2019-12-27T19:00:00",
          "2019-12-27T20:00:00",
          "2019-12-27T21:00:00",
          "2019-12-28T08:00:00",
          "2019-12-28T09:00:00",
          "2019-12-28T10:00:00",
          "2019-12-28T11:00:00",
          "2019-12-28T12:00:00",
          "2019-12-28T13:00:00",
          "2019-12-28T14:00:00",
          "2019-12-28T15:00:00",
          "2019-12-28T16:00:00",
          "2019-12-28T17:00:00",
          "2019-12-28T18:00:00",
          "2019-12-28T19:00:00",
          "2019-12-28T20:00:00",
          "2019-12-28T21:00:00",
          "2019-12-29T08:00:00",
          "2019-12-29T09:00:00",
          "2019-12-29T10:00:00",
          "2019-12-29T11:00:00",
          "2019-12-29T12:00:00",
          "2019-12-29T13:00:00",
          "2019-12-29T14:00:00",
          "2019-12-29T15:00:00",
          "2019-12-29T16:00:00",
          "2019-12-29T17:00:00",
          "2019-12-29T18:00:00",
          "2019-12-29T19:00:00",
          "2019-12-29T20:00:00",
          "2019-12-29T21:00:00",
          "2019-12-29T22:00:00",
          "2019-12-29T23:00:00",
          "2019-12-30T00:00:00",
          "2019-12-30T01:00:00",
          "2019-12-30T02:00:00",
          "2019-12-30T03:00:00",
          "2019-12-30T04:00:00",
          "2019-12-30T05:00:00",
          "2019-12-30T06:00:00",
          "2019-12-30T07:00:00",
          "2019-12-30T08:00:00",
          "2019-12-30T09:00:00",
          "2019-12-30T10:00:00",
          "2019-12-30T11:00:00",
          "2019-12-30T12:00:00",
          "2019-12-30T13:00:00",
          "2019-12-30T14:00:00",
          "2019-12-30T15:00:00",
          "2019-12-30T16:00:00",
          "2019-12-30T17:00:00",
          "2019-12-30T18:00:00",
          "2019-12-30T19:00:00",
          "2019-12-30T20:00:00",
          "2019-12-30T21:00:00",
          "2019-12-30T22:00:00",
          "2019-12-30T23:00:00",
          "2019-12-31T00:00:00",
          "2019-12-31T01:00:00",
          "2019-12-31T02:00:00",
          "2019-12-31T03:00:00",
          "2019-12-31T04:00:00",
          "2019-12-31T05:00:00",
          "2019-12-31T06:00:00",
          "2019-12-31T07:00:00",
          "2019-12-31T08:00:00",
          "2019-12-31T09:00:00",
          "2019-12-31T10:00:00",
          "2019-12-31T11:00:00",
          "2019-12-31T12:00:00",
          "2019-12-31T13:00:00"
         ],
         "y": [
          0.5611754495813576,
          0.5382841938177716,
          0.5450664289960203,
          0.5543072283850783,
          0.5499474032762051,
          0.5469896206678124,
          0.5420177547765123,
          0.5407373809619975,
          0.52747766715948,
          0.5400033826003894,
          0.5439050463145774,
          0.5471002258633082,
          0.5546891636698473,
          0.5496630165629885,
          0.5433991708441834,
          0.5286167240303485,
          0.5370843794459076,
          0.5355673896493061,
          0.5235364771382477,
          0.5154642979463352,
          0.530900399472752,
          0.5262994047730329,
          0.535905460531009,
          0.5409559095065204,
          0.5413048389511056,
          0.5418966473910254,
          0.5430776232831749,
          0.5425751370081173,
          0.5385808325267967,
          0.5337495572251266,
          0.5373067376412741,
          0.5379028034014456,
          0.5421604684979195,
          0.5401538405390802,
          0.5299292023787052,
          0.5375001882777857,
          0.5395370918051562,
          0.5440781810602455,
          0.5337549717734191,
          0.5321180520036559,
          0.5449446621568387,
          0.5337273516761226,
          0.5291672811571371,
          0.5267364366858311,
          0.5385832650884977,
          0.540381404456614,
          0.533330695364684,
          0.5436651616114058,
          0.5394186496344198,
          0.5521051241450408,
          0.5450661676319752,
          0.5464658755468863,
          0.5315441586831443,
          0.5288893731250578,
          0.5336017376131124,
          0.5406918318029933,
          0.5362579513562771,
          0.536351775520832,
          0.528045682262472,
          0.5409089981738069,
          0.5387571170455276,
          0.5385640413541211,
          0.5412388318405421,
          0.5415654262307175,
          0.5439519440959021,
          0.5492720216110989,
          0.5333141956828508,
          0.5232260950751798,
          0.5055379860230252,
          0.5036248638264695,
          0.5413674286602488,
          0.5319018373976675,
          0.5365755286967822,
          0.5372282921587543,
          0.5444206193423444,
          0.5382904143170176,
          0.5373030149730897,
          0.5387732029698784,
          0.5306689304099199,
          0.5348836251689275,
          0.5473477284246956,
          0.5357714029652619,
          0.5412100344269257,
          0.5414859551404572,
          0.5376086267018267,
          0.5341447072525205,
          0.5411654119334173,
          0.5444359796287755,
          0.5411205911232985,
          0.5338764244809877,
          0.5301680484909346,
          0.5321990151196498,
          0.5179097511531123,
          0.5292865172067909,
          0.5479206917726749,
          0.5358386582341292,
          0.531595609077367,
          0.543061111175541,
          0.5456134656231343,
          0.5368407087457143,
          0.5310463284834923,
          0.5349751555149374
         ]
        },
        {
         "line": {
          "shape": "spline",
          "smoothing": 1
         },
         "mode": "lines+markers",
         "name": "15:group/click/time_auc",
         "type": "scatter",
         "x": [
          "2019-12-26T10:00:00",
          "2019-12-26T11:00:00",
          "2019-12-26T12:00:00",
          "2019-12-26T13:00:00",
          "2019-12-26T14:00:00",
          "2019-12-26T15:00:00",
          "2019-12-26T16:00:00",
          "2019-12-26T17:00:00",
          "2019-12-26T18:00:00",
          "2019-12-26T19:00:00",
          "2019-12-26T20:00:00",
          "2019-12-26T21:00:00",
          "2019-12-26T22:00:00",
          "2019-12-26T23:00:00",
          "2019-12-27T00:00:00",
          "2019-12-27T01:00:00",
          "2019-12-27T02:00:00",
          "2019-12-27T03:00:00",
          "2019-12-27T04:00:00",
          "2019-12-27T05:00:00",
          "2019-12-27T06:00:00",
          "2019-12-27T07:00:00",
          "2019-12-27T08:00:00",
          "2019-12-27T09:00:00",
          "2019-12-27T10:00:00",
          "2019-12-27T13:00:00",
          "2019-12-27T14:00:00",
          "2019-12-27T15:00:00",
          "2019-12-27T16:00:00",
          "2019-12-27T17:00:00",
          "2019-12-27T18:00:00",
          "2019-12-27T19:00:00",
          "2019-12-27T20:00:00",
          "2019-12-27T21:00:00",
          "2019-12-28T08:00:00",
          "2019-12-28T09:00:00",
          "2019-12-28T10:00:00",
          "2019-12-28T11:00:00",
          "2019-12-28T12:00:00",
          "2019-12-28T13:00:00",
          "2019-12-28T14:00:00",
          "2019-12-28T15:00:00",
          "2019-12-28T16:00:00",
          "2019-12-28T17:00:00",
          "2019-12-28T18:00:00",
          "2019-12-28T19:00:00",
          "2019-12-28T20:00:00",
          "2019-12-28T21:00:00",
          "2019-12-29T08:00:00",
          "2019-12-29T09:00:00",
          "2019-12-29T10:00:00",
          "2019-12-29T11:00:00",
          "2019-12-29T12:00:00",
          "2019-12-29T13:00:00",
          "2019-12-29T14:00:00",
          "2019-12-29T15:00:00",
          "2019-12-29T16:00:00",
          "2019-12-29T17:00:00",
          "2019-12-29T18:00:00",
          "2019-12-29T19:00:00",
          "2019-12-29T20:00:00",
          "2019-12-29T21:00:00",
          "2019-12-29T22:00:00",
          "2019-12-29T23:00:00",
          "2019-12-30T00:00:00",
          "2019-12-30T01:00:00",
          "2019-12-30T02:00:00",
          "2019-12-30T03:00:00",
          "2019-12-30T04:00:00",
          "2019-12-30T05:00:00",
          "2019-12-30T06:00:00",
          "2019-12-30T07:00:00",
          "2019-12-30T08:00:00",
          "2019-12-30T09:00:00",
          "2019-12-30T10:00:00",
          "2019-12-30T11:00:00",
          "2019-12-30T12:00:00",
          "2019-12-30T13:00:00",
          "2019-12-30T14:00:00",
          "2019-12-30T15:00:00",
          "2019-12-30T16:00:00",
          "2019-12-30T17:00:00",
          "2019-12-30T18:00:00",
          "2019-12-30T19:00:00",
          "2019-12-30T20:00:00",
          "2019-12-30T21:00:00",
          "2019-12-30T22:00:00",
          "2019-12-30T23:00:00",
          "2019-12-31T00:00:00",
          "2019-12-31T01:00:00",
          "2019-12-31T02:00:00",
          "2019-12-31T03:00:00",
          "2019-12-31T04:00:00",
          "2019-12-31T05:00:00",
          "2019-12-31T06:00:00",
          "2019-12-31T07:00:00",
          "2019-12-31T08:00:00",
          "2019-12-31T09:00:00",
          "2019-12-31T10:00:00",
          "2019-12-31T11:00:00",
          "2019-12-31T12:00:00",
          "2019-12-31T13:00:00"
         ],
         "y": [
          0.529209958491951,
          0.529774923055748,
          0.531453143238671,
          0.5379195591202568,
          0.5429236131930573,
          0.5092908274353698,
          0.5035385215583706,
          0.5231075161394745,
          0.5234270452651275,
          0.5379927092094366,
          0.5478332088878191,
          0.5403714498933108,
          0.5430828754567136,
          0.530391145735008,
          0.5419326213461677,
          0.5425599278223252,
          0.5386103466581628,
          0.5536603379473499,
          0.506032010300561,
          0.5192369999608136,
          0.5144399408583096,
          0.514183186715755,
          0.5384746550606843,
          0.5300442131153594,
          0.5294427017374405,
          0.542104745314197,
          0.531991139909536,
          0.5280906653761962,
          0.5362837486947908,
          0.5343546815347846,
          0.5392014416803842,
          0.5211288657020856,
          0.5260040696252827,
          0.5291043820470027,
          0.5304722590728593,
          0.5393088800221287,
          0.5529776258264126,
          0.5330474012810086,
          0.5496223394429568,
          0.5345919742094174,
          0.5364155364713801,
          0.5468575125975781,
          0.5236580204512399,
          0.533185205356406,
          0.5350326431615233,
          0.5300340921773065,
          0.5340980230944867,
          0.5344117931652501,
          0.53274126132268,
          0.5348324126003048,
          0.5262200583149452,
          0.5455287566723356,
          0.5447839943147011,
          0.5425596708975737,
          0.5285380588233589,
          0.5457577848330509,
          0.5394088730416141,
          0.5385378476353138,
          0.5330005145385713,
          0.527993429533549,
          0.5355677768016657,
          0.528387256886985,
          0.5279505030604316,
          0.5228945959762707,
          0.5400051860275679,
          0.543533902504155,
          0.5465219780599112,
          0.5520089466241198,
          0.5564998210817955,
          0.5237215654164241,
          0.532268814759447,
          0.5272526307168639,
          0.5185533875445949,
          0.5198183730325255,
          0.533742314847482,
          0.5346506219411618,
          0.5440490059809053,
          0.5436038154090955,
          0.5253435798295294,
          0.5172833016936511,
          0.5254818745344901,
          0.5338925001374928,
          0.5397720800581312,
          0.5271129825872067,
          0.53542162967242,
          0.5332713792174701,
          0.5319252316315476,
          0.5468528248124831,
          0.5500745020246406,
          0.5474572712292034,
          0.5411230035088066,
          0.5344633391644958,
          0.5407682537738405,
          0.5244354127145705,
          0.5450978317521371,
          0.559267525592795,
          0.5385777999677959,
          0.5334305737122405,
          0.5336073455093915,
          0.5354047947914559,
          0.5444401907814566,
          0.5286299432835795
         ]
        }
       ],
       "layout": {
        "hovermode": "x",
        "template": {
         "data": {
          "bar": [
           {
            "error_x": {
             "color": "#2a3f5f"
            },
            "error_y": {
             "color": "#2a3f5f"
            },
            "marker": {
             "line": {
              "color": "#E5ECF6",
              "width": 0.5
             }
            },
            "type": "bar"
           }
          ],
          "barpolar": [
           {
            "marker": {
             "line": {
              "color": "#E5ECF6",
              "width": 0.5
             }
            },
            "type": "barpolar"
           }
          ],
          "carpet": [
           {
            "aaxis": {
             "endlinecolor": "#2a3f5f",
             "gridcolor": "white",
             "linecolor": "white",
             "minorgridcolor": "white",
             "startlinecolor": "#2a3f5f"
            },
            "baxis": {
             "endlinecolor": "#2a3f5f",
             "gridcolor": "white",
             "linecolor": "white",
             "minorgridcolor": "white",
             "startlinecolor": "#2a3f5f"
            },
            "type": "carpet"
           }
          ],
          "choropleth": [
           {
            "colorbar": {
             "outlinewidth": 0,
             "ticks": ""
            },
            "type": "choropleth"
           }
          ],
          "contour": [
           {
            "colorbar": {
             "outlinewidth": 0,
             "ticks": ""
            },
            "colorscale": [
             [
              0,
              "#0d0887"
             ],
             [
              0.1111111111111111,
              "#46039f"
             ],
             [
              0.2222222222222222,
              "#7201a8"
             ],
             [
              0.3333333333333333,
              "#9c179e"
             ],
             [
              0.4444444444444444,
              "#bd3786"
             ],
             [
              0.5555555555555556,
              "#d8576b"
             ],
             [
              0.6666666666666666,
              "#ed7953"
             ],
             [
              0.7777777777777778,
              "#fb9f3a"
             ],
             [
              0.8888888888888888,
              "#fdca26"
             ],
             [
              1,
              "#f0f921"
             ]
            ],
            "type": "contour"
           }
          ],
          "contourcarpet": [
           {
            "colorbar": {
             "outlinewidth": 0,
             "ticks": ""
            },
            "type": "contourcarpet"
           }
          ],
          "heatmap": [
           {
            "colorbar": {
             "outlinewidth": 0,
             "ticks": ""
            },
            "colorscale": [
             [
              0,
              "#0d0887"
             ],
             [
              0.1111111111111111,
              "#46039f"
             ],
             [
              0.2222222222222222,
              "#7201a8"
             ],
             [
              0.3333333333333333,
              "#9c179e"
             ],
             [
              0.4444444444444444,
              "#bd3786"
             ],
             [
              0.5555555555555556,
              "#d8576b"
             ],
             [
              0.6666666666666666,
              "#ed7953"
             ],
             [
              0.7777777777777778,
              "#fb9f3a"
             ],
             [
              0.8888888888888888,
              "#fdca26"
             ],
             [
              1,
              "#f0f921"
             ]
            ],
            "type": "heatmap"
           }
          ],
          "heatmapgl": [
           {
            "colorbar": {
             "outlinewidth": 0,
             "ticks": ""
            },
            "colorscale": [
             [
              0,
              "#0d0887"
             ],
             [
              0.1111111111111111,
              "#46039f"
             ],
             [
              0.2222222222222222,
              "#7201a8"
             ],
             [
              0.3333333333333333,
              "#9c179e"
             ],
             [
              0.4444444444444444,
              "#bd3786"
             ],
             [
              0.5555555555555556,
              "#d8576b"
             ],
             [
              0.6666666666666666,
              "#ed7953"
             ],
             [
              0.7777777777777778,
              "#fb9f3a"
             ],
             [
              0.8888888888888888,
              "#fdca26"
             ],
             [
              1,
              "#f0f921"
             ]
            ],
            "type": "heatmapgl"
           }
          ],
          "histogram": [
           {
            "marker": {
             "colorbar": {
              "outlinewidth": 0,
              "ticks": ""
             }
            },
            "type": "histogram"
           }
          ],
          "histogram2d": [
           {
            "colorbar": {
             "outlinewidth": 0,
             "ticks": ""
            },
            "colorscale": [
             [
              0,
              "#0d0887"
             ],
             [
              0.1111111111111111,
              "#46039f"
             ],
             [
              0.2222222222222222,
              "#7201a8"
             ],
             [
              0.3333333333333333,
              "#9c179e"
             ],
             [
              0.4444444444444444,
              "#bd3786"
             ],
             [
              0.5555555555555556,
              "#d8576b"
             ],
             [
              0.6666666666666666,
              "#ed7953"
             ],
             [
              0.7777777777777778,
              "#fb9f3a"
             ],
             [
              0.8888888888888888,
              "#fdca26"
             ],
             [
              1,
              "#f0f921"
             ]
            ],
            "type": "histogram2d"
           }
          ],
          "histogram2dcontour": [
           {
            "colorbar": {
             "outlinewidth": 0,
             "ticks": ""
            },
            "colorscale": [
             [
              0,
              "#0d0887"
             ],
             [
              0.1111111111111111,
              "#46039f"
             ],
             [
              0.2222222222222222,
              "#7201a8"
             ],
             [
              0.3333333333333333,
              "#9c179e"
             ],
             [
              0.4444444444444444,
              "#bd3786"
             ],
             [
              0.5555555555555556,
              "#d8576b"
             ],
             [
              0.6666666666666666,
              "#ed7953"
             ],
             [
              0.7777777777777778,
              "#fb9f3a"
             ],
             [
              0.8888888888888888,
              "#fdca26"
             ],
             [
              1,
              "#f0f921"
             ]
            ],
            "type": "histogram2dcontour"
           }
          ],
          "mesh3d": [
           {
            "colorbar": {
             "outlinewidth": 0,
             "ticks": ""
            },
            "type": "mesh3d"
           }
          ],
          "parcoords": [
           {
            "line": {
             "colorbar": {
              "outlinewidth": 0,
              "ticks": ""
             }
            },
            "type": "parcoords"
           }
          ],
          "scatter": [
           {
            "marker": {
             "colorbar": {
              "outlinewidth": 0,
              "ticks": ""
             }
            },
            "type": "scatter"
           }
          ],
          "scatter3d": [
           {
            "line": {
             "colorbar": {
              "outlinewidth": 0,
              "ticks": ""
             }
            },
            "marker": {
             "colorbar": {
              "outlinewidth": 0,
              "ticks": ""
             }
            },
            "type": "scatter3d"
           }
          ],
          "scattercarpet": [
           {
            "marker": {
             "colorbar": {
              "outlinewidth": 0,
              "ticks": ""
             }
            },
            "type": "scattercarpet"
           }
          ],
          "scattergeo": [
           {
            "marker": {
             "colorbar": {
              "outlinewidth": 0,
              "ticks": ""
             }
            },
            "type": "scattergeo"
           }
          ],
          "scattergl": [
           {
            "marker": {
             "colorbar": {
              "outlinewidth": 0,
              "ticks": ""
             }
            },
            "type": "scattergl"
           }
          ],
          "scattermapbox": [
           {
            "marker": {
             "colorbar": {
              "outlinewidth": 0,
              "ticks": ""
             }
            },
            "type": "scattermapbox"
           }
          ],
          "scatterpolar": [
           {
            "marker": {
             "colorbar": {
              "outlinewidth": 0,
              "ticks": ""
             }
            },
            "type": "scatterpolar"
           }
          ],
          "scatterpolargl": [
           {
            "marker": {
             "colorbar": {
              "outlinewidth": 0,
              "ticks": ""
             }
            },
            "type": "scatterpolargl"
           }
          ],
          "scatterternary": [
           {
            "marker": {
             "colorbar": {
              "outlinewidth": 0,
              "ticks": ""
             }
            },
            "type": "scatterternary"
           }
          ],
          "surface": [
           {
            "colorbar": {
             "outlinewidth": 0,
             "ticks": ""
            },
            "colorscale": [
             [
              0,
              "#0d0887"
             ],
             [
              0.1111111111111111,
              "#46039f"
             ],
             [
              0.2222222222222222,
              "#7201a8"
             ],
             [
              0.3333333333333333,
              "#9c179e"
             ],
             [
              0.4444444444444444,
              "#bd3786"
             ],
             [
              0.5555555555555556,
              "#d8576b"
             ],
             [
              0.6666666666666666,
              "#ed7953"
             ],
             [
              0.7777777777777778,
              "#fb9f3a"
             ],
             [
              0.8888888888888888,
              "#fdca26"
             ],
             [
              1,
              "#f0f921"
             ]
            ],
            "type": "surface"
           }
          ],
          "table": [
           {
            "cells": {
             "fill": {
              "color": "#EBF0F8"
             },
             "line": {
              "color": "white"
             }
            },
            "header": {
             "fill": {
              "color": "#C8D4E3"
             },
             "line": {
              "color": "white"
             }
            },
            "type": "table"
           }
          ]
         },
         "layout": {
          "annotationdefaults": {
           "arrowcolor": "#2a3f5f",
           "arrowhead": 0,
           "arrowwidth": 1
          },
          "colorscale": {
           "diverging": [
            [
             0,
             "#8e0152"
            ],
            [
             0.1,
             "#c51b7d"
            ],
            [
             0.2,
             "#de77ae"
            ],
            [
             0.3,
             "#f1b6da"
            ],
            [
             0.4,
             "#fde0ef"
            ],
            [
             0.5,
             "#f7f7f7"
            ],
            [
             0.6,
             "#e6f5d0"
            ],
            [
             0.7,
             "#b8e186"
            ],
            [
             0.8,
             "#7fbc41"
            ],
            [
             0.9,
             "#4d9221"
            ],
            [
             1,
             "#276419"
            ]
           ],
           "sequential": [
            [
             0,
             "#0d0887"
            ],
            [
             0.1111111111111111,
             "#46039f"
            ],
            [
             0.2222222222222222,
             "#7201a8"
            ],
            [
             0.3333333333333333,
             "#9c179e"
            ],
            [
             0.4444444444444444,
             "#bd3786"
            ],
            [
             0.5555555555555556,
             "#d8576b"
            ],
            [
             0.6666666666666666,
             "#ed7953"
            ],
            [
             0.7777777777777778,
             "#fb9f3a"
            ],
            [
             0.8888888888888888,
             "#fdca26"
            ],
            [
             1,
             "#f0f921"
            ]
           ],
           "sequentialminus": [
            [
             0,
             "#0d0887"
            ],
            [
             0.1111111111111111,
             "#46039f"
            ],
            [
             0.2222222222222222,
             "#7201a8"
            ],
            [
             0.3333333333333333,
             "#9c179e"
            ],
            [
             0.4444444444444444,
             "#bd3786"
            ],
            [
             0.5555555555555556,
             "#d8576b"
            ],
            [
             0.6666666666666666,
             "#ed7953"
            ],
            [
             0.7777777777777778,
             "#fb9f3a"
            ],
            [
             0.8888888888888888,
             "#fdca26"
            ],
            [
             1,
             "#f0f921"
            ]
           ]
          },
          "colorway": [
           "#636efa",
           "#EF553B",
           "#00cc96",
           "#ab63fa",
           "#FFA15A",
           "#19d3f3",
           "#FF6692",
           "#B6E880",
           "#FF97FF",
           "#FECB52"
          ],
          "font": {
           "color": "#2a3f5f"
          },
          "geo": {
           "bgcolor": "white",
           "lakecolor": "white",
           "landcolor": "#E5ECF6",
           "showlakes": true,
           "showland": true,
           "subunitcolor": "white"
          },
          "hoverlabel": {
           "align": "left"
          },
          "hovermode": "closest",
          "mapbox": {
           "style": "light"
          },
          "paper_bgcolor": "white",
          "plot_bgcolor": "#E5ECF6",
          "polar": {
           "angularaxis": {
            "gridcolor": "white",
            "linecolor": "white",
            "ticks": ""
           },
           "bgcolor": "#E5ECF6",
           "radialaxis": {
            "gridcolor": "white",
            "linecolor": "white",
            "ticks": ""
           }
          },
          "scene": {
           "xaxis": {
            "backgroundcolor": "#E5ECF6",
            "gridcolor": "white",
            "gridwidth": 2,
            "linecolor": "white",
            "showbackground": true,
            "ticks": "",
            "zerolinecolor": "white"
           },
           "yaxis": {
            "backgroundcolor": "#E5ECF6",
            "gridcolor": "white",
            "gridwidth": 2,
            "linecolor": "white",
            "showbackground": true,
            "ticks": "",
            "zerolinecolor": "white"
           },
           "zaxis": {
            "backgroundcolor": "#E5ECF6",
            "gridcolor": "white",
            "gridwidth": 2,
            "linecolor": "white",
            "showbackground": true,
            "ticks": "",
            "zerolinecolor": "white"
           }
          },
          "shapedefaults": {
           "line": {
            "color": "#2a3f5f"
           }
          },
          "ternary": {
           "aaxis": {
            "gridcolor": "white",
            "linecolor": "white",
            "ticks": ""
           },
           "baxis": {
            "gridcolor": "white",
            "linecolor": "white",
            "ticks": ""
           },
           "bgcolor": "#E5ECF6",
           "caxis": {
            "gridcolor": "white",
            "linecolor": "white",
            "ticks": ""
           }
          },
          "title": {
           "x": 0.05
          },
          "xaxis": {
           "automargin": true,
           "gridcolor": "white",
           "linecolor": "white",
           "ticks": "",
           "zerolinecolor": "white",
           "zerolinewidth": 2
          },
          "yaxis": {
           "automargin": true,
           "gridcolor": "white",
           "linecolor": "white",
           "ticks": "",
           "zerolinecolor": "white",
           "zerolinewidth": 2
          }
         }
        },
        "title": {
         "text": "video:group/click/time_auc"
        },
        "xaxis": {
         "type": "date"
        }
       }
      },
      "text/html": [
       "<div>\n",
       "        \n",
       "        \n",
       "            <div id=\"eb38da63-7969-4121-b013-6001d80093c5\" class=\"plotly-graph-div\" style=\"height:525px; width:100%;\"></div>\n",
       "            <script type=\"text/javascript\">\n",
       "                require([\"plotly\"], function(Plotly) {\n",
       "                    window.PLOTLYENV=window.PLOTLYENV || {};\n",
       "                    \n",
       "                if (document.getElementById(\"eb38da63-7969-4121-b013-6001d80093c5\")) {\n",
       "                    Plotly.newPlot(\n",
       "                        'eb38da63-7969-4121-b013-6001d80093c5',\n",
       "                        [{\"line\": {\"shape\": \"spline\", \"smoothing\": 1.0}, \"mode\": \"lines+markers\", \"name\": \"456:group/click/time_auc\", \"type\": \"scatter\", \"x\": [\"2019-12-26T10:00:00\", \"2019-12-26T11:00:00\", \"2019-12-26T12:00:00\", \"2019-12-26T13:00:00\", \"2019-12-26T14:00:00\", \"2019-12-26T15:00:00\", \"2019-12-26T16:00:00\", \"2019-12-26T17:00:00\", \"2019-12-26T18:00:00\", \"2019-12-26T19:00:00\", \"2019-12-26T20:00:00\", \"2019-12-26T21:00:00\", \"2019-12-26T22:00:00\", \"2019-12-26T23:00:00\", \"2019-12-27T00:00:00\", \"2019-12-27T01:00:00\", \"2019-12-27T02:00:00\", \"2019-12-27T03:00:00\", \"2019-12-27T04:00:00\", \"2019-12-27T05:00:00\", \"2019-12-27T06:00:00\", \"2019-12-27T07:00:00\", \"2019-12-27T08:00:00\", \"2019-12-27T09:00:00\", \"2019-12-27T10:00:00\", \"2019-12-27T13:00:00\", \"2019-12-27T14:00:00\", \"2019-12-27T15:00:00\", \"2019-12-27T16:00:00\", \"2019-12-27T17:00:00\", \"2019-12-27T18:00:00\", \"2019-12-27T19:00:00\", \"2019-12-27T20:00:00\", \"2019-12-27T21:00:00\", \"2019-12-28T08:00:00\", \"2019-12-28T09:00:00\", \"2019-12-28T10:00:00\", \"2019-12-28T11:00:00\", \"2019-12-28T12:00:00\", \"2019-12-28T13:00:00\", \"2019-12-28T14:00:00\", \"2019-12-28T15:00:00\", \"2019-12-28T16:00:00\", \"2019-12-28T17:00:00\", \"2019-12-28T18:00:00\", \"2019-12-28T19:00:00\", \"2019-12-28T20:00:00\", \"2019-12-28T21:00:00\", \"2019-12-29T08:00:00\", \"2019-12-29T09:00:00\", \"2019-12-29T10:00:00\", \"2019-12-29T11:00:00\", \"2019-12-29T12:00:00\", \"2019-12-29T13:00:00\", \"2019-12-29T14:00:00\", \"2019-12-29T15:00:00\", \"2019-12-29T16:00:00\", \"2019-12-29T17:00:00\", \"2019-12-29T18:00:00\", \"2019-12-29T19:00:00\", \"2019-12-29T20:00:00\", \"2019-12-29T21:00:00\", \"2019-12-29T22:00:00\", \"2019-12-29T23:00:00\", \"2019-12-30T00:00:00\", \"2019-12-30T01:00:00\", \"2019-12-30T02:00:00\", \"2019-12-30T03:00:00\", \"2019-12-30T04:00:00\", \"2019-12-30T05:00:00\", \"2019-12-30T06:00:00\", \"2019-12-30T07:00:00\", \"2019-12-30T08:00:00\", \"2019-12-30T09:00:00\", \"2019-12-30T10:00:00\", \"2019-12-30T11:00:00\", \"2019-12-30T12:00:00\", \"2019-12-30T13:00:00\", \"2019-12-30T14:00:00\", \"2019-12-30T15:00:00\", \"2019-12-30T16:00:00\", \"2019-12-30T17:00:00\", \"2019-12-30T18:00:00\", \"2019-12-30T19:00:00\", \"2019-12-30T20:00:00\", \"2019-12-30T21:00:00\", \"2019-12-30T22:00:00\", \"2019-12-30T23:00:00\", \"2019-12-31T00:00:00\", \"2019-12-31T01:00:00\", \"2019-12-31T02:00:00\", \"2019-12-31T03:00:00\", \"2019-12-31T04:00:00\", \"2019-12-31T05:00:00\", \"2019-12-31T06:00:00\", \"2019-12-31T07:00:00\", \"2019-12-31T08:00:00\", \"2019-12-31T09:00:00\", \"2019-12-31T10:00:00\", \"2019-12-31T11:00:00\", \"2019-12-31T12:00:00\", \"2019-12-31T13:00:00\"], \"y\": [0.5611754495813576, 0.5382841938177716, 0.5450664289960203, 0.5543072283850783, 0.5499474032762051, 0.5469896206678124, 0.5420177547765123, 0.5407373809619975, 0.52747766715948, 0.5400033826003894, 0.5439050463145774, 0.5471002258633082, 0.5546891636698473, 0.5496630165629885, 0.5433991708441834, 0.5286167240303485, 0.5370843794459076, 0.5355673896493061, 0.5235364771382477, 0.5154642979463352, 0.530900399472752, 0.5262994047730329, 0.535905460531009, 0.5409559095065204, 0.5413048389511056, 0.5418966473910254, 0.5430776232831749, 0.5425751370081173, 0.5385808325267967, 0.5337495572251266, 0.5373067376412741, 0.5379028034014456, 0.5421604684979195, 0.5401538405390802, 0.5299292023787052, 0.5375001882777857, 0.5395370918051562, 0.5440781810602455, 0.5337549717734191, 0.5321180520036559, 0.5449446621568387, 0.5337273516761226, 0.5291672811571371, 0.5267364366858311, 0.5385832650884977, 0.540381404456614, 0.533330695364684, 0.5436651616114058, 0.5394186496344198, 0.5521051241450408, 0.5450661676319752, 0.5464658755468863, 0.5315441586831443, 0.5288893731250578, 0.5336017376131124, 0.5406918318029933, 0.5362579513562771, 0.536351775520832, 0.528045682262472, 0.5409089981738069, 0.5387571170455276, 0.5385640413541211, 0.5412388318405421, 0.5415654262307175, 0.5439519440959021, 0.5492720216110989, 0.5333141956828508, 0.5232260950751798, 0.5055379860230252, 0.5036248638264695, 0.5413674286602488, 0.5319018373976675, 0.5365755286967822, 0.5372282921587543, 0.5444206193423444, 0.5382904143170176, 0.5373030149730897, 0.5387732029698784, 0.5306689304099199, 0.5348836251689275, 0.5473477284246956, 0.5357714029652619, 0.5412100344269257, 0.5414859551404572, 0.5376086267018267, 0.5341447072525205, 0.5411654119334173, 0.5444359796287755, 0.5411205911232985, 0.5338764244809877, 0.5301680484909346, 0.5321990151196498, 0.5179097511531123, 0.5292865172067909, 0.5479206917726749, 0.5358386582341292, 0.531595609077367, 0.543061111175541, 0.5456134656231343, 0.5368407087457143, 0.5310463284834923, 0.5349751555149374]}, {\"line\": {\"shape\": \"spline\", \"smoothing\": 1.0}, \"mode\": \"lines+markers\", \"name\": \"15:group/click/time_auc\", \"type\": \"scatter\", \"x\": [\"2019-12-26T10:00:00\", \"2019-12-26T11:00:00\", \"2019-12-26T12:00:00\", \"2019-12-26T13:00:00\", \"2019-12-26T14:00:00\", \"2019-12-26T15:00:00\", \"2019-12-26T16:00:00\", \"2019-12-26T17:00:00\", \"2019-12-26T18:00:00\", \"2019-12-26T19:00:00\", \"2019-12-26T20:00:00\", \"2019-12-26T21:00:00\", \"2019-12-26T22:00:00\", \"2019-12-26T23:00:00\", \"2019-12-27T00:00:00\", \"2019-12-27T01:00:00\", \"2019-12-27T02:00:00\", \"2019-12-27T03:00:00\", \"2019-12-27T04:00:00\", \"2019-12-27T05:00:00\", \"2019-12-27T06:00:00\", \"2019-12-27T07:00:00\", \"2019-12-27T08:00:00\", \"2019-12-27T09:00:00\", \"2019-12-27T10:00:00\", \"2019-12-27T13:00:00\", \"2019-12-27T14:00:00\", \"2019-12-27T15:00:00\", \"2019-12-27T16:00:00\", \"2019-12-27T17:00:00\", \"2019-12-27T18:00:00\", \"2019-12-27T19:00:00\", \"2019-12-27T20:00:00\", \"2019-12-27T21:00:00\", \"2019-12-28T08:00:00\", \"2019-12-28T09:00:00\", \"2019-12-28T10:00:00\", \"2019-12-28T11:00:00\", \"2019-12-28T12:00:00\", \"2019-12-28T13:00:00\", \"2019-12-28T14:00:00\", \"2019-12-28T15:00:00\", \"2019-12-28T16:00:00\", \"2019-12-28T17:00:00\", \"2019-12-28T18:00:00\", \"2019-12-28T19:00:00\", \"2019-12-28T20:00:00\", \"2019-12-28T21:00:00\", \"2019-12-29T08:00:00\", \"2019-12-29T09:00:00\", \"2019-12-29T10:00:00\", \"2019-12-29T11:00:00\", \"2019-12-29T12:00:00\", \"2019-12-29T13:00:00\", \"2019-12-29T14:00:00\", \"2019-12-29T15:00:00\", \"2019-12-29T16:00:00\", \"2019-12-29T17:00:00\", \"2019-12-29T18:00:00\", \"2019-12-29T19:00:00\", \"2019-12-29T20:00:00\", \"2019-12-29T21:00:00\", \"2019-12-29T22:00:00\", \"2019-12-29T23:00:00\", \"2019-12-30T00:00:00\", \"2019-12-30T01:00:00\", \"2019-12-30T02:00:00\", \"2019-12-30T03:00:00\", \"2019-12-30T04:00:00\", \"2019-12-30T05:00:00\", \"2019-12-30T06:00:00\", \"2019-12-30T07:00:00\", \"2019-12-30T08:00:00\", \"2019-12-30T09:00:00\", \"2019-12-30T10:00:00\", \"2019-12-30T11:00:00\", \"2019-12-30T12:00:00\", \"2019-12-30T13:00:00\", \"2019-12-30T14:00:00\", \"2019-12-30T15:00:00\", \"2019-12-30T16:00:00\", \"2019-12-30T17:00:00\", \"2019-12-30T18:00:00\", \"2019-12-30T19:00:00\", \"2019-12-30T20:00:00\", \"2019-12-30T21:00:00\", \"2019-12-30T22:00:00\", \"2019-12-30T23:00:00\", \"2019-12-31T00:00:00\", \"2019-12-31T01:00:00\", \"2019-12-31T02:00:00\", \"2019-12-31T03:00:00\", \"2019-12-31T04:00:00\", \"2019-12-31T05:00:00\", \"2019-12-31T06:00:00\", \"2019-12-31T07:00:00\", \"2019-12-31T08:00:00\", \"2019-12-31T09:00:00\", \"2019-12-31T10:00:00\", \"2019-12-31T11:00:00\", \"2019-12-31T12:00:00\", \"2019-12-31T13:00:00\"], \"y\": [0.529209958491951, 0.529774923055748, 0.531453143238671, 0.5379195591202568, 0.5429236131930573, 0.5092908274353698, 0.5035385215583706, 0.5231075161394745, 0.5234270452651275, 0.5379927092094366, 0.5478332088878191, 0.5403714498933108, 0.5430828754567136, 0.530391145735008, 0.5419326213461677, 0.5425599278223252, 0.5386103466581628, 0.5536603379473499, 0.506032010300561, 0.5192369999608136, 0.5144399408583096, 0.514183186715755, 0.5384746550606843, 0.5300442131153594, 0.5294427017374405, 0.542104745314197, 0.531991139909536, 0.5280906653761962, 0.5362837486947908, 0.5343546815347846, 0.5392014416803842, 0.5211288657020856, 0.5260040696252827, 0.5291043820470027, 0.5304722590728593, 0.5393088800221287, 0.5529776258264126, 0.5330474012810086, 0.5496223394429568, 0.5345919742094174, 0.5364155364713801, 0.5468575125975781, 0.5236580204512399, 0.533185205356406, 0.5350326431615233, 0.5300340921773065, 0.5340980230944867, 0.5344117931652501, 0.53274126132268, 0.5348324126003048, 0.5262200583149452, 0.5455287566723356, 0.5447839943147011, 0.5425596708975737, 0.5285380588233589, 0.5457577848330509, 0.5394088730416141, 0.5385378476353138, 0.5330005145385713, 0.527993429533549, 0.5355677768016657, 0.528387256886985, 0.5279505030604316, 0.5228945959762707, 0.5400051860275679, 0.543533902504155, 0.5465219780599112, 0.5520089466241198, 0.5564998210817955, 0.5237215654164241, 0.532268814759447, 0.5272526307168639, 0.5185533875445949, 0.5198183730325255, 0.533742314847482, 0.5346506219411618, 0.5440490059809053, 0.5436038154090955, 0.5253435798295294, 0.5172833016936511, 0.5254818745344901, 0.5338925001374928, 0.5397720800581312, 0.5271129825872067, 0.53542162967242, 0.5332713792174701, 0.5319252316315476, 0.5468528248124831, 0.5500745020246406, 0.5474572712292034, 0.5411230035088066, 0.5344633391644958, 0.5407682537738405, 0.5244354127145705, 0.5450978317521371, 0.559267525592795, 0.5385777999677959, 0.5334305737122405, 0.5336073455093915, 0.5354047947914559, 0.5444401907814566, 0.5286299432835795]}],\n",
       "                        {\"hovermode\": \"x\", \"template\": {\"data\": {\"bar\": [{\"error_x\": {\"color\": \"#2a3f5f\"}, \"error_y\": {\"color\": \"#2a3f5f\"}, \"marker\": {\"line\": {\"color\": \"#E5ECF6\", \"width\": 0.5}}, \"type\": \"bar\"}], \"barpolar\": [{\"marker\": {\"line\": {\"color\": \"#E5ECF6\", \"width\": 0.5}}, \"type\": \"barpolar\"}], \"carpet\": [{\"aaxis\": {\"endlinecolor\": \"#2a3f5f\", \"gridcolor\": \"white\", \"linecolor\": \"white\", \"minorgridcolor\": \"white\", \"startlinecolor\": \"#2a3f5f\"}, \"baxis\": {\"endlinecolor\": \"#2a3f5f\", \"gridcolor\": \"white\", \"linecolor\": \"white\", \"minorgridcolor\": \"white\", \"startlinecolor\": \"#2a3f5f\"}, \"type\": \"carpet\"}], \"choropleth\": [{\"colorbar\": {\"outlinewidth\": 0, \"ticks\": \"\"}, \"type\": \"choropleth\"}], \"contour\": [{\"colorbar\": {\"outlinewidth\": 0, \"ticks\": \"\"}, \"colorscale\": [[0.0, \"#0d0887\"], [0.1111111111111111, \"#46039f\"], [0.2222222222222222, \"#7201a8\"], [0.3333333333333333, \"#9c179e\"], [0.4444444444444444, \"#bd3786\"], [0.5555555555555556, \"#d8576b\"], [0.6666666666666666, \"#ed7953\"], [0.7777777777777778, \"#fb9f3a\"], [0.8888888888888888, \"#fdca26\"], [1.0, \"#f0f921\"]], \"type\": \"contour\"}], \"contourcarpet\": [{\"colorbar\": {\"outlinewidth\": 0, \"ticks\": \"\"}, \"type\": \"contourcarpet\"}], \"heatmap\": [{\"colorbar\": {\"outlinewidth\": 0, \"ticks\": \"\"}, \"colorscale\": [[0.0, \"#0d0887\"], [0.1111111111111111, \"#46039f\"], [0.2222222222222222, \"#7201a8\"], [0.3333333333333333, \"#9c179e\"], [0.4444444444444444, \"#bd3786\"], [0.5555555555555556, \"#d8576b\"], [0.6666666666666666, \"#ed7953\"], [0.7777777777777778, \"#fb9f3a\"], [0.8888888888888888, \"#fdca26\"], [1.0, \"#f0f921\"]], \"type\": \"heatmap\"}], \"heatmapgl\": [{\"colorbar\": {\"outlinewidth\": 0, \"ticks\": \"\"}, \"colorscale\": [[0.0, \"#0d0887\"], [0.1111111111111111, \"#46039f\"], [0.2222222222222222, \"#7201a8\"], [0.3333333333333333, \"#9c179e\"], [0.4444444444444444, \"#bd3786\"], [0.5555555555555556, \"#d8576b\"], [0.6666666666666666, \"#ed7953\"], [0.7777777777777778, \"#fb9f3a\"], [0.8888888888888888, \"#fdca26\"], [1.0, \"#f0f921\"]], \"type\": \"heatmapgl\"}], \"histogram\": [{\"marker\": {\"colorbar\": {\"outlinewidth\": 0, \"ticks\": \"\"}}, \"type\": \"histogram\"}], \"histogram2d\": [{\"colorbar\": {\"outlinewidth\": 0, \"ticks\": \"\"}, \"colorscale\": [[0.0, \"#0d0887\"], [0.1111111111111111, \"#46039f\"], [0.2222222222222222, \"#7201a8\"], [0.3333333333333333, \"#9c179e\"], [0.4444444444444444, \"#bd3786\"], [0.5555555555555556, \"#d8576b\"], [0.6666666666666666, \"#ed7953\"], [0.7777777777777778, \"#fb9f3a\"], [0.8888888888888888, \"#fdca26\"], [1.0, \"#f0f921\"]], \"type\": \"histogram2d\"}], \"histogram2dcontour\": [{\"colorbar\": {\"outlinewidth\": 0, \"ticks\": \"\"}, \"colorscale\": [[0.0, \"#0d0887\"], [0.1111111111111111, \"#46039f\"], [0.2222222222222222, \"#7201a8\"], [0.3333333333333333, \"#9c179e\"], [0.4444444444444444, \"#bd3786\"], [0.5555555555555556, \"#d8576b\"], [0.6666666666666666, \"#ed7953\"], [0.7777777777777778, \"#fb9f3a\"], [0.8888888888888888, \"#fdca26\"], [1.0, \"#f0f921\"]], \"type\": \"histogram2dcontour\"}], \"mesh3d\": [{\"colorbar\": {\"outlinewidth\": 0, \"ticks\": \"\"}, \"type\": \"mesh3d\"}], \"parcoords\": [{\"line\": {\"colorbar\": {\"outlinewidth\": 0, \"ticks\": \"\"}}, \"type\": \"parcoords\"}], \"scatter\": [{\"marker\": {\"colorbar\": {\"outlinewidth\": 0, \"ticks\": \"\"}}, \"type\": \"scatter\"}], \"scatter3d\": [{\"line\": {\"colorbar\": {\"outlinewidth\": 0, \"ticks\": \"\"}}, \"marker\": {\"colorbar\": {\"outlinewidth\": 0, \"ticks\": \"\"}}, \"type\": \"scatter3d\"}], \"scattercarpet\": [{\"marker\": {\"colorbar\": {\"outlinewidth\": 0, \"ticks\": \"\"}}, \"type\": \"scattercarpet\"}], \"scattergeo\": [{\"marker\": {\"colorbar\": {\"outlinewidth\": 0, \"ticks\": \"\"}}, \"type\": \"scattergeo\"}], \"scattergl\": [{\"marker\": {\"colorbar\": {\"outlinewidth\": 0, \"ticks\": \"\"}}, \"type\": \"scattergl\"}], \"scattermapbox\": [{\"marker\": {\"colorbar\": {\"outlinewidth\": 0, \"ticks\": \"\"}}, \"type\": \"scattermapbox\"}], \"scatterpolar\": [{\"marker\": {\"colorbar\": {\"outlinewidth\": 0, \"ticks\": \"\"}}, \"type\": \"scatterpolar\"}], \"scatterpolargl\": [{\"marker\": {\"colorbar\": {\"outlinewidth\": 0, \"ticks\": \"\"}}, \"type\": \"scatterpolargl\"}], \"scatterternary\": [{\"marker\": {\"colorbar\": {\"outlinewidth\": 0, \"ticks\": \"\"}}, \"type\": \"scatterternary\"}], \"surface\": [{\"colorbar\": {\"outlinewidth\": 0, \"ticks\": \"\"}, \"colorscale\": [[0.0, \"#0d0887\"], [0.1111111111111111, \"#46039f\"], [0.2222222222222222, \"#7201a8\"], [0.3333333333333333, \"#9c179e\"], [0.4444444444444444, \"#bd3786\"], [0.5555555555555556, \"#d8576b\"], [0.6666666666666666, \"#ed7953\"], [0.7777777777777778, \"#fb9f3a\"], [0.8888888888888888, \"#fdca26\"], [1.0, \"#f0f921\"]], \"type\": \"surface\"}], \"table\": [{\"cells\": {\"fill\": {\"color\": \"#EBF0F8\"}, \"line\": {\"color\": \"white\"}}, \"header\": {\"fill\": {\"color\": \"#C8D4E3\"}, \"line\": {\"color\": \"white\"}}, \"type\": \"table\"}]}, \"layout\": {\"annotationdefaults\": {\"arrowcolor\": \"#2a3f5f\", \"arrowhead\": 0, \"arrowwidth\": 1}, \"colorscale\": {\"diverging\": [[0, \"#8e0152\"], [0.1, \"#c51b7d\"], [0.2, \"#de77ae\"], [0.3, \"#f1b6da\"], [0.4, \"#fde0ef\"], [0.5, \"#f7f7f7\"], [0.6, \"#e6f5d0\"], [0.7, \"#b8e186\"], [0.8, \"#7fbc41\"], [0.9, \"#4d9221\"], [1, \"#276419\"]], \"sequential\": [[0.0, \"#0d0887\"], [0.1111111111111111, \"#46039f\"], [0.2222222222222222, \"#7201a8\"], [0.3333333333333333, \"#9c179e\"], [0.4444444444444444, \"#bd3786\"], [0.5555555555555556, \"#d8576b\"], [0.6666666666666666, \"#ed7953\"], [0.7777777777777778, \"#fb9f3a\"], [0.8888888888888888, \"#fdca26\"], [1.0, \"#f0f921\"]], \"sequentialminus\": [[0.0, \"#0d0887\"], [0.1111111111111111, \"#46039f\"], [0.2222222222222222, \"#7201a8\"], [0.3333333333333333, \"#9c179e\"], [0.4444444444444444, \"#bd3786\"], [0.5555555555555556, \"#d8576b\"], [0.6666666666666666, \"#ed7953\"], [0.7777777777777778, \"#fb9f3a\"], [0.8888888888888888, \"#fdca26\"], [1.0, \"#f0f921\"]]}, \"colorway\": [\"#636efa\", \"#EF553B\", \"#00cc96\", \"#ab63fa\", \"#FFA15A\", \"#19d3f3\", \"#FF6692\", \"#B6E880\", \"#FF97FF\", \"#FECB52\"], \"font\": {\"color\": \"#2a3f5f\"}, \"geo\": {\"bgcolor\": \"white\", \"lakecolor\": \"white\", \"landcolor\": \"#E5ECF6\", \"showlakes\": true, \"showland\": true, \"subunitcolor\": \"white\"}, \"hoverlabel\": {\"align\": \"left\"}, \"hovermode\": \"closest\", \"mapbox\": {\"style\": \"light\"}, \"paper_bgcolor\": \"white\", \"plot_bgcolor\": \"#E5ECF6\", \"polar\": {\"angularaxis\": {\"gridcolor\": \"white\", \"linecolor\": \"white\", \"ticks\": \"\"}, \"bgcolor\": \"#E5ECF6\", \"radialaxis\": {\"gridcolor\": \"white\", \"linecolor\": \"white\", \"ticks\": \"\"}}, \"scene\": {\"xaxis\": {\"backgroundcolor\": \"#E5ECF6\", \"gridcolor\": \"white\", \"gridwidth\": 2, \"linecolor\": \"white\", \"showbackground\": true, \"ticks\": \"\", \"zerolinecolor\": \"white\"}, \"yaxis\": {\"backgroundcolor\": \"#E5ECF6\", \"gridcolor\": \"white\", \"gridwidth\": 2, \"linecolor\": \"white\", \"showbackground\": true, \"ticks\": \"\", \"zerolinecolor\": \"white\"}, \"zaxis\": {\"backgroundcolor\": \"#E5ECF6\", \"gridcolor\": \"white\", \"gridwidth\": 2, \"linecolor\": \"white\", \"showbackground\": true, \"ticks\": \"\", \"zerolinecolor\": \"white\"}}, \"shapedefaults\": {\"line\": {\"color\": \"#2a3f5f\"}}, \"ternary\": {\"aaxis\": {\"gridcolor\": \"white\", \"linecolor\": \"white\", \"ticks\": \"\"}, \"baxis\": {\"gridcolor\": \"white\", \"linecolor\": \"white\", \"ticks\": \"\"}, \"bgcolor\": \"#E5ECF6\", \"caxis\": {\"gridcolor\": \"white\", \"linecolor\": \"white\", \"ticks\": \"\"}}, \"title\": {\"x\": 0.05}, \"xaxis\": {\"automargin\": true, \"gridcolor\": \"white\", \"linecolor\": \"white\", \"ticks\": \"\", \"zerolinecolor\": \"white\", \"zerolinewidth\": 2}, \"yaxis\": {\"automargin\": true, \"gridcolor\": \"white\", \"linecolor\": \"white\", \"ticks\": \"\", \"zerolinecolor\": \"white\", \"zerolinewidth\": 2}}}, \"title\": {\"text\": \"video:group/click/time_auc\"}, \"xaxis\": {\"type\": \"date\"}},\n",
       "                        {\"responsive\": true}\n",
       "                    ).then(function(){\n",
       "                            \n",
       "var gd = document.getElementById('eb38da63-7969-4121-b013-6001d80093c5');\n",
       "var x = new MutationObserver(function (mutations, observer) {{\n",
       "        var display = window.getComputedStyle(gd).display;\n",
       "        if (!display || display === 'none') {{\n",
       "            console.log([gd, 'removed!']);\n",
       "            Plotly.purge(gd);\n",
       "            observer.disconnect();\n",
       "        }}\n",
       "}});\n",
       "\n",
       "// Listen for the removal of the full notebook cells\n",
       "var notebookContainer = gd.closest('#notebook-container');\n",
       "if (notebookContainer) {{\n",
       "    x.observe(notebookContainer, {childList: true});\n",
       "}}\n",
       "\n",
       "// Listen for the clearing of the current output cell\n",
       "var outputEl = gd.closest('.output');\n",
       "if (outputEl) {{\n",
       "    x.observe(outputEl, {childList: true});\n",
       "}}\n",
       "\n",
       "                        })\n",
       "                };\n",
       "                });\n",
       "            </script>\n",
       "        </div>"
      ]
     },
     "metadata": {},
     "output_type": "display_data"
    }
   ],
   "source": [
    "compare(df, 'group/click/time_auc')"
   ]
  },
  {
   "cell_type": "code",
   "execution_count": 34,
   "metadata": {},
   "outputs": [
    {
     "data": {
      "application/vnd.plotly.v1+json": {
       "config": {
        "linkText": "Export to plot.ly",
        "plotlyServerURL": "https://plot.ly",
        "showLink": false
       },
       "data": [
        {
         "line": {
          "shape": "spline",
          "smoothing": 1
         },
         "mode": "lines+markers",
         "name": "456:click/time_auc",
         "type": "scatter",
         "x": [
          "2019-12-26T10:00:00",
          "2019-12-26T11:00:00",
          "2019-12-26T12:00:00",
          "2019-12-26T13:00:00",
          "2019-12-26T14:00:00",
          "2019-12-26T15:00:00",
          "2019-12-26T16:00:00",
          "2019-12-26T17:00:00",
          "2019-12-26T18:00:00",
          "2019-12-26T19:00:00",
          "2019-12-26T20:00:00",
          "2019-12-26T21:00:00",
          "2019-12-26T22:00:00",
          "2019-12-26T23:00:00",
          "2019-12-27T00:00:00",
          "2019-12-27T01:00:00",
          "2019-12-27T02:00:00",
          "2019-12-27T03:00:00",
          "2019-12-27T04:00:00",
          "2019-12-27T05:00:00",
          "2019-12-27T06:00:00",
          "2019-12-27T07:00:00",
          "2019-12-27T08:00:00",
          "2019-12-27T09:00:00",
          "2019-12-27T10:00:00",
          "2019-12-27T13:00:00",
          "2019-12-27T14:00:00",
          "2019-12-27T15:00:00",
          "2019-12-27T16:00:00",
          "2019-12-27T17:00:00",
          "2019-12-27T18:00:00",
          "2019-12-27T19:00:00",
          "2019-12-27T20:00:00",
          "2019-12-27T21:00:00",
          "2019-12-28T08:00:00",
          "2019-12-28T09:00:00",
          "2019-12-28T10:00:00",
          "2019-12-28T11:00:00",
          "2019-12-28T12:00:00",
          "2019-12-28T13:00:00",
          "2019-12-28T14:00:00",
          "2019-12-28T15:00:00",
          "2019-12-28T16:00:00",
          "2019-12-28T17:00:00",
          "2019-12-28T18:00:00",
          "2019-12-28T19:00:00",
          "2019-12-28T20:00:00",
          "2019-12-28T21:00:00",
          "2019-12-29T08:00:00",
          "2019-12-29T09:00:00",
          "2019-12-29T10:00:00",
          "2019-12-29T11:00:00",
          "2019-12-29T12:00:00",
          "2019-12-29T13:00:00",
          "2019-12-29T14:00:00",
          "2019-12-29T15:00:00",
          "2019-12-29T16:00:00",
          "2019-12-29T17:00:00",
          "2019-12-29T18:00:00",
          "2019-12-29T19:00:00",
          "2019-12-29T20:00:00",
          "2019-12-29T21:00:00",
          "2019-12-29T22:00:00",
          "2019-12-29T23:00:00",
          "2019-12-30T00:00:00",
          "2019-12-30T01:00:00",
          "2019-12-30T02:00:00",
          "2019-12-30T03:00:00",
          "2019-12-30T04:00:00",
          "2019-12-30T05:00:00",
          "2019-12-30T06:00:00",
          "2019-12-30T07:00:00",
          "2019-12-30T08:00:00",
          "2019-12-30T09:00:00",
          "2019-12-30T10:00:00",
          "2019-12-30T11:00:00",
          "2019-12-30T12:00:00",
          "2019-12-30T13:00:00",
          "2019-12-30T14:00:00",
          "2019-12-30T15:00:00",
          "2019-12-30T16:00:00",
          "2019-12-30T17:00:00",
          "2019-12-30T18:00:00",
          "2019-12-30T19:00:00",
          "2019-12-30T20:00:00",
          "2019-12-30T21:00:00",
          "2019-12-30T22:00:00",
          "2019-12-30T23:00:00",
          "2019-12-31T00:00:00",
          "2019-12-31T01:00:00",
          "2019-12-31T02:00:00",
          "2019-12-31T03:00:00",
          "2019-12-31T04:00:00",
          "2019-12-31T05:00:00",
          "2019-12-31T06:00:00",
          "2019-12-31T07:00:00",
          "2019-12-31T08:00:00",
          "2019-12-31T09:00:00",
          "2019-12-31T10:00:00",
          "2019-12-31T11:00:00",
          "2019-12-31T12:00:00",
          "2019-12-31T13:00:00"
         ],
         "y": [
          0.5954744248097397,
          0.5973262068220118,
          0.5939610636857182,
          0.6006872676788095,
          0.6047554899806409,
          0.6032647862373939,
          0.603083631709484,
          0.5984841364744284,
          0.5989632629087875,
          0.6017456236003744,
          0.6046776695055782,
          0.604716324747492,
          0.6098530729138906,
          0.6126067997332278,
          0.6104171149001802,
          0.604032204147594,
          0.6006276044506993,
          0.6039566979789863,
          0.6048591043282021,
          0.6049510948628771,
          0.6006547679660832,
          0.602062834171594,
          0.6065894187233853,
          0.5984629974448878,
          0.6006836913758595,
          0.6044804549128788,
          0.6051471784417792,
          0.6061579690224687,
          0.5999223309585436,
          0.5973552358614678,
          0.5979872365464448,
          0.6009139202144101,
          0.6003029367690671,
          0.6028115281731914,
          0.5923078207243339,
          0.5893931563569688,
          0.5958147130359883,
          0.6020980184385458,
          0.6063289196552213,
          0.6031837827704899,
          0.599373414820163,
          0.596208880343438,
          0.5982385850097872,
          0.5947813191434703,
          0.6050069138960565,
          0.6025050480855607,
          0.604590975409917,
          0.596656258296218,
          0.5935482342116079,
          0.5980614070206496,
          0.6007952302928593,
          0.6071171958092094,
          0.6051145196751277,
          0.6067056850825903,
          0.6065211852400842,
          0.6028568764534388,
          0.6051782263914988,
          0.605590343195996,
          0.6057087349346248,
          0.6018334027312165,
          0.6068212264078908,
          0.6098264556387591,
          0.6109920624370877,
          0.6127834170706421,
          0.6138466988171944,
          0.6168428764610112,
          0.5981212098965663,
          0.5986810242441087,
          0.6095672316783798,
          0.6040853015716953,
          0.6119270001117842,
          0.6128344439559243,
          0.5941578859979268,
          0.5850296017004388,
          0.5964803830067604,
          0.5974709208272863,
          0.610600733119105,
          0.6057198708808579,
          0.6062295554284362,
          0.6054984690453309,
          0.6071329227993214,
          0.6052463379708772,
          0.604191706121928,
          0.6048380465078314,
          0.6004770885328926,
          0.6000555903598197,
          0.6019213383273856,
          0.6045618043252846,
          0.6109743814758796,
          0.6171794078791248,
          0.6010027125635757,
          0.5904813774993831,
          0.6055956740599473,
          0.596139648804028,
          0.6087566784977173,
          0.6106448839656113,
          0.6070080005935247,
          0.6044952601619156,
          0.6090622953380438,
          0.6021140389166513,
          0.6053199434081848,
          0.6083879401827483
         ]
        },
        {
         "line": {
          "shape": "spline",
          "smoothing": 1
         },
         "mode": "lines+markers",
         "name": "15:click/time_auc",
         "type": "scatter",
         "x": [
          "2019-12-26T10:00:00",
          "2019-12-26T11:00:00",
          "2019-12-26T12:00:00",
          "2019-12-26T13:00:00",
          "2019-12-26T14:00:00",
          "2019-12-26T15:00:00",
          "2019-12-26T16:00:00",
          "2019-12-26T17:00:00",
          "2019-12-26T18:00:00",
          "2019-12-26T19:00:00",
          "2019-12-26T20:00:00",
          "2019-12-26T21:00:00",
          "2019-12-26T22:00:00",
          "2019-12-26T23:00:00",
          "2019-12-27T00:00:00",
          "2019-12-27T01:00:00",
          "2019-12-27T02:00:00",
          "2019-12-27T03:00:00",
          "2019-12-27T04:00:00",
          "2019-12-27T05:00:00",
          "2019-12-27T06:00:00",
          "2019-12-27T07:00:00",
          "2019-12-27T08:00:00",
          "2019-12-27T09:00:00",
          "2019-12-27T10:00:00",
          "2019-12-27T13:00:00",
          "2019-12-27T14:00:00",
          "2019-12-27T15:00:00",
          "2019-12-27T16:00:00",
          "2019-12-27T17:00:00",
          "2019-12-27T18:00:00",
          "2019-12-27T19:00:00",
          "2019-12-27T20:00:00",
          "2019-12-27T21:00:00",
          "2019-12-28T08:00:00",
          "2019-12-28T09:00:00",
          "2019-12-28T10:00:00",
          "2019-12-28T11:00:00",
          "2019-12-28T12:00:00",
          "2019-12-28T13:00:00",
          "2019-12-28T14:00:00",
          "2019-12-28T15:00:00",
          "2019-12-28T16:00:00",
          "2019-12-28T17:00:00",
          "2019-12-28T18:00:00",
          "2019-12-28T19:00:00",
          "2019-12-28T20:00:00",
          "2019-12-28T21:00:00",
          "2019-12-29T08:00:00",
          "2019-12-29T09:00:00",
          "2019-12-29T10:00:00",
          "2019-12-29T11:00:00",
          "2019-12-29T12:00:00",
          "2019-12-29T13:00:00",
          "2019-12-29T14:00:00",
          "2019-12-29T15:00:00",
          "2019-12-29T16:00:00",
          "2019-12-29T17:00:00",
          "2019-12-29T18:00:00",
          "2019-12-29T19:00:00",
          "2019-12-29T20:00:00",
          "2019-12-29T21:00:00",
          "2019-12-29T22:00:00",
          "2019-12-29T23:00:00",
          "2019-12-30T00:00:00",
          "2019-12-30T01:00:00",
          "2019-12-30T02:00:00",
          "2019-12-30T03:00:00",
          "2019-12-30T04:00:00",
          "2019-12-30T05:00:00",
          "2019-12-30T06:00:00",
          "2019-12-30T07:00:00",
          "2019-12-30T08:00:00",
          "2019-12-30T09:00:00",
          "2019-12-30T10:00:00",
          "2019-12-30T11:00:00",
          "2019-12-30T12:00:00",
          "2019-12-30T13:00:00",
          "2019-12-30T14:00:00",
          "2019-12-30T15:00:00",
          "2019-12-30T16:00:00",
          "2019-12-30T17:00:00",
          "2019-12-30T18:00:00",
          "2019-12-30T19:00:00",
          "2019-12-30T20:00:00",
          "2019-12-30T21:00:00",
          "2019-12-30T22:00:00",
          "2019-12-30T23:00:00",
          "2019-12-31T00:00:00",
          "2019-12-31T01:00:00",
          "2019-12-31T02:00:00",
          "2019-12-31T03:00:00",
          "2019-12-31T04:00:00",
          "2019-12-31T05:00:00",
          "2019-12-31T06:00:00",
          "2019-12-31T07:00:00",
          "2019-12-31T08:00:00",
          "2019-12-31T09:00:00",
          "2019-12-31T10:00:00",
          "2019-12-31T11:00:00",
          "2019-12-31T12:00:00",
          "2019-12-31T13:00:00"
         ],
         "y": [
          0.6039826873586525,
          0.589838609910432,
          0.5920090039833594,
          0.6007476948091179,
          0.6112161208016742,
          0.5997834644356546,
          0.5966142123649155,
          0.6048565110677698,
          0.5966716282913099,
          0.5969467773721168,
          0.5988612428161881,
          0.5998802156529109,
          0.5963031602701692,
          0.5981934144722251,
          0.6057302797077299,
          0.6010867810989381,
          0.6258647362353584,
          0.6493036982562177,
          0.6236551569943337,
          0.5937530543699246,
          0.5960974814503436,
          0.5995675653516641,
          0.5892557773260183,
          0.5862289417184757,
          0.587327992083623,
          0.5944115669662424,
          0.608226705385589,
          0.6003744149147099,
          0.5999111767593308,
          0.5971911849075905,
          0.5956936832119957,
          0.5921813374759977,
          0.5976727121094167,
          0.6000627448390615,
          0.6029208363317857,
          0.5924157550667506,
          0.5871315336104436,
          0.5862483926220423,
          0.5910020553679388,
          0.5856083002018362,
          0.584671346480381,
          0.5911656313701705,
          0.5830856583780097,
          0.5863074967737207,
          0.589014856465774,
          0.5818681025189787,
          0.590140704830889,
          0.592575940540679,
          0.5832450106440505,
          0.5797165406030296,
          0.5697658792181788,
          0.5870647863111367,
          0.5866897470764016,
          0.5893478332045978,
          0.5817916515571996,
          0.5938861555431258,
          0.5960360396121034,
          0.5916427063975906,
          0.5881454931773232,
          0.5884044466127261,
          0.5951411154301978,
          0.6024923327592593,
          0.6061197812102856,
          0.5930653103700468,
          0.598685711578631,
          0.5928373094775448,
          0.600712147624492,
          0.6168593474235957,
          0.6175936205591767,
          0.6159472493600343,
          0.6070815851967549,
          0.5907803174993785,
          0.5744430606917131,
          0.5800967290549532,
          0.578299643592444,
          0.5874894674636372,
          0.5890719585551352,
          0.5903470550319594,
          0.5915450440303777,
          0.5892434158835487,
          0.58467914510383,
          0.5823489562420825,
          0.582307292308587,
          0.585678074740746,
          0.5892187834425127,
          0.596917238265082,
          0.5938857843088,
          0.5951393771101444,
          0.606370210101598,
          0.6128082977637357,
          0.6059423962915119,
          0.601090864628208,
          0.6040832371362397,
          0.6081263707599865,
          0.6084242868299343,
          0.607668016109778,
          0.6006819581331249,
          0.5920188734685785,
          0.5918525299321785,
          0.5962807017274346,
          0.5977274758485609,
          0.5954896171416446
         ]
        }
       ],
       "layout": {
        "hovermode": "x",
        "template": {
         "data": {
          "bar": [
           {
            "error_x": {
             "color": "#2a3f5f"
            },
            "error_y": {
             "color": "#2a3f5f"
            },
            "marker": {
             "line": {
              "color": "#E5ECF6",
              "width": 0.5
             }
            },
            "type": "bar"
           }
          ],
          "barpolar": [
           {
            "marker": {
             "line": {
              "color": "#E5ECF6",
              "width": 0.5
             }
            },
            "type": "barpolar"
           }
          ],
          "carpet": [
           {
            "aaxis": {
             "endlinecolor": "#2a3f5f",
             "gridcolor": "white",
             "linecolor": "white",
             "minorgridcolor": "white",
             "startlinecolor": "#2a3f5f"
            },
            "baxis": {
             "endlinecolor": "#2a3f5f",
             "gridcolor": "white",
             "linecolor": "white",
             "minorgridcolor": "white",
             "startlinecolor": "#2a3f5f"
            },
            "type": "carpet"
           }
          ],
          "choropleth": [
           {
            "colorbar": {
             "outlinewidth": 0,
             "ticks": ""
            },
            "type": "choropleth"
           }
          ],
          "contour": [
           {
            "colorbar": {
             "outlinewidth": 0,
             "ticks": ""
            },
            "colorscale": [
             [
              0,
              "#0d0887"
             ],
             [
              0.1111111111111111,
              "#46039f"
             ],
             [
              0.2222222222222222,
              "#7201a8"
             ],
             [
              0.3333333333333333,
              "#9c179e"
             ],
             [
              0.4444444444444444,
              "#bd3786"
             ],
             [
              0.5555555555555556,
              "#d8576b"
             ],
             [
              0.6666666666666666,
              "#ed7953"
             ],
             [
              0.7777777777777778,
              "#fb9f3a"
             ],
             [
              0.8888888888888888,
              "#fdca26"
             ],
             [
              1,
              "#f0f921"
             ]
            ],
            "type": "contour"
           }
          ],
          "contourcarpet": [
           {
            "colorbar": {
             "outlinewidth": 0,
             "ticks": ""
            },
            "type": "contourcarpet"
           }
          ],
          "heatmap": [
           {
            "colorbar": {
             "outlinewidth": 0,
             "ticks": ""
            },
            "colorscale": [
             [
              0,
              "#0d0887"
             ],
             [
              0.1111111111111111,
              "#46039f"
             ],
             [
              0.2222222222222222,
              "#7201a8"
             ],
             [
              0.3333333333333333,
              "#9c179e"
             ],
             [
              0.4444444444444444,
              "#bd3786"
             ],
             [
              0.5555555555555556,
              "#d8576b"
             ],
             [
              0.6666666666666666,
              "#ed7953"
             ],
             [
              0.7777777777777778,
              "#fb9f3a"
             ],
             [
              0.8888888888888888,
              "#fdca26"
             ],
             [
              1,
              "#f0f921"
             ]
            ],
            "type": "heatmap"
           }
          ],
          "heatmapgl": [
           {
            "colorbar": {
             "outlinewidth": 0,
             "ticks": ""
            },
            "colorscale": [
             [
              0,
              "#0d0887"
             ],
             [
              0.1111111111111111,
              "#46039f"
             ],
             [
              0.2222222222222222,
              "#7201a8"
             ],
             [
              0.3333333333333333,
              "#9c179e"
             ],
             [
              0.4444444444444444,
              "#bd3786"
             ],
             [
              0.5555555555555556,
              "#d8576b"
             ],
             [
              0.6666666666666666,
              "#ed7953"
             ],
             [
              0.7777777777777778,
              "#fb9f3a"
             ],
             [
              0.8888888888888888,
              "#fdca26"
             ],
             [
              1,
              "#f0f921"
             ]
            ],
            "type": "heatmapgl"
           }
          ],
          "histogram": [
           {
            "marker": {
             "colorbar": {
              "outlinewidth": 0,
              "ticks": ""
             }
            },
            "type": "histogram"
           }
          ],
          "histogram2d": [
           {
            "colorbar": {
             "outlinewidth": 0,
             "ticks": ""
            },
            "colorscale": [
             [
              0,
              "#0d0887"
             ],
             [
              0.1111111111111111,
              "#46039f"
             ],
             [
              0.2222222222222222,
              "#7201a8"
             ],
             [
              0.3333333333333333,
              "#9c179e"
             ],
             [
              0.4444444444444444,
              "#bd3786"
             ],
             [
              0.5555555555555556,
              "#d8576b"
             ],
             [
              0.6666666666666666,
              "#ed7953"
             ],
             [
              0.7777777777777778,
              "#fb9f3a"
             ],
             [
              0.8888888888888888,
              "#fdca26"
             ],
             [
              1,
              "#f0f921"
             ]
            ],
            "type": "histogram2d"
           }
          ],
          "histogram2dcontour": [
           {
            "colorbar": {
             "outlinewidth": 0,
             "ticks": ""
            },
            "colorscale": [
             [
              0,
              "#0d0887"
             ],
             [
              0.1111111111111111,
              "#46039f"
             ],
             [
              0.2222222222222222,
              "#7201a8"
             ],
             [
              0.3333333333333333,
              "#9c179e"
             ],
             [
              0.4444444444444444,
              "#bd3786"
             ],
             [
              0.5555555555555556,
              "#d8576b"
             ],
             [
              0.6666666666666666,
              "#ed7953"
             ],
             [
              0.7777777777777778,
              "#fb9f3a"
             ],
             [
              0.8888888888888888,
              "#fdca26"
             ],
             [
              1,
              "#f0f921"
             ]
            ],
            "type": "histogram2dcontour"
           }
          ],
          "mesh3d": [
           {
            "colorbar": {
             "outlinewidth": 0,
             "ticks": ""
            },
            "type": "mesh3d"
           }
          ],
          "parcoords": [
           {
            "line": {
             "colorbar": {
              "outlinewidth": 0,
              "ticks": ""
             }
            },
            "type": "parcoords"
           }
          ],
          "scatter": [
           {
            "marker": {
             "colorbar": {
              "outlinewidth": 0,
              "ticks": ""
             }
            },
            "type": "scatter"
           }
          ],
          "scatter3d": [
           {
            "line": {
             "colorbar": {
              "outlinewidth": 0,
              "ticks": ""
             }
            },
            "marker": {
             "colorbar": {
              "outlinewidth": 0,
              "ticks": ""
             }
            },
            "type": "scatter3d"
           }
          ],
          "scattercarpet": [
           {
            "marker": {
             "colorbar": {
              "outlinewidth": 0,
              "ticks": ""
             }
            },
            "type": "scattercarpet"
           }
          ],
          "scattergeo": [
           {
            "marker": {
             "colorbar": {
              "outlinewidth": 0,
              "ticks": ""
             }
            },
            "type": "scattergeo"
           }
          ],
          "scattergl": [
           {
            "marker": {
             "colorbar": {
              "outlinewidth": 0,
              "ticks": ""
             }
            },
            "type": "scattergl"
           }
          ],
          "scattermapbox": [
           {
            "marker": {
             "colorbar": {
              "outlinewidth": 0,
              "ticks": ""
             }
            },
            "type": "scattermapbox"
           }
          ],
          "scatterpolar": [
           {
            "marker": {
             "colorbar": {
              "outlinewidth": 0,
              "ticks": ""
             }
            },
            "type": "scatterpolar"
           }
          ],
          "scatterpolargl": [
           {
            "marker": {
             "colorbar": {
              "outlinewidth": 0,
              "ticks": ""
             }
            },
            "type": "scatterpolargl"
           }
          ],
          "scatterternary": [
           {
            "marker": {
             "colorbar": {
              "outlinewidth": 0,
              "ticks": ""
             }
            },
            "type": "scatterternary"
           }
          ],
          "surface": [
           {
            "colorbar": {
             "outlinewidth": 0,
             "ticks": ""
            },
            "colorscale": [
             [
              0,
              "#0d0887"
             ],
             [
              0.1111111111111111,
              "#46039f"
             ],
             [
              0.2222222222222222,
              "#7201a8"
             ],
             [
              0.3333333333333333,
              "#9c179e"
             ],
             [
              0.4444444444444444,
              "#bd3786"
             ],
             [
              0.5555555555555556,
              "#d8576b"
             ],
             [
              0.6666666666666666,
              "#ed7953"
             ],
             [
              0.7777777777777778,
              "#fb9f3a"
             ],
             [
              0.8888888888888888,
              "#fdca26"
             ],
             [
              1,
              "#f0f921"
             ]
            ],
            "type": "surface"
           }
          ],
          "table": [
           {
            "cells": {
             "fill": {
              "color": "#EBF0F8"
             },
             "line": {
              "color": "white"
             }
            },
            "header": {
             "fill": {
              "color": "#C8D4E3"
             },
             "line": {
              "color": "white"
             }
            },
            "type": "table"
           }
          ]
         },
         "layout": {
          "annotationdefaults": {
           "arrowcolor": "#2a3f5f",
           "arrowhead": 0,
           "arrowwidth": 1
          },
          "colorscale": {
           "diverging": [
            [
             0,
             "#8e0152"
            ],
            [
             0.1,
             "#c51b7d"
            ],
            [
             0.2,
             "#de77ae"
            ],
            [
             0.3,
             "#f1b6da"
            ],
            [
             0.4,
             "#fde0ef"
            ],
            [
             0.5,
             "#f7f7f7"
            ],
            [
             0.6,
             "#e6f5d0"
            ],
            [
             0.7,
             "#b8e186"
            ],
            [
             0.8,
             "#7fbc41"
            ],
            [
             0.9,
             "#4d9221"
            ],
            [
             1,
             "#276419"
            ]
           ],
           "sequential": [
            [
             0,
             "#0d0887"
            ],
            [
             0.1111111111111111,
             "#46039f"
            ],
            [
             0.2222222222222222,
             "#7201a8"
            ],
            [
             0.3333333333333333,
             "#9c179e"
            ],
            [
             0.4444444444444444,
             "#bd3786"
            ],
            [
             0.5555555555555556,
             "#d8576b"
            ],
            [
             0.6666666666666666,
             "#ed7953"
            ],
            [
             0.7777777777777778,
             "#fb9f3a"
            ],
            [
             0.8888888888888888,
             "#fdca26"
            ],
            [
             1,
             "#f0f921"
            ]
           ],
           "sequentialminus": [
            [
             0,
             "#0d0887"
            ],
            [
             0.1111111111111111,
             "#46039f"
            ],
            [
             0.2222222222222222,
             "#7201a8"
            ],
            [
             0.3333333333333333,
             "#9c179e"
            ],
            [
             0.4444444444444444,
             "#bd3786"
            ],
            [
             0.5555555555555556,
             "#d8576b"
            ],
            [
             0.6666666666666666,
             "#ed7953"
            ],
            [
             0.7777777777777778,
             "#fb9f3a"
            ],
            [
             0.8888888888888888,
             "#fdca26"
            ],
            [
             1,
             "#f0f921"
            ]
           ]
          },
          "colorway": [
           "#636efa",
           "#EF553B",
           "#00cc96",
           "#ab63fa",
           "#FFA15A",
           "#19d3f3",
           "#FF6692",
           "#B6E880",
           "#FF97FF",
           "#FECB52"
          ],
          "font": {
           "color": "#2a3f5f"
          },
          "geo": {
           "bgcolor": "white",
           "lakecolor": "white",
           "landcolor": "#E5ECF6",
           "showlakes": true,
           "showland": true,
           "subunitcolor": "white"
          },
          "hoverlabel": {
           "align": "left"
          },
          "hovermode": "closest",
          "mapbox": {
           "style": "light"
          },
          "paper_bgcolor": "white",
          "plot_bgcolor": "#E5ECF6",
          "polar": {
           "angularaxis": {
            "gridcolor": "white",
            "linecolor": "white",
            "ticks": ""
           },
           "bgcolor": "#E5ECF6",
           "radialaxis": {
            "gridcolor": "white",
            "linecolor": "white",
            "ticks": ""
           }
          },
          "scene": {
           "xaxis": {
            "backgroundcolor": "#E5ECF6",
            "gridcolor": "white",
            "gridwidth": 2,
            "linecolor": "white",
            "showbackground": true,
            "ticks": "",
            "zerolinecolor": "white"
           },
           "yaxis": {
            "backgroundcolor": "#E5ECF6",
            "gridcolor": "white",
            "gridwidth": 2,
            "linecolor": "white",
            "showbackground": true,
            "ticks": "",
            "zerolinecolor": "white"
           },
           "zaxis": {
            "backgroundcolor": "#E5ECF6",
            "gridcolor": "white",
            "gridwidth": 2,
            "linecolor": "white",
            "showbackground": true,
            "ticks": "",
            "zerolinecolor": "white"
           }
          },
          "shapedefaults": {
           "line": {
            "color": "#2a3f5f"
           }
          },
          "ternary": {
           "aaxis": {
            "gridcolor": "white",
            "linecolor": "white",
            "ticks": ""
           },
           "baxis": {
            "gridcolor": "white",
            "linecolor": "white",
            "ticks": ""
           },
           "bgcolor": "#E5ECF6",
           "caxis": {
            "gridcolor": "white",
            "linecolor": "white",
            "ticks": ""
           }
          },
          "title": {
           "x": 0.05
          },
          "xaxis": {
           "automargin": true,
           "gridcolor": "white",
           "linecolor": "white",
           "ticks": "",
           "zerolinecolor": "white",
           "zerolinewidth": 2
          },
          "yaxis": {
           "automargin": true,
           "gridcolor": "white",
           "linecolor": "white",
           "ticks": "",
           "zerolinecolor": "white",
           "zerolinewidth": 2
          }
         }
        },
        "title": {
         "text": "video:click/time_auc"
        },
        "xaxis": {
         "type": "date"
        }
       }
      },
      "text/html": [
       "<div>\n",
       "        \n",
       "        \n",
       "            <div id=\"36d0d2b6-7cc9-4c3c-9d1c-42249680051f\" class=\"plotly-graph-div\" style=\"height:525px; width:100%;\"></div>\n",
       "            <script type=\"text/javascript\">\n",
       "                require([\"plotly\"], function(Plotly) {\n",
       "                    window.PLOTLYENV=window.PLOTLYENV || {};\n",
       "                    \n",
       "                if (document.getElementById(\"36d0d2b6-7cc9-4c3c-9d1c-42249680051f\")) {\n",
       "                    Plotly.newPlot(\n",
       "                        '36d0d2b6-7cc9-4c3c-9d1c-42249680051f',\n",
       "                        [{\"line\": {\"shape\": \"spline\", \"smoothing\": 1.0}, \"mode\": \"lines+markers\", \"name\": \"456:click/time_auc\", \"type\": \"scatter\", \"x\": [\"2019-12-26T10:00:00\", \"2019-12-26T11:00:00\", \"2019-12-26T12:00:00\", \"2019-12-26T13:00:00\", \"2019-12-26T14:00:00\", \"2019-12-26T15:00:00\", \"2019-12-26T16:00:00\", \"2019-12-26T17:00:00\", \"2019-12-26T18:00:00\", \"2019-12-26T19:00:00\", \"2019-12-26T20:00:00\", \"2019-12-26T21:00:00\", \"2019-12-26T22:00:00\", \"2019-12-26T23:00:00\", \"2019-12-27T00:00:00\", \"2019-12-27T01:00:00\", \"2019-12-27T02:00:00\", \"2019-12-27T03:00:00\", \"2019-12-27T04:00:00\", \"2019-12-27T05:00:00\", \"2019-12-27T06:00:00\", \"2019-12-27T07:00:00\", \"2019-12-27T08:00:00\", \"2019-12-27T09:00:00\", \"2019-12-27T10:00:00\", \"2019-12-27T13:00:00\", \"2019-12-27T14:00:00\", \"2019-12-27T15:00:00\", \"2019-12-27T16:00:00\", \"2019-12-27T17:00:00\", \"2019-12-27T18:00:00\", \"2019-12-27T19:00:00\", \"2019-12-27T20:00:00\", \"2019-12-27T21:00:00\", \"2019-12-28T08:00:00\", \"2019-12-28T09:00:00\", \"2019-12-28T10:00:00\", \"2019-12-28T11:00:00\", \"2019-12-28T12:00:00\", \"2019-12-28T13:00:00\", \"2019-12-28T14:00:00\", \"2019-12-28T15:00:00\", \"2019-12-28T16:00:00\", \"2019-12-28T17:00:00\", \"2019-12-28T18:00:00\", \"2019-12-28T19:00:00\", \"2019-12-28T20:00:00\", \"2019-12-28T21:00:00\", \"2019-12-29T08:00:00\", \"2019-12-29T09:00:00\", \"2019-12-29T10:00:00\", \"2019-12-29T11:00:00\", \"2019-12-29T12:00:00\", \"2019-12-29T13:00:00\", \"2019-12-29T14:00:00\", \"2019-12-29T15:00:00\", \"2019-12-29T16:00:00\", \"2019-12-29T17:00:00\", \"2019-12-29T18:00:00\", \"2019-12-29T19:00:00\", \"2019-12-29T20:00:00\", \"2019-12-29T21:00:00\", \"2019-12-29T22:00:00\", \"2019-12-29T23:00:00\", \"2019-12-30T00:00:00\", \"2019-12-30T01:00:00\", \"2019-12-30T02:00:00\", \"2019-12-30T03:00:00\", \"2019-12-30T04:00:00\", \"2019-12-30T05:00:00\", \"2019-12-30T06:00:00\", \"2019-12-30T07:00:00\", \"2019-12-30T08:00:00\", \"2019-12-30T09:00:00\", \"2019-12-30T10:00:00\", \"2019-12-30T11:00:00\", \"2019-12-30T12:00:00\", \"2019-12-30T13:00:00\", \"2019-12-30T14:00:00\", \"2019-12-30T15:00:00\", \"2019-12-30T16:00:00\", \"2019-12-30T17:00:00\", \"2019-12-30T18:00:00\", \"2019-12-30T19:00:00\", \"2019-12-30T20:00:00\", \"2019-12-30T21:00:00\", \"2019-12-30T22:00:00\", \"2019-12-30T23:00:00\", \"2019-12-31T00:00:00\", \"2019-12-31T01:00:00\", \"2019-12-31T02:00:00\", \"2019-12-31T03:00:00\", \"2019-12-31T04:00:00\", \"2019-12-31T05:00:00\", \"2019-12-31T06:00:00\", \"2019-12-31T07:00:00\", \"2019-12-31T08:00:00\", \"2019-12-31T09:00:00\", \"2019-12-31T10:00:00\", \"2019-12-31T11:00:00\", \"2019-12-31T12:00:00\", \"2019-12-31T13:00:00\"], \"y\": [0.5954744248097397, 0.5973262068220118, 0.5939610636857182, 0.6006872676788095, 0.6047554899806409, 0.6032647862373939, 0.603083631709484, 0.5984841364744284, 0.5989632629087875, 0.6017456236003744, 0.6046776695055782, 0.604716324747492, 0.6098530729138906, 0.6126067997332278, 0.6104171149001802, 0.604032204147594, 0.6006276044506993, 0.6039566979789863, 0.6048591043282021, 0.6049510948628771, 0.6006547679660832, 0.602062834171594, 0.6065894187233853, 0.5984629974448878, 0.6006836913758595, 0.6044804549128788, 0.6051471784417792, 0.6061579690224687, 0.5999223309585436, 0.5973552358614678, 0.5979872365464448, 0.6009139202144101, 0.6003029367690671, 0.6028115281731914, 0.5923078207243339, 0.5893931563569688, 0.5958147130359883, 0.6020980184385458, 0.6063289196552213, 0.6031837827704899, 0.599373414820163, 0.596208880343438, 0.5982385850097872, 0.5947813191434703, 0.6050069138960565, 0.6025050480855607, 0.604590975409917, 0.596656258296218, 0.5935482342116079, 0.5980614070206496, 0.6007952302928593, 0.6071171958092094, 0.6051145196751277, 0.6067056850825903, 0.6065211852400842, 0.6028568764534388, 0.6051782263914988, 0.605590343195996, 0.6057087349346248, 0.6018334027312165, 0.6068212264078908, 0.6098264556387591, 0.6109920624370877, 0.6127834170706421, 0.6138466988171944, 0.6168428764610112, 0.5981212098965663, 0.5986810242441087, 0.6095672316783798, 0.6040853015716953, 0.6119270001117842, 0.6128344439559243, 0.5941578859979268, 0.5850296017004388, 0.5964803830067604, 0.5974709208272863, 0.610600733119105, 0.6057198708808579, 0.6062295554284362, 0.6054984690453309, 0.6071329227993214, 0.6052463379708772, 0.604191706121928, 0.6048380465078314, 0.6004770885328926, 0.6000555903598197, 0.6019213383273856, 0.6045618043252846, 0.6109743814758796, 0.6171794078791248, 0.6010027125635757, 0.5904813774993831, 0.6055956740599473, 0.596139648804028, 0.6087566784977173, 0.6106448839656113, 0.6070080005935247, 0.6044952601619156, 0.6090622953380438, 0.6021140389166513, 0.6053199434081848, 0.6083879401827483]}, {\"line\": {\"shape\": \"spline\", \"smoothing\": 1.0}, \"mode\": \"lines+markers\", \"name\": \"15:click/time_auc\", \"type\": \"scatter\", \"x\": [\"2019-12-26T10:00:00\", \"2019-12-26T11:00:00\", \"2019-12-26T12:00:00\", \"2019-12-26T13:00:00\", \"2019-12-26T14:00:00\", \"2019-12-26T15:00:00\", \"2019-12-26T16:00:00\", \"2019-12-26T17:00:00\", \"2019-12-26T18:00:00\", \"2019-12-26T19:00:00\", \"2019-12-26T20:00:00\", \"2019-12-26T21:00:00\", \"2019-12-26T22:00:00\", \"2019-12-26T23:00:00\", \"2019-12-27T00:00:00\", \"2019-12-27T01:00:00\", \"2019-12-27T02:00:00\", \"2019-12-27T03:00:00\", \"2019-12-27T04:00:00\", \"2019-12-27T05:00:00\", \"2019-12-27T06:00:00\", \"2019-12-27T07:00:00\", \"2019-12-27T08:00:00\", \"2019-12-27T09:00:00\", \"2019-12-27T10:00:00\", \"2019-12-27T13:00:00\", \"2019-12-27T14:00:00\", \"2019-12-27T15:00:00\", \"2019-12-27T16:00:00\", \"2019-12-27T17:00:00\", \"2019-12-27T18:00:00\", \"2019-12-27T19:00:00\", \"2019-12-27T20:00:00\", \"2019-12-27T21:00:00\", \"2019-12-28T08:00:00\", \"2019-12-28T09:00:00\", \"2019-12-28T10:00:00\", \"2019-12-28T11:00:00\", \"2019-12-28T12:00:00\", \"2019-12-28T13:00:00\", \"2019-12-28T14:00:00\", \"2019-12-28T15:00:00\", \"2019-12-28T16:00:00\", \"2019-12-28T17:00:00\", \"2019-12-28T18:00:00\", \"2019-12-28T19:00:00\", \"2019-12-28T20:00:00\", \"2019-12-28T21:00:00\", \"2019-12-29T08:00:00\", \"2019-12-29T09:00:00\", \"2019-12-29T10:00:00\", \"2019-12-29T11:00:00\", \"2019-12-29T12:00:00\", \"2019-12-29T13:00:00\", \"2019-12-29T14:00:00\", \"2019-12-29T15:00:00\", \"2019-12-29T16:00:00\", \"2019-12-29T17:00:00\", \"2019-12-29T18:00:00\", \"2019-12-29T19:00:00\", \"2019-12-29T20:00:00\", \"2019-12-29T21:00:00\", \"2019-12-29T22:00:00\", \"2019-12-29T23:00:00\", \"2019-12-30T00:00:00\", \"2019-12-30T01:00:00\", \"2019-12-30T02:00:00\", \"2019-12-30T03:00:00\", \"2019-12-30T04:00:00\", \"2019-12-30T05:00:00\", \"2019-12-30T06:00:00\", \"2019-12-30T07:00:00\", \"2019-12-30T08:00:00\", \"2019-12-30T09:00:00\", \"2019-12-30T10:00:00\", \"2019-12-30T11:00:00\", \"2019-12-30T12:00:00\", \"2019-12-30T13:00:00\", \"2019-12-30T14:00:00\", \"2019-12-30T15:00:00\", \"2019-12-30T16:00:00\", \"2019-12-30T17:00:00\", \"2019-12-30T18:00:00\", \"2019-12-30T19:00:00\", \"2019-12-30T20:00:00\", \"2019-12-30T21:00:00\", \"2019-12-30T22:00:00\", \"2019-12-30T23:00:00\", \"2019-12-31T00:00:00\", \"2019-12-31T01:00:00\", \"2019-12-31T02:00:00\", \"2019-12-31T03:00:00\", \"2019-12-31T04:00:00\", \"2019-12-31T05:00:00\", \"2019-12-31T06:00:00\", \"2019-12-31T07:00:00\", \"2019-12-31T08:00:00\", \"2019-12-31T09:00:00\", \"2019-12-31T10:00:00\", \"2019-12-31T11:00:00\", \"2019-12-31T12:00:00\", \"2019-12-31T13:00:00\"], \"y\": [0.6039826873586525, 0.589838609910432, 0.5920090039833594, 0.6007476948091179, 0.6112161208016742, 0.5997834644356546, 0.5966142123649155, 0.6048565110677698, 0.5966716282913099, 0.5969467773721168, 0.5988612428161881, 0.5998802156529109, 0.5963031602701692, 0.5981934144722251, 0.6057302797077299, 0.6010867810989381, 0.6258647362353584, 0.6493036982562177, 0.6236551569943337, 0.5937530543699246, 0.5960974814503436, 0.5995675653516641, 0.5892557773260183, 0.5862289417184757, 0.587327992083623, 0.5944115669662424, 0.608226705385589, 0.6003744149147099, 0.5999111767593308, 0.5971911849075905, 0.5956936832119957, 0.5921813374759977, 0.5976727121094167, 0.6000627448390615, 0.6029208363317857, 0.5924157550667506, 0.5871315336104436, 0.5862483926220423, 0.5910020553679388, 0.5856083002018362, 0.584671346480381, 0.5911656313701705, 0.5830856583780097, 0.5863074967737207, 0.589014856465774, 0.5818681025189787, 0.590140704830889, 0.592575940540679, 0.5832450106440505, 0.5797165406030296, 0.5697658792181788, 0.5870647863111367, 0.5866897470764016, 0.5893478332045978, 0.5817916515571996, 0.5938861555431258, 0.5960360396121034, 0.5916427063975906, 0.5881454931773232, 0.5884044466127261, 0.5951411154301978, 0.6024923327592593, 0.6061197812102856, 0.5930653103700468, 0.598685711578631, 0.5928373094775448, 0.600712147624492, 0.6168593474235957, 0.6175936205591767, 0.6159472493600343, 0.6070815851967549, 0.5907803174993785, 0.5744430606917131, 0.5800967290549532, 0.578299643592444, 0.5874894674636372, 0.5890719585551352, 0.5903470550319594, 0.5915450440303777, 0.5892434158835487, 0.58467914510383, 0.5823489562420825, 0.582307292308587, 0.585678074740746, 0.5892187834425127, 0.596917238265082, 0.5938857843088, 0.5951393771101444, 0.606370210101598, 0.6128082977637357, 0.6059423962915119, 0.601090864628208, 0.6040832371362397, 0.6081263707599865, 0.6084242868299343, 0.607668016109778, 0.6006819581331249, 0.5920188734685785, 0.5918525299321785, 0.5962807017274346, 0.5977274758485609, 0.5954896171416446]}],\n",
       "                        {\"hovermode\": \"x\", \"template\": {\"data\": {\"bar\": [{\"error_x\": {\"color\": \"#2a3f5f\"}, \"error_y\": {\"color\": \"#2a3f5f\"}, \"marker\": {\"line\": {\"color\": \"#E5ECF6\", \"width\": 0.5}}, \"type\": \"bar\"}], \"barpolar\": [{\"marker\": {\"line\": {\"color\": \"#E5ECF6\", \"width\": 0.5}}, \"type\": \"barpolar\"}], \"carpet\": [{\"aaxis\": {\"endlinecolor\": \"#2a3f5f\", \"gridcolor\": \"white\", \"linecolor\": \"white\", \"minorgridcolor\": \"white\", \"startlinecolor\": \"#2a3f5f\"}, \"baxis\": {\"endlinecolor\": \"#2a3f5f\", \"gridcolor\": \"white\", \"linecolor\": \"white\", \"minorgridcolor\": \"white\", \"startlinecolor\": \"#2a3f5f\"}, \"type\": \"carpet\"}], \"choropleth\": [{\"colorbar\": {\"outlinewidth\": 0, \"ticks\": \"\"}, \"type\": \"choropleth\"}], \"contour\": [{\"colorbar\": {\"outlinewidth\": 0, \"ticks\": \"\"}, \"colorscale\": [[0.0, \"#0d0887\"], [0.1111111111111111, \"#46039f\"], [0.2222222222222222, \"#7201a8\"], [0.3333333333333333, \"#9c179e\"], [0.4444444444444444, \"#bd3786\"], [0.5555555555555556, \"#d8576b\"], [0.6666666666666666, \"#ed7953\"], [0.7777777777777778, \"#fb9f3a\"], [0.8888888888888888, \"#fdca26\"], [1.0, \"#f0f921\"]], \"type\": \"contour\"}], \"contourcarpet\": [{\"colorbar\": {\"outlinewidth\": 0, \"ticks\": \"\"}, \"type\": \"contourcarpet\"}], \"heatmap\": [{\"colorbar\": {\"outlinewidth\": 0, \"ticks\": \"\"}, \"colorscale\": [[0.0, \"#0d0887\"], [0.1111111111111111, \"#46039f\"], [0.2222222222222222, \"#7201a8\"], [0.3333333333333333, \"#9c179e\"], [0.4444444444444444, \"#bd3786\"], [0.5555555555555556, \"#d8576b\"], [0.6666666666666666, \"#ed7953\"], [0.7777777777777778, \"#fb9f3a\"], [0.8888888888888888, \"#fdca26\"], [1.0, \"#f0f921\"]], \"type\": \"heatmap\"}], \"heatmapgl\": [{\"colorbar\": {\"outlinewidth\": 0, \"ticks\": \"\"}, \"colorscale\": [[0.0, \"#0d0887\"], [0.1111111111111111, \"#46039f\"], [0.2222222222222222, \"#7201a8\"], [0.3333333333333333, \"#9c179e\"], [0.4444444444444444, \"#bd3786\"], [0.5555555555555556, \"#d8576b\"], [0.6666666666666666, \"#ed7953\"], [0.7777777777777778, \"#fb9f3a\"], [0.8888888888888888, \"#fdca26\"], [1.0, \"#f0f921\"]], \"type\": \"heatmapgl\"}], \"histogram\": [{\"marker\": {\"colorbar\": {\"outlinewidth\": 0, \"ticks\": \"\"}}, \"type\": \"histogram\"}], \"histogram2d\": [{\"colorbar\": {\"outlinewidth\": 0, \"ticks\": \"\"}, \"colorscale\": [[0.0, \"#0d0887\"], [0.1111111111111111, \"#46039f\"], [0.2222222222222222, \"#7201a8\"], [0.3333333333333333, \"#9c179e\"], [0.4444444444444444, \"#bd3786\"], [0.5555555555555556, \"#d8576b\"], [0.6666666666666666, \"#ed7953\"], [0.7777777777777778, \"#fb9f3a\"], [0.8888888888888888, \"#fdca26\"], [1.0, \"#f0f921\"]], \"type\": \"histogram2d\"}], \"histogram2dcontour\": [{\"colorbar\": {\"outlinewidth\": 0, \"ticks\": \"\"}, \"colorscale\": [[0.0, \"#0d0887\"], [0.1111111111111111, \"#46039f\"], [0.2222222222222222, \"#7201a8\"], [0.3333333333333333, \"#9c179e\"], [0.4444444444444444, \"#bd3786\"], [0.5555555555555556, \"#d8576b\"], [0.6666666666666666, \"#ed7953\"], [0.7777777777777778, \"#fb9f3a\"], [0.8888888888888888, \"#fdca26\"], [1.0, \"#f0f921\"]], \"type\": \"histogram2dcontour\"}], \"mesh3d\": [{\"colorbar\": {\"outlinewidth\": 0, \"ticks\": \"\"}, \"type\": \"mesh3d\"}], \"parcoords\": [{\"line\": {\"colorbar\": {\"outlinewidth\": 0, \"ticks\": \"\"}}, \"type\": \"parcoords\"}], \"scatter\": [{\"marker\": {\"colorbar\": {\"outlinewidth\": 0, \"ticks\": \"\"}}, \"type\": \"scatter\"}], \"scatter3d\": [{\"line\": {\"colorbar\": {\"outlinewidth\": 0, \"ticks\": \"\"}}, \"marker\": {\"colorbar\": {\"outlinewidth\": 0, \"ticks\": \"\"}}, \"type\": \"scatter3d\"}], \"scattercarpet\": [{\"marker\": {\"colorbar\": {\"outlinewidth\": 0, \"ticks\": \"\"}}, \"type\": \"scattercarpet\"}], \"scattergeo\": [{\"marker\": {\"colorbar\": {\"outlinewidth\": 0, \"ticks\": \"\"}}, \"type\": \"scattergeo\"}], \"scattergl\": [{\"marker\": {\"colorbar\": {\"outlinewidth\": 0, \"ticks\": \"\"}}, \"type\": \"scattergl\"}], \"scattermapbox\": [{\"marker\": {\"colorbar\": {\"outlinewidth\": 0, \"ticks\": \"\"}}, \"type\": \"scattermapbox\"}], \"scatterpolar\": [{\"marker\": {\"colorbar\": {\"outlinewidth\": 0, \"ticks\": \"\"}}, \"type\": \"scatterpolar\"}], \"scatterpolargl\": [{\"marker\": {\"colorbar\": {\"outlinewidth\": 0, \"ticks\": \"\"}}, \"type\": \"scatterpolargl\"}], \"scatterternary\": [{\"marker\": {\"colorbar\": {\"outlinewidth\": 0, \"ticks\": \"\"}}, \"type\": \"scatterternary\"}], \"surface\": [{\"colorbar\": {\"outlinewidth\": 0, \"ticks\": \"\"}, \"colorscale\": [[0.0, \"#0d0887\"], [0.1111111111111111, \"#46039f\"], [0.2222222222222222, \"#7201a8\"], [0.3333333333333333, \"#9c179e\"], [0.4444444444444444, \"#bd3786\"], [0.5555555555555556, \"#d8576b\"], [0.6666666666666666, \"#ed7953\"], [0.7777777777777778, \"#fb9f3a\"], [0.8888888888888888, \"#fdca26\"], [1.0, \"#f0f921\"]], \"type\": \"surface\"}], \"table\": [{\"cells\": {\"fill\": {\"color\": \"#EBF0F8\"}, \"line\": {\"color\": \"white\"}}, \"header\": {\"fill\": {\"color\": \"#C8D4E3\"}, \"line\": {\"color\": \"white\"}}, \"type\": \"table\"}]}, \"layout\": {\"annotationdefaults\": {\"arrowcolor\": \"#2a3f5f\", \"arrowhead\": 0, \"arrowwidth\": 1}, \"colorscale\": {\"diverging\": [[0, \"#8e0152\"], [0.1, \"#c51b7d\"], [0.2, \"#de77ae\"], [0.3, \"#f1b6da\"], [0.4, \"#fde0ef\"], [0.5, \"#f7f7f7\"], [0.6, \"#e6f5d0\"], [0.7, \"#b8e186\"], [0.8, \"#7fbc41\"], [0.9, \"#4d9221\"], [1, \"#276419\"]], \"sequential\": [[0.0, \"#0d0887\"], [0.1111111111111111, \"#46039f\"], [0.2222222222222222, \"#7201a8\"], [0.3333333333333333, \"#9c179e\"], [0.4444444444444444, \"#bd3786\"], [0.5555555555555556, \"#d8576b\"], [0.6666666666666666, \"#ed7953\"], [0.7777777777777778, \"#fb9f3a\"], [0.8888888888888888, \"#fdca26\"], [1.0, \"#f0f921\"]], \"sequentialminus\": [[0.0, \"#0d0887\"], [0.1111111111111111, \"#46039f\"], [0.2222222222222222, \"#7201a8\"], [0.3333333333333333, \"#9c179e\"], [0.4444444444444444, \"#bd3786\"], [0.5555555555555556, \"#d8576b\"], [0.6666666666666666, \"#ed7953\"], [0.7777777777777778, \"#fb9f3a\"], [0.8888888888888888, \"#fdca26\"], [1.0, \"#f0f921\"]]}, \"colorway\": [\"#636efa\", \"#EF553B\", \"#00cc96\", \"#ab63fa\", \"#FFA15A\", \"#19d3f3\", \"#FF6692\", \"#B6E880\", \"#FF97FF\", \"#FECB52\"], \"font\": {\"color\": \"#2a3f5f\"}, \"geo\": {\"bgcolor\": \"white\", \"lakecolor\": \"white\", \"landcolor\": \"#E5ECF6\", \"showlakes\": true, \"showland\": true, \"subunitcolor\": \"white\"}, \"hoverlabel\": {\"align\": \"left\"}, \"hovermode\": \"closest\", \"mapbox\": {\"style\": \"light\"}, \"paper_bgcolor\": \"white\", \"plot_bgcolor\": \"#E5ECF6\", \"polar\": {\"angularaxis\": {\"gridcolor\": \"white\", \"linecolor\": \"white\", \"ticks\": \"\"}, \"bgcolor\": \"#E5ECF6\", \"radialaxis\": {\"gridcolor\": \"white\", \"linecolor\": \"white\", \"ticks\": \"\"}}, \"scene\": {\"xaxis\": {\"backgroundcolor\": \"#E5ECF6\", \"gridcolor\": \"white\", \"gridwidth\": 2, \"linecolor\": \"white\", \"showbackground\": true, \"ticks\": \"\", \"zerolinecolor\": \"white\"}, \"yaxis\": {\"backgroundcolor\": \"#E5ECF6\", \"gridcolor\": \"white\", \"gridwidth\": 2, \"linecolor\": \"white\", \"showbackground\": true, \"ticks\": \"\", \"zerolinecolor\": \"white\"}, \"zaxis\": {\"backgroundcolor\": \"#E5ECF6\", \"gridcolor\": \"white\", \"gridwidth\": 2, \"linecolor\": \"white\", \"showbackground\": true, \"ticks\": \"\", \"zerolinecolor\": \"white\"}}, \"shapedefaults\": {\"line\": {\"color\": \"#2a3f5f\"}}, \"ternary\": {\"aaxis\": {\"gridcolor\": \"white\", \"linecolor\": \"white\", \"ticks\": \"\"}, \"baxis\": {\"gridcolor\": \"white\", \"linecolor\": \"white\", \"ticks\": \"\"}, \"bgcolor\": \"#E5ECF6\", \"caxis\": {\"gridcolor\": \"white\", \"linecolor\": \"white\", \"ticks\": \"\"}}, \"title\": {\"x\": 0.05}, \"xaxis\": {\"automargin\": true, \"gridcolor\": \"white\", \"linecolor\": \"white\", \"ticks\": \"\", \"zerolinecolor\": \"white\", \"zerolinewidth\": 2}, \"yaxis\": {\"automargin\": true, \"gridcolor\": \"white\", \"linecolor\": \"white\", \"ticks\": \"\", \"zerolinecolor\": \"white\", \"zerolinewidth\": 2}}}, \"title\": {\"text\": \"video:click/time_auc\"}, \"xaxis\": {\"type\": \"date\"}},\n",
       "                        {\"responsive\": true}\n",
       "                    ).then(function(){\n",
       "                            \n",
       "var gd = document.getElementById('36d0d2b6-7cc9-4c3c-9d1c-42249680051f');\n",
       "var x = new MutationObserver(function (mutations, observer) {{\n",
       "        var display = window.getComputedStyle(gd).display;\n",
       "        if (!display || display === 'none') {{\n",
       "            console.log([gd, 'removed!']);\n",
       "            Plotly.purge(gd);\n",
       "            observer.disconnect();\n",
       "        }}\n",
       "}});\n",
       "\n",
       "// Listen for the removal of the full notebook cells\n",
       "var notebookContainer = gd.closest('#notebook-container');\n",
       "if (notebookContainer) {{\n",
       "    x.observe(notebookContainer, {childList: true});\n",
       "}}\n",
       "\n",
       "// Listen for the clearing of the current output cell\n",
       "var outputEl = gd.closest('.output');\n",
       "if (outputEl) {{\n",
       "    x.observe(outputEl, {childList: true});\n",
       "}}\n",
       "\n",
       "                        })\n",
       "                };\n",
       "                });\n",
       "            </script>\n",
       "        </div>"
      ]
     },
     "metadata": {},
     "output_type": "display_data"
    }
   ],
   "source": [
    "compare(df, 'click/time_auc')"
   ]
  },
  {
   "cell_type": "code",
   "execution_count": 16,
   "metadata": {},
   "outputs": [
    {
     "data": {
      "application/vnd.plotly.v1+json": {
       "config": {
        "linkText": "Export to plot.ly",
        "plotlyServerURL": "https://plot.ly",
        "showLink": false
       },
       "data": [
        {
         "line": {
          "shape": "spline",
          "smoothing": 1
         },
         "mode": "lines+markers",
         "name": "456:click/weighted_time_auc",
         "type": "scatter",
         "x": [
          "2019-12-11T00:00:00",
          "2019-12-11T01:00:00",
          "2019-12-11T02:00:00",
          "2019-12-11T03:00:00",
          "2019-12-11T04:00:00",
          "2019-12-11T05:00:00",
          "2019-12-11T06:00:00",
          "2019-12-11T07:00:00",
          "2019-12-11T08:00:00",
          "2019-12-11T09:00:00",
          "2019-12-11T10:00:00",
          "2019-12-11T11:00:00",
          "2019-12-11T12:00:00",
          "2019-12-11T13:00:00",
          "2019-12-11T15:00:00",
          "2019-12-11T16:00:00",
          "2019-12-11T19:00:00",
          "2019-12-11T20:00:00",
          "2019-12-11T21:00:00",
          "2019-12-11T22:00:00",
          "2019-12-11T23:00:00",
          "2019-12-12T00:00:00",
          "2019-12-12T01:00:00",
          "2019-12-12T02:00:00",
          "2019-12-12T03:00:00",
          "2019-12-12T04:00:00",
          "2019-12-12T05:00:00",
          "2019-12-12T06:00:00",
          "2019-12-12T07:00:00",
          "2019-12-12T08:00:00",
          "2019-12-12T09:00:00",
          "2019-12-12T10:00:00",
          "2019-12-12T11:00:00",
          "2019-12-12T12:00:00",
          "2019-12-12T13:00:00",
          "2019-12-12T14:00:00",
          "2019-12-12T15:00:00",
          "2019-12-12T16:00:00",
          "2019-12-12T17:00:00",
          "2019-12-12T18:00:00",
          "2019-12-12T19:00:00",
          "2019-12-12T20:00:00",
          "2019-12-12T21:00:00",
          "2019-12-12T22:00:00",
          "2019-12-12T23:00:00",
          "2019-12-13T00:00:00",
          "2019-12-13T01:00:00",
          "2019-12-13T02:00:00",
          "2019-12-13T03:00:00",
          "2019-12-13T04:00:00",
          "2019-12-13T05:00:00",
          "2019-12-13T06:00:00",
          "2019-12-13T07:00:00",
          "2019-12-13T08:00:00",
          "2019-12-13T09:00:00",
          "2019-12-13T10:00:00",
          "2019-12-13T11:00:00",
          "2019-12-13T12:00:00",
          "2019-12-13T13:00:00",
          "2019-12-13T14:00:00",
          "2019-12-13T15:00:00",
          "2019-12-13T16:00:00",
          "2019-12-13T17:00:00",
          "2019-12-13T18:00:00",
          "2019-12-13T19:00:00",
          "2019-12-13T20:00:00",
          "2019-12-13T21:00:00",
          "2019-12-13T22:00:00",
          "2019-12-13T23:00:00",
          "2019-12-14T00:00:00",
          "2019-12-14T01:00:00",
          "2019-12-14T02:00:00",
          "2019-12-14T03:00:00",
          "2019-12-14T04:00:00",
          "2019-12-14T05:00:00",
          "2019-12-14T06:00:00",
          "2019-12-14T07:00:00",
          "2019-12-14T08:00:00",
          "2019-12-14T09:00:00",
          "2019-12-14T10:00:00",
          "2019-12-14T11:00:00",
          "2019-12-14T12:00:00",
          "2019-12-14T13:00:00",
          "2019-12-14T14:00:00",
          "2019-12-14T15:00:00",
          "2019-12-14T16:00:00",
          "2019-12-14T17:00:00",
          "2019-12-14T18:00:00",
          "2019-12-14T19:00:00",
          "2019-12-14T20:00:00",
          "2019-12-14T21:00:00",
          "2019-12-14T22:00:00",
          "2019-12-14T23:00:00",
          "2019-12-15T00:00:00",
          "2019-12-15T01:00:00",
          "2019-12-15T02:00:00",
          "2019-12-15T03:00:00",
          "2019-12-15T04:00:00",
          "2019-12-15T05:00:00",
          "2019-12-15T06:00:00",
          "2019-12-15T07:00:00",
          "2019-12-15T08:00:00",
          "2019-12-15T09:00:00",
          "2019-12-15T10:00:00",
          "2019-12-15T11:00:00",
          "2019-12-15T12:00:00",
          "2019-12-15T13:00:00",
          "2019-12-15T14:00:00",
          "2019-12-15T15:00:00",
          "2019-12-15T16:00:00",
          "2019-12-15T17:00:00",
          "2019-12-15T18:00:00",
          "2019-12-15T19:00:00",
          "2019-12-15T20:00:00",
          "2019-12-15T21:00:00",
          "2019-12-15T22:00:00",
          "2019-12-16T00:00:00"
         ],
         "y": [
          0.5861728449206457,
          0.5887410958788033,
          0.6000083412899261,
          0.6128230020047591,
          0.6216872104910254,
          0.6002648062902407,
          0.5939967849508012,
          0.6018506780893986,
          0.6055357720802964,
          0.5893106395225695,
          0.5827105126213603,
          0.5873921101746259,
          0.5934323280699051,
          0.59648719235721,
          0.5974974751135314,
          0.6030554602384223,
          0.5951219583445302,
          0.5917547448389782,
          0.5881846779100339,
          0.5899696363052908,
          0.5807994769670265,
          0.5843782140599366,
          0.5639903409995541,
          0.5812897125619583,
          0.5878042501186665,
          0.6025132707041598,
          0.6087818428996479,
          0.5991827154906537,
          0.598717103641638,
          0.6003942914501809,
          0.5988617734587329,
          0.5979213382376627,
          0.6016978039498064,
          0.6087749740075283,
          0.604466656418375,
          0.6082765220777743,
          0.6088240775240397,
          0.5978515997269991,
          0.6014303265832691,
          0.6033775003921578,
          0.6037999630508026,
          0.5991695215804536,
          0.5993217530046508,
          0.5910284861009689,
          0.5761478448763805,
          0.5684377117639194,
          0.5677289657014579,
          0.5661290512993017,
          0.579235119265321,
          0.5980467877561948,
          0.6124173364369234,
          0.6209064362425125,
          0.6225447786255232,
          0.6281456940266826,
          0.6190969275307827,
          0.5945780240945137,
          0.5888521201517073,
          0.5814990289527512,
          0.5803917026904064,
          0.5714155578830211,
          0.5740880168698195,
          0.5783804081170635,
          0.578569946309127,
          0.5825747064418251,
          0.5756158366216334,
          0.5745039854224658,
          0.5861839962338473,
          0.5695090734253028,
          0.5586651709686103,
          0.5530506775586872,
          0.5390528545060722,
          0.5515535395908355,
          0.5573117539581407,
          0.5629060199390367,
          0.5711001019486113,
          0.5797274077514056,
          0.5993535406013759,
          0.5899710531292088,
          0.588075084402461,
          0.568255116630375,
          0.5765712559115816,
          0.5870386143948879,
          0.6021766622436701,
          0.5819657879731182,
          0.5770087364358034,
          0.6015416550338453,
          0.6006366395434549,
          0.6079241157435586,
          0.6145942838419587,
          0.6102132526937456,
          0.6195889554541925,
          0.6176048498324328,
          0.6137830825146454,
          0.5839217014590783,
          0.5838242578455219,
          0.5862583259817742,
          0.583592212972731,
          0.5920711360972064,
          0.6048003958627535,
          0.6069166130853396,
          0.6152321465495411,
          0.6146841492954882,
          0.6119731416600147,
          0.6075892692461796,
          0.6052196956272747,
          0.6066698187369126,
          0.6057863862363673,
          0.6058162051680706,
          0.5880586150916245,
          0.5692274009028144,
          0.5341638392746259,
          0.5507903474604896,
          0.5788244484574625,
          0.5979244660956773,
          0.6068487211320266,
          0.6013002103647457,
          0.5773739051901412
         ]
        },
        {
         "line": {
          "shape": "spline",
          "smoothing": 1
         },
         "mode": "lines+markers",
         "name": "15:click/weighted_time_auc",
         "type": "scatter",
         "x": [
          "2019-12-11T00:00:00",
          "2019-12-11T01:00:00",
          "2019-12-11T02:00:00",
          "2019-12-11T03:00:00",
          "2019-12-11T04:00:00",
          "2019-12-11T05:00:00",
          "2019-12-11T06:00:00",
          "2019-12-11T07:00:00",
          "2019-12-11T08:00:00",
          "2019-12-11T09:00:00",
          "2019-12-11T10:00:00",
          "2019-12-11T11:00:00",
          "2019-12-11T12:00:00",
          "2019-12-11T13:00:00",
          "2019-12-11T15:00:00",
          "2019-12-11T16:00:00",
          "2019-12-11T19:00:00",
          "2019-12-11T20:00:00",
          "2019-12-11T21:00:00",
          "2019-12-11T22:00:00",
          "2019-12-11T23:00:00",
          "2019-12-12T00:00:00",
          "2019-12-12T01:00:00",
          "2019-12-12T02:00:00",
          "2019-12-12T03:00:00",
          "2019-12-12T04:00:00",
          "2019-12-12T05:00:00",
          "2019-12-12T06:00:00",
          "2019-12-12T07:00:00",
          "2019-12-12T08:00:00",
          "2019-12-12T09:00:00",
          "2019-12-12T10:00:00",
          "2019-12-12T11:00:00",
          "2019-12-12T12:00:00",
          "2019-12-12T13:00:00",
          "2019-12-12T14:00:00",
          "2019-12-12T15:00:00",
          "2019-12-12T16:00:00",
          "2019-12-12T17:00:00",
          "2019-12-12T18:00:00",
          "2019-12-12T19:00:00",
          "2019-12-12T20:00:00",
          "2019-12-12T21:00:00",
          "2019-12-12T22:00:00",
          "2019-12-12T23:00:00",
          "2019-12-13T00:00:00",
          "2019-12-13T01:00:00",
          "2019-12-13T02:00:00",
          "2019-12-13T03:00:00",
          "2019-12-13T04:00:00",
          "2019-12-13T05:00:00",
          "2019-12-13T06:00:00",
          "2019-12-13T07:00:00",
          "2019-12-13T08:00:00",
          "2019-12-13T09:00:00",
          "2019-12-13T10:00:00",
          "2019-12-13T11:00:00",
          "2019-12-13T12:00:00",
          "2019-12-13T13:00:00",
          "2019-12-13T14:00:00",
          "2019-12-13T15:00:00",
          "2019-12-13T16:00:00",
          "2019-12-13T17:00:00",
          "2019-12-13T18:00:00",
          "2019-12-13T19:00:00",
          "2019-12-13T20:00:00",
          "2019-12-13T21:00:00",
          "2019-12-13T22:00:00",
          "2019-12-13T23:00:00",
          "2019-12-14T00:00:00",
          "2019-12-14T01:00:00",
          "2019-12-14T02:00:00",
          "2019-12-14T03:00:00",
          "2019-12-14T04:00:00",
          "2019-12-14T05:00:00",
          "2019-12-14T06:00:00",
          "2019-12-14T07:00:00",
          "2019-12-14T08:00:00",
          "2019-12-14T09:00:00",
          "2019-12-14T10:00:00",
          "2019-12-14T11:00:00",
          "2019-12-14T12:00:00",
          "2019-12-14T13:00:00",
          "2019-12-14T14:00:00",
          "2019-12-14T15:00:00",
          "2019-12-14T16:00:00",
          "2019-12-14T17:00:00",
          "2019-12-14T18:00:00",
          "2019-12-14T19:00:00",
          "2019-12-14T20:00:00",
          "2019-12-14T21:00:00",
          "2019-12-14T22:00:00",
          "2019-12-14T23:00:00",
          "2019-12-15T00:00:00",
          "2019-12-15T01:00:00",
          "2019-12-15T02:00:00",
          "2019-12-15T03:00:00",
          "2019-12-15T04:00:00",
          "2019-12-15T05:00:00",
          "2019-12-15T06:00:00",
          "2019-12-15T07:00:00",
          "2019-12-15T08:00:00",
          "2019-12-15T09:00:00",
          "2019-12-15T10:00:00",
          "2019-12-15T11:00:00",
          "2019-12-15T12:00:00",
          "2019-12-15T13:00:00",
          "2019-12-15T14:00:00",
          "2019-12-15T15:00:00",
          "2019-12-15T16:00:00",
          "2019-12-15T17:00:00",
          "2019-12-15T18:00:00",
          "2019-12-15T19:00:00",
          "2019-12-15T20:00:00",
          "2019-12-15T21:00:00",
          "2019-12-15T22:00:00",
          "2019-12-16T00:00:00"
         ],
         "y": [
          0.5647593450295856,
          0.5877861719700539,
          0.5905058257098816,
          0.5746781739626747,
          0.5894073095943585,
          0.583097754687599,
          0.5988355006651152,
          0.6011098163386429,
          0.6075752210393517,
          0.6084985411979436,
          0.6129825524323508,
          0.6178942241725691,
          0.6206160260421085,
          0.6174760249409403,
          0.6060733680362214,
          0.6265569269380943,
          0.6054484331520298,
          0.5853411094373203,
          0.5827639832331014,
          0.5799455343282665,
          0.5804069715258602,
          0.5678837504360217,
          0.5902991946117268,
          0.5711598573383719,
          0.5907465537079031,
          0.5916977000345506,
          0.613052339051817,
          0.6001747479439242,
          0.6116347116456671,
          0.5978096373070263,
          0.6068994846321027,
          0.6072437071992164,
          0.6109774415225296,
          0.6284031837325674,
          0.619883550225817,
          0.6194423889856646,
          0.6135939290379314,
          0.5802866884479984,
          0.5866319056366063,
          0.5910894942754422,
          0.5877194593173759,
          0.5822927655945758,
          0.5867614054864874,
          0.5824328138733167,
          0.5811716793423036,
          0.5790016983563534,
          0.5885653512581857,
          0.5905913016293098,
          0.5755533143650693,
          0.5822243477656215,
          0.5807847817901706,
          0.5930066730243397,
          0.6007791722018552,
          0.6072530879012551,
          0.6121353379256494,
          0.6068057156122828,
          0.5975338767390971,
          0.5946316198077088,
          0.5931006548245608,
          0.5967607312007523,
          0.5789930350758222,
          0.5892234277971637,
          0.5756409270362075,
          0.5825008549434216,
          0.5821153255040417,
          0.587837096023588,
          0.5679038818817752,
          0.5889079040834876,
          0.5848269717833466,
          0.5688866632704318,
          0.5670557641928053,
          0.5594928176623752,
          0.5800182663956513,
          0.5912756869975488,
          0.6007244889985626,
          0.5816730840225813,
          0.5916400490884557,
          0.5816780674950552,
          0.5784660438678655,
          0.5740382927294725,
          0.5735840614502739,
          0.5866428296605177,
          0.5820945753723026,
          0.5908804419443985,
          0.5826429547979479,
          0.5859796331519656,
          0.5842629779174647,
          0.5730300670930141,
          0.579002689062293,
          0.5847516330652531,
          0.5987318798270094,
          0.5998119287163135,
          0.5910076786866284,
          0.5860634330222049,
          0.5885310720396781,
          0.5940232524580195,
          0.592903889115975,
          0.6099974680422803,
          0.5742530921017694,
          0.5756226725606878,
          0.5853220246664642,
          0.5625288394832174,
          0.5762491443899216,
          0.5781578901763219,
          0.5841923849809278,
          0.5864489298028371,
          0.5872923019358234,
          0.59009936187125,
          0.5931969199506102,
          0.5865738064140474,
          0.5906264202618883,
          0.5811819870633537,
          0.5863200078281094,
          0.589239605612668,
          0.6032854477986153,
          0.6116808344847846,
          0.5955572225460402
         ]
        }
       ],
       "layout": {
        "hovermode": "x",
        "template": {
         "data": {
          "bar": [
           {
            "error_x": {
             "color": "#2a3f5f"
            },
            "error_y": {
             "color": "#2a3f5f"
            },
            "marker": {
             "line": {
              "color": "#E5ECF6",
              "width": 0.5
             }
            },
            "type": "bar"
           }
          ],
          "barpolar": [
           {
            "marker": {
             "line": {
              "color": "#E5ECF6",
              "width": 0.5
             }
            },
            "type": "barpolar"
           }
          ],
          "carpet": [
           {
            "aaxis": {
             "endlinecolor": "#2a3f5f",
             "gridcolor": "white",
             "linecolor": "white",
             "minorgridcolor": "white",
             "startlinecolor": "#2a3f5f"
            },
            "baxis": {
             "endlinecolor": "#2a3f5f",
             "gridcolor": "white",
             "linecolor": "white",
             "minorgridcolor": "white",
             "startlinecolor": "#2a3f5f"
            },
            "type": "carpet"
           }
          ],
          "choropleth": [
           {
            "colorbar": {
             "outlinewidth": 0,
             "ticks": ""
            },
            "type": "choropleth"
           }
          ],
          "contour": [
           {
            "colorbar": {
             "outlinewidth": 0,
             "ticks": ""
            },
            "colorscale": [
             [
              0,
              "#0d0887"
             ],
             [
              0.1111111111111111,
              "#46039f"
             ],
             [
              0.2222222222222222,
              "#7201a8"
             ],
             [
              0.3333333333333333,
              "#9c179e"
             ],
             [
              0.4444444444444444,
              "#bd3786"
             ],
             [
              0.5555555555555556,
              "#d8576b"
             ],
             [
              0.6666666666666666,
              "#ed7953"
             ],
             [
              0.7777777777777778,
              "#fb9f3a"
             ],
             [
              0.8888888888888888,
              "#fdca26"
             ],
             [
              1,
              "#f0f921"
             ]
            ],
            "type": "contour"
           }
          ],
          "contourcarpet": [
           {
            "colorbar": {
             "outlinewidth": 0,
             "ticks": ""
            },
            "type": "contourcarpet"
           }
          ],
          "heatmap": [
           {
            "colorbar": {
             "outlinewidth": 0,
             "ticks": ""
            },
            "colorscale": [
             [
              0,
              "#0d0887"
             ],
             [
              0.1111111111111111,
              "#46039f"
             ],
             [
              0.2222222222222222,
              "#7201a8"
             ],
             [
              0.3333333333333333,
              "#9c179e"
             ],
             [
              0.4444444444444444,
              "#bd3786"
             ],
             [
              0.5555555555555556,
              "#d8576b"
             ],
             [
              0.6666666666666666,
              "#ed7953"
             ],
             [
              0.7777777777777778,
              "#fb9f3a"
             ],
             [
              0.8888888888888888,
              "#fdca26"
             ],
             [
              1,
              "#f0f921"
             ]
            ],
            "type": "heatmap"
           }
          ],
          "heatmapgl": [
           {
            "colorbar": {
             "outlinewidth": 0,
             "ticks": ""
            },
            "colorscale": [
             [
              0,
              "#0d0887"
             ],
             [
              0.1111111111111111,
              "#46039f"
             ],
             [
              0.2222222222222222,
              "#7201a8"
             ],
             [
              0.3333333333333333,
              "#9c179e"
             ],
             [
              0.4444444444444444,
              "#bd3786"
             ],
             [
              0.5555555555555556,
              "#d8576b"
             ],
             [
              0.6666666666666666,
              "#ed7953"
             ],
             [
              0.7777777777777778,
              "#fb9f3a"
             ],
             [
              0.8888888888888888,
              "#fdca26"
             ],
             [
              1,
              "#f0f921"
             ]
            ],
            "type": "heatmapgl"
           }
          ],
          "histogram": [
           {
            "marker": {
             "colorbar": {
              "outlinewidth": 0,
              "ticks": ""
             }
            },
            "type": "histogram"
           }
          ],
          "histogram2d": [
           {
            "colorbar": {
             "outlinewidth": 0,
             "ticks": ""
            },
            "colorscale": [
             [
              0,
              "#0d0887"
             ],
             [
              0.1111111111111111,
              "#46039f"
             ],
             [
              0.2222222222222222,
              "#7201a8"
             ],
             [
              0.3333333333333333,
              "#9c179e"
             ],
             [
              0.4444444444444444,
              "#bd3786"
             ],
             [
              0.5555555555555556,
              "#d8576b"
             ],
             [
              0.6666666666666666,
              "#ed7953"
             ],
             [
              0.7777777777777778,
              "#fb9f3a"
             ],
             [
              0.8888888888888888,
              "#fdca26"
             ],
             [
              1,
              "#f0f921"
             ]
            ],
            "type": "histogram2d"
           }
          ],
          "histogram2dcontour": [
           {
            "colorbar": {
             "outlinewidth": 0,
             "ticks": ""
            },
            "colorscale": [
             [
              0,
              "#0d0887"
             ],
             [
              0.1111111111111111,
              "#46039f"
             ],
             [
              0.2222222222222222,
              "#7201a8"
             ],
             [
              0.3333333333333333,
              "#9c179e"
             ],
             [
              0.4444444444444444,
              "#bd3786"
             ],
             [
              0.5555555555555556,
              "#d8576b"
             ],
             [
              0.6666666666666666,
              "#ed7953"
             ],
             [
              0.7777777777777778,
              "#fb9f3a"
             ],
             [
              0.8888888888888888,
              "#fdca26"
             ],
             [
              1,
              "#f0f921"
             ]
            ],
            "type": "histogram2dcontour"
           }
          ],
          "mesh3d": [
           {
            "colorbar": {
             "outlinewidth": 0,
             "ticks": ""
            },
            "type": "mesh3d"
           }
          ],
          "parcoords": [
           {
            "line": {
             "colorbar": {
              "outlinewidth": 0,
              "ticks": ""
             }
            },
            "type": "parcoords"
           }
          ],
          "scatter": [
           {
            "marker": {
             "colorbar": {
              "outlinewidth": 0,
              "ticks": ""
             }
            },
            "type": "scatter"
           }
          ],
          "scatter3d": [
           {
            "line": {
             "colorbar": {
              "outlinewidth": 0,
              "ticks": ""
             }
            },
            "marker": {
             "colorbar": {
              "outlinewidth": 0,
              "ticks": ""
             }
            },
            "type": "scatter3d"
           }
          ],
          "scattercarpet": [
           {
            "marker": {
             "colorbar": {
              "outlinewidth": 0,
              "ticks": ""
             }
            },
            "type": "scattercarpet"
           }
          ],
          "scattergeo": [
           {
            "marker": {
             "colorbar": {
              "outlinewidth": 0,
              "ticks": ""
             }
            },
            "type": "scattergeo"
           }
          ],
          "scattergl": [
           {
            "marker": {
             "colorbar": {
              "outlinewidth": 0,
              "ticks": ""
             }
            },
            "type": "scattergl"
           }
          ],
          "scattermapbox": [
           {
            "marker": {
             "colorbar": {
              "outlinewidth": 0,
              "ticks": ""
             }
            },
            "type": "scattermapbox"
           }
          ],
          "scatterpolar": [
           {
            "marker": {
             "colorbar": {
              "outlinewidth": 0,
              "ticks": ""
             }
            },
            "type": "scatterpolar"
           }
          ],
          "scatterpolargl": [
           {
            "marker": {
             "colorbar": {
              "outlinewidth": 0,
              "ticks": ""
             }
            },
            "type": "scatterpolargl"
           }
          ],
          "scatterternary": [
           {
            "marker": {
             "colorbar": {
              "outlinewidth": 0,
              "ticks": ""
             }
            },
            "type": "scatterternary"
           }
          ],
          "surface": [
           {
            "colorbar": {
             "outlinewidth": 0,
             "ticks": ""
            },
            "colorscale": [
             [
              0,
              "#0d0887"
             ],
             [
              0.1111111111111111,
              "#46039f"
             ],
             [
              0.2222222222222222,
              "#7201a8"
             ],
             [
              0.3333333333333333,
              "#9c179e"
             ],
             [
              0.4444444444444444,
              "#bd3786"
             ],
             [
              0.5555555555555556,
              "#d8576b"
             ],
             [
              0.6666666666666666,
              "#ed7953"
             ],
             [
              0.7777777777777778,
              "#fb9f3a"
             ],
             [
              0.8888888888888888,
              "#fdca26"
             ],
             [
              1,
              "#f0f921"
             ]
            ],
            "type": "surface"
           }
          ],
          "table": [
           {
            "cells": {
             "fill": {
              "color": "#EBF0F8"
             },
             "line": {
              "color": "white"
             }
            },
            "header": {
             "fill": {
              "color": "#C8D4E3"
             },
             "line": {
              "color": "white"
             }
            },
            "type": "table"
           }
          ]
         },
         "layout": {
          "annotationdefaults": {
           "arrowcolor": "#2a3f5f",
           "arrowhead": 0,
           "arrowwidth": 1
          },
          "colorscale": {
           "diverging": [
            [
             0,
             "#8e0152"
            ],
            [
             0.1,
             "#c51b7d"
            ],
            [
             0.2,
             "#de77ae"
            ],
            [
             0.3,
             "#f1b6da"
            ],
            [
             0.4,
             "#fde0ef"
            ],
            [
             0.5,
             "#f7f7f7"
            ],
            [
             0.6,
             "#e6f5d0"
            ],
            [
             0.7,
             "#b8e186"
            ],
            [
             0.8,
             "#7fbc41"
            ],
            [
             0.9,
             "#4d9221"
            ],
            [
             1,
             "#276419"
            ]
           ],
           "sequential": [
            [
             0,
             "#0d0887"
            ],
            [
             0.1111111111111111,
             "#46039f"
            ],
            [
             0.2222222222222222,
             "#7201a8"
            ],
            [
             0.3333333333333333,
             "#9c179e"
            ],
            [
             0.4444444444444444,
             "#bd3786"
            ],
            [
             0.5555555555555556,
             "#d8576b"
            ],
            [
             0.6666666666666666,
             "#ed7953"
            ],
            [
             0.7777777777777778,
             "#fb9f3a"
            ],
            [
             0.8888888888888888,
             "#fdca26"
            ],
            [
             1,
             "#f0f921"
            ]
           ],
           "sequentialminus": [
            [
             0,
             "#0d0887"
            ],
            [
             0.1111111111111111,
             "#46039f"
            ],
            [
             0.2222222222222222,
             "#7201a8"
            ],
            [
             0.3333333333333333,
             "#9c179e"
            ],
            [
             0.4444444444444444,
             "#bd3786"
            ],
            [
             0.5555555555555556,
             "#d8576b"
            ],
            [
             0.6666666666666666,
             "#ed7953"
            ],
            [
             0.7777777777777778,
             "#fb9f3a"
            ],
            [
             0.8888888888888888,
             "#fdca26"
            ],
            [
             1,
             "#f0f921"
            ]
           ]
          },
          "colorway": [
           "#636efa",
           "#EF553B",
           "#00cc96",
           "#ab63fa",
           "#FFA15A",
           "#19d3f3",
           "#FF6692",
           "#B6E880",
           "#FF97FF",
           "#FECB52"
          ],
          "font": {
           "color": "#2a3f5f"
          },
          "geo": {
           "bgcolor": "white",
           "lakecolor": "white",
           "landcolor": "#E5ECF6",
           "showlakes": true,
           "showland": true,
           "subunitcolor": "white"
          },
          "hoverlabel": {
           "align": "left"
          },
          "hovermode": "closest",
          "mapbox": {
           "style": "light"
          },
          "paper_bgcolor": "white",
          "plot_bgcolor": "#E5ECF6",
          "polar": {
           "angularaxis": {
            "gridcolor": "white",
            "linecolor": "white",
            "ticks": ""
           },
           "bgcolor": "#E5ECF6",
           "radialaxis": {
            "gridcolor": "white",
            "linecolor": "white",
            "ticks": ""
           }
          },
          "scene": {
           "xaxis": {
            "backgroundcolor": "#E5ECF6",
            "gridcolor": "white",
            "gridwidth": 2,
            "linecolor": "white",
            "showbackground": true,
            "ticks": "",
            "zerolinecolor": "white"
           },
           "yaxis": {
            "backgroundcolor": "#E5ECF6",
            "gridcolor": "white",
            "gridwidth": 2,
            "linecolor": "white",
            "showbackground": true,
            "ticks": "",
            "zerolinecolor": "white"
           },
           "zaxis": {
            "backgroundcolor": "#E5ECF6",
            "gridcolor": "white",
            "gridwidth": 2,
            "linecolor": "white",
            "showbackground": true,
            "ticks": "",
            "zerolinecolor": "white"
           }
          },
          "shapedefaults": {
           "line": {
            "color": "#2a3f5f"
           }
          },
          "ternary": {
           "aaxis": {
            "gridcolor": "white",
            "linecolor": "white",
            "ticks": ""
           },
           "baxis": {
            "gridcolor": "white",
            "linecolor": "white",
            "ticks": ""
           },
           "bgcolor": "#E5ECF6",
           "caxis": {
            "gridcolor": "white",
            "linecolor": "white",
            "ticks": ""
           }
          },
          "title": {
           "x": 0.05
          },
          "xaxis": {
           "automargin": true,
           "gridcolor": "white",
           "linecolor": "white",
           "ticks": "",
           "zerolinecolor": "white",
           "zerolinewidth": 2
          },
          "yaxis": {
           "automargin": true,
           "gridcolor": "white",
           "linecolor": "white",
           "ticks": "",
           "zerolinecolor": "white",
           "zerolinewidth": 2
          }
         }
        },
        "title": {
         "text": "tuwen:click/weighted_time_auc"
        },
        "xaxis": {
         "type": "date"
        }
       }
      },
      "text/html": [
       "<div>\n",
       "        \n",
       "        \n",
       "            <div id=\"a64c1df4-cf87-4801-9eb8-07a76b474c2f\" class=\"plotly-graph-div\" style=\"height:525px; width:100%;\"></div>\n",
       "            <script type=\"text/javascript\">\n",
       "                require([\"plotly\"], function(Plotly) {\n",
       "                    window.PLOTLYENV=window.PLOTLYENV || {};\n",
       "                    \n",
       "                if (document.getElementById(\"a64c1df4-cf87-4801-9eb8-07a76b474c2f\")) {\n",
       "                    Plotly.newPlot(\n",
       "                        'a64c1df4-cf87-4801-9eb8-07a76b474c2f',\n",
       "                        [{\"line\": {\"shape\": \"spline\", \"smoothing\": 1.0}, \"mode\": \"lines+markers\", \"name\": \"456:click/weighted_time_auc\", \"type\": \"scatter\", \"x\": [\"2019-12-11T00:00:00\", \"2019-12-11T01:00:00\", \"2019-12-11T02:00:00\", \"2019-12-11T03:00:00\", \"2019-12-11T04:00:00\", \"2019-12-11T05:00:00\", \"2019-12-11T06:00:00\", \"2019-12-11T07:00:00\", \"2019-12-11T08:00:00\", \"2019-12-11T09:00:00\", \"2019-12-11T10:00:00\", \"2019-12-11T11:00:00\", \"2019-12-11T12:00:00\", \"2019-12-11T13:00:00\", \"2019-12-11T15:00:00\", \"2019-12-11T16:00:00\", \"2019-12-11T19:00:00\", \"2019-12-11T20:00:00\", \"2019-12-11T21:00:00\", \"2019-12-11T22:00:00\", \"2019-12-11T23:00:00\", \"2019-12-12T00:00:00\", \"2019-12-12T01:00:00\", \"2019-12-12T02:00:00\", \"2019-12-12T03:00:00\", \"2019-12-12T04:00:00\", \"2019-12-12T05:00:00\", \"2019-12-12T06:00:00\", \"2019-12-12T07:00:00\", \"2019-12-12T08:00:00\", \"2019-12-12T09:00:00\", \"2019-12-12T10:00:00\", \"2019-12-12T11:00:00\", \"2019-12-12T12:00:00\", \"2019-12-12T13:00:00\", \"2019-12-12T14:00:00\", \"2019-12-12T15:00:00\", \"2019-12-12T16:00:00\", \"2019-12-12T17:00:00\", \"2019-12-12T18:00:00\", \"2019-12-12T19:00:00\", \"2019-12-12T20:00:00\", \"2019-12-12T21:00:00\", \"2019-12-12T22:00:00\", \"2019-12-12T23:00:00\", \"2019-12-13T00:00:00\", \"2019-12-13T01:00:00\", \"2019-12-13T02:00:00\", \"2019-12-13T03:00:00\", \"2019-12-13T04:00:00\", \"2019-12-13T05:00:00\", \"2019-12-13T06:00:00\", \"2019-12-13T07:00:00\", \"2019-12-13T08:00:00\", \"2019-12-13T09:00:00\", \"2019-12-13T10:00:00\", \"2019-12-13T11:00:00\", \"2019-12-13T12:00:00\", \"2019-12-13T13:00:00\", \"2019-12-13T14:00:00\", \"2019-12-13T15:00:00\", \"2019-12-13T16:00:00\", \"2019-12-13T17:00:00\", \"2019-12-13T18:00:00\", \"2019-12-13T19:00:00\", \"2019-12-13T20:00:00\", \"2019-12-13T21:00:00\", \"2019-12-13T22:00:00\", \"2019-12-13T23:00:00\", \"2019-12-14T00:00:00\", \"2019-12-14T01:00:00\", \"2019-12-14T02:00:00\", \"2019-12-14T03:00:00\", \"2019-12-14T04:00:00\", \"2019-12-14T05:00:00\", \"2019-12-14T06:00:00\", \"2019-12-14T07:00:00\", \"2019-12-14T08:00:00\", \"2019-12-14T09:00:00\", \"2019-12-14T10:00:00\", \"2019-12-14T11:00:00\", \"2019-12-14T12:00:00\", \"2019-12-14T13:00:00\", \"2019-12-14T14:00:00\", \"2019-12-14T15:00:00\", \"2019-12-14T16:00:00\", \"2019-12-14T17:00:00\", \"2019-12-14T18:00:00\", \"2019-12-14T19:00:00\", \"2019-12-14T20:00:00\", \"2019-12-14T21:00:00\", \"2019-12-14T22:00:00\", \"2019-12-14T23:00:00\", \"2019-12-15T00:00:00\", \"2019-12-15T01:00:00\", \"2019-12-15T02:00:00\", \"2019-12-15T03:00:00\", \"2019-12-15T04:00:00\", \"2019-12-15T05:00:00\", \"2019-12-15T06:00:00\", \"2019-12-15T07:00:00\", \"2019-12-15T08:00:00\", \"2019-12-15T09:00:00\", \"2019-12-15T10:00:00\", \"2019-12-15T11:00:00\", \"2019-12-15T12:00:00\", \"2019-12-15T13:00:00\", \"2019-12-15T14:00:00\", \"2019-12-15T15:00:00\", \"2019-12-15T16:00:00\", \"2019-12-15T17:00:00\", \"2019-12-15T18:00:00\", \"2019-12-15T19:00:00\", \"2019-12-15T20:00:00\", \"2019-12-15T21:00:00\", \"2019-12-15T22:00:00\", \"2019-12-16T00:00:00\"], \"y\": [0.5861728449206457, 0.5887410958788033, 0.6000083412899261, 0.6128230020047591, 0.6216872104910254, 0.6002648062902407, 0.5939967849508012, 0.6018506780893986, 0.6055357720802964, 0.5893106395225695, 0.5827105126213603, 0.5873921101746259, 0.5934323280699051, 0.59648719235721, 0.5974974751135314, 0.6030554602384223, 0.5951219583445302, 0.5917547448389782, 0.5881846779100339, 0.5899696363052908, 0.5807994769670265, 0.5843782140599366, 0.5639903409995541, 0.5812897125619583, 0.5878042501186665, 0.6025132707041598, 0.6087818428996479, 0.5991827154906537, 0.598717103641638, 0.6003942914501809, 0.5988617734587329, 0.5979213382376627, 0.6016978039498064, 0.6087749740075283, 0.604466656418375, 0.6082765220777743, 0.6088240775240397, 0.5978515997269991, 0.6014303265832691, 0.6033775003921578, 0.6037999630508026, 0.5991695215804536, 0.5993217530046508, 0.5910284861009689, 0.5761478448763805, 0.5684377117639194, 0.5677289657014579, 0.5661290512993017, 0.579235119265321, 0.5980467877561948, 0.6124173364369234, 0.6209064362425125, 0.6225447786255232, 0.6281456940266826, 0.6190969275307827, 0.5945780240945137, 0.5888521201517073, 0.5814990289527512, 0.5803917026904064, 0.5714155578830211, 0.5740880168698195, 0.5783804081170635, 0.578569946309127, 0.5825747064418251, 0.5756158366216334, 0.5745039854224658, 0.5861839962338473, 0.5695090734253028, 0.5586651709686103, 0.5530506775586872, 0.5390528545060722, 0.5515535395908355, 0.5573117539581407, 0.5629060199390367, 0.5711001019486113, 0.5797274077514056, 0.5993535406013759, 0.5899710531292088, 0.588075084402461, 0.568255116630375, 0.5765712559115816, 0.5870386143948879, 0.6021766622436701, 0.5819657879731182, 0.5770087364358034, 0.6015416550338453, 0.6006366395434549, 0.6079241157435586, 0.6145942838419587, 0.6102132526937456, 0.6195889554541925, 0.6176048498324328, 0.6137830825146454, 0.5839217014590783, 0.5838242578455219, 0.5862583259817742, 0.583592212972731, 0.5920711360972064, 0.6048003958627535, 0.6069166130853396, 0.6152321465495411, 0.6146841492954882, 0.6119731416600147, 0.6075892692461796, 0.6052196956272747, 0.6066698187369126, 0.6057863862363673, 0.6058162051680706, 0.5880586150916245, 0.5692274009028144, 0.5341638392746259, 0.5507903474604896, 0.5788244484574625, 0.5979244660956773, 0.6068487211320266, 0.6013002103647457, 0.5773739051901412]}, {\"line\": {\"shape\": \"spline\", \"smoothing\": 1.0}, \"mode\": \"lines+markers\", \"name\": \"15:click/weighted_time_auc\", \"type\": \"scatter\", \"x\": [\"2019-12-11T00:00:00\", \"2019-12-11T01:00:00\", \"2019-12-11T02:00:00\", \"2019-12-11T03:00:00\", \"2019-12-11T04:00:00\", \"2019-12-11T05:00:00\", \"2019-12-11T06:00:00\", \"2019-12-11T07:00:00\", \"2019-12-11T08:00:00\", \"2019-12-11T09:00:00\", \"2019-12-11T10:00:00\", \"2019-12-11T11:00:00\", \"2019-12-11T12:00:00\", \"2019-12-11T13:00:00\", \"2019-12-11T15:00:00\", \"2019-12-11T16:00:00\", \"2019-12-11T19:00:00\", \"2019-12-11T20:00:00\", \"2019-12-11T21:00:00\", \"2019-12-11T22:00:00\", \"2019-12-11T23:00:00\", \"2019-12-12T00:00:00\", \"2019-12-12T01:00:00\", \"2019-12-12T02:00:00\", \"2019-12-12T03:00:00\", \"2019-12-12T04:00:00\", \"2019-12-12T05:00:00\", \"2019-12-12T06:00:00\", \"2019-12-12T07:00:00\", \"2019-12-12T08:00:00\", \"2019-12-12T09:00:00\", \"2019-12-12T10:00:00\", \"2019-12-12T11:00:00\", \"2019-12-12T12:00:00\", \"2019-12-12T13:00:00\", \"2019-12-12T14:00:00\", \"2019-12-12T15:00:00\", \"2019-12-12T16:00:00\", \"2019-12-12T17:00:00\", \"2019-12-12T18:00:00\", \"2019-12-12T19:00:00\", \"2019-12-12T20:00:00\", \"2019-12-12T21:00:00\", \"2019-12-12T22:00:00\", \"2019-12-12T23:00:00\", \"2019-12-13T00:00:00\", \"2019-12-13T01:00:00\", \"2019-12-13T02:00:00\", \"2019-12-13T03:00:00\", \"2019-12-13T04:00:00\", \"2019-12-13T05:00:00\", \"2019-12-13T06:00:00\", \"2019-12-13T07:00:00\", \"2019-12-13T08:00:00\", \"2019-12-13T09:00:00\", \"2019-12-13T10:00:00\", \"2019-12-13T11:00:00\", \"2019-12-13T12:00:00\", \"2019-12-13T13:00:00\", \"2019-12-13T14:00:00\", \"2019-12-13T15:00:00\", \"2019-12-13T16:00:00\", \"2019-12-13T17:00:00\", \"2019-12-13T18:00:00\", \"2019-12-13T19:00:00\", \"2019-12-13T20:00:00\", \"2019-12-13T21:00:00\", \"2019-12-13T22:00:00\", \"2019-12-13T23:00:00\", \"2019-12-14T00:00:00\", \"2019-12-14T01:00:00\", \"2019-12-14T02:00:00\", \"2019-12-14T03:00:00\", \"2019-12-14T04:00:00\", \"2019-12-14T05:00:00\", \"2019-12-14T06:00:00\", \"2019-12-14T07:00:00\", \"2019-12-14T08:00:00\", \"2019-12-14T09:00:00\", \"2019-12-14T10:00:00\", \"2019-12-14T11:00:00\", \"2019-12-14T12:00:00\", \"2019-12-14T13:00:00\", \"2019-12-14T14:00:00\", \"2019-12-14T15:00:00\", \"2019-12-14T16:00:00\", \"2019-12-14T17:00:00\", \"2019-12-14T18:00:00\", \"2019-12-14T19:00:00\", \"2019-12-14T20:00:00\", \"2019-12-14T21:00:00\", \"2019-12-14T22:00:00\", \"2019-12-14T23:00:00\", \"2019-12-15T00:00:00\", \"2019-12-15T01:00:00\", \"2019-12-15T02:00:00\", \"2019-12-15T03:00:00\", \"2019-12-15T04:00:00\", \"2019-12-15T05:00:00\", \"2019-12-15T06:00:00\", \"2019-12-15T07:00:00\", \"2019-12-15T08:00:00\", \"2019-12-15T09:00:00\", \"2019-12-15T10:00:00\", \"2019-12-15T11:00:00\", \"2019-12-15T12:00:00\", \"2019-12-15T13:00:00\", \"2019-12-15T14:00:00\", \"2019-12-15T15:00:00\", \"2019-12-15T16:00:00\", \"2019-12-15T17:00:00\", \"2019-12-15T18:00:00\", \"2019-12-15T19:00:00\", \"2019-12-15T20:00:00\", \"2019-12-15T21:00:00\", \"2019-12-15T22:00:00\", \"2019-12-16T00:00:00\"], \"y\": [0.5647593450295856, 0.5877861719700539, 0.5905058257098816, 0.5746781739626747, 0.5894073095943585, 0.583097754687599, 0.5988355006651152, 0.6011098163386429, 0.6075752210393517, 0.6084985411979436, 0.6129825524323508, 0.6178942241725691, 0.6206160260421085, 0.6174760249409403, 0.6060733680362214, 0.6265569269380943, 0.6054484331520298, 0.5853411094373203, 0.5827639832331014, 0.5799455343282665, 0.5804069715258602, 0.5678837504360217, 0.5902991946117268, 0.5711598573383719, 0.5907465537079031, 0.5916977000345506, 0.613052339051817, 0.6001747479439242, 0.6116347116456671, 0.5978096373070263, 0.6068994846321027, 0.6072437071992164, 0.6109774415225296, 0.6284031837325674, 0.619883550225817, 0.6194423889856646, 0.6135939290379314, 0.5802866884479984, 0.5866319056366063, 0.5910894942754422, 0.5877194593173759, 0.5822927655945758, 0.5867614054864874, 0.5824328138733167, 0.5811716793423036, 0.5790016983563534, 0.5885653512581857, 0.5905913016293098, 0.5755533143650693, 0.5822243477656215, 0.5807847817901706, 0.5930066730243397, 0.6007791722018552, 0.6072530879012551, 0.6121353379256494, 0.6068057156122828, 0.5975338767390971, 0.5946316198077088, 0.5931006548245608, 0.5967607312007523, 0.5789930350758222, 0.5892234277971637, 0.5756409270362075, 0.5825008549434216, 0.5821153255040417, 0.587837096023588, 0.5679038818817752, 0.5889079040834876, 0.5848269717833466, 0.5688866632704318, 0.5670557641928053, 0.5594928176623752, 0.5800182663956513, 0.5912756869975488, 0.6007244889985626, 0.5816730840225813, 0.5916400490884557, 0.5816780674950552, 0.5784660438678655, 0.5740382927294725, 0.5735840614502739, 0.5866428296605177, 0.5820945753723026, 0.5908804419443985, 0.5826429547979479, 0.5859796331519656, 0.5842629779174647, 0.5730300670930141, 0.579002689062293, 0.5847516330652531, 0.5987318798270094, 0.5998119287163135, 0.5910076786866284, 0.5860634330222049, 0.5885310720396781, 0.5940232524580195, 0.592903889115975, 0.6099974680422803, 0.5742530921017694, 0.5756226725606878, 0.5853220246664642, 0.5625288394832174, 0.5762491443899216, 0.5781578901763219, 0.5841923849809278, 0.5864489298028371, 0.5872923019358234, 0.59009936187125, 0.5931969199506102, 0.5865738064140474, 0.5906264202618883, 0.5811819870633537, 0.5863200078281094, 0.589239605612668, 0.6032854477986153, 0.6116808344847846, 0.5955572225460402]}],\n",
       "                        {\"hovermode\": \"x\", \"template\": {\"data\": {\"bar\": [{\"error_x\": {\"color\": \"#2a3f5f\"}, \"error_y\": {\"color\": \"#2a3f5f\"}, \"marker\": {\"line\": {\"color\": \"#E5ECF6\", \"width\": 0.5}}, \"type\": \"bar\"}], \"barpolar\": [{\"marker\": {\"line\": {\"color\": \"#E5ECF6\", \"width\": 0.5}}, \"type\": \"barpolar\"}], \"carpet\": [{\"aaxis\": {\"endlinecolor\": \"#2a3f5f\", \"gridcolor\": \"white\", \"linecolor\": \"white\", \"minorgridcolor\": \"white\", \"startlinecolor\": \"#2a3f5f\"}, \"baxis\": {\"endlinecolor\": \"#2a3f5f\", \"gridcolor\": \"white\", \"linecolor\": \"white\", \"minorgridcolor\": \"white\", \"startlinecolor\": \"#2a3f5f\"}, \"type\": \"carpet\"}], \"choropleth\": [{\"colorbar\": {\"outlinewidth\": 0, \"ticks\": \"\"}, \"type\": \"choropleth\"}], \"contour\": [{\"colorbar\": {\"outlinewidth\": 0, \"ticks\": \"\"}, \"colorscale\": [[0.0, \"#0d0887\"], [0.1111111111111111, \"#46039f\"], [0.2222222222222222, \"#7201a8\"], [0.3333333333333333, \"#9c179e\"], [0.4444444444444444, \"#bd3786\"], [0.5555555555555556, \"#d8576b\"], [0.6666666666666666, \"#ed7953\"], [0.7777777777777778, \"#fb9f3a\"], [0.8888888888888888, \"#fdca26\"], [1.0, \"#f0f921\"]], \"type\": \"contour\"}], \"contourcarpet\": [{\"colorbar\": {\"outlinewidth\": 0, \"ticks\": \"\"}, \"type\": \"contourcarpet\"}], \"heatmap\": [{\"colorbar\": {\"outlinewidth\": 0, \"ticks\": \"\"}, \"colorscale\": [[0.0, \"#0d0887\"], [0.1111111111111111, \"#46039f\"], [0.2222222222222222, \"#7201a8\"], [0.3333333333333333, \"#9c179e\"], [0.4444444444444444, \"#bd3786\"], [0.5555555555555556, \"#d8576b\"], [0.6666666666666666, \"#ed7953\"], [0.7777777777777778, \"#fb9f3a\"], [0.8888888888888888, \"#fdca26\"], [1.0, \"#f0f921\"]], \"type\": \"heatmap\"}], \"heatmapgl\": [{\"colorbar\": {\"outlinewidth\": 0, \"ticks\": \"\"}, \"colorscale\": [[0.0, \"#0d0887\"], [0.1111111111111111, \"#46039f\"], [0.2222222222222222, \"#7201a8\"], [0.3333333333333333, \"#9c179e\"], [0.4444444444444444, \"#bd3786\"], [0.5555555555555556, \"#d8576b\"], [0.6666666666666666, \"#ed7953\"], [0.7777777777777778, \"#fb9f3a\"], [0.8888888888888888, \"#fdca26\"], [1.0, \"#f0f921\"]], \"type\": \"heatmapgl\"}], \"histogram\": [{\"marker\": {\"colorbar\": {\"outlinewidth\": 0, \"ticks\": \"\"}}, \"type\": \"histogram\"}], \"histogram2d\": [{\"colorbar\": {\"outlinewidth\": 0, \"ticks\": \"\"}, \"colorscale\": [[0.0, \"#0d0887\"], [0.1111111111111111, \"#46039f\"], [0.2222222222222222, \"#7201a8\"], [0.3333333333333333, \"#9c179e\"], [0.4444444444444444, \"#bd3786\"], [0.5555555555555556, \"#d8576b\"], [0.6666666666666666, \"#ed7953\"], [0.7777777777777778, \"#fb9f3a\"], [0.8888888888888888, \"#fdca26\"], [1.0, \"#f0f921\"]], \"type\": \"histogram2d\"}], \"histogram2dcontour\": [{\"colorbar\": {\"outlinewidth\": 0, \"ticks\": \"\"}, \"colorscale\": [[0.0, \"#0d0887\"], [0.1111111111111111, \"#46039f\"], [0.2222222222222222, \"#7201a8\"], [0.3333333333333333, \"#9c179e\"], [0.4444444444444444, \"#bd3786\"], [0.5555555555555556, \"#d8576b\"], [0.6666666666666666, \"#ed7953\"], [0.7777777777777778, \"#fb9f3a\"], [0.8888888888888888, \"#fdca26\"], [1.0, \"#f0f921\"]], \"type\": \"histogram2dcontour\"}], \"mesh3d\": [{\"colorbar\": {\"outlinewidth\": 0, \"ticks\": \"\"}, \"type\": \"mesh3d\"}], \"parcoords\": [{\"line\": {\"colorbar\": {\"outlinewidth\": 0, \"ticks\": \"\"}}, \"type\": \"parcoords\"}], \"scatter\": [{\"marker\": {\"colorbar\": {\"outlinewidth\": 0, \"ticks\": \"\"}}, \"type\": \"scatter\"}], \"scatter3d\": [{\"line\": {\"colorbar\": {\"outlinewidth\": 0, \"ticks\": \"\"}}, \"marker\": {\"colorbar\": {\"outlinewidth\": 0, \"ticks\": \"\"}}, \"type\": \"scatter3d\"}], \"scattercarpet\": [{\"marker\": {\"colorbar\": {\"outlinewidth\": 0, \"ticks\": \"\"}}, \"type\": \"scattercarpet\"}], \"scattergeo\": [{\"marker\": {\"colorbar\": {\"outlinewidth\": 0, \"ticks\": \"\"}}, \"type\": \"scattergeo\"}], \"scattergl\": [{\"marker\": {\"colorbar\": {\"outlinewidth\": 0, \"ticks\": \"\"}}, \"type\": \"scattergl\"}], \"scattermapbox\": [{\"marker\": {\"colorbar\": {\"outlinewidth\": 0, \"ticks\": \"\"}}, \"type\": \"scattermapbox\"}], \"scatterpolar\": [{\"marker\": {\"colorbar\": {\"outlinewidth\": 0, \"ticks\": \"\"}}, \"type\": \"scatterpolar\"}], \"scatterpolargl\": [{\"marker\": {\"colorbar\": {\"outlinewidth\": 0, \"ticks\": \"\"}}, \"type\": \"scatterpolargl\"}], \"scatterternary\": [{\"marker\": {\"colorbar\": {\"outlinewidth\": 0, \"ticks\": \"\"}}, \"type\": \"scatterternary\"}], \"surface\": [{\"colorbar\": {\"outlinewidth\": 0, \"ticks\": \"\"}, \"colorscale\": [[0.0, \"#0d0887\"], [0.1111111111111111, \"#46039f\"], [0.2222222222222222, \"#7201a8\"], [0.3333333333333333, \"#9c179e\"], [0.4444444444444444, \"#bd3786\"], [0.5555555555555556, \"#d8576b\"], [0.6666666666666666, \"#ed7953\"], [0.7777777777777778, \"#fb9f3a\"], [0.8888888888888888, \"#fdca26\"], [1.0, \"#f0f921\"]], \"type\": \"surface\"}], \"table\": [{\"cells\": {\"fill\": {\"color\": \"#EBF0F8\"}, \"line\": {\"color\": \"white\"}}, \"header\": {\"fill\": {\"color\": \"#C8D4E3\"}, \"line\": {\"color\": \"white\"}}, \"type\": \"table\"}]}, \"layout\": {\"annotationdefaults\": {\"arrowcolor\": \"#2a3f5f\", \"arrowhead\": 0, \"arrowwidth\": 1}, \"colorscale\": {\"diverging\": [[0, \"#8e0152\"], [0.1, \"#c51b7d\"], [0.2, \"#de77ae\"], [0.3, \"#f1b6da\"], [0.4, \"#fde0ef\"], [0.5, \"#f7f7f7\"], [0.6, \"#e6f5d0\"], [0.7, \"#b8e186\"], [0.8, \"#7fbc41\"], [0.9, \"#4d9221\"], [1, \"#276419\"]], \"sequential\": [[0.0, \"#0d0887\"], [0.1111111111111111, \"#46039f\"], [0.2222222222222222, \"#7201a8\"], [0.3333333333333333, \"#9c179e\"], [0.4444444444444444, \"#bd3786\"], [0.5555555555555556, \"#d8576b\"], [0.6666666666666666, \"#ed7953\"], [0.7777777777777778, \"#fb9f3a\"], [0.8888888888888888, \"#fdca26\"], [1.0, \"#f0f921\"]], \"sequentialminus\": [[0.0, \"#0d0887\"], [0.1111111111111111, \"#46039f\"], [0.2222222222222222, \"#7201a8\"], [0.3333333333333333, \"#9c179e\"], [0.4444444444444444, \"#bd3786\"], [0.5555555555555556, \"#d8576b\"], [0.6666666666666666, \"#ed7953\"], [0.7777777777777778, \"#fb9f3a\"], [0.8888888888888888, \"#fdca26\"], [1.0, \"#f0f921\"]]}, \"colorway\": [\"#636efa\", \"#EF553B\", \"#00cc96\", \"#ab63fa\", \"#FFA15A\", \"#19d3f3\", \"#FF6692\", \"#B6E880\", \"#FF97FF\", \"#FECB52\"], \"font\": {\"color\": \"#2a3f5f\"}, \"geo\": {\"bgcolor\": \"white\", \"lakecolor\": \"white\", \"landcolor\": \"#E5ECF6\", \"showlakes\": true, \"showland\": true, \"subunitcolor\": \"white\"}, \"hoverlabel\": {\"align\": \"left\"}, \"hovermode\": \"closest\", \"mapbox\": {\"style\": \"light\"}, \"paper_bgcolor\": \"white\", \"plot_bgcolor\": \"#E5ECF6\", \"polar\": {\"angularaxis\": {\"gridcolor\": \"white\", \"linecolor\": \"white\", \"ticks\": \"\"}, \"bgcolor\": \"#E5ECF6\", \"radialaxis\": {\"gridcolor\": \"white\", \"linecolor\": \"white\", \"ticks\": \"\"}}, \"scene\": {\"xaxis\": {\"backgroundcolor\": \"#E5ECF6\", \"gridcolor\": \"white\", \"gridwidth\": 2, \"linecolor\": \"white\", \"showbackground\": true, \"ticks\": \"\", \"zerolinecolor\": \"white\"}, \"yaxis\": {\"backgroundcolor\": \"#E5ECF6\", \"gridcolor\": \"white\", \"gridwidth\": 2, \"linecolor\": \"white\", \"showbackground\": true, \"ticks\": \"\", \"zerolinecolor\": \"white\"}, \"zaxis\": {\"backgroundcolor\": \"#E5ECF6\", \"gridcolor\": \"white\", \"gridwidth\": 2, \"linecolor\": \"white\", \"showbackground\": true, \"ticks\": \"\", \"zerolinecolor\": \"white\"}}, \"shapedefaults\": {\"line\": {\"color\": \"#2a3f5f\"}}, \"ternary\": {\"aaxis\": {\"gridcolor\": \"white\", \"linecolor\": \"white\", \"ticks\": \"\"}, \"baxis\": {\"gridcolor\": \"white\", \"linecolor\": \"white\", \"ticks\": \"\"}, \"bgcolor\": \"#E5ECF6\", \"caxis\": {\"gridcolor\": \"white\", \"linecolor\": \"white\", \"ticks\": \"\"}}, \"title\": {\"x\": 0.05}, \"xaxis\": {\"automargin\": true, \"gridcolor\": \"white\", \"linecolor\": \"white\", \"ticks\": \"\", \"zerolinecolor\": \"white\", \"zerolinewidth\": 2}, \"yaxis\": {\"automargin\": true, \"gridcolor\": \"white\", \"linecolor\": \"white\", \"ticks\": \"\", \"zerolinecolor\": \"white\", \"zerolinewidth\": 2}}}, \"title\": {\"text\": \"tuwen:click/weighted_time_auc\"}, \"xaxis\": {\"type\": \"date\"}},\n",
       "                        {\"responsive\": true}\n",
       "                    ).then(function(){\n",
       "                            \n",
       "var gd = document.getElementById('a64c1df4-cf87-4801-9eb8-07a76b474c2f');\n",
       "var x = new MutationObserver(function (mutations, observer) {{\n",
       "        var display = window.getComputedStyle(gd).display;\n",
       "        if (!display || display === 'none') {{\n",
       "            console.log([gd, 'removed!']);\n",
       "            Plotly.purge(gd);\n",
       "            observer.disconnect();\n",
       "        }}\n",
       "}});\n",
       "\n",
       "// Listen for the removal of the full notebook cells\n",
       "var notebookContainer = gd.closest('#notebook-container');\n",
       "if (notebookContainer) {{\n",
       "    x.observe(notebookContainer, {childList: true});\n",
       "}}\n",
       "\n",
       "// Listen for the clearing of the current output cell\n",
       "var outputEl = gd.closest('.output');\n",
       "if (outputEl) {{\n",
       "    x.observe(outputEl, {childList: true});\n",
       "}}\n",
       "\n",
       "                        })\n",
       "                };\n",
       "                });\n",
       "            </script>\n",
       "        </div>"
      ]
     },
     "metadata": {},
     "output_type": "display_data"
    }
   ],
   "source": [
    "compare(df, 'click/weighted_time_auc')"
   ]
  },
  {
   "cell_type": "code",
   "execution_count": 17,
   "metadata": {},
   "outputs": [
    {
     "data": {
      "application/vnd.plotly.v1+json": {
       "config": {
        "linkText": "Export to plot.ly",
        "plotlyServerURL": "https://plot.ly",
        "showLink": false
       },
       "data": [
        {
         "line": {
          "shape": "spline",
          "smoothing": 1
         },
         "mode": "lines+markers",
         "name": "456:group/click/weighted_time_auc",
         "type": "scatter",
         "x": [
          "2019-12-11T00:00:00",
          "2019-12-11T01:00:00",
          "2019-12-11T02:00:00",
          "2019-12-11T03:00:00",
          "2019-12-11T04:00:00",
          "2019-12-11T05:00:00",
          "2019-12-11T06:00:00",
          "2019-12-11T07:00:00",
          "2019-12-11T08:00:00",
          "2019-12-11T09:00:00",
          "2019-12-11T10:00:00",
          "2019-12-11T11:00:00",
          "2019-12-11T12:00:00",
          "2019-12-11T13:00:00",
          "2019-12-11T15:00:00",
          "2019-12-11T16:00:00",
          "2019-12-11T19:00:00",
          "2019-12-11T20:00:00",
          "2019-12-11T21:00:00",
          "2019-12-11T22:00:00",
          "2019-12-11T23:00:00",
          "2019-12-12T00:00:00",
          "2019-12-12T01:00:00",
          "2019-12-12T02:00:00",
          "2019-12-12T03:00:00",
          "2019-12-12T04:00:00",
          "2019-12-12T05:00:00",
          "2019-12-12T06:00:00",
          "2019-12-12T07:00:00",
          "2019-12-12T08:00:00",
          "2019-12-12T09:00:00",
          "2019-12-12T10:00:00",
          "2019-12-12T11:00:00",
          "2019-12-12T12:00:00",
          "2019-12-12T13:00:00",
          "2019-12-12T14:00:00",
          "2019-12-12T15:00:00",
          "2019-12-12T16:00:00",
          "2019-12-12T17:00:00",
          "2019-12-12T18:00:00",
          "2019-12-12T19:00:00",
          "2019-12-12T20:00:00",
          "2019-12-12T21:00:00",
          "2019-12-12T22:00:00",
          "2019-12-12T23:00:00",
          "2019-12-13T00:00:00",
          "2019-12-13T01:00:00",
          "2019-12-13T02:00:00",
          "2019-12-13T03:00:00",
          "2019-12-13T04:00:00",
          "2019-12-13T05:00:00",
          "2019-12-13T06:00:00",
          "2019-12-13T07:00:00",
          "2019-12-13T08:00:00",
          "2019-12-13T09:00:00",
          "2019-12-13T10:00:00",
          "2019-12-13T11:00:00",
          "2019-12-13T12:00:00",
          "2019-12-13T13:00:00",
          "2019-12-13T14:00:00",
          "2019-12-13T15:00:00",
          "2019-12-13T16:00:00",
          "2019-12-13T17:00:00",
          "2019-12-13T18:00:00",
          "2019-12-13T19:00:00",
          "2019-12-13T20:00:00",
          "2019-12-13T21:00:00",
          "2019-12-13T22:00:00",
          "2019-12-13T23:00:00",
          "2019-12-14T00:00:00",
          "2019-12-14T01:00:00",
          "2019-12-14T02:00:00",
          "2019-12-14T03:00:00",
          "2019-12-14T04:00:00",
          "2019-12-14T05:00:00",
          "2019-12-14T06:00:00",
          "2019-12-14T07:00:00",
          "2019-12-14T08:00:00",
          "2019-12-14T09:00:00",
          "2019-12-14T10:00:00",
          "2019-12-14T11:00:00",
          "2019-12-14T12:00:00",
          "2019-12-14T13:00:00",
          "2019-12-14T14:00:00",
          "2019-12-14T15:00:00",
          "2019-12-14T16:00:00",
          "2019-12-14T17:00:00",
          "2019-12-14T18:00:00",
          "2019-12-14T19:00:00",
          "2019-12-14T20:00:00",
          "2019-12-14T21:00:00",
          "2019-12-14T22:00:00",
          "2019-12-14T23:00:00",
          "2019-12-15T00:00:00",
          "2019-12-15T01:00:00",
          "2019-12-15T02:00:00",
          "2019-12-15T03:00:00",
          "2019-12-15T04:00:00",
          "2019-12-15T05:00:00",
          "2019-12-15T06:00:00",
          "2019-12-15T07:00:00",
          "2019-12-15T08:00:00",
          "2019-12-15T09:00:00",
          "2019-12-15T10:00:00",
          "2019-12-15T11:00:00",
          "2019-12-15T12:00:00",
          "2019-12-15T13:00:00",
          "2019-12-15T14:00:00",
          "2019-12-15T15:00:00",
          "2019-12-15T16:00:00",
          "2019-12-15T17:00:00",
          "2019-12-15T18:00:00",
          "2019-12-15T19:00:00",
          "2019-12-15T20:00:00",
          "2019-12-15T21:00:00",
          "2019-12-15T22:00:00",
          "2019-12-16T00:00:00"
         ],
         "y": [
          0.6668199444579477,
          0.6769239820337016,
          0.6747209697610514,
          0.6813091783574544,
          0.6768735831273626,
          0.6758209518242447,
          0.6782905222296234,
          0.6767872383268707,
          0.6777124744121059,
          0.6693111824116478,
          0.6642721688706756,
          0.6679477404465743,
          0.6694028964318859,
          0.6681321790657787,
          0.6717933446098914,
          0.6738151841098308,
          0.6745904190915551,
          0.6690499374186856,
          0.6694644501032047,
          0.6662819975567298,
          0.6570429223783355,
          0.6661594447793278,
          0.6741149157312322,
          0.6707956593564057,
          0.675571817303472,
          0.6945736354306293,
          0.6889779993138267,
          0.690242697712502,
          0.6856488620054793,
          0.6842247860530859,
          0.6799572853985232,
          0.6783519369160378,
          0.6753186082710012,
          0.6775953973853703,
          0.6768354912357177,
          0.6794503714957627,
          0.681572413583549,
          0.6720774479312894,
          0.6653472676662742,
          0.6619988874948641,
          0.6577774140144893,
          0.6530733797122099,
          0.6500764326670567,
          0.6411639650012174,
          0.6298590154269152,
          0.626047133706535,
          0.6310484141102193,
          0.6251148908468105,
          0.6401224953812896,
          0.6497173606222909,
          0.6669963310164357,
          0.6684037168220522,
          0.6748403315759663,
          0.6751077322733848,
          0.6646301104466126,
          0.6477982419181771,
          0.6386770746495996,
          0.6387373371892471,
          0.6338019151119609,
          0.6336891611074567,
          0.6401465780970155,
          0.63153616271838,
          0.6407344948515639,
          0.6431099260027797,
          0.6379548947705935,
          0.638452734001116,
          0.6382167313972669,
          0.6332672753330623,
          0.6226749419775572,
          0.6197978067214679,
          0.6232114570574996,
          0.6287416647323553,
          0.6378613637535226,
          0.6407855404943732,
          0.6525447980501391,
          0.6492572276923787,
          0.6509055215795538,
          0.6451716271961356,
          0.6429007120056471,
          0.6413269088558633,
          0.6459751911349707,
          0.6497821549834397,
          0.6569461783304297,
          0.6487382627017453,
          0.6465880210991166,
          0.6561221874952274,
          0.6622656048055204,
          0.6665316816444937,
          0.6593023016160828,
          0.6548850439743562,
          0.6625114187973145,
          0.6506237298879016,
          0.6567960169150036,
          0.6441275754308471,
          0.6401547872991986,
          0.6504879748193582,
          0.6577124862274233,
          0.6556104986059743,
          0.658606497343807,
          0.6530552540777553,
          0.6558593298777553,
          0.6583936041829122,
          0.6545652902729869,
          0.6539622631540742,
          0.6539649551533195,
          0.6544316028494279,
          0.6550666021752158,
          0.6539058249000793,
          0.6441020226219909,
          0.643302887972713,
          0.6322122961456218,
          0.6483465134786105,
          0.6478001030803338,
          0.6466560827606448,
          0.6427080176016675,
          0.6438840742400846,
          0.6531003417200703
         ]
        },
        {
         "line": {
          "shape": "spline",
          "smoothing": 1
         },
         "mode": "lines+markers",
         "name": "15:group/click/weighted_time_auc",
         "type": "scatter",
         "x": [
          "2019-12-11T00:00:00",
          "2019-12-11T01:00:00",
          "2019-12-11T02:00:00",
          "2019-12-11T03:00:00",
          "2019-12-11T04:00:00",
          "2019-12-11T05:00:00",
          "2019-12-11T06:00:00",
          "2019-12-11T07:00:00",
          "2019-12-11T08:00:00",
          "2019-12-11T09:00:00",
          "2019-12-11T10:00:00",
          "2019-12-11T11:00:00",
          "2019-12-11T12:00:00",
          "2019-12-11T13:00:00",
          "2019-12-11T15:00:00",
          "2019-12-11T16:00:00",
          "2019-12-11T19:00:00",
          "2019-12-11T20:00:00",
          "2019-12-11T21:00:00",
          "2019-12-11T22:00:00",
          "2019-12-11T23:00:00",
          "2019-12-12T00:00:00",
          "2019-12-12T01:00:00",
          "2019-12-12T02:00:00",
          "2019-12-12T03:00:00",
          "2019-12-12T04:00:00",
          "2019-12-12T05:00:00",
          "2019-12-12T06:00:00",
          "2019-12-12T07:00:00",
          "2019-12-12T08:00:00",
          "2019-12-12T09:00:00",
          "2019-12-12T10:00:00",
          "2019-12-12T11:00:00",
          "2019-12-12T12:00:00",
          "2019-12-12T13:00:00",
          "2019-12-12T14:00:00",
          "2019-12-12T15:00:00",
          "2019-12-12T16:00:00",
          "2019-12-12T17:00:00",
          "2019-12-12T18:00:00",
          "2019-12-12T19:00:00",
          "2019-12-12T20:00:00",
          "2019-12-12T21:00:00",
          "2019-12-12T22:00:00",
          "2019-12-12T23:00:00",
          "2019-12-13T00:00:00",
          "2019-12-13T01:00:00",
          "2019-12-13T02:00:00",
          "2019-12-13T03:00:00",
          "2019-12-13T04:00:00",
          "2019-12-13T05:00:00",
          "2019-12-13T06:00:00",
          "2019-12-13T07:00:00",
          "2019-12-13T08:00:00",
          "2019-12-13T09:00:00",
          "2019-12-13T10:00:00",
          "2019-12-13T11:00:00",
          "2019-12-13T12:00:00",
          "2019-12-13T13:00:00",
          "2019-12-13T14:00:00",
          "2019-12-13T15:00:00",
          "2019-12-13T16:00:00",
          "2019-12-13T17:00:00",
          "2019-12-13T18:00:00",
          "2019-12-13T19:00:00",
          "2019-12-13T20:00:00",
          "2019-12-13T21:00:00",
          "2019-12-13T22:00:00",
          "2019-12-13T23:00:00",
          "2019-12-14T00:00:00",
          "2019-12-14T01:00:00",
          "2019-12-14T02:00:00",
          "2019-12-14T03:00:00",
          "2019-12-14T04:00:00",
          "2019-12-14T05:00:00",
          "2019-12-14T06:00:00",
          "2019-12-14T07:00:00",
          "2019-12-14T08:00:00",
          "2019-12-14T09:00:00",
          "2019-12-14T10:00:00",
          "2019-12-14T11:00:00",
          "2019-12-14T12:00:00",
          "2019-12-14T13:00:00",
          "2019-12-14T14:00:00",
          "2019-12-14T15:00:00",
          "2019-12-14T16:00:00",
          "2019-12-14T17:00:00",
          "2019-12-14T18:00:00",
          "2019-12-14T19:00:00",
          "2019-12-14T20:00:00",
          "2019-12-14T21:00:00",
          "2019-12-14T22:00:00",
          "2019-12-14T23:00:00",
          "2019-12-15T00:00:00",
          "2019-12-15T01:00:00",
          "2019-12-15T02:00:00",
          "2019-12-15T03:00:00",
          "2019-12-15T04:00:00",
          "2019-12-15T05:00:00",
          "2019-12-15T06:00:00",
          "2019-12-15T07:00:00",
          "2019-12-15T08:00:00",
          "2019-12-15T09:00:00",
          "2019-12-15T10:00:00",
          "2019-12-15T11:00:00",
          "2019-12-15T12:00:00",
          "2019-12-15T13:00:00",
          "2019-12-15T14:00:00",
          "2019-12-15T15:00:00",
          "2019-12-15T16:00:00",
          "2019-12-15T17:00:00",
          "2019-12-15T18:00:00",
          "2019-12-15T19:00:00",
          "2019-12-15T20:00:00",
          "2019-12-15T21:00:00",
          "2019-12-15T22:00:00",
          "2019-12-16T00:00:00"
         ],
         "y": [
          0.6406502346811538,
          0.6522882757808932,
          0.654783104899747,
          0.6563415718543966,
          0.6617376013385864,
          0.67440950590401,
          0.6752234349221097,
          0.6619610248126006,
          0.6625929097098573,
          0.6540698075278454,
          0.6562058029415528,
          0.6626101624887581,
          0.6681404768029764,
          0.6658988788822415,
          0.660714105511091,
          0.686304984476806,
          0.6732989892826442,
          0.6505397555486723,
          0.6482834637326582,
          0.6387495643099967,
          0.6365548718232088,
          0.6201920602338402,
          0.6458834768557156,
          0.6534235206178864,
          0.6496731070036827,
          0.6419106248273481,
          0.6662556195831701,
          0.662935039014477,
          0.6696949898060562,
          0.6735298113461854,
          0.6706254212862608,
          0.6721225165011511,
          0.6723001970494358,
          0.681193620315167,
          0.669548447153745,
          0.6700107085737819,
          0.6747507915210602,
          0.668497579747859,
          0.6769588033953664,
          0.6708577251896313,
          0.6732294490350637,
          0.6666391947203036,
          0.6663417693504405,
          0.6685567710825234,
          0.6587964007600112,
          0.6477197979999482,
          0.6524666974116295,
          0.6602270125392593,
          0.6648696667806646,
          0.6647475323237393,
          0.6740330763356458,
          0.6750312364710085,
          0.6809307843207142,
          0.69251211079302,
          0.6846423285364669,
          0.6697554204935515,
          0.6624846214931137,
          0.6623733971488659,
          0.65970443011814,
          0.6536971402786144,
          0.6553431428866496,
          0.6614794701476681,
          0.6597768355758367,
          0.6604727353593715,
          0.6617549396376885,
          0.6532490755545659,
          0.647097225522651,
          0.6525444770402109,
          0.647715243802182,
          0.6472950484807231,
          0.6541989047561785,
          0.6504339241124956,
          0.6739799364930299,
          0.6690225095875204,
          0.6673286862907518,
          0.6667562047434619,
          0.6665028512287385,
          0.6634325617344423,
          0.6570812002410671,
          0.6537369036061149,
          0.6553445825272624,
          0.6605608921699884,
          0.6575403916923404,
          0.648067849152911,
          0.6444582375059851,
          0.6531970762403037,
          0.6520237916694369,
          0.6591640275153274,
          0.6695804315336494,
          0.6632438993273092,
          0.6639317448515817,
          0.6592015808312899,
          0.6410080018020445,
          0.6341732429995015,
          0.6540696561280281,
          0.6599116472058479,
          0.6681553561635547,
          0.6628026931034341,
          0.6683632649733481,
          0.6629793144054528,
          0.6674969372600277,
          0.6675539233940574,
          0.6574065570791277,
          0.6545850740865116,
          0.6573623127948096,
          0.6535459796028096,
          0.6559176138430959,
          0.6581324049229831,
          0.6563003885341379,
          0.6600496237862967,
          0.6626452716228965,
          0.6390264364782049,
          0.6534450055899783,
          0.6381912090146745,
          0.6593159029536446,
          0.6591564735795445,
          0.6752889895462166
         ]
        }
       ],
       "layout": {
        "hovermode": "x",
        "template": {
         "data": {
          "bar": [
           {
            "error_x": {
             "color": "#2a3f5f"
            },
            "error_y": {
             "color": "#2a3f5f"
            },
            "marker": {
             "line": {
              "color": "#E5ECF6",
              "width": 0.5
             }
            },
            "type": "bar"
           }
          ],
          "barpolar": [
           {
            "marker": {
             "line": {
              "color": "#E5ECF6",
              "width": 0.5
             }
            },
            "type": "barpolar"
           }
          ],
          "carpet": [
           {
            "aaxis": {
             "endlinecolor": "#2a3f5f",
             "gridcolor": "white",
             "linecolor": "white",
             "minorgridcolor": "white",
             "startlinecolor": "#2a3f5f"
            },
            "baxis": {
             "endlinecolor": "#2a3f5f",
             "gridcolor": "white",
             "linecolor": "white",
             "minorgridcolor": "white",
             "startlinecolor": "#2a3f5f"
            },
            "type": "carpet"
           }
          ],
          "choropleth": [
           {
            "colorbar": {
             "outlinewidth": 0,
             "ticks": ""
            },
            "type": "choropleth"
           }
          ],
          "contour": [
           {
            "colorbar": {
             "outlinewidth": 0,
             "ticks": ""
            },
            "colorscale": [
             [
              0,
              "#0d0887"
             ],
             [
              0.1111111111111111,
              "#46039f"
             ],
             [
              0.2222222222222222,
              "#7201a8"
             ],
             [
              0.3333333333333333,
              "#9c179e"
             ],
             [
              0.4444444444444444,
              "#bd3786"
             ],
             [
              0.5555555555555556,
              "#d8576b"
             ],
             [
              0.6666666666666666,
              "#ed7953"
             ],
             [
              0.7777777777777778,
              "#fb9f3a"
             ],
             [
              0.8888888888888888,
              "#fdca26"
             ],
             [
              1,
              "#f0f921"
             ]
            ],
            "type": "contour"
           }
          ],
          "contourcarpet": [
           {
            "colorbar": {
             "outlinewidth": 0,
             "ticks": ""
            },
            "type": "contourcarpet"
           }
          ],
          "heatmap": [
           {
            "colorbar": {
             "outlinewidth": 0,
             "ticks": ""
            },
            "colorscale": [
             [
              0,
              "#0d0887"
             ],
             [
              0.1111111111111111,
              "#46039f"
             ],
             [
              0.2222222222222222,
              "#7201a8"
             ],
             [
              0.3333333333333333,
              "#9c179e"
             ],
             [
              0.4444444444444444,
              "#bd3786"
             ],
             [
              0.5555555555555556,
              "#d8576b"
             ],
             [
              0.6666666666666666,
              "#ed7953"
             ],
             [
              0.7777777777777778,
              "#fb9f3a"
             ],
             [
              0.8888888888888888,
              "#fdca26"
             ],
             [
              1,
              "#f0f921"
             ]
            ],
            "type": "heatmap"
           }
          ],
          "heatmapgl": [
           {
            "colorbar": {
             "outlinewidth": 0,
             "ticks": ""
            },
            "colorscale": [
             [
              0,
              "#0d0887"
             ],
             [
              0.1111111111111111,
              "#46039f"
             ],
             [
              0.2222222222222222,
              "#7201a8"
             ],
             [
              0.3333333333333333,
              "#9c179e"
             ],
             [
              0.4444444444444444,
              "#bd3786"
             ],
             [
              0.5555555555555556,
              "#d8576b"
             ],
             [
              0.6666666666666666,
              "#ed7953"
             ],
             [
              0.7777777777777778,
              "#fb9f3a"
             ],
             [
              0.8888888888888888,
              "#fdca26"
             ],
             [
              1,
              "#f0f921"
             ]
            ],
            "type": "heatmapgl"
           }
          ],
          "histogram": [
           {
            "marker": {
             "colorbar": {
              "outlinewidth": 0,
              "ticks": ""
             }
            },
            "type": "histogram"
           }
          ],
          "histogram2d": [
           {
            "colorbar": {
             "outlinewidth": 0,
             "ticks": ""
            },
            "colorscale": [
             [
              0,
              "#0d0887"
             ],
             [
              0.1111111111111111,
              "#46039f"
             ],
             [
              0.2222222222222222,
              "#7201a8"
             ],
             [
              0.3333333333333333,
              "#9c179e"
             ],
             [
              0.4444444444444444,
              "#bd3786"
             ],
             [
              0.5555555555555556,
              "#d8576b"
             ],
             [
              0.6666666666666666,
              "#ed7953"
             ],
             [
              0.7777777777777778,
              "#fb9f3a"
             ],
             [
              0.8888888888888888,
              "#fdca26"
             ],
             [
              1,
              "#f0f921"
             ]
            ],
            "type": "histogram2d"
           }
          ],
          "histogram2dcontour": [
           {
            "colorbar": {
             "outlinewidth": 0,
             "ticks": ""
            },
            "colorscale": [
             [
              0,
              "#0d0887"
             ],
             [
              0.1111111111111111,
              "#46039f"
             ],
             [
              0.2222222222222222,
              "#7201a8"
             ],
             [
              0.3333333333333333,
              "#9c179e"
             ],
             [
              0.4444444444444444,
              "#bd3786"
             ],
             [
              0.5555555555555556,
              "#d8576b"
             ],
             [
              0.6666666666666666,
              "#ed7953"
             ],
             [
              0.7777777777777778,
              "#fb9f3a"
             ],
             [
              0.8888888888888888,
              "#fdca26"
             ],
             [
              1,
              "#f0f921"
             ]
            ],
            "type": "histogram2dcontour"
           }
          ],
          "mesh3d": [
           {
            "colorbar": {
             "outlinewidth": 0,
             "ticks": ""
            },
            "type": "mesh3d"
           }
          ],
          "parcoords": [
           {
            "line": {
             "colorbar": {
              "outlinewidth": 0,
              "ticks": ""
             }
            },
            "type": "parcoords"
           }
          ],
          "scatter": [
           {
            "marker": {
             "colorbar": {
              "outlinewidth": 0,
              "ticks": ""
             }
            },
            "type": "scatter"
           }
          ],
          "scatter3d": [
           {
            "line": {
             "colorbar": {
              "outlinewidth": 0,
              "ticks": ""
             }
            },
            "marker": {
             "colorbar": {
              "outlinewidth": 0,
              "ticks": ""
             }
            },
            "type": "scatter3d"
           }
          ],
          "scattercarpet": [
           {
            "marker": {
             "colorbar": {
              "outlinewidth": 0,
              "ticks": ""
             }
            },
            "type": "scattercarpet"
           }
          ],
          "scattergeo": [
           {
            "marker": {
             "colorbar": {
              "outlinewidth": 0,
              "ticks": ""
             }
            },
            "type": "scattergeo"
           }
          ],
          "scattergl": [
           {
            "marker": {
             "colorbar": {
              "outlinewidth": 0,
              "ticks": ""
             }
            },
            "type": "scattergl"
           }
          ],
          "scattermapbox": [
           {
            "marker": {
             "colorbar": {
              "outlinewidth": 0,
              "ticks": ""
             }
            },
            "type": "scattermapbox"
           }
          ],
          "scatterpolar": [
           {
            "marker": {
             "colorbar": {
              "outlinewidth": 0,
              "ticks": ""
             }
            },
            "type": "scatterpolar"
           }
          ],
          "scatterpolargl": [
           {
            "marker": {
             "colorbar": {
              "outlinewidth": 0,
              "ticks": ""
             }
            },
            "type": "scatterpolargl"
           }
          ],
          "scatterternary": [
           {
            "marker": {
             "colorbar": {
              "outlinewidth": 0,
              "ticks": ""
             }
            },
            "type": "scatterternary"
           }
          ],
          "surface": [
           {
            "colorbar": {
             "outlinewidth": 0,
             "ticks": ""
            },
            "colorscale": [
             [
              0,
              "#0d0887"
             ],
             [
              0.1111111111111111,
              "#46039f"
             ],
             [
              0.2222222222222222,
              "#7201a8"
             ],
             [
              0.3333333333333333,
              "#9c179e"
             ],
             [
              0.4444444444444444,
              "#bd3786"
             ],
             [
              0.5555555555555556,
              "#d8576b"
             ],
             [
              0.6666666666666666,
              "#ed7953"
             ],
             [
              0.7777777777777778,
              "#fb9f3a"
             ],
             [
              0.8888888888888888,
              "#fdca26"
             ],
             [
              1,
              "#f0f921"
             ]
            ],
            "type": "surface"
           }
          ],
          "table": [
           {
            "cells": {
             "fill": {
              "color": "#EBF0F8"
             },
             "line": {
              "color": "white"
             }
            },
            "header": {
             "fill": {
              "color": "#C8D4E3"
             },
             "line": {
              "color": "white"
             }
            },
            "type": "table"
           }
          ]
         },
         "layout": {
          "annotationdefaults": {
           "arrowcolor": "#2a3f5f",
           "arrowhead": 0,
           "arrowwidth": 1
          },
          "colorscale": {
           "diverging": [
            [
             0,
             "#8e0152"
            ],
            [
             0.1,
             "#c51b7d"
            ],
            [
             0.2,
             "#de77ae"
            ],
            [
             0.3,
             "#f1b6da"
            ],
            [
             0.4,
             "#fde0ef"
            ],
            [
             0.5,
             "#f7f7f7"
            ],
            [
             0.6,
             "#e6f5d0"
            ],
            [
             0.7,
             "#b8e186"
            ],
            [
             0.8,
             "#7fbc41"
            ],
            [
             0.9,
             "#4d9221"
            ],
            [
             1,
             "#276419"
            ]
           ],
           "sequential": [
            [
             0,
             "#0d0887"
            ],
            [
             0.1111111111111111,
             "#46039f"
            ],
            [
             0.2222222222222222,
             "#7201a8"
            ],
            [
             0.3333333333333333,
             "#9c179e"
            ],
            [
             0.4444444444444444,
             "#bd3786"
            ],
            [
             0.5555555555555556,
             "#d8576b"
            ],
            [
             0.6666666666666666,
             "#ed7953"
            ],
            [
             0.7777777777777778,
             "#fb9f3a"
            ],
            [
             0.8888888888888888,
             "#fdca26"
            ],
            [
             1,
             "#f0f921"
            ]
           ],
           "sequentialminus": [
            [
             0,
             "#0d0887"
            ],
            [
             0.1111111111111111,
             "#46039f"
            ],
            [
             0.2222222222222222,
             "#7201a8"
            ],
            [
             0.3333333333333333,
             "#9c179e"
            ],
            [
             0.4444444444444444,
             "#bd3786"
            ],
            [
             0.5555555555555556,
             "#d8576b"
            ],
            [
             0.6666666666666666,
             "#ed7953"
            ],
            [
             0.7777777777777778,
             "#fb9f3a"
            ],
            [
             0.8888888888888888,
             "#fdca26"
            ],
            [
             1,
             "#f0f921"
            ]
           ]
          },
          "colorway": [
           "#636efa",
           "#EF553B",
           "#00cc96",
           "#ab63fa",
           "#FFA15A",
           "#19d3f3",
           "#FF6692",
           "#B6E880",
           "#FF97FF",
           "#FECB52"
          ],
          "font": {
           "color": "#2a3f5f"
          },
          "geo": {
           "bgcolor": "white",
           "lakecolor": "white",
           "landcolor": "#E5ECF6",
           "showlakes": true,
           "showland": true,
           "subunitcolor": "white"
          },
          "hoverlabel": {
           "align": "left"
          },
          "hovermode": "closest",
          "mapbox": {
           "style": "light"
          },
          "paper_bgcolor": "white",
          "plot_bgcolor": "#E5ECF6",
          "polar": {
           "angularaxis": {
            "gridcolor": "white",
            "linecolor": "white",
            "ticks": ""
           },
           "bgcolor": "#E5ECF6",
           "radialaxis": {
            "gridcolor": "white",
            "linecolor": "white",
            "ticks": ""
           }
          },
          "scene": {
           "xaxis": {
            "backgroundcolor": "#E5ECF6",
            "gridcolor": "white",
            "gridwidth": 2,
            "linecolor": "white",
            "showbackground": true,
            "ticks": "",
            "zerolinecolor": "white"
           },
           "yaxis": {
            "backgroundcolor": "#E5ECF6",
            "gridcolor": "white",
            "gridwidth": 2,
            "linecolor": "white",
            "showbackground": true,
            "ticks": "",
            "zerolinecolor": "white"
           },
           "zaxis": {
            "backgroundcolor": "#E5ECF6",
            "gridcolor": "white",
            "gridwidth": 2,
            "linecolor": "white",
            "showbackground": true,
            "ticks": "",
            "zerolinecolor": "white"
           }
          },
          "shapedefaults": {
           "line": {
            "color": "#2a3f5f"
           }
          },
          "ternary": {
           "aaxis": {
            "gridcolor": "white",
            "linecolor": "white",
            "ticks": ""
           },
           "baxis": {
            "gridcolor": "white",
            "linecolor": "white",
            "ticks": ""
           },
           "bgcolor": "#E5ECF6",
           "caxis": {
            "gridcolor": "white",
            "linecolor": "white",
            "ticks": ""
           }
          },
          "title": {
           "x": 0.05
          },
          "xaxis": {
           "automargin": true,
           "gridcolor": "white",
           "linecolor": "white",
           "ticks": "",
           "zerolinecolor": "white",
           "zerolinewidth": 2
          },
          "yaxis": {
           "automargin": true,
           "gridcolor": "white",
           "linecolor": "white",
           "ticks": "",
           "zerolinecolor": "white",
           "zerolinewidth": 2
          }
         }
        },
        "title": {
         "text": "tuwen:group/click/weighted_time_auc"
        },
        "xaxis": {
         "type": "date"
        }
       }
      },
      "text/html": [
       "<div>\n",
       "        \n",
       "        \n",
       "            <div id=\"65a33868-5544-4948-be4a-a45177463d01\" class=\"plotly-graph-div\" style=\"height:525px; width:100%;\"></div>\n",
       "            <script type=\"text/javascript\">\n",
       "                require([\"plotly\"], function(Plotly) {\n",
       "                    window.PLOTLYENV=window.PLOTLYENV || {};\n",
       "                    \n",
       "                if (document.getElementById(\"65a33868-5544-4948-be4a-a45177463d01\")) {\n",
       "                    Plotly.newPlot(\n",
       "                        '65a33868-5544-4948-be4a-a45177463d01',\n",
       "                        [{\"line\": {\"shape\": \"spline\", \"smoothing\": 1.0}, \"mode\": \"lines+markers\", \"name\": \"456:group/click/weighted_time_auc\", \"type\": \"scatter\", \"x\": [\"2019-12-11T00:00:00\", \"2019-12-11T01:00:00\", \"2019-12-11T02:00:00\", \"2019-12-11T03:00:00\", \"2019-12-11T04:00:00\", \"2019-12-11T05:00:00\", \"2019-12-11T06:00:00\", \"2019-12-11T07:00:00\", \"2019-12-11T08:00:00\", \"2019-12-11T09:00:00\", \"2019-12-11T10:00:00\", \"2019-12-11T11:00:00\", \"2019-12-11T12:00:00\", \"2019-12-11T13:00:00\", \"2019-12-11T15:00:00\", \"2019-12-11T16:00:00\", \"2019-12-11T19:00:00\", \"2019-12-11T20:00:00\", \"2019-12-11T21:00:00\", \"2019-12-11T22:00:00\", \"2019-12-11T23:00:00\", \"2019-12-12T00:00:00\", \"2019-12-12T01:00:00\", \"2019-12-12T02:00:00\", \"2019-12-12T03:00:00\", \"2019-12-12T04:00:00\", \"2019-12-12T05:00:00\", \"2019-12-12T06:00:00\", \"2019-12-12T07:00:00\", \"2019-12-12T08:00:00\", \"2019-12-12T09:00:00\", \"2019-12-12T10:00:00\", \"2019-12-12T11:00:00\", \"2019-12-12T12:00:00\", \"2019-12-12T13:00:00\", \"2019-12-12T14:00:00\", \"2019-12-12T15:00:00\", \"2019-12-12T16:00:00\", \"2019-12-12T17:00:00\", \"2019-12-12T18:00:00\", \"2019-12-12T19:00:00\", \"2019-12-12T20:00:00\", \"2019-12-12T21:00:00\", \"2019-12-12T22:00:00\", \"2019-12-12T23:00:00\", \"2019-12-13T00:00:00\", \"2019-12-13T01:00:00\", \"2019-12-13T02:00:00\", \"2019-12-13T03:00:00\", \"2019-12-13T04:00:00\", \"2019-12-13T05:00:00\", \"2019-12-13T06:00:00\", \"2019-12-13T07:00:00\", \"2019-12-13T08:00:00\", \"2019-12-13T09:00:00\", \"2019-12-13T10:00:00\", \"2019-12-13T11:00:00\", \"2019-12-13T12:00:00\", \"2019-12-13T13:00:00\", \"2019-12-13T14:00:00\", \"2019-12-13T15:00:00\", \"2019-12-13T16:00:00\", \"2019-12-13T17:00:00\", \"2019-12-13T18:00:00\", \"2019-12-13T19:00:00\", \"2019-12-13T20:00:00\", \"2019-12-13T21:00:00\", \"2019-12-13T22:00:00\", \"2019-12-13T23:00:00\", \"2019-12-14T00:00:00\", \"2019-12-14T01:00:00\", \"2019-12-14T02:00:00\", \"2019-12-14T03:00:00\", \"2019-12-14T04:00:00\", \"2019-12-14T05:00:00\", \"2019-12-14T06:00:00\", \"2019-12-14T07:00:00\", \"2019-12-14T08:00:00\", \"2019-12-14T09:00:00\", \"2019-12-14T10:00:00\", \"2019-12-14T11:00:00\", \"2019-12-14T12:00:00\", \"2019-12-14T13:00:00\", \"2019-12-14T14:00:00\", \"2019-12-14T15:00:00\", \"2019-12-14T16:00:00\", \"2019-12-14T17:00:00\", \"2019-12-14T18:00:00\", \"2019-12-14T19:00:00\", \"2019-12-14T20:00:00\", \"2019-12-14T21:00:00\", \"2019-12-14T22:00:00\", \"2019-12-14T23:00:00\", \"2019-12-15T00:00:00\", \"2019-12-15T01:00:00\", \"2019-12-15T02:00:00\", \"2019-12-15T03:00:00\", \"2019-12-15T04:00:00\", \"2019-12-15T05:00:00\", \"2019-12-15T06:00:00\", \"2019-12-15T07:00:00\", \"2019-12-15T08:00:00\", \"2019-12-15T09:00:00\", \"2019-12-15T10:00:00\", \"2019-12-15T11:00:00\", \"2019-12-15T12:00:00\", \"2019-12-15T13:00:00\", \"2019-12-15T14:00:00\", \"2019-12-15T15:00:00\", \"2019-12-15T16:00:00\", \"2019-12-15T17:00:00\", \"2019-12-15T18:00:00\", \"2019-12-15T19:00:00\", \"2019-12-15T20:00:00\", \"2019-12-15T21:00:00\", \"2019-12-15T22:00:00\", \"2019-12-16T00:00:00\"], \"y\": [0.6668199444579477, 0.6769239820337016, 0.6747209697610514, 0.6813091783574544, 0.6768735831273626, 0.6758209518242447, 0.6782905222296234, 0.6767872383268707, 0.6777124744121059, 0.6693111824116478, 0.6642721688706756, 0.6679477404465743, 0.6694028964318859, 0.6681321790657787, 0.6717933446098914, 0.6738151841098308, 0.6745904190915551, 0.6690499374186856, 0.6694644501032047, 0.6662819975567298, 0.6570429223783355, 0.6661594447793278, 0.6741149157312322, 0.6707956593564057, 0.675571817303472, 0.6945736354306293, 0.6889779993138267, 0.690242697712502, 0.6856488620054793, 0.6842247860530859, 0.6799572853985232, 0.6783519369160378, 0.6753186082710012, 0.6775953973853703, 0.6768354912357177, 0.6794503714957627, 0.681572413583549, 0.6720774479312894, 0.6653472676662742, 0.6619988874948641, 0.6577774140144893, 0.6530733797122099, 0.6500764326670567, 0.6411639650012174, 0.6298590154269152, 0.626047133706535, 0.6310484141102193, 0.6251148908468105, 0.6401224953812896, 0.6497173606222909, 0.6669963310164357, 0.6684037168220522, 0.6748403315759663, 0.6751077322733848, 0.6646301104466126, 0.6477982419181771, 0.6386770746495996, 0.6387373371892471, 0.6338019151119609, 0.6336891611074567, 0.6401465780970155, 0.63153616271838, 0.6407344948515639, 0.6431099260027797, 0.6379548947705935, 0.638452734001116, 0.6382167313972669, 0.6332672753330623, 0.6226749419775572, 0.6197978067214679, 0.6232114570574996, 0.6287416647323553, 0.6378613637535226, 0.6407855404943732, 0.6525447980501391, 0.6492572276923787, 0.6509055215795538, 0.6451716271961356, 0.6429007120056471, 0.6413269088558633, 0.6459751911349707, 0.6497821549834397, 0.6569461783304297, 0.6487382627017453, 0.6465880210991166, 0.6561221874952274, 0.6622656048055204, 0.6665316816444937, 0.6593023016160828, 0.6548850439743562, 0.6625114187973145, 0.6506237298879016, 0.6567960169150036, 0.6441275754308471, 0.6401547872991986, 0.6504879748193582, 0.6577124862274233, 0.6556104986059743, 0.658606497343807, 0.6530552540777553, 0.6558593298777553, 0.6583936041829122, 0.6545652902729869, 0.6539622631540742, 0.6539649551533195, 0.6544316028494279, 0.6550666021752158, 0.6539058249000793, 0.6441020226219909, 0.643302887972713, 0.6322122961456218, 0.6483465134786105, 0.6478001030803338, 0.6466560827606448, 0.6427080176016675, 0.6438840742400846, 0.6531003417200703]}, {\"line\": {\"shape\": \"spline\", \"smoothing\": 1.0}, \"mode\": \"lines+markers\", \"name\": \"15:group/click/weighted_time_auc\", \"type\": \"scatter\", \"x\": [\"2019-12-11T00:00:00\", \"2019-12-11T01:00:00\", \"2019-12-11T02:00:00\", \"2019-12-11T03:00:00\", \"2019-12-11T04:00:00\", \"2019-12-11T05:00:00\", \"2019-12-11T06:00:00\", \"2019-12-11T07:00:00\", \"2019-12-11T08:00:00\", \"2019-12-11T09:00:00\", \"2019-12-11T10:00:00\", \"2019-12-11T11:00:00\", \"2019-12-11T12:00:00\", \"2019-12-11T13:00:00\", \"2019-12-11T15:00:00\", \"2019-12-11T16:00:00\", \"2019-12-11T19:00:00\", \"2019-12-11T20:00:00\", \"2019-12-11T21:00:00\", \"2019-12-11T22:00:00\", \"2019-12-11T23:00:00\", \"2019-12-12T00:00:00\", \"2019-12-12T01:00:00\", \"2019-12-12T02:00:00\", \"2019-12-12T03:00:00\", \"2019-12-12T04:00:00\", \"2019-12-12T05:00:00\", \"2019-12-12T06:00:00\", \"2019-12-12T07:00:00\", \"2019-12-12T08:00:00\", \"2019-12-12T09:00:00\", \"2019-12-12T10:00:00\", \"2019-12-12T11:00:00\", \"2019-12-12T12:00:00\", \"2019-12-12T13:00:00\", \"2019-12-12T14:00:00\", \"2019-12-12T15:00:00\", \"2019-12-12T16:00:00\", \"2019-12-12T17:00:00\", \"2019-12-12T18:00:00\", \"2019-12-12T19:00:00\", \"2019-12-12T20:00:00\", \"2019-12-12T21:00:00\", \"2019-12-12T22:00:00\", \"2019-12-12T23:00:00\", \"2019-12-13T00:00:00\", \"2019-12-13T01:00:00\", \"2019-12-13T02:00:00\", \"2019-12-13T03:00:00\", \"2019-12-13T04:00:00\", \"2019-12-13T05:00:00\", \"2019-12-13T06:00:00\", \"2019-12-13T07:00:00\", \"2019-12-13T08:00:00\", \"2019-12-13T09:00:00\", \"2019-12-13T10:00:00\", \"2019-12-13T11:00:00\", \"2019-12-13T12:00:00\", \"2019-12-13T13:00:00\", \"2019-12-13T14:00:00\", \"2019-12-13T15:00:00\", \"2019-12-13T16:00:00\", \"2019-12-13T17:00:00\", \"2019-12-13T18:00:00\", \"2019-12-13T19:00:00\", \"2019-12-13T20:00:00\", \"2019-12-13T21:00:00\", \"2019-12-13T22:00:00\", \"2019-12-13T23:00:00\", \"2019-12-14T00:00:00\", \"2019-12-14T01:00:00\", \"2019-12-14T02:00:00\", \"2019-12-14T03:00:00\", \"2019-12-14T04:00:00\", \"2019-12-14T05:00:00\", \"2019-12-14T06:00:00\", \"2019-12-14T07:00:00\", \"2019-12-14T08:00:00\", \"2019-12-14T09:00:00\", \"2019-12-14T10:00:00\", \"2019-12-14T11:00:00\", \"2019-12-14T12:00:00\", \"2019-12-14T13:00:00\", \"2019-12-14T14:00:00\", \"2019-12-14T15:00:00\", \"2019-12-14T16:00:00\", \"2019-12-14T17:00:00\", \"2019-12-14T18:00:00\", \"2019-12-14T19:00:00\", \"2019-12-14T20:00:00\", \"2019-12-14T21:00:00\", \"2019-12-14T22:00:00\", \"2019-12-14T23:00:00\", \"2019-12-15T00:00:00\", \"2019-12-15T01:00:00\", \"2019-12-15T02:00:00\", \"2019-12-15T03:00:00\", \"2019-12-15T04:00:00\", \"2019-12-15T05:00:00\", \"2019-12-15T06:00:00\", \"2019-12-15T07:00:00\", \"2019-12-15T08:00:00\", \"2019-12-15T09:00:00\", \"2019-12-15T10:00:00\", \"2019-12-15T11:00:00\", \"2019-12-15T12:00:00\", \"2019-12-15T13:00:00\", \"2019-12-15T14:00:00\", \"2019-12-15T15:00:00\", \"2019-12-15T16:00:00\", \"2019-12-15T17:00:00\", \"2019-12-15T18:00:00\", \"2019-12-15T19:00:00\", \"2019-12-15T20:00:00\", \"2019-12-15T21:00:00\", \"2019-12-15T22:00:00\", \"2019-12-16T00:00:00\"], \"y\": [0.6406502346811538, 0.6522882757808932, 0.654783104899747, 0.6563415718543966, 0.6617376013385864, 0.67440950590401, 0.6752234349221097, 0.6619610248126006, 0.6625929097098573, 0.6540698075278454, 0.6562058029415528, 0.6626101624887581, 0.6681404768029764, 0.6658988788822415, 0.660714105511091, 0.686304984476806, 0.6732989892826442, 0.6505397555486723, 0.6482834637326582, 0.6387495643099967, 0.6365548718232088, 0.6201920602338402, 0.6458834768557156, 0.6534235206178864, 0.6496731070036827, 0.6419106248273481, 0.6662556195831701, 0.662935039014477, 0.6696949898060562, 0.6735298113461854, 0.6706254212862608, 0.6721225165011511, 0.6723001970494358, 0.681193620315167, 0.669548447153745, 0.6700107085737819, 0.6747507915210602, 0.668497579747859, 0.6769588033953664, 0.6708577251896313, 0.6732294490350637, 0.6666391947203036, 0.6663417693504405, 0.6685567710825234, 0.6587964007600112, 0.6477197979999482, 0.6524666974116295, 0.6602270125392593, 0.6648696667806646, 0.6647475323237393, 0.6740330763356458, 0.6750312364710085, 0.6809307843207142, 0.69251211079302, 0.6846423285364669, 0.6697554204935515, 0.6624846214931137, 0.6623733971488659, 0.65970443011814, 0.6536971402786144, 0.6553431428866496, 0.6614794701476681, 0.6597768355758367, 0.6604727353593715, 0.6617549396376885, 0.6532490755545659, 0.647097225522651, 0.6525444770402109, 0.647715243802182, 0.6472950484807231, 0.6541989047561785, 0.6504339241124956, 0.6739799364930299, 0.6690225095875204, 0.6673286862907518, 0.6667562047434619, 0.6665028512287385, 0.6634325617344423, 0.6570812002410671, 0.6537369036061149, 0.6553445825272624, 0.6605608921699884, 0.6575403916923404, 0.648067849152911, 0.6444582375059851, 0.6531970762403037, 0.6520237916694369, 0.6591640275153274, 0.6695804315336494, 0.6632438993273092, 0.6639317448515817, 0.6592015808312899, 0.6410080018020445, 0.6341732429995015, 0.6540696561280281, 0.6599116472058479, 0.6681553561635547, 0.6628026931034341, 0.6683632649733481, 0.6629793144054528, 0.6674969372600277, 0.6675539233940574, 0.6574065570791277, 0.6545850740865116, 0.6573623127948096, 0.6535459796028096, 0.6559176138430959, 0.6581324049229831, 0.6563003885341379, 0.6600496237862967, 0.6626452716228965, 0.6390264364782049, 0.6534450055899783, 0.6381912090146745, 0.6593159029536446, 0.6591564735795445, 0.6752889895462166]}],\n",
       "                        {\"hovermode\": \"x\", \"template\": {\"data\": {\"bar\": [{\"error_x\": {\"color\": \"#2a3f5f\"}, \"error_y\": {\"color\": \"#2a3f5f\"}, \"marker\": {\"line\": {\"color\": \"#E5ECF6\", \"width\": 0.5}}, \"type\": \"bar\"}], \"barpolar\": [{\"marker\": {\"line\": {\"color\": \"#E5ECF6\", \"width\": 0.5}}, \"type\": \"barpolar\"}], \"carpet\": [{\"aaxis\": {\"endlinecolor\": \"#2a3f5f\", \"gridcolor\": \"white\", \"linecolor\": \"white\", \"minorgridcolor\": \"white\", \"startlinecolor\": \"#2a3f5f\"}, \"baxis\": {\"endlinecolor\": \"#2a3f5f\", \"gridcolor\": \"white\", \"linecolor\": \"white\", \"minorgridcolor\": \"white\", \"startlinecolor\": \"#2a3f5f\"}, \"type\": \"carpet\"}], \"choropleth\": [{\"colorbar\": {\"outlinewidth\": 0, \"ticks\": \"\"}, \"type\": \"choropleth\"}], \"contour\": [{\"colorbar\": {\"outlinewidth\": 0, \"ticks\": \"\"}, \"colorscale\": [[0.0, \"#0d0887\"], [0.1111111111111111, \"#46039f\"], [0.2222222222222222, \"#7201a8\"], [0.3333333333333333, \"#9c179e\"], [0.4444444444444444, \"#bd3786\"], [0.5555555555555556, \"#d8576b\"], [0.6666666666666666, \"#ed7953\"], [0.7777777777777778, \"#fb9f3a\"], [0.8888888888888888, \"#fdca26\"], [1.0, \"#f0f921\"]], \"type\": \"contour\"}], \"contourcarpet\": [{\"colorbar\": {\"outlinewidth\": 0, \"ticks\": \"\"}, \"type\": \"contourcarpet\"}], \"heatmap\": [{\"colorbar\": {\"outlinewidth\": 0, \"ticks\": \"\"}, \"colorscale\": [[0.0, \"#0d0887\"], [0.1111111111111111, \"#46039f\"], [0.2222222222222222, \"#7201a8\"], [0.3333333333333333, \"#9c179e\"], [0.4444444444444444, \"#bd3786\"], [0.5555555555555556, \"#d8576b\"], [0.6666666666666666, \"#ed7953\"], [0.7777777777777778, \"#fb9f3a\"], [0.8888888888888888, \"#fdca26\"], [1.0, \"#f0f921\"]], \"type\": \"heatmap\"}], \"heatmapgl\": [{\"colorbar\": {\"outlinewidth\": 0, \"ticks\": \"\"}, \"colorscale\": [[0.0, \"#0d0887\"], [0.1111111111111111, \"#46039f\"], [0.2222222222222222, \"#7201a8\"], [0.3333333333333333, \"#9c179e\"], [0.4444444444444444, \"#bd3786\"], [0.5555555555555556, \"#d8576b\"], [0.6666666666666666, \"#ed7953\"], [0.7777777777777778, \"#fb9f3a\"], [0.8888888888888888, \"#fdca26\"], [1.0, \"#f0f921\"]], \"type\": \"heatmapgl\"}], \"histogram\": [{\"marker\": {\"colorbar\": {\"outlinewidth\": 0, \"ticks\": \"\"}}, \"type\": \"histogram\"}], \"histogram2d\": [{\"colorbar\": {\"outlinewidth\": 0, \"ticks\": \"\"}, \"colorscale\": [[0.0, \"#0d0887\"], [0.1111111111111111, \"#46039f\"], [0.2222222222222222, \"#7201a8\"], [0.3333333333333333, \"#9c179e\"], [0.4444444444444444, \"#bd3786\"], [0.5555555555555556, \"#d8576b\"], [0.6666666666666666, \"#ed7953\"], [0.7777777777777778, \"#fb9f3a\"], [0.8888888888888888, \"#fdca26\"], [1.0, \"#f0f921\"]], \"type\": \"histogram2d\"}], \"histogram2dcontour\": [{\"colorbar\": {\"outlinewidth\": 0, \"ticks\": \"\"}, \"colorscale\": [[0.0, \"#0d0887\"], [0.1111111111111111, \"#46039f\"], [0.2222222222222222, \"#7201a8\"], [0.3333333333333333, \"#9c179e\"], [0.4444444444444444, \"#bd3786\"], [0.5555555555555556, \"#d8576b\"], [0.6666666666666666, \"#ed7953\"], [0.7777777777777778, \"#fb9f3a\"], [0.8888888888888888, \"#fdca26\"], [1.0, \"#f0f921\"]], \"type\": \"histogram2dcontour\"}], \"mesh3d\": [{\"colorbar\": {\"outlinewidth\": 0, \"ticks\": \"\"}, \"type\": \"mesh3d\"}], \"parcoords\": [{\"line\": {\"colorbar\": {\"outlinewidth\": 0, \"ticks\": \"\"}}, \"type\": \"parcoords\"}], \"scatter\": [{\"marker\": {\"colorbar\": {\"outlinewidth\": 0, \"ticks\": \"\"}}, \"type\": \"scatter\"}], \"scatter3d\": [{\"line\": {\"colorbar\": {\"outlinewidth\": 0, \"ticks\": \"\"}}, \"marker\": {\"colorbar\": {\"outlinewidth\": 0, \"ticks\": \"\"}}, \"type\": \"scatter3d\"}], \"scattercarpet\": [{\"marker\": {\"colorbar\": {\"outlinewidth\": 0, \"ticks\": \"\"}}, \"type\": \"scattercarpet\"}], \"scattergeo\": [{\"marker\": {\"colorbar\": {\"outlinewidth\": 0, \"ticks\": \"\"}}, \"type\": \"scattergeo\"}], \"scattergl\": [{\"marker\": {\"colorbar\": {\"outlinewidth\": 0, \"ticks\": \"\"}}, \"type\": \"scattergl\"}], \"scattermapbox\": [{\"marker\": {\"colorbar\": {\"outlinewidth\": 0, \"ticks\": \"\"}}, \"type\": \"scattermapbox\"}], \"scatterpolar\": [{\"marker\": {\"colorbar\": {\"outlinewidth\": 0, \"ticks\": \"\"}}, \"type\": \"scatterpolar\"}], \"scatterpolargl\": [{\"marker\": {\"colorbar\": {\"outlinewidth\": 0, \"ticks\": \"\"}}, \"type\": \"scatterpolargl\"}], \"scatterternary\": [{\"marker\": {\"colorbar\": {\"outlinewidth\": 0, \"ticks\": \"\"}}, \"type\": \"scatterternary\"}], \"surface\": [{\"colorbar\": {\"outlinewidth\": 0, \"ticks\": \"\"}, \"colorscale\": [[0.0, \"#0d0887\"], [0.1111111111111111, \"#46039f\"], [0.2222222222222222, \"#7201a8\"], [0.3333333333333333, \"#9c179e\"], [0.4444444444444444, \"#bd3786\"], [0.5555555555555556, \"#d8576b\"], [0.6666666666666666, \"#ed7953\"], [0.7777777777777778, \"#fb9f3a\"], [0.8888888888888888, \"#fdca26\"], [1.0, \"#f0f921\"]], \"type\": \"surface\"}], \"table\": [{\"cells\": {\"fill\": {\"color\": \"#EBF0F8\"}, \"line\": {\"color\": \"white\"}}, \"header\": {\"fill\": {\"color\": \"#C8D4E3\"}, \"line\": {\"color\": \"white\"}}, \"type\": \"table\"}]}, \"layout\": {\"annotationdefaults\": {\"arrowcolor\": \"#2a3f5f\", \"arrowhead\": 0, \"arrowwidth\": 1}, \"colorscale\": {\"diverging\": [[0, \"#8e0152\"], [0.1, \"#c51b7d\"], [0.2, \"#de77ae\"], [0.3, \"#f1b6da\"], [0.4, \"#fde0ef\"], [0.5, \"#f7f7f7\"], [0.6, \"#e6f5d0\"], [0.7, \"#b8e186\"], [0.8, \"#7fbc41\"], [0.9, \"#4d9221\"], [1, \"#276419\"]], \"sequential\": [[0.0, \"#0d0887\"], [0.1111111111111111, \"#46039f\"], [0.2222222222222222, \"#7201a8\"], [0.3333333333333333, \"#9c179e\"], [0.4444444444444444, \"#bd3786\"], [0.5555555555555556, \"#d8576b\"], [0.6666666666666666, \"#ed7953\"], [0.7777777777777778, \"#fb9f3a\"], [0.8888888888888888, \"#fdca26\"], [1.0, \"#f0f921\"]], \"sequentialminus\": [[0.0, \"#0d0887\"], [0.1111111111111111, \"#46039f\"], [0.2222222222222222, \"#7201a8\"], [0.3333333333333333, \"#9c179e\"], [0.4444444444444444, \"#bd3786\"], [0.5555555555555556, \"#d8576b\"], [0.6666666666666666, \"#ed7953\"], [0.7777777777777778, \"#fb9f3a\"], [0.8888888888888888, \"#fdca26\"], [1.0, \"#f0f921\"]]}, \"colorway\": [\"#636efa\", \"#EF553B\", \"#00cc96\", \"#ab63fa\", \"#FFA15A\", \"#19d3f3\", \"#FF6692\", \"#B6E880\", \"#FF97FF\", \"#FECB52\"], \"font\": {\"color\": \"#2a3f5f\"}, \"geo\": {\"bgcolor\": \"white\", \"lakecolor\": \"white\", \"landcolor\": \"#E5ECF6\", \"showlakes\": true, \"showland\": true, \"subunitcolor\": \"white\"}, \"hoverlabel\": {\"align\": \"left\"}, \"hovermode\": \"closest\", \"mapbox\": {\"style\": \"light\"}, \"paper_bgcolor\": \"white\", \"plot_bgcolor\": \"#E5ECF6\", \"polar\": {\"angularaxis\": {\"gridcolor\": \"white\", \"linecolor\": \"white\", \"ticks\": \"\"}, \"bgcolor\": \"#E5ECF6\", \"radialaxis\": {\"gridcolor\": \"white\", \"linecolor\": \"white\", \"ticks\": \"\"}}, \"scene\": {\"xaxis\": {\"backgroundcolor\": \"#E5ECF6\", \"gridcolor\": \"white\", \"gridwidth\": 2, \"linecolor\": \"white\", \"showbackground\": true, \"ticks\": \"\", \"zerolinecolor\": \"white\"}, \"yaxis\": {\"backgroundcolor\": \"#E5ECF6\", \"gridcolor\": \"white\", \"gridwidth\": 2, \"linecolor\": \"white\", \"showbackground\": true, \"ticks\": \"\", \"zerolinecolor\": \"white\"}, \"zaxis\": {\"backgroundcolor\": \"#E5ECF6\", \"gridcolor\": \"white\", \"gridwidth\": 2, \"linecolor\": \"white\", \"showbackground\": true, \"ticks\": \"\", \"zerolinecolor\": \"white\"}}, \"shapedefaults\": {\"line\": {\"color\": \"#2a3f5f\"}}, \"ternary\": {\"aaxis\": {\"gridcolor\": \"white\", \"linecolor\": \"white\", \"ticks\": \"\"}, \"baxis\": {\"gridcolor\": \"white\", \"linecolor\": \"white\", \"ticks\": \"\"}, \"bgcolor\": \"#E5ECF6\", \"caxis\": {\"gridcolor\": \"white\", \"linecolor\": \"white\", \"ticks\": \"\"}}, \"title\": {\"x\": 0.05}, \"xaxis\": {\"automargin\": true, \"gridcolor\": \"white\", \"linecolor\": \"white\", \"ticks\": \"\", \"zerolinecolor\": \"white\", \"zerolinewidth\": 2}, \"yaxis\": {\"automargin\": true, \"gridcolor\": \"white\", \"linecolor\": \"white\", \"ticks\": \"\", \"zerolinecolor\": \"white\", \"zerolinewidth\": 2}}}, \"title\": {\"text\": \"tuwen:group/click/weighted_time_auc\"}, \"xaxis\": {\"type\": \"date\"}},\n",
       "                        {\"responsive\": true}\n",
       "                    ).then(function(){\n",
       "                            \n",
       "var gd = document.getElementById('65a33868-5544-4948-be4a-a45177463d01');\n",
       "var x = new MutationObserver(function (mutations, observer) {{\n",
       "        var display = window.getComputedStyle(gd).display;\n",
       "        if (!display || display === 'none') {{\n",
       "            console.log([gd, 'removed!']);\n",
       "            Plotly.purge(gd);\n",
       "            observer.disconnect();\n",
       "        }}\n",
       "}});\n",
       "\n",
       "// Listen for the removal of the full notebook cells\n",
       "var notebookContainer = gd.closest('#notebook-container');\n",
       "if (notebookContainer) {{\n",
       "    x.observe(notebookContainer, {childList: true});\n",
       "}}\n",
       "\n",
       "// Listen for the clearing of the current output cell\n",
       "var outputEl = gd.closest('.output');\n",
       "if (outputEl) {{\n",
       "    x.observe(outputEl, {childList: true});\n",
       "}}\n",
       "\n",
       "                        })\n",
       "                };\n",
       "                });\n",
       "            </script>\n",
       "        </div>"
      ]
     },
     "metadata": {},
     "output_type": "display_data"
    }
   ],
   "source": [
    "compare(df, 'group/click/weighted_time_auc')"
   ]
  },
  {
   "cell_type": "code",
   "execution_count": 18,
   "metadata": {},
   "outputs": [
    {
     "data": {
      "application/vnd.plotly.v1+json": {
       "config": {
        "linkText": "Export to plot.ly",
        "plotlyServerURL": "https://plot.ly",
        "showLink": false
       },
       "data": [
        {
         "line": {
          "shape": "spline",
          "smoothing": 1
         },
         "mode": "lines+markers",
         "name": "456:group/click/top3_best",
         "type": "scatter",
         "x": [
          "2019-12-11T00:00:00",
          "2019-12-11T01:00:00",
          "2019-12-11T02:00:00",
          "2019-12-11T03:00:00",
          "2019-12-11T04:00:00",
          "2019-12-11T05:00:00",
          "2019-12-11T06:00:00",
          "2019-12-11T07:00:00",
          "2019-12-11T08:00:00",
          "2019-12-11T09:00:00",
          "2019-12-11T10:00:00",
          "2019-12-11T11:00:00",
          "2019-12-11T12:00:00",
          "2019-12-11T13:00:00",
          "2019-12-11T15:00:00",
          "2019-12-11T16:00:00",
          "2019-12-11T19:00:00",
          "2019-12-11T20:00:00",
          "2019-12-11T21:00:00",
          "2019-12-11T22:00:00",
          "2019-12-11T23:00:00",
          "2019-12-12T00:00:00",
          "2019-12-12T01:00:00",
          "2019-12-12T02:00:00",
          "2019-12-12T03:00:00",
          "2019-12-12T04:00:00",
          "2019-12-12T05:00:00",
          "2019-12-12T06:00:00",
          "2019-12-12T07:00:00",
          "2019-12-12T08:00:00",
          "2019-12-12T09:00:00",
          "2019-12-12T10:00:00",
          "2019-12-12T11:00:00",
          "2019-12-12T12:00:00",
          "2019-12-12T13:00:00",
          "2019-12-12T14:00:00",
          "2019-12-12T15:00:00",
          "2019-12-12T16:00:00",
          "2019-12-12T17:00:00",
          "2019-12-12T18:00:00",
          "2019-12-12T19:00:00",
          "2019-12-12T20:00:00",
          "2019-12-12T21:00:00",
          "2019-12-12T22:00:00",
          "2019-12-12T23:00:00",
          "2019-12-13T00:00:00",
          "2019-12-13T01:00:00",
          "2019-12-13T02:00:00",
          "2019-12-13T03:00:00",
          "2019-12-13T04:00:00",
          "2019-12-13T05:00:00",
          "2019-12-13T06:00:00",
          "2019-12-13T07:00:00",
          "2019-12-13T08:00:00",
          "2019-12-13T09:00:00",
          "2019-12-13T10:00:00",
          "2019-12-13T11:00:00",
          "2019-12-13T12:00:00",
          "2019-12-13T13:00:00",
          "2019-12-13T14:00:00",
          "2019-12-13T15:00:00",
          "2019-12-13T16:00:00",
          "2019-12-13T17:00:00",
          "2019-12-13T18:00:00",
          "2019-12-13T19:00:00",
          "2019-12-13T20:00:00",
          "2019-12-13T21:00:00",
          "2019-12-13T22:00:00",
          "2019-12-13T23:00:00",
          "2019-12-14T00:00:00",
          "2019-12-14T01:00:00",
          "2019-12-14T02:00:00",
          "2019-12-14T03:00:00",
          "2019-12-14T04:00:00",
          "2019-12-14T05:00:00",
          "2019-12-14T06:00:00",
          "2019-12-14T07:00:00",
          "2019-12-14T08:00:00",
          "2019-12-14T09:00:00",
          "2019-12-14T10:00:00",
          "2019-12-14T11:00:00",
          "2019-12-14T12:00:00",
          "2019-12-14T13:00:00",
          "2019-12-14T14:00:00",
          "2019-12-14T15:00:00",
          "2019-12-14T16:00:00",
          "2019-12-14T17:00:00",
          "2019-12-14T18:00:00",
          "2019-12-14T19:00:00",
          "2019-12-14T20:00:00",
          "2019-12-14T21:00:00",
          "2019-12-14T22:00:00",
          "2019-12-14T23:00:00",
          "2019-12-15T00:00:00",
          "2019-12-15T01:00:00",
          "2019-12-15T02:00:00",
          "2019-12-15T03:00:00",
          "2019-12-15T04:00:00",
          "2019-12-15T05:00:00",
          "2019-12-15T06:00:00",
          "2019-12-15T07:00:00",
          "2019-12-15T08:00:00",
          "2019-12-15T09:00:00",
          "2019-12-15T10:00:00",
          "2019-12-15T11:00:00",
          "2019-12-15T12:00:00",
          "2019-12-15T13:00:00",
          "2019-12-15T14:00:00",
          "2019-12-15T15:00:00",
          "2019-12-15T16:00:00",
          "2019-12-15T17:00:00",
          "2019-12-15T18:00:00",
          "2019-12-15T19:00:00",
          "2019-12-15T20:00:00",
          "2019-12-15T21:00:00",
          "2019-12-15T22:00:00",
          "2019-12-16T00:00:00"
         ],
         "y": [
          80.69277737188185,
          81.92375233553497,
          80.61085713898481,
          80.46483684758323,
          84.53327116520511,
          86.84141620088867,
          88.61210170450917,
          86.66061224819326,
          85.32786516140978,
          83.79571511238963,
          83.93242050763453,
          82.1048680533283,
          83.37950647465769,
          82.19594585432426,
          82.49552360016926,
          79.82471635251011,
          82.99595088653071,
          88.18155661006313,
          91.1513797876179,
          91.54136880352812,
          89.03710908456372,
          85.62552733247551,
          85.61267456859822,
          83.53806204100991,
          86.20888105300918,
          87.2061132181565,
          90.32887385869117,
          92.3438790348585,
          90.64724514402286,
          88.6855984711269,
          85.12840507725619,
          84.07886694249383,
          83.32529047023668,
          84.40909131562731,
          84.15413280845739,
          84.18304357924512,
          84.20864647525158,
          84.95607362938233,
          84.62753845304309,
          85.77107116922281,
          87.48055496453864,
          88.44450128000571,
          89.76960107730493,
          91.27592424728266,
          90.83708381104638,
          88.78651028365849,
          86.2447790405771,
          87.3501782828975,
          87.431776936239,
          93.0230116168542,
          97.3601773383117,
          96.2027459737665,
          98.11166607509612,
          91.86929361367714,
          92.93445109968862,
          89.97722556294167,
          86.25379222917088,
          86.3266761100016,
          85.98599861100996,
          86.2753331565933,
          85.63285407333976,
          84.44235345552246,
          84.45574696258147,
          87.0216931157616,
          89.25752915344091,
          91.93868066942845,
          92.56118444706954,
          96.01277722842443,
          95.36020271561136,
          90.45507147161153,
          89.95613857711683,
          89.02665702235868,
          89.24960155260324,
          91.00536953500462,
          97.43974361876182,
          100.04893736788515,
          99.82694325782552,
          97.13712328029257,
          93.57726811149578,
          90.16404567967999,
          89.14104601122403,
          89.47235700452423,
          90.0433706403107,
          90.59627450820682,
          90.1794719024081,
          89.82434690049811,
          89.98707827045735,
          88.93224541508039,
          87.34728560860489,
          86.41169463623532,
          85.36128731158695,
          84.00393971534501,
          83.58188676696702,
          82.56983653900502,
          86.9668790667407,
          89.17091489200239,
          95.98640001252849,
          102.17699357144497,
          106.97544507451003,
          108.57749146263984,
          105.21131818312918,
          101.77920367287294,
          96.61206398281038,
          93.21797616400903,
          90.33218352587588,
          90.062983086724,
          90.55054940984911,
          90.44000942740118,
          84.85917832966038,
          86.89925356475732,
          86.75558493981923,
          86.07960804694338,
          88.46862146145517,
          88.9977379736496,
          90.6193538101495,
          90.97913953781077,
          87.90423596104516
         ]
        },
        {
         "line": {
          "shape": "spline",
          "smoothing": 1
         },
         "mode": "lines+markers",
         "name": "15:group/click/top3_best",
         "type": "scatter",
         "x": [
          "2019-12-11T00:00:00",
          "2019-12-11T01:00:00",
          "2019-12-11T02:00:00",
          "2019-12-11T03:00:00",
          "2019-12-11T04:00:00",
          "2019-12-11T05:00:00",
          "2019-12-11T06:00:00",
          "2019-12-11T07:00:00",
          "2019-12-11T08:00:00",
          "2019-12-11T09:00:00",
          "2019-12-11T10:00:00",
          "2019-12-11T11:00:00",
          "2019-12-11T12:00:00",
          "2019-12-11T13:00:00",
          "2019-12-11T15:00:00",
          "2019-12-11T16:00:00",
          "2019-12-11T19:00:00",
          "2019-12-11T20:00:00",
          "2019-12-11T21:00:00",
          "2019-12-11T22:00:00",
          "2019-12-11T23:00:00",
          "2019-12-12T00:00:00",
          "2019-12-12T01:00:00",
          "2019-12-12T02:00:00",
          "2019-12-12T03:00:00",
          "2019-12-12T04:00:00",
          "2019-12-12T05:00:00",
          "2019-12-12T06:00:00",
          "2019-12-12T07:00:00",
          "2019-12-12T08:00:00",
          "2019-12-12T09:00:00",
          "2019-12-12T10:00:00",
          "2019-12-12T11:00:00",
          "2019-12-12T12:00:00",
          "2019-12-12T13:00:00",
          "2019-12-12T14:00:00",
          "2019-12-12T15:00:00",
          "2019-12-12T16:00:00",
          "2019-12-12T17:00:00",
          "2019-12-12T18:00:00",
          "2019-12-12T19:00:00",
          "2019-12-12T20:00:00",
          "2019-12-12T21:00:00",
          "2019-12-12T22:00:00",
          "2019-12-12T23:00:00",
          "2019-12-13T00:00:00",
          "2019-12-13T01:00:00",
          "2019-12-13T02:00:00",
          "2019-12-13T03:00:00",
          "2019-12-13T04:00:00",
          "2019-12-13T05:00:00",
          "2019-12-13T06:00:00",
          "2019-12-13T07:00:00",
          "2019-12-13T08:00:00",
          "2019-12-13T09:00:00",
          "2019-12-13T10:00:00",
          "2019-12-13T11:00:00",
          "2019-12-13T12:00:00",
          "2019-12-13T13:00:00",
          "2019-12-13T14:00:00",
          "2019-12-13T15:00:00",
          "2019-12-13T16:00:00",
          "2019-12-13T17:00:00",
          "2019-12-13T18:00:00",
          "2019-12-13T19:00:00",
          "2019-12-13T20:00:00",
          "2019-12-13T21:00:00",
          "2019-12-13T22:00:00",
          "2019-12-13T23:00:00",
          "2019-12-14T00:00:00",
          "2019-12-14T01:00:00",
          "2019-12-14T02:00:00",
          "2019-12-14T03:00:00",
          "2019-12-14T04:00:00",
          "2019-12-14T05:00:00",
          "2019-12-14T06:00:00",
          "2019-12-14T07:00:00",
          "2019-12-14T08:00:00",
          "2019-12-14T09:00:00",
          "2019-12-14T10:00:00",
          "2019-12-14T11:00:00",
          "2019-12-14T12:00:00",
          "2019-12-14T13:00:00",
          "2019-12-14T14:00:00",
          "2019-12-14T15:00:00",
          "2019-12-14T16:00:00",
          "2019-12-14T17:00:00",
          "2019-12-14T18:00:00",
          "2019-12-14T19:00:00",
          "2019-12-14T20:00:00",
          "2019-12-14T21:00:00",
          "2019-12-14T22:00:00",
          "2019-12-14T23:00:00",
          "2019-12-15T00:00:00",
          "2019-12-15T01:00:00",
          "2019-12-15T02:00:00",
          "2019-12-15T03:00:00",
          "2019-12-15T04:00:00",
          "2019-12-15T05:00:00",
          "2019-12-15T06:00:00",
          "2019-12-15T07:00:00",
          "2019-12-15T08:00:00",
          "2019-12-15T09:00:00",
          "2019-12-15T10:00:00",
          "2019-12-15T11:00:00",
          "2019-12-15T12:00:00",
          "2019-12-15T13:00:00",
          "2019-12-15T14:00:00",
          "2019-12-15T15:00:00",
          "2019-12-15T16:00:00",
          "2019-12-15T17:00:00",
          "2019-12-15T18:00:00",
          "2019-12-15T19:00:00",
          "2019-12-15T20:00:00",
          "2019-12-15T21:00:00",
          "2019-12-15T22:00:00",
          "2019-12-16T00:00:00"
         ],
         "y": [
          85.60414552833744,
          86.00470345652599,
          85.65267274951688,
          85.2374303215863,
          88.01901584448152,
          93.27431695084468,
          93.94224300239986,
          90.8526413428219,
          89.55521195485952,
          86.41646454910558,
          83.51193286334404,
          81.71207442815742,
          84.3689479344686,
          84.02780591603485,
          83.32983908287062,
          80.40162391691752,
          84.25630743279362,
          89.64777877456893,
          91.89694544484563,
          93.47005469449948,
          90.87161088957289,
          85.48471945641029,
          81.88902587888916,
          84.51714881309412,
          84.3920247827319,
          82.97334324642608,
          87.9004290016272,
          92.34667393042693,
          90.74643024852021,
          91.44801859387303,
          87.41890157130862,
          85.25892216425044,
          83.19978717253301,
          84.41704762429563,
          84.47048263057309,
          85.61630741574183,
          85.3889761299588,
          85.04911646354421,
          83.41377686458733,
          85.79470782612691,
          88.45971103950114,
          90.32247467949213,
          91.33453445753257,
          91.82587318595287,
          90.45994811789397,
          89.85653089727832,
          89.89790483801997,
          84.35959671781669,
          86.39253000411878,
          92.15635362564166,
          96.74257405009368,
          93.70116280029005,
          94.51208794890013,
          95.35579303396617,
          92.55753483623198,
          89.68037932562046,
          88.92472882750934,
          88.71616587828927,
          89.44342657858843,
          88.09563758393452,
          87.859775770901,
          86.39673463418438,
          88.30751519362413,
          90.81150063955612,
          92.48446664842265,
          94.50634226984855,
          96.76588982253497,
          94.95105867573793,
          93.95113843038442,
          90.49036641087073,
          90.00007841231684,
          87.77946697958777,
          86.17953621178872,
          89.3255684783257,
          97.08361349511215,
          96.26709444230178,
          94.0189309004387,
          91.37054043270209,
          89.35569465759959,
          88.08048249819822,
          86.88348176287171,
          87.26707616985509,
          88.5868731366775,
          87.77037699115402,
          87.75481310012653,
          86.97733719481636,
          86.20733885343103,
          86.43302741091765,
          85.09514113306066,
          85.73108763400464,
          84.33464927502399,
          83.36745442730219,
          84.15766138257135,
          81.73946543674013,
          85.21438908840543,
          87.30336247296901,
          91.07149462578445,
          95.27329482001076,
          102.13837134881032,
          104.92368216428369,
          101.71360837226509,
          99.46593820171441,
          95.37504693105953,
          90.70495353028352,
          88.19194076170689,
          88.92514971345221,
          87.91556707929998,
          88.44546726837717,
          84.36094773517252,
          87.42886684247726,
          85.96162828867705,
          84.59883670872924,
          87.69185407512668,
          86.97866412013306,
          87.27171902177946,
          88.86542973469604,
          84.77743441892852
         ]
        }
       ],
       "layout": {
        "hovermode": "x",
        "template": {
         "data": {
          "bar": [
           {
            "error_x": {
             "color": "#2a3f5f"
            },
            "error_y": {
             "color": "#2a3f5f"
            },
            "marker": {
             "line": {
              "color": "#E5ECF6",
              "width": 0.5
             }
            },
            "type": "bar"
           }
          ],
          "barpolar": [
           {
            "marker": {
             "line": {
              "color": "#E5ECF6",
              "width": 0.5
             }
            },
            "type": "barpolar"
           }
          ],
          "carpet": [
           {
            "aaxis": {
             "endlinecolor": "#2a3f5f",
             "gridcolor": "white",
             "linecolor": "white",
             "minorgridcolor": "white",
             "startlinecolor": "#2a3f5f"
            },
            "baxis": {
             "endlinecolor": "#2a3f5f",
             "gridcolor": "white",
             "linecolor": "white",
             "minorgridcolor": "white",
             "startlinecolor": "#2a3f5f"
            },
            "type": "carpet"
           }
          ],
          "choropleth": [
           {
            "colorbar": {
             "outlinewidth": 0,
             "ticks": ""
            },
            "type": "choropleth"
           }
          ],
          "contour": [
           {
            "colorbar": {
             "outlinewidth": 0,
             "ticks": ""
            },
            "colorscale": [
             [
              0,
              "#0d0887"
             ],
             [
              0.1111111111111111,
              "#46039f"
             ],
             [
              0.2222222222222222,
              "#7201a8"
             ],
             [
              0.3333333333333333,
              "#9c179e"
             ],
             [
              0.4444444444444444,
              "#bd3786"
             ],
             [
              0.5555555555555556,
              "#d8576b"
             ],
             [
              0.6666666666666666,
              "#ed7953"
             ],
             [
              0.7777777777777778,
              "#fb9f3a"
             ],
             [
              0.8888888888888888,
              "#fdca26"
             ],
             [
              1,
              "#f0f921"
             ]
            ],
            "type": "contour"
           }
          ],
          "contourcarpet": [
           {
            "colorbar": {
             "outlinewidth": 0,
             "ticks": ""
            },
            "type": "contourcarpet"
           }
          ],
          "heatmap": [
           {
            "colorbar": {
             "outlinewidth": 0,
             "ticks": ""
            },
            "colorscale": [
             [
              0,
              "#0d0887"
             ],
             [
              0.1111111111111111,
              "#46039f"
             ],
             [
              0.2222222222222222,
              "#7201a8"
             ],
             [
              0.3333333333333333,
              "#9c179e"
             ],
             [
              0.4444444444444444,
              "#bd3786"
             ],
             [
              0.5555555555555556,
              "#d8576b"
             ],
             [
              0.6666666666666666,
              "#ed7953"
             ],
             [
              0.7777777777777778,
              "#fb9f3a"
             ],
             [
              0.8888888888888888,
              "#fdca26"
             ],
             [
              1,
              "#f0f921"
             ]
            ],
            "type": "heatmap"
           }
          ],
          "heatmapgl": [
           {
            "colorbar": {
             "outlinewidth": 0,
             "ticks": ""
            },
            "colorscale": [
             [
              0,
              "#0d0887"
             ],
             [
              0.1111111111111111,
              "#46039f"
             ],
             [
              0.2222222222222222,
              "#7201a8"
             ],
             [
              0.3333333333333333,
              "#9c179e"
             ],
             [
              0.4444444444444444,
              "#bd3786"
             ],
             [
              0.5555555555555556,
              "#d8576b"
             ],
             [
              0.6666666666666666,
              "#ed7953"
             ],
             [
              0.7777777777777778,
              "#fb9f3a"
             ],
             [
              0.8888888888888888,
              "#fdca26"
             ],
             [
              1,
              "#f0f921"
             ]
            ],
            "type": "heatmapgl"
           }
          ],
          "histogram": [
           {
            "marker": {
             "colorbar": {
              "outlinewidth": 0,
              "ticks": ""
             }
            },
            "type": "histogram"
           }
          ],
          "histogram2d": [
           {
            "colorbar": {
             "outlinewidth": 0,
             "ticks": ""
            },
            "colorscale": [
             [
              0,
              "#0d0887"
             ],
             [
              0.1111111111111111,
              "#46039f"
             ],
             [
              0.2222222222222222,
              "#7201a8"
             ],
             [
              0.3333333333333333,
              "#9c179e"
             ],
             [
              0.4444444444444444,
              "#bd3786"
             ],
             [
              0.5555555555555556,
              "#d8576b"
             ],
             [
              0.6666666666666666,
              "#ed7953"
             ],
             [
              0.7777777777777778,
              "#fb9f3a"
             ],
             [
              0.8888888888888888,
              "#fdca26"
             ],
             [
              1,
              "#f0f921"
             ]
            ],
            "type": "histogram2d"
           }
          ],
          "histogram2dcontour": [
           {
            "colorbar": {
             "outlinewidth": 0,
             "ticks": ""
            },
            "colorscale": [
             [
              0,
              "#0d0887"
             ],
             [
              0.1111111111111111,
              "#46039f"
             ],
             [
              0.2222222222222222,
              "#7201a8"
             ],
             [
              0.3333333333333333,
              "#9c179e"
             ],
             [
              0.4444444444444444,
              "#bd3786"
             ],
             [
              0.5555555555555556,
              "#d8576b"
             ],
             [
              0.6666666666666666,
              "#ed7953"
             ],
             [
              0.7777777777777778,
              "#fb9f3a"
             ],
             [
              0.8888888888888888,
              "#fdca26"
             ],
             [
              1,
              "#f0f921"
             ]
            ],
            "type": "histogram2dcontour"
           }
          ],
          "mesh3d": [
           {
            "colorbar": {
             "outlinewidth": 0,
             "ticks": ""
            },
            "type": "mesh3d"
           }
          ],
          "parcoords": [
           {
            "line": {
             "colorbar": {
              "outlinewidth": 0,
              "ticks": ""
             }
            },
            "type": "parcoords"
           }
          ],
          "scatter": [
           {
            "marker": {
             "colorbar": {
              "outlinewidth": 0,
              "ticks": ""
             }
            },
            "type": "scatter"
           }
          ],
          "scatter3d": [
           {
            "line": {
             "colorbar": {
              "outlinewidth": 0,
              "ticks": ""
             }
            },
            "marker": {
             "colorbar": {
              "outlinewidth": 0,
              "ticks": ""
             }
            },
            "type": "scatter3d"
           }
          ],
          "scattercarpet": [
           {
            "marker": {
             "colorbar": {
              "outlinewidth": 0,
              "ticks": ""
             }
            },
            "type": "scattercarpet"
           }
          ],
          "scattergeo": [
           {
            "marker": {
             "colorbar": {
              "outlinewidth": 0,
              "ticks": ""
             }
            },
            "type": "scattergeo"
           }
          ],
          "scattergl": [
           {
            "marker": {
             "colorbar": {
              "outlinewidth": 0,
              "ticks": ""
             }
            },
            "type": "scattergl"
           }
          ],
          "scattermapbox": [
           {
            "marker": {
             "colorbar": {
              "outlinewidth": 0,
              "ticks": ""
             }
            },
            "type": "scattermapbox"
           }
          ],
          "scatterpolar": [
           {
            "marker": {
             "colorbar": {
              "outlinewidth": 0,
              "ticks": ""
             }
            },
            "type": "scatterpolar"
           }
          ],
          "scatterpolargl": [
           {
            "marker": {
             "colorbar": {
              "outlinewidth": 0,
              "ticks": ""
             }
            },
            "type": "scatterpolargl"
           }
          ],
          "scatterternary": [
           {
            "marker": {
             "colorbar": {
              "outlinewidth": 0,
              "ticks": ""
             }
            },
            "type": "scatterternary"
           }
          ],
          "surface": [
           {
            "colorbar": {
             "outlinewidth": 0,
             "ticks": ""
            },
            "colorscale": [
             [
              0,
              "#0d0887"
             ],
             [
              0.1111111111111111,
              "#46039f"
             ],
             [
              0.2222222222222222,
              "#7201a8"
             ],
             [
              0.3333333333333333,
              "#9c179e"
             ],
             [
              0.4444444444444444,
              "#bd3786"
             ],
             [
              0.5555555555555556,
              "#d8576b"
             ],
             [
              0.6666666666666666,
              "#ed7953"
             ],
             [
              0.7777777777777778,
              "#fb9f3a"
             ],
             [
              0.8888888888888888,
              "#fdca26"
             ],
             [
              1,
              "#f0f921"
             ]
            ],
            "type": "surface"
           }
          ],
          "table": [
           {
            "cells": {
             "fill": {
              "color": "#EBF0F8"
             },
             "line": {
              "color": "white"
             }
            },
            "header": {
             "fill": {
              "color": "#C8D4E3"
             },
             "line": {
              "color": "white"
             }
            },
            "type": "table"
           }
          ]
         },
         "layout": {
          "annotationdefaults": {
           "arrowcolor": "#2a3f5f",
           "arrowhead": 0,
           "arrowwidth": 1
          },
          "colorscale": {
           "diverging": [
            [
             0,
             "#8e0152"
            ],
            [
             0.1,
             "#c51b7d"
            ],
            [
             0.2,
             "#de77ae"
            ],
            [
             0.3,
             "#f1b6da"
            ],
            [
             0.4,
             "#fde0ef"
            ],
            [
             0.5,
             "#f7f7f7"
            ],
            [
             0.6,
             "#e6f5d0"
            ],
            [
             0.7,
             "#b8e186"
            ],
            [
             0.8,
             "#7fbc41"
            ],
            [
             0.9,
             "#4d9221"
            ],
            [
             1,
             "#276419"
            ]
           ],
           "sequential": [
            [
             0,
             "#0d0887"
            ],
            [
             0.1111111111111111,
             "#46039f"
            ],
            [
             0.2222222222222222,
             "#7201a8"
            ],
            [
             0.3333333333333333,
             "#9c179e"
            ],
            [
             0.4444444444444444,
             "#bd3786"
            ],
            [
             0.5555555555555556,
             "#d8576b"
            ],
            [
             0.6666666666666666,
             "#ed7953"
            ],
            [
             0.7777777777777778,
             "#fb9f3a"
            ],
            [
             0.8888888888888888,
             "#fdca26"
            ],
            [
             1,
             "#f0f921"
            ]
           ],
           "sequentialminus": [
            [
             0,
             "#0d0887"
            ],
            [
             0.1111111111111111,
             "#46039f"
            ],
            [
             0.2222222222222222,
             "#7201a8"
            ],
            [
             0.3333333333333333,
             "#9c179e"
            ],
            [
             0.4444444444444444,
             "#bd3786"
            ],
            [
             0.5555555555555556,
             "#d8576b"
            ],
            [
             0.6666666666666666,
             "#ed7953"
            ],
            [
             0.7777777777777778,
             "#fb9f3a"
            ],
            [
             0.8888888888888888,
             "#fdca26"
            ],
            [
             1,
             "#f0f921"
            ]
           ]
          },
          "colorway": [
           "#636efa",
           "#EF553B",
           "#00cc96",
           "#ab63fa",
           "#FFA15A",
           "#19d3f3",
           "#FF6692",
           "#B6E880",
           "#FF97FF",
           "#FECB52"
          ],
          "font": {
           "color": "#2a3f5f"
          },
          "geo": {
           "bgcolor": "white",
           "lakecolor": "white",
           "landcolor": "#E5ECF6",
           "showlakes": true,
           "showland": true,
           "subunitcolor": "white"
          },
          "hoverlabel": {
           "align": "left"
          },
          "hovermode": "closest",
          "mapbox": {
           "style": "light"
          },
          "paper_bgcolor": "white",
          "plot_bgcolor": "#E5ECF6",
          "polar": {
           "angularaxis": {
            "gridcolor": "white",
            "linecolor": "white",
            "ticks": ""
           },
           "bgcolor": "#E5ECF6",
           "radialaxis": {
            "gridcolor": "white",
            "linecolor": "white",
            "ticks": ""
           }
          },
          "scene": {
           "xaxis": {
            "backgroundcolor": "#E5ECF6",
            "gridcolor": "white",
            "gridwidth": 2,
            "linecolor": "white",
            "showbackground": true,
            "ticks": "",
            "zerolinecolor": "white"
           },
           "yaxis": {
            "backgroundcolor": "#E5ECF6",
            "gridcolor": "white",
            "gridwidth": 2,
            "linecolor": "white",
            "showbackground": true,
            "ticks": "",
            "zerolinecolor": "white"
           },
           "zaxis": {
            "backgroundcolor": "#E5ECF6",
            "gridcolor": "white",
            "gridwidth": 2,
            "linecolor": "white",
            "showbackground": true,
            "ticks": "",
            "zerolinecolor": "white"
           }
          },
          "shapedefaults": {
           "line": {
            "color": "#2a3f5f"
           }
          },
          "ternary": {
           "aaxis": {
            "gridcolor": "white",
            "linecolor": "white",
            "ticks": ""
           },
           "baxis": {
            "gridcolor": "white",
            "linecolor": "white",
            "ticks": ""
           },
           "bgcolor": "#E5ECF6",
           "caxis": {
            "gridcolor": "white",
            "linecolor": "white",
            "ticks": ""
           }
          },
          "title": {
           "x": 0.05
          },
          "xaxis": {
           "automargin": true,
           "gridcolor": "white",
           "linecolor": "white",
           "ticks": "",
           "zerolinecolor": "white",
           "zerolinewidth": 2
          },
          "yaxis": {
           "automargin": true,
           "gridcolor": "white",
           "linecolor": "white",
           "ticks": "",
           "zerolinecolor": "white",
           "zerolinewidth": 2
          }
         }
        },
        "title": {
         "text": "tuwen:group/click/top3_best"
        },
        "xaxis": {
         "type": "date"
        }
       }
      },
      "text/html": [
       "<div>\n",
       "        \n",
       "        \n",
       "            <div id=\"dfe2b398-cb3d-4dc5-8fac-5d2795f612af\" class=\"plotly-graph-div\" style=\"height:525px; width:100%;\"></div>\n",
       "            <script type=\"text/javascript\">\n",
       "                require([\"plotly\"], function(Plotly) {\n",
       "                    window.PLOTLYENV=window.PLOTLYENV || {};\n",
       "                    \n",
       "                if (document.getElementById(\"dfe2b398-cb3d-4dc5-8fac-5d2795f612af\")) {\n",
       "                    Plotly.newPlot(\n",
       "                        'dfe2b398-cb3d-4dc5-8fac-5d2795f612af',\n",
       "                        [{\"line\": {\"shape\": \"spline\", \"smoothing\": 1.0}, \"mode\": \"lines+markers\", \"name\": \"456:group/click/top3_best\", \"type\": \"scatter\", \"x\": [\"2019-12-11T00:00:00\", \"2019-12-11T01:00:00\", \"2019-12-11T02:00:00\", \"2019-12-11T03:00:00\", \"2019-12-11T04:00:00\", \"2019-12-11T05:00:00\", \"2019-12-11T06:00:00\", \"2019-12-11T07:00:00\", \"2019-12-11T08:00:00\", \"2019-12-11T09:00:00\", \"2019-12-11T10:00:00\", \"2019-12-11T11:00:00\", \"2019-12-11T12:00:00\", \"2019-12-11T13:00:00\", \"2019-12-11T15:00:00\", \"2019-12-11T16:00:00\", \"2019-12-11T19:00:00\", \"2019-12-11T20:00:00\", \"2019-12-11T21:00:00\", \"2019-12-11T22:00:00\", \"2019-12-11T23:00:00\", \"2019-12-12T00:00:00\", \"2019-12-12T01:00:00\", \"2019-12-12T02:00:00\", \"2019-12-12T03:00:00\", \"2019-12-12T04:00:00\", \"2019-12-12T05:00:00\", \"2019-12-12T06:00:00\", \"2019-12-12T07:00:00\", \"2019-12-12T08:00:00\", \"2019-12-12T09:00:00\", \"2019-12-12T10:00:00\", \"2019-12-12T11:00:00\", \"2019-12-12T12:00:00\", \"2019-12-12T13:00:00\", \"2019-12-12T14:00:00\", \"2019-12-12T15:00:00\", \"2019-12-12T16:00:00\", \"2019-12-12T17:00:00\", \"2019-12-12T18:00:00\", \"2019-12-12T19:00:00\", \"2019-12-12T20:00:00\", \"2019-12-12T21:00:00\", \"2019-12-12T22:00:00\", \"2019-12-12T23:00:00\", \"2019-12-13T00:00:00\", \"2019-12-13T01:00:00\", \"2019-12-13T02:00:00\", \"2019-12-13T03:00:00\", \"2019-12-13T04:00:00\", \"2019-12-13T05:00:00\", \"2019-12-13T06:00:00\", \"2019-12-13T07:00:00\", \"2019-12-13T08:00:00\", \"2019-12-13T09:00:00\", \"2019-12-13T10:00:00\", \"2019-12-13T11:00:00\", \"2019-12-13T12:00:00\", \"2019-12-13T13:00:00\", \"2019-12-13T14:00:00\", \"2019-12-13T15:00:00\", \"2019-12-13T16:00:00\", \"2019-12-13T17:00:00\", \"2019-12-13T18:00:00\", \"2019-12-13T19:00:00\", \"2019-12-13T20:00:00\", \"2019-12-13T21:00:00\", \"2019-12-13T22:00:00\", \"2019-12-13T23:00:00\", \"2019-12-14T00:00:00\", \"2019-12-14T01:00:00\", \"2019-12-14T02:00:00\", \"2019-12-14T03:00:00\", \"2019-12-14T04:00:00\", \"2019-12-14T05:00:00\", \"2019-12-14T06:00:00\", \"2019-12-14T07:00:00\", \"2019-12-14T08:00:00\", \"2019-12-14T09:00:00\", \"2019-12-14T10:00:00\", \"2019-12-14T11:00:00\", \"2019-12-14T12:00:00\", \"2019-12-14T13:00:00\", \"2019-12-14T14:00:00\", \"2019-12-14T15:00:00\", \"2019-12-14T16:00:00\", \"2019-12-14T17:00:00\", \"2019-12-14T18:00:00\", \"2019-12-14T19:00:00\", \"2019-12-14T20:00:00\", \"2019-12-14T21:00:00\", \"2019-12-14T22:00:00\", \"2019-12-14T23:00:00\", \"2019-12-15T00:00:00\", \"2019-12-15T01:00:00\", \"2019-12-15T02:00:00\", \"2019-12-15T03:00:00\", \"2019-12-15T04:00:00\", \"2019-12-15T05:00:00\", \"2019-12-15T06:00:00\", \"2019-12-15T07:00:00\", \"2019-12-15T08:00:00\", \"2019-12-15T09:00:00\", \"2019-12-15T10:00:00\", \"2019-12-15T11:00:00\", \"2019-12-15T12:00:00\", \"2019-12-15T13:00:00\", \"2019-12-15T14:00:00\", \"2019-12-15T15:00:00\", \"2019-12-15T16:00:00\", \"2019-12-15T17:00:00\", \"2019-12-15T18:00:00\", \"2019-12-15T19:00:00\", \"2019-12-15T20:00:00\", \"2019-12-15T21:00:00\", \"2019-12-15T22:00:00\", \"2019-12-16T00:00:00\"], \"y\": [80.69277737188185, 81.92375233553497, 80.61085713898481, 80.46483684758323, 84.53327116520511, 86.84141620088867, 88.61210170450917, 86.66061224819326, 85.32786516140978, 83.79571511238963, 83.93242050763453, 82.1048680533283, 83.37950647465769, 82.19594585432426, 82.49552360016926, 79.82471635251011, 82.99595088653071, 88.18155661006313, 91.1513797876179, 91.54136880352812, 89.03710908456372, 85.62552733247551, 85.61267456859822, 83.53806204100991, 86.20888105300918, 87.2061132181565, 90.32887385869117, 92.3438790348585, 90.64724514402286, 88.6855984711269, 85.12840507725619, 84.07886694249383, 83.32529047023668, 84.40909131562731, 84.15413280845739, 84.18304357924512, 84.20864647525158, 84.95607362938233, 84.62753845304309, 85.77107116922281, 87.48055496453864, 88.44450128000571, 89.76960107730493, 91.27592424728266, 90.83708381104638, 88.78651028365849, 86.2447790405771, 87.3501782828975, 87.431776936239, 93.0230116168542, 97.3601773383117, 96.2027459737665, 98.11166607509612, 91.86929361367714, 92.93445109968862, 89.97722556294167, 86.25379222917088, 86.3266761100016, 85.98599861100996, 86.2753331565933, 85.63285407333976, 84.44235345552246, 84.45574696258147, 87.0216931157616, 89.25752915344091, 91.93868066942845, 92.56118444706954, 96.01277722842443, 95.36020271561136, 90.45507147161153, 89.95613857711683, 89.02665702235868, 89.24960155260324, 91.00536953500462, 97.43974361876182, 100.04893736788515, 99.82694325782552, 97.13712328029257, 93.57726811149578, 90.16404567967999, 89.14104601122403, 89.47235700452423, 90.0433706403107, 90.59627450820682, 90.1794719024081, 89.82434690049811, 89.98707827045735, 88.93224541508039, 87.34728560860489, 86.41169463623532, 85.36128731158695, 84.00393971534501, 83.58188676696702, 82.56983653900502, 86.9668790667407, 89.17091489200239, 95.98640001252849, 102.17699357144497, 106.97544507451003, 108.57749146263984, 105.21131818312918, 101.77920367287294, 96.61206398281038, 93.21797616400903, 90.33218352587588, 90.062983086724, 90.55054940984911, 90.44000942740118, 84.85917832966038, 86.89925356475732, 86.75558493981923, 86.07960804694338, 88.46862146145517, 88.9977379736496, 90.6193538101495, 90.97913953781077, 87.90423596104516]}, {\"line\": {\"shape\": \"spline\", \"smoothing\": 1.0}, \"mode\": \"lines+markers\", \"name\": \"15:group/click/top3_best\", \"type\": \"scatter\", \"x\": [\"2019-12-11T00:00:00\", \"2019-12-11T01:00:00\", \"2019-12-11T02:00:00\", \"2019-12-11T03:00:00\", \"2019-12-11T04:00:00\", \"2019-12-11T05:00:00\", \"2019-12-11T06:00:00\", \"2019-12-11T07:00:00\", \"2019-12-11T08:00:00\", \"2019-12-11T09:00:00\", \"2019-12-11T10:00:00\", \"2019-12-11T11:00:00\", \"2019-12-11T12:00:00\", \"2019-12-11T13:00:00\", \"2019-12-11T15:00:00\", \"2019-12-11T16:00:00\", \"2019-12-11T19:00:00\", \"2019-12-11T20:00:00\", \"2019-12-11T21:00:00\", \"2019-12-11T22:00:00\", \"2019-12-11T23:00:00\", \"2019-12-12T00:00:00\", \"2019-12-12T01:00:00\", \"2019-12-12T02:00:00\", \"2019-12-12T03:00:00\", \"2019-12-12T04:00:00\", \"2019-12-12T05:00:00\", \"2019-12-12T06:00:00\", \"2019-12-12T07:00:00\", \"2019-12-12T08:00:00\", \"2019-12-12T09:00:00\", \"2019-12-12T10:00:00\", \"2019-12-12T11:00:00\", \"2019-12-12T12:00:00\", \"2019-12-12T13:00:00\", \"2019-12-12T14:00:00\", \"2019-12-12T15:00:00\", \"2019-12-12T16:00:00\", \"2019-12-12T17:00:00\", \"2019-12-12T18:00:00\", \"2019-12-12T19:00:00\", \"2019-12-12T20:00:00\", \"2019-12-12T21:00:00\", \"2019-12-12T22:00:00\", \"2019-12-12T23:00:00\", \"2019-12-13T00:00:00\", \"2019-12-13T01:00:00\", \"2019-12-13T02:00:00\", \"2019-12-13T03:00:00\", \"2019-12-13T04:00:00\", \"2019-12-13T05:00:00\", \"2019-12-13T06:00:00\", \"2019-12-13T07:00:00\", \"2019-12-13T08:00:00\", \"2019-12-13T09:00:00\", \"2019-12-13T10:00:00\", \"2019-12-13T11:00:00\", \"2019-12-13T12:00:00\", \"2019-12-13T13:00:00\", \"2019-12-13T14:00:00\", \"2019-12-13T15:00:00\", \"2019-12-13T16:00:00\", \"2019-12-13T17:00:00\", \"2019-12-13T18:00:00\", \"2019-12-13T19:00:00\", \"2019-12-13T20:00:00\", \"2019-12-13T21:00:00\", \"2019-12-13T22:00:00\", \"2019-12-13T23:00:00\", \"2019-12-14T00:00:00\", \"2019-12-14T01:00:00\", \"2019-12-14T02:00:00\", \"2019-12-14T03:00:00\", \"2019-12-14T04:00:00\", \"2019-12-14T05:00:00\", \"2019-12-14T06:00:00\", \"2019-12-14T07:00:00\", \"2019-12-14T08:00:00\", \"2019-12-14T09:00:00\", \"2019-12-14T10:00:00\", \"2019-12-14T11:00:00\", \"2019-12-14T12:00:00\", \"2019-12-14T13:00:00\", \"2019-12-14T14:00:00\", \"2019-12-14T15:00:00\", \"2019-12-14T16:00:00\", \"2019-12-14T17:00:00\", \"2019-12-14T18:00:00\", \"2019-12-14T19:00:00\", \"2019-12-14T20:00:00\", \"2019-12-14T21:00:00\", \"2019-12-14T22:00:00\", \"2019-12-14T23:00:00\", \"2019-12-15T00:00:00\", \"2019-12-15T01:00:00\", \"2019-12-15T02:00:00\", \"2019-12-15T03:00:00\", \"2019-12-15T04:00:00\", \"2019-12-15T05:00:00\", \"2019-12-15T06:00:00\", \"2019-12-15T07:00:00\", \"2019-12-15T08:00:00\", \"2019-12-15T09:00:00\", \"2019-12-15T10:00:00\", \"2019-12-15T11:00:00\", \"2019-12-15T12:00:00\", \"2019-12-15T13:00:00\", \"2019-12-15T14:00:00\", \"2019-12-15T15:00:00\", \"2019-12-15T16:00:00\", \"2019-12-15T17:00:00\", \"2019-12-15T18:00:00\", \"2019-12-15T19:00:00\", \"2019-12-15T20:00:00\", \"2019-12-15T21:00:00\", \"2019-12-15T22:00:00\", \"2019-12-16T00:00:00\"], \"y\": [85.60414552833744, 86.00470345652599, 85.65267274951688, 85.2374303215863, 88.01901584448152, 93.27431695084468, 93.94224300239986, 90.8526413428219, 89.55521195485952, 86.41646454910558, 83.51193286334404, 81.71207442815742, 84.3689479344686, 84.02780591603485, 83.32983908287062, 80.40162391691752, 84.25630743279362, 89.64777877456893, 91.89694544484563, 93.47005469449948, 90.87161088957289, 85.48471945641029, 81.88902587888916, 84.51714881309412, 84.3920247827319, 82.97334324642608, 87.9004290016272, 92.34667393042693, 90.74643024852021, 91.44801859387303, 87.41890157130862, 85.25892216425044, 83.19978717253301, 84.41704762429563, 84.47048263057309, 85.61630741574183, 85.3889761299588, 85.04911646354421, 83.41377686458733, 85.79470782612691, 88.45971103950114, 90.32247467949213, 91.33453445753257, 91.82587318595287, 90.45994811789397, 89.85653089727832, 89.89790483801997, 84.35959671781669, 86.39253000411878, 92.15635362564166, 96.74257405009368, 93.70116280029005, 94.51208794890013, 95.35579303396617, 92.55753483623198, 89.68037932562046, 88.92472882750934, 88.71616587828927, 89.44342657858843, 88.09563758393452, 87.859775770901, 86.39673463418438, 88.30751519362413, 90.81150063955612, 92.48446664842265, 94.50634226984855, 96.76588982253497, 94.95105867573793, 93.95113843038442, 90.49036641087073, 90.00007841231684, 87.77946697958777, 86.17953621178872, 89.3255684783257, 97.08361349511215, 96.26709444230178, 94.0189309004387, 91.37054043270209, 89.35569465759959, 88.08048249819822, 86.88348176287171, 87.26707616985509, 88.5868731366775, 87.77037699115402, 87.75481310012653, 86.97733719481636, 86.20733885343103, 86.43302741091765, 85.09514113306066, 85.73108763400464, 84.33464927502399, 83.36745442730219, 84.15766138257135, 81.73946543674013, 85.21438908840543, 87.30336247296901, 91.07149462578445, 95.27329482001076, 102.13837134881032, 104.92368216428369, 101.71360837226509, 99.46593820171441, 95.37504693105953, 90.70495353028352, 88.19194076170689, 88.92514971345221, 87.91556707929998, 88.44546726837717, 84.36094773517252, 87.42886684247726, 85.96162828867705, 84.59883670872924, 87.69185407512668, 86.97866412013306, 87.27171902177946, 88.86542973469604, 84.77743441892852]}],\n",
       "                        {\"hovermode\": \"x\", \"template\": {\"data\": {\"bar\": [{\"error_x\": {\"color\": \"#2a3f5f\"}, \"error_y\": {\"color\": \"#2a3f5f\"}, \"marker\": {\"line\": {\"color\": \"#E5ECF6\", \"width\": 0.5}}, \"type\": \"bar\"}], \"barpolar\": [{\"marker\": {\"line\": {\"color\": \"#E5ECF6\", \"width\": 0.5}}, \"type\": \"barpolar\"}], \"carpet\": [{\"aaxis\": {\"endlinecolor\": \"#2a3f5f\", \"gridcolor\": \"white\", \"linecolor\": \"white\", \"minorgridcolor\": \"white\", \"startlinecolor\": \"#2a3f5f\"}, \"baxis\": {\"endlinecolor\": \"#2a3f5f\", \"gridcolor\": \"white\", \"linecolor\": \"white\", \"minorgridcolor\": \"white\", \"startlinecolor\": \"#2a3f5f\"}, \"type\": \"carpet\"}], \"choropleth\": [{\"colorbar\": {\"outlinewidth\": 0, \"ticks\": \"\"}, \"type\": \"choropleth\"}], \"contour\": [{\"colorbar\": {\"outlinewidth\": 0, \"ticks\": \"\"}, \"colorscale\": [[0.0, \"#0d0887\"], [0.1111111111111111, \"#46039f\"], [0.2222222222222222, \"#7201a8\"], [0.3333333333333333, \"#9c179e\"], [0.4444444444444444, \"#bd3786\"], [0.5555555555555556, \"#d8576b\"], [0.6666666666666666, \"#ed7953\"], [0.7777777777777778, \"#fb9f3a\"], [0.8888888888888888, \"#fdca26\"], [1.0, \"#f0f921\"]], \"type\": \"contour\"}], \"contourcarpet\": [{\"colorbar\": {\"outlinewidth\": 0, \"ticks\": \"\"}, \"type\": \"contourcarpet\"}], \"heatmap\": [{\"colorbar\": {\"outlinewidth\": 0, \"ticks\": \"\"}, \"colorscale\": [[0.0, \"#0d0887\"], [0.1111111111111111, \"#46039f\"], [0.2222222222222222, \"#7201a8\"], [0.3333333333333333, \"#9c179e\"], [0.4444444444444444, \"#bd3786\"], [0.5555555555555556, \"#d8576b\"], [0.6666666666666666, \"#ed7953\"], [0.7777777777777778, \"#fb9f3a\"], [0.8888888888888888, \"#fdca26\"], [1.0, \"#f0f921\"]], \"type\": \"heatmap\"}], \"heatmapgl\": [{\"colorbar\": {\"outlinewidth\": 0, \"ticks\": \"\"}, \"colorscale\": [[0.0, \"#0d0887\"], [0.1111111111111111, \"#46039f\"], [0.2222222222222222, \"#7201a8\"], [0.3333333333333333, \"#9c179e\"], [0.4444444444444444, \"#bd3786\"], [0.5555555555555556, \"#d8576b\"], [0.6666666666666666, \"#ed7953\"], [0.7777777777777778, \"#fb9f3a\"], [0.8888888888888888, \"#fdca26\"], [1.0, \"#f0f921\"]], \"type\": \"heatmapgl\"}], \"histogram\": [{\"marker\": {\"colorbar\": {\"outlinewidth\": 0, \"ticks\": \"\"}}, \"type\": \"histogram\"}], \"histogram2d\": [{\"colorbar\": {\"outlinewidth\": 0, \"ticks\": \"\"}, \"colorscale\": [[0.0, \"#0d0887\"], [0.1111111111111111, \"#46039f\"], [0.2222222222222222, \"#7201a8\"], [0.3333333333333333, \"#9c179e\"], [0.4444444444444444, \"#bd3786\"], [0.5555555555555556, \"#d8576b\"], [0.6666666666666666, \"#ed7953\"], [0.7777777777777778, \"#fb9f3a\"], [0.8888888888888888, \"#fdca26\"], [1.0, \"#f0f921\"]], \"type\": \"histogram2d\"}], \"histogram2dcontour\": [{\"colorbar\": {\"outlinewidth\": 0, \"ticks\": \"\"}, \"colorscale\": [[0.0, \"#0d0887\"], [0.1111111111111111, \"#46039f\"], [0.2222222222222222, \"#7201a8\"], [0.3333333333333333, \"#9c179e\"], [0.4444444444444444, \"#bd3786\"], [0.5555555555555556, \"#d8576b\"], [0.6666666666666666, \"#ed7953\"], [0.7777777777777778, \"#fb9f3a\"], [0.8888888888888888, \"#fdca26\"], [1.0, \"#f0f921\"]], \"type\": \"histogram2dcontour\"}], \"mesh3d\": [{\"colorbar\": {\"outlinewidth\": 0, \"ticks\": \"\"}, \"type\": \"mesh3d\"}], \"parcoords\": [{\"line\": {\"colorbar\": {\"outlinewidth\": 0, \"ticks\": \"\"}}, \"type\": \"parcoords\"}], \"scatter\": [{\"marker\": {\"colorbar\": {\"outlinewidth\": 0, \"ticks\": \"\"}}, \"type\": \"scatter\"}], \"scatter3d\": [{\"line\": {\"colorbar\": {\"outlinewidth\": 0, \"ticks\": \"\"}}, \"marker\": {\"colorbar\": {\"outlinewidth\": 0, \"ticks\": \"\"}}, \"type\": \"scatter3d\"}], \"scattercarpet\": [{\"marker\": {\"colorbar\": {\"outlinewidth\": 0, \"ticks\": \"\"}}, \"type\": \"scattercarpet\"}], \"scattergeo\": [{\"marker\": {\"colorbar\": {\"outlinewidth\": 0, \"ticks\": \"\"}}, \"type\": \"scattergeo\"}], \"scattergl\": [{\"marker\": {\"colorbar\": {\"outlinewidth\": 0, \"ticks\": \"\"}}, \"type\": \"scattergl\"}], \"scattermapbox\": [{\"marker\": {\"colorbar\": {\"outlinewidth\": 0, \"ticks\": \"\"}}, \"type\": \"scattermapbox\"}], \"scatterpolar\": [{\"marker\": {\"colorbar\": {\"outlinewidth\": 0, \"ticks\": \"\"}}, \"type\": \"scatterpolar\"}], \"scatterpolargl\": [{\"marker\": {\"colorbar\": {\"outlinewidth\": 0, \"ticks\": \"\"}}, \"type\": \"scatterpolargl\"}], \"scatterternary\": [{\"marker\": {\"colorbar\": {\"outlinewidth\": 0, \"ticks\": \"\"}}, \"type\": \"scatterternary\"}], \"surface\": [{\"colorbar\": {\"outlinewidth\": 0, \"ticks\": \"\"}, \"colorscale\": [[0.0, \"#0d0887\"], [0.1111111111111111, \"#46039f\"], [0.2222222222222222, \"#7201a8\"], [0.3333333333333333, \"#9c179e\"], [0.4444444444444444, \"#bd3786\"], [0.5555555555555556, \"#d8576b\"], [0.6666666666666666, \"#ed7953\"], [0.7777777777777778, \"#fb9f3a\"], [0.8888888888888888, \"#fdca26\"], [1.0, \"#f0f921\"]], \"type\": \"surface\"}], \"table\": [{\"cells\": {\"fill\": {\"color\": \"#EBF0F8\"}, \"line\": {\"color\": \"white\"}}, \"header\": {\"fill\": {\"color\": \"#C8D4E3\"}, \"line\": {\"color\": \"white\"}}, \"type\": \"table\"}]}, \"layout\": {\"annotationdefaults\": {\"arrowcolor\": \"#2a3f5f\", \"arrowhead\": 0, \"arrowwidth\": 1}, \"colorscale\": {\"diverging\": [[0, \"#8e0152\"], [0.1, \"#c51b7d\"], [0.2, \"#de77ae\"], [0.3, \"#f1b6da\"], [0.4, \"#fde0ef\"], [0.5, \"#f7f7f7\"], [0.6, \"#e6f5d0\"], [0.7, \"#b8e186\"], [0.8, \"#7fbc41\"], [0.9, \"#4d9221\"], [1, \"#276419\"]], \"sequential\": [[0.0, \"#0d0887\"], [0.1111111111111111, \"#46039f\"], [0.2222222222222222, \"#7201a8\"], [0.3333333333333333, \"#9c179e\"], [0.4444444444444444, \"#bd3786\"], [0.5555555555555556, \"#d8576b\"], [0.6666666666666666, \"#ed7953\"], [0.7777777777777778, \"#fb9f3a\"], [0.8888888888888888, \"#fdca26\"], [1.0, \"#f0f921\"]], \"sequentialminus\": [[0.0, \"#0d0887\"], [0.1111111111111111, \"#46039f\"], [0.2222222222222222, \"#7201a8\"], [0.3333333333333333, \"#9c179e\"], [0.4444444444444444, \"#bd3786\"], [0.5555555555555556, \"#d8576b\"], [0.6666666666666666, \"#ed7953\"], [0.7777777777777778, \"#fb9f3a\"], [0.8888888888888888, \"#fdca26\"], [1.0, \"#f0f921\"]]}, \"colorway\": [\"#636efa\", \"#EF553B\", \"#00cc96\", \"#ab63fa\", \"#FFA15A\", \"#19d3f3\", \"#FF6692\", \"#B6E880\", \"#FF97FF\", \"#FECB52\"], \"font\": {\"color\": \"#2a3f5f\"}, \"geo\": {\"bgcolor\": \"white\", \"lakecolor\": \"white\", \"landcolor\": \"#E5ECF6\", \"showlakes\": true, \"showland\": true, \"subunitcolor\": \"white\"}, \"hoverlabel\": {\"align\": \"left\"}, \"hovermode\": \"closest\", \"mapbox\": {\"style\": \"light\"}, \"paper_bgcolor\": \"white\", \"plot_bgcolor\": \"#E5ECF6\", \"polar\": {\"angularaxis\": {\"gridcolor\": \"white\", \"linecolor\": \"white\", \"ticks\": \"\"}, \"bgcolor\": \"#E5ECF6\", \"radialaxis\": {\"gridcolor\": \"white\", \"linecolor\": \"white\", \"ticks\": \"\"}}, \"scene\": {\"xaxis\": {\"backgroundcolor\": \"#E5ECF6\", \"gridcolor\": \"white\", \"gridwidth\": 2, \"linecolor\": \"white\", \"showbackground\": true, \"ticks\": \"\", \"zerolinecolor\": \"white\"}, \"yaxis\": {\"backgroundcolor\": \"#E5ECF6\", \"gridcolor\": \"white\", \"gridwidth\": 2, \"linecolor\": \"white\", \"showbackground\": true, \"ticks\": \"\", \"zerolinecolor\": \"white\"}, \"zaxis\": {\"backgroundcolor\": \"#E5ECF6\", \"gridcolor\": \"white\", \"gridwidth\": 2, \"linecolor\": \"white\", \"showbackground\": true, \"ticks\": \"\", \"zerolinecolor\": \"white\"}}, \"shapedefaults\": {\"line\": {\"color\": \"#2a3f5f\"}}, \"ternary\": {\"aaxis\": {\"gridcolor\": \"white\", \"linecolor\": \"white\", \"ticks\": \"\"}, \"baxis\": {\"gridcolor\": \"white\", \"linecolor\": \"white\", \"ticks\": \"\"}, \"bgcolor\": \"#E5ECF6\", \"caxis\": {\"gridcolor\": \"white\", \"linecolor\": \"white\", \"ticks\": \"\"}}, \"title\": {\"x\": 0.05}, \"xaxis\": {\"automargin\": true, \"gridcolor\": \"white\", \"linecolor\": \"white\", \"ticks\": \"\", \"zerolinecolor\": \"white\", \"zerolinewidth\": 2}, \"yaxis\": {\"automargin\": true, \"gridcolor\": \"white\", \"linecolor\": \"white\", \"ticks\": \"\", \"zerolinecolor\": \"white\", \"zerolinewidth\": 2}}}, \"title\": {\"text\": \"tuwen:group/click/top3_best\"}, \"xaxis\": {\"type\": \"date\"}},\n",
       "                        {\"responsive\": true}\n",
       "                    ).then(function(){\n",
       "                            \n",
       "var gd = document.getElementById('dfe2b398-cb3d-4dc5-8fac-5d2795f612af');\n",
       "var x = new MutationObserver(function (mutations, observer) {{\n",
       "        var display = window.getComputedStyle(gd).display;\n",
       "        if (!display || display === 'none') {{\n",
       "            console.log([gd, 'removed!']);\n",
       "            Plotly.purge(gd);\n",
       "            observer.disconnect();\n",
       "        }}\n",
       "}});\n",
       "\n",
       "// Listen for the removal of the full notebook cells\n",
       "var notebookContainer = gd.closest('#notebook-container');\n",
       "if (notebookContainer) {{\n",
       "    x.observe(notebookContainer, {childList: true});\n",
       "}}\n",
       "\n",
       "// Listen for the clearing of the current output cell\n",
       "var outputEl = gd.closest('.output');\n",
       "if (outputEl) {{\n",
       "    x.observe(outputEl, {childList: true});\n",
       "}}\n",
       "\n",
       "                        })\n",
       "                };\n",
       "                });\n",
       "            </script>\n",
       "        </div>"
      ]
     },
     "metadata": {},
     "output_type": "display_data"
    }
   ],
   "source": [
    "compare(df, 'group/click/top3_best')"
   ]
  },
  {
   "cell_type": "code",
   "execution_count": 19,
   "metadata": {},
   "outputs": [
    {
     "data": {
      "application/vnd.plotly.v1+json": {
       "config": {
        "linkText": "Export to plot.ly",
        "plotlyServerURL": "https://plot.ly",
        "showLink": false
       },
       "data": [
        {
         "line": {
          "shape": "spline",
          "smoothing": 1
         },
         "mode": "lines+markers",
         "name": "456:group/click/top1_best",
         "type": "scatter",
         "x": [
          "2019-12-11T00:00:00",
          "2019-12-11T01:00:00",
          "2019-12-11T02:00:00",
          "2019-12-11T03:00:00",
          "2019-12-11T04:00:00",
          "2019-12-11T05:00:00",
          "2019-12-11T06:00:00",
          "2019-12-11T07:00:00",
          "2019-12-11T08:00:00",
          "2019-12-11T09:00:00",
          "2019-12-11T10:00:00",
          "2019-12-11T11:00:00",
          "2019-12-11T12:00:00",
          "2019-12-11T13:00:00",
          "2019-12-11T15:00:00",
          "2019-12-11T16:00:00",
          "2019-12-11T19:00:00",
          "2019-12-11T20:00:00",
          "2019-12-11T21:00:00",
          "2019-12-11T22:00:00",
          "2019-12-11T23:00:00",
          "2019-12-12T00:00:00",
          "2019-12-12T01:00:00",
          "2019-12-12T02:00:00",
          "2019-12-12T03:00:00",
          "2019-12-12T04:00:00",
          "2019-12-12T05:00:00",
          "2019-12-12T06:00:00",
          "2019-12-12T07:00:00",
          "2019-12-12T08:00:00",
          "2019-12-12T09:00:00",
          "2019-12-12T10:00:00",
          "2019-12-12T11:00:00",
          "2019-12-12T12:00:00",
          "2019-12-12T13:00:00",
          "2019-12-12T14:00:00",
          "2019-12-12T15:00:00",
          "2019-12-12T16:00:00",
          "2019-12-12T17:00:00",
          "2019-12-12T18:00:00",
          "2019-12-12T19:00:00",
          "2019-12-12T20:00:00",
          "2019-12-12T21:00:00",
          "2019-12-12T22:00:00",
          "2019-12-12T23:00:00",
          "2019-12-13T00:00:00",
          "2019-12-13T01:00:00",
          "2019-12-13T02:00:00",
          "2019-12-13T03:00:00",
          "2019-12-13T04:00:00",
          "2019-12-13T05:00:00",
          "2019-12-13T06:00:00",
          "2019-12-13T07:00:00",
          "2019-12-13T08:00:00",
          "2019-12-13T09:00:00",
          "2019-12-13T10:00:00",
          "2019-12-13T11:00:00",
          "2019-12-13T12:00:00",
          "2019-12-13T13:00:00",
          "2019-12-13T14:00:00",
          "2019-12-13T15:00:00",
          "2019-12-13T16:00:00",
          "2019-12-13T17:00:00",
          "2019-12-13T18:00:00",
          "2019-12-13T19:00:00",
          "2019-12-13T20:00:00",
          "2019-12-13T21:00:00",
          "2019-12-13T22:00:00",
          "2019-12-13T23:00:00",
          "2019-12-14T00:00:00",
          "2019-12-14T01:00:00",
          "2019-12-14T02:00:00",
          "2019-12-14T03:00:00",
          "2019-12-14T04:00:00",
          "2019-12-14T05:00:00",
          "2019-12-14T06:00:00",
          "2019-12-14T07:00:00",
          "2019-12-14T08:00:00",
          "2019-12-14T09:00:00",
          "2019-12-14T10:00:00",
          "2019-12-14T11:00:00",
          "2019-12-14T12:00:00",
          "2019-12-14T13:00:00",
          "2019-12-14T14:00:00",
          "2019-12-14T15:00:00",
          "2019-12-14T16:00:00",
          "2019-12-14T17:00:00",
          "2019-12-14T18:00:00",
          "2019-12-14T19:00:00",
          "2019-12-14T20:00:00",
          "2019-12-14T21:00:00",
          "2019-12-14T22:00:00",
          "2019-12-14T23:00:00",
          "2019-12-15T00:00:00",
          "2019-12-15T01:00:00",
          "2019-12-15T02:00:00",
          "2019-12-15T03:00:00",
          "2019-12-15T04:00:00",
          "2019-12-15T05:00:00",
          "2019-12-15T06:00:00",
          "2019-12-15T07:00:00",
          "2019-12-15T08:00:00",
          "2019-12-15T09:00:00",
          "2019-12-15T10:00:00",
          "2019-12-15T11:00:00",
          "2019-12-15T12:00:00",
          "2019-12-15T13:00:00",
          "2019-12-15T14:00:00",
          "2019-12-15T15:00:00",
          "2019-12-15T16:00:00",
          "2019-12-15T17:00:00",
          "2019-12-15T18:00:00",
          "2019-12-15T19:00:00",
          "2019-12-15T20:00:00",
          "2019-12-15T21:00:00",
          "2019-12-15T22:00:00",
          "2019-12-16T00:00:00"
         ],
         "y": [
          109.78898956617243,
          111.0378387301451,
          108.14322537969849,
          107.84372654615068,
          113.12191884230455,
          118.17776577945259,
          120.95522332816947,
          118.60649065248992,
          117.00806346935347,
          115.12331049412437,
          115.7668103585094,
          113.00501948532647,
          114.67546739614448,
          113.44575283193427,
          113.45520827809645,
          108.3853189307076,
          114.60222743358679,
          123.01993316622807,
          128.1364827985536,
          129.17546224524256,
          126.66838532152681,
          119.57606715818706,
          119.64527061327482,
          113.3829456965453,
          114.84804303753617,
          113.87745139462797,
          120.32646442881894,
          127.35732600921858,
          126.05849722306556,
          122.08976810283471,
          117.05381212145718,
          115.42695397400382,
          114.64913628848561,
          116.71725851630356,
          116.1680599548911,
          116.64341831394026,
          116.00039397003906,
          117.64193800344589,
          118.46265502601517,
          120.25481704314922,
          123.31696720498184,
          125.90019826611041,
          127.83359859261012,
          130.85100515445913,
          131.43120305270023,
          127.29090994237627,
          121.57852288545774,
          121.80135611941587,
          119.87905572210262,
          126.17784137011313,
          134.86334434025304,
          132.72259644037624,
          138.21206366702734,
          112.12886769908846,
          124.20460496096047,
          124.01036123136367,
          120.25504472738933,
          121.1865499653795,
          121.77361224066999,
          122.01508343248905,
          120.99832709132434,
          120.43840269281716,
          119.45638430865911,
          122.69125583706999,
          126.21587595491141,
          130.72522587186506,
          132.113458512676,
          138.0414038335376,
          139.16455056449365,
          130.31199411052557,
          129.10702882208165,
          124.16047502799421,
          124.05451922930467,
          125.6665263850068,
          136.4882495470397,
          141.05380421764283,
          142.1295600958363,
          138.1022433521846,
          132.4173040016977,
          127.39142886902832,
          126.1961873534922,
          127.14230877449863,
          127.91100387946692,
          130.10674165646165,
          130.1246757819673,
          129.071110382187,
          128.5630650278433,
          125.0559451952414,
          116.9616776889915,
          115.68405075474098,
          111.4876330407499,
          108.63283472085196,
          109.47175165984996,
          110.82982766141686,
          121.09781735219215,
          123.4524602742102,
          131.79203001924571,
          141.2649657379168,
          148.33202341307066,
          151.73673765829136,
          148.13442070458308,
          145.0804781159085,
          138.085741830021,
          133.2583157947566,
          128.9413137777589,
          128.563244700749,
          129.4326342059458,
          129.0188038433571,
          116.01708065292604,
          123.84961348349105,
          122.08778829851818,
          106.7180201144038,
          116.75792822372057,
          111.76172701947252,
          112.4156763882855,
          113.20138886166538,
          106.46495630560464
         ]
        },
        {
         "line": {
          "shape": "spline",
          "smoothing": 1
         },
         "mode": "lines+markers",
         "name": "15:group/click/top1_best",
         "type": "scatter",
         "x": [
          "2019-12-11T00:00:00",
          "2019-12-11T01:00:00",
          "2019-12-11T02:00:00",
          "2019-12-11T03:00:00",
          "2019-12-11T04:00:00",
          "2019-12-11T05:00:00",
          "2019-12-11T06:00:00",
          "2019-12-11T07:00:00",
          "2019-12-11T08:00:00",
          "2019-12-11T09:00:00",
          "2019-12-11T10:00:00",
          "2019-12-11T11:00:00",
          "2019-12-11T12:00:00",
          "2019-12-11T13:00:00",
          "2019-12-11T15:00:00",
          "2019-12-11T16:00:00",
          "2019-12-11T19:00:00",
          "2019-12-11T20:00:00",
          "2019-12-11T21:00:00",
          "2019-12-11T22:00:00",
          "2019-12-11T23:00:00",
          "2019-12-12T00:00:00",
          "2019-12-12T01:00:00",
          "2019-12-12T02:00:00",
          "2019-12-12T03:00:00",
          "2019-12-12T04:00:00",
          "2019-12-12T05:00:00",
          "2019-12-12T06:00:00",
          "2019-12-12T07:00:00",
          "2019-12-12T08:00:00",
          "2019-12-12T09:00:00",
          "2019-12-12T10:00:00",
          "2019-12-12T11:00:00",
          "2019-12-12T12:00:00",
          "2019-12-12T13:00:00",
          "2019-12-12T14:00:00",
          "2019-12-12T15:00:00",
          "2019-12-12T16:00:00",
          "2019-12-12T17:00:00",
          "2019-12-12T18:00:00",
          "2019-12-12T19:00:00",
          "2019-12-12T20:00:00",
          "2019-12-12T21:00:00",
          "2019-12-12T22:00:00",
          "2019-12-12T23:00:00",
          "2019-12-13T00:00:00",
          "2019-12-13T01:00:00",
          "2019-12-13T02:00:00",
          "2019-12-13T03:00:00",
          "2019-12-13T04:00:00",
          "2019-12-13T05:00:00",
          "2019-12-13T06:00:00",
          "2019-12-13T07:00:00",
          "2019-12-13T08:00:00",
          "2019-12-13T09:00:00",
          "2019-12-13T10:00:00",
          "2019-12-13T11:00:00",
          "2019-12-13T12:00:00",
          "2019-12-13T13:00:00",
          "2019-12-13T14:00:00",
          "2019-12-13T15:00:00",
          "2019-12-13T16:00:00",
          "2019-12-13T17:00:00",
          "2019-12-13T18:00:00",
          "2019-12-13T19:00:00",
          "2019-12-13T20:00:00",
          "2019-12-13T21:00:00",
          "2019-12-13T22:00:00",
          "2019-12-13T23:00:00",
          "2019-12-14T00:00:00",
          "2019-12-14T01:00:00",
          "2019-12-14T02:00:00",
          "2019-12-14T03:00:00",
          "2019-12-14T04:00:00",
          "2019-12-14T05:00:00",
          "2019-12-14T06:00:00",
          "2019-12-14T07:00:00",
          "2019-12-14T08:00:00",
          "2019-12-14T09:00:00",
          "2019-12-14T10:00:00",
          "2019-12-14T11:00:00",
          "2019-12-14T12:00:00",
          "2019-12-14T13:00:00",
          "2019-12-14T14:00:00",
          "2019-12-14T15:00:00",
          "2019-12-14T16:00:00",
          "2019-12-14T17:00:00",
          "2019-12-14T18:00:00",
          "2019-12-14T19:00:00",
          "2019-12-14T20:00:00",
          "2019-12-14T21:00:00",
          "2019-12-14T22:00:00",
          "2019-12-14T23:00:00",
          "2019-12-15T00:00:00",
          "2019-12-15T01:00:00",
          "2019-12-15T02:00:00",
          "2019-12-15T03:00:00",
          "2019-12-15T04:00:00",
          "2019-12-15T05:00:00",
          "2019-12-15T06:00:00",
          "2019-12-15T07:00:00",
          "2019-12-15T08:00:00",
          "2019-12-15T09:00:00",
          "2019-12-15T10:00:00",
          "2019-12-15T11:00:00",
          "2019-12-15T12:00:00",
          "2019-12-15T13:00:00",
          "2019-12-15T14:00:00",
          "2019-12-15T15:00:00",
          "2019-12-15T16:00:00",
          "2019-12-15T17:00:00",
          "2019-12-15T18:00:00",
          "2019-12-15T19:00:00",
          "2019-12-15T20:00:00",
          "2019-12-15T21:00:00",
          "2019-12-15T22:00:00",
          "2019-12-16T00:00:00"
         ],
         "y": [
          122.87703646237395,
          120.80807833671263,
          118.21642604167937,
          116.78411505952889,
          119.41330472688324,
          127.34413962474345,
          130.89042629844622,
          126.83594139667724,
          124.71183152671273,
          120.85607782948574,
          116.93468597251885,
          113.53221985944157,
          118.7553432477099,
          117.40426148209048,
          116.37725436511988,
          110.66739410324827,
          118.29890284677877,
          124.94632170209181,
          128.0488654684015,
          131.82917566192623,
          129.1313663134027,
          120.2626670072888,
          115.03412389079236,
          118.22428200361301,
          116.99218326331416,
          113.28178558602741,
          119.95608396920036,
          128.7119865678126,
          125.38693649082462,
          128.16083520239044,
          122.68266292192652,
          118.50949548661902,
          114.39103806321278,
          116.6788183942992,
          118.1618246973128,
          119.71844518778813,
          119.31056916973492,
          118.34804012933752,
          116.1232736363791,
          120.05271370987079,
          122.90978940784842,
          126.98330774839961,
          128.17374085392905,
          129.84099859818025,
          128.31851243648518,
          128.86081205424009,
          126.88217792904065,
          116.66203005012093,
          119.2145399852279,
          126.27103159984065,
          131.85065710026507,
          128.71892468459066,
          131.15648528639463,
          114.50776499122946,
          122.87528109909098,
          121.40408340462358,
          121.26319586184941,
          122.14179026443863,
          123.85155851265225,
          122.5955242218637,
          122.66066229538056,
          119.66704269592998,
          122.76599105875403,
          126.65374676697562,
          128.1848555409954,
          132.57115337177663,
          138.62410467118625,
          136.46394796181056,
          135.40292661384484,
          129.0278373122046,
          127.5837519092839,
          121.57884662195438,
          116.61973740654572,
          119.81122478348236,
          132.39507814868705,
          133.34049701289948,
          131.89459969976423,
          128.51437499010558,
          125.3583375548504,
          125.08845304769123,
          122.82278441990252,
          120.87861806406147,
          124.32123392575008,
          122.09972999037245,
          122.25634028162432,
          120.9897910146105,
          120.2052222792233,
          118.39768231243441,
          111.92925343038894,
          111.27973498560097,
          107.02455369226594,
          105.66739280097367,
          107.54621552131647,
          107.4507193846946,
          113.52506615428538,
          116.36816244337953,
          122.78089726434733,
          129.12391959938054,
          143.1976398191867,
          147.40373125234998,
          144.2332202496311,
          142.03080649122077,
          134.58474170280573,
          128.1075586529533,
          124.01776363289392,
          124.90338951591562,
          122.79283509630707,
          122.6148218997945,
          111.65738668168785,
          120.08099248565419,
          117.74317341597035,
          103.20534836100215,
          113.3670149384741,
          107.85302334605882,
          106.04705066361969,
          109.17637864316191,
          100.72307286544745
         ]
        }
       ],
       "layout": {
        "hovermode": "x",
        "template": {
         "data": {
          "bar": [
           {
            "error_x": {
             "color": "#2a3f5f"
            },
            "error_y": {
             "color": "#2a3f5f"
            },
            "marker": {
             "line": {
              "color": "#E5ECF6",
              "width": 0.5
             }
            },
            "type": "bar"
           }
          ],
          "barpolar": [
           {
            "marker": {
             "line": {
              "color": "#E5ECF6",
              "width": 0.5
             }
            },
            "type": "barpolar"
           }
          ],
          "carpet": [
           {
            "aaxis": {
             "endlinecolor": "#2a3f5f",
             "gridcolor": "white",
             "linecolor": "white",
             "minorgridcolor": "white",
             "startlinecolor": "#2a3f5f"
            },
            "baxis": {
             "endlinecolor": "#2a3f5f",
             "gridcolor": "white",
             "linecolor": "white",
             "minorgridcolor": "white",
             "startlinecolor": "#2a3f5f"
            },
            "type": "carpet"
           }
          ],
          "choropleth": [
           {
            "colorbar": {
             "outlinewidth": 0,
             "ticks": ""
            },
            "type": "choropleth"
           }
          ],
          "contour": [
           {
            "colorbar": {
             "outlinewidth": 0,
             "ticks": ""
            },
            "colorscale": [
             [
              0,
              "#0d0887"
             ],
             [
              0.1111111111111111,
              "#46039f"
             ],
             [
              0.2222222222222222,
              "#7201a8"
             ],
             [
              0.3333333333333333,
              "#9c179e"
             ],
             [
              0.4444444444444444,
              "#bd3786"
             ],
             [
              0.5555555555555556,
              "#d8576b"
             ],
             [
              0.6666666666666666,
              "#ed7953"
             ],
             [
              0.7777777777777778,
              "#fb9f3a"
             ],
             [
              0.8888888888888888,
              "#fdca26"
             ],
             [
              1,
              "#f0f921"
             ]
            ],
            "type": "contour"
           }
          ],
          "contourcarpet": [
           {
            "colorbar": {
             "outlinewidth": 0,
             "ticks": ""
            },
            "type": "contourcarpet"
           }
          ],
          "heatmap": [
           {
            "colorbar": {
             "outlinewidth": 0,
             "ticks": ""
            },
            "colorscale": [
             [
              0,
              "#0d0887"
             ],
             [
              0.1111111111111111,
              "#46039f"
             ],
             [
              0.2222222222222222,
              "#7201a8"
             ],
             [
              0.3333333333333333,
              "#9c179e"
             ],
             [
              0.4444444444444444,
              "#bd3786"
             ],
             [
              0.5555555555555556,
              "#d8576b"
             ],
             [
              0.6666666666666666,
              "#ed7953"
             ],
             [
              0.7777777777777778,
              "#fb9f3a"
             ],
             [
              0.8888888888888888,
              "#fdca26"
             ],
             [
              1,
              "#f0f921"
             ]
            ],
            "type": "heatmap"
           }
          ],
          "heatmapgl": [
           {
            "colorbar": {
             "outlinewidth": 0,
             "ticks": ""
            },
            "colorscale": [
             [
              0,
              "#0d0887"
             ],
             [
              0.1111111111111111,
              "#46039f"
             ],
             [
              0.2222222222222222,
              "#7201a8"
             ],
             [
              0.3333333333333333,
              "#9c179e"
             ],
             [
              0.4444444444444444,
              "#bd3786"
             ],
             [
              0.5555555555555556,
              "#d8576b"
             ],
             [
              0.6666666666666666,
              "#ed7953"
             ],
             [
              0.7777777777777778,
              "#fb9f3a"
             ],
             [
              0.8888888888888888,
              "#fdca26"
             ],
             [
              1,
              "#f0f921"
             ]
            ],
            "type": "heatmapgl"
           }
          ],
          "histogram": [
           {
            "marker": {
             "colorbar": {
              "outlinewidth": 0,
              "ticks": ""
             }
            },
            "type": "histogram"
           }
          ],
          "histogram2d": [
           {
            "colorbar": {
             "outlinewidth": 0,
             "ticks": ""
            },
            "colorscale": [
             [
              0,
              "#0d0887"
             ],
             [
              0.1111111111111111,
              "#46039f"
             ],
             [
              0.2222222222222222,
              "#7201a8"
             ],
             [
              0.3333333333333333,
              "#9c179e"
             ],
             [
              0.4444444444444444,
              "#bd3786"
             ],
             [
              0.5555555555555556,
              "#d8576b"
             ],
             [
              0.6666666666666666,
              "#ed7953"
             ],
             [
              0.7777777777777778,
              "#fb9f3a"
             ],
             [
              0.8888888888888888,
              "#fdca26"
             ],
             [
              1,
              "#f0f921"
             ]
            ],
            "type": "histogram2d"
           }
          ],
          "histogram2dcontour": [
           {
            "colorbar": {
             "outlinewidth": 0,
             "ticks": ""
            },
            "colorscale": [
             [
              0,
              "#0d0887"
             ],
             [
              0.1111111111111111,
              "#46039f"
             ],
             [
              0.2222222222222222,
              "#7201a8"
             ],
             [
              0.3333333333333333,
              "#9c179e"
             ],
             [
              0.4444444444444444,
              "#bd3786"
             ],
             [
              0.5555555555555556,
              "#d8576b"
             ],
             [
              0.6666666666666666,
              "#ed7953"
             ],
             [
              0.7777777777777778,
              "#fb9f3a"
             ],
             [
              0.8888888888888888,
              "#fdca26"
             ],
             [
              1,
              "#f0f921"
             ]
            ],
            "type": "histogram2dcontour"
           }
          ],
          "mesh3d": [
           {
            "colorbar": {
             "outlinewidth": 0,
             "ticks": ""
            },
            "type": "mesh3d"
           }
          ],
          "parcoords": [
           {
            "line": {
             "colorbar": {
              "outlinewidth": 0,
              "ticks": ""
             }
            },
            "type": "parcoords"
           }
          ],
          "scatter": [
           {
            "marker": {
             "colorbar": {
              "outlinewidth": 0,
              "ticks": ""
             }
            },
            "type": "scatter"
           }
          ],
          "scatter3d": [
           {
            "line": {
             "colorbar": {
              "outlinewidth": 0,
              "ticks": ""
             }
            },
            "marker": {
             "colorbar": {
              "outlinewidth": 0,
              "ticks": ""
             }
            },
            "type": "scatter3d"
           }
          ],
          "scattercarpet": [
           {
            "marker": {
             "colorbar": {
              "outlinewidth": 0,
              "ticks": ""
             }
            },
            "type": "scattercarpet"
           }
          ],
          "scattergeo": [
           {
            "marker": {
             "colorbar": {
              "outlinewidth": 0,
              "ticks": ""
             }
            },
            "type": "scattergeo"
           }
          ],
          "scattergl": [
           {
            "marker": {
             "colorbar": {
              "outlinewidth": 0,
              "ticks": ""
             }
            },
            "type": "scattergl"
           }
          ],
          "scattermapbox": [
           {
            "marker": {
             "colorbar": {
              "outlinewidth": 0,
              "ticks": ""
             }
            },
            "type": "scattermapbox"
           }
          ],
          "scatterpolar": [
           {
            "marker": {
             "colorbar": {
              "outlinewidth": 0,
              "ticks": ""
             }
            },
            "type": "scatterpolar"
           }
          ],
          "scatterpolargl": [
           {
            "marker": {
             "colorbar": {
              "outlinewidth": 0,
              "ticks": ""
             }
            },
            "type": "scatterpolargl"
           }
          ],
          "scatterternary": [
           {
            "marker": {
             "colorbar": {
              "outlinewidth": 0,
              "ticks": ""
             }
            },
            "type": "scatterternary"
           }
          ],
          "surface": [
           {
            "colorbar": {
             "outlinewidth": 0,
             "ticks": ""
            },
            "colorscale": [
             [
              0,
              "#0d0887"
             ],
             [
              0.1111111111111111,
              "#46039f"
             ],
             [
              0.2222222222222222,
              "#7201a8"
             ],
             [
              0.3333333333333333,
              "#9c179e"
             ],
             [
              0.4444444444444444,
              "#bd3786"
             ],
             [
              0.5555555555555556,
              "#d8576b"
             ],
             [
              0.6666666666666666,
              "#ed7953"
             ],
             [
              0.7777777777777778,
              "#fb9f3a"
             ],
             [
              0.8888888888888888,
              "#fdca26"
             ],
             [
              1,
              "#f0f921"
             ]
            ],
            "type": "surface"
           }
          ],
          "table": [
           {
            "cells": {
             "fill": {
              "color": "#EBF0F8"
             },
             "line": {
              "color": "white"
             }
            },
            "header": {
             "fill": {
              "color": "#C8D4E3"
             },
             "line": {
              "color": "white"
             }
            },
            "type": "table"
           }
          ]
         },
         "layout": {
          "annotationdefaults": {
           "arrowcolor": "#2a3f5f",
           "arrowhead": 0,
           "arrowwidth": 1
          },
          "colorscale": {
           "diverging": [
            [
             0,
             "#8e0152"
            ],
            [
             0.1,
             "#c51b7d"
            ],
            [
             0.2,
             "#de77ae"
            ],
            [
             0.3,
             "#f1b6da"
            ],
            [
             0.4,
             "#fde0ef"
            ],
            [
             0.5,
             "#f7f7f7"
            ],
            [
             0.6,
             "#e6f5d0"
            ],
            [
             0.7,
             "#b8e186"
            ],
            [
             0.8,
             "#7fbc41"
            ],
            [
             0.9,
             "#4d9221"
            ],
            [
             1,
             "#276419"
            ]
           ],
           "sequential": [
            [
             0,
             "#0d0887"
            ],
            [
             0.1111111111111111,
             "#46039f"
            ],
            [
             0.2222222222222222,
             "#7201a8"
            ],
            [
             0.3333333333333333,
             "#9c179e"
            ],
            [
             0.4444444444444444,
             "#bd3786"
            ],
            [
             0.5555555555555556,
             "#d8576b"
            ],
            [
             0.6666666666666666,
             "#ed7953"
            ],
            [
             0.7777777777777778,
             "#fb9f3a"
            ],
            [
             0.8888888888888888,
             "#fdca26"
            ],
            [
             1,
             "#f0f921"
            ]
           ],
           "sequentialminus": [
            [
             0,
             "#0d0887"
            ],
            [
             0.1111111111111111,
             "#46039f"
            ],
            [
             0.2222222222222222,
             "#7201a8"
            ],
            [
             0.3333333333333333,
             "#9c179e"
            ],
            [
             0.4444444444444444,
             "#bd3786"
            ],
            [
             0.5555555555555556,
             "#d8576b"
            ],
            [
             0.6666666666666666,
             "#ed7953"
            ],
            [
             0.7777777777777778,
             "#fb9f3a"
            ],
            [
             0.8888888888888888,
             "#fdca26"
            ],
            [
             1,
             "#f0f921"
            ]
           ]
          },
          "colorway": [
           "#636efa",
           "#EF553B",
           "#00cc96",
           "#ab63fa",
           "#FFA15A",
           "#19d3f3",
           "#FF6692",
           "#B6E880",
           "#FF97FF",
           "#FECB52"
          ],
          "font": {
           "color": "#2a3f5f"
          },
          "geo": {
           "bgcolor": "white",
           "lakecolor": "white",
           "landcolor": "#E5ECF6",
           "showlakes": true,
           "showland": true,
           "subunitcolor": "white"
          },
          "hoverlabel": {
           "align": "left"
          },
          "hovermode": "closest",
          "mapbox": {
           "style": "light"
          },
          "paper_bgcolor": "white",
          "plot_bgcolor": "#E5ECF6",
          "polar": {
           "angularaxis": {
            "gridcolor": "white",
            "linecolor": "white",
            "ticks": ""
           },
           "bgcolor": "#E5ECF6",
           "radialaxis": {
            "gridcolor": "white",
            "linecolor": "white",
            "ticks": ""
           }
          },
          "scene": {
           "xaxis": {
            "backgroundcolor": "#E5ECF6",
            "gridcolor": "white",
            "gridwidth": 2,
            "linecolor": "white",
            "showbackground": true,
            "ticks": "",
            "zerolinecolor": "white"
           },
           "yaxis": {
            "backgroundcolor": "#E5ECF6",
            "gridcolor": "white",
            "gridwidth": 2,
            "linecolor": "white",
            "showbackground": true,
            "ticks": "",
            "zerolinecolor": "white"
           },
           "zaxis": {
            "backgroundcolor": "#E5ECF6",
            "gridcolor": "white",
            "gridwidth": 2,
            "linecolor": "white",
            "showbackground": true,
            "ticks": "",
            "zerolinecolor": "white"
           }
          },
          "shapedefaults": {
           "line": {
            "color": "#2a3f5f"
           }
          },
          "ternary": {
           "aaxis": {
            "gridcolor": "white",
            "linecolor": "white",
            "ticks": ""
           },
           "baxis": {
            "gridcolor": "white",
            "linecolor": "white",
            "ticks": ""
           },
           "bgcolor": "#E5ECF6",
           "caxis": {
            "gridcolor": "white",
            "linecolor": "white",
            "ticks": ""
           }
          },
          "title": {
           "x": 0.05
          },
          "xaxis": {
           "automargin": true,
           "gridcolor": "white",
           "linecolor": "white",
           "ticks": "",
           "zerolinecolor": "white",
           "zerolinewidth": 2
          },
          "yaxis": {
           "automargin": true,
           "gridcolor": "white",
           "linecolor": "white",
           "ticks": "",
           "zerolinecolor": "white",
           "zerolinewidth": 2
          }
         }
        },
        "title": {
         "text": "tuwen:group/click/top1_best"
        },
        "xaxis": {
         "type": "date"
        }
       }
      },
      "text/html": [
       "<div>\n",
       "        \n",
       "        \n",
       "            <div id=\"19410f31-3360-4440-8b72-d072bf739442\" class=\"plotly-graph-div\" style=\"height:525px; width:100%;\"></div>\n",
       "            <script type=\"text/javascript\">\n",
       "                require([\"plotly\"], function(Plotly) {\n",
       "                    window.PLOTLYENV=window.PLOTLYENV || {};\n",
       "                    \n",
       "                if (document.getElementById(\"19410f31-3360-4440-8b72-d072bf739442\")) {\n",
       "                    Plotly.newPlot(\n",
       "                        '19410f31-3360-4440-8b72-d072bf739442',\n",
       "                        [{\"line\": {\"shape\": \"spline\", \"smoothing\": 1.0}, \"mode\": \"lines+markers\", \"name\": \"456:group/click/top1_best\", \"type\": \"scatter\", \"x\": [\"2019-12-11T00:00:00\", \"2019-12-11T01:00:00\", \"2019-12-11T02:00:00\", \"2019-12-11T03:00:00\", \"2019-12-11T04:00:00\", \"2019-12-11T05:00:00\", \"2019-12-11T06:00:00\", \"2019-12-11T07:00:00\", \"2019-12-11T08:00:00\", \"2019-12-11T09:00:00\", \"2019-12-11T10:00:00\", \"2019-12-11T11:00:00\", \"2019-12-11T12:00:00\", \"2019-12-11T13:00:00\", \"2019-12-11T15:00:00\", \"2019-12-11T16:00:00\", \"2019-12-11T19:00:00\", \"2019-12-11T20:00:00\", \"2019-12-11T21:00:00\", \"2019-12-11T22:00:00\", \"2019-12-11T23:00:00\", \"2019-12-12T00:00:00\", \"2019-12-12T01:00:00\", \"2019-12-12T02:00:00\", \"2019-12-12T03:00:00\", \"2019-12-12T04:00:00\", \"2019-12-12T05:00:00\", \"2019-12-12T06:00:00\", \"2019-12-12T07:00:00\", \"2019-12-12T08:00:00\", \"2019-12-12T09:00:00\", \"2019-12-12T10:00:00\", \"2019-12-12T11:00:00\", \"2019-12-12T12:00:00\", \"2019-12-12T13:00:00\", \"2019-12-12T14:00:00\", \"2019-12-12T15:00:00\", \"2019-12-12T16:00:00\", \"2019-12-12T17:00:00\", \"2019-12-12T18:00:00\", \"2019-12-12T19:00:00\", \"2019-12-12T20:00:00\", \"2019-12-12T21:00:00\", \"2019-12-12T22:00:00\", \"2019-12-12T23:00:00\", \"2019-12-13T00:00:00\", \"2019-12-13T01:00:00\", \"2019-12-13T02:00:00\", \"2019-12-13T03:00:00\", \"2019-12-13T04:00:00\", \"2019-12-13T05:00:00\", \"2019-12-13T06:00:00\", \"2019-12-13T07:00:00\", \"2019-12-13T08:00:00\", \"2019-12-13T09:00:00\", \"2019-12-13T10:00:00\", \"2019-12-13T11:00:00\", \"2019-12-13T12:00:00\", \"2019-12-13T13:00:00\", \"2019-12-13T14:00:00\", \"2019-12-13T15:00:00\", \"2019-12-13T16:00:00\", \"2019-12-13T17:00:00\", \"2019-12-13T18:00:00\", \"2019-12-13T19:00:00\", \"2019-12-13T20:00:00\", \"2019-12-13T21:00:00\", \"2019-12-13T22:00:00\", \"2019-12-13T23:00:00\", \"2019-12-14T00:00:00\", \"2019-12-14T01:00:00\", \"2019-12-14T02:00:00\", \"2019-12-14T03:00:00\", \"2019-12-14T04:00:00\", \"2019-12-14T05:00:00\", \"2019-12-14T06:00:00\", \"2019-12-14T07:00:00\", \"2019-12-14T08:00:00\", \"2019-12-14T09:00:00\", \"2019-12-14T10:00:00\", \"2019-12-14T11:00:00\", \"2019-12-14T12:00:00\", \"2019-12-14T13:00:00\", \"2019-12-14T14:00:00\", \"2019-12-14T15:00:00\", \"2019-12-14T16:00:00\", \"2019-12-14T17:00:00\", \"2019-12-14T18:00:00\", \"2019-12-14T19:00:00\", \"2019-12-14T20:00:00\", \"2019-12-14T21:00:00\", \"2019-12-14T22:00:00\", \"2019-12-14T23:00:00\", \"2019-12-15T00:00:00\", \"2019-12-15T01:00:00\", \"2019-12-15T02:00:00\", \"2019-12-15T03:00:00\", \"2019-12-15T04:00:00\", \"2019-12-15T05:00:00\", \"2019-12-15T06:00:00\", \"2019-12-15T07:00:00\", \"2019-12-15T08:00:00\", \"2019-12-15T09:00:00\", \"2019-12-15T10:00:00\", \"2019-12-15T11:00:00\", \"2019-12-15T12:00:00\", \"2019-12-15T13:00:00\", \"2019-12-15T14:00:00\", \"2019-12-15T15:00:00\", \"2019-12-15T16:00:00\", \"2019-12-15T17:00:00\", \"2019-12-15T18:00:00\", \"2019-12-15T19:00:00\", \"2019-12-15T20:00:00\", \"2019-12-15T21:00:00\", \"2019-12-15T22:00:00\", \"2019-12-16T00:00:00\"], \"y\": [109.78898956617243, 111.0378387301451, 108.14322537969849, 107.84372654615068, 113.12191884230455, 118.17776577945259, 120.95522332816947, 118.60649065248992, 117.00806346935347, 115.12331049412437, 115.7668103585094, 113.00501948532647, 114.67546739614448, 113.44575283193427, 113.45520827809645, 108.3853189307076, 114.60222743358679, 123.01993316622807, 128.1364827985536, 129.17546224524256, 126.66838532152681, 119.57606715818706, 119.64527061327482, 113.3829456965453, 114.84804303753617, 113.87745139462797, 120.32646442881894, 127.35732600921858, 126.05849722306556, 122.08976810283471, 117.05381212145718, 115.42695397400382, 114.64913628848561, 116.71725851630356, 116.1680599548911, 116.64341831394026, 116.00039397003906, 117.64193800344589, 118.46265502601517, 120.25481704314922, 123.31696720498184, 125.90019826611041, 127.83359859261012, 130.85100515445913, 131.43120305270023, 127.29090994237627, 121.57852288545774, 121.80135611941587, 119.87905572210262, 126.17784137011313, 134.86334434025304, 132.72259644037624, 138.21206366702734, 112.12886769908846, 124.20460496096047, 124.01036123136367, 120.25504472738933, 121.1865499653795, 121.77361224066999, 122.01508343248905, 120.99832709132434, 120.43840269281716, 119.45638430865911, 122.69125583706999, 126.21587595491141, 130.72522587186506, 132.113458512676, 138.0414038335376, 139.16455056449365, 130.31199411052557, 129.10702882208165, 124.16047502799421, 124.05451922930467, 125.6665263850068, 136.4882495470397, 141.05380421764283, 142.1295600958363, 138.1022433521846, 132.4173040016977, 127.39142886902832, 126.1961873534922, 127.14230877449863, 127.91100387946692, 130.10674165646165, 130.1246757819673, 129.071110382187, 128.5630650278433, 125.0559451952414, 116.9616776889915, 115.68405075474098, 111.4876330407499, 108.63283472085196, 109.47175165984996, 110.82982766141686, 121.09781735219215, 123.4524602742102, 131.79203001924571, 141.2649657379168, 148.33202341307066, 151.73673765829136, 148.13442070458308, 145.0804781159085, 138.085741830021, 133.2583157947566, 128.9413137777589, 128.563244700749, 129.4326342059458, 129.0188038433571, 116.01708065292604, 123.84961348349105, 122.08778829851818, 106.7180201144038, 116.75792822372057, 111.76172701947252, 112.4156763882855, 113.20138886166538, 106.46495630560464]}, {\"line\": {\"shape\": \"spline\", \"smoothing\": 1.0}, \"mode\": \"lines+markers\", \"name\": \"15:group/click/top1_best\", \"type\": \"scatter\", \"x\": [\"2019-12-11T00:00:00\", \"2019-12-11T01:00:00\", \"2019-12-11T02:00:00\", \"2019-12-11T03:00:00\", \"2019-12-11T04:00:00\", \"2019-12-11T05:00:00\", \"2019-12-11T06:00:00\", \"2019-12-11T07:00:00\", \"2019-12-11T08:00:00\", \"2019-12-11T09:00:00\", \"2019-12-11T10:00:00\", \"2019-12-11T11:00:00\", \"2019-12-11T12:00:00\", \"2019-12-11T13:00:00\", \"2019-12-11T15:00:00\", \"2019-12-11T16:00:00\", \"2019-12-11T19:00:00\", \"2019-12-11T20:00:00\", \"2019-12-11T21:00:00\", \"2019-12-11T22:00:00\", \"2019-12-11T23:00:00\", \"2019-12-12T00:00:00\", \"2019-12-12T01:00:00\", \"2019-12-12T02:00:00\", \"2019-12-12T03:00:00\", \"2019-12-12T04:00:00\", \"2019-12-12T05:00:00\", \"2019-12-12T06:00:00\", \"2019-12-12T07:00:00\", \"2019-12-12T08:00:00\", \"2019-12-12T09:00:00\", \"2019-12-12T10:00:00\", \"2019-12-12T11:00:00\", \"2019-12-12T12:00:00\", \"2019-12-12T13:00:00\", \"2019-12-12T14:00:00\", \"2019-12-12T15:00:00\", \"2019-12-12T16:00:00\", \"2019-12-12T17:00:00\", \"2019-12-12T18:00:00\", \"2019-12-12T19:00:00\", \"2019-12-12T20:00:00\", \"2019-12-12T21:00:00\", \"2019-12-12T22:00:00\", \"2019-12-12T23:00:00\", \"2019-12-13T00:00:00\", \"2019-12-13T01:00:00\", \"2019-12-13T02:00:00\", \"2019-12-13T03:00:00\", \"2019-12-13T04:00:00\", \"2019-12-13T05:00:00\", \"2019-12-13T06:00:00\", \"2019-12-13T07:00:00\", \"2019-12-13T08:00:00\", \"2019-12-13T09:00:00\", \"2019-12-13T10:00:00\", \"2019-12-13T11:00:00\", \"2019-12-13T12:00:00\", \"2019-12-13T13:00:00\", \"2019-12-13T14:00:00\", \"2019-12-13T15:00:00\", \"2019-12-13T16:00:00\", \"2019-12-13T17:00:00\", \"2019-12-13T18:00:00\", \"2019-12-13T19:00:00\", \"2019-12-13T20:00:00\", \"2019-12-13T21:00:00\", \"2019-12-13T22:00:00\", \"2019-12-13T23:00:00\", \"2019-12-14T00:00:00\", \"2019-12-14T01:00:00\", \"2019-12-14T02:00:00\", \"2019-12-14T03:00:00\", \"2019-12-14T04:00:00\", \"2019-12-14T05:00:00\", \"2019-12-14T06:00:00\", \"2019-12-14T07:00:00\", \"2019-12-14T08:00:00\", \"2019-12-14T09:00:00\", \"2019-12-14T10:00:00\", \"2019-12-14T11:00:00\", \"2019-12-14T12:00:00\", \"2019-12-14T13:00:00\", \"2019-12-14T14:00:00\", \"2019-12-14T15:00:00\", \"2019-12-14T16:00:00\", \"2019-12-14T17:00:00\", \"2019-12-14T18:00:00\", \"2019-12-14T19:00:00\", \"2019-12-14T20:00:00\", \"2019-12-14T21:00:00\", \"2019-12-14T22:00:00\", \"2019-12-14T23:00:00\", \"2019-12-15T00:00:00\", \"2019-12-15T01:00:00\", \"2019-12-15T02:00:00\", \"2019-12-15T03:00:00\", \"2019-12-15T04:00:00\", \"2019-12-15T05:00:00\", \"2019-12-15T06:00:00\", \"2019-12-15T07:00:00\", \"2019-12-15T08:00:00\", \"2019-12-15T09:00:00\", \"2019-12-15T10:00:00\", \"2019-12-15T11:00:00\", \"2019-12-15T12:00:00\", \"2019-12-15T13:00:00\", \"2019-12-15T14:00:00\", \"2019-12-15T15:00:00\", \"2019-12-15T16:00:00\", \"2019-12-15T17:00:00\", \"2019-12-15T18:00:00\", \"2019-12-15T19:00:00\", \"2019-12-15T20:00:00\", \"2019-12-15T21:00:00\", \"2019-12-15T22:00:00\", \"2019-12-16T00:00:00\"], \"y\": [122.87703646237395, 120.80807833671263, 118.21642604167937, 116.78411505952889, 119.41330472688324, 127.34413962474345, 130.89042629844622, 126.83594139667724, 124.71183152671273, 120.85607782948574, 116.93468597251885, 113.53221985944157, 118.7553432477099, 117.40426148209048, 116.37725436511988, 110.66739410324827, 118.29890284677877, 124.94632170209181, 128.0488654684015, 131.82917566192623, 129.1313663134027, 120.2626670072888, 115.03412389079236, 118.22428200361301, 116.99218326331416, 113.28178558602741, 119.95608396920036, 128.7119865678126, 125.38693649082462, 128.16083520239044, 122.68266292192652, 118.50949548661902, 114.39103806321278, 116.6788183942992, 118.1618246973128, 119.71844518778813, 119.31056916973492, 118.34804012933752, 116.1232736363791, 120.05271370987079, 122.90978940784842, 126.98330774839961, 128.17374085392905, 129.84099859818025, 128.31851243648518, 128.86081205424009, 126.88217792904065, 116.66203005012093, 119.2145399852279, 126.27103159984065, 131.85065710026507, 128.71892468459066, 131.15648528639463, 114.50776499122946, 122.87528109909098, 121.40408340462358, 121.26319586184941, 122.14179026443863, 123.85155851265225, 122.5955242218637, 122.66066229538056, 119.66704269592998, 122.76599105875403, 126.65374676697562, 128.1848555409954, 132.57115337177663, 138.62410467118625, 136.46394796181056, 135.40292661384484, 129.0278373122046, 127.5837519092839, 121.57884662195438, 116.61973740654572, 119.81122478348236, 132.39507814868705, 133.34049701289948, 131.89459969976423, 128.51437499010558, 125.3583375548504, 125.08845304769123, 122.82278441990252, 120.87861806406147, 124.32123392575008, 122.09972999037245, 122.25634028162432, 120.9897910146105, 120.2052222792233, 118.39768231243441, 111.92925343038894, 111.27973498560097, 107.02455369226594, 105.66739280097367, 107.54621552131647, 107.4507193846946, 113.52506615428538, 116.36816244337953, 122.78089726434733, 129.12391959938054, 143.1976398191867, 147.40373125234998, 144.2332202496311, 142.03080649122077, 134.58474170280573, 128.1075586529533, 124.01776363289392, 124.90338951591562, 122.79283509630707, 122.6148218997945, 111.65738668168785, 120.08099248565419, 117.74317341597035, 103.20534836100215, 113.3670149384741, 107.85302334605882, 106.04705066361969, 109.17637864316191, 100.72307286544745]}],\n",
       "                        {\"hovermode\": \"x\", \"template\": {\"data\": {\"bar\": [{\"error_x\": {\"color\": \"#2a3f5f\"}, \"error_y\": {\"color\": \"#2a3f5f\"}, \"marker\": {\"line\": {\"color\": \"#E5ECF6\", \"width\": 0.5}}, \"type\": \"bar\"}], \"barpolar\": [{\"marker\": {\"line\": {\"color\": \"#E5ECF6\", \"width\": 0.5}}, \"type\": \"barpolar\"}], \"carpet\": [{\"aaxis\": {\"endlinecolor\": \"#2a3f5f\", \"gridcolor\": \"white\", \"linecolor\": \"white\", \"minorgridcolor\": \"white\", \"startlinecolor\": \"#2a3f5f\"}, \"baxis\": {\"endlinecolor\": \"#2a3f5f\", \"gridcolor\": \"white\", \"linecolor\": \"white\", \"minorgridcolor\": \"white\", \"startlinecolor\": \"#2a3f5f\"}, \"type\": \"carpet\"}], \"choropleth\": [{\"colorbar\": {\"outlinewidth\": 0, \"ticks\": \"\"}, \"type\": \"choropleth\"}], \"contour\": [{\"colorbar\": {\"outlinewidth\": 0, \"ticks\": \"\"}, \"colorscale\": [[0.0, \"#0d0887\"], [0.1111111111111111, \"#46039f\"], [0.2222222222222222, \"#7201a8\"], [0.3333333333333333, \"#9c179e\"], [0.4444444444444444, \"#bd3786\"], [0.5555555555555556, \"#d8576b\"], [0.6666666666666666, \"#ed7953\"], [0.7777777777777778, \"#fb9f3a\"], [0.8888888888888888, \"#fdca26\"], [1.0, \"#f0f921\"]], \"type\": \"contour\"}], \"contourcarpet\": [{\"colorbar\": {\"outlinewidth\": 0, \"ticks\": \"\"}, \"type\": \"contourcarpet\"}], \"heatmap\": [{\"colorbar\": {\"outlinewidth\": 0, \"ticks\": \"\"}, \"colorscale\": [[0.0, \"#0d0887\"], [0.1111111111111111, \"#46039f\"], [0.2222222222222222, \"#7201a8\"], [0.3333333333333333, \"#9c179e\"], [0.4444444444444444, \"#bd3786\"], [0.5555555555555556, \"#d8576b\"], [0.6666666666666666, \"#ed7953\"], [0.7777777777777778, \"#fb9f3a\"], [0.8888888888888888, \"#fdca26\"], [1.0, \"#f0f921\"]], \"type\": \"heatmap\"}], \"heatmapgl\": [{\"colorbar\": {\"outlinewidth\": 0, \"ticks\": \"\"}, \"colorscale\": [[0.0, \"#0d0887\"], [0.1111111111111111, \"#46039f\"], [0.2222222222222222, \"#7201a8\"], [0.3333333333333333, \"#9c179e\"], [0.4444444444444444, \"#bd3786\"], [0.5555555555555556, \"#d8576b\"], [0.6666666666666666, \"#ed7953\"], [0.7777777777777778, \"#fb9f3a\"], [0.8888888888888888, \"#fdca26\"], [1.0, \"#f0f921\"]], \"type\": \"heatmapgl\"}], \"histogram\": [{\"marker\": {\"colorbar\": {\"outlinewidth\": 0, \"ticks\": \"\"}}, \"type\": \"histogram\"}], \"histogram2d\": [{\"colorbar\": {\"outlinewidth\": 0, \"ticks\": \"\"}, \"colorscale\": [[0.0, \"#0d0887\"], [0.1111111111111111, \"#46039f\"], [0.2222222222222222, \"#7201a8\"], [0.3333333333333333, \"#9c179e\"], [0.4444444444444444, \"#bd3786\"], [0.5555555555555556, \"#d8576b\"], [0.6666666666666666, \"#ed7953\"], [0.7777777777777778, \"#fb9f3a\"], [0.8888888888888888, \"#fdca26\"], [1.0, \"#f0f921\"]], \"type\": \"histogram2d\"}], \"histogram2dcontour\": [{\"colorbar\": {\"outlinewidth\": 0, \"ticks\": \"\"}, \"colorscale\": [[0.0, \"#0d0887\"], [0.1111111111111111, \"#46039f\"], [0.2222222222222222, \"#7201a8\"], [0.3333333333333333, \"#9c179e\"], [0.4444444444444444, \"#bd3786\"], [0.5555555555555556, \"#d8576b\"], [0.6666666666666666, \"#ed7953\"], [0.7777777777777778, \"#fb9f3a\"], [0.8888888888888888, \"#fdca26\"], [1.0, \"#f0f921\"]], \"type\": \"histogram2dcontour\"}], \"mesh3d\": [{\"colorbar\": {\"outlinewidth\": 0, \"ticks\": \"\"}, \"type\": \"mesh3d\"}], \"parcoords\": [{\"line\": {\"colorbar\": {\"outlinewidth\": 0, \"ticks\": \"\"}}, \"type\": \"parcoords\"}], \"scatter\": [{\"marker\": {\"colorbar\": {\"outlinewidth\": 0, \"ticks\": \"\"}}, \"type\": \"scatter\"}], \"scatter3d\": [{\"line\": {\"colorbar\": {\"outlinewidth\": 0, \"ticks\": \"\"}}, \"marker\": {\"colorbar\": {\"outlinewidth\": 0, \"ticks\": \"\"}}, \"type\": \"scatter3d\"}], \"scattercarpet\": [{\"marker\": {\"colorbar\": {\"outlinewidth\": 0, \"ticks\": \"\"}}, \"type\": \"scattercarpet\"}], \"scattergeo\": [{\"marker\": {\"colorbar\": {\"outlinewidth\": 0, \"ticks\": \"\"}}, \"type\": \"scattergeo\"}], \"scattergl\": [{\"marker\": {\"colorbar\": {\"outlinewidth\": 0, \"ticks\": \"\"}}, \"type\": \"scattergl\"}], \"scattermapbox\": [{\"marker\": {\"colorbar\": {\"outlinewidth\": 0, \"ticks\": \"\"}}, \"type\": \"scattermapbox\"}], \"scatterpolar\": [{\"marker\": {\"colorbar\": {\"outlinewidth\": 0, \"ticks\": \"\"}}, \"type\": \"scatterpolar\"}], \"scatterpolargl\": [{\"marker\": {\"colorbar\": {\"outlinewidth\": 0, \"ticks\": \"\"}}, \"type\": \"scatterpolargl\"}], \"scatterternary\": [{\"marker\": {\"colorbar\": {\"outlinewidth\": 0, \"ticks\": \"\"}}, \"type\": \"scatterternary\"}], \"surface\": [{\"colorbar\": {\"outlinewidth\": 0, \"ticks\": \"\"}, \"colorscale\": [[0.0, \"#0d0887\"], [0.1111111111111111, \"#46039f\"], [0.2222222222222222, \"#7201a8\"], [0.3333333333333333, \"#9c179e\"], [0.4444444444444444, \"#bd3786\"], [0.5555555555555556, \"#d8576b\"], [0.6666666666666666, \"#ed7953\"], [0.7777777777777778, \"#fb9f3a\"], [0.8888888888888888, \"#fdca26\"], [1.0, \"#f0f921\"]], \"type\": \"surface\"}], \"table\": [{\"cells\": {\"fill\": {\"color\": \"#EBF0F8\"}, \"line\": {\"color\": \"white\"}}, \"header\": {\"fill\": {\"color\": \"#C8D4E3\"}, \"line\": {\"color\": \"white\"}}, \"type\": \"table\"}]}, \"layout\": {\"annotationdefaults\": {\"arrowcolor\": \"#2a3f5f\", \"arrowhead\": 0, \"arrowwidth\": 1}, \"colorscale\": {\"diverging\": [[0, \"#8e0152\"], [0.1, \"#c51b7d\"], [0.2, \"#de77ae\"], [0.3, \"#f1b6da\"], [0.4, \"#fde0ef\"], [0.5, \"#f7f7f7\"], [0.6, \"#e6f5d0\"], [0.7, \"#b8e186\"], [0.8, \"#7fbc41\"], [0.9, \"#4d9221\"], [1, \"#276419\"]], \"sequential\": [[0.0, \"#0d0887\"], [0.1111111111111111, \"#46039f\"], [0.2222222222222222, \"#7201a8\"], [0.3333333333333333, \"#9c179e\"], [0.4444444444444444, \"#bd3786\"], [0.5555555555555556, \"#d8576b\"], [0.6666666666666666, \"#ed7953\"], [0.7777777777777778, \"#fb9f3a\"], [0.8888888888888888, \"#fdca26\"], [1.0, \"#f0f921\"]], \"sequentialminus\": [[0.0, \"#0d0887\"], [0.1111111111111111, \"#46039f\"], [0.2222222222222222, \"#7201a8\"], [0.3333333333333333, \"#9c179e\"], [0.4444444444444444, \"#bd3786\"], [0.5555555555555556, \"#d8576b\"], [0.6666666666666666, \"#ed7953\"], [0.7777777777777778, \"#fb9f3a\"], [0.8888888888888888, \"#fdca26\"], [1.0, \"#f0f921\"]]}, \"colorway\": [\"#636efa\", \"#EF553B\", \"#00cc96\", \"#ab63fa\", \"#FFA15A\", \"#19d3f3\", \"#FF6692\", \"#B6E880\", \"#FF97FF\", \"#FECB52\"], \"font\": {\"color\": \"#2a3f5f\"}, \"geo\": {\"bgcolor\": \"white\", \"lakecolor\": \"white\", \"landcolor\": \"#E5ECF6\", \"showlakes\": true, \"showland\": true, \"subunitcolor\": \"white\"}, \"hoverlabel\": {\"align\": \"left\"}, \"hovermode\": \"closest\", \"mapbox\": {\"style\": \"light\"}, \"paper_bgcolor\": \"white\", \"plot_bgcolor\": \"#E5ECF6\", \"polar\": {\"angularaxis\": {\"gridcolor\": \"white\", \"linecolor\": \"white\", \"ticks\": \"\"}, \"bgcolor\": \"#E5ECF6\", \"radialaxis\": {\"gridcolor\": \"white\", \"linecolor\": \"white\", \"ticks\": \"\"}}, \"scene\": {\"xaxis\": {\"backgroundcolor\": \"#E5ECF6\", \"gridcolor\": \"white\", \"gridwidth\": 2, \"linecolor\": \"white\", \"showbackground\": true, \"ticks\": \"\", \"zerolinecolor\": \"white\"}, \"yaxis\": {\"backgroundcolor\": \"#E5ECF6\", \"gridcolor\": \"white\", \"gridwidth\": 2, \"linecolor\": \"white\", \"showbackground\": true, \"ticks\": \"\", \"zerolinecolor\": \"white\"}, \"zaxis\": {\"backgroundcolor\": \"#E5ECF6\", \"gridcolor\": \"white\", \"gridwidth\": 2, \"linecolor\": \"white\", \"showbackground\": true, \"ticks\": \"\", \"zerolinecolor\": \"white\"}}, \"shapedefaults\": {\"line\": {\"color\": \"#2a3f5f\"}}, \"ternary\": {\"aaxis\": {\"gridcolor\": \"white\", \"linecolor\": \"white\", \"ticks\": \"\"}, \"baxis\": {\"gridcolor\": \"white\", \"linecolor\": \"white\", \"ticks\": \"\"}, \"bgcolor\": \"#E5ECF6\", \"caxis\": {\"gridcolor\": \"white\", \"linecolor\": \"white\", \"ticks\": \"\"}}, \"title\": {\"x\": 0.05}, \"xaxis\": {\"automargin\": true, \"gridcolor\": \"white\", \"linecolor\": \"white\", \"ticks\": \"\", \"zerolinecolor\": \"white\", \"zerolinewidth\": 2}, \"yaxis\": {\"automargin\": true, \"gridcolor\": \"white\", \"linecolor\": \"white\", \"ticks\": \"\", \"zerolinecolor\": \"white\", \"zerolinewidth\": 2}}}, \"title\": {\"text\": \"tuwen:group/click/top1_best\"}, \"xaxis\": {\"type\": \"date\"}},\n",
       "                        {\"responsive\": true}\n",
       "                    ).then(function(){\n",
       "                            \n",
       "var gd = document.getElementById('19410f31-3360-4440-8b72-d072bf739442');\n",
       "var x = new MutationObserver(function (mutations, observer) {{\n",
       "        var display = window.getComputedStyle(gd).display;\n",
       "        if (!display || display === 'none') {{\n",
       "            console.log([gd, 'removed!']);\n",
       "            Plotly.purge(gd);\n",
       "            observer.disconnect();\n",
       "        }}\n",
       "}});\n",
       "\n",
       "// Listen for the removal of the full notebook cells\n",
       "var notebookContainer = gd.closest('#notebook-container');\n",
       "if (notebookContainer) {{\n",
       "    x.observe(notebookContainer, {childList: true});\n",
       "}}\n",
       "\n",
       "// Listen for the clearing of the current output cell\n",
       "var outputEl = gd.closest('.output');\n",
       "if (outputEl) {{\n",
       "    x.observe(outputEl, {childList: true});\n",
       "}}\n",
       "\n",
       "                        })\n",
       "                };\n",
       "                });\n",
       "            </script>\n",
       "        </div>"
      ]
     },
     "metadata": {},
     "output_type": "display_data"
    }
   ],
   "source": [
    "compare(df, 'group/click/top1_best')"
   ]
  },
  {
   "cell_type": "code",
   "execution_count": 20,
   "metadata": {},
   "outputs": [
    {
     "data": {
      "application/vnd.plotly.v1+json": {
       "config": {
        "linkText": "Export to plot.ly",
        "plotlyServerURL": "https://plot.ly",
        "showLink": false
       },
       "data": [
        {
         "line": {
          "shape": "spline",
          "smoothing": 1
         },
         "mode": "lines+markers",
         "name": "456:group/click/top1_rate",
         "type": "scatter",
         "x": [
          "2019-12-11T00:00:00",
          "2019-12-11T01:00:00",
          "2019-12-11T02:00:00",
          "2019-12-11T03:00:00",
          "2019-12-11T04:00:00",
          "2019-12-11T05:00:00",
          "2019-12-11T06:00:00",
          "2019-12-11T07:00:00",
          "2019-12-11T08:00:00",
          "2019-12-11T09:00:00",
          "2019-12-11T10:00:00",
          "2019-12-11T11:00:00",
          "2019-12-11T12:00:00",
          "2019-12-11T13:00:00",
          "2019-12-11T15:00:00",
          "2019-12-11T16:00:00",
          "2019-12-11T19:00:00",
          "2019-12-11T20:00:00",
          "2019-12-11T21:00:00",
          "2019-12-11T22:00:00",
          "2019-12-11T23:00:00",
          "2019-12-12T00:00:00",
          "2019-12-12T01:00:00",
          "2019-12-12T02:00:00",
          "2019-12-12T03:00:00",
          "2019-12-12T04:00:00",
          "2019-12-12T05:00:00",
          "2019-12-12T06:00:00",
          "2019-12-12T07:00:00",
          "2019-12-12T08:00:00",
          "2019-12-12T09:00:00",
          "2019-12-12T10:00:00",
          "2019-12-12T11:00:00",
          "2019-12-12T12:00:00",
          "2019-12-12T13:00:00",
          "2019-12-12T14:00:00",
          "2019-12-12T15:00:00",
          "2019-12-12T16:00:00",
          "2019-12-12T17:00:00",
          "2019-12-12T18:00:00",
          "2019-12-12T19:00:00",
          "2019-12-12T20:00:00",
          "2019-12-12T21:00:00",
          "2019-12-12T22:00:00",
          "2019-12-12T23:00:00",
          "2019-12-13T00:00:00",
          "2019-12-13T01:00:00",
          "2019-12-13T02:00:00",
          "2019-12-13T03:00:00",
          "2019-12-13T04:00:00",
          "2019-12-13T05:00:00",
          "2019-12-13T06:00:00",
          "2019-12-13T07:00:00",
          "2019-12-13T08:00:00",
          "2019-12-13T09:00:00",
          "2019-12-13T10:00:00",
          "2019-12-13T11:00:00",
          "2019-12-13T12:00:00",
          "2019-12-13T13:00:00",
          "2019-12-13T14:00:00",
          "2019-12-13T15:00:00",
          "2019-12-13T16:00:00",
          "2019-12-13T17:00:00",
          "2019-12-13T18:00:00",
          "2019-12-13T19:00:00",
          "2019-12-13T20:00:00",
          "2019-12-13T21:00:00",
          "2019-12-13T22:00:00",
          "2019-12-13T23:00:00",
          "2019-12-14T00:00:00",
          "2019-12-14T01:00:00",
          "2019-12-14T02:00:00",
          "2019-12-14T03:00:00",
          "2019-12-14T04:00:00",
          "2019-12-14T05:00:00",
          "2019-12-14T06:00:00",
          "2019-12-14T07:00:00",
          "2019-12-14T08:00:00",
          "2019-12-14T09:00:00",
          "2019-12-14T10:00:00",
          "2019-12-14T11:00:00",
          "2019-12-14T12:00:00",
          "2019-12-14T13:00:00",
          "2019-12-14T14:00:00",
          "2019-12-14T15:00:00",
          "2019-12-14T16:00:00",
          "2019-12-14T17:00:00",
          "2019-12-14T18:00:00",
          "2019-12-14T19:00:00",
          "2019-12-14T20:00:00",
          "2019-12-14T21:00:00",
          "2019-12-14T22:00:00",
          "2019-12-14T23:00:00",
          "2019-12-15T00:00:00",
          "2019-12-15T01:00:00",
          "2019-12-15T02:00:00",
          "2019-12-15T03:00:00",
          "2019-12-15T04:00:00",
          "2019-12-15T05:00:00",
          "2019-12-15T06:00:00",
          "2019-12-15T07:00:00",
          "2019-12-15T08:00:00",
          "2019-12-15T09:00:00",
          "2019-12-15T10:00:00",
          "2019-12-15T11:00:00",
          "2019-12-15T12:00:00",
          "2019-12-15T13:00:00",
          "2019-12-15T14:00:00",
          "2019-12-15T15:00:00",
          "2019-12-15T16:00:00",
          "2019-12-15T17:00:00",
          "2019-12-15T18:00:00",
          "2019-12-15T19:00:00",
          "2019-12-15T20:00:00",
          "2019-12-15T21:00:00",
          "2019-12-15T22:00:00",
          "2019-12-16T00:00:00"
         ],
         "y": [
          0.72263827946125,
          0.7322079326251906,
          0.7312567533468555,
          0.7371935018568465,
          0.7354029260594583,
          0.7435661819187009,
          0.7441028508439727,
          0.7555326465683523,
          0.7535101828867975,
          0.7493047559233139,
          0.7366033198592743,
          0.7500648450520944,
          0.7499042914123453,
          0.7519672098670775,
          0.7569849745953899,
          0.7727698523294155,
          0.7628818644838554,
          0.7378445596716952,
          0.7202772838147715,
          0.7157712011311786,
          0.6990857806840931,
          0.7083368903203354,
          0.7186165872770945,
          0.7260136917451219,
          0.7180767383194033,
          0.7451534903681709,
          0.732138892652937,
          0.7442941758842427,
          0.7540667524971298,
          0.7443978612833082,
          0.7385461779640676,
          0.7396415940452867,
          0.7415228824727349,
          0.7421526935306231,
          0.746695983641321,
          0.7448034159562862,
          0.7419069825451494,
          0.7340137976630852,
          0.7348693937987907,
          0.7307338260452217,
          0.7220849459201355,
          0.7148209747305845,
          0.706057446302585,
          0.6917390692994891,
          0.6784202236018141,
          0.679576268603153,
          0.6821871373710529,
          0.6788458912907084,
          0.6894473698222368,
          0.705958882719811,
          0.7416892069613047,
          0.7689314474019446,
          0.7696555688412345,
          0.8836664708419842,
          0.8039202364104838,
          0.75145387157988,
          0.7334980518684239,
          0.7222156008772744,
          0.7087498241895829,
          0.708516777813369,
          0.7085386213119925,
          0.6970813109871583,
          0.7136183874608929,
          0.7200724633560408,
          0.7158284980088281,
          0.7094497372531483,
          0.7003034514578036,
          0.6960312549591824,
          0.6885649316133187,
          0.6849175761463115,
          0.6855642378085054,
          0.6860620588858979,
          0.6918078299963001,
          0.7101891602023852,
          0.7149016640138632,
          0.7162265026232864,
          0.7210676799639826,
          0.7165280001715956,
          0.723629729160962,
          0.7254010457909387,
          0.7314304024936438,
          0.7378843202427185,
          0.7419848036038454,
          0.7381639368474693,
          0.7354408156778383,
          0.7396356701448668,
          0.7331511278322528,
          0.7533442887793143,
          0.8022748452757152,
          0.8101011511510188,
          0.8288394851432399,
          0.8350311626350064,
          0.8318107058840847,
          0.7945348777603423,
          0.7287657221144623,
          0.712229096676203,
          0.7160415527209653,
          0.7147031217343248,
          0.7232036966251647,
          0.7336401114581376,
          0.7343768490783179,
          0.7317449851393436,
          0.726001698227495,
          0.7289969690630729,
          0.7359076064449224,
          0.7359038370202937,
          0.7351571691406069,
          0.7330683831229318,
          0.7871984364512585,
          0.7339119812994845,
          0.742191833209757,
          0.861061933809754,
          0.8098296980123263,
          0.8470443512443684,
          0.8579210042667109,
          0.8614715364251145,
          0.87642621476406
         ]
        },
        {
         "line": {
          "shape": "spline",
          "smoothing": 1
         },
         "mode": "lines+markers",
         "name": "15:group/click/top1_rate",
         "type": "scatter",
         "x": [
          "2019-12-11T00:00:00",
          "2019-12-11T01:00:00",
          "2019-12-11T02:00:00",
          "2019-12-11T03:00:00",
          "2019-12-11T04:00:00",
          "2019-12-11T05:00:00",
          "2019-12-11T06:00:00",
          "2019-12-11T07:00:00",
          "2019-12-11T08:00:00",
          "2019-12-11T09:00:00",
          "2019-12-11T10:00:00",
          "2019-12-11T11:00:00",
          "2019-12-11T12:00:00",
          "2019-12-11T13:00:00",
          "2019-12-11T15:00:00",
          "2019-12-11T16:00:00",
          "2019-12-11T19:00:00",
          "2019-12-11T20:00:00",
          "2019-12-11T21:00:00",
          "2019-12-11T22:00:00",
          "2019-12-11T23:00:00",
          "2019-12-12T00:00:00",
          "2019-12-12T01:00:00",
          "2019-12-12T02:00:00",
          "2019-12-12T03:00:00",
          "2019-12-12T04:00:00",
          "2019-12-12T05:00:00",
          "2019-12-12T06:00:00",
          "2019-12-12T07:00:00",
          "2019-12-12T08:00:00",
          "2019-12-12T09:00:00",
          "2019-12-12T10:00:00",
          "2019-12-12T11:00:00",
          "2019-12-12T12:00:00",
          "2019-12-12T13:00:00",
          "2019-12-12T14:00:00",
          "2019-12-12T15:00:00",
          "2019-12-12T16:00:00",
          "2019-12-12T17:00:00",
          "2019-12-12T18:00:00",
          "2019-12-12T19:00:00",
          "2019-12-12T20:00:00",
          "2019-12-12T21:00:00",
          "2019-12-12T22:00:00",
          "2019-12-12T23:00:00",
          "2019-12-13T00:00:00",
          "2019-12-13T01:00:00",
          "2019-12-13T02:00:00",
          "2019-12-13T03:00:00",
          "2019-12-13T04:00:00",
          "2019-12-13T05:00:00",
          "2019-12-13T06:00:00",
          "2019-12-13T07:00:00",
          "2019-12-13T08:00:00",
          "2019-12-13T09:00:00",
          "2019-12-13T10:00:00",
          "2019-12-13T11:00:00",
          "2019-12-13T12:00:00",
          "2019-12-13T13:00:00",
          "2019-12-13T14:00:00",
          "2019-12-13T15:00:00",
          "2019-12-13T16:00:00",
          "2019-12-13T17:00:00",
          "2019-12-13T18:00:00",
          "2019-12-13T19:00:00",
          "2019-12-13T20:00:00",
          "2019-12-13T21:00:00",
          "2019-12-13T22:00:00",
          "2019-12-13T23:00:00",
          "2019-12-14T00:00:00",
          "2019-12-14T01:00:00",
          "2019-12-14T02:00:00",
          "2019-12-14T03:00:00",
          "2019-12-14T04:00:00",
          "2019-12-14T05:00:00",
          "2019-12-14T06:00:00",
          "2019-12-14T07:00:00",
          "2019-12-14T08:00:00",
          "2019-12-14T09:00:00",
          "2019-12-14T10:00:00",
          "2019-12-14T11:00:00",
          "2019-12-14T12:00:00",
          "2019-12-14T13:00:00",
          "2019-12-14T14:00:00",
          "2019-12-14T15:00:00",
          "2019-12-14T16:00:00",
          "2019-12-14T17:00:00",
          "2019-12-14T18:00:00",
          "2019-12-14T19:00:00",
          "2019-12-14T20:00:00",
          "2019-12-14T21:00:00",
          "2019-12-14T22:00:00",
          "2019-12-14T23:00:00",
          "2019-12-15T00:00:00",
          "2019-12-15T01:00:00",
          "2019-12-15T02:00:00",
          "2019-12-15T03:00:00",
          "2019-12-15T04:00:00",
          "2019-12-15T05:00:00",
          "2019-12-15T06:00:00",
          "2019-12-15T07:00:00",
          "2019-12-15T08:00:00",
          "2019-12-15T09:00:00",
          "2019-12-15T10:00:00",
          "2019-12-15T11:00:00",
          "2019-12-15T12:00:00",
          "2019-12-15T13:00:00",
          "2019-12-15T14:00:00",
          "2019-12-15T15:00:00",
          "2019-12-15T16:00:00",
          "2019-12-15T17:00:00",
          "2019-12-15T18:00:00",
          "2019-12-15T19:00:00",
          "2019-12-15T20:00:00",
          "2019-12-15T21:00:00",
          "2019-12-15T22:00:00",
          "2019-12-16T00:00:00"
         ],
         "y": [
          0.7226187507300088,
          0.7317153479447935,
          0.7344939204266496,
          0.7469353653050653,
          0.7503923800077592,
          0.7663515107947716,
          0.7710232639355589,
          0.7704053274224855,
          0.7596494631964108,
          0.7527051201684416,
          0.7588702432516937,
          0.7671171303897502,
          0.7628452608488051,
          0.7564259694917774,
          0.7407821699690824,
          0.7781856658916895,
          0.7652367542275171,
          0.7269449239535488,
          0.7070407059540609,
          0.6932159944356235,
          0.6874958624755683,
          0.6745108690479377,
          0.6929101991234533,
          0.6820017452015774,
          0.6965259072711446,
          0.7151225382074309,
          0.733946035748462,
          0.7256040333179992,
          0.7320223841996311,
          0.7100333136240763,
          0.7276014626164695,
          0.7359748268466195,
          0.7561436936547024,
          0.752907377763304,
          0.7418649297710193,
          0.7510629933637745,
          0.7575692419618576,
          0.7409665024576395,
          0.7383995540195778,
          0.7295712500393398,
          0.7342642667659194,
          0.7193758176708835,
          0.7241602512501956,
          0.7170873676724435,
          0.7086990694889572,
          0.7109602170933733,
          0.6964757567536586,
          0.7063974799547773,
          0.6947545968126374,
          0.7053518661609725,
          0.7349143501720177,
          0.7590456378225306,
          0.7612404851677037,
          0.8875464570207844,
          0.806978335565514,
          0.7692055624325279,
          0.7615888208594477,
          0.7518135859804802,
          0.737589235393355,
          0.7332678384263298,
          0.7271099930720593,
          0.7320624730520917,
          0.7379003512459857,
          0.7272779070343991,
          0.7290480254670512,
          0.7166780175730281,
          0.6887073315427632,
          0.6998429170412044,
          0.7006177553969923,
          0.6934832732928007,
          0.7018780958633994,
          0.7106929151199329,
          0.7132025367279414,
          0.7238275062224591,
          0.6992524509569502,
          0.7177785274522698,
          0.7350305464789125,
          0.7139976043467358,
          0.71416865267745,
          0.7130991224369152,
          0.7187077444033522,
          0.731603697999004,
          0.7324451916970747,
          0.7269832062916213,
          0.7182058610069015,
          0.7289665778344678,
          0.7235570587856323,
          0.7473838144091008,
          0.8075805255187554,
          0.8171453621411284,
          0.8450327677899709,
          0.8326667812530105,
          0.8263200496213405,
          0.7860039233187239,
          0.7399380751182425,
          0.7250217201930915,
          0.7337219603521056,
          0.7327345578729618,
          0.7048021702886482,
          0.7134039507138799,
          0.7098094494319211,
          0.7284938705242154,
          0.7188221979819465,
          0.7087734960740114,
          0.7181211506439721,
          0.725251263387092,
          0.7335603526801042,
          0.7293184714351532,
          0.7812872789252705,
          0.7479645362476846,
          0.7583337872409959,
          0.85915166529861,
          0.8095819312388401,
          0.8397976200360939,
          0.868609580632624,
          0.8655091655471083,
          0.8892337751874937
         ]
        }
       ],
       "layout": {
        "hovermode": "x",
        "template": {
         "data": {
          "bar": [
           {
            "error_x": {
             "color": "#2a3f5f"
            },
            "error_y": {
             "color": "#2a3f5f"
            },
            "marker": {
             "line": {
              "color": "#E5ECF6",
              "width": 0.5
             }
            },
            "type": "bar"
           }
          ],
          "barpolar": [
           {
            "marker": {
             "line": {
              "color": "#E5ECF6",
              "width": 0.5
             }
            },
            "type": "barpolar"
           }
          ],
          "carpet": [
           {
            "aaxis": {
             "endlinecolor": "#2a3f5f",
             "gridcolor": "white",
             "linecolor": "white",
             "minorgridcolor": "white",
             "startlinecolor": "#2a3f5f"
            },
            "baxis": {
             "endlinecolor": "#2a3f5f",
             "gridcolor": "white",
             "linecolor": "white",
             "minorgridcolor": "white",
             "startlinecolor": "#2a3f5f"
            },
            "type": "carpet"
           }
          ],
          "choropleth": [
           {
            "colorbar": {
             "outlinewidth": 0,
             "ticks": ""
            },
            "type": "choropleth"
           }
          ],
          "contour": [
           {
            "colorbar": {
             "outlinewidth": 0,
             "ticks": ""
            },
            "colorscale": [
             [
              0,
              "#0d0887"
             ],
             [
              0.1111111111111111,
              "#46039f"
             ],
             [
              0.2222222222222222,
              "#7201a8"
             ],
             [
              0.3333333333333333,
              "#9c179e"
             ],
             [
              0.4444444444444444,
              "#bd3786"
             ],
             [
              0.5555555555555556,
              "#d8576b"
             ],
             [
              0.6666666666666666,
              "#ed7953"
             ],
             [
              0.7777777777777778,
              "#fb9f3a"
             ],
             [
              0.8888888888888888,
              "#fdca26"
             ],
             [
              1,
              "#f0f921"
             ]
            ],
            "type": "contour"
           }
          ],
          "contourcarpet": [
           {
            "colorbar": {
             "outlinewidth": 0,
             "ticks": ""
            },
            "type": "contourcarpet"
           }
          ],
          "heatmap": [
           {
            "colorbar": {
             "outlinewidth": 0,
             "ticks": ""
            },
            "colorscale": [
             [
              0,
              "#0d0887"
             ],
             [
              0.1111111111111111,
              "#46039f"
             ],
             [
              0.2222222222222222,
              "#7201a8"
             ],
             [
              0.3333333333333333,
              "#9c179e"
             ],
             [
              0.4444444444444444,
              "#bd3786"
             ],
             [
              0.5555555555555556,
              "#d8576b"
             ],
             [
              0.6666666666666666,
              "#ed7953"
             ],
             [
              0.7777777777777778,
              "#fb9f3a"
             ],
             [
              0.8888888888888888,
              "#fdca26"
             ],
             [
              1,
              "#f0f921"
             ]
            ],
            "type": "heatmap"
           }
          ],
          "heatmapgl": [
           {
            "colorbar": {
             "outlinewidth": 0,
             "ticks": ""
            },
            "colorscale": [
             [
              0,
              "#0d0887"
             ],
             [
              0.1111111111111111,
              "#46039f"
             ],
             [
              0.2222222222222222,
              "#7201a8"
             ],
             [
              0.3333333333333333,
              "#9c179e"
             ],
             [
              0.4444444444444444,
              "#bd3786"
             ],
             [
              0.5555555555555556,
              "#d8576b"
             ],
             [
              0.6666666666666666,
              "#ed7953"
             ],
             [
              0.7777777777777778,
              "#fb9f3a"
             ],
             [
              0.8888888888888888,
              "#fdca26"
             ],
             [
              1,
              "#f0f921"
             ]
            ],
            "type": "heatmapgl"
           }
          ],
          "histogram": [
           {
            "marker": {
             "colorbar": {
              "outlinewidth": 0,
              "ticks": ""
             }
            },
            "type": "histogram"
           }
          ],
          "histogram2d": [
           {
            "colorbar": {
             "outlinewidth": 0,
             "ticks": ""
            },
            "colorscale": [
             [
              0,
              "#0d0887"
             ],
             [
              0.1111111111111111,
              "#46039f"
             ],
             [
              0.2222222222222222,
              "#7201a8"
             ],
             [
              0.3333333333333333,
              "#9c179e"
             ],
             [
              0.4444444444444444,
              "#bd3786"
             ],
             [
              0.5555555555555556,
              "#d8576b"
             ],
             [
              0.6666666666666666,
              "#ed7953"
             ],
             [
              0.7777777777777778,
              "#fb9f3a"
             ],
             [
              0.8888888888888888,
              "#fdca26"
             ],
             [
              1,
              "#f0f921"
             ]
            ],
            "type": "histogram2d"
           }
          ],
          "histogram2dcontour": [
           {
            "colorbar": {
             "outlinewidth": 0,
             "ticks": ""
            },
            "colorscale": [
             [
              0,
              "#0d0887"
             ],
             [
              0.1111111111111111,
              "#46039f"
             ],
             [
              0.2222222222222222,
              "#7201a8"
             ],
             [
              0.3333333333333333,
              "#9c179e"
             ],
             [
              0.4444444444444444,
              "#bd3786"
             ],
             [
              0.5555555555555556,
              "#d8576b"
             ],
             [
              0.6666666666666666,
              "#ed7953"
             ],
             [
              0.7777777777777778,
              "#fb9f3a"
             ],
             [
              0.8888888888888888,
              "#fdca26"
             ],
             [
              1,
              "#f0f921"
             ]
            ],
            "type": "histogram2dcontour"
           }
          ],
          "mesh3d": [
           {
            "colorbar": {
             "outlinewidth": 0,
             "ticks": ""
            },
            "type": "mesh3d"
           }
          ],
          "parcoords": [
           {
            "line": {
             "colorbar": {
              "outlinewidth": 0,
              "ticks": ""
             }
            },
            "type": "parcoords"
           }
          ],
          "scatter": [
           {
            "marker": {
             "colorbar": {
              "outlinewidth": 0,
              "ticks": ""
             }
            },
            "type": "scatter"
           }
          ],
          "scatter3d": [
           {
            "line": {
             "colorbar": {
              "outlinewidth": 0,
              "ticks": ""
             }
            },
            "marker": {
             "colorbar": {
              "outlinewidth": 0,
              "ticks": ""
             }
            },
            "type": "scatter3d"
           }
          ],
          "scattercarpet": [
           {
            "marker": {
             "colorbar": {
              "outlinewidth": 0,
              "ticks": ""
             }
            },
            "type": "scattercarpet"
           }
          ],
          "scattergeo": [
           {
            "marker": {
             "colorbar": {
              "outlinewidth": 0,
              "ticks": ""
             }
            },
            "type": "scattergeo"
           }
          ],
          "scattergl": [
           {
            "marker": {
             "colorbar": {
              "outlinewidth": 0,
              "ticks": ""
             }
            },
            "type": "scattergl"
           }
          ],
          "scattermapbox": [
           {
            "marker": {
             "colorbar": {
              "outlinewidth": 0,
              "ticks": ""
             }
            },
            "type": "scattermapbox"
           }
          ],
          "scatterpolar": [
           {
            "marker": {
             "colorbar": {
              "outlinewidth": 0,
              "ticks": ""
             }
            },
            "type": "scatterpolar"
           }
          ],
          "scatterpolargl": [
           {
            "marker": {
             "colorbar": {
              "outlinewidth": 0,
              "ticks": ""
             }
            },
            "type": "scatterpolargl"
           }
          ],
          "scatterternary": [
           {
            "marker": {
             "colorbar": {
              "outlinewidth": 0,
              "ticks": ""
             }
            },
            "type": "scatterternary"
           }
          ],
          "surface": [
           {
            "colorbar": {
             "outlinewidth": 0,
             "ticks": ""
            },
            "colorscale": [
             [
              0,
              "#0d0887"
             ],
             [
              0.1111111111111111,
              "#46039f"
             ],
             [
              0.2222222222222222,
              "#7201a8"
             ],
             [
              0.3333333333333333,
              "#9c179e"
             ],
             [
              0.4444444444444444,
              "#bd3786"
             ],
             [
              0.5555555555555556,
              "#d8576b"
             ],
             [
              0.6666666666666666,
              "#ed7953"
             ],
             [
              0.7777777777777778,
              "#fb9f3a"
             ],
             [
              0.8888888888888888,
              "#fdca26"
             ],
             [
              1,
              "#f0f921"
             ]
            ],
            "type": "surface"
           }
          ],
          "table": [
           {
            "cells": {
             "fill": {
              "color": "#EBF0F8"
             },
             "line": {
              "color": "white"
             }
            },
            "header": {
             "fill": {
              "color": "#C8D4E3"
             },
             "line": {
              "color": "white"
             }
            },
            "type": "table"
           }
          ]
         },
         "layout": {
          "annotationdefaults": {
           "arrowcolor": "#2a3f5f",
           "arrowhead": 0,
           "arrowwidth": 1
          },
          "colorscale": {
           "diverging": [
            [
             0,
             "#8e0152"
            ],
            [
             0.1,
             "#c51b7d"
            ],
            [
             0.2,
             "#de77ae"
            ],
            [
             0.3,
             "#f1b6da"
            ],
            [
             0.4,
             "#fde0ef"
            ],
            [
             0.5,
             "#f7f7f7"
            ],
            [
             0.6,
             "#e6f5d0"
            ],
            [
             0.7,
             "#b8e186"
            ],
            [
             0.8,
             "#7fbc41"
            ],
            [
             0.9,
             "#4d9221"
            ],
            [
             1,
             "#276419"
            ]
           ],
           "sequential": [
            [
             0,
             "#0d0887"
            ],
            [
             0.1111111111111111,
             "#46039f"
            ],
            [
             0.2222222222222222,
             "#7201a8"
            ],
            [
             0.3333333333333333,
             "#9c179e"
            ],
            [
             0.4444444444444444,
             "#bd3786"
            ],
            [
             0.5555555555555556,
             "#d8576b"
            ],
            [
             0.6666666666666666,
             "#ed7953"
            ],
            [
             0.7777777777777778,
             "#fb9f3a"
            ],
            [
             0.8888888888888888,
             "#fdca26"
            ],
            [
             1,
             "#f0f921"
            ]
           ],
           "sequentialminus": [
            [
             0,
             "#0d0887"
            ],
            [
             0.1111111111111111,
             "#46039f"
            ],
            [
             0.2222222222222222,
             "#7201a8"
            ],
            [
             0.3333333333333333,
             "#9c179e"
            ],
            [
             0.4444444444444444,
             "#bd3786"
            ],
            [
             0.5555555555555556,
             "#d8576b"
            ],
            [
             0.6666666666666666,
             "#ed7953"
            ],
            [
             0.7777777777777778,
             "#fb9f3a"
            ],
            [
             0.8888888888888888,
             "#fdca26"
            ],
            [
             1,
             "#f0f921"
            ]
           ]
          },
          "colorway": [
           "#636efa",
           "#EF553B",
           "#00cc96",
           "#ab63fa",
           "#FFA15A",
           "#19d3f3",
           "#FF6692",
           "#B6E880",
           "#FF97FF",
           "#FECB52"
          ],
          "font": {
           "color": "#2a3f5f"
          },
          "geo": {
           "bgcolor": "white",
           "lakecolor": "white",
           "landcolor": "#E5ECF6",
           "showlakes": true,
           "showland": true,
           "subunitcolor": "white"
          },
          "hoverlabel": {
           "align": "left"
          },
          "hovermode": "closest",
          "mapbox": {
           "style": "light"
          },
          "paper_bgcolor": "white",
          "plot_bgcolor": "#E5ECF6",
          "polar": {
           "angularaxis": {
            "gridcolor": "white",
            "linecolor": "white",
            "ticks": ""
           },
           "bgcolor": "#E5ECF6",
           "radialaxis": {
            "gridcolor": "white",
            "linecolor": "white",
            "ticks": ""
           }
          },
          "scene": {
           "xaxis": {
            "backgroundcolor": "#E5ECF6",
            "gridcolor": "white",
            "gridwidth": 2,
            "linecolor": "white",
            "showbackground": true,
            "ticks": "",
            "zerolinecolor": "white"
           },
           "yaxis": {
            "backgroundcolor": "#E5ECF6",
            "gridcolor": "white",
            "gridwidth": 2,
            "linecolor": "white",
            "showbackground": true,
            "ticks": "",
            "zerolinecolor": "white"
           },
           "zaxis": {
            "backgroundcolor": "#E5ECF6",
            "gridcolor": "white",
            "gridwidth": 2,
            "linecolor": "white",
            "showbackground": true,
            "ticks": "",
            "zerolinecolor": "white"
           }
          },
          "shapedefaults": {
           "line": {
            "color": "#2a3f5f"
           }
          },
          "ternary": {
           "aaxis": {
            "gridcolor": "white",
            "linecolor": "white",
            "ticks": ""
           },
           "baxis": {
            "gridcolor": "white",
            "linecolor": "white",
            "ticks": ""
           },
           "bgcolor": "#E5ECF6",
           "caxis": {
            "gridcolor": "white",
            "linecolor": "white",
            "ticks": ""
           }
          },
          "title": {
           "x": 0.05
          },
          "xaxis": {
           "automargin": true,
           "gridcolor": "white",
           "linecolor": "white",
           "ticks": "",
           "zerolinecolor": "white",
           "zerolinewidth": 2
          },
          "yaxis": {
           "automargin": true,
           "gridcolor": "white",
           "linecolor": "white",
           "ticks": "",
           "zerolinecolor": "white",
           "zerolinewidth": 2
          }
         }
        },
        "title": {
         "text": "tuwen:group/click/top1_rate"
        },
        "xaxis": {
         "type": "date"
        }
       }
      },
      "text/html": [
       "<div>\n",
       "        \n",
       "        \n",
       "            <div id=\"8d2aea73-2d12-4996-8850-9da861688be1\" class=\"plotly-graph-div\" style=\"height:525px; width:100%;\"></div>\n",
       "            <script type=\"text/javascript\">\n",
       "                require([\"plotly\"], function(Plotly) {\n",
       "                    window.PLOTLYENV=window.PLOTLYENV || {};\n",
       "                    \n",
       "                if (document.getElementById(\"8d2aea73-2d12-4996-8850-9da861688be1\")) {\n",
       "                    Plotly.newPlot(\n",
       "                        '8d2aea73-2d12-4996-8850-9da861688be1',\n",
       "                        [{\"line\": {\"shape\": \"spline\", \"smoothing\": 1.0}, \"mode\": \"lines+markers\", \"name\": \"456:group/click/top1_rate\", \"type\": \"scatter\", \"x\": [\"2019-12-11T00:00:00\", \"2019-12-11T01:00:00\", \"2019-12-11T02:00:00\", \"2019-12-11T03:00:00\", \"2019-12-11T04:00:00\", \"2019-12-11T05:00:00\", \"2019-12-11T06:00:00\", \"2019-12-11T07:00:00\", \"2019-12-11T08:00:00\", \"2019-12-11T09:00:00\", \"2019-12-11T10:00:00\", \"2019-12-11T11:00:00\", \"2019-12-11T12:00:00\", \"2019-12-11T13:00:00\", \"2019-12-11T15:00:00\", \"2019-12-11T16:00:00\", \"2019-12-11T19:00:00\", \"2019-12-11T20:00:00\", \"2019-12-11T21:00:00\", \"2019-12-11T22:00:00\", \"2019-12-11T23:00:00\", \"2019-12-12T00:00:00\", \"2019-12-12T01:00:00\", \"2019-12-12T02:00:00\", \"2019-12-12T03:00:00\", \"2019-12-12T04:00:00\", \"2019-12-12T05:00:00\", \"2019-12-12T06:00:00\", \"2019-12-12T07:00:00\", \"2019-12-12T08:00:00\", \"2019-12-12T09:00:00\", \"2019-12-12T10:00:00\", \"2019-12-12T11:00:00\", \"2019-12-12T12:00:00\", \"2019-12-12T13:00:00\", \"2019-12-12T14:00:00\", \"2019-12-12T15:00:00\", \"2019-12-12T16:00:00\", \"2019-12-12T17:00:00\", \"2019-12-12T18:00:00\", \"2019-12-12T19:00:00\", \"2019-12-12T20:00:00\", \"2019-12-12T21:00:00\", \"2019-12-12T22:00:00\", \"2019-12-12T23:00:00\", \"2019-12-13T00:00:00\", \"2019-12-13T01:00:00\", \"2019-12-13T02:00:00\", \"2019-12-13T03:00:00\", \"2019-12-13T04:00:00\", \"2019-12-13T05:00:00\", \"2019-12-13T06:00:00\", \"2019-12-13T07:00:00\", \"2019-12-13T08:00:00\", \"2019-12-13T09:00:00\", \"2019-12-13T10:00:00\", \"2019-12-13T11:00:00\", \"2019-12-13T12:00:00\", \"2019-12-13T13:00:00\", \"2019-12-13T14:00:00\", \"2019-12-13T15:00:00\", \"2019-12-13T16:00:00\", \"2019-12-13T17:00:00\", \"2019-12-13T18:00:00\", \"2019-12-13T19:00:00\", \"2019-12-13T20:00:00\", \"2019-12-13T21:00:00\", \"2019-12-13T22:00:00\", \"2019-12-13T23:00:00\", \"2019-12-14T00:00:00\", \"2019-12-14T01:00:00\", \"2019-12-14T02:00:00\", \"2019-12-14T03:00:00\", \"2019-12-14T04:00:00\", \"2019-12-14T05:00:00\", \"2019-12-14T06:00:00\", \"2019-12-14T07:00:00\", \"2019-12-14T08:00:00\", \"2019-12-14T09:00:00\", \"2019-12-14T10:00:00\", \"2019-12-14T11:00:00\", \"2019-12-14T12:00:00\", \"2019-12-14T13:00:00\", \"2019-12-14T14:00:00\", \"2019-12-14T15:00:00\", \"2019-12-14T16:00:00\", \"2019-12-14T17:00:00\", \"2019-12-14T18:00:00\", \"2019-12-14T19:00:00\", \"2019-12-14T20:00:00\", \"2019-12-14T21:00:00\", \"2019-12-14T22:00:00\", \"2019-12-14T23:00:00\", \"2019-12-15T00:00:00\", \"2019-12-15T01:00:00\", \"2019-12-15T02:00:00\", \"2019-12-15T03:00:00\", \"2019-12-15T04:00:00\", \"2019-12-15T05:00:00\", \"2019-12-15T06:00:00\", \"2019-12-15T07:00:00\", \"2019-12-15T08:00:00\", \"2019-12-15T09:00:00\", \"2019-12-15T10:00:00\", \"2019-12-15T11:00:00\", \"2019-12-15T12:00:00\", \"2019-12-15T13:00:00\", \"2019-12-15T14:00:00\", \"2019-12-15T15:00:00\", \"2019-12-15T16:00:00\", \"2019-12-15T17:00:00\", \"2019-12-15T18:00:00\", \"2019-12-15T19:00:00\", \"2019-12-15T20:00:00\", \"2019-12-15T21:00:00\", \"2019-12-15T22:00:00\", \"2019-12-16T00:00:00\"], \"y\": [0.72263827946125, 0.7322079326251906, 0.7312567533468555, 0.7371935018568465, 0.7354029260594583, 0.7435661819187009, 0.7441028508439727, 0.7555326465683523, 0.7535101828867975, 0.7493047559233139, 0.7366033198592743, 0.7500648450520944, 0.7499042914123453, 0.7519672098670775, 0.7569849745953899, 0.7727698523294155, 0.7628818644838554, 0.7378445596716952, 0.7202772838147715, 0.7157712011311786, 0.6990857806840931, 0.7083368903203354, 0.7186165872770945, 0.7260136917451219, 0.7180767383194033, 0.7451534903681709, 0.732138892652937, 0.7442941758842427, 0.7540667524971298, 0.7443978612833082, 0.7385461779640676, 0.7396415940452867, 0.7415228824727349, 0.7421526935306231, 0.746695983641321, 0.7448034159562862, 0.7419069825451494, 0.7340137976630852, 0.7348693937987907, 0.7307338260452217, 0.7220849459201355, 0.7148209747305845, 0.706057446302585, 0.6917390692994891, 0.6784202236018141, 0.679576268603153, 0.6821871373710529, 0.6788458912907084, 0.6894473698222368, 0.705958882719811, 0.7416892069613047, 0.7689314474019446, 0.7696555688412345, 0.8836664708419842, 0.8039202364104838, 0.75145387157988, 0.7334980518684239, 0.7222156008772744, 0.7087498241895829, 0.708516777813369, 0.7085386213119925, 0.6970813109871583, 0.7136183874608929, 0.7200724633560408, 0.7158284980088281, 0.7094497372531483, 0.7003034514578036, 0.6960312549591824, 0.6885649316133187, 0.6849175761463115, 0.6855642378085054, 0.6860620588858979, 0.6918078299963001, 0.7101891602023852, 0.7149016640138632, 0.7162265026232864, 0.7210676799639826, 0.7165280001715956, 0.723629729160962, 0.7254010457909387, 0.7314304024936438, 0.7378843202427185, 0.7419848036038454, 0.7381639368474693, 0.7354408156778383, 0.7396356701448668, 0.7331511278322528, 0.7533442887793143, 0.8022748452757152, 0.8101011511510188, 0.8288394851432399, 0.8350311626350064, 0.8318107058840847, 0.7945348777603423, 0.7287657221144623, 0.712229096676203, 0.7160415527209653, 0.7147031217343248, 0.7232036966251647, 0.7336401114581376, 0.7343768490783179, 0.7317449851393436, 0.726001698227495, 0.7289969690630729, 0.7359076064449224, 0.7359038370202937, 0.7351571691406069, 0.7330683831229318, 0.7871984364512585, 0.7339119812994845, 0.742191833209757, 0.861061933809754, 0.8098296980123263, 0.8470443512443684, 0.8579210042667109, 0.8614715364251145, 0.87642621476406]}, {\"line\": {\"shape\": \"spline\", \"smoothing\": 1.0}, \"mode\": \"lines+markers\", \"name\": \"15:group/click/top1_rate\", \"type\": \"scatter\", \"x\": [\"2019-12-11T00:00:00\", \"2019-12-11T01:00:00\", \"2019-12-11T02:00:00\", \"2019-12-11T03:00:00\", \"2019-12-11T04:00:00\", \"2019-12-11T05:00:00\", \"2019-12-11T06:00:00\", \"2019-12-11T07:00:00\", \"2019-12-11T08:00:00\", \"2019-12-11T09:00:00\", \"2019-12-11T10:00:00\", \"2019-12-11T11:00:00\", \"2019-12-11T12:00:00\", \"2019-12-11T13:00:00\", \"2019-12-11T15:00:00\", \"2019-12-11T16:00:00\", \"2019-12-11T19:00:00\", \"2019-12-11T20:00:00\", \"2019-12-11T21:00:00\", \"2019-12-11T22:00:00\", \"2019-12-11T23:00:00\", \"2019-12-12T00:00:00\", \"2019-12-12T01:00:00\", \"2019-12-12T02:00:00\", \"2019-12-12T03:00:00\", \"2019-12-12T04:00:00\", \"2019-12-12T05:00:00\", \"2019-12-12T06:00:00\", \"2019-12-12T07:00:00\", \"2019-12-12T08:00:00\", \"2019-12-12T09:00:00\", \"2019-12-12T10:00:00\", \"2019-12-12T11:00:00\", \"2019-12-12T12:00:00\", \"2019-12-12T13:00:00\", \"2019-12-12T14:00:00\", \"2019-12-12T15:00:00\", \"2019-12-12T16:00:00\", \"2019-12-12T17:00:00\", \"2019-12-12T18:00:00\", \"2019-12-12T19:00:00\", \"2019-12-12T20:00:00\", \"2019-12-12T21:00:00\", \"2019-12-12T22:00:00\", \"2019-12-12T23:00:00\", \"2019-12-13T00:00:00\", \"2019-12-13T01:00:00\", \"2019-12-13T02:00:00\", \"2019-12-13T03:00:00\", \"2019-12-13T04:00:00\", \"2019-12-13T05:00:00\", \"2019-12-13T06:00:00\", \"2019-12-13T07:00:00\", \"2019-12-13T08:00:00\", \"2019-12-13T09:00:00\", \"2019-12-13T10:00:00\", \"2019-12-13T11:00:00\", \"2019-12-13T12:00:00\", \"2019-12-13T13:00:00\", \"2019-12-13T14:00:00\", \"2019-12-13T15:00:00\", \"2019-12-13T16:00:00\", \"2019-12-13T17:00:00\", \"2019-12-13T18:00:00\", \"2019-12-13T19:00:00\", \"2019-12-13T20:00:00\", \"2019-12-13T21:00:00\", \"2019-12-13T22:00:00\", \"2019-12-13T23:00:00\", \"2019-12-14T00:00:00\", \"2019-12-14T01:00:00\", \"2019-12-14T02:00:00\", \"2019-12-14T03:00:00\", \"2019-12-14T04:00:00\", \"2019-12-14T05:00:00\", \"2019-12-14T06:00:00\", \"2019-12-14T07:00:00\", \"2019-12-14T08:00:00\", \"2019-12-14T09:00:00\", \"2019-12-14T10:00:00\", \"2019-12-14T11:00:00\", \"2019-12-14T12:00:00\", \"2019-12-14T13:00:00\", \"2019-12-14T14:00:00\", \"2019-12-14T15:00:00\", \"2019-12-14T16:00:00\", \"2019-12-14T17:00:00\", \"2019-12-14T18:00:00\", \"2019-12-14T19:00:00\", \"2019-12-14T20:00:00\", \"2019-12-14T21:00:00\", \"2019-12-14T22:00:00\", \"2019-12-14T23:00:00\", \"2019-12-15T00:00:00\", \"2019-12-15T01:00:00\", \"2019-12-15T02:00:00\", \"2019-12-15T03:00:00\", \"2019-12-15T04:00:00\", \"2019-12-15T05:00:00\", \"2019-12-15T06:00:00\", \"2019-12-15T07:00:00\", \"2019-12-15T08:00:00\", \"2019-12-15T09:00:00\", \"2019-12-15T10:00:00\", \"2019-12-15T11:00:00\", \"2019-12-15T12:00:00\", \"2019-12-15T13:00:00\", \"2019-12-15T14:00:00\", \"2019-12-15T15:00:00\", \"2019-12-15T16:00:00\", \"2019-12-15T17:00:00\", \"2019-12-15T18:00:00\", \"2019-12-15T19:00:00\", \"2019-12-15T20:00:00\", \"2019-12-15T21:00:00\", \"2019-12-15T22:00:00\", \"2019-12-16T00:00:00\"], \"y\": [0.7226187507300088, 0.7317153479447935, 0.7344939204266496, 0.7469353653050653, 0.7503923800077592, 0.7663515107947716, 0.7710232639355589, 0.7704053274224855, 0.7596494631964108, 0.7527051201684416, 0.7588702432516937, 0.7671171303897502, 0.7628452608488051, 0.7564259694917774, 0.7407821699690824, 0.7781856658916895, 0.7652367542275171, 0.7269449239535488, 0.7070407059540609, 0.6932159944356235, 0.6874958624755683, 0.6745108690479377, 0.6929101991234533, 0.6820017452015774, 0.6965259072711446, 0.7151225382074309, 0.733946035748462, 0.7256040333179992, 0.7320223841996311, 0.7100333136240763, 0.7276014626164695, 0.7359748268466195, 0.7561436936547024, 0.752907377763304, 0.7418649297710193, 0.7510629933637745, 0.7575692419618576, 0.7409665024576395, 0.7383995540195778, 0.7295712500393398, 0.7342642667659194, 0.7193758176708835, 0.7241602512501956, 0.7170873676724435, 0.7086990694889572, 0.7109602170933733, 0.6964757567536586, 0.7063974799547773, 0.6947545968126374, 0.7053518661609725, 0.7349143501720177, 0.7590456378225306, 0.7612404851677037, 0.8875464570207844, 0.806978335565514, 0.7692055624325279, 0.7615888208594477, 0.7518135859804802, 0.737589235393355, 0.7332678384263298, 0.7271099930720593, 0.7320624730520917, 0.7379003512459857, 0.7272779070343991, 0.7290480254670512, 0.7166780175730281, 0.6887073315427632, 0.6998429170412044, 0.7006177553969923, 0.6934832732928007, 0.7018780958633994, 0.7106929151199329, 0.7132025367279414, 0.7238275062224591, 0.6992524509569502, 0.7177785274522698, 0.7350305464789125, 0.7139976043467358, 0.71416865267745, 0.7130991224369152, 0.7187077444033522, 0.731603697999004, 0.7324451916970747, 0.7269832062916213, 0.7182058610069015, 0.7289665778344678, 0.7235570587856323, 0.7473838144091008, 0.8075805255187554, 0.8171453621411284, 0.8450327677899709, 0.8326667812530105, 0.8263200496213405, 0.7860039233187239, 0.7399380751182425, 0.7250217201930915, 0.7337219603521056, 0.7327345578729618, 0.7048021702886482, 0.7134039507138799, 0.7098094494319211, 0.7284938705242154, 0.7188221979819465, 0.7087734960740114, 0.7181211506439721, 0.725251263387092, 0.7335603526801042, 0.7293184714351532, 0.7812872789252705, 0.7479645362476846, 0.7583337872409959, 0.85915166529861, 0.8095819312388401, 0.8397976200360939, 0.868609580632624, 0.8655091655471083, 0.8892337751874937]}],\n",
       "                        {\"hovermode\": \"x\", \"template\": {\"data\": {\"bar\": [{\"error_x\": {\"color\": \"#2a3f5f\"}, \"error_y\": {\"color\": \"#2a3f5f\"}, \"marker\": {\"line\": {\"color\": \"#E5ECF6\", \"width\": 0.5}}, \"type\": \"bar\"}], \"barpolar\": [{\"marker\": {\"line\": {\"color\": \"#E5ECF6\", \"width\": 0.5}}, \"type\": \"barpolar\"}], \"carpet\": [{\"aaxis\": {\"endlinecolor\": \"#2a3f5f\", \"gridcolor\": \"white\", \"linecolor\": \"white\", \"minorgridcolor\": \"white\", \"startlinecolor\": \"#2a3f5f\"}, \"baxis\": {\"endlinecolor\": \"#2a3f5f\", \"gridcolor\": \"white\", \"linecolor\": \"white\", \"minorgridcolor\": \"white\", \"startlinecolor\": \"#2a3f5f\"}, \"type\": \"carpet\"}], \"choropleth\": [{\"colorbar\": {\"outlinewidth\": 0, \"ticks\": \"\"}, \"type\": \"choropleth\"}], \"contour\": [{\"colorbar\": {\"outlinewidth\": 0, \"ticks\": \"\"}, \"colorscale\": [[0.0, \"#0d0887\"], [0.1111111111111111, \"#46039f\"], [0.2222222222222222, \"#7201a8\"], [0.3333333333333333, \"#9c179e\"], [0.4444444444444444, \"#bd3786\"], [0.5555555555555556, \"#d8576b\"], [0.6666666666666666, \"#ed7953\"], [0.7777777777777778, \"#fb9f3a\"], [0.8888888888888888, \"#fdca26\"], [1.0, \"#f0f921\"]], \"type\": \"contour\"}], \"contourcarpet\": [{\"colorbar\": {\"outlinewidth\": 0, \"ticks\": \"\"}, \"type\": \"contourcarpet\"}], \"heatmap\": [{\"colorbar\": {\"outlinewidth\": 0, \"ticks\": \"\"}, \"colorscale\": [[0.0, \"#0d0887\"], [0.1111111111111111, \"#46039f\"], [0.2222222222222222, \"#7201a8\"], [0.3333333333333333, \"#9c179e\"], [0.4444444444444444, \"#bd3786\"], [0.5555555555555556, \"#d8576b\"], [0.6666666666666666, \"#ed7953\"], [0.7777777777777778, \"#fb9f3a\"], [0.8888888888888888, \"#fdca26\"], [1.0, \"#f0f921\"]], \"type\": \"heatmap\"}], \"heatmapgl\": [{\"colorbar\": {\"outlinewidth\": 0, \"ticks\": \"\"}, \"colorscale\": [[0.0, \"#0d0887\"], [0.1111111111111111, \"#46039f\"], [0.2222222222222222, \"#7201a8\"], [0.3333333333333333, \"#9c179e\"], [0.4444444444444444, \"#bd3786\"], [0.5555555555555556, \"#d8576b\"], [0.6666666666666666, \"#ed7953\"], [0.7777777777777778, \"#fb9f3a\"], [0.8888888888888888, \"#fdca26\"], [1.0, \"#f0f921\"]], \"type\": \"heatmapgl\"}], \"histogram\": [{\"marker\": {\"colorbar\": {\"outlinewidth\": 0, \"ticks\": \"\"}}, \"type\": \"histogram\"}], \"histogram2d\": [{\"colorbar\": {\"outlinewidth\": 0, \"ticks\": \"\"}, \"colorscale\": [[0.0, \"#0d0887\"], [0.1111111111111111, \"#46039f\"], [0.2222222222222222, \"#7201a8\"], [0.3333333333333333, \"#9c179e\"], [0.4444444444444444, \"#bd3786\"], [0.5555555555555556, \"#d8576b\"], [0.6666666666666666, \"#ed7953\"], [0.7777777777777778, \"#fb9f3a\"], [0.8888888888888888, \"#fdca26\"], [1.0, \"#f0f921\"]], \"type\": \"histogram2d\"}], \"histogram2dcontour\": [{\"colorbar\": {\"outlinewidth\": 0, \"ticks\": \"\"}, \"colorscale\": [[0.0, \"#0d0887\"], [0.1111111111111111, \"#46039f\"], [0.2222222222222222, \"#7201a8\"], [0.3333333333333333, \"#9c179e\"], [0.4444444444444444, \"#bd3786\"], [0.5555555555555556, \"#d8576b\"], [0.6666666666666666, \"#ed7953\"], [0.7777777777777778, \"#fb9f3a\"], [0.8888888888888888, \"#fdca26\"], [1.0, \"#f0f921\"]], \"type\": \"histogram2dcontour\"}], \"mesh3d\": [{\"colorbar\": {\"outlinewidth\": 0, \"ticks\": \"\"}, \"type\": \"mesh3d\"}], \"parcoords\": [{\"line\": {\"colorbar\": {\"outlinewidth\": 0, \"ticks\": \"\"}}, \"type\": \"parcoords\"}], \"scatter\": [{\"marker\": {\"colorbar\": {\"outlinewidth\": 0, \"ticks\": \"\"}}, \"type\": \"scatter\"}], \"scatter3d\": [{\"line\": {\"colorbar\": {\"outlinewidth\": 0, \"ticks\": \"\"}}, \"marker\": {\"colorbar\": {\"outlinewidth\": 0, \"ticks\": \"\"}}, \"type\": \"scatter3d\"}], \"scattercarpet\": [{\"marker\": {\"colorbar\": {\"outlinewidth\": 0, \"ticks\": \"\"}}, \"type\": \"scattercarpet\"}], \"scattergeo\": [{\"marker\": {\"colorbar\": {\"outlinewidth\": 0, \"ticks\": \"\"}}, \"type\": \"scattergeo\"}], \"scattergl\": [{\"marker\": {\"colorbar\": {\"outlinewidth\": 0, \"ticks\": \"\"}}, \"type\": \"scattergl\"}], \"scattermapbox\": [{\"marker\": {\"colorbar\": {\"outlinewidth\": 0, \"ticks\": \"\"}}, \"type\": \"scattermapbox\"}], \"scatterpolar\": [{\"marker\": {\"colorbar\": {\"outlinewidth\": 0, \"ticks\": \"\"}}, \"type\": \"scatterpolar\"}], \"scatterpolargl\": [{\"marker\": {\"colorbar\": {\"outlinewidth\": 0, \"ticks\": \"\"}}, \"type\": \"scatterpolargl\"}], \"scatterternary\": [{\"marker\": {\"colorbar\": {\"outlinewidth\": 0, \"ticks\": \"\"}}, \"type\": \"scatterternary\"}], \"surface\": [{\"colorbar\": {\"outlinewidth\": 0, \"ticks\": \"\"}, \"colorscale\": [[0.0, \"#0d0887\"], [0.1111111111111111, \"#46039f\"], [0.2222222222222222, \"#7201a8\"], [0.3333333333333333, \"#9c179e\"], [0.4444444444444444, \"#bd3786\"], [0.5555555555555556, \"#d8576b\"], [0.6666666666666666, \"#ed7953\"], [0.7777777777777778, \"#fb9f3a\"], [0.8888888888888888, \"#fdca26\"], [1.0, \"#f0f921\"]], \"type\": \"surface\"}], \"table\": [{\"cells\": {\"fill\": {\"color\": \"#EBF0F8\"}, \"line\": {\"color\": \"white\"}}, \"header\": {\"fill\": {\"color\": \"#C8D4E3\"}, \"line\": {\"color\": \"white\"}}, \"type\": \"table\"}]}, \"layout\": {\"annotationdefaults\": {\"arrowcolor\": \"#2a3f5f\", \"arrowhead\": 0, \"arrowwidth\": 1}, \"colorscale\": {\"diverging\": [[0, \"#8e0152\"], [0.1, \"#c51b7d\"], [0.2, \"#de77ae\"], [0.3, \"#f1b6da\"], [0.4, \"#fde0ef\"], [0.5, \"#f7f7f7\"], [0.6, \"#e6f5d0\"], [0.7, \"#b8e186\"], [0.8, \"#7fbc41\"], [0.9, \"#4d9221\"], [1, \"#276419\"]], \"sequential\": [[0.0, \"#0d0887\"], [0.1111111111111111, \"#46039f\"], [0.2222222222222222, \"#7201a8\"], [0.3333333333333333, \"#9c179e\"], [0.4444444444444444, \"#bd3786\"], [0.5555555555555556, \"#d8576b\"], [0.6666666666666666, \"#ed7953\"], [0.7777777777777778, \"#fb9f3a\"], [0.8888888888888888, \"#fdca26\"], [1.0, \"#f0f921\"]], \"sequentialminus\": [[0.0, \"#0d0887\"], [0.1111111111111111, \"#46039f\"], [0.2222222222222222, \"#7201a8\"], [0.3333333333333333, \"#9c179e\"], [0.4444444444444444, \"#bd3786\"], [0.5555555555555556, \"#d8576b\"], [0.6666666666666666, \"#ed7953\"], [0.7777777777777778, \"#fb9f3a\"], [0.8888888888888888, \"#fdca26\"], [1.0, \"#f0f921\"]]}, \"colorway\": [\"#636efa\", \"#EF553B\", \"#00cc96\", \"#ab63fa\", \"#FFA15A\", \"#19d3f3\", \"#FF6692\", \"#B6E880\", \"#FF97FF\", \"#FECB52\"], \"font\": {\"color\": \"#2a3f5f\"}, \"geo\": {\"bgcolor\": \"white\", \"lakecolor\": \"white\", \"landcolor\": \"#E5ECF6\", \"showlakes\": true, \"showland\": true, \"subunitcolor\": \"white\"}, \"hoverlabel\": {\"align\": \"left\"}, \"hovermode\": \"closest\", \"mapbox\": {\"style\": \"light\"}, \"paper_bgcolor\": \"white\", \"plot_bgcolor\": \"#E5ECF6\", \"polar\": {\"angularaxis\": {\"gridcolor\": \"white\", \"linecolor\": \"white\", \"ticks\": \"\"}, \"bgcolor\": \"#E5ECF6\", \"radialaxis\": {\"gridcolor\": \"white\", \"linecolor\": \"white\", \"ticks\": \"\"}}, \"scene\": {\"xaxis\": {\"backgroundcolor\": \"#E5ECF6\", \"gridcolor\": \"white\", \"gridwidth\": 2, \"linecolor\": \"white\", \"showbackground\": true, \"ticks\": \"\", \"zerolinecolor\": \"white\"}, \"yaxis\": {\"backgroundcolor\": \"#E5ECF6\", \"gridcolor\": \"white\", \"gridwidth\": 2, \"linecolor\": \"white\", \"showbackground\": true, \"ticks\": \"\", \"zerolinecolor\": \"white\"}, \"zaxis\": {\"backgroundcolor\": \"#E5ECF6\", \"gridcolor\": \"white\", \"gridwidth\": 2, \"linecolor\": \"white\", \"showbackground\": true, \"ticks\": \"\", \"zerolinecolor\": \"white\"}}, \"shapedefaults\": {\"line\": {\"color\": \"#2a3f5f\"}}, \"ternary\": {\"aaxis\": {\"gridcolor\": \"white\", \"linecolor\": \"white\", \"ticks\": \"\"}, \"baxis\": {\"gridcolor\": \"white\", \"linecolor\": \"white\", \"ticks\": \"\"}, \"bgcolor\": \"#E5ECF6\", \"caxis\": {\"gridcolor\": \"white\", \"linecolor\": \"white\", \"ticks\": \"\"}}, \"title\": {\"x\": 0.05}, \"xaxis\": {\"automargin\": true, \"gridcolor\": \"white\", \"linecolor\": \"white\", \"ticks\": \"\", \"zerolinecolor\": \"white\", \"zerolinewidth\": 2}, \"yaxis\": {\"automargin\": true, \"gridcolor\": \"white\", \"linecolor\": \"white\", \"ticks\": \"\", \"zerolinecolor\": \"white\", \"zerolinewidth\": 2}}}, \"title\": {\"text\": \"tuwen:group/click/top1_rate\"}, \"xaxis\": {\"type\": \"date\"}},\n",
       "                        {\"responsive\": true}\n",
       "                    ).then(function(){\n",
       "                            \n",
       "var gd = document.getElementById('8d2aea73-2d12-4996-8850-9da861688be1');\n",
       "var x = new MutationObserver(function (mutations, observer) {{\n",
       "        var display = window.getComputedStyle(gd).display;\n",
       "        if (!display || display === 'none') {{\n",
       "            console.log([gd, 'removed!']);\n",
       "            Plotly.purge(gd);\n",
       "            observer.disconnect();\n",
       "        }}\n",
       "}});\n",
       "\n",
       "// Listen for the removal of the full notebook cells\n",
       "var notebookContainer = gd.closest('#notebook-container');\n",
       "if (notebookContainer) {{\n",
       "    x.observe(notebookContainer, {childList: true});\n",
       "}}\n",
       "\n",
       "// Listen for the clearing of the current output cell\n",
       "var outputEl = gd.closest('.output');\n",
       "if (outputEl) {{\n",
       "    x.observe(outputEl, {childList: true});\n",
       "}}\n",
       "\n",
       "                        })\n",
       "                };\n",
       "                });\n",
       "            </script>\n",
       "        </div>"
      ]
     },
     "metadata": {},
     "output_type": "display_data"
    }
   ],
   "source": [
    "compare(df, 'group/click/top1_rate')"
   ]
  },
  {
   "cell_type": "code",
   "execution_count": 21,
   "metadata": {},
   "outputs": [
    {
     "data": {
      "application/vnd.plotly.v1+json": {
       "config": {
        "linkText": "Export to plot.ly",
        "plotlyServerURL": "https://plot.ly",
        "showLink": false
       },
       "data": [
        {
         "line": {
          "shape": "spline",
          "smoothing": 1
         },
         "mode": "lines+markers",
         "name": "456:group/click/top3_best",
         "type": "scatter",
         "x": [
          "2019-12-11T00:00:00",
          "2019-12-11T01:00:00",
          "2019-12-11T02:00:00",
          "2019-12-11T03:00:00",
          "2019-12-11T04:00:00",
          "2019-12-11T05:00:00",
          "2019-12-11T06:00:00",
          "2019-12-11T07:00:00",
          "2019-12-11T08:00:00",
          "2019-12-11T09:00:00",
          "2019-12-11T10:00:00",
          "2019-12-11T11:00:00",
          "2019-12-11T12:00:00",
          "2019-12-11T13:00:00",
          "2019-12-11T15:00:00",
          "2019-12-11T16:00:00",
          "2019-12-11T19:00:00",
          "2019-12-11T20:00:00",
          "2019-12-11T21:00:00",
          "2019-12-11T22:00:00",
          "2019-12-11T23:00:00",
          "2019-12-12T00:00:00",
          "2019-12-12T01:00:00",
          "2019-12-12T02:00:00",
          "2019-12-12T03:00:00",
          "2019-12-12T04:00:00",
          "2019-12-12T05:00:00",
          "2019-12-12T06:00:00",
          "2019-12-12T07:00:00",
          "2019-12-12T08:00:00",
          "2019-12-12T09:00:00",
          "2019-12-12T10:00:00",
          "2019-12-12T11:00:00",
          "2019-12-12T12:00:00",
          "2019-12-12T13:00:00",
          "2019-12-12T14:00:00",
          "2019-12-12T15:00:00",
          "2019-12-12T16:00:00",
          "2019-12-12T17:00:00",
          "2019-12-12T18:00:00",
          "2019-12-12T19:00:00",
          "2019-12-12T20:00:00",
          "2019-12-12T21:00:00",
          "2019-12-12T22:00:00",
          "2019-12-12T23:00:00",
          "2019-12-13T00:00:00",
          "2019-12-13T01:00:00",
          "2019-12-13T02:00:00",
          "2019-12-13T03:00:00",
          "2019-12-13T04:00:00",
          "2019-12-13T05:00:00",
          "2019-12-13T06:00:00",
          "2019-12-13T07:00:00",
          "2019-12-13T08:00:00",
          "2019-12-13T09:00:00",
          "2019-12-13T10:00:00",
          "2019-12-13T11:00:00",
          "2019-12-13T12:00:00",
          "2019-12-13T13:00:00",
          "2019-12-13T14:00:00",
          "2019-12-13T15:00:00",
          "2019-12-13T16:00:00",
          "2019-12-13T17:00:00",
          "2019-12-13T18:00:00",
          "2019-12-13T19:00:00",
          "2019-12-13T20:00:00",
          "2019-12-13T21:00:00",
          "2019-12-13T22:00:00",
          "2019-12-13T23:00:00",
          "2019-12-14T00:00:00",
          "2019-12-14T01:00:00",
          "2019-12-14T02:00:00",
          "2019-12-14T03:00:00",
          "2019-12-14T04:00:00",
          "2019-12-14T05:00:00",
          "2019-12-14T06:00:00",
          "2019-12-14T07:00:00",
          "2019-12-14T08:00:00",
          "2019-12-14T09:00:00",
          "2019-12-14T10:00:00",
          "2019-12-14T11:00:00",
          "2019-12-14T12:00:00",
          "2019-12-14T13:00:00",
          "2019-12-14T14:00:00",
          "2019-12-14T15:00:00",
          "2019-12-14T16:00:00",
          "2019-12-14T17:00:00",
          "2019-12-14T18:00:00",
          "2019-12-14T19:00:00",
          "2019-12-14T20:00:00",
          "2019-12-14T21:00:00",
          "2019-12-14T22:00:00",
          "2019-12-14T23:00:00",
          "2019-12-15T00:00:00",
          "2019-12-15T01:00:00",
          "2019-12-15T02:00:00",
          "2019-12-15T03:00:00",
          "2019-12-15T04:00:00",
          "2019-12-15T05:00:00",
          "2019-12-15T06:00:00",
          "2019-12-15T07:00:00",
          "2019-12-15T08:00:00",
          "2019-12-15T09:00:00",
          "2019-12-15T10:00:00",
          "2019-12-15T11:00:00",
          "2019-12-15T12:00:00",
          "2019-12-15T13:00:00",
          "2019-12-15T14:00:00",
          "2019-12-15T15:00:00",
          "2019-12-15T16:00:00",
          "2019-12-15T17:00:00",
          "2019-12-15T18:00:00",
          "2019-12-15T19:00:00",
          "2019-12-15T20:00:00",
          "2019-12-15T21:00:00",
          "2019-12-15T22:00:00",
          "2019-12-16T00:00:00"
         ],
         "y": [
          80.69277737188185,
          81.92375233553497,
          80.61085713898481,
          80.46483684758323,
          84.53327116520511,
          86.84141620088867,
          88.61210170450917,
          86.66061224819326,
          85.32786516140978,
          83.79571511238963,
          83.93242050763453,
          82.1048680533283,
          83.37950647465769,
          82.19594585432426,
          82.49552360016926,
          79.82471635251011,
          82.99595088653071,
          88.18155661006313,
          91.1513797876179,
          91.54136880352812,
          89.03710908456372,
          85.62552733247551,
          85.61267456859822,
          83.53806204100991,
          86.20888105300918,
          87.2061132181565,
          90.32887385869117,
          92.3438790348585,
          90.64724514402286,
          88.6855984711269,
          85.12840507725619,
          84.07886694249383,
          83.32529047023668,
          84.40909131562731,
          84.15413280845739,
          84.18304357924512,
          84.20864647525158,
          84.95607362938233,
          84.62753845304309,
          85.77107116922281,
          87.48055496453864,
          88.44450128000571,
          89.76960107730493,
          91.27592424728266,
          90.83708381104638,
          88.78651028365849,
          86.2447790405771,
          87.3501782828975,
          87.431776936239,
          93.0230116168542,
          97.3601773383117,
          96.2027459737665,
          98.11166607509612,
          91.86929361367714,
          92.93445109968862,
          89.97722556294167,
          86.25379222917088,
          86.3266761100016,
          85.98599861100996,
          86.2753331565933,
          85.63285407333976,
          84.44235345552246,
          84.45574696258147,
          87.0216931157616,
          89.25752915344091,
          91.93868066942845,
          92.56118444706954,
          96.01277722842443,
          95.36020271561136,
          90.45507147161153,
          89.95613857711683,
          89.02665702235868,
          89.24960155260324,
          91.00536953500462,
          97.43974361876182,
          100.04893736788515,
          99.82694325782552,
          97.13712328029257,
          93.57726811149578,
          90.16404567967999,
          89.14104601122403,
          89.47235700452423,
          90.0433706403107,
          90.59627450820682,
          90.1794719024081,
          89.82434690049811,
          89.98707827045735,
          88.93224541508039,
          87.34728560860489,
          86.41169463623532,
          85.36128731158695,
          84.00393971534501,
          83.58188676696702,
          82.56983653900502,
          86.9668790667407,
          89.17091489200239,
          95.98640001252849,
          102.17699357144497,
          106.97544507451003,
          108.57749146263984,
          105.21131818312918,
          101.77920367287294,
          96.61206398281038,
          93.21797616400903,
          90.33218352587588,
          90.062983086724,
          90.55054940984911,
          90.44000942740118,
          84.85917832966038,
          86.89925356475732,
          86.75558493981923,
          86.07960804694338,
          88.46862146145517,
          88.9977379736496,
          90.6193538101495,
          90.97913953781077,
          87.90423596104516
         ]
        },
        {
         "line": {
          "shape": "spline",
          "smoothing": 1
         },
         "mode": "lines+markers",
         "name": "15:group/click/top3_best",
         "type": "scatter",
         "x": [
          "2019-12-11T00:00:00",
          "2019-12-11T01:00:00",
          "2019-12-11T02:00:00",
          "2019-12-11T03:00:00",
          "2019-12-11T04:00:00",
          "2019-12-11T05:00:00",
          "2019-12-11T06:00:00",
          "2019-12-11T07:00:00",
          "2019-12-11T08:00:00",
          "2019-12-11T09:00:00",
          "2019-12-11T10:00:00",
          "2019-12-11T11:00:00",
          "2019-12-11T12:00:00",
          "2019-12-11T13:00:00",
          "2019-12-11T15:00:00",
          "2019-12-11T16:00:00",
          "2019-12-11T19:00:00",
          "2019-12-11T20:00:00",
          "2019-12-11T21:00:00",
          "2019-12-11T22:00:00",
          "2019-12-11T23:00:00",
          "2019-12-12T00:00:00",
          "2019-12-12T01:00:00",
          "2019-12-12T02:00:00",
          "2019-12-12T03:00:00",
          "2019-12-12T04:00:00",
          "2019-12-12T05:00:00",
          "2019-12-12T06:00:00",
          "2019-12-12T07:00:00",
          "2019-12-12T08:00:00",
          "2019-12-12T09:00:00",
          "2019-12-12T10:00:00",
          "2019-12-12T11:00:00",
          "2019-12-12T12:00:00",
          "2019-12-12T13:00:00",
          "2019-12-12T14:00:00",
          "2019-12-12T15:00:00",
          "2019-12-12T16:00:00",
          "2019-12-12T17:00:00",
          "2019-12-12T18:00:00",
          "2019-12-12T19:00:00",
          "2019-12-12T20:00:00",
          "2019-12-12T21:00:00",
          "2019-12-12T22:00:00",
          "2019-12-12T23:00:00",
          "2019-12-13T00:00:00",
          "2019-12-13T01:00:00",
          "2019-12-13T02:00:00",
          "2019-12-13T03:00:00",
          "2019-12-13T04:00:00",
          "2019-12-13T05:00:00",
          "2019-12-13T06:00:00",
          "2019-12-13T07:00:00",
          "2019-12-13T08:00:00",
          "2019-12-13T09:00:00",
          "2019-12-13T10:00:00",
          "2019-12-13T11:00:00",
          "2019-12-13T12:00:00",
          "2019-12-13T13:00:00",
          "2019-12-13T14:00:00",
          "2019-12-13T15:00:00",
          "2019-12-13T16:00:00",
          "2019-12-13T17:00:00",
          "2019-12-13T18:00:00",
          "2019-12-13T19:00:00",
          "2019-12-13T20:00:00",
          "2019-12-13T21:00:00",
          "2019-12-13T22:00:00",
          "2019-12-13T23:00:00",
          "2019-12-14T00:00:00",
          "2019-12-14T01:00:00",
          "2019-12-14T02:00:00",
          "2019-12-14T03:00:00",
          "2019-12-14T04:00:00",
          "2019-12-14T05:00:00",
          "2019-12-14T06:00:00",
          "2019-12-14T07:00:00",
          "2019-12-14T08:00:00",
          "2019-12-14T09:00:00",
          "2019-12-14T10:00:00",
          "2019-12-14T11:00:00",
          "2019-12-14T12:00:00",
          "2019-12-14T13:00:00",
          "2019-12-14T14:00:00",
          "2019-12-14T15:00:00",
          "2019-12-14T16:00:00",
          "2019-12-14T17:00:00",
          "2019-12-14T18:00:00",
          "2019-12-14T19:00:00",
          "2019-12-14T20:00:00",
          "2019-12-14T21:00:00",
          "2019-12-14T22:00:00",
          "2019-12-14T23:00:00",
          "2019-12-15T00:00:00",
          "2019-12-15T01:00:00",
          "2019-12-15T02:00:00",
          "2019-12-15T03:00:00",
          "2019-12-15T04:00:00",
          "2019-12-15T05:00:00",
          "2019-12-15T06:00:00",
          "2019-12-15T07:00:00",
          "2019-12-15T08:00:00",
          "2019-12-15T09:00:00",
          "2019-12-15T10:00:00",
          "2019-12-15T11:00:00",
          "2019-12-15T12:00:00",
          "2019-12-15T13:00:00",
          "2019-12-15T14:00:00",
          "2019-12-15T15:00:00",
          "2019-12-15T16:00:00",
          "2019-12-15T17:00:00",
          "2019-12-15T18:00:00",
          "2019-12-15T19:00:00",
          "2019-12-15T20:00:00",
          "2019-12-15T21:00:00",
          "2019-12-15T22:00:00",
          "2019-12-16T00:00:00"
         ],
         "y": [
          85.60414552833744,
          86.00470345652599,
          85.65267274951688,
          85.2374303215863,
          88.01901584448152,
          93.27431695084468,
          93.94224300239986,
          90.8526413428219,
          89.55521195485952,
          86.41646454910558,
          83.51193286334404,
          81.71207442815742,
          84.3689479344686,
          84.02780591603485,
          83.32983908287062,
          80.40162391691752,
          84.25630743279362,
          89.64777877456893,
          91.89694544484563,
          93.47005469449948,
          90.87161088957289,
          85.48471945641029,
          81.88902587888916,
          84.51714881309412,
          84.3920247827319,
          82.97334324642608,
          87.9004290016272,
          92.34667393042693,
          90.74643024852021,
          91.44801859387303,
          87.41890157130862,
          85.25892216425044,
          83.19978717253301,
          84.41704762429563,
          84.47048263057309,
          85.61630741574183,
          85.3889761299588,
          85.04911646354421,
          83.41377686458733,
          85.79470782612691,
          88.45971103950114,
          90.32247467949213,
          91.33453445753257,
          91.82587318595287,
          90.45994811789397,
          89.85653089727832,
          89.89790483801997,
          84.35959671781669,
          86.39253000411878,
          92.15635362564166,
          96.74257405009368,
          93.70116280029005,
          94.51208794890013,
          95.35579303396617,
          92.55753483623198,
          89.68037932562046,
          88.92472882750934,
          88.71616587828927,
          89.44342657858843,
          88.09563758393452,
          87.859775770901,
          86.39673463418438,
          88.30751519362413,
          90.81150063955612,
          92.48446664842265,
          94.50634226984855,
          96.76588982253497,
          94.95105867573793,
          93.95113843038442,
          90.49036641087073,
          90.00007841231684,
          87.77946697958777,
          86.17953621178872,
          89.3255684783257,
          97.08361349511215,
          96.26709444230178,
          94.0189309004387,
          91.37054043270209,
          89.35569465759959,
          88.08048249819822,
          86.88348176287171,
          87.26707616985509,
          88.5868731366775,
          87.77037699115402,
          87.75481310012653,
          86.97733719481636,
          86.20733885343103,
          86.43302741091765,
          85.09514113306066,
          85.73108763400464,
          84.33464927502399,
          83.36745442730219,
          84.15766138257135,
          81.73946543674013,
          85.21438908840543,
          87.30336247296901,
          91.07149462578445,
          95.27329482001076,
          102.13837134881032,
          104.92368216428369,
          101.71360837226509,
          99.46593820171441,
          95.37504693105953,
          90.70495353028352,
          88.19194076170689,
          88.92514971345221,
          87.91556707929998,
          88.44546726837717,
          84.36094773517252,
          87.42886684247726,
          85.96162828867705,
          84.59883670872924,
          87.69185407512668,
          86.97866412013306,
          87.27171902177946,
          88.86542973469604,
          84.77743441892852
         ]
        }
       ],
       "layout": {
        "hovermode": "x",
        "template": {
         "data": {
          "bar": [
           {
            "error_x": {
             "color": "#2a3f5f"
            },
            "error_y": {
             "color": "#2a3f5f"
            },
            "marker": {
             "line": {
              "color": "#E5ECF6",
              "width": 0.5
             }
            },
            "type": "bar"
           }
          ],
          "barpolar": [
           {
            "marker": {
             "line": {
              "color": "#E5ECF6",
              "width": 0.5
             }
            },
            "type": "barpolar"
           }
          ],
          "carpet": [
           {
            "aaxis": {
             "endlinecolor": "#2a3f5f",
             "gridcolor": "white",
             "linecolor": "white",
             "minorgridcolor": "white",
             "startlinecolor": "#2a3f5f"
            },
            "baxis": {
             "endlinecolor": "#2a3f5f",
             "gridcolor": "white",
             "linecolor": "white",
             "minorgridcolor": "white",
             "startlinecolor": "#2a3f5f"
            },
            "type": "carpet"
           }
          ],
          "choropleth": [
           {
            "colorbar": {
             "outlinewidth": 0,
             "ticks": ""
            },
            "type": "choropleth"
           }
          ],
          "contour": [
           {
            "colorbar": {
             "outlinewidth": 0,
             "ticks": ""
            },
            "colorscale": [
             [
              0,
              "#0d0887"
             ],
             [
              0.1111111111111111,
              "#46039f"
             ],
             [
              0.2222222222222222,
              "#7201a8"
             ],
             [
              0.3333333333333333,
              "#9c179e"
             ],
             [
              0.4444444444444444,
              "#bd3786"
             ],
             [
              0.5555555555555556,
              "#d8576b"
             ],
             [
              0.6666666666666666,
              "#ed7953"
             ],
             [
              0.7777777777777778,
              "#fb9f3a"
             ],
             [
              0.8888888888888888,
              "#fdca26"
             ],
             [
              1,
              "#f0f921"
             ]
            ],
            "type": "contour"
           }
          ],
          "contourcarpet": [
           {
            "colorbar": {
             "outlinewidth": 0,
             "ticks": ""
            },
            "type": "contourcarpet"
           }
          ],
          "heatmap": [
           {
            "colorbar": {
             "outlinewidth": 0,
             "ticks": ""
            },
            "colorscale": [
             [
              0,
              "#0d0887"
             ],
             [
              0.1111111111111111,
              "#46039f"
             ],
             [
              0.2222222222222222,
              "#7201a8"
             ],
             [
              0.3333333333333333,
              "#9c179e"
             ],
             [
              0.4444444444444444,
              "#bd3786"
             ],
             [
              0.5555555555555556,
              "#d8576b"
             ],
             [
              0.6666666666666666,
              "#ed7953"
             ],
             [
              0.7777777777777778,
              "#fb9f3a"
             ],
             [
              0.8888888888888888,
              "#fdca26"
             ],
             [
              1,
              "#f0f921"
             ]
            ],
            "type": "heatmap"
           }
          ],
          "heatmapgl": [
           {
            "colorbar": {
             "outlinewidth": 0,
             "ticks": ""
            },
            "colorscale": [
             [
              0,
              "#0d0887"
             ],
             [
              0.1111111111111111,
              "#46039f"
             ],
             [
              0.2222222222222222,
              "#7201a8"
             ],
             [
              0.3333333333333333,
              "#9c179e"
             ],
             [
              0.4444444444444444,
              "#bd3786"
             ],
             [
              0.5555555555555556,
              "#d8576b"
             ],
             [
              0.6666666666666666,
              "#ed7953"
             ],
             [
              0.7777777777777778,
              "#fb9f3a"
             ],
             [
              0.8888888888888888,
              "#fdca26"
             ],
             [
              1,
              "#f0f921"
             ]
            ],
            "type": "heatmapgl"
           }
          ],
          "histogram": [
           {
            "marker": {
             "colorbar": {
              "outlinewidth": 0,
              "ticks": ""
             }
            },
            "type": "histogram"
           }
          ],
          "histogram2d": [
           {
            "colorbar": {
             "outlinewidth": 0,
             "ticks": ""
            },
            "colorscale": [
             [
              0,
              "#0d0887"
             ],
             [
              0.1111111111111111,
              "#46039f"
             ],
             [
              0.2222222222222222,
              "#7201a8"
             ],
             [
              0.3333333333333333,
              "#9c179e"
             ],
             [
              0.4444444444444444,
              "#bd3786"
             ],
             [
              0.5555555555555556,
              "#d8576b"
             ],
             [
              0.6666666666666666,
              "#ed7953"
             ],
             [
              0.7777777777777778,
              "#fb9f3a"
             ],
             [
              0.8888888888888888,
              "#fdca26"
             ],
             [
              1,
              "#f0f921"
             ]
            ],
            "type": "histogram2d"
           }
          ],
          "histogram2dcontour": [
           {
            "colorbar": {
             "outlinewidth": 0,
             "ticks": ""
            },
            "colorscale": [
             [
              0,
              "#0d0887"
             ],
             [
              0.1111111111111111,
              "#46039f"
             ],
             [
              0.2222222222222222,
              "#7201a8"
             ],
             [
              0.3333333333333333,
              "#9c179e"
             ],
             [
              0.4444444444444444,
              "#bd3786"
             ],
             [
              0.5555555555555556,
              "#d8576b"
             ],
             [
              0.6666666666666666,
              "#ed7953"
             ],
             [
              0.7777777777777778,
              "#fb9f3a"
             ],
             [
              0.8888888888888888,
              "#fdca26"
             ],
             [
              1,
              "#f0f921"
             ]
            ],
            "type": "histogram2dcontour"
           }
          ],
          "mesh3d": [
           {
            "colorbar": {
             "outlinewidth": 0,
             "ticks": ""
            },
            "type": "mesh3d"
           }
          ],
          "parcoords": [
           {
            "line": {
             "colorbar": {
              "outlinewidth": 0,
              "ticks": ""
             }
            },
            "type": "parcoords"
           }
          ],
          "scatter": [
           {
            "marker": {
             "colorbar": {
              "outlinewidth": 0,
              "ticks": ""
             }
            },
            "type": "scatter"
           }
          ],
          "scatter3d": [
           {
            "line": {
             "colorbar": {
              "outlinewidth": 0,
              "ticks": ""
             }
            },
            "marker": {
             "colorbar": {
              "outlinewidth": 0,
              "ticks": ""
             }
            },
            "type": "scatter3d"
           }
          ],
          "scattercarpet": [
           {
            "marker": {
             "colorbar": {
              "outlinewidth": 0,
              "ticks": ""
             }
            },
            "type": "scattercarpet"
           }
          ],
          "scattergeo": [
           {
            "marker": {
             "colorbar": {
              "outlinewidth": 0,
              "ticks": ""
             }
            },
            "type": "scattergeo"
           }
          ],
          "scattergl": [
           {
            "marker": {
             "colorbar": {
              "outlinewidth": 0,
              "ticks": ""
             }
            },
            "type": "scattergl"
           }
          ],
          "scattermapbox": [
           {
            "marker": {
             "colorbar": {
              "outlinewidth": 0,
              "ticks": ""
             }
            },
            "type": "scattermapbox"
           }
          ],
          "scatterpolar": [
           {
            "marker": {
             "colorbar": {
              "outlinewidth": 0,
              "ticks": ""
             }
            },
            "type": "scatterpolar"
           }
          ],
          "scatterpolargl": [
           {
            "marker": {
             "colorbar": {
              "outlinewidth": 0,
              "ticks": ""
             }
            },
            "type": "scatterpolargl"
           }
          ],
          "scatterternary": [
           {
            "marker": {
             "colorbar": {
              "outlinewidth": 0,
              "ticks": ""
             }
            },
            "type": "scatterternary"
           }
          ],
          "surface": [
           {
            "colorbar": {
             "outlinewidth": 0,
             "ticks": ""
            },
            "colorscale": [
             [
              0,
              "#0d0887"
             ],
             [
              0.1111111111111111,
              "#46039f"
             ],
             [
              0.2222222222222222,
              "#7201a8"
             ],
             [
              0.3333333333333333,
              "#9c179e"
             ],
             [
              0.4444444444444444,
              "#bd3786"
             ],
             [
              0.5555555555555556,
              "#d8576b"
             ],
             [
              0.6666666666666666,
              "#ed7953"
             ],
             [
              0.7777777777777778,
              "#fb9f3a"
             ],
             [
              0.8888888888888888,
              "#fdca26"
             ],
             [
              1,
              "#f0f921"
             ]
            ],
            "type": "surface"
           }
          ],
          "table": [
           {
            "cells": {
             "fill": {
              "color": "#EBF0F8"
             },
             "line": {
              "color": "white"
             }
            },
            "header": {
             "fill": {
              "color": "#C8D4E3"
             },
             "line": {
              "color": "white"
             }
            },
            "type": "table"
           }
          ]
         },
         "layout": {
          "annotationdefaults": {
           "arrowcolor": "#2a3f5f",
           "arrowhead": 0,
           "arrowwidth": 1
          },
          "colorscale": {
           "diverging": [
            [
             0,
             "#8e0152"
            ],
            [
             0.1,
             "#c51b7d"
            ],
            [
             0.2,
             "#de77ae"
            ],
            [
             0.3,
             "#f1b6da"
            ],
            [
             0.4,
             "#fde0ef"
            ],
            [
             0.5,
             "#f7f7f7"
            ],
            [
             0.6,
             "#e6f5d0"
            ],
            [
             0.7,
             "#b8e186"
            ],
            [
             0.8,
             "#7fbc41"
            ],
            [
             0.9,
             "#4d9221"
            ],
            [
             1,
             "#276419"
            ]
           ],
           "sequential": [
            [
             0,
             "#0d0887"
            ],
            [
             0.1111111111111111,
             "#46039f"
            ],
            [
             0.2222222222222222,
             "#7201a8"
            ],
            [
             0.3333333333333333,
             "#9c179e"
            ],
            [
             0.4444444444444444,
             "#bd3786"
            ],
            [
             0.5555555555555556,
             "#d8576b"
            ],
            [
             0.6666666666666666,
             "#ed7953"
            ],
            [
             0.7777777777777778,
             "#fb9f3a"
            ],
            [
             0.8888888888888888,
             "#fdca26"
            ],
            [
             1,
             "#f0f921"
            ]
           ],
           "sequentialminus": [
            [
             0,
             "#0d0887"
            ],
            [
             0.1111111111111111,
             "#46039f"
            ],
            [
             0.2222222222222222,
             "#7201a8"
            ],
            [
             0.3333333333333333,
             "#9c179e"
            ],
            [
             0.4444444444444444,
             "#bd3786"
            ],
            [
             0.5555555555555556,
             "#d8576b"
            ],
            [
             0.6666666666666666,
             "#ed7953"
            ],
            [
             0.7777777777777778,
             "#fb9f3a"
            ],
            [
             0.8888888888888888,
             "#fdca26"
            ],
            [
             1,
             "#f0f921"
            ]
           ]
          },
          "colorway": [
           "#636efa",
           "#EF553B",
           "#00cc96",
           "#ab63fa",
           "#FFA15A",
           "#19d3f3",
           "#FF6692",
           "#B6E880",
           "#FF97FF",
           "#FECB52"
          ],
          "font": {
           "color": "#2a3f5f"
          },
          "geo": {
           "bgcolor": "white",
           "lakecolor": "white",
           "landcolor": "#E5ECF6",
           "showlakes": true,
           "showland": true,
           "subunitcolor": "white"
          },
          "hoverlabel": {
           "align": "left"
          },
          "hovermode": "closest",
          "mapbox": {
           "style": "light"
          },
          "paper_bgcolor": "white",
          "plot_bgcolor": "#E5ECF6",
          "polar": {
           "angularaxis": {
            "gridcolor": "white",
            "linecolor": "white",
            "ticks": ""
           },
           "bgcolor": "#E5ECF6",
           "radialaxis": {
            "gridcolor": "white",
            "linecolor": "white",
            "ticks": ""
           }
          },
          "scene": {
           "xaxis": {
            "backgroundcolor": "#E5ECF6",
            "gridcolor": "white",
            "gridwidth": 2,
            "linecolor": "white",
            "showbackground": true,
            "ticks": "",
            "zerolinecolor": "white"
           },
           "yaxis": {
            "backgroundcolor": "#E5ECF6",
            "gridcolor": "white",
            "gridwidth": 2,
            "linecolor": "white",
            "showbackground": true,
            "ticks": "",
            "zerolinecolor": "white"
           },
           "zaxis": {
            "backgroundcolor": "#E5ECF6",
            "gridcolor": "white",
            "gridwidth": 2,
            "linecolor": "white",
            "showbackground": true,
            "ticks": "",
            "zerolinecolor": "white"
           }
          },
          "shapedefaults": {
           "line": {
            "color": "#2a3f5f"
           }
          },
          "ternary": {
           "aaxis": {
            "gridcolor": "white",
            "linecolor": "white",
            "ticks": ""
           },
           "baxis": {
            "gridcolor": "white",
            "linecolor": "white",
            "ticks": ""
           },
           "bgcolor": "#E5ECF6",
           "caxis": {
            "gridcolor": "white",
            "linecolor": "white",
            "ticks": ""
           }
          },
          "title": {
           "x": 0.05
          },
          "xaxis": {
           "automargin": true,
           "gridcolor": "white",
           "linecolor": "white",
           "ticks": "",
           "zerolinecolor": "white",
           "zerolinewidth": 2
          },
          "yaxis": {
           "automargin": true,
           "gridcolor": "white",
           "linecolor": "white",
           "ticks": "",
           "zerolinecolor": "white",
           "zerolinewidth": 2
          }
         }
        },
        "title": {
         "text": "tuwen:group/click/top3_best"
        },
        "xaxis": {
         "type": "date"
        }
       }
      },
      "text/html": [
       "<div>\n",
       "        \n",
       "        \n",
       "            <div id=\"ffd20445-ac28-4d4a-b3c6-7c2c5f0dd77b\" class=\"plotly-graph-div\" style=\"height:525px; width:100%;\"></div>\n",
       "            <script type=\"text/javascript\">\n",
       "                require([\"plotly\"], function(Plotly) {\n",
       "                    window.PLOTLYENV=window.PLOTLYENV || {};\n",
       "                    \n",
       "                if (document.getElementById(\"ffd20445-ac28-4d4a-b3c6-7c2c5f0dd77b\")) {\n",
       "                    Plotly.newPlot(\n",
       "                        'ffd20445-ac28-4d4a-b3c6-7c2c5f0dd77b',\n",
       "                        [{\"line\": {\"shape\": \"spline\", \"smoothing\": 1.0}, \"mode\": \"lines+markers\", \"name\": \"456:group/click/top3_best\", \"type\": \"scatter\", \"x\": [\"2019-12-11T00:00:00\", \"2019-12-11T01:00:00\", \"2019-12-11T02:00:00\", \"2019-12-11T03:00:00\", \"2019-12-11T04:00:00\", \"2019-12-11T05:00:00\", \"2019-12-11T06:00:00\", \"2019-12-11T07:00:00\", \"2019-12-11T08:00:00\", \"2019-12-11T09:00:00\", \"2019-12-11T10:00:00\", \"2019-12-11T11:00:00\", \"2019-12-11T12:00:00\", \"2019-12-11T13:00:00\", \"2019-12-11T15:00:00\", \"2019-12-11T16:00:00\", \"2019-12-11T19:00:00\", \"2019-12-11T20:00:00\", \"2019-12-11T21:00:00\", \"2019-12-11T22:00:00\", \"2019-12-11T23:00:00\", \"2019-12-12T00:00:00\", \"2019-12-12T01:00:00\", \"2019-12-12T02:00:00\", \"2019-12-12T03:00:00\", \"2019-12-12T04:00:00\", \"2019-12-12T05:00:00\", \"2019-12-12T06:00:00\", \"2019-12-12T07:00:00\", \"2019-12-12T08:00:00\", \"2019-12-12T09:00:00\", \"2019-12-12T10:00:00\", \"2019-12-12T11:00:00\", \"2019-12-12T12:00:00\", \"2019-12-12T13:00:00\", \"2019-12-12T14:00:00\", \"2019-12-12T15:00:00\", \"2019-12-12T16:00:00\", \"2019-12-12T17:00:00\", \"2019-12-12T18:00:00\", \"2019-12-12T19:00:00\", \"2019-12-12T20:00:00\", \"2019-12-12T21:00:00\", \"2019-12-12T22:00:00\", \"2019-12-12T23:00:00\", \"2019-12-13T00:00:00\", \"2019-12-13T01:00:00\", \"2019-12-13T02:00:00\", \"2019-12-13T03:00:00\", \"2019-12-13T04:00:00\", \"2019-12-13T05:00:00\", \"2019-12-13T06:00:00\", \"2019-12-13T07:00:00\", \"2019-12-13T08:00:00\", \"2019-12-13T09:00:00\", \"2019-12-13T10:00:00\", \"2019-12-13T11:00:00\", \"2019-12-13T12:00:00\", \"2019-12-13T13:00:00\", \"2019-12-13T14:00:00\", \"2019-12-13T15:00:00\", \"2019-12-13T16:00:00\", \"2019-12-13T17:00:00\", \"2019-12-13T18:00:00\", \"2019-12-13T19:00:00\", \"2019-12-13T20:00:00\", \"2019-12-13T21:00:00\", \"2019-12-13T22:00:00\", \"2019-12-13T23:00:00\", \"2019-12-14T00:00:00\", \"2019-12-14T01:00:00\", \"2019-12-14T02:00:00\", \"2019-12-14T03:00:00\", \"2019-12-14T04:00:00\", \"2019-12-14T05:00:00\", \"2019-12-14T06:00:00\", \"2019-12-14T07:00:00\", \"2019-12-14T08:00:00\", \"2019-12-14T09:00:00\", \"2019-12-14T10:00:00\", \"2019-12-14T11:00:00\", \"2019-12-14T12:00:00\", \"2019-12-14T13:00:00\", \"2019-12-14T14:00:00\", \"2019-12-14T15:00:00\", \"2019-12-14T16:00:00\", \"2019-12-14T17:00:00\", \"2019-12-14T18:00:00\", \"2019-12-14T19:00:00\", \"2019-12-14T20:00:00\", \"2019-12-14T21:00:00\", \"2019-12-14T22:00:00\", \"2019-12-14T23:00:00\", \"2019-12-15T00:00:00\", \"2019-12-15T01:00:00\", \"2019-12-15T02:00:00\", \"2019-12-15T03:00:00\", \"2019-12-15T04:00:00\", \"2019-12-15T05:00:00\", \"2019-12-15T06:00:00\", \"2019-12-15T07:00:00\", \"2019-12-15T08:00:00\", \"2019-12-15T09:00:00\", \"2019-12-15T10:00:00\", \"2019-12-15T11:00:00\", \"2019-12-15T12:00:00\", \"2019-12-15T13:00:00\", \"2019-12-15T14:00:00\", \"2019-12-15T15:00:00\", \"2019-12-15T16:00:00\", \"2019-12-15T17:00:00\", \"2019-12-15T18:00:00\", \"2019-12-15T19:00:00\", \"2019-12-15T20:00:00\", \"2019-12-15T21:00:00\", \"2019-12-15T22:00:00\", \"2019-12-16T00:00:00\"], \"y\": [80.69277737188185, 81.92375233553497, 80.61085713898481, 80.46483684758323, 84.53327116520511, 86.84141620088867, 88.61210170450917, 86.66061224819326, 85.32786516140978, 83.79571511238963, 83.93242050763453, 82.1048680533283, 83.37950647465769, 82.19594585432426, 82.49552360016926, 79.82471635251011, 82.99595088653071, 88.18155661006313, 91.1513797876179, 91.54136880352812, 89.03710908456372, 85.62552733247551, 85.61267456859822, 83.53806204100991, 86.20888105300918, 87.2061132181565, 90.32887385869117, 92.3438790348585, 90.64724514402286, 88.6855984711269, 85.12840507725619, 84.07886694249383, 83.32529047023668, 84.40909131562731, 84.15413280845739, 84.18304357924512, 84.20864647525158, 84.95607362938233, 84.62753845304309, 85.77107116922281, 87.48055496453864, 88.44450128000571, 89.76960107730493, 91.27592424728266, 90.83708381104638, 88.78651028365849, 86.2447790405771, 87.3501782828975, 87.431776936239, 93.0230116168542, 97.3601773383117, 96.2027459737665, 98.11166607509612, 91.86929361367714, 92.93445109968862, 89.97722556294167, 86.25379222917088, 86.3266761100016, 85.98599861100996, 86.2753331565933, 85.63285407333976, 84.44235345552246, 84.45574696258147, 87.0216931157616, 89.25752915344091, 91.93868066942845, 92.56118444706954, 96.01277722842443, 95.36020271561136, 90.45507147161153, 89.95613857711683, 89.02665702235868, 89.24960155260324, 91.00536953500462, 97.43974361876182, 100.04893736788515, 99.82694325782552, 97.13712328029257, 93.57726811149578, 90.16404567967999, 89.14104601122403, 89.47235700452423, 90.0433706403107, 90.59627450820682, 90.1794719024081, 89.82434690049811, 89.98707827045735, 88.93224541508039, 87.34728560860489, 86.41169463623532, 85.36128731158695, 84.00393971534501, 83.58188676696702, 82.56983653900502, 86.9668790667407, 89.17091489200239, 95.98640001252849, 102.17699357144497, 106.97544507451003, 108.57749146263984, 105.21131818312918, 101.77920367287294, 96.61206398281038, 93.21797616400903, 90.33218352587588, 90.062983086724, 90.55054940984911, 90.44000942740118, 84.85917832966038, 86.89925356475732, 86.75558493981923, 86.07960804694338, 88.46862146145517, 88.9977379736496, 90.6193538101495, 90.97913953781077, 87.90423596104516]}, {\"line\": {\"shape\": \"spline\", \"smoothing\": 1.0}, \"mode\": \"lines+markers\", \"name\": \"15:group/click/top3_best\", \"type\": \"scatter\", \"x\": [\"2019-12-11T00:00:00\", \"2019-12-11T01:00:00\", \"2019-12-11T02:00:00\", \"2019-12-11T03:00:00\", \"2019-12-11T04:00:00\", \"2019-12-11T05:00:00\", \"2019-12-11T06:00:00\", \"2019-12-11T07:00:00\", \"2019-12-11T08:00:00\", \"2019-12-11T09:00:00\", \"2019-12-11T10:00:00\", \"2019-12-11T11:00:00\", \"2019-12-11T12:00:00\", \"2019-12-11T13:00:00\", \"2019-12-11T15:00:00\", \"2019-12-11T16:00:00\", \"2019-12-11T19:00:00\", \"2019-12-11T20:00:00\", \"2019-12-11T21:00:00\", \"2019-12-11T22:00:00\", \"2019-12-11T23:00:00\", \"2019-12-12T00:00:00\", \"2019-12-12T01:00:00\", \"2019-12-12T02:00:00\", \"2019-12-12T03:00:00\", \"2019-12-12T04:00:00\", \"2019-12-12T05:00:00\", \"2019-12-12T06:00:00\", \"2019-12-12T07:00:00\", \"2019-12-12T08:00:00\", \"2019-12-12T09:00:00\", \"2019-12-12T10:00:00\", \"2019-12-12T11:00:00\", \"2019-12-12T12:00:00\", \"2019-12-12T13:00:00\", \"2019-12-12T14:00:00\", \"2019-12-12T15:00:00\", \"2019-12-12T16:00:00\", \"2019-12-12T17:00:00\", \"2019-12-12T18:00:00\", \"2019-12-12T19:00:00\", \"2019-12-12T20:00:00\", \"2019-12-12T21:00:00\", \"2019-12-12T22:00:00\", \"2019-12-12T23:00:00\", \"2019-12-13T00:00:00\", \"2019-12-13T01:00:00\", \"2019-12-13T02:00:00\", \"2019-12-13T03:00:00\", \"2019-12-13T04:00:00\", \"2019-12-13T05:00:00\", \"2019-12-13T06:00:00\", \"2019-12-13T07:00:00\", \"2019-12-13T08:00:00\", \"2019-12-13T09:00:00\", \"2019-12-13T10:00:00\", \"2019-12-13T11:00:00\", \"2019-12-13T12:00:00\", \"2019-12-13T13:00:00\", \"2019-12-13T14:00:00\", \"2019-12-13T15:00:00\", \"2019-12-13T16:00:00\", \"2019-12-13T17:00:00\", \"2019-12-13T18:00:00\", \"2019-12-13T19:00:00\", \"2019-12-13T20:00:00\", \"2019-12-13T21:00:00\", \"2019-12-13T22:00:00\", \"2019-12-13T23:00:00\", \"2019-12-14T00:00:00\", \"2019-12-14T01:00:00\", \"2019-12-14T02:00:00\", \"2019-12-14T03:00:00\", \"2019-12-14T04:00:00\", \"2019-12-14T05:00:00\", \"2019-12-14T06:00:00\", \"2019-12-14T07:00:00\", \"2019-12-14T08:00:00\", \"2019-12-14T09:00:00\", \"2019-12-14T10:00:00\", \"2019-12-14T11:00:00\", \"2019-12-14T12:00:00\", \"2019-12-14T13:00:00\", \"2019-12-14T14:00:00\", \"2019-12-14T15:00:00\", \"2019-12-14T16:00:00\", \"2019-12-14T17:00:00\", \"2019-12-14T18:00:00\", \"2019-12-14T19:00:00\", \"2019-12-14T20:00:00\", \"2019-12-14T21:00:00\", \"2019-12-14T22:00:00\", \"2019-12-14T23:00:00\", \"2019-12-15T00:00:00\", \"2019-12-15T01:00:00\", \"2019-12-15T02:00:00\", \"2019-12-15T03:00:00\", \"2019-12-15T04:00:00\", \"2019-12-15T05:00:00\", \"2019-12-15T06:00:00\", \"2019-12-15T07:00:00\", \"2019-12-15T08:00:00\", \"2019-12-15T09:00:00\", \"2019-12-15T10:00:00\", \"2019-12-15T11:00:00\", \"2019-12-15T12:00:00\", \"2019-12-15T13:00:00\", \"2019-12-15T14:00:00\", \"2019-12-15T15:00:00\", \"2019-12-15T16:00:00\", \"2019-12-15T17:00:00\", \"2019-12-15T18:00:00\", \"2019-12-15T19:00:00\", \"2019-12-15T20:00:00\", \"2019-12-15T21:00:00\", \"2019-12-15T22:00:00\", \"2019-12-16T00:00:00\"], \"y\": [85.60414552833744, 86.00470345652599, 85.65267274951688, 85.2374303215863, 88.01901584448152, 93.27431695084468, 93.94224300239986, 90.8526413428219, 89.55521195485952, 86.41646454910558, 83.51193286334404, 81.71207442815742, 84.3689479344686, 84.02780591603485, 83.32983908287062, 80.40162391691752, 84.25630743279362, 89.64777877456893, 91.89694544484563, 93.47005469449948, 90.87161088957289, 85.48471945641029, 81.88902587888916, 84.51714881309412, 84.3920247827319, 82.97334324642608, 87.9004290016272, 92.34667393042693, 90.74643024852021, 91.44801859387303, 87.41890157130862, 85.25892216425044, 83.19978717253301, 84.41704762429563, 84.47048263057309, 85.61630741574183, 85.3889761299588, 85.04911646354421, 83.41377686458733, 85.79470782612691, 88.45971103950114, 90.32247467949213, 91.33453445753257, 91.82587318595287, 90.45994811789397, 89.85653089727832, 89.89790483801997, 84.35959671781669, 86.39253000411878, 92.15635362564166, 96.74257405009368, 93.70116280029005, 94.51208794890013, 95.35579303396617, 92.55753483623198, 89.68037932562046, 88.92472882750934, 88.71616587828927, 89.44342657858843, 88.09563758393452, 87.859775770901, 86.39673463418438, 88.30751519362413, 90.81150063955612, 92.48446664842265, 94.50634226984855, 96.76588982253497, 94.95105867573793, 93.95113843038442, 90.49036641087073, 90.00007841231684, 87.77946697958777, 86.17953621178872, 89.3255684783257, 97.08361349511215, 96.26709444230178, 94.0189309004387, 91.37054043270209, 89.35569465759959, 88.08048249819822, 86.88348176287171, 87.26707616985509, 88.5868731366775, 87.77037699115402, 87.75481310012653, 86.97733719481636, 86.20733885343103, 86.43302741091765, 85.09514113306066, 85.73108763400464, 84.33464927502399, 83.36745442730219, 84.15766138257135, 81.73946543674013, 85.21438908840543, 87.30336247296901, 91.07149462578445, 95.27329482001076, 102.13837134881032, 104.92368216428369, 101.71360837226509, 99.46593820171441, 95.37504693105953, 90.70495353028352, 88.19194076170689, 88.92514971345221, 87.91556707929998, 88.44546726837717, 84.36094773517252, 87.42886684247726, 85.96162828867705, 84.59883670872924, 87.69185407512668, 86.97866412013306, 87.27171902177946, 88.86542973469604, 84.77743441892852]}],\n",
       "                        {\"hovermode\": \"x\", \"template\": {\"data\": {\"bar\": [{\"error_x\": {\"color\": \"#2a3f5f\"}, \"error_y\": {\"color\": \"#2a3f5f\"}, \"marker\": {\"line\": {\"color\": \"#E5ECF6\", \"width\": 0.5}}, \"type\": \"bar\"}], \"barpolar\": [{\"marker\": {\"line\": {\"color\": \"#E5ECF6\", \"width\": 0.5}}, \"type\": \"barpolar\"}], \"carpet\": [{\"aaxis\": {\"endlinecolor\": \"#2a3f5f\", \"gridcolor\": \"white\", \"linecolor\": \"white\", \"minorgridcolor\": \"white\", \"startlinecolor\": \"#2a3f5f\"}, \"baxis\": {\"endlinecolor\": \"#2a3f5f\", \"gridcolor\": \"white\", \"linecolor\": \"white\", \"minorgridcolor\": \"white\", \"startlinecolor\": \"#2a3f5f\"}, \"type\": \"carpet\"}], \"choropleth\": [{\"colorbar\": {\"outlinewidth\": 0, \"ticks\": \"\"}, \"type\": \"choropleth\"}], \"contour\": [{\"colorbar\": {\"outlinewidth\": 0, \"ticks\": \"\"}, \"colorscale\": [[0.0, \"#0d0887\"], [0.1111111111111111, \"#46039f\"], [0.2222222222222222, \"#7201a8\"], [0.3333333333333333, \"#9c179e\"], [0.4444444444444444, \"#bd3786\"], [0.5555555555555556, \"#d8576b\"], [0.6666666666666666, \"#ed7953\"], [0.7777777777777778, \"#fb9f3a\"], [0.8888888888888888, \"#fdca26\"], [1.0, \"#f0f921\"]], \"type\": \"contour\"}], \"contourcarpet\": [{\"colorbar\": {\"outlinewidth\": 0, \"ticks\": \"\"}, \"type\": \"contourcarpet\"}], \"heatmap\": [{\"colorbar\": {\"outlinewidth\": 0, \"ticks\": \"\"}, \"colorscale\": [[0.0, \"#0d0887\"], [0.1111111111111111, \"#46039f\"], [0.2222222222222222, \"#7201a8\"], [0.3333333333333333, \"#9c179e\"], [0.4444444444444444, \"#bd3786\"], [0.5555555555555556, \"#d8576b\"], [0.6666666666666666, \"#ed7953\"], [0.7777777777777778, \"#fb9f3a\"], [0.8888888888888888, \"#fdca26\"], [1.0, \"#f0f921\"]], \"type\": \"heatmap\"}], \"heatmapgl\": [{\"colorbar\": {\"outlinewidth\": 0, \"ticks\": \"\"}, \"colorscale\": [[0.0, \"#0d0887\"], [0.1111111111111111, \"#46039f\"], [0.2222222222222222, \"#7201a8\"], [0.3333333333333333, \"#9c179e\"], [0.4444444444444444, \"#bd3786\"], [0.5555555555555556, \"#d8576b\"], [0.6666666666666666, \"#ed7953\"], [0.7777777777777778, \"#fb9f3a\"], [0.8888888888888888, \"#fdca26\"], [1.0, \"#f0f921\"]], \"type\": \"heatmapgl\"}], \"histogram\": [{\"marker\": {\"colorbar\": {\"outlinewidth\": 0, \"ticks\": \"\"}}, \"type\": \"histogram\"}], \"histogram2d\": [{\"colorbar\": {\"outlinewidth\": 0, \"ticks\": \"\"}, \"colorscale\": [[0.0, \"#0d0887\"], [0.1111111111111111, \"#46039f\"], [0.2222222222222222, \"#7201a8\"], [0.3333333333333333, \"#9c179e\"], [0.4444444444444444, \"#bd3786\"], [0.5555555555555556, \"#d8576b\"], [0.6666666666666666, \"#ed7953\"], [0.7777777777777778, \"#fb9f3a\"], [0.8888888888888888, \"#fdca26\"], [1.0, \"#f0f921\"]], \"type\": \"histogram2d\"}], \"histogram2dcontour\": [{\"colorbar\": {\"outlinewidth\": 0, \"ticks\": \"\"}, \"colorscale\": [[0.0, \"#0d0887\"], [0.1111111111111111, \"#46039f\"], [0.2222222222222222, \"#7201a8\"], [0.3333333333333333, \"#9c179e\"], [0.4444444444444444, \"#bd3786\"], [0.5555555555555556, \"#d8576b\"], [0.6666666666666666, \"#ed7953\"], [0.7777777777777778, \"#fb9f3a\"], [0.8888888888888888, \"#fdca26\"], [1.0, \"#f0f921\"]], \"type\": \"histogram2dcontour\"}], \"mesh3d\": [{\"colorbar\": {\"outlinewidth\": 0, \"ticks\": \"\"}, \"type\": \"mesh3d\"}], \"parcoords\": [{\"line\": {\"colorbar\": {\"outlinewidth\": 0, \"ticks\": \"\"}}, \"type\": \"parcoords\"}], \"scatter\": [{\"marker\": {\"colorbar\": {\"outlinewidth\": 0, \"ticks\": \"\"}}, \"type\": \"scatter\"}], \"scatter3d\": [{\"line\": {\"colorbar\": {\"outlinewidth\": 0, \"ticks\": \"\"}}, \"marker\": {\"colorbar\": {\"outlinewidth\": 0, \"ticks\": \"\"}}, \"type\": \"scatter3d\"}], \"scattercarpet\": [{\"marker\": {\"colorbar\": {\"outlinewidth\": 0, \"ticks\": \"\"}}, \"type\": \"scattercarpet\"}], \"scattergeo\": [{\"marker\": {\"colorbar\": {\"outlinewidth\": 0, \"ticks\": \"\"}}, \"type\": \"scattergeo\"}], \"scattergl\": [{\"marker\": {\"colorbar\": {\"outlinewidth\": 0, \"ticks\": \"\"}}, \"type\": \"scattergl\"}], \"scattermapbox\": [{\"marker\": {\"colorbar\": {\"outlinewidth\": 0, \"ticks\": \"\"}}, \"type\": \"scattermapbox\"}], \"scatterpolar\": [{\"marker\": {\"colorbar\": {\"outlinewidth\": 0, \"ticks\": \"\"}}, \"type\": \"scatterpolar\"}], \"scatterpolargl\": [{\"marker\": {\"colorbar\": {\"outlinewidth\": 0, \"ticks\": \"\"}}, \"type\": \"scatterpolargl\"}], \"scatterternary\": [{\"marker\": {\"colorbar\": {\"outlinewidth\": 0, \"ticks\": \"\"}}, \"type\": \"scatterternary\"}], \"surface\": [{\"colorbar\": {\"outlinewidth\": 0, \"ticks\": \"\"}, \"colorscale\": [[0.0, \"#0d0887\"], [0.1111111111111111, \"#46039f\"], [0.2222222222222222, \"#7201a8\"], [0.3333333333333333, \"#9c179e\"], [0.4444444444444444, \"#bd3786\"], [0.5555555555555556, \"#d8576b\"], [0.6666666666666666, \"#ed7953\"], [0.7777777777777778, \"#fb9f3a\"], [0.8888888888888888, \"#fdca26\"], [1.0, \"#f0f921\"]], \"type\": \"surface\"}], \"table\": [{\"cells\": {\"fill\": {\"color\": \"#EBF0F8\"}, \"line\": {\"color\": \"white\"}}, \"header\": {\"fill\": {\"color\": \"#C8D4E3\"}, \"line\": {\"color\": \"white\"}}, \"type\": \"table\"}]}, \"layout\": {\"annotationdefaults\": {\"arrowcolor\": \"#2a3f5f\", \"arrowhead\": 0, \"arrowwidth\": 1}, \"colorscale\": {\"diverging\": [[0, \"#8e0152\"], [0.1, \"#c51b7d\"], [0.2, \"#de77ae\"], [0.3, \"#f1b6da\"], [0.4, \"#fde0ef\"], [0.5, \"#f7f7f7\"], [0.6, \"#e6f5d0\"], [0.7, \"#b8e186\"], [0.8, \"#7fbc41\"], [0.9, \"#4d9221\"], [1, \"#276419\"]], \"sequential\": [[0.0, \"#0d0887\"], [0.1111111111111111, \"#46039f\"], [0.2222222222222222, \"#7201a8\"], [0.3333333333333333, \"#9c179e\"], [0.4444444444444444, \"#bd3786\"], [0.5555555555555556, \"#d8576b\"], [0.6666666666666666, \"#ed7953\"], [0.7777777777777778, \"#fb9f3a\"], [0.8888888888888888, \"#fdca26\"], [1.0, \"#f0f921\"]], \"sequentialminus\": [[0.0, \"#0d0887\"], [0.1111111111111111, \"#46039f\"], [0.2222222222222222, \"#7201a8\"], [0.3333333333333333, \"#9c179e\"], [0.4444444444444444, \"#bd3786\"], [0.5555555555555556, \"#d8576b\"], [0.6666666666666666, \"#ed7953\"], [0.7777777777777778, \"#fb9f3a\"], [0.8888888888888888, \"#fdca26\"], [1.0, \"#f0f921\"]]}, \"colorway\": [\"#636efa\", \"#EF553B\", \"#00cc96\", \"#ab63fa\", \"#FFA15A\", \"#19d3f3\", \"#FF6692\", \"#B6E880\", \"#FF97FF\", \"#FECB52\"], \"font\": {\"color\": \"#2a3f5f\"}, \"geo\": {\"bgcolor\": \"white\", \"lakecolor\": \"white\", \"landcolor\": \"#E5ECF6\", \"showlakes\": true, \"showland\": true, \"subunitcolor\": \"white\"}, \"hoverlabel\": {\"align\": \"left\"}, \"hovermode\": \"closest\", \"mapbox\": {\"style\": \"light\"}, \"paper_bgcolor\": \"white\", \"plot_bgcolor\": \"#E5ECF6\", \"polar\": {\"angularaxis\": {\"gridcolor\": \"white\", \"linecolor\": \"white\", \"ticks\": \"\"}, \"bgcolor\": \"#E5ECF6\", \"radialaxis\": {\"gridcolor\": \"white\", \"linecolor\": \"white\", \"ticks\": \"\"}}, \"scene\": {\"xaxis\": {\"backgroundcolor\": \"#E5ECF6\", \"gridcolor\": \"white\", \"gridwidth\": 2, \"linecolor\": \"white\", \"showbackground\": true, \"ticks\": \"\", \"zerolinecolor\": \"white\"}, \"yaxis\": {\"backgroundcolor\": \"#E5ECF6\", \"gridcolor\": \"white\", \"gridwidth\": 2, \"linecolor\": \"white\", \"showbackground\": true, \"ticks\": \"\", \"zerolinecolor\": \"white\"}, \"zaxis\": {\"backgroundcolor\": \"#E5ECF6\", \"gridcolor\": \"white\", \"gridwidth\": 2, \"linecolor\": \"white\", \"showbackground\": true, \"ticks\": \"\", \"zerolinecolor\": \"white\"}}, \"shapedefaults\": {\"line\": {\"color\": \"#2a3f5f\"}}, \"ternary\": {\"aaxis\": {\"gridcolor\": \"white\", \"linecolor\": \"white\", \"ticks\": \"\"}, \"baxis\": {\"gridcolor\": \"white\", \"linecolor\": \"white\", \"ticks\": \"\"}, \"bgcolor\": \"#E5ECF6\", \"caxis\": {\"gridcolor\": \"white\", \"linecolor\": \"white\", \"ticks\": \"\"}}, \"title\": {\"x\": 0.05}, \"xaxis\": {\"automargin\": true, \"gridcolor\": \"white\", \"linecolor\": \"white\", \"ticks\": \"\", \"zerolinecolor\": \"white\", \"zerolinewidth\": 2}, \"yaxis\": {\"automargin\": true, \"gridcolor\": \"white\", \"linecolor\": \"white\", \"ticks\": \"\", \"zerolinecolor\": \"white\", \"zerolinewidth\": 2}}}, \"title\": {\"text\": \"tuwen:group/click/top3_best\"}, \"xaxis\": {\"type\": \"date\"}},\n",
       "                        {\"responsive\": true}\n",
       "                    ).then(function(){\n",
       "                            \n",
       "var gd = document.getElementById('ffd20445-ac28-4d4a-b3c6-7c2c5f0dd77b');\n",
       "var x = new MutationObserver(function (mutations, observer) {{\n",
       "        var display = window.getComputedStyle(gd).display;\n",
       "        if (!display || display === 'none') {{\n",
       "            console.log([gd, 'removed!']);\n",
       "            Plotly.purge(gd);\n",
       "            observer.disconnect();\n",
       "        }}\n",
       "}});\n",
       "\n",
       "// Listen for the removal of the full notebook cells\n",
       "var notebookContainer = gd.closest('#notebook-container');\n",
       "if (notebookContainer) {{\n",
       "    x.observe(notebookContainer, {childList: true});\n",
       "}}\n",
       "\n",
       "// Listen for the clearing of the current output cell\n",
       "var outputEl = gd.closest('.output');\n",
       "if (outputEl) {{\n",
       "    x.observe(outputEl, {childList: true});\n",
       "}}\n",
       "\n",
       "                        })\n",
       "                };\n",
       "                });\n",
       "            </script>\n",
       "        </div>"
      ]
     },
     "metadata": {},
     "output_type": "display_data"
    }
   ],
   "source": [
    "compare(df, 'group/click/top3_best')"
   ]
  },
  {
   "cell_type": "code",
   "execution_count": 22,
   "metadata": {},
   "outputs": [
    {
     "data": {
      "application/vnd.plotly.v1+json": {
       "config": {
        "linkText": "Export to plot.ly",
        "plotlyServerURL": "https://plot.ly",
        "showLink": false
       },
       "data": [
        {
         "line": {
          "shape": "spline",
          "smoothing": 1
         },
         "mode": "lines+markers",
         "name": "456:ori/auc",
         "type": "scatter",
         "x": [
          "2019-12-11T00:00:00",
          "2019-12-11T01:00:00",
          "2019-12-11T02:00:00",
          "2019-12-11T03:00:00",
          "2019-12-11T04:00:00",
          "2019-12-11T05:00:00",
          "2019-12-11T06:00:00",
          "2019-12-11T07:00:00",
          "2019-12-11T08:00:00",
          "2019-12-11T09:00:00",
          "2019-12-11T10:00:00",
          "2019-12-11T11:00:00",
          "2019-12-11T12:00:00",
          "2019-12-11T13:00:00",
          "2019-12-11T15:00:00",
          "2019-12-11T16:00:00",
          "2019-12-11T19:00:00",
          "2019-12-11T20:00:00",
          "2019-12-11T21:00:00",
          "2019-12-11T22:00:00",
          "2019-12-11T23:00:00",
          "2019-12-12T00:00:00",
          "2019-12-12T01:00:00",
          "2019-12-12T02:00:00",
          "2019-12-12T03:00:00",
          "2019-12-12T04:00:00",
          "2019-12-12T05:00:00",
          "2019-12-12T06:00:00",
          "2019-12-12T07:00:00",
          "2019-12-12T08:00:00",
          "2019-12-12T09:00:00",
          "2019-12-12T10:00:00",
          "2019-12-12T11:00:00",
          "2019-12-12T12:00:00",
          "2019-12-12T13:00:00",
          "2019-12-12T14:00:00",
          "2019-12-12T15:00:00",
          "2019-12-12T16:00:00",
          "2019-12-12T17:00:00",
          "2019-12-12T18:00:00",
          "2019-12-12T19:00:00",
          "2019-12-12T20:00:00",
          "2019-12-12T21:00:00",
          "2019-12-12T22:00:00",
          "2019-12-12T23:00:00",
          "2019-12-13T00:00:00",
          "2019-12-13T01:00:00",
          "2019-12-13T02:00:00",
          "2019-12-13T03:00:00",
          "2019-12-13T04:00:00",
          "2019-12-13T05:00:00",
          "2019-12-13T06:00:00",
          "2019-12-13T07:00:00",
          "2019-12-13T08:00:00",
          "2019-12-13T09:00:00",
          "2019-12-13T10:00:00",
          "2019-12-13T11:00:00",
          "2019-12-13T12:00:00",
          "2019-12-13T13:00:00",
          "2019-12-13T14:00:00",
          "2019-12-13T15:00:00",
          "2019-12-13T16:00:00",
          "2019-12-13T17:00:00",
          "2019-12-13T18:00:00",
          "2019-12-13T19:00:00",
          "2019-12-13T20:00:00",
          "2019-12-13T21:00:00",
          "2019-12-13T22:00:00",
          "2019-12-13T23:00:00",
          "2019-12-14T00:00:00",
          "2019-12-14T01:00:00",
          "2019-12-14T02:00:00",
          "2019-12-14T03:00:00",
          "2019-12-14T04:00:00",
          "2019-12-14T05:00:00",
          "2019-12-14T06:00:00",
          "2019-12-14T07:00:00",
          "2019-12-14T08:00:00",
          "2019-12-14T09:00:00",
          "2019-12-14T10:00:00",
          "2019-12-14T11:00:00",
          "2019-12-14T12:00:00",
          "2019-12-14T13:00:00",
          "2019-12-14T14:00:00",
          "2019-12-14T15:00:00",
          "2019-12-14T16:00:00",
          "2019-12-14T17:00:00",
          "2019-12-14T18:00:00",
          "2019-12-14T19:00:00",
          "2019-12-14T20:00:00",
          "2019-12-14T21:00:00",
          "2019-12-14T22:00:00",
          "2019-12-14T23:00:00",
          "2019-12-15T00:00:00",
          "2019-12-15T01:00:00",
          "2019-12-15T02:00:00",
          "2019-12-15T03:00:00",
          "2019-12-15T04:00:00",
          "2019-12-15T05:00:00",
          "2019-12-15T06:00:00",
          "2019-12-15T07:00:00",
          "2019-12-15T08:00:00",
          "2019-12-15T09:00:00",
          "2019-12-15T10:00:00",
          "2019-12-15T11:00:00",
          "2019-12-15T12:00:00",
          "2019-12-15T13:00:00",
          "2019-12-15T14:00:00",
          "2019-12-15T15:00:00",
          "2019-12-15T16:00:00",
          "2019-12-15T17:00:00",
          "2019-12-15T18:00:00",
          "2019-12-15T19:00:00",
          "2019-12-15T20:00:00",
          "2019-12-15T21:00:00",
          "2019-12-15T22:00:00",
          "2019-12-16T00:00:00"
         ],
         "y": [
          0.6630623389032753,
          0.666621940700867,
          0.6668943939112187,
          0.6657755116925527,
          0.6792489143328142,
          0.6769924517143899,
          0.6665396079334284,
          0.6564408648486932,
          0.6535065619452949,
          0.6532724689198353,
          0.6562821716550995,
          0.649862222476235,
          0.6475870015992382,
          0.6473198572004035,
          0.6374117428854291,
          0.6481450212997288,
          0.6632813381092572,
          0.6665830591268849,
          0.6675943783999756,
          0.6630965424751126,
          0.6645091750613751,
          0.6651067516857603,
          0.665927052694738,
          0.6670098394944322,
          0.6711744227689136,
          0.6732082528749267,
          0.6730085314472176,
          0.6588044811192795,
          0.6518969398998891,
          0.6501488992838838,
          0.659620589763194,
          0.6599958353389197,
          0.6627576248628617,
          0.6604759174137684,
          0.6554574665282777,
          0.6594759527319518,
          0.6603399689857725,
          0.6195986623650045,
          0.6089959453318273,
          0.6204239397461812,
          0.6283142532037146,
          0.6341058488893303,
          0.6376912266436914,
          0.6423137843246491,
          0.6466289130553424,
          0.6536660568278078,
          0.6631913089793277,
          0.6667493670803737,
          0.6686914489775494,
          0.6714820827625245,
          0.6712065810774146,
          0.6666999993289713,
          0.6659601852618102,
          0.6578146195561536,
          0.6615400316873237,
          0.6529893382719245,
          0.6523001869422205,
          0.6505626064228911,
          0.6487171653422973,
          0.651041418979059,
          0.6521353135738346,
          0.6490849433643016,
          0.6490327120478647,
          0.6509683660845382,
          0.6460577577415765,
          0.6489757520970741,
          0.6532597312014836,
          0.6328314281637918,
          0.6298294634097439,
          0.6213634115799613,
          0.6211706771121898,
          0.6280304230770994,
          0.638252485175308,
          0.6483272018434392,
          0.6902448978302953,
          0.6845858738739635,
          0.6935845589130828,
          0.667232757368447,
          0.6437524309367926,
          0.639695382776214,
          0.6481349543485995,
          0.6660003329825728,
          0.6737838887302706,
          0.6556794403492525,
          0.6416234637690718,
          0.6593810115949665,
          0.6686606830851384,
          0.6799058199272818,
          0.7740346781321992,
          0.7560484749798382,
          0.7114192413464042,
          0.6950793066615308,
          0.6867881321456631,
          0.6836116749940795,
          0.682100351525811,
          0.6909889612073102,
          0.7101490327708322,
          0.7210609301177568,
          0.7099224302927106,
          0.6961502212223776,
          0.6961924792404837,
          0.6927803220117535,
          0.6872833781799872,
          0.6824440905325284,
          0.6796391069195662,
          0.6783248695709383,
          0.6794571744288648,
          0.6784214605317676,
          0.6809413587946895,
          0.6336065610818366,
          0.6113523712991306,
          0.6213089527134709,
          0.6580784299282474,
          0.6698031115069902,
          0.6776353778448297,
          0.6808312315036729,
          0.6853204393244912
         ]
        },
        {
         "line": {
          "shape": "spline",
          "smoothing": 1
         },
         "mode": "lines+markers",
         "name": "15:ori/auc",
         "type": "scatter",
         "x": [
          "2019-12-11T00:00:00",
          "2019-12-11T01:00:00",
          "2019-12-11T02:00:00",
          "2019-12-11T03:00:00",
          "2019-12-11T04:00:00",
          "2019-12-11T05:00:00",
          "2019-12-11T06:00:00",
          "2019-12-11T07:00:00",
          "2019-12-11T08:00:00",
          "2019-12-11T09:00:00",
          "2019-12-11T10:00:00",
          "2019-12-11T11:00:00",
          "2019-12-11T12:00:00",
          "2019-12-11T13:00:00",
          "2019-12-11T15:00:00",
          "2019-12-11T16:00:00",
          "2019-12-11T19:00:00",
          "2019-12-11T20:00:00",
          "2019-12-11T21:00:00",
          "2019-12-11T22:00:00",
          "2019-12-11T23:00:00",
          "2019-12-12T00:00:00",
          "2019-12-12T01:00:00",
          "2019-12-12T02:00:00",
          "2019-12-12T03:00:00",
          "2019-12-12T04:00:00",
          "2019-12-12T05:00:00",
          "2019-12-12T06:00:00",
          "2019-12-12T07:00:00",
          "2019-12-12T08:00:00",
          "2019-12-12T09:00:00",
          "2019-12-12T10:00:00",
          "2019-12-12T11:00:00",
          "2019-12-12T12:00:00",
          "2019-12-12T13:00:00",
          "2019-12-12T14:00:00",
          "2019-12-12T15:00:00",
          "2019-12-12T16:00:00",
          "2019-12-12T17:00:00",
          "2019-12-12T18:00:00",
          "2019-12-12T19:00:00",
          "2019-12-12T20:00:00",
          "2019-12-12T21:00:00",
          "2019-12-12T22:00:00",
          "2019-12-12T23:00:00",
          "2019-12-13T00:00:00",
          "2019-12-13T01:00:00",
          "2019-12-13T02:00:00",
          "2019-12-13T03:00:00",
          "2019-12-13T04:00:00",
          "2019-12-13T05:00:00",
          "2019-12-13T06:00:00",
          "2019-12-13T07:00:00",
          "2019-12-13T08:00:00",
          "2019-12-13T09:00:00",
          "2019-12-13T10:00:00",
          "2019-12-13T11:00:00",
          "2019-12-13T12:00:00",
          "2019-12-13T13:00:00",
          "2019-12-13T14:00:00",
          "2019-12-13T15:00:00",
          "2019-12-13T16:00:00",
          "2019-12-13T17:00:00",
          "2019-12-13T18:00:00",
          "2019-12-13T19:00:00",
          "2019-12-13T20:00:00",
          "2019-12-13T21:00:00",
          "2019-12-13T22:00:00",
          "2019-12-13T23:00:00",
          "2019-12-14T00:00:00",
          "2019-12-14T01:00:00",
          "2019-12-14T02:00:00",
          "2019-12-14T03:00:00",
          "2019-12-14T04:00:00",
          "2019-12-14T05:00:00",
          "2019-12-14T06:00:00",
          "2019-12-14T07:00:00",
          "2019-12-14T08:00:00",
          "2019-12-14T09:00:00",
          "2019-12-14T10:00:00",
          "2019-12-14T11:00:00",
          "2019-12-14T12:00:00",
          "2019-12-14T13:00:00",
          "2019-12-14T14:00:00",
          "2019-12-14T15:00:00",
          "2019-12-14T16:00:00",
          "2019-12-14T17:00:00",
          "2019-12-14T18:00:00",
          "2019-12-14T19:00:00",
          "2019-12-14T20:00:00",
          "2019-12-14T21:00:00",
          "2019-12-14T22:00:00",
          "2019-12-14T23:00:00",
          "2019-12-15T00:00:00",
          "2019-12-15T01:00:00",
          "2019-12-15T02:00:00",
          "2019-12-15T03:00:00",
          "2019-12-15T04:00:00",
          "2019-12-15T05:00:00",
          "2019-12-15T06:00:00",
          "2019-12-15T07:00:00",
          "2019-12-15T08:00:00",
          "2019-12-15T09:00:00",
          "2019-12-15T10:00:00",
          "2019-12-15T11:00:00",
          "2019-12-15T12:00:00",
          "2019-12-15T13:00:00",
          "2019-12-15T14:00:00",
          "2019-12-15T15:00:00",
          "2019-12-15T16:00:00",
          "2019-12-15T17:00:00",
          "2019-12-15T18:00:00",
          "2019-12-15T19:00:00",
          "2019-12-15T20:00:00",
          "2019-12-15T21:00:00",
          "2019-12-15T22:00:00",
          "2019-12-16T00:00:00"
         ],
         "y": [
          0.6525726931875382,
          0.6816525069108317,
          0.694204483261254,
          0.6971866556265851,
          0.7081149065692194,
          0.7054340113326873,
          0.6926708293734383,
          0.6647524147549235,
          0.6227777532762186,
          0.6248765530915843,
          0.6320241529483194,
          0.6284029385257188,
          0.6269015248736917,
          0.6272681746788236,
          0.5701600135803959,
          0.4889197371591048,
          0.47246897502372753,
          0.5779048010181811,
          0.6265424843201353,
          0.6416415331467644,
          0.6484803169058773,
          0.6377078981599316,
          0.6513026167829044,
          0.6700209762003977,
          0.6731907134509588,
          0.6781455400231147,
          0.6792544048928071,
          0.6677318727031569,
          0.6612207994364896,
          0.6557090661446676,
          0.6512202913814379,
          0.6588349558261954,
          0.6634403371524031,
          0.661014457245783,
          0.6610706207152264,
          0.6562436445177694,
          0.6621519098595472,
          0.6412178505013182,
          0.6741237318248607,
          0.6874989128795472,
          0.693055283113388,
          0.6924635219511523,
          0.6852452207950156,
          0.6850831624786837,
          0.68625112844899,
          0.6805294624222571,
          0.6692799696575642,
          0.6708145284287945,
          0.671136076002942,
          0.6820007790081377,
          0.6858069739356889,
          0.6818940023219262,
          0.6799214186683784,
          0.6770148865691699,
          0.6801158132415145,
          0.6705278986861375,
          0.6628742138731318,
          0.6619052093981607,
          0.6538214443274983,
          0.6541314421082742,
          0.6513494881304593,
          0.6530819902964187,
          0.659769819509582,
          0.6662986628775094,
          0.6713607691142467,
          0.6686566796108989,
          0.664641357043048,
          0.6570667438359965,
          0.6611393692733389,
          0.6597985478849453,
          0.6549134699970574,
          0.6608025164496042,
          0.6587951579622906,
          0.6712628767686702,
          0.6679309910505661,
          0.6647882067920228,
          0.6578378270739893,
          0.6564087502607745,
          0.6578737667109991,
          0.6563228848345788,
          0.6610796531688207,
          0.6642413381533452,
          0.6625452089367988,
          0.6598841451669256,
          0.653273604532433,
          0.6554272296665506,
          0.6589080821086373,
          0.6668089097571452,
          0.666815482604528,
          0.6607505146844532,
          0.6679562094687643,
          0.6576497416357201,
          0.656450548048844,
          0.6671612940216829,
          0.6732465557605455,
          0.6766861904189775,
          0.6945713233181021,
          0.6840296755579378,
          0.6834474598316223,
          0.6760894393920794,
          0.6702518558488807,
          0.6639771164786079,
          0.6596971819114753,
          0.659402455342064,
          0.6612373843434375,
          0.663147434015691,
          0.6612278182505708,
          0.6578567327511962,
          0.6720987497259273,
          0.6647011304172583,
          0.6610812067167805,
          0.664126750219632,
          0.6668293082608379,
          0.6577673727816906,
          0.6621079838224426,
          0.6631913767367212,
          0.6618369628642666
         ]
        }
       ],
       "layout": {
        "hovermode": "x",
        "template": {
         "data": {
          "bar": [
           {
            "error_x": {
             "color": "#2a3f5f"
            },
            "error_y": {
             "color": "#2a3f5f"
            },
            "marker": {
             "line": {
              "color": "#E5ECF6",
              "width": 0.5
             }
            },
            "type": "bar"
           }
          ],
          "barpolar": [
           {
            "marker": {
             "line": {
              "color": "#E5ECF6",
              "width": 0.5
             }
            },
            "type": "barpolar"
           }
          ],
          "carpet": [
           {
            "aaxis": {
             "endlinecolor": "#2a3f5f",
             "gridcolor": "white",
             "linecolor": "white",
             "minorgridcolor": "white",
             "startlinecolor": "#2a3f5f"
            },
            "baxis": {
             "endlinecolor": "#2a3f5f",
             "gridcolor": "white",
             "linecolor": "white",
             "minorgridcolor": "white",
             "startlinecolor": "#2a3f5f"
            },
            "type": "carpet"
           }
          ],
          "choropleth": [
           {
            "colorbar": {
             "outlinewidth": 0,
             "ticks": ""
            },
            "type": "choropleth"
           }
          ],
          "contour": [
           {
            "colorbar": {
             "outlinewidth": 0,
             "ticks": ""
            },
            "colorscale": [
             [
              0,
              "#0d0887"
             ],
             [
              0.1111111111111111,
              "#46039f"
             ],
             [
              0.2222222222222222,
              "#7201a8"
             ],
             [
              0.3333333333333333,
              "#9c179e"
             ],
             [
              0.4444444444444444,
              "#bd3786"
             ],
             [
              0.5555555555555556,
              "#d8576b"
             ],
             [
              0.6666666666666666,
              "#ed7953"
             ],
             [
              0.7777777777777778,
              "#fb9f3a"
             ],
             [
              0.8888888888888888,
              "#fdca26"
             ],
             [
              1,
              "#f0f921"
             ]
            ],
            "type": "contour"
           }
          ],
          "contourcarpet": [
           {
            "colorbar": {
             "outlinewidth": 0,
             "ticks": ""
            },
            "type": "contourcarpet"
           }
          ],
          "heatmap": [
           {
            "colorbar": {
             "outlinewidth": 0,
             "ticks": ""
            },
            "colorscale": [
             [
              0,
              "#0d0887"
             ],
             [
              0.1111111111111111,
              "#46039f"
             ],
             [
              0.2222222222222222,
              "#7201a8"
             ],
             [
              0.3333333333333333,
              "#9c179e"
             ],
             [
              0.4444444444444444,
              "#bd3786"
             ],
             [
              0.5555555555555556,
              "#d8576b"
             ],
             [
              0.6666666666666666,
              "#ed7953"
             ],
             [
              0.7777777777777778,
              "#fb9f3a"
             ],
             [
              0.8888888888888888,
              "#fdca26"
             ],
             [
              1,
              "#f0f921"
             ]
            ],
            "type": "heatmap"
           }
          ],
          "heatmapgl": [
           {
            "colorbar": {
             "outlinewidth": 0,
             "ticks": ""
            },
            "colorscale": [
             [
              0,
              "#0d0887"
             ],
             [
              0.1111111111111111,
              "#46039f"
             ],
             [
              0.2222222222222222,
              "#7201a8"
             ],
             [
              0.3333333333333333,
              "#9c179e"
             ],
             [
              0.4444444444444444,
              "#bd3786"
             ],
             [
              0.5555555555555556,
              "#d8576b"
             ],
             [
              0.6666666666666666,
              "#ed7953"
             ],
             [
              0.7777777777777778,
              "#fb9f3a"
             ],
             [
              0.8888888888888888,
              "#fdca26"
             ],
             [
              1,
              "#f0f921"
             ]
            ],
            "type": "heatmapgl"
           }
          ],
          "histogram": [
           {
            "marker": {
             "colorbar": {
              "outlinewidth": 0,
              "ticks": ""
             }
            },
            "type": "histogram"
           }
          ],
          "histogram2d": [
           {
            "colorbar": {
             "outlinewidth": 0,
             "ticks": ""
            },
            "colorscale": [
             [
              0,
              "#0d0887"
             ],
             [
              0.1111111111111111,
              "#46039f"
             ],
             [
              0.2222222222222222,
              "#7201a8"
             ],
             [
              0.3333333333333333,
              "#9c179e"
             ],
             [
              0.4444444444444444,
              "#bd3786"
             ],
             [
              0.5555555555555556,
              "#d8576b"
             ],
             [
              0.6666666666666666,
              "#ed7953"
             ],
             [
              0.7777777777777778,
              "#fb9f3a"
             ],
             [
              0.8888888888888888,
              "#fdca26"
             ],
             [
              1,
              "#f0f921"
             ]
            ],
            "type": "histogram2d"
           }
          ],
          "histogram2dcontour": [
           {
            "colorbar": {
             "outlinewidth": 0,
             "ticks": ""
            },
            "colorscale": [
             [
              0,
              "#0d0887"
             ],
             [
              0.1111111111111111,
              "#46039f"
             ],
             [
              0.2222222222222222,
              "#7201a8"
             ],
             [
              0.3333333333333333,
              "#9c179e"
             ],
             [
              0.4444444444444444,
              "#bd3786"
             ],
             [
              0.5555555555555556,
              "#d8576b"
             ],
             [
              0.6666666666666666,
              "#ed7953"
             ],
             [
              0.7777777777777778,
              "#fb9f3a"
             ],
             [
              0.8888888888888888,
              "#fdca26"
             ],
             [
              1,
              "#f0f921"
             ]
            ],
            "type": "histogram2dcontour"
           }
          ],
          "mesh3d": [
           {
            "colorbar": {
             "outlinewidth": 0,
             "ticks": ""
            },
            "type": "mesh3d"
           }
          ],
          "parcoords": [
           {
            "line": {
             "colorbar": {
              "outlinewidth": 0,
              "ticks": ""
             }
            },
            "type": "parcoords"
           }
          ],
          "scatter": [
           {
            "marker": {
             "colorbar": {
              "outlinewidth": 0,
              "ticks": ""
             }
            },
            "type": "scatter"
           }
          ],
          "scatter3d": [
           {
            "line": {
             "colorbar": {
              "outlinewidth": 0,
              "ticks": ""
             }
            },
            "marker": {
             "colorbar": {
              "outlinewidth": 0,
              "ticks": ""
             }
            },
            "type": "scatter3d"
           }
          ],
          "scattercarpet": [
           {
            "marker": {
             "colorbar": {
              "outlinewidth": 0,
              "ticks": ""
             }
            },
            "type": "scattercarpet"
           }
          ],
          "scattergeo": [
           {
            "marker": {
             "colorbar": {
              "outlinewidth": 0,
              "ticks": ""
             }
            },
            "type": "scattergeo"
           }
          ],
          "scattergl": [
           {
            "marker": {
             "colorbar": {
              "outlinewidth": 0,
              "ticks": ""
             }
            },
            "type": "scattergl"
           }
          ],
          "scattermapbox": [
           {
            "marker": {
             "colorbar": {
              "outlinewidth": 0,
              "ticks": ""
             }
            },
            "type": "scattermapbox"
           }
          ],
          "scatterpolar": [
           {
            "marker": {
             "colorbar": {
              "outlinewidth": 0,
              "ticks": ""
             }
            },
            "type": "scatterpolar"
           }
          ],
          "scatterpolargl": [
           {
            "marker": {
             "colorbar": {
              "outlinewidth": 0,
              "ticks": ""
             }
            },
            "type": "scatterpolargl"
           }
          ],
          "scatterternary": [
           {
            "marker": {
             "colorbar": {
              "outlinewidth": 0,
              "ticks": ""
             }
            },
            "type": "scatterternary"
           }
          ],
          "surface": [
           {
            "colorbar": {
             "outlinewidth": 0,
             "ticks": ""
            },
            "colorscale": [
             [
              0,
              "#0d0887"
             ],
             [
              0.1111111111111111,
              "#46039f"
             ],
             [
              0.2222222222222222,
              "#7201a8"
             ],
             [
              0.3333333333333333,
              "#9c179e"
             ],
             [
              0.4444444444444444,
              "#bd3786"
             ],
             [
              0.5555555555555556,
              "#d8576b"
             ],
             [
              0.6666666666666666,
              "#ed7953"
             ],
             [
              0.7777777777777778,
              "#fb9f3a"
             ],
             [
              0.8888888888888888,
              "#fdca26"
             ],
             [
              1,
              "#f0f921"
             ]
            ],
            "type": "surface"
           }
          ],
          "table": [
           {
            "cells": {
             "fill": {
              "color": "#EBF0F8"
             },
             "line": {
              "color": "white"
             }
            },
            "header": {
             "fill": {
              "color": "#C8D4E3"
             },
             "line": {
              "color": "white"
             }
            },
            "type": "table"
           }
          ]
         },
         "layout": {
          "annotationdefaults": {
           "arrowcolor": "#2a3f5f",
           "arrowhead": 0,
           "arrowwidth": 1
          },
          "colorscale": {
           "diverging": [
            [
             0,
             "#8e0152"
            ],
            [
             0.1,
             "#c51b7d"
            ],
            [
             0.2,
             "#de77ae"
            ],
            [
             0.3,
             "#f1b6da"
            ],
            [
             0.4,
             "#fde0ef"
            ],
            [
             0.5,
             "#f7f7f7"
            ],
            [
             0.6,
             "#e6f5d0"
            ],
            [
             0.7,
             "#b8e186"
            ],
            [
             0.8,
             "#7fbc41"
            ],
            [
             0.9,
             "#4d9221"
            ],
            [
             1,
             "#276419"
            ]
           ],
           "sequential": [
            [
             0,
             "#0d0887"
            ],
            [
             0.1111111111111111,
             "#46039f"
            ],
            [
             0.2222222222222222,
             "#7201a8"
            ],
            [
             0.3333333333333333,
             "#9c179e"
            ],
            [
             0.4444444444444444,
             "#bd3786"
            ],
            [
             0.5555555555555556,
             "#d8576b"
            ],
            [
             0.6666666666666666,
             "#ed7953"
            ],
            [
             0.7777777777777778,
             "#fb9f3a"
            ],
            [
             0.8888888888888888,
             "#fdca26"
            ],
            [
             1,
             "#f0f921"
            ]
           ],
           "sequentialminus": [
            [
             0,
             "#0d0887"
            ],
            [
             0.1111111111111111,
             "#46039f"
            ],
            [
             0.2222222222222222,
             "#7201a8"
            ],
            [
             0.3333333333333333,
             "#9c179e"
            ],
            [
             0.4444444444444444,
             "#bd3786"
            ],
            [
             0.5555555555555556,
             "#d8576b"
            ],
            [
             0.6666666666666666,
             "#ed7953"
            ],
            [
             0.7777777777777778,
             "#fb9f3a"
            ],
            [
             0.8888888888888888,
             "#fdca26"
            ],
            [
             1,
             "#f0f921"
            ]
           ]
          },
          "colorway": [
           "#636efa",
           "#EF553B",
           "#00cc96",
           "#ab63fa",
           "#FFA15A",
           "#19d3f3",
           "#FF6692",
           "#B6E880",
           "#FF97FF",
           "#FECB52"
          ],
          "font": {
           "color": "#2a3f5f"
          },
          "geo": {
           "bgcolor": "white",
           "lakecolor": "white",
           "landcolor": "#E5ECF6",
           "showlakes": true,
           "showland": true,
           "subunitcolor": "white"
          },
          "hoverlabel": {
           "align": "left"
          },
          "hovermode": "closest",
          "mapbox": {
           "style": "light"
          },
          "paper_bgcolor": "white",
          "plot_bgcolor": "#E5ECF6",
          "polar": {
           "angularaxis": {
            "gridcolor": "white",
            "linecolor": "white",
            "ticks": ""
           },
           "bgcolor": "#E5ECF6",
           "radialaxis": {
            "gridcolor": "white",
            "linecolor": "white",
            "ticks": ""
           }
          },
          "scene": {
           "xaxis": {
            "backgroundcolor": "#E5ECF6",
            "gridcolor": "white",
            "gridwidth": 2,
            "linecolor": "white",
            "showbackground": true,
            "ticks": "",
            "zerolinecolor": "white"
           },
           "yaxis": {
            "backgroundcolor": "#E5ECF6",
            "gridcolor": "white",
            "gridwidth": 2,
            "linecolor": "white",
            "showbackground": true,
            "ticks": "",
            "zerolinecolor": "white"
           },
           "zaxis": {
            "backgroundcolor": "#E5ECF6",
            "gridcolor": "white",
            "gridwidth": 2,
            "linecolor": "white",
            "showbackground": true,
            "ticks": "",
            "zerolinecolor": "white"
           }
          },
          "shapedefaults": {
           "line": {
            "color": "#2a3f5f"
           }
          },
          "ternary": {
           "aaxis": {
            "gridcolor": "white",
            "linecolor": "white",
            "ticks": ""
           },
           "baxis": {
            "gridcolor": "white",
            "linecolor": "white",
            "ticks": ""
           },
           "bgcolor": "#E5ECF6",
           "caxis": {
            "gridcolor": "white",
            "linecolor": "white",
            "ticks": ""
           }
          },
          "title": {
           "x": 0.05
          },
          "xaxis": {
           "automargin": true,
           "gridcolor": "white",
           "linecolor": "white",
           "ticks": "",
           "zerolinecolor": "white",
           "zerolinewidth": 2
          },
          "yaxis": {
           "automargin": true,
           "gridcolor": "white",
           "linecolor": "white",
           "ticks": "",
           "zerolinecolor": "white",
           "zerolinewidth": 2
          }
         }
        },
        "title": {
         "text": "tuwen:ori/auc"
        },
        "xaxis": {
         "type": "date"
        }
       }
      },
      "text/html": [
       "<div>\n",
       "        \n",
       "        \n",
       "            <div id=\"d8d9cd5f-fb75-4014-982d-b062d5dca20a\" class=\"plotly-graph-div\" style=\"height:525px; width:100%;\"></div>\n",
       "            <script type=\"text/javascript\">\n",
       "                require([\"plotly\"], function(Plotly) {\n",
       "                    window.PLOTLYENV=window.PLOTLYENV || {};\n",
       "                    \n",
       "                if (document.getElementById(\"d8d9cd5f-fb75-4014-982d-b062d5dca20a\")) {\n",
       "                    Plotly.newPlot(\n",
       "                        'd8d9cd5f-fb75-4014-982d-b062d5dca20a',\n",
       "                        [{\"line\": {\"shape\": \"spline\", \"smoothing\": 1.0}, \"mode\": \"lines+markers\", \"name\": \"456:ori/auc\", \"type\": \"scatter\", \"x\": [\"2019-12-11T00:00:00\", \"2019-12-11T01:00:00\", \"2019-12-11T02:00:00\", \"2019-12-11T03:00:00\", \"2019-12-11T04:00:00\", \"2019-12-11T05:00:00\", \"2019-12-11T06:00:00\", \"2019-12-11T07:00:00\", \"2019-12-11T08:00:00\", \"2019-12-11T09:00:00\", \"2019-12-11T10:00:00\", \"2019-12-11T11:00:00\", \"2019-12-11T12:00:00\", \"2019-12-11T13:00:00\", \"2019-12-11T15:00:00\", \"2019-12-11T16:00:00\", \"2019-12-11T19:00:00\", \"2019-12-11T20:00:00\", \"2019-12-11T21:00:00\", \"2019-12-11T22:00:00\", \"2019-12-11T23:00:00\", \"2019-12-12T00:00:00\", \"2019-12-12T01:00:00\", \"2019-12-12T02:00:00\", \"2019-12-12T03:00:00\", \"2019-12-12T04:00:00\", \"2019-12-12T05:00:00\", \"2019-12-12T06:00:00\", \"2019-12-12T07:00:00\", \"2019-12-12T08:00:00\", \"2019-12-12T09:00:00\", \"2019-12-12T10:00:00\", \"2019-12-12T11:00:00\", \"2019-12-12T12:00:00\", \"2019-12-12T13:00:00\", \"2019-12-12T14:00:00\", \"2019-12-12T15:00:00\", \"2019-12-12T16:00:00\", \"2019-12-12T17:00:00\", \"2019-12-12T18:00:00\", \"2019-12-12T19:00:00\", \"2019-12-12T20:00:00\", \"2019-12-12T21:00:00\", \"2019-12-12T22:00:00\", \"2019-12-12T23:00:00\", \"2019-12-13T00:00:00\", \"2019-12-13T01:00:00\", \"2019-12-13T02:00:00\", \"2019-12-13T03:00:00\", \"2019-12-13T04:00:00\", \"2019-12-13T05:00:00\", \"2019-12-13T06:00:00\", \"2019-12-13T07:00:00\", \"2019-12-13T08:00:00\", \"2019-12-13T09:00:00\", \"2019-12-13T10:00:00\", \"2019-12-13T11:00:00\", \"2019-12-13T12:00:00\", \"2019-12-13T13:00:00\", \"2019-12-13T14:00:00\", \"2019-12-13T15:00:00\", \"2019-12-13T16:00:00\", \"2019-12-13T17:00:00\", \"2019-12-13T18:00:00\", \"2019-12-13T19:00:00\", \"2019-12-13T20:00:00\", \"2019-12-13T21:00:00\", \"2019-12-13T22:00:00\", \"2019-12-13T23:00:00\", \"2019-12-14T00:00:00\", \"2019-12-14T01:00:00\", \"2019-12-14T02:00:00\", \"2019-12-14T03:00:00\", \"2019-12-14T04:00:00\", \"2019-12-14T05:00:00\", \"2019-12-14T06:00:00\", \"2019-12-14T07:00:00\", \"2019-12-14T08:00:00\", \"2019-12-14T09:00:00\", \"2019-12-14T10:00:00\", \"2019-12-14T11:00:00\", \"2019-12-14T12:00:00\", \"2019-12-14T13:00:00\", \"2019-12-14T14:00:00\", \"2019-12-14T15:00:00\", \"2019-12-14T16:00:00\", \"2019-12-14T17:00:00\", \"2019-12-14T18:00:00\", \"2019-12-14T19:00:00\", \"2019-12-14T20:00:00\", \"2019-12-14T21:00:00\", \"2019-12-14T22:00:00\", \"2019-12-14T23:00:00\", \"2019-12-15T00:00:00\", \"2019-12-15T01:00:00\", \"2019-12-15T02:00:00\", \"2019-12-15T03:00:00\", \"2019-12-15T04:00:00\", \"2019-12-15T05:00:00\", \"2019-12-15T06:00:00\", \"2019-12-15T07:00:00\", \"2019-12-15T08:00:00\", \"2019-12-15T09:00:00\", \"2019-12-15T10:00:00\", \"2019-12-15T11:00:00\", \"2019-12-15T12:00:00\", \"2019-12-15T13:00:00\", \"2019-12-15T14:00:00\", \"2019-12-15T15:00:00\", \"2019-12-15T16:00:00\", \"2019-12-15T17:00:00\", \"2019-12-15T18:00:00\", \"2019-12-15T19:00:00\", \"2019-12-15T20:00:00\", \"2019-12-15T21:00:00\", \"2019-12-15T22:00:00\", \"2019-12-16T00:00:00\"], \"y\": [0.6630623389032753, 0.666621940700867, 0.6668943939112187, 0.6657755116925527, 0.6792489143328142, 0.6769924517143899, 0.6665396079334284, 0.6564408648486932, 0.6535065619452949, 0.6532724689198353, 0.6562821716550995, 0.649862222476235, 0.6475870015992382, 0.6473198572004035, 0.6374117428854291, 0.6481450212997288, 0.6632813381092572, 0.6665830591268849, 0.6675943783999756, 0.6630965424751126, 0.6645091750613751, 0.6651067516857603, 0.665927052694738, 0.6670098394944322, 0.6711744227689136, 0.6732082528749267, 0.6730085314472176, 0.6588044811192795, 0.6518969398998891, 0.6501488992838838, 0.659620589763194, 0.6599958353389197, 0.6627576248628617, 0.6604759174137684, 0.6554574665282777, 0.6594759527319518, 0.6603399689857725, 0.6195986623650045, 0.6089959453318273, 0.6204239397461812, 0.6283142532037146, 0.6341058488893303, 0.6376912266436914, 0.6423137843246491, 0.6466289130553424, 0.6536660568278078, 0.6631913089793277, 0.6667493670803737, 0.6686914489775494, 0.6714820827625245, 0.6712065810774146, 0.6666999993289713, 0.6659601852618102, 0.6578146195561536, 0.6615400316873237, 0.6529893382719245, 0.6523001869422205, 0.6505626064228911, 0.6487171653422973, 0.651041418979059, 0.6521353135738346, 0.6490849433643016, 0.6490327120478647, 0.6509683660845382, 0.6460577577415765, 0.6489757520970741, 0.6532597312014836, 0.6328314281637918, 0.6298294634097439, 0.6213634115799613, 0.6211706771121898, 0.6280304230770994, 0.638252485175308, 0.6483272018434392, 0.6902448978302953, 0.6845858738739635, 0.6935845589130828, 0.667232757368447, 0.6437524309367926, 0.639695382776214, 0.6481349543485995, 0.6660003329825728, 0.6737838887302706, 0.6556794403492525, 0.6416234637690718, 0.6593810115949665, 0.6686606830851384, 0.6799058199272818, 0.7740346781321992, 0.7560484749798382, 0.7114192413464042, 0.6950793066615308, 0.6867881321456631, 0.6836116749940795, 0.682100351525811, 0.6909889612073102, 0.7101490327708322, 0.7210609301177568, 0.7099224302927106, 0.6961502212223776, 0.6961924792404837, 0.6927803220117535, 0.6872833781799872, 0.6824440905325284, 0.6796391069195662, 0.6783248695709383, 0.6794571744288648, 0.6784214605317676, 0.6809413587946895, 0.6336065610818366, 0.6113523712991306, 0.6213089527134709, 0.6580784299282474, 0.6698031115069902, 0.6776353778448297, 0.6808312315036729, 0.6853204393244912]}, {\"line\": {\"shape\": \"spline\", \"smoothing\": 1.0}, \"mode\": \"lines+markers\", \"name\": \"15:ori/auc\", \"type\": \"scatter\", \"x\": [\"2019-12-11T00:00:00\", \"2019-12-11T01:00:00\", \"2019-12-11T02:00:00\", \"2019-12-11T03:00:00\", \"2019-12-11T04:00:00\", \"2019-12-11T05:00:00\", \"2019-12-11T06:00:00\", \"2019-12-11T07:00:00\", \"2019-12-11T08:00:00\", \"2019-12-11T09:00:00\", \"2019-12-11T10:00:00\", \"2019-12-11T11:00:00\", \"2019-12-11T12:00:00\", \"2019-12-11T13:00:00\", \"2019-12-11T15:00:00\", \"2019-12-11T16:00:00\", \"2019-12-11T19:00:00\", \"2019-12-11T20:00:00\", \"2019-12-11T21:00:00\", \"2019-12-11T22:00:00\", \"2019-12-11T23:00:00\", \"2019-12-12T00:00:00\", \"2019-12-12T01:00:00\", \"2019-12-12T02:00:00\", \"2019-12-12T03:00:00\", \"2019-12-12T04:00:00\", \"2019-12-12T05:00:00\", \"2019-12-12T06:00:00\", \"2019-12-12T07:00:00\", \"2019-12-12T08:00:00\", \"2019-12-12T09:00:00\", \"2019-12-12T10:00:00\", \"2019-12-12T11:00:00\", \"2019-12-12T12:00:00\", \"2019-12-12T13:00:00\", \"2019-12-12T14:00:00\", \"2019-12-12T15:00:00\", \"2019-12-12T16:00:00\", \"2019-12-12T17:00:00\", \"2019-12-12T18:00:00\", \"2019-12-12T19:00:00\", \"2019-12-12T20:00:00\", \"2019-12-12T21:00:00\", \"2019-12-12T22:00:00\", \"2019-12-12T23:00:00\", \"2019-12-13T00:00:00\", \"2019-12-13T01:00:00\", \"2019-12-13T02:00:00\", \"2019-12-13T03:00:00\", \"2019-12-13T04:00:00\", \"2019-12-13T05:00:00\", \"2019-12-13T06:00:00\", \"2019-12-13T07:00:00\", \"2019-12-13T08:00:00\", \"2019-12-13T09:00:00\", \"2019-12-13T10:00:00\", \"2019-12-13T11:00:00\", \"2019-12-13T12:00:00\", \"2019-12-13T13:00:00\", \"2019-12-13T14:00:00\", \"2019-12-13T15:00:00\", \"2019-12-13T16:00:00\", \"2019-12-13T17:00:00\", \"2019-12-13T18:00:00\", \"2019-12-13T19:00:00\", \"2019-12-13T20:00:00\", \"2019-12-13T21:00:00\", \"2019-12-13T22:00:00\", \"2019-12-13T23:00:00\", \"2019-12-14T00:00:00\", \"2019-12-14T01:00:00\", \"2019-12-14T02:00:00\", \"2019-12-14T03:00:00\", \"2019-12-14T04:00:00\", \"2019-12-14T05:00:00\", \"2019-12-14T06:00:00\", \"2019-12-14T07:00:00\", \"2019-12-14T08:00:00\", \"2019-12-14T09:00:00\", \"2019-12-14T10:00:00\", \"2019-12-14T11:00:00\", \"2019-12-14T12:00:00\", \"2019-12-14T13:00:00\", \"2019-12-14T14:00:00\", \"2019-12-14T15:00:00\", \"2019-12-14T16:00:00\", \"2019-12-14T17:00:00\", \"2019-12-14T18:00:00\", \"2019-12-14T19:00:00\", \"2019-12-14T20:00:00\", \"2019-12-14T21:00:00\", \"2019-12-14T22:00:00\", \"2019-12-14T23:00:00\", \"2019-12-15T00:00:00\", \"2019-12-15T01:00:00\", \"2019-12-15T02:00:00\", \"2019-12-15T03:00:00\", \"2019-12-15T04:00:00\", \"2019-12-15T05:00:00\", \"2019-12-15T06:00:00\", \"2019-12-15T07:00:00\", \"2019-12-15T08:00:00\", \"2019-12-15T09:00:00\", \"2019-12-15T10:00:00\", \"2019-12-15T11:00:00\", \"2019-12-15T12:00:00\", \"2019-12-15T13:00:00\", \"2019-12-15T14:00:00\", \"2019-12-15T15:00:00\", \"2019-12-15T16:00:00\", \"2019-12-15T17:00:00\", \"2019-12-15T18:00:00\", \"2019-12-15T19:00:00\", \"2019-12-15T20:00:00\", \"2019-12-15T21:00:00\", \"2019-12-15T22:00:00\", \"2019-12-16T00:00:00\"], \"y\": [0.6525726931875382, 0.6816525069108317, 0.694204483261254, 0.6971866556265851, 0.7081149065692194, 0.7054340113326873, 0.6926708293734383, 0.6647524147549235, 0.6227777532762186, 0.6248765530915843, 0.6320241529483194, 0.6284029385257188, 0.6269015248736917, 0.6272681746788236, 0.5701600135803959, 0.4889197371591048, 0.47246897502372753, 0.5779048010181811, 0.6265424843201353, 0.6416415331467644, 0.6484803169058773, 0.6377078981599316, 0.6513026167829044, 0.6700209762003977, 0.6731907134509588, 0.6781455400231147, 0.6792544048928071, 0.6677318727031569, 0.6612207994364896, 0.6557090661446676, 0.6512202913814379, 0.6588349558261954, 0.6634403371524031, 0.661014457245783, 0.6610706207152264, 0.6562436445177694, 0.6621519098595472, 0.6412178505013182, 0.6741237318248607, 0.6874989128795472, 0.693055283113388, 0.6924635219511523, 0.6852452207950156, 0.6850831624786837, 0.68625112844899, 0.6805294624222571, 0.6692799696575642, 0.6708145284287945, 0.671136076002942, 0.6820007790081377, 0.6858069739356889, 0.6818940023219262, 0.6799214186683784, 0.6770148865691699, 0.6801158132415145, 0.6705278986861375, 0.6628742138731318, 0.6619052093981607, 0.6538214443274983, 0.6541314421082742, 0.6513494881304593, 0.6530819902964187, 0.659769819509582, 0.6662986628775094, 0.6713607691142467, 0.6686566796108989, 0.664641357043048, 0.6570667438359965, 0.6611393692733389, 0.6597985478849453, 0.6549134699970574, 0.6608025164496042, 0.6587951579622906, 0.6712628767686702, 0.6679309910505661, 0.6647882067920228, 0.6578378270739893, 0.6564087502607745, 0.6578737667109991, 0.6563228848345788, 0.6610796531688207, 0.6642413381533452, 0.6625452089367988, 0.6598841451669256, 0.653273604532433, 0.6554272296665506, 0.6589080821086373, 0.6668089097571452, 0.666815482604528, 0.6607505146844532, 0.6679562094687643, 0.6576497416357201, 0.656450548048844, 0.6671612940216829, 0.6732465557605455, 0.6766861904189775, 0.6945713233181021, 0.6840296755579378, 0.6834474598316223, 0.6760894393920794, 0.6702518558488807, 0.6639771164786079, 0.6596971819114753, 0.659402455342064, 0.6612373843434375, 0.663147434015691, 0.6612278182505708, 0.6578567327511962, 0.6720987497259273, 0.6647011304172583, 0.6610812067167805, 0.664126750219632, 0.6668293082608379, 0.6577673727816906, 0.6621079838224426, 0.6631913767367212, 0.6618369628642666]}],\n",
       "                        {\"hovermode\": \"x\", \"template\": {\"data\": {\"bar\": [{\"error_x\": {\"color\": \"#2a3f5f\"}, \"error_y\": {\"color\": \"#2a3f5f\"}, \"marker\": {\"line\": {\"color\": \"#E5ECF6\", \"width\": 0.5}}, \"type\": \"bar\"}], \"barpolar\": [{\"marker\": {\"line\": {\"color\": \"#E5ECF6\", \"width\": 0.5}}, \"type\": \"barpolar\"}], \"carpet\": [{\"aaxis\": {\"endlinecolor\": \"#2a3f5f\", \"gridcolor\": \"white\", \"linecolor\": \"white\", \"minorgridcolor\": \"white\", \"startlinecolor\": \"#2a3f5f\"}, \"baxis\": {\"endlinecolor\": \"#2a3f5f\", \"gridcolor\": \"white\", \"linecolor\": \"white\", \"minorgridcolor\": \"white\", \"startlinecolor\": \"#2a3f5f\"}, \"type\": \"carpet\"}], \"choropleth\": [{\"colorbar\": {\"outlinewidth\": 0, \"ticks\": \"\"}, \"type\": \"choropleth\"}], \"contour\": [{\"colorbar\": {\"outlinewidth\": 0, \"ticks\": \"\"}, \"colorscale\": [[0.0, \"#0d0887\"], [0.1111111111111111, \"#46039f\"], [0.2222222222222222, \"#7201a8\"], [0.3333333333333333, \"#9c179e\"], [0.4444444444444444, \"#bd3786\"], [0.5555555555555556, \"#d8576b\"], [0.6666666666666666, \"#ed7953\"], [0.7777777777777778, \"#fb9f3a\"], [0.8888888888888888, \"#fdca26\"], [1.0, \"#f0f921\"]], \"type\": \"contour\"}], \"contourcarpet\": [{\"colorbar\": {\"outlinewidth\": 0, \"ticks\": \"\"}, \"type\": \"contourcarpet\"}], \"heatmap\": [{\"colorbar\": {\"outlinewidth\": 0, \"ticks\": \"\"}, \"colorscale\": [[0.0, \"#0d0887\"], [0.1111111111111111, \"#46039f\"], [0.2222222222222222, \"#7201a8\"], [0.3333333333333333, \"#9c179e\"], [0.4444444444444444, \"#bd3786\"], [0.5555555555555556, \"#d8576b\"], [0.6666666666666666, \"#ed7953\"], [0.7777777777777778, \"#fb9f3a\"], [0.8888888888888888, \"#fdca26\"], [1.0, \"#f0f921\"]], \"type\": \"heatmap\"}], \"heatmapgl\": [{\"colorbar\": {\"outlinewidth\": 0, \"ticks\": \"\"}, \"colorscale\": [[0.0, \"#0d0887\"], [0.1111111111111111, \"#46039f\"], [0.2222222222222222, \"#7201a8\"], [0.3333333333333333, \"#9c179e\"], [0.4444444444444444, \"#bd3786\"], [0.5555555555555556, \"#d8576b\"], [0.6666666666666666, \"#ed7953\"], [0.7777777777777778, \"#fb9f3a\"], [0.8888888888888888, \"#fdca26\"], [1.0, \"#f0f921\"]], \"type\": \"heatmapgl\"}], \"histogram\": [{\"marker\": {\"colorbar\": {\"outlinewidth\": 0, \"ticks\": \"\"}}, \"type\": \"histogram\"}], \"histogram2d\": [{\"colorbar\": {\"outlinewidth\": 0, \"ticks\": \"\"}, \"colorscale\": [[0.0, \"#0d0887\"], [0.1111111111111111, \"#46039f\"], [0.2222222222222222, \"#7201a8\"], [0.3333333333333333, \"#9c179e\"], [0.4444444444444444, \"#bd3786\"], [0.5555555555555556, \"#d8576b\"], [0.6666666666666666, \"#ed7953\"], [0.7777777777777778, \"#fb9f3a\"], [0.8888888888888888, \"#fdca26\"], [1.0, \"#f0f921\"]], \"type\": \"histogram2d\"}], \"histogram2dcontour\": [{\"colorbar\": {\"outlinewidth\": 0, \"ticks\": \"\"}, \"colorscale\": [[0.0, \"#0d0887\"], [0.1111111111111111, \"#46039f\"], [0.2222222222222222, \"#7201a8\"], [0.3333333333333333, \"#9c179e\"], [0.4444444444444444, \"#bd3786\"], [0.5555555555555556, \"#d8576b\"], [0.6666666666666666, \"#ed7953\"], [0.7777777777777778, \"#fb9f3a\"], [0.8888888888888888, \"#fdca26\"], [1.0, \"#f0f921\"]], \"type\": \"histogram2dcontour\"}], \"mesh3d\": [{\"colorbar\": {\"outlinewidth\": 0, \"ticks\": \"\"}, \"type\": \"mesh3d\"}], \"parcoords\": [{\"line\": {\"colorbar\": {\"outlinewidth\": 0, \"ticks\": \"\"}}, \"type\": \"parcoords\"}], \"scatter\": [{\"marker\": {\"colorbar\": {\"outlinewidth\": 0, \"ticks\": \"\"}}, \"type\": \"scatter\"}], \"scatter3d\": [{\"line\": {\"colorbar\": {\"outlinewidth\": 0, \"ticks\": \"\"}}, \"marker\": {\"colorbar\": {\"outlinewidth\": 0, \"ticks\": \"\"}}, \"type\": \"scatter3d\"}], \"scattercarpet\": [{\"marker\": {\"colorbar\": {\"outlinewidth\": 0, \"ticks\": \"\"}}, \"type\": \"scattercarpet\"}], \"scattergeo\": [{\"marker\": {\"colorbar\": {\"outlinewidth\": 0, \"ticks\": \"\"}}, \"type\": \"scattergeo\"}], \"scattergl\": [{\"marker\": {\"colorbar\": {\"outlinewidth\": 0, \"ticks\": \"\"}}, \"type\": \"scattergl\"}], \"scattermapbox\": [{\"marker\": {\"colorbar\": {\"outlinewidth\": 0, \"ticks\": \"\"}}, \"type\": \"scattermapbox\"}], \"scatterpolar\": [{\"marker\": {\"colorbar\": {\"outlinewidth\": 0, \"ticks\": \"\"}}, \"type\": \"scatterpolar\"}], \"scatterpolargl\": [{\"marker\": {\"colorbar\": {\"outlinewidth\": 0, \"ticks\": \"\"}}, \"type\": \"scatterpolargl\"}], \"scatterternary\": [{\"marker\": {\"colorbar\": {\"outlinewidth\": 0, \"ticks\": \"\"}}, \"type\": \"scatterternary\"}], \"surface\": [{\"colorbar\": {\"outlinewidth\": 0, \"ticks\": \"\"}, \"colorscale\": [[0.0, \"#0d0887\"], [0.1111111111111111, \"#46039f\"], [0.2222222222222222, \"#7201a8\"], [0.3333333333333333, \"#9c179e\"], [0.4444444444444444, \"#bd3786\"], [0.5555555555555556, \"#d8576b\"], [0.6666666666666666, \"#ed7953\"], [0.7777777777777778, \"#fb9f3a\"], [0.8888888888888888, \"#fdca26\"], [1.0, \"#f0f921\"]], \"type\": \"surface\"}], \"table\": [{\"cells\": {\"fill\": {\"color\": \"#EBF0F8\"}, \"line\": {\"color\": \"white\"}}, \"header\": {\"fill\": {\"color\": \"#C8D4E3\"}, \"line\": {\"color\": \"white\"}}, \"type\": \"table\"}]}, \"layout\": {\"annotationdefaults\": {\"arrowcolor\": \"#2a3f5f\", \"arrowhead\": 0, \"arrowwidth\": 1}, \"colorscale\": {\"diverging\": [[0, \"#8e0152\"], [0.1, \"#c51b7d\"], [0.2, \"#de77ae\"], [0.3, \"#f1b6da\"], [0.4, \"#fde0ef\"], [0.5, \"#f7f7f7\"], [0.6, \"#e6f5d0\"], [0.7, \"#b8e186\"], [0.8, \"#7fbc41\"], [0.9, \"#4d9221\"], [1, \"#276419\"]], \"sequential\": [[0.0, \"#0d0887\"], [0.1111111111111111, \"#46039f\"], [0.2222222222222222, \"#7201a8\"], [0.3333333333333333, \"#9c179e\"], [0.4444444444444444, \"#bd3786\"], [0.5555555555555556, \"#d8576b\"], [0.6666666666666666, \"#ed7953\"], [0.7777777777777778, \"#fb9f3a\"], [0.8888888888888888, \"#fdca26\"], [1.0, \"#f0f921\"]], \"sequentialminus\": [[0.0, \"#0d0887\"], [0.1111111111111111, \"#46039f\"], [0.2222222222222222, \"#7201a8\"], [0.3333333333333333, \"#9c179e\"], [0.4444444444444444, \"#bd3786\"], [0.5555555555555556, \"#d8576b\"], [0.6666666666666666, \"#ed7953\"], [0.7777777777777778, \"#fb9f3a\"], [0.8888888888888888, \"#fdca26\"], [1.0, \"#f0f921\"]]}, \"colorway\": [\"#636efa\", \"#EF553B\", \"#00cc96\", \"#ab63fa\", \"#FFA15A\", \"#19d3f3\", \"#FF6692\", \"#B6E880\", \"#FF97FF\", \"#FECB52\"], \"font\": {\"color\": \"#2a3f5f\"}, \"geo\": {\"bgcolor\": \"white\", \"lakecolor\": \"white\", \"landcolor\": \"#E5ECF6\", \"showlakes\": true, \"showland\": true, \"subunitcolor\": \"white\"}, \"hoverlabel\": {\"align\": \"left\"}, \"hovermode\": \"closest\", \"mapbox\": {\"style\": \"light\"}, \"paper_bgcolor\": \"white\", \"plot_bgcolor\": \"#E5ECF6\", \"polar\": {\"angularaxis\": {\"gridcolor\": \"white\", \"linecolor\": \"white\", \"ticks\": \"\"}, \"bgcolor\": \"#E5ECF6\", \"radialaxis\": {\"gridcolor\": \"white\", \"linecolor\": \"white\", \"ticks\": \"\"}}, \"scene\": {\"xaxis\": {\"backgroundcolor\": \"#E5ECF6\", \"gridcolor\": \"white\", \"gridwidth\": 2, \"linecolor\": \"white\", \"showbackground\": true, \"ticks\": \"\", \"zerolinecolor\": \"white\"}, \"yaxis\": {\"backgroundcolor\": \"#E5ECF6\", \"gridcolor\": \"white\", \"gridwidth\": 2, \"linecolor\": \"white\", \"showbackground\": true, \"ticks\": \"\", \"zerolinecolor\": \"white\"}, \"zaxis\": {\"backgroundcolor\": \"#E5ECF6\", \"gridcolor\": \"white\", \"gridwidth\": 2, \"linecolor\": \"white\", \"showbackground\": true, \"ticks\": \"\", \"zerolinecolor\": \"white\"}}, \"shapedefaults\": {\"line\": {\"color\": \"#2a3f5f\"}}, \"ternary\": {\"aaxis\": {\"gridcolor\": \"white\", \"linecolor\": \"white\", \"ticks\": \"\"}, \"baxis\": {\"gridcolor\": \"white\", \"linecolor\": \"white\", \"ticks\": \"\"}, \"bgcolor\": \"#E5ECF6\", \"caxis\": {\"gridcolor\": \"white\", \"linecolor\": \"white\", \"ticks\": \"\"}}, \"title\": {\"x\": 0.05}, \"xaxis\": {\"automargin\": true, \"gridcolor\": \"white\", \"linecolor\": \"white\", \"ticks\": \"\", \"zerolinecolor\": \"white\", \"zerolinewidth\": 2}, \"yaxis\": {\"automargin\": true, \"gridcolor\": \"white\", \"linecolor\": \"white\", \"ticks\": \"\", \"zerolinecolor\": \"white\", \"zerolinewidth\": 2}}}, \"title\": {\"text\": \"tuwen:ori/auc\"}, \"xaxis\": {\"type\": \"date\"}},\n",
       "                        {\"responsive\": true}\n",
       "                    ).then(function(){\n",
       "                            \n",
       "var gd = document.getElementById('d8d9cd5f-fb75-4014-982d-b062d5dca20a');\n",
       "var x = new MutationObserver(function (mutations, observer) {{\n",
       "        var display = window.getComputedStyle(gd).display;\n",
       "        if (!display || display === 'none') {{\n",
       "            console.log([gd, 'removed!']);\n",
       "            Plotly.purge(gd);\n",
       "            observer.disconnect();\n",
       "        }}\n",
       "}});\n",
       "\n",
       "// Listen for the removal of the full notebook cells\n",
       "var notebookContainer = gd.closest('#notebook-container');\n",
       "if (notebookContainer) {{\n",
       "    x.observe(notebookContainer, {childList: true});\n",
       "}}\n",
       "\n",
       "// Listen for the clearing of the current output cell\n",
       "var outputEl = gd.closest('.output');\n",
       "if (outputEl) {{\n",
       "    x.observe(outputEl, {childList: true});\n",
       "}}\n",
       "\n",
       "                        })\n",
       "                };\n",
       "                });\n",
       "            </script>\n",
       "        </div>"
      ]
     },
     "metadata": {},
     "output_type": "display_data"
    }
   ],
   "source": [
    "compare(df, 'ori/auc')"
   ]
  },
  {
   "cell_type": "code",
   "execution_count": 23,
   "metadata": {},
   "outputs": [
    {
     "data": {
      "application/vnd.plotly.v1+json": {
       "config": {
        "linkText": "Export to plot.ly",
        "plotlyServerURL": "https://plot.ly",
        "showLink": false
       },
       "data": [
        {
         "line": {
          "shape": "spline",
          "smoothing": 1
         },
         "mode": "lines+markers",
         "name": "456:cold/auc",
         "type": "scatter",
         "x": [
          "2019-12-11T00:00:00",
          "2019-12-11T01:00:00",
          "2019-12-11T02:00:00",
          "2019-12-11T03:00:00",
          "2019-12-11T04:00:00",
          "2019-12-11T05:00:00",
          "2019-12-11T06:00:00",
          "2019-12-11T07:00:00",
          "2019-12-11T08:00:00",
          "2019-12-11T09:00:00",
          "2019-12-11T10:00:00",
          "2019-12-11T11:00:00",
          "2019-12-11T12:00:00",
          "2019-12-11T13:00:00",
          "2019-12-11T15:00:00",
          "2019-12-11T16:00:00",
          "2019-12-11T19:00:00",
          "2019-12-11T20:00:00",
          "2019-12-11T21:00:00",
          "2019-12-11T22:00:00",
          "2019-12-11T23:00:00",
          "2019-12-12T00:00:00",
          "2019-12-12T01:00:00",
          "2019-12-12T02:00:00",
          "2019-12-12T03:00:00",
          "2019-12-12T04:00:00",
          "2019-12-12T05:00:00",
          "2019-12-12T06:00:00",
          "2019-12-12T07:00:00",
          "2019-12-12T08:00:00",
          "2019-12-12T09:00:00",
          "2019-12-12T10:00:00",
          "2019-12-12T11:00:00",
          "2019-12-12T12:00:00",
          "2019-12-12T13:00:00",
          "2019-12-12T14:00:00",
          "2019-12-12T15:00:00",
          "2019-12-12T16:00:00",
          "2019-12-12T17:00:00",
          "2019-12-12T18:00:00",
          "2019-12-12T19:00:00",
          "2019-12-12T20:00:00",
          "2019-12-12T21:00:00",
          "2019-12-12T22:00:00",
          "2019-12-12T23:00:00",
          "2019-12-13T00:00:00",
          "2019-12-13T01:00:00",
          "2019-12-13T02:00:00",
          "2019-12-13T03:00:00",
          "2019-12-13T04:00:00",
          "2019-12-13T05:00:00",
          "2019-12-13T06:00:00",
          "2019-12-13T07:00:00",
          "2019-12-13T08:00:00",
          "2019-12-13T09:00:00",
          "2019-12-13T10:00:00",
          "2019-12-13T11:00:00",
          "2019-12-13T12:00:00",
          "2019-12-13T13:00:00",
          "2019-12-13T14:00:00",
          "2019-12-13T15:00:00",
          "2019-12-13T16:00:00",
          "2019-12-13T17:00:00",
          "2019-12-13T18:00:00",
          "2019-12-13T19:00:00",
          "2019-12-13T20:00:00",
          "2019-12-13T21:00:00",
          "2019-12-13T22:00:00",
          "2019-12-13T23:00:00",
          "2019-12-14T00:00:00",
          "2019-12-14T01:00:00",
          "2019-12-14T02:00:00",
          "2019-12-14T03:00:00",
          "2019-12-14T04:00:00",
          "2019-12-14T05:00:00",
          "2019-12-14T06:00:00",
          "2019-12-14T07:00:00",
          "2019-12-14T08:00:00",
          "2019-12-14T09:00:00",
          "2019-12-14T10:00:00",
          "2019-12-14T11:00:00",
          "2019-12-14T12:00:00",
          "2019-12-14T13:00:00",
          "2019-12-14T14:00:00",
          "2019-12-14T15:00:00",
          "2019-12-14T16:00:00",
          "2019-12-14T17:00:00",
          "2019-12-14T18:00:00",
          "2019-12-14T19:00:00",
          "2019-12-14T20:00:00",
          "2019-12-14T21:00:00",
          "2019-12-14T22:00:00",
          "2019-12-14T23:00:00",
          "2019-12-15T00:00:00",
          "2019-12-15T01:00:00",
          "2019-12-15T02:00:00",
          "2019-12-15T03:00:00",
          "2019-12-15T04:00:00",
          "2019-12-15T05:00:00",
          "2019-12-15T06:00:00",
          "2019-12-15T07:00:00",
          "2019-12-15T08:00:00",
          "2019-12-15T09:00:00",
          "2019-12-15T10:00:00",
          "2019-12-15T11:00:00",
          "2019-12-15T12:00:00",
          "2019-12-15T13:00:00",
          "2019-12-15T14:00:00",
          "2019-12-15T15:00:00",
          "2019-12-15T16:00:00",
          "2019-12-15T17:00:00",
          "2019-12-15T18:00:00",
          "2019-12-15T19:00:00",
          "2019-12-15T20:00:00",
          "2019-12-15T21:00:00",
          "2019-12-15T22:00:00",
          "2019-12-16T00:00:00"
         ],
         "y": [
          0.6751265755381332,
          0.6769039686578769,
          0.7109406689597856,
          0.7427671315031532,
          0.7552332901016955,
          0.7339070912649547,
          0.7077852609710831,
          0.7151107150318119,
          0.7025331709891289,
          0.7117076046154412,
          0.702212397292993,
          0.7117786527999275,
          0.6898799721863693,
          0.6627730772411482,
          0.6660493969665797,
          0.6704005222560065,
          0.7384422047270796,
          0.710437787272,
          0.7171075792185957,
          0.6879004268434783,
          0.697013282516272,
          0.6873045109339471,
          0.6644608577467346,
          0.6884902679254563,
          0.7212735039655349,
          0.7267312400631258,
          0.7199234687785232,
          0.7046221985401941,
          0.6877888770190683,
          0.6685785994106062,
          0.6880161518985934,
          0.6826426787770917,
          0.6737199693041398,
          0.6699849451994051,
          0.6291480185767663,
          0.6470285677960075,
          0.6432066106538994,
          0.62138669423213,
          0.6236998806432712,
          0.6615613491061518,
          0.6783517524210332,
          0.6771704572266477,
          0.6691033545055207,
          0.6685344600774504,
          0.6943511535384763,
          0.6830984982023183,
          0.7030415976745125,
          0.741561363025685,
          0.7577046154818404,
          0.7585691982649108,
          0.7569150472458006,
          0.7372541223996849,
          0.734717277716127,
          0.71657456241817,
          0.7348455112583498,
          0.70724577360331,
          0.7197553861464692,
          0.6886891349996365,
          0.6803428614790479,
          0.7030639624718126,
          0.6794665038017451,
          0.6728447248932431,
          0.6619030958344031,
          0.6919843101286849,
          0.6747346395333758,
          0.6627612697057087,
          0.6580375480106597,
          0.6320516916495468,
          0.6398466971025581,
          0.6499241849213995,
          0.6815431922174845,
          0.7196429215396161,
          0.7152988019147355,
          0.7543311676720144,
          0.7885086567970923,
          0.7956730985156739,
          0.7554063531705264,
          0.7386403630498265,
          0.7165000347678616,
          0.7099852657890258,
          0.7240900308868481,
          0.7261993344163131,
          0.6979439403006134,
          0.6818520668095476,
          0.6932110132746472,
          0.6902890159618486,
          0.6931366386450668,
          0.7283147785165378,
          0.8006006983038343,
          0.8038946430676001,
          0.7647166966118506,
          0.7477601876696536,
          0.7575775422655752,
          0.739038341241963,
          0.7544907649507259,
          0.7781859470568423,
          0.811570951322836,
          0.8578506211016639,
          0.8464558972656283,
          0.8214935619291271,
          0.8033487119381616,
          0.7737647186342489,
          0.7597823118086298,
          0.7358721023804159,
          0.7272416615401682,
          0.7464673514375368,
          0.7440283588973671,
          0.7524473746889717,
          0.7680402347127013,
          0.7418465831186472,
          0.7155635596906795,
          0.7542717145574928,
          0.7259621691836489,
          0.7359913256789384,
          0.7589988570528216,
          0.772224408733444,
          0.7554502034982307
         ]
        },
        {
         "line": {
          "shape": "spline",
          "smoothing": 1
         },
         "mode": "lines+markers",
         "name": "15:cold/auc",
         "type": "scatter",
         "x": [
          "2019-12-11T00:00:00",
          "2019-12-11T01:00:00",
          "2019-12-11T02:00:00",
          "2019-12-11T03:00:00",
          "2019-12-11T04:00:00",
          "2019-12-11T05:00:00",
          "2019-12-11T06:00:00",
          "2019-12-11T07:00:00",
          "2019-12-11T08:00:00",
          "2019-12-11T09:00:00",
          "2019-12-11T10:00:00",
          "2019-12-11T11:00:00",
          "2019-12-11T12:00:00",
          "2019-12-11T13:00:00",
          "2019-12-11T15:00:00",
          "2019-12-11T16:00:00",
          "2019-12-11T19:00:00",
          "2019-12-11T20:00:00",
          "2019-12-11T21:00:00",
          "2019-12-11T22:00:00",
          "2019-12-11T23:00:00",
          "2019-12-12T00:00:00",
          "2019-12-12T01:00:00",
          "2019-12-12T02:00:00",
          "2019-12-12T03:00:00",
          "2019-12-12T04:00:00",
          "2019-12-12T05:00:00",
          "2019-12-12T06:00:00",
          "2019-12-12T07:00:00",
          "2019-12-12T08:00:00",
          "2019-12-12T09:00:00",
          "2019-12-12T10:00:00",
          "2019-12-12T11:00:00",
          "2019-12-12T12:00:00",
          "2019-12-12T13:00:00",
          "2019-12-12T14:00:00",
          "2019-12-12T15:00:00",
          "2019-12-12T16:00:00",
          "2019-12-12T17:00:00",
          "2019-12-12T18:00:00",
          "2019-12-12T19:00:00",
          "2019-12-12T20:00:00",
          "2019-12-12T21:00:00",
          "2019-12-12T22:00:00",
          "2019-12-12T23:00:00",
          "2019-12-13T00:00:00",
          "2019-12-13T01:00:00",
          "2019-12-13T02:00:00",
          "2019-12-13T03:00:00",
          "2019-12-13T04:00:00",
          "2019-12-13T05:00:00",
          "2019-12-13T06:00:00",
          "2019-12-13T07:00:00",
          "2019-12-13T08:00:00",
          "2019-12-13T09:00:00",
          "2019-12-13T10:00:00",
          "2019-12-13T11:00:00",
          "2019-12-13T12:00:00",
          "2019-12-13T13:00:00",
          "2019-12-13T14:00:00",
          "2019-12-13T15:00:00",
          "2019-12-13T16:00:00",
          "2019-12-13T17:00:00",
          "2019-12-13T18:00:00",
          "2019-12-13T19:00:00",
          "2019-12-13T20:00:00",
          "2019-12-13T21:00:00",
          "2019-12-13T22:00:00",
          "2019-12-13T23:00:00",
          "2019-12-14T00:00:00",
          "2019-12-14T01:00:00",
          "2019-12-14T02:00:00",
          "2019-12-14T03:00:00",
          "2019-12-14T04:00:00",
          "2019-12-14T05:00:00",
          "2019-12-14T06:00:00",
          "2019-12-14T07:00:00",
          "2019-12-14T08:00:00",
          "2019-12-14T09:00:00",
          "2019-12-14T10:00:00",
          "2019-12-14T11:00:00",
          "2019-12-14T12:00:00",
          "2019-12-14T13:00:00",
          "2019-12-14T14:00:00",
          "2019-12-14T15:00:00",
          "2019-12-14T16:00:00",
          "2019-12-14T17:00:00",
          "2019-12-14T18:00:00",
          "2019-12-14T19:00:00",
          "2019-12-14T20:00:00",
          "2019-12-14T21:00:00",
          "2019-12-14T22:00:00",
          "2019-12-14T23:00:00",
          "2019-12-15T00:00:00",
          "2019-12-15T01:00:00",
          "2019-12-15T02:00:00",
          "2019-12-15T03:00:00",
          "2019-12-15T04:00:00",
          "2019-12-15T05:00:00",
          "2019-12-15T06:00:00",
          "2019-12-15T07:00:00",
          "2019-12-15T08:00:00",
          "2019-12-15T09:00:00",
          "2019-12-15T10:00:00",
          "2019-12-15T11:00:00",
          "2019-12-15T12:00:00",
          "2019-12-15T13:00:00",
          "2019-12-15T14:00:00",
          "2019-12-15T15:00:00",
          "2019-12-15T16:00:00",
          "2019-12-15T17:00:00",
          "2019-12-15T18:00:00",
          "2019-12-15T19:00:00",
          "2019-12-15T20:00:00",
          "2019-12-15T21:00:00",
          "2019-12-15T22:00:00",
          "2019-12-16T00:00:00"
         ],
         "y": [
          0.7791207817523608,
          0.8178258018784335,
          0.8513323778183939,
          0.8701832252592733,
          0.8831356706814322,
          0.8744476277705475,
          0.8473557279204181,
          0.7909724957982376,
          0.7648797179758592,
          0.7420412001724458,
          0.7453361870604482,
          0.7447657684667348,
          0.6804637267794059,
          0.6495872746633768,
          0.6872781782766143,
          0.6844660802404546,
          0.7071830445981251,
          0.6893308190863677,
          0.6974661454281712,
          0.6800972119354911,
          0.6903744093889802,
          0.7011740156290147,
          0.7226493686027521,
          0.7761482811575415,
          0.7908698762439611,
          0.8229481781189413,
          0.8231087248612481,
          0.7834369911832555,
          0.7677065523833262,
          0.7263473087112796,
          0.6767979878951474,
          0.665772242762325,
          0.6740936701858614,
          0.6805283841805457,
          0.6583852881051686,
          0.6460368292301732,
          0.6856950275551466,
          0.6511970133027395,
          0.6528401840708593,
          0.6781621265872917,
          0.686765125611732,
          0.6824648913895264,
          0.65929951888961,
          0.6480307751216903,
          0.6920891822339977,
          0.6766423009539837,
          0.6379147211853127,
          0.6946484362501065,
          0.7037911664417815,
          0.7331855693161158,
          0.728329504775681,
          0.6862821824277762,
          0.6971655544861203,
          0.6837159485704045,
          0.6959453033789207,
          0.7021677091359091,
          0.7225396829060784,
          0.6744786130128868,
          0.6680523447636537,
          0.6680006152245972,
          0.6229723913811006,
          0.6277562801626658,
          0.6498649078782084,
          0.6862525863201298,
          0.7002157917483837,
          0.6529362558971665,
          0.6385278070290958,
          0.6471524958821637,
          0.6454854512586841,
          0.6520615049170622,
          0.6522171514939857,
          0.6696794501598642,
          0.6650932289696778,
          0.699987371247988,
          0.7151077957214174,
          0.7480061250807221,
          0.7231887571294182,
          0.6881412725639076,
          0.6818576030714287,
          0.7023248378115436,
          0.7040921078672631,
          0.6925107202154631,
          0.6608096881328379,
          0.644977564947573,
          0.656187906991192,
          0.6164862368617304,
          0.6255172414810144,
          0.6689716983938578,
          0.7008832060598911,
          0.7108299325940957,
          0.6962048469246465,
          0.6719049598706737,
          0.6735076322075733,
          0.6660004381939539,
          0.6751602830942932,
          0.6988614381366685,
          0.7028468971466297,
          0.7085260259276587,
          0.6855878823815104,
          0.7173760250952494,
          0.6930281207939528,
          0.6858327333560597,
          0.6925096726064792,
          0.6710691033908962,
          0.6672778317922451,
          0.6863881505222161,
          0.689457775839849,
          0.66933330114397,
          0.6900467390489222,
          0.7030148438433129,
          0.7061840531107563,
          0.7224144496466693,
          0.6962845556879986,
          0.6810312498835953,
          0.6791854365457158,
          0.7026202817383596,
          0.6978122452489501
         ]
        }
       ],
       "layout": {
        "hovermode": "x",
        "template": {
         "data": {
          "bar": [
           {
            "error_x": {
             "color": "#2a3f5f"
            },
            "error_y": {
             "color": "#2a3f5f"
            },
            "marker": {
             "line": {
              "color": "#E5ECF6",
              "width": 0.5
             }
            },
            "type": "bar"
           }
          ],
          "barpolar": [
           {
            "marker": {
             "line": {
              "color": "#E5ECF6",
              "width": 0.5
             }
            },
            "type": "barpolar"
           }
          ],
          "carpet": [
           {
            "aaxis": {
             "endlinecolor": "#2a3f5f",
             "gridcolor": "white",
             "linecolor": "white",
             "minorgridcolor": "white",
             "startlinecolor": "#2a3f5f"
            },
            "baxis": {
             "endlinecolor": "#2a3f5f",
             "gridcolor": "white",
             "linecolor": "white",
             "minorgridcolor": "white",
             "startlinecolor": "#2a3f5f"
            },
            "type": "carpet"
           }
          ],
          "choropleth": [
           {
            "colorbar": {
             "outlinewidth": 0,
             "ticks": ""
            },
            "type": "choropleth"
           }
          ],
          "contour": [
           {
            "colorbar": {
             "outlinewidth": 0,
             "ticks": ""
            },
            "colorscale": [
             [
              0,
              "#0d0887"
             ],
             [
              0.1111111111111111,
              "#46039f"
             ],
             [
              0.2222222222222222,
              "#7201a8"
             ],
             [
              0.3333333333333333,
              "#9c179e"
             ],
             [
              0.4444444444444444,
              "#bd3786"
             ],
             [
              0.5555555555555556,
              "#d8576b"
             ],
             [
              0.6666666666666666,
              "#ed7953"
             ],
             [
              0.7777777777777778,
              "#fb9f3a"
             ],
             [
              0.8888888888888888,
              "#fdca26"
             ],
             [
              1,
              "#f0f921"
             ]
            ],
            "type": "contour"
           }
          ],
          "contourcarpet": [
           {
            "colorbar": {
             "outlinewidth": 0,
             "ticks": ""
            },
            "type": "contourcarpet"
           }
          ],
          "heatmap": [
           {
            "colorbar": {
             "outlinewidth": 0,
             "ticks": ""
            },
            "colorscale": [
             [
              0,
              "#0d0887"
             ],
             [
              0.1111111111111111,
              "#46039f"
             ],
             [
              0.2222222222222222,
              "#7201a8"
             ],
             [
              0.3333333333333333,
              "#9c179e"
             ],
             [
              0.4444444444444444,
              "#bd3786"
             ],
             [
              0.5555555555555556,
              "#d8576b"
             ],
             [
              0.6666666666666666,
              "#ed7953"
             ],
             [
              0.7777777777777778,
              "#fb9f3a"
             ],
             [
              0.8888888888888888,
              "#fdca26"
             ],
             [
              1,
              "#f0f921"
             ]
            ],
            "type": "heatmap"
           }
          ],
          "heatmapgl": [
           {
            "colorbar": {
             "outlinewidth": 0,
             "ticks": ""
            },
            "colorscale": [
             [
              0,
              "#0d0887"
             ],
             [
              0.1111111111111111,
              "#46039f"
             ],
             [
              0.2222222222222222,
              "#7201a8"
             ],
             [
              0.3333333333333333,
              "#9c179e"
             ],
             [
              0.4444444444444444,
              "#bd3786"
             ],
             [
              0.5555555555555556,
              "#d8576b"
             ],
             [
              0.6666666666666666,
              "#ed7953"
             ],
             [
              0.7777777777777778,
              "#fb9f3a"
             ],
             [
              0.8888888888888888,
              "#fdca26"
             ],
             [
              1,
              "#f0f921"
             ]
            ],
            "type": "heatmapgl"
           }
          ],
          "histogram": [
           {
            "marker": {
             "colorbar": {
              "outlinewidth": 0,
              "ticks": ""
             }
            },
            "type": "histogram"
           }
          ],
          "histogram2d": [
           {
            "colorbar": {
             "outlinewidth": 0,
             "ticks": ""
            },
            "colorscale": [
             [
              0,
              "#0d0887"
             ],
             [
              0.1111111111111111,
              "#46039f"
             ],
             [
              0.2222222222222222,
              "#7201a8"
             ],
             [
              0.3333333333333333,
              "#9c179e"
             ],
             [
              0.4444444444444444,
              "#bd3786"
             ],
             [
              0.5555555555555556,
              "#d8576b"
             ],
             [
              0.6666666666666666,
              "#ed7953"
             ],
             [
              0.7777777777777778,
              "#fb9f3a"
             ],
             [
              0.8888888888888888,
              "#fdca26"
             ],
             [
              1,
              "#f0f921"
             ]
            ],
            "type": "histogram2d"
           }
          ],
          "histogram2dcontour": [
           {
            "colorbar": {
             "outlinewidth": 0,
             "ticks": ""
            },
            "colorscale": [
             [
              0,
              "#0d0887"
             ],
             [
              0.1111111111111111,
              "#46039f"
             ],
             [
              0.2222222222222222,
              "#7201a8"
             ],
             [
              0.3333333333333333,
              "#9c179e"
             ],
             [
              0.4444444444444444,
              "#bd3786"
             ],
             [
              0.5555555555555556,
              "#d8576b"
             ],
             [
              0.6666666666666666,
              "#ed7953"
             ],
             [
              0.7777777777777778,
              "#fb9f3a"
             ],
             [
              0.8888888888888888,
              "#fdca26"
             ],
             [
              1,
              "#f0f921"
             ]
            ],
            "type": "histogram2dcontour"
           }
          ],
          "mesh3d": [
           {
            "colorbar": {
             "outlinewidth": 0,
             "ticks": ""
            },
            "type": "mesh3d"
           }
          ],
          "parcoords": [
           {
            "line": {
             "colorbar": {
              "outlinewidth": 0,
              "ticks": ""
             }
            },
            "type": "parcoords"
           }
          ],
          "scatter": [
           {
            "marker": {
             "colorbar": {
              "outlinewidth": 0,
              "ticks": ""
             }
            },
            "type": "scatter"
           }
          ],
          "scatter3d": [
           {
            "line": {
             "colorbar": {
              "outlinewidth": 0,
              "ticks": ""
             }
            },
            "marker": {
             "colorbar": {
              "outlinewidth": 0,
              "ticks": ""
             }
            },
            "type": "scatter3d"
           }
          ],
          "scattercarpet": [
           {
            "marker": {
             "colorbar": {
              "outlinewidth": 0,
              "ticks": ""
             }
            },
            "type": "scattercarpet"
           }
          ],
          "scattergeo": [
           {
            "marker": {
             "colorbar": {
              "outlinewidth": 0,
              "ticks": ""
             }
            },
            "type": "scattergeo"
           }
          ],
          "scattergl": [
           {
            "marker": {
             "colorbar": {
              "outlinewidth": 0,
              "ticks": ""
             }
            },
            "type": "scattergl"
           }
          ],
          "scattermapbox": [
           {
            "marker": {
             "colorbar": {
              "outlinewidth": 0,
              "ticks": ""
             }
            },
            "type": "scattermapbox"
           }
          ],
          "scatterpolar": [
           {
            "marker": {
             "colorbar": {
              "outlinewidth": 0,
              "ticks": ""
             }
            },
            "type": "scatterpolar"
           }
          ],
          "scatterpolargl": [
           {
            "marker": {
             "colorbar": {
              "outlinewidth": 0,
              "ticks": ""
             }
            },
            "type": "scatterpolargl"
           }
          ],
          "scatterternary": [
           {
            "marker": {
             "colorbar": {
              "outlinewidth": 0,
              "ticks": ""
             }
            },
            "type": "scatterternary"
           }
          ],
          "surface": [
           {
            "colorbar": {
             "outlinewidth": 0,
             "ticks": ""
            },
            "colorscale": [
             [
              0,
              "#0d0887"
             ],
             [
              0.1111111111111111,
              "#46039f"
             ],
             [
              0.2222222222222222,
              "#7201a8"
             ],
             [
              0.3333333333333333,
              "#9c179e"
             ],
             [
              0.4444444444444444,
              "#bd3786"
             ],
             [
              0.5555555555555556,
              "#d8576b"
             ],
             [
              0.6666666666666666,
              "#ed7953"
             ],
             [
              0.7777777777777778,
              "#fb9f3a"
             ],
             [
              0.8888888888888888,
              "#fdca26"
             ],
             [
              1,
              "#f0f921"
             ]
            ],
            "type": "surface"
           }
          ],
          "table": [
           {
            "cells": {
             "fill": {
              "color": "#EBF0F8"
             },
             "line": {
              "color": "white"
             }
            },
            "header": {
             "fill": {
              "color": "#C8D4E3"
             },
             "line": {
              "color": "white"
             }
            },
            "type": "table"
           }
          ]
         },
         "layout": {
          "annotationdefaults": {
           "arrowcolor": "#2a3f5f",
           "arrowhead": 0,
           "arrowwidth": 1
          },
          "colorscale": {
           "diverging": [
            [
             0,
             "#8e0152"
            ],
            [
             0.1,
             "#c51b7d"
            ],
            [
             0.2,
             "#de77ae"
            ],
            [
             0.3,
             "#f1b6da"
            ],
            [
             0.4,
             "#fde0ef"
            ],
            [
             0.5,
             "#f7f7f7"
            ],
            [
             0.6,
             "#e6f5d0"
            ],
            [
             0.7,
             "#b8e186"
            ],
            [
             0.8,
             "#7fbc41"
            ],
            [
             0.9,
             "#4d9221"
            ],
            [
             1,
             "#276419"
            ]
           ],
           "sequential": [
            [
             0,
             "#0d0887"
            ],
            [
             0.1111111111111111,
             "#46039f"
            ],
            [
             0.2222222222222222,
             "#7201a8"
            ],
            [
             0.3333333333333333,
             "#9c179e"
            ],
            [
             0.4444444444444444,
             "#bd3786"
            ],
            [
             0.5555555555555556,
             "#d8576b"
            ],
            [
             0.6666666666666666,
             "#ed7953"
            ],
            [
             0.7777777777777778,
             "#fb9f3a"
            ],
            [
             0.8888888888888888,
             "#fdca26"
            ],
            [
             1,
             "#f0f921"
            ]
           ],
           "sequentialminus": [
            [
             0,
             "#0d0887"
            ],
            [
             0.1111111111111111,
             "#46039f"
            ],
            [
             0.2222222222222222,
             "#7201a8"
            ],
            [
             0.3333333333333333,
             "#9c179e"
            ],
            [
             0.4444444444444444,
             "#bd3786"
            ],
            [
             0.5555555555555556,
             "#d8576b"
            ],
            [
             0.6666666666666666,
             "#ed7953"
            ],
            [
             0.7777777777777778,
             "#fb9f3a"
            ],
            [
             0.8888888888888888,
             "#fdca26"
            ],
            [
             1,
             "#f0f921"
            ]
           ]
          },
          "colorway": [
           "#636efa",
           "#EF553B",
           "#00cc96",
           "#ab63fa",
           "#FFA15A",
           "#19d3f3",
           "#FF6692",
           "#B6E880",
           "#FF97FF",
           "#FECB52"
          ],
          "font": {
           "color": "#2a3f5f"
          },
          "geo": {
           "bgcolor": "white",
           "lakecolor": "white",
           "landcolor": "#E5ECF6",
           "showlakes": true,
           "showland": true,
           "subunitcolor": "white"
          },
          "hoverlabel": {
           "align": "left"
          },
          "hovermode": "closest",
          "mapbox": {
           "style": "light"
          },
          "paper_bgcolor": "white",
          "plot_bgcolor": "#E5ECF6",
          "polar": {
           "angularaxis": {
            "gridcolor": "white",
            "linecolor": "white",
            "ticks": ""
           },
           "bgcolor": "#E5ECF6",
           "radialaxis": {
            "gridcolor": "white",
            "linecolor": "white",
            "ticks": ""
           }
          },
          "scene": {
           "xaxis": {
            "backgroundcolor": "#E5ECF6",
            "gridcolor": "white",
            "gridwidth": 2,
            "linecolor": "white",
            "showbackground": true,
            "ticks": "",
            "zerolinecolor": "white"
           },
           "yaxis": {
            "backgroundcolor": "#E5ECF6",
            "gridcolor": "white",
            "gridwidth": 2,
            "linecolor": "white",
            "showbackground": true,
            "ticks": "",
            "zerolinecolor": "white"
           },
           "zaxis": {
            "backgroundcolor": "#E5ECF6",
            "gridcolor": "white",
            "gridwidth": 2,
            "linecolor": "white",
            "showbackground": true,
            "ticks": "",
            "zerolinecolor": "white"
           }
          },
          "shapedefaults": {
           "line": {
            "color": "#2a3f5f"
           }
          },
          "ternary": {
           "aaxis": {
            "gridcolor": "white",
            "linecolor": "white",
            "ticks": ""
           },
           "baxis": {
            "gridcolor": "white",
            "linecolor": "white",
            "ticks": ""
           },
           "bgcolor": "#E5ECF6",
           "caxis": {
            "gridcolor": "white",
            "linecolor": "white",
            "ticks": ""
           }
          },
          "title": {
           "x": 0.05
          },
          "xaxis": {
           "automargin": true,
           "gridcolor": "white",
           "linecolor": "white",
           "ticks": "",
           "zerolinecolor": "white",
           "zerolinewidth": 2
          },
          "yaxis": {
           "automargin": true,
           "gridcolor": "white",
           "linecolor": "white",
           "ticks": "",
           "zerolinecolor": "white",
           "zerolinewidth": 2
          }
         }
        },
        "title": {
         "text": "tuwen:cold/auc"
        },
        "xaxis": {
         "type": "date"
        }
       }
      },
      "text/html": [
       "<div>\n",
       "        \n",
       "        \n",
       "            <div id=\"5c9fb8fe-13e5-4500-be09-3a847a697213\" class=\"plotly-graph-div\" style=\"height:525px; width:100%;\"></div>\n",
       "            <script type=\"text/javascript\">\n",
       "                require([\"plotly\"], function(Plotly) {\n",
       "                    window.PLOTLYENV=window.PLOTLYENV || {};\n",
       "                    \n",
       "                if (document.getElementById(\"5c9fb8fe-13e5-4500-be09-3a847a697213\")) {\n",
       "                    Plotly.newPlot(\n",
       "                        '5c9fb8fe-13e5-4500-be09-3a847a697213',\n",
       "                        [{\"line\": {\"shape\": \"spline\", \"smoothing\": 1.0}, \"mode\": \"lines+markers\", \"name\": \"456:cold/auc\", \"type\": \"scatter\", \"x\": [\"2019-12-11T00:00:00\", \"2019-12-11T01:00:00\", \"2019-12-11T02:00:00\", \"2019-12-11T03:00:00\", \"2019-12-11T04:00:00\", \"2019-12-11T05:00:00\", \"2019-12-11T06:00:00\", \"2019-12-11T07:00:00\", \"2019-12-11T08:00:00\", \"2019-12-11T09:00:00\", \"2019-12-11T10:00:00\", \"2019-12-11T11:00:00\", \"2019-12-11T12:00:00\", \"2019-12-11T13:00:00\", \"2019-12-11T15:00:00\", \"2019-12-11T16:00:00\", \"2019-12-11T19:00:00\", \"2019-12-11T20:00:00\", \"2019-12-11T21:00:00\", \"2019-12-11T22:00:00\", \"2019-12-11T23:00:00\", \"2019-12-12T00:00:00\", \"2019-12-12T01:00:00\", \"2019-12-12T02:00:00\", \"2019-12-12T03:00:00\", \"2019-12-12T04:00:00\", \"2019-12-12T05:00:00\", \"2019-12-12T06:00:00\", \"2019-12-12T07:00:00\", \"2019-12-12T08:00:00\", \"2019-12-12T09:00:00\", \"2019-12-12T10:00:00\", \"2019-12-12T11:00:00\", \"2019-12-12T12:00:00\", \"2019-12-12T13:00:00\", \"2019-12-12T14:00:00\", \"2019-12-12T15:00:00\", \"2019-12-12T16:00:00\", \"2019-12-12T17:00:00\", \"2019-12-12T18:00:00\", \"2019-12-12T19:00:00\", \"2019-12-12T20:00:00\", \"2019-12-12T21:00:00\", \"2019-12-12T22:00:00\", \"2019-12-12T23:00:00\", \"2019-12-13T00:00:00\", \"2019-12-13T01:00:00\", \"2019-12-13T02:00:00\", \"2019-12-13T03:00:00\", \"2019-12-13T04:00:00\", \"2019-12-13T05:00:00\", \"2019-12-13T06:00:00\", \"2019-12-13T07:00:00\", \"2019-12-13T08:00:00\", \"2019-12-13T09:00:00\", \"2019-12-13T10:00:00\", \"2019-12-13T11:00:00\", \"2019-12-13T12:00:00\", \"2019-12-13T13:00:00\", \"2019-12-13T14:00:00\", \"2019-12-13T15:00:00\", \"2019-12-13T16:00:00\", \"2019-12-13T17:00:00\", \"2019-12-13T18:00:00\", \"2019-12-13T19:00:00\", \"2019-12-13T20:00:00\", \"2019-12-13T21:00:00\", \"2019-12-13T22:00:00\", \"2019-12-13T23:00:00\", \"2019-12-14T00:00:00\", \"2019-12-14T01:00:00\", \"2019-12-14T02:00:00\", \"2019-12-14T03:00:00\", \"2019-12-14T04:00:00\", \"2019-12-14T05:00:00\", \"2019-12-14T06:00:00\", \"2019-12-14T07:00:00\", \"2019-12-14T08:00:00\", \"2019-12-14T09:00:00\", \"2019-12-14T10:00:00\", \"2019-12-14T11:00:00\", \"2019-12-14T12:00:00\", \"2019-12-14T13:00:00\", \"2019-12-14T14:00:00\", \"2019-12-14T15:00:00\", \"2019-12-14T16:00:00\", \"2019-12-14T17:00:00\", \"2019-12-14T18:00:00\", \"2019-12-14T19:00:00\", \"2019-12-14T20:00:00\", \"2019-12-14T21:00:00\", \"2019-12-14T22:00:00\", \"2019-12-14T23:00:00\", \"2019-12-15T00:00:00\", \"2019-12-15T01:00:00\", \"2019-12-15T02:00:00\", \"2019-12-15T03:00:00\", \"2019-12-15T04:00:00\", \"2019-12-15T05:00:00\", \"2019-12-15T06:00:00\", \"2019-12-15T07:00:00\", \"2019-12-15T08:00:00\", \"2019-12-15T09:00:00\", \"2019-12-15T10:00:00\", \"2019-12-15T11:00:00\", \"2019-12-15T12:00:00\", \"2019-12-15T13:00:00\", \"2019-12-15T14:00:00\", \"2019-12-15T15:00:00\", \"2019-12-15T16:00:00\", \"2019-12-15T17:00:00\", \"2019-12-15T18:00:00\", \"2019-12-15T19:00:00\", \"2019-12-15T20:00:00\", \"2019-12-15T21:00:00\", \"2019-12-15T22:00:00\", \"2019-12-16T00:00:00\"], \"y\": [0.6751265755381332, 0.6769039686578769, 0.7109406689597856, 0.7427671315031532, 0.7552332901016955, 0.7339070912649547, 0.7077852609710831, 0.7151107150318119, 0.7025331709891289, 0.7117076046154412, 0.702212397292993, 0.7117786527999275, 0.6898799721863693, 0.6627730772411482, 0.6660493969665797, 0.6704005222560065, 0.7384422047270796, 0.710437787272, 0.7171075792185957, 0.6879004268434783, 0.697013282516272, 0.6873045109339471, 0.6644608577467346, 0.6884902679254563, 0.7212735039655349, 0.7267312400631258, 0.7199234687785232, 0.7046221985401941, 0.6877888770190683, 0.6685785994106062, 0.6880161518985934, 0.6826426787770917, 0.6737199693041398, 0.6699849451994051, 0.6291480185767663, 0.6470285677960075, 0.6432066106538994, 0.62138669423213, 0.6236998806432712, 0.6615613491061518, 0.6783517524210332, 0.6771704572266477, 0.6691033545055207, 0.6685344600774504, 0.6943511535384763, 0.6830984982023183, 0.7030415976745125, 0.741561363025685, 0.7577046154818404, 0.7585691982649108, 0.7569150472458006, 0.7372541223996849, 0.734717277716127, 0.71657456241817, 0.7348455112583498, 0.70724577360331, 0.7197553861464692, 0.6886891349996365, 0.6803428614790479, 0.7030639624718126, 0.6794665038017451, 0.6728447248932431, 0.6619030958344031, 0.6919843101286849, 0.6747346395333758, 0.6627612697057087, 0.6580375480106597, 0.6320516916495468, 0.6398466971025581, 0.6499241849213995, 0.6815431922174845, 0.7196429215396161, 0.7152988019147355, 0.7543311676720144, 0.7885086567970923, 0.7956730985156739, 0.7554063531705264, 0.7386403630498265, 0.7165000347678616, 0.7099852657890258, 0.7240900308868481, 0.7261993344163131, 0.6979439403006134, 0.6818520668095476, 0.6932110132746472, 0.6902890159618486, 0.6931366386450668, 0.7283147785165378, 0.8006006983038343, 0.8038946430676001, 0.7647166966118506, 0.7477601876696536, 0.7575775422655752, 0.739038341241963, 0.7544907649507259, 0.7781859470568423, 0.811570951322836, 0.8578506211016639, 0.8464558972656283, 0.8214935619291271, 0.8033487119381616, 0.7737647186342489, 0.7597823118086298, 0.7358721023804159, 0.7272416615401682, 0.7464673514375368, 0.7440283588973671, 0.7524473746889717, 0.7680402347127013, 0.7418465831186472, 0.7155635596906795, 0.7542717145574928, 0.7259621691836489, 0.7359913256789384, 0.7589988570528216, 0.772224408733444, 0.7554502034982307]}, {\"line\": {\"shape\": \"spline\", \"smoothing\": 1.0}, \"mode\": \"lines+markers\", \"name\": \"15:cold/auc\", \"type\": \"scatter\", \"x\": [\"2019-12-11T00:00:00\", \"2019-12-11T01:00:00\", \"2019-12-11T02:00:00\", \"2019-12-11T03:00:00\", \"2019-12-11T04:00:00\", \"2019-12-11T05:00:00\", \"2019-12-11T06:00:00\", \"2019-12-11T07:00:00\", \"2019-12-11T08:00:00\", \"2019-12-11T09:00:00\", \"2019-12-11T10:00:00\", \"2019-12-11T11:00:00\", \"2019-12-11T12:00:00\", \"2019-12-11T13:00:00\", \"2019-12-11T15:00:00\", \"2019-12-11T16:00:00\", \"2019-12-11T19:00:00\", \"2019-12-11T20:00:00\", \"2019-12-11T21:00:00\", \"2019-12-11T22:00:00\", \"2019-12-11T23:00:00\", \"2019-12-12T00:00:00\", \"2019-12-12T01:00:00\", \"2019-12-12T02:00:00\", \"2019-12-12T03:00:00\", \"2019-12-12T04:00:00\", \"2019-12-12T05:00:00\", \"2019-12-12T06:00:00\", \"2019-12-12T07:00:00\", \"2019-12-12T08:00:00\", \"2019-12-12T09:00:00\", \"2019-12-12T10:00:00\", \"2019-12-12T11:00:00\", \"2019-12-12T12:00:00\", \"2019-12-12T13:00:00\", \"2019-12-12T14:00:00\", \"2019-12-12T15:00:00\", \"2019-12-12T16:00:00\", \"2019-12-12T17:00:00\", \"2019-12-12T18:00:00\", \"2019-12-12T19:00:00\", \"2019-12-12T20:00:00\", \"2019-12-12T21:00:00\", \"2019-12-12T22:00:00\", \"2019-12-12T23:00:00\", \"2019-12-13T00:00:00\", \"2019-12-13T01:00:00\", \"2019-12-13T02:00:00\", \"2019-12-13T03:00:00\", \"2019-12-13T04:00:00\", \"2019-12-13T05:00:00\", \"2019-12-13T06:00:00\", \"2019-12-13T07:00:00\", \"2019-12-13T08:00:00\", \"2019-12-13T09:00:00\", \"2019-12-13T10:00:00\", \"2019-12-13T11:00:00\", \"2019-12-13T12:00:00\", \"2019-12-13T13:00:00\", \"2019-12-13T14:00:00\", \"2019-12-13T15:00:00\", \"2019-12-13T16:00:00\", \"2019-12-13T17:00:00\", \"2019-12-13T18:00:00\", \"2019-12-13T19:00:00\", \"2019-12-13T20:00:00\", \"2019-12-13T21:00:00\", \"2019-12-13T22:00:00\", \"2019-12-13T23:00:00\", \"2019-12-14T00:00:00\", \"2019-12-14T01:00:00\", \"2019-12-14T02:00:00\", \"2019-12-14T03:00:00\", \"2019-12-14T04:00:00\", \"2019-12-14T05:00:00\", \"2019-12-14T06:00:00\", \"2019-12-14T07:00:00\", \"2019-12-14T08:00:00\", \"2019-12-14T09:00:00\", \"2019-12-14T10:00:00\", \"2019-12-14T11:00:00\", \"2019-12-14T12:00:00\", \"2019-12-14T13:00:00\", \"2019-12-14T14:00:00\", \"2019-12-14T15:00:00\", \"2019-12-14T16:00:00\", \"2019-12-14T17:00:00\", \"2019-12-14T18:00:00\", \"2019-12-14T19:00:00\", \"2019-12-14T20:00:00\", \"2019-12-14T21:00:00\", \"2019-12-14T22:00:00\", \"2019-12-14T23:00:00\", \"2019-12-15T00:00:00\", \"2019-12-15T01:00:00\", \"2019-12-15T02:00:00\", \"2019-12-15T03:00:00\", \"2019-12-15T04:00:00\", \"2019-12-15T05:00:00\", \"2019-12-15T06:00:00\", \"2019-12-15T07:00:00\", \"2019-12-15T08:00:00\", \"2019-12-15T09:00:00\", \"2019-12-15T10:00:00\", \"2019-12-15T11:00:00\", \"2019-12-15T12:00:00\", \"2019-12-15T13:00:00\", \"2019-12-15T14:00:00\", \"2019-12-15T15:00:00\", \"2019-12-15T16:00:00\", \"2019-12-15T17:00:00\", \"2019-12-15T18:00:00\", \"2019-12-15T19:00:00\", \"2019-12-15T20:00:00\", \"2019-12-15T21:00:00\", \"2019-12-15T22:00:00\", \"2019-12-16T00:00:00\"], \"y\": [0.7791207817523608, 0.8178258018784335, 0.8513323778183939, 0.8701832252592733, 0.8831356706814322, 0.8744476277705475, 0.8473557279204181, 0.7909724957982376, 0.7648797179758592, 0.7420412001724458, 0.7453361870604482, 0.7447657684667348, 0.6804637267794059, 0.6495872746633768, 0.6872781782766143, 0.6844660802404546, 0.7071830445981251, 0.6893308190863677, 0.6974661454281712, 0.6800972119354911, 0.6903744093889802, 0.7011740156290147, 0.7226493686027521, 0.7761482811575415, 0.7908698762439611, 0.8229481781189413, 0.8231087248612481, 0.7834369911832555, 0.7677065523833262, 0.7263473087112796, 0.6767979878951474, 0.665772242762325, 0.6740936701858614, 0.6805283841805457, 0.6583852881051686, 0.6460368292301732, 0.6856950275551466, 0.6511970133027395, 0.6528401840708593, 0.6781621265872917, 0.686765125611732, 0.6824648913895264, 0.65929951888961, 0.6480307751216903, 0.6920891822339977, 0.6766423009539837, 0.6379147211853127, 0.6946484362501065, 0.7037911664417815, 0.7331855693161158, 0.728329504775681, 0.6862821824277762, 0.6971655544861203, 0.6837159485704045, 0.6959453033789207, 0.7021677091359091, 0.7225396829060784, 0.6744786130128868, 0.6680523447636537, 0.6680006152245972, 0.6229723913811006, 0.6277562801626658, 0.6498649078782084, 0.6862525863201298, 0.7002157917483837, 0.6529362558971665, 0.6385278070290958, 0.6471524958821637, 0.6454854512586841, 0.6520615049170622, 0.6522171514939857, 0.6696794501598642, 0.6650932289696778, 0.699987371247988, 0.7151077957214174, 0.7480061250807221, 0.7231887571294182, 0.6881412725639076, 0.6818576030714287, 0.7023248378115436, 0.7040921078672631, 0.6925107202154631, 0.6608096881328379, 0.644977564947573, 0.656187906991192, 0.6164862368617304, 0.6255172414810144, 0.6689716983938578, 0.7008832060598911, 0.7108299325940957, 0.6962048469246465, 0.6719049598706737, 0.6735076322075733, 0.6660004381939539, 0.6751602830942932, 0.6988614381366685, 0.7028468971466297, 0.7085260259276587, 0.6855878823815104, 0.7173760250952494, 0.6930281207939528, 0.6858327333560597, 0.6925096726064792, 0.6710691033908962, 0.6672778317922451, 0.6863881505222161, 0.689457775839849, 0.66933330114397, 0.6900467390489222, 0.7030148438433129, 0.7061840531107563, 0.7224144496466693, 0.6962845556879986, 0.6810312498835953, 0.6791854365457158, 0.7026202817383596, 0.6978122452489501]}],\n",
       "                        {\"hovermode\": \"x\", \"template\": {\"data\": {\"bar\": [{\"error_x\": {\"color\": \"#2a3f5f\"}, \"error_y\": {\"color\": \"#2a3f5f\"}, \"marker\": {\"line\": {\"color\": \"#E5ECF6\", \"width\": 0.5}}, \"type\": \"bar\"}], \"barpolar\": [{\"marker\": {\"line\": {\"color\": \"#E5ECF6\", \"width\": 0.5}}, \"type\": \"barpolar\"}], \"carpet\": [{\"aaxis\": {\"endlinecolor\": \"#2a3f5f\", \"gridcolor\": \"white\", \"linecolor\": \"white\", \"minorgridcolor\": \"white\", \"startlinecolor\": \"#2a3f5f\"}, \"baxis\": {\"endlinecolor\": \"#2a3f5f\", \"gridcolor\": \"white\", \"linecolor\": \"white\", \"minorgridcolor\": \"white\", \"startlinecolor\": \"#2a3f5f\"}, \"type\": \"carpet\"}], \"choropleth\": [{\"colorbar\": {\"outlinewidth\": 0, \"ticks\": \"\"}, \"type\": \"choropleth\"}], \"contour\": [{\"colorbar\": {\"outlinewidth\": 0, \"ticks\": \"\"}, \"colorscale\": [[0.0, \"#0d0887\"], [0.1111111111111111, \"#46039f\"], [0.2222222222222222, \"#7201a8\"], [0.3333333333333333, \"#9c179e\"], [0.4444444444444444, \"#bd3786\"], [0.5555555555555556, \"#d8576b\"], [0.6666666666666666, \"#ed7953\"], [0.7777777777777778, \"#fb9f3a\"], [0.8888888888888888, \"#fdca26\"], [1.0, \"#f0f921\"]], \"type\": \"contour\"}], \"contourcarpet\": [{\"colorbar\": {\"outlinewidth\": 0, \"ticks\": \"\"}, \"type\": \"contourcarpet\"}], \"heatmap\": [{\"colorbar\": {\"outlinewidth\": 0, \"ticks\": \"\"}, \"colorscale\": [[0.0, \"#0d0887\"], [0.1111111111111111, \"#46039f\"], [0.2222222222222222, \"#7201a8\"], [0.3333333333333333, \"#9c179e\"], [0.4444444444444444, \"#bd3786\"], [0.5555555555555556, \"#d8576b\"], [0.6666666666666666, \"#ed7953\"], [0.7777777777777778, \"#fb9f3a\"], [0.8888888888888888, \"#fdca26\"], [1.0, \"#f0f921\"]], \"type\": \"heatmap\"}], \"heatmapgl\": [{\"colorbar\": {\"outlinewidth\": 0, \"ticks\": \"\"}, \"colorscale\": [[0.0, \"#0d0887\"], [0.1111111111111111, \"#46039f\"], [0.2222222222222222, \"#7201a8\"], [0.3333333333333333, \"#9c179e\"], [0.4444444444444444, \"#bd3786\"], [0.5555555555555556, \"#d8576b\"], [0.6666666666666666, \"#ed7953\"], [0.7777777777777778, \"#fb9f3a\"], [0.8888888888888888, \"#fdca26\"], [1.0, \"#f0f921\"]], \"type\": \"heatmapgl\"}], \"histogram\": [{\"marker\": {\"colorbar\": {\"outlinewidth\": 0, \"ticks\": \"\"}}, \"type\": \"histogram\"}], \"histogram2d\": [{\"colorbar\": {\"outlinewidth\": 0, \"ticks\": \"\"}, \"colorscale\": [[0.0, \"#0d0887\"], [0.1111111111111111, \"#46039f\"], [0.2222222222222222, \"#7201a8\"], [0.3333333333333333, \"#9c179e\"], [0.4444444444444444, \"#bd3786\"], [0.5555555555555556, \"#d8576b\"], [0.6666666666666666, \"#ed7953\"], [0.7777777777777778, \"#fb9f3a\"], [0.8888888888888888, \"#fdca26\"], [1.0, \"#f0f921\"]], \"type\": \"histogram2d\"}], \"histogram2dcontour\": [{\"colorbar\": {\"outlinewidth\": 0, \"ticks\": \"\"}, \"colorscale\": [[0.0, \"#0d0887\"], [0.1111111111111111, \"#46039f\"], [0.2222222222222222, \"#7201a8\"], [0.3333333333333333, \"#9c179e\"], [0.4444444444444444, \"#bd3786\"], [0.5555555555555556, \"#d8576b\"], [0.6666666666666666, \"#ed7953\"], [0.7777777777777778, \"#fb9f3a\"], [0.8888888888888888, \"#fdca26\"], [1.0, \"#f0f921\"]], \"type\": \"histogram2dcontour\"}], \"mesh3d\": [{\"colorbar\": {\"outlinewidth\": 0, \"ticks\": \"\"}, \"type\": \"mesh3d\"}], \"parcoords\": [{\"line\": {\"colorbar\": {\"outlinewidth\": 0, \"ticks\": \"\"}}, \"type\": \"parcoords\"}], \"scatter\": [{\"marker\": {\"colorbar\": {\"outlinewidth\": 0, \"ticks\": \"\"}}, \"type\": \"scatter\"}], \"scatter3d\": [{\"line\": {\"colorbar\": {\"outlinewidth\": 0, \"ticks\": \"\"}}, \"marker\": {\"colorbar\": {\"outlinewidth\": 0, \"ticks\": \"\"}}, \"type\": \"scatter3d\"}], \"scattercarpet\": [{\"marker\": {\"colorbar\": {\"outlinewidth\": 0, \"ticks\": \"\"}}, \"type\": \"scattercarpet\"}], \"scattergeo\": [{\"marker\": {\"colorbar\": {\"outlinewidth\": 0, \"ticks\": \"\"}}, \"type\": \"scattergeo\"}], \"scattergl\": [{\"marker\": {\"colorbar\": {\"outlinewidth\": 0, \"ticks\": \"\"}}, \"type\": \"scattergl\"}], \"scattermapbox\": [{\"marker\": {\"colorbar\": {\"outlinewidth\": 0, \"ticks\": \"\"}}, \"type\": \"scattermapbox\"}], \"scatterpolar\": [{\"marker\": {\"colorbar\": {\"outlinewidth\": 0, \"ticks\": \"\"}}, \"type\": \"scatterpolar\"}], \"scatterpolargl\": [{\"marker\": {\"colorbar\": {\"outlinewidth\": 0, \"ticks\": \"\"}}, \"type\": \"scatterpolargl\"}], \"scatterternary\": [{\"marker\": {\"colorbar\": {\"outlinewidth\": 0, \"ticks\": \"\"}}, \"type\": \"scatterternary\"}], \"surface\": [{\"colorbar\": {\"outlinewidth\": 0, \"ticks\": \"\"}, \"colorscale\": [[0.0, \"#0d0887\"], [0.1111111111111111, \"#46039f\"], [0.2222222222222222, \"#7201a8\"], [0.3333333333333333, \"#9c179e\"], [0.4444444444444444, \"#bd3786\"], [0.5555555555555556, \"#d8576b\"], [0.6666666666666666, \"#ed7953\"], [0.7777777777777778, \"#fb9f3a\"], [0.8888888888888888, \"#fdca26\"], [1.0, \"#f0f921\"]], \"type\": \"surface\"}], \"table\": [{\"cells\": {\"fill\": {\"color\": \"#EBF0F8\"}, \"line\": {\"color\": \"white\"}}, \"header\": {\"fill\": {\"color\": \"#C8D4E3\"}, \"line\": {\"color\": \"white\"}}, \"type\": \"table\"}]}, \"layout\": {\"annotationdefaults\": {\"arrowcolor\": \"#2a3f5f\", \"arrowhead\": 0, \"arrowwidth\": 1}, \"colorscale\": {\"diverging\": [[0, \"#8e0152\"], [0.1, \"#c51b7d\"], [0.2, \"#de77ae\"], [0.3, \"#f1b6da\"], [0.4, \"#fde0ef\"], [0.5, \"#f7f7f7\"], [0.6, \"#e6f5d0\"], [0.7, \"#b8e186\"], [0.8, \"#7fbc41\"], [0.9, \"#4d9221\"], [1, \"#276419\"]], \"sequential\": [[0.0, \"#0d0887\"], [0.1111111111111111, \"#46039f\"], [0.2222222222222222, \"#7201a8\"], [0.3333333333333333, \"#9c179e\"], [0.4444444444444444, \"#bd3786\"], [0.5555555555555556, \"#d8576b\"], [0.6666666666666666, \"#ed7953\"], [0.7777777777777778, \"#fb9f3a\"], [0.8888888888888888, \"#fdca26\"], [1.0, \"#f0f921\"]], \"sequentialminus\": [[0.0, \"#0d0887\"], [0.1111111111111111, \"#46039f\"], [0.2222222222222222, \"#7201a8\"], [0.3333333333333333, \"#9c179e\"], [0.4444444444444444, \"#bd3786\"], [0.5555555555555556, \"#d8576b\"], [0.6666666666666666, \"#ed7953\"], [0.7777777777777778, \"#fb9f3a\"], [0.8888888888888888, \"#fdca26\"], [1.0, \"#f0f921\"]]}, \"colorway\": [\"#636efa\", \"#EF553B\", \"#00cc96\", \"#ab63fa\", \"#FFA15A\", \"#19d3f3\", \"#FF6692\", \"#B6E880\", \"#FF97FF\", \"#FECB52\"], \"font\": {\"color\": \"#2a3f5f\"}, \"geo\": {\"bgcolor\": \"white\", \"lakecolor\": \"white\", \"landcolor\": \"#E5ECF6\", \"showlakes\": true, \"showland\": true, \"subunitcolor\": \"white\"}, \"hoverlabel\": {\"align\": \"left\"}, \"hovermode\": \"closest\", \"mapbox\": {\"style\": \"light\"}, \"paper_bgcolor\": \"white\", \"plot_bgcolor\": \"#E5ECF6\", \"polar\": {\"angularaxis\": {\"gridcolor\": \"white\", \"linecolor\": \"white\", \"ticks\": \"\"}, \"bgcolor\": \"#E5ECF6\", \"radialaxis\": {\"gridcolor\": \"white\", \"linecolor\": \"white\", \"ticks\": \"\"}}, \"scene\": {\"xaxis\": {\"backgroundcolor\": \"#E5ECF6\", \"gridcolor\": \"white\", \"gridwidth\": 2, \"linecolor\": \"white\", \"showbackground\": true, \"ticks\": \"\", \"zerolinecolor\": \"white\"}, \"yaxis\": {\"backgroundcolor\": \"#E5ECF6\", \"gridcolor\": \"white\", \"gridwidth\": 2, \"linecolor\": \"white\", \"showbackground\": true, \"ticks\": \"\", \"zerolinecolor\": \"white\"}, \"zaxis\": {\"backgroundcolor\": \"#E5ECF6\", \"gridcolor\": \"white\", \"gridwidth\": 2, \"linecolor\": \"white\", \"showbackground\": true, \"ticks\": \"\", \"zerolinecolor\": \"white\"}}, \"shapedefaults\": {\"line\": {\"color\": \"#2a3f5f\"}}, \"ternary\": {\"aaxis\": {\"gridcolor\": \"white\", \"linecolor\": \"white\", \"ticks\": \"\"}, \"baxis\": {\"gridcolor\": \"white\", \"linecolor\": \"white\", \"ticks\": \"\"}, \"bgcolor\": \"#E5ECF6\", \"caxis\": {\"gridcolor\": \"white\", \"linecolor\": \"white\", \"ticks\": \"\"}}, \"title\": {\"x\": 0.05}, \"xaxis\": {\"automargin\": true, \"gridcolor\": \"white\", \"linecolor\": \"white\", \"ticks\": \"\", \"zerolinecolor\": \"white\", \"zerolinewidth\": 2}, \"yaxis\": {\"automargin\": true, \"gridcolor\": \"white\", \"linecolor\": \"white\", \"ticks\": \"\", \"zerolinecolor\": \"white\", \"zerolinewidth\": 2}}}, \"title\": {\"text\": \"tuwen:cold/auc\"}, \"xaxis\": {\"type\": \"date\"}},\n",
       "                        {\"responsive\": true}\n",
       "                    ).then(function(){\n",
       "                            \n",
       "var gd = document.getElementById('5c9fb8fe-13e5-4500-be09-3a847a697213');\n",
       "var x = new MutationObserver(function (mutations, observer) {{\n",
       "        var display = window.getComputedStyle(gd).display;\n",
       "        if (!display || display === 'none') {{\n",
       "            console.log([gd, 'removed!']);\n",
       "            Plotly.purge(gd);\n",
       "            observer.disconnect();\n",
       "        }}\n",
       "}});\n",
       "\n",
       "// Listen for the removal of the full notebook cells\n",
       "var notebookContainer = gd.closest('#notebook-container');\n",
       "if (notebookContainer) {{\n",
       "    x.observe(notebookContainer, {childList: true});\n",
       "}}\n",
       "\n",
       "// Listen for the clearing of the current output cell\n",
       "var outputEl = gd.closest('.output');\n",
       "if (outputEl) {{\n",
       "    x.observe(outputEl, {childList: true});\n",
       "}}\n",
       "\n",
       "                        })\n",
       "                };\n",
       "                });\n",
       "            </script>\n",
       "        </div>"
      ]
     },
     "metadata": {},
     "output_type": "display_data"
    }
   ],
   "source": [
    "compare(df, 'cold/auc')"
   ]
  },
  {
   "cell_type": "code",
   "execution_count": 24,
   "metadata": {},
   "outputs": [
    {
     "data": {
      "application/vnd.plotly.v1+json": {
       "config": {
        "linkText": "Export to plot.ly",
        "plotlyServerURL": "https://plot.ly",
        "showLink": false
       },
       "data": [
        {
         "line": {
          "shape": "spline",
          "smoothing": 1
         },
         "mode": "lines+markers",
         "name": "456:group/auc",
         "type": "scatter",
         "x": [
          "2019-12-11T00:00:00",
          "2019-12-11T01:00:00",
          "2019-12-11T02:00:00",
          "2019-12-11T03:00:00",
          "2019-12-11T04:00:00",
          "2019-12-11T05:00:00",
          "2019-12-11T06:00:00",
          "2019-12-11T07:00:00",
          "2019-12-11T08:00:00",
          "2019-12-11T09:00:00",
          "2019-12-11T10:00:00",
          "2019-12-11T11:00:00",
          "2019-12-11T12:00:00",
          "2019-12-11T13:00:00",
          "2019-12-11T15:00:00",
          "2019-12-11T16:00:00",
          "2019-12-11T19:00:00",
          "2019-12-11T20:00:00",
          "2019-12-11T21:00:00",
          "2019-12-11T22:00:00",
          "2019-12-11T23:00:00",
          "2019-12-12T00:00:00",
          "2019-12-12T01:00:00",
          "2019-12-12T02:00:00",
          "2019-12-12T03:00:00",
          "2019-12-12T04:00:00",
          "2019-12-12T05:00:00",
          "2019-12-12T06:00:00",
          "2019-12-12T07:00:00",
          "2019-12-12T08:00:00",
          "2019-12-12T09:00:00",
          "2019-12-12T10:00:00",
          "2019-12-12T11:00:00",
          "2019-12-12T12:00:00",
          "2019-12-12T13:00:00",
          "2019-12-12T14:00:00",
          "2019-12-12T15:00:00",
          "2019-12-12T16:00:00",
          "2019-12-12T17:00:00",
          "2019-12-12T18:00:00",
          "2019-12-12T19:00:00",
          "2019-12-12T20:00:00",
          "2019-12-12T21:00:00",
          "2019-12-12T22:00:00",
          "2019-12-12T23:00:00",
          "2019-12-13T00:00:00",
          "2019-12-13T01:00:00",
          "2019-12-13T02:00:00",
          "2019-12-13T03:00:00",
          "2019-12-13T04:00:00",
          "2019-12-13T05:00:00",
          "2019-12-13T06:00:00",
          "2019-12-13T07:00:00",
          "2019-12-13T08:00:00",
          "2019-12-13T09:00:00",
          "2019-12-13T10:00:00",
          "2019-12-13T11:00:00",
          "2019-12-13T12:00:00",
          "2019-12-13T13:00:00",
          "2019-12-13T14:00:00",
          "2019-12-13T15:00:00",
          "2019-12-13T16:00:00",
          "2019-12-13T17:00:00",
          "2019-12-13T18:00:00",
          "2019-12-13T19:00:00",
          "2019-12-13T20:00:00",
          "2019-12-13T21:00:00",
          "2019-12-13T22:00:00",
          "2019-12-13T23:00:00",
          "2019-12-14T00:00:00",
          "2019-12-14T01:00:00",
          "2019-12-14T02:00:00",
          "2019-12-14T03:00:00",
          "2019-12-14T04:00:00",
          "2019-12-14T05:00:00",
          "2019-12-14T06:00:00",
          "2019-12-14T07:00:00",
          "2019-12-14T08:00:00",
          "2019-12-14T09:00:00",
          "2019-12-14T10:00:00",
          "2019-12-14T11:00:00",
          "2019-12-14T12:00:00",
          "2019-12-14T13:00:00",
          "2019-12-14T14:00:00",
          "2019-12-14T15:00:00",
          "2019-12-14T16:00:00",
          "2019-12-14T17:00:00",
          "2019-12-14T18:00:00",
          "2019-12-14T19:00:00",
          "2019-12-14T20:00:00",
          "2019-12-14T21:00:00",
          "2019-12-14T22:00:00",
          "2019-12-14T23:00:00",
          "2019-12-15T00:00:00",
          "2019-12-15T01:00:00",
          "2019-12-15T02:00:00",
          "2019-12-15T03:00:00",
          "2019-12-15T04:00:00",
          "2019-12-15T05:00:00",
          "2019-12-15T06:00:00",
          "2019-12-15T07:00:00",
          "2019-12-15T08:00:00",
          "2019-12-15T09:00:00",
          "2019-12-15T10:00:00",
          "2019-12-15T11:00:00",
          "2019-12-15T12:00:00",
          "2019-12-15T13:00:00",
          "2019-12-15T14:00:00",
          "2019-12-15T15:00:00",
          "2019-12-15T16:00:00",
          "2019-12-15T17:00:00",
          "2019-12-15T18:00:00",
          "2019-12-15T19:00:00",
          "2019-12-15T20:00:00",
          "2019-12-15T21:00:00",
          "2019-12-15T22:00:00",
          "2019-12-16T00:00:00"
         ],
         "y": [
          0.6102193522337686,
          0.6146962949359114,
          0.6078584613677053,
          0.6042984326100408,
          0.6085619365662948,
          0.6056239096539637,
          0.6112773284060938,
          0.6144871506517028,
          0.6130176673541329,
          0.6114122440175075,
          0.6158815720411636,
          0.609876992276246,
          0.6108410348893065,
          0.6104025550727158,
          0.5873902068623114,
          0.585847120362588,
          0.59893960362724,
          0.6085039671320336,
          0.6148500070257759,
          0.6117805572111176,
          0.6121425843498227,
          0.6130020447152262,
          0.6197439358875947,
          0.6143610533086751,
          0.6163041426297133,
          0.6152369696353899,
          0.6142673457673435,
          0.6091500953212571,
          0.6061011387492684,
          0.6155320846534904,
          0.6252086140056302,
          0.6291932319929923,
          0.6356277730655773,
          0.6298108434151318,
          0.624301559745913,
          0.6309885912012745,
          0.6290231046517951,
          0.6022455078991668,
          0.5801209038665052,
          0.5776816476886206,
          0.5802123433524333,
          0.5776859031329933,
          0.5816293719012949,
          0.5873662108587856,
          0.5891562336755176,
          0.596685652463101,
          0.6045411101834735,
          0.6081667942181158,
          0.6063694591604457,
          0.6090474262537077,
          0.609644405145733,
          0.6205994547021638,
          0.6289700256845752,
          0.609061830994096,
          0.6135599300551772,
          0.6061661746203351,
          0.6035812928056179,
          0.6053347928598685,
          0.6049365117807016,
          0.6074305872066472,
          0.6120461242101196,
          0.6101734309816301,
          0.6104652925967802,
          0.6040154832233593,
          0.5931794729517984,
          0.5925829061914716,
          0.5974717029116913,
          0.603351919421546,
          0.6076002995887133,
          0.6052562261956251,
          0.6042171049069928,
          0.6009950722831172,
          0.6092888609358573,
          0.6075544295556896,
          0.6326877913269078,
          0.6346179872885216,
          0.6516352662106922,
          0.6340977339329663,
          0.623318171472754,
          0.6188543215439842,
          0.6178662808993618,
          0.6267716794179103,
          0.6249040071004732,
          0.6139881015703854,
          0.6096086571893096,
          0.6193892534109238,
          0.621290392017706,
          0.621260511704891,
          0.6789364394192835,
          0.6577722575202803,
          0.6291067205216272,
          0.6195142720607796,
          0.6129194985353399,
          0.6131667612507193,
          0.6151490512597699,
          0.6116851703816375,
          0.620910054236611,
          0.6150233298820837,
          0.6138184900389082,
          0.6152767124013656,
          0.6288048259538309,
          0.6334106045178242,
          0.6323686848185498,
          0.6295240930625294,
          0.6270015267661632,
          0.6255583637510866,
          0.6231654019117998,
          0.6200395204720617,
          0.6202728497291259,
          0.6028347466267658,
          0.5939361503060168,
          0.5936824128524065,
          0.6111028360217892,
          0.606981095566784,
          0.6008917585867412,
          0.6013158326721278,
          0.606311345375618
         ]
        },
        {
         "line": {
          "shape": "spline",
          "smoothing": 1
         },
         "mode": "lines+markers",
         "name": "15:group/auc",
         "type": "scatter",
         "x": [
          "2019-12-11T00:00:00",
          "2019-12-11T01:00:00",
          "2019-12-11T02:00:00",
          "2019-12-11T03:00:00",
          "2019-12-11T04:00:00",
          "2019-12-11T05:00:00",
          "2019-12-11T06:00:00",
          "2019-12-11T07:00:00",
          "2019-12-11T08:00:00",
          "2019-12-11T09:00:00",
          "2019-12-11T10:00:00",
          "2019-12-11T11:00:00",
          "2019-12-11T12:00:00",
          "2019-12-11T13:00:00",
          "2019-12-11T15:00:00",
          "2019-12-11T16:00:00",
          "2019-12-11T19:00:00",
          "2019-12-11T20:00:00",
          "2019-12-11T21:00:00",
          "2019-12-11T22:00:00",
          "2019-12-11T23:00:00",
          "2019-12-12T00:00:00",
          "2019-12-12T01:00:00",
          "2019-12-12T02:00:00",
          "2019-12-12T03:00:00",
          "2019-12-12T04:00:00",
          "2019-12-12T05:00:00",
          "2019-12-12T06:00:00",
          "2019-12-12T07:00:00",
          "2019-12-12T08:00:00",
          "2019-12-12T09:00:00",
          "2019-12-12T10:00:00",
          "2019-12-12T11:00:00",
          "2019-12-12T12:00:00",
          "2019-12-12T13:00:00",
          "2019-12-12T14:00:00",
          "2019-12-12T15:00:00",
          "2019-12-12T16:00:00",
          "2019-12-12T17:00:00",
          "2019-12-12T18:00:00",
          "2019-12-12T19:00:00",
          "2019-12-12T20:00:00",
          "2019-12-12T21:00:00",
          "2019-12-12T22:00:00",
          "2019-12-12T23:00:00",
          "2019-12-13T00:00:00",
          "2019-12-13T01:00:00",
          "2019-12-13T02:00:00",
          "2019-12-13T03:00:00",
          "2019-12-13T04:00:00",
          "2019-12-13T05:00:00",
          "2019-12-13T06:00:00",
          "2019-12-13T07:00:00",
          "2019-12-13T08:00:00",
          "2019-12-13T09:00:00",
          "2019-12-13T10:00:00",
          "2019-12-13T11:00:00",
          "2019-12-13T12:00:00",
          "2019-12-13T13:00:00",
          "2019-12-13T14:00:00",
          "2019-12-13T15:00:00",
          "2019-12-13T16:00:00",
          "2019-12-13T17:00:00",
          "2019-12-13T18:00:00",
          "2019-12-13T19:00:00",
          "2019-12-13T20:00:00",
          "2019-12-13T21:00:00",
          "2019-12-13T22:00:00",
          "2019-12-13T23:00:00",
          "2019-12-14T00:00:00",
          "2019-12-14T01:00:00",
          "2019-12-14T02:00:00",
          "2019-12-14T03:00:00",
          "2019-12-14T04:00:00",
          "2019-12-14T05:00:00",
          "2019-12-14T06:00:00",
          "2019-12-14T07:00:00",
          "2019-12-14T08:00:00",
          "2019-12-14T09:00:00",
          "2019-12-14T10:00:00",
          "2019-12-14T11:00:00",
          "2019-12-14T12:00:00",
          "2019-12-14T13:00:00",
          "2019-12-14T14:00:00",
          "2019-12-14T15:00:00",
          "2019-12-14T16:00:00",
          "2019-12-14T17:00:00",
          "2019-12-14T18:00:00",
          "2019-12-14T19:00:00",
          "2019-12-14T20:00:00",
          "2019-12-14T21:00:00",
          "2019-12-14T22:00:00",
          "2019-12-14T23:00:00",
          "2019-12-15T00:00:00",
          "2019-12-15T01:00:00",
          "2019-12-15T02:00:00",
          "2019-12-15T03:00:00",
          "2019-12-15T04:00:00",
          "2019-12-15T05:00:00",
          "2019-12-15T06:00:00",
          "2019-12-15T07:00:00",
          "2019-12-15T08:00:00",
          "2019-12-15T09:00:00",
          "2019-12-15T10:00:00",
          "2019-12-15T11:00:00",
          "2019-12-15T12:00:00",
          "2019-12-15T13:00:00",
          "2019-12-15T14:00:00",
          "2019-12-15T15:00:00",
          "2019-12-15T16:00:00",
          "2019-12-15T17:00:00",
          "2019-12-15T18:00:00",
          "2019-12-15T19:00:00",
          "2019-12-15T20:00:00",
          "2019-12-15T21:00:00",
          "2019-12-15T22:00:00",
          "2019-12-16T00:00:00"
         ],
         "y": [
          0.6061568871696049,
          0.6073411505904711,
          0.6096948650660615,
          0.5933384716024517,
          0.6030751757743797,
          0.6120986608937181,
          0.6223126641435017,
          0.615286572042423,
          0.5847908727986992,
          0.5765406459853888,
          0.5814236852608965,
          0.5743517786255861,
          0.573559263494675,
          0.5762559946197365,
          0.5365588406603099,
          0.47137992961759134,
          0.4493456920412985,
          0.537001334924937,
          0.5756636190761316,
          0.588482623016471,
          0.5983875228514206,
          0.5898087470166743,
          0.5904076067056905,
          0.6077203361709985,
          0.6105954730511123,
          0.6003160851508501,
          0.6032696693779919,
          0.6115011948466504,
          0.6170267523212878,
          0.6163686044232718,
          0.6097557558956764,
          0.6149040397830772,
          0.6248040207120052,
          0.6172963134429069,
          0.6154449942376485,
          0.6168733486634632,
          0.6158603193194208,
          0.6222827989581379,
          0.6530599553772345,
          0.6549291654432992,
          0.6523289760614831,
          0.6417585807987893,
          0.6388083037964895,
          0.6379971282758456,
          0.6340581903818812,
          0.6398942681422486,
          0.6349207511566104,
          0.6272000468280341,
          0.6244223986873219,
          0.6351327794007878,
          0.6416644076993618,
          0.6446483862713615,
          0.6492132483665212,
          0.6249288999919949,
          0.638928604455347,
          0.6278484695818094,
          0.628559843452795,
          0.6267105866152302,
          0.623181001224981,
          0.6269085371121593,
          0.6262387845578616,
          0.6288898100331541,
          0.6312773798760485,
          0.6275648936823321,
          0.6292172126067661,
          0.624782815557074,
          0.6195855767751666,
          0.6171452677664603,
          0.6165226126008871,
          0.6143052406295733,
          0.6177779190949806,
          0.6141753150997753,
          0.6157637976409656,
          0.6136327586582971,
          0.601848203000251,
          0.6062823831940813,
          0.6085675102221468,
          0.6208900289524031,
          0.6189874780443716,
          0.6196051016152593,
          0.619578876942391,
          0.6291185848478593,
          0.6267192518207387,
          0.6298674897791614,
          0.6192851639402555,
          0.6245779031589223,
          0.6277515227792883,
          0.627389108058749,
          0.6020482299256393,
          0.59175851422218,
          0.602177968329787,
          0.6022799055134036,
          0.6056930106516086,
          0.6122918090669671,
          0.6207656634964103,
          0.6200005687056729,
          0.6132348070810236,
          0.6077703120038049,
          0.6047615700399624,
          0.611065713785184,
          0.6147463211838162,
          0.6187037546721105,
          0.6154971105816882,
          0.6196101432122658,
          0.6255854536629055,
          0.6247135906966543,
          0.6272736884725282,
          0.6297656666062812,
          0.6359579914411815,
          0.6291438864545564,
          0.6255899005422216,
          0.6172110116570222,
          0.613694960472003,
          0.6113286025391784,
          0.6111133786442868,
          0.6048518986491149,
          0.5953558835841257
         ]
        }
       ],
       "layout": {
        "hovermode": "x",
        "template": {
         "data": {
          "bar": [
           {
            "error_x": {
             "color": "#2a3f5f"
            },
            "error_y": {
             "color": "#2a3f5f"
            },
            "marker": {
             "line": {
              "color": "#E5ECF6",
              "width": 0.5
             }
            },
            "type": "bar"
           }
          ],
          "barpolar": [
           {
            "marker": {
             "line": {
              "color": "#E5ECF6",
              "width": 0.5
             }
            },
            "type": "barpolar"
           }
          ],
          "carpet": [
           {
            "aaxis": {
             "endlinecolor": "#2a3f5f",
             "gridcolor": "white",
             "linecolor": "white",
             "minorgridcolor": "white",
             "startlinecolor": "#2a3f5f"
            },
            "baxis": {
             "endlinecolor": "#2a3f5f",
             "gridcolor": "white",
             "linecolor": "white",
             "minorgridcolor": "white",
             "startlinecolor": "#2a3f5f"
            },
            "type": "carpet"
           }
          ],
          "choropleth": [
           {
            "colorbar": {
             "outlinewidth": 0,
             "ticks": ""
            },
            "type": "choropleth"
           }
          ],
          "contour": [
           {
            "colorbar": {
             "outlinewidth": 0,
             "ticks": ""
            },
            "colorscale": [
             [
              0,
              "#0d0887"
             ],
             [
              0.1111111111111111,
              "#46039f"
             ],
             [
              0.2222222222222222,
              "#7201a8"
             ],
             [
              0.3333333333333333,
              "#9c179e"
             ],
             [
              0.4444444444444444,
              "#bd3786"
             ],
             [
              0.5555555555555556,
              "#d8576b"
             ],
             [
              0.6666666666666666,
              "#ed7953"
             ],
             [
              0.7777777777777778,
              "#fb9f3a"
             ],
             [
              0.8888888888888888,
              "#fdca26"
             ],
             [
              1,
              "#f0f921"
             ]
            ],
            "type": "contour"
           }
          ],
          "contourcarpet": [
           {
            "colorbar": {
             "outlinewidth": 0,
             "ticks": ""
            },
            "type": "contourcarpet"
           }
          ],
          "heatmap": [
           {
            "colorbar": {
             "outlinewidth": 0,
             "ticks": ""
            },
            "colorscale": [
             [
              0,
              "#0d0887"
             ],
             [
              0.1111111111111111,
              "#46039f"
             ],
             [
              0.2222222222222222,
              "#7201a8"
             ],
             [
              0.3333333333333333,
              "#9c179e"
             ],
             [
              0.4444444444444444,
              "#bd3786"
             ],
             [
              0.5555555555555556,
              "#d8576b"
             ],
             [
              0.6666666666666666,
              "#ed7953"
             ],
             [
              0.7777777777777778,
              "#fb9f3a"
             ],
             [
              0.8888888888888888,
              "#fdca26"
             ],
             [
              1,
              "#f0f921"
             ]
            ],
            "type": "heatmap"
           }
          ],
          "heatmapgl": [
           {
            "colorbar": {
             "outlinewidth": 0,
             "ticks": ""
            },
            "colorscale": [
             [
              0,
              "#0d0887"
             ],
             [
              0.1111111111111111,
              "#46039f"
             ],
             [
              0.2222222222222222,
              "#7201a8"
             ],
             [
              0.3333333333333333,
              "#9c179e"
             ],
             [
              0.4444444444444444,
              "#bd3786"
             ],
             [
              0.5555555555555556,
              "#d8576b"
             ],
             [
              0.6666666666666666,
              "#ed7953"
             ],
             [
              0.7777777777777778,
              "#fb9f3a"
             ],
             [
              0.8888888888888888,
              "#fdca26"
             ],
             [
              1,
              "#f0f921"
             ]
            ],
            "type": "heatmapgl"
           }
          ],
          "histogram": [
           {
            "marker": {
             "colorbar": {
              "outlinewidth": 0,
              "ticks": ""
             }
            },
            "type": "histogram"
           }
          ],
          "histogram2d": [
           {
            "colorbar": {
             "outlinewidth": 0,
             "ticks": ""
            },
            "colorscale": [
             [
              0,
              "#0d0887"
             ],
             [
              0.1111111111111111,
              "#46039f"
             ],
             [
              0.2222222222222222,
              "#7201a8"
             ],
             [
              0.3333333333333333,
              "#9c179e"
             ],
             [
              0.4444444444444444,
              "#bd3786"
             ],
             [
              0.5555555555555556,
              "#d8576b"
             ],
             [
              0.6666666666666666,
              "#ed7953"
             ],
             [
              0.7777777777777778,
              "#fb9f3a"
             ],
             [
              0.8888888888888888,
              "#fdca26"
             ],
             [
              1,
              "#f0f921"
             ]
            ],
            "type": "histogram2d"
           }
          ],
          "histogram2dcontour": [
           {
            "colorbar": {
             "outlinewidth": 0,
             "ticks": ""
            },
            "colorscale": [
             [
              0,
              "#0d0887"
             ],
             [
              0.1111111111111111,
              "#46039f"
             ],
             [
              0.2222222222222222,
              "#7201a8"
             ],
             [
              0.3333333333333333,
              "#9c179e"
             ],
             [
              0.4444444444444444,
              "#bd3786"
             ],
             [
              0.5555555555555556,
              "#d8576b"
             ],
             [
              0.6666666666666666,
              "#ed7953"
             ],
             [
              0.7777777777777778,
              "#fb9f3a"
             ],
             [
              0.8888888888888888,
              "#fdca26"
             ],
             [
              1,
              "#f0f921"
             ]
            ],
            "type": "histogram2dcontour"
           }
          ],
          "mesh3d": [
           {
            "colorbar": {
             "outlinewidth": 0,
             "ticks": ""
            },
            "type": "mesh3d"
           }
          ],
          "parcoords": [
           {
            "line": {
             "colorbar": {
              "outlinewidth": 0,
              "ticks": ""
             }
            },
            "type": "parcoords"
           }
          ],
          "scatter": [
           {
            "marker": {
             "colorbar": {
              "outlinewidth": 0,
              "ticks": ""
             }
            },
            "type": "scatter"
           }
          ],
          "scatter3d": [
           {
            "line": {
             "colorbar": {
              "outlinewidth": 0,
              "ticks": ""
             }
            },
            "marker": {
             "colorbar": {
              "outlinewidth": 0,
              "ticks": ""
             }
            },
            "type": "scatter3d"
           }
          ],
          "scattercarpet": [
           {
            "marker": {
             "colorbar": {
              "outlinewidth": 0,
              "ticks": ""
             }
            },
            "type": "scattercarpet"
           }
          ],
          "scattergeo": [
           {
            "marker": {
             "colorbar": {
              "outlinewidth": 0,
              "ticks": ""
             }
            },
            "type": "scattergeo"
           }
          ],
          "scattergl": [
           {
            "marker": {
             "colorbar": {
              "outlinewidth": 0,
              "ticks": ""
             }
            },
            "type": "scattergl"
           }
          ],
          "scattermapbox": [
           {
            "marker": {
             "colorbar": {
              "outlinewidth": 0,
              "ticks": ""
             }
            },
            "type": "scattermapbox"
           }
          ],
          "scatterpolar": [
           {
            "marker": {
             "colorbar": {
              "outlinewidth": 0,
              "ticks": ""
             }
            },
            "type": "scatterpolar"
           }
          ],
          "scatterpolargl": [
           {
            "marker": {
             "colorbar": {
              "outlinewidth": 0,
              "ticks": ""
             }
            },
            "type": "scatterpolargl"
           }
          ],
          "scatterternary": [
           {
            "marker": {
             "colorbar": {
              "outlinewidth": 0,
              "ticks": ""
             }
            },
            "type": "scatterternary"
           }
          ],
          "surface": [
           {
            "colorbar": {
             "outlinewidth": 0,
             "ticks": ""
            },
            "colorscale": [
             [
              0,
              "#0d0887"
             ],
             [
              0.1111111111111111,
              "#46039f"
             ],
             [
              0.2222222222222222,
              "#7201a8"
             ],
             [
              0.3333333333333333,
              "#9c179e"
             ],
             [
              0.4444444444444444,
              "#bd3786"
             ],
             [
              0.5555555555555556,
              "#d8576b"
             ],
             [
              0.6666666666666666,
              "#ed7953"
             ],
             [
              0.7777777777777778,
              "#fb9f3a"
             ],
             [
              0.8888888888888888,
              "#fdca26"
             ],
             [
              1,
              "#f0f921"
             ]
            ],
            "type": "surface"
           }
          ],
          "table": [
           {
            "cells": {
             "fill": {
              "color": "#EBF0F8"
             },
             "line": {
              "color": "white"
             }
            },
            "header": {
             "fill": {
              "color": "#C8D4E3"
             },
             "line": {
              "color": "white"
             }
            },
            "type": "table"
           }
          ]
         },
         "layout": {
          "annotationdefaults": {
           "arrowcolor": "#2a3f5f",
           "arrowhead": 0,
           "arrowwidth": 1
          },
          "colorscale": {
           "diverging": [
            [
             0,
             "#8e0152"
            ],
            [
             0.1,
             "#c51b7d"
            ],
            [
             0.2,
             "#de77ae"
            ],
            [
             0.3,
             "#f1b6da"
            ],
            [
             0.4,
             "#fde0ef"
            ],
            [
             0.5,
             "#f7f7f7"
            ],
            [
             0.6,
             "#e6f5d0"
            ],
            [
             0.7,
             "#b8e186"
            ],
            [
             0.8,
             "#7fbc41"
            ],
            [
             0.9,
             "#4d9221"
            ],
            [
             1,
             "#276419"
            ]
           ],
           "sequential": [
            [
             0,
             "#0d0887"
            ],
            [
             0.1111111111111111,
             "#46039f"
            ],
            [
             0.2222222222222222,
             "#7201a8"
            ],
            [
             0.3333333333333333,
             "#9c179e"
            ],
            [
             0.4444444444444444,
             "#bd3786"
            ],
            [
             0.5555555555555556,
             "#d8576b"
            ],
            [
             0.6666666666666666,
             "#ed7953"
            ],
            [
             0.7777777777777778,
             "#fb9f3a"
            ],
            [
             0.8888888888888888,
             "#fdca26"
            ],
            [
             1,
             "#f0f921"
            ]
           ],
           "sequentialminus": [
            [
             0,
             "#0d0887"
            ],
            [
             0.1111111111111111,
             "#46039f"
            ],
            [
             0.2222222222222222,
             "#7201a8"
            ],
            [
             0.3333333333333333,
             "#9c179e"
            ],
            [
             0.4444444444444444,
             "#bd3786"
            ],
            [
             0.5555555555555556,
             "#d8576b"
            ],
            [
             0.6666666666666666,
             "#ed7953"
            ],
            [
             0.7777777777777778,
             "#fb9f3a"
            ],
            [
             0.8888888888888888,
             "#fdca26"
            ],
            [
             1,
             "#f0f921"
            ]
           ]
          },
          "colorway": [
           "#636efa",
           "#EF553B",
           "#00cc96",
           "#ab63fa",
           "#FFA15A",
           "#19d3f3",
           "#FF6692",
           "#B6E880",
           "#FF97FF",
           "#FECB52"
          ],
          "font": {
           "color": "#2a3f5f"
          },
          "geo": {
           "bgcolor": "white",
           "lakecolor": "white",
           "landcolor": "#E5ECF6",
           "showlakes": true,
           "showland": true,
           "subunitcolor": "white"
          },
          "hoverlabel": {
           "align": "left"
          },
          "hovermode": "closest",
          "mapbox": {
           "style": "light"
          },
          "paper_bgcolor": "white",
          "plot_bgcolor": "#E5ECF6",
          "polar": {
           "angularaxis": {
            "gridcolor": "white",
            "linecolor": "white",
            "ticks": ""
           },
           "bgcolor": "#E5ECF6",
           "radialaxis": {
            "gridcolor": "white",
            "linecolor": "white",
            "ticks": ""
           }
          },
          "scene": {
           "xaxis": {
            "backgroundcolor": "#E5ECF6",
            "gridcolor": "white",
            "gridwidth": 2,
            "linecolor": "white",
            "showbackground": true,
            "ticks": "",
            "zerolinecolor": "white"
           },
           "yaxis": {
            "backgroundcolor": "#E5ECF6",
            "gridcolor": "white",
            "gridwidth": 2,
            "linecolor": "white",
            "showbackground": true,
            "ticks": "",
            "zerolinecolor": "white"
           },
           "zaxis": {
            "backgroundcolor": "#E5ECF6",
            "gridcolor": "white",
            "gridwidth": 2,
            "linecolor": "white",
            "showbackground": true,
            "ticks": "",
            "zerolinecolor": "white"
           }
          },
          "shapedefaults": {
           "line": {
            "color": "#2a3f5f"
           }
          },
          "ternary": {
           "aaxis": {
            "gridcolor": "white",
            "linecolor": "white",
            "ticks": ""
           },
           "baxis": {
            "gridcolor": "white",
            "linecolor": "white",
            "ticks": ""
           },
           "bgcolor": "#E5ECF6",
           "caxis": {
            "gridcolor": "white",
            "linecolor": "white",
            "ticks": ""
           }
          },
          "title": {
           "x": 0.05
          },
          "xaxis": {
           "automargin": true,
           "gridcolor": "white",
           "linecolor": "white",
           "ticks": "",
           "zerolinecolor": "white",
           "zerolinewidth": 2
          },
          "yaxis": {
           "automargin": true,
           "gridcolor": "white",
           "linecolor": "white",
           "ticks": "",
           "zerolinecolor": "white",
           "zerolinewidth": 2
          }
         }
        },
        "title": {
         "text": "tuwen:group/auc"
        },
        "xaxis": {
         "type": "date"
        }
       }
      },
      "text/html": [
       "<div>\n",
       "        \n",
       "        \n",
       "            <div id=\"4bdc5e94-89a0-43bc-a9c5-5891426021ae\" class=\"plotly-graph-div\" style=\"height:525px; width:100%;\"></div>\n",
       "            <script type=\"text/javascript\">\n",
       "                require([\"plotly\"], function(Plotly) {\n",
       "                    window.PLOTLYENV=window.PLOTLYENV || {};\n",
       "                    \n",
       "                if (document.getElementById(\"4bdc5e94-89a0-43bc-a9c5-5891426021ae\")) {\n",
       "                    Plotly.newPlot(\n",
       "                        '4bdc5e94-89a0-43bc-a9c5-5891426021ae',\n",
       "                        [{\"line\": {\"shape\": \"spline\", \"smoothing\": 1.0}, \"mode\": \"lines+markers\", \"name\": \"456:group/auc\", \"type\": \"scatter\", \"x\": [\"2019-12-11T00:00:00\", \"2019-12-11T01:00:00\", \"2019-12-11T02:00:00\", \"2019-12-11T03:00:00\", \"2019-12-11T04:00:00\", \"2019-12-11T05:00:00\", \"2019-12-11T06:00:00\", \"2019-12-11T07:00:00\", \"2019-12-11T08:00:00\", \"2019-12-11T09:00:00\", \"2019-12-11T10:00:00\", \"2019-12-11T11:00:00\", \"2019-12-11T12:00:00\", \"2019-12-11T13:00:00\", \"2019-12-11T15:00:00\", \"2019-12-11T16:00:00\", \"2019-12-11T19:00:00\", \"2019-12-11T20:00:00\", \"2019-12-11T21:00:00\", \"2019-12-11T22:00:00\", \"2019-12-11T23:00:00\", \"2019-12-12T00:00:00\", \"2019-12-12T01:00:00\", \"2019-12-12T02:00:00\", \"2019-12-12T03:00:00\", \"2019-12-12T04:00:00\", \"2019-12-12T05:00:00\", \"2019-12-12T06:00:00\", \"2019-12-12T07:00:00\", \"2019-12-12T08:00:00\", \"2019-12-12T09:00:00\", \"2019-12-12T10:00:00\", \"2019-12-12T11:00:00\", \"2019-12-12T12:00:00\", \"2019-12-12T13:00:00\", \"2019-12-12T14:00:00\", \"2019-12-12T15:00:00\", \"2019-12-12T16:00:00\", \"2019-12-12T17:00:00\", \"2019-12-12T18:00:00\", \"2019-12-12T19:00:00\", \"2019-12-12T20:00:00\", \"2019-12-12T21:00:00\", \"2019-12-12T22:00:00\", \"2019-12-12T23:00:00\", \"2019-12-13T00:00:00\", \"2019-12-13T01:00:00\", \"2019-12-13T02:00:00\", \"2019-12-13T03:00:00\", \"2019-12-13T04:00:00\", \"2019-12-13T05:00:00\", \"2019-12-13T06:00:00\", \"2019-12-13T07:00:00\", \"2019-12-13T08:00:00\", \"2019-12-13T09:00:00\", \"2019-12-13T10:00:00\", \"2019-12-13T11:00:00\", \"2019-12-13T12:00:00\", \"2019-12-13T13:00:00\", \"2019-12-13T14:00:00\", \"2019-12-13T15:00:00\", \"2019-12-13T16:00:00\", \"2019-12-13T17:00:00\", \"2019-12-13T18:00:00\", \"2019-12-13T19:00:00\", \"2019-12-13T20:00:00\", \"2019-12-13T21:00:00\", \"2019-12-13T22:00:00\", \"2019-12-13T23:00:00\", \"2019-12-14T00:00:00\", \"2019-12-14T01:00:00\", \"2019-12-14T02:00:00\", \"2019-12-14T03:00:00\", \"2019-12-14T04:00:00\", \"2019-12-14T05:00:00\", \"2019-12-14T06:00:00\", \"2019-12-14T07:00:00\", \"2019-12-14T08:00:00\", \"2019-12-14T09:00:00\", \"2019-12-14T10:00:00\", \"2019-12-14T11:00:00\", \"2019-12-14T12:00:00\", \"2019-12-14T13:00:00\", \"2019-12-14T14:00:00\", \"2019-12-14T15:00:00\", \"2019-12-14T16:00:00\", \"2019-12-14T17:00:00\", \"2019-12-14T18:00:00\", \"2019-12-14T19:00:00\", \"2019-12-14T20:00:00\", \"2019-12-14T21:00:00\", \"2019-12-14T22:00:00\", \"2019-12-14T23:00:00\", \"2019-12-15T00:00:00\", \"2019-12-15T01:00:00\", \"2019-12-15T02:00:00\", \"2019-12-15T03:00:00\", \"2019-12-15T04:00:00\", \"2019-12-15T05:00:00\", \"2019-12-15T06:00:00\", \"2019-12-15T07:00:00\", \"2019-12-15T08:00:00\", \"2019-12-15T09:00:00\", \"2019-12-15T10:00:00\", \"2019-12-15T11:00:00\", \"2019-12-15T12:00:00\", \"2019-12-15T13:00:00\", \"2019-12-15T14:00:00\", \"2019-12-15T15:00:00\", \"2019-12-15T16:00:00\", \"2019-12-15T17:00:00\", \"2019-12-15T18:00:00\", \"2019-12-15T19:00:00\", \"2019-12-15T20:00:00\", \"2019-12-15T21:00:00\", \"2019-12-15T22:00:00\", \"2019-12-16T00:00:00\"], \"y\": [0.6102193522337686, 0.6146962949359114, 0.6078584613677053, 0.6042984326100408, 0.6085619365662948, 0.6056239096539637, 0.6112773284060938, 0.6144871506517028, 0.6130176673541329, 0.6114122440175075, 0.6158815720411636, 0.609876992276246, 0.6108410348893065, 0.6104025550727158, 0.5873902068623114, 0.585847120362588, 0.59893960362724, 0.6085039671320336, 0.6148500070257759, 0.6117805572111176, 0.6121425843498227, 0.6130020447152262, 0.6197439358875947, 0.6143610533086751, 0.6163041426297133, 0.6152369696353899, 0.6142673457673435, 0.6091500953212571, 0.6061011387492684, 0.6155320846534904, 0.6252086140056302, 0.6291932319929923, 0.6356277730655773, 0.6298108434151318, 0.624301559745913, 0.6309885912012745, 0.6290231046517951, 0.6022455078991668, 0.5801209038665052, 0.5776816476886206, 0.5802123433524333, 0.5776859031329933, 0.5816293719012949, 0.5873662108587856, 0.5891562336755176, 0.596685652463101, 0.6045411101834735, 0.6081667942181158, 0.6063694591604457, 0.6090474262537077, 0.609644405145733, 0.6205994547021638, 0.6289700256845752, 0.609061830994096, 0.6135599300551772, 0.6061661746203351, 0.6035812928056179, 0.6053347928598685, 0.6049365117807016, 0.6074305872066472, 0.6120461242101196, 0.6101734309816301, 0.6104652925967802, 0.6040154832233593, 0.5931794729517984, 0.5925829061914716, 0.5974717029116913, 0.603351919421546, 0.6076002995887133, 0.6052562261956251, 0.6042171049069928, 0.6009950722831172, 0.6092888609358573, 0.6075544295556896, 0.6326877913269078, 0.6346179872885216, 0.6516352662106922, 0.6340977339329663, 0.623318171472754, 0.6188543215439842, 0.6178662808993618, 0.6267716794179103, 0.6249040071004732, 0.6139881015703854, 0.6096086571893096, 0.6193892534109238, 0.621290392017706, 0.621260511704891, 0.6789364394192835, 0.6577722575202803, 0.6291067205216272, 0.6195142720607796, 0.6129194985353399, 0.6131667612507193, 0.6151490512597699, 0.6116851703816375, 0.620910054236611, 0.6150233298820837, 0.6138184900389082, 0.6152767124013656, 0.6288048259538309, 0.6334106045178242, 0.6323686848185498, 0.6295240930625294, 0.6270015267661632, 0.6255583637510866, 0.6231654019117998, 0.6200395204720617, 0.6202728497291259, 0.6028347466267658, 0.5939361503060168, 0.5936824128524065, 0.6111028360217892, 0.606981095566784, 0.6008917585867412, 0.6013158326721278, 0.606311345375618]}, {\"line\": {\"shape\": \"spline\", \"smoothing\": 1.0}, \"mode\": \"lines+markers\", \"name\": \"15:group/auc\", \"type\": \"scatter\", \"x\": [\"2019-12-11T00:00:00\", \"2019-12-11T01:00:00\", \"2019-12-11T02:00:00\", \"2019-12-11T03:00:00\", \"2019-12-11T04:00:00\", \"2019-12-11T05:00:00\", \"2019-12-11T06:00:00\", \"2019-12-11T07:00:00\", \"2019-12-11T08:00:00\", \"2019-12-11T09:00:00\", \"2019-12-11T10:00:00\", \"2019-12-11T11:00:00\", \"2019-12-11T12:00:00\", \"2019-12-11T13:00:00\", \"2019-12-11T15:00:00\", \"2019-12-11T16:00:00\", \"2019-12-11T19:00:00\", \"2019-12-11T20:00:00\", \"2019-12-11T21:00:00\", \"2019-12-11T22:00:00\", \"2019-12-11T23:00:00\", \"2019-12-12T00:00:00\", \"2019-12-12T01:00:00\", \"2019-12-12T02:00:00\", \"2019-12-12T03:00:00\", \"2019-12-12T04:00:00\", \"2019-12-12T05:00:00\", \"2019-12-12T06:00:00\", \"2019-12-12T07:00:00\", \"2019-12-12T08:00:00\", \"2019-12-12T09:00:00\", \"2019-12-12T10:00:00\", \"2019-12-12T11:00:00\", \"2019-12-12T12:00:00\", \"2019-12-12T13:00:00\", \"2019-12-12T14:00:00\", \"2019-12-12T15:00:00\", \"2019-12-12T16:00:00\", \"2019-12-12T17:00:00\", \"2019-12-12T18:00:00\", \"2019-12-12T19:00:00\", \"2019-12-12T20:00:00\", \"2019-12-12T21:00:00\", \"2019-12-12T22:00:00\", \"2019-12-12T23:00:00\", \"2019-12-13T00:00:00\", \"2019-12-13T01:00:00\", \"2019-12-13T02:00:00\", \"2019-12-13T03:00:00\", \"2019-12-13T04:00:00\", \"2019-12-13T05:00:00\", \"2019-12-13T06:00:00\", \"2019-12-13T07:00:00\", \"2019-12-13T08:00:00\", \"2019-12-13T09:00:00\", \"2019-12-13T10:00:00\", \"2019-12-13T11:00:00\", \"2019-12-13T12:00:00\", \"2019-12-13T13:00:00\", \"2019-12-13T14:00:00\", \"2019-12-13T15:00:00\", \"2019-12-13T16:00:00\", \"2019-12-13T17:00:00\", \"2019-12-13T18:00:00\", \"2019-12-13T19:00:00\", \"2019-12-13T20:00:00\", \"2019-12-13T21:00:00\", \"2019-12-13T22:00:00\", \"2019-12-13T23:00:00\", \"2019-12-14T00:00:00\", \"2019-12-14T01:00:00\", \"2019-12-14T02:00:00\", \"2019-12-14T03:00:00\", \"2019-12-14T04:00:00\", \"2019-12-14T05:00:00\", \"2019-12-14T06:00:00\", \"2019-12-14T07:00:00\", \"2019-12-14T08:00:00\", \"2019-12-14T09:00:00\", \"2019-12-14T10:00:00\", \"2019-12-14T11:00:00\", \"2019-12-14T12:00:00\", \"2019-12-14T13:00:00\", \"2019-12-14T14:00:00\", \"2019-12-14T15:00:00\", \"2019-12-14T16:00:00\", \"2019-12-14T17:00:00\", \"2019-12-14T18:00:00\", \"2019-12-14T19:00:00\", \"2019-12-14T20:00:00\", \"2019-12-14T21:00:00\", \"2019-12-14T22:00:00\", \"2019-12-14T23:00:00\", \"2019-12-15T00:00:00\", \"2019-12-15T01:00:00\", \"2019-12-15T02:00:00\", \"2019-12-15T03:00:00\", \"2019-12-15T04:00:00\", \"2019-12-15T05:00:00\", \"2019-12-15T06:00:00\", \"2019-12-15T07:00:00\", \"2019-12-15T08:00:00\", \"2019-12-15T09:00:00\", \"2019-12-15T10:00:00\", \"2019-12-15T11:00:00\", \"2019-12-15T12:00:00\", \"2019-12-15T13:00:00\", \"2019-12-15T14:00:00\", \"2019-12-15T15:00:00\", \"2019-12-15T16:00:00\", \"2019-12-15T17:00:00\", \"2019-12-15T18:00:00\", \"2019-12-15T19:00:00\", \"2019-12-15T20:00:00\", \"2019-12-15T21:00:00\", \"2019-12-15T22:00:00\", \"2019-12-16T00:00:00\"], \"y\": [0.6061568871696049, 0.6073411505904711, 0.6096948650660615, 0.5933384716024517, 0.6030751757743797, 0.6120986608937181, 0.6223126641435017, 0.615286572042423, 0.5847908727986992, 0.5765406459853888, 0.5814236852608965, 0.5743517786255861, 0.573559263494675, 0.5762559946197365, 0.5365588406603099, 0.47137992961759134, 0.4493456920412985, 0.537001334924937, 0.5756636190761316, 0.588482623016471, 0.5983875228514206, 0.5898087470166743, 0.5904076067056905, 0.6077203361709985, 0.6105954730511123, 0.6003160851508501, 0.6032696693779919, 0.6115011948466504, 0.6170267523212878, 0.6163686044232718, 0.6097557558956764, 0.6149040397830772, 0.6248040207120052, 0.6172963134429069, 0.6154449942376485, 0.6168733486634632, 0.6158603193194208, 0.6222827989581379, 0.6530599553772345, 0.6549291654432992, 0.6523289760614831, 0.6417585807987893, 0.6388083037964895, 0.6379971282758456, 0.6340581903818812, 0.6398942681422486, 0.6349207511566104, 0.6272000468280341, 0.6244223986873219, 0.6351327794007878, 0.6416644076993618, 0.6446483862713615, 0.6492132483665212, 0.6249288999919949, 0.638928604455347, 0.6278484695818094, 0.628559843452795, 0.6267105866152302, 0.623181001224981, 0.6269085371121593, 0.6262387845578616, 0.6288898100331541, 0.6312773798760485, 0.6275648936823321, 0.6292172126067661, 0.624782815557074, 0.6195855767751666, 0.6171452677664603, 0.6165226126008871, 0.6143052406295733, 0.6177779190949806, 0.6141753150997753, 0.6157637976409656, 0.6136327586582971, 0.601848203000251, 0.6062823831940813, 0.6085675102221468, 0.6208900289524031, 0.6189874780443716, 0.6196051016152593, 0.619578876942391, 0.6291185848478593, 0.6267192518207387, 0.6298674897791614, 0.6192851639402555, 0.6245779031589223, 0.6277515227792883, 0.627389108058749, 0.6020482299256393, 0.59175851422218, 0.602177968329787, 0.6022799055134036, 0.6056930106516086, 0.6122918090669671, 0.6207656634964103, 0.6200005687056729, 0.6132348070810236, 0.6077703120038049, 0.6047615700399624, 0.611065713785184, 0.6147463211838162, 0.6187037546721105, 0.6154971105816882, 0.6196101432122658, 0.6255854536629055, 0.6247135906966543, 0.6272736884725282, 0.6297656666062812, 0.6359579914411815, 0.6291438864545564, 0.6255899005422216, 0.6172110116570222, 0.613694960472003, 0.6113286025391784, 0.6111133786442868, 0.6048518986491149, 0.5953558835841257]}],\n",
       "                        {\"hovermode\": \"x\", \"template\": {\"data\": {\"bar\": [{\"error_x\": {\"color\": \"#2a3f5f\"}, \"error_y\": {\"color\": \"#2a3f5f\"}, \"marker\": {\"line\": {\"color\": \"#E5ECF6\", \"width\": 0.5}}, \"type\": \"bar\"}], \"barpolar\": [{\"marker\": {\"line\": {\"color\": \"#E5ECF6\", \"width\": 0.5}}, \"type\": \"barpolar\"}], \"carpet\": [{\"aaxis\": {\"endlinecolor\": \"#2a3f5f\", \"gridcolor\": \"white\", \"linecolor\": \"white\", \"minorgridcolor\": \"white\", \"startlinecolor\": \"#2a3f5f\"}, \"baxis\": {\"endlinecolor\": \"#2a3f5f\", \"gridcolor\": \"white\", \"linecolor\": \"white\", \"minorgridcolor\": \"white\", \"startlinecolor\": \"#2a3f5f\"}, \"type\": \"carpet\"}], \"choropleth\": [{\"colorbar\": {\"outlinewidth\": 0, \"ticks\": \"\"}, \"type\": \"choropleth\"}], \"contour\": [{\"colorbar\": {\"outlinewidth\": 0, \"ticks\": \"\"}, \"colorscale\": [[0.0, \"#0d0887\"], [0.1111111111111111, \"#46039f\"], [0.2222222222222222, \"#7201a8\"], [0.3333333333333333, \"#9c179e\"], [0.4444444444444444, \"#bd3786\"], [0.5555555555555556, \"#d8576b\"], [0.6666666666666666, \"#ed7953\"], [0.7777777777777778, \"#fb9f3a\"], [0.8888888888888888, \"#fdca26\"], [1.0, \"#f0f921\"]], \"type\": \"contour\"}], \"contourcarpet\": [{\"colorbar\": {\"outlinewidth\": 0, \"ticks\": \"\"}, \"type\": \"contourcarpet\"}], \"heatmap\": [{\"colorbar\": {\"outlinewidth\": 0, \"ticks\": \"\"}, \"colorscale\": [[0.0, \"#0d0887\"], [0.1111111111111111, \"#46039f\"], [0.2222222222222222, \"#7201a8\"], [0.3333333333333333, \"#9c179e\"], [0.4444444444444444, \"#bd3786\"], [0.5555555555555556, \"#d8576b\"], [0.6666666666666666, \"#ed7953\"], [0.7777777777777778, \"#fb9f3a\"], [0.8888888888888888, \"#fdca26\"], [1.0, \"#f0f921\"]], \"type\": \"heatmap\"}], \"heatmapgl\": [{\"colorbar\": {\"outlinewidth\": 0, \"ticks\": \"\"}, \"colorscale\": [[0.0, \"#0d0887\"], [0.1111111111111111, \"#46039f\"], [0.2222222222222222, \"#7201a8\"], [0.3333333333333333, \"#9c179e\"], [0.4444444444444444, \"#bd3786\"], [0.5555555555555556, \"#d8576b\"], [0.6666666666666666, \"#ed7953\"], [0.7777777777777778, \"#fb9f3a\"], [0.8888888888888888, \"#fdca26\"], [1.0, \"#f0f921\"]], \"type\": \"heatmapgl\"}], \"histogram\": [{\"marker\": {\"colorbar\": {\"outlinewidth\": 0, \"ticks\": \"\"}}, \"type\": \"histogram\"}], \"histogram2d\": [{\"colorbar\": {\"outlinewidth\": 0, \"ticks\": \"\"}, \"colorscale\": [[0.0, \"#0d0887\"], [0.1111111111111111, \"#46039f\"], [0.2222222222222222, \"#7201a8\"], [0.3333333333333333, \"#9c179e\"], [0.4444444444444444, \"#bd3786\"], [0.5555555555555556, \"#d8576b\"], [0.6666666666666666, \"#ed7953\"], [0.7777777777777778, \"#fb9f3a\"], [0.8888888888888888, \"#fdca26\"], [1.0, \"#f0f921\"]], \"type\": \"histogram2d\"}], \"histogram2dcontour\": [{\"colorbar\": {\"outlinewidth\": 0, \"ticks\": \"\"}, \"colorscale\": [[0.0, \"#0d0887\"], [0.1111111111111111, \"#46039f\"], [0.2222222222222222, \"#7201a8\"], [0.3333333333333333, \"#9c179e\"], [0.4444444444444444, \"#bd3786\"], [0.5555555555555556, \"#d8576b\"], [0.6666666666666666, \"#ed7953\"], [0.7777777777777778, \"#fb9f3a\"], [0.8888888888888888, \"#fdca26\"], [1.0, \"#f0f921\"]], \"type\": \"histogram2dcontour\"}], \"mesh3d\": [{\"colorbar\": {\"outlinewidth\": 0, \"ticks\": \"\"}, \"type\": \"mesh3d\"}], \"parcoords\": [{\"line\": {\"colorbar\": {\"outlinewidth\": 0, \"ticks\": \"\"}}, \"type\": \"parcoords\"}], \"scatter\": [{\"marker\": {\"colorbar\": {\"outlinewidth\": 0, \"ticks\": \"\"}}, \"type\": \"scatter\"}], \"scatter3d\": [{\"line\": {\"colorbar\": {\"outlinewidth\": 0, \"ticks\": \"\"}}, \"marker\": {\"colorbar\": {\"outlinewidth\": 0, \"ticks\": \"\"}}, \"type\": \"scatter3d\"}], \"scattercarpet\": [{\"marker\": {\"colorbar\": {\"outlinewidth\": 0, \"ticks\": \"\"}}, \"type\": \"scattercarpet\"}], \"scattergeo\": [{\"marker\": {\"colorbar\": {\"outlinewidth\": 0, \"ticks\": \"\"}}, \"type\": \"scattergeo\"}], \"scattergl\": [{\"marker\": {\"colorbar\": {\"outlinewidth\": 0, \"ticks\": \"\"}}, \"type\": \"scattergl\"}], \"scattermapbox\": [{\"marker\": {\"colorbar\": {\"outlinewidth\": 0, \"ticks\": \"\"}}, \"type\": \"scattermapbox\"}], \"scatterpolar\": [{\"marker\": {\"colorbar\": {\"outlinewidth\": 0, \"ticks\": \"\"}}, \"type\": \"scatterpolar\"}], \"scatterpolargl\": [{\"marker\": {\"colorbar\": {\"outlinewidth\": 0, \"ticks\": \"\"}}, \"type\": \"scatterpolargl\"}], \"scatterternary\": [{\"marker\": {\"colorbar\": {\"outlinewidth\": 0, \"ticks\": \"\"}}, \"type\": \"scatterternary\"}], \"surface\": [{\"colorbar\": {\"outlinewidth\": 0, \"ticks\": \"\"}, \"colorscale\": [[0.0, \"#0d0887\"], [0.1111111111111111, \"#46039f\"], [0.2222222222222222, \"#7201a8\"], [0.3333333333333333, \"#9c179e\"], [0.4444444444444444, \"#bd3786\"], [0.5555555555555556, \"#d8576b\"], [0.6666666666666666, \"#ed7953\"], [0.7777777777777778, \"#fb9f3a\"], [0.8888888888888888, \"#fdca26\"], [1.0, \"#f0f921\"]], \"type\": \"surface\"}], \"table\": [{\"cells\": {\"fill\": {\"color\": \"#EBF0F8\"}, \"line\": {\"color\": \"white\"}}, \"header\": {\"fill\": {\"color\": \"#C8D4E3\"}, \"line\": {\"color\": \"white\"}}, \"type\": \"table\"}]}, \"layout\": {\"annotationdefaults\": {\"arrowcolor\": \"#2a3f5f\", \"arrowhead\": 0, \"arrowwidth\": 1}, \"colorscale\": {\"diverging\": [[0, \"#8e0152\"], [0.1, \"#c51b7d\"], [0.2, \"#de77ae\"], [0.3, \"#f1b6da\"], [0.4, \"#fde0ef\"], [0.5, \"#f7f7f7\"], [0.6, \"#e6f5d0\"], [0.7, \"#b8e186\"], [0.8, \"#7fbc41\"], [0.9, \"#4d9221\"], [1, \"#276419\"]], \"sequential\": [[0.0, \"#0d0887\"], [0.1111111111111111, \"#46039f\"], [0.2222222222222222, \"#7201a8\"], [0.3333333333333333, \"#9c179e\"], [0.4444444444444444, \"#bd3786\"], [0.5555555555555556, \"#d8576b\"], [0.6666666666666666, \"#ed7953\"], [0.7777777777777778, \"#fb9f3a\"], [0.8888888888888888, \"#fdca26\"], [1.0, \"#f0f921\"]], \"sequentialminus\": [[0.0, \"#0d0887\"], [0.1111111111111111, \"#46039f\"], [0.2222222222222222, \"#7201a8\"], [0.3333333333333333, \"#9c179e\"], [0.4444444444444444, \"#bd3786\"], [0.5555555555555556, \"#d8576b\"], [0.6666666666666666, \"#ed7953\"], [0.7777777777777778, \"#fb9f3a\"], [0.8888888888888888, \"#fdca26\"], [1.0, \"#f0f921\"]]}, \"colorway\": [\"#636efa\", \"#EF553B\", \"#00cc96\", \"#ab63fa\", \"#FFA15A\", \"#19d3f3\", \"#FF6692\", \"#B6E880\", \"#FF97FF\", \"#FECB52\"], \"font\": {\"color\": \"#2a3f5f\"}, \"geo\": {\"bgcolor\": \"white\", \"lakecolor\": \"white\", \"landcolor\": \"#E5ECF6\", \"showlakes\": true, \"showland\": true, \"subunitcolor\": \"white\"}, \"hoverlabel\": {\"align\": \"left\"}, \"hovermode\": \"closest\", \"mapbox\": {\"style\": \"light\"}, \"paper_bgcolor\": \"white\", \"plot_bgcolor\": \"#E5ECF6\", \"polar\": {\"angularaxis\": {\"gridcolor\": \"white\", \"linecolor\": \"white\", \"ticks\": \"\"}, \"bgcolor\": \"#E5ECF6\", \"radialaxis\": {\"gridcolor\": \"white\", \"linecolor\": \"white\", \"ticks\": \"\"}}, \"scene\": {\"xaxis\": {\"backgroundcolor\": \"#E5ECF6\", \"gridcolor\": \"white\", \"gridwidth\": 2, \"linecolor\": \"white\", \"showbackground\": true, \"ticks\": \"\", \"zerolinecolor\": \"white\"}, \"yaxis\": {\"backgroundcolor\": \"#E5ECF6\", \"gridcolor\": \"white\", \"gridwidth\": 2, \"linecolor\": \"white\", \"showbackground\": true, \"ticks\": \"\", \"zerolinecolor\": \"white\"}, \"zaxis\": {\"backgroundcolor\": \"#E5ECF6\", \"gridcolor\": \"white\", \"gridwidth\": 2, \"linecolor\": \"white\", \"showbackground\": true, \"ticks\": \"\", \"zerolinecolor\": \"white\"}}, \"shapedefaults\": {\"line\": {\"color\": \"#2a3f5f\"}}, \"ternary\": {\"aaxis\": {\"gridcolor\": \"white\", \"linecolor\": \"white\", \"ticks\": \"\"}, \"baxis\": {\"gridcolor\": \"white\", \"linecolor\": \"white\", \"ticks\": \"\"}, \"bgcolor\": \"#E5ECF6\", \"caxis\": {\"gridcolor\": \"white\", \"linecolor\": \"white\", \"ticks\": \"\"}}, \"title\": {\"x\": 0.05}, \"xaxis\": {\"automargin\": true, \"gridcolor\": \"white\", \"linecolor\": \"white\", \"ticks\": \"\", \"zerolinecolor\": \"white\", \"zerolinewidth\": 2}, \"yaxis\": {\"automargin\": true, \"gridcolor\": \"white\", \"linecolor\": \"white\", \"ticks\": \"\", \"zerolinecolor\": \"white\", \"zerolinewidth\": 2}}}, \"title\": {\"text\": \"tuwen:group/auc\"}, \"xaxis\": {\"type\": \"date\"}},\n",
       "                        {\"responsive\": true}\n",
       "                    ).then(function(){\n",
       "                            \n",
       "var gd = document.getElementById('4bdc5e94-89a0-43bc-a9c5-5891426021ae');\n",
       "var x = new MutationObserver(function (mutations, observer) {{\n",
       "        var display = window.getComputedStyle(gd).display;\n",
       "        if (!display || display === 'none') {{\n",
       "            console.log([gd, 'removed!']);\n",
       "            Plotly.purge(gd);\n",
       "            observer.disconnect();\n",
       "        }}\n",
       "}});\n",
       "\n",
       "// Listen for the removal of the full notebook cells\n",
       "var notebookContainer = gd.closest('#notebook-container');\n",
       "if (notebookContainer) {{\n",
       "    x.observe(notebookContainer, {childList: true});\n",
       "}}\n",
       "\n",
       "// Listen for the clearing of the current output cell\n",
       "var outputEl = gd.closest('.output');\n",
       "if (outputEl) {{\n",
       "    x.observe(outputEl, {childList: true});\n",
       "}}\n",
       "\n",
       "                        })\n",
       "                };\n",
       "                });\n",
       "            </script>\n",
       "        </div>"
      ]
     },
     "metadata": {},
     "output_type": "display_data"
    }
   ],
   "source": [
    "compare(df, 'group/auc')"
   ]
  },
  {
   "cell_type": "code",
   "execution_count": 25,
   "metadata": {},
   "outputs": [
    {
     "data": {
      "application/vnd.plotly.v1+json": {
       "config": {
        "linkText": "Export to plot.ly",
        "plotlyServerURL": "https://plot.ly",
        "showLink": false
       },
       "data": [
        {
         "line": {
          "shape": "spline",
          "smoothing": 1
         },
         "mode": "lines+markers",
         "name": "456:stats/time_per_user",
         "type": "scatter",
         "x": [
          "2019-12-11T00:00:00",
          "2019-12-11T01:00:00",
          "2019-12-11T02:00:00",
          "2019-12-11T03:00:00",
          "2019-12-11T04:00:00",
          "2019-12-11T05:00:00",
          "2019-12-11T06:00:00",
          "2019-12-11T07:00:00",
          "2019-12-11T08:00:00",
          "2019-12-11T09:00:00",
          "2019-12-11T10:00:00",
          "2019-12-11T11:00:00",
          "2019-12-11T12:00:00",
          "2019-12-11T13:00:00",
          "2019-12-11T15:00:00",
          "2019-12-11T16:00:00",
          "2019-12-11T19:00:00",
          "2019-12-11T20:00:00",
          "2019-12-11T21:00:00",
          "2019-12-11T22:00:00",
          "2019-12-11T23:00:00",
          "2019-12-12T00:00:00",
          "2019-12-12T01:00:00",
          "2019-12-12T02:00:00",
          "2019-12-12T03:00:00",
          "2019-12-12T04:00:00",
          "2019-12-12T05:00:00",
          "2019-12-12T06:00:00",
          "2019-12-12T07:00:00",
          "2019-12-12T08:00:00",
          "2019-12-12T09:00:00",
          "2019-12-12T10:00:00",
          "2019-12-12T11:00:00",
          "2019-12-12T12:00:00",
          "2019-12-12T13:00:00",
          "2019-12-12T14:00:00",
          "2019-12-12T15:00:00",
          "2019-12-12T16:00:00",
          "2019-12-12T17:00:00",
          "2019-12-12T18:00:00",
          "2019-12-12T19:00:00",
          "2019-12-12T20:00:00",
          "2019-12-12T21:00:00",
          "2019-12-12T22:00:00",
          "2019-12-12T23:00:00",
          "2019-12-13T00:00:00",
          "2019-12-13T01:00:00",
          "2019-12-13T02:00:00",
          "2019-12-13T03:00:00",
          "2019-12-13T04:00:00",
          "2019-12-13T05:00:00",
          "2019-12-13T06:00:00",
          "2019-12-13T07:00:00",
          "2019-12-13T08:00:00",
          "2019-12-13T09:00:00",
          "2019-12-13T10:00:00",
          "2019-12-13T11:00:00",
          "2019-12-13T12:00:00",
          "2019-12-13T13:00:00",
          "2019-12-13T14:00:00",
          "2019-12-13T15:00:00",
          "2019-12-13T16:00:00",
          "2019-12-13T17:00:00",
          "2019-12-13T18:00:00",
          "2019-12-13T19:00:00",
          "2019-12-13T20:00:00",
          "2019-12-13T21:00:00",
          "2019-12-13T22:00:00",
          "2019-12-13T23:00:00",
          "2019-12-14T00:00:00",
          "2019-12-14T01:00:00",
          "2019-12-14T02:00:00",
          "2019-12-14T03:00:00",
          "2019-12-14T04:00:00",
          "2019-12-14T05:00:00",
          "2019-12-14T06:00:00",
          "2019-12-14T07:00:00",
          "2019-12-14T08:00:00",
          "2019-12-14T09:00:00",
          "2019-12-14T10:00:00",
          "2019-12-14T11:00:00",
          "2019-12-14T12:00:00",
          "2019-12-14T13:00:00",
          "2019-12-14T14:00:00",
          "2019-12-14T15:00:00",
          "2019-12-14T16:00:00",
          "2019-12-14T17:00:00",
          "2019-12-14T18:00:00",
          "2019-12-14T19:00:00",
          "2019-12-14T20:00:00",
          "2019-12-14T21:00:00",
          "2019-12-14T22:00:00",
          "2019-12-14T23:00:00",
          "2019-12-15T00:00:00",
          "2019-12-15T01:00:00",
          "2019-12-15T02:00:00",
          "2019-12-15T03:00:00",
          "2019-12-15T04:00:00",
          "2019-12-15T05:00:00",
          "2019-12-15T06:00:00",
          "2019-12-15T07:00:00",
          "2019-12-15T08:00:00",
          "2019-12-15T09:00:00",
          "2019-12-15T10:00:00",
          "2019-12-15T11:00:00",
          "2019-12-15T12:00:00",
          "2019-12-15T13:00:00",
          "2019-12-15T14:00:00",
          "2019-12-15T15:00:00",
          "2019-12-15T16:00:00",
          "2019-12-15T17:00:00",
          "2019-12-15T18:00:00",
          "2019-12-15T19:00:00",
          "2019-12-15T20:00:00",
          "2019-12-15T21:00:00",
          "2019-12-15T22:00:00",
          "2019-12-16T00:00:00"
         ],
         "y": [
          166.7145275316141,
          167.23391746095677,
          161.67865923530522,
          159.46084746471394,
          165.95619474665955,
          169.24625459563993,
          173.14562344606793,
          163.5238178982167,
          162.95263782152878,
          160.44066700979963,
          159.50663412500916,
          150.78861155225127,
          155.10705941831682,
          155.78832890431303,
          86.75927692552874,
          47.4844037188982,
          40.11922996031645,
          124.10341493660383,
          174.0292460289723,
          192.9091653890559,
          193.1371651465406,
          183.7030162828315,
          181.53386305962215,
          172.8465152510968,
          180.39523555864724,
          177.3405342988696,
          191.3404290864764,
          193.65228869971833,
          183.01619133472266,
          179.61727639889077,
          173.6489360268286,
          170.2117256971054,
          164.76001342807837,
          168.45748243396434,
          168.4858738456335,
          171.90177235410627,
          172.5945882326454,
          174.92981436265893,
          169.9752744111169,
          169.92663807061905,
          178.19629860533252,
          183.8742843797561,
          192.13881825244005,
          202.59111640035803,
          206.54383584323597,
          202.08727152178568,
          192.64482912681848,
          187.52297646506798,
          186.15817124467856,
          196.75282937086644,
          206.25747028812134,
          172.94084511741517,
          187.9455453842285,
          91.01375661522987,
          151.51869430879816,
          165.46018930938615,
          161.7225257797316,
          167.23924058515024,
          173.3061998134232,
          174.44402597800087,
          174.0160493747245,
          171.40513656102897,
          165.75613026249147,
          168.59415129530356,
          171.9845110244433,
          182.15879604360902,
          192.82269749267874,
          205.67849816454486,
          207.9358491653939,
          199.08287421074277,
          192.36450628361484,
          184.1181218144785,
          186.38850852847293,
          185.96985932878394,
          200.44875533708108,
          207.3806742642008,
          206.08715532659534,
          197.5005505477471,
          189.93947681536258,
          181.45405943669508,
          173.52014568442297,
          172.25678520428625,
          176.68811945491996,
          180.554465573379,
          179.90959933772274,
          177.4253423257627,
          174.22476694640432,
          153.2974730680399,
          79.51693577510015,
          50.188977053942494,
          59.518162188359,
          63.246108904242874,
          71.16338911412588,
          88.85381985690817,
          151.25257650011727,
          176.25247020678847,
          192.0566818626197,
          206.63066021568218,
          219.20739701854535,
          222.5696411287868,
          215.93184771848615,
          208.7174540552657,
          199.9597913253564,
          191.9251010326174,
          179.89061488456542,
          176.76567309647112,
          181.56379954245733,
          184.18445373363042,
          118.99907617944251,
          147.80482464357485,
          136.99663131953747,
          71.507452098131,
          99.96265312944804,
          73.00533052055393,
          63.38631155541636,
          62.77404189947163,
          51.37061957669006
         ]
        },
        {
         "line": {
          "shape": "spline",
          "smoothing": 1
         },
         "mode": "lines+markers",
         "name": "15:stats/time_per_user",
         "type": "scatter",
         "x": [
          "2019-12-11T00:00:00",
          "2019-12-11T01:00:00",
          "2019-12-11T02:00:00",
          "2019-12-11T03:00:00",
          "2019-12-11T04:00:00",
          "2019-12-11T05:00:00",
          "2019-12-11T06:00:00",
          "2019-12-11T07:00:00",
          "2019-12-11T08:00:00",
          "2019-12-11T09:00:00",
          "2019-12-11T10:00:00",
          "2019-12-11T11:00:00",
          "2019-12-11T12:00:00",
          "2019-12-11T13:00:00",
          "2019-12-11T15:00:00",
          "2019-12-11T16:00:00",
          "2019-12-11T19:00:00",
          "2019-12-11T20:00:00",
          "2019-12-11T21:00:00",
          "2019-12-11T22:00:00",
          "2019-12-11T23:00:00",
          "2019-12-12T00:00:00",
          "2019-12-12T01:00:00",
          "2019-12-12T02:00:00",
          "2019-12-12T03:00:00",
          "2019-12-12T04:00:00",
          "2019-12-12T05:00:00",
          "2019-12-12T06:00:00",
          "2019-12-12T07:00:00",
          "2019-12-12T08:00:00",
          "2019-12-12T09:00:00",
          "2019-12-12T10:00:00",
          "2019-12-12T11:00:00",
          "2019-12-12T12:00:00",
          "2019-12-12T13:00:00",
          "2019-12-12T14:00:00",
          "2019-12-12T15:00:00",
          "2019-12-12T16:00:00",
          "2019-12-12T17:00:00",
          "2019-12-12T18:00:00",
          "2019-12-12T19:00:00",
          "2019-12-12T20:00:00",
          "2019-12-12T21:00:00",
          "2019-12-12T22:00:00",
          "2019-12-12T23:00:00",
          "2019-12-13T00:00:00",
          "2019-12-13T01:00:00",
          "2019-12-13T02:00:00",
          "2019-12-13T03:00:00",
          "2019-12-13T04:00:00",
          "2019-12-13T05:00:00",
          "2019-12-13T06:00:00",
          "2019-12-13T07:00:00",
          "2019-12-13T08:00:00",
          "2019-12-13T09:00:00",
          "2019-12-13T10:00:00",
          "2019-12-13T11:00:00",
          "2019-12-13T12:00:00",
          "2019-12-13T13:00:00",
          "2019-12-13T14:00:00",
          "2019-12-13T15:00:00",
          "2019-12-13T16:00:00",
          "2019-12-13T17:00:00",
          "2019-12-13T18:00:00",
          "2019-12-13T19:00:00",
          "2019-12-13T20:00:00",
          "2019-12-13T21:00:00",
          "2019-12-13T22:00:00",
          "2019-12-13T23:00:00",
          "2019-12-14T00:00:00",
          "2019-12-14T01:00:00",
          "2019-12-14T02:00:00",
          "2019-12-14T03:00:00",
          "2019-12-14T04:00:00",
          "2019-12-14T05:00:00",
          "2019-12-14T06:00:00",
          "2019-12-14T07:00:00",
          "2019-12-14T08:00:00",
          "2019-12-14T09:00:00",
          "2019-12-14T10:00:00",
          "2019-12-14T11:00:00",
          "2019-12-14T12:00:00",
          "2019-12-14T13:00:00",
          "2019-12-14T14:00:00",
          "2019-12-14T15:00:00",
          "2019-12-14T16:00:00",
          "2019-12-14T17:00:00",
          "2019-12-14T18:00:00",
          "2019-12-14T19:00:00",
          "2019-12-14T20:00:00",
          "2019-12-14T21:00:00",
          "2019-12-14T22:00:00",
          "2019-12-14T23:00:00",
          "2019-12-15T00:00:00",
          "2019-12-15T01:00:00",
          "2019-12-15T02:00:00",
          "2019-12-15T03:00:00",
          "2019-12-15T04:00:00",
          "2019-12-15T05:00:00",
          "2019-12-15T06:00:00",
          "2019-12-15T07:00:00",
          "2019-12-15T08:00:00",
          "2019-12-15T09:00:00",
          "2019-12-15T10:00:00",
          "2019-12-15T11:00:00",
          "2019-12-15T12:00:00",
          "2019-12-15T13:00:00",
          "2019-12-15T14:00:00",
          "2019-12-15T15:00:00",
          "2019-12-15T16:00:00",
          "2019-12-15T17:00:00",
          "2019-12-15T18:00:00",
          "2019-12-15T19:00:00",
          "2019-12-15T20:00:00",
          "2019-12-15T21:00:00",
          "2019-12-15T22:00:00",
          "2019-12-16T00:00:00"
         ],
         "y": [
          183.1342981186686,
          175.5151954860923,
          176.91348303872758,
          169.21958040760927,
          173.36820758966485,
          179.10857335844656,
          178.04858936950535,
          167.8477969518155,
          165.1470242587069,
          159.35584080621604,
          154.44100539534904,
          151.25537955091374,
          156.69713352449514,
          158.39319097785614,
          89.00529981720395,
          48.236612355372884,
          40.354574790153166,
          116.53689275268606,
          162.3228238391733,
          190.59573603386428,
          196.66675581094162,
          179.2285138983213,
          176.01877683304127,
          184.55033040534767,
          186.69530835634424,
          171.92009865117967,
          180.85201736102434,
          195.98827587438853,
          184.65869063144555,
          184.21833482483143,
          178.33730097014353,
          169.35605440867596,
          161.51761260316505,
          166.7337075255822,
          170.3400739193238,
          173.76067821637815,
          172.27605936602146,
          172.02485830251885,
          166.2780693825286,
          171.0518187327937,
          177.27636409789204,
          184.04506658282554,
          192.37853698010392,
          201.4638230954597,
          199.44303652681361,
          191.996720462481,
          192.66523413338535,
          174.74190010496704,
          178.36305925458527,
          207.54522370183412,
          211.5982212041145,
          173.83598418606155,
          188.11881990393283,
          92.74748912662167,
          145.5207992578631,
          158.59924536650357,
          158.965447314193,
          166.61918745186478,
          174.42042298530694,
          173.19883194580063,
          171.85860106166422,
          169.77549488011124,
          168.57029357543544,
          172.63634549435994,
          184.5981380015694,
          192.46276224957438,
          201.38163380113878,
          200.41489662086656,
          202.81206456734972,
          192.33904826788478,
          184.09341522552126,
          176.82840551673178,
          176.63606721042683,
          185.35366118738665,
          201.28027467325495,
          195.81829240119595,
          189.11958237875643,
          184.3865286853872,
          183.83785615500597,
          180.2204737526956,
          170.62052655545347,
          165.64075489058774,
          171.64424039574834,
          171.63385609794477,
          170.3985067532144,
          168.0608469531633,
          163.50980461977463,
          145.8813709845144,
          75.60283630167524,
          47.85319608730053,
          55.613133549947136,
          61.262073139650184,
          69.34060941078445,
          84.76640434146063,
          144.31800241455034,
          165.46725373626867,
          172.49546441334587,
          187.2377462048988,
          206.17075168861032,
          217.6914614383869,
          208.92809041432218,
          206.87504837893044,
          196.27125780893232,
          187.8802196166868,
          179.49483232617,
          177.07357339942155,
          172.41788837616207,
          175.74039598129409,
          114.57232518670281,
          153.16887635937226,
          141.48018772366245,
          74.49683222516853,
          100.35855878076546,
          71.32334671581688,
          61.02562867951941,
          61.99145447932656,
          49.51485198951809
         ]
        }
       ],
       "layout": {
        "hovermode": "x",
        "template": {
         "data": {
          "bar": [
           {
            "error_x": {
             "color": "#2a3f5f"
            },
            "error_y": {
             "color": "#2a3f5f"
            },
            "marker": {
             "line": {
              "color": "#E5ECF6",
              "width": 0.5
             }
            },
            "type": "bar"
           }
          ],
          "barpolar": [
           {
            "marker": {
             "line": {
              "color": "#E5ECF6",
              "width": 0.5
             }
            },
            "type": "barpolar"
           }
          ],
          "carpet": [
           {
            "aaxis": {
             "endlinecolor": "#2a3f5f",
             "gridcolor": "white",
             "linecolor": "white",
             "minorgridcolor": "white",
             "startlinecolor": "#2a3f5f"
            },
            "baxis": {
             "endlinecolor": "#2a3f5f",
             "gridcolor": "white",
             "linecolor": "white",
             "minorgridcolor": "white",
             "startlinecolor": "#2a3f5f"
            },
            "type": "carpet"
           }
          ],
          "choropleth": [
           {
            "colorbar": {
             "outlinewidth": 0,
             "ticks": ""
            },
            "type": "choropleth"
           }
          ],
          "contour": [
           {
            "colorbar": {
             "outlinewidth": 0,
             "ticks": ""
            },
            "colorscale": [
             [
              0,
              "#0d0887"
             ],
             [
              0.1111111111111111,
              "#46039f"
             ],
             [
              0.2222222222222222,
              "#7201a8"
             ],
             [
              0.3333333333333333,
              "#9c179e"
             ],
             [
              0.4444444444444444,
              "#bd3786"
             ],
             [
              0.5555555555555556,
              "#d8576b"
             ],
             [
              0.6666666666666666,
              "#ed7953"
             ],
             [
              0.7777777777777778,
              "#fb9f3a"
             ],
             [
              0.8888888888888888,
              "#fdca26"
             ],
             [
              1,
              "#f0f921"
             ]
            ],
            "type": "contour"
           }
          ],
          "contourcarpet": [
           {
            "colorbar": {
             "outlinewidth": 0,
             "ticks": ""
            },
            "type": "contourcarpet"
           }
          ],
          "heatmap": [
           {
            "colorbar": {
             "outlinewidth": 0,
             "ticks": ""
            },
            "colorscale": [
             [
              0,
              "#0d0887"
             ],
             [
              0.1111111111111111,
              "#46039f"
             ],
             [
              0.2222222222222222,
              "#7201a8"
             ],
             [
              0.3333333333333333,
              "#9c179e"
             ],
             [
              0.4444444444444444,
              "#bd3786"
             ],
             [
              0.5555555555555556,
              "#d8576b"
             ],
             [
              0.6666666666666666,
              "#ed7953"
             ],
             [
              0.7777777777777778,
              "#fb9f3a"
             ],
             [
              0.8888888888888888,
              "#fdca26"
             ],
             [
              1,
              "#f0f921"
             ]
            ],
            "type": "heatmap"
           }
          ],
          "heatmapgl": [
           {
            "colorbar": {
             "outlinewidth": 0,
             "ticks": ""
            },
            "colorscale": [
             [
              0,
              "#0d0887"
             ],
             [
              0.1111111111111111,
              "#46039f"
             ],
             [
              0.2222222222222222,
              "#7201a8"
             ],
             [
              0.3333333333333333,
              "#9c179e"
             ],
             [
              0.4444444444444444,
              "#bd3786"
             ],
             [
              0.5555555555555556,
              "#d8576b"
             ],
             [
              0.6666666666666666,
              "#ed7953"
             ],
             [
              0.7777777777777778,
              "#fb9f3a"
             ],
             [
              0.8888888888888888,
              "#fdca26"
             ],
             [
              1,
              "#f0f921"
             ]
            ],
            "type": "heatmapgl"
           }
          ],
          "histogram": [
           {
            "marker": {
             "colorbar": {
              "outlinewidth": 0,
              "ticks": ""
             }
            },
            "type": "histogram"
           }
          ],
          "histogram2d": [
           {
            "colorbar": {
             "outlinewidth": 0,
             "ticks": ""
            },
            "colorscale": [
             [
              0,
              "#0d0887"
             ],
             [
              0.1111111111111111,
              "#46039f"
             ],
             [
              0.2222222222222222,
              "#7201a8"
             ],
             [
              0.3333333333333333,
              "#9c179e"
             ],
             [
              0.4444444444444444,
              "#bd3786"
             ],
             [
              0.5555555555555556,
              "#d8576b"
             ],
             [
              0.6666666666666666,
              "#ed7953"
             ],
             [
              0.7777777777777778,
              "#fb9f3a"
             ],
             [
              0.8888888888888888,
              "#fdca26"
             ],
             [
              1,
              "#f0f921"
             ]
            ],
            "type": "histogram2d"
           }
          ],
          "histogram2dcontour": [
           {
            "colorbar": {
             "outlinewidth": 0,
             "ticks": ""
            },
            "colorscale": [
             [
              0,
              "#0d0887"
             ],
             [
              0.1111111111111111,
              "#46039f"
             ],
             [
              0.2222222222222222,
              "#7201a8"
             ],
             [
              0.3333333333333333,
              "#9c179e"
             ],
             [
              0.4444444444444444,
              "#bd3786"
             ],
             [
              0.5555555555555556,
              "#d8576b"
             ],
             [
              0.6666666666666666,
              "#ed7953"
             ],
             [
              0.7777777777777778,
              "#fb9f3a"
             ],
             [
              0.8888888888888888,
              "#fdca26"
             ],
             [
              1,
              "#f0f921"
             ]
            ],
            "type": "histogram2dcontour"
           }
          ],
          "mesh3d": [
           {
            "colorbar": {
             "outlinewidth": 0,
             "ticks": ""
            },
            "type": "mesh3d"
           }
          ],
          "parcoords": [
           {
            "line": {
             "colorbar": {
              "outlinewidth": 0,
              "ticks": ""
             }
            },
            "type": "parcoords"
           }
          ],
          "scatter": [
           {
            "marker": {
             "colorbar": {
              "outlinewidth": 0,
              "ticks": ""
             }
            },
            "type": "scatter"
           }
          ],
          "scatter3d": [
           {
            "line": {
             "colorbar": {
              "outlinewidth": 0,
              "ticks": ""
             }
            },
            "marker": {
             "colorbar": {
              "outlinewidth": 0,
              "ticks": ""
             }
            },
            "type": "scatter3d"
           }
          ],
          "scattercarpet": [
           {
            "marker": {
             "colorbar": {
              "outlinewidth": 0,
              "ticks": ""
             }
            },
            "type": "scattercarpet"
           }
          ],
          "scattergeo": [
           {
            "marker": {
             "colorbar": {
              "outlinewidth": 0,
              "ticks": ""
             }
            },
            "type": "scattergeo"
           }
          ],
          "scattergl": [
           {
            "marker": {
             "colorbar": {
              "outlinewidth": 0,
              "ticks": ""
             }
            },
            "type": "scattergl"
           }
          ],
          "scattermapbox": [
           {
            "marker": {
             "colorbar": {
              "outlinewidth": 0,
              "ticks": ""
             }
            },
            "type": "scattermapbox"
           }
          ],
          "scatterpolar": [
           {
            "marker": {
             "colorbar": {
              "outlinewidth": 0,
              "ticks": ""
             }
            },
            "type": "scatterpolar"
           }
          ],
          "scatterpolargl": [
           {
            "marker": {
             "colorbar": {
              "outlinewidth": 0,
              "ticks": ""
             }
            },
            "type": "scatterpolargl"
           }
          ],
          "scatterternary": [
           {
            "marker": {
             "colorbar": {
              "outlinewidth": 0,
              "ticks": ""
             }
            },
            "type": "scatterternary"
           }
          ],
          "surface": [
           {
            "colorbar": {
             "outlinewidth": 0,
             "ticks": ""
            },
            "colorscale": [
             [
              0,
              "#0d0887"
             ],
             [
              0.1111111111111111,
              "#46039f"
             ],
             [
              0.2222222222222222,
              "#7201a8"
             ],
             [
              0.3333333333333333,
              "#9c179e"
             ],
             [
              0.4444444444444444,
              "#bd3786"
             ],
             [
              0.5555555555555556,
              "#d8576b"
             ],
             [
              0.6666666666666666,
              "#ed7953"
             ],
             [
              0.7777777777777778,
              "#fb9f3a"
             ],
             [
              0.8888888888888888,
              "#fdca26"
             ],
             [
              1,
              "#f0f921"
             ]
            ],
            "type": "surface"
           }
          ],
          "table": [
           {
            "cells": {
             "fill": {
              "color": "#EBF0F8"
             },
             "line": {
              "color": "white"
             }
            },
            "header": {
             "fill": {
              "color": "#C8D4E3"
             },
             "line": {
              "color": "white"
             }
            },
            "type": "table"
           }
          ]
         },
         "layout": {
          "annotationdefaults": {
           "arrowcolor": "#2a3f5f",
           "arrowhead": 0,
           "arrowwidth": 1
          },
          "colorscale": {
           "diverging": [
            [
             0,
             "#8e0152"
            ],
            [
             0.1,
             "#c51b7d"
            ],
            [
             0.2,
             "#de77ae"
            ],
            [
             0.3,
             "#f1b6da"
            ],
            [
             0.4,
             "#fde0ef"
            ],
            [
             0.5,
             "#f7f7f7"
            ],
            [
             0.6,
             "#e6f5d0"
            ],
            [
             0.7,
             "#b8e186"
            ],
            [
             0.8,
             "#7fbc41"
            ],
            [
             0.9,
             "#4d9221"
            ],
            [
             1,
             "#276419"
            ]
           ],
           "sequential": [
            [
             0,
             "#0d0887"
            ],
            [
             0.1111111111111111,
             "#46039f"
            ],
            [
             0.2222222222222222,
             "#7201a8"
            ],
            [
             0.3333333333333333,
             "#9c179e"
            ],
            [
             0.4444444444444444,
             "#bd3786"
            ],
            [
             0.5555555555555556,
             "#d8576b"
            ],
            [
             0.6666666666666666,
             "#ed7953"
            ],
            [
             0.7777777777777778,
             "#fb9f3a"
            ],
            [
             0.8888888888888888,
             "#fdca26"
            ],
            [
             1,
             "#f0f921"
            ]
           ],
           "sequentialminus": [
            [
             0,
             "#0d0887"
            ],
            [
             0.1111111111111111,
             "#46039f"
            ],
            [
             0.2222222222222222,
             "#7201a8"
            ],
            [
             0.3333333333333333,
             "#9c179e"
            ],
            [
             0.4444444444444444,
             "#bd3786"
            ],
            [
             0.5555555555555556,
             "#d8576b"
            ],
            [
             0.6666666666666666,
             "#ed7953"
            ],
            [
             0.7777777777777778,
             "#fb9f3a"
            ],
            [
             0.8888888888888888,
             "#fdca26"
            ],
            [
             1,
             "#f0f921"
            ]
           ]
          },
          "colorway": [
           "#636efa",
           "#EF553B",
           "#00cc96",
           "#ab63fa",
           "#FFA15A",
           "#19d3f3",
           "#FF6692",
           "#B6E880",
           "#FF97FF",
           "#FECB52"
          ],
          "font": {
           "color": "#2a3f5f"
          },
          "geo": {
           "bgcolor": "white",
           "lakecolor": "white",
           "landcolor": "#E5ECF6",
           "showlakes": true,
           "showland": true,
           "subunitcolor": "white"
          },
          "hoverlabel": {
           "align": "left"
          },
          "hovermode": "closest",
          "mapbox": {
           "style": "light"
          },
          "paper_bgcolor": "white",
          "plot_bgcolor": "#E5ECF6",
          "polar": {
           "angularaxis": {
            "gridcolor": "white",
            "linecolor": "white",
            "ticks": ""
           },
           "bgcolor": "#E5ECF6",
           "radialaxis": {
            "gridcolor": "white",
            "linecolor": "white",
            "ticks": ""
           }
          },
          "scene": {
           "xaxis": {
            "backgroundcolor": "#E5ECF6",
            "gridcolor": "white",
            "gridwidth": 2,
            "linecolor": "white",
            "showbackground": true,
            "ticks": "",
            "zerolinecolor": "white"
           },
           "yaxis": {
            "backgroundcolor": "#E5ECF6",
            "gridcolor": "white",
            "gridwidth": 2,
            "linecolor": "white",
            "showbackground": true,
            "ticks": "",
            "zerolinecolor": "white"
           },
           "zaxis": {
            "backgroundcolor": "#E5ECF6",
            "gridcolor": "white",
            "gridwidth": 2,
            "linecolor": "white",
            "showbackground": true,
            "ticks": "",
            "zerolinecolor": "white"
           }
          },
          "shapedefaults": {
           "line": {
            "color": "#2a3f5f"
           }
          },
          "ternary": {
           "aaxis": {
            "gridcolor": "white",
            "linecolor": "white",
            "ticks": ""
           },
           "baxis": {
            "gridcolor": "white",
            "linecolor": "white",
            "ticks": ""
           },
           "bgcolor": "#E5ECF6",
           "caxis": {
            "gridcolor": "white",
            "linecolor": "white",
            "ticks": ""
           }
          },
          "title": {
           "x": 0.05
          },
          "xaxis": {
           "automargin": true,
           "gridcolor": "white",
           "linecolor": "white",
           "ticks": "",
           "zerolinecolor": "white",
           "zerolinewidth": 2
          },
          "yaxis": {
           "automargin": true,
           "gridcolor": "white",
           "linecolor": "white",
           "ticks": "",
           "zerolinecolor": "white",
           "zerolinewidth": 2
          }
         }
        },
        "title": {
         "text": "tuwen:stats/time_per_user"
        },
        "xaxis": {
         "type": "date"
        }
       }
      },
      "text/html": [
       "<div>\n",
       "        \n",
       "        \n",
       "            <div id=\"f31beadb-be46-4948-8449-a42c4bbb5cb6\" class=\"plotly-graph-div\" style=\"height:525px; width:100%;\"></div>\n",
       "            <script type=\"text/javascript\">\n",
       "                require([\"plotly\"], function(Plotly) {\n",
       "                    window.PLOTLYENV=window.PLOTLYENV || {};\n",
       "                    \n",
       "                if (document.getElementById(\"f31beadb-be46-4948-8449-a42c4bbb5cb6\")) {\n",
       "                    Plotly.newPlot(\n",
       "                        'f31beadb-be46-4948-8449-a42c4bbb5cb6',\n",
       "                        [{\"line\": {\"shape\": \"spline\", \"smoothing\": 1.0}, \"mode\": \"lines+markers\", \"name\": \"456:stats/time_per_user\", \"type\": \"scatter\", \"x\": [\"2019-12-11T00:00:00\", \"2019-12-11T01:00:00\", \"2019-12-11T02:00:00\", \"2019-12-11T03:00:00\", \"2019-12-11T04:00:00\", \"2019-12-11T05:00:00\", \"2019-12-11T06:00:00\", \"2019-12-11T07:00:00\", \"2019-12-11T08:00:00\", \"2019-12-11T09:00:00\", \"2019-12-11T10:00:00\", \"2019-12-11T11:00:00\", \"2019-12-11T12:00:00\", \"2019-12-11T13:00:00\", \"2019-12-11T15:00:00\", \"2019-12-11T16:00:00\", \"2019-12-11T19:00:00\", \"2019-12-11T20:00:00\", \"2019-12-11T21:00:00\", \"2019-12-11T22:00:00\", \"2019-12-11T23:00:00\", \"2019-12-12T00:00:00\", \"2019-12-12T01:00:00\", \"2019-12-12T02:00:00\", \"2019-12-12T03:00:00\", \"2019-12-12T04:00:00\", \"2019-12-12T05:00:00\", \"2019-12-12T06:00:00\", \"2019-12-12T07:00:00\", \"2019-12-12T08:00:00\", \"2019-12-12T09:00:00\", \"2019-12-12T10:00:00\", \"2019-12-12T11:00:00\", \"2019-12-12T12:00:00\", \"2019-12-12T13:00:00\", \"2019-12-12T14:00:00\", \"2019-12-12T15:00:00\", \"2019-12-12T16:00:00\", \"2019-12-12T17:00:00\", \"2019-12-12T18:00:00\", \"2019-12-12T19:00:00\", \"2019-12-12T20:00:00\", \"2019-12-12T21:00:00\", \"2019-12-12T22:00:00\", \"2019-12-12T23:00:00\", \"2019-12-13T00:00:00\", \"2019-12-13T01:00:00\", \"2019-12-13T02:00:00\", \"2019-12-13T03:00:00\", \"2019-12-13T04:00:00\", \"2019-12-13T05:00:00\", \"2019-12-13T06:00:00\", \"2019-12-13T07:00:00\", \"2019-12-13T08:00:00\", \"2019-12-13T09:00:00\", \"2019-12-13T10:00:00\", \"2019-12-13T11:00:00\", \"2019-12-13T12:00:00\", \"2019-12-13T13:00:00\", \"2019-12-13T14:00:00\", \"2019-12-13T15:00:00\", \"2019-12-13T16:00:00\", \"2019-12-13T17:00:00\", \"2019-12-13T18:00:00\", \"2019-12-13T19:00:00\", \"2019-12-13T20:00:00\", \"2019-12-13T21:00:00\", \"2019-12-13T22:00:00\", \"2019-12-13T23:00:00\", \"2019-12-14T00:00:00\", \"2019-12-14T01:00:00\", \"2019-12-14T02:00:00\", \"2019-12-14T03:00:00\", \"2019-12-14T04:00:00\", \"2019-12-14T05:00:00\", \"2019-12-14T06:00:00\", \"2019-12-14T07:00:00\", \"2019-12-14T08:00:00\", \"2019-12-14T09:00:00\", \"2019-12-14T10:00:00\", \"2019-12-14T11:00:00\", \"2019-12-14T12:00:00\", \"2019-12-14T13:00:00\", \"2019-12-14T14:00:00\", \"2019-12-14T15:00:00\", \"2019-12-14T16:00:00\", \"2019-12-14T17:00:00\", \"2019-12-14T18:00:00\", \"2019-12-14T19:00:00\", \"2019-12-14T20:00:00\", \"2019-12-14T21:00:00\", \"2019-12-14T22:00:00\", \"2019-12-14T23:00:00\", \"2019-12-15T00:00:00\", \"2019-12-15T01:00:00\", \"2019-12-15T02:00:00\", \"2019-12-15T03:00:00\", \"2019-12-15T04:00:00\", \"2019-12-15T05:00:00\", \"2019-12-15T06:00:00\", \"2019-12-15T07:00:00\", \"2019-12-15T08:00:00\", \"2019-12-15T09:00:00\", \"2019-12-15T10:00:00\", \"2019-12-15T11:00:00\", \"2019-12-15T12:00:00\", \"2019-12-15T13:00:00\", \"2019-12-15T14:00:00\", \"2019-12-15T15:00:00\", \"2019-12-15T16:00:00\", \"2019-12-15T17:00:00\", \"2019-12-15T18:00:00\", \"2019-12-15T19:00:00\", \"2019-12-15T20:00:00\", \"2019-12-15T21:00:00\", \"2019-12-15T22:00:00\", \"2019-12-16T00:00:00\"], \"y\": [166.7145275316141, 167.23391746095677, 161.67865923530522, 159.46084746471394, 165.95619474665955, 169.24625459563993, 173.14562344606793, 163.5238178982167, 162.95263782152878, 160.44066700979963, 159.50663412500916, 150.78861155225127, 155.10705941831682, 155.78832890431303, 86.75927692552874, 47.4844037188982, 40.11922996031645, 124.10341493660383, 174.0292460289723, 192.9091653890559, 193.1371651465406, 183.7030162828315, 181.53386305962215, 172.8465152510968, 180.39523555864724, 177.3405342988696, 191.3404290864764, 193.65228869971833, 183.01619133472266, 179.61727639889077, 173.6489360268286, 170.2117256971054, 164.76001342807837, 168.45748243396434, 168.4858738456335, 171.90177235410627, 172.5945882326454, 174.92981436265893, 169.9752744111169, 169.92663807061905, 178.19629860533252, 183.8742843797561, 192.13881825244005, 202.59111640035803, 206.54383584323597, 202.08727152178568, 192.64482912681848, 187.52297646506798, 186.15817124467856, 196.75282937086644, 206.25747028812134, 172.94084511741517, 187.9455453842285, 91.01375661522987, 151.51869430879816, 165.46018930938615, 161.7225257797316, 167.23924058515024, 173.3061998134232, 174.44402597800087, 174.0160493747245, 171.40513656102897, 165.75613026249147, 168.59415129530356, 171.9845110244433, 182.15879604360902, 192.82269749267874, 205.67849816454486, 207.9358491653939, 199.08287421074277, 192.36450628361484, 184.1181218144785, 186.38850852847293, 185.96985932878394, 200.44875533708108, 207.3806742642008, 206.08715532659534, 197.5005505477471, 189.93947681536258, 181.45405943669508, 173.52014568442297, 172.25678520428625, 176.68811945491996, 180.554465573379, 179.90959933772274, 177.4253423257627, 174.22476694640432, 153.2974730680399, 79.51693577510015, 50.188977053942494, 59.518162188359, 63.246108904242874, 71.16338911412588, 88.85381985690817, 151.25257650011727, 176.25247020678847, 192.0566818626197, 206.63066021568218, 219.20739701854535, 222.5696411287868, 215.93184771848615, 208.7174540552657, 199.9597913253564, 191.9251010326174, 179.89061488456542, 176.76567309647112, 181.56379954245733, 184.18445373363042, 118.99907617944251, 147.80482464357485, 136.99663131953747, 71.507452098131, 99.96265312944804, 73.00533052055393, 63.38631155541636, 62.77404189947163, 51.37061957669006]}, {\"line\": {\"shape\": \"spline\", \"smoothing\": 1.0}, \"mode\": \"lines+markers\", \"name\": \"15:stats/time_per_user\", \"type\": \"scatter\", \"x\": [\"2019-12-11T00:00:00\", \"2019-12-11T01:00:00\", \"2019-12-11T02:00:00\", \"2019-12-11T03:00:00\", \"2019-12-11T04:00:00\", \"2019-12-11T05:00:00\", \"2019-12-11T06:00:00\", \"2019-12-11T07:00:00\", \"2019-12-11T08:00:00\", \"2019-12-11T09:00:00\", \"2019-12-11T10:00:00\", \"2019-12-11T11:00:00\", \"2019-12-11T12:00:00\", \"2019-12-11T13:00:00\", \"2019-12-11T15:00:00\", \"2019-12-11T16:00:00\", \"2019-12-11T19:00:00\", \"2019-12-11T20:00:00\", \"2019-12-11T21:00:00\", \"2019-12-11T22:00:00\", \"2019-12-11T23:00:00\", \"2019-12-12T00:00:00\", \"2019-12-12T01:00:00\", \"2019-12-12T02:00:00\", \"2019-12-12T03:00:00\", \"2019-12-12T04:00:00\", \"2019-12-12T05:00:00\", \"2019-12-12T06:00:00\", \"2019-12-12T07:00:00\", \"2019-12-12T08:00:00\", \"2019-12-12T09:00:00\", \"2019-12-12T10:00:00\", \"2019-12-12T11:00:00\", \"2019-12-12T12:00:00\", \"2019-12-12T13:00:00\", \"2019-12-12T14:00:00\", \"2019-12-12T15:00:00\", \"2019-12-12T16:00:00\", \"2019-12-12T17:00:00\", \"2019-12-12T18:00:00\", \"2019-12-12T19:00:00\", \"2019-12-12T20:00:00\", \"2019-12-12T21:00:00\", \"2019-12-12T22:00:00\", \"2019-12-12T23:00:00\", \"2019-12-13T00:00:00\", \"2019-12-13T01:00:00\", \"2019-12-13T02:00:00\", \"2019-12-13T03:00:00\", \"2019-12-13T04:00:00\", \"2019-12-13T05:00:00\", \"2019-12-13T06:00:00\", \"2019-12-13T07:00:00\", \"2019-12-13T08:00:00\", \"2019-12-13T09:00:00\", \"2019-12-13T10:00:00\", \"2019-12-13T11:00:00\", \"2019-12-13T12:00:00\", \"2019-12-13T13:00:00\", \"2019-12-13T14:00:00\", \"2019-12-13T15:00:00\", \"2019-12-13T16:00:00\", \"2019-12-13T17:00:00\", \"2019-12-13T18:00:00\", \"2019-12-13T19:00:00\", \"2019-12-13T20:00:00\", \"2019-12-13T21:00:00\", \"2019-12-13T22:00:00\", \"2019-12-13T23:00:00\", \"2019-12-14T00:00:00\", \"2019-12-14T01:00:00\", \"2019-12-14T02:00:00\", \"2019-12-14T03:00:00\", \"2019-12-14T04:00:00\", \"2019-12-14T05:00:00\", \"2019-12-14T06:00:00\", \"2019-12-14T07:00:00\", \"2019-12-14T08:00:00\", \"2019-12-14T09:00:00\", \"2019-12-14T10:00:00\", \"2019-12-14T11:00:00\", \"2019-12-14T12:00:00\", \"2019-12-14T13:00:00\", \"2019-12-14T14:00:00\", \"2019-12-14T15:00:00\", \"2019-12-14T16:00:00\", \"2019-12-14T17:00:00\", \"2019-12-14T18:00:00\", \"2019-12-14T19:00:00\", \"2019-12-14T20:00:00\", \"2019-12-14T21:00:00\", \"2019-12-14T22:00:00\", \"2019-12-14T23:00:00\", \"2019-12-15T00:00:00\", \"2019-12-15T01:00:00\", \"2019-12-15T02:00:00\", \"2019-12-15T03:00:00\", \"2019-12-15T04:00:00\", \"2019-12-15T05:00:00\", \"2019-12-15T06:00:00\", \"2019-12-15T07:00:00\", \"2019-12-15T08:00:00\", \"2019-12-15T09:00:00\", \"2019-12-15T10:00:00\", \"2019-12-15T11:00:00\", \"2019-12-15T12:00:00\", \"2019-12-15T13:00:00\", \"2019-12-15T14:00:00\", \"2019-12-15T15:00:00\", \"2019-12-15T16:00:00\", \"2019-12-15T17:00:00\", \"2019-12-15T18:00:00\", \"2019-12-15T19:00:00\", \"2019-12-15T20:00:00\", \"2019-12-15T21:00:00\", \"2019-12-15T22:00:00\", \"2019-12-16T00:00:00\"], \"y\": [183.1342981186686, 175.5151954860923, 176.91348303872758, 169.21958040760927, 173.36820758966485, 179.10857335844656, 178.04858936950535, 167.8477969518155, 165.1470242587069, 159.35584080621604, 154.44100539534904, 151.25537955091374, 156.69713352449514, 158.39319097785614, 89.00529981720395, 48.236612355372884, 40.354574790153166, 116.53689275268606, 162.3228238391733, 190.59573603386428, 196.66675581094162, 179.2285138983213, 176.01877683304127, 184.55033040534767, 186.69530835634424, 171.92009865117967, 180.85201736102434, 195.98827587438853, 184.65869063144555, 184.21833482483143, 178.33730097014353, 169.35605440867596, 161.51761260316505, 166.7337075255822, 170.3400739193238, 173.76067821637815, 172.27605936602146, 172.02485830251885, 166.2780693825286, 171.0518187327937, 177.27636409789204, 184.04506658282554, 192.37853698010392, 201.4638230954597, 199.44303652681361, 191.996720462481, 192.66523413338535, 174.74190010496704, 178.36305925458527, 207.54522370183412, 211.5982212041145, 173.83598418606155, 188.11881990393283, 92.74748912662167, 145.5207992578631, 158.59924536650357, 158.965447314193, 166.61918745186478, 174.42042298530694, 173.19883194580063, 171.85860106166422, 169.77549488011124, 168.57029357543544, 172.63634549435994, 184.5981380015694, 192.46276224957438, 201.38163380113878, 200.41489662086656, 202.81206456734972, 192.33904826788478, 184.09341522552126, 176.82840551673178, 176.63606721042683, 185.35366118738665, 201.28027467325495, 195.81829240119595, 189.11958237875643, 184.3865286853872, 183.83785615500597, 180.2204737526956, 170.62052655545347, 165.64075489058774, 171.64424039574834, 171.63385609794477, 170.3985067532144, 168.0608469531633, 163.50980461977463, 145.8813709845144, 75.60283630167524, 47.85319608730053, 55.613133549947136, 61.262073139650184, 69.34060941078445, 84.76640434146063, 144.31800241455034, 165.46725373626867, 172.49546441334587, 187.2377462048988, 206.17075168861032, 217.6914614383869, 208.92809041432218, 206.87504837893044, 196.27125780893232, 187.8802196166868, 179.49483232617, 177.07357339942155, 172.41788837616207, 175.74039598129409, 114.57232518670281, 153.16887635937226, 141.48018772366245, 74.49683222516853, 100.35855878076546, 71.32334671581688, 61.02562867951941, 61.99145447932656, 49.51485198951809]}],\n",
       "                        {\"hovermode\": \"x\", \"template\": {\"data\": {\"bar\": [{\"error_x\": {\"color\": \"#2a3f5f\"}, \"error_y\": {\"color\": \"#2a3f5f\"}, \"marker\": {\"line\": {\"color\": \"#E5ECF6\", \"width\": 0.5}}, \"type\": \"bar\"}], \"barpolar\": [{\"marker\": {\"line\": {\"color\": \"#E5ECF6\", \"width\": 0.5}}, \"type\": \"barpolar\"}], \"carpet\": [{\"aaxis\": {\"endlinecolor\": \"#2a3f5f\", \"gridcolor\": \"white\", \"linecolor\": \"white\", \"minorgridcolor\": \"white\", \"startlinecolor\": \"#2a3f5f\"}, \"baxis\": {\"endlinecolor\": \"#2a3f5f\", \"gridcolor\": \"white\", \"linecolor\": \"white\", \"minorgridcolor\": \"white\", \"startlinecolor\": \"#2a3f5f\"}, \"type\": \"carpet\"}], \"choropleth\": [{\"colorbar\": {\"outlinewidth\": 0, \"ticks\": \"\"}, \"type\": \"choropleth\"}], \"contour\": [{\"colorbar\": {\"outlinewidth\": 0, \"ticks\": \"\"}, \"colorscale\": [[0.0, \"#0d0887\"], [0.1111111111111111, \"#46039f\"], [0.2222222222222222, \"#7201a8\"], [0.3333333333333333, \"#9c179e\"], [0.4444444444444444, \"#bd3786\"], [0.5555555555555556, \"#d8576b\"], [0.6666666666666666, \"#ed7953\"], [0.7777777777777778, \"#fb9f3a\"], [0.8888888888888888, \"#fdca26\"], [1.0, \"#f0f921\"]], \"type\": \"contour\"}], \"contourcarpet\": [{\"colorbar\": {\"outlinewidth\": 0, \"ticks\": \"\"}, \"type\": \"contourcarpet\"}], \"heatmap\": [{\"colorbar\": {\"outlinewidth\": 0, \"ticks\": \"\"}, \"colorscale\": [[0.0, \"#0d0887\"], [0.1111111111111111, \"#46039f\"], [0.2222222222222222, \"#7201a8\"], [0.3333333333333333, \"#9c179e\"], [0.4444444444444444, \"#bd3786\"], [0.5555555555555556, \"#d8576b\"], [0.6666666666666666, \"#ed7953\"], [0.7777777777777778, \"#fb9f3a\"], [0.8888888888888888, \"#fdca26\"], [1.0, \"#f0f921\"]], \"type\": \"heatmap\"}], \"heatmapgl\": [{\"colorbar\": {\"outlinewidth\": 0, \"ticks\": \"\"}, \"colorscale\": [[0.0, \"#0d0887\"], [0.1111111111111111, \"#46039f\"], [0.2222222222222222, \"#7201a8\"], [0.3333333333333333, \"#9c179e\"], [0.4444444444444444, \"#bd3786\"], [0.5555555555555556, \"#d8576b\"], [0.6666666666666666, \"#ed7953\"], [0.7777777777777778, \"#fb9f3a\"], [0.8888888888888888, \"#fdca26\"], [1.0, \"#f0f921\"]], \"type\": \"heatmapgl\"}], \"histogram\": [{\"marker\": {\"colorbar\": {\"outlinewidth\": 0, \"ticks\": \"\"}}, \"type\": \"histogram\"}], \"histogram2d\": [{\"colorbar\": {\"outlinewidth\": 0, \"ticks\": \"\"}, \"colorscale\": [[0.0, \"#0d0887\"], [0.1111111111111111, \"#46039f\"], [0.2222222222222222, \"#7201a8\"], [0.3333333333333333, \"#9c179e\"], [0.4444444444444444, \"#bd3786\"], [0.5555555555555556, \"#d8576b\"], [0.6666666666666666, \"#ed7953\"], [0.7777777777777778, \"#fb9f3a\"], [0.8888888888888888, \"#fdca26\"], [1.0, \"#f0f921\"]], \"type\": \"histogram2d\"}], \"histogram2dcontour\": [{\"colorbar\": {\"outlinewidth\": 0, \"ticks\": \"\"}, \"colorscale\": [[0.0, \"#0d0887\"], [0.1111111111111111, \"#46039f\"], [0.2222222222222222, \"#7201a8\"], [0.3333333333333333, \"#9c179e\"], [0.4444444444444444, \"#bd3786\"], [0.5555555555555556, \"#d8576b\"], [0.6666666666666666, \"#ed7953\"], [0.7777777777777778, \"#fb9f3a\"], [0.8888888888888888, \"#fdca26\"], [1.0, \"#f0f921\"]], \"type\": \"histogram2dcontour\"}], \"mesh3d\": [{\"colorbar\": {\"outlinewidth\": 0, \"ticks\": \"\"}, \"type\": \"mesh3d\"}], \"parcoords\": [{\"line\": {\"colorbar\": {\"outlinewidth\": 0, \"ticks\": \"\"}}, \"type\": \"parcoords\"}], \"scatter\": [{\"marker\": {\"colorbar\": {\"outlinewidth\": 0, \"ticks\": \"\"}}, \"type\": \"scatter\"}], \"scatter3d\": [{\"line\": {\"colorbar\": {\"outlinewidth\": 0, \"ticks\": \"\"}}, \"marker\": {\"colorbar\": {\"outlinewidth\": 0, \"ticks\": \"\"}}, \"type\": \"scatter3d\"}], \"scattercarpet\": [{\"marker\": {\"colorbar\": {\"outlinewidth\": 0, \"ticks\": \"\"}}, \"type\": \"scattercarpet\"}], \"scattergeo\": [{\"marker\": {\"colorbar\": {\"outlinewidth\": 0, \"ticks\": \"\"}}, \"type\": \"scattergeo\"}], \"scattergl\": [{\"marker\": {\"colorbar\": {\"outlinewidth\": 0, \"ticks\": \"\"}}, \"type\": \"scattergl\"}], \"scattermapbox\": [{\"marker\": {\"colorbar\": {\"outlinewidth\": 0, \"ticks\": \"\"}}, \"type\": \"scattermapbox\"}], \"scatterpolar\": [{\"marker\": {\"colorbar\": {\"outlinewidth\": 0, \"ticks\": \"\"}}, \"type\": \"scatterpolar\"}], \"scatterpolargl\": [{\"marker\": {\"colorbar\": {\"outlinewidth\": 0, \"ticks\": \"\"}}, \"type\": \"scatterpolargl\"}], \"scatterternary\": [{\"marker\": {\"colorbar\": {\"outlinewidth\": 0, \"ticks\": \"\"}}, \"type\": \"scatterternary\"}], \"surface\": [{\"colorbar\": {\"outlinewidth\": 0, \"ticks\": \"\"}, \"colorscale\": [[0.0, \"#0d0887\"], [0.1111111111111111, \"#46039f\"], [0.2222222222222222, \"#7201a8\"], [0.3333333333333333, \"#9c179e\"], [0.4444444444444444, \"#bd3786\"], [0.5555555555555556, \"#d8576b\"], [0.6666666666666666, \"#ed7953\"], [0.7777777777777778, \"#fb9f3a\"], [0.8888888888888888, \"#fdca26\"], [1.0, \"#f0f921\"]], \"type\": \"surface\"}], \"table\": [{\"cells\": {\"fill\": {\"color\": \"#EBF0F8\"}, \"line\": {\"color\": \"white\"}}, \"header\": {\"fill\": {\"color\": \"#C8D4E3\"}, \"line\": {\"color\": \"white\"}}, \"type\": \"table\"}]}, \"layout\": {\"annotationdefaults\": {\"arrowcolor\": \"#2a3f5f\", \"arrowhead\": 0, \"arrowwidth\": 1}, \"colorscale\": {\"diverging\": [[0, \"#8e0152\"], [0.1, \"#c51b7d\"], [0.2, \"#de77ae\"], [0.3, \"#f1b6da\"], [0.4, \"#fde0ef\"], [0.5, \"#f7f7f7\"], [0.6, \"#e6f5d0\"], [0.7, \"#b8e186\"], [0.8, \"#7fbc41\"], [0.9, \"#4d9221\"], [1, \"#276419\"]], \"sequential\": [[0.0, \"#0d0887\"], [0.1111111111111111, \"#46039f\"], [0.2222222222222222, \"#7201a8\"], [0.3333333333333333, \"#9c179e\"], [0.4444444444444444, \"#bd3786\"], [0.5555555555555556, \"#d8576b\"], [0.6666666666666666, \"#ed7953\"], [0.7777777777777778, \"#fb9f3a\"], [0.8888888888888888, \"#fdca26\"], [1.0, \"#f0f921\"]], \"sequentialminus\": [[0.0, \"#0d0887\"], [0.1111111111111111, \"#46039f\"], [0.2222222222222222, \"#7201a8\"], [0.3333333333333333, \"#9c179e\"], [0.4444444444444444, \"#bd3786\"], [0.5555555555555556, \"#d8576b\"], [0.6666666666666666, \"#ed7953\"], [0.7777777777777778, \"#fb9f3a\"], [0.8888888888888888, \"#fdca26\"], [1.0, \"#f0f921\"]]}, \"colorway\": [\"#636efa\", \"#EF553B\", \"#00cc96\", \"#ab63fa\", \"#FFA15A\", \"#19d3f3\", \"#FF6692\", \"#B6E880\", \"#FF97FF\", \"#FECB52\"], \"font\": {\"color\": \"#2a3f5f\"}, \"geo\": {\"bgcolor\": \"white\", \"lakecolor\": \"white\", \"landcolor\": \"#E5ECF6\", \"showlakes\": true, \"showland\": true, \"subunitcolor\": \"white\"}, \"hoverlabel\": {\"align\": \"left\"}, \"hovermode\": \"closest\", \"mapbox\": {\"style\": \"light\"}, \"paper_bgcolor\": \"white\", \"plot_bgcolor\": \"#E5ECF6\", \"polar\": {\"angularaxis\": {\"gridcolor\": \"white\", \"linecolor\": \"white\", \"ticks\": \"\"}, \"bgcolor\": \"#E5ECF6\", \"radialaxis\": {\"gridcolor\": \"white\", \"linecolor\": \"white\", \"ticks\": \"\"}}, \"scene\": {\"xaxis\": {\"backgroundcolor\": \"#E5ECF6\", \"gridcolor\": \"white\", \"gridwidth\": 2, \"linecolor\": \"white\", \"showbackground\": true, \"ticks\": \"\", \"zerolinecolor\": \"white\"}, \"yaxis\": {\"backgroundcolor\": \"#E5ECF6\", \"gridcolor\": \"white\", \"gridwidth\": 2, \"linecolor\": \"white\", \"showbackground\": true, \"ticks\": \"\", \"zerolinecolor\": \"white\"}, \"zaxis\": {\"backgroundcolor\": \"#E5ECF6\", \"gridcolor\": \"white\", \"gridwidth\": 2, \"linecolor\": \"white\", \"showbackground\": true, \"ticks\": \"\", \"zerolinecolor\": \"white\"}}, \"shapedefaults\": {\"line\": {\"color\": \"#2a3f5f\"}}, \"ternary\": {\"aaxis\": {\"gridcolor\": \"white\", \"linecolor\": \"white\", \"ticks\": \"\"}, \"baxis\": {\"gridcolor\": \"white\", \"linecolor\": \"white\", \"ticks\": \"\"}, \"bgcolor\": \"#E5ECF6\", \"caxis\": {\"gridcolor\": \"white\", \"linecolor\": \"white\", \"ticks\": \"\"}}, \"title\": {\"x\": 0.05}, \"xaxis\": {\"automargin\": true, \"gridcolor\": \"white\", \"linecolor\": \"white\", \"ticks\": \"\", \"zerolinecolor\": \"white\", \"zerolinewidth\": 2}, \"yaxis\": {\"automargin\": true, \"gridcolor\": \"white\", \"linecolor\": \"white\", \"ticks\": \"\", \"zerolinecolor\": \"white\", \"zerolinewidth\": 2}}}, \"title\": {\"text\": \"tuwen:stats/time_per_user\"}, \"xaxis\": {\"type\": \"date\"}},\n",
       "                        {\"responsive\": true}\n",
       "                    ).then(function(){\n",
       "                            \n",
       "var gd = document.getElementById('f31beadb-be46-4948-8449-a42c4bbb5cb6');\n",
       "var x = new MutationObserver(function (mutations, observer) {{\n",
       "        var display = window.getComputedStyle(gd).display;\n",
       "        if (!display || display === 'none') {{\n",
       "            console.log([gd, 'removed!']);\n",
       "            Plotly.purge(gd);\n",
       "            observer.disconnect();\n",
       "        }}\n",
       "}});\n",
       "\n",
       "// Listen for the removal of the full notebook cells\n",
       "var notebookContainer = gd.closest('#notebook-container');\n",
       "if (notebookContainer) {{\n",
       "    x.observe(notebookContainer, {childList: true});\n",
       "}}\n",
       "\n",
       "// Listen for the clearing of the current output cell\n",
       "var outputEl = gd.closest('.output');\n",
       "if (outputEl) {{\n",
       "    x.observe(outputEl, {childList: true});\n",
       "}}\n",
       "\n",
       "                        })\n",
       "                };\n",
       "                });\n",
       "            </script>\n",
       "        </div>"
      ]
     },
     "metadata": {},
     "output_type": "display_data"
    }
   ],
   "source": [
    "compare(df, 'stats/time_per_user')"
   ]
  },
  {
   "cell_type": "code",
   "execution_count": 26,
   "metadata": {},
   "outputs": [
    {
     "data": {
      "application/vnd.plotly.v1+json": {
       "config": {
        "linkText": "Export to plot.ly",
        "plotlyServerURL": "https://plot.ly",
        "showLink": false
       },
       "data": [
        {
         "line": {
          "shape": "spline",
          "smoothing": 1
         },
         "mode": "lines+markers",
         "name": "456:stats/click_ratio",
         "type": "scatter",
         "x": [
          "2019-12-11T00:00:00",
          "2019-12-11T01:00:00",
          "2019-12-11T02:00:00",
          "2019-12-11T03:00:00",
          "2019-12-11T04:00:00",
          "2019-12-11T05:00:00",
          "2019-12-11T06:00:00",
          "2019-12-11T07:00:00",
          "2019-12-11T08:00:00",
          "2019-12-11T09:00:00",
          "2019-12-11T10:00:00",
          "2019-12-11T11:00:00",
          "2019-12-11T12:00:00",
          "2019-12-11T13:00:00",
          "2019-12-11T15:00:00",
          "2019-12-11T16:00:00",
          "2019-12-11T19:00:00",
          "2019-12-11T20:00:00",
          "2019-12-11T21:00:00",
          "2019-12-11T22:00:00",
          "2019-12-11T23:00:00",
          "2019-12-12T00:00:00",
          "2019-12-12T01:00:00",
          "2019-12-12T02:00:00",
          "2019-12-12T03:00:00",
          "2019-12-12T04:00:00",
          "2019-12-12T05:00:00",
          "2019-12-12T06:00:00",
          "2019-12-12T07:00:00",
          "2019-12-12T08:00:00",
          "2019-12-12T09:00:00",
          "2019-12-12T10:00:00",
          "2019-12-12T11:00:00",
          "2019-12-12T12:00:00",
          "2019-12-12T13:00:00",
          "2019-12-12T14:00:00",
          "2019-12-12T15:00:00",
          "2019-12-12T16:00:00",
          "2019-12-12T17:00:00",
          "2019-12-12T18:00:00",
          "2019-12-12T19:00:00",
          "2019-12-12T20:00:00",
          "2019-12-12T21:00:00",
          "2019-12-12T22:00:00",
          "2019-12-12T23:00:00",
          "2019-12-13T00:00:00",
          "2019-12-13T01:00:00",
          "2019-12-13T02:00:00",
          "2019-12-13T03:00:00",
          "2019-12-13T04:00:00",
          "2019-12-13T05:00:00",
          "2019-12-13T06:00:00",
          "2019-12-13T07:00:00",
          "2019-12-13T08:00:00",
          "2019-12-13T09:00:00",
          "2019-12-13T10:00:00",
          "2019-12-13T11:00:00",
          "2019-12-13T12:00:00",
          "2019-12-13T13:00:00",
          "2019-12-13T14:00:00",
          "2019-12-13T15:00:00",
          "2019-12-13T16:00:00",
          "2019-12-13T17:00:00",
          "2019-12-13T18:00:00",
          "2019-12-13T19:00:00",
          "2019-12-13T20:00:00",
          "2019-12-13T21:00:00",
          "2019-12-13T22:00:00",
          "2019-12-13T23:00:00",
          "2019-12-14T00:00:00",
          "2019-12-14T01:00:00",
          "2019-12-14T02:00:00",
          "2019-12-14T03:00:00",
          "2019-12-14T04:00:00",
          "2019-12-14T05:00:00",
          "2019-12-14T06:00:00",
          "2019-12-14T07:00:00",
          "2019-12-14T08:00:00",
          "2019-12-14T09:00:00",
          "2019-12-14T10:00:00",
          "2019-12-14T11:00:00",
          "2019-12-14T12:00:00",
          "2019-12-14T13:00:00",
          "2019-12-14T14:00:00",
          "2019-12-14T15:00:00",
          "2019-12-14T16:00:00",
          "2019-12-14T17:00:00",
          "2019-12-14T18:00:00",
          "2019-12-14T19:00:00",
          "2019-12-14T20:00:00",
          "2019-12-14T21:00:00",
          "2019-12-14T22:00:00",
          "2019-12-14T23:00:00",
          "2019-12-15T00:00:00",
          "2019-12-15T01:00:00",
          "2019-12-15T02:00:00",
          "2019-12-15T03:00:00",
          "2019-12-15T04:00:00",
          "2019-12-15T05:00:00",
          "2019-12-15T06:00:00",
          "2019-12-15T07:00:00",
          "2019-12-15T08:00:00",
          "2019-12-15T09:00:00",
          "2019-12-15T10:00:00",
          "2019-12-15T11:00:00",
          "2019-12-15T12:00:00",
          "2019-12-15T13:00:00",
          "2019-12-15T14:00:00",
          "2019-12-15T15:00:00",
          "2019-12-15T16:00:00",
          "2019-12-15T17:00:00",
          "2019-12-15T18:00:00",
          "2019-12-15T19:00:00",
          "2019-12-15T20:00:00",
          "2019-12-15T21:00:00",
          "2019-12-15T22:00:00",
          "2019-12-16T00:00:00"
         ],
         "y": [
          0.15014727348555934,
          0.14806401503394023,
          0.14767278591469607,
          0.14940368685658476,
          0.14764859220644186,
          0.15204126132642978,
          0.15644787935758664,
          0.15349240098214023,
          0.1537847364147243,
          0.15204850826363445,
          0.1495743660314542,
          0.14615162405881343,
          0.14763371457476007,
          0.1467181888024273,
          0.08475009927983934,
          0.04731368995593888,
          0.037724712183801065,
          0.09256533531218578,
          0.12189174873846725,
          0.13455597657464877,
          0.13829254510192104,
          0.1408751061060411,
          0.14070537002460343,
          0.13886572209155826,
          0.14048966648310288,
          0.14284413508785523,
          0.15145942453431202,
          0.15436532466941916,
          0.15016268461131635,
          0.14939641479736904,
          0.14947242415721207,
          0.146379026125805,
          0.1425733468076963,
          0.14459682591600073,
          0.14383196981247104,
          0.14335611102092313,
          0.14053595012529535,
          0.14145862739121462,
          0.14319070922949517,
          0.14145451120934338,
          0.14421506900872966,
          0.1437639357162429,
          0.14555617370474883,
          0.14937770520978763,
          0.15271090227410944,
          0.1538052603941006,
          0.15249218981938847,
          0.1516343733150612,
          0.15196570267879417,
          0.15116838089940063,
          0.15491519536267212,
          0.1576385840138879,
          0.15612633307645463,
          0.15692067197982779,
          0.151658542051962,
          0.14844572949694423,
          0.14419604462777447,
          0.14502017693609104,
          0.14642839432070737,
          0.1448032003578088,
          0.14360004429506512,
          0.14356988243142177,
          0.1410029516551311,
          0.13937431512502352,
          0.1340628531403104,
          0.134472951563407,
          0.13985063747841753,
          0.1433366455455271,
          0.14623980776545314,
          0.14913066714098164,
          0.14814963021946004,
          0.14676226810695753,
          0.14812462518818345,
          0.14978986076855444,
          0.15244896448238582,
          0.15467220289050893,
          0.15534835460555654,
          0.15285687953087804,
          0.15156961344617137,
          0.14831730840409085,
          0.14343179486808266,
          0.14403743740695438,
          0.14530764617138253,
          0.1464202766597624,
          0.14651428391874094,
          0.1425648082153445,
          0.1430332645092223,
          0.14194308588345084,
          0.0927252227952563,
          0.06921682556166914,
          0.1123067665076751,
          0.12914792849656118,
          0.1414915152966772,
          0.1456615040706545,
          0.14463822354510703,
          0.1436685309423746,
          0.13953245046166862,
          0.14301732038778367,
          0.14681819154908304,
          0.14909862402223062,
          0.148389780916002,
          0.14781306551090392,
          0.14869042762246257,
          0.1461607730429714,
          0.14273189908409847,
          0.143409462283808,
          0.14364912912341132,
          0.14355725635767896,
          0.14104846473055122,
          0.13170531472771033,
          0.12999620624851604,
          0.12641216494913843,
          0.13490456212301336,
          0.14262597048283476,
          0.1438528469131532,
          0.14719674192816584,
          0.15143905039248362
         ]
        },
        {
         "line": {
          "shape": "spline",
          "smoothing": 1
         },
         "mode": "lines+markers",
         "name": "15:stats/click_ratio",
         "type": "scatter",
         "x": [
          "2019-12-11T00:00:00",
          "2019-12-11T01:00:00",
          "2019-12-11T02:00:00",
          "2019-12-11T03:00:00",
          "2019-12-11T04:00:00",
          "2019-12-11T05:00:00",
          "2019-12-11T06:00:00",
          "2019-12-11T07:00:00",
          "2019-12-11T08:00:00",
          "2019-12-11T09:00:00",
          "2019-12-11T10:00:00",
          "2019-12-11T11:00:00",
          "2019-12-11T12:00:00",
          "2019-12-11T13:00:00",
          "2019-12-11T15:00:00",
          "2019-12-11T16:00:00",
          "2019-12-11T19:00:00",
          "2019-12-11T20:00:00",
          "2019-12-11T21:00:00",
          "2019-12-11T22:00:00",
          "2019-12-11T23:00:00",
          "2019-12-12T00:00:00",
          "2019-12-12T01:00:00",
          "2019-12-12T02:00:00",
          "2019-12-12T03:00:00",
          "2019-12-12T04:00:00",
          "2019-12-12T05:00:00",
          "2019-12-12T06:00:00",
          "2019-12-12T07:00:00",
          "2019-12-12T08:00:00",
          "2019-12-12T09:00:00",
          "2019-12-12T10:00:00",
          "2019-12-12T11:00:00",
          "2019-12-12T12:00:00",
          "2019-12-12T13:00:00",
          "2019-12-12T14:00:00",
          "2019-12-12T15:00:00",
          "2019-12-12T16:00:00",
          "2019-12-12T17:00:00",
          "2019-12-12T18:00:00",
          "2019-12-12T19:00:00",
          "2019-12-12T20:00:00",
          "2019-12-12T21:00:00",
          "2019-12-12T22:00:00",
          "2019-12-12T23:00:00",
          "2019-12-13T00:00:00",
          "2019-12-13T01:00:00",
          "2019-12-13T02:00:00",
          "2019-12-13T03:00:00",
          "2019-12-13T04:00:00",
          "2019-12-13T05:00:00",
          "2019-12-13T06:00:00",
          "2019-12-13T07:00:00",
          "2019-12-13T08:00:00",
          "2019-12-13T09:00:00",
          "2019-12-13T10:00:00",
          "2019-12-13T11:00:00",
          "2019-12-13T12:00:00",
          "2019-12-13T13:00:00",
          "2019-12-13T14:00:00",
          "2019-12-13T15:00:00",
          "2019-12-13T16:00:00",
          "2019-12-13T17:00:00",
          "2019-12-13T18:00:00",
          "2019-12-13T19:00:00",
          "2019-12-13T20:00:00",
          "2019-12-13T21:00:00",
          "2019-12-13T22:00:00",
          "2019-12-13T23:00:00",
          "2019-12-14T00:00:00",
          "2019-12-14T01:00:00",
          "2019-12-14T02:00:00",
          "2019-12-14T03:00:00",
          "2019-12-14T04:00:00",
          "2019-12-14T05:00:00",
          "2019-12-14T06:00:00",
          "2019-12-14T07:00:00",
          "2019-12-14T08:00:00",
          "2019-12-14T09:00:00",
          "2019-12-14T10:00:00",
          "2019-12-14T11:00:00",
          "2019-12-14T12:00:00",
          "2019-12-14T13:00:00",
          "2019-12-14T14:00:00",
          "2019-12-14T15:00:00",
          "2019-12-14T16:00:00",
          "2019-12-14T17:00:00",
          "2019-12-14T18:00:00",
          "2019-12-14T19:00:00",
          "2019-12-14T20:00:00",
          "2019-12-14T21:00:00",
          "2019-12-14T22:00:00",
          "2019-12-14T23:00:00",
          "2019-12-15T00:00:00",
          "2019-12-15T01:00:00",
          "2019-12-15T02:00:00",
          "2019-12-15T03:00:00",
          "2019-12-15T04:00:00",
          "2019-12-15T05:00:00",
          "2019-12-15T06:00:00",
          "2019-12-15T07:00:00",
          "2019-12-15T08:00:00",
          "2019-12-15T09:00:00",
          "2019-12-15T10:00:00",
          "2019-12-15T11:00:00",
          "2019-12-15T12:00:00",
          "2019-12-15T13:00:00",
          "2019-12-15T14:00:00",
          "2019-12-15T15:00:00",
          "2019-12-15T16:00:00",
          "2019-12-15T17:00:00",
          "2019-12-15T18:00:00",
          "2019-12-15T19:00:00",
          "2019-12-15T20:00:00",
          "2019-12-15T21:00:00",
          "2019-12-15T22:00:00",
          "2019-12-16T00:00:00"
         ],
         "y": [
          0.15255328147698646,
          0.15047431312186205,
          0.15596816548338274,
          0.1451761826159708,
          0.14488079746031207,
          0.14794969591863563,
          0.1509574859945938,
          0.1502288724104569,
          0.14912668632815282,
          0.14632902536248169,
          0.14608416294317356,
          0.1472153791039052,
          0.1475082730021624,
          0.14768098328557422,
          0.08676470100653738,
          0.04816244451696166,
          0.038011377429726996,
          0.08747001815211003,
          0.11214897730746796,
          0.13121660198532553,
          0.14000912951121958,
          0.13917186955691452,
          0.14460460669602818,
          0.14381493547767743,
          0.15085201901540135,
          0.14306808033343327,
          0.14524957610157613,
          0.15258540108312285,
          0.15054965657126182,
          0.14955623875982912,
          0.1491410402365716,
          0.142726498843596,
          0.14053781468582094,
          0.14330151964686666,
          0.14228469960164594,
          0.14182178483306926,
          0.1383937314498752,
          0.13855918884287083,
          0.14077415118707987,
          0.1399552724766348,
          0.14042388470706935,
          0.14023456631848047,
          0.1433758436328015,
          0.14442097677249788,
          0.14411539113169264,
          0.14606244901092327,
          0.14830886566234272,
          0.14288444195035488,
          0.1471959401240595,
          0.16156009799740081,
          0.15924358243017653,
          0.16188892842219366,
          0.1574451175120828,
          0.1598440263862764,
          0.1502368148544526,
          0.14350355491066255,
          0.14270207803974083,
          0.1450702520040476,
          0.14518363559844297,
          0.1422279940487673,
          0.13930215951789351,
          0.13921165644126468,
          0.13775968370145536,
          0.13649236506381462,
          0.13777742184934821,
          0.13703213208172396,
          0.1388981799370985,
          0.13954536102211085,
          0.13919949919390806,
          0.13935282562167692,
          0.1393051307622155,
          0.14360323416615972,
          0.14643139267636487,
          0.1483590660411784,
          0.14785179338561835,
          0.14992699133425275,
          0.15056027431364052,
          0.15296278785577297,
          0.15069420998335975,
          0.1482399453772561,
          0.14454862913110686,
          0.13996601394613317,
          0.13912280336548966,
          0.13942124833109423,
          0.13750976605007725,
          0.13657725345165928,
          0.13534539421833697,
          0.13508304819329164,
          0.08893112434228616,
          0.06575788508015407,
          0.10586661116988946,
          0.12213710343726919,
          0.13351275429819723,
          0.13944125857781653,
          0.13985711004119833,
          0.14144913992413932,
          0.1387607753547146,
          0.13788931865977339,
          0.14298566678113506,
          0.1457525755344275,
          0.14544802705254867,
          0.14651020630362918,
          0.14316427385815111,
          0.1439680820274648,
          0.1419344645266387,
          0.14036322323889888,
          0.13907073397828948,
          0.13959716600391386,
          0.13709412468862595,
          0.13355304952655694,
          0.1341595442596641,
          0.13851049826355602,
          0.1366167211430918,
          0.13988402955213036,
          0.14320901963986388,
          0.14802047314948008,
          0.14979701663774875
         ]
        }
       ],
       "layout": {
        "hovermode": "x",
        "template": {
         "data": {
          "bar": [
           {
            "error_x": {
             "color": "#2a3f5f"
            },
            "error_y": {
             "color": "#2a3f5f"
            },
            "marker": {
             "line": {
              "color": "#E5ECF6",
              "width": 0.5
             }
            },
            "type": "bar"
           }
          ],
          "barpolar": [
           {
            "marker": {
             "line": {
              "color": "#E5ECF6",
              "width": 0.5
             }
            },
            "type": "barpolar"
           }
          ],
          "carpet": [
           {
            "aaxis": {
             "endlinecolor": "#2a3f5f",
             "gridcolor": "white",
             "linecolor": "white",
             "minorgridcolor": "white",
             "startlinecolor": "#2a3f5f"
            },
            "baxis": {
             "endlinecolor": "#2a3f5f",
             "gridcolor": "white",
             "linecolor": "white",
             "minorgridcolor": "white",
             "startlinecolor": "#2a3f5f"
            },
            "type": "carpet"
           }
          ],
          "choropleth": [
           {
            "colorbar": {
             "outlinewidth": 0,
             "ticks": ""
            },
            "type": "choropleth"
           }
          ],
          "contour": [
           {
            "colorbar": {
             "outlinewidth": 0,
             "ticks": ""
            },
            "colorscale": [
             [
              0,
              "#0d0887"
             ],
             [
              0.1111111111111111,
              "#46039f"
             ],
             [
              0.2222222222222222,
              "#7201a8"
             ],
             [
              0.3333333333333333,
              "#9c179e"
             ],
             [
              0.4444444444444444,
              "#bd3786"
             ],
             [
              0.5555555555555556,
              "#d8576b"
             ],
             [
              0.6666666666666666,
              "#ed7953"
             ],
             [
              0.7777777777777778,
              "#fb9f3a"
             ],
             [
              0.8888888888888888,
              "#fdca26"
             ],
             [
              1,
              "#f0f921"
             ]
            ],
            "type": "contour"
           }
          ],
          "contourcarpet": [
           {
            "colorbar": {
             "outlinewidth": 0,
             "ticks": ""
            },
            "type": "contourcarpet"
           }
          ],
          "heatmap": [
           {
            "colorbar": {
             "outlinewidth": 0,
             "ticks": ""
            },
            "colorscale": [
             [
              0,
              "#0d0887"
             ],
             [
              0.1111111111111111,
              "#46039f"
             ],
             [
              0.2222222222222222,
              "#7201a8"
             ],
             [
              0.3333333333333333,
              "#9c179e"
             ],
             [
              0.4444444444444444,
              "#bd3786"
             ],
             [
              0.5555555555555556,
              "#d8576b"
             ],
             [
              0.6666666666666666,
              "#ed7953"
             ],
             [
              0.7777777777777778,
              "#fb9f3a"
             ],
             [
              0.8888888888888888,
              "#fdca26"
             ],
             [
              1,
              "#f0f921"
             ]
            ],
            "type": "heatmap"
           }
          ],
          "heatmapgl": [
           {
            "colorbar": {
             "outlinewidth": 0,
             "ticks": ""
            },
            "colorscale": [
             [
              0,
              "#0d0887"
             ],
             [
              0.1111111111111111,
              "#46039f"
             ],
             [
              0.2222222222222222,
              "#7201a8"
             ],
             [
              0.3333333333333333,
              "#9c179e"
             ],
             [
              0.4444444444444444,
              "#bd3786"
             ],
             [
              0.5555555555555556,
              "#d8576b"
             ],
             [
              0.6666666666666666,
              "#ed7953"
             ],
             [
              0.7777777777777778,
              "#fb9f3a"
             ],
             [
              0.8888888888888888,
              "#fdca26"
             ],
             [
              1,
              "#f0f921"
             ]
            ],
            "type": "heatmapgl"
           }
          ],
          "histogram": [
           {
            "marker": {
             "colorbar": {
              "outlinewidth": 0,
              "ticks": ""
             }
            },
            "type": "histogram"
           }
          ],
          "histogram2d": [
           {
            "colorbar": {
             "outlinewidth": 0,
             "ticks": ""
            },
            "colorscale": [
             [
              0,
              "#0d0887"
             ],
             [
              0.1111111111111111,
              "#46039f"
             ],
             [
              0.2222222222222222,
              "#7201a8"
             ],
             [
              0.3333333333333333,
              "#9c179e"
             ],
             [
              0.4444444444444444,
              "#bd3786"
             ],
             [
              0.5555555555555556,
              "#d8576b"
             ],
             [
              0.6666666666666666,
              "#ed7953"
             ],
             [
              0.7777777777777778,
              "#fb9f3a"
             ],
             [
              0.8888888888888888,
              "#fdca26"
             ],
             [
              1,
              "#f0f921"
             ]
            ],
            "type": "histogram2d"
           }
          ],
          "histogram2dcontour": [
           {
            "colorbar": {
             "outlinewidth": 0,
             "ticks": ""
            },
            "colorscale": [
             [
              0,
              "#0d0887"
             ],
             [
              0.1111111111111111,
              "#46039f"
             ],
             [
              0.2222222222222222,
              "#7201a8"
             ],
             [
              0.3333333333333333,
              "#9c179e"
             ],
             [
              0.4444444444444444,
              "#bd3786"
             ],
             [
              0.5555555555555556,
              "#d8576b"
             ],
             [
              0.6666666666666666,
              "#ed7953"
             ],
             [
              0.7777777777777778,
              "#fb9f3a"
             ],
             [
              0.8888888888888888,
              "#fdca26"
             ],
             [
              1,
              "#f0f921"
             ]
            ],
            "type": "histogram2dcontour"
           }
          ],
          "mesh3d": [
           {
            "colorbar": {
             "outlinewidth": 0,
             "ticks": ""
            },
            "type": "mesh3d"
           }
          ],
          "parcoords": [
           {
            "line": {
             "colorbar": {
              "outlinewidth": 0,
              "ticks": ""
             }
            },
            "type": "parcoords"
           }
          ],
          "scatter": [
           {
            "marker": {
             "colorbar": {
              "outlinewidth": 0,
              "ticks": ""
             }
            },
            "type": "scatter"
           }
          ],
          "scatter3d": [
           {
            "line": {
             "colorbar": {
              "outlinewidth": 0,
              "ticks": ""
             }
            },
            "marker": {
             "colorbar": {
              "outlinewidth": 0,
              "ticks": ""
             }
            },
            "type": "scatter3d"
           }
          ],
          "scattercarpet": [
           {
            "marker": {
             "colorbar": {
              "outlinewidth": 0,
              "ticks": ""
             }
            },
            "type": "scattercarpet"
           }
          ],
          "scattergeo": [
           {
            "marker": {
             "colorbar": {
              "outlinewidth": 0,
              "ticks": ""
             }
            },
            "type": "scattergeo"
           }
          ],
          "scattergl": [
           {
            "marker": {
             "colorbar": {
              "outlinewidth": 0,
              "ticks": ""
             }
            },
            "type": "scattergl"
           }
          ],
          "scattermapbox": [
           {
            "marker": {
             "colorbar": {
              "outlinewidth": 0,
              "ticks": ""
             }
            },
            "type": "scattermapbox"
           }
          ],
          "scatterpolar": [
           {
            "marker": {
             "colorbar": {
              "outlinewidth": 0,
              "ticks": ""
             }
            },
            "type": "scatterpolar"
           }
          ],
          "scatterpolargl": [
           {
            "marker": {
             "colorbar": {
              "outlinewidth": 0,
              "ticks": ""
             }
            },
            "type": "scatterpolargl"
           }
          ],
          "scatterternary": [
           {
            "marker": {
             "colorbar": {
              "outlinewidth": 0,
              "ticks": ""
             }
            },
            "type": "scatterternary"
           }
          ],
          "surface": [
           {
            "colorbar": {
             "outlinewidth": 0,
             "ticks": ""
            },
            "colorscale": [
             [
              0,
              "#0d0887"
             ],
             [
              0.1111111111111111,
              "#46039f"
             ],
             [
              0.2222222222222222,
              "#7201a8"
             ],
             [
              0.3333333333333333,
              "#9c179e"
             ],
             [
              0.4444444444444444,
              "#bd3786"
             ],
             [
              0.5555555555555556,
              "#d8576b"
             ],
             [
              0.6666666666666666,
              "#ed7953"
             ],
             [
              0.7777777777777778,
              "#fb9f3a"
             ],
             [
              0.8888888888888888,
              "#fdca26"
             ],
             [
              1,
              "#f0f921"
             ]
            ],
            "type": "surface"
           }
          ],
          "table": [
           {
            "cells": {
             "fill": {
              "color": "#EBF0F8"
             },
             "line": {
              "color": "white"
             }
            },
            "header": {
             "fill": {
              "color": "#C8D4E3"
             },
             "line": {
              "color": "white"
             }
            },
            "type": "table"
           }
          ]
         },
         "layout": {
          "annotationdefaults": {
           "arrowcolor": "#2a3f5f",
           "arrowhead": 0,
           "arrowwidth": 1
          },
          "colorscale": {
           "diverging": [
            [
             0,
             "#8e0152"
            ],
            [
             0.1,
             "#c51b7d"
            ],
            [
             0.2,
             "#de77ae"
            ],
            [
             0.3,
             "#f1b6da"
            ],
            [
             0.4,
             "#fde0ef"
            ],
            [
             0.5,
             "#f7f7f7"
            ],
            [
             0.6,
             "#e6f5d0"
            ],
            [
             0.7,
             "#b8e186"
            ],
            [
             0.8,
             "#7fbc41"
            ],
            [
             0.9,
             "#4d9221"
            ],
            [
             1,
             "#276419"
            ]
           ],
           "sequential": [
            [
             0,
             "#0d0887"
            ],
            [
             0.1111111111111111,
             "#46039f"
            ],
            [
             0.2222222222222222,
             "#7201a8"
            ],
            [
             0.3333333333333333,
             "#9c179e"
            ],
            [
             0.4444444444444444,
             "#bd3786"
            ],
            [
             0.5555555555555556,
             "#d8576b"
            ],
            [
             0.6666666666666666,
             "#ed7953"
            ],
            [
             0.7777777777777778,
             "#fb9f3a"
            ],
            [
             0.8888888888888888,
             "#fdca26"
            ],
            [
             1,
             "#f0f921"
            ]
           ],
           "sequentialminus": [
            [
             0,
             "#0d0887"
            ],
            [
             0.1111111111111111,
             "#46039f"
            ],
            [
             0.2222222222222222,
             "#7201a8"
            ],
            [
             0.3333333333333333,
             "#9c179e"
            ],
            [
             0.4444444444444444,
             "#bd3786"
            ],
            [
             0.5555555555555556,
             "#d8576b"
            ],
            [
             0.6666666666666666,
             "#ed7953"
            ],
            [
             0.7777777777777778,
             "#fb9f3a"
            ],
            [
             0.8888888888888888,
             "#fdca26"
            ],
            [
             1,
             "#f0f921"
            ]
           ]
          },
          "colorway": [
           "#636efa",
           "#EF553B",
           "#00cc96",
           "#ab63fa",
           "#FFA15A",
           "#19d3f3",
           "#FF6692",
           "#B6E880",
           "#FF97FF",
           "#FECB52"
          ],
          "font": {
           "color": "#2a3f5f"
          },
          "geo": {
           "bgcolor": "white",
           "lakecolor": "white",
           "landcolor": "#E5ECF6",
           "showlakes": true,
           "showland": true,
           "subunitcolor": "white"
          },
          "hoverlabel": {
           "align": "left"
          },
          "hovermode": "closest",
          "mapbox": {
           "style": "light"
          },
          "paper_bgcolor": "white",
          "plot_bgcolor": "#E5ECF6",
          "polar": {
           "angularaxis": {
            "gridcolor": "white",
            "linecolor": "white",
            "ticks": ""
           },
           "bgcolor": "#E5ECF6",
           "radialaxis": {
            "gridcolor": "white",
            "linecolor": "white",
            "ticks": ""
           }
          },
          "scene": {
           "xaxis": {
            "backgroundcolor": "#E5ECF6",
            "gridcolor": "white",
            "gridwidth": 2,
            "linecolor": "white",
            "showbackground": true,
            "ticks": "",
            "zerolinecolor": "white"
           },
           "yaxis": {
            "backgroundcolor": "#E5ECF6",
            "gridcolor": "white",
            "gridwidth": 2,
            "linecolor": "white",
            "showbackground": true,
            "ticks": "",
            "zerolinecolor": "white"
           },
           "zaxis": {
            "backgroundcolor": "#E5ECF6",
            "gridcolor": "white",
            "gridwidth": 2,
            "linecolor": "white",
            "showbackground": true,
            "ticks": "",
            "zerolinecolor": "white"
           }
          },
          "shapedefaults": {
           "line": {
            "color": "#2a3f5f"
           }
          },
          "ternary": {
           "aaxis": {
            "gridcolor": "white",
            "linecolor": "white",
            "ticks": ""
           },
           "baxis": {
            "gridcolor": "white",
            "linecolor": "white",
            "ticks": ""
           },
           "bgcolor": "#E5ECF6",
           "caxis": {
            "gridcolor": "white",
            "linecolor": "white",
            "ticks": ""
           }
          },
          "title": {
           "x": 0.05
          },
          "xaxis": {
           "automargin": true,
           "gridcolor": "white",
           "linecolor": "white",
           "ticks": "",
           "zerolinecolor": "white",
           "zerolinewidth": 2
          },
          "yaxis": {
           "automargin": true,
           "gridcolor": "white",
           "linecolor": "white",
           "ticks": "",
           "zerolinecolor": "white",
           "zerolinewidth": 2
          }
         }
        },
        "title": {
         "text": "tuwen:stats/click_ratio"
        },
        "xaxis": {
         "type": "date"
        }
       }
      },
      "text/html": [
       "<div>\n",
       "        \n",
       "        \n",
       "            <div id=\"9267364d-d3b5-4f4f-b9ee-0d151d96853a\" class=\"plotly-graph-div\" style=\"height:525px; width:100%;\"></div>\n",
       "            <script type=\"text/javascript\">\n",
       "                require([\"plotly\"], function(Plotly) {\n",
       "                    window.PLOTLYENV=window.PLOTLYENV || {};\n",
       "                    \n",
       "                if (document.getElementById(\"9267364d-d3b5-4f4f-b9ee-0d151d96853a\")) {\n",
       "                    Plotly.newPlot(\n",
       "                        '9267364d-d3b5-4f4f-b9ee-0d151d96853a',\n",
       "                        [{\"line\": {\"shape\": \"spline\", \"smoothing\": 1.0}, \"mode\": \"lines+markers\", \"name\": \"456:stats/click_ratio\", \"type\": \"scatter\", \"x\": [\"2019-12-11T00:00:00\", \"2019-12-11T01:00:00\", \"2019-12-11T02:00:00\", \"2019-12-11T03:00:00\", \"2019-12-11T04:00:00\", \"2019-12-11T05:00:00\", \"2019-12-11T06:00:00\", \"2019-12-11T07:00:00\", \"2019-12-11T08:00:00\", \"2019-12-11T09:00:00\", \"2019-12-11T10:00:00\", \"2019-12-11T11:00:00\", \"2019-12-11T12:00:00\", \"2019-12-11T13:00:00\", \"2019-12-11T15:00:00\", \"2019-12-11T16:00:00\", \"2019-12-11T19:00:00\", \"2019-12-11T20:00:00\", \"2019-12-11T21:00:00\", \"2019-12-11T22:00:00\", \"2019-12-11T23:00:00\", \"2019-12-12T00:00:00\", \"2019-12-12T01:00:00\", \"2019-12-12T02:00:00\", \"2019-12-12T03:00:00\", \"2019-12-12T04:00:00\", \"2019-12-12T05:00:00\", \"2019-12-12T06:00:00\", \"2019-12-12T07:00:00\", \"2019-12-12T08:00:00\", \"2019-12-12T09:00:00\", \"2019-12-12T10:00:00\", \"2019-12-12T11:00:00\", \"2019-12-12T12:00:00\", \"2019-12-12T13:00:00\", \"2019-12-12T14:00:00\", \"2019-12-12T15:00:00\", \"2019-12-12T16:00:00\", \"2019-12-12T17:00:00\", \"2019-12-12T18:00:00\", \"2019-12-12T19:00:00\", \"2019-12-12T20:00:00\", \"2019-12-12T21:00:00\", \"2019-12-12T22:00:00\", \"2019-12-12T23:00:00\", \"2019-12-13T00:00:00\", \"2019-12-13T01:00:00\", \"2019-12-13T02:00:00\", \"2019-12-13T03:00:00\", \"2019-12-13T04:00:00\", \"2019-12-13T05:00:00\", \"2019-12-13T06:00:00\", \"2019-12-13T07:00:00\", \"2019-12-13T08:00:00\", \"2019-12-13T09:00:00\", \"2019-12-13T10:00:00\", \"2019-12-13T11:00:00\", \"2019-12-13T12:00:00\", \"2019-12-13T13:00:00\", \"2019-12-13T14:00:00\", \"2019-12-13T15:00:00\", \"2019-12-13T16:00:00\", \"2019-12-13T17:00:00\", \"2019-12-13T18:00:00\", \"2019-12-13T19:00:00\", \"2019-12-13T20:00:00\", \"2019-12-13T21:00:00\", \"2019-12-13T22:00:00\", \"2019-12-13T23:00:00\", \"2019-12-14T00:00:00\", \"2019-12-14T01:00:00\", \"2019-12-14T02:00:00\", \"2019-12-14T03:00:00\", \"2019-12-14T04:00:00\", \"2019-12-14T05:00:00\", \"2019-12-14T06:00:00\", \"2019-12-14T07:00:00\", \"2019-12-14T08:00:00\", \"2019-12-14T09:00:00\", \"2019-12-14T10:00:00\", \"2019-12-14T11:00:00\", \"2019-12-14T12:00:00\", \"2019-12-14T13:00:00\", \"2019-12-14T14:00:00\", \"2019-12-14T15:00:00\", \"2019-12-14T16:00:00\", \"2019-12-14T17:00:00\", \"2019-12-14T18:00:00\", \"2019-12-14T19:00:00\", \"2019-12-14T20:00:00\", \"2019-12-14T21:00:00\", \"2019-12-14T22:00:00\", \"2019-12-14T23:00:00\", \"2019-12-15T00:00:00\", \"2019-12-15T01:00:00\", \"2019-12-15T02:00:00\", \"2019-12-15T03:00:00\", \"2019-12-15T04:00:00\", \"2019-12-15T05:00:00\", \"2019-12-15T06:00:00\", \"2019-12-15T07:00:00\", \"2019-12-15T08:00:00\", \"2019-12-15T09:00:00\", \"2019-12-15T10:00:00\", \"2019-12-15T11:00:00\", \"2019-12-15T12:00:00\", \"2019-12-15T13:00:00\", \"2019-12-15T14:00:00\", \"2019-12-15T15:00:00\", \"2019-12-15T16:00:00\", \"2019-12-15T17:00:00\", \"2019-12-15T18:00:00\", \"2019-12-15T19:00:00\", \"2019-12-15T20:00:00\", \"2019-12-15T21:00:00\", \"2019-12-15T22:00:00\", \"2019-12-16T00:00:00\"], \"y\": [0.15014727348555934, 0.14806401503394023, 0.14767278591469607, 0.14940368685658476, 0.14764859220644186, 0.15204126132642978, 0.15644787935758664, 0.15349240098214023, 0.1537847364147243, 0.15204850826363445, 0.1495743660314542, 0.14615162405881343, 0.14763371457476007, 0.1467181888024273, 0.08475009927983934, 0.04731368995593888, 0.037724712183801065, 0.09256533531218578, 0.12189174873846725, 0.13455597657464877, 0.13829254510192104, 0.1408751061060411, 0.14070537002460343, 0.13886572209155826, 0.14048966648310288, 0.14284413508785523, 0.15145942453431202, 0.15436532466941916, 0.15016268461131635, 0.14939641479736904, 0.14947242415721207, 0.146379026125805, 0.1425733468076963, 0.14459682591600073, 0.14383196981247104, 0.14335611102092313, 0.14053595012529535, 0.14145862739121462, 0.14319070922949517, 0.14145451120934338, 0.14421506900872966, 0.1437639357162429, 0.14555617370474883, 0.14937770520978763, 0.15271090227410944, 0.1538052603941006, 0.15249218981938847, 0.1516343733150612, 0.15196570267879417, 0.15116838089940063, 0.15491519536267212, 0.1576385840138879, 0.15612633307645463, 0.15692067197982779, 0.151658542051962, 0.14844572949694423, 0.14419604462777447, 0.14502017693609104, 0.14642839432070737, 0.1448032003578088, 0.14360004429506512, 0.14356988243142177, 0.1410029516551311, 0.13937431512502352, 0.1340628531403104, 0.134472951563407, 0.13985063747841753, 0.1433366455455271, 0.14623980776545314, 0.14913066714098164, 0.14814963021946004, 0.14676226810695753, 0.14812462518818345, 0.14978986076855444, 0.15244896448238582, 0.15467220289050893, 0.15534835460555654, 0.15285687953087804, 0.15156961344617137, 0.14831730840409085, 0.14343179486808266, 0.14403743740695438, 0.14530764617138253, 0.1464202766597624, 0.14651428391874094, 0.1425648082153445, 0.1430332645092223, 0.14194308588345084, 0.0927252227952563, 0.06921682556166914, 0.1123067665076751, 0.12914792849656118, 0.1414915152966772, 0.1456615040706545, 0.14463822354510703, 0.1436685309423746, 0.13953245046166862, 0.14301732038778367, 0.14681819154908304, 0.14909862402223062, 0.148389780916002, 0.14781306551090392, 0.14869042762246257, 0.1461607730429714, 0.14273189908409847, 0.143409462283808, 0.14364912912341132, 0.14355725635767896, 0.14104846473055122, 0.13170531472771033, 0.12999620624851604, 0.12641216494913843, 0.13490456212301336, 0.14262597048283476, 0.1438528469131532, 0.14719674192816584, 0.15143905039248362]}, {\"line\": {\"shape\": \"spline\", \"smoothing\": 1.0}, \"mode\": \"lines+markers\", \"name\": \"15:stats/click_ratio\", \"type\": \"scatter\", \"x\": [\"2019-12-11T00:00:00\", \"2019-12-11T01:00:00\", \"2019-12-11T02:00:00\", \"2019-12-11T03:00:00\", \"2019-12-11T04:00:00\", \"2019-12-11T05:00:00\", \"2019-12-11T06:00:00\", \"2019-12-11T07:00:00\", \"2019-12-11T08:00:00\", \"2019-12-11T09:00:00\", \"2019-12-11T10:00:00\", \"2019-12-11T11:00:00\", \"2019-12-11T12:00:00\", \"2019-12-11T13:00:00\", \"2019-12-11T15:00:00\", \"2019-12-11T16:00:00\", \"2019-12-11T19:00:00\", \"2019-12-11T20:00:00\", \"2019-12-11T21:00:00\", \"2019-12-11T22:00:00\", \"2019-12-11T23:00:00\", \"2019-12-12T00:00:00\", \"2019-12-12T01:00:00\", \"2019-12-12T02:00:00\", \"2019-12-12T03:00:00\", \"2019-12-12T04:00:00\", \"2019-12-12T05:00:00\", \"2019-12-12T06:00:00\", \"2019-12-12T07:00:00\", \"2019-12-12T08:00:00\", \"2019-12-12T09:00:00\", \"2019-12-12T10:00:00\", \"2019-12-12T11:00:00\", \"2019-12-12T12:00:00\", \"2019-12-12T13:00:00\", \"2019-12-12T14:00:00\", \"2019-12-12T15:00:00\", \"2019-12-12T16:00:00\", \"2019-12-12T17:00:00\", \"2019-12-12T18:00:00\", \"2019-12-12T19:00:00\", \"2019-12-12T20:00:00\", \"2019-12-12T21:00:00\", \"2019-12-12T22:00:00\", \"2019-12-12T23:00:00\", \"2019-12-13T00:00:00\", \"2019-12-13T01:00:00\", \"2019-12-13T02:00:00\", \"2019-12-13T03:00:00\", \"2019-12-13T04:00:00\", \"2019-12-13T05:00:00\", \"2019-12-13T06:00:00\", \"2019-12-13T07:00:00\", \"2019-12-13T08:00:00\", \"2019-12-13T09:00:00\", \"2019-12-13T10:00:00\", \"2019-12-13T11:00:00\", \"2019-12-13T12:00:00\", \"2019-12-13T13:00:00\", \"2019-12-13T14:00:00\", \"2019-12-13T15:00:00\", \"2019-12-13T16:00:00\", \"2019-12-13T17:00:00\", \"2019-12-13T18:00:00\", \"2019-12-13T19:00:00\", \"2019-12-13T20:00:00\", \"2019-12-13T21:00:00\", \"2019-12-13T22:00:00\", \"2019-12-13T23:00:00\", \"2019-12-14T00:00:00\", \"2019-12-14T01:00:00\", \"2019-12-14T02:00:00\", \"2019-12-14T03:00:00\", \"2019-12-14T04:00:00\", \"2019-12-14T05:00:00\", \"2019-12-14T06:00:00\", \"2019-12-14T07:00:00\", \"2019-12-14T08:00:00\", \"2019-12-14T09:00:00\", \"2019-12-14T10:00:00\", \"2019-12-14T11:00:00\", \"2019-12-14T12:00:00\", \"2019-12-14T13:00:00\", \"2019-12-14T14:00:00\", \"2019-12-14T15:00:00\", \"2019-12-14T16:00:00\", \"2019-12-14T17:00:00\", \"2019-12-14T18:00:00\", \"2019-12-14T19:00:00\", \"2019-12-14T20:00:00\", \"2019-12-14T21:00:00\", \"2019-12-14T22:00:00\", \"2019-12-14T23:00:00\", \"2019-12-15T00:00:00\", \"2019-12-15T01:00:00\", \"2019-12-15T02:00:00\", \"2019-12-15T03:00:00\", \"2019-12-15T04:00:00\", \"2019-12-15T05:00:00\", \"2019-12-15T06:00:00\", \"2019-12-15T07:00:00\", \"2019-12-15T08:00:00\", \"2019-12-15T09:00:00\", \"2019-12-15T10:00:00\", \"2019-12-15T11:00:00\", \"2019-12-15T12:00:00\", \"2019-12-15T13:00:00\", \"2019-12-15T14:00:00\", \"2019-12-15T15:00:00\", \"2019-12-15T16:00:00\", \"2019-12-15T17:00:00\", \"2019-12-15T18:00:00\", \"2019-12-15T19:00:00\", \"2019-12-15T20:00:00\", \"2019-12-15T21:00:00\", \"2019-12-15T22:00:00\", \"2019-12-16T00:00:00\"], \"y\": [0.15255328147698646, 0.15047431312186205, 0.15596816548338274, 0.1451761826159708, 0.14488079746031207, 0.14794969591863563, 0.1509574859945938, 0.1502288724104569, 0.14912668632815282, 0.14632902536248169, 0.14608416294317356, 0.1472153791039052, 0.1475082730021624, 0.14768098328557422, 0.08676470100653738, 0.04816244451696166, 0.038011377429726996, 0.08747001815211003, 0.11214897730746796, 0.13121660198532553, 0.14000912951121958, 0.13917186955691452, 0.14460460669602818, 0.14381493547767743, 0.15085201901540135, 0.14306808033343327, 0.14524957610157613, 0.15258540108312285, 0.15054965657126182, 0.14955623875982912, 0.1491410402365716, 0.142726498843596, 0.14053781468582094, 0.14330151964686666, 0.14228469960164594, 0.14182178483306926, 0.1383937314498752, 0.13855918884287083, 0.14077415118707987, 0.1399552724766348, 0.14042388470706935, 0.14023456631848047, 0.1433758436328015, 0.14442097677249788, 0.14411539113169264, 0.14606244901092327, 0.14830886566234272, 0.14288444195035488, 0.1471959401240595, 0.16156009799740081, 0.15924358243017653, 0.16188892842219366, 0.1574451175120828, 0.1598440263862764, 0.1502368148544526, 0.14350355491066255, 0.14270207803974083, 0.1450702520040476, 0.14518363559844297, 0.1422279940487673, 0.13930215951789351, 0.13921165644126468, 0.13775968370145536, 0.13649236506381462, 0.13777742184934821, 0.13703213208172396, 0.1388981799370985, 0.13954536102211085, 0.13919949919390806, 0.13935282562167692, 0.1393051307622155, 0.14360323416615972, 0.14643139267636487, 0.1483590660411784, 0.14785179338561835, 0.14992699133425275, 0.15056027431364052, 0.15296278785577297, 0.15069420998335975, 0.1482399453772561, 0.14454862913110686, 0.13996601394613317, 0.13912280336548966, 0.13942124833109423, 0.13750976605007725, 0.13657725345165928, 0.13534539421833697, 0.13508304819329164, 0.08893112434228616, 0.06575788508015407, 0.10586661116988946, 0.12213710343726919, 0.13351275429819723, 0.13944125857781653, 0.13985711004119833, 0.14144913992413932, 0.1387607753547146, 0.13788931865977339, 0.14298566678113506, 0.1457525755344275, 0.14544802705254867, 0.14651020630362918, 0.14316427385815111, 0.1439680820274648, 0.1419344645266387, 0.14036322323889888, 0.13907073397828948, 0.13959716600391386, 0.13709412468862595, 0.13355304952655694, 0.1341595442596641, 0.13851049826355602, 0.1366167211430918, 0.13988402955213036, 0.14320901963986388, 0.14802047314948008, 0.14979701663774875]}],\n",
       "                        {\"hovermode\": \"x\", \"template\": {\"data\": {\"bar\": [{\"error_x\": {\"color\": \"#2a3f5f\"}, \"error_y\": {\"color\": \"#2a3f5f\"}, \"marker\": {\"line\": {\"color\": \"#E5ECF6\", \"width\": 0.5}}, \"type\": \"bar\"}], \"barpolar\": [{\"marker\": {\"line\": {\"color\": \"#E5ECF6\", \"width\": 0.5}}, \"type\": \"barpolar\"}], \"carpet\": [{\"aaxis\": {\"endlinecolor\": \"#2a3f5f\", \"gridcolor\": \"white\", \"linecolor\": \"white\", \"minorgridcolor\": \"white\", \"startlinecolor\": \"#2a3f5f\"}, \"baxis\": {\"endlinecolor\": \"#2a3f5f\", \"gridcolor\": \"white\", \"linecolor\": \"white\", \"minorgridcolor\": \"white\", \"startlinecolor\": \"#2a3f5f\"}, \"type\": \"carpet\"}], \"choropleth\": [{\"colorbar\": {\"outlinewidth\": 0, \"ticks\": \"\"}, \"type\": \"choropleth\"}], \"contour\": [{\"colorbar\": {\"outlinewidth\": 0, \"ticks\": \"\"}, \"colorscale\": [[0.0, \"#0d0887\"], [0.1111111111111111, \"#46039f\"], [0.2222222222222222, \"#7201a8\"], [0.3333333333333333, \"#9c179e\"], [0.4444444444444444, \"#bd3786\"], [0.5555555555555556, \"#d8576b\"], [0.6666666666666666, \"#ed7953\"], [0.7777777777777778, \"#fb9f3a\"], [0.8888888888888888, \"#fdca26\"], [1.0, \"#f0f921\"]], \"type\": \"contour\"}], \"contourcarpet\": [{\"colorbar\": {\"outlinewidth\": 0, \"ticks\": \"\"}, \"type\": \"contourcarpet\"}], \"heatmap\": [{\"colorbar\": {\"outlinewidth\": 0, \"ticks\": \"\"}, \"colorscale\": [[0.0, \"#0d0887\"], [0.1111111111111111, \"#46039f\"], [0.2222222222222222, \"#7201a8\"], [0.3333333333333333, \"#9c179e\"], [0.4444444444444444, \"#bd3786\"], [0.5555555555555556, \"#d8576b\"], [0.6666666666666666, \"#ed7953\"], [0.7777777777777778, \"#fb9f3a\"], [0.8888888888888888, \"#fdca26\"], [1.0, \"#f0f921\"]], \"type\": \"heatmap\"}], \"heatmapgl\": [{\"colorbar\": {\"outlinewidth\": 0, \"ticks\": \"\"}, \"colorscale\": [[0.0, \"#0d0887\"], [0.1111111111111111, \"#46039f\"], [0.2222222222222222, \"#7201a8\"], [0.3333333333333333, \"#9c179e\"], [0.4444444444444444, \"#bd3786\"], [0.5555555555555556, \"#d8576b\"], [0.6666666666666666, \"#ed7953\"], [0.7777777777777778, \"#fb9f3a\"], [0.8888888888888888, \"#fdca26\"], [1.0, \"#f0f921\"]], \"type\": \"heatmapgl\"}], \"histogram\": [{\"marker\": {\"colorbar\": {\"outlinewidth\": 0, \"ticks\": \"\"}}, \"type\": \"histogram\"}], \"histogram2d\": [{\"colorbar\": {\"outlinewidth\": 0, \"ticks\": \"\"}, \"colorscale\": [[0.0, \"#0d0887\"], [0.1111111111111111, \"#46039f\"], [0.2222222222222222, \"#7201a8\"], [0.3333333333333333, \"#9c179e\"], [0.4444444444444444, \"#bd3786\"], [0.5555555555555556, \"#d8576b\"], [0.6666666666666666, \"#ed7953\"], [0.7777777777777778, \"#fb9f3a\"], [0.8888888888888888, \"#fdca26\"], [1.0, \"#f0f921\"]], \"type\": \"histogram2d\"}], \"histogram2dcontour\": [{\"colorbar\": {\"outlinewidth\": 0, \"ticks\": \"\"}, \"colorscale\": [[0.0, \"#0d0887\"], [0.1111111111111111, \"#46039f\"], [0.2222222222222222, \"#7201a8\"], [0.3333333333333333, \"#9c179e\"], [0.4444444444444444, \"#bd3786\"], [0.5555555555555556, \"#d8576b\"], [0.6666666666666666, \"#ed7953\"], [0.7777777777777778, \"#fb9f3a\"], [0.8888888888888888, \"#fdca26\"], [1.0, \"#f0f921\"]], \"type\": \"histogram2dcontour\"}], \"mesh3d\": [{\"colorbar\": {\"outlinewidth\": 0, \"ticks\": \"\"}, \"type\": \"mesh3d\"}], \"parcoords\": [{\"line\": {\"colorbar\": {\"outlinewidth\": 0, \"ticks\": \"\"}}, \"type\": \"parcoords\"}], \"scatter\": [{\"marker\": {\"colorbar\": {\"outlinewidth\": 0, \"ticks\": \"\"}}, \"type\": \"scatter\"}], \"scatter3d\": [{\"line\": {\"colorbar\": {\"outlinewidth\": 0, \"ticks\": \"\"}}, \"marker\": {\"colorbar\": {\"outlinewidth\": 0, \"ticks\": \"\"}}, \"type\": \"scatter3d\"}], \"scattercarpet\": [{\"marker\": {\"colorbar\": {\"outlinewidth\": 0, \"ticks\": \"\"}}, \"type\": \"scattercarpet\"}], \"scattergeo\": [{\"marker\": {\"colorbar\": {\"outlinewidth\": 0, \"ticks\": \"\"}}, \"type\": \"scattergeo\"}], \"scattergl\": [{\"marker\": {\"colorbar\": {\"outlinewidth\": 0, \"ticks\": \"\"}}, \"type\": \"scattergl\"}], \"scattermapbox\": [{\"marker\": {\"colorbar\": {\"outlinewidth\": 0, \"ticks\": \"\"}}, \"type\": \"scattermapbox\"}], \"scatterpolar\": [{\"marker\": {\"colorbar\": {\"outlinewidth\": 0, \"ticks\": \"\"}}, \"type\": \"scatterpolar\"}], \"scatterpolargl\": [{\"marker\": {\"colorbar\": {\"outlinewidth\": 0, \"ticks\": \"\"}}, \"type\": \"scatterpolargl\"}], \"scatterternary\": [{\"marker\": {\"colorbar\": {\"outlinewidth\": 0, \"ticks\": \"\"}}, \"type\": \"scatterternary\"}], \"surface\": [{\"colorbar\": {\"outlinewidth\": 0, \"ticks\": \"\"}, \"colorscale\": [[0.0, \"#0d0887\"], [0.1111111111111111, \"#46039f\"], [0.2222222222222222, \"#7201a8\"], [0.3333333333333333, \"#9c179e\"], [0.4444444444444444, \"#bd3786\"], [0.5555555555555556, \"#d8576b\"], [0.6666666666666666, \"#ed7953\"], [0.7777777777777778, \"#fb9f3a\"], [0.8888888888888888, \"#fdca26\"], [1.0, \"#f0f921\"]], \"type\": \"surface\"}], \"table\": [{\"cells\": {\"fill\": {\"color\": \"#EBF0F8\"}, \"line\": {\"color\": \"white\"}}, \"header\": {\"fill\": {\"color\": \"#C8D4E3\"}, \"line\": {\"color\": \"white\"}}, \"type\": \"table\"}]}, \"layout\": {\"annotationdefaults\": {\"arrowcolor\": \"#2a3f5f\", \"arrowhead\": 0, \"arrowwidth\": 1}, \"colorscale\": {\"diverging\": [[0, \"#8e0152\"], [0.1, \"#c51b7d\"], [0.2, \"#de77ae\"], [0.3, \"#f1b6da\"], [0.4, \"#fde0ef\"], [0.5, \"#f7f7f7\"], [0.6, \"#e6f5d0\"], [0.7, \"#b8e186\"], [0.8, \"#7fbc41\"], [0.9, \"#4d9221\"], [1, \"#276419\"]], \"sequential\": [[0.0, \"#0d0887\"], [0.1111111111111111, \"#46039f\"], [0.2222222222222222, \"#7201a8\"], [0.3333333333333333, \"#9c179e\"], [0.4444444444444444, \"#bd3786\"], [0.5555555555555556, \"#d8576b\"], [0.6666666666666666, \"#ed7953\"], [0.7777777777777778, \"#fb9f3a\"], [0.8888888888888888, \"#fdca26\"], [1.0, \"#f0f921\"]], \"sequentialminus\": [[0.0, \"#0d0887\"], [0.1111111111111111, \"#46039f\"], [0.2222222222222222, \"#7201a8\"], [0.3333333333333333, \"#9c179e\"], [0.4444444444444444, \"#bd3786\"], [0.5555555555555556, \"#d8576b\"], [0.6666666666666666, \"#ed7953\"], [0.7777777777777778, \"#fb9f3a\"], [0.8888888888888888, \"#fdca26\"], [1.0, \"#f0f921\"]]}, \"colorway\": [\"#636efa\", \"#EF553B\", \"#00cc96\", \"#ab63fa\", \"#FFA15A\", \"#19d3f3\", \"#FF6692\", \"#B6E880\", \"#FF97FF\", \"#FECB52\"], \"font\": {\"color\": \"#2a3f5f\"}, \"geo\": {\"bgcolor\": \"white\", \"lakecolor\": \"white\", \"landcolor\": \"#E5ECF6\", \"showlakes\": true, \"showland\": true, \"subunitcolor\": \"white\"}, \"hoverlabel\": {\"align\": \"left\"}, \"hovermode\": \"closest\", \"mapbox\": {\"style\": \"light\"}, \"paper_bgcolor\": \"white\", \"plot_bgcolor\": \"#E5ECF6\", \"polar\": {\"angularaxis\": {\"gridcolor\": \"white\", \"linecolor\": \"white\", \"ticks\": \"\"}, \"bgcolor\": \"#E5ECF6\", \"radialaxis\": {\"gridcolor\": \"white\", \"linecolor\": \"white\", \"ticks\": \"\"}}, \"scene\": {\"xaxis\": {\"backgroundcolor\": \"#E5ECF6\", \"gridcolor\": \"white\", \"gridwidth\": 2, \"linecolor\": \"white\", \"showbackground\": true, \"ticks\": \"\", \"zerolinecolor\": \"white\"}, \"yaxis\": {\"backgroundcolor\": \"#E5ECF6\", \"gridcolor\": \"white\", \"gridwidth\": 2, \"linecolor\": \"white\", \"showbackground\": true, \"ticks\": \"\", \"zerolinecolor\": \"white\"}, \"zaxis\": {\"backgroundcolor\": \"#E5ECF6\", \"gridcolor\": \"white\", \"gridwidth\": 2, \"linecolor\": \"white\", \"showbackground\": true, \"ticks\": \"\", \"zerolinecolor\": \"white\"}}, \"shapedefaults\": {\"line\": {\"color\": \"#2a3f5f\"}}, \"ternary\": {\"aaxis\": {\"gridcolor\": \"white\", \"linecolor\": \"white\", \"ticks\": \"\"}, \"baxis\": {\"gridcolor\": \"white\", \"linecolor\": \"white\", \"ticks\": \"\"}, \"bgcolor\": \"#E5ECF6\", \"caxis\": {\"gridcolor\": \"white\", \"linecolor\": \"white\", \"ticks\": \"\"}}, \"title\": {\"x\": 0.05}, \"xaxis\": {\"automargin\": true, \"gridcolor\": \"white\", \"linecolor\": \"white\", \"ticks\": \"\", \"zerolinecolor\": \"white\", \"zerolinewidth\": 2}, \"yaxis\": {\"automargin\": true, \"gridcolor\": \"white\", \"linecolor\": \"white\", \"ticks\": \"\", \"zerolinecolor\": \"white\", \"zerolinewidth\": 2}}}, \"title\": {\"text\": \"tuwen:stats/click_ratio\"}, \"xaxis\": {\"type\": \"date\"}},\n",
       "                        {\"responsive\": true}\n",
       "                    ).then(function(){\n",
       "                            \n",
       "var gd = document.getElementById('9267364d-d3b5-4f4f-b9ee-0d151d96853a');\n",
       "var x = new MutationObserver(function (mutations, observer) {{\n",
       "        var display = window.getComputedStyle(gd).display;\n",
       "        if (!display || display === 'none') {{\n",
       "            console.log([gd, 'removed!']);\n",
       "            Plotly.purge(gd);\n",
       "            observer.disconnect();\n",
       "        }}\n",
       "}});\n",
       "\n",
       "// Listen for the removal of the full notebook cells\n",
       "var notebookContainer = gd.closest('#notebook-container');\n",
       "if (notebookContainer) {{\n",
       "    x.observe(notebookContainer, {childList: true});\n",
       "}}\n",
       "\n",
       "// Listen for the clearing of the current output cell\n",
       "var outputEl = gd.closest('.output');\n",
       "if (outputEl) {{\n",
       "    x.observe(outputEl, {childList: true});\n",
       "}}\n",
       "\n",
       "                        })\n",
       "                };\n",
       "                });\n",
       "            </script>\n",
       "        </div>"
      ]
     },
     "metadata": {},
     "output_type": "display_data"
    }
   ],
   "source": [
    "compare(df, 'stats/click_ratio')"
   ]
  },
  {
   "cell_type": "code",
   "execution_count": 27,
   "metadata": {},
   "outputs": [
    {
     "data": {
      "application/vnd.plotly.v1+json": {
       "config": {
        "linkText": "Export to plot.ly",
        "plotlyServerURL": "https://plot.ly",
        "showLink": false
       },
       "data": [
        {
         "line": {
          "shape": "spline",
          "smoothing": 1
         },
         "mode": "lines+markers",
         "name": "456:stats/time_per_click",
         "type": "scatter",
         "x": [
          "2019-12-11T00:00:00",
          "2019-12-11T01:00:00",
          "2019-12-11T02:00:00",
          "2019-12-11T03:00:00",
          "2019-12-11T04:00:00",
          "2019-12-11T05:00:00",
          "2019-12-11T06:00:00",
          "2019-12-11T07:00:00",
          "2019-12-11T08:00:00",
          "2019-12-11T09:00:00",
          "2019-12-11T10:00:00",
          "2019-12-11T11:00:00",
          "2019-12-11T12:00:00",
          "2019-12-11T13:00:00",
          "2019-12-11T15:00:00",
          "2019-12-11T16:00:00",
          "2019-12-11T19:00:00",
          "2019-12-11T20:00:00",
          "2019-12-11T21:00:00",
          "2019-12-11T22:00:00",
          "2019-12-11T23:00:00",
          "2019-12-12T00:00:00",
          "2019-12-12T01:00:00",
          "2019-12-12T02:00:00",
          "2019-12-12T03:00:00",
          "2019-12-12T04:00:00",
          "2019-12-12T05:00:00",
          "2019-12-12T06:00:00",
          "2019-12-12T07:00:00",
          "2019-12-12T08:00:00",
          "2019-12-12T09:00:00",
          "2019-12-12T10:00:00",
          "2019-12-12T11:00:00",
          "2019-12-12T12:00:00",
          "2019-12-12T13:00:00",
          "2019-12-12T14:00:00",
          "2019-12-12T15:00:00",
          "2019-12-12T16:00:00",
          "2019-12-12T17:00:00",
          "2019-12-12T18:00:00",
          "2019-12-12T19:00:00",
          "2019-12-12T20:00:00",
          "2019-12-12T21:00:00",
          "2019-12-12T22:00:00",
          "2019-12-12T23:00:00",
          "2019-12-13T00:00:00",
          "2019-12-13T01:00:00",
          "2019-12-13T02:00:00",
          "2019-12-13T03:00:00",
          "2019-12-13T04:00:00",
          "2019-12-13T05:00:00",
          "2019-12-13T06:00:00",
          "2019-12-13T07:00:00",
          "2019-12-13T08:00:00",
          "2019-12-13T09:00:00",
          "2019-12-13T10:00:00",
          "2019-12-13T11:00:00",
          "2019-12-13T12:00:00",
          "2019-12-13T13:00:00",
          "2019-12-13T14:00:00",
          "2019-12-13T15:00:00",
          "2019-12-13T16:00:00",
          "2019-12-13T17:00:00",
          "2019-12-13T18:00:00",
          "2019-12-13T19:00:00",
          "2019-12-13T20:00:00",
          "2019-12-13T21:00:00",
          "2019-12-13T22:00:00",
          "2019-12-13T23:00:00",
          "2019-12-14T00:00:00",
          "2019-12-14T01:00:00",
          "2019-12-14T02:00:00",
          "2019-12-14T03:00:00",
          "2019-12-14T04:00:00",
          "2019-12-14T05:00:00",
          "2019-12-14T06:00:00",
          "2019-12-14T07:00:00",
          "2019-12-14T08:00:00",
          "2019-12-14T09:00:00",
          "2019-12-14T10:00:00",
          "2019-12-14T11:00:00",
          "2019-12-14T12:00:00",
          "2019-12-14T13:00:00",
          "2019-12-14T14:00:00",
          "2019-12-14T15:00:00",
          "2019-12-14T16:00:00",
          "2019-12-14T17:00:00",
          "2019-12-14T18:00:00",
          "2019-12-14T19:00:00",
          "2019-12-14T20:00:00",
          "2019-12-14T21:00:00",
          "2019-12-14T22:00:00",
          "2019-12-14T23:00:00",
          "2019-12-15T00:00:00",
          "2019-12-15T01:00:00",
          "2019-12-15T02:00:00",
          "2019-12-15T03:00:00",
          "2019-12-15T04:00:00",
          "2019-12-15T05:00:00",
          "2019-12-15T06:00:00",
          "2019-12-15T07:00:00",
          "2019-12-15T08:00:00",
          "2019-12-15T09:00:00",
          "2019-12-15T10:00:00",
          "2019-12-15T11:00:00",
          "2019-12-15T12:00:00",
          "2019-12-15T13:00:00",
          "2019-12-15T14:00:00",
          "2019-12-15T15:00:00",
          "2019-12-15T16:00:00",
          "2019-12-15T17:00:00",
          "2019-12-15T18:00:00",
          "2019-12-15T19:00:00",
          "2019-12-15T20:00:00",
          "2019-12-15T21:00:00",
          "2019-12-15T22:00:00",
          "2019-12-16T00:00:00"
         ],
         "y": [
          72.6667245345254,
          73.82782791611767,
          73.54230775226372,
          73.51487460835834,
          77.12767639230816,
          79.51433824666424,
          81.23503384623919,
          80.48465060219692,
          79.31120294057004,
          77.98544810661042,
          77.74580379842976,
          76.48019811599136,
          77.3712585204426,
          76.13125355487605,
          76.39900130371913,
          75.34648949101883,
          76.42977104124112,
          78.31300794570893,
          79.94828885012103,
          79.95697046819699,
          78.41909581005675,
          75.86903981653758,
          75.70815174906481,
          74.62119231631152,
          76.78868565502569,
          78.51911165996259,
          80.83951454047836,
          82.73218187820058,
          82.1677191704259,
          80.67908548111096,
          77.8382919588169,
          76.51615257671045,
          75.72879044393912,
          76.23114759922552,
          76.1122379302384,
          75.95516292395544,
          75.77714366793694,
          76.24005158474728,
          76.1463739859202,
          76.74759627893292,
          77.22444056370888,
          77.79945748477948,
          78.62673296179902,
          79.70073029830746,
          79.0981328525854,
          77.6125882303053,
          76.25707208356063,
          77.9187767944784,
          78.89402892011502,
          83.72900714744324,
          87.35424397477865,
          88.56274577764097,
          89.59734826933106,
          88.61774608017426,
          86.74650444514509,
          83.28122720302602,
          80.03231175999181,
          79.49211616837789,
          78.55906961818316,
          78.39452868914053,
          77.6121917913131,
          76.42117670190314,
          76.16715374295435,
          77.85009226591724,
          79.57130263903096,
          81.69000393395714,
          81.7760817471719,
          83.91528779700684,
          83.33789081208366,
          79.98452941109952,
          79.86707675656051,
          79.6725823789871,
          80.13889563876106,
          81.48636053935218,
          86.59050230937493,
          88.87121942346954,
          89.40162797058076,
          87.79582156232357,
          84.8000921035885,
          81.55180896885538,
          80.47112053381042,
          80.66176430626307,
          80.95891006787838,
          80.39212669610248,
          79.87046660717449,
          79.61758452452598,
          80.01803464850946,
          80.32175348060652,
          82.26231122988466,
          82.20380671594882,
          82.47817096840114,
          81.98623690355116,
          81.33906614308975,
          79.39457763482474,
          78.3002375895399,
          78.74892960558077,
          83.78128179282709,
          89.0525846769985,
          93.44516278147916,
          95.09110374073718,
          93.07698270783885,
          90.53575654166747,
          85.83881989320034,
          82.83125698423221,
          80.71783764855292,
          80.34962409053658,
          80.15594796248192,
          79.6467967179799,
          79.00004186513641,
          78.90966243331627,
          79.44271707451887,
          82.53583692977251,
          83.73443116696478,
          86.06018324862819,
          88.4328501173253,
          89.25467117135284,
          87.43579932823758
         ]
        },
        {
         "line": {
          "shape": "spline",
          "smoothing": 1
         },
         "mode": "lines+markers",
         "name": "15:stats/time_per_click",
         "type": "scatter",
         "x": [
          "2019-12-11T00:00:00",
          "2019-12-11T01:00:00",
          "2019-12-11T02:00:00",
          "2019-12-11T03:00:00",
          "2019-12-11T04:00:00",
          "2019-12-11T05:00:00",
          "2019-12-11T06:00:00",
          "2019-12-11T07:00:00",
          "2019-12-11T08:00:00",
          "2019-12-11T09:00:00",
          "2019-12-11T10:00:00",
          "2019-12-11T11:00:00",
          "2019-12-11T12:00:00",
          "2019-12-11T13:00:00",
          "2019-12-11T15:00:00",
          "2019-12-11T16:00:00",
          "2019-12-11T19:00:00",
          "2019-12-11T20:00:00",
          "2019-12-11T21:00:00",
          "2019-12-11T22:00:00",
          "2019-12-11T23:00:00",
          "2019-12-12T00:00:00",
          "2019-12-12T01:00:00",
          "2019-12-12T02:00:00",
          "2019-12-12T03:00:00",
          "2019-12-12T04:00:00",
          "2019-12-12T05:00:00",
          "2019-12-12T06:00:00",
          "2019-12-12T07:00:00",
          "2019-12-12T08:00:00",
          "2019-12-12T09:00:00",
          "2019-12-12T10:00:00",
          "2019-12-12T11:00:00",
          "2019-12-12T12:00:00",
          "2019-12-12T13:00:00",
          "2019-12-12T14:00:00",
          "2019-12-12T15:00:00",
          "2019-12-12T16:00:00",
          "2019-12-12T17:00:00",
          "2019-12-12T18:00:00",
          "2019-12-12T19:00:00",
          "2019-12-12T20:00:00",
          "2019-12-12T21:00:00",
          "2019-12-12T22:00:00",
          "2019-12-12T23:00:00",
          "2019-12-13T00:00:00",
          "2019-12-13T01:00:00",
          "2019-12-13T02:00:00",
          "2019-12-13T03:00:00",
          "2019-12-13T04:00:00",
          "2019-12-13T05:00:00",
          "2019-12-13T06:00:00",
          "2019-12-13T07:00:00",
          "2019-12-13T08:00:00",
          "2019-12-13T09:00:00",
          "2019-12-13T10:00:00",
          "2019-12-13T11:00:00",
          "2019-12-13T12:00:00",
          "2019-12-13T13:00:00",
          "2019-12-13T14:00:00",
          "2019-12-13T15:00:00",
          "2019-12-13T16:00:00",
          "2019-12-13T17:00:00",
          "2019-12-13T18:00:00",
          "2019-12-13T19:00:00",
          "2019-12-13T20:00:00",
          "2019-12-13T21:00:00",
          "2019-12-13T22:00:00",
          "2019-12-13T23:00:00",
          "2019-12-14T00:00:00",
          "2019-12-14T01:00:00",
          "2019-12-14T02:00:00",
          "2019-12-14T03:00:00",
          "2019-12-14T04:00:00",
          "2019-12-14T05:00:00",
          "2019-12-14T06:00:00",
          "2019-12-14T07:00:00",
          "2019-12-14T08:00:00",
          "2019-12-14T09:00:00",
          "2019-12-14T10:00:00",
          "2019-12-14T11:00:00",
          "2019-12-14T12:00:00",
          "2019-12-14T13:00:00",
          "2019-12-14T14:00:00",
          "2019-12-14T15:00:00",
          "2019-12-14T16:00:00",
          "2019-12-14T17:00:00",
          "2019-12-14T18:00:00",
          "2019-12-14T19:00:00",
          "2019-12-14T20:00:00",
          "2019-12-14T21:00:00",
          "2019-12-14T22:00:00",
          "2019-12-14T23:00:00",
          "2019-12-15T00:00:00",
          "2019-12-15T01:00:00",
          "2019-12-15T02:00:00",
          "2019-12-15T03:00:00",
          "2019-12-15T04:00:00",
          "2019-12-15T05:00:00",
          "2019-12-15T06:00:00",
          "2019-12-15T07:00:00",
          "2019-12-15T08:00:00",
          "2019-12-15T09:00:00",
          "2019-12-15T10:00:00",
          "2019-12-15T11:00:00",
          "2019-12-15T12:00:00",
          "2019-12-15T13:00:00",
          "2019-12-15T14:00:00",
          "2019-12-15T15:00:00",
          "2019-12-15T16:00:00",
          "2019-12-15T17:00:00",
          "2019-12-15T18:00:00",
          "2019-12-15T19:00:00",
          "2019-12-15T20:00:00",
          "2019-12-15T21:00:00",
          "2019-12-15T22:00:00",
          "2019-12-16T00:00:00"
         ],
         "y": [
          76.26916586306653,
          78.16331719892818,
          77.78452004524723,
          79.68042328792974,
          82.07200378799106,
          85.66351573835578,
          86.67327248245094,
          84.91486557578683,
          83.8858952483925,
          80.80755304233523,
          77.96610835973263,
          76.45199992782257,
          78.38771973693616,
          77.61813614591125,
          77.006337697529,
          75.72607036892312,
          76.99945384541695,
          80.18444552129215,
          81.16773136784482,
          81.337421850872,
          79.23710898026721,
          75.68617571501629,
          73.03211893611875,
          75.20811068171636,
          75.98041316833421,
          76.63129763597246,
          79.57998857878682,
          82.51592440502941,
          81.87327228003409,
          82.55716213496609,
          79.63236923911042,
          77.51288399511273,
          75.87437165672968,
          76.12926071575222,
          76.67651758165056,
          77.67490967496869,
          76.95156231366079,
          76.30772878679981,
          75.48607013544172,
          76.550440194347,
          78.5268752391479,
          79.6825239000198,
          80.31348770720003,
          80.58686609406709,
          79.2342597538177,
          79.5960046823347,
          79.4431696274127,
          76.25793473829157,
          77.94634510067544,
          81.76551422927734,
          86.41155842060881,
          86.47322107076953,
          86.41889776035492,
          91.1685804255159,
          86.8788496558794,
          83.25673900898664,
          82.66035844423398,
          82.01218759031784,
          82.07531253158022,
          80.59150612142052,
          80.26526768175661,
          79.27431968667808,
          80.4749396105727,
          81.89466016946835,
          82.35505646268693,
          84.00339290331712,
          85.19123012406496,
          84.33648985498996,
          83.25507439942152,
          80.75140756431031,
          80.71134168775987,
          79.1775424727904,
          79.03202891329775,
          81.32143977480024,
          86.67449941495917,
          87.04893125509864,
          85.27338417333854,
          83.15139673333763,
          80.46580869927735,
          78.93405473309983,
          77.8801422587332,
          78.93325903598733,
          79.78510635006728,
          79.48383406608829,
          79.0894191031518,
          78.43671207046759,
          78.20270678536312,
          78.87226488005862,
          80.69667575309921,
          82.09040459746092,
          82.25759167926142,
          81.48362487382387,
          82.08528182466704,
          79.24232291757107,
          77.93479180726371,
          78.11592328513208,
          80.78963473972493,
          84.89357667507339,
          89.29915354608197,
          92.08269505261087,
          90.98838661218555,
          89.17335153251636,
          85.636447922135,
          82.1019940493837,
          79.89797750527813,
          79.90972846782894,
          79.23439568595677,
          78.99146619056955,
          79.44116693251816,
          79.7380458180694,
          79.48264135601931,
          81.56096980081668,
          83.19158955157113,
          84.41064864743365,
          85.63422716214477,
          87.31116553543023,
          84.61924943438179
         ]
        }
       ],
       "layout": {
        "hovermode": "x",
        "template": {
         "data": {
          "bar": [
           {
            "error_x": {
             "color": "#2a3f5f"
            },
            "error_y": {
             "color": "#2a3f5f"
            },
            "marker": {
             "line": {
              "color": "#E5ECF6",
              "width": 0.5
             }
            },
            "type": "bar"
           }
          ],
          "barpolar": [
           {
            "marker": {
             "line": {
              "color": "#E5ECF6",
              "width": 0.5
             }
            },
            "type": "barpolar"
           }
          ],
          "carpet": [
           {
            "aaxis": {
             "endlinecolor": "#2a3f5f",
             "gridcolor": "white",
             "linecolor": "white",
             "minorgridcolor": "white",
             "startlinecolor": "#2a3f5f"
            },
            "baxis": {
             "endlinecolor": "#2a3f5f",
             "gridcolor": "white",
             "linecolor": "white",
             "minorgridcolor": "white",
             "startlinecolor": "#2a3f5f"
            },
            "type": "carpet"
           }
          ],
          "choropleth": [
           {
            "colorbar": {
             "outlinewidth": 0,
             "ticks": ""
            },
            "type": "choropleth"
           }
          ],
          "contour": [
           {
            "colorbar": {
             "outlinewidth": 0,
             "ticks": ""
            },
            "colorscale": [
             [
              0,
              "#0d0887"
             ],
             [
              0.1111111111111111,
              "#46039f"
             ],
             [
              0.2222222222222222,
              "#7201a8"
             ],
             [
              0.3333333333333333,
              "#9c179e"
             ],
             [
              0.4444444444444444,
              "#bd3786"
             ],
             [
              0.5555555555555556,
              "#d8576b"
             ],
             [
              0.6666666666666666,
              "#ed7953"
             ],
             [
              0.7777777777777778,
              "#fb9f3a"
             ],
             [
              0.8888888888888888,
              "#fdca26"
             ],
             [
              1,
              "#f0f921"
             ]
            ],
            "type": "contour"
           }
          ],
          "contourcarpet": [
           {
            "colorbar": {
             "outlinewidth": 0,
             "ticks": ""
            },
            "type": "contourcarpet"
           }
          ],
          "heatmap": [
           {
            "colorbar": {
             "outlinewidth": 0,
             "ticks": ""
            },
            "colorscale": [
             [
              0,
              "#0d0887"
             ],
             [
              0.1111111111111111,
              "#46039f"
             ],
             [
              0.2222222222222222,
              "#7201a8"
             ],
             [
              0.3333333333333333,
              "#9c179e"
             ],
             [
              0.4444444444444444,
              "#bd3786"
             ],
             [
              0.5555555555555556,
              "#d8576b"
             ],
             [
              0.6666666666666666,
              "#ed7953"
             ],
             [
              0.7777777777777778,
              "#fb9f3a"
             ],
             [
              0.8888888888888888,
              "#fdca26"
             ],
             [
              1,
              "#f0f921"
             ]
            ],
            "type": "heatmap"
           }
          ],
          "heatmapgl": [
           {
            "colorbar": {
             "outlinewidth": 0,
             "ticks": ""
            },
            "colorscale": [
             [
              0,
              "#0d0887"
             ],
             [
              0.1111111111111111,
              "#46039f"
             ],
             [
              0.2222222222222222,
              "#7201a8"
             ],
             [
              0.3333333333333333,
              "#9c179e"
             ],
             [
              0.4444444444444444,
              "#bd3786"
             ],
             [
              0.5555555555555556,
              "#d8576b"
             ],
             [
              0.6666666666666666,
              "#ed7953"
             ],
             [
              0.7777777777777778,
              "#fb9f3a"
             ],
             [
              0.8888888888888888,
              "#fdca26"
             ],
             [
              1,
              "#f0f921"
             ]
            ],
            "type": "heatmapgl"
           }
          ],
          "histogram": [
           {
            "marker": {
             "colorbar": {
              "outlinewidth": 0,
              "ticks": ""
             }
            },
            "type": "histogram"
           }
          ],
          "histogram2d": [
           {
            "colorbar": {
             "outlinewidth": 0,
             "ticks": ""
            },
            "colorscale": [
             [
              0,
              "#0d0887"
             ],
             [
              0.1111111111111111,
              "#46039f"
             ],
             [
              0.2222222222222222,
              "#7201a8"
             ],
             [
              0.3333333333333333,
              "#9c179e"
             ],
             [
              0.4444444444444444,
              "#bd3786"
             ],
             [
              0.5555555555555556,
              "#d8576b"
             ],
             [
              0.6666666666666666,
              "#ed7953"
             ],
             [
              0.7777777777777778,
              "#fb9f3a"
             ],
             [
              0.8888888888888888,
              "#fdca26"
             ],
             [
              1,
              "#f0f921"
             ]
            ],
            "type": "histogram2d"
           }
          ],
          "histogram2dcontour": [
           {
            "colorbar": {
             "outlinewidth": 0,
             "ticks": ""
            },
            "colorscale": [
             [
              0,
              "#0d0887"
             ],
             [
              0.1111111111111111,
              "#46039f"
             ],
             [
              0.2222222222222222,
              "#7201a8"
             ],
             [
              0.3333333333333333,
              "#9c179e"
             ],
             [
              0.4444444444444444,
              "#bd3786"
             ],
             [
              0.5555555555555556,
              "#d8576b"
             ],
             [
              0.6666666666666666,
              "#ed7953"
             ],
             [
              0.7777777777777778,
              "#fb9f3a"
             ],
             [
              0.8888888888888888,
              "#fdca26"
             ],
             [
              1,
              "#f0f921"
             ]
            ],
            "type": "histogram2dcontour"
           }
          ],
          "mesh3d": [
           {
            "colorbar": {
             "outlinewidth": 0,
             "ticks": ""
            },
            "type": "mesh3d"
           }
          ],
          "parcoords": [
           {
            "line": {
             "colorbar": {
              "outlinewidth": 0,
              "ticks": ""
             }
            },
            "type": "parcoords"
           }
          ],
          "scatter": [
           {
            "marker": {
             "colorbar": {
              "outlinewidth": 0,
              "ticks": ""
             }
            },
            "type": "scatter"
           }
          ],
          "scatter3d": [
           {
            "line": {
             "colorbar": {
              "outlinewidth": 0,
              "ticks": ""
             }
            },
            "marker": {
             "colorbar": {
              "outlinewidth": 0,
              "ticks": ""
             }
            },
            "type": "scatter3d"
           }
          ],
          "scattercarpet": [
           {
            "marker": {
             "colorbar": {
              "outlinewidth": 0,
              "ticks": ""
             }
            },
            "type": "scattercarpet"
           }
          ],
          "scattergeo": [
           {
            "marker": {
             "colorbar": {
              "outlinewidth": 0,
              "ticks": ""
             }
            },
            "type": "scattergeo"
           }
          ],
          "scattergl": [
           {
            "marker": {
             "colorbar": {
              "outlinewidth": 0,
              "ticks": ""
             }
            },
            "type": "scattergl"
           }
          ],
          "scattermapbox": [
           {
            "marker": {
             "colorbar": {
              "outlinewidth": 0,
              "ticks": ""
             }
            },
            "type": "scattermapbox"
           }
          ],
          "scatterpolar": [
           {
            "marker": {
             "colorbar": {
              "outlinewidth": 0,
              "ticks": ""
             }
            },
            "type": "scatterpolar"
           }
          ],
          "scatterpolargl": [
           {
            "marker": {
             "colorbar": {
              "outlinewidth": 0,
              "ticks": ""
             }
            },
            "type": "scatterpolargl"
           }
          ],
          "scatterternary": [
           {
            "marker": {
             "colorbar": {
              "outlinewidth": 0,
              "ticks": ""
             }
            },
            "type": "scatterternary"
           }
          ],
          "surface": [
           {
            "colorbar": {
             "outlinewidth": 0,
             "ticks": ""
            },
            "colorscale": [
             [
              0,
              "#0d0887"
             ],
             [
              0.1111111111111111,
              "#46039f"
             ],
             [
              0.2222222222222222,
              "#7201a8"
             ],
             [
              0.3333333333333333,
              "#9c179e"
             ],
             [
              0.4444444444444444,
              "#bd3786"
             ],
             [
              0.5555555555555556,
              "#d8576b"
             ],
             [
              0.6666666666666666,
              "#ed7953"
             ],
             [
              0.7777777777777778,
              "#fb9f3a"
             ],
             [
              0.8888888888888888,
              "#fdca26"
             ],
             [
              1,
              "#f0f921"
             ]
            ],
            "type": "surface"
           }
          ],
          "table": [
           {
            "cells": {
             "fill": {
              "color": "#EBF0F8"
             },
             "line": {
              "color": "white"
             }
            },
            "header": {
             "fill": {
              "color": "#C8D4E3"
             },
             "line": {
              "color": "white"
             }
            },
            "type": "table"
           }
          ]
         },
         "layout": {
          "annotationdefaults": {
           "arrowcolor": "#2a3f5f",
           "arrowhead": 0,
           "arrowwidth": 1
          },
          "colorscale": {
           "diverging": [
            [
             0,
             "#8e0152"
            ],
            [
             0.1,
             "#c51b7d"
            ],
            [
             0.2,
             "#de77ae"
            ],
            [
             0.3,
             "#f1b6da"
            ],
            [
             0.4,
             "#fde0ef"
            ],
            [
             0.5,
             "#f7f7f7"
            ],
            [
             0.6,
             "#e6f5d0"
            ],
            [
             0.7,
             "#b8e186"
            ],
            [
             0.8,
             "#7fbc41"
            ],
            [
             0.9,
             "#4d9221"
            ],
            [
             1,
             "#276419"
            ]
           ],
           "sequential": [
            [
             0,
             "#0d0887"
            ],
            [
             0.1111111111111111,
             "#46039f"
            ],
            [
             0.2222222222222222,
             "#7201a8"
            ],
            [
             0.3333333333333333,
             "#9c179e"
            ],
            [
             0.4444444444444444,
             "#bd3786"
            ],
            [
             0.5555555555555556,
             "#d8576b"
            ],
            [
             0.6666666666666666,
             "#ed7953"
            ],
            [
             0.7777777777777778,
             "#fb9f3a"
            ],
            [
             0.8888888888888888,
             "#fdca26"
            ],
            [
             1,
             "#f0f921"
            ]
           ],
           "sequentialminus": [
            [
             0,
             "#0d0887"
            ],
            [
             0.1111111111111111,
             "#46039f"
            ],
            [
             0.2222222222222222,
             "#7201a8"
            ],
            [
             0.3333333333333333,
             "#9c179e"
            ],
            [
             0.4444444444444444,
             "#bd3786"
            ],
            [
             0.5555555555555556,
             "#d8576b"
            ],
            [
             0.6666666666666666,
             "#ed7953"
            ],
            [
             0.7777777777777778,
             "#fb9f3a"
            ],
            [
             0.8888888888888888,
             "#fdca26"
            ],
            [
             1,
             "#f0f921"
            ]
           ]
          },
          "colorway": [
           "#636efa",
           "#EF553B",
           "#00cc96",
           "#ab63fa",
           "#FFA15A",
           "#19d3f3",
           "#FF6692",
           "#B6E880",
           "#FF97FF",
           "#FECB52"
          ],
          "font": {
           "color": "#2a3f5f"
          },
          "geo": {
           "bgcolor": "white",
           "lakecolor": "white",
           "landcolor": "#E5ECF6",
           "showlakes": true,
           "showland": true,
           "subunitcolor": "white"
          },
          "hoverlabel": {
           "align": "left"
          },
          "hovermode": "closest",
          "mapbox": {
           "style": "light"
          },
          "paper_bgcolor": "white",
          "plot_bgcolor": "#E5ECF6",
          "polar": {
           "angularaxis": {
            "gridcolor": "white",
            "linecolor": "white",
            "ticks": ""
           },
           "bgcolor": "#E5ECF6",
           "radialaxis": {
            "gridcolor": "white",
            "linecolor": "white",
            "ticks": ""
           }
          },
          "scene": {
           "xaxis": {
            "backgroundcolor": "#E5ECF6",
            "gridcolor": "white",
            "gridwidth": 2,
            "linecolor": "white",
            "showbackground": true,
            "ticks": "",
            "zerolinecolor": "white"
           },
           "yaxis": {
            "backgroundcolor": "#E5ECF6",
            "gridcolor": "white",
            "gridwidth": 2,
            "linecolor": "white",
            "showbackground": true,
            "ticks": "",
            "zerolinecolor": "white"
           },
           "zaxis": {
            "backgroundcolor": "#E5ECF6",
            "gridcolor": "white",
            "gridwidth": 2,
            "linecolor": "white",
            "showbackground": true,
            "ticks": "",
            "zerolinecolor": "white"
           }
          },
          "shapedefaults": {
           "line": {
            "color": "#2a3f5f"
           }
          },
          "ternary": {
           "aaxis": {
            "gridcolor": "white",
            "linecolor": "white",
            "ticks": ""
           },
           "baxis": {
            "gridcolor": "white",
            "linecolor": "white",
            "ticks": ""
           },
           "bgcolor": "#E5ECF6",
           "caxis": {
            "gridcolor": "white",
            "linecolor": "white",
            "ticks": ""
           }
          },
          "title": {
           "x": 0.05
          },
          "xaxis": {
           "automargin": true,
           "gridcolor": "white",
           "linecolor": "white",
           "ticks": "",
           "zerolinecolor": "white",
           "zerolinewidth": 2
          },
          "yaxis": {
           "automargin": true,
           "gridcolor": "white",
           "linecolor": "white",
           "ticks": "",
           "zerolinecolor": "white",
           "zerolinewidth": 2
          }
         }
        },
        "title": {
         "text": "tuwen:stats/time_per_click"
        },
        "xaxis": {
         "type": "date"
        }
       }
      },
      "text/html": [
       "<div>\n",
       "        \n",
       "        \n",
       "            <div id=\"2ebdee7a-c950-4759-b98b-f11f3fe1786c\" class=\"plotly-graph-div\" style=\"height:525px; width:100%;\"></div>\n",
       "            <script type=\"text/javascript\">\n",
       "                require([\"plotly\"], function(Plotly) {\n",
       "                    window.PLOTLYENV=window.PLOTLYENV || {};\n",
       "                    \n",
       "                if (document.getElementById(\"2ebdee7a-c950-4759-b98b-f11f3fe1786c\")) {\n",
       "                    Plotly.newPlot(\n",
       "                        '2ebdee7a-c950-4759-b98b-f11f3fe1786c',\n",
       "                        [{\"line\": {\"shape\": \"spline\", \"smoothing\": 1.0}, \"mode\": \"lines+markers\", \"name\": \"456:stats/time_per_click\", \"type\": \"scatter\", \"x\": [\"2019-12-11T00:00:00\", \"2019-12-11T01:00:00\", \"2019-12-11T02:00:00\", \"2019-12-11T03:00:00\", \"2019-12-11T04:00:00\", \"2019-12-11T05:00:00\", \"2019-12-11T06:00:00\", \"2019-12-11T07:00:00\", \"2019-12-11T08:00:00\", \"2019-12-11T09:00:00\", \"2019-12-11T10:00:00\", \"2019-12-11T11:00:00\", \"2019-12-11T12:00:00\", \"2019-12-11T13:00:00\", \"2019-12-11T15:00:00\", \"2019-12-11T16:00:00\", \"2019-12-11T19:00:00\", \"2019-12-11T20:00:00\", \"2019-12-11T21:00:00\", \"2019-12-11T22:00:00\", \"2019-12-11T23:00:00\", \"2019-12-12T00:00:00\", \"2019-12-12T01:00:00\", \"2019-12-12T02:00:00\", \"2019-12-12T03:00:00\", \"2019-12-12T04:00:00\", \"2019-12-12T05:00:00\", \"2019-12-12T06:00:00\", \"2019-12-12T07:00:00\", \"2019-12-12T08:00:00\", \"2019-12-12T09:00:00\", \"2019-12-12T10:00:00\", \"2019-12-12T11:00:00\", \"2019-12-12T12:00:00\", \"2019-12-12T13:00:00\", \"2019-12-12T14:00:00\", \"2019-12-12T15:00:00\", \"2019-12-12T16:00:00\", \"2019-12-12T17:00:00\", \"2019-12-12T18:00:00\", \"2019-12-12T19:00:00\", \"2019-12-12T20:00:00\", \"2019-12-12T21:00:00\", \"2019-12-12T22:00:00\", \"2019-12-12T23:00:00\", \"2019-12-13T00:00:00\", \"2019-12-13T01:00:00\", \"2019-12-13T02:00:00\", \"2019-12-13T03:00:00\", \"2019-12-13T04:00:00\", \"2019-12-13T05:00:00\", \"2019-12-13T06:00:00\", \"2019-12-13T07:00:00\", \"2019-12-13T08:00:00\", \"2019-12-13T09:00:00\", \"2019-12-13T10:00:00\", \"2019-12-13T11:00:00\", \"2019-12-13T12:00:00\", \"2019-12-13T13:00:00\", \"2019-12-13T14:00:00\", \"2019-12-13T15:00:00\", \"2019-12-13T16:00:00\", \"2019-12-13T17:00:00\", \"2019-12-13T18:00:00\", \"2019-12-13T19:00:00\", \"2019-12-13T20:00:00\", \"2019-12-13T21:00:00\", \"2019-12-13T22:00:00\", \"2019-12-13T23:00:00\", \"2019-12-14T00:00:00\", \"2019-12-14T01:00:00\", \"2019-12-14T02:00:00\", \"2019-12-14T03:00:00\", \"2019-12-14T04:00:00\", \"2019-12-14T05:00:00\", \"2019-12-14T06:00:00\", \"2019-12-14T07:00:00\", \"2019-12-14T08:00:00\", \"2019-12-14T09:00:00\", \"2019-12-14T10:00:00\", \"2019-12-14T11:00:00\", \"2019-12-14T12:00:00\", \"2019-12-14T13:00:00\", \"2019-12-14T14:00:00\", \"2019-12-14T15:00:00\", \"2019-12-14T16:00:00\", \"2019-12-14T17:00:00\", \"2019-12-14T18:00:00\", \"2019-12-14T19:00:00\", \"2019-12-14T20:00:00\", \"2019-12-14T21:00:00\", \"2019-12-14T22:00:00\", \"2019-12-14T23:00:00\", \"2019-12-15T00:00:00\", \"2019-12-15T01:00:00\", \"2019-12-15T02:00:00\", \"2019-12-15T03:00:00\", \"2019-12-15T04:00:00\", \"2019-12-15T05:00:00\", \"2019-12-15T06:00:00\", \"2019-12-15T07:00:00\", \"2019-12-15T08:00:00\", \"2019-12-15T09:00:00\", \"2019-12-15T10:00:00\", \"2019-12-15T11:00:00\", \"2019-12-15T12:00:00\", \"2019-12-15T13:00:00\", \"2019-12-15T14:00:00\", \"2019-12-15T15:00:00\", \"2019-12-15T16:00:00\", \"2019-12-15T17:00:00\", \"2019-12-15T18:00:00\", \"2019-12-15T19:00:00\", \"2019-12-15T20:00:00\", \"2019-12-15T21:00:00\", \"2019-12-15T22:00:00\", \"2019-12-16T00:00:00\"], \"y\": [72.6667245345254, 73.82782791611767, 73.54230775226372, 73.51487460835834, 77.12767639230816, 79.51433824666424, 81.23503384623919, 80.48465060219692, 79.31120294057004, 77.98544810661042, 77.74580379842976, 76.48019811599136, 77.3712585204426, 76.13125355487605, 76.39900130371913, 75.34648949101883, 76.42977104124112, 78.31300794570893, 79.94828885012103, 79.95697046819699, 78.41909581005675, 75.86903981653758, 75.70815174906481, 74.62119231631152, 76.78868565502569, 78.51911165996259, 80.83951454047836, 82.73218187820058, 82.1677191704259, 80.67908548111096, 77.8382919588169, 76.51615257671045, 75.72879044393912, 76.23114759922552, 76.1122379302384, 75.95516292395544, 75.77714366793694, 76.24005158474728, 76.1463739859202, 76.74759627893292, 77.22444056370888, 77.79945748477948, 78.62673296179902, 79.70073029830746, 79.0981328525854, 77.6125882303053, 76.25707208356063, 77.9187767944784, 78.89402892011502, 83.72900714744324, 87.35424397477865, 88.56274577764097, 89.59734826933106, 88.61774608017426, 86.74650444514509, 83.28122720302602, 80.03231175999181, 79.49211616837789, 78.55906961818316, 78.39452868914053, 77.6121917913131, 76.42117670190314, 76.16715374295435, 77.85009226591724, 79.57130263903096, 81.69000393395714, 81.7760817471719, 83.91528779700684, 83.33789081208366, 79.98452941109952, 79.86707675656051, 79.6725823789871, 80.13889563876106, 81.48636053935218, 86.59050230937493, 88.87121942346954, 89.40162797058076, 87.79582156232357, 84.8000921035885, 81.55180896885538, 80.47112053381042, 80.66176430626307, 80.95891006787838, 80.39212669610248, 79.87046660717449, 79.61758452452598, 80.01803464850946, 80.32175348060652, 82.26231122988466, 82.20380671594882, 82.47817096840114, 81.98623690355116, 81.33906614308975, 79.39457763482474, 78.3002375895399, 78.74892960558077, 83.78128179282709, 89.0525846769985, 93.44516278147916, 95.09110374073718, 93.07698270783885, 90.53575654166747, 85.83881989320034, 82.83125698423221, 80.71783764855292, 80.34962409053658, 80.15594796248192, 79.6467967179799, 79.00004186513641, 78.90966243331627, 79.44271707451887, 82.53583692977251, 83.73443116696478, 86.06018324862819, 88.4328501173253, 89.25467117135284, 87.43579932823758]}, {\"line\": {\"shape\": \"spline\", \"smoothing\": 1.0}, \"mode\": \"lines+markers\", \"name\": \"15:stats/time_per_click\", \"type\": \"scatter\", \"x\": [\"2019-12-11T00:00:00\", \"2019-12-11T01:00:00\", \"2019-12-11T02:00:00\", \"2019-12-11T03:00:00\", \"2019-12-11T04:00:00\", \"2019-12-11T05:00:00\", \"2019-12-11T06:00:00\", \"2019-12-11T07:00:00\", \"2019-12-11T08:00:00\", \"2019-12-11T09:00:00\", \"2019-12-11T10:00:00\", \"2019-12-11T11:00:00\", \"2019-12-11T12:00:00\", \"2019-12-11T13:00:00\", \"2019-12-11T15:00:00\", \"2019-12-11T16:00:00\", \"2019-12-11T19:00:00\", \"2019-12-11T20:00:00\", \"2019-12-11T21:00:00\", \"2019-12-11T22:00:00\", \"2019-12-11T23:00:00\", \"2019-12-12T00:00:00\", \"2019-12-12T01:00:00\", \"2019-12-12T02:00:00\", \"2019-12-12T03:00:00\", \"2019-12-12T04:00:00\", \"2019-12-12T05:00:00\", \"2019-12-12T06:00:00\", \"2019-12-12T07:00:00\", \"2019-12-12T08:00:00\", \"2019-12-12T09:00:00\", \"2019-12-12T10:00:00\", \"2019-12-12T11:00:00\", \"2019-12-12T12:00:00\", \"2019-12-12T13:00:00\", \"2019-12-12T14:00:00\", \"2019-12-12T15:00:00\", \"2019-12-12T16:00:00\", \"2019-12-12T17:00:00\", \"2019-12-12T18:00:00\", \"2019-12-12T19:00:00\", \"2019-12-12T20:00:00\", \"2019-12-12T21:00:00\", \"2019-12-12T22:00:00\", \"2019-12-12T23:00:00\", \"2019-12-13T00:00:00\", \"2019-12-13T01:00:00\", \"2019-12-13T02:00:00\", \"2019-12-13T03:00:00\", \"2019-12-13T04:00:00\", \"2019-12-13T05:00:00\", \"2019-12-13T06:00:00\", \"2019-12-13T07:00:00\", \"2019-12-13T08:00:00\", \"2019-12-13T09:00:00\", \"2019-12-13T10:00:00\", \"2019-12-13T11:00:00\", \"2019-12-13T12:00:00\", \"2019-12-13T13:00:00\", \"2019-12-13T14:00:00\", \"2019-12-13T15:00:00\", \"2019-12-13T16:00:00\", \"2019-12-13T17:00:00\", \"2019-12-13T18:00:00\", \"2019-12-13T19:00:00\", \"2019-12-13T20:00:00\", \"2019-12-13T21:00:00\", \"2019-12-13T22:00:00\", \"2019-12-13T23:00:00\", \"2019-12-14T00:00:00\", \"2019-12-14T01:00:00\", \"2019-12-14T02:00:00\", \"2019-12-14T03:00:00\", \"2019-12-14T04:00:00\", \"2019-12-14T05:00:00\", \"2019-12-14T06:00:00\", \"2019-12-14T07:00:00\", \"2019-12-14T08:00:00\", \"2019-12-14T09:00:00\", \"2019-12-14T10:00:00\", \"2019-12-14T11:00:00\", \"2019-12-14T12:00:00\", \"2019-12-14T13:00:00\", \"2019-12-14T14:00:00\", \"2019-12-14T15:00:00\", \"2019-12-14T16:00:00\", \"2019-12-14T17:00:00\", \"2019-12-14T18:00:00\", \"2019-12-14T19:00:00\", \"2019-12-14T20:00:00\", \"2019-12-14T21:00:00\", \"2019-12-14T22:00:00\", \"2019-12-14T23:00:00\", \"2019-12-15T00:00:00\", \"2019-12-15T01:00:00\", \"2019-12-15T02:00:00\", \"2019-12-15T03:00:00\", \"2019-12-15T04:00:00\", \"2019-12-15T05:00:00\", \"2019-12-15T06:00:00\", \"2019-12-15T07:00:00\", \"2019-12-15T08:00:00\", \"2019-12-15T09:00:00\", \"2019-12-15T10:00:00\", \"2019-12-15T11:00:00\", \"2019-12-15T12:00:00\", \"2019-12-15T13:00:00\", \"2019-12-15T14:00:00\", \"2019-12-15T15:00:00\", \"2019-12-15T16:00:00\", \"2019-12-15T17:00:00\", \"2019-12-15T18:00:00\", \"2019-12-15T19:00:00\", \"2019-12-15T20:00:00\", \"2019-12-15T21:00:00\", \"2019-12-15T22:00:00\", \"2019-12-16T00:00:00\"], \"y\": [76.26916586306653, 78.16331719892818, 77.78452004524723, 79.68042328792974, 82.07200378799106, 85.66351573835578, 86.67327248245094, 84.91486557578683, 83.8858952483925, 80.80755304233523, 77.96610835973263, 76.45199992782257, 78.38771973693616, 77.61813614591125, 77.006337697529, 75.72607036892312, 76.99945384541695, 80.18444552129215, 81.16773136784482, 81.337421850872, 79.23710898026721, 75.68617571501629, 73.03211893611875, 75.20811068171636, 75.98041316833421, 76.63129763597246, 79.57998857878682, 82.51592440502941, 81.87327228003409, 82.55716213496609, 79.63236923911042, 77.51288399511273, 75.87437165672968, 76.12926071575222, 76.67651758165056, 77.67490967496869, 76.95156231366079, 76.30772878679981, 75.48607013544172, 76.550440194347, 78.5268752391479, 79.6825239000198, 80.31348770720003, 80.58686609406709, 79.2342597538177, 79.5960046823347, 79.4431696274127, 76.25793473829157, 77.94634510067544, 81.76551422927734, 86.41155842060881, 86.47322107076953, 86.41889776035492, 91.1685804255159, 86.8788496558794, 83.25673900898664, 82.66035844423398, 82.01218759031784, 82.07531253158022, 80.59150612142052, 80.26526768175661, 79.27431968667808, 80.4749396105727, 81.89466016946835, 82.35505646268693, 84.00339290331712, 85.19123012406496, 84.33648985498996, 83.25507439942152, 80.75140756431031, 80.71134168775987, 79.1775424727904, 79.03202891329775, 81.32143977480024, 86.67449941495917, 87.04893125509864, 85.27338417333854, 83.15139673333763, 80.46580869927735, 78.93405473309983, 77.8801422587332, 78.93325903598733, 79.78510635006728, 79.48383406608829, 79.0894191031518, 78.43671207046759, 78.20270678536312, 78.87226488005862, 80.69667575309921, 82.09040459746092, 82.25759167926142, 81.48362487382387, 82.08528182466704, 79.24232291757107, 77.93479180726371, 78.11592328513208, 80.78963473972493, 84.89357667507339, 89.29915354608197, 92.08269505261087, 90.98838661218555, 89.17335153251636, 85.636447922135, 82.1019940493837, 79.89797750527813, 79.90972846782894, 79.23439568595677, 78.99146619056955, 79.44116693251816, 79.7380458180694, 79.48264135601931, 81.56096980081668, 83.19158955157113, 84.41064864743365, 85.63422716214477, 87.31116553543023, 84.61924943438179]}],\n",
       "                        {\"hovermode\": \"x\", \"template\": {\"data\": {\"bar\": [{\"error_x\": {\"color\": \"#2a3f5f\"}, \"error_y\": {\"color\": \"#2a3f5f\"}, \"marker\": {\"line\": {\"color\": \"#E5ECF6\", \"width\": 0.5}}, \"type\": \"bar\"}], \"barpolar\": [{\"marker\": {\"line\": {\"color\": \"#E5ECF6\", \"width\": 0.5}}, \"type\": \"barpolar\"}], \"carpet\": [{\"aaxis\": {\"endlinecolor\": \"#2a3f5f\", \"gridcolor\": \"white\", \"linecolor\": \"white\", \"minorgridcolor\": \"white\", \"startlinecolor\": \"#2a3f5f\"}, \"baxis\": {\"endlinecolor\": \"#2a3f5f\", \"gridcolor\": \"white\", \"linecolor\": \"white\", \"minorgridcolor\": \"white\", \"startlinecolor\": \"#2a3f5f\"}, \"type\": \"carpet\"}], \"choropleth\": [{\"colorbar\": {\"outlinewidth\": 0, \"ticks\": \"\"}, \"type\": \"choropleth\"}], \"contour\": [{\"colorbar\": {\"outlinewidth\": 0, \"ticks\": \"\"}, \"colorscale\": [[0.0, \"#0d0887\"], [0.1111111111111111, \"#46039f\"], [0.2222222222222222, \"#7201a8\"], [0.3333333333333333, \"#9c179e\"], [0.4444444444444444, \"#bd3786\"], [0.5555555555555556, \"#d8576b\"], [0.6666666666666666, \"#ed7953\"], [0.7777777777777778, \"#fb9f3a\"], [0.8888888888888888, \"#fdca26\"], [1.0, \"#f0f921\"]], \"type\": \"contour\"}], \"contourcarpet\": [{\"colorbar\": {\"outlinewidth\": 0, \"ticks\": \"\"}, \"type\": \"contourcarpet\"}], \"heatmap\": [{\"colorbar\": {\"outlinewidth\": 0, \"ticks\": \"\"}, \"colorscale\": [[0.0, \"#0d0887\"], [0.1111111111111111, \"#46039f\"], [0.2222222222222222, \"#7201a8\"], [0.3333333333333333, \"#9c179e\"], [0.4444444444444444, \"#bd3786\"], [0.5555555555555556, \"#d8576b\"], [0.6666666666666666, \"#ed7953\"], [0.7777777777777778, \"#fb9f3a\"], [0.8888888888888888, \"#fdca26\"], [1.0, \"#f0f921\"]], \"type\": \"heatmap\"}], \"heatmapgl\": [{\"colorbar\": {\"outlinewidth\": 0, \"ticks\": \"\"}, \"colorscale\": [[0.0, \"#0d0887\"], [0.1111111111111111, \"#46039f\"], [0.2222222222222222, \"#7201a8\"], [0.3333333333333333, \"#9c179e\"], [0.4444444444444444, \"#bd3786\"], [0.5555555555555556, \"#d8576b\"], [0.6666666666666666, \"#ed7953\"], [0.7777777777777778, \"#fb9f3a\"], [0.8888888888888888, \"#fdca26\"], [1.0, \"#f0f921\"]], \"type\": \"heatmapgl\"}], \"histogram\": [{\"marker\": {\"colorbar\": {\"outlinewidth\": 0, \"ticks\": \"\"}}, \"type\": \"histogram\"}], \"histogram2d\": [{\"colorbar\": {\"outlinewidth\": 0, \"ticks\": \"\"}, \"colorscale\": [[0.0, \"#0d0887\"], [0.1111111111111111, \"#46039f\"], [0.2222222222222222, \"#7201a8\"], [0.3333333333333333, \"#9c179e\"], [0.4444444444444444, \"#bd3786\"], [0.5555555555555556, \"#d8576b\"], [0.6666666666666666, \"#ed7953\"], [0.7777777777777778, \"#fb9f3a\"], [0.8888888888888888, \"#fdca26\"], [1.0, \"#f0f921\"]], \"type\": \"histogram2d\"}], \"histogram2dcontour\": [{\"colorbar\": {\"outlinewidth\": 0, \"ticks\": \"\"}, \"colorscale\": [[0.0, \"#0d0887\"], [0.1111111111111111, \"#46039f\"], [0.2222222222222222, \"#7201a8\"], [0.3333333333333333, \"#9c179e\"], [0.4444444444444444, \"#bd3786\"], [0.5555555555555556, \"#d8576b\"], [0.6666666666666666, \"#ed7953\"], [0.7777777777777778, \"#fb9f3a\"], [0.8888888888888888, \"#fdca26\"], [1.0, \"#f0f921\"]], \"type\": \"histogram2dcontour\"}], \"mesh3d\": [{\"colorbar\": {\"outlinewidth\": 0, \"ticks\": \"\"}, \"type\": \"mesh3d\"}], \"parcoords\": [{\"line\": {\"colorbar\": {\"outlinewidth\": 0, \"ticks\": \"\"}}, \"type\": \"parcoords\"}], \"scatter\": [{\"marker\": {\"colorbar\": {\"outlinewidth\": 0, \"ticks\": \"\"}}, \"type\": \"scatter\"}], \"scatter3d\": [{\"line\": {\"colorbar\": {\"outlinewidth\": 0, \"ticks\": \"\"}}, \"marker\": {\"colorbar\": {\"outlinewidth\": 0, \"ticks\": \"\"}}, \"type\": \"scatter3d\"}], \"scattercarpet\": [{\"marker\": {\"colorbar\": {\"outlinewidth\": 0, \"ticks\": \"\"}}, \"type\": \"scattercarpet\"}], \"scattergeo\": [{\"marker\": {\"colorbar\": {\"outlinewidth\": 0, \"ticks\": \"\"}}, \"type\": \"scattergeo\"}], \"scattergl\": [{\"marker\": {\"colorbar\": {\"outlinewidth\": 0, \"ticks\": \"\"}}, \"type\": \"scattergl\"}], \"scattermapbox\": [{\"marker\": {\"colorbar\": {\"outlinewidth\": 0, \"ticks\": \"\"}}, \"type\": \"scattermapbox\"}], \"scatterpolar\": [{\"marker\": {\"colorbar\": {\"outlinewidth\": 0, \"ticks\": \"\"}}, \"type\": \"scatterpolar\"}], \"scatterpolargl\": [{\"marker\": {\"colorbar\": {\"outlinewidth\": 0, \"ticks\": \"\"}}, \"type\": \"scatterpolargl\"}], \"scatterternary\": [{\"marker\": {\"colorbar\": {\"outlinewidth\": 0, \"ticks\": \"\"}}, \"type\": \"scatterternary\"}], \"surface\": [{\"colorbar\": {\"outlinewidth\": 0, \"ticks\": \"\"}, \"colorscale\": [[0.0, \"#0d0887\"], [0.1111111111111111, \"#46039f\"], [0.2222222222222222, \"#7201a8\"], [0.3333333333333333, \"#9c179e\"], [0.4444444444444444, \"#bd3786\"], [0.5555555555555556, \"#d8576b\"], [0.6666666666666666, \"#ed7953\"], [0.7777777777777778, \"#fb9f3a\"], [0.8888888888888888, \"#fdca26\"], [1.0, \"#f0f921\"]], \"type\": \"surface\"}], \"table\": [{\"cells\": {\"fill\": {\"color\": \"#EBF0F8\"}, \"line\": {\"color\": \"white\"}}, \"header\": {\"fill\": {\"color\": \"#C8D4E3\"}, \"line\": {\"color\": \"white\"}}, \"type\": \"table\"}]}, \"layout\": {\"annotationdefaults\": {\"arrowcolor\": \"#2a3f5f\", \"arrowhead\": 0, \"arrowwidth\": 1}, \"colorscale\": {\"diverging\": [[0, \"#8e0152\"], [0.1, \"#c51b7d\"], [0.2, \"#de77ae\"], [0.3, \"#f1b6da\"], [0.4, \"#fde0ef\"], [0.5, \"#f7f7f7\"], [0.6, \"#e6f5d0\"], [0.7, \"#b8e186\"], [0.8, \"#7fbc41\"], [0.9, \"#4d9221\"], [1, \"#276419\"]], \"sequential\": [[0.0, \"#0d0887\"], [0.1111111111111111, \"#46039f\"], [0.2222222222222222, \"#7201a8\"], [0.3333333333333333, \"#9c179e\"], [0.4444444444444444, \"#bd3786\"], [0.5555555555555556, \"#d8576b\"], [0.6666666666666666, \"#ed7953\"], [0.7777777777777778, \"#fb9f3a\"], [0.8888888888888888, \"#fdca26\"], [1.0, \"#f0f921\"]], \"sequentialminus\": [[0.0, \"#0d0887\"], [0.1111111111111111, \"#46039f\"], [0.2222222222222222, \"#7201a8\"], [0.3333333333333333, \"#9c179e\"], [0.4444444444444444, \"#bd3786\"], [0.5555555555555556, \"#d8576b\"], [0.6666666666666666, \"#ed7953\"], [0.7777777777777778, \"#fb9f3a\"], [0.8888888888888888, \"#fdca26\"], [1.0, \"#f0f921\"]]}, \"colorway\": [\"#636efa\", \"#EF553B\", \"#00cc96\", \"#ab63fa\", \"#FFA15A\", \"#19d3f3\", \"#FF6692\", \"#B6E880\", \"#FF97FF\", \"#FECB52\"], \"font\": {\"color\": \"#2a3f5f\"}, \"geo\": {\"bgcolor\": \"white\", \"lakecolor\": \"white\", \"landcolor\": \"#E5ECF6\", \"showlakes\": true, \"showland\": true, \"subunitcolor\": \"white\"}, \"hoverlabel\": {\"align\": \"left\"}, \"hovermode\": \"closest\", \"mapbox\": {\"style\": \"light\"}, \"paper_bgcolor\": \"white\", \"plot_bgcolor\": \"#E5ECF6\", \"polar\": {\"angularaxis\": {\"gridcolor\": \"white\", \"linecolor\": \"white\", \"ticks\": \"\"}, \"bgcolor\": \"#E5ECF6\", \"radialaxis\": {\"gridcolor\": \"white\", \"linecolor\": \"white\", \"ticks\": \"\"}}, \"scene\": {\"xaxis\": {\"backgroundcolor\": \"#E5ECF6\", \"gridcolor\": \"white\", \"gridwidth\": 2, \"linecolor\": \"white\", \"showbackground\": true, \"ticks\": \"\", \"zerolinecolor\": \"white\"}, \"yaxis\": {\"backgroundcolor\": \"#E5ECF6\", \"gridcolor\": \"white\", \"gridwidth\": 2, \"linecolor\": \"white\", \"showbackground\": true, \"ticks\": \"\", \"zerolinecolor\": \"white\"}, \"zaxis\": {\"backgroundcolor\": \"#E5ECF6\", \"gridcolor\": \"white\", \"gridwidth\": 2, \"linecolor\": \"white\", \"showbackground\": true, \"ticks\": \"\", \"zerolinecolor\": \"white\"}}, \"shapedefaults\": {\"line\": {\"color\": \"#2a3f5f\"}}, \"ternary\": {\"aaxis\": {\"gridcolor\": \"white\", \"linecolor\": \"white\", \"ticks\": \"\"}, \"baxis\": {\"gridcolor\": \"white\", \"linecolor\": \"white\", \"ticks\": \"\"}, \"bgcolor\": \"#E5ECF6\", \"caxis\": {\"gridcolor\": \"white\", \"linecolor\": \"white\", \"ticks\": \"\"}}, \"title\": {\"x\": 0.05}, \"xaxis\": {\"automargin\": true, \"gridcolor\": \"white\", \"linecolor\": \"white\", \"ticks\": \"\", \"zerolinecolor\": \"white\", \"zerolinewidth\": 2}, \"yaxis\": {\"automargin\": true, \"gridcolor\": \"white\", \"linecolor\": \"white\", \"ticks\": \"\", \"zerolinecolor\": \"white\", \"zerolinewidth\": 2}}}, \"title\": {\"text\": \"tuwen:stats/time_per_click\"}, \"xaxis\": {\"type\": \"date\"}},\n",
       "                        {\"responsive\": true}\n",
       "                    ).then(function(){\n",
       "                            \n",
       "var gd = document.getElementById('2ebdee7a-c950-4759-b98b-f11f3fe1786c');\n",
       "var x = new MutationObserver(function (mutations, observer) {{\n",
       "        var display = window.getComputedStyle(gd).display;\n",
       "        if (!display || display === 'none') {{\n",
       "            console.log([gd, 'removed!']);\n",
       "            Plotly.purge(gd);\n",
       "            observer.disconnect();\n",
       "        }}\n",
       "}});\n",
       "\n",
       "// Listen for the removal of the full notebook cells\n",
       "var notebookContainer = gd.closest('#notebook-container');\n",
       "if (notebookContainer) {{\n",
       "    x.observe(notebookContainer, {childList: true});\n",
       "}}\n",
       "\n",
       "// Listen for the clearing of the current output cell\n",
       "var outputEl = gd.closest('.output');\n",
       "if (outputEl) {{\n",
       "    x.observe(outputEl, {childList: true});\n",
       "}}\n",
       "\n",
       "                        })\n",
       "                };\n",
       "                });\n",
       "            </script>\n",
       "        </div>"
      ]
     },
     "metadata": {},
     "output_type": "display_data"
    }
   ],
   "source": [
    "compare(df, 'stats/time_per_click', smoothing=0.5)"
   ]
  },
  {
   "cell_type": "code",
   "execution_count": null,
   "metadata": {},
   "outputs": [],
   "source": []
  },
  {
   "cell_type": "code",
   "execution_count": null,
   "metadata": {},
   "outputs": [],
   "source": []
  },
  {
   "cell_type": "code",
   "execution_count": null,
   "metadata": {},
   "outputs": [],
   "source": []
  },
  {
   "cell_type": "code",
   "execution_count": null,
   "metadata": {},
   "outputs": [],
   "source": []
  },
  {
   "cell_type": "code",
   "execution_count": null,
   "metadata": {},
   "outputs": [],
   "source": []
  },
  {
   "cell_type": "code",
   "execution_count": null,
   "metadata": {},
   "outputs": [],
   "source": []
  },
  {
   "cell_type": "code",
   "execution_count": null,
   "metadata": {},
   "outputs": [],
   "source": []
  },
  {
   "cell_type": "code",
   "execution_count": null,
   "metadata": {},
   "outputs": [],
   "source": []
  }
 ],
 "metadata": {
  "kernelspec": {
   "display_name": "Python 3",
   "language": "python",
   "name": "python3"
  },
  "language_info": {
   "codemirror_mode": {
    "name": "ipython",
    "version": 3
   },
   "file_extension": ".py",
   "mimetype": "text/x-python",
   "name": "python",
   "nbconvert_exporter": "python",
   "pygments_lexer": "ipython3",
   "version": "3.6.8"
  }
 },
 "nbformat": 4,
 "nbformat_minor": 2
}
