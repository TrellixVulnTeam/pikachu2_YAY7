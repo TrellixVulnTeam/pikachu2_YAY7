{
 "cells": [
  {
   "cell_type": "code",
   "execution_count": 1,
   "metadata": {},
   "outputs": [],
   "source": [
    "import tensorflow as tf"
   ]
  },
  {
   "cell_type": "code",
   "execution_count": 2,
   "metadata": {},
   "outputs": [],
   "source": [
    "tf.enable_eager_execution()"
   ]
  },
  {
   "cell_type": "code",
   "execution_count": 36,
   "metadata": {},
   "outputs": [],
   "source": [
    "model_path = '/home/gezi/new/temp/feed/rank/online/2019083003_23/model.v0/v8/dense/model.ckpt-2.00-116942'"
   ]
  },
  {
   "cell_type": "code",
   "execution_count": 41,
   "metadata": {},
   "outputs": [],
   "source": [
    "model_path2 = '/home/gezi/new/temp/feed/rank/online/2019090100_23//model.v0/v8/dense/model.ckpt-2.00-116116'"
   ]
  },
  {
   "cell_type": "code",
   "execution_count": 42,
   "metadata": {},
   "outputs": [],
   "source": [
    "reader = tf.train.NewCheckpointReader(model_path)"
   ]
  },
  {
   "cell_type": "code",
   "execution_count": 43,
   "metadata": {},
   "outputs": [],
   "source": [
    "reader2 = tf.train.NewCheckpointReader(model_path2)"
   ]
  },
  {
   "cell_type": "code",
   "execution_count": 44,
   "metadata": {},
   "outputs": [],
   "source": [
    "deep_emb = reader.get_tensor('wide_deep/deep/emb/embeddings')"
   ]
  },
  {
   "cell_type": "code",
   "execution_count": 45,
   "metadata": {},
   "outputs": [
    {
     "data": {
      "text/plain": [
       "array([[-0.00893738, -0.02373599, -0.0128132 , ..., -0.03363468,\n",
       "        -0.02756391,  0.04094943],\n",
       "       [-0.16363354,  0.08918183, -0.11769531, ...,  0.09117372,\n",
       "         0.05352593,  0.11175921],\n",
       "       [ 0.04313851, -0.11001794, -0.0879963 , ..., -0.07622865,\n",
       "        -0.06597317,  0.00981503],\n",
       "       ...,\n",
       "       [-0.06873453, -0.02393466, -0.03420233, ...,  0.0083272 ,\n",
       "        -0.04898661, -0.00605132],\n",
       "       [-0.01648774, -0.01352275,  0.00113533, ..., -0.00771625,\n",
       "        -0.04545455, -0.0106171 ],\n",
       "       [-0.01583354,  0.00285606, -0.00729624, ...,  0.001899  ,\n",
       "        -0.08048271, -0.0031899 ]], dtype=float32)"
      ]
     },
     "execution_count": 45,
     "metadata": {},
     "output_type": "execute_result"
    }
   ],
   "source": [
    "deep_emb"
   ]
  },
  {
   "cell_type": "code",
   "execution_count": 46,
   "metadata": {},
   "outputs": [],
   "source": [
    "deep_emb2 = reader2.get_tensor('wide_deep/deep/emb/embeddings')"
   ]
  },
  {
   "cell_type": "code",
   "execution_count": 47,
   "metadata": {},
   "outputs": [
    {
     "data": {
      "text/plain": [
       "array([[-0.04958532,  0.0195765 ,  0.01982954, ..., -0.00829188,\n",
       "         0.01189622,  0.00813508],\n",
       "       [-0.06515305, -0.13529614,  0.02952821, ...,  0.03426773,\n",
       "        -0.01501425,  0.14961764],\n",
       "       [ 0.09066864, -0.08750236, -0.00200495, ..., -0.24652444,\n",
       "        -0.11246425,  0.20870413],\n",
       "       ...,\n",
       "       [-0.04261259,  0.01397788, -0.03169682, ...,  0.03543609,\n",
       "         0.03640362,  0.010008  ],\n",
       "       [ 0.05950586, -0.05402226,  0.10512507, ..., -0.01917496,\n",
       "        -0.09152455,  0.12750366],\n",
       "       [ 0.10172438, -0.07730626,  0.08365542, ...,  0.03040497,\n",
       "        -0.02427712,  0.0585703 ]], dtype=float32)"
      ]
     },
     "execution_count": 47,
     "metadata": {},
     "output_type": "execute_result"
    }
   ],
   "source": [
    "deep_emb2"
   ]
  },
  {
   "cell_type": "code",
   "execution_count": 48,
   "metadata": {},
   "outputs": [
    {
     "data": {
      "text/plain": [
       "2906792"
      ]
     },
     "execution_count": 48,
     "metadata": {},
     "output_type": "execute_result"
    }
   ],
   "source": [
    "len(deep_emb)"
   ]
  },
  {
   "cell_type": "code",
   "execution_count": 49,
   "metadata": {},
   "outputs": [
    {
     "data": {
      "text/plain": [
       "2917920"
      ]
     },
     "execution_count": 49,
     "metadata": {},
     "output_type": "execute_result"
    }
   ],
   "source": [
    "len(deep_emb2)"
   ]
  },
  {
   "cell_type": "code",
   "execution_count": 50,
   "metadata": {},
   "outputs": [],
   "source": [
    "import numpy as np"
   ]
  },
  {
   "cell_type": "code",
   "execution_count": 51,
   "metadata": {},
   "outputs": [
    {
     "data": {
      "text/plain": [
       "-0.0012853629"
      ]
     },
     "execution_count": 51,
     "metadata": {},
     "output_type": "execute_result"
    }
   ],
   "source": [
    "np.mean(deep_emb)"
   ]
  },
  {
   "cell_type": "code",
   "execution_count": 52,
   "metadata": {},
   "outputs": [
    {
     "data": {
      "text/plain": [
       "-2.761048e-05"
      ]
     },
     "execution_count": 52,
     "metadata": {},
     "output_type": "execute_result"
    }
   ],
   "source": [
    "np.mean(deep_emb2)"
   ]
  },
  {
   "cell_type": "code",
   "execution_count": 53,
   "metadata": {},
   "outputs": [
    {
     "data": {
      "text/plain": [
       "0.0013235146"
      ]
     },
     "execution_count": 53,
     "metadata": {},
     "output_type": "execute_result"
    }
   ],
   "source": [
    "np.mean(pow(deep_emb, 2))"
   ]
  },
  {
   "cell_type": "code",
   "execution_count": 54,
   "metadata": {},
   "outputs": [
    {
     "data": {
      "text/plain": [
       "0.0012842955"
      ]
     },
     "execution_count": 54,
     "metadata": {},
     "output_type": "execute_result"
    }
   ],
   "source": [
    "np.mean(pow(deep_emb2, 2))"
   ]
  },
  {
   "cell_type": "code",
   "execution_count": 55,
   "metadata": {},
   "outputs": [],
   "source": [
    "femb = reader.get_tensor('wide_deep/deep/field_emb/embeddings')"
   ]
  },
  {
   "cell_type": "code",
   "execution_count": 56,
   "metadata": {},
   "outputs": [],
   "source": [
    "femb2 = reader2.get_tensor('wide_deep/deep/field_emb/embeddings')"
   ]
  },
  {
   "cell_type": "code",
   "execution_count": 57,
   "metadata": {},
   "outputs": [
    {
     "data": {
      "text/plain": [
       "array([[-0.03458231, -0.01025536, -0.03075328, ..., -0.0329504 ,\n",
       "         0.01488446,  0.04616782],\n",
       "       [-0.05885208, -0.00576724, -0.01164985, ..., -0.00187898,\n",
       "         0.03680303, -0.07762071],\n",
       "       [-0.06767381, -0.01648147, -0.08664385, ..., -0.00341223,\n",
       "         0.05754199, -0.14594306],\n",
       "       ...,\n",
       "       [-0.01958422, -0.03796789, -0.0998691 , ...,  0.02652049,\n",
       "        -0.01479264, -0.1170466 ],\n",
       "       [-0.03964078, -0.01325496, -0.04118003, ..., -0.04052602,\n",
       "         0.01121036, -0.10745233],\n",
       "       [-0.03771373, -0.06731449, -0.09760114, ..., -0.01386493,\n",
       "         0.05776796, -0.13271777]], dtype=float32)"
      ]
     },
     "execution_count": 57,
     "metadata": {},
     "output_type": "execute_result"
    }
   ],
   "source": [
    "femb"
   ]
  },
  {
   "cell_type": "code",
   "execution_count": 58,
   "metadata": {},
   "outputs": [
    {
     "data": {
      "text/plain": [
       "array([[-0.01495782,  0.01920393, -0.02402559, ...,  0.03400947,\n",
       "         0.02301793, -0.04804211],\n",
       "       [-0.05593001,  0.0387314 , -0.06567759, ..., -0.01291933,\n",
       "         0.05283777,  0.0301952 ],\n",
       "       [-0.01541282, -0.00676403,  0.02371783, ..., -0.051891  ,\n",
       "        -0.02122667,  0.0266782 ],\n",
       "       ...,\n",
       "       [ 0.01237481, -0.09629238,  0.09122197, ..., -0.1622009 ,\n",
       "         0.02173924, -0.05089279],\n",
       "       [-0.03068354, -0.0473668 ,  0.06287747, ..., -0.13694404,\n",
       "        -0.03226571, -0.10088482],\n",
       "       [ 0.00554773, -0.07127613,  0.06776252, ..., -0.13260853,\n",
       "        -0.0206074 , -0.10763737]], dtype=float32)"
      ]
     },
     "execution_count": 58,
     "metadata": {},
     "output_type": "execute_result"
    }
   ],
   "source": [
    "femb2"
   ]
  },
  {
   "cell_type": "code",
   "execution_count": 59,
   "metadata": {},
   "outputs": [
    {
     "data": {
      "text/plain": [
       "73"
      ]
     },
     "execution_count": 59,
     "metadata": {},
     "output_type": "execute_result"
    }
   ],
   "source": [
    "len(femb)"
   ]
  },
  {
   "cell_type": "code",
   "execution_count": 60,
   "metadata": {},
   "outputs": [
    {
     "data": {
      "text/plain": [
       "73"
      ]
     },
     "execution_count": 60,
     "metadata": {},
     "output_type": "execute_result"
    }
   ],
   "source": [
    "len(femb2)"
   ]
  },
  {
   "cell_type": "code",
   "execution_count": 61,
   "metadata": {},
   "outputs": [],
   "source": [
    "fnames = [x.rstrip() for x in open('/home/gezi/new/temp/feed/rank/online/2019083003_23/feat_fields.txt').readlines()]"
   ]
  },
  {
   "cell_type": "code",
   "execution_count": 62,
   "metadata": {},
   "outputs": [],
   "source": [
    "fnames = ['IGNORE'] + fnames"
   ]
  },
  {
   "cell_type": "code",
   "execution_count": 63,
   "metadata": {},
   "outputs": [],
   "source": [
    "import pandas as pd"
   ]
  },
  {
   "cell_type": "code",
   "execution_count": 64,
   "metadata": {},
   "outputs": [],
   "source": [
    "data = np.asarray([(i, np.mean(femb[i]), np.mean(femb2[i]), np.mean(pow(femb[i], 2)), np.mean(pow(femb2[i], 2))) for i in range(len(femb))])"
   ]
  },
  {
   "cell_type": "code",
   "execution_count": 65,
   "metadata": {},
   "outputs": [],
   "source": [
    "df = pd.DataFrame(data, columns=['id', 'mean1', 'mean2', 'pow1', 'pow2'])"
   ]
  },
  {
   "cell_type": "code",
   "execution_count": 66,
   "metadata": {},
   "outputs": [
    {
     "data": {
      "text/html": [
       "<div>\n",
       "<style scoped>\n",
       "    .dataframe tbody tr th:only-of-type {\n",
       "        vertical-align: middle;\n",
       "    }\n",
       "\n",
       "    .dataframe tbody tr th {\n",
       "        vertical-align: top;\n",
       "    }\n",
       "\n",
       "    .dataframe thead th {\n",
       "        text-align: right;\n",
       "    }\n",
       "</style>\n",
       "<table border=\"1\" class=\"dataframe\">\n",
       "  <thead>\n",
       "    <tr style=\"text-align: right;\">\n",
       "      <th></th>\n",
       "      <th>id</th>\n",
       "      <th>mean1</th>\n",
       "      <th>mean2</th>\n",
       "      <th>pow1</th>\n",
       "      <th>pow2</th>\n",
       "    </tr>\n",
       "  </thead>\n",
       "  <tbody>\n",
       "    <tr>\n",
       "      <th>0</th>\n",
       "      <td>0.0</td>\n",
       "      <td>0.000270</td>\n",
       "      <td>-0.001327</td>\n",
       "      <td>0.000819</td>\n",
       "      <td>0.000817</td>\n",
       "    </tr>\n",
       "    <tr>\n",
       "      <th>1</th>\n",
       "      <td>1.0</td>\n",
       "      <td>0.000093</td>\n",
       "      <td>-0.004527</td>\n",
       "      <td>0.001660</td>\n",
       "      <td>0.001888</td>\n",
       "    </tr>\n",
       "    <tr>\n",
       "      <th>2</th>\n",
       "      <td>2.0</td>\n",
       "      <td>0.005179</td>\n",
       "      <td>0.009167</td>\n",
       "      <td>0.002719</td>\n",
       "      <td>0.002328</td>\n",
       "    </tr>\n",
       "    <tr>\n",
       "      <th>3</th>\n",
       "      <td>3.0</td>\n",
       "      <td>0.006227</td>\n",
       "      <td>-0.022825</td>\n",
       "      <td>0.527929</td>\n",
       "      <td>0.750613</td>\n",
       "    </tr>\n",
       "    <tr>\n",
       "      <th>4</th>\n",
       "      <td>4.0</td>\n",
       "      <td>0.000819</td>\n",
       "      <td>-0.097493</td>\n",
       "      <td>0.145619</td>\n",
       "      <td>0.181064</td>\n",
       "    </tr>\n",
       "  </tbody>\n",
       "</table>\n",
       "</div>"
      ],
      "text/plain": [
       "    id     mean1     mean2      pow1      pow2\n",
       "0  0.0  0.000270 -0.001327  0.000819  0.000817\n",
       "1  1.0  0.000093 -0.004527  0.001660  0.001888\n",
       "2  2.0  0.005179  0.009167  0.002719  0.002328\n",
       "3  3.0  0.006227 -0.022825  0.527929  0.750613\n",
       "4  4.0  0.000819 -0.097493  0.145619  0.181064"
      ]
     },
     "execution_count": 66,
     "metadata": {},
     "output_type": "execute_result"
    }
   ],
   "source": [
    "df.head()"
   ]
  },
  {
   "cell_type": "code",
   "execution_count": 67,
   "metadata": {},
   "outputs": [],
   "source": [
    "df['fname'] = fnames"
   ]
  },
  {
   "cell_type": "code",
   "execution_count": 68,
   "metadata": {},
   "outputs": [],
   "source": [
    "df['x'] = abs(df['pow2'] - df['pow1'])"
   ]
  },
  {
   "cell_type": "code",
   "execution_count": 69,
   "metadata": {},
   "outputs": [
    {
     "data": {
      "text/html": [
       "<div>\n",
       "<style scoped>\n",
       "    .dataframe tbody tr th:only-of-type {\n",
       "        vertical-align: middle;\n",
       "    }\n",
       "\n",
       "    .dataframe tbody tr th {\n",
       "        vertical-align: top;\n",
       "    }\n",
       "\n",
       "    .dataframe thead th {\n",
       "        text-align: right;\n",
       "    }\n",
       "</style>\n",
       "<table border=\"1\" class=\"dataframe\">\n",
       "  <thead>\n",
       "    <tr style=\"text-align: right;\">\n",
       "      <th></th>\n",
       "      <th>id</th>\n",
       "      <th>mean1</th>\n",
       "      <th>mean2</th>\n",
       "      <th>pow1</th>\n",
       "      <th>pow2</th>\n",
       "      <th>fname</th>\n",
       "      <th>x</th>\n",
       "    </tr>\n",
       "  </thead>\n",
       "  <tbody>\n",
       "    <tr>\n",
       "      <th>3</th>\n",
       "      <td>3.0</td>\n",
       "      <td>0.006227</td>\n",
       "      <td>-0.022825</td>\n",
       "      <td>0.527929</td>\n",
       "      <td>0.750613</td>\n",
       "      <td>CITATCOTP\\t3</td>\n",
       "      <td>0.222684</td>\n",
       "    </tr>\n",
       "    <tr>\n",
       "      <th>65</th>\n",
       "      <td>65.0</td>\n",
       "      <td>-0.010268</td>\n",
       "      <td>-0.021870</td>\n",
       "      <td>0.046286</td>\n",
       "      <td>0.099137</td>\n",
       "      <td>MSUBITATKW\\t65</td>\n",
       "      <td>0.052851</td>\n",
       "    </tr>\n",
       "    <tr>\n",
       "      <th>4</th>\n",
       "      <td>4.0</td>\n",
       "      <td>0.000819</td>\n",
       "      <td>-0.097493</td>\n",
       "      <td>0.145619</td>\n",
       "      <td>0.181064</td>\n",
       "      <td>CRWATIDDUR\\t4</td>\n",
       "      <td>0.035445</td>\n",
       "    </tr>\n",
       "    <tr>\n",
       "      <th>51</th>\n",
       "      <td>51.0</td>\n",
       "      <td>0.003393</td>\n",
       "      <td>-0.004125</td>\n",
       "      <td>0.019607</td>\n",
       "      <td>0.054468</td>\n",
       "      <td>MITATPORNSTG\\t51</td>\n",
       "      <td>0.034860</td>\n",
       "    </tr>\n",
       "    <tr>\n",
       "      <th>50</th>\n",
       "      <td>50.0</td>\n",
       "      <td>0.050682</td>\n",
       "      <td>0.021208</td>\n",
       "      <td>0.122586</td>\n",
       "      <td>0.155113</td>\n",
       "      <td>MITATPORNSKW\\t50</td>\n",
       "      <td>0.032527</td>\n",
       "    </tr>\n",
       "  </tbody>\n",
       "</table>\n",
       "</div>"
      ],
      "text/plain": [
       "      id     mean1     mean2      pow1      pow2             fname         x\n",
       "3    3.0  0.006227 -0.022825  0.527929  0.750613      CITATCOTP\\t3  0.222684\n",
       "65  65.0 -0.010268 -0.021870  0.046286  0.099137    MSUBITATKW\\t65  0.052851\n",
       "4    4.0  0.000819 -0.097493  0.145619  0.181064     CRWATIDDUR\\t4  0.035445\n",
       "51  51.0  0.003393 -0.004125  0.019607  0.054468  MITATPORNSTG\\t51  0.034860\n",
       "50  50.0  0.050682  0.021208  0.122586  0.155113  MITATPORNSKW\\t50  0.032527"
      ]
     },
     "execution_count": 69,
     "metadata": {},
     "output_type": "execute_result"
    }
   ],
   "source": [
    "df.sort_values('x', ascending=False).head()"
   ]
  },
  {
   "cell_type": "code",
   "execution_count": 71,
   "metadata": {},
   "outputs": [
    {
     "data": {
      "text/html": [
       "<div>\n",
       "<style scoped>\n",
       "    .dataframe tbody tr th:only-of-type {\n",
       "        vertical-align: middle;\n",
       "    }\n",
       "\n",
       "    .dataframe tbody tr th {\n",
       "        vertical-align: top;\n",
       "    }\n",
       "\n",
       "    .dataframe thead th {\n",
       "        text-align: right;\n",
       "    }\n",
       "</style>\n",
       "<table border=\"1\" class=\"dataframe\">\n",
       "  <thead>\n",
       "    <tr style=\"text-align: right;\">\n",
       "      <th></th>\n",
       "      <th>id</th>\n",
       "      <th>mean1</th>\n",
       "      <th>mean2</th>\n",
       "      <th>pow1</th>\n",
       "      <th>pow2</th>\n",
       "      <th>fname</th>\n",
       "      <th>x</th>\n",
       "    </tr>\n",
       "  </thead>\n",
       "  <tbody>\n",
       "    <tr>\n",
       "      <th>3</th>\n",
       "      <td>3.0</td>\n",
       "      <td>0.006227</td>\n",
       "      <td>-0.022825</td>\n",
       "      <td>0.527929</td>\n",
       "      <td>0.750613</td>\n",
       "      <td>CITATCOTP\\t3</td>\n",
       "      <td>0.222684</td>\n",
       "    </tr>\n",
       "    <tr>\n",
       "      <th>65</th>\n",
       "      <td>65.0</td>\n",
       "      <td>-0.010268</td>\n",
       "      <td>-0.021870</td>\n",
       "      <td>0.046286</td>\n",
       "      <td>0.099137</td>\n",
       "      <td>MSUBITATKW\\t65</td>\n",
       "      <td>0.052851</td>\n",
       "    </tr>\n",
       "    <tr>\n",
       "      <th>4</th>\n",
       "      <td>4.0</td>\n",
       "      <td>0.000819</td>\n",
       "      <td>-0.097493</td>\n",
       "      <td>0.145619</td>\n",
       "      <td>0.181064</td>\n",
       "      <td>CRWATIDDUR\\t4</td>\n",
       "      <td>0.035445</td>\n",
       "    </tr>\n",
       "    <tr>\n",
       "      <th>51</th>\n",
       "      <td>51.0</td>\n",
       "      <td>0.003393</td>\n",
       "      <td>-0.004125</td>\n",
       "      <td>0.019607</td>\n",
       "      <td>0.054468</td>\n",
       "      <td>MITATPORNSTG\\t51</td>\n",
       "      <td>0.034860</td>\n",
       "    </tr>\n",
       "    <tr>\n",
       "      <th>50</th>\n",
       "      <td>50.0</td>\n",
       "      <td>0.050682</td>\n",
       "      <td>0.021208</td>\n",
       "      <td>0.122586</td>\n",
       "      <td>0.155113</td>\n",
       "      <td>MITATPORNSKW\\t50</td>\n",
       "      <td>0.032527</td>\n",
       "    </tr>\n",
       "    <tr>\n",
       "      <th>61</th>\n",
       "      <td>61.0</td>\n",
       "      <td>-0.011647</td>\n",
       "      <td>-0.007340</td>\n",
       "      <td>0.072721</td>\n",
       "      <td>0.099166</td>\n",
       "      <td>MSRCHITATKW\\t61</td>\n",
       "      <td>0.026445</td>\n",
       "    </tr>\n",
       "    <tr>\n",
       "      <th>64</th>\n",
       "      <td>64.0</td>\n",
       "      <td>-0.069275</td>\n",
       "      <td>-0.027521</td>\n",
       "      <td>0.079958</td>\n",
       "      <td>0.057514</td>\n",
       "      <td>MSUBITATAC\\t64</td>\n",
       "      <td>0.022444</td>\n",
       "    </tr>\n",
       "    <tr>\n",
       "      <th>41</th>\n",
       "      <td>41.0</td>\n",
       "      <td>-0.005219</td>\n",
       "      <td>-0.021874</td>\n",
       "      <td>0.049086</td>\n",
       "      <td>0.061323</td>\n",
       "      <td>MITATDURAC\\t41</td>\n",
       "      <td>0.012236</td>\n",
       "    </tr>\n",
       "    <tr>\n",
       "      <th>31</th>\n",
       "      <td>31.0</td>\n",
       "      <td>0.020550</td>\n",
       "      <td>-0.044132</td>\n",
       "      <td>0.035566</td>\n",
       "      <td>0.026360</td>\n",
       "      <td>ICFRWDUR\\t31</td>\n",
       "      <td>0.009206</td>\n",
       "    </tr>\n",
       "    <tr>\n",
       "      <th>45</th>\n",
       "      <td>45.0</td>\n",
       "      <td>-0.009579</td>\n",
       "      <td>0.001976</td>\n",
       "      <td>0.038584</td>\n",
       "      <td>0.047325</td>\n",
       "      <td>MITATPCNTAC\\t45</td>\n",
       "      <td>0.008741</td>\n",
       "    </tr>\n",
       "    <tr>\n",
       "      <th>35</th>\n",
       "      <td>35.0</td>\n",
       "      <td>-0.015642</td>\n",
       "      <td>-0.016849</td>\n",
       "      <td>0.023075</td>\n",
       "      <td>0.014665</td>\n",
       "      <td>ICFRWWCNT\\t35</td>\n",
       "      <td>0.008410</td>\n",
       "    </tr>\n",
       "    <tr>\n",
       "      <th>66</th>\n",
       "      <td>66.0</td>\n",
       "      <td>-0.008389</td>\n",
       "      <td>-0.000985</td>\n",
       "      <td>0.002169</td>\n",
       "      <td>0.009993</td>\n",
       "      <td>MSUBITATTG\\t66</td>\n",
       "      <td>0.007825</td>\n",
       "    </tr>\n",
       "    <tr>\n",
       "      <th>57</th>\n",
       "      <td>57.0</td>\n",
       "      <td>-0.013127</td>\n",
       "      <td>-0.000048</td>\n",
       "      <td>0.028380</td>\n",
       "      <td>0.035615</td>\n",
       "      <td>MITATWCNTAC\\t57</td>\n",
       "      <td>0.007235</td>\n",
       "    </tr>\n",
       "    <tr>\n",
       "      <th>17</th>\n",
       "      <td>17.0</td>\n",
       "      <td>-0.000821</td>\n",
       "      <td>-0.000020</td>\n",
       "      <td>0.011994</td>\n",
       "      <td>0.019120</td>\n",
       "      <td>IACID\\t17</td>\n",
       "      <td>0.007126</td>\n",
       "    </tr>\n",
       "    <tr>\n",
       "      <th>53</th>\n",
       "      <td>53.0</td>\n",
       "      <td>-0.020099</td>\n",
       "      <td>-0.004874</td>\n",
       "      <td>0.039014</td>\n",
       "      <td>0.045519</td>\n",
       "      <td>MITATQUALSAC\\t53</td>\n",
       "      <td>0.006506</td>\n",
       "    </tr>\n",
       "    <tr>\n",
       "      <th>19</th>\n",
       "      <td>19.0</td>\n",
       "      <td>0.039140</td>\n",
       "      <td>0.011647</td>\n",
       "      <td>0.105603</td>\n",
       "      <td>0.111943</td>\n",
       "      <td>IATKW\\t19</td>\n",
       "      <td>0.006339</td>\n",
       "    </tr>\n",
       "    <tr>\n",
       "      <th>26</th>\n",
       "      <td>26.0</td>\n",
       "      <td>0.004385</td>\n",
       "      <td>-0.025852</td>\n",
       "      <td>0.027279</td>\n",
       "      <td>0.021083</td>\n",
       "      <td>ICBRWDUR\\t26</td>\n",
       "      <td>0.006196</td>\n",
       "    </tr>\n",
       "    <tr>\n",
       "      <th>67</th>\n",
       "      <td>67.0</td>\n",
       "      <td>-0.002312</td>\n",
       "      <td>-0.007140</td>\n",
       "      <td>0.015670</td>\n",
       "      <td>0.021611</td>\n",
       "      <td>MSUBITATTP\\t67</td>\n",
       "      <td>0.005941</td>\n",
       "    </tr>\n",
       "    <tr>\n",
       "      <th>36</th>\n",
       "      <td>36.0</td>\n",
       "      <td>-0.000110</td>\n",
       "      <td>0.005302</td>\n",
       "      <td>0.005223</td>\n",
       "      <td>0.010396</td>\n",
       "      <td>ILOC\\t36</td>\n",
       "      <td>0.005173</td>\n",
       "    </tr>\n",
       "    <tr>\n",
       "      <th>42</th>\n",
       "      <td>42.0</td>\n",
       "      <td>-0.020984</td>\n",
       "      <td>-0.050401</td>\n",
       "      <td>0.039729</td>\n",
       "      <td>0.044759</td>\n",
       "      <td>MITATDURKW\\t42</td>\n",
       "      <td>0.005029</td>\n",
       "    </tr>\n",
       "  </tbody>\n",
       "</table>\n",
       "</div>"
      ],
      "text/plain": [
       "      id     mean1     mean2      pow1      pow2             fname         x\n",
       "3    3.0  0.006227 -0.022825  0.527929  0.750613      CITATCOTP\\t3  0.222684\n",
       "65  65.0 -0.010268 -0.021870  0.046286  0.099137    MSUBITATKW\\t65  0.052851\n",
       "4    4.0  0.000819 -0.097493  0.145619  0.181064     CRWATIDDUR\\t4  0.035445\n",
       "51  51.0  0.003393 -0.004125  0.019607  0.054468  MITATPORNSTG\\t51  0.034860\n",
       "50  50.0  0.050682  0.021208  0.122586  0.155113  MITATPORNSKW\\t50  0.032527\n",
       "61  61.0 -0.011647 -0.007340  0.072721  0.099166   MSRCHITATKW\\t61  0.026445\n",
       "64  64.0 -0.069275 -0.027521  0.079958  0.057514    MSUBITATAC\\t64  0.022444\n",
       "41  41.0 -0.005219 -0.021874  0.049086  0.061323    MITATDURAC\\t41  0.012236\n",
       "31  31.0  0.020550 -0.044132  0.035566  0.026360      ICFRWDUR\\t31  0.009206\n",
       "45  45.0 -0.009579  0.001976  0.038584  0.047325   MITATPCNTAC\\t45  0.008741\n",
       "35  35.0 -0.015642 -0.016849  0.023075  0.014665     ICFRWWCNT\\t35  0.008410\n",
       "66  66.0 -0.008389 -0.000985  0.002169  0.009993    MSUBITATTG\\t66  0.007825\n",
       "57  57.0 -0.013127 -0.000048  0.028380  0.035615   MITATWCNTAC\\t57  0.007235\n",
       "17  17.0 -0.000821 -0.000020  0.011994  0.019120         IACID\\t17  0.007126\n",
       "53  53.0 -0.020099 -0.004874  0.039014  0.045519  MITATQUALSAC\\t53  0.006506\n",
       "19  19.0  0.039140  0.011647  0.105603  0.111943         IATKW\\t19  0.006339\n",
       "26  26.0  0.004385 -0.025852  0.027279  0.021083      ICBRWDUR\\t26  0.006196\n",
       "67  67.0 -0.002312 -0.007140  0.015670  0.021611    MSUBITATTP\\t67  0.005941\n",
       "36  36.0 -0.000110  0.005302  0.005223  0.010396          ILOC\\t36  0.005173\n",
       "42  42.0 -0.020984 -0.050401  0.039729  0.044759    MITATDURKW\\t42  0.005029"
      ]
     },
     "execution_count": 71,
     "metadata": {},
     "output_type": "execute_result"
    }
   ],
   "source": [
    "df.sort_values('x', ascending=False).head(20)"
   ]
  },
  {
   "cell_type": "code",
   "execution_count": 33,
   "metadata": {},
   "outputs": [
    {
     "data": {
      "text/html": [
       "<div>\n",
       "<style scoped>\n",
       "    .dataframe tbody tr th:only-of-type {\n",
       "        vertical-align: middle;\n",
       "    }\n",
       "\n",
       "    .dataframe tbody tr th {\n",
       "        vertical-align: top;\n",
       "    }\n",
       "\n",
       "    .dataframe thead th {\n",
       "        text-align: right;\n",
       "    }\n",
       "</style>\n",
       "<table border=\"1\" class=\"dataframe\">\n",
       "  <thead>\n",
       "    <tr style=\"text-align: right;\">\n",
       "      <th></th>\n",
       "      <th>id</th>\n",
       "      <th>mean1</th>\n",
       "      <th>mean2</th>\n",
       "      <th>pow1</th>\n",
       "      <th>pow2</th>\n",
       "      <th>fname</th>\n",
       "      <th>x</th>\n",
       "    </tr>\n",
       "  </thead>\n",
       "  <tbody>\n",
       "    <tr>\n",
       "      <th>4</th>\n",
       "      <td>4.0</td>\n",
       "      <td>0.023993</td>\n",
       "      <td>-0.113390</td>\n",
       "      <td>0.148170</td>\n",
       "      <td>0.159911</td>\n",
       "      <td>CRWATIDDUR\\t4</td>\n",
       "      <td>0.137382</td>\n",
       "    </tr>\n",
       "    <tr>\n",
       "      <th>41</th>\n",
       "      <td>41.0</td>\n",
       "      <td>0.045922</td>\n",
       "      <td>-0.083603</td>\n",
       "      <td>0.049932</td>\n",
       "      <td>0.060624</td>\n",
       "      <td>MITATDURAC\\t41</td>\n",
       "      <td>0.129525</td>\n",
       "    </tr>\n",
       "    <tr>\n",
       "      <th>42</th>\n",
       "      <td>42.0</td>\n",
       "      <td>0.028600</td>\n",
       "      <td>-0.082344</td>\n",
       "      <td>0.036090</td>\n",
       "      <td>0.041229</td>\n",
       "      <td>MITATDURKW\\t42</td>\n",
       "      <td>0.110944</td>\n",
       "    </tr>\n",
       "    <tr>\n",
       "      <th>19</th>\n",
       "      <td>19.0</td>\n",
       "      <td>-0.090479</td>\n",
       "      <td>0.012658</td>\n",
       "      <td>0.094861</td>\n",
       "      <td>0.111783</td>\n",
       "      <td>IATKW\\t19</td>\n",
       "      <td>0.103137</td>\n",
       "    </tr>\n",
       "    <tr>\n",
       "      <th>53</th>\n",
       "      <td>53.0</td>\n",
       "      <td>0.051510</td>\n",
       "      <td>-0.031172</td>\n",
       "      <td>0.046592</td>\n",
       "      <td>0.045411</td>\n",
       "      <td>MITATQUALSAC\\t53</td>\n",
       "      <td>0.082683</td>\n",
       "    </tr>\n",
       "  </tbody>\n",
       "</table>\n",
       "</div>"
      ],
      "text/plain": [
       "      id     mean1     mean2      pow1      pow2             fname         x\n",
       "4    4.0  0.023993 -0.113390  0.148170  0.159911     CRWATIDDUR\\t4  0.137382\n",
       "41  41.0  0.045922 -0.083603  0.049932  0.060624    MITATDURAC\\t41  0.129525\n",
       "42  42.0  0.028600 -0.082344  0.036090  0.041229    MITATDURKW\\t42  0.110944\n",
       "19  19.0 -0.090479  0.012658  0.094861  0.111783         IATKW\\t19  0.103137\n",
       "53  53.0  0.051510 -0.031172  0.046592  0.045411  MITATQUALSAC\\t53  0.082683"
      ]
     },
     "execution_count": 33,
     "metadata": {},
     "output_type": "execute_result"
    }
   ],
   "source": [
    "df['x'] = abs(df['mean1'] - df['mean2'])\n",
    "df.sort_values('x', ascending=False).head()"
   ]
  },
  {
   "cell_type": "code",
   "execution_count": null,
   "metadata": {},
   "outputs": [],
   "source": []
  }
 ],
 "metadata": {
  "kernelspec": {
   "display_name": "Python 3",
   "language": "python",
   "name": "python3"
  },
  "language_info": {
   "codemirror_mode": {
    "name": "ipython",
    "version": 3
   },
   "file_extension": ".py",
   "mimetype": "text/x-python",
   "name": "python",
   "nbconvert_exporter": "python",
   "pygments_lexer": "ipython3",
   "version": "3.6.8"
  }
 },
 "nbformat": 4,
 "nbformat_minor": 2
}
