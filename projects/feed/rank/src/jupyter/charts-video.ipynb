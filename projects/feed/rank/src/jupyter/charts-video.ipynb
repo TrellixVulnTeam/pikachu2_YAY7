{
 "cells": [
  {
   "cell_type": "code",
   "execution_count": 1,
   "metadata": {},
   "outputs": [],
   "source": [
    "from pyecharts.globals import CurrentConfig, NotebookType\n",
    "CurrentConfig.NOTEBOOK_TYPE = NotebookType.JUPYTER_LAB \n",
    "import datetime"
   ]
  },
  {
   "cell_type": "code",
   "execution_count": 2,
   "metadata": {},
   "outputs": [],
   "source": [
    "root_dir = '/home/gezi/tmp/rank/log/'"
   ]
  },
  {
   "cell_type": "code",
   "execution_count": null,
   "metadata": {},
   "outputs": [],
   "source": [
    "# mark = 'tuwen'\n",
    "mark = 'video'\n",
    "base_id = '4,5,6'\n",
    "exp_id = '16'"
   ]
  },
  {
   "cell_type": "code",
   "execution_count": 3,
   "metadata": {},
   "outputs": [],
   "source": [
    "score_file = f'{root_dir}/score_info.txt'\n",
    "score_file2 = f'{root_dir}/score_info2.txt'"
   ]
  },
  {
   "cell_type": "code",
   "execution_count": 4,
   "metadata": {},
   "outputs": [],
   "source": [
    "lines = open(score_file).readlines()\n",
    "lines2 = open(score_file2).readlines()"
   ]
  },
  {
   "cell_type": "code",
   "execution_count": 5,
   "metadata": {},
   "outputs": [],
   "source": [
    "l = [x.strip().split('\\t') for x in lines]\n",
    "l2 = [x.strip().split('\\t') for x in lines2]"
   ]
  },
  {
   "cell_type": "code",
   "execution_count": 7,
   "metadata": {},
   "outputs": [],
   "source": [
    "online_base = [x for x in l if mark in x[2] and f'online_abid{base_id}' in x[0]]\n",
    "offline_base = [x for x in l if mark in x[2] and f'offline_abid{base_id}' in x[0]]\n",
    "offline_base2 = [x for x in l2 if mark in x[2] and f'offline_abid{base_id}' in x[0]]\n",
    "online_exp = [x for x in l if mark in x[2] and f'online_abid{exp_id}' in x[0]]\n",
    "offline_exp = [x for x in l if mark in x[2] and f'offline_abid{exp_id}' in x[0]]"
   ]
  },
  {
   "cell_type": "code",
   "execution_count": 8,
   "metadata": {},
   "outputs": [
    {
     "data": {
      "text/plain": [
       "[['valid_online_abid4,5,6',\n",
       "  '2019110812',\n",
       "  'video',\n",
       "  'pos_ratio:0.12418 auc:0.55211 time_auc:0.55349 weighted_time_auc:0.63947 click/time_auc:0.57262 click/weighted_inv:0.37837 group/auc:0.46825 group/pos_ratio:0.15660 group/top1_score:34.75529 group/top3_score:31.06113 group/time_auc:0.47159 group/weighted_time_auc:0.48852 group/top1_best:162.44094 group/top3_best:74.78680 group/top1_rate:0.21396 group/top3_rate:0.41533 group/top1_click:0.20494 group/top3_click:0.21257 group/top1_click_best:1.00000 group/top3_click_best:0.55731 group/top1_click_rate:0.20494 group/top3_click_rate:0.38142 group/click/auc:0.00000 group/click/pos_ratio:0.00000 group/click/top1_score:136.55482 group/click/top3_score:126.92067 group/click/time_auc:0.55603 group/click/weighted_time_auc:0.64737 group/click/top1_best:162.44094 group/click/top3_best:134.19184 group/click/top1_rate:0.84064 group/click/top3_rate:0.94582 group/click/top1_click:1.00000 group/click/top3_click:1.00000 group/click/top1_click_best:1.00000 group/click/top3_click_best:1.00000 group/click/top1_click_rate:1.00000 group/click/top3_click_rate:1.00000 click_ratio:0.12418 time_per_show:15.07915 time_per_click:121.43115 time_per_user:94.10942 version:None'],\n",
       " ['valid_online_abid4,5,6', '2019110813', 'video'],\n",
       " ['valid_online_abid4,5,6', '2019110814', 'video'],\n",
       " ['valid_online_abid4,5,6', '2019110815', 'video'],\n",
       " ['valid_online_abid4,5,6', '2019110816', 'video'],\n",
       " ['valid_online_abid4,5,6',\n",
       "  '2019110817',\n",
       "  'video',\n",
       "  'pos_ratio:0.06904 auc:0.53787 time_auc:0.53878 weighted_time_auc:0.61289 click/time_auc:0.56214 click/weighted_inv:0.40752 group/auc:0.49051 group/pos_ratio:0.14959 group/top1_score:32.08065 group/top3_score:31.18349 group/time_auc:0.49369 group/weighted_time_auc:0.51187 group/top1_best:162.70935 group/top3_best:74.47217 group/top1_rate:0.19717 group/top3_rate:0.41873 group/top1_click:0.18732 group/top3_click:0.20503 group/top1_click_best:1.00000 group/top3_click_best:0.56289 group/top1_click_rate:0.18732 group/top3_click_rate:0.36425 group/click/auc:0.00000 group/click/pos_ratio:0.00000 group/click/top1_score:137.12291 group/click/top3_score:124.30119 group/click/time_auc:0.55825 group/click/weighted_time_auc:0.63265 group/click/top1_best:162.70935 group/click/top3_best:132.30380 group/click/top1_rate:0.84275 group/click/top3_rate:0.93951 group/click/top1_click:1.00000 group/click/top3_click:1.00000 group/click/top1_click_best:1.00000 group/click/top3_click_best:1.00000 group/click/top1_click_rate:1.00000 group/click/top3_click_rate:1.00000 click_ratio:0.06904 time_per_show:8.12738 time_per_click:117.72616 time_per_user:73.52394 version:None'],\n",
       " ['valid_online_abid4,5,6',\n",
       "  '2019110818',\n",
       "  'video',\n",
       "  'pos_ratio:0.06972 auc:0.53446 time_auc:0.53549 weighted_time_auc:0.61037 click/time_auc:0.56174 click/weighted_time_auc:0.59888 group/auc:0.48342 group/pos_ratio:0.14637 group/top1_score:38.66923 group/top3_score:33.87480 group/time_auc:0.48557 group/weighted_time_auc:0.50109 group/top1_best:171.81078 group/top3_best:79.31795 group/top1_rate:0.22507 group/top3_rate:0.42708 group/top1_click:0.22023 group/top3_click:0.21561 group/top1_click_best:1.00000 group/top3_click_best:0.56318 group/top1_click_rate:0.22023 group/top3_click_rate:0.38284 group/click/auc:0.00000 group/click/pos_ratio:0.00000 group/click/top1_score:144.14924 group/click/top3_score:132.37107 group/click/time_auc:0.55586 group/click/weighted_time_auc:0.62931 group/click/top1_best:171.81078 group/click/top3_best:140.83883 group/click/top1_rate:0.83900 group/click/top3_rate:0.93988 group/click/top1_click:1.00000 group/click/top3_click:1.00000 group/click/top1_click_best:1.00000 group/click/top3_click_best:1.00000 group/click/top1_click_rate:1.00000 group/click/top3_click_rate:1.00000 click_ratio:0.06972 time_per_show:8.62816 time_per_click:123.74851 time_per_user:72.99666 version:None'],\n",
       " ['valid_online_abid4,5,6', '2019110821', 'video'],\n",
       " ['valid_online_abid4,5,6',\n",
       "  '2019110819',\n",
       "  'video',\n",
       "  'pos_ratio:0.07018 auc:0.54555 time_auc:0.54646 weighted_time_auc:0.62730 click/time_auc:0.56887 click/weighted_time_auc:0.62139 group/auc:0.48829 group/pos_ratio:0.14037 group/top1_score:40.87798 group/top3_score:35.77873 group/time_auc:0.48947 group/weighted_time_auc:0.50770 group/top1_best:177.32058 group/top3_best:84.75542 group/top1_rate:0.23053 group/top3_rate:0.42214 group/top1_click:0.22335 group/top3_click:0.21379 group/top1_click_best:1.00000 group/top3_click_best:0.58263 group/top1_click_rate:0.22335 group/top3_click_rate:0.36695 group/click/auc:0.00000 group/click/pos_ratio:0.00000 group/click/top1_score:147.28153 group/click/top3_score:135.77435 group/click/time_auc:0.54933 group/click/weighted_time_auc:0.62335 group/click/top1_best:177.32058 group/click/top3_best:145.47124 group/click/top1_rate:0.83059 group/click/top3_rate:0.93334 group/click/top1_click:1.00000 group/click/top3_click:1.00000 group/click/top1_click_best:1.00000 group/click/top3_click_best:1.00000 group/click/top1_click_rate:1.00000 group/click/top3_click_rate:1.00000 click_ratio:0.07018 time_per_show:8.95025 time_per_click:127.53173 time_per_user:79.70641 version:video'],\n",
       " ['valid_online_abid4,5,6',\n",
       "  '2019110820',\n",
       "  'video',\n",
       "  'pos_ratio:0.06582 auc:0.54735 time_auc:0.54863 weighted_time_auc:0.63995 click/time_auc:0.58326 click/weighted_time_auc:0.63964 group/auc:0.49011 group/pos_ratio:0.13452 group/top1_score:47.68692 group/top3_score:40.52557 group/time_auc:0.49363 group/weighted_time_auc:0.51218 group/top1_best:197.83411 group/top3_best:94.50183 group/top1_rate:0.24104 group/top3_rate:0.42883 group/top1_click:0.23345 group/top3_click:0.21713 group/top1_click_best:1.00000 group/top3_click_best:0.58110 group/top1_click_rate:0.23345 group/top3_click_rate:0.37366 group/click/auc:0.00000 group/click/pos_ratio:0.00000 group/click/top1_score:164.99903 group/click/top3_score:151.16606 group/click/time_auc:0.56782 group/click/weighted_time_auc:0.63257 group/click/top1_best:197.83411 group/click/top3_best:162.62577 group/click/top1_rate:0.83403 group/click/top3_rate:0.92953 group/click/top1_click:1.00000 group/click/top3_click:1.00000 group/click/top1_click_best:1.00000 group/click/top3_click_best:1.00000 group/click/top1_click_rate:1.00000 group/click/top3_click_rate:1.00000 click_ratio:0.06582 time_per_show:9.38826 time_per_click:142.64261 time_per_user:83.84035 version:video'],\n",
       " ['valid_online_abid4,5,6',\n",
       "  '2019110822',\n",
       "  'video',\n",
       "  'pos_ratio:0.09705 auc:0.58066 time_auc:0.58165 weighted_time_auc:0.68888 click/time_auc:0.59983 click/weighted_time_auc:0.67365 group/auc:0.50046 group/pos_ratio:0.12495 group/top1_score:49.05980 group/top3_score:42.44495 group/time_auc:0.50254 group/weighted_time_auc:0.52416 group/top1_best:203.06899 group/top3_best:95.88796 group/top1_rate:0.24159 group/top3_rate:0.44265 group/top1_click:0.21008 group/top3_click:0.20390 group/top1_click_best:1.00000 group/top3_click_best:0.57189 group/top1_click_rate:0.21008 group/top3_click_rate:0.35654 group/click/auc:0.00000 group/click/pos_ratio:0.00000 group/click/top1_score:172.90737 group/click/top3_score:158.37435 group/click/time_auc:0.56012 group/click/weighted_time_auc:0.63257 group/click/top1_best:203.06899 group/click/top3_best:167.66721 group/click/top1_rate:0.85147 group/click/top3_rate:0.94458 group/click/top1_click:1.00000 group/click/top3_click:1.00000 group/click/top1_click_best:1.00000 group/click/top3_click_best:1.00000 group/click/top1_click_rate:1.00000 group/click/top3_click_rate:1.00000 click_ratio:0.09705 time_per_show:14.29237 time_per_click:147.27529 time_per_user:174.05262 version:video'],\n",
       " ['valid_online_abid4,5,6',\n",
       "  '2019110823',\n",
       "  'video',\n",
       "  'pos_ratio:0.09192 auc:0.56997 time_auc:0.57128 weighted_time_auc:0.67348 click/time_auc:0.59677 click/weighted_time_auc:0.66335 group/auc:0.50088 group/pos_ratio:0.13366 group/top1_score:51.12577 group/top3_score:40.20625 group/time_auc:0.50292 group/weighted_time_auc:0.52266 group/top1_best:193.94775 group/top3_best:92.14043 group/top1_rate:0.26361 group/top3_rate:0.43636 group/top1_click:0.23381 group/top3_click:0.21756 group/top1_click_best:1.00000 group/top3_click_best:0.57383 group/top1_click_rate:0.23381 group/top3_click_rate:0.37913 group/click/auc:0.00000 group/click/pos_ratio:0.00000 group/click/top1_score:163.86690 group/click/top3_score:150.33560 group/click/time_auc:0.55822 group/click/weighted_time_auc:0.62852 group/click/top1_best:193.94775 group/click/top3_best:160.56969 group/click/top1_rate:0.84490 group/click/top3_rate:0.93626 group/click/top1_click:1.00000 group/click/top3_click:1.00000 group/click/top1_click_best:1.00000 group/click/top3_click_best:1.00000 group/click/top1_click_rate:1.00000 group/click/top3_click_rate:1.00000 click_ratio:0.09192 time_per_show:12.94008 time_per_click:140.77016 time_per_user:137.26991 version:video'],\n",
       " ['valid_online_abid4,5,6',\n",
       "  '2019110900',\n",
       "  'video',\n",
       "  'pos_ratio:0.09706 auc:0.56146 time_auc:0.56198 weighted_time_auc:0.65230 click/time_auc:0.57120 click/weighted_time_auc:0.61134 group/auc:0.49098 group/pos_ratio:0.14523 group/top1_score:38.76882 group/top3_score:34.91733 group/time_auc:0.49516 group/weighted_time_auc:0.51259 group/top1_best:165.29737 group/top3_best:79.97087 group/top1_rate:0.23454 group/top3_rate:0.43663 group/top1_click:0.24812 group/top3_click:0.23399 group/top1_click_best:1.00000 group/top3_click_best:0.56827 group/top1_click_rate:0.24812 group/top3_click_rate:0.41175 group/click/auc:0.00000 group/click/pos_ratio:0.00000 group/click/top1_score:139.12265 group/click/top3_score:131.62235 group/click/time_auc:0.55828 group/click/weighted_time_auc:0.64546 group/click/top1_best:165.29737 group/click/top3_best:140.72717 group/click/top1_rate:0.84165 group/click/top3_rate:0.93530 group/click/top1_click:1.00000 group/click/top3_click:1.00000 group/click/top1_click_best:1.00000 group/click/top3_click_best:1.00000 group/click/top1_click_rate:1.00000 group/click/top3_click_rate:1.00000 click_ratio:0.09706 time_per_show:12.15698 time_per_click:125.24996 time_per_user:113.58636 version:video'],\n",
       " ['valid_online_abid4,5,6',\n",
       "  '2019110901',\n",
       "  'video',\n",
       "  'pos_ratio:0.10191 auc:0.54527 time_auc:0.54564 weighted_time_auc:0.62172 click/time_auc:0.55182 click/weighted_time_auc:0.55023 group/auc:0.47904 group/pos_ratio:0.15285 group/top1_score:33.73145 group/top3_score:29.59518 group/time_auc:0.48150 group/weighted_time_auc:0.50263 group/top1_best:146.57779 group/top3_best:71.62907 group/top1_rate:0.23013 group/top3_rate:0.41317 group/top1_click:0.26328 group/top3_click:0.24551 group/top1_click_best:1.00000 group/top3_click_best:0.57757 group/top1_click_rate:0.26328 group/top3_click_rate:0.42508 group/click/auc:0.00000 group/click/pos_ratio:0.00000 group/click/top1_score:121.97750 group/click/top3_score:116.94018 group/click/time_auc:0.55043 group/click/weighted_time_auc:0.66512 group/click/top1_best:146.57779 group/click/top3_best:124.01697 group/click/top1_rate:0.83217 group/click/top3_rate:0.94294 group/click/top1_click:1.00000 group/click/top3_click:1.00000 group/click/top1_click_best:1.00000 group/click/top3_click_best:1.00000 group/click/top1_click_rate:1.00000 group/click/top3_click_rate:1.00000 click_ratio:0.10191 time_per_show:11.58038 time_per_click:113.63139 time_per_user:105.47087 version:video'],\n",
       " ['valid_online_abid4,5,6',\n",
       "  '2019110902',\n",
       "  'video',\n",
       "  'pos_ratio:0.11367 auc:0.57173 time_auc:0.56893 weighted_time_auc:0.63156 click/time_auc:0.52370 click/weighted_time_auc:0.48158 group/auc:0.48123 group/pos_ratio:0.16834 group/top1_score:29.35356 group/top3_score:28.02914 group/time_auc:0.48050 group/weighted_time_auc:0.49484 group/top1_best:125.54207 group/top3_best:59.92939 group/top1_rate:0.23381 group/top3_rate:0.46770 group/top1_click:0.28376 group/top3_click:0.28716 group/top1_click_best:1.00000 group/top3_click_best:0.56086 group/top1_click_rate:0.28376 group/top3_click_rate:0.51199 group/click/auc:0.00000 group/click/pos_ratio:0.00000 group/click/top1_score:104.70581 group/click/top3_score:99.35172 group/click/time_auc:0.51170 group/click/weighted_time_auc:0.65684 group/click/top1_best:125.54207 group/click/top3_best:106.85252 group/click/top1_rate:0.83403 group/click/top3_rate:0.92980 group/click/top1_click:1.00000 group/click/top3_click:1.00000 group/click/top1_click_best:1.00000 group/click/top3_click_best:1.00000 group/click/top1_click_rate:1.00000 group/click/top3_click_rate:1.00000 click_ratio:0.11367 time_per_show:11.41242 time_per_click:100.39521 time_per_user:98.41463 version:video'],\n",
       " ['valid_online_abid4,5,6',\n",
       "  '2019110903',\n",
       "  'video',\n",
       "  'pos_ratio:0.11578 auc:0.57276 time_auc:0.56975 weighted_time_auc:0.62930 click/time_auc:0.52181 click/weighted_time_auc:0.44968 group/auc:0.51010 group/pos_ratio:0.17515 group/top1_score:28.16249 group/top3_score:26.38066 group/time_auc:0.50546 group/weighted_time_auc:0.52001 group/top1_best:113.73888 group/top3_best:52.67296 group/top1_rate:0.24761 group/top3_rate:0.50084 group/top1_click:0.30639 group/top3_click:0.30119 group/top1_click_best:1.00000 group/top3_click_best:0.54987 group/top1_click_rate:0.30639 group/top3_click_rate:0.54775 group/click/auc:0.00000 group/click/pos_ratio:0.00000 group/click/top1_score:98.67583 group/click/top3_score:91.12026 group/click/time_auc:0.50684 group/click/weighted_time_auc:0.64130 group/click/top1_best:113.73888 group/click/top3_best:95.79080 group/click/top1_rate:0.86756 group/click/top3_rate:0.95124 group/click/top1_click:1.00000 group/click/top3_click:1.00000 group/click/top1_click_best:1.00000 group/click/top3_click_best:1.00000 group/click/top1_click_rate:1.00000 group/click/top3_click_rate:1.00000 click_ratio:0.11578 time_per_show:10.56335 time_per_click:91.23324 time_per_user:89.84969 version:video'],\n",
       " ['valid_online_abid4,5,6',\n",
       "  '2019110904',\n",
       "  'video',\n",
       "  'pos_ratio:0.11727 auc:0.55429 time_auc:0.55193 weighted_time_auc:0.60564 click/time_auc:0.51512 click/weighted_time_auc:0.42712 group/auc:0.50164 group/pos_ratio:0.17538 group/top1_score:26.46553 group/top3_score:26.89324 group/time_auc:0.50072 group/weighted_time_auc:0.52454 group/top1_best:117.69100 group/top3_best:52.61655 group/top1_rate:0.22487 group/top3_rate:0.51112 group/top1_click:0.26764 group/top3_click:0.28607 group/top1_click_best:1.00000 group/top3_click_best:0.53545 group/top1_click_rate:0.26764 group/top3_click_rate:0.53426 group/click/auc:0.00000 group/click/pos_ratio:0.00000 group/click/top1_score:104.17437 group/click/top3_score:95.07419 group/click/time_auc:0.53533 group/click/weighted_time_auc:0.71227 group/click/top1_best:117.69100 group/click/top3_best:98.26636 group/click/top1_rate:0.88515 group/click/top3_rate:0.96752 group/click/top1_click:1.00000 group/click/top3_click:1.00000 group/click/top1_click_best:1.00000 group/click/top3_click_best:1.00000 group/click/top1_click_rate:1.00000 group/click/top3_click_rate:1.00000 click_ratio:0.11727 time_per_show:10.86866 time_per_click:92.68450 time_per_user:86.71267 version:video'],\n",
       " ['valid_online_abid4,5,6',\n",
       "  '2019110905',\n",
       "  'video',\n",
       "  'pos_ratio:0.10425 auc:0.54849 time_auc:0.54836 weighted_time_auc:0.63351 click/time_auc:0.54568 click/weighted_time_auc:0.51622 group/auc:0.50226 group/pos_ratio:0.17021 group/top1_score:29.46348 group/top3_score:27.94077 group/time_auc:0.50221 group/weighted_time_auc:0.51215 group/top1_best:128.07039 group/top3_best:56.83098 group/top1_rate:0.23006 group/top3_rate:0.49165 group/top1_click:0.24900 group/top3_click:0.26720 group/top1_click_best:1.00000 group/top3_click_best:0.53303 group/top1_click_rate:0.24900 group/top3_click_rate:0.50128 group/click/auc:0.00000 group/click/pos_ratio:0.00000 group/click/top1_score:114.09960 group/click/top3_score:103.00855 group/click/time_auc:0.54866 group/click/weighted_time_auc:0.67844 group/click/top1_best:128.07039 group/click/top3_best:106.61880 group/click/top1_rate:0.89091 group/click/top3_rate:0.96614 group/click/top1_click:1.00000 group/click/top3_click:1.00000 group/click/top1_click_best:1.00000 group/click/top3_click_best:1.00000 group/click/top1_click_rate:1.00000 group/click/top3_click_rate:1.00000 click_ratio:0.10425 time_per_show:10.48210 time_per_click:100.54598 time_per_user:83.31415 version:video'],\n",
       " ['valid_online_abid4,5,6',\n",
       "  '2019110906',\n",
       "  'video',\n",
       "  'pos_ratio:0.09702 auc:0.54716 time_auc:0.54737 weighted_time_auc:0.63417 click/time_auc:0.55103 click/weighted_time_auc:0.56840 group/auc:0.47765 group/pos_ratio:0.16145 group/top1_score:33.43484 group/top3_score:31.95036 group/time_auc:0.47841 group/weighted_time_auc:0.49386 group/top1_best:151.08986 group/top3_best:67.52212 group/top1_rate:0.22129 group/top3_rate:0.47318 group/top1_click:0.22828 group/top3_click:0.24967 group/top1_click_best:1.00000 group/top3_click_best:0.54081 group/top1_click_rate:0.22828 group/top3_click_rate:0.46166 group/click/auc:0.00000 group/click/pos_ratio:0.00000 group/click/top1_score:130.70486 group/click/top3_score:120.22246 group/click/time_auc:0.51932 group/click/weighted_time_auc:0.63277 group/click/top1_best:151.08986 group/click/top3_best:124.85394 group/click/top1_rate:0.86508 group/click/top3_rate:0.96290 group/click/top1_click:1.00000 group/click/top3_click:1.00000 group/click/top1_click_best:1.00000 group/click/top3_click_best:1.00000 group/click/top1_click_rate:1.00000 group/click/top3_click_rate:1.00000 click_ratio:0.09702 time_per_show:11.35279 time_per_click:117.01872 time_per_user:89.20048 version:video'],\n",
       " ['valid_online_abid4,5,6',\n",
       "  '2019110907',\n",
       "  'video',\n",
       "  'pos_ratio:0.09292 auc:0.54735 time_auc:0.54795 weighted_time_auc:0.62856 click/time_auc:0.55955 click/weighted_time_auc:0.58040 group/auc:0.46866 group/pos_ratio:0.15660 group/top1_score:36.87629 group/top3_score:32.89796 group/time_auc:0.47049 group/weighted_time_auc:0.48358 group/top1_best:152.83620 group/top3_best:69.33350 group/top1_rate:0.24128 group/top3_rate:0.47449 group/top1_click:0.23912 group/top3_click:0.23818 group/top1_click_best:1.00000 group/top3_click_best:0.54380 group/top1_click_rate:0.23912 group/top3_click_rate:0.43800 group/click/auc:0.00000 group/click/pos_ratio:0.00000 group/click/top1_score:131.83276 group/click/top3_score:121.01782 group/click/time_auc:0.54633 group/click/weighted_time_auc:0.62717 group/click/top1_best:152.83620 group/click/top3_best:127.49800 group/click/top1_rate:0.86258 group/click/top3_rate:0.94917 group/click/top1_click:1.00000 group/click/top3_click:1.00000 group/click/top1_click_best:1.00000 group/click/top3_click_best:1.00000 group/click/top1_click_rate:1.00000 group/click/top3_click_rate:1.00000 click_ratio:0.09292 time_per_show:10.90803 time_per_click:117.38808 time_per_user:85.71064 version:video'],\n",
       " ['valid_online_abid4,5,6',\n",
       "  '2019110908',\n",
       "  'video',\n",
       "  'pos_ratio:0.09098 auc:0.55683 time_auc:0.55690 weighted_time_auc:0.63058 click/time_auc:0.55803 click/weighted_time_auc:0.58314 group/auc:0.48448 group/pos_ratio:0.15703 group/top1_score:37.92889 group/top3_score:33.13095 group/time_auc:0.48533 group/weighted_time_auc:0.49768 group/top1_best:156.92474 group/top3_best:72.69964 group/top1_rate:0.24170 group/top3_rate:0.45572 group/top1_click:0.25152 group/top3_click:0.24204 group/top1_click_best:1.00000 group/top3_click_best:0.54739 group/top1_click_rate:0.25152 group/top3_click_rate:0.44217 group/click/auc:0.00000 group/click/pos_ratio:0.00000 group/click/top1_score:134.49308 group/click/top3_score:125.75184 group/click/time_auc:0.53985 group/click/weighted_time_auc:0.63685 group/click/top1_best:156.92474 group/click/top3_best:132.81125 group/click/top1_rate:0.85705 group/click/top3_rate:0.94685 group/click/top1_click:1.00000 group/click/top3_click:1.00000 group/click/top1_click_best:1.00000 group/click/top3_click_best:1.00000 group/click/top1_click_rate:1.00000 group/click/top3_click_rate:1.00000 click_ratio:0.09098 time_per_show:11.13263 time_per_click:122.36087 time_per_user:88.53011 version:video'],\n",
       " ['valid_online_abid4,5,6',\n",
       "  '2019110909',\n",
       "  'video',\n",
       "  'pos_ratio:0.09333 auc:0.55728 time_auc:0.55746 weighted_time_auc:0.63569 click/time_auc:0.56070 click/weighted_time_auc:0.58747 group/auc:0.49157 group/pos_ratio:0.15795 group/top1_score:36.69934 group/top3_score:32.03734 group/time_auc:0.49108 group/weighted_time_auc:0.51159 group/top1_best:149.39157 group/top3_best:69.95075 group/top1_rate:0.24566 group/top3_rate:0.45800 group/top1_click:0.23795 group/top3_click:0.24466 group/top1_click_best:1.00000 group/top3_click_best:0.55927 group/top1_click_rate:0.23795 group/top3_click_rate:0.43746 group/click/auc:0.00000 group/click/pos_ratio:0.00000 group/click/top1_score:127.12021 group/click/top3_score:118.68644 group/click/time_auc:0.54205 group/click/weighted_time_auc:0.64936 group/click/top1_best:149.39157 group/click/top3_best:125.07421 group/click/top1_rate:0.85092 group/click/top3_rate:0.94893 group/click/top1_click:1.00000 group/click/top3_click:1.00000 group/click/top1_click_best:1.00000 group/click/top3_click_best:1.00000 group/click/top1_click_rate:1.00000 group/click/top3_click_rate:1.00000 click_ratio:0.09333 time_per_show:10.63472 time_per_click:113.94740 time_per_user:85.45131 version:video'],\n",
       " ['valid_online_abid4,5,6',\n",
       "  '2019110910',\n",
       "  'video',\n",
       "  'pos_ratio:0.09095 auc:0.55915 time_auc:0.55922 weighted_time_auc:0.64076 click/time_auc:0.56028 click/weighted_time_auc:0.58578 group/auc:0.48595 group/pos_ratio:0.15084 group/top1_score:35.60946 group/top3_score:31.66764 group/time_auc:0.48692 group/weighted_time_auc:0.50351 group/top1_best:148.05138 group/top3_best:69.27363 group/top1_rate:0.24052 group/top3_rate:0.45714 group/top1_click:0.23832 group/top3_click:0.23624 group/top1_click_best:1.00000 group/top3_click_best:0.56340 group/top1_click_rate:0.23832 group/top3_click_rate:0.41931 group/click/auc:0.00000 group/click/pos_ratio:0.00000 group/click/top1_score:125.60262 group/click/top3_score:114.83174 group/click/time_auc:0.54049 group/click/weighted_time_auc:0.62766 group/click/top1_best:148.05138 group/click/top3_best:122.95576 group/click/top1_rate:0.84837 group/click/top3_rate:0.93393 group/click/top1_click:1.00000 group/click/top3_click:1.00000 group/click/top1_click_best:1.00000 group/click/top3_click_best:1.00000 group/click/top1_click_rate:1.00000 group/click/top3_click_rate:1.00000 click_ratio:0.09095 time_per_show:10.11116 time_per_click:111.16718 time_per_user:84.33537 version:video'],\n",
       " ['valid_online_abid4,5,6', '2019110911', 'video'],\n",
       " ['valid_online_abid4,5,6',\n",
       "  '2019110912',\n",
       "  'video',\n",
       "  'pos_ratio:0.09084 auc:0.55322 time_auc:0.55413 weighted_time_auc:0.64335 click/time_auc:0.57224 click/weighted_time_auc:0.62068 group/auc:0.48456 group/pos_ratio:0.15297 group/top1_score:41.23386 group/top3_score:35.19390 group/time_auc:0.48720 group/weighted_time_auc:0.50421 group/top1_best:160.34069 group/top3_best:74.54013 group/top1_rate:0.25716 group/top3_rate:0.47215 group/top1_click:0.23975 group/top3_click:0.23436 group/top1_click_best:1.00000 group/top3_click_best:0.55418 group/top1_click_rate:0.23975 group/top3_click_rate:0.42289 group/click/auc:0.00000 group/click/pos_ratio:0.00000 group/click/top1_score:138.20988 group/click/top3_score:127.32783 group/click/time_auc:0.56256 group/click/weighted_time_auc:0.64614 group/click/top1_best:160.34069 group/click/top3_best:134.50489 group/click/top1_rate:0.86198 group/click/top3_rate:0.94664 group/click/top1_click:1.00000 group/click/top3_click:1.00000 group/click/top1_click_best:1.00000 group/click/top3_click_best:1.00000 group/click/top1_click_rate:1.00000 group/click/top3_click_rate:1.00000 click_ratio:0.09084 time_per_show:11.08417 time_per_click:122.02194 time_per_user:88.50873 version:video'],\n",
       " ['valid_online_abid4,5,6',\n",
       "  '2019110913',\n",
       "  'video',\n",
       "  'pos_ratio:0.09176 auc:0.55519 time_auc:0.55588 weighted_time_auc:0.64233 click/time_auc:0.56940 click/weighted_time_auc:0.60464 group/auc:0.49179 group/pos_ratio:0.15094 group/top1_score:39.57602 group/top3_score:35.35807 group/time_auc:0.49229 group/weighted_time_auc:0.51052 group/top1_best:160.04575 group/top3_best:74.85562 group/top1_rate:0.24728 group/top3_rate:0.47235 group/top1_click:0.24677 group/top3_click:0.23783 group/top1_click_best:1.00000 group/top3_click_best:0.56589 group/top1_click_rate:0.24677 group/top3_click_rate:0.42027 group/click/auc:0.00000 group/click/pos_ratio:0.00000 group/click/top1_score:136.49584 group/click/top3_score:125.20340 group/click/time_auc:0.54590 group/click/weighted_time_auc:0.62823 group/click/top1_best:160.04575 group/click/top3_best:132.27853 group/click/top1_rate:0.85286 group/click/top3_rate:0.94651 group/click/top1_click:1.00000 group/click/top3_click:1.00000 group/click/top1_click_best:1.00000 group/click/top3_click_best:1.00000 group/click/top1_click_rate:1.00000 group/click/top3_click_rate:1.00000 click_ratio:0.09176 time_per_show:10.91969 time_per_click:119.00012 time_per_user:90.79171 version:video'],\n",
       " ['valid_online_abid4,5,6',\n",
       "  '2019110914',\n",
       "  'video',\n",
       "  'pos_ratio:0.09223 auc:0.56571 time_auc:0.56559 weighted_time_auc:0.64423 click/time_auc:0.56276 click/weighted_time_auc:0.59593 group/auc:0.48873 group/pos_ratio:0.15236 group/top1_score:40.81969 group/top3_score:35.23271 group/time_auc:0.48996 group/weighted_time_auc:0.50581 group/top1_best:160.67088 group/top3_best:76.73422 group/top1_rate:0.25406 group/top3_rate:0.45915 group/top1_click:0.24107 group/top3_click:0.23606 group/top1_click_best:1.00000 group/top3_click_best:0.57220 group/top1_click_rate:0.24107 group/top3_click_rate:0.41255 group/click/auc:0.00000 group/click/pos_ratio:0.00000 group/click/top1_score:133.63294 group/click/top3_score:126.49302 group/click/time_auc:0.54782 group/click/weighted_time_auc:0.62535 group/click/top1_best:160.67088 group/click/top3_best:134.10344 group/click/top1_rate:0.83172 group/click/top3_rate:0.94325 group/click/top1_click:1.00000 group/click/top3_click:1.00000 group/click/top1_click_best:1.00000 group/click/top3_click_best:1.00000 group/click/top1_click_rate:1.00000 group/click/top3_click_rate:1.00000 click_ratio:0.09223 time_per_show:11.11701 time_per_click:120.53083 time_per_user:93.89425 version:video'],\n",
       " ['valid_online_abid4,5,6',\n",
       "  '2019110915',\n",
       "  'video',\n",
       "  'pos_ratio:0.09186 auc:0.56525 time_auc:0.56453 weighted_time_auc:0.63490 click/time_auc:0.54953 click/weighted_time_auc:0.57392 group/auc:0.48442 group/pos_ratio:0.14823 group/top1_score:35.19251 group/top3_score:32.45646 group/time_auc:0.48600 group/weighted_time_auc:0.50428 group/top1_best:154.27310 group/top3_best:73.22039 group/top1_rate:0.22812 group/top3_rate:0.44327 group/top1_click:0.23434 group/top3_click:0.23241 group/top1_click_best:1.00000 group/top3_click_best:0.58032 group/top1_click_rate:0.23434 group/top3_click_rate:0.40049 group/click/auc:0.00000 group/click/pos_ratio:0.00000 group/click/top1_score:128.41453 group/click/top3_score:118.19687 group/click/time_auc:0.54562 group/click/weighted_time_auc:0.63102 group/click/top1_best:154.27310 group/click/top3_best:126.17232 group/click/top1_rate:0.83238 group/click/top3_rate:0.93679 group/click/top1_click:1.00000 group/click/top3_click:1.00000 group/click/top1_click_best:1.00000 group/click/top3_click_best:1.00000 group/click/top1_click_rate:1.00000 group/click/top3_click_rate:1.00000 click_ratio:0.09186 time_per_show:10.32564 time_per_click:112.40974 time_per_user:88.32114 version:video'],\n",
       " ['valid_online_abid4,5,6',\n",
       "  '2019110916',\n",
       "  'video',\n",
       "  'pos_ratio:0.09109 auc:0.55593 time_auc:0.55546 weighted_time_auc:0.62561 click/time_auc:0.54546 click/weighted_time_auc:0.57165 group/auc:0.47354 group/pos_ratio:0.15195 group/top1_score:33.36345 group/top3_score:30.58469 group/time_auc:0.47474 group/weighted_time_auc:0.49021 group/top1_best:156.30430 group/top3_best:73.70015 group/top1_rate:0.21345 group/top3_rate:0.41499 group/top1_click:0.22728 group/top3_click:0.22044 group/top1_click_best:1.00000 group/top3_click_best:0.57544 group/top1_click_rate:0.22728 group/top3_click_rate:0.38308 group/click/auc:0.00000 group/click/pos_ratio:0.00000 group/click/top1_score:129.54543 group/click/top3_score:119.65620 group/click/time_auc:0.55131 group/click/weighted_time_auc:0.61567 group/click/top1_best:156.30430 group/click/top3_best:128.07552 group/click/top1_rate:0.82880 group/click/top3_rate:0.93426 group/click/top1_click:1.00000 group/click/top3_click:1.00000 group/click/top1_click_best:1.00000 group/click/top3_click_best:1.00000 group/click/top1_click_rate:1.00000 group/click/top3_click_rate:1.00000 click_ratio:0.09109 time_per_show:10.37190 time_per_click:113.86894 time_per_user:85.27824 version:video'],\n",
       " ['valid_online_abid4,5,6',\n",
       "  '2019110917',\n",
       "  'video',\n",
       "  'pos_ratio:0.09222 auc:0.55638 time_auc:0.55624 weighted_time_auc:0.62845 click/time_auc:0.55302 click/weighted_time_auc:0.58620 group/auc:0.48621 group/pos_ratio:0.15304 group/top1_score:35.90707 group/top3_score:32.42024 group/time_auc:0.48856 group/weighted_time_auc:0.50145 group/top1_best:157.32481 group/top3_best:73.33385 group/top1_rate:0.22824 group/top3_rate:0.44209 group/top1_click:0.23655 group/top3_click:0.22565 group/top1_click_best:1.00000 group/top3_click_best:0.56158 group/top1_click_rate:0.23655 group/top3_click_rate:0.40181 group/click/auc:0.00000 group/click/pos_ratio:0.00000 group/click/top1_score:132.29280 group/click/top3_score:123.36901 group/click/time_auc:0.53913 group/click/weighted_time_auc:0.61401 group/click/top1_best:157.32481 group/click/top3_best:130.58598 group/click/top1_rate:0.84089 group/click/top3_rate:0.94473 group/click/top1_click:1.00000 group/click/top3_click:1.00000 group/click/top1_click_best:1.00000 group/click/top3_click_best:1.00000 group/click/top1_click_rate:1.00000 group/click/top3_click_rate:1.00000 click_ratio:0.09222 time_per_show:10.70388 time_per_click:116.07012 time_per_user:86.03400 version:video'],\n",
       " ['valid_online_abid4,5,6',\n",
       "  '2019110918',\n",
       "  'video',\n",
       "  'pos_ratio:0.08838 auc:0.55664 time_auc:0.55671 weighted_time_auc:0.63136 click/time_auc:0.55758 click/weighted_time_auc:0.59201 group/auc:0.48660 group/pos_ratio:0.15164 group/top1_score:41.95407 group/top3_score:34.75880 group/time_auc:0.48918 group/weighted_time_auc:0.50419 group/top1_best:166.62942 group/top3_best:76.66413 group/top1_rate:0.25178 group/top3_rate:0.45339 group/top1_click:0.24974 group/top3_click:0.22836 group/top1_click_best:1.00000 group/top3_click_best:0.55641 group/top1_click_rate:0.24974 group/top3_click_rate:0.41042 group/click/auc:0.00000 group/click/pos_ratio:0.00000 group/click/top1_score:140.83492 group/click/top3_score:129.79512 group/click/time_auc:0.54999 group/click/weighted_time_auc:0.61522 group/click/top1_best:166.62942 group/click/top3_best:137.78398 group/click/top1_rate:0.84520 group/click/top3_rate:0.94202 group/click/top1_click:1.00000 group/click/top3_click:1.00000 group/click/top1_click_best:1.00000 group/click/top3_click_best:1.00000 group/click/top1_click_rate:1.00000 group/click/top3_click_rate:1.00000 click_ratio:0.08838 time_per_show:10.90510 time_per_click:123.38239 time_per_user:88.07857 version:video'],\n",
       " ['valid_online_abid4,5,6',\n",
       "  '2019110919',\n",
       "  'video',\n",
       "  'pos_ratio:0.08761 auc:0.55453 time_auc:0.55525 weighted_time_auc:0.63604 click/time_auc:0.56991 click/weighted_time_auc:0.61247 group/auc:0.48560 group/pos_ratio:0.14222 group/top1_score:38.54567 group/top3_score:33.97141 group/time_auc:0.48654 group/weighted_time_auc:0.50421 group/top1_best:170.97697 group/top3_best:80.33157 group/top1_rate:0.22544 group/top3_rate:0.42289 group/top1_click:0.22951 group/top3_click:0.21665 group/top1_click_best:1.00000 group/top3_click_best:0.57084 group/top1_click_rate:0.22951 group/top3_click_rate:0.37954 group/click/auc:0.00000 group/click/pos_ratio:0.00000 group/click/top1_score:143.69145 group/click/top3_score:131.68888 group/click/time_auc:0.54761 group/click/weighted_time_auc:0.62485 group/click/top1_best:170.97697 group/click/top3_best:140.72600 group/click/top1_rate:0.84041 group/click/top3_rate:0.93578 group/click/top1_click:1.00000 group/click/top3_click:1.00000 group/click/top1_click_best:1.00000 group/click/top3_click_best:1.00000 group/click/top1_click_rate:1.00000 group/click/top3_click_rate:1.00000 click_ratio:0.08761 time_per_show:10.89929 time_per_click:124.40742 time_per_user:98.23764 version:video'],\n",
       " ['valid_online_abid4,5,6',\n",
       "  '2019110920',\n",
       "  'video',\n",
       "  'pos_ratio:0.08405 auc:0.55286 time_auc:0.55388 weighted_time_auc:0.64598 click/time_auc:0.57604 click/weighted_time_auc:0.62376 group/auc:0.48800 group/pos_ratio:0.13742 group/top1_score:51.01602 group/top3_score:40.63853 group/time_auc:0.48925 group/weighted_time_auc:0.51031 group/top1_best:193.56641 group/top3_best:90.98705 group/top1_rate:0.26356 group/top3_rate:0.44664 group/top1_click:0.24517 group/top3_click:0.22259 group/top1_click_best:1.00000 group/top3_click_best:0.56970 group/top1_click_rate:0.24517 group/top3_click_rate:0.39072 group/click/auc:0.00000 group/click/pos_ratio:0.00000 group/click/top1_score:162.22780 group/click/top3_score:150.26778 group/click/time_auc:0.56095 group/click/weighted_time_auc:0.61727 group/click/top1_best:193.56641 group/click/top3_best:159.70949 group/click/top1_rate:0.83810 group/click/top3_rate:0.94088 group/click/top1_click:1.00000 group/click/top3_click:1.00000 group/click/top1_click_best:1.00000 group/click/top3_click_best:1.00000 group/click/top1_click_rate:1.00000 group/click/top3_click_rate:1.00000 click_ratio:0.08405 time_per_show:11.89463 time_per_click:141.52558 time_per_user:108.54017 version:video'],\n",
       " ['valid_online_abid4,5,6',\n",
       "  '2019110921',\n",
       "  'video',\n",
       "  'pos_ratio:0.08247 auc:0.56101 time_auc:0.56202 weighted_time_auc:0.66018 click/time_auc:0.58407 click/weighted_time_auc:0.64637 group/auc:0.49703 group/pos_ratio:0.13504 group/top1_score:50.60451 group/top3_score:40.33627 group/time_auc:0.49826 group/weighted_time_auc:0.51872 group/top1_best:190.93083 group/top3_best:89.74693 group/top1_rate:0.26504 group/top3_rate:0.44944 group/top1_click:0.24597 group/top3_click:0.22155 group/top1_click_best:1.00000 group/top3_click_best:0.56412 group/top1_click_rate:0.24597 group/top3_click_rate:0.39274 group/click/auc:0.00000 group/click/pos_ratio:0.00000 group/click/top1_score:162.64923 group/click/top3_score:149.49016 group/click/time_auc:0.55752 group/click/weighted_time_auc:0.62196 group/click/top1_best:190.93083 group/click/top3_best:159.09161 group/click/top1_rate:0.85188 group/click/top3_rate:0.93965 group/click/top1_click:1.00000 group/click/top3_click:1.00000 group/click/top1_click_best:1.00000 group/click/top3_click_best:1.00000 group/click/top1_click_rate:1.00000 group/click/top3_click_rate:1.00000 click_ratio:0.08247 time_per_show:11.62206 time_per_click:140.92509 time_per_user:106.69674 version:video'],\n",
       " ['valid_online_abid4,5,6',\n",
       "  '2019110922',\n",
       "  'video',\n",
       "  'pos_ratio:0.07968 auc:0.54985 time_auc:0.55134 weighted_time_auc:0.64892 click/time_auc:0.58554 click/weighted_time_auc:0.64733 group/auc:0.48248 group/pos_ratio:0.13133 group/top1_score:50.63079 group/top3_score:38.74361 group/time_auc:0.48434 group/weighted_time_auc:0.49933 group/top1_best:192.42530 group/top3_best:89.74112 group/top1_rate:0.26312 group/top3_rate:0.43173 group/top1_click:0.23792 group/top3_click:0.20593 group/top1_click_best:1.00000 group/top3_click_best:0.56387 group/top1_click_rate:0.23792 group/top3_click_rate:0.36520 group/click/auc:0.00000 group/click/pos_ratio:0.00000 group/click/top1_score:161.79948 group/click/top3_score:149.76268 group/click/time_auc:0.54852 group/click/weighted_time_auc:0.60942 group/click/top1_best:192.42530 group/click/top3_best:159.15087 group/click/top1_rate:0.84084 group/click/top3_rate:0.94101 group/click/top1_click:1.00000 group/click/top3_click:1.00000 group/click/top1_click_best:1.00000 group/click/top3_click_best:1.00000 group/click/top1_click_rate:1.00000 group/click/top3_click_rate:1.00000 click_ratio:0.07968 time_per_show:11.28999 time_per_click:141.68434 time_per_user:104.70464 version:video'],\n",
       " ['valid_online_abid4,5,6',\n",
       "  '2019110923',\n",
       "  'video',\n",
       "  'pos_ratio:0.08127 auc:0.54653 time_auc:0.54891 weighted_time_auc:0.65324 click/time_auc:0.60280 click/weighted_time_auc:0.67071 group/auc:0.48426 group/pos_ratio:0.13502 group/top1_score:49.73789 group/top3_score:41.67795 group/time_auc:0.48646 group/weighted_time_auc:0.50450 group/top1_best:201.09835 group/top3_best:94.64946 group/top1_rate:0.24733 group/top3_rate:0.44034 group/top1_click:0.21367 group/top3_click:0.21051 group/top1_click_best:1.00000 group/top3_click_best:0.56878 group/top1_click_rate:0.21367 group/top3_click_rate:0.37010 group/click/auc:0.00000 group/click/pos_ratio:0.00000 group/click/top1_score:169.80133 group/click/top3_score:156.29806 group/click/time_auc:0.56180 group/click/weighted_time_auc:0.62177 group/click/top1_best:201.09835 group/click/top3_best:166.40762 group/click/top1_rate:0.84437 group/click/top3_rate:0.93925 group/click/top1_click:1.00000 group/click/top3_click:1.00000 group/click/top1_click_best:1.00000 group/click/top3_click_best:1.00000 group/click/top1_click_rate:1.00000 group/click/top3_click_rate:1.00000 click_ratio:0.08127 time_per_show:12.00018 time_per_click:147.66323 time_per_user:109.77882 version:video'],\n",
       " ['valid_online_abid4,5,6',\n",
       "  '2019111000',\n",
       "  'video',\n",
       "  'pos_ratio:0.08745 auc:0.55346 time_auc:0.55402 weighted_time_auc:0.63370 click/time_auc:0.56550 click/weighted_time_auc:0.59037 group/auc:0.47296 group/pos_ratio:0.14912 group/top1_score:32.75168 group/top3_score:32.24098 group/time_auc:0.46974 group/weighted_time_auc:0.49471 group/top1_best:156.84679 group/top3_best:75.37556 group/top1_rate:0.20881 group/top3_rate:0.42774 group/top1_click:0.25015 group/top3_click:0.23502 group/top1_click_best:1.00000 group/top3_click_best:0.56713 group/top1_click_rate:0.25015 group/top3_click_rate:0.41441 group/click/auc:0.00000 group/click/pos_ratio:0.00000 group/click/top1_score:130.02202 group/click/top3_score:124.73347 group/click/time_auc:0.54097 group/click/weighted_time_auc:0.62285 group/click/top1_best:156.84679 group/click/top3_best:132.90810 group/click/top1_rate:0.82897 group/click/top3_rate:0.93849 group/click/top1_click:1.00000 group/click/top3_click:1.00000 group/click/top1_click_best:1.00000 group/click/top3_click_best:1.00000 group/click/top1_click_rate:1.00000 group/click/top3_click_rate:1.00000 click_ratio:0.08745 time_per_show:10.40456 time_per_click:118.97901 time_per_user:85.54082 version:video'],\n",
       " ['valid_online_abid4,5,6',\n",
       "  '2019111001',\n",
       "  'video',\n",
       "  'pos_ratio:0.09459 auc:0.56118 time_auc:0.56054 weighted_time_auc:0.63476 click/time_auc:0.54764 click/weighted_time_auc:0.53843 group/auc:0.48930 group/pos_ratio:0.15677 group/top1_score:36.33852 group/top3_score:31.89963 group/time_auc:0.49120 group/weighted_time_auc:0.50718 group/top1_best:151.40576 group/top3_best:72.65467 group/top1_rate:0.24001 group/top3_rate:0.43906 group/top1_click:0.27905 group/top3_click:0.25690 group/top1_click_best:1.00000 group/top3_click_best:0.56608 group/top1_click_rate:0.27905 group/top3_click_rate:0.45382 group/click/auc:0.00000 group/click/pos_ratio:0.00000 group/click/top1_score:129.26670 group/click/top3_score:120.30473 group/click/time_auc:0.54400 group/click/weighted_time_auc:0.65955 group/click/top1_best:151.40576 group/click/top3_best:128.34692 group/click/top1_rate:0.85378 group/click/top3_rate:0.93734 group/click/top1_click:1.00000 group/click/top3_click:1.00000 group/click/top1_click_best:1.00000 group/click/top3_click_best:1.00000 group/click/top1_click_rate:1.00000 group/click/top3_click_rate:1.00000 click_ratio:0.09459 time_per_show:11.06554 time_per_click:116.98698 time_per_user:90.40399 version:video'],\n",
       " ['valid_online_abid4,5,6',\n",
       "  '2019111002',\n",
       "  'video',\n",
       "  'pos_ratio:0.10196 auc:0.54747 time_auc:0.54674 weighted_time_auc:0.61208 click/time_auc:0.53324 click/weighted_time_auc:0.49908 group/auc:0.49879 group/pos_ratio:0.16313 group/top1_score:25.99819 group/top3_score:24.68004 group/time_auc:0.49798 group/weighted_time_auc:0.51558 group/top1_best:125.56970 group/top3_best:59.67712 group/top1_rate:0.20704 group/top3_rate:0.41356 group/top1_click:0.26011 group/top3_click:0.26102 group/top1_click_best:1.00000 group/top3_click_best:0.55423 group/top1_click_rate:0.26011 group/top3_click_rate:0.47097 group/click/auc:0.00000 group/click/pos_ratio:0.00000 group/click/top1_score:103.81171 group/click/top3_score:100.85709 group/click/time_auc:0.51780 group/click/weighted_time_auc:0.65962 group/click/top1_best:125.56970 group/click/top3_best:107.67534 group/click/top1_rate:0.82673 group/click/top3_rate:0.93668 group/click/top1_click:1.00000 group/click/top3_click:1.00000 group/click/top1_click_best:1.00000 group/click/top3_click_best:1.00000 group/click/top1_click_rate:1.00000 group/click/top3_click_rate:1.00000 click_ratio:0.10196 time_per_show:10.36592 time_per_click:101.67062 time_per_user:85.11763 version:video'],\n",
       " ['valid_online_abid4,5,6',\n",
       "  '2019111003',\n",
       "  'video',\n",
       "  'pos_ratio:0.11367 auc:0.55980 time_auc:0.55604 weighted_time_auc:0.59932 click/time_auc:0.49551 click/weighted_time_auc:0.40495 group/auc:0.49126 group/pos_ratio:0.17984 group/top1_score:28.56264 group/top3_score:26.63222 group/time_auc:0.48999 group/weighted_time_auc:0.50557 group/top1_best:113.91030 group/top3_best:53.55816 group/top1_rate:0.25075 group/top3_rate:0.49726 group/top1_click:0.29503 group/top3_click:0.30033 group/top1_click_best:1.00000 group/top3_click_best:0.56808 group/top1_click_rate:0.29503 group/top3_click_rate:0.52867 group/click/auc:0.00000 group/click/pos_ratio:0.00000 group/click/top1_score:98.83099 group/click/top3_score:89.04704 group/click/time_auc:0.50783 group/click/weighted_time_auc:0.67159 group/click/top1_best:113.91030 group/click/top3_best:94.27867 group/click/top1_rate:0.86762 group/click/top3_rate:0.94451 group/click/top1_click:1.00000 group/click/top3_click:1.00000 group/click/top1_click_best:1.00000 group/click/top3_click_best:1.00000 group/click/top1_click_rate:1.00000 group/click/top3_click_rate:1.00000 click_ratio:0.11367 time_per_show:10.16787 time_per_click:89.45371 time_per_user:81.54638 version:video'],\n",
       " ['valid_online_abid4,5,6',\n",
       "  '2019111004',\n",
       "  'video',\n",
       "  'pos_ratio:0.10915 auc:0.53700 time_auc:0.53558 weighted_time_auc:0.55048 click/time_auc:0.51170 click/weighted_time_auc:0.33971 group/auc:0.49978 group/pos_ratio:0.18032 group/top1_score:27.75103 group/top3_score:22.96859 group/time_auc:0.50047 group/weighted_time_auc:0.52474 group/top1_best:122.71159 group/top3_best:55.47057 group/top1_rate:0.22615 group/top3_rate:0.41407 group/top1_click:0.26869 group/top3_click:0.29004 group/top1_click_best:1.00000 group/top3_click_best:0.55942 group/top1_click_rate:0.26869 group/top3_click_rate:0.51846 group/click/auc:0.00000 group/click/pos_ratio:0.00000 group/click/top1_score:106.82909 group/click/top3_score:94.78452 group/click/time_auc:0.53056 group/click/weighted_time_auc:0.68989 group/click/top1_best:122.71159 group/click/top3_best:99.15680 group/click/top1_rate:0.87057 group/click/top3_rate:0.95591 group/click/top1_click:1.00000 group/click/top3_click:1.00000 group/click/top1_click_best:1.00000 group/click/top3_click_best:1.00000 group/click/top1_click_rate:1.00000 group/click/top3_click_rate:1.00000 click_ratio:0.10915 time_per_show:10.11991 time_per_click:92.71568 time_per_user:78.96443 version:video'],\n",
       " ['valid_online_abid4,5,6',\n",
       "  '2019111005',\n",
       "  'video',\n",
       "  'pos_ratio:0.09699 auc:0.53107 time_auc:0.53090 weighted_time_auc:0.59717 click/time_auc:0.52734 click/weighted_time_auc:0.48136 group/auc:0.48671 group/pos_ratio:0.16854 group/top1_score:28.92422 group/top3_score:25.66698 group/time_auc:0.48868 group/weighted_time_auc:0.49887 group/top1_best:119.23004 group/top3_best:55.12250 group/top1_rate:0.24259 group/top3_rate:0.46564 group/top1_click:0.26184 group/top3_click:0.27340 group/top1_click_best:1.00000 group/top3_click_best:0.54238 group/top1_click_rate:0.26184 group/top3_click_rate:0.50408 group/click/auc:0.00000 group/click/pos_ratio:0.00000 group/click/top1_score:101.48309 group/click/top3_score:97.15973 group/click/time_auc:0.54759 group/click/weighted_time_auc:0.65930 group/click/top1_best:119.23004 group/click/top3_best:101.62988 group/click/top1_rate:0.85115 group/click/top3_rate:0.95602 group/click/top1_click:1.00000 group/click/top3_click:1.00000 group/click/top1_click_best:1.00000 group/click/top3_click_best:1.00000 group/click/top1_click_rate:1.00000 group/click/top3_click_rate:1.00000 click_ratio:0.09699 time_per_show:9.24444 time_per_click:95.30998 time_per_user:70.92207 version:video'],\n",
       " ['valid_online_abid4,5,6', '2019111006', 'video'],\n",
       " ['valid_online_abid4,5,6',\n",
       "  '2019111007',\n",
       "  'video',\n",
       "  'pos_ratio:0.08763 auc:0.53455 time_auc:0.53521 weighted_time_auc:0.60851 click/time_auc:0.54876 click/weighted_time_auc:0.56022 group/auc:0.46555 group/pos_ratio:0.16218 group/top1_score:34.31351 group/top3_score:32.71448 group/time_auc:0.46668 group/weighted_time_auc:0.48152 group/top1_best:157.47432 group/top3_best:71.11019 group/top1_rate:0.21790 group/top3_rate:0.46005 group/top1_click:0.22976 group/top3_click:0.24164 group/top1_click_best:1.00000 group/top3_click_best:0.54717 group/top1_click_rate:0.22976 group/top3_click_rate:0.44162 group/click/auc:0.00000 group/click/pos_ratio:0.00000 group/click/top1_score:134.70715 group/click/top3_score:122.99770 group/click/time_auc:0.53236 group/click/weighted_time_auc:0.62479 group/click/top1_best:157.47432 group/click/top3_best:129.96043 group/click/top1_rate:0.85542 group/click/top3_rate:0.94642 group/click/top1_click:1.00000 group/click/top3_click:1.00000 group/click/top1_click_best:1.00000 group/click/top3_click_best:1.00000 group/click/top1_click_rate:1.00000 group/click/top3_click_rate:1.00000 click_ratio:0.08763 time_per_show:10.48824 time_per_click:119.68736 time_per_user:77.69032 version:video'],\n",
       " ['valid_online_abid4,5,6',\n",
       "  '2019111008',\n",
       "  'video',\n",
       "  'pos_ratio:0.08862 auc:0.53415 time_auc:0.53491 weighted_time_auc:0.59632 click/time_auc:0.55067 click/weighted_time_auc:0.55600 group/auc:0.48132 group/pos_ratio:0.15780 group/top1_score:38.36685 group/top3_score:33.53357 group/time_auc:0.48341 group/weighted_time_auc:0.49634 group/top1_best:158.14180 group/top3_best:72.87110 group/top1_rate:0.24261 group/top3_rate:0.46018 group/top1_click:0.24134 group/top3_click:0.23942 group/top1_click_best:1.00000 group/top3_click_best:0.54879 group/top1_click_rate:0.24134 group/top3_click_rate:0.43627 group/click/auc:0.00000 group/click/pos_ratio:0.00000 group/click/top1_score:132.92795 group/click/top3_score:126.48469 group/click/time_auc:0.54379 group/click/weighted_time_auc:0.62950 group/click/top1_best:158.14180 group/click/top3_best:132.78499 group/click/top1_rate:0.84056 group/click/top3_rate:0.95255 group/click/top1_click:1.00000 group/click/top3_click:1.00000 group/click/top1_click_best:1.00000 group/click/top3_click_best:1.00000 group/click/top1_click_rate:1.00000 group/click/top3_click_rate:1.00000 click_ratio:0.08862 time_per_show:10.84940 time_per_click:122.43156 time_per_user:81.35240 version:video'],\n",
       " ['valid_online_abid4,5,6',\n",
       "  '2019111009',\n",
       "  'video',\n",
       "  'pos_ratio:0.09055 auc:0.54493 time_auc:0.54577 weighted_time_auc:0.62248 click/time_auc:0.56254 click/weighted_time_auc:0.58559 group/auc:0.48332 group/pos_ratio:0.15604 group/top1_score:37.57324 group/top3_score:32.25863 group/time_auc:0.48582 group/weighted_time_auc:0.50603 group/top1_best:158.85302 group/top3_best:74.03555 group/top1_rate:0.23653 group/top3_rate:0.43572 group/top1_click:0.23188 group/top3_click:0.23167 group/top1_click_best:1.00000 group/top3_click_best:0.56553 group/top1_click_rate:0.23188 group/top3_click_rate:0.40966 group/click/auc:0.00000 group/click/pos_ratio:0.00000 group/click/top1_score:131.97542 group/click/top3_score:122.55402 group/click/time_auc:0.54002 group/click/weighted_time_auc:0.61227 group/click/top1_best:158.85302 group/click/top3_best:130.91260 group/click/top1_rate:0.83080 group/click/top3_rate:0.93615 group/click/top1_click:1.00000 group/click/top3_click:1.00000 group/click/top1_click_best:1.00000 group/click/top3_click_best:1.00000 group/click/top1_click_rate:1.00000 group/click/top3_click_rate:1.00000 click_ratio:0.09055 time_per_show:10.73758 time_per_click:118.58768 time_per_user:83.91985 version:video'],\n",
       " ['valid_online_abid4,5,6',\n",
       "  '2019111010',\n",
       "  'video',\n",
       "  'pos_ratio:0.09076 auc:0.55200 time_auc:0.55236 weighted_time_auc:0.62617 click/time_auc:0.55934 click/weighted_time_auc:0.58682 group/auc:0.48534 group/pos_ratio:0.15658 group/top1_score:37.90397 group/top3_score:33.34885 group/time_auc:0.48685 group/weighted_time_auc:0.50419 group/top1_best:155.06342 group/top3_best:73.58154 group/top1_rate:0.24444 group/top3_rate:0.45322 group/top1_click:0.24019 group/top3_click:0.24320 group/top1_click_best:1.00000 group/top3_click_best:0.56670 group/top1_click_rate:0.24019 group/top3_click_rate:0.42915 group/click/auc:0.00000 group/click/pos_ratio:0.00000 group/click/top1_score:130.34488 group/click/top3_score:121.61699 group/click/time_auc:0.55467 group/click/weighted_time_auc:0.62749 group/click/top1_best:155.06342 group/click/top3_best:129.84302 group/click/top1_rate:0.84059 group/click/top3_rate:0.93665 group/click/top1_click:1.00000 group/click/top3_click:1.00000 group/click/top1_click_best:1.00000 group/click/top3_click_best:1.00000 group/click/top1_click_rate:1.00000 group/click/top3_click_rate:1.00000 click_ratio:0.09076 time_per_show:10.67634 time_per_click:117.63310 time_per_user:83.07000 version:video'],\n",
       " ['valid_online_abid4,5,6', '2019111011', 'video'],\n",
       " ['valid_online_abid4,5,6',\n",
       "  '2019111012',\n",
       "  'video',\n",
       "  'pos_ratio:0.09139 auc:0.54468 time_auc:0.54574 weighted_time_auc:0.63058 click/time_auc:0.56678 click/weighted_time_auc:0.60805 group/auc:0.47964 group/pos_ratio:0.15590 group/top1_score:41.78474 group/top3_score:35.93016 group/time_auc:0.48204 group/weighted_time_auc:0.49781 group/top1_best:163.14771 group/top3_best:74.87906 group/top1_rate:0.25612 group/top3_rate:0.47984 group/top1_click:0.24797 group/top3_click:0.23935 group/top1_click_best:1.00000 group/top3_click_best:0.55396 group/top1_click_rate:0.24797 group/top3_click_rate:0.43206 group/click/auc:0.00000 group/click/pos_ratio:0.00000 group/click/top1_score:140.53378 group/click/top3_score:127.80747 group/click/time_auc:0.55250 group/click/weighted_time_auc:0.63252 group/click/top1_best:163.14771 group/click/top3_best:135.17038 group/click/top1_rate:0.86139 group/click/top3_rate:0.94553 group/click/top1_click:1.00000 group/click/top3_click:1.00000 group/click/top1_click_best:1.00000 group/click/top3_click_best:1.00000 group/click/top1_click_rate:1.00000 group/click/top3_click_rate:1.00000 click_ratio:0.09139 time_per_show:11.11039 time_per_click:121.56798 time_per_user:85.25032 version:video'],\n",
       " ['valid_online_abid4,5,6',\n",
       "  '2019111013',\n",
       "  'video',\n",
       "  'pos_ratio:0.09052 auc:0.54657 time_auc:0.54723 weighted_time_auc:0.62423 click/time_auc:0.56022 click/weighted_time_auc:0.59454 group/auc:0.48397 group/pos_ratio:0.15135 group/top1_score:35.67995 group/top3_score:32.17886 group/time_auc:0.48625 group/weighted_time_auc:0.50164 group/top1_best:150.69087 group/top3_best:70.38670 group/top1_rate:0.23678 group/top3_rate:0.45717 group/top1_click:0.23811 group/top3_click:0.23389 group/top1_click_best:1.00000 group/top3_click_best:0.55962 group/top1_click_rate:0.23811 group/top3_click_rate:0.41794 group/click/auc:0.00000 group/click/pos_ratio:0.00000 group/click/top1_score:127.81903 group/click/top3_score:118.53551 group/click/time_auc:0.55206 group/click/weighted_time_auc:0.63198 group/click/top1_best:150.69087 group/click/top3_best:125.77589 group/click/top1_rate:0.84822 group/click/top3_rate:0.94243 group/click/top1_click:1.00000 group/click/top3_click:1.00000 group/click/top1_click_best:1.00000 group/click/top3_click_best:1.00000 group/click/top1_click_rate:1.00000 group/click/top3_click_rate:1.00000 click_ratio:0.09052 time_per_show:10.27106 time_per_click:113.46874 time_per_user:82.23307 version:video'],\n",
       " ['valid_online_abid4,5,6',\n",
       "  '2019111014',\n",
       "  'video',\n",
       "  'pos_ratio:0.08833 auc:0.54637 time_auc:0.54673 weighted_time_auc:0.61670 click/time_auc:0.55398 click/weighted_time_auc:0.57645 group/auc:0.48189 group/pos_ratio:0.14791 group/top1_score:33.37074 group/top3_score:30.64592 group/time_auc:0.48359 group/weighted_time_auc:0.49469 group/top1_best:152.92600 group/top3_best:71.19264 group/top1_rate:0.21821 group/top3_rate:0.43046 group/top1_click:0.22878 group/top3_click:0.22300 group/top1_click_best:1.00000 group/top3_click_best:0.56885 group/top1_click_rate:0.22878 group/top3_click_rate:0.39201 group/click/auc:0.00000 group/click/pos_ratio:0.00000 group/click/top1_score:126.81354 group/click/top3_score:117.09096 group/click/time_auc:0.53864 group/click/weighted_time_auc:0.61247 group/click/top1_best:152.92600 group/click/top3_best:125.15126 group/click/top1_rate:0.82925 group/click/top3_rate:0.93560 group/click/top1_click:1.00000 group/click/top3_click:1.00000 group/click/top1_click_best:1.00000 group/click/top3_click_best:1.00000 group/click/top1_click_rate:1.00000 group/click/top3_click_rate:1.00000 click_ratio:0.08833 time_per_show:9.94027 time_per_click:112.54021 time_per_user:83.30845 version:video'],\n",
       " ['valid_online_abid4,5,6',\n",
       "  '2019111016',\n",
       "  'video',\n",
       "  'pos_ratio:0.09006 auc:0.56681 time_auc:0.56606 weighted_time_auc:0.63374 click/time_auc:0.55013 click/weighted_time_auc:0.57731 group/auc:0.48780 group/pos_ratio:0.14690 group/top1_score:34.16332 group/top3_score:32.36283 group/time_auc:0.48988 group/weighted_time_auc:0.50238 group/top1_best:155.03738 group/top3_best:72.65916 group/top1_rate:0.22036 group/top3_rate:0.44541 group/top1_click:0.22604 group/top3_click:0.23044 group/top1_click_best:1.00000 group/top3_click_best:0.56467 group/top1_click_rate:0.22604 group/top3_click_rate:0.40810 group/click/auc:0.00000 group/click/pos_ratio:0.00000 group/click/top1_score:129.13974 group/click/top3_score:120.28033 group/click/time_auc:0.53631 group/click/weighted_time_auc:0.61196 group/click/top1_best:155.03738 group/click/top3_best:128.67472 group/click/top1_rate:0.83296 group/click/top3_rate:0.93476 group/click/top1_click:1.00000 group/click/top3_click:1.00000 group/click/top1_click_best:1.00000 group/click/top3_click_best:1.00000 group/click/top1_click_rate:1.00000 group/click/top3_click_rate:1.00000 click_ratio:0.09006 time_per_show:10.29644 time_per_click:114.33104 time_per_user:87.55281 version:video'],\n",
       " ['valid_online_abid4,5,6',\n",
       "  '2019111015',\n",
       "  'video',\n",
       "  'pos_ratio:0.08398 auc:0.56496 time_auc:0.56411 weighted_time_auc:0.62631 click/time_auc:0.54516 click/weighted_time_auc:0.56467 group/auc:0.48583 group/pos_ratio:0.14280 group/top1_score:31.41134 group/top3_score:30.39617 group/time_auc:0.48684 group/weighted_time_auc:0.50126 group/top1_best:152.65187 group/top3_best:71.83145 group/top1_rate:0.20577 group/top3_rate:0.42316 group/top1_click:0.23225 group/top3_click:0.23014 group/top1_click_best:1.00000 group/top3_click_best:0.56359 group/top1_click_rate:0.23225 group/top3_click_rate:0.40835 group/click/auc:0.00000 group/click/pos_ratio:0.00000 group/click/top1_score:126.50188 group/click/top3_score:119.56708 group/click/time_auc:0.53956 group/click/weighted_time_auc:0.61172 group/click/top1_best:152.65187 group/click/top3_best:127.45363 group/click/top1_rate:0.82870 group/click/top3_rate:0.93812 group/click/top1_click:1.00000 group/click/top3_click:1.00000 group/click/top1_click_best:1.00000 group/click/top3_click_best:1.00000 group/click/top1_click_rate:1.00000 group/click/top3_click_rate:1.00000 click_ratio:0.08398 time_per_show:9.72470 time_per_click:115.80275 time_per_user:81.90214 version:video'],\n",
       " ['valid_online_abid4,5,6', '2019111017', 'video'],\n",
       " ['valid_online_abid4,5,6',\n",
       "  '2019111018',\n",
       "  'video',\n",
       "  'pos_ratio:0.08710 auc:0.55574 time_auc:0.55576 weighted_time_auc:0.62945 click/time_auc:0.55571 click/weighted_time_auc:0.58256 group/auc:0.47784 group/pos_ratio:0.14805 group/top1_score:36.06694 group/top3_score:32.61864 group/time_auc:0.47954 group/weighted_time_auc:0.49137 group/top1_best:159.26409 group/top3_best:73.16854 group/top1_rate:0.22646 group/top3_rate:0.44580 group/top1_click:0.23073 group/top3_click:0.22734 group/top1_click_best:1.00000 group/top3_click_best:0.55912 group/top1_click_rate:0.23073 group/top3_click_rate:0.40660 group/click/auc:0.00000 group/click/pos_ratio:0.00000 group/click/top1_score:134.37497 group/click/top3_score:122.88953 group/click/time_auc:0.54015 group/click/weighted_time_auc:0.60707 group/click/top1_best:159.26409 group/click/top3_best:130.86356 group/click/top1_rate:0.84372 group/click/top3_rate:0.93907 group/click/top1_click:1.00000 group/click/top3_click:1.00000 group/click/top1_click_best:1.00000 group/click/top3_click_best:1.00000 group/click/top1_click_rate:1.00000 group/click/top3_click_rate:1.00000 click_ratio:0.08710 time_per_show:10.29175 time_per_click:118.16667 time_per_user:82.79451 version:video'],\n",
       " ['valid_online_abid4,5,6',\n",
       "  '2019111019',\n",
       "  'video',\n",
       "  'pos_ratio:0.08732 auc:0.55859 time_auc:0.55886 weighted_time_auc:0.63692 click/time_auc:0.56401 click/weighted_time_auc:0.59784 group/auc:0.48577 group/pos_ratio:0.14176 group/top1_score:40.38163 group/top3_score:34.64630 group/time_auc:0.48682 group/weighted_time_auc:0.50040 group/top1_best:169.03949 group/top3_best:78.92549 group/top1_rate:0.23889 group/top3_rate:0.43897 group/top1_click:0.23159 group/top3_click:0.21749 group/top1_click_best:1.00000 group/top3_click_best:0.56307 group/top1_click_rate:0.23159 group/top3_click_rate:0.38626 group/click/auc:0.00000 group/click/pos_ratio:0.00000 group/click/top1_score:142.12170 group/click/top3_score:131.68969 group/click/time_auc:0.54229 group/click/weighted_time_auc:0.60239 group/click/top1_best:169.03949 group/click/top3_best:140.16925 group/click/top1_rate:0.84076 group/click/top3_rate:0.93950 group/click/top1_click:1.00000 group/click/top3_click:1.00000 group/click/top1_click_best:1.00000 group/click/top3_click_best:1.00000 group/click/top1_click_rate:1.00000 group/click/top3_click_rate:1.00000 click_ratio:0.08732 time_per_show:10.92241 time_per_click:125.08557 time_per_user:94.23501 version:video'],\n",
       " ['valid_online_abid4,5,6',\n",
       "  '2019111020',\n",
       "  'video',\n",
       "  'pos_ratio:0.08217 auc:0.55117 time_auc:0.55210 weighted_time_auc:0.64482 click/time_auc:0.57254 click/weighted_time_auc:0.62796 group/auc:0.48479 group/pos_ratio:0.13632 group/top1_score:51.12139 group/top3_score:39.90290 group/time_auc:0.48643 group/weighted_time_auc:0.50302 group/top1_best:189.70451 group/top3_best:88.23591 group/top1_rate:0.26948 group/top3_rate:0.45223 group/top1_click:0.24043 group/top3_click:0.21693 group/top1_click_best:1.00000 group/top3_click_best:0.55936 group/top1_click_rate:0.24043 group/top3_click_rate:0.38782 group/click/auc:0.00000 group/click/pos_ratio:0.00000 group/click/top1_score:161.57207 group/click/top3_score:149.39650 group/click/time_auc:0.55554 group/click/weighted_time_auc:0.61595 group/click/top1_best:189.70451 group/click/top3_best:157.74316 group/click/top1_rate:0.85170 group/click/top3_rate:0.94709 group/click/top1_click:1.00000 group/click/top3_click:1.00000 group/click/top1_click_best:1.00000 group/click/top3_click_best:1.00000 group/click/top1_click_rate:1.00000 group/click/top3_click_rate:1.00000 click_ratio:0.08217 time_per_show:11.61906 time_per_click:141.40293 time_per_user:102.19918 version:video'],\n",
       " ['valid_online_abid4,5,6',\n",
       "  '2019111021',\n",
       "  'video',\n",
       "  'pos_ratio:0.07985 auc:0.55721 time_auc:0.55852 weighted_time_auc:0.66298 click/time_auc:0.58828 click/weighted_time_auc:0.64926 group/auc:0.48015 group/pos_ratio:0.13449 group/top1_score:51.06213 group/top3_score:40.83424 group/time_auc:0.48091 group/weighted_time_auc:0.49598 group/top1_best:194.51155 group/top3_best:91.04461 group/top1_rate:0.26251 group/top3_rate:0.44851 group/top1_click:0.24239 group/top3_click:0.21420 group/top1_click_best:1.00000 group/top3_click_best:0.55869 group/top1_click_rate:0.24239 group/top3_click_rate:0.38339 group/click/auc:0.00000 group/click/pos_ratio:0.00000 group/click/top1_score:165.28755 group/click/top3_score:154.05167 group/click/time_auc:0.54893 group/click/weighted_time_auc:0.60978 group/click/top1_best:194.51155 group/click/top3_best:162.96026 group/click/top1_rate:0.84976 group/click/top3_rate:0.94533 group/click/top1_click:1.00000 group/click/top3_click:1.00000 group/click/top1_click_best:1.00000 group/click/top3_click_best:1.00000 group/click/top1_click_rate:1.00000 group/click/top3_click_rate:1.00000 click_ratio:0.07985 time_per_show:11.74206 time_per_click:147.04642 time_per_user:104.67156 version:video'],\n",
       " ['valid_online_abid4,5,6',\n",
       "  '2019111022',\n",
       "  'video',\n",
       "  'pos_ratio:0.07766 auc:0.54646 time_auc:0.54848 weighted_time_auc:0.65013 click/time_auc:0.59637 click/weighted_time_auc:0.65625 group/auc:0.47874 group/pos_ratio:0.13440 group/top1_score:50.39904 group/top3_score:41.37964 group/time_auc:0.48080 group/weighted_time_auc:0.49557 group/top1_best:197.42402 group/top3_best:91.05740 group/top1_rate:0.25528 group/top3_rate:0.45443 group/top1_click:0.22232 group/top3_click:0.20865 group/top1_click_best:1.00000 group/top3_click_best:0.54951 group/top1_click_rate:0.22232 group/top3_click_rate:0.37969 group/click/auc:0.00000 group/click/pos_ratio:0.00000 group/click/top1_score:169.63924 group/click/top3_score:157.05548 group/click/time_auc:0.55058 group/click/weighted_time_auc:0.61309 group/click/top1_best:197.42402 group/click/top3_best:165.70520 group/click/top1_rate:0.85926 group/click/top3_rate:0.94780 group/click/top1_click:1.00000 group/click/top3_click:1.00000 group/click/top1_click_best:1.00000 group/click/top3_click_best:1.00000 group/click/top1_click_rate:1.00000 group/click/top3_click_rate:1.00000 click_ratio:0.07766 time_per_show:11.53265 time_per_click:148.49541 time_per_user:102.00403 version:video'],\n",
       " ['valid_online_abid4,5,6',\n",
       "  '2019111023',\n",
       "  'video',\n",
       "  'pos_ratio:0.07758 auc:0.55389 time_auc:0.55552 weighted_time_auc:0.65580 click/time_auc:0.59424 click/weighted_time_auc:0.65794 group/auc:0.48324 group/pos_ratio:0.13486 group/top1_score:45.98352 group/top3_score:37.52866 group/time_auc:0.48475 group/weighted_time_auc:0.50047 group/top1_best:184.90489 group/top3_best:87.21542 group/top1_rate:0.24869 group/top3_rate:0.43030 group/top1_click:0.23186 group/top3_click:0.20877 group/top1_click_best:1.00000 group/top3_click_best:0.55657 group/top1_click_rate:0.23186 group/top3_click_rate:0.37509 group/click/auc:0.00000 group/click/pos_ratio:0.00000 group/click/top1_score:158.55507 group/click/top3_score:147.59232 group/click/time_auc:0.55077 group/click/weighted_time_auc:0.61867 group/click/top1_best:184.90489 group/click/top3_best:156.70040 group/click/top1_rate:0.85750 group/click/top3_rate:0.94188 group/click/top1_click:1.00000 group/click/top3_click:1.00000 group/click/top1_click_best:1.00000 group/click/top3_click_best:1.00000 group/click/top1_click_rate:1.00000 group/click/top3_click_rate:1.00000 click_ratio:0.07758 time_per_show:10.79378 time_per_click:139.13901 time_per_user:96.15768 version:video'],\n",
       " ['valid_online_abid4,5,6',\n",
       "  '2019111100',\n",
       "  'video',\n",
       "  'pos_ratio:0.08123 auc:0.55508 time_auc:0.55556 weighted_time_auc:0.64289 click/time_auc:0.56603 click/weighted_time_auc:0.58978 group/auc:0.49065 group/pos_ratio:0.14637 group/top1_score:37.03031 group/top3_score:31.80337 group/time_auc:0.49288 group/weighted_time_auc:0.50195 group/top1_best:150.54528 group/top3_best:72.05782 group/top1_rate:0.24597 group/top3_rate:0.44136 group/top1_click:0.28031 group/top3_click:0.24323 group/top1_click_best:1.00000 group/top3_click_best:0.55789 group/top1_click_rate:0.28031 group/top3_click_rate:0.43597 group/click/auc:0.00000 group/click/pos_ratio:0.00000 group/click/top1_score:128.26457 group/click/top3_score:121.34365 group/click/time_auc:0.54475 group/click/weighted_time_auc:0.62850 group/click/top1_best:150.54528 group/click/top3_best:129.16025 group/click/top1_rate:0.85200 group/click/top3_rate:0.93948 group/click/top1_click:1.00000 group/click/top3_click:1.00000 group/click/top1_click_best:1.00000 group/click/top3_click_best:1.00000 group/click/top1_click_rate:1.00000 group/click/top3_click_rate:1.00000 click_ratio:0.08123 time_per_show:9.67502 time_per_click:119.10856 time_per_user:73.78336 version:video'],\n",
       " ['valid_online_abid4,5,6',\n",
       "  '2019111101',\n",
       "  'video',\n",
       "  'pos_ratio:0.09282 auc:0.57500 time_auc:0.57239 weighted_time_auc:0.62657 click/time_auc:0.51942 click/weighted_time_auc:0.49139 group/auc:0.50551 group/pos_ratio:0.15490 group/top1_score:30.73216 group/top3_score:29.20742 group/time_auc:0.50917 group/weighted_time_auc:0.52240 group/top1_best:131.48793 group/top3_best:62.78795 group/top1_rate:0.23373 group/top3_rate:0.46518 group/top1_click:0.28705 group/top3_click:0.27192 group/top1_click_best:1.00000 group/top3_click_best:0.55910 group/top1_click_rate:0.28705 group/top3_click_rate:0.48636 group/click/auc:0.00000 group/click/pos_ratio:0.00000 group/click/top1_score:112.13831 group/click/top3_score:104.81002 group/click/time_auc:0.53673 group/click/weighted_time_auc:0.64705 group/click/top1_best:131.48793 group/click/top3_best:112.30259 group/click/top1_rate:0.85284 group/click/top3_rate:0.93328 group/click/top1_click:1.00000 group/click/top3_click:1.00000 group/click/top1_click_best:1.00000 group/click/top3_click_best:1.00000 group/click/top1_click_rate:1.00000 group/click/top3_click_rate:1.00000 click_ratio:0.09282 time_per_show:9.64384 time_per_click:103.89779 time_per_user:75.12950 version:video'],\n",
       " ['valid_online_abid4,5,6',\n",
       "  '2019111102',\n",
       "  'video',\n",
       "  'pos_ratio:0.10211 auc:0.56612 time_auc:0.56303 weighted_time_auc:0.60681 click/time_auc:0.50676 click/weighted_time_auc:0.43582 group/auc:0.49662 group/pos_ratio:0.16739 group/top1_score:26.68096 group/top3_score:24.08591 group/time_auc:0.49560 group/weighted_time_auc:0.50684 group/top1_best:115.79142 group/top3_best:53.18513 group/top1_rate:0.23042 group/top3_rate:0.45287 group/top1_click:0.28561 group/top3_click:0.27757 group/top1_click_best:1.00000 group/top3_click_best:0.55237 group/top1_click_rate:0.28561 group/top3_click_rate:0.50250 group/click/auc:0.00000 group/click/pos_ratio:0.00000 group/click/top1_score:99.60828 group/click/top3_score:90.68076 group/click/time_auc:0.51546 group/click/weighted_time_auc:0.66337 group/click/top1_best:115.79142 group/click/top3_best:96.28467 group/click/top1_rate:0.86024 group/click/top3_rate:0.94180 group/click/top1_click:1.00000 group/click/top3_click:1.00000 group/click/top1_click_best:1.00000 group/click/top3_click_best:1.00000 group/click/top1_click_rate:1.00000 group/click/top3_click_rate:1.00000 click_ratio:0.10211 time_per_show:9.31797 time_per_click:91.25435 time_per_user:74.40554 version:video'],\n",
       " ['valid_online_abid4,5,6',\n",
       "  '2019111104',\n",
       "  'video',\n",
       "  'pos_ratio:0.11031 auc:0.55206 time_auc:0.54979 weighted_time_auc:0.60392 click/time_auc:0.51163 click/weighted_time_auc:0.40629 group/auc:0.50218 group/pos_ratio:0.17926 group/top1_score:28.80617 group/top3_score:23.96861 group/time_auc:0.50128 group/weighted_time_auc:0.51955 group/top1_best:105.12436 group/top3_best:47.36530 group/top1_rate:0.27402 group/top3_rate:0.50604 group/top1_click:0.27444 group/top3_click:0.29265 group/top1_click_best:1.00000 group/top3_click_best:0.55681 group/top1_click_rate:0.27444 group/top3_click_rate:0.52557 group/click/auc:0.00000 group/click/pos_ratio:0.00000 group/click/top1_score:90.55575 group/click/top3_score:81.14092 group/click/time_auc:0.50689 group/click/weighted_time_auc:0.68098 group/click/top1_best:105.12436 group/click/top3_best:85.06472 group/click/top1_rate:0.86142 group/click/top3_rate:0.95387 group/click/top1_click:1.00000 group/click/top3_click:1.00000 group/click/top1_click_best:1.00000 group/click/top3_click_best:1.00000 group/click/top1_click_rate:1.00000 group/click/top3_click_rate:1.00000 click_ratio:0.11031 time_per_show:8.95808 time_per_click:81.20493 time_per_user:67.02428 version:video'],\n",
       " ['valid_online_abid4,5,6', '2019111105', 'video'],\n",
       " ['valid_online_abid4,5,6', '2019111106', 'video'],\n",
       " ['valid_online_abid4,5,6',\n",
       "  '2019111109',\n",
       "  'video',\n",
       "  'pos_ratio:0.08761 auc:0.54241 time_auc:0.54224 weighted_time_auc:0.60514 click/time_auc:0.53852 click/weighted_time_auc:0.54083 group/auc:0.48416 group/pos_ratio:0.15624 group/top1_score:31.49805 group/top3_score:28.81272 group/time_auc:0.48533 group/weighted_time_auc:0.50311 group/top1_best:139.22049 group/top3_best:63.68844 group/top1_rate:0.22625 group/top3_rate:0.45240 group/top1_click:0.24459 group/top3_click:0.24709 group/top1_click_best:1.00000 group/top3_click_best:0.54630 group/top1_click_rate:0.24459 group/top3_click_rate:0.45231 group/click/auc:0.00000 group/click/pos_ratio:0.00000 group/click/top1_score:118.14463 group/click/top3_score:110.20466 group/click/time_auc:0.54333 group/click/weighted_time_auc:0.64973 group/click/top1_best:139.22049 group/click/top3_best:116.58150 group/click/top1_rate:0.84862 group/click/top3_rate:0.94530 group/click/top1_click:1.00000 group/click/top3_click:1.00000 group/click/top1_click_best:1.00000 group/click/top3_click_best:1.00000 group/click/top1_click_rate:1.00000 group/click/top3_click_rate:1.00000 click_ratio:0.08761 time_per_show:9.48720 time_per_click:108.29196 time_per_user:71.45437 version:video'],\n",
       " ['valid_online_abid4,5,6',\n",
       "  '2019111110',\n",
       "  'video',\n",
       "  'pos_ratio:0.09004 auc:0.55529 time_auc:0.55413 weighted_time_auc:0.60710 click/time_auc:0.53010 click/weighted_time_auc:0.52404 group/auc:0.48789 group/pos_ratio:0.16267 group/top1_score:33.67214 group/top3_score:29.56463 group/time_auc:0.48864 group/weighted_time_auc:0.49818 group/top1_best:141.59909 group/top3_best:66.49191 group/top1_rate:0.23780 group/top3_rate:0.44464 group/top1_click:0.25376 group/top3_click:0.25260 group/top1_click_best:1.00000 group/top3_click_best:0.56318 group/top1_click_rate:0.25376 group/top3_click_rate:0.44852 group/click/auc:0.00000 group/click/pos_ratio:0.00000 group/click/top1_score:115.44460 group/click/top3_score:110.46439 group/click/time_auc:0.52413 group/click/weighted_time_auc:0.61576 group/click/top1_best:141.59909 group/click/top3_best:118.06521 group/click/top1_rate:0.81529 group/click/top3_rate:0.93562 group/click/top1_click:1.00000 group/click/top3_click:1.00000 group/click/top1_click_best:1.00000 group/click/top3_click_best:1.00000 group/click/top1_click_rate:1.00000 group/click/top3_click_rate:1.00000 click_ratio:0.09004 time_per_show:9.72890 time_per_click:108.04847 time_per_user:74.63099 version:video'],\n",
       " ['valid_online_abid4,5,6',\n",
       "  '2019111113',\n",
       "  'video',\n",
       "  'pos_ratio:0.09121 auc:0.56454 time_auc:0.56364 weighted_time_auc:0.62723 click/time_auc:0.54508 click/weighted_time_auc:0.56268 group/auc:0.49361 group/pos_ratio:0.14727 group/top1_score:32.69389 group/top3_score:30.12150 group/time_auc:0.49526 group/weighted_time_auc:0.50470 group/top1_best:144.26099 group/top3_best:68.08923 group/top1_rate:0.22663 group/top3_rate:0.44238 group/top1_click:0.22616 group/top3_click:0.22971 group/top1_click_best:1.00000 group/top3_click_best:0.55898 group/top1_click_rate:0.22616 group/top3_click_rate:0.41095 group/click/auc:0.00000 group/click/pos_ratio:0.00000 group/click/top1_score:120.54769 group/click/top3_score:112.98962 group/click/time_auc:0.53167 group/click/weighted_time_auc:0.61559 group/click/top1_best:144.26099 group/click/top3_best:121.81045 group/click/top1_rate:0.83562 group/click/top3_rate:0.92759 group/click/top1_click:1.00000 group/click/top3_click:1.00000 group/click/top1_click_best:1.00000 group/click/top3_click_best:1.00000 group/click/top1_click_rate:1.00000 group/click/top3_click_rate:1.00000 click_ratio:0.09121 time_per_show:10.01852 time_per_click:109.84326 time_per_user:85.41126 version:video'],\n",
       " ['valid_online_abid4,5,6',\n",
       "  '2019111108',\n",
       "  'video',\n",
       "  'pos_ratio:0.08452 auc:0.53721 time_auc:0.53725 weighted_time_auc:0.59581 click/time_auc:0.53785 click/weighted_time_auc:0.53475 group/auc:0.48011 group/pos_ratio:0.16268 group/top1_score:33.86047 group/top3_score:29.05025 group/time_auc:0.48060 group/weighted_time_auc:0.49390 group/top1_best:141.34602 group/top3_best:65.12770 group/top1_rate:0.23956 group/top3_rate:0.44605 group/top1_click:0.24806 group/top3_click:0.24694 group/top1_click_best:1.00000 group/top3_click_best:0.54890 group/top1_click_rate:0.24806 group/top3_click_rate:0.44988 group/click/auc:0.00000 group/click/pos_ratio:0.00000 group/click/top1_score:120.90698 group/click/top3_score:112.57825 group/click/time_auc:0.53405 group/click/weighted_time_auc:0.64469 group/click/top1_best:141.34602 group/click/top3_best:118.65193 group/click/top1_rate:0.85540 group/click/top3_rate:0.94881 group/click/top1_click:1.00000 group/click/top3_click:1.00000 group/click/top1_click_best:1.00000 group/click/top3_click_best:1.00000 group/click/top1_click_rate:1.00000 group/click/top3_click_rate:1.00000 click_ratio:0.08452 time_per_show:9.41420 time_per_click:111.38836 time_per_user:67.06318 version:video'],\n",
       " ['valid_online_abid4,5,6',\n",
       "  '2019111111',\n",
       "  'video',\n",
       "  'pos_ratio:0.08929 auc:0.55715 time_auc:0.55591 weighted_time_auc:0.61481 click/time_auc:0.52999 click/weighted_time_auc:0.52974 group/auc:0.48621 group/pos_ratio:0.16298 group/top1_score:33.23906 group/top3_score:28.54251 group/time_auc:0.48698 group/weighted_time_auc:0.50028 group/top1_best:136.73354 group/top3_best:63.10145 group/top1_rate:0.24309 group/top3_rate:0.45233 group/top1_click:0.25921 group/top3_click:0.24023 group/top1_click_best:1.00000 group/top3_click_best:0.54730 group/top1_click_rate:0.25921 group/top3_click_rate:0.43894 group/click/auc:0.00000 group/click/pos_ratio:0.00000 group/click/top1_score:116.98425 group/click/top3_score:109.05091 group/click/time_auc:0.52789 group/click/weighted_time_auc:0.63714 group/click/top1_best:136.73354 group/click/top3_best:115.29694 group/click/top1_rate:0.85556 group/click/top3_rate:0.94583 group/click/top1_click:1.00000 group/click/top3_click:1.00000 group/click/top1_click_best:1.00000 group/click/top3_click_best:1.00000 group/click/top1_click_rate:1.00000 group/click/top3_click_rate:1.00000 click_ratio:0.08929 time_per_show:9.45692 time_per_click:105.91360 time_per_user:70.31919 version:video'],\n",
       " ['valid_online_abid4,5,6',\n",
       "  '2019111107',\n",
       "  'video',\n",
       "  'pos_ratio:0.07774 auc:0.52682 time_auc:0.52749 weighted_time_auc:0.58916 click/time_auc:0.54347 click/weighted_time_auc:0.54775 group/auc:0.47242 group/pos_ratio:0.15247 group/top1_score:31.51399 group/top3_score:29.21355 group/time_auc:0.47299 group/weighted_time_auc:0.48752 group/top1_best:138.19584 group/top3_best:62.91905 group/top1_rate:0.22804 group/top3_rate:0.46430 group/top1_click:0.23171 group/top3_click:0.23712 group/top1_click_best:1.00000 group/top3_click_best:0.53362 group/top1_click_rate:0.23171 group/top3_click_rate:0.44437 group/click/auc:0.00000 group/click/pos_ratio:0.00000 group/click/top1_score:120.33716 group/click/top3_score:112.49042 group/click/time_auc:0.54016 group/click/weighted_time_auc:0.64067 group/click/top1_best:138.19584 group/click/top3_best:117.91071 group/click/top1_rate:0.87077 group/click/top3_rate:0.95403 group/click/top1_click:1.00000 group/click/top3_click:1.00000 group/click/top1_click_best:1.00000 group/click/top3_click_best:1.00000 group/click/top1_click_rate:1.00000 group/click/top3_click_rate:1.00000 click_ratio:0.07774 time_per_show:8.57990 time_per_click:110.36626 time_per_user:60.48569 version:video'],\n",
       " ['valid_online_abid4,5,6',\n",
       "  '2019111112',\n",
       "  'video',\n",
       "  'pos_ratio:0.08866 auc:0.55087 time_auc:0.55086 weighted_time_auc:0.61512 click/time_auc:0.55035 click/weighted_time_auc:0.57291 group/auc:0.48434 group/pos_ratio:0.15499 group/top1_score:33.58236 group/top3_score:30.68026 group/time_auc:0.48551 group/weighted_time_auc:0.49536 group/top1_best:151.14091 group/top3_best:69.19319 group/top1_rate:0.22219 group/top3_rate:0.44340 group/top1_click:0.23348 group/top3_click:0.23036 group/top1_click_best:1.00000 group/top3_click_best:0.54683 group/top1_click_rate:0.23348 group/top3_click_rate:0.42127 group/click/auc:0.00000 group/click/pos_ratio:0.00000 group/click/top1_score:126.41399 group/click/top3_score:118.75522 group/click/time_auc:0.53763 group/click/weighted_time_auc:0.61841 group/click/top1_best:151.14091 group/click/top3_best:126.53560 group/click/top1_rate:0.83640 group/click/top3_rate:0.93851 group/click/top1_click:1.00000 group/click/top3_click:1.00000 group/click/top1_click_best:1.00000 group/click/top3_click_best:1.00000 group/click/top1_click_rate:1.00000 group/click/top3_click_rate:1.00000 click_ratio:0.08866 time_per_show:10.24497 time_per_click:115.55268 time_per_user:80.55498 version:video'],\n",
       " ['valid_online_abid4,5,6',\n",
       "  '2019111103',\n",
       "  'video',\n",
       "  'pos_ratio:0.00390 auc:0.49656 time_auc:0.49656 weighted_time_auc:0.52931 click/time_auc:0.49741 click/weighted_time_auc:0.36447 group/auc:0.46911 group/pos_ratio:0.11835 group/top1_score:17.21585 group/top3_score:14.93951 group/time_auc:0.46837 group/weighted_time_auc:0.47447 group/top1_best:101.09016 group/top3_best:45.04575 group/top1_rate:0.17030 group/top3_rate:0.33165 group/top1_click:0.25319 group/top3_click:0.24163 group/top1_click_best:1.00000 group/top3_click_best:0.53577 group/top1_click_rate:0.25319 group/top3_click_rate:0.45100 group/click/auc:0.00000 group/click/pos_ratio:0.00000 group/click/top1_score:85.94171 group/click/top3_score:80.68367 group/click/time_auc:0.48938 group/click/weighted_time_auc:0.67205 group/click/top1_best:101.09016 group/click/top3_best:84.07679 group/click/top1_rate:0.85015 group/click/top3_rate:0.95964 group/click/top1_click:1.00000 group/click/top3_click:1.00000 group/click/top1_click_best:1.00000 group/click/top3_click_best:1.00000 group/click/top1_click_rate:1.00000 group/click/top3_click_rate:1.00000 click_ratio:0.00390 time_per_show:0.31280 time_per_click:80.27709 time_per_user:2.42854 version:video'],\n",
       " ['valid_online_abid4,5,6',\n",
       "  '2019111114',\n",
       "  'video',\n",
       "  'pos_ratio:0.08376 auc:0.54780 time_auc:0.54737 weighted_time_auc:0.60567 click/time_auc:0.53726 click/weighted_time_auc:0.54541 group/auc:0.47174 group/pos_ratio:0.15018 group/top1_score:33.14123 group/top3_score:29.02276 group/time_auc:0.46917 group/weighted_time_auc:0.48682 group/top1_best:141.43173 group/top3_best:66.75639 group/top1_rate:0.23433 group/top3_rate:0.43476 group/top1_click:0.23059 group/top3_click:0.22898 group/top1_click_best:1.00000 group/top3_click_best:0.56352 group/top1_click_rate:0.23059 group/top3_click_rate:0.40635 group/click/auc:0.00000 group/click/pos_ratio:0.00000 group/click/top1_score:119.32697 group/click/top3_score:111.41603 group/click/time_auc:0.55687 group/click/weighted_time_auc:0.65105 group/click/top1_best:141.43173 group/click/top3_best:118.46404 group/click/top1_rate:0.84371 group/click/top3_rate:0.94051 group/click/top1_click:1.00000 group/click/top3_click:1.00000 group/click/top1_click_best:1.00000 group/click/top3_click_best:1.00000 group/click/top1_click_rate:1.00000 group/click/top3_click_rate:1.00000 click_ratio:0.08376 time_per_show:9.04240 time_per_click:107.95731 time_per_user:72.37087 version:video'],\n",
       " ['valid_online_abid4,5,6',\n",
       "  '2019111115',\n",
       "  'video',\n",
       "  'pos_ratio:0.08463 auc:0.56698 time_auc:0.56521 weighted_time_auc:0.62007 click/time_auc:0.52555 click/weighted_time_auc:0.52722 group/auc:0.48694 group/pos_ratio:0.15166 group/top1_score:37.06917 group/top3_score:31.78526 group/time_auc:0.48863 group/weighted_time_auc:0.50219 group/top1_best:149.06362 group/top3_best:70.26096 group/top1_rate:0.24868 group/top3_rate:0.45239 group/top1_click:0.23719 group/top3_click:0.22932 group/top1_click_best:1.00000 group/top3_click_best:0.55357 group/top1_click_rate:0.23719 group/top3_click_rate:0.41425 group/click/auc:0.00000 group/click/pos_ratio:0.00000 group/click/top1_score:126.56346 group/click/top3_score:119.33054 group/click/time_auc:0.55781 group/click/weighted_time_auc:0.65053 group/click/top1_best:149.06362 group/click/top3_best:126.92303 group/click/top1_rate:0.84906 group/click/top3_rate:0.94018 group/click/top1_click:1.00000 group/click/top3_click:1.00000 group/click/top1_click_best:1.00000 group/click/top3_click_best:1.00000 group/click/top1_click_rate:1.00000 group/click/top3_click_rate:1.00000 click_ratio:0.08463 time_per_show:9.70451 time_per_click:114.66381 time_per_user:77.90882 version:video'],\n",
       " ['valid_online_abid4,5,6',\n",
       "  '2019111116',\n",
       "  'video',\n",
       "  'pos_ratio:0.08566 auc:0.56731 time_auc:0.56513 weighted_time_auc:0.61510 click/time_auc:0.51690 click/weighted_time_auc:0.52475 group/auc:0.47698 group/pos_ratio:0.15485 group/top1_score:35.59065 group/top3_score:30.74501 group/time_auc:0.47970 group/weighted_time_auc:0.49079 group/top1_best:145.33695 group/top3_best:67.39847 group/top1_rate:0.24488 group/top3_rate:0.45617 group/top1_click:0.23593 group/top3_click:0.23034 group/top1_click_best:1.00000 group/top3_click_best:0.55838 group/top1_click_rate:0.23593 group/top3_click_rate:0.41251 group/click/auc:0.00000 group/click/pos_ratio:0.00000 group/click/top1_score:122.28891 group/click/top3_score:113.90474 group/click/time_auc:0.54303 group/click/weighted_time_auc:0.61987 group/click/top1_best:145.33695 group/click/top3_best:120.70278 group/click/top1_rate:0.84142 group/click/top3_rate:0.94368 group/click/top1_click:1.00000 group/click/top3_click:1.00000 group/click/top1_click_best:1.00000 group/click/top3_click_best:1.00000 group/click/top1_click_rate:1.00000 group/click/top3_click_rate:1.00000 click_ratio:0.08566 time_per_show:9.23112 time_per_click:107.76591 time_per_user:71.40408 version:video'],\n",
       " ['valid_online_abid4,5,6',\n",
       "  '2019111117',\n",
       "  'video',\n",
       "  'pos_ratio:0.08599 auc:0.55165 time_auc:0.55022 weighted_time_auc:0.59727 click/time_auc:0.51895 click/weighted_time_auc:0.52367 group/auc:0.47586 group/pos_ratio:0.15243 group/top1_score:32.69511 group/top3_score:28.12602 group/time_auc:0.47717 group/weighted_time_auc:0.48712 group/top1_best:140.35575 group/top3_best:64.27024 group/top1_rate:0.23294 group/top3_rate:0.43762 group/top1_click:0.23255 group/top3_click:0.22422 group/top1_click_best:1.00000 group/top3_click_best:0.56066 group/top1_click_rate:0.23255 group/top3_click_rate:0.39993 group/click/auc:0.00000 group/click/pos_ratio:0.00000 group/click/top1_score:116.86211 group/click/top3_score:107.18041 group/click/time_auc:0.52796 group/click/weighted_time_auc:0.60795 group/click/top1_best:140.35575 group/click/top3_best:114.63360 group/click/top1_rate:0.83261 group/click/top3_rate:0.93498 group/click/top1_click:1.00000 group/click/top3_click:1.00000 group/click/top1_click_best:1.00000 group/click/top3_click_best:1.00000 group/click/top1_click_rate:1.00000 group/click/top3_click_rate:1.00000 click_ratio:0.08599 time_per_show:8.94510 time_per_click:104.02351 time_per_user:70.06046 version:video'],\n",
       " ['valid_online_abid4,5,6',\n",
       "  '2019111118',\n",
       "  'video',\n",
       "  'pos_ratio:0.08430 auc:0.56318 time_auc:0.56218 weighted_time_auc:0.62596 click/time_auc:0.53930 click/weighted_time_auc:0.56476 group/auc:0.48341 group/pos_ratio:0.14542 group/top1_score:36.97447 group/top3_score:30.47510 group/time_auc:0.48563 group/weighted_time_auc:0.49396 group/top1_best:155.51884 group/top3_best:71.70417 group/top1_rate:0.23775 group/top3_rate:0.42501 group/top1_click:0.23705 group/top3_click:0.22223 group/top1_click_best:1.00000 group/top3_click_best:0.55756 group/top1_click_rate:0.23705 group/top3_click_rate:0.39858 group/click/auc:0.00000 group/click/pos_ratio:0.00000 group/click/top1_score:128.65232 group/click/top3_score:120.76446 group/click/time_auc:0.52801 group/click/weighted_time_auc:0.59055 group/click/top1_best:155.51884 group/click/top3_best:128.60294 group/click/top1_rate:0.82725 group/click/top3_rate:0.93905 group/click/top1_click:1.00000 group/click/top3_click:1.00000 group/click/top1_click_best:1.00000 group/click/top3_click_best:1.00000 group/click/top1_click_rate:1.00000 group/click/top3_click_rate:1.00000 click_ratio:0.08430 time_per_show:9.77958 time_per_click:116.00523 time_per_user:82.01650 version:video'],\n",
       " ['valid_online_abid4,5,6',\n",
       "  '2019111119',\n",
       "  'video',\n",
       "  'pos_ratio:0.08818 auc:0.54402 time_auc:0.54434 weighted_time_auc:0.61169 click/time_auc:0.55033 click/weighted_time_auc:0.58071 group/auc:0.46879 group/pos_ratio:0.14559 group/top1_score:34.74425 group/top3_score:32.73738 group/time_auc:0.47029 group/weighted_time_auc:0.48908 group/top1_best:167.88688 group/top3_best:79.09330 group/top1_rate:0.20695 group/top3_rate:0.41391 group/top1_click:0.21347 group/top3_click:0.21336 group/top1_click_best:1.00000 group/top3_click_best:0.56911 group/top1_click_rate:0.21347 group/top3_click_rate:0.37489 group/click/auc:0.00000 group/click/pos_ratio:0.00000 group/click/top1_score:136.80325 group/click/top3_score:129.59489 group/click/time_auc:0.54934 group/click/weighted_time_auc:0.61256 group/click/top1_best:167.88688 group/click/top3_best:138.97727 group/click/top1_rate:0.81485 group/click/top3_rate:0.93249 group/click/top1_click:1.00000 group/click/top3_click:1.00000 group/click/top1_click_best:1.00000 group/click/top3_click_best:1.00000 group/click/top1_click_rate:1.00000 group/click/top3_click_rate:1.00000 click_ratio:0.08818 time_per_show:10.86306 time_per_click:123.18771 time_per_user:94.99276 version:video'],\n",
       " ['valid_online_abid4,5,6', '2019111120', 'video'],\n",
       " ['valid_online_abid4,5,6',\n",
       "  '2019111121',\n",
       "  'video',\n",
       "  'pos_ratio:0.08593 auc:0.56464 time_auc:0.56501 weighted_time_auc:0.64459 click/time_auc:0.57238 click/weighted_time_auc:0.61854 group/auc:0.50287 group/pos_ratio:0.13252 group/top1_score:45.03024 group/top3_score:38.67622 group/time_auc:0.50497 group/weighted_time_auc:0.52266 group/top1_best:197.13677 group/top3_best:93.87490 group/top1_rate:0.22842 group/top3_rate:0.41200 group/top1_click:0.22707 group/top3_click:0.20952 group/top1_click_best:1.00000 group/top3_click_best:0.57125 group/top1_click_rate:0.22707 group/top3_click_rate:0.36677 group/click/auc:0.00000 group/click/pos_ratio:0.00000 group/click/top1_score:163.61688 group/click/top3_score:153.42843 group/click/time_auc:0.55416 group/click/weighted_time_auc:0.61659 group/click/top1_best:197.13677 group/click/top3_best:164.33276 group/click/top1_rate:0.82997 group/click/top3_rate:0.93364 group/click/top1_click:1.00000 group/click/top3_click:1.00000 group/click/top1_click_best:1.00000 group/click/top3_click_best:1.00000 group/click/top1_click_rate:1.00000 group/click/top3_click_rate:1.00000 click_ratio:0.08593 time_per_show:12.39720 time_per_click:144.27668 time_per_user:121.51268 version:video'],\n",
       " ['valid_online_abid4,5,6',\n",
       "  '2019111122',\n",
       "  'video',\n",
       "  'pos_ratio:0.07911 auc:0.54868 time_auc:0.55012 weighted_time_auc:0.63864 click/time_auc:0.58352 click/weighted_time_auc:0.63180 group/auc:0.49124 group/pos_ratio:0.13280 group/top1_score:47.01756 group/top3_score:39.18682 group/time_auc:0.49312 group/weighted_time_auc:0.51083 group/top1_best:195.30187 group/top3_best:91.55619 group/top1_rate:0.24074 group/top3_rate:0.42801 group/top1_click:0.23644 group/top3_click:0.20952 group/top1_click_best:1.00000 group/top3_click_best:0.56251 group/top1_click_rate:0.23644 group/top3_click_rate:0.37248 group/click/auc:0.00000 group/click/pos_ratio:0.00000 group/click/top1_score:165.69791 group/click/top3_score:153.09684 group/click/time_auc:0.56305 group/click/weighted_time_auc:0.63411 group/click/top1_best:195.30187 group/click/top3_best:162.76243 group/click/top1_rate:0.84842 group/click/top3_rate:0.94062 group/click/top1_click:1.00000 group/click/top3_click:1.00000 group/click/top1_click_best:1.00000 group/click/top3_click_best:1.00000 group/click/top1_click_rate:1.00000 group/click/top3_click_rate:1.00000 click_ratio:0.07911 time_per_show:11.38731 time_per_click:143.94535 time_per_user:107.57065 version:video'],\n",
       " ['valid_online_abid4,5,6',\n",
       "  '2019111123',\n",
       "  'video',\n",
       "  'pos_ratio:0.08150 auc:0.55726 time_auc:0.55770 weighted_time_auc:0.63761 click/time_auc:0.56719 click/weighted_time_auc:0.61557 group/auc:0.48318 group/pos_ratio:0.13505 group/top1_score:46.91692 group/top3_score:38.33948 group/time_auc:0.48469 group/weighted_time_auc:0.50075 group/top1_best:187.16263 group/top3_best:88.46253 group/top1_rate:0.25067 group/top3_rate:0.43340 group/top1_click:0.23481 group/top3_click:0.21850 group/top1_click_best:1.00000 group/top3_click_best:0.56762 group/top1_click_rate:0.23481 group/top3_click_rate:0.38495 group/click/auc:0.00000 group/click/pos_ratio:0.00000 group/click/top1_score:158.66303 group/click/top3_score:145.39144 group/click/time_auc:0.55219 group/click/weighted_time_auc:0.61744 group/click/top1_best:187.16263 group/click/top3_best:155.84782 group/click/top1_rate:0.84773 group/click/top3_rate:0.93291 group/click/top1_click:1.00000 group/click/top3_click:1.00000 group/click/top1_click_best:1.00000 group/click/top3_click_best:1.00000 group/click/top1_click_rate:1.00000 group/click/top3_click_rate:1.00000 click_ratio:0.08150 time_per_show:11.25602 time_per_click:138.10225 time_per_user:105.24274 version:video'],\n",
       " ['valid_online_abid4,5,6',\n",
       "  '2019111200',\n",
       "  'video',\n",
       "  'pos_ratio:0.08932 auc:0.55737 time_auc:0.55652 weighted_time_auc:0.61417 click/time_auc:0.53801 click/weighted_time_auc:0.53225 group/auc:0.49720 group/pos_ratio:0.15350 group/top1_score:36.25062 group/top3_score:31.65687 group/time_auc:0.49786 group/weighted_time_auc:0.51572 group/top1_best:150.78559 group/top3_best:72.95047 group/top1_rate:0.24041 group/top3_rate:0.43395 group/top1_click:0.26979 group/top3_click:0.24636 group/top1_click_best:1.00000 group/top3_click_best:0.56542 group/top1_click_rate:0.26979 group/top3_click_rate:0.43571 group/click/auc:0.00000 group/click/pos_ratio:0.00000 group/click/top1_score:126.07561 group/click/top3_score:119.98566 group/click/time_auc:0.53343 group/click/weighted_time_auc:0.62304 group/click/top1_best:150.78559 group/click/top3_best:129.01971 group/click/top1_rate:0.83613 group/click/top3_rate:0.92998 group/click/top1_click:1.00000 group/click/top3_click:1.00000 group/click/top1_click_best:1.00000 group/click/top3_click_best:1.00000 group/click/top1_click_rate:1.00000 group/click/top3_click_rate:1.00000 click_ratio:0.08932 time_per_show:10.43145 time_per_click:116.78630 time_per_user:82.90156 version:video'],\n",
       " ['valid_online_abid4,5,6',\n",
       "  '2019111201',\n",
       "  'video',\n",
       "  'pos_ratio:0.09934 auc:0.57106 time_auc:0.56775 weighted_time_auc:0.60776 click/time_auc:0.50540 click/weighted_time_auc:0.45211 group/auc:0.49434 group/pos_ratio:0.16267 group/top1_score:35.83207 group/top3_score:29.42878 group/time_auc:0.49592 group/weighted_time_auc:0.50586 group/top1_best:134.57237 group/top3_best:65.73868 group/top1_rate:0.26627 group/top3_rate:0.44766 group/top1_click:0.31770 group/top3_click:0.28488 group/top1_click_best:1.00000 group/top3_click_best:0.57232 group/top1_click_rate:0.31770 group/top3_click_rate:0.49777 group/click/auc:0.00000 group/click/pos_ratio:0.00000 group/click/top1_score:112.16087 group/click/top3_score:107.00319 group/click/time_auc:0.54186 group/click/weighted_time_auc:0.64030 group/click/top1_best:134.57237 group/click/top3_best:114.86439 group/click/top1_rate:0.83346 group/click/top3_rate:0.93156 group/click/top1_click:1.00000 group/click/top3_click:1.00000 group/click/top1_click_best:1.00000 group/click/top3_click_best:1.00000 group/click/top1_click_rate:1.00000 group/click/top3_click_rate:1.00000 click_ratio:0.09934 time_per_show:10.58929 time_per_click:106.59766 time_per_user:84.56595 version:video'],\n",
       " ['valid_online_abid4,5,6',\n",
       "  '2019111202',\n",
       "  'video',\n",
       "  'pos_ratio:0.11261 auc:0.61097 time_auc:0.60297 weighted_time_auc:0.62003 click/time_auc:0.47063 click/weighted_time_auc:0.33666 group/auc:0.52696 group/pos_ratio:0.16875 group/top1_score:23.70394 group/top3_score:22.56133 group/time_auc:0.52471 group/weighted_time_auc:0.54094 group/top1_best:96.98578 group/top3_best:48.26959 group/top1_rate:0.24441 group/top3_rate:0.46740 group/top1_click:0.37298 group/top3_click:0.33186 group/top1_click_best:1.00000 group/top3_click_best:0.57649 group/top1_click_rate:0.37298 group/top3_click_rate:0.57565 group/click/auc:0.00000 group/click/pos_ratio:0.00000 group/click/top1_score:80.20297 group/click/top3_score:79.17557 group/click/time_auc:0.51599 group/click/weighted_time_auc:0.69439 group/click/top1_best:96.98578 group/click/top3_best:83.72977 group/click/top1_rate:0.82696 group/click/top3_rate:0.94561 group/click/top1_click:1.00000 group/click/top3_click:1.00000 group/click/top1_click_best:1.00000 group/click/top3_click_best:1.00000 group/click/top1_click_rate:1.00000 group/click/top3_click_rate:1.00000 click_ratio:0.11261 time_per_show:8.97682 time_per_click:79.71935 time_per_user:71.07994 version:video'],\n",
       " ['valid_online_abid4,5,6',\n",
       "  '2019111203',\n",
       "  'video',\n",
       "  'pos_ratio:0.12887 auc:0.58841 time_auc:0.58089 weighted_time_auc:0.57753 click/time_auc:0.47402 click/weighted_time_auc:0.29996 group/auc:0.51358 group/pos_ratio:0.19483 group/top1_score:21.07182 group/top3_score:20.10980 group/time_auc:0.51041 group/weighted_time_auc:0.52518 group/top1_best:91.43794 group/top3_best:44.79963 group/top1_rate:0.23045 group/top3_rate:0.44888 group/top1_click:0.31928 group/top3_click:0.32968 group/top1_click_best:1.00000 group/top3_click_best:0.59498 group/top1_click_rate:0.31928 group/top3_click_rate:0.55411 group/click/auc:0.00000 group/click/pos_ratio:0.00000 group/click/top1_score:72.53708 group/click/top3_score:70.25864 group/click/time_auc:0.51526 group/click/weighted_time_auc:0.69655 group/click/top1_best:91.43794 group/click/top3_best:75.29636 group/click/top1_rate:0.79329 group/click/top3_rate:0.93309 group/click/top1_click:1.00000 group/click/top3_click:1.00000 group/click/top1_click_best:1.00000 group/click/top3_click_best:1.00000 group/click/top1_click_rate:1.00000 group/click/top3_click_rate:1.00000 click_ratio:0.12887 time_per_show:9.31506 time_per_click:72.27997 time_per_user:76.79376 version:video'],\n",
       " ['valid_online_abid4,5,6',\n",
       "  '2019111204',\n",
       "  'video',\n",
       "  'pos_ratio:0.11565 auc:0.55726 time_auc:0.55185 weighted_time_auc:0.57205 click/time_auc:0.46583 click/weighted_time_auc:0.36546 group/auc:0.51397 group/pos_ratio:0.18628 group/top1_score:24.81703 group/top3_score:20.77412 group/time_auc:0.51070 group/weighted_time_auc:0.52699 group/top1_best:99.82631 group/top3_best:47.53871 group/top1_rate:0.24860 group/top3_rate:0.43699 group/top1_click:0.32040 group/top3_click:0.29925 group/top1_click_best:1.00000 group/top3_click_best:0.56412 group/top1_click_rate:0.32040 group/top3_click_rate:0.53047 group/click/auc:0.00000 group/click/pos_ratio:0.00000 group/click/top1_score:84.97555 group/click/top3_score:79.73016 group/click/time_auc:0.49532 group/click/weighted_time_auc:0.67627 group/click/top1_best:99.82631 group/click/top3_best:84.26984 group/click/top1_rate:0.85123 group/click/top3_rate:0.94613 group/click/top1_click:1.00000 group/click/top3_click:1.00000 group/click/top1_click_best:1.00000 group/click/top3_click_best:1.00000 group/click/top1_click_rate:1.00000 group/click/top3_click_rate:1.00000 click_ratio:0.11565 time_per_show:9.35964 time_per_click:80.93357 time_per_user:73.46432 version:video'],\n",
       " ['valid_online_abid4,5,6',\n",
       "  '2019111205',\n",
       "  'video',\n",
       "  'pos_ratio:0.09908 auc:0.55187 time_auc:0.54943 weighted_time_auc:0.59904 click/time_auc:0.50351 click/weighted_time_auc:0.44110 group/auc:0.50296 group/pos_ratio:0.18348 group/top1_score:28.48780 group/top3_score:23.73157 group/time_auc:0.50057 group/weighted_time_auc:0.51083 group/top1_best:111.51638 group/top3_best:51.26074 group/top1_rate:0.25546 group/top3_rate:0.46296 group/top1_click:0.30314 group/top3_click:0.29436 group/top1_click_best:1.00000 group/top3_click_best:0.55606 group/top1_click_rate:0.30314 group/top3_click_rate:0.52936 group/click/auc:0.00000 group/click/pos_ratio:0.00000 group/click/top1_score:94.76446 group/click/top3_score:87.07556 group/click/time_auc:0.50744 group/click/weighted_time_auc:0.67146 group/click/top1_best:111.51638 group/click/top3_best:92.18523 group/click/top1_rate:0.84978 group/click/top3_rate:0.94457 group/click/top1_click:1.00000 group/click/top3_click:1.00000 group/click/top1_click_best:1.00000 group/click/top3_click_best:1.00000 group/click/top1_click_rate:1.00000 group/click/top3_click_rate:1.00000 click_ratio:0.09908 time_per_show:8.64121 time_per_click:87.21396 time_per_user:64.87564 version:video'],\n",
       " ['valid_online_abid4,5,6',\n",
       "  '2019111206',\n",
       "  'video',\n",
       "  'pos_ratio:0.08294 auc:0.55465 time_auc:0.55198 weighted_time_auc:0.57923 click/time_auc:0.49160 click/weighted_time_auc:0.43326 group/auc:0.50618 group/pos_ratio:0.15989 group/top1_score:29.66979 group/top3_score:25.68178 group/time_auc:0.50544 group/weighted_time_auc:0.50737 group/top1_best:127.53369 group/top3_best:56.97518 group/top1_rate:0.23264 group/top3_rate:0.45075 group/top1_click:0.25569 group/top3_click:0.25424 group/top1_click_best:1.00000 group/top3_click_best:0.53932 group/top1_click_rate:0.25569 group/top3_click_rate:0.47141 group/click/auc:0.00000 group/click/pos_ratio:0.00000 group/click/top1_score:107.27755 group/click/top3_score:99.85420 group/click/time_auc:0.50346 group/click/weighted_time_auc:0.61228 group/click/top1_best:127.53369 group/click/top3_best:105.64351 group/click/top1_rate:0.84117 group/click/top3_rate:0.94520 group/click/top1_click:1.00000 group/click/top3_click:1.00000 group/click/top1_click_best:1.00000 group/click/top3_click_best:1.00000 group/click/top1_click_rate:1.00000 group/click/top3_click_rate:1.00000 click_ratio:0.08294 time_per_show:8.16896 time_per_click:98.48960 time_per_user:59.54693 version:video'],\n",
       " ['valid_online_abid4,5,6',\n",
       "  '2019111207',\n",
       "  'video',\n",
       "  'pos_ratio:0.08318 auc:0.54267 time_auc:0.54177 weighted_time_auc:0.58858 click/time_auc:0.52146 click/weighted_time_auc:0.50965 group/auc:0.49029 group/pos_ratio:0.16360 group/top1_score:31.26550 group/top3_score:28.71036 group/time_auc:0.48953 group/weighted_time_auc:0.50379 group/top1_best:135.81266 group/top3_best:61.13864 group/top1_rate:0.23021 group/top3_rate:0.46959 group/top1_click:0.25000 group/top3_click:0.24914 group/top1_click_best:1.00000 group/top3_click_best:0.54095 group/top1_click_rate:0.25000 group/top3_click_rate:0.46056 group/click/auc:0.00000 group/click/pos_ratio:0.00000 group/click/top1_score:115.39578 group/click/top3_score:107.15141 group/click/time_auc:0.52859 group/click/weighted_time_auc:0.63449 group/click/top1_best:135.81266 group/click/top3_best:113.02051 group/click/top1_rate:0.84967 group/click/top3_rate:0.94807 group/click/top1_click:1.00000 group/click/top3_click:1.00000 group/click/top1_click_best:1.00000 group/click/top3_click_best:1.00000 group/click/top1_click_rate:1.00000 group/click/top3_click_rate:1.00000 click_ratio:0.08318 time_per_show:8.81357 time_per_click:105.96029 time_per_user:61.69501 version:video'],\n",
       " ['valid_online_abid4,5,6',\n",
       "  '2019111208',\n",
       "  'video',\n",
       "  'pos_ratio:0.08311 auc:0.55442 time_auc:0.55229 weighted_time_auc:0.58961 click/time_auc:0.50422 click/weighted_time_auc:0.47896 group/auc:0.49748 group/pos_ratio:0.16128 group/top1_score:33.94018 group/top3_score:30.05489 group/time_auc:0.49737 group/weighted_time_auc:0.50814 group/top1_best:138.54291 group/top3_best:63.47255 group/top1_rate:0.24498 group/top3_rate:0.47351 group/top1_click:0.26333 group/top3_click:0.25898 group/top1_click_best:1.00000 group/top3_click_best:0.54902 group/top1_click_rate:0.26333 group/top3_click_rate:0.47171 group/click/auc:0.00000 group/click/pos_ratio:0.00000 group/click/top1_score:116.20741 group/click/top3_score:109.28492 group/click/time_auc:0.52369 group/click/weighted_time_auc:0.62433 group/click/top1_best:138.54291 group/click/top3_best:115.61119 group/click/top1_rate:0.83878 group/click/top3_rate:0.94528 group/click/top1_click:1.00000 group/click/top3_click:1.00000 group/click/top1_click_best:1.00000 group/click/top3_click_best:1.00000 group/click/top1_click_rate:1.00000 group/click/top3_click_rate:1.00000 click_ratio:0.08311 time_per_show:8.86359 time_per_click:106.64487 time_per_user:64.15518 version:video'],\n",
       " ['valid_online_abid4,5,6',\n",
       "  '2019111209',\n",
       "  'video',\n",
       "  'pos_ratio:0.08504 auc:0.55611 time_auc:0.55449 weighted_time_auc:0.60204 click/time_auc:0.51861 click/weighted_time_auc:0.50385 group/auc:0.50579 group/pos_ratio:0.16199 group/top1_score:34.61396 group/top3_score:30.13091 group/time_auc:0.50501 group/weighted_time_auc:0.51623 group/top1_best:141.71783 group/top3_best:64.80874 group/top1_rate:0.24425 group/top3_rate:0.46492 group/top1_click:0.25703 group/top3_click:0.25367 group/top1_click_best:1.00000 group/top3_click_best:0.55266 group/top1_click_rate:0.25703 group/top3_click_rate:0.45900 group/click/auc:0.00000 group/click/pos_ratio:0.00000 group/click/top1_score:117.61561 group/click/top3_score:110.54536 group/click/time_auc:0.52364 group/click/weighted_time_auc:0.62704 group/click/top1_best:141.71783 group/click/top3_best:117.26656 group/click/top1_rate:0.82993 group/click/top3_rate:0.94268 group/click/top1_click:1.00000 group/click/top3_click:1.00000 group/click/top1_click_best:1.00000 group/click/top3_click_best:1.00000 group/click/top1_click_rate:1.00000 group/click/top3_click_rate:1.00000 click_ratio:0.08504 time_per_show:9.29970 time_per_click:109.36250 time_per_user:68.02806 version:video'],\n",
       " ['valid_online_abid4,5,6',\n",
       "  '2019111210',\n",
       "  'video',\n",
       "  'pos_ratio:0.08206 auc:0.55157 time_auc:0.55032 weighted_time_auc:0.59447 click/time_auc:0.52159 click/weighted_time_auc:0.50514 group/auc:0.49832 group/pos_ratio:0.15364 group/top1_score:28.26372 group/top3_score:27.38886 group/time_auc:0.49876 group/weighted_time_auc:0.51307 group/top1_best:136.92931 group/top3_best:63.77280 group/top1_rate:0.20641 group/top3_rate:0.42948 group/top1_click:0.23499 group/top3_click:0.24394 group/top1_click_best:1.00000 group/top3_click_best:0.55130 group/top1_click_rate:0.23499 group/top3_click_rate:0.44249 group/click/auc:0.00000 group/click/pos_ratio:0.00000 group/click/top1_score:114.63654 group/click/top3_score:108.99656 group/click/time_auc:0.53506 group/click/weighted_time_auc:0.63995 group/click/top1_best:136.92931 group/click/top3_best:115.67699 group/click/top1_rate:0.83720 group/click/top3_rate:0.94225 group/click/top1_click:1.00000 group/click/top3_click:1.00000 group/click/top1_click_best:1.00000 group/click/top3_click_best:1.00000 group/click/top1_click_rate:1.00000 group/click/top3_click_rate:1.00000 click_ratio:0.08206 time_per_show:8.73976 time_per_click:106.50420 time_per_user:66.58699 version:video'],\n",
       " ['valid_online_abid4,5,6',\n",
       "  '2019111211',\n",
       "  'video',\n",
       "  'pos_ratio:0.08398 auc:0.55530 time_auc:0.55418 weighted_time_auc:0.61029 click/time_auc:0.52897 click/weighted_time_auc:0.53420 group/auc:0.50036 group/pos_ratio:0.15701 group/top1_score:36.17789 group/top3_score:30.41160 group/time_auc:0.50167 group/weighted_time_auc:0.51255 group/top1_best:143.42695 group/top3_best:65.68027 group/top1_rate:0.25224 group/top3_rate:0.46302 group/top1_click:0.25401 group/top3_click:0.24388 group/top1_click_best:1.00000 group/top3_click_best:0.55304 group/top1_click_rate:0.25401 group/top3_click_rate:0.44098 group/click/auc:0.00000 group/click/pos_ratio:0.00000 group/click/top1_score:120.56080 group/click/top3_score:112.16740 group/click/time_auc:0.53760 group/click/weighted_time_auc:0.62235 group/click/top1_best:143.42695 group/click/top3_best:118.76284 group/click/top1_rate:0.84057 group/click/top3_rate:0.94447 group/click/top1_click:1.00000 group/click/top3_click:1.00000 group/click/top1_click_best:1.00000 group/click/top3_click_best:1.00000 group/click/top1_click_rate:1.00000 group/click/top3_click_rate:1.00000 click_ratio:0.08398 time_per_show:9.14682 time_per_click:108.91089 time_per_user:68.83878 version:video'],\n",
       " ['valid_online_abid4,5,6',\n",
       "  '2019111212',\n",
       "  'video',\n",
       "  'pos_ratio:0.09007 auc:0.54677 time_auc:0.54599 weighted_time_auc:0.59871 click/time_auc:0.52980 click/weighted_time_auc:0.53515 group/auc:0.48603 group/pos_ratio:0.16020 group/top1_score:37.31764 group/top3_score:32.44930 group/time_auc:0.48692 group/weighted_time_auc:0.49616 group/top1_best:152.31919 group/top3_best:69.27170 group/top1_rate:0.24500 group/top3_rate:0.46844 group/top1_click:0.25344 group/top3_click:0.24272 group/top1_click_best:1.00000 group/top3_click_best:0.55593 group/top1_click_rate:0.25344 group/top3_click_rate:0.43659 group/click/auc:0.00000 group/click/pos_ratio:0.00000 group/click/top1_score:126.51133 group/click/top3_score:116.64735 group/click/time_auc:0.52252 group/click/weighted_time_auc:0.59664 group/click/top1_best:152.31919 group/click/top3_best:124.60476 group/click/top1_rate:0.83057 group/click/top3_rate:0.93614 group/click/top1_click:1.00000 group/click/top3_click:1.00000 group/click/top1_click_best:1.00000 group/click/top3_click_best:1.00000 group/click/top1_click_rate:1.00000 group/click/top3_click_rate:1.00000 click_ratio:0.09007 time_per_show:10.15303 time_per_click:112.72414 time_per_user:77.71965 version:video'],\n",
       " ['valid_online_abid4,5,6', '2019111213', 'video'],\n",
       " ['valid_online_abid4,5,6', '2019111213', 'video'],\n",
       " ['valid_online_abid4,5,6',\n",
       "  '2019111213',\n",
       "  'video',\n",
       "  'pos_ratio:0.08812 auc:0.54922 time_auc:0.54822 weighted_time_auc:0.60318 click/time_auc:0.52674 click/weighted_time_auc:0.54609 group/auc:0.49314 group/pos_ratio:0.15366 group/top1_score:34.93654 group/top3_score:30.20349 group/time_auc:0.49449 group/weighted_time_auc:0.50601 group/top1_best:146.34918 group/top3_best:67.19963 group/top1_rate:0.23872 group/top3_rate:0.44946 group/top1_click:0.23793 group/top3_click:0.23704 group/top1_click_best:1.00000 group/top3_click_best:0.56219 group/top1_click_rate:0.23793 group/top3_click_rate:0.42163 group/click/auc:0.00000 group/click/pos_ratio:0.00000 group/click/top1_score:122.63793 group/click/top3_score:112.58819 group/click/time_auc:0.54155 group/click/weighted_time_auc:0.62851 group/click/top1_best:146.34918 group/click/top3_best:119.53116 group/click/top1_rate:0.83798 group/click/top3_rate:0.94191 group/click/top1_click:1.00000 group/click/top3_click:1.00000 group/click/top1_click_best:1.00000 group/click/top3_click_best:1.00000 group/click/top1_click_rate:1.00000 group/click/top3_click_rate:1.00000 click_ratio:0.08812 time_per_show:9.58716 time_per_click:108.79171 time_per_user:76.96500 version:video'],\n",
       " ['valid_online_abid4,5,6',\n",
       "  '2019111214',\n",
       "  'video',\n",
       "  'pos_ratio:0.08318 auc:0.55506 time_auc:0.55292 weighted_time_auc:0.58992 click/time_auc:0.50475 click/weighted_time_auc:0.49439 group/auc:0.48677 group/pos_ratio:0.15142 group/top1_score:31.14655 group/top3_score:27.59141 group/time_auc:0.48685 group/weighted_time_auc:0.49610 group/top1_best:135.04998 group/top3_best:62.05627 group/top1_rate:0.23063 group/top3_rate:0.44462 group/top1_click:0.23801 group/top3_click:0.23732 group/top1_click_best:1.00000 group/top3_click_best:0.55750 group/top1_click_rate:0.23801 group/top3_click_rate:0.42568 group/click/auc:0.00000 group/click/pos_ratio:0.00000 group/click/top1_score:112.60184 group/click/top3_score:104.99578 group/click/time_auc:0.53090 group/click/weighted_time_auc:0.62191 group/click/top1_best:135.04998 group/click/top3_best:111.31081 group/click/top1_rate:0.83378 group/click/top3_rate:0.94327 group/click/top1_click:1.00000 group/click/top3_click:1.00000 group/click/top1_click_best:1.00000 group/click/top3_click_best:1.00000 group/click/top1_click_rate:1.00000 group/click/top3_click_rate:1.00000 click_ratio:0.08318 time_per_show:8.51872 time_per_click:102.41127 time_per_user:64.78374 version:video'],\n",
       " ['valid_online_abid4,5,6',\n",
       "  '2019111215',\n",
       "  'video',\n",
       "  'pos_ratio:0.08520 auc:0.55608 time_auc:0.55427 weighted_time_auc:0.58814 click/time_auc:0.51421 click/weighted_time_auc:0.49850 group/auc:0.50730 group/pos_ratio:0.15019 group/top1_score:33.31454 group/top3_score:29.35394 group/time_auc:0.50812 group/weighted_time_auc:0.51736 group/top1_best:149.13963 group/top3_best:70.13980 group/top1_rate:0.22338 group/top3_rate:0.41851 group/top1_click:0.24306 group/top3_click:0.23249 group/top1_click_best:1.00000 group/top3_click_best:0.56401 group/top1_click_rate:0.24306 group/top3_click_rate:0.41220 group/click/auc:0.00000 group/click/pos_ratio:0.00000 group/click/top1_score:120.89174 group/click/top3_score:115.10758 group/click/time_auc:0.52877 group/click/weighted_time_auc:0.59828 group/click/top1_best:149.13963 group/click/top3_best:124.35878 group/click/top1_rate:0.81059 group/click/top3_rate:0.92561 group/click/top1_click:1.00000 group/click/top3_click:1.00000 group/click/top1_click_best:1.00000 group/click/top3_click_best:1.00000 group/click/top1_click_rate:1.00000 group/click/top3_click_rate:1.00000 click_ratio:0.08520 time_per_show:9.58322 time_per_click:112.48556 time_per_user:78.25766 version:video'],\n",
       " ['valid_online_abid4,5,6',\n",
       "  '2019111216',\n",
       "  'video',\n",
       "  'pos_ratio:0.07312 auc:0.54009 time_auc:0.53936 weighted_time_auc:0.58754 click/time_auc:0.52028 click/weighted_time_auc:0.51801 group/auc:0.47191 group/pos_ratio:0.14651 group/top1_score:28.68125 group/top3_score:25.61703 group/time_auc:0.47256 group/weighted_time_auc:0.48379 group/top1_best:128.65423 group/top3_best:57.50703 group/top1_rate:0.22293 group/top3_rate:0.44546 group/top1_click:0.24067 group/top3_click:0.22553 group/top1_click_best:1.00000 group/top3_click_best:0.53397 group/top1_click_rate:0.24067 group/top3_click_rate:0.42237 group/click/auc:0.00000 group/click/pos_ratio:0.00000 group/click/top1_score:110.79408 group/click/top3_score:103.01541 group/click/time_auc:0.54487 group/click/weighted_time_auc:0.61575 group/click/top1_best:128.65423 group/click/top3_best:107.69675 group/click/top1_rate:0.86118 group/click/top3_rate:0.95653 group/click/top1_click:1.00000 group/click/top3_click:1.00000 group/click/top1_click_best:1.00000 group/click/top3_click_best:1.00000 group/click/top1_click_rate:1.00000 group/click/top3_click_rate:1.00000 click_ratio:0.07312 time_per_show:7.26929 time_per_click:99.42128 time_per_user:52.80193 version:video'],\n",
       " ['valid_online_abid4,5,6',\n",
       "  '2019111217',\n",
       "  'video',\n",
       "  'pos_ratio:0.08826 auc:0.56151 time_auc:0.56038 weighted_time_auc:0.61501 click/time_auc:0.53623 click/weighted_time_auc:0.53165 group/auc:0.50375 group/pos_ratio:0.15427 group/top1_score:39.14746 group/top3_score:34.05217 group/time_auc:0.50435 group/weighted_time_auc:0.51703 group/top1_best:160.38782 group/top3_best:74.18241 group/top1_rate:0.24408 group/top3_rate:0.45903 group/top1_click:0.25254 group/top3_click:0.23969 group/top1_click_best:1.00000 group/top3_click_best:0.56142 group/top1_click_rate:0.25254 group/top3_click_rate:0.42693 group/click/auc:0.00000 group/click/pos_ratio:0.00000 group/click/top1_score:131.84848 group/click/top3_score:123.56004 group/click/time_auc:0.52458 group/click/weighted_time_auc:0.59994 group/click/top1_best:160.38782 group/click/top3_best:132.13342 group/click/top1_rate:0.82206 group/click/top3_rate:0.93512 group/click/top1_click:1.00000 group/click/top3_click:1.00000 group/click/top1_click_best:1.00000 group/click/top3_click_best:1.00000 group/click/top1_click_rate:1.00000 group/click/top3_click_rate:1.00000 click_ratio:0.08826 time_per_show:10.37116 time_per_click:117.50584 time_per_user:82.95490 version:video'],\n",
       " ['valid_online_abid4,5,6',\n",
       "  '2019111218',\n",
       "  'video',\n",
       "  'pos_ratio:0.08787 auc:0.56246 time_auc:0.56136 weighted_time_auc:0.61848 click/time_auc:0.53755 click/weighted_time_auc:0.54751 group/auc:0.49802 group/pos_ratio:0.14937 group/top1_score:37.04597 group/top3_score:33.14271 group/time_auc:0.49931 group/weighted_time_auc:0.51292 group/top1_best:159.83078 group/top3_best:74.60234 group/top1_rate:0.23178 group/top3_rate:0.44426 group/top1_click:0.24095 group/top3_click:0.22993 group/top1_click_best:1.00000 group/top3_click_best:0.56046 group/top1_click_rate:0.24095 group/top3_click_rate:0.41025 group/click/auc:0.00000 group/click/pos_ratio:0.00000 group/click/top1_score:132.35554 group/click/top3_score:124.54924 group/click/time_auc:0.53473 group/click/weighted_time_auc:0.59998 group/click/top1_best:159.83078 group/click/top3_best:133.10795 group/click/top1_rate:0.82810 group/click/top3_rate:0.93570 group/click/top1_click:1.00000 group/click/top3_click:1.00000 group/click/top1_click_best:1.00000 group/click/top3_click_best:1.00000 group/click/top1_click_rate:1.00000 group/click/top3_click_rate:1.00000 click_ratio:0.08787 time_per_show:10.57498 time_per_click:120.34271 time_per_user:87.17139 version:video'],\n",
       " ['valid_online_abid4,5,6',\n",
       "  '2019111219',\n",
       "  'video',\n",
       "  'pos_ratio:0.09043 auc:0.55904 time_auc:0.55874 weighted_time_auc:0.62482 click/time_auc:0.55205 click/weighted_time_auc:0.56649 group/auc:0.49829 group/pos_ratio:0.14540 group/top1_score:42.91062 group/top3_score:36.52396 group/time_auc:0.49961 group/weighted_time_auc:0.51513 group/top1_best:177.22080 group/top3_best:83.77104 group/top1_rate:0.24213 group/top3_rate:0.43600 group/top1_click:0.24741 group/top3_click:0.23192 group/top1_click_best:1.00000 group/top3_click_best:0.57393 group/top1_click_rate:0.24741 group/top3_click_rate:0.40410 group/click/auc:0.00000 group/click/pos_ratio:0.00000 group/click/top1_score:142.80784 group/click/top3_score:135.67362 group/click/time_auc:0.53901 group/click/weighted_time_auc:0.60197 group/click/top1_best:177.22080 group/click/top3_best:145.96157 group/click/top1_rate:0.80582 group/click/top3_rate:0.92952 group/click/top1_click:1.00000 group/click/top3_click:1.00000 group/click/top1_click_best:1.00000 group/click/top3_click_best:1.00000 group/click/top1_click_rate:1.00000 group/click/top3_click_rate:1.00000 click_ratio:0.09043 time_per_show:11.77197 time_per_click:130.17726 time_per_user:104.39094 version:video'],\n",
       " ['valid_online_abid4,5,6',\n",
       "  '2019111220',\n",
       "  'video',\n",
       "  'pos_ratio:0.08514 auc:0.55041 time_auc:0.55063 weighted_time_auc:0.62381 click/time_auc:0.55483 click/weighted_time_auc:0.58348 group/auc:0.50581 group/pos_ratio:0.14010 group/top1_score:51.24975 group/top3_score:40.83402 group/time_auc:0.50692 group/weighted_time_auc:0.52031 group/top1_best:197.82659 group/top3_best:94.10144 group/top1_rate:0.25906 group/top3_rate:0.43394 group/top1_click:0.26311 group/top3_click:0.22588 group/top1_click_best:1.00000 group/top3_click_best:0.57594 group/top1_click_rate:0.26311 group/top3_click_rate:0.39220 group/click/auc:0.00000 group/click/pos_ratio:0.00000 group/click/top1_score:163.31054 group/click/top3_score:152.55849 group/click/time_auc:0.55041 group/click/weighted_time_auc:0.61677 group/click/top1_best:197.82659 group/click/top3_best:163.38764 group/click/top1_rate:0.82552 group/click/top3_rate:0.93372 group/click/top1_click:1.00000 group/click/top3_click:1.00000 group/click/top1_click_best:1.00000 group/click/top3_click_best:1.00000 group/click/top1_click_rate:1.00000 group/click/top3_click_rate:1.00000 click_ratio:0.08514 time_per_show:12.30573 time_per_click:144.52999 time_per_user:113.24034 version:video'],\n",
       " ['valid_online_abid4,5,6',\n",
       "  '2019111221',\n",
       "  'video',\n",
       "  'pos_ratio:0.08198 auc:0.55730 time_auc:0.55807 weighted_time_auc:0.64162 click/time_auc:0.57500 click/weighted_time_auc:0.61793 group/auc:0.49728 group/pos_ratio:0.13637 group/top1_score:53.45368 group/top3_score:42.95615 group/time_auc:0.49909 group/weighted_time_auc:0.51420 group/top1_best:203.39319 group/top3_best:95.44449 group/top1_rate:0.26281 group/top3_rate:0.45006 group/top1_click:0.24938 group/top3_click:0.22224 group/top1_click_best:1.00000 group/top3_click_best:0.56542 group/top1_click_rate:0.24938 group/top3_click_rate:0.39306 group/click/auc:0.00000 group/click/pos_ratio:0.00000 group/click/top1_score:170.34887 group/click/top3_score:159.08492 group/click/time_auc:0.55599 group/click/weighted_time_auc:0.60747 group/click/top1_best:203.39319 group/click/top3_best:168.80329 group/click/top1_rate:0.83753 group/click/top3_rate:0.94243 group/click/top1_click:1.00000 group/click/top3_click:1.00000 group/click/top1_click_best:1.00000 group/click/top3_click_best:1.00000 group/click/top1_click_rate:1.00000 group/click/top3_click_rate:1.00000 click_ratio:0.08198 time_per_show:12.29900 time_per_click:150.02005 time_per_user:113.95668 version:video'],\n",
       " ['valid_online_abid4,5,6',\n",
       "  '2019111222',\n",
       "  'video',\n",
       "  'pos_ratio:0.07881 auc:0.54626 time_auc:0.54750 weighted_time_auc:0.63569 click/time_auc:0.57624 click/weighted_time_auc:0.62287 group/auc:0.49439 group/pos_ratio:0.13437 group/top1_score:51.04523 group/top3_score:42.06306 group/time_auc:0.49628 group/weighted_time_auc:0.51072 group/top1_best:208.08964 group/top3_best:96.25861 group/top1_rate:0.24530 group/top3_rate:0.43698 group/top1_click:0.23662 group/top3_click:0.21725 group/top1_click_best:1.00000 group/top3_click_best:0.55816 group/top1_click_rate:0.23662 group/top3_click_rate:0.38922 group/click/auc:0.00000 group/click/pos_ratio:0.00000 group/click/top1_score:174.65152 group/click/top3_score:162.47724 group/click/time_auc:0.54987 group/click/weighted_time_auc:0.59612 group/click/top1_best:208.08964 group/click/top3_best:172.45680 group/click/top1_rate:0.83931 group/click/top3_rate:0.94213 group/click/top1_click:1.00000 group/click/top3_click:1.00000 group/click/top1_click_best:1.00000 group/click/top3_click_best:1.00000 group/click/top1_click_rate:1.00000 group/click/top3_click_rate:1.00000 click_ratio:0.07881 time_per_show:12.12037 time_per_click:153.78303 time_per_user:111.19462 version:video'],\n",
       " ['valid_online_abid4,5,6',\n",
       "  '2019111223',\n",
       "  'video',\n",
       "  'pos_ratio:0.08010 auc:0.55268 time_auc:0.55362 weighted_time_auc:0.63563 click/time_auc:0.57497 click/weighted_time_auc:0.61906 group/auc:0.50564 group/pos_ratio:0.13564 group/top1_score:47.64130 group/top3_score:41.77405 group/time_auc:0.50679 group/weighted_time_auc:0.51934 group/top1_best:198.29929 group/top3_best:93.66383 group/top1_rate:0.24025 group/top3_rate:0.44600 group/top1_click:0.24444 group/top3_click:0.22385 group/top1_click_best:1.00000 group/top3_click_best:0.56667 group/top1_click_rate:0.24444 group/top3_click_rate:0.39502 group/click/auc:0.00000 group/click/pos_ratio:0.00000 group/click/top1_score:166.69237 group/click/top3_score:154.59586 group/click/time_auc:0.55123 group/click/weighted_time_auc:0.60189 group/click/top1_best:198.29929 group/click/top3_best:165.28741 group/click/top1_rate:0.84061 group/click/top3_rate:0.93532 group/click/top1_click:1.00000 group/click/top3_click:1.00000 group/click/top1_click_best:1.00000 group/click/top3_click_best:1.00000 group/click/top1_click_rate:1.00000 group/click/top3_click_rate:1.00000 click_ratio:0.08010 time_per_show:11.57697 time_per_click:144.53189 time_per_user:107.45133 version:video'],\n",
       " ['valid_online_abid4,5,6',\n",
       "  '2019111300',\n",
       "  'video',\n",
       "  'pos_ratio:0.08600 auc:0.54856 time_auc:0.54867 weighted_time_auc:0.62660 click/time_auc:0.55007 click/weighted_time_auc:0.56969 group/auc:0.49658 group/pos_ratio:0.14492 group/top1_score:45.94128 group/top3_score:36.92101 group/time_auc:0.49805 group/weighted_time_auc:0.51137 group/top1_best:165.76750 group/top3_best:80.54694 group/top1_rate:0.27714 group/top3_rate:0.45838 group/top1_click:0.29464 group/top3_click:0.24905 group/top1_click_best:1.00000 group/top3_click_best:0.56660 group/top1_click_rate:0.29464 group/top3_click_rate:0.43956 group/click/auc:0.00000 group/click/pos_ratio:0.00000 group/click/top1_score:141.27654 group/click/top3_score:134.31200 group/click/time_auc:0.55235 group/click/weighted_time_auc:0.63461 group/click/top1_best:165.76750 group/click/top3_best:142.15902 group/click/top1_rate:0.85226 group/click/top3_rate:0.94480 group/click/top1_click:1.00000 group/click/top3_click:1.00000 group/click/top1_click_best:1.00000 group/click/top3_click_best:1.00000 group/click/top1_click_rate:1.00000 group/click/top3_click_rate:1.00000 click_ratio:0.08600 time_per_show:11.05828 time_per_click:128.58932 time_per_user:89.11584 version:video'],\n",
       " ['valid_online_abid4,5,6',\n",
       "  '2019111301',\n",
       "  'video',\n",
       "  'pos_ratio:0.09284 auc:0.56955 time_auc:0.56755 weighted_time_auc:0.63145 click/time_auc:0.52610 click/weighted_time_auc:0.50403 group/auc:0.52038 group/pos_ratio:0.15130 group/top1_score:40.81056 group/top3_score:33.37811 group/time_auc:0.52241 group/weighted_time_auc:0.53643 group/top1_best:149.67805 group/top3_best:71.01428 group/top1_rate:0.27266 group/top3_rate:0.47002 group/top1_click:0.31366 group/top3_click:0.27214 group/top1_click_best:1.00000 group/top3_click_best:0.56515 group/top1_click_rate:0.31366 group/top3_click_rate:0.48154 group/click/auc:0.00000 group/click/pos_ratio:0.00000 group/click/top1_score:126.21170 group/click/top3_score:117.06185 group/click/time_auc:0.54287 group/click/weighted_time_auc:0.63514 group/click/top1_best:149.67805 group/click/top3_best:125.65479 group/click/top1_rate:0.84322 group/click/top3_rate:0.93161 group/click/top1_click:1.00000 group/click/top3_click:1.00000 group/click/top1_click_best:1.00000 group/click/top3_click_best:1.00000 group/click/top1_click_rate:1.00000 group/click/top3_click_rate:1.00000 click_ratio:0.09284 time_per_show:10.66200 time_per_click:114.84769 time_per_user:87.18854 version:video'],\n",
       " ['valid_online_abid4,5,6',\n",
       "  '2019111302',\n",
       "  'video',\n",
       "  'pos_ratio:0.09943 auc:0.57061 time_auc:0.56753 weighted_time_auc:0.61937 click/time_auc:0.50931 click/weighted_time_auc:0.44718 group/auc:0.50771 group/pos_ratio:0.16334 group/top1_score:36.23149 group/top3_score:30.61651 group/time_auc:0.50662 group/weighted_time_auc:0.52497 group/top1_best:136.14019 group/top3_best:64.39915 group/top1_rate:0.26613 group/top3_rate:0.47542 group/top1_click:0.29475 group/top3_click:0.28028 group/top1_click_best:1.00000 group/top3_click_best:0.56031 group/top1_click_rate:0.29475 group/top3_click_rate:0.50022 group/click/auc:0.00000 group/click/pos_ratio:0.00000 group/click/top1_score:116.22861 group/click/top3_score:108.51087 group/click/time_auc:0.53646 group/click/weighted_time_auc:0.68661 group/click/top1_best:136.14019 group/click/top3_best:114.93520 group/click/top1_rate:0.85374 group/click/top3_rate:0.94410 group/click/top1_click:1.00000 group/click/top3_click:1.00000 group/click/top1_click_best:1.00000 group/click/top3_click_best:1.00000 group/click/top1_click_rate:1.00000 group/click/top3_click_rate:1.00000 click_ratio:0.09943 time_per_show:10.62437 time_per_click:106.85408 time_per_user:90.02775 version:video'],\n",
       " ['valid_online_abid4,5,6',\n",
       "  '2019111303',\n",
       "  'video',\n",
       "  'pos_ratio:0.10703 auc:0.55556 time_auc:0.55268 weighted_time_auc:0.57499 click/time_auc:0.50239 click/weighted_time_auc:0.37492 group/auc:0.49942 group/pos_ratio:0.17478 group/top1_score:29.65973 group/top3_score:24.32333 group/time_auc:0.49910 group/weighted_time_auc:0.51858 group/top1_best:116.27621 group/top3_best:53.63007 group/top1_rate:0.25508 group/top3_rate:0.45354 group/top1_click:0.30116 group/top3_click:0.28959 group/top1_click_best:1.00000 group/top3_click_best:0.55374 group/top1_click_rate:0.30116 group/top3_click_rate:0.52297 group/click/auc:0.00000 group/click/pos_ratio:0.00000 group/click/top1_score:100.24126 group/click/top3_score:90.69437 group/click/time_auc:0.52148 group/click/weighted_time_auc:0.68384 group/click/top1_best:116.27621 group/click/top3_best:96.84977 group/click/top1_rate:0.86210 group/click/top3_rate:0.93644 group/click/top1_click:1.00000 group/click/top3_click:1.00000 group/click/top1_click_best:1.00000 group/click/top3_click_best:1.00000 group/click/top1_click_rate:1.00000 group/click/top3_click_rate:1.00000 click_ratio:0.10703 time_per_show:9.88527 time_per_click:92.36288 time_per_user:79.41961 version:video'],\n",
       " ['valid_online_abid4,5,6',\n",
       "  '2019111304',\n",
       "  'video',\n",
       "  'pos_ratio:0.11163 auc:0.53737 time_auc:0.53512 weighted_time_auc:0.57210 click/time_auc:0.49814 click/weighted_time_auc:0.39593 group/auc:0.50162 group/pos_ratio:0.18396 group/top1_score:31.17944 group/top3_score:24.57380 group/time_auc:0.49799 group/weighted_time_auc:0.50216 group/top1_best:117.49129 group/top3_best:54.13751 group/top1_rate:0.26538 group/top3_rate:0.45391 group/top1_click:0.29094 group/top3_click:0.29819 group/top1_click_best:1.00000 group/top3_click_best:0.56579 group/top1_click_rate:0.29094 group/top3_click_rate:0.52703 group/click/auc:0.00000 group/click/pos_ratio:0.00000 group/click/top1_score:96.23171 group/click/top3_score:89.74908 group/click/time_auc:0.48931 group/click/weighted_time_auc:0.62248 group/click/top1_best:117.49129 group/click/top3_best:95.68556 group/click/top1_rate:0.81905 group/click/top3_rate:0.93796 group/click/top1_click:1.00000 group/click/top3_click:1.00000 group/click/top1_click_best:1.00000 group/click/top3_click_best:1.00000 group/click/top1_click_rate:1.00000 group/click/top3_click_rate:1.00000 click_ratio:0.11163 time_per_show:10.06505 time_per_click:90.16450 time_per_user:79.35951 version:video'],\n",
       " ['valid_online_abid4,5,6',\n",
       "  '2019111305',\n",
       "  'video',\n",
       "  'pos_ratio:0.09108 auc:0.54918 time_auc:0.54674 weighted_time_auc:0.58193 click/time_auc:0.49641 click/weighted_time_auc:0.40897 group/auc:0.50909 group/pos_ratio:0.17266 group/top1_score:28.39276 group/top3_score:24.37096 group/time_auc:0.50816 group/weighted_time_auc:0.51957 group/top1_best:120.94877 group/top3_best:54.76789 group/top1_rate:0.23475 group/top3_rate:0.44499 group/top1_click:0.30601 group/top3_click:0.28619 group/top1_click_best:1.00000 group/top3_click_best:0.55277 group/top1_click_rate:0.30601 group/top3_click_rate:0.51773 group/click/auc:0.00000 group/click/pos_ratio:0.00000 group/click/top1_score:99.66052 group/click/top3_score:93.81461 group/click/time_auc:0.49209 group/click/weighted_time_auc:0.62935 group/click/top1_best:120.94877 group/click/top3_best:99.07817 group/click/top1_rate:0.82399 group/click/top3_rate:0.94687 group/click/top1_click:1.00000 group/click/top3_click:1.00000 group/click/top1_click_best:1.00000 group/click/top3_click_best:1.00000 group/click/top1_click_rate:1.00000 group/click/top3_click_rate:1.00000 click_ratio:0.09108 time_per_show:8.56941 time_per_click:94.08831 time_per_user:65.65420 version:video'],\n",
       " ['valid_online_abid4,5,6',\n",
       "  '2019111306',\n",
       "  'video',\n",
       "  'pos_ratio:0.08270 auc:0.54536 time_auc:0.54408 weighted_time_auc:0.58977 click/time_auc:0.51475 click/weighted_time_auc:0.47945 group/auc:0.49962 group/pos_ratio:0.16209 group/top1_score:32.63552 group/top3_score:30.05030 group/time_auc:0.49950 group/weighted_time_auc:0.50891 group/top1_best:139.73108 group/top3_best:62.11157 group/top1_rate:0.23356 group/top3_rate:0.48381 group/top1_click:0.26385 group/top3_click:0.25808 group/top1_click_best:1.00000 group/top3_click_best:0.53283 group/top1_click_rate:0.26385 group/top3_click_rate:0.48436 group/click/auc:0.00000 group/click/pos_ratio:0.00000 group/click/top1_score:117.29302 group/click/top3_score:110.75110 group/click/time_auc:0.52399 group/click/weighted_time_auc:0.60697 group/click/top1_best:139.73108 group/click/top3_best:116.56998 group/click/top1_rate:0.83942 group/click/top3_rate:0.95008 group/click/top1_click:1.00000 group/click/top3_click:1.00000 group/click/top1_click_best:1.00000 group/click/top3_click_best:1.00000 group/click/top1_click_rate:1.00000 group/click/top3_click_rate:1.00000 click_ratio:0.08270 time_per_show:8.99127 time_per_click:108.72344 time_per_user:64.57323 version:video'],\n",
       " ['valid_online_abid4,5,6',\n",
       "  '2019111307',\n",
       "  'video',\n",
       "  'pos_ratio:0.07699 auc:0.53651 time_auc:0.53655 weighted_time_auc:0.59701 click/time_auc:0.53704 click/weighted_time_auc:0.54568 group/auc:0.48996 group/pos_ratio:0.15267 group/top1_score:37.59739 group/top3_score:32.39220 group/time_auc:0.48987 group/weighted_time_auc:0.50102 group/top1_best:152.92094 group/top3_best:67.53788 group/top1_rate:0.24586 group/top3_rate:0.47962 group/top1_click:0.24833 group/top3_click:0.23879 group/top1_click_best:1.00000 group/top3_click_best:0.52353 group/top1_click_rate:0.24833 group/top3_click_rate:0.45612 group/click/auc:0.00000 group/click/pos_ratio:0.00000 group/click/top1_score:132.93688 group/click/top3_score:123.59283 group/click/time_auc:0.53431 group/click/weighted_time_auc:0.63348 group/click/top1_best:152.92094 group/click/top3_best:129.00591 group/click/top1_rate:0.86932 group/click/top3_rate:0.95804 group/click/top1_click:1.00000 group/click/top3_click:1.00000 group/click/top1_click_best:1.00000 group/click/top3_click_best:1.00000 group/click/top1_click_rate:1.00000 group/click/top3_click_rate:1.00000 click_ratio:0.07699 time_per_show:9.31146 time_per_click:120.94523 time_per_user:65.18117 version:video'],\n",
       " ['valid_online_abid4,5,6',\n",
       "  '2019111308',\n",
       "  'video',\n",
       "  'pos_ratio:0.08085 auc:0.55072 time_auc:0.55022 weighted_time_auc:0.61597 click/time_auc:0.53804 click/weighted_time_auc:0.54209 group/auc:0.49801 group/pos_ratio:0.15703 group/top1_score:43.36152 group/top3_score:37.62730 group/time_auc:0.49697 group/weighted_time_auc:0.50852 group/top1_best:165.62316 group/top3_best:74.52652 group/top1_rate:0.26181 group/top3_rate:0.50488 group/top1_click:0.26961 group/top3_click:0.25630 group/top1_click_best:1.00000 group/top3_click_best:0.54183 group/top1_click_rate:0.26961 group/top3_click_rate:0.47302 group/click/auc:0.00000 group/click/pos_ratio:0.00000 group/click/top1_score:138.73070 group/click/top3_score:132.09084 group/click/time_auc:0.52949 group/click/weighted_time_auc:0.60321 group/click/top1_best:165.62316 group/click/top3_best:137.54581 group/click/top1_rate:0.83763 group/click/top3_rate:0.96034 group/click/top1_click:1.00000 group/click/top3_click:1.00000 group/click/top1_click_best:1.00000 group/click/top3_click_best:1.00000 group/click/top1_click_rate:1.00000 group/click/top3_click_rate:1.00000 click_ratio:0.08085 time_per_show:10.36844 time_per_click:128.23568 time_per_user:72.77721 version:video'],\n",
       " ['valid_online_abid4,5,6',\n",
       "  '2019111309',\n",
       "  'video',\n",
       "  'pos_ratio:0.08156 auc:0.55411 time_auc:0.55326 weighted_time_auc:0.61548 click/time_auc:0.53355 click/weighted_time_auc:0.53629 group/auc:0.51183 group/pos_ratio:0.15112 group/top1_score:42.28878 group/top3_score:34.95554 group/time_auc:0.51336 group/weighted_time_auc:0.52638 group/top1_best:158.92613 group/top3_best:71.55638 group/top1_rate:0.26609 group/top3_rate:0.48850 group/top1_click:0.27279 group/top3_click:0.25502 group/top1_click_best:1.00000 group/top3_click_best:0.54252 group/top1_click_rate:0.27279 group/top3_click_rate:0.47006 group/click/auc:0.00000 group/click/pos_ratio:0.00000 group/click/top1_score:131.69428 group/click/top3_score:125.13468 group/click/time_auc:0.52924 group/click/weighted_time_auc:0.59776 group/click/top1_best:158.92613 group/click/top3_best:131.89597 group/click/top1_rate:0.82865 group/click/top3_rate:0.94874 group/click/top1_click:1.00000 group/click/top3_click:1.00000 group/click/top1_click_best:1.00000 group/click/top3_click_best:1.00000 group/click/top1_click_rate:1.00000 group/click/top3_click_rate:1.00000 click_ratio:0.08156 time_per_show:9.83961 time_per_click:120.64869 time_per_user:72.39178 version:video'],\n",
       " ['valid_online_abid4,5,6',\n",
       "  '2019111310',\n",
       "  'video',\n",
       "  'pos_ratio:0.08107 auc:0.55321 time_auc:0.55258 weighted_time_auc:0.61275 click/time_auc:0.53772 click/weighted_time_auc:0.53709 group/auc:0.50278 group/pos_ratio:0.15234 group/top1_score:36.74831 group/top3_score:34.10009 group/time_auc:0.50167 group/weighted_time_auc:0.51964 group/top1_best:158.12200 group/top3_best:72.90503 group/top1_rate:0.23240 group/top3_rate:0.46773 group/top1_click:0.25015 group/top3_click:0.24744 group/top1_click_best:1.00000 group/top3_click_best:0.54610 group/top1_click_rate:0.25015 group/top3_click_rate:0.45311 group/click/auc:0.00000 group/click/pos_ratio:0.00000 group/click/top1_score:130.42483 group/click/top3_score:125.98284 group/click/time_auc:0.53333 group/click/weighted_time_auc:0.61461 group/click/top1_best:158.12200 group/click/top3_best:133.50049 group/click/top1_rate:0.82484 group/click/top3_rate:0.94369 group/click/top1_click:1.00000 group/click/top3_click:1.00000 group/click/top1_click_best:1.00000 group/click/top3_click_best:1.00000 group/click/top1_click_rate:1.00000 group/click/top3_click_rate:1.00000 click_ratio:0.08107 time_per_show:9.89909 time_per_click:122.10367 time_per_user:76.52019 version:video'],\n",
       " ['valid_online_abid4,5,6',\n",
       "  '2019111311',\n",
       "  'video',\n",
       "  'pos_ratio:0.07927 auc:0.55078 time_auc:0.55015 weighted_time_auc:0.61050 click/time_auc:0.53494 click/weighted_time_auc:0.54713 group/auc:0.48781 group/pos_ratio:0.15518 group/top1_score:37.93565 group/top3_score:32.89750 group/time_auc:0.48983 group/weighted_time_auc:0.50177 group/top1_best:155.14870 group/top3_best:70.56822 group/top1_rate:0.24451 group/top3_rate:0.46618 group/top1_click:0.24580 group/top3_click:0.24214 group/top1_click_best:1.00000 group/top3_click_best:0.53619 group/top1_click_rate:0.24580 group/top3_click_rate:0.45160 group/click/auc:0.00000 group/click/pos_ratio:0.00000 group/click/top1_score:132.44551 group/click/top3_score:125.07040 group/click/time_auc:0.55136 group/click/weighted_time_auc:0.63970 group/click/top1_best:155.14870 group/click/top3_best:131.61019 group/click/top1_rate:0.85367 group/click/top3_rate:0.95031 group/click/top1_click:1.00000 group/click/top3_click:1.00000 group/click/top1_click_best:1.00000 group/click/top3_click_best:1.00000 group/click/top1_click_rate:1.00000 group/click/top3_click_rate:1.00000 click_ratio:0.07927 time_per_show:9.71496 time_per_click:122.54767 time_per_user:70.72584 version:video'],\n",
       " ['valid_online_abid4,5,6',\n",
       "  '2019111312',\n",
       "  'video',\n",
       "  'pos_ratio:0.08519 auc:0.54813 time_auc:0.54795 weighted_time_auc:0.61250 click/time_auc:0.54369 click/weighted_time_auc:0.56173 group/auc:0.49300 group/pos_ratio:0.15327 group/top1_score:39.52529 group/top3_score:33.36665 group/time_auc:0.49191 group/weighted_time_auc:0.50673 group/top1_best:164.10619 group/top3_best:74.19319 group/top1_rate:0.24085 group/top3_rate:0.44973 group/top1_click:0.25076 group/top3_click:0.23104 group/top1_click_best:1.00000 group/top3_click_best:0.54133 group/top1_click_rate:0.25076 group/top3_click_rate:0.42680 group/click/auc:0.00000 group/click/pos_ratio:0.00000 group/click/top1_score:137.26864 group/click/top3_score:129.41814 group/click/time_auc:0.52966 group/click/weighted_time_auc:0.60621 group/click/top1_best:164.10619 group/click/top3_best:137.05806 group/click/top1_rate:0.83646 group/click/top3_rate:0.94426 group/click/top1_click:1.00000 group/click/top3_click:1.00000 group/click/top1_click_best:1.00000 group/click/top3_click_best:1.00000 group/click/top1_click_rate:1.00000 group/click/top3_click_rate:1.00000 click_ratio:0.08519 time_per_show:10.62346 time_per_click:124.70783 time_per_user:81.26361 version:video'],\n",
       " ['valid_online_abid4,5,6',\n",
       "  '2019111313',\n",
       "  'video',\n",
       "  'pos_ratio:0.08582 auc:0.54814 time_auc:0.54858 weighted_time_auc:0.61961 click/time_auc:0.55759 click/weighted_time_auc:0.57953 group/auc:0.49037 group/pos_ratio:0.15428 group/top1_score:39.96456 group/top3_score:36.02381 group/time_auc:0.49106 group/weighted_time_auc:0.50242 group/top1_best:167.71366 group/top3_best:76.95604 group/top1_rate:0.23829 group/top3_rate:0.46811 group/top1_click:0.24448 group/top3_click:0.23959 group/top1_click_best:1.00000 group/top3_click_best:0.55524 group/top1_click_rate:0.24448 group/top3_click_rate:0.43151 group/click/auc:0.00000 group/click/pos_ratio:0.00000 group/click/top1_score:140.67129 group/click/top3_score:131.35298 group/click/time_auc:0.53338 group/click/weighted_time_auc:0.60979 group/click/top1_best:167.71366 group/click/top3_best:138.59997 group/click/top1_rate:0.83876 group/click/top3_rate:0.94771 group/click/top1_click:1.00000 group/click/top3_click:1.00000 group/click/top1_click_best:1.00000 group/click/top3_click_best:1.00000 group/click/top1_click_rate:1.00000 group/click/top3_click_rate:1.00000 click_ratio:0.08582 time_per_show:10.79573 time_per_click:125.79632 time_per_user:83.09523 version:video'],\n",
       " ['valid_online_abid4,5,6', '2019111314', 'video'],\n",
       " ['valid_online_abid4,5,6',\n",
       "  '2019111315',\n",
       "  'video',\n",
       "  'pos_ratio:0.07873 auc:0.54796 time_auc:0.54787 weighted_time_auc:0.61268 click/time_auc:0.54500 click/weighted_time_auc:0.55815 group/auc:0.49230 group/pos_ratio:0.14426 group/top1_score:40.79969 group/top3_score:34.72838 group/time_auc:0.49497 group/weighted_time_auc:0.50573 group/top1_best:162.95332 group/top3_best:75.20591 group/top1_rate:0.25038 group/top3_rate:0.46178 group/top1_click:0.24946 group/top3_click:0.23127 group/top1_click_best:1.00000 group/top3_click_best:0.54484 group/top1_click_rate:0.24946 group/top3_click_rate:0.42447 group/click/auc:0.00000 group/click/pos_ratio:0.00000 group/click/top1_score:136.31314 group/click/top3_score:130.55785 group/click/time_auc:0.54230 group/click/weighted_time_auc:0.61701 group/click/top1_best:162.95332 group/click/top3_best:138.03261 group/click/top1_rate:0.83652 group/click/top3_rate:0.94585 group/click/top1_click:1.00000 group/click/top3_click:1.00000 group/click/top1_click_best:1.00000 group/click/top3_click_best:1.00000 group/click/top1_click_rate:1.00000 group/click/top3_click_rate:1.00000 click_ratio:0.07873 time_per_show:9.91026 time_per_click:125.87008 time_per_user:78.91642 version:video'],\n",
       " ['valid_online_abid4,5,6',\n",
       "  '2019111316',\n",
       "  'video',\n",
       "  'pos_ratio:0.08519 auc:0.55427 time_auc:0.55405 weighted_time_auc:0.61813 click/time_auc:0.54846 click/weighted_time_auc:0.56255 group/auc:0.51232 group/pos_ratio:0.15078 group/top1_score:48.41140 group/top3_score:37.88305 group/time_auc:0.50853 group/weighted_time_auc:0.52632 group/top1_best:171.30337 group/top3_best:78.59319 group/top1_rate:0.28261 group/top3_rate:0.48201 group/top1_click:0.26822 group/top3_click:0.23940 group/top1_click_best:1.00000 group/top3_click_best:0.54468 group/top1_click_rate:0.26822 group/top3_click_rate:0.43952 group/click/auc:0.00000 group/click/pos_ratio:0.00000 group/click/top1_score:144.53388 group/click/top3_score:136.68704 group/click/time_auc:0.52832 group/click/weighted_time_auc:0.61293 group/click/top1_best:171.30337 group/click/top3_best:144.29295 group/click/top1_rate:0.84373 group/click/top3_rate:0.94729 group/click/top1_click:1.00000 group/click/top3_click:1.00000 group/click/top1_click_best:1.00000 group/click/top3_click_best:1.00000 group/click/top1_click_rate:1.00000 group/click/top3_click_rate:1.00000 click_ratio:0.08519 time_per_show:11.30542 time_per_click:132.70818 time_per_user:87.08592 version:video'],\n",
       " ['valid_online_abid4,5,6',\n",
       "  '2019111317',\n",
       "  'video',\n",
       "  'pos_ratio:0.08839 auc:0.55522 time_auc:0.55597 weighted_time_auc:0.63973 click/time_auc:0.57107 click/weighted_time_auc:0.62033 group/auc:0.51552 group/pos_ratio:0.15500 group/top1_score:52.91712 group/top3_score:41.58348 group/time_auc:0.51647 group/weighted_time_auc:0.52997 group/top1_best:176.16104 group/top3_best:81.00597 group/top1_rate:0.30039 group/top3_rate:0.51334 group/top1_click:0.29231 group/top3_click:0.25370 group/top1_click_best:1.00000 group/top3_click_best:0.55011 group/top1_click_rate:0.29231 group/top3_click_rate:0.46118 group/click/auc:0.00000 group/click/pos_ratio:0.00000 group/click/top1_score:150.37568 group/click/top3_score:139.47312 group/click/time_auc:0.55078 group/click/weighted_time_auc:0.60343 group/click/top1_best:176.16104 group/click/top3_best:147.25464 group/click/top1_rate:0.85363 group/click/top3_rate:0.94716 group/click/top1_click:1.00000 group/click/top3_click:1.00000 group/click/top1_click_best:1.00000 group/click/top3_click_best:1.00000 group/click/top1_click_rate:1.00000 group/click/top3_click_rate:1.00000 click_ratio:0.08839 time_per_show:11.77067 time_per_click:133.16178 time_per_user:88.86660 version:video'],\n",
       " ['valid_online_abid4,5,6',\n",
       "  '2019111318',\n",
       "  'video',\n",
       "  'pos_ratio:0.08502 auc:0.57458 time_auc:0.57486 weighted_time_auc:0.66547 click/time_auc:0.58017 click/weighted_time_auc:0.64372 group/auc:0.51955 group/pos_ratio:0.14535 group/top1_score:59.43278 group/top3_score:45.84996 group/time_auc:0.52142 group/weighted_time_auc:0.53441 group/top1_best:191.61947 group/top3_best:89.76487 group/top1_rate:0.31016 group/top3_rate:0.51078 group/top1_click:0.28227 group/top3_click:0.24943 group/top1_click_best:1.00000 group/top3_click_best:0.55747 group/top1_click_rate:0.28227 group/top3_click_rate:0.44743 group/click/auc:0.00000 group/click/pos_ratio:0.00000 group/click/top1_score:163.37204 group/click/top3_score:152.86039 group/click/time_auc:0.56829 group/click/weighted_time_auc:0.63122 group/click/top1_best:191.61947 group/click/top3_best:161.02061 group/click/top1_rate:0.85259 group/click/top3_rate:0.94932 group/click/top1_click:1.00000 group/click/top3_click:1.00000 group/click/top1_click_best:1.00000 group/click/top3_click_best:1.00000 group/click/top1_click_rate:1.00000 group/click/top3_click_rate:1.00000 click_ratio:0.08502 time_per_show:12.37015 time_per_click:145.50400 time_per_user:101.30485 version:video'],\n",
       " ['valid_online_abid4,5,6',\n",
       "  '2019111319',\n",
       "  'video',\n",
       "  'pos_ratio:0.08910 auc:0.55956 time_auc:0.56030 weighted_time_auc:0.64787 click/time_auc:0.57495 click/weighted_time_auc:0.63004 group/auc:0.51416 group/pos_ratio:0.14190 group/top1_score:51.25956 group/top3_score:40.14895 group/time_auc:0.51667 group/weighted_time_auc:0.53111 group/top1_best:179.25092 group/top3_best:83.63913 group/top1_rate:0.28597 group/top3_rate:0.48003 group/top1_click:0.26778 group/top3_click:0.23941 group/top1_click_best:1.00000 group/top3_click_best:0.56380 group/top1_click_rate:0.26778 group/top3_click_rate:0.42465 group/click/auc:0.00000 group/click/pos_ratio:0.00000 group/click/top1_score:152.05035 group/click/top3_score:139.90793 group/click/time_auc:0.55562 group/click/weighted_time_auc:0.61544 group/click/top1_best:179.25092 group/click/top3_best:148.34929 group/click/top1_rate:0.84825 group/click/top3_rate:0.94310 group/click/top1_click:1.00000 group/click/top3_click:1.00000 group/click/top1_click_best:1.00000 group/click/top3_click_best:1.00000 group/click/top1_click_rate:1.00000 group/click/top3_click_rate:1.00000 click_ratio:0.08910 time_per_show:11.90760 time_per_click:133.64395 time_per_user:101.06533 version:video'],\n",
       " ['valid_online_abid4,5,6',\n",
       "  '2019111320',\n",
       "  'video',\n",
       "  'pos_ratio:0.08782 auc:0.55640 time_auc:0.55839 weighted_time_auc:0.66246 click/time_auc:0.59942 click/weighted_time_auc:0.66912 group/auc:0.52053 group/pos_ratio:0.14337 group/top1_score:64.99018 group/top3_score:50.89638 group/time_auc:0.51981 group/weighted_time_auc:0.53670 group/top1_best:220.39568 group/top3_best:105.13676 group/top1_rate:0.29488 group/top3_rate:0.48410 group/top1_click:0.28164 group/top3_click:0.24111 group/top1_click_best:1.00000 group/top3_click_best:0.57032 group/top1_click_rate:0.28164 group/top3_click_rate:0.42277 group/click/auc:0.00000 group/click/pos_ratio:0.00000 group/click/top1_score:187.73107 group/click/top3_score:173.66995 group/click/time_auc:0.55149 group/click/weighted_time_auc:0.61660 group/click/top1_best:220.39568 group/click/top3_best:184.34718 group/click/top1_rate:0.85179 group/click/top3_rate:0.94208 group/click/top1_click:1.00000 group/click/top3_click:1.00000 group/click/top1_click_best:1.00000 group/click/top3_click_best:1.00000 group/click/top1_click_rate:1.00000 group/click/top3_click_rate:1.00000 click_ratio:0.08782 time_per_show:14.46512 time_per_click:164.71046 time_per_user:126.91846 version:video'],\n",
       " ['valid_online_abid4,5,6',\n",
       "  '2019111321',\n",
       "  'video',\n",
       "  'pos_ratio:0.08663 auc:0.55906 time_auc:0.56121 weighted_time_auc:0.67326 click/time_auc:0.60622 click/weighted_time_auc:0.68442 group/auc:0.51856 group/pos_ratio:0.14227 group/top1_score:63.02430 group/top3_score:50.95342 group/time_auc:0.52088 group/weighted_time_auc:0.53917 group/top1_best:220.09629 group/top3_best:104.38357 group/top1_rate:0.28635 group/top3_rate:0.48814 group/top1_click:0.26141 group/top3_click:0.23698 group/top1_click_best:1.00000 group/top3_click_best:0.56907 group/top1_click_rate:0.26141 group/top3_click_rate:0.41644 group/click/auc:0.00000 group/click/pos_ratio:0.00000 group/click/top1_score:186.41224 group/click/top3_score:173.29263 group/click/time_auc:0.56521 group/click/weighted_time_auc:0.62157 group/click/top1_best:220.09629 group/click/top3_best:183.42868 group/click/top1_rate:0.84696 group/click/top3_rate:0.94474 group/click/top1_click:1.00000 group/click/top3_click:1.00000 group/click/top1_click_best:1.00000 group/click/top3_click_best:1.00000 group/click/top1_click_rate:1.00000 group/click/top3_click_rate:1.00000 click_ratio:0.08663 time_per_show:14.17428 time_per_click:163.62446 time_per_user:127.10028 version:video'],\n",
       " ['valid_online_abid4,5,6',\n",
       "  '2019111322',\n",
       "  'video',\n",
       "  'pos_ratio:0.08274 auc:0.55241 time_auc:0.55550 weighted_time_auc:0.67785 click/time_auc:0.62391 click/weighted_time_auc:0.71193 group/auc:0.50928 group/pos_ratio:0.13742 group/top1_score:66.69225 group/top3_score:50.88534 group/time_auc:0.51099 group/weighted_time_auc:0.53023 group/top1_best:223.54404 group/top3_best:104.56088 group/top1_rate:0.29834 group/top3_rate:0.48666 group/top1_click:0.25531 group/top3_click:0.22251 group/top1_click_best:1.00000 group/top3_click_best:0.55744 group/top1_click_rate:0.25531 group/top3_click_rate:0.39917 group/click/auc:0.00000 group/click/pos_ratio:0.00000 group/click/top1_score:194.00668 group/click/top3_score:179.02811 group/click/time_auc:0.57763 group/click/weighted_time_auc:0.64160 group/click/top1_best:223.54404 group/click/top3_best:187.57436 group/click/top1_rate:0.86787 group/click/top3_rate:0.95444 group/click/top1_click:1.00000 group/click/top3_click:1.00000 group/click/top1_click_best:1.00000 group/click/top3_click_best:1.00000 group/click/top1_click_rate:1.00000 group/click/top3_click_rate:1.00000 click_ratio:0.08274 time_per_show:13.79754 time_per_click:166.76472 time_per_user:123.36412 version:video'],\n",
       " ['valid_online_abid4,5,6',\n",
       "  '2019111323',\n",
       "  'video',\n",
       "  'pos_ratio:0.08234 auc:0.54886 time_auc:0.55170 weighted_time_auc:0.66552 click/time_auc:0.61508 click/weighted_time_auc:0.69711 group/auc:0.50572 group/pos_ratio:0.13910 group/top1_score:58.01504 group/top3_score:47.44348 group/time_auc:0.50708 group/weighted_time_auc:0.52900 group/top1_best:210.10000 group/top3_best:98.90364 group/top1_rate:0.27613 group/top3_rate:0.47969 group/top1_click:0.24586 group/top3_click:0.22252 group/top1_click_best:1.00000 group/top3_click_best:0.56165 group/top1_click_rate:0.24586 group/top3_click_rate:0.39619 group/click/auc:0.00000 group/click/pos_ratio:0.00000 group/click/top1_score:181.72306 group/click/top3_score:166.49350 group/click/time_auc:0.57932 group/click/weighted_time_auc:0.64229 group/click/top1_best:210.10000 group/click/top3_best:176.09561 group/click/top1_rate:0.86494 group/click/top3_rate:0.94547 group/click/top1_click:1.00000 group/click/top3_click:1.00000 group/click/top1_click_best:1.00000 group/click/top3_click_best:1.00000 group/click/top1_click_rate:1.00000 group/click/top3_click_rate:1.00000 click_ratio:0.08234 time_per_show:12.85326 time_per_click:156.09295 time_per_user:116.38888 version:video'],\n",
       " ['valid_online_abid4,5,6',\n",
       "  '2019111323',\n",
       "  'video',\n",
       "  'pos_ratio:0.08234 auc:0.54886 time_auc:0.55170 weighted_time_auc:0.66551 click/time_auc:0.61508 click/weighted_time_auc:0.69709 group/auc:0.50572 group/pos_ratio:0.13910 group/top1_score:58.21554 group/top3_score:47.43592 group/time_auc:0.50708 group/weighted_time_auc:0.52764 group/top1_best:210.10000 group/top3_best:98.90364 group/top1_rate:0.27708 group/top3_rate:0.47962 group/top1_click:0.24687 group/top3_click:0.22287 group/top1_click_best:1.00000 group/top3_click_best:0.56165 group/top1_click_rate:0.24687 group/top3_click_rate:0.39681 group/click/auc:0.00000 group/click/pos_ratio:0.00000 group/click/top1_score:181.71905 group/click/top3_score:166.49087 group/click/time_auc:0.57932 group/click/weighted_time_auc:0.64185 group/click/top1_best:210.10000 group/click/top3_best:176.09561 group/click/top1_rate:0.86492 group/click/top3_rate:0.94546 group/click/top1_click:1.00000 group/click/top3_click:1.00000 group/click/top1_click_best:1.00000 group/click/top3_click_best:1.00000 group/click/top1_click_rate:1.00000 group/click/top3_click_rate:1.00000 click_ratio:0.08234 time_per_show:12.85326 time_per_click:156.09295 time_per_user:116.38888 version:video'],\n",
       " ['valid_online_abid4,5,6',\n",
       "  '2019111323',\n",
       "  'video',\n",
       "  'pos_ratio:0.08234 auc:0.54886 time_auc:0.55170 weighted_time_auc:0.66552 click/time_auc:0.61508 click/weighted_time_auc:0.69711 group/auc:0.50572 group/pos_ratio:0.13910 group/top1_score:58.26115 group/top3_score:47.42767 group/time_auc:0.50708 group/weighted_time_auc:0.52854 group/top1_best:210.10000 group/top3_best:98.90364 group/top1_rate:0.27730 group/top3_rate:0.47953 group/top1_click:0.24662 group/top3_click:0.22278 group/top1_click_best:1.00000 group/top3_click_best:0.56165 group/top1_click_rate:0.24662 group/top3_click_rate:0.39666 group/click/auc:0.00000 group/click/pos_ratio:0.00000 group/click/top1_score:181.84311 group/click/top3_score:166.49118 group/click/time_auc:0.57932 group/click/weighted_time_auc:0.64305 group/click/top1_best:210.10000 group/click/top3_best:176.09561 group/click/top1_rate:0.86551 group/click/top3_rate:0.94546 group/click/top1_click:1.00000 group/click/top3_click:1.00000 group/click/top1_click_best:1.00000 group/click/top3_click_best:1.00000 group/click/top1_click_rate:1.00000 group/click/top3_click_rate:1.00000 click_ratio:0.08234 time_per_show:12.85326 time_per_click:156.09295 time_per_user:116.38888 version:video'],\n",
       " ['valid_online_abid4,5,6',\n",
       "  '2019111400',\n",
       "  'video',\n",
       "  'pos_ratio:0.08917 auc:0.53610 time_auc:0.53855 weighted_time_auc:0.64242 click/time_auc:0.58840 click/weighted_time_auc:0.64191 group/auc:0.50837 group/pos_ratio:0.15047 group/top1_score:48.20597 group/top3_score:40.66583 group/time_auc:0.50983 group/weighted_time_auc:0.52805 group/top1_best:177.23414 group/top3_best:84.33249 group/top1_rate:0.27199 group/top3_rate:0.48221 group/top1_click:0.27825 group/top3_click:0.24609 group/top1_click_best:1.00000 group/top3_click_best:0.56188 group/top1_click_rate:0.27825 group/top3_click_rate:0.43798 group/click/auc:0.00000 group/click/pos_ratio:0.00000 group/click/top1_score:150.75433 group/click/top3_score:140.93157 group/click/time_auc:0.53929 group/click/weighted_time_auc:0.61745 group/click/top1_best:177.23414 group/click/top3_best:150.08875 group/click/top1_rate:0.85059 group/click/top3_rate:0.93899 group/click/top1_click:1.00000 group/click/top3_click:1.00000 group/click/top1_click_best:1.00000 group/click/top3_click_best:1.00000 group/click/top1_click_rate:1.00000 group/click/top3_click_rate:1.00000 click_ratio:0.08917 time_per_show:11.90071 time_per_click:133.45411 time_per_user:96.87175 version:video'],\n",
       " ['valid_online_abid4,5,6',\n",
       "  '2019111401',\n",
       "  'video',\n",
       "  'pos_ratio:0.09507 auc:0.55222 time_auc:0.55237 weighted_time_auc:0.63552 click/time_auc:0.55415 click/weighted_time_auc:0.56718 group/auc:0.51387 group/pos_ratio:0.15483 group/top1_score:43.86727 group/top3_score:35.96739 group/time_auc:0.51451 group/weighted_time_auc:0.52437 group/top1_best:154.39015 group/top3_best:74.32524 group/top1_rate:0.28413 group/top3_rate:0.48392 group/top1_click:0.29864 group/top3_click:0.27136 group/top1_click_best:1.00000 group/top3_click_best:0.54856 group/top1_click_rate:0.29864 group/top3_click_rate:0.49467 group/click/auc:0.00000 group/click/pos_ratio:0.00000 group/click/top1_score:133.27652 group/click/top3_score:128.47076 group/click/time_auc:0.53343 group/click/weighted_time_auc:0.63258 group/click/top1_best:154.39015 group/click/top3_best:135.49047 group/click/top1_rate:0.86324 group/click/top3_rate:0.94819 group/click/top1_click:1.00000 group/click/top3_click:1.00000 group/click/top1_click_best:1.00000 group/click/top3_click_best:1.00000 group/click/top1_click_rate:1.00000 group/click/top3_click_rate:1.00000 click_ratio:0.09507 time_per_show:11.88158 time_per_click:124.97420 time_per_user:92.90573 version:video'],\n",
       " ['valid_online_abid4,5,6',\n",
       "  '2019111402',\n",
       "  'video',\n",
       "  'pos_ratio:0.10967 auc:0.53477 time_auc:0.53710 weighted_time_auc:0.63822 click/time_auc:0.57492 click/weighted_time_auc:0.58259 group/auc:0.50822 group/pos_ratio:0.17483 group/top1_score:36.73160 group/top3_score:33.49282 group/time_auc:0.50749 group/weighted_time_auc:0.52275 group/top1_best:140.10512 group/top3_best:66.63172 group/top1_rate:0.26217 group/top3_rate:0.50266 group/top1_click:0.29432 group/top3_click:0.28460 group/top1_click_best:1.00000 group/top3_click_best:0.55899 group/top1_click_rate:0.29432 group/top3_click_rate:0.50914 group/click/auc:0.00000 group/click/pos_ratio:0.00000 group/click/top1_score:117.47512 group/click/top3_score:112.89948 group/click/time_auc:0.53584 group/click/weighted_time_auc:0.65811 group/click/top1_best:140.10512 group/click/top3_best:119.20061 group/click/top1_rate:0.83848 group/click/top3_rate:0.94714 group/click/top1_click:1.00000 group/click/top3_click:1.00000 group/click/top1_click_best:1.00000 group/click/top3_click_best:1.00000 group/click/top1_click_rate:1.00000 group/click/top3_click_rate:1.00000 click_ratio:0.10967 time_per_show:12.39025 time_per_click:112.98262 time_per_user:96.52954 version:video'],\n",
       " ['valid_online_abid4,5,6',\n",
       "  '2019111403',\n",
       "  'video',\n",
       "  'pos_ratio:0.11556 auc:0.53434 time_auc:0.53612 weighted_time_auc:0.62629 click/time_auc:0.56333 click/weighted_time_auc:0.53978 group/auc:0.52145 group/pos_ratio:0.17157 group/top1_score:31.56835 group/top3_score:26.27470 group/time_auc:0.52126 group/weighted_time_auc:0.54744 group/top1_best:122.32374 group/top3_best:58.58644 group/top1_rate:0.25807 group/top3_rate:0.44848 group/top1_click:0.28937 group/top3_click:0.28869 group/top1_click_best:1.00000 group/top3_click_best:0.56504 group/top1_click_rate:0.28937 group/top3_click_rate:0.51093 group/click/auc:0.00000 group/click/pos_ratio:0.00000 group/click/top1_score:103.26699 group/click/top3_score:98.35066 group/click/time_auc:0.53693 group/click/weighted_time_auc:0.69110 group/click/top1_best:122.32374 group/click/top3_best:103.68577 group/click/top1_rate:0.84421 group/click/top3_rate:0.94855 group/click/top1_click:1.00000 group/click/top3_click:1.00000 group/click/top1_click_best:1.00000 group/click/top3_click_best:1.00000 group/click/top1_click_rate:1.00000 group/click/top3_click_rate:1.00000 click_ratio:0.11556 time_per_show:11.54976 time_per_click:99.94790 time_per_user:91.38551 version:video'],\n",
       " ['valid_online_abid4,5,6',\n",
       "  '2019111404',\n",
       "  'video',\n",
       "  'pos_ratio:0.11740 auc:0.49864 time_auc:0.50262 weighted_time_auc:0.59457 click/time_auc:0.56385 click/weighted_time_auc:0.52277 group/auc:0.51311 group/pos_ratio:0.19687 group/top1_score:32.28791 group/top3_score:27.81815 group/time_auc:0.51120 group/weighted_time_auc:0.52890 group/top1_best:122.04513 group/top3_best:58.25347 group/top1_rate:0.26456 group/top3_rate:0.47754 group/top1_click:0.28881 group/top3_click:0.29577 group/top1_click_best:1.00000 group/top3_click_best:0.55696 group/top1_click_rate:0.28881 group/top3_click_rate:0.53104 group/click/auc:0.00000 group/click/pos_ratio:0.00000 group/click/top1_score:101.29422 group/click/top3_score:97.56375 group/click/time_auc:0.51165 group/click/weighted_time_auc:0.64665 group/click/top1_best:122.04513 group/click/top3_best:104.59146 group/click/top1_rate:0.82997 group/click/top3_rate:0.93281 group/click/top1_click:1.00000 group/click/top3_click:1.00000 group/click/top1_click_best:1.00000 group/click/top3_click_best:1.00000 group/click/top1_click_rate:1.00000 group/click/top3_click_rate:1.00000 click_ratio:0.11740 time_per_show:11.45887 time_per_click:97.60692 time_per_user:85.77703 version:video'],\n",
       " ['valid_online_abid4,5,6',\n",
       "  '2019111404',\n",
       "  'video',\n",
       "  'pos_ratio:0.11740 auc:0.49864 time_auc:0.50262 weighted_time_auc:0.59463 click/time_auc:0.56385 click/weighted_time_auc:0.52285 group/auc:0.51311 group/pos_ratio:0.19687 group/top1_score:32.64440 group/top3_score:27.80735 group/time_auc:0.51120 group/weighted_time_auc:0.52971 group/top1_best:122.04513 group/top3_best:58.25347 group/top1_rate:0.26748 group/top3_rate:0.47735 group/top1_click:0.28610 group/top3_click:0.29608 group/top1_click_best:1.00000 group/top3_click_best:0.55696 group/top1_click_rate:0.28610 group/top3_click_rate:0.53160 group/click/auc:0.00000 group/click/pos_ratio:0.00000 group/click/top1_score:101.29422 group/click/top3_score:97.56375 group/click/time_auc:0.51165 group/click/weighted_time_auc:0.64665 group/click/top1_best:122.04513 group/click/top3_best:104.59146 group/click/top1_rate:0.82997 group/click/top3_rate:0.93281 group/click/top1_click:1.00000 group/click/top3_click:1.00000 group/click/top1_click_best:1.00000 group/click/top3_click_best:1.00000 group/click/top1_click_rate:1.00000 group/click/top3_click_rate:1.00000 click_ratio:0.11740 time_per_show:11.45887 time_per_click:97.60692 time_per_user:85.77703 version:video'],\n",
       " ['valid_online_abid4,5,6',\n",
       "  '2019111405',\n",
       "  'video',\n",
       "  'pos_ratio:0.10300 auc:0.49154 time_auc:0.49630 weighted_time_auc:0.60302 click/time_auc:0.58065 click/weighted_time_auc:0.57766 group/auc:0.52928 group/pos_ratio:0.18087 group/top1_score:43.12921 group/top3_score:33.86878 group/time_auc:0.52871 group/weighted_time_auc:0.54108 group/top1_best:134.63257 group/top3_best:62.87179 group/top1_rate:0.32035 group/top3_rate:0.53870 group/top1_click:0.29206 group/top3_click:0.29044 group/top1_click_best:1.00000 group/top3_click_best:0.54594 group/top1_click_rate:0.29206 group/top3_click_rate:0.53201 group/click/auc:0.00000 group/click/pos_ratio:0.00000 group/click/top1_score:114.77725 group/click/top3_score:110.30818 group/click/time_auc:0.53209 group/click/weighted_time_auc:0.65855 group/click/top1_best:134.63257 group/click/top3_best:115.16278 group/click/top1_rate:0.85252 group/click/top3_rate:0.95785 group/click/top1_click:1.00000 group/click/top3_click:1.00000 group/click/top1_click_best:1.00000 group/click/top3_click_best:1.00000 group/click/top1_click_rate:1.00000 group/click/top3_click_rate:1.00000 click_ratio:0.10300 time_per_show:11.19389 time_per_click:108.67474 time_per_user:79.50636 version:video'],\n",
       " ['valid_online_abid4,5,6',\n",
       "  '2019111406',\n",
       "  'video',\n",
       "  'pos_ratio:0.08680 auc:0.49633 time_auc:0.50055 weighted_time_auc:0.61645 click/time_auc:0.59040 click/weighted_time_auc:0.62542 group/auc:0.50538 group/pos_ratio:0.17050 group/top1_score:42.63058 group/top3_score:35.83292 group/time_auc:0.50772 group/weighted_time_auc:0.52254 group/top1_best:149.74221 group/top3_best:66.49598 group/top1_rate:0.28469 group/top3_rate:0.53887 group/top1_click:0.27843 group/top3_click:0.26809 group/top1_click_best:1.00000 group/top3_click_best:0.52887 group/top1_click_rate:0.27843 group/top3_click_rate:0.50691 group/click/auc:0.00000 group/click/pos_ratio:0.00000 group/click/top1_score:132.75906 group/click/top3_score:120.82808 group/click/time_auc:0.55332 group/click/weighted_time_auc:0.67555 group/click/top1_best:149.74221 group/click/top3_best:125.73217 group/click/top1_rate:0.88658 group/click/top3_rate:0.96100 group/click/top1_click:1.00000 group/click/top3_click:1.00000 group/click/top1_click_best:1.00000 group/click/top3_click_best:1.00000 group/click/top1_click_rate:1.00000 group/click/top3_click_rate:1.00000 click_ratio:0.08680 time_per_show:10.25975 time_per_click:118.20000 time_per_user:67.75580 version:video'],\n",
       " ['valid_online_abid4,5,6',\n",
       "  '2019111407',\n",
       "  'video',\n",
       "  'pos_ratio:0.07746 auc:0.51869 time_auc:0.52213 weighted_time_auc:0.62995 click/time_auc:0.60475 click/weighted_time_auc:0.65853 group/auc:0.50013 group/pos_ratio:0.15985 group/top1_score:48.38331 group/top3_score:39.58242 group/time_auc:0.50111 group/weighted_time_auc:0.51392 group/top1_best:167.44589 group/top3_best:73.64492 group/top1_rate:0.28895 group/top3_rate:0.53748 group/top1_click:0.26369 group/top3_click:0.25581 group/top1_click_best:1.00000 group/top3_click_best:0.52638 group/top1_click_rate:0.26369 group/top3_click_rate:0.48599 group/click/auc:0.00000 group/click/pos_ratio:0.00000 group/click/top1_score:148.83246 group/click/top3_score:135.50797 group/click/time_auc:0.54495 group/click/weighted_time_auc:0.65587 group/click/top1_best:167.44589 group/click/top3_best:139.90948 group/click/top1_rate:0.88884 group/click/top3_rate:0.96854 group/click/top1_click:1.00000 group/click/top3_click:1.00000 group/click/top1_click_best:1.00000 group/click/top3_click_best:1.00000 group/click/top1_click_rate:1.00000 group/click/top3_click_rate:1.00000 click_ratio:0.07746 time_per_show:10.30159 time_per_click:132.99663 time_per_user:68.82896 version:video'],\n",
       " ['valid_online_abid4,5,6',\n",
       "  '2019111407',\n",
       "  'video',\n",
       "  'pos_ratio:0.07746 auc:0.51869 time_auc:0.52213 weighted_time_auc:0.62995 click/time_auc:0.60475 click/weighted_time_auc:0.65855 group/auc:0.50013 group/pos_ratio:0.15985 group/top1_score:48.13233 group/top3_score:39.59410 group/time_auc:0.50111 group/weighted_time_auc:0.51458 group/top1_best:167.44589 group/top3_best:73.64492 group/top1_rate:0.28745 group/top3_rate:0.53764 group/top1_click:0.26239 group/top3_click:0.25581 group/top1_click_best:1.00000 group/top3_click_best:0.52638 group/top1_click_rate:0.26239 group/top3_click_rate:0.48599 group/click/auc:0.00000 group/click/pos_ratio:0.00000 group/click/top1_score:148.63950 group/click/top3_score:135.50754 group/click/time_auc:0.54495 group/click/weighted_time_auc:0.65631 group/click/top1_best:167.44589 group/click/top3_best:139.90948 group/click/top1_rate:0.88769 group/click/top3_rate:0.96854 group/click/top1_click:1.00000 group/click/top3_click:1.00000 group/click/top1_click_best:1.00000 group/click/top3_click_best:1.00000 group/click/top1_click_rate:1.00000 group/click/top3_click_rate:1.00000 click_ratio:0.07746 time_per_show:10.30159 time_per_click:132.99663 time_per_user:68.82896 version:video'],\n",
       " ['valid_online_abid4,5,6',\n",
       "  '2019111408',\n",
       "  'video',\n",
       "  'pos_ratio:0.08149 auc:0.52771 time_auc:0.53052 weighted_time_auc:0.63377 click/time_auc:0.59411 click/weighted_time_auc:0.64445 group/auc:0.50004 group/pos_ratio:0.15980 group/top1_score:47.74269 group/top3_score:41.11235 group/time_auc:0.50183 group/weighted_time_auc:0.51593 group/top1_best:171.77847 group/top3_best:77.21171 group/top1_rate:0.27793 group/top3_rate:0.53246 group/top1_click:0.26914 group/top3_click:0.26182 group/top1_click_best:1.00000 group/top3_click_best:0.53837 group/top1_click_rate:0.26914 group/top3_click_rate:0.48633 group/click/auc:0.00000 group/click/pos_ratio:0.00000 group/click/top1_score:149.42004 group/click/top3_score:138.54483 group/click/time_auc:0.54749 group/click/weighted_time_auc:0.65305 group/click/top1_best:171.77847 group/click/top3_best:143.41757 group/click/top1_rate:0.86984 group/click/top3_rate:0.96602 group/click/top1_click:1.00000 group/click/top3_click:1.00000 group/click/top1_click_best:1.00000 group/click/top3_click_best:1.00000 group/click/top1_click_rate:1.00000 group/click/top3_click_rate:1.00000 click_ratio:0.08149 time_per_show:10.98721 time_per_click:134.82603 time_per_user:76.54460 version:video'],\n",
       " ['valid_online_abid4,5,6',\n",
       "  '2019111409',\n",
       "  'video',\n",
       "  'pos_ratio:0.08698 auc:0.52692 time_auc:0.53006 weighted_time_auc:0.63402 click/time_auc:0.59621 click/weighted_time_auc:0.64327 group/auc:0.51037 group/pos_ratio:0.16303 group/top1_score:45.32588 group/top3_score:38.11682 group/time_auc:0.51198 group/weighted_time_auc:0.52654 group/top1_best:170.40460 group/top3_best:78.92433 group/top1_rate:0.26599 group/top3_rate:0.48295 group/top1_click:0.25915 group/top3_click:0.25113 group/top1_click_best:1.00000 group/top3_click_best:0.54646 group/top1_click_rate:0.25915 group/top3_click_rate:0.45955 group/click/auc:0.00000 group/click/pos_ratio:0.00000 group/click/top1_score:144.95789 group/click/top3_score:136.87619 group/click/time_auc:0.55104 group/click/weighted_time_auc:0.62970 group/click/top1_best:170.40460 group/click/top3_best:144.42860 group/click/top1_rate:0.85067 group/click/top3_rate:0.94771 group/click/top1_click:1.00000 group/click/top3_click:1.00000 group/click/top1_click_best:1.00000 group/click/top3_click_best:1.00000 group/click/top1_click_rate:1.00000 group/click/top3_click_rate:1.00000 click_ratio:0.08698 time_per_show:11.60027 time_per_click:133.37065 time_per_user:82.07311 version:video'],\n",
       " ['valid_online_abid4,5,6',\n",
       "  '2019111410',\n",
       "  'video',\n",
       "  'pos_ratio:0.08726 auc:0.53293 time_auc:0.53509 weighted_time_auc:0.63217 click/time_auc:0.58028 click/weighted_time_auc:0.62449 group/auc:0.50634 group/pos_ratio:0.16086 group/top1_score:42.17439 group/top3_score:36.71335 group/time_auc:0.50703 group/weighted_time_auc:0.52575 group/top1_best:164.46337 group/top3_best:75.74112 group/top1_rate:0.25644 group/top3_rate:0.48472 group/top1_click:0.25704 group/top3_click:0.25103 group/top1_click_best:1.00000 group/top3_click_best:0.55565 group/top1_click_rate:0.25704 group/top3_click_rate:0.45178 group/click/auc:0.00000 group/click/pos_ratio:0.00000 group/click/top1_score:141.57577 group/click/top3_score:129.32732 group/click/time_auc:0.55259 group/click/weighted_time_auc:0.64401 group/click/top1_best:164.46337 group/click/top3_best:136.31027 group/click/top1_rate:0.86083 group/click/top3_rate:0.94877 group/click/top1_click:1.00000 group/click/top3_click:1.00000 group/click/top1_click_best:1.00000 group/click/top3_click_best:1.00000 group/click/top1_click_rate:1.00000 group/click/top3_click_rate:1.00000 click_ratio:0.08726 time_per_show:10.91752 time_per_click:125.10936 time_per_user:80.18818 version:video'],\n",
       " ['valid_online_abid4,5,6',\n",
       "  '2019111411',\n",
       "  'video',\n",
       "  'pos_ratio:0.08304 auc:0.54369 time_auc:0.54564 weighted_time_auc:0.64532 click/time_auc:0.58845 click/weighted_time_auc:0.63280 group/auc:0.49518 group/pos_ratio:0.15466 group/top1_score:46.22856 group/top3_score:37.67269 group/time_auc:0.49660 group/weighted_time_auc:0.51014 group/top1_best:161.95583 group/top3_best:74.13821 group/top1_rate:0.28544 group/top3_rate:0.50814 group/top1_click:0.27273 group/top3_click:0.25181 group/top1_click_best:1.00000 group/top3_click_best:0.54747 group/top1_click_rate:0.27273 group/top3_click_rate:0.45995 group/click/auc:0.00000 group/click/pos_ratio:0.00000 group/click/top1_score:139.56911 group/click/top3_score:129.69300 group/click/time_auc:0.55105 group/click/weighted_time_auc:0.63137 group/click/top1_best:161.95583 group/click/top3_best:135.41845 group/click/top1_rate:0.86177 group/click/top3_rate:0.95772 group/click/top1_click:1.00000 group/click/top3_click:1.00000 group/click/top1_click_best:1.00000 group/click/top3_click_best:1.00000 group/click/top1_click_rate:1.00000 group/click/top3_click_rate:1.00000 click_ratio:0.08304 time_per_show:10.40762 time_per_click:125.32775 time_per_user:75.83496 version:video'],\n",
       " ['valid_online_abid4,5,6',\n",
       "  '2019111412',\n",
       "  'video',\n",
       "  'pos_ratio:0.08939 auc:0.54218 time_auc:0.54403 weighted_time_auc:0.63426 click/time_auc:0.58157 click/weighted_time_auc:0.62882 group/auc:0.49856 group/pos_ratio:0.16257 group/top1_score:49.06902 group/top3_score:41.09816 group/time_auc:0.50007 group/weighted_time_auc:0.51557 group/top1_best:177.04376 group/top3_best:81.68774 group/top1_rate:0.27716 group/top3_rate:0.50311 group/top1_click:0.26453 group/top3_click:0.25229 group/top1_click_best:1.00000 group/top3_click_best:0.54988 group/top1_click_rate:0.26453 group/top3_click_rate:0.45881 group/click/auc:0.00000 group/click/pos_ratio:0.00000 group/click/top1_score:152.57871 group/click/top3_score:142.86357 group/click/time_auc:0.55159 group/click/weighted_time_auc:0.63537 group/click/top1_best:177.04376 group/click/top3_best:148.55687 group/click/top1_rate:0.86181 group/click/top3_rate:0.96168 group/click/top1_click:1.00000 group/click/top3_click:1.00000 group/click/top1_click_best:1.00000 group/click/top3_click_best:1.00000 group/click/top1_click_rate:1.00000 group/click/top3_click_rate:1.00000 click_ratio:0.08939 time_per_show:12.22838 time_per_click:136.79597 time_per_user:91.35918 version:video'],\n",
       " ['valid_online_abid4,5,6',\n",
       "  '2019111412',\n",
       "  'video',\n",
       "  'pos_ratio:0.08939 auc:0.54218 time_auc:0.54403 weighted_time_auc:0.63427 click/time_auc:0.58157 click/weighted_time_auc:0.62882 group/auc:0.49856 group/pos_ratio:0.16257 group/top1_score:49.05378 group/top3_score:41.09234 group/time_auc:0.50007 group/weighted_time_auc:0.51577 group/top1_best:177.04376 group/top3_best:81.68774 group/top1_rate:0.27707 group/top3_rate:0.50304 group/top1_click:0.26366 group/top3_click:0.25221 group/top1_click_best:1.00000 group/top3_click_best:0.54988 group/top1_click_rate:0.26366 group/top3_click_rate:0.45867 group/click/auc:0.00000 group/click/pos_ratio:0.00000 group/click/top1_score:152.57305 group/click/top3_score:142.85477 group/click/time_auc:0.55159 group/click/weighted_time_auc:0.63520 group/click/top1_best:177.04376 group/click/top3_best:148.55687 group/click/top1_rate:0.86178 group/click/top3_rate:0.96162 group/click/top1_click:1.00000 group/click/top3_click:1.00000 group/click/top1_click_best:1.00000 group/click/top3_click_best:1.00000 group/click/top1_click_rate:1.00000 group/click/top3_click_rate:1.00000 click_ratio:0.08939 time_per_show:12.22838 time_per_click:136.79597 time_per_user:91.35918 version:video'],\n",
       " ['valid_online_abid4,5,6',\n",
       "  '2019111413',\n",
       "  'video',\n",
       "  'pos_ratio:0.08481 auc:0.53496 time_auc:0.53762 weighted_time_auc:0.64081 click/time_auc:0.59505 click/weighted_time_auc:0.65461 group/auc:0.50392 group/pos_ratio:0.15051 group/top1_score:47.12922 group/top3_score:38.00381 group/time_auc:0.50500 group/weighted_time_auc:0.52166 group/top1_best:164.24027 group/top3_best:75.89752 group/top1_rate:0.28695 group/top3_rate:0.50073 group/top1_click:0.26959 group/top3_click:0.24375 group/top1_click_best:1.00000 group/top3_click_best:0.54966 group/top1_click_rate:0.26959 group/top3_click_rate:0.44346 group/click/auc:0.00000 group/click/pos_ratio:0.00000 group/click/top1_score:143.21406 group/click/top3_score:132.72981 group/click/time_auc:0.55496 group/click/weighted_time_auc:0.64795 group/click/top1_best:164.24027 group/click/top3_best:138.08193 group/click/top1_rate:0.87198 group/click/top3_rate:0.96124 group/click/top1_click:1.00000 group/click/top3_click:1.00000 group/click/top1_click_best:1.00000 group/click/top3_click_best:1.00000 group/click/top1_click_rate:1.00000 group/click/top3_click_rate:1.00000 click_ratio:0.08481 time_per_show:10.78711 time_per_click:127.19473 time_per_user:82.50921 version:video'],\n",
       " ['valid_online_abid4,5,6',\n",
       "  '2019111414',\n",
       "  'video',\n",
       "  'pos_ratio:0.08391 auc:0.54188 time_auc:0.54363 weighted_time_auc:0.63560 click/time_auc:0.58154 click/weighted_time_auc:0.62130 group/auc:0.49769 group/pos_ratio:0.14953 group/top1_score:43.28204 group/top3_score:37.63978 group/time_auc:0.49674 group/weighted_time_auc:0.52047 group/top1_best:168.46641 group/top3_best:77.93521 group/top1_rate:0.25692 group/top3_rate:0.48296 group/top1_click:0.25126 group/top3_click:0.24104 group/top1_click_best:1.00000 group/top3_click_best:0.54615 group/top1_click_rate:0.25126 group/top3_click_rate:0.44134 group/click/auc:0.00000 group/click/pos_ratio:0.00000 group/click/top1_score:143.04587 group/click/top3_score:136.09015 group/click/time_auc:0.53494 group/click/weighted_time_auc:0.61551 group/click/top1_best:168.46641 group/click/top3_best:142.69992 group/click/top1_rate:0.84911 group/click/top3_rate:0.95368 group/click/top1_click:1.00000 group/click/top3_click:1.00000 group/click/top1_click_best:1.00000 group/click/top3_click_best:1.00000 group/click/top1_click_rate:1.00000 group/click/top3_click_rate:1.00000 click_ratio:0.08391 time_per_show:10.84669 time_per_click:129.26890 time_per_user:84.91380 version:video'],\n",
       " ['valid_online_abid4,5,6',\n",
       "  '2019111414',\n",
       "  'video',\n",
       "  'pos_ratio:0.08391 auc:0.54188 time_auc:0.54363 weighted_time_auc:0.63560 click/time_auc:0.58154 click/weighted_time_auc:0.62133 group/auc:0.49769 group/pos_ratio:0.14953 group/top1_score:43.04854 group/top3_score:37.68850 group/time_auc:0.49674 group/weighted_time_auc:0.52086 group/top1_best:168.46641 group/top3_best:77.93521 group/top1_rate:0.25553 group/top3_rate:0.48359 group/top1_click:0.24978 group/top3_click:0.24114 group/top1_click_best:1.00000 group/top3_click_best:0.54615 group/top1_click_rate:0.24978 group/top3_click_rate:0.44153 group/click/auc:0.00000 group/click/pos_ratio:0.00000 group/click/top1_score:143.05001 group/click/top3_score:136.09600 group/click/time_auc:0.53494 group/click/weighted_time_auc:0.61540 group/click/top1_best:168.46641 group/click/top3_best:142.69992 group/click/top1_rate:0.84913 group/click/top3_rate:0.95372 group/click/top1_click:1.00000 group/click/top3_click:1.00000 group/click/top1_click_best:1.00000 group/click/top3_click_best:1.00000 group/click/top1_click_rate:1.00000 group/click/top3_click_rate:1.00000 click_ratio:0.08391 time_per_show:10.84669 time_per_click:129.26890 time_per_user:84.91380 version:video'],\n",
       " ['valid_online_abid4,5,6',\n",
       "  '2019111414',\n",
       "  'video',\n",
       "  'pos_ratio:0.08391 auc:0.54188 time_auc:0.54363 weighted_time_auc:0.63559 click/time_auc:0.58154 click/weighted_time_auc:0.62132 group/auc:0.49769 group/pos_ratio:0.14953 group/top1_score:43.01983 group/top3_score:37.61125 group/time_auc:0.49674 group/weighted_time_auc:0.51976 group/top1_best:168.46641 group/top3_best:77.93521 group/top1_rate:0.25536 group/top3_rate:0.48260 group/top1_click:0.24978 group/top3_click:0.24104 group/top1_click_best:1.00000 group/top3_click_best:0.54615 group/top1_click_rate:0.24978 group/top3_click_rate:0.44134 group/click/auc:0.00000 group/click/pos_ratio:0.00000 group/click/top1_score:143.04054 group/click/top3_score:136.09015 group/click/time_auc:0.53494 group/click/weighted_time_auc:0.61542 group/click/top1_best:168.46641 group/click/top3_best:142.69992 group/click/top1_rate:0.84907 group/click/top3_rate:0.95368 group/click/top1_click:1.00000 group/click/top3_click:1.00000 group/click/top1_click_best:1.00000 group/click/top3_click_best:1.00000 group/click/top1_click_rate:1.00000 group/click/top3_click_rate:1.00000 click_ratio:0.08391 time_per_show:10.84669 time_per_click:129.26890 time_per_user:84.91380 version:video'],\n",
       " ['valid_online_abid4,5,6',\n",
       "  '2019111414',\n",
       "  'video',\n",
       "  'pos_ratio:0.08391 auc:0.54188 time_auc:0.54363 weighted_time_auc:0.63560 click/time_auc:0.58154 click/weighted_time_auc:0.62132 group/auc:0.49769 group/pos_ratio:0.14953 group/top1_score:43.09885 group/top3_score:37.61351 group/time_auc:0.49674 group/weighted_time_auc:0.52078 group/top1_best:168.46641 group/top3_best:77.93521 group/top1_rate:0.25583 group/top3_rate:0.48263 group/top1_click:0.24830 group/top3_click:0.24104 group/top1_click_best:1.00000 group/top3_click_best:0.54615 group/top1_click_rate:0.24830 group/top3_click_rate:0.44134 group/click/auc:0.00000 group/click/pos_ratio:0.00000 group/click/top1_score:143.03640 group/click/top3_score:136.09600 group/click/time_auc:0.53494 group/click/weighted_time_auc:0.61575 group/click/top1_best:168.46641 group/click/top3_best:142.69992 group/click/top1_rate:0.84905 group/click/top3_rate:0.95372 group/click/top1_click:1.00000 group/click/top3_click:1.00000 group/click/top1_click_best:1.00000 group/click/top3_click_best:1.00000 group/click/top1_click_rate:1.00000 group/click/top3_click_rate:1.00000 click_ratio:0.08391 time_per_show:10.84669 time_per_click:129.26890 time_per_user:84.91380 version:video'],\n",
       " ['valid_online_abid4,5,6',\n",
       "  '2019111415',\n",
       "  'video',\n",
       "  'pos_ratio:0.08285 auc:0.54417 time_auc:0.54539 weighted_time_auc:0.63249 click/time_auc:0.57183 click/weighted_time_auc:0.61523 group/auc:0.50527 group/pos_ratio:0.15188 group/top1_score:46.79386 group/top3_score:39.29613 group/time_auc:0.50341 group/weighted_time_auc:0.52536 group/top1_best:168.96351 group/top3_best:80.11501 group/top1_rate:0.27695 group/top3_rate:0.49050 group/top1_click:0.26300 group/top3_click:0.24615 group/top1_click_best:1.00000 group/top3_click_best:0.55427 group/top1_click_rate:0.26300 group/top3_click_rate:0.44410 group/click/auc:0.00000 group/click/pos_ratio:0.00000 group/click/top1_score:143.96169 group/click/top3_score:136.58633 group/click/time_auc:0.54618 group/click/weighted_time_auc:0.63985 group/click/top1_best:168.96351 group/click/top3_best:144.54135 group/click/top1_rate:0.85203 group/click/top3_rate:0.94496 group/click/top1_click:1.00000 group/click/top3_click:1.00000 group/click/top1_click_best:1.00000 group/click/top3_click_best:1.00000 group/click/top1_click_rate:1.00000 group/click/top3_click_rate:1.00000 click_ratio:0.08285 time_per_show:10.84548 time_per_click:130.90965 time_per_user:85.47394 version:video'],\n",
       " ['valid_online_abid4,5,6',\n",
       "  '2019111416',\n",
       "  'video',\n",
       "  'pos_ratio:0.08385 auc:0.55935 time_auc:0.55997 weighted_time_auc:0.64598 click/time_auc:0.57266 click/weighted_time_auc:0.61038 group/auc:0.50307 group/pos_ratio:0.15138 group/top1_score:47.26592 group/top3_score:39.87719 group/time_auc:0.50484 group/weighted_time_auc:0.51585 group/top1_best:172.80438 group/top3_best:80.32322 group/top1_rate:0.27352 group/top3_rate:0.49646 group/top1_click:0.27082 group/top3_click:0.24884 group/top1_click_best:1.00000 group/top3_click_best:0.55226 group/top1_click_rate:0.27082 group/top3_click_rate:0.45059 group/click/auc:0.00000 group/click/pos_ratio:0.00000 group/click/top1_score:147.84443 group/click/top3_score:138.05587 group/click/time_auc:0.55494 group/click/weighted_time_auc:0.63592 group/click/top1_best:172.80438 group/click/top3_best:145.44422 group/click/top1_rate:0.85556 group/click/top3_rate:0.94920 group/click/top1_click:1.00000 group/click/top3_click:1.00000 group/click/top1_click_best:1.00000 group/click/top3_click_best:1.00000 group/click/top1_click_rate:1.00000 group/click/top3_click_rate:1.00000 click_ratio:0.08385 time_per_show:11.03816 time_per_click:131.64609 time_per_user:87.85058 version:video'],\n",
       " ['valid_online_abid4,5,6',\n",
       "  '2019111417',\n",
       "  'video',\n",
       "  'pos_ratio:0.08744 auc:0.54963 time_auc:0.55050 weighted_time_auc:0.63127 click/time_auc:0.56794 click/weighted_time_auc:0.60444 group/auc:0.49313 group/pos_ratio:0.15918 group/top1_score:43.54600 group/top3_score:39.70993 group/time_auc:0.49335 group/weighted_time_auc:0.50973 group/top1_best:175.40081 group/top3_best:80.75217 group/top1_rate:0.24827 group/top3_rate:0.49175 group/top1_click:0.26191 group/top3_click:0.24730 group/top1_click_best:1.00000 group/top3_click_best:0.55230 group/top1_click_rate:0.26191 group/top3_click_rate:0.44777 group/click/auc:0.00000 group/click/pos_ratio:0.00000 group/click/top1_score:147.21906 group/click/top3_score:139.92606 group/click/time_auc:0.54964 group/click/weighted_time_auc:0.62186 group/click/top1_best:175.40081 group/click/top3_best:146.21164 group/click/top1_rate:0.83933 group/click/top3_rate:0.95701 group/click/top1_click:1.00000 group/click/top3_click:1.00000 group/click/top1_click_best:1.00000 group/click/top3_click_best:1.00000 group/click/top1_click_rate:1.00000 group/click/top3_click_rate:1.00000 click_ratio:0.08744 time_per_show:11.60422 time_per_click:132.70449 time_per_user:87.52544 version:video'],\n",
       " ['valid_online_abid4,5,6',\n",
       "  '2019111418',\n",
       "  'video',\n",
       "  'pos_ratio:0.08985 auc:0.54840 time_auc:0.54966 weighted_time_auc:0.63153 click/time_auc:0.57484 click/weighted_time_auc:0.61781 group/auc:0.48633 group/pos_ratio:0.15332 group/top1_score:49.27407 group/top3_score:40.80040 group/time_auc:0.48702 group/weighted_time_auc:0.50665 group/top1_best:187.37035 group/top3_best:88.23124 group/top1_rate:0.26298 group/top3_rate:0.46243 group/top1_click:0.26085 group/top3_click:0.23432 group/top1_click_best:1.00000 group/top3_click_best:0.56424 group/top1_click_rate:0.26085 group/top3_click_rate:0.41528 group/click/auc:0.00000 group/click/pos_ratio:0.00000 group/click/top1_score:157.62613 group/click/top3_score:148.03506 group/click/time_auc:0.56713 group/click/weighted_time_auc:0.62577 group/click/top1_best:187.37035 group/click/top3_best:156.37271 group/click/top1_rate:0.84125 group/click/top3_rate:0.94668 group/click/top1_click:1.00000 group/click/top3_click:1.00000 group/click/top1_click_best:1.00000 group/click/top3_click_best:1.00000 group/click/top1_click_rate:1.00000 group/click/top3_click_rate:1.00000 click_ratio:0.08985 time_per_show:12.65876 time_per_click:140.87988 time_per_user:100.39569 version:video'],\n",
       " ['valid_online_abid4,5,6',\n",
       "  '2019111419',\n",
       "  'video',\n",
       "  'pos_ratio:0.08784 auc:0.56150 time_auc:0.56227 weighted_time_auc:0.64948 click/time_auc:0.57755 click/weighted_time_auc:0.62712 group/auc:0.50446 group/pos_ratio:0.14471 group/top1_score:45.71246 group/top3_score:40.22967 group/time_auc:0.50550 group/weighted_time_auc:0.52466 group/top1_best:183.56869 group/top3_best:86.59327 group/top1_rate:0.24902 group/top3_rate:0.46458 group/top1_click:0.24622 group/top3_click:0.23344 group/top1_click_best:1.00000 group/top3_click_best:0.56471 group/top1_click_rate:0.24622 group/top3_click_rate:0.41339 group/click/auc:0.00000 group/click/pos_ratio:0.00000 group/click/top1_score:154.53376 group/click/top3_score:144.13823 group/click/time_auc:0.55715 group/click/weighted_time_auc:0.62127 group/click/top1_best:183.56869 group/click/top3_best:153.34224 group/click/top1_rate:0.84183 group/click/top3_rate:0.93998 group/click/top1_click:1.00000 group/click/top3_click:1.00000 group/click/top1_click_best:1.00000 group/click/top3_click_best:1.00000 group/click/top1_click_rate:1.00000 group/click/top3_click_rate:1.00000 click_ratio:0.08784 time_per_show:12.01698 time_per_click:136.80752 time_per_user:102.17980 version:video'],\n",
       " ['valid_online_abid4,5,6',\n",
       "  '2019111420',\n",
       "  'video',\n",
       "  'pos_ratio:0.08316 auc:0.55924 time_auc:0.56100 weighted_time_auc:0.66717 click/time_auc:0.59918 click/weighted_time_auc:0.66969 group/auc:0.50344 group/pos_ratio:0.13429 group/top1_score:60.99902 group/top3_score:47.89627 group/time_auc:0.50435 group/weighted_time_auc:0.52326 group/top1_best:212.07391 group/top3_best:100.64131 group/top1_rate:0.28763 group/top3_rate:0.47591 group/top1_click:0.25156 group/top3_click:0.22540 group/top1_click_best:1.00000 group/top3_click_best:0.56681 group/top1_click_rate:0.25156 group/top3_click_rate:0.39767 group/click/auc:0.00000 group/click/pos_ratio:0.00000 group/click/top1_score:181.02301 group/click/top3_score:167.14526 group/click/time_auc:0.55357 group/click/weighted_time_auc:0.62174 group/click/top1_best:212.07391 group/click/top3_best:177.55721 group/click/top1_rate:0.85358 group/click/top3_rate:0.94136 group/click/top1_click:1.00000 group/click/top3_click:1.00000 group/click/top1_click_best:1.00000 group/click/top3_click_best:1.00000 group/click/top1_click_rate:1.00000 group/click/top3_click_rate:1.00000 click_ratio:0.08316 time_per_show:13.00290 time_per_click:156.36791 time_per_user:121.43743 version:video'],\n",
       " ['valid_online_abid4,5,6',\n",
       "  '2019111421',\n",
       "  'video',\n",
       "  'pos_ratio:0.08271 auc:0.56562 time_auc:0.56724 weighted_time_auc:0.67126 click/time_auc:0.60250 click/weighted_time_auc:0.66963 group/auc:0.50396 group/pos_ratio:0.13502 group/top1_score:58.01668 group/top3_score:47.03811 group/time_auc:0.50327 group/weighted_time_auc:0.52733 group/top1_best:214.36059 group/top3_best:101.67511 group/top1_rate:0.27065 group/top3_rate:0.46263 group/top1_click:0.25701 group/top3_click:0.22442 group/top1_click_best:1.00000 group/top3_click_best:0.56293 group/top1_click_rate:0.25701 group/top3_click_rate:0.39867 group/click/auc:0.00000 group/click/pos_ratio:0.00000 group/click/top1_score:183.48158 group/click/top3_score:171.15203 group/click/time_auc:0.57865 group/click/weighted_time_auc:0.63704 group/click/top1_best:214.36059 group/click/top3_best:180.61784 group/click/top1_rate:0.85595 group/click/top3_rate:0.94759 group/click/top1_click:1.00000 group/click/top3_click:1.00000 group/click/top1_click_best:1.00000 group/click/top3_click_best:1.00000 group/click/top1_click_rate:1.00000 group/click/top3_click_rate:1.00000 click_ratio:0.08271 time_per_show:13.35546 time_per_click:161.46415 time_per_user:123.26392 version:video'],\n",
       " ['valid_online_abid4,5,6',\n",
       "  '2019111422',\n",
       "  'video',\n",
       "  'pos_ratio:0.07998 auc:0.55598 time_auc:0.55852 weighted_time_auc:0.67591 click/time_auc:0.61687 click/weighted_time_auc:0.69891 group/auc:0.50171 group/pos_ratio:0.13457 group/top1_score:64.57953 group/top3_score:49.16185 group/time_auc:0.50359 group/weighted_time_auc:0.52415 group/top1_best:222.25236 group/top3_best:103.57594 group/top1_rate:0.29057 group/top3_rate:0.47465 group/top1_click:0.25256 group/top3_click:0.22301 group/top1_click_best:1.00000 group/top3_click_best:0.55614 group/top1_click_rate:0.25256 group/top3_click_rate:0.40100 group/click/auc:0.00000 group/click/pos_ratio:0.00000 group/click/top1_score:189.71848 group/click/top3_score:175.97893 group/click/time_auc:0.56621 group/click/weighted_time_auc:0.61405 group/click/top1_best:222.25236 group/click/top3_best:186.24188 group/click/top1_rate:0.85362 group/click/top3_rate:0.94489 group/click/top1_click:1.00000 group/click/top3_click:1.00000 group/click/top1_click_best:1.00000 group/click/top3_click_best:1.00000 group/click/top1_click_rate:1.00000 group/click/top3_click_rate:1.00000 click_ratio:0.07998 time_per_show:13.14508 time_per_click:164.35657 time_per_user:120.46390 version:video'],\n",
       " ['valid_online_abid4,5,6',\n",
       "  '2019111423',\n",
       "  'video',\n",
       "  'pos_ratio:0.08159 auc:0.54904 time_auc:0.55236 weighted_time_auc:0.67007 click/time_auc:0.62733 click/weighted_time_auc:0.71206 group/auc:0.50420 group/pos_ratio:0.13798 group/top1_score:57.26359 group/top3_score:48.48067 group/time_auc:0.50774 group/weighted_time_auc:0.53161 group/top1_best:217.71160 group/top3_best:102.70437 group/top1_rate:0.26302 group/top3_rate:0.47204 group/top1_click:0.24004 group/top3_click:0.22465 group/top1_click_best:1.00000 group/top3_click_best:0.56798 group/top1_click_rate:0.24004 group/top3_click_rate:0.39553 group/click/auc:0.00000 group/click/pos_ratio:0.00000 group/click/top1_score:186.60261 group/click/top3_score:171.21826 group/click/time_auc:0.58431 group/click/weighted_time_auc:0.64724 group/click/top1_best:217.71160 group/click/top3_best:180.82441 group/click/top1_rate:0.85711 group/click/top3_rate:0.94688 group/click/top1_click:1.00000 group/click/top3_click:1.00000 group/click/top1_click_best:1.00000 group/click/top3_click_best:1.00000 group/click/top1_click_rate:1.00000 group/click/top3_click_rate:1.00000 click_ratio:0.08159 time_per_show:12.98396 time_per_click:159.13746 time_per_user:120.05768 version:video'],\n",
       " ['valid_online_abid4,5,6',\n",
       "  '2019111500',\n",
       "  'video',\n",
       "  'pos_ratio:0.08657 auc:0.54967 time_auc:0.55130 weighted_time_auc:0.64884 click/time_auc:0.58494 click/weighted_time_auc:0.64316 group/auc:0.48895 group/pos_ratio:0.14995 group/top1_score:43.34669 group/top3_score:39.53128 group/time_auc:0.49141 group/weighted_time_auc:0.51223 group/top1_best:176.89123 group/top3_best:85.95513 group/top1_rate:0.24505 group/top3_rate:0.45991 group/top1_click:0.26312 group/top3_click:0.24058 group/top1_click_best:1.00000 group/top3_click_best:0.56176 group/top1_click_rate:0.26312 group/top3_click_rate:0.42826 group/click/auc:0.00000 group/click/pos_ratio:0.00000 group/click/top1_score:150.39434 group/click/top3_score:142.65227 group/click/time_auc:0.55386 group/click/weighted_time_auc:0.62560 group/click/top1_best:176.89123 group/click/top3_best:153.01020 group/click/top1_rate:0.85021 group/click/top3_rate:0.93231 group/click/top1_click:1.00000 group/click/top3_click:1.00000 group/click/top1_click_best:1.00000 group/click/top3_click_best:1.00000 group/click/top1_click_rate:1.00000 group/click/top3_click_rate:1.00000 click_ratio:0.08657 time_per_show:11.85761 time_per_click:136.97228 time_per_user:98.30706 version:video'],\n",
       " ['valid_online_abid4,5,6',\n",
       "  '2019111501',\n",
       "  'video',\n",
       "  'pos_ratio:0.09330 auc:0.53600 time_auc:0.53783 weighted_time_auc:0.63330 click/time_auc:0.57265 click/weighted_time_auc:0.60371 group/auc:0.49139 group/pos_ratio:0.15371 group/top1_score:48.25199 group/top3_score:39.17504 group/time_auc:0.49469 group/weighted_time_auc:0.51436 group/top1_best:164.68900 group/top3_best:79.93836 group/top1_rate:0.29299 group/top3_rate:0.49007 group/top1_click:0.30516 group/top3_click:0.26313 group/top1_click_best:1.00000 group/top3_click_best:0.55460 group/top1_click_rate:0.30516 group/top3_click_rate:0.47444 group/click/auc:0.00000 group/click/pos_ratio:0.00000 group/click/top1_score:141.68315 group/click/top3_score:136.60823 group/click/time_auc:0.55325 group/click/weighted_time_auc:0.66743 group/click/top1_best:164.68900 group/click/top3_best:144.13585 group/click/top1_rate:0.86031 group/click/top3_rate:0.94777 group/click/top1_click:1.00000 group/click/top3_click:1.00000 group/click/top1_click_best:1.00000 group/click/top3_click_best:1.00000 group/click/top1_click_rate:1.00000 group/click/top3_click_rate:1.00000 click_ratio:0.09330 time_per_show:12.36349 time_per_click:132.51157 time_per_user:94.26772 version:video'],\n",
       " ['valid_online_abid4,5,6',\n",
       "  '2019111502',\n",
       "  'video',\n",
       "  'pos_ratio:0.09894 auc:0.54622 time_auc:0.54761 weighted_time_auc:0.64765 click/time_auc:0.57224 click/weighted_time_auc:0.58957 group/auc:0.50183 group/pos_ratio:0.16383 group/top1_score:40.55538 group/top3_score:35.21141 group/time_auc:0.50379 group/weighted_time_auc:0.53302 group/top1_best:144.99607 group/top3_best:70.36331 group/top1_rate:0.27970 group/top3_rate:0.50042 group/top1_click:0.30479 group/top3_click:0.28626 group/top1_click_best:1.00000 group/top3_click_best:0.56814 group/top1_click_rate:0.30479 group/top3_click_rate:0.50386 group/click/auc:0.00000 group/click/pos_ratio:0.00000 group/click/top1_score:126.69049 group/click/top3_score:117.71187 group/click/time_auc:0.56580 group/click/weighted_time_auc:0.69394 group/click/top1_best:144.99607 group/click/top3_best:123.84894 group/click/top1_rate:0.87375 group/click/top3_rate:0.95045 group/click/top1_click:1.00000 group/click/top3_click:1.00000 group/click/top1_click_best:1.00000 group/click/top3_click_best:1.00000 group/click/top1_click_rate:1.00000 group/click/top3_click_rate:1.00000 click_ratio:0.09894 time_per_show:11.51802 time_per_click:116.41202 time_per_user:94.01893 version:video'],\n",
       " ['valid_online_abid4,5,6',\n",
       "  '2019111503',\n",
       "  'video',\n",
       "  'pos_ratio:0.10902 auc:0.53001 time_auc:0.53161 weighted_time_auc:0.61849 click/time_auc:0.55758 click/weighted_time_auc:0.52988 group/auc:0.49620 group/pos_ratio:0.17127 group/top1_score:31.44026 group/top3_score:26.89078 group/time_auc:0.49917 group/weighted_time_auc:0.50918 group/top1_best:127.66544 group/top3_best:60.92203 group/top1_rate:0.24627 group/top3_rate:0.44140 group/top1_click:0.28217 group/top3_click:0.27904 group/top1_click_best:1.00000 group/top3_click_best:0.55713 group/top1_click_rate:0.28217 group/top3_click_rate:0.50085 group/click/auc:0.00000 group/click/pos_ratio:0.00000 group/click/top1_score:109.45772 group/click/top3_score:102.93598 group/click/time_auc:0.54439 group/click/weighted_time_auc:0.67838 group/click/top1_best:127.66544 group/click/top3_best:109.34901 group/click/top1_rate:0.85738 group/click/top3_rate:0.94135 group/click/top1_click:1.00000 group/click/top3_click:1.00000 group/click/top1_click_best:1.00000 group/click/top3_click_best:1.00000 group/click/top1_click_rate:1.00000 group/click/top3_click_rate:1.00000 click_ratio:0.10902 time_per_show:11.20877 time_per_click:102.80990 time_per_user:90.72783 version:video'],\n",
       " ['valid_online_abid4,5,6',\n",
       "  '2019111504',\n",
       "  'video',\n",
       "  'pos_ratio:0.10385 auc:0.52343 time_auc:0.52432 weighted_time_auc:0.61450 click/time_auc:0.53972 click/weighted_time_auc:0.52367 group/auc:0.48290 group/pos_ratio:0.18219 group/top1_score:31.28996 group/top3_score:30.37552 group/time_auc:0.48490 group/weighted_time_auc:0.50382 group/top1_best:134.55669 group/top3_best:61.12337 group/top1_rate:0.23254 group/top3_rate:0.49695 group/top1_click:0.27881 group/top3_click:0.27409 group/top1_click_best:1.00000 group/top3_click_best:0.53927 group/top1_click_rate:0.27881 group/top3_click_rate:0.50825 group/click/auc:0.00000 group/click/pos_ratio:0.00000 group/click/top1_score:119.11989 group/click/top3_score:108.87028 group/click/time_auc:0.55275 group/click/weighted_time_auc:0.70254 group/click/top1_best:134.55669 group/click/top3_best:113.34493 group/click/top1_rate:0.88528 group/click/top3_rate:0.96052 group/click/top1_click:1.00000 group/click/top3_click:1.00000 group/click/top1_click_best:1.00000 group/click/top3_click_best:1.00000 group/click/top1_click_rate:1.00000 group/click/top3_click_rate:1.00000 click_ratio:0.10385 time_per_show:11.29239 time_per_click:108.74086 time_per_user:85.62997 version:video'],\n",
       " ['valid_online_abid4,5,6',\n",
       "  '2019111505',\n",
       "  'video',\n",
       "  'pos_ratio:0.09454 auc:0.50997 time_auc:0.51317 weighted_time_auc:0.61772 click/time_auc:0.57522 click/weighted_time_auc:0.58718 group/auc:0.47577 group/pos_ratio:0.16928 group/top1_score:37.37517 group/top3_score:31.07119 group/time_auc:0.47840 group/weighted_time_auc:0.49156 group/top1_best:143.61323 group/top3_best:66.14638 group/top1_rate:0.26025 group/top3_rate:0.46973 group/top1_click:0.25853 group/top3_click:0.26292 group/top1_click_best:1.00000 group/top3_click_best:0.54135 group/top1_click_rate:0.25853 group/top3_click_rate:0.48568 group/click/auc:0.00000 group/click/pos_ratio:0.00000 group/click/top1_score:125.48090 group/click/top3_score:115.98438 group/click/time_auc:0.56453 group/click/weighted_time_auc:0.68902 group/click/top1_best:143.61323 group/click/top3_best:122.18707 group/click/top1_rate:0.87374 group/click/top3_rate:0.94924 group/click/top1_click:1.00000 group/click/top3_click:1.00000 group/click/top1_click_best:1.00000 group/click/top3_click_best:1.00000 group/click/top1_click_rate:1.00000 group/click/top3_click_rate:1.00000 click_ratio:0.09454 time_per_show:10.92837 time_per_click:115.59029 time_per_user:80.01210 version:video'],\n",
       " ['valid_online_abid4,5,6',\n",
       "  '2019111506',\n",
       "  'video',\n",
       "  'pos_ratio:0.08328 auc:0.51469 time_auc:0.51738 weighted_time_auc:0.61161 click/time_auc:0.57686 click/weighted_time_auc:0.60016 group/auc:0.47880 group/pos_ratio:0.15330 group/top1_score:40.75285 group/top3_score:37.03947 group/time_auc:0.47576 group/weighted_time_auc:0.49176 group/top1_best:166.98859 group/top3_best:75.33749 group/top1_rate:0.24405 group/top3_rate:0.49165 group/top1_click:0.23743 group/top3_click:0.24197 group/top1_click_best:1.00000 group/top3_click_best:0.53646 group/top1_click_rate:0.23743 group/top3_click_rate:0.45104 group/click/auc:0.00000 group/click/pos_ratio:0.00000 group/click/top1_score:143.82763 group/click/top3_score:134.31811 group/click/time_auc:0.53999 group/click/weighted_time_auc:0.63318 group/click/top1_best:166.98859 group/click/top3_best:140.43353 group/click/top1_rate:0.86130 group/click/top3_rate:0.95645 group/click/top1_click:1.00000 group/click/top3_click:1.00000 group/click/top1_click_best:1.00000 group/click/top3_click_best:1.00000 group/click/top1_click_rate:1.00000 group/click/top3_click_rate:1.00000 click_ratio:0.08328 time_per_show:10.92300 time_per_click:131.16188 time_per_user:77.66691 version:video'],\n",
       " ['valid_online_abid4,5,6',\n",
       "  '2019111507',\n",
       "  'video',\n",
       "  'pos_ratio:0.07971 auc:0.52032 time_auc:0.52246 weighted_time_auc:0.61982 click/time_auc:0.57189 click/weighted_time_auc:0.60979 group/auc:0.48153 group/pos_ratio:0.15677 group/top1_score:42.62928 group/top3_score:36.41424 group/time_auc:0.48206 group/weighted_time_auc:0.49878 group/top1_best:166.34206 group/top3_best:73.31141 group/top1_rate:0.25627 group/top3_rate:0.49671 group/top1_click:0.24517 group/top3_click:0.23827 group/top1_click_best:1.00000 group/top3_click_best:0.52335 group/top1_click_rate:0.24517 group/top3_click_rate:0.45528 group/click/auc:0.00000 group/click/pos_ratio:0.00000 group/click/top1_score:146.41121 group/click/top3_score:134.19669 group/click/time_auc:0.55514 group/click/weighted_time_auc:0.64792 group/click/top1_best:166.34206 group/click/top3_best:140.08095 group/click/top1_rate:0.88018 group/click/top3_rate:0.95799 group/click/top1_click:1.00000 group/click/top3_click:1.00000 group/click/top1_click_best:1.00000 group/click/top3_click_best:1.00000 group/click/top1_click_rate:1.00000 group/click/top3_click_rate:1.00000 click_ratio:0.07971 time_per_show:10.34260 time_per_click:129.74640 time_per_user:71.59971 version:video'],\n",
       " ['valid_online_abid4,5,6',\n",
       "  '2019111508',\n",
       "  'video',\n",
       "  'pos_ratio:0.07949 auc:0.51876 time_auc:0.52085 weighted_time_auc:0.61099 click/time_auc:0.56944 click/weighted_time_auc:0.61465 group/auc:0.47625 group/pos_ratio:0.15611 group/top1_score:41.42252 group/top3_score:37.29819 group/time_auc:0.47778 group/weighted_time_auc:0.49255 group/top1_best:171.34034 group/top3_best:76.86096 group/top1_rate:0.24176 group/top3_rate:0.48527 group/top1_click:0.23714 group/top3_click:0.23750 group/top1_click_best:1.00000 group/top3_click_best:0.53378 group/top1_click_rate:0.23714 group/top3_click_rate:0.44494 group/click/auc:0.00000 group/click/pos_ratio:0.00000 group/click/top1_score:149.97703 group/click/top3_score:138.32028 group/click/time_auc:0.55494 group/click/weighted_time_auc:0.65023 group/click/top1_best:171.34034 group/click/top3_best:143.99495 group/click/top1_rate:0.87532 group/click/top3_rate:0.96059 group/click/top1_click:1.00000 group/click/top3_click:1.00000 group/click/top1_click_best:1.00000 group/click/top3_click_best:1.00000 group/click/top1_click_rate:1.00000 group/click/top3_click_rate:1.00000 click_ratio:0.07949 time_per_show:10.59268 time_per_click:133.26498 time_per_user:75.44587 version:video'],\n",
       " ['valid_online_abid4,5,6',\n",
       "  '2019111509',\n",
       "  'video',\n",
       "  'pos_ratio:0.08359 auc:0.53305 time_auc:0.53545 weighted_time_auc:0.63212 click/time_auc:0.58820 click/weighted_time_auc:0.64073 group/auc:0.47459 group/pos_ratio:0.15667 group/top1_score:40.85273 group/top3_score:37.17485 group/time_auc:0.47693 group/weighted_time_auc:0.49597 group/top1_best:169.31525 group/top3_best:77.50386 group/top1_rate:0.24128 group/top3_rate:0.47965 group/top1_click:0.23340 group/top3_click:0.23608 group/top1_click_best:1.00000 group/top3_click_best:0.53885 group/top1_click_rate:0.23340 group/top3_click_rate:0.43812 group/click/auc:0.00000 group/click/pos_ratio:0.00000 group/click/top1_score:146.17324 group/click/top3_score:136.80961 group/click/time_auc:0.56964 group/click/weighted_time_auc:0.65451 group/click/top1_best:169.31525 group/click/top3_best:143.83070 group/click/top1_rate:0.86332 group/click/top3_rate:0.95119 group/click/top1_click:1.00000 group/click/top3_click:1.00000 group/click/top1_click_best:1.00000 group/click/top3_click_best:1.00000 group/click/top1_click_rate:1.00000 group/click/top3_click_rate:1.00000 click_ratio:0.08359 time_per_show:11.15075 time_per_click:133.40521 time_per_user:80.57014 version:video'],\n",
       " ['valid_online_abid4,5,6', '2019111510', 'video'],\n",
       " ['valid_online_abid4,5,6',\n",
       "  '2019111510',\n",
       "  'video',\n",
       "  'pos_ratio:0.08210 auc:0.54610 time_auc:0.54754 weighted_time_auc:0.64119 click/time_auc:0.57958 click/weighted_time_auc:0.62787 group/auc:0.49162 group/pos_ratio:0.15191 group/top1_score:42.40889 group/top3_score:38.56162 group/time_auc:0.49485 group/weighted_time_auc:0.51084 group/top1_best:170.10422 group/top3_best:78.53835 group/top1_rate:0.24931 group/top3_rate:0.49099 group/top1_click:0.23000 group/top3_click:0.24132 group/top1_click_best:1.00000 group/top3_click_best:0.54385 group/top1_click_rate:0.23000 group/top3_click_rate:0.44372 group/click/auc:0.00000 group/click/pos_ratio:0.00000 group/click/top1_score:145.67375 group/click/top3_score:136.59465 group/click/time_auc:0.56312 group/click/weighted_time_auc:0.64156 group/click/top1_best:170.10422 group/click/top3_best:144.41189 group/click/top1_rate:0.85638 group/click/top3_rate:0.94587 group/click/top1_click:1.00000 group/click/top3_click:1.00000 group/click/top1_click_best:1.00000 group/click/top3_click_best:1.00000 group/click/top1_click_rate:1.00000 group/click/top3_click_rate:1.00000 click_ratio:0.08210 time_per_show:10.79401 time_per_click:131.47048 time_per_user:81.02385 version:video'],\n",
       " ['valid_online_abid4,5,6',\n",
       "  '2019111511',\n",
       "  'video',\n",
       "  'pos_ratio:0.08321 auc:0.53501 time_auc:0.53713 weighted_time_auc:0.63381 click/time_auc:0.58377 click/weighted_time_auc:0.63334 group/auc:0.48631 group/pos_ratio:0.15740 group/top1_score:40.06653 group/top3_score:37.01323 group/time_auc:0.48858 group/weighted_time_auc:0.51053 group/top1_best:165.51945 group/top3_best:76.31891 group/top1_rate:0.24207 group/top3_rate:0.48498 group/top1_click:0.23879 group/top3_click:0.24118 group/top1_click_best:1.00000 group/top3_click_best:0.54225 group/top1_click_rate:0.23879 group/top3_click_rate:0.44478 group/click/auc:0.00000 group/click/pos_ratio:0.00000 group/click/top1_score:142.37244 group/click/top3_score:134.31732 group/click/time_auc:0.55937 group/click/weighted_time_auc:0.65881 group/click/top1_best:165.51945 group/click/top3_best:140.74546 group/click/top1_rate:0.86016 group/click/top3_rate:0.95433 group/click/top1_click:1.00000 group/click/top3_click:1.00000 group/click/top1_click_best:1.00000 group/click/top3_click_best:1.00000 group/click/top1_click_rate:1.00000 group/click/top3_click_rate:1.00000 click_ratio:0.08321 time_per_show:10.76437 time_per_click:129.36709 time_per_user:77.81469 version:video'],\n",
       " ['valid_online_abid4,5,6',\n",
       "  '2019111512',\n",
       "  'video',\n",
       "  'pos_ratio:0.08780 auc:0.54489 time_auc:0.54665 weighted_time_auc:0.64577 click/time_auc:0.58319 click/weighted_time_auc:0.64372 group/auc:0.49673 group/pos_ratio:0.15318 group/top1_score:52.24395 group/top3_score:42.28527 group/time_auc:0.49771 group/weighted_time_auc:0.51322 group/top1_best:180.40488 group/top3_best:82.20736 group/top1_rate:0.28959 group/top3_rate:0.51437 group/top1_click:0.27592 group/top3_click:0.25105 group/top1_click_best:1.00000 group/top3_click_best:0.54346 group/top1_click_rate:0.27592 group/top3_click_rate:0.46194 group/click/auc:0.00000 group/click/pos_ratio:0.00000 group/click/top1_score:155.01043 group/click/top3_score:144.12138 group/click/time_auc:0.53962 group/click/weighted_time_auc:0.61793 group/click/top1_best:180.40488 group/click/top3_best:151.26717 group/click/top1_rate:0.85924 group/click/top3_rate:0.95276 group/click/top1_click:1.00000 group/click/top3_click:1.00000 group/click/top1_click_best:1.00000 group/click/top3_click_best:1.00000 group/click/top1_click_rate:1.00000 group/click/top3_click_rate:1.00000 click_ratio:0.08780 time_per_show:12.10725 time_per_click:137.88875 time_per_user:90.80588 version:video'],\n",
       " ['valid_online_abid4,5,6',\n",
       "  '2019111513',\n",
       "  'video',\n",
       "  'pos_ratio:0.09122 auc:0.55305 time_auc:0.55492 weighted_time_auc:0.65877 click/time_auc:0.59205 click/weighted_time_auc:0.65232 group/auc:0.51506 group/pos_ratio:0.15920 group/top1_score:56.79101 group/top3_score:42.33715 group/time_auc:0.51537 group/weighted_time_auc:0.53459 group/top1_best:179.01262 group/top3_best:83.71697 group/top1_rate:0.31725 group/top3_rate:0.50572 group/top1_click:0.28622 group/top3_click:0.25350 group/top1_click_best:1.00000 group/top3_click_best:0.56104 group/top1_click_rate:0.28622 group/top3_click_rate:0.45185 group/click/auc:0.00000 group/click/pos_ratio:0.00000 group/click/top1_score:152.04720 group/click/top3_score:140.75365 group/click/time_auc:0.55649 group/click/weighted_time_auc:0.62216 group/click/top1_best:179.01262 group/click/top3_best:149.21744 group/click/top1_rate:0.84937 group/click/top3_rate:0.94328 group/click/top1_click:1.00000 group/click/top3_click:1.00000 group/click/top1_click_best:1.00000 group/click/top3_click_best:1.00000 group/click/top1_click_rate:1.00000 group/click/top3_click_rate:1.00000 click_ratio:0.09122 time_per_show:12.27936 time_per_click:134.61698 time_per_user:93.69322 version:video'],\n",
       " ['valid_online_abid4,5,6',\n",
       "  '2019111514',\n",
       "  'video',\n",
       "  'pos_ratio:0.08751 auc:0.54926 time_auc:0.55115 weighted_time_auc:0.65507 click/time_auc:0.59041 click/weighted_time_auc:0.65693 group/auc:0.49553 group/pos_ratio:0.15671 group/top1_score:47.78811 group/top3_score:39.00509 group/time_auc:0.49855 group/weighted_time_auc:0.51663 group/top1_best:173.13187 group/top3_best:80.18869 group/top1_rate:0.27602 group/top3_rate:0.48642 group/top1_click:0.25866 group/top3_click:0.23742 group/top1_click_best:1.00000 group/top3_click_best:0.55236 group/top1_click_rate:0.25866 group/top3_click_rate:0.42984 group/click/auc:0.00000 group/click/pos_ratio:0.00000 group/click/top1_score:148.17216 group/click/top3_score:138.08044 group/click/time_auc:0.56157 group/click/weighted_time_auc:0.64234 group/click/top1_best:173.13187 group/click/top3_best:145.17505 group/click/top1_rate:0.85583 group/click/top3_rate:0.95113 group/click/top1_click:1.00000 group/click/top3_click:1.00000 group/click/top1_click_best:1.00000 group/click/top3_click_best:1.00000 group/click/top1_click_rate:1.00000 group/click/top3_click_rate:1.00000 click_ratio:0.08751 time_per_show:11.55902 time_per_click:132.09339 time_per_user:90.31514 version:video'],\n",
       " ['valid_online_abid4,5,6', '2019111515', 'video'],\n",
       " ['valid_online_abid4,5,6', '2019111515', 'video'],\n",
       " ['valid_online_abid4,5,6',\n",
       "  '2019111516',\n",
       "  'video',\n",
       "  'pos_ratio:0.08800 auc:0.55560 time_auc:0.55644 weighted_time_auc:0.64673 click/time_auc:0.57315 click/weighted_time_auc:0.61977 group/auc:0.49166 group/pos_ratio:0.15266 group/top1_score:44.31489 group/top3_score:37.55343 group/time_auc:0.49320 group/weighted_time_auc:0.50911 group/top1_best:172.66124 group/top3_best:81.02269 group/top1_rate:0.25666 group/top3_rate:0.46349 group/top1_click:0.25007 group/top3_click:0.23755 group/top1_click_best:1.00000 group/top3_click_best:0.56586 group/top1_click_rate:0.25007 group/top3_click_rate:0.41980 group/click/auc:0.00000 group/click/pos_ratio:0.00000 group/click/top1_score:144.91212 group/click/top3_score:135.09667 group/click/time_auc:0.54673 group/click/weighted_time_auc:0.62288 group/click/top1_best:172.66124 group/click/top3_best:143.18502 group/click/top1_rate:0.83929 group/click/top3_rate:0.94351 group/click/top1_click:1.00000 group/click/top3_click:1.00000 group/click/top1_click_best:1.00000 group/click/top3_click_best:1.00000 group/click/top1_click_rate:1.00000 group/click/top3_click_rate:1.00000 click_ratio:0.08800 time_per_show:11.27445 time_per_click:128.11627 time_per_user:90.66496 version:video'],\n",
       " ['valid_online_abid4,5,6',\n",
       "  '2019111515',\n",
       "  'video',\n",
       "  'pos_ratio:0.08085 auc:0.54997 time_auc:0.55108 weighted_time_auc:0.64676 click/time_auc:0.57586 click/weighted_time_auc:0.62691 group/auc:0.49600 group/pos_ratio:0.14216 group/top1_score:41.09069 group/top3_score:35.64884 group/time_auc:0.49734 group/weighted_time_auc:0.51477 group/top1_best:161.27090 group/top3_best:73.28586 group/top1_rate:0.25479 group/top3_rate:0.48644 group/top1_click:0.24896 group/top3_click:0.23548 group/top1_click_best:1.00000 group/top3_click_best:0.55064 group/top1_click_rate:0.24896 group/top3_click_rate:0.42764 group/click/auc:0.00000 group/click/pos_ratio:0.00000 group/click/top1_score:137.27979 group/click/top3_score:127.14995 group/click/time_auc:0.55562 group/click/weighted_time_auc:0.62786 group/click/top1_best:161.27090 group/click/top3_best:133.09150 group/click/top1_rate:0.85124 group/click/top3_rate:0.95536 group/click/top1_click:1.00000 group/click/top3_click:1.00000 group/click/top1_click_best:1.00000 group/click/top3_click_best:1.00000 group/click/top1_click_rate:1.00000 group/click/top3_click_rate:1.00000 click_ratio:0.08085 time_per_show:9.80388 time_per_click:121.25824 time_per_user:80.90387 version:video'],\n",
       " ['valid_online_abid4,5,6',\n",
       "  '2019111515',\n",
       "  'video',\n",
       "  'pos_ratio:0.08085 auc:0.54997 time_auc:0.55108 weighted_time_auc:0.64676 click/time_auc:0.57586 click/weighted_time_auc:0.62691 group/auc:0.49600 group/pos_ratio:0.14216 group/top1_score:41.09069 group/top3_score:35.64884 group/time_auc:0.49734 group/weighted_time_auc:0.51477 group/top1_best:161.27090 group/top3_best:73.28586 group/top1_rate:0.25479 group/top3_rate:0.48644 group/top1_click:0.24896 group/top3_click:0.23548 group/top1_click_best:1.00000 group/top3_click_best:0.55064 group/top1_click_rate:0.24896 group/top3_click_rate:0.42764 group/click/auc:0.00000 group/click/pos_ratio:0.00000 group/click/top1_score:137.27979 group/click/top3_score:127.14995 group/click/time_auc:0.55562 group/click/weighted_time_auc:0.62786 group/click/top1_best:161.27090 group/click/top3_best:133.09150 group/click/top1_rate:0.85124 group/click/top3_rate:0.95536 group/click/top1_click:1.00000 group/click/top3_click:1.00000 group/click/top1_click_best:1.00000 group/click/top3_click_best:1.00000 group/click/top1_click_rate:1.00000 group/click/top3_click_rate:1.00000 click_ratio:0.08085 time_per_show:9.80388 time_per_click:121.25824 time_per_user:80.90387 version:video'],\n",
       " ['valid_online_abid4,5,6',\n",
       "  '2019111516',\n",
       "  'video',\n",
       "  'pos_ratio:0.08800 auc:0.55560 time_auc:0.55644 weighted_time_auc:0.64673 click/time_auc:0.57315 click/weighted_time_auc:0.61977 group/auc:0.49166 group/pos_ratio:0.15266 group/top1_score:44.31489 group/top3_score:37.55343 group/time_auc:0.49320 group/weighted_time_auc:0.50911 group/top1_best:172.66124 group/top3_best:81.02269 group/top1_rate:0.25666 group/top3_rate:0.46349 group/top1_click:0.25007 group/top3_click:0.23755 group/top1_click_best:1.00000 group/top3_click_best:0.56586 group/top1_click_rate:0.25007 group/top3_click_rate:0.41980 group/click/auc:0.00000 group/click/pos_ratio:0.00000 group/click/top1_score:144.91212 group/click/top3_score:135.09667 group/click/time_auc:0.54673 group/click/weighted_time_auc:0.62288 group/click/top1_best:172.66124 group/click/top3_best:143.18502 group/click/top1_rate:0.83929 group/click/top3_rate:0.94351 group/click/top1_click:1.00000 group/click/top3_click:1.00000 group/click/top1_click_best:1.00000 group/click/top3_click_best:1.00000 group/click/top1_click_rate:1.00000 group/click/top3_click_rate:1.00000 click_ratio:0.08800 time_per_show:11.27445 time_per_click:128.11627 time_per_user:90.66496 version:video'],\n",
       " ['valid_online_abid4,5,6',\n",
       "  '2019111517',\n",
       "  'video',\n",
       "  'pos_ratio:0.08069 auc:0.54621 time_auc:0.54731 weighted_time_auc:0.63222 click/time_auc:0.57161 click/weighted_time_auc:0.62401 group/auc:0.50042 group/pos_ratio:0.14502 group/top1_score:41.94666 group/top3_score:34.99910 group/time_auc:0.49168 group/weighted_time_auc:0.52075 group/top1_best:159.76644 group/top3_best:74.10609 group/top1_rate:0.26255 group/top3_rate:0.47228 group/top1_click:0.25404 group/top3_click:0.23062 group/top1_click_best:1.00000 group/top3_click_best:0.54688 group/top1_click_rate:0.25404 group/top3_click_rate:0.42171 group/click/auc:0.00000 group/click/pos_ratio:0.00000 group/click/top1_score:136.49885 group/click/top3_score:128.36689 group/click/time_auc:0.56027 group/click/weighted_time_auc:0.62966 group/click/top1_best:159.76644 group/click/top3_best:135.50788 group/click/top1_rate:0.85436 group/click/top3_rate:0.94730 group/click/top1_click:1.00000 group/click/top3_click:1.00000 group/click/top1_click_best:1.00000 group/click/top3_click_best:1.00000 group/click/top1_click_rate:1.00000 group/click/top3_click_rate:1.00000 click_ratio:0.08069 time_per_show:9.85048 time_per_click:122.07131 time_per_user:74.19252 version:video'],\n",
       " ['valid_online_abid4,5,6',\n",
       "  '2019111518',\n",
       "  'video',\n",
       "  'pos_ratio:0.08432 auc:0.55595 time_auc:0.55688 weighted_time_auc:0.64883 click/time_auc:0.57652 click/weighted_time_auc:0.63638 group/auc:0.49852 group/pos_ratio:0.14198 group/top1_score:50.03098 group/top3_score:39.86490 group/time_auc:0.49713 group/weighted_time_auc:0.51630 group/top1_best:176.90091 group/top3_best:82.04144 group/top1_rate:0.28282 group/top3_rate:0.48591 group/top1_click:0.25877 group/top3_click:0.23599 group/top1_click_best:1.00000 group/top3_click_best:0.55795 group/top1_click_rate:0.25877 group/top3_click_rate:0.42296 group/click/auc:0.00000 group/click/pos_ratio:0.00000 group/click/top1_score:149.06674 group/click/top3_score:139.40817 group/click/time_auc:0.54990 group/click/weighted_time_auc:0.60834 group/click/top1_best:176.90091 group/click/top3_best:147.04197 group/click/top1_rate:0.84266 group/click/top3_rate:0.94808 group/click/top1_click:1.00000 group/click/top3_click:1.00000 group/click/top1_click_best:1.00000 group/click/top3_click_best:1.00000 group/click/top1_click_rate:1.00000 group/click/top3_click_rate:1.00000 click_ratio:0.08432 time_per_show:11.19095 time_per_click:132.71370 time_per_user:91.26677 version:video'],\n",
       " ['valid_online_abid4,5,6',\n",
       "  '2019111519',\n",
       "  'video',\n",
       "  'pos_ratio:0.07922 auc:0.55155 time_auc:0.55335 weighted_time_auc:0.65120 click/time_auc:0.59396 click/weighted_time_auc:0.65975 group/auc:0.50183 group/pos_ratio:0.14455 group/top1_score:53.33971 group/top3_score:43.72323 group/time_auc:0.50338 group/weighted_time_auc:0.52966 group/top1_best:194.86988 group/top3_best:93.60520 group/top1_rate:0.27372 group/top3_rate:0.46710 group/top1_click:0.25367 group/top3_click:0.23324 group/top1_click_best:1.00000 group/top3_click_best:0.57840 group/top1_click_rate:0.25367 group/top3_click_rate:0.40325 group/click/auc:0.00000 group/click/pos_ratio:0.00000 group/click/top1_score:164.46500 group/click/top3_score:151.18153 group/click/time_auc:0.56452 group/click/weighted_time_auc:0.63618 group/click/top1_best:194.86988 group/click/top3_best:161.83589 group/click/top1_rate:0.84397 group/click/top3_rate:0.93417 group/click/top1_click:1.00000 group/click/top3_click:1.00000 group/click/top1_click_best:1.00000 group/click/top3_click_best:1.00000 group/click/top1_click_rate:1.00000 group/click/top3_click_rate:1.00000 click_ratio:0.07922 time_per_show:11.28965 time_per_click:142.51877 time_per_user:99.88722 version:video'],\n",
       " ['valid_online_abid4,5,6',\n",
       "  '2019111520',\n",
       "  'video',\n",
       "  'pos_ratio:0.08817 auc:0.58709 time_auc:0.58745 weighted_time_auc:0.68772 click/time_auc:0.59224 click/weighted_time_auc:0.66369 group/auc:0.50297 group/pos_ratio:0.13288 group/top1_score:54.77376 group/top3_score:43.29162 group/time_auc:0.50248 group/weighted_time_auc:0.52334 group/top1_best:212.12477 group/top3_best:100.67661 group/top1_rate:0.25821 group/top3_rate:0.43001 group/top1_click:0.22845 group/top3_click:0.21127 group/top1_click_best:1.00000 group/top3_click_best:0.57853 group/top1_click_rate:0.22845 group/top3_click_rate:0.36519 group/click/auc:0.00000 group/click/pos_ratio:0.00000 group/click/top1_score:176.34760 group/click/top3_score:162.68765 group/click/time_auc:0.56278 group/click/weighted_time_auc:0.62236 group/click/top1_best:212.12477 group/click/top3_best:174.02137 group/click/top1_rate:0.83134 group/click/top3_rate:0.93487 group/click/top1_click:1.00000 group/click/top3_click:1.00000 group/click/top1_click_best:1.00000 group/click/top3_click_best:1.00000 group/click/top1_click_rate:1.00000 group/click/top3_click_rate:1.00000 click_ratio:0.08817 time_per_show:13.47138 time_per_click:152.79690 time_per_user:167.96598 version:video'],\n",
       " ['valid_online_abid4,5,6',\n",
       "  '2019111521',\n",
       "  'video',\n",
       "  'pos_ratio:0.05559 auc:0.56601 time_auc:0.56736 weighted_time_auc:0.68009 click/time_auc:0.61194 click/weighted_time_auc:0.69124 group/auc:0.51589 group/pos_ratio:0.11125 group/top1_score:48.36761 group/top3_score:38.65669 group/time_auc:0.51664 group/weighted_time_auc:0.54169 group/top1_best:197.66971 group/top3_best:96.93932 group/top1_rate:0.24469 group/top3_rate:0.39877 group/top1_click:0.21794 group/top3_click:0.20090 group/top1_click_best:1.00000 group/top3_click_best:0.59628 group/top1_click_rate:0.21794 group/top3_click_rate:0.33692 group/click/auc:0.00000 group/click/pos_ratio:0.00000 group/click/top1_score:160.92735 group/click/top3_score:151.14829 group/click/time_auc:0.55288 group/click/weighted_time_auc:0.60857 group/click/top1_best:197.66971 group/click/top3_best:162.57277 group/click/top1_rate:0.81412 group/click/top3_rate:0.92973 group/click/top1_click:1.00000 group/click/top3_click:1.00000 group/click/top1_click_best:1.00000 group/click/top3_click_best:1.00000 group/click/top1_click_rate:1.00000 group/click/top3_click_rate:1.00000 click_ratio:0.05559 time_per_show:7.71852 time_per_click:138.84103 time_per_user:92.72060 version:video'],\n",
       " ['valid_online_abid4,5,6',\n",
       "  '2019111522',\n",
       "  'video',\n",
       "  'pos_ratio:0.08594 auc:0.57757 time_auc:0.57899 weighted_time_auc:0.68995 click/time_auc:0.60745 click/weighted_time_auc:0.68989 group/auc:0.50603 group/pos_ratio:0.13177 group/top1_score:50.74119 group/top3_score:44.16485 group/time_auc:0.50907 group/weighted_time_auc:0.53044 group/top1_best:213.48719 group/top3_best:100.25246 group/top1_rate:0.23768 group/top3_rate:0.44054 group/top1_click:0.20777 group/top3_click:0.20625 group/top1_click_best:1.00000 group/top3_click_best:0.56878 group/top1_click_rate:0.20777 group/top3_click_rate:0.36261 group/click/auc:0.00000 group/click/pos_ratio:0.00000 group/click/top1_score:180.46297 group/click/top3_score:165.55250 group/click/time_auc:0.57743 group/click/weighted_time_auc:0.63368 group/click/top1_best:213.48719 group/click/top3_best:176.25808 group/click/top1_rate:0.84531 group/click/top3_rate:0.93926 group/click/top1_click:1.00000 group/click/top3_click:1.00000 group/click/top1_click_best:1.00000 group/click/top3_click_best:1.00000 group/click/top1_click_rate:1.00000 group/click/top3_click_rate:1.00000 click_ratio:0.08594 time_per_show:13.17752 time_per_click:153.33547 time_per_user:162.74434 version:video'],\n",
       " ['valid_online_abid4,5,6',\n",
       "  '2019111523',\n",
       "  'video',\n",
       "  'pos_ratio:0.08112 auc:0.57056 time_auc:0.57211 weighted_time_auc:0.67587 click/time_auc:0.60500 click/weighted_time_auc:0.68098 group/auc:0.49760 group/pos_ratio:0.12876 group/top1_score:40.15453 group/top3_score:37.78157 group/time_auc:0.50077 group/weighted_time_auc:0.52357 group/top1_best:197.93652 group/top3_best:93.11863 group/top1_rate:0.20287 group/top3_rate:0.40574 group/top1_click:0.19021 group/top3_click:0.19663 group/top1_click_best:1.00000 group/top3_click_best:0.57005 group/top1_click_rate:0.19021 group/top3_click_rate:0.34493 group/click/auc:0.00000 group/click/pos_ratio:0.00000 group/click/top1_score:165.75197 group/click/top3_score:153.06235 group/click/time_auc:0.57079 group/click/weighted_time_auc:0.64303 group/click/top1_best:197.93652 group/click/top3_best:163.35070 group/click/top1_rate:0.83740 group/click/top3_rate:0.93702 group/click/top1_click:1.00000 group/click/top3_click:1.00000 group/click/top1_click_best:1.00000 group/click/top3_click_best:1.00000 group/click/top1_click_rate:1.00000 group/click/top3_click_rate:1.00000 click_ratio:0.08112 time_per_show:11.51304 time_per_click:141.93064 time_per_user:146.39281 version:video'],\n",
       " ['valid_online_abid4,5,6',\n",
       "  '2019111600',\n",
       "  'video',\n",
       "  'pos_ratio:0.07720 auc:0.57210 time_auc:0.57288 weighted_time_auc:0.65980 click/time_auc:0.58780 click/weighted_time_auc:0.64302 group/auc:0.49835 group/pos_ratio:0.13106 group/top1_score:30.24256 group/top3_score:34.09031 group/time_auc:0.50181 group/weighted_time_auc:0.52145 group/top1_best:181.35842 group/top3_best:85.84102 group/top1_rate:0.16676 group/top3_rate:0.39713 group/top1_click:0.18481 group/top3_click:0.20812 group/top1_click_best:1.00000 group/top3_click_best:0.56095 group/top1_click_rate:0.18481 group/top3_click_rate:0.37101 group/click/auc:0.00000 group/click/pos_ratio:0.00000 group/click/top1_score:152.54463 group/click/top3_score:143.23504 group/click/time_auc:0.57902 group/click/weighted_time_auc:0.65016 group/click/top1_best:181.35842 group/click/top3_best:153.02795 group/click/top1_rate:0.84112 group/click/top3_rate:0.93601 group/click/top1_click:1.00000 group/click/top3_click:1.00000 group/click/top1_click_best:1.00000 group/click/top3_click_best:1.00000 group/click/top1_click_rate:1.00000 group/click/top3_click_rate:1.00000 click_ratio:0.07720 time_per_show:10.37350 time_per_click:134.36697 time_per_user:134.72951 version:video'],\n",
       " ['valid_online_abid4,5,6',\n",
       "  '2019111601',\n",
       "  'video',\n",
       "  'pos_ratio:0.07826 auc:0.55188 time_auc:0.55238 weighted_time_auc:0.61520 click/time_auc:0.55850 click/weighted_time_auc:0.57089 group/auc:0.50262 group/pos_ratio:0.15111 group/top1_score:31.50447 group/top3_score:32.55341 group/time_auc:0.50534 group/weighted_time_auc:0.51768 group/top1_best:161.25881 group/top3_best:76.09469 group/top1_rate:0.19537 group/top3_rate:0.42780 group/top1_click:0.21199 group/top3_click:0.22663 group/top1_click_best:1.00000 group/top3_click_best:0.55341 group/top1_click_rate:0.21199 group/top3_click_rate:0.40952 group/click/auc:0.00000 group/click/pos_ratio:0.00000 group/click/top1_score:133.01736 group/click/top3_score:129.92794 group/click/time_auc:0.54897 group/click/weighted_time_auc:0.64182 group/click/top1_best:161.25881 group/click/top3_best:137.50190 group/click/top1_rate:0.82487 group/click/top3_rate:0.94492 group/click/top1_click:1.00000 group/click/top3_click:1.00000 group/click/top1_click_best:1.00000 group/click/top3_click_best:1.00000 group/click/top1_click_rate:1.00000 group/click/top3_click_rate:1.00000 click_ratio:0.07826 time_per_show:9.88985 time_per_click:126.37571 time_per_user:117.38304 version:video'],\n",
       " ['valid_online_abid4,5,6',\n",
       "  '2019111602',\n",
       "  'video',\n",
       "  'pos_ratio:0.07286 auc:0.53797 time_auc:0.53828 weighted_time_auc:0.59643 click/time_auc:0.54048 click/weighted_time_auc:0.53335 group/auc:0.50073 group/pos_ratio:0.14512 group/top1_score:22.39315 group/top3_score:25.11969 group/time_auc:0.50220 group/weighted_time_auc:0.52572 group/top1_best:137.66418 group/top3_best:64.32059 group/top1_rate:0.16267 group/top3_rate:0.39054 group/top1_click:0.21296 group/top3_click:0.23268 group/top1_click_best:1.00000 group/top3_click_best:0.54035 group/top1_click_rate:0.21296 group/top3_click_rate:0.43061 group/click/auc:0.00000 group/click/pos_ratio:0.00000 group/click/top1_score:115.00447 group/click/top3_score:110.75322 group/click/time_auc:0.54100 group/click/weighted_time_auc:0.66675 group/click/top1_best:137.66418 group/click/top3_best:119.03447 group/click/top1_rate:0.83540 group/click/top3_rate:0.93043 group/click/top1_click:1.00000 group/click/top3_click:1.00000 group/click/top1_click_best:1.00000 group/click/top3_click_best:1.00000 group/click/top1_click_rate:1.00000 group/click/top3_click_rate:1.00000 click_ratio:0.07286 time_per_show:7.95861 time_per_click:109.23904 time_per_user:102.70036 version:video'],\n",
       " ['valid_online_abid4,5,6',\n",
       "  '2019111603',\n",
       "  'video',\n",
       "  'pos_ratio:0.07550 auc:0.51115 time_auc:0.51270 weighted_time_auc:0.57596 click/time_auc:0.54931 click/weighted_time_auc:0.53080 group/auc:0.49567 group/pos_ratio:0.16359 group/top1_score:21.18416 group/top3_score:23.85894 group/time_auc:0.49641 group/weighted_time_auc:0.51237 group/top1_best:124.84162 group/top3_best:59.57160 group/top1_rate:0.16969 group/top3_rate:0.40051 group/top1_click:0.22376 group/top3_click:0.25200 group/top1_click_best:1.00000 group/top3_click_best:0.56331 group/top1_click_rate:0.22376 group/top3_click_rate:0.44735 group/click/auc:0.00000 group/click/pos_ratio:0.00000 group/click/top1_score:99.91160 group/click/top3_score:97.92526 group/click/time_auc:0.52744 group/click/weighted_time_auc:0.66308 group/click/top1_best:124.84162 group/click/top3_best:105.75341 group/click/top1_rate:0.80031 group/click/top3_rate:0.92598 group/click/top1_click:1.00000 group/click/top3_click:1.00000 group/click/top1_click_best:1.00000 group/click/top3_click_best:1.00000 group/click/top1_click_rate:1.00000 group/click/top3_click_rate:1.00000 click_ratio:0.07550 time_per_show:7.26919 time_per_click:96.27827 time_per_user:92.91304 version:video'],\n",
       " ['valid_online_abid4,5,6',\n",
       "  '2019111604',\n",
       "  'video',\n",
       "  'pos_ratio:0.07083 auc:0.51015 time_auc:0.51131 weighted_time_auc:0.58496 click/time_auc:0.54070 click/weighted_time_auc:0.53039 group/auc:0.52225 group/pos_ratio:0.16249 group/top1_score:25.39623 group/top3_score:25.36340 group/time_auc:0.52192 group/weighted_time_auc:0.53498 group/top1_best:131.60278 group/top3_best:60.79078 group/top1_rate:0.19298 group/top3_rate:0.41722 group/top1_click:0.21946 group/top3_click:0.25962 group/top1_click_best:1.00000 group/top3_click_best:0.55935 group/top1_click_rate:0.21946 group/top3_click_rate:0.46414 group/click/auc:0.00000 group/click/pos_ratio:0.00000 group/click/top1_score:108.91063 group/click/top3_score:101.50860 group/click/time_auc:0.51330 group/click/weighted_time_auc:0.62197 group/click/top1_best:131.60278 group/click/top3_best:108.68109 group/click/top1_rate:0.82757 group/click/top3_rate:0.93400 group/click/top1_click:1.00000 group/click/top3_click:1.00000 group/click/top1_click_best:1.00000 group/click/top3_click_best:1.00000 group/click/top1_click_rate:1.00000 group/click/top3_click_rate:1.00000 click_ratio:0.07083 time_per_show:7.09839 time_per_click:100.21095 time_per_user:91.18334 version:video'],\n",
       " ['valid_online_abid4,5,6',\n",
       "  '2019111605',\n",
       "  'video',\n",
       "  'pos_ratio:0.06984 auc:0.52088 time_auc:0.52210 weighted_time_auc:0.59310 click/time_auc:0.55197 click/weighted_time_auc:0.53725 group/auc:0.47688 group/pos_ratio:0.16111 group/top1_score:25.14545 group/top3_score:26.19272 group/time_auc:0.47456 group/weighted_time_auc:0.48929 group/top1_best:136.06400 group/top3_best:61.31456 group/top1_rate:0.18481 group/top3_rate:0.42719 group/top1_click:0.21673 group/top3_click:0.23981 group/top1_click_best:1.00000 group/top3_click_best:0.54272 group/top1_click_rate:0.21673 group/top3_click_rate:0.44186 group/click/auc:0.00000 group/click/pos_ratio:0.00000 group/click/top1_score:114.88364 group/click/top3_score:106.48792 group/click/time_auc:0.52699 group/click/weighted_time_auc:0.64214 group/click/top1_best:136.06400 group/click/top3_best:112.97674 group/click/top1_rate:0.84434 group/click/top3_rate:0.94256 group/click/top1_click:1.00000 group/click/top3_click:1.00000 group/click/top1_click_best:1.00000 group/click/top3_click_best:1.00000 group/click/top1_click_rate:1.00000 group/click/top3_click_rate:1.00000 click_ratio:0.06984 time_per_show:7.41634 time_per_click:106.18521 time_per_user:90.37115 version:video'],\n",
       " ['valid_online_abid4,5,6',\n",
       "  '2019111606',\n",
       "  'video',\n",
       "  'pos_ratio:0.08128 auc:0.53938 time_auc:0.54024 weighted_time_auc:0.60885 click/time_auc:0.55748 click/weighted_time_auc:0.57700 group/auc:0.50213 group/pos_ratio:0.15115 group/top1_score:29.89699 group/top3_score:29.13759 group/time_auc:0.50261 group/weighted_time_auc:0.51362 group/top1_best:156.48086 group/top3_best:70.32775 group/top1_rate:0.19106 group/top3_rate:0.41431 group/top1_click:0.19964 group/top3_click:0.22033 group/top1_click_best:1.00000 group/top3_click_best:0.54335 group/top1_click_rate:0.19964 group/top3_click_rate:0.40550 group/click/auc:0.00000 group/click/pos_ratio:0.00000 group/click/top1_score:130.85779 group/click/top3_score:121.57908 group/click/time_auc:0.54354 group/click/weighted_time_auc:0.61992 group/click/top1_best:156.48086 group/click/top3_best:129.43382 group/click/top1_rate:0.83625 group/click/top3_rate:0.93931 group/click/top1_click:1.00000 group/click/top3_click:1.00000 group/click/top1_click_best:1.00000 group/click/top3_click_best:1.00000 group/click/top1_click_rate:1.00000 group/click/top3_click_rate:1.00000 click_ratio:0.08128 time_per_show:9.66970 time_per_click:118.97159 time_per_user:102.64509 version:video'],\n",
       " ['valid_online_abid4,5,6',\n",
       "  '2019111607',\n",
       "  'video',\n",
       "  'pos_ratio:0.08742 auc:0.55924 time_auc:0.56024 weighted_time_auc:0.64991 click/time_auc:0.57955 click/weighted_time_auc:0.63360 group/auc:0.50754 group/pos_ratio:0.14891 group/top1_score:36.70877 group/top3_score:34.98000 group/time_auc:0.50970 group/weighted_time_auc:0.52807 group/top1_best:167.98294 group/top3_best:75.48990 group/top1_rate:0.21853 group/top3_rate:0.46337 group/top1_click:0.21521 group/top3_click:0.23095 group/top1_click_best:1.00000 group/top3_click_best:0.54009 group/top1_click_rate:0.21521 group/top3_click_rate:0.42762 group/click/auc:0.00000 group/click/pos_ratio:0.00000 group/click/top1_score:142.37294 group/click/top3_score:133.06553 group/click/time_auc:0.56101 group/click/weighted_time_auc:0.64119 group/click/top1_best:167.98294 group/click/top3_best:139.77231 group/click/top1_rate:0.84754 group/click/top3_rate:0.95202 group/click/top1_click:1.00000 group/click/top3_click:1.00000 group/click/top1_click_best:1.00000 group/click/top3_click_best:1.00000 group/click/top1_click_rate:1.00000 group/click/top3_click_rate:1.00000 click_ratio:0.08742 time_per_show:11.09623 time_per_click:126.93318 time_per_user:114.80304 version:video'],\n",
       " ['valid_online_abid4,5,6',\n",
       "  '2019111608',\n",
       "  'video',\n",
       "  'pos_ratio:0.09026 auc:0.55191 time_auc:0.55359 weighted_time_auc:0.63923 click/time_auc:0.58620 click/weighted_time_auc:0.62762 group/auc:0.50316 group/pos_ratio:0.14961 group/top1_score:34.31518 group/top3_score:31.89781 group/time_auc:0.50351 group/weighted_time_auc:0.52037 group/top1_best:161.84186 group/top3_best:73.71136 group/top1_rate:0.21203 group/top3_rate:0.43274 group/top1_click:0.19436 group/top3_click:0.21778 group/top1_click_best:1.00000 group/top3_click_best:0.54541 group/top1_click_rate:0.19436 group/top3_click_rate:0.39929 group/click/auc:0.00000 group/click/pos_ratio:0.00000 group/click/top1_score:136.80039 group/click/top3_score:126.81806 group/click/time_auc:0.55624 group/click/weighted_time_auc:0.64448 group/click/top1_best:161.84186 group/click/top3_best:135.14789 group/click/top1_rate:0.84527 group/click/top3_rate:0.93837 group/click/top1_click:1.00000 group/click/top3_click:1.00000 group/click/top1_click_best:1.00000 group/click/top3_click_best:1.00000 group/click/top1_click_rate:1.00000 group/click/top3_click_rate:1.00000 click_ratio:0.09026 time_per_show:11.04565 time_per_click:122.37564 time_per_user:115.60184 version:video'],\n",
       " ['valid_online_abid4,5,6',\n",
       "  '2019111609',\n",
       "  'video',\n",
       "  'pos_ratio:0.09118 auc:0.56422 time_auc:0.56525 weighted_time_auc:0.65314 click/time_auc:0.58443 click/weighted_time_auc:0.63121 group/auc:0.51061 group/pos_ratio:0.14699 group/top1_score:34.90132 group/top3_score:33.98444 group/time_auc:0.51321 group/weighted_time_auc:0.53276 group/top1_best:172.64816 group/top3_best:79.60622 group/top1_rate:0.20215 group/top3_rate:0.42691 group/top1_click:0.20718 group/top3_click:0.22200 group/top1_click_best:1.00000 group/top3_click_best:0.56649 group/top1_click_rate:0.20718 group/top3_click_rate:0.39189 group/click/auc:0.00000 group/click/pos_ratio:0.00000 group/click/top1_score:143.36585 group/click/top3_score:132.19901 group/click/time_auc:0.56160 group/click/weighted_time_auc:0.63086 group/click/top1_best:172.64816 group/click/top3_best:140.52572 group/click/top1_rate:0.83039 group/click/top3_rate:0.94075 group/click/top1_click:1.00000 group/click/top3_click:1.00000 group/click/top1_click_best:1.00000 group/click/top3_click_best:1.00000 group/click/top1_click_rate:1.00000 group/click/top3_click_rate:1.00000 click_ratio:0.09118 time_per_show:11.43651 time_per_click:125.42251 time_per_user:128.74205 version:video'],\n",
       " ['valid_online_abid4,5,6', '2019111610', 'video'],\n",
       " ['valid_online_abid4,5,6',\n",
       "  '2019111610',\n",
       "  'video',\n",
       "  'pos_ratio:0.09188 auc:0.56079 time_auc:0.56172 weighted_time_auc:0.64715 click/time_auc:0.57884 click/weighted_time_auc:0.63342 group/auc:0.50617 group/pos_ratio:0.14729 group/top1_score:35.54271 group/top3_score:33.44061 group/time_auc:0.50784 group/weighted_time_auc:0.52313 group/top1_best:165.01576 group/top3_best:77.30456 group/top1_rate:0.21539 group/top3_rate:0.43258 group/top1_click:0.20044 group/top3_click:0.21777 group/top1_click_best:1.00000 group/top3_click_best:0.56456 group/top1_click_rate:0.20044 group/top3_click_rate:0.38572 group/click/auc:0.00000 group/click/pos_ratio:0.00000 group/click/top1_score:135.52198 group/click/top3_score:127.58808 group/click/time_auc:0.53953 group/click/weighted_time_auc:0.61649 group/click/top1_best:165.01576 group/click/top3_best:136.92829 group/click/top1_rate:0.82127 group/click/top3_rate:0.93179 group/click/top1_click:1.00000 group/click/top3_click:1.00000 group/click/top1_click_best:1.00000 group/click/top3_click_best:1.00000 group/click/top1_click_rate:1.00000 group/click/top3_click_rate:1.00000 click_ratio:0.09188 time_per_show:11.13744 time_per_click:121.21351 time_per_user:124.83058 version:video'],\n",
       " ['valid_online_abid4,5,6',\n",
       "  '2019111611',\n",
       "  'video',\n",
       "  'pos_ratio:0.09024 auc:0.56038 time_auc:0.56089 weighted_time_auc:0.63663 click/time_auc:0.56966 click/weighted_time_auc:0.60958 group/auc:0.50579 group/pos_ratio:0.14549 group/top1_score:33.20990 group/top3_score:31.42632 group/time_auc:0.50869 group/weighted_time_auc:0.52322 group/top1_best:162.50880 group/top3_best:75.04892 group/top1_rate:0.20436 group/top3_rate:0.41874 group/top1_click:0.19893 group/top3_click:0.21819 group/top1_click_best:1.00000 group/top3_click_best:0.55953 group/top1_click_rate:0.19893 group/top3_click_rate:0.38995 group/click/auc:0.00000 group/click/pos_ratio:0.00000 group/click/top1_score:135.16552 group/click/top3_score:126.34349 group/click/time_auc:0.55353 group/click/weighted_time_auc:0.62760 group/click/top1_best:162.50880 group/click/top3_best:134.12780 group/click/top1_rate:0.83174 group/click/top3_rate:0.94196 group/click/top1_click:1.00000 group/click/top3_click:1.00000 group/click/top1_click_best:1.00000 group/click/top3_click_best:1.00000 group/click/top1_click_rate:1.00000 group/click/top3_click_rate:1.00000 click_ratio:0.09024 time_per_show:10.79721 time_per_click:119.65085 time_per_user:121.49045 version:video'],\n",
       " ['valid_online_abid4,5,6',\n",
       "  '2019111612',\n",
       "  'video',\n",
       "  'pos_ratio:0.09716 auc:0.57308 time_auc:0.57285 weighted_time_auc:0.65054 click/time_auc:0.56717 click/weighted_time_auc:0.62046 group/auc:0.50971 group/pos_ratio:0.15122 group/top1_score:35.52264 group/top3_score:33.32436 group/time_auc:0.51029 group/weighted_time_auc:0.53008 group/top1_best:168.43919 group/top3_best:78.28659 group/top1_rate:0.21089 group/top3_rate:0.42567 group/top1_click:0.21704 group/top3_click:0.22405 group/top1_click_best:1.00000 group/top3_click_best:0.56354 group/top1_click_rate:0.21704 group/top3_click_rate:0.39758 group/click/auc:0.00000 group/click/pos_ratio:0.00000 group/click/top1_score:138.21172 group/click/top3_score:129.75342 group/click/time_auc:0.55077 group/click/weighted_time_auc:0.62939 group/click/top1_best:168.43919 group/click/top3_best:138.91851 group/click/top1_rate:0.82054 group/click/top3_rate:0.93403 group/click/top1_click:1.00000 group/click/top3_click:1.00000 group/click/top1_click_best:1.00000 group/click/top3_click_best:1.00000 group/click/top1_click_rate:1.00000 group/click/top3_click_rate:1.00000 click_ratio:0.09716 time_per_show:11.98662 time_per_click:123.36392 time_per_user:128.66633 version:video'],\n",
       " ['valid_online_abid4,5,6',\n",
       "  '2019111610',\n",
       "  'video',\n",
       "  'pos_ratio:0.08889 auc:0.56535 time_auc:0.56714 weighted_time_auc:0.66437 click/time_auc:0.60290 click/weighted_time_auc:0.66046 group/auc:0.48030 group/pos_ratio:0.15945 group/top1_score:40.61198 group/top3_score:39.25760 group/time_auc:0.48327 group/weighted_time_auc:0.49704 group/top1_best:156.37500 group/top3_best:84.31000 group/top1_rate:0.25971 group/top3_rate:0.46563 group/top1_click:0.25130 group/top3_click:0.26068 group/top1_click_best:1.00000 group/top3_click_best:0.62572 group/top1_click_rate:0.25130 group/top3_click_rate:0.41661 group/click/auc:0.00000 group/click/pos_ratio:0.00000 group/click/top1_score:137.69271 group/click/top3_score:126.80788 group/click/time_auc:0.54635 group/click/weighted_time_auc:0.62382 group/click/top1_best:156.37500 group/click/top3_best:134.74173 group/click/top1_rate:0.88053 group/click/top3_rate:0.94112 group/click/top1_click:1.00000 group/click/top3_click:1.00000 group/click/top1_click_best:1.00000 group/click/top3_click_best:1.00000 group/click/top1_click_rate:1.00000 group/click/top3_click_rate:1.00000 click_ratio:0.08889 time_per_show:10.55352 time_per_click:118.72560 time_per_user:113.71528 version:video'],\n",
       " ['valid_online_abid4,5,6',\n",
       "  '2019111610',\n",
       "  'video',\n",
       "  'pos_ratio:0.08889 auc:0.56535 time_auc:0.56714 weighted_time_auc:0.66437 click/time_auc:0.60290 click/weighted_time_auc:0.66046 group/auc:0.48030 group/pos_ratio:0.15945 group/top1_score:40.61198 group/top3_score:39.25760 group/time_auc:0.48327 group/weighted_time_auc:0.49704 group/top1_best:156.37500 group/top3_best:84.31000 group/top1_rate:0.25971 group/top3_rate:0.46563 group/top1_click:0.25130 group/top3_click:0.26068 group/top1_click_best:1.00000 group/top3_click_best:0.62572 group/top1_click_rate:0.25130 group/top3_click_rate:0.41661 group/click/auc:0.00000 group/click/pos_ratio:0.00000 group/click/top1_score:137.69271 group/click/top3_score:126.80788 group/click/time_auc:0.54635 group/click/weighted_time_auc:0.62382 group/click/top1_best:156.37500 group/click/top3_best:134.74173 group/click/top1_rate:0.88053 group/click/top3_rate:0.94112 group/click/top1_click:1.00000 group/click/top3_click:1.00000 group/click/top1_click_best:1.00000 group/click/top3_click_best:1.00000 group/click/top1_click_rate:1.00000 group/click/top3_click_rate:1.00000 click_ratio:0.08889 time_per_show:10.55352 time_per_click:118.72560 time_per_user:113.71528 version:video'],\n",
       " ['valid_online_abid4,5,6', '2019111610', 'video'],\n",
       " ['valid_online_abid4,5,6',\n",
       "  '2019111611',\n",
       "  'video',\n",
       "  'pos_ratio:0.09024 auc:0.56038 time_auc:0.56089 weighted_time_auc:0.63663 click/time_auc:0.56966 click/weighted_time_auc:0.60958 group/auc:0.50579 group/pos_ratio:0.14549 group/top1_score:33.20990 group/top3_score:31.42632 group/time_auc:0.50869 group/weighted_time_auc:0.52322 group/top1_best:162.50880 group/top3_best:75.04892 group/top1_rate:0.20436 group/top3_rate:0.41874 group/top1_click:0.19893 group/top3_click:0.21819 group/top1_click_best:1.00000 group/top3_click_best:0.55953 group/top1_click_rate:0.19893 group/top3_click_rate:0.38995 group/click/auc:0.00000 group/click/pos_ratio:0.00000 group/click/top1_score:135.16552 group/click/top3_score:126.34349 group/click/time_auc:0.55353 group/click/weighted_time_auc:0.62760 group/click/top1_best:162.50880 group/click/top3_best:134.12780 group/click/top1_rate:0.83174 group/click/top3_rate:0.94196 group/click/top1_click:1.00000 group/click/top3_click:1.00000 group/click/top1_click_best:1.00000 group/click/top3_click_best:1.00000 group/click/top1_click_rate:1.00000 group/click/top3_click_rate:1.00000 click_ratio:0.09024 time_per_show:10.79721 time_per_click:119.65085 time_per_user:121.49045 version:video'],\n",
       " ['valid_online_abid4,5,6',\n",
       "  '2019111612',\n",
       "  'video',\n",
       "  'pos_ratio:0.09716 auc:0.57308 time_auc:0.57285 weighted_time_auc:0.65054 click/time_auc:0.56717 click/weighted_time_auc:0.62046 group/auc:0.50971 group/pos_ratio:0.15122 group/top1_score:35.52264 group/top3_score:33.32436 group/time_auc:0.51029 group/weighted_time_auc:0.53008 group/top1_best:168.43919 group/top3_best:78.28659 group/top1_rate:0.21089 group/top3_rate:0.42567 group/top1_click:0.21704 group/top3_click:0.22405 group/top1_click_best:1.00000 group/top3_click_best:0.56354 group/top1_click_rate:0.21704 group/top3_click_rate:0.39758 group/click/auc:0.00000 group/click/pos_ratio:0.00000 group/click/top1_score:138.21172 group/click/top3_score:129.75342 group/click/time_auc:0.55077 group/click/weighted_time_auc:0.62939 group/click/top1_best:168.43919 group/click/top3_best:138.91851 group/click/top1_rate:0.82054 group/click/top3_rate:0.93403 group/click/top1_click:1.00000 group/click/top3_click:1.00000 group/click/top1_click_best:1.00000 group/click/top3_click_best:1.00000 group/click/top1_click_rate:1.00000 group/click/top3_click_rate:1.00000 click_ratio:0.09716 time_per_show:11.98662 time_per_click:123.36392 time_per_user:128.66633 version:video'],\n",
       " ['valid_online_abid4,5,6',\n",
       "  '2019111613',\n",
       "  'video',\n",
       "  'pos_ratio:0.09656 auc:0.56334 time_auc:0.56401 weighted_time_auc:0.64733 click/time_auc:0.57533 click/weighted_time_auc:0.62411 group/auc:0.50888 group/pos_ratio:0.15260 group/top1_score:42.24109 group/top3_score:36.08363 group/time_auc:0.50886 group/weighted_time_auc:0.53174 group/top1_best:177.48784 group/top3_best:83.67101 group/top1_rate:0.23799 group/top3_rate:0.43126 group/top1_click:0.21063 group/top3_click:0.22262 group/top1_click_best:1.00000 group/top3_click_best:0.56645 group/top1_click_rate:0.21063 group/top3_click_rate:0.39300 group/click/auc:0.00000 group/click/pos_ratio:0.00000 group/click/top1_score:149.08076 group/click/top3_score:137.51652 group/click/time_auc:0.56835 group/click/weighted_time_auc:0.64193 group/click/top1_best:177.48784 group/click/top3_best:147.71030 group/click/top1_rate:0.83995 group/click/top3_rate:0.93099 group/click/top1_click:1.00000 group/click/top3_click:1.00000 group/click/top1_click_best:1.00000 group/click/top3_click_best:1.00000 group/click/top1_click_rate:1.00000 group/click/top3_click_rate:1.00000 click_ratio:0.09656 time_per_show:12.50606 time_per_click:129.51745 time_per_user:139.88264 version:video'],\n",
       " ['valid_online_abid4,5,6',\n",
       "  '2019111614',\n",
       "  'video',\n",
       "  'pos_ratio:0.09317 auc:0.56741 time_auc:0.56762 weighted_time_auc:0.64595 click/time_auc:0.56975 click/weighted_time_auc:0.62434 group/auc:0.50186 group/pos_ratio:0.14725 group/top1_score:33.89325 group/top3_score:32.29378 group/time_auc:0.50535 group/weighted_time_auc:0.52464 group/top1_best:166.42727 group/top3_best:78.35167 group/top1_rate:0.20365 group/top3_rate:0.41216 group/top1_click:0.19479 group/top3_click:0.21543 group/top1_click_best:1.00000 group/top3_click_best:0.57497 group/top1_click_rate:0.19479 group/top3_click_rate:0.37469 group/click/auc:0.00000 group/click/pos_ratio:0.00000 group/click/top1_score:136.42373 group/click/top3_score:126.14391 group/click/time_auc:0.56259 group/click/weighted_time_auc:0.63042 group/click/top1_best:166.42727 group/click/top3_best:136.27179 group/click/top1_rate:0.81972 group/click/top3_rate:0.92568 group/click/top1_click:1.00000 group/click/top3_click:1.00000 group/click/top1_click_best:1.00000 group/click/top3_click_best:1.00000 group/click/top1_click_rate:1.00000 group/click/top3_click_rate:1.00000 click_ratio:0.09317 time_per_show:11.05547 time_per_click:118.66472 time_per_user:131.95406 version:video'],\n",
       " ['valid_online_abid4,5,6',\n",
       "  '2019111615',\n",
       "  'video',\n",
       "  'pos_ratio:0.09492 auc:0.56372 time_auc:0.56387 weighted_time_auc:0.63928 click/time_auc:0.56478 click/weighted_time_auc:0.61710 group/auc:0.50563 group/pos_ratio:0.14358 group/top1_score:30.61733 group/top3_score:30.94844 group/time_auc:0.50768 group/weighted_time_auc:0.52433 group/top1_best:166.75524 group/top3_best:78.26217 group/top1_rate:0.18361 group/top3_rate:0.39545 group/top1_click:0.19525 group/top3_click:0.21222 group/top1_click_best:1.00000 group/top3_click_best:0.57632 group/top1_click_rate:0.19525 group/top3_click_rate:0.36823 group/click/auc:0.00000 group/click/pos_ratio:0.00000 group/click/top1_score:137.02829 group/click/top3_score:125.66237 group/click/time_auc:0.54893 group/click/weighted_time_auc:0.61532 group/click/top1_best:166.75524 group/click/top3_best:135.79575 group/click/top1_rate:0.82173 group/click/top3_rate:0.92538 group/click/top1_click:1.00000 group/click/top3_click:1.00000 group/click/top1_click_best:1.00000 group/click/top3_click_best:1.00000 group/click/top1_click_rate:1.00000 group/click/top3_click_rate:1.00000 click_ratio:0.09492 time_per_show:11.17029 time_per_click:117.68678 time_per_user:133.66361 version:video'],\n",
       " ['valid_online_abid4,5,6',\n",
       "  '2019111616',\n",
       "  'video',\n",
       "  'pos_ratio:0.09601 auc:0.56352 time_auc:0.56411 weighted_time_auc:0.64680 click/time_auc:0.57354 click/weighted_time_auc:0.63128 group/auc:0.49675 group/pos_ratio:0.14617 group/top1_score:33.88141 group/top3_score:33.34100 group/time_auc:0.49932 group/weighted_time_auc:0.51983 group/top1_best:170.43023 group/top3_best:80.46085 group/top1_rate:0.19880 group/top3_rate:0.41438 group/top1_click:0.20340 group/top3_click:0.21357 group/top1_click_best:1.00000 group/top3_click_best:0.57732 group/top1_click_rate:0.20340 group/top3_click_rate:0.36993 group/click/auc:0.00000 group/click/pos_ratio:0.00000 group/click/top1_score:139.82322 group/click/top3_score:129.36965 group/click/time_auc:0.55925 group/click/weighted_time_auc:0.61860 group/click/top1_best:170.43023 group/click/top3_best:139.37050 group/click/top1_rate:0.82041 group/click/top3_rate:0.92824 group/click/top1_click:1.00000 group/click/top3_click:1.00000 group/click/top1_click_best:1.00000 group/click/top3_click_best:1.00000 group/click/top1_click_rate:1.00000 group/click/top3_click_rate:1.00000 click_ratio:0.09601 time_per_show:11.63066 time_per_click:121.13548 time_per_user:136.60486 version:video'],\n",
       " ['valid_online_abid4,5,6',\n",
       "  '2019111617',\n",
       "  'video',\n",
       "  'pos_ratio:0.09303 auc:0.56211 time_auc:0.56281 weighted_time_auc:0.64210 click/time_auc:0.57485 click/weighted_time_auc:0.62682 group/auc:0.50306 group/pos_ratio:0.14124 group/top1_score:33.01900 group/top3_score:31.81591 group/time_auc:0.50432 group/weighted_time_auc:0.52530 group/top1_best:166.86748 group/top3_best:77.48489 group/top1_rate:0.19788 group/top3_rate:0.41061 group/top1_click:0.19593 group/top3_click:0.20933 group/top1_click_best:1.00000 group/top3_click_best:0.56382 group/top1_click_rate:0.19593 group/top3_click_rate:0.37127 group/click/auc:0.00000 group/click/pos_ratio:0.00000 group/click/top1_score:137.04486 group/click/top3_score:128.15545 group/click/time_auc:0.55451 group/click/weighted_time_auc:0.61612 group/click/top1_best:166.86748 group/click/top3_best:137.42743 group/click/top1_rate:0.82128 group/click/top3_rate:0.93253 group/click/top1_click:1.00000 group/click/top3_click:1.00000 group/click/top1_click_best:1.00000 group/click/top3_click_best:1.00000 group/click/top1_click_rate:1.00000 group/click/top3_click_rate:1.00000 click_ratio:0.09303 time_per_show:11.23151 time_per_click:120.73141 time_per_user:130.29246 version:video'],\n",
       " ['valid_online_abid4,5,6',\n",
       "  '2019111618',\n",
       "  'video',\n",
       "  'pos_ratio:0.09704 auc:0.56439 time_auc:0.56559 weighted_time_auc:0.65550 click/time_auc:0.58676 click/weighted_time_auc:0.64905 group/auc:0.49401 group/pos_ratio:0.14552 group/top1_score:38.52844 group/top3_score:36.46741 group/time_auc:0.49617 group/weighted_time_auc:0.51802 group/top1_best:182.13107 group/top3_best:84.92500 group/top1_rate:0.21154 group/top3_rate:0.42941 group/top1_click:0.19775 group/top3_click:0.21253 group/top1_click_best:1.00000 group/top3_click_best:0.56330 group/top1_click_rate:0.19775 group/top3_click_rate:0.37730 group/click/auc:0.00000 group/click/pos_ratio:0.00000 group/click/top1_score:150.70890 group/click/top3_score:140.19075 group/click/time_auc:0.55809 group/click/weighted_time_auc:0.61783 group/click/top1_best:182.13107 group/click/top3_best:150.76314 group/click/top1_rate:0.82747 group/click/top3_rate:0.92987 group/click/top1_click:1.00000 group/click/top3_click:1.00000 group/click/top1_click_best:1.00000 group/click/top3_click_best:1.00000 group/click/top1_click_rate:1.00000 group/click/top3_click_rate:1.00000 click_ratio:0.09704 time_per_show:12.85116 time_per_click:132.42603 time_per_user:144.58613 version:video'],\n",
       " ['valid_online_abid4,5,6',\n",
       "  '2019111619',\n",
       "  'video',\n",
       "  'pos_ratio:0.09481 auc:0.57866 time_auc:0.57905 weighted_time_auc:0.66631 click/time_auc:0.58460 click/weighted_time_auc:0.65268 group/auc:0.50966 group/pos_ratio:0.14311 group/top1_score:39.56318 group/top3_score:37.88647 group/time_auc:0.51169 group/weighted_time_auc:0.53001 group/top1_best:190.88105 group/top3_best:89.44024 group/top1_rate:0.20727 group/top3_rate:0.42360 group/top1_click:0.19832 group/top3_click:0.21409 group/top1_click_best:1.00000 group/top3_click_best:0.57769 group/top1_click_rate:0.19832 group/top3_click_rate:0.37060 group/click/auc:0.00000 group/click/pos_ratio:0.00000 group/click/top1_score:157.99220 group/click/top3_score:144.35514 group/click/time_auc:0.55713 group/click/weighted_time_auc:0.61859 group/click/top1_best:190.88105 group/click/top3_best:154.82525 group/click/top1_rate:0.82770 group/click/top3_rate:0.93237 group/click/top1_click:1.00000 group/click/top3_click:1.00000 group/click/top1_click_best:1.00000 group/click/top3_click_best:1.00000 group/click/top1_click_rate:1.00000 group/click/top3_click_rate:1.00000 click_ratio:0.09481 time_per_show:12.73903 time_per_click:134.35774 time_per_user:153.34999 version:video'],\n",
       " ['valid_online_abid4,5,6',\n",
       "  '2019111620',\n",
       "  'video',\n",
       "  'pos_ratio:0.08600 auc:0.58054 time_auc:0.58116 weighted_time_auc:0.67805 click/time_auc:0.59190 click/weighted_time_auc:0.65910 group/auc:0.50938 group/pos_ratio:0.13328 group/top1_score:48.86428 group/top3_score:41.30527 group/time_auc:0.51204 group/weighted_time_auc:0.52877 group/top1_best:203.04297 group/top3_best:95.69979 group/top1_rate:0.24066 group/top3_rate:0.43161 group/top1_click:0.22487 group/top3_click:0.21096 group/top1_click_best:1.00000 group/top3_click_best:0.56702 group/top1_click_rate:0.22487 group/top3_click_rate:0.37204 group/click/auc:0.00000 group/click/pos_ratio:0.00000 group/click/top1_score:169.13307 group/click/top3_score:158.98739 group/click/time_auc:0.55799 group/click/weighted_time_auc:0.62275 group/click/top1_best:203.04297 group/click/top3_best:168.77711 group/click/top1_rate:0.83299 group/click/top3_rate:0.94200 group/click/top1_click:1.00000 group/click/top3_click:1.00000 group/click/top1_click_best:1.00000 group/click/top3_click_best:1.00000 group/click/top1_click_rate:1.00000 group/click/top3_click_rate:1.00000 click_ratio:0.08600 time_per_show:12.75552 time_per_click:148.32525 time_per_user:158.50937 version:video'],\n",
       " ['valid_online_abid4,5,6',\n",
       "  '2019111621',\n",
       "  'video',\n",
       "  'pos_ratio:0.08148 auc:0.57545 time_auc:0.57673 weighted_time_auc:0.68218 click/time_auc:0.60339 click/weighted_time_auc:0.68187 group/auc:0.50392 group/pos_ratio:0.12655 group/top1_score:46.63105 group/top3_score:40.55247 group/time_auc:0.50603 group/weighted_time_auc:0.52502 group/top1_best:204.74244 group/top3_best:96.58692 group/top1_rate:0.22775 group/top3_rate:0.41985 group/top1_click:0.20745 group/top3_click:0.20183 group/top1_click_best:1.00000 group/top3_click_best:0.57193 group/top1_click_rate:0.20745 group/top3_click_rate:0.35290 group/click/auc:0.00000 group/click/pos_ratio:0.00000 group/click/top1_score:171.17152 group/click/top3_score:158.15374 group/click/time_auc:0.56505 group/click/weighted_time_auc:0.61780 group/click/top1_best:204.74244 group/click/top3_best:168.87765 group/click/top1_rate:0.83603 group/click/top3_rate:0.93650 group/click/top1_click:1.00000 group/click/top3_click:1.00000 group/click/top1_click_best:1.00000 group/click/top3_click_best:1.00000 group/click/top1_click_rate:1.00000 group/click/top3_click_rate:1.00000 click_ratio:0.08148 time_per_show:12.03051 time_per_click:147.65075 time_per_user:156.31797 version:video'],\n",
       " ['valid_online_abid4,5,6',\n",
       "  '2019111622',\n",
       "  'video',\n",
       "  'pos_ratio:0.08273 auc:0.58016 time_auc:0.58134 weighted_time_auc:0.69095 click/time_auc:0.60509 click/weighted_time_auc:0.68554 group/auc:0.49863 group/pos_ratio:0.13054 group/top1_score:43.50921 group/top3_score:40.20508 group/time_auc:0.50052 group/weighted_time_auc:0.52437 group/top1_best:208.97963 group/top3_best:97.88508 group/top1_rate:0.20820 group/top3_rate:0.41074 group/top1_click:0.19166 group/top3_click:0.19912 group/top1_click_best:1.00000 group/top3_click_best:0.57104 group/top1_click_rate:0.19166 group/top3_click_rate:0.34869 group/click/auc:0.00000 group/click/pos_ratio:0.00000 group/click/top1_score:174.71368 group/click/top3_score:161.09886 group/click/time_auc:0.57500 group/click/weighted_time_auc:0.62364 group/click/top1_best:208.97963 group/click/top3_best:171.41555 group/click/top1_rate:0.83603 group/click/top3_rate:0.93981 group/click/top1_click:1.00000 group/click/top3_click:1.00000 group/click/top1_click_best:1.00000 group/click/top3_click_best:1.00000 group/click/top1_click_rate:1.00000 group/click/top3_click_rate:1.00000 click_ratio:0.08273 time_per_show:12.33627 time_per_click:149.10739 time_per_user:156.82895 version:video'],\n",
       " ['valid_online_abid4,5,6',\n",
       "  '2019111623',\n",
       "  'video',\n",
       "  'pos_ratio:0.07682 auc:0.58494 time_auc:0.58595 weighted_time_auc:0.69254 click/time_auc:0.60783 click/weighted_time_auc:0.69008 group/auc:0.49401 group/pos_ratio:0.12576 group/top1_score:47.55727 group/top3_score:40.53062 group/time_auc:0.49625 group/weighted_time_auc:0.51627 group/top1_best:206.93598 group/top3_best:96.54890 group/top1_rate:0.22982 group/top3_rate:0.41979 group/top1_click:0.20481 group/top3_click:0.19739 group/top1_click_best:1.00000 group/top3_click_best:0.56455 group/top1_click_rate:0.20481 group/top3_click_rate:0.34964 group/click/auc:0.00000 group/click/pos_ratio:0.00000 group/click/top1_score:175.12632 group/click/top3_score:160.53463 group/click/time_auc:0.55825 group/click/weighted_time_auc:0.61643 group/click/top1_best:206.93598 group/click/top3_best:171.01786 group/click/top1_rate:0.84628 group/click/top3_rate:0.93870 group/click/top1_click:1.00000 group/click/top3_click:1.00000 group/click/top1_click_best:1.00000 group/click/top3_click_best:1.00000 group/click/top1_click_rate:1.00000 group/click/top3_click_rate:1.00000 click_ratio:0.07682 time_per_show:11.53430 time_per_click:150.14937 time_per_user:147.35881 version:video'],\n",
       " ['valid_online_abid4,5,6',\n",
       "  '2019111700',\n",
       "  'video',\n",
       "  'pos_ratio:0.08524 auc:0.56450 time_auc:0.56557 weighted_time_auc:0.65477 click/time_auc:0.58627 click/weighted_time_auc:0.63994 group/auc:0.50084 group/pos_ratio:0.14037 group/top1_score:34.12106 group/top3_score:34.85097 group/time_auc:0.50374 group/weighted_time_auc:0.52591 group/top1_best:181.25631 group/top3_best:85.77999 group/top1_rate:0.18825 group/top3_rate:0.40628 group/top1_click:0.18947 group/top3_click:0.21116 group/top1_click_best:1.00000 group/top3_click_best:0.56630 group/top1_click_rate:0.18947 group/top3_click_rate:0.37288 group/click/auc:0.00000 group/click/pos_ratio:0.00000 group/click/top1_score:149.85277 group/click/top3_score:141.11252 group/click/time_auc:0.56273 group/click/weighted_time_auc:0.63283 group/click/top1_best:181.25631 group/click/top3_best:151.47499 group/click/top1_rate:0.82675 group/click/top3_rate:0.93159 group/click/top1_click:1.00000 group/click/top3_click:1.00000 group/click/top1_click_best:1.00000 group/click/top3_click_best:1.00000 group/click/top1_click_rate:1.00000 group/click/top3_click_rate:1.00000 click_ratio:0.08524 time_per_show:11.18288 time_per_click:131.18781 time_per_user:136.41609 version:video'],\n",
       " ['valid_online_abid4,5,6',\n",
       "  '2019111701',\n",
       "  'video',\n",
       "  'pos_ratio:0.08067 auc:0.57126 time_auc:0.57119 weighted_time_auc:0.64851 click/time_auc:0.56564 click/weighted_time_auc:0.61319 group/auc:0.50538 group/pos_ratio:0.13672 group/top1_score:29.49138 group/top3_score:30.28775 group/time_auc:0.50782 group/weighted_time_auc:0.52999 group/top1_best:166.64807 group/top3_best:79.51134 group/top1_rate:0.17697 group/top3_rate:0.38092 group/top1_click:0.19270 group/top3_click:0.21005 group/top1_click_best:1.00000 group/top3_click_best:0.55958 group/top1_click_rate:0.19270 group/top3_click_rate:0.37538 group/click/auc:0.00000 group/click/pos_ratio:0.00000 group/click/top1_score:137.97211 group/click/top3_score:132.99637 group/click/time_auc:0.55409 group/click/weighted_time_auc:0.64198 group/click/top1_best:166.64807 group/click/top3_best:142.09105 group/click/top1_rate:0.82793 group/click/top3_rate:0.93599 group/click/top1_click:1.00000 group/click/top3_click:1.00000 group/click/top1_click_best:1.00000 group/click/top3_click_best:1.00000 group/click/top1_click_rate:1.00000 group/click/top3_click_rate:1.00000 click_ratio:0.08067 time_per_show:10.12874 time_per_click:125.55496 time_per_user:125.40248 version:video'],\n",
       " ['valid_online_abid4,5,6',\n",
       "  '2019111702',\n",
       "  'video',\n",
       "  'pos_ratio:0.07903 auc:0.57449 time_auc:0.57295 weighted_time_auc:0.63008 click/time_auc:0.52959 click/weighted_time_auc:0.52453 group/auc:0.52076 group/pos_ratio:0.14433 group/top1_score:28.08743 group/top3_score:27.28754 group/time_auc:0.52174 group/weighted_time_auc:0.54459 group/top1_best:145.10116 group/top3_best:68.64690 group/top1_rate:0.19357 group/top3_rate:0.39751 group/top1_click:0.22977 group/top3_click:0.23982 group/top1_click_best:1.00000 group/top3_click_best:0.55917 group/top1_click_rate:0.22977 group/top3_click_rate:0.42888 group/click/auc:0.00000 group/click/pos_ratio:0.00000 group/click/top1_score:122.12861 group/click/top3_score:115.87974 group/click/time_auc:0.56383 group/click/weighted_time_auc:0.67897 group/click/top1_best:145.10116 group/click/top3_best:122.76552 group/click/top1_rate:0.84168 group/click/top3_rate:0.94391 group/click/top1_click:1.00000 group/click/top3_click:1.00000 group/click/top1_click_best:1.00000 group/click/top3_click_best:1.00000 group/click/top1_click_rate:1.00000 group/click/top3_click_rate:1.00000 click_ratio:0.07903 time_per_show:8.93277 time_per_click:113.03179 time_per_user:106.31120 version:video'],\n",
       " ['valid_online_abid4,5,6',\n",
       "  '2019111703',\n",
       "  'video',\n",
       "  'pos_ratio:0.06744 auc:0.53765 time_auc:0.53805 weighted_time_auc:0.60868 click/time_auc:0.54320 click/weighted_time_auc:0.54018 group/auc:0.50149 group/pos_ratio:0.16101 group/top1_score:24.30715 group/top3_score:24.09308 group/time_auc:0.50169 group/weighted_time_auc:0.52487 group/top1_best:126.67573 group/top3_best:58.54671 group/top1_rate:0.19188 group/top3_rate:0.41152 group/top1_click:0.22256 group/top3_click:0.24798 group/top1_click_best:1.00000 group/top3_click_best:0.53965 group/top1_click_rate:0.22256 group/top3_click_rate:0.45953 group/click/auc:0.00000 group/click/pos_ratio:0.00000 group/click/top1_score:104.93555 group/click/top3_score:101.39975 group/click/time_auc:0.51062 group/click/weighted_time_auc:0.62717 group/click/top1_best:126.67573 group/click/top3_best:108.49004 group/click/top1_rate:0.82838 group/click/top3_rate:0.93465 group/click/top1_click:1.00000 group/click/top3_click:1.00000 group/click/top1_click_best:1.00000 group/click/top3_click_best:1.00000 group/click/top1_click_rate:1.00000 group/click/top3_click_rate:1.00000 click_ratio:0.06744 time_per_show:6.67749 time_per_click:99.00643 time_per_user:82.58650 version:video'],\n",
       " ['valid_online_abid4,5,6',\n",
       "  '2019111704',\n",
       "  'video',\n",
       "  'pos_ratio:0.06210 auc:0.55723 time_auc:0.55593 weighted_time_auc:0.60172 click/time_auc:0.50364 click/weighted_time_auc:0.45199 group/auc:0.51610 group/pos_ratio:0.16761 group/top1_score:27.86194 group/top3_score:27.91469 group/time_auc:0.51636 group/weighted_time_auc:0.53189 group/top1_best:127.26617 group/top3_best:55.50687 group/top1_rate:0.21893 group/top3_rate:0.50291 group/top1_click:0.26119 group/top3_click:0.26800 group/top1_click_best:1.00000 group/top3_click_best:0.52226 group/top1_click_rate:0.26119 group/top3_click_rate:0.51315 group/click/auc:0.00000 group/click/pos_ratio:0.00000 group/click/top1_score:111.54602 group/click/top3_score:101.73227 group/click/time_auc:0.51563 group/click/weighted_time_auc:0.66816 group/click/top1_best:127.26617 group/click/top3_best:106.28127 group/click/top1_rate:0.87648 group/click/top3_rate:0.95720 group/click/top1_click:1.00000 group/click/top3_click:1.00000 group/click/top1_click_best:1.00000 group/click/top3_click_best:1.00000 group/click/top1_click_rate:1.00000 group/click/top3_click_rate:1.00000 click_ratio:0.06210 time_per_show:6.31836 time_per_click:101.75257 time_per_user:72.18073 version:video'],\n",
       " ['valid_online_abid4,5,6',\n",
       "  '2019111705',\n",
       "  'video',\n",
       "  'pos_ratio:0.06714 auc:0.54472 time_auc:0.54496 weighted_time_auc:0.61674 click/time_auc:0.54686 click/weighted_time_auc:0.52742 group/auc:0.50356 group/pos_ratio:0.16324 group/top1_score:27.64286 group/top3_score:26.68756 group/time_auc:0.50526 group/weighted_time_auc:0.51346 group/top1_best:126.94694 group/top3_best:56.34106 group/top1_rate:0.21775 group/top3_rate:0.47368 group/top1_click:0.22653 group/top3_click:0.24566 group/top1_click_best:1.00000 group/top3_click_best:0.51959 group/top1_click_rate:0.22653 group/top3_click_rate:0.47279 group/click/auc:0.00000 group/click/pos_ratio:0.00000 group/click/top1_score:108.42449 group/click/top3_score:104.19410 group/click/time_auc:0.54629 group/click/weighted_time_auc:0.65711 group/click/top1_best:126.94694 group/click/top3_best:108.43344 group/click/top1_rate:0.85409 group/click/top3_rate:0.96090 group/click/top1_click:1.00000 group/click/top3_click:1.00000 group/click/top1_click_best:1.00000 group/click/top3_click_best:1.00000 group/click/top1_click_rate:1.00000 group/click/top3_click_rate:1.00000 click_ratio:0.06714 time_per_show:6.86659 time_per_click:102.27246 time_per_user:72.04205 version:video'],\n",
       " ['valid_online_abid4,5,6',\n",
       "  '2019111706',\n",
       "  'video',\n",
       "  'pos_ratio:0.07834 auc:0.55761 time_auc:0.55811 weighted_time_auc:0.65300 click/time_auc:0.56683 click/weighted_time_auc:0.62336 group/auc:0.50145 group/pos_ratio:0.14772 group/top1_score:34.18558 group/top3_score:32.96768 group/time_auc:0.50279 group/weighted_time_auc:0.52243 group/top1_best:162.30419 group/top3_best:73.42340 group/top1_rate:0.21063 group/top3_rate:0.44901 group/top1_click:0.20837 group/top3_click:0.22374 group/top1_click_best:1.00000 group/top3_click_best:0.53915 group/top1_click_rate:0.20837 group/top3_click_rate:0.41499 group/click/auc:0.00000 group/click/pos_ratio:0.00000 group/click/top1_score:139.27256 group/click/top3_score:129.98127 group/click/time_auc:0.53695 group/click/weighted_time_auc:0.65381 group/click/top1_best:162.30419 group/click/top3_best:136.18242 group/click/top1_rate:0.85810 group/click/top3_rate:0.95446 group/click/top1_click:1.00000 group/click/top3_click:1.00000 group/click/top1_click_best:1.00000 group/click/top3_click_best:1.00000 group/click/top1_click_rate:1.00000 group/click/top3_click_rate:1.00000 click_ratio:0.07834 time_per_show:9.81000 time_per_click:125.22524 time_per_user:105.97199 version:video'],\n",
       " ['valid_online_abid4,5,6',\n",
       "  '2019111707',\n",
       "  'video',\n",
       "  'pos_ratio:0.08257 auc:0.56147 time_auc:0.56316 weighted_time_auc:0.66053 click/time_auc:0.59889 click/weighted_time_auc:0.65345 group/auc:0.48601 group/pos_ratio:0.13979 group/top1_score:35.75829 group/top3_score:35.28174 group/time_auc:0.48507 group/weighted_time_auc:0.51040 group/top1_best:179.76480 group/top3_best:79.88722 group/top1_rate:0.19892 group/top3_rate:0.44164 group/top1_click:0.18562 group/top3_click:0.20848 group/top1_click_best:1.00000 group/top3_click_best:0.53585 group/top1_click_rate:0.18562 group/top3_click_rate:0.38907 group/click/auc:0.00000 group/click/pos_ratio:0.00000 group/click/top1_score:153.21010 group/click/top3_score:141.66905 group/click/time_auc:0.55560 group/click/weighted_time_auc:0.64149 group/click/top1_best:179.76480 group/click/top3_best:149.08477 group/click/top1_rate:0.85228 group/click/top3_rate:0.95026 group/click/top1_click:1.00000 group/click/top3_click:1.00000 group/click/top1_click_best:1.00000 group/click/top3_click_best:1.00000 group/click/top1_click_rate:1.00000 group/click/top3_click_rate:1.00000 click_ratio:0.08257 time_per_show:11.05889 time_per_click:133.93238 time_per_user:118.52492 version:video'],\n",
       " ['valid_online_abid4,5,6',\n",
       "  '2019111708',\n",
       "  'video',\n",
       "  'pos_ratio:0.08687 auc:0.56734 time_auc:0.56829 weighted_time_auc:0.65771 click/time_auc:0.58631 click/weighted_time_auc:0.63771 group/auc:0.50560 group/pos_ratio:0.14522 group/top1_score:31.07670 group/top3_score:33.00744 group/time_auc:0.50869 group/weighted_time_auc:0.52464 group/top1_best:173.82484 group/top3_best:79.54758 group/top1_rate:0.17878 group/top3_rate:0.41494 group/top1_click:0.18232 group/top3_click:0.21380 group/top1_click_best:1.00000 group/top3_click_best:0.55175 group/top1_click_rate:0.18232 group/top3_click_rate:0.38751 group/click/auc:0.00000 group/click/pos_ratio:0.00000 group/click/top1_score:146.26168 group/click/top3_score:136.30368 group/click/time_auc:0.55401 group/click/weighted_time_auc:0.62734 group/click/top1_best:173.82484 group/click/top3_best:144.17440 group/click/top1_rate:0.84143 group/click/top3_rate:0.94541 group/click/top1_click:1.00000 group/click/top3_click:1.00000 group/click/top1_click_best:1.00000 group/click/top3_click_best:1.00000 group/click/top1_click_rate:1.00000 group/click/top3_click_rate:1.00000 click_ratio:0.08687 time_per_show:11.17673 time_per_click:128.65860 time_per_user:122.21910 version:video'],\n",
       " ['valid_online_abid4,5,6',\n",
       "  '2019111709',\n",
       "  'video',\n",
       "  'pos_ratio:0.08651 auc:0.57420 time_auc:0.57502 weighted_time_auc:0.66842 click/time_auc:0.59027 click/weighted_time_auc:0.65382 group/auc:0.50669 group/pos_ratio:0.14054 group/top1_score:34.10739 group/top3_score:35.55326 group/time_auc:0.50911 group/weighted_time_auc:0.53206 group/top1_best:182.54487 group/top3_best:84.59093 group/top1_rate:0.18684 group/top3_rate:0.42030 group/top1_click:0.18589 group/top3_click:0.21312 group/top1_click_best:1.00000 group/top3_click_best:0.56283 group/top1_click_rate:0.18589 group/top3_click_rate:0.37866 group/click/auc:0.00000 group/click/pos_ratio:0.00000 group/click/top1_score:152.80798 group/click/top3_score:140.54121 group/click/time_auc:0.57486 group/click/weighted_time_auc:0.63567 group/click/top1_best:182.54487 group/click/top3_best:150.29686 group/click/top1_rate:0.83710 group/click/top3_rate:0.93509 group/click/top1_click:1.00000 group/click/top3_click:1.00000 group/click/top1_click_best:1.00000 group/click/top3_click_best:1.00000 group/click/top1_click_rate:1.00000 group/click/top3_click_rate:1.00000 click_ratio:0.08651 time_per_show:11.33345 time_per_click:131.00160 time_per_user:135.46151 version:video'],\n",
       " ['valid_online_abid4,5,6',\n",
       "  '2019111710',\n",
       "  'video',\n",
       "  'pos_ratio:0.08718 auc:0.57528 time_auc:0.57560 weighted_time_auc:0.66600 click/time_auc:0.58052 click/weighted_time_auc:0.64413 group/auc:0.49717 group/pos_ratio:0.13900 group/top1_score:34.58813 group/top3_score:33.30122 group/time_auc:0.49911 group/weighted_time_auc:0.51286 group/top1_best:171.78295 group/top3_best:79.59467 group/top1_rate:0.20135 group/top3_rate:0.41839 group/top1_click:0.19691 group/top3_click:0.21039 group/top1_click_best:1.00000 group/top3_click_best:0.55275 group/top1_click_rate:0.19691 group/top3_click_rate:0.38063 group/click/auc:0.00000 group/click/pos_ratio:0.00000 group/click/top1_score:145.33316 group/click/top3_score:134.50719 group/click/time_auc:0.55419 group/click/weighted_time_auc:0.62962 group/click/top1_best:171.78295 group/click/top3_best:143.99731 group/click/top1_rate:0.84603 group/click/top3_rate:0.93410 group/click/top1_click:1.00000 group/click/top3_click:1.00000 group/click/top1_click_best:1.00000 group/click/top3_click_best:1.00000 group/click/top1_click_rate:1.00000 group/click/top3_click_rate:1.00000 click_ratio:0.08718 time_per_show:11.01468 time_per_click:126.34818 time_per_user:126.78621 version:video'],\n",
       " ['valid_online_abid4,5,6',\n",
       "  '2019111711',\n",
       "  'video',\n",
       "  'pos_ratio:0.09005 auc:0.57205 time_auc:0.57274 weighted_time_auc:0.66114 click/time_auc:0.58499 click/weighted_time_auc:0.64373 group/auc:0.50138 group/pos_ratio:0.14162 group/top1_score:38.08950 group/top3_score:35.09256 group/time_auc:0.50342 group/weighted_time_auc:0.51611 group/top1_best:177.27315 group/top3_best:81.90951 group/top1_rate:0.21486 group/top3_rate:0.42843 group/top1_click:0.20041 group/top3_click:0.21167 group/top1_click_best:1.00000 group/top3_click_best:0.56098 group/top1_click_rate:0.20041 group/top3_click_rate:0.37732 group/click/auc:0.00000 group/click/pos_ratio:0.00000 group/click/top1_score:145.71215 group/click/top3_score:137.26686 group/click/time_auc:0.54496 group/click/weighted_time_auc:0.60018 group/click/top1_best:177.27315 group/click/top3_best:146.01260 group/click/top1_rate:0.82196 group/click/top3_rate:0.94010 group/click/top1_click:1.00000 group/click/top3_click:1.00000 group/click/top1_click_best:1.00000 group/click/top3_click_best:1.00000 group/click/top1_click_rate:1.00000 group/click/top3_click_rate:1.00000 click_ratio:0.09005 time_per_show:11.64603 time_per_click:129.33008 time_per_user:128.64519 version:video'],\n",
       " ['valid_online_abid4,5,6',\n",
       "  '2019111712',\n",
       "  'video',\n",
       "  'pos_ratio:0.09113 auc:0.57391 time_auc:0.57503 weighted_time_auc:0.67224 click/time_auc:0.59584 click/weighted_time_auc:0.66407 group/auc:0.49989 group/pos_ratio:0.14429 group/top1_score:39.28489 group/top3_score:37.72867 group/time_auc:0.50301 group/weighted_time_auc:0.52279 group/top1_best:182.70960 group/top3_best:82.74755 group/top1_rate:0.21501 group/top3_rate:0.45595 group/top1_click:0.20271 group/top3_click:0.21755 group/top1_click_best:1.00000 group/top3_click_best:0.54756 group/top1_click_rate:0.20271 group/top3_click_rate:0.39731 group/click/auc:0.00000 group/click/pos_ratio:0.00000 group/click/top1_score:155.87948 group/click/top3_score:143.14948 group/click/time_auc:0.56660 group/click/weighted_time_auc:0.63752 group/click/top1_best:182.70960 group/click/top3_best:151.12034 group/click/top1_rate:0.85315 group/click/top3_rate:0.94725 group/click/top1_click:1.00000 group/click/top3_click:1.00000 group/click/top1_click_best:1.00000 group/click/top3_click_best:1.00000 group/click/top1_click_rate:1.00000 group/click/top3_click_rate:1.00000 click_ratio:0.09113 time_per_show:12.24014 time_per_click:134.32140 time_per_user:130.64635 version:video'],\n",
       " ['valid_online_abid4,5,6',\n",
       "  '2019111713',\n",
       "  'video',\n",
       "  'pos_ratio:0.08450 auc:0.57174 time_auc:0.57254 weighted_time_auc:0.66908 click/time_auc:0.58783 click/weighted_time_auc:0.65684 group/auc:0.49595 group/pos_ratio:0.13976 group/top1_score:38.57564 group/top3_score:34.60454 group/time_auc:0.49624 group/weighted_time_auc:0.51705 group/top1_best:176.48777 group/top3_best:79.90001 group/top1_rate:0.21857 group/top3_rate:0.43310 group/top1_click:0.18347 group/top3_click:0.20374 group/top1_click_best:1.00000 group/top3_click_best:0.54887 group/top1_click_rate:0.18347 group/top3_click_rate:0.37120 group/click/auc:0.00000 group/click/pos_ratio:0.00000 group/click/top1_score:148.50849 group/click/top3_score:137.52296 group/click/time_auc:0.56503 group/click/weighted_time_auc:0.62304 group/click/top1_best:176.48777 group/click/top3_best:145.57208 group/click/top1_rate:0.84147 group/click/top3_rate:0.94471 group/click/top1_click:1.00000 group/click/top3_click:1.00000 group/click/top1_click_best:1.00000 group/click/top3_click_best:1.00000 group/click/top1_click_rate:1.00000 group/click/top3_click_rate:1.00000 click_ratio:0.08450 time_per_show:10.91252 time_per_click:129.13724 time_per_user:124.30129 version:video'],\n",
       " ['valid_online_abid4,5,6',\n",
       "  '2019111714',\n",
       "  'video',\n",
       "  'pos_ratio:0.08432 auc:0.57822 time_auc:0.57864 weighted_time_auc:0.67427 click/time_auc:0.58502 click/weighted_time_auc:0.65645 group/auc:0.50624 group/pos_ratio:0.13784 group/top1_score:36.46548 group/top3_score:34.15869 group/time_auc:0.50716 group/weighted_time_auc:0.53165 group/top1_best:172.62055 group/top3_best:78.54421 group/top1_rate:0.21125 group/top3_rate:0.43490 group/top1_click:0.19627 group/top3_click:0.20663 group/top1_click_best:1.00000 group/top3_click_best:0.55417 group/top1_click_rate:0.19627 group/top3_click_rate:0.37286 group/click/auc:0.00000 group/click/pos_ratio:0.00000 group/click/top1_score:144.21659 group/click/top3_score:133.51663 group/click/time_auc:0.56268 group/click/weighted_time_auc:0.62762 group/click/top1_best:172.62055 group/click/top3_best:141.73312 group/click/top1_rate:0.83545 group/click/top3_rate:0.94203 group/click/top1_click:1.00000 group/click/top3_click:1.00000 group/click/top1_click_best:1.00000 group/click/top3_click_best:1.00000 group/click/top1_click_rate:1.00000 group/click/top3_click_rate:1.00000 click_ratio:0.08432 time_per_show:10.60213 time_per_click:125.73021 time_per_user:120.64237 version:video'],\n",
       " ['valid_online_abid4,5,6',\n",
       "  '2019111715',\n",
       "  'video',\n",
       "  'pos_ratio:0.06926 auc:0.58546 time_auc:0.58499 weighted_time_auc:0.67616 click/time_auc:0.56968 click/weighted_time_auc:0.62619 group/auc:0.51146 group/pos_ratio:0.12292 group/top1_score:32.68651 group/top3_score:30.46298 group/time_auc:0.51164 group/weighted_time_auc:0.52263 group/top1_best:149.35075 group/top3_best:63.22526 group/top1_rate:0.21886 group/top3_rate:0.48182 group/top1_click:0.18758 group/top3_click:0.20020 group/top1_click_best:1.00000 group/top3_click_best:0.50064 group/top1_click_rate:0.18758 group/top3_click_rate:0.39989 group/click/auc:0.00000 group/click/pos_ratio:0.00000 group/click/top1_score:131.60128 group/click/top3_score:122.57780 group/click/time_auc:0.55067 group/click/weighted_time_auc:0.61423 group/click/top1_best:149.35075 group/click/top3_best:126.28776 group/click/top1_rate:0.88116 group/click/top3_rate:0.97062 group/click/top1_click:1.00000 group/click/top3_click:1.00000 group/click/top1_click_best:1.00000 group/click/top3_click_best:1.00000 group/click/top1_click_rate:1.00000 group/click/top3_click_rate:1.00000 click_ratio:0.06926 time_per_show:8.11159 time_per_click:117.10959 time_per_user:81.77170 version:video'],\n",
       " ['valid_online_abid4,5,6',\n",
       "  '2019111716',\n",
       "  'video',\n",
       "  'pos_ratio:0.08329 auc:0.58279 time_auc:0.58227 weighted_time_auc:0.66385 click/time_auc:0.56882 click/weighted_time_auc:0.61729 group/auc:0.48946 group/pos_ratio:0.13179 group/top1_score:31.14312 group/top3_score:30.98792 group/time_auc:0.49064 group/weighted_time_auc:0.50395 group/top1_best:161.59365 group/top3_best:71.17610 group/top1_rate:0.19272 group/top3_rate:0.43537 group/top1_click:0.18109 group/top3_click:0.20173 group/top1_click_best:1.00000 group/top3_click_best:0.54064 group/top1_click_rate:0.18109 group/top3_click_rate:0.37314 group/click/auc:0.00000 group/click/pos_ratio:0.00000 group/click/top1_score:135.68711 group/click/top3_score:125.98691 group/click/time_auc:0.55274 group/click/weighted_time_auc:0.60204 group/click/top1_best:161.59365 group/click/top3_best:131.65169 group/click/top1_rate:0.83968 group/click/top3_rate:0.95697 group/click/top1_click:1.00000 group/click/top3_click:1.00000 group/click/top1_click_best:1.00000 group/click/top3_click_best:1.00000 group/click/top1_click_rate:1.00000 group/click/top3_click_rate:1.00000 click_ratio:0.08329 time_per_show:10.03654 time_per_click:120.49802 time_per_user:102.57739 version:video'],\n",
       " ['valid_online_abid4,5,6',\n",
       "  '2019111717',\n",
       "  'video',\n",
       "  'pos_ratio:0.08790 auc:0.57739 time_auc:0.57735 weighted_time_auc:0.65927 click/time_auc:0.57463 click/weighted_time_auc:0.63541 group/auc:0.48426 group/pos_ratio:0.13592 group/top1_score:35.79140 group/top3_score:32.29127 group/time_auc:0.48580 group/weighted_time_auc:0.50264 group/top1_best:172.54842 group/top3_best:77.52957 group/top1_rate:0.20743 group/top3_rate:0.41650 group/top1_click:0.19191 group/top3_click:0.19868 group/top1_click_best:1.00000 group/top3_click_best:0.55161 group/top1_click_rate:0.19191 group/top3_click_rate:0.36018 group/click/auc:0.00000 group/click/pos_ratio:0.00000 group/click/top1_score:144.87029 group/click/top3_score:132.80766 group/click/time_auc:0.55636 group/click/weighted_time_auc:0.61608 group/click/top1_best:172.54842 group/click/top3_best:140.55054 group/click/top1_rate:0.83959 group/click/top3_rate:0.94491 group/click/top1_click:1.00000 group/click/top3_click:1.00000 group/click/top1_click_best:1.00000 group/click/top3_click_best:1.00000 group/click/top1_click_rate:1.00000 group/click/top3_click_rate:1.00000 click_ratio:0.08790 time_per_show:10.98420 time_per_click:124.95813 time_per_user:121.92622 version:video'],\n",
       " ['valid_online_abid4,5,6',\n",
       "  '2019111718',\n",
       "  'video',\n",
       "  'pos_ratio:0.09031 auc:0.57403 time_auc:0.57480 weighted_time_auc:0.67088 click/time_auc:0.58838 click/weighted_time_auc:0.66000 group/auc:0.48374 group/pos_ratio:0.14149 group/top1_score:37.51877 group/top3_score:35.97568 group/time_auc:0.48635 group/weighted_time_auc:0.50165 group/top1_best:186.90560 group/top3_best:85.90241 group/top1_rate:0.20074 group/top3_rate:0.41880 group/top1_click:0.17622 group/top3_click:0.19766 group/top1_click_best:1.00000 group/top3_click_best:0.55379 group/top1_click_rate:0.17622 group/top3_click_rate:0.35692 group/click/auc:0.00000 group/click/pos_ratio:0.00000 group/click/top1_score:156.71409 group/click/top3_score:145.83218 group/click/time_auc:0.55707 group/click/weighted_time_auc:0.62163 group/click/top1_best:186.90560 group/click/top3_best:155.11807 group/click/top1_rate:0.83847 group/click/top3_rate:0.94014 group/click/top1_click:1.00000 group/click/top3_click:1.00000 group/click/top1_click_best:1.00000 group/click/top3_click_best:1.00000 group/click/top1_click_rate:1.00000 group/click/top3_click_rate:1.00000 click_ratio:0.09031 time_per_show:12.43221 time_per_click:137.65842 time_per_user:138.98012 version:video'],\n",
       " ['valid_online_abid4,5,6',\n",
       "  '2019111719',\n",
       "  'video',\n",
       "  'pos_ratio:0.08895 auc:0.57104 time_auc:0.57160 weighted_time_auc:0.66145 click/time_auc:0.58097 click/weighted_time_auc:0.65003 group/auc:0.48829 group/pos_ratio:0.13773 group/top1_score:39.52713 group/top3_score:37.10482 group/time_auc:0.49140 group/weighted_time_auc:0.50265 group/top1_best:194.41572 group/top3_best:89.66030 group/top1_rate:0.20331 group/top3_rate:0.41384 group/top1_click:0.18548 group/top3_click:0.19937 group/top1_click_best:1.00000 group/top3_click_best:0.56162 group/top1_click_rate:0.18548 group/top3_click_rate:0.35499 group/click/auc:0.00000 group/click/pos_ratio:0.00000 group/click/top1_score:162.41634 group/click/top3_score:149.99926 group/click/time_auc:0.56137 group/click/weighted_time_auc:0.62320 group/click/top1_best:194.41572 group/click/top3_best:159.64686 group/click/top1_rate:0.83541 group/click/top3_rate:0.93957 group/click/top1_click:1.00000 group/click/top3_click:1.00000 group/click/top1_click_best:1.00000 group/click/top3_click_best:1.00000 group/click/top1_click_rate:1.00000 group/click/top3_click_rate:1.00000 click_ratio:0.08895 time_per_show:12.61904 time_per_click:141.86833 time_per_user:148.78172 version:video'],\n",
       " ['valid_online_abid4,5,6',\n",
       "  '2019111720',\n",
       "  'video',\n",
       "  'pos_ratio:0.08220 auc:0.58087 time_auc:0.58153 weighted_time_auc:0.68284 click/time_auc:0.59293 click/weighted_time_auc:0.66577 group/auc:0.49742 group/pos_ratio:0.13397 group/top1_score:47.99837 group/top3_score:41.32460 group/time_auc:0.49960 group/weighted_time_auc:0.51929 group/top1_best:206.35892 group/top3_best:96.60816 group/top1_rate:0.23260 group/top3_rate:0.42775 group/top1_click:0.20661 group/top3_click:0.20431 group/top1_click_best:1.00000 group/top3_click_best:0.56195 group/top1_click_rate:0.20661 group/top3_click_rate:0.36358 group/click/auc:0.00000 group/click/pos_ratio:0.00000 group/click/top1_score:174.02654 group/click/top3_score:161.77843 group/click/time_auc:0.56331 group/click/weighted_time_auc:0.63266 group/click/top1_best:206.35892 group/click/top3_best:171.91606 group/click/top1_rate:0.84332 group/click/top3_rate:0.94103 group/click/top1_click:1.00000 group/click/top3_click:1.00000 group/click/top1_click_best:1.00000 group/click/top3_click_best:1.00000 group/click/top1_click_rate:1.00000 group/click/top3_click_rate:1.00000 click_ratio:0.08220 time_per_show:12.43241 time_per_click:151.23872 time_per_user:152.98723 version:video'],\n",
       " ['valid_online_abid4,5,6',\n",
       "  '2019111721',\n",
       "  'video',\n",
       "  'pos_ratio:0.08026 auc:0.58127 time_auc:0.58246 weighted_time_auc:0.69544 click/time_auc:0.60735 click/weighted_time_auc:0.68676 group/auc:0.49821 group/pos_ratio:0.12546 group/top1_score:51.20508 group/top3_score:43.02972 group/time_auc:0.50002 group/weighted_time_auc:0.52510 group/top1_best:217.42614 group/top3_best:100.51586 group/top1_rate:0.23551 group/top3_rate:0.42809 group/top1_click:0.20907 group/top3_click:0.19742 group/top1_click_best:1.00000 group/top3_click_best:0.56101 group/top1_click_rate:0.20907 group/top3_click_rate:0.35190 group/click/auc:0.00000 group/click/pos_ratio:0.00000 group/click/top1_score:184.31961 group/click/top3_score:169.06381 group/click/time_auc:0.57353 group/click/weighted_time_auc:0.63787 group/click/top1_best:217.42614 group/click/top3_best:179.16952 group/click/top1_rate:0.84773 group/click/top3_rate:0.94360 group/click/top1_click:1.00000 group/click/top3_click:1.00000 group/click/top1_click_best:1.00000 group/click/top3_click_best:1.00000 group/click/top1_click_rate:1.00000 group/click/top3_click_rate:1.00000 click_ratio:0.08026 time_per_show:12.55786 time_per_click:156.47289 time_per_user:159.61405 version:video'],\n",
       " ['valid_online_abid4,5,6',\n",
       "  '2019111722',\n",
       "  'video',\n",
       "  'pos_ratio:0.07660 auc:0.58517 time_auc:0.58641 weighted_time_auc:0.69685 click/time_auc:0.61354 click/weighted_time_auc:0.69424 group/auc:0.49938 group/pos_ratio:0.12292 group/top1_score:45.43259 group/top3_score:41.66217 group/time_auc:0.50205 group/weighted_time_auc:0.52336 group/top1_best:211.26053 group/top3_best:98.83661 group/top1_rate:0.21505 group/top3_rate:0.42153 group/top1_click:0.19468 group/top3_click:0.19504 group/top1_click_best:1.00000 group/top3_click_best:0.56228 group/top1_click_rate:0.19468 group/top3_click_rate:0.34686 group/click/auc:0.00000 group/click/pos_ratio:0.00000 group/click/top1_score:178.07849 group/click/top3_score:165.57920 group/click/time_auc:0.55876 group/click/weighted_time_auc:0.62414 group/click/top1_best:211.26053 group/click/top3_best:175.77754 group/click/top1_rate:0.84293 group/click/top3_rate:0.94198 group/click/top1_click:1.00000 group/click/top3_click:1.00000 group/click/top1_click_best:1.00000 group/click/top3_click_best:1.00000 group/click/top1_click_rate:1.00000 group/click/top3_click_rate:1.00000 click_ratio:0.07660 time_per_show:11.89503 time_per_click:155.28297 time_per_user:148.77990 version:video'],\n",
       " ['valid_online_abid4,5,6',\n",
       "  '2019111723',\n",
       "  'video',\n",
       "  'pos_ratio:0.07590 auc:0.57940 time_auc:0.58110 weighted_time_auc:0.69234 click/time_auc:0.61967 click/weighted_time_auc:0.70118 group/auc:0.50648 group/pos_ratio:0.12908 group/top1_score:49.67756 group/top3_score:42.17638 group/time_auc:0.51033 group/weighted_time_auc:0.52612 group/top1_best:213.93940 group/top3_best:100.51361 group/top1_rate:0.23220 group/top3_rate:0.41961 group/top1_click:0.19983 group/top3_click:0.19823 group/top1_click_best:1.00000 group/top3_click_best:0.56163 group/top1_click_rate:0.19983 group/top3_click_rate:0.35295 group/click/auc:0.00000 group/click/pos_ratio:0.00000 group/click/top1_score:180.60710 group/click/top3_score:168.68075 group/click/time_auc:0.58236 group/click/weighted_time_auc:0.63703 group/click/top1_best:213.93940 group/click/top3_best:178.96613 group/click/top1_rate:0.84420 group/click/top3_rate:0.94253 group/click/top1_click:1.00000 group/click/top3_click:1.00000 group/click/top1_click_best:1.00000 group/click/top3_click_best:1.00000 group/click/top1_click_rate:1.00000 group/click/top3_click_rate:1.00000 click_ratio:0.07590 time_per_show:12.00498 time_per_click:158.17555 time_per_user:150.63750 version:video'],\n",
       " ['valid_online_abid4,5,6',\n",
       "  '2019111800',\n",
       "  'video',\n",
       "  'pos_ratio:0.07466 auc:0.56704 time_auc:0.56796 weighted_time_auc:0.65720 click/time_auc:0.58457 click/weighted_time_auc:0.64000 group/auc:0.47328 group/pos_ratio:0.13921 group/top1_score:30.29645 group/top3_score:33.04688 group/time_auc:0.47690 group/weighted_time_auc:0.49176 group/top1_best:179.24017 group/top3_best:82.93830 group/top1_rate:0.16903 group/top3_rate:0.39845 group/top1_click:0.18157 group/top3_click:0.20170 group/top1_click_best:1.00000 group/top3_click_best:0.54997 group/top1_click_rate:0.18157 group/top3_click_rate:0.36674 group/click/auc:0.00000 group/click/pos_ratio:0.00000 group/click/top1_score:149.99036 group/click/top3_score:140.41920 group/click/time_auc:0.55532 group/click/weighted_time_auc:0.63068 group/click/top1_best:179.24017 group/click/top3_best:150.80398 group/click/top1_rate:0.83681 group/click/top3_rate:0.93114 group/click/top1_click:1.00000 group/click/top3_click:1.00000 group/click/top1_click_best:1.00000 group/click/top3_click_best:1.00000 group/click/top1_click_rate:1.00000 group/click/top3_click_rate:1.00000 click_ratio:0.07466 time_per_show:9.97809 time_per_click:133.64616 time_per_user:122.95729 version:video'],\n",
       " ['valid_online_abid4,5,6',\n",
       "  '2019111801',\n",
       "  'video',\n",
       "  'pos_ratio:0.07705 auc:0.56171 time_auc:0.56168 weighted_time_auc:0.63776 click/time_auc:0.55163 click/weighted_time_auc:0.58227 group/auc:0.48565 group/pos_ratio:0.14981 group/top1_score:30.49067 group/top3_score:30.74766 group/time_auc:0.49058 group/weighted_time_auc:0.50617 group/top1_best:156.75671 group/top3_best:74.89019 group/top1_rate:0.19451 group/top3_rate:0.41057 group/top1_click:0.21587 group/top3_click:0.23754 group/top1_click_best:1.00000 group/top3_click_best:0.55666 group/top1_click_rate:0.21587 group/top3_click_rate:0.42672 group/click/auc:0.00000 group/click/pos_ratio:0.00000 group/click/top1_score:130.71820 group/click/top3_score:124.86569 group/click/time_auc:0.55906 group/click/weighted_time_auc:0.65618 group/click/top1_best:156.75671 group/click/top3_best:134.53515 group/click/top1_rate:0.83389 group/click/top3_rate:0.92813 group/click/top1_click:1.00000 group/click/top3_click:1.00000 group/click/top1_click_best:1.00000 group/click/top3_click_best:1.00000 group/click/top1_click_rate:1.00000 group/click/top3_click_rate:1.00000 click_ratio:0.07705 time_per_show:9.38680 time_per_click:121.83029 time_per_user:117.40984 version:video'],\n",
       " ['valid_online_abid4,5,6',\n",
       "  '2019111802',\n",
       "  'video',\n",
       "  'pos_ratio:0.07302 auc:0.55474 time_auc:0.55465 weighted_time_auc:0.61844 click/time_auc:0.54076 click/weighted_time_auc:0.54289 group/auc:0.49397 group/pos_ratio:0.15788 group/top1_score:23.57707 group/top3_score:27.48327 group/time_auc:0.49747 group/weighted_time_auc:0.51524 group/top1_best:148.25740 group/top3_best:70.40877 group/top1_rate:0.15903 group/top3_rate:0.39034 group/top1_click:0.23386 group/top3_click:0.23872 group/top1_click_best:1.00000 group/top3_click_best:0.56158 group/top1_click_rate:0.23386 group/top3_click_rate:0.42509 group/click/auc:0.00000 group/click/pos_ratio:0.00000 group/click/top1_score:121.31815 group/click/top3_score:117.67644 group/click/time_auc:0.54402 group/click/weighted_time_auc:0.65127 group/click/top1_best:148.25740 group/click/top3_best:125.37590 group/click/top1_rate:0.81829 group/click/top3_rate:0.93859 group/click/top1_click:1.00000 group/click/top3_click:1.00000 group/click/top1_click_best:1.00000 group/click/top3_click_best:1.00000 group/click/top1_click_rate:1.00000 group/click/top3_click_rate:1.00000 click_ratio:0.07302 time_per_show:8.54471 time_per_click:117.01512 time_per_user:111.56451 version:video'],\n",
       " ['valid_online_abid4,5,6',\n",
       "  '2019111803',\n",
       "  'video',\n",
       "  'pos_ratio:0.06499 auc:0.54978 time_auc:0.54966 weighted_time_auc:0.61279 click/time_auc:0.53002 click/weighted_time_auc:0.50345 group/auc:0.49386 group/pos_ratio:0.15922 group/top1_score:24.26887 group/top3_score:22.93581 group/time_auc:0.49381 group/weighted_time_auc:0.51215 group/top1_best:123.73302 group/top3_best:57.14915 group/top1_rate:0.19614 group/top3_rate:0.40133 group/top1_click:0.22925 group/top3_click:0.25079 group/top1_click_best:1.00000 group/top3_click_best:0.54531 group/top1_click_rate:0.22925 group/top3_click_rate:0.45990 group/click/auc:0.00000 group/click/pos_ratio:0.00000 group/click/top1_score:105.50849 group/click/top3_score:98.87882 group/click/time_auc:0.57617 group/click/weighted_time_auc:0.70609 group/click/top1_best:123.73302 group/click/top3_best:104.80092 group/click/top1_rate:0.85271 group/click/top3_rate:0.94349 group/click/top1_click:1.00000 group/click/top3_click:1.00000 group/click/top1_click_best:1.00000 group/click/top3_click_best:1.00000 group/click/top1_click_rate:1.00000 group/click/top3_click_rate:1.00000 click_ratio:0.06499 time_per_show:6.50412 time_per_click:100.07692 time_per_user:83.75294 version:video'],\n",
       " ['valid_online_abid4,5,6',\n",
       "  '2019111804',\n",
       "  'video',\n",
       "  'pos_ratio:0.06264 auc:0.55663 time_auc:0.55623 weighted_time_auc:0.62682 click/time_auc:0.52613 click/weighted_time_auc:0.51674 group/auc:0.49760 group/pos_ratio:0.15943 group/top1_score:28.15883 group/top3_score:26.87927 group/time_auc:0.50129 group/weighted_time_auc:0.51866 group/top1_best:123.41902 group/top3_best:58.33810 group/top1_rate:0.22816 group/top3_rate:0.46075 group/top1_click:0.23720 group/top3_click:0.24773 group/top1_click_best:1.00000 group/top3_click_best:0.53803 group/top1_click_rate:0.23720 group/top3_click_rate:0.46044 group/click/auc:0.00000 group/click/pos_ratio:0.00000 group/click/top1_score:103.89760 group/click/top3_score:102.94293 group/click/time_auc:0.53926 group/click/weighted_time_auc:0.66079 group/click/top1_best:123.41902 group/click/top3_best:108.42866 group/click/top1_rate:0.84183 group/click/top3_rate:0.94941 group/click/top1_click:1.00000 group/click/top3_click:1.00000 group/click/top1_click_best:1.00000 group/click/top3_click_best:1.00000 group/click/top1_click_rate:1.00000 group/click/top3_click_rate:1.00000 click_ratio:0.06264 time_per_show:6.29087 time_per_click:100.42457 time_per_user:83.94609 version:video'],\n",
       " ['valid_online_abid4,5,6',\n",
       "  '2019111805',\n",
       "  'video',\n",
       "  'pos_ratio:0.06878 auc:0.56405 time_auc:0.56363 weighted_time_auc:0.64153 click/time_auc:0.54139 click/weighted_time_auc:0.55019 group/auc:0.50115 group/pos_ratio:0.14579 group/top1_score:29.17257 group/top3_score:28.04140 group/time_auc:0.50250 group/weighted_time_auc:0.51865 group/top1_best:145.18952 group/top3_best:64.73515 group/top1_rate:0.20093 group/top3_rate:0.43317 group/top1_click:0.21186 group/top3_click:0.21985 group/top1_click_best:1.00000 group/top3_click_best:0.52738 group/top1_click_rate:0.21186 group/top3_click_rate:0.41687 group/click/auc:0.00000 group/click/pos_ratio:0.00000 group/click/top1_score:123.12404 group/click/top3_score:117.40858 group/click/time_auc:0.51414 group/click/weighted_time_auc:0.62881 group/click/top1_best:145.18952 group/click/top3_best:122.74744 group/click/top1_rate:0.84802 group/click/top3_rate:0.95651 group/click/top1_click:1.00000 group/click/top3_click:1.00000 group/click/top1_click_best:1.00000 group/click/top3_click_best:1.00000 group/click/top1_click_rate:1.00000 group/click/top3_click_rate:1.00000 click_ratio:0.06878 time_per_show:7.86175 time_per_click:114.29462 time_per_user:91.66437 version:video'],\n",
       " ['valid_online_abid4,5,6',\n",
       "  '2019111806',\n",
       "  'video',\n",
       "  'pos_ratio:0.07372 auc:0.55809 time_auc:0.55841 weighted_time_auc:0.63736 click/time_auc:0.56175 click/weighted_time_auc:0.59303 group/auc:0.48584 group/pos_ratio:0.15212 group/top1_score:33.29509 group/top3_score:32.13599 group/time_auc:0.48841 group/weighted_time_auc:0.50393 group/top1_best:162.06514 group/top3_best:72.20601 group/top1_rate:0.20544 group/top3_rate:0.44506 group/top1_click:0.20467 group/top3_click:0.22177 group/top1_click_best:1.00000 group/top3_click_best:0.52851 group/top1_click_rate:0.20467 group/top3_click_rate:0.41961 group/click/auc:0.00000 group/click/pos_ratio:0.00000 group/click/top1_score:139.73845 group/click/top3_score:130.82908 group/click/time_auc:0.55094 group/click/weighted_time_auc:0.65459 group/click/top1_best:162.06514 group/click/top3_best:136.62097 group/click/top1_rate:0.86224 group/click/top3_rate:0.95761 group/click/top1_click:1.00000 group/click/top3_click:1.00000 group/click/top1_click_best:1.00000 group/click/top3_click_best:1.00000 group/click/top1_click_rate:1.00000 group/click/top3_click_rate:1.00000 click_ratio:0.07372 time_per_show:9.43204 time_per_click:127.93726 time_per_user:97.48873 version:video'],\n",
       " ['valid_online_abid4,5,6',\n",
       "  '2019111807',\n",
       "  'video',\n",
       "  'pos_ratio:0.07647 auc:0.55975 time_auc:0.55986 weighted_time_auc:0.63617 click/time_auc:0.55901 click/weighted_time_auc:0.60809 group/auc:0.48078 group/pos_ratio:0.14476 group/top1_score:30.76561 group/top3_score:31.53662 group/time_auc:0.48367 group/weighted_time_auc:0.50213 group/top1_best:162.68134 group/top3_best:72.52995 group/top1_rate:0.18912 group/top3_rate:0.43481 group/top1_click:0.19225 group/top3_click:0.20904 group/top1_click_best:1.00000 group/top3_click_best:0.52970 group/top1_click_rate:0.19225 group/top3_click_rate:0.39463 group/click/auc:0.00000 group/click/pos_ratio:0.00000 group/click/top1_score:140.18021 group/click/top3_score:130.03564 group/click/time_auc:0.54454 group/click/weighted_time_auc:0.63397 group/click/top1_best:162.68134 group/click/top3_best:136.92635 group/click/top1_rate:0.86169 group/click/top3_rate:0.94968 group/click/top1_click:1.00000 group/click/top3_click:1.00000 group/click/top1_click_best:1.00000 group/click/top3_click_best:1.00000 group/click/top1_click_rate:1.00000 group/click/top3_click_rate:1.00000 click_ratio:0.07647 time_per_show:9.63364 time_per_click:125.97589 time_per_user:97.70380 version:video'],\n",
       " ['valid_online_abid4,5,6',\n",
       "  '2019111808',\n",
       "  'video',\n",
       "  'pos_ratio:0.07633 auc:0.55940 time_auc:0.55979 weighted_time_auc:0.63252 click/time_auc:0.56683 click/weighted_time_auc:0.56629 group/auc:0.47115 group/pos_ratio:0.14115 group/top1_score:33.47538 group/top3_score:32.30114 group/time_auc:0.47376 group/weighted_time_auc:0.49146 group/top1_best:183.05597 group/top3_best:79.74598 group/top1_rate:0.18287 group/top3_rate:0.40505 group/top1_click:0.18101 group/top3_click:0.20241 group/top1_click_best:1.00000 group/top3_click_best:0.52592 group/top1_click_rate:0.18101 group/top3_click_rate:0.38488 group/click/auc:0.00000 group/click/pos_ratio:0.00000 group/click/top1_score:158.89196 group/click/top3_score:144.74499 group/click/time_auc:0.56817 group/click/weighted_time_auc:0.63846 group/click/top1_best:183.05597 group/click/top3_best:151.63043 group/click/top1_rate:0.86800 group/click/top3_rate:0.95459 group/click/top1_click:1.00000 group/click/top3_click:1.00000 group/click/top1_click_best:1.00000 group/click/top3_click_best:1.00000 group/click/top1_click_rate:1.00000 group/click/top3_click_rate:1.00000 click_ratio:0.07633 time_per_show:10.60886 time_per_click:138.99474 time_per_user:109.39598 version:video'],\n",
       " ['valid_online_abid4,5,6',\n",
       "  '2019111809',\n",
       "  'video',\n",
       "  'pos_ratio:0.07653 auc:0.56780 time_auc:0.56812 weighted_time_auc:0.65313 click/time_auc:0.57253 click/weighted_time_auc:0.61918 group/auc:0.49464 group/pos_ratio:0.13817 group/top1_score:32.16673 group/top3_score:32.75166 group/time_auc:0.49771 group/weighted_time_auc:0.51511 group/top1_best:167.16566 group/top3_best:75.89313 group/top1_rate:0.19242 group/top3_rate:0.43155 group/top1_click:0.17098 group/top3_click:0.20912 group/top1_click_best:1.00000 group/top3_click_best:0.53637 group/top1_click_rate:0.17098 group/top3_click_rate:0.38988 group/click/auc:0.00000 group/click/pos_ratio:0.00000 group/click/top1_score:142.13870 group/click/top3_score:134.06053 group/click/time_auc:0.56194 group/click/weighted_time_auc:0.65499 group/click/top1_best:167.16566 group/click/top3_best:141.49282 group/click/top1_rate:0.85029 group/click/top3_rate:0.94747 group/click/top1_click:1.00000 group/click/top3_click:1.00000 group/click/top1_click_best:1.00000 group/click/top3_click_best:1.00000 group/click/top1_click_rate:1.00000 group/click/top3_click_rate:1.00000 click_ratio:0.07653 time_per_show:10.00332 time_per_click:130.71672 time_per_user:110.31267 version:video'],\n",
       " ['valid_online_abid4,5,6',\n",
       "  '2019111810',\n",
       "  'video',\n",
       "  'pos_ratio:0.07868 auc:0.55673 time_auc:0.55694 weighted_time_auc:0.63151 click/time_auc:0.55951 click/weighted_time_auc:0.60426 group/auc:0.46897 group/pos_ratio:0.14298 group/top1_score:27.14426 group/top3_score:29.26423 group/time_auc:0.47170 group/weighted_time_auc:0.47910 group/top1_best:158.56620 group/top3_best:72.07695 group/top1_rate:0.17119 group/top3_rate:0.40601 group/top1_click:0.17846 group/top3_click:0.20731 group/top1_click_best:1.00000 group/top3_click_best:0.54136 group/top1_click_rate:0.17846 group/top3_click_rate:0.38294 group/click/auc:0.00000 group/click/pos_ratio:0.00000 group/click/top1_score:132.94446 group/click/top3_score:125.54013 group/click/time_auc:0.55286 group/click/weighted_time_auc:0.62118 group/click/top1_best:158.56620 group/click/top3_best:133.14047 group/click/top1_rate:0.83842 group/click/top3_rate:0.94291 group/click/top1_click:1.00000 group/click/top3_click:1.00000 group/click/top1_click_best:1.00000 group/click/top3_click_best:1.00000 group/click/top1_click_rate:1.00000 group/click/top3_click_rate:1.00000 click_ratio:0.07868 time_per_show:9.72158 time_per_click:123.56622 time_per_user:103.37677 version:video'],\n",
       " ['valid_online_abid4,5,6',\n",
       "  '2019111811',\n",
       "  'video',\n",
       "  'pos_ratio:0.07545 auc:0.55393 time_auc:0.55414 weighted_time_auc:0.63006 click/time_auc:0.55680 click/weighted_time_auc:0.59477 group/auc:0.47851 group/pos_ratio:0.13872 group/top1_score:26.72332 group/top3_score:27.88267 group/time_auc:0.47844 group/weighted_time_auc:0.48931 group/top1_best:149.52694 group/top3_best:65.61919 group/top1_rate:0.17872 group/top3_rate:0.42492 group/top1_click:0.17727 group/top3_click:0.19958 group/top1_click_best:1.00000 group/top3_click_best:0.51870 group/top1_click_rate:0.17727 group/top3_click_rate:0.38477 group/click/auc:0.00000 group/click/pos_ratio:0.00000 group/click/top1_score:128.98262 group/click/top3_score:121.23404 group/click/time_auc:0.55978 group/click/weighted_time_auc:0.63522 group/click/top1_best:149.52694 group/click/top3_best:126.50616 group/click/top1_rate:0.86260 group/click/top3_rate:0.95833 group/click/top1_click:1.00000 group/click/top3_click:1.00000 group/click/top1_click_best:1.00000 group/click/top3_click_best:1.00000 group/click/top1_click_rate:1.00000 group/click/top3_click_rate:1.00000 click_ratio:0.07545 time_per_show:8.82815 time_per_click:117.00257 time_per_user:88.91423 version:video'],\n",
       " ['valid_online_abid4,5,6', '2019111812', 'video'],\n",
       " ['valid_online_abid4,5,6',\n",
       "  '2019111812',\n",
       "  'video',\n",
       "  'pos_ratio:0.08338 auc:0.56146 time_auc:0.56195 weighted_time_auc:0.64970 click/time_auc:0.57066 click/weighted_time_auc:0.63357 group/auc:0.48311 group/pos_ratio:0.14610 group/top1_score:32.54098 group/top3_score:32.47938 group/time_auc:0.48710 group/weighted_time_auc:0.50483 group/top1_best:167.15667 group/top3_best:75.72533 group/top1_rate:0.19467 group/top3_rate:0.42891 group/top1_click:0.17941 group/top3_click:0.20446 group/top1_click_best:1.00000 group/top3_click_best:0.53899 group/top1_click_rate:0.17941 group/top3_click_rate:0.37934 group/click/auc:0.00000 group/click/pos_ratio:0.00000 group/click/top1_score:142.68666 group/click/top3_score:133.22150 group/click/time_auc:0.56671 group/click/weighted_time_auc:0.65062 group/click/top1_best:167.15667 group/click/top3_best:140.49535 group/click/top1_rate:0.85361 group/click/top3_rate:0.94823 group/click/top1_click:1.00000 group/click/top3_click:1.00000 group/click/top1_click_best:1.00000 group/click/top3_click_best:1.00000 group/click/top1_click_rate:1.00000 group/click/top3_click_rate:1.00000 click_ratio:0.08338 time_per_show:10.59761 time_per_click:127.10153 time_per_user:110.99460 version:video'],\n",
       " ['valid_online_abid4,5,6',\n",
       "  '2019111813',\n",
       "  'video',\n",
       "  'pos_ratio:0.08089 auc:0.55246 time_auc:0.55353 weighted_time_auc:0.63884 click/time_auc:0.57571 click/weighted_time_auc:0.62765 group/auc:0.47445 group/pos_ratio:0.14487 group/top1_score:32.39007 group/top3_score:31.18943 group/time_auc:0.47596 group/weighted_time_auc:0.49794 group/top1_best:165.86383 group/top3_best:75.42413 group/top1_rate:0.19528 group/top3_rate:0.41352 group/top1_click:0.17872 group/top3_click:0.20108 group/top1_click_best:1.00000 group/top3_click_best:0.54783 group/top1_click_rate:0.17872 group/top3_click_rate:0.36705 group/click/auc:0.00000 group/click/pos_ratio:0.00000 group/click/top1_score:139.83858 group/click/top3_score:129.74291 group/click/time_auc:0.55162 group/click/weighted_time_auc:0.62414 group/click/top1_best:165.86383 group/click/top3_best:137.67773 group/click/top1_rate:0.84309 group/click/top3_rate:0.94237 group/click/top1_click:1.00000 group/click/top3_click:1.00000 group/click/top1_click_best:1.00000 group/click/top3_click_best:1.00000 group/click/top1_click_rate:1.00000 group/click/top3_click_rate:1.00000 click_ratio:0.08089 time_per_show:9.95778 time_per_click:123.09864 time_per_user:113.40933 version:video'],\n",
       " ['valid_online_abid4,5,6',\n",
       "  '2019111814',\n",
       "  'video',\n",
       "  'pos_ratio:0.07666 auc:0.55193 time_auc:0.55242 weighted_time_auc:0.62269 click/time_auc:0.56230 click/weighted_time_auc:0.60142 group/auc:0.48827 group/pos_ratio:0.13345 group/top1_score:28.35102 group/top3_score:29.05589 group/time_auc:0.49129 group/weighted_time_auc:0.50349 group/top1_best:167.04432 group/top3_best:76.05222 group/top1_rate:0.16972 group/top3_rate:0.38205 group/top1_click:0.16855 group/top3_click:0.19395 group/top1_click_best:1.00000 group/top3_click_best:0.54995 group/top1_click_rate:0.16855 group/top3_click_rate:0.35266 group/click/auc:0.00000 group/click/pos_ratio:0.00000 group/click/top1_score:139.77807 group/click/top3_score:129.72263 group/click/time_auc:0.55071 group/click/weighted_time_auc:0.61729 group/click/top1_best:167.04432 group/click/top3_best:138.29035 group/click/top1_rate:0.83677 group/click/top3_rate:0.93805 group/click/top1_click:1.00000 group/click/top3_click:1.00000 group/click/top1_click_best:1.00000 group/click/top3_click_best:1.00000 group/click/top1_click_rate:1.00000 group/click/top3_click_rate:1.00000 click_ratio:0.07666 time_per_show:9.39608 time_per_click:122.56803 time_per_user:110.93960 version:video'],\n",
       " ['valid_online_abid4,5,6',\n",
       "  '2019111815',\n",
       "  'video',\n",
       "  'pos_ratio:0.07705 auc:0.56357 time_auc:0.56332 weighted_time_auc:0.62926 click/time_auc:0.55324 click/weighted_time_auc:0.59079 group/auc:0.49035 group/pos_ratio:0.14165 group/top1_score:28.45753 group/top3_score:31.21020 group/time_auc:0.49306 group/weighted_time_auc:0.50953 group/top1_best:165.23993 group/top3_best:76.11144 group/top1_rate:0.17222 group/top3_rate:0.41006 group/top1_click:0.18409 group/top3_click:0.20715 group/top1_click_best:1.00000 group/top3_click_best:0.55640 group/top1_click_rate:0.18409 group/top3_click_rate:0.37231 group/click/auc:0.00000 group/click/pos_ratio:0.00000 group/click/top1_score:137.59695 group/click/top3_score:128.06812 group/click/time_auc:0.54722 group/click/weighted_time_auc:0.62589 group/click/top1_best:165.23993 group/click/top3_best:136.79321 group/click/top1_rate:0.83271 group/click/top3_rate:0.93622 group/click/top1_click:1.00000 group/click/top3_click:1.00000 group/click/top1_click_best:1.00000 group/click/top3_click_best:1.00000 group/click/top1_click_rate:1.00000 group/click/top3_click_rate:1.00000 click_ratio:0.07705 time_per_show:9.38656 time_per_click:121.82756 time_per_user:111.35829 version:video'],\n",
       " ['valid_online_abid4,5,6',\n",
       "  '2019111816',\n",
       "  'video',\n",
       "  'pos_ratio:0.07514 auc:0.55648 time_auc:0.55614 weighted_time_auc:0.61478 click/time_auc:0.54374 click/weighted_time_auc:0.56949 group/auc:0.48776 group/pos_ratio:0.14211 group/top1_score:29.84270 group/top3_score:30.64257 group/time_auc:0.48959 group/weighted_time_auc:0.51110 group/top1_best:168.44580 group/top3_best:78.08972 group/top1_rate:0.17716 group/top3_rate:0.39240 group/top1_click:0.17515 group/top3_click:0.20084 group/top1_click_best:1.00000 group/top3_click_best:0.55198 group/top1_click_rate:0.17515 group/top3_click_rate:0.36385 group/click/auc:0.00000 group/click/pos_ratio:0.00000 group/click/top1_score:140.81593 group/click/top3_score:134.02699 group/click/time_auc:0.56357 group/click/weighted_time_auc:0.64763 group/click/top1_best:168.44580 group/click/top3_best:141.47321 group/click/top1_rate:0.83597 group/click/top3_rate:0.94737 group/click/top1_click:1.00000 group/click/top3_click:1.00000 group/click/top1_click_best:1.00000 group/click/top3_click_best:1.00000 group/click/top1_click_rate:1.00000 group/click/top3_click_rate:1.00000 click_ratio:0.07514 time_per_show:9.56951 time_per_click:127.36096 time_per_user:112.09736 version:video'],\n",
       " ['valid_online_abid4,5,6',\n",
       "  '2019111817',\n",
       "  'video',\n",
       "  'pos_ratio:0.07668 auc:0.56765 time_auc:0.56700 weighted_time_auc:0.62577 click/time_auc:0.54694 click/weighted_time_auc:0.58165 group/auc:0.50066 group/pos_ratio:0.13484 group/top1_score:29.41672 group/top3_score:31.81584 group/time_auc:0.49730 group/weighted_time_auc:0.52004 group/top1_best:170.55123 group/top3_best:77.36992 group/top1_rate:0.17248 group/top3_rate:0.41122 group/top1_click:0.18035 group/top3_click:0.19868 group/top1_click_best:1.00000 group/top3_click_best:0.53986 group/top1_click_rate:0.18035 group/top3_click_rate:0.36802 group/click/auc:0.00000 group/click/pos_ratio:0.00000 group/click/top1_score:143.20641 group/click/top3_score:135.45928 group/click/time_auc:0.54514 group/click/weighted_time_auc:0.63174 group/click/top1_best:170.55123 group/click/top3_best:143.31590 group/click/top1_rate:0.83967 group/click/top3_rate:0.94518 group/click/top1_click:1.00000 group/click/top3_click:1.00000 group/click/top1_click_best:1.00000 group/click/top3_click_best:1.00000 group/click/top1_click_rate:1.00000 group/click/top3_click_rate:1.00000 click_ratio:0.07668 time_per_show:9.98176 time_per_click:130.18100 time_per_user:112.10523 version:video'],\n",
       " ['valid_online_abid4,5,6',\n",
       "  '2019111818',\n",
       "  'video',\n",
       "  'pos_ratio:0.08250 auc:0.55949 time_auc:0.55920 weighted_time_auc:0.62223 click/time_auc:0.55014 click/weighted_time_auc:0.58342 group/auc:0.49987 group/pos_ratio:0.13931 group/top1_score:31.70618 group/top3_score:32.57987 group/time_auc:0.50209 group/weighted_time_auc:0.51809 group/top1_best:181.66268 group/top3_best:82.66411 group/top1_rate:0.17453 group/top3_rate:0.39412 group/top1_click:0.17705 group/top3_click:0.19683 group/top1_click_best:1.00000 group/top3_click_best:0.54651 group/top1_click_rate:0.17705 group/top3_click_rate:0.36017 group/click/auc:0.00000 group/click/pos_ratio:0.00000 group/click/top1_score:149.00076 group/click/top3_score:142.42121 group/click/time_auc:0.54054 group/click/weighted_time_auc:0.60669 group/click/top1_best:181.66268 group/click/top3_best:151.25911 group/click/top1_rate:0.82021 group/click/top3_rate:0.94157 group/click/top1_click:1.00000 group/click/top3_click:1.00000 group/click/top1_click_best:1.00000 group/click/top3_click_best:1.00000 group/click/top1_click_rate:1.00000 group/click/top3_click_rate:1.00000 click_ratio:0.08250 time_per_show:11.15203 time_per_click:135.17099 time_per_user:127.01808 version:video'],\n",
       " ['valid_online_abid4,5,6',\n",
       "  '2019111819',\n",
       "  'video',\n",
       "  'pos_ratio:0.08219 auc:0.56019 time_auc:0.56028 weighted_time_auc:0.63346 click/time_auc:0.55957 click/weighted_time_auc:0.60688 group/auc:0.49158 group/pos_ratio:0.13551 group/top1_score:36.64413 group/top3_score:35.10098 group/time_auc:0.49036 group/weighted_time_auc:0.50574 group/top1_best:189.72753 group/top3_best:87.62331 group/top1_rate:0.19314 group/top3_rate:0.40059 group/top1_click:0.18095 group/top3_click:0.19932 group/top1_click_best:1.00000 group/top3_click_best:0.56375 group/top1_click_rate:0.18095 group/top3_click_rate:0.35356 group/click/auc:0.00000 group/click/pos_ratio:0.00000 group/click/top1_score:155.73821 group/click/top3_score:144.78154 group/click/time_auc:0.54397 group/click/weighted_time_auc:0.59457 group/click/top1_best:189.72753 group/click/top3_best:155.42922 group/click/top1_rate:0.82085 group/click/top3_rate:0.93149 group/click/top1_click:1.00000 group/click/top3_click:1.00000 group/click/top1_click_best:1.00000 group/click/top3_click_best:1.00000 group/click/top1_click_rate:1.00000 group/click/top3_click_rate:1.00000 click_ratio:0.08219 time_per_show:11.32999 time_per_click:137.84953 time_per_user:136.99002 version:video'],\n",
       " ['valid_online_abid4,5,6', '2019111820', 'video'],\n",
       " ['valid_online_abid4,5,6',\n",
       "  '2019111820',\n",
       "  'video',\n",
       "  'pos_ratio:0.08063 auc:0.57854 time_auc:0.57889 weighted_time_auc:0.67670 click/time_auc:0.58496 click/weighted_time_auc:0.64803 group/auc:0.50165 group/pos_ratio:0.12691 group/top1_score:47.55393 group/top3_score:41.45340 group/time_auc:0.50202 group/weighted_time_auc:0.51905 group/top1_best:212.03256 group/top3_best:97.36709 group/top1_rate:0.22428 group/top3_rate:0.42574 group/top1_click:0.20421 group/top3_click:0.20164 group/top1_click_best:1.00000 group/top3_click_best:0.55163 group/top1_click_rate:0.20421 group/top3_click_rate:0.36554 group/click/auc:0.00000 group/click/pos_ratio:0.00000 group/click/top1_score:176.57032 group/click/top3_score:167.43572 group/click/time_auc:0.55651 group/click/weighted_time_auc:0.61224 group/click/top1_best:212.03256 group/click/top3_best:176.50725 group/click/top1_rate:0.83275 group/click/top3_rate:0.94861 group/click/top1_click:1.00000 group/click/top3_click:1.00000 group/click/top1_click_best:1.00000 group/click/top3_click_best:1.00000 group/click/top1_click_rate:1.00000 group/click/top3_click_rate:1.00000 click_ratio:0.08063 time_per_show:12.64061 time_per_click:156.77030 time_per_user:149.11603 version:video'],\n",
       " ['valid_online_abid4,5,6',\n",
       "  '2019111821',\n",
       "  'video',\n",
       "  'pos_ratio:0.08296 auc:0.58587 time_auc:0.58621 weighted_time_auc:0.68632 click/time_auc:0.59223 click/weighted_time_auc:0.66198 group/auc:0.50552 group/pos_ratio:0.12681 group/top1_score:46.72487 group/top3_score:41.89205 group/time_auc:0.50718 group/weighted_time_auc:0.52524 group/top1_best:214.32304 group/top3_best:99.45848 group/top1_rate:0.21801 group/top3_rate:0.42120 group/top1_click:0.20102 group/top3_click:0.19889 group/top1_click_best:1.00000 group/top3_click_best:0.55639 group/top1_click_rate:0.20102 group/top3_click_rate:0.35746 group/click/auc:0.00000 group/click/pos_ratio:0.00000 group/click/top1_score:179.95187 group/click/top3_score:168.25937 group/click/time_auc:0.56845 group/click/weighted_time_auc:0.61637 group/click/top1_best:214.32304 group/click/top3_best:178.75560 group/click/top1_rate:0.83963 group/click/top3_rate:0.94128 group/click/top1_click:1.00000 group/click/top3_click:1.00000 group/click/top1_click_best:1.00000 group/click/top3_click_best:1.00000 group/click/top1_click_rate:1.00000 group/click/top3_click_rate:1.00000 click_ratio:0.08296 time_per_show:13.09482 time_per_click:157.84928 time_per_user:156.67352 version:video'],\n",
       " ['valid_online_abid4,5,6',\n",
       "  '2019111822',\n",
       "  'video',\n",
       "  'pos_ratio:0.08015 auc:0.58767 time_auc:0.58903 weighted_time_auc:0.70432 click/time_auc:0.61875 click/weighted_time_auc:0.70428 group/auc:0.49444 group/pos_ratio:0.12525 group/top1_score:50.93228 group/top3_score:43.96439 group/time_auc:0.49696 group/weighted_time_auc:0.51175 group/top1_best:216.35723 group/top3_best:98.20648 group/top1_rate:0.23541 group/top3_rate:0.44767 group/top1_click:0.19572 group/top3_click:0.19560 group/top1_click_best:1.00000 group/top3_click_best:0.54459 group/top1_click_rate:0.19572 group/top3_click_rate:0.35917 group/click/auc:0.00000 group/click/pos_ratio:0.00000 group/click/top1_score:185.16384 group/click/top3_score:172.05368 group/click/time_auc:0.57833 group/click/weighted_time_auc:0.61970 group/click/top1_best:216.35723 group/click/top3_best:180.33262 group/click/top1_rate:0.85582 group/click/top3_rate:0.95409 group/click/top1_click:1.00000 group/click/top3_click:1.00000 group/click/top1_click_best:1.00000 group/click/top3_click_best:1.00000 group/click/top1_click_rate:1.00000 group/click/top3_click_rate:1.00000 click_ratio:0.08015 time_per_show:13.02396 time_per_click:162.49109 time_per_user:149.04870 version:video'],\n",
       " ['valid_online_abid4,5,6',\n",
       "  '2019111823',\n",
       "  'video',\n",
       "  'pos_ratio:0.08035 auc:0.59020 time_auc:0.59112 weighted_time_auc:0.69574 click/time_auc:0.61033 click/weighted_time_auc:0.69357 group/auc:0.50000 group/pos_ratio:0.12392 group/top1_score:45.97716 group/top3_score:42.34985 group/time_auc:0.50332 group/weighted_time_auc:0.52995 group/top1_best:210.78269 group/top3_best:97.40422 group/top1_rate:0.21813 group/top3_rate:0.43478 group/top1_click:0.19026 group/top3_click:0.19829 group/top1_click_best:1.00000 group/top3_click_best:0.54503 group/top1_click_rate:0.19026 group/top3_click_rate:0.36382 group/click/auc:0.00000 group/click/pos_ratio:0.00000 group/click/top1_score:183.21972 group/click/top3_score:169.62087 group/click/time_auc:0.58503 group/click/weighted_time_auc:0.66057 group/click/top1_best:210.78269 group/click/top3_best:178.71510 group/click/top1_rate:0.86924 group/click/top3_rate:0.94911 group/click/top1_click:1.00000 group/click/top3_click:1.00000 group/click/top1_click_best:1.00000 group/click/top3_click_best:1.00000 group/click/top1_click_rate:1.00000 group/click/top3_click_rate:1.00000 click_ratio:0.08035 time_per_show:12.89561 time_per_click:160.49603 time_per_user:146.56662 version:video'],\n",
       " ['valid_online_abid4,5,6',\n",
       "  '2019111900',\n",
       "  'video',\n",
       "  'pos_ratio:0.08994 auc:0.57150 time_auc:0.57138 weighted_time_auc:0.66254 click/time_auc:0.56649 click/weighted_time_auc:0.61584 group/auc:0.49782 group/pos_ratio:0.14434 group/top1_score:29.87140 group/top3_score:32.79158 group/time_auc:0.49923 group/weighted_time_auc:0.50801 group/top1_best:169.51312 group/top3_best:80.00302 group/top1_rate:0.17622 group/top3_rate:0.40988 group/top1_click:0.19011 group/top3_click:0.21748 group/top1_click_best:1.00000 group/top3_click_best:0.55311 group/top1_click_rate:0.19011 group/top3_click_rate:0.39319 group/click/auc:0.00000 group/click/pos_ratio:0.00000 group/click/top1_score:140.02409 group/click/top3_score:135.12318 group/click/time_auc:0.53795 group/click/weighted_time_auc:0.60726 group/click/top1_best:169.51312 group/click/top3_best:144.64163 group/click/top1_rate:0.82604 group/click/top3_rate:0.93419 group/click/top1_click:1.00000 group/click/top3_click:1.00000 group/click/top1_click_best:1.00000 group/click/top3_click_best:1.00000 group/click/top1_click_rate:1.00000 group/click/top3_click_rate:1.00000 click_ratio:0.08994 time_per_show:11.72107 time_per_click:130.31648 time_per_user:123.04836 version:video'],\n",
       " ['valid_online_abid4,5,6',\n",
       "  '2019111901',\n",
       "  'video',\n",
       "  'pos_ratio:0.08545 auc:0.56096 time_auc:0.56121 weighted_time_auc:0.64524 click/time_auc:0.56262 click/weighted_time_auc:0.58376 group/auc:0.49640 group/pos_ratio:0.14939 group/top1_score:32.79667 group/top3_score:32.50045 group/time_auc:0.49991 group/weighted_time_auc:0.51779 group/top1_best:162.48200 group/top3_best:74.60432 group/top1_rate:0.20185 group/top3_rate:0.43564 group/top1_click:0.21333 group/top3_click:0.22960 group/top1_click_best:1.00000 group/top3_click_best:0.54369 group/top1_click_rate:0.21333 group/top3_click_rate:0.42230 group/click/auc:0.00000 group/click/pos_ratio:0.00000 group/click/top1_score:139.42133 group/click/top3_score:131.03731 group/click/time_auc:0.55507 group/click/weighted_time_auc:0.65709 group/click/top1_best:162.48200 group/click/top3_best:137.21812 group/click/top1_rate:0.85807 group/click/top3_rate:0.95496 group/click/top1_click:1.00000 group/click/top3_click:1.00000 group/click/top1_click_best:1.00000 group/click/top3_click_best:1.00000 group/click/top1_click_rate:1.00000 group/click/top3_click_rate:1.00000 click_ratio:0.08545 time_per_show:10.72972 time_per_click:125.56394 time_per_user:114.71424 version:video'],\n",
       " ['valid_online_abid4,5,6',\n",
       "  '2019111902',\n",
       "  'video',\n",
       "  'pos_ratio:0.08368 auc:0.57050 time_auc:0.56917 weighted_time_auc:0.63367 click/time_auc:0.53293 click/weighted_time_auc:0.50390 group/auc:0.51072 group/pos_ratio:0.16905 group/top1_score:32.50618 group/top3_score:30.34265 group/time_auc:0.51262 group/weighted_time_auc:0.52517 group/top1_best:142.60038 group/top3_best:65.79041 group/top1_rate:0.22795 group/top3_rate:0.46120 group/top1_click:0.23977 group/top3_click:0.25373 group/top1_click_best:1.00000 group/top3_click_best:0.52937 group/top1_click_rate:0.23977 group/top3_click_rate:0.47930 group/click/auc:0.00000 group/click/pos_ratio:0.00000 group/click/top1_score:119.53758 group/click/top3_score:117.50270 group/click/time_auc:0.52598 group/click/weighted_time_auc:0.64406 group/click/top1_best:142.60038 group/click/top3_best:124.27954 group/click/top1_rate:0.83827 group/click/top3_rate:0.94547 group/click/top1_click:1.00000 group/click/top3_click:1.00000 group/click/top1_click_best:1.00000 group/click/top3_click_best:1.00000 group/click/top1_click_rate:1.00000 group/click/top3_click_rate:1.00000 click_ratio:0.08368 time_per_show:9.71371 time_per_click:116.07507 time_per_user:100.69353 version:video'],\n",
       " ['valid_online_abid4,5,6',\n",
       "  '2019111903',\n",
       "  'video',\n",
       "  'pos_ratio:0.09038 auc:0.52375 time_auc:0.52456 weighted_time_auc:0.61015 click/time_auc:0.53967 click/weighted_time_auc:0.51585 group/auc:0.48662 group/pos_ratio:0.16548 group/top1_score:28.62996 group/top3_score:27.50220 group/time_auc:0.48758 group/weighted_time_auc:0.50325 group/top1_best:131.43833 group/top3_best:59.66054 group/top1_rate:0.21782 group/top3_rate:0.46098 group/top1_click:0.21145 group/top3_click:0.25055 group/top1_click_best:1.00000 group/top3_click_best:0.52608 group/top1_click_rate:0.21145 group/top3_click_rate:0.47626 group/click/auc:0.00000 group/click/pos_ratio:0.00000 group/click/top1_score:113.96916 group/click/top3_score:108.26816 group/click/time_auc:0.53207 group/click/weighted_time_auc:0.68767 group/click/top1_best:131.43833 group/click/top3_best:113.40503 group/click/top1_rate:0.86709 group/click/top3_rate:0.95470 group/click/top1_click:1.00000 group/click/top3_click:1.00000 group/click/top1_click_best:1.00000 group/click/top3_click_best:1.00000 group/click/top1_click_rate:1.00000 group/click/top3_click_rate:1.00000 click_ratio:0.09038 time_per_show:9.74157 time_per_click:107.78123 time_per_user:90.50639 version:video'],\n",
       " ['valid_online_abid4,5,6',\n",
       "  '2019111904',\n",
       "  'video',\n",
       "  'pos_ratio:0.08213 auc:0.56312 time_auc:0.56095 weighted_time_auc:0.61087 click/time_auc:0.50470 click/weighted_time_auc:0.45961 group/auc:0.51550 group/pos_ratio:0.15877 group/top1_score:25.02623 group/top3_score:25.74581 group/time_auc:0.51881 group/weighted_time_auc:0.53246 group/top1_best:130.18472 group/top3_best:59.65753 group/top1_rate:0.19224 group/top3_rate:0.43156 group/top1_click:0.21779 group/top3_click:0.24772 group/top1_click_best:1.00000 group/top3_click_best:0.52740 group/top1_click_rate:0.21779 group/top3_click_rate:0.46970 group/click/auc:0.00000 group/click/pos_ratio:0.00000 group/click/top1_score:109.67503 group/click/top3_score:107.83694 group/click/time_auc:0.54378 group/click/weighted_time_auc:0.66287 group/click/top1_best:130.18472 group/click/top3_best:113.11688 group/click/top1_rate:0.84246 group/click/top3_rate:0.95332 group/click/top1_click:1.00000 group/click/top3_click:1.00000 group/click/top1_click_best:1.00000 group/click/top3_click_best:1.00000 group/click/top1_click_rate:1.00000 group/click/top3_click_rate:1.00000 click_ratio:0.08213 time_per_show:8.68681 time_per_click:105.76456 time_per_user:90.03813 version:video'],\n",
       " ['valid_online_abid4,5,6',\n",
       "  '2019111905',\n",
       "  'video',\n",
       "  'pos_ratio:0.08718 auc:0.54463 time_auc:0.54388 weighted_time_auc:0.58227 click/time_auc:0.52591 click/weighted_time_auc:0.38773 group/auc:0.46766 group/pos_ratio:0.15340 group/top1_score:22.81277 group/top3_score:24.50187 group/time_auc:0.47064 group/weighted_time_auc:0.47724 group/top1_best:164.61346 group/top3_best:68.81656 group/top1_rate:0.13858 group/top3_rate:0.35605 group/top1_click:0.19931 group/top3_click:0.22729 group/top1_click_best:1.00000 group/top3_click_best:0.52062 group/top1_click_rate:0.19931 group/top3_click_rate:0.43657 group/click/auc:0.00000 group/click/pos_ratio:0.00000 group/click/top1_score:144.51079 group/click/top3_score:128.25983 group/click/time_auc:0.54305 group/click/weighted_time_auc:0.63719 group/click/top1_best:164.61346 group/click/top3_best:132.18116 group/click/top1_rate:0.87788 group/click/top3_rate:0.97033 group/click/top1_click:1.00000 group/click/top3_click:1.00000 group/click/top1_click_best:1.00000 group/click/top3_click_best:1.00000 group/click/top1_click_rate:1.00000 group/click/top3_click_rate:1.00000 click_ratio:0.08718 time_per_show:10.85011 time_per_click:124.45263 time_per_user:97.48057 version:video'],\n",
       " ['valid_online_abid4,5,6',\n",
       "  '2019111906',\n",
       "  'video',\n",
       "  'pos_ratio:0.08705 auc:0.56620 time_auc:0.56562 weighted_time_auc:0.64266 click/time_auc:0.55166 click/weighted_time_auc:0.57673 group/auc:0.46459 group/pos_ratio:0.14869 group/top1_score:26.79712 group/top3_score:29.88021 group/time_auc:0.46731 group/weighted_time_auc:0.48435 group/top1_best:157.22684 group/top3_best:69.42310 group/top1_rate:0.17044 group/top3_rate:0.43041 group/top1_click:0.16773 group/top3_click:0.20345 group/top1_click_best:1.00000 group/top3_click_best:0.51050 group/top1_click_rate:0.16773 group/top3_click_rate:0.39854 group/click/auc:0.00000 group/click/pos_ratio:0.00000 group/click/top1_score:135.32961 group/click/top3_score:130.54672 group/click/time_auc:0.55481 group/click/weighted_time_auc:0.64873 group/click/top1_best:157.22684 group/click/top3_best:135.98989 group/click/top1_rate:0.86073 group/click/top3_rate:0.95997 group/click/top1_click:1.00000 group/click/top3_click:1.00000 group/click/top1_click_best:1.00000 group/click/top3_click_best:1.00000 group/click/top1_click_rate:1.00000 group/click/top3_click_rate:1.00000 click_ratio:0.08705 time_per_show:11.08500 time_per_click:127.33458 time_per_user:95.76869 version:video'],\n",
       " ['valid_online_abid4,5,6',\n",
       "  '2019111907',\n",
       "  'video',\n",
       "  'pos_ratio:0.08572 auc:0.56264 time_auc:0.56219 weighted_time_auc:0.63138 click/time_auc:0.55094 click/weighted_time_auc:0.57510 group/auc:0.47860 group/pos_ratio:0.14516 group/top1_score:27.94826 group/top3_score:32.02713 group/time_auc:0.48191 group/weighted_time_auc:0.49569 group/top1_best:166.18472 group/top3_best:72.40078 group/top1_rate:0.16818 group/top3_rate:0.44236 group/top1_click:0.16249 group/top3_click:0.20437 group/top1_click_best:1.00000 group/top3_click_best:0.51026 group/top1_click_rate:0.16249 group/top3_click_rate:0.40053 group/click/auc:0.00000 group/click/pos_ratio:0.00000 group/click/top1_score:144.26597 group/click/top3_score:136.28069 group/click/time_auc:0.56032 group/click/weighted_time_auc:0.63844 group/click/top1_best:166.18472 group/click/top3_best:141.89021 group/click/top1_rate:0.86811 group/click/top3_rate:0.96047 group/click/top1_click:1.00000 group/click/top3_click:1.00000 group/click/top1_click_best:1.00000 group/click/top3_click_best:1.00000 group/click/top1_click_rate:1.00000 group/click/top3_click_rate:1.00000 click_ratio:0.08572 time_per_show:11.37109 time_per_click:132.65377 time_per_user:97.52320 version:video'],\n",
       " ['valid_online_abid4,5,6',\n",
       "  '2019111908',\n",
       "  'video',\n",
       "  'pos_ratio:0.08695 auc:0.55910 time_auc:0.55864 weighted_time_auc:0.62355 click/time_auc:0.54787 click/weighted_time_auc:0.56574 group/auc:0.46798 group/pos_ratio:0.15149 group/top1_score:29.86587 group/top3_score:32.77242 group/time_auc:0.47094 group/weighted_time_auc:0.48366 group/top1_best:167.46772 group/top3_best:73.48372 group/top1_rate:0.17834 group/top3_rate:0.44598 group/top1_click:0.17820 group/top3_click:0.21323 group/top1_click_best:1.00000 group/top3_click_best:0.51228 group/top1_click_rate:0.17820 group/top3_click_rate:0.41625 group/click/auc:0.00000 group/click/pos_ratio:0.00000 group/click/top1_score:143.63819 group/click/top3_score:137.15313 group/click/time_auc:0.56166 group/click/weighted_time_auc:0.62659 group/click/top1_best:167.46772 group/click/top3_best:143.44526 group/click/top1_rate:0.85771 group/click/top3_rate:0.95614 group/click/top1_click:1.00000 group/click/top3_click:1.00000 group/click/top1_click_best:1.00000 group/click/top3_click_best:1.00000 group/click/top1_click_rate:1.00000 group/click/top3_click_rate:1.00000 click_ratio:0.08695 time_per_show:11.59929 time_per_click:133.39573 time_per_user:99.90632 version:video'],\n",
       " ['valid_online_abid4,5,6',\n",
       "  '2019111909',\n",
       "  'video',\n",
       "  'pos_ratio:0.08966 auc:0.55853 time_auc:0.55847 weighted_time_auc:0.63415 click/time_auc:0.55639 click/weighted_time_auc:0.58469 group/auc:0.48354 group/pos_ratio:0.14429 group/top1_score:34.62031 group/top3_score:33.23500 group/time_auc:0.48520 group/weighted_time_auc:0.50552 group/top1_best:171.19557 group/top3_best:76.55815 group/top1_rate:0.20223 group/top3_rate:0.43411 group/top1_click:0.18728 group/top3_click:0.21332 group/top1_click_best:1.00000 group/top3_click_best:0.53146 group/top1_click_rate:0.18728 group/top3_click_rate:0.40139 group/click/auc:0.00000 group/click/pos_ratio:0.00000 group/click/top1_score:146.45516 group/click/top3_score:137.20418 group/click/time_auc:0.54538 group/click/weighted_time_auc:0.62682 group/click/top1_best:171.19557 group/click/top3_best:144.05347 group/click/top1_rate:0.85548 group/click/top3_rate:0.95245 group/click/top1_click:1.00000 group/click/top3_click:1.00000 group/click/top1_click_best:1.00000 group/click/top3_click_best:1.00000 group/click/top1_click_rate:1.00000 group/click/top3_click_rate:1.00000 click_ratio:0.08966 time_per_show:11.95128 time_per_click:133.30215 time_per_user:109.01797 version:video'],\n",
       " ['valid_online_abid4,5,6',\n",
       "  '2019111910',\n",
       "  'video',\n",
       "  'pos_ratio:0.08987 auc:0.55714 time_auc:0.55679 weighted_time_auc:0.62528 click/time_auc:0.54881 click/weighted_time_auc:0.57718 group/auc:0.49518 group/pos_ratio:0.14774 group/top1_score:30.24919 group/top3_score:31.62984 group/time_auc:0.49750 group/weighted_time_auc:0.51053 group/top1_best:162.63205 group/top3_best:73.38212 group/top1_rate:0.18600 group/top3_rate:0.43103 group/top1_click:0.17754 group/top3_click:0.21384 group/top1_click_best:1.00000 group/top3_click_best:0.53656 group/top1_click_rate:0.17754 group/top3_click_rate:0.39855 group/click/auc:0.00000 group/click/pos_ratio:0.00000 group/click/top1_score:135.64614 group/click/top3_score:130.14178 group/click/time_auc:0.54762 group/click/weighted_time_auc:0.62961 group/click/top1_best:162.63205 group/click/top3_best:136.76428 group/click/top1_rate:0.83407 group/click/top3_rate:0.95158 group/click/top1_click:1.00000 group/click/top3_click:1.00000 group/click/top1_click_best:1.00000 group/click/top3_click_best:1.00000 group/click/top1_click_rate:1.00000 group/click/top3_click_rate:1.00000 click_ratio:0.08987 time_per_show:11.32777 time_per_click:126.05181 time_per_user:103.19689 version:video'],\n",
       " ['valid_online_abid4,5,6',\n",
       "  '2019111911',\n",
       "  'video',\n",
       "  'pos_ratio:0.08482 auc:0.56382 time_auc:0.56248 weighted_time_auc:0.62368 click/time_auc:0.53208 click/weighted_time_auc:0.55565 group/auc:0.48361 group/pos_ratio:0.13774 group/top1_score:30.65465 group/top3_score:29.88876 group/time_auc:0.48492 group/weighted_time_auc:0.49768 group/top1_best:165.98234 group/top3_best:72.02288 group/top1_rate:0.18469 group/top3_rate:0.41499 group/top1_click:0.17051 group/top3_click:0.20202 group/top1_click_best:1.00000 group/top3_click_best:0.51999 group/top1_click_rate:0.17051 group/top3_click_rate:0.38852 group/click/auc:0.00000 group/click/pos_ratio:0.00000 group/click/top1_score:139.94593 group/click/top3_score:132.53415 group/click/time_auc:0.54129 group/click/weighted_time_auc:0.60234 group/click/top1_best:165.98234 group/click/top3_best:138.50938 group/click/top1_rate:0.84314 group/click/top3_rate:0.95686 group/click/top1_click:1.00000 group/click/top3_click:1.00000 group/click/top1_click_best:1.00000 group/click/top3_click_best:1.00000 group/click/top1_click_rate:1.00000 group/click/top3_click_rate:1.00000 click_ratio:0.08482 time_per_show:10.88401 time_per_click:128.32077 time_per_user:100.28206 version:video'],\n",
       " ['valid_online_abid4,5,6',\n",
       "  '2019111912',\n",
       "  'video',\n",
       "  'pos_ratio:0.09249 auc:0.55987 time_auc:0.55970 weighted_time_auc:0.64030 click/time_auc:0.55546 click/weighted_time_auc:0.60337 group/auc:0.47900 group/pos_ratio:0.14916 group/top1_score:39.46123 group/top3_score:35.96536 group/time_auc:0.47801 group/weighted_time_auc:0.49286 group/top1_best:177.80857 group/top3_best:78.95140 group/top1_rate:0.22193 group/top3_rate:0.45554 group/top1_click:0.19089 group/top3_click:0.20990 group/top1_click_best:1.00000 group/top3_click_best:0.53241 group/top1_click_rate:0.19089 group/top3_click_rate:0.39424 group/click/auc:0.00000 group/click/pos_ratio:0.00000 group/click/top1_score:152.40184 group/click/top3_score:141.29854 group/click/time_auc:0.56374 group/click/weighted_time_auc:0.62280 group/click/top1_best:177.80857 group/click/top3_best:148.28934 group/click/top1_rate:0.85711 group/click/top3_rate:0.95286 group/click/top1_click:1.00000 group/click/top3_click:1.00000 group/click/top1_click_best:1.00000 group/click/top3_click_best:1.00000 group/click/top1_click_rate:1.00000 group/click/top3_click_rate:1.00000 click_ratio:0.09249 time_per_show:12.60799 time_per_click:136.31580 time_per_user:114.25872 version:video'],\n",
       " ['valid_online_abid4,5,6',\n",
       "  '2019111913',\n",
       "  'video',\n",
       "  'pos_ratio:0.08894 auc:0.56823 time_auc:0.56792 weighted_time_auc:0.65314 click/time_auc:0.55957 click/weighted_time_auc:0.61377 group/auc:0.49542 group/pos_ratio:0.15265 group/top1_score:38.57143 group/top3_score:34.96558 group/time_auc:0.49770 group/weighted_time_auc:0.51317 group/top1_best:171.01287 group/top3_best:77.37177 group/top1_rate:0.22555 group/top3_rate:0.45192 group/top1_click:0.20502 group/top3_click:0.21679 group/top1_click_best:1.00000 group/top3_click_best:0.53945 group/top1_click_rate:0.20502 group/top3_click_rate:0.40187 group/click/auc:0.00000 group/click/pos_ratio:0.00000 group/click/top1_score:143.86028 group/click/top3_score:135.80587 group/click/time_auc:0.54806 group/click/weighted_time_auc:0.61686 group/click/top1_best:171.01287 group/click/top3_best:143.42599 group/click/top1_rate:0.84122 group/click/top3_rate:0.94687 group/click/top1_click:1.00000 group/click/top3_click:1.00000 group/click/top1_click_best:1.00000 group/click/top3_click_best:1.00000 group/click/top1_click_rate:1.00000 group/click/top3_click_rate:1.00000 click_ratio:0.08894 time_per_show:11.45446 time_per_click:128.78685 time_per_user:112.54747 version:video'],\n",
       " ['valid_online_abid4,5,6',\n",
       "  '2019111914',\n",
       "  'video',\n",
       "  'pos_ratio:0.06733 auc:0.56373 time_auc:0.56351 weighted_time_auc:0.64188 click/time_auc:0.55277 click/weighted_time_auc:0.59608 group/auc:0.51213 group/pos_ratio:0.13821 group/top1_score:41.50429 group/top3_score:38.12037 group/time_auc:0.51290 group/weighted_time_auc:0.53067 group/top1_best:168.97757 group/top3_best:79.20346 group/top1_rate:0.24562 group/top3_rate:0.48130 group/top1_click:0.25495 group/top3_click:0.23910 group/top1_click_best:1.00000 group/top3_click_best:0.54423 group/top1_click_rate:0.25495 group/top3_click_rate:0.43934 group/click/auc:0.00000 group/click/pos_ratio:0.00000 group/click/top1_score:145.02111 group/click/top3_score:138.83423 group/click/time_auc:0.55859 group/click/weighted_time_auc:0.63996 group/click/top1_best:168.97757 group/click/top3_best:145.53232 group/click/top1_rate:0.85823 group/click/top3_rate:0.95398 group/click/top1_click:1.00000 group/click/top3_click:1.00000 group/click/top1_click_best:1.00000 group/click/top3_click_best:1.00000 group/click/top1_click_rate:1.00000 group/click/top3_click_rate:1.00000 click_ratio:0.06733 time_per_show:9.04651 time_per_click:134.35896 time_per_user:75.67360 version:video'],\n",
       " ['valid_online_abid4,5,6',\n",
       "  '2019111915',\n",
       "  'video',\n",
       "  'pos_ratio:0.05976 auc:0.56195 time_auc:0.56131 weighted_time_auc:0.62463 click/time_auc:0.53425 click/weighted_time_auc:0.55706 group/auc:0.49465 group/pos_ratio:0.13534 group/top1_score:33.97253 group/top3_score:32.31698 group/time_auc:0.49574 group/weighted_time_auc:0.51247 group/top1_best:149.01287 group/top3_best:68.30238 group/top1_rate:0.22798 group/top3_rate:0.47315 group/top1_click:0.24235 group/top3_click:0.23467 group/top1_click_best:1.00000 group/top3_click_best:0.52907 group/top1_click_rate:0.24235 group/top3_click_rate:0.44354 group/click/auc:0.00000 group/click/pos_ratio:0.00000 group/click/top1_score:127.50452 group/click/top3_score:123.71087 group/click/time_auc:0.52488 group/click/weighted_time_auc:0.62058 group/click/top1_best:149.01287 group/click/top3_best:129.09831 group/click/top1_rate:0.85566 group/click/top3_rate:0.95827 group/click/top1_click:1.00000 group/click/top3_click:1.00000 group/click/top1_click_best:1.00000 group/click/top3_click_best:1.00000 group/click/top1_click_rate:1.00000 group/click/top3_click_rate:1.00000 click_ratio:0.05976 time_per_show:7.17327 time_per_click:120.03560 time_per_user:61.73913 version:video'],\n",
       " ['valid_online_abid4,5,6', '2019111916', 'video'],\n",
       " ['valid_online_abid4,5,6',\n",
       "  '2019111917',\n",
       "  'video',\n",
       "  'pos_ratio:0.07560 auc:0.57911 time_auc:0.57826 weighted_time_auc:0.65816 click/time_auc:0.55194 click/weighted_time_auc:0.59068 group/auc:0.52855 group/pos_ratio:0.14611 group/top1_score:56.86381 group/top3_score:43.32479 group/time_auc:0.52996 group/weighted_time_auc:0.54713 group/top1_best:180.09940 group/top3_best:82.61415 group/top1_rate:0.31574 group/top3_rate:0.52442 group/top1_click:0.31777 group/top3_click:0.26095 group/top1_click_best:1.00000 group/top3_click_best:0.54866 group/top1_click_rate:0.31777 group/top3_click_rate:0.47562 group/click/auc:0.00000 group/click/pos_ratio:0.00000 group/click/top1_score:156.38221 group/click/top3_score:144.07566 group/click/time_auc:0.56296 group/click/weighted_time_auc:0.63751 group/click/top1_best:180.09940 group/click/top3_best:150.57498 group/click/top1_rate:0.86831 group/click/top3_rate:0.95684 group/click/top1_click:1.00000 group/click/top3_click:1.00000 group/click/top1_click_best:1.00000 group/click/top3_click_best:1.00000 group/click/top1_click_rate:1.00000 group/click/top3_click_rate:1.00000 click_ratio:0.07560 time_per_show:10.47736 time_per_click:138.58280 time_per_user:82.67738 version:video'],\n",
       " ['valid_online_abid4,5,6',\n",
       "  '2019111918',\n",
       "  'video',\n",
       "  'pos_ratio:0.07949 auc:0.57336 time_auc:0.57312 weighted_time_auc:0.65287 click/time_auc:0.56397 click/weighted_time_auc:0.60090 group/auc:0.52036 group/pos_ratio:0.14652 group/top1_score:55.94389 group/top3_score:43.97757 group/time_auc:0.52051 group/weighted_time_auc:0.54424 group/top1_best:188.25417 group/top3_best:86.75812 group/top1_rate:0.29717 group/top3_rate:0.50690 group/top1_click:0.29135 group/top3_click:0.25059 group/top1_click_best:1.00000 group/top3_click_best:0.54826 group/top1_click_rate:0.29135 group/top3_click_rate:0.45707 group/click/auc:0.00000 group/click/pos_ratio:0.00000 group/click/top1_score:161.80374 group/click/top3_score:150.46936 group/click/time_auc:0.55685 group/click/weighted_time_auc:0.61906 group/click/top1_best:188.25417 group/click/top3_best:158.24140 group/click/top1_rate:0.85950 group/click/top3_rate:0.95088 group/click/top1_click:1.00000 group/click/top3_click:1.00000 group/click/top1_click_best:1.00000 group/click/top3_click_best:1.00000 group/click/top1_click_rate:1.00000 group/click/top3_click_rate:1.00000 click_ratio:0.07949 time_per_show:11.39808 time_per_click:143.38690 time_per_user:92.03023 version:video'],\n",
       " ['valid_online_abid4,5,6',\n",
       "  '2019111919',\n",
       "  'video',\n",
       "  'pos_ratio:0.08064 auc:0.57808 time_auc:0.57763 weighted_time_auc:0.66215 click/time_auc:0.56483 click/weighted_time_auc:0.61591 group/auc:0.51873 group/pos_ratio:0.14296 group/top1_score:56.18660 group/top3_score:45.35521 group/time_auc:0.52031 group/weighted_time_auc:0.53519 group/top1_best:201.42937 group/top3_best:95.37697 group/top1_rate:0.27894 group/top3_rate:0.47554 group/top1_click:0.27949 group/top3_click:0.24368 group/top1_click_best:1.00000 group/top3_click_best:0.56745 group/top1_click_rate:0.27949 group/top3_click_rate:0.42944 group/click/auc:0.00000 group/click/pos_ratio:0.00000 group/click/top1_score:169.09450 group/click/top3_score:157.70823 group/click/time_auc:0.54795 group/click/weighted_time_auc:0.60579 group/click/top1_best:201.42937 group/click/top3_best:168.08052 group/click/top1_rate:0.83947 group/click/top3_rate:0.93829 group/click/top1_click:1.00000 group/click/top3_click:1.00000 group/click/top1_click_best:1.00000 group/click/top3_click_best:1.00000 group/click/top1_click_rate:1.00000 group/click/top3_click_rate:1.00000 click_ratio:0.08064 time_per_show:11.99731 time_per_click:148.77283 time_per_user:106.85311 version:video'],\n",
       " ['valid_online_abid4,5,6',\n",
       "  '2019111920',\n",
       "  'video',\n",
       "  'pos_ratio:0.07378 auc:0.59224 time_auc:0.59184 weighted_time_auc:0.67936 click/time_auc:0.57746 click/weighted_time_auc:0.62943 group/auc:0.52793 group/pos_ratio:0.13375 group/top1_score:71.35723 group/top3_score:52.18306 group/time_auc:0.52463 group/weighted_time_auc:0.54512 group/top1_best:220.41657 group/top3_best:103.88259 group/top1_rate:0.32374 group/top3_rate:0.50233 group/top1_click:0.31561 group/top3_click:0.25075 group/top1_click_best:1.00000 group/top3_click_best:0.56365 group/top1_click_rate:0.31561 group/top3_click_rate:0.44487 group/click/auc:0.00000 group/click/pos_ratio:0.00000 group/click/top1_score:188.32796 group/click/top3_score:174.50181 group/click/time_auc:0.55292 group/click/weighted_time_auc:0.60694 group/click/top1_best:220.41657 group/click/top3_best:184.30198 group/click/top1_rate:0.85442 group/click/top3_rate:0.94683 group/click/top1_click:1.00000 group/click/top3_click:1.00000 group/click/top1_click_best:1.00000 group/click/top3_click_best:1.00000 group/click/top1_click_rate:1.00000 group/click/top3_click_rate:1.00000 click_ratio:0.07378 time_per_show:12.21808 time_per_click:165.60342 time_per_user:110.10238 version:video'],\n",
       " ['valid_online_abid4,5,6',\n",
       "  '2019111921',\n",
       "  'video',\n",
       "  'pos_ratio:0.07100 auc:0.59236 time_auc:0.59269 weighted_time_auc:0.69682 click/time_auc:0.59677 click/weighted_time_auc:0.66849 group/auc:0.52527 group/pos_ratio:0.13722 group/top1_score:65.27738 group/top3_score:51.58395 group/time_auc:0.52226 group/weighted_time_auc:0.54333 group/top1_best:219.68763 group/top3_best:104.77969 group/top1_rate:0.29714 group/top3_rate:0.49231 group/top1_click:0.28790 group/top3_click:0.23910 group/top1_click_best:1.00000 group/top3_click_best:0.56221 group/top1_click_rate:0.28790 group/top3_click_rate:0.42528 group/click/auc:0.00000 group/click/pos_ratio:0.00000 group/click/top1_score:187.53546 group/click/top3_score:176.28085 group/click/time_auc:0.56542 group/click/weighted_time_auc:0.61955 group/click/top1_best:219.68763 group/click/top3_best:186.37228 group/click/top1_rate:0.85365 group/click/top3_rate:0.94585 group/click/top1_click:1.00000 group/click/top3_click:1.00000 group/click/top1_click_best:1.00000 group/click/top3_click_best:1.00000 group/click/top1_click_rate:1.00000 group/click/top3_click_rate:1.00000 click_ratio:0.07100 time_per_show:11.79746 time_per_click:166.17128 time_per_user:112.21243 version:video'],\n",
       " ['valid_online_abid4,5,6',\n",
       "  '2019111922',\n",
       "  'video',\n",
       "  'pos_ratio:0.06632 auc:0.57461 time_auc:0.57558 weighted_time_auc:0.67988 click/time_auc:0.59901 click/weighted_time_auc:0.66917 group/auc:0.50303 group/pos_ratio:0.13086 group/top1_score:58.88907 group/top3_score:48.15287 group/time_auc:0.50365 group/weighted_time_auc:0.52525 group/top1_best:221.94171 group/top3_best:105.04696 group/top1_rate:0.26534 group/top3_rate:0.45839 group/top1_click:0.24909 group/top3_click:0.22141 group/top1_click_best:1.00000 group/top3_click_best:0.55902 group/top1_click_rate:0.24909 group/top3_click_rate:0.39606 group/click/auc:0.00000 group/click/pos_ratio:0.00000 group/click/top1_score:190.66378 group/click/top3_score:178.54654 group/click/time_auc:0.57793 group/click/weighted_time_auc:0.62271 group/click/top1_best:221.94171 group/click/top3_best:187.91322 group/click/top1_rate:0.85907 group/click/top3_rate:0.95015 group/click/top1_click:1.00000 group/click/top3_click:1.00000 group/click/top1_click_best:1.00000 group/click/top3_click_best:1.00000 group/click/top1_click_rate:1.00000 group/click/top3_click_rate:1.00000 click_ratio:0.06632 time_per_show:11.19925 time_per_click:168.86486 time_per_user:107.48145 version:video'],\n",
       " ['valid_online_abid4,5,6',\n",
       "  '2019111923',\n",
       "  'video',\n",
       "  'pos_ratio:0.06765 auc:0.57932 time_auc:0.58022 weighted_time_auc:0.69010 click/time_auc:0.59939 click/weighted_time_auc:0.67808 group/auc:0.51663 group/pos_ratio:0.13655 group/top1_score:63.94326 group/top3_score:50.58879 group/time_auc:0.51815 group/weighted_time_auc:0.54039 group/top1_best:217.77253 group/top3_best:103.33835 group/top1_rate:0.29362 group/top3_rate:0.48955 group/top1_click:0.27015 group/top3_click:0.23891 group/top1_click_best:1.00000 group/top3_click_best:0.55817 group/top1_click_rate:0.27015 group/top3_click_rate:0.42803 group/click/auc:0.00000 group/click/pos_ratio:0.00000 group/click/top1_score:187.52900 group/click/top3_score:175.86741 group/click/time_auc:0.56568 group/click/weighted_time_auc:0.62953 group/click/top1_best:217.77253 group/click/top3_best:185.13905 group/click/top1_rate:0.86112 group/click/top3_rate:0.94992 group/click/top1_click:1.00000 group/click/top3_click:1.00000 group/click/top1_click_best:1.00000 group/click/top3_click_best:1.00000 group/click/top1_click_rate:1.00000 group/click/top3_click_rate:1.00000 click_ratio:0.06765 time_per_show:11.16086 time_per_click:164.97267 time_per_user:106.11035 version:video'],\n",
       " ['valid_online_abid4,5,6',\n",
       "  '2019112000',\n",
       "  'video',\n",
       "  'pos_ratio:0.07620 auc:0.56450 time_auc:0.56461 weighted_time_auc:0.65333 click/time_auc:0.56073 click/weighted_time_auc:0.60822 group/auc:0.50118 group/pos_ratio:0.14935 group/top1_score:43.73036 group/top3_score:40.27983 group/time_auc:0.50294 group/weighted_time_auc:0.52188 group/top1_best:175.33628 group/top3_best:85.58026 group/top1_rate:0.24941 group/top3_rate:0.47067 group/top1_click:0.28664 group/top3_click:0.25170 group/top1_click_best:1.00000 group/top3_click_best:0.55201 group/top1_click_rate:0.28664 group/top3_click_rate:0.45596 group/click/auc:0.00000 group/click/pos_ratio:0.00000 group/click/top1_score:148.98232 group/click/top3_score:145.99517 group/click/time_auc:0.54788 group/click/weighted_time_auc:0.62951 group/click/top1_best:175.33628 group/click/top3_best:155.03316 group/click/top1_rate:0.84969 group/click/top3_rate:0.94170 group/click/top1_click:1.00000 group/click/top3_click:1.00000 group/click/top1_click_best:1.00000 group/click/top3_click_best:1.00000 group/click/top1_click_rate:1.00000 group/click/top3_click_rate:1.00000 click_ratio:0.07620 time_per_show:10.74445 time_per_click:140.99908 time_per_user:90.92809 version:video'],\n",
       " ['valid_online_abid4,5,6',\n",
       "  '2019112001',\n",
       "  'video',\n",
       "  'pos_ratio:0.07551 auc:0.56420 time_auc:0.56369 weighted_time_auc:0.64490 click/time_auc:0.54144 click/weighted_time_auc:0.56047 group/auc:0.50235 group/pos_ratio:0.15374 group/top1_score:43.74126 group/top3_score:36.51107 group/time_auc:0.50566 group/weighted_time_auc:0.52411 group/top1_best:159.80607 group/top3_best:77.65879 group/top1_rate:0.27371 group/top3_rate:0.47015 group/top1_click:0.31687 group/top3_click:0.26921 group/top1_click_best:1.00000 group/top3_click_best:0.55516 group/top1_click_rate:0.31687 group/top3_click_rate:0.48492 group/click/auc:0.00000 group/click/pos_ratio:0.00000 group/click/top1_score:136.27212 group/click/top3_score:133.53050 group/click/time_auc:0.56290 group/click/weighted_time_auc:0.65587 group/click/top1_best:159.80607 group/click/top3_best:139.88472 group/click/top1_rate:0.85273 group/click/top3_rate:0.95458 group/click/top1_click:1.00000 group/click/top3_click:1.00000 group/click/top1_click_best:1.00000 group/click/top3_click_best:1.00000 group/click/top1_click_rate:1.00000 group/click/top3_click_rate:1.00000 click_ratio:0.07551 time_per_show:9.72699 time_per_click:128.82472 time_per_user:84.39734 version:video'],\n",
       " ['valid_online_abid4,5,6',\n",
       "  '2019112002',\n",
       "  'video',\n",
       "  'pos_ratio:0.07484 auc:0.58269 time_auc:0.58093 weighted_time_auc:0.64517 click/time_auc:0.51665 click/weighted_time_auc:0.48353 group/auc:0.50533 group/pos_ratio:0.15974 group/top1_score:30.66441 group/top3_score:30.95638 group/time_auc:0.49994 group/weighted_time_auc:0.52452 group/top1_best:127.95119 group/top3_best:62.68943 group/top1_rate:0.23966 group/top3_rate:0.49381 group/top1_click:0.35254 group/top3_click:0.30384 group/top1_click_best:1.00000 group/top3_click_best:0.55932 group/top1_click_rate:0.35254 group/top3_click_rate:0.54323 group/click/auc:0.00000 group/click/pos_ratio:0.00000 group/click/top1_score:111.26508 group/click/top3_score:107.99554 group/click/time_auc:0.54074 group/click/weighted_time_auc:0.67636 group/click/top1_best:127.95119 group/click/top3_best:112.08111 group/click/top1_rate:0.86959 group/click/top3_rate:0.96355 group/click/top1_click:1.00000 group/click/top3_click:1.00000 group/click/top1_click_best:1.00000 group/click/top3_click_best:1.00000 group/click/top1_click_rate:1.00000 group/click/top3_click_rate:1.00000 click_ratio:0.07484 time_per_show:7.94441 time_per_click:106.15815 time_per_user:65.16793 version:video'],\n",
       " ['valid_online_abid4,5,6',\n",
       "  '2019112003',\n",
       "  'video',\n",
       "  'pos_ratio:0.06592 auc:0.58535 time_auc:0.58341 weighted_time_auc:0.62497 click/time_auc:0.49419 click/weighted_time_auc:0.40721 group/auc:0.53497 group/pos_ratio:0.16519 group/top1_score:27.62374 group/top3_score:25.03472 group/time_auc:0.53850 group/weighted_time_auc:0.56097 group/top1_best:109.83476 group/top3_best:53.31246 group/top1_rate:0.25150 group/top3_rate:0.46958 group/top1_click:0.36152 group/top3_click:0.31104 group/top1_click_best:1.00000 group/top3_click_best:0.56005 group/top1_click_rate:0.36152 group/top3_click_rate:0.55539 group/click/auc:0.00000 group/click/pos_ratio:0.00000 group/click/top1_score:98.65089 group/click/top3_score:91.78659 group/click/time_auc:0.58680 group/click/weighted_time_auc:0.71584 group/click/top1_best:109.83476 group/click/top3_best:95.19309 group/click/top1_rate:0.89818 group/click/top3_rate:0.96421 group/click/top1_click:1.00000 group/click/top3_click:1.00000 group/click/top1_click_best:1.00000 group/click/top3_click_best:1.00000 group/click/top1_click_rate:1.00000 group/click/top3_click_rate:1.00000 click_ratio:0.06592 time_per_show:6.03896 time_per_click:91.61734 time_per_user:54.69805 version:video'],\n",
       " ['valid_online_abid4,5,6',\n",
       "  '2019112004',\n",
       "  'video',\n",
       "  'pos_ratio:0.07385 auc:0.59625 time_auc:0.59408 weighted_time_auc:0.64574 click/time_auc:0.50556 click/weighted_time_auc:0.42739 group/auc:0.52169 group/pos_ratio:0.18621 group/top1_score:32.05057 group/top3_score:29.26930 group/time_auc:0.51882 group/weighted_time_auc:0.53865 group/top1_best:110.30115 group/top3_best:53.30532 group/top1_rate:0.29057 group/top3_rate:0.54909 group/top1_click:0.37548 group/top3_click:0.32933 group/top1_click_best:1.00000 group/top3_click_best:0.55803 group/top1_click_rate:0.37548 group/top3_click_rate:0.59016 group/click/auc:0.00000 group/click/pos_ratio:0.00000 group/click/top1_score:98.98851 group/click/top3_score:92.03381 group/click/time_auc:0.52899 group/click/weighted_time_auc:0.70882 group/click/top1_best:110.30115 group/click/top3_best:95.52357 group/click/top1_rate:0.89744 group/click/top3_rate:0.96347 group/click/top1_click:1.00000 group/click/top3_click:1.00000 group/click/top1_click_best:1.00000 group/click/top3_click_best:1.00000 group/click/top1_click_rate:1.00000 group/click/top3_click_rate:1.00000 click_ratio:0.07385 time_per_show:6.70728 time_per_click:90.82747 time_per_user:54.27557 version:video'],\n",
       " ['valid_online_abid4,5,6',\n",
       "  '2019112005',\n",
       "  'video',\n",
       "  'pos_ratio:0.07268 auc:0.56264 time_auc:0.56112 weighted_time_auc:0.62081 click/time_auc:0.50816 click/weighted_time_auc:0.47005 group/auc:0.51163 group/pos_ratio:0.17282 group/top1_score:31.14497 group/top3_score:31.50802 group/time_auc:0.51236 group/weighted_time_auc:0.52013 group/top1_best:130.58892 group/top3_best:63.78598 group/top1_rate:0.23850 group/top3_rate:0.49396 group/top1_click:0.33054 group/top3_click:0.30368 group/top1_click_best:1.00000 group/top3_click_best:0.55852 group/top1_click_rate:0.33054 group/top3_click_rate:0.54373 group/click/auc:0.00000 group/click/pos_ratio:0.00000 group/click/top1_score:108.11276 group/click/top3_score:107.92015 group/click/time_auc:0.51366 group/click/weighted_time_auc:0.62481 group/click/top1_best:130.58892 group/click/top3_best:114.20575 group/click/top1_rate:0.82789 group/click/top3_rate:0.94496 group/click/top1_click:1.00000 group/click/top3_click:1.00000 group/click/top1_click_best:1.00000 group/click/top3_click_best:1.00000 group/click/top1_click_rate:1.00000 group/click/top3_click_rate:1.00000 click_ratio:0.07268 time_per_show:7.73434 time_per_click:106.41999 time_per_user:59.70119 version:video'],\n",
       " ['valid_online_abid4,5,6',\n",
       "  '2019112006',\n",
       "  'video',\n",
       "  'pos_ratio:0.06271 auc:0.57519 time_auc:0.57431 weighted_time_auc:0.65175 click/time_auc:0.53594 click/weighted_time_auc:0.53987 group/auc:0.49506 group/pos_ratio:0.15498 group/top1_score:39.31887 group/top3_score:36.31271 group/time_auc:0.49761 group/weighted_time_auc:0.51424 group/top1_best:158.34723 group/top3_best:70.96992 group/top1_rate:0.24831 group/top3_rate:0.51166 group/top1_click:0.27374 group/top3_click:0.26442 group/top1_click_best:1.00000 group/top3_click_best:0.52515 group/top1_click_rate:0.27374 group/top3_click_rate:0.50353 group/click/auc:0.00000 group/click/pos_ratio:0.00000 group/click/top1_score:140.78384 group/click/top3_score:131.61957 group/click/time_auc:0.55612 group/click/weighted_time_auc:0.66700 group/click/top1_best:158.34723 group/click/top3_best:135.14307 group/click/top1_rate:0.88908 group/click/top3_rate:0.97393 group/click/top1_click:1.00000 group/click/top3_click:1.00000 group/click/top1_click_best:1.00000 group/click/top3_click_best:1.00000 group/click/top1_click_rate:1.00000 group/click/top3_click_rate:1.00000 click_ratio:0.06271 time_per_show:8.02627 time_per_click:127.98816 time_per_user:59.86855 version:video'],\n",
       " ['valid_online_abid4,5,6',\n",
       "  '2019112007',\n",
       "  'video',\n",
       "  'pos_ratio:0.06448 auc:0.56859 time_auc:0.56817 weighted_time_auc:0.65716 click/time_auc:0.54927 click/weighted_time_auc:0.59301 group/auc:0.49362 group/pos_ratio:0.15229 group/top1_score:48.27892 group/top3_score:40.44493 group/time_auc:0.49763 group/weighted_time_auc:0.51491 group/top1_best:172.16988 group/top3_best:77.37867 group/top1_rate:0.28041 group/top3_rate:0.52269 group/top1_click:0.26762 group/top3_click:0.25530 group/top1_click_best:1.00000 group/top3_click_best:0.52825 group/top1_click_rate:0.26762 group/top3_click_rate:0.48330 group/click/auc:0.00000 group/click/pos_ratio:0.00000 group/click/top1_score:154.00698 group/click/top3_score:141.99097 group/click/time_auc:0.56881 group/click/weighted_time_auc:0.65383 group/click/top1_best:172.16988 group/click/top3_best:146.48172 group/click/top1_rate:0.89451 group/click/top3_rate:0.96934 group/click/top1_click:1.00000 group/click/top3_click:1.00000 group/click/top1_click_best:1.00000 group/click/top3_click_best:1.00000 group/click/top1_click_rate:1.00000 group/click/top3_click_rate:1.00000 click_ratio:0.06448 time_per_show:8.86441 time_per_click:137.47937 time_per_user:63.45703 version:video']]"
      ]
     },
     "execution_count": 8,
     "metadata": {},
     "output_type": "execute_result"
    }
   ],
   "source": [
    "online_base"
   ]
  },
  {
   "cell_type": "code",
   "execution_count": 9,
   "metadata": {},
   "outputs": [],
   "source": [
    "def parse(l, times):\n",
    "    if len(l) != 4:\n",
    "      return None\n",
    "    items = l[-1].split()\n",
    "    items = [x.split(':') for x in items if not x.startswith('version')]\n",
    "    items = [(x, float(y)) for x, y in items]\n",
    "    d = dict(items)\n",
    "    if l[1] in times:\n",
    "      return None\n",
    "    else:\n",
    "      times.add(l[1])\n",
    "    try:\n",
    "      x = datetime.datetime.strptime(l[1],\"%Y%m%d%H\")\n",
    "      d['time'] = x\n",
    "    except Exception:\n",
    "      return None\n",
    "    return d\n",
    "\n",
    "def get_df(input):\n",
    "    times = set()\n",
    "    xs = [parse(l, times) for l in input]\n",
    "    xs = [x for x in xs if x]\n",
    "    df = pd.DataFrame.from_dict(xs)\n",
    "    df.sort_values(['time'])\n",
    "    return df"
   ]
  },
  {
   "cell_type": "code",
   "execution_count": 10,
   "metadata": {},
   "outputs": [],
   "source": [
    "import pandas as pd"
   ]
  },
  {
   "cell_type": "code",
   "execution_count": 11,
   "metadata": {},
   "outputs": [],
   "source": [
    "df_online_base = get_df(online_base)\n",
    "df_offline_base = get_df(offline_base)\n",
    "df_offline_base2 = get_df(offline_base2)"
   ]
  },
  {
   "cell_type": "code",
   "execution_count": 12,
   "metadata": {},
   "outputs": [
    {
     "data": {
      "text/html": [
       "<div>\n",
       "<style scoped>\n",
       "    .dataframe tbody tr th:only-of-type {\n",
       "        vertical-align: middle;\n",
       "    }\n",
       "\n",
       "    .dataframe tbody tr th {\n",
       "        vertical-align: top;\n",
       "    }\n",
       "\n",
       "    .dataframe thead th {\n",
       "        text-align: right;\n",
       "    }\n",
       "</style>\n",
       "<table border=\"1\" class=\"dataframe\">\n",
       "  <thead>\n",
       "    <tr style=\"text-align: right;\">\n",
       "      <th></th>\n",
       "      <th>pos_ratio</th>\n",
       "      <th>auc</th>\n",
       "      <th>time_auc</th>\n",
       "      <th>weighted_time_auc</th>\n",
       "      <th>click/time_auc</th>\n",
       "      <th>click/weighted_inv</th>\n",
       "      <th>group/auc</th>\n",
       "      <th>group/pos_ratio</th>\n",
       "      <th>group/top1_score</th>\n",
       "      <th>group/top3_score</th>\n",
       "      <th>...</th>\n",
       "      <th>group/click/top1_click_best</th>\n",
       "      <th>group/click/top3_click_best</th>\n",
       "      <th>group/click/top1_click_rate</th>\n",
       "      <th>group/click/top3_click_rate</th>\n",
       "      <th>click_ratio</th>\n",
       "      <th>time_per_show</th>\n",
       "      <th>time_per_click</th>\n",
       "      <th>time_per_user</th>\n",
       "      <th>time</th>\n",
       "      <th>click/weighted_time_auc</th>\n",
       "    </tr>\n",
       "  </thead>\n",
       "  <tbody>\n",
       "    <tr>\n",
       "      <td>0</td>\n",
       "      <td>0.11978</td>\n",
       "      <td>0.64514</td>\n",
       "      <td>0.64131</td>\n",
       "      <td>0.71801</td>\n",
       "      <td>0.58324</td>\n",
       "      <td>0.38380</td>\n",
       "      <td>0.55592</td>\n",
       "      <td>0.15357</td>\n",
       "      <td>43.91872</td>\n",
       "      <td>36.08465</td>\n",
       "      <td>...</td>\n",
       "      <td>1.0</td>\n",
       "      <td>1.0</td>\n",
       "      <td>1.0</td>\n",
       "      <td>1.0</td>\n",
       "      <td>0.11978</td>\n",
       "      <td>14.54027</td>\n",
       "      <td>121.39112</td>\n",
       "      <td>86.82079</td>\n",
       "      <td>2019-11-08 12:00:00</td>\n",
       "      <td>NaN</td>\n",
       "    </tr>\n",
       "    <tr>\n",
       "      <td>1</td>\n",
       "      <td>0.06521</td>\n",
       "      <td>0.67230</td>\n",
       "      <td>0.66961</td>\n",
       "      <td>0.75042</td>\n",
       "      <td>0.58909</td>\n",
       "      <td>0.36756</td>\n",
       "      <td>0.55780</td>\n",
       "      <td>0.14712</td>\n",
       "      <td>44.71265</td>\n",
       "      <td>36.35161</td>\n",
       "      <td>...</td>\n",
       "      <td>1.0</td>\n",
       "      <td>1.0</td>\n",
       "      <td>1.0</td>\n",
       "      <td>1.0</td>\n",
       "      <td>0.06521</td>\n",
       "      <td>7.67552</td>\n",
       "      <td>117.70772</td>\n",
       "      <td>67.27003</td>\n",
       "      <td>2019-11-08 17:00:00</td>\n",
       "      <td>NaN</td>\n",
       "    </tr>\n",
       "    <tr>\n",
       "      <td>2</td>\n",
       "      <td>0.06583</td>\n",
       "      <td>0.69339</td>\n",
       "      <td>0.68995</td>\n",
       "      <td>0.76090</td>\n",
       "      <td>0.58900</td>\n",
       "      <td>NaN</td>\n",
       "      <td>0.57772</td>\n",
       "      <td>0.14375</td>\n",
       "      <td>50.26969</td>\n",
       "      <td>41.13335</td>\n",
       "      <td>...</td>\n",
       "      <td>1.0</td>\n",
       "      <td>1.0</td>\n",
       "      <td>1.0</td>\n",
       "      <td>1.0</td>\n",
       "      <td>0.06583</td>\n",
       "      <td>8.15023</td>\n",
       "      <td>123.79896</td>\n",
       "      <td>66.46589</td>\n",
       "      <td>2019-11-08 18:00:00</td>\n",
       "      <td>0.61889</td>\n",
       "    </tr>\n",
       "    <tr>\n",
       "      <td>3</td>\n",
       "      <td>0.06653</td>\n",
       "      <td>0.69868</td>\n",
       "      <td>0.69538</td>\n",
       "      <td>0.77144</td>\n",
       "      <td>0.59973</td>\n",
       "      <td>NaN</td>\n",
       "      <td>0.56066</td>\n",
       "      <td>0.13797</td>\n",
       "      <td>52.26312</td>\n",
       "      <td>41.34649</td>\n",
       "      <td>...</td>\n",
       "      <td>1.0</td>\n",
       "      <td>1.0</td>\n",
       "      <td>1.0</td>\n",
       "      <td>1.0</td>\n",
       "      <td>0.06653</td>\n",
       "      <td>8.48367</td>\n",
       "      <td>127.50924</td>\n",
       "      <td>72.72398</td>\n",
       "      <td>2019-11-08 19:00:00</td>\n",
       "      <td>0.64476</td>\n",
       "    </tr>\n",
       "    <tr>\n",
       "      <td>4</td>\n",
       "      <td>0.06237</td>\n",
       "      <td>0.71062</td>\n",
       "      <td>0.70695</td>\n",
       "      <td>0.77309</td>\n",
       "      <td>0.59288</td>\n",
       "      <td>NaN</td>\n",
       "      <td>0.57721</td>\n",
       "      <td>0.13205</td>\n",
       "      <td>54.93121</td>\n",
       "      <td>45.65020</td>\n",
       "      <td>...</td>\n",
       "      <td>1.0</td>\n",
       "      <td>1.0</td>\n",
       "      <td>1.0</td>\n",
       "      <td>1.0</td>\n",
       "      <td>0.06237</td>\n",
       "      <td>8.89010</td>\n",
       "      <td>142.53167</td>\n",
       "      <td>76.17747</td>\n",
       "      <td>2019-11-08 20:00:00</td>\n",
       "      <td>0.62017</td>\n",
       "    </tr>\n",
       "    <tr>\n",
       "      <td>...</td>\n",
       "      <td>...</td>\n",
       "      <td>...</td>\n",
       "      <td>...</td>\n",
       "      <td>...</td>\n",
       "      <td>...</td>\n",
       "      <td>...</td>\n",
       "      <td>...</td>\n",
       "      <td>...</td>\n",
       "      <td>...</td>\n",
       "      <td>...</td>\n",
       "      <td>...</td>\n",
       "      <td>...</td>\n",
       "      <td>...</td>\n",
       "      <td>...</td>\n",
       "      <td>...</td>\n",
       "      <td>...</td>\n",
       "      <td>...</td>\n",
       "      <td>...</td>\n",
       "      <td>...</td>\n",
       "      <td>...</td>\n",
       "      <td>...</td>\n",
       "    </tr>\n",
       "    <tr>\n",
       "      <td>265</td>\n",
       "      <td>0.06527</td>\n",
       "      <td>0.78788</td>\n",
       "      <td>0.78055</td>\n",
       "      <td>0.83430</td>\n",
       "      <td>0.56185</td>\n",
       "      <td>NaN</td>\n",
       "      <td>0.64157</td>\n",
       "      <td>0.16366</td>\n",
       "      <td>34.29635</td>\n",
       "      <td>28.27637</td>\n",
       "      <td>...</td>\n",
       "      <td>1.0</td>\n",
       "      <td>1.0</td>\n",
       "      <td>1.0</td>\n",
       "      <td>1.0</td>\n",
       "      <td>0.06527</td>\n",
       "      <td>5.97982</td>\n",
       "      <td>91.60968</td>\n",
       "      <td>54.21134</td>\n",
       "      <td>2019-11-20 03:00:00</td>\n",
       "      <td>0.53875</td>\n",
       "    </tr>\n",
       "    <tr>\n",
       "      <td>266</td>\n",
       "      <td>0.07305</td>\n",
       "      <td>0.79354</td>\n",
       "      <td>0.78448</td>\n",
       "      <td>0.82743</td>\n",
       "      <td>0.54489</td>\n",
       "      <td>NaN</td>\n",
       "      <td>0.62021</td>\n",
       "      <td>0.18491</td>\n",
       "      <td>39.74119</td>\n",
       "      <td>32.52071</td>\n",
       "      <td>...</td>\n",
       "      <td>1.0</td>\n",
       "      <td>1.0</td>\n",
       "      <td>1.0</td>\n",
       "      <td>1.0</td>\n",
       "      <td>0.07305</td>\n",
       "      <td>6.63324</td>\n",
       "      <td>90.79843</td>\n",
       "      <td>53.57256</td>\n",
       "      <td>2019-11-20 04:00:00</td>\n",
       "      <td>0.50677</td>\n",
       "    </tr>\n",
       "    <tr>\n",
       "      <td>267</td>\n",
       "      <td>0.07163</td>\n",
       "      <td>0.77653</td>\n",
       "      <td>0.76818</td>\n",
       "      <td>0.80437</td>\n",
       "      <td>0.54508</td>\n",
       "      <td>NaN</td>\n",
       "      <td>0.62986</td>\n",
       "      <td>0.17133</td>\n",
       "      <td>43.17889</td>\n",
       "      <td>37.02400</td>\n",
       "      <td>...</td>\n",
       "      <td>1.0</td>\n",
       "      <td>1.0</td>\n",
       "      <td>1.0</td>\n",
       "      <td>1.0</td>\n",
       "      <td>0.07163</td>\n",
       "      <td>7.62986</td>\n",
       "      <td>106.51659</td>\n",
       "      <td>58.73079</td>\n",
       "      <td>2019-11-20 05:00:00</td>\n",
       "      <td>0.48810</td>\n",
       "    </tr>\n",
       "    <tr>\n",
       "      <td>268</td>\n",
       "      <td>0.06153</td>\n",
       "      <td>0.76048</td>\n",
       "      <td>0.75475</td>\n",
       "      <td>0.81720</td>\n",
       "      <td>0.57443</td>\n",
       "      <td>NaN</td>\n",
       "      <td>0.61907</td>\n",
       "      <td>0.15334</td>\n",
       "      <td>53.79673</td>\n",
       "      <td>44.51694</td>\n",
       "      <td>...</td>\n",
       "      <td>1.0</td>\n",
       "      <td>1.0</td>\n",
       "      <td>1.0</td>\n",
       "      <td>1.0</td>\n",
       "      <td>0.06153</td>\n",
       "      <td>7.87499</td>\n",
       "      <td>127.98816</td>\n",
       "      <td>58.76604</td>\n",
       "      <td>2019-11-20 06:00:00</td>\n",
       "      <td>0.57741</td>\n",
       "    </tr>\n",
       "    <tr>\n",
       "      <td>269</td>\n",
       "      <td>0.06304</td>\n",
       "      <td>0.75203</td>\n",
       "      <td>0.74624</td>\n",
       "      <td>0.80397</td>\n",
       "      <td>0.56893</td>\n",
       "      <td>NaN</td>\n",
       "      <td>0.61958</td>\n",
       "      <td>0.15050</td>\n",
       "      <td>61.86806</td>\n",
       "      <td>47.80842</td>\n",
       "      <td>...</td>\n",
       "      <td>1.0</td>\n",
       "      <td>1.0</td>\n",
       "      <td>1.0</td>\n",
       "      <td>1.0</td>\n",
       "      <td>0.06304</td>\n",
       "      <td>8.65963</td>\n",
       "      <td>137.37456</td>\n",
       "      <td>61.90045</td>\n",
       "      <td>2019-11-20 07:00:00</td>\n",
       "      <td>0.58428</td>\n",
       "    </tr>\n",
       "  </tbody>\n",
       "</table>\n",
       "<p>270 rows × 44 columns</p>\n",
       "</div>"
      ],
      "text/plain": [
       "     pos_ratio      auc  time_auc  weighted_time_auc  click/time_auc  \\\n",
       "0      0.11978  0.64514   0.64131            0.71801         0.58324   \n",
       "1      0.06521  0.67230   0.66961            0.75042         0.58909   \n",
       "2      0.06583  0.69339   0.68995            0.76090         0.58900   \n",
       "3      0.06653  0.69868   0.69538            0.77144         0.59973   \n",
       "4      0.06237  0.71062   0.70695            0.77309         0.59288   \n",
       "..         ...      ...       ...                ...             ...   \n",
       "265    0.06527  0.78788   0.78055            0.83430         0.56185   \n",
       "266    0.07305  0.79354   0.78448            0.82743         0.54489   \n",
       "267    0.07163  0.77653   0.76818            0.80437         0.54508   \n",
       "268    0.06153  0.76048   0.75475            0.81720         0.57443   \n",
       "269    0.06304  0.75203   0.74624            0.80397         0.56893   \n",
       "\n",
       "     click/weighted_inv  group/auc  group/pos_ratio  group/top1_score  \\\n",
       "0               0.38380    0.55592          0.15357          43.91872   \n",
       "1               0.36756    0.55780          0.14712          44.71265   \n",
       "2                   NaN    0.57772          0.14375          50.26969   \n",
       "3                   NaN    0.56066          0.13797          52.26312   \n",
       "4                   NaN    0.57721          0.13205          54.93121   \n",
       "..                  ...        ...              ...               ...   \n",
       "265                 NaN    0.64157          0.16366          34.29635   \n",
       "266                 NaN    0.62021          0.18491          39.74119   \n",
       "267                 NaN    0.62986          0.17133          43.17889   \n",
       "268                 NaN    0.61907          0.15334          53.79673   \n",
       "269                 NaN    0.61958          0.15050          61.86806   \n",
       "\n",
       "     group/top3_score  ...  group/click/top1_click_best  \\\n",
       "0            36.08465  ...                          1.0   \n",
       "1            36.35161  ...                          1.0   \n",
       "2            41.13335  ...                          1.0   \n",
       "3            41.34649  ...                          1.0   \n",
       "4            45.65020  ...                          1.0   \n",
       "..                ...  ...                          ...   \n",
       "265          28.27637  ...                          1.0   \n",
       "266          32.52071  ...                          1.0   \n",
       "267          37.02400  ...                          1.0   \n",
       "268          44.51694  ...                          1.0   \n",
       "269          47.80842  ...                          1.0   \n",
       "\n",
       "     group/click/top3_click_best  group/click/top1_click_rate  \\\n",
       "0                            1.0                          1.0   \n",
       "1                            1.0                          1.0   \n",
       "2                            1.0                          1.0   \n",
       "3                            1.0                          1.0   \n",
       "4                            1.0                          1.0   \n",
       "..                           ...                          ...   \n",
       "265                          1.0                          1.0   \n",
       "266                          1.0                          1.0   \n",
       "267                          1.0                          1.0   \n",
       "268                          1.0                          1.0   \n",
       "269                          1.0                          1.0   \n",
       "\n",
       "     group/click/top3_click_rate  click_ratio  time_per_show  time_per_click  \\\n",
       "0                            1.0      0.11978       14.54027       121.39112   \n",
       "1                            1.0      0.06521        7.67552       117.70772   \n",
       "2                            1.0      0.06583        8.15023       123.79896   \n",
       "3                            1.0      0.06653        8.48367       127.50924   \n",
       "4                            1.0      0.06237        8.89010       142.53167   \n",
       "..                           ...          ...            ...             ...   \n",
       "265                          1.0      0.06527        5.97982        91.60968   \n",
       "266                          1.0      0.07305        6.63324        90.79843   \n",
       "267                          1.0      0.07163        7.62986       106.51659   \n",
       "268                          1.0      0.06153        7.87499       127.98816   \n",
       "269                          1.0      0.06304        8.65963       137.37456   \n",
       "\n",
       "     time_per_user                time  click/weighted_time_auc  \n",
       "0         86.82079 2019-11-08 12:00:00                      NaN  \n",
       "1         67.27003 2019-11-08 17:00:00                      NaN  \n",
       "2         66.46589 2019-11-08 18:00:00                  0.61889  \n",
       "3         72.72398 2019-11-08 19:00:00                  0.64476  \n",
       "4         76.17747 2019-11-08 20:00:00                  0.62017  \n",
       "..             ...                 ...                      ...  \n",
       "265       54.21134 2019-11-20 03:00:00                  0.53875  \n",
       "266       53.57256 2019-11-20 04:00:00                  0.50677  \n",
       "267       58.73079 2019-11-20 05:00:00                  0.48810  \n",
       "268       58.76604 2019-11-20 06:00:00                  0.57741  \n",
       "269       61.90045 2019-11-20 07:00:00                  0.58428  \n",
       "\n",
       "[270 rows x 44 columns]"
      ]
     },
     "execution_count": 12,
     "metadata": {},
     "output_type": "execute_result"
    }
   ],
   "source": [
    "df_offline_base"
   ]
  },
  {
   "cell_type": "code",
   "execution_count": 13,
   "metadata": {},
   "outputs": [],
   "source": [
    "df_online_exp = get_df(online_exp)\n",
    "df_offline_exp = get_df(offline_exp)"
   ]
  },
  {
   "cell_type": "code",
   "execution_count": 14,
   "metadata": {},
   "outputs": [
    {
     "data": {
      "text/html": [
       "<div>\n",
       "<style scoped>\n",
       "    .dataframe tbody tr th:only-of-type {\n",
       "        vertical-align: middle;\n",
       "    }\n",
       "\n",
       "    .dataframe tbody tr th {\n",
       "        vertical-align: top;\n",
       "    }\n",
       "\n",
       "    .dataframe thead th {\n",
       "        text-align: right;\n",
       "    }\n",
       "</style>\n",
       "<table border=\"1\" class=\"dataframe\">\n",
       "  <thead>\n",
       "    <tr style=\"text-align: right;\">\n",
       "      <th></th>\n",
       "      <th>pos_ratio</th>\n",
       "      <th>auc</th>\n",
       "      <th>time_auc</th>\n",
       "      <th>weighted_time_auc</th>\n",
       "      <th>click/time_auc</th>\n",
       "      <th>click/weighted_inv</th>\n",
       "      <th>group/auc</th>\n",
       "      <th>group/pos_ratio</th>\n",
       "      <th>group/top1_score</th>\n",
       "      <th>group/top3_score</th>\n",
       "      <th>...</th>\n",
       "      <th>group/click/top1_click_best</th>\n",
       "      <th>group/click/top3_click_best</th>\n",
       "      <th>group/click/top1_click_rate</th>\n",
       "      <th>group/click/top3_click_rate</th>\n",
       "      <th>click_ratio</th>\n",
       "      <th>time_per_show</th>\n",
       "      <th>time_per_click</th>\n",
       "      <th>time_per_user</th>\n",
       "      <th>time</th>\n",
       "      <th>click/weighted_time_auc</th>\n",
       "    </tr>\n",
       "  </thead>\n",
       "  <tbody>\n",
       "    <tr>\n",
       "      <td>0</td>\n",
       "      <td>0.11978</td>\n",
       "      <td>0.64514</td>\n",
       "      <td>0.64131</td>\n",
       "      <td>0.71801</td>\n",
       "      <td>0.58324</td>\n",
       "      <td>0.38380</td>\n",
       "      <td>0.55592</td>\n",
       "      <td>0.15357</td>\n",
       "      <td>43.91872</td>\n",
       "      <td>36.08465</td>\n",
       "      <td>...</td>\n",
       "      <td>1.0</td>\n",
       "      <td>1.0</td>\n",
       "      <td>1.0</td>\n",
       "      <td>1.0</td>\n",
       "      <td>0.11978</td>\n",
       "      <td>14.54027</td>\n",
       "      <td>121.39112</td>\n",
       "      <td>86.82079</td>\n",
       "      <td>2019-11-08 12:00:00</td>\n",
       "      <td>NaN</td>\n",
       "    </tr>\n",
       "    <tr>\n",
       "      <td>1</td>\n",
       "      <td>0.06521</td>\n",
       "      <td>0.67230</td>\n",
       "      <td>0.66961</td>\n",
       "      <td>0.75042</td>\n",
       "      <td>0.58909</td>\n",
       "      <td>0.36756</td>\n",
       "      <td>0.55780</td>\n",
       "      <td>0.14712</td>\n",
       "      <td>44.71265</td>\n",
       "      <td>36.35161</td>\n",
       "      <td>...</td>\n",
       "      <td>1.0</td>\n",
       "      <td>1.0</td>\n",
       "      <td>1.0</td>\n",
       "      <td>1.0</td>\n",
       "      <td>0.06521</td>\n",
       "      <td>7.67552</td>\n",
       "      <td>117.70772</td>\n",
       "      <td>67.27003</td>\n",
       "      <td>2019-11-08 17:00:00</td>\n",
       "      <td>NaN</td>\n",
       "    </tr>\n",
       "    <tr>\n",
       "      <td>2</td>\n",
       "      <td>0.06583</td>\n",
       "      <td>0.69339</td>\n",
       "      <td>0.68995</td>\n",
       "      <td>0.76090</td>\n",
       "      <td>0.58900</td>\n",
       "      <td>NaN</td>\n",
       "      <td>0.57772</td>\n",
       "      <td>0.14375</td>\n",
       "      <td>50.26969</td>\n",
       "      <td>41.13335</td>\n",
       "      <td>...</td>\n",
       "      <td>1.0</td>\n",
       "      <td>1.0</td>\n",
       "      <td>1.0</td>\n",
       "      <td>1.0</td>\n",
       "      <td>0.06583</td>\n",
       "      <td>8.15023</td>\n",
       "      <td>123.79896</td>\n",
       "      <td>66.46589</td>\n",
       "      <td>2019-11-08 18:00:00</td>\n",
       "      <td>0.61889</td>\n",
       "    </tr>\n",
       "    <tr>\n",
       "      <td>3</td>\n",
       "      <td>0.06653</td>\n",
       "      <td>0.69868</td>\n",
       "      <td>0.69538</td>\n",
       "      <td>0.77144</td>\n",
       "      <td>0.59973</td>\n",
       "      <td>NaN</td>\n",
       "      <td>0.56066</td>\n",
       "      <td>0.13797</td>\n",
       "      <td>52.26312</td>\n",
       "      <td>41.34649</td>\n",
       "      <td>...</td>\n",
       "      <td>1.0</td>\n",
       "      <td>1.0</td>\n",
       "      <td>1.0</td>\n",
       "      <td>1.0</td>\n",
       "      <td>0.06653</td>\n",
       "      <td>8.48367</td>\n",
       "      <td>127.50924</td>\n",
       "      <td>72.72398</td>\n",
       "      <td>2019-11-08 19:00:00</td>\n",
       "      <td>0.64476</td>\n",
       "    </tr>\n",
       "    <tr>\n",
       "      <td>4</td>\n",
       "      <td>0.06237</td>\n",
       "      <td>0.71062</td>\n",
       "      <td>0.70695</td>\n",
       "      <td>0.77309</td>\n",
       "      <td>0.59288</td>\n",
       "      <td>NaN</td>\n",
       "      <td>0.57721</td>\n",
       "      <td>0.13205</td>\n",
       "      <td>54.93121</td>\n",
       "      <td>45.65020</td>\n",
       "      <td>...</td>\n",
       "      <td>1.0</td>\n",
       "      <td>1.0</td>\n",
       "      <td>1.0</td>\n",
       "      <td>1.0</td>\n",
       "      <td>0.06237</td>\n",
       "      <td>8.89010</td>\n",
       "      <td>142.53167</td>\n",
       "      <td>76.17747</td>\n",
       "      <td>2019-11-08 20:00:00</td>\n",
       "      <td>0.62017</td>\n",
       "    </tr>\n",
       "    <tr>\n",
       "      <td>...</td>\n",
       "      <td>...</td>\n",
       "      <td>...</td>\n",
       "      <td>...</td>\n",
       "      <td>...</td>\n",
       "      <td>...</td>\n",
       "      <td>...</td>\n",
       "      <td>...</td>\n",
       "      <td>...</td>\n",
       "      <td>...</td>\n",
       "      <td>...</td>\n",
       "      <td>...</td>\n",
       "      <td>...</td>\n",
       "      <td>...</td>\n",
       "      <td>...</td>\n",
       "      <td>...</td>\n",
       "      <td>...</td>\n",
       "      <td>...</td>\n",
       "      <td>...</td>\n",
       "      <td>...</td>\n",
       "      <td>...</td>\n",
       "      <td>...</td>\n",
       "    </tr>\n",
       "    <tr>\n",
       "      <td>265</td>\n",
       "      <td>0.06527</td>\n",
       "      <td>0.78788</td>\n",
       "      <td>0.78055</td>\n",
       "      <td>0.83430</td>\n",
       "      <td>0.56185</td>\n",
       "      <td>NaN</td>\n",
       "      <td>0.64157</td>\n",
       "      <td>0.16366</td>\n",
       "      <td>34.29635</td>\n",
       "      <td>28.27637</td>\n",
       "      <td>...</td>\n",
       "      <td>1.0</td>\n",
       "      <td>1.0</td>\n",
       "      <td>1.0</td>\n",
       "      <td>1.0</td>\n",
       "      <td>0.06527</td>\n",
       "      <td>5.97982</td>\n",
       "      <td>91.60968</td>\n",
       "      <td>54.21134</td>\n",
       "      <td>2019-11-20 03:00:00</td>\n",
       "      <td>0.53875</td>\n",
       "    </tr>\n",
       "    <tr>\n",
       "      <td>266</td>\n",
       "      <td>0.07305</td>\n",
       "      <td>0.79354</td>\n",
       "      <td>0.78448</td>\n",
       "      <td>0.82743</td>\n",
       "      <td>0.54489</td>\n",
       "      <td>NaN</td>\n",
       "      <td>0.62021</td>\n",
       "      <td>0.18491</td>\n",
       "      <td>39.74119</td>\n",
       "      <td>32.52071</td>\n",
       "      <td>...</td>\n",
       "      <td>1.0</td>\n",
       "      <td>1.0</td>\n",
       "      <td>1.0</td>\n",
       "      <td>1.0</td>\n",
       "      <td>0.07305</td>\n",
       "      <td>6.63324</td>\n",
       "      <td>90.79843</td>\n",
       "      <td>53.57256</td>\n",
       "      <td>2019-11-20 04:00:00</td>\n",
       "      <td>0.50677</td>\n",
       "    </tr>\n",
       "    <tr>\n",
       "      <td>267</td>\n",
       "      <td>0.07163</td>\n",
       "      <td>0.77653</td>\n",
       "      <td>0.76818</td>\n",
       "      <td>0.80437</td>\n",
       "      <td>0.54508</td>\n",
       "      <td>NaN</td>\n",
       "      <td>0.62986</td>\n",
       "      <td>0.17133</td>\n",
       "      <td>43.17889</td>\n",
       "      <td>37.02400</td>\n",
       "      <td>...</td>\n",
       "      <td>1.0</td>\n",
       "      <td>1.0</td>\n",
       "      <td>1.0</td>\n",
       "      <td>1.0</td>\n",
       "      <td>0.07163</td>\n",
       "      <td>7.62986</td>\n",
       "      <td>106.51659</td>\n",
       "      <td>58.73079</td>\n",
       "      <td>2019-11-20 05:00:00</td>\n",
       "      <td>0.48810</td>\n",
       "    </tr>\n",
       "    <tr>\n",
       "      <td>268</td>\n",
       "      <td>0.06153</td>\n",
       "      <td>0.76048</td>\n",
       "      <td>0.75475</td>\n",
       "      <td>0.81720</td>\n",
       "      <td>0.57443</td>\n",
       "      <td>NaN</td>\n",
       "      <td>0.61907</td>\n",
       "      <td>0.15334</td>\n",
       "      <td>53.79673</td>\n",
       "      <td>44.51694</td>\n",
       "      <td>...</td>\n",
       "      <td>1.0</td>\n",
       "      <td>1.0</td>\n",
       "      <td>1.0</td>\n",
       "      <td>1.0</td>\n",
       "      <td>0.06153</td>\n",
       "      <td>7.87499</td>\n",
       "      <td>127.98816</td>\n",
       "      <td>58.76604</td>\n",
       "      <td>2019-11-20 06:00:00</td>\n",
       "      <td>0.57741</td>\n",
       "    </tr>\n",
       "    <tr>\n",
       "      <td>269</td>\n",
       "      <td>0.06304</td>\n",
       "      <td>0.75203</td>\n",
       "      <td>0.74624</td>\n",
       "      <td>0.80397</td>\n",
       "      <td>0.56893</td>\n",
       "      <td>NaN</td>\n",
       "      <td>0.61958</td>\n",
       "      <td>0.15050</td>\n",
       "      <td>61.86806</td>\n",
       "      <td>47.80842</td>\n",
       "      <td>...</td>\n",
       "      <td>1.0</td>\n",
       "      <td>1.0</td>\n",
       "      <td>1.0</td>\n",
       "      <td>1.0</td>\n",
       "      <td>0.06304</td>\n",
       "      <td>8.65963</td>\n",
       "      <td>137.37456</td>\n",
       "      <td>61.90045</td>\n",
       "      <td>2019-11-20 07:00:00</td>\n",
       "      <td>0.58428</td>\n",
       "    </tr>\n",
       "  </tbody>\n",
       "</table>\n",
       "<p>270 rows × 44 columns</p>\n",
       "</div>"
      ],
      "text/plain": [
       "     pos_ratio      auc  time_auc  weighted_time_auc  click/time_auc  \\\n",
       "0      0.11978  0.64514   0.64131            0.71801         0.58324   \n",
       "1      0.06521  0.67230   0.66961            0.75042         0.58909   \n",
       "2      0.06583  0.69339   0.68995            0.76090         0.58900   \n",
       "3      0.06653  0.69868   0.69538            0.77144         0.59973   \n",
       "4      0.06237  0.71062   0.70695            0.77309         0.59288   \n",
       "..         ...      ...       ...                ...             ...   \n",
       "265    0.06527  0.78788   0.78055            0.83430         0.56185   \n",
       "266    0.07305  0.79354   0.78448            0.82743         0.54489   \n",
       "267    0.07163  0.77653   0.76818            0.80437         0.54508   \n",
       "268    0.06153  0.76048   0.75475            0.81720         0.57443   \n",
       "269    0.06304  0.75203   0.74624            0.80397         0.56893   \n",
       "\n",
       "     click/weighted_inv  group/auc  group/pos_ratio  group/top1_score  \\\n",
       "0               0.38380    0.55592          0.15357          43.91872   \n",
       "1               0.36756    0.55780          0.14712          44.71265   \n",
       "2                   NaN    0.57772          0.14375          50.26969   \n",
       "3                   NaN    0.56066          0.13797          52.26312   \n",
       "4                   NaN    0.57721          0.13205          54.93121   \n",
       "..                  ...        ...              ...               ...   \n",
       "265                 NaN    0.64157          0.16366          34.29635   \n",
       "266                 NaN    0.62021          0.18491          39.74119   \n",
       "267                 NaN    0.62986          0.17133          43.17889   \n",
       "268                 NaN    0.61907          0.15334          53.79673   \n",
       "269                 NaN    0.61958          0.15050          61.86806   \n",
       "\n",
       "     group/top3_score  ...  group/click/top1_click_best  \\\n",
       "0            36.08465  ...                          1.0   \n",
       "1            36.35161  ...                          1.0   \n",
       "2            41.13335  ...                          1.0   \n",
       "3            41.34649  ...                          1.0   \n",
       "4            45.65020  ...                          1.0   \n",
       "..                ...  ...                          ...   \n",
       "265          28.27637  ...                          1.0   \n",
       "266          32.52071  ...                          1.0   \n",
       "267          37.02400  ...                          1.0   \n",
       "268          44.51694  ...                          1.0   \n",
       "269          47.80842  ...                          1.0   \n",
       "\n",
       "     group/click/top3_click_best  group/click/top1_click_rate  \\\n",
       "0                            1.0                          1.0   \n",
       "1                            1.0                          1.0   \n",
       "2                            1.0                          1.0   \n",
       "3                            1.0                          1.0   \n",
       "4                            1.0                          1.0   \n",
       "..                           ...                          ...   \n",
       "265                          1.0                          1.0   \n",
       "266                          1.0                          1.0   \n",
       "267                          1.0                          1.0   \n",
       "268                          1.0                          1.0   \n",
       "269                          1.0                          1.0   \n",
       "\n",
       "     group/click/top3_click_rate  click_ratio  time_per_show  time_per_click  \\\n",
       "0                            1.0      0.11978       14.54027       121.39112   \n",
       "1                            1.0      0.06521        7.67552       117.70772   \n",
       "2                            1.0      0.06583        8.15023       123.79896   \n",
       "3                            1.0      0.06653        8.48367       127.50924   \n",
       "4                            1.0      0.06237        8.89010       142.53167   \n",
       "..                           ...          ...            ...             ...   \n",
       "265                          1.0      0.06527        5.97982        91.60968   \n",
       "266                          1.0      0.07305        6.63324        90.79843   \n",
       "267                          1.0      0.07163        7.62986       106.51659   \n",
       "268                          1.0      0.06153        7.87499       127.98816   \n",
       "269                          1.0      0.06304        8.65963       137.37456   \n",
       "\n",
       "     time_per_user                time  click/weighted_time_auc  \n",
       "0         86.82079 2019-11-08 12:00:00                      NaN  \n",
       "1         67.27003 2019-11-08 17:00:00                      NaN  \n",
       "2         66.46589 2019-11-08 18:00:00                  0.61889  \n",
       "3         72.72398 2019-11-08 19:00:00                  0.64476  \n",
       "4         76.17747 2019-11-08 20:00:00                  0.62017  \n",
       "..             ...                 ...                      ...  \n",
       "265       54.21134 2019-11-20 03:00:00                  0.53875  \n",
       "266       53.57256 2019-11-20 04:00:00                  0.50677  \n",
       "267       58.73079 2019-11-20 05:00:00                  0.48810  \n",
       "268       58.76604 2019-11-20 06:00:00                  0.57741  \n",
       "269       61.90045 2019-11-20 07:00:00                  0.58428  \n",
       "\n",
       "[270 rows x 44 columns]"
      ]
     },
     "execution_count": 14,
     "metadata": {},
     "output_type": "execute_result"
    }
   ],
   "source": [
    "df_offline_base"
   ]
  },
  {
   "cell_type": "code",
   "execution_count": 15,
   "metadata": {},
   "outputs": [
    {
     "data": {
      "text/html": [
       "<div>\n",
       "<style scoped>\n",
       "    .dataframe tbody tr th:only-of-type {\n",
       "        vertical-align: middle;\n",
       "    }\n",
       "\n",
       "    .dataframe tbody tr th {\n",
       "        vertical-align: top;\n",
       "    }\n",
       "\n",
       "    .dataframe thead th {\n",
       "        text-align: right;\n",
       "    }\n",
       "</style>\n",
       "<table border=\"1\" class=\"dataframe\">\n",
       "  <thead>\n",
       "    <tr style=\"text-align: right;\">\n",
       "      <th></th>\n",
       "      <th>pos_ratio</th>\n",
       "      <th>auc</th>\n",
       "      <th>time_auc</th>\n",
       "      <th>weighted_time_auc</th>\n",
       "      <th>click/time_auc</th>\n",
       "      <th>click/weighted_time_auc</th>\n",
       "      <th>group/auc</th>\n",
       "      <th>group/pos_ratio</th>\n",
       "      <th>group/top1_score</th>\n",
       "      <th>group/top3_score</th>\n",
       "      <th>...</th>\n",
       "      <th>group/click/top3_click</th>\n",
       "      <th>group/click/top1_click_best</th>\n",
       "      <th>group/click/top3_click_best</th>\n",
       "      <th>group/click/top1_click_rate</th>\n",
       "      <th>group/click/top3_click_rate</th>\n",
       "      <th>click_ratio</th>\n",
       "      <th>time_per_show</th>\n",
       "      <th>time_per_click</th>\n",
       "      <th>time_per_user</th>\n",
       "      <th>time</th>\n",
       "    </tr>\n",
       "  </thead>\n",
       "  <tbody>\n",
       "    <tr>\n",
       "      <td>0</td>\n",
       "      <td>0.08197</td>\n",
       "      <td>0.72954</td>\n",
       "      <td>0.72234</td>\n",
       "      <td>0.77275</td>\n",
       "      <td>0.55748</td>\n",
       "      <td>0.56776</td>\n",
       "      <td>0.59982</td>\n",
       "      <td>0.13808</td>\n",
       "      <td>49.90369</td>\n",
       "      <td>41.51776</td>\n",
       "      <td>...</td>\n",
       "      <td>1.0</td>\n",
       "      <td>1.0</td>\n",
       "      <td>1.0</td>\n",
       "      <td>1.0</td>\n",
       "      <td>1.0</td>\n",
       "      <td>0.08197</td>\n",
       "      <td>10.97885</td>\n",
       "      <td>133.94454</td>\n",
       "      <td>118.54684</td>\n",
       "      <td>2019-11-17 07:00:00</td>\n",
       "    </tr>\n",
       "    <tr>\n",
       "      <td>1</td>\n",
       "      <td>0.08614</td>\n",
       "      <td>0.73197</td>\n",
       "      <td>0.72433</td>\n",
       "      <td>0.77310</td>\n",
       "      <td>0.55906</td>\n",
       "      <td>0.56599</td>\n",
       "      <td>0.61300</td>\n",
       "      <td>0.14322</td>\n",
       "      <td>49.60037</td>\n",
       "      <td>40.25272</td>\n",
       "      <td>...</td>\n",
       "      <td>1.0</td>\n",
       "      <td>1.0</td>\n",
       "      <td>1.0</td>\n",
       "      <td>1.0</td>\n",
       "      <td>1.0</td>\n",
       "      <td>0.08614</td>\n",
       "      <td>11.08153</td>\n",
       "      <td>128.64331</td>\n",
       "      <td>122.24314</td>\n",
       "      <td>2019-11-17 08:00:00</td>\n",
       "    </tr>\n",
       "    <tr>\n",
       "      <td>2</td>\n",
       "      <td>0.08567</td>\n",
       "      <td>0.70280</td>\n",
       "      <td>0.69729</td>\n",
       "      <td>0.75823</td>\n",
       "      <td>0.57679</td>\n",
       "      <td>0.59776</td>\n",
       "      <td>0.54876</td>\n",
       "      <td>0.13840</td>\n",
       "      <td>43.53604</td>\n",
       "      <td>39.03597</td>\n",
       "      <td>...</td>\n",
       "      <td>1.0</td>\n",
       "      <td>1.0</td>\n",
       "      <td>1.0</td>\n",
       "      <td>1.0</td>\n",
       "      <td>1.0</td>\n",
       "      <td>0.08567</td>\n",
       "      <td>11.22206</td>\n",
       "      <td>130.98784</td>\n",
       "      <td>135.41120</td>\n",
       "      <td>2019-11-17 09:00:00</td>\n",
       "    </tr>\n",
       "    <tr>\n",
       "      <td>3</td>\n",
       "      <td>0.08634</td>\n",
       "      <td>0.69957</td>\n",
       "      <td>0.69458</td>\n",
       "      <td>0.76499</td>\n",
       "      <td>0.58647</td>\n",
       "      <td>0.61918</td>\n",
       "      <td>0.54143</td>\n",
       "      <td>0.13703</td>\n",
       "      <td>43.38824</td>\n",
       "      <td>36.92810</td>\n",
       "      <td>...</td>\n",
       "      <td>1.0</td>\n",
       "      <td>1.0</td>\n",
       "      <td>1.0</td>\n",
       "      <td>1.0</td>\n",
       "      <td>1.0</td>\n",
       "      <td>0.08634</td>\n",
       "      <td>10.90706</td>\n",
       "      <td>126.32762</td>\n",
       "      <td>126.63542</td>\n",
       "      <td>2019-11-17 10:00:00</td>\n",
       "    </tr>\n",
       "    <tr>\n",
       "      <td>4</td>\n",
       "      <td>0.08898</td>\n",
       "      <td>0.69898</td>\n",
       "      <td>0.69419</td>\n",
       "      <td>0.76636</td>\n",
       "      <td>0.59376</td>\n",
       "      <td>0.62886</td>\n",
       "      <td>0.55302</td>\n",
       "      <td>0.13913</td>\n",
       "      <td>49.86466</td>\n",
       "      <td>39.85684</td>\n",
       "      <td>...</td>\n",
       "      <td>1.0</td>\n",
       "      <td>1.0</td>\n",
       "      <td>1.0</td>\n",
       "      <td>1.0</td>\n",
       "      <td>1.0</td>\n",
       "      <td>0.08898</td>\n",
       "      <td>11.50800</td>\n",
       "      <td>129.32683</td>\n",
       "      <td>128.51253</td>\n",
       "      <td>2019-11-17 11:00:00</td>\n",
       "    </tr>\n",
       "    <tr>\n",
       "      <td>...</td>\n",
       "      <td>...</td>\n",
       "      <td>...</td>\n",
       "      <td>...</td>\n",
       "      <td>...</td>\n",
       "      <td>...</td>\n",
       "      <td>...</td>\n",
       "      <td>...</td>\n",
       "      <td>...</td>\n",
       "      <td>...</td>\n",
       "      <td>...</td>\n",
       "      <td>...</td>\n",
       "      <td>...</td>\n",
       "      <td>...</td>\n",
       "      <td>...</td>\n",
       "      <td>...</td>\n",
       "      <td>...</td>\n",
       "      <td>...</td>\n",
       "      <td>...</td>\n",
       "      <td>...</td>\n",
       "      <td>...</td>\n",
       "      <td>...</td>\n",
       "    </tr>\n",
       "    <tr>\n",
       "      <td>67</td>\n",
       "      <td>0.06527</td>\n",
       "      <td>0.71162</td>\n",
       "      <td>0.70432</td>\n",
       "      <td>0.70816</td>\n",
       "      <td>0.48589</td>\n",
       "      <td>0.33104</td>\n",
       "      <td>0.56400</td>\n",
       "      <td>0.16366</td>\n",
       "      <td>29.50194</td>\n",
       "      <td>25.88627</td>\n",
       "      <td>...</td>\n",
       "      <td>1.0</td>\n",
       "      <td>1.0</td>\n",
       "      <td>1.0</td>\n",
       "      <td>1.0</td>\n",
       "      <td>1.0</td>\n",
       "      <td>0.06527</td>\n",
       "      <td>5.97982</td>\n",
       "      <td>91.60968</td>\n",
       "      <td>54.21134</td>\n",
       "      <td>2019-11-20 03:00:00</td>\n",
       "    </tr>\n",
       "    <tr>\n",
       "      <td>68</td>\n",
       "      <td>0.07305</td>\n",
       "      <td>0.71714</td>\n",
       "      <td>0.70842</td>\n",
       "      <td>0.71353</td>\n",
       "      <td>0.47812</td>\n",
       "      <td>0.32572</td>\n",
       "      <td>0.55197</td>\n",
       "      <td>0.18491</td>\n",
       "      <td>33.97397</td>\n",
       "      <td>28.37846</td>\n",
       "      <td>...</td>\n",
       "      <td>1.0</td>\n",
       "      <td>1.0</td>\n",
       "      <td>1.0</td>\n",
       "      <td>1.0</td>\n",
       "      <td>1.0</td>\n",
       "      <td>0.07305</td>\n",
       "      <td>6.63324</td>\n",
       "      <td>90.79843</td>\n",
       "      <td>53.57256</td>\n",
       "      <td>2019-11-20 04:00:00</td>\n",
       "    </tr>\n",
       "    <tr>\n",
       "      <td>69</td>\n",
       "      <td>0.07163</td>\n",
       "      <td>0.70894</td>\n",
       "      <td>0.70091</td>\n",
       "      <td>0.70533</td>\n",
       "      <td>0.48602</td>\n",
       "      <td>0.35465</td>\n",
       "      <td>0.56740</td>\n",
       "      <td>0.17133</td>\n",
       "      <td>35.73810</td>\n",
       "      <td>31.87906</td>\n",
       "      <td>...</td>\n",
       "      <td>1.0</td>\n",
       "      <td>1.0</td>\n",
       "      <td>1.0</td>\n",
       "      <td>1.0</td>\n",
       "      <td>1.0</td>\n",
       "      <td>0.07163</td>\n",
       "      <td>7.62986</td>\n",
       "      <td>106.51659</td>\n",
       "      <td>58.73079</td>\n",
       "      <td>2019-11-20 05:00:00</td>\n",
       "    </tr>\n",
       "    <tr>\n",
       "      <td>70</td>\n",
       "      <td>0.06153</td>\n",
       "      <td>0.69776</td>\n",
       "      <td>0.69181</td>\n",
       "      <td>0.72029</td>\n",
       "      <td>0.50497</td>\n",
       "      <td>0.43620</td>\n",
       "      <td>0.57950</td>\n",
       "      <td>0.15334</td>\n",
       "      <td>50.49334</td>\n",
       "      <td>41.64844</td>\n",
       "      <td>...</td>\n",
       "      <td>1.0</td>\n",
       "      <td>1.0</td>\n",
       "      <td>1.0</td>\n",
       "      <td>1.0</td>\n",
       "      <td>1.0</td>\n",
       "      <td>0.06153</td>\n",
       "      <td>7.87499</td>\n",
       "      <td>127.98816</td>\n",
       "      <td>58.76604</td>\n",
       "      <td>2019-11-20 06:00:00</td>\n",
       "    </tr>\n",
       "    <tr>\n",
       "      <td>71</td>\n",
       "      <td>0.06304</td>\n",
       "      <td>0.67458</td>\n",
       "      <td>0.66928</td>\n",
       "      <td>0.69708</td>\n",
       "      <td>0.50714</td>\n",
       "      <td>0.46693</td>\n",
       "      <td>0.56056</td>\n",
       "      <td>0.15050</td>\n",
       "      <td>55.29578</td>\n",
       "      <td>43.54418</td>\n",
       "      <td>...</td>\n",
       "      <td>1.0</td>\n",
       "      <td>1.0</td>\n",
       "      <td>1.0</td>\n",
       "      <td>1.0</td>\n",
       "      <td>1.0</td>\n",
       "      <td>0.06304</td>\n",
       "      <td>8.65963</td>\n",
       "      <td>137.37456</td>\n",
       "      <td>61.90045</td>\n",
       "      <td>2019-11-20 07:00:00</td>\n",
       "    </tr>\n",
       "  </tbody>\n",
       "</table>\n",
       "<p>72 rows × 43 columns</p>\n",
       "</div>"
      ],
      "text/plain": [
       "    pos_ratio      auc  time_auc  weighted_time_auc  click/time_auc  \\\n",
       "0     0.08197  0.72954   0.72234            0.77275         0.55748   \n",
       "1     0.08614  0.73197   0.72433            0.77310         0.55906   \n",
       "2     0.08567  0.70280   0.69729            0.75823         0.57679   \n",
       "3     0.08634  0.69957   0.69458            0.76499         0.58647   \n",
       "4     0.08898  0.69898   0.69419            0.76636         0.59376   \n",
       "..        ...      ...       ...                ...             ...   \n",
       "67    0.06527  0.71162   0.70432            0.70816         0.48589   \n",
       "68    0.07305  0.71714   0.70842            0.71353         0.47812   \n",
       "69    0.07163  0.70894   0.70091            0.70533         0.48602   \n",
       "70    0.06153  0.69776   0.69181            0.72029         0.50497   \n",
       "71    0.06304  0.67458   0.66928            0.69708         0.50714   \n",
       "\n",
       "    click/weighted_time_auc  group/auc  group/pos_ratio  group/top1_score  \\\n",
       "0                   0.56776    0.59982          0.13808          49.90369   \n",
       "1                   0.56599    0.61300          0.14322          49.60037   \n",
       "2                   0.59776    0.54876          0.13840          43.53604   \n",
       "3                   0.61918    0.54143          0.13703          43.38824   \n",
       "4                   0.62886    0.55302          0.13913          49.86466   \n",
       "..                      ...        ...              ...               ...   \n",
       "67                  0.33104    0.56400          0.16366          29.50194   \n",
       "68                  0.32572    0.55197          0.18491          33.97397   \n",
       "69                  0.35465    0.56740          0.17133          35.73810   \n",
       "70                  0.43620    0.57950          0.15334          50.49334   \n",
       "71                  0.46693    0.56056          0.15050          55.29578   \n",
       "\n",
       "    group/top3_score  ...  group/click/top3_click  \\\n",
       "0           41.51776  ...                     1.0   \n",
       "1           40.25272  ...                     1.0   \n",
       "2           39.03597  ...                     1.0   \n",
       "3           36.92810  ...                     1.0   \n",
       "4           39.85684  ...                     1.0   \n",
       "..               ...  ...                     ...   \n",
       "67          25.88627  ...                     1.0   \n",
       "68          28.37846  ...                     1.0   \n",
       "69          31.87906  ...                     1.0   \n",
       "70          41.64844  ...                     1.0   \n",
       "71          43.54418  ...                     1.0   \n",
       "\n",
       "    group/click/top1_click_best  group/click/top3_click_best  \\\n",
       "0                           1.0                          1.0   \n",
       "1                           1.0                          1.0   \n",
       "2                           1.0                          1.0   \n",
       "3                           1.0                          1.0   \n",
       "4                           1.0                          1.0   \n",
       "..                          ...                          ...   \n",
       "67                          1.0                          1.0   \n",
       "68                          1.0                          1.0   \n",
       "69                          1.0                          1.0   \n",
       "70                          1.0                          1.0   \n",
       "71                          1.0                          1.0   \n",
       "\n",
       "    group/click/top1_click_rate  group/click/top3_click_rate  click_ratio  \\\n",
       "0                           1.0                          1.0      0.08197   \n",
       "1                           1.0                          1.0      0.08614   \n",
       "2                           1.0                          1.0      0.08567   \n",
       "3                           1.0                          1.0      0.08634   \n",
       "4                           1.0                          1.0      0.08898   \n",
       "..                          ...                          ...          ...   \n",
       "67                          1.0                          1.0      0.06527   \n",
       "68                          1.0                          1.0      0.07305   \n",
       "69                          1.0                          1.0      0.07163   \n",
       "70                          1.0                          1.0      0.06153   \n",
       "71                          1.0                          1.0      0.06304   \n",
       "\n",
       "    time_per_show  time_per_click  time_per_user                time  \n",
       "0        10.97885       133.94454      118.54684 2019-11-17 07:00:00  \n",
       "1        11.08153       128.64331      122.24314 2019-11-17 08:00:00  \n",
       "2        11.22206       130.98784      135.41120 2019-11-17 09:00:00  \n",
       "3        10.90706       126.32762      126.63542 2019-11-17 10:00:00  \n",
       "4        11.50800       129.32683      128.51253 2019-11-17 11:00:00  \n",
       "..            ...             ...            ...                 ...  \n",
       "67        5.97982        91.60968       54.21134 2019-11-20 03:00:00  \n",
       "68        6.63324        90.79843       53.57256 2019-11-20 04:00:00  \n",
       "69        7.62986       106.51659       58.73079 2019-11-20 05:00:00  \n",
       "70        7.87499       127.98816       58.76604 2019-11-20 06:00:00  \n",
       "71        8.65963       137.37456       61.90045 2019-11-20 07:00:00  \n",
       "\n",
       "[72 rows x 43 columns]"
      ]
     },
     "execution_count": 15,
     "metadata": {},
     "output_type": "execute_result"
    }
   ],
   "source": [
    "df_offline_base2"
   ]
  },
  {
   "cell_type": "code",
   "execution_count": 16,
   "metadata": {},
   "outputs": [
    {
     "data": {
      "text/html": [
       "        <script type=\"text/javascript\">\n",
       "        window.PlotlyConfig = {MathJaxConfig: 'local'};\n",
       "        if (window.MathJax) {MathJax.Hub.Config({SVG: {font: \"STIX-Web\"}});}\n",
       "        if (typeof require !== 'undefined') {\n",
       "        require.undef(\"plotly\");\n",
       "        requirejs.config({\n",
       "            paths: {\n",
       "                'plotly': ['https://cdn.plot.ly/plotly-latest.min']\n",
       "            }\n",
       "        });\n",
       "        require(['plotly'], function(Plotly) {\n",
       "            window._Plotly = Plotly;\n",
       "        });\n",
       "        }\n",
       "        </script>\n",
       "        "
      ]
     },
     "metadata": {},
     "output_type": "display_data"
    }
   ],
   "source": [
    "from plotly.graph_objs import Scatter,Layout\n",
    "import plotly\n",
    "import plotly.offline as py\n",
    "import numpy as np\n",
    "import plotly.graph_objs as go\n",
    "\n",
    "#setting offilne\n",
    "plotly.offline.init_notebook_mode(connected=True)"
   ]
  },
  {
   "cell_type": "code",
   "execution_count": 17,
   "metadata": {},
   "outputs": [],
   "source": [
    "starttime = datetime.datetime.strptime('2019102710',\"%Y%m%d%H\")"
   ]
  },
  {
   "cell_type": "code",
   "execution_count": 18,
   "metadata": {},
   "outputs": [],
   "source": [
    "def time_diff(x):\n",
    "  diff = x - starttime\n",
    "  return diff.days * 24 + int(diff.seconds / 3600)"
   ]
  },
  {
   "cell_type": "code",
   "execution_count": 19,
   "metadata": {},
   "outputs": [
    {
     "data": {
      "text/plain": [
       "24"
      ]
     },
     "execution_count": 19,
     "metadata": {},
     "output_type": "execute_result"
    }
   ],
   "source": [
    "time_diff(datetime.datetime.strptime('2019102810',\"%Y%m%d%H\"))"
   ]
  },
  {
   "cell_type": "code",
   "execution_count": 20,
   "metadata": {},
   "outputs": [
    {
     "data": {
      "text/plain": [
       "0      290\n",
       "1      295\n",
       "2      296\n",
       "3      297\n",
       "4      298\n",
       "      ... \n",
       "265    569\n",
       "266    570\n",
       "267    571\n",
       "268    572\n",
       "269    573\n",
       "Name: time, Length: 270, dtype: int64"
      ]
     },
     "execution_count": 20,
     "metadata": {},
     "output_type": "execute_result"
    }
   ],
   "source": [
    "df_online_base.time.apply(time_diff)"
   ]
  },
  {
   "cell_type": "code",
   "execution_count": 21,
   "metadata": {},
   "outputs": [],
   "source": [
    "def parse_click(line, times):\n",
    "    l = line.split('\\t')\n",
    "    try:\n",
    "      items = l[-1].split()\n",
    "      items = [x.split(':') for x in items]\n",
    "      items = [(x, float(y)) for x, y in items]\n",
    "      d = dict(items)\n",
    "      d['time'] = datetime.datetime.strptime(l[0],\"%Y%m%d%H\")\n",
    "    except Exception:\n",
    "      return None\n",
    "    if l[0] in times:\n",
    "      return None\n",
    "    else:\n",
    "      times.add(l[0])\n",
    "    return d"
   ]
  },
  {
   "cell_type": "code",
   "execution_count": 22,
   "metadata": {},
   "outputs": [],
   "source": [
    "# clicks = f'{root_dir}/{mark}_hour.txt'\n",
    "# clines = [x.strip() for x in open(clicks).readlines()]\n",
    "# times = set()\n",
    "# online_indicator = [parse_click(x, times) for x in clines]\n",
    "# online_indicator = [x for x in online_indicator if x]\n",
    "# df_online_click = pd.DataFrame.from_dict(online_indicator)\n",
    "# df_online_click.sort_values(['time'])"
   ]
  },
  {
   "cell_type": "code",
   "execution_count": 23,
   "metadata": {},
   "outputs": [],
   "source": [
    "def show(name):\n",
    "    online_base = go.Scatter(\n",
    "        x = df_online_base.time.apply(time_diff),\n",
    "        y = df_online_base[name],\n",
    "        mode = 'lines',\n",
    "        line_shape='spline',\n",
    "        name = f'online_{base_id}_{mark}'\n",
    "    )\n",
    "\n",
    "    offline_base = go.Scatter(\n",
    "        x = df_offline_base.time.apply(time_diff),\n",
    "        y = df_offline_base[name],\n",
    "        mode = 'lines',\n",
    "        line_shape='spline',\n",
    "        name = f'offline_{base_id}_{mark}'\n",
    "    )\n",
    "    \n",
    "    offline_base2 = go.Scatter(\n",
    "        x = df_offline_base2.time.apply(time_diff),\n",
    "        y = df_offline_base2[name],\n",
    "        mode = 'lines',\n",
    "        line_shape='spline',\n",
    "        name = f'offline_{base_id}_{mark}2'\n",
    "    )\n",
    "    \n",
    "    online_exp = go.Scatter(\n",
    "        x = df_online_exp.time.apply(time_diff),\n",
    "        y = df_online_exp[name],\n",
    "        mode = 'lines',\n",
    "        line_shape='spline',\n",
    "        name = f'online_{exp_id}_{mark}'\n",
    "    )\n",
    "\n",
    "    offline_exp = go.Scatter(\n",
    "        x = df_offline_exp.time.apply(time_diff),\n",
    "        y = df_offline_exp[name],\n",
    "        mode = 'lines',\n",
    "        line_shape='spline',\n",
    "        name = f'offline_{exp_id}_{mark}'\n",
    "    )\n",
    "\n",
    "#     base_read = go.Scatter(\n",
    "#         x = df_online_click.time.apply(time_diff),\n",
    "#         y = df_online_click[f'{base_id}_read_ratio'],\n",
    "#         mode = 'lines',\n",
    "#         line_shape='spline',\n",
    "#         name = f'{base_id}_read_ratio'\n",
    "#     )    \n",
    "    \n",
    "#     base_dur1 = go.Scatter(\n",
    "#         x = df_online_click.time.apply(time_diff),\n",
    "#         y = df_online_click[f'{base_id}_read_dur1'] / 100,\n",
    "#         mode = 'lines',\n",
    "#         line_shape='spline',\n",
    "#         name = f'{base_id}_read_dur1'\n",
    "#     )\n",
    "    \n",
    "#     base_dur2 = go.Scatter(\n",
    "#         x = df_online_click.time.apply(time_diff),\n",
    "#         y = df_online_click[f'{base_id}_read_dur2'] / 500,\n",
    "#         mode = 'lines',\n",
    "#         line_shape='spline',\n",
    "#         name = f'{base_id}_read_dur2'\n",
    "#     )\n",
    "    \n",
    "#     exp_read = go.Scatter(\n",
    "#         x = df_online_click.time.apply(time_diff),\n",
    "#         y = df_online_click[f'{exp_id}_read_ratio'],\n",
    "#         mode = 'lines',\n",
    "#         line_shape='spline',\n",
    "#         name = f'{exp_id}_read_ratio'\n",
    "#     )    \n",
    "    \n",
    "#     exp_dur1 = go.Scatter(\n",
    "#         x = df_online_click.time.apply(time_diff),\n",
    "#         y = df_online_click[f'{exp_id}_read_dur1'] / 100,\n",
    "#         mode = 'lines',\n",
    "#         line_shape='spline',\n",
    "#         name = f'{exp_id}_read_dur1'\n",
    "#     )\n",
    "    \n",
    "#     exp_dur2 = go.Scatter(\n",
    "#         x = df_online_click.time.apply(time_diff),\n",
    "#         y = df_online_click[f'{exp_id}_read_dur2'] / 500,\n",
    "#         mode = 'lines',\n",
    "#         line_shape='spline',\n",
    "#         name = f'{exp_id}_read_dur2'\n",
    "#     )\n",
    "    \n",
    "    data = [\n",
    "#             online_base, \\\n",
    "            offline_base, \\\n",
    "            offline_base2, \\\n",
    "#             online_exp, \\\n",
    "#             offline_exp, \\\n",
    "#             base_read, \\\n",
    "#             base_dur1, \\\n",
    "#             base_dur2, \\\n",
    "#             exp_read, \\\n",
    "#             exp_dur1, \\\n",
    "#             exp_dur2 \\\n",
    "           ]\n",
    "#     data = [offline_base_tuwen]\n",
    "    py.iplot(data)"
   ]
  },
  {
   "cell_type": "code",
   "execution_count": 24,
   "metadata": {},
   "outputs": [
    {
     "data": {
      "application/vnd.plotly.v1+json": {
       "config": {
        "linkText": "Export to plot.ly",
        "plotlyServerURL": "https://plot.ly",
        "showLink": false
       },
       "data": [
        {
         "line": {
          "shape": "spline"
         },
         "mode": "lines",
         "name": "offline_4,5,6_video",
         "type": "scatter",
         "x": [
          290,
          295,
          296,
          297,
          298,
          300,
          301,
          302,
          303,
          304,
          305,
          306,
          307,
          308,
          309,
          310,
          311,
          312,
          314,
          315,
          316,
          317,
          318,
          319,
          320,
          321,
          322,
          323,
          324,
          325,
          326,
          327,
          328,
          329,
          330,
          331,
          333,
          334,
          335,
          336,
          338,
          339,
          340,
          342,
          341,
          344,
          345,
          346,
          347,
          348,
          349,
          350,
          351,
          352,
          354,
          359,
          360,
          363,
          358,
          361,
          357,
          362,
          353,
          364,
          365,
          366,
          367,
          368,
          369,
          371,
          372,
          373,
          374,
          375,
          376,
          377,
          378,
          379,
          380,
          381,
          382,
          383,
          384,
          385,
          386,
          387,
          388,
          389,
          390,
          391,
          392,
          393,
          394,
          395,
          396,
          397,
          398,
          399,
          400,
          401,
          402,
          403,
          404,
          405,
          406,
          407,
          408,
          409,
          410,
          411,
          413,
          414,
          415,
          416,
          417,
          418,
          419,
          420,
          421,
          422,
          423,
          424,
          425,
          426,
          427,
          428,
          429,
          430,
          431,
          432,
          433,
          434,
          435,
          436,
          437,
          438,
          439,
          440,
          441,
          442,
          443,
          444,
          445,
          446,
          447,
          448,
          449,
          450,
          451,
          452,
          453,
          454,
          455,
          456,
          457,
          458,
          459,
          460,
          462,
          461,
          463,
          464,
          465,
          466,
          467,
          468,
          469,
          470,
          471,
          472,
          473,
          474,
          475,
          476,
          477,
          478,
          479,
          480,
          481,
          482,
          483,
          484,
          485,
          486,
          487,
          488,
          489,
          490,
          491,
          492,
          493,
          494,
          495,
          496,
          497,
          498,
          499,
          500,
          501,
          502,
          503,
          504,
          505,
          506,
          507,
          508,
          509,
          510,
          511,
          512,
          513,
          514,
          515,
          516,
          517,
          518,
          519,
          520,
          521,
          522,
          523,
          524,
          525,
          526,
          527,
          528,
          529,
          530,
          531,
          532,
          533,
          534,
          535,
          536,
          537,
          538,
          539,
          540,
          541,
          542,
          543,
          544,
          545,
          546,
          547,
          548,
          549,
          550,
          551,
          552,
          553,
          554,
          555,
          556,
          557,
          559,
          560,
          561,
          562,
          563,
          564,
          565,
          566,
          567,
          568,
          569,
          570,
          571,
          572,
          573
         ],
         "y": [
          0.55592,
          0.5578,
          0.57772,
          0.56066,
          0.57721,
          0.5809,
          0.57654,
          0.5806,
          0.56609,
          0.57715,
          0.5869,
          0.58701,
          0.57327,
          0.57654,
          0.57019,
          0.6153,
          0.60415,
          0.6087,
          0.60961,
          0.60091,
          0.60474,
          0.59955,
          0.60662,
          0.60908,
          0.60468,
          0.60274,
          0.61462,
          0.58202,
          0.58613,
          0.5841,
          0.57868,
          0.5875,
          0.58325,
          0.59475,
          0.59946,
          0.58805,
          0.61024,
          0.61573,
          0.61051,
          0.61819,
          0.60105,
          0.61623,
          0.61811,
          0.61671,
          0.61214,
          0.61112,
          0.62115,
          0.61854,
          0.61273,
          0.61289,
          0.61148,
          0.60768,
          0.62846,
          0.61747,
          0.62172,
          0.63868,
          0.6135,
          0.61398,
          0.61707,
          0.61142,
          0.62239,
          0.61862,
          0.6052,
          0.60904,
          0.61286,
          0.61296,
          0.6117,
          0.60641,
          0.61702,
          0.61795,
          0.61129,
          0.60068,
          0.61314,
          0.60206,
          0.61157,
          0.6297,
          0.63399,
          0.63504,
          0.6378,
          0.62056,
          0.61035,
          0.62247,
          0.60599,
          0.6064,
          0.6097,
          0.61237,
          0.60015,
          0.61208,
          0.60613,
          0.60483,
          0.60863,
          0.60746,
          0.61269,
          0.60558,
          0.61542,
          0.60049,
          0.60733,
          0.61319,
          0.62224,
          0.62191,
          0.62544,
          0.63558,
          0.61888,
          0.61571,
          0.61685,
          0.62663,
          0.61979,
          0.612,
          0.60587,
          0.61257,
          0.60079,
          0.61255,
          0.59641,
          0.60524,
          0.59913,
          0.61642,
          0.59963,
          0.60355,
          0.59843,
          0.59798,
          0.60114,
          0.59203,
          0.59631,
          0.60377,
          0.59751,
          0.59621,
          0.60614,
          0.59623,
          0.59426,
          0.59734,
          0.60018,
          0.59427,
          0.58547,
          0.58282,
          0.57486,
          0.5918,
          0.57729,
          0.58466,
          0.58726,
          0.59412,
          0.59124,
          0.59378,
          0.58653,
          0.5632,
          0.58589,
          0.60287,
          0.57386,
          0.61231,
          0.58892,
          0.58949,
          0.6051,
          0.60227,
          0.59173,
          0.58828,
          0.58515,
          0.59782,
          0.60048,
          0.59689,
          0.60646,
          0.58832,
          0.60329,
          0.60201,
          0.59507,
          0.59538,
          0.58671,
          0.59607,
          0.5896,
          0.58573,
          0.58767,
          0.58383,
          0.59321,
          0.61885,
          0.58644,
          0.60662,
          0.59377,
          0.59754,
          0.59488,
          0.59388,
          0.52604,
          0.54952,
          0.59157,
          0.59011,
          0.58883,
          0.58479,
          0.58932,
          0.5795,
          0.58658,
          0.59675,
          0.58573,
          0.5919,
          0.58065,
          0.59131,
          0.58256,
          0.61219,
          0.60494,
          0.61114,
          0.60859,
          0.60211,
          0.59981,
          0.60566,
          0.60041,
          0.59553,
          0.59261,
          0.59312,
          0.58983,
          0.58559,
          0.58648,
          0.58644,
          0.58504,
          0.59572,
          0.58951,
          0.59596,
          0.58876,
          0.59661,
          0.59756,
          0.57696,
          0.58456,
          0.60337,
          0.60349,
          0.61133,
          0.5945,
          0.60806,
          0.59107,
          0.59941,
          0.59499,
          0.58601,
          0.57755,
          0.59177,
          0.59051,
          0.59285,
          0.59381,
          0.60588,
          0.60904,
          0.60393,
          0.59584,
          0.60945,
          0.59902,
          0.59806,
          0.60103,
          0.58982,
          0.61001,
          0.60284,
          0.58693,
          0.61245,
          0.60112,
          0.60649,
          0.60593,
          0.59126,
          0.60648,
          0.58869,
          0.60573,
          0.58788,
          0.60406,
          0.57794,
          0.59884,
          0.60158,
          0.58572,
          0.58816,
          0.61108,
          0.59213,
          0.59308,
          0.58967,
          0.58121,
          0.59918,
          0.59949,
          0.64157,
          0.62021,
          0.62986,
          0.61907,
          0.61958
         ]
        },
        {
         "line": {
          "shape": "spline"
         },
         "mode": "lines",
         "name": "offline_4,5,6_video2",
         "type": "scatter",
         "x": [
          501,
          502,
          503,
          504,
          505,
          506,
          507,
          508,
          509,
          510,
          511,
          512,
          513,
          514,
          515,
          516,
          517,
          518,
          519,
          520,
          521,
          522,
          523,
          524,
          525,
          526,
          527,
          528,
          529,
          530,
          531,
          532,
          533,
          534,
          535,
          536,
          537,
          538,
          539,
          540,
          541,
          542,
          543,
          545,
          544,
          546,
          547,
          548,
          549,
          550,
          551,
          552,
          553,
          554,
          555,
          556,
          557,
          559,
          560,
          561,
          562,
          563,
          564,
          565,
          566,
          567,
          568,
          569,
          570,
          571,
          572,
          573
         ],
         "y": [
          0.59982,
          0.613,
          0.54876,
          0.54143,
          0.55302,
          0.56165,
          0.55306,
          0.57604,
          0.57841,
          0.57158,
          0.57262,
          0.5794,
          0.5731,
          0.58629,
          0.57791,
          0.58793,
          0.58388,
          0.56495,
          0.57162,
          0.59312,
          0.59426,
          0.60798,
          0.58855,
          0.59844,
          0.58179,
          0.59061,
          0.58615,
          0.57527,
          0.56963,
          0.58013,
          0.5814,
          0.58719,
          0.59432,
          0.60736,
          0.60414,
          0.59798,
          0.59024,
          0.60456,
          0.59503,
          0.59165,
          0.60102,
          0.58643,
          0.61389,
          0.57629,
          0.58713,
          0.61943,
          0.59283,
          0.61198,
          0.60527,
          0.58538,
          0.59477,
          0.5822,
          0.60699,
          0.57863,
          0.58196,
          0.57109,
          0.56368,
          0.58776,
          0.57492,
          0.58895,
          0.60783,
          0.57929,
          0.58439,
          0.5839,
          0.56828,
          0.57374,
          0.52452,
          0.564,
          0.55197,
          0.5674,
          0.5795,
          0.56056
         ]
        }
       ],
       "layout": {
        "template": {
         "data": {
          "bar": [
           {
            "error_x": {
             "color": "#2a3f5f"
            },
            "error_y": {
             "color": "#2a3f5f"
            },
            "marker": {
             "line": {
              "color": "#E5ECF6",
              "width": 0.5
             }
            },
            "type": "bar"
           }
          ],
          "barpolar": [
           {
            "marker": {
             "line": {
              "color": "#E5ECF6",
              "width": 0.5
             }
            },
            "type": "barpolar"
           }
          ],
          "carpet": [
           {
            "aaxis": {
             "endlinecolor": "#2a3f5f",
             "gridcolor": "white",
             "linecolor": "white",
             "minorgridcolor": "white",
             "startlinecolor": "#2a3f5f"
            },
            "baxis": {
             "endlinecolor": "#2a3f5f",
             "gridcolor": "white",
             "linecolor": "white",
             "minorgridcolor": "white",
             "startlinecolor": "#2a3f5f"
            },
            "type": "carpet"
           }
          ],
          "choropleth": [
           {
            "colorbar": {
             "outlinewidth": 0,
             "ticks": ""
            },
            "type": "choropleth"
           }
          ],
          "contour": [
           {
            "colorbar": {
             "outlinewidth": 0,
             "ticks": ""
            },
            "colorscale": [
             [
              0,
              "#0d0887"
             ],
             [
              0.1111111111111111,
              "#46039f"
             ],
             [
              0.2222222222222222,
              "#7201a8"
             ],
             [
              0.3333333333333333,
              "#9c179e"
             ],
             [
              0.4444444444444444,
              "#bd3786"
             ],
             [
              0.5555555555555556,
              "#d8576b"
             ],
             [
              0.6666666666666666,
              "#ed7953"
             ],
             [
              0.7777777777777778,
              "#fb9f3a"
             ],
             [
              0.8888888888888888,
              "#fdca26"
             ],
             [
              1,
              "#f0f921"
             ]
            ],
            "type": "contour"
           }
          ],
          "contourcarpet": [
           {
            "colorbar": {
             "outlinewidth": 0,
             "ticks": ""
            },
            "type": "contourcarpet"
           }
          ],
          "heatmap": [
           {
            "colorbar": {
             "outlinewidth": 0,
             "ticks": ""
            },
            "colorscale": [
             [
              0,
              "#0d0887"
             ],
             [
              0.1111111111111111,
              "#46039f"
             ],
             [
              0.2222222222222222,
              "#7201a8"
             ],
             [
              0.3333333333333333,
              "#9c179e"
             ],
             [
              0.4444444444444444,
              "#bd3786"
             ],
             [
              0.5555555555555556,
              "#d8576b"
             ],
             [
              0.6666666666666666,
              "#ed7953"
             ],
             [
              0.7777777777777778,
              "#fb9f3a"
             ],
             [
              0.8888888888888888,
              "#fdca26"
             ],
             [
              1,
              "#f0f921"
             ]
            ],
            "type": "heatmap"
           }
          ],
          "heatmapgl": [
           {
            "colorbar": {
             "outlinewidth": 0,
             "ticks": ""
            },
            "colorscale": [
             [
              0,
              "#0d0887"
             ],
             [
              0.1111111111111111,
              "#46039f"
             ],
             [
              0.2222222222222222,
              "#7201a8"
             ],
             [
              0.3333333333333333,
              "#9c179e"
             ],
             [
              0.4444444444444444,
              "#bd3786"
             ],
             [
              0.5555555555555556,
              "#d8576b"
             ],
             [
              0.6666666666666666,
              "#ed7953"
             ],
             [
              0.7777777777777778,
              "#fb9f3a"
             ],
             [
              0.8888888888888888,
              "#fdca26"
             ],
             [
              1,
              "#f0f921"
             ]
            ],
            "type": "heatmapgl"
           }
          ],
          "histogram": [
           {
            "marker": {
             "colorbar": {
              "outlinewidth": 0,
              "ticks": ""
             }
            },
            "type": "histogram"
           }
          ],
          "histogram2d": [
           {
            "colorbar": {
             "outlinewidth": 0,
             "ticks": ""
            },
            "colorscale": [
             [
              0,
              "#0d0887"
             ],
             [
              0.1111111111111111,
              "#46039f"
             ],
             [
              0.2222222222222222,
              "#7201a8"
             ],
             [
              0.3333333333333333,
              "#9c179e"
             ],
             [
              0.4444444444444444,
              "#bd3786"
             ],
             [
              0.5555555555555556,
              "#d8576b"
             ],
             [
              0.6666666666666666,
              "#ed7953"
             ],
             [
              0.7777777777777778,
              "#fb9f3a"
             ],
             [
              0.8888888888888888,
              "#fdca26"
             ],
             [
              1,
              "#f0f921"
             ]
            ],
            "type": "histogram2d"
           }
          ],
          "histogram2dcontour": [
           {
            "colorbar": {
             "outlinewidth": 0,
             "ticks": ""
            },
            "colorscale": [
             [
              0,
              "#0d0887"
             ],
             [
              0.1111111111111111,
              "#46039f"
             ],
             [
              0.2222222222222222,
              "#7201a8"
             ],
             [
              0.3333333333333333,
              "#9c179e"
             ],
             [
              0.4444444444444444,
              "#bd3786"
             ],
             [
              0.5555555555555556,
              "#d8576b"
             ],
             [
              0.6666666666666666,
              "#ed7953"
             ],
             [
              0.7777777777777778,
              "#fb9f3a"
             ],
             [
              0.8888888888888888,
              "#fdca26"
             ],
             [
              1,
              "#f0f921"
             ]
            ],
            "type": "histogram2dcontour"
           }
          ],
          "mesh3d": [
           {
            "colorbar": {
             "outlinewidth": 0,
             "ticks": ""
            },
            "type": "mesh3d"
           }
          ],
          "parcoords": [
           {
            "line": {
             "colorbar": {
              "outlinewidth": 0,
              "ticks": ""
             }
            },
            "type": "parcoords"
           }
          ],
          "scatter": [
           {
            "marker": {
             "colorbar": {
              "outlinewidth": 0,
              "ticks": ""
             }
            },
            "type": "scatter"
           }
          ],
          "scatter3d": [
           {
            "line": {
             "colorbar": {
              "outlinewidth": 0,
              "ticks": ""
             }
            },
            "marker": {
             "colorbar": {
              "outlinewidth": 0,
              "ticks": ""
             }
            },
            "type": "scatter3d"
           }
          ],
          "scattercarpet": [
           {
            "marker": {
             "colorbar": {
              "outlinewidth": 0,
              "ticks": ""
             }
            },
            "type": "scattercarpet"
           }
          ],
          "scattergeo": [
           {
            "marker": {
             "colorbar": {
              "outlinewidth": 0,
              "ticks": ""
             }
            },
            "type": "scattergeo"
           }
          ],
          "scattergl": [
           {
            "marker": {
             "colorbar": {
              "outlinewidth": 0,
              "ticks": ""
             }
            },
            "type": "scattergl"
           }
          ],
          "scattermapbox": [
           {
            "marker": {
             "colorbar": {
              "outlinewidth": 0,
              "ticks": ""
             }
            },
            "type": "scattermapbox"
           }
          ],
          "scatterpolar": [
           {
            "marker": {
             "colorbar": {
              "outlinewidth": 0,
              "ticks": ""
             }
            },
            "type": "scatterpolar"
           }
          ],
          "scatterpolargl": [
           {
            "marker": {
             "colorbar": {
              "outlinewidth": 0,
              "ticks": ""
             }
            },
            "type": "scatterpolargl"
           }
          ],
          "scatterternary": [
           {
            "marker": {
             "colorbar": {
              "outlinewidth": 0,
              "ticks": ""
             }
            },
            "type": "scatterternary"
           }
          ],
          "surface": [
           {
            "colorbar": {
             "outlinewidth": 0,
             "ticks": ""
            },
            "colorscale": [
             [
              0,
              "#0d0887"
             ],
             [
              0.1111111111111111,
              "#46039f"
             ],
             [
              0.2222222222222222,
              "#7201a8"
             ],
             [
              0.3333333333333333,
              "#9c179e"
             ],
             [
              0.4444444444444444,
              "#bd3786"
             ],
             [
              0.5555555555555556,
              "#d8576b"
             ],
             [
              0.6666666666666666,
              "#ed7953"
             ],
             [
              0.7777777777777778,
              "#fb9f3a"
             ],
             [
              0.8888888888888888,
              "#fdca26"
             ],
             [
              1,
              "#f0f921"
             ]
            ],
            "type": "surface"
           }
          ],
          "table": [
           {
            "cells": {
             "fill": {
              "color": "#EBF0F8"
             },
             "line": {
              "color": "white"
             }
            },
            "header": {
             "fill": {
              "color": "#C8D4E3"
             },
             "line": {
              "color": "white"
             }
            },
            "type": "table"
           }
          ]
         },
         "layout": {
          "annotationdefaults": {
           "arrowcolor": "#2a3f5f",
           "arrowhead": 0,
           "arrowwidth": 1
          },
          "colorscale": {
           "diverging": [
            [
             0,
             "#8e0152"
            ],
            [
             0.1,
             "#c51b7d"
            ],
            [
             0.2,
             "#de77ae"
            ],
            [
             0.3,
             "#f1b6da"
            ],
            [
             0.4,
             "#fde0ef"
            ],
            [
             0.5,
             "#f7f7f7"
            ],
            [
             0.6,
             "#e6f5d0"
            ],
            [
             0.7,
             "#b8e186"
            ],
            [
             0.8,
             "#7fbc41"
            ],
            [
             0.9,
             "#4d9221"
            ],
            [
             1,
             "#276419"
            ]
           ],
           "sequential": [
            [
             0,
             "#0d0887"
            ],
            [
             0.1111111111111111,
             "#46039f"
            ],
            [
             0.2222222222222222,
             "#7201a8"
            ],
            [
             0.3333333333333333,
             "#9c179e"
            ],
            [
             0.4444444444444444,
             "#bd3786"
            ],
            [
             0.5555555555555556,
             "#d8576b"
            ],
            [
             0.6666666666666666,
             "#ed7953"
            ],
            [
             0.7777777777777778,
             "#fb9f3a"
            ],
            [
             0.8888888888888888,
             "#fdca26"
            ],
            [
             1,
             "#f0f921"
            ]
           ],
           "sequentialminus": [
            [
             0,
             "#0d0887"
            ],
            [
             0.1111111111111111,
             "#46039f"
            ],
            [
             0.2222222222222222,
             "#7201a8"
            ],
            [
             0.3333333333333333,
             "#9c179e"
            ],
            [
             0.4444444444444444,
             "#bd3786"
            ],
            [
             0.5555555555555556,
             "#d8576b"
            ],
            [
             0.6666666666666666,
             "#ed7953"
            ],
            [
             0.7777777777777778,
             "#fb9f3a"
            ],
            [
             0.8888888888888888,
             "#fdca26"
            ],
            [
             1,
             "#f0f921"
            ]
           ]
          },
          "colorway": [
           "#636efa",
           "#EF553B",
           "#00cc96",
           "#ab63fa",
           "#FFA15A",
           "#19d3f3",
           "#FF6692",
           "#B6E880",
           "#FF97FF",
           "#FECB52"
          ],
          "font": {
           "color": "#2a3f5f"
          },
          "geo": {
           "bgcolor": "white",
           "lakecolor": "white",
           "landcolor": "#E5ECF6",
           "showlakes": true,
           "showland": true,
           "subunitcolor": "white"
          },
          "hoverlabel": {
           "align": "left"
          },
          "hovermode": "closest",
          "mapbox": {
           "style": "light"
          },
          "paper_bgcolor": "white",
          "plot_bgcolor": "#E5ECF6",
          "polar": {
           "angularaxis": {
            "gridcolor": "white",
            "linecolor": "white",
            "ticks": ""
           },
           "bgcolor": "#E5ECF6",
           "radialaxis": {
            "gridcolor": "white",
            "linecolor": "white",
            "ticks": ""
           }
          },
          "scene": {
           "xaxis": {
            "backgroundcolor": "#E5ECF6",
            "gridcolor": "white",
            "gridwidth": 2,
            "linecolor": "white",
            "showbackground": true,
            "ticks": "",
            "zerolinecolor": "white"
           },
           "yaxis": {
            "backgroundcolor": "#E5ECF6",
            "gridcolor": "white",
            "gridwidth": 2,
            "linecolor": "white",
            "showbackground": true,
            "ticks": "",
            "zerolinecolor": "white"
           },
           "zaxis": {
            "backgroundcolor": "#E5ECF6",
            "gridcolor": "white",
            "gridwidth": 2,
            "linecolor": "white",
            "showbackground": true,
            "ticks": "",
            "zerolinecolor": "white"
           }
          },
          "shapedefaults": {
           "line": {
            "color": "#2a3f5f"
           }
          },
          "ternary": {
           "aaxis": {
            "gridcolor": "white",
            "linecolor": "white",
            "ticks": ""
           },
           "baxis": {
            "gridcolor": "white",
            "linecolor": "white",
            "ticks": ""
           },
           "bgcolor": "#E5ECF6",
           "caxis": {
            "gridcolor": "white",
            "linecolor": "white",
            "ticks": ""
           }
          },
          "title": {
           "x": 0.05
          },
          "xaxis": {
           "automargin": true,
           "gridcolor": "white",
           "linecolor": "white",
           "ticks": "",
           "zerolinecolor": "white",
           "zerolinewidth": 2
          },
          "yaxis": {
           "automargin": true,
           "gridcolor": "white",
           "linecolor": "white",
           "ticks": "",
           "zerolinecolor": "white",
           "zerolinewidth": 2
          }
         }
        }
       }
      },
      "text/html": [
       "<div>\n",
       "        \n",
       "        \n",
       "            <div id=\"f8c24aa6-f5ed-4189-b38a-c121085866d1\" class=\"plotly-graph-div\" style=\"height:525px; width:100%;\"></div>\n",
       "            <script type=\"text/javascript\">\n",
       "                require([\"plotly\"], function(Plotly) {\n",
       "                    window.PLOTLYENV=window.PLOTLYENV || {};\n",
       "                    \n",
       "                if (document.getElementById(\"f8c24aa6-f5ed-4189-b38a-c121085866d1\")) {\n",
       "                    Plotly.newPlot(\n",
       "                        'f8c24aa6-f5ed-4189-b38a-c121085866d1',\n",
       "                        [{\"line\": {\"shape\": \"spline\"}, \"mode\": \"lines\", \"name\": \"offline_4,5,6_video\", \"type\": \"scatter\", \"x\": [290, 295, 296, 297, 298, 300, 301, 302, 303, 304, 305, 306, 307, 308, 309, 310, 311, 312, 314, 315, 316, 317, 318, 319, 320, 321, 322, 323, 324, 325, 326, 327, 328, 329, 330, 331, 333, 334, 335, 336, 338, 339, 340, 342, 341, 344, 345, 346, 347, 348, 349, 350, 351, 352, 354, 359, 360, 363, 358, 361, 357, 362, 353, 364, 365, 366, 367, 368, 369, 371, 372, 373, 374, 375, 376, 377, 378, 379, 380, 381, 382, 383, 384, 385, 386, 387, 388, 389, 390, 391, 392, 393, 394, 395, 396, 397, 398, 399, 400, 401, 402, 403, 404, 405, 406, 407, 408, 409, 410, 411, 413, 414, 415, 416, 417, 418, 419, 420, 421, 422, 423, 424, 425, 426, 427, 428, 429, 430, 431, 432, 433, 434, 435, 436, 437, 438, 439, 440, 441, 442, 443, 444, 445, 446, 447, 448, 449, 450, 451, 452, 453, 454, 455, 456, 457, 458, 459, 460, 462, 461, 463, 464, 465, 466, 467, 468, 469, 470, 471, 472, 473, 474, 475, 476, 477, 478, 479, 480, 481, 482, 483, 484, 485, 486, 487, 488, 489, 490, 491, 492, 493, 494, 495, 496, 497, 498, 499, 500, 501, 502, 503, 504, 505, 506, 507, 508, 509, 510, 511, 512, 513, 514, 515, 516, 517, 518, 519, 520, 521, 522, 523, 524, 525, 526, 527, 528, 529, 530, 531, 532, 533, 534, 535, 536, 537, 538, 539, 540, 541, 542, 543, 544, 545, 546, 547, 548, 549, 550, 551, 552, 553, 554, 555, 556, 557, 559, 560, 561, 562, 563, 564, 565, 566, 567, 568, 569, 570, 571, 572, 573], \"y\": [0.55592, 0.5578, 0.57772, 0.56066, 0.57721, 0.5809, 0.57654, 0.5806, 0.56609, 0.57715, 0.5869, 0.58701, 0.57327, 0.57654, 0.57019, 0.6153, 0.60415, 0.6087, 0.60961, 0.60091, 0.60474, 0.59955, 0.60662, 0.60908, 0.60468, 0.60274, 0.61462, 0.58202, 0.58613, 0.5841, 0.57868, 0.5875, 0.58325, 0.59475, 0.59946, 0.58805, 0.61024, 0.61573, 0.61051, 0.61819, 0.60105, 0.61623, 0.61811, 0.61671, 0.61214, 0.61112, 0.62115, 0.61854, 0.61273, 0.61289, 0.61148, 0.60768, 0.62846, 0.61747, 0.62172, 0.63868, 0.6135, 0.61398, 0.61707, 0.61142, 0.62239, 0.61862, 0.6052, 0.60904, 0.61286, 0.61296, 0.6117, 0.60641, 0.61702, 0.61795, 0.61129, 0.60068, 0.61314, 0.60206, 0.61157, 0.6297, 0.63399, 0.63504, 0.6378, 0.62056, 0.61035, 0.62247, 0.60599, 0.6064, 0.6097, 0.61237, 0.60015, 0.61208, 0.60613, 0.60483, 0.60863, 0.60746, 0.61269, 0.60558, 0.61542, 0.60049, 0.60733, 0.61319, 0.62224, 0.62191, 0.62544, 0.63558, 0.61888, 0.61571, 0.61685, 0.62663, 0.61979, 0.612, 0.60587, 0.61257, 0.60079, 0.61255, 0.59641, 0.60524, 0.59913, 0.61642, 0.59963, 0.60355, 0.59843, 0.59798, 0.60114, 0.59203, 0.59631, 0.60377, 0.59751, 0.59621, 0.60614, 0.59623, 0.59426, 0.59734, 0.60018, 0.59427, 0.58547, 0.58282, 0.57486, 0.5918, 0.57729, 0.58466, 0.58726, 0.59412, 0.59124, 0.59378, 0.58653, 0.5632, 0.58589, 0.60287, 0.57386, 0.61231, 0.58892, 0.58949, 0.6051, 0.60227, 0.59173, 0.58828, 0.58515, 0.59782, 0.60048, 0.59689, 0.60646, 0.58832, 0.60329, 0.60201, 0.59507, 0.59538, 0.58671, 0.59607, 0.5896, 0.58573, 0.58767, 0.58383, 0.59321, 0.61885, 0.58644, 0.60662, 0.59377, 0.59754, 0.59488, 0.59388, 0.52604, 0.54952, 0.59157, 0.59011, 0.58883, 0.58479, 0.58932, 0.5795, 0.58658, 0.59675, 0.58573, 0.5919, 0.58065, 0.59131, 0.58256, 0.61219, 0.60494, 0.61114, 0.60859, 0.60211, 0.59981, 0.60566, 0.60041, 0.59553, 0.59261, 0.59312, 0.58983, 0.58559, 0.58648, 0.58644, 0.58504, 0.59572, 0.58951, 0.59596, 0.58876, 0.59661, 0.59756, 0.57696, 0.58456, 0.60337, 0.60349, 0.61133, 0.5945, 0.60806, 0.59107, 0.59941, 0.59499, 0.58601, 0.57755, 0.59177, 0.59051, 0.59285, 0.59381, 0.60588, 0.60904, 0.60393, 0.59584, 0.60945, 0.59902, 0.59806, 0.60103, 0.58982, 0.61001, 0.60284, 0.58693, 0.61245, 0.60112, 0.60649, 0.60593, 0.59126, 0.60648, 0.58869, 0.60573, 0.58788, 0.60406, 0.57794, 0.59884, 0.60158, 0.58572, 0.58816, 0.61108, 0.59213, 0.59308, 0.58967, 0.58121, 0.59918, 0.59949, 0.64157, 0.62021, 0.62986, 0.61907, 0.61958]}, {\"line\": {\"shape\": \"spline\"}, \"mode\": \"lines\", \"name\": \"offline_4,5,6_video2\", \"type\": \"scatter\", \"x\": [501, 502, 503, 504, 505, 506, 507, 508, 509, 510, 511, 512, 513, 514, 515, 516, 517, 518, 519, 520, 521, 522, 523, 524, 525, 526, 527, 528, 529, 530, 531, 532, 533, 534, 535, 536, 537, 538, 539, 540, 541, 542, 543, 545, 544, 546, 547, 548, 549, 550, 551, 552, 553, 554, 555, 556, 557, 559, 560, 561, 562, 563, 564, 565, 566, 567, 568, 569, 570, 571, 572, 573], \"y\": [0.59982, 0.613, 0.54876, 0.54143, 0.55302, 0.56165, 0.55306, 0.57604, 0.57841, 0.57158, 0.57262, 0.5794, 0.5731, 0.58629, 0.57791, 0.58793, 0.58388, 0.56495, 0.57162, 0.59312, 0.59426, 0.60798, 0.58855, 0.59844, 0.58179, 0.59061, 0.58615, 0.57527, 0.56963, 0.58013, 0.5814, 0.58719, 0.59432, 0.60736, 0.60414, 0.59798, 0.59024, 0.60456, 0.59503, 0.59165, 0.60102, 0.58643, 0.61389, 0.57629, 0.58713, 0.61943, 0.59283, 0.61198, 0.60527, 0.58538, 0.59477, 0.5822, 0.60699, 0.57863, 0.58196, 0.57109, 0.56368, 0.58776, 0.57492, 0.58895, 0.60783, 0.57929, 0.58439, 0.5839, 0.56828, 0.57374, 0.52452, 0.564, 0.55197, 0.5674, 0.5795, 0.56056]}],\n",
       "                        {\"template\": {\"data\": {\"bar\": [{\"error_x\": {\"color\": \"#2a3f5f\"}, \"error_y\": {\"color\": \"#2a3f5f\"}, \"marker\": {\"line\": {\"color\": \"#E5ECF6\", \"width\": 0.5}}, \"type\": \"bar\"}], \"barpolar\": [{\"marker\": {\"line\": {\"color\": \"#E5ECF6\", \"width\": 0.5}}, \"type\": \"barpolar\"}], \"carpet\": [{\"aaxis\": {\"endlinecolor\": \"#2a3f5f\", \"gridcolor\": \"white\", \"linecolor\": \"white\", \"minorgridcolor\": \"white\", \"startlinecolor\": \"#2a3f5f\"}, \"baxis\": {\"endlinecolor\": \"#2a3f5f\", \"gridcolor\": \"white\", \"linecolor\": \"white\", \"minorgridcolor\": \"white\", \"startlinecolor\": \"#2a3f5f\"}, \"type\": \"carpet\"}], \"choropleth\": [{\"colorbar\": {\"outlinewidth\": 0, \"ticks\": \"\"}, \"type\": \"choropleth\"}], \"contour\": [{\"colorbar\": {\"outlinewidth\": 0, \"ticks\": \"\"}, \"colorscale\": [[0.0, \"#0d0887\"], [0.1111111111111111, \"#46039f\"], [0.2222222222222222, \"#7201a8\"], [0.3333333333333333, \"#9c179e\"], [0.4444444444444444, \"#bd3786\"], [0.5555555555555556, \"#d8576b\"], [0.6666666666666666, \"#ed7953\"], [0.7777777777777778, \"#fb9f3a\"], [0.8888888888888888, \"#fdca26\"], [1.0, \"#f0f921\"]], \"type\": \"contour\"}], \"contourcarpet\": [{\"colorbar\": {\"outlinewidth\": 0, \"ticks\": \"\"}, \"type\": \"contourcarpet\"}], \"heatmap\": [{\"colorbar\": {\"outlinewidth\": 0, \"ticks\": \"\"}, \"colorscale\": [[0.0, \"#0d0887\"], [0.1111111111111111, \"#46039f\"], [0.2222222222222222, \"#7201a8\"], [0.3333333333333333, \"#9c179e\"], [0.4444444444444444, \"#bd3786\"], [0.5555555555555556, \"#d8576b\"], [0.6666666666666666, \"#ed7953\"], [0.7777777777777778, \"#fb9f3a\"], [0.8888888888888888, \"#fdca26\"], [1.0, \"#f0f921\"]], \"type\": \"heatmap\"}], \"heatmapgl\": [{\"colorbar\": {\"outlinewidth\": 0, \"ticks\": \"\"}, \"colorscale\": [[0.0, \"#0d0887\"], [0.1111111111111111, \"#46039f\"], [0.2222222222222222, \"#7201a8\"], [0.3333333333333333, \"#9c179e\"], [0.4444444444444444, \"#bd3786\"], [0.5555555555555556, \"#d8576b\"], [0.6666666666666666, \"#ed7953\"], [0.7777777777777778, \"#fb9f3a\"], [0.8888888888888888, \"#fdca26\"], [1.0, \"#f0f921\"]], \"type\": \"heatmapgl\"}], \"histogram\": [{\"marker\": {\"colorbar\": {\"outlinewidth\": 0, \"ticks\": \"\"}}, \"type\": \"histogram\"}], \"histogram2d\": [{\"colorbar\": {\"outlinewidth\": 0, \"ticks\": \"\"}, \"colorscale\": [[0.0, \"#0d0887\"], [0.1111111111111111, \"#46039f\"], [0.2222222222222222, \"#7201a8\"], [0.3333333333333333, \"#9c179e\"], [0.4444444444444444, \"#bd3786\"], [0.5555555555555556, \"#d8576b\"], [0.6666666666666666, \"#ed7953\"], [0.7777777777777778, \"#fb9f3a\"], [0.8888888888888888, \"#fdca26\"], [1.0, \"#f0f921\"]], \"type\": \"histogram2d\"}], \"histogram2dcontour\": [{\"colorbar\": {\"outlinewidth\": 0, \"ticks\": \"\"}, \"colorscale\": [[0.0, \"#0d0887\"], [0.1111111111111111, \"#46039f\"], [0.2222222222222222, \"#7201a8\"], [0.3333333333333333, \"#9c179e\"], [0.4444444444444444, \"#bd3786\"], [0.5555555555555556, \"#d8576b\"], [0.6666666666666666, \"#ed7953\"], [0.7777777777777778, \"#fb9f3a\"], [0.8888888888888888, \"#fdca26\"], [1.0, \"#f0f921\"]], \"type\": \"histogram2dcontour\"}], \"mesh3d\": [{\"colorbar\": {\"outlinewidth\": 0, \"ticks\": \"\"}, \"type\": \"mesh3d\"}], \"parcoords\": [{\"line\": {\"colorbar\": {\"outlinewidth\": 0, \"ticks\": \"\"}}, \"type\": \"parcoords\"}], \"scatter\": [{\"marker\": {\"colorbar\": {\"outlinewidth\": 0, \"ticks\": \"\"}}, \"type\": \"scatter\"}], \"scatter3d\": [{\"line\": {\"colorbar\": {\"outlinewidth\": 0, \"ticks\": \"\"}}, \"marker\": {\"colorbar\": {\"outlinewidth\": 0, \"ticks\": \"\"}}, \"type\": \"scatter3d\"}], \"scattercarpet\": [{\"marker\": {\"colorbar\": {\"outlinewidth\": 0, \"ticks\": \"\"}}, \"type\": \"scattercarpet\"}], \"scattergeo\": [{\"marker\": {\"colorbar\": {\"outlinewidth\": 0, \"ticks\": \"\"}}, \"type\": \"scattergeo\"}], \"scattergl\": [{\"marker\": {\"colorbar\": {\"outlinewidth\": 0, \"ticks\": \"\"}}, \"type\": \"scattergl\"}], \"scattermapbox\": [{\"marker\": {\"colorbar\": {\"outlinewidth\": 0, \"ticks\": \"\"}}, \"type\": \"scattermapbox\"}], \"scatterpolar\": [{\"marker\": {\"colorbar\": {\"outlinewidth\": 0, \"ticks\": \"\"}}, \"type\": \"scatterpolar\"}], \"scatterpolargl\": [{\"marker\": {\"colorbar\": {\"outlinewidth\": 0, \"ticks\": \"\"}}, \"type\": \"scatterpolargl\"}], \"scatterternary\": [{\"marker\": {\"colorbar\": {\"outlinewidth\": 0, \"ticks\": \"\"}}, \"type\": \"scatterternary\"}], \"surface\": [{\"colorbar\": {\"outlinewidth\": 0, \"ticks\": \"\"}, \"colorscale\": [[0.0, \"#0d0887\"], [0.1111111111111111, \"#46039f\"], [0.2222222222222222, \"#7201a8\"], [0.3333333333333333, \"#9c179e\"], [0.4444444444444444, \"#bd3786\"], [0.5555555555555556, \"#d8576b\"], [0.6666666666666666, \"#ed7953\"], [0.7777777777777778, \"#fb9f3a\"], [0.8888888888888888, \"#fdca26\"], [1.0, \"#f0f921\"]], \"type\": \"surface\"}], \"table\": [{\"cells\": {\"fill\": {\"color\": \"#EBF0F8\"}, \"line\": {\"color\": \"white\"}}, \"header\": {\"fill\": {\"color\": \"#C8D4E3\"}, \"line\": {\"color\": \"white\"}}, \"type\": \"table\"}]}, \"layout\": {\"annotationdefaults\": {\"arrowcolor\": \"#2a3f5f\", \"arrowhead\": 0, \"arrowwidth\": 1}, \"colorscale\": {\"diverging\": [[0, \"#8e0152\"], [0.1, \"#c51b7d\"], [0.2, \"#de77ae\"], [0.3, \"#f1b6da\"], [0.4, \"#fde0ef\"], [0.5, \"#f7f7f7\"], [0.6, \"#e6f5d0\"], [0.7, \"#b8e186\"], [0.8, \"#7fbc41\"], [0.9, \"#4d9221\"], [1, \"#276419\"]], \"sequential\": [[0.0, \"#0d0887\"], [0.1111111111111111, \"#46039f\"], [0.2222222222222222, \"#7201a8\"], [0.3333333333333333, \"#9c179e\"], [0.4444444444444444, \"#bd3786\"], [0.5555555555555556, \"#d8576b\"], [0.6666666666666666, \"#ed7953\"], [0.7777777777777778, \"#fb9f3a\"], [0.8888888888888888, \"#fdca26\"], [1.0, \"#f0f921\"]], \"sequentialminus\": [[0.0, \"#0d0887\"], [0.1111111111111111, \"#46039f\"], [0.2222222222222222, \"#7201a8\"], [0.3333333333333333, \"#9c179e\"], [0.4444444444444444, \"#bd3786\"], [0.5555555555555556, \"#d8576b\"], [0.6666666666666666, \"#ed7953\"], [0.7777777777777778, \"#fb9f3a\"], [0.8888888888888888, \"#fdca26\"], [1.0, \"#f0f921\"]]}, \"colorway\": [\"#636efa\", \"#EF553B\", \"#00cc96\", \"#ab63fa\", \"#FFA15A\", \"#19d3f3\", \"#FF6692\", \"#B6E880\", \"#FF97FF\", \"#FECB52\"], \"font\": {\"color\": \"#2a3f5f\"}, \"geo\": {\"bgcolor\": \"white\", \"lakecolor\": \"white\", \"landcolor\": \"#E5ECF6\", \"showlakes\": true, \"showland\": true, \"subunitcolor\": \"white\"}, \"hoverlabel\": {\"align\": \"left\"}, \"hovermode\": \"closest\", \"mapbox\": {\"style\": \"light\"}, \"paper_bgcolor\": \"white\", \"plot_bgcolor\": \"#E5ECF6\", \"polar\": {\"angularaxis\": {\"gridcolor\": \"white\", \"linecolor\": \"white\", \"ticks\": \"\"}, \"bgcolor\": \"#E5ECF6\", \"radialaxis\": {\"gridcolor\": \"white\", \"linecolor\": \"white\", \"ticks\": \"\"}}, \"scene\": {\"xaxis\": {\"backgroundcolor\": \"#E5ECF6\", \"gridcolor\": \"white\", \"gridwidth\": 2, \"linecolor\": \"white\", \"showbackground\": true, \"ticks\": \"\", \"zerolinecolor\": \"white\"}, \"yaxis\": {\"backgroundcolor\": \"#E5ECF6\", \"gridcolor\": \"white\", \"gridwidth\": 2, \"linecolor\": \"white\", \"showbackground\": true, \"ticks\": \"\", \"zerolinecolor\": \"white\"}, \"zaxis\": {\"backgroundcolor\": \"#E5ECF6\", \"gridcolor\": \"white\", \"gridwidth\": 2, \"linecolor\": \"white\", \"showbackground\": true, \"ticks\": \"\", \"zerolinecolor\": \"white\"}}, \"shapedefaults\": {\"line\": {\"color\": \"#2a3f5f\"}}, \"ternary\": {\"aaxis\": {\"gridcolor\": \"white\", \"linecolor\": \"white\", \"ticks\": \"\"}, \"baxis\": {\"gridcolor\": \"white\", \"linecolor\": \"white\", \"ticks\": \"\"}, \"bgcolor\": \"#E5ECF6\", \"caxis\": {\"gridcolor\": \"white\", \"linecolor\": \"white\", \"ticks\": \"\"}}, \"title\": {\"x\": 0.05}, \"xaxis\": {\"automargin\": true, \"gridcolor\": \"white\", \"linecolor\": \"white\", \"ticks\": \"\", \"zerolinecolor\": \"white\", \"zerolinewidth\": 2}, \"yaxis\": {\"automargin\": true, \"gridcolor\": \"white\", \"linecolor\": \"white\", \"ticks\": \"\", \"zerolinecolor\": \"white\", \"zerolinewidth\": 2}}}},\n",
       "                        {\"responsive\": true}\n",
       "                    ).then(function(){\n",
       "                            \n",
       "var gd = document.getElementById('f8c24aa6-f5ed-4189-b38a-c121085866d1');\n",
       "var x = new MutationObserver(function (mutations, observer) {{\n",
       "        var display = window.getComputedStyle(gd).display;\n",
       "        if (!display || display === 'none') {{\n",
       "            console.log([gd, 'removed!']);\n",
       "            Plotly.purge(gd);\n",
       "            observer.disconnect();\n",
       "        }}\n",
       "}});\n",
       "\n",
       "// Listen for the removal of the full notebook cells\n",
       "var notebookContainer = gd.closest('#notebook-container');\n",
       "if (notebookContainer) {{\n",
       "    x.observe(notebookContainer, {childList: true});\n",
       "}}\n",
       "\n",
       "// Listen for the clearing of the current output cell\n",
       "var outputEl = gd.closest('.output');\n",
       "if (outputEl) {{\n",
       "    x.observe(outputEl, {childList: true});\n",
       "}}\n",
       "\n",
       "                        })\n",
       "                };\n",
       "                });\n",
       "            </script>\n",
       "        </div>"
      ]
     },
     "metadata": {},
     "output_type": "display_data"
    }
   ],
   "source": [
    "show('group/auc')"
   ]
  },
  {
   "cell_type": "code",
   "execution_count": 25,
   "metadata": {},
   "outputs": [
    {
     "data": {
      "application/vnd.plotly.v1+json": {
       "config": {
        "linkText": "Export to plot.ly",
        "plotlyServerURL": "https://plot.ly",
        "showLink": false
       },
       "data": [
        {
         "line": {
          "shape": "spline"
         },
         "mode": "lines",
         "name": "offline_4,5,6_video",
         "type": "scatter",
         "x": [
          290,
          295,
          296,
          297,
          298,
          300,
          301,
          302,
          303,
          304,
          305,
          306,
          307,
          308,
          309,
          310,
          311,
          312,
          314,
          315,
          316,
          317,
          318,
          319,
          320,
          321,
          322,
          323,
          324,
          325,
          326,
          327,
          328,
          329,
          330,
          331,
          333,
          334,
          335,
          336,
          338,
          339,
          340,
          342,
          341,
          344,
          345,
          346,
          347,
          348,
          349,
          350,
          351,
          352,
          354,
          359,
          360,
          363,
          358,
          361,
          357,
          362,
          353,
          364,
          365,
          366,
          367,
          368,
          369,
          371,
          372,
          373,
          374,
          375,
          376,
          377,
          378,
          379,
          380,
          381,
          382,
          383,
          384,
          385,
          386,
          387,
          388,
          389,
          390,
          391,
          392,
          393,
          394,
          395,
          396,
          397,
          398,
          399,
          400,
          401,
          402,
          403,
          404,
          405,
          406,
          407,
          408,
          409,
          410,
          411,
          413,
          414,
          415,
          416,
          417,
          418,
          419,
          420,
          421,
          422,
          423,
          424,
          425,
          426,
          427,
          428,
          429,
          430,
          431,
          432,
          433,
          434,
          435,
          436,
          437,
          438,
          439,
          440,
          441,
          442,
          443,
          444,
          445,
          446,
          447,
          448,
          449,
          450,
          451,
          452,
          453,
          454,
          455,
          456,
          457,
          458,
          459,
          460,
          462,
          461,
          463,
          464,
          465,
          466,
          467,
          468,
          469,
          470,
          471,
          472,
          473,
          474,
          475,
          476,
          477,
          478,
          479,
          480,
          481,
          482,
          483,
          484,
          485,
          486,
          487,
          488,
          489,
          490,
          491,
          492,
          493,
          494,
          495,
          496,
          497,
          498,
          499,
          500,
          501,
          502,
          503,
          504,
          505,
          506,
          507,
          508,
          509,
          510,
          511,
          512,
          513,
          514,
          515,
          516,
          517,
          518,
          519,
          520,
          521,
          522,
          523,
          524,
          525,
          526,
          527,
          528,
          529,
          530,
          531,
          532,
          533,
          534,
          535,
          536,
          537,
          538,
          539,
          540,
          541,
          542,
          543,
          544,
          545,
          546,
          547,
          548,
          549,
          550,
          551,
          552,
          553,
          554,
          555,
          556,
          557,
          559,
          560,
          561,
          562,
          563,
          564,
          565,
          566,
          567,
          568,
          569,
          570,
          571,
          572,
          573
         ],
         "y": [
          0.57531,
          0.57505,
          0.57551,
          0.57122,
          0.5756,
          0.58259,
          0.58038,
          0.57705,
          0.57822,
          0.54533,
          0.55403,
          0.54398,
          0.55773,
          0.55215,
          0.54551,
          0.52105,
          0.51108,
          0.52991,
          0.54154,
          0.53958,
          0.54455,
          0.55143,
          0.55099,
          0.55472,
          0.55819,
          0.54763,
          0.54937,
          0.58255,
          0.57578,
          0.59784,
          0.60389,
          0.57947,
          0.57123,
          0.53538,
          0.54674,
          0.57758,
          0.5399,
          0.53774,
          0.5734,
          0.55206,
          0.55225,
          0.55976,
          0.56295,
          0.57021,
          0.55536,
          0.56554,
          0.57044,
          0.55174,
          0.55137,
          0.5729,
          0.57701,
          0.57245,
          0.55027,
          0.52064,
          0.52372,
          0.556,
          0.55946,
          0.58263,
          0.54624,
          0.54927,
          0.53879,
          0.57278,
          0.5544,
          0.5237,
          0.54603,
          0.57485,
          0.58723,
          0.56935,
          0.57369,
          0.5706,
          0.58183,
          0.57736,
          0.59655,
          0.56613,
          0.55363,
          0.54566,
          0.53166,
          0.52029,
          0.52602,
          0.55181,
          0.5683,
          0.54911,
          0.56922,
          0.56692,
          0.58462,
          0.57856,
          0.5717,
          0.5722,
          0.55261,
          0.54989,
          0.57829,
          0.58192,
          0.57489,
          0.56022,
          0.58063,
          0.58016,
          0.57999,
          0.5598,
          0.5502,
          0.57684,
          0.57045,
          0.51579,
          0.56134,
          0.53824,
          0.57375,
          0.56471,
          0.57322,
          0.57216,
          0.57316,
          0.58133,
          0.57388,
          0.55077,
          0.55077,
          0.56481,
          0.57001,
          0.55086,
          0.555,
          0.55917,
          0.55428,
          0.58238,
          0.56443,
          0.53948,
          0.54587,
          0.5423,
          0.55301,
          0.53846,
          0.53579,
          0.55012,
          0.56729,
          0.56461,
          0.54343,
          0.55741,
          0.5645,
          0.56664,
          0.55863,
          0.55754,
          0.55645,
          0.56787,
          0.56311,
          0.5526,
          0.57449,
          0.58563,
          0.58215,
          0.58527,
          0.5367,
          0.55536,
          0.56641,
          0.54188,
          0.56463,
          0.56747,
          0.53874,
          0.55325,
          0.55401,
          0.56833,
          0.54605,
          0.53923,
          0.54568,
          0.57173,
          0.54857,
          0.55899,
          0.56906,
          0.54095,
          0.56324,
          0.56947,
          0.56422,
          0.57198,
          0.57683,
          0.58195,
          0.57417,
          0.55331,
          0.54901,
          0.53136,
          0.5585,
          0.55588,
          0.57972,
          0.55474,
          0.57808,
          0.56741,
          0.57732,
          0.50871,
          0.57586,
          0.57911,
          0.56952,
          0.57679,
          0.56679,
          0.57299,
          0.57585,
          0.57063,
          0.58241,
          0.57502,
          0.56515,
          0.58588,
          0.57495,
          0.5328,
          0.53822,
          0.51061,
          0.5453,
          0.56172,
          0.53892,
          0.56847,
          0.57064,
          0.56691,
          0.5719,
          0.57594,
          0.56611,
          0.57884,
          0.55472,
          0.55805,
          0.58174,
          0.56802,
          0.58426,
          0.56847,
          0.5706,
          0.5743,
          0.57122,
          0.57347,
          0.57588,
          0.56279,
          0.54816,
          0.56088,
          0.53841,
          0.56039,
          0.56754,
          0.55889,
          0.58382,
          0.56124,
          0.56655,
          0.56031,
          0.55634,
          0.58971,
          0.56322,
          0.57185,
          0.5572,
          0.56575,
          0.56633,
          0.56883,
          0.5716,
          0.56866,
          0.58561,
          0.57456,
          0.55682,
          0.54041,
          0.5636,
          0.55771,
          0.55048,
          0.57802,
          0.56751,
          0.57731,
          0.5591,
          0.56736,
          0.55362,
          0.58695,
          0.56244,
          0.57081,
          0.56424,
          0.55986,
          0.57217,
          0.56681,
          0.55813,
          0.5784,
          0.5697,
          0.58069,
          0.56517,
          0.56958,
          0.54606,
          0.54884,
          0.54372,
          0.53849,
          0.53933,
          0.55864
         ]
        },
        {
         "line": {
          "shape": "spline"
         },
         "mode": "lines",
         "name": "offline_4,5,6_video2",
         "type": "scatter",
         "x": [
          501,
          502,
          503,
          504,
          505,
          506,
          507,
          508,
          509,
          510,
          511,
          512,
          513,
          514,
          515,
          516,
          517,
          518,
          519,
          520,
          521,
          522,
          523,
          524,
          525,
          526,
          527,
          528,
          529,
          530,
          531,
          532,
          533,
          534,
          535,
          536,
          537,
          538,
          539,
          540,
          541,
          542,
          543,
          545,
          544,
          546,
          547,
          548,
          549,
          550,
          551,
          552,
          553,
          554,
          555,
          556,
          557,
          559,
          560,
          561,
          562,
          563,
          564,
          565,
          566,
          567,
          568,
          569,
          570,
          571,
          572,
          573
         ],
         "y": [
          0.53002,
          0.56563,
          0.56989,
          0.56473,
          0.5767,
          0.59318,
          0.58693,
          0.58185,
          0.56869,
          0.56143,
          0.5812,
          0.56923,
          0.58801,
          0.56841,
          0.57467,
          0.57781,
          0.58076,
          0.58421,
          0.58032,
          0.55205,
          0.54644,
          0.55856,
          0.53942,
          0.56457,
          0.56525,
          0.56914,
          0.5897,
          0.55765,
          0.57453,
          0.57325,
          0.56636,
          0.59945,
          0.55915,
          0.56531,
          0.55818,
          0.57469,
          0.56757,
          0.56492,
          0.56473,
          0.56859,
          0.58958,
          0.57337,
          0.56103,
          0.55533,
          0.54592,
          0.55892,
          0.53705,
          0.58348,
          0.56979,
          0.57229,
          0.56671,
          0.56698,
          0.55577,
          0.56851,
          0.55616,
          0.55445,
          0.56103,
          0.55469,
          0.57469,
          0.55583,
          0.54908,
          0.565,
          0.57361,
          0.57795,
          0.56793,
          0.57567,
          0.50959,
          0.50428,
          0.49364,
          0.52407,
          0.54729,
          0.54529
         ]
        }
       ],
       "layout": {
        "template": {
         "data": {
          "bar": [
           {
            "error_x": {
             "color": "#2a3f5f"
            },
            "error_y": {
             "color": "#2a3f5f"
            },
            "marker": {
             "line": {
              "color": "#E5ECF6",
              "width": 0.5
             }
            },
            "type": "bar"
           }
          ],
          "barpolar": [
           {
            "marker": {
             "line": {
              "color": "#E5ECF6",
              "width": 0.5
             }
            },
            "type": "barpolar"
           }
          ],
          "carpet": [
           {
            "aaxis": {
             "endlinecolor": "#2a3f5f",
             "gridcolor": "white",
             "linecolor": "white",
             "minorgridcolor": "white",
             "startlinecolor": "#2a3f5f"
            },
            "baxis": {
             "endlinecolor": "#2a3f5f",
             "gridcolor": "white",
             "linecolor": "white",
             "minorgridcolor": "white",
             "startlinecolor": "#2a3f5f"
            },
            "type": "carpet"
           }
          ],
          "choropleth": [
           {
            "colorbar": {
             "outlinewidth": 0,
             "ticks": ""
            },
            "type": "choropleth"
           }
          ],
          "contour": [
           {
            "colorbar": {
             "outlinewidth": 0,
             "ticks": ""
            },
            "colorscale": [
             [
              0,
              "#0d0887"
             ],
             [
              0.1111111111111111,
              "#46039f"
             ],
             [
              0.2222222222222222,
              "#7201a8"
             ],
             [
              0.3333333333333333,
              "#9c179e"
             ],
             [
              0.4444444444444444,
              "#bd3786"
             ],
             [
              0.5555555555555556,
              "#d8576b"
             ],
             [
              0.6666666666666666,
              "#ed7953"
             ],
             [
              0.7777777777777778,
              "#fb9f3a"
             ],
             [
              0.8888888888888888,
              "#fdca26"
             ],
             [
              1,
              "#f0f921"
             ]
            ],
            "type": "contour"
           }
          ],
          "contourcarpet": [
           {
            "colorbar": {
             "outlinewidth": 0,
             "ticks": ""
            },
            "type": "contourcarpet"
           }
          ],
          "heatmap": [
           {
            "colorbar": {
             "outlinewidth": 0,
             "ticks": ""
            },
            "colorscale": [
             [
              0,
              "#0d0887"
             ],
             [
              0.1111111111111111,
              "#46039f"
             ],
             [
              0.2222222222222222,
              "#7201a8"
             ],
             [
              0.3333333333333333,
              "#9c179e"
             ],
             [
              0.4444444444444444,
              "#bd3786"
             ],
             [
              0.5555555555555556,
              "#d8576b"
             ],
             [
              0.6666666666666666,
              "#ed7953"
             ],
             [
              0.7777777777777778,
              "#fb9f3a"
             ],
             [
              0.8888888888888888,
              "#fdca26"
             ],
             [
              1,
              "#f0f921"
             ]
            ],
            "type": "heatmap"
           }
          ],
          "heatmapgl": [
           {
            "colorbar": {
             "outlinewidth": 0,
             "ticks": ""
            },
            "colorscale": [
             [
              0,
              "#0d0887"
             ],
             [
              0.1111111111111111,
              "#46039f"
             ],
             [
              0.2222222222222222,
              "#7201a8"
             ],
             [
              0.3333333333333333,
              "#9c179e"
             ],
             [
              0.4444444444444444,
              "#bd3786"
             ],
             [
              0.5555555555555556,
              "#d8576b"
             ],
             [
              0.6666666666666666,
              "#ed7953"
             ],
             [
              0.7777777777777778,
              "#fb9f3a"
             ],
             [
              0.8888888888888888,
              "#fdca26"
             ],
             [
              1,
              "#f0f921"
             ]
            ],
            "type": "heatmapgl"
           }
          ],
          "histogram": [
           {
            "marker": {
             "colorbar": {
              "outlinewidth": 0,
              "ticks": ""
             }
            },
            "type": "histogram"
           }
          ],
          "histogram2d": [
           {
            "colorbar": {
             "outlinewidth": 0,
             "ticks": ""
            },
            "colorscale": [
             [
              0,
              "#0d0887"
             ],
             [
              0.1111111111111111,
              "#46039f"
             ],
             [
              0.2222222222222222,
              "#7201a8"
             ],
             [
              0.3333333333333333,
              "#9c179e"
             ],
             [
              0.4444444444444444,
              "#bd3786"
             ],
             [
              0.5555555555555556,
              "#d8576b"
             ],
             [
              0.6666666666666666,
              "#ed7953"
             ],
             [
              0.7777777777777778,
              "#fb9f3a"
             ],
             [
              0.8888888888888888,
              "#fdca26"
             ],
             [
              1,
              "#f0f921"
             ]
            ],
            "type": "histogram2d"
           }
          ],
          "histogram2dcontour": [
           {
            "colorbar": {
             "outlinewidth": 0,
             "ticks": ""
            },
            "colorscale": [
             [
              0,
              "#0d0887"
             ],
             [
              0.1111111111111111,
              "#46039f"
             ],
             [
              0.2222222222222222,
              "#7201a8"
             ],
             [
              0.3333333333333333,
              "#9c179e"
             ],
             [
              0.4444444444444444,
              "#bd3786"
             ],
             [
              0.5555555555555556,
              "#d8576b"
             ],
             [
              0.6666666666666666,
              "#ed7953"
             ],
             [
              0.7777777777777778,
              "#fb9f3a"
             ],
             [
              0.8888888888888888,
              "#fdca26"
             ],
             [
              1,
              "#f0f921"
             ]
            ],
            "type": "histogram2dcontour"
           }
          ],
          "mesh3d": [
           {
            "colorbar": {
             "outlinewidth": 0,
             "ticks": ""
            },
            "type": "mesh3d"
           }
          ],
          "parcoords": [
           {
            "line": {
             "colorbar": {
              "outlinewidth": 0,
              "ticks": ""
             }
            },
            "type": "parcoords"
           }
          ],
          "scatter": [
           {
            "marker": {
             "colorbar": {
              "outlinewidth": 0,
              "ticks": ""
             }
            },
            "type": "scatter"
           }
          ],
          "scatter3d": [
           {
            "line": {
             "colorbar": {
              "outlinewidth": 0,
              "ticks": ""
             }
            },
            "marker": {
             "colorbar": {
              "outlinewidth": 0,
              "ticks": ""
             }
            },
            "type": "scatter3d"
           }
          ],
          "scattercarpet": [
           {
            "marker": {
             "colorbar": {
              "outlinewidth": 0,
              "ticks": ""
             }
            },
            "type": "scattercarpet"
           }
          ],
          "scattergeo": [
           {
            "marker": {
             "colorbar": {
              "outlinewidth": 0,
              "ticks": ""
             }
            },
            "type": "scattergeo"
           }
          ],
          "scattergl": [
           {
            "marker": {
             "colorbar": {
              "outlinewidth": 0,
              "ticks": ""
             }
            },
            "type": "scattergl"
           }
          ],
          "scattermapbox": [
           {
            "marker": {
             "colorbar": {
              "outlinewidth": 0,
              "ticks": ""
             }
            },
            "type": "scattermapbox"
           }
          ],
          "scatterpolar": [
           {
            "marker": {
             "colorbar": {
              "outlinewidth": 0,
              "ticks": ""
             }
            },
            "type": "scatterpolar"
           }
          ],
          "scatterpolargl": [
           {
            "marker": {
             "colorbar": {
              "outlinewidth": 0,
              "ticks": ""
             }
            },
            "type": "scatterpolargl"
           }
          ],
          "scatterternary": [
           {
            "marker": {
             "colorbar": {
              "outlinewidth": 0,
              "ticks": ""
             }
            },
            "type": "scatterternary"
           }
          ],
          "surface": [
           {
            "colorbar": {
             "outlinewidth": 0,
             "ticks": ""
            },
            "colorscale": [
             [
              0,
              "#0d0887"
             ],
             [
              0.1111111111111111,
              "#46039f"
             ],
             [
              0.2222222222222222,
              "#7201a8"
             ],
             [
              0.3333333333333333,
              "#9c179e"
             ],
             [
              0.4444444444444444,
              "#bd3786"
             ],
             [
              0.5555555555555556,
              "#d8576b"
             ],
             [
              0.6666666666666666,
              "#ed7953"
             ],
             [
              0.7777777777777778,
              "#fb9f3a"
             ],
             [
              0.8888888888888888,
              "#fdca26"
             ],
             [
              1,
              "#f0f921"
             ]
            ],
            "type": "surface"
           }
          ],
          "table": [
           {
            "cells": {
             "fill": {
              "color": "#EBF0F8"
             },
             "line": {
              "color": "white"
             }
            },
            "header": {
             "fill": {
              "color": "#C8D4E3"
             },
             "line": {
              "color": "white"
             }
            },
            "type": "table"
           }
          ]
         },
         "layout": {
          "annotationdefaults": {
           "arrowcolor": "#2a3f5f",
           "arrowhead": 0,
           "arrowwidth": 1
          },
          "colorscale": {
           "diverging": [
            [
             0,
             "#8e0152"
            ],
            [
             0.1,
             "#c51b7d"
            ],
            [
             0.2,
             "#de77ae"
            ],
            [
             0.3,
             "#f1b6da"
            ],
            [
             0.4,
             "#fde0ef"
            ],
            [
             0.5,
             "#f7f7f7"
            ],
            [
             0.6,
             "#e6f5d0"
            ],
            [
             0.7,
             "#b8e186"
            ],
            [
             0.8,
             "#7fbc41"
            ],
            [
             0.9,
             "#4d9221"
            ],
            [
             1,
             "#276419"
            ]
           ],
           "sequential": [
            [
             0,
             "#0d0887"
            ],
            [
             0.1111111111111111,
             "#46039f"
            ],
            [
             0.2222222222222222,
             "#7201a8"
            ],
            [
             0.3333333333333333,
             "#9c179e"
            ],
            [
             0.4444444444444444,
             "#bd3786"
            ],
            [
             0.5555555555555556,
             "#d8576b"
            ],
            [
             0.6666666666666666,
             "#ed7953"
            ],
            [
             0.7777777777777778,
             "#fb9f3a"
            ],
            [
             0.8888888888888888,
             "#fdca26"
            ],
            [
             1,
             "#f0f921"
            ]
           ],
           "sequentialminus": [
            [
             0,
             "#0d0887"
            ],
            [
             0.1111111111111111,
             "#46039f"
            ],
            [
             0.2222222222222222,
             "#7201a8"
            ],
            [
             0.3333333333333333,
             "#9c179e"
            ],
            [
             0.4444444444444444,
             "#bd3786"
            ],
            [
             0.5555555555555556,
             "#d8576b"
            ],
            [
             0.6666666666666666,
             "#ed7953"
            ],
            [
             0.7777777777777778,
             "#fb9f3a"
            ],
            [
             0.8888888888888888,
             "#fdca26"
            ],
            [
             1,
             "#f0f921"
            ]
           ]
          },
          "colorway": [
           "#636efa",
           "#EF553B",
           "#00cc96",
           "#ab63fa",
           "#FFA15A",
           "#19d3f3",
           "#FF6692",
           "#B6E880",
           "#FF97FF",
           "#FECB52"
          ],
          "font": {
           "color": "#2a3f5f"
          },
          "geo": {
           "bgcolor": "white",
           "lakecolor": "white",
           "landcolor": "#E5ECF6",
           "showlakes": true,
           "showland": true,
           "subunitcolor": "white"
          },
          "hoverlabel": {
           "align": "left"
          },
          "hovermode": "closest",
          "mapbox": {
           "style": "light"
          },
          "paper_bgcolor": "white",
          "plot_bgcolor": "#E5ECF6",
          "polar": {
           "angularaxis": {
            "gridcolor": "white",
            "linecolor": "white",
            "ticks": ""
           },
           "bgcolor": "#E5ECF6",
           "radialaxis": {
            "gridcolor": "white",
            "linecolor": "white",
            "ticks": ""
           }
          },
          "scene": {
           "xaxis": {
            "backgroundcolor": "#E5ECF6",
            "gridcolor": "white",
            "gridwidth": 2,
            "linecolor": "white",
            "showbackground": true,
            "ticks": "",
            "zerolinecolor": "white"
           },
           "yaxis": {
            "backgroundcolor": "#E5ECF6",
            "gridcolor": "white",
            "gridwidth": 2,
            "linecolor": "white",
            "showbackground": true,
            "ticks": "",
            "zerolinecolor": "white"
           },
           "zaxis": {
            "backgroundcolor": "#E5ECF6",
            "gridcolor": "white",
            "gridwidth": 2,
            "linecolor": "white",
            "showbackground": true,
            "ticks": "",
            "zerolinecolor": "white"
           }
          },
          "shapedefaults": {
           "line": {
            "color": "#2a3f5f"
           }
          },
          "ternary": {
           "aaxis": {
            "gridcolor": "white",
            "linecolor": "white",
            "ticks": ""
           },
           "baxis": {
            "gridcolor": "white",
            "linecolor": "white",
            "ticks": ""
           },
           "bgcolor": "#E5ECF6",
           "caxis": {
            "gridcolor": "white",
            "linecolor": "white",
            "ticks": ""
           }
          },
          "title": {
           "x": 0.05
          },
          "xaxis": {
           "automargin": true,
           "gridcolor": "white",
           "linecolor": "white",
           "ticks": "",
           "zerolinecolor": "white",
           "zerolinewidth": 2
          },
          "yaxis": {
           "automargin": true,
           "gridcolor": "white",
           "linecolor": "white",
           "ticks": "",
           "zerolinecolor": "white",
           "zerolinewidth": 2
          }
         }
        }
       }
      },
      "text/html": [
       "<div>\n",
       "        \n",
       "        \n",
       "            <div id=\"46665372-c427-4901-b2d3-becd055790a9\" class=\"plotly-graph-div\" style=\"height:525px; width:100%;\"></div>\n",
       "            <script type=\"text/javascript\">\n",
       "                require([\"plotly\"], function(Plotly) {\n",
       "                    window.PLOTLYENV=window.PLOTLYENV || {};\n",
       "                    \n",
       "                if (document.getElementById(\"46665372-c427-4901-b2d3-becd055790a9\")) {\n",
       "                    Plotly.newPlot(\n",
       "                        '46665372-c427-4901-b2d3-becd055790a9',\n",
       "                        [{\"line\": {\"shape\": \"spline\"}, \"mode\": \"lines\", \"name\": \"offline_4,5,6_video\", \"type\": \"scatter\", \"x\": [290, 295, 296, 297, 298, 300, 301, 302, 303, 304, 305, 306, 307, 308, 309, 310, 311, 312, 314, 315, 316, 317, 318, 319, 320, 321, 322, 323, 324, 325, 326, 327, 328, 329, 330, 331, 333, 334, 335, 336, 338, 339, 340, 342, 341, 344, 345, 346, 347, 348, 349, 350, 351, 352, 354, 359, 360, 363, 358, 361, 357, 362, 353, 364, 365, 366, 367, 368, 369, 371, 372, 373, 374, 375, 376, 377, 378, 379, 380, 381, 382, 383, 384, 385, 386, 387, 388, 389, 390, 391, 392, 393, 394, 395, 396, 397, 398, 399, 400, 401, 402, 403, 404, 405, 406, 407, 408, 409, 410, 411, 413, 414, 415, 416, 417, 418, 419, 420, 421, 422, 423, 424, 425, 426, 427, 428, 429, 430, 431, 432, 433, 434, 435, 436, 437, 438, 439, 440, 441, 442, 443, 444, 445, 446, 447, 448, 449, 450, 451, 452, 453, 454, 455, 456, 457, 458, 459, 460, 462, 461, 463, 464, 465, 466, 467, 468, 469, 470, 471, 472, 473, 474, 475, 476, 477, 478, 479, 480, 481, 482, 483, 484, 485, 486, 487, 488, 489, 490, 491, 492, 493, 494, 495, 496, 497, 498, 499, 500, 501, 502, 503, 504, 505, 506, 507, 508, 509, 510, 511, 512, 513, 514, 515, 516, 517, 518, 519, 520, 521, 522, 523, 524, 525, 526, 527, 528, 529, 530, 531, 532, 533, 534, 535, 536, 537, 538, 539, 540, 541, 542, 543, 544, 545, 546, 547, 548, 549, 550, 551, 552, 553, 554, 555, 556, 557, 559, 560, 561, 562, 563, 564, 565, 566, 567, 568, 569, 570, 571, 572, 573], \"y\": [0.57531, 0.57505, 0.57551, 0.57122, 0.5756, 0.58259, 0.58038, 0.57705, 0.57822, 0.54533, 0.55403, 0.54398, 0.55773, 0.55215, 0.54551, 0.52105, 0.51108, 0.52991, 0.54154, 0.53958, 0.54455, 0.55143, 0.55099, 0.55472, 0.55819, 0.54763, 0.54937, 0.58255, 0.57578, 0.59784, 0.60389, 0.57947, 0.57123, 0.53538, 0.54674, 0.57758, 0.5399, 0.53774, 0.5734, 0.55206, 0.55225, 0.55976, 0.56295, 0.57021, 0.55536, 0.56554, 0.57044, 0.55174, 0.55137, 0.5729, 0.57701, 0.57245, 0.55027, 0.52064, 0.52372, 0.556, 0.55946, 0.58263, 0.54624, 0.54927, 0.53879, 0.57278, 0.5544, 0.5237, 0.54603, 0.57485, 0.58723, 0.56935, 0.57369, 0.5706, 0.58183, 0.57736, 0.59655, 0.56613, 0.55363, 0.54566, 0.53166, 0.52029, 0.52602, 0.55181, 0.5683, 0.54911, 0.56922, 0.56692, 0.58462, 0.57856, 0.5717, 0.5722, 0.55261, 0.54989, 0.57829, 0.58192, 0.57489, 0.56022, 0.58063, 0.58016, 0.57999, 0.5598, 0.5502, 0.57684, 0.57045, 0.51579, 0.56134, 0.53824, 0.57375, 0.56471, 0.57322, 0.57216, 0.57316, 0.58133, 0.57388, 0.55077, 0.55077, 0.56481, 0.57001, 0.55086, 0.555, 0.55917, 0.55428, 0.58238, 0.56443, 0.53948, 0.54587, 0.5423, 0.55301, 0.53846, 0.53579, 0.55012, 0.56729, 0.56461, 0.54343, 0.55741, 0.5645, 0.56664, 0.55863, 0.55754, 0.55645, 0.56787, 0.56311, 0.5526, 0.57449, 0.58563, 0.58215, 0.58527, 0.5367, 0.55536, 0.56641, 0.54188, 0.56463, 0.56747, 0.53874, 0.55325, 0.55401, 0.56833, 0.54605, 0.53923, 0.54568, 0.57173, 0.54857, 0.55899, 0.56906, 0.54095, 0.56324, 0.56947, 0.56422, 0.57198, 0.57683, 0.58195, 0.57417, 0.55331, 0.54901, 0.53136, 0.5585, 0.55588, 0.57972, 0.55474, 0.57808, 0.56741, 0.57732, 0.50871, 0.57586, 0.57911, 0.56952, 0.57679, 0.56679, 0.57299, 0.57585, 0.57063, 0.58241, 0.57502, 0.56515, 0.58588, 0.57495, 0.5328, 0.53822, 0.51061, 0.5453, 0.56172, 0.53892, 0.56847, 0.57064, 0.56691, 0.5719, 0.57594, 0.56611, 0.57884, 0.55472, 0.55805, 0.58174, 0.56802, 0.58426, 0.56847, 0.5706, 0.5743, 0.57122, 0.57347, 0.57588, 0.56279, 0.54816, 0.56088, 0.53841, 0.56039, 0.56754, 0.55889, 0.58382, 0.56124, 0.56655, 0.56031, 0.55634, 0.58971, 0.56322, 0.57185, 0.5572, 0.56575, 0.56633, 0.56883, 0.5716, 0.56866, 0.58561, 0.57456, 0.55682, 0.54041, 0.5636, 0.55771, 0.55048, 0.57802, 0.56751, 0.57731, 0.5591, 0.56736, 0.55362, 0.58695, 0.56244, 0.57081, 0.56424, 0.55986, 0.57217, 0.56681, 0.55813, 0.5784, 0.5697, 0.58069, 0.56517, 0.56958, 0.54606, 0.54884, 0.54372, 0.53849, 0.53933, 0.55864]}, {\"line\": {\"shape\": \"spline\"}, \"mode\": \"lines\", \"name\": \"offline_4,5,6_video2\", \"type\": \"scatter\", \"x\": [501, 502, 503, 504, 505, 506, 507, 508, 509, 510, 511, 512, 513, 514, 515, 516, 517, 518, 519, 520, 521, 522, 523, 524, 525, 526, 527, 528, 529, 530, 531, 532, 533, 534, 535, 536, 537, 538, 539, 540, 541, 542, 543, 545, 544, 546, 547, 548, 549, 550, 551, 552, 553, 554, 555, 556, 557, 559, 560, 561, 562, 563, 564, 565, 566, 567, 568, 569, 570, 571, 572, 573], \"y\": [0.53002, 0.56563, 0.56989, 0.56473, 0.5767, 0.59318, 0.58693, 0.58185, 0.56869, 0.56143, 0.5812, 0.56923, 0.58801, 0.56841, 0.57467, 0.57781, 0.58076, 0.58421, 0.58032, 0.55205, 0.54644, 0.55856, 0.53942, 0.56457, 0.56525, 0.56914, 0.5897, 0.55765, 0.57453, 0.57325, 0.56636, 0.59945, 0.55915, 0.56531, 0.55818, 0.57469, 0.56757, 0.56492, 0.56473, 0.56859, 0.58958, 0.57337, 0.56103, 0.55533, 0.54592, 0.55892, 0.53705, 0.58348, 0.56979, 0.57229, 0.56671, 0.56698, 0.55577, 0.56851, 0.55616, 0.55445, 0.56103, 0.55469, 0.57469, 0.55583, 0.54908, 0.565, 0.57361, 0.57795, 0.56793, 0.57567, 0.50959, 0.50428, 0.49364, 0.52407, 0.54729, 0.54529]}],\n",
       "                        {\"template\": {\"data\": {\"bar\": [{\"error_x\": {\"color\": \"#2a3f5f\"}, \"error_y\": {\"color\": \"#2a3f5f\"}, \"marker\": {\"line\": {\"color\": \"#E5ECF6\", \"width\": 0.5}}, \"type\": \"bar\"}], \"barpolar\": [{\"marker\": {\"line\": {\"color\": \"#E5ECF6\", \"width\": 0.5}}, \"type\": \"barpolar\"}], \"carpet\": [{\"aaxis\": {\"endlinecolor\": \"#2a3f5f\", \"gridcolor\": \"white\", \"linecolor\": \"white\", \"minorgridcolor\": \"white\", \"startlinecolor\": \"#2a3f5f\"}, \"baxis\": {\"endlinecolor\": \"#2a3f5f\", \"gridcolor\": \"white\", \"linecolor\": \"white\", \"minorgridcolor\": \"white\", \"startlinecolor\": \"#2a3f5f\"}, \"type\": \"carpet\"}], \"choropleth\": [{\"colorbar\": {\"outlinewidth\": 0, \"ticks\": \"\"}, \"type\": \"choropleth\"}], \"contour\": [{\"colorbar\": {\"outlinewidth\": 0, \"ticks\": \"\"}, \"colorscale\": [[0.0, \"#0d0887\"], [0.1111111111111111, \"#46039f\"], [0.2222222222222222, \"#7201a8\"], [0.3333333333333333, \"#9c179e\"], [0.4444444444444444, \"#bd3786\"], [0.5555555555555556, \"#d8576b\"], [0.6666666666666666, \"#ed7953\"], [0.7777777777777778, \"#fb9f3a\"], [0.8888888888888888, \"#fdca26\"], [1.0, \"#f0f921\"]], \"type\": \"contour\"}], \"contourcarpet\": [{\"colorbar\": {\"outlinewidth\": 0, \"ticks\": \"\"}, \"type\": \"contourcarpet\"}], \"heatmap\": [{\"colorbar\": {\"outlinewidth\": 0, \"ticks\": \"\"}, \"colorscale\": [[0.0, \"#0d0887\"], [0.1111111111111111, \"#46039f\"], [0.2222222222222222, \"#7201a8\"], [0.3333333333333333, \"#9c179e\"], [0.4444444444444444, \"#bd3786\"], [0.5555555555555556, \"#d8576b\"], [0.6666666666666666, \"#ed7953\"], [0.7777777777777778, \"#fb9f3a\"], [0.8888888888888888, \"#fdca26\"], [1.0, \"#f0f921\"]], \"type\": \"heatmap\"}], \"heatmapgl\": [{\"colorbar\": {\"outlinewidth\": 0, \"ticks\": \"\"}, \"colorscale\": [[0.0, \"#0d0887\"], [0.1111111111111111, \"#46039f\"], [0.2222222222222222, \"#7201a8\"], [0.3333333333333333, \"#9c179e\"], [0.4444444444444444, \"#bd3786\"], [0.5555555555555556, \"#d8576b\"], [0.6666666666666666, \"#ed7953\"], [0.7777777777777778, \"#fb9f3a\"], [0.8888888888888888, \"#fdca26\"], [1.0, \"#f0f921\"]], \"type\": \"heatmapgl\"}], \"histogram\": [{\"marker\": {\"colorbar\": {\"outlinewidth\": 0, \"ticks\": \"\"}}, \"type\": \"histogram\"}], \"histogram2d\": [{\"colorbar\": {\"outlinewidth\": 0, \"ticks\": \"\"}, \"colorscale\": [[0.0, \"#0d0887\"], [0.1111111111111111, \"#46039f\"], [0.2222222222222222, \"#7201a8\"], [0.3333333333333333, \"#9c179e\"], [0.4444444444444444, \"#bd3786\"], [0.5555555555555556, \"#d8576b\"], [0.6666666666666666, \"#ed7953\"], [0.7777777777777778, \"#fb9f3a\"], [0.8888888888888888, \"#fdca26\"], [1.0, \"#f0f921\"]], \"type\": \"histogram2d\"}], \"histogram2dcontour\": [{\"colorbar\": {\"outlinewidth\": 0, \"ticks\": \"\"}, \"colorscale\": [[0.0, \"#0d0887\"], [0.1111111111111111, \"#46039f\"], [0.2222222222222222, \"#7201a8\"], [0.3333333333333333, \"#9c179e\"], [0.4444444444444444, \"#bd3786\"], [0.5555555555555556, \"#d8576b\"], [0.6666666666666666, \"#ed7953\"], [0.7777777777777778, \"#fb9f3a\"], [0.8888888888888888, \"#fdca26\"], [1.0, \"#f0f921\"]], \"type\": \"histogram2dcontour\"}], \"mesh3d\": [{\"colorbar\": {\"outlinewidth\": 0, \"ticks\": \"\"}, \"type\": \"mesh3d\"}], \"parcoords\": [{\"line\": {\"colorbar\": {\"outlinewidth\": 0, \"ticks\": \"\"}}, \"type\": \"parcoords\"}], \"scatter\": [{\"marker\": {\"colorbar\": {\"outlinewidth\": 0, \"ticks\": \"\"}}, \"type\": \"scatter\"}], \"scatter3d\": [{\"line\": {\"colorbar\": {\"outlinewidth\": 0, \"ticks\": \"\"}}, \"marker\": {\"colorbar\": {\"outlinewidth\": 0, \"ticks\": \"\"}}, \"type\": \"scatter3d\"}], \"scattercarpet\": [{\"marker\": {\"colorbar\": {\"outlinewidth\": 0, \"ticks\": \"\"}}, \"type\": \"scattercarpet\"}], \"scattergeo\": [{\"marker\": {\"colorbar\": {\"outlinewidth\": 0, \"ticks\": \"\"}}, \"type\": \"scattergeo\"}], \"scattergl\": [{\"marker\": {\"colorbar\": {\"outlinewidth\": 0, \"ticks\": \"\"}}, \"type\": \"scattergl\"}], \"scattermapbox\": [{\"marker\": {\"colorbar\": {\"outlinewidth\": 0, \"ticks\": \"\"}}, \"type\": \"scattermapbox\"}], \"scatterpolar\": [{\"marker\": {\"colorbar\": {\"outlinewidth\": 0, \"ticks\": \"\"}}, \"type\": \"scatterpolar\"}], \"scatterpolargl\": [{\"marker\": {\"colorbar\": {\"outlinewidth\": 0, \"ticks\": \"\"}}, \"type\": \"scatterpolargl\"}], \"scatterternary\": [{\"marker\": {\"colorbar\": {\"outlinewidth\": 0, \"ticks\": \"\"}}, \"type\": \"scatterternary\"}], \"surface\": [{\"colorbar\": {\"outlinewidth\": 0, \"ticks\": \"\"}, \"colorscale\": [[0.0, \"#0d0887\"], [0.1111111111111111, \"#46039f\"], [0.2222222222222222, \"#7201a8\"], [0.3333333333333333, \"#9c179e\"], [0.4444444444444444, \"#bd3786\"], [0.5555555555555556, \"#d8576b\"], [0.6666666666666666, \"#ed7953\"], [0.7777777777777778, \"#fb9f3a\"], [0.8888888888888888, \"#fdca26\"], [1.0, \"#f0f921\"]], \"type\": \"surface\"}], \"table\": [{\"cells\": {\"fill\": {\"color\": \"#EBF0F8\"}, \"line\": {\"color\": \"white\"}}, \"header\": {\"fill\": {\"color\": \"#C8D4E3\"}, \"line\": {\"color\": \"white\"}}, \"type\": \"table\"}]}, \"layout\": {\"annotationdefaults\": {\"arrowcolor\": \"#2a3f5f\", \"arrowhead\": 0, \"arrowwidth\": 1}, \"colorscale\": {\"diverging\": [[0, \"#8e0152\"], [0.1, \"#c51b7d\"], [0.2, \"#de77ae\"], [0.3, \"#f1b6da\"], [0.4, \"#fde0ef\"], [0.5, \"#f7f7f7\"], [0.6, \"#e6f5d0\"], [0.7, \"#b8e186\"], [0.8, \"#7fbc41\"], [0.9, \"#4d9221\"], [1, \"#276419\"]], \"sequential\": [[0.0, \"#0d0887\"], [0.1111111111111111, \"#46039f\"], [0.2222222222222222, \"#7201a8\"], [0.3333333333333333, \"#9c179e\"], [0.4444444444444444, \"#bd3786\"], [0.5555555555555556, \"#d8576b\"], [0.6666666666666666, \"#ed7953\"], [0.7777777777777778, \"#fb9f3a\"], [0.8888888888888888, \"#fdca26\"], [1.0, \"#f0f921\"]], \"sequentialminus\": [[0.0, \"#0d0887\"], [0.1111111111111111, \"#46039f\"], [0.2222222222222222, \"#7201a8\"], [0.3333333333333333, \"#9c179e\"], [0.4444444444444444, \"#bd3786\"], [0.5555555555555556, \"#d8576b\"], [0.6666666666666666, \"#ed7953\"], [0.7777777777777778, \"#fb9f3a\"], [0.8888888888888888, \"#fdca26\"], [1.0, \"#f0f921\"]]}, \"colorway\": [\"#636efa\", \"#EF553B\", \"#00cc96\", \"#ab63fa\", \"#FFA15A\", \"#19d3f3\", \"#FF6692\", \"#B6E880\", \"#FF97FF\", \"#FECB52\"], \"font\": {\"color\": \"#2a3f5f\"}, \"geo\": {\"bgcolor\": \"white\", \"lakecolor\": \"white\", \"landcolor\": \"#E5ECF6\", \"showlakes\": true, \"showland\": true, \"subunitcolor\": \"white\"}, \"hoverlabel\": {\"align\": \"left\"}, \"hovermode\": \"closest\", \"mapbox\": {\"style\": \"light\"}, \"paper_bgcolor\": \"white\", \"plot_bgcolor\": \"#E5ECF6\", \"polar\": {\"angularaxis\": {\"gridcolor\": \"white\", \"linecolor\": \"white\", \"ticks\": \"\"}, \"bgcolor\": \"#E5ECF6\", \"radialaxis\": {\"gridcolor\": \"white\", \"linecolor\": \"white\", \"ticks\": \"\"}}, \"scene\": {\"xaxis\": {\"backgroundcolor\": \"#E5ECF6\", \"gridcolor\": \"white\", \"gridwidth\": 2, \"linecolor\": \"white\", \"showbackground\": true, \"ticks\": \"\", \"zerolinecolor\": \"white\"}, \"yaxis\": {\"backgroundcolor\": \"#E5ECF6\", \"gridcolor\": \"white\", \"gridwidth\": 2, \"linecolor\": \"white\", \"showbackground\": true, \"ticks\": \"\", \"zerolinecolor\": \"white\"}, \"zaxis\": {\"backgroundcolor\": \"#E5ECF6\", \"gridcolor\": \"white\", \"gridwidth\": 2, \"linecolor\": \"white\", \"showbackground\": true, \"ticks\": \"\", \"zerolinecolor\": \"white\"}}, \"shapedefaults\": {\"line\": {\"color\": \"#2a3f5f\"}}, \"ternary\": {\"aaxis\": {\"gridcolor\": \"white\", \"linecolor\": \"white\", \"ticks\": \"\"}, \"baxis\": {\"gridcolor\": \"white\", \"linecolor\": \"white\", \"ticks\": \"\"}, \"bgcolor\": \"#E5ECF6\", \"caxis\": {\"gridcolor\": \"white\", \"linecolor\": \"white\", \"ticks\": \"\"}}, \"title\": {\"x\": 0.05}, \"xaxis\": {\"automargin\": true, \"gridcolor\": \"white\", \"linecolor\": \"white\", \"ticks\": \"\", \"zerolinecolor\": \"white\", \"zerolinewidth\": 2}, \"yaxis\": {\"automargin\": true, \"gridcolor\": \"white\", \"linecolor\": \"white\", \"ticks\": \"\", \"zerolinecolor\": \"white\", \"zerolinewidth\": 2}}}},\n",
       "                        {\"responsive\": true}\n",
       "                    ).then(function(){\n",
       "                            \n",
       "var gd = document.getElementById('46665372-c427-4901-b2d3-becd055790a9');\n",
       "var x = new MutationObserver(function (mutations, observer) {{\n",
       "        var display = window.getComputedStyle(gd).display;\n",
       "        if (!display || display === 'none') {{\n",
       "            console.log([gd, 'removed!']);\n",
       "            Plotly.purge(gd);\n",
       "            observer.disconnect();\n",
       "        }}\n",
       "}});\n",
       "\n",
       "// Listen for the removal of the full notebook cells\n",
       "var notebookContainer = gd.closest('#notebook-container');\n",
       "if (notebookContainer) {{\n",
       "    x.observe(notebookContainer, {childList: true});\n",
       "}}\n",
       "\n",
       "// Listen for the clearing of the current output cell\n",
       "var outputEl = gd.closest('.output');\n",
       "if (outputEl) {{\n",
       "    x.observe(outputEl, {childList: true});\n",
       "}}\n",
       "\n",
       "                        })\n",
       "                };\n",
       "                });\n",
       "            </script>\n",
       "        </div>"
      ]
     },
     "metadata": {},
     "output_type": "display_data"
    }
   ],
   "source": [
    "show('group/click/time_auc')"
   ]
  },
  {
   "cell_type": "code",
   "execution_count": 26,
   "metadata": {},
   "outputs": [
    {
     "data": {
      "application/vnd.plotly.v1+json": {
       "config": {
        "linkText": "Export to plot.ly",
        "plotlyServerURL": "https://plot.ly",
        "showLink": false
       },
       "data": [
        {
         "line": {
          "shape": "spline"
         },
         "mode": "lines",
         "name": "offline_4,5,6_video",
         "type": "scatter",
         "x": [
          290,
          295,
          296,
          297,
          298,
          300,
          301,
          302,
          303,
          304,
          305,
          306,
          307,
          308,
          309,
          310,
          311,
          312,
          314,
          315,
          316,
          317,
          318,
          319,
          320,
          321,
          322,
          323,
          324,
          325,
          326,
          327,
          328,
          329,
          330,
          331,
          333,
          334,
          335,
          336,
          338,
          339,
          340,
          342,
          341,
          344,
          345,
          346,
          347,
          348,
          349,
          350,
          351,
          352,
          354,
          359,
          360,
          363,
          358,
          361,
          357,
          362,
          353,
          364,
          365,
          366,
          367,
          368,
          369,
          371,
          372,
          373,
          374,
          375,
          376,
          377,
          378,
          379,
          380,
          381,
          382,
          383,
          384,
          385,
          386,
          387,
          388,
          389,
          390,
          391,
          392,
          393,
          394,
          395,
          396,
          397,
          398,
          399,
          400,
          401,
          402,
          403,
          404,
          405,
          406,
          407,
          408,
          409,
          410,
          411,
          413,
          414,
          415,
          416,
          417,
          418,
          419,
          420,
          421,
          422,
          423,
          424,
          425,
          426,
          427,
          428,
          429,
          430,
          431,
          432,
          433,
          434,
          435,
          436,
          437,
          438,
          439,
          440,
          441,
          442,
          443,
          444,
          445,
          446,
          447,
          448,
          449,
          450,
          451,
          452,
          453,
          454,
          455,
          456,
          457,
          458,
          459,
          460,
          462,
          461,
          463,
          464,
          465,
          466,
          467,
          468,
          469,
          470,
          471,
          472,
          473,
          474,
          475,
          476,
          477,
          478,
          479,
          480,
          481,
          482,
          483,
          484,
          485,
          486,
          487,
          488,
          489,
          490,
          491,
          492,
          493,
          494,
          495,
          496,
          497,
          498,
          499,
          500,
          501,
          502,
          503,
          504,
          505,
          506,
          507,
          508,
          509,
          510,
          511,
          512,
          513,
          514,
          515,
          516,
          517,
          518,
          519,
          520,
          521,
          522,
          523,
          524,
          525,
          526,
          527,
          528,
          529,
          530,
          531,
          532,
          533,
          534,
          535,
          536,
          537,
          538,
          539,
          540,
          541,
          542,
          543,
          544,
          545,
          546,
          547,
          548,
          549,
          550,
          551,
          552,
          553,
          554,
          555,
          556,
          557,
          559,
          560,
          561,
          562,
          563,
          564,
          565,
          566,
          567,
          568,
          569,
          570,
          571,
          572,
          573
         ],
         "y": [
          0.66459,
          0.64862,
          0.65729,
          0.65086,
          0.63522,
          0.6516,
          0.65502,
          0.66848,
          0.68957,
          0.69602,
          0.69053,
          0.70767,
          0.68165,
          0.66749,
          0.64132,
          0.61747,
          0.59551,
          0.60237,
          0.61867,
          0.61701,
          0.61879,
          0.63801,
          0.62187,
          0.62714,
          0.61933,
          0.62025,
          0.5949,
          0.65166,
          0.63883,
          0.66445,
          0.69474,
          0.69686,
          0.69581,
          0.69631,
          0.71316,
          0.69842,
          0.6389,
          0.62858,
          0.65596,
          0.63072,
          0.63492,
          0.64226,
          0.64593,
          0.63963,
          0.63388,
          0.63956,
          0.63901,
          0.60945,
          0.6164,
          0.62873,
          0.64875,
          0.65834,
          0.67821,
          0.68305,
          0.67029,
          0.66743,
          0.64773,
          0.66327,
          0.65322,
          0.66405,
          0.65327,
          0.66563,
          0.70775,
          0.61072,
          0.64332,
          0.66172,
          0.66748,
          0.64782,
          0.64788,
          0.63974,
          0.64634,
          0.65738,
          0.68583,
          0.66289,
          0.72126,
          0.72049,
          0.72277,
          0.68124,
          0.63691,
          0.66828,
          0.67908,
          0.63841,
          0.68265,
          0.66766,
          0.66587,
          0.6694,
          0.67429,
          0.65194,
          0.64049,
          0.62483,
          0.65006,
          0.65558,
          0.65188,
          0.61536,
          0.64272,
          0.64855,
          0.66625,
          0.67184,
          0.70066,
          0.71549,
          0.70133,
          0.65508,
          0.65734,
          0.64681,
          0.6653,
          0.64897,
          0.65599,
          0.66748,
          0.66435,
          0.65274,
          0.6642,
          0.6291,
          0.60561,
          0.63858,
          0.62945,
          0.61995,
          0.60123,
          0.6286,
          0.62258,
          0.66477,
          0.66821,
          0.67564,
          0.7033,
          0.69294,
          0.67283,
          0.66024,
          0.65537,
          0.64532,
          0.65284,
          0.65095,
          0.61446,
          0.6311,
          0.65691,
          0.65537,
          0.65108,
          0.63783,
          0.6292,
          0.63248,
          0.6319,
          0.61376,
          0.63697,
          0.62236,
          0.64519,
          0.67433,
          0.65785,
          0.682,
          0.71161,
          0.6886,
          0.70296,
          0.65386,
          0.63426,
          0.65242,
          0.63368,
          0.64674,
          0.64247,
          0.61919,
          0.60533,
          0.64963,
          0.62827,
          0.6383,
          0.63697,
          0.61018,
          0.62674,
          0.62633,
          0.61851,
          0.63285,
          0.65051,
          0.65728,
          0.66671,
          0.69121,
          0.67379,
          0.66222,
          0.6629,
          0.65958,
          0.67124,
          0.64659,
          0.65478,
          0.65428,
          0.64112,
          0.55002,
          0.65017,
          0.64696,
          0.64247,
          0.64054,
          0.63413,
          0.6393,
          0.63897,
          0.6345,
          0.64953,
          0.63315,
          0.6238,
          0.6509,
          0.67788,
          0.66087,
          0.65241,
          0.66307,
          0.65526,
          0.66942,
          0.61154,
          0.65046,
          0.63724,
          0.63417,
          0.63218,
          0.6449,
          0.63351,
          0.6476,
          0.61901,
          0.6252,
          0.65334,
          0.63695,
          0.64667,
          0.63118,
          0.62503,
          0.63129,
          0.63745,
          0.66998,
          0.69054,
          0.6904,
          0.69762,
          0.68891,
          0.64241,
          0.65551,
          0.65229,
          0.64782,
          0.66564,
          0.65618,
          0.65204,
          0.65154,
          0.6316,
          0.66276,
          0.65337,
          0.65552,
          0.64385,
          0.63616,
          0.62962,
          0.64045,
          0.62715,
          0.62559,
          0.65684,
          0.65831,
          0.67276,
          0.6762,
          0.70687,
          0.68351,
          0.65411,
          0.66781,
          0.65536,
          0.64298,
          0.64125,
          0.66024,
          0.63605,
          0.65292,
          0.62871,
          0.66393,
          0.65739,
          0.6417,
          0.6497,
          0.63033,
          0.60786,
          0.63488,
          0.61924,
          0.6426,
          0.6479,
          0.68078,
          0.71044,
          0.6858,
          0.70491,
          0.63651,
          0.66974,
          0.66583
         ]
        },
        {
         "line": {
          "shape": "spline"
         },
         "mode": "lines",
         "name": "offline_4,5,6_video2",
         "type": "scatter",
         "x": [
          501,
          502,
          503,
          504,
          505,
          506,
          507,
          508,
          509,
          510,
          511,
          512,
          513,
          514,
          515,
          516,
          517,
          518,
          519,
          520,
          521,
          522,
          523,
          524,
          525,
          526,
          527,
          528,
          529,
          530,
          531,
          532,
          533,
          534,
          535,
          536,
          537,
          538,
          539,
          540,
          541,
          542,
          543,
          545,
          544,
          546,
          547,
          548,
          549,
          550,
          551,
          552,
          553,
          554,
          555,
          556,
          557,
          559,
          560,
          561,
          562,
          563,
          564,
          565,
          566,
          567,
          568,
          569,
          570,
          571,
          572,
          573
         ],
         "y": [
          0.60345,
          0.64119,
          0.64278,
          0.64314,
          0.64616,
          0.66096,
          0.65042,
          0.65202,
          0.63245,
          0.62964,
          0.64693,
          0.63501,
          0.64906,
          0.63645,
          0.63365,
          0.63638,
          0.64593,
          0.67292,
          0.69898,
          0.68373,
          0.68777,
          0.68662,
          0.64741,
          0.66072,
          0.65124,
          0.65674,
          0.67192,
          0.65809,
          0.66386,
          0.66551,
          0.64582,
          0.67836,
          0.64641,
          0.64872,
          0.64384,
          0.64336,
          0.63253,
          0.63212,
          0.61972,
          0.62695,
          0.66283,
          0.65888,
          0.67509,
          0.70544,
          0.68,
          0.6715,
          0.64095,
          0.66039,
          0.65462,
          0.62743,
          0.65096,
          0.66741,
          0.64005,
          0.63776,
          0.62401,
          0.63858,
          0.64478,
          0.62866,
          0.656,
          0.61209,
          0.59661,
          0.62118,
          0.62595,
          0.63881,
          0.6576,
          0.68897,
          0.66075,
          0.66343,
          0.65883,
          0.64325,
          0.65977,
          0.63247
         ]
        }
       ],
       "layout": {
        "template": {
         "data": {
          "bar": [
           {
            "error_x": {
             "color": "#2a3f5f"
            },
            "error_y": {
             "color": "#2a3f5f"
            },
            "marker": {
             "line": {
              "color": "#E5ECF6",
              "width": 0.5
             }
            },
            "type": "bar"
           }
          ],
          "barpolar": [
           {
            "marker": {
             "line": {
              "color": "#E5ECF6",
              "width": 0.5
             }
            },
            "type": "barpolar"
           }
          ],
          "carpet": [
           {
            "aaxis": {
             "endlinecolor": "#2a3f5f",
             "gridcolor": "white",
             "linecolor": "white",
             "minorgridcolor": "white",
             "startlinecolor": "#2a3f5f"
            },
            "baxis": {
             "endlinecolor": "#2a3f5f",
             "gridcolor": "white",
             "linecolor": "white",
             "minorgridcolor": "white",
             "startlinecolor": "#2a3f5f"
            },
            "type": "carpet"
           }
          ],
          "choropleth": [
           {
            "colorbar": {
             "outlinewidth": 0,
             "ticks": ""
            },
            "type": "choropleth"
           }
          ],
          "contour": [
           {
            "colorbar": {
             "outlinewidth": 0,
             "ticks": ""
            },
            "colorscale": [
             [
              0,
              "#0d0887"
             ],
             [
              0.1111111111111111,
              "#46039f"
             ],
             [
              0.2222222222222222,
              "#7201a8"
             ],
             [
              0.3333333333333333,
              "#9c179e"
             ],
             [
              0.4444444444444444,
              "#bd3786"
             ],
             [
              0.5555555555555556,
              "#d8576b"
             ],
             [
              0.6666666666666666,
              "#ed7953"
             ],
             [
              0.7777777777777778,
              "#fb9f3a"
             ],
             [
              0.8888888888888888,
              "#fdca26"
             ],
             [
              1,
              "#f0f921"
             ]
            ],
            "type": "contour"
           }
          ],
          "contourcarpet": [
           {
            "colorbar": {
             "outlinewidth": 0,
             "ticks": ""
            },
            "type": "contourcarpet"
           }
          ],
          "heatmap": [
           {
            "colorbar": {
             "outlinewidth": 0,
             "ticks": ""
            },
            "colorscale": [
             [
              0,
              "#0d0887"
             ],
             [
              0.1111111111111111,
              "#46039f"
             ],
             [
              0.2222222222222222,
              "#7201a8"
             ],
             [
              0.3333333333333333,
              "#9c179e"
             ],
             [
              0.4444444444444444,
              "#bd3786"
             ],
             [
              0.5555555555555556,
              "#d8576b"
             ],
             [
              0.6666666666666666,
              "#ed7953"
             ],
             [
              0.7777777777777778,
              "#fb9f3a"
             ],
             [
              0.8888888888888888,
              "#fdca26"
             ],
             [
              1,
              "#f0f921"
             ]
            ],
            "type": "heatmap"
           }
          ],
          "heatmapgl": [
           {
            "colorbar": {
             "outlinewidth": 0,
             "ticks": ""
            },
            "colorscale": [
             [
              0,
              "#0d0887"
             ],
             [
              0.1111111111111111,
              "#46039f"
             ],
             [
              0.2222222222222222,
              "#7201a8"
             ],
             [
              0.3333333333333333,
              "#9c179e"
             ],
             [
              0.4444444444444444,
              "#bd3786"
             ],
             [
              0.5555555555555556,
              "#d8576b"
             ],
             [
              0.6666666666666666,
              "#ed7953"
             ],
             [
              0.7777777777777778,
              "#fb9f3a"
             ],
             [
              0.8888888888888888,
              "#fdca26"
             ],
             [
              1,
              "#f0f921"
             ]
            ],
            "type": "heatmapgl"
           }
          ],
          "histogram": [
           {
            "marker": {
             "colorbar": {
              "outlinewidth": 0,
              "ticks": ""
             }
            },
            "type": "histogram"
           }
          ],
          "histogram2d": [
           {
            "colorbar": {
             "outlinewidth": 0,
             "ticks": ""
            },
            "colorscale": [
             [
              0,
              "#0d0887"
             ],
             [
              0.1111111111111111,
              "#46039f"
             ],
             [
              0.2222222222222222,
              "#7201a8"
             ],
             [
              0.3333333333333333,
              "#9c179e"
             ],
             [
              0.4444444444444444,
              "#bd3786"
             ],
             [
              0.5555555555555556,
              "#d8576b"
             ],
             [
              0.6666666666666666,
              "#ed7953"
             ],
             [
              0.7777777777777778,
              "#fb9f3a"
             ],
             [
              0.8888888888888888,
              "#fdca26"
             ],
             [
              1,
              "#f0f921"
             ]
            ],
            "type": "histogram2d"
           }
          ],
          "histogram2dcontour": [
           {
            "colorbar": {
             "outlinewidth": 0,
             "ticks": ""
            },
            "colorscale": [
             [
              0,
              "#0d0887"
             ],
             [
              0.1111111111111111,
              "#46039f"
             ],
             [
              0.2222222222222222,
              "#7201a8"
             ],
             [
              0.3333333333333333,
              "#9c179e"
             ],
             [
              0.4444444444444444,
              "#bd3786"
             ],
             [
              0.5555555555555556,
              "#d8576b"
             ],
             [
              0.6666666666666666,
              "#ed7953"
             ],
             [
              0.7777777777777778,
              "#fb9f3a"
             ],
             [
              0.8888888888888888,
              "#fdca26"
             ],
             [
              1,
              "#f0f921"
             ]
            ],
            "type": "histogram2dcontour"
           }
          ],
          "mesh3d": [
           {
            "colorbar": {
             "outlinewidth": 0,
             "ticks": ""
            },
            "type": "mesh3d"
           }
          ],
          "parcoords": [
           {
            "line": {
             "colorbar": {
              "outlinewidth": 0,
              "ticks": ""
             }
            },
            "type": "parcoords"
           }
          ],
          "scatter": [
           {
            "marker": {
             "colorbar": {
              "outlinewidth": 0,
              "ticks": ""
             }
            },
            "type": "scatter"
           }
          ],
          "scatter3d": [
           {
            "line": {
             "colorbar": {
              "outlinewidth": 0,
              "ticks": ""
             }
            },
            "marker": {
             "colorbar": {
              "outlinewidth": 0,
              "ticks": ""
             }
            },
            "type": "scatter3d"
           }
          ],
          "scattercarpet": [
           {
            "marker": {
             "colorbar": {
              "outlinewidth": 0,
              "ticks": ""
             }
            },
            "type": "scattercarpet"
           }
          ],
          "scattergeo": [
           {
            "marker": {
             "colorbar": {
              "outlinewidth": 0,
              "ticks": ""
             }
            },
            "type": "scattergeo"
           }
          ],
          "scattergl": [
           {
            "marker": {
             "colorbar": {
              "outlinewidth": 0,
              "ticks": ""
             }
            },
            "type": "scattergl"
           }
          ],
          "scattermapbox": [
           {
            "marker": {
             "colorbar": {
              "outlinewidth": 0,
              "ticks": ""
             }
            },
            "type": "scattermapbox"
           }
          ],
          "scatterpolar": [
           {
            "marker": {
             "colorbar": {
              "outlinewidth": 0,
              "ticks": ""
             }
            },
            "type": "scatterpolar"
           }
          ],
          "scatterpolargl": [
           {
            "marker": {
             "colorbar": {
              "outlinewidth": 0,
              "ticks": ""
             }
            },
            "type": "scatterpolargl"
           }
          ],
          "scatterternary": [
           {
            "marker": {
             "colorbar": {
              "outlinewidth": 0,
              "ticks": ""
             }
            },
            "type": "scatterternary"
           }
          ],
          "surface": [
           {
            "colorbar": {
             "outlinewidth": 0,
             "ticks": ""
            },
            "colorscale": [
             [
              0,
              "#0d0887"
             ],
             [
              0.1111111111111111,
              "#46039f"
             ],
             [
              0.2222222222222222,
              "#7201a8"
             ],
             [
              0.3333333333333333,
              "#9c179e"
             ],
             [
              0.4444444444444444,
              "#bd3786"
             ],
             [
              0.5555555555555556,
              "#d8576b"
             ],
             [
              0.6666666666666666,
              "#ed7953"
             ],
             [
              0.7777777777777778,
              "#fb9f3a"
             ],
             [
              0.8888888888888888,
              "#fdca26"
             ],
             [
              1,
              "#f0f921"
             ]
            ],
            "type": "surface"
           }
          ],
          "table": [
           {
            "cells": {
             "fill": {
              "color": "#EBF0F8"
             },
             "line": {
              "color": "white"
             }
            },
            "header": {
             "fill": {
              "color": "#C8D4E3"
             },
             "line": {
              "color": "white"
             }
            },
            "type": "table"
           }
          ]
         },
         "layout": {
          "annotationdefaults": {
           "arrowcolor": "#2a3f5f",
           "arrowhead": 0,
           "arrowwidth": 1
          },
          "colorscale": {
           "diverging": [
            [
             0,
             "#8e0152"
            ],
            [
             0.1,
             "#c51b7d"
            ],
            [
             0.2,
             "#de77ae"
            ],
            [
             0.3,
             "#f1b6da"
            ],
            [
             0.4,
             "#fde0ef"
            ],
            [
             0.5,
             "#f7f7f7"
            ],
            [
             0.6,
             "#e6f5d0"
            ],
            [
             0.7,
             "#b8e186"
            ],
            [
             0.8,
             "#7fbc41"
            ],
            [
             0.9,
             "#4d9221"
            ],
            [
             1,
             "#276419"
            ]
           ],
           "sequential": [
            [
             0,
             "#0d0887"
            ],
            [
             0.1111111111111111,
             "#46039f"
            ],
            [
             0.2222222222222222,
             "#7201a8"
            ],
            [
             0.3333333333333333,
             "#9c179e"
            ],
            [
             0.4444444444444444,
             "#bd3786"
            ],
            [
             0.5555555555555556,
             "#d8576b"
            ],
            [
             0.6666666666666666,
             "#ed7953"
            ],
            [
             0.7777777777777778,
             "#fb9f3a"
            ],
            [
             0.8888888888888888,
             "#fdca26"
            ],
            [
             1,
             "#f0f921"
            ]
           ],
           "sequentialminus": [
            [
             0,
             "#0d0887"
            ],
            [
             0.1111111111111111,
             "#46039f"
            ],
            [
             0.2222222222222222,
             "#7201a8"
            ],
            [
             0.3333333333333333,
             "#9c179e"
            ],
            [
             0.4444444444444444,
             "#bd3786"
            ],
            [
             0.5555555555555556,
             "#d8576b"
            ],
            [
             0.6666666666666666,
             "#ed7953"
            ],
            [
             0.7777777777777778,
             "#fb9f3a"
            ],
            [
             0.8888888888888888,
             "#fdca26"
            ],
            [
             1,
             "#f0f921"
            ]
           ]
          },
          "colorway": [
           "#636efa",
           "#EF553B",
           "#00cc96",
           "#ab63fa",
           "#FFA15A",
           "#19d3f3",
           "#FF6692",
           "#B6E880",
           "#FF97FF",
           "#FECB52"
          ],
          "font": {
           "color": "#2a3f5f"
          },
          "geo": {
           "bgcolor": "white",
           "lakecolor": "white",
           "landcolor": "#E5ECF6",
           "showlakes": true,
           "showland": true,
           "subunitcolor": "white"
          },
          "hoverlabel": {
           "align": "left"
          },
          "hovermode": "closest",
          "mapbox": {
           "style": "light"
          },
          "paper_bgcolor": "white",
          "plot_bgcolor": "#E5ECF6",
          "polar": {
           "angularaxis": {
            "gridcolor": "white",
            "linecolor": "white",
            "ticks": ""
           },
           "bgcolor": "#E5ECF6",
           "radialaxis": {
            "gridcolor": "white",
            "linecolor": "white",
            "ticks": ""
           }
          },
          "scene": {
           "xaxis": {
            "backgroundcolor": "#E5ECF6",
            "gridcolor": "white",
            "gridwidth": 2,
            "linecolor": "white",
            "showbackground": true,
            "ticks": "",
            "zerolinecolor": "white"
           },
           "yaxis": {
            "backgroundcolor": "#E5ECF6",
            "gridcolor": "white",
            "gridwidth": 2,
            "linecolor": "white",
            "showbackground": true,
            "ticks": "",
            "zerolinecolor": "white"
           },
           "zaxis": {
            "backgroundcolor": "#E5ECF6",
            "gridcolor": "white",
            "gridwidth": 2,
            "linecolor": "white",
            "showbackground": true,
            "ticks": "",
            "zerolinecolor": "white"
           }
          },
          "shapedefaults": {
           "line": {
            "color": "#2a3f5f"
           }
          },
          "ternary": {
           "aaxis": {
            "gridcolor": "white",
            "linecolor": "white",
            "ticks": ""
           },
           "baxis": {
            "gridcolor": "white",
            "linecolor": "white",
            "ticks": ""
           },
           "bgcolor": "#E5ECF6",
           "caxis": {
            "gridcolor": "white",
            "linecolor": "white",
            "ticks": ""
           }
          },
          "title": {
           "x": 0.05
          },
          "xaxis": {
           "automargin": true,
           "gridcolor": "white",
           "linecolor": "white",
           "ticks": "",
           "zerolinecolor": "white",
           "zerolinewidth": 2
          },
          "yaxis": {
           "automargin": true,
           "gridcolor": "white",
           "linecolor": "white",
           "ticks": "",
           "zerolinecolor": "white",
           "zerolinewidth": 2
          }
         }
        }
       }
      },
      "text/html": [
       "<div>\n",
       "        \n",
       "        \n",
       "            <div id=\"706d5879-fb5e-4aca-b778-18c7568a56fa\" class=\"plotly-graph-div\" style=\"height:525px; width:100%;\"></div>\n",
       "            <script type=\"text/javascript\">\n",
       "                require([\"plotly\"], function(Plotly) {\n",
       "                    window.PLOTLYENV=window.PLOTLYENV || {};\n",
       "                    \n",
       "                if (document.getElementById(\"706d5879-fb5e-4aca-b778-18c7568a56fa\")) {\n",
       "                    Plotly.newPlot(\n",
       "                        '706d5879-fb5e-4aca-b778-18c7568a56fa',\n",
       "                        [{\"line\": {\"shape\": \"spline\"}, \"mode\": \"lines\", \"name\": \"offline_4,5,6_video\", \"type\": \"scatter\", \"x\": [290, 295, 296, 297, 298, 300, 301, 302, 303, 304, 305, 306, 307, 308, 309, 310, 311, 312, 314, 315, 316, 317, 318, 319, 320, 321, 322, 323, 324, 325, 326, 327, 328, 329, 330, 331, 333, 334, 335, 336, 338, 339, 340, 342, 341, 344, 345, 346, 347, 348, 349, 350, 351, 352, 354, 359, 360, 363, 358, 361, 357, 362, 353, 364, 365, 366, 367, 368, 369, 371, 372, 373, 374, 375, 376, 377, 378, 379, 380, 381, 382, 383, 384, 385, 386, 387, 388, 389, 390, 391, 392, 393, 394, 395, 396, 397, 398, 399, 400, 401, 402, 403, 404, 405, 406, 407, 408, 409, 410, 411, 413, 414, 415, 416, 417, 418, 419, 420, 421, 422, 423, 424, 425, 426, 427, 428, 429, 430, 431, 432, 433, 434, 435, 436, 437, 438, 439, 440, 441, 442, 443, 444, 445, 446, 447, 448, 449, 450, 451, 452, 453, 454, 455, 456, 457, 458, 459, 460, 462, 461, 463, 464, 465, 466, 467, 468, 469, 470, 471, 472, 473, 474, 475, 476, 477, 478, 479, 480, 481, 482, 483, 484, 485, 486, 487, 488, 489, 490, 491, 492, 493, 494, 495, 496, 497, 498, 499, 500, 501, 502, 503, 504, 505, 506, 507, 508, 509, 510, 511, 512, 513, 514, 515, 516, 517, 518, 519, 520, 521, 522, 523, 524, 525, 526, 527, 528, 529, 530, 531, 532, 533, 534, 535, 536, 537, 538, 539, 540, 541, 542, 543, 544, 545, 546, 547, 548, 549, 550, 551, 552, 553, 554, 555, 556, 557, 559, 560, 561, 562, 563, 564, 565, 566, 567, 568, 569, 570, 571, 572, 573], \"y\": [0.66459, 0.64862, 0.65729, 0.65086, 0.63522, 0.6516, 0.65502, 0.66848, 0.68957, 0.69602, 0.69053, 0.70767, 0.68165, 0.66749, 0.64132, 0.61747, 0.59551, 0.60237, 0.61867, 0.61701, 0.61879, 0.63801, 0.62187, 0.62714, 0.61933, 0.62025, 0.5949, 0.65166, 0.63883, 0.66445, 0.69474, 0.69686, 0.69581, 0.69631, 0.71316, 0.69842, 0.6389, 0.62858, 0.65596, 0.63072, 0.63492, 0.64226, 0.64593, 0.63963, 0.63388, 0.63956, 0.63901, 0.60945, 0.6164, 0.62873, 0.64875, 0.65834, 0.67821, 0.68305, 0.67029, 0.66743, 0.64773, 0.66327, 0.65322, 0.66405, 0.65327, 0.66563, 0.70775, 0.61072, 0.64332, 0.66172, 0.66748, 0.64782, 0.64788, 0.63974, 0.64634, 0.65738, 0.68583, 0.66289, 0.72126, 0.72049, 0.72277, 0.68124, 0.63691, 0.66828, 0.67908, 0.63841, 0.68265, 0.66766, 0.66587, 0.6694, 0.67429, 0.65194, 0.64049, 0.62483, 0.65006, 0.65558, 0.65188, 0.61536, 0.64272, 0.64855, 0.66625, 0.67184, 0.70066, 0.71549, 0.70133, 0.65508, 0.65734, 0.64681, 0.6653, 0.64897, 0.65599, 0.66748, 0.66435, 0.65274, 0.6642, 0.6291, 0.60561, 0.63858, 0.62945, 0.61995, 0.60123, 0.6286, 0.62258, 0.66477, 0.66821, 0.67564, 0.7033, 0.69294, 0.67283, 0.66024, 0.65537, 0.64532, 0.65284, 0.65095, 0.61446, 0.6311, 0.65691, 0.65537, 0.65108, 0.63783, 0.6292, 0.63248, 0.6319, 0.61376, 0.63697, 0.62236, 0.64519, 0.67433, 0.65785, 0.682, 0.71161, 0.6886, 0.70296, 0.65386, 0.63426, 0.65242, 0.63368, 0.64674, 0.64247, 0.61919, 0.60533, 0.64963, 0.62827, 0.6383, 0.63697, 0.61018, 0.62674, 0.62633, 0.61851, 0.63285, 0.65051, 0.65728, 0.66671, 0.69121, 0.67379, 0.66222, 0.6629, 0.65958, 0.67124, 0.64659, 0.65478, 0.65428, 0.64112, 0.55002, 0.65017, 0.64696, 0.64247, 0.64054, 0.63413, 0.6393, 0.63897, 0.6345, 0.64953, 0.63315, 0.6238, 0.6509, 0.67788, 0.66087, 0.65241, 0.66307, 0.65526, 0.66942, 0.61154, 0.65046, 0.63724, 0.63417, 0.63218, 0.6449, 0.63351, 0.6476, 0.61901, 0.6252, 0.65334, 0.63695, 0.64667, 0.63118, 0.62503, 0.63129, 0.63745, 0.66998, 0.69054, 0.6904, 0.69762, 0.68891, 0.64241, 0.65551, 0.65229, 0.64782, 0.66564, 0.65618, 0.65204, 0.65154, 0.6316, 0.66276, 0.65337, 0.65552, 0.64385, 0.63616, 0.62962, 0.64045, 0.62715, 0.62559, 0.65684, 0.65831, 0.67276, 0.6762, 0.70687, 0.68351, 0.65411, 0.66781, 0.65536, 0.64298, 0.64125, 0.66024, 0.63605, 0.65292, 0.62871, 0.66393, 0.65739, 0.6417, 0.6497, 0.63033, 0.60786, 0.63488, 0.61924, 0.6426, 0.6479, 0.68078, 0.71044, 0.6858, 0.70491, 0.63651, 0.66974, 0.66583]}, {\"line\": {\"shape\": \"spline\"}, \"mode\": \"lines\", \"name\": \"offline_4,5,6_video2\", \"type\": \"scatter\", \"x\": [501, 502, 503, 504, 505, 506, 507, 508, 509, 510, 511, 512, 513, 514, 515, 516, 517, 518, 519, 520, 521, 522, 523, 524, 525, 526, 527, 528, 529, 530, 531, 532, 533, 534, 535, 536, 537, 538, 539, 540, 541, 542, 543, 545, 544, 546, 547, 548, 549, 550, 551, 552, 553, 554, 555, 556, 557, 559, 560, 561, 562, 563, 564, 565, 566, 567, 568, 569, 570, 571, 572, 573], \"y\": [0.60345, 0.64119, 0.64278, 0.64314, 0.64616, 0.66096, 0.65042, 0.65202, 0.63245, 0.62964, 0.64693, 0.63501, 0.64906, 0.63645, 0.63365, 0.63638, 0.64593, 0.67292, 0.69898, 0.68373, 0.68777, 0.68662, 0.64741, 0.66072, 0.65124, 0.65674, 0.67192, 0.65809, 0.66386, 0.66551, 0.64582, 0.67836, 0.64641, 0.64872, 0.64384, 0.64336, 0.63253, 0.63212, 0.61972, 0.62695, 0.66283, 0.65888, 0.67509, 0.70544, 0.68, 0.6715, 0.64095, 0.66039, 0.65462, 0.62743, 0.65096, 0.66741, 0.64005, 0.63776, 0.62401, 0.63858, 0.64478, 0.62866, 0.656, 0.61209, 0.59661, 0.62118, 0.62595, 0.63881, 0.6576, 0.68897, 0.66075, 0.66343, 0.65883, 0.64325, 0.65977, 0.63247]}],\n",
       "                        {\"template\": {\"data\": {\"bar\": [{\"error_x\": {\"color\": \"#2a3f5f\"}, \"error_y\": {\"color\": \"#2a3f5f\"}, \"marker\": {\"line\": {\"color\": \"#E5ECF6\", \"width\": 0.5}}, \"type\": \"bar\"}], \"barpolar\": [{\"marker\": {\"line\": {\"color\": \"#E5ECF6\", \"width\": 0.5}}, \"type\": \"barpolar\"}], \"carpet\": [{\"aaxis\": {\"endlinecolor\": \"#2a3f5f\", \"gridcolor\": \"white\", \"linecolor\": \"white\", \"minorgridcolor\": \"white\", \"startlinecolor\": \"#2a3f5f\"}, \"baxis\": {\"endlinecolor\": \"#2a3f5f\", \"gridcolor\": \"white\", \"linecolor\": \"white\", \"minorgridcolor\": \"white\", \"startlinecolor\": \"#2a3f5f\"}, \"type\": \"carpet\"}], \"choropleth\": [{\"colorbar\": {\"outlinewidth\": 0, \"ticks\": \"\"}, \"type\": \"choropleth\"}], \"contour\": [{\"colorbar\": {\"outlinewidth\": 0, \"ticks\": \"\"}, \"colorscale\": [[0.0, \"#0d0887\"], [0.1111111111111111, \"#46039f\"], [0.2222222222222222, \"#7201a8\"], [0.3333333333333333, \"#9c179e\"], [0.4444444444444444, \"#bd3786\"], [0.5555555555555556, \"#d8576b\"], [0.6666666666666666, \"#ed7953\"], [0.7777777777777778, \"#fb9f3a\"], [0.8888888888888888, \"#fdca26\"], [1.0, \"#f0f921\"]], \"type\": \"contour\"}], \"contourcarpet\": [{\"colorbar\": {\"outlinewidth\": 0, \"ticks\": \"\"}, \"type\": \"contourcarpet\"}], \"heatmap\": [{\"colorbar\": {\"outlinewidth\": 0, \"ticks\": \"\"}, \"colorscale\": [[0.0, \"#0d0887\"], [0.1111111111111111, \"#46039f\"], [0.2222222222222222, \"#7201a8\"], [0.3333333333333333, \"#9c179e\"], [0.4444444444444444, \"#bd3786\"], [0.5555555555555556, \"#d8576b\"], [0.6666666666666666, \"#ed7953\"], [0.7777777777777778, \"#fb9f3a\"], [0.8888888888888888, \"#fdca26\"], [1.0, \"#f0f921\"]], \"type\": \"heatmap\"}], \"heatmapgl\": [{\"colorbar\": {\"outlinewidth\": 0, \"ticks\": \"\"}, \"colorscale\": [[0.0, \"#0d0887\"], [0.1111111111111111, \"#46039f\"], [0.2222222222222222, \"#7201a8\"], [0.3333333333333333, \"#9c179e\"], [0.4444444444444444, \"#bd3786\"], [0.5555555555555556, \"#d8576b\"], [0.6666666666666666, \"#ed7953\"], [0.7777777777777778, \"#fb9f3a\"], [0.8888888888888888, \"#fdca26\"], [1.0, \"#f0f921\"]], \"type\": \"heatmapgl\"}], \"histogram\": [{\"marker\": {\"colorbar\": {\"outlinewidth\": 0, \"ticks\": \"\"}}, \"type\": \"histogram\"}], \"histogram2d\": [{\"colorbar\": {\"outlinewidth\": 0, \"ticks\": \"\"}, \"colorscale\": [[0.0, \"#0d0887\"], [0.1111111111111111, \"#46039f\"], [0.2222222222222222, \"#7201a8\"], [0.3333333333333333, \"#9c179e\"], [0.4444444444444444, \"#bd3786\"], [0.5555555555555556, \"#d8576b\"], [0.6666666666666666, \"#ed7953\"], [0.7777777777777778, \"#fb9f3a\"], [0.8888888888888888, \"#fdca26\"], [1.0, \"#f0f921\"]], \"type\": \"histogram2d\"}], \"histogram2dcontour\": [{\"colorbar\": {\"outlinewidth\": 0, \"ticks\": \"\"}, \"colorscale\": [[0.0, \"#0d0887\"], [0.1111111111111111, \"#46039f\"], [0.2222222222222222, \"#7201a8\"], [0.3333333333333333, \"#9c179e\"], [0.4444444444444444, \"#bd3786\"], [0.5555555555555556, \"#d8576b\"], [0.6666666666666666, \"#ed7953\"], [0.7777777777777778, \"#fb9f3a\"], [0.8888888888888888, \"#fdca26\"], [1.0, \"#f0f921\"]], \"type\": \"histogram2dcontour\"}], \"mesh3d\": [{\"colorbar\": {\"outlinewidth\": 0, \"ticks\": \"\"}, \"type\": \"mesh3d\"}], \"parcoords\": [{\"line\": {\"colorbar\": {\"outlinewidth\": 0, \"ticks\": \"\"}}, \"type\": \"parcoords\"}], \"scatter\": [{\"marker\": {\"colorbar\": {\"outlinewidth\": 0, \"ticks\": \"\"}}, \"type\": \"scatter\"}], \"scatter3d\": [{\"line\": {\"colorbar\": {\"outlinewidth\": 0, \"ticks\": \"\"}}, \"marker\": {\"colorbar\": {\"outlinewidth\": 0, \"ticks\": \"\"}}, \"type\": \"scatter3d\"}], \"scattercarpet\": [{\"marker\": {\"colorbar\": {\"outlinewidth\": 0, \"ticks\": \"\"}}, \"type\": \"scattercarpet\"}], \"scattergeo\": [{\"marker\": {\"colorbar\": {\"outlinewidth\": 0, \"ticks\": \"\"}}, \"type\": \"scattergeo\"}], \"scattergl\": [{\"marker\": {\"colorbar\": {\"outlinewidth\": 0, \"ticks\": \"\"}}, \"type\": \"scattergl\"}], \"scattermapbox\": [{\"marker\": {\"colorbar\": {\"outlinewidth\": 0, \"ticks\": \"\"}}, \"type\": \"scattermapbox\"}], \"scatterpolar\": [{\"marker\": {\"colorbar\": {\"outlinewidth\": 0, \"ticks\": \"\"}}, \"type\": \"scatterpolar\"}], \"scatterpolargl\": [{\"marker\": {\"colorbar\": {\"outlinewidth\": 0, \"ticks\": \"\"}}, \"type\": \"scatterpolargl\"}], \"scatterternary\": [{\"marker\": {\"colorbar\": {\"outlinewidth\": 0, \"ticks\": \"\"}}, \"type\": \"scatterternary\"}], \"surface\": [{\"colorbar\": {\"outlinewidth\": 0, \"ticks\": \"\"}, \"colorscale\": [[0.0, \"#0d0887\"], [0.1111111111111111, \"#46039f\"], [0.2222222222222222, \"#7201a8\"], [0.3333333333333333, \"#9c179e\"], [0.4444444444444444, \"#bd3786\"], [0.5555555555555556, \"#d8576b\"], [0.6666666666666666, \"#ed7953\"], [0.7777777777777778, \"#fb9f3a\"], [0.8888888888888888, \"#fdca26\"], [1.0, \"#f0f921\"]], \"type\": \"surface\"}], \"table\": [{\"cells\": {\"fill\": {\"color\": \"#EBF0F8\"}, \"line\": {\"color\": \"white\"}}, \"header\": {\"fill\": {\"color\": \"#C8D4E3\"}, \"line\": {\"color\": \"white\"}}, \"type\": \"table\"}]}, \"layout\": {\"annotationdefaults\": {\"arrowcolor\": \"#2a3f5f\", \"arrowhead\": 0, \"arrowwidth\": 1}, \"colorscale\": {\"diverging\": [[0, \"#8e0152\"], [0.1, \"#c51b7d\"], [0.2, \"#de77ae\"], [0.3, \"#f1b6da\"], [0.4, \"#fde0ef\"], [0.5, \"#f7f7f7\"], [0.6, \"#e6f5d0\"], [0.7, \"#b8e186\"], [0.8, \"#7fbc41\"], [0.9, \"#4d9221\"], [1, \"#276419\"]], \"sequential\": [[0.0, \"#0d0887\"], [0.1111111111111111, \"#46039f\"], [0.2222222222222222, \"#7201a8\"], [0.3333333333333333, \"#9c179e\"], [0.4444444444444444, \"#bd3786\"], [0.5555555555555556, \"#d8576b\"], [0.6666666666666666, \"#ed7953\"], [0.7777777777777778, \"#fb9f3a\"], [0.8888888888888888, \"#fdca26\"], [1.0, \"#f0f921\"]], \"sequentialminus\": [[0.0, \"#0d0887\"], [0.1111111111111111, \"#46039f\"], [0.2222222222222222, \"#7201a8\"], [0.3333333333333333, \"#9c179e\"], [0.4444444444444444, \"#bd3786\"], [0.5555555555555556, \"#d8576b\"], [0.6666666666666666, \"#ed7953\"], [0.7777777777777778, \"#fb9f3a\"], [0.8888888888888888, \"#fdca26\"], [1.0, \"#f0f921\"]]}, \"colorway\": [\"#636efa\", \"#EF553B\", \"#00cc96\", \"#ab63fa\", \"#FFA15A\", \"#19d3f3\", \"#FF6692\", \"#B6E880\", \"#FF97FF\", \"#FECB52\"], \"font\": {\"color\": \"#2a3f5f\"}, \"geo\": {\"bgcolor\": \"white\", \"lakecolor\": \"white\", \"landcolor\": \"#E5ECF6\", \"showlakes\": true, \"showland\": true, \"subunitcolor\": \"white\"}, \"hoverlabel\": {\"align\": \"left\"}, \"hovermode\": \"closest\", \"mapbox\": {\"style\": \"light\"}, \"paper_bgcolor\": \"white\", \"plot_bgcolor\": \"#E5ECF6\", \"polar\": {\"angularaxis\": {\"gridcolor\": \"white\", \"linecolor\": \"white\", \"ticks\": \"\"}, \"bgcolor\": \"#E5ECF6\", \"radialaxis\": {\"gridcolor\": \"white\", \"linecolor\": \"white\", \"ticks\": \"\"}}, \"scene\": {\"xaxis\": {\"backgroundcolor\": \"#E5ECF6\", \"gridcolor\": \"white\", \"gridwidth\": 2, \"linecolor\": \"white\", \"showbackground\": true, \"ticks\": \"\", \"zerolinecolor\": \"white\"}, \"yaxis\": {\"backgroundcolor\": \"#E5ECF6\", \"gridcolor\": \"white\", \"gridwidth\": 2, \"linecolor\": \"white\", \"showbackground\": true, \"ticks\": \"\", \"zerolinecolor\": \"white\"}, \"zaxis\": {\"backgroundcolor\": \"#E5ECF6\", \"gridcolor\": \"white\", \"gridwidth\": 2, \"linecolor\": \"white\", \"showbackground\": true, \"ticks\": \"\", \"zerolinecolor\": \"white\"}}, \"shapedefaults\": {\"line\": {\"color\": \"#2a3f5f\"}}, \"ternary\": {\"aaxis\": {\"gridcolor\": \"white\", \"linecolor\": \"white\", \"ticks\": \"\"}, \"baxis\": {\"gridcolor\": \"white\", \"linecolor\": \"white\", \"ticks\": \"\"}, \"bgcolor\": \"#E5ECF6\", \"caxis\": {\"gridcolor\": \"white\", \"linecolor\": \"white\", \"ticks\": \"\"}}, \"title\": {\"x\": 0.05}, \"xaxis\": {\"automargin\": true, \"gridcolor\": \"white\", \"linecolor\": \"white\", \"ticks\": \"\", \"zerolinecolor\": \"white\", \"zerolinewidth\": 2}, \"yaxis\": {\"automargin\": true, \"gridcolor\": \"white\", \"linecolor\": \"white\", \"ticks\": \"\", \"zerolinecolor\": \"white\", \"zerolinewidth\": 2}}}},\n",
       "                        {\"responsive\": true}\n",
       "                    ).then(function(){\n",
       "                            \n",
       "var gd = document.getElementById('706d5879-fb5e-4aca-b778-18c7568a56fa');\n",
       "var x = new MutationObserver(function (mutations, observer) {{\n",
       "        var display = window.getComputedStyle(gd).display;\n",
       "        if (!display || display === 'none') {{\n",
       "            console.log([gd, 'removed!']);\n",
       "            Plotly.purge(gd);\n",
       "            observer.disconnect();\n",
       "        }}\n",
       "}});\n",
       "\n",
       "// Listen for the removal of the full notebook cells\n",
       "var notebookContainer = gd.closest('#notebook-container');\n",
       "if (notebookContainer) {{\n",
       "    x.observe(notebookContainer, {childList: true});\n",
       "}}\n",
       "\n",
       "// Listen for the clearing of the current output cell\n",
       "var outputEl = gd.closest('.output');\n",
       "if (outputEl) {{\n",
       "    x.observe(outputEl, {childList: true});\n",
       "}}\n",
       "\n",
       "                        })\n",
       "                };\n",
       "                });\n",
       "            </script>\n",
       "        </div>"
      ]
     },
     "metadata": {},
     "output_type": "display_data"
    }
   ],
   "source": [
    "show('group/click/weighted_time_auc')"
   ]
  },
  {
   "cell_type": "code",
   "execution_count": 27,
   "metadata": {},
   "outputs": [
    {
     "data": {
      "application/vnd.plotly.v1+json": {
       "config": {
        "linkText": "Export to plot.ly",
        "plotlyServerURL": "https://plot.ly",
        "showLink": false
       },
       "data": [
        {
         "line": {
          "shape": "spline"
         },
         "mode": "lines",
         "name": "offline_4,5,6_video",
         "type": "scatter",
         "x": [
          290,
          295,
          296,
          297,
          298,
          300,
          301,
          302,
          303,
          304,
          305,
          306,
          307,
          308,
          309,
          310,
          311,
          312,
          314,
          315,
          316,
          317,
          318,
          319,
          320,
          321,
          322,
          323,
          324,
          325,
          326,
          327,
          328,
          329,
          330,
          331,
          333,
          334,
          335,
          336,
          338,
          339,
          340,
          342,
          341,
          344,
          345,
          346,
          347,
          348,
          349,
          350,
          351,
          352,
          354,
          359,
          360,
          363,
          358,
          361,
          357,
          362,
          353,
          364,
          365,
          366,
          367,
          368,
          369,
          371,
          372,
          373,
          374,
          375,
          376,
          377,
          378,
          379,
          380,
          381,
          382,
          383,
          384,
          385,
          386,
          387,
          388,
          389,
          390,
          391,
          392,
          393,
          394,
          395,
          396,
          397,
          398,
          399,
          400,
          401,
          402,
          403,
          404,
          405,
          406,
          407,
          408,
          409,
          410,
          411,
          413,
          414,
          415,
          416,
          417,
          418,
          419,
          420,
          421,
          422,
          423,
          424,
          425,
          426,
          427,
          428,
          429,
          430,
          431,
          432,
          433,
          434,
          435,
          436,
          437,
          438,
          439,
          440,
          441,
          442,
          443,
          444,
          445,
          446,
          447,
          448,
          449,
          450,
          451,
          452,
          453,
          454,
          455,
          456,
          457,
          458,
          459,
          460,
          462,
          461,
          463,
          464,
          465,
          466,
          467,
          468,
          469,
          470,
          471,
          472,
          473,
          474,
          475,
          476,
          477,
          478,
          479,
          480,
          481,
          482,
          483,
          484,
          485,
          486,
          487,
          488,
          489,
          490,
          491,
          492,
          493,
          494,
          495,
          496,
          497,
          498,
          499,
          500,
          501,
          502,
          503,
          504,
          505,
          506,
          507,
          508,
          509,
          510,
          511,
          512,
          513,
          514,
          515,
          516,
          517,
          518,
          519,
          520,
          521,
          522,
          523,
          524,
          525,
          526,
          527,
          528,
          529,
          530,
          531,
          532,
          533,
          534,
          535,
          536,
          537,
          538,
          539,
          540,
          541,
          542,
          543,
          544,
          545,
          546,
          547,
          548,
          549,
          550,
          551,
          552,
          553,
          554,
          555,
          556,
          557,
          559,
          560,
          561,
          562,
          563,
          564,
          565,
          566,
          567,
          568,
          569,
          570,
          571,
          572,
          573
         ],
         "y": [
          0.11978,
          0.06521,
          0.06583,
          0.06653,
          0.06237,
          0.09459,
          0.08916,
          0.09437,
          0.09881,
          0.1101,
          0.11177,
          0.1142,
          0.1007,
          0.09376,
          0.08973,
          0.08787,
          0.09039,
          0.08761,
          0.08763,
          0.08883,
          0.08916,
          0.08873,
          0.08758,
          0.0888,
          0.0851,
          0.08465,
          0.08119,
          0.07959,
          0.07746,
          0.07881,
          0.08456,
          0.09148,
          0.09903,
          0.11048,
          0.1056,
          0.09414,
          0.0844,
          0.08527,
          0.08724,
          0.08724,
          0.08788,
          0.08712,
          0.08549,
          0.08673,
          0.08084,
          0.08377,
          0.08423,
          0.07921,
          0.07716,
          0.07494,
          0.07509,
          0.07863,
          0.08987,
          0.09895,
          0.10726,
          0.08425,
          0.08684,
          0.08821,
          0.08109,
          0.08586,
          0.07468,
          0.08542,
          0.00375,
          0.0808,
          0.08149,
          0.08202,
          0.08232,
          0.08131,
          0.08516,
          0.08315,
          0.07654,
          0.07888,
          0.08652,
          0.09628,
          0.10935,
          0.12593,
          0.11203,
          0.09569,
          0.07973,
          0.07935,
          0.07976,
          0.08138,
          0.07873,
          0.08068,
          0.08677,
          0.08498,
          0.08027,
          0.08223,
          0.07023,
          0.08516,
          0.08481,
          0.08758,
          0.08236,
          0.07964,
          0.07651,
          0.07781,
          0.08332,
          0.09037,
          0.09665,
          0.10444,
          0.10858,
          0.08822,
          0.07972,
          0.07408,
          0.07773,
          0.07831,
          0.07809,
          0.07602,
          0.08202,
          0.0828,
          0.07576,
          0.08205,
          0.08493,
          0.0819,
          0.08623,
          0.0851,
          0.08399,
          0.07998,
          0.07965,
          0.08658,
          0.09248,
          0.10657,
          0.11265,
          0.11394,
          0.09949,
          0.08336,
          0.07436,
          0.07846,
          0.08368,
          0.08373,
          0.07969,
          0.08598,
          0.08176,
          0.08086,
          0.07993,
          0.08088,
          0.08402,
          0.08675,
          0.08504,
          0.08055,
          0.08012,
          0.07748,
          0.07903,
          0.08399,
          0.09082,
          0.09619,
          0.10613,
          0.10091,
          0.09122,
          0.08017,
          0.07653,
          0.07624,
          0.08049,
          0.07909,
          0.07993,
          0.08463,
          0.08811,
          0.08464,
          0.08508,
          0.07792,
          0.07691,
          0.08122,
          0.07702,
          0.08716,
          0.05559,
          0.08498,
          0.08031,
          0.07661,
          0.07756,
          0.07227,
          0.07524,
          0.07045,
          0.06949,
          0.08057,
          0.0867,
          0.08941,
          0.09038,
          0.09096,
          0.0893,
          0.09626,
          0.09569,
          0.09239,
          0.09392,
          0.09519,
          0.09203,
          0.09605,
          0.09397,
          0.08513,
          0.08064,
          0.08193,
          0.07606,
          0.08433,
          0.07991,
          0.07851,
          0.0672,
          0.06185,
          0.06676,
          0.0778,
          0.08197,
          0.08614,
          0.08567,
          0.08634,
          0.08898,
          0.09006,
          0.08378,
          0.08348,
          0.06857,
          0.08227,
          0.08671,
          0.0894,
          0.0881,
          0.08142,
          0.0796,
          0.07601,
          0.07518,
          0.07412,
          0.07654,
          0.07254,
          0.06467,
          0.06226,
          0.0684,
          0.07313,
          0.07594,
          0.0758,
          0.07599,
          0.07815,
          0.07481,
          0.08257,
          0.08015,
          0.07589,
          0.07648,
          0.07455,
          0.07596,
          0.08171,
          0.08152,
          0.07983,
          0.08233,
          0.07943,
          0.07951,
          0.08917,
          0.08487,
          0.08309,
          0.08976,
          0.08165,
          0.08674,
          0.08638,
          0.0849,
          0.08613,
          0.08884,
          0.08916,
          0.08401,
          0.09152,
          0.08832,
          0.066,
          0.05873,
          0.07424,
          0.07801,
          0.07912,
          0.0724,
          0.06967,
          0.06516,
          0.06652,
          0.07484,
          0.07453,
          0.07389,
          0.06527,
          0.07305,
          0.07163,
          0.06153,
          0.06304
         ]
        },
        {
         "line": {
          "shape": "spline"
         },
         "mode": "lines",
         "name": "offline_4,5,6_video2",
         "type": "scatter",
         "x": [
          501,
          502,
          503,
          504,
          505,
          506,
          507,
          508,
          509,
          510,
          511,
          512,
          513,
          514,
          515,
          516,
          517,
          518,
          519,
          520,
          521,
          522,
          523,
          524,
          525,
          526,
          527,
          528,
          529,
          530,
          531,
          532,
          533,
          534,
          535,
          536,
          537,
          538,
          539,
          540,
          541,
          542,
          543,
          545,
          544,
          546,
          547,
          548,
          549,
          550,
          551,
          552,
          553,
          554,
          555,
          556,
          557,
          559,
          560,
          561,
          562,
          563,
          564,
          565,
          566,
          567,
          568,
          569,
          570,
          571,
          572,
          573
         ],
         "y": [
          0.08197,
          0.08614,
          0.08567,
          0.08634,
          0.08898,
          0.09006,
          0.08378,
          0.08348,
          0.06857,
          0.08227,
          0.08671,
          0.0894,
          0.0881,
          0.08142,
          0.0796,
          0.07601,
          0.07518,
          0.07412,
          0.07654,
          0.07254,
          0.06467,
          0.06226,
          0.0684,
          0.07313,
          0.07594,
          0.0758,
          0.07599,
          0.07815,
          0.07481,
          0.08257,
          0.08015,
          0.07589,
          0.07648,
          0.07455,
          0.07596,
          0.08171,
          0.08152,
          0.07983,
          0.08233,
          0.07943,
          0.07951,
          0.08917,
          0.08487,
          0.08976,
          0.08309,
          0.08165,
          0.08674,
          0.08638,
          0.0849,
          0.08613,
          0.08884,
          0.08916,
          0.08401,
          0.09152,
          0.08832,
          0.066,
          0.05873,
          0.07424,
          0.07801,
          0.07912,
          0.0724,
          0.06967,
          0.06516,
          0.06652,
          0.07484,
          0.07453,
          0.07389,
          0.06527,
          0.07305,
          0.07163,
          0.06153,
          0.06304
         ]
        }
       ],
       "layout": {
        "template": {
         "data": {
          "bar": [
           {
            "error_x": {
             "color": "#2a3f5f"
            },
            "error_y": {
             "color": "#2a3f5f"
            },
            "marker": {
             "line": {
              "color": "#E5ECF6",
              "width": 0.5
             }
            },
            "type": "bar"
           }
          ],
          "barpolar": [
           {
            "marker": {
             "line": {
              "color": "#E5ECF6",
              "width": 0.5
             }
            },
            "type": "barpolar"
           }
          ],
          "carpet": [
           {
            "aaxis": {
             "endlinecolor": "#2a3f5f",
             "gridcolor": "white",
             "linecolor": "white",
             "minorgridcolor": "white",
             "startlinecolor": "#2a3f5f"
            },
            "baxis": {
             "endlinecolor": "#2a3f5f",
             "gridcolor": "white",
             "linecolor": "white",
             "minorgridcolor": "white",
             "startlinecolor": "#2a3f5f"
            },
            "type": "carpet"
           }
          ],
          "choropleth": [
           {
            "colorbar": {
             "outlinewidth": 0,
             "ticks": ""
            },
            "type": "choropleth"
           }
          ],
          "contour": [
           {
            "colorbar": {
             "outlinewidth": 0,
             "ticks": ""
            },
            "colorscale": [
             [
              0,
              "#0d0887"
             ],
             [
              0.1111111111111111,
              "#46039f"
             ],
             [
              0.2222222222222222,
              "#7201a8"
             ],
             [
              0.3333333333333333,
              "#9c179e"
             ],
             [
              0.4444444444444444,
              "#bd3786"
             ],
             [
              0.5555555555555556,
              "#d8576b"
             ],
             [
              0.6666666666666666,
              "#ed7953"
             ],
             [
              0.7777777777777778,
              "#fb9f3a"
             ],
             [
              0.8888888888888888,
              "#fdca26"
             ],
             [
              1,
              "#f0f921"
             ]
            ],
            "type": "contour"
           }
          ],
          "contourcarpet": [
           {
            "colorbar": {
             "outlinewidth": 0,
             "ticks": ""
            },
            "type": "contourcarpet"
           }
          ],
          "heatmap": [
           {
            "colorbar": {
             "outlinewidth": 0,
             "ticks": ""
            },
            "colorscale": [
             [
              0,
              "#0d0887"
             ],
             [
              0.1111111111111111,
              "#46039f"
             ],
             [
              0.2222222222222222,
              "#7201a8"
             ],
             [
              0.3333333333333333,
              "#9c179e"
             ],
             [
              0.4444444444444444,
              "#bd3786"
             ],
             [
              0.5555555555555556,
              "#d8576b"
             ],
             [
              0.6666666666666666,
              "#ed7953"
             ],
             [
              0.7777777777777778,
              "#fb9f3a"
             ],
             [
              0.8888888888888888,
              "#fdca26"
             ],
             [
              1,
              "#f0f921"
             ]
            ],
            "type": "heatmap"
           }
          ],
          "heatmapgl": [
           {
            "colorbar": {
             "outlinewidth": 0,
             "ticks": ""
            },
            "colorscale": [
             [
              0,
              "#0d0887"
             ],
             [
              0.1111111111111111,
              "#46039f"
             ],
             [
              0.2222222222222222,
              "#7201a8"
             ],
             [
              0.3333333333333333,
              "#9c179e"
             ],
             [
              0.4444444444444444,
              "#bd3786"
             ],
             [
              0.5555555555555556,
              "#d8576b"
             ],
             [
              0.6666666666666666,
              "#ed7953"
             ],
             [
              0.7777777777777778,
              "#fb9f3a"
             ],
             [
              0.8888888888888888,
              "#fdca26"
             ],
             [
              1,
              "#f0f921"
             ]
            ],
            "type": "heatmapgl"
           }
          ],
          "histogram": [
           {
            "marker": {
             "colorbar": {
              "outlinewidth": 0,
              "ticks": ""
             }
            },
            "type": "histogram"
           }
          ],
          "histogram2d": [
           {
            "colorbar": {
             "outlinewidth": 0,
             "ticks": ""
            },
            "colorscale": [
             [
              0,
              "#0d0887"
             ],
             [
              0.1111111111111111,
              "#46039f"
             ],
             [
              0.2222222222222222,
              "#7201a8"
             ],
             [
              0.3333333333333333,
              "#9c179e"
             ],
             [
              0.4444444444444444,
              "#bd3786"
             ],
             [
              0.5555555555555556,
              "#d8576b"
             ],
             [
              0.6666666666666666,
              "#ed7953"
             ],
             [
              0.7777777777777778,
              "#fb9f3a"
             ],
             [
              0.8888888888888888,
              "#fdca26"
             ],
             [
              1,
              "#f0f921"
             ]
            ],
            "type": "histogram2d"
           }
          ],
          "histogram2dcontour": [
           {
            "colorbar": {
             "outlinewidth": 0,
             "ticks": ""
            },
            "colorscale": [
             [
              0,
              "#0d0887"
             ],
             [
              0.1111111111111111,
              "#46039f"
             ],
             [
              0.2222222222222222,
              "#7201a8"
             ],
             [
              0.3333333333333333,
              "#9c179e"
             ],
             [
              0.4444444444444444,
              "#bd3786"
             ],
             [
              0.5555555555555556,
              "#d8576b"
             ],
             [
              0.6666666666666666,
              "#ed7953"
             ],
             [
              0.7777777777777778,
              "#fb9f3a"
             ],
             [
              0.8888888888888888,
              "#fdca26"
             ],
             [
              1,
              "#f0f921"
             ]
            ],
            "type": "histogram2dcontour"
           }
          ],
          "mesh3d": [
           {
            "colorbar": {
             "outlinewidth": 0,
             "ticks": ""
            },
            "type": "mesh3d"
           }
          ],
          "parcoords": [
           {
            "line": {
             "colorbar": {
              "outlinewidth": 0,
              "ticks": ""
             }
            },
            "type": "parcoords"
           }
          ],
          "scatter": [
           {
            "marker": {
             "colorbar": {
              "outlinewidth": 0,
              "ticks": ""
             }
            },
            "type": "scatter"
           }
          ],
          "scatter3d": [
           {
            "line": {
             "colorbar": {
              "outlinewidth": 0,
              "ticks": ""
             }
            },
            "marker": {
             "colorbar": {
              "outlinewidth": 0,
              "ticks": ""
             }
            },
            "type": "scatter3d"
           }
          ],
          "scattercarpet": [
           {
            "marker": {
             "colorbar": {
              "outlinewidth": 0,
              "ticks": ""
             }
            },
            "type": "scattercarpet"
           }
          ],
          "scattergeo": [
           {
            "marker": {
             "colorbar": {
              "outlinewidth": 0,
              "ticks": ""
             }
            },
            "type": "scattergeo"
           }
          ],
          "scattergl": [
           {
            "marker": {
             "colorbar": {
              "outlinewidth": 0,
              "ticks": ""
             }
            },
            "type": "scattergl"
           }
          ],
          "scattermapbox": [
           {
            "marker": {
             "colorbar": {
              "outlinewidth": 0,
              "ticks": ""
             }
            },
            "type": "scattermapbox"
           }
          ],
          "scatterpolar": [
           {
            "marker": {
             "colorbar": {
              "outlinewidth": 0,
              "ticks": ""
             }
            },
            "type": "scatterpolar"
           }
          ],
          "scatterpolargl": [
           {
            "marker": {
             "colorbar": {
              "outlinewidth": 0,
              "ticks": ""
             }
            },
            "type": "scatterpolargl"
           }
          ],
          "scatterternary": [
           {
            "marker": {
             "colorbar": {
              "outlinewidth": 0,
              "ticks": ""
             }
            },
            "type": "scatterternary"
           }
          ],
          "surface": [
           {
            "colorbar": {
             "outlinewidth": 0,
             "ticks": ""
            },
            "colorscale": [
             [
              0,
              "#0d0887"
             ],
             [
              0.1111111111111111,
              "#46039f"
             ],
             [
              0.2222222222222222,
              "#7201a8"
             ],
             [
              0.3333333333333333,
              "#9c179e"
             ],
             [
              0.4444444444444444,
              "#bd3786"
             ],
             [
              0.5555555555555556,
              "#d8576b"
             ],
             [
              0.6666666666666666,
              "#ed7953"
             ],
             [
              0.7777777777777778,
              "#fb9f3a"
             ],
             [
              0.8888888888888888,
              "#fdca26"
             ],
             [
              1,
              "#f0f921"
             ]
            ],
            "type": "surface"
           }
          ],
          "table": [
           {
            "cells": {
             "fill": {
              "color": "#EBF0F8"
             },
             "line": {
              "color": "white"
             }
            },
            "header": {
             "fill": {
              "color": "#C8D4E3"
             },
             "line": {
              "color": "white"
             }
            },
            "type": "table"
           }
          ]
         },
         "layout": {
          "annotationdefaults": {
           "arrowcolor": "#2a3f5f",
           "arrowhead": 0,
           "arrowwidth": 1
          },
          "colorscale": {
           "diverging": [
            [
             0,
             "#8e0152"
            ],
            [
             0.1,
             "#c51b7d"
            ],
            [
             0.2,
             "#de77ae"
            ],
            [
             0.3,
             "#f1b6da"
            ],
            [
             0.4,
             "#fde0ef"
            ],
            [
             0.5,
             "#f7f7f7"
            ],
            [
             0.6,
             "#e6f5d0"
            ],
            [
             0.7,
             "#b8e186"
            ],
            [
             0.8,
             "#7fbc41"
            ],
            [
             0.9,
             "#4d9221"
            ],
            [
             1,
             "#276419"
            ]
           ],
           "sequential": [
            [
             0,
             "#0d0887"
            ],
            [
             0.1111111111111111,
             "#46039f"
            ],
            [
             0.2222222222222222,
             "#7201a8"
            ],
            [
             0.3333333333333333,
             "#9c179e"
            ],
            [
             0.4444444444444444,
             "#bd3786"
            ],
            [
             0.5555555555555556,
             "#d8576b"
            ],
            [
             0.6666666666666666,
             "#ed7953"
            ],
            [
             0.7777777777777778,
             "#fb9f3a"
            ],
            [
             0.8888888888888888,
             "#fdca26"
            ],
            [
             1,
             "#f0f921"
            ]
           ],
           "sequentialminus": [
            [
             0,
             "#0d0887"
            ],
            [
             0.1111111111111111,
             "#46039f"
            ],
            [
             0.2222222222222222,
             "#7201a8"
            ],
            [
             0.3333333333333333,
             "#9c179e"
            ],
            [
             0.4444444444444444,
             "#bd3786"
            ],
            [
             0.5555555555555556,
             "#d8576b"
            ],
            [
             0.6666666666666666,
             "#ed7953"
            ],
            [
             0.7777777777777778,
             "#fb9f3a"
            ],
            [
             0.8888888888888888,
             "#fdca26"
            ],
            [
             1,
             "#f0f921"
            ]
           ]
          },
          "colorway": [
           "#636efa",
           "#EF553B",
           "#00cc96",
           "#ab63fa",
           "#FFA15A",
           "#19d3f3",
           "#FF6692",
           "#B6E880",
           "#FF97FF",
           "#FECB52"
          ],
          "font": {
           "color": "#2a3f5f"
          },
          "geo": {
           "bgcolor": "white",
           "lakecolor": "white",
           "landcolor": "#E5ECF6",
           "showlakes": true,
           "showland": true,
           "subunitcolor": "white"
          },
          "hoverlabel": {
           "align": "left"
          },
          "hovermode": "closest",
          "mapbox": {
           "style": "light"
          },
          "paper_bgcolor": "white",
          "plot_bgcolor": "#E5ECF6",
          "polar": {
           "angularaxis": {
            "gridcolor": "white",
            "linecolor": "white",
            "ticks": ""
           },
           "bgcolor": "#E5ECF6",
           "radialaxis": {
            "gridcolor": "white",
            "linecolor": "white",
            "ticks": ""
           }
          },
          "scene": {
           "xaxis": {
            "backgroundcolor": "#E5ECF6",
            "gridcolor": "white",
            "gridwidth": 2,
            "linecolor": "white",
            "showbackground": true,
            "ticks": "",
            "zerolinecolor": "white"
           },
           "yaxis": {
            "backgroundcolor": "#E5ECF6",
            "gridcolor": "white",
            "gridwidth": 2,
            "linecolor": "white",
            "showbackground": true,
            "ticks": "",
            "zerolinecolor": "white"
           },
           "zaxis": {
            "backgroundcolor": "#E5ECF6",
            "gridcolor": "white",
            "gridwidth": 2,
            "linecolor": "white",
            "showbackground": true,
            "ticks": "",
            "zerolinecolor": "white"
           }
          },
          "shapedefaults": {
           "line": {
            "color": "#2a3f5f"
           }
          },
          "ternary": {
           "aaxis": {
            "gridcolor": "white",
            "linecolor": "white",
            "ticks": ""
           },
           "baxis": {
            "gridcolor": "white",
            "linecolor": "white",
            "ticks": ""
           },
           "bgcolor": "#E5ECF6",
           "caxis": {
            "gridcolor": "white",
            "linecolor": "white",
            "ticks": ""
           }
          },
          "title": {
           "x": 0.05
          },
          "xaxis": {
           "automargin": true,
           "gridcolor": "white",
           "linecolor": "white",
           "ticks": "",
           "zerolinecolor": "white",
           "zerolinewidth": 2
          },
          "yaxis": {
           "automargin": true,
           "gridcolor": "white",
           "linecolor": "white",
           "ticks": "",
           "zerolinecolor": "white",
           "zerolinewidth": 2
          }
         }
        }
       }
      },
      "text/html": [
       "<div>\n",
       "        \n",
       "        \n",
       "            <div id=\"b33f16c8-5dca-4be1-8b0a-91ca867aeb63\" class=\"plotly-graph-div\" style=\"height:525px; width:100%;\"></div>\n",
       "            <script type=\"text/javascript\">\n",
       "                require([\"plotly\"], function(Plotly) {\n",
       "                    window.PLOTLYENV=window.PLOTLYENV || {};\n",
       "                    \n",
       "                if (document.getElementById(\"b33f16c8-5dca-4be1-8b0a-91ca867aeb63\")) {\n",
       "                    Plotly.newPlot(\n",
       "                        'b33f16c8-5dca-4be1-8b0a-91ca867aeb63',\n",
       "                        [{\"line\": {\"shape\": \"spline\"}, \"mode\": \"lines\", \"name\": \"offline_4,5,6_video\", \"type\": \"scatter\", \"x\": [290, 295, 296, 297, 298, 300, 301, 302, 303, 304, 305, 306, 307, 308, 309, 310, 311, 312, 314, 315, 316, 317, 318, 319, 320, 321, 322, 323, 324, 325, 326, 327, 328, 329, 330, 331, 333, 334, 335, 336, 338, 339, 340, 342, 341, 344, 345, 346, 347, 348, 349, 350, 351, 352, 354, 359, 360, 363, 358, 361, 357, 362, 353, 364, 365, 366, 367, 368, 369, 371, 372, 373, 374, 375, 376, 377, 378, 379, 380, 381, 382, 383, 384, 385, 386, 387, 388, 389, 390, 391, 392, 393, 394, 395, 396, 397, 398, 399, 400, 401, 402, 403, 404, 405, 406, 407, 408, 409, 410, 411, 413, 414, 415, 416, 417, 418, 419, 420, 421, 422, 423, 424, 425, 426, 427, 428, 429, 430, 431, 432, 433, 434, 435, 436, 437, 438, 439, 440, 441, 442, 443, 444, 445, 446, 447, 448, 449, 450, 451, 452, 453, 454, 455, 456, 457, 458, 459, 460, 462, 461, 463, 464, 465, 466, 467, 468, 469, 470, 471, 472, 473, 474, 475, 476, 477, 478, 479, 480, 481, 482, 483, 484, 485, 486, 487, 488, 489, 490, 491, 492, 493, 494, 495, 496, 497, 498, 499, 500, 501, 502, 503, 504, 505, 506, 507, 508, 509, 510, 511, 512, 513, 514, 515, 516, 517, 518, 519, 520, 521, 522, 523, 524, 525, 526, 527, 528, 529, 530, 531, 532, 533, 534, 535, 536, 537, 538, 539, 540, 541, 542, 543, 544, 545, 546, 547, 548, 549, 550, 551, 552, 553, 554, 555, 556, 557, 559, 560, 561, 562, 563, 564, 565, 566, 567, 568, 569, 570, 571, 572, 573], \"y\": [0.11978, 0.06521, 0.06583, 0.06653, 0.06237, 0.09459, 0.08916, 0.09437, 0.09881, 0.1101, 0.11177, 0.1142, 0.1007, 0.09376, 0.08973, 0.08787, 0.09039, 0.08761, 0.08763, 0.08883, 0.08916, 0.08873, 0.08758, 0.0888, 0.0851, 0.08465, 0.08119, 0.07959, 0.07746, 0.07881, 0.08456, 0.09148, 0.09903, 0.11048, 0.1056, 0.09414, 0.0844, 0.08527, 0.08724, 0.08724, 0.08788, 0.08712, 0.08549, 0.08673, 0.08084, 0.08377, 0.08423, 0.07921, 0.07716, 0.07494, 0.07509, 0.07863, 0.08987, 0.09895, 0.10726, 0.08425, 0.08684, 0.08821, 0.08109, 0.08586, 0.07468, 0.08542, 0.00375, 0.0808, 0.08149, 0.08202, 0.08232, 0.08131, 0.08516, 0.08315, 0.07654, 0.07888, 0.08652, 0.09628, 0.10935, 0.12593, 0.11203, 0.09569, 0.07973, 0.07935, 0.07976, 0.08138, 0.07873, 0.08068, 0.08677, 0.08498, 0.08027, 0.08223, 0.07023, 0.08516, 0.08481, 0.08758, 0.08236, 0.07964, 0.07651, 0.07781, 0.08332, 0.09037, 0.09665, 0.10444, 0.10858, 0.08822, 0.07972, 0.07408, 0.07773, 0.07831, 0.07809, 0.07602, 0.08202, 0.0828, 0.07576, 0.08205, 0.08493, 0.0819, 0.08623, 0.0851, 0.08399, 0.07998, 0.07965, 0.08658, 0.09248, 0.10657, 0.11265, 0.11394, 0.09949, 0.08336, 0.07436, 0.07846, 0.08368, 0.08373, 0.07969, 0.08598, 0.08176, 0.08086, 0.07993, 0.08088, 0.08402, 0.08675, 0.08504, 0.08055, 0.08012, 0.07748, 0.07903, 0.08399, 0.09082, 0.09619, 0.10613, 0.10091, 0.09122, 0.08017, 0.07653, 0.07624, 0.08049, 0.07909, 0.07993, 0.08463, 0.08811, 0.08464, 0.08508, 0.07792, 0.07691, 0.08122, 0.07702, 0.08716, 0.05559, 0.08498, 0.08031, 0.07661, 0.07756, 0.07227, 0.07524, 0.07045, 0.06949, 0.08057, 0.0867, 0.08941, 0.09038, 0.09096, 0.0893, 0.09626, 0.09569, 0.09239, 0.09392, 0.09519, 0.09203, 0.09605, 0.09397, 0.08513, 0.08064, 0.08193, 0.07606, 0.08433, 0.07991, 0.07851, 0.0672, 0.06185, 0.06676, 0.0778, 0.08197, 0.08614, 0.08567, 0.08634, 0.08898, 0.09006, 0.08378, 0.08348, 0.06857, 0.08227, 0.08671, 0.0894, 0.0881, 0.08142, 0.0796, 0.07601, 0.07518, 0.07412, 0.07654, 0.07254, 0.06467, 0.06226, 0.0684, 0.07313, 0.07594, 0.0758, 0.07599, 0.07815, 0.07481, 0.08257, 0.08015, 0.07589, 0.07648, 0.07455, 0.07596, 0.08171, 0.08152, 0.07983, 0.08233, 0.07943, 0.07951, 0.08917, 0.08487, 0.08309, 0.08976, 0.08165, 0.08674, 0.08638, 0.0849, 0.08613, 0.08884, 0.08916, 0.08401, 0.09152, 0.08832, 0.066, 0.05873, 0.07424, 0.07801, 0.07912, 0.0724, 0.06967, 0.06516, 0.06652, 0.07484, 0.07453, 0.07389, 0.06527, 0.07305, 0.07163, 0.06153, 0.06304]}, {\"line\": {\"shape\": \"spline\"}, \"mode\": \"lines\", \"name\": \"offline_4,5,6_video2\", \"type\": \"scatter\", \"x\": [501, 502, 503, 504, 505, 506, 507, 508, 509, 510, 511, 512, 513, 514, 515, 516, 517, 518, 519, 520, 521, 522, 523, 524, 525, 526, 527, 528, 529, 530, 531, 532, 533, 534, 535, 536, 537, 538, 539, 540, 541, 542, 543, 545, 544, 546, 547, 548, 549, 550, 551, 552, 553, 554, 555, 556, 557, 559, 560, 561, 562, 563, 564, 565, 566, 567, 568, 569, 570, 571, 572, 573], \"y\": [0.08197, 0.08614, 0.08567, 0.08634, 0.08898, 0.09006, 0.08378, 0.08348, 0.06857, 0.08227, 0.08671, 0.0894, 0.0881, 0.08142, 0.0796, 0.07601, 0.07518, 0.07412, 0.07654, 0.07254, 0.06467, 0.06226, 0.0684, 0.07313, 0.07594, 0.0758, 0.07599, 0.07815, 0.07481, 0.08257, 0.08015, 0.07589, 0.07648, 0.07455, 0.07596, 0.08171, 0.08152, 0.07983, 0.08233, 0.07943, 0.07951, 0.08917, 0.08487, 0.08976, 0.08309, 0.08165, 0.08674, 0.08638, 0.0849, 0.08613, 0.08884, 0.08916, 0.08401, 0.09152, 0.08832, 0.066, 0.05873, 0.07424, 0.07801, 0.07912, 0.0724, 0.06967, 0.06516, 0.06652, 0.07484, 0.07453, 0.07389, 0.06527, 0.07305, 0.07163, 0.06153, 0.06304]}],\n",
       "                        {\"template\": {\"data\": {\"bar\": [{\"error_x\": {\"color\": \"#2a3f5f\"}, \"error_y\": {\"color\": \"#2a3f5f\"}, \"marker\": {\"line\": {\"color\": \"#E5ECF6\", \"width\": 0.5}}, \"type\": \"bar\"}], \"barpolar\": [{\"marker\": {\"line\": {\"color\": \"#E5ECF6\", \"width\": 0.5}}, \"type\": \"barpolar\"}], \"carpet\": [{\"aaxis\": {\"endlinecolor\": \"#2a3f5f\", \"gridcolor\": \"white\", \"linecolor\": \"white\", \"minorgridcolor\": \"white\", \"startlinecolor\": \"#2a3f5f\"}, \"baxis\": {\"endlinecolor\": \"#2a3f5f\", \"gridcolor\": \"white\", \"linecolor\": \"white\", \"minorgridcolor\": \"white\", \"startlinecolor\": \"#2a3f5f\"}, \"type\": \"carpet\"}], \"choropleth\": [{\"colorbar\": {\"outlinewidth\": 0, \"ticks\": \"\"}, \"type\": \"choropleth\"}], \"contour\": [{\"colorbar\": {\"outlinewidth\": 0, \"ticks\": \"\"}, \"colorscale\": [[0.0, \"#0d0887\"], [0.1111111111111111, \"#46039f\"], [0.2222222222222222, \"#7201a8\"], [0.3333333333333333, \"#9c179e\"], [0.4444444444444444, \"#bd3786\"], [0.5555555555555556, \"#d8576b\"], [0.6666666666666666, \"#ed7953\"], [0.7777777777777778, \"#fb9f3a\"], [0.8888888888888888, \"#fdca26\"], [1.0, \"#f0f921\"]], \"type\": \"contour\"}], \"contourcarpet\": [{\"colorbar\": {\"outlinewidth\": 0, \"ticks\": \"\"}, \"type\": \"contourcarpet\"}], \"heatmap\": [{\"colorbar\": {\"outlinewidth\": 0, \"ticks\": \"\"}, \"colorscale\": [[0.0, \"#0d0887\"], [0.1111111111111111, \"#46039f\"], [0.2222222222222222, \"#7201a8\"], [0.3333333333333333, \"#9c179e\"], [0.4444444444444444, \"#bd3786\"], [0.5555555555555556, \"#d8576b\"], [0.6666666666666666, \"#ed7953\"], [0.7777777777777778, \"#fb9f3a\"], [0.8888888888888888, \"#fdca26\"], [1.0, \"#f0f921\"]], \"type\": \"heatmap\"}], \"heatmapgl\": [{\"colorbar\": {\"outlinewidth\": 0, \"ticks\": \"\"}, \"colorscale\": [[0.0, \"#0d0887\"], [0.1111111111111111, \"#46039f\"], [0.2222222222222222, \"#7201a8\"], [0.3333333333333333, \"#9c179e\"], [0.4444444444444444, \"#bd3786\"], [0.5555555555555556, \"#d8576b\"], [0.6666666666666666, \"#ed7953\"], [0.7777777777777778, \"#fb9f3a\"], [0.8888888888888888, \"#fdca26\"], [1.0, \"#f0f921\"]], \"type\": \"heatmapgl\"}], \"histogram\": [{\"marker\": {\"colorbar\": {\"outlinewidth\": 0, \"ticks\": \"\"}}, \"type\": \"histogram\"}], \"histogram2d\": [{\"colorbar\": {\"outlinewidth\": 0, \"ticks\": \"\"}, \"colorscale\": [[0.0, \"#0d0887\"], [0.1111111111111111, \"#46039f\"], [0.2222222222222222, \"#7201a8\"], [0.3333333333333333, \"#9c179e\"], [0.4444444444444444, \"#bd3786\"], [0.5555555555555556, \"#d8576b\"], [0.6666666666666666, \"#ed7953\"], [0.7777777777777778, \"#fb9f3a\"], [0.8888888888888888, \"#fdca26\"], [1.0, \"#f0f921\"]], \"type\": \"histogram2d\"}], \"histogram2dcontour\": [{\"colorbar\": {\"outlinewidth\": 0, \"ticks\": \"\"}, \"colorscale\": [[0.0, \"#0d0887\"], [0.1111111111111111, \"#46039f\"], [0.2222222222222222, \"#7201a8\"], [0.3333333333333333, \"#9c179e\"], [0.4444444444444444, \"#bd3786\"], [0.5555555555555556, \"#d8576b\"], [0.6666666666666666, \"#ed7953\"], [0.7777777777777778, \"#fb9f3a\"], [0.8888888888888888, \"#fdca26\"], [1.0, \"#f0f921\"]], \"type\": \"histogram2dcontour\"}], \"mesh3d\": [{\"colorbar\": {\"outlinewidth\": 0, \"ticks\": \"\"}, \"type\": \"mesh3d\"}], \"parcoords\": [{\"line\": {\"colorbar\": {\"outlinewidth\": 0, \"ticks\": \"\"}}, \"type\": \"parcoords\"}], \"scatter\": [{\"marker\": {\"colorbar\": {\"outlinewidth\": 0, \"ticks\": \"\"}}, \"type\": \"scatter\"}], \"scatter3d\": [{\"line\": {\"colorbar\": {\"outlinewidth\": 0, \"ticks\": \"\"}}, \"marker\": {\"colorbar\": {\"outlinewidth\": 0, \"ticks\": \"\"}}, \"type\": \"scatter3d\"}], \"scattercarpet\": [{\"marker\": {\"colorbar\": {\"outlinewidth\": 0, \"ticks\": \"\"}}, \"type\": \"scattercarpet\"}], \"scattergeo\": [{\"marker\": {\"colorbar\": {\"outlinewidth\": 0, \"ticks\": \"\"}}, \"type\": \"scattergeo\"}], \"scattergl\": [{\"marker\": {\"colorbar\": {\"outlinewidth\": 0, \"ticks\": \"\"}}, \"type\": \"scattergl\"}], \"scattermapbox\": [{\"marker\": {\"colorbar\": {\"outlinewidth\": 0, \"ticks\": \"\"}}, \"type\": \"scattermapbox\"}], \"scatterpolar\": [{\"marker\": {\"colorbar\": {\"outlinewidth\": 0, \"ticks\": \"\"}}, \"type\": \"scatterpolar\"}], \"scatterpolargl\": [{\"marker\": {\"colorbar\": {\"outlinewidth\": 0, \"ticks\": \"\"}}, \"type\": \"scatterpolargl\"}], \"scatterternary\": [{\"marker\": {\"colorbar\": {\"outlinewidth\": 0, \"ticks\": \"\"}}, \"type\": \"scatterternary\"}], \"surface\": [{\"colorbar\": {\"outlinewidth\": 0, \"ticks\": \"\"}, \"colorscale\": [[0.0, \"#0d0887\"], [0.1111111111111111, \"#46039f\"], [0.2222222222222222, \"#7201a8\"], [0.3333333333333333, \"#9c179e\"], [0.4444444444444444, \"#bd3786\"], [0.5555555555555556, \"#d8576b\"], [0.6666666666666666, \"#ed7953\"], [0.7777777777777778, \"#fb9f3a\"], [0.8888888888888888, \"#fdca26\"], [1.0, \"#f0f921\"]], \"type\": \"surface\"}], \"table\": [{\"cells\": {\"fill\": {\"color\": \"#EBF0F8\"}, \"line\": {\"color\": \"white\"}}, \"header\": {\"fill\": {\"color\": \"#C8D4E3\"}, \"line\": {\"color\": \"white\"}}, \"type\": \"table\"}]}, \"layout\": {\"annotationdefaults\": {\"arrowcolor\": \"#2a3f5f\", \"arrowhead\": 0, \"arrowwidth\": 1}, \"colorscale\": {\"diverging\": [[0, \"#8e0152\"], [0.1, \"#c51b7d\"], [0.2, \"#de77ae\"], [0.3, \"#f1b6da\"], [0.4, \"#fde0ef\"], [0.5, \"#f7f7f7\"], [0.6, \"#e6f5d0\"], [0.7, \"#b8e186\"], [0.8, \"#7fbc41\"], [0.9, \"#4d9221\"], [1, \"#276419\"]], \"sequential\": [[0.0, \"#0d0887\"], [0.1111111111111111, \"#46039f\"], [0.2222222222222222, \"#7201a8\"], [0.3333333333333333, \"#9c179e\"], [0.4444444444444444, \"#bd3786\"], [0.5555555555555556, \"#d8576b\"], [0.6666666666666666, \"#ed7953\"], [0.7777777777777778, \"#fb9f3a\"], [0.8888888888888888, \"#fdca26\"], [1.0, \"#f0f921\"]], \"sequentialminus\": [[0.0, \"#0d0887\"], [0.1111111111111111, \"#46039f\"], [0.2222222222222222, \"#7201a8\"], [0.3333333333333333, \"#9c179e\"], [0.4444444444444444, \"#bd3786\"], [0.5555555555555556, \"#d8576b\"], [0.6666666666666666, \"#ed7953\"], [0.7777777777777778, \"#fb9f3a\"], [0.8888888888888888, \"#fdca26\"], [1.0, \"#f0f921\"]]}, \"colorway\": [\"#636efa\", \"#EF553B\", \"#00cc96\", \"#ab63fa\", \"#FFA15A\", \"#19d3f3\", \"#FF6692\", \"#B6E880\", \"#FF97FF\", \"#FECB52\"], \"font\": {\"color\": \"#2a3f5f\"}, \"geo\": {\"bgcolor\": \"white\", \"lakecolor\": \"white\", \"landcolor\": \"#E5ECF6\", \"showlakes\": true, \"showland\": true, \"subunitcolor\": \"white\"}, \"hoverlabel\": {\"align\": \"left\"}, \"hovermode\": \"closest\", \"mapbox\": {\"style\": \"light\"}, \"paper_bgcolor\": \"white\", \"plot_bgcolor\": \"#E5ECF6\", \"polar\": {\"angularaxis\": {\"gridcolor\": \"white\", \"linecolor\": \"white\", \"ticks\": \"\"}, \"bgcolor\": \"#E5ECF6\", \"radialaxis\": {\"gridcolor\": \"white\", \"linecolor\": \"white\", \"ticks\": \"\"}}, \"scene\": {\"xaxis\": {\"backgroundcolor\": \"#E5ECF6\", \"gridcolor\": \"white\", \"gridwidth\": 2, \"linecolor\": \"white\", \"showbackground\": true, \"ticks\": \"\", \"zerolinecolor\": \"white\"}, \"yaxis\": {\"backgroundcolor\": \"#E5ECF6\", \"gridcolor\": \"white\", \"gridwidth\": 2, \"linecolor\": \"white\", \"showbackground\": true, \"ticks\": \"\", \"zerolinecolor\": \"white\"}, \"zaxis\": {\"backgroundcolor\": \"#E5ECF6\", \"gridcolor\": \"white\", \"gridwidth\": 2, \"linecolor\": \"white\", \"showbackground\": true, \"ticks\": \"\", \"zerolinecolor\": \"white\"}}, \"shapedefaults\": {\"line\": {\"color\": \"#2a3f5f\"}}, \"ternary\": {\"aaxis\": {\"gridcolor\": \"white\", \"linecolor\": \"white\", \"ticks\": \"\"}, \"baxis\": {\"gridcolor\": \"white\", \"linecolor\": \"white\", \"ticks\": \"\"}, \"bgcolor\": \"#E5ECF6\", \"caxis\": {\"gridcolor\": \"white\", \"linecolor\": \"white\", \"ticks\": \"\"}}, \"title\": {\"x\": 0.05}, \"xaxis\": {\"automargin\": true, \"gridcolor\": \"white\", \"linecolor\": \"white\", \"ticks\": \"\", \"zerolinecolor\": \"white\", \"zerolinewidth\": 2}, \"yaxis\": {\"automargin\": true, \"gridcolor\": \"white\", \"linecolor\": \"white\", \"ticks\": \"\", \"zerolinecolor\": \"white\", \"zerolinewidth\": 2}}}},\n",
       "                        {\"responsive\": true}\n",
       "                    ).then(function(){\n",
       "                            \n",
       "var gd = document.getElementById('b33f16c8-5dca-4be1-8b0a-91ca867aeb63');\n",
       "var x = new MutationObserver(function (mutations, observer) {{\n",
       "        var display = window.getComputedStyle(gd).display;\n",
       "        if (!display || display === 'none') {{\n",
       "            console.log([gd, 'removed!']);\n",
       "            Plotly.purge(gd);\n",
       "            observer.disconnect();\n",
       "        }}\n",
       "}});\n",
       "\n",
       "// Listen for the removal of the full notebook cells\n",
       "var notebookContainer = gd.closest('#notebook-container');\n",
       "if (notebookContainer) {{\n",
       "    x.observe(notebookContainer, {childList: true});\n",
       "}}\n",
       "\n",
       "// Listen for the clearing of the current output cell\n",
       "var outputEl = gd.closest('.output');\n",
       "if (outputEl) {{\n",
       "    x.observe(outputEl, {childList: true});\n",
       "}}\n",
       "\n",
       "                        })\n",
       "                };\n",
       "                });\n",
       "            </script>\n",
       "        </div>"
      ]
     },
     "metadata": {},
     "output_type": "display_data"
    }
   ],
   "source": [
    "show('pos_ratio')"
   ]
  },
  {
   "cell_type": "code",
   "execution_count": 28,
   "metadata": {},
   "outputs": [
    {
     "data": {
      "application/vnd.plotly.v1+json": {
       "config": {
        "linkText": "Export to plot.ly",
        "plotlyServerURL": "https://plot.ly",
        "showLink": false
       },
       "data": [
        {
         "line": {
          "shape": "spline"
         },
         "mode": "lines",
         "name": "offline_4,5,6_video",
         "type": "scatter",
         "x": [
          290,
          295,
          296,
          297,
          298,
          300,
          301,
          302,
          303,
          304,
          305,
          306,
          307,
          308,
          309,
          310,
          311,
          312,
          314,
          315,
          316,
          317,
          318,
          319,
          320,
          321,
          322,
          323,
          324,
          325,
          326,
          327,
          328,
          329,
          330,
          331,
          333,
          334,
          335,
          336,
          338,
          339,
          340,
          342,
          341,
          344,
          345,
          346,
          347,
          348,
          349,
          350,
          351,
          352,
          354,
          359,
          360,
          363,
          358,
          361,
          357,
          362,
          353,
          364,
          365,
          366,
          367,
          368,
          369,
          371,
          372,
          373,
          374,
          375,
          376,
          377,
          378,
          379,
          380,
          381,
          382,
          383,
          384,
          385,
          386,
          387,
          388,
          389,
          390,
          391,
          392,
          393,
          394,
          395,
          396,
          397,
          398,
          399,
          400,
          401,
          402,
          403,
          404,
          405,
          406,
          407,
          408,
          409,
          410,
          411,
          413,
          414,
          415,
          416,
          417,
          418,
          419,
          420,
          421,
          422,
          423,
          424,
          425,
          426,
          427,
          428,
          429,
          430,
          431,
          432,
          433,
          434,
          435,
          436,
          437,
          438,
          439,
          440,
          441,
          442,
          443,
          444,
          445,
          446,
          447,
          448,
          449,
          450,
          451,
          452,
          453,
          454,
          455,
          456,
          457,
          458,
          459,
          460,
          462,
          461,
          463,
          464,
          465,
          466,
          467,
          468,
          469,
          470,
          471,
          472,
          473,
          474,
          475,
          476,
          477,
          478,
          479,
          480,
          481,
          482,
          483,
          484,
          485,
          486,
          487,
          488,
          489,
          490,
          491,
          492,
          493,
          494,
          495,
          496,
          497,
          498,
          499,
          500,
          501,
          502,
          503,
          504,
          505,
          506,
          507,
          508,
          509,
          510,
          511,
          512,
          513,
          514,
          515,
          516,
          517,
          518,
          519,
          520,
          521,
          522,
          523,
          524,
          525,
          526,
          527,
          528,
          529,
          530,
          531,
          532,
          533,
          534,
          535,
          536,
          537,
          538,
          539,
          540,
          541,
          542,
          543,
          544,
          545,
          546,
          547,
          548,
          549,
          550,
          551,
          552,
          553,
          554,
          555,
          556,
          557,
          559,
          560,
          561,
          562,
          563,
          564,
          565,
          566,
          567,
          568,
          569,
          570,
          571,
          572,
          573
         ],
         "y": [
          0.57981,
          0.58553,
          0.60244,
          0.58848,
          0.59937,
          0.61143,
          0.60664,
          0.6056,
          0.59442,
          0.59838,
          0.61349,
          0.60571,
          0.58755,
          0.59357,
          0.58678,
          0.62298,
          0.61221,
          0.61756,
          0.6253,
          0.61394,
          0.62051,
          0.61562,
          0.62088,
          0.61993,
          0.62151,
          0.61942,
          0.63166,
          0.6112,
          0.61083,
          0.61312,
          0.60929,
          0.61625,
          0.6067,
          0.61617,
          0.6312,
          0.60976,
          0.6271,
          0.628,
          0.63661,
          0.63429,
          0.61805,
          0.63583,
          0.63698,
          0.63665,
          0.63186,
          0.63192,
          0.6391,
          0.63236,
          0.62937,
          0.62975,
          0.63328,
          0.62834,
          0.64604,
          0.62956,
          0.63493,
          0.65738,
          0.62636,
          0.63441,
          0.6295,
          0.63274,
          0.63763,
          0.64013,
          0.6209,
          0.61392,
          0.62777,
          0.63352,
          0.63465,
          0.62693,
          0.64271,
          0.63937,
          0.63424,
          0.62662,
          0.64603,
          0.62186,
          0.63821,
          0.64838,
          0.65239,
          0.64262,
          0.64707,
          0.63669,
          0.62782,
          0.63645,
          0.62663,
          0.62756,
          0.63223,
          0.63762,
          0.62272,
          0.63432,
          0.62492,
          0.62237,
          0.63235,
          0.63242,
          0.63794,
          0.62395,
          0.64162,
          0.62745,
          0.62912,
          0.64001,
          0.64115,
          0.64453,
          0.64424,
          0.65121,
          0.63485,
          0.62814,
          0.63636,
          0.64787,
          0.64122,
          0.63074,
          0.6287,
          0.63477,
          0.62316,
          0.62739,
          0.61222,
          0.62181,
          0.61826,
          0.63421,
          0.61473,
          0.62417,
          0.62174,
          0.62171,
          0.62082,
          0.60605,
          0.62566,
          0.6253,
          0.61509,
          0.61249,
          0.62068,
          0.61104,
          0.61446,
          0.61935,
          0.61258,
          0.60777,
          0.60269,
          0.60953,
          0.59489,
          0.61059,
          0.59691,
          0.60606,
          0.61109,
          0.61366,
          0.61292,
          0.61285,
          0.61342,
          0.59393,
          0.60615,
          0.62767,
          0.58798,
          0.62847,
          0.60968,
          0.6047,
          0.62135,
          0.61615,
          0.6067,
          0.61194,
          0.60398,
          0.61238,
          0.61372,
          0.61914,
          0.62348,
          0.60365,
          0.62441,
          0.61956,
          0.61804,
          0.61685,
          0.61231,
          0.61605,
          0.61362,
          0.6143,
          0.61575,
          0.60925,
          0.61026,
          0.63745,
          0.59729,
          0.62501,
          0.61832,
          0.61224,
          0.62391,
          0.61822,
          0.54963,
          0.55265,
          0.61651,
          0.61362,
          0.61632,
          0.60976,
          0.61488,
          0.60584,
          0.60969,
          0.61716,
          0.6133,
          0.61866,
          0.60374,
          0.61852,
          0.61585,
          0.63252,
          0.62603,
          0.62675,
          0.62101,
          0.62344,
          0.6126,
          0.62895,
          0.62751,
          0.61551,
          0.6142,
          0.61757,
          0.60971,
          0.61362,
          0.6023,
          0.60692,
          0.61035,
          0.61758,
          0.61153,
          0.61719,
          0.61263,
          0.621,
          0.62229,
          0.60658,
          0.61304,
          0.6307,
          0.62754,
          0.63002,
          0.61492,
          0.61997,
          0.6128,
          0.61706,
          0.61718,
          0.60427,
          0.59437,
          0.6162,
          0.61094,
          0.62354,
          0.62077,
          0.62995,
          0.62499,
          0.62649,
          0.61676,
          0.63215,
          0.61482,
          0.61853,
          0.62724,
          0.61209,
          0.62966,
          0.61976,
          0.60623,
          0.63006,
          0.62028,
          0.62488,
          0.61977,
          0.61037,
          0.62568,
          0.60909,
          0.62192,
          0.60739,
          0.62447,
          0.60069,
          0.62013,
          0.62139,
          0.61228,
          0.60853,
          0.62746,
          0.61545,
          0.61131,
          0.6131,
          0.6065,
          0.62937,
          0.62345,
          0.65882,
          0.63599,
          0.63515,
          0.63767,
          0.63979
         ]
        },
        {
         "line": {
          "shape": "spline"
         },
         "mode": "lines",
         "name": "offline_4,5,6_video2",
         "type": "scatter",
         "x": [
          501,
          502,
          503,
          504,
          505,
          506,
          507,
          508,
          509,
          510,
          511,
          512,
          513,
          514,
          515,
          516,
          517,
          518,
          519,
          520,
          521,
          522,
          523,
          524,
          525,
          526,
          527,
          528,
          529,
          530,
          531,
          532,
          533,
          534,
          535,
          536,
          537,
          538,
          539,
          540,
          541,
          542,
          543,
          545,
          544,
          546,
          547,
          548,
          549,
          550,
          551,
          552,
          553,
          554,
          555,
          556,
          557,
          559,
          560,
          561,
          562,
          563,
          564,
          565,
          566,
          567,
          568,
          569,
          570,
          571,
          572,
          573
         ],
         "y": [
          0.6104,
          0.63171,
          0.57391,
          0.56375,
          0.58112,
          0.59288,
          0.58097,
          0.60303,
          0.59471,
          0.59381,
          0.59682,
          0.60136,
          0.59679,
          0.60937,
          0.60353,
          0.61388,
          0.60923,
          0.59591,
          0.60154,
          0.61712,
          0.6209,
          0.62686,
          0.60878,
          0.6131,
          0.60328,
          0.60975,
          0.60809,
          0.59282,
          0.59101,
          0.60533,
          0.60595,
          0.62246,
          0.61977,
          0.63085,
          0.62032,
          0.62234,
          0.61237,
          0.62639,
          0.61039,
          0.61326,
          0.62809,
          0.6091,
          0.63485,
          0.59966,
          0.60385,
          0.63648,
          0.60516,
          0.63376,
          0.62159,
          0.60091,
          0.61532,
          0.60351,
          0.62365,
          0.59682,
          0.60128,
          0.59109,
          0.58296,
          0.60731,
          0.6029,
          0.60604,
          0.62399,
          0.60001,
          0.60478,
          0.60687,
          0.59802,
          0.60434,
          0.53446,
          0.57533,
          0.559,
          0.57879,
          0.59277,
          0.57528
         ]
        }
       ],
       "layout": {
        "template": {
         "data": {
          "bar": [
           {
            "error_x": {
             "color": "#2a3f5f"
            },
            "error_y": {
             "color": "#2a3f5f"
            },
            "marker": {
             "line": {
              "color": "#E5ECF6",
              "width": 0.5
             }
            },
            "type": "bar"
           }
          ],
          "barpolar": [
           {
            "marker": {
             "line": {
              "color": "#E5ECF6",
              "width": 0.5
             }
            },
            "type": "barpolar"
           }
          ],
          "carpet": [
           {
            "aaxis": {
             "endlinecolor": "#2a3f5f",
             "gridcolor": "white",
             "linecolor": "white",
             "minorgridcolor": "white",
             "startlinecolor": "#2a3f5f"
            },
            "baxis": {
             "endlinecolor": "#2a3f5f",
             "gridcolor": "white",
             "linecolor": "white",
             "minorgridcolor": "white",
             "startlinecolor": "#2a3f5f"
            },
            "type": "carpet"
           }
          ],
          "choropleth": [
           {
            "colorbar": {
             "outlinewidth": 0,
             "ticks": ""
            },
            "type": "choropleth"
           }
          ],
          "contour": [
           {
            "colorbar": {
             "outlinewidth": 0,
             "ticks": ""
            },
            "colorscale": [
             [
              0,
              "#0d0887"
             ],
             [
              0.1111111111111111,
              "#46039f"
             ],
             [
              0.2222222222222222,
              "#7201a8"
             ],
             [
              0.3333333333333333,
              "#9c179e"
             ],
             [
              0.4444444444444444,
              "#bd3786"
             ],
             [
              0.5555555555555556,
              "#d8576b"
             ],
             [
              0.6666666666666666,
              "#ed7953"
             ],
             [
              0.7777777777777778,
              "#fb9f3a"
             ],
             [
              0.8888888888888888,
              "#fdca26"
             ],
             [
              1,
              "#f0f921"
             ]
            ],
            "type": "contour"
           }
          ],
          "contourcarpet": [
           {
            "colorbar": {
             "outlinewidth": 0,
             "ticks": ""
            },
            "type": "contourcarpet"
           }
          ],
          "heatmap": [
           {
            "colorbar": {
             "outlinewidth": 0,
             "ticks": ""
            },
            "colorscale": [
             [
              0,
              "#0d0887"
             ],
             [
              0.1111111111111111,
              "#46039f"
             ],
             [
              0.2222222222222222,
              "#7201a8"
             ],
             [
              0.3333333333333333,
              "#9c179e"
             ],
             [
              0.4444444444444444,
              "#bd3786"
             ],
             [
              0.5555555555555556,
              "#d8576b"
             ],
             [
              0.6666666666666666,
              "#ed7953"
             ],
             [
              0.7777777777777778,
              "#fb9f3a"
             ],
             [
              0.8888888888888888,
              "#fdca26"
             ],
             [
              1,
              "#f0f921"
             ]
            ],
            "type": "heatmap"
           }
          ],
          "heatmapgl": [
           {
            "colorbar": {
             "outlinewidth": 0,
             "ticks": ""
            },
            "colorscale": [
             [
              0,
              "#0d0887"
             ],
             [
              0.1111111111111111,
              "#46039f"
             ],
             [
              0.2222222222222222,
              "#7201a8"
             ],
             [
              0.3333333333333333,
              "#9c179e"
             ],
             [
              0.4444444444444444,
              "#bd3786"
             ],
             [
              0.5555555555555556,
              "#d8576b"
             ],
             [
              0.6666666666666666,
              "#ed7953"
             ],
             [
              0.7777777777777778,
              "#fb9f3a"
             ],
             [
              0.8888888888888888,
              "#fdca26"
             ],
             [
              1,
              "#f0f921"
             ]
            ],
            "type": "heatmapgl"
           }
          ],
          "histogram": [
           {
            "marker": {
             "colorbar": {
              "outlinewidth": 0,
              "ticks": ""
             }
            },
            "type": "histogram"
           }
          ],
          "histogram2d": [
           {
            "colorbar": {
             "outlinewidth": 0,
             "ticks": ""
            },
            "colorscale": [
             [
              0,
              "#0d0887"
             ],
             [
              0.1111111111111111,
              "#46039f"
             ],
             [
              0.2222222222222222,
              "#7201a8"
             ],
             [
              0.3333333333333333,
              "#9c179e"
             ],
             [
              0.4444444444444444,
              "#bd3786"
             ],
             [
              0.5555555555555556,
              "#d8576b"
             ],
             [
              0.6666666666666666,
              "#ed7953"
             ],
             [
              0.7777777777777778,
              "#fb9f3a"
             ],
             [
              0.8888888888888888,
              "#fdca26"
             ],
             [
              1,
              "#f0f921"
             ]
            ],
            "type": "histogram2d"
           }
          ],
          "histogram2dcontour": [
           {
            "colorbar": {
             "outlinewidth": 0,
             "ticks": ""
            },
            "colorscale": [
             [
              0,
              "#0d0887"
             ],
             [
              0.1111111111111111,
              "#46039f"
             ],
             [
              0.2222222222222222,
              "#7201a8"
             ],
             [
              0.3333333333333333,
              "#9c179e"
             ],
             [
              0.4444444444444444,
              "#bd3786"
             ],
             [
              0.5555555555555556,
              "#d8576b"
             ],
             [
              0.6666666666666666,
              "#ed7953"
             ],
             [
              0.7777777777777778,
              "#fb9f3a"
             ],
             [
              0.8888888888888888,
              "#fdca26"
             ],
             [
              1,
              "#f0f921"
             ]
            ],
            "type": "histogram2dcontour"
           }
          ],
          "mesh3d": [
           {
            "colorbar": {
             "outlinewidth": 0,
             "ticks": ""
            },
            "type": "mesh3d"
           }
          ],
          "parcoords": [
           {
            "line": {
             "colorbar": {
              "outlinewidth": 0,
              "ticks": ""
             }
            },
            "type": "parcoords"
           }
          ],
          "scatter": [
           {
            "marker": {
             "colorbar": {
              "outlinewidth": 0,
              "ticks": ""
             }
            },
            "type": "scatter"
           }
          ],
          "scatter3d": [
           {
            "line": {
             "colorbar": {
              "outlinewidth": 0,
              "ticks": ""
             }
            },
            "marker": {
             "colorbar": {
              "outlinewidth": 0,
              "ticks": ""
             }
            },
            "type": "scatter3d"
           }
          ],
          "scattercarpet": [
           {
            "marker": {
             "colorbar": {
              "outlinewidth": 0,
              "ticks": ""
             }
            },
            "type": "scattercarpet"
           }
          ],
          "scattergeo": [
           {
            "marker": {
             "colorbar": {
              "outlinewidth": 0,
              "ticks": ""
             }
            },
            "type": "scattergeo"
           }
          ],
          "scattergl": [
           {
            "marker": {
             "colorbar": {
              "outlinewidth": 0,
              "ticks": ""
             }
            },
            "type": "scattergl"
           }
          ],
          "scattermapbox": [
           {
            "marker": {
             "colorbar": {
              "outlinewidth": 0,
              "ticks": ""
             }
            },
            "type": "scattermapbox"
           }
          ],
          "scatterpolar": [
           {
            "marker": {
             "colorbar": {
              "outlinewidth": 0,
              "ticks": ""
             }
            },
            "type": "scatterpolar"
           }
          ],
          "scatterpolargl": [
           {
            "marker": {
             "colorbar": {
              "outlinewidth": 0,
              "ticks": ""
             }
            },
            "type": "scatterpolargl"
           }
          ],
          "scatterternary": [
           {
            "marker": {
             "colorbar": {
              "outlinewidth": 0,
              "ticks": ""
             }
            },
            "type": "scatterternary"
           }
          ],
          "surface": [
           {
            "colorbar": {
             "outlinewidth": 0,
             "ticks": ""
            },
            "colorscale": [
             [
              0,
              "#0d0887"
             ],
             [
              0.1111111111111111,
              "#46039f"
             ],
             [
              0.2222222222222222,
              "#7201a8"
             ],
             [
              0.3333333333333333,
              "#9c179e"
             ],
             [
              0.4444444444444444,
              "#bd3786"
             ],
             [
              0.5555555555555556,
              "#d8576b"
             ],
             [
              0.6666666666666666,
              "#ed7953"
             ],
             [
              0.7777777777777778,
              "#fb9f3a"
             ],
             [
              0.8888888888888888,
              "#fdca26"
             ],
             [
              1,
              "#f0f921"
             ]
            ],
            "type": "surface"
           }
          ],
          "table": [
           {
            "cells": {
             "fill": {
              "color": "#EBF0F8"
             },
             "line": {
              "color": "white"
             }
            },
            "header": {
             "fill": {
              "color": "#C8D4E3"
             },
             "line": {
              "color": "white"
             }
            },
            "type": "table"
           }
          ]
         },
         "layout": {
          "annotationdefaults": {
           "arrowcolor": "#2a3f5f",
           "arrowhead": 0,
           "arrowwidth": 1
          },
          "colorscale": {
           "diverging": [
            [
             0,
             "#8e0152"
            ],
            [
             0.1,
             "#c51b7d"
            ],
            [
             0.2,
             "#de77ae"
            ],
            [
             0.3,
             "#f1b6da"
            ],
            [
             0.4,
             "#fde0ef"
            ],
            [
             0.5,
             "#f7f7f7"
            ],
            [
             0.6,
             "#e6f5d0"
            ],
            [
             0.7,
             "#b8e186"
            ],
            [
             0.8,
             "#7fbc41"
            ],
            [
             0.9,
             "#4d9221"
            ],
            [
             1,
             "#276419"
            ]
           ],
           "sequential": [
            [
             0,
             "#0d0887"
            ],
            [
             0.1111111111111111,
             "#46039f"
            ],
            [
             0.2222222222222222,
             "#7201a8"
            ],
            [
             0.3333333333333333,
             "#9c179e"
            ],
            [
             0.4444444444444444,
             "#bd3786"
            ],
            [
             0.5555555555555556,
             "#d8576b"
            ],
            [
             0.6666666666666666,
             "#ed7953"
            ],
            [
             0.7777777777777778,
             "#fb9f3a"
            ],
            [
             0.8888888888888888,
             "#fdca26"
            ],
            [
             1,
             "#f0f921"
            ]
           ],
           "sequentialminus": [
            [
             0,
             "#0d0887"
            ],
            [
             0.1111111111111111,
             "#46039f"
            ],
            [
             0.2222222222222222,
             "#7201a8"
            ],
            [
             0.3333333333333333,
             "#9c179e"
            ],
            [
             0.4444444444444444,
             "#bd3786"
            ],
            [
             0.5555555555555556,
             "#d8576b"
            ],
            [
             0.6666666666666666,
             "#ed7953"
            ],
            [
             0.7777777777777778,
             "#fb9f3a"
            ],
            [
             0.8888888888888888,
             "#fdca26"
            ],
            [
             1,
             "#f0f921"
            ]
           ]
          },
          "colorway": [
           "#636efa",
           "#EF553B",
           "#00cc96",
           "#ab63fa",
           "#FFA15A",
           "#19d3f3",
           "#FF6692",
           "#B6E880",
           "#FF97FF",
           "#FECB52"
          ],
          "font": {
           "color": "#2a3f5f"
          },
          "geo": {
           "bgcolor": "white",
           "lakecolor": "white",
           "landcolor": "#E5ECF6",
           "showlakes": true,
           "showland": true,
           "subunitcolor": "white"
          },
          "hoverlabel": {
           "align": "left"
          },
          "hovermode": "closest",
          "mapbox": {
           "style": "light"
          },
          "paper_bgcolor": "white",
          "plot_bgcolor": "#E5ECF6",
          "polar": {
           "angularaxis": {
            "gridcolor": "white",
            "linecolor": "white",
            "ticks": ""
           },
           "bgcolor": "#E5ECF6",
           "radialaxis": {
            "gridcolor": "white",
            "linecolor": "white",
            "ticks": ""
           }
          },
          "scene": {
           "xaxis": {
            "backgroundcolor": "#E5ECF6",
            "gridcolor": "white",
            "gridwidth": 2,
            "linecolor": "white",
            "showbackground": true,
            "ticks": "",
            "zerolinecolor": "white"
           },
           "yaxis": {
            "backgroundcolor": "#E5ECF6",
            "gridcolor": "white",
            "gridwidth": 2,
            "linecolor": "white",
            "showbackground": true,
            "ticks": "",
            "zerolinecolor": "white"
           },
           "zaxis": {
            "backgroundcolor": "#E5ECF6",
            "gridcolor": "white",
            "gridwidth": 2,
            "linecolor": "white",
            "showbackground": true,
            "ticks": "",
            "zerolinecolor": "white"
           }
          },
          "shapedefaults": {
           "line": {
            "color": "#2a3f5f"
           }
          },
          "ternary": {
           "aaxis": {
            "gridcolor": "white",
            "linecolor": "white",
            "ticks": ""
           },
           "baxis": {
            "gridcolor": "white",
            "linecolor": "white",
            "ticks": ""
           },
           "bgcolor": "#E5ECF6",
           "caxis": {
            "gridcolor": "white",
            "linecolor": "white",
            "ticks": ""
           }
          },
          "title": {
           "x": 0.05
          },
          "xaxis": {
           "automargin": true,
           "gridcolor": "white",
           "linecolor": "white",
           "ticks": "",
           "zerolinecolor": "white",
           "zerolinewidth": 2
          },
          "yaxis": {
           "automargin": true,
           "gridcolor": "white",
           "linecolor": "white",
           "ticks": "",
           "zerolinecolor": "white",
           "zerolinewidth": 2
          }
         }
        }
       }
      },
      "text/html": [
       "<div>\n",
       "        \n",
       "        \n",
       "            <div id=\"d6efb398-da6c-4da5-87bf-a236e8d4c7ee\" class=\"plotly-graph-div\" style=\"height:525px; width:100%;\"></div>\n",
       "            <script type=\"text/javascript\">\n",
       "                require([\"plotly\"], function(Plotly) {\n",
       "                    window.PLOTLYENV=window.PLOTLYENV || {};\n",
       "                    \n",
       "                if (document.getElementById(\"d6efb398-da6c-4da5-87bf-a236e8d4c7ee\")) {\n",
       "                    Plotly.newPlot(\n",
       "                        'd6efb398-da6c-4da5-87bf-a236e8d4c7ee',\n",
       "                        [{\"line\": {\"shape\": \"spline\"}, \"mode\": \"lines\", \"name\": \"offline_4,5,6_video\", \"type\": \"scatter\", \"x\": [290, 295, 296, 297, 298, 300, 301, 302, 303, 304, 305, 306, 307, 308, 309, 310, 311, 312, 314, 315, 316, 317, 318, 319, 320, 321, 322, 323, 324, 325, 326, 327, 328, 329, 330, 331, 333, 334, 335, 336, 338, 339, 340, 342, 341, 344, 345, 346, 347, 348, 349, 350, 351, 352, 354, 359, 360, 363, 358, 361, 357, 362, 353, 364, 365, 366, 367, 368, 369, 371, 372, 373, 374, 375, 376, 377, 378, 379, 380, 381, 382, 383, 384, 385, 386, 387, 388, 389, 390, 391, 392, 393, 394, 395, 396, 397, 398, 399, 400, 401, 402, 403, 404, 405, 406, 407, 408, 409, 410, 411, 413, 414, 415, 416, 417, 418, 419, 420, 421, 422, 423, 424, 425, 426, 427, 428, 429, 430, 431, 432, 433, 434, 435, 436, 437, 438, 439, 440, 441, 442, 443, 444, 445, 446, 447, 448, 449, 450, 451, 452, 453, 454, 455, 456, 457, 458, 459, 460, 462, 461, 463, 464, 465, 466, 467, 468, 469, 470, 471, 472, 473, 474, 475, 476, 477, 478, 479, 480, 481, 482, 483, 484, 485, 486, 487, 488, 489, 490, 491, 492, 493, 494, 495, 496, 497, 498, 499, 500, 501, 502, 503, 504, 505, 506, 507, 508, 509, 510, 511, 512, 513, 514, 515, 516, 517, 518, 519, 520, 521, 522, 523, 524, 525, 526, 527, 528, 529, 530, 531, 532, 533, 534, 535, 536, 537, 538, 539, 540, 541, 542, 543, 544, 545, 546, 547, 548, 549, 550, 551, 552, 553, 554, 555, 556, 557, 559, 560, 561, 562, 563, 564, 565, 566, 567, 568, 569, 570, 571, 572, 573], \"y\": [0.57981, 0.58553, 0.60244, 0.58848, 0.59937, 0.61143, 0.60664, 0.6056, 0.59442, 0.59838, 0.61349, 0.60571, 0.58755, 0.59357, 0.58678, 0.62298, 0.61221, 0.61756, 0.6253, 0.61394, 0.62051, 0.61562, 0.62088, 0.61993, 0.62151, 0.61942, 0.63166, 0.6112, 0.61083, 0.61312, 0.60929, 0.61625, 0.6067, 0.61617, 0.6312, 0.60976, 0.6271, 0.628, 0.63661, 0.63429, 0.61805, 0.63583, 0.63698, 0.63665, 0.63186, 0.63192, 0.6391, 0.63236, 0.62937, 0.62975, 0.63328, 0.62834, 0.64604, 0.62956, 0.63493, 0.65738, 0.62636, 0.63441, 0.6295, 0.63274, 0.63763, 0.64013, 0.6209, 0.61392, 0.62777, 0.63352, 0.63465, 0.62693, 0.64271, 0.63937, 0.63424, 0.62662, 0.64603, 0.62186, 0.63821, 0.64838, 0.65239, 0.64262, 0.64707, 0.63669, 0.62782, 0.63645, 0.62663, 0.62756, 0.63223, 0.63762, 0.62272, 0.63432, 0.62492, 0.62237, 0.63235, 0.63242, 0.63794, 0.62395, 0.64162, 0.62745, 0.62912, 0.64001, 0.64115, 0.64453, 0.64424, 0.65121, 0.63485, 0.62814, 0.63636, 0.64787, 0.64122, 0.63074, 0.6287, 0.63477, 0.62316, 0.62739, 0.61222, 0.62181, 0.61826, 0.63421, 0.61473, 0.62417, 0.62174, 0.62171, 0.62082, 0.60605, 0.62566, 0.6253, 0.61509, 0.61249, 0.62068, 0.61104, 0.61446, 0.61935, 0.61258, 0.60777, 0.60269, 0.60953, 0.59489, 0.61059, 0.59691, 0.60606, 0.61109, 0.61366, 0.61292, 0.61285, 0.61342, 0.59393, 0.60615, 0.62767, 0.58798, 0.62847, 0.60968, 0.6047, 0.62135, 0.61615, 0.6067, 0.61194, 0.60398, 0.61238, 0.61372, 0.61914, 0.62348, 0.60365, 0.62441, 0.61956, 0.61804, 0.61685, 0.61231, 0.61605, 0.61362, 0.6143, 0.61575, 0.60925, 0.61026, 0.63745, 0.59729, 0.62501, 0.61832, 0.61224, 0.62391, 0.61822, 0.54963, 0.55265, 0.61651, 0.61362, 0.61632, 0.60976, 0.61488, 0.60584, 0.60969, 0.61716, 0.6133, 0.61866, 0.60374, 0.61852, 0.61585, 0.63252, 0.62603, 0.62675, 0.62101, 0.62344, 0.6126, 0.62895, 0.62751, 0.61551, 0.6142, 0.61757, 0.60971, 0.61362, 0.6023, 0.60692, 0.61035, 0.61758, 0.61153, 0.61719, 0.61263, 0.621, 0.62229, 0.60658, 0.61304, 0.6307, 0.62754, 0.63002, 0.61492, 0.61997, 0.6128, 0.61706, 0.61718, 0.60427, 0.59437, 0.6162, 0.61094, 0.62354, 0.62077, 0.62995, 0.62499, 0.62649, 0.61676, 0.63215, 0.61482, 0.61853, 0.62724, 0.61209, 0.62966, 0.61976, 0.60623, 0.63006, 0.62028, 0.62488, 0.61977, 0.61037, 0.62568, 0.60909, 0.62192, 0.60739, 0.62447, 0.60069, 0.62013, 0.62139, 0.61228, 0.60853, 0.62746, 0.61545, 0.61131, 0.6131, 0.6065, 0.62937, 0.62345, 0.65882, 0.63599, 0.63515, 0.63767, 0.63979]}, {\"line\": {\"shape\": \"spline\"}, \"mode\": \"lines\", \"name\": \"offline_4,5,6_video2\", \"type\": \"scatter\", \"x\": [501, 502, 503, 504, 505, 506, 507, 508, 509, 510, 511, 512, 513, 514, 515, 516, 517, 518, 519, 520, 521, 522, 523, 524, 525, 526, 527, 528, 529, 530, 531, 532, 533, 534, 535, 536, 537, 538, 539, 540, 541, 542, 543, 545, 544, 546, 547, 548, 549, 550, 551, 552, 553, 554, 555, 556, 557, 559, 560, 561, 562, 563, 564, 565, 566, 567, 568, 569, 570, 571, 572, 573], \"y\": [0.6104, 0.63171, 0.57391, 0.56375, 0.58112, 0.59288, 0.58097, 0.60303, 0.59471, 0.59381, 0.59682, 0.60136, 0.59679, 0.60937, 0.60353, 0.61388, 0.60923, 0.59591, 0.60154, 0.61712, 0.6209, 0.62686, 0.60878, 0.6131, 0.60328, 0.60975, 0.60809, 0.59282, 0.59101, 0.60533, 0.60595, 0.62246, 0.61977, 0.63085, 0.62032, 0.62234, 0.61237, 0.62639, 0.61039, 0.61326, 0.62809, 0.6091, 0.63485, 0.59966, 0.60385, 0.63648, 0.60516, 0.63376, 0.62159, 0.60091, 0.61532, 0.60351, 0.62365, 0.59682, 0.60128, 0.59109, 0.58296, 0.60731, 0.6029, 0.60604, 0.62399, 0.60001, 0.60478, 0.60687, 0.59802, 0.60434, 0.53446, 0.57533, 0.559, 0.57879, 0.59277, 0.57528]}],\n",
       "                        {\"template\": {\"data\": {\"bar\": [{\"error_x\": {\"color\": \"#2a3f5f\"}, \"error_y\": {\"color\": \"#2a3f5f\"}, \"marker\": {\"line\": {\"color\": \"#E5ECF6\", \"width\": 0.5}}, \"type\": \"bar\"}], \"barpolar\": [{\"marker\": {\"line\": {\"color\": \"#E5ECF6\", \"width\": 0.5}}, \"type\": \"barpolar\"}], \"carpet\": [{\"aaxis\": {\"endlinecolor\": \"#2a3f5f\", \"gridcolor\": \"white\", \"linecolor\": \"white\", \"minorgridcolor\": \"white\", \"startlinecolor\": \"#2a3f5f\"}, \"baxis\": {\"endlinecolor\": \"#2a3f5f\", \"gridcolor\": \"white\", \"linecolor\": \"white\", \"minorgridcolor\": \"white\", \"startlinecolor\": \"#2a3f5f\"}, \"type\": \"carpet\"}], \"choropleth\": [{\"colorbar\": {\"outlinewidth\": 0, \"ticks\": \"\"}, \"type\": \"choropleth\"}], \"contour\": [{\"colorbar\": {\"outlinewidth\": 0, \"ticks\": \"\"}, \"colorscale\": [[0.0, \"#0d0887\"], [0.1111111111111111, \"#46039f\"], [0.2222222222222222, \"#7201a8\"], [0.3333333333333333, \"#9c179e\"], [0.4444444444444444, \"#bd3786\"], [0.5555555555555556, \"#d8576b\"], [0.6666666666666666, \"#ed7953\"], [0.7777777777777778, \"#fb9f3a\"], [0.8888888888888888, \"#fdca26\"], [1.0, \"#f0f921\"]], \"type\": \"contour\"}], \"contourcarpet\": [{\"colorbar\": {\"outlinewidth\": 0, \"ticks\": \"\"}, \"type\": \"contourcarpet\"}], \"heatmap\": [{\"colorbar\": {\"outlinewidth\": 0, \"ticks\": \"\"}, \"colorscale\": [[0.0, \"#0d0887\"], [0.1111111111111111, \"#46039f\"], [0.2222222222222222, \"#7201a8\"], [0.3333333333333333, \"#9c179e\"], [0.4444444444444444, \"#bd3786\"], [0.5555555555555556, \"#d8576b\"], [0.6666666666666666, \"#ed7953\"], [0.7777777777777778, \"#fb9f3a\"], [0.8888888888888888, \"#fdca26\"], [1.0, \"#f0f921\"]], \"type\": \"heatmap\"}], \"heatmapgl\": [{\"colorbar\": {\"outlinewidth\": 0, \"ticks\": \"\"}, \"colorscale\": [[0.0, \"#0d0887\"], [0.1111111111111111, \"#46039f\"], [0.2222222222222222, \"#7201a8\"], [0.3333333333333333, \"#9c179e\"], [0.4444444444444444, \"#bd3786\"], [0.5555555555555556, \"#d8576b\"], [0.6666666666666666, \"#ed7953\"], [0.7777777777777778, \"#fb9f3a\"], [0.8888888888888888, \"#fdca26\"], [1.0, \"#f0f921\"]], \"type\": \"heatmapgl\"}], \"histogram\": [{\"marker\": {\"colorbar\": {\"outlinewidth\": 0, \"ticks\": \"\"}}, \"type\": \"histogram\"}], \"histogram2d\": [{\"colorbar\": {\"outlinewidth\": 0, \"ticks\": \"\"}, \"colorscale\": [[0.0, \"#0d0887\"], [0.1111111111111111, \"#46039f\"], [0.2222222222222222, \"#7201a8\"], [0.3333333333333333, \"#9c179e\"], [0.4444444444444444, \"#bd3786\"], [0.5555555555555556, \"#d8576b\"], [0.6666666666666666, \"#ed7953\"], [0.7777777777777778, \"#fb9f3a\"], [0.8888888888888888, \"#fdca26\"], [1.0, \"#f0f921\"]], \"type\": \"histogram2d\"}], \"histogram2dcontour\": [{\"colorbar\": {\"outlinewidth\": 0, \"ticks\": \"\"}, \"colorscale\": [[0.0, \"#0d0887\"], [0.1111111111111111, \"#46039f\"], [0.2222222222222222, \"#7201a8\"], [0.3333333333333333, \"#9c179e\"], [0.4444444444444444, \"#bd3786\"], [0.5555555555555556, \"#d8576b\"], [0.6666666666666666, \"#ed7953\"], [0.7777777777777778, \"#fb9f3a\"], [0.8888888888888888, \"#fdca26\"], [1.0, \"#f0f921\"]], \"type\": \"histogram2dcontour\"}], \"mesh3d\": [{\"colorbar\": {\"outlinewidth\": 0, \"ticks\": \"\"}, \"type\": \"mesh3d\"}], \"parcoords\": [{\"line\": {\"colorbar\": {\"outlinewidth\": 0, \"ticks\": \"\"}}, \"type\": \"parcoords\"}], \"scatter\": [{\"marker\": {\"colorbar\": {\"outlinewidth\": 0, \"ticks\": \"\"}}, \"type\": \"scatter\"}], \"scatter3d\": [{\"line\": {\"colorbar\": {\"outlinewidth\": 0, \"ticks\": \"\"}}, \"marker\": {\"colorbar\": {\"outlinewidth\": 0, \"ticks\": \"\"}}, \"type\": \"scatter3d\"}], \"scattercarpet\": [{\"marker\": {\"colorbar\": {\"outlinewidth\": 0, \"ticks\": \"\"}}, \"type\": \"scattercarpet\"}], \"scattergeo\": [{\"marker\": {\"colorbar\": {\"outlinewidth\": 0, \"ticks\": \"\"}}, \"type\": \"scattergeo\"}], \"scattergl\": [{\"marker\": {\"colorbar\": {\"outlinewidth\": 0, \"ticks\": \"\"}}, \"type\": \"scattergl\"}], \"scattermapbox\": [{\"marker\": {\"colorbar\": {\"outlinewidth\": 0, \"ticks\": \"\"}}, \"type\": \"scattermapbox\"}], \"scatterpolar\": [{\"marker\": {\"colorbar\": {\"outlinewidth\": 0, \"ticks\": \"\"}}, \"type\": \"scatterpolar\"}], \"scatterpolargl\": [{\"marker\": {\"colorbar\": {\"outlinewidth\": 0, \"ticks\": \"\"}}, \"type\": \"scatterpolargl\"}], \"scatterternary\": [{\"marker\": {\"colorbar\": {\"outlinewidth\": 0, \"ticks\": \"\"}}, \"type\": \"scatterternary\"}], \"surface\": [{\"colorbar\": {\"outlinewidth\": 0, \"ticks\": \"\"}, \"colorscale\": [[0.0, \"#0d0887\"], [0.1111111111111111, \"#46039f\"], [0.2222222222222222, \"#7201a8\"], [0.3333333333333333, \"#9c179e\"], [0.4444444444444444, \"#bd3786\"], [0.5555555555555556, \"#d8576b\"], [0.6666666666666666, \"#ed7953\"], [0.7777777777777778, \"#fb9f3a\"], [0.8888888888888888, \"#fdca26\"], [1.0, \"#f0f921\"]], \"type\": \"surface\"}], \"table\": [{\"cells\": {\"fill\": {\"color\": \"#EBF0F8\"}, \"line\": {\"color\": \"white\"}}, \"header\": {\"fill\": {\"color\": \"#C8D4E3\"}, \"line\": {\"color\": \"white\"}}, \"type\": \"table\"}]}, \"layout\": {\"annotationdefaults\": {\"arrowcolor\": \"#2a3f5f\", \"arrowhead\": 0, \"arrowwidth\": 1}, \"colorscale\": {\"diverging\": [[0, \"#8e0152\"], [0.1, \"#c51b7d\"], [0.2, \"#de77ae\"], [0.3, \"#f1b6da\"], [0.4, \"#fde0ef\"], [0.5, \"#f7f7f7\"], [0.6, \"#e6f5d0\"], [0.7, \"#b8e186\"], [0.8, \"#7fbc41\"], [0.9, \"#4d9221\"], [1, \"#276419\"]], \"sequential\": [[0.0, \"#0d0887\"], [0.1111111111111111, \"#46039f\"], [0.2222222222222222, \"#7201a8\"], [0.3333333333333333, \"#9c179e\"], [0.4444444444444444, \"#bd3786\"], [0.5555555555555556, \"#d8576b\"], [0.6666666666666666, \"#ed7953\"], [0.7777777777777778, \"#fb9f3a\"], [0.8888888888888888, \"#fdca26\"], [1.0, \"#f0f921\"]], \"sequentialminus\": [[0.0, \"#0d0887\"], [0.1111111111111111, \"#46039f\"], [0.2222222222222222, \"#7201a8\"], [0.3333333333333333, \"#9c179e\"], [0.4444444444444444, \"#bd3786\"], [0.5555555555555556, \"#d8576b\"], [0.6666666666666666, \"#ed7953\"], [0.7777777777777778, \"#fb9f3a\"], [0.8888888888888888, \"#fdca26\"], [1.0, \"#f0f921\"]]}, \"colorway\": [\"#636efa\", \"#EF553B\", \"#00cc96\", \"#ab63fa\", \"#FFA15A\", \"#19d3f3\", \"#FF6692\", \"#B6E880\", \"#FF97FF\", \"#FECB52\"], \"font\": {\"color\": \"#2a3f5f\"}, \"geo\": {\"bgcolor\": \"white\", \"lakecolor\": \"white\", \"landcolor\": \"#E5ECF6\", \"showlakes\": true, \"showland\": true, \"subunitcolor\": \"white\"}, \"hoverlabel\": {\"align\": \"left\"}, \"hovermode\": \"closest\", \"mapbox\": {\"style\": \"light\"}, \"paper_bgcolor\": \"white\", \"plot_bgcolor\": \"#E5ECF6\", \"polar\": {\"angularaxis\": {\"gridcolor\": \"white\", \"linecolor\": \"white\", \"ticks\": \"\"}, \"bgcolor\": \"#E5ECF6\", \"radialaxis\": {\"gridcolor\": \"white\", \"linecolor\": \"white\", \"ticks\": \"\"}}, \"scene\": {\"xaxis\": {\"backgroundcolor\": \"#E5ECF6\", \"gridcolor\": \"white\", \"gridwidth\": 2, \"linecolor\": \"white\", \"showbackground\": true, \"ticks\": \"\", \"zerolinecolor\": \"white\"}, \"yaxis\": {\"backgroundcolor\": \"#E5ECF6\", \"gridcolor\": \"white\", \"gridwidth\": 2, \"linecolor\": \"white\", \"showbackground\": true, \"ticks\": \"\", \"zerolinecolor\": \"white\"}, \"zaxis\": {\"backgroundcolor\": \"#E5ECF6\", \"gridcolor\": \"white\", \"gridwidth\": 2, \"linecolor\": \"white\", \"showbackground\": true, \"ticks\": \"\", \"zerolinecolor\": \"white\"}}, \"shapedefaults\": {\"line\": {\"color\": \"#2a3f5f\"}}, \"ternary\": {\"aaxis\": {\"gridcolor\": \"white\", \"linecolor\": \"white\", \"ticks\": \"\"}, \"baxis\": {\"gridcolor\": \"white\", \"linecolor\": \"white\", \"ticks\": \"\"}, \"bgcolor\": \"#E5ECF6\", \"caxis\": {\"gridcolor\": \"white\", \"linecolor\": \"white\", \"ticks\": \"\"}}, \"title\": {\"x\": 0.05}, \"xaxis\": {\"automargin\": true, \"gridcolor\": \"white\", \"linecolor\": \"white\", \"ticks\": \"\", \"zerolinecolor\": \"white\", \"zerolinewidth\": 2}, \"yaxis\": {\"automargin\": true, \"gridcolor\": \"white\", \"linecolor\": \"white\", \"ticks\": \"\", \"zerolinecolor\": \"white\", \"zerolinewidth\": 2}}}},\n",
       "                        {\"responsive\": true}\n",
       "                    ).then(function(){\n",
       "                            \n",
       "var gd = document.getElementById('d6efb398-da6c-4da5-87bf-a236e8d4c7ee');\n",
       "var x = new MutationObserver(function (mutations, observer) {{\n",
       "        var display = window.getComputedStyle(gd).display;\n",
       "        if (!display || display === 'none') {{\n",
       "            console.log([gd, 'removed!']);\n",
       "            Plotly.purge(gd);\n",
       "            observer.disconnect();\n",
       "        }}\n",
       "}});\n",
       "\n",
       "// Listen for the removal of the full notebook cells\n",
       "var notebookContainer = gd.closest('#notebook-container');\n",
       "if (notebookContainer) {{\n",
       "    x.observe(notebookContainer, {childList: true});\n",
       "}}\n",
       "\n",
       "// Listen for the clearing of the current output cell\n",
       "var outputEl = gd.closest('.output');\n",
       "if (outputEl) {{\n",
       "    x.observe(outputEl, {childList: true});\n",
       "}}\n",
       "\n",
       "                        })\n",
       "                };\n",
       "                });\n",
       "            </script>\n",
       "        </div>"
      ]
     },
     "metadata": {},
     "output_type": "display_data"
    }
   ],
   "source": [
    "show('group/weighted_time_auc')"
   ]
  },
  {
   "cell_type": "code",
   "execution_count": 29,
   "metadata": {},
   "outputs": [
    {
     "data": {
      "application/vnd.plotly.v1+json": {
       "config": {
        "linkText": "Export to plot.ly",
        "plotlyServerURL": "https://plot.ly",
        "showLink": false
       },
       "data": [
        {
         "line": {
          "shape": "spline"
         },
         "mode": "lines",
         "name": "offline_4,5,6_video",
         "type": "scatter",
         "x": [
          290,
          295,
          296,
          297,
          298,
          300,
          301,
          302,
          303,
          304,
          305,
          306,
          307,
          308,
          309,
          310,
          311,
          312,
          314,
          315,
          316,
          317,
          318,
          319,
          320,
          321,
          322,
          323,
          324,
          325,
          326,
          327,
          328,
          329,
          330,
          331,
          333,
          334,
          335,
          336,
          338,
          339,
          340,
          342,
          341,
          344,
          345,
          346,
          347,
          348,
          349,
          350,
          351,
          352,
          354,
          359,
          360,
          363,
          358,
          361,
          357,
          362,
          353,
          364,
          365,
          366,
          367,
          368,
          369,
          371,
          372,
          373,
          374,
          375,
          376,
          377,
          378,
          379,
          380,
          381,
          382,
          383,
          384,
          385,
          386,
          387,
          388,
          389,
          390,
          391,
          392,
          393,
          394,
          395,
          396,
          397,
          398,
          399,
          400,
          401,
          402,
          403,
          404,
          405,
          406,
          407,
          408,
          409,
          410,
          411,
          413,
          414,
          415,
          416,
          417,
          418,
          419,
          420,
          421,
          422,
          423,
          424,
          425,
          426,
          427,
          428,
          429,
          430,
          431,
          432,
          433,
          434,
          435,
          436,
          437,
          438,
          439,
          440,
          441,
          442,
          443,
          444,
          445,
          446,
          447,
          448,
          449,
          450,
          451,
          452,
          453,
          454,
          455,
          456,
          457,
          458,
          459,
          460,
          462,
          461,
          463,
          464,
          465,
          466,
          467,
          468,
          469,
          470,
          471,
          472,
          473,
          474,
          475,
          476,
          477,
          478,
          479,
          480,
          481,
          482,
          483,
          484,
          485,
          486,
          487,
          488,
          489,
          490,
          491,
          492,
          493,
          494,
          495,
          496,
          497,
          498,
          499,
          500,
          501,
          502,
          503,
          504,
          505,
          506,
          507,
          508,
          509,
          510,
          511,
          512,
          513,
          514,
          515,
          516,
          517,
          518,
          519,
          520,
          521,
          522,
          523,
          524,
          525,
          526,
          527,
          528,
          529,
          530,
          531,
          532,
          533,
          534,
          535,
          536,
          537,
          538,
          539,
          540,
          541,
          542,
          543,
          544,
          545,
          546,
          547,
          548,
          549,
          550,
          551,
          552,
          553,
          554,
          555,
          556,
          557,
          559,
          560,
          561,
          562,
          563,
          564,
          565,
          566,
          567,
          568,
          569,
          570,
          571,
          572,
          573
         ],
         "y": [
          0.55721,
          0.55918,
          0.5779,
          0.56138,
          0.5773,
          0.58145,
          0.57716,
          0.58088,
          0.56675,
          0.57516,
          0.585,
          0.58475,
          0.57138,
          0.57588,
          0.5693,
          0.61228,
          0.60014,
          0.60531,
          0.60724,
          0.59853,
          0.60255,
          0.59787,
          0.60371,
          0.60733,
          0.60368,
          0.60091,
          0.61241,
          0.58259,
          0.58661,
          0.5851,
          0.5804,
          0.58854,
          0.58235,
          0.59155,
          0.59769,
          0.58759,
          0.60768,
          0.61322,
          0.60936,
          0.61548,
          0.59926,
          0.61449,
          0.61611,
          0.61566,
          0.61023,
          0.60945,
          0.61949,
          0.61632,
          0.61121,
          0.61185,
          0.61107,
          0.60723,
          0.62539,
          0.61476,
          0.6176,
          0.63577,
          0.61166,
          0.61315,
          0.61403,
          0.60921,
          0.6196,
          0.61732,
          0.60291,
          0.60535,
          0.60991,
          0.61215,
          0.61128,
          0.60521,
          0.61596,
          0.61681,
          0.61118,
          0.6,
          0.6135,
          0.60087,
          0.60842,
          0.62454,
          0.6293,
          0.62846,
          0.6336,
          0.61772,
          0.60946,
          0.61991,
          0.60517,
          0.605,
          0.60913,
          0.6117,
          0.59932,
          0.61108,
          0.60524,
          0.60284,
          0.60793,
          0.60713,
          0.61183,
          0.60465,
          0.61474,
          0.60009,
          0.60696,
          0.61149,
          0.61967,
          0.61982,
          0.62334,
          0.62984,
          0.61634,
          0.61255,
          0.61513,
          0.62513,
          0.61864,
          0.61086,
          0.60518,
          0.61237,
          0.60098,
          0.61086,
          0.59438,
          0.604,
          0.59883,
          0.6142,
          0.5983,
          0.60205,
          0.59681,
          0.59826,
          0.60038,
          0.58931,
          0.59407,
          0.60012,
          0.59525,
          0.5935,
          0.60394,
          0.59398,
          0.59309,
          0.59616,
          0.59804,
          0.59254,
          0.58667,
          0.58428,
          0.57449,
          0.59092,
          0.57697,
          0.58439,
          0.58693,
          0.59318,
          0.59106,
          0.5938,
          0.58728,
          0.56407,
          0.58344,
          0.60244,
          0.57226,
          0.60893,
          0.58698,
          0.58858,
          0.60289,
          0.60032,
          0.59064,
          0.58791,
          0.58392,
          0.59591,
          0.59823,
          0.59619,
          0.60451,
          0.58739,
          0.60245,
          0.60006,
          0.59435,
          0.59484,
          0.58624,
          0.5957,
          0.58929,
          0.58645,
          0.58689,
          0.58223,
          0.59116,
          0.61581,
          0.58618,
          0.60483,
          0.59354,
          0.59577,
          0.59464,
          0.59376,
          0.5314,
          0.55543,
          0.59183,
          0.5903,
          0.58868,
          0.58491,
          0.58918,
          0.57947,
          0.58692,
          0.59598,
          0.58591,
          0.5918,
          0.58028,
          0.59182,
          0.58289,
          0.60964,
          0.6028,
          0.60696,
          0.60692,
          0.60071,
          0.59752,
          0.60447,
          0.5997,
          0.59485,
          0.59286,
          0.59304,
          0.58959,
          0.58563,
          0.58643,
          0.58599,
          0.58557,
          0.59529,
          0.59001,
          0.59565,
          0.58892,
          0.59657,
          0.5973,
          0.57602,
          0.58437,
          0.60276,
          0.6014,
          0.61038,
          0.59324,
          0.60665,
          0.59081,
          0.59832,
          0.59478,
          0.58569,
          0.57716,
          0.59096,
          0.59004,
          0.59331,
          0.59342,
          0.60509,
          0.60765,
          0.60338,
          0.59547,
          0.6085,
          0.59825,
          0.59743,
          0.60145,
          0.58972,
          0.60923,
          0.60087,
          0.5849,
          0.6117,
          0.59793,
          0.60563,
          0.60509,
          0.59085,
          0.6048,
          0.58828,
          0.60425,
          0.58812,
          0.60362,
          0.57724,
          0.59813,
          0.60039,
          0.58571,
          0.58725,
          0.60948,
          0.59196,
          0.59278,
          0.58924,
          0.58063,
          0.59891,
          0.59737,
          0.63816,
          0.61731,
          0.62651,
          0.6168,
          0.61717
         ]
        },
        {
         "line": {
          "shape": "spline"
         },
         "mode": "lines",
         "name": "offline_4,5,6_video2",
         "type": "scatter",
         "x": [
          501,
          502,
          503,
          504,
          505,
          506,
          507,
          508,
          509,
          510,
          511,
          512,
          513,
          514,
          515,
          516,
          517,
          518,
          519,
          520,
          521,
          522,
          523,
          524,
          525,
          526,
          527,
          528,
          529,
          530,
          531,
          532,
          533,
          534,
          535,
          536,
          537,
          538,
          539,
          540,
          541,
          542,
          543,
          545,
          544,
          546,
          547,
          548,
          549,
          550,
          551,
          552,
          553,
          554,
          555,
          556,
          557,
          559,
          560,
          561,
          562,
          563,
          564,
          565,
          566,
          567,
          568,
          569,
          570,
          571,
          572,
          573
         ],
         "y": [
          0.59716,
          0.61134,
          0.54991,
          0.54267,
          0.55471,
          0.56367,
          0.55537,
          0.57688,
          0.57883,
          0.57159,
          0.57355,
          0.57958,
          0.57447,
          0.58641,
          0.57855,
          0.58848,
          0.58422,
          0.56524,
          0.57207,
          0.59252,
          0.59285,
          0.60722,
          0.58771,
          0.59777,
          0.58141,
          0.59052,
          0.58659,
          0.57497,
          0.57009,
          0.58007,
          0.58188,
          0.58848,
          0.59364,
          0.60645,
          0.60327,
          0.59789,
          0.58991,
          0.60369,
          0.5942,
          0.59111,
          0.60162,
          0.58629,
          0.61324,
          0.57545,
          0.58601,
          0.61886,
          0.58967,
          0.61112,
          0.60433,
          0.58482,
          0.59377,
          0.58205,
          0.60572,
          0.57881,
          0.5817,
          0.57057,
          0.56387,
          0.58719,
          0.57504,
          0.58782,
          0.60605,
          0.57885,
          0.58459,
          0.584,
          0.56862,
          0.57514,
          0.5261,
          0.56235,
          0.54981,
          0.56735,
          0.58052,
          0.56081
         ]
        }
       ],
       "layout": {
        "template": {
         "data": {
          "bar": [
           {
            "error_x": {
             "color": "#2a3f5f"
            },
            "error_y": {
             "color": "#2a3f5f"
            },
            "marker": {
             "line": {
              "color": "#E5ECF6",
              "width": 0.5
             }
            },
            "type": "bar"
           }
          ],
          "barpolar": [
           {
            "marker": {
             "line": {
              "color": "#E5ECF6",
              "width": 0.5
             }
            },
            "type": "barpolar"
           }
          ],
          "carpet": [
           {
            "aaxis": {
             "endlinecolor": "#2a3f5f",
             "gridcolor": "white",
             "linecolor": "white",
             "minorgridcolor": "white",
             "startlinecolor": "#2a3f5f"
            },
            "baxis": {
             "endlinecolor": "#2a3f5f",
             "gridcolor": "white",
             "linecolor": "white",
             "minorgridcolor": "white",
             "startlinecolor": "#2a3f5f"
            },
            "type": "carpet"
           }
          ],
          "choropleth": [
           {
            "colorbar": {
             "outlinewidth": 0,
             "ticks": ""
            },
            "type": "choropleth"
           }
          ],
          "contour": [
           {
            "colorbar": {
             "outlinewidth": 0,
             "ticks": ""
            },
            "colorscale": [
             [
              0,
              "#0d0887"
             ],
             [
              0.1111111111111111,
              "#46039f"
             ],
             [
              0.2222222222222222,
              "#7201a8"
             ],
             [
              0.3333333333333333,
              "#9c179e"
             ],
             [
              0.4444444444444444,
              "#bd3786"
             ],
             [
              0.5555555555555556,
              "#d8576b"
             ],
             [
              0.6666666666666666,
              "#ed7953"
             ],
             [
              0.7777777777777778,
              "#fb9f3a"
             ],
             [
              0.8888888888888888,
              "#fdca26"
             ],
             [
              1,
              "#f0f921"
             ]
            ],
            "type": "contour"
           }
          ],
          "contourcarpet": [
           {
            "colorbar": {
             "outlinewidth": 0,
             "ticks": ""
            },
            "type": "contourcarpet"
           }
          ],
          "heatmap": [
           {
            "colorbar": {
             "outlinewidth": 0,
             "ticks": ""
            },
            "colorscale": [
             [
              0,
              "#0d0887"
             ],
             [
              0.1111111111111111,
              "#46039f"
             ],
             [
              0.2222222222222222,
              "#7201a8"
             ],
             [
              0.3333333333333333,
              "#9c179e"
             ],
             [
              0.4444444444444444,
              "#bd3786"
             ],
             [
              0.5555555555555556,
              "#d8576b"
             ],
             [
              0.6666666666666666,
              "#ed7953"
             ],
             [
              0.7777777777777778,
              "#fb9f3a"
             ],
             [
              0.8888888888888888,
              "#fdca26"
             ],
             [
              1,
              "#f0f921"
             ]
            ],
            "type": "heatmap"
           }
          ],
          "heatmapgl": [
           {
            "colorbar": {
             "outlinewidth": 0,
             "ticks": ""
            },
            "colorscale": [
             [
              0,
              "#0d0887"
             ],
             [
              0.1111111111111111,
              "#46039f"
             ],
             [
              0.2222222222222222,
              "#7201a8"
             ],
             [
              0.3333333333333333,
              "#9c179e"
             ],
             [
              0.4444444444444444,
              "#bd3786"
             ],
             [
              0.5555555555555556,
              "#d8576b"
             ],
             [
              0.6666666666666666,
              "#ed7953"
             ],
             [
              0.7777777777777778,
              "#fb9f3a"
             ],
             [
              0.8888888888888888,
              "#fdca26"
             ],
             [
              1,
              "#f0f921"
             ]
            ],
            "type": "heatmapgl"
           }
          ],
          "histogram": [
           {
            "marker": {
             "colorbar": {
              "outlinewidth": 0,
              "ticks": ""
             }
            },
            "type": "histogram"
           }
          ],
          "histogram2d": [
           {
            "colorbar": {
             "outlinewidth": 0,
             "ticks": ""
            },
            "colorscale": [
             [
              0,
              "#0d0887"
             ],
             [
              0.1111111111111111,
              "#46039f"
             ],
             [
              0.2222222222222222,
              "#7201a8"
             ],
             [
              0.3333333333333333,
              "#9c179e"
             ],
             [
              0.4444444444444444,
              "#bd3786"
             ],
             [
              0.5555555555555556,
              "#d8576b"
             ],
             [
              0.6666666666666666,
              "#ed7953"
             ],
             [
              0.7777777777777778,
              "#fb9f3a"
             ],
             [
              0.8888888888888888,
              "#fdca26"
             ],
             [
              1,
              "#f0f921"
             ]
            ],
            "type": "histogram2d"
           }
          ],
          "histogram2dcontour": [
           {
            "colorbar": {
             "outlinewidth": 0,
             "ticks": ""
            },
            "colorscale": [
             [
              0,
              "#0d0887"
             ],
             [
              0.1111111111111111,
              "#46039f"
             ],
             [
              0.2222222222222222,
              "#7201a8"
             ],
             [
              0.3333333333333333,
              "#9c179e"
             ],
             [
              0.4444444444444444,
              "#bd3786"
             ],
             [
              0.5555555555555556,
              "#d8576b"
             ],
             [
              0.6666666666666666,
              "#ed7953"
             ],
             [
              0.7777777777777778,
              "#fb9f3a"
             ],
             [
              0.8888888888888888,
              "#fdca26"
             ],
             [
              1,
              "#f0f921"
             ]
            ],
            "type": "histogram2dcontour"
           }
          ],
          "mesh3d": [
           {
            "colorbar": {
             "outlinewidth": 0,
             "ticks": ""
            },
            "type": "mesh3d"
           }
          ],
          "parcoords": [
           {
            "line": {
             "colorbar": {
              "outlinewidth": 0,
              "ticks": ""
             }
            },
            "type": "parcoords"
           }
          ],
          "scatter": [
           {
            "marker": {
             "colorbar": {
              "outlinewidth": 0,
              "ticks": ""
             }
            },
            "type": "scatter"
           }
          ],
          "scatter3d": [
           {
            "line": {
             "colorbar": {
              "outlinewidth": 0,
              "ticks": ""
             }
            },
            "marker": {
             "colorbar": {
              "outlinewidth": 0,
              "ticks": ""
             }
            },
            "type": "scatter3d"
           }
          ],
          "scattercarpet": [
           {
            "marker": {
             "colorbar": {
              "outlinewidth": 0,
              "ticks": ""
             }
            },
            "type": "scattercarpet"
           }
          ],
          "scattergeo": [
           {
            "marker": {
             "colorbar": {
              "outlinewidth": 0,
              "ticks": ""
             }
            },
            "type": "scattergeo"
           }
          ],
          "scattergl": [
           {
            "marker": {
             "colorbar": {
              "outlinewidth": 0,
              "ticks": ""
             }
            },
            "type": "scattergl"
           }
          ],
          "scattermapbox": [
           {
            "marker": {
             "colorbar": {
              "outlinewidth": 0,
              "ticks": ""
             }
            },
            "type": "scattermapbox"
           }
          ],
          "scatterpolar": [
           {
            "marker": {
             "colorbar": {
              "outlinewidth": 0,
              "ticks": ""
             }
            },
            "type": "scatterpolar"
           }
          ],
          "scatterpolargl": [
           {
            "marker": {
             "colorbar": {
              "outlinewidth": 0,
              "ticks": ""
             }
            },
            "type": "scatterpolargl"
           }
          ],
          "scatterternary": [
           {
            "marker": {
             "colorbar": {
              "outlinewidth": 0,
              "ticks": ""
             }
            },
            "type": "scatterternary"
           }
          ],
          "surface": [
           {
            "colorbar": {
             "outlinewidth": 0,
             "ticks": ""
            },
            "colorscale": [
             [
              0,
              "#0d0887"
             ],
             [
              0.1111111111111111,
              "#46039f"
             ],
             [
              0.2222222222222222,
              "#7201a8"
             ],
             [
              0.3333333333333333,
              "#9c179e"
             ],
             [
              0.4444444444444444,
              "#bd3786"
             ],
             [
              0.5555555555555556,
              "#d8576b"
             ],
             [
              0.6666666666666666,
              "#ed7953"
             ],
             [
              0.7777777777777778,
              "#fb9f3a"
             ],
             [
              0.8888888888888888,
              "#fdca26"
             ],
             [
              1,
              "#f0f921"
             ]
            ],
            "type": "surface"
           }
          ],
          "table": [
           {
            "cells": {
             "fill": {
              "color": "#EBF0F8"
             },
             "line": {
              "color": "white"
             }
            },
            "header": {
             "fill": {
              "color": "#C8D4E3"
             },
             "line": {
              "color": "white"
             }
            },
            "type": "table"
           }
          ]
         },
         "layout": {
          "annotationdefaults": {
           "arrowcolor": "#2a3f5f",
           "arrowhead": 0,
           "arrowwidth": 1
          },
          "colorscale": {
           "diverging": [
            [
             0,
             "#8e0152"
            ],
            [
             0.1,
             "#c51b7d"
            ],
            [
             0.2,
             "#de77ae"
            ],
            [
             0.3,
             "#f1b6da"
            ],
            [
             0.4,
             "#fde0ef"
            ],
            [
             0.5,
             "#f7f7f7"
            ],
            [
             0.6,
             "#e6f5d0"
            ],
            [
             0.7,
             "#b8e186"
            ],
            [
             0.8,
             "#7fbc41"
            ],
            [
             0.9,
             "#4d9221"
            ],
            [
             1,
             "#276419"
            ]
           ],
           "sequential": [
            [
             0,
             "#0d0887"
            ],
            [
             0.1111111111111111,
             "#46039f"
            ],
            [
             0.2222222222222222,
             "#7201a8"
            ],
            [
             0.3333333333333333,
             "#9c179e"
            ],
            [
             0.4444444444444444,
             "#bd3786"
            ],
            [
             0.5555555555555556,
             "#d8576b"
            ],
            [
             0.6666666666666666,
             "#ed7953"
            ],
            [
             0.7777777777777778,
             "#fb9f3a"
            ],
            [
             0.8888888888888888,
             "#fdca26"
            ],
            [
             1,
             "#f0f921"
            ]
           ],
           "sequentialminus": [
            [
             0,
             "#0d0887"
            ],
            [
             0.1111111111111111,
             "#46039f"
            ],
            [
             0.2222222222222222,
             "#7201a8"
            ],
            [
             0.3333333333333333,
             "#9c179e"
            ],
            [
             0.4444444444444444,
             "#bd3786"
            ],
            [
             0.5555555555555556,
             "#d8576b"
            ],
            [
             0.6666666666666666,
             "#ed7953"
            ],
            [
             0.7777777777777778,
             "#fb9f3a"
            ],
            [
             0.8888888888888888,
             "#fdca26"
            ],
            [
             1,
             "#f0f921"
            ]
           ]
          },
          "colorway": [
           "#636efa",
           "#EF553B",
           "#00cc96",
           "#ab63fa",
           "#FFA15A",
           "#19d3f3",
           "#FF6692",
           "#B6E880",
           "#FF97FF",
           "#FECB52"
          ],
          "font": {
           "color": "#2a3f5f"
          },
          "geo": {
           "bgcolor": "white",
           "lakecolor": "white",
           "landcolor": "#E5ECF6",
           "showlakes": true,
           "showland": true,
           "subunitcolor": "white"
          },
          "hoverlabel": {
           "align": "left"
          },
          "hovermode": "closest",
          "mapbox": {
           "style": "light"
          },
          "paper_bgcolor": "white",
          "plot_bgcolor": "#E5ECF6",
          "polar": {
           "angularaxis": {
            "gridcolor": "white",
            "linecolor": "white",
            "ticks": ""
           },
           "bgcolor": "#E5ECF6",
           "radialaxis": {
            "gridcolor": "white",
            "linecolor": "white",
            "ticks": ""
           }
          },
          "scene": {
           "xaxis": {
            "backgroundcolor": "#E5ECF6",
            "gridcolor": "white",
            "gridwidth": 2,
            "linecolor": "white",
            "showbackground": true,
            "ticks": "",
            "zerolinecolor": "white"
           },
           "yaxis": {
            "backgroundcolor": "#E5ECF6",
            "gridcolor": "white",
            "gridwidth": 2,
            "linecolor": "white",
            "showbackground": true,
            "ticks": "",
            "zerolinecolor": "white"
           },
           "zaxis": {
            "backgroundcolor": "#E5ECF6",
            "gridcolor": "white",
            "gridwidth": 2,
            "linecolor": "white",
            "showbackground": true,
            "ticks": "",
            "zerolinecolor": "white"
           }
          },
          "shapedefaults": {
           "line": {
            "color": "#2a3f5f"
           }
          },
          "ternary": {
           "aaxis": {
            "gridcolor": "white",
            "linecolor": "white",
            "ticks": ""
           },
           "baxis": {
            "gridcolor": "white",
            "linecolor": "white",
            "ticks": ""
           },
           "bgcolor": "#E5ECF6",
           "caxis": {
            "gridcolor": "white",
            "linecolor": "white",
            "ticks": ""
           }
          },
          "title": {
           "x": 0.05
          },
          "xaxis": {
           "automargin": true,
           "gridcolor": "white",
           "linecolor": "white",
           "ticks": "",
           "zerolinecolor": "white",
           "zerolinewidth": 2
          },
          "yaxis": {
           "automargin": true,
           "gridcolor": "white",
           "linecolor": "white",
           "ticks": "",
           "zerolinecolor": "white",
           "zerolinewidth": 2
          }
         }
        }
       }
      },
      "text/html": [
       "<div>\n",
       "        \n",
       "        \n",
       "            <div id=\"83d9d3b3-62a7-4c54-ade0-4925729fe6cf\" class=\"plotly-graph-div\" style=\"height:525px; width:100%;\"></div>\n",
       "            <script type=\"text/javascript\">\n",
       "                require([\"plotly\"], function(Plotly) {\n",
       "                    window.PLOTLYENV=window.PLOTLYENV || {};\n",
       "                    \n",
       "                if (document.getElementById(\"83d9d3b3-62a7-4c54-ade0-4925729fe6cf\")) {\n",
       "                    Plotly.newPlot(\n",
       "                        '83d9d3b3-62a7-4c54-ade0-4925729fe6cf',\n",
       "                        [{\"line\": {\"shape\": \"spline\"}, \"mode\": \"lines\", \"name\": \"offline_4,5,6_video\", \"type\": \"scatter\", \"x\": [290, 295, 296, 297, 298, 300, 301, 302, 303, 304, 305, 306, 307, 308, 309, 310, 311, 312, 314, 315, 316, 317, 318, 319, 320, 321, 322, 323, 324, 325, 326, 327, 328, 329, 330, 331, 333, 334, 335, 336, 338, 339, 340, 342, 341, 344, 345, 346, 347, 348, 349, 350, 351, 352, 354, 359, 360, 363, 358, 361, 357, 362, 353, 364, 365, 366, 367, 368, 369, 371, 372, 373, 374, 375, 376, 377, 378, 379, 380, 381, 382, 383, 384, 385, 386, 387, 388, 389, 390, 391, 392, 393, 394, 395, 396, 397, 398, 399, 400, 401, 402, 403, 404, 405, 406, 407, 408, 409, 410, 411, 413, 414, 415, 416, 417, 418, 419, 420, 421, 422, 423, 424, 425, 426, 427, 428, 429, 430, 431, 432, 433, 434, 435, 436, 437, 438, 439, 440, 441, 442, 443, 444, 445, 446, 447, 448, 449, 450, 451, 452, 453, 454, 455, 456, 457, 458, 459, 460, 462, 461, 463, 464, 465, 466, 467, 468, 469, 470, 471, 472, 473, 474, 475, 476, 477, 478, 479, 480, 481, 482, 483, 484, 485, 486, 487, 488, 489, 490, 491, 492, 493, 494, 495, 496, 497, 498, 499, 500, 501, 502, 503, 504, 505, 506, 507, 508, 509, 510, 511, 512, 513, 514, 515, 516, 517, 518, 519, 520, 521, 522, 523, 524, 525, 526, 527, 528, 529, 530, 531, 532, 533, 534, 535, 536, 537, 538, 539, 540, 541, 542, 543, 544, 545, 546, 547, 548, 549, 550, 551, 552, 553, 554, 555, 556, 557, 559, 560, 561, 562, 563, 564, 565, 566, 567, 568, 569, 570, 571, 572, 573], \"y\": [0.55721, 0.55918, 0.5779, 0.56138, 0.5773, 0.58145, 0.57716, 0.58088, 0.56675, 0.57516, 0.585, 0.58475, 0.57138, 0.57588, 0.5693, 0.61228, 0.60014, 0.60531, 0.60724, 0.59853, 0.60255, 0.59787, 0.60371, 0.60733, 0.60368, 0.60091, 0.61241, 0.58259, 0.58661, 0.5851, 0.5804, 0.58854, 0.58235, 0.59155, 0.59769, 0.58759, 0.60768, 0.61322, 0.60936, 0.61548, 0.59926, 0.61449, 0.61611, 0.61566, 0.61023, 0.60945, 0.61949, 0.61632, 0.61121, 0.61185, 0.61107, 0.60723, 0.62539, 0.61476, 0.6176, 0.63577, 0.61166, 0.61315, 0.61403, 0.60921, 0.6196, 0.61732, 0.60291, 0.60535, 0.60991, 0.61215, 0.61128, 0.60521, 0.61596, 0.61681, 0.61118, 0.6, 0.6135, 0.60087, 0.60842, 0.62454, 0.6293, 0.62846, 0.6336, 0.61772, 0.60946, 0.61991, 0.60517, 0.605, 0.60913, 0.6117, 0.59932, 0.61108, 0.60524, 0.60284, 0.60793, 0.60713, 0.61183, 0.60465, 0.61474, 0.60009, 0.60696, 0.61149, 0.61967, 0.61982, 0.62334, 0.62984, 0.61634, 0.61255, 0.61513, 0.62513, 0.61864, 0.61086, 0.60518, 0.61237, 0.60098, 0.61086, 0.59438, 0.604, 0.59883, 0.6142, 0.5983, 0.60205, 0.59681, 0.59826, 0.60038, 0.58931, 0.59407, 0.60012, 0.59525, 0.5935, 0.60394, 0.59398, 0.59309, 0.59616, 0.59804, 0.59254, 0.58667, 0.58428, 0.57449, 0.59092, 0.57697, 0.58439, 0.58693, 0.59318, 0.59106, 0.5938, 0.58728, 0.56407, 0.58344, 0.60244, 0.57226, 0.60893, 0.58698, 0.58858, 0.60289, 0.60032, 0.59064, 0.58791, 0.58392, 0.59591, 0.59823, 0.59619, 0.60451, 0.58739, 0.60245, 0.60006, 0.59435, 0.59484, 0.58624, 0.5957, 0.58929, 0.58645, 0.58689, 0.58223, 0.59116, 0.61581, 0.58618, 0.60483, 0.59354, 0.59577, 0.59464, 0.59376, 0.5314, 0.55543, 0.59183, 0.5903, 0.58868, 0.58491, 0.58918, 0.57947, 0.58692, 0.59598, 0.58591, 0.5918, 0.58028, 0.59182, 0.58289, 0.60964, 0.6028, 0.60696, 0.60692, 0.60071, 0.59752, 0.60447, 0.5997, 0.59485, 0.59286, 0.59304, 0.58959, 0.58563, 0.58643, 0.58599, 0.58557, 0.59529, 0.59001, 0.59565, 0.58892, 0.59657, 0.5973, 0.57602, 0.58437, 0.60276, 0.6014, 0.61038, 0.59324, 0.60665, 0.59081, 0.59832, 0.59478, 0.58569, 0.57716, 0.59096, 0.59004, 0.59331, 0.59342, 0.60509, 0.60765, 0.60338, 0.59547, 0.6085, 0.59825, 0.59743, 0.60145, 0.58972, 0.60923, 0.60087, 0.5849, 0.6117, 0.59793, 0.60563, 0.60509, 0.59085, 0.6048, 0.58828, 0.60425, 0.58812, 0.60362, 0.57724, 0.59813, 0.60039, 0.58571, 0.58725, 0.60948, 0.59196, 0.59278, 0.58924, 0.58063, 0.59891, 0.59737, 0.63816, 0.61731, 0.62651, 0.6168, 0.61717]}, {\"line\": {\"shape\": \"spline\"}, \"mode\": \"lines\", \"name\": \"offline_4,5,6_video2\", \"type\": \"scatter\", \"x\": [501, 502, 503, 504, 505, 506, 507, 508, 509, 510, 511, 512, 513, 514, 515, 516, 517, 518, 519, 520, 521, 522, 523, 524, 525, 526, 527, 528, 529, 530, 531, 532, 533, 534, 535, 536, 537, 538, 539, 540, 541, 542, 543, 545, 544, 546, 547, 548, 549, 550, 551, 552, 553, 554, 555, 556, 557, 559, 560, 561, 562, 563, 564, 565, 566, 567, 568, 569, 570, 571, 572, 573], \"y\": [0.59716, 0.61134, 0.54991, 0.54267, 0.55471, 0.56367, 0.55537, 0.57688, 0.57883, 0.57159, 0.57355, 0.57958, 0.57447, 0.58641, 0.57855, 0.58848, 0.58422, 0.56524, 0.57207, 0.59252, 0.59285, 0.60722, 0.58771, 0.59777, 0.58141, 0.59052, 0.58659, 0.57497, 0.57009, 0.58007, 0.58188, 0.58848, 0.59364, 0.60645, 0.60327, 0.59789, 0.58991, 0.60369, 0.5942, 0.59111, 0.60162, 0.58629, 0.61324, 0.57545, 0.58601, 0.61886, 0.58967, 0.61112, 0.60433, 0.58482, 0.59377, 0.58205, 0.60572, 0.57881, 0.5817, 0.57057, 0.56387, 0.58719, 0.57504, 0.58782, 0.60605, 0.57885, 0.58459, 0.584, 0.56862, 0.57514, 0.5261, 0.56235, 0.54981, 0.56735, 0.58052, 0.56081]}],\n",
       "                        {\"template\": {\"data\": {\"bar\": [{\"error_x\": {\"color\": \"#2a3f5f\"}, \"error_y\": {\"color\": \"#2a3f5f\"}, \"marker\": {\"line\": {\"color\": \"#E5ECF6\", \"width\": 0.5}}, \"type\": \"bar\"}], \"barpolar\": [{\"marker\": {\"line\": {\"color\": \"#E5ECF6\", \"width\": 0.5}}, \"type\": \"barpolar\"}], \"carpet\": [{\"aaxis\": {\"endlinecolor\": \"#2a3f5f\", \"gridcolor\": \"white\", \"linecolor\": \"white\", \"minorgridcolor\": \"white\", \"startlinecolor\": \"#2a3f5f\"}, \"baxis\": {\"endlinecolor\": \"#2a3f5f\", \"gridcolor\": \"white\", \"linecolor\": \"white\", \"minorgridcolor\": \"white\", \"startlinecolor\": \"#2a3f5f\"}, \"type\": \"carpet\"}], \"choropleth\": [{\"colorbar\": {\"outlinewidth\": 0, \"ticks\": \"\"}, \"type\": \"choropleth\"}], \"contour\": [{\"colorbar\": {\"outlinewidth\": 0, \"ticks\": \"\"}, \"colorscale\": [[0.0, \"#0d0887\"], [0.1111111111111111, \"#46039f\"], [0.2222222222222222, \"#7201a8\"], [0.3333333333333333, \"#9c179e\"], [0.4444444444444444, \"#bd3786\"], [0.5555555555555556, \"#d8576b\"], [0.6666666666666666, \"#ed7953\"], [0.7777777777777778, \"#fb9f3a\"], [0.8888888888888888, \"#fdca26\"], [1.0, \"#f0f921\"]], \"type\": \"contour\"}], \"contourcarpet\": [{\"colorbar\": {\"outlinewidth\": 0, \"ticks\": \"\"}, \"type\": \"contourcarpet\"}], \"heatmap\": [{\"colorbar\": {\"outlinewidth\": 0, \"ticks\": \"\"}, \"colorscale\": [[0.0, \"#0d0887\"], [0.1111111111111111, \"#46039f\"], [0.2222222222222222, \"#7201a8\"], [0.3333333333333333, \"#9c179e\"], [0.4444444444444444, \"#bd3786\"], [0.5555555555555556, \"#d8576b\"], [0.6666666666666666, \"#ed7953\"], [0.7777777777777778, \"#fb9f3a\"], [0.8888888888888888, \"#fdca26\"], [1.0, \"#f0f921\"]], \"type\": \"heatmap\"}], \"heatmapgl\": [{\"colorbar\": {\"outlinewidth\": 0, \"ticks\": \"\"}, \"colorscale\": [[0.0, \"#0d0887\"], [0.1111111111111111, \"#46039f\"], [0.2222222222222222, \"#7201a8\"], [0.3333333333333333, \"#9c179e\"], [0.4444444444444444, \"#bd3786\"], [0.5555555555555556, \"#d8576b\"], [0.6666666666666666, \"#ed7953\"], [0.7777777777777778, \"#fb9f3a\"], [0.8888888888888888, \"#fdca26\"], [1.0, \"#f0f921\"]], \"type\": \"heatmapgl\"}], \"histogram\": [{\"marker\": {\"colorbar\": {\"outlinewidth\": 0, \"ticks\": \"\"}}, \"type\": \"histogram\"}], \"histogram2d\": [{\"colorbar\": {\"outlinewidth\": 0, \"ticks\": \"\"}, \"colorscale\": [[0.0, \"#0d0887\"], [0.1111111111111111, \"#46039f\"], [0.2222222222222222, \"#7201a8\"], [0.3333333333333333, \"#9c179e\"], [0.4444444444444444, \"#bd3786\"], [0.5555555555555556, \"#d8576b\"], [0.6666666666666666, \"#ed7953\"], [0.7777777777777778, \"#fb9f3a\"], [0.8888888888888888, \"#fdca26\"], [1.0, \"#f0f921\"]], \"type\": \"histogram2d\"}], \"histogram2dcontour\": [{\"colorbar\": {\"outlinewidth\": 0, \"ticks\": \"\"}, \"colorscale\": [[0.0, \"#0d0887\"], [0.1111111111111111, \"#46039f\"], [0.2222222222222222, \"#7201a8\"], [0.3333333333333333, \"#9c179e\"], [0.4444444444444444, \"#bd3786\"], [0.5555555555555556, \"#d8576b\"], [0.6666666666666666, \"#ed7953\"], [0.7777777777777778, \"#fb9f3a\"], [0.8888888888888888, \"#fdca26\"], [1.0, \"#f0f921\"]], \"type\": \"histogram2dcontour\"}], \"mesh3d\": [{\"colorbar\": {\"outlinewidth\": 0, \"ticks\": \"\"}, \"type\": \"mesh3d\"}], \"parcoords\": [{\"line\": {\"colorbar\": {\"outlinewidth\": 0, \"ticks\": \"\"}}, \"type\": \"parcoords\"}], \"scatter\": [{\"marker\": {\"colorbar\": {\"outlinewidth\": 0, \"ticks\": \"\"}}, \"type\": \"scatter\"}], \"scatter3d\": [{\"line\": {\"colorbar\": {\"outlinewidth\": 0, \"ticks\": \"\"}}, \"marker\": {\"colorbar\": {\"outlinewidth\": 0, \"ticks\": \"\"}}, \"type\": \"scatter3d\"}], \"scattercarpet\": [{\"marker\": {\"colorbar\": {\"outlinewidth\": 0, \"ticks\": \"\"}}, \"type\": \"scattercarpet\"}], \"scattergeo\": [{\"marker\": {\"colorbar\": {\"outlinewidth\": 0, \"ticks\": \"\"}}, \"type\": \"scattergeo\"}], \"scattergl\": [{\"marker\": {\"colorbar\": {\"outlinewidth\": 0, \"ticks\": \"\"}}, \"type\": \"scattergl\"}], \"scattermapbox\": [{\"marker\": {\"colorbar\": {\"outlinewidth\": 0, \"ticks\": \"\"}}, \"type\": \"scattermapbox\"}], \"scatterpolar\": [{\"marker\": {\"colorbar\": {\"outlinewidth\": 0, \"ticks\": \"\"}}, \"type\": \"scatterpolar\"}], \"scatterpolargl\": [{\"marker\": {\"colorbar\": {\"outlinewidth\": 0, \"ticks\": \"\"}}, \"type\": \"scatterpolargl\"}], \"scatterternary\": [{\"marker\": {\"colorbar\": {\"outlinewidth\": 0, \"ticks\": \"\"}}, \"type\": \"scatterternary\"}], \"surface\": [{\"colorbar\": {\"outlinewidth\": 0, \"ticks\": \"\"}, \"colorscale\": [[0.0, \"#0d0887\"], [0.1111111111111111, \"#46039f\"], [0.2222222222222222, \"#7201a8\"], [0.3333333333333333, \"#9c179e\"], [0.4444444444444444, \"#bd3786\"], [0.5555555555555556, \"#d8576b\"], [0.6666666666666666, \"#ed7953\"], [0.7777777777777778, \"#fb9f3a\"], [0.8888888888888888, \"#fdca26\"], [1.0, \"#f0f921\"]], \"type\": \"surface\"}], \"table\": [{\"cells\": {\"fill\": {\"color\": \"#EBF0F8\"}, \"line\": {\"color\": \"white\"}}, \"header\": {\"fill\": {\"color\": \"#C8D4E3\"}, \"line\": {\"color\": \"white\"}}, \"type\": \"table\"}]}, \"layout\": {\"annotationdefaults\": {\"arrowcolor\": \"#2a3f5f\", \"arrowhead\": 0, \"arrowwidth\": 1}, \"colorscale\": {\"diverging\": [[0, \"#8e0152\"], [0.1, \"#c51b7d\"], [0.2, \"#de77ae\"], [0.3, \"#f1b6da\"], [0.4, \"#fde0ef\"], [0.5, \"#f7f7f7\"], [0.6, \"#e6f5d0\"], [0.7, \"#b8e186\"], [0.8, \"#7fbc41\"], [0.9, \"#4d9221\"], [1, \"#276419\"]], \"sequential\": [[0.0, \"#0d0887\"], [0.1111111111111111, \"#46039f\"], [0.2222222222222222, \"#7201a8\"], [0.3333333333333333, \"#9c179e\"], [0.4444444444444444, \"#bd3786\"], [0.5555555555555556, \"#d8576b\"], [0.6666666666666666, \"#ed7953\"], [0.7777777777777778, \"#fb9f3a\"], [0.8888888888888888, \"#fdca26\"], [1.0, \"#f0f921\"]], \"sequentialminus\": [[0.0, \"#0d0887\"], [0.1111111111111111, \"#46039f\"], [0.2222222222222222, \"#7201a8\"], [0.3333333333333333, \"#9c179e\"], [0.4444444444444444, \"#bd3786\"], [0.5555555555555556, \"#d8576b\"], [0.6666666666666666, \"#ed7953\"], [0.7777777777777778, \"#fb9f3a\"], [0.8888888888888888, \"#fdca26\"], [1.0, \"#f0f921\"]]}, \"colorway\": [\"#636efa\", \"#EF553B\", \"#00cc96\", \"#ab63fa\", \"#FFA15A\", \"#19d3f3\", \"#FF6692\", \"#B6E880\", \"#FF97FF\", \"#FECB52\"], \"font\": {\"color\": \"#2a3f5f\"}, \"geo\": {\"bgcolor\": \"white\", \"lakecolor\": \"white\", \"landcolor\": \"#E5ECF6\", \"showlakes\": true, \"showland\": true, \"subunitcolor\": \"white\"}, \"hoverlabel\": {\"align\": \"left\"}, \"hovermode\": \"closest\", \"mapbox\": {\"style\": \"light\"}, \"paper_bgcolor\": \"white\", \"plot_bgcolor\": \"#E5ECF6\", \"polar\": {\"angularaxis\": {\"gridcolor\": \"white\", \"linecolor\": \"white\", \"ticks\": \"\"}, \"bgcolor\": \"#E5ECF6\", \"radialaxis\": {\"gridcolor\": \"white\", \"linecolor\": \"white\", \"ticks\": \"\"}}, \"scene\": {\"xaxis\": {\"backgroundcolor\": \"#E5ECF6\", \"gridcolor\": \"white\", \"gridwidth\": 2, \"linecolor\": \"white\", \"showbackground\": true, \"ticks\": \"\", \"zerolinecolor\": \"white\"}, \"yaxis\": {\"backgroundcolor\": \"#E5ECF6\", \"gridcolor\": \"white\", \"gridwidth\": 2, \"linecolor\": \"white\", \"showbackground\": true, \"ticks\": \"\", \"zerolinecolor\": \"white\"}, \"zaxis\": {\"backgroundcolor\": \"#E5ECF6\", \"gridcolor\": \"white\", \"gridwidth\": 2, \"linecolor\": \"white\", \"showbackground\": true, \"ticks\": \"\", \"zerolinecolor\": \"white\"}}, \"shapedefaults\": {\"line\": {\"color\": \"#2a3f5f\"}}, \"ternary\": {\"aaxis\": {\"gridcolor\": \"white\", \"linecolor\": \"white\", \"ticks\": \"\"}, \"baxis\": {\"gridcolor\": \"white\", \"linecolor\": \"white\", \"ticks\": \"\"}, \"bgcolor\": \"#E5ECF6\", \"caxis\": {\"gridcolor\": \"white\", \"linecolor\": \"white\", \"ticks\": \"\"}}, \"title\": {\"x\": 0.05}, \"xaxis\": {\"automargin\": true, \"gridcolor\": \"white\", \"linecolor\": \"white\", \"ticks\": \"\", \"zerolinecolor\": \"white\", \"zerolinewidth\": 2}, \"yaxis\": {\"automargin\": true, \"gridcolor\": \"white\", \"linecolor\": \"white\", \"ticks\": \"\", \"zerolinecolor\": \"white\", \"zerolinewidth\": 2}}}},\n",
       "                        {\"responsive\": true}\n",
       "                    ).then(function(){\n",
       "                            \n",
       "var gd = document.getElementById('83d9d3b3-62a7-4c54-ade0-4925729fe6cf');\n",
       "var x = new MutationObserver(function (mutations, observer) {{\n",
       "        var display = window.getComputedStyle(gd).display;\n",
       "        if (!display || display === 'none') {{\n",
       "            console.log([gd, 'removed!']);\n",
       "            Plotly.purge(gd);\n",
       "            observer.disconnect();\n",
       "        }}\n",
       "}});\n",
       "\n",
       "// Listen for the removal of the full notebook cells\n",
       "var notebookContainer = gd.closest('#notebook-container');\n",
       "if (notebookContainer) {{\n",
       "    x.observe(notebookContainer, {childList: true});\n",
       "}}\n",
       "\n",
       "// Listen for the clearing of the current output cell\n",
       "var outputEl = gd.closest('.output');\n",
       "if (outputEl) {{\n",
       "    x.observe(outputEl, {childList: true});\n",
       "}}\n",
       "\n",
       "                        })\n",
       "                };\n",
       "                });\n",
       "            </script>\n",
       "        </div>"
      ]
     },
     "metadata": {},
     "output_type": "display_data"
    }
   ],
   "source": [
    "show('group/time_auc')"
   ]
  },
  {
   "cell_type": "code",
   "execution_count": 30,
   "metadata": {},
   "outputs": [
    {
     "data": {
      "application/vnd.plotly.v1+json": {
       "config": {
        "linkText": "Export to plot.ly",
        "plotlyServerURL": "https://plot.ly",
        "showLink": false
       },
       "data": [
        {
         "line": {
          "shape": "spline"
         },
         "mode": "lines",
         "name": "offline_4,5,6_video",
         "type": "scatter",
         "x": [
          290,
          295,
          296,
          297,
          298,
          300,
          301,
          302,
          303,
          304,
          305,
          306,
          307,
          308,
          309,
          310,
          311,
          312,
          314,
          315,
          316,
          317,
          318,
          319,
          320,
          321,
          322,
          323,
          324,
          325,
          326,
          327,
          328,
          329,
          330,
          331,
          333,
          334,
          335,
          336,
          338,
          339,
          340,
          342,
          341,
          344,
          345,
          346,
          347,
          348,
          349,
          350,
          351,
          352,
          354,
          359,
          360,
          363,
          358,
          361,
          357,
          362,
          353,
          364,
          365,
          366,
          367,
          368,
          369,
          371,
          372,
          373,
          374,
          375,
          376,
          377,
          378,
          379,
          380,
          381,
          382,
          383,
          384,
          385,
          386,
          387,
          388,
          389,
          390,
          391,
          392,
          393,
          394,
          395,
          396,
          397,
          398,
          399,
          400,
          401,
          402,
          403,
          404,
          405,
          406,
          407,
          408,
          409,
          410,
          411,
          413,
          414,
          415,
          416,
          417,
          418,
          419,
          420,
          421,
          422,
          423,
          424,
          425,
          426,
          427,
          428,
          429,
          430,
          431,
          432,
          433,
          434,
          435,
          436,
          437,
          438,
          439,
          440,
          441,
          442,
          443,
          444,
          445,
          446,
          447,
          448,
          449,
          450,
          451,
          452,
          453,
          454,
          455,
          456,
          457,
          458,
          459,
          460,
          462,
          461,
          463,
          464,
          465,
          466,
          467,
          468,
          469,
          470,
          471,
          472,
          473,
          474,
          475,
          476,
          477,
          478,
          479,
          480,
          481,
          482,
          483,
          484,
          485,
          486,
          487,
          488,
          489,
          490,
          491,
          492,
          493,
          494,
          495,
          496,
          497,
          498,
          499,
          500,
          501,
          502,
          503,
          504,
          505,
          506,
          507,
          508,
          509,
          510,
          511,
          512,
          513,
          514,
          515,
          516,
          517,
          518,
          519,
          520,
          521,
          522,
          523,
          524,
          525,
          526,
          527,
          528,
          529,
          530,
          531,
          532,
          533,
          534,
          535,
          536,
          537,
          538,
          539,
          540,
          541,
          542,
          543,
          544,
          545,
          546,
          547,
          548,
          549,
          550,
          551,
          552,
          553,
          554,
          555,
          556,
          557,
          559,
          560,
          561,
          562,
          563,
          564,
          565,
          566,
          567,
          568,
          569,
          570,
          571,
          572,
          573
         ],
         "y": [
          0.64514,
          0.6723,
          0.69339,
          0.69868,
          0.71062,
          0.64677,
          0.67069,
          0.68768,
          0.67482,
          0.71386,
          0.72739,
          0.71518,
          0.72236,
          0.70266,
          0.69898,
          0.7181,
          0.71252,
          0.71353,
          0.70323,
          0.69125,
          0.71105,
          0.69422,
          0.70074,
          0.69527,
          0.6974,
          0.7031,
          0.70072,
          0.68095,
          0.68695,
          0.68189,
          0.6968,
          0.67537,
          0.6993,
          0.72304,
          0.71597,
          0.71634,
          0.71078,
          0.71073,
          0.70671,
          0.71355,
          0.70229,
          0.70412,
          0.70805,
          0.71199,
          0.71046,
          0.70997,
          0.70836,
          0.7084,
          0.70514,
          0.71456,
          0.71361,
          0.70644,
          0.71458,
          0.71239,
          0.72155,
          0.72979,
          0.72938,
          0.70668,
          0.72426,
          0.72092,
          0.73124,
          0.72178,
          0.71648,
          0.66163,
          0.72373,
          0.7219,
          0.71008,
          0.71691,
          0.70859,
          0.70542,
          0.70267,
          0.70902,
          0.70829,
          0.69565,
          0.72401,
          0.74413,
          0.74325,
          0.73645,
          0.7464,
          0.73555,
          0.73765,
          0.73464,
          0.72543,
          0.72146,
          0.7133,
          0.71154,
          0.71408,
          0.70971,
          0.692,
          0.71186,
          0.71059,
          0.70549,
          0.70208,
          0.70488,
          0.71111,
          0.69347,
          0.69956,
          0.69296,
          0.70088,
          0.71984,
          0.72531,
          0.74132,
          0.72184,
          0.71738,
          0.72404,
          0.7269,
          0.73108,
          0.72327,
          0.71619,
          0.71326,
          0.70778,
          0.70866,
          0.69833,
          0.71869,
          0.6953,
          0.70562,
          0.69291,
          0.69981,
          0.70375,
          0.69151,
          0.68481,
          0.70086,
          0.70973,
          0.70284,
          0.70944,
          0.71369,
          0.71944,
          0.73086,
          0.71603,
          0.71279,
          0.7225,
          0.7204,
          0.68419,
          0.70074,
          0.70388,
          0.71094,
          0.70548,
          0.69094,
          0.69959,
          0.69808,
          0.69395,
          0.69877,
          0.6949,
          0.68794,
          0.67548,
          0.70814,
          0.69389,
          0.74579,
          0.72169,
          0.72005,
          0.72507,
          0.7358,
          0.71233,
          0.71557,
          0.71472,
          0.70939,
          0.70811,
          0.71042,
          0.7165,
          0.71044,
          0.71461,
          0.71131,
          0.7088,
          0.71289,
          0.73934,
          0.70747,
          0.7164,
          0.72814,
          0.73513,
          0.77072,
          0.7892,
          0.81365,
          0.79221,
          0.7415,
          0.72545,
          0.72359,
          0.72438,
          0.72324,
          0.58208,
          0.56243,
          0.71608,
          0.71754,
          0.71282,
          0.70836,
          0.70587,
          0.70425,
          0.70788,
          0.71515,
          0.70938,
          0.71138,
          0.71321,
          0.7195,
          0.72088,
          0.74624,
          0.79707,
          0.8145,
          0.79467,
          0.75172,
          0.72742,
          0.73165,
          0.73736,
          0.72858,
          0.72416,
          0.72345,
          0.72585,
          0.72439,
          0.7136,
          0.69557,
          0.70442,
          0.71479,
          0.70812,
          0.71692,
          0.71393,
          0.71463,
          0.72678,
          0.73707,
          0.73595,
          0.77898,
          0.79107,
          0.82471,
          0.78867,
          0.77652,
          0.74716,
          0.74504,
          0.75094,
          0.74686,
          0.73762,
          0.73487,
          0.74361,
          0.73759,
          0.74684,
          0.75797,
          0.74942,
          0.73152,
          0.72341,
          0.71034,
          0.71024,
          0.71103,
          0.7112,
          0.70206,
          0.73494,
          0.74877,
          0.73085,
          0.7475,
          0.73082,
          0.72184,
          0.71549,
          0.7213,
          0.71241,
          0.70525,
          0.72156,
          0.70951,
          0.73278,
          0.74017,
          0.74678,
          0.725,
          0.70568,
          0.70894,
          0.71824,
          0.72478,
          0.72179,
          0.73199,
          0.70784,
          0.70707,
          0.73996,
          0.78788,
          0.79354,
          0.77653,
          0.76048,
          0.75203
         ]
        },
        {
         "line": {
          "shape": "spline"
         },
         "mode": "lines",
         "name": "offline_4,5,6_video2",
         "type": "scatter",
         "x": [
          501,
          502,
          503,
          504,
          505,
          506,
          507,
          508,
          509,
          510,
          511,
          512,
          513,
          514,
          515,
          516,
          517,
          518,
          519,
          520,
          521,
          522,
          523,
          524,
          525,
          526,
          527,
          528,
          529,
          530,
          531,
          532,
          533,
          534,
          535,
          536,
          537,
          538,
          539,
          540,
          541,
          542,
          543,
          545,
          544,
          546,
          547,
          548,
          549,
          550,
          551,
          552,
          553,
          554,
          555,
          556,
          557,
          559,
          560,
          561,
          562,
          563,
          564,
          565,
          566,
          567,
          568,
          569,
          570,
          571,
          572,
          573
         ],
         "y": [
          0.72954,
          0.73197,
          0.7028,
          0.69957,
          0.69898,
          0.70293,
          0.70612,
          0.72317,
          0.71103,
          0.68857,
          0.69846,
          0.7096,
          0.70148,
          0.71211,
          0.71014,
          0.71364,
          0.7229,
          0.73568,
          0.73386,
          0.77831,
          0.79651,
          0.82507,
          0.79171,
          0.77279,
          0.74216,
          0.7399,
          0.74816,
          0.74135,
          0.73334,
          0.73018,
          0.74189,
          0.73675,
          0.74777,
          0.75838,
          0.74834,
          0.7301,
          0.72313,
          0.71035,
          0.70469,
          0.70966,
          0.71374,
          0.70294,
          0.73901,
          0.73756,
          0.74493,
          0.74722,
          0.73595,
          0.72903,
          0.71894,
          0.72472,
          0.7122,
          0.70796,
          0.72395,
          0.71219,
          0.71952,
          0.72917,
          0.7244,
          0.6964,
          0.70245,
          0.70745,
          0.72117,
          0.72056,
          0.72246,
          0.73405,
          0.71511,
          0.71006,
          0.65651,
          0.71162,
          0.71714,
          0.70894,
          0.69776,
          0.67458
         ]
        }
       ],
       "layout": {
        "template": {
         "data": {
          "bar": [
           {
            "error_x": {
             "color": "#2a3f5f"
            },
            "error_y": {
             "color": "#2a3f5f"
            },
            "marker": {
             "line": {
              "color": "#E5ECF6",
              "width": 0.5
             }
            },
            "type": "bar"
           }
          ],
          "barpolar": [
           {
            "marker": {
             "line": {
              "color": "#E5ECF6",
              "width": 0.5
             }
            },
            "type": "barpolar"
           }
          ],
          "carpet": [
           {
            "aaxis": {
             "endlinecolor": "#2a3f5f",
             "gridcolor": "white",
             "linecolor": "white",
             "minorgridcolor": "white",
             "startlinecolor": "#2a3f5f"
            },
            "baxis": {
             "endlinecolor": "#2a3f5f",
             "gridcolor": "white",
             "linecolor": "white",
             "minorgridcolor": "white",
             "startlinecolor": "#2a3f5f"
            },
            "type": "carpet"
           }
          ],
          "choropleth": [
           {
            "colorbar": {
             "outlinewidth": 0,
             "ticks": ""
            },
            "type": "choropleth"
           }
          ],
          "contour": [
           {
            "colorbar": {
             "outlinewidth": 0,
             "ticks": ""
            },
            "colorscale": [
             [
              0,
              "#0d0887"
             ],
             [
              0.1111111111111111,
              "#46039f"
             ],
             [
              0.2222222222222222,
              "#7201a8"
             ],
             [
              0.3333333333333333,
              "#9c179e"
             ],
             [
              0.4444444444444444,
              "#bd3786"
             ],
             [
              0.5555555555555556,
              "#d8576b"
             ],
             [
              0.6666666666666666,
              "#ed7953"
             ],
             [
              0.7777777777777778,
              "#fb9f3a"
             ],
             [
              0.8888888888888888,
              "#fdca26"
             ],
             [
              1,
              "#f0f921"
             ]
            ],
            "type": "contour"
           }
          ],
          "contourcarpet": [
           {
            "colorbar": {
             "outlinewidth": 0,
             "ticks": ""
            },
            "type": "contourcarpet"
           }
          ],
          "heatmap": [
           {
            "colorbar": {
             "outlinewidth": 0,
             "ticks": ""
            },
            "colorscale": [
             [
              0,
              "#0d0887"
             ],
             [
              0.1111111111111111,
              "#46039f"
             ],
             [
              0.2222222222222222,
              "#7201a8"
             ],
             [
              0.3333333333333333,
              "#9c179e"
             ],
             [
              0.4444444444444444,
              "#bd3786"
             ],
             [
              0.5555555555555556,
              "#d8576b"
             ],
             [
              0.6666666666666666,
              "#ed7953"
             ],
             [
              0.7777777777777778,
              "#fb9f3a"
             ],
             [
              0.8888888888888888,
              "#fdca26"
             ],
             [
              1,
              "#f0f921"
             ]
            ],
            "type": "heatmap"
           }
          ],
          "heatmapgl": [
           {
            "colorbar": {
             "outlinewidth": 0,
             "ticks": ""
            },
            "colorscale": [
             [
              0,
              "#0d0887"
             ],
             [
              0.1111111111111111,
              "#46039f"
             ],
             [
              0.2222222222222222,
              "#7201a8"
             ],
             [
              0.3333333333333333,
              "#9c179e"
             ],
             [
              0.4444444444444444,
              "#bd3786"
             ],
             [
              0.5555555555555556,
              "#d8576b"
             ],
             [
              0.6666666666666666,
              "#ed7953"
             ],
             [
              0.7777777777777778,
              "#fb9f3a"
             ],
             [
              0.8888888888888888,
              "#fdca26"
             ],
             [
              1,
              "#f0f921"
             ]
            ],
            "type": "heatmapgl"
           }
          ],
          "histogram": [
           {
            "marker": {
             "colorbar": {
              "outlinewidth": 0,
              "ticks": ""
             }
            },
            "type": "histogram"
           }
          ],
          "histogram2d": [
           {
            "colorbar": {
             "outlinewidth": 0,
             "ticks": ""
            },
            "colorscale": [
             [
              0,
              "#0d0887"
             ],
             [
              0.1111111111111111,
              "#46039f"
             ],
             [
              0.2222222222222222,
              "#7201a8"
             ],
             [
              0.3333333333333333,
              "#9c179e"
             ],
             [
              0.4444444444444444,
              "#bd3786"
             ],
             [
              0.5555555555555556,
              "#d8576b"
             ],
             [
              0.6666666666666666,
              "#ed7953"
             ],
             [
              0.7777777777777778,
              "#fb9f3a"
             ],
             [
              0.8888888888888888,
              "#fdca26"
             ],
             [
              1,
              "#f0f921"
             ]
            ],
            "type": "histogram2d"
           }
          ],
          "histogram2dcontour": [
           {
            "colorbar": {
             "outlinewidth": 0,
             "ticks": ""
            },
            "colorscale": [
             [
              0,
              "#0d0887"
             ],
             [
              0.1111111111111111,
              "#46039f"
             ],
             [
              0.2222222222222222,
              "#7201a8"
             ],
             [
              0.3333333333333333,
              "#9c179e"
             ],
             [
              0.4444444444444444,
              "#bd3786"
             ],
             [
              0.5555555555555556,
              "#d8576b"
             ],
             [
              0.6666666666666666,
              "#ed7953"
             ],
             [
              0.7777777777777778,
              "#fb9f3a"
             ],
             [
              0.8888888888888888,
              "#fdca26"
             ],
             [
              1,
              "#f0f921"
             ]
            ],
            "type": "histogram2dcontour"
           }
          ],
          "mesh3d": [
           {
            "colorbar": {
             "outlinewidth": 0,
             "ticks": ""
            },
            "type": "mesh3d"
           }
          ],
          "parcoords": [
           {
            "line": {
             "colorbar": {
              "outlinewidth": 0,
              "ticks": ""
             }
            },
            "type": "parcoords"
           }
          ],
          "scatter": [
           {
            "marker": {
             "colorbar": {
              "outlinewidth": 0,
              "ticks": ""
             }
            },
            "type": "scatter"
           }
          ],
          "scatter3d": [
           {
            "line": {
             "colorbar": {
              "outlinewidth": 0,
              "ticks": ""
             }
            },
            "marker": {
             "colorbar": {
              "outlinewidth": 0,
              "ticks": ""
             }
            },
            "type": "scatter3d"
           }
          ],
          "scattercarpet": [
           {
            "marker": {
             "colorbar": {
              "outlinewidth": 0,
              "ticks": ""
             }
            },
            "type": "scattercarpet"
           }
          ],
          "scattergeo": [
           {
            "marker": {
             "colorbar": {
              "outlinewidth": 0,
              "ticks": ""
             }
            },
            "type": "scattergeo"
           }
          ],
          "scattergl": [
           {
            "marker": {
             "colorbar": {
              "outlinewidth": 0,
              "ticks": ""
             }
            },
            "type": "scattergl"
           }
          ],
          "scattermapbox": [
           {
            "marker": {
             "colorbar": {
              "outlinewidth": 0,
              "ticks": ""
             }
            },
            "type": "scattermapbox"
           }
          ],
          "scatterpolar": [
           {
            "marker": {
             "colorbar": {
              "outlinewidth": 0,
              "ticks": ""
             }
            },
            "type": "scatterpolar"
           }
          ],
          "scatterpolargl": [
           {
            "marker": {
             "colorbar": {
              "outlinewidth": 0,
              "ticks": ""
             }
            },
            "type": "scatterpolargl"
           }
          ],
          "scatterternary": [
           {
            "marker": {
             "colorbar": {
              "outlinewidth": 0,
              "ticks": ""
             }
            },
            "type": "scatterternary"
           }
          ],
          "surface": [
           {
            "colorbar": {
             "outlinewidth": 0,
             "ticks": ""
            },
            "colorscale": [
             [
              0,
              "#0d0887"
             ],
             [
              0.1111111111111111,
              "#46039f"
             ],
             [
              0.2222222222222222,
              "#7201a8"
             ],
             [
              0.3333333333333333,
              "#9c179e"
             ],
             [
              0.4444444444444444,
              "#bd3786"
             ],
             [
              0.5555555555555556,
              "#d8576b"
             ],
             [
              0.6666666666666666,
              "#ed7953"
             ],
             [
              0.7777777777777778,
              "#fb9f3a"
             ],
             [
              0.8888888888888888,
              "#fdca26"
             ],
             [
              1,
              "#f0f921"
             ]
            ],
            "type": "surface"
           }
          ],
          "table": [
           {
            "cells": {
             "fill": {
              "color": "#EBF0F8"
             },
             "line": {
              "color": "white"
             }
            },
            "header": {
             "fill": {
              "color": "#C8D4E3"
             },
             "line": {
              "color": "white"
             }
            },
            "type": "table"
           }
          ]
         },
         "layout": {
          "annotationdefaults": {
           "arrowcolor": "#2a3f5f",
           "arrowhead": 0,
           "arrowwidth": 1
          },
          "colorscale": {
           "diverging": [
            [
             0,
             "#8e0152"
            ],
            [
             0.1,
             "#c51b7d"
            ],
            [
             0.2,
             "#de77ae"
            ],
            [
             0.3,
             "#f1b6da"
            ],
            [
             0.4,
             "#fde0ef"
            ],
            [
             0.5,
             "#f7f7f7"
            ],
            [
             0.6,
             "#e6f5d0"
            ],
            [
             0.7,
             "#b8e186"
            ],
            [
             0.8,
             "#7fbc41"
            ],
            [
             0.9,
             "#4d9221"
            ],
            [
             1,
             "#276419"
            ]
           ],
           "sequential": [
            [
             0,
             "#0d0887"
            ],
            [
             0.1111111111111111,
             "#46039f"
            ],
            [
             0.2222222222222222,
             "#7201a8"
            ],
            [
             0.3333333333333333,
             "#9c179e"
            ],
            [
             0.4444444444444444,
             "#bd3786"
            ],
            [
             0.5555555555555556,
             "#d8576b"
            ],
            [
             0.6666666666666666,
             "#ed7953"
            ],
            [
             0.7777777777777778,
             "#fb9f3a"
            ],
            [
             0.8888888888888888,
             "#fdca26"
            ],
            [
             1,
             "#f0f921"
            ]
           ],
           "sequentialminus": [
            [
             0,
             "#0d0887"
            ],
            [
             0.1111111111111111,
             "#46039f"
            ],
            [
             0.2222222222222222,
             "#7201a8"
            ],
            [
             0.3333333333333333,
             "#9c179e"
            ],
            [
             0.4444444444444444,
             "#bd3786"
            ],
            [
             0.5555555555555556,
             "#d8576b"
            ],
            [
             0.6666666666666666,
             "#ed7953"
            ],
            [
             0.7777777777777778,
             "#fb9f3a"
            ],
            [
             0.8888888888888888,
             "#fdca26"
            ],
            [
             1,
             "#f0f921"
            ]
           ]
          },
          "colorway": [
           "#636efa",
           "#EF553B",
           "#00cc96",
           "#ab63fa",
           "#FFA15A",
           "#19d3f3",
           "#FF6692",
           "#B6E880",
           "#FF97FF",
           "#FECB52"
          ],
          "font": {
           "color": "#2a3f5f"
          },
          "geo": {
           "bgcolor": "white",
           "lakecolor": "white",
           "landcolor": "#E5ECF6",
           "showlakes": true,
           "showland": true,
           "subunitcolor": "white"
          },
          "hoverlabel": {
           "align": "left"
          },
          "hovermode": "closest",
          "mapbox": {
           "style": "light"
          },
          "paper_bgcolor": "white",
          "plot_bgcolor": "#E5ECF6",
          "polar": {
           "angularaxis": {
            "gridcolor": "white",
            "linecolor": "white",
            "ticks": ""
           },
           "bgcolor": "#E5ECF6",
           "radialaxis": {
            "gridcolor": "white",
            "linecolor": "white",
            "ticks": ""
           }
          },
          "scene": {
           "xaxis": {
            "backgroundcolor": "#E5ECF6",
            "gridcolor": "white",
            "gridwidth": 2,
            "linecolor": "white",
            "showbackground": true,
            "ticks": "",
            "zerolinecolor": "white"
           },
           "yaxis": {
            "backgroundcolor": "#E5ECF6",
            "gridcolor": "white",
            "gridwidth": 2,
            "linecolor": "white",
            "showbackground": true,
            "ticks": "",
            "zerolinecolor": "white"
           },
           "zaxis": {
            "backgroundcolor": "#E5ECF6",
            "gridcolor": "white",
            "gridwidth": 2,
            "linecolor": "white",
            "showbackground": true,
            "ticks": "",
            "zerolinecolor": "white"
           }
          },
          "shapedefaults": {
           "line": {
            "color": "#2a3f5f"
           }
          },
          "ternary": {
           "aaxis": {
            "gridcolor": "white",
            "linecolor": "white",
            "ticks": ""
           },
           "baxis": {
            "gridcolor": "white",
            "linecolor": "white",
            "ticks": ""
           },
           "bgcolor": "#E5ECF6",
           "caxis": {
            "gridcolor": "white",
            "linecolor": "white",
            "ticks": ""
           }
          },
          "title": {
           "x": 0.05
          },
          "xaxis": {
           "automargin": true,
           "gridcolor": "white",
           "linecolor": "white",
           "ticks": "",
           "zerolinecolor": "white",
           "zerolinewidth": 2
          },
          "yaxis": {
           "automargin": true,
           "gridcolor": "white",
           "linecolor": "white",
           "ticks": "",
           "zerolinecolor": "white",
           "zerolinewidth": 2
          }
         }
        }
       }
      },
      "text/html": [
       "<div>\n",
       "        \n",
       "        \n",
       "            <div id=\"29337423-9801-44c8-b763-674ccc9debcc\" class=\"plotly-graph-div\" style=\"height:525px; width:100%;\"></div>\n",
       "            <script type=\"text/javascript\">\n",
       "                require([\"plotly\"], function(Plotly) {\n",
       "                    window.PLOTLYENV=window.PLOTLYENV || {};\n",
       "                    \n",
       "                if (document.getElementById(\"29337423-9801-44c8-b763-674ccc9debcc\")) {\n",
       "                    Plotly.newPlot(\n",
       "                        '29337423-9801-44c8-b763-674ccc9debcc',\n",
       "                        [{\"line\": {\"shape\": \"spline\"}, \"mode\": \"lines\", \"name\": \"offline_4,5,6_video\", \"type\": \"scatter\", \"x\": [290, 295, 296, 297, 298, 300, 301, 302, 303, 304, 305, 306, 307, 308, 309, 310, 311, 312, 314, 315, 316, 317, 318, 319, 320, 321, 322, 323, 324, 325, 326, 327, 328, 329, 330, 331, 333, 334, 335, 336, 338, 339, 340, 342, 341, 344, 345, 346, 347, 348, 349, 350, 351, 352, 354, 359, 360, 363, 358, 361, 357, 362, 353, 364, 365, 366, 367, 368, 369, 371, 372, 373, 374, 375, 376, 377, 378, 379, 380, 381, 382, 383, 384, 385, 386, 387, 388, 389, 390, 391, 392, 393, 394, 395, 396, 397, 398, 399, 400, 401, 402, 403, 404, 405, 406, 407, 408, 409, 410, 411, 413, 414, 415, 416, 417, 418, 419, 420, 421, 422, 423, 424, 425, 426, 427, 428, 429, 430, 431, 432, 433, 434, 435, 436, 437, 438, 439, 440, 441, 442, 443, 444, 445, 446, 447, 448, 449, 450, 451, 452, 453, 454, 455, 456, 457, 458, 459, 460, 462, 461, 463, 464, 465, 466, 467, 468, 469, 470, 471, 472, 473, 474, 475, 476, 477, 478, 479, 480, 481, 482, 483, 484, 485, 486, 487, 488, 489, 490, 491, 492, 493, 494, 495, 496, 497, 498, 499, 500, 501, 502, 503, 504, 505, 506, 507, 508, 509, 510, 511, 512, 513, 514, 515, 516, 517, 518, 519, 520, 521, 522, 523, 524, 525, 526, 527, 528, 529, 530, 531, 532, 533, 534, 535, 536, 537, 538, 539, 540, 541, 542, 543, 544, 545, 546, 547, 548, 549, 550, 551, 552, 553, 554, 555, 556, 557, 559, 560, 561, 562, 563, 564, 565, 566, 567, 568, 569, 570, 571, 572, 573], \"y\": [0.64514, 0.6723, 0.69339, 0.69868, 0.71062, 0.64677, 0.67069, 0.68768, 0.67482, 0.71386, 0.72739, 0.71518, 0.72236, 0.70266, 0.69898, 0.7181, 0.71252, 0.71353, 0.70323, 0.69125, 0.71105, 0.69422, 0.70074, 0.69527, 0.6974, 0.7031, 0.70072, 0.68095, 0.68695, 0.68189, 0.6968, 0.67537, 0.6993, 0.72304, 0.71597, 0.71634, 0.71078, 0.71073, 0.70671, 0.71355, 0.70229, 0.70412, 0.70805, 0.71199, 0.71046, 0.70997, 0.70836, 0.7084, 0.70514, 0.71456, 0.71361, 0.70644, 0.71458, 0.71239, 0.72155, 0.72979, 0.72938, 0.70668, 0.72426, 0.72092, 0.73124, 0.72178, 0.71648, 0.66163, 0.72373, 0.7219, 0.71008, 0.71691, 0.70859, 0.70542, 0.70267, 0.70902, 0.70829, 0.69565, 0.72401, 0.74413, 0.74325, 0.73645, 0.7464, 0.73555, 0.73765, 0.73464, 0.72543, 0.72146, 0.7133, 0.71154, 0.71408, 0.70971, 0.692, 0.71186, 0.71059, 0.70549, 0.70208, 0.70488, 0.71111, 0.69347, 0.69956, 0.69296, 0.70088, 0.71984, 0.72531, 0.74132, 0.72184, 0.71738, 0.72404, 0.7269, 0.73108, 0.72327, 0.71619, 0.71326, 0.70778, 0.70866, 0.69833, 0.71869, 0.6953, 0.70562, 0.69291, 0.69981, 0.70375, 0.69151, 0.68481, 0.70086, 0.70973, 0.70284, 0.70944, 0.71369, 0.71944, 0.73086, 0.71603, 0.71279, 0.7225, 0.7204, 0.68419, 0.70074, 0.70388, 0.71094, 0.70548, 0.69094, 0.69959, 0.69808, 0.69395, 0.69877, 0.6949, 0.68794, 0.67548, 0.70814, 0.69389, 0.74579, 0.72169, 0.72005, 0.72507, 0.7358, 0.71233, 0.71557, 0.71472, 0.70939, 0.70811, 0.71042, 0.7165, 0.71044, 0.71461, 0.71131, 0.7088, 0.71289, 0.73934, 0.70747, 0.7164, 0.72814, 0.73513, 0.77072, 0.7892, 0.81365, 0.79221, 0.7415, 0.72545, 0.72359, 0.72438, 0.72324, 0.58208, 0.56243, 0.71608, 0.71754, 0.71282, 0.70836, 0.70587, 0.70425, 0.70788, 0.71515, 0.70938, 0.71138, 0.71321, 0.7195, 0.72088, 0.74624, 0.79707, 0.8145, 0.79467, 0.75172, 0.72742, 0.73165, 0.73736, 0.72858, 0.72416, 0.72345, 0.72585, 0.72439, 0.7136, 0.69557, 0.70442, 0.71479, 0.70812, 0.71692, 0.71393, 0.71463, 0.72678, 0.73707, 0.73595, 0.77898, 0.79107, 0.82471, 0.78867, 0.77652, 0.74716, 0.74504, 0.75094, 0.74686, 0.73762, 0.73487, 0.74361, 0.73759, 0.74684, 0.75797, 0.74942, 0.73152, 0.72341, 0.71034, 0.71024, 0.71103, 0.7112, 0.70206, 0.73494, 0.74877, 0.73085, 0.7475, 0.73082, 0.72184, 0.71549, 0.7213, 0.71241, 0.70525, 0.72156, 0.70951, 0.73278, 0.74017, 0.74678, 0.725, 0.70568, 0.70894, 0.71824, 0.72478, 0.72179, 0.73199, 0.70784, 0.70707, 0.73996, 0.78788, 0.79354, 0.77653, 0.76048, 0.75203]}, {\"line\": {\"shape\": \"spline\"}, \"mode\": \"lines\", \"name\": \"offline_4,5,6_video2\", \"type\": \"scatter\", \"x\": [501, 502, 503, 504, 505, 506, 507, 508, 509, 510, 511, 512, 513, 514, 515, 516, 517, 518, 519, 520, 521, 522, 523, 524, 525, 526, 527, 528, 529, 530, 531, 532, 533, 534, 535, 536, 537, 538, 539, 540, 541, 542, 543, 545, 544, 546, 547, 548, 549, 550, 551, 552, 553, 554, 555, 556, 557, 559, 560, 561, 562, 563, 564, 565, 566, 567, 568, 569, 570, 571, 572, 573], \"y\": [0.72954, 0.73197, 0.7028, 0.69957, 0.69898, 0.70293, 0.70612, 0.72317, 0.71103, 0.68857, 0.69846, 0.7096, 0.70148, 0.71211, 0.71014, 0.71364, 0.7229, 0.73568, 0.73386, 0.77831, 0.79651, 0.82507, 0.79171, 0.77279, 0.74216, 0.7399, 0.74816, 0.74135, 0.73334, 0.73018, 0.74189, 0.73675, 0.74777, 0.75838, 0.74834, 0.7301, 0.72313, 0.71035, 0.70469, 0.70966, 0.71374, 0.70294, 0.73901, 0.73756, 0.74493, 0.74722, 0.73595, 0.72903, 0.71894, 0.72472, 0.7122, 0.70796, 0.72395, 0.71219, 0.71952, 0.72917, 0.7244, 0.6964, 0.70245, 0.70745, 0.72117, 0.72056, 0.72246, 0.73405, 0.71511, 0.71006, 0.65651, 0.71162, 0.71714, 0.70894, 0.69776, 0.67458]}],\n",
       "                        {\"template\": {\"data\": {\"bar\": [{\"error_x\": {\"color\": \"#2a3f5f\"}, \"error_y\": {\"color\": \"#2a3f5f\"}, \"marker\": {\"line\": {\"color\": \"#E5ECF6\", \"width\": 0.5}}, \"type\": \"bar\"}], \"barpolar\": [{\"marker\": {\"line\": {\"color\": \"#E5ECF6\", \"width\": 0.5}}, \"type\": \"barpolar\"}], \"carpet\": [{\"aaxis\": {\"endlinecolor\": \"#2a3f5f\", \"gridcolor\": \"white\", \"linecolor\": \"white\", \"minorgridcolor\": \"white\", \"startlinecolor\": \"#2a3f5f\"}, \"baxis\": {\"endlinecolor\": \"#2a3f5f\", \"gridcolor\": \"white\", \"linecolor\": \"white\", \"minorgridcolor\": \"white\", \"startlinecolor\": \"#2a3f5f\"}, \"type\": \"carpet\"}], \"choropleth\": [{\"colorbar\": {\"outlinewidth\": 0, \"ticks\": \"\"}, \"type\": \"choropleth\"}], \"contour\": [{\"colorbar\": {\"outlinewidth\": 0, \"ticks\": \"\"}, \"colorscale\": [[0.0, \"#0d0887\"], [0.1111111111111111, \"#46039f\"], [0.2222222222222222, \"#7201a8\"], [0.3333333333333333, \"#9c179e\"], [0.4444444444444444, \"#bd3786\"], [0.5555555555555556, \"#d8576b\"], [0.6666666666666666, \"#ed7953\"], [0.7777777777777778, \"#fb9f3a\"], [0.8888888888888888, \"#fdca26\"], [1.0, \"#f0f921\"]], \"type\": \"contour\"}], \"contourcarpet\": [{\"colorbar\": {\"outlinewidth\": 0, \"ticks\": \"\"}, \"type\": \"contourcarpet\"}], \"heatmap\": [{\"colorbar\": {\"outlinewidth\": 0, \"ticks\": \"\"}, \"colorscale\": [[0.0, \"#0d0887\"], [0.1111111111111111, \"#46039f\"], [0.2222222222222222, \"#7201a8\"], [0.3333333333333333, \"#9c179e\"], [0.4444444444444444, \"#bd3786\"], [0.5555555555555556, \"#d8576b\"], [0.6666666666666666, \"#ed7953\"], [0.7777777777777778, \"#fb9f3a\"], [0.8888888888888888, \"#fdca26\"], [1.0, \"#f0f921\"]], \"type\": \"heatmap\"}], \"heatmapgl\": [{\"colorbar\": {\"outlinewidth\": 0, \"ticks\": \"\"}, \"colorscale\": [[0.0, \"#0d0887\"], [0.1111111111111111, \"#46039f\"], [0.2222222222222222, \"#7201a8\"], [0.3333333333333333, \"#9c179e\"], [0.4444444444444444, \"#bd3786\"], [0.5555555555555556, \"#d8576b\"], [0.6666666666666666, \"#ed7953\"], [0.7777777777777778, \"#fb9f3a\"], [0.8888888888888888, \"#fdca26\"], [1.0, \"#f0f921\"]], \"type\": \"heatmapgl\"}], \"histogram\": [{\"marker\": {\"colorbar\": {\"outlinewidth\": 0, \"ticks\": \"\"}}, \"type\": \"histogram\"}], \"histogram2d\": [{\"colorbar\": {\"outlinewidth\": 0, \"ticks\": \"\"}, \"colorscale\": [[0.0, \"#0d0887\"], [0.1111111111111111, \"#46039f\"], [0.2222222222222222, \"#7201a8\"], [0.3333333333333333, \"#9c179e\"], [0.4444444444444444, \"#bd3786\"], [0.5555555555555556, \"#d8576b\"], [0.6666666666666666, \"#ed7953\"], [0.7777777777777778, \"#fb9f3a\"], [0.8888888888888888, \"#fdca26\"], [1.0, \"#f0f921\"]], \"type\": \"histogram2d\"}], \"histogram2dcontour\": [{\"colorbar\": {\"outlinewidth\": 0, \"ticks\": \"\"}, \"colorscale\": [[0.0, \"#0d0887\"], [0.1111111111111111, \"#46039f\"], [0.2222222222222222, \"#7201a8\"], [0.3333333333333333, \"#9c179e\"], [0.4444444444444444, \"#bd3786\"], [0.5555555555555556, \"#d8576b\"], [0.6666666666666666, \"#ed7953\"], [0.7777777777777778, \"#fb9f3a\"], [0.8888888888888888, \"#fdca26\"], [1.0, \"#f0f921\"]], \"type\": \"histogram2dcontour\"}], \"mesh3d\": [{\"colorbar\": {\"outlinewidth\": 0, \"ticks\": \"\"}, \"type\": \"mesh3d\"}], \"parcoords\": [{\"line\": {\"colorbar\": {\"outlinewidth\": 0, \"ticks\": \"\"}}, \"type\": \"parcoords\"}], \"scatter\": [{\"marker\": {\"colorbar\": {\"outlinewidth\": 0, \"ticks\": \"\"}}, \"type\": \"scatter\"}], \"scatter3d\": [{\"line\": {\"colorbar\": {\"outlinewidth\": 0, \"ticks\": \"\"}}, \"marker\": {\"colorbar\": {\"outlinewidth\": 0, \"ticks\": \"\"}}, \"type\": \"scatter3d\"}], \"scattercarpet\": [{\"marker\": {\"colorbar\": {\"outlinewidth\": 0, \"ticks\": \"\"}}, \"type\": \"scattercarpet\"}], \"scattergeo\": [{\"marker\": {\"colorbar\": {\"outlinewidth\": 0, \"ticks\": \"\"}}, \"type\": \"scattergeo\"}], \"scattergl\": [{\"marker\": {\"colorbar\": {\"outlinewidth\": 0, \"ticks\": \"\"}}, \"type\": \"scattergl\"}], \"scattermapbox\": [{\"marker\": {\"colorbar\": {\"outlinewidth\": 0, \"ticks\": \"\"}}, \"type\": \"scattermapbox\"}], \"scatterpolar\": [{\"marker\": {\"colorbar\": {\"outlinewidth\": 0, \"ticks\": \"\"}}, \"type\": \"scatterpolar\"}], \"scatterpolargl\": [{\"marker\": {\"colorbar\": {\"outlinewidth\": 0, \"ticks\": \"\"}}, \"type\": \"scatterpolargl\"}], \"scatterternary\": [{\"marker\": {\"colorbar\": {\"outlinewidth\": 0, \"ticks\": \"\"}}, \"type\": \"scatterternary\"}], \"surface\": [{\"colorbar\": {\"outlinewidth\": 0, \"ticks\": \"\"}, \"colorscale\": [[0.0, \"#0d0887\"], [0.1111111111111111, \"#46039f\"], [0.2222222222222222, \"#7201a8\"], [0.3333333333333333, \"#9c179e\"], [0.4444444444444444, \"#bd3786\"], [0.5555555555555556, \"#d8576b\"], [0.6666666666666666, \"#ed7953\"], [0.7777777777777778, \"#fb9f3a\"], [0.8888888888888888, \"#fdca26\"], [1.0, \"#f0f921\"]], \"type\": \"surface\"}], \"table\": [{\"cells\": {\"fill\": {\"color\": \"#EBF0F8\"}, \"line\": {\"color\": \"white\"}}, \"header\": {\"fill\": {\"color\": \"#C8D4E3\"}, \"line\": {\"color\": \"white\"}}, \"type\": \"table\"}]}, \"layout\": {\"annotationdefaults\": {\"arrowcolor\": \"#2a3f5f\", \"arrowhead\": 0, \"arrowwidth\": 1}, \"colorscale\": {\"diverging\": [[0, \"#8e0152\"], [0.1, \"#c51b7d\"], [0.2, \"#de77ae\"], [0.3, \"#f1b6da\"], [0.4, \"#fde0ef\"], [0.5, \"#f7f7f7\"], [0.6, \"#e6f5d0\"], [0.7, \"#b8e186\"], [0.8, \"#7fbc41\"], [0.9, \"#4d9221\"], [1, \"#276419\"]], \"sequential\": [[0.0, \"#0d0887\"], [0.1111111111111111, \"#46039f\"], [0.2222222222222222, \"#7201a8\"], [0.3333333333333333, \"#9c179e\"], [0.4444444444444444, \"#bd3786\"], [0.5555555555555556, \"#d8576b\"], [0.6666666666666666, \"#ed7953\"], [0.7777777777777778, \"#fb9f3a\"], [0.8888888888888888, \"#fdca26\"], [1.0, \"#f0f921\"]], \"sequentialminus\": [[0.0, \"#0d0887\"], [0.1111111111111111, \"#46039f\"], [0.2222222222222222, \"#7201a8\"], [0.3333333333333333, \"#9c179e\"], [0.4444444444444444, \"#bd3786\"], [0.5555555555555556, \"#d8576b\"], [0.6666666666666666, \"#ed7953\"], [0.7777777777777778, \"#fb9f3a\"], [0.8888888888888888, \"#fdca26\"], [1.0, \"#f0f921\"]]}, \"colorway\": [\"#636efa\", \"#EF553B\", \"#00cc96\", \"#ab63fa\", \"#FFA15A\", \"#19d3f3\", \"#FF6692\", \"#B6E880\", \"#FF97FF\", \"#FECB52\"], \"font\": {\"color\": \"#2a3f5f\"}, \"geo\": {\"bgcolor\": \"white\", \"lakecolor\": \"white\", \"landcolor\": \"#E5ECF6\", \"showlakes\": true, \"showland\": true, \"subunitcolor\": \"white\"}, \"hoverlabel\": {\"align\": \"left\"}, \"hovermode\": \"closest\", \"mapbox\": {\"style\": \"light\"}, \"paper_bgcolor\": \"white\", \"plot_bgcolor\": \"#E5ECF6\", \"polar\": {\"angularaxis\": {\"gridcolor\": \"white\", \"linecolor\": \"white\", \"ticks\": \"\"}, \"bgcolor\": \"#E5ECF6\", \"radialaxis\": {\"gridcolor\": \"white\", \"linecolor\": \"white\", \"ticks\": \"\"}}, \"scene\": {\"xaxis\": {\"backgroundcolor\": \"#E5ECF6\", \"gridcolor\": \"white\", \"gridwidth\": 2, \"linecolor\": \"white\", \"showbackground\": true, \"ticks\": \"\", \"zerolinecolor\": \"white\"}, \"yaxis\": {\"backgroundcolor\": \"#E5ECF6\", \"gridcolor\": \"white\", \"gridwidth\": 2, \"linecolor\": \"white\", \"showbackground\": true, \"ticks\": \"\", \"zerolinecolor\": \"white\"}, \"zaxis\": {\"backgroundcolor\": \"#E5ECF6\", \"gridcolor\": \"white\", \"gridwidth\": 2, \"linecolor\": \"white\", \"showbackground\": true, \"ticks\": \"\", \"zerolinecolor\": \"white\"}}, \"shapedefaults\": {\"line\": {\"color\": \"#2a3f5f\"}}, \"ternary\": {\"aaxis\": {\"gridcolor\": \"white\", \"linecolor\": \"white\", \"ticks\": \"\"}, \"baxis\": {\"gridcolor\": \"white\", \"linecolor\": \"white\", \"ticks\": \"\"}, \"bgcolor\": \"#E5ECF6\", \"caxis\": {\"gridcolor\": \"white\", \"linecolor\": \"white\", \"ticks\": \"\"}}, \"title\": {\"x\": 0.05}, \"xaxis\": {\"automargin\": true, \"gridcolor\": \"white\", \"linecolor\": \"white\", \"ticks\": \"\", \"zerolinecolor\": \"white\", \"zerolinewidth\": 2}, \"yaxis\": {\"automargin\": true, \"gridcolor\": \"white\", \"linecolor\": \"white\", \"ticks\": \"\", \"zerolinecolor\": \"white\", \"zerolinewidth\": 2}}}},\n",
       "                        {\"responsive\": true}\n",
       "                    ).then(function(){\n",
       "                            \n",
       "var gd = document.getElementById('29337423-9801-44c8-b763-674ccc9debcc');\n",
       "var x = new MutationObserver(function (mutations, observer) {{\n",
       "        var display = window.getComputedStyle(gd).display;\n",
       "        if (!display || display === 'none') {{\n",
       "            console.log([gd, 'removed!']);\n",
       "            Plotly.purge(gd);\n",
       "            observer.disconnect();\n",
       "        }}\n",
       "}});\n",
       "\n",
       "// Listen for the removal of the full notebook cells\n",
       "var notebookContainer = gd.closest('#notebook-container');\n",
       "if (notebookContainer) {{\n",
       "    x.observe(notebookContainer, {childList: true});\n",
       "}}\n",
       "\n",
       "// Listen for the clearing of the current output cell\n",
       "var outputEl = gd.closest('.output');\n",
       "if (outputEl) {{\n",
       "    x.observe(outputEl, {childList: true});\n",
       "}}\n",
       "\n",
       "                        })\n",
       "                };\n",
       "                });\n",
       "            </script>\n",
       "        </div>"
      ]
     },
     "metadata": {},
     "output_type": "display_data"
    }
   ],
   "source": [
    "show('auc')"
   ]
  },
  {
   "cell_type": "code",
   "execution_count": null,
   "metadata": {},
   "outputs": [],
   "source": []
  }
 ],
 "metadata": {
  "kernelspec": {
   "display_name": "Python 3",
   "language": "python",
   "name": "python3"
  },
  "language_info": {
   "codemirror_mode": {
    "name": "ipython",
    "version": 3
   },
   "file_extension": ".py",
   "mimetype": "text/x-python",
   "name": "python",
   "nbconvert_exporter": "python",
   "pygments_lexer": "ipython3",
   "version": "3.6.8"
  }
 },
 "nbformat": 4,
 "nbformat_minor": 4
}
