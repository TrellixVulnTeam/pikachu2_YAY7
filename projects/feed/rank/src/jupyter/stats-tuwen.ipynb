{
 "cells": [
  {
   "cell_type": "code",
   "execution_count": 15,
   "metadata": {},
   "outputs": [],
   "source": [
    "import os\n",
    "import pandas as pd"
   ]
  },
  {
   "cell_type": "code",
   "execution_count": 16,
   "metadata": {},
   "outputs": [],
   "source": [
    "root = '/home/gezi/tmp/rank/data/tuwen_hour_sgsapp_v1'"
   ]
  },
  {
   "cell_type": "code",
   "execution_count": 17,
   "metadata": {},
   "outputs": [],
   "source": [
    "times = ['2019111510', '2019111511', '2019111512', '2019111513', '2019111514']\n",
    "times = ['2019111519']"
   ]
  },
  {
   "cell_type": "code",
   "execution_count": 18,
   "metadata": {},
   "outputs": [
    {
     "name": "stdout",
     "output_type": "stream",
     "text": [
      "/home/gezi/tmp/rank/data/tuwen_hour_sgsapp_v1/2019111519/scores\n"
     ]
    }
   ],
   "source": [
    "li = []\n",
    "for time_ in times:\n",
    "  file = root + '/' + time_ + '/scores'\n",
    "#   ofile = file.replace('scores', 'scores.sort')\n",
    "#   if not os.path.exists(ofile):\n",
    "#     command = f'cat {file} | sort -k 1,1 -k 8,8 -k 9,9 > {ofile}'\n",
    "#     print(command)\n",
    "#     os.system(command)\n",
    "  ofile = file\n",
    "  print(ofile)\n",
    "  for line in open(ofile):\n",
    "    l = line.strip().split()\n",
    "    li.append(l)"
   ]
  },
  {
   "cell_type": "code",
   "execution_count": 19,
   "metadata": {},
   "outputs": [],
   "source": [
    "li_base = [l for l in li if l[4] == '4' or l[4] == '5' or l[4] == '6']\n",
    "li_exp = [l for l in li if l[4] == '16']"
   ]
  },
  {
   "cell_type": "code",
   "execution_count": 20,
   "metadata": {},
   "outputs": [
    {
     "data": {
      "text/plain": [
       "['0001f6b41c8d796658f4cb5531aefa33124e17677098',\n",
       " '19b1120x2wWUTe',\n",
       " '0',\n",
       " '0.60906005',\n",
       " '5',\n",
       " '0.374307',\n",
       " '0.374307',\n",
       " '1573816740',\n",
       " '0']"
      ]
     },
     "execution_count": 20,
     "metadata": {},
     "output_type": "execute_result"
    }
   ],
   "source": [
    "li_base[0]"
   ]
  },
  {
   "cell_type": "code",
   "execution_count": 21,
   "metadata": {},
   "outputs": [
    {
     "data": {
      "text/plain": [
       "['0002866620037897673',\n",
       " '19b01g0f3LsDum',\n",
       " '0',\n",
       " '0.059068095',\n",
       " '16',\n",
       " '-1.0',\n",
       " '-1.0',\n",
       " '1573815580',\n",
       " '8']"
      ]
     },
     "execution_count": 21,
     "metadata": {},
     "output_type": "execute_result"
    }
   ],
   "source": [
    "li_exp[0]"
   ]
  },
  {
   "cell_type": "code",
   "execution_count": 29,
   "metadata": {},
   "outputs": [],
   "source": [
    "base = {}\n",
    "exp = {}\n",
    "\n",
    "def calc(li, m):\n",
    "  for l in li:\n",
    "    pos = int(l[-1])\n",
    "    dur = int(l[2])\n",
    "    click = int(dur > 0) \n",
    "    if pos not in m:\n",
    "      m[pos] = [0, 0]\n",
    "    m[pos][click] += 1"
   ]
  },
  {
   "cell_type": "code",
   "execution_count": 32,
   "metadata": {},
   "outputs": [],
   "source": [
    "calc(li_base, base)\n",
    "for key in base:\n",
    "  base[key][0] /= 3.\n",
    "  base[key][1] /= 3."
   ]
  },
  {
   "cell_type": "code",
   "execution_count": 33,
   "metadata": {},
   "outputs": [],
   "source": [
    "calc(li_exp, exp)"
   ]
  },
  {
   "cell_type": "code",
   "execution_count": 34,
   "metadata": {},
   "outputs": [
    {
     "data": {
      "text/plain": [
       "{0: [31354.666666666668, 7900.0],\n",
       " 1: [35446.666666666664, 5516.666666666667],\n",
       " 2: [31846.666666666668, 3916.6666666666665],\n",
       " 5: [11864.666666666666, 1969.3333333333333],\n",
       " 7: [10462.666666666666, 1492.6666666666667],\n",
       " 10: [5894.0, 489.3333333333333],\n",
       " 12: [5061.333333333333, 429.3333333333333],\n",
       " 14: [5054.666666666667, 436.6666666666667],\n",
       " 16: [6580.0, 709.3333333333334],\n",
       " 17: [4562.0, 358.6666666666667],\n",
       " 4: [14839.333333333334, 2849.3333333333335],\n",
       " 6: [13160.666666666666, 2139.3333333333335],\n",
       " 8: [10222.666666666666, 1451.3333333333333],\n",
       " 11: [7504.0, 1036.6666666666667],\n",
       " 13: [6990.666666666667, 810.0],\n",
       " 15: [486.0, 50.666666666666664],\n",
       " 3: [3356.6666666666665, 264.0],\n",
       " 9: [464.6666666666667, 22.0]}"
      ]
     },
     "execution_count": 34,
     "metadata": {},
     "output_type": "execute_result"
    }
   ],
   "source": [
    "base"
   ]
  },
  {
   "cell_type": "code",
   "execution_count": 35,
   "metadata": {},
   "outputs": [
    {
     "data": {
      "text/plain": [
       "{8: [9956, 1534],\n",
       " 10: [5670, 550],\n",
       " 11: [7586, 1088],\n",
       " 12: [5014, 436],\n",
       " 13: [6990, 784],\n",
       " 16: [6482, 788],\n",
       " 17: [4492, 372],\n",
       " 0: [30672, 8120],\n",
       " 1: [34786, 5844],\n",
       " 2: [31442, 4280],\n",
       " 4: [15024, 2854],\n",
       " 5: [11718, 2056],\n",
       " 6: [12990, 2150],\n",
       " 7: [10046, 1594],\n",
       " 14: [5006, 510],\n",
       " 3: [3430, 304],\n",
       " 9: [442, 24],\n",
       " 15: [400, 48]}"
      ]
     },
     "execution_count": 35,
     "metadata": {},
     "output_type": "execute_result"
    }
   ],
   "source": [
    "exp"
   ]
  },
  {
   "cell_type": "code",
   "execution_count": 36,
   "metadata": {},
   "outputs": [],
   "source": [
    "l = []\n",
    "total_show_base = 0\n",
    "total_show_exp = 0\n",
    "total_click_base = 0\n",
    "total_click_exp = 0\n",
    "for i in range(18):\n",
    "  show_base = base[i][0] + base[i][1]\n",
    "  click_base = base[i][1] / show_base\n",
    "  show_exp = exp[i][0] + exp[i][1]\n",
    "  click_exp = exp[i][1] / show_exp\n",
    "  total_show_base += show_base\n",
    "  total_click_base += base[i][1]\n",
    "  total_show_exp += show_exp\n",
    "  total_click_exp += exp[i][1]\n",
    "  l.append((i, show_base, click_base, show_exp, click_exp))\n",
    "l.append((-1, total_show_base, total_click_base / total_show_base, total_show_exp, total_click_exp / total_show_exp))\n",
    "df = pd.DataFrame(l, columns=['pos', 'show_base', 'click_base', 'show_exp', 'click_exp'])"
   ]
  },
  {
   "cell_type": "code",
   "execution_count": 37,
   "metadata": {},
   "outputs": [
    {
     "data": {
      "text/html": [
       "<div>\n",
       "<style scoped>\n",
       "    .dataframe tbody tr th:only-of-type {\n",
       "        vertical-align: middle;\n",
       "    }\n",
       "\n",
       "    .dataframe tbody tr th {\n",
       "        vertical-align: top;\n",
       "    }\n",
       "\n",
       "    .dataframe thead th {\n",
       "        text-align: right;\n",
       "    }\n",
       "</style>\n",
       "<table border=\"1\" class=\"dataframe\">\n",
       "  <thead>\n",
       "    <tr style=\"text-align: right;\">\n",
       "      <th></th>\n",
       "      <th>pos</th>\n",
       "      <th>show_base</th>\n",
       "      <th>click_base</th>\n",
       "      <th>show_exp</th>\n",
       "      <th>click_exp</th>\n",
       "    </tr>\n",
       "  </thead>\n",
       "  <tbody>\n",
       "    <tr>\n",
       "      <td>0</td>\n",
       "      <td>0</td>\n",
       "      <td>39254.666667</td>\n",
       "      <td>0.201250</td>\n",
       "      <td>38792</td>\n",
       "      <td>0.209322</td>\n",
       "    </tr>\n",
       "    <tr>\n",
       "      <td>1</td>\n",
       "      <td>1</td>\n",
       "      <td>40963.333333</td>\n",
       "      <td>0.134673</td>\n",
       "      <td>40630</td>\n",
       "      <td>0.143835</td>\n",
       "    </tr>\n",
       "    <tr>\n",
       "      <td>2</td>\n",
       "      <td>2</td>\n",
       "      <td>35763.333333</td>\n",
       "      <td>0.109516</td>\n",
       "      <td>35722</td>\n",
       "      <td>0.119814</td>\n",
       "    </tr>\n",
       "    <tr>\n",
       "      <td>3</td>\n",
       "      <td>3</td>\n",
       "      <td>3620.666667</td>\n",
       "      <td>0.072915</td>\n",
       "      <td>3734</td>\n",
       "      <td>0.081414</td>\n",
       "    </tr>\n",
       "    <tr>\n",
       "      <td>4</td>\n",
       "      <td>4</td>\n",
       "      <td>17688.666667</td>\n",
       "      <td>0.161082</td>\n",
       "      <td>17878</td>\n",
       "      <td>0.159638</td>\n",
       "    </tr>\n",
       "    <tr>\n",
       "      <td>5</td>\n",
       "      <td>5</td>\n",
       "      <td>13834.000000</td>\n",
       "      <td>0.142355</td>\n",
       "      <td>13774</td>\n",
       "      <td>0.149267</td>\n",
       "    </tr>\n",
       "    <tr>\n",
       "      <td>6</td>\n",
       "      <td>6</td>\n",
       "      <td>15300.000000</td>\n",
       "      <td>0.139826</td>\n",
       "      <td>15140</td>\n",
       "      <td>0.142008</td>\n",
       "    </tr>\n",
       "    <tr>\n",
       "      <td>7</td>\n",
       "      <td>7</td>\n",
       "      <td>11955.333333</td>\n",
       "      <td>0.124854</td>\n",
       "      <td>11640</td>\n",
       "      <td>0.136942</td>\n",
       "    </tr>\n",
       "    <tr>\n",
       "      <td>8</td>\n",
       "      <td>8</td>\n",
       "      <td>11674.000000</td>\n",
       "      <td>0.124322</td>\n",
       "      <td>11490</td>\n",
       "      <td>0.133507</td>\n",
       "    </tr>\n",
       "    <tr>\n",
       "      <td>9</td>\n",
       "      <td>9</td>\n",
       "      <td>486.666667</td>\n",
       "      <td>0.045205</td>\n",
       "      <td>466</td>\n",
       "      <td>0.051502</td>\n",
       "    </tr>\n",
       "    <tr>\n",
       "      <td>10</td>\n",
       "      <td>10</td>\n",
       "      <td>6383.333333</td>\n",
       "      <td>0.076658</td>\n",
       "      <td>6220</td>\n",
       "      <td>0.088424</td>\n",
       "    </tr>\n",
       "    <tr>\n",
       "      <td>11</td>\n",
       "      <td>11</td>\n",
       "      <td>8540.666667</td>\n",
       "      <td>0.121380</td>\n",
       "      <td>8674</td>\n",
       "      <td>0.125432</td>\n",
       "    </tr>\n",
       "    <tr>\n",
       "      <td>12</td>\n",
       "      <td>12</td>\n",
       "      <td>5490.666667</td>\n",
       "      <td>0.078193</td>\n",
       "      <td>5450</td>\n",
       "      <td>0.080000</td>\n",
       "    </tr>\n",
       "    <tr>\n",
       "      <td>13</td>\n",
       "      <td>13</td>\n",
       "      <td>7800.666667</td>\n",
       "      <td>0.103837</td>\n",
       "      <td>7774</td>\n",
       "      <td>0.100849</td>\n",
       "    </tr>\n",
       "    <tr>\n",
       "      <td>14</td>\n",
       "      <td>14</td>\n",
       "      <td>5491.333333</td>\n",
       "      <td>0.079519</td>\n",
       "      <td>5516</td>\n",
       "      <td>0.092458</td>\n",
       "    </tr>\n",
       "    <tr>\n",
       "      <td>15</td>\n",
       "      <td>15</td>\n",
       "      <td>536.666667</td>\n",
       "      <td>0.094410</td>\n",
       "      <td>448</td>\n",
       "      <td>0.107143</td>\n",
       "    </tr>\n",
       "    <tr>\n",
       "      <td>16</td>\n",
       "      <td>16</td>\n",
       "      <td>7289.333333</td>\n",
       "      <td>0.097311</td>\n",
       "      <td>7270</td>\n",
       "      <td>0.108391</td>\n",
       "    </tr>\n",
       "    <tr>\n",
       "      <td>17</td>\n",
       "      <td>17</td>\n",
       "      <td>4920.666667</td>\n",
       "      <td>0.072890</td>\n",
       "      <td>4864</td>\n",
       "      <td>0.076480</td>\n",
       "    </tr>\n",
       "    <tr>\n",
       "      <td>18</td>\n",
       "      <td>-1</td>\n",
       "      <td>236994.000000</td>\n",
       "      <td>0.134358</td>\n",
       "      <td>235482</td>\n",
       "      <td>0.141565</td>\n",
       "    </tr>\n",
       "  </tbody>\n",
       "</table>\n",
       "</div>"
      ],
      "text/plain": [
       "    pos      show_base  click_base  show_exp  click_exp\n",
       "0     0   39254.666667    0.201250     38792   0.209322\n",
       "1     1   40963.333333    0.134673     40630   0.143835\n",
       "2     2   35763.333333    0.109516     35722   0.119814\n",
       "3     3    3620.666667    0.072915      3734   0.081414\n",
       "4     4   17688.666667    0.161082     17878   0.159638\n",
       "5     5   13834.000000    0.142355     13774   0.149267\n",
       "6     6   15300.000000    0.139826     15140   0.142008\n",
       "7     7   11955.333333    0.124854     11640   0.136942\n",
       "8     8   11674.000000    0.124322     11490   0.133507\n",
       "9     9     486.666667    0.045205       466   0.051502\n",
       "10   10    6383.333333    0.076658      6220   0.088424\n",
       "11   11    8540.666667    0.121380      8674   0.125432\n",
       "12   12    5490.666667    0.078193      5450   0.080000\n",
       "13   13    7800.666667    0.103837      7774   0.100849\n",
       "14   14    5491.333333    0.079519      5516   0.092458\n",
       "15   15     536.666667    0.094410       448   0.107143\n",
       "16   16    7289.333333    0.097311      7270   0.108391\n",
       "17   17    4920.666667    0.072890      4864   0.076480\n",
       "18   -1  236994.000000    0.134358    235482   0.141565"
      ]
     },
     "execution_count": 37,
     "metadata": {},
     "output_type": "execute_result"
    }
   ],
   "source": [
    "df"
   ]
  },
  {
   "cell_type": "code",
   "execution_count": null,
   "metadata": {},
   "outputs": [],
   "source": []
  },
  {
   "cell_type": "code",
   "execution_count": null,
   "metadata": {},
   "outputs": [],
   "source": []
  }
 ],
 "metadata": {
  "kernelspec": {
   "display_name": "Python 3",
   "language": "python",
   "name": "python3"
  },
  "language_info": {
   "codemirror_mode": {
    "name": "ipython",
    "version": 3
   },
   "file_extension": ".py",
   "mimetype": "text/x-python",
   "name": "python",
   "nbconvert_exporter": "python",
   "pygments_lexer": "ipython3",
   "version": "3.6.8"
  }
 },
 "nbformat": 4,
 "nbformat_minor": 2
}
