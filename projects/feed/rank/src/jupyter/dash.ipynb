{
 "cells": [
  {
   "cell_type": "code",
   "execution_count": 3,
   "metadata": {},
   "outputs": [
    {
     "data": {
      "text/html": [
       "<div>\n",
       "  <iframe src=\"/app/endpoints/7806f0c5725e42a18bc5bcb3c1f38736/\" width=800 height=600 frameborder=\"0\"></iframe>\n",
       "  <hr/><a href=\"/app/endpoints/7806f0c5725e42a18bc5bcb3c1f38736/\" target=\"_new\">Open in new window</a> for /app/endpoints/7806f0c5725e42a18bc5bcb3c1f38736/\n",
       "</div>"
      ],
      "text/plain": [
       "<jupyter_plotly_dash.dash_wrapper.JupyterDash at 0x7f20bf6709e8>"
      ]
     },
     "execution_count": 3,
     "metadata": {},
     "output_type": "execute_result"
    }
   ],
   "source": [
    "from jupyter_plotly_dash import JupyterDash\n",
    "\n",
    "import dash\n",
    "import dash_core_components as dcc\n",
    "import dash_html_components as html\n",
    "from dash.dependencies import Input, Output\n",
    "\n",
    "app = JupyterDash('SimpleExample')\n",
    "\n",
    "app.layout = html.Div([\n",
    "    dcc.RadioItems(\n",
    "        id='dropdown-color',\n",
    "        options=[{'label': c, 'value': c.lower()}\n",
    "                 for c in ['Red', 'Green', 'Blue']],\n",
    "        value='red'\n",
    "    ),\n",
    "    html.Div(id='output-color'),\n",
    "    dcc.RadioItems(\n",
    "        id='dropdown-size',\n",
    "        options=[{'label': i, 'value': j}\n",
    "                 for i, j in [('L','large'), ('M','medium'), ('S','small')]],\n",
    "        value='medium'\n",
    "    ),\n",
    "    html.Div(id='output-size')\n",
    "\n",
    "])\n",
    "\n",
    "@app.callback(\n",
    "    dash.dependencies.Output('output-color', 'children'),\n",
    "    [dash.dependencies.Input('dropdown-color', 'value')])\n",
    "def callback_color(dropdown_value):\n",
    "    return \"The selected color is %s.\" % dropdown_value\n",
    "\n",
    "@app.callback(\n",
    "    dash.dependencies.Output('output-size', 'children'),\n",
    "    [dash.dependencies.Input('dropdown-color', 'value'),\n",
    "     dash.dependencies.Input('dropdown-size', 'value')])\n",
    "def callback_size(dropdown_color, dropdown_size):\n",
    "    return \"The chosen T-shirt is a %s %s one.\" %(dropdown_size,\n",
    "                                                  dropdown_color)\n",
    "app"
   ]
  },
  {
   "cell_type": "code",
   "execution_count": 10,
   "metadata": {},
   "outputs": [
    {
     "name": "stderr",
     "output_type": "stream",
     "text": [
      "sql_search:=========== SELECT * FROM feed_abtest_daily WHERE product = 'sgsapp' AND data_obj in ('recommend_ge6511_weight_mean_article','recommend_ge6511_weight_mean_video','recommend_ge6511_weight_mean','ge6511_weight_mean','quality') AND abtest in (6,5,4,15) AND date BETWEEN  '20191104'  AND  '20191228' AND user_obj = 'total' AND os = 'total'\n",
      "sql_rel:============== SELECT * FROM feed_relative WHERE product = 'sgsapp'  AND abtest in (6,5,4,15) AND date BETWEEN  '20191104'  AND  '20191228' AND user_obj = 'total' \n",
      "sql_search:=========== SELECT * FROM feed_abtest_daily WHERE product = 'sgsapp' AND data_obj in ('recommend_ge6511_weight_mean_article','recommend_ge6511_weight_mean_video','recommend_ge6511_weight_mean','ge6511_weight_mean','quality') AND abtest in (6,5,4,15) AND date BETWEEN  '20191104'  AND  '2019122814' AND user_obj = 'total' AND os = 'total'\n",
      "sql_rel:============== SELECT * FROM feed_relative WHERE product = 'sgsapp'  AND abtest in (6,5,4,15) AND date BETWEEN  '20191104'  AND  '2019122814' AND user_obj = 'total' \n"
     ]
    },
    {
     "name": "stdout",
     "output_type": "stream",
     "text": [
      "2019-12-28 14:50:24.530415\n"
     ]
    },
    {
     "name": "stderr",
     "output_type": "stream",
     "text": [
      "0.3892176151275635\n",
      "sql_search:=========== SELECT * FROM feed_abtest_daily WHERE product = 'sgsapp' AND data_obj in ('recommend_ge6511_weight_mean_article','recommend_ge6511_weight_mean_video','recommend_ge6511_weight_mean','ge6511_weight_mean','quality') AND abtest in (6,5,4,15) AND date BETWEEN  '20191104'  AND  '2019122814' AND user_obj = 'total' AND os = 'total'\n",
      "sql_rel:============== SELECT * FROM feed_relative WHERE product = 'sgsapp'  AND abtest in (6,5,4,15) AND date BETWEEN  '20191104'  AND  '2019122814' AND user_obj = 'total' \n",
      "0.39104509353637695\n",
      "sql_search:=========== SELECT * FROM feed_abtest_daily WHERE product = 'sgsapp' AND data_obj in ('recommend_ge6511_weight_mean_article','recommend_ge6511_weight_mean_video','recommend_ge6511_weight_mean','ge6511_weight_mean','quality') AND abtest in (6,5,4,15) AND date BETWEEN  '20191104'  AND  '2019122814' AND user_obj = 'total' AND os = 'total'\n",
      "sql_rel:============== SELECT * FROM feed_relative WHERE product = 'sgsapp'  AND abtest in (6,5,4,15) AND date BETWEEN  '20191104'  AND  '2019122814' AND user_obj = 'total' \n",
      "0.3854560852050781\n",
      "sql_search:=========== SELECT * FROM feed_abtest_daily WHERE product = 'sgsapp' AND data_obj in ('recommend_ge6511_weight_mean_article','recommend_ge6511_weight_mean_video','recommend_ge6511_weight_mean','ge6511_weight_mean','quality') AND abtest in (6,5,4,15) AND date BETWEEN  '20191104'  AND  '2019122814' AND user_obj = 'total' AND os = 'total'\n",
      "sql_rel:============== SELECT * FROM feed_relative WHERE product = 'sgsapp'  AND abtest in (6,5,4,15) AND date BETWEEN  '20191104'  AND  '2019122814' AND user_obj = 'total' \n",
      "0.38681530952453613\n",
      "sql_search:=========== SELECT * FROM feed_abtest_daily WHERE product = 'sgsapp' AND data_obj in ('recommend_ge6511_weight_mean_article','recommend_ge6511_weight_mean_video','recommend_ge6511_weight_mean','ge6511_weight_mean','quality') AND abtest in (6,5,4,15) AND date BETWEEN  '20191104'  AND  '2019122814' AND user_obj = 'total' AND os = 'total'\n",
      "sql_rel:============== SELECT * FROM feed_relative WHERE product = 'sgsapp'  AND abtest in (6,5,4,15) AND date BETWEEN  '20191104'  AND  '2019122814' AND user_obj = 'total' \n",
      "0.38469982147216797\n",
      "sql_search:=========== SELECT * FROM feed_abtest_daily WHERE product = 'sgsapp' AND data_obj in ('recommend_ge6511_weight_mean_article','recommend_ge6511_weight_mean_video','recommend_ge6511_weight_mean','ge6511_weight_mean','quality') AND abtest in (6,5,4,15) AND date BETWEEN  '20191104'  AND  '2019122814' AND user_obj = 'total' AND os = 'total'\n",
      "sql_rel:============== SELECT * FROM feed_relative WHERE product = 'sgsapp'  AND abtest in (6,5,4,15) AND date BETWEEN  '20191104'  AND  '2019122814' AND user_obj = 'total' \n",
      "0.38678956031799316\n"
     ]
    },
    {
     "data": {
      "text/html": [
       "<div>\n",
       "  <iframe src=\"/app/endpoints/636614e409da49b9898d0d2c39bbdd61/\" width=800 height=600 frameborder=\"0\"></iframe>\n",
       "  <hr/><a href=\"/app/endpoints/636614e409da49b9898d0d2c39bbdd61/\" target=\"_new\">Open in new window</a> for /app/endpoints/636614e409da49b9898d0d2c39bbdd61/\n",
       "</div>"
      ],
      "text/plain": [
       "<jupyter_plotly_dash.dash_wrapper.JupyterDash at 0x7f205dcfe908>"
      ]
     },
     "execution_count": 10,
     "metadata": {},
     "output_type": "execute_result"
    }
   ],
   "source": [
    "from jupyter_plotly_dash import JupyterDash\n",
    "import plotly.graph_objs as go                      \n",
    "import dash\n",
    "import dash_bootstrap_components as dbc\n",
    "import dash_core_components as dcc                  \n",
    "import dash_html_components as html                \n",
    "from dash.dependencies import Input, Output    \n",
    "\n",
    "import os\n",
    "import glob\n",
    "import time\n",
    "from datetime import timedelta, datetime\n",
    "import pandas as pd\n",
    "\n",
    "from projects.common.monitor.taurus import Taurus\n",
    "from projects.common.monitor.show import show\n",
    "\n",
    "last_days = 7\n",
    "abids = [8,15,16]\n",
    "abids = [15]\n",
    "# mark = 'hourly'\n",
    "mark = 'daily'\n",
    "\n",
    "mark2 = '小时' if mark == 'hourly' else '天'\n",
    "\n",
    "worker = Taurus()\n",
    "worker.init(abids, last_days, mark, use_natural_diff=True)\n",
    "\n",
    "def show_(name):\n",
    "  dfs, diffs = worker.run()\n",
    "  return show(dfs, name, worker.stats, abids, mark=mark, diffs=diffs)\n",
    "\n",
    "def gen_graphs(figs, cols_per_row=3):\n",
    "  rows = []\n",
    "  cols = []\n",
    "  for fig in figs:\n",
    "    cols.append(dbc.Col(html.Div(dcc.Graph(figure=fig)), width=4))\n",
    "    if len(cols) == cols_per_row:\n",
    "      rows.append(cols)\n",
    "      cols = []\n",
    "  if cols:\n",
    "    rows.append(cols)\n",
    "  rows = [dbc.Row(x, align='center') for x in rows]\n",
    "  return rows\n",
    "\n",
    "def gen_rows():\n",
    "  rows = []\n",
    "  for name in worker.names:\n",
    "    rows += gen_graphs(show_(name))\n",
    "  return rows\n",
    "\n",
    "def gen_hours():\n",
    "  print(datetime.now())\n",
    "  return [html.H1(f'Taurus{mark2}级 {datetime.now()}')] + gen_rows()\n",
    "\n",
    "hours_data = gen_hours()\n",
    "def gen_layout():\n",
    "  layout = html.Div([\n",
    "                      dbc.Container(gen_hours(), fluid=True, id='hours'), \n",
    "                      # dcc.Interval(\n",
    "                      #  id='interval-component',\n",
    "                      #  interval=10*1000, # in milliseconds\n",
    "                      #  n_intervals=0) \n",
    "                    ])\n",
    "  return layout\n",
    "\n",
    "# app = JupyterDash(__name__, external_stylesheets=[dbc.themes.BOOTSTRAP])\n",
    "app = JupyterDash(__name__)\n",
    "# app.css.config.serve_locally = True\n",
    "# app.scripts.config.serve_locally = True\n",
    "\n",
    "app.layout = gen_layout\n",
    "\n",
    "# @app.callback(Output('hours', 'children'),\n",
    "#               [Input('interval-component', 'n_intervals')])\n",
    "# def update_graph_live(n):\n",
    "#   print(f'update {n}')\n",
    "#   return gen_hours()\n",
    "app\n"
   ]
  },
  {
   "cell_type": "code",
   "execution_count": null,
   "metadata": {},
   "outputs": [],
   "source": []
  }
 ],
 "metadata": {
  "kernelspec": {
   "display_name": "Python 3",
   "language": "python",
   "name": "python3"
  },
  "language_info": {
   "codemirror_mode": {
    "name": "ipython",
    "version": 3
   },
   "file_extension": ".py",
   "mimetype": "text/x-python",
   "name": "python",
   "nbconvert_exporter": "python",
   "pygments_lexer": "ipython3",
   "version": "3.6.8"
  }
 },
 "nbformat": 4,
 "nbformat_minor": 2
}
