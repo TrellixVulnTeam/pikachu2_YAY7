{
 "cells": [
  {
   "cell_type": "code",
   "execution_count": null,
   "metadata": {},
   "outputs": [],
   "source": [
    "import numpy as np\n",
    "from sklearn.preprocessing import QuantileTransformer\n",
    "rng = np.random.RandomState(0)\n",
    "X = np.sort(rng.normal(loc=0.6, scale=0.25, size=(50, 1)), axis=0)\n",
    "print(X)\n",
    "print(' ')\n",
    "\n",
    "qt = QuantileTransformer(n_quantiles=10, random_state=0)\n",
    "print(qt.fit_transform(X)) "
   ]
  },
  {
   "cell_type": "code",
   "execution_count": 15,
   "metadata": {},
   "outputs": [],
   "source": [
    "from tqdm import tqdm"
   ]
  },
  {
   "cell_type": "code",
   "execution_count": 7,
   "metadata": {},
   "outputs": [],
   "source": [
    "names = [x.rstrip().replace('\\a', '|') for x in open('/home/gezi/new/temp/feed/rank/portrait/feature_index').readlines()]"
   ]
  },
  {
   "cell_type": "code",
   "execution_count": null,
   "metadata": {},
   "outputs": [],
   "source": [
    "names"
   ]
  },
  {
   "cell_type": "code",
   "execution_count": 8,
   "metadata": {},
   "outputs": [],
   "source": [
    "feature_file = '/home/gezi/new/temp/feed/rank/online/online/train/rand_0'"
   ]
  },
  {
   "cell_type": "code",
   "execution_count": 9,
   "metadata": {},
   "outputs": [],
   "source": [
    "def parse(line):\n",
    "  l = line.split('\\t')\n",
    "  l = l[4:-3]\n",
    "  return l"
   ]
  },
  {
   "cell_type": "code",
   "execution_count": 10,
   "metadata": {},
   "outputs": [],
   "source": [
    "lines = open(feature_file).readlines()"
   ]
  },
  {
   "cell_type": "code",
   "execution_count": 14,
   "metadata": {},
   "outputs": [
    {
     "data": {
      "text/plain": [
       "['0\\t0\\t1f7f869832042146999\\topen_doc_prod9406115\\t71:1\\t356:1\\t489241:1\\t728427:1\\t967760:1\\t1207212:1\\t1265629:1\\t1265643:1\\t1265654:1\\t1265666:1\\t1265687:1\\t1265703:1\\t1265713:1\\t1290152:1\\t1329553:1\\t1346434:1.0\\t1363034:0.808017\\t1369893:0.546719\\t1374686:0.710506\\t1393593:0.515603\\t1420057:1\\t1420065:1\\t1420109:0.996094\\t1420124:1\\t1420370:1\\t1645847:1\\t1752105:1\\t1861247:1\\t1990451:1\\t2425736:1\\t2426832:1\\t2426849:1\\t2426971:1\\t2427087:1\\t2605396:0.1139\\t2672003:0.1139\\t2709999:0.1139\\t2827087:0.1139\\t2905288:0.1139\\t2907384:1\\t2907479:1\\t2907638:1\\t2907700:1\\t2907759:1\\n']"
      ]
     },
     "execution_count": 14,
     "metadata": {},
     "output_type": "execute_result"
    }
   ],
   "source": [
    "lines[:1]"
   ]
  },
  {
   "cell_type": "code",
   "execution_count": 16,
   "metadata": {},
   "outputs": [],
   "source": [
    "durs = []"
   ]
  },
  {
   "cell_type": "code",
   "execution_count": 21,
   "metadata": {},
   "outputs": [
    {
     "name": "stderr",
     "output_type": "stream",
     "text": [
      "100%|██████████| 785877/785877 [00:03<00:00, 209161.85it/s]\n"
     ]
    }
   ],
   "source": [
    "for i, line in tqdm(enumerate(lines), total=len(lines)):\n",
    "    l = line.rstrip().split('\\t')\n",
    "    dur = int(l[1])\n",
    "    if dur > 60 * 60 * 12:\n",
    "        dur = 60\n",
    "    durs.append(dur)"
   ]
  },
  {
   "cell_type": "code",
   "execution_count": null,
   "metadata": {},
   "outputs": [],
   "source": [
    "durs[:100]"
   ]
  },
  {
   "cell_type": "code",
   "execution_count": 29,
   "metadata": {},
   "outputs": [],
   "source": [
    "durs = np.asarray(durs)"
   ]
  },
  {
   "cell_type": "code",
   "execution_count": 40,
   "metadata": {},
   "outputs": [],
   "source": [
    "import seaborn as sns\n",
    "import matplotlib.pyplot as plt\n",
    "from scipy.stats import norm\n",
    "import math"
   ]
  },
  {
   "cell_type": "code",
   "execution_count": 30,
   "metadata": {},
   "outputs": [
    {
     "name": "stderr",
     "output_type": "stream",
     "text": [
      "/home/gezi/env/anaconda3/lib/python3.6/site-packages/seaborn/distributions.py:218: MatplotlibDeprecationWarning: \n",
      "The 'normed' kwarg was deprecated in Matplotlib 2.1 and will be removed in 3.1. Use 'density' instead.\n",
      "  color=hist_color, **hist_kws)\n"
     ]
    },
    {
     "data": {
      "text/plain": [
       "<matplotlib.axes._subplots.AxesSubplot at 0x7fe2af903dd8>"
      ]
     },
     "execution_count": 30,
     "metadata": {},
     "output_type": "execute_result"
    },
    {
     "data": {
      "image/png": "[encoded data removed]",
      "text/plain": [
       "<Figure size 432x288 with 1 Axes>"
      ]
     },
     "metadata": {},
     "output_type": "display_data"
    }
   ],
   "source": [
    "sns.distplot(durs, fit=norm)"
   ]
  },
  {
   "cell_type": "code",
   "execution_count": 31,
   "metadata": {},
   "outputs": [
    {
     "data": {
      "text/plain": [
       "<matplotlib.axes._subplots.AxesSubplot at 0x7fe2af96fcf8>"
      ]
     },
     "execution_count": 31,
     "metadata": {},
     "output_type": "execute_result"
    },
    {
     "data": {
      "image/png": "[encoded data removed]",
      "text/plain": [
       "<Figure size 432x288 with 1 Axes>"
      ]
     },
     "metadata": {},
     "output_type": "display_data"
    }
   ],
   "source": [
    "sns.kdeplot(durs, shade=True, cut=0)"
   ]
  },
  {
   "cell_type": "code",
   "execution_count": 34,
   "metadata": {},
   "outputs": [
    {
     "ename": "TypeError",
     "evalue": "distplot() got an unexpected keyword argument 'normed'",
     "output_type": "error",
     "traceback": [
      "\u001b[0;31m---------------------------------------------------------------------------\u001b[0m",
      "\u001b[0;31mTypeError\u001b[0m                                 Traceback (most recent call last)",
      "\u001b[0;32m<ipython-input-34-0e9fc2292c6c>\u001b[0m in \u001b[0;36m<module>\u001b[0;34m()\u001b[0m\n\u001b[0;32m----> 1\u001b[0;31m \u001b[0msns\u001b[0m\u001b[0;34m.\u001b[0m\u001b[0mdistplot\u001b[0m\u001b[0;34m(\u001b[0m\u001b[0mdurs\u001b[0m\u001b[0;34m,\u001b[0m \u001b[0mbins\u001b[0m\u001b[0;34m=\u001b[0m\u001b[0;36m20\u001b[0m\u001b[0;34m,\u001b[0m \u001b[0mkde\u001b[0m\u001b[0;34m=\u001b[0m\u001b[0;32mTrue\u001b[0m\u001b[0;34m,\u001b[0m \u001b[0mnormed\u001b[0m\u001b[0;34m=\u001b[0m\u001b[0;32mTrue\u001b[0m\u001b[0;34m)\u001b[0m\u001b[0;34m\u001b[0m\u001b[0;34m\u001b[0m\u001b[0m\n\u001b[0m",
      "\u001b[0;31mTypeError\u001b[0m: distplot() got an unexpected keyword argument 'normed'"
     ]
    }
   ],
   "source": [
    "sns.distplot(durs, bins=20, kde=True, normed=True)"
   ]
  },
  {
   "cell_type": "code",
   "execution_count": 211,
   "metadata": {},
   "outputs": [
    {
     "name": "stderr",
     "output_type": "stream",
     "text": [
      "/home/gezi/env/anaconda3/lib/python3.6/site-packages/ipykernel_launcher.py:1: MatplotlibDeprecationWarning: \n",
      "The 'normed' kwarg was deprecated in Matplotlib 2.1 and will be removed in 3.1. Use 'density' instead.\n",
      "  \"\"\"Entry point for launching an IPython kernel.\n"
     ]
    },
    {
     "data": {
      "text/plain": [
       "(array([7.43563e+05, 0.00000e+00, 0.00000e+00, 0.00000e+00, 0.00000e+00,\n",
       "        0.00000e+00, 0.00000e+00, 0.00000e+00, 1.38390e+04, 1.93670e+04,\n",
       "        1.89490e+04, 1.69640e+04, 1.14230e+04, 6.11300e+03, 2.58400e+03,\n",
       "        8.52000e+02, 2.50000e+02, 9.00000e+01, 9.00000e+01, 3.10000e+01]),\n",
       " array([0.        , 0.38571156, 0.77142311, 1.15713467, 1.54284623,\n",
       "        1.92855779, 2.31426934, 2.6999809 , 3.08569246, 3.47140402,\n",
       "        3.85711557, 4.24282713, 4.62853869, 5.01425024, 5.3999618 ,\n",
       "        5.78567336, 6.17138492, 6.55709647, 6.94280803, 7.32851959,\n",
       "        7.71423114]),\n",
       " <a list of 20 Patch objects>)"
      ]
     },
     "execution_count": 211,
     "metadata": {},
     "output_type": "execute_result"
    },
    {
     "data": {
      "image/png": "[encoded data removed]",
      "text/plain": [
       "<Figure size 432x288 with 1 Axes>"
      ]
     },
     "metadata": {},
     "output_type": "display_data"
    }
   ],
   "source": [
    "plt.hist([math.log(float(x + 1)) for x in durs], normed=False, bins=20)"
   ]
  },
  {
   "cell_type": "code",
   "execution_count": 92,
   "metadata": {},
   "outputs": [
    {
     "data": {
      "text/plain": [
       "0.5519241993115384"
      ]
     },
     "execution_count": 92,
     "metadata": {},
     "output_type": "execute_result"
    }
   ],
   "source": [
    "math.pow(math.e, 3.5) / 60"
   ]
  },
  {
   "cell_type": "code",
   "execution_count": 209,
   "metadata": {},
   "outputs": [
    {
     "name": "stderr",
     "output_type": "stream",
     "text": [
      "/home/gezi/env/anaconda3/lib/python3.6/site-packages/ipykernel_launcher.py:1: MatplotlibDeprecationWarning: \n",
      "The 'normed' kwarg was deprecated in Matplotlib 2.1 and will be removed in 3.1. Use 'density' instead.\n",
      "  \"\"\"Entry point for launching an IPython kernel.\n"
     ]
    },
    {
     "data": {
      "text/plain": [
       "(array([7.5470e+03, 1.0415e+04, 1.2033e+04, 1.0920e+04, 1.1240e+04,\n",
       "        1.0990e+04, 8.7000e+03, 6.9080e+03, 4.9140e+03, 2.9880e+03,\n",
       "        1.8670e+03, 9.7000e+02, 5.1100e+02, 2.0800e+02, 1.3100e+02,\n",
       "        5.3000e+01, 5.2000e+01, 5.0000e+01, 5.4000e+01, 1.0000e+00]),\n",
       " array([3.09104245, 3.32220189, 3.55336132, 3.78452076, 4.01568019,\n",
       "        4.24683963, 4.47799906, 4.7091585 , 4.94031793, 5.17147736,\n",
       "        5.4026368 , 5.63379623, 5.86495567, 6.0961151 , 6.32727454,\n",
       "        6.55843397, 6.78959341, 7.02075284, 7.25191228, 7.48307171,\n",
       "        7.71423114]),\n",
       " <a list of 20 Patch objects>)"
      ]
     },
     "execution_count": 209,
     "metadata": {},
     "output_type": "execute_result"
    },
    {
     "data": {
      "image/png": "[encoded data removed]",
      "text/plain": [
       "<Figure size 432x288 with 1 Axes>"
      ]
     },
     "metadata": {},
     "output_type": "display_data"
    }
   ],
   "source": [
    "plt.hist([math.log(float(x + 1)) for x in durs if x > 0], normed=False, bins=20)"
   ]
  },
  {
   "cell_type": "code",
   "execution_count": 66,
   "metadata": {},
   "outputs": [],
   "source": [
    "durs2 = [math.log(float(x + 1)) for x in durs]"
   ]
  },
  {
   "cell_type": "code",
   "execution_count": 104,
   "metadata": {},
   "outputs": [
    {
     "data": {
      "text/plain": [
       "array([0.       , 0.       , 0.       , ..., 0.       , 0.       ,\n",
       "       3.8918203])"
      ]
     },
     "execution_count": 104,
     "metadata": {},
     "output_type": "execute_result"
    }
   ],
   "source": [
    "np.array(durs2)"
   ]
  },
  {
   "cell_type": "code",
   "execution_count": 96,
   "metadata": {},
   "outputs": [],
   "source": [
    "durs3 = [x for x in durs2 if x < 4 and x >3]"
   ]
  },
  {
   "cell_type": "code",
   "execution_count": 97,
   "metadata": {},
   "outputs": [
    {
     "data": {
      "text/plain": [
       "834115"
      ]
     },
     "execution_count": 97,
     "metadata": {},
     "output_type": "execute_result"
    }
   ],
   "source": [
    "len(durs2)"
   ]
  },
  {
   "cell_type": "code",
   "execution_count": 98,
   "metadata": {},
   "outputs": [
    {
     "data": {
      "text/plain": [
       "39999"
      ]
     },
     "execution_count": 98,
     "metadata": {},
     "output_type": "execute_result"
    }
   ],
   "source": [
    "len(durs3)"
   ]
  },
  {
   "cell_type": "code",
   "execution_count": 105,
   "metadata": {},
   "outputs": [
    {
     "data": {
      "text/plain": [
       "105"
      ]
     },
     "execution_count": 105,
     "metadata": {},
     "output_type": "execute_result"
    }
   ],
   "source": [
    " len([x for x in durs2 if x < 8 and x >7])"
   ]
  },
  {
   "cell_type": "code",
   "execution_count": 210,
   "metadata": {},
   "outputs": [
    {
     "name": "stderr",
     "output_type": "stream",
     "text": [
      "/home/gezi/env/anaconda3/lib/python3.6/site-packages/ipykernel_launcher.py:1: MatplotlibDeprecationWarning: \n",
      "The 'normed' kwarg was deprecated in Matplotlib 2.1 and will be removed in 3.1. Use 'density' instead.\n",
      "  \"\"\"Entry point for launching an IPython kernel.\n"
     ]
    },
    {
     "data": {
      "text/plain": [
       "(array([17962., 22953., 22230., 15608.,  7902.,  2837.,   719.,   184.,\n",
       "          102.,    55.]),\n",
       " array([0.38638031, 0.44417017, 0.50196002, 0.55974988, 0.61753974,\n",
       "        0.6753296 , 0.73311946, 0.79090932, 0.84869918, 0.90648903,\n",
       "        0.96427889]),\n",
       " <a list of 10 Patch objects>)"
      ]
     },
     "execution_count": 210,
     "metadata": {},
     "output_type": "execute_result"
    },
    {
     "data": {
      "image/png": "[encoded data removed]",
      "text/plain": [
       "<Figure size 432x288 with 1 Axes>"
      ]
     },
     "metadata": {},
     "output_type": "display_data"
    }
   ],
   "source": [
    "plt.hist([math.log(float(x + 1)) /8 for x in durs if x > 0], normed=False, bins=10)"
   ]
  },
  {
   "cell_type": "code",
   "execution_count": 120,
   "metadata": {},
   "outputs": [],
   "source": [
    "dur_probs = np.asarray([math.log(float(x + 1)) /8 for x in durs])"
   ]
  },
  {
   "cell_type": "code",
   "execution_count": 121,
   "metadata": {},
   "outputs": [
    {
     "name": "stderr",
     "output_type": "stream",
     "text": [
      "/home/gezi/env/anaconda3/lib/python3.6/site-packages/ipykernel_launcher.py:1: MatplotlibDeprecationWarning: \n",
      "The 'normed' kwarg was deprecated in Matplotlib 2.1 and will be removed in 3.1. Use 'density' instead.\n",
      "  \"\"\"Entry point for launching an IPython kernel.\n"
     ]
    },
    {
     "data": {
      "text/plain": [
       "(array([7.43563e+05, 0.00000e+00, 0.00000e+00, 0.00000e+00, 3.32060e+04,\n",
       "        3.59130e+04, 1.75360e+04, 3.43600e+03, 3.40000e+02, 1.21000e+02]),\n",
       " array([0.        , 0.09642789, 0.19285578, 0.28928367, 0.38571156,\n",
       "        0.48213945, 0.57856734, 0.67499523, 0.77142311, 0.867851  ,\n",
       "        0.96427889]),\n",
       " <a list of 10 Patch objects>)"
      ]
     },
     "execution_count": 121,
     "metadata": {},
     "output_type": "execute_result"
    },
    {
     "data": {
      "image/png": "[encoded data removed]",
      "text/plain": [
       "<Figure size 432x288 with 1 Axes>"
      ]
     },
     "metadata": {},
     "output_type": "display_data"
    }
   ],
   "source": [
    "plt.hist(dur_probs, normed=False, bins=10)"
   ]
  },
  {
   "cell_type": "code",
   "execution_count": 117,
   "metadata": {},
   "outputs": [
    {
     "data": {
      "text/plain": [
       "array([0.51179307, 0.39725673, 0.55083991, ..., 0.48126845, 0.46110993,\n",
       "       0.48647754])"
      ]
     },
     "execution_count": 117,
     "metadata": {},
     "output_type": "execute_result"
    }
   ],
   "source": [
    "dur_probs"
   ]
  },
  {
   "cell_type": "code",
   "execution_count": 164,
   "metadata": {},
   "outputs": [],
   "source": [
    "from sklearn.preprocessing import QuantileTransformer\n",
    "qt = QuantileTransformer(n_quantiles=1000, random_state=0)\n",
    "qt = QuantileTransformer(n_quantiles=1000, random_state=0, output_distribution='normal')"
   ]
  },
  {
   "cell_type": "code",
   "execution_count": 165,
   "metadata": {},
   "outputs": [],
   "source": [
    "durs2 = qt.fit_transform(durs.reshape(-1, 1)).reshape(-1) "
   ]
  },
  {
   "cell_type": "code",
   "execution_count": 169,
   "metadata": {},
   "outputs": [
    {
     "name": "stderr",
     "output_type": "stream",
     "text": [
      "/home/gezi/env/anaconda3/lib/python3.6/site-packages/ipykernel_launcher.py:1: MatplotlibDeprecationWarning: \n",
      "The 'normed' kwarg was deprecated in Matplotlib 2.1 and will be removed in 3.1. Use 'density' instead.\n",
      "  \"\"\"Entry point for launching an IPython kernel.\n"
     ]
    },
    {
     "data": {
      "text/plain": [
       "(array([7.43563e+05, 0.00000e+00, 0.00000e+00, 0.00000e+00, 0.00000e+00,\n",
       "        0.00000e+00, 7.49490e+04, 1.51820e+04, 4.12000e+02, 9.00000e+00]),\n",
       " array([-5.19933758e+00, -4.15947007e+00, -3.11960255e+00, -2.07973503e+00,\n",
       "        -1.03986752e+00,  4.89217555e-11,  1.03986752e+00,  2.07973503e+00,\n",
       "         3.11960255e+00,  4.15947007e+00,  5.19933758e+00]),\n",
       " <a list of 10 Patch objects>)"
      ]
     },
     "execution_count": 169,
     "metadata": {},
     "output_type": "execute_result"
    },
    {
     "data": {
      "image/png": "[encoded data removed]",
      "text/plain": [
       "<Figure size 432x288 with 1 Axes>"
      ]
     },
     "metadata": {},
     "output_type": "display_data"
    }
   ],
   "source": [
    "plt.hist(durs2, normed=False, bins=10)"
   ]
  },
  {
   "cell_type": "code",
   "execution_count": 276,
   "metadata": {},
   "outputs": [
    {
     "name": "stderr",
     "output_type": "stream",
     "text": [
      "/home/gezi/env/anaconda3/lib/python3.6/site-packages/ipykernel_launcher.py:1: MatplotlibDeprecationWarning: \n",
      "The 'normed' kwarg was deprecated in Matplotlib 2.1 and will be removed in 3.1. Use 'density' instead.\n",
      "  \"\"\"Entry point for launching an IPython kernel.\n"
     ]
    },
    {
     "data": {
      "text/plain": [
       "(array([2.7676e+04, 2.0053e+04, 1.4901e+04, 1.0106e+04, 7.3430e+03,\n",
       "        4.2970e+03, 2.6660e+03, 1.6260e+03, 8.6500e+02, 8.4400e+02,\n",
       "        9.5000e+01, 3.6000e+01, 2.3000e+01, 6.0000e+00, 6.0000e+00,\n",
       "        2.0000e+00, 0.0000e+00, 0.0000e+00, 0.0000e+00, 7.0000e+00]),\n",
       " array([1.23127984, 1.42968273, 1.62808562, 1.8264885 , 2.02489139,\n",
       "        2.22329428, 2.42169716, 2.62010005, 2.81850294, 3.01690583,\n",
       "        3.21530871, 3.4137116 , 3.61211449, 3.81051737, 4.00892026,\n",
       "        4.20732315, 4.40572603, 4.60412892, 4.80253181, 5.0009347 ,\n",
       "        5.19933758]),\n",
       " <a list of 20 Patch objects>)"
      ]
     },
     "execution_count": 276,
     "metadata": {},
     "output_type": "execute_result"
    },
    {
     "data": {
      "image/png": "[encoded data removed]",
      "text/plain": [
       "<Figure size 432x288 with 1 Axes>"
      ]
     },
     "metadata": {},
     "output_type": "display_data"
    }
   ],
   "source": [
    "plt.hist([x for x in durs2 if x > 0.001], normed=False, bins=20)"
   ]
  },
  {
   "cell_type": "code",
   "execution_count": 172,
   "metadata": {},
   "outputs": [],
   "source": [
    "import pickle"
   ]
  },
  {
   "cell_type": "code",
   "execution_count": 173,
   "metadata": {},
   "outputs": [
    {
     "data": {
      "text/plain": [
       "QuantileTransformer(copy=True, ignore_implicit_zeros=False, n_quantiles=1000,\n",
       "          output_distribution='normal', random_state=0, subsample=100000)"
      ]
     },
     "execution_count": 173,
     "metadata": {},
     "output_type": "execute_result"
    }
   ],
   "source": [
    "qt = QuantileTransformer(n_quantiles=1000, random_state=0, output_distribution='normal')\n",
    "qt.fit(durs.reshape(-1, 1))"
   ]
  },
  {
   "cell_type": "code",
   "execution_count": 178,
   "metadata": {},
   "outputs": [],
   "source": [
    "pickle.dump(qt, open('/home/gezi/new/temp/feed/rank/portrait/qt.normal.pkl', 'wb'))"
   ]
  },
  {
   "cell_type": "code",
   "execution_count": 180,
   "metadata": {},
   "outputs": [],
   "source": [
    "qt = pickle.load(open('/home/gezi/new/temp/feed/rank/portrait/qt.normal.pkl', 'rb'))"
   ]
  },
  {
   "cell_type": "code",
   "execution_count": 181,
   "metadata": {},
   "outputs": [
    {
     "data": {
      "text/plain": [
       "(array([7.43563e+05, 0.00000e+00, 0.00000e+00, 0.00000e+00, 0.00000e+00,\n",
       "        0.00000e+00, 7.49490e+04, 1.51820e+04, 4.12000e+02, 9.00000e+00]),\n",
       " array([-5.19933758e+00, -4.15947007e+00, -3.11960255e+00, -2.07973503e+00,\n",
       "        -1.03986752e+00,  4.89217555e-11,  1.03986752e+00,  2.07973503e+00,\n",
       "         3.11960255e+00,  4.15947007e+00,  5.19933758e+00]),\n",
       " <a list of 10 Patch objects>)"
      ]
     },
     "execution_count": 181,
     "metadata": {},
     "output_type": "execute_result"
    },
    {
     "data": {
      "image/png": "[encoded data removed]",
      "text/plain": [
       "<Figure size 432x288 with 1 Axes>"
      ]
     },
     "metadata": {},
     "output_type": "display_data"
    }
   ],
   "source": [
    "plt.hist(qt.transform(durs.reshape(-1, 1)).reshape(-1))"
   ]
  },
  {
   "cell_type": "code",
   "execution_count": 230,
   "metadata": {},
   "outputs": [],
   "source": [
    "qt = QuantileTransformer(n_quantiles=1000, random_state=0, output_distribution='normal')\n",
    "#qt = QuantileTransformer(n_quantiles=1000, random_state=0, output_distribution='uniform')"
   ]
  },
  {
   "cell_type": "code",
   "execution_count": 231,
   "metadata": {},
   "outputs": [],
   "source": [
    "durs_log = np.asarray([math.log(float(x + 1)) for x in durs if x > 0])"
   ]
  },
  {
   "cell_type": "code",
   "execution_count": 232,
   "metadata": {},
   "outputs": [
    {
     "data": {
      "text/plain": [
       "array([4.09434456, 3.17805383, 4.40671925, ..., 3.8501476 , 3.68887945,\n",
       "       3.8918203 ])"
      ]
     },
     "execution_count": 232,
     "metadata": {},
     "output_type": "execute_result"
    }
   ],
   "source": [
    "durs_log"
   ]
  },
  {
   "cell_type": "code",
   "execution_count": 233,
   "metadata": {},
   "outputs": [
    {
     "data": {
      "text/plain": [
       "array([-0.01129136, -1.82455594,  0.41563423, ..., -0.3561587 ,\n",
       "       -0.60444843, -0.29136684])"
      ]
     },
     "execution_count": 233,
     "metadata": {},
     "output_type": "execute_result"
    }
   ],
   "source": [
    "qt.fit_transform(durs_log.reshape(-1, 1)).reshape(-1)"
   ]
  },
  {
   "cell_type": "code",
   "execution_count": 234,
   "metadata": {},
   "outputs": [
    {
     "data": {
      "text/plain": [
       "(array([1.318e+03, 0.000e+00, 0.000e+00, 0.000e+00, 0.000e+00, 0.000e+00,\n",
       "        0.000e+00, 0.000e+00, 0.000e+00, 0.000e+00, 0.000e+00, 0.000e+00,\n",
       "        0.000e+00, 0.000e+00, 0.000e+00, 1.248e+03, 1.199e+03, 2.547e+03,\n",
       "        3.436e+03, 3.914e+03, 4.459e+03, 5.949e+03, 7.047e+03, 6.821e+03,\n",
       "        7.352e+03, 7.524e+03, 7.328e+03, 6.289e+03, 5.700e+03, 4.903e+03,\n",
       "        3.954e+03, 2.968e+03, 2.211e+03, 1.629e+03, 1.062e+03, 6.960e+02,\n",
       "        4.230e+02, 2.810e+02, 1.230e+02, 9.100e+01, 7.700e+01, 2.000e+00,\n",
       "        0.000e+00, 0.000e+00, 0.000e+00, 0.000e+00, 0.000e+00, 0.000e+00,\n",
       "        0.000e+00, 1.000e+00]),\n",
       " array([-5.19933758e+00, -4.99136408e+00, -4.78339058e+00, -4.57541707e+00,\n",
       "        -4.36744357e+00, -4.15947007e+00, -3.95149656e+00, -3.74352306e+00,\n",
       "        -3.53554956e+00, -3.32757605e+00, -3.11960255e+00, -2.91162905e+00,\n",
       "        -2.70365554e+00, -2.49568204e+00, -2.28770854e+00, -2.07973503e+00,\n",
       "        -1.87176153e+00, -1.66378803e+00, -1.45581452e+00, -1.24784102e+00,\n",
       "        -1.03986752e+00, -8.31894013e-01, -6.23920510e-01, -4.15947007e-01,\n",
       "        -2.07973503e-01,  4.89217555e-11,  2.07973503e-01,  4.15947007e-01,\n",
       "         6.23920510e-01,  8.31894013e-01,  1.03986752e+00,  1.24784102e+00,\n",
       "         1.45581452e+00,  1.66378803e+00,  1.87176153e+00,  2.07973503e+00,\n",
       "         2.28770854e+00,  2.49568204e+00,  2.70365554e+00,  2.91162905e+00,\n",
       "         3.11960255e+00,  3.32757605e+00,  3.53554956e+00,  3.74352306e+00,\n",
       "         3.95149656e+00,  4.15947007e+00,  4.36744357e+00,  4.57541707e+00,\n",
       "         4.78339058e+00,  4.99136408e+00,  5.19933758e+00]),\n",
       " <a list of 50 Patch objects>)"
      ]
     },
     "execution_count": 234,
     "metadata": {},
     "output_type": "execute_result"
    },
    {
     "data": {
      "image/png": "[encoded data removed]",
      "text/plain": [
       "<Figure size 432x288 with 1 Axes>"
      ]
     },
     "metadata": {},
     "output_type": "display_data"
    }
   ],
   "source": [
    "plt.hist(qt.fit_transform(durs_log.reshape(-1, 1)).reshape(-1), bins=50)"
   ]
  },
  {
   "cell_type": "code",
   "execution_count": null,
   "metadata": {},
   "outputs": [],
   "source": []
  },
  {
   "cell_type": "code",
   "execution_count": 186,
   "metadata": {},
   "outputs": [
    {
     "data": {
      "text/plain": [
       "(array([743563.,      0.,      0.,      0.,      0.,      0.,      0.,\n",
       "             0.,   8807.,  81745.]),\n",
       " array([9.99999998e-08, 1.00000080e-01, 2.00000060e-01, 3.00000040e-01,\n",
       "        4.00000020e-01, 5.00000000e-01, 5.99999980e-01, 6.99999960e-01,\n",
       "        7.99999940e-01, 8.99999920e-01, 9.99999900e-01]),\n",
       " <a list of 10 Patch objects>)"
      ]
     },
     "execution_count": 186,
     "metadata": {},
     "output_type": "execute_result"
    },
    {
     "data": {
      "image/png": "[encoded data removed]",
      "text/plain": [
       "<Figure size 432x288 with 1 Axes>"
      ]
     },
     "metadata": {},
     "output_type": "display_data"
    }
   ],
   "source": [
    "plt.hist(qt.fit_transform(durs_log.reshape(-1, 1)).reshape(-1))"
   ]
  },
  {
   "cell_type": "code",
   "execution_count": 236,
   "metadata": {},
   "outputs": [],
   "source": [
    "pickle.dump(qt, open('/home/gezi/new/temp/feed/rank/portrait/qt.normal.pkl', 'wb'))"
   ]
  },
  {
   "cell_type": "code",
   "execution_count": 238,
   "metadata": {},
   "outputs": [],
   "source": [
    "qt = pickle.load(open('/home/gezi/new/temp/feed/rank/portrait/qt.normal.pkl', 'rb'))"
   ]
  },
  {
   "cell_type": "code",
   "execution_count": 266,
   "metadata": {},
   "outputs": [
    {
     "data": {
      "text/plain": [
       "array([[-0.1499172]])"
      ]
     },
     "execution_count": 266,
     "metadata": {},
     "output_type": "execute_result"
    }
   ],
   "source": [
    "(qt.transform([[np.log(22)]]) + 4) / 8"
   ]
  },
  {
   "cell_type": "code",
   "execution_count": 262,
   "metadata": {},
   "outputs": [
    {
     "data": {
      "text/plain": [
       "11334"
      ]
     },
     "execution_count": 262,
     "metadata": {},
     "output_type": "execute_result"
    }
   ],
   "source": [
    "len([x for x in durs if x > 20 and x < 30])"
   ]
  },
  {
   "cell_type": "code",
   "execution_count": 261,
   "metadata": {},
   "outputs": [
    {
     "data": {
      "text/plain": [
       "834115"
      ]
     },
     "execution_count": 261,
     "metadata": {},
     "output_type": "execute_result"
    }
   ],
   "source": [
    "len(durs)"
   ]
  },
  {
   "cell_type": "code",
   "execution_count": 264,
   "metadata": {},
   "outputs": [
    {
     "data": {
      "text/plain": [
       "90552"
      ]
     },
     "execution_count": 264,
     "metadata": {},
     "output_type": "execute_result"
    }
   ],
   "source": [
    "len(durs_log)"
   ]
  },
  {
   "cell_type": "code",
   "execution_count": 267,
   "metadata": {},
   "outputs": [],
   "source": [
    "qt = QuantileTransformer(n_quantiles=1000, random_state=0, output_distribution='uniform')"
   ]
  },
  {
   "cell_type": "code",
   "execution_count": 268,
   "metadata": {},
   "outputs": [
    {
     "data": {
      "text/plain": [
       "array([0.4954955 , 0.03403403, 0.66116116, ..., 0.36086086, 0.27277277,\n",
       "       0.38538539])"
      ]
     },
     "execution_count": 268,
     "metadata": {},
     "output_type": "execute_result"
    }
   ],
   "source": [
    "qt.fit_transform(durs_log.reshape(-1, 1)).reshape(-1)"
   ]
  },
  {
   "cell_type": "code",
   "execution_count": 269,
   "metadata": {},
   "outputs": [
    {
     "data": {
      "text/plain": [
       "array([0.4954955 , 0.03403403, 0.66116116, ..., 0.36086086, 0.27277277,\n",
       "       0.38538539])"
      ]
     },
     "execution_count": 269,
     "metadata": {},
     "output_type": "execute_result"
    }
   ],
   "source": [
    "qt.fit_transform(durs_log.reshape(-1, 1)).reshape(-1)"
   ]
  },
  {
   "cell_type": "code",
   "execution_count": 270,
   "metadata": {},
   "outputs": [
    {
     "data": {
      "text/plain": [
       "(array([1318., 2447., 1403., 2379., 1260., 2527., 1226., 1471., 1200.,\n",
       "        2731., 2548., 1284., 2276., 1293., 1605., 1964., 2185., 1025.,\n",
       "        2105., 1922., 2008., 1822., 1847., 1757., 1687., 1704., 2238.,\n",
       "        1471., 2111., 1343., 1923., 1819., 1675., 2136., 1435., 1935.,\n",
       "        1760., 1905., 1769., 1922., 1759., 1923., 1718., 1923., 1770.,\n",
       "        1852., 1769., 1802., 1794., 1806.]),\n",
       " array([9.99999998e-08, 2.00000960e-02, 4.00000920e-02, 6.00000880e-02,\n",
       "        8.00000840e-02, 1.00000080e-01, 1.20000076e-01, 1.40000072e-01,\n",
       "        1.60000068e-01, 1.80000064e-01, 2.00000060e-01, 2.20000056e-01,\n",
       "        2.40000052e-01, 2.60000048e-01, 2.80000044e-01, 3.00000040e-01,\n",
       "        3.20000036e-01, 3.40000032e-01, 3.60000028e-01, 3.80000024e-01,\n",
       "        4.00000020e-01, 4.20000016e-01, 4.40000012e-01, 4.60000008e-01,\n",
       "        4.80000004e-01, 5.00000000e-01, 5.19999996e-01, 5.39999992e-01,\n",
       "        5.59999988e-01, 5.79999984e-01, 5.99999980e-01, 6.19999976e-01,\n",
       "        6.39999972e-01, 6.59999968e-01, 6.79999964e-01, 6.99999960e-01,\n",
       "        7.19999956e-01, 7.39999952e-01, 7.59999948e-01, 7.79999944e-01,\n",
       "        7.99999940e-01, 8.19999936e-01, 8.39999932e-01, 8.59999928e-01,\n",
       "        8.79999924e-01, 8.99999920e-01, 9.19999916e-01, 9.39999912e-01,\n",
       "        9.59999908e-01, 9.79999904e-01, 9.99999900e-01]),\n",
       " <a list of 50 Patch objects>)"
      ]
     },
     "execution_count": 270,
     "metadata": {},
     "output_type": "execute_result"
    },
    {
     "data": {
      "image/png": "[encoded data removed]",
      "text/plain": [
       "<Figure size 432x288 with 1 Axes>"
      ]
     },
     "metadata": {},
     "output_type": "display_data"
    }
   ],
   "source": [
    "plt.hist(qt.fit_transform(durs_log.reshape(-1, 1)).reshape(-1), bins=50)"
   ]
  },
  {
   "cell_type": "code",
   "execution_count": 271,
   "metadata": {},
   "outputs": [],
   "source": [
    "pickle.dump(qt, open('/home/gezi/new/temp/feed/rank/portrait/qt.uniform.pkl', 'wb'))"
   ]
  },
  {
   "cell_type": "code",
   "execution_count": 272,
   "metadata": {},
   "outputs": [],
   "source": [
    "qt = pickle.load(open('/home/gezi/new/temp/feed/rank/portrait/qt.uniform.pkl', 'rb'))"
   ]
  },
  {
   "cell_type": "code",
   "execution_count": 275,
   "metadata": {},
   "outputs": [
    {
     "data": {
      "text/plain": [
       "array([[0.82382382]])"
      ]
     },
     "execution_count": 275,
     "metadata": {},
     "output_type": "execute_result"
    }
   ],
   "source": [
    "qt.transform([[np.log(120)]])"
   ]
  },
  {
   "cell_type": "code",
   "execution_count": null,
   "metadata": {},
   "outputs": [],
   "source": []
  }
 ],
 "metadata": {
  "kernelspec": {
   "display_name": "Python 3",
   "language": "python",
   "name": "python3"
  },
  "language_info": {
   "codemirror_mode": {
    "name": "ipython",
    "version": 3
   },
   "file_extension": ".py",
   "mimetype": "text/x-python",
   "name": "python",
   "nbconvert_exporter": "python",
   "pygments_lexer": "ipython3",
   "version": "3.6.8"
  }
 },
 "nbformat": 4,
 "nbformat_minor": 2
}
