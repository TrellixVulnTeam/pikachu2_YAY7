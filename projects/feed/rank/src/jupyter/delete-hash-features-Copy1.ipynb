{
 "cells": [
  {
   "cell_type": "code",
   "execution_count": 1,
   "metadata": {},
   "outputs": [
    {
     "name": "stderr",
     "output_type": "stream",
     "text": [
      "tensorflow_version: 1.14.0\n",
      "torch_version: 1.3.1\n",
      "Using TensorFlow backend.\n"
     ]
    },
    {
     "name": "stdout",
     "output_type": "stream",
     "text": [
      "WARNING:tensorflow:\n",
      "The TensorFlow contrib module will not be included in TensorFlow 2.0.\n",
      "For more information, please see:\n",
      "  * https://github.com/tensorflow/community/blob/master/rfcs/20180907-contrib-sunset.md\n",
      "  * https://github.com/tensorflow/addons\n",
      "  * https://github.com/tensorflow/io (for I/O related ops)\n",
      "If you depend on functionality not listed there, please file an issue.\n",
      "\n"
     ]
    }
   ],
   "source": [
    "import tensorflow as tf\n",
    "import melt \n",
    "import gezi\n",
    "import numpy as np"
   ]
  },
  {
   "cell_type": "code",
   "execution_count": 2,
   "metadata": {},
   "outputs": [],
   "source": [
    "dir = '/home/gezi/tmp/rank/data/video_hour_sgsapp_v1'"
   ]
  },
  {
   "cell_type": "code",
   "execution_count": 3,
   "metadata": {},
   "outputs": [],
   "source": [
    "feats = [x.strip().split('\\t') for x in open(dir + '/2019111114/feature_index').readlines()]"
   ]
  },
  {
   "cell_type": "code",
   "execution_count": 4,
   "metadata": {},
   "outputs": [],
   "source": [
    "model_dir = dir + '/2019111114'"
   ]
  },
  {
   "cell_type": "code",
   "execution_count": 5,
   "metadata": {},
   "outputs": [
    {
     "name": "stdout",
     "output_type": "stream",
     "text": [
      "/home/gezi/tmp/rank/data/video_hour_sgsapp_v1/2019111114/model.ckpt-1.00-932\n"
     ]
    }
   ],
   "source": [
    "from tensorflow.python import pywrap_tensorflow\n",
    "model_path = melt.get_model_path(model_dir)\n",
    "print(model_path)\n",
    "reader = pywrap_tensorflow.NewCheckpointReader(model_path)"
   ]
  },
  {
   "cell_type": "code",
   "execution_count": 6,
   "metadata": {},
   "outputs": [],
   "source": [
    "checkpoint = reader.get_variable_to_shape_map()"
   ]
  },
  {
   "cell_type": "code",
   "execution_count": 7,
   "metadata": {},
   "outputs": [],
   "source": [
    "lookups = reader.get_tensor('hash_embedding/lookups')"
   ]
  },
  {
   "cell_type": "code",
   "execution_count": 8,
   "metadata": {},
   "outputs": [
    {
     "data": {
      "text/plain": [
       "array([[      0,       0],\n",
       "       [1227554, 1205357],\n",
       "       [2759398,  946202],\n",
       "       ...,\n",
       "       [1457130,  653612],\n",
       "       [2251141,  105752],\n",
       "       [2795490, 2059493]], dtype=int32)"
      ]
     },
     "execution_count": 8,
     "metadata": {},
     "output_type": "execute_result"
    }
   ],
   "source": [
    "lookups"
   ]
  },
  {
   "cell_type": "code",
   "execution_count": 9,
   "metadata": {},
   "outputs": [],
   "source": [
    "deep_weight =  reader.get_tensor('wide_deep/deep/emb/embeddings')"
   ]
  },
  {
   "cell_type": "code",
   "execution_count": 10,
   "metadata": {},
   "outputs": [
    {
     "data": {
      "text/plain": [
       "array([[-0.03680759, -0.03796738,  0.01173502, ...,  0.03835703,\n",
       "        -0.00205764,  0.01275528],\n",
       "       [-0.01742167, -0.02196485,  0.05334894, ...,  0.00122132,\n",
       "        -0.03317444, -0.08104888],\n",
       "       [ 0.00563551, -0.07550408, -0.01770822, ..., -0.03123898,\n",
       "        -0.01088627,  0.00876462],\n",
       "       ...,\n",
       "       [-0.05569061, -0.04181764,  0.00786269, ...,  0.03819108,\n",
       "        -0.03983191,  0.01489194],\n",
       "       [-0.02146753,  0.035208  ,  0.07437865, ...,  0.00182154,\n",
       "        -0.04893456, -0.01827921],\n",
       "       [ 0.04213919, -0.04189928,  0.00415305, ..., -0.03681403,\n",
       "         0.01337194, -0.06242966]], dtype=float32)"
      ]
     },
     "execution_count": 10,
     "metadata": {},
     "output_type": "execute_result"
    }
   ],
   "source": [
    "deep_weight"
   ]
  },
  {
   "cell_type": "code",
   "execution_count": 11,
   "metadata": {},
   "outputs": [],
   "source": [
    "x = deep_weight.reshape(-1)"
   ]
  },
  {
   "cell_type": "code",
   "execution_count": 12,
   "metadata": {},
   "outputs": [
    {
     "data": {
      "text/plain": [
       "192702.79080609165"
      ]
     },
     "execution_count": 12,
     "metadata": {},
     "output_type": "execute_result"
    }
   ],
   "source": [
    "sum(x * x) / 2"
   ]
  },
  {
   "cell_type": "code",
   "execution_count": null,
   "metadata": {},
   "outputs": [],
   "source": []
  }
 ],
 "metadata": {
  "kernelspec": {
   "display_name": "Python 3",
   "language": "python",
   "name": "python3"
  },
  "language_info": {
   "codemirror_mode": {
    "name": "ipython",
    "version": 3
   },
   "file_extension": ".py",
   "mimetype": "text/x-python",
   "name": "python",
   "nbconvert_exporter": "python",
   "pygments_lexer": "ipython3",
   "version": "3.6.8"
  }
 },
 "nbformat": 4,
 "nbformat_minor": 4
}
