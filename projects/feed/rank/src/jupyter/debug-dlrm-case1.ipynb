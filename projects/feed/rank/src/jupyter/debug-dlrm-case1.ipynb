{
 "cells": [
  {
   "cell_type": "code",
   "execution_count": 1,
   "metadata": {},
   "outputs": [
    {
     "data": {
      "text/html": [
       "        <script type=\"text/javascript\">\n",
       "        window.PlotlyConfig = {MathJaxConfig: 'local'};\n",
       "        if (window.MathJax) {MathJax.Hub.Config({SVG: {font: \"STIX-Web\"}});}\n",
       "        if (typeof require !== 'undefined') {\n",
       "        require.undef(\"plotly\");\n",
       "        requirejs.config({\n",
       "            paths: {\n",
       "                'plotly': ['https://cdn.plot.ly/plotly-latest.min']\n",
       "            }\n",
       "        });\n",
       "        require(['plotly'], function(Plotly) {\n",
       "            window._Plotly = Plotly;\n",
       "        });\n",
       "        }\n",
       "        </script>\n",
       "        "
      ]
     },
     "metadata": {},
     "output_type": "display_data"
    }
   ],
   "source": [
    "import pymp\n",
    "from multiprocessing import Manager, cpu_count \n",
    "import sys\n",
    "import os\n",
    "import glob \n",
    "import gezi\n",
    "from gezi import tqdm\n",
    "import pandas as pd\n",
    "import json\n",
    "import tensorflow as tf\n",
    "from absl import flags\n",
    "FLAGS = flags.FLAGS\n",
    "import melt\n",
    "\n",
    "from plotly.graph_objs import Scatter,Layout\n",
    "import plotly\n",
    "import plotly.offline as py\n",
    "import numpy as np\n",
    "import plotly.graph_objs as go\n",
    "from plotly.subplots import make_subplots\n",
    "\n",
    "#setting offilne\n",
    "plotly.offline.init_notebook_mode(connected=True)\n",
    "tf.enable_eager_execution()\n",
    "\n",
    "from projects.feed.rank.src import config\n",
    "from projects.feed.rank.src.model import Model\n",
    "from projects.feed.rank.src.tfrecord_dataset import Dataset"
   ]
  },
  {
   "cell_type": "code",
   "execution_count": 2,
   "metadata": {},
   "outputs": [
    {
     "data": {
      "text/html": [
       "<style>\n",
       ".output_wrapper, .output {\n",
       "    height:auto !important;\n",
       "    max-height:10000px;  /* your desired max-height here */\n",
       "}\n",
       ".output_scroll {\n",
       "    box-shadow:none !important;\n",
       "    webkit-box-shadow:none !important;\n",
       "}\n",
       "</style>"
      ],
      "text/plain": [
       "<IPython.core.display.HTML object>"
      ]
     },
     "metadata": {},
     "output_type": "display_data"
    }
   ],
   "source": [
    "%%html\n",
    "<style>\n",
    ".output_wrapper, .output {\n",
    "    height:auto !important;\n",
    "    max-height:10000px;  /* your desired max-height here */\n",
    "}\n",
    ".output_scroll {\n",
    "    box-shadow:none !important;\n",
    "    webkit-box-shadow:none !important;\n",
    "}\n",
    "</style>"
   ]
  },
  {
   "cell_type": "code",
   "execution_count": 3,
   "metadata": {},
   "outputs": [],
   "source": [
    "product='newmse'\n",
    "mark='tuwen'"
   ]
  },
  {
   "cell_type": "code",
   "execution_count": 4,
   "metadata": {},
   "outputs": [
    {
     "name": "stdout",
     "output_type": "stream",
     "text": [
      "model: /home/gezi/tmp/rank/exps/tuwen/v27/baseline/\n",
      "record: /search/odin/publicData/CloudS/libowei/rank/newmse/data/tuwen_hour_newmse_v1/tfrecords/2020050822\n"
     ]
    },
    {
     "name": "stderr",
     "output_type": "stream",
     "text": [
      "2020-05-26 18:30:05 0:00:00 Tf dataset and Tf model train in Eager mode, keras False, distributed:False\n",
      "2020-05-26 18:30:05 0:00:00 log_level: 20 (try --debug to show more or --log_level=(> 20) to show less(no INFO), try --verbose to show train/valid loss intervaly)\n",
      "2020-05-26 18:30:05 0:00:00 batch_size: 512 eval_batch_size: 512 batch_size_per_gpu: 512 num_gpus: 0 gpu: [] CUDA_VISIABLE_DEVICES=[-1] work_mode: valid distributed: False horovod: False\n",
      "2020-05-26 18:30:48 0:00:43 input start_hour [2020043021] is different from model last saved hour + 1 as [2020052612]\n",
      "2020-05-26 18:30:48 0:00:43 start hour before model last train hour will ignore user input start_hour, still use start_hour_from_model\n",
      "2020-05-26 18:30:48 0:00:43 start_hour 2020052612 end_hour 2020052617\n",
      "2020-05-26 18:30:49 0:00:43 model: [baseline] model_dir: [/home/gezi/tmp/rank/exps/tuwen/v27/baseline]\n",
      "2020-05-26 18:30:49 0:00:44 Latest checkpoint: /home/gezi/tmp/rank/exps/tuwen/v27/baseline/model.ckpt-2020052611-1.00-7705\n"
     ]
    }
   ],
   "source": [
    "# 载入模型\n",
    "model_hour = '2020050819'\n",
    "valid_hour = '2020050822'\n",
    "# valid_hour = '2020030812'\n",
    "model_root = f'/search/odin/publicData/CloudS/libowei/rank_online/data/{mark}_hour_sgsapp_v1/models/8'\n",
    "# model_root = '/home/gezi/tmp/rank/exps/tuwen/v29/dlrm-norm/'\n",
    "model_dir = f'{model_root}/{model_hour}'\n",
    "model_dir = '/home/gezi/tmp/rank/exps/tuwen/v27/baseline/'\n",
    "# model_dir = model_root\n",
    "tfrecord_root = f'/search/odin/publicData/CloudS/libowei/rank/{product}/data/{mark}_hour_{product}_v1/tfrecords'\n",
    "tfrecord_dir = f'{tfrecord_root}/{valid_hour}'\n",
    "print('model:', model_dir)\n",
    "print('record:', tfrecord_dir)\n",
    "argv = open(f'{model_dir}/command.txt').readline().strip().replace('data_version=2', 'data_version=1').split()\n",
    "FLAGS(argv)\n",
    "FLAGS.eager = True\n",
    "# FLAGS.fields_norm=True\n",
    "config.init()\n",
    "model = Model()\n",
    "melt.eager.restore(model, model_dir)"
   ]
  },
  {
   "cell_type": "code",
   "execution_count": 5,
   "metadata": {},
   "outputs": [],
   "source": [
    "dataset = Dataset('valid')"
   ]
  },
  {
   "cell_type": "code",
   "execution_count": 6,
   "metadata": {},
   "outputs": [
    {
     "name": "stderr",
     "output_type": "stream",
     "text": [
      "                                                       \r"
     ]
    },
    {
     "data": {
      "text/plain": [
       "4162592"
      ]
     },
     "execution_count": 6,
     "metadata": {},
     "output_type": "execute_result"
    }
   ],
   "source": [
    "files = gezi.list_files(tfrecord_dir)\n",
    "total = melt.get_num_records(files) \n",
    "total"
   ]
  },
  {
   "cell_type": "code",
   "execution_count": 21,
   "metadata": {},
   "outputs": [
    {
     "ename": "TypeError",
     "evalue": "build() missing 1 required positional argument: 'input_shape'",
     "output_type": "error",
     "traceback": [
      "\u001b[0;31m---------------------------------------------------------------------------\u001b[0m",
      "\u001b[0;31mTypeError\u001b[0m                                 Traceback (most recent call last)",
      "\u001b[0;32m<ipython-input-21-2f52417d930d>\u001b[0m in \u001b[0;36m<module>\u001b[0;34m()\u001b[0m\n\u001b[0;32m----> 1\u001b[0;31m \u001b[0mmodel\u001b[0m\u001b[0;34m.\u001b[0m\u001b[0mbuild\u001b[0m\u001b[0;34m(\u001b[0m\u001b[0;34m)\u001b[0m\u001b[0;34m\u001b[0m\u001b[0;34m\u001b[0m\u001b[0m\n\u001b[0m",
      "\u001b[0;31mTypeError\u001b[0m: build() missing 1 required positional argument: 'input_shape'"
     ]
    }
   ],
   "source": []
  },
  {
   "cell_type": "code",
   "execution_count": 14,
   "metadata": {},
   "outputs": [
    {
     "data": {
      "text/plain": [
       "['HashEmbedding',\n",
       " '_TF_MODULE_IGNORED_PROPERTIES',\n",
       " '__call__',\n",
       " '__class__',\n",
       " '__delattr__',\n",
       " '__dict__',\n",
       " '__dir__',\n",
       " '__doc__',\n",
       " '__eq__',\n",
       " '__format__',\n",
       " '__ge__',\n",
       " '__getattribute__',\n",
       " '__gt__',\n",
       " '__hash__',\n",
       " '__init__',\n",
       " '__init_subclass__',\n",
       " '__le__',\n",
       " '__lt__',\n",
       " '__module__',\n",
       " '__ne__',\n",
       " '__new__',\n",
       " '__reduce__',\n",
       " '__reduce_ex__',\n",
       " '__repr__',\n",
       " '__setattr__',\n",
       " '__sizeof__',\n",
       " '__str__',\n",
       " '__subclasshook__',\n",
       " '__weakref__',\n",
       " '_activity_regularizer',\n",
       " '_add_inbound_node',\n",
       " '_add_unique_metric_name',\n",
       " '_add_variable_with_custom_getter',\n",
       " '_all_metrics_tensors',\n",
       " '_assert_compile_was_called',\n",
       " '_assert_weights_created',\n",
       " '_base_init',\n",
       " '_cache_output_metric_attributes',\n",
       " '_call_convention',\n",
       " '_call_fn_args',\n",
       " '_call_metric_fn',\n",
       " '_callable_losses',\n",
       " '_check_trainable_weights_consistency',\n",
       " '_checkpoint_dependencies',\n",
       " '_ckpt_saved_epoch',\n",
       " '_clear_losses',\n",
       " '_compile_distribution',\n",
       " '_compile_eagerly',\n",
       " '_compile_weights_loss_and_weighted_metrics',\n",
       " '_compute_output_and_mask_jointly',\n",
       " '_deferred_dependencies',\n",
       " '_determine_call_convention',\n",
       " '_distribution_standardize_user_data',\n",
       " '_distribution_strategy',\n",
       " '_dtype',\n",
       " '_dynamic',\n",
       " '_eager_add_metric',\n",
       " '_eager_losses',\n",
       " '_expects_training_arg',\n",
       " '_feed_loss_fns',\n",
       " '_feed_output_names',\n",
       " '_feed_output_shapes',\n",
       " '_feed_sample_weights',\n",
       " '_feed_targets',\n",
       " '_flatten',\n",
       " '_gather_children_attribute',\n",
       " '_gather_saveables_for_checkpoint',\n",
       " '_get_callback_model',\n",
       " '_get_existing_metric',\n",
       " '_get_node_attribute_at_index',\n",
       " '_graph',\n",
       " '_handle_activity_regularization',\n",
       " '_handle_deferred_dependencies',\n",
       " '_handle_metrics',\n",
       " '_handle_per_output_metrics',\n",
       " '_handle_weight_regularization',\n",
       " '_inbound_nodes',\n",
       " '_init_graph_network',\n",
       " '_init_metric_attributes',\n",
       " '_init_set_name',\n",
       " '_init_subclassed_network',\n",
       " '_inputs_from_call_args',\n",
       " '_insert_layers',\n",
       " '_is_compiled',\n",
       " '_is_graph_network',\n",
       " '_is_layer',\n",
       " '_keras_api_names',\n",
       " '_keras_api_names_v1',\n",
       " '_layers',\n",
       " '_list_functions_for_serialization',\n",
       " '_lookup_dependency',\n",
       " '_loss_weights_list',\n",
       " '_losses',\n",
       " '_make_callback_model',\n",
       " '_make_execution_function',\n",
       " '_make_predict_function',\n",
       " '_make_test_function',\n",
       " '_make_train_function',\n",
       " '_maybe_build',\n",
       " '_maybe_create_attribute',\n",
       " '_maybe_initialize_trackable',\n",
       " '_maybe_load_initial_epoch_from_ckpt',\n",
       " '_metrics',\n",
       " '_metrics_tensors',\n",
       " '_mixed_precision_policy',\n",
       " '_name',\n",
       " '_name_based_attribute_restore',\n",
       " '_name_based_restores',\n",
       " '_name_scope',\n",
       " '_no_dependency',\n",
       " '_non_trainable_weights',\n",
       " '_obj_reference_counts',\n",
       " '_obj_reference_counts_dict',\n",
       " '_outbound_nodes',\n",
       " '_output_loss_metrics',\n",
       " '_preload_simple_restoration',\n",
       " '_prepare_output_masks',\n",
       " '_prepare_sample_weights',\n",
       " '_prepare_skip_target_masks',\n",
       " '_prepare_total_loss',\n",
       " '_process_target_tensor_for_compile',\n",
       " '_recompile_weights_loss_and_weighted_metrics',\n",
       " '_restore_from_checkpoint_position',\n",
       " '_reuse',\n",
       " '_run_eagerly',\n",
       " '_run_internal_graph',\n",
       " '_sample_weight_modes',\n",
       " '_scope',\n",
       " '_self_name_based_restores',\n",
       " '_self_setattr_tracking',\n",
       " '_self_unconditional_checkpoint_dependencies',\n",
       " '_self_unconditional_deferred_dependencies',\n",
       " '_self_unconditional_dependency_names',\n",
       " '_self_update_uid',\n",
       " '_set_connectivity_metadata_',\n",
       " '_set_dtype_and_policy',\n",
       " '_set_input_attrs',\n",
       " '_set_inputs',\n",
       " '_set_mask_metadata',\n",
       " '_set_metric_attributes',\n",
       " '_set_output_attrs',\n",
       " '_set_output_names',\n",
       " '_set_per_output_metric_attributes',\n",
       " '_setattr_tracking',\n",
       " '_should_compute_mask',\n",
       " '_single_restoration_from_checkpoint_position',\n",
       " '_standardize_user_data',\n",
       " '_symbolic_add_metric',\n",
       " '_symbolic_call',\n",
       " '_targets',\n",
       " '_tf_api_names',\n",
       " '_tf_api_names_v1',\n",
       " '_track_layers',\n",
       " '_track_trackable',\n",
       " '_trackable_saver',\n",
       " '_trainable',\n",
       " '_trainable_weights',\n",
       " '_unconditional_checkpoint_dependencies',\n",
       " '_unconditional_dependency_names',\n",
       " '_unpack_validation_data',\n",
       " '_update_sample_weight_modes',\n",
       " '_update_uid',\n",
       " '_updated_config',\n",
       " '_updates',\n",
       " '_validate_compile_param_for_distribution_strategy',\n",
       " '_validate_graph_inputs_and_outputs',\n",
       " '_validate_or_infer_batch_size',\n",
       " 'activity_regularizer',\n",
       " 'add_loss',\n",
       " 'add_metric',\n",
       " 'add_update',\n",
       " 'add_variable',\n",
       " 'add_weight',\n",
       " 'apply',\n",
       " 'bottom_mlp2',\n",
       " 'build',\n",
       " 'built',\n",
       " 'call',\n",
       " 'cold_emb',\n",
       " 'compile',\n",
       " 'compute_mask',\n",
       " 'compute_output_shape',\n",
       " 'count_params',\n",
       " 'deal_onehot_v1',\n",
       " 'deal_others',\n",
       " 'dense',\n",
       " 'dense2',\n",
       " 'dense_to_other',\n",
       " 'doc_emb',\n",
       " 'dtype',\n",
       " 'dynamic',\n",
       " 'emb_activation',\n",
       " 'emb_dim',\n",
       " 'evaluate',\n",
       " 'evaluate_generator',\n",
       " 'fields_pooling',\n",
       " 'fit',\n",
       " 'fit_generator',\n",
       " 'from_config',\n",
       " 'get_config',\n",
       " 'get_input_at',\n",
       " 'get_input_mask_at',\n",
       " 'get_input_shape_at',\n",
       " 'get_layer',\n",
       " 'get_losses_for',\n",
       " 'get_output_at',\n",
       " 'get_output_mask_at',\n",
       " 'get_output_shape_at',\n",
       " 'get_updates_for',\n",
       " 'get_weights',\n",
       " 'hpooling',\n",
       " 'inbound_nodes',\n",
       " 'input',\n",
       " 'input_mask',\n",
       " 'input_shape',\n",
       " 'input_spec',\n",
       " 'inputs',\n",
       " 'kwargs',\n",
       " 'layers',\n",
       " 'load_weights',\n",
       " 'losses',\n",
       " 'metrics',\n",
       " 'metrics_names',\n",
       " 'mlp',\n",
       " 'mlp2',\n",
       " 'name',\n",
       " 'name_scope',\n",
       " 'non_trainable_variables',\n",
       " 'non_trainable_weights',\n",
       " 'optimizer',\n",
       " 'outbound_nodes',\n",
       " 'output',\n",
       " 'output_mask',\n",
       " 'output_shape',\n",
       " 'outputs',\n",
       " 'pooling',\n",
       " 'predict',\n",
       " 'predict_generator',\n",
       " 'predict_on_batch',\n",
       " 'product_emb',\n",
       " 'regularizer',\n",
       " 'reset_metrics',\n",
       " 'reset_states',\n",
       " 'run_eagerly',\n",
       " 'sample_weights',\n",
       " 'save',\n",
       " 'save_weights',\n",
       " 'set_weights',\n",
       " 'state_updates',\n",
       " 'stateful',\n",
       " 'submodules',\n",
       " 'sum_pooling',\n",
       " 'summary',\n",
       " 'supports_masking',\n",
       " 'task_mlp',\n",
       " 'task_mlp2',\n",
       " 'test_on_batch',\n",
       " 'time_emb',\n",
       " 'timespan_emb',\n",
       " 'to_json',\n",
       " 'to_yaml',\n",
       " 'train_on_batch',\n",
       " 'trainable',\n",
       " 'trainable_variables',\n",
       " 'trainable_weights',\n",
       " 'updates',\n",
       " 'user_emb',\n",
       " 'variables',\n",
       " 'weekday_emb',\n",
       " 'weights',\n",
       " 'with_name_scope']"
      ]
     },
     "execution_count": 14,
     "metadata": {},
     "output_type": "execute_result"
    }
   ],
   "source": [
    "dir(model.deep)"
   ]
  },
  {
   "cell_type": "code",
   "execution_count": 7,
   "metadata": {},
   "outputs": [],
   "source": [
    "batch_size = 512\n",
    "batches = dataset.make_batch(batch_size=batch_size, filenames=files, repeat=False)\n",
    "num_steps = -int(-total // batch_size)"
   ]
  },
  {
   "cell_type": "code",
   "execution_count": 8,
   "metadata": {},
   "outputs": [],
   "source": [
    "def get_info(x, mid):\n",
    "  mids = gezi.decode(x['mid'].numpy())\n",
    "  hits = []\n",
    "  for i in range(len(mids)):\n",
    "    if mids[i] == mid:\n",
    "      hits += [i]\n",
    "  res = [{}] * len(hits)\n",
    "  for key in x:\n",
    "    for i, pos in enumerate(hits):\n",
    "      res[i][key] = tf.convert_to_tensor([x[key][pos]])\n",
    "  return res"
   ]
  },
  {
   "cell_type": "code",
   "execution_count": 29,
   "metadata": {},
   "outputs": [
    {
     "name": "stderr",
     "output_type": "stream",
     "text": [
      "loop:   0%|          | 0/8131 [00:00<?, ?it/s]\n"
     ]
    }
   ],
   "source": [
    "xs = []\n",
    "for i, (x, _) in tqdm(enumerate(batches), total=num_steps, ascii=True, desc='loop'):\n",
    "  model(x)\n",
    "  break"
   ]
  },
  {
   "cell_type": "code",
   "execution_count": 30,
   "metadata": {},
   "outputs": [
    {
     "data": {
      "text/plain": [
       "[<tf.Variable 'wide_deep/deep/emb/emb/embeddings:0' shape=(3000001, 32) dtype=float32, numpy=\n",
       " array([[ 0.0155,  0.0313,  0.0269, ...,  0.0441,  0.0008, -0.0238],\n",
       "        [ 0.0087,  0.0736, -0.0485, ...,  0.0028, -0.0278, -0.0428],\n",
       "        [-0.076 , -0.0461,  0.0859, ..., -0.0498, -0.0587,  0.0217],\n",
       "        ...,\n",
       "        [-0.0238,  0.0745, -0.0033, ..., -0.0286,  0.0116,  0.0342],\n",
       "        [ 0.0062, -0.0335, -0.0037, ...,  0.028 , -0.0196, -0.0361],\n",
       "        [-0.034 , -0.0187, -0.0192, ..., -0.1247, -0.1014,  0.0062]],\n",
       "       dtype=float32)>,\n",
       " <tf.Variable 'wide_deep/deep/emb/emb/embeddings2:0' shape=(8, 32) dtype=float32, numpy=\n",
       " array([[ 0.0317, -0.0159,  0.0063,  0.0387,  0.04  , -0.0268, -0.0105,\n",
       "         -0.0018, -0.0478, -0.042 , -0.0102,  0.0017,  0.0285, -0.0466,\n",
       "         -0.0374, -0.0204,  0.0423, -0.0404,  0.0385,  0.0379,  0.0492,\n",
       "          0.0152, -0.0425,  0.0327, -0.0433, -0.0058,  0.0207, -0.0447,\n",
       "         -0.0353, -0.0312,  0.0237, -0.0159],\n",
       "        [ 0.3954, -0.2824, -0.3998, -0.2915, -0.2972, -0.3791,  0.3747,\n",
       "         -0.3337,  0.3839, -0.3434, -0.3684,  0.3157, -0.3604, -0.29  ,\n",
       "         -0.3786, -0.3527,  0.4007,  0.3715,  0.3702, -0.3508,  0.3254,\n",
       "         -0.3241, -0.3081,  0.398 , -0.3468,  0.3307,  0.3396,  0.3126,\n",
       "         -0.3433, -0.3574, -0.3096, -0.3093],\n",
       "        [-0.3431,  0.3527, -0.3757, -0.3489,  0.2925,  0.3229,  0.3727,\n",
       "          0.2965,  0.3609, -0.4077, -0.2607, -0.3543,  0.3603,  0.2469,\n",
       "         -0.2953,  0.3193, -0.3311, -0.366 ,  0.3397, -0.3373,  0.3307,\n",
       "          0.2751, -0.3335,  0.3684,  0.3039,  0.328 , -0.3794, -0.2504,\n",
       "         -0.2654,  0.3433,  0.3335, -0.3281],\n",
       "        [ 0.3909,  0.3198,  0.3438,  0.3245, -0.3199,  0.3588, -0.3814,\n",
       "          0.3663,  0.3397,  0.3821,  0.3024,  0.4005,  0.3436, -0.3532,\n",
       "         -0.3893, -0.2735, -0.3759,  0.4071, -0.3634, -0.3759,  0.3149,\n",
       "          0.3031,  0.3337,  0.4233, -0.2987, -0.3177,  0.3079,  0.3013,\n",
       "         -0.3242, -0.3931,  0.4107, -0.3521],\n",
       "        [-0.39  ,  0.3207, -0.3808, -0.3247,  0.3058,  0.393 ,  0.3394,\n",
       "          0.3454, -0.31  , -0.3124, -0.2854, -0.3849, -0.4359, -0.2925,\n",
       "         -0.3525, -0.3103, -0.3613,  0.3937, -0.3153,  0.3429, -0.3449,\n",
       "         -0.3186,  0.3369, -0.3921, -0.303 , -0.3594, -0.3346,  0.3186,\n",
       "          0.3287, -0.3757,  0.4034,  0.3242],\n",
       "        [ 0.3794,  0.3004,  0.4029,  0.3064,  0.2901,  0.3646,  0.3635,\n",
       "         -0.3265,  0.3538, -0.3847,  0.3364, -0.3131,  0.4582,  0.3051,\n",
       "         -0.4003,  0.302 ,  0.4004,  0.3211, -0.3503,  0.3897, -0.3144,\n",
       "         -0.3086,  0.3386, -0.3742,  0.2846, -0.3248, -0.3886,  0.2863,\n",
       "         -0.2803, -0.3722, -0.3534,  0.3734],\n",
       "        [-0.3761,  0.3763, -0.3682, -0.314 ,  0.348 , -0.3305,  0.4225,\n",
       "         -0.3273, -0.3996, -0.3621, -0.3078, -0.3133,  0.4216, -0.3442,\n",
       "         -0.3668, -0.2895, -0.3447,  0.3554,  0.3761,  0.34  , -0.3593,\n",
       "          0.3018, -0.3295, -0.389 , -0.3018,  0.3344,  0.4215, -0.2727,\n",
       "          0.288 , -0.3802,  0.3236, -0.3636],\n",
       "        [ 0.3813,  0.3385, -0.3742,  0.3418,  0.3495, -0.362 ,  0.4131,\n",
       "         -0.349 , -0.3754,  0.323 , -0.3339,  0.4181,  0.4057,  0.3059,\n",
       "          0.364 ,  0.3532, -0.4759, -0.3445,  0.4221, -0.318 ,  0.3911,\n",
       "         -0.3169,  0.3607, -0.4664, -0.2914,  0.3461, -0.3655,  0.3386,\n",
       "          0.3255, -0.389 ,  0.3938,  0.3116]], dtype=float32)>]"
      ]
     },
     "execution_count": 30,
     "metadata": {},
     "output_type": "execute_result"
    }
   ],
   "source": [
    "model.deep.emb.weights"
   ]
  },
  {
   "cell_type": "code",
   "execution_count": 10,
   "metadata": {},
   "outputs": [],
   "source": [
    "def get_doc(xs, docid):\n",
    "  for x in xs:\n",
    "    if tf.compat.as_str_any(x['docid'][0].numpy()) == docid:\n",
    "      return x"
   ]
  },
  {
   "cell_type": "code",
   "execution_count": 51,
   "metadata": {},
   "outputs": [
    {
     "data": {
      "text/plain": [
       "[<tf.Variable 'wide_deep/dense_13/kernel:0' shape=(2, 1) dtype=float32, numpy=\n",
       " array([[0.0054],\n",
       "        [0.0344]], dtype=float32)>,\n",
       " <tf.Variable 'wide_deep/dense_13/bias:0' shape=(1,) dtype=float32, numpy=array([-1.3172], dtype=float32)>]"
      ]
     },
     "execution_count": 51,
     "metadata": {},
     "output_type": "execute_result"
    }
   ],
   "source": [
    "# 点击塔 wide 的权重0.0054 deep权重 0.0344 wide的影响极小 后面也证明这一点\n",
    "model.layers[-2].weights"
   ]
  },
  {
   "cell_type": "code",
   "execution_count": 32,
   "metadata": {},
   "outputs": [],
   "source": [
    "# 这两个doc 第一个位于位置1 未点击            《楞严经》未得谓得未证言证 \n",
    "# 第二个位于位置11 点击  时长276              不管你相不相信转世和业，修持金刚萨埵法门非常重要\n",
    "x1 = get_doc(xs, '2041980l3wSzO6')\n",
    "x2 = get_doc(xs, '20506m0l326Btq')"
   ]
  },
  {
   "cell_type": "code",
   "execution_count": 54,
   "metadata": {},
   "outputs": [
    {
     "data": {
      "text/plain": [
       "<tf.Tensor: id=438689, shape=(1, 1), dtype=float32, numpy=array([[0.037]], dtype=float32)>"
      ]
     },
     "execution_count": 54,
     "metadata": {},
     "output_type": "execute_result"
    }
   ],
   "source": [
    "model(x1)"
   ]
  },
  {
   "cell_type": "code",
   "execution_count": 55,
   "metadata": {},
   "outputs": [
    {
     "data": {
      "text/plain": [
       "<tf.Tensor: id=438589, shape=(1, 1), dtype=float32, numpy=array([[-0.8849]], dtype=float32)>"
      ]
     },
     "execution_count": 55,
     "metadata": {},
     "output_type": "execute_result"
    }
   ],
   "source": [
    "model.d"
   ]
  },
  {
   "cell_type": "code",
   "execution_count": 56,
   "metadata": {},
   "outputs": [
    {
     "data": {
      "text/plain": [
       "<tf.Tensor: id=438372, shape=(1, 1), dtype=float32, numpy=array([[1.0864]], dtype=float32)>"
      ]
     },
     "execution_count": 56,
     "metadata": {},
     "output_type": "execute_result"
    }
   ],
   "source": [
    "model.w"
   ]
  },
  {
   "cell_type": "code",
   "execution_count": 57,
   "metadata": {},
   "outputs": [
    {
     "data": {
      "text/plain": [
       "<tf.Tensor: id=438630, shape=(1, 1), dtype=float32, numpy=array([[0.2072]], dtype=float32)>"
      ]
     },
     "execution_count": 57,
     "metadata": {},
     "output_type": "execute_result"
    }
   ],
   "source": [
    "model.prob_click"
   ]
  },
  {
   "cell_type": "code",
   "execution_count": 58,
   "metadata": {},
   "outputs": [
    {
     "data": {
      "text/plain": [
       "<tf.Tensor: id=438599, shape=(1, 1), dtype=float32, numpy=array([[-1.3418]], dtype=float32)>"
      ]
     },
     "execution_count": 58,
     "metadata": {},
     "output_type": "execute_result"
    }
   ],
   "source": [
    "model.y_click"
   ]
  },
  {
   "cell_type": "code",
   "execution_count": 64,
   "metadata": {},
   "outputs": [
    {
     "data": {
      "text/plain": [
       "0.20721847628049556"
      ]
     },
     "execution_count": 64,
     "metadata": {},
     "output_type": "execute_result"
    }
   ],
   "source": [
    "gezi.sigmoid(0.0054 * 1.0864 + 0.0344 * (-0.8849) + (-1.3172))"
   ]
  },
  {
   "cell_type": "code",
   "execution_count": 65,
   "metadata": {},
   "outputs": [],
   "source": [
    "x_all1 = model.deep.x_all"
   ]
  },
  {
   "cell_type": "code",
   "execution_count": 66,
   "metadata": {},
   "outputs": [
    {
     "data": {
      "text/plain": [
       "<tf.Tensor: id=438554, shape=(1, 94, 32), dtype=float32, numpy=\n",
       "array([[[ 0.459 ,  0.0914, -0.2821, ...,  0.3804, -0.4798, -1.0662],\n",
       "        [-0.0323,  0.0285,  0.019 , ..., -0.0047, -0.0163,  0.0139],\n",
       "        [ 1.8274,  3.1585, -0.1991, ..., -1.6778, -0.8073, -2.459 ],\n",
       "        ...,\n",
       "        [ 0.    ,  0.    ,  0.    , ...,  0.    ,  0.    ,  0.    ],\n",
       "        [ 0.    ,  0.    ,  0.    , ...,  0.    ,  0.    ,  0.    ],\n",
       "        [ 0.    ,  0.    ,  0.    , ...,  0.    ,  0.    ,  0.    ]]],\n",
       "      dtype=float32)>"
      ]
     },
     "execution_count": 66,
     "metadata": {},
     "output_type": "execute_result"
    }
   ],
   "source": [
    "x_all1"
   ]
  },
  {
   "cell_type": "code",
   "execution_count": 80,
   "metadata": {},
   "outputs": [
    {
     "data": {
      "text/plain": [
       "<tf.Tensor: id=439766, shape=(1, 1), dtype=float32, numpy=array([[0.0022]], dtype=float32)>"
      ]
     },
     "execution_count": 80,
     "metadata": {},
     "output_type": "execute_result"
    }
   ],
   "source": [
    "model(x2)"
   ]
  },
  {
   "cell_type": "code",
   "execution_count": 81,
   "metadata": {},
   "outputs": [
    {
     "data": {
      "text/plain": [
       "<tf.Tensor: id=439666, shape=(1, 1), dtype=float32, numpy=array([[-50.9848]], dtype=float32)>"
      ]
     },
     "execution_count": 81,
     "metadata": {},
     "output_type": "execute_result"
    }
   ],
   "source": [
    "model.d"
   ]
  },
  {
   "cell_type": "code",
   "execution_count": 82,
   "metadata": {},
   "outputs": [
    {
     "data": {
      "text/plain": [
       "<tf.Tensor: id=439449, shape=(1, 1), dtype=float32, numpy=array([[-1.2384]], dtype=float32)>"
      ]
     },
     "execution_count": 82,
     "metadata": {},
     "output_type": "execute_result"
    }
   ],
   "source": [
    "model.w"
   ]
  },
  {
   "cell_type": "code",
   "execution_count": 83,
   "metadata": {},
   "outputs": [
    {
     "data": {
      "text/plain": [
       "<tf.Tensor: id=439707, shape=(1, 1), dtype=float32, numpy=array([[0.044]], dtype=float32)>"
      ]
     },
     "execution_count": 83,
     "metadata": {},
     "output_type": "execute_result"
    }
   ],
   "source": [
    "model.prob_click"
   ]
  },
  {
   "cell_type": "code",
   "execution_count": 84,
   "metadata": {},
   "outputs": [],
   "source": [
    "x_all2 = model.deep.x_all"
   ]
  },
  {
   "cell_type": "code",
   "execution_count": 71,
   "metadata": {},
   "outputs": [
    {
     "data": {
      "text/plain": [
       "<tf.Tensor: id=438932, shape=(1, 94, 32), dtype=float32, numpy=\n",
       "array([[[ 0.459 ,  0.0914, -0.2821, ...,  0.3804, -0.4798, -1.0662],\n",
       "        [-0.0391,  0.0165,  0.0103, ...,  0.022 ,  0.0049, -0.0378],\n",
       "        [ 1.8274,  3.1585, -0.1991, ..., -1.6778, -0.8073, -2.459 ],\n",
       "        ...,\n",
       "        [ 0.    ,  0.    ,  0.    , ...,  0.    ,  0.    ,  0.    ],\n",
       "        [ 0.    ,  0.    ,  0.    , ...,  0.    ,  0.    ,  0.    ],\n",
       "        [ 0.    ,  0.    ,  0.    , ...,  0.    ,  0.    ,  0.    ]]],\n",
       "      dtype=float32)>"
      ]
     },
     "execution_count": 71,
     "metadata": {},
     "output_type": "execute_result"
    }
   ],
   "source": [
    "x_all2"
   ]
  },
  {
   "cell_type": "code",
   "execution_count": 74,
   "metadata": {},
   "outputs": [
    {
     "data": {
      "text/plain": [
       "<tf.Tensor: id=439411, shape=(1, 1), dtype=float32, numpy=array([[0.0022]], dtype=float32)>"
      ]
     },
     "execution_count": 74,
     "metadata": {},
     "output_type": "execute_result"
    }
   ],
   "source": [
    "x1['x_all'] = x_all2\n",
    "model(x1)\n",
    "# 可以看到wide部分几乎没有影响到最终得分"
   ]
  },
  {
   "cell_type": "code",
   "execution_count": 75,
   "metadata": {},
   "outputs": [
    {
     "data": {
      "text/plain": [
       "<tf.Tensor: id=439311, shape=(1, 1), dtype=float32, numpy=array([[-50.9848]], dtype=float32)>"
      ]
     },
     "execution_count": 75,
     "metadata": {},
     "output_type": "execute_result"
    }
   ],
   "source": [
    "model.d"
   ]
  },
  {
   "cell_type": "code",
   "execution_count": 76,
   "metadata": {},
   "outputs": [
    {
     "data": {
      "text/plain": [
       "<tf.Tensor: id=439276, shape=(1, 1), dtype=float32, numpy=array([[1.0864]], dtype=float32)>"
      ]
     },
     "execution_count": 76,
     "metadata": {},
     "output_type": "execute_result"
    }
   ],
   "source": [
    "model.w"
   ]
  },
  {
   "cell_type": "code",
   "execution_count": 78,
   "metadata": {},
   "outputs": [
    {
     "data": {
      "text/plain": [
       "<tf.Tensor: id=439352, shape=(1, 1), dtype=float32, numpy=array([[0.0445]], dtype=float32)>"
      ]
     },
     "execution_count": 78,
     "metadata": {},
     "output_type": "execute_result"
    }
   ],
   "source": [
    "model.prob_click"
   ]
  },
  {
   "cell_type": "code",
   "execution_count": 79,
   "metadata": {},
   "outputs": [
    {
     "data": {
      "text/plain": [
       "0.04456531408785941"
      ]
     },
     "execution_count": 79,
     "metadata": {},
     "output_type": "execute_result"
    }
   ],
   "source": [
    "# 保持wide不变 更好 deep  的fields x_all 点击改了只是稍稍高了一点点 几乎可以忽略\n",
    "gezi.sigmoid(0.0054 * 1.0864 + 0.0344 * (-50.9848) + (-1.3172))"
   ]
  },
  {
   "cell_type": "code",
   "execution_count": 85,
   "metadata": {},
   "outputs": [],
   "source": [
    "def rename(field):\n",
    "  for x in maps:\n",
    "#     print(x, len(x))\n",
    "#     print('0', field, x[0], x[1])\n",
    "    field = field.replace(x[0], x[1])\n",
    "#     print('1', field, x[0], x[1])\n",
    "  return field"
   ]
  },
  {
   "cell_type": "code",
   "execution_count": 130,
   "metadata": {},
   "outputs": [],
   "source": [
    "other_fields = [x.name.split('/')[-2] for x in model.variables if x.name.endswith('embeddings:0')and not '/emb/emb/' in x.name]\n",
    "other_fields[model.deep.history_index:model.deep.history_index] = model.deep.history_fields\n",
    "onehot_fields = gezi.get_global('fields')\n",
    "maps = [x.strip().split() for x in open('../conf/fields_map.txt')]\n",
    "onehot_fields2 = [rename(x) for x in onehot_fields]\n",
    "fields = other_fields + onehot_fields2\n",
    "fields2 = other_fields + onehot_fields\n",
    "# [(x, y) for x, y in zip(onehot_fields, onehot_fields2)]"
   ]
  },
  {
   "cell_type": "code",
   "execution_count": 110,
   "metadata": {},
   "outputs": [],
   "source": [
    "import copy\n",
    "x_all2_npy = x_all2.numpy()\n",
    "x_all1_npy = x_all1.numpy()"
   ]
  },
  {
   "cell_type": "code",
   "execution_count": 114,
   "metadata": {},
   "outputs": [
    {
     "data": {
      "text/plain": [
       "array([[[ 0.459 ,  0.0914, -0.2821, ...,  0.3804, -0.4798, -1.0662],\n",
       "        [-0.0391,  0.0165,  0.0103, ...,  0.022 ,  0.0049, -0.0378],\n",
       "        [ 1.8274,  3.1585, -0.1991, ..., -1.6778, -0.8073, -2.459 ],\n",
       "        ...,\n",
       "        [ 0.    ,  0.    ,  0.    , ...,  0.    ,  0.    ,  0.    ],\n",
       "        [ 0.    ,  0.    ,  0.    , ...,  0.    ,  0.    ,  0.    ],\n",
       "        [ 0.    ,  0.    ,  0.    , ...,  0.    ,  0.    ,  0.    ]]],\n",
       "      dtype=float32)"
      ]
     },
     "execution_count": 114,
     "metadata": {},
     "output_type": "execute_result"
    }
   ],
   "source": [
    "x_all2_npy"
   ]
  },
  {
   "cell_type": "code",
   "execution_count": 115,
   "metadata": {},
   "outputs": [
    {
     "data": {
      "text/plain": [
       "array([[[ 0.459 ,  0.0914, -0.2821, ...,  0.3804, -0.4798, -1.0662],\n",
       "        [-0.0323,  0.0285,  0.019 , ..., -0.0047, -0.0163,  0.0139],\n",
       "        [ 1.8274,  3.1585, -0.1991, ..., -1.6778, -0.8073, -2.459 ],\n",
       "        ...,\n",
       "        [ 0.    ,  0.    ,  0.    , ...,  0.    ,  0.    ,  0.    ],\n",
       "        [ 0.    ,  0.    ,  0.    , ...,  0.    ,  0.    ,  0.    ],\n",
       "        [ 0.    ,  0.    ,  0.    , ...,  0.    ,  0.    ,  0.    ]]],\n",
       "      dtype=float32)"
      ]
     },
     "execution_count": 115,
     "metadata": {},
     "output_type": "execute_result"
    }
   ],
   "source": [
    "x_all = x_all2_npy.copy()\n",
    "x_all[0][1] = x_all1_npy[0][1]\n",
    "x_all"
   ]
  },
  {
   "cell_type": "code",
   "execution_count": 119,
   "metadata": {},
   "outputs": [
    {
     "data": {
      "text/plain": [
       "<tf.Tensor: id=441285, shape=(1, 1), dtype=float32, numpy=array([[0.0338]], dtype=float32)>"
      ]
     },
     "execution_count": 119,
     "metadata": {},
     "output_type": "execute_result"
    }
   ],
   "source": [
    "x2['x_all'] = x_all\n",
    "model(x2)\n",
    "model.prob_click"
   ]
  },
  {
   "cell_type": "code",
   "execution_count": 136,
   "metadata": {},
   "outputs": [
    {
     "name": "stderr",
     "output_type": "stream",
     "text": [
      "100%|██████████| 94/94 [00:03<00:00, 30.57it/s]"
     ]
    },
    {
     "name": "stdout",
     "output_type": "stream",
     "text": [
      "\n",
      " +-------+------------------------------+-----------------+-----------+-----------+--------------+\n",
      "|   fid | field                        | ori_field       |   pclick1 |   pclick2 |        delta |\n",
      "|-------+------------------------------+-----------------+-----------+-----------+--------------|\n",
      "|    64 | MInterestArtPornScoreKw      | MITATPORNSKW    |  0.142161 | 0.141803  | -0.000357732 |\n",
      "|    63 | MInterestArtPornScoreAccount | MITATPORNSAC    |  0.154762 | 0.0963815 | -0.0583803   |\n",
      "|    59 | MInterestArtPicCntAccount    | MITATPCNTAC     |  0.178602 | 0.0948361 | -0.0837662   |\n",
      "|     5 | timespan_emb                 | timespan_emb    |  0.175528 | 0.0546406 | -0.120887    |\n",
      "|    29 | IArtKw2                      | IATKWSE         |  0.174993 | 0.0520846 | -0.122908    |\n",
      "|    71 | MInterestArtTag              | MITATTG         |  0.198853 | 0.0743374 | -0.124515    |\n",
      "|    72 | MInterestArtTopic            | MITATTP         |  0.179713 | 0.0522657 | -0.127448    |\n",
      "|    53 | MInterestArtAccount          | MITATAC         |  0.205938 | 0.0643925 | -0.141545    |\n",
      "|    58 | MInterestArtKw               | MITATKW         |  0.224969 | 0.0814495 | -0.14352     |\n",
      "|    65 | MInterestArtPornScoreTag     | MITATPORNSTG    |  0.212611 | 0.0638059 | -0.148806    |\n",
      "|    35 | IAvgDur                      | IAVGDUR         |  0.197777 | 0.0453827 | -0.152395    |\n",
      "|    81 | XArtShowFavor                | XATSWFV         |  0.200585 | 0.0449527 | -0.155633    |\n",
      "|    13 | CRecallWordArtIdPicCnt       | CRWATIDPCNT     |  0.201362 | 0.0454589 | -0.155903    |\n",
      "|    73 | MInterestArtWordCntAccount   | MITATWCNTAC     |  0.203784 | 0.0463223 | -0.157462    |\n",
      "|    67 | MInterestArtQualityAccount   | MITATQUALSAC    |  0.205452 | 0.0478712 | -0.157581    |\n",
      "|    66 | MInterestArtPornScoreTopic   | MITATPORNSTP    |  0.205288 | 0.0469166 | -0.158372    |\n",
      "|    17 | CSXArtTopic                  | CSXATTP         |  0.203585 | 0.044625  | -0.15896     |\n",
      "|    49 | IPicCnt                      | IPCNT           |  0.206246 | 0.0464728 | -0.159774    |\n",
      "|    41 | ICBRecallWordWordCnt         | ICBRWWCNT       |  0.205702 | 0.0442703 | -0.161431    |\n",
      "|    23 | DPageTimeSpan                | DPTCT           |  0.213978 | 0.0523699 | -0.161609    |\n",
      "|    46 | ICFRecallWordQuality         | ICFRWQUALS      |  0.20619  | 0.0443842 | -0.161805    |\n",
      "|    15 | CRecallWordArtIdQuality      | CRWATIDQUALS    |  0.205536 | 0.0436309 | -0.161905    |\n",
      "|    69 | MInterestArtQualityTag       | MITATQUALSTG    |  0.207313 | 0.0451751 | -0.162138    |\n",
      "|    75 | MInterestArtWordCntTag       | MITATWCNTTG     |  0.208375 | 0.0462014 | -0.162173    |\n",
      "|    56 | MInterestArtDurTag           | MITATDURTG      |  0.207083 | 0.0447898 | -0.162293    |\n",
      "|    55 | MInterestArtDurKw            | MITATDURKW      |  0.20724  | 0.0446043 | -0.162635    |\n",
      "|    12 | CRecallWordArtIdDur          | CRWATIDDUR      |  0.207073 | 0.0441909 | -0.162882    |\n",
      "|    76 | MInterestArtWordCntTopic     | MITATWCNTTP     |  0.208256 | 0.0453072 | -0.162948    |\n",
      "|    57 | MInterestArtDurTopic         | MITATDURTP      |  0.206863 | 0.043903  | -0.16296     |\n",
      "|    38 | ICBRecallWordPicCnt          | ICBRWPCNT       |  0.206621 | 0.0436196 | -0.163001    |\n",
      "|    42 | ICFRecallWord                | ICFRW           |  0.207715 | 0.0445828 | -0.163132    |\n",
      "|     0 | user_emb                     | user_emb        |  0.207222 | 0.0439596 | -0.163263    |\n",
      "|     2 | history                      | history         |  0.207222 | 0.0439596 | -0.163263    |\n",
      "|     3 | time_emb                     | time_emb        |  0.207222 | 0.0439596 | -0.163263    |\n",
      "|     4 | weekday_emb                  | weekday_emb     |  0.207222 | 0.0439596 | -0.163263    |\n",
      "|     6 | product_emb                  | product_emb     |  0.207222 | 0.0439596 | -0.163263    |\n",
      "|     7 | cold_emb                     | cold_emb        |  0.207222 | 0.0439596 | -0.163263    |\n",
      "|     8 | IAge                         | AGE             |  0.207222 | 0.0439596 | -0.163263    |\n",
      "|    18 | DArtCommentCnt               | DATCMT          |  0.207222 | 0.0439596 | -0.163263    |\n",
      "|    19 | DArtCommentLikeCnt           | DATCMTLIKE      |  0.207222 | 0.0439596 | -0.163263    |\n",
      "|    20 | DArtCommentReplyCnt          | DATCMTRPY       |  0.207222 | 0.0439596 | -0.163263    |\n",
      "|    21 | DArtCtr                      | DATCTR          |  0.207222 | 0.0439596 | -0.163263    |\n",
      "|    24 | IEdu                         | EDU             |  0.207222 | 0.0439596 | -0.163263    |\n",
      "|    27 | IArtAccount                  | IATAC           |  0.207222 | 0.0439596 | -0.163263    |\n",
      "|    30 | IArtLocation                 | IATLO           |  0.207222 | 0.0439596 | -0.163263    |\n",
      "|    31 | IArtOriSig                   | IATOR           |  0.207222 | 0.0439596 | -0.163263    |\n",
      "|    32 | IArtSrc                      | IATSO           |  0.207222 | 0.0439596 | -0.163263    |\n",
      "|    34 | IArtVideoSig                 | IATVI           |  0.207222 | 0.0439596 | -0.163263    |\n",
      "|    48 | ILocation                    | ILOC            |  0.207222 | 0.0439596 | -0.163263    |\n",
      "|    50 | IPornScore                   | IPORNS          |  0.207222 | 0.0439596 | -0.163263    |\n",
      "|    77 | ISex                         | SEX             |  0.207222 | 0.0439596 | -0.163263    |\n",
      "|    83 | long_term_acc                | long_term_acc   |  0.207222 | 0.0439596 | -0.163263    |\n",
      "|    84 | long_term_kw                 | long_term_kw    |  0.207222 | 0.0439596 | -0.163263    |\n",
      "|    85 | long_term_rec                | long_term_rec   |  0.207222 | 0.0439596 | -0.163263    |\n",
      "|    86 | long_term_tag                | long_term_tag   |  0.207222 | 0.0439596 | -0.163263    |\n",
      "|    87 | long_term_topic              | long_term_topic |  0.207222 | 0.0439596 | -0.163263    |\n",
      "|    88 | long_term_total              | long_term_total |  0.207222 | 0.0439596 | -0.163263    |\n",
      "|    89 | long_term_txk                | long_term_txk   |  0.207222 | 0.0439596 | -0.163263    |\n",
      "|    90 | MSubscribeInterestArtAccount | MSUBITATAC      |  0.207222 | 0.0439596 | -0.163263    |\n",
      "|    91 | MSubscribeInterestArtKw      | MSUBITATKW      |  0.207222 | 0.0439596 | -0.163263    |\n",
      "|    92 | MSubscribeInterestArtTag     | MSUBITATTG      |  0.207222 | 0.0439596 | -0.163263    |\n",
      "|    93 | MSubscribeInterestArtTopic   | MSUBITATTP      |  0.207222 | 0.0439596 | -0.163263    |\n",
      "|    70 | MInterestArtQualityTopic     | MITATQUALSTP    |  0.207675 | 0.0443459 | -0.163329    |\n",
      "|    45 | ICFRecallWordPornScore       | ICFRWPORNS      |  0.206214 | 0.0428384 | -0.163375    |\n",
      "|    43 | ICFRecallWordDur             | ICFRWDUR        |  0.207622 | 0.0439006 | -0.163722    |\n",
      "|     9 | CAgeArtTopic                 | CAGATTP         |  0.204752 | 0.04098   | -0.163772    |\n",
      "|    40 | ICBRecallWordQuality         | ICBRWQUALS      |  0.207759 | 0.0438577 | -0.163901    |\n",
      "|    47 | ICFRecallWordWordCnt         | ICFRWWCNT       |  0.20734  | 0.0434268 | -0.163913    |\n",
      "|    54 | MInterestArtDurAccount       | MITATDURAC      |  0.20784  | 0.0437457 | -0.164094    |\n",
      "|    37 | ICBRecallWordDur             | ICBRWDUR        |  0.208192 | 0.0438582 | -0.164334    |\n",
      "|    39 | ICBRecallWordPornScore       | ICBRWPORNS      |  0.207707 | 0.0433622 | -0.164345    |\n",
      "|    25 | IFavorCnt                    | FAVORNUM        |  0.207463 | 0.0425919 | -0.164871    |\n",
      "|    62 | MInterestArtPicCntTopic      | MITATPCNTTP     |  0.20728  | 0.0420628 | -0.165217    |\n",
      "|    44 | ICFRecallWordPicCnt          | ICFRWPCNT       |  0.208911 | 0.0435812 | -0.165329    |\n",
      "|    14 | CRecallWordArtIdPornScore    | CRWATIDPORNS    |  0.208528 | 0.0430886 | -0.16544     |\n",
      "|    68 | MInterestArtQualityKw        | MITATQUALSKW    |  0.205969 | 0.0404069 | -0.165562    |\n",
      "|    16 | CRecallWordArtIdWordCnt      | CRWATIDWCNT     |  0.209527 | 0.0433887 | -0.166139    |\n",
      "|    51 | IQuality                     | IQUALS          |  0.213417 | 0.0455223 | -0.167895    |\n",
      "|    26 | IAccountId                   | IACID           |  0.219518 | 0.0515792 | -0.167938    |\n",
      "|    82 | XArtShowShare                | XATSWSA         |  0.214854 | 0.0462469 | -0.168607    |\n",
      "|    52 | IWordCnt                     | IWCNT           |  0.212753 | 0.0439183 | -0.168835    |\n",
      "|    79 | XArtClickCntShare            | XATCLSA         |  0.213903 | 0.0433687 | -0.170534    |\n",
      "|    10 | CEduArtTopic                 | CEDATTP         |  0.212948 | 0.0421383 | -0.17081     |\n",
      "|    36 | ICBRecallWord                | ICBRW           |  0.210761 | 0.0386241 | -0.172137    |\n",
      "|    74 | MInterestArtWordCntKw        | MITATWCNTKW     |  0.211011 | 0.0374265 | -0.173584    |\n",
      "|    61 | MInterestArtPicCntTag        | MITATPCNTTG     |  0.204095 | 0.0270412 | -0.177054    |\n",
      "|    22 | DArtClickCnt                 | DATRD           |  0.215916 | 0.0388073 | -0.177108    |\n",
      "|    80 | XArtShowClickCnt             | XATSWCL         |  0.216669 | 0.036616  | -0.180053    |\n",
      "|    78 | XArtClickCntFavor            | XATCLFV         |  0.220818 | 0.0387364 | -0.182082    |\n",
      "|    28 | IArtKw                       | IATKW           |  0.22016  | 0.037014  | -0.183146    |\n",
      "|    11 | CInterestArtCOTopic          | CITATCOTP       |  0.220987 | 0.0368428 | -0.184144    |\n",
      "|    33 | IArtTopic                    | IATTP           |  0.220933 | 0.03312   | -0.187813    |\n",
      "|    60 | MInterestArtPicCntKw         | MITATPCNTKW     |  0.221341 | 0.0333739 | -0.187967    |\n",
      "|     1 | doc_emb                      | doc_emb         |  0.256863 | 0.0338027 | -0.22306     |\n",
      "+-------+------------------------------+-----------------+-----------+-----------+--------------+\n"
     ]
    },
    {
     "name": "stderr",
     "output_type": "stream",
     "text": [
      "\n"
     ]
    }
   ],
   "source": [
    "l = []\n",
    "for i in tqdm(range(len(fields))):\n",
    "  x_all = x_all1_npy.copy()\n",
    "  x_all[0][i] = x_all2_npy[0][i]\n",
    "  x1['x_all'] = x_all\n",
    "  model(x1)\n",
    "  prob_click1 = model.prob_click.numpy()[0][0]\n",
    "  x_all = x_all2_npy.copy()\n",
    "  x_all[0][i] = x_all1_npy[0][i]\n",
    "  x2['x_all'] = x_all\n",
    "  model(x2)\n",
    "  prob_click2 = model.prob_click.numpy()[0][0]\n",
    "  l.append((i, fields[i], fields2[i], prob_click1, prob_click2, prob_click2 - prob_click1))\n",
    "  l.sort(key=lambda x: x[-1], reverse=True)\n",
    "gezi.pprint(pd.DataFrame(l, columns=['fid', 'field', 'ori_field', 'pclick1', 'pclick2', 'delta']))"
   ]
  }
 ],
 "metadata": {
  "kernelspec": {
   "display_name": "Python 3",
   "language": "python",
   "name": "python3"
  },
  "language_info": {
   "codemirror_mode": {
    "name": "ipython",
    "version": 3
   },
   "file_extension": ".py",
   "mimetype": "text/x-python",
   "name": "python",
   "nbconvert_exporter": "python",
   "pygments_lexer": "ipython3",
   "version": "3.6.8"
  }
 },
 "nbformat": 4,
 "nbformat_minor": 2
}
