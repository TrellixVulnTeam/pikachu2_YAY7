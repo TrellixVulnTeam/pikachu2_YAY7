{
 "cells": [
  {
   "cell_type": "code",
   "execution_count": 1,
   "metadata": {},
   "outputs": [
    {
     "data": {
      "text/html": [
       "        <script type=\"text/javascript\">\n",
       "        window.PlotlyConfig = {MathJaxConfig: 'local'};\n",
       "        if (window.MathJax) {MathJax.Hub.Config({SVG: {font: \"STIX-Web\"}});}\n",
       "        if (typeof require !== 'undefined') {\n",
       "        require.undef(\"plotly\");\n",
       "        requirejs.config({\n",
       "            paths: {\n",
       "                'plotly': ['https://cdn.plot.ly/plotly-latest.min']\n",
       "            }\n",
       "        });\n",
       "        require(['plotly'], function(Plotly) {\n",
       "            window._Plotly = Plotly;\n",
       "        });\n",
       "        }\n",
       "        </script>\n",
       "        "
      ]
     },
     "metadata": {},
     "output_type": "display_data"
    }
   ],
   "source": [
    "import os\n",
    "import glob\n",
    "import time\n",
    "from datetime import timedelta, datetime\n",
    "import numpy as np\n",
    "import pandas as pd\n",
    "\n",
    "from plotly.graph_objs import Scatter,Layout\n",
    "import plotly\n",
    "import plotly.offline as py\n",
    "import plotly.graph_objs as go\n",
    "from plotly.subplots import make_subplots\n",
    "\n",
    "#setting offilne\n",
    "plotly.offline.init_notebook_mode(connected=True)\n",
    "import gezi\n",
    "\n",
    "from projects.feed.rank.monitor.taurus import Taurus"
   ]
  },
  {
   "cell_type": "code",
   "execution_count": 2,
   "metadata": {},
   "outputs": [
    {
     "data": {
      "text/html": [
       "<style>\n",
       ".output_wrapper, .output {\n",
       "    height:auto !important;\n",
       "    max-height:10000px;  /* your desired max-height here */\n",
       "}\n",
       ".output_scroll {\n",
       "    box-shadow:none !important;\n",
       "    webkit-box-shadow:none !important;\n",
       "}\n",
       "</style>"
      ],
      "text/plain": [
       "<IPython.core.display.HTML object>"
      ]
     },
     "metadata": {},
     "output_type": "display_data"
    }
   ],
   "source": [
    "%%html\n",
    "<style>\n",
    ".output_wrapper, .output {\n",
    "    height:auto !important;\n",
    "    max-height:10000px;  /* your desired max-height here */\n",
    "}\n",
    ".output_scroll {\n",
    "    box-shadow:none !important;\n",
    "    webkit-box-shadow:none !important;\n",
    "}\n",
    "</style>"
   ]
  },
  {
   "cell_type": "code",
   "execution_count": 3,
   "metadata": {},
   "outputs": [],
   "source": [
    "last_days = 15\n",
    "start_time = None\n",
    "end_time = None\n",
    "# start_time = 20191210\n",
    "# end_time = 20191220\n",
    "abids = [8,15,16]\n",
    "# abids = [16, 8]\n",
    "# abids = [8]\n",
    "abids = [16, 8]\n",
    "# abids = [8]\n",
    "# abids = [7]\n",
    "product = 'sgsapp'\n",
    "# product = 'newmse'\n",
    "\n",
    "diff_spans = {\n",
    "    8: [20191115, 20191121],\n",
    "    15: [20191113, 20191118],\n",
    "    16: [20191104, 20191110],\n",
    "    7: [20191230, 20200105],\n",
    "    9: [20191230, 20200105],\n",
    "}     \n",
    "\n",
    "diff_spans = None"
   ]
  },
  {
   "cell_type": "code",
   "execution_count": 4,
   "metadata": {},
   "outputs": [
    {
     "name": "stderr",
     "output_type": "stream",
     "text": [
      "SELECT * FROM feed_abtest_video_type_common_daily \n",
      "                WHERE product = 'sgsapp'\n",
      "                AND abtest in ('5','6','8','4','16') \n",
      "                AND date BETWEEN '20191231' AND '20200116'\n",
      "                AND video_type not in ('-1', 'NULL')\n",
      "          \n",
      "0.7238712310791016\n"
     ]
    }
   ],
   "source": [
    "worker_daily = Taurus()\n",
    "w = worker_daily\n",
    "worker_daily.init(abids, last_days, 'daily', product=product,\n",
    "            diff_spans=diff_spans, start_time=start_time, end_time=end_time)\n",
    "worker_daily.run()\n",
    "# for name 1(tuwen,video,small_video,total) 2(quality,total) 3(recommend,relative,total)\n",
    "def show_daily(name, use_diff=True, quality=False, field=None):\n",
    "  worker_daily.show(name, quality, field, use_diff=True)"
   ]
  },
  {
   "cell_type": "code",
   "execution_count": 5,
   "metadata": {},
   "outputs": [
    {
     "data": {
      "text/html": [
       "<div>\n",
       "<style scoped>\n",
       "    .dataframe tbody tr th:only-of-type {\n",
       "        vertical-align: middle;\n",
       "    }\n",
       "\n",
       "    .dataframe tbody tr th {\n",
       "        vertical-align: top;\n",
       "    }\n",
       "\n",
       "    .dataframe thead th {\n",
       "        text-align: right;\n",
       "    }\n",
       "</style>\n",
       "<table border=\"1\" class=\"dataframe\">\n",
       "  <thead>\n",
       "    <tr style=\"text-align: right;\">\n",
       "      <th></th>\n",
       "      <th>product_name</th>\n",
       "      <th>date</th>\n",
       "      <th>name</th>\n",
       "      <th>data_obj</th>\n",
       "      <th>abtest</th>\n",
       "      <th>id</th>\n",
       "      <th>dis</th>\n",
       "      <th>dis_user</th>\n",
       "      <th>refresh_times</th>\n",
       "      <th>real_dis</th>\n",
       "      <th>...</th>\n",
       "      <th>ctr</th>\n",
       "      <th>real_ctr</th>\n",
       "      <th>read_ratio</th>\n",
       "      <th>dur1</th>\n",
       "      <th>dur2</th>\n",
       "      <th>finish_ratio</th>\n",
       "      <th>read_files</th>\n",
       "      <th>doc_dur</th>\n",
       "      <th>refresh</th>\n",
       "      <th>refresh2</th>\n",
       "    </tr>\n",
       "  </thead>\n",
       "  <tbody>\n",
       "    <tr>\n",
       "      <th>0</th>\n",
       "      <td>sgsapp</td>\n",
       "      <td>20191231</td>\n",
       "      <td>small_video</td>\n",
       "      <td>quality_recommend</td>\n",
       "      <td>8</td>\n",
       "      <td>51414</td>\n",
       "      <td>531424.0</td>\n",
       "      <td>20275.0</td>\n",
       "      <td>32.0</td>\n",
       "      <td>22133.0</td>\n",
       "      <td>...</td>\n",
       "      <td>0.012833</td>\n",
       "      <td>0.308137</td>\n",
       "      <td>0.058594</td>\n",
       "      <td>0.091995</td>\n",
       "      <td>1.570034</td>\n",
       "      <td>0.668475</td>\n",
       "      <td>0.336375</td>\n",
       "      <td>0.273490</td>\n",
       "      <td>0.001578</td>\n",
       "      <td>0.026936</td>\n",
       "    </tr>\n",
       "    <tr>\n",
       "      <th>1</th>\n",
       "      <td>sgsapp</td>\n",
       "      <td>20191231</td>\n",
       "      <td>small_video</td>\n",
       "      <td>quality_recommend</td>\n",
       "      <td>16</td>\n",
       "      <td>51698</td>\n",
       "      <td>533061.0</td>\n",
       "      <td>20254.0</td>\n",
       "      <td>43.0</td>\n",
       "      <td>22209.0</td>\n",
       "      <td>...</td>\n",
       "      <td>0.013197</td>\n",
       "      <td>0.316763</td>\n",
       "      <td>0.058902</td>\n",
       "      <td>0.093411</td>\n",
       "      <td>1.585876</td>\n",
       "      <td>0.672440</td>\n",
       "      <td>0.347339</td>\n",
       "      <td>0.268934</td>\n",
       "      <td>0.002123</td>\n",
       "      <td>0.036044</td>\n",
       "    </tr>\n",
       "    <tr>\n",
       "      <th>2</th>\n",
       "      <td>sgsapp</td>\n",
       "      <td>20191231</td>\n",
       "      <td>small_video</td>\n",
       "      <td>quality_relative</td>\n",
       "      <td>8</td>\n",
       "      <td>52054</td>\n",
       "      <td>57108.0</td>\n",
       "      <td>1241.0</td>\n",
       "      <td>1.0</td>\n",
       "      <td>1.0</td>\n",
       "      <td>...</td>\n",
       "      <td>0.670379</td>\n",
       "      <td>38284.000000</td>\n",
       "      <td>0.843674</td>\n",
       "      <td>6.414921</td>\n",
       "      <td>7.603550</td>\n",
       "      <td>0.476642</td>\n",
       "      <td>30.849315</td>\n",
       "      <td>0.207944</td>\n",
       "      <td>0.000806</td>\n",
       "      <td>0.000955</td>\n",
       "    </tr>\n",
       "    <tr>\n",
       "      <th>3</th>\n",
       "      <td>sgsapp</td>\n",
       "      <td>20191231</td>\n",
       "      <td>small_video</td>\n",
       "      <td>quality_relative</td>\n",
       "      <td>16</td>\n",
       "      <td>52338</td>\n",
       "      <td>61182.0</td>\n",
       "      <td>1269.0</td>\n",
       "      <td>1.0</td>\n",
       "      <td>1.0</td>\n",
       "      <td>...</td>\n",
       "      <td>0.683796</td>\n",
       "      <td>41836.000000</td>\n",
       "      <td>0.855004</td>\n",
       "      <td>6.620567</td>\n",
       "      <td>7.743318</td>\n",
       "      <td>0.477963</td>\n",
       "      <td>32.967691</td>\n",
       "      <td>0.200820</td>\n",
       "      <td>0.000788</td>\n",
       "      <td>0.000922</td>\n",
       "    </tr>\n",
       "    <tr>\n",
       "      <th>4</th>\n",
       "      <td>sgsapp</td>\n",
       "      <td>20191231</td>\n",
       "      <td>small_video</td>\n",
       "      <td>quality_total</td>\n",
       "      <td>8</td>\n",
       "      <td>50650</td>\n",
       "      <td>595097.0</td>\n",
       "      <td>20347.0</td>\n",
       "      <td>819.0</td>\n",
       "      <td>22136.0</td>\n",
       "      <td>...</td>\n",
       "      <td>0.077051</td>\n",
       "      <td>2.071422</td>\n",
       "      <td>0.059272</td>\n",
       "      <td>0.487358</td>\n",
       "      <td>8.222443</td>\n",
       "      <td>0.506527</td>\n",
       "      <td>2.253551</td>\n",
       "      <td>0.216262</td>\n",
       "      <td>0.040252</td>\n",
       "      <td>0.679104</td>\n",
       "    </tr>\n",
       "    <tr>\n",
       "      <th>...</th>\n",
       "      <td>...</td>\n",
       "      <td>...</td>\n",
       "      <td>...</td>\n",
       "      <td>...</td>\n",
       "      <td>...</td>\n",
       "      <td>...</td>\n",
       "      <td>...</td>\n",
       "      <td>...</td>\n",
       "      <td>...</td>\n",
       "      <td>...</td>\n",
       "      <td>...</td>\n",
       "      <td>...</td>\n",
       "      <td>...</td>\n",
       "      <td>...</td>\n",
       "      <td>...</td>\n",
       "      <td>...</td>\n",
       "      <td>...</td>\n",
       "      <td>...</td>\n",
       "      <td>...</td>\n",
       "      <td>...</td>\n",
       "      <td>...</td>\n",
       "    </tr>\n",
       "    <tr>\n",
       "      <th>715</th>\n",
       "      <td>sgsapp</td>\n",
       "      <td>20200114</td>\n",
       "      <td>video</td>\n",
       "      <td>total_recommend</td>\n",
       "      <td>16</td>\n",
       "      <td>603590</td>\n",
       "      <td>2348049.0</td>\n",
       "      <td>134300.0</td>\n",
       "      <td>69013.0</td>\n",
       "      <td>560463.0</td>\n",
       "      <td>...</td>\n",
       "      <td>0.025222</td>\n",
       "      <td>0.105666</td>\n",
       "      <td>0.111966</td>\n",
       "      <td>0.944432</td>\n",
       "      <td>8.435008</td>\n",
       "      <td>0.108513</td>\n",
       "      <td>0.440968</td>\n",
       "      <td>2.141725</td>\n",
       "      <td>0.513872</td>\n",
       "      <td>4.589546</td>\n",
       "    </tr>\n",
       "    <tr>\n",
       "      <th>716</th>\n",
       "      <td>sgsapp</td>\n",
       "      <td>20200114</td>\n",
       "      <td>video</td>\n",
       "      <td>total_relative</td>\n",
       "      <td>8</td>\n",
       "      <td>613122</td>\n",
       "      <td>2660750.0</td>\n",
       "      <td>39752.0</td>\n",
       "      <td>1.0</td>\n",
       "      <td>396.0</td>\n",
       "      <td>...</td>\n",
       "      <td>0.098538</td>\n",
       "      <td>662.083333</td>\n",
       "      <td>0.273471</td>\n",
       "      <td>5.009122</td>\n",
       "      <td>18.316864</td>\n",
       "      <td>0.130535</td>\n",
       "      <td>6.595517</td>\n",
       "      <td>0.759474</td>\n",
       "      <td>0.000025</td>\n",
       "      <td>0.000092</td>\n",
       "    </tr>\n",
       "    <tr>\n",
       "      <th>717</th>\n",
       "      <td>sgsapp</td>\n",
       "      <td>20200114</td>\n",
       "      <td>video</td>\n",
       "      <td>total_relative</td>\n",
       "      <td>16</td>\n",
       "      <td>611422</td>\n",
       "      <td>2741564.0</td>\n",
       "      <td>39877.0</td>\n",
       "      <td>1.0</td>\n",
       "      <td>915.0</td>\n",
       "      <td>...</td>\n",
       "      <td>0.101724</td>\n",
       "      <td>304.789071</td>\n",
       "      <td>0.276601</td>\n",
       "      <td>5.210581</td>\n",
       "      <td>18.837927</td>\n",
       "      <td>0.128097</td>\n",
       "      <td>6.993555</td>\n",
       "      <td>0.745055</td>\n",
       "      <td>0.000025</td>\n",
       "      <td>0.000091</td>\n",
       "    </tr>\n",
       "    <tr>\n",
       "      <th>718</th>\n",
       "      <td>sgsapp</td>\n",
       "      <td>20200114</td>\n",
       "      <td>video</td>\n",
       "      <td>total_total</td>\n",
       "      <td>8</td>\n",
       "      <td>597288</td>\n",
       "      <td>5140673.0</td>\n",
       "      <td>135803.0</td>\n",
       "      <td>80396.0</td>\n",
       "      <td>652830.0</td>\n",
       "      <td>...</td>\n",
       "      <td>0.064478</td>\n",
       "      <td>0.507725</td>\n",
       "      <td>0.124401</td>\n",
       "      <td>2.496447</td>\n",
       "      <td>20.067774</td>\n",
       "      <td>0.127593</td>\n",
       "      <td>2.440727</td>\n",
       "      <td>1.022829</td>\n",
       "      <td>0.592005</td>\n",
       "      <td>4.758849</td>\n",
       "    </tr>\n",
       "    <tr>\n",
       "      <th>719</th>\n",
       "      <td>sgsapp</td>\n",
       "      <td>20200114</td>\n",
       "      <td>video</td>\n",
       "      <td>total_total</td>\n",
       "      <td>16</td>\n",
       "      <td>595236</td>\n",
       "      <td>5202895.0</td>\n",
       "      <td>135484.0</td>\n",
       "      <td>80553.0</td>\n",
       "      <td>639013.0</td>\n",
       "      <td>...</td>\n",
       "      <td>0.066425</td>\n",
       "      <td>0.540839</td>\n",
       "      <td>0.124723</td>\n",
       "      <td>2.559371</td>\n",
       "      <td>20.520409</td>\n",
       "      <td>0.125360</td>\n",
       "      <td>2.550877</td>\n",
       "      <td>1.003330</td>\n",
       "      <td>0.594557</td>\n",
       "      <td>4.767014</td>\n",
       "    </tr>\n",
       "  </tbody>\n",
       "</table>\n",
       "<p>720 rows × 33 columns</p>\n",
       "</div>"
      ],
      "text/plain": [
       "    product_name      date         name           data_obj  abtest      id  \\\n",
       "0         sgsapp  20191231  small_video  quality_recommend       8   51414   \n",
       "1         sgsapp  20191231  small_video  quality_recommend      16   51698   \n",
       "2         sgsapp  20191231  small_video   quality_relative       8   52054   \n",
       "3         sgsapp  20191231  small_video   quality_relative      16   52338   \n",
       "4         sgsapp  20191231  small_video      quality_total       8   50650   \n",
       "..           ...       ...          ...                ...     ...     ...   \n",
       "715       sgsapp  20200114        video    total_recommend      16  603590   \n",
       "716       sgsapp  20200114        video     total_relative       8  613122   \n",
       "717       sgsapp  20200114        video     total_relative      16  611422   \n",
       "718       sgsapp  20200114        video        total_total       8  597288   \n",
       "719       sgsapp  20200114        video        total_total      16  595236   \n",
       "\n",
       "           dis  dis_user  refresh_times  real_dis  ...       ctr  \\\n",
       "0     531424.0   20275.0           32.0   22133.0  ...  0.012833   \n",
       "1     533061.0   20254.0           43.0   22209.0  ...  0.013197   \n",
       "2      57108.0    1241.0            1.0       1.0  ...  0.670379   \n",
       "3      61182.0    1269.0            1.0       1.0  ...  0.683796   \n",
       "4     595097.0   20347.0          819.0   22136.0  ...  0.077051   \n",
       "..         ...       ...            ...       ...  ...       ...   \n",
       "715  2348049.0  134300.0        69013.0  560463.0  ...  0.025222   \n",
       "716  2660750.0   39752.0            1.0     396.0  ...  0.098538   \n",
       "717  2741564.0   39877.0            1.0     915.0  ...  0.101724   \n",
       "718  5140673.0  135803.0        80396.0  652830.0  ...  0.064478   \n",
       "719  5202895.0  135484.0        80553.0  639013.0  ...  0.066425   \n",
       "\n",
       "         real_ctr  read_ratio      dur1       dur2  finish_ratio  read_files  \\\n",
       "0        0.308137    0.058594  0.091995   1.570034      0.668475    0.336375   \n",
       "1        0.316763    0.058902  0.093411   1.585876      0.672440    0.347339   \n",
       "2    38284.000000    0.843674  6.414921   7.603550      0.476642   30.849315   \n",
       "3    41836.000000    0.855004  6.620567   7.743318      0.477963   32.967691   \n",
       "4        2.071422    0.059272  0.487358   8.222443      0.506527    2.253551   \n",
       "..            ...         ...       ...        ...           ...         ...   \n",
       "715      0.105666    0.111966  0.944432   8.435008      0.108513    0.440968   \n",
       "716    662.083333    0.273471  5.009122  18.316864      0.130535    6.595517   \n",
       "717    304.789071    0.276601  5.210581  18.837927      0.128097    6.993555   \n",
       "718      0.507725    0.124401  2.496447  20.067774      0.127593    2.440727   \n",
       "719      0.540839    0.124723  2.559371  20.520409      0.125360    2.550877   \n",
       "\n",
       "      doc_dur   refresh  refresh2  \n",
       "0    0.273490  0.001578  0.026936  \n",
       "1    0.268934  0.002123  0.036044  \n",
       "2    0.207944  0.000806  0.000955  \n",
       "3    0.200820  0.000788  0.000922  \n",
       "4    0.216262  0.040252  0.679104  \n",
       "..        ...       ...       ...  \n",
       "715  2.141725  0.513872  4.589546  \n",
       "716  0.759474  0.000025  0.000092  \n",
       "717  0.745055  0.000025  0.000091  \n",
       "718  1.022829  0.592005  4.758849  \n",
       "719  1.003330  0.594557  4.767014  \n",
       "\n",
       "[720 rows x 33 columns]"
      ]
     },
     "execution_count": 5,
     "metadata": {},
     "output_type": "execute_result"
    }
   ],
   "source": [
    "w.df"
   ]
  },
  {
   "cell_type": "code",
   "execution_count": 6,
   "metadata": {},
   "outputs": [
    {
     "data": {
      "text/html": [
       "<div>\n",
       "<style scoped>\n",
       "    .dataframe tbody tr th:only-of-type {\n",
       "        vertical-align: middle;\n",
       "    }\n",
       "\n",
       "    .dataframe tbody tr th {\n",
       "        vertical-align: top;\n",
       "    }\n",
       "\n",
       "    .dataframe thead th {\n",
       "        text-align: right;\n",
       "    }\n",
       "</style>\n",
       "<table border=\"1\" class=\"dataframe\">\n",
       "  <thead>\n",
       "    <tr style=\"text-align: right;\">\n",
       "      <th></th>\n",
       "      <th>product_name</th>\n",
       "      <th>date</th>\n",
       "      <th>name</th>\n",
       "      <th>data_obj</th>\n",
       "      <th>abtest</th>\n",
       "      <th>id</th>\n",
       "      <th>dis</th>\n",
       "      <th>dis_user</th>\n",
       "      <th>refresh_times</th>\n",
       "      <th>real_dis</th>\n",
       "      <th>...</th>\n",
       "      <th>ctr</th>\n",
       "      <th>real_ctr</th>\n",
       "      <th>read_ratio</th>\n",
       "      <th>dur1</th>\n",
       "      <th>dur2</th>\n",
       "      <th>finish_ratio</th>\n",
       "      <th>read_files</th>\n",
       "      <th>doc_dur</th>\n",
       "      <th>refresh</th>\n",
       "      <th>refresh2</th>\n",
       "    </tr>\n",
       "  </thead>\n",
       "  <tbody>\n",
       "    <tr>\n",
       "      <th>0</th>\n",
       "      <td>sgsapp</td>\n",
       "      <td>20191231</td>\n",
       "      <td>small_video</td>\n",
       "      <td>quality_recommend</td>\n",
       "      <td>5.0</td>\n",
       "      <td>51634.000000</td>\n",
       "      <td>5.404647e+05</td>\n",
       "      <td>20420.333333</td>\n",
       "      <td>35.000000</td>\n",
       "      <td>22804.000000</td>\n",
       "      <td>...</td>\n",
       "      <td>0.013382</td>\n",
       "      <td>0.316858</td>\n",
       "      <td>0.060090</td>\n",
       "      <td>0.095125</td>\n",
       "      <td>1.582390</td>\n",
       "      <td>0.665600</td>\n",
       "      <td>0.354442</td>\n",
       "      <td>0.268687</td>\n",
       "      <td>0.001715</td>\n",
       "      <td>0.028546</td>\n",
       "    </tr>\n",
       "    <tr>\n",
       "      <th>1</th>\n",
       "      <td>sgsapp</td>\n",
       "      <td>20191231</td>\n",
       "      <td>small_video</td>\n",
       "      <td>quality_relative</td>\n",
       "      <td>5.0</td>\n",
       "      <td>52275.333333</td>\n",
       "      <td>6.067367e+04</td>\n",
       "      <td>1295.000000</td>\n",
       "      <td>1.000000</td>\n",
       "      <td>1.000000</td>\n",
       "      <td>...</td>\n",
       "      <td>0.669290</td>\n",
       "      <td>40582.666667</td>\n",
       "      <td>0.834969</td>\n",
       "      <td>6.427959</td>\n",
       "      <td>7.696499</td>\n",
       "      <td>0.476656</td>\n",
       "      <td>31.331026</td>\n",
       "      <td>0.205106</td>\n",
       "      <td>0.000772</td>\n",
       "      <td>0.000925</td>\n",
       "    </tr>\n",
       "    <tr>\n",
       "      <th>2</th>\n",
       "      <td>sgsapp</td>\n",
       "      <td>20191231</td>\n",
       "      <td>small_video</td>\n",
       "      <td>quality_total</td>\n",
       "      <td>5.0</td>\n",
       "      <td>50928.000000</td>\n",
       "      <td>6.063573e+05</td>\n",
       "      <td>20486.000000</td>\n",
       "      <td>702.666667</td>\n",
       "      <td>22809.333333</td>\n",
       "      <td>...</td>\n",
       "      <td>0.080302</td>\n",
       "      <td>2.135846</td>\n",
       "      <td>0.061199</td>\n",
       "      <td>0.508157</td>\n",
       "      <td>8.297921</td>\n",
       "      <td>0.508270</td>\n",
       "      <td>2.377961</td>\n",
       "      <td>0.213740</td>\n",
       "      <td>0.034320</td>\n",
       "      <td>0.560143</td>\n",
       "    </tr>\n",
       "    <tr>\n",
       "      <th>3</th>\n",
       "      <td>sgsapp</td>\n",
       "      <td>20191231</td>\n",
       "      <td>small_video</td>\n",
       "      <td>total_recommend</td>\n",
       "      <td>5.0</td>\n",
       "      <td>82314.666667</td>\n",
       "      <td>9.481483e+05</td>\n",
       "      <td>36728.666667</td>\n",
       "      <td>42.666667</td>\n",
       "      <td>47565.000000</td>\n",
       "      <td>...</td>\n",
       "      <td>0.010918</td>\n",
       "      <td>0.217576</td>\n",
       "      <td>0.050259</td>\n",
       "      <td>0.076117</td>\n",
       "      <td>1.513538</td>\n",
       "      <td>0.668474</td>\n",
       "      <td>0.281966</td>\n",
       "      <td>0.269854</td>\n",
       "      <td>0.001162</td>\n",
       "      <td>0.023148</td>\n",
       "    </tr>\n",
       "    <tr>\n",
       "      <th>4</th>\n",
       "      <td>sgsapp</td>\n",
       "      <td>20191231</td>\n",
       "      <td>small_video</td>\n",
       "      <td>total_relative</td>\n",
       "      <td>5.0</td>\n",
       "      <td>91350.000000</td>\n",
       "      <td>9.103667e+04</td>\n",
       "      <td>1946.333333</td>\n",
       "      <td>1.000000</td>\n",
       "      <td>1.000000</td>\n",
       "      <td>...</td>\n",
       "      <td>0.695294</td>\n",
       "      <td>63316.000000</td>\n",
       "      <td>0.825268</td>\n",
       "      <td>6.647425</td>\n",
       "      <td>8.054042</td>\n",
       "      <td>0.469186</td>\n",
       "      <td>32.551804</td>\n",
       "      <td>0.204244</td>\n",
       "      <td>0.000514</td>\n",
       "      <td>0.000623</td>\n",
       "    </tr>\n",
       "    <tr>\n",
       "      <th>...</th>\n",
       "      <td>...</td>\n",
       "      <td>...</td>\n",
       "      <td>...</td>\n",
       "      <td>...</td>\n",
       "      <td>...</td>\n",
       "      <td>...</td>\n",
       "      <td>...</td>\n",
       "      <td>...</td>\n",
       "      <td>...</td>\n",
       "      <td>...</td>\n",
       "      <td>...</td>\n",
       "      <td>...</td>\n",
       "      <td>...</td>\n",
       "      <td>...</td>\n",
       "      <td>...</td>\n",
       "      <td>...</td>\n",
       "      <td>...</td>\n",
       "      <td>...</td>\n",
       "      <td>...</td>\n",
       "      <td>...</td>\n",
       "      <td>...</td>\n",
       "    </tr>\n",
       "    <tr>\n",
       "      <th>355</th>\n",
       "      <td>sgsapp</td>\n",
       "      <td>20200114</td>\n",
       "      <td>video</td>\n",
       "      <td>quality_relative</td>\n",
       "      <td>5.0</td>\n",
       "      <td>313076.666667</td>\n",
       "      <td>2.039678e+06</td>\n",
       "      <td>25010.666667</td>\n",
       "      <td>1.000000</td>\n",
       "      <td>1.000000</td>\n",
       "      <td>...</td>\n",
       "      <td>0.122340</td>\n",
       "      <td>249549.333333</td>\n",
       "      <td>0.327273</td>\n",
       "      <td>6.633137</td>\n",
       "      <td>20.269656</td>\n",
       "      <td>0.104642</td>\n",
       "      <td>9.978744</td>\n",
       "      <td>0.665107</td>\n",
       "      <td>0.000040</td>\n",
       "      <td>0.000122</td>\n",
       "    </tr>\n",
       "    <tr>\n",
       "      <th>356</th>\n",
       "      <td>sgsapp</td>\n",
       "      <td>20200114</td>\n",
       "      <td>video</td>\n",
       "      <td>quality_total</td>\n",
       "      <td>5.0</td>\n",
       "      <td>311729.333333</td>\n",
       "      <td>3.292289e+06</td>\n",
       "      <td>52585.333333</td>\n",
       "      <td>35484.666667</td>\n",
       "      <td>312105.666667</td>\n",
       "      <td>...</td>\n",
       "      <td>0.087732</td>\n",
       "      <td>0.925457</td>\n",
       "      <td>0.190854</td>\n",
       "      <td>4.539874</td>\n",
       "      <td>23.787783</td>\n",
       "      <td>0.092107</td>\n",
       "      <td>5.493602</td>\n",
       "      <td>0.826742</td>\n",
       "      <td>0.674901</td>\n",
       "      <td>3.536078</td>\n",
       "    </tr>\n",
       "    <tr>\n",
       "      <th>357</th>\n",
       "      <td>sgsapp</td>\n",
       "      <td>20200114</td>\n",
       "      <td>video</td>\n",
       "      <td>total_recommend</td>\n",
       "      <td>5.0</td>\n",
       "      <td>604886.000000</td>\n",
       "      <td>2.361035e+06</td>\n",
       "      <td>134799.333333</td>\n",
       "      <td>65378.000000</td>\n",
       "      <td>566081.666667</td>\n",
       "      <td>...</td>\n",
       "      <td>0.026338</td>\n",
       "      <td>0.109857</td>\n",
       "      <td>0.114516</td>\n",
       "      <td>0.947842</td>\n",
       "      <td>8.277130</td>\n",
       "      <td>0.111533</td>\n",
       "      <td>0.461327</td>\n",
       "      <td>2.054800</td>\n",
       "      <td>0.485011</td>\n",
       "      <td>4.235342</td>\n",
       "    </tr>\n",
       "    <tr>\n",
       "      <th>358</th>\n",
       "      <td>sgsapp</td>\n",
       "      <td>20200114</td>\n",
       "      <td>video</td>\n",
       "      <td>total_relative</td>\n",
       "      <td>5.0</td>\n",
       "      <td>612519.333333</td>\n",
       "      <td>2.868268e+06</td>\n",
       "      <td>40697.333333</td>\n",
       "      <td>1.000000</td>\n",
       "      <td>680.666667</td>\n",
       "      <td>...</td>\n",
       "      <td>0.096445</td>\n",
       "      <td>430.008759</td>\n",
       "      <td>0.277695</td>\n",
       "      <td>4.988034</td>\n",
       "      <td>17.962972</td>\n",
       "      <td>0.127171</td>\n",
       "      <td>6.798043</td>\n",
       "      <td>0.734204</td>\n",
       "      <td>0.000025</td>\n",
       "      <td>0.000088</td>\n",
       "    </tr>\n",
       "    <tr>\n",
       "      <th>359</th>\n",
       "      <td>sgsapp</td>\n",
       "      <td>20200114</td>\n",
       "      <td>video</td>\n",
       "      <td>total_total</td>\n",
       "      <td>5.0</td>\n",
       "      <td>596534.666667</td>\n",
       "      <td>5.346513e+06</td>\n",
       "      <td>135975.333333</td>\n",
       "      <td>77356.333333</td>\n",
       "      <td>646673.666667</td>\n",
       "      <td>...</td>\n",
       "      <td>0.064742</td>\n",
       "      <td>0.535274</td>\n",
       "      <td>0.127610</td>\n",
       "      <td>2.521707</td>\n",
       "      <td>19.761078</td>\n",
       "      <td>0.125743</td>\n",
       "      <td>2.545830</td>\n",
       "      <td>0.990970</td>\n",
       "      <td>0.568918</td>\n",
       "      <td>4.458248</td>\n",
       "    </tr>\n",
       "  </tbody>\n",
       "</table>\n",
       "<p>360 rows × 33 columns</p>\n",
       "</div>"
      ],
      "text/plain": [
       "    product_name      date         name           data_obj  abtest  \\\n",
       "0         sgsapp  20191231  small_video  quality_recommend     5.0   \n",
       "1         sgsapp  20191231  small_video   quality_relative     5.0   \n",
       "2         sgsapp  20191231  small_video      quality_total     5.0   \n",
       "3         sgsapp  20191231  small_video    total_recommend     5.0   \n",
       "4         sgsapp  20191231  small_video     total_relative     5.0   \n",
       "..           ...       ...          ...                ...     ...   \n",
       "355       sgsapp  20200114        video   quality_relative     5.0   \n",
       "356       sgsapp  20200114        video      quality_total     5.0   \n",
       "357       sgsapp  20200114        video    total_recommend     5.0   \n",
       "358       sgsapp  20200114        video     total_relative     5.0   \n",
       "359       sgsapp  20200114        video        total_total     5.0   \n",
       "\n",
       "                id           dis       dis_user  refresh_times       real_dis  \\\n",
       "0     51634.000000  5.404647e+05   20420.333333      35.000000   22804.000000   \n",
       "1     52275.333333  6.067367e+04    1295.000000       1.000000       1.000000   \n",
       "2     50928.000000  6.063573e+05   20486.000000     702.666667   22809.333333   \n",
       "3     82314.666667  9.481483e+05   36728.666667      42.666667   47565.000000   \n",
       "4     91350.000000  9.103667e+04    1946.333333       1.000000       1.000000   \n",
       "..             ...           ...            ...            ...            ...   \n",
       "355  313076.666667  2.039678e+06   25010.666667       1.000000       1.000000   \n",
       "356  311729.333333  3.292289e+06   52585.333333   35484.666667  312105.666667   \n",
       "357  604886.000000  2.361035e+06  134799.333333   65378.000000  566081.666667   \n",
       "358  612519.333333  2.868268e+06   40697.333333       1.000000     680.666667   \n",
       "359  596534.666667  5.346513e+06  135975.333333   77356.333333  646673.666667   \n",
       "\n",
       "     ...       ctr       real_ctr  read_ratio      dur1       dur2  \\\n",
       "0    ...  0.013382       0.316858    0.060090  0.095125   1.582390   \n",
       "1    ...  0.669290   40582.666667    0.834969  6.427959   7.696499   \n",
       "2    ...  0.080302       2.135846    0.061199  0.508157   8.297921   \n",
       "3    ...  0.010918       0.217576    0.050259  0.076117   1.513538   \n",
       "4    ...  0.695294   63316.000000    0.825268  6.647425   8.054042   \n",
       "..   ...       ...            ...         ...       ...        ...   \n",
       "355  ...  0.122340  249549.333333    0.327273  6.633137  20.269656   \n",
       "356  ...  0.087732       0.925457    0.190854  4.539874  23.787783   \n",
       "357  ...  0.026338       0.109857    0.114516  0.947842   8.277130   \n",
       "358  ...  0.096445     430.008759    0.277695  4.988034  17.962972   \n",
       "359  ...  0.064742       0.535274    0.127610  2.521707  19.761078   \n",
       "\n",
       "     finish_ratio  read_files   doc_dur   refresh  refresh2  \n",
       "0        0.665600    0.354442  0.268687  0.001715  0.028546  \n",
       "1        0.476656   31.331026  0.205106  0.000772  0.000925  \n",
       "2        0.508270    2.377961  0.213740  0.034320  0.560143  \n",
       "3        0.668474    0.281966  0.269854  0.001162  0.023148  \n",
       "4        0.469186   32.551804  0.204244  0.000514  0.000623  \n",
       "..            ...         ...       ...       ...       ...  \n",
       "355      0.104642    9.978744  0.665107  0.000040  0.000122  \n",
       "356      0.092107    5.493602  0.826742  0.674901  3.536078  \n",
       "357      0.111533    0.461327  2.054800  0.485011  4.235342  \n",
       "358      0.127171    6.798043  0.734204  0.000025  0.000088  \n",
       "359      0.125743    2.545830  0.990970  0.568918  4.458248  \n",
       "\n",
       "[360 rows x 33 columns]"
      ]
     },
     "execution_count": 6,
     "metadata": {},
     "output_type": "execute_result"
    }
   ],
   "source": [
    "w.base"
   ]
  },
  {
   "cell_type": "code",
   "execution_count": 7,
   "metadata": {},
   "outputs": [
    {
     "data": {
      "text/html": [
       "<div>\n",
       "<style scoped>\n",
       "    .dataframe tbody tr th:only-of-type {\n",
       "        vertical-align: middle;\n",
       "    }\n",
       "\n",
       "    .dataframe tbody tr th {\n",
       "        vertical-align: top;\n",
       "    }\n",
       "\n",
       "    .dataframe thead th {\n",
       "        text-align: right;\n",
       "    }\n",
       "</style>\n",
       "<table border=\"1\" class=\"dataframe\">\n",
       "  <thead>\n",
       "    <tr style=\"text-align: right;\">\n",
       "      <th></th>\n",
       "      <th>product_name</th>\n",
       "      <th>date</th>\n",
       "      <th>name</th>\n",
       "      <th>data_obj</th>\n",
       "      <th>abtest</th>\n",
       "      <th>id</th>\n",
       "      <th>dis</th>\n",
       "      <th>dis_user</th>\n",
       "      <th>refresh_times</th>\n",
       "      <th>real_dis</th>\n",
       "      <th>...</th>\n",
       "      <th>ctr</th>\n",
       "      <th>real_ctr</th>\n",
       "      <th>read_ratio</th>\n",
       "      <th>dur1</th>\n",
       "      <th>dur2</th>\n",
       "      <th>finish_ratio</th>\n",
       "      <th>read_files</th>\n",
       "      <th>doc_dur</th>\n",
       "      <th>refresh</th>\n",
       "      <th>refresh2</th>\n",
       "    </tr>\n",
       "  </thead>\n",
       "  <tbody>\n",
       "    <tr>\n",
       "      <th>0</th>\n",
       "      <td>sgsapp</td>\n",
       "      <td>20191231</td>\n",
       "      <td>small_video</td>\n",
       "      <td>quality_recommend</td>\n",
       "      <td>16</td>\n",
       "      <td>64.000000</td>\n",
       "      <td>-7403.666667</td>\n",
       "      <td>-166.333333</td>\n",
       "      <td>8.000000</td>\n",
       "      <td>-595.000000</td>\n",
       "      <td>...</td>\n",
       "      <td>-0.000184</td>\n",
       "      <td>-0.000095</td>\n",
       "      <td>-0.001188</td>\n",
       "      <td>-0.001714</td>\n",
       "      <td>0.003486</td>\n",
       "      <td>0.006840</td>\n",
       "      <td>-0.007103</td>\n",
       "      <td>0.000247</td>\n",
       "      <td>4.077429e-04</td>\n",
       "      <td>0.007497</td>\n",
       "    </tr>\n",
       "    <tr>\n",
       "      <th>1</th>\n",
       "      <td>sgsapp</td>\n",
       "      <td>20191231</td>\n",
       "      <td>small_video</td>\n",
       "      <td>quality_relative</td>\n",
       "      <td>16</td>\n",
       "      <td>62.666667</td>\n",
       "      <td>508.333333</td>\n",
       "      <td>-26.000000</td>\n",
       "      <td>0.000000</td>\n",
       "      <td>0.000000</td>\n",
       "      <td>...</td>\n",
       "      <td>0.014505</td>\n",
       "      <td>1253.333333</td>\n",
       "      <td>0.020035</td>\n",
       "      <td>0.192608</td>\n",
       "      <td>0.046819</td>\n",
       "      <td>0.001307</td>\n",
       "      <td>1.636665</td>\n",
       "      <td>-0.004287</td>\n",
       "      <td>1.579805e-05</td>\n",
       "      <td>-0.000003</td>\n",
       "    </tr>\n",
       "    <tr>\n",
       "      <th>2</th>\n",
       "      <td>sgsapp</td>\n",
       "      <td>20191231</td>\n",
       "      <td>small_video</td>\n",
       "      <td>quality_total</td>\n",
       "      <td>16</td>\n",
       "      <td>74.000000</td>\n",
       "      <td>-6542.333333</td>\n",
       "      <td>-143.000000</td>\n",
       "      <td>8.333333</td>\n",
       "      <td>-595.333333</td>\n",
       "      <td>...</td>\n",
       "      <td>0.002230</td>\n",
       "      <td>0.092658</td>\n",
       "      <td>-0.001129</td>\n",
       "      <td>0.003188</td>\n",
       "      <td>0.214586</td>\n",
       "      <td>0.001683</td>\n",
       "      <td>0.055505</td>\n",
       "      <td>-0.003610</td>\n",
       "      <td>6.309769e-04</td>\n",
       "      <td>0.021690</td>\n",
       "    </tr>\n",
       "    <tr>\n",
       "      <th>3</th>\n",
       "      <td>sgsapp</td>\n",
       "      <td>20191231</td>\n",
       "      <td>small_video</td>\n",
       "      <td>total_recommend</td>\n",
       "      <td>16</td>\n",
       "      <td>661.333333</td>\n",
       "      <td>-21577.333333</td>\n",
       "      <td>-448.666667</td>\n",
       "      <td>17.333333</td>\n",
       "      <td>-2388.000000</td>\n",
       "      <td>...</td>\n",
       "      <td>-0.000736</td>\n",
       "      <td>-0.008731</td>\n",
       "      <td>-0.001554</td>\n",
       "      <td>-0.006389</td>\n",
       "      <td>-0.081865</td>\n",
       "      <td>0.006003</td>\n",
       "      <td>-0.021905</td>\n",
       "      <td>-0.001728</td>\n",
       "      <td>4.917972e-04</td>\n",
       "      <td>0.010808</td>\n",
       "    </tr>\n",
       "    <tr>\n",
       "      <th>4</th>\n",
       "      <td>sgsapp</td>\n",
       "      <td>20191231</td>\n",
       "      <td>small_video</td>\n",
       "      <td>total_relative</td>\n",
       "      <td>16</td>\n",
       "      <td>-22668.000000</td>\n",
       "      <td>-3202.666667</td>\n",
       "      <td>-64.333333</td>\n",
       "      <td>0.000000</td>\n",
       "      <td>0.000000</td>\n",
       "      <td>...</td>\n",
       "      <td>0.017915</td>\n",
       "      <td>-672.000000</td>\n",
       "      <td>0.006294</td>\n",
       "      <td>-0.251977</td>\n",
       "      <td>-0.363158</td>\n",
       "      <td>-0.009688</td>\n",
       "      <td>0.734062</td>\n",
       "      <td>-0.012107</td>\n",
       "      <td>1.748400e-05</td>\n",
       "      <td>0.000016</td>\n",
       "    </tr>\n",
       "    <tr>\n",
       "      <th>...</th>\n",
       "      <td>...</td>\n",
       "      <td>...</td>\n",
       "      <td>...</td>\n",
       "      <td>...</td>\n",
       "      <td>...</td>\n",
       "      <td>...</td>\n",
       "      <td>...</td>\n",
       "      <td>...</td>\n",
       "      <td>...</td>\n",
       "      <td>...</td>\n",
       "      <td>...</td>\n",
       "      <td>...</td>\n",
       "      <td>...</td>\n",
       "      <td>...</td>\n",
       "      <td>...</td>\n",
       "      <td>...</td>\n",
       "      <td>...</td>\n",
       "      <td>...</td>\n",
       "      <td>...</td>\n",
       "      <td>...</td>\n",
       "      <td>...</td>\n",
       "    </tr>\n",
       "    <tr>\n",
       "      <th>715</th>\n",
       "      <td>sgsapp</td>\n",
       "      <td>20200114</td>\n",
       "      <td>video</td>\n",
       "      <td>quality_relative</td>\n",
       "      <td>8</td>\n",
       "      <td>227.333333</td>\n",
       "      <td>-164868.666667</td>\n",
       "      <td>-546.666667</td>\n",
       "      <td>0.000000</td>\n",
       "      <td>0.000000</td>\n",
       "      <td>...</td>\n",
       "      <td>0.003033</td>\n",
       "      <td>-14499.333333</td>\n",
       "      <td>-0.006148</td>\n",
       "      <td>0.058057</td>\n",
       "      <td>0.567078</td>\n",
       "      <td>0.005771</td>\n",
       "      <td>-0.370749</td>\n",
       "      <td>0.031312</td>\n",
       "      <td>8.893160e-07</td>\n",
       "      <td>0.000005</td>\n",
       "    </tr>\n",
       "    <tr>\n",
       "      <th>716</th>\n",
       "      <td>sgsapp</td>\n",
       "      <td>20200114</td>\n",
       "      <td>video</td>\n",
       "      <td>quality_total</td>\n",
       "      <td>8</td>\n",
       "      <td>272.666667</td>\n",
       "      <td>-163305.333333</td>\n",
       "      <td>31.666667</td>\n",
       "      <td>1968.333333</td>\n",
       "      <td>-162.666667</td>\n",
       "      <td>...</td>\n",
       "      <td>-0.000012</td>\n",
       "      <td>-0.045566</td>\n",
       "      <td>-0.006104</td>\n",
       "      <td>-0.030026</td>\n",
       "      <td>0.622741</td>\n",
       "      <td>0.004509</td>\n",
       "      <td>-0.277113</td>\n",
       "      <td>0.037795</td>\n",
       "      <td>3.690349e-02</td>\n",
       "      <td>0.316715</td>\n",
       "    </tr>\n",
       "    <tr>\n",
       "      <th>717</th>\n",
       "      <td>sgsapp</td>\n",
       "      <td>20200114</td>\n",
       "      <td>video</td>\n",
       "      <td>total_recommend</td>\n",
       "      <td>8</td>\n",
       "      <td>790.000000</td>\n",
       "      <td>6618.333333</td>\n",
       "      <td>-149.333333</td>\n",
       "      <td>3554.000000</td>\n",
       "      <td>7796.333333</td>\n",
       "      <td>...</td>\n",
       "      <td>-0.000106</td>\n",
       "      <td>-0.001630</td>\n",
       "      <td>-0.002767</td>\n",
       "      <td>0.006337</td>\n",
       "      <td>0.261463</td>\n",
       "      <td>-0.003144</td>\n",
       "      <td>-0.000064</td>\n",
       "      <td>0.013825</td>\n",
       "      <td>2.692371e-02</td>\n",
       "      <td>0.345771</td>\n",
       "    </tr>\n",
       "    <tr>\n",
       "      <th>718</th>\n",
       "      <td>sgsapp</td>\n",
       "      <td>20200114</td>\n",
       "      <td>video</td>\n",
       "      <td>total_relative</td>\n",
       "      <td>8</td>\n",
       "      <td>602.666667</td>\n",
       "      <td>-207518.000000</td>\n",
       "      <td>-945.333333</td>\n",
       "      <td>0.000000</td>\n",
       "      <td>-284.666667</td>\n",
       "      <td>...</td>\n",
       "      <td>0.002093</td>\n",
       "      <td>232.074574</td>\n",
       "      <td>-0.004225</td>\n",
       "      <td>0.021088</td>\n",
       "      <td>0.353892</td>\n",
       "      <td>0.003364</td>\n",
       "      <td>-0.202526</td>\n",
       "      <td>0.025270</td>\n",
       "      <td>5.826478e-07</td>\n",
       "      <td>0.000003</td>\n",
       "    </tr>\n",
       "    <tr>\n",
       "      <th>719</th>\n",
       "      <td>sgsapp</td>\n",
       "      <td>20200114</td>\n",
       "      <td>video</td>\n",
       "      <td>total_total</td>\n",
       "      <td>8</td>\n",
       "      <td>753.333333</td>\n",
       "      <td>-205840.333333</td>\n",
       "      <td>-172.333333</td>\n",
       "      <td>3039.666667</td>\n",
       "      <td>6156.333333</td>\n",
       "      <td>...</td>\n",
       "      <td>-0.000264</td>\n",
       "      <td>-0.027549</td>\n",
       "      <td>-0.003209</td>\n",
       "      <td>-0.025260</td>\n",
       "      <td>0.306695</td>\n",
       "      <td>0.001850</td>\n",
       "      <td>-0.105103</td>\n",
       "      <td>0.031860</td>\n",
       "      <td>2.308624e-02</td>\n",
       "      <td>0.300602</td>\n",
       "    </tr>\n",
       "  </tbody>\n",
       "</table>\n",
       "<p>720 rows × 33 columns</p>\n",
       "</div>"
      ],
      "text/plain": [
       "    product_name      date         name           data_obj  abtest  \\\n",
       "0         sgsapp  20191231  small_video  quality_recommend      16   \n",
       "1         sgsapp  20191231  small_video   quality_relative      16   \n",
       "2         sgsapp  20191231  small_video      quality_total      16   \n",
       "3         sgsapp  20191231  small_video    total_recommend      16   \n",
       "4         sgsapp  20191231  small_video     total_relative      16   \n",
       "..           ...       ...          ...                ...     ...   \n",
       "715       sgsapp  20200114        video   quality_relative       8   \n",
       "716       sgsapp  20200114        video      quality_total       8   \n",
       "717       sgsapp  20200114        video    total_recommend       8   \n",
       "718       sgsapp  20200114        video     total_relative       8   \n",
       "719       sgsapp  20200114        video        total_total       8   \n",
       "\n",
       "               id            dis    dis_user  refresh_times     real_dis  ...  \\\n",
       "0       64.000000   -7403.666667 -166.333333       8.000000  -595.000000  ...   \n",
       "1       62.666667     508.333333  -26.000000       0.000000     0.000000  ...   \n",
       "2       74.000000   -6542.333333 -143.000000       8.333333  -595.333333  ...   \n",
       "3      661.333333  -21577.333333 -448.666667      17.333333 -2388.000000  ...   \n",
       "4   -22668.000000   -3202.666667  -64.333333       0.000000     0.000000  ...   \n",
       "..            ...            ...         ...            ...          ...  ...   \n",
       "715    227.333333 -164868.666667 -546.666667       0.000000     0.000000  ...   \n",
       "716    272.666667 -163305.333333   31.666667    1968.333333  -162.666667  ...   \n",
       "717    790.000000    6618.333333 -149.333333    3554.000000  7796.333333  ...   \n",
       "718    602.666667 -207518.000000 -945.333333       0.000000  -284.666667  ...   \n",
       "719    753.333333 -205840.333333 -172.333333    3039.666667  6156.333333  ...   \n",
       "\n",
       "          ctr      real_ctr  read_ratio      dur1      dur2  finish_ratio  \\\n",
       "0   -0.000184     -0.000095   -0.001188 -0.001714  0.003486      0.006840   \n",
       "1    0.014505   1253.333333    0.020035  0.192608  0.046819      0.001307   \n",
       "2    0.002230      0.092658   -0.001129  0.003188  0.214586      0.001683   \n",
       "3   -0.000736     -0.008731   -0.001554 -0.006389 -0.081865      0.006003   \n",
       "4    0.017915   -672.000000    0.006294 -0.251977 -0.363158     -0.009688   \n",
       "..        ...           ...         ...       ...       ...           ...   \n",
       "715  0.003033 -14499.333333   -0.006148  0.058057  0.567078      0.005771   \n",
       "716 -0.000012     -0.045566   -0.006104 -0.030026  0.622741      0.004509   \n",
       "717 -0.000106     -0.001630   -0.002767  0.006337  0.261463     -0.003144   \n",
       "718  0.002093    232.074574   -0.004225  0.021088  0.353892      0.003364   \n",
       "719 -0.000264     -0.027549   -0.003209 -0.025260  0.306695      0.001850   \n",
       "\n",
       "     read_files   doc_dur       refresh  refresh2  \n",
       "0     -0.007103  0.000247  4.077429e-04  0.007497  \n",
       "1      1.636665 -0.004287  1.579805e-05 -0.000003  \n",
       "2      0.055505 -0.003610  6.309769e-04  0.021690  \n",
       "3     -0.021905 -0.001728  4.917972e-04  0.010808  \n",
       "4      0.734062 -0.012107  1.748400e-05  0.000016  \n",
       "..          ...       ...           ...       ...  \n",
       "715   -0.370749  0.031312  8.893160e-07  0.000005  \n",
       "716   -0.277113  0.037795  3.690349e-02  0.316715  \n",
       "717   -0.000064  0.013825  2.692371e-02  0.345771  \n",
       "718   -0.202526  0.025270  5.826478e-07  0.000003  \n",
       "719   -0.105103  0.031860  2.308624e-02  0.300602  \n",
       "\n",
       "[720 rows x 33 columns]"
      ]
     },
     "execution_count": 7,
     "metadata": {},
     "output_type": "execute_result"
    }
   ],
   "source": [
    "w.diff"
   ]
  },
  {
   "cell_type": "code",
   "execution_count": 8,
   "metadata": {},
   "outputs": [
    {
     "data": {
      "text/html": [
       "<div>\n",
       "<style scoped>\n",
       "    .dataframe tbody tr th:only-of-type {\n",
       "        vertical-align: middle;\n",
       "    }\n",
       "\n",
       "    .dataframe tbody tr th {\n",
       "        vertical-align: top;\n",
       "    }\n",
       "\n",
       "    .dataframe thead th {\n",
       "        text-align: right;\n",
       "    }\n",
       "</style>\n",
       "<table border=\"1\" class=\"dataframe\">\n",
       "  <thead>\n",
       "    <tr style=\"text-align: right;\">\n",
       "      <th></th>\n",
       "      <th>product_name</th>\n",
       "      <th>date</th>\n",
       "      <th>name</th>\n",
       "      <th>data_obj</th>\n",
       "      <th>abtest</th>\n",
       "      <th>id</th>\n",
       "      <th>dis</th>\n",
       "      <th>dis_user</th>\n",
       "      <th>refresh_times</th>\n",
       "      <th>real_dis</th>\n",
       "      <th>...</th>\n",
       "      <th>ctr</th>\n",
       "      <th>real_ctr</th>\n",
       "      <th>read_ratio</th>\n",
       "      <th>dur1</th>\n",
       "      <th>dur2</th>\n",
       "      <th>finish_ratio</th>\n",
       "      <th>read_files</th>\n",
       "      <th>doc_dur</th>\n",
       "      <th>refresh</th>\n",
       "      <th>refresh2</th>\n",
       "    </tr>\n",
       "  </thead>\n",
       "  <tbody>\n",
       "    <tr>\n",
       "      <th>0</th>\n",
       "      <td>sgsapp</td>\n",
       "      <td>20191231</td>\n",
       "      <td>small_video</td>\n",
       "      <td>quality_recommend</td>\n",
       "      <td>16</td>\n",
       "      <td>0.001239</td>\n",
       "      <td>-0.013699</td>\n",
       "      <td>-0.008145</td>\n",
       "      <td>0.228571</td>\n",
       "      <td>-0.026092</td>\n",
       "      <td>...</td>\n",
       "      <td>-0.013785</td>\n",
       "      <td>-0.000300</td>\n",
       "      <td>-0.019773</td>\n",
       "      <td>-0.018017</td>\n",
       "      <td>0.002203</td>\n",
       "      <td>0.010277</td>\n",
       "      <td>-0.020041</td>\n",
       "      <td>0.000921</td>\n",
       "      <td>0.237710</td>\n",
       "      <td>0.262633</td>\n",
       "    </tr>\n",
       "    <tr>\n",
       "      <th>1</th>\n",
       "      <td>sgsapp</td>\n",
       "      <td>20191231</td>\n",
       "      <td>small_video</td>\n",
       "      <td>quality_relative</td>\n",
       "      <td>16</td>\n",
       "      <td>0.001199</td>\n",
       "      <td>0.008378</td>\n",
       "      <td>-0.020077</td>\n",
       "      <td>0.000000</td>\n",
       "      <td>0.000000</td>\n",
       "      <td>...</td>\n",
       "      <td>0.021673</td>\n",
       "      <td>0.030883</td>\n",
       "      <td>0.023995</td>\n",
       "      <td>0.029964</td>\n",
       "      <td>0.006083</td>\n",
       "      <td>0.002743</td>\n",
       "      <td>0.052238</td>\n",
       "      <td>-0.020899</td>\n",
       "      <td>0.020458</td>\n",
       "      <td>-0.003589</td>\n",
       "    </tr>\n",
       "    <tr>\n",
       "      <th>2</th>\n",
       "      <td>sgsapp</td>\n",
       "      <td>20191231</td>\n",
       "      <td>small_video</td>\n",
       "      <td>quality_total</td>\n",
       "      <td>16</td>\n",
       "      <td>0.001453</td>\n",
       "      <td>-0.010790</td>\n",
       "      <td>-0.006980</td>\n",
       "      <td>0.011860</td>\n",
       "      <td>-0.026100</td>\n",
       "      <td>...</td>\n",
       "      <td>0.027766</td>\n",
       "      <td>0.043382</td>\n",
       "      <td>-0.018452</td>\n",
       "      <td>0.006273</td>\n",
       "      <td>0.025860</td>\n",
       "      <td>0.003310</td>\n",
       "      <td>0.023341</td>\n",
       "      <td>-0.016890</td>\n",
       "      <td>0.018385</td>\n",
       "      <td>0.038722</td>\n",
       "    </tr>\n",
       "    <tr>\n",
       "      <th>3</th>\n",
       "      <td>sgsapp</td>\n",
       "      <td>20191231</td>\n",
       "      <td>small_video</td>\n",
       "      <td>total_recommend</td>\n",
       "      <td>16</td>\n",
       "      <td>0.008034</td>\n",
       "      <td>-0.022757</td>\n",
       "      <td>-0.012216</td>\n",
       "      <td>0.406250</td>\n",
       "      <td>-0.050205</td>\n",
       "      <td>...</td>\n",
       "      <td>-0.067365</td>\n",
       "      <td>-0.040128</td>\n",
       "      <td>-0.030928</td>\n",
       "      <td>-0.083930</td>\n",
       "      <td>-0.054088</td>\n",
       "      <td>0.008980</td>\n",
       "      <td>-0.077687</td>\n",
       "      <td>-0.006405</td>\n",
       "      <td>0.423231</td>\n",
       "      <td>0.466925</td>\n",
       "    </tr>\n",
       "    <tr>\n",
       "      <th>4</th>\n",
       "      <td>sgsapp</td>\n",
       "      <td>20191231</td>\n",
       "      <td>small_video</td>\n",
       "      <td>total_relative</td>\n",
       "      <td>16</td>\n",
       "      <td>-0.248144</td>\n",
       "      <td>-0.035180</td>\n",
       "      <td>-0.033054</td>\n",
       "      <td>0.000000</td>\n",
       "      <td>0.000000</td>\n",
       "      <td>...</td>\n",
       "      <td>0.025766</td>\n",
       "      <td>-0.010613</td>\n",
       "      <td>0.007627</td>\n",
       "      <td>-0.037906</td>\n",
       "      <td>-0.045090</td>\n",
       "      <td>-0.020648</td>\n",
       "      <td>0.022551</td>\n",
       "      <td>-0.059277</td>\n",
       "      <td>0.034024</td>\n",
       "      <td>0.026076</td>\n",
       "    </tr>\n",
       "    <tr>\n",
       "      <th>...</th>\n",
       "      <td>...</td>\n",
       "      <td>...</td>\n",
       "      <td>...</td>\n",
       "      <td>...</td>\n",
       "      <td>...</td>\n",
       "      <td>...</td>\n",
       "      <td>...</td>\n",
       "      <td>...</td>\n",
       "      <td>...</td>\n",
       "      <td>...</td>\n",
       "      <td>...</td>\n",
       "      <td>...</td>\n",
       "      <td>...</td>\n",
       "      <td>...</td>\n",
       "      <td>...</td>\n",
       "      <td>...</td>\n",
       "      <td>...</td>\n",
       "      <td>...</td>\n",
       "      <td>...</td>\n",
       "      <td>...</td>\n",
       "      <td>...</td>\n",
       "    </tr>\n",
       "    <tr>\n",
       "      <th>715</th>\n",
       "      <td>sgsapp</td>\n",
       "      <td>20200114</td>\n",
       "      <td>video</td>\n",
       "      <td>quality_relative</td>\n",
       "      <td>8</td>\n",
       "      <td>0.000726</td>\n",
       "      <td>-0.080831</td>\n",
       "      <td>-0.021857</td>\n",
       "      <td>0.000000</td>\n",
       "      <td>0.000000</td>\n",
       "      <td>...</td>\n",
       "      <td>0.024792</td>\n",
       "      <td>-0.058102</td>\n",
       "      <td>-0.018785</td>\n",
       "      <td>0.008753</td>\n",
       "      <td>0.027977</td>\n",
       "      <td>0.055154</td>\n",
       "      <td>-0.037154</td>\n",
       "      <td>0.047079</td>\n",
       "      <td>0.022240</td>\n",
       "      <td>0.041804</td>\n",
       "    </tr>\n",
       "    <tr>\n",
       "      <th>716</th>\n",
       "      <td>sgsapp</td>\n",
       "      <td>20200114</td>\n",
       "      <td>video</td>\n",
       "      <td>quality_total</td>\n",
       "      <td>8</td>\n",
       "      <td>0.000875</td>\n",
       "      <td>-0.049602</td>\n",
       "      <td>0.000602</td>\n",
       "      <td>0.055470</td>\n",
       "      <td>-0.000521</td>\n",
       "      <td>...</td>\n",
       "      <td>-0.000131</td>\n",
       "      <td>-0.049236</td>\n",
       "      <td>-0.031984</td>\n",
       "      <td>-0.006614</td>\n",
       "      <td>0.026179</td>\n",
       "      <td>0.048949</td>\n",
       "      <td>-0.050443</td>\n",
       "      <td>0.045716</td>\n",
       "      <td>0.054680</td>\n",
       "      <td>0.089567</td>\n",
       "    </tr>\n",
       "    <tr>\n",
       "      <th>717</th>\n",
       "      <td>sgsapp</td>\n",
       "      <td>20200114</td>\n",
       "      <td>video</td>\n",
       "      <td>total_recommend</td>\n",
       "      <td>8</td>\n",
       "      <td>0.001306</td>\n",
       "      <td>0.002803</td>\n",
       "      <td>-0.001108</td>\n",
       "      <td>0.054361</td>\n",
       "      <td>0.013772</td>\n",
       "      <td>...</td>\n",
       "      <td>-0.004015</td>\n",
       "      <td>-0.014835</td>\n",
       "      <td>-0.024162</td>\n",
       "      <td>0.006686</td>\n",
       "      <td>0.031589</td>\n",
       "      <td>-0.028186</td>\n",
       "      <td>-0.000139</td>\n",
       "      <td>0.006728</td>\n",
       "      <td>0.055512</td>\n",
       "      <td>0.081639</td>\n",
       "    </tr>\n",
       "    <tr>\n",
       "      <th>718</th>\n",
       "      <td>sgsapp</td>\n",
       "      <td>20200114</td>\n",
       "      <td>video</td>\n",
       "      <td>total_relative</td>\n",
       "      <td>8</td>\n",
       "      <td>0.000984</td>\n",
       "      <td>-0.072350</td>\n",
       "      <td>-0.023228</td>\n",
       "      <td>0.000000</td>\n",
       "      <td>-0.418217</td>\n",
       "      <td>...</td>\n",
       "      <td>0.021701</td>\n",
       "      <td>0.539697</td>\n",
       "      <td>-0.015214</td>\n",
       "      <td>0.004228</td>\n",
       "      <td>0.019701</td>\n",
       "      <td>0.026454</td>\n",
       "      <td>-0.029792</td>\n",
       "      <td>0.034419</td>\n",
       "      <td>0.023711</td>\n",
       "      <td>0.039542</td>\n",
       "    </tr>\n",
       "    <tr>\n",
       "      <th>719</th>\n",
       "      <td>sgsapp</td>\n",
       "      <td>20200114</td>\n",
       "      <td>video</td>\n",
       "      <td>total_total</td>\n",
       "      <td>8</td>\n",
       "      <td>0.001263</td>\n",
       "      <td>-0.038500</td>\n",
       "      <td>-0.001267</td>\n",
       "      <td>0.039294</td>\n",
       "      <td>0.009520</td>\n",
       "      <td>...</td>\n",
       "      <td>-0.004085</td>\n",
       "      <td>-0.051467</td>\n",
       "      <td>-0.025146</td>\n",
       "      <td>-0.010017</td>\n",
       "      <td>0.015520</td>\n",
       "      <td>0.014711</td>\n",
       "      <td>-0.041284</td>\n",
       "      <td>0.032150</td>\n",
       "      <td>0.040579</td>\n",
       "      <td>0.067426</td>\n",
       "    </tr>\n",
       "  </tbody>\n",
       "</table>\n",
       "<p>720 rows × 33 columns</p>\n",
       "</div>"
      ],
      "text/plain": [
       "    product_name      date         name           data_obj  abtest        id  \\\n",
       "0         sgsapp  20191231  small_video  quality_recommend      16  0.001239   \n",
       "1         sgsapp  20191231  small_video   quality_relative      16  0.001199   \n",
       "2         sgsapp  20191231  small_video      quality_total      16  0.001453   \n",
       "3         sgsapp  20191231  small_video    total_recommend      16  0.008034   \n",
       "4         sgsapp  20191231  small_video     total_relative      16 -0.248144   \n",
       "..           ...       ...          ...                ...     ...       ...   \n",
       "715       sgsapp  20200114        video   quality_relative       8  0.000726   \n",
       "716       sgsapp  20200114        video      quality_total       8  0.000875   \n",
       "717       sgsapp  20200114        video    total_recommend       8  0.001306   \n",
       "718       sgsapp  20200114        video     total_relative       8  0.000984   \n",
       "719       sgsapp  20200114        video        total_total       8  0.001263   \n",
       "\n",
       "          dis  dis_user  refresh_times  real_dis  ...       ctr  real_ctr  \\\n",
       "0   -0.013699 -0.008145       0.228571 -0.026092  ... -0.013785 -0.000300   \n",
       "1    0.008378 -0.020077       0.000000  0.000000  ...  0.021673  0.030883   \n",
       "2   -0.010790 -0.006980       0.011860 -0.026100  ...  0.027766  0.043382   \n",
       "3   -0.022757 -0.012216       0.406250 -0.050205  ... -0.067365 -0.040128   \n",
       "4   -0.035180 -0.033054       0.000000  0.000000  ...  0.025766 -0.010613   \n",
       "..        ...       ...            ...       ...  ...       ...       ...   \n",
       "715 -0.080831 -0.021857       0.000000  0.000000  ...  0.024792 -0.058102   \n",
       "716 -0.049602  0.000602       0.055470 -0.000521  ... -0.000131 -0.049236   \n",
       "717  0.002803 -0.001108       0.054361  0.013772  ... -0.004015 -0.014835   \n",
       "718 -0.072350 -0.023228       0.000000 -0.418217  ...  0.021701  0.539697   \n",
       "719 -0.038500 -0.001267       0.039294  0.009520  ... -0.004085 -0.051467   \n",
       "\n",
       "     read_ratio      dur1      dur2  finish_ratio  read_files   doc_dur  \\\n",
       "0     -0.019773 -0.018017  0.002203      0.010277   -0.020041  0.000921   \n",
       "1      0.023995  0.029964  0.006083      0.002743    0.052238 -0.020899   \n",
       "2     -0.018452  0.006273  0.025860      0.003310    0.023341 -0.016890   \n",
       "3     -0.030928 -0.083930 -0.054088      0.008980   -0.077687 -0.006405   \n",
       "4      0.007627 -0.037906 -0.045090     -0.020648    0.022551 -0.059277   \n",
       "..          ...       ...       ...           ...         ...       ...   \n",
       "715   -0.018785  0.008753  0.027977      0.055154   -0.037154  0.047079   \n",
       "716   -0.031984 -0.006614  0.026179      0.048949   -0.050443  0.045716   \n",
       "717   -0.024162  0.006686  0.031589     -0.028186   -0.000139  0.006728   \n",
       "718   -0.015214  0.004228  0.019701      0.026454   -0.029792  0.034419   \n",
       "719   -0.025146 -0.010017  0.015520      0.014711   -0.041284  0.032150   \n",
       "\n",
       "      refresh  refresh2  \n",
       "0    0.237710  0.262633  \n",
       "1    0.020458 -0.003589  \n",
       "2    0.018385  0.038722  \n",
       "3    0.423231  0.466925  \n",
       "4    0.034024  0.026076  \n",
       "..        ...       ...  \n",
       "715  0.022240  0.041804  \n",
       "716  0.054680  0.089567  \n",
       "717  0.055512  0.081639  \n",
       "718  0.023711  0.039542  \n",
       "719  0.040579  0.067426  \n",
       "\n",
       "[720 rows x 33 columns]"
      ]
     },
     "execution_count": 8,
     "metadata": {},
     "output_type": "execute_result"
    }
   ],
   "source": [
    "w.ratio"
   ]
  },
  {
   "cell_type": "code",
   "execution_count": 9,
   "metadata": {},
   "outputs": [],
   "source": [
    "import plotly.graph_objects as go\n",
    "\n",
    "def show(name):\n",
    "  df = w.ratio2\n",
    "  df['id'] = df['name'] + '_' +  df['data_obj']\n",
    "  df=df[df.id.str.contains(name)]\n",
    "  # df = w.ratio\n",
    "  df = df[df.name!='small_video'].groupby(['product_name', 'id', 'data_obj', 'abtest']) \\\n",
    "      .tail(1).groupby(['id', 'abtest'], as_index=False).mean()\n",
    "  df\n",
    "  # names = ['read_ratio', 'dur1', 'dur2', 'click', 'duration', 'click_user']\n",
    "  names = ['click', 'click_user', 'duration', 'ctr', 'read_ratio', 'dur1', 'dur2', 'doc_dur',\n",
    "           'refresh', 'refresh2',  'refresh_times', 'praise', 'favor']\n",
    "\n",
    "  for abid in abids:\n",
    "      fig = go.Figure(data=[\n",
    "          go.Bar(name=name, \n",
    "                 x=df[df.abtest==abid].id, \n",
    "                 y=df[df.abtest==abid][name]) for name in names]\n",
    "          )\n",
    "      # Change the bar mode\n",
    "      fig.update_layout(barmode='group', title_text=f'{w.product}:abtest:{abid}')\n",
    "      fig.show()"
   ]
  },
  {
   "cell_type": "code",
   "execution_count": 10,
   "metadata": {},
   "outputs": [
    {
     "data": {
      "application/vnd.plotly.v1+json": {
       "config": {
        "plotlyServerURL": "https://plot.ly"
       },
       "data": [
        {
         "name": "click",
         "type": "bar",
         "x": [
          "video_quality_recommend",
          "video_quality_relative",
          "video_quality_total",
          "video_total_recommend",
          "video_total_relative",
          "video_total_total"
         ],
         "y": [
          -0.05548860698943024,
          0.01153946848184991,
          0.004335528600987053,
          -0.04766346122921558,
          0.008091034073916918,
          -0.0016071597087275243
         ]
        },
        {
         "name": "click_user",
         "type": "bar",
         "x": [
          "video_quality_recommend",
          "video_quality_relative",
          "video_quality_total",
          "video_total_recommend",
          "video_total_relative",
          "video_total_total"
         ],
         "y": [
          -0.02784503631961259,
          -0.029321930360415395,
          -0.027500996412913512,
          -0.025890736342042718,
          -0.023980178745243785,
          -0.026145423110172
         ]
        },
        {
         "name": "duration",
         "type": "bar",
         "x": [
          "video_quality_recommend",
          "video_quality_relative",
          "video_quality_total",
          "video_total_recommend",
          "video_total_relative",
          "video_total_total"
         ],
         "y": [
          -0.011257558052907594,
          0.03181291498038472,
          0.020413049997572673,
          -0.007273553116152475,
          0.02354540692700626,
          0.011272955105425348
         ]
        },
        {
         "name": "ctr",
         "type": "bar",
         "x": [
          "video_quality_recommend",
          "video_quality_relative",
          "video_quality_total",
          "video_total_recommend",
          "video_total_relative",
          "video_total_total"
         ],
         "y": [
          -0.0578473104671537,
          0.0576661745216642,
          0.030493460882810876,
          -0.042381873220277776,
          0.0547320747435183,
          0.02599772744816655
         ]
        },
        {
         "name": "read_ratio",
         "type": "bar",
         "x": [
          "video_quality_recommend",
          "video_quality_relative",
          "video_quality_total",
          "video_total_recommend",
          "video_total_relative",
          "video_total_total"
         ],
         "y": [
          -0.02274385272671928,
          -0.009733297332610222,
          -0.022321533736320318,
          -0.02226949068078451,
          -0.003942047932726704,
          -0.022619668104546364
         ]
        },
        {
         "name": "dur1",
         "type": "bar",
         "x": [
          "video_quality_recommend",
          "video_quality_relative",
          "video_quality_total",
          "video_total_recommend",
          "video_total_relative",
          "video_total_total"
         ],
         "y": [
          -0.006111998361016264,
          0.052673297991822784,
          0.0258094289079218,
          -0.003597753460213448,
          0.04461605124264418,
          0.014936168455225416
         ]
        },
        {
         "name": "dur2",
         "type": "bar",
         "x": [
          "video_quality_recommend",
          "video_quality_relative",
          "video_quality_total",
          "video_total_recommend",
          "video_total_relative",
          "video_total_total"
         ],
         "y": [
          0.01704524179532926,
          0.06292883981984498,
          0.049199940560991175,
          0.019073998908246213,
          0.04870878279937619,
          0.03842554847781437
         ]
        },
        {
         "name": "doc_dur",
         "type": "bar",
         "x": [
          "video_quality_recommend",
          "video_quality_relative",
          "video_quality_total",
          "video_total_recommend",
          "video_total_relative",
          "video_total_total"
         ],
         "y": [
          0.04674909058258267,
          0.019561964319976918,
          0.015629298981841202,
          0.042303182198731824,
          0.01477941820045312,
          0.012472872301065505
         ]
        },
        {
         "name": "refresh",
         "type": "bar",
         "x": [
          "video_quality_recommend",
          "video_quality_relative",
          "video_quality_total",
          "video_total_recommend",
          "video_total_relative",
          "video_total_total"
         ],
         "y": [
          0.07321942924167384,
          0.020113461562799636,
          0.07256506145315816,
          0.059505853771810086,
          0.020501623841902843,
          0.04506610603948164
         ]
        },
        {
         "name": "refresh2",
         "type": "bar",
         "x": [
          "video_quality_recommend",
          "video_quality_relative",
          "video_quality_total",
          "video_total_recommend",
          "video_total_relative",
          "video_total_total"
         ],
         "y": [
          0.09820298999109664,
          0.03013340627501663,
          0.09709267972057388,
          0.08363050885360093,
          0.024557024165778502,
          0.06925730786136518
         ]
        },
        {
         "name": "refresh_times",
         "type": "bar",
         "x": [
          "video_quality_recommend",
          "video_quality_relative",
          "video_quality_total",
          "video_total_recommend",
          "video_total_relative",
          "video_total_total"
         ],
         "y": [
          0.0676382422348364,
          0,
          0.06702425460762403,
          0.0555997430328245,
          0,
          0.04132391659377174
         ]
        },
        {
         "name": "praise",
         "type": "bar",
         "x": [
          "video_quality_recommend",
          "video_quality_relative",
          "video_quality_total",
          "video_total_recommend",
          "video_total_relative",
          "video_total_total"
         ],
         "y": [
          -0.1269349845201239,
          -0.03001364256480222,
          -0.03856749311294766,
          -0.2909090909090909,
          -0.10746606334841635,
          -0.15365239294710334
         ]
        },
        {
         "name": "favor",
         "type": "bar",
         "x": [
          "video_quality_recommend",
          "video_quality_relative",
          "video_quality_total",
          "video_total_recommend",
          "video_total_relative",
          "video_total_total"
         ],
         "y": [
          -0.3076923076923077,
          -0.17966695880806305,
          -0.21192443919716641,
          -0.12668463611859837,
          -0.18553008595988535,
          -0.15614236509758897
         ]
        }
       ],
       "layout": {
        "barmode": "group",
        "template": {
         "data": {
          "bar": [
           {
            "error_x": {
             "color": "#2a3f5f"
            },
            "error_y": {
             "color": "#2a3f5f"
            },
            "marker": {
             "line": {
              "color": "#E5ECF6",
              "width": 0.5
             }
            },
            "type": "bar"
           }
          ],
          "barpolar": [
           {
            "marker": {
             "line": {
              "color": "#E5ECF6",
              "width": 0.5
             }
            },
            "type": "barpolar"
           }
          ],
          "carpet": [
           {
            "aaxis": {
             "endlinecolor": "#2a3f5f",
             "gridcolor": "white",
             "linecolor": "white",
             "minorgridcolor": "white",
             "startlinecolor": "#2a3f5f"
            },
            "baxis": {
             "endlinecolor": "#2a3f5f",
             "gridcolor": "white",
             "linecolor": "white",
             "minorgridcolor": "white",
             "startlinecolor": "#2a3f5f"
            },
            "type": "carpet"
           }
          ],
          "choropleth": [
           {
            "colorbar": {
             "outlinewidth": 0,
             "ticks": ""
            },
            "type": "choropleth"
           }
          ],
          "contour": [
           {
            "colorbar": {
             "outlinewidth": 0,
             "ticks": ""
            },
            "colorscale": [
             [
              0,
              "#0d0887"
             ],
             [
              0.1111111111111111,
              "#46039f"
             ],
             [
              0.2222222222222222,
              "#7201a8"
             ],
             [
              0.3333333333333333,
              "#9c179e"
             ],
             [
              0.4444444444444444,
              "#bd3786"
             ],
             [
              0.5555555555555556,
              "#d8576b"
             ],
             [
              0.6666666666666666,
              "#ed7953"
             ],
             [
              0.7777777777777778,
              "#fb9f3a"
             ],
             [
              0.8888888888888888,
              "#fdca26"
             ],
             [
              1,
              "#f0f921"
             ]
            ],
            "type": "contour"
           }
          ],
          "contourcarpet": [
           {
            "colorbar": {
             "outlinewidth": 0,
             "ticks": ""
            },
            "type": "contourcarpet"
           }
          ],
          "heatmap": [
           {
            "colorbar": {
             "outlinewidth": 0,
             "ticks": ""
            },
            "colorscale": [
             [
              0,
              "#0d0887"
             ],
             [
              0.1111111111111111,
              "#46039f"
             ],
             [
              0.2222222222222222,
              "#7201a8"
             ],
             [
              0.3333333333333333,
              "#9c179e"
             ],
             [
              0.4444444444444444,
              "#bd3786"
             ],
             [
              0.5555555555555556,
              "#d8576b"
             ],
             [
              0.6666666666666666,
              "#ed7953"
             ],
             [
              0.7777777777777778,
              "#fb9f3a"
             ],
             [
              0.8888888888888888,
              "#fdca26"
             ],
             [
              1,
              "#f0f921"
             ]
            ],
            "type": "heatmap"
           }
          ],
          "heatmapgl": [
           {
            "colorbar": {
             "outlinewidth": 0,
             "ticks": ""
            },
            "colorscale": [
             [
              0,
              "#0d0887"
             ],
             [
              0.1111111111111111,
              "#46039f"
             ],
             [
              0.2222222222222222,
              "#7201a8"
             ],
             [
              0.3333333333333333,
              "#9c179e"
             ],
             [
              0.4444444444444444,
              "#bd3786"
             ],
             [
              0.5555555555555556,
              "#d8576b"
             ],
             [
              0.6666666666666666,
              "#ed7953"
             ],
             [
              0.7777777777777778,
              "#fb9f3a"
             ],
             [
              0.8888888888888888,
              "#fdca26"
             ],
             [
              1,
              "#f0f921"
             ]
            ],
            "type": "heatmapgl"
           }
          ],
          "histogram": [
           {
            "marker": {
             "colorbar": {
              "outlinewidth": 0,
              "ticks": ""
             }
            },
            "type": "histogram"
           }
          ],
          "histogram2d": [
           {
            "colorbar": {
             "outlinewidth": 0,
             "ticks": ""
            },
            "colorscale": [
             [
              0,
              "#0d0887"
             ],
             [
              0.1111111111111111,
              "#46039f"
             ],
             [
              0.2222222222222222,
              "#7201a8"
             ],
             [
              0.3333333333333333,
              "#9c179e"
             ],
             [
              0.4444444444444444,
              "#bd3786"
             ],
             [
              0.5555555555555556,
              "#d8576b"
             ],
             [
              0.6666666666666666,
              "#ed7953"
             ],
             [
              0.7777777777777778,
              "#fb9f3a"
             ],
             [
              0.8888888888888888,
              "#fdca26"
             ],
             [
              1,
              "#f0f921"
             ]
            ],
            "type": "histogram2d"
           }
          ],
          "histogram2dcontour": [
           {
            "colorbar": {
             "outlinewidth": 0,
             "ticks": ""
            },
            "colorscale": [
             [
              0,
              "#0d0887"
             ],
             [
              0.1111111111111111,
              "#46039f"
             ],
             [
              0.2222222222222222,
              "#7201a8"
             ],
             [
              0.3333333333333333,
              "#9c179e"
             ],
             [
              0.4444444444444444,
              "#bd3786"
             ],
             [
              0.5555555555555556,
              "#d8576b"
             ],
             [
              0.6666666666666666,
              "#ed7953"
             ],
             [
              0.7777777777777778,
              "#fb9f3a"
             ],
             [
              0.8888888888888888,
              "#fdca26"
             ],
             [
              1,
              "#f0f921"
             ]
            ],
            "type": "histogram2dcontour"
           }
          ],
          "mesh3d": [
           {
            "colorbar": {
             "outlinewidth": 0,
             "ticks": ""
            },
            "type": "mesh3d"
           }
          ],
          "parcoords": [
           {
            "line": {
             "colorbar": {
              "outlinewidth": 0,
              "ticks": ""
             }
            },
            "type": "parcoords"
           }
          ],
          "scatter": [
           {
            "marker": {
             "colorbar": {
              "outlinewidth": 0,
              "ticks": ""
             }
            },
            "type": "scatter"
           }
          ],
          "scatter3d": [
           {
            "line": {
             "colorbar": {
              "outlinewidth": 0,
              "ticks": ""
             }
            },
            "marker": {
             "colorbar": {
              "outlinewidth": 0,
              "ticks": ""
             }
            },
            "type": "scatter3d"
           }
          ],
          "scattercarpet": [
           {
            "marker": {
             "colorbar": {
              "outlinewidth": 0,
              "ticks": ""
             }
            },
            "type": "scattercarpet"
           }
          ],
          "scattergeo": [
           {
            "marker": {
             "colorbar": {
              "outlinewidth": 0,
              "ticks": ""
             }
            },
            "type": "scattergeo"
           }
          ],
          "scattergl": [
           {
            "marker": {
             "colorbar": {
              "outlinewidth": 0,
              "ticks": ""
             }
            },
            "type": "scattergl"
           }
          ],
          "scattermapbox": [
           {
            "marker": {
             "colorbar": {
              "outlinewidth": 0,
              "ticks": ""
             }
            },
            "type": "scattermapbox"
           }
          ],
          "scatterpolar": [
           {
            "marker": {
             "colorbar": {
              "outlinewidth": 0,
              "ticks": ""
             }
            },
            "type": "scatterpolar"
           }
          ],
          "scatterpolargl": [
           {
            "marker": {
             "colorbar": {
              "outlinewidth": 0,
              "ticks": ""
             }
            },
            "type": "scatterpolargl"
           }
          ],
          "scatterternary": [
           {
            "marker": {
             "colorbar": {
              "outlinewidth": 0,
              "ticks": ""
             }
            },
            "type": "scatterternary"
           }
          ],
          "surface": [
           {
            "colorbar": {
             "outlinewidth": 0,
             "ticks": ""
            },
            "colorscale": [
             [
              0,
              "#0d0887"
             ],
             [
              0.1111111111111111,
              "#46039f"
             ],
             [
              0.2222222222222222,
              "#7201a8"
             ],
             [
              0.3333333333333333,
              "#9c179e"
             ],
             [
              0.4444444444444444,
              "#bd3786"
             ],
             [
              0.5555555555555556,
              "#d8576b"
             ],
             [
              0.6666666666666666,
              "#ed7953"
             ],
             [
              0.7777777777777778,
              "#fb9f3a"
             ],
             [
              0.8888888888888888,
              "#fdca26"
             ],
             [
              1,
              "#f0f921"
             ]
            ],
            "type": "surface"
           }
          ],
          "table": [
           {
            "cells": {
             "fill": {
              "color": "#EBF0F8"
             },
             "line": {
              "color": "white"
             }
            },
            "header": {
             "fill": {
              "color": "#C8D4E3"
             },
             "line": {
              "color": "white"
             }
            },
            "type": "table"
           }
          ]
         },
         "layout": {
          "annotationdefaults": {
           "arrowcolor": "#2a3f5f",
           "arrowhead": 0,
           "arrowwidth": 1
          },
          "colorscale": {
           "diverging": [
            [
             0,
             "#8e0152"
            ],
            [
             0.1,
             "#c51b7d"
            ],
            [
             0.2,
             "#de77ae"
            ],
            [
             0.3,
             "#f1b6da"
            ],
            [
             0.4,
             "#fde0ef"
            ],
            [
             0.5,
             "#f7f7f7"
            ],
            [
             0.6,
             "#e6f5d0"
            ],
            [
             0.7,
             "#b8e186"
            ],
            [
             0.8,
             "#7fbc41"
            ],
            [
             0.9,
             "#4d9221"
            ],
            [
             1,
             "#276419"
            ]
           ],
           "sequential": [
            [
             0,
             "#0d0887"
            ],
            [
             0.1111111111111111,
             "#46039f"
            ],
            [
             0.2222222222222222,
             "#7201a8"
            ],
            [
             0.3333333333333333,
             "#9c179e"
            ],
            [
             0.4444444444444444,
             "#bd3786"
            ],
            [
             0.5555555555555556,
             "#d8576b"
            ],
            [
             0.6666666666666666,
             "#ed7953"
            ],
            [
             0.7777777777777778,
             "#fb9f3a"
            ],
            [
             0.8888888888888888,
             "#fdca26"
            ],
            [
             1,
             "#f0f921"
            ]
           ],
           "sequentialminus": [
            [
             0,
             "#0d0887"
            ],
            [
             0.1111111111111111,
             "#46039f"
            ],
            [
             0.2222222222222222,
             "#7201a8"
            ],
            [
             0.3333333333333333,
             "#9c179e"
            ],
            [
             0.4444444444444444,
             "#bd3786"
            ],
            [
             0.5555555555555556,
             "#d8576b"
            ],
            [
             0.6666666666666666,
             "#ed7953"
            ],
            [
             0.7777777777777778,
             "#fb9f3a"
            ],
            [
             0.8888888888888888,
             "#fdca26"
            ],
            [
             1,
             "#f0f921"
            ]
           ]
          },
          "colorway": [
           "#636efa",
           "#EF553B",
           "#00cc96",
           "#ab63fa",
           "#FFA15A",
           "#19d3f3",
           "#FF6692",
           "#B6E880",
           "#FF97FF",
           "#FECB52"
          ],
          "font": {
           "color": "#2a3f5f"
          },
          "geo": {
           "bgcolor": "white",
           "lakecolor": "white",
           "landcolor": "#E5ECF6",
           "showlakes": true,
           "showland": true,
           "subunitcolor": "white"
          },
          "hoverlabel": {
           "align": "left"
          },
          "hovermode": "closest",
          "mapbox": {
           "style": "light"
          },
          "paper_bgcolor": "white",
          "plot_bgcolor": "#E5ECF6",
          "polar": {
           "angularaxis": {
            "gridcolor": "white",
            "linecolor": "white",
            "ticks": ""
           },
           "bgcolor": "#E5ECF6",
           "radialaxis": {
            "gridcolor": "white",
            "linecolor": "white",
            "ticks": ""
           }
          },
          "scene": {
           "xaxis": {
            "backgroundcolor": "#E5ECF6",
            "gridcolor": "white",
            "gridwidth": 2,
            "linecolor": "white",
            "showbackground": true,
            "ticks": "",
            "zerolinecolor": "white"
           },
           "yaxis": {
            "backgroundcolor": "#E5ECF6",
            "gridcolor": "white",
            "gridwidth": 2,
            "linecolor": "white",
            "showbackground": true,
            "ticks": "",
            "zerolinecolor": "white"
           },
           "zaxis": {
            "backgroundcolor": "#E5ECF6",
            "gridcolor": "white",
            "gridwidth": 2,
            "linecolor": "white",
            "showbackground": true,
            "ticks": "",
            "zerolinecolor": "white"
           }
          },
          "shapedefaults": {
           "line": {
            "color": "#2a3f5f"
           }
          },
          "ternary": {
           "aaxis": {
            "gridcolor": "white",
            "linecolor": "white",
            "ticks": ""
           },
           "baxis": {
            "gridcolor": "white",
            "linecolor": "white",
            "ticks": ""
           },
           "bgcolor": "#E5ECF6",
           "caxis": {
            "gridcolor": "white",
            "linecolor": "white",
            "ticks": ""
           }
          },
          "title": {
           "x": 0.05
          },
          "xaxis": {
           "automargin": true,
           "gridcolor": "white",
           "linecolor": "white",
           "ticks": "",
           "zerolinecolor": "white",
           "zerolinewidth": 2
          },
          "yaxis": {
           "automargin": true,
           "gridcolor": "white",
           "linecolor": "white",
           "ticks": "",
           "zerolinecolor": "white",
           "zerolinewidth": 2
          }
         }
        },
        "title": {
         "text": "sgsapp:abtest:16"
        }
       }
      },
      "text/html": [
       "<div>\n",
       "        \n",
       "        \n",
       "            <div id=\"51defcbd-4856-4f82-ba8e-c53193037b9d\" class=\"plotly-graph-div\" style=\"height:525px; width:100%;\"></div>\n",
       "            <script type=\"text/javascript\">\n",
       "                require([\"plotly\"], function(Plotly) {\n",
       "                    window.PLOTLYENV=window.PLOTLYENV || {};\n",
       "                    \n",
       "                if (document.getElementById(\"51defcbd-4856-4f82-ba8e-c53193037b9d\")) {\n",
       "                    Plotly.newPlot(\n",
       "                        '51defcbd-4856-4f82-ba8e-c53193037b9d',\n",
       "                        [{\"name\": \"click\", \"type\": \"bar\", \"x\": [\"video_quality_recommend\", \"video_quality_relative\", \"video_quality_total\", \"video_total_recommend\", \"video_total_relative\", \"video_total_total\"], \"y\": [-0.05548860698943024, 0.01153946848184991, 0.004335528600987053, -0.04766346122921558, 0.008091034073916918, -0.0016071597087275243]}, {\"name\": \"click_user\", \"type\": \"bar\", \"x\": [\"video_quality_recommend\", \"video_quality_relative\", \"video_quality_total\", \"video_total_recommend\", \"video_total_relative\", \"video_total_total\"], \"y\": [-0.02784503631961259, -0.029321930360415395, -0.027500996412913512, -0.025890736342042718, -0.023980178745243785, -0.026145423110172]}, {\"name\": \"duration\", \"type\": \"bar\", \"x\": [\"video_quality_recommend\", \"video_quality_relative\", \"video_quality_total\", \"video_total_recommend\", \"video_total_relative\", \"video_total_total\"], \"y\": [-0.011257558052907594, 0.03181291498038472, 0.020413049997572673, -0.007273553116152475, 0.02354540692700626, 0.011272955105425348]}, {\"name\": \"ctr\", \"type\": \"bar\", \"x\": [\"video_quality_recommend\", \"video_quality_relative\", \"video_quality_total\", \"video_total_recommend\", \"video_total_relative\", \"video_total_total\"], \"y\": [-0.0578473104671537, 0.0576661745216642, 0.030493460882810876, -0.042381873220277776, 0.0547320747435183, 0.02599772744816655]}, {\"name\": \"read_ratio\", \"type\": \"bar\", \"x\": [\"video_quality_recommend\", \"video_quality_relative\", \"video_quality_total\", \"video_total_recommend\", \"video_total_relative\", \"video_total_total\"], \"y\": [-0.02274385272671928, -0.009733297332610222, -0.022321533736320318, -0.02226949068078451, -0.003942047932726704, -0.022619668104546364]}, {\"name\": \"dur1\", \"type\": \"bar\", \"x\": [\"video_quality_recommend\", \"video_quality_relative\", \"video_quality_total\", \"video_total_recommend\", \"video_total_relative\", \"video_total_total\"], \"y\": [-0.006111998361016264, 0.052673297991822784, 0.0258094289079218, -0.003597753460213448, 0.04461605124264418, 0.014936168455225416]}, {\"name\": \"dur2\", \"type\": \"bar\", \"x\": [\"video_quality_recommend\", \"video_quality_relative\", \"video_quality_total\", \"video_total_recommend\", \"video_total_relative\", \"video_total_total\"], \"y\": [0.01704524179532926, 0.06292883981984498, 0.049199940560991175, 0.019073998908246213, 0.04870878279937619, 0.03842554847781437]}, {\"name\": \"doc_dur\", \"type\": \"bar\", \"x\": [\"video_quality_recommend\", \"video_quality_relative\", \"video_quality_total\", \"video_total_recommend\", \"video_total_relative\", \"video_total_total\"], \"y\": [0.04674909058258267, 0.019561964319976918, 0.015629298981841202, 0.042303182198731824, 0.01477941820045312, 0.012472872301065505]}, {\"name\": \"refresh\", \"type\": \"bar\", \"x\": [\"video_quality_recommend\", \"video_quality_relative\", \"video_quality_total\", \"video_total_recommend\", \"video_total_relative\", \"video_total_total\"], \"y\": [0.07321942924167384, 0.020113461562799636, 0.07256506145315816, 0.059505853771810086, 0.020501623841902843, 0.04506610603948164]}, {\"name\": \"refresh2\", \"type\": \"bar\", \"x\": [\"video_quality_recommend\", \"video_quality_relative\", \"video_quality_total\", \"video_total_recommend\", \"video_total_relative\", \"video_total_total\"], \"y\": [0.09820298999109664, 0.03013340627501663, 0.09709267972057388, 0.08363050885360093, 0.024557024165778502, 0.06925730786136518]}, {\"name\": \"refresh_times\", \"type\": \"bar\", \"x\": [\"video_quality_recommend\", \"video_quality_relative\", \"video_quality_total\", \"video_total_recommend\", \"video_total_relative\", \"video_total_total\"], \"y\": [0.0676382422348364, 0.0, 0.06702425460762403, 0.0555997430328245, 0.0, 0.04132391659377174]}, {\"name\": \"praise\", \"type\": \"bar\", \"x\": [\"video_quality_recommend\", \"video_quality_relative\", \"video_quality_total\", \"video_total_recommend\", \"video_total_relative\", \"video_total_total\"], \"y\": [-0.1269349845201239, -0.03001364256480222, -0.03856749311294766, -0.2909090909090909, -0.10746606334841635, -0.15365239294710334]}, {\"name\": \"favor\", \"type\": \"bar\", \"x\": [\"video_quality_recommend\", \"video_quality_relative\", \"video_quality_total\", \"video_total_recommend\", \"video_total_relative\", \"video_total_total\"], \"y\": [-0.3076923076923077, -0.17966695880806305, -0.21192443919716641, -0.12668463611859837, -0.18553008595988535, -0.15614236509758897]}],\n",
       "                        {\"barmode\": \"group\", \"template\": {\"data\": {\"bar\": [{\"error_x\": {\"color\": \"#2a3f5f\"}, \"error_y\": {\"color\": \"#2a3f5f\"}, \"marker\": {\"line\": {\"color\": \"#E5ECF6\", \"width\": 0.5}}, \"type\": \"bar\"}], \"barpolar\": [{\"marker\": {\"line\": {\"color\": \"#E5ECF6\", \"width\": 0.5}}, \"type\": \"barpolar\"}], \"carpet\": [{\"aaxis\": {\"endlinecolor\": \"#2a3f5f\", \"gridcolor\": \"white\", \"linecolor\": \"white\", \"minorgridcolor\": \"white\", \"startlinecolor\": \"#2a3f5f\"}, \"baxis\": {\"endlinecolor\": \"#2a3f5f\", \"gridcolor\": \"white\", \"linecolor\": \"white\", \"minorgridcolor\": \"white\", \"startlinecolor\": \"#2a3f5f\"}, \"type\": \"carpet\"}], \"choropleth\": [{\"colorbar\": {\"outlinewidth\": 0, \"ticks\": \"\"}, \"type\": \"choropleth\"}], \"contour\": [{\"colorbar\": {\"outlinewidth\": 0, \"ticks\": \"\"}, \"colorscale\": [[0.0, \"#0d0887\"], [0.1111111111111111, \"#46039f\"], [0.2222222222222222, \"#7201a8\"], [0.3333333333333333, \"#9c179e\"], [0.4444444444444444, \"#bd3786\"], [0.5555555555555556, \"#d8576b\"], [0.6666666666666666, \"#ed7953\"], [0.7777777777777778, \"#fb9f3a\"], [0.8888888888888888, \"#fdca26\"], [1.0, \"#f0f921\"]], \"type\": \"contour\"}], \"contourcarpet\": [{\"colorbar\": {\"outlinewidth\": 0, \"ticks\": \"\"}, \"type\": \"contourcarpet\"}], \"heatmap\": [{\"colorbar\": {\"outlinewidth\": 0, \"ticks\": \"\"}, \"colorscale\": [[0.0, \"#0d0887\"], [0.1111111111111111, \"#46039f\"], [0.2222222222222222, \"#7201a8\"], [0.3333333333333333, \"#9c179e\"], [0.4444444444444444, \"#bd3786\"], [0.5555555555555556, \"#d8576b\"], [0.6666666666666666, \"#ed7953\"], [0.7777777777777778, \"#fb9f3a\"], [0.8888888888888888, \"#fdca26\"], [1.0, \"#f0f921\"]], \"type\": \"heatmap\"}], \"heatmapgl\": [{\"colorbar\": {\"outlinewidth\": 0, \"ticks\": \"\"}, \"colorscale\": [[0.0, \"#0d0887\"], [0.1111111111111111, \"#46039f\"], [0.2222222222222222, \"#7201a8\"], [0.3333333333333333, \"#9c179e\"], [0.4444444444444444, \"#bd3786\"], [0.5555555555555556, \"#d8576b\"], [0.6666666666666666, \"#ed7953\"], [0.7777777777777778, \"#fb9f3a\"], [0.8888888888888888, \"#fdca26\"], [1.0, \"#f0f921\"]], \"type\": \"heatmapgl\"}], \"histogram\": [{\"marker\": {\"colorbar\": {\"outlinewidth\": 0, \"ticks\": \"\"}}, \"type\": \"histogram\"}], \"histogram2d\": [{\"colorbar\": {\"outlinewidth\": 0, \"ticks\": \"\"}, \"colorscale\": [[0.0, \"#0d0887\"], [0.1111111111111111, \"#46039f\"], [0.2222222222222222, \"#7201a8\"], [0.3333333333333333, \"#9c179e\"], [0.4444444444444444, \"#bd3786\"], [0.5555555555555556, \"#d8576b\"], [0.6666666666666666, \"#ed7953\"], [0.7777777777777778, \"#fb9f3a\"], [0.8888888888888888, \"#fdca26\"], [1.0, \"#f0f921\"]], \"type\": \"histogram2d\"}], \"histogram2dcontour\": [{\"colorbar\": {\"outlinewidth\": 0, \"ticks\": \"\"}, \"colorscale\": [[0.0, \"#0d0887\"], [0.1111111111111111, \"#46039f\"], [0.2222222222222222, \"#7201a8\"], [0.3333333333333333, \"#9c179e\"], [0.4444444444444444, \"#bd3786\"], [0.5555555555555556, \"#d8576b\"], [0.6666666666666666, \"#ed7953\"], [0.7777777777777778, \"#fb9f3a\"], [0.8888888888888888, \"#fdca26\"], [1.0, \"#f0f921\"]], \"type\": \"histogram2dcontour\"}], \"mesh3d\": [{\"colorbar\": {\"outlinewidth\": 0, \"ticks\": \"\"}, \"type\": \"mesh3d\"}], \"parcoords\": [{\"line\": {\"colorbar\": {\"outlinewidth\": 0, \"ticks\": \"\"}}, \"type\": \"parcoords\"}], \"scatter\": [{\"marker\": {\"colorbar\": {\"outlinewidth\": 0, \"ticks\": \"\"}}, \"type\": \"scatter\"}], \"scatter3d\": [{\"line\": {\"colorbar\": {\"outlinewidth\": 0, \"ticks\": \"\"}}, \"marker\": {\"colorbar\": {\"outlinewidth\": 0, \"ticks\": \"\"}}, \"type\": \"scatter3d\"}], \"scattercarpet\": [{\"marker\": {\"colorbar\": {\"outlinewidth\": 0, \"ticks\": \"\"}}, \"type\": \"scattercarpet\"}], \"scattergeo\": [{\"marker\": {\"colorbar\": {\"outlinewidth\": 0, \"ticks\": \"\"}}, \"type\": \"scattergeo\"}], \"scattergl\": [{\"marker\": {\"colorbar\": {\"outlinewidth\": 0, \"ticks\": \"\"}}, \"type\": \"scattergl\"}], \"scattermapbox\": [{\"marker\": {\"colorbar\": {\"outlinewidth\": 0, \"ticks\": \"\"}}, \"type\": \"scattermapbox\"}], \"scatterpolar\": [{\"marker\": {\"colorbar\": {\"outlinewidth\": 0, \"ticks\": \"\"}}, \"type\": \"scatterpolar\"}], \"scatterpolargl\": [{\"marker\": {\"colorbar\": {\"outlinewidth\": 0, \"ticks\": \"\"}}, \"type\": \"scatterpolargl\"}], \"scatterternary\": [{\"marker\": {\"colorbar\": {\"outlinewidth\": 0, \"ticks\": \"\"}}, \"type\": \"scatterternary\"}], \"surface\": [{\"colorbar\": {\"outlinewidth\": 0, \"ticks\": \"\"}, \"colorscale\": [[0.0, \"#0d0887\"], [0.1111111111111111, \"#46039f\"], [0.2222222222222222, \"#7201a8\"], [0.3333333333333333, \"#9c179e\"], [0.4444444444444444, \"#bd3786\"], [0.5555555555555556, \"#d8576b\"], [0.6666666666666666, \"#ed7953\"], [0.7777777777777778, \"#fb9f3a\"], [0.8888888888888888, \"#fdca26\"], [1.0, \"#f0f921\"]], \"type\": \"surface\"}], \"table\": [{\"cells\": {\"fill\": {\"color\": \"#EBF0F8\"}, \"line\": {\"color\": \"white\"}}, \"header\": {\"fill\": {\"color\": \"#C8D4E3\"}, \"line\": {\"color\": \"white\"}}, \"type\": \"table\"}]}, \"layout\": {\"annotationdefaults\": {\"arrowcolor\": \"#2a3f5f\", \"arrowhead\": 0, \"arrowwidth\": 1}, \"colorscale\": {\"diverging\": [[0, \"#8e0152\"], [0.1, \"#c51b7d\"], [0.2, \"#de77ae\"], [0.3, \"#f1b6da\"], [0.4, \"#fde0ef\"], [0.5, \"#f7f7f7\"], [0.6, \"#e6f5d0\"], [0.7, \"#b8e186\"], [0.8, \"#7fbc41\"], [0.9, \"#4d9221\"], [1, \"#276419\"]], \"sequential\": [[0.0, \"#0d0887\"], [0.1111111111111111, \"#46039f\"], [0.2222222222222222, \"#7201a8\"], [0.3333333333333333, \"#9c179e\"], [0.4444444444444444, \"#bd3786\"], [0.5555555555555556, \"#d8576b\"], [0.6666666666666666, \"#ed7953\"], [0.7777777777777778, \"#fb9f3a\"], [0.8888888888888888, \"#fdca26\"], [1.0, \"#f0f921\"]], \"sequentialminus\": [[0.0, \"#0d0887\"], [0.1111111111111111, \"#46039f\"], [0.2222222222222222, \"#7201a8\"], [0.3333333333333333, \"#9c179e\"], [0.4444444444444444, \"#bd3786\"], [0.5555555555555556, \"#d8576b\"], [0.6666666666666666, \"#ed7953\"], [0.7777777777777778, \"#fb9f3a\"], [0.8888888888888888, \"#fdca26\"], [1.0, \"#f0f921\"]]}, \"colorway\": [\"#636efa\", \"#EF553B\", \"#00cc96\", \"#ab63fa\", \"#FFA15A\", \"#19d3f3\", \"#FF6692\", \"#B6E880\", \"#FF97FF\", \"#FECB52\"], \"font\": {\"color\": \"#2a3f5f\"}, \"geo\": {\"bgcolor\": \"white\", \"lakecolor\": \"white\", \"landcolor\": \"#E5ECF6\", \"showlakes\": true, \"showland\": true, \"subunitcolor\": \"white\"}, \"hoverlabel\": {\"align\": \"left\"}, \"hovermode\": \"closest\", \"mapbox\": {\"style\": \"light\"}, \"paper_bgcolor\": \"white\", \"plot_bgcolor\": \"#E5ECF6\", \"polar\": {\"angularaxis\": {\"gridcolor\": \"white\", \"linecolor\": \"white\", \"ticks\": \"\"}, \"bgcolor\": \"#E5ECF6\", \"radialaxis\": {\"gridcolor\": \"white\", \"linecolor\": \"white\", \"ticks\": \"\"}}, \"scene\": {\"xaxis\": {\"backgroundcolor\": \"#E5ECF6\", \"gridcolor\": \"white\", \"gridwidth\": 2, \"linecolor\": \"white\", \"showbackground\": true, \"ticks\": \"\", \"zerolinecolor\": \"white\"}, \"yaxis\": {\"backgroundcolor\": \"#E5ECF6\", \"gridcolor\": \"white\", \"gridwidth\": 2, \"linecolor\": \"white\", \"showbackground\": true, \"ticks\": \"\", \"zerolinecolor\": \"white\"}, \"zaxis\": {\"backgroundcolor\": \"#E5ECF6\", \"gridcolor\": \"white\", \"gridwidth\": 2, \"linecolor\": \"white\", \"showbackground\": true, \"ticks\": \"\", \"zerolinecolor\": \"white\"}}, \"shapedefaults\": {\"line\": {\"color\": \"#2a3f5f\"}}, \"ternary\": {\"aaxis\": {\"gridcolor\": \"white\", \"linecolor\": \"white\", \"ticks\": \"\"}, \"baxis\": {\"gridcolor\": \"white\", \"linecolor\": \"white\", \"ticks\": \"\"}, \"bgcolor\": \"#E5ECF6\", \"caxis\": {\"gridcolor\": \"white\", \"linecolor\": \"white\", \"ticks\": \"\"}}, \"title\": {\"x\": 0.05}, \"xaxis\": {\"automargin\": true, \"gridcolor\": \"white\", \"linecolor\": \"white\", \"ticks\": \"\", \"zerolinecolor\": \"white\", \"zerolinewidth\": 2}, \"yaxis\": {\"automargin\": true, \"gridcolor\": \"white\", \"linecolor\": \"white\", \"ticks\": \"\", \"zerolinecolor\": \"white\", \"zerolinewidth\": 2}}}, \"title\": {\"text\": \"sgsapp:abtest:16\"}},\n",
       "                        {\"responsive\": true}\n",
       "                    ).then(function(){\n",
       "                            \n",
       "var gd = document.getElementById('51defcbd-4856-4f82-ba8e-c53193037b9d');\n",
       "var x = new MutationObserver(function (mutations, observer) {{\n",
       "        var display = window.getComputedStyle(gd).display;\n",
       "        if (!display || display === 'none') {{\n",
       "            console.log([gd, 'removed!']);\n",
       "            Plotly.purge(gd);\n",
       "            observer.disconnect();\n",
       "        }}\n",
       "}});\n",
       "\n",
       "// Listen for the removal of the full notebook cells\n",
       "var notebookContainer = gd.closest('#notebook-container');\n",
       "if (notebookContainer) {{\n",
       "    x.observe(notebookContainer, {childList: true});\n",
       "}}\n",
       "\n",
       "// Listen for the clearing of the current output cell\n",
       "var outputEl = gd.closest('.output');\n",
       "if (outputEl) {{\n",
       "    x.observe(outputEl, {childList: true});\n",
       "}}\n",
       "\n",
       "                        })\n",
       "                };\n",
       "                });\n",
       "            </script>\n",
       "        </div>"
      ]
     },
     "metadata": {},
     "output_type": "display_data"
    },
    {
     "data": {
      "application/vnd.plotly.v1+json": {
       "config": {
        "plotlyServerURL": "https://plot.ly"
       },
       "data": [
        {
         "name": "click",
         "type": "bar",
         "x": [
          "video_quality_recommend",
          "video_quality_relative",
          "video_quality_total",
          "video_total_recommend",
          "video_total_relative",
          "video_total_total"
         ],
         "y": [
          0.014966837462169017,
          -0.05810207200179527,
          -0.049774914864620094,
          -0.0012382208214067475,
          -0.05226458585111299,
          -0.04246984529282271
         ]
        },
        {
         "name": "click_user",
         "type": "bar",
         "x": [
          "video_quality_recommend",
          "video_quality_relative",
          "video_quality_total",
          "video_total_recommend",
          "video_total_relative",
          "video_total_total"
         ],
         "y": [
          -0.03125687871450583,
          -0.0401954795357361,
          -0.03138700677560781,
          -0.02524292809328435,
          -0.038049730112379436,
          -0.02637594851599277
         ]
        },
        {
         "name": "duration",
         "type": "bar",
         "x": [
          "video_quality_recommend",
          "video_quality_relative",
          "video_quality_total",
          "video_total_recommend",
          "video_total_relative",
          "video_total_total"
         ],
         "y": [
          0.017417488281167143,
          -0.013294374756942926,
          -0.00596425459407952,
          0.0055858393799524,
          -0.019112676742438564,
          -0.011267608372206491
         ]
        },
        {
         "name": "ctr",
         "type": "bar",
         "x": [
          "video_quality_recommend",
          "video_quality_relative",
          "video_quality_total",
          "video_total_recommend",
          "video_total_relative",
          "video_total_total"
         ],
         "y": [
          0.01005234665892436,
          0.02479165868797217,
          -0.00013114826910771884,
          -0.004014702033095869,
          0.02170102289744886,
          -0.004084519771314257
         ]
        },
        {
         "name": "read_ratio",
         "type": "bar",
         "x": [
          "video_quality_recommend",
          "video_quality_relative",
          "video_quality_total",
          "video_total_recommend",
          "video_total_relative",
          "video_total_total"
         ],
         "y": [
          -0.032149597155530944,
          -0.018784999223939346,
          -0.031983852352407666,
          -0.02416241014635326,
          -0.01521350341448002,
          -0.02514634206974701
         ]
        },
        {
         "name": "dur1",
         "type": "bar",
         "x": [
          "video_quality_recommend",
          "video_quality_relative",
          "video_quality_total",
          "video_total_recommend",
          "video_total_relative",
          "video_total_total"
         ],
         "y": [
          0.016436284135374332,
          0.008752632083512154,
          -0.006613826345712147,
          0.006685724477436735,
          0.00422770215814156,
          -0.010016981840919691
         ]
        },
        {
         "name": "dur2",
         "type": "bar",
         "x": [
          "video_quality_recommend",
          "video_quality_relative",
          "video_quality_total",
          "video_total_recommend",
          "video_total_relative",
          "video_total_total"
         ],
         "y": [
          0.05022695393534126,
          0.027976678520064007,
          0.02617901577535098,
          0.031588653798241884,
          0.019701199005402105,
          0.015520161025662926
         ]
        },
        {
         "name": "doc_dur",
         "type": "bar",
         "x": [
          "video_quality_recommend",
          "video_quality_relative",
          "video_quality_total",
          "video_total_recommend",
          "video_total_relative",
          "video_total_total"
         ],
         "y": [
          0.002337462012321017,
          0.04707854600679913,
          0.04571552002744355,
          0.006728014203700828,
          0.034418552840727326,
          0.03214987258288755
         ]
        },
        {
         "name": "refresh",
         "type": "bar",
         "x": [
          "video_quality_recommend",
          "video_quality_relative",
          "video_quality_total",
          "video_total_recommend",
          "video_total_relative",
          "video_total_total"
         ],
         "y": [
          0.07679676231141351,
          0.022240087892905297,
          0.05467988121830085,
          0.05551154562857015,
          0.02371058698791403,
          0.04057917750214149
         ]
        },
        {
         "name": "refresh2",
         "type": "bar",
         "x": [
          "video_quality_recommend",
          "video_quality_relative",
          "video_quality_total",
          "video_total_recommend",
          "video_total_relative",
          "video_total_total"
         ],
         "y": [
          0.1125717088849562,
          0.041803705811482496,
          0.0895665979751927,
          0.08163934191309576,
          0.039542266263318616,
          0.06742597122847911
         ]
        },
        {
         "name": "refresh_times",
         "type": "bar",
         "x": [
          "video_quality_recommend",
          "video_quality_relative",
          "video_quality_total",
          "video_total_recommend",
          "video_total_relative",
          "video_total_total"
         ],
         "y": [
          0.07781108489061803,
          0,
          0.05546996824919691,
          0.05436079415093763,
          0,
          0.039294347801731445
         ]
        },
        {
         "name": "praise",
         "type": "bar",
         "x": [
          "video_quality_recommend",
          "video_quality_relative",
          "video_quality_total",
          "video_total_recommend",
          "video_total_relative",
          "video_total_total"
         ],
         "y": [
          -0.10835913312693503,
          -0.2878581173260573,
          -0.2231404958677686,
          -0.12272727272727273,
          -0.23642533936651589,
          -0.16498740554156177
         ]
        },
        {
         "name": "favor",
         "type": "bar",
         "x": [
          "video_quality_recommend",
          "video_quality_relative",
          "video_quality_total",
          "video_total_recommend",
          "video_total_relative",
          "video_total_total"
         ],
         "y": [
          -0.05197505197505203,
          -0.4084136722173532,
          -0.3146399055489964,
          -0.008086253369272238,
          -0.33166189111747846,
          -0.19747416762342135
         ]
        }
       ],
       "layout": {
        "barmode": "group",
        "template": {
         "data": {
          "bar": [
           {
            "error_x": {
             "color": "#2a3f5f"
            },
            "error_y": {
             "color": "#2a3f5f"
            },
            "marker": {
             "line": {
              "color": "#E5ECF6",
              "width": 0.5
             }
            },
            "type": "bar"
           }
          ],
          "barpolar": [
           {
            "marker": {
             "line": {
              "color": "#E5ECF6",
              "width": 0.5
             }
            },
            "type": "barpolar"
           }
          ],
          "carpet": [
           {
            "aaxis": {
             "endlinecolor": "#2a3f5f",
             "gridcolor": "white",
             "linecolor": "white",
             "minorgridcolor": "white",
             "startlinecolor": "#2a3f5f"
            },
            "baxis": {
             "endlinecolor": "#2a3f5f",
             "gridcolor": "white",
             "linecolor": "white",
             "minorgridcolor": "white",
             "startlinecolor": "#2a3f5f"
            },
            "type": "carpet"
           }
          ],
          "choropleth": [
           {
            "colorbar": {
             "outlinewidth": 0,
             "ticks": ""
            },
            "type": "choropleth"
           }
          ],
          "contour": [
           {
            "colorbar": {
             "outlinewidth": 0,
             "ticks": ""
            },
            "colorscale": [
             [
              0,
              "#0d0887"
             ],
             [
              0.1111111111111111,
              "#46039f"
             ],
             [
              0.2222222222222222,
              "#7201a8"
             ],
             [
              0.3333333333333333,
              "#9c179e"
             ],
             [
              0.4444444444444444,
              "#bd3786"
             ],
             [
              0.5555555555555556,
              "#d8576b"
             ],
             [
              0.6666666666666666,
              "#ed7953"
             ],
             [
              0.7777777777777778,
              "#fb9f3a"
             ],
             [
              0.8888888888888888,
              "#fdca26"
             ],
             [
              1,
              "#f0f921"
             ]
            ],
            "type": "contour"
           }
          ],
          "contourcarpet": [
           {
            "colorbar": {
             "outlinewidth": 0,
             "ticks": ""
            },
            "type": "contourcarpet"
           }
          ],
          "heatmap": [
           {
            "colorbar": {
             "outlinewidth": 0,
             "ticks": ""
            },
            "colorscale": [
             [
              0,
              "#0d0887"
             ],
             [
              0.1111111111111111,
              "#46039f"
             ],
             [
              0.2222222222222222,
              "#7201a8"
             ],
             [
              0.3333333333333333,
              "#9c179e"
             ],
             [
              0.4444444444444444,
              "#bd3786"
             ],
             [
              0.5555555555555556,
              "#d8576b"
             ],
             [
              0.6666666666666666,
              "#ed7953"
             ],
             [
              0.7777777777777778,
              "#fb9f3a"
             ],
             [
              0.8888888888888888,
              "#fdca26"
             ],
             [
              1,
              "#f0f921"
             ]
            ],
            "type": "heatmap"
           }
          ],
          "heatmapgl": [
           {
            "colorbar": {
             "outlinewidth": 0,
             "ticks": ""
            },
            "colorscale": [
             [
              0,
              "#0d0887"
             ],
             [
              0.1111111111111111,
              "#46039f"
             ],
             [
              0.2222222222222222,
              "#7201a8"
             ],
             [
              0.3333333333333333,
              "#9c179e"
             ],
             [
              0.4444444444444444,
              "#bd3786"
             ],
             [
              0.5555555555555556,
              "#d8576b"
             ],
             [
              0.6666666666666666,
              "#ed7953"
             ],
             [
              0.7777777777777778,
              "#fb9f3a"
             ],
             [
              0.8888888888888888,
              "#fdca26"
             ],
             [
              1,
              "#f0f921"
             ]
            ],
            "type": "heatmapgl"
           }
          ],
          "histogram": [
           {
            "marker": {
             "colorbar": {
              "outlinewidth": 0,
              "ticks": ""
             }
            },
            "type": "histogram"
           }
          ],
          "histogram2d": [
           {
            "colorbar": {
             "outlinewidth": 0,
             "ticks": ""
            },
            "colorscale": [
             [
              0,
              "#0d0887"
             ],
             [
              0.1111111111111111,
              "#46039f"
             ],
             [
              0.2222222222222222,
              "#7201a8"
             ],
             [
              0.3333333333333333,
              "#9c179e"
             ],
             [
              0.4444444444444444,
              "#bd3786"
             ],
             [
              0.5555555555555556,
              "#d8576b"
             ],
             [
              0.6666666666666666,
              "#ed7953"
             ],
             [
              0.7777777777777778,
              "#fb9f3a"
             ],
             [
              0.8888888888888888,
              "#fdca26"
             ],
             [
              1,
              "#f0f921"
             ]
            ],
            "type": "histogram2d"
           }
          ],
          "histogram2dcontour": [
           {
            "colorbar": {
             "outlinewidth": 0,
             "ticks": ""
            },
            "colorscale": [
             [
              0,
              "#0d0887"
             ],
             [
              0.1111111111111111,
              "#46039f"
             ],
             [
              0.2222222222222222,
              "#7201a8"
             ],
             [
              0.3333333333333333,
              "#9c179e"
             ],
             [
              0.4444444444444444,
              "#bd3786"
             ],
             [
              0.5555555555555556,
              "#d8576b"
             ],
             [
              0.6666666666666666,
              "#ed7953"
             ],
             [
              0.7777777777777778,
              "#fb9f3a"
             ],
             [
              0.8888888888888888,
              "#fdca26"
             ],
             [
              1,
              "#f0f921"
             ]
            ],
            "type": "histogram2dcontour"
           }
          ],
          "mesh3d": [
           {
            "colorbar": {
             "outlinewidth": 0,
             "ticks": ""
            },
            "type": "mesh3d"
           }
          ],
          "parcoords": [
           {
            "line": {
             "colorbar": {
              "outlinewidth": 0,
              "ticks": ""
             }
            },
            "type": "parcoords"
           }
          ],
          "scatter": [
           {
            "marker": {
             "colorbar": {
              "outlinewidth": 0,
              "ticks": ""
             }
            },
            "type": "scatter"
           }
          ],
          "scatter3d": [
           {
            "line": {
             "colorbar": {
              "outlinewidth": 0,
              "ticks": ""
             }
            },
            "marker": {
             "colorbar": {
              "outlinewidth": 0,
              "ticks": ""
             }
            },
            "type": "scatter3d"
           }
          ],
          "scattercarpet": [
           {
            "marker": {
             "colorbar": {
              "outlinewidth": 0,
              "ticks": ""
             }
            },
            "type": "scattercarpet"
           }
          ],
          "scattergeo": [
           {
            "marker": {
             "colorbar": {
              "outlinewidth": 0,
              "ticks": ""
             }
            },
            "type": "scattergeo"
           }
          ],
          "scattergl": [
           {
            "marker": {
             "colorbar": {
              "outlinewidth": 0,
              "ticks": ""
             }
            },
            "type": "scattergl"
           }
          ],
          "scattermapbox": [
           {
            "marker": {
             "colorbar": {
              "outlinewidth": 0,
              "ticks": ""
             }
            },
            "type": "scattermapbox"
           }
          ],
          "scatterpolar": [
           {
            "marker": {
             "colorbar": {
              "outlinewidth": 0,
              "ticks": ""
             }
            },
            "type": "scatterpolar"
           }
          ],
          "scatterpolargl": [
           {
            "marker": {
             "colorbar": {
              "outlinewidth": 0,
              "ticks": ""
             }
            },
            "type": "scatterpolargl"
           }
          ],
          "scatterternary": [
           {
            "marker": {
             "colorbar": {
              "outlinewidth": 0,
              "ticks": ""
             }
            },
            "type": "scatterternary"
           }
          ],
          "surface": [
           {
            "colorbar": {
             "outlinewidth": 0,
             "ticks": ""
            },
            "colorscale": [
             [
              0,
              "#0d0887"
             ],
             [
              0.1111111111111111,
              "#46039f"
             ],
             [
              0.2222222222222222,
              "#7201a8"
             ],
             [
              0.3333333333333333,
              "#9c179e"
             ],
             [
              0.4444444444444444,
              "#bd3786"
             ],
             [
              0.5555555555555556,
              "#d8576b"
             ],
             [
              0.6666666666666666,
              "#ed7953"
             ],
             [
              0.7777777777777778,
              "#fb9f3a"
             ],
             [
              0.8888888888888888,
              "#fdca26"
             ],
             [
              1,
              "#f0f921"
             ]
            ],
            "type": "surface"
           }
          ],
          "table": [
           {
            "cells": {
             "fill": {
              "color": "#EBF0F8"
             },
             "line": {
              "color": "white"
             }
            },
            "header": {
             "fill": {
              "color": "#C8D4E3"
             },
             "line": {
              "color": "white"
             }
            },
            "type": "table"
           }
          ]
         },
         "layout": {
          "annotationdefaults": {
           "arrowcolor": "#2a3f5f",
           "arrowhead": 0,
           "arrowwidth": 1
          },
          "colorscale": {
           "diverging": [
            [
             0,
             "#8e0152"
            ],
            [
             0.1,
             "#c51b7d"
            ],
            [
             0.2,
             "#de77ae"
            ],
            [
             0.3,
             "#f1b6da"
            ],
            [
             0.4,
             "#fde0ef"
            ],
            [
             0.5,
             "#f7f7f7"
            ],
            [
             0.6,
             "#e6f5d0"
            ],
            [
             0.7,
             "#b8e186"
            ],
            [
             0.8,
             "#7fbc41"
            ],
            [
             0.9,
             "#4d9221"
            ],
            [
             1,
             "#276419"
            ]
           ],
           "sequential": [
            [
             0,
             "#0d0887"
            ],
            [
             0.1111111111111111,
             "#46039f"
            ],
            [
             0.2222222222222222,
             "#7201a8"
            ],
            [
             0.3333333333333333,
             "#9c179e"
            ],
            [
             0.4444444444444444,
             "#bd3786"
            ],
            [
             0.5555555555555556,
             "#d8576b"
            ],
            [
             0.6666666666666666,
             "#ed7953"
            ],
            [
             0.7777777777777778,
             "#fb9f3a"
            ],
            [
             0.8888888888888888,
             "#fdca26"
            ],
            [
             1,
             "#f0f921"
            ]
           ],
           "sequentialminus": [
            [
             0,
             "#0d0887"
            ],
            [
             0.1111111111111111,
             "#46039f"
            ],
            [
             0.2222222222222222,
             "#7201a8"
            ],
            [
             0.3333333333333333,
             "#9c179e"
            ],
            [
             0.4444444444444444,
             "#bd3786"
            ],
            [
             0.5555555555555556,
             "#d8576b"
            ],
            [
             0.6666666666666666,
             "#ed7953"
            ],
            [
             0.7777777777777778,
             "#fb9f3a"
            ],
            [
             0.8888888888888888,
             "#fdca26"
            ],
            [
             1,
             "#f0f921"
            ]
           ]
          },
          "colorway": [
           "#636efa",
           "#EF553B",
           "#00cc96",
           "#ab63fa",
           "#FFA15A",
           "#19d3f3",
           "#FF6692",
           "#B6E880",
           "#FF97FF",
           "#FECB52"
          ],
          "font": {
           "color": "#2a3f5f"
          },
          "geo": {
           "bgcolor": "white",
           "lakecolor": "white",
           "landcolor": "#E5ECF6",
           "showlakes": true,
           "showland": true,
           "subunitcolor": "white"
          },
          "hoverlabel": {
           "align": "left"
          },
          "hovermode": "closest",
          "mapbox": {
           "style": "light"
          },
          "paper_bgcolor": "white",
          "plot_bgcolor": "#E5ECF6",
          "polar": {
           "angularaxis": {
            "gridcolor": "white",
            "linecolor": "white",
            "ticks": ""
           },
           "bgcolor": "#E5ECF6",
           "radialaxis": {
            "gridcolor": "white",
            "linecolor": "white",
            "ticks": ""
           }
          },
          "scene": {
           "xaxis": {
            "backgroundcolor": "#E5ECF6",
            "gridcolor": "white",
            "gridwidth": 2,
            "linecolor": "white",
            "showbackground": true,
            "ticks": "",
            "zerolinecolor": "white"
           },
           "yaxis": {
            "backgroundcolor": "#E5ECF6",
            "gridcolor": "white",
            "gridwidth": 2,
            "linecolor": "white",
            "showbackground": true,
            "ticks": "",
            "zerolinecolor": "white"
           },
           "zaxis": {
            "backgroundcolor": "#E5ECF6",
            "gridcolor": "white",
            "gridwidth": 2,
            "linecolor": "white",
            "showbackground": true,
            "ticks": "",
            "zerolinecolor": "white"
           }
          },
          "shapedefaults": {
           "line": {
            "color": "#2a3f5f"
           }
          },
          "ternary": {
           "aaxis": {
            "gridcolor": "white",
            "linecolor": "white",
            "ticks": ""
           },
           "baxis": {
            "gridcolor": "white",
            "linecolor": "white",
            "ticks": ""
           },
           "bgcolor": "#E5ECF6",
           "caxis": {
            "gridcolor": "white",
            "linecolor": "white",
            "ticks": ""
           }
          },
          "title": {
           "x": 0.05
          },
          "xaxis": {
           "automargin": true,
           "gridcolor": "white",
           "linecolor": "white",
           "ticks": "",
           "zerolinecolor": "white",
           "zerolinewidth": 2
          },
          "yaxis": {
           "automargin": true,
           "gridcolor": "white",
           "linecolor": "white",
           "ticks": "",
           "zerolinecolor": "white",
           "zerolinewidth": 2
          }
         }
        },
        "title": {
         "text": "sgsapp:abtest:8"
        }
       }
      },
      "text/html": [
       "<div>\n",
       "        \n",
       "        \n",
       "            <div id=\"2641850d-70e8-49a8-b7ac-b18caed2b8ed\" class=\"plotly-graph-div\" style=\"height:525px; width:100%;\"></div>\n",
       "            <script type=\"text/javascript\">\n",
       "                require([\"plotly\"], function(Plotly) {\n",
       "                    window.PLOTLYENV=window.PLOTLYENV || {};\n",
       "                    \n",
       "                if (document.getElementById(\"2641850d-70e8-49a8-b7ac-b18caed2b8ed\")) {\n",
       "                    Plotly.newPlot(\n",
       "                        '2641850d-70e8-49a8-b7ac-b18caed2b8ed',\n",
       "                        [{\"name\": \"click\", \"type\": \"bar\", \"x\": [\"video_quality_recommend\", \"video_quality_relative\", \"video_quality_total\", \"video_total_recommend\", \"video_total_relative\", \"video_total_total\"], \"y\": [0.014966837462169017, -0.05810207200179527, -0.049774914864620094, -0.0012382208214067475, -0.05226458585111299, -0.04246984529282271]}, {\"name\": \"click_user\", \"type\": \"bar\", \"x\": [\"video_quality_recommend\", \"video_quality_relative\", \"video_quality_total\", \"video_total_recommend\", \"video_total_relative\", \"video_total_total\"], \"y\": [-0.03125687871450583, -0.0401954795357361, -0.03138700677560781, -0.02524292809328435, -0.038049730112379436, -0.02637594851599277]}, {\"name\": \"duration\", \"type\": \"bar\", \"x\": [\"video_quality_recommend\", \"video_quality_relative\", \"video_quality_total\", \"video_total_recommend\", \"video_total_relative\", \"video_total_total\"], \"y\": [0.017417488281167143, -0.013294374756942926, -0.00596425459407952, 0.0055858393799524, -0.019112676742438564, -0.011267608372206491]}, {\"name\": \"ctr\", \"type\": \"bar\", \"x\": [\"video_quality_recommend\", \"video_quality_relative\", \"video_quality_total\", \"video_total_recommend\", \"video_total_relative\", \"video_total_total\"], \"y\": [0.01005234665892436, 0.02479165868797217, -0.00013114826910771884, -0.004014702033095869, 0.02170102289744886, -0.004084519771314257]}, {\"name\": \"read_ratio\", \"type\": \"bar\", \"x\": [\"video_quality_recommend\", \"video_quality_relative\", \"video_quality_total\", \"video_total_recommend\", \"video_total_relative\", \"video_total_total\"], \"y\": [-0.032149597155530944, -0.018784999223939346, -0.031983852352407666, -0.02416241014635326, -0.01521350341448002, -0.02514634206974701]}, {\"name\": \"dur1\", \"type\": \"bar\", \"x\": [\"video_quality_recommend\", \"video_quality_relative\", \"video_quality_total\", \"video_total_recommend\", \"video_total_relative\", \"video_total_total\"], \"y\": [0.016436284135374332, 0.008752632083512154, -0.006613826345712147, 0.006685724477436735, 0.00422770215814156, -0.010016981840919691]}, {\"name\": \"dur2\", \"type\": \"bar\", \"x\": [\"video_quality_recommend\", \"video_quality_relative\", \"video_quality_total\", \"video_total_recommend\", \"video_total_relative\", \"video_total_total\"], \"y\": [0.05022695393534126, 0.027976678520064007, 0.02617901577535098, 0.031588653798241884, 0.019701199005402105, 0.015520161025662926]}, {\"name\": \"doc_dur\", \"type\": \"bar\", \"x\": [\"video_quality_recommend\", \"video_quality_relative\", \"video_quality_total\", \"video_total_recommend\", \"video_total_relative\", \"video_total_total\"], \"y\": [0.002337462012321017, 0.04707854600679913, 0.04571552002744355, 0.006728014203700828, 0.034418552840727326, 0.03214987258288755]}, {\"name\": \"refresh\", \"type\": \"bar\", \"x\": [\"video_quality_recommend\", \"video_quality_relative\", \"video_quality_total\", \"video_total_recommend\", \"video_total_relative\", \"video_total_total\"], \"y\": [0.07679676231141351, 0.022240087892905297, 0.05467988121830085, 0.05551154562857015, 0.02371058698791403, 0.04057917750214149]}, {\"name\": \"refresh2\", \"type\": \"bar\", \"x\": [\"video_quality_recommend\", \"video_quality_relative\", \"video_quality_total\", \"video_total_recommend\", \"video_total_relative\", \"video_total_total\"], \"y\": [0.1125717088849562, 0.041803705811482496, 0.0895665979751927, 0.08163934191309576, 0.039542266263318616, 0.06742597122847911]}, {\"name\": \"refresh_times\", \"type\": \"bar\", \"x\": [\"video_quality_recommend\", \"video_quality_relative\", \"video_quality_total\", \"video_total_recommend\", \"video_total_relative\", \"video_total_total\"], \"y\": [0.07781108489061803, 0.0, 0.05546996824919691, 0.05436079415093763, 0.0, 0.039294347801731445]}, {\"name\": \"praise\", \"type\": \"bar\", \"x\": [\"video_quality_recommend\", \"video_quality_relative\", \"video_quality_total\", \"video_total_recommend\", \"video_total_relative\", \"video_total_total\"], \"y\": [-0.10835913312693503, -0.2878581173260573, -0.2231404958677686, -0.12272727272727273, -0.23642533936651589, -0.16498740554156177]}, {\"name\": \"favor\", \"type\": \"bar\", \"x\": [\"video_quality_recommend\", \"video_quality_relative\", \"video_quality_total\", \"video_total_recommend\", \"video_total_relative\", \"video_total_total\"], \"y\": [-0.05197505197505203, -0.4084136722173532, -0.3146399055489964, -0.008086253369272238, -0.33166189111747846, -0.19747416762342135]}],\n",
       "                        {\"barmode\": \"group\", \"template\": {\"data\": {\"bar\": [{\"error_x\": {\"color\": \"#2a3f5f\"}, \"error_y\": {\"color\": \"#2a3f5f\"}, \"marker\": {\"line\": {\"color\": \"#E5ECF6\", \"width\": 0.5}}, \"type\": \"bar\"}], \"barpolar\": [{\"marker\": {\"line\": {\"color\": \"#E5ECF6\", \"width\": 0.5}}, \"type\": \"barpolar\"}], \"carpet\": [{\"aaxis\": {\"endlinecolor\": \"#2a3f5f\", \"gridcolor\": \"white\", \"linecolor\": \"white\", \"minorgridcolor\": \"white\", \"startlinecolor\": \"#2a3f5f\"}, \"baxis\": {\"endlinecolor\": \"#2a3f5f\", \"gridcolor\": \"white\", \"linecolor\": \"white\", \"minorgridcolor\": \"white\", \"startlinecolor\": \"#2a3f5f\"}, \"type\": \"carpet\"}], \"choropleth\": [{\"colorbar\": {\"outlinewidth\": 0, \"ticks\": \"\"}, \"type\": \"choropleth\"}], \"contour\": [{\"colorbar\": {\"outlinewidth\": 0, \"ticks\": \"\"}, \"colorscale\": [[0.0, \"#0d0887\"], [0.1111111111111111, \"#46039f\"], [0.2222222222222222, \"#7201a8\"], [0.3333333333333333, \"#9c179e\"], [0.4444444444444444, \"#bd3786\"], [0.5555555555555556, \"#d8576b\"], [0.6666666666666666, \"#ed7953\"], [0.7777777777777778, \"#fb9f3a\"], [0.8888888888888888, \"#fdca26\"], [1.0, \"#f0f921\"]], \"type\": \"contour\"}], \"contourcarpet\": [{\"colorbar\": {\"outlinewidth\": 0, \"ticks\": \"\"}, \"type\": \"contourcarpet\"}], \"heatmap\": [{\"colorbar\": {\"outlinewidth\": 0, \"ticks\": \"\"}, \"colorscale\": [[0.0, \"#0d0887\"], [0.1111111111111111, \"#46039f\"], [0.2222222222222222, \"#7201a8\"], [0.3333333333333333, \"#9c179e\"], [0.4444444444444444, \"#bd3786\"], [0.5555555555555556, \"#d8576b\"], [0.6666666666666666, \"#ed7953\"], [0.7777777777777778, \"#fb9f3a\"], [0.8888888888888888, \"#fdca26\"], [1.0, \"#f0f921\"]], \"type\": \"heatmap\"}], \"heatmapgl\": [{\"colorbar\": {\"outlinewidth\": 0, \"ticks\": \"\"}, \"colorscale\": [[0.0, \"#0d0887\"], [0.1111111111111111, \"#46039f\"], [0.2222222222222222, \"#7201a8\"], [0.3333333333333333, \"#9c179e\"], [0.4444444444444444, \"#bd3786\"], [0.5555555555555556, \"#d8576b\"], [0.6666666666666666, \"#ed7953\"], [0.7777777777777778, \"#fb9f3a\"], [0.8888888888888888, \"#fdca26\"], [1.0, \"#f0f921\"]], \"type\": \"heatmapgl\"}], \"histogram\": [{\"marker\": {\"colorbar\": {\"outlinewidth\": 0, \"ticks\": \"\"}}, \"type\": \"histogram\"}], \"histogram2d\": [{\"colorbar\": {\"outlinewidth\": 0, \"ticks\": \"\"}, \"colorscale\": [[0.0, \"#0d0887\"], [0.1111111111111111, \"#46039f\"], [0.2222222222222222, \"#7201a8\"], [0.3333333333333333, \"#9c179e\"], [0.4444444444444444, \"#bd3786\"], [0.5555555555555556, \"#d8576b\"], [0.6666666666666666, \"#ed7953\"], [0.7777777777777778, \"#fb9f3a\"], [0.8888888888888888, \"#fdca26\"], [1.0, \"#f0f921\"]], \"type\": \"histogram2d\"}], \"histogram2dcontour\": [{\"colorbar\": {\"outlinewidth\": 0, \"ticks\": \"\"}, \"colorscale\": [[0.0, \"#0d0887\"], [0.1111111111111111, \"#46039f\"], [0.2222222222222222, \"#7201a8\"], [0.3333333333333333, \"#9c179e\"], [0.4444444444444444, \"#bd3786\"], [0.5555555555555556, \"#d8576b\"], [0.6666666666666666, \"#ed7953\"], [0.7777777777777778, \"#fb9f3a\"], [0.8888888888888888, \"#fdca26\"], [1.0, \"#f0f921\"]], \"type\": \"histogram2dcontour\"}], \"mesh3d\": [{\"colorbar\": {\"outlinewidth\": 0, \"ticks\": \"\"}, \"type\": \"mesh3d\"}], \"parcoords\": [{\"line\": {\"colorbar\": {\"outlinewidth\": 0, \"ticks\": \"\"}}, \"type\": \"parcoords\"}], \"scatter\": [{\"marker\": {\"colorbar\": {\"outlinewidth\": 0, \"ticks\": \"\"}}, \"type\": \"scatter\"}], \"scatter3d\": [{\"line\": {\"colorbar\": {\"outlinewidth\": 0, \"ticks\": \"\"}}, \"marker\": {\"colorbar\": {\"outlinewidth\": 0, \"ticks\": \"\"}}, \"type\": \"scatter3d\"}], \"scattercarpet\": [{\"marker\": {\"colorbar\": {\"outlinewidth\": 0, \"ticks\": \"\"}}, \"type\": \"scattercarpet\"}], \"scattergeo\": [{\"marker\": {\"colorbar\": {\"outlinewidth\": 0, \"ticks\": \"\"}}, \"type\": \"scattergeo\"}], \"scattergl\": [{\"marker\": {\"colorbar\": {\"outlinewidth\": 0, \"ticks\": \"\"}}, \"type\": \"scattergl\"}], \"scattermapbox\": [{\"marker\": {\"colorbar\": {\"outlinewidth\": 0, \"ticks\": \"\"}}, \"type\": \"scattermapbox\"}], \"scatterpolar\": [{\"marker\": {\"colorbar\": {\"outlinewidth\": 0, \"ticks\": \"\"}}, \"type\": \"scatterpolar\"}], \"scatterpolargl\": [{\"marker\": {\"colorbar\": {\"outlinewidth\": 0, \"ticks\": \"\"}}, \"type\": \"scatterpolargl\"}], \"scatterternary\": [{\"marker\": {\"colorbar\": {\"outlinewidth\": 0, \"ticks\": \"\"}}, \"type\": \"scatterternary\"}], \"surface\": [{\"colorbar\": {\"outlinewidth\": 0, \"ticks\": \"\"}, \"colorscale\": [[0.0, \"#0d0887\"], [0.1111111111111111, \"#46039f\"], [0.2222222222222222, \"#7201a8\"], [0.3333333333333333, \"#9c179e\"], [0.4444444444444444, \"#bd3786\"], [0.5555555555555556, \"#d8576b\"], [0.6666666666666666, \"#ed7953\"], [0.7777777777777778, \"#fb9f3a\"], [0.8888888888888888, \"#fdca26\"], [1.0, \"#f0f921\"]], \"type\": \"surface\"}], \"table\": [{\"cells\": {\"fill\": {\"color\": \"#EBF0F8\"}, \"line\": {\"color\": \"white\"}}, \"header\": {\"fill\": {\"color\": \"#C8D4E3\"}, \"line\": {\"color\": \"white\"}}, \"type\": \"table\"}]}, \"layout\": {\"annotationdefaults\": {\"arrowcolor\": \"#2a3f5f\", \"arrowhead\": 0, \"arrowwidth\": 1}, \"colorscale\": {\"diverging\": [[0, \"#8e0152\"], [0.1, \"#c51b7d\"], [0.2, \"#de77ae\"], [0.3, \"#f1b6da\"], [0.4, \"#fde0ef\"], [0.5, \"#f7f7f7\"], [0.6, \"#e6f5d0\"], [0.7, \"#b8e186\"], [0.8, \"#7fbc41\"], [0.9, \"#4d9221\"], [1, \"#276419\"]], \"sequential\": [[0.0, \"#0d0887\"], [0.1111111111111111, \"#46039f\"], [0.2222222222222222, \"#7201a8\"], [0.3333333333333333, \"#9c179e\"], [0.4444444444444444, \"#bd3786\"], [0.5555555555555556, \"#d8576b\"], [0.6666666666666666, \"#ed7953\"], [0.7777777777777778, \"#fb9f3a\"], [0.8888888888888888, \"#fdca26\"], [1.0, \"#f0f921\"]], \"sequentialminus\": [[0.0, \"#0d0887\"], [0.1111111111111111, \"#46039f\"], [0.2222222222222222, \"#7201a8\"], [0.3333333333333333, \"#9c179e\"], [0.4444444444444444, \"#bd3786\"], [0.5555555555555556, \"#d8576b\"], [0.6666666666666666, \"#ed7953\"], [0.7777777777777778, \"#fb9f3a\"], [0.8888888888888888, \"#fdca26\"], [1.0, \"#f0f921\"]]}, \"colorway\": [\"#636efa\", \"#EF553B\", \"#00cc96\", \"#ab63fa\", \"#FFA15A\", \"#19d3f3\", \"#FF6692\", \"#B6E880\", \"#FF97FF\", \"#FECB52\"], \"font\": {\"color\": \"#2a3f5f\"}, \"geo\": {\"bgcolor\": \"white\", \"lakecolor\": \"white\", \"landcolor\": \"#E5ECF6\", \"showlakes\": true, \"showland\": true, \"subunitcolor\": \"white\"}, \"hoverlabel\": {\"align\": \"left\"}, \"hovermode\": \"closest\", \"mapbox\": {\"style\": \"light\"}, \"paper_bgcolor\": \"white\", \"plot_bgcolor\": \"#E5ECF6\", \"polar\": {\"angularaxis\": {\"gridcolor\": \"white\", \"linecolor\": \"white\", \"ticks\": \"\"}, \"bgcolor\": \"#E5ECF6\", \"radialaxis\": {\"gridcolor\": \"white\", \"linecolor\": \"white\", \"ticks\": \"\"}}, \"scene\": {\"xaxis\": {\"backgroundcolor\": \"#E5ECF6\", \"gridcolor\": \"white\", \"gridwidth\": 2, \"linecolor\": \"white\", \"showbackground\": true, \"ticks\": \"\", \"zerolinecolor\": \"white\"}, \"yaxis\": {\"backgroundcolor\": \"#E5ECF6\", \"gridcolor\": \"white\", \"gridwidth\": 2, \"linecolor\": \"white\", \"showbackground\": true, \"ticks\": \"\", \"zerolinecolor\": \"white\"}, \"zaxis\": {\"backgroundcolor\": \"#E5ECF6\", \"gridcolor\": \"white\", \"gridwidth\": 2, \"linecolor\": \"white\", \"showbackground\": true, \"ticks\": \"\", \"zerolinecolor\": \"white\"}}, \"shapedefaults\": {\"line\": {\"color\": \"#2a3f5f\"}}, \"ternary\": {\"aaxis\": {\"gridcolor\": \"white\", \"linecolor\": \"white\", \"ticks\": \"\"}, \"baxis\": {\"gridcolor\": \"white\", \"linecolor\": \"white\", \"ticks\": \"\"}, \"bgcolor\": \"#E5ECF6\", \"caxis\": {\"gridcolor\": \"white\", \"linecolor\": \"white\", \"ticks\": \"\"}}, \"title\": {\"x\": 0.05}, \"xaxis\": {\"automargin\": true, \"gridcolor\": \"white\", \"linecolor\": \"white\", \"ticks\": \"\", \"zerolinecolor\": \"white\", \"zerolinewidth\": 2}, \"yaxis\": {\"automargin\": true, \"gridcolor\": \"white\", \"linecolor\": \"white\", \"ticks\": \"\", \"zerolinecolor\": \"white\", \"zerolinewidth\": 2}}}, \"title\": {\"text\": \"sgsapp:abtest:8\"}},\n",
       "                        {\"responsive\": true}\n",
       "                    ).then(function(){\n",
       "                            \n",
       "var gd = document.getElementById('2641850d-70e8-49a8-b7ac-b18caed2b8ed');\n",
       "var x = new MutationObserver(function (mutations, observer) {{\n",
       "        var display = window.getComputedStyle(gd).display;\n",
       "        if (!display || display === 'none') {{\n",
       "            console.log([gd, 'removed!']);\n",
       "            Plotly.purge(gd);\n",
       "            observer.disconnect();\n",
       "        }}\n",
       "}});\n",
       "\n",
       "// Listen for the removal of the full notebook cells\n",
       "var notebookContainer = gd.closest('#notebook-container');\n",
       "if (notebookContainer) {{\n",
       "    x.observe(notebookContainer, {childList: true});\n",
       "}}\n",
       "\n",
       "// Listen for the clearing of the current output cell\n",
       "var outputEl = gd.closest('.output');\n",
       "if (outputEl) {{\n",
       "    x.observe(outputEl, {childList: true});\n",
       "}}\n",
       "\n",
       "                        })\n",
       "                };\n",
       "                });\n",
       "            </script>\n",
       "        </div>"
      ]
     },
     "metadata": {},
     "output_type": "display_data"
    }
   ],
   "source": [
    "show('video')"
   ]
  },
  {
   "cell_type": "code",
   "execution_count": 11,
   "metadata": {},
   "outputs": [
    {
     "data": {
      "application/vnd.plotly.v1+json": {
       "config": {
        "plotlyServerURL": "https://plot.ly"
       },
       "data": [
        {
         "name": "click",
         "type": "bar",
         "x": [
          "tuwen_quality_recommend",
          "tuwen_quality_relative",
          "tuwen_quality_total",
          "tuwen_total_recommend",
          "tuwen_total_relative",
          "tuwen_total_total"
         ],
         "y": [
          -0.036469697295837655,
          0.050301810865191206,
          -0.03636381204525915,
          -0.032504374569171254,
          -0.06424090338770383,
          -0.03264149407299523
         ]
        },
        {
         "name": "click_user",
         "type": "bar",
         "x": [
          "tuwen_quality_recommend",
          "tuwen_quality_relative",
          "tuwen_quality_total",
          "tuwen_total_recommend",
          "tuwen_total_relative",
          "tuwen_total_total"
         ],
         "y": [
          -0.02052911870812575,
          0.11563367252543946,
          -0.020268634181776695,
          -0.019671113869066024,
          0.07846153846153846,
          -0.020161501756593782
         ]
        },
        {
         "name": "duration",
         "type": "bar",
         "x": [
          "tuwen_quality_recommend",
          "tuwen_quality_relative",
          "tuwen_quality_total",
          "tuwen_total_recommend",
          "tuwen_total_relative",
          "tuwen_total_total"
         ],
         "y": [
          -0.10039186894763232,
          0.038549917092427236,
          -0.09949800479715297,
          -0.0883377092370535,
          0.20695942084989705,
          -0.08668952086414704
         ]
        },
        {
         "name": "ctr",
         "type": "bar",
         "x": [
          "tuwen_quality_recommend",
          "tuwen_quality_relative",
          "tuwen_quality_total",
          "tuwen_total_recommend",
          "tuwen_total_relative",
          "tuwen_total_total"
         ],
         "y": [
          -0.039835618209257344,
          -0.02572411237877177,
          -0.046251619906405,
          -0.02635180293137528,
          -0.10762015903304141,
          -0.030540007796854184
         ]
        },
        {
         "name": "read_ratio",
         "type": "bar",
         "x": [
          "tuwen_quality_recommend",
          "tuwen_quality_relative",
          "tuwen_quality_total",
          "tuwen_total_recommend",
          "tuwen_total_relative",
          "tuwen_total_total"
         ],
         "y": [
          -0.015384116491271343,
          0.09470960118471491,
          -0.014796429602366708,
          -0.01604191587755889,
          0.05406323087816178,
          -0.01639948249487398
         ]
        },
        {
         "name": "dur1",
         "type": "bar",
         "x": [
          "tuwen_quality_recommend",
          "tuwen_quality_relative",
          "tuwen_quality_total",
          "tuwen_total_recommend",
          "tuwen_total_relative",
          "tuwen_total_total"
         ],
         "y": [
          -0.09568085338087487,
          0.018597273686312567,
          -0.09447790982320187,
          -0.08495545715306001,
          0.17966484656504092,
          -0.08317225461709013
         ]
        },
        {
         "name": "dur2",
         "type": "bar",
         "x": [
          "tuwen_quality_recommend",
          "tuwen_quality_relative",
          "tuwen_quality_total",
          "tuwen_total_recommend",
          "tuwen_total_relative",
          "tuwen_total_total"
         ],
         "y": [
          -0.08157058790837168,
          -0.06977302419226833,
          -0.08089499171291978,
          -0.07003381239928137,
          0.1185100882412834,
          -0.06788056123157862
         ]
        },
        {
         "name": "doc_dur",
         "type": "bar",
         "x": [
          "tuwen_quality_recommend",
          "tuwen_quality_relative",
          "tuwen_quality_total",
          "tuwen_total_recommend",
          "tuwen_total_relative",
          "tuwen_total_total"
         ],
         "y": [
          -0.06637310340013736,
          -0.015344858121037499,
          -0.06555005805669523,
          -0.05776740118889094,
          0.2844786644625759,
          -0.05593343998102574
         ]
        },
        {
         "name": "refresh",
         "type": "bar",
         "x": [
          "tuwen_quality_recommend",
          "tuwen_quality_relative",
          "tuwen_quality_total",
          "tuwen_total_recommend",
          "tuwen_total_relative",
          "tuwen_total_total"
         ],
         "y": [
          0.0018932694994389843,
          -0.018879537963552896,
          0.001973422353351668,
          -0.009956412657201595,
          -0.02251868325523773,
          -0.01044870527693423
         ]
        },
        {
         "name": "refresh2",
         "type": "bar",
         "x": [
          "tuwen_quality_recommend",
          "tuwen_quality_relative",
          "tuwen_quality_total",
          "tuwen_total_recommend",
          "tuwen_total_relative",
          "tuwen_total_total"
         ],
         "y": [
          0.017524865035736796,
          -0.10387886484847951,
          0.017003105303382927,
          0.006173826795988101,
          -0.07310998801384849,
          0.006037213261479401
         ]
        },
        {
         "name": "refresh_times",
         "type": "bar",
         "x": [
          "tuwen_quality_recommend",
          "tuwen_quality_relative",
          "tuwen_quality_total",
          "tuwen_total_recommend",
          "tuwen_total_relative",
          "tuwen_total_total"
         ],
         "y": [
          -0.003343595421018834,
          0,
          -0.0035950951242736937,
          -0.01359168360824094,
          0,
          -0.014214111982018563
         ]
        },
        {
         "name": "praise",
         "type": "bar",
         "x": [
          "tuwen_quality_recommend",
          "tuwen_quality_relative",
          "tuwen_quality_total",
          "tuwen_total_recommend",
          "tuwen_total_relative",
          "tuwen_total_total"
         ],
         "y": [
          -0.04953917050691238,
          1.4375000000000002,
          -0.04190260475651183,
          -0.1301065719360568,
          0.875,
          -0.12978083369144816
         ]
        },
        {
         "name": "favor",
         "type": "bar",
         "x": [
          "tuwen_quality_recommend",
          "tuwen_quality_relative",
          "tuwen_quality_total",
          "tuwen_total_recommend",
          "tuwen_total_relative",
          "tuwen_total_total"
         ],
         "y": [
          -0.17345414716718108,
          -0.08333333333333333,
          -0.17492654260528898,
          -0.1460249671484888,
          -0.21538461538461542,
          -0.12778627182747238
         ]
        }
       ],
       "layout": {
        "barmode": "group",
        "template": {
         "data": {
          "bar": [
           {
            "error_x": {
             "color": "#2a3f5f"
            },
            "error_y": {
             "color": "#2a3f5f"
            },
            "marker": {
             "line": {
              "color": "#E5ECF6",
              "width": 0.5
             }
            },
            "type": "bar"
           }
          ],
          "barpolar": [
           {
            "marker": {
             "line": {
              "color": "#E5ECF6",
              "width": 0.5
             }
            },
            "type": "barpolar"
           }
          ],
          "carpet": [
           {
            "aaxis": {
             "endlinecolor": "#2a3f5f",
             "gridcolor": "white",
             "linecolor": "white",
             "minorgridcolor": "white",
             "startlinecolor": "#2a3f5f"
            },
            "baxis": {
             "endlinecolor": "#2a3f5f",
             "gridcolor": "white",
             "linecolor": "white",
             "minorgridcolor": "white",
             "startlinecolor": "#2a3f5f"
            },
            "type": "carpet"
           }
          ],
          "choropleth": [
           {
            "colorbar": {
             "outlinewidth": 0,
             "ticks": ""
            },
            "type": "choropleth"
           }
          ],
          "contour": [
           {
            "colorbar": {
             "outlinewidth": 0,
             "ticks": ""
            },
            "colorscale": [
             [
              0,
              "#0d0887"
             ],
             [
              0.1111111111111111,
              "#46039f"
             ],
             [
              0.2222222222222222,
              "#7201a8"
             ],
             [
              0.3333333333333333,
              "#9c179e"
             ],
             [
              0.4444444444444444,
              "#bd3786"
             ],
             [
              0.5555555555555556,
              "#d8576b"
             ],
             [
              0.6666666666666666,
              "#ed7953"
             ],
             [
              0.7777777777777778,
              "#fb9f3a"
             ],
             [
              0.8888888888888888,
              "#fdca26"
             ],
             [
              1,
              "#f0f921"
             ]
            ],
            "type": "contour"
           }
          ],
          "contourcarpet": [
           {
            "colorbar": {
             "outlinewidth": 0,
             "ticks": ""
            },
            "type": "contourcarpet"
           }
          ],
          "heatmap": [
           {
            "colorbar": {
             "outlinewidth": 0,
             "ticks": ""
            },
            "colorscale": [
             [
              0,
              "#0d0887"
             ],
             [
              0.1111111111111111,
              "#46039f"
             ],
             [
              0.2222222222222222,
              "#7201a8"
             ],
             [
              0.3333333333333333,
              "#9c179e"
             ],
             [
              0.4444444444444444,
              "#bd3786"
             ],
             [
              0.5555555555555556,
              "#d8576b"
             ],
             [
              0.6666666666666666,
              "#ed7953"
             ],
             [
              0.7777777777777778,
              "#fb9f3a"
             ],
             [
              0.8888888888888888,
              "#fdca26"
             ],
             [
              1,
              "#f0f921"
             ]
            ],
            "type": "heatmap"
           }
          ],
          "heatmapgl": [
           {
            "colorbar": {
             "outlinewidth": 0,
             "ticks": ""
            },
            "colorscale": [
             [
              0,
              "#0d0887"
             ],
             [
              0.1111111111111111,
              "#46039f"
             ],
             [
              0.2222222222222222,
              "#7201a8"
             ],
             [
              0.3333333333333333,
              "#9c179e"
             ],
             [
              0.4444444444444444,
              "#bd3786"
             ],
             [
              0.5555555555555556,
              "#d8576b"
             ],
             [
              0.6666666666666666,
              "#ed7953"
             ],
             [
              0.7777777777777778,
              "#fb9f3a"
             ],
             [
              0.8888888888888888,
              "#fdca26"
             ],
             [
              1,
              "#f0f921"
             ]
            ],
            "type": "heatmapgl"
           }
          ],
          "histogram": [
           {
            "marker": {
             "colorbar": {
              "outlinewidth": 0,
              "ticks": ""
             }
            },
            "type": "histogram"
           }
          ],
          "histogram2d": [
           {
            "colorbar": {
             "outlinewidth": 0,
             "ticks": ""
            },
            "colorscale": [
             [
              0,
              "#0d0887"
             ],
             [
              0.1111111111111111,
              "#46039f"
             ],
             [
              0.2222222222222222,
              "#7201a8"
             ],
             [
              0.3333333333333333,
              "#9c179e"
             ],
             [
              0.4444444444444444,
              "#bd3786"
             ],
             [
              0.5555555555555556,
              "#d8576b"
             ],
             [
              0.6666666666666666,
              "#ed7953"
             ],
             [
              0.7777777777777778,
              "#fb9f3a"
             ],
             [
              0.8888888888888888,
              "#fdca26"
             ],
             [
              1,
              "#f0f921"
             ]
            ],
            "type": "histogram2d"
           }
          ],
          "histogram2dcontour": [
           {
            "colorbar": {
             "outlinewidth": 0,
             "ticks": ""
            },
            "colorscale": [
             [
              0,
              "#0d0887"
             ],
             [
              0.1111111111111111,
              "#46039f"
             ],
             [
              0.2222222222222222,
              "#7201a8"
             ],
             [
              0.3333333333333333,
              "#9c179e"
             ],
             [
              0.4444444444444444,
              "#bd3786"
             ],
             [
              0.5555555555555556,
              "#d8576b"
             ],
             [
              0.6666666666666666,
              "#ed7953"
             ],
             [
              0.7777777777777778,
              "#fb9f3a"
             ],
             [
              0.8888888888888888,
              "#fdca26"
             ],
             [
              1,
              "#f0f921"
             ]
            ],
            "type": "histogram2dcontour"
           }
          ],
          "mesh3d": [
           {
            "colorbar": {
             "outlinewidth": 0,
             "ticks": ""
            },
            "type": "mesh3d"
           }
          ],
          "parcoords": [
           {
            "line": {
             "colorbar": {
              "outlinewidth": 0,
              "ticks": ""
             }
            },
            "type": "parcoords"
           }
          ],
          "scatter": [
           {
            "marker": {
             "colorbar": {
              "outlinewidth": 0,
              "ticks": ""
             }
            },
            "type": "scatter"
           }
          ],
          "scatter3d": [
           {
            "line": {
             "colorbar": {
              "outlinewidth": 0,
              "ticks": ""
             }
            },
            "marker": {
             "colorbar": {
              "outlinewidth": 0,
              "ticks": ""
             }
            },
            "type": "scatter3d"
           }
          ],
          "scattercarpet": [
           {
            "marker": {
             "colorbar": {
              "outlinewidth": 0,
              "ticks": ""
             }
            },
            "type": "scattercarpet"
           }
          ],
          "scattergeo": [
           {
            "marker": {
             "colorbar": {
              "outlinewidth": 0,
              "ticks": ""
             }
            },
            "type": "scattergeo"
           }
          ],
          "scattergl": [
           {
            "marker": {
             "colorbar": {
              "outlinewidth": 0,
              "ticks": ""
             }
            },
            "type": "scattergl"
           }
          ],
          "scattermapbox": [
           {
            "marker": {
             "colorbar": {
              "outlinewidth": 0,
              "ticks": ""
             }
            },
            "type": "scattermapbox"
           }
          ],
          "scatterpolar": [
           {
            "marker": {
             "colorbar": {
              "outlinewidth": 0,
              "ticks": ""
             }
            },
            "type": "scatterpolar"
           }
          ],
          "scatterpolargl": [
           {
            "marker": {
             "colorbar": {
              "outlinewidth": 0,
              "ticks": ""
             }
            },
            "type": "scatterpolargl"
           }
          ],
          "scatterternary": [
           {
            "marker": {
             "colorbar": {
              "outlinewidth": 0,
              "ticks": ""
             }
            },
            "type": "scatterternary"
           }
          ],
          "surface": [
           {
            "colorbar": {
             "outlinewidth": 0,
             "ticks": ""
            },
            "colorscale": [
             [
              0,
              "#0d0887"
             ],
             [
              0.1111111111111111,
              "#46039f"
             ],
             [
              0.2222222222222222,
              "#7201a8"
             ],
             [
              0.3333333333333333,
              "#9c179e"
             ],
             [
              0.4444444444444444,
              "#bd3786"
             ],
             [
              0.5555555555555556,
              "#d8576b"
             ],
             [
              0.6666666666666666,
              "#ed7953"
             ],
             [
              0.7777777777777778,
              "#fb9f3a"
             ],
             [
              0.8888888888888888,
              "#fdca26"
             ],
             [
              1,
              "#f0f921"
             ]
            ],
            "type": "surface"
           }
          ],
          "table": [
           {
            "cells": {
             "fill": {
              "color": "#EBF0F8"
             },
             "line": {
              "color": "white"
             }
            },
            "header": {
             "fill": {
              "color": "#C8D4E3"
             },
             "line": {
              "color": "white"
             }
            },
            "type": "table"
           }
          ]
         },
         "layout": {
          "annotationdefaults": {
           "arrowcolor": "#2a3f5f",
           "arrowhead": 0,
           "arrowwidth": 1
          },
          "colorscale": {
           "diverging": [
            [
             0,
             "#8e0152"
            ],
            [
             0.1,
             "#c51b7d"
            ],
            [
             0.2,
             "#de77ae"
            ],
            [
             0.3,
             "#f1b6da"
            ],
            [
             0.4,
             "#fde0ef"
            ],
            [
             0.5,
             "#f7f7f7"
            ],
            [
             0.6,
             "#e6f5d0"
            ],
            [
             0.7,
             "#b8e186"
            ],
            [
             0.8,
             "#7fbc41"
            ],
            [
             0.9,
             "#4d9221"
            ],
            [
             1,
             "#276419"
            ]
           ],
           "sequential": [
            [
             0,
             "#0d0887"
            ],
            [
             0.1111111111111111,
             "#46039f"
            ],
            [
             0.2222222222222222,
             "#7201a8"
            ],
            [
             0.3333333333333333,
             "#9c179e"
            ],
            [
             0.4444444444444444,
             "#bd3786"
            ],
            [
             0.5555555555555556,
             "#d8576b"
            ],
            [
             0.6666666666666666,
             "#ed7953"
            ],
            [
             0.7777777777777778,
             "#fb9f3a"
            ],
            [
             0.8888888888888888,
             "#fdca26"
            ],
            [
             1,
             "#f0f921"
            ]
           ],
           "sequentialminus": [
            [
             0,
             "#0d0887"
            ],
            [
             0.1111111111111111,
             "#46039f"
            ],
            [
             0.2222222222222222,
             "#7201a8"
            ],
            [
             0.3333333333333333,
             "#9c179e"
            ],
            [
             0.4444444444444444,
             "#bd3786"
            ],
            [
             0.5555555555555556,
             "#d8576b"
            ],
            [
             0.6666666666666666,
             "#ed7953"
            ],
            [
             0.7777777777777778,
             "#fb9f3a"
            ],
            [
             0.8888888888888888,
             "#fdca26"
            ],
            [
             1,
             "#f0f921"
            ]
           ]
          },
          "colorway": [
           "#636efa",
           "#EF553B",
           "#00cc96",
           "#ab63fa",
           "#FFA15A",
           "#19d3f3",
           "#FF6692",
           "#B6E880",
           "#FF97FF",
           "#FECB52"
          ],
          "font": {
           "color": "#2a3f5f"
          },
          "geo": {
           "bgcolor": "white",
           "lakecolor": "white",
           "landcolor": "#E5ECF6",
           "showlakes": true,
           "showland": true,
           "subunitcolor": "white"
          },
          "hoverlabel": {
           "align": "left"
          },
          "hovermode": "closest",
          "mapbox": {
           "style": "light"
          },
          "paper_bgcolor": "white",
          "plot_bgcolor": "#E5ECF6",
          "polar": {
           "angularaxis": {
            "gridcolor": "white",
            "linecolor": "white",
            "ticks": ""
           },
           "bgcolor": "#E5ECF6",
           "radialaxis": {
            "gridcolor": "white",
            "linecolor": "white",
            "ticks": ""
           }
          },
          "scene": {
           "xaxis": {
            "backgroundcolor": "#E5ECF6",
            "gridcolor": "white",
            "gridwidth": 2,
            "linecolor": "white",
            "showbackground": true,
            "ticks": "",
            "zerolinecolor": "white"
           },
           "yaxis": {
            "backgroundcolor": "#E5ECF6",
            "gridcolor": "white",
            "gridwidth": 2,
            "linecolor": "white",
            "showbackground": true,
            "ticks": "",
            "zerolinecolor": "white"
           },
           "zaxis": {
            "backgroundcolor": "#E5ECF6",
            "gridcolor": "white",
            "gridwidth": 2,
            "linecolor": "white",
            "showbackground": true,
            "ticks": "",
            "zerolinecolor": "white"
           }
          },
          "shapedefaults": {
           "line": {
            "color": "#2a3f5f"
           }
          },
          "ternary": {
           "aaxis": {
            "gridcolor": "white",
            "linecolor": "white",
            "ticks": ""
           },
           "baxis": {
            "gridcolor": "white",
            "linecolor": "white",
            "ticks": ""
           },
           "bgcolor": "#E5ECF6",
           "caxis": {
            "gridcolor": "white",
            "linecolor": "white",
            "ticks": ""
           }
          },
          "title": {
           "x": 0.05
          },
          "xaxis": {
           "automargin": true,
           "gridcolor": "white",
           "linecolor": "white",
           "ticks": "",
           "zerolinecolor": "white",
           "zerolinewidth": 2
          },
          "yaxis": {
           "automargin": true,
           "gridcolor": "white",
           "linecolor": "white",
           "ticks": "",
           "zerolinecolor": "white",
           "zerolinewidth": 2
          }
         }
        },
        "title": {
         "text": "sgsapp:abtest:16"
        }
       }
      },
      "text/html": [
       "<div>\n",
       "        \n",
       "        \n",
       "            <div id=\"a3d62191-8aa1-439e-b1f8-ccec9338a0bc\" class=\"plotly-graph-div\" style=\"height:525px; width:100%;\"></div>\n",
       "            <script type=\"text/javascript\">\n",
       "                require([\"plotly\"], function(Plotly) {\n",
       "                    window.PLOTLYENV=window.PLOTLYENV || {};\n",
       "                    \n",
       "                if (document.getElementById(\"a3d62191-8aa1-439e-b1f8-ccec9338a0bc\")) {\n",
       "                    Plotly.newPlot(\n",
       "                        'a3d62191-8aa1-439e-b1f8-ccec9338a0bc',\n",
       "                        [{\"name\": \"click\", \"type\": \"bar\", \"x\": [\"tuwen_quality_recommend\", \"tuwen_quality_relative\", \"tuwen_quality_total\", \"tuwen_total_recommend\", \"tuwen_total_relative\", \"tuwen_total_total\"], \"y\": [-0.036469697295837655, 0.050301810865191206, -0.03636381204525915, -0.032504374569171254, -0.06424090338770383, -0.03264149407299523]}, {\"name\": \"click_user\", \"type\": \"bar\", \"x\": [\"tuwen_quality_recommend\", \"tuwen_quality_relative\", \"tuwen_quality_total\", \"tuwen_total_recommend\", \"tuwen_total_relative\", \"tuwen_total_total\"], \"y\": [-0.02052911870812575, 0.11563367252543946, -0.020268634181776695, -0.019671113869066024, 0.07846153846153846, -0.020161501756593782]}, {\"name\": \"duration\", \"type\": \"bar\", \"x\": [\"tuwen_quality_recommend\", \"tuwen_quality_relative\", \"tuwen_quality_total\", \"tuwen_total_recommend\", \"tuwen_total_relative\", \"tuwen_total_total\"], \"y\": [-0.10039186894763232, 0.038549917092427236, -0.09949800479715297, -0.0883377092370535, 0.20695942084989705, -0.08668952086414704]}, {\"name\": \"ctr\", \"type\": \"bar\", \"x\": [\"tuwen_quality_recommend\", \"tuwen_quality_relative\", \"tuwen_quality_total\", \"tuwen_total_recommend\", \"tuwen_total_relative\", \"tuwen_total_total\"], \"y\": [-0.039835618209257344, -0.02572411237877177, -0.046251619906405, -0.02635180293137528, -0.10762015903304141, -0.030540007796854184]}, {\"name\": \"read_ratio\", \"type\": \"bar\", \"x\": [\"tuwen_quality_recommend\", \"tuwen_quality_relative\", \"tuwen_quality_total\", \"tuwen_total_recommend\", \"tuwen_total_relative\", \"tuwen_total_total\"], \"y\": [-0.015384116491271343, 0.09470960118471491, -0.014796429602366708, -0.01604191587755889, 0.05406323087816178, -0.01639948249487398]}, {\"name\": \"dur1\", \"type\": \"bar\", \"x\": [\"tuwen_quality_recommend\", \"tuwen_quality_relative\", \"tuwen_quality_total\", \"tuwen_total_recommend\", \"tuwen_total_relative\", \"tuwen_total_total\"], \"y\": [-0.09568085338087487, 0.018597273686312567, -0.09447790982320187, -0.08495545715306001, 0.17966484656504092, -0.08317225461709013]}, {\"name\": \"dur2\", \"type\": \"bar\", \"x\": [\"tuwen_quality_recommend\", \"tuwen_quality_relative\", \"tuwen_quality_total\", \"tuwen_total_recommend\", \"tuwen_total_relative\", \"tuwen_total_total\"], \"y\": [-0.08157058790837168, -0.06977302419226833, -0.08089499171291978, -0.07003381239928137, 0.1185100882412834, -0.06788056123157862]}, {\"name\": \"doc_dur\", \"type\": \"bar\", \"x\": [\"tuwen_quality_recommend\", \"tuwen_quality_relative\", \"tuwen_quality_total\", \"tuwen_total_recommend\", \"tuwen_total_relative\", \"tuwen_total_total\"], \"y\": [-0.06637310340013736, -0.015344858121037499, -0.06555005805669523, -0.05776740118889094, 0.2844786644625759, -0.05593343998102574]}, {\"name\": \"refresh\", \"type\": \"bar\", \"x\": [\"tuwen_quality_recommend\", \"tuwen_quality_relative\", \"tuwen_quality_total\", \"tuwen_total_recommend\", \"tuwen_total_relative\", \"tuwen_total_total\"], \"y\": [0.0018932694994389843, -0.018879537963552896, 0.001973422353351668, -0.009956412657201595, -0.02251868325523773, -0.01044870527693423]}, {\"name\": \"refresh2\", \"type\": \"bar\", \"x\": [\"tuwen_quality_recommend\", \"tuwen_quality_relative\", \"tuwen_quality_total\", \"tuwen_total_recommend\", \"tuwen_total_relative\", \"tuwen_total_total\"], \"y\": [0.017524865035736796, -0.10387886484847951, 0.017003105303382927, 0.006173826795988101, -0.07310998801384849, 0.006037213261479401]}, {\"name\": \"refresh_times\", \"type\": \"bar\", \"x\": [\"tuwen_quality_recommend\", \"tuwen_quality_relative\", \"tuwen_quality_total\", \"tuwen_total_recommend\", \"tuwen_total_relative\", \"tuwen_total_total\"], \"y\": [-0.003343595421018834, 0.0, -0.0035950951242736937, -0.01359168360824094, 0.0, -0.014214111982018563]}, {\"name\": \"praise\", \"type\": \"bar\", \"x\": [\"tuwen_quality_recommend\", \"tuwen_quality_relative\", \"tuwen_quality_total\", \"tuwen_total_recommend\", \"tuwen_total_relative\", \"tuwen_total_total\"], \"y\": [-0.04953917050691238, 1.4375000000000002, -0.04190260475651183, -0.1301065719360568, 0.875, -0.12978083369144816]}, {\"name\": \"favor\", \"type\": \"bar\", \"x\": [\"tuwen_quality_recommend\", \"tuwen_quality_relative\", \"tuwen_quality_total\", \"tuwen_total_recommend\", \"tuwen_total_relative\", \"tuwen_total_total\"], \"y\": [-0.17345414716718108, -0.08333333333333333, -0.17492654260528898, -0.1460249671484888, -0.21538461538461542, -0.12778627182747238]}],\n",
       "                        {\"barmode\": \"group\", \"template\": {\"data\": {\"bar\": [{\"error_x\": {\"color\": \"#2a3f5f\"}, \"error_y\": {\"color\": \"#2a3f5f\"}, \"marker\": {\"line\": {\"color\": \"#E5ECF6\", \"width\": 0.5}}, \"type\": \"bar\"}], \"barpolar\": [{\"marker\": {\"line\": {\"color\": \"#E5ECF6\", \"width\": 0.5}}, \"type\": \"barpolar\"}], \"carpet\": [{\"aaxis\": {\"endlinecolor\": \"#2a3f5f\", \"gridcolor\": \"white\", \"linecolor\": \"white\", \"minorgridcolor\": \"white\", \"startlinecolor\": \"#2a3f5f\"}, \"baxis\": {\"endlinecolor\": \"#2a3f5f\", \"gridcolor\": \"white\", \"linecolor\": \"white\", \"minorgridcolor\": \"white\", \"startlinecolor\": \"#2a3f5f\"}, \"type\": \"carpet\"}], \"choropleth\": [{\"colorbar\": {\"outlinewidth\": 0, \"ticks\": \"\"}, \"type\": \"choropleth\"}], \"contour\": [{\"colorbar\": {\"outlinewidth\": 0, \"ticks\": \"\"}, \"colorscale\": [[0.0, \"#0d0887\"], [0.1111111111111111, \"#46039f\"], [0.2222222222222222, \"#7201a8\"], [0.3333333333333333, \"#9c179e\"], [0.4444444444444444, \"#bd3786\"], [0.5555555555555556, \"#d8576b\"], [0.6666666666666666, \"#ed7953\"], [0.7777777777777778, \"#fb9f3a\"], [0.8888888888888888, \"#fdca26\"], [1.0, \"#f0f921\"]], \"type\": \"contour\"}], \"contourcarpet\": [{\"colorbar\": {\"outlinewidth\": 0, \"ticks\": \"\"}, \"type\": \"contourcarpet\"}], \"heatmap\": [{\"colorbar\": {\"outlinewidth\": 0, \"ticks\": \"\"}, \"colorscale\": [[0.0, \"#0d0887\"], [0.1111111111111111, \"#46039f\"], [0.2222222222222222, \"#7201a8\"], [0.3333333333333333, \"#9c179e\"], [0.4444444444444444, \"#bd3786\"], [0.5555555555555556, \"#d8576b\"], [0.6666666666666666, \"#ed7953\"], [0.7777777777777778, \"#fb9f3a\"], [0.8888888888888888, \"#fdca26\"], [1.0, \"#f0f921\"]], \"type\": \"heatmap\"}], \"heatmapgl\": [{\"colorbar\": {\"outlinewidth\": 0, \"ticks\": \"\"}, \"colorscale\": [[0.0, \"#0d0887\"], [0.1111111111111111, \"#46039f\"], [0.2222222222222222, \"#7201a8\"], [0.3333333333333333, \"#9c179e\"], [0.4444444444444444, \"#bd3786\"], [0.5555555555555556, \"#d8576b\"], [0.6666666666666666, \"#ed7953\"], [0.7777777777777778, \"#fb9f3a\"], [0.8888888888888888, \"#fdca26\"], [1.0, \"#f0f921\"]], \"type\": \"heatmapgl\"}], \"histogram\": [{\"marker\": {\"colorbar\": {\"outlinewidth\": 0, \"ticks\": \"\"}}, \"type\": \"histogram\"}], \"histogram2d\": [{\"colorbar\": {\"outlinewidth\": 0, \"ticks\": \"\"}, \"colorscale\": [[0.0, \"#0d0887\"], [0.1111111111111111, \"#46039f\"], [0.2222222222222222, \"#7201a8\"], [0.3333333333333333, \"#9c179e\"], [0.4444444444444444, \"#bd3786\"], [0.5555555555555556, \"#d8576b\"], [0.6666666666666666, \"#ed7953\"], [0.7777777777777778, \"#fb9f3a\"], [0.8888888888888888, \"#fdca26\"], [1.0, \"#f0f921\"]], \"type\": \"histogram2d\"}], \"histogram2dcontour\": [{\"colorbar\": {\"outlinewidth\": 0, \"ticks\": \"\"}, \"colorscale\": [[0.0, \"#0d0887\"], [0.1111111111111111, \"#46039f\"], [0.2222222222222222, \"#7201a8\"], [0.3333333333333333, \"#9c179e\"], [0.4444444444444444, \"#bd3786\"], [0.5555555555555556, \"#d8576b\"], [0.6666666666666666, \"#ed7953\"], [0.7777777777777778, \"#fb9f3a\"], [0.8888888888888888, \"#fdca26\"], [1.0, \"#f0f921\"]], \"type\": \"histogram2dcontour\"}], \"mesh3d\": [{\"colorbar\": {\"outlinewidth\": 0, \"ticks\": \"\"}, \"type\": \"mesh3d\"}], \"parcoords\": [{\"line\": {\"colorbar\": {\"outlinewidth\": 0, \"ticks\": \"\"}}, \"type\": \"parcoords\"}], \"scatter\": [{\"marker\": {\"colorbar\": {\"outlinewidth\": 0, \"ticks\": \"\"}}, \"type\": \"scatter\"}], \"scatter3d\": [{\"line\": {\"colorbar\": {\"outlinewidth\": 0, \"ticks\": \"\"}}, \"marker\": {\"colorbar\": {\"outlinewidth\": 0, \"ticks\": \"\"}}, \"type\": \"scatter3d\"}], \"scattercarpet\": [{\"marker\": {\"colorbar\": {\"outlinewidth\": 0, \"ticks\": \"\"}}, \"type\": \"scattercarpet\"}], \"scattergeo\": [{\"marker\": {\"colorbar\": {\"outlinewidth\": 0, \"ticks\": \"\"}}, \"type\": \"scattergeo\"}], \"scattergl\": [{\"marker\": {\"colorbar\": {\"outlinewidth\": 0, \"ticks\": \"\"}}, \"type\": \"scattergl\"}], \"scattermapbox\": [{\"marker\": {\"colorbar\": {\"outlinewidth\": 0, \"ticks\": \"\"}}, \"type\": \"scattermapbox\"}], \"scatterpolar\": [{\"marker\": {\"colorbar\": {\"outlinewidth\": 0, \"ticks\": \"\"}}, \"type\": \"scatterpolar\"}], \"scatterpolargl\": [{\"marker\": {\"colorbar\": {\"outlinewidth\": 0, \"ticks\": \"\"}}, \"type\": \"scatterpolargl\"}], \"scatterternary\": [{\"marker\": {\"colorbar\": {\"outlinewidth\": 0, \"ticks\": \"\"}}, \"type\": \"scatterternary\"}], \"surface\": [{\"colorbar\": {\"outlinewidth\": 0, \"ticks\": \"\"}, \"colorscale\": [[0.0, \"#0d0887\"], [0.1111111111111111, \"#46039f\"], [0.2222222222222222, \"#7201a8\"], [0.3333333333333333, \"#9c179e\"], [0.4444444444444444, \"#bd3786\"], [0.5555555555555556, \"#d8576b\"], [0.6666666666666666, \"#ed7953\"], [0.7777777777777778, \"#fb9f3a\"], [0.8888888888888888, \"#fdca26\"], [1.0, \"#f0f921\"]], \"type\": \"surface\"}], \"table\": [{\"cells\": {\"fill\": {\"color\": \"#EBF0F8\"}, \"line\": {\"color\": \"white\"}}, \"header\": {\"fill\": {\"color\": \"#C8D4E3\"}, \"line\": {\"color\": \"white\"}}, \"type\": \"table\"}]}, \"layout\": {\"annotationdefaults\": {\"arrowcolor\": \"#2a3f5f\", \"arrowhead\": 0, \"arrowwidth\": 1}, \"colorscale\": {\"diverging\": [[0, \"#8e0152\"], [0.1, \"#c51b7d\"], [0.2, \"#de77ae\"], [0.3, \"#f1b6da\"], [0.4, \"#fde0ef\"], [0.5, \"#f7f7f7\"], [0.6, \"#e6f5d0\"], [0.7, \"#b8e186\"], [0.8, \"#7fbc41\"], [0.9, \"#4d9221\"], [1, \"#276419\"]], \"sequential\": [[0.0, \"#0d0887\"], [0.1111111111111111, \"#46039f\"], [0.2222222222222222, \"#7201a8\"], [0.3333333333333333, \"#9c179e\"], [0.4444444444444444, \"#bd3786\"], [0.5555555555555556, \"#d8576b\"], [0.6666666666666666, \"#ed7953\"], [0.7777777777777778, \"#fb9f3a\"], [0.8888888888888888, \"#fdca26\"], [1.0, \"#f0f921\"]], \"sequentialminus\": [[0.0, \"#0d0887\"], [0.1111111111111111, \"#46039f\"], [0.2222222222222222, \"#7201a8\"], [0.3333333333333333, \"#9c179e\"], [0.4444444444444444, \"#bd3786\"], [0.5555555555555556, \"#d8576b\"], [0.6666666666666666, \"#ed7953\"], [0.7777777777777778, \"#fb9f3a\"], [0.8888888888888888, \"#fdca26\"], [1.0, \"#f0f921\"]]}, \"colorway\": [\"#636efa\", \"#EF553B\", \"#00cc96\", \"#ab63fa\", \"#FFA15A\", \"#19d3f3\", \"#FF6692\", \"#B6E880\", \"#FF97FF\", \"#FECB52\"], \"font\": {\"color\": \"#2a3f5f\"}, \"geo\": {\"bgcolor\": \"white\", \"lakecolor\": \"white\", \"landcolor\": \"#E5ECF6\", \"showlakes\": true, \"showland\": true, \"subunitcolor\": \"white\"}, \"hoverlabel\": {\"align\": \"left\"}, \"hovermode\": \"closest\", \"mapbox\": {\"style\": \"light\"}, \"paper_bgcolor\": \"white\", \"plot_bgcolor\": \"#E5ECF6\", \"polar\": {\"angularaxis\": {\"gridcolor\": \"white\", \"linecolor\": \"white\", \"ticks\": \"\"}, \"bgcolor\": \"#E5ECF6\", \"radialaxis\": {\"gridcolor\": \"white\", \"linecolor\": \"white\", \"ticks\": \"\"}}, \"scene\": {\"xaxis\": {\"backgroundcolor\": \"#E5ECF6\", \"gridcolor\": \"white\", \"gridwidth\": 2, \"linecolor\": \"white\", \"showbackground\": true, \"ticks\": \"\", \"zerolinecolor\": \"white\"}, \"yaxis\": {\"backgroundcolor\": \"#E5ECF6\", \"gridcolor\": \"white\", \"gridwidth\": 2, \"linecolor\": \"white\", \"showbackground\": true, \"ticks\": \"\", \"zerolinecolor\": \"white\"}, \"zaxis\": {\"backgroundcolor\": \"#E5ECF6\", \"gridcolor\": \"white\", \"gridwidth\": 2, \"linecolor\": \"white\", \"showbackground\": true, \"ticks\": \"\", \"zerolinecolor\": \"white\"}}, \"shapedefaults\": {\"line\": {\"color\": \"#2a3f5f\"}}, \"ternary\": {\"aaxis\": {\"gridcolor\": \"white\", \"linecolor\": \"white\", \"ticks\": \"\"}, \"baxis\": {\"gridcolor\": \"white\", \"linecolor\": \"white\", \"ticks\": \"\"}, \"bgcolor\": \"#E5ECF6\", \"caxis\": {\"gridcolor\": \"white\", \"linecolor\": \"white\", \"ticks\": \"\"}}, \"title\": {\"x\": 0.05}, \"xaxis\": {\"automargin\": true, \"gridcolor\": \"white\", \"linecolor\": \"white\", \"ticks\": \"\", \"zerolinecolor\": \"white\", \"zerolinewidth\": 2}, \"yaxis\": {\"automargin\": true, \"gridcolor\": \"white\", \"linecolor\": \"white\", \"ticks\": \"\", \"zerolinecolor\": \"white\", \"zerolinewidth\": 2}}}, \"title\": {\"text\": \"sgsapp:abtest:16\"}},\n",
       "                        {\"responsive\": true}\n",
       "                    ).then(function(){\n",
       "                            \n",
       "var gd = document.getElementById('a3d62191-8aa1-439e-b1f8-ccec9338a0bc');\n",
       "var x = new MutationObserver(function (mutations, observer) {{\n",
       "        var display = window.getComputedStyle(gd).display;\n",
       "        if (!display || display === 'none') {{\n",
       "            console.log([gd, 'removed!']);\n",
       "            Plotly.purge(gd);\n",
       "            observer.disconnect();\n",
       "        }}\n",
       "}});\n",
       "\n",
       "// Listen for the removal of the full notebook cells\n",
       "var notebookContainer = gd.closest('#notebook-container');\n",
       "if (notebookContainer) {{\n",
       "    x.observe(notebookContainer, {childList: true});\n",
       "}}\n",
       "\n",
       "// Listen for the clearing of the current output cell\n",
       "var outputEl = gd.closest('.output');\n",
       "if (outputEl) {{\n",
       "    x.observe(outputEl, {childList: true});\n",
       "}}\n",
       "\n",
       "                        })\n",
       "                };\n",
       "                });\n",
       "            </script>\n",
       "        </div>"
      ]
     },
     "metadata": {},
     "output_type": "display_data"
    },
    {
     "data": {
      "application/vnd.plotly.v1+json": {
       "config": {
        "plotlyServerURL": "https://plot.ly"
       },
       "data": [
        {
         "name": "click",
         "type": "bar",
         "x": [
          "tuwen_quality_recommend",
          "tuwen_quality_relative",
          "tuwen_quality_total",
          "tuwen_total_recommend",
          "tuwen_total_relative",
          "tuwen_total_total"
         ],
         "y": [
          -0.09120066063045598,
          -0.0417505030181086,
          -0.09099359376962698,
          -0.07827032186224088,
          -0.08381430363864487,
          -0.0776745826931203
         ]
        },
        {
         "name": "click_user",
         "type": "bar",
         "x": [
          "tuwen_quality_recommend",
          "tuwen_quality_relative",
          "tuwen_quality_total",
          "tuwen_total_recommend",
          "tuwen_total_relative",
          "tuwen_total_total"
         ],
         "y": [
          -0.026155299776670676,
          -0.0009250693802034627,
          -0.025951828165282614,
          -0.025069810735339683,
          -0.010769230769230769,
          -0.024618530753500078
         ]
        },
        {
         "name": "duration",
         "type": "bar",
         "x": [
          "tuwen_quality_recommend",
          "tuwen_quality_relative",
          "tuwen_quality_total",
          "tuwen_total_recommend",
          "tuwen_total_relative",
          "tuwen_total_total"
         ],
         "y": [
          -0.015876548493152332,
          -0.09987626991675574,
          -0.017293507216101397,
          -0.0020064836021985656,
          -0.03063888215150482,
          -0.0024706007245967553
         ]
        },
        {
         "name": "ctr",
         "type": "bar",
         "x": [
          "tuwen_quality_recommend",
          "tuwen_quality_relative",
          "tuwen_quality_total",
          "tuwen_total_recommend",
          "tuwen_total_relative",
          "tuwen_total_total"
         ],
         "y": [
          -0.07431530802425597,
          0.005316506510440746,
          -0.07143084446523253,
          -0.06392035598300733,
          -0.04441871563246554,
          -0.06152301154154089
         ]
        },
        {
         "name": "read_ratio",
         "type": "bar",
         "x": [
          "tuwen_quality_recommend",
          "tuwen_quality_relative",
          "tuwen_quality_total",
          "tuwen_total_recommend",
          "tuwen_total_relative",
          "tuwen_total_total"
         ],
         "y": [
          -0.026454844675778,
          0.012817459504213813,
          -0.0270771938212579,
          -0.024126977317891266,
          0.00024727211543886684,
          -0.024075150332918613
         ]
        },
        {
         "name": "dur1",
         "type": "bar",
         "x": [
          "tuwen_quality_recommend",
          "tuwen_quality_relative",
          "tuwen_quality_total",
          "tuwen_total_recommend",
          "tuwen_total_relative",
          "tuwen_total_total"
         ],
         "y": [
          -0.01619500834342901,
          -0.0879195439401916,
          -0.018439261604763862,
          -0.0010334211169715146,
          -0.01983470493375829,
          -0.00190325889628446
         ]
        },
        {
         "name": "dur2",
         "type": "bar",
         "x": [
          "tuwen_quality_recommend",
          "tuwen_quality_relative",
          "tuwen_quality_total",
          "tuwen_total_recommend",
          "tuwen_total_relative",
          "tuwen_total_total"
         ],
         "y": [
          0.010517447717669532,
          -0.09969986001628202,
          0.008859888582561119,
          0.023668095178873118,
          -0.0206456034543938,
          0.022724893805674377
         ]
        },
        {
         "name": "doc_dur",
         "type": "bar",
         "x": [
          "tuwen_quality_recommend",
          "tuwen_quality_relative",
          "tuwen_quality_total",
          "tuwen_total_recommend",
          "tuwen_total_relative",
          "tuwen_total_total"
         ],
         "y": [
          0.08284660342757207,
          -0.06460616491567527,
          0.0810389562514288,
          0.08267296631638345,
          0.05365970596583559,
          0.08146671099494489
         ]
        },
        {
         "name": "refresh",
         "type": "bar",
         "x": [
          "tuwen_quality_recommend",
          "tuwen_quality_relative",
          "tuwen_quality_total",
          "tuwen_total_recommend",
          "tuwen_total_relative",
          "tuwen_total_total"
         ],
         "y": [
          -0.02320045992284831,
          0.013626924351767785,
          -0.024165330466468144,
          -0.017850529934076813,
          0.011244614784488264,
          -0.01817183431347509
         ]
        },
        {
         "name": "refresh2",
         "type": "bar",
         "x": [
          "tuwen_quality_recommend",
          "tuwen_quality_relative",
          "tuwen_quality_total",
          "tuwen_total_recommend",
          "tuwen_total_relative",
          "tuwen_total_total"
         ],
         "y": [
          0.003320660965451708,
          0.0006686009191979317,
          0.002974552207805743,
          0.006420729184276191,
          0.010497509179303552,
          0.006036164572927941
         ]
        },
        {
         "name": "refresh_times",
         "type": "bar",
         "x": [
          "tuwen_quality_recommend",
          "tuwen_quality_relative",
          "tuwen_quality_total",
          "tuwen_total_recommend",
          "tuwen_total_relative",
          "tuwen_total_total"
         ],
         "y": [
          -0.022901464282294386,
          0,
          -0.02303970150993995,
          -0.018783140863077148,
          0,
          -0.018699217003613513
         ]
        },
        {
         "name": "praise",
         "type": "bar",
         "x": [
          "tuwen_quality_recommend",
          "tuwen_quality_relative",
          "tuwen_quality_total",
          "tuwen_total_recommend",
          "tuwen_total_relative",
          "tuwen_total_total"
         ],
         "y": [
          -0.05299539170506906,
          0.5000000000000001,
          -0.04360135900339745,
          -0.06749555950266425,
          0.625,
          -0.06660936828534589
         ]
        },
        {
         "name": "favor",
         "type": "bar",
         "x": [
          "tuwen_quality_recommend",
          "tuwen_quality_relative",
          "tuwen_quality_total",
          "tuwen_total_recommend",
          "tuwen_total_relative",
          "tuwen_total_total"
         ],
         "y": [
          -0.11580205117992627,
          0.25,
          -0.11439764936336928,
          -0.10906701708278578,
          0.10769230769230763,
          -0.1072664359861591
         ]
        }
       ],
       "layout": {
        "barmode": "group",
        "template": {
         "data": {
          "bar": [
           {
            "error_x": {
             "color": "#2a3f5f"
            },
            "error_y": {
             "color": "#2a3f5f"
            },
            "marker": {
             "line": {
              "color": "#E5ECF6",
              "width": 0.5
             }
            },
            "type": "bar"
           }
          ],
          "barpolar": [
           {
            "marker": {
             "line": {
              "color": "#E5ECF6",
              "width": 0.5
             }
            },
            "type": "barpolar"
           }
          ],
          "carpet": [
           {
            "aaxis": {
             "endlinecolor": "#2a3f5f",
             "gridcolor": "white",
             "linecolor": "white",
             "minorgridcolor": "white",
             "startlinecolor": "#2a3f5f"
            },
            "baxis": {
             "endlinecolor": "#2a3f5f",
             "gridcolor": "white",
             "linecolor": "white",
             "minorgridcolor": "white",
             "startlinecolor": "#2a3f5f"
            },
            "type": "carpet"
           }
          ],
          "choropleth": [
           {
            "colorbar": {
             "outlinewidth": 0,
             "ticks": ""
            },
            "type": "choropleth"
           }
          ],
          "contour": [
           {
            "colorbar": {
             "outlinewidth": 0,
             "ticks": ""
            },
            "colorscale": [
             [
              0,
              "#0d0887"
             ],
             [
              0.1111111111111111,
              "#46039f"
             ],
             [
              0.2222222222222222,
              "#7201a8"
             ],
             [
              0.3333333333333333,
              "#9c179e"
             ],
             [
              0.4444444444444444,
              "#bd3786"
             ],
             [
              0.5555555555555556,
              "#d8576b"
             ],
             [
              0.6666666666666666,
              "#ed7953"
             ],
             [
              0.7777777777777778,
              "#fb9f3a"
             ],
             [
              0.8888888888888888,
              "#fdca26"
             ],
             [
              1,
              "#f0f921"
             ]
            ],
            "type": "contour"
           }
          ],
          "contourcarpet": [
           {
            "colorbar": {
             "outlinewidth": 0,
             "ticks": ""
            },
            "type": "contourcarpet"
           }
          ],
          "heatmap": [
           {
            "colorbar": {
             "outlinewidth": 0,
             "ticks": ""
            },
            "colorscale": [
             [
              0,
              "#0d0887"
             ],
             [
              0.1111111111111111,
              "#46039f"
             ],
             [
              0.2222222222222222,
              "#7201a8"
             ],
             [
              0.3333333333333333,
              "#9c179e"
             ],
             [
              0.4444444444444444,
              "#bd3786"
             ],
             [
              0.5555555555555556,
              "#d8576b"
             ],
             [
              0.6666666666666666,
              "#ed7953"
             ],
             [
              0.7777777777777778,
              "#fb9f3a"
             ],
             [
              0.8888888888888888,
              "#fdca26"
             ],
             [
              1,
              "#f0f921"
             ]
            ],
            "type": "heatmap"
           }
          ],
          "heatmapgl": [
           {
            "colorbar": {
             "outlinewidth": 0,
             "ticks": ""
            },
            "colorscale": [
             [
              0,
              "#0d0887"
             ],
             [
              0.1111111111111111,
              "#46039f"
             ],
             [
              0.2222222222222222,
              "#7201a8"
             ],
             [
              0.3333333333333333,
              "#9c179e"
             ],
             [
              0.4444444444444444,
              "#bd3786"
             ],
             [
              0.5555555555555556,
              "#d8576b"
             ],
             [
              0.6666666666666666,
              "#ed7953"
             ],
             [
              0.7777777777777778,
              "#fb9f3a"
             ],
             [
              0.8888888888888888,
              "#fdca26"
             ],
             [
              1,
              "#f0f921"
             ]
            ],
            "type": "heatmapgl"
           }
          ],
          "histogram": [
           {
            "marker": {
             "colorbar": {
              "outlinewidth": 0,
              "ticks": ""
             }
            },
            "type": "histogram"
           }
          ],
          "histogram2d": [
           {
            "colorbar": {
             "outlinewidth": 0,
             "ticks": ""
            },
            "colorscale": [
             [
              0,
              "#0d0887"
             ],
             [
              0.1111111111111111,
              "#46039f"
             ],
             [
              0.2222222222222222,
              "#7201a8"
             ],
             [
              0.3333333333333333,
              "#9c179e"
             ],
             [
              0.4444444444444444,
              "#bd3786"
             ],
             [
              0.5555555555555556,
              "#d8576b"
             ],
             [
              0.6666666666666666,
              "#ed7953"
             ],
             [
              0.7777777777777778,
              "#fb9f3a"
             ],
             [
              0.8888888888888888,
              "#fdca26"
             ],
             [
              1,
              "#f0f921"
             ]
            ],
            "type": "histogram2d"
           }
          ],
          "histogram2dcontour": [
           {
            "colorbar": {
             "outlinewidth": 0,
             "ticks": ""
            },
            "colorscale": [
             [
              0,
              "#0d0887"
             ],
             [
              0.1111111111111111,
              "#46039f"
             ],
             [
              0.2222222222222222,
              "#7201a8"
             ],
             [
              0.3333333333333333,
              "#9c179e"
             ],
             [
              0.4444444444444444,
              "#bd3786"
             ],
             [
              0.5555555555555556,
              "#d8576b"
             ],
             [
              0.6666666666666666,
              "#ed7953"
             ],
             [
              0.7777777777777778,
              "#fb9f3a"
             ],
             [
              0.8888888888888888,
              "#fdca26"
             ],
             [
              1,
              "#f0f921"
             ]
            ],
            "type": "histogram2dcontour"
           }
          ],
          "mesh3d": [
           {
            "colorbar": {
             "outlinewidth": 0,
             "ticks": ""
            },
            "type": "mesh3d"
           }
          ],
          "parcoords": [
           {
            "line": {
             "colorbar": {
              "outlinewidth": 0,
              "ticks": ""
             }
            },
            "type": "parcoords"
           }
          ],
          "scatter": [
           {
            "marker": {
             "colorbar": {
              "outlinewidth": 0,
              "ticks": ""
             }
            },
            "type": "scatter"
           }
          ],
          "scatter3d": [
           {
            "line": {
             "colorbar": {
              "outlinewidth": 0,
              "ticks": ""
             }
            },
            "marker": {
             "colorbar": {
              "outlinewidth": 0,
              "ticks": ""
             }
            },
            "type": "scatter3d"
           }
          ],
          "scattercarpet": [
           {
            "marker": {
             "colorbar": {
              "outlinewidth": 0,
              "ticks": ""
             }
            },
            "type": "scattercarpet"
           }
          ],
          "scattergeo": [
           {
            "marker": {
             "colorbar": {
              "outlinewidth": 0,
              "ticks": ""
             }
            },
            "type": "scattergeo"
           }
          ],
          "scattergl": [
           {
            "marker": {
             "colorbar": {
              "outlinewidth": 0,
              "ticks": ""
             }
            },
            "type": "scattergl"
           }
          ],
          "scattermapbox": [
           {
            "marker": {
             "colorbar": {
              "outlinewidth": 0,
              "ticks": ""
             }
            },
            "type": "scattermapbox"
           }
          ],
          "scatterpolar": [
           {
            "marker": {
             "colorbar": {
              "outlinewidth": 0,
              "ticks": ""
             }
            },
            "type": "scatterpolar"
           }
          ],
          "scatterpolargl": [
           {
            "marker": {
             "colorbar": {
              "outlinewidth": 0,
              "ticks": ""
             }
            },
            "type": "scatterpolargl"
           }
          ],
          "scatterternary": [
           {
            "marker": {
             "colorbar": {
              "outlinewidth": 0,
              "ticks": ""
             }
            },
            "type": "scatterternary"
           }
          ],
          "surface": [
           {
            "colorbar": {
             "outlinewidth": 0,
             "ticks": ""
            },
            "colorscale": [
             [
              0,
              "#0d0887"
             ],
             [
              0.1111111111111111,
              "#46039f"
             ],
             [
              0.2222222222222222,
              "#7201a8"
             ],
             [
              0.3333333333333333,
              "#9c179e"
             ],
             [
              0.4444444444444444,
              "#bd3786"
             ],
             [
              0.5555555555555556,
              "#d8576b"
             ],
             [
              0.6666666666666666,
              "#ed7953"
             ],
             [
              0.7777777777777778,
              "#fb9f3a"
             ],
             [
              0.8888888888888888,
              "#fdca26"
             ],
             [
              1,
              "#f0f921"
             ]
            ],
            "type": "surface"
           }
          ],
          "table": [
           {
            "cells": {
             "fill": {
              "color": "#EBF0F8"
             },
             "line": {
              "color": "white"
             }
            },
            "header": {
             "fill": {
              "color": "#C8D4E3"
             },
             "line": {
              "color": "white"
             }
            },
            "type": "table"
           }
          ]
         },
         "layout": {
          "annotationdefaults": {
           "arrowcolor": "#2a3f5f",
           "arrowhead": 0,
           "arrowwidth": 1
          },
          "colorscale": {
           "diverging": [
            [
             0,
             "#8e0152"
            ],
            [
             0.1,
             "#c51b7d"
            ],
            [
             0.2,
             "#de77ae"
            ],
            [
             0.3,
             "#f1b6da"
            ],
            [
             0.4,
             "#fde0ef"
            ],
            [
             0.5,
             "#f7f7f7"
            ],
            [
             0.6,
             "#e6f5d0"
            ],
            [
             0.7,
             "#b8e186"
            ],
            [
             0.8,
             "#7fbc41"
            ],
            [
             0.9,
             "#4d9221"
            ],
            [
             1,
             "#276419"
            ]
           ],
           "sequential": [
            [
             0,
             "#0d0887"
            ],
            [
             0.1111111111111111,
             "#46039f"
            ],
            [
             0.2222222222222222,
             "#7201a8"
            ],
            [
             0.3333333333333333,
             "#9c179e"
            ],
            [
             0.4444444444444444,
             "#bd3786"
            ],
            [
             0.5555555555555556,
             "#d8576b"
            ],
            [
             0.6666666666666666,
             "#ed7953"
            ],
            [
             0.7777777777777778,
             "#fb9f3a"
            ],
            [
             0.8888888888888888,
             "#fdca26"
            ],
            [
             1,
             "#f0f921"
            ]
           ],
           "sequentialminus": [
            [
             0,
             "#0d0887"
            ],
            [
             0.1111111111111111,
             "#46039f"
            ],
            [
             0.2222222222222222,
             "#7201a8"
            ],
            [
             0.3333333333333333,
             "#9c179e"
            ],
            [
             0.4444444444444444,
             "#bd3786"
            ],
            [
             0.5555555555555556,
             "#d8576b"
            ],
            [
             0.6666666666666666,
             "#ed7953"
            ],
            [
             0.7777777777777778,
             "#fb9f3a"
            ],
            [
             0.8888888888888888,
             "#fdca26"
            ],
            [
             1,
             "#f0f921"
            ]
           ]
          },
          "colorway": [
           "#636efa",
           "#EF553B",
           "#00cc96",
           "#ab63fa",
           "#FFA15A",
           "#19d3f3",
           "#FF6692",
           "#B6E880",
           "#FF97FF",
           "#FECB52"
          ],
          "font": {
           "color": "#2a3f5f"
          },
          "geo": {
           "bgcolor": "white",
           "lakecolor": "white",
           "landcolor": "#E5ECF6",
           "showlakes": true,
           "showland": true,
           "subunitcolor": "white"
          },
          "hoverlabel": {
           "align": "left"
          },
          "hovermode": "closest",
          "mapbox": {
           "style": "light"
          },
          "paper_bgcolor": "white",
          "plot_bgcolor": "#E5ECF6",
          "polar": {
           "angularaxis": {
            "gridcolor": "white",
            "linecolor": "white",
            "ticks": ""
           },
           "bgcolor": "#E5ECF6",
           "radialaxis": {
            "gridcolor": "white",
            "linecolor": "white",
            "ticks": ""
           }
          },
          "scene": {
           "xaxis": {
            "backgroundcolor": "#E5ECF6",
            "gridcolor": "white",
            "gridwidth": 2,
            "linecolor": "white",
            "showbackground": true,
            "ticks": "",
            "zerolinecolor": "white"
           },
           "yaxis": {
            "backgroundcolor": "#E5ECF6",
            "gridcolor": "white",
            "gridwidth": 2,
            "linecolor": "white",
            "showbackground": true,
            "ticks": "",
            "zerolinecolor": "white"
           },
           "zaxis": {
            "backgroundcolor": "#E5ECF6",
            "gridcolor": "white",
            "gridwidth": 2,
            "linecolor": "white",
            "showbackground": true,
            "ticks": "",
            "zerolinecolor": "white"
           }
          },
          "shapedefaults": {
           "line": {
            "color": "#2a3f5f"
           }
          },
          "ternary": {
           "aaxis": {
            "gridcolor": "white",
            "linecolor": "white",
            "ticks": ""
           },
           "baxis": {
            "gridcolor": "white",
            "linecolor": "white",
            "ticks": ""
           },
           "bgcolor": "#E5ECF6",
           "caxis": {
            "gridcolor": "white",
            "linecolor": "white",
            "ticks": ""
           }
          },
          "title": {
           "x": 0.05
          },
          "xaxis": {
           "automargin": true,
           "gridcolor": "white",
           "linecolor": "white",
           "ticks": "",
           "zerolinecolor": "white",
           "zerolinewidth": 2
          },
          "yaxis": {
           "automargin": true,
           "gridcolor": "white",
           "linecolor": "white",
           "ticks": "",
           "zerolinecolor": "white",
           "zerolinewidth": 2
          }
         }
        },
        "title": {
         "text": "sgsapp:abtest:8"
        }
       }
      },
      "text/html": [
       "<div>\n",
       "        \n",
       "        \n",
       "            <div id=\"fac456d3-8fe1-44e5-a369-2e8e4a3e1cb8\" class=\"plotly-graph-div\" style=\"height:525px; width:100%;\"></div>\n",
       "            <script type=\"text/javascript\">\n",
       "                require([\"plotly\"], function(Plotly) {\n",
       "                    window.PLOTLYENV=window.PLOTLYENV || {};\n",
       "                    \n",
       "                if (document.getElementById(\"fac456d3-8fe1-44e5-a369-2e8e4a3e1cb8\")) {\n",
       "                    Plotly.newPlot(\n",
       "                        'fac456d3-8fe1-44e5-a369-2e8e4a3e1cb8',\n",
       "                        [{\"name\": \"click\", \"type\": \"bar\", \"x\": [\"tuwen_quality_recommend\", \"tuwen_quality_relative\", \"tuwen_quality_total\", \"tuwen_total_recommend\", \"tuwen_total_relative\", \"tuwen_total_total\"], \"y\": [-0.09120066063045598, -0.0417505030181086, -0.09099359376962698, -0.07827032186224088, -0.08381430363864487, -0.0776745826931203]}, {\"name\": \"click_user\", \"type\": \"bar\", \"x\": [\"tuwen_quality_recommend\", \"tuwen_quality_relative\", \"tuwen_quality_total\", \"tuwen_total_recommend\", \"tuwen_total_relative\", \"tuwen_total_total\"], \"y\": [-0.026155299776670676, -0.0009250693802034627, -0.025951828165282614, -0.025069810735339683, -0.010769230769230769, -0.024618530753500078]}, {\"name\": \"duration\", \"type\": \"bar\", \"x\": [\"tuwen_quality_recommend\", \"tuwen_quality_relative\", \"tuwen_quality_total\", \"tuwen_total_recommend\", \"tuwen_total_relative\", \"tuwen_total_total\"], \"y\": [-0.015876548493152332, -0.09987626991675574, -0.017293507216101397, -0.0020064836021985656, -0.03063888215150482, -0.0024706007245967553]}, {\"name\": \"ctr\", \"type\": \"bar\", \"x\": [\"tuwen_quality_recommend\", \"tuwen_quality_relative\", \"tuwen_quality_total\", \"tuwen_total_recommend\", \"tuwen_total_relative\", \"tuwen_total_total\"], \"y\": [-0.07431530802425597, 0.005316506510440746, -0.07143084446523253, -0.06392035598300733, -0.04441871563246554, -0.06152301154154089]}, {\"name\": \"read_ratio\", \"type\": \"bar\", \"x\": [\"tuwen_quality_recommend\", \"tuwen_quality_relative\", \"tuwen_quality_total\", \"tuwen_total_recommend\", \"tuwen_total_relative\", \"tuwen_total_total\"], \"y\": [-0.026454844675778, 0.012817459504213813, -0.0270771938212579, -0.024126977317891266, 0.00024727211543886684, -0.024075150332918613]}, {\"name\": \"dur1\", \"type\": \"bar\", \"x\": [\"tuwen_quality_recommend\", \"tuwen_quality_relative\", \"tuwen_quality_total\", \"tuwen_total_recommend\", \"tuwen_total_relative\", \"tuwen_total_total\"], \"y\": [-0.01619500834342901, -0.0879195439401916, -0.018439261604763862, -0.0010334211169715146, -0.01983470493375829, -0.00190325889628446]}, {\"name\": \"dur2\", \"type\": \"bar\", \"x\": [\"tuwen_quality_recommend\", \"tuwen_quality_relative\", \"tuwen_quality_total\", \"tuwen_total_recommend\", \"tuwen_total_relative\", \"tuwen_total_total\"], \"y\": [0.010517447717669532, -0.09969986001628202, 0.008859888582561119, 0.023668095178873118, -0.0206456034543938, 0.022724893805674377]}, {\"name\": \"doc_dur\", \"type\": \"bar\", \"x\": [\"tuwen_quality_recommend\", \"tuwen_quality_relative\", \"tuwen_quality_total\", \"tuwen_total_recommend\", \"tuwen_total_relative\", \"tuwen_total_total\"], \"y\": [0.08284660342757207, -0.06460616491567527, 0.0810389562514288, 0.08267296631638345, 0.05365970596583559, 0.08146671099494489]}, {\"name\": \"refresh\", \"type\": \"bar\", \"x\": [\"tuwen_quality_recommend\", \"tuwen_quality_relative\", \"tuwen_quality_total\", \"tuwen_total_recommend\", \"tuwen_total_relative\", \"tuwen_total_total\"], \"y\": [-0.02320045992284831, 0.013626924351767785, -0.024165330466468144, -0.017850529934076813, 0.011244614784488264, -0.01817183431347509]}, {\"name\": \"refresh2\", \"type\": \"bar\", \"x\": [\"tuwen_quality_recommend\", \"tuwen_quality_relative\", \"tuwen_quality_total\", \"tuwen_total_recommend\", \"tuwen_total_relative\", \"tuwen_total_total\"], \"y\": [0.003320660965451708, 0.0006686009191979317, 0.002974552207805743, 0.006420729184276191, 0.010497509179303552, 0.006036164572927941]}, {\"name\": \"refresh_times\", \"type\": \"bar\", \"x\": [\"tuwen_quality_recommend\", \"tuwen_quality_relative\", \"tuwen_quality_total\", \"tuwen_total_recommend\", \"tuwen_total_relative\", \"tuwen_total_total\"], \"y\": [-0.022901464282294386, 0.0, -0.02303970150993995, -0.018783140863077148, 0.0, -0.018699217003613513]}, {\"name\": \"praise\", \"type\": \"bar\", \"x\": [\"tuwen_quality_recommend\", \"tuwen_quality_relative\", \"tuwen_quality_total\", \"tuwen_total_recommend\", \"tuwen_total_relative\", \"tuwen_total_total\"], \"y\": [-0.05299539170506906, 0.5000000000000001, -0.04360135900339745, -0.06749555950266425, 0.625, -0.06660936828534589]}, {\"name\": \"favor\", \"type\": \"bar\", \"x\": [\"tuwen_quality_recommend\", \"tuwen_quality_relative\", \"tuwen_quality_total\", \"tuwen_total_recommend\", \"tuwen_total_relative\", \"tuwen_total_total\"], \"y\": [-0.11580205117992627, 0.25, -0.11439764936336928, -0.10906701708278578, 0.10769230769230763, -0.1072664359861591]}],\n",
       "                        {\"barmode\": \"group\", \"template\": {\"data\": {\"bar\": [{\"error_x\": {\"color\": \"#2a3f5f\"}, \"error_y\": {\"color\": \"#2a3f5f\"}, \"marker\": {\"line\": {\"color\": \"#E5ECF6\", \"width\": 0.5}}, \"type\": \"bar\"}], \"barpolar\": [{\"marker\": {\"line\": {\"color\": \"#E5ECF6\", \"width\": 0.5}}, \"type\": \"barpolar\"}], \"carpet\": [{\"aaxis\": {\"endlinecolor\": \"#2a3f5f\", \"gridcolor\": \"white\", \"linecolor\": \"white\", \"minorgridcolor\": \"white\", \"startlinecolor\": \"#2a3f5f\"}, \"baxis\": {\"endlinecolor\": \"#2a3f5f\", \"gridcolor\": \"white\", \"linecolor\": \"white\", \"minorgridcolor\": \"white\", \"startlinecolor\": \"#2a3f5f\"}, \"type\": \"carpet\"}], \"choropleth\": [{\"colorbar\": {\"outlinewidth\": 0, \"ticks\": \"\"}, \"type\": \"choropleth\"}], \"contour\": [{\"colorbar\": {\"outlinewidth\": 0, \"ticks\": \"\"}, \"colorscale\": [[0.0, \"#0d0887\"], [0.1111111111111111, \"#46039f\"], [0.2222222222222222, \"#7201a8\"], [0.3333333333333333, \"#9c179e\"], [0.4444444444444444, \"#bd3786\"], [0.5555555555555556, \"#d8576b\"], [0.6666666666666666, \"#ed7953\"], [0.7777777777777778, \"#fb9f3a\"], [0.8888888888888888, \"#fdca26\"], [1.0, \"#f0f921\"]], \"type\": \"contour\"}], \"contourcarpet\": [{\"colorbar\": {\"outlinewidth\": 0, \"ticks\": \"\"}, \"type\": \"contourcarpet\"}], \"heatmap\": [{\"colorbar\": {\"outlinewidth\": 0, \"ticks\": \"\"}, \"colorscale\": [[0.0, \"#0d0887\"], [0.1111111111111111, \"#46039f\"], [0.2222222222222222, \"#7201a8\"], [0.3333333333333333, \"#9c179e\"], [0.4444444444444444, \"#bd3786\"], [0.5555555555555556, \"#d8576b\"], [0.6666666666666666, \"#ed7953\"], [0.7777777777777778, \"#fb9f3a\"], [0.8888888888888888, \"#fdca26\"], [1.0, \"#f0f921\"]], \"type\": \"heatmap\"}], \"heatmapgl\": [{\"colorbar\": {\"outlinewidth\": 0, \"ticks\": \"\"}, \"colorscale\": [[0.0, \"#0d0887\"], [0.1111111111111111, \"#46039f\"], [0.2222222222222222, \"#7201a8\"], [0.3333333333333333, \"#9c179e\"], [0.4444444444444444, \"#bd3786\"], [0.5555555555555556, \"#d8576b\"], [0.6666666666666666, \"#ed7953\"], [0.7777777777777778, \"#fb9f3a\"], [0.8888888888888888, \"#fdca26\"], [1.0, \"#f0f921\"]], \"type\": \"heatmapgl\"}], \"histogram\": [{\"marker\": {\"colorbar\": {\"outlinewidth\": 0, \"ticks\": \"\"}}, \"type\": \"histogram\"}], \"histogram2d\": [{\"colorbar\": {\"outlinewidth\": 0, \"ticks\": \"\"}, \"colorscale\": [[0.0, \"#0d0887\"], [0.1111111111111111, \"#46039f\"], [0.2222222222222222, \"#7201a8\"], [0.3333333333333333, \"#9c179e\"], [0.4444444444444444, \"#bd3786\"], [0.5555555555555556, \"#d8576b\"], [0.6666666666666666, \"#ed7953\"], [0.7777777777777778, \"#fb9f3a\"], [0.8888888888888888, \"#fdca26\"], [1.0, \"#f0f921\"]], \"type\": \"histogram2d\"}], \"histogram2dcontour\": [{\"colorbar\": {\"outlinewidth\": 0, \"ticks\": \"\"}, \"colorscale\": [[0.0, \"#0d0887\"], [0.1111111111111111, \"#46039f\"], [0.2222222222222222, \"#7201a8\"], [0.3333333333333333, \"#9c179e\"], [0.4444444444444444, \"#bd3786\"], [0.5555555555555556, \"#d8576b\"], [0.6666666666666666, \"#ed7953\"], [0.7777777777777778, \"#fb9f3a\"], [0.8888888888888888, \"#fdca26\"], [1.0, \"#f0f921\"]], \"type\": \"histogram2dcontour\"}], \"mesh3d\": [{\"colorbar\": {\"outlinewidth\": 0, \"ticks\": \"\"}, \"type\": \"mesh3d\"}], \"parcoords\": [{\"line\": {\"colorbar\": {\"outlinewidth\": 0, \"ticks\": \"\"}}, \"type\": \"parcoords\"}], \"scatter\": [{\"marker\": {\"colorbar\": {\"outlinewidth\": 0, \"ticks\": \"\"}}, \"type\": \"scatter\"}], \"scatter3d\": [{\"line\": {\"colorbar\": {\"outlinewidth\": 0, \"ticks\": \"\"}}, \"marker\": {\"colorbar\": {\"outlinewidth\": 0, \"ticks\": \"\"}}, \"type\": \"scatter3d\"}], \"scattercarpet\": [{\"marker\": {\"colorbar\": {\"outlinewidth\": 0, \"ticks\": \"\"}}, \"type\": \"scattercarpet\"}], \"scattergeo\": [{\"marker\": {\"colorbar\": {\"outlinewidth\": 0, \"ticks\": \"\"}}, \"type\": \"scattergeo\"}], \"scattergl\": [{\"marker\": {\"colorbar\": {\"outlinewidth\": 0, \"ticks\": \"\"}}, \"type\": \"scattergl\"}], \"scattermapbox\": [{\"marker\": {\"colorbar\": {\"outlinewidth\": 0, \"ticks\": \"\"}}, \"type\": \"scattermapbox\"}], \"scatterpolar\": [{\"marker\": {\"colorbar\": {\"outlinewidth\": 0, \"ticks\": \"\"}}, \"type\": \"scatterpolar\"}], \"scatterpolargl\": [{\"marker\": {\"colorbar\": {\"outlinewidth\": 0, \"ticks\": \"\"}}, \"type\": \"scatterpolargl\"}], \"scatterternary\": [{\"marker\": {\"colorbar\": {\"outlinewidth\": 0, \"ticks\": \"\"}}, \"type\": \"scatterternary\"}], \"surface\": [{\"colorbar\": {\"outlinewidth\": 0, \"ticks\": \"\"}, \"colorscale\": [[0.0, \"#0d0887\"], [0.1111111111111111, \"#46039f\"], [0.2222222222222222, \"#7201a8\"], [0.3333333333333333, \"#9c179e\"], [0.4444444444444444, \"#bd3786\"], [0.5555555555555556, \"#d8576b\"], [0.6666666666666666, \"#ed7953\"], [0.7777777777777778, \"#fb9f3a\"], [0.8888888888888888, \"#fdca26\"], [1.0, \"#f0f921\"]], \"type\": \"surface\"}], \"table\": [{\"cells\": {\"fill\": {\"color\": \"#EBF0F8\"}, \"line\": {\"color\": \"white\"}}, \"header\": {\"fill\": {\"color\": \"#C8D4E3\"}, \"line\": {\"color\": \"white\"}}, \"type\": \"table\"}]}, \"layout\": {\"annotationdefaults\": {\"arrowcolor\": \"#2a3f5f\", \"arrowhead\": 0, \"arrowwidth\": 1}, \"colorscale\": {\"diverging\": [[0, \"#8e0152\"], [0.1, \"#c51b7d\"], [0.2, \"#de77ae\"], [0.3, \"#f1b6da\"], [0.4, \"#fde0ef\"], [0.5, \"#f7f7f7\"], [0.6, \"#e6f5d0\"], [0.7, \"#b8e186\"], [0.8, \"#7fbc41\"], [0.9, \"#4d9221\"], [1, \"#276419\"]], \"sequential\": [[0.0, \"#0d0887\"], [0.1111111111111111, \"#46039f\"], [0.2222222222222222, \"#7201a8\"], [0.3333333333333333, \"#9c179e\"], [0.4444444444444444, \"#bd3786\"], [0.5555555555555556, \"#d8576b\"], [0.6666666666666666, \"#ed7953\"], [0.7777777777777778, \"#fb9f3a\"], [0.8888888888888888, \"#fdca26\"], [1.0, \"#f0f921\"]], \"sequentialminus\": [[0.0, \"#0d0887\"], [0.1111111111111111, \"#46039f\"], [0.2222222222222222, \"#7201a8\"], [0.3333333333333333, \"#9c179e\"], [0.4444444444444444, \"#bd3786\"], [0.5555555555555556, \"#d8576b\"], [0.6666666666666666, \"#ed7953\"], [0.7777777777777778, \"#fb9f3a\"], [0.8888888888888888, \"#fdca26\"], [1.0, \"#f0f921\"]]}, \"colorway\": [\"#636efa\", \"#EF553B\", \"#00cc96\", \"#ab63fa\", \"#FFA15A\", \"#19d3f3\", \"#FF6692\", \"#B6E880\", \"#FF97FF\", \"#FECB52\"], \"font\": {\"color\": \"#2a3f5f\"}, \"geo\": {\"bgcolor\": \"white\", \"lakecolor\": \"white\", \"landcolor\": \"#E5ECF6\", \"showlakes\": true, \"showland\": true, \"subunitcolor\": \"white\"}, \"hoverlabel\": {\"align\": \"left\"}, \"hovermode\": \"closest\", \"mapbox\": {\"style\": \"light\"}, \"paper_bgcolor\": \"white\", \"plot_bgcolor\": \"#E5ECF6\", \"polar\": {\"angularaxis\": {\"gridcolor\": \"white\", \"linecolor\": \"white\", \"ticks\": \"\"}, \"bgcolor\": \"#E5ECF6\", \"radialaxis\": {\"gridcolor\": \"white\", \"linecolor\": \"white\", \"ticks\": \"\"}}, \"scene\": {\"xaxis\": {\"backgroundcolor\": \"#E5ECF6\", \"gridcolor\": \"white\", \"gridwidth\": 2, \"linecolor\": \"white\", \"showbackground\": true, \"ticks\": \"\", \"zerolinecolor\": \"white\"}, \"yaxis\": {\"backgroundcolor\": \"#E5ECF6\", \"gridcolor\": \"white\", \"gridwidth\": 2, \"linecolor\": \"white\", \"showbackground\": true, \"ticks\": \"\", \"zerolinecolor\": \"white\"}, \"zaxis\": {\"backgroundcolor\": \"#E5ECF6\", \"gridcolor\": \"white\", \"gridwidth\": 2, \"linecolor\": \"white\", \"showbackground\": true, \"ticks\": \"\", \"zerolinecolor\": \"white\"}}, \"shapedefaults\": {\"line\": {\"color\": \"#2a3f5f\"}}, \"ternary\": {\"aaxis\": {\"gridcolor\": \"white\", \"linecolor\": \"white\", \"ticks\": \"\"}, \"baxis\": {\"gridcolor\": \"white\", \"linecolor\": \"white\", \"ticks\": \"\"}, \"bgcolor\": \"#E5ECF6\", \"caxis\": {\"gridcolor\": \"white\", \"linecolor\": \"white\", \"ticks\": \"\"}}, \"title\": {\"x\": 0.05}, \"xaxis\": {\"automargin\": true, \"gridcolor\": \"white\", \"linecolor\": \"white\", \"ticks\": \"\", \"zerolinecolor\": \"white\", \"zerolinewidth\": 2}, \"yaxis\": {\"automargin\": true, \"gridcolor\": \"white\", \"linecolor\": \"white\", \"ticks\": \"\", \"zerolinecolor\": \"white\", \"zerolinewidth\": 2}}}, \"title\": {\"text\": \"sgsapp:abtest:8\"}},\n",
       "                        {\"responsive\": true}\n",
       "                    ).then(function(){\n",
       "                            \n",
       "var gd = document.getElementById('fac456d3-8fe1-44e5-a369-2e8e4a3e1cb8');\n",
       "var x = new MutationObserver(function (mutations, observer) {{\n",
       "        var display = window.getComputedStyle(gd).display;\n",
       "        if (!display || display === 'none') {{\n",
       "            console.log([gd, 'removed!']);\n",
       "            Plotly.purge(gd);\n",
       "            observer.disconnect();\n",
       "        }}\n",
       "}});\n",
       "\n",
       "// Listen for the removal of the full notebook cells\n",
       "var notebookContainer = gd.closest('#notebook-container');\n",
       "if (notebookContainer) {{\n",
       "    x.observe(notebookContainer, {childList: true});\n",
       "}}\n",
       "\n",
       "// Listen for the clearing of the current output cell\n",
       "var outputEl = gd.closest('.output');\n",
       "if (outputEl) {{\n",
       "    x.observe(outputEl, {childList: true});\n",
       "}}\n",
       "\n",
       "                        })\n",
       "                };\n",
       "                });\n",
       "            </script>\n",
       "        </div>"
      ]
     },
     "metadata": {},
     "output_type": "display_data"
    }
   ],
   "source": [
    "show('tuwen')"
   ]
  },
  {
   "cell_type": "code",
   "execution_count": 12,
   "metadata": {},
   "outputs": [
    {
     "data": {
      "application/vnd.plotly.v1+json": {
       "config": {
        "plotlyServerURL": "https://plot.ly"
       },
       "data": [
        {
         "name": "click",
         "type": "bar",
         "x": [
          "total_quality_recommend",
          "total_quality_relative",
          "total_quality_total"
         ],
         "y": [
          -0.03924124741423056,
          0.012533534927029775,
          -0.0071224435116548695
         ]
        },
        {
         "name": "click_user",
         "type": "bar",
         "x": [
          "total_quality_recommend",
          "total_quality_relative",
          "total_quality_total"
         ],
         "y": [
          -0.020199464720842646,
          -0.02252409148960873,
          -0.018642794045908163
         ]
        },
        {
         "name": "duration",
         "type": "bar",
         "x": [
          "total_quality_recommend",
          "total_quality_relative",
          "total_quality_total"
         ],
         "y": [
          -0.08353209752740616,
          0.03360293563147792,
          -0.04380399317072857
         ]
        },
        {
         "name": "ctr",
         "type": "bar",
         "x": [
          "total_quality_recommend",
          "total_quality_relative",
          "total_quality_total"
         ],
         "y": [
          -0.03676120794961668,
          0.04005703512690053,
          0.0030124459895148003
         ]
        },
        {
         "name": "read_ratio",
         "type": "bar",
         "x": [
          "total_quality_recommend",
          "total_quality_relative",
          "total_quality_total"
         ],
         "y": [
          -0.015044922276274202,
          -0.008741991177503084,
          -0.013336791648740264
         ]
        },
        {
         "name": "dur1",
         "type": "bar",
         "x": [
          "total_quality_recommend",
          "total_quality_relative",
          "total_quality_total"
         ],
         "y": [
          -0.07873755849527757,
          0.048203896950649215,
          -0.03867206536532002
         ]
        },
        {
         "name": "dur2",
         "type": "bar",
         "x": [
          "total_quality_recommend",
          "total_quality_relative",
          "total_quality_total"
         ],
         "y": [
          -0.06468175371855148,
          0.057331157214742974,
          -0.025684134544976502
         ]
        },
        {
         "name": "doc_dur",
         "type": "bar",
         "x": [
          "total_quality_recommend",
          "total_quality_relative",
          "total_quality_total"
         ],
         "y": [
          -0.046153664498582374,
          0.020473229669814443,
          -0.037091703256376625
         ]
        },
        {
         "name": "refresh",
         "type": "bar",
         "x": [
          "total_quality_recommend",
          "total_quality_relative",
          "total_quality_total"
         ],
         "y": [
          0.0076084577602455634,
          0.014033364481651257,
          0.008578103538884265
         ]
        },
        {
         "name": "refresh2",
         "type": "bar",
         "x": [
          "total_quality_recommend",
          "total_quality_relative",
          "total_quality_total"
         ],
         "y": [
          0.02298459398546969,
          0.0229474439767556,
          0.0222014371507306
         ]
        },
        {
         "name": "refresh_times",
         "type": "bar",
         "x": [
          "total_quality_recommend",
          "total_quality_relative",
          "total_quality_total"
         ],
         "y": [
          0.002340697067032187,
          0,
          0.0031767740007199725
         ]
        },
        {
         "name": "praise",
         "type": "bar",
         "x": [
          "total_quality_recommend",
          "total_quality_relative",
          "total_quality_total"
         ],
         "y": [
          -0.10555555555555556,
          -0.019289340101522785,
          -0.06642690924476416
         ]
        },
        {
         "name": "favor",
         "type": "bar",
         "x": [
          "total_quality_recommend",
          "total_quality_relative",
          "total_quality_total"
         ],
         "y": [
          -0.18194693607780194,
          -0.16541353383458646,
          -0.18099849724494904
         ]
        }
       ],
       "layout": {
        "barmode": "group",
        "template": {
         "data": {
          "bar": [
           {
            "error_x": {
             "color": "#2a3f5f"
            },
            "error_y": {
             "color": "#2a3f5f"
            },
            "marker": {
             "line": {
              "color": "#E5ECF6",
              "width": 0.5
             }
            },
            "type": "bar"
           }
          ],
          "barpolar": [
           {
            "marker": {
             "line": {
              "color": "#E5ECF6",
              "width": 0.5
             }
            },
            "type": "barpolar"
           }
          ],
          "carpet": [
           {
            "aaxis": {
             "endlinecolor": "#2a3f5f",
             "gridcolor": "white",
             "linecolor": "white",
             "minorgridcolor": "white",
             "startlinecolor": "#2a3f5f"
            },
            "baxis": {
             "endlinecolor": "#2a3f5f",
             "gridcolor": "white",
             "linecolor": "white",
             "minorgridcolor": "white",
             "startlinecolor": "#2a3f5f"
            },
            "type": "carpet"
           }
          ],
          "choropleth": [
           {
            "colorbar": {
             "outlinewidth": 0,
             "ticks": ""
            },
            "type": "choropleth"
           }
          ],
          "contour": [
           {
            "colorbar": {
             "outlinewidth": 0,
             "ticks": ""
            },
            "colorscale": [
             [
              0,
              "#0d0887"
             ],
             [
              0.1111111111111111,
              "#46039f"
             ],
             [
              0.2222222222222222,
              "#7201a8"
             ],
             [
              0.3333333333333333,
              "#9c179e"
             ],
             [
              0.4444444444444444,
              "#bd3786"
             ],
             [
              0.5555555555555556,
              "#d8576b"
             ],
             [
              0.6666666666666666,
              "#ed7953"
             ],
             [
              0.7777777777777778,
              "#fb9f3a"
             ],
             [
              0.8888888888888888,
              "#fdca26"
             ],
             [
              1,
              "#f0f921"
             ]
            ],
            "type": "contour"
           }
          ],
          "contourcarpet": [
           {
            "colorbar": {
             "outlinewidth": 0,
             "ticks": ""
            },
            "type": "contourcarpet"
           }
          ],
          "heatmap": [
           {
            "colorbar": {
             "outlinewidth": 0,
             "ticks": ""
            },
            "colorscale": [
             [
              0,
              "#0d0887"
             ],
             [
              0.1111111111111111,
              "#46039f"
             ],
             [
              0.2222222222222222,
              "#7201a8"
             ],
             [
              0.3333333333333333,
              "#9c179e"
             ],
             [
              0.4444444444444444,
              "#bd3786"
             ],
             [
              0.5555555555555556,
              "#d8576b"
             ],
             [
              0.6666666666666666,
              "#ed7953"
             ],
             [
              0.7777777777777778,
              "#fb9f3a"
             ],
             [
              0.8888888888888888,
              "#fdca26"
             ],
             [
              1,
              "#f0f921"
             ]
            ],
            "type": "heatmap"
           }
          ],
          "heatmapgl": [
           {
            "colorbar": {
             "outlinewidth": 0,
             "ticks": ""
            },
            "colorscale": [
             [
              0,
              "#0d0887"
             ],
             [
              0.1111111111111111,
              "#46039f"
             ],
             [
              0.2222222222222222,
              "#7201a8"
             ],
             [
              0.3333333333333333,
              "#9c179e"
             ],
             [
              0.4444444444444444,
              "#bd3786"
             ],
             [
              0.5555555555555556,
              "#d8576b"
             ],
             [
              0.6666666666666666,
              "#ed7953"
             ],
             [
              0.7777777777777778,
              "#fb9f3a"
             ],
             [
              0.8888888888888888,
              "#fdca26"
             ],
             [
              1,
              "#f0f921"
             ]
            ],
            "type": "heatmapgl"
           }
          ],
          "histogram": [
           {
            "marker": {
             "colorbar": {
              "outlinewidth": 0,
              "ticks": ""
             }
            },
            "type": "histogram"
           }
          ],
          "histogram2d": [
           {
            "colorbar": {
             "outlinewidth": 0,
             "ticks": ""
            },
            "colorscale": [
             [
              0,
              "#0d0887"
             ],
             [
              0.1111111111111111,
              "#46039f"
             ],
             [
              0.2222222222222222,
              "#7201a8"
             ],
             [
              0.3333333333333333,
              "#9c179e"
             ],
             [
              0.4444444444444444,
              "#bd3786"
             ],
             [
              0.5555555555555556,
              "#d8576b"
             ],
             [
              0.6666666666666666,
              "#ed7953"
             ],
             [
              0.7777777777777778,
              "#fb9f3a"
             ],
             [
              0.8888888888888888,
              "#fdca26"
             ],
             [
              1,
              "#f0f921"
             ]
            ],
            "type": "histogram2d"
           }
          ],
          "histogram2dcontour": [
           {
            "colorbar": {
             "outlinewidth": 0,
             "ticks": ""
            },
            "colorscale": [
             [
              0,
              "#0d0887"
             ],
             [
              0.1111111111111111,
              "#46039f"
             ],
             [
              0.2222222222222222,
              "#7201a8"
             ],
             [
              0.3333333333333333,
              "#9c179e"
             ],
             [
              0.4444444444444444,
              "#bd3786"
             ],
             [
              0.5555555555555556,
              "#d8576b"
             ],
             [
              0.6666666666666666,
              "#ed7953"
             ],
             [
              0.7777777777777778,
              "#fb9f3a"
             ],
             [
              0.8888888888888888,
              "#fdca26"
             ],
             [
              1,
              "#f0f921"
             ]
            ],
            "type": "histogram2dcontour"
           }
          ],
          "mesh3d": [
           {
            "colorbar": {
             "outlinewidth": 0,
             "ticks": ""
            },
            "type": "mesh3d"
           }
          ],
          "parcoords": [
           {
            "line": {
             "colorbar": {
              "outlinewidth": 0,
              "ticks": ""
             }
            },
            "type": "parcoords"
           }
          ],
          "scatter": [
           {
            "marker": {
             "colorbar": {
              "outlinewidth": 0,
              "ticks": ""
             }
            },
            "type": "scatter"
           }
          ],
          "scatter3d": [
           {
            "line": {
             "colorbar": {
              "outlinewidth": 0,
              "ticks": ""
             }
            },
            "marker": {
             "colorbar": {
              "outlinewidth": 0,
              "ticks": ""
             }
            },
            "type": "scatter3d"
           }
          ],
          "scattercarpet": [
           {
            "marker": {
             "colorbar": {
              "outlinewidth": 0,
              "ticks": ""
             }
            },
            "type": "scattercarpet"
           }
          ],
          "scattergeo": [
           {
            "marker": {
             "colorbar": {
              "outlinewidth": 0,
              "ticks": ""
             }
            },
            "type": "scattergeo"
           }
          ],
          "scattergl": [
           {
            "marker": {
             "colorbar": {
              "outlinewidth": 0,
              "ticks": ""
             }
            },
            "type": "scattergl"
           }
          ],
          "scattermapbox": [
           {
            "marker": {
             "colorbar": {
              "outlinewidth": 0,
              "ticks": ""
             }
            },
            "type": "scattermapbox"
           }
          ],
          "scatterpolar": [
           {
            "marker": {
             "colorbar": {
              "outlinewidth": 0,
              "ticks": ""
             }
            },
            "type": "scatterpolar"
           }
          ],
          "scatterpolargl": [
           {
            "marker": {
             "colorbar": {
              "outlinewidth": 0,
              "ticks": ""
             }
            },
            "type": "scatterpolargl"
           }
          ],
          "scatterternary": [
           {
            "marker": {
             "colorbar": {
              "outlinewidth": 0,
              "ticks": ""
             }
            },
            "type": "scatterternary"
           }
          ],
          "surface": [
           {
            "colorbar": {
             "outlinewidth": 0,
             "ticks": ""
            },
            "colorscale": [
             [
              0,
              "#0d0887"
             ],
             [
              0.1111111111111111,
              "#46039f"
             ],
             [
              0.2222222222222222,
              "#7201a8"
             ],
             [
              0.3333333333333333,
              "#9c179e"
             ],
             [
              0.4444444444444444,
              "#bd3786"
             ],
             [
              0.5555555555555556,
              "#d8576b"
             ],
             [
              0.6666666666666666,
              "#ed7953"
             ],
             [
              0.7777777777777778,
              "#fb9f3a"
             ],
             [
              0.8888888888888888,
              "#fdca26"
             ],
             [
              1,
              "#f0f921"
             ]
            ],
            "type": "surface"
           }
          ],
          "table": [
           {
            "cells": {
             "fill": {
              "color": "#EBF0F8"
             },
             "line": {
              "color": "white"
             }
            },
            "header": {
             "fill": {
              "color": "#C8D4E3"
             },
             "line": {
              "color": "white"
             }
            },
            "type": "table"
           }
          ]
         },
         "layout": {
          "annotationdefaults": {
           "arrowcolor": "#2a3f5f",
           "arrowhead": 0,
           "arrowwidth": 1
          },
          "colorscale": {
           "diverging": [
            [
             0,
             "#8e0152"
            ],
            [
             0.1,
             "#c51b7d"
            ],
            [
             0.2,
             "#de77ae"
            ],
            [
             0.3,
             "#f1b6da"
            ],
            [
             0.4,
             "#fde0ef"
            ],
            [
             0.5,
             "#f7f7f7"
            ],
            [
             0.6,
             "#e6f5d0"
            ],
            [
             0.7,
             "#b8e186"
            ],
            [
             0.8,
             "#7fbc41"
            ],
            [
             0.9,
             "#4d9221"
            ],
            [
             1,
             "#276419"
            ]
           ],
           "sequential": [
            [
             0,
             "#0d0887"
            ],
            [
             0.1111111111111111,
             "#46039f"
            ],
            [
             0.2222222222222222,
             "#7201a8"
            ],
            [
             0.3333333333333333,
             "#9c179e"
            ],
            [
             0.4444444444444444,
             "#bd3786"
            ],
            [
             0.5555555555555556,
             "#d8576b"
            ],
            [
             0.6666666666666666,
             "#ed7953"
            ],
            [
             0.7777777777777778,
             "#fb9f3a"
            ],
            [
             0.8888888888888888,
             "#fdca26"
            ],
            [
             1,
             "#f0f921"
            ]
           ],
           "sequentialminus": [
            [
             0,
             "#0d0887"
            ],
            [
             0.1111111111111111,
             "#46039f"
            ],
            [
             0.2222222222222222,
             "#7201a8"
            ],
            [
             0.3333333333333333,
             "#9c179e"
            ],
            [
             0.4444444444444444,
             "#bd3786"
            ],
            [
             0.5555555555555556,
             "#d8576b"
            ],
            [
             0.6666666666666666,
             "#ed7953"
            ],
            [
             0.7777777777777778,
             "#fb9f3a"
            ],
            [
             0.8888888888888888,
             "#fdca26"
            ],
            [
             1,
             "#f0f921"
            ]
           ]
          },
          "colorway": [
           "#636efa",
           "#EF553B",
           "#00cc96",
           "#ab63fa",
           "#FFA15A",
           "#19d3f3",
           "#FF6692",
           "#B6E880",
           "#FF97FF",
           "#FECB52"
          ],
          "font": {
           "color": "#2a3f5f"
          },
          "geo": {
           "bgcolor": "white",
           "lakecolor": "white",
           "landcolor": "#E5ECF6",
           "showlakes": true,
           "showland": true,
           "subunitcolor": "white"
          },
          "hoverlabel": {
           "align": "left"
          },
          "hovermode": "closest",
          "mapbox": {
           "style": "light"
          },
          "paper_bgcolor": "white",
          "plot_bgcolor": "#E5ECF6",
          "polar": {
           "angularaxis": {
            "gridcolor": "white",
            "linecolor": "white",
            "ticks": ""
           },
           "bgcolor": "#E5ECF6",
           "radialaxis": {
            "gridcolor": "white",
            "linecolor": "white",
            "ticks": ""
           }
          },
          "scene": {
           "xaxis": {
            "backgroundcolor": "#E5ECF6",
            "gridcolor": "white",
            "gridwidth": 2,
            "linecolor": "white",
            "showbackground": true,
            "ticks": "",
            "zerolinecolor": "white"
           },
           "yaxis": {
            "backgroundcolor": "#E5ECF6",
            "gridcolor": "white",
            "gridwidth": 2,
            "linecolor": "white",
            "showbackground": true,
            "ticks": "",
            "zerolinecolor": "white"
           },
           "zaxis": {
            "backgroundcolor": "#E5ECF6",
            "gridcolor": "white",
            "gridwidth": 2,
            "linecolor": "white",
            "showbackground": true,
            "ticks": "",
            "zerolinecolor": "white"
           }
          },
          "shapedefaults": {
           "line": {
            "color": "#2a3f5f"
           }
          },
          "ternary": {
           "aaxis": {
            "gridcolor": "white",
            "linecolor": "white",
            "ticks": ""
           },
           "baxis": {
            "gridcolor": "white",
            "linecolor": "white",
            "ticks": ""
           },
           "bgcolor": "#E5ECF6",
           "caxis": {
            "gridcolor": "white",
            "linecolor": "white",
            "ticks": ""
           }
          },
          "title": {
           "x": 0.05
          },
          "xaxis": {
           "automargin": true,
           "gridcolor": "white",
           "linecolor": "white",
           "ticks": "",
           "zerolinecolor": "white",
           "zerolinewidth": 2
          },
          "yaxis": {
           "automargin": true,
           "gridcolor": "white",
           "linecolor": "white",
           "ticks": "",
           "zerolinecolor": "white",
           "zerolinewidth": 2
          }
         }
        },
        "title": {
         "text": "sgsapp:abtest:16"
        }
       }
      },
      "text/html": [
       "<div>\n",
       "        \n",
       "        \n",
       "            <div id=\"ab13caa4-6d70-4a17-8801-2addc6f63ab7\" class=\"plotly-graph-div\" style=\"height:525px; width:100%;\"></div>\n",
       "            <script type=\"text/javascript\">\n",
       "                require([\"plotly\"], function(Plotly) {\n",
       "                    window.PLOTLYENV=window.PLOTLYENV || {};\n",
       "                    \n",
       "                if (document.getElementById(\"ab13caa4-6d70-4a17-8801-2addc6f63ab7\")) {\n",
       "                    Plotly.newPlot(\n",
       "                        'ab13caa4-6d70-4a17-8801-2addc6f63ab7',\n",
       "                        [{\"name\": \"click\", \"type\": \"bar\", \"x\": [\"total_quality_recommend\", \"total_quality_relative\", \"total_quality_total\"], \"y\": [-0.03924124741423056, 0.012533534927029775, -0.0071224435116548695]}, {\"name\": \"click_user\", \"type\": \"bar\", \"x\": [\"total_quality_recommend\", \"total_quality_relative\", \"total_quality_total\"], \"y\": [-0.020199464720842646, -0.02252409148960873, -0.018642794045908163]}, {\"name\": \"duration\", \"type\": \"bar\", \"x\": [\"total_quality_recommend\", \"total_quality_relative\", \"total_quality_total\"], \"y\": [-0.08353209752740616, 0.03360293563147792, -0.04380399317072857]}, {\"name\": \"ctr\", \"type\": \"bar\", \"x\": [\"total_quality_recommend\", \"total_quality_relative\", \"total_quality_total\"], \"y\": [-0.03676120794961668, 0.04005703512690053, 0.0030124459895148003]}, {\"name\": \"read_ratio\", \"type\": \"bar\", \"x\": [\"total_quality_recommend\", \"total_quality_relative\", \"total_quality_total\"], \"y\": [-0.015044922276274202, -0.008741991177503084, -0.013336791648740264]}, {\"name\": \"dur1\", \"type\": \"bar\", \"x\": [\"total_quality_recommend\", \"total_quality_relative\", \"total_quality_total\"], \"y\": [-0.07873755849527757, 0.048203896950649215, -0.03867206536532002]}, {\"name\": \"dur2\", \"type\": \"bar\", \"x\": [\"total_quality_recommend\", \"total_quality_relative\", \"total_quality_total\"], \"y\": [-0.06468175371855148, 0.057331157214742974, -0.025684134544976502]}, {\"name\": \"doc_dur\", \"type\": \"bar\", \"x\": [\"total_quality_recommend\", \"total_quality_relative\", \"total_quality_total\"], \"y\": [-0.046153664498582374, 0.020473229669814443, -0.037091703256376625]}, {\"name\": \"refresh\", \"type\": \"bar\", \"x\": [\"total_quality_recommend\", \"total_quality_relative\", \"total_quality_total\"], \"y\": [0.0076084577602455634, 0.014033364481651257, 0.008578103538884265]}, {\"name\": \"refresh2\", \"type\": \"bar\", \"x\": [\"total_quality_recommend\", \"total_quality_relative\", \"total_quality_total\"], \"y\": [0.02298459398546969, 0.0229474439767556, 0.0222014371507306]}, {\"name\": \"refresh_times\", \"type\": \"bar\", \"x\": [\"total_quality_recommend\", \"total_quality_relative\", \"total_quality_total\"], \"y\": [0.002340697067032187, 0.0, 0.0031767740007199725]}, {\"name\": \"praise\", \"type\": \"bar\", \"x\": [\"total_quality_recommend\", \"total_quality_relative\", \"total_quality_total\"], \"y\": [-0.10555555555555556, -0.019289340101522785, -0.06642690924476416]}, {\"name\": \"favor\", \"type\": \"bar\", \"x\": [\"total_quality_recommend\", \"total_quality_relative\", \"total_quality_total\"], \"y\": [-0.18194693607780194, -0.16541353383458646, -0.18099849724494904]}],\n",
       "                        {\"barmode\": \"group\", \"template\": {\"data\": {\"bar\": [{\"error_x\": {\"color\": \"#2a3f5f\"}, \"error_y\": {\"color\": \"#2a3f5f\"}, \"marker\": {\"line\": {\"color\": \"#E5ECF6\", \"width\": 0.5}}, \"type\": \"bar\"}], \"barpolar\": [{\"marker\": {\"line\": {\"color\": \"#E5ECF6\", \"width\": 0.5}}, \"type\": \"barpolar\"}], \"carpet\": [{\"aaxis\": {\"endlinecolor\": \"#2a3f5f\", \"gridcolor\": \"white\", \"linecolor\": \"white\", \"minorgridcolor\": \"white\", \"startlinecolor\": \"#2a3f5f\"}, \"baxis\": {\"endlinecolor\": \"#2a3f5f\", \"gridcolor\": \"white\", \"linecolor\": \"white\", \"minorgridcolor\": \"white\", \"startlinecolor\": \"#2a3f5f\"}, \"type\": \"carpet\"}], \"choropleth\": [{\"colorbar\": {\"outlinewidth\": 0, \"ticks\": \"\"}, \"type\": \"choropleth\"}], \"contour\": [{\"colorbar\": {\"outlinewidth\": 0, \"ticks\": \"\"}, \"colorscale\": [[0.0, \"#0d0887\"], [0.1111111111111111, \"#46039f\"], [0.2222222222222222, \"#7201a8\"], [0.3333333333333333, \"#9c179e\"], [0.4444444444444444, \"#bd3786\"], [0.5555555555555556, \"#d8576b\"], [0.6666666666666666, \"#ed7953\"], [0.7777777777777778, \"#fb9f3a\"], [0.8888888888888888, \"#fdca26\"], [1.0, \"#f0f921\"]], \"type\": \"contour\"}], \"contourcarpet\": [{\"colorbar\": {\"outlinewidth\": 0, \"ticks\": \"\"}, \"type\": \"contourcarpet\"}], \"heatmap\": [{\"colorbar\": {\"outlinewidth\": 0, \"ticks\": \"\"}, \"colorscale\": [[0.0, \"#0d0887\"], [0.1111111111111111, \"#46039f\"], [0.2222222222222222, \"#7201a8\"], [0.3333333333333333, \"#9c179e\"], [0.4444444444444444, \"#bd3786\"], [0.5555555555555556, \"#d8576b\"], [0.6666666666666666, \"#ed7953\"], [0.7777777777777778, \"#fb9f3a\"], [0.8888888888888888, \"#fdca26\"], [1.0, \"#f0f921\"]], \"type\": \"heatmap\"}], \"heatmapgl\": [{\"colorbar\": {\"outlinewidth\": 0, \"ticks\": \"\"}, \"colorscale\": [[0.0, \"#0d0887\"], [0.1111111111111111, \"#46039f\"], [0.2222222222222222, \"#7201a8\"], [0.3333333333333333, \"#9c179e\"], [0.4444444444444444, \"#bd3786\"], [0.5555555555555556, \"#d8576b\"], [0.6666666666666666, \"#ed7953\"], [0.7777777777777778, \"#fb9f3a\"], [0.8888888888888888, \"#fdca26\"], [1.0, \"#f0f921\"]], \"type\": \"heatmapgl\"}], \"histogram\": [{\"marker\": {\"colorbar\": {\"outlinewidth\": 0, \"ticks\": \"\"}}, \"type\": \"histogram\"}], \"histogram2d\": [{\"colorbar\": {\"outlinewidth\": 0, \"ticks\": \"\"}, \"colorscale\": [[0.0, \"#0d0887\"], [0.1111111111111111, \"#46039f\"], [0.2222222222222222, \"#7201a8\"], [0.3333333333333333, \"#9c179e\"], [0.4444444444444444, \"#bd3786\"], [0.5555555555555556, \"#d8576b\"], [0.6666666666666666, \"#ed7953\"], [0.7777777777777778, \"#fb9f3a\"], [0.8888888888888888, \"#fdca26\"], [1.0, \"#f0f921\"]], \"type\": \"histogram2d\"}], \"histogram2dcontour\": [{\"colorbar\": {\"outlinewidth\": 0, \"ticks\": \"\"}, \"colorscale\": [[0.0, \"#0d0887\"], [0.1111111111111111, \"#46039f\"], [0.2222222222222222, \"#7201a8\"], [0.3333333333333333, \"#9c179e\"], [0.4444444444444444, \"#bd3786\"], [0.5555555555555556, \"#d8576b\"], [0.6666666666666666, \"#ed7953\"], [0.7777777777777778, \"#fb9f3a\"], [0.8888888888888888, \"#fdca26\"], [1.0, \"#f0f921\"]], \"type\": \"histogram2dcontour\"}], \"mesh3d\": [{\"colorbar\": {\"outlinewidth\": 0, \"ticks\": \"\"}, \"type\": \"mesh3d\"}], \"parcoords\": [{\"line\": {\"colorbar\": {\"outlinewidth\": 0, \"ticks\": \"\"}}, \"type\": \"parcoords\"}], \"scatter\": [{\"marker\": {\"colorbar\": {\"outlinewidth\": 0, \"ticks\": \"\"}}, \"type\": \"scatter\"}], \"scatter3d\": [{\"line\": {\"colorbar\": {\"outlinewidth\": 0, \"ticks\": \"\"}}, \"marker\": {\"colorbar\": {\"outlinewidth\": 0, \"ticks\": \"\"}}, \"type\": \"scatter3d\"}], \"scattercarpet\": [{\"marker\": {\"colorbar\": {\"outlinewidth\": 0, \"ticks\": \"\"}}, \"type\": \"scattercarpet\"}], \"scattergeo\": [{\"marker\": {\"colorbar\": {\"outlinewidth\": 0, \"ticks\": \"\"}}, \"type\": \"scattergeo\"}], \"scattergl\": [{\"marker\": {\"colorbar\": {\"outlinewidth\": 0, \"ticks\": \"\"}}, \"type\": \"scattergl\"}], \"scattermapbox\": [{\"marker\": {\"colorbar\": {\"outlinewidth\": 0, \"ticks\": \"\"}}, \"type\": \"scattermapbox\"}], \"scatterpolar\": [{\"marker\": {\"colorbar\": {\"outlinewidth\": 0, \"ticks\": \"\"}}, \"type\": \"scatterpolar\"}], \"scatterpolargl\": [{\"marker\": {\"colorbar\": {\"outlinewidth\": 0, \"ticks\": \"\"}}, \"type\": \"scatterpolargl\"}], \"scatterternary\": [{\"marker\": {\"colorbar\": {\"outlinewidth\": 0, \"ticks\": \"\"}}, \"type\": \"scatterternary\"}], \"surface\": [{\"colorbar\": {\"outlinewidth\": 0, \"ticks\": \"\"}, \"colorscale\": [[0.0, \"#0d0887\"], [0.1111111111111111, \"#46039f\"], [0.2222222222222222, \"#7201a8\"], [0.3333333333333333, \"#9c179e\"], [0.4444444444444444, \"#bd3786\"], [0.5555555555555556, \"#d8576b\"], [0.6666666666666666, \"#ed7953\"], [0.7777777777777778, \"#fb9f3a\"], [0.8888888888888888, \"#fdca26\"], [1.0, \"#f0f921\"]], \"type\": \"surface\"}], \"table\": [{\"cells\": {\"fill\": {\"color\": \"#EBF0F8\"}, \"line\": {\"color\": \"white\"}}, \"header\": {\"fill\": {\"color\": \"#C8D4E3\"}, \"line\": {\"color\": \"white\"}}, \"type\": \"table\"}]}, \"layout\": {\"annotationdefaults\": {\"arrowcolor\": \"#2a3f5f\", \"arrowhead\": 0, \"arrowwidth\": 1}, \"colorscale\": {\"diverging\": [[0, \"#8e0152\"], [0.1, \"#c51b7d\"], [0.2, \"#de77ae\"], [0.3, \"#f1b6da\"], [0.4, \"#fde0ef\"], [0.5, \"#f7f7f7\"], [0.6, \"#e6f5d0\"], [0.7, \"#b8e186\"], [0.8, \"#7fbc41\"], [0.9, \"#4d9221\"], [1, \"#276419\"]], \"sequential\": [[0.0, \"#0d0887\"], [0.1111111111111111, \"#46039f\"], [0.2222222222222222, \"#7201a8\"], [0.3333333333333333, \"#9c179e\"], [0.4444444444444444, \"#bd3786\"], [0.5555555555555556, \"#d8576b\"], [0.6666666666666666, \"#ed7953\"], [0.7777777777777778, \"#fb9f3a\"], [0.8888888888888888, \"#fdca26\"], [1.0, \"#f0f921\"]], \"sequentialminus\": [[0.0, \"#0d0887\"], [0.1111111111111111, \"#46039f\"], [0.2222222222222222, \"#7201a8\"], [0.3333333333333333, \"#9c179e\"], [0.4444444444444444, \"#bd3786\"], [0.5555555555555556, \"#d8576b\"], [0.6666666666666666, \"#ed7953\"], [0.7777777777777778, \"#fb9f3a\"], [0.8888888888888888, \"#fdca26\"], [1.0, \"#f0f921\"]]}, \"colorway\": [\"#636efa\", \"#EF553B\", \"#00cc96\", \"#ab63fa\", \"#FFA15A\", \"#19d3f3\", \"#FF6692\", \"#B6E880\", \"#FF97FF\", \"#FECB52\"], \"font\": {\"color\": \"#2a3f5f\"}, \"geo\": {\"bgcolor\": \"white\", \"lakecolor\": \"white\", \"landcolor\": \"#E5ECF6\", \"showlakes\": true, \"showland\": true, \"subunitcolor\": \"white\"}, \"hoverlabel\": {\"align\": \"left\"}, \"hovermode\": \"closest\", \"mapbox\": {\"style\": \"light\"}, \"paper_bgcolor\": \"white\", \"plot_bgcolor\": \"#E5ECF6\", \"polar\": {\"angularaxis\": {\"gridcolor\": \"white\", \"linecolor\": \"white\", \"ticks\": \"\"}, \"bgcolor\": \"#E5ECF6\", \"radialaxis\": {\"gridcolor\": \"white\", \"linecolor\": \"white\", \"ticks\": \"\"}}, \"scene\": {\"xaxis\": {\"backgroundcolor\": \"#E5ECF6\", \"gridcolor\": \"white\", \"gridwidth\": 2, \"linecolor\": \"white\", \"showbackground\": true, \"ticks\": \"\", \"zerolinecolor\": \"white\"}, \"yaxis\": {\"backgroundcolor\": \"#E5ECF6\", \"gridcolor\": \"white\", \"gridwidth\": 2, \"linecolor\": \"white\", \"showbackground\": true, \"ticks\": \"\", \"zerolinecolor\": \"white\"}, \"zaxis\": {\"backgroundcolor\": \"#E5ECF6\", \"gridcolor\": \"white\", \"gridwidth\": 2, \"linecolor\": \"white\", \"showbackground\": true, \"ticks\": \"\", \"zerolinecolor\": \"white\"}}, \"shapedefaults\": {\"line\": {\"color\": \"#2a3f5f\"}}, \"ternary\": {\"aaxis\": {\"gridcolor\": \"white\", \"linecolor\": \"white\", \"ticks\": \"\"}, \"baxis\": {\"gridcolor\": \"white\", \"linecolor\": \"white\", \"ticks\": \"\"}, \"bgcolor\": \"#E5ECF6\", \"caxis\": {\"gridcolor\": \"white\", \"linecolor\": \"white\", \"ticks\": \"\"}}, \"title\": {\"x\": 0.05}, \"xaxis\": {\"automargin\": true, \"gridcolor\": \"white\", \"linecolor\": \"white\", \"ticks\": \"\", \"zerolinecolor\": \"white\", \"zerolinewidth\": 2}, \"yaxis\": {\"automargin\": true, \"gridcolor\": \"white\", \"linecolor\": \"white\", \"ticks\": \"\", \"zerolinecolor\": \"white\", \"zerolinewidth\": 2}}}, \"title\": {\"text\": \"sgsapp:abtest:16\"}},\n",
       "                        {\"responsive\": true}\n",
       "                    ).then(function(){\n",
       "                            \n",
       "var gd = document.getElementById('ab13caa4-6d70-4a17-8801-2addc6f63ab7');\n",
       "var x = new MutationObserver(function (mutations, observer) {{\n",
       "        var display = window.getComputedStyle(gd).display;\n",
       "        if (!display || display === 'none') {{\n",
       "            console.log([gd, 'removed!']);\n",
       "            Plotly.purge(gd);\n",
       "            observer.disconnect();\n",
       "        }}\n",
       "}});\n",
       "\n",
       "// Listen for the removal of the full notebook cells\n",
       "var notebookContainer = gd.closest('#notebook-container');\n",
       "if (notebookContainer) {{\n",
       "    x.observe(notebookContainer, {childList: true});\n",
       "}}\n",
       "\n",
       "// Listen for the clearing of the current output cell\n",
       "var outputEl = gd.closest('.output');\n",
       "if (outputEl) {{\n",
       "    x.observe(outputEl, {childList: true});\n",
       "}}\n",
       "\n",
       "                        })\n",
       "                };\n",
       "                });\n",
       "            </script>\n",
       "        </div>"
      ]
     },
     "metadata": {},
     "output_type": "display_data"
    },
    {
     "data": {
      "application/vnd.plotly.v1+json": {
       "config": {
        "plotlyServerURL": "https://plot.ly"
       },
       "data": [
        {
         "name": "click",
         "type": "bar",
         "x": [
          "total_quality_recommend",
          "total_quality_relative",
          "total_quality_total"
         ],
         "y": [
          -0.07189102689200269,
          -0.04023038840590405,
          -0.05248911210460781
         ]
        },
        {
         "name": "click_user",
         "type": "bar",
         "x": [
          "total_quality_recommend",
          "total_quality_relative",
          "total_quality_total"
         ],
         "y": [
          -0.02259623706741593,
          -0.035063276442586784,
          -0.022479465239231566
         ]
        },
        {
         "name": "duration",
         "type": "bar",
         "x": [
          "total_quality_recommend",
          "total_quality_relative",
          "total_quality_total"
         ],
         "y": [
          -0.010061657194936218,
          -0.009890926276602824,
          -0.010954917734107896
         ]
        },
        {
         "name": "ctr",
         "type": "bar",
         "x": [
          "total_quality_recommend",
          "total_quality_relative",
          "total_quality_total"
         ],
         "y": [
          -0.058162612249300895,
          0.03656415160717699,
          -0.01838211517859164
         ]
        },
        {
         "name": "read_ratio",
         "type": "bar",
         "x": [
          "total_quality_recommend",
          "total_quality_relative",
          "total_quality_total"
         ],
         "y": [
          -0.022889130278009123,
          -0.01476525600283474,
          -0.023113168674824634
         ]
        },
        {
         "name": "dur1",
         "type": "bar",
         "x": [
          "total_quality_recommend",
          "total_quality_relative",
          "total_quality_total"
         ],
         "y": [
          -0.010387119194364696,
          0.010963120723051,
          -0.011635194934569085
         ]
        },
        {
         "name": "dur2",
         "type": "bar",
         "x": [
          "total_quality_recommend",
          "total_quality_relative",
          "total_quality_total"
         ],
         "y": [
          0.01277730084338273,
          0.02600047948234661,
          0.011742894710093824
         ]
        },
        {
         "name": "doc_dur",
         "type": "bar",
         "x": [
          "total_quality_recommend",
          "total_quality_relative",
          "total_quality_total"
         ],
         "y": [
          0.06655849784716097,
          0.03127227794005178,
          0.043675708871522265
         ]
        },
        {
         "name": "refresh",
         "type": "bar",
         "x": [
          "total_quality_recommend",
          "total_quality_relative",
          "total_quality_total"
         ],
         "y": [
          -0.012395672114168331,
          0.020968825446402554,
          -0.013451879232436743
         ]
        },
        {
         "name": "refresh2",
         "type": "bar",
         "x": [
          "total_quality_recommend",
          "total_quality_relative",
          "total_quality_total"
         ],
         "y": [
          0.010724637923757678,
          0.03624046815549343,
          0.009880309405633418
         ]
        },
        {
         "name": "refresh_times",
         "type": "bar",
         "x": [
          "total_quality_recommend",
          "total_quality_relative",
          "total_quality_total"
         ],
         "y": [
          -0.0120943770918816,
          0,
          -0.012789741940888973
         ]
        },
        {
         "name": "praise",
         "type": "bar",
         "x": [
          "total_quality_recommend",
          "total_quality_relative",
          "total_quality_total"
         ],
         "y": [
          -0.06111111111111111,
          -0.11979695431472076,
          -0.0822932092236091
         ]
        },
        {
         "name": "favor",
         "type": "bar",
         "x": [
          "total_quality_recommend",
          "total_quality_relative",
          "total_quality_total"
         ],
         "y": [
          -0.1145312057407233,
          -0.38847117794486213,
          -0.14618467189848053
         ]
        }
       ],
       "layout": {
        "barmode": "group",
        "template": {
         "data": {
          "bar": [
           {
            "error_x": {
             "color": "#2a3f5f"
            },
            "error_y": {
             "color": "#2a3f5f"
            },
            "marker": {
             "line": {
              "color": "#E5ECF6",
              "width": 0.5
             }
            },
            "type": "bar"
           }
          ],
          "barpolar": [
           {
            "marker": {
             "line": {
              "color": "#E5ECF6",
              "width": 0.5
             }
            },
            "type": "barpolar"
           }
          ],
          "carpet": [
           {
            "aaxis": {
             "endlinecolor": "#2a3f5f",
             "gridcolor": "white",
             "linecolor": "white",
             "minorgridcolor": "white",
             "startlinecolor": "#2a3f5f"
            },
            "baxis": {
             "endlinecolor": "#2a3f5f",
             "gridcolor": "white",
             "linecolor": "white",
             "minorgridcolor": "white",
             "startlinecolor": "#2a3f5f"
            },
            "type": "carpet"
           }
          ],
          "choropleth": [
           {
            "colorbar": {
             "outlinewidth": 0,
             "ticks": ""
            },
            "type": "choropleth"
           }
          ],
          "contour": [
           {
            "colorbar": {
             "outlinewidth": 0,
             "ticks": ""
            },
            "colorscale": [
             [
              0,
              "#0d0887"
             ],
             [
              0.1111111111111111,
              "#46039f"
             ],
             [
              0.2222222222222222,
              "#7201a8"
             ],
             [
              0.3333333333333333,
              "#9c179e"
             ],
             [
              0.4444444444444444,
              "#bd3786"
             ],
             [
              0.5555555555555556,
              "#d8576b"
             ],
             [
              0.6666666666666666,
              "#ed7953"
             ],
             [
              0.7777777777777778,
              "#fb9f3a"
             ],
             [
              0.8888888888888888,
              "#fdca26"
             ],
             [
              1,
              "#f0f921"
             ]
            ],
            "type": "contour"
           }
          ],
          "contourcarpet": [
           {
            "colorbar": {
             "outlinewidth": 0,
             "ticks": ""
            },
            "type": "contourcarpet"
           }
          ],
          "heatmap": [
           {
            "colorbar": {
             "outlinewidth": 0,
             "ticks": ""
            },
            "colorscale": [
             [
              0,
              "#0d0887"
             ],
             [
              0.1111111111111111,
              "#46039f"
             ],
             [
              0.2222222222222222,
              "#7201a8"
             ],
             [
              0.3333333333333333,
              "#9c179e"
             ],
             [
              0.4444444444444444,
              "#bd3786"
             ],
             [
              0.5555555555555556,
              "#d8576b"
             ],
             [
              0.6666666666666666,
              "#ed7953"
             ],
             [
              0.7777777777777778,
              "#fb9f3a"
             ],
             [
              0.8888888888888888,
              "#fdca26"
             ],
             [
              1,
              "#f0f921"
             ]
            ],
            "type": "heatmap"
           }
          ],
          "heatmapgl": [
           {
            "colorbar": {
             "outlinewidth": 0,
             "ticks": ""
            },
            "colorscale": [
             [
              0,
              "#0d0887"
             ],
             [
              0.1111111111111111,
              "#46039f"
             ],
             [
              0.2222222222222222,
              "#7201a8"
             ],
             [
              0.3333333333333333,
              "#9c179e"
             ],
             [
              0.4444444444444444,
              "#bd3786"
             ],
             [
              0.5555555555555556,
              "#d8576b"
             ],
             [
              0.6666666666666666,
              "#ed7953"
             ],
             [
              0.7777777777777778,
              "#fb9f3a"
             ],
             [
              0.8888888888888888,
              "#fdca26"
             ],
             [
              1,
              "#f0f921"
             ]
            ],
            "type": "heatmapgl"
           }
          ],
          "histogram": [
           {
            "marker": {
             "colorbar": {
              "outlinewidth": 0,
              "ticks": ""
             }
            },
            "type": "histogram"
           }
          ],
          "histogram2d": [
           {
            "colorbar": {
             "outlinewidth": 0,
             "ticks": ""
            },
            "colorscale": [
             [
              0,
              "#0d0887"
             ],
             [
              0.1111111111111111,
              "#46039f"
             ],
             [
              0.2222222222222222,
              "#7201a8"
             ],
             [
              0.3333333333333333,
              "#9c179e"
             ],
             [
              0.4444444444444444,
              "#bd3786"
             ],
             [
              0.5555555555555556,
              "#d8576b"
             ],
             [
              0.6666666666666666,
              "#ed7953"
             ],
             [
              0.7777777777777778,
              "#fb9f3a"
             ],
             [
              0.8888888888888888,
              "#fdca26"
             ],
             [
              1,
              "#f0f921"
             ]
            ],
            "type": "histogram2d"
           }
          ],
          "histogram2dcontour": [
           {
            "colorbar": {
             "outlinewidth": 0,
             "ticks": ""
            },
            "colorscale": [
             [
              0,
              "#0d0887"
             ],
             [
              0.1111111111111111,
              "#46039f"
             ],
             [
              0.2222222222222222,
              "#7201a8"
             ],
             [
              0.3333333333333333,
              "#9c179e"
             ],
             [
              0.4444444444444444,
              "#bd3786"
             ],
             [
              0.5555555555555556,
              "#d8576b"
             ],
             [
              0.6666666666666666,
              "#ed7953"
             ],
             [
              0.7777777777777778,
              "#fb9f3a"
             ],
             [
              0.8888888888888888,
              "#fdca26"
             ],
             [
              1,
              "#f0f921"
             ]
            ],
            "type": "histogram2dcontour"
           }
          ],
          "mesh3d": [
           {
            "colorbar": {
             "outlinewidth": 0,
             "ticks": ""
            },
            "type": "mesh3d"
           }
          ],
          "parcoords": [
           {
            "line": {
             "colorbar": {
              "outlinewidth": 0,
              "ticks": ""
             }
            },
            "type": "parcoords"
           }
          ],
          "scatter": [
           {
            "marker": {
             "colorbar": {
              "outlinewidth": 0,
              "ticks": ""
             }
            },
            "type": "scatter"
           }
          ],
          "scatter3d": [
           {
            "line": {
             "colorbar": {
              "outlinewidth": 0,
              "ticks": ""
             }
            },
            "marker": {
             "colorbar": {
              "outlinewidth": 0,
              "ticks": ""
             }
            },
            "type": "scatter3d"
           }
          ],
          "scattercarpet": [
           {
            "marker": {
             "colorbar": {
              "outlinewidth": 0,
              "ticks": ""
             }
            },
            "type": "scattercarpet"
           }
          ],
          "scattergeo": [
           {
            "marker": {
             "colorbar": {
              "outlinewidth": 0,
              "ticks": ""
             }
            },
            "type": "scattergeo"
           }
          ],
          "scattergl": [
           {
            "marker": {
             "colorbar": {
              "outlinewidth": 0,
              "ticks": ""
             }
            },
            "type": "scattergl"
           }
          ],
          "scattermapbox": [
           {
            "marker": {
             "colorbar": {
              "outlinewidth": 0,
              "ticks": ""
             }
            },
            "type": "scattermapbox"
           }
          ],
          "scatterpolar": [
           {
            "marker": {
             "colorbar": {
              "outlinewidth": 0,
              "ticks": ""
             }
            },
            "type": "scatterpolar"
           }
          ],
          "scatterpolargl": [
           {
            "marker": {
             "colorbar": {
              "outlinewidth": 0,
              "ticks": ""
             }
            },
            "type": "scatterpolargl"
           }
          ],
          "scatterternary": [
           {
            "marker": {
             "colorbar": {
              "outlinewidth": 0,
              "ticks": ""
             }
            },
            "type": "scatterternary"
           }
          ],
          "surface": [
           {
            "colorbar": {
             "outlinewidth": 0,
             "ticks": ""
            },
            "colorscale": [
             [
              0,
              "#0d0887"
             ],
             [
              0.1111111111111111,
              "#46039f"
             ],
             [
              0.2222222222222222,
              "#7201a8"
             ],
             [
              0.3333333333333333,
              "#9c179e"
             ],
             [
              0.4444444444444444,
              "#bd3786"
             ],
             [
              0.5555555555555556,
              "#d8576b"
             ],
             [
              0.6666666666666666,
              "#ed7953"
             ],
             [
              0.7777777777777778,
              "#fb9f3a"
             ],
             [
              0.8888888888888888,
              "#fdca26"
             ],
             [
              1,
              "#f0f921"
             ]
            ],
            "type": "surface"
           }
          ],
          "table": [
           {
            "cells": {
             "fill": {
              "color": "#EBF0F8"
             },
             "line": {
              "color": "white"
             }
            },
            "header": {
             "fill": {
              "color": "#C8D4E3"
             },
             "line": {
              "color": "white"
             }
            },
            "type": "table"
           }
          ]
         },
         "layout": {
          "annotationdefaults": {
           "arrowcolor": "#2a3f5f",
           "arrowhead": 0,
           "arrowwidth": 1
          },
          "colorscale": {
           "diverging": [
            [
             0,
             "#8e0152"
            ],
            [
             0.1,
             "#c51b7d"
            ],
            [
             0.2,
             "#de77ae"
            ],
            [
             0.3,
             "#f1b6da"
            ],
            [
             0.4,
             "#fde0ef"
            ],
            [
             0.5,
             "#f7f7f7"
            ],
            [
             0.6,
             "#e6f5d0"
            ],
            [
             0.7,
             "#b8e186"
            ],
            [
             0.8,
             "#7fbc41"
            ],
            [
             0.9,
             "#4d9221"
            ],
            [
             1,
             "#276419"
            ]
           ],
           "sequential": [
            [
             0,
             "#0d0887"
            ],
            [
             0.1111111111111111,
             "#46039f"
            ],
            [
             0.2222222222222222,
             "#7201a8"
            ],
            [
             0.3333333333333333,
             "#9c179e"
            ],
            [
             0.4444444444444444,
             "#bd3786"
            ],
            [
             0.5555555555555556,
             "#d8576b"
            ],
            [
             0.6666666666666666,
             "#ed7953"
            ],
            [
             0.7777777777777778,
             "#fb9f3a"
            ],
            [
             0.8888888888888888,
             "#fdca26"
            ],
            [
             1,
             "#f0f921"
            ]
           ],
           "sequentialminus": [
            [
             0,
             "#0d0887"
            ],
            [
             0.1111111111111111,
             "#46039f"
            ],
            [
             0.2222222222222222,
             "#7201a8"
            ],
            [
             0.3333333333333333,
             "#9c179e"
            ],
            [
             0.4444444444444444,
             "#bd3786"
            ],
            [
             0.5555555555555556,
             "#d8576b"
            ],
            [
             0.6666666666666666,
             "#ed7953"
            ],
            [
             0.7777777777777778,
             "#fb9f3a"
            ],
            [
             0.8888888888888888,
             "#fdca26"
            ],
            [
             1,
             "#f0f921"
            ]
           ]
          },
          "colorway": [
           "#636efa",
           "#EF553B",
           "#00cc96",
           "#ab63fa",
           "#FFA15A",
           "#19d3f3",
           "#FF6692",
           "#B6E880",
           "#FF97FF",
           "#FECB52"
          ],
          "font": {
           "color": "#2a3f5f"
          },
          "geo": {
           "bgcolor": "white",
           "lakecolor": "white",
           "landcolor": "#E5ECF6",
           "showlakes": true,
           "showland": true,
           "subunitcolor": "white"
          },
          "hoverlabel": {
           "align": "left"
          },
          "hovermode": "closest",
          "mapbox": {
           "style": "light"
          },
          "paper_bgcolor": "white",
          "plot_bgcolor": "#E5ECF6",
          "polar": {
           "angularaxis": {
            "gridcolor": "white",
            "linecolor": "white",
            "ticks": ""
           },
           "bgcolor": "#E5ECF6",
           "radialaxis": {
            "gridcolor": "white",
            "linecolor": "white",
            "ticks": ""
           }
          },
          "scene": {
           "xaxis": {
            "backgroundcolor": "#E5ECF6",
            "gridcolor": "white",
            "gridwidth": 2,
            "linecolor": "white",
            "showbackground": true,
            "ticks": "",
            "zerolinecolor": "white"
           },
           "yaxis": {
            "backgroundcolor": "#E5ECF6",
            "gridcolor": "white",
            "gridwidth": 2,
            "linecolor": "white",
            "showbackground": true,
            "ticks": "",
            "zerolinecolor": "white"
           },
           "zaxis": {
            "backgroundcolor": "#E5ECF6",
            "gridcolor": "white",
            "gridwidth": 2,
            "linecolor": "white",
            "showbackground": true,
            "ticks": "",
            "zerolinecolor": "white"
           }
          },
          "shapedefaults": {
           "line": {
            "color": "#2a3f5f"
           }
          },
          "ternary": {
           "aaxis": {
            "gridcolor": "white",
            "linecolor": "white",
            "ticks": ""
           },
           "baxis": {
            "gridcolor": "white",
            "linecolor": "white",
            "ticks": ""
           },
           "bgcolor": "#E5ECF6",
           "caxis": {
            "gridcolor": "white",
            "linecolor": "white",
            "ticks": ""
           }
          },
          "title": {
           "x": 0.05
          },
          "xaxis": {
           "automargin": true,
           "gridcolor": "white",
           "linecolor": "white",
           "ticks": "",
           "zerolinecolor": "white",
           "zerolinewidth": 2
          },
          "yaxis": {
           "automargin": true,
           "gridcolor": "white",
           "linecolor": "white",
           "ticks": "",
           "zerolinecolor": "white",
           "zerolinewidth": 2
          }
         }
        },
        "title": {
         "text": "sgsapp:abtest:8"
        }
       }
      },
      "text/html": [
       "<div>\n",
       "        \n",
       "        \n",
       "            <div id=\"019c7c70-4911-4287-99b8-1c84005f7dd5\" class=\"plotly-graph-div\" style=\"height:525px; width:100%;\"></div>\n",
       "            <script type=\"text/javascript\">\n",
       "                require([\"plotly\"], function(Plotly) {\n",
       "                    window.PLOTLYENV=window.PLOTLYENV || {};\n",
       "                    \n",
       "                if (document.getElementById(\"019c7c70-4911-4287-99b8-1c84005f7dd5\")) {\n",
       "                    Plotly.newPlot(\n",
       "                        '019c7c70-4911-4287-99b8-1c84005f7dd5',\n",
       "                        [{\"name\": \"click\", \"type\": \"bar\", \"x\": [\"total_quality_recommend\", \"total_quality_relative\", \"total_quality_total\"], \"y\": [-0.07189102689200269, -0.04023038840590405, -0.05248911210460781]}, {\"name\": \"click_user\", \"type\": \"bar\", \"x\": [\"total_quality_recommend\", \"total_quality_relative\", \"total_quality_total\"], \"y\": [-0.02259623706741593, -0.035063276442586784, -0.022479465239231566]}, {\"name\": \"duration\", \"type\": \"bar\", \"x\": [\"total_quality_recommend\", \"total_quality_relative\", \"total_quality_total\"], \"y\": [-0.010061657194936218, -0.009890926276602824, -0.010954917734107896]}, {\"name\": \"ctr\", \"type\": \"bar\", \"x\": [\"total_quality_recommend\", \"total_quality_relative\", \"total_quality_total\"], \"y\": [-0.058162612249300895, 0.03656415160717699, -0.01838211517859164]}, {\"name\": \"read_ratio\", \"type\": \"bar\", \"x\": [\"total_quality_recommend\", \"total_quality_relative\", \"total_quality_total\"], \"y\": [-0.022889130278009123, -0.01476525600283474, -0.023113168674824634]}, {\"name\": \"dur1\", \"type\": \"bar\", \"x\": [\"total_quality_recommend\", \"total_quality_relative\", \"total_quality_total\"], \"y\": [-0.010387119194364696, 0.010963120723051, -0.011635194934569085]}, {\"name\": \"dur2\", \"type\": \"bar\", \"x\": [\"total_quality_recommend\", \"total_quality_relative\", \"total_quality_total\"], \"y\": [0.01277730084338273, 0.02600047948234661, 0.011742894710093824]}, {\"name\": \"doc_dur\", \"type\": \"bar\", \"x\": [\"total_quality_recommend\", \"total_quality_relative\", \"total_quality_total\"], \"y\": [0.06655849784716097, 0.03127227794005178, 0.043675708871522265]}, {\"name\": \"refresh\", \"type\": \"bar\", \"x\": [\"total_quality_recommend\", \"total_quality_relative\", \"total_quality_total\"], \"y\": [-0.012395672114168331, 0.020968825446402554, -0.013451879232436743]}, {\"name\": \"refresh2\", \"type\": \"bar\", \"x\": [\"total_quality_recommend\", \"total_quality_relative\", \"total_quality_total\"], \"y\": [0.010724637923757678, 0.03624046815549343, 0.009880309405633418]}, {\"name\": \"refresh_times\", \"type\": \"bar\", \"x\": [\"total_quality_recommend\", \"total_quality_relative\", \"total_quality_total\"], \"y\": [-0.0120943770918816, 0.0, -0.012789741940888973]}, {\"name\": \"praise\", \"type\": \"bar\", \"x\": [\"total_quality_recommend\", \"total_quality_relative\", \"total_quality_total\"], \"y\": [-0.06111111111111111, -0.11979695431472076, -0.0822932092236091]}, {\"name\": \"favor\", \"type\": \"bar\", \"x\": [\"total_quality_recommend\", \"total_quality_relative\", \"total_quality_total\"], \"y\": [-0.1145312057407233, -0.38847117794486213, -0.14618467189848053]}],\n",
       "                        {\"barmode\": \"group\", \"template\": {\"data\": {\"bar\": [{\"error_x\": {\"color\": \"#2a3f5f\"}, \"error_y\": {\"color\": \"#2a3f5f\"}, \"marker\": {\"line\": {\"color\": \"#E5ECF6\", \"width\": 0.5}}, \"type\": \"bar\"}], \"barpolar\": [{\"marker\": {\"line\": {\"color\": \"#E5ECF6\", \"width\": 0.5}}, \"type\": \"barpolar\"}], \"carpet\": [{\"aaxis\": {\"endlinecolor\": \"#2a3f5f\", \"gridcolor\": \"white\", \"linecolor\": \"white\", \"minorgridcolor\": \"white\", \"startlinecolor\": \"#2a3f5f\"}, \"baxis\": {\"endlinecolor\": \"#2a3f5f\", \"gridcolor\": \"white\", \"linecolor\": \"white\", \"minorgridcolor\": \"white\", \"startlinecolor\": \"#2a3f5f\"}, \"type\": \"carpet\"}], \"choropleth\": [{\"colorbar\": {\"outlinewidth\": 0, \"ticks\": \"\"}, \"type\": \"choropleth\"}], \"contour\": [{\"colorbar\": {\"outlinewidth\": 0, \"ticks\": \"\"}, \"colorscale\": [[0.0, \"#0d0887\"], [0.1111111111111111, \"#46039f\"], [0.2222222222222222, \"#7201a8\"], [0.3333333333333333, \"#9c179e\"], [0.4444444444444444, \"#bd3786\"], [0.5555555555555556, \"#d8576b\"], [0.6666666666666666, \"#ed7953\"], [0.7777777777777778, \"#fb9f3a\"], [0.8888888888888888, \"#fdca26\"], [1.0, \"#f0f921\"]], \"type\": \"contour\"}], \"contourcarpet\": [{\"colorbar\": {\"outlinewidth\": 0, \"ticks\": \"\"}, \"type\": \"contourcarpet\"}], \"heatmap\": [{\"colorbar\": {\"outlinewidth\": 0, \"ticks\": \"\"}, \"colorscale\": [[0.0, \"#0d0887\"], [0.1111111111111111, \"#46039f\"], [0.2222222222222222, \"#7201a8\"], [0.3333333333333333, \"#9c179e\"], [0.4444444444444444, \"#bd3786\"], [0.5555555555555556, \"#d8576b\"], [0.6666666666666666, \"#ed7953\"], [0.7777777777777778, \"#fb9f3a\"], [0.8888888888888888, \"#fdca26\"], [1.0, \"#f0f921\"]], \"type\": \"heatmap\"}], \"heatmapgl\": [{\"colorbar\": {\"outlinewidth\": 0, \"ticks\": \"\"}, \"colorscale\": [[0.0, \"#0d0887\"], [0.1111111111111111, \"#46039f\"], [0.2222222222222222, \"#7201a8\"], [0.3333333333333333, \"#9c179e\"], [0.4444444444444444, \"#bd3786\"], [0.5555555555555556, \"#d8576b\"], [0.6666666666666666, \"#ed7953\"], [0.7777777777777778, \"#fb9f3a\"], [0.8888888888888888, \"#fdca26\"], [1.0, \"#f0f921\"]], \"type\": \"heatmapgl\"}], \"histogram\": [{\"marker\": {\"colorbar\": {\"outlinewidth\": 0, \"ticks\": \"\"}}, \"type\": \"histogram\"}], \"histogram2d\": [{\"colorbar\": {\"outlinewidth\": 0, \"ticks\": \"\"}, \"colorscale\": [[0.0, \"#0d0887\"], [0.1111111111111111, \"#46039f\"], [0.2222222222222222, \"#7201a8\"], [0.3333333333333333, \"#9c179e\"], [0.4444444444444444, \"#bd3786\"], [0.5555555555555556, \"#d8576b\"], [0.6666666666666666, \"#ed7953\"], [0.7777777777777778, \"#fb9f3a\"], [0.8888888888888888, \"#fdca26\"], [1.0, \"#f0f921\"]], \"type\": \"histogram2d\"}], \"histogram2dcontour\": [{\"colorbar\": {\"outlinewidth\": 0, \"ticks\": \"\"}, \"colorscale\": [[0.0, \"#0d0887\"], [0.1111111111111111, \"#46039f\"], [0.2222222222222222, \"#7201a8\"], [0.3333333333333333, \"#9c179e\"], [0.4444444444444444, \"#bd3786\"], [0.5555555555555556, \"#d8576b\"], [0.6666666666666666, \"#ed7953\"], [0.7777777777777778, \"#fb9f3a\"], [0.8888888888888888, \"#fdca26\"], [1.0, \"#f0f921\"]], \"type\": \"histogram2dcontour\"}], \"mesh3d\": [{\"colorbar\": {\"outlinewidth\": 0, \"ticks\": \"\"}, \"type\": \"mesh3d\"}], \"parcoords\": [{\"line\": {\"colorbar\": {\"outlinewidth\": 0, \"ticks\": \"\"}}, \"type\": \"parcoords\"}], \"scatter\": [{\"marker\": {\"colorbar\": {\"outlinewidth\": 0, \"ticks\": \"\"}}, \"type\": \"scatter\"}], \"scatter3d\": [{\"line\": {\"colorbar\": {\"outlinewidth\": 0, \"ticks\": \"\"}}, \"marker\": {\"colorbar\": {\"outlinewidth\": 0, \"ticks\": \"\"}}, \"type\": \"scatter3d\"}], \"scattercarpet\": [{\"marker\": {\"colorbar\": {\"outlinewidth\": 0, \"ticks\": \"\"}}, \"type\": \"scattercarpet\"}], \"scattergeo\": [{\"marker\": {\"colorbar\": {\"outlinewidth\": 0, \"ticks\": \"\"}}, \"type\": \"scattergeo\"}], \"scattergl\": [{\"marker\": {\"colorbar\": {\"outlinewidth\": 0, \"ticks\": \"\"}}, \"type\": \"scattergl\"}], \"scattermapbox\": [{\"marker\": {\"colorbar\": {\"outlinewidth\": 0, \"ticks\": \"\"}}, \"type\": \"scattermapbox\"}], \"scatterpolar\": [{\"marker\": {\"colorbar\": {\"outlinewidth\": 0, \"ticks\": \"\"}}, \"type\": \"scatterpolar\"}], \"scatterpolargl\": [{\"marker\": {\"colorbar\": {\"outlinewidth\": 0, \"ticks\": \"\"}}, \"type\": \"scatterpolargl\"}], \"scatterternary\": [{\"marker\": {\"colorbar\": {\"outlinewidth\": 0, \"ticks\": \"\"}}, \"type\": \"scatterternary\"}], \"surface\": [{\"colorbar\": {\"outlinewidth\": 0, \"ticks\": \"\"}, \"colorscale\": [[0.0, \"#0d0887\"], [0.1111111111111111, \"#46039f\"], [0.2222222222222222, \"#7201a8\"], [0.3333333333333333, \"#9c179e\"], [0.4444444444444444, \"#bd3786\"], [0.5555555555555556, \"#d8576b\"], [0.6666666666666666, \"#ed7953\"], [0.7777777777777778, \"#fb9f3a\"], [0.8888888888888888, \"#fdca26\"], [1.0, \"#f0f921\"]], \"type\": \"surface\"}], \"table\": [{\"cells\": {\"fill\": {\"color\": \"#EBF0F8\"}, \"line\": {\"color\": \"white\"}}, \"header\": {\"fill\": {\"color\": \"#C8D4E3\"}, \"line\": {\"color\": \"white\"}}, \"type\": \"table\"}]}, \"layout\": {\"annotationdefaults\": {\"arrowcolor\": \"#2a3f5f\", \"arrowhead\": 0, \"arrowwidth\": 1}, \"colorscale\": {\"diverging\": [[0, \"#8e0152\"], [0.1, \"#c51b7d\"], [0.2, \"#de77ae\"], [0.3, \"#f1b6da\"], [0.4, \"#fde0ef\"], [0.5, \"#f7f7f7\"], [0.6, \"#e6f5d0\"], [0.7, \"#b8e186\"], [0.8, \"#7fbc41\"], [0.9, \"#4d9221\"], [1, \"#276419\"]], \"sequential\": [[0.0, \"#0d0887\"], [0.1111111111111111, \"#46039f\"], [0.2222222222222222, \"#7201a8\"], [0.3333333333333333, \"#9c179e\"], [0.4444444444444444, \"#bd3786\"], [0.5555555555555556, \"#d8576b\"], [0.6666666666666666, \"#ed7953\"], [0.7777777777777778, \"#fb9f3a\"], [0.8888888888888888, \"#fdca26\"], [1.0, \"#f0f921\"]], \"sequentialminus\": [[0.0, \"#0d0887\"], [0.1111111111111111, \"#46039f\"], [0.2222222222222222, \"#7201a8\"], [0.3333333333333333, \"#9c179e\"], [0.4444444444444444, \"#bd3786\"], [0.5555555555555556, \"#d8576b\"], [0.6666666666666666, \"#ed7953\"], [0.7777777777777778, \"#fb9f3a\"], [0.8888888888888888, \"#fdca26\"], [1.0, \"#f0f921\"]]}, \"colorway\": [\"#636efa\", \"#EF553B\", \"#00cc96\", \"#ab63fa\", \"#FFA15A\", \"#19d3f3\", \"#FF6692\", \"#B6E880\", \"#FF97FF\", \"#FECB52\"], \"font\": {\"color\": \"#2a3f5f\"}, \"geo\": {\"bgcolor\": \"white\", \"lakecolor\": \"white\", \"landcolor\": \"#E5ECF6\", \"showlakes\": true, \"showland\": true, \"subunitcolor\": \"white\"}, \"hoverlabel\": {\"align\": \"left\"}, \"hovermode\": \"closest\", \"mapbox\": {\"style\": \"light\"}, \"paper_bgcolor\": \"white\", \"plot_bgcolor\": \"#E5ECF6\", \"polar\": {\"angularaxis\": {\"gridcolor\": \"white\", \"linecolor\": \"white\", \"ticks\": \"\"}, \"bgcolor\": \"#E5ECF6\", \"radialaxis\": {\"gridcolor\": \"white\", \"linecolor\": \"white\", \"ticks\": \"\"}}, \"scene\": {\"xaxis\": {\"backgroundcolor\": \"#E5ECF6\", \"gridcolor\": \"white\", \"gridwidth\": 2, \"linecolor\": \"white\", \"showbackground\": true, \"ticks\": \"\", \"zerolinecolor\": \"white\"}, \"yaxis\": {\"backgroundcolor\": \"#E5ECF6\", \"gridcolor\": \"white\", \"gridwidth\": 2, \"linecolor\": \"white\", \"showbackground\": true, \"ticks\": \"\", \"zerolinecolor\": \"white\"}, \"zaxis\": {\"backgroundcolor\": \"#E5ECF6\", \"gridcolor\": \"white\", \"gridwidth\": 2, \"linecolor\": \"white\", \"showbackground\": true, \"ticks\": \"\", \"zerolinecolor\": \"white\"}}, \"shapedefaults\": {\"line\": {\"color\": \"#2a3f5f\"}}, \"ternary\": {\"aaxis\": {\"gridcolor\": \"white\", \"linecolor\": \"white\", \"ticks\": \"\"}, \"baxis\": {\"gridcolor\": \"white\", \"linecolor\": \"white\", \"ticks\": \"\"}, \"bgcolor\": \"#E5ECF6\", \"caxis\": {\"gridcolor\": \"white\", \"linecolor\": \"white\", \"ticks\": \"\"}}, \"title\": {\"x\": 0.05}, \"xaxis\": {\"automargin\": true, \"gridcolor\": \"white\", \"linecolor\": \"white\", \"ticks\": \"\", \"zerolinecolor\": \"white\", \"zerolinewidth\": 2}, \"yaxis\": {\"automargin\": true, \"gridcolor\": \"white\", \"linecolor\": \"white\", \"ticks\": \"\", \"zerolinecolor\": \"white\", \"zerolinewidth\": 2}}}, \"title\": {\"text\": \"sgsapp:abtest:8\"}},\n",
       "                        {\"responsive\": true}\n",
       "                    ).then(function(){\n",
       "                            \n",
       "var gd = document.getElementById('019c7c70-4911-4287-99b8-1c84005f7dd5');\n",
       "var x = new MutationObserver(function (mutations, observer) {{\n",
       "        var display = window.getComputedStyle(gd).display;\n",
       "        if (!display || display === 'none') {{\n",
       "            console.log([gd, 'removed!']);\n",
       "            Plotly.purge(gd);\n",
       "            observer.disconnect();\n",
       "        }}\n",
       "}});\n",
       "\n",
       "// Listen for the removal of the full notebook cells\n",
       "var notebookContainer = gd.closest('#notebook-container');\n",
       "if (notebookContainer) {{\n",
       "    x.observe(notebookContainer, {childList: true});\n",
       "}}\n",
       "\n",
       "// Listen for the clearing of the current output cell\n",
       "var outputEl = gd.closest('.output');\n",
       "if (outputEl) {{\n",
       "    x.observe(outputEl, {childList: true});\n",
       "}}\n",
       "\n",
       "                        })\n",
       "                };\n",
       "                });\n",
       "            </script>\n",
       "        </div>"
      ]
     },
     "metadata": {},
     "output_type": "display_data"
    }
   ],
   "source": [
    "show('total_quality')"
   ]
  },
  {
   "cell_type": "code",
   "execution_count": 13,
   "metadata": {},
   "outputs": [
    {
     "data": {
      "application/vnd.plotly.v1+json": {
       "config": {
        "plotlyServerURL": "https://plot.ly"
       },
       "data": [
        {
         "name": "click",
         "type": "bar",
         "x": [
          "total_total_recommend",
          "total_total_relative",
          "total_total_total",
          "tuwen_total_total",
          "video_total_total"
         ],
         "y": [
          -0.035723885784906866,
          -0.00019955569511411356,
          -0.015816589639947098,
          -0.03264149407299523,
          -0.0016071597087275243
         ]
        },
        {
         "name": "click_user",
         "type": "bar",
         "x": [
          "total_total_recommend",
          "total_total_relative",
          "total_total_total",
          "tuwen_total_total",
          "video_total_total"
         ],
         "y": [
          -0.01796300206265943,
          -0.019443374951872785,
          -0.017887348435746298,
          -0.020161501756593782,
          -0.026145423110172
         ]
        },
        {
         "name": "duration",
         "type": "bar",
         "x": [
          "total_total_recommend",
          "total_total_relative",
          "total_total_total",
          "tuwen_total_total",
          "video_total_total"
         ],
         "y": [
          -0.06990907627000999,
          0.02726403779569218,
          -0.0410249783379605,
          -0.08668952086414704,
          0.011272955105425348
         ]
        },
        {
         "name": "ctr",
         "type": "bar",
         "x": [
          "total_total_recommend",
          "total_total_relative",
          "total_total_total",
          "tuwen_total_total",
          "video_total_total"
         ],
         "y": [
          -0.024744462209558754,
          0.030843167080259207,
          0.001024857382141339,
          -0.030540007796854184,
          0.02599772744816655
         ]
        },
        {
         "name": "read_ratio",
         "type": "bar",
         "x": [
          "total_total_recommend",
          "total_total_relative",
          "total_total_total",
          "tuwen_total_total",
          "video_total_total"
         ],
         "y": [
          -0.0143251461453565,
          -0.005998590296684731,
          -0.01445282928315473,
          -0.01639948249487398,
          -0.022619668104546364
         ]
        },
        {
         "name": "dur1",
         "type": "bar",
         "x": [
          "total_total_recommend",
          "total_total_relative",
          "total_total_total",
          "tuwen_total_total",
          "video_total_total"
         ],
         "y": [
          -0.06646698007446722,
          0.041393683009739925,
          -0.03767656081719216,
          -0.08317225461709013,
          0.014936168455225416
         ]
        },
        {
         "name": "dur2",
         "type": "bar",
         "x": [
          "total_total_recommend",
          "total_total_relative",
          "total_total_total",
          "tuwen_total_total",
          "video_total_total"
         ],
         "y": [
          -0.052901098381219265,
          0.04764178877105823,
          -0.02356681479509691,
          -0.06788056123157862,
          0.03842554847781437
         ]
        },
        {
         "name": "doc_dur",
         "type": "bar",
         "x": [
          "total_total_recommend",
          "total_total_relative",
          "total_total_total",
          "tuwen_total_total",
          "video_total_total"
         ],
         "y": [
          -0.03553428525763196,
          0.027299862657398297,
          -0.025711733129993405,
          -0.05593343998102574,
          0.012472872301065505
         ]
        },
        {
         "name": "refresh",
         "type": "bar",
         "x": [
          "total_total_recommend",
          "total_total_relative",
          "total_total_total",
          "tuwen_total_total",
          "video_total_total"
         ],
         "y": [
          -0.0032592332939229527,
          0.01368436630398288,
          -0.004945618003085777,
          -0.01044870527693423,
          0.04506610603948164
         ]
        },
        {
         "name": "refresh2",
         "type": "bar",
         "x": [
          "total_total_recommend",
          "total_total_relative",
          "total_total_total",
          "tuwen_total_total",
          "video_total_total"
         ],
         "y": [
          0.011215381439504027,
          0.01981823847032363,
          0.009631932784687826,
          0.006037213261479401,
          0.06925730786136518
         ]
        },
        {
         "name": "refresh_times",
         "type": "bar",
         "x": [
          "total_total_recommend",
          "total_total_relative",
          "total_total_total",
          "tuwen_total_total",
          "video_total_total"
         ],
         "y": [
          -0.00691841835348382,
          0,
          -0.008388043272479889,
          -0.014214111982018563,
          0.04132391659377174
         ]
        },
        {
         "name": "praise",
         "type": "bar",
         "x": [
          "total_total_recommend",
          "total_total_relative",
          "total_total_total",
          "tuwen_total_total",
          "video_total_total"
         ],
         "y": [
          -0.16999201915403034,
          -0.15320910973084886,
          -0.15825114088031803,
          -0.12978083369144816,
          -0.15365239294710334
         ]
        },
        {
         "name": "favor",
         "type": "bar",
         "x": [
          "total_total_recommend",
          "total_total_relative",
          "total_total_total",
          "tuwen_total_total",
          "video_total_total"
         ],
         "y": [
          -0.14619008449861667,
          -0.18473895582329317,
          -0.13453536754507628,
          -0.12778627182747238,
          -0.15614236509758897
         ]
        }
       ],
       "layout": {
        "barmode": "group",
        "template": {
         "data": {
          "bar": [
           {
            "error_x": {
             "color": "#2a3f5f"
            },
            "error_y": {
             "color": "#2a3f5f"
            },
            "marker": {
             "line": {
              "color": "#E5ECF6",
              "width": 0.5
             }
            },
            "type": "bar"
           }
          ],
          "barpolar": [
           {
            "marker": {
             "line": {
              "color": "#E5ECF6",
              "width": 0.5
             }
            },
            "type": "barpolar"
           }
          ],
          "carpet": [
           {
            "aaxis": {
             "endlinecolor": "#2a3f5f",
             "gridcolor": "white",
             "linecolor": "white",
             "minorgridcolor": "white",
             "startlinecolor": "#2a3f5f"
            },
            "baxis": {
             "endlinecolor": "#2a3f5f",
             "gridcolor": "white",
             "linecolor": "white",
             "minorgridcolor": "white",
             "startlinecolor": "#2a3f5f"
            },
            "type": "carpet"
           }
          ],
          "choropleth": [
           {
            "colorbar": {
             "outlinewidth": 0,
             "ticks": ""
            },
            "type": "choropleth"
           }
          ],
          "contour": [
           {
            "colorbar": {
             "outlinewidth": 0,
             "ticks": ""
            },
            "colorscale": [
             [
              0,
              "#0d0887"
             ],
             [
              0.1111111111111111,
              "#46039f"
             ],
             [
              0.2222222222222222,
              "#7201a8"
             ],
             [
              0.3333333333333333,
              "#9c179e"
             ],
             [
              0.4444444444444444,
              "#bd3786"
             ],
             [
              0.5555555555555556,
              "#d8576b"
             ],
             [
              0.6666666666666666,
              "#ed7953"
             ],
             [
              0.7777777777777778,
              "#fb9f3a"
             ],
             [
              0.8888888888888888,
              "#fdca26"
             ],
             [
              1,
              "#f0f921"
             ]
            ],
            "type": "contour"
           }
          ],
          "contourcarpet": [
           {
            "colorbar": {
             "outlinewidth": 0,
             "ticks": ""
            },
            "type": "contourcarpet"
           }
          ],
          "heatmap": [
           {
            "colorbar": {
             "outlinewidth": 0,
             "ticks": ""
            },
            "colorscale": [
             [
              0,
              "#0d0887"
             ],
             [
              0.1111111111111111,
              "#46039f"
             ],
             [
              0.2222222222222222,
              "#7201a8"
             ],
             [
              0.3333333333333333,
              "#9c179e"
             ],
             [
              0.4444444444444444,
              "#bd3786"
             ],
             [
              0.5555555555555556,
              "#d8576b"
             ],
             [
              0.6666666666666666,
              "#ed7953"
             ],
             [
              0.7777777777777778,
              "#fb9f3a"
             ],
             [
              0.8888888888888888,
              "#fdca26"
             ],
             [
              1,
              "#f0f921"
             ]
            ],
            "type": "heatmap"
           }
          ],
          "heatmapgl": [
           {
            "colorbar": {
             "outlinewidth": 0,
             "ticks": ""
            },
            "colorscale": [
             [
              0,
              "#0d0887"
             ],
             [
              0.1111111111111111,
              "#46039f"
             ],
             [
              0.2222222222222222,
              "#7201a8"
             ],
             [
              0.3333333333333333,
              "#9c179e"
             ],
             [
              0.4444444444444444,
              "#bd3786"
             ],
             [
              0.5555555555555556,
              "#d8576b"
             ],
             [
              0.6666666666666666,
              "#ed7953"
             ],
             [
              0.7777777777777778,
              "#fb9f3a"
             ],
             [
              0.8888888888888888,
              "#fdca26"
             ],
             [
              1,
              "#f0f921"
             ]
            ],
            "type": "heatmapgl"
           }
          ],
          "histogram": [
           {
            "marker": {
             "colorbar": {
              "outlinewidth": 0,
              "ticks": ""
             }
            },
            "type": "histogram"
           }
          ],
          "histogram2d": [
           {
            "colorbar": {
             "outlinewidth": 0,
             "ticks": ""
            },
            "colorscale": [
             [
              0,
              "#0d0887"
             ],
             [
              0.1111111111111111,
              "#46039f"
             ],
             [
              0.2222222222222222,
              "#7201a8"
             ],
             [
              0.3333333333333333,
              "#9c179e"
             ],
             [
              0.4444444444444444,
              "#bd3786"
             ],
             [
              0.5555555555555556,
              "#d8576b"
             ],
             [
              0.6666666666666666,
              "#ed7953"
             ],
             [
              0.7777777777777778,
              "#fb9f3a"
             ],
             [
              0.8888888888888888,
              "#fdca26"
             ],
             [
              1,
              "#f0f921"
             ]
            ],
            "type": "histogram2d"
           }
          ],
          "histogram2dcontour": [
           {
            "colorbar": {
             "outlinewidth": 0,
             "ticks": ""
            },
            "colorscale": [
             [
              0,
              "#0d0887"
             ],
             [
              0.1111111111111111,
              "#46039f"
             ],
             [
              0.2222222222222222,
              "#7201a8"
             ],
             [
              0.3333333333333333,
              "#9c179e"
             ],
             [
              0.4444444444444444,
              "#bd3786"
             ],
             [
              0.5555555555555556,
              "#d8576b"
             ],
             [
              0.6666666666666666,
              "#ed7953"
             ],
             [
              0.7777777777777778,
              "#fb9f3a"
             ],
             [
              0.8888888888888888,
              "#fdca26"
             ],
             [
              1,
              "#f0f921"
             ]
            ],
            "type": "histogram2dcontour"
           }
          ],
          "mesh3d": [
           {
            "colorbar": {
             "outlinewidth": 0,
             "ticks": ""
            },
            "type": "mesh3d"
           }
          ],
          "parcoords": [
           {
            "line": {
             "colorbar": {
              "outlinewidth": 0,
              "ticks": ""
             }
            },
            "type": "parcoords"
           }
          ],
          "scatter": [
           {
            "marker": {
             "colorbar": {
              "outlinewidth": 0,
              "ticks": ""
             }
            },
            "type": "scatter"
           }
          ],
          "scatter3d": [
           {
            "line": {
             "colorbar": {
              "outlinewidth": 0,
              "ticks": ""
             }
            },
            "marker": {
             "colorbar": {
              "outlinewidth": 0,
              "ticks": ""
             }
            },
            "type": "scatter3d"
           }
          ],
          "scattercarpet": [
           {
            "marker": {
             "colorbar": {
              "outlinewidth": 0,
              "ticks": ""
             }
            },
            "type": "scattercarpet"
           }
          ],
          "scattergeo": [
           {
            "marker": {
             "colorbar": {
              "outlinewidth": 0,
              "ticks": ""
             }
            },
            "type": "scattergeo"
           }
          ],
          "scattergl": [
           {
            "marker": {
             "colorbar": {
              "outlinewidth": 0,
              "ticks": ""
             }
            },
            "type": "scattergl"
           }
          ],
          "scattermapbox": [
           {
            "marker": {
             "colorbar": {
              "outlinewidth": 0,
              "ticks": ""
             }
            },
            "type": "scattermapbox"
           }
          ],
          "scatterpolar": [
           {
            "marker": {
             "colorbar": {
              "outlinewidth": 0,
              "ticks": ""
             }
            },
            "type": "scatterpolar"
           }
          ],
          "scatterpolargl": [
           {
            "marker": {
             "colorbar": {
              "outlinewidth": 0,
              "ticks": ""
             }
            },
            "type": "scatterpolargl"
           }
          ],
          "scatterternary": [
           {
            "marker": {
             "colorbar": {
              "outlinewidth": 0,
              "ticks": ""
             }
            },
            "type": "scatterternary"
           }
          ],
          "surface": [
           {
            "colorbar": {
             "outlinewidth": 0,
             "ticks": ""
            },
            "colorscale": [
             [
              0,
              "#0d0887"
             ],
             [
              0.1111111111111111,
              "#46039f"
             ],
             [
              0.2222222222222222,
              "#7201a8"
             ],
             [
              0.3333333333333333,
              "#9c179e"
             ],
             [
              0.4444444444444444,
              "#bd3786"
             ],
             [
              0.5555555555555556,
              "#d8576b"
             ],
             [
              0.6666666666666666,
              "#ed7953"
             ],
             [
              0.7777777777777778,
              "#fb9f3a"
             ],
             [
              0.8888888888888888,
              "#fdca26"
             ],
             [
              1,
              "#f0f921"
             ]
            ],
            "type": "surface"
           }
          ],
          "table": [
           {
            "cells": {
             "fill": {
              "color": "#EBF0F8"
             },
             "line": {
              "color": "white"
             }
            },
            "header": {
             "fill": {
              "color": "#C8D4E3"
             },
             "line": {
              "color": "white"
             }
            },
            "type": "table"
           }
          ]
         },
         "layout": {
          "annotationdefaults": {
           "arrowcolor": "#2a3f5f",
           "arrowhead": 0,
           "arrowwidth": 1
          },
          "colorscale": {
           "diverging": [
            [
             0,
             "#8e0152"
            ],
            [
             0.1,
             "#c51b7d"
            ],
            [
             0.2,
             "#de77ae"
            ],
            [
             0.3,
             "#f1b6da"
            ],
            [
             0.4,
             "#fde0ef"
            ],
            [
             0.5,
             "#f7f7f7"
            ],
            [
             0.6,
             "#e6f5d0"
            ],
            [
             0.7,
             "#b8e186"
            ],
            [
             0.8,
             "#7fbc41"
            ],
            [
             0.9,
             "#4d9221"
            ],
            [
             1,
             "#276419"
            ]
           ],
           "sequential": [
            [
             0,
             "#0d0887"
            ],
            [
             0.1111111111111111,
             "#46039f"
            ],
            [
             0.2222222222222222,
             "#7201a8"
            ],
            [
             0.3333333333333333,
             "#9c179e"
            ],
            [
             0.4444444444444444,
             "#bd3786"
            ],
            [
             0.5555555555555556,
             "#d8576b"
            ],
            [
             0.6666666666666666,
             "#ed7953"
            ],
            [
             0.7777777777777778,
             "#fb9f3a"
            ],
            [
             0.8888888888888888,
             "#fdca26"
            ],
            [
             1,
             "#f0f921"
            ]
           ],
           "sequentialminus": [
            [
             0,
             "#0d0887"
            ],
            [
             0.1111111111111111,
             "#46039f"
            ],
            [
             0.2222222222222222,
             "#7201a8"
            ],
            [
             0.3333333333333333,
             "#9c179e"
            ],
            [
             0.4444444444444444,
             "#bd3786"
            ],
            [
             0.5555555555555556,
             "#d8576b"
            ],
            [
             0.6666666666666666,
             "#ed7953"
            ],
            [
             0.7777777777777778,
             "#fb9f3a"
            ],
            [
             0.8888888888888888,
             "#fdca26"
            ],
            [
             1,
             "#f0f921"
            ]
           ]
          },
          "colorway": [
           "#636efa",
           "#EF553B",
           "#00cc96",
           "#ab63fa",
           "#FFA15A",
           "#19d3f3",
           "#FF6692",
           "#B6E880",
           "#FF97FF",
           "#FECB52"
          ],
          "font": {
           "color": "#2a3f5f"
          },
          "geo": {
           "bgcolor": "white",
           "lakecolor": "white",
           "landcolor": "#E5ECF6",
           "showlakes": true,
           "showland": true,
           "subunitcolor": "white"
          },
          "hoverlabel": {
           "align": "left"
          },
          "hovermode": "closest",
          "mapbox": {
           "style": "light"
          },
          "paper_bgcolor": "white",
          "plot_bgcolor": "#E5ECF6",
          "polar": {
           "angularaxis": {
            "gridcolor": "white",
            "linecolor": "white",
            "ticks": ""
           },
           "bgcolor": "#E5ECF6",
           "radialaxis": {
            "gridcolor": "white",
            "linecolor": "white",
            "ticks": ""
           }
          },
          "scene": {
           "xaxis": {
            "backgroundcolor": "#E5ECF6",
            "gridcolor": "white",
            "gridwidth": 2,
            "linecolor": "white",
            "showbackground": true,
            "ticks": "",
            "zerolinecolor": "white"
           },
           "yaxis": {
            "backgroundcolor": "#E5ECF6",
            "gridcolor": "white",
            "gridwidth": 2,
            "linecolor": "white",
            "showbackground": true,
            "ticks": "",
            "zerolinecolor": "white"
           },
           "zaxis": {
            "backgroundcolor": "#E5ECF6",
            "gridcolor": "white",
            "gridwidth": 2,
            "linecolor": "white",
            "showbackground": true,
            "ticks": "",
            "zerolinecolor": "white"
           }
          },
          "shapedefaults": {
           "line": {
            "color": "#2a3f5f"
           }
          },
          "ternary": {
           "aaxis": {
            "gridcolor": "white",
            "linecolor": "white",
            "ticks": ""
           },
           "baxis": {
            "gridcolor": "white",
            "linecolor": "white",
            "ticks": ""
           },
           "bgcolor": "#E5ECF6",
           "caxis": {
            "gridcolor": "white",
            "linecolor": "white",
            "ticks": ""
           }
          },
          "title": {
           "x": 0.05
          },
          "xaxis": {
           "automargin": true,
           "gridcolor": "white",
           "linecolor": "white",
           "ticks": "",
           "zerolinecolor": "white",
           "zerolinewidth": 2
          },
          "yaxis": {
           "automargin": true,
           "gridcolor": "white",
           "linecolor": "white",
           "ticks": "",
           "zerolinecolor": "white",
           "zerolinewidth": 2
          }
         }
        },
        "title": {
         "text": "sgsapp:abtest:16"
        }
       }
      },
      "text/html": [
       "<div>\n",
       "        \n",
       "        \n",
       "            <div id=\"ae75baac-28e6-4adc-b576-11f7f06ca33b\" class=\"plotly-graph-div\" style=\"height:525px; width:100%;\"></div>\n",
       "            <script type=\"text/javascript\">\n",
       "                require([\"plotly\"], function(Plotly) {\n",
       "                    window.PLOTLYENV=window.PLOTLYENV || {};\n",
       "                    \n",
       "                if (document.getElementById(\"ae75baac-28e6-4adc-b576-11f7f06ca33b\")) {\n",
       "                    Plotly.newPlot(\n",
       "                        'ae75baac-28e6-4adc-b576-11f7f06ca33b',\n",
       "                        [{\"name\": \"click\", \"type\": \"bar\", \"x\": [\"total_total_recommend\", \"total_total_relative\", \"total_total_total\", \"tuwen_total_total\", \"video_total_total\"], \"y\": [-0.035723885784906866, -0.00019955569511411356, -0.015816589639947098, -0.03264149407299523, -0.0016071597087275243]}, {\"name\": \"click_user\", \"type\": \"bar\", \"x\": [\"total_total_recommend\", \"total_total_relative\", \"total_total_total\", \"tuwen_total_total\", \"video_total_total\"], \"y\": [-0.01796300206265943, -0.019443374951872785, -0.017887348435746298, -0.020161501756593782, -0.026145423110172]}, {\"name\": \"duration\", \"type\": \"bar\", \"x\": [\"total_total_recommend\", \"total_total_relative\", \"total_total_total\", \"tuwen_total_total\", \"video_total_total\"], \"y\": [-0.06990907627000999, 0.02726403779569218, -0.0410249783379605, -0.08668952086414704, 0.011272955105425348]}, {\"name\": \"ctr\", \"type\": \"bar\", \"x\": [\"total_total_recommend\", \"total_total_relative\", \"total_total_total\", \"tuwen_total_total\", \"video_total_total\"], \"y\": [-0.024744462209558754, 0.030843167080259207, 0.001024857382141339, -0.030540007796854184, 0.02599772744816655]}, {\"name\": \"read_ratio\", \"type\": \"bar\", \"x\": [\"total_total_recommend\", \"total_total_relative\", \"total_total_total\", \"tuwen_total_total\", \"video_total_total\"], \"y\": [-0.0143251461453565, -0.005998590296684731, -0.01445282928315473, -0.01639948249487398, -0.022619668104546364]}, {\"name\": \"dur1\", \"type\": \"bar\", \"x\": [\"total_total_recommend\", \"total_total_relative\", \"total_total_total\", \"tuwen_total_total\", \"video_total_total\"], \"y\": [-0.06646698007446722, 0.041393683009739925, -0.03767656081719216, -0.08317225461709013, 0.014936168455225416]}, {\"name\": \"dur2\", \"type\": \"bar\", \"x\": [\"total_total_recommend\", \"total_total_relative\", \"total_total_total\", \"tuwen_total_total\", \"video_total_total\"], \"y\": [-0.052901098381219265, 0.04764178877105823, -0.02356681479509691, -0.06788056123157862, 0.03842554847781437]}, {\"name\": \"doc_dur\", \"type\": \"bar\", \"x\": [\"total_total_recommend\", \"total_total_relative\", \"total_total_total\", \"tuwen_total_total\", \"video_total_total\"], \"y\": [-0.03553428525763196, 0.027299862657398297, -0.025711733129993405, -0.05593343998102574, 0.012472872301065505]}, {\"name\": \"refresh\", \"type\": \"bar\", \"x\": [\"total_total_recommend\", \"total_total_relative\", \"total_total_total\", \"tuwen_total_total\", \"video_total_total\"], \"y\": [-0.0032592332939229527, 0.01368436630398288, -0.004945618003085777, -0.01044870527693423, 0.04506610603948164]}, {\"name\": \"refresh2\", \"type\": \"bar\", \"x\": [\"total_total_recommend\", \"total_total_relative\", \"total_total_total\", \"tuwen_total_total\", \"video_total_total\"], \"y\": [0.011215381439504027, 0.01981823847032363, 0.009631932784687826, 0.006037213261479401, 0.06925730786136518]}, {\"name\": \"refresh_times\", \"type\": \"bar\", \"x\": [\"total_total_recommend\", \"total_total_relative\", \"total_total_total\", \"tuwen_total_total\", \"video_total_total\"], \"y\": [-0.00691841835348382, 0.0, -0.008388043272479889, -0.014214111982018563, 0.04132391659377174]}, {\"name\": \"praise\", \"type\": \"bar\", \"x\": [\"total_total_recommend\", \"total_total_relative\", \"total_total_total\", \"tuwen_total_total\", \"video_total_total\"], \"y\": [-0.16999201915403034, -0.15320910973084886, -0.15825114088031803, -0.12978083369144816, -0.15365239294710334]}, {\"name\": \"favor\", \"type\": \"bar\", \"x\": [\"total_total_recommend\", \"total_total_relative\", \"total_total_total\", \"tuwen_total_total\", \"video_total_total\"], \"y\": [-0.14619008449861667, -0.18473895582329317, -0.13453536754507628, -0.12778627182747238, -0.15614236509758897]}],\n",
       "                        {\"barmode\": \"group\", \"template\": {\"data\": {\"bar\": [{\"error_x\": {\"color\": \"#2a3f5f\"}, \"error_y\": {\"color\": \"#2a3f5f\"}, \"marker\": {\"line\": {\"color\": \"#E5ECF6\", \"width\": 0.5}}, \"type\": \"bar\"}], \"barpolar\": [{\"marker\": {\"line\": {\"color\": \"#E5ECF6\", \"width\": 0.5}}, \"type\": \"barpolar\"}], \"carpet\": [{\"aaxis\": {\"endlinecolor\": \"#2a3f5f\", \"gridcolor\": \"white\", \"linecolor\": \"white\", \"minorgridcolor\": \"white\", \"startlinecolor\": \"#2a3f5f\"}, \"baxis\": {\"endlinecolor\": \"#2a3f5f\", \"gridcolor\": \"white\", \"linecolor\": \"white\", \"minorgridcolor\": \"white\", \"startlinecolor\": \"#2a3f5f\"}, \"type\": \"carpet\"}], \"choropleth\": [{\"colorbar\": {\"outlinewidth\": 0, \"ticks\": \"\"}, \"type\": \"choropleth\"}], \"contour\": [{\"colorbar\": {\"outlinewidth\": 0, \"ticks\": \"\"}, \"colorscale\": [[0.0, \"#0d0887\"], [0.1111111111111111, \"#46039f\"], [0.2222222222222222, \"#7201a8\"], [0.3333333333333333, \"#9c179e\"], [0.4444444444444444, \"#bd3786\"], [0.5555555555555556, \"#d8576b\"], [0.6666666666666666, \"#ed7953\"], [0.7777777777777778, \"#fb9f3a\"], [0.8888888888888888, \"#fdca26\"], [1.0, \"#f0f921\"]], \"type\": \"contour\"}], \"contourcarpet\": [{\"colorbar\": {\"outlinewidth\": 0, \"ticks\": \"\"}, \"type\": \"contourcarpet\"}], \"heatmap\": [{\"colorbar\": {\"outlinewidth\": 0, \"ticks\": \"\"}, \"colorscale\": [[0.0, \"#0d0887\"], [0.1111111111111111, \"#46039f\"], [0.2222222222222222, \"#7201a8\"], [0.3333333333333333, \"#9c179e\"], [0.4444444444444444, \"#bd3786\"], [0.5555555555555556, \"#d8576b\"], [0.6666666666666666, \"#ed7953\"], [0.7777777777777778, \"#fb9f3a\"], [0.8888888888888888, \"#fdca26\"], [1.0, \"#f0f921\"]], \"type\": \"heatmap\"}], \"heatmapgl\": [{\"colorbar\": {\"outlinewidth\": 0, \"ticks\": \"\"}, \"colorscale\": [[0.0, \"#0d0887\"], [0.1111111111111111, \"#46039f\"], [0.2222222222222222, \"#7201a8\"], [0.3333333333333333, \"#9c179e\"], [0.4444444444444444, \"#bd3786\"], [0.5555555555555556, \"#d8576b\"], [0.6666666666666666, \"#ed7953\"], [0.7777777777777778, \"#fb9f3a\"], [0.8888888888888888, \"#fdca26\"], [1.0, \"#f0f921\"]], \"type\": \"heatmapgl\"}], \"histogram\": [{\"marker\": {\"colorbar\": {\"outlinewidth\": 0, \"ticks\": \"\"}}, \"type\": \"histogram\"}], \"histogram2d\": [{\"colorbar\": {\"outlinewidth\": 0, \"ticks\": \"\"}, \"colorscale\": [[0.0, \"#0d0887\"], [0.1111111111111111, \"#46039f\"], [0.2222222222222222, \"#7201a8\"], [0.3333333333333333, \"#9c179e\"], [0.4444444444444444, \"#bd3786\"], [0.5555555555555556, \"#d8576b\"], [0.6666666666666666, \"#ed7953\"], [0.7777777777777778, \"#fb9f3a\"], [0.8888888888888888, \"#fdca26\"], [1.0, \"#f0f921\"]], \"type\": \"histogram2d\"}], \"histogram2dcontour\": [{\"colorbar\": {\"outlinewidth\": 0, \"ticks\": \"\"}, \"colorscale\": [[0.0, \"#0d0887\"], [0.1111111111111111, \"#46039f\"], [0.2222222222222222, \"#7201a8\"], [0.3333333333333333, \"#9c179e\"], [0.4444444444444444, \"#bd3786\"], [0.5555555555555556, \"#d8576b\"], [0.6666666666666666, \"#ed7953\"], [0.7777777777777778, \"#fb9f3a\"], [0.8888888888888888, \"#fdca26\"], [1.0, \"#f0f921\"]], \"type\": \"histogram2dcontour\"}], \"mesh3d\": [{\"colorbar\": {\"outlinewidth\": 0, \"ticks\": \"\"}, \"type\": \"mesh3d\"}], \"parcoords\": [{\"line\": {\"colorbar\": {\"outlinewidth\": 0, \"ticks\": \"\"}}, \"type\": \"parcoords\"}], \"scatter\": [{\"marker\": {\"colorbar\": {\"outlinewidth\": 0, \"ticks\": \"\"}}, \"type\": \"scatter\"}], \"scatter3d\": [{\"line\": {\"colorbar\": {\"outlinewidth\": 0, \"ticks\": \"\"}}, \"marker\": {\"colorbar\": {\"outlinewidth\": 0, \"ticks\": \"\"}}, \"type\": \"scatter3d\"}], \"scattercarpet\": [{\"marker\": {\"colorbar\": {\"outlinewidth\": 0, \"ticks\": \"\"}}, \"type\": \"scattercarpet\"}], \"scattergeo\": [{\"marker\": {\"colorbar\": {\"outlinewidth\": 0, \"ticks\": \"\"}}, \"type\": \"scattergeo\"}], \"scattergl\": [{\"marker\": {\"colorbar\": {\"outlinewidth\": 0, \"ticks\": \"\"}}, \"type\": \"scattergl\"}], \"scattermapbox\": [{\"marker\": {\"colorbar\": {\"outlinewidth\": 0, \"ticks\": \"\"}}, \"type\": \"scattermapbox\"}], \"scatterpolar\": [{\"marker\": {\"colorbar\": {\"outlinewidth\": 0, \"ticks\": \"\"}}, \"type\": \"scatterpolar\"}], \"scatterpolargl\": [{\"marker\": {\"colorbar\": {\"outlinewidth\": 0, \"ticks\": \"\"}}, \"type\": \"scatterpolargl\"}], \"scatterternary\": [{\"marker\": {\"colorbar\": {\"outlinewidth\": 0, \"ticks\": \"\"}}, \"type\": \"scatterternary\"}], \"surface\": [{\"colorbar\": {\"outlinewidth\": 0, \"ticks\": \"\"}, \"colorscale\": [[0.0, \"#0d0887\"], [0.1111111111111111, \"#46039f\"], [0.2222222222222222, \"#7201a8\"], [0.3333333333333333, \"#9c179e\"], [0.4444444444444444, \"#bd3786\"], [0.5555555555555556, \"#d8576b\"], [0.6666666666666666, \"#ed7953\"], [0.7777777777777778, \"#fb9f3a\"], [0.8888888888888888, \"#fdca26\"], [1.0, \"#f0f921\"]], \"type\": \"surface\"}], \"table\": [{\"cells\": {\"fill\": {\"color\": \"#EBF0F8\"}, \"line\": {\"color\": \"white\"}}, \"header\": {\"fill\": {\"color\": \"#C8D4E3\"}, \"line\": {\"color\": \"white\"}}, \"type\": \"table\"}]}, \"layout\": {\"annotationdefaults\": {\"arrowcolor\": \"#2a3f5f\", \"arrowhead\": 0, \"arrowwidth\": 1}, \"colorscale\": {\"diverging\": [[0, \"#8e0152\"], [0.1, \"#c51b7d\"], [0.2, \"#de77ae\"], [0.3, \"#f1b6da\"], [0.4, \"#fde0ef\"], [0.5, \"#f7f7f7\"], [0.6, \"#e6f5d0\"], [0.7, \"#b8e186\"], [0.8, \"#7fbc41\"], [0.9, \"#4d9221\"], [1, \"#276419\"]], \"sequential\": [[0.0, \"#0d0887\"], [0.1111111111111111, \"#46039f\"], [0.2222222222222222, \"#7201a8\"], [0.3333333333333333, \"#9c179e\"], [0.4444444444444444, \"#bd3786\"], [0.5555555555555556, \"#d8576b\"], [0.6666666666666666, \"#ed7953\"], [0.7777777777777778, \"#fb9f3a\"], [0.8888888888888888, \"#fdca26\"], [1.0, \"#f0f921\"]], \"sequentialminus\": [[0.0, \"#0d0887\"], [0.1111111111111111, \"#46039f\"], [0.2222222222222222, \"#7201a8\"], [0.3333333333333333, \"#9c179e\"], [0.4444444444444444, \"#bd3786\"], [0.5555555555555556, \"#d8576b\"], [0.6666666666666666, \"#ed7953\"], [0.7777777777777778, \"#fb9f3a\"], [0.8888888888888888, \"#fdca26\"], [1.0, \"#f0f921\"]]}, \"colorway\": [\"#636efa\", \"#EF553B\", \"#00cc96\", \"#ab63fa\", \"#FFA15A\", \"#19d3f3\", \"#FF6692\", \"#B6E880\", \"#FF97FF\", \"#FECB52\"], \"font\": {\"color\": \"#2a3f5f\"}, \"geo\": {\"bgcolor\": \"white\", \"lakecolor\": \"white\", \"landcolor\": \"#E5ECF6\", \"showlakes\": true, \"showland\": true, \"subunitcolor\": \"white\"}, \"hoverlabel\": {\"align\": \"left\"}, \"hovermode\": \"closest\", \"mapbox\": {\"style\": \"light\"}, \"paper_bgcolor\": \"white\", \"plot_bgcolor\": \"#E5ECF6\", \"polar\": {\"angularaxis\": {\"gridcolor\": \"white\", \"linecolor\": \"white\", \"ticks\": \"\"}, \"bgcolor\": \"#E5ECF6\", \"radialaxis\": {\"gridcolor\": \"white\", \"linecolor\": \"white\", \"ticks\": \"\"}}, \"scene\": {\"xaxis\": {\"backgroundcolor\": \"#E5ECF6\", \"gridcolor\": \"white\", \"gridwidth\": 2, \"linecolor\": \"white\", \"showbackground\": true, \"ticks\": \"\", \"zerolinecolor\": \"white\"}, \"yaxis\": {\"backgroundcolor\": \"#E5ECF6\", \"gridcolor\": \"white\", \"gridwidth\": 2, \"linecolor\": \"white\", \"showbackground\": true, \"ticks\": \"\", \"zerolinecolor\": \"white\"}, \"zaxis\": {\"backgroundcolor\": \"#E5ECF6\", \"gridcolor\": \"white\", \"gridwidth\": 2, \"linecolor\": \"white\", \"showbackground\": true, \"ticks\": \"\", \"zerolinecolor\": \"white\"}}, \"shapedefaults\": {\"line\": {\"color\": \"#2a3f5f\"}}, \"ternary\": {\"aaxis\": {\"gridcolor\": \"white\", \"linecolor\": \"white\", \"ticks\": \"\"}, \"baxis\": {\"gridcolor\": \"white\", \"linecolor\": \"white\", \"ticks\": \"\"}, \"bgcolor\": \"#E5ECF6\", \"caxis\": {\"gridcolor\": \"white\", \"linecolor\": \"white\", \"ticks\": \"\"}}, \"title\": {\"x\": 0.05}, \"xaxis\": {\"automargin\": true, \"gridcolor\": \"white\", \"linecolor\": \"white\", \"ticks\": \"\", \"zerolinecolor\": \"white\", \"zerolinewidth\": 2}, \"yaxis\": {\"automargin\": true, \"gridcolor\": \"white\", \"linecolor\": \"white\", \"ticks\": \"\", \"zerolinecolor\": \"white\", \"zerolinewidth\": 2}}}, \"title\": {\"text\": \"sgsapp:abtest:16\"}},\n",
       "                        {\"responsive\": true}\n",
       "                    ).then(function(){\n",
       "                            \n",
       "var gd = document.getElementById('ae75baac-28e6-4adc-b576-11f7f06ca33b');\n",
       "var x = new MutationObserver(function (mutations, observer) {{\n",
       "        var display = window.getComputedStyle(gd).display;\n",
       "        if (!display || display === 'none') {{\n",
       "            console.log([gd, 'removed!']);\n",
       "            Plotly.purge(gd);\n",
       "            observer.disconnect();\n",
       "        }}\n",
       "}});\n",
       "\n",
       "// Listen for the removal of the full notebook cells\n",
       "var notebookContainer = gd.closest('#notebook-container');\n",
       "if (notebookContainer) {{\n",
       "    x.observe(notebookContainer, {childList: true});\n",
       "}}\n",
       "\n",
       "// Listen for the clearing of the current output cell\n",
       "var outputEl = gd.closest('.output');\n",
       "if (outputEl) {{\n",
       "    x.observe(outputEl, {childList: true});\n",
       "}}\n",
       "\n",
       "                        })\n",
       "                };\n",
       "                });\n",
       "            </script>\n",
       "        </div>"
      ]
     },
     "metadata": {},
     "output_type": "display_data"
    },
    {
     "data": {
      "application/vnd.plotly.v1+json": {
       "config": {
        "plotlyServerURL": "https://plot.ly"
       },
       "data": [
        {
         "name": "click",
         "type": "bar",
         "x": [
          "total_total_recommend",
          "total_total_relative",
          "total_total_total",
          "tuwen_total_total",
          "video_total_total"
         ],
         "y": [
          -0.0608738638996884,
          -0.03790677814395596,
          -0.04842615012106532,
          -0.0776745826931203,
          -0.04246984529282271
         ]
        },
        {
         "name": "click_user",
         "type": "bar",
         "x": [
          "total_total_recommend",
          "total_total_relative",
          "total_total_total",
          "tuwen_total_total",
          "video_total_total"
         ],
         "y": [
          -0.021398060775365085,
          -0.03346900610527469,
          -0.021562830991036622,
          -0.024618530753500078,
          -0.02637594851599277
         ]
        },
        {
         "name": "duration",
         "type": "bar",
         "x": [
          "total_total_recommend",
          "total_total_relative",
          "total_total_total",
          "tuwen_total_total",
          "video_total_total"
         ],
         "y": [
          6.31863088475502e-05,
          -0.014111678860890249,
          -0.0050862604858554605,
          -0.0024706007245967553,
          -0.011267608372206491
         ]
        },
        {
         "name": "ctr",
         "type": "bar",
         "x": [
          "total_total_recommend",
          "total_total_relative",
          "total_total_total",
          "tuwen_total_total",
          "video_total_total"
         ],
         "y": [
          -0.049941274292440316,
          0.029378526295761372,
          -0.022729258441875292,
          -0.06152301154154089,
          -0.004084519771314257
         ]
        },
        {
         "name": "read_ratio",
         "type": "bar",
         "x": [
          "total_total_recommend",
          "total_total_relative",
          "total_total_total",
          "tuwen_total_total",
          "video_total_total"
         ],
         "y": [
          -0.020449356534018106,
          -0.012573159460148937,
          -0.02077755252723366,
          -0.024075150332918613,
          -0.02514634206974701
         ]
        },
        {
         "name": "dur1",
         "type": "bar",
         "x": [
          "total_total_recommend",
          "total_total_relative",
          "total_total_total",
          "tuwen_total_total",
          "video_total_total"
         ],
         "y": [
          0.0010291245164696379,
          0.007245642445290098,
          -0.00429312580743157,
          -0.00190325889628446,
          -0.010016981840919691
         ]
        },
        {
         "name": "dur2",
         "type": "bar",
         "x": [
          "total_total_recommend",
          "total_total_relative",
          "total_total_total",
          "tuwen_total_total",
          "video_total_total"
         ],
         "y": [
          0.021925285822673876,
          0.02003563427998743,
          0.016831583829479763,
          0.022724893805674377,
          0.015520161025662926
         ]
        },
        {
         "name": "doc_dur",
         "type": "bar",
         "x": [
          "total_total_recommend",
          "total_total_relative",
          "total_total_total",
          "tuwen_total_total",
          "video_total_total"
         ],
         "y": [
          0.06479575212321105,
          0.02456387196020134,
          0.04544008247476938,
          0.08146671099494489,
          0.03214987258288755
         ]
        },
        {
         "name": "refresh",
         "type": "bar",
         "x": [
          "total_total_recommend",
          "total_total_relative",
          "total_total_total",
          "tuwen_total_total",
          "video_total_total"
         ],
         "y": [
          -0.009279355813754601,
          0.02159220279838463,
          -0.009679855677801632,
          -0.01817183431347509,
          0.04057917750214149
         ]
        },
        {
         "name": "refresh2",
         "type": "bar",
         "x": [
          "total_total_recommend",
          "total_total_relative",
          "total_total_total",
          "tuwen_total_total",
          "video_total_total"
         ],
         "y": [
          0.011391830540355545,
          0.034617137364045925,
          0.011318448253579479,
          0.006036164572927941,
          0.06742597122847911
         ]
        },
        {
         "name": "refresh_times",
         "type": "bar",
         "x": [
          "total_total_recommend",
          "total_total_relative",
          "total_total_total",
          "tuwen_total_total",
          "video_total_total"
         ],
         "y": [
          -0.010219431055712156,
          0,
          -0.010448860835615872,
          -0.018699217003613513,
          0.039294347801731445
         ]
        },
        {
         "name": "praise",
         "type": "bar",
         "x": [
          "total_total_recommend",
          "total_total_relative",
          "total_total_total",
          "tuwen_total_total",
          "video_total_total"
         ],
         "y": [
          -0.08060654429369513,
          -0.17184265010351968,
          -0.11673781834241137,
          -0.06660936828534589,
          -0.16498740554156177
         ]
        },
        {
         "name": "favor",
         "type": "bar",
         "x": [
          "total_total_recommend",
          "total_total_relative",
          "total_total_total",
          "tuwen_total_total",
          "video_total_total"
         ],
         "y": [
          -0.10244522545427359,
          -0.3192771084337349,
          -0.12680800475530019,
          -0.1072664359861591,
          -0.19747416762342135
         ]
        }
       ],
       "layout": {
        "barmode": "group",
        "template": {
         "data": {
          "bar": [
           {
            "error_x": {
             "color": "#2a3f5f"
            },
            "error_y": {
             "color": "#2a3f5f"
            },
            "marker": {
             "line": {
              "color": "#E5ECF6",
              "width": 0.5
             }
            },
            "type": "bar"
           }
          ],
          "barpolar": [
           {
            "marker": {
             "line": {
              "color": "#E5ECF6",
              "width": 0.5
             }
            },
            "type": "barpolar"
           }
          ],
          "carpet": [
           {
            "aaxis": {
             "endlinecolor": "#2a3f5f",
             "gridcolor": "white",
             "linecolor": "white",
             "minorgridcolor": "white",
             "startlinecolor": "#2a3f5f"
            },
            "baxis": {
             "endlinecolor": "#2a3f5f",
             "gridcolor": "white",
             "linecolor": "white",
             "minorgridcolor": "white",
             "startlinecolor": "#2a3f5f"
            },
            "type": "carpet"
           }
          ],
          "choropleth": [
           {
            "colorbar": {
             "outlinewidth": 0,
             "ticks": ""
            },
            "type": "choropleth"
           }
          ],
          "contour": [
           {
            "colorbar": {
             "outlinewidth": 0,
             "ticks": ""
            },
            "colorscale": [
             [
              0,
              "#0d0887"
             ],
             [
              0.1111111111111111,
              "#46039f"
             ],
             [
              0.2222222222222222,
              "#7201a8"
             ],
             [
              0.3333333333333333,
              "#9c179e"
             ],
             [
              0.4444444444444444,
              "#bd3786"
             ],
             [
              0.5555555555555556,
              "#d8576b"
             ],
             [
              0.6666666666666666,
              "#ed7953"
             ],
             [
              0.7777777777777778,
              "#fb9f3a"
             ],
             [
              0.8888888888888888,
              "#fdca26"
             ],
             [
              1,
              "#f0f921"
             ]
            ],
            "type": "contour"
           }
          ],
          "contourcarpet": [
           {
            "colorbar": {
             "outlinewidth": 0,
             "ticks": ""
            },
            "type": "contourcarpet"
           }
          ],
          "heatmap": [
           {
            "colorbar": {
             "outlinewidth": 0,
             "ticks": ""
            },
            "colorscale": [
             [
              0,
              "#0d0887"
             ],
             [
              0.1111111111111111,
              "#46039f"
             ],
             [
              0.2222222222222222,
              "#7201a8"
             ],
             [
              0.3333333333333333,
              "#9c179e"
             ],
             [
              0.4444444444444444,
              "#bd3786"
             ],
             [
              0.5555555555555556,
              "#d8576b"
             ],
             [
              0.6666666666666666,
              "#ed7953"
             ],
             [
              0.7777777777777778,
              "#fb9f3a"
             ],
             [
              0.8888888888888888,
              "#fdca26"
             ],
             [
              1,
              "#f0f921"
             ]
            ],
            "type": "heatmap"
           }
          ],
          "heatmapgl": [
           {
            "colorbar": {
             "outlinewidth": 0,
             "ticks": ""
            },
            "colorscale": [
             [
              0,
              "#0d0887"
             ],
             [
              0.1111111111111111,
              "#46039f"
             ],
             [
              0.2222222222222222,
              "#7201a8"
             ],
             [
              0.3333333333333333,
              "#9c179e"
             ],
             [
              0.4444444444444444,
              "#bd3786"
             ],
             [
              0.5555555555555556,
              "#d8576b"
             ],
             [
              0.6666666666666666,
              "#ed7953"
             ],
             [
              0.7777777777777778,
              "#fb9f3a"
             ],
             [
              0.8888888888888888,
              "#fdca26"
             ],
             [
              1,
              "#f0f921"
             ]
            ],
            "type": "heatmapgl"
           }
          ],
          "histogram": [
           {
            "marker": {
             "colorbar": {
              "outlinewidth": 0,
              "ticks": ""
             }
            },
            "type": "histogram"
           }
          ],
          "histogram2d": [
           {
            "colorbar": {
             "outlinewidth": 0,
             "ticks": ""
            },
            "colorscale": [
             [
              0,
              "#0d0887"
             ],
             [
              0.1111111111111111,
              "#46039f"
             ],
             [
              0.2222222222222222,
              "#7201a8"
             ],
             [
              0.3333333333333333,
              "#9c179e"
             ],
             [
              0.4444444444444444,
              "#bd3786"
             ],
             [
              0.5555555555555556,
              "#d8576b"
             ],
             [
              0.6666666666666666,
              "#ed7953"
             ],
             [
              0.7777777777777778,
              "#fb9f3a"
             ],
             [
              0.8888888888888888,
              "#fdca26"
             ],
             [
              1,
              "#f0f921"
             ]
            ],
            "type": "histogram2d"
           }
          ],
          "histogram2dcontour": [
           {
            "colorbar": {
             "outlinewidth": 0,
             "ticks": ""
            },
            "colorscale": [
             [
              0,
              "#0d0887"
             ],
             [
              0.1111111111111111,
              "#46039f"
             ],
             [
              0.2222222222222222,
              "#7201a8"
             ],
             [
              0.3333333333333333,
              "#9c179e"
             ],
             [
              0.4444444444444444,
              "#bd3786"
             ],
             [
              0.5555555555555556,
              "#d8576b"
             ],
             [
              0.6666666666666666,
              "#ed7953"
             ],
             [
              0.7777777777777778,
              "#fb9f3a"
             ],
             [
              0.8888888888888888,
              "#fdca26"
             ],
             [
              1,
              "#f0f921"
             ]
            ],
            "type": "histogram2dcontour"
           }
          ],
          "mesh3d": [
           {
            "colorbar": {
             "outlinewidth": 0,
             "ticks": ""
            },
            "type": "mesh3d"
           }
          ],
          "parcoords": [
           {
            "line": {
             "colorbar": {
              "outlinewidth": 0,
              "ticks": ""
             }
            },
            "type": "parcoords"
           }
          ],
          "scatter": [
           {
            "marker": {
             "colorbar": {
              "outlinewidth": 0,
              "ticks": ""
             }
            },
            "type": "scatter"
           }
          ],
          "scatter3d": [
           {
            "line": {
             "colorbar": {
              "outlinewidth": 0,
              "ticks": ""
             }
            },
            "marker": {
             "colorbar": {
              "outlinewidth": 0,
              "ticks": ""
             }
            },
            "type": "scatter3d"
           }
          ],
          "scattercarpet": [
           {
            "marker": {
             "colorbar": {
              "outlinewidth": 0,
              "ticks": ""
             }
            },
            "type": "scattercarpet"
           }
          ],
          "scattergeo": [
           {
            "marker": {
             "colorbar": {
              "outlinewidth": 0,
              "ticks": ""
             }
            },
            "type": "scattergeo"
           }
          ],
          "scattergl": [
           {
            "marker": {
             "colorbar": {
              "outlinewidth": 0,
              "ticks": ""
             }
            },
            "type": "scattergl"
           }
          ],
          "scattermapbox": [
           {
            "marker": {
             "colorbar": {
              "outlinewidth": 0,
              "ticks": ""
             }
            },
            "type": "scattermapbox"
           }
          ],
          "scatterpolar": [
           {
            "marker": {
             "colorbar": {
              "outlinewidth": 0,
              "ticks": ""
             }
            },
            "type": "scatterpolar"
           }
          ],
          "scatterpolargl": [
           {
            "marker": {
             "colorbar": {
              "outlinewidth": 0,
              "ticks": ""
             }
            },
            "type": "scatterpolargl"
           }
          ],
          "scatterternary": [
           {
            "marker": {
             "colorbar": {
              "outlinewidth": 0,
              "ticks": ""
             }
            },
            "type": "scatterternary"
           }
          ],
          "surface": [
           {
            "colorbar": {
             "outlinewidth": 0,
             "ticks": ""
            },
            "colorscale": [
             [
              0,
              "#0d0887"
             ],
             [
              0.1111111111111111,
              "#46039f"
             ],
             [
              0.2222222222222222,
              "#7201a8"
             ],
             [
              0.3333333333333333,
              "#9c179e"
             ],
             [
              0.4444444444444444,
              "#bd3786"
             ],
             [
              0.5555555555555556,
              "#d8576b"
             ],
             [
              0.6666666666666666,
              "#ed7953"
             ],
             [
              0.7777777777777778,
              "#fb9f3a"
             ],
             [
              0.8888888888888888,
              "#fdca26"
             ],
             [
              1,
              "#f0f921"
             ]
            ],
            "type": "surface"
           }
          ],
          "table": [
           {
            "cells": {
             "fill": {
              "color": "#EBF0F8"
             },
             "line": {
              "color": "white"
             }
            },
            "header": {
             "fill": {
              "color": "#C8D4E3"
             },
             "line": {
              "color": "white"
             }
            },
            "type": "table"
           }
          ]
         },
         "layout": {
          "annotationdefaults": {
           "arrowcolor": "#2a3f5f",
           "arrowhead": 0,
           "arrowwidth": 1
          },
          "colorscale": {
           "diverging": [
            [
             0,
             "#8e0152"
            ],
            [
             0.1,
             "#c51b7d"
            ],
            [
             0.2,
             "#de77ae"
            ],
            [
             0.3,
             "#f1b6da"
            ],
            [
             0.4,
             "#fde0ef"
            ],
            [
             0.5,
             "#f7f7f7"
            ],
            [
             0.6,
             "#e6f5d0"
            ],
            [
             0.7,
             "#b8e186"
            ],
            [
             0.8,
             "#7fbc41"
            ],
            [
             0.9,
             "#4d9221"
            ],
            [
             1,
             "#276419"
            ]
           ],
           "sequential": [
            [
             0,
             "#0d0887"
            ],
            [
             0.1111111111111111,
             "#46039f"
            ],
            [
             0.2222222222222222,
             "#7201a8"
            ],
            [
             0.3333333333333333,
             "#9c179e"
            ],
            [
             0.4444444444444444,
             "#bd3786"
            ],
            [
             0.5555555555555556,
             "#d8576b"
            ],
            [
             0.6666666666666666,
             "#ed7953"
            ],
            [
             0.7777777777777778,
             "#fb9f3a"
            ],
            [
             0.8888888888888888,
             "#fdca26"
            ],
            [
             1,
             "#f0f921"
            ]
           ],
           "sequentialminus": [
            [
             0,
             "#0d0887"
            ],
            [
             0.1111111111111111,
             "#46039f"
            ],
            [
             0.2222222222222222,
             "#7201a8"
            ],
            [
             0.3333333333333333,
             "#9c179e"
            ],
            [
             0.4444444444444444,
             "#bd3786"
            ],
            [
             0.5555555555555556,
             "#d8576b"
            ],
            [
             0.6666666666666666,
             "#ed7953"
            ],
            [
             0.7777777777777778,
             "#fb9f3a"
            ],
            [
             0.8888888888888888,
             "#fdca26"
            ],
            [
             1,
             "#f0f921"
            ]
           ]
          },
          "colorway": [
           "#636efa",
           "#EF553B",
           "#00cc96",
           "#ab63fa",
           "#FFA15A",
           "#19d3f3",
           "#FF6692",
           "#B6E880",
           "#FF97FF",
           "#FECB52"
          ],
          "font": {
           "color": "#2a3f5f"
          },
          "geo": {
           "bgcolor": "white",
           "lakecolor": "white",
           "landcolor": "#E5ECF6",
           "showlakes": true,
           "showland": true,
           "subunitcolor": "white"
          },
          "hoverlabel": {
           "align": "left"
          },
          "hovermode": "closest",
          "mapbox": {
           "style": "light"
          },
          "paper_bgcolor": "white",
          "plot_bgcolor": "#E5ECF6",
          "polar": {
           "angularaxis": {
            "gridcolor": "white",
            "linecolor": "white",
            "ticks": ""
           },
           "bgcolor": "#E5ECF6",
           "radialaxis": {
            "gridcolor": "white",
            "linecolor": "white",
            "ticks": ""
           }
          },
          "scene": {
           "xaxis": {
            "backgroundcolor": "#E5ECF6",
            "gridcolor": "white",
            "gridwidth": 2,
            "linecolor": "white",
            "showbackground": true,
            "ticks": "",
            "zerolinecolor": "white"
           },
           "yaxis": {
            "backgroundcolor": "#E5ECF6",
            "gridcolor": "white",
            "gridwidth": 2,
            "linecolor": "white",
            "showbackground": true,
            "ticks": "",
            "zerolinecolor": "white"
           },
           "zaxis": {
            "backgroundcolor": "#E5ECF6",
            "gridcolor": "white",
            "gridwidth": 2,
            "linecolor": "white",
            "showbackground": true,
            "ticks": "",
            "zerolinecolor": "white"
           }
          },
          "shapedefaults": {
           "line": {
            "color": "#2a3f5f"
           }
          },
          "ternary": {
           "aaxis": {
            "gridcolor": "white",
            "linecolor": "white",
            "ticks": ""
           },
           "baxis": {
            "gridcolor": "white",
            "linecolor": "white",
            "ticks": ""
           },
           "bgcolor": "#E5ECF6",
           "caxis": {
            "gridcolor": "white",
            "linecolor": "white",
            "ticks": ""
           }
          },
          "title": {
           "x": 0.05
          },
          "xaxis": {
           "automargin": true,
           "gridcolor": "white",
           "linecolor": "white",
           "ticks": "",
           "zerolinecolor": "white",
           "zerolinewidth": 2
          },
          "yaxis": {
           "automargin": true,
           "gridcolor": "white",
           "linecolor": "white",
           "ticks": "",
           "zerolinecolor": "white",
           "zerolinewidth": 2
          }
         }
        },
        "title": {
         "text": "sgsapp:abtest:8"
        }
       }
      },
      "text/html": [
       "<div>\n",
       "        \n",
       "        \n",
       "            <div id=\"224cf5a4-9cb7-46be-ac8f-bea571816446\" class=\"plotly-graph-div\" style=\"height:525px; width:100%;\"></div>\n",
       "            <script type=\"text/javascript\">\n",
       "                require([\"plotly\"], function(Plotly) {\n",
       "                    window.PLOTLYENV=window.PLOTLYENV || {};\n",
       "                    \n",
       "                if (document.getElementById(\"224cf5a4-9cb7-46be-ac8f-bea571816446\")) {\n",
       "                    Plotly.newPlot(\n",
       "                        '224cf5a4-9cb7-46be-ac8f-bea571816446',\n",
       "                        [{\"name\": \"click\", \"type\": \"bar\", \"x\": [\"total_total_recommend\", \"total_total_relative\", \"total_total_total\", \"tuwen_total_total\", \"video_total_total\"], \"y\": [-0.0608738638996884, -0.03790677814395596, -0.04842615012106532, -0.0776745826931203, -0.04246984529282271]}, {\"name\": \"click_user\", \"type\": \"bar\", \"x\": [\"total_total_recommend\", \"total_total_relative\", \"total_total_total\", \"tuwen_total_total\", \"video_total_total\"], \"y\": [-0.021398060775365085, -0.03346900610527469, -0.021562830991036622, -0.024618530753500078, -0.02637594851599277]}, {\"name\": \"duration\", \"type\": \"bar\", \"x\": [\"total_total_recommend\", \"total_total_relative\", \"total_total_total\", \"tuwen_total_total\", \"video_total_total\"], \"y\": [6.31863088475502e-05, -0.014111678860890249, -0.0050862604858554605, -0.0024706007245967553, -0.011267608372206491]}, {\"name\": \"ctr\", \"type\": \"bar\", \"x\": [\"total_total_recommend\", \"total_total_relative\", \"total_total_total\", \"tuwen_total_total\", \"video_total_total\"], \"y\": [-0.049941274292440316, 0.029378526295761372, -0.022729258441875292, -0.06152301154154089, -0.004084519771314257]}, {\"name\": \"read_ratio\", \"type\": \"bar\", \"x\": [\"total_total_recommend\", \"total_total_relative\", \"total_total_total\", \"tuwen_total_total\", \"video_total_total\"], \"y\": [-0.020449356534018106, -0.012573159460148937, -0.02077755252723366, -0.024075150332918613, -0.02514634206974701]}, {\"name\": \"dur1\", \"type\": \"bar\", \"x\": [\"total_total_recommend\", \"total_total_relative\", \"total_total_total\", \"tuwen_total_total\", \"video_total_total\"], \"y\": [0.0010291245164696379, 0.007245642445290098, -0.00429312580743157, -0.00190325889628446, -0.010016981840919691]}, {\"name\": \"dur2\", \"type\": \"bar\", \"x\": [\"total_total_recommend\", \"total_total_relative\", \"total_total_total\", \"tuwen_total_total\", \"video_total_total\"], \"y\": [0.021925285822673876, 0.02003563427998743, 0.016831583829479763, 0.022724893805674377, 0.015520161025662926]}, {\"name\": \"doc_dur\", \"type\": \"bar\", \"x\": [\"total_total_recommend\", \"total_total_relative\", \"total_total_total\", \"tuwen_total_total\", \"video_total_total\"], \"y\": [0.06479575212321105, 0.02456387196020134, 0.04544008247476938, 0.08146671099494489, 0.03214987258288755]}, {\"name\": \"refresh\", \"type\": \"bar\", \"x\": [\"total_total_recommend\", \"total_total_relative\", \"total_total_total\", \"tuwen_total_total\", \"video_total_total\"], \"y\": [-0.009279355813754601, 0.02159220279838463, -0.009679855677801632, -0.01817183431347509, 0.04057917750214149]}, {\"name\": \"refresh2\", \"type\": \"bar\", \"x\": [\"total_total_recommend\", \"total_total_relative\", \"total_total_total\", \"tuwen_total_total\", \"video_total_total\"], \"y\": [0.011391830540355545, 0.034617137364045925, 0.011318448253579479, 0.006036164572927941, 0.06742597122847911]}, {\"name\": \"refresh_times\", \"type\": \"bar\", \"x\": [\"total_total_recommend\", \"total_total_relative\", \"total_total_total\", \"tuwen_total_total\", \"video_total_total\"], \"y\": [-0.010219431055712156, 0.0, -0.010448860835615872, -0.018699217003613513, 0.039294347801731445]}, {\"name\": \"praise\", \"type\": \"bar\", \"x\": [\"total_total_recommend\", \"total_total_relative\", \"total_total_total\", \"tuwen_total_total\", \"video_total_total\"], \"y\": [-0.08060654429369513, -0.17184265010351968, -0.11673781834241137, -0.06660936828534589, -0.16498740554156177]}, {\"name\": \"favor\", \"type\": \"bar\", \"x\": [\"total_total_recommend\", \"total_total_relative\", \"total_total_total\", \"tuwen_total_total\", \"video_total_total\"], \"y\": [-0.10244522545427359, -0.3192771084337349, -0.12680800475530019, -0.1072664359861591, -0.19747416762342135]}],\n",
       "                        {\"barmode\": \"group\", \"template\": {\"data\": {\"bar\": [{\"error_x\": {\"color\": \"#2a3f5f\"}, \"error_y\": {\"color\": \"#2a3f5f\"}, \"marker\": {\"line\": {\"color\": \"#E5ECF6\", \"width\": 0.5}}, \"type\": \"bar\"}], \"barpolar\": [{\"marker\": {\"line\": {\"color\": \"#E5ECF6\", \"width\": 0.5}}, \"type\": \"barpolar\"}], \"carpet\": [{\"aaxis\": {\"endlinecolor\": \"#2a3f5f\", \"gridcolor\": \"white\", \"linecolor\": \"white\", \"minorgridcolor\": \"white\", \"startlinecolor\": \"#2a3f5f\"}, \"baxis\": {\"endlinecolor\": \"#2a3f5f\", \"gridcolor\": \"white\", \"linecolor\": \"white\", \"minorgridcolor\": \"white\", \"startlinecolor\": \"#2a3f5f\"}, \"type\": \"carpet\"}], \"choropleth\": [{\"colorbar\": {\"outlinewidth\": 0, \"ticks\": \"\"}, \"type\": \"choropleth\"}], \"contour\": [{\"colorbar\": {\"outlinewidth\": 0, \"ticks\": \"\"}, \"colorscale\": [[0.0, \"#0d0887\"], [0.1111111111111111, \"#46039f\"], [0.2222222222222222, \"#7201a8\"], [0.3333333333333333, \"#9c179e\"], [0.4444444444444444, \"#bd3786\"], [0.5555555555555556, \"#d8576b\"], [0.6666666666666666, \"#ed7953\"], [0.7777777777777778, \"#fb9f3a\"], [0.8888888888888888, \"#fdca26\"], [1.0, \"#f0f921\"]], \"type\": \"contour\"}], \"contourcarpet\": [{\"colorbar\": {\"outlinewidth\": 0, \"ticks\": \"\"}, \"type\": \"contourcarpet\"}], \"heatmap\": [{\"colorbar\": {\"outlinewidth\": 0, \"ticks\": \"\"}, \"colorscale\": [[0.0, \"#0d0887\"], [0.1111111111111111, \"#46039f\"], [0.2222222222222222, \"#7201a8\"], [0.3333333333333333, \"#9c179e\"], [0.4444444444444444, \"#bd3786\"], [0.5555555555555556, \"#d8576b\"], [0.6666666666666666, \"#ed7953\"], [0.7777777777777778, \"#fb9f3a\"], [0.8888888888888888, \"#fdca26\"], [1.0, \"#f0f921\"]], \"type\": \"heatmap\"}], \"heatmapgl\": [{\"colorbar\": {\"outlinewidth\": 0, \"ticks\": \"\"}, \"colorscale\": [[0.0, \"#0d0887\"], [0.1111111111111111, \"#46039f\"], [0.2222222222222222, \"#7201a8\"], [0.3333333333333333, \"#9c179e\"], [0.4444444444444444, \"#bd3786\"], [0.5555555555555556, \"#d8576b\"], [0.6666666666666666, \"#ed7953\"], [0.7777777777777778, \"#fb9f3a\"], [0.8888888888888888, \"#fdca26\"], [1.0, \"#f0f921\"]], \"type\": \"heatmapgl\"}], \"histogram\": [{\"marker\": {\"colorbar\": {\"outlinewidth\": 0, \"ticks\": \"\"}}, \"type\": \"histogram\"}], \"histogram2d\": [{\"colorbar\": {\"outlinewidth\": 0, \"ticks\": \"\"}, \"colorscale\": [[0.0, \"#0d0887\"], [0.1111111111111111, \"#46039f\"], [0.2222222222222222, \"#7201a8\"], [0.3333333333333333, \"#9c179e\"], [0.4444444444444444, \"#bd3786\"], [0.5555555555555556, \"#d8576b\"], [0.6666666666666666, \"#ed7953\"], [0.7777777777777778, \"#fb9f3a\"], [0.8888888888888888, \"#fdca26\"], [1.0, \"#f0f921\"]], \"type\": \"histogram2d\"}], \"histogram2dcontour\": [{\"colorbar\": {\"outlinewidth\": 0, \"ticks\": \"\"}, \"colorscale\": [[0.0, \"#0d0887\"], [0.1111111111111111, \"#46039f\"], [0.2222222222222222, \"#7201a8\"], [0.3333333333333333, \"#9c179e\"], [0.4444444444444444, \"#bd3786\"], [0.5555555555555556, \"#d8576b\"], [0.6666666666666666, \"#ed7953\"], [0.7777777777777778, \"#fb9f3a\"], [0.8888888888888888, \"#fdca26\"], [1.0, \"#f0f921\"]], \"type\": \"histogram2dcontour\"}], \"mesh3d\": [{\"colorbar\": {\"outlinewidth\": 0, \"ticks\": \"\"}, \"type\": \"mesh3d\"}], \"parcoords\": [{\"line\": {\"colorbar\": {\"outlinewidth\": 0, \"ticks\": \"\"}}, \"type\": \"parcoords\"}], \"scatter\": [{\"marker\": {\"colorbar\": {\"outlinewidth\": 0, \"ticks\": \"\"}}, \"type\": \"scatter\"}], \"scatter3d\": [{\"line\": {\"colorbar\": {\"outlinewidth\": 0, \"ticks\": \"\"}}, \"marker\": {\"colorbar\": {\"outlinewidth\": 0, \"ticks\": \"\"}}, \"type\": \"scatter3d\"}], \"scattercarpet\": [{\"marker\": {\"colorbar\": {\"outlinewidth\": 0, \"ticks\": \"\"}}, \"type\": \"scattercarpet\"}], \"scattergeo\": [{\"marker\": {\"colorbar\": {\"outlinewidth\": 0, \"ticks\": \"\"}}, \"type\": \"scattergeo\"}], \"scattergl\": [{\"marker\": {\"colorbar\": {\"outlinewidth\": 0, \"ticks\": \"\"}}, \"type\": \"scattergl\"}], \"scattermapbox\": [{\"marker\": {\"colorbar\": {\"outlinewidth\": 0, \"ticks\": \"\"}}, \"type\": \"scattermapbox\"}], \"scatterpolar\": [{\"marker\": {\"colorbar\": {\"outlinewidth\": 0, \"ticks\": \"\"}}, \"type\": \"scatterpolar\"}], \"scatterpolargl\": [{\"marker\": {\"colorbar\": {\"outlinewidth\": 0, \"ticks\": \"\"}}, \"type\": \"scatterpolargl\"}], \"scatterternary\": [{\"marker\": {\"colorbar\": {\"outlinewidth\": 0, \"ticks\": \"\"}}, \"type\": \"scatterternary\"}], \"surface\": [{\"colorbar\": {\"outlinewidth\": 0, \"ticks\": \"\"}, \"colorscale\": [[0.0, \"#0d0887\"], [0.1111111111111111, \"#46039f\"], [0.2222222222222222, \"#7201a8\"], [0.3333333333333333, \"#9c179e\"], [0.4444444444444444, \"#bd3786\"], [0.5555555555555556, \"#d8576b\"], [0.6666666666666666, \"#ed7953\"], [0.7777777777777778, \"#fb9f3a\"], [0.8888888888888888, \"#fdca26\"], [1.0, \"#f0f921\"]], \"type\": \"surface\"}], \"table\": [{\"cells\": {\"fill\": {\"color\": \"#EBF0F8\"}, \"line\": {\"color\": \"white\"}}, \"header\": {\"fill\": {\"color\": \"#C8D4E3\"}, \"line\": {\"color\": \"white\"}}, \"type\": \"table\"}]}, \"layout\": {\"annotationdefaults\": {\"arrowcolor\": \"#2a3f5f\", \"arrowhead\": 0, \"arrowwidth\": 1}, \"colorscale\": {\"diverging\": [[0, \"#8e0152\"], [0.1, \"#c51b7d\"], [0.2, \"#de77ae\"], [0.3, \"#f1b6da\"], [0.4, \"#fde0ef\"], [0.5, \"#f7f7f7\"], [0.6, \"#e6f5d0\"], [0.7, \"#b8e186\"], [0.8, \"#7fbc41\"], [0.9, \"#4d9221\"], [1, \"#276419\"]], \"sequential\": [[0.0, \"#0d0887\"], [0.1111111111111111, \"#46039f\"], [0.2222222222222222, \"#7201a8\"], [0.3333333333333333, \"#9c179e\"], [0.4444444444444444, \"#bd3786\"], [0.5555555555555556, \"#d8576b\"], [0.6666666666666666, \"#ed7953\"], [0.7777777777777778, \"#fb9f3a\"], [0.8888888888888888, \"#fdca26\"], [1.0, \"#f0f921\"]], \"sequentialminus\": [[0.0, \"#0d0887\"], [0.1111111111111111, \"#46039f\"], [0.2222222222222222, \"#7201a8\"], [0.3333333333333333, \"#9c179e\"], [0.4444444444444444, \"#bd3786\"], [0.5555555555555556, \"#d8576b\"], [0.6666666666666666, \"#ed7953\"], [0.7777777777777778, \"#fb9f3a\"], [0.8888888888888888, \"#fdca26\"], [1.0, \"#f0f921\"]]}, \"colorway\": [\"#636efa\", \"#EF553B\", \"#00cc96\", \"#ab63fa\", \"#FFA15A\", \"#19d3f3\", \"#FF6692\", \"#B6E880\", \"#FF97FF\", \"#FECB52\"], \"font\": {\"color\": \"#2a3f5f\"}, \"geo\": {\"bgcolor\": \"white\", \"lakecolor\": \"white\", \"landcolor\": \"#E5ECF6\", \"showlakes\": true, \"showland\": true, \"subunitcolor\": \"white\"}, \"hoverlabel\": {\"align\": \"left\"}, \"hovermode\": \"closest\", \"mapbox\": {\"style\": \"light\"}, \"paper_bgcolor\": \"white\", \"plot_bgcolor\": \"#E5ECF6\", \"polar\": {\"angularaxis\": {\"gridcolor\": \"white\", \"linecolor\": \"white\", \"ticks\": \"\"}, \"bgcolor\": \"#E5ECF6\", \"radialaxis\": {\"gridcolor\": \"white\", \"linecolor\": \"white\", \"ticks\": \"\"}}, \"scene\": {\"xaxis\": {\"backgroundcolor\": \"#E5ECF6\", \"gridcolor\": \"white\", \"gridwidth\": 2, \"linecolor\": \"white\", \"showbackground\": true, \"ticks\": \"\", \"zerolinecolor\": \"white\"}, \"yaxis\": {\"backgroundcolor\": \"#E5ECF6\", \"gridcolor\": \"white\", \"gridwidth\": 2, \"linecolor\": \"white\", \"showbackground\": true, \"ticks\": \"\", \"zerolinecolor\": \"white\"}, \"zaxis\": {\"backgroundcolor\": \"#E5ECF6\", \"gridcolor\": \"white\", \"gridwidth\": 2, \"linecolor\": \"white\", \"showbackground\": true, \"ticks\": \"\", \"zerolinecolor\": \"white\"}}, \"shapedefaults\": {\"line\": {\"color\": \"#2a3f5f\"}}, \"ternary\": {\"aaxis\": {\"gridcolor\": \"white\", \"linecolor\": \"white\", \"ticks\": \"\"}, \"baxis\": {\"gridcolor\": \"white\", \"linecolor\": \"white\", \"ticks\": \"\"}, \"bgcolor\": \"#E5ECF6\", \"caxis\": {\"gridcolor\": \"white\", \"linecolor\": \"white\", \"ticks\": \"\"}}, \"title\": {\"x\": 0.05}, \"xaxis\": {\"automargin\": true, \"gridcolor\": \"white\", \"linecolor\": \"white\", \"ticks\": \"\", \"zerolinecolor\": \"white\", \"zerolinewidth\": 2}, \"yaxis\": {\"automargin\": true, \"gridcolor\": \"white\", \"linecolor\": \"white\", \"ticks\": \"\", \"zerolinecolor\": \"white\", \"zerolinewidth\": 2}}}, \"title\": {\"text\": \"sgsapp:abtest:8\"}},\n",
       "                        {\"responsive\": true}\n",
       "                    ).then(function(){\n",
       "                            \n",
       "var gd = document.getElementById('224cf5a4-9cb7-46be-ac8f-bea571816446');\n",
       "var x = new MutationObserver(function (mutations, observer) {{\n",
       "        var display = window.getComputedStyle(gd).display;\n",
       "        if (!display || display === 'none') {{\n",
       "            console.log([gd, 'removed!']);\n",
       "            Plotly.purge(gd);\n",
       "            observer.disconnect();\n",
       "        }}\n",
       "}});\n",
       "\n",
       "// Listen for the removal of the full notebook cells\n",
       "var notebookContainer = gd.closest('#notebook-container');\n",
       "if (notebookContainer) {{\n",
       "    x.observe(notebookContainer, {childList: true});\n",
       "}}\n",
       "\n",
       "// Listen for the clearing of the current output cell\n",
       "var outputEl = gd.closest('.output');\n",
       "if (outputEl) {{\n",
       "    x.observe(outputEl, {childList: true});\n",
       "}}\n",
       "\n",
       "                        })\n",
       "                };\n",
       "                });\n",
       "            </script>\n",
       "        </div>"
      ]
     },
     "metadata": {},
     "output_type": "display_data"
    }
   ],
   "source": [
    "show('total_total')"
   ]
  },
  {
   "cell_type": "code",
   "execution_count": 14,
   "metadata": {},
   "outputs": [
    {
     "data": {
      "application/vnd.plotly.v1+json": {
       "config": {
        "plotlyServerURL": "https://plot.ly"
       },
       "data": [
        {
         "name": "click",
         "type": "bar",
         "x": [
          "total_quality_total",
          "tuwen_quality_total",
          "video_quality_total"
         ],
         "y": [
          -0.0071224435116548695,
          -0.03636381204525915,
          0.004335528600987053
         ]
        },
        {
         "name": "click_user",
         "type": "bar",
         "x": [
          "total_quality_total",
          "tuwen_quality_total",
          "video_quality_total"
         ],
         "y": [
          -0.018642794045908163,
          -0.020268634181776695,
          -0.027500996412913512
         ]
        },
        {
         "name": "duration",
         "type": "bar",
         "x": [
          "total_quality_total",
          "tuwen_quality_total",
          "video_quality_total"
         ],
         "y": [
          -0.04380399317072857,
          -0.09949800479715297,
          0.020413049997572673
         ]
        },
        {
         "name": "ctr",
         "type": "bar",
         "x": [
          "total_quality_total",
          "tuwen_quality_total",
          "video_quality_total"
         ],
         "y": [
          0.0030124459895148003,
          -0.046251619906405,
          0.030493460882810876
         ]
        },
        {
         "name": "read_ratio",
         "type": "bar",
         "x": [
          "total_quality_total",
          "tuwen_quality_total",
          "video_quality_total"
         ],
         "y": [
          -0.013336791648740264,
          -0.014796429602366708,
          -0.022321533736320318
         ]
        },
        {
         "name": "dur1",
         "type": "bar",
         "x": [
          "total_quality_total",
          "tuwen_quality_total",
          "video_quality_total"
         ],
         "y": [
          -0.03867206536532002,
          -0.09447790982320187,
          0.0258094289079218
         ]
        },
        {
         "name": "dur2",
         "type": "bar",
         "x": [
          "total_quality_total",
          "tuwen_quality_total",
          "video_quality_total"
         ],
         "y": [
          -0.025684134544976502,
          -0.08089499171291978,
          0.049199940560991175
         ]
        },
        {
         "name": "doc_dur",
         "type": "bar",
         "x": [
          "total_quality_total",
          "tuwen_quality_total",
          "video_quality_total"
         ],
         "y": [
          -0.037091703256376625,
          -0.06555005805669523,
          0.015629298981841202
         ]
        },
        {
         "name": "refresh",
         "type": "bar",
         "x": [
          "total_quality_total",
          "tuwen_quality_total",
          "video_quality_total"
         ],
         "y": [
          0.008578103538884265,
          0.001973422353351668,
          0.07256506145315816
         ]
        },
        {
         "name": "refresh2",
         "type": "bar",
         "x": [
          "total_quality_total",
          "tuwen_quality_total",
          "video_quality_total"
         ],
         "y": [
          0.0222014371507306,
          0.017003105303382927,
          0.09709267972057388
         ]
        },
        {
         "name": "refresh_times",
         "type": "bar",
         "x": [
          "total_quality_total",
          "tuwen_quality_total",
          "video_quality_total"
         ],
         "y": [
          0.0031767740007199725,
          -0.0035950951242736937,
          0.06702425460762403
         ]
        },
        {
         "name": "praise",
         "type": "bar",
         "x": [
          "total_quality_total",
          "tuwen_quality_total",
          "video_quality_total"
         ],
         "y": [
          -0.06642690924476416,
          -0.04190260475651183,
          -0.03856749311294766
         ]
        },
        {
         "name": "favor",
         "type": "bar",
         "x": [
          "total_quality_total",
          "tuwen_quality_total",
          "video_quality_total"
         ],
         "y": [
          -0.18099849724494904,
          -0.17492654260528898,
          -0.21192443919716641
         ]
        }
       ],
       "layout": {
        "barmode": "group",
        "template": {
         "data": {
          "bar": [
           {
            "error_x": {
             "color": "#2a3f5f"
            },
            "error_y": {
             "color": "#2a3f5f"
            },
            "marker": {
             "line": {
              "color": "#E5ECF6",
              "width": 0.5
             }
            },
            "type": "bar"
           }
          ],
          "barpolar": [
           {
            "marker": {
             "line": {
              "color": "#E5ECF6",
              "width": 0.5
             }
            },
            "type": "barpolar"
           }
          ],
          "carpet": [
           {
            "aaxis": {
             "endlinecolor": "#2a3f5f",
             "gridcolor": "white",
             "linecolor": "white",
             "minorgridcolor": "white",
             "startlinecolor": "#2a3f5f"
            },
            "baxis": {
             "endlinecolor": "#2a3f5f",
             "gridcolor": "white",
             "linecolor": "white",
             "minorgridcolor": "white",
             "startlinecolor": "#2a3f5f"
            },
            "type": "carpet"
           }
          ],
          "choropleth": [
           {
            "colorbar": {
             "outlinewidth": 0,
             "ticks": ""
            },
            "type": "choropleth"
           }
          ],
          "contour": [
           {
            "colorbar": {
             "outlinewidth": 0,
             "ticks": ""
            },
            "colorscale": [
             [
              0,
              "#0d0887"
             ],
             [
              0.1111111111111111,
              "#46039f"
             ],
             [
              0.2222222222222222,
              "#7201a8"
             ],
             [
              0.3333333333333333,
              "#9c179e"
             ],
             [
              0.4444444444444444,
              "#bd3786"
             ],
             [
              0.5555555555555556,
              "#d8576b"
             ],
             [
              0.6666666666666666,
              "#ed7953"
             ],
             [
              0.7777777777777778,
              "#fb9f3a"
             ],
             [
              0.8888888888888888,
              "#fdca26"
             ],
             [
              1,
              "#f0f921"
             ]
            ],
            "type": "contour"
           }
          ],
          "contourcarpet": [
           {
            "colorbar": {
             "outlinewidth": 0,
             "ticks": ""
            },
            "type": "contourcarpet"
           }
          ],
          "heatmap": [
           {
            "colorbar": {
             "outlinewidth": 0,
             "ticks": ""
            },
            "colorscale": [
             [
              0,
              "#0d0887"
             ],
             [
              0.1111111111111111,
              "#46039f"
             ],
             [
              0.2222222222222222,
              "#7201a8"
             ],
             [
              0.3333333333333333,
              "#9c179e"
             ],
             [
              0.4444444444444444,
              "#bd3786"
             ],
             [
              0.5555555555555556,
              "#d8576b"
             ],
             [
              0.6666666666666666,
              "#ed7953"
             ],
             [
              0.7777777777777778,
              "#fb9f3a"
             ],
             [
              0.8888888888888888,
              "#fdca26"
             ],
             [
              1,
              "#f0f921"
             ]
            ],
            "type": "heatmap"
           }
          ],
          "heatmapgl": [
           {
            "colorbar": {
             "outlinewidth": 0,
             "ticks": ""
            },
            "colorscale": [
             [
              0,
              "#0d0887"
             ],
             [
              0.1111111111111111,
              "#46039f"
             ],
             [
              0.2222222222222222,
              "#7201a8"
             ],
             [
              0.3333333333333333,
              "#9c179e"
             ],
             [
              0.4444444444444444,
              "#bd3786"
             ],
             [
              0.5555555555555556,
              "#d8576b"
             ],
             [
              0.6666666666666666,
              "#ed7953"
             ],
             [
              0.7777777777777778,
              "#fb9f3a"
             ],
             [
              0.8888888888888888,
              "#fdca26"
             ],
             [
              1,
              "#f0f921"
             ]
            ],
            "type": "heatmapgl"
           }
          ],
          "histogram": [
           {
            "marker": {
             "colorbar": {
              "outlinewidth": 0,
              "ticks": ""
             }
            },
            "type": "histogram"
           }
          ],
          "histogram2d": [
           {
            "colorbar": {
             "outlinewidth": 0,
             "ticks": ""
            },
            "colorscale": [
             [
              0,
              "#0d0887"
             ],
             [
              0.1111111111111111,
              "#46039f"
             ],
             [
              0.2222222222222222,
              "#7201a8"
             ],
             [
              0.3333333333333333,
              "#9c179e"
             ],
             [
              0.4444444444444444,
              "#bd3786"
             ],
             [
              0.5555555555555556,
              "#d8576b"
             ],
             [
              0.6666666666666666,
              "#ed7953"
             ],
             [
              0.7777777777777778,
              "#fb9f3a"
             ],
             [
              0.8888888888888888,
              "#fdca26"
             ],
             [
              1,
              "#f0f921"
             ]
            ],
            "type": "histogram2d"
           }
          ],
          "histogram2dcontour": [
           {
            "colorbar": {
             "outlinewidth": 0,
             "ticks": ""
            },
            "colorscale": [
             [
              0,
              "#0d0887"
             ],
             [
              0.1111111111111111,
              "#46039f"
             ],
             [
              0.2222222222222222,
              "#7201a8"
             ],
             [
              0.3333333333333333,
              "#9c179e"
             ],
             [
              0.4444444444444444,
              "#bd3786"
             ],
             [
              0.5555555555555556,
              "#d8576b"
             ],
             [
              0.6666666666666666,
              "#ed7953"
             ],
             [
              0.7777777777777778,
              "#fb9f3a"
             ],
             [
              0.8888888888888888,
              "#fdca26"
             ],
             [
              1,
              "#f0f921"
             ]
            ],
            "type": "histogram2dcontour"
           }
          ],
          "mesh3d": [
           {
            "colorbar": {
             "outlinewidth": 0,
             "ticks": ""
            },
            "type": "mesh3d"
           }
          ],
          "parcoords": [
           {
            "line": {
             "colorbar": {
              "outlinewidth": 0,
              "ticks": ""
             }
            },
            "type": "parcoords"
           }
          ],
          "scatter": [
           {
            "marker": {
             "colorbar": {
              "outlinewidth": 0,
              "ticks": ""
             }
            },
            "type": "scatter"
           }
          ],
          "scatter3d": [
           {
            "line": {
             "colorbar": {
              "outlinewidth": 0,
              "ticks": ""
             }
            },
            "marker": {
             "colorbar": {
              "outlinewidth": 0,
              "ticks": ""
             }
            },
            "type": "scatter3d"
           }
          ],
          "scattercarpet": [
           {
            "marker": {
             "colorbar": {
              "outlinewidth": 0,
              "ticks": ""
             }
            },
            "type": "scattercarpet"
           }
          ],
          "scattergeo": [
           {
            "marker": {
             "colorbar": {
              "outlinewidth": 0,
              "ticks": ""
             }
            },
            "type": "scattergeo"
           }
          ],
          "scattergl": [
           {
            "marker": {
             "colorbar": {
              "outlinewidth": 0,
              "ticks": ""
             }
            },
            "type": "scattergl"
           }
          ],
          "scattermapbox": [
           {
            "marker": {
             "colorbar": {
              "outlinewidth": 0,
              "ticks": ""
             }
            },
            "type": "scattermapbox"
           }
          ],
          "scatterpolar": [
           {
            "marker": {
             "colorbar": {
              "outlinewidth": 0,
              "ticks": ""
             }
            },
            "type": "scatterpolar"
           }
          ],
          "scatterpolargl": [
           {
            "marker": {
             "colorbar": {
              "outlinewidth": 0,
              "ticks": ""
             }
            },
            "type": "scatterpolargl"
           }
          ],
          "scatterternary": [
           {
            "marker": {
             "colorbar": {
              "outlinewidth": 0,
              "ticks": ""
             }
            },
            "type": "scatterternary"
           }
          ],
          "surface": [
           {
            "colorbar": {
             "outlinewidth": 0,
             "ticks": ""
            },
            "colorscale": [
             [
              0,
              "#0d0887"
             ],
             [
              0.1111111111111111,
              "#46039f"
             ],
             [
              0.2222222222222222,
              "#7201a8"
             ],
             [
              0.3333333333333333,
              "#9c179e"
             ],
             [
              0.4444444444444444,
              "#bd3786"
             ],
             [
              0.5555555555555556,
              "#d8576b"
             ],
             [
              0.6666666666666666,
              "#ed7953"
             ],
             [
              0.7777777777777778,
              "#fb9f3a"
             ],
             [
              0.8888888888888888,
              "#fdca26"
             ],
             [
              1,
              "#f0f921"
             ]
            ],
            "type": "surface"
           }
          ],
          "table": [
           {
            "cells": {
             "fill": {
              "color": "#EBF0F8"
             },
             "line": {
              "color": "white"
             }
            },
            "header": {
             "fill": {
              "color": "#C8D4E3"
             },
             "line": {
              "color": "white"
             }
            },
            "type": "table"
           }
          ]
         },
         "layout": {
          "annotationdefaults": {
           "arrowcolor": "#2a3f5f",
           "arrowhead": 0,
           "arrowwidth": 1
          },
          "colorscale": {
           "diverging": [
            [
             0,
             "#8e0152"
            ],
            [
             0.1,
             "#c51b7d"
            ],
            [
             0.2,
             "#de77ae"
            ],
            [
             0.3,
             "#f1b6da"
            ],
            [
             0.4,
             "#fde0ef"
            ],
            [
             0.5,
             "#f7f7f7"
            ],
            [
             0.6,
             "#e6f5d0"
            ],
            [
             0.7,
             "#b8e186"
            ],
            [
             0.8,
             "#7fbc41"
            ],
            [
             0.9,
             "#4d9221"
            ],
            [
             1,
             "#276419"
            ]
           ],
           "sequential": [
            [
             0,
             "#0d0887"
            ],
            [
             0.1111111111111111,
             "#46039f"
            ],
            [
             0.2222222222222222,
             "#7201a8"
            ],
            [
             0.3333333333333333,
             "#9c179e"
            ],
            [
             0.4444444444444444,
             "#bd3786"
            ],
            [
             0.5555555555555556,
             "#d8576b"
            ],
            [
             0.6666666666666666,
             "#ed7953"
            ],
            [
             0.7777777777777778,
             "#fb9f3a"
            ],
            [
             0.8888888888888888,
             "#fdca26"
            ],
            [
             1,
             "#f0f921"
            ]
           ],
           "sequentialminus": [
            [
             0,
             "#0d0887"
            ],
            [
             0.1111111111111111,
             "#46039f"
            ],
            [
             0.2222222222222222,
             "#7201a8"
            ],
            [
             0.3333333333333333,
             "#9c179e"
            ],
            [
             0.4444444444444444,
             "#bd3786"
            ],
            [
             0.5555555555555556,
             "#d8576b"
            ],
            [
             0.6666666666666666,
             "#ed7953"
            ],
            [
             0.7777777777777778,
             "#fb9f3a"
            ],
            [
             0.8888888888888888,
             "#fdca26"
            ],
            [
             1,
             "#f0f921"
            ]
           ]
          },
          "colorway": [
           "#636efa",
           "#EF553B",
           "#00cc96",
           "#ab63fa",
           "#FFA15A",
           "#19d3f3",
           "#FF6692",
           "#B6E880",
           "#FF97FF",
           "#FECB52"
          ],
          "font": {
           "color": "#2a3f5f"
          },
          "geo": {
           "bgcolor": "white",
           "lakecolor": "white",
           "landcolor": "#E5ECF6",
           "showlakes": true,
           "showland": true,
           "subunitcolor": "white"
          },
          "hoverlabel": {
           "align": "left"
          },
          "hovermode": "closest",
          "mapbox": {
           "style": "light"
          },
          "paper_bgcolor": "white",
          "plot_bgcolor": "#E5ECF6",
          "polar": {
           "angularaxis": {
            "gridcolor": "white",
            "linecolor": "white",
            "ticks": ""
           },
           "bgcolor": "#E5ECF6",
           "radialaxis": {
            "gridcolor": "white",
            "linecolor": "white",
            "ticks": ""
           }
          },
          "scene": {
           "xaxis": {
            "backgroundcolor": "#E5ECF6",
            "gridcolor": "white",
            "gridwidth": 2,
            "linecolor": "white",
            "showbackground": true,
            "ticks": "",
            "zerolinecolor": "white"
           },
           "yaxis": {
            "backgroundcolor": "#E5ECF6",
            "gridcolor": "white",
            "gridwidth": 2,
            "linecolor": "white",
            "showbackground": true,
            "ticks": "",
            "zerolinecolor": "white"
           },
           "zaxis": {
            "backgroundcolor": "#E5ECF6",
            "gridcolor": "white",
            "gridwidth": 2,
            "linecolor": "white",
            "showbackground": true,
            "ticks": "",
            "zerolinecolor": "white"
           }
          },
          "shapedefaults": {
           "line": {
            "color": "#2a3f5f"
           }
          },
          "ternary": {
           "aaxis": {
            "gridcolor": "white",
            "linecolor": "white",
            "ticks": ""
           },
           "baxis": {
            "gridcolor": "white",
            "linecolor": "white",
            "ticks": ""
           },
           "bgcolor": "#E5ECF6",
           "caxis": {
            "gridcolor": "white",
            "linecolor": "white",
            "ticks": ""
           }
          },
          "title": {
           "x": 0.05
          },
          "xaxis": {
           "automargin": true,
           "gridcolor": "white",
           "linecolor": "white",
           "ticks": "",
           "zerolinecolor": "white",
           "zerolinewidth": 2
          },
          "yaxis": {
           "automargin": true,
           "gridcolor": "white",
           "linecolor": "white",
           "ticks": "",
           "zerolinecolor": "white",
           "zerolinewidth": 2
          }
         }
        },
        "title": {
         "text": "sgsapp:abtest:16"
        }
       }
      },
      "text/html": [
       "<div>\n",
       "        \n",
       "        \n",
       "            <div id=\"66980021-20aa-45cb-85b1-97fc636c6b35\" class=\"plotly-graph-div\" style=\"height:525px; width:100%;\"></div>\n",
       "            <script type=\"text/javascript\">\n",
       "                require([\"plotly\"], function(Plotly) {\n",
       "                    window.PLOTLYENV=window.PLOTLYENV || {};\n",
       "                    \n",
       "                if (document.getElementById(\"66980021-20aa-45cb-85b1-97fc636c6b35\")) {\n",
       "                    Plotly.newPlot(\n",
       "                        '66980021-20aa-45cb-85b1-97fc636c6b35',\n",
       "                        [{\"name\": \"click\", \"type\": \"bar\", \"x\": [\"total_quality_total\", \"tuwen_quality_total\", \"video_quality_total\"], \"y\": [-0.0071224435116548695, -0.03636381204525915, 0.004335528600987053]}, {\"name\": \"click_user\", \"type\": \"bar\", \"x\": [\"total_quality_total\", \"tuwen_quality_total\", \"video_quality_total\"], \"y\": [-0.018642794045908163, -0.020268634181776695, -0.027500996412913512]}, {\"name\": \"duration\", \"type\": \"bar\", \"x\": [\"total_quality_total\", \"tuwen_quality_total\", \"video_quality_total\"], \"y\": [-0.04380399317072857, -0.09949800479715297, 0.020413049997572673]}, {\"name\": \"ctr\", \"type\": \"bar\", \"x\": [\"total_quality_total\", \"tuwen_quality_total\", \"video_quality_total\"], \"y\": [0.0030124459895148003, -0.046251619906405, 0.030493460882810876]}, {\"name\": \"read_ratio\", \"type\": \"bar\", \"x\": [\"total_quality_total\", \"tuwen_quality_total\", \"video_quality_total\"], \"y\": [-0.013336791648740264, -0.014796429602366708, -0.022321533736320318]}, {\"name\": \"dur1\", \"type\": \"bar\", \"x\": [\"total_quality_total\", \"tuwen_quality_total\", \"video_quality_total\"], \"y\": [-0.03867206536532002, -0.09447790982320187, 0.0258094289079218]}, {\"name\": \"dur2\", \"type\": \"bar\", \"x\": [\"total_quality_total\", \"tuwen_quality_total\", \"video_quality_total\"], \"y\": [-0.025684134544976502, -0.08089499171291978, 0.049199940560991175]}, {\"name\": \"doc_dur\", \"type\": \"bar\", \"x\": [\"total_quality_total\", \"tuwen_quality_total\", \"video_quality_total\"], \"y\": [-0.037091703256376625, -0.06555005805669523, 0.015629298981841202]}, {\"name\": \"refresh\", \"type\": \"bar\", \"x\": [\"total_quality_total\", \"tuwen_quality_total\", \"video_quality_total\"], \"y\": [0.008578103538884265, 0.001973422353351668, 0.07256506145315816]}, {\"name\": \"refresh2\", \"type\": \"bar\", \"x\": [\"total_quality_total\", \"tuwen_quality_total\", \"video_quality_total\"], \"y\": [0.0222014371507306, 0.017003105303382927, 0.09709267972057388]}, {\"name\": \"refresh_times\", \"type\": \"bar\", \"x\": [\"total_quality_total\", \"tuwen_quality_total\", \"video_quality_total\"], \"y\": [0.0031767740007199725, -0.0035950951242736937, 0.06702425460762403]}, {\"name\": \"praise\", \"type\": \"bar\", \"x\": [\"total_quality_total\", \"tuwen_quality_total\", \"video_quality_total\"], \"y\": [-0.06642690924476416, -0.04190260475651183, -0.03856749311294766]}, {\"name\": \"favor\", \"type\": \"bar\", \"x\": [\"total_quality_total\", \"tuwen_quality_total\", \"video_quality_total\"], \"y\": [-0.18099849724494904, -0.17492654260528898, -0.21192443919716641]}],\n",
       "                        {\"barmode\": \"group\", \"template\": {\"data\": {\"bar\": [{\"error_x\": {\"color\": \"#2a3f5f\"}, \"error_y\": {\"color\": \"#2a3f5f\"}, \"marker\": {\"line\": {\"color\": \"#E5ECF6\", \"width\": 0.5}}, \"type\": \"bar\"}], \"barpolar\": [{\"marker\": {\"line\": {\"color\": \"#E5ECF6\", \"width\": 0.5}}, \"type\": \"barpolar\"}], \"carpet\": [{\"aaxis\": {\"endlinecolor\": \"#2a3f5f\", \"gridcolor\": \"white\", \"linecolor\": \"white\", \"minorgridcolor\": \"white\", \"startlinecolor\": \"#2a3f5f\"}, \"baxis\": {\"endlinecolor\": \"#2a3f5f\", \"gridcolor\": \"white\", \"linecolor\": \"white\", \"minorgridcolor\": \"white\", \"startlinecolor\": \"#2a3f5f\"}, \"type\": \"carpet\"}], \"choropleth\": [{\"colorbar\": {\"outlinewidth\": 0, \"ticks\": \"\"}, \"type\": \"choropleth\"}], \"contour\": [{\"colorbar\": {\"outlinewidth\": 0, \"ticks\": \"\"}, \"colorscale\": [[0.0, \"#0d0887\"], [0.1111111111111111, \"#46039f\"], [0.2222222222222222, \"#7201a8\"], [0.3333333333333333, \"#9c179e\"], [0.4444444444444444, \"#bd3786\"], [0.5555555555555556, \"#d8576b\"], [0.6666666666666666, \"#ed7953\"], [0.7777777777777778, \"#fb9f3a\"], [0.8888888888888888, \"#fdca26\"], [1.0, \"#f0f921\"]], \"type\": \"contour\"}], \"contourcarpet\": [{\"colorbar\": {\"outlinewidth\": 0, \"ticks\": \"\"}, \"type\": \"contourcarpet\"}], \"heatmap\": [{\"colorbar\": {\"outlinewidth\": 0, \"ticks\": \"\"}, \"colorscale\": [[0.0, \"#0d0887\"], [0.1111111111111111, \"#46039f\"], [0.2222222222222222, \"#7201a8\"], [0.3333333333333333, \"#9c179e\"], [0.4444444444444444, \"#bd3786\"], [0.5555555555555556, \"#d8576b\"], [0.6666666666666666, \"#ed7953\"], [0.7777777777777778, \"#fb9f3a\"], [0.8888888888888888, \"#fdca26\"], [1.0, \"#f0f921\"]], \"type\": \"heatmap\"}], \"heatmapgl\": [{\"colorbar\": {\"outlinewidth\": 0, \"ticks\": \"\"}, \"colorscale\": [[0.0, \"#0d0887\"], [0.1111111111111111, \"#46039f\"], [0.2222222222222222, \"#7201a8\"], [0.3333333333333333, \"#9c179e\"], [0.4444444444444444, \"#bd3786\"], [0.5555555555555556, \"#d8576b\"], [0.6666666666666666, \"#ed7953\"], [0.7777777777777778, \"#fb9f3a\"], [0.8888888888888888, \"#fdca26\"], [1.0, \"#f0f921\"]], \"type\": \"heatmapgl\"}], \"histogram\": [{\"marker\": {\"colorbar\": {\"outlinewidth\": 0, \"ticks\": \"\"}}, \"type\": \"histogram\"}], \"histogram2d\": [{\"colorbar\": {\"outlinewidth\": 0, \"ticks\": \"\"}, \"colorscale\": [[0.0, \"#0d0887\"], [0.1111111111111111, \"#46039f\"], [0.2222222222222222, \"#7201a8\"], [0.3333333333333333, \"#9c179e\"], [0.4444444444444444, \"#bd3786\"], [0.5555555555555556, \"#d8576b\"], [0.6666666666666666, \"#ed7953\"], [0.7777777777777778, \"#fb9f3a\"], [0.8888888888888888, \"#fdca26\"], [1.0, \"#f0f921\"]], \"type\": \"histogram2d\"}], \"histogram2dcontour\": [{\"colorbar\": {\"outlinewidth\": 0, \"ticks\": \"\"}, \"colorscale\": [[0.0, \"#0d0887\"], [0.1111111111111111, \"#46039f\"], [0.2222222222222222, \"#7201a8\"], [0.3333333333333333, \"#9c179e\"], [0.4444444444444444, \"#bd3786\"], [0.5555555555555556, \"#d8576b\"], [0.6666666666666666, \"#ed7953\"], [0.7777777777777778, \"#fb9f3a\"], [0.8888888888888888, \"#fdca26\"], [1.0, \"#f0f921\"]], \"type\": \"histogram2dcontour\"}], \"mesh3d\": [{\"colorbar\": {\"outlinewidth\": 0, \"ticks\": \"\"}, \"type\": \"mesh3d\"}], \"parcoords\": [{\"line\": {\"colorbar\": {\"outlinewidth\": 0, \"ticks\": \"\"}}, \"type\": \"parcoords\"}], \"scatter\": [{\"marker\": {\"colorbar\": {\"outlinewidth\": 0, \"ticks\": \"\"}}, \"type\": \"scatter\"}], \"scatter3d\": [{\"line\": {\"colorbar\": {\"outlinewidth\": 0, \"ticks\": \"\"}}, \"marker\": {\"colorbar\": {\"outlinewidth\": 0, \"ticks\": \"\"}}, \"type\": \"scatter3d\"}], \"scattercarpet\": [{\"marker\": {\"colorbar\": {\"outlinewidth\": 0, \"ticks\": \"\"}}, \"type\": \"scattercarpet\"}], \"scattergeo\": [{\"marker\": {\"colorbar\": {\"outlinewidth\": 0, \"ticks\": \"\"}}, \"type\": \"scattergeo\"}], \"scattergl\": [{\"marker\": {\"colorbar\": {\"outlinewidth\": 0, \"ticks\": \"\"}}, \"type\": \"scattergl\"}], \"scattermapbox\": [{\"marker\": {\"colorbar\": {\"outlinewidth\": 0, \"ticks\": \"\"}}, \"type\": \"scattermapbox\"}], \"scatterpolar\": [{\"marker\": {\"colorbar\": {\"outlinewidth\": 0, \"ticks\": \"\"}}, \"type\": \"scatterpolar\"}], \"scatterpolargl\": [{\"marker\": {\"colorbar\": {\"outlinewidth\": 0, \"ticks\": \"\"}}, \"type\": \"scatterpolargl\"}], \"scatterternary\": [{\"marker\": {\"colorbar\": {\"outlinewidth\": 0, \"ticks\": \"\"}}, \"type\": \"scatterternary\"}], \"surface\": [{\"colorbar\": {\"outlinewidth\": 0, \"ticks\": \"\"}, \"colorscale\": [[0.0, \"#0d0887\"], [0.1111111111111111, \"#46039f\"], [0.2222222222222222, \"#7201a8\"], [0.3333333333333333, \"#9c179e\"], [0.4444444444444444, \"#bd3786\"], [0.5555555555555556, \"#d8576b\"], [0.6666666666666666, \"#ed7953\"], [0.7777777777777778, \"#fb9f3a\"], [0.8888888888888888, \"#fdca26\"], [1.0, \"#f0f921\"]], \"type\": \"surface\"}], \"table\": [{\"cells\": {\"fill\": {\"color\": \"#EBF0F8\"}, \"line\": {\"color\": \"white\"}}, \"header\": {\"fill\": {\"color\": \"#C8D4E3\"}, \"line\": {\"color\": \"white\"}}, \"type\": \"table\"}]}, \"layout\": {\"annotationdefaults\": {\"arrowcolor\": \"#2a3f5f\", \"arrowhead\": 0, \"arrowwidth\": 1}, \"colorscale\": {\"diverging\": [[0, \"#8e0152\"], [0.1, \"#c51b7d\"], [0.2, \"#de77ae\"], [0.3, \"#f1b6da\"], [0.4, \"#fde0ef\"], [0.5, \"#f7f7f7\"], [0.6, \"#e6f5d0\"], [0.7, \"#b8e186\"], [0.8, \"#7fbc41\"], [0.9, \"#4d9221\"], [1, \"#276419\"]], \"sequential\": [[0.0, \"#0d0887\"], [0.1111111111111111, \"#46039f\"], [0.2222222222222222, \"#7201a8\"], [0.3333333333333333, \"#9c179e\"], [0.4444444444444444, \"#bd3786\"], [0.5555555555555556, \"#d8576b\"], [0.6666666666666666, \"#ed7953\"], [0.7777777777777778, \"#fb9f3a\"], [0.8888888888888888, \"#fdca26\"], [1.0, \"#f0f921\"]], \"sequentialminus\": [[0.0, \"#0d0887\"], [0.1111111111111111, \"#46039f\"], [0.2222222222222222, \"#7201a8\"], [0.3333333333333333, \"#9c179e\"], [0.4444444444444444, \"#bd3786\"], [0.5555555555555556, \"#d8576b\"], [0.6666666666666666, \"#ed7953\"], [0.7777777777777778, \"#fb9f3a\"], [0.8888888888888888, \"#fdca26\"], [1.0, \"#f0f921\"]]}, \"colorway\": [\"#636efa\", \"#EF553B\", \"#00cc96\", \"#ab63fa\", \"#FFA15A\", \"#19d3f3\", \"#FF6692\", \"#B6E880\", \"#FF97FF\", \"#FECB52\"], \"font\": {\"color\": \"#2a3f5f\"}, \"geo\": {\"bgcolor\": \"white\", \"lakecolor\": \"white\", \"landcolor\": \"#E5ECF6\", \"showlakes\": true, \"showland\": true, \"subunitcolor\": \"white\"}, \"hoverlabel\": {\"align\": \"left\"}, \"hovermode\": \"closest\", \"mapbox\": {\"style\": \"light\"}, \"paper_bgcolor\": \"white\", \"plot_bgcolor\": \"#E5ECF6\", \"polar\": {\"angularaxis\": {\"gridcolor\": \"white\", \"linecolor\": \"white\", \"ticks\": \"\"}, \"bgcolor\": \"#E5ECF6\", \"radialaxis\": {\"gridcolor\": \"white\", \"linecolor\": \"white\", \"ticks\": \"\"}}, \"scene\": {\"xaxis\": {\"backgroundcolor\": \"#E5ECF6\", \"gridcolor\": \"white\", \"gridwidth\": 2, \"linecolor\": \"white\", \"showbackground\": true, \"ticks\": \"\", \"zerolinecolor\": \"white\"}, \"yaxis\": {\"backgroundcolor\": \"#E5ECF6\", \"gridcolor\": \"white\", \"gridwidth\": 2, \"linecolor\": \"white\", \"showbackground\": true, \"ticks\": \"\", \"zerolinecolor\": \"white\"}, \"zaxis\": {\"backgroundcolor\": \"#E5ECF6\", \"gridcolor\": \"white\", \"gridwidth\": 2, \"linecolor\": \"white\", \"showbackground\": true, \"ticks\": \"\", \"zerolinecolor\": \"white\"}}, \"shapedefaults\": {\"line\": {\"color\": \"#2a3f5f\"}}, \"ternary\": {\"aaxis\": {\"gridcolor\": \"white\", \"linecolor\": \"white\", \"ticks\": \"\"}, \"baxis\": {\"gridcolor\": \"white\", \"linecolor\": \"white\", \"ticks\": \"\"}, \"bgcolor\": \"#E5ECF6\", \"caxis\": {\"gridcolor\": \"white\", \"linecolor\": \"white\", \"ticks\": \"\"}}, \"title\": {\"x\": 0.05}, \"xaxis\": {\"automargin\": true, \"gridcolor\": \"white\", \"linecolor\": \"white\", \"ticks\": \"\", \"zerolinecolor\": \"white\", \"zerolinewidth\": 2}, \"yaxis\": {\"automargin\": true, \"gridcolor\": \"white\", \"linecolor\": \"white\", \"ticks\": \"\", \"zerolinecolor\": \"white\", \"zerolinewidth\": 2}}}, \"title\": {\"text\": \"sgsapp:abtest:16\"}},\n",
       "                        {\"responsive\": true}\n",
       "                    ).then(function(){\n",
       "                            \n",
       "var gd = document.getElementById('66980021-20aa-45cb-85b1-97fc636c6b35');\n",
       "var x = new MutationObserver(function (mutations, observer) {{\n",
       "        var display = window.getComputedStyle(gd).display;\n",
       "        if (!display || display === 'none') {{\n",
       "            console.log([gd, 'removed!']);\n",
       "            Plotly.purge(gd);\n",
       "            observer.disconnect();\n",
       "        }}\n",
       "}});\n",
       "\n",
       "// Listen for the removal of the full notebook cells\n",
       "var notebookContainer = gd.closest('#notebook-container');\n",
       "if (notebookContainer) {{\n",
       "    x.observe(notebookContainer, {childList: true});\n",
       "}}\n",
       "\n",
       "// Listen for the clearing of the current output cell\n",
       "var outputEl = gd.closest('.output');\n",
       "if (outputEl) {{\n",
       "    x.observe(outputEl, {childList: true});\n",
       "}}\n",
       "\n",
       "                        })\n",
       "                };\n",
       "                });\n",
       "            </script>\n",
       "        </div>"
      ]
     },
     "metadata": {},
     "output_type": "display_data"
    },
    {
     "data": {
      "application/vnd.plotly.v1+json": {
       "config": {
        "plotlyServerURL": "https://plot.ly"
       },
       "data": [
        {
         "name": "click",
         "type": "bar",
         "x": [
          "total_quality_total",
          "tuwen_quality_total",
          "video_quality_total"
         ],
         "y": [
          -0.05248911210460781,
          -0.09099359376962698,
          -0.049774914864620094
         ]
        },
        {
         "name": "click_user",
         "type": "bar",
         "x": [
          "total_quality_total",
          "tuwen_quality_total",
          "video_quality_total"
         ],
         "y": [
          -0.022479465239231566,
          -0.025951828165282614,
          -0.03138700677560781
         ]
        },
        {
         "name": "duration",
         "type": "bar",
         "x": [
          "total_quality_total",
          "tuwen_quality_total",
          "video_quality_total"
         ],
         "y": [
          -0.010954917734107896,
          -0.017293507216101397,
          -0.00596425459407952
         ]
        },
        {
         "name": "ctr",
         "type": "bar",
         "x": [
          "total_quality_total",
          "tuwen_quality_total",
          "video_quality_total"
         ],
         "y": [
          -0.01838211517859164,
          -0.07143084446523253,
          -0.00013114826910771884
         ]
        },
        {
         "name": "read_ratio",
         "type": "bar",
         "x": [
          "total_quality_total",
          "tuwen_quality_total",
          "video_quality_total"
         ],
         "y": [
          -0.023113168674824634,
          -0.0270771938212579,
          -0.031983852352407666
         ]
        },
        {
         "name": "dur1",
         "type": "bar",
         "x": [
          "total_quality_total",
          "tuwen_quality_total",
          "video_quality_total"
         ],
         "y": [
          -0.011635194934569085,
          -0.018439261604763862,
          -0.006613826345712147
         ]
        },
        {
         "name": "dur2",
         "type": "bar",
         "x": [
          "total_quality_total",
          "tuwen_quality_total",
          "video_quality_total"
         ],
         "y": [
          0.011742894710093824,
          0.008859888582561119,
          0.02617901577535098
         ]
        },
        {
         "name": "doc_dur",
         "type": "bar",
         "x": [
          "total_quality_total",
          "tuwen_quality_total",
          "video_quality_total"
         ],
         "y": [
          0.043675708871522265,
          0.0810389562514288,
          0.04571552002744355
         ]
        },
        {
         "name": "refresh",
         "type": "bar",
         "x": [
          "total_quality_total",
          "tuwen_quality_total",
          "video_quality_total"
         ],
         "y": [
          -0.013451879232436743,
          -0.024165330466468144,
          0.05467988121830085
         ]
        },
        {
         "name": "refresh2",
         "type": "bar",
         "x": [
          "total_quality_total",
          "tuwen_quality_total",
          "video_quality_total"
         ],
         "y": [
          0.009880309405633418,
          0.002974552207805743,
          0.0895665979751927
         ]
        },
        {
         "name": "refresh_times",
         "type": "bar",
         "x": [
          "total_quality_total",
          "tuwen_quality_total",
          "video_quality_total"
         ],
         "y": [
          -0.012789741940888973,
          -0.02303970150993995,
          0.05546996824919691
         ]
        },
        {
         "name": "praise",
         "type": "bar",
         "x": [
          "total_quality_total",
          "tuwen_quality_total",
          "video_quality_total"
         ],
         "y": [
          -0.0822932092236091,
          -0.04360135900339745,
          -0.2231404958677686
         ]
        },
        {
         "name": "favor",
         "type": "bar",
         "x": [
          "total_quality_total",
          "tuwen_quality_total",
          "video_quality_total"
         ],
         "y": [
          -0.14618467189848053,
          -0.11439764936336928,
          -0.3146399055489964
         ]
        }
       ],
       "layout": {
        "barmode": "group",
        "template": {
         "data": {
          "bar": [
           {
            "error_x": {
             "color": "#2a3f5f"
            },
            "error_y": {
             "color": "#2a3f5f"
            },
            "marker": {
             "line": {
              "color": "#E5ECF6",
              "width": 0.5
             }
            },
            "type": "bar"
           }
          ],
          "barpolar": [
           {
            "marker": {
             "line": {
              "color": "#E5ECF6",
              "width": 0.5
             }
            },
            "type": "barpolar"
           }
          ],
          "carpet": [
           {
            "aaxis": {
             "endlinecolor": "#2a3f5f",
             "gridcolor": "white",
             "linecolor": "white",
             "minorgridcolor": "white",
             "startlinecolor": "#2a3f5f"
            },
            "baxis": {
             "endlinecolor": "#2a3f5f",
             "gridcolor": "white",
             "linecolor": "white",
             "minorgridcolor": "white",
             "startlinecolor": "#2a3f5f"
            },
            "type": "carpet"
           }
          ],
          "choropleth": [
           {
            "colorbar": {
             "outlinewidth": 0,
             "ticks": ""
            },
            "type": "choropleth"
           }
          ],
          "contour": [
           {
            "colorbar": {
             "outlinewidth": 0,
             "ticks": ""
            },
            "colorscale": [
             [
              0,
              "#0d0887"
             ],
             [
              0.1111111111111111,
              "#46039f"
             ],
             [
              0.2222222222222222,
              "#7201a8"
             ],
             [
              0.3333333333333333,
              "#9c179e"
             ],
             [
              0.4444444444444444,
              "#bd3786"
             ],
             [
              0.5555555555555556,
              "#d8576b"
             ],
             [
              0.6666666666666666,
              "#ed7953"
             ],
             [
              0.7777777777777778,
              "#fb9f3a"
             ],
             [
              0.8888888888888888,
              "#fdca26"
             ],
             [
              1,
              "#f0f921"
             ]
            ],
            "type": "contour"
           }
          ],
          "contourcarpet": [
           {
            "colorbar": {
             "outlinewidth": 0,
             "ticks": ""
            },
            "type": "contourcarpet"
           }
          ],
          "heatmap": [
           {
            "colorbar": {
             "outlinewidth": 0,
             "ticks": ""
            },
            "colorscale": [
             [
              0,
              "#0d0887"
             ],
             [
              0.1111111111111111,
              "#46039f"
             ],
             [
              0.2222222222222222,
              "#7201a8"
             ],
             [
              0.3333333333333333,
              "#9c179e"
             ],
             [
              0.4444444444444444,
              "#bd3786"
             ],
             [
              0.5555555555555556,
              "#d8576b"
             ],
             [
              0.6666666666666666,
              "#ed7953"
             ],
             [
              0.7777777777777778,
              "#fb9f3a"
             ],
             [
              0.8888888888888888,
              "#fdca26"
             ],
             [
              1,
              "#f0f921"
             ]
            ],
            "type": "heatmap"
           }
          ],
          "heatmapgl": [
           {
            "colorbar": {
             "outlinewidth": 0,
             "ticks": ""
            },
            "colorscale": [
             [
              0,
              "#0d0887"
             ],
             [
              0.1111111111111111,
              "#46039f"
             ],
             [
              0.2222222222222222,
              "#7201a8"
             ],
             [
              0.3333333333333333,
              "#9c179e"
             ],
             [
              0.4444444444444444,
              "#bd3786"
             ],
             [
              0.5555555555555556,
              "#d8576b"
             ],
             [
              0.6666666666666666,
              "#ed7953"
             ],
             [
              0.7777777777777778,
              "#fb9f3a"
             ],
             [
              0.8888888888888888,
              "#fdca26"
             ],
             [
              1,
              "#f0f921"
             ]
            ],
            "type": "heatmapgl"
           }
          ],
          "histogram": [
           {
            "marker": {
             "colorbar": {
              "outlinewidth": 0,
              "ticks": ""
             }
            },
            "type": "histogram"
           }
          ],
          "histogram2d": [
           {
            "colorbar": {
             "outlinewidth": 0,
             "ticks": ""
            },
            "colorscale": [
             [
              0,
              "#0d0887"
             ],
             [
              0.1111111111111111,
              "#46039f"
             ],
             [
              0.2222222222222222,
              "#7201a8"
             ],
             [
              0.3333333333333333,
              "#9c179e"
             ],
             [
              0.4444444444444444,
              "#bd3786"
             ],
             [
              0.5555555555555556,
              "#d8576b"
             ],
             [
              0.6666666666666666,
              "#ed7953"
             ],
             [
              0.7777777777777778,
              "#fb9f3a"
             ],
             [
              0.8888888888888888,
              "#fdca26"
             ],
             [
              1,
              "#f0f921"
             ]
            ],
            "type": "histogram2d"
           }
          ],
          "histogram2dcontour": [
           {
            "colorbar": {
             "outlinewidth": 0,
             "ticks": ""
            },
            "colorscale": [
             [
              0,
              "#0d0887"
             ],
             [
              0.1111111111111111,
              "#46039f"
             ],
             [
              0.2222222222222222,
              "#7201a8"
             ],
             [
              0.3333333333333333,
              "#9c179e"
             ],
             [
              0.4444444444444444,
              "#bd3786"
             ],
             [
              0.5555555555555556,
              "#d8576b"
             ],
             [
              0.6666666666666666,
              "#ed7953"
             ],
             [
              0.7777777777777778,
              "#fb9f3a"
             ],
             [
              0.8888888888888888,
              "#fdca26"
             ],
             [
              1,
              "#f0f921"
             ]
            ],
            "type": "histogram2dcontour"
           }
          ],
          "mesh3d": [
           {
            "colorbar": {
             "outlinewidth": 0,
             "ticks": ""
            },
            "type": "mesh3d"
           }
          ],
          "parcoords": [
           {
            "line": {
             "colorbar": {
              "outlinewidth": 0,
              "ticks": ""
             }
            },
            "type": "parcoords"
           }
          ],
          "scatter": [
           {
            "marker": {
             "colorbar": {
              "outlinewidth": 0,
              "ticks": ""
             }
            },
            "type": "scatter"
           }
          ],
          "scatter3d": [
           {
            "line": {
             "colorbar": {
              "outlinewidth": 0,
              "ticks": ""
             }
            },
            "marker": {
             "colorbar": {
              "outlinewidth": 0,
              "ticks": ""
             }
            },
            "type": "scatter3d"
           }
          ],
          "scattercarpet": [
           {
            "marker": {
             "colorbar": {
              "outlinewidth": 0,
              "ticks": ""
             }
            },
            "type": "scattercarpet"
           }
          ],
          "scattergeo": [
           {
            "marker": {
             "colorbar": {
              "outlinewidth": 0,
              "ticks": ""
             }
            },
            "type": "scattergeo"
           }
          ],
          "scattergl": [
           {
            "marker": {
             "colorbar": {
              "outlinewidth": 0,
              "ticks": ""
             }
            },
            "type": "scattergl"
           }
          ],
          "scattermapbox": [
           {
            "marker": {
             "colorbar": {
              "outlinewidth": 0,
              "ticks": ""
             }
            },
            "type": "scattermapbox"
           }
          ],
          "scatterpolar": [
           {
            "marker": {
             "colorbar": {
              "outlinewidth": 0,
              "ticks": ""
             }
            },
            "type": "scatterpolar"
           }
          ],
          "scatterpolargl": [
           {
            "marker": {
             "colorbar": {
              "outlinewidth": 0,
              "ticks": ""
             }
            },
            "type": "scatterpolargl"
           }
          ],
          "scatterternary": [
           {
            "marker": {
             "colorbar": {
              "outlinewidth": 0,
              "ticks": ""
             }
            },
            "type": "scatterternary"
           }
          ],
          "surface": [
           {
            "colorbar": {
             "outlinewidth": 0,
             "ticks": ""
            },
            "colorscale": [
             [
              0,
              "#0d0887"
             ],
             [
              0.1111111111111111,
              "#46039f"
             ],
             [
              0.2222222222222222,
              "#7201a8"
             ],
             [
              0.3333333333333333,
              "#9c179e"
             ],
             [
              0.4444444444444444,
              "#bd3786"
             ],
             [
              0.5555555555555556,
              "#d8576b"
             ],
             [
              0.6666666666666666,
              "#ed7953"
             ],
             [
              0.7777777777777778,
              "#fb9f3a"
             ],
             [
              0.8888888888888888,
              "#fdca26"
             ],
             [
              1,
              "#f0f921"
             ]
            ],
            "type": "surface"
           }
          ],
          "table": [
           {
            "cells": {
             "fill": {
              "color": "#EBF0F8"
             },
             "line": {
              "color": "white"
             }
            },
            "header": {
             "fill": {
              "color": "#C8D4E3"
             },
             "line": {
              "color": "white"
             }
            },
            "type": "table"
           }
          ]
         },
         "layout": {
          "annotationdefaults": {
           "arrowcolor": "#2a3f5f",
           "arrowhead": 0,
           "arrowwidth": 1
          },
          "colorscale": {
           "diverging": [
            [
             0,
             "#8e0152"
            ],
            [
             0.1,
             "#c51b7d"
            ],
            [
             0.2,
             "#de77ae"
            ],
            [
             0.3,
             "#f1b6da"
            ],
            [
             0.4,
             "#fde0ef"
            ],
            [
             0.5,
             "#f7f7f7"
            ],
            [
             0.6,
             "#e6f5d0"
            ],
            [
             0.7,
             "#b8e186"
            ],
            [
             0.8,
             "#7fbc41"
            ],
            [
             0.9,
             "#4d9221"
            ],
            [
             1,
             "#276419"
            ]
           ],
           "sequential": [
            [
             0,
             "#0d0887"
            ],
            [
             0.1111111111111111,
             "#46039f"
            ],
            [
             0.2222222222222222,
             "#7201a8"
            ],
            [
             0.3333333333333333,
             "#9c179e"
            ],
            [
             0.4444444444444444,
             "#bd3786"
            ],
            [
             0.5555555555555556,
             "#d8576b"
            ],
            [
             0.6666666666666666,
             "#ed7953"
            ],
            [
             0.7777777777777778,
             "#fb9f3a"
            ],
            [
             0.8888888888888888,
             "#fdca26"
            ],
            [
             1,
             "#f0f921"
            ]
           ],
           "sequentialminus": [
            [
             0,
             "#0d0887"
            ],
            [
             0.1111111111111111,
             "#46039f"
            ],
            [
             0.2222222222222222,
             "#7201a8"
            ],
            [
             0.3333333333333333,
             "#9c179e"
            ],
            [
             0.4444444444444444,
             "#bd3786"
            ],
            [
             0.5555555555555556,
             "#d8576b"
            ],
            [
             0.6666666666666666,
             "#ed7953"
            ],
            [
             0.7777777777777778,
             "#fb9f3a"
            ],
            [
             0.8888888888888888,
             "#fdca26"
            ],
            [
             1,
             "#f0f921"
            ]
           ]
          },
          "colorway": [
           "#636efa",
           "#EF553B",
           "#00cc96",
           "#ab63fa",
           "#FFA15A",
           "#19d3f3",
           "#FF6692",
           "#B6E880",
           "#FF97FF",
           "#FECB52"
          ],
          "font": {
           "color": "#2a3f5f"
          },
          "geo": {
           "bgcolor": "white",
           "lakecolor": "white",
           "landcolor": "#E5ECF6",
           "showlakes": true,
           "showland": true,
           "subunitcolor": "white"
          },
          "hoverlabel": {
           "align": "left"
          },
          "hovermode": "closest",
          "mapbox": {
           "style": "light"
          },
          "paper_bgcolor": "white",
          "plot_bgcolor": "#E5ECF6",
          "polar": {
           "angularaxis": {
            "gridcolor": "white",
            "linecolor": "white",
            "ticks": ""
           },
           "bgcolor": "#E5ECF6",
           "radialaxis": {
            "gridcolor": "white",
            "linecolor": "white",
            "ticks": ""
           }
          },
          "scene": {
           "xaxis": {
            "backgroundcolor": "#E5ECF6",
            "gridcolor": "white",
            "gridwidth": 2,
            "linecolor": "white",
            "showbackground": true,
            "ticks": "",
            "zerolinecolor": "white"
           },
           "yaxis": {
            "backgroundcolor": "#E5ECF6",
            "gridcolor": "white",
            "gridwidth": 2,
            "linecolor": "white",
            "showbackground": true,
            "ticks": "",
            "zerolinecolor": "white"
           },
           "zaxis": {
            "backgroundcolor": "#E5ECF6",
            "gridcolor": "white",
            "gridwidth": 2,
            "linecolor": "white",
            "showbackground": true,
            "ticks": "",
            "zerolinecolor": "white"
           }
          },
          "shapedefaults": {
           "line": {
            "color": "#2a3f5f"
           }
          },
          "ternary": {
           "aaxis": {
            "gridcolor": "white",
            "linecolor": "white",
            "ticks": ""
           },
           "baxis": {
            "gridcolor": "white",
            "linecolor": "white",
            "ticks": ""
           },
           "bgcolor": "#E5ECF6",
           "caxis": {
            "gridcolor": "white",
            "linecolor": "white",
            "ticks": ""
           }
          },
          "title": {
           "x": 0.05
          },
          "xaxis": {
           "automargin": true,
           "gridcolor": "white",
           "linecolor": "white",
           "ticks": "",
           "zerolinecolor": "white",
           "zerolinewidth": 2
          },
          "yaxis": {
           "automargin": true,
           "gridcolor": "white",
           "linecolor": "white",
           "ticks": "",
           "zerolinecolor": "white",
           "zerolinewidth": 2
          }
         }
        },
        "title": {
         "text": "sgsapp:abtest:8"
        }
       }
      },
      "text/html": [
       "<div>\n",
       "        \n",
       "        \n",
       "            <div id=\"9085a763-2c6c-4e36-b55d-fd9727b75781\" class=\"plotly-graph-div\" style=\"height:525px; width:100%;\"></div>\n",
       "            <script type=\"text/javascript\">\n",
       "                require([\"plotly\"], function(Plotly) {\n",
       "                    window.PLOTLYENV=window.PLOTLYENV || {};\n",
       "                    \n",
       "                if (document.getElementById(\"9085a763-2c6c-4e36-b55d-fd9727b75781\")) {\n",
       "                    Plotly.newPlot(\n",
       "                        '9085a763-2c6c-4e36-b55d-fd9727b75781',\n",
       "                        [{\"name\": \"click\", \"type\": \"bar\", \"x\": [\"total_quality_total\", \"tuwen_quality_total\", \"video_quality_total\"], \"y\": [-0.05248911210460781, -0.09099359376962698, -0.049774914864620094]}, {\"name\": \"click_user\", \"type\": \"bar\", \"x\": [\"total_quality_total\", \"tuwen_quality_total\", \"video_quality_total\"], \"y\": [-0.022479465239231566, -0.025951828165282614, -0.03138700677560781]}, {\"name\": \"duration\", \"type\": \"bar\", \"x\": [\"total_quality_total\", \"tuwen_quality_total\", \"video_quality_total\"], \"y\": [-0.010954917734107896, -0.017293507216101397, -0.00596425459407952]}, {\"name\": \"ctr\", \"type\": \"bar\", \"x\": [\"total_quality_total\", \"tuwen_quality_total\", \"video_quality_total\"], \"y\": [-0.01838211517859164, -0.07143084446523253, -0.00013114826910771884]}, {\"name\": \"read_ratio\", \"type\": \"bar\", \"x\": [\"total_quality_total\", \"tuwen_quality_total\", \"video_quality_total\"], \"y\": [-0.023113168674824634, -0.0270771938212579, -0.031983852352407666]}, {\"name\": \"dur1\", \"type\": \"bar\", \"x\": [\"total_quality_total\", \"tuwen_quality_total\", \"video_quality_total\"], \"y\": [-0.011635194934569085, -0.018439261604763862, -0.006613826345712147]}, {\"name\": \"dur2\", \"type\": \"bar\", \"x\": [\"total_quality_total\", \"tuwen_quality_total\", \"video_quality_total\"], \"y\": [0.011742894710093824, 0.008859888582561119, 0.02617901577535098]}, {\"name\": \"doc_dur\", \"type\": \"bar\", \"x\": [\"total_quality_total\", \"tuwen_quality_total\", \"video_quality_total\"], \"y\": [0.043675708871522265, 0.0810389562514288, 0.04571552002744355]}, {\"name\": \"refresh\", \"type\": \"bar\", \"x\": [\"total_quality_total\", \"tuwen_quality_total\", \"video_quality_total\"], \"y\": [-0.013451879232436743, -0.024165330466468144, 0.05467988121830085]}, {\"name\": \"refresh2\", \"type\": \"bar\", \"x\": [\"total_quality_total\", \"tuwen_quality_total\", \"video_quality_total\"], \"y\": [0.009880309405633418, 0.002974552207805743, 0.0895665979751927]}, {\"name\": \"refresh_times\", \"type\": \"bar\", \"x\": [\"total_quality_total\", \"tuwen_quality_total\", \"video_quality_total\"], \"y\": [-0.012789741940888973, -0.02303970150993995, 0.05546996824919691]}, {\"name\": \"praise\", \"type\": \"bar\", \"x\": [\"total_quality_total\", \"tuwen_quality_total\", \"video_quality_total\"], \"y\": [-0.0822932092236091, -0.04360135900339745, -0.2231404958677686]}, {\"name\": \"favor\", \"type\": \"bar\", \"x\": [\"total_quality_total\", \"tuwen_quality_total\", \"video_quality_total\"], \"y\": [-0.14618467189848053, -0.11439764936336928, -0.3146399055489964]}],\n",
       "                        {\"barmode\": \"group\", \"template\": {\"data\": {\"bar\": [{\"error_x\": {\"color\": \"#2a3f5f\"}, \"error_y\": {\"color\": \"#2a3f5f\"}, \"marker\": {\"line\": {\"color\": \"#E5ECF6\", \"width\": 0.5}}, \"type\": \"bar\"}], \"barpolar\": [{\"marker\": {\"line\": {\"color\": \"#E5ECF6\", \"width\": 0.5}}, \"type\": \"barpolar\"}], \"carpet\": [{\"aaxis\": {\"endlinecolor\": \"#2a3f5f\", \"gridcolor\": \"white\", \"linecolor\": \"white\", \"minorgridcolor\": \"white\", \"startlinecolor\": \"#2a3f5f\"}, \"baxis\": {\"endlinecolor\": \"#2a3f5f\", \"gridcolor\": \"white\", \"linecolor\": \"white\", \"minorgridcolor\": \"white\", \"startlinecolor\": \"#2a3f5f\"}, \"type\": \"carpet\"}], \"choropleth\": [{\"colorbar\": {\"outlinewidth\": 0, \"ticks\": \"\"}, \"type\": \"choropleth\"}], \"contour\": [{\"colorbar\": {\"outlinewidth\": 0, \"ticks\": \"\"}, \"colorscale\": [[0.0, \"#0d0887\"], [0.1111111111111111, \"#46039f\"], [0.2222222222222222, \"#7201a8\"], [0.3333333333333333, \"#9c179e\"], [0.4444444444444444, \"#bd3786\"], [0.5555555555555556, \"#d8576b\"], [0.6666666666666666, \"#ed7953\"], [0.7777777777777778, \"#fb9f3a\"], [0.8888888888888888, \"#fdca26\"], [1.0, \"#f0f921\"]], \"type\": \"contour\"}], \"contourcarpet\": [{\"colorbar\": {\"outlinewidth\": 0, \"ticks\": \"\"}, \"type\": \"contourcarpet\"}], \"heatmap\": [{\"colorbar\": {\"outlinewidth\": 0, \"ticks\": \"\"}, \"colorscale\": [[0.0, \"#0d0887\"], [0.1111111111111111, \"#46039f\"], [0.2222222222222222, \"#7201a8\"], [0.3333333333333333, \"#9c179e\"], [0.4444444444444444, \"#bd3786\"], [0.5555555555555556, \"#d8576b\"], [0.6666666666666666, \"#ed7953\"], [0.7777777777777778, \"#fb9f3a\"], [0.8888888888888888, \"#fdca26\"], [1.0, \"#f0f921\"]], \"type\": \"heatmap\"}], \"heatmapgl\": [{\"colorbar\": {\"outlinewidth\": 0, \"ticks\": \"\"}, \"colorscale\": [[0.0, \"#0d0887\"], [0.1111111111111111, \"#46039f\"], [0.2222222222222222, \"#7201a8\"], [0.3333333333333333, \"#9c179e\"], [0.4444444444444444, \"#bd3786\"], [0.5555555555555556, \"#d8576b\"], [0.6666666666666666, \"#ed7953\"], [0.7777777777777778, \"#fb9f3a\"], [0.8888888888888888, \"#fdca26\"], [1.0, \"#f0f921\"]], \"type\": \"heatmapgl\"}], \"histogram\": [{\"marker\": {\"colorbar\": {\"outlinewidth\": 0, \"ticks\": \"\"}}, \"type\": \"histogram\"}], \"histogram2d\": [{\"colorbar\": {\"outlinewidth\": 0, \"ticks\": \"\"}, \"colorscale\": [[0.0, \"#0d0887\"], [0.1111111111111111, \"#46039f\"], [0.2222222222222222, \"#7201a8\"], [0.3333333333333333, \"#9c179e\"], [0.4444444444444444, \"#bd3786\"], [0.5555555555555556, \"#d8576b\"], [0.6666666666666666, \"#ed7953\"], [0.7777777777777778, \"#fb9f3a\"], [0.8888888888888888, \"#fdca26\"], [1.0, \"#f0f921\"]], \"type\": \"histogram2d\"}], \"histogram2dcontour\": [{\"colorbar\": {\"outlinewidth\": 0, \"ticks\": \"\"}, \"colorscale\": [[0.0, \"#0d0887\"], [0.1111111111111111, \"#46039f\"], [0.2222222222222222, \"#7201a8\"], [0.3333333333333333, \"#9c179e\"], [0.4444444444444444, \"#bd3786\"], [0.5555555555555556, \"#d8576b\"], [0.6666666666666666, \"#ed7953\"], [0.7777777777777778, \"#fb9f3a\"], [0.8888888888888888, \"#fdca26\"], [1.0, \"#f0f921\"]], \"type\": \"histogram2dcontour\"}], \"mesh3d\": [{\"colorbar\": {\"outlinewidth\": 0, \"ticks\": \"\"}, \"type\": \"mesh3d\"}], \"parcoords\": [{\"line\": {\"colorbar\": {\"outlinewidth\": 0, \"ticks\": \"\"}}, \"type\": \"parcoords\"}], \"scatter\": [{\"marker\": {\"colorbar\": {\"outlinewidth\": 0, \"ticks\": \"\"}}, \"type\": \"scatter\"}], \"scatter3d\": [{\"line\": {\"colorbar\": {\"outlinewidth\": 0, \"ticks\": \"\"}}, \"marker\": {\"colorbar\": {\"outlinewidth\": 0, \"ticks\": \"\"}}, \"type\": \"scatter3d\"}], \"scattercarpet\": [{\"marker\": {\"colorbar\": {\"outlinewidth\": 0, \"ticks\": \"\"}}, \"type\": \"scattercarpet\"}], \"scattergeo\": [{\"marker\": {\"colorbar\": {\"outlinewidth\": 0, \"ticks\": \"\"}}, \"type\": \"scattergeo\"}], \"scattergl\": [{\"marker\": {\"colorbar\": {\"outlinewidth\": 0, \"ticks\": \"\"}}, \"type\": \"scattergl\"}], \"scattermapbox\": [{\"marker\": {\"colorbar\": {\"outlinewidth\": 0, \"ticks\": \"\"}}, \"type\": \"scattermapbox\"}], \"scatterpolar\": [{\"marker\": {\"colorbar\": {\"outlinewidth\": 0, \"ticks\": \"\"}}, \"type\": \"scatterpolar\"}], \"scatterpolargl\": [{\"marker\": {\"colorbar\": {\"outlinewidth\": 0, \"ticks\": \"\"}}, \"type\": \"scatterpolargl\"}], \"scatterternary\": [{\"marker\": {\"colorbar\": {\"outlinewidth\": 0, \"ticks\": \"\"}}, \"type\": \"scatterternary\"}], \"surface\": [{\"colorbar\": {\"outlinewidth\": 0, \"ticks\": \"\"}, \"colorscale\": [[0.0, \"#0d0887\"], [0.1111111111111111, \"#46039f\"], [0.2222222222222222, \"#7201a8\"], [0.3333333333333333, \"#9c179e\"], [0.4444444444444444, \"#bd3786\"], [0.5555555555555556, \"#d8576b\"], [0.6666666666666666, \"#ed7953\"], [0.7777777777777778, \"#fb9f3a\"], [0.8888888888888888, \"#fdca26\"], [1.0, \"#f0f921\"]], \"type\": \"surface\"}], \"table\": [{\"cells\": {\"fill\": {\"color\": \"#EBF0F8\"}, \"line\": {\"color\": \"white\"}}, \"header\": {\"fill\": {\"color\": \"#C8D4E3\"}, \"line\": {\"color\": \"white\"}}, \"type\": \"table\"}]}, \"layout\": {\"annotationdefaults\": {\"arrowcolor\": \"#2a3f5f\", \"arrowhead\": 0, \"arrowwidth\": 1}, \"colorscale\": {\"diverging\": [[0, \"#8e0152\"], [0.1, \"#c51b7d\"], [0.2, \"#de77ae\"], [0.3, \"#f1b6da\"], [0.4, \"#fde0ef\"], [0.5, \"#f7f7f7\"], [0.6, \"#e6f5d0\"], [0.7, \"#b8e186\"], [0.8, \"#7fbc41\"], [0.9, \"#4d9221\"], [1, \"#276419\"]], \"sequential\": [[0.0, \"#0d0887\"], [0.1111111111111111, \"#46039f\"], [0.2222222222222222, \"#7201a8\"], [0.3333333333333333, \"#9c179e\"], [0.4444444444444444, \"#bd3786\"], [0.5555555555555556, \"#d8576b\"], [0.6666666666666666, \"#ed7953\"], [0.7777777777777778, \"#fb9f3a\"], [0.8888888888888888, \"#fdca26\"], [1.0, \"#f0f921\"]], \"sequentialminus\": [[0.0, \"#0d0887\"], [0.1111111111111111, \"#46039f\"], [0.2222222222222222, \"#7201a8\"], [0.3333333333333333, \"#9c179e\"], [0.4444444444444444, \"#bd3786\"], [0.5555555555555556, \"#d8576b\"], [0.6666666666666666, \"#ed7953\"], [0.7777777777777778, \"#fb9f3a\"], [0.8888888888888888, \"#fdca26\"], [1.0, \"#f0f921\"]]}, \"colorway\": [\"#636efa\", \"#EF553B\", \"#00cc96\", \"#ab63fa\", \"#FFA15A\", \"#19d3f3\", \"#FF6692\", \"#B6E880\", \"#FF97FF\", \"#FECB52\"], \"font\": {\"color\": \"#2a3f5f\"}, \"geo\": {\"bgcolor\": \"white\", \"lakecolor\": \"white\", \"landcolor\": \"#E5ECF6\", \"showlakes\": true, \"showland\": true, \"subunitcolor\": \"white\"}, \"hoverlabel\": {\"align\": \"left\"}, \"hovermode\": \"closest\", \"mapbox\": {\"style\": \"light\"}, \"paper_bgcolor\": \"white\", \"plot_bgcolor\": \"#E5ECF6\", \"polar\": {\"angularaxis\": {\"gridcolor\": \"white\", \"linecolor\": \"white\", \"ticks\": \"\"}, \"bgcolor\": \"#E5ECF6\", \"radialaxis\": {\"gridcolor\": \"white\", \"linecolor\": \"white\", \"ticks\": \"\"}}, \"scene\": {\"xaxis\": {\"backgroundcolor\": \"#E5ECF6\", \"gridcolor\": \"white\", \"gridwidth\": 2, \"linecolor\": \"white\", \"showbackground\": true, \"ticks\": \"\", \"zerolinecolor\": \"white\"}, \"yaxis\": {\"backgroundcolor\": \"#E5ECF6\", \"gridcolor\": \"white\", \"gridwidth\": 2, \"linecolor\": \"white\", \"showbackground\": true, \"ticks\": \"\", \"zerolinecolor\": \"white\"}, \"zaxis\": {\"backgroundcolor\": \"#E5ECF6\", \"gridcolor\": \"white\", \"gridwidth\": 2, \"linecolor\": \"white\", \"showbackground\": true, \"ticks\": \"\", \"zerolinecolor\": \"white\"}}, \"shapedefaults\": {\"line\": {\"color\": \"#2a3f5f\"}}, \"ternary\": {\"aaxis\": {\"gridcolor\": \"white\", \"linecolor\": \"white\", \"ticks\": \"\"}, \"baxis\": {\"gridcolor\": \"white\", \"linecolor\": \"white\", \"ticks\": \"\"}, \"bgcolor\": \"#E5ECF6\", \"caxis\": {\"gridcolor\": \"white\", \"linecolor\": \"white\", \"ticks\": \"\"}}, \"title\": {\"x\": 0.05}, \"xaxis\": {\"automargin\": true, \"gridcolor\": \"white\", \"linecolor\": \"white\", \"ticks\": \"\", \"zerolinecolor\": \"white\", \"zerolinewidth\": 2}, \"yaxis\": {\"automargin\": true, \"gridcolor\": \"white\", \"linecolor\": \"white\", \"ticks\": \"\", \"zerolinecolor\": \"white\", \"zerolinewidth\": 2}}}, \"title\": {\"text\": \"sgsapp:abtest:8\"}},\n",
       "                        {\"responsive\": true}\n",
       "                    ).then(function(){\n",
       "                            \n",
       "var gd = document.getElementById('9085a763-2c6c-4e36-b55d-fd9727b75781');\n",
       "var x = new MutationObserver(function (mutations, observer) {{\n",
       "        var display = window.getComputedStyle(gd).display;\n",
       "        if (!display || display === 'none') {{\n",
       "            console.log([gd, 'removed!']);\n",
       "            Plotly.purge(gd);\n",
       "            observer.disconnect();\n",
       "        }}\n",
       "}});\n",
       "\n",
       "// Listen for the removal of the full notebook cells\n",
       "var notebookContainer = gd.closest('#notebook-container');\n",
       "if (notebookContainer) {{\n",
       "    x.observe(notebookContainer, {childList: true});\n",
       "}}\n",
       "\n",
       "// Listen for the clearing of the current output cell\n",
       "var outputEl = gd.closest('.output');\n",
       "if (outputEl) {{\n",
       "    x.observe(outputEl, {childList: true});\n",
       "}}\n",
       "\n",
       "                        })\n",
       "                };\n",
       "                });\n",
       "            </script>\n",
       "        </div>"
      ]
     },
     "metadata": {},
     "output_type": "display_data"
    }
   ],
   "source": [
    "show('quality_total')"
   ]
  },
  {
   "cell_type": "code",
   "execution_count": null,
   "metadata": {},
   "outputs": [],
   "source": []
  }
 ],
 "metadata": {
  "kernelspec": {
   "display_name": "Python 3",
   "language": "python",
   "name": "python3"
  },
  "language_info": {
   "codemirror_mode": {
    "name": "ipython",
    "version": 3
   },
   "file_extension": ".py",
   "mimetype": "text/x-python",
   "name": "python",
   "nbconvert_exporter": "python",
   "pygments_lexer": "ipython3",
   "version": "3.6.8"
  }
 },
 "nbformat": 4,
 "nbformat_minor": 2
}
