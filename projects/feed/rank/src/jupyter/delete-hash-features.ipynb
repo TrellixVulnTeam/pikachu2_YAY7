{
 "cells": [
  {
   "cell_type": "code",
   "execution_count": 1,
   "metadata": {},
   "outputs": [
    {
     "name": "stderr",
     "output_type": "stream",
     "text": [
      "tensorflow_version: 1.14.0\n",
      "torch_version: 1.3.1\n",
      "Using TensorFlow backend.\n"
     ]
    },
    {
     "name": "stdout",
     "output_type": "stream",
     "text": [
      "WARNING:tensorflow:\n",
      "The TensorFlow contrib module will not be included in TensorFlow 2.0.\n",
      "For more information, please see:\n",
      "  * https://github.com/tensorflow/community/blob/master/rfcs/20180907-contrib-sunset.md\n",
      "  * https://github.com/tensorflow/addons\n",
      "  * https://github.com/tensorflow/io (for I/O related ops)\n",
      "If you depend on functionality not listed there, please file an issue.\n",
      "\n"
     ]
    }
   ],
   "source": [
    "import tensorflow as tf\n",
    "import melt \n",
    "import gezi\n",
    "import numpy as np\n",
    "\n",
    "from tqdm.auto import tqdm\n",
    "from tqdm import tqdm\n",
    "from tqdm import tqdm as tqdm_base\n",
    "def tqdm(*args, **kwargs):\n",
    "    if hasattr(tqdm_base, '_instances'):\n",
    "        for instance in list(tqdm_base._instances):\n",
    "            tqdm_base._decr_instances(instance)\n",
    "    return tqdm_base(*args, **kwargs)"
   ]
  },
  {
   "cell_type": "code",
   "execution_count": 2,
   "metadata": {},
   "outputs": [],
   "source": [
    "dir = '/home/gezi/tmp/rank/data/video_hour_sgsapp_v1'"
   ]
  },
  {
   "cell_type": "code",
   "execution_count": 3,
   "metadata": {},
   "outputs": [],
   "source": [
    "feats = [x.strip().split('\\t') for x in open(dir + '/2019111214/feature_index').readlines()]"
   ]
  },
  {
   "cell_type": "code",
   "execution_count": 4,
   "metadata": {},
   "outputs": [],
   "source": [
    "model_dir = dir + '/2019111214'"
   ]
  },
  {
   "cell_type": "code",
   "execution_count": 5,
   "metadata": {},
   "outputs": [
    {
     "name": "stdout",
     "output_type": "stream",
     "text": [
      "/home/gezi/tmp/rank/data/video_hour_sgsapp_v1/2019111214/model.ckpt-1.00-897\n"
     ]
    }
   ],
   "source": [
    "from tensorflow.python import pywrap_tensorflow\n",
    "model_path = melt.get_model_path(model_dir)\n",
    "print(model_path)\n",
    "reader = pywrap_tensorflow.NewCheckpointReader(model_path)"
   ]
  },
  {
   "cell_type": "code",
   "execution_count": 6,
   "metadata": {},
   "outputs": [],
   "source": [
    "checkpoint = reader.get_variable_to_shape_map()"
   ]
  },
  {
   "cell_type": "code",
   "execution_count": 7,
   "metadata": {},
   "outputs": [],
   "source": [
    "lookups = reader.get_tensor('hash_embedding/lookups')"
   ]
  },
  {
   "cell_type": "code",
   "execution_count": 8,
   "metadata": {},
   "outputs": [
    {
     "data": {
      "text/plain": [
       "array([[      0,       0],\n",
       "       [1227554, 1205357],\n",
       "       [2759398,  946202],\n",
       "       ...,\n",
       "       [1457130,  653612],\n",
       "       [2251141,  105752],\n",
       "       [2795490, 2059493]], dtype=int32)"
      ]
     },
     "execution_count": 8,
     "metadata": {},
     "output_type": "execute_result"
    }
   ],
   "source": [
    "lookups"
   ]
  },
  {
   "cell_type": "code",
   "execution_count": 9,
   "metadata": {},
   "outputs": [],
   "source": [
    "deep_weight =  reader.get_tensor('wide_deep/deep/emb/embeddings')"
   ]
  },
  {
   "cell_type": "code",
   "execution_count": 10,
   "metadata": {},
   "outputs": [
    {
     "data": {
      "text/plain": [
       "array([[-0.03680759, -0.03796738,  0.01173502, ...,  0.03835703,\n",
       "        -0.00205764,  0.01275528],\n",
       "       [-0.02140581, -0.01609494,  0.04086716, ...,  0.00257335,\n",
       "        -0.04092364, -0.09978314],\n",
       "       [ 0.00541245, -0.07558268, -0.01758448, ..., -0.03137203,\n",
       "        -0.01085704,  0.00904625],\n",
       "       ...,\n",
       "       [-0.0583233 , -0.04497235,  0.0062352 , ...,  0.03827355,\n",
       "        -0.04021412,  0.01332126],\n",
       "       [-0.03699796,  0.02887941,  0.08264269, ..., -0.00075859,\n",
       "        -0.04886567, -0.00998549],\n",
       "       [ 0.04471377, -0.04138492,  0.00125036, ..., -0.03761692,\n",
       "         0.01434598, -0.06310306]], dtype=float32)"
      ]
     },
     "execution_count": 10,
     "metadata": {},
     "output_type": "execute_result"
    }
   ],
   "source": [
    "deep_weight"
   ]
  },
  {
   "cell_type": "code",
   "execution_count": 11,
   "metadata": {},
   "outputs": [],
   "source": [
    "x = deep_weight.reshape(-1)"
   ]
  },
  {
   "cell_type": "code",
   "execution_count": 12,
   "metadata": {},
   "outputs": [
    {
     "data": {
      "text/plain": [
       "209338.00519917975"
      ]
     },
     "execution_count": 12,
     "metadata": {},
     "output_type": "execute_result"
    }
   ],
   "source": [
    "sum(x * x) / 2"
   ]
  },
  {
   "cell_type": "code",
   "execution_count": 13,
   "metadata": {},
   "outputs": [],
   "source": [
    "fids = set()"
   ]
  },
  {
   "cell_type": "code",
   "execution_count": 14,
   "metadata": {},
   "outputs": [
    {
     "name": "stderr",
     "output_type": "stream",
     "text": [
      "100%|██████████| 16760871/16760871 [00:28<00:00, 587234.05it/s]\n"
     ]
    }
   ],
   "source": [
    "for feat, count in tqdm(feats):\n",
    "    count = int(count)\n",
    "    if count >= 10:\n",
    "      fid = gezi.hash_int64(feat) % 20000000\n",
    "#       if fid == 0:\n",
    "#         print(feat, fid)\n",
    "      index1, index2 = lookups[fid]\n",
    "      fids.add(index1)\n",
    "      fids.add(index2)"
   ]
  },
  {
   "cell_type": "code",
   "execution_count": 15,
   "metadata": {},
   "outputs": [
    {
     "data": {
      "text/plain": [
       "2529154"
      ]
     },
     "execution_count": 15,
     "metadata": {},
     "output_type": "execute_result"
    }
   ],
   "source": [
    "len(fids)"
   ]
  }
 ],
 "metadata": {
  "kernelspec": {
   "display_name": "Python 3",
   "language": "python",
   "name": "python3"
  },
  "language_info": {
   "codemirror_mode": {
    "name": "ipython",
    "version": 3
   },
   "file_extension": ".py",
   "mimetype": "text/x-python",
   "name": "python",
   "nbconvert_exporter": "python",
   "pygments_lexer": "ipython3",
   "version": "3.6.8"
  }
 },
 "nbformat": 4,
 "nbformat_minor": 4
}
