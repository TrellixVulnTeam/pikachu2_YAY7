{
 "cells": [
  {
   "cell_type": "code",
   "execution_count": 13,
   "metadata": {},
   "outputs": [
    {
     "name": "stdout",
     "output_type": "stream",
     "text": [
      "/search/odin/chenghuige/sogou/pikachu/projects/feed/rank/src/jupyter\n",
      "b'/search/odin/chenghuige/sogou/pikachu/projects/feed/rank/src/jupyter\\n'\n"
     ]
    }
   ],
   "source": [
    "import os\n",
    "import ssh\n",
    "\n",
    "myclient = ssh.SSHClient()\n",
    "\n",
    "\n",
    "myclient.set_missing_host_key_policy(ssh.AutoAddPolicy())\n",
    "\n",
    "\n",
    "myclient.connect(\"10.141.105.108\", port=22, username=\"root\", password=\"deepmatch@2019\")\n",
    "\n",
    "\n",
    "env_command = 'export PATH=/home/gezi/soft/spark-2.4.4-bin-hadoop2.7/bin/:/home/gezi/env/anaconda3/bin:/home/gezi/mine/pikachu/tools:/home/gezi/mine/pikachu/tools/bin:/home/gezi/soft/py3env/bin/:/usr/local/bin:/usr/bin:$PATH;export PYTHONPATH=/home/gezi/mine/pikachu/utils/:/home/gezi/mine/pikachu:$PYTHONPAH;export CUDA_HOME=/usr/local/cuda-10.0-cudnn-7.5/;export LD_LIBRARY_PATH=/home/gezi/env/anaconda3/lib/:/usr/local/cuda-10.0-cudnn-7.5/lib64:/usr/local/lib:/usr/lib64:$LD_LIBRARY_PATH;. /home/gezi/env/anaconda3/etc/profile.d/conda.sh'\n",
    "\n",
    "cur_path = os.getcwd()\n",
    "print(cur_path)\n",
    "\n",
    "stdin, stdout, stderr = myclient.exec_command(f\"{env_command};cd {cur_path};pwd\")\n",
    "\n",
    "\n",
    "print(stdout.read())\n",
    "\n",
    "\n",
    "stdin, stdout, stderr = myclient.exec_command(\"python /home/test.py\")"
   ]
  },
  {
   "cell_type": "code",
   "execution_count": null,
   "metadata": {},
   "outputs": [],
   "source": []
  }
 ],
 "metadata": {
  "kernelspec": {
   "display_name": "Python 3",
   "language": "python",
   "name": "python3"
  },
  "language_info": {
   "codemirror_mode": {
    "name": "ipython",
    "version": 3
   },
   "file_extension": ".py",
   "mimetype": "text/x-python",
   "name": "python",
   "nbconvert_exporter": "python",
   "pygments_lexer": "ipython3",
   "version": "3.6.8"
  }
 },
 "nbformat": 4,
 "nbformat_minor": 2
}
