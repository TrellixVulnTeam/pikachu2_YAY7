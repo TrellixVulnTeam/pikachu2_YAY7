{
 "cells": [
  {
   "cell_type": "code",
   "execution_count": 1,
   "metadata": {},
   "outputs": [
    {
     "name": "stderr",
     "output_type": "stream",
     "text": [
      "tensorflow_version: 1.14.0\n",
      "torch_version: 1.3.1\n",
      "Using TensorFlow backend.\n"
     ]
    },
    {
     "name": "stdout",
     "output_type": "stream",
     "text": [
      "WARNING:tensorflow:\n",
      "The TensorFlow contrib module will not be included in TensorFlow 2.0.\n",
      "For more information, please see:\n",
      "  * https://github.com/tensorflow/community/blob/master/rfcs/20180907-contrib-sunset.md\n",
      "  * https://github.com/tensorflow/addons\n",
      "  * https://github.com/tensorflow/io (for I/O related ops)\n",
      "If you depend on functionality not listed there, please file an issue.\n",
      "\n"
     ]
    }
   ],
   "source": [
    "import melt"
   ]
  },
  {
   "cell_type": "code",
   "execution_count": 2,
   "metadata": {},
   "outputs": [
    {
     "name": "stdout",
     "output_type": "stream",
     "text": [
      "WARNING:tensorflow:From /home/gezi/mine/pikachu/utils/melt/util.py:417: The name tf.keras.backend.set_session is deprecated. Please use tf.compat.v1.keras.backend.set_session instead.\n",
      "\n"
     ]
    }
   ],
   "source": [
    "predictor = melt.Predictor()"
   ]
  },
  {
   "cell_type": "code",
   "execution_count": 3,
   "metadata": {},
   "outputs": [],
   "source": [
    "pb_path = '/home/gezi/tmp/rank/data/video_hour_sgsapp_v2/exps/test.time/model.pb'"
   ]
  },
  {
   "cell_type": "code",
   "execution_count": 4,
   "metadata": {},
   "outputs": [
    {
     "name": "stderr",
     "output_type": "stream",
     "text": [
      "------------frozen_graph_name: prefix\n"
     ]
    },
    {
     "data": {
      "text/plain": [
       "<tensorflow.python.framework.ops.Graph at 0x7f99d3010dd8>"
      ]
     },
     "execution_count": 4,
     "metadata": {},
     "output_type": "execute_result"
    }
   ],
   "source": [
    "predictor.load_graph(pb_path, 'prefix', frozen_map_file=pb_path.replace('.pb', '.map'))"
   ]
  },
  {
   "cell_type": "code",
   "execution_count": 5,
   "metadata": {},
   "outputs": [
    {
     "data": {
      "text/plain": [
       "['iterators',\n",
       " 'saveable_objects',\n",
       " 'learning_rate',\n",
       " 'learning_rate_1',\n",
       " 'index_feed',\n",
       " 'value_feed',\n",
       " 'field_feed',\n",
       " 'user_index_feed',\n",
       " 'user_value_feed',\n",
       " 'user_field_feed',\n",
       " 'uid_feed',\n",
       " 'did_feed',\n",
       " 'doc_idx_feed',\n",
       " 'kw_idx_feed',\n",
       " 'topic_idx_feed',\n",
       " 'doc_kw_idx_feed',\n",
       " 'doc_topic_idx_feed',\n",
       " 'time_feed',\n",
       " 'ptime_feed',\n",
       " 'time_interval_feed',\n",
       " 'time_weekday_feed',\n",
       " 'timespan_interval_feed',\n",
       " 'logit',\n",
       " 'pred',\n",
       " 'w',\n",
       " 'd',\n",
       " 'w2',\n",
       " 'd2',\n",
       " 'logit_click',\n",
       " 'logit_dur',\n",
       " 'pred_click',\n",
       " 'pred_dur']"
      ]
     },
     "execution_count": 5,
     "metadata": {},
     "output_type": "execute_result"
    }
   ],
   "source": [
    "predictor.graph.collections"
   ]
  },
  {
   "cell_type": "code",
   "execution_count": 6,
   "metadata": {},
   "outputs": [],
   "source": [
    "# predictor.inference('pred')"
   ]
  },
  {
   "cell_type": "code",
   "execution_count": 7,
   "metadata": {},
   "outputs": [
    {
     "data": {
      "text/plain": [
       "[<tf.Tensor 'prefix/pred:0' shape=(?, 1) dtype=float32>]"
      ]
     },
     "execution_count": 7,
     "metadata": {},
     "output_type": "execute_result"
    }
   ],
   "source": [
    "predictor.graph.get_collection('pred')"
   ]
  },
  {
   "cell_type": "code",
   "execution_count": 8,
   "metadata": {},
   "outputs": [],
   "source": [
    "index = [256,298,540238,779534,1018811,1258224,1265534,1265643,1265654,1265666,1265688,1265711,1303442,1329553,1345794,1351339,1357877,1383523,1383640,1391890,1417815,1417939,1420057,1420067,1420093,1420124,1420140,1689212,1778231,1912066,2037414,2425736,2426845,2426849,2426965,2427040,2546659,2596769,2654469,2662528,2670288,2671387,2700036,2703910,2708492,2709243,2789953,2804355,2822478,2825661,2892795,2902912,2904485,2907331,2907424,2907570,2907676,2907734]"
   ]
  },
  {
   "cell_type": "code",
   "execution_count": 9,
   "metadata": {},
   "outputs": [],
   "source": [
    "value = [1.0,1.0,1.0,1.0,1.0,1.0,1.0,1.0,1.0,1.0,1.0,1.0,1.0,1.0,1.0,0.564064,0.057216,0.03559,0.012151,0.047539,0.093495,0.050457,1.0,1.0,0.3,1.0,1.0,1.0,1.0,1.0,1.0,1.0,1.0,1.0,1.0,1.0,0.0072500003,1.02895,0.0072500003,0.99145,1.02895,0.903,0.0072500003,0.99145,1.02895,0.903,0.0072500003,0.99145,1.02895,0.903,0.99145,1.02895,0.903,1.0,1.0,1.0,1.0,1.0]"
   ]
  },
  {
   "cell_type": "code",
   "execution_count": 10,
   "metadata": {},
   "outputs": [],
   "source": [
    "field = [1,2,5,6,7,8,9,10,11,12,13,15,16,17,18,18,18,19,19,19,19,19,20,21,22,23,24,26,27,28,29,35,36,37,38,39,41,42,45,45,46,47,49,49,50,51,53,53,54,55,57,58,59,64,65,66,67,68]"
   ]
  },
  {
   "cell_type": "code",
   "execution_count": 11,
   "metadata": {},
   "outputs": [],
   "source": [
    "#feed_dict = {predictor.graph.get_collection('index_feed')[0]: [index], predictor.graph.get_collection('value_feed')[0]: [value]}"
   ]
  },
  {
   "cell_type": "code",
   "execution_count": 12,
   "metadata": {},
   "outputs": [
    {
     "data": {
      "text/plain": [
       "(58, 58, 58)"
      ]
     },
     "execution_count": 12,
     "metadata": {},
     "output_type": "execute_result"
    }
   ],
   "source": [
    "len(index), len(value), len(field)"
   ]
  },
  {
   "cell_type": "code",
   "execution_count": 13,
   "metadata": {},
   "outputs": [],
   "source": [
    "feed_dict = {predictor.graph.get_collection('index_feed')[0]: [index],\n",
    "             predictor.graph.get_collection('value_feed')[0]: [value],\n",
    "             predictor.graph.get_collection('field_feed')[0]: [field],\n",
    "             predictor.graph.get_collection('time_interval_feed')[0]: [[1]],\n",
    "             predictor.graph.get_collection('time_weekday_feed')[0]: [[1]],\n",
    "             predictor.graph.get_collection('timespan_interval_feed')[0]: [[1]],\n",
    "            }"
   ]
  },
  {
   "cell_type": "code",
   "execution_count": 14,
   "metadata": {},
   "outputs": [
    {
     "data": {
      "text/plain": [
       "array([[0.56606656]], dtype=float32)"
      ]
     },
     "execution_count": 14,
     "metadata": {},
     "output_type": "execute_result"
    }
   ],
   "source": [
    "predictor.predict('pred', feed_dict)"
   ]
  },
  {
   "cell_type": "code",
   "execution_count": null,
   "metadata": {},
   "outputs": [],
   "source": []
  }
 ],
 "metadata": {
  "kernelspec": {
   "display_name": "Python 3",
   "language": "python",
   "name": "python3"
  },
  "language_info": {
   "codemirror_mode": {
    "name": "ipython",
    "version": 3
   },
   "file_extension": ".py",
   "mimetype": "text/x-python",
   "name": "python",
   "nbconvert_exporter": "python",
   "pygments_lexer": "ipython3",
   "version": "3.6.8"
  }
 },
 "nbformat": 4,
 "nbformat_minor": 2
}
