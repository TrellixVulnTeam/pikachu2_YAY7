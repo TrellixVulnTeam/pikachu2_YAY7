{
 "cells": [
  {
   "cell_type": "code",
   "execution_count": 1,
   "metadata": {},
   "outputs": [],
   "source": [
    "import sys\n",
    "import os\n",
    "import scipy\n",
    "import numpy as np\n",
    "from scipy.sparse import csr_matrix\n",
    "from tqdm import tqdm\n",
    "from collections import defaultdict"
   ]
  },
  {
   "cell_type": "code",
   "execution_count": 36,
   "metadata": {},
   "outputs": [],
   "source": [
    "names = [x.rstrip().replace('\\a', '|') for x in open('/home/gezi/new/temp/feed/rank/portrait/feature_index').readlines()]"
   ]
  },
  {
   "cell_type": "code",
   "execution_count": null,
   "metadata": {},
   "outputs": [],
   "source": [
    "names"
   ]
  },
  {
   "cell_type": "code",
   "execution_count": 2,
   "metadata": {},
   "outputs": [],
   "source": [
    "feature_file = '/home/gezi/new/temp/feed/rank/portrait/rand/valid/2019073023_24_predict.data_0'"
   ]
  },
  {
   "cell_type": "code",
   "execution_count": 3,
   "metadata": {},
   "outputs": [],
   "source": [
    "def parse(line):\n",
    "  l = line.split('\\t')\n",
    "  l = l[4:-3]\n",
    "  return l"
   ]
  },
  {
   "cell_type": "code",
   "execution_count": 4,
   "metadata": {},
   "outputs": [],
   "source": [
    "lines = open(feature_file).readlines()"
   ]
  },
  {
   "cell_type": "code",
   "execution_count": 5,
   "metadata": {},
   "outputs": [
    {
     "data": {
      "text/plain": [
       "568098"
      ]
     },
     "execution_count": 5,
     "metadata": {},
     "output_type": "execute_result"
    }
   ],
   "source": [
    "len(lines)"
   ]
  },
  {
   "cell_type": "code",
   "execution_count": 12,
   "metadata": {},
   "outputs": [],
   "source": [
    "numerical_features = defaultdict(list)"
   ]
  },
  {
   "cell_type": "code",
   "execution_count": 13,
   "metadata": {},
   "outputs": [
    {
     "name": "stderr",
     "output_type": "stream",
     "text": [
      "100%|██████████| 568098/568098 [02:56<00:00, 3216.94it/s]\n"
     ]
    }
   ],
   "source": [
    "max_idx = 0\n",
    "for i, line in tqdm(enumerate(lines), total=len(lines)):\n",
    "  l = parse(line)\n",
    "  for item in l:\n",
    "    idx, val = item.split(':')\n",
    "    idx = int(idx)\n",
    "    if idx > max_idx:\n",
    "      max_idx = idx\n",
    "    if val != '1':\n",
    "      numerical_features[idx].append(val)"
   ]
  },
  {
   "cell_type": "code",
   "execution_count": 24,
   "metadata": {},
   "outputs": [],
   "source": [
    "numerical_features2 = defaultdict(int)"
   ]
  },
  {
   "cell_type": "code",
   "execution_count": 25,
   "metadata": {},
   "outputs": [
    {
     "name": "stderr",
     "output_type": "stream",
     "text": [
      "100%|██████████| 568098/568098 [02:58<00:00, 3177.87it/s]\n"
     ]
    }
   ],
   "source": [
    "for i, line in tqdm(enumerate(lines), total=len(lines)):\n",
    "  l = parse(line)\n",
    "  for item in l:\n",
    "    idx, val = item.split(':')\n",
    "    idx = int(idx)\n",
    "    if val == '1' and idx in numerical_features:\n",
    "        numerical_features2[idx] += 1"
   ]
  },
  {
   "cell_type": "code",
   "execution_count": 26,
   "metadata": {},
   "outputs": [
    {
     "data": {
      "text/plain": [
       "defaultdict(int, {})"
      ]
     },
     "execution_count": 26,
     "metadata": {},
     "output_type": "execute_result"
    }
   ],
   "source": [
    "numerical_features2"
   ]
  },
  {
   "cell_type": "code",
   "execution_count": null,
   "metadata": {},
   "outputs": [],
   "source": [
    "numerical_features"
   ]
  },
  {
   "cell_type": "code",
   "execution_count": null,
   "metadata": {},
   "outputs": [],
   "source": [
    "numerical_features"
   ]
  },
  {
   "cell_type": "code",
   "execution_count": 47,
   "metadata": {},
   "outputs": [
    {
     "name": "stdout",
     "output_type": "stream",
     "text": [
      "3026009 MITATPORNSTP|科普1\t3026010 12908 ['0.0352', '0.29405', '0.07735', '0.0358', '0.0044', '0.0209', '0.2917', '1.141', '0.063', '0.5003']\n",
      "3145407 MITATTP|美容\t3145408 13183 ['0.0352', '0.29405', '0.07735', '0.0358', '0.0044', '0.0209', '0.2917', '1.141', '0.19285', '0.063']\n",
      "2988002 MITATPCNTTP|娱乐40\t2988003 11048 ['0.689', '0.22841', '0.49569', '0.15615', '1.5', '1.5', '0.5559', '0.8887', '0.8531', '0.48575']\n",
      "3025037 MITATPORNSTP|娱乐1\t3025038 19314 ['0.689', '0.22841', '0.46915', '0.05317', '0.15615', '0.7349', '0.2679', '1.5', '1.3138', '1.5']\n",
      "3145383 MITATTP|家居\t3145384 21795 ['0.689', '0.22841', '0.46915', '0.05317', '0.49569', '0.15615', '0.7349', '0.2679', '1.5', '1.3138']\n",
      "3145392 MITATTP|时尚\t3145393 10295 ['0.75', '0.64474', '0.00275', '0.6849', '6.0E-4', '1.0E-4', '0.0783', '0.0023', '2.5E-4', '0.5906']\n",
      "3025903 MITATPORNSTP|社会1\t3025904 17216 ['0.5276', '0.68050003', '0.07807', '0.01915', '0.4097', '0.20944999', '0.1406', '0.10925', '0.0232', '0.4404']\n",
      "3145405 MITATTP|科技\t3145406 20279 ['0.5276', '0.68050003', '0.07807', '0.01915', '0.4097', '0.20944999', '0.1406', '0.10925', '0.0232', '0.4404']\n",
      "3026053 MITATPORNSTP|美食1\t3026054 11685 ['0.51275', '0.5', '0.05725', '0.0031', '0.11855', '0.98045003', '1.1553', '0.0045', '0.3977', '0.0639']\n",
      "3145409 MITATTP|职场\t3145410 11845 ['0.51275', '0.5', '0.05725', '0.0031', '0.11855', '0.98045003', '1.1553', '0.0045', '0.3977', '0.0639']\n",
      "897 CITATCOTP|历史|家居\t898 10739 ['1.14625', '1.6391', '1.5149', '0.96245', '1.0823', '0.2405', '1.2002001', '1.5465001', '0.82455003', '0.6645']\n",
      "3024966 MITATPORNSTP|历史1\t3024967 23230 ['0.12185001', '1.01005', '0.0396', '0.3547', '0.9461', '0.23605', '0.02925', '0.7233', '0.93009996', '5.0E-4']\n",
      "3145382 MITATTP|娱乐\t3145383 26332 ['0.12185001', '1.01005', '0.0396', '0.3547', '0.9461', '0.23605', '0.02925', '0.7233', '0.93009996', '5.0E-4']\n",
      "3145170 MITATTG|中国近代史\t3145171 10918 ['0.0032', '0.92515', '0.013', '0.10515', '0.41585', '0.01835', '0.03505', '1.25525', '0.5001', '1.5']\n",
      "3025751 MITATPORNSTP|游戏1\t3025752 12674 ['1.5', '0.666', '1.2814', '1.02045', '1.45', '0.5', '0.0187', '1.5', '0.9537', '0.6042']\n",
      "3145400 MITATTP|灾难事故\t3145401 12959 ['1.5', '0.666', '1.2814', '1.02045', '1.45', '0.5', '0.0187', '1.5', '0.9537', '0.6042']\n",
      "3145385 MITATTP|房产\t3145386 17796 ['0.13485', '0.18965', '0.1216', '0.4427', '0.51615', '0.122465', '0.1701', '0.0269', '0.08145', '0.00655']\n",
      "1464 CITATCOTP|明星|家居\t1465 28842 ['2.3962', '1.6240499', '0.25775', '0.638', '1.57615', '2.10535', '0.5921', '1.7284501', '1.4521', '2.6476998']\n",
      "1485 CITATCOTP|明星|电视剧\t1486 19024 ['1.4412501', '1.6257', '0.19225', '0.6802', '1.3333', '0.78069997', '1.317', '0.7224', '1.1751', '1.5286']\n",
      "2988482 MITATPCNTTP|明星40\t2988483 12929 ['0.8962', '1.00005', '0.1379', '1.21125', '0.54875', '1.34825', '0.829', '0.0776', '0.69555', '0.03337']\n",
      "3025544 MITATPORNSTP|明星1\t3025545 46314 ['0.8962', '1.00005', '0.1009', '0.1379', '0.75', '0.07615', '1.21125', '0.13', '0.54875', '1.34825']\n",
      "3145395 MITATTP|星座\t3145396 55187 ['0.8962', '1.00005', '0.6019', '0.1009', '0.0623', '0.1379', '0.75', '0.07615', '1.21125', '0.13']\n",
      "3221423 MITATWCNTTP|明星7\t3221424 11449 ['0.8962', '0.13', '1.4064', '1.3100001', '0.5862', '0.69555', '0.17735', '0.2452', '0.20845', '0.19444999']\n",
      "3026110 MITATPORNSTP|育儿1\t3026111 10038 ['0.01', '0.5561', '0.01115', '0.157', '0.10465', '0.0765', '0.22585', '0.29070002', '0.13905', '0.3033']\n",
      "3145411 MITATTP|萌宠\t3145412 13187 ['0.01', '0.5561', '0.01115', '0.45675', '0.157', '0.10465', '0.0765', '0.22585', '0.29070002', '1.16415']\n",
      "3024904 MITATPORNSTP|军事1\t3024905 11702 ['0.0041', '1.5', '0.5497', '0.00475', '0.33045', '0.0129', '0.14135', '0.336', '0.03415', '1.0E-4']\n",
      "3145380 MITATTP|动漫\t3145381 11713 ['0.0041', '1.5', '0.5497', '0.00475', '0.33045', '0.0129', '0.14135', '0.336', '0.03415', '1.0E-4']\n",
      "1859 CITATCOTP|电视剧|家居\t1860 12942 ['2.16625', '2.55655', '1.85105', '0.87305', '1.87135', '2.2151499', '1.5971', '0.5876', '1.27715', '1.4189']\n",
      "3025851 MITATPORNSTP|电视剧1\t3025852 21740 ['1.08445', '1.3034999', '1.5', '0.19935', '1.20615', '0.71515', '1.5', '1.02395', '0.19714999', '0.0502']\n",
      "3145404 MITATTP|社会\t3145405 22812 ['1.08445', '1.3034999', '1.5', '0.19935', '1.20615', '0.71515', '1.5', '1.02395', '0.19714999', '0.0502']\n",
      "2988492 MITATPCNTTP|明星50\t2988493 15291 ['0.1009', '0.0623', '0.13', '1.4064', '1.15855', '0.1665', '0.1913', '0.7324', '0.17044999', '0.0599']\n",
      "3024917 MITATPORNSTP|动漫1\t3024918 14357 ['0.02415', '0.2692', '1.16245', '0.06565', '0.0038', '0.31815', '0.0869', '0.95', '0.0824', '0.50005']\n",
      "3145381 MITATTP|历史\t3145382 14707 ['0.02415', '0.2692', '1.16245', '0.06565', '0.0038', '0.31815', '0.0869', '0.95', '0.0824', '0.50005']\n",
      "3025807 MITATPORNSTP|电影1\t3025808 13194 ['1.5', '1.49515', '0.8422', '1.33505', '0.15429999', '0.3852', '0.1338', '6.5E-5', '0.0122', '0.618']\n",
      "3145403 MITATTP|电视剧\t3145404 14611 ['1.5', '1.49515', '0.8422', '1.33505', '0.15429999', '0.3852', '0.1338', '6.5E-5', '0.0122', '0.618']\n",
      "3025129 MITATPORNSTP|情感1\t3025130 12287 ['0.1216', '0.51615', '0.122465', '0.1701', '0.00655', '0.008800001', '0.38744998', '0.1267', '0.00145', '0.62']\n",
      "3025232 MITATPORNSTP|搞笑1\t3025233 17044 ['0.46490002', '0.0282', '0.1038', '0.01805', '1.5', '0.1596', '0.25085', '1.5', '0.29295', '0.04855']\n",
      "3145387 MITATTP|摄影\t3145388 21850 ['0.46490002', '0.0282', '0.1038', '0.01805', '0.3585', '1.5', '0.1596', '0.25085', '1.5', '0.29295']\n",
      "3023210 MITATPORNSTG|娱乐盘点1\t3023211 13316 ['0.7088', '0.0911', '0.01915', '0.04933', '1.0283', '0.0228', '1.5', '0.34975', '0.94015', '0.745']\n",
      "3145232 MITATTG|婚姻\t3145233 15402 ['0.7088', '0.0911', '0.01915', '0.04933', '0.50004', '1.0283', '0.0228', '1.5', '0.34975', '0.94015']\n"
     ]
    }
   ],
   "source": [
    "for idx in numerical_features.keys():\n",
    "    if len(numerical_features[idx]) > 10000:\n",
    "        print(idx, names[idx], len(numerical_features[idx]), numerical_features[idx][:10])"
   ]
  },
  {
   "cell_type": "code",
   "execution_count": 49,
   "metadata": {},
   "outputs": [],
   "source": [
    "j = 0\n",
    "for idx in numerical_features.keys():\n",
    "#     if names[idx].startswith('MITATDURAC'):\n",
    "#         print(idx, names[idx], len(numerical_features[idx]), numerical_features[idx][:10])\n",
    "    if names[idx].startswith('IAVGDUR'):\n",
    "        print(idx, names[idx], len(numerical_features[idx]), numerical_features[idx][:10])\n",
    "#     if len(numerical_features[idx]) < 100:\n",
    "#         print(idx, names[idx], len(numerical_features[idx]), numerical_features[idx][:10])\n",
    "#         j += 1\n",
    "#         if j == 10:\n",
    "#             break"
   ]
  },
  {
   "cell_type": "code",
   "execution_count": null,
   "metadata": {},
   "outputs": [],
   "source": []
  },
  {
   "cell_type": "code",
   "execution_count": 9,
   "metadata": {},
   "outputs": [],
   "source": [
    "num_features = max_idx + 1\n",
    "num_numerical_features = len(numerical_features)\n",
    "numerical_feature_ratio = num_numerical_features / num_features"
   ]
  },
  {
   "cell_type": "code",
   "execution_count": 10,
   "metadata": {},
   "outputs": [
    {
     "name": "stdout",
     "output_type": "stream",
     "text": [
      "num_features 4241520 num_numerical_features 285405 numerical_feature_ratio 0.06728837775137216\n"
     ]
    }
   ],
   "source": [
    "print('num_features', num_features, 'num_numerical_features', num_numerical_features, 'numerical_feature_ratio', numerical_feature_ratio)"
   ]
  },
  {
   "cell_type": "code",
   "execution_count": null,
   "metadata": {},
   "outputs": [],
   "source": []
  },
  {
   "cell_type": "code",
   "execution_count": null,
   "metadata": {},
   "outputs": [],
   "source": [
    "# row = np.array([0, 0, 1, 2, 2, 2])\n",
    "# col = np.array([0, 2, 2, 0, 1, 2])\n",
    "# data = np.array([1, 2, 3, 4, 5, 6])\n",
    "# a = csr_matrix((data, (row, col)), shape=(3, 3)).toarray()\n",
    "\n",
    "# array([[1, 0, 2],\n",
    "#        [0, 0, 3],\n",
    "#        [4, 5, 6]])"
   ]
  },
  {
   "cell_type": "code",
   "execution_count": null,
   "metadata": {},
   "outputs": [],
   "source": []
  },
  {
   "cell_type": "code",
   "execution_count": null,
   "metadata": {},
   "outputs": [],
   "source": [
    "row = []\n",
    "col = []\n",
    "data = [] \n",
    "max_idx = 0\n",
    "for i, line in tqdm(enumerate(lines), total=len(lines)):\n",
    "  l = parse(line)\n",
    "  for item in l:\n",
    "    idx, val = item.split(':')\n",
    "    idx = int(idx)\n",
    "    if idx > max_idx:\n",
    "      max_idx = idx\n",
    "    val = float(val)\n",
    "    row.append(i)\n",
    "    col.append(idx)\n",
    "    data.append(val)"
   ]
  },
  {
   "cell_type": "code",
   "execution_count": null,
   "metadata": {},
   "outputs": [],
   "source": [
    "i"
   ]
  },
  {
   "cell_type": "code",
   "execution_count": null,
   "metadata": {},
   "outputs": [],
   "source": [
    "max_idx"
   ]
  },
  {
   "cell_type": "code",
   "execution_count": null,
   "metadata": {},
   "outputs": [],
   "source": [
    "for j in range(3):\n",
    "  pass\n",
    "print(j)"
   ]
  },
  {
   "cell_type": "code",
   "execution_count": null,
   "metadata": {},
   "outputs": [],
   "source": [
    "a = csr_matrix((data, (row, col)), shape=(i + 1, max_idx + 1))"
   ]
  },
  {
   "cell_type": "code",
   "execution_count": null,
   "metadata": {},
   "outputs": [],
   "source": [
    "from sklearn.preprocessing import StandardScaler, QuantileTransformer\n",
    "scaler = StandardScaler(with_mean=False)"
   ]
  },
  {
   "cell_type": "code",
   "execution_count": null,
   "metadata": {},
   "outputs": [],
   "source": [
    "a"
   ]
  },
  {
   "cell_type": "code",
   "execution_count": null,
   "metadata": {},
   "outputs": [],
   "source": [
    "scaler.fit(a)"
   ]
  },
  {
   "cell_type": "code",
   "execution_count": null,
   "metadata": {},
   "outputs": [],
   "source": [
    "scaler"
   ]
  },
  {
   "cell_type": "code",
   "execution_count": null,
   "metadata": {},
   "outputs": [],
   "source": [
    "scaler.mean_"
   ]
  },
  {
   "cell_type": "code",
   "execution_count": null,
   "metadata": {},
   "outputs": [],
   "source": [
    "scaler.scale_"
   ]
  },
  {
   "cell_type": "code",
   "execution_count": null,
   "metadata": {},
   "outputs": [],
   "source": [
    "scaler.var_"
   ]
  },
  {
   "cell_type": "code",
   "execution_count": null,
   "metadata": {},
   "outputs": [],
   "source": [
    "b = scaler.transform(a)"
   ]
  },
  {
   "cell_type": "code",
   "execution_count": null,
   "metadata": {},
   "outputs": [],
   "source": [
    "b[0].toarray()[0][2]"
   ]
  },
  {
   "cell_type": "code",
   "execution_count": null,
   "metadata": {},
   "outputs": [],
   "source": [
    "a[0].toarray()[0][2]"
   ]
  },
  {
   "cell_type": "code",
   "execution_count": null,
   "metadata": {},
   "outputs": [],
   "source": [
    "b[2].toarray()[0][2]"
   ]
  },
  {
   "cell_type": "code",
   "execution_count": null,
   "metadata": {},
   "outputs": [],
   "source": [
    "s = QuantileTransformer(random_state=0)"
   ]
  },
  {
   "cell_type": "code",
   "execution_count": null,
   "metadata": {},
   "outputs": [],
   "source": [
    "s.fit(a)"
   ]
  },
  {
   "cell_type": "code",
   "execution_count": null,
   "metadata": {},
   "outputs": [],
   "source": [
    "c = s.transform(a)"
   ]
  },
  {
   "cell_type": "code",
   "execution_count": null,
   "metadata": {},
   "outputs": [],
   "source": [
    "b[0]"
   ]
  },
  {
   "cell_type": "code",
   "execution_count": null,
   "metadata": {},
   "outputs": [],
   "source": []
  }
 ],
 "metadata": {
  "kernelspec": {
   "display_name": "Python 3",
   "language": "python",
   "name": "python3"
  },
  "language_info": {
   "codemirror_mode": {
    "name": "ipython",
    "version": 3
   },
   "file_extension": ".py",
   "mimetype": "text/x-python",
   "name": "python",
   "nbconvert_exporter": "python",
   "pygments_lexer": "ipython3",
   "version": "3.6.8"
  }
 },
 "nbformat": 4,
 "nbformat_minor": 2
}
