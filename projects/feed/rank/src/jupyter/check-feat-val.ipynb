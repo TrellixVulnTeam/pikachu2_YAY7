{
 "cells": [
  {
   "cell_type": "code",
   "execution_count": 1,
   "metadata": {},
   "outputs": [
    {
     "name": "stderr",
     "output_type": "stream",
     "text": [
      "tensorflow_version: 1.14.0\n",
      "torch_version: 1.3.1+cu100\n",
      "Using TensorFlow backend.\n"
     ]
    },
    {
     "name": "stdout",
     "output_type": "stream",
     "text": [
      "WARNING:tensorflow:\n",
      "The TensorFlow contrib module will not be included in TensorFlow 2.0.\n",
      "For more information, please see:\n",
      "  * https://github.com/tensorflow/community/blob/master/rfcs/20180907-contrib-sunset.md\n",
      "  * https://github.com/tensorflow/addons\n",
      "  * https://github.com/tensorflow/io (for I/O related ops)\n",
      "If you depend on functionality not listed there, please file an issue.\n",
      "\n"
     ]
    }
   ],
   "source": [
    "from gezi import tqdm\n",
    "import melt\n",
    "import gezi\n",
    "logging = gezi.logging\n",
    "import tensorflow as tf\n",
    "flags = tf.app.flags\n",
    "FLAGS = flags.FLAGS\n",
    "flags.DEFINE_string('f', None, '')"
   ]
  },
  {
   "cell_type": "code",
   "execution_count": 2,
   "metadata": {},
   "outputs": [
    {
     "data": {
      "text/html": [
       "<style>\n",
       ".output_wrapper, .output {\n",
       "    height:auto !important;\n",
       "    max-height:10000px;  /* your desired max-height here */\n",
       "}\n",
       ".output_scroll {\n",
       "    box-shadow:none !important;\n",
       "    webkit-box-shadow:none !important;\n",
       "}\n",
       "</style>"
      ],
      "text/plain": [
       "<IPython.core.display.HTML object>"
      ]
     },
     "metadata": {},
     "output_type": "display_data"
    }
   ],
   "source": [
    "%%html\n",
    "<style>\n",
    ".output_wrapper, .output {\n",
    "    height:auto !important;\n",
    "    max-height:10000px;  /* your desired max-height here */\n",
    "}\n",
    ".output_scroll {\n",
    "    box-shadow:none !important;\n",
    "    webkit-box-shadow:none !important;\n",
    "}\n",
    "</style>"
   ]
  },
  {
   "cell_type": "code",
   "execution_count": 3,
   "metadata": {},
   "outputs": [],
   "source": [
    "feature_index = '/search/odin/publicData/CloudS/rank/feature_indexes/tuwen/16/2020012022/feature_index_field.utf8'"
   ]
  },
  {
   "cell_type": "code",
   "execution_count": 4,
   "metadata": {},
   "outputs": [
    {
     "name": "stderr",
     "output_type": "stream",
     "text": [
      "15327887it [01:30, 169652.28it/s]\n"
     ]
    }
   ],
   "source": [
    "m = {}\n",
    "m2 = {}\n",
    "for line in tqdm(open(feature_index)):\n",
    "  index_name, index_id, field_id = line.strip().split('\\t')\n",
    "  m[int(index_id)] = index_name\n",
    "  m2[int(field_id)] = index_name.split('\\a')[0]"
   ]
  },
  {
   "cell_type": "code",
   "execution_count": 5,
   "metadata": {},
   "outputs": [],
   "source": [
    "from projects.feed.rank.src.tfrecord_dataset import Dataset"
   ]
  },
  {
   "cell_type": "code",
   "execution_count": 6,
   "metadata": {},
   "outputs": [
    {
     "data": {
      "text/plain": [
       "['/home/gezi/env/anaconda3/lib/python3.6/site-packages/ipykernel_launcher.py']"
      ]
     },
     "execution_count": 6,
     "metadata": {},
     "output_type": "execute_result"
    }
   ],
   "source": [
    "import sys\n",
    "FLAGS(sys.argv)"
   ]
  },
  {
   "cell_type": "code",
   "execution_count": 7,
   "metadata": {},
   "outputs": [],
   "source": [
    "tf.enable_eager_execution()"
   ]
  },
  {
   "cell_type": "code",
   "execution_count": 8,
   "metadata": {},
   "outputs": [],
   "source": [
    "dataset = Dataset('valid')"
   ]
  },
  {
   "cell_type": "code",
   "execution_count": 9,
   "metadata": {},
   "outputs": [
    {
     "name": "stderr",
     "output_type": "stream",
     "text": [
      "\r",
      "get_num_records:   0%|          | 0/54 [00:00<?, ?it/s]"
     ]
    },
    {
     "name": "stdout",
     "output_type": "stream",
     "text": [
      "WARNING:tensorflow:From /home/gezi/mine/pikachu/utils/melt/util.py:1115: tf_record_iterator (from tensorflow.python.lib.io.tf_record) is deprecated and will be removed in a future version.\n",
      "Instructions for updating:\n",
      "Use eager execution and: \n",
      "`tf.data.TFRecordDataset(path)`\n"
     ]
    },
    {
     "name": "stderr",
     "output_type": "stream",
     "text": [
      "get_num_records: 100%|##########| 54/54 [00:00<00:00, 913.87it/s]\n"
     ]
    }
   ],
   "source": [
    "files = gezi.list_files('/home/gezi/tmp/rank/data/tuwen_hour_sgsapp_v1/tfrecords/2020012022')\n",
    "total = melt.get_num_records(files) "
   ]
  },
  {
   "cell_type": "code",
   "execution_count": 10,
   "metadata": {},
   "outputs": [],
   "source": [
    "batch_size = 1\n",
    "batches = dataset.make_batch(batch_size=batch_size, filenames=files, repeat=False)\n",
    "num_steps = -int(-total // batch_size)"
   ]
  },
  {
   "cell_type": "code",
   "execution_count": 11,
   "metadata": {},
   "outputs": [
    {
     "name": "stderr",
     "output_type": "stream",
     "text": [
      "loop:   0%|          | 87/1945218 [00:00<1:33:43, 345.89it/s]"
     ]
    },
    {
     "name": "stdout",
     "output_type": "stream",
     "text": [
      "----------------------\n",
      "0 1\n",
      "IATKW\n",
      "----------------------\n",
      "4 2\n",
      "IATTP\n",
      "IATKW\n",
      "----------------------\n",
      "18 9\n",
      "MITATTP\n",
      "IATTP\n",
      "IATKW\n",
      "MITATWCNTTP\n",
      "MITATQUALSTP\n",
      "MITATPCNTTP\n",
      "MITATPORNSTP\n",
      "CITATCOTP\n",
      "MITATDURTP\n",
      "----------------------\n",
      "20 10\n",
      "MITATTP\n",
      "IATTP\n",
      "IATKW\n",
      "MITATWCNTTP\n",
      "MITATQUALSTP\n",
      "IATKWSE\n",
      "MITATPCNTTP\n",
      "MITATPORNSTP\n",
      "CITATCOTP\n",
      "MITATDURTP\n",
      "----------------------\n",
      "42 16\n",
      "MITATTP\n",
      "IATTP\n",
      "IATKW\n",
      "MITATQUALSKW\n",
      "MITATWCNTTP\n",
      "MITATQUALSTP\n",
      "IATKWSE\n",
      "MITATDURKW\n",
      "MITATPORNSKW\n",
      "MITATPCNTTP\n",
      "MITATKW\n",
      "MITATPCNTKW\n",
      "MITATWCNTKW\n",
      "MITATPORNSTP\n",
      "CITATCOTP\n",
      "MITATDURTP\n"
     ]
    },
    {
     "name": "stderr",
     "output_type": "stream",
     "text": [
      "loop:  10%|9         | 189635/1945218 [05:29<45:46, 639.30it/s]  "
     ]
    },
    {
     "name": "stdout",
     "output_type": "stream",
     "text": [
      "----------------------\n",
      "189555 22\n",
      "MITATTP\n",
      "MITATQUALSTG\n",
      "IATTP\n",
      "IATKW\n",
      "MITATWCNTTP\n",
      "MITATQUALSTP\n",
      "IATKWSE\n",
      "MITATDURKW\n",
      "MITATTG\n",
      "MITATPCNTTP\n",
      "MITATPCNTKW\n",
      "MITATWCNTKW\n",
      "MITATQUALSKW\n",
      "MITATPORNSTP\n",
      "MITATWCNTTG\n",
      "CITATCOTP\n",
      "MITATPORNSTG\n",
      "MITATPCNTTG\n",
      "MITATDURTG\n",
      "MITATPORNSKW\n",
      "MITATKW\n",
      "MITATDURTP\n"
     ]
    },
    {
     "name": "stderr",
     "output_type": "stream",
     "text": [
      "loop: 100%|##########| 1945218/1945218 [55:16<00:00, 586.50it/s] "
     ]
    },
    {
     "name": "stdout",
     "output_type": "stream",
     "text": [
      "22\n",
      "{-5088830181173556222, 5990307752623814594, -1119262723919422650, -7697086540126162871, 2400462395024243787, -2519220192420063411, 2068597903886099341, 2344283115461994379, 5573857014160680586, -2669211736745653421, 8650559348721361363, 5228992160750648825, 8593059423197761109, -2729318733414106023, -1791070171177239975, -5817666613973072483, -8311434859857709405, -378668300094641051, -7420814268695332945, -4919644448854171470, -7650487256300491330, -5667364694360982464}\n"
     ]
    },
    {
     "name": "stderr",
     "output_type": "stream",
     "text": [
      "\n"
     ]
    }
   ],
   "source": [
    "import numpy as np\n",
    "bad_fields = set()\n",
    "bad_count = 0\n",
    "for i, (x, _) in tqdm(enumerate(batches), total=num_steps, ascii=True, desc='loop'):\n",
    "  for key in x.keys():\n",
    "    x[key] = x[key].numpy()\n",
    "  indexes = x['index'][0]\n",
    "  fields = x['field'][0]\n",
    "  values = x['value'][0]\n",
    "  mid = x['mid'][0].decode()\n",
    "  docid = x['docid'][0].decode()\n",
    "  flags = values == 0\n",
    "  zero_val_indexes = indexes[flags]\n",
    "  zero_val_fields = set(fields[flags])\n",
    "  bad_fields.update(zero_val_fields)\n",
    "  if len(bad_fields) > bad_count:\n",
    "    bad_count = len(bad_fields)\n",
    "    print('----------------------')\n",
    "    print(i, bad_count)\n",
    "    for x in bad_fields:\n",
    "      print(m2[x])\n",
    "#   fields2 = np.asarray([fid in zero_val_fields for fid in fields])\n",
    "#   indexes2 = indexes[fields2]\n",
    "#   names = [m.get(index, None) for index in zero_val_indexes]\n",
    "#   names2 = [m.get(index, None) for index in indexes2]\n",
    "#   vals2 = values[fields2]\n",
    "#   if names:\n",
    "#     print(i, mid, docid)\n",
    "#     for name, val in zip(names2, vals2):\n",
    "#       print(name, val)\n",
    "#   if i == 100:\n",
    "#     break\n",
    "print(len(bad_fields))\n",
    "print(bad_fields)"
   ]
  },
  {
   "cell_type": "code",
   "execution_count": null,
   "metadata": {},
   "outputs": [],
   "source": []
  }
 ],
 "metadata": {
  "kernelspec": {
   "display_name": "Python 3",
   "language": "python",
   "name": "python3"
  },
  "language_info": {
   "codemirror_mode": {
    "name": "ipython",
    "version": 3
   },
   "file_extension": ".py",
   "mimetype": "text/x-python",
   "name": "python",
   "nbconvert_exporter": "python",
   "pygments_lexer": "ipython3",
   "version": "3.6.8"
  }
 },
 "nbformat": 4,
 "nbformat_minor": 2
}
