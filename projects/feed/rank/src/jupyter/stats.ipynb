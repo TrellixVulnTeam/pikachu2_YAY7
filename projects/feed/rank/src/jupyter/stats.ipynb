{
 "cells": [
  {
   "cell_type": "code",
   "execution_count": 1,
   "metadata": {},
   "outputs": [],
   "source": [
    "dir = '/home/gezi/mine/pikachu/projects/feed/rank/offline/construct_training_data/extract_feature_from_hdfs/data/tfrecord_data_sgsapp_chg_hour/2019092809_24'"
   ]
  },
  {
   "cell_type": "code",
   "execution_count": 2,
   "metadata": {},
   "outputs": [
    {
     "name": "stderr",
     "output_type": "stream",
     "text": [
      "tensorflow_version: 1.14.0\n",
      "torch_version: 1.2.0\n",
      "Using TensorFlow backend.\n"
     ]
    },
    {
     "name": "stdout",
     "output_type": "stream",
     "text": [
      "WARNING:tensorflow:\n",
      "The TensorFlow contrib module will not be included in TensorFlow 2.0.\n",
      "For more information, please see:\n",
      "  * https://github.com/tensorflow/community/blob/master/rfcs/20180907-contrib-sunset.md\n",
      "  * https://github.com/tensorflow/addons\n",
      "  * https://github.com/tensorflow/io (for I/O related ops)\n",
      "If you depend on functionality not listed there, please file an issue.\n",
      "\n"
     ]
    }
   ],
   "source": [
    "import melt"
   ]
  },
  {
   "cell_type": "code",
   "execution_count": 3,
   "metadata": {},
   "outputs": [
    {
     "name": "stdout",
     "output_type": "stream",
     "text": [
      "WARNING:tensorflow:From /home/gezi/mine/pikachu/utils/melt/util.py:1067: tf_record_iterator (from tensorflow.python.lib.io.tf_record) is deprecated and will be removed in a future version.\n",
      "Instructions for updating:\n",
      "Use eager execution and: \n",
      "`tf.data.TFRecordDataset(path)`\n"
     ]
    }
   ],
   "source": [
    "total = melt.get_num_records(dir)"
   ]
  },
  {
   "cell_type": "code",
   "execution_count": 4,
   "metadata": {},
   "outputs": [
    {
     "data": {
      "text/plain": [
       "39539340"
      ]
     },
     "execution_count": 4,
     "metadata": {},
     "output_type": "execute_result"
    }
   ],
   "source": [
    "total"
   ]
  },
  {
   "cell_type": "code",
   "execution_count": 5,
   "metadata": {},
   "outputs": [],
   "source": [
    "from tqdm.auto import tqdm\n",
    "from tqdm import tqdm\n",
    "from tqdm import tqdm as tqdm_base\n",
    "def tqdm(*args, **kwargs):\n",
    "    if hasattr(tqdm_base, '_instances'):\n",
    "        for instance in list(tqdm_base._instances):\n",
    "            tqdm_base._decr_instances(instance)\n",
    "    return tqdm_base(*args, **kwargs)"
   ]
  },
  {
   "cell_type": "code",
   "execution_count": 6,
   "metadata": {},
   "outputs": [],
   "source": [
    "from tfrecord_lite import decode_example\n",
    "import tensorflow as tf"
   ]
  },
  {
   "cell_type": "code",
   "execution_count": 7,
   "metadata": {},
   "outputs": [],
   "source": [
    "import gezi"
   ]
  },
  {
   "cell_type": "code",
   "execution_count": 8,
   "metadata": {},
   "outputs": [],
   "source": [
    "import pandas as pd"
   ]
  },
  {
   "cell_type": "code",
   "execution_count": 9,
   "metadata": {},
   "outputs": [],
   "source": [
    "records = gezi.list_files(dir)"
   ]
  },
  {
   "cell_type": "code",
   "execution_count": 25,
   "metadata": {},
   "outputs": [],
   "source": [
    "def decode(it):\n",
    "    e = decode_example(it)\n",
    "    x = {}\n",
    "    x['id'] = e['id'][0].decode()\n",
    "    x['mid'] = e['mid'][0].decode()\n",
    "    x['doc_id'] = e['doc_id'][0].decode()\n",
    "    x['flen'] = len(e['index'])\n",
    "    x['click'] = e['click'][0]\n",
    "    x['duration'] = e['duration'][0]\n",
    "    x['show_time'] = e['show_time'][0]\n",
    "    x['unlike'] = e['unlike'][0]\n",
    "    x['num_interests'] = e['num_interests'][0]\n",
    "    return x"
   ]
  },
  {
   "cell_type": "code",
   "execution_count": 26,
   "metadata": {},
   "outputs": [
    {
     "name": "stderr",
     "output_type": "stream",
     "text": [
      "100%|██████████| 1316477/1316477 [01:57<00:00, 11171.55it/s]\n"
     ]
    }
   ],
   "source": [
    "examples = []\n",
    "total = melt.get_num_records_single(records[0])\n",
    "for it in tqdm(tf.compat.v1.python_io.tf_record_iterator(records[0]), total=total):\n",
    "    example = decode(it)\n",
    "    examples.append(example)"
   ]
  },
  {
   "cell_type": "code",
   "execution_count": 27,
   "metadata": {},
   "outputs": [],
   "source": [
    "d = pd.DataFrame.from_dict(examples)"
   ]
  },
  {
   "cell_type": "code",
   "execution_count": 28,
   "metadata": {},
   "outputs": [
    {
     "data": {
      "text/html": [
       "<div>\n",
       "<style scoped>\n",
       "    .dataframe tbody tr th:only-of-type {\n",
       "        vertical-align: middle;\n",
       "    }\n",
       "\n",
       "    .dataframe tbody tr th {\n",
       "        vertical-align: top;\n",
       "    }\n",
       "\n",
       "    .dataframe thead th {\n",
       "        text-align: right;\n",
       "    }\n",
       "</style>\n",
       "<table border=\"1\" class=\"dataframe\">\n",
       "  <thead>\n",
       "    <tr style=\"text-align: right;\">\n",
       "      <th></th>\n",
       "      <th>id</th>\n",
       "      <th>mid</th>\n",
       "      <th>doc_id</th>\n",
       "      <th>flen</th>\n",
       "      <th>click</th>\n",
       "      <th>duration</th>\n",
       "      <th>show_time</th>\n",
       "      <th>unlike</th>\n",
       "      <th>num_interests</th>\n",
       "    </tr>\n",
       "  </thead>\n",
       "  <tbody>\n",
       "    <tr>\n",
       "      <td>0</td>\n",
       "      <td>ea0d869287032935390\\t19927j0C2fFyDW</td>\n",
       "      <td>ea0d869287032935390</td>\n",
       "      <td>19927j0C2fFyDW</td>\n",
       "      <td>227</td>\n",
       "      <td>0</td>\n",
       "      <td>0</td>\n",
       "      <td>1569595136</td>\n",
       "      <td>0</td>\n",
       "      <td>114</td>\n",
       "    </tr>\n",
       "    <tr>\n",
       "      <td>1</td>\n",
       "      <td>e7ee867473031597223\\t19927c0x1hw9cP</td>\n",
       "      <td>e7ee867473031597223</td>\n",
       "      <td>19927c0x1hw9cP</td>\n",
       "      <td>110</td>\n",
       "      <td>0</td>\n",
       "      <td>0</td>\n",
       "      <td>1569616353</td>\n",
       "      <td>0</td>\n",
       "      <td>37</td>\n",
       "    </tr>\n",
       "    <tr>\n",
       "      <td>2</td>\n",
       "      <td>8a1b866016037236535\\topen_doc_prod10768641</td>\n",
       "      <td>8a1b866016037236535</td>\n",
       "      <td>open_doc_prod10768641</td>\n",
       "      <td>306</td>\n",
       "      <td>0</td>\n",
       "      <td>0</td>\n",
       "      <td>1569558211</td>\n",
       "      <td>0</td>\n",
       "      <td>560</td>\n",
       "    </tr>\n",
       "    <tr>\n",
       "      <td>3</td>\n",
       "      <td>c1f4864387020487845\\t19726c0C0nkVhN</td>\n",
       "      <td>c1f4864387020487845</td>\n",
       "      <td>19726c0C0nkVhN</td>\n",
       "      <td>39</td>\n",
       "      <td>0</td>\n",
       "      <td>0</td>\n",
       "      <td>1569571321</td>\n",
       "      <td>0</td>\n",
       "      <td>9</td>\n",
       "    </tr>\n",
       "    <tr>\n",
       "      <td>4</td>\n",
       "      <td>b151865540047443170\\t19925k0l2VYgrp</td>\n",
       "      <td>b151865540047443170</td>\n",
       "      <td>19925k0l2VYgrp</td>\n",
       "      <td>277</td>\n",
       "      <td>0</td>\n",
       "      <td>0</td>\n",
       "      <td>1569552823</td>\n",
       "      <td>0</td>\n",
       "      <td>832</td>\n",
       "    </tr>\n",
       "  </tbody>\n",
       "</table>\n",
       "</div>"
      ],
      "text/plain": [
       "                                           id                  mid  \\\n",
       "0         ea0d869287032935390\\t19927j0C2fFyDW  ea0d869287032935390   \n",
       "1         e7ee867473031597223\\t19927c0x1hw9cP  e7ee867473031597223   \n",
       "2  8a1b866016037236535\\topen_doc_prod10768641  8a1b866016037236535   \n",
       "3         c1f4864387020487845\\t19726c0C0nkVhN  c1f4864387020487845   \n",
       "4         b151865540047443170\\t19925k0l2VYgrp  b151865540047443170   \n",
       "\n",
       "                  doc_id  flen  click  duration   show_time  unlike  \\\n",
       "0         19927j0C2fFyDW   227      0         0  1569595136       0   \n",
       "1         19927c0x1hw9cP   110      0         0  1569616353       0   \n",
       "2  open_doc_prod10768641   306      0         0  1569558211       0   \n",
       "3         19726c0C0nkVhN    39      0         0  1569571321       0   \n",
       "4         19925k0l2VYgrp   277      0         0  1569552823       0   \n",
       "\n",
       "   num_interests  \n",
       "0            114  \n",
       "1             37  \n",
       "2            560  \n",
       "3              9  \n",
       "4            832  "
      ]
     },
     "execution_count": 28,
     "metadata": {},
     "output_type": "execute_result"
    }
   ],
   "source": [
    "d.head()"
   ]
  },
  {
   "cell_type": "code",
   "execution_count": 39,
   "metadata": {},
   "outputs": [
    {
     "data": {
      "text/plain": [
       "id\n",
       "0000869011023675942\\t20190927A0OHDR00         1\n",
       "0000869011023675942\\topen_doc_prod11008439    1\n",
       "0000869011023675942\\topen_doc_prod11038747    1\n",
       "0000869011023675942\\topen_doc_prod11060877    1\n",
       "0000869240039210853\\t19923d0x3WPmEs           1\n",
       "                                             ..\n",
       "fffb869140022222552\\t1972900x0XZ1zN           1\n",
       "fffc864469043134446\\t1992360x48OC4Z           1\n",
       "fffc868766020027311\\topen_doc_prod10866477    1\n",
       "fffc868766020027311\\topen_doc_prod10960453    1\n",
       "fffe867218032738973\\t1992690p3Dp4hj           1\n",
       "Length: 152237, dtype: int64"
      ]
     },
     "execution_count": 39,
     "metadata": {},
     "output_type": "execute_result"
    }
   ],
   "source": [
    "d[d['num_interests'] < 35].groupby('id').size()"
   ]
  },
  {
   "cell_type": "code",
   "execution_count": 40,
   "metadata": {},
   "outputs": [
    {
     "data": {
      "text/plain": [
       "1316477"
      ]
     },
     "execution_count": 40,
     "metadata": {},
     "output_type": "execute_result"
    }
   ],
   "source": [
    "len(d)"
   ]
  },
  {
   "cell_type": "code",
   "execution_count": 41,
   "metadata": {},
   "outputs": [
    {
     "data": {
      "text/plain": [
       "0.11563969594607426"
      ]
     },
     "execution_count": 41,
     "metadata": {},
     "output_type": "execute_result"
    }
   ],
   "source": [
    "152237 / 1316477"
   ]
  },
  {
   "cell_type": "code",
   "execution_count": 120,
   "metadata": {},
   "outputs": [
    {
     "data": {
      "text/plain": [
       "mid\n",
       "0000869011023675942         3\n",
       "0000869240039210853         1\n",
       "00011569560906788|6d386a    2\n",
       "0001867679021144848         3\n",
       "0002865256034343287         1\n",
       "                           ..\n",
       "fffb868898039473424         3\n",
       "fffb869140022222552         1\n",
       "fffc864469043134446         1\n",
       "fffc868766020027311         2\n",
       "fffe867218032738973         1\n",
       "Length: 77937, dtype: int64"
      ]
     },
     "execution_count": 120,
     "metadata": {},
     "output_type": "execute_result"
    }
   ],
   "source": [
    "d[d['num_interests'] < 30].groupby('mid').size()"
   ]
  },
  {
   "cell_type": "code",
   "execution_count": 122,
   "metadata": {},
   "outputs": [
    {
     "data": {
      "text/plain": [
       "mid\n",
       "00001515938605852|84f743    10\n",
       "0000358585054882996          1\n",
       "0000863056041640127         10\n",
       "0000865856043040657          1\n",
       "0000869011023675942          4\n",
       "                            ..\n",
       "ffff862596034883219          1\n",
       "ffff866657036119626          2\n",
       "ffff867478036106243          3\n",
       "ffff867520048024631          1\n",
       "ffffA100004C1CA438           2\n",
       "Length: 554821, dtype: int64"
      ]
     },
     "execution_count": 122,
     "metadata": {},
     "output_type": "execute_result"
    }
   ],
   "source": [
    "d.groupby('mid').size()"
   ]
  },
  {
   "cell_type": "code",
   "execution_count": 121,
   "metadata": {},
   "outputs": [
    {
     "data": {
      "text/plain": [
       "0.14047233251805538"
      ]
     },
     "execution_count": 121,
     "metadata": {},
     "output_type": "execute_result"
    }
   ],
   "source": [
    "77937 / 554821"
   ]
  },
  {
   "cell_type": "code",
   "execution_count": 45,
   "metadata": {},
   "outputs": [
    {
     "data": {
      "text/plain": [
       "id               101\n",
       "mid              101\n",
       "doc_id           101\n",
       "flen             101\n",
       "click            101\n",
       "duration         101\n",
       "show_time        101\n",
       "unlike           101\n",
       "num_interests    101\n",
       "dtype: int64"
      ]
     },
     "execution_count": 45,
     "metadata": {},
     "output_type": "execute_result"
    }
   ],
   "source": [
    "d[d['unlike'] == 1].count()"
   ]
  },
  {
   "cell_type": "code",
   "execution_count": 126,
   "metadata": {},
   "outputs": [],
   "source": [
    "x = d[['mid', 'num_interests']].groupby('mid').mean()"
   ]
  },
  {
   "cell_type": "code",
   "execution_count": 127,
   "metadata": {},
   "outputs": [],
   "source": [
    "%matplotlib inline "
   ]
  },
  {
   "cell_type": "code",
   "execution_count": 128,
   "metadata": {},
   "outputs": [
    {
     "data": {
      "text/plain": [
       "array([[<matplotlib.axes._subplots.AxesSubplot object at 0x7f392ec73470>]],\n",
       "      dtype=object)"
      ]
     },
     "execution_count": 128,
     "metadata": {},
     "output_type": "execute_result"
    },
    {
     "data": {
      "image/png": "[encoded data removed]",
      "text/plain": [
       "<Figure size 432x288 with 1 Axes>"
      ]
     },
     "metadata": {},
     "output_type": "display_data"
    }
   ],
   "source": [
    "x.hist(bins=100)"
   ]
  },
  {
   "cell_type": "code",
   "execution_count": 142,
   "metadata": {},
   "outputs": [
    {
     "data": {
      "text/plain": [
       "<matplotlib.axes._subplots.AxesSubplot at 0x7f392e933198>"
      ]
     },
     "execution_count": 142,
     "metadata": {},
     "output_type": "execute_result"
    },
    {
     "data": {
      "image/png": "[encoded data removed]",
      "text/plain": [
       "<Figure size 432x288 with 1 Axes>"
      ]
     },
     "metadata": {},
     "output_type": "display_data"
    }
   ],
   "source": [
    "d['num_interests'].apply(lambda x: math.log(x + 1.1) * ((x + 1) / 100)).hist()"
   ]
  },
  {
   "cell_type": "code",
   "execution_count": 144,
   "metadata": {},
   "outputs": [
    {
     "data": {
      "text/plain": [
       "<matplotlib.axes._subplots.AxesSubplot at 0x7f392e8412e8>"
      ]
     },
     "execution_count": 144,
     "metadata": {},
     "output_type": "execute_result"
    },
    {
     "data": {
      "image/png": "[encoded data removed]",
      "text/plain": [
       "<Figure size 432x288 with 1 Axes>"
      ]
     },
     "metadata": {},
     "output_type": "display_data"
    }
   ],
   "source": [
    "d['num_interests'].apply(lambda x: ((x + 1) / 1000) ** 2).hist()"
   ]
  },
  {
   "cell_type": "code",
   "execution_count": 124,
   "metadata": {},
   "outputs": [],
   "source": [
    "import math"
   ]
  },
  {
   "cell_type": "code",
   "execution_count": 125,
   "metadata": {},
   "outputs": [
    {
     "data": {
      "text/plain": [
       "<matplotlib.axes._subplots.AxesSubplot at 0x7f392ee4f7b8>"
      ]
     },
     "execution_count": 125,
     "metadata": {},
     "output_type": "execute_result"
    },
    {
     "data": {
      "image/png": "[encoded data removed]",
      "text/plain": [
       "<Figure size 432x288 with 1 Axes>"
      ]
     },
     "metadata": {},
     "output_type": "display_data"
    }
   ],
   "source": [
    "d['duration'].apply(lambda x: math.log(x + 1)).hist()"
   ]
  },
  {
   "cell_type": "code",
   "execution_count": 69,
   "metadata": {},
   "outputs": [],
   "source": [
    "x = d[d['duration'] > 0]"
   ]
  },
  {
   "cell_type": "code",
   "execution_count": 70,
   "metadata": {},
   "outputs": [
    {
     "data": {
      "text/plain": [
       "<matplotlib.axes._subplots.AxesSubplot at 0x7f393de01b00>"
      ]
     },
     "execution_count": 70,
     "metadata": {},
     "output_type": "execute_result"
    },
    {
     "data": {
      "image/png": "[encoded data removed]",
      "text/plain": [
       "<Figure size 432x288 with 1 Axes>"
      ]
     },
     "metadata": {},
     "output_type": "display_data"
    }
   ],
   "source": [
    "x['duration'].apply(lambda x: math.log(x + 1)).hist()"
   ]
  },
  {
   "cell_type": "code",
   "execution_count": 72,
   "metadata": {},
   "outputs": [
    {
     "data": {
      "text/plain": [
       "<matplotlib.axes._subplots.AxesSubplot at 0x7f393dd397b8>"
      ]
     },
     "execution_count": 72,
     "metadata": {},
     "output_type": "execute_result"
    },
    {
     "data": {
      "image/png": "[encoded data removed]",
      "text/plain": [
       "<Figure size 432x288 with 1 Axes>"
      ]
     },
     "metadata": {},
     "output_type": "display_data"
    }
   ],
   "source": [
    "x['duration'].hist(bins=1000)"
   ]
  },
  {
   "cell_type": "code",
   "execution_count": 73,
   "metadata": {},
   "outputs": [
    {
     "data": {
      "text/plain": [
       "<matplotlib.axes._subplots.AxesSubplot at 0x7f393dd28ef0>"
      ]
     },
     "execution_count": 73,
     "metadata": {},
     "output_type": "execute_result"
    },
    {
     "data": {
      "image/png": "[encoded data removed]",
      "text/plain": [
       "<Figure size 432x288 with 1 Axes>"
      ]
     },
     "metadata": {},
     "output_type": "display_data"
    }
   ],
   "source": [
    "x['duration'].apply(lambda x: math.log(x + 1) ** 2).hist()"
   ]
  },
  {
   "cell_type": "code",
   "execution_count": 103,
   "metadata": {},
   "outputs": [],
   "source": [
    "valid_dir = '/home/gezi/mine/pikachu/projects/feed/rank/offline/construct_training_data/extract_feature_from_hdfs/data/tfrecord_data_sgsapp_chg_hour/2019092815_1/'"
   ]
  },
  {
   "cell_type": "code",
   "execution_count": 104,
   "metadata": {},
   "outputs": [],
   "source": [
    "records = gezi.list_files(valid_dir)"
   ]
  },
  {
   "cell_type": "code",
   "execution_count": 105,
   "metadata": {},
   "outputs": [
    {
     "name": "stderr",
     "output_type": "stream",
     "text": [
      "100%|██████████| 122206/122206 [00:10<00:00, 11572.92it/s]\n"
     ]
    }
   ],
   "source": [
    "examples = []\n",
    "total = melt.get_num_records_single(records[0])\n",
    "for it in tqdm(tf.compat.v1.python_io.tf_record_iterator(records[0]), total=total):\n",
    "    example = decode(it)\n",
    "    examples.append(example)"
   ]
  },
  {
   "cell_type": "code",
   "execution_count": 106,
   "metadata": {},
   "outputs": [
    {
     "data": {
      "text/plain": [
       "232.5077665618161"
      ]
     },
     "execution_count": 106,
     "metadata": {},
     "output_type": "execute_result"
    }
   ],
   "source": [
    "d['flen'].mean()"
   ]
  },
  {
   "cell_type": "code",
   "execution_count": 107,
   "metadata": {},
   "outputs": [],
   "source": [
    "vd = pd.DataFrame.from_dict(examples)"
   ]
  },
  {
   "cell_type": "code",
   "execution_count": 108,
   "metadata": {},
   "outputs": [
    {
     "data": {
      "text/html": [
       "<div>\n",
       "<style scoped>\n",
       "    .dataframe tbody tr th:only-of-type {\n",
       "        vertical-align: middle;\n",
       "    }\n",
       "\n",
       "    .dataframe tbody tr th {\n",
       "        vertical-align: top;\n",
       "    }\n",
       "\n",
       "    .dataframe thead th {\n",
       "        text-align: right;\n",
       "    }\n",
       "</style>\n",
       "<table border=\"1\" class=\"dataframe\">\n",
       "  <thead>\n",
       "    <tr style=\"text-align: right;\">\n",
       "      <th></th>\n",
       "      <th>id</th>\n",
       "      <th>mid</th>\n",
       "      <th>doc_id</th>\n",
       "      <th>flen</th>\n",
       "      <th>click</th>\n",
       "      <th>duration</th>\n",
       "      <th>show_time</th>\n",
       "      <th>unlike</th>\n",
       "      <th>num_interests</th>\n",
       "    </tr>\n",
       "  </thead>\n",
       "  <tbody>\n",
       "    <tr>\n",
       "      <td>0</td>\n",
       "      <td>108f861546039526819\\topen_doc_prod11077303</td>\n",
       "      <td>108f861546039526819</td>\n",
       "      <td>open_doc_prod11077303</td>\n",
       "      <td>108</td>\n",
       "      <td>0</td>\n",
       "      <td>0</td>\n",
       "      <td>1569652139</td>\n",
       "      <td>0</td>\n",
       "      <td>55</td>\n",
       "    </tr>\n",
       "    <tr>\n",
       "      <td>1</td>\n",
       "      <td>c3f2864332043583071\\topen_doc_prod10967903</td>\n",
       "      <td>c3f2864332043583071</td>\n",
       "      <td>open_doc_prod10967903</td>\n",
       "      <td>241</td>\n",
       "      <td>0</td>\n",
       "      <td>0</td>\n",
       "      <td>1569656938</td>\n",
       "      <td>0</td>\n",
       "      <td>29</td>\n",
       "    </tr>\n",
       "    <tr>\n",
       "      <td>2</td>\n",
       "      <td>6db2A000009A7BDCB1\\topen_doc_prod11102125</td>\n",
       "      <td>6db2A000009A7BDCB1</td>\n",
       "      <td>open_doc_prod11102125</td>\n",
       "      <td>228</td>\n",
       "      <td>0</td>\n",
       "      <td>0</td>\n",
       "      <td>1569656132</td>\n",
       "      <td>0</td>\n",
       "      <td>773</td>\n",
       "    </tr>\n",
       "    <tr>\n",
       "      <td>3</td>\n",
       "      <td>2079864871041744490\\t20190928A06JWA00</td>\n",
       "      <td>2079864871041744490</td>\n",
       "      <td>20190928A06JWA00</td>\n",
       "      <td>103</td>\n",
       "      <td>0</td>\n",
       "      <td>0</td>\n",
       "      <td>1569653654</td>\n",
       "      <td>0</td>\n",
       "      <td>21</td>\n",
       "    </tr>\n",
       "    <tr>\n",
       "      <td>4</td>\n",
       "      <td>610d864619045240258\\t20190927A0RJHA00</td>\n",
       "      <td>610d864619045240258</td>\n",
       "      <td>20190927A0RJHA00</td>\n",
       "      <td>231</td>\n",
       "      <td>0</td>\n",
       "      <td>0</td>\n",
       "      <td>1569652900</td>\n",
       "      <td>0</td>\n",
       "      <td>580</td>\n",
       "    </tr>\n",
       "  </tbody>\n",
       "</table>\n",
       "</div>"
      ],
      "text/plain": [
       "                                           id                  mid  \\\n",
       "0  108f861546039526819\\topen_doc_prod11077303  108f861546039526819   \n",
       "1  c3f2864332043583071\\topen_doc_prod10967903  c3f2864332043583071   \n",
       "2   6db2A000009A7BDCB1\\topen_doc_prod11102125   6db2A000009A7BDCB1   \n",
       "3       2079864871041744490\\t20190928A06JWA00  2079864871041744490   \n",
       "4       610d864619045240258\\t20190927A0RJHA00  610d864619045240258   \n",
       "\n",
       "                  doc_id  flen  click  duration   show_time  unlike  \\\n",
       "0  open_doc_prod11077303   108      0         0  1569652139       0   \n",
       "1  open_doc_prod10967903   241      0         0  1569656938       0   \n",
       "2  open_doc_prod11102125   228      0         0  1569656132       0   \n",
       "3       20190928A06JWA00   103      0         0  1569653654       0   \n",
       "4       20190927A0RJHA00   231      0         0  1569652900       0   \n",
       "\n",
       "   num_interests  \n",
       "0             55  \n",
       "1             29  \n",
       "2            773  \n",
       "3             21  \n",
       "4            580  "
      ]
     },
     "execution_count": 108,
     "metadata": {},
     "output_type": "execute_result"
    }
   ],
   "source": [
    "vd.head()"
   ]
  },
  {
   "cell_type": "code",
   "execution_count": 109,
   "metadata": {},
   "outputs": [],
   "source": [
    "import time"
   ]
  },
  {
   "cell_type": "code",
   "execution_count": 110,
   "metadata": {},
   "outputs": [
    {
     "data": {
      "text/plain": [
       "0         (2019, 9, 28, 14, 28, 59, 5, 271, 0)\n",
       "1         (2019, 9, 28, 15, 48, 58, 5, 271, 0)\n",
       "2         (2019, 9, 28, 15, 35, 32, 5, 271, 0)\n",
       "3         (2019, 9, 28, 14, 54, 14, 5, 271, 0)\n",
       "4         (2019, 9, 28, 14, 41, 40, 5, 271, 0)\n",
       "                          ...                 \n",
       "122201    (2019, 9, 28, 13, 59, 49, 5, 271, 0)\n",
       "122202    (2019, 9, 28, 15, 41, 31, 5, 271, 0)\n",
       "122203    (2019, 9, 28, 14, 50, 17, 5, 271, 0)\n",
       "122204    (2019, 9, 28, 15, 32, 47, 5, 271, 0)\n",
       "122205     (2019, 9, 28, 15, 53, 1, 5, 271, 0)\n",
       "Name: show_time, Length: 122206, dtype: object"
      ]
     },
     "execution_count": 110,
     "metadata": {},
     "output_type": "execute_result"
    }
   ],
   "source": [
    "vd['show_time'].apply(time.localtime)"
   ]
  },
  {
   "cell_type": "code",
   "execution_count": 111,
   "metadata": {},
   "outputs": [
    {
     "data": {
      "text/plain": [
       "199.12771058704155"
      ]
     },
     "execution_count": 111,
     "metadata": {},
     "output_type": "execute_result"
    }
   ],
   "source": [
    "# TODO 哪些特征field时效性变化最多？\n",
    "vd['flen'].mean()"
   ]
  },
  {
   "cell_type": "code",
   "execution_count": 112,
   "metadata": {},
   "outputs": [
    {
     "data": {
      "text/plain": [
       "122206"
      ]
     },
     "execution_count": 112,
     "metadata": {},
     "output_type": "execute_result"
    }
   ],
   "source": [
    "len(vd)"
   ]
  },
  {
   "cell_type": "code",
   "execution_count": 115,
   "metadata": {},
   "outputs": [
    {
     "data": {
      "text/html": [
       "<div>\n",
       "<style scoped>\n",
       "    .dataframe tbody tr th:only-of-type {\n",
       "        vertical-align: middle;\n",
       "    }\n",
       "\n",
       "    .dataframe tbody tr th {\n",
       "        vertical-align: top;\n",
       "    }\n",
       "\n",
       "    .dataframe thead th {\n",
       "        text-align: right;\n",
       "    }\n",
       "</style>\n",
       "<table border=\"1\" class=\"dataframe\">\n",
       "  <thead>\n",
       "    <tr style=\"text-align: right;\">\n",
       "      <th></th>\n",
       "      <th>id</th>\n",
       "      <th>mid</th>\n",
       "      <th>doc_id</th>\n",
       "      <th>flen</th>\n",
       "      <th>click</th>\n",
       "      <th>duration</th>\n",
       "      <th>show_time</th>\n",
       "      <th>unlike</th>\n",
       "      <th>num_interests</th>\n",
       "    </tr>\n",
       "  </thead>\n",
       "  <tbody>\n",
       "    <tr>\n",
       "      <td>10166</td>\n",
       "      <td>00011557708992845|23210d\\topen_doc_prod10994737</td>\n",
       "      <td>00011557708992845|23210d</td>\n",
       "      <td>open_doc_prod10994737</td>\n",
       "      <td>242</td>\n",
       "      <td>0</td>\n",
       "      <td>0</td>\n",
       "      <td>1569654474</td>\n",
       "      <td>0</td>\n",
       "      <td>585</td>\n",
       "    </tr>\n",
       "    <tr>\n",
       "      <td>14</td>\n",
       "      <td>0001860649043926602\\topen_doc_prod10806649</td>\n",
       "      <td>0001860649043926602</td>\n",
       "      <td>open_doc_prod10806649</td>\n",
       "      <td>235</td>\n",
       "      <td>0</td>\n",
       "      <td>0</td>\n",
       "      <td>1569652725</td>\n",
       "      <td>0</td>\n",
       "      <td>518</td>\n",
       "    </tr>\n",
       "    <tr>\n",
       "      <td>6518</td>\n",
       "      <td>0001860649043926602\\topen_doc_prod10802119</td>\n",
       "      <td>0001860649043926602</td>\n",
       "      <td>open_doc_prod10802119</td>\n",
       "      <td>241</td>\n",
       "      <td>0</td>\n",
       "      <td>0</td>\n",
       "      <td>1569652725</td>\n",
       "      <td>0</td>\n",
       "      <td>518</td>\n",
       "    </tr>\n",
       "    <tr>\n",
       "      <td>93655</td>\n",
       "      <td>0002866959037825957\\topen_doc_prod10902489</td>\n",
       "      <td>0002866959037825957</td>\n",
       "      <td>open_doc_prod10902489</td>\n",
       "      <td>254</td>\n",
       "      <td>0</td>\n",
       "      <td>0</td>\n",
       "      <td>1569651006</td>\n",
       "      <td>0</td>\n",
       "      <td>513</td>\n",
       "    </tr>\n",
       "    <tr>\n",
       "      <td>17295</td>\n",
       "      <td>0002866959037825957\\topen_doc_prod11093911</td>\n",
       "      <td>0002866959037825957</td>\n",
       "      <td>open_doc_prod11093911</td>\n",
       "      <td>221</td>\n",
       "      <td>0</td>\n",
       "      <td>0</td>\n",
       "      <td>1569651008</td>\n",
       "      <td>0</td>\n",
       "      <td>513</td>\n",
       "    </tr>\n",
       "    <tr>\n",
       "      <td>...</td>\n",
       "      <td>...</td>\n",
       "      <td>...</td>\n",
       "      <td>...</td>\n",
       "      <td>...</td>\n",
       "      <td>...</td>\n",
       "      <td>...</td>\n",
       "      <td>...</td>\n",
       "      <td>...</td>\n",
       "      <td>...</td>\n",
       "    </tr>\n",
       "    <tr>\n",
       "      <td>16703</td>\n",
       "      <td>fffd862630030963723\\topen_doc_prod11087885</td>\n",
       "      <td>fffd862630030963723</td>\n",
       "      <td>open_doc_prod11087885</td>\n",
       "      <td>232</td>\n",
       "      <td>0</td>\n",
       "      <td>0</td>\n",
       "      <td>1569651612</td>\n",
       "      <td>0</td>\n",
       "      <td>875</td>\n",
       "    </tr>\n",
       "    <tr>\n",
       "      <td>99189</td>\n",
       "      <td>fffd862630030963723\\t19928e0x0QNUCT</td>\n",
       "      <td>fffd862630030963723</td>\n",
       "      <td>19928e0x0QNUCT</td>\n",
       "      <td>237</td>\n",
       "      <td>0</td>\n",
       "      <td>0</td>\n",
       "      <td>1569654699</td>\n",
       "      <td>0</td>\n",
       "      <td>877</td>\n",
       "    </tr>\n",
       "    <tr>\n",
       "      <td>83720</td>\n",
       "      <td>fffd862630030963723\\t19928f0l1v8GhS</td>\n",
       "      <td>fffd862630030963723</td>\n",
       "      <td>19928f0l1v8GhS</td>\n",
       "      <td>234</td>\n",
       "      <td>0</td>\n",
       "      <td>0</td>\n",
       "      <td>1569657553</td>\n",
       "      <td>0</td>\n",
       "      <td>879</td>\n",
       "    </tr>\n",
       "    <tr>\n",
       "      <td>65917</td>\n",
       "      <td>fffd866937038695991\\t20190923A0BKAF00</td>\n",
       "      <td>fffd866937038695991</td>\n",
       "      <td>20190923A0BKAF00</td>\n",
       "      <td>242</td>\n",
       "      <td>0</td>\n",
       "      <td>0</td>\n",
       "      <td>1569652314</td>\n",
       "      <td>0</td>\n",
       "      <td>556</td>\n",
       "    </tr>\n",
       "    <tr>\n",
       "      <td>92446</td>\n",
       "      <td>ffff865224038537643\\t19927f0l2x4KVE</td>\n",
       "      <td>ffff865224038537643</td>\n",
       "      <td>19927f0l2x4KVE</td>\n",
       "      <td>240</td>\n",
       "      <td>0</td>\n",
       "      <td>0</td>\n",
       "      <td>1569656120</td>\n",
       "      <td>0</td>\n",
       "      <td>198</td>\n",
       "    </tr>\n",
       "  </tbody>\n",
       "</table>\n",
       "<p>122206 rows × 9 columns</p>\n",
       "</div>"
      ],
      "text/plain": [
       "                                                    id  \\\n",
       "10166  00011557708992845|23210d\\topen_doc_prod10994737   \n",
       "14          0001860649043926602\\topen_doc_prod10806649   \n",
       "6518        0001860649043926602\\topen_doc_prod10802119   \n",
       "93655       0002866959037825957\\topen_doc_prod10902489   \n",
       "17295       0002866959037825957\\topen_doc_prod11093911   \n",
       "...                                                ...   \n",
       "16703       fffd862630030963723\\topen_doc_prod11087885   \n",
       "99189              fffd862630030963723\\t19928e0x0QNUCT   \n",
       "83720              fffd862630030963723\\t19928f0l1v8GhS   \n",
       "65917            fffd866937038695991\\t20190923A0BKAF00   \n",
       "92446              ffff865224038537643\\t19927f0l2x4KVE   \n",
       "\n",
       "                            mid                 doc_id  flen  click  duration  \\\n",
       "10166  00011557708992845|23210d  open_doc_prod10994737   242      0         0   \n",
       "14          0001860649043926602  open_doc_prod10806649   235      0         0   \n",
       "6518        0001860649043926602  open_doc_prod10802119   241      0         0   \n",
       "93655       0002866959037825957  open_doc_prod10902489   254      0         0   \n",
       "17295       0002866959037825957  open_doc_prod11093911   221      0         0   \n",
       "...                         ...                    ...   ...    ...       ...   \n",
       "16703       fffd862630030963723  open_doc_prod11087885   232      0         0   \n",
       "99189       fffd862630030963723         19928e0x0QNUCT   237      0         0   \n",
       "83720       fffd862630030963723         19928f0l1v8GhS   234      0         0   \n",
       "65917       fffd866937038695991       20190923A0BKAF00   242      0         0   \n",
       "92446       ffff865224038537643         19927f0l2x4KVE   240      0         0   \n",
       "\n",
       "        show_time  unlike  num_interests  \n",
       "10166  1569654474       0            585  \n",
       "14     1569652725       0            518  \n",
       "6518   1569652725       0            518  \n",
       "93655  1569651006       0            513  \n",
       "17295  1569651008       0            513  \n",
       "...           ...     ...            ...  \n",
       "16703  1569651612       0            875  \n",
       "99189  1569654699       0            877  \n",
       "83720  1569657553       0            879  \n",
       "65917  1569652314       0            556  \n",
       "92446  1569656120       0            198  \n",
       "\n",
       "[122206 rows x 9 columns]"
      ]
     },
     "execution_count": 115,
     "metadata": {},
     "output_type": "execute_result"
    }
   ],
   "source": [
    "vd.sort_values(['mid', 'show_time'])"
   ]
  },
  {
   "cell_type": "code",
   "execution_count": 118,
   "metadata": {},
   "outputs": [
    {
     "data": {
      "text/plain": [
       "id               3593\n",
       "mid              3593\n",
       "doc_id           3593\n",
       "flen             3593\n",
       "click            3593\n",
       "duration         3593\n",
       "show_time        3593\n",
       "unlike           3593\n",
       "num_interests    3593\n",
       "dtype: int64"
      ]
     },
     "execution_count": 118,
     "metadata": {},
     "output_type": "execute_result"
    }
   ],
   "source": [
    "vd[vd['click'] == 1][vd['duration'] < 20].count(0)"
   ]
  },
  {
   "cell_type": "code",
   "execution_count": 119,
   "metadata": {},
   "outputs": [
    {
     "data": {
      "text/html": [
       "<div>\n",
       "<style scoped>\n",
       "    .dataframe tbody tr th:only-of-type {\n",
       "        vertical-align: middle;\n",
       "    }\n",
       "\n",
       "    .dataframe tbody tr th {\n",
       "        vertical-align: top;\n",
       "    }\n",
       "\n",
       "    .dataframe thead th {\n",
       "        text-align: right;\n",
       "    }\n",
       "</style>\n",
       "<table border=\"1\" class=\"dataframe\">\n",
       "  <thead>\n",
       "    <tr style=\"text-align: right;\">\n",
       "      <th></th>\n",
       "      <th>id</th>\n",
       "      <th>mid</th>\n",
       "      <th>doc_id</th>\n",
       "      <th>flen</th>\n",
       "      <th>click</th>\n",
       "      <th>duration</th>\n",
       "      <th>show_time</th>\n",
       "      <th>unlike</th>\n",
       "      <th>num_interests</th>\n",
       "    </tr>\n",
       "  </thead>\n",
       "  <tbody>\n",
       "    <tr>\n",
       "      <td>5</td>\n",
       "      <td>6260866955049930215\\t19927i0x40LXk1</td>\n",
       "      <td>6260866955049930215</td>\n",
       "      <td>19927i0x40LXk1</td>\n",
       "      <td>223</td>\n",
       "      <td>1</td>\n",
       "      <td>15</td>\n",
       "      <td>1569653310</td>\n",
       "      <td>0</td>\n",
       "      <td>608</td>\n",
       "    </tr>\n",
       "    <tr>\n",
       "      <td>16</td>\n",
       "      <td>3b82861533038874093\\t19928d0f3Ik7r2</td>\n",
       "      <td>3b82861533038874093</td>\n",
       "      <td>19928d0f3Ik7r2</td>\n",
       "      <td>229</td>\n",
       "      <td>1</td>\n",
       "      <td>31</td>\n",
       "      <td>1569653660</td>\n",
       "      <td>0</td>\n",
       "      <td>938</td>\n",
       "    </tr>\n",
       "    <tr>\n",
       "      <td>19</td>\n",
       "      <td>a5ec1569656442684|cd0a8a\\t19728m0r1m7Fty</td>\n",
       "      <td>a5ec1569656442684|cd0a8a</td>\n",
       "      <td>19728m0r1m7Fty</td>\n",
       "      <td>38</td>\n",
       "      <td>1</td>\n",
       "      <td>22</td>\n",
       "      <td>1569656461</td>\n",
       "      <td>0</td>\n",
       "      <td>0</td>\n",
       "    </tr>\n",
       "    <tr>\n",
       "      <td>20</td>\n",
       "      <td>472b5297cb81cb699fb2f17fd3405b2383c4611634d5\\t...</td>\n",
       "      <td>472b5297cb81cb699fb2f17fd3405b2383c4611634d5</td>\n",
       "      <td>19919g0x1BdNzX</td>\n",
       "      <td>252</td>\n",
       "      <td>1</td>\n",
       "      <td>39</td>\n",
       "      <td>1569654650</td>\n",
       "      <td>0</td>\n",
       "      <td>564</td>\n",
       "    </tr>\n",
       "    <tr>\n",
       "      <td>27</td>\n",
       "      <td>bc0c860267034022503\\t20190923A0FL8Q00</td>\n",
       "      <td>bc0c860267034022503</td>\n",
       "      <td>20190923A0FL8Q00</td>\n",
       "      <td>235</td>\n",
       "      <td>1</td>\n",
       "      <td>92</td>\n",
       "      <td>1569652163</td>\n",
       "      <td>0</td>\n",
       "      <td>436</td>\n",
       "    </tr>\n",
       "    <tr>\n",
       "      <td>...</td>\n",
       "      <td>...</td>\n",
       "      <td>...</td>\n",
       "      <td>...</td>\n",
       "      <td>...</td>\n",
       "      <td>...</td>\n",
       "      <td>...</td>\n",
       "      <td>...</td>\n",
       "      <td>...</td>\n",
       "      <td>...</td>\n",
       "    </tr>\n",
       "    <tr>\n",
       "      <td>122176</td>\n",
       "      <td>6f60869687046991778\\t20190928A08PZJ00</td>\n",
       "      <td>6f60869687046991778</td>\n",
       "      <td>20190928A08PZJ00</td>\n",
       "      <td>232</td>\n",
       "      <td>1</td>\n",
       "      <td>59</td>\n",
       "      <td>1569650694</td>\n",
       "      <td>0</td>\n",
       "      <td>751</td>\n",
       "    </tr>\n",
       "    <tr>\n",
       "      <td>122182</td>\n",
       "      <td>6a461567291344110|1b3220\\t19925i0x2OAy54</td>\n",
       "      <td>6a461567291344110|1b3220</td>\n",
       "      <td>19925i0x2OAy54</td>\n",
       "      <td>228</td>\n",
       "      <td>1</td>\n",
       "      <td>177</td>\n",
       "      <td>1569651929</td>\n",
       "      <td>0</td>\n",
       "      <td>111</td>\n",
       "    </tr>\n",
       "    <tr>\n",
       "      <td>122183</td>\n",
       "      <td>7c6d862350035483839\\t19927f0l4ewa4r</td>\n",
       "      <td>7c6d862350035483839</td>\n",
       "      <td>19927f0l4ewa4r</td>\n",
       "      <td>235</td>\n",
       "      <td>1</td>\n",
       "      <td>462</td>\n",
       "      <td>1569652212</td>\n",
       "      <td>0</td>\n",
       "      <td>292</td>\n",
       "    </tr>\n",
       "    <tr>\n",
       "      <td>122186</td>\n",
       "      <td>513b862281041705883\\topen_doc_prod10842193</td>\n",
       "      <td>513b862281041705883</td>\n",
       "      <td>open_doc_prod10842193</td>\n",
       "      <td>239</td>\n",
       "      <td>1</td>\n",
       "      <td>185</td>\n",
       "      <td>1569655900</td>\n",
       "      <td>0</td>\n",
       "      <td>687</td>\n",
       "    </tr>\n",
       "    <tr>\n",
       "      <td>122205</td>\n",
       "      <td>0e5b861982046650922\\t20190921A0L39400</td>\n",
       "      <td>0e5b861982046650922</td>\n",
       "      <td>20190921A0L39400</td>\n",
       "      <td>247</td>\n",
       "      <td>1</td>\n",
       "      <td>18</td>\n",
       "      <td>1569657181</td>\n",
       "      <td>0</td>\n",
       "      <td>574</td>\n",
       "    </tr>\n",
       "  </tbody>\n",
       "</table>\n",
       "<p>16378 rows × 9 columns</p>\n",
       "</div>"
      ],
      "text/plain": [
       "                                                       id  \\\n",
       "5                     6260866955049930215\\t19927i0x40LXk1   \n",
       "16                    3b82861533038874093\\t19928d0f3Ik7r2   \n",
       "19               a5ec1569656442684|cd0a8a\\t19728m0r1m7Fty   \n",
       "20      472b5297cb81cb699fb2f17fd3405b2383c4611634d5\\t...   \n",
       "27                  bc0c860267034022503\\t20190923A0FL8Q00   \n",
       "...                                                   ...   \n",
       "122176              6f60869687046991778\\t20190928A08PZJ00   \n",
       "122182           6a461567291344110|1b3220\\t19925i0x2OAy54   \n",
       "122183                7c6d862350035483839\\t19927f0l4ewa4r   \n",
       "122186         513b862281041705883\\topen_doc_prod10842193   \n",
       "122205              0e5b861982046650922\\t20190921A0L39400   \n",
       "\n",
       "                                                 mid                 doc_id  \\\n",
       "5                                6260866955049930215         19927i0x40LXk1   \n",
       "16                               3b82861533038874093         19928d0f3Ik7r2   \n",
       "19                          a5ec1569656442684|cd0a8a         19728m0r1m7Fty   \n",
       "20      472b5297cb81cb699fb2f17fd3405b2383c4611634d5         19919g0x1BdNzX   \n",
       "27                               bc0c860267034022503       20190923A0FL8Q00   \n",
       "...                                              ...                    ...   \n",
       "122176                           6f60869687046991778       20190928A08PZJ00   \n",
       "122182                      6a461567291344110|1b3220         19925i0x2OAy54   \n",
       "122183                           7c6d862350035483839         19927f0l4ewa4r   \n",
       "122186                           513b862281041705883  open_doc_prod10842193   \n",
       "122205                           0e5b861982046650922       20190921A0L39400   \n",
       "\n",
       "        flen  click  duration   show_time  unlike  num_interests  \n",
       "5        223      1        15  1569653310       0            608  \n",
       "16       229      1        31  1569653660       0            938  \n",
       "19        38      1        22  1569656461       0              0  \n",
       "20       252      1        39  1569654650       0            564  \n",
       "27       235      1        92  1569652163       0            436  \n",
       "...      ...    ...       ...         ...     ...            ...  \n",
       "122176   232      1        59  1569650694       0            751  \n",
       "122182   228      1       177  1569651929       0            111  \n",
       "122183   235      1       462  1569652212       0            292  \n",
       "122186   239      1       185  1569655900       0            687  \n",
       "122205   247      1        18  1569657181       0            574  \n",
       "\n",
       "[16378 rows x 9 columns]"
      ]
     },
     "execution_count": 119,
     "metadata": {},
     "output_type": "execute_result"
    }
   ],
   "source": [
    "vd[vd['click']==1]"
   ]
  },
  {
   "cell_type": "code",
   "execution_count": null,
   "metadata": {},
   "outputs": [],
   "source": []
  }
 ],
 "metadata": {
  "kernelspec": {
   "display_name": "Python 3",
   "language": "python",
   "name": "python3"
  },
  "language_info": {
   "codemirror_mode": {
    "name": "ipython",
    "version": 3
   },
   "file_extension": ".py",
   "mimetype": "text/x-python",
   "name": "python",
   "nbconvert_exporter": "python",
   "pygments_lexer": "ipython3",
   "version": "3.6.8"
  }
 },
 "nbformat": 4,
 "nbformat_minor": 2
}
