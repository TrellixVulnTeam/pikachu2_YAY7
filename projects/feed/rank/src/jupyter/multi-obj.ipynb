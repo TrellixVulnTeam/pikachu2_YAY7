{
 "cells": [
  {
   "cell_type": "code",
   "execution_count": 1,
   "metadata": {},
   "outputs": [
    {
     "name": "stderr",
     "output_type": "stream",
     "text": [
      "tensorflow_version: 1.14.0\n",
      "torch_version: 1.2.0\n",
      "WARNING: Logging before flag parsing goes to stderr.\n",
      "W0906 14:54:34.963110 140027074484032 deprecation_wrapper.py:119] From /search/odin/chenghuige/mine/pikachu/utils/melt/training/bert/optimization.py:79: The name tf.train.Optimizer is deprecated. Please use tf.compat.v1.train.Optimizer instead.\n",
      "\n",
      "W0906 14:54:36.282029 140027074484032 lazy_loader.py:50] \n",
      "The TensorFlow contrib module will not be included in TensorFlow 2.0.\n",
      "For more information, please see:\n",
      "  * https://github.com/tensorflow/community/blob/master/rfcs/20180907-contrib-sunset.md\n",
      "  * https://github.com/tensorflow/addons\n",
      "  * https://github.com/tensorflow/io (for I/O related ops)\n",
      "If you depend on functionality not listed there, please file an issue.\n",
      "\n",
      "Using TensorFlow backend.\n",
      "W0906 14:54:36.342601 140027074484032 deprecation_wrapper.py:119] From /search/odin/chenghuige/mine/pikachu/utils/melt/util.py:301: The name tf.train.GradientDescentOptimizer is deprecated. Please use tf.compat.v1.train.GradientDescentOptimizer instead.\n",
      "\n",
      "W0906 14:54:36.343567 140027074484032 deprecation_wrapper.py:119] From /search/odin/chenghuige/mine/pikachu/utils/melt/util.py:303: The name tf.train.AdagradOptimizer is deprecated. Please use tf.compat.v1.train.AdagradOptimizer instead.\n",
      "\n",
      "W0906 14:54:36.344540 140027074484032 deprecation_wrapper.py:119] From /search/odin/chenghuige/mine/pikachu/utils/melt/util.py:308: The name tf.train.AdamOptimizer is deprecated. Please use tf.compat.v1.train.AdamOptimizer instead.\n",
      "\n",
      "W0906 14:54:36.346160 140027074484032 deprecation_wrapper.py:119] From /search/odin/chenghuige/mine/pikachu/utils/melt/util.py:318: The name tf.train.FtrlOptimizer is deprecated. Please use tf.compat.v1.train.FtrlOptimizer instead.\n",
      "\n",
      "W0906 14:54:36.600934 140027074484032 deprecation_wrapper.py:119] From /search/odin/chenghuige/mine/pikachu/official/transformer/model/attention_layer.py:24: The name tf.layers.Layer is deprecated. Please use tf.compat.v1.layers.Layer instead.\n",
      "\n"
     ]
    }
   ],
   "source": [
    "import melt\n",
    "import gezi\n",
    "import seaborn as sns\n",
    "import matplotlib.pyplot as plt\n",
    "from scipy.stats import norm\n",
    "import math\n",
    "import numpy as np\n",
    "import pandas as pd\n",
    "import sys, os\n",
    "%matplotlib inline"
   ]
  },
  {
   "cell_type": "code",
   "execution_count": 2,
   "metadata": {},
   "outputs": [],
   "source": [
    "sys.path.append(os.path.dirname(os.getcwd()))"
   ]
  },
  {
   "cell_type": "code",
   "execution_count": 3,
   "metadata": {},
   "outputs": [
    {
     "data": {
      "text/plain": [
       "'/search/odin/chenghuige/mine/pikachu/projects/feed/rank/src'"
      ]
     },
     "execution_count": 3,
     "metadata": {},
     "output_type": "execute_result"
    }
   ],
   "source": [
    "os.path.dirname(os.getcwd())"
   ]
  },
  {
   "cell_type": "code",
   "execution_count": 14,
   "metadata": {},
   "outputs": [],
   "source": [
    "import evaluate"
   ]
  },
  {
   "cell_type": "code",
   "execution_count": 15,
   "metadata": {},
   "outputs": [],
   "source": [
    "file = '/home/gezi/new/temp/feed/rank/zjx_data_2/jiexin.csv'"
   ]
  },
  {
   "cell_type": "code",
   "execution_count": 16,
   "metadata": {},
   "outputs": [],
   "source": [
    "df = pd.read_csv(file)"
   ]
  },
  {
   "cell_type": "code",
   "execution_count": 17,
   "metadata": {},
   "outputs": [
    {
     "data": {
      "text/html": [
       "<div>\n",
       "<style scoped>\n",
       "    .dataframe tbody tr th:only-of-type {\n",
       "        vertical-align: middle;\n",
       "    }\n",
       "\n",
       "    .dataframe tbody tr th {\n",
       "        vertical-align: top;\n",
       "    }\n",
       "\n",
       "    .dataframe thead th {\n",
       "        text-align: right;\n",
       "    }\n",
       "</style>\n",
       "<table border=\"1\" class=\"dataframe\">\n",
       "  <thead>\n",
       "    <tr style=\"text-align: right;\">\n",
       "      <th></th>\n",
       "      <th>uid</th>\n",
       "      <th>docid</th>\n",
       "      <th>label</th>\n",
       "      <th>duration</th>\n",
       "      <th>pred</th>\n",
       "    </tr>\n",
       "  </thead>\n",
       "  <tbody>\n",
       "    <tr>\n",
       "      <th>0</th>\n",
       "      <td>a8a6A100005413C023</td>\n",
       "      <td>19825n0l0pVsea</td>\n",
       "      <td>0</td>\n",
       "      <td>0</td>\n",
       "      <td>0.0935</td>\n",
       "    </tr>\n",
       "    <tr>\n",
       "      <th>1</th>\n",
       "      <td>0b76865334032124734</td>\n",
       "      <td>20190831A0JX0N00</td>\n",
       "      <td>0</td>\n",
       "      <td>0</td>\n",
       "      <td>0.0371</td>\n",
       "    </tr>\n",
       "    <tr>\n",
       "      <th>2</th>\n",
       "      <td>9323868652045248597</td>\n",
       "      <td>20190827A0S5Z100</td>\n",
       "      <td>0</td>\n",
       "      <td>0</td>\n",
       "      <td>0.0871</td>\n",
       "    </tr>\n",
       "    <tr>\n",
       "      <th>3</th>\n",
       "      <td>ef65869497037554670</td>\n",
       "      <td>open_doc_prod9818013</td>\n",
       "      <td>0</td>\n",
       "      <td>0</td>\n",
       "      <td>0.0903</td>\n",
       "    </tr>\n",
       "    <tr>\n",
       "      <th>4</th>\n",
       "      <td>cd9f868808026771490</td>\n",
       "      <td>20190328A0QTZT00</td>\n",
       "      <td>0</td>\n",
       "      <td>0</td>\n",
       "      <td>0.0014</td>\n",
       "    </tr>\n",
       "  </tbody>\n",
       "</table>\n",
       "</div>"
      ],
      "text/plain": [
       "                   uid                 docid  label  duration    pred\n",
       "0   a8a6A100005413C023        19825n0l0pVsea      0         0  0.0935\n",
       "1  0b76865334032124734      20190831A0JX0N00      0         0  0.0371\n",
       "2  9323868652045248597      20190827A0S5Z100      0         0  0.0871\n",
       "3  ef65869497037554670  open_doc_prod9818013      0         0  0.0903\n",
       "4  cd9f868808026771490      20190328A0QTZT00      0         0  0.0014"
      ]
     },
     "execution_count": 17,
     "metadata": {},
     "output_type": "execute_result"
    }
   ],
   "source": [
    "df.head()"
   ]
  },
  {
   "cell_type": "code",
   "execution_count": 18,
   "metadata": {},
   "outputs": [],
   "source": [
    "df['id'] = df['uid'] + '\\t' + df['docid']"
   ]
  },
  {
   "cell_type": "code",
   "execution_count": 19,
   "metadata": {},
   "outputs": [],
   "source": [
    "info = {'id': df['id'].values, 'duration': df['duration'].values}"
   ]
  },
  {
   "cell_type": "code",
   "execution_count": 20,
   "metadata": {},
   "outputs": [
    {
     "data": {
      "text/html": [
       "<div>\n",
       "<style scoped>\n",
       "    .dataframe tbody tr th:only-of-type {\n",
       "        vertical-align: middle;\n",
       "    }\n",
       "\n",
       "    .dataframe tbody tr th {\n",
       "        vertical-align: top;\n",
       "    }\n",
       "\n",
       "    .dataframe thead th {\n",
       "        text-align: right;\n",
       "    }\n",
       "</style>\n",
       "<table border=\"1\" class=\"dataframe\">\n",
       "  <thead>\n",
       "    <tr style=\"text-align: right;\">\n",
       "      <th></th>\n",
       "      <th>uid</th>\n",
       "      <th>docid</th>\n",
       "      <th>label</th>\n",
       "      <th>duration</th>\n",
       "      <th>pred</th>\n",
       "      <th>id</th>\n",
       "    </tr>\n",
       "  </thead>\n",
       "  <tbody>\n",
       "    <tr>\n",
       "      <th>0</th>\n",
       "      <td>a8a6A100005413C023</td>\n",
       "      <td>19825n0l0pVsea</td>\n",
       "      <td>0</td>\n",
       "      <td>0</td>\n",
       "      <td>0.0935</td>\n",
       "      <td>a8a6A100005413C023\\t19825n0l0pVsea</td>\n",
       "    </tr>\n",
       "    <tr>\n",
       "      <th>1</th>\n",
       "      <td>0b76865334032124734</td>\n",
       "      <td>20190831A0JX0N00</td>\n",
       "      <td>0</td>\n",
       "      <td>0</td>\n",
       "      <td>0.0371</td>\n",
       "      <td>0b76865334032124734\\t20190831A0JX0N00</td>\n",
       "    </tr>\n",
       "    <tr>\n",
       "      <th>2</th>\n",
       "      <td>9323868652045248597</td>\n",
       "      <td>20190827A0S5Z100</td>\n",
       "      <td>0</td>\n",
       "      <td>0</td>\n",
       "      <td>0.0871</td>\n",
       "      <td>9323868652045248597\\t20190827A0S5Z100</td>\n",
       "    </tr>\n",
       "    <tr>\n",
       "      <th>3</th>\n",
       "      <td>ef65869497037554670</td>\n",
       "      <td>open_doc_prod9818013</td>\n",
       "      <td>0</td>\n",
       "      <td>0</td>\n",
       "      <td>0.0903</td>\n",
       "      <td>ef65869497037554670\\topen_doc_prod9818013</td>\n",
       "    </tr>\n",
       "    <tr>\n",
       "      <th>4</th>\n",
       "      <td>cd9f868808026771490</td>\n",
       "      <td>20190328A0QTZT00</td>\n",
       "      <td>0</td>\n",
       "      <td>0</td>\n",
       "      <td>0.0014</td>\n",
       "      <td>cd9f868808026771490\\t20190328A0QTZT00</td>\n",
       "    </tr>\n",
       "  </tbody>\n",
       "</table>\n",
       "</div>"
      ],
      "text/plain": [
       "                   uid                 docid  label  duration    pred  \\\n",
       "0   a8a6A100005413C023        19825n0l0pVsea      0         0  0.0935   \n",
       "1  0b76865334032124734      20190831A0JX0N00      0         0  0.0371   \n",
       "2  9323868652045248597      20190827A0S5Z100      0         0  0.0871   \n",
       "3  ef65869497037554670  open_doc_prod9818013      0         0  0.0903   \n",
       "4  cd9f868808026771490      20190328A0QTZT00      0         0  0.0014   \n",
       "\n",
       "                                          id  \n",
       "0         a8a6A100005413C023\\t19825n0l0pVsea  \n",
       "1      0b76865334032124734\\t20190831A0JX0N00  \n",
       "2      9323868652045248597\\t20190827A0S5Z100  \n",
       "3  ef65869497037554670\\topen_doc_prod9818013  \n",
       "4      cd9f868808026771490\\t20190328A0QTZT00  "
      ]
     },
     "execution_count": 20,
     "metadata": {},
     "output_type": "execute_result"
    }
   ],
   "source": [
    "df.head()"
   ]
  },
  {
   "cell_type": "code",
   "execution_count": 47,
   "metadata": {},
   "outputs": [
    {
     "data": {
      "text/plain": [
       "50000"
      ]
     },
     "execution_count": 47,
     "metadata": {},
     "output_type": "execute_result"
    }
   ],
   "source": [
    "len(df)"
   ]
  },
  {
   "cell_type": "code",
   "execution_count": 21,
   "metadata": {},
   "outputs": [
    {
     "name": "stdout",
     "output_type": "stream",
     "text": [
      "auc 0.7628206884115875 loss 0.7267389515742603\n",
      "concordant 0.7491844013611879 concordant_click 0.5268365868194409\n"
     ]
    },
    {
     "name": "stderr",
     "output_type": "stream",
     "text": [
      "inverse_ratio start\n",
      "inverse_ratio duration: 0.014130592346191406\n",
      "------------weighted_inv: 20.29611723331122\n",
      "------------weighted_inv_click: 32.80821589047769\n"
     ]
    },
    {
     "data": {
      "text/plain": [
       "{'loss': 0.7267389515742603,\n",
       " 'auc': 0.7628206884115875,\n",
       " 'mse': 1.826887453857927,\n",
       " 'mae': 0.5247791343032827,\n",
       " 'concordant': 0.7491844013611879,\n",
       " 'concordant_click': 0.5268365868194409,\n",
       " 'weighted_inv': 20.29611723331122,\n",
       " 'weighted_inv_click': 32.80821589047769}"
      ]
     },
     "execution_count": 21,
     "metadata": {},
     "output_type": "execute_result"
    }
   ],
   "source": [
    "evaluate.evaluate_rank(df.label.values, df.pred.values, info, group=False)"
   ]
  },
  {
   "cell_type": "code",
   "execution_count": 22,
   "metadata": {},
   "outputs": [],
   "source": [
    "file2 = '/home/gezi/new/temp/feed/rank/zjx_data_2/model/v8/dense.l2/model.ckpt-2.00-90873.valid'"
   ]
  },
  {
   "cell_type": "code",
   "execution_count": 49,
   "metadata": {},
   "outputs": [],
   "source": [
    "file2 = '/home/gezi/new/temp/feed/rank/zjx_data_2/model/v8/dense.nofield/model.ckpt-2.00-90873.valid'"
   ]
  },
  {
   "cell_type": "code",
   "execution_count": 50,
   "metadata": {},
   "outputs": [],
   "source": [
    "df2 = pd.read_csv(file2)"
   ]
  },
  {
   "cell_type": "code",
   "execution_count": 51,
   "metadata": {},
   "outputs": [
    {
     "data": {
      "text/html": [
       "<div>\n",
       "<style scoped>\n",
       "    .dataframe tbody tr th:only-of-type {\n",
       "        vertical-align: middle;\n",
       "    }\n",
       "\n",
       "    .dataframe tbody tr th {\n",
       "        vertical-align: top;\n",
       "    }\n",
       "\n",
       "    .dataframe thead th {\n",
       "        text-align: right;\n",
       "    }\n",
       "</style>\n",
       "<table border=\"1\" class=\"dataframe\">\n",
       "  <thead>\n",
       "    <tr style=\"text-align: right;\">\n",
       "      <th></th>\n",
       "      <th>uid</th>\n",
       "      <th>docid</th>\n",
       "      <th>label</th>\n",
       "      <th>duration</th>\n",
       "      <th>predict</th>\n",
       "      <th>prob</th>\n",
       "    </tr>\n",
       "  </thead>\n",
       "  <tbody>\n",
       "    <tr>\n",
       "      <th>0</th>\n",
       "      <td>5aef868600035726239</td>\n",
       "      <td>open_doc_prod9783179</td>\n",
       "      <td>0.0</td>\n",
       "      <td>0</td>\n",
       "      <td>-2.270894</td>\n",
       "      <td>0.093562</td>\n",
       "    </tr>\n",
       "    <tr>\n",
       "      <th>1</th>\n",
       "      <td>649eA10000456B5E04</td>\n",
       "      <td>20190901A0CSG800</td>\n",
       "      <td>0.0</td>\n",
       "      <td>0</td>\n",
       "      <td>-2.255128</td>\n",
       "      <td>0.094908</td>\n",
       "    </tr>\n",
       "    <tr>\n",
       "      <th>2</th>\n",
       "      <td>a550867067048221536</td>\n",
       "      <td>19828n0x13ph3n</td>\n",
       "      <td>0.0</td>\n",
       "      <td>0</td>\n",
       "      <td>-2.283258</td>\n",
       "      <td>0.092519</td>\n",
       "    </tr>\n",
       "    <tr>\n",
       "      <th>3</th>\n",
       "      <td>ac29862262033914576</td>\n",
       "      <td>open_doc_prod9863643</td>\n",
       "      <td>0.0</td>\n",
       "      <td>0</td>\n",
       "      <td>-0.619905</td>\n",
       "      <td>0.349803</td>\n",
       "    </tr>\n",
       "    <tr>\n",
       "      <th>4</th>\n",
       "      <td>322f867300036509186</td>\n",
       "      <td>19828m0l0Xiz6g</td>\n",
       "      <td>1.0</td>\n",
       "      <td>59</td>\n",
       "      <td>-2.246098</td>\n",
       "      <td>0.095687</td>\n",
       "    </tr>\n",
       "  </tbody>\n",
       "</table>\n",
       "</div>"
      ],
      "text/plain": [
       "                   uid                 docid  label  duration   predict  \\\n",
       "0  5aef868600035726239  open_doc_prod9783179    0.0         0 -2.270894   \n",
       "1   649eA10000456B5E04      20190901A0CSG800    0.0         0 -2.255128   \n",
       "2  a550867067048221536        19828n0x13ph3n    0.0         0 -2.283258   \n",
       "3  ac29862262033914576  open_doc_prod9863643    0.0         0 -0.619905   \n",
       "4  322f867300036509186        19828m0l0Xiz6g    1.0        59 -2.246098   \n",
       "\n",
       "       prob  \n",
       "0  0.093562  \n",
       "1  0.094908  \n",
       "2  0.092519  \n",
       "3  0.349803  \n",
       "4  0.095687  "
      ]
     },
     "execution_count": 51,
     "metadata": {},
     "output_type": "execute_result"
    }
   ],
   "source": [
    "df2.head()"
   ]
  },
  {
   "cell_type": "code",
   "execution_count": 56,
   "metadata": {},
   "outputs": [],
   "source": [
    "df2['id'] = df2['uid'] + '\\t' + df2['docid']"
   ]
  },
  {
   "cell_type": "code",
   "execution_count": 57,
   "metadata": {},
   "outputs": [],
   "source": [
    "info2 = {'id': df2['id'].values, 'duration': df2['duration'].values}"
   ]
  },
  {
   "cell_type": "code",
   "execution_count": 58,
   "metadata": {},
   "outputs": [
    {
     "data": {
      "text/plain": [
       "3324327"
      ]
     },
     "execution_count": 58,
     "metadata": {},
     "output_type": "execute_result"
    }
   ],
   "source": [
    "len(df2)"
   ]
  },
  {
   "cell_type": "code",
   "execution_count": 55,
   "metadata": {},
   "outputs": [
    {
     "name": "stdout",
     "output_type": "stream",
     "text": [
      "auc 0.7577460659920476 loss 0.3017677077416396\n"
     ]
    },
    {
     "name": "stderr",
     "output_type": "stream",
     "text": [
      "inverse_ratio start\n",
      "inverse_ratio duration: 1.9351744651794434\n"
     ]
    },
    {
     "name": "stdout",
     "output_type": "stream",
     "text": [
      "concordant 0.7443631239524712 concordant_click 0.5234986820389574\n"
     ]
    },
    {
     "name": "stderr",
     "output_type": "stream",
     "text": [
      "------------weighted_inv: 20.751076311169957\n",
      "------------weighted_inv_click: 32.61907848116685\n"
     ]
    },
    {
     "data": {
      "text/plain": [
       "{'loss': 0.3017677077416396,\n",
       " 'auc': 0.7577460659920476,\n",
       " 'mse': 13.554857856806983,\n",
       " 'mae': 3.245942932649589,\n",
       " 'concordant': 0.7443631239524712,\n",
       " 'concordant_click': 0.5234986820389574,\n",
       " 'weighted_inv': 20.751076311169957,\n",
       " 'weighted_inv_click': 32.61907848116685}"
      ]
     },
     "execution_count": 55,
     "metadata": {},
     "output_type": "execute_result"
    }
   ],
   "source": [
    "evaluate.evaluate_rank(df2.label.values, df2.predict.values, info2, group=False)"
   ]
  },
  {
   "cell_type": "code",
   "execution_count": 80,
   "metadata": {},
   "outputs": [],
   "source": [
    "df3 = df2.sample(50000)"
   ]
  },
  {
   "cell_type": "code",
   "execution_count": 81,
   "metadata": {},
   "outputs": [
    {
     "name": "stdout",
     "output_type": "stream",
     "text": [
      "auc 0.7651855287531732 loss 0.3008544316328771\n",
      "concordant 0.7512304427383221 concordant_click 0.5240227620100859\n"
     ]
    },
    {
     "name": "stderr",
     "output_type": "stream",
     "text": [
      "inverse_ratio start\n",
      "inverse_ratio duration: 0.017309904098510742\n",
      "------------weighted_inv: 20.340090857216804\n",
      "------------weighted_inv_click: 31.85817446719993\n"
     ]
    },
    {
     "data": {
      "text/plain": [
       "{'loss': 0.3008544316328771,\n",
       " 'auc': 0.7651855287531732,\n",
       " 'mse': 13.57754126716095,\n",
       " 'mae': 3.2495546367531176,\n",
       " 'concordant': 0.7512304427383221,\n",
       " 'concordant_click': 0.5240227620100859,\n",
       " 'weighted_inv': 20.340090857216804,\n",
       " 'weighted_inv_click': 31.85817446719993}"
      ]
     },
     "execution_count": 81,
     "metadata": {},
     "output_type": "execute_result"
    }
   ],
   "source": [
    "info3 = {'id': df3['id'].values, 'duration': df3['duration'].values}\n",
    "evaluate.evaluate_rank(df3.label.values, df3.predict.values, info3, group=False)"
   ]
  },
  {
   "cell_type": "code",
   "execution_count": 59,
   "metadata": {},
   "outputs": [],
   "source": [
    "ids = set(df.id.values)"
   ]
  },
  {
   "cell_type": "code",
   "execution_count": 60,
   "metadata": {},
   "outputs": [],
   "source": [
    "df3 = df2[df2['id'].isin(ids)]"
   ]
  },
  {
   "cell_type": "code",
   "execution_count": 61,
   "metadata": {},
   "outputs": [],
   "source": [
    "info3 = {'id': df3['id'].values, 'duration': df3['duration'].values}"
   ]
  },
  {
   "cell_type": "code",
   "execution_count": 62,
   "metadata": {},
   "outputs": [
    {
     "name": "stdout",
     "output_type": "stream",
     "text": [
      "auc 0.7601011695300801 loss 0.30386889893204794\n",
      "concordant 0.746483071514253 concordant_click 0.5254530568770661\n"
     ]
    },
    {
     "name": "stderr",
     "output_type": "stream",
     "text": [
      "inverse_ratio start\n",
      "inverse_ratio duration: 0.0174105167388916\n",
      "------------weighted_inv: 20.474541981129107\n",
      "------------weighted_inv_click: 32.97676590912123\n"
     ]
    },
    {
     "data": {
      "text/plain": [
       "{'loss': 0.30386889893204794,\n",
       " 'auc': 0.7601011695300801,\n",
       " 'mse': 13.553468173558437,\n",
       " 'mae': 3.2481360592112254,\n",
       " 'concordant': 0.746483071514253,\n",
       " 'concordant_click': 0.5254530568770661,\n",
       " 'weighted_inv': 20.474541981129107,\n",
       " 'weighted_inv_click': 32.97676590912123}"
      ]
     },
     "execution_count": 62,
     "metadata": {},
     "output_type": "execute_result"
    }
   ],
   "source": [
    "evaluate.evaluate_rank(df3.label.values, df3.predict.values, info3, group=False)"
   ]
  },
  {
   "cell_type": "code",
   "execution_count": 5,
   "metadata": {},
   "outputs": [],
   "source": [
    "#file_ = '/home/gezi/new/temp/feed/rank/portrait/model/v9/deep.fm.multi.jump.weight2/model.ckpt-8.00-62148.valid'"
   ]
  },
  {
   "cell_type": "code",
   "execution_count": 6,
   "metadata": {},
   "outputs": [],
   "source": [
    "#file_ = '/home/gezi/new/temp/feed/rank/portrait/model/v9.v0/deep.fm.multi.jump.uniform.weight/model.ckpt-1.00-62147.valid'"
   ]
  },
  {
   "cell_type": "code",
   "execution_count": 7,
   "metadata": {},
   "outputs": [],
   "source": [
    "#file_ = '/home/gezi/new/temp/feed/rank/portrait/model/v9/deep.fm.multi.jump.normal.weight/model.ckpt-1.00-62147.valid'"
   ]
  },
  {
   "cell_type": "code",
   "execution_count": 8,
   "metadata": {},
   "outputs": [],
   "source": [
    "#file_ = '/home/gezi/new/temp/feed/rank/portrait/model/v9/deep.fm.multi.jump.uniform/model.ckpt-1.00-62147.valid'"
   ]
  },
  {
   "cell_type": "code",
   "execution_count": 9,
   "metadata": {},
   "outputs": [],
   "source": [
    "#file_ = '/home/gezi/new/temp/feed/rank/portrait/model/v9/deep.fm.multi.jump.mse.uniform.weight/model.ckpt-1.00-62147.valid'"
   ]
  },
  {
   "cell_type": "code",
   "execution_count": 10,
   "metadata": {},
   "outputs": [],
   "source": [
    "#file_ = '/home/gezi/new/temp/feed/rank/portrait/model/v9/deep.fm.multi.jump.uniform.weight.sigmoid/model.ckpt-1.00-62147.valid'"
   ]
  },
  {
   "cell_type": "code",
   "execution_count": 11,
   "metadata": {},
   "outputs": [],
   "source": [
    "#file_ = '/home/gezi/new/temp/feed/rank/portrait/model/v9/deep.fm.multi.jump.uniform.weight.mse/model.ckpt-1.00-62147.valid'"
   ]
  },
  {
   "cell_type": "code",
   "execution_count": 12,
   "metadata": {},
   "outputs": [],
   "source": [
    "#file_ = '/home/gezi/new/temp/feed/rank/portrait/model/v9/deep.fm.multi.jump.uniform.weight.dense.mse/model.ckpt-1.00-62147.valid'"
   ]
  },
  {
   "cell_type": "code",
   "execution_count": 13,
   "metadata": {},
   "outputs": [],
   "source": [
    "file_ = '/home/gezi/new/temp/feed/rank/portrait/model/v9/deep.fm.multi.jump.uniform.weight2/epoch/model.ckpt-1.00-62146.valid'"
   ]
  },
  {
   "cell_type": "code",
   "execution_count": 14,
   "metadata": {},
   "outputs": [],
   "source": [
    "df = pd.read_csv(file_)"
   ]
  },
  {
   "cell_type": "code",
   "execution_count": 15,
   "metadata": {},
   "outputs": [
    {
     "data": {
      "text/html": [
       "<div>\n",
       "<style scoped>\n",
       "    .dataframe tbody tr th:only-of-type {\n",
       "        vertical-align: middle;\n",
       "    }\n",
       "\n",
       "    .dataframe tbody tr th {\n",
       "        vertical-align: top;\n",
       "    }\n",
       "\n",
       "    .dataframe thead th {\n",
       "        text-align: right;\n",
       "    }\n",
       "</style>\n",
       "<table border=\"1\" class=\"dataframe\">\n",
       "  <thead>\n",
       "    <tr style=\"text-align: right;\">\n",
       "      <th></th>\n",
       "      <th>uid</th>\n",
       "      <th>docid</th>\n",
       "      <th>label</th>\n",
       "      <th>duration</th>\n",
       "      <th>predict</th>\n",
       "      <th>prob</th>\n",
       "      <th>y_click</th>\n",
       "      <th>y_dur</th>\n",
       "    </tr>\n",
       "  </thead>\n",
       "  <tbody>\n",
       "    <tr>\n",
       "      <th>0</th>\n",
       "      <td>3a38860871034898125</td>\n",
       "      <td>1972690l0DyLat</td>\n",
       "      <td>0.0</td>\n",
       "      <td>0</td>\n",
       "      <td>-3.456410</td>\n",
       "      <td>0.030578</td>\n",
       "      <td>-2.049590</td>\n",
       "      <td>-1.004743</td>\n",
       "    </tr>\n",
       "    <tr>\n",
       "      <th>1</th>\n",
       "      <td>074f355905076108449</td>\n",
       "      <td>open_doc_prod8057845</td>\n",
       "      <td>0.0</td>\n",
       "      <td>0</td>\n",
       "      <td>-3.511297</td>\n",
       "      <td>0.028993</td>\n",
       "      <td>-2.292529</td>\n",
       "      <td>-0.772139</td>\n",
       "    </tr>\n",
       "    <tr>\n",
       "      <th>2</th>\n",
       "      <td>3565860525049605335</td>\n",
       "      <td>19729f0x1xvg70</td>\n",
       "      <td>0.0</td>\n",
       "      <td>0</td>\n",
       "      <td>-7.565335</td>\n",
       "      <td>0.000518</td>\n",
       "      <td>-5.821646</td>\n",
       "      <td>-1.548513</td>\n",
       "    </tr>\n",
       "    <tr>\n",
       "      <th>3</th>\n",
       "      <td>3ca2863906036089252</td>\n",
       "      <td>19730b0x28sf3c</td>\n",
       "      <td>0.0</td>\n",
       "      <td>0</td>\n",
       "      <td>-2.049970</td>\n",
       "      <td>0.114055</td>\n",
       "      <td>-1.522104</td>\n",
       "      <td>0.560812</td>\n",
       "    </tr>\n",
       "    <tr>\n",
       "      <th>4</th>\n",
       "      <td>47d2862734030561816</td>\n",
       "      <td>open_doc_prod8444159</td>\n",
       "      <td>0.0</td>\n",
       "      <td>0</td>\n",
       "      <td>-6.005404</td>\n",
       "      <td>0.002459</td>\n",
       "      <td>-5.638172</td>\n",
       "      <td>0.816112</td>\n",
       "    </tr>\n",
       "  </tbody>\n",
       "</table>\n",
       "</div>"
      ],
      "text/plain": [
       "                   uid                 docid  label  duration   predict  \\\n",
       "0  3a38860871034898125        1972690l0DyLat    0.0         0 -3.456410   \n",
       "1  074f355905076108449  open_doc_prod8057845    0.0         0 -3.511297   \n",
       "2  3565860525049605335        19729f0x1xvg70    0.0         0 -7.565335   \n",
       "3  3ca2863906036089252        19730b0x28sf3c    0.0         0 -2.049970   \n",
       "4  47d2862734030561816  open_doc_prod8444159    0.0         0 -6.005404   \n",
       "\n",
       "       prob   y_click     y_dur  \n",
       "0  0.030578 -2.049590 -1.004743  \n",
       "1  0.028993 -2.292529 -0.772139  \n",
       "2  0.000518 -5.821646 -1.548513  \n",
       "3  0.114055 -1.522104  0.560812  \n",
       "4  0.002459 -5.638172  0.816112  "
      ]
     },
     "execution_count": 15,
     "metadata": {},
     "output_type": "execute_result"
    }
   ],
   "source": [
    "df.head()"
   ]
  },
  {
   "cell_type": "code",
   "execution_count": 8,
   "metadata": {},
   "outputs": [],
   "source": [
    "df['id'] = df['uid'] + '\\t' + df['docid']"
   ]
  },
  {
   "cell_type": "code",
   "execution_count": 9,
   "metadata": {},
   "outputs": [],
   "source": [
    "info = {'id': df['id'].values, 'duration': df['duration'].values}"
   ]
  },
  {
   "cell_type": "code",
   "execution_count": null,
   "metadata": {},
   "outputs": [],
   "source": [
    "evaluate.evaluate_rank(df.label.values, df.p.values, info, group=False)"
   ]
  },
  {
   "cell_type": "code",
   "execution_count": 16,
   "metadata": {},
   "outputs": [],
   "source": [
    "import tensorflow as tf"
   ]
  },
  {
   "cell_type": "code",
   "execution_count": 17,
   "metadata": {},
   "outputs": [
    {
     "data": {
      "text/plain": [
       "4.279360771179198"
      ]
     },
     "execution_count": 17,
     "metadata": {},
     "output_type": "execute_result"
    }
   ],
   "source": [
    "df.y_dur.max()"
   ]
  },
  {
   "cell_type": "code",
   "execution_count": 18,
   "metadata": {},
   "outputs": [
    {
     "name": "stderr",
     "output_type": "stream",
     "text": [
      "/home/gezi/env/anaconda3/lib/python3.6/site-packages/seaborn/distributions.py:218: MatplotlibDeprecationWarning: \n",
      "The 'normed' kwarg was deprecated in Matplotlib 2.1 and will be removed in 3.1. Use 'density' instead.\n",
      "  color=hist_color, **hist_kws)\n"
     ]
    },
    {
     "data": {
      "text/plain": [
       "<matplotlib.axes._subplots.AxesSubplot at 0x7f162c6f2ba8>"
      ]
     },
     "execution_count": 18,
     "metadata": {},
     "output_type": "execute_result"
    },
    {
     "data": {
      "image/png": "[encoded data removed]",
      "text/plain": [
       "<Figure size 432x288 with 1 Axes>"
      ]
     },
     "metadata": {},
     "output_type": "display_data"
    }
   ],
   "source": [
    "sns.distplot(df.predict[:10000], fit=norm)"
   ]
  },
  {
   "cell_type": "code",
   "execution_count": 19,
   "metadata": {},
   "outputs": [
    {
     "name": "stderr",
     "output_type": "stream",
     "text": [
      "/home/gezi/env/anaconda3/lib/python3.6/site-packages/seaborn/distributions.py:218: MatplotlibDeprecationWarning: \n",
      "The 'normed' kwarg was deprecated in Matplotlib 2.1 and will be removed in 3.1. Use 'density' instead.\n",
      "  color=hist_color, **hist_kws)\n"
     ]
    },
    {
     "data": {
      "text/plain": [
       "<matplotlib.axes._subplots.AxesSubplot at 0x7f162c6f26d8>"
      ]
     },
     "execution_count": 19,
     "metadata": {},
     "output_type": "execute_result"
    },
    {
     "data": {
      "image/png": "[encoded data removed]",
      "text/plain": [
       "<Figure size 432x288 with 1 Axes>"
      ]
     },
     "metadata": {},
     "output_type": "display_data"
    }
   ],
   "source": [
    "sns.distplot(df.y_dur[:10000], fit=norm)"
   ]
  },
  {
   "cell_type": "code",
   "execution_count": 20,
   "metadata": {},
   "outputs": [
    {
     "name": "stderr",
     "output_type": "stream",
     "text": [
      "/home/gezi/env/anaconda3/lib/python3.6/site-packages/ipykernel_launcher.py:1: MatplotlibDeprecationWarning: \n",
      "The 'normed' kwarg was deprecated in Matplotlib 2.1 and will be removed in 3.1. Use 'density' instead.\n",
      "  \"\"\"Entry point for launching an IPython kernel.\n"
     ]
    },
    {
     "data": {
      "text/plain": [
       "(array([   5.,   28.,   63.,  147.,  283.,  542.,  832., 1138., 1440.,\n",
       "        1584., 1356., 1061.,  732.,  415.,  207.,  108.,   38.,   11.,\n",
       "           7.,    3.]),\n",
       " array([-2.66186547, -2.36881917, -2.07577286, -1.78272655, -1.48968024,\n",
       "        -1.19663393, -0.90358763, -0.61054132, -0.31749501, -0.0244487 ,\n",
       "         0.2685976 ,  0.56164391,  0.85469022,  1.14773653,  1.44078283,\n",
       "         1.73382914,  2.02687545,  2.31992176,  2.61296806,  2.90601437,\n",
       "         3.19906068]),\n",
       " <a list of 20 Patch objects>)"
      ]
     },
     "execution_count": 20,
     "metadata": {},
     "output_type": "execute_result"
    },
    {
     "data": {
      "image/png": "[encoded data removed]",
      "text/plain": [
       "<Figure size 432x288 with 1 Axes>"
      ]
     },
     "metadata": {},
     "output_type": "display_data"
    }
   ],
   "source": [
    "plt.hist(df.y_dur[:10000], normed=False, bins=20)"
   ]
  },
  {
   "cell_type": "code",
   "execution_count": 21,
   "metadata": {},
   "outputs": [],
   "source": [
    "df['id'] = df['uid'] + '\\t' + df['docid']"
   ]
  },
  {
   "cell_type": "code",
   "execution_count": 22,
   "metadata": {},
   "outputs": [
    {
     "data": {
      "text/html": [
       "<div>\n",
       "<style scoped>\n",
       "    .dataframe tbody tr th:only-of-type {\n",
       "        vertical-align: middle;\n",
       "    }\n",
       "\n",
       "    .dataframe tbody tr th {\n",
       "        vertical-align: top;\n",
       "    }\n",
       "\n",
       "    .dataframe thead th {\n",
       "        text-align: right;\n",
       "    }\n",
       "</style>\n",
       "<table border=\"1\" class=\"dataframe\">\n",
       "  <thead>\n",
       "    <tr style=\"text-align: right;\">\n",
       "      <th></th>\n",
       "      <th>uid</th>\n",
       "      <th>docid</th>\n",
       "      <th>label</th>\n",
       "      <th>duration</th>\n",
       "      <th>predict</th>\n",
       "      <th>prob</th>\n",
       "      <th>y_click</th>\n",
       "      <th>y_dur</th>\n",
       "      <th>id</th>\n",
       "    </tr>\n",
       "  </thead>\n",
       "  <tbody>\n",
       "    <tr>\n",
       "      <th>0</th>\n",
       "      <td>3a38860871034898125</td>\n",
       "      <td>1972690l0DyLat</td>\n",
       "      <td>0.0</td>\n",
       "      <td>0</td>\n",
       "      <td>-3.456410</td>\n",
       "      <td>0.030578</td>\n",
       "      <td>-2.049590</td>\n",
       "      <td>-1.004743</td>\n",
       "      <td>3a38860871034898125\\t1972690l0DyLat</td>\n",
       "    </tr>\n",
       "    <tr>\n",
       "      <th>1</th>\n",
       "      <td>074f355905076108449</td>\n",
       "      <td>open_doc_prod8057845</td>\n",
       "      <td>0.0</td>\n",
       "      <td>0</td>\n",
       "      <td>-3.511297</td>\n",
       "      <td>0.028993</td>\n",
       "      <td>-2.292529</td>\n",
       "      <td>-0.772139</td>\n",
       "      <td>074f355905076108449\\topen_doc_prod8057845</td>\n",
       "    </tr>\n",
       "    <tr>\n",
       "      <th>2</th>\n",
       "      <td>3565860525049605335</td>\n",
       "      <td>19729f0x1xvg70</td>\n",
       "      <td>0.0</td>\n",
       "      <td>0</td>\n",
       "      <td>-7.565335</td>\n",
       "      <td>0.000518</td>\n",
       "      <td>-5.821646</td>\n",
       "      <td>-1.548513</td>\n",
       "      <td>3565860525049605335\\t19729f0x1xvg70</td>\n",
       "    </tr>\n",
       "    <tr>\n",
       "      <th>3</th>\n",
       "      <td>3ca2863906036089252</td>\n",
       "      <td>19730b0x28sf3c</td>\n",
       "      <td>0.0</td>\n",
       "      <td>0</td>\n",
       "      <td>-2.049970</td>\n",
       "      <td>0.114055</td>\n",
       "      <td>-1.522104</td>\n",
       "      <td>0.560812</td>\n",
       "      <td>3ca2863906036089252\\t19730b0x28sf3c</td>\n",
       "    </tr>\n",
       "    <tr>\n",
       "      <th>4</th>\n",
       "      <td>47d2862734030561816</td>\n",
       "      <td>open_doc_prod8444159</td>\n",
       "      <td>0.0</td>\n",
       "      <td>0</td>\n",
       "      <td>-6.005404</td>\n",
       "      <td>0.002459</td>\n",
       "      <td>-5.638172</td>\n",
       "      <td>0.816112</td>\n",
       "      <td>47d2862734030561816\\topen_doc_prod8444159</td>\n",
       "    </tr>\n",
       "  </tbody>\n",
       "</table>\n",
       "</div>"
      ],
      "text/plain": [
       "                   uid                 docid  label  duration   predict  \\\n",
       "0  3a38860871034898125        1972690l0DyLat    0.0         0 -3.456410   \n",
       "1  074f355905076108449  open_doc_prod8057845    0.0         0 -3.511297   \n",
       "2  3565860525049605335        19729f0x1xvg70    0.0         0 -7.565335   \n",
       "3  3ca2863906036089252        19730b0x28sf3c    0.0         0 -2.049970   \n",
       "4  47d2862734030561816  open_doc_prod8444159    0.0         0 -6.005404   \n",
       "\n",
       "       prob   y_click     y_dur                                         id  \n",
       "0  0.030578 -2.049590 -1.004743        3a38860871034898125\\t1972690l0DyLat  \n",
       "1  0.028993 -2.292529 -0.772139  074f355905076108449\\topen_doc_prod8057845  \n",
       "2  0.000518 -5.821646 -1.548513        3565860525049605335\\t19729f0x1xvg70  \n",
       "3  0.114055 -1.522104  0.560812        3ca2863906036089252\\t19730b0x28sf3c  \n",
       "4  0.002459 -5.638172  0.816112  47d2862734030561816\\topen_doc_prod8444159  "
      ]
     },
     "execution_count": 22,
     "metadata": {},
     "output_type": "execute_result"
    }
   ],
   "source": [
    "df.head()"
   ]
  },
  {
   "cell_type": "code",
   "execution_count": 23,
   "metadata": {},
   "outputs": [],
   "source": [
    "info = {'id': df['id'].values, 'duration': df['duration'].values}"
   ]
  },
  {
   "cell_type": "code",
   "execution_count": 24,
   "metadata": {},
   "outputs": [
    {
     "name": "stdout",
     "output_type": "stream",
     "text": [
      "auc 0.7589877933054339 loss 0.3113555332406727\n",
      "concordant 0.751459821264738 concordant_click 0.6284417238182604 kendall 0.22911266208554187 kendall_click 0.2558171605899607\n"
     ]
    },
    {
     "data": {
      "text/plain": [
       "{'loss': 0.3113555332406727,\n",
       " 'auc': 0.7589877933054339,\n",
       " 'mse': 10.616281699872465,\n",
       " 'mae': 2.736259741342942,\n",
       " 'kendall': 0.22911266208554187,\n",
       " 'concordant': 0.751459821264738,\n",
       " 'concordant_click': 0.6284417238182604}"
      ]
     },
     "execution_count": 24,
     "metadata": {},
     "output_type": "execute_result"
    }
   ],
   "source": [
    "evaluate.evaluate_rank(df.label.values, df.predict.values, info, group=False)"
   ]
  },
  {
   "cell_type": "code",
   "execution_count": 25,
   "metadata": {},
   "outputs": [
    {
     "name": "stdout",
     "output_type": "stream",
     "text": [
      "auc 0.7866247026063328 loss 0.39715201371447945\n",
      "concordant 0.7728223436415884 concordant_click 0.5472717778605367 kendall 0.24857670675409035 kendall_click 0.09415112015513051\n"
     ]
    },
    {
     "data": {
      "text/plain": [
       "{'loss': 0.39715201371447945,\n",
       " 'auc': 0.7866247026063328,\n",
       " 'mse': 6.285965594776136,\n",
       " 'mae': 1.9129023761683548,\n",
       " 'kendall': 0.24857670675409035,\n",
       " 'concordant': 0.7728223436415884,\n",
       " 'concordant_click': 0.5472717778605367}"
      ]
     },
     "execution_count": 25,
     "metadata": {},
     "output_type": "execute_result"
    }
   ],
   "source": [
    "evaluate.evaluate_rank(df.label.values, df.y_click.values, info, group=False)"
   ]
  },
  {
   "cell_type": "code",
   "execution_count": 26,
   "metadata": {},
   "outputs": [
    {
     "name": "stdout",
     "output_type": "stream",
     "text": [
      "auc 0.5521689694057385 loss 0.7801365313440894\n",
      "concordant 0.5606655045319255 concordant_click 0.6995111417061246 kendall 0.055274179584736814 kendall_click 0.39736600361506985\n"
     ]
    },
    {
     "data": {
      "text/plain": [
       "{'loss': 0.7801365313440894,\n",
       " 'auc': 0.5521689694057385,\n",
       " 'mse': 2.336760934131722,\n",
       " 'mae': 0.9882121343626218,\n",
       " 'kendall': 0.055274179584736814,\n",
       " 'concordant': 0.5606655045319255,\n",
       " 'concordant_click': 0.6995111417061246}"
      ]
     },
     "execution_count": 26,
     "metadata": {},
     "output_type": "execute_result"
    }
   ],
   "source": [
    "evaluate.evaluate_rank(df.label.values, df.y_dur.values, info, group=False)"
   ]
  },
  {
   "cell_type": "code",
   "execution_count": 27,
   "metadata": {},
   "outputs": [
    {
     "name": "stdout",
     "output_type": "stream",
     "text": [
      "auc 0.7473655864246718 loss 0.4807251492020307\n",
      "concordant 0.7407858660892824 concordant_click 0.6332637214370853 kendall 0.2193873014596687 kendall_click 0.26542113108250226\n"
     ]
    },
    {
     "data": {
      "text/plain": [
       "{'loss': 0.4807251492020307,\n",
       " 'auc': 0.7473655864246718,\n",
       " 'mse': 7.035590665708124,\n",
       " 'mae': 2.021829860153883,\n",
       " 'kendall': 0.2193873014596687,\n",
       " 'concordant': 0.7407858660892824,\n",
       " 'concordant_click': 0.6332637214370853}"
      ]
     },
     "execution_count": 27,
     "metadata": {},
     "output_type": "execute_result"
    }
   ],
   "source": [
    "evaluate.evaluate_rank(df.label.values, df.y_dur.values + df.y_click.values, info, group=False)"
   ]
  },
  {
   "cell_type": "code",
   "execution_count": 28,
   "metadata": {},
   "outputs": [
    {
     "name": "stdout",
     "output_type": "stream",
     "text": [
      "auc 0.7349060942032413 loss 1.0667483923910532\n",
      "concordant 0.729226005464538 concordant_click 0.6364051518673304 kendall 0.20885476226010669 kendall_click 0.2716779132858271\n"
     ]
    },
    {
     "data": {
      "text/plain": [
       "{'loss': 1.0667483923910532,\n",
       " 'auc': 0.7349060942032413,\n",
       " 'mse': 1.7517505140604617,\n",
       " 'mae': 1.0350922905554323,\n",
       " 'kendall': 0.20885476226010669,\n",
       " 'concordant': 0.729226005464538,\n",
       " 'concordant_click': 0.6364051518673304}"
      ]
     },
     "execution_count": 28,
     "metadata": {},
     "output_type": "execute_result"
    }
   ],
   "source": [
    "evaluate.evaluate_rank(df.label.values, gezi.sigmoid(df.y_dur.values) + gezi.sigmoid(df.y_click.values), info, group=False)"
   ]
  },
  {
   "cell_type": "code",
   "execution_count": 29,
   "metadata": {},
   "outputs": [
    {
     "data": {
      "text/plain": [
       "4544790"
      ]
     },
     "execution_count": 29,
     "metadata": {},
     "output_type": "execute_result"
    }
   ],
   "source": [
    "len(df.y_dur.values)"
   ]
  },
  {
   "cell_type": "code",
   "execution_count": 30,
   "metadata": {},
   "outputs": [
    {
     "data": {
      "text/plain": [
       "0.9525741268224334"
      ]
     },
     "execution_count": 30,
     "metadata": {},
     "output_type": "execute_result"
    }
   ],
   "source": [
    "gezi.sigmoid(3)"
   ]
  },
  {
   "cell_type": "code",
   "execution_count": 32,
   "metadata": {},
   "outputs": [],
   "source": [
    "df['prob_click'] = gezi.sigmoid(df.y_click)\n",
    "df['prob_dur'] = gezi.sigmoid(df.y_dur)"
   ]
  },
  {
   "cell_type": "code",
   "execution_count": 43,
   "metadata": {},
   "outputs": [],
   "source": [
    "def merge(prob_click, prob_dur, ratio=0.5):\n",
    "  if prob_click < ratio:\n",
    "    return prob_click \n",
    "  else:\n",
    "    return 1 + prob_dur"
   ]
  },
  {
   "cell_type": "code",
   "execution_count": 44,
   "metadata": {},
   "outputs": [
    {
     "name": "stdout",
     "output_type": "stream",
     "text": [
      "auc 0.778361314216931 loss 0.8618963863176179\n",
      "concordant 0.7672749774147276 concordant_click 0.586108142348458 kendall 0.2435223333931581 kendall_click 0.1715014420489581\n"
     ]
    },
    {
     "data": {
      "text/plain": [
       "{'loss': 0.8618963863176179,\n",
       " 'auc': 0.778361314216931,\n",
       " 'mse': 1.602230283995894,\n",
       " 'mae': 0.6953378475879514,\n",
       " 'kendall': 0.2435223333931581,\n",
       " 'concordant': 0.7672749774147276,\n",
       " 'concordant_click': 0.586108142348458}"
      ]
     },
     "execution_count": 44,
     "metadata": {},
     "output_type": "execute_result"
    }
   ],
   "source": [
    "y_ = np.asarray([merge(click, dur, 0.5) for click, dur in zip(df.prob_click.values, df.prob_dur.values)])\n",
    "evaluate.evaluate_rank(df.label.values, y_, info, group=False)"
   ]
  },
  {
   "cell_type": "code",
   "execution_count": 45,
   "metadata": {},
   "outputs": [
    {
     "name": "stdout",
     "output_type": "stream",
     "text": [
      "auc 0.7839682132295241 loss 0.8248731035214061\n",
      "concordant 0.7713750707589675 concordant_click 0.5655848546396833 kendall 0.2472580527866169 kendall_click 0.13062524456320065\n"
     ]
    },
    {
     "data": {
      "text/plain": [
       "{'loss': 0.8248731035214061,\n",
       " 'auc': 0.7839682132295241,\n",
       " 'mse': 1.5895940397892212,\n",
       " 'mae': 0.6560529574862002,\n",
       " 'kendall': 0.2472580527866169,\n",
       " 'concordant': 0.7713750707589675,\n",
       " 'concordant_click': 0.5655848546396833}"
      ]
     },
     "execution_count": 45,
     "metadata": {},
     "output_type": "execute_result"
    }
   ],
   "source": [
    "y_ = np.asarray([merge(click, dur, 0.6) for click, dur in zip(df.prob_click.values, df.prob_dur.values)])\n",
    "evaluate.evaluate_rank(df.label.values, y_, info, group=False)"
   ]
  },
  {
   "cell_type": "code",
   "execution_count": 46,
   "metadata": {},
   "outputs": [
    {
     "name": "stdout",
     "output_type": "stream",
     "text": [
      "auc 0.7859805631255936 loss 0.8061873128860891\n",
      "concordant 0.7726148410238717 concordant_click 0.5541995558701994 kendall 0.24838764499211188 kendall_click 0.10794916413779912\n"
     ]
    },
    {
     "data": {
      "text/plain": [
       "{'loss': 0.8061873128860891,\n",
       " 'auc': 0.7859805631255936,\n",
       " 'mse': 1.6046565882293937,\n",
       " 'mae': 0.6396100103708581,\n",
       " 'kendall': 0.24838764499211188,\n",
       " 'concordant': 0.7726148410238717,\n",
       " 'concordant_click': 0.5541995558701994}"
      ]
     },
     "execution_count": 46,
     "metadata": {},
     "output_type": "execute_result"
    }
   ],
   "source": [
    "y_ = np.asarray([merge(click, dur, 0.7) for click, dur in zip(df.prob_click.values, df.prob_dur.values)])\n",
    "evaluate.evaluate_rank(df.label.values, y_, info, group=False)"
   ]
  },
  {
   "cell_type": "code",
   "execution_count": 39,
   "metadata": {},
   "outputs": [],
   "source": [
    "from sklearn.preprocessing import KBinsDiscretizer"
   ]
  },
  {
   "cell_type": "code",
   "execution_count": 40,
   "metadata": {},
   "outputs": [
    {
     "name": "stdout",
     "output_type": "stream",
     "text": [
      "auc 0.5205651213358803 loss 30.146913441358805\n",
      "concordant 0.7728244018125635 concordant_click 0.5476904012374602 kendall 0.2485785827968434 kendall_click 0.0949848925375954\n"
     ]
    },
    {
     "data": {
      "text/plain": [
       "{'loss': 30.146913441358805,\n",
       " 'auc': 0.5205651213358803,\n",
       " 'mse': 332677.6618395721,\n",
       " 'mae': 499.55809282179627,\n",
       " 'kendall': 0.2485785827968434,\n",
       " 'concordant': 0.7728244018125635,\n",
       " 'concordant_click': 0.5476904012374602}"
      ]
     },
     "execution_count": 40,
     "metadata": {},
     "output_type": "execute_result"
    }
   ],
   "source": [
    "bin_normer = KBinsDiscretizer(n_bins=[1000], encode='ordinal')\n",
    "bin_normer.fit_transform(df.y_click.values.reshape(-1, 1))\n",
    "evaluate.evaluate_rank(df.label.values, gezi.sigmoid(df.y_dur.values) + bin_normer.fit_transform(df.y_click.values.reshape(-1, 1)).reshape(-1), info, group=False)"
   ]
  },
  {
   "cell_type": "code",
   "execution_count": 41,
   "metadata": {},
   "outputs": [
    {
     "name": "stdout",
     "output_type": "stream",
     "text": [
      "auc 0.6711615125250818 loss 24.854771896278155\n",
      "concordant 0.7727771269279522 concordant_click 0.5513744513562849 kendall 0.2485355091920786 kendall_click 0.10232240899088835\n"
     ]
    },
    {
     "data": {
      "text/plain": [
       "{'loss': 24.854771896278155,\n",
       " 'auc': 0.6711615125250818,\n",
       " 'mse': 3269.277695544533,\n",
       " 'mae': 49.55590875662985,\n",
       " 'kendall': 0.2485355091920786,\n",
       " 'concordant': 0.7727771269279522,\n",
       " 'concordant_click': 0.5513744513562849}"
      ]
     },
     "execution_count": 41,
     "metadata": {},
     "output_type": "execute_result"
    }
   ],
   "source": [
    "bin_normer = KBinsDiscretizer(n_bins=[100], encode='ordinal')\n",
    "bin_normer.fit_transform(df.y_click.values.reshape(-1, 1))\n",
    "evaluate.evaluate_rank(df.label.values, gezi.sigmoid(df.y_dur.values) + bin_normer.fit_transform(df.y_click.values.reshape(-1, 1)).reshape(-1), info, group=False)"
   ]
  },
  {
   "cell_type": "code",
   "execution_count": 42,
   "metadata": {},
   "outputs": [
    {
     "name": "stdout",
     "output_type": "stream",
     "text": [
      "auc 0.7653682318673358 loss 19.195413135534572\n",
      "concordant 0.7726076791527348 concordant_click 0.5553312701010042 kendall 0.24838112016198427 kendall_click 0.11020319825142152\n"
     ]
    },
    {
     "data": {
      "text/plain": [
       "{'loss': 19.195413135534572,\n",
       " 'auc': 0.7653682318673358,\n",
       " 'mse': 802.2504726651512,\n",
       " 'mae': 24.55629905268359,\n",
       " 'kendall': 0.24838112016198427,\n",
       " 'concordant': 0.7726076791527348,\n",
       " 'concordant_click': 0.5553312701010042}"
      ]
     },
     "execution_count": 42,
     "metadata": {},
     "output_type": "execute_result"
    }
   ],
   "source": [
    "bin_normer = KBinsDiscretizer(n_bins=[50], encode='ordinal')\n",
    "bin_normer.fit_transform(df.y_click.values.reshape(-1, 1))\n",
    "evaluate.evaluate_rank(df.label.values, gezi.sigmoid(df.y_dur.values) + bin_normer.fit_transform(df.y_click.values.reshape(-1, 1)).reshape(-1), info, group=False)"
   ]
  },
  {
   "cell_type": "code",
   "execution_count": 48,
   "metadata": {},
   "outputs": [
    {
     "name": "stdout",
     "output_type": "stream",
     "text": [
      "auc 0.784028311206599 loss 8.39925622855888\n",
      "concordant 0.7714902372271576 concordant_click 0.566599995349302 kendall 0.24736298487896657 kendall_click 0.1326470994171132\n"
     ]
    },
    {
     "data": {
      "text/plain": [
       "{'loss': 8.39925622855888,\n",
       " 'auc': 0.784028311206599,\n",
       " 'mse': 122.04974989966395,\n",
       " 'mae': 9.56139614529462,\n",
       " 'kendall': 0.24736298487896657,\n",
       " 'concordant': 0.7714902372271576,\n",
       " 'concordant_click': 0.566599995349302}"
      ]
     },
     "execution_count": 48,
     "metadata": {},
     "output_type": "execute_result"
    }
   ],
   "source": [
    "bin_normer = KBinsDiscretizer(n_bins=[20], encode='ordinal')\n",
    "bin_normer.fit_transform(df.y_click.values.reshape(-1, 1))\n",
    "evaluate.evaluate_rank(df.label.values, gezi.sigmoid(df.y_dur.values) + bin_normer.fit_transform(df.y_click.values.reshape(-1, 1)).reshape(-1), info, group=False)"
   ]
  },
  {
   "cell_type": "code",
   "execution_count": 47,
   "metadata": {},
   "outputs": [
    {
     "name": "stdout",
     "output_type": "stream",
     "text": [
      "auc 0.7793519207840514 loss 4.272253247470751\n",
      "concordant 0.7680580258770465 concordant_click 0.5834994620985521 kendall 0.2442357929552702 kendall_click 0.16630573892223857\n"
     ]
    },
    {
     "data": {
      "text/plain": [
       "{'loss': 4.272253247470751,\n",
       " 'auc': 0.7793519207840514,\n",
       " 'mse': 28.663862078644275,\n",
       " 'mae': 4.5840491998732915,\n",
       " 'kendall': 0.2442357929552702,\n",
       " 'concordant': 0.7680580258770465,\n",
       " 'concordant_click': 0.5834994620985521}"
      ]
     },
     "execution_count": 47,
     "metadata": {},
     "output_type": "execute_result"
    }
   ],
   "source": [
    "bin_normer = KBinsDiscretizer(n_bins=[10], encode='ordinal')\n",
    "bin_normer.fit_transform(df.y_click.values.reshape(-1, 1))\n",
    "evaluate.evaluate_rank(df.label.values, gezi.sigmoid(df.y_dur.values) + bin_normer.fit_transform(df.y_click.values.reshape(-1, 1)).reshape(-1), info, group=False)"
   ]
  },
  {
   "cell_type": "code",
   "execution_count": 50,
   "metadata": {},
   "outputs": [
    {
     "name": "stdout",
     "output_type": "stream",
     "text": [
      "auc 0.7844395479837929 loss 8.29223777546701\n",
      "concordant 0.7718130135179407 concordant_click 0.5654772041734224 kendall 0.2476570762660483 kendall_click 0.13041083825724556\n"
     ]
    },
    {
     "data": {
      "text/plain": [
       "{'loss': 8.29223777546701,\n",
       " 'auc': 0.7844395479837929,\n",
       " 'mse': 120.62356956305436,\n",
       " 'mae': 9.444308955356428,\n",
       " 'kendall': 0.2476570762660483,\n",
       " 'concordant': 0.7718130135179407,\n",
       " 'concordant_click': 0.5654772041734224}"
      ]
     },
     "execution_count": 50,
     "metadata": {},
     "output_type": "execute_result"
    }
   ],
   "source": [
    "bin_normer = KBinsDiscretizer(n_bins=[20], encode='ordinal')\n",
    "bin_normer.fit_transform(df.y_click.values.reshape(-1, 1))\n",
    "ratio = 0.5\n",
    "evaluate.evaluate_rank(df.label.values, df.prob_dur.values * ratio + df.prob_click.values * (1. - ratio)  + bin_normer.fit_transform(df.y_click.values.reshape(-1, 1)).reshape(-1), info, group=False)"
   ]
  },
  {
   "cell_type": "code",
   "execution_count": 51,
   "metadata": {},
   "outputs": [
    {
     "name": "stdout",
     "output_type": "stream",
     "text": [
      "auc 0.7855137033416968 loss 8.207618228767215\n",
      "concordant 0.7722929641958104 concordant_click 0.5562469919705126 kendall 0.2480943738777216 kendall_click 0.11202704001983843\n"
     ]
    },
    {
     "data": {
      "text/plain": [
       "{'loss': 8.207618228767215,\n",
       " 'auc': 0.7855137033416968,\n",
       " 'mse': 119.52211965394042,\n",
       " 'mae': 9.350717238374138,\n",
       " 'kendall': 0.2480943738777216,\n",
       " 'concordant': 0.7722929641958104,\n",
       " 'concordant_click': 0.5562469919705126}"
      ]
     },
     "execution_count": 51,
     "metadata": {},
     "output_type": "execute_result"
    }
   ],
   "source": [
    "bin_normer = KBinsDiscretizer(n_bins=[20], encode='ordinal')\n",
    "bin_normer.fit_transform(df.y_click.values.reshape(-1, 1))\n",
    "ratio = 0.1\n",
    "evaluate.evaluate_rank(df.label.values, df.prob_dur.values * ratio + df.prob_click.values * (1. - ratio)  + bin_normer.fit_transform(df.y_click.values.reshape(-1, 1)).reshape(-1), info, group=False)"
   ]
  },
  {
   "cell_type": "code",
   "execution_count": 55,
   "metadata": {},
   "outputs": [
    {
     "name": "stdout",
     "output_type": "stream",
     "text": [
      "auc 0.7796046461077377 loss 4.252066425553196\n",
      "concordant 0.7682908800702195 concordant_click 0.5834076028344293 kendall 0.24444795371304032 kendall_click 0.16612278334083921\n"
     ]
    },
    {
     "data": {
      "text/plain": [
       "{'loss': 4.252066425553196,\n",
       " 'auc': 0.7796046461077377,\n",
       " 'mse': 28.519595760025407,\n",
       " 'mae': 4.561209578423979,\n",
       " 'kendall': 0.24444795371304032,\n",
       " 'concordant': 0.7682908800702195,\n",
       " 'concordant_click': 0.5834076028344293}"
      ]
     },
     "execution_count": 55,
     "metadata": {},
     "output_type": "execute_result"
    }
   ],
   "source": [
    "bin_normer = KBinsDiscretizer(n_bins=[10], encode='ordinal')\n",
    "bin_normer.fit_transform(df.y_click.values.reshape(-1, 1))\n",
    "ratio = 0.9\n",
    "evaluate.evaluate_rank(df.label.values, df.prob_dur.values * ratio + df.prob_click.values * (1. - ratio)  + bin_normer.fit_transform(df.y_click.values.reshape(-1, 1)).reshape(-1), info, group=False)"
   ]
  },
  {
   "cell_type": "code",
   "execution_count": 57,
   "metadata": {},
   "outputs": [
    {
     "name": "stdout",
     "output_type": "stream",
     "text": [
      "auc 0.7813552211633537 loss 3.9736520418151526\n",
      "concordant 0.7697492013704991 concordant_click 0.5800900756819389 kendall 0.24577667445679488 kendall_click 0.15951527004886135\n"
     ]
    },
    {
     "data": {
      "text/plain": [
       "{'loss': 3.9736520418151526,\n",
       " 'auc': 0.7813552211633537,\n",
       " 'mse': 25.82013479098545,\n",
       " 'mae': 4.231122894409369,\n",
       " 'kendall': 0.24577667445679488,\n",
       " 'concordant': 0.7697492013704991,\n",
       " 'concordant_click': 0.5800900756819389}"
      ]
     },
     "execution_count": 57,
     "metadata": {},
     "output_type": "execute_result"
    }
   ],
   "source": [
    "bin_normer = KBinsDiscretizer(n_bins=[10], encode='ordinal')\n",
    "bin_normer.fit_transform(df.y_click.values.reshape(-1, 1))\n",
    "evaluate.evaluate_rank(df.label.values, df.prob_dur.values * df.prob_click.values + bin_normer.fit_transform(df.y_click.values.reshape(-1, 1)).reshape(-1), info, group=False)"
   ]
  },
  {
   "cell_type": "code",
   "execution_count": 58,
   "metadata": {},
   "outputs": [
    {
     "name": "stdout",
     "output_type": "stream",
     "text": [
      "auc 0.7844106450147887 loss 8.083368975933613\n",
      "concordant 0.7718044168731852 concordant_click 0.5658004419642064 kendall 0.24764924360241566 kendall_click 0.13105463042559973\n"
     ]
    },
    {
     "data": {
      "text/plain": [
       "{'loss': 8.083368975933613,\n",
       " 'auc': 0.7844106450147887,\n",
       " 'mse': 116.00547953228737,\n",
       " 'mae': 9.200420872867866,\n",
       " 'kendall': 0.24764924360241566,\n",
       " 'concordant': 0.7718044168731852,\n",
       " 'concordant_click': 0.5658004419642064}"
      ]
     },
     "execution_count": 58,
     "metadata": {},
     "output_type": "execute_result"
    }
   ],
   "source": [
    "bin_normer = KBinsDiscretizer(n_bins=[20], encode='ordinal')\n",
    "bin_normer.fit_transform(df.y_click.values.reshape(-1, 1))\n",
    "evaluate.evaluate_rank(df.label.values, df.prob_dur.values * df.prob_click.values + bin_normer.fit_transform(df.y_click.values.reshape(-1, 1)).reshape(-1), info, group=False)"
   ]
  },
  {
   "cell_type": "code",
   "execution_count": 61,
   "metadata": {},
   "outputs": [
    {
     "name": "stdout",
     "output_type": "stream",
     "text": [
      "auc 0.7849897476942238 loss 10.156116187597084\n",
      "concordant 0.7721603901773497 concordant_click 0.5625101541174758 kendall 0.24797358167069705 kendall_click 0.12450136961343537\n"
     ]
    },
    {
     "data": {
      "text/plain": [
       "{'loss': 10.156116187597084,\n",
       " 'auc': 0.7849897476942238,\n",
       " 'mse': 186.10172318512952,\n",
       " 'mae': 11.697175344892681,\n",
       " 'kendall': 0.24797358167069705,\n",
       " 'concordant': 0.7721603901773497,\n",
       " 'concordant_click': 0.5625101541174758}"
      ]
     },
     "execution_count": 61,
     "metadata": {},
     "output_type": "execute_result"
    }
   ],
   "source": [
    "bin_normer = KBinsDiscretizer(n_bins=[25], encode='ordinal')\n",
    "bin_normer.fit_transform(df.y_click.values.reshape(-1, 1))\n",
    "evaluate.evaluate_rank(df.label.values, df.prob_dur.values * df.prob_click.values + bin_normer.fit_transform(df.y_click.values.reshape(-1, 1)).reshape(-1), info, group=False)"
   ]
  },
  {
   "cell_type": "code",
   "execution_count": 62,
   "metadata": {},
   "outputs": [
    {
     "name": "stdout",
     "output_type": "stream",
     "text": [
      "auc 0.7850134242799782 loss 10.367013368194478\n",
      "concordant 0.7721703897498708 concordant_click 0.5622966535914049 kendall 0.24798269258434485 kendall_click 0.12407614097203618\n"
     ]
    },
    {
     "data": {
      "text/plain": [
       "{'loss': 10.367013368194478,\n",
       " 'auc': 0.7850134242799782,\n",
       " 'mse': 191.95666903307793,\n",
       " 'mae': 11.941566012135464,\n",
       " 'kendall': 0.24798269258434485,\n",
       " 'concordant': 0.7721703897498708,\n",
       " 'concordant_click': 0.5622966535914049}"
      ]
     },
     "execution_count": 62,
     "metadata": {},
     "output_type": "execute_result"
    }
   ],
   "source": [
    "bin_normer = KBinsDiscretizer(n_bins=[25], encode='ordinal')\n",
    "bin_normer.fit_transform(df.y_click.values.reshape(-1, 1))\n",
    "ratio = 0.5\n",
    "evaluate.evaluate_rank(df.label.values, df.prob_dur.values * ratio + df.prob_click.values * (1. - ratio)  + bin_normer.fit_transform(df.y_click.values.reshape(-1, 1)).reshape(-1), info, group=False)"
   ]
  },
  {
   "cell_type": "code",
   "execution_count": 63,
   "metadata": {},
   "outputs": [
    {
     "name": "stdout",
     "output_type": "stream",
     "text": [
      "auc 0.7847756545835993 loss 10.475553209748675\n",
      "concordant 0.7719865426395466 concordant_click 0.5629939769097929 kendall 0.24781518380651357 kendall_click 0.1254649985374485\n"
     ]
    },
    {
     "data": {
      "text/plain": [
       "{'loss': 10.475553209748675,\n",
       " 'auc': 0.7847756545835993,\n",
       " 'mse': 193.74709237235703,\n",
       " 'mae': 12.059016105966124,\n",
       " 'kendall': 0.24781518380651357,\n",
       " 'concordant': 0.7719865426395466,\n",
       " 'concordant_click': 0.5629939769097929}"
      ]
     },
     "execution_count": 63,
     "metadata": {},
     "output_type": "execute_result"
    }
   ],
   "source": [
    "bin_normer = KBinsDiscretizer(n_bins=[25], encode='ordinal')\n",
    "bin_normer.fit_transform(df.y_click.values.reshape(-1, 1))\n",
    "ratio = 1.\n",
    "evaluate.evaluate_rank(df.label.values, df.prob_dur.values * ratio + df.prob_click.values * (1. - ratio)  + bin_normer.fit_transform(df.y_click.values.reshape(-1, 1)).reshape(-1), info, group=False)"
   ]
  },
  {
   "cell_type": "code",
   "execution_count": 59,
   "metadata": {},
   "outputs": [
    {
     "name": "stdout",
     "output_type": "stream",
     "text": [
      "auc 0.7853275322870221 loss 12.233053325399128\n",
      "concordant 0.7723445024141801 concordant_click 0.5601831232877057 kendall 0.24814133191079066 kendall_click 0.11986662619407668\n"
     ]
    },
    {
     "data": {
      "text/plain": [
       "{'loss': 12.233053325399128,\n",
       " 'auc': 0.7853275322870221,\n",
       " 'mse': 272.86646747190554,\n",
       " 'mae': 14.19551160094067,\n",
       " 'kendall': 0.24814133191079066,\n",
       " 'concordant': 0.7723445024141801,\n",
       " 'concordant_click': 0.5601831232877057}"
      ]
     },
     "execution_count": 59,
     "metadata": {},
     "output_type": "execute_result"
    }
   ],
   "source": [
    "bin_normer = KBinsDiscretizer(n_bins=[30], encode='ordinal')\n",
    "bin_normer.fit_transform(df.y_click.values.reshape(-1, 1))\n",
    "evaluate.evaluate_rank(df.label.values, df.prob_dur.values * df.prob_click.values + bin_normer.fit_transform(df.y_click.values.reshape(-1, 1)).reshape(-1), info, group=False)"
   ]
  },
  {
   "cell_type": "code",
   "execution_count": 65,
   "metadata": {},
   "outputs": [
    {
     "name": "stdout",
     "output_type": "stream",
     "text": [
      "auc 0.7752040712914503 loss 2.00250142482486\n",
      "concordant 0.7650949441703501 concordant_click 0.5998972066579877 kendall 0.24153603963412468 kendall_click 0.1989650997516705\n"
     ]
    },
    {
     "data": {
      "text/plain": [
       "{'loss': 2.00250142482486,\n",
       " 'auc': 0.7752040712914503,\n",
       " 'mse': 5.744196944397191,\n",
       " 'mae': 1.890728987610697,\n",
       " 'kendall': 0.24153603963412468,\n",
       " 'concordant': 0.7650949441703501,\n",
       " 'concordant_click': 0.5998972066579877}"
      ]
     },
     "execution_count": 65,
     "metadata": {},
     "output_type": "execute_result"
    }
   ],
   "source": [
    "bin_normer = KBinsDiscretizer(n_bins=[5], encode='ordinal')\n",
    "bin_normer.fit_transform(df.y_click.values.reshape(-1, 1))\n",
    "evaluate.evaluate_rank(df.label.values, df.prob_dur.values * df.prob_click.values + bin_normer.fit_transform(df.y_click.values.reshape(-1, 1)).reshape(-1), info, group=False)"
   ]
  },
  {
   "cell_type": "code",
   "execution_count": 67,
   "metadata": {},
   "outputs": [
    {
     "name": "stdout",
     "output_type": "stream",
     "text": [
      "auc 0.7589877914933539 loss 0.7456029050862971\n",
      "concordant 0.7514598098887836 concordant_click 0.6284417179989301 kendall 0.22911265545923548 kendall_click 0.25581715534274807\n"
     ]
    },
    {
     "data": {
      "text/plain": [
       "{'loss': 0.7456029050862971,\n",
       " 'auc': 0.7589877914933539,\n",
       " 'mse': 1.7756982955009555,\n",
       " 'mae': 0.556758395125195,\n",
       " 'kendall': 0.22911265545923548,\n",
       " 'concordant': 0.7514598098887836,\n",
       " 'concordant_click': 0.6284417179989301}"
      ]
     },
     "execution_count": 67,
     "metadata": {},
     "output_type": "execute_result"
    }
   ],
   "source": [
    "evaluate.evaluate_rank(df.label.values, df.prob_dur.values * df.prob_click.values, info, group=False)"
   ]
  },
  {
   "cell_type": "code",
   "execution_count": 60,
   "metadata": {},
   "outputs": [
    {
     "name": "stdout",
     "output_type": "stream",
     "text": [
      "auc 0.7843489148648479 loss 16.179097205704586\n",
      "concordant 0.7725381455943379 concordant_click 0.5571127931881439 kendall 0.2483177660822678 kendall_click 0.11375145485979374\n"
     ]
    },
    {
     "data": {
      "text/plain": [
       "{'loss': 16.179097205704586,\n",
       " 'auc': 0.7843489148648479,\n",
       " 'mse': 496.3984998826806,\n",
       " 'mae': 19.19398631236641,\n",
       " 'kendall': 0.2483177660822678,\n",
       " 'concordant': 0.7725381455943379,\n",
       " 'concordant_click': 0.5571127931881439}"
      ]
     },
     "execution_count": 60,
     "metadata": {},
     "output_type": "execute_result"
    }
   ],
   "source": [
    "bin_normer = KBinsDiscretizer(n_bins=[40], encode='ordinal')\n",
    "bin_normer.fit_transform(df.y_click.values.reshape(-1, 1))\n",
    "evaluate.evaluate_rank(df.label.values, df.prob_dur.values * df.prob_click.values + bin_normer.fit_transform(df.y_click.values.reshape(-1, 1)).reshape(-1), info, group=False)"
   ]
  },
  {
   "cell_type": "code",
   "execution_count": null,
   "metadata": {},
   "outputs": [],
   "source": [
    "df['prob_click'] = gezi.sigmoid(df['y_click'])"
   ]
  },
  {
   "cell_type": "code",
   "execution_count": null,
   "metadata": {},
   "outputs": [],
   "source": [
    "df['prob_dur'] = gezi.sigmoid(df['y_dur'])"
   ]
  },
  {
   "cell_type": "code",
   "execution_count": null,
   "metadata": {},
   "outputs": [],
   "source": [
    "df[df.label > 0]"
   ]
  },
  {
   "cell_type": "code",
   "execution_count": null,
   "metadata": {},
   "outputs": [],
   "source": [
    "df"
   ]
  },
  {
   "cell_type": "code",
   "execution_count": null,
   "metadata": {},
   "outputs": [],
   "source": []
  }
 ],
 "metadata": {
  "kernelspec": {
   "display_name": "Python 3",
   "language": "python",
   "name": "python3"
  },
  "language_info": {
   "codemirror_mode": {
    "name": "ipython",
    "version": 3
   },
   "file_extension": ".py",
   "mimetype": "text/x-python",
   "name": "python",
   "nbconvert_exporter": "python",
   "pygments_lexer": "ipython3",
   "version": "3.6.8"
  }
 },
 "nbformat": 4,
 "nbformat_minor": 2
}
