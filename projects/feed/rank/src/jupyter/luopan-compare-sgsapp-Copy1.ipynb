{
 "cells": [
  {
   "cell_type": "code",
   "execution_count": 1,
   "metadata": {},
   "outputs": [],
   "source": [
    "import glob \n",
    "import gezi\n",
    "from gezi import tqdm\n",
    "import pandas as pd"
   ]
  },
  {
   "cell_type": "code",
   "execution_count": 2,
   "metadata": {},
   "outputs": [
    {
     "data": {
      "text/html": [
       "<style>\n",
       ".output_wrapper, .output {\n",
       "    height:auto !important;\n",
       "    max-height:50000px;  /* your desired max-height here */\n",
       "}\n",
       ".output_scroll {\n",
       "    box-shadow:none !important;\n",
       "    webkit-box-shadow:none !important;\n",
       "}\n",
       "</style>"
      ],
      "text/plain": [
       "<IPython.core.display.HTML object>"
      ]
     },
     "metadata": {},
     "output_type": "display_data"
    }
   ],
   "source": [
    "%%html\n",
    "<style>\n",
    ".output_wrapper, .output {\n",
    "    height:auto !important;\n",
    "    max-height:50000px;  /* your desired max-height here */\n",
    "}\n",
    ".output_scroll {\n",
    "    box-shadow:none !important;\n",
    "    webkit-box-shadow:none !important;\n",
    "}\n",
    "</style>"
   ]
  },
  {
   "cell_type": "code",
   "execution_count": 3,
   "metadata": {},
   "outputs": [],
   "source": [
    "mark='video'\n",
    "product='sgsapp'\n",
    "# product='newmse'\n",
    "# root = f'/search/odin/publicData/CloudS/libowei/rank_online/infos/{mark}/8.impression'\n",
    "root = f'/search/odin/publicData/CloudS/libowei/rank_online/infos/{mark}/8'\n",
    "# root2 = f'/search/odin/publicData/CloudS/mkyuwen/rank/infos/video/11'\n",
    "# root3 = f'/search/odin/publicData/CloudS/libowei/rank_online/infos/{mark}/18'\n",
    "datetime = '020042912'"
   ]
  },
  {
   "cell_type": "code",
   "execution_count": 4,
   "metadata": {},
   "outputs": [],
   "source": [
    "# mark='tuwen'\n",
    "# product='sgsapp'\n",
    "# root = f'/search/odin/publicData/CloudS/rank/infos/{mark}/16'\n",
    "# datetime = '2020041312'"
   ]
  },
  {
   "cell_type": "code",
   "execution_count": 9,
   "metadata": {},
   "outputs": [],
   "source": [
    "date='20200518'"
   ]
  },
  {
   "cell_type": "code",
   "execution_count": 10,
   "metadata": {},
   "outputs": [
    {
     "name": "stdout",
     "output_type": "stream",
     "text": [
      "['/search/odin/publicData/CloudS/libowei/rank_online/infos/video/8/2020051400/valid.csv', '/search/odin/publicData/CloudS/libowei/rank_online/infos/video/8/2020051401/valid.csv', '/search/odin/publicData/CloudS/libowei/rank_online/infos/video/8/2020051402/valid.csv', '/search/odin/publicData/CloudS/libowei/rank_online/infos/video/8/2020051403/valid.csv', '/search/odin/publicData/CloudS/libowei/rank_online/infos/video/8/2020051404/valid.csv', '/search/odin/publicData/CloudS/libowei/rank_online/infos/video/8/2020051405/valid.csv', '/search/odin/publicData/CloudS/libowei/rank_online/infos/video/8/2020051406/valid.csv', '/search/odin/publicData/CloudS/libowei/rank_online/infos/video/8/2020051407/valid.csv', '/search/odin/publicData/CloudS/libowei/rank_online/infos/video/8/2020051408/valid.csv', '/search/odin/publicData/CloudS/libowei/rank_online/infos/video/8/2020051409/valid.csv', '/search/odin/publicData/CloudS/libowei/rank_online/infos/video/8/2020051410/valid.csv', '/search/odin/publicData/CloudS/libowei/rank_online/infos/video/8/2020051411/valid.csv', '/search/odin/publicData/CloudS/libowei/rank_online/infos/video/8/2020051412/valid.csv', '/search/odin/publicData/CloudS/libowei/rank_online/infos/video/8/2020051413/valid.csv', '/search/odin/publicData/CloudS/libowei/rank_online/infos/video/8/2020051414/valid.csv', '/search/odin/publicData/CloudS/libowei/rank_online/infos/video/8/2020051415/valid.csv', '/search/odin/publicData/CloudS/libowei/rank_online/infos/video/8/2020051416/valid.csv', '/search/odin/publicData/CloudS/libowei/rank_online/infos/video/8/2020051417/valid.csv', '/search/odin/publicData/CloudS/libowei/rank_online/infos/video/8/2020051418/valid.csv', '/search/odin/publicData/CloudS/libowei/rank_online/infos/video/8/2020051419/valid.csv']\n"
     ]
    }
   ],
   "source": [
    "files = glob.glob(f'{root}/{date}*/valid.csv')\n",
    "print(files)"
   ]
  },
  {
   "cell_type": "code",
   "execution_count": 11,
   "metadata": {},
   "outputs": [
    {
     "name": "stdout",
     "output_type": "stream",
     "text": [
      "/search/odin/publicData/CloudS/libowei/rank_online/infos/video/8/2020051400/valid.csv\n",
      "7.0223375359792435 6.864728477818784\n",
      "/search/odin/publicData/CloudS/libowei/rank_online/infos/video/8/2020051401/valid.csv\n",
      "7.014057935735151 6.981924198250729\n",
      "/search/odin/publicData/CloudS/libowei/rank_online/infos/video/8/2020051402/valid.csv\n",
      "6.835501781718737 7.034763181411975\n",
      "/search/odin/publicData/CloudS/libowei/rank_online/infos/video/8/2020051403/valid.csv\n",
      "6.770202898550725 6.861844954525769\n",
      "/search/odin/publicData/CloudS/libowei/rank_online/infos/video/8/2020051404/valid.csv\n",
      "6.79207805784644 6.6890168190540695\n",
      "/search/odin/publicData/CloudS/libowei/rank_online/infos/video/8/2020051405/valid.csv\n",
      "6.855833842394624 6.898678414096916\n",
      "/search/odin/publicData/CloudS/libowei/rank_online/infos/video/8/2020051406/valid.csv\n",
      "6.904241281809614 6.892919047313347\n",
      "/search/odin/publicData/CloudS/libowei/rank_online/infos/video/8/2020051407/valid.csv\n",
      "6.921588000179638 6.954309099662975\n",
      "/search/odin/publicData/CloudS/libowei/rank_online/infos/video/8/2020051408/valid.csv\n",
      "7.006958639585961 6.8914008127423045\n",
      "/search/odin/publicData/CloudS/libowei/rank_online/infos/video/8/2020051409/valid.csv\n",
      "6.850188238348696 7.044974111001754\n",
      "/search/odin/publicData/CloudS/libowei/rank_online/infos/video/8/2020051410/valid.csv\n",
      "6.78224306964165 6.8956748179191925\n",
      "/search/odin/publicData/CloudS/libowei/rank_online/infos/video/8/2020051411/valid.csv\n",
      "6.973924326134271 6.934304342852785\n",
      "/search/odin/publicData/CloudS/libowei/rank_online/infos/video/8/2020051412/valid.csv\n",
      "6.862425927280708 6.868745777177199\n",
      "/search/odin/publicData/CloudS/libowei/rank_online/infos/video/8/2020051413/valid.csv\n",
      "6.852918102125047 6.758870056497175\n",
      "/search/odin/publicData/CloudS/libowei/rank_online/infos/video/8/2020051414/valid.csv\n",
      "6.990789980732178 7.006277217623288\n"
     ]
    },
    {
     "ename": "KeyboardInterrupt",
     "evalue": "",
     "output_type": "error",
     "traceback": [
      "\u001b[0;31m---------------------------------------------------------------------------\u001b[0m",
      "\u001b[0;31mKeyboardInterrupt\u001b[0m                         Traceback (most recent call last)",
      "\u001b[0;32m<ipython-input-11-a0bed7d5caa1>\u001b[0m in \u001b[0;36m<module>\u001b[0;34m()\u001b[0m\n\u001b[1;32m      1\u001b[0m \u001b[0;32mfor\u001b[0m \u001b[0mfile\u001b[0m \u001b[0;32min\u001b[0m \u001b[0mfiles\u001b[0m\u001b[0;34m:\u001b[0m\u001b[0;34m\u001b[0m\u001b[0;34m\u001b[0m\u001b[0m\n\u001b[0;32m----> 2\u001b[0;31m   \u001b[0mdf\u001b[0m \u001b[0;34m=\u001b[0m \u001b[0mpd\u001b[0m\u001b[0;34m.\u001b[0m\u001b[0mread_csv\u001b[0m\u001b[0;34m(\u001b[0m\u001b[0mfile\u001b[0m\u001b[0;34m)\u001b[0m\u001b[0;34m\u001b[0m\u001b[0;34m\u001b[0m\u001b[0m\n\u001b[0m\u001b[1;32m      3\u001b[0m   \u001b[0mdf\u001b[0m \u001b[0;34m=\u001b[0m \u001b[0mdf\u001b[0m\u001b[0;34m[\u001b[0m\u001b[0mdf\u001b[0m\u001b[0;34m.\u001b[0m\u001b[0mproduct_data\u001b[0m\u001b[0;34m==\u001b[0m\u001b[0;34m'sgsapp'\u001b[0m\u001b[0;34m]\u001b[0m\u001b[0;34m\u001b[0m\u001b[0;34m\u001b[0m\u001b[0m\n\u001b[1;32m      4\u001b[0m \u001b[0;31m#   df['impression'] = df.mid + '\\t' + df.impression_time.astype(str)\u001b[0m\u001b[0;34m\u001b[0m\u001b[0;34m\u001b[0m\u001b[0;34m\u001b[0m\u001b[0m\n\u001b[1;32m      5\u001b[0m   \u001b[0mdf\u001b[0m \u001b[0;34m=\u001b[0m \u001b[0mdf\u001b[0m\u001b[0;34m[\u001b[0m\u001b[0mdf\u001b[0m\u001b[0;34m.\u001b[0m\u001b[0mposition\u001b[0m\u001b[0;34m>=\u001b[0m\u001b[0;36m0\u001b[0m\u001b[0;34m]\u001b[0m\u001b[0;34m\u001b[0m\u001b[0;34m\u001b[0m\u001b[0m\n",
      "\u001b[0;32m/home/gezi/env/anaconda3/lib/python3.6/site-packages/pandas/io/parsers.py\u001b[0m in \u001b[0;36mparser_f\u001b[0;34m(filepath_or_buffer, sep, delimiter, header, names, index_col, usecols, squeeze, prefix, mangle_dupe_cols, dtype, engine, converters, true_values, false_values, skipinitialspace, skiprows, skipfooter, nrows, na_values, keep_default_na, na_filter, verbose, skip_blank_lines, parse_dates, infer_datetime_format, keep_date_col, date_parser, dayfirst, cache_dates, iterator, chunksize, compression, thousands, decimal, lineterminator, quotechar, quoting, doublequote, escapechar, comment, encoding, dialect, error_bad_lines, warn_bad_lines, delim_whitespace, low_memory, memory_map, float_precision)\u001b[0m\n\u001b[1;32m    683\u001b[0m         )\n\u001b[1;32m    684\u001b[0m \u001b[0;34m\u001b[0m\u001b[0m\n\u001b[0;32m--> 685\u001b[0;31m         \u001b[0;32mreturn\u001b[0m \u001b[0m_read\u001b[0m\u001b[0;34m(\u001b[0m\u001b[0mfilepath_or_buffer\u001b[0m\u001b[0;34m,\u001b[0m \u001b[0mkwds\u001b[0m\u001b[0;34m)\u001b[0m\u001b[0;34m\u001b[0m\u001b[0;34m\u001b[0m\u001b[0m\n\u001b[0m\u001b[1;32m    686\u001b[0m \u001b[0;34m\u001b[0m\u001b[0m\n\u001b[1;32m    687\u001b[0m     \u001b[0mparser_f\u001b[0m\u001b[0;34m.\u001b[0m\u001b[0m__name__\u001b[0m \u001b[0;34m=\u001b[0m \u001b[0mname\u001b[0m\u001b[0;34m\u001b[0m\u001b[0;34m\u001b[0m\u001b[0m\n",
      "\u001b[0;32m/home/gezi/env/anaconda3/lib/python3.6/site-packages/pandas/io/parsers.py\u001b[0m in \u001b[0;36m_read\u001b[0;34m(filepath_or_buffer, kwds)\u001b[0m\n\u001b[1;32m    461\u001b[0m \u001b[0;34m\u001b[0m\u001b[0m\n\u001b[1;32m    462\u001b[0m     \u001b[0;32mtry\u001b[0m\u001b[0;34m:\u001b[0m\u001b[0;34m\u001b[0m\u001b[0;34m\u001b[0m\u001b[0m\n\u001b[0;32m--> 463\u001b[0;31m         \u001b[0mdata\u001b[0m \u001b[0;34m=\u001b[0m \u001b[0mparser\u001b[0m\u001b[0;34m.\u001b[0m\u001b[0mread\u001b[0m\u001b[0;34m(\u001b[0m\u001b[0mnrows\u001b[0m\u001b[0;34m)\u001b[0m\u001b[0;34m\u001b[0m\u001b[0;34m\u001b[0m\u001b[0m\n\u001b[0m\u001b[1;32m    464\u001b[0m     \u001b[0;32mfinally\u001b[0m\u001b[0;34m:\u001b[0m\u001b[0;34m\u001b[0m\u001b[0;34m\u001b[0m\u001b[0m\n\u001b[1;32m    465\u001b[0m         \u001b[0mparser\u001b[0m\u001b[0;34m.\u001b[0m\u001b[0mclose\u001b[0m\u001b[0;34m(\u001b[0m\u001b[0;34m)\u001b[0m\u001b[0;34m\u001b[0m\u001b[0;34m\u001b[0m\u001b[0m\n",
      "\u001b[0;31mKeyboardInterrupt\u001b[0m: "
     ]
    }
   ],
   "source": [
    "for file in files:\n",
    "  df = pd.read_csv(file)\n",
    "  df = df[df.product_data=='sgsapp']\n",
    "#   df['impression'] = df.mid + '\\t' + df.impression_time.astype(str)\n",
    "  df = df[df.position>=0]\n",
    "  df8 = df[df.abtestid==8]\n",
    "  df5 = df[df.abtestid==5]\n",
    "  print(file)\n",
    "  print(df5.position.mean(), df8.position.mean())"
   ]
  },
  {
   "cell_type": "code",
   "execution_count": 27,
   "metadata": {},
   "outputs": [
    {
     "name": "stdout",
     "output_type": "stream",
     "text": [
      "/search/odin/publicData/CloudS/libowei/rank_online/infos/video/8/2020051400/valid.csv\n",
      "3.25 3.034467776973208\n",
      "/search/odin/publicData/CloudS/libowei/rank_online/infos/video/8/2020051401/valid.csv\n",
      "3.385152431929253 3.2625448028673834\n",
      "/search/odin/publicData/CloudS/libowei/rank_online/infos/video/8/2020051402/valid.csv\n",
      "3.0497607655502392 3.2738295722465476\n",
      "/search/odin/publicData/CloudS/libowei/rank_online/infos/video/8/2020051403/valid.csv\n",
      "3.1011045029736617 3.142799515933844\n",
      "/search/odin/publicData/CloudS/libowei/rank_online/infos/video/8/2020051404/valid.csv\n",
      "3.0096873623954203 2.9497090606816294\n",
      "/search/odin/publicData/CloudS/libowei/rank_online/infos/video/8/2020051405/valid.csv\n",
      "3.144023756495917 3.151388888888889\n",
      "/search/odin/publicData/CloudS/libowei/rank_online/infos/video/8/2020051406/valid.csv\n",
      "3.2033080634045485 3.1568769639835628\n",
      "/search/odin/publicData/CloudS/libowei/rank_online/infos/video/8/2020051407/valid.csv\n",
      "3.2362416107382552 3.27645478961504\n",
      "/search/odin/publicData/CloudS/libowei/rank_online/infos/video/8/2020051408/valid.csv\n",
      "3.316011008580217 3.1915584415584415\n",
      "/search/odin/publicData/CloudS/libowei/rank_online/infos/video/8/2020051409/valid.csv\n",
      "3.012809985219248 3.3125802310654686\n",
      "/search/odin/publicData/CloudS/libowei/rank_online/infos/video/8/2020051410/valid.csv\n",
      "3.0464718682001863 3.1202346041055717\n",
      "/search/odin/publicData/CloudS/libowei/rank_online/infos/video/8/2020051411/valid.csv\n",
      "3.2689140904147895 3.1962995085284764\n",
      "/search/odin/publicData/CloudS/libowei/rank_online/infos/video/8/2020051412/valid.csv\n",
      "3.136295077471548 3.147906976744186\n",
      "/search/odin/publicData/CloudS/libowei/rank_online/infos/video/8/2020051413/valid.csv\n",
      "3.09532420563162 2.989770766576288\n",
      "/search/odin/publicData/CloudS/libowei/rank_online/infos/video/8/2020051414/valid.csv\n",
      "3.344379374375089 3.386219133520627\n",
      "/search/odin/publicData/CloudS/libowei/rank_online/infos/video/8/2020051415/valid.csv\n",
      "3.189117555347677 3.3317223198594026\n",
      "/search/odin/publicData/CloudS/libowei/rank_online/infos/video/8/2020051416/valid.csv\n",
      "3.221879815100154 3.3306704707560626\n",
      "/search/odin/publicData/CloudS/libowei/rank_online/infos/video/8/2020051417/valid.csv\n",
      "3.1841872791519434 3.287305440525489\n",
      "/search/odin/publicData/CloudS/libowei/rank_online/infos/video/8/2020051418/valid.csv\n",
      "3.0263456090651557 3.3760571595217264\n",
      "/search/odin/publicData/CloudS/libowei/rank_online/infos/video/8/2020051419/valid.csv\n",
      "3.2726408689748814 3.1985845718329795\n"
     ]
    }
   ],
   "source": [
    "for file in files:\n",
    "  df = pd.read_csv(file)\n",
    "  df = df[df.product_data=='sgsapp']\n",
    "  df['impression'] = df.mid + '\\t' + df.impression_time.astype(str)\n",
    "  df = df[df.position>=0]\n",
    "  df8 = df[df.abtestid==8]\n",
    "  df5 = df[df.abtestid==5]\n",
    "  x1 = df5.sort_values(['impression','position']).groupby('impression', as_index=False).first().position.mean()\n",
    "  x2 = df8.sort_values(['impression','position']).groupby('impression', as_index=False).first().position.mean()\n",
    "  print(file)\n",
    "  print(x1, x2)"
   ]
  },
  {
   "cell_type": "code",
   "execution_count": 25,
   "metadata": {},
   "outputs": [
    {
     "data": {
      "text/plain": [
       "3.189117555347677"
      ]
     },
     "execution_count": 25,
     "metadata": {},
     "output_type": "execute_result"
    }
   ],
   "source": []
  },
  {
   "cell_type": "code",
   "execution_count": null,
   "metadata": {},
   "outputs": [],
   "source": [
    "# files = glob.glob(f'{root}/{date}*/{product}_metrics_online.csv')\n",
    "# files += glob.glob(f'{root}/{date}*/{product}_metrics_offline.csv')\n",
    "# dfs = []\n",
    "# for i in tqdm(range(len(files))):\n",
    "#   df = pd.read_csv(files[i])\n",
    "#   dfs += [df]\n",
    "  \n",
    "# files = glob.glob(f'{root2}/{date}*/{product}_metrics_offline.csv')\n",
    "# for i in tqdm(range(len(files))):\n",
    "#   df = pd.read_csv(files[i])\n",
    "#   df = df[df.abtest==45600]\n",
    "#   df.abtest = 45601\n",
    "#   dfs += [df]\n",
    "\n",
    "# df = pd.concat(dfs)\n",
    "# df['abtest'] = df['abtest'].astype(str)"
   ]
  },
  {
   "cell_type": "code",
   "execution_count": 8,
   "metadata": {},
   "outputs": [],
   "source": [
    "# list(df.columns)"
   ]
  },
  {
   "cell_type": "code",
   "execution_count": 9,
   "metadata": {},
   "outputs": [
    {
     "data": {
      "text/html": [
       "<div>\n",
       "<style scoped>\n",
       "    .dataframe tbody tr th:only-of-type {\n",
       "        vertical-align: middle;\n",
       "    }\n",
       "\n",
       "    .dataframe tbody tr th {\n",
       "        vertical-align: top;\n",
       "    }\n",
       "\n",
       "    .dataframe thead th {\n",
       "        text-align: right;\n",
       "    }\n",
       "</style>\n",
       "<table border=\"1\" class=\"dataframe\">\n",
       "  <thead>\n",
       "    <tr style=\"text-align: right;\">\n",
       "      <th></th>\n",
       "      <th>Click/auc</th>\n",
       "      <th>Click/click/loss/dur</th>\n",
       "      <th>Click/click/mae</th>\n",
       "      <th>Click/click/mean</th>\n",
       "      <th>Click/click/mse</th>\n",
       "      <th>Click/click/rmse</th>\n",
       "      <th>Click/click/time_auc</th>\n",
       "      <th>Click/clickmids/auc</th>\n",
       "      <th>Click/cold/auc</th>\n",
       "      <th>Click/cold/click/time_auc</th>\n",
       "      <th>...</th>\n",
       "      <th>stats/num_instances</th>\n",
       "      <th>stats/pos_ratio</th>\n",
       "      <th>stats/time_per_click</th>\n",
       "      <th>stats/time_per_show</th>\n",
       "      <th>stats/time_per_user</th>\n",
       "      <th>stats/vtime_per_click</th>\n",
       "      <th>stats/vtime_per_show</th>\n",
       "      <th>stats/vtime_per_user</th>\n",
       "      <th>time_auc</th>\n",
       "      <th>vtime_auc</th>\n",
       "    </tr>\n",
       "  </thead>\n",
       "  <tbody>\n",
       "    <tr>\n",
       "      <th>0</th>\n",
       "      <td>0.745035</td>\n",
       "      <td>0.544215</td>\n",
       "      <td>0.234285</td>\n",
       "      <td>0.279041</td>\n",
       "      <td>0.088217</td>\n",
       "      <td>0.702986</td>\n",
       "      <td>0.525203</td>\n",
       "      <td>0.662432</td>\n",
       "      <td>0.766026</td>\n",
       "      <td>0.598450</td>\n",
       "      <td>...</td>\n",
       "      <td>15536</td>\n",
       "      <td>0.159887</td>\n",
       "      <td>0.027548</td>\n",
       "      <td>0.246986</td>\n",
       "      <td>0.031163</td>\n",
       "      <td>3.934424</td>\n",
       "      <td>4.280764</td>\n",
       "      <td>4.450732</td>\n",
       "      <td>0.672220</td>\n",
       "      <td>0.373771</td>\n",
       "    </tr>\n",
       "    <tr>\n",
       "      <th>1</th>\n",
       "      <td>0.780772</td>\n",
       "      <td>0.567533</td>\n",
       "      <td>0.259152</td>\n",
       "      <td>0.301536</td>\n",
       "      <td>0.097812</td>\n",
       "      <td>0.687251</td>\n",
       "      <td>0.491419</td>\n",
       "      <td>0.686413</td>\n",
       "      <td>0.943265</td>\n",
       "      <td>0.502203</td>\n",
       "      <td>...</td>\n",
       "      <td>17976</td>\n",
       "      <td>0.145806</td>\n",
       "      <td>0.027559</td>\n",
       "      <td>0.222867</td>\n",
       "      <td>0.032845</td>\n",
       "      <td>4.407671</td>\n",
       "      <td>4.648075</td>\n",
       "      <td>5.253189</td>\n",
       "      <td>0.705626</td>\n",
       "      <td>0.409656</td>\n",
       "    </tr>\n",
       "    <tr>\n",
       "      <th>2</th>\n",
       "      <td>0.793868</td>\n",
       "      <td>0.586798</td>\n",
       "      <td>0.270629</td>\n",
       "      <td>0.319447</td>\n",
       "      <td>0.106044</td>\n",
       "      <td>0.674355</td>\n",
       "      <td>0.494669</td>\n",
       "      <td>0.702386</td>\n",
       "      <td>0.927856</td>\n",
       "      <td>0.562526</td>\n",
       "      <td>...</td>\n",
       "      <td>17145</td>\n",
       "      <td>0.149606</td>\n",
       "      <td>0.029065</td>\n",
       "      <td>0.238154</td>\n",
       "      <td>0.033066</td>\n",
       "      <td>4.397095</td>\n",
       "      <td>4.496987</td>\n",
       "      <td>5.002319</td>\n",
       "      <td>0.703655</td>\n",
       "      <td>0.414557</td>\n",
       "    </tr>\n",
       "    <tr>\n",
       "      <th>3</th>\n",
       "      <td>0.766611</td>\n",
       "      <td>0.580911</td>\n",
       "      <td>0.260489</td>\n",
       "      <td>0.299275</td>\n",
       "      <td>0.100591</td>\n",
       "      <td>0.682839</td>\n",
       "      <td>0.489405</td>\n",
       "      <td>0.679470</td>\n",
       "      <td>0.933829</td>\n",
       "      <td>0.538181</td>\n",
       "      <td>...</td>\n",
       "      <td>18849</td>\n",
       "      <td>0.143880</td>\n",
       "      <td>0.029522</td>\n",
       "      <td>0.234554</td>\n",
       "      <td>0.034526</td>\n",
       "      <td>4.316362</td>\n",
       "      <td>4.534438</td>\n",
       "      <td>5.048053</td>\n",
       "      <td>0.710567</td>\n",
       "      <td>0.416601</td>\n",
       "    </tr>\n",
       "    <tr>\n",
       "      <th>4</th>\n",
       "      <td>0.775515</td>\n",
       "      <td>0.563575</td>\n",
       "      <td>0.257671</td>\n",
       "      <td>0.301215</td>\n",
       "      <td>0.096135</td>\n",
       "      <td>0.689944</td>\n",
       "      <td>0.491115</td>\n",
       "      <td>0.702343</td>\n",
       "      <td>0.895682</td>\n",
       "      <td>0.607079</td>\n",
       "      <td>...</td>\n",
       "      <td>17618</td>\n",
       "      <td>0.157736</td>\n",
       "      <td>0.028162</td>\n",
       "      <td>0.246872</td>\n",
       "      <td>0.035016</td>\n",
       "      <td>4.523494</td>\n",
       "      <td>4.586593</td>\n",
       "      <td>5.624461</td>\n",
       "      <td>0.690827</td>\n",
       "      <td>0.404456</td>\n",
       "    </tr>\n",
       "    <tr>\n",
       "      <th>...</th>\n",
       "      <td>...</td>\n",
       "      <td>...</td>\n",
       "      <td>...</td>\n",
       "      <td>...</td>\n",
       "      <td>...</td>\n",
       "      <td>...</td>\n",
       "      <td>...</td>\n",
       "      <td>...</td>\n",
       "      <td>...</td>\n",
       "      <td>...</td>\n",
       "      <td>...</td>\n",
       "      <td>...</td>\n",
       "      <td>...</td>\n",
       "      <td>...</td>\n",
       "      <td>...</td>\n",
       "      <td>...</td>\n",
       "      <td>...</td>\n",
       "      <td>...</td>\n",
       "      <td>...</td>\n",
       "      <td>...</td>\n",
       "      <td>...</td>\n",
       "    </tr>\n",
       "    <tr>\n",
       "      <th>0</th>\n",
       "      <td>0.749381</td>\n",
       "      <td>0.592469</td>\n",
       "      <td>0.241793</td>\n",
       "      <td>0.270887</td>\n",
       "      <td>0.093725</td>\n",
       "      <td>0.693855</td>\n",
       "      <td>0.477581</td>\n",
       "      <td>0.703060</td>\n",
       "      <td>0.870074</td>\n",
       "      <td>0.545812</td>\n",
       "      <td>...</td>\n",
       "      <td>64806</td>\n",
       "      <td>0.179474</td>\n",
       "      <td>0.035302</td>\n",
       "      <td>0.350692</td>\n",
       "      <td>0.053256</td>\n",
       "      <td>4.968608</td>\n",
       "      <td>5.261337</td>\n",
       "      <td>7.495537</td>\n",
       "      <td>0.699521</td>\n",
       "      <td>0.576445</td>\n",
       "    </tr>\n",
       "    <tr>\n",
       "      <th>0</th>\n",
       "      <td>0.750587</td>\n",
       "      <td>0.606965</td>\n",
       "      <td>0.247157</td>\n",
       "      <td>0.268900</td>\n",
       "      <td>0.099084</td>\n",
       "      <td>0.685224</td>\n",
       "      <td>0.471524</td>\n",
       "      <td>0.711403</td>\n",
       "      <td>0.888322</td>\n",
       "      <td>0.548363</td>\n",
       "      <td>...</td>\n",
       "      <td>77082</td>\n",
       "      <td>0.173763</td>\n",
       "      <td>0.036938</td>\n",
       "      <td>0.353304</td>\n",
       "      <td>0.056445</td>\n",
       "      <td>4.946877</td>\n",
       "      <td>5.343989</td>\n",
       "      <td>7.559259</td>\n",
       "      <td>0.698458</td>\n",
       "      <td>0.573711</td>\n",
       "    </tr>\n",
       "    <tr>\n",
       "      <th>0</th>\n",
       "      <td>0.742371</td>\n",
       "      <td>0.608636</td>\n",
       "      <td>0.243791</td>\n",
       "      <td>0.265267</td>\n",
       "      <td>0.097776</td>\n",
       "      <td>0.687308</td>\n",
       "      <td>0.482911</td>\n",
       "      <td>0.704329</td>\n",
       "      <td>0.867268</td>\n",
       "      <td>0.579840</td>\n",
       "      <td>...</td>\n",
       "      <td>93171</td>\n",
       "      <td>0.176203</td>\n",
       "      <td>0.038440</td>\n",
       "      <td>0.377808</td>\n",
       "      <td>0.064028</td>\n",
       "      <td>5.047621</td>\n",
       "      <td>5.279075</td>\n",
       "      <td>8.407670</td>\n",
       "      <td>0.697207</td>\n",
       "      <td>0.577814</td>\n",
       "    </tr>\n",
       "    <tr>\n",
       "      <th>0</th>\n",
       "      <td>0.747040</td>\n",
       "      <td>0.620825</td>\n",
       "      <td>0.252538</td>\n",
       "      <td>0.275172</td>\n",
       "      <td>0.102897</td>\n",
       "      <td>0.679225</td>\n",
       "      <td>0.484424</td>\n",
       "      <td>0.712080</td>\n",
       "      <td>0.854363</td>\n",
       "      <td>0.536030</td>\n",
       "      <td>...</td>\n",
       "      <td>104286</td>\n",
       "      <td>0.169256</td>\n",
       "      <td>0.039663</td>\n",
       "      <td>0.368819</td>\n",
       "      <td>0.064744</td>\n",
       "      <td>5.235612</td>\n",
       "      <td>5.392517</td>\n",
       "      <td>8.546192</td>\n",
       "      <td>0.699423</td>\n",
       "      <td>0.579368</td>\n",
       "    </tr>\n",
       "    <tr>\n",
       "      <th>0</th>\n",
       "      <td>0.762045</td>\n",
       "      <td>0.617948</td>\n",
       "      <td>0.254177</td>\n",
       "      <td>0.279183</td>\n",
       "      <td>0.103263</td>\n",
       "      <td>0.678655</td>\n",
       "      <td>0.488586</td>\n",
       "      <td>0.712556</td>\n",
       "      <td>0.919815</td>\n",
       "      <td>0.537263</td>\n",
       "      <td>...</td>\n",
       "      <td>91799</td>\n",
       "      <td>0.155416</td>\n",
       "      <td>0.039075</td>\n",
       "      <td>0.331679</td>\n",
       "      <td>0.058525</td>\n",
       "      <td>5.274692</td>\n",
       "      <td>5.352856</td>\n",
       "      <td>7.900289</td>\n",
       "      <td>0.716412</td>\n",
       "      <td>0.580336</td>\n",
       "    </tr>\n",
       "  </tbody>\n",
       "</table>\n",
       "<p>424 rows × 525 columns</p>\n",
       "</div>"
      ],
      "text/plain": [
       "    Click/auc  Click/click/loss/dur  Click/click/mae  Click/click/mean  \\\n",
       "0    0.745035              0.544215         0.234285          0.279041   \n",
       "1    0.780772              0.567533         0.259152          0.301536   \n",
       "2    0.793868              0.586798         0.270629          0.319447   \n",
       "3    0.766611              0.580911         0.260489          0.299275   \n",
       "4    0.775515              0.563575         0.257671          0.301215   \n",
       "..        ...                   ...              ...               ...   \n",
       "0    0.749381              0.592469         0.241793          0.270887   \n",
       "0    0.750587              0.606965         0.247157          0.268900   \n",
       "0    0.742371              0.608636         0.243791          0.265267   \n",
       "0    0.747040              0.620825         0.252538          0.275172   \n",
       "0    0.762045              0.617948         0.254177          0.279183   \n",
       "\n",
       "    Click/click/mse  Click/click/rmse  Click/click/time_auc  \\\n",
       "0          0.088217          0.702986              0.525203   \n",
       "1          0.097812          0.687251              0.491419   \n",
       "2          0.106044          0.674355              0.494669   \n",
       "3          0.100591          0.682839              0.489405   \n",
       "4          0.096135          0.689944              0.491115   \n",
       "..              ...               ...                   ...   \n",
       "0          0.093725          0.693855              0.477581   \n",
       "0          0.099084          0.685224              0.471524   \n",
       "0          0.097776          0.687308              0.482911   \n",
       "0          0.102897          0.679225              0.484424   \n",
       "0          0.103263          0.678655              0.488586   \n",
       "\n",
       "    Click/clickmids/auc  Click/cold/auc  Click/cold/click/time_auc  ...  \\\n",
       "0              0.662432        0.766026                   0.598450  ...   \n",
       "1              0.686413        0.943265                   0.502203  ...   \n",
       "2              0.702386        0.927856                   0.562526  ...   \n",
       "3              0.679470        0.933829                   0.538181  ...   \n",
       "4              0.702343        0.895682                   0.607079  ...   \n",
       "..                  ...             ...                        ...  ...   \n",
       "0              0.703060        0.870074                   0.545812  ...   \n",
       "0              0.711403        0.888322                   0.548363  ...   \n",
       "0              0.704329        0.867268                   0.579840  ...   \n",
       "0              0.712080        0.854363                   0.536030  ...   \n",
       "0              0.712556        0.919815                   0.537263  ...   \n",
       "\n",
       "    stats/num_instances  stats/pos_ratio  stats/time_per_click  \\\n",
       "0                 15536         0.159887              0.027548   \n",
       "1                 17976         0.145806              0.027559   \n",
       "2                 17145         0.149606              0.029065   \n",
       "3                 18849         0.143880              0.029522   \n",
       "4                 17618         0.157736              0.028162   \n",
       "..                  ...              ...                   ...   \n",
       "0                 64806         0.179474              0.035302   \n",
       "0                 77082         0.173763              0.036938   \n",
       "0                 93171         0.176203              0.038440   \n",
       "0                104286         0.169256              0.039663   \n",
       "0                 91799         0.155416              0.039075   \n",
       "\n",
       "    stats/time_per_show  stats/time_per_user  stats/vtime_per_click  \\\n",
       "0              0.246986             0.031163               3.934424   \n",
       "1              0.222867             0.032845               4.407671   \n",
       "2              0.238154             0.033066               4.397095   \n",
       "3              0.234554             0.034526               4.316362   \n",
       "4              0.246872             0.035016               4.523494   \n",
       "..                  ...                  ...                    ...   \n",
       "0              0.350692             0.053256               4.968608   \n",
       "0              0.353304             0.056445               4.946877   \n",
       "0              0.377808             0.064028               5.047621   \n",
       "0              0.368819             0.064744               5.235612   \n",
       "0              0.331679             0.058525               5.274692   \n",
       "\n",
       "    stats/vtime_per_show  stats/vtime_per_user  time_auc  vtime_auc  \n",
       "0               4.280764              4.450732  0.672220   0.373771  \n",
       "1               4.648075              5.253189  0.705626   0.409656  \n",
       "2               4.496987              5.002319  0.703655   0.414557  \n",
       "3               4.534438              5.048053  0.710567   0.416601  \n",
       "4               4.586593              5.624461  0.690827   0.404456  \n",
       "..                   ...                   ...       ...        ...  \n",
       "0               5.261337              7.495537  0.699521   0.576445  \n",
       "0               5.343989              7.559259  0.698458   0.573711  \n",
       "0               5.279075              8.407670  0.697207   0.577814  \n",
       "0               5.392517              8.546192  0.699423   0.579368  \n",
       "0               5.352856              7.900289  0.716412   0.580336  \n",
       "\n",
       "[424 rows x 525 columns]"
      ]
     },
     "execution_count": 9,
     "metadata": {},
     "output_type": "execute_result"
    }
   ],
   "source": [
    "df"
   ]
  },
  {
   "cell_type": "code",
   "execution_count": 17,
   "metadata": {
    "scrolled": false
   },
   "outputs": [
    {
     "data": {
      "text/html": [
       "        <script type=\"text/javascript\">\n",
       "        window.PlotlyConfig = {MathJaxConfig: 'local'};\n",
       "        if (window.MathJax) {MathJax.Hub.Config({SVG: {font: \"STIX-Web\"}});}\n",
       "        if (typeof require !== 'undefined') {\n",
       "        require.undef(\"plotly\");\n",
       "        requirejs.config({\n",
       "            paths: {\n",
       "                'plotly': ['https://cdn.plot.ly/plotly-latest.min']\n",
       "            }\n",
       "        });\n",
       "        require(['plotly'], function(Plotly) {\n",
       "            window._Plotly = Plotly;\n",
       "        });\n",
       "        }\n",
       "        </script>\n",
       "        "
      ]
     },
     "metadata": {},
     "output_type": "display_data"
    },
    {
     "data": {
      "application/vnd.plotly.v1+json": {
       "config": {
        "linkText": "Export to plot.ly",
        "plotlyServerURL": "https://plot.ly",
        "showLink": false
       },
       "data": [
        {
         "line": {
          "shape": "spline",
          "smoothing": 0.5
         },
         "marker": {
          "size": 4
         },
         "mode": "lines+markers",
         "name": "15",
         "type": "scatter",
         "x": [
          "2020-05-11T07:00:00",
          "2020-05-11T08:00:00",
          "2020-05-11T09:00:00",
          "2020-05-11T10:00:00",
          "2020-05-11T11:00:00",
          "2020-05-11T12:00:00",
          "2020-05-11T13:00:00",
          "2020-05-11T14:00:00",
          "2020-05-11T15:00:00",
          "2020-05-11T16:00:00",
          "2020-05-11T17:00:00",
          "2020-05-11T18:00:00",
          "2020-05-11T19:00:00",
          "2020-05-11T20:00:00",
          "2020-05-11T21:00:00",
          "2020-05-11T22:00:00",
          "2020-05-11T23:00:00"
         ],
         "y": [
          0.6783432254158123,
          0.6753305109813098,
          0.6851002273904907,
          0.6750589823236188,
          0.6859916252319422,
          0.7000800849175937,
          0.7285874901120286,
          0.6920637701273988,
          0.6852400242444716,
          0.6906204498407749,
          0.6769019706598578,
          0.6678459008758448,
          0.6798344181213157,
          0.6658087644563693,
          0.6568057584635328,
          0.6620969610230074,
          0.6805268962540356
         ]
        },
        {
         "line": {
          "shape": "spline",
          "smoothing": 0.5
         },
         "marker": {
          "size": 4
         },
         "mode": "lines+markers",
         "name": "45600",
         "type": "scatter",
         "x": [
          "2020-05-11T07:00:00",
          "2020-05-11T08:00:00",
          "2020-05-11T09:00:00",
          "2020-05-11T10:00:00",
          "2020-05-11T11:00:00",
          "2020-05-11T12:00:00",
          "2020-05-11T13:00:00",
          "2020-05-11T14:00:00",
          "2020-05-11T15:00:00",
          "2020-05-11T16:00:00",
          "2020-05-11T17:00:00",
          "2020-05-11T18:00:00",
          "2020-05-11T19:00:00",
          "2020-05-11T20:00:00",
          "2020-05-11T21:00:00",
          "2020-05-11T22:00:00",
          "2020-05-11T23:00:00"
         ],
         "y": [
          0.7327366978408606,
          0.7315495610093313,
          0.7389045436180062,
          0.7311387927861195,
          0.7355773536053615,
          0.7526040273451418,
          0.7452142877614997,
          0.7333228653144631,
          0.7310506274053297,
          0.7211744781081262,
          0.7243507953576336,
          0.7239470661062684,
          0.7154120129574447,
          0.7105172194673387,
          0.7090313701817258,
          0.7126692801059429,
          0.7293558895848035
         ]
        },
        {
         "line": {
          "shape": "spline",
          "smoothing": 0.5
         },
         "marker": {
          "size": 4
         },
         "mode": "lines+markers",
         "name": "45601",
         "type": "scatter",
         "x": [
          "2020-05-11T07:00:00",
          "2020-05-11T08:00:00",
          "2020-05-11T09:00:00",
          "2020-05-11T10:00:00",
          "2020-05-11T11:00:00",
          "2020-05-11T12:00:00",
          "2020-05-11T13:00:00",
          "2020-05-11T14:00:00",
          "2020-05-11T15:00:00",
          "2020-05-11T16:00:00",
          "2020-05-11T17:00:00",
          "2020-05-11T18:00:00",
          "2020-05-11T19:00:00",
          "2020-05-11T20:00:00",
          "2020-05-11T21:00:00",
          "2020-05-11T22:00:00",
          "2020-05-11T23:00:00"
         ],
         "y": [
          0.7166242057185799,
          0.7346769773558788,
          0.7372417719611304,
          0.7241899343841396,
          0.7306404654581855,
          0.7449724605132092,
          0.7409966875267633,
          0.7247316567183868,
          0.7281545891619275,
          0.7169575560935428,
          0.7184255806429641,
          0.7183410502391389,
          0.7109079900402346,
          0.7031546015857093,
          0.7030245646160388,
          0.7067042546065849,
          0.7227848872054894
         ]
        },
        {
         "line": {
          "shape": "spline",
          "smoothing": 0.5
         },
         "marker": {
          "size": 4
         },
         "mode": "lines+markers",
         "name": "45602",
         "type": "scatter",
         "x": [
          "2020-05-11T07:00:00",
          "2020-05-11T08:00:00",
          "2020-05-11T09:00:00",
          "2020-05-11T10:00:00",
          "2020-05-11T11:00:00",
          "2020-05-11T12:00:00",
          "2020-05-11T13:00:00",
          "2020-05-11T14:00:00",
          "2020-05-11T15:00:00",
          "2020-05-11T17:00:00",
          "2020-05-11T18:00:00",
          "2020-05-11T19:00:00",
          "2020-05-11T20:00:00",
          "2020-05-11T21:00:00",
          "2020-05-11T22:00:00",
          "2020-05-11T23:00:00"
         ],
         "y": [
          0.7247183279603825,
          0.7308312458125009,
          0.7339509194437481,
          0.7239410280391615,
          0.7350659720675753,
          0.7521359151761257,
          0.7448549375280165,
          0.7290374739140542,
          0.7274576285505547,
          0.7171658432988611,
          0.7168913889329822,
          0.7092687501589081,
          0.7057003660914751,
          0.7053412299851325,
          0.7060024828040419,
          0.7230813431865155
         ]
        },
        {
         "line": {
          "shape": "spline",
          "smoothing": 0.5
         },
         "marker": {
          "size": 4
         },
         "mode": "lines+markers",
         "name": "8",
         "type": "scatter",
         "x": [
          "2020-05-11T07:00:00",
          "2020-05-11T08:00:00",
          "2020-05-11T09:00:00",
          "2020-05-11T10:00:00",
          "2020-05-11T11:00:00",
          "2020-05-11T12:00:00",
          "2020-05-11T13:00:00",
          "2020-05-11T14:00:00",
          "2020-05-11T15:00:00",
          "2020-05-11T16:00:00",
          "2020-05-11T17:00:00",
          "2020-05-11T18:00:00",
          "2020-05-11T19:00:00",
          "2020-05-11T20:00:00",
          "2020-05-11T21:00:00",
          "2020-05-11T22:00:00",
          "2020-05-11T23:00:00"
         ],
         "y": [
          0.6641776601015731,
          0.6744213727735229,
          0.6847116822153048,
          0.6910532468797452,
          0.6913819685482889,
          0.6848804964287855,
          0.6813610757739567,
          0.6692437621843006,
          0.6785773834303063,
          0.705611990220111,
          0.6857113817939557,
          0.6622345820654377,
          0.6590054122650443,
          0.6733008984662532,
          0.6550705426321841,
          0.6370848715795661,
          0.6452328114753451
         ]
        },
        {
         "line": {
          "shape": "spline",
          "smoothing": 0.5
         },
         "marker": {
          "size": 4
         },
         "mode": "lines+markers",
         "name": "456",
         "type": "scatter",
         "x": [
          "2020-05-11T07:00:00",
          "2020-05-11T08:00:00",
          "2020-05-11T09:00:00",
          "2020-05-11T10:00:00",
          "2020-05-11T11:00:00",
          "2020-05-11T12:00:00",
          "2020-05-11T13:00:00",
          "2020-05-11T14:00:00",
          "2020-05-11T15:00:00",
          "2020-05-11T16:00:00",
          "2020-05-11T17:00:00",
          "2020-05-11T18:00:00",
          "2020-05-11T19:00:00",
          "2020-05-11T20:00:00",
          "2020-05-11T21:00:00",
          "2020-05-11T22:00:00",
          "2020-05-11T23:00:00"
         ],
         "y": [
          0.6805675778667322,
          0.6785009245104652,
          0.6871434724144722,
          0.6690150286340146,
          0.6766756244207826,
          0.695843118822313,
          0.6833883827811174,
          0.6788555137188912,
          0.6814192872739351,
          0.6752647109376144,
          0.6806665220584182,
          0.673677744191918,
          0.6584013508636135,
          0.6643542263307403,
          0.6571885476959114,
          0.6621513143994444,
          0.6701448837485955
         ]
        }
       ],
       "layout": {
        "hovermode": "x",
        "template": {
         "data": {
          "bar": [
           {
            "error_x": {
             "color": "#2a3f5f"
            },
            "error_y": {
             "color": "#2a3f5f"
            },
            "marker": {
             "line": {
              "color": "#E5ECF6",
              "width": 0.5
             }
            },
            "type": "bar"
           }
          ],
          "barpolar": [
           {
            "marker": {
             "line": {
              "color": "#E5ECF6",
              "width": 0.5
             }
            },
            "type": "barpolar"
           }
          ],
          "carpet": [
           {
            "aaxis": {
             "endlinecolor": "#2a3f5f",
             "gridcolor": "white",
             "linecolor": "white",
             "minorgridcolor": "white",
             "startlinecolor": "#2a3f5f"
            },
            "baxis": {
             "endlinecolor": "#2a3f5f",
             "gridcolor": "white",
             "linecolor": "white",
             "minorgridcolor": "white",
             "startlinecolor": "#2a3f5f"
            },
            "type": "carpet"
           }
          ],
          "choropleth": [
           {
            "colorbar": {
             "outlinewidth": 0,
             "ticks": ""
            },
            "type": "choropleth"
           }
          ],
          "contour": [
           {
            "colorbar": {
             "outlinewidth": 0,
             "ticks": ""
            },
            "colorscale": [
             [
              0,
              "#0d0887"
             ],
             [
              0.1111111111111111,
              "#46039f"
             ],
             [
              0.2222222222222222,
              "#7201a8"
             ],
             [
              0.3333333333333333,
              "#9c179e"
             ],
             [
              0.4444444444444444,
              "#bd3786"
             ],
             [
              0.5555555555555556,
              "#d8576b"
             ],
             [
              0.6666666666666666,
              "#ed7953"
             ],
             [
              0.7777777777777778,
              "#fb9f3a"
             ],
             [
              0.8888888888888888,
              "#fdca26"
             ],
             [
              1,
              "#f0f921"
             ]
            ],
            "type": "contour"
           }
          ],
          "contourcarpet": [
           {
            "colorbar": {
             "outlinewidth": 0,
             "ticks": ""
            },
            "type": "contourcarpet"
           }
          ],
          "heatmap": [
           {
            "colorbar": {
             "outlinewidth": 0,
             "ticks": ""
            },
            "colorscale": [
             [
              0,
              "#0d0887"
             ],
             [
              0.1111111111111111,
              "#46039f"
             ],
             [
              0.2222222222222222,
              "#7201a8"
             ],
             [
              0.3333333333333333,
              "#9c179e"
             ],
             [
              0.4444444444444444,
              "#bd3786"
             ],
             [
              0.5555555555555556,
              "#d8576b"
             ],
             [
              0.6666666666666666,
              "#ed7953"
             ],
             [
              0.7777777777777778,
              "#fb9f3a"
             ],
             [
              0.8888888888888888,
              "#fdca26"
             ],
             [
              1,
              "#f0f921"
             ]
            ],
            "type": "heatmap"
           }
          ],
          "heatmapgl": [
           {
            "colorbar": {
             "outlinewidth": 0,
             "ticks": ""
            },
            "colorscale": [
             [
              0,
              "#0d0887"
             ],
             [
              0.1111111111111111,
              "#46039f"
             ],
             [
              0.2222222222222222,
              "#7201a8"
             ],
             [
              0.3333333333333333,
              "#9c179e"
             ],
             [
              0.4444444444444444,
              "#bd3786"
             ],
             [
              0.5555555555555556,
              "#d8576b"
             ],
             [
              0.6666666666666666,
              "#ed7953"
             ],
             [
              0.7777777777777778,
              "#fb9f3a"
             ],
             [
              0.8888888888888888,
              "#fdca26"
             ],
             [
              1,
              "#f0f921"
             ]
            ],
            "type": "heatmapgl"
           }
          ],
          "histogram": [
           {
            "marker": {
             "colorbar": {
              "outlinewidth": 0,
              "ticks": ""
             }
            },
            "type": "histogram"
           }
          ],
          "histogram2d": [
           {
            "colorbar": {
             "outlinewidth": 0,
             "ticks": ""
            },
            "colorscale": [
             [
              0,
              "#0d0887"
             ],
             [
              0.1111111111111111,
              "#46039f"
             ],
             [
              0.2222222222222222,
              "#7201a8"
             ],
             [
              0.3333333333333333,
              "#9c179e"
             ],
             [
              0.4444444444444444,
              "#bd3786"
             ],
             [
              0.5555555555555556,
              "#d8576b"
             ],
             [
              0.6666666666666666,
              "#ed7953"
             ],
             [
              0.7777777777777778,
              "#fb9f3a"
             ],
             [
              0.8888888888888888,
              "#fdca26"
             ],
             [
              1,
              "#f0f921"
             ]
            ],
            "type": "histogram2d"
           }
          ],
          "histogram2dcontour": [
           {
            "colorbar": {
             "outlinewidth": 0,
             "ticks": ""
            },
            "colorscale": [
             [
              0,
              "#0d0887"
             ],
             [
              0.1111111111111111,
              "#46039f"
             ],
             [
              0.2222222222222222,
              "#7201a8"
             ],
             [
              0.3333333333333333,
              "#9c179e"
             ],
             [
              0.4444444444444444,
              "#bd3786"
             ],
             [
              0.5555555555555556,
              "#d8576b"
             ],
             [
              0.6666666666666666,
              "#ed7953"
             ],
             [
              0.7777777777777778,
              "#fb9f3a"
             ],
             [
              0.8888888888888888,
              "#fdca26"
             ],
             [
              1,
              "#f0f921"
             ]
            ],
            "type": "histogram2dcontour"
           }
          ],
          "mesh3d": [
           {
            "colorbar": {
             "outlinewidth": 0,
             "ticks": ""
            },
            "type": "mesh3d"
           }
          ],
          "parcoords": [
           {
            "line": {
             "colorbar": {
              "outlinewidth": 0,
              "ticks": ""
             }
            },
            "type": "parcoords"
           }
          ],
          "scatter": [
           {
            "marker": {
             "colorbar": {
              "outlinewidth": 0,
              "ticks": ""
             }
            },
            "type": "scatter"
           }
          ],
          "scatter3d": [
           {
            "line": {
             "colorbar": {
              "outlinewidth": 0,
              "ticks": ""
             }
            },
            "marker": {
             "colorbar": {
              "outlinewidth": 0,
              "ticks": ""
             }
            },
            "type": "scatter3d"
           }
          ],
          "scattercarpet": [
           {
            "marker": {
             "colorbar": {
              "outlinewidth": 0,
              "ticks": ""
             }
            },
            "type": "scattercarpet"
           }
          ],
          "scattergeo": [
           {
            "marker": {
             "colorbar": {
              "outlinewidth": 0,
              "ticks": ""
             }
            },
            "type": "scattergeo"
           }
          ],
          "scattergl": [
           {
            "marker": {
             "colorbar": {
              "outlinewidth": 0,
              "ticks": ""
             }
            },
            "type": "scattergl"
           }
          ],
          "scattermapbox": [
           {
            "marker": {
             "colorbar": {
              "outlinewidth": 0,
              "ticks": ""
             }
            },
            "type": "scattermapbox"
           }
          ],
          "scatterpolar": [
           {
            "marker": {
             "colorbar": {
              "outlinewidth": 0,
              "ticks": ""
             }
            },
            "type": "scatterpolar"
           }
          ],
          "scatterpolargl": [
           {
            "marker": {
             "colorbar": {
              "outlinewidth": 0,
              "ticks": ""
             }
            },
            "type": "scatterpolargl"
           }
          ],
          "scatterternary": [
           {
            "marker": {
             "colorbar": {
              "outlinewidth": 0,
              "ticks": ""
             }
            },
            "type": "scatterternary"
           }
          ],
          "surface": [
           {
            "colorbar": {
             "outlinewidth": 0,
             "ticks": ""
            },
            "colorscale": [
             [
              0,
              "#0d0887"
             ],
             [
              0.1111111111111111,
              "#46039f"
             ],
             [
              0.2222222222222222,
              "#7201a8"
             ],
             [
              0.3333333333333333,
              "#9c179e"
             ],
             [
              0.4444444444444444,
              "#bd3786"
             ],
             [
              0.5555555555555556,
              "#d8576b"
             ],
             [
              0.6666666666666666,
              "#ed7953"
             ],
             [
              0.7777777777777778,
              "#fb9f3a"
             ],
             [
              0.8888888888888888,
              "#fdca26"
             ],
             [
              1,
              "#f0f921"
             ]
            ],
            "type": "surface"
           }
          ],
          "table": [
           {
            "cells": {
             "fill": {
              "color": "#EBF0F8"
             },
             "line": {
              "color": "white"
             }
            },
            "header": {
             "fill": {
              "color": "#C8D4E3"
             },
             "line": {
              "color": "white"
             }
            },
            "type": "table"
           }
          ]
         },
         "layout": {
          "annotationdefaults": {
           "arrowcolor": "#2a3f5f",
           "arrowhead": 0,
           "arrowwidth": 1
          },
          "colorscale": {
           "diverging": [
            [
             0,
             "#8e0152"
            ],
            [
             0.1,
             "#c51b7d"
            ],
            [
             0.2,
             "#de77ae"
            ],
            [
             0.3,
             "#f1b6da"
            ],
            [
             0.4,
             "#fde0ef"
            ],
            [
             0.5,
             "#f7f7f7"
            ],
            [
             0.6,
             "#e6f5d0"
            ],
            [
             0.7,
             "#b8e186"
            ],
            [
             0.8,
             "#7fbc41"
            ],
            [
             0.9,
             "#4d9221"
            ],
            [
             1,
             "#276419"
            ]
           ],
           "sequential": [
            [
             0,
             "#0d0887"
            ],
            [
             0.1111111111111111,
             "#46039f"
            ],
            [
             0.2222222222222222,
             "#7201a8"
            ],
            [
             0.3333333333333333,
             "#9c179e"
            ],
            [
             0.4444444444444444,
             "#bd3786"
            ],
            [
             0.5555555555555556,
             "#d8576b"
            ],
            [
             0.6666666666666666,
             "#ed7953"
            ],
            [
             0.7777777777777778,
             "#fb9f3a"
            ],
            [
             0.8888888888888888,
             "#fdca26"
            ],
            [
             1,
             "#f0f921"
            ]
           ],
           "sequentialminus": [
            [
             0,
             "#0d0887"
            ],
            [
             0.1111111111111111,
             "#46039f"
            ],
            [
             0.2222222222222222,
             "#7201a8"
            ],
            [
             0.3333333333333333,
             "#9c179e"
            ],
            [
             0.4444444444444444,
             "#bd3786"
            ],
            [
             0.5555555555555556,
             "#d8576b"
            ],
            [
             0.6666666666666666,
             "#ed7953"
            ],
            [
             0.7777777777777778,
             "#fb9f3a"
            ],
            [
             0.8888888888888888,
             "#fdca26"
            ],
            [
             1,
             "#f0f921"
            ]
           ]
          },
          "colorway": [
           "#636efa",
           "#EF553B",
           "#00cc96",
           "#ab63fa",
           "#FFA15A",
           "#19d3f3",
           "#FF6692",
           "#B6E880",
           "#FF97FF",
           "#FECB52"
          ],
          "font": {
           "color": "#2a3f5f"
          },
          "geo": {
           "bgcolor": "white",
           "lakecolor": "white",
           "landcolor": "#E5ECF6",
           "showlakes": true,
           "showland": true,
           "subunitcolor": "white"
          },
          "hoverlabel": {
           "align": "left"
          },
          "hovermode": "closest",
          "mapbox": {
           "style": "light"
          },
          "paper_bgcolor": "white",
          "plot_bgcolor": "#E5ECF6",
          "polar": {
           "angularaxis": {
            "gridcolor": "white",
            "linecolor": "white",
            "ticks": ""
           },
           "bgcolor": "#E5ECF6",
           "radialaxis": {
            "gridcolor": "white",
            "linecolor": "white",
            "ticks": ""
           }
          },
          "scene": {
           "xaxis": {
            "backgroundcolor": "#E5ECF6",
            "gridcolor": "white",
            "gridwidth": 2,
            "linecolor": "white",
            "showbackground": true,
            "ticks": "",
            "zerolinecolor": "white"
           },
           "yaxis": {
            "backgroundcolor": "#E5ECF6",
            "gridcolor": "white",
            "gridwidth": 2,
            "linecolor": "white",
            "showbackground": true,
            "ticks": "",
            "zerolinecolor": "white"
           },
           "zaxis": {
            "backgroundcolor": "#E5ECF6",
            "gridcolor": "white",
            "gridwidth": 2,
            "linecolor": "white",
            "showbackground": true,
            "ticks": "",
            "zerolinecolor": "white"
           }
          },
          "shapedefaults": {
           "line": {
            "color": "#2a3f5f"
           }
          },
          "ternary": {
           "aaxis": {
            "gridcolor": "white",
            "linecolor": "white",
            "ticks": ""
           },
           "baxis": {
            "gridcolor": "white",
            "linecolor": "white",
            "ticks": ""
           },
           "bgcolor": "#E5ECF6",
           "caxis": {
            "gridcolor": "white",
            "linecolor": "white",
            "ticks": ""
           }
          },
          "title": {
           "x": 0.05
          },
          "xaxis": {
           "automargin": true,
           "gridcolor": "white",
           "linecolor": "white",
           "ticks": "",
           "zerolinecolor": "white",
           "zerolinewidth": 2
          },
          "yaxis": {
           "automargin": true,
           "gridcolor": "white",
           "linecolor": "white",
           "ticks": "",
           "zerolinecolor": "white",
           "zerolinewidth": 2
          }
         }
        },
        "title": {
         "text": "auc"
        },
        "xaxis": {
         "type": "date"
        }
       }
      },
      "text/html": [
       "<div>\n",
       "        \n",
       "        \n",
       "            <div id=\"08fda053-a7a1-4e8b-81d1-d3bcb5b3da83\" class=\"plotly-graph-div\" style=\"height:525px; width:100%;\"></div>\n",
       "            <script type=\"text/javascript\">\n",
       "                require([\"plotly\"], function(Plotly) {\n",
       "                    window.PLOTLYENV=window.PLOTLYENV || {};\n",
       "                    \n",
       "                if (document.getElementById(\"08fda053-a7a1-4e8b-81d1-d3bcb5b3da83\")) {\n",
       "                    Plotly.newPlot(\n",
       "                        '08fda053-a7a1-4e8b-81d1-d3bcb5b3da83',\n",
       "                        [{\"line\": {\"shape\": \"spline\", \"smoothing\": 0.5}, \"marker\": {\"size\": 4}, \"mode\": \"lines+markers\", \"name\": \"15\", \"type\": \"scatter\", \"x\": [\"2020-05-11T07:00:00\", \"2020-05-11T08:00:00\", \"2020-05-11T09:00:00\", \"2020-05-11T10:00:00\", \"2020-05-11T11:00:00\", \"2020-05-11T12:00:00\", \"2020-05-11T13:00:00\", \"2020-05-11T14:00:00\", \"2020-05-11T15:00:00\", \"2020-05-11T16:00:00\", \"2020-05-11T17:00:00\", \"2020-05-11T18:00:00\", \"2020-05-11T19:00:00\", \"2020-05-11T20:00:00\", \"2020-05-11T21:00:00\", \"2020-05-11T22:00:00\", \"2020-05-11T23:00:00\"], \"y\": [0.6783432254158123, 0.6753305109813098, 0.6851002273904907, 0.6750589823236188, 0.6859916252319422, 0.7000800849175937, 0.7285874901120286, 0.6920637701273988, 0.6852400242444716, 0.6906204498407749, 0.6769019706598578, 0.6678459008758448, 0.6798344181213157, 0.6658087644563693, 0.6568057584635328, 0.6620969610230074, 0.6805268962540356]}, {\"line\": {\"shape\": \"spline\", \"smoothing\": 0.5}, \"marker\": {\"size\": 4}, \"mode\": \"lines+markers\", \"name\": \"45600\", \"type\": \"scatter\", \"x\": [\"2020-05-11T07:00:00\", \"2020-05-11T08:00:00\", \"2020-05-11T09:00:00\", \"2020-05-11T10:00:00\", \"2020-05-11T11:00:00\", \"2020-05-11T12:00:00\", \"2020-05-11T13:00:00\", \"2020-05-11T14:00:00\", \"2020-05-11T15:00:00\", \"2020-05-11T16:00:00\", \"2020-05-11T17:00:00\", \"2020-05-11T18:00:00\", \"2020-05-11T19:00:00\", \"2020-05-11T20:00:00\", \"2020-05-11T21:00:00\", \"2020-05-11T22:00:00\", \"2020-05-11T23:00:00\"], \"y\": [0.7327366978408606, 0.7315495610093313, 0.7389045436180062, 0.7311387927861195, 0.7355773536053615, 0.7526040273451418, 0.7452142877614997, 0.7333228653144631, 0.7310506274053297, 0.7211744781081262, 0.7243507953576336, 0.7239470661062684, 0.7154120129574447, 0.7105172194673387, 0.7090313701817258, 0.7126692801059429, 0.7293558895848035]}, {\"line\": {\"shape\": \"spline\", \"smoothing\": 0.5}, \"marker\": {\"size\": 4}, \"mode\": \"lines+markers\", \"name\": \"45601\", \"type\": \"scatter\", \"x\": [\"2020-05-11T07:00:00\", \"2020-05-11T08:00:00\", \"2020-05-11T09:00:00\", \"2020-05-11T10:00:00\", \"2020-05-11T11:00:00\", \"2020-05-11T12:00:00\", \"2020-05-11T13:00:00\", \"2020-05-11T14:00:00\", \"2020-05-11T15:00:00\", \"2020-05-11T16:00:00\", \"2020-05-11T17:00:00\", \"2020-05-11T18:00:00\", \"2020-05-11T19:00:00\", \"2020-05-11T20:00:00\", \"2020-05-11T21:00:00\", \"2020-05-11T22:00:00\", \"2020-05-11T23:00:00\"], \"y\": [0.7166242057185799, 0.7346769773558788, 0.7372417719611304, 0.7241899343841396, 0.7306404654581855, 0.7449724605132092, 0.7409966875267633, 0.7247316567183868, 0.7281545891619275, 0.7169575560935428, 0.7184255806429641, 0.7183410502391389, 0.7109079900402346, 0.7031546015857093, 0.7030245646160388, 0.7067042546065849, 0.7227848872054894]}, {\"line\": {\"shape\": \"spline\", \"smoothing\": 0.5}, \"marker\": {\"size\": 4}, \"mode\": \"lines+markers\", \"name\": \"45602\", \"type\": \"scatter\", \"x\": [\"2020-05-11T07:00:00\", \"2020-05-11T08:00:00\", \"2020-05-11T09:00:00\", \"2020-05-11T10:00:00\", \"2020-05-11T11:00:00\", \"2020-05-11T12:00:00\", \"2020-05-11T13:00:00\", \"2020-05-11T14:00:00\", \"2020-05-11T15:00:00\", \"2020-05-11T17:00:00\", \"2020-05-11T18:00:00\", \"2020-05-11T19:00:00\", \"2020-05-11T20:00:00\", \"2020-05-11T21:00:00\", \"2020-05-11T22:00:00\", \"2020-05-11T23:00:00\"], \"y\": [0.7247183279603825, 0.7308312458125009, 0.7339509194437481, 0.7239410280391615, 0.7350659720675753, 0.7521359151761257, 0.7448549375280165, 0.7290374739140542, 0.7274576285505547, 0.7171658432988611, 0.7168913889329822, 0.7092687501589081, 0.7057003660914751, 0.7053412299851325, 0.7060024828040419, 0.7230813431865155]}, {\"line\": {\"shape\": \"spline\", \"smoothing\": 0.5}, \"marker\": {\"size\": 4}, \"mode\": \"lines+markers\", \"name\": \"8\", \"type\": \"scatter\", \"x\": [\"2020-05-11T07:00:00\", \"2020-05-11T08:00:00\", \"2020-05-11T09:00:00\", \"2020-05-11T10:00:00\", \"2020-05-11T11:00:00\", \"2020-05-11T12:00:00\", \"2020-05-11T13:00:00\", \"2020-05-11T14:00:00\", \"2020-05-11T15:00:00\", \"2020-05-11T16:00:00\", \"2020-05-11T17:00:00\", \"2020-05-11T18:00:00\", \"2020-05-11T19:00:00\", \"2020-05-11T20:00:00\", \"2020-05-11T21:00:00\", \"2020-05-11T22:00:00\", \"2020-05-11T23:00:00\"], \"y\": [0.6641776601015731, 0.6744213727735229, 0.6847116822153048, 0.6910532468797452, 0.6913819685482889, 0.6848804964287855, 0.6813610757739567, 0.6692437621843006, 0.6785773834303063, 0.705611990220111, 0.6857113817939557, 0.6622345820654377, 0.6590054122650443, 0.6733008984662532, 0.6550705426321841, 0.6370848715795661, 0.6452328114753451]}, {\"line\": {\"shape\": \"spline\", \"smoothing\": 0.5}, \"marker\": {\"size\": 4}, \"mode\": \"lines+markers\", \"name\": \"456\", \"type\": \"scatter\", \"x\": [\"2020-05-11T07:00:00\", \"2020-05-11T08:00:00\", \"2020-05-11T09:00:00\", \"2020-05-11T10:00:00\", \"2020-05-11T11:00:00\", \"2020-05-11T12:00:00\", \"2020-05-11T13:00:00\", \"2020-05-11T14:00:00\", \"2020-05-11T15:00:00\", \"2020-05-11T16:00:00\", \"2020-05-11T17:00:00\", \"2020-05-11T18:00:00\", \"2020-05-11T19:00:00\", \"2020-05-11T20:00:00\", \"2020-05-11T21:00:00\", \"2020-05-11T22:00:00\", \"2020-05-11T23:00:00\"], \"y\": [0.6805675778667322, 0.6785009245104652, 0.6871434724144722, 0.6690150286340146, 0.6766756244207826, 0.695843118822313, 0.6833883827811174, 0.6788555137188912, 0.6814192872739351, 0.6752647109376144, 0.6806665220584182, 0.673677744191918, 0.6584013508636135, 0.6643542263307403, 0.6571885476959114, 0.6621513143994444, 0.6701448837485955]}],\n",
       "                        {\"hovermode\": \"x\", \"template\": {\"data\": {\"bar\": [{\"error_x\": {\"color\": \"#2a3f5f\"}, \"error_y\": {\"color\": \"#2a3f5f\"}, \"marker\": {\"line\": {\"color\": \"#E5ECF6\", \"width\": 0.5}}, \"type\": \"bar\"}], \"barpolar\": [{\"marker\": {\"line\": {\"color\": \"#E5ECF6\", \"width\": 0.5}}, \"type\": \"barpolar\"}], \"carpet\": [{\"aaxis\": {\"endlinecolor\": \"#2a3f5f\", \"gridcolor\": \"white\", \"linecolor\": \"white\", \"minorgridcolor\": \"white\", \"startlinecolor\": \"#2a3f5f\"}, \"baxis\": {\"endlinecolor\": \"#2a3f5f\", \"gridcolor\": \"white\", \"linecolor\": \"white\", \"minorgridcolor\": \"white\", \"startlinecolor\": \"#2a3f5f\"}, \"type\": \"carpet\"}], \"choropleth\": [{\"colorbar\": {\"outlinewidth\": 0, \"ticks\": \"\"}, \"type\": \"choropleth\"}], \"contour\": [{\"colorbar\": {\"outlinewidth\": 0, \"ticks\": \"\"}, \"colorscale\": [[0.0, \"#0d0887\"], [0.1111111111111111, \"#46039f\"], [0.2222222222222222, \"#7201a8\"], [0.3333333333333333, \"#9c179e\"], [0.4444444444444444, \"#bd3786\"], [0.5555555555555556, \"#d8576b\"], [0.6666666666666666, \"#ed7953\"], [0.7777777777777778, \"#fb9f3a\"], [0.8888888888888888, \"#fdca26\"], [1.0, \"#f0f921\"]], \"type\": \"contour\"}], \"contourcarpet\": [{\"colorbar\": {\"outlinewidth\": 0, \"ticks\": \"\"}, \"type\": \"contourcarpet\"}], \"heatmap\": [{\"colorbar\": {\"outlinewidth\": 0, \"ticks\": \"\"}, \"colorscale\": [[0.0, \"#0d0887\"], [0.1111111111111111, \"#46039f\"], [0.2222222222222222, \"#7201a8\"], [0.3333333333333333, \"#9c179e\"], [0.4444444444444444, \"#bd3786\"], [0.5555555555555556, \"#d8576b\"], [0.6666666666666666, \"#ed7953\"], [0.7777777777777778, \"#fb9f3a\"], [0.8888888888888888, \"#fdca26\"], [1.0, \"#f0f921\"]], \"type\": \"heatmap\"}], \"heatmapgl\": [{\"colorbar\": {\"outlinewidth\": 0, \"ticks\": \"\"}, \"colorscale\": [[0.0, \"#0d0887\"], [0.1111111111111111, \"#46039f\"], [0.2222222222222222, \"#7201a8\"], [0.3333333333333333, \"#9c179e\"], [0.4444444444444444, \"#bd3786\"], [0.5555555555555556, \"#d8576b\"], [0.6666666666666666, \"#ed7953\"], [0.7777777777777778, \"#fb9f3a\"], [0.8888888888888888, \"#fdca26\"], [1.0, \"#f0f921\"]], \"type\": \"heatmapgl\"}], \"histogram\": [{\"marker\": {\"colorbar\": {\"outlinewidth\": 0, \"ticks\": \"\"}}, \"type\": \"histogram\"}], \"histogram2d\": [{\"colorbar\": {\"outlinewidth\": 0, \"ticks\": \"\"}, \"colorscale\": [[0.0, \"#0d0887\"], [0.1111111111111111, \"#46039f\"], [0.2222222222222222, \"#7201a8\"], [0.3333333333333333, \"#9c179e\"], [0.4444444444444444, \"#bd3786\"], [0.5555555555555556, \"#d8576b\"], [0.6666666666666666, \"#ed7953\"], [0.7777777777777778, \"#fb9f3a\"], [0.8888888888888888, \"#fdca26\"], [1.0, \"#f0f921\"]], \"type\": \"histogram2d\"}], \"histogram2dcontour\": [{\"colorbar\": {\"outlinewidth\": 0, \"ticks\": \"\"}, \"colorscale\": [[0.0, \"#0d0887\"], [0.1111111111111111, \"#46039f\"], [0.2222222222222222, \"#7201a8\"], [0.3333333333333333, \"#9c179e\"], [0.4444444444444444, \"#bd3786\"], [0.5555555555555556, \"#d8576b\"], [0.6666666666666666, \"#ed7953\"], [0.7777777777777778, \"#fb9f3a\"], [0.8888888888888888, \"#fdca26\"], [1.0, \"#f0f921\"]], \"type\": \"histogram2dcontour\"}], \"mesh3d\": [{\"colorbar\": {\"outlinewidth\": 0, \"ticks\": \"\"}, \"type\": \"mesh3d\"}], \"parcoords\": [{\"line\": {\"colorbar\": {\"outlinewidth\": 0, \"ticks\": \"\"}}, \"type\": \"parcoords\"}], \"scatter\": [{\"marker\": {\"colorbar\": {\"outlinewidth\": 0, \"ticks\": \"\"}}, \"type\": \"scatter\"}], \"scatter3d\": [{\"line\": {\"colorbar\": {\"outlinewidth\": 0, \"ticks\": \"\"}}, \"marker\": {\"colorbar\": {\"outlinewidth\": 0, \"ticks\": \"\"}}, \"type\": \"scatter3d\"}], \"scattercarpet\": [{\"marker\": {\"colorbar\": {\"outlinewidth\": 0, \"ticks\": \"\"}}, \"type\": \"scattercarpet\"}], \"scattergeo\": [{\"marker\": {\"colorbar\": {\"outlinewidth\": 0, \"ticks\": \"\"}}, \"type\": \"scattergeo\"}], \"scattergl\": [{\"marker\": {\"colorbar\": {\"outlinewidth\": 0, \"ticks\": \"\"}}, \"type\": \"scattergl\"}], \"scattermapbox\": [{\"marker\": {\"colorbar\": {\"outlinewidth\": 0, \"ticks\": \"\"}}, \"type\": \"scattermapbox\"}], \"scatterpolar\": [{\"marker\": {\"colorbar\": {\"outlinewidth\": 0, \"ticks\": \"\"}}, \"type\": \"scatterpolar\"}], \"scatterpolargl\": [{\"marker\": {\"colorbar\": {\"outlinewidth\": 0, \"ticks\": \"\"}}, \"type\": \"scatterpolargl\"}], \"scatterternary\": [{\"marker\": {\"colorbar\": {\"outlinewidth\": 0, \"ticks\": \"\"}}, \"type\": \"scatterternary\"}], \"surface\": [{\"colorbar\": {\"outlinewidth\": 0, \"ticks\": \"\"}, \"colorscale\": [[0.0, \"#0d0887\"], [0.1111111111111111, \"#46039f\"], [0.2222222222222222, \"#7201a8\"], [0.3333333333333333, \"#9c179e\"], [0.4444444444444444, \"#bd3786\"], [0.5555555555555556, \"#d8576b\"], [0.6666666666666666, \"#ed7953\"], [0.7777777777777778, \"#fb9f3a\"], [0.8888888888888888, \"#fdca26\"], [1.0, \"#f0f921\"]], \"type\": \"surface\"}], \"table\": [{\"cells\": {\"fill\": {\"color\": \"#EBF0F8\"}, \"line\": {\"color\": \"white\"}}, \"header\": {\"fill\": {\"color\": \"#C8D4E3\"}, \"line\": {\"color\": \"white\"}}, \"type\": \"table\"}]}, \"layout\": {\"annotationdefaults\": {\"arrowcolor\": \"#2a3f5f\", \"arrowhead\": 0, \"arrowwidth\": 1}, \"colorscale\": {\"diverging\": [[0, \"#8e0152\"], [0.1, \"#c51b7d\"], [0.2, \"#de77ae\"], [0.3, \"#f1b6da\"], [0.4, \"#fde0ef\"], [0.5, \"#f7f7f7\"], [0.6, \"#e6f5d0\"], [0.7, \"#b8e186\"], [0.8, \"#7fbc41\"], [0.9, \"#4d9221\"], [1, \"#276419\"]], \"sequential\": [[0.0, \"#0d0887\"], [0.1111111111111111, \"#46039f\"], [0.2222222222222222, \"#7201a8\"], [0.3333333333333333, \"#9c179e\"], [0.4444444444444444, \"#bd3786\"], [0.5555555555555556, \"#d8576b\"], [0.6666666666666666, \"#ed7953\"], [0.7777777777777778, \"#fb9f3a\"], [0.8888888888888888, \"#fdca26\"], [1.0, \"#f0f921\"]], \"sequentialminus\": [[0.0, \"#0d0887\"], [0.1111111111111111, \"#46039f\"], [0.2222222222222222, \"#7201a8\"], [0.3333333333333333, \"#9c179e\"], [0.4444444444444444, \"#bd3786\"], [0.5555555555555556, \"#d8576b\"], [0.6666666666666666, \"#ed7953\"], [0.7777777777777778, \"#fb9f3a\"], [0.8888888888888888, \"#fdca26\"], [1.0, \"#f0f921\"]]}, \"colorway\": [\"#636efa\", \"#EF553B\", \"#00cc96\", \"#ab63fa\", \"#FFA15A\", \"#19d3f3\", \"#FF6692\", \"#B6E880\", \"#FF97FF\", \"#FECB52\"], \"font\": {\"color\": \"#2a3f5f\"}, \"geo\": {\"bgcolor\": \"white\", \"lakecolor\": \"white\", \"landcolor\": \"#E5ECF6\", \"showlakes\": true, \"showland\": true, \"subunitcolor\": \"white\"}, \"hoverlabel\": {\"align\": \"left\"}, \"hovermode\": \"closest\", \"mapbox\": {\"style\": \"light\"}, \"paper_bgcolor\": \"white\", \"plot_bgcolor\": \"#E5ECF6\", \"polar\": {\"angularaxis\": {\"gridcolor\": \"white\", \"linecolor\": \"white\", \"ticks\": \"\"}, \"bgcolor\": \"#E5ECF6\", \"radialaxis\": {\"gridcolor\": \"white\", \"linecolor\": \"white\", \"ticks\": \"\"}}, \"scene\": {\"xaxis\": {\"backgroundcolor\": \"#E5ECF6\", \"gridcolor\": \"white\", \"gridwidth\": 2, \"linecolor\": \"white\", \"showbackground\": true, \"ticks\": \"\", \"zerolinecolor\": \"white\"}, \"yaxis\": {\"backgroundcolor\": \"#E5ECF6\", \"gridcolor\": \"white\", \"gridwidth\": 2, \"linecolor\": \"white\", \"showbackground\": true, \"ticks\": \"\", \"zerolinecolor\": \"white\"}, \"zaxis\": {\"backgroundcolor\": \"#E5ECF6\", \"gridcolor\": \"white\", \"gridwidth\": 2, \"linecolor\": \"white\", \"showbackground\": true, \"ticks\": \"\", \"zerolinecolor\": \"white\"}}, \"shapedefaults\": {\"line\": {\"color\": \"#2a3f5f\"}}, \"ternary\": {\"aaxis\": {\"gridcolor\": \"white\", \"linecolor\": \"white\", \"ticks\": \"\"}, \"baxis\": {\"gridcolor\": \"white\", \"linecolor\": \"white\", \"ticks\": \"\"}, \"bgcolor\": \"#E5ECF6\", \"caxis\": {\"gridcolor\": \"white\", \"linecolor\": \"white\", \"ticks\": \"\"}}, \"title\": {\"x\": 0.05}, \"xaxis\": {\"automargin\": true, \"gridcolor\": \"white\", \"linecolor\": \"white\", \"ticks\": \"\", \"zerolinecolor\": \"white\", \"zerolinewidth\": 2}, \"yaxis\": {\"automargin\": true, \"gridcolor\": \"white\", \"linecolor\": \"white\", \"ticks\": \"\", \"zerolinecolor\": \"white\", \"zerolinewidth\": 2}}}, \"title\": {\"text\": \"auc\"}, \"xaxis\": {\"type\": \"date\"}},\n",
       "                        {\"responsive\": true}\n",
       "                    ).then(function(){\n",
       "                            \n",
       "var gd = document.getElementById('08fda053-a7a1-4e8b-81d1-d3bcb5b3da83');\n",
       "var x = new MutationObserver(function (mutations, observer) {{\n",
       "        var display = window.getComputedStyle(gd).display;\n",
       "        if (!display || display === 'none') {{\n",
       "            console.log([gd, 'removed!']);\n",
       "            Plotly.purge(gd);\n",
       "            observer.disconnect();\n",
       "        }}\n",
       "}});\n",
       "\n",
       "// Listen for the removal of the full notebook cells\n",
       "var notebookContainer = gd.closest('#notebook-container');\n",
       "if (notebookContainer) {{\n",
       "    x.observe(notebookContainer, {childList: true});\n",
       "}}\n",
       "\n",
       "// Listen for the clearing of the current output cell\n",
       "var outputEl = gd.closest('.output');\n",
       "if (outputEl) {{\n",
       "    x.observe(outputEl, {childList: true});\n",
       "}}\n",
       "\n",
       "                        })\n",
       "                };\n",
       "                });\n",
       "            </script>\n",
       "        </div>"
      ]
     },
     "metadata": {},
     "output_type": "display_data"
    },
    {
     "data": {
      "application/vnd.plotly.v1+json": {
       "config": {
        "linkText": "Export to plot.ly",
        "plotlyServerURL": "https://plot.ly",
        "showLink": false
       },
       "data": [
        {
         "line": {
          "shape": "spline",
          "smoothing": 0.5
         },
         "marker": {
          "size": 4
         },
         "mode": "lines+markers",
         "name": "15",
         "type": "scatter",
         "x": [
          "2020-05-11T07:00:00",
          "2020-05-11T08:00:00",
          "2020-05-11T09:00:00",
          "2020-05-11T10:00:00",
          "2020-05-11T11:00:00",
          "2020-05-11T12:00:00",
          "2020-05-11T13:00:00",
          "2020-05-11T14:00:00",
          "2020-05-11T15:00:00",
          "2020-05-11T16:00:00",
          "2020-05-11T17:00:00",
          "2020-05-11T18:00:00",
          "2020-05-11T19:00:00",
          "2020-05-11T20:00:00",
          "2020-05-11T21:00:00",
          "2020-05-11T22:00:00",
          "2020-05-11T23:00:00"
         ],
         "y": [
          0.5328996826717022,
          0.5130788176061124,
          0.5388334297881529,
          0.5215179077900804,
          0.5266943643608892,
          0.5137664211182567,
          0.5544966907989141,
          0.5582006783670426,
          0.5410502210342413,
          0.5452821581327439,
          0.5257123029424382,
          0.547918054540677,
          0.5309835330252303,
          0.5304997504188679,
          0.5376490545974305,
          0.5310650879989985,
          0.5399770092980201
         ]
        },
        {
         "line": {
          "shape": "spline",
          "smoothing": 0.5
         },
         "marker": {
          "size": 4
         },
         "mode": "lines+markers",
         "name": "45600",
         "type": "scatter",
         "x": [
          "2020-05-11T07:00:00",
          "2020-05-11T08:00:00",
          "2020-05-11T09:00:00",
          "2020-05-11T10:00:00",
          "2020-05-11T11:00:00",
          "2020-05-11T12:00:00",
          "2020-05-11T13:00:00",
          "2020-05-11T14:00:00",
          "2020-05-11T15:00:00",
          "2020-05-11T16:00:00",
          "2020-05-11T17:00:00",
          "2020-05-11T18:00:00",
          "2020-05-11T19:00:00",
          "2020-05-11T20:00:00",
          "2020-05-11T21:00:00",
          "2020-05-11T22:00:00",
          "2020-05-11T23:00:00"
         ],
         "y": [
          0.5199177644840173,
          0.5177090066344742,
          0.5264247697646343,
          0.5304961527727827,
          0.5292825085353512,
          0.5378806051993054,
          0.5213484753279934,
          0.5310463842366856,
          0.520657894040061,
          0.498361635069341,
          0.5171041108067976,
          0.5240117805609853,
          0.5295312548276773,
          0.5263831540348611,
          0.5252119612545022,
          0.5353602972060252,
          0.5338061453690693
         ]
        },
        {
         "line": {
          "shape": "spline",
          "smoothing": 0.5
         },
         "marker": {
          "size": 4
         },
         "mode": "lines+markers",
         "name": "45601",
         "type": "scatter",
         "x": [
          "2020-05-11T07:00:00",
          "2020-05-11T08:00:00",
          "2020-05-11T09:00:00",
          "2020-05-11T10:00:00",
          "2020-05-11T11:00:00",
          "2020-05-11T12:00:00",
          "2020-05-11T13:00:00",
          "2020-05-11T14:00:00",
          "2020-05-11T15:00:00",
          "2020-05-11T16:00:00",
          "2020-05-11T17:00:00",
          "2020-05-11T18:00:00",
          "2020-05-11T19:00:00",
          "2020-05-11T20:00:00",
          "2020-05-11T21:00:00",
          "2020-05-11T22:00:00",
          "2020-05-11T23:00:00"
         ],
         "y": [
          0.5252685196846879,
          0.5282420769940651,
          0.5327551067969267,
          0.5363893268082298,
          0.5370785655713979,
          0.5403479640178136,
          0.5354733090613207,
          0.5313407283831078,
          0.5329482632681901,
          0.5137617456510206,
          0.5221646784126552,
          0.5392839630092177,
          0.5432032270736792,
          0.5262107914012827,
          0.5382310844310263,
          0.5428922928601233,
          0.5392673142969467
         ]
        },
        {
         "line": {
          "shape": "spline",
          "smoothing": 0.5
         },
         "marker": {
          "size": 4
         },
         "mode": "lines+markers",
         "name": "45602",
         "type": "scatter",
         "x": [
          "2020-05-11T07:00:00",
          "2020-05-11T08:00:00",
          "2020-05-11T09:00:00",
          "2020-05-11T10:00:00",
          "2020-05-11T11:00:00",
          "2020-05-11T12:00:00",
          "2020-05-11T13:00:00",
          "2020-05-11T14:00:00",
          "2020-05-11T15:00:00",
          "2020-05-11T17:00:00",
          "2020-05-11T18:00:00",
          "2020-05-11T19:00:00",
          "2020-05-11T20:00:00",
          "2020-05-11T21:00:00",
          "2020-05-11T22:00:00",
          "2020-05-11T23:00:00"
         ],
         "y": [
          0.5354629124331052,
          0.5361570759673853,
          0.5321629247683766,
          0.5402195585722314,
          0.540267682410234,
          0.5440543547683521,
          0.5470247637810572,
          0.5463213510274819,
          0.5428641701530261,
          0.5282046512314111,
          0.5409437113412079,
          0.550201886792761,
          0.5439042227644503,
          0.5390552876479727,
          0.5451195557903252,
          0.5471286638006344
         ]
        },
        {
         "line": {
          "shape": "spline",
          "smoothing": 0.5
         },
         "marker": {
          "size": 4
         },
         "mode": "lines+markers",
         "name": "8",
         "type": "scatter",
         "x": [
          "2020-05-11T07:00:00",
          "2020-05-11T08:00:00",
          "2020-05-11T09:00:00",
          "2020-05-11T10:00:00",
          "2020-05-11T11:00:00",
          "2020-05-11T12:00:00",
          "2020-05-11T13:00:00",
          "2020-05-11T14:00:00",
          "2020-05-11T15:00:00",
          "2020-05-11T16:00:00",
          "2020-05-11T17:00:00",
          "2020-05-11T18:00:00",
          "2020-05-11T19:00:00",
          "2020-05-11T20:00:00",
          "2020-05-11T21:00:00",
          "2020-05-11T22:00:00",
          "2020-05-11T23:00:00"
         ],
         "y": [
          0.5267945721794128,
          0.5328785435492344,
          0.5218314157249457,
          0.5303541761442101,
          0.5449810308002481,
          0.5414464122606211,
          0.5301357300799766,
          0.5246990214561564,
          0.5283879465146498,
          0.5405192269930467,
          0.5379810141138709,
          0.5230871794249958,
          0.5264662110416978,
          0.5354188493778577,
          0.5433917110957383,
          0.5291332326633128,
          0.5506054554705705
         ]
        },
        {
         "line": {
          "shape": "spline",
          "smoothing": 0.5
         },
         "marker": {
          "size": 4
         },
         "mode": "lines+markers",
         "name": "456",
         "type": "scatter",
         "x": [
          "2020-05-11T07:00:00",
          "2020-05-11T08:00:00",
          "2020-05-11T09:00:00",
          "2020-05-11T10:00:00",
          "2020-05-11T11:00:00",
          "2020-05-11T12:00:00",
          "2020-05-11T13:00:00",
          "2020-05-11T14:00:00",
          "2020-05-11T15:00:00",
          "2020-05-11T16:00:00",
          "2020-05-11T17:00:00",
          "2020-05-11T18:00:00",
          "2020-05-11T19:00:00",
          "2020-05-11T20:00:00",
          "2020-05-11T21:00:00",
          "2020-05-11T22:00:00",
          "2020-05-11T23:00:00"
         ],
         "y": [
          0.5289835620995151,
          0.5334518346608328,
          0.5395070884616698,
          0.5262276397696016,
          0.5361092835747038,
          0.547039151336312,
          0.5166018567369061,
          0.5409330795415468,
          0.5409839344551802,
          0.5101956430929059,
          0.5312733224924086,
          0.5363046390430403,
          0.5456466850487145,
          0.5367221453497623,
          0.5335251211887997,
          0.5442753856320721,
          0.540581506288744
         ]
        }
       ],
       "layout": {
        "hovermode": "x",
        "template": {
         "data": {
          "bar": [
           {
            "error_x": {
             "color": "#2a3f5f"
            },
            "error_y": {
             "color": "#2a3f5f"
            },
            "marker": {
             "line": {
              "color": "#E5ECF6",
              "width": 0.5
             }
            },
            "type": "bar"
           }
          ],
          "barpolar": [
           {
            "marker": {
             "line": {
              "color": "#E5ECF6",
              "width": 0.5
             }
            },
            "type": "barpolar"
           }
          ],
          "carpet": [
           {
            "aaxis": {
             "endlinecolor": "#2a3f5f",
             "gridcolor": "white",
             "linecolor": "white",
             "minorgridcolor": "white",
             "startlinecolor": "#2a3f5f"
            },
            "baxis": {
             "endlinecolor": "#2a3f5f",
             "gridcolor": "white",
             "linecolor": "white",
             "minorgridcolor": "white",
             "startlinecolor": "#2a3f5f"
            },
            "type": "carpet"
           }
          ],
          "choropleth": [
           {
            "colorbar": {
             "outlinewidth": 0,
             "ticks": ""
            },
            "type": "choropleth"
           }
          ],
          "contour": [
           {
            "colorbar": {
             "outlinewidth": 0,
             "ticks": ""
            },
            "colorscale": [
             [
              0,
              "#0d0887"
             ],
             [
              0.1111111111111111,
              "#46039f"
             ],
             [
              0.2222222222222222,
              "#7201a8"
             ],
             [
              0.3333333333333333,
              "#9c179e"
             ],
             [
              0.4444444444444444,
              "#bd3786"
             ],
             [
              0.5555555555555556,
              "#d8576b"
             ],
             [
              0.6666666666666666,
              "#ed7953"
             ],
             [
              0.7777777777777778,
              "#fb9f3a"
             ],
             [
              0.8888888888888888,
              "#fdca26"
             ],
             [
              1,
              "#f0f921"
             ]
            ],
            "type": "contour"
           }
          ],
          "contourcarpet": [
           {
            "colorbar": {
             "outlinewidth": 0,
             "ticks": ""
            },
            "type": "contourcarpet"
           }
          ],
          "heatmap": [
           {
            "colorbar": {
             "outlinewidth": 0,
             "ticks": ""
            },
            "colorscale": [
             [
              0,
              "#0d0887"
             ],
             [
              0.1111111111111111,
              "#46039f"
             ],
             [
              0.2222222222222222,
              "#7201a8"
             ],
             [
              0.3333333333333333,
              "#9c179e"
             ],
             [
              0.4444444444444444,
              "#bd3786"
             ],
             [
              0.5555555555555556,
              "#d8576b"
             ],
             [
              0.6666666666666666,
              "#ed7953"
             ],
             [
              0.7777777777777778,
              "#fb9f3a"
             ],
             [
              0.8888888888888888,
              "#fdca26"
             ],
             [
              1,
              "#f0f921"
             ]
            ],
            "type": "heatmap"
           }
          ],
          "heatmapgl": [
           {
            "colorbar": {
             "outlinewidth": 0,
             "ticks": ""
            },
            "colorscale": [
             [
              0,
              "#0d0887"
             ],
             [
              0.1111111111111111,
              "#46039f"
             ],
             [
              0.2222222222222222,
              "#7201a8"
             ],
             [
              0.3333333333333333,
              "#9c179e"
             ],
             [
              0.4444444444444444,
              "#bd3786"
             ],
             [
              0.5555555555555556,
              "#d8576b"
             ],
             [
              0.6666666666666666,
              "#ed7953"
             ],
             [
              0.7777777777777778,
              "#fb9f3a"
             ],
             [
              0.8888888888888888,
              "#fdca26"
             ],
             [
              1,
              "#f0f921"
             ]
            ],
            "type": "heatmapgl"
           }
          ],
          "histogram": [
           {
            "marker": {
             "colorbar": {
              "outlinewidth": 0,
              "ticks": ""
             }
            },
            "type": "histogram"
           }
          ],
          "histogram2d": [
           {
            "colorbar": {
             "outlinewidth": 0,
             "ticks": ""
            },
            "colorscale": [
             [
              0,
              "#0d0887"
             ],
             [
              0.1111111111111111,
              "#46039f"
             ],
             [
              0.2222222222222222,
              "#7201a8"
             ],
             [
              0.3333333333333333,
              "#9c179e"
             ],
             [
              0.4444444444444444,
              "#bd3786"
             ],
             [
              0.5555555555555556,
              "#d8576b"
             ],
             [
              0.6666666666666666,
              "#ed7953"
             ],
             [
              0.7777777777777778,
              "#fb9f3a"
             ],
             [
              0.8888888888888888,
              "#fdca26"
             ],
             [
              1,
              "#f0f921"
             ]
            ],
            "type": "histogram2d"
           }
          ],
          "histogram2dcontour": [
           {
            "colorbar": {
             "outlinewidth": 0,
             "ticks": ""
            },
            "colorscale": [
             [
              0,
              "#0d0887"
             ],
             [
              0.1111111111111111,
              "#46039f"
             ],
             [
              0.2222222222222222,
              "#7201a8"
             ],
             [
              0.3333333333333333,
              "#9c179e"
             ],
             [
              0.4444444444444444,
              "#bd3786"
             ],
             [
              0.5555555555555556,
              "#d8576b"
             ],
             [
              0.6666666666666666,
              "#ed7953"
             ],
             [
              0.7777777777777778,
              "#fb9f3a"
             ],
             [
              0.8888888888888888,
              "#fdca26"
             ],
             [
              1,
              "#f0f921"
             ]
            ],
            "type": "histogram2dcontour"
           }
          ],
          "mesh3d": [
           {
            "colorbar": {
             "outlinewidth": 0,
             "ticks": ""
            },
            "type": "mesh3d"
           }
          ],
          "parcoords": [
           {
            "line": {
             "colorbar": {
              "outlinewidth": 0,
              "ticks": ""
             }
            },
            "type": "parcoords"
           }
          ],
          "scatter": [
           {
            "marker": {
             "colorbar": {
              "outlinewidth": 0,
              "ticks": ""
             }
            },
            "type": "scatter"
           }
          ],
          "scatter3d": [
           {
            "line": {
             "colorbar": {
              "outlinewidth": 0,
              "ticks": ""
             }
            },
            "marker": {
             "colorbar": {
              "outlinewidth": 0,
              "ticks": ""
             }
            },
            "type": "scatter3d"
           }
          ],
          "scattercarpet": [
           {
            "marker": {
             "colorbar": {
              "outlinewidth": 0,
              "ticks": ""
             }
            },
            "type": "scattercarpet"
           }
          ],
          "scattergeo": [
           {
            "marker": {
             "colorbar": {
              "outlinewidth": 0,
              "ticks": ""
             }
            },
            "type": "scattergeo"
           }
          ],
          "scattergl": [
           {
            "marker": {
             "colorbar": {
              "outlinewidth": 0,
              "ticks": ""
             }
            },
            "type": "scattergl"
           }
          ],
          "scattermapbox": [
           {
            "marker": {
             "colorbar": {
              "outlinewidth": 0,
              "ticks": ""
             }
            },
            "type": "scattermapbox"
           }
          ],
          "scatterpolar": [
           {
            "marker": {
             "colorbar": {
              "outlinewidth": 0,
              "ticks": ""
             }
            },
            "type": "scatterpolar"
           }
          ],
          "scatterpolargl": [
           {
            "marker": {
             "colorbar": {
              "outlinewidth": 0,
              "ticks": ""
             }
            },
            "type": "scatterpolargl"
           }
          ],
          "scatterternary": [
           {
            "marker": {
             "colorbar": {
              "outlinewidth": 0,
              "ticks": ""
             }
            },
            "type": "scatterternary"
           }
          ],
          "surface": [
           {
            "colorbar": {
             "outlinewidth": 0,
             "ticks": ""
            },
            "colorscale": [
             [
              0,
              "#0d0887"
             ],
             [
              0.1111111111111111,
              "#46039f"
             ],
             [
              0.2222222222222222,
              "#7201a8"
             ],
             [
              0.3333333333333333,
              "#9c179e"
             ],
             [
              0.4444444444444444,
              "#bd3786"
             ],
             [
              0.5555555555555556,
              "#d8576b"
             ],
             [
              0.6666666666666666,
              "#ed7953"
             ],
             [
              0.7777777777777778,
              "#fb9f3a"
             ],
             [
              0.8888888888888888,
              "#fdca26"
             ],
             [
              1,
              "#f0f921"
             ]
            ],
            "type": "surface"
           }
          ],
          "table": [
           {
            "cells": {
             "fill": {
              "color": "#EBF0F8"
             },
             "line": {
              "color": "white"
             }
            },
            "header": {
             "fill": {
              "color": "#C8D4E3"
             },
             "line": {
              "color": "white"
             }
            },
            "type": "table"
           }
          ]
         },
         "layout": {
          "annotationdefaults": {
           "arrowcolor": "#2a3f5f",
           "arrowhead": 0,
           "arrowwidth": 1
          },
          "colorscale": {
           "diverging": [
            [
             0,
             "#8e0152"
            ],
            [
             0.1,
             "#c51b7d"
            ],
            [
             0.2,
             "#de77ae"
            ],
            [
             0.3,
             "#f1b6da"
            ],
            [
             0.4,
             "#fde0ef"
            ],
            [
             0.5,
             "#f7f7f7"
            ],
            [
             0.6,
             "#e6f5d0"
            ],
            [
             0.7,
             "#b8e186"
            ],
            [
             0.8,
             "#7fbc41"
            ],
            [
             0.9,
             "#4d9221"
            ],
            [
             1,
             "#276419"
            ]
           ],
           "sequential": [
            [
             0,
             "#0d0887"
            ],
            [
             0.1111111111111111,
             "#46039f"
            ],
            [
             0.2222222222222222,
             "#7201a8"
            ],
            [
             0.3333333333333333,
             "#9c179e"
            ],
            [
             0.4444444444444444,
             "#bd3786"
            ],
            [
             0.5555555555555556,
             "#d8576b"
            ],
            [
             0.6666666666666666,
             "#ed7953"
            ],
            [
             0.7777777777777778,
             "#fb9f3a"
            ],
            [
             0.8888888888888888,
             "#fdca26"
            ],
            [
             1,
             "#f0f921"
            ]
           ],
           "sequentialminus": [
            [
             0,
             "#0d0887"
            ],
            [
             0.1111111111111111,
             "#46039f"
            ],
            [
             0.2222222222222222,
             "#7201a8"
            ],
            [
             0.3333333333333333,
             "#9c179e"
            ],
            [
             0.4444444444444444,
             "#bd3786"
            ],
            [
             0.5555555555555556,
             "#d8576b"
            ],
            [
             0.6666666666666666,
             "#ed7953"
            ],
            [
             0.7777777777777778,
             "#fb9f3a"
            ],
            [
             0.8888888888888888,
             "#fdca26"
            ],
            [
             1,
             "#f0f921"
            ]
           ]
          },
          "colorway": [
           "#636efa",
           "#EF553B",
           "#00cc96",
           "#ab63fa",
           "#FFA15A",
           "#19d3f3",
           "#FF6692",
           "#B6E880",
           "#FF97FF",
           "#FECB52"
          ],
          "font": {
           "color": "#2a3f5f"
          },
          "geo": {
           "bgcolor": "white",
           "lakecolor": "white",
           "landcolor": "#E5ECF6",
           "showlakes": true,
           "showland": true,
           "subunitcolor": "white"
          },
          "hoverlabel": {
           "align": "left"
          },
          "hovermode": "closest",
          "mapbox": {
           "style": "light"
          },
          "paper_bgcolor": "white",
          "plot_bgcolor": "#E5ECF6",
          "polar": {
           "angularaxis": {
            "gridcolor": "white",
            "linecolor": "white",
            "ticks": ""
           },
           "bgcolor": "#E5ECF6",
           "radialaxis": {
            "gridcolor": "white",
            "linecolor": "white",
            "ticks": ""
           }
          },
          "scene": {
           "xaxis": {
            "backgroundcolor": "#E5ECF6",
            "gridcolor": "white",
            "gridwidth": 2,
            "linecolor": "white",
            "showbackground": true,
            "ticks": "",
            "zerolinecolor": "white"
           },
           "yaxis": {
            "backgroundcolor": "#E5ECF6",
            "gridcolor": "white",
            "gridwidth": 2,
            "linecolor": "white",
            "showbackground": true,
            "ticks": "",
            "zerolinecolor": "white"
           },
           "zaxis": {
            "backgroundcolor": "#E5ECF6",
            "gridcolor": "white",
            "gridwidth": 2,
            "linecolor": "white",
            "showbackground": true,
            "ticks": "",
            "zerolinecolor": "white"
           }
          },
          "shapedefaults": {
           "line": {
            "color": "#2a3f5f"
           }
          },
          "ternary": {
           "aaxis": {
            "gridcolor": "white",
            "linecolor": "white",
            "ticks": ""
           },
           "baxis": {
            "gridcolor": "white",
            "linecolor": "white",
            "ticks": ""
           },
           "bgcolor": "#E5ECF6",
           "caxis": {
            "gridcolor": "white",
            "linecolor": "white",
            "ticks": ""
           }
          },
          "title": {
           "x": 0.05
          },
          "xaxis": {
           "automargin": true,
           "gridcolor": "white",
           "linecolor": "white",
           "ticks": "",
           "zerolinecolor": "white",
           "zerolinewidth": 2
          },
          "yaxis": {
           "automargin": true,
           "gridcolor": "white",
           "linecolor": "white",
           "ticks": "",
           "zerolinecolor": "white",
           "zerolinewidth": 2
          }
         }
        },
        "title": {
         "text": "group/auc"
        },
        "xaxis": {
         "type": "date"
        }
       }
      },
      "text/html": [
       "<div>\n",
       "        \n",
       "        \n",
       "            <div id=\"a9b7c917-6672-429d-aa5f-051b6e5354b8\" class=\"plotly-graph-div\" style=\"height:525px; width:100%;\"></div>\n",
       "            <script type=\"text/javascript\">\n",
       "                require([\"plotly\"], function(Plotly) {\n",
       "                    window.PLOTLYENV=window.PLOTLYENV || {};\n",
       "                    \n",
       "                if (document.getElementById(\"a9b7c917-6672-429d-aa5f-051b6e5354b8\")) {\n",
       "                    Plotly.newPlot(\n",
       "                        'a9b7c917-6672-429d-aa5f-051b6e5354b8',\n",
       "                        [{\"line\": {\"shape\": \"spline\", \"smoothing\": 0.5}, \"marker\": {\"size\": 4}, \"mode\": \"lines+markers\", \"name\": \"15\", \"type\": \"scatter\", \"x\": [\"2020-05-11T07:00:00\", \"2020-05-11T08:00:00\", \"2020-05-11T09:00:00\", \"2020-05-11T10:00:00\", \"2020-05-11T11:00:00\", \"2020-05-11T12:00:00\", \"2020-05-11T13:00:00\", \"2020-05-11T14:00:00\", \"2020-05-11T15:00:00\", \"2020-05-11T16:00:00\", \"2020-05-11T17:00:00\", \"2020-05-11T18:00:00\", \"2020-05-11T19:00:00\", \"2020-05-11T20:00:00\", \"2020-05-11T21:00:00\", \"2020-05-11T22:00:00\", \"2020-05-11T23:00:00\"], \"y\": [0.5328996826717022, 0.5130788176061124, 0.5388334297881529, 0.5215179077900804, 0.5266943643608892, 0.5137664211182567, 0.5544966907989141, 0.5582006783670426, 0.5410502210342413, 0.5452821581327439, 0.5257123029424382, 0.547918054540677, 0.5309835330252303, 0.5304997504188679, 0.5376490545974305, 0.5310650879989985, 0.5399770092980201]}, {\"line\": {\"shape\": \"spline\", \"smoothing\": 0.5}, \"marker\": {\"size\": 4}, \"mode\": \"lines+markers\", \"name\": \"45600\", \"type\": \"scatter\", \"x\": [\"2020-05-11T07:00:00\", \"2020-05-11T08:00:00\", \"2020-05-11T09:00:00\", \"2020-05-11T10:00:00\", \"2020-05-11T11:00:00\", \"2020-05-11T12:00:00\", \"2020-05-11T13:00:00\", \"2020-05-11T14:00:00\", \"2020-05-11T15:00:00\", \"2020-05-11T16:00:00\", \"2020-05-11T17:00:00\", \"2020-05-11T18:00:00\", \"2020-05-11T19:00:00\", \"2020-05-11T20:00:00\", \"2020-05-11T21:00:00\", \"2020-05-11T22:00:00\", \"2020-05-11T23:00:00\"], \"y\": [0.5199177644840173, 0.5177090066344742, 0.5264247697646343, 0.5304961527727827, 0.5292825085353512, 0.5378806051993054, 0.5213484753279934, 0.5310463842366856, 0.520657894040061, 0.498361635069341, 0.5171041108067976, 0.5240117805609853, 0.5295312548276773, 0.5263831540348611, 0.5252119612545022, 0.5353602972060252, 0.5338061453690693]}, {\"line\": {\"shape\": \"spline\", \"smoothing\": 0.5}, \"marker\": {\"size\": 4}, \"mode\": \"lines+markers\", \"name\": \"45601\", \"type\": \"scatter\", \"x\": [\"2020-05-11T07:00:00\", \"2020-05-11T08:00:00\", \"2020-05-11T09:00:00\", \"2020-05-11T10:00:00\", \"2020-05-11T11:00:00\", \"2020-05-11T12:00:00\", \"2020-05-11T13:00:00\", \"2020-05-11T14:00:00\", \"2020-05-11T15:00:00\", \"2020-05-11T16:00:00\", \"2020-05-11T17:00:00\", \"2020-05-11T18:00:00\", \"2020-05-11T19:00:00\", \"2020-05-11T20:00:00\", \"2020-05-11T21:00:00\", \"2020-05-11T22:00:00\", \"2020-05-11T23:00:00\"], \"y\": [0.5252685196846879, 0.5282420769940651, 0.5327551067969267, 0.5363893268082298, 0.5370785655713979, 0.5403479640178136, 0.5354733090613207, 0.5313407283831078, 0.5329482632681901, 0.5137617456510206, 0.5221646784126552, 0.5392839630092177, 0.5432032270736792, 0.5262107914012827, 0.5382310844310263, 0.5428922928601233, 0.5392673142969467]}, {\"line\": {\"shape\": \"spline\", \"smoothing\": 0.5}, \"marker\": {\"size\": 4}, \"mode\": \"lines+markers\", \"name\": \"45602\", \"type\": \"scatter\", \"x\": [\"2020-05-11T07:00:00\", \"2020-05-11T08:00:00\", \"2020-05-11T09:00:00\", \"2020-05-11T10:00:00\", \"2020-05-11T11:00:00\", \"2020-05-11T12:00:00\", \"2020-05-11T13:00:00\", \"2020-05-11T14:00:00\", \"2020-05-11T15:00:00\", \"2020-05-11T17:00:00\", \"2020-05-11T18:00:00\", \"2020-05-11T19:00:00\", \"2020-05-11T20:00:00\", \"2020-05-11T21:00:00\", \"2020-05-11T22:00:00\", \"2020-05-11T23:00:00\"], \"y\": [0.5354629124331052, 0.5361570759673853, 0.5321629247683766, 0.5402195585722314, 0.540267682410234, 0.5440543547683521, 0.5470247637810572, 0.5463213510274819, 0.5428641701530261, 0.5282046512314111, 0.5409437113412079, 0.550201886792761, 0.5439042227644503, 0.5390552876479727, 0.5451195557903252, 0.5471286638006344]}, {\"line\": {\"shape\": \"spline\", \"smoothing\": 0.5}, \"marker\": {\"size\": 4}, \"mode\": \"lines+markers\", \"name\": \"8\", \"type\": \"scatter\", \"x\": [\"2020-05-11T07:00:00\", \"2020-05-11T08:00:00\", \"2020-05-11T09:00:00\", \"2020-05-11T10:00:00\", \"2020-05-11T11:00:00\", \"2020-05-11T12:00:00\", \"2020-05-11T13:00:00\", \"2020-05-11T14:00:00\", \"2020-05-11T15:00:00\", \"2020-05-11T16:00:00\", \"2020-05-11T17:00:00\", \"2020-05-11T18:00:00\", \"2020-05-11T19:00:00\", \"2020-05-11T20:00:00\", \"2020-05-11T21:00:00\", \"2020-05-11T22:00:00\", \"2020-05-11T23:00:00\"], \"y\": [0.5267945721794128, 0.5328785435492344, 0.5218314157249457, 0.5303541761442101, 0.5449810308002481, 0.5414464122606211, 0.5301357300799766, 0.5246990214561564, 0.5283879465146498, 0.5405192269930467, 0.5379810141138709, 0.5230871794249958, 0.5264662110416978, 0.5354188493778577, 0.5433917110957383, 0.5291332326633128, 0.5506054554705705]}, {\"line\": {\"shape\": \"spline\", \"smoothing\": 0.5}, \"marker\": {\"size\": 4}, \"mode\": \"lines+markers\", \"name\": \"456\", \"type\": \"scatter\", \"x\": [\"2020-05-11T07:00:00\", \"2020-05-11T08:00:00\", \"2020-05-11T09:00:00\", \"2020-05-11T10:00:00\", \"2020-05-11T11:00:00\", \"2020-05-11T12:00:00\", \"2020-05-11T13:00:00\", \"2020-05-11T14:00:00\", \"2020-05-11T15:00:00\", \"2020-05-11T16:00:00\", \"2020-05-11T17:00:00\", \"2020-05-11T18:00:00\", \"2020-05-11T19:00:00\", \"2020-05-11T20:00:00\", \"2020-05-11T21:00:00\", \"2020-05-11T22:00:00\", \"2020-05-11T23:00:00\"], \"y\": [0.5289835620995151, 0.5334518346608328, 0.5395070884616698, 0.5262276397696016, 0.5361092835747038, 0.547039151336312, 0.5166018567369061, 0.5409330795415468, 0.5409839344551802, 0.5101956430929059, 0.5312733224924086, 0.5363046390430403, 0.5456466850487145, 0.5367221453497623, 0.5335251211887997, 0.5442753856320721, 0.540581506288744]}],\n",
       "                        {\"hovermode\": \"x\", \"template\": {\"data\": {\"bar\": [{\"error_x\": {\"color\": \"#2a3f5f\"}, \"error_y\": {\"color\": \"#2a3f5f\"}, \"marker\": {\"line\": {\"color\": \"#E5ECF6\", \"width\": 0.5}}, \"type\": \"bar\"}], \"barpolar\": [{\"marker\": {\"line\": {\"color\": \"#E5ECF6\", \"width\": 0.5}}, \"type\": \"barpolar\"}], \"carpet\": [{\"aaxis\": {\"endlinecolor\": \"#2a3f5f\", \"gridcolor\": \"white\", \"linecolor\": \"white\", \"minorgridcolor\": \"white\", \"startlinecolor\": \"#2a3f5f\"}, \"baxis\": {\"endlinecolor\": \"#2a3f5f\", \"gridcolor\": \"white\", \"linecolor\": \"white\", \"minorgridcolor\": \"white\", \"startlinecolor\": \"#2a3f5f\"}, \"type\": \"carpet\"}], \"choropleth\": [{\"colorbar\": {\"outlinewidth\": 0, \"ticks\": \"\"}, \"type\": \"choropleth\"}], \"contour\": [{\"colorbar\": {\"outlinewidth\": 0, \"ticks\": \"\"}, \"colorscale\": [[0.0, \"#0d0887\"], [0.1111111111111111, \"#46039f\"], [0.2222222222222222, \"#7201a8\"], [0.3333333333333333, \"#9c179e\"], [0.4444444444444444, \"#bd3786\"], [0.5555555555555556, \"#d8576b\"], [0.6666666666666666, \"#ed7953\"], [0.7777777777777778, \"#fb9f3a\"], [0.8888888888888888, \"#fdca26\"], [1.0, \"#f0f921\"]], \"type\": \"contour\"}], \"contourcarpet\": [{\"colorbar\": {\"outlinewidth\": 0, \"ticks\": \"\"}, \"type\": \"contourcarpet\"}], \"heatmap\": [{\"colorbar\": {\"outlinewidth\": 0, \"ticks\": \"\"}, \"colorscale\": [[0.0, \"#0d0887\"], [0.1111111111111111, \"#46039f\"], [0.2222222222222222, \"#7201a8\"], [0.3333333333333333, \"#9c179e\"], [0.4444444444444444, \"#bd3786\"], [0.5555555555555556, \"#d8576b\"], [0.6666666666666666, \"#ed7953\"], [0.7777777777777778, \"#fb9f3a\"], [0.8888888888888888, \"#fdca26\"], [1.0, \"#f0f921\"]], \"type\": \"heatmap\"}], \"heatmapgl\": [{\"colorbar\": {\"outlinewidth\": 0, \"ticks\": \"\"}, \"colorscale\": [[0.0, \"#0d0887\"], [0.1111111111111111, \"#46039f\"], [0.2222222222222222, \"#7201a8\"], [0.3333333333333333, \"#9c179e\"], [0.4444444444444444, \"#bd3786\"], [0.5555555555555556, \"#d8576b\"], [0.6666666666666666, \"#ed7953\"], [0.7777777777777778, \"#fb9f3a\"], [0.8888888888888888, \"#fdca26\"], [1.0, \"#f0f921\"]], \"type\": \"heatmapgl\"}], \"histogram\": [{\"marker\": {\"colorbar\": {\"outlinewidth\": 0, \"ticks\": \"\"}}, \"type\": \"histogram\"}], \"histogram2d\": [{\"colorbar\": {\"outlinewidth\": 0, \"ticks\": \"\"}, \"colorscale\": [[0.0, \"#0d0887\"], [0.1111111111111111, \"#46039f\"], [0.2222222222222222, \"#7201a8\"], [0.3333333333333333, \"#9c179e\"], [0.4444444444444444, \"#bd3786\"], [0.5555555555555556, \"#d8576b\"], [0.6666666666666666, \"#ed7953\"], [0.7777777777777778, \"#fb9f3a\"], [0.8888888888888888, \"#fdca26\"], [1.0, \"#f0f921\"]], \"type\": \"histogram2d\"}], \"histogram2dcontour\": [{\"colorbar\": {\"outlinewidth\": 0, \"ticks\": \"\"}, \"colorscale\": [[0.0, \"#0d0887\"], [0.1111111111111111, \"#46039f\"], [0.2222222222222222, \"#7201a8\"], [0.3333333333333333, \"#9c179e\"], [0.4444444444444444, \"#bd3786\"], [0.5555555555555556, \"#d8576b\"], [0.6666666666666666, \"#ed7953\"], [0.7777777777777778, \"#fb9f3a\"], [0.8888888888888888, \"#fdca26\"], [1.0, \"#f0f921\"]], \"type\": \"histogram2dcontour\"}], \"mesh3d\": [{\"colorbar\": {\"outlinewidth\": 0, \"ticks\": \"\"}, \"type\": \"mesh3d\"}], \"parcoords\": [{\"line\": {\"colorbar\": {\"outlinewidth\": 0, \"ticks\": \"\"}}, \"type\": \"parcoords\"}], \"scatter\": [{\"marker\": {\"colorbar\": {\"outlinewidth\": 0, \"ticks\": \"\"}}, \"type\": \"scatter\"}], \"scatter3d\": [{\"line\": {\"colorbar\": {\"outlinewidth\": 0, \"ticks\": \"\"}}, \"marker\": {\"colorbar\": {\"outlinewidth\": 0, \"ticks\": \"\"}}, \"type\": \"scatter3d\"}], \"scattercarpet\": [{\"marker\": {\"colorbar\": {\"outlinewidth\": 0, \"ticks\": \"\"}}, \"type\": \"scattercarpet\"}], \"scattergeo\": [{\"marker\": {\"colorbar\": {\"outlinewidth\": 0, \"ticks\": \"\"}}, \"type\": \"scattergeo\"}], \"scattergl\": [{\"marker\": {\"colorbar\": {\"outlinewidth\": 0, \"ticks\": \"\"}}, \"type\": \"scattergl\"}], \"scattermapbox\": [{\"marker\": {\"colorbar\": {\"outlinewidth\": 0, \"ticks\": \"\"}}, \"type\": \"scattermapbox\"}], \"scatterpolar\": [{\"marker\": {\"colorbar\": {\"outlinewidth\": 0, \"ticks\": \"\"}}, \"type\": \"scatterpolar\"}], \"scatterpolargl\": [{\"marker\": {\"colorbar\": {\"outlinewidth\": 0, \"ticks\": \"\"}}, \"type\": \"scatterpolargl\"}], \"scatterternary\": [{\"marker\": {\"colorbar\": {\"outlinewidth\": 0, \"ticks\": \"\"}}, \"type\": \"scatterternary\"}], \"surface\": [{\"colorbar\": {\"outlinewidth\": 0, \"ticks\": \"\"}, \"colorscale\": [[0.0, \"#0d0887\"], [0.1111111111111111, \"#46039f\"], [0.2222222222222222, \"#7201a8\"], [0.3333333333333333, \"#9c179e\"], [0.4444444444444444, \"#bd3786\"], [0.5555555555555556, \"#d8576b\"], [0.6666666666666666, \"#ed7953\"], [0.7777777777777778, \"#fb9f3a\"], [0.8888888888888888, \"#fdca26\"], [1.0, \"#f0f921\"]], \"type\": \"surface\"}], \"table\": [{\"cells\": {\"fill\": {\"color\": \"#EBF0F8\"}, \"line\": {\"color\": \"white\"}}, \"header\": {\"fill\": {\"color\": \"#C8D4E3\"}, \"line\": {\"color\": \"white\"}}, \"type\": \"table\"}]}, \"layout\": {\"annotationdefaults\": {\"arrowcolor\": \"#2a3f5f\", \"arrowhead\": 0, \"arrowwidth\": 1}, \"colorscale\": {\"diverging\": [[0, \"#8e0152\"], [0.1, \"#c51b7d\"], [0.2, \"#de77ae\"], [0.3, \"#f1b6da\"], [0.4, \"#fde0ef\"], [0.5, \"#f7f7f7\"], [0.6, \"#e6f5d0\"], [0.7, \"#b8e186\"], [0.8, \"#7fbc41\"], [0.9, \"#4d9221\"], [1, \"#276419\"]], \"sequential\": [[0.0, \"#0d0887\"], [0.1111111111111111, \"#46039f\"], [0.2222222222222222, \"#7201a8\"], [0.3333333333333333, \"#9c179e\"], [0.4444444444444444, \"#bd3786\"], [0.5555555555555556, \"#d8576b\"], [0.6666666666666666, \"#ed7953\"], [0.7777777777777778, \"#fb9f3a\"], [0.8888888888888888, \"#fdca26\"], [1.0, \"#f0f921\"]], \"sequentialminus\": [[0.0, \"#0d0887\"], [0.1111111111111111, \"#46039f\"], [0.2222222222222222, \"#7201a8\"], [0.3333333333333333, \"#9c179e\"], [0.4444444444444444, \"#bd3786\"], [0.5555555555555556, \"#d8576b\"], [0.6666666666666666, \"#ed7953\"], [0.7777777777777778, \"#fb9f3a\"], [0.8888888888888888, \"#fdca26\"], [1.0, \"#f0f921\"]]}, \"colorway\": [\"#636efa\", \"#EF553B\", \"#00cc96\", \"#ab63fa\", \"#FFA15A\", \"#19d3f3\", \"#FF6692\", \"#B6E880\", \"#FF97FF\", \"#FECB52\"], \"font\": {\"color\": \"#2a3f5f\"}, \"geo\": {\"bgcolor\": \"white\", \"lakecolor\": \"white\", \"landcolor\": \"#E5ECF6\", \"showlakes\": true, \"showland\": true, \"subunitcolor\": \"white\"}, \"hoverlabel\": {\"align\": \"left\"}, \"hovermode\": \"closest\", \"mapbox\": {\"style\": \"light\"}, \"paper_bgcolor\": \"white\", \"plot_bgcolor\": \"#E5ECF6\", \"polar\": {\"angularaxis\": {\"gridcolor\": \"white\", \"linecolor\": \"white\", \"ticks\": \"\"}, \"bgcolor\": \"#E5ECF6\", \"radialaxis\": {\"gridcolor\": \"white\", \"linecolor\": \"white\", \"ticks\": \"\"}}, \"scene\": {\"xaxis\": {\"backgroundcolor\": \"#E5ECF6\", \"gridcolor\": \"white\", \"gridwidth\": 2, \"linecolor\": \"white\", \"showbackground\": true, \"ticks\": \"\", \"zerolinecolor\": \"white\"}, \"yaxis\": {\"backgroundcolor\": \"#E5ECF6\", \"gridcolor\": \"white\", \"gridwidth\": 2, \"linecolor\": \"white\", \"showbackground\": true, \"ticks\": \"\", \"zerolinecolor\": \"white\"}, \"zaxis\": {\"backgroundcolor\": \"#E5ECF6\", \"gridcolor\": \"white\", \"gridwidth\": 2, \"linecolor\": \"white\", \"showbackground\": true, \"ticks\": \"\", \"zerolinecolor\": \"white\"}}, \"shapedefaults\": {\"line\": {\"color\": \"#2a3f5f\"}}, \"ternary\": {\"aaxis\": {\"gridcolor\": \"white\", \"linecolor\": \"white\", \"ticks\": \"\"}, \"baxis\": {\"gridcolor\": \"white\", \"linecolor\": \"white\", \"ticks\": \"\"}, \"bgcolor\": \"#E5ECF6\", \"caxis\": {\"gridcolor\": \"white\", \"linecolor\": \"white\", \"ticks\": \"\"}}, \"title\": {\"x\": 0.05}, \"xaxis\": {\"automargin\": true, \"gridcolor\": \"white\", \"linecolor\": \"white\", \"ticks\": \"\", \"zerolinecolor\": \"white\", \"zerolinewidth\": 2}, \"yaxis\": {\"automargin\": true, \"gridcolor\": \"white\", \"linecolor\": \"white\", \"ticks\": \"\", \"zerolinecolor\": \"white\", \"zerolinewidth\": 2}}}, \"title\": {\"text\": \"group/auc\"}, \"xaxis\": {\"type\": \"date\"}},\n",
       "                        {\"responsive\": true}\n",
       "                    ).then(function(){\n",
       "                            \n",
       "var gd = document.getElementById('a9b7c917-6672-429d-aa5f-051b6e5354b8');\n",
       "var x = new MutationObserver(function (mutations, observer) {{\n",
       "        var display = window.getComputedStyle(gd).display;\n",
       "        if (!display || display === 'none') {{\n",
       "            console.log([gd, 'removed!']);\n",
       "            Plotly.purge(gd);\n",
       "            observer.disconnect();\n",
       "        }}\n",
       "}});\n",
       "\n",
       "// Listen for the removal of the full notebook cells\n",
       "var notebookContainer = gd.closest('#notebook-container');\n",
       "if (notebookContainer) {{\n",
       "    x.observe(notebookContainer, {childList: true});\n",
       "}}\n",
       "\n",
       "// Listen for the clearing of the current output cell\n",
       "var outputEl = gd.closest('.output');\n",
       "if (outputEl) {{\n",
       "    x.observe(outputEl, {childList: true});\n",
       "}}\n",
       "\n",
       "                        })\n",
       "                };\n",
       "                });\n",
       "            </script>\n",
       "        </div>"
      ]
     },
     "metadata": {},
     "output_type": "display_data"
    },
    {
     "data": {
      "application/vnd.plotly.v1+json": {
       "config": {
        "linkText": "Export to plot.ly",
        "plotlyServerURL": "https://plot.ly",
        "showLink": false
       },
       "data": [
        {
         "line": {
          "shape": "spline",
          "smoothing": 0.5
         },
         "marker": {
          "size": 4
         },
         "mode": "lines+markers",
         "name": "15",
         "type": "scatter",
         "x": [
          "2020-05-11T07:00:00",
          "2020-05-11T08:00:00",
          "2020-05-11T09:00:00",
          "2020-05-11T10:00:00",
          "2020-05-11T11:00:00",
          "2020-05-11T12:00:00",
          "2020-05-11T13:00:00",
          "2020-05-11T14:00:00",
          "2020-05-11T15:00:00",
          "2020-05-11T16:00:00",
          "2020-05-11T17:00:00",
          "2020-05-11T18:00:00",
          "2020-05-11T19:00:00",
          "2020-05-11T20:00:00",
          "2020-05-11T21:00:00",
          "2020-05-11T22:00:00",
          "2020-05-11T23:00:00"
         ],
         "y": [
          0.5432305838486604,
          0.5324639903377659,
          0.5574073959939604,
          0.5329576813167536,
          0.5435908478446771,
          0.5809750364485561,
          0.5794960010411008,
          0.57025447910516,
          0.5662202485318638,
          0.5772247986815133,
          0.5549620217942077,
          0.5789542598039441,
          0.5590029822609109,
          0.5598296987279181,
          0.551802081868473,
          0.5605763636781873,
          0.5644726399269748
         ]
        },
        {
         "line": {
          "shape": "spline",
          "smoothing": 0.5
         },
         "marker": {
          "size": 4
         },
         "mode": "lines+markers",
         "name": "45600",
         "type": "scatter",
         "x": [
          "2020-05-11T07:00:00",
          "2020-05-11T08:00:00",
          "2020-05-11T09:00:00",
          "2020-05-11T10:00:00",
          "2020-05-11T11:00:00",
          "2020-05-11T12:00:00",
          "2020-05-11T13:00:00",
          "2020-05-11T14:00:00",
          "2020-05-11T15:00:00",
          "2020-05-11T16:00:00",
          "2020-05-11T17:00:00",
          "2020-05-11T18:00:00",
          "2020-05-11T19:00:00",
          "2020-05-11T20:00:00",
          "2020-05-11T21:00:00",
          "2020-05-11T22:00:00",
          "2020-05-11T23:00:00"
         ],
         "y": [
          0.519283693806649,
          0.5133492712860496,
          0.5185702750694424,
          0.5260798142319689,
          0.5246888646272937,
          0.5495716129226537,
          0.5379720558471038,
          0.5275528796063139,
          0.5140361549530622,
          0.5177581119043688,
          0.5209990236020585,
          0.5276156267634602,
          0.5337684903467651,
          0.5181545353468934,
          0.5310252846618211,
          0.5305154258007858,
          0.5301059647964241
         ]
        },
        {
         "line": {
          "shape": "spline",
          "smoothing": 0.5
         },
         "marker": {
          "size": 4
         },
         "mode": "lines+markers",
         "name": "45601",
         "type": "scatter",
         "x": [
          "2020-05-11T07:00:00",
          "2020-05-11T08:00:00",
          "2020-05-11T09:00:00",
          "2020-05-11T10:00:00",
          "2020-05-11T11:00:00",
          "2020-05-11T12:00:00",
          "2020-05-11T13:00:00",
          "2020-05-11T14:00:00",
          "2020-05-11T15:00:00",
          "2020-05-11T16:00:00",
          "2020-05-11T17:00:00",
          "2020-05-11T18:00:00",
          "2020-05-11T19:00:00",
          "2020-05-11T20:00:00",
          "2020-05-11T21:00:00",
          "2020-05-11T22:00:00",
          "2020-05-11T23:00:00"
         ],
         "y": [
          0.5226391364218361,
          0.5224033160669466,
          0.5225769969519187,
          0.5280026291552457,
          0.5288726961135322,
          0.5550797670538603,
          0.5348122721136305,
          0.5279853487242038,
          0.5268384586190129,
          0.5190812213460324,
          0.525203944344641,
          0.5341717372069709,
          0.5415197173802433,
          0.5240719561850864,
          0.5382420047082004,
          0.538255055936939,
          0.5355865730131311
         ]
        },
        {
         "line": {
          "shape": "spline",
          "smoothing": 0.5
         },
         "marker": {
          "size": 4
         },
         "mode": "lines+markers",
         "name": "45602",
         "type": "scatter",
         "x": [
          "2020-05-11T07:00:00",
          "2020-05-11T08:00:00",
          "2020-05-11T09:00:00",
          "2020-05-11T10:00:00",
          "2020-05-11T11:00:00",
          "2020-05-11T12:00:00",
          "2020-05-11T13:00:00",
          "2020-05-11T14:00:00",
          "2020-05-11T15:00:00",
          "2020-05-11T17:00:00",
          "2020-05-11T18:00:00",
          "2020-05-11T19:00:00",
          "2020-05-11T20:00:00",
          "2020-05-11T21:00:00",
          "2020-05-11T22:00:00",
          "2020-05-11T23:00:00"
         ],
         "y": [
          0.5276267094021365,
          0.5303322624215189,
          0.5246355818462489,
          0.5304983546128631,
          0.5335724068389913,
          0.5544933888295303,
          0.5515799222001262,
          0.5386419424571595,
          0.5281467432521275,
          0.5250058025613689,
          0.5378907498845781,
          0.5477747577345924,
          0.5322214709389828,
          0.5444900377373751,
          0.5375703774741593,
          0.54241946591149
         ]
        },
        {
         "line": {
          "shape": "spline",
          "smoothing": 0.5
         },
         "marker": {
          "size": 4
         },
         "mode": "lines+markers",
         "name": "8",
         "type": "scatter",
         "x": [
          "2020-05-11T07:00:00",
          "2020-05-11T08:00:00",
          "2020-05-11T09:00:00",
          "2020-05-11T10:00:00",
          "2020-05-11T11:00:00",
          "2020-05-11T12:00:00",
          "2020-05-11T13:00:00",
          "2020-05-11T14:00:00",
          "2020-05-11T15:00:00",
          "2020-05-11T16:00:00",
          "2020-05-11T17:00:00",
          "2020-05-11T18:00:00",
          "2020-05-11T19:00:00",
          "2020-05-11T20:00:00",
          "2020-05-11T21:00:00",
          "2020-05-11T22:00:00",
          "2020-05-11T23:00:00"
         ],
         "y": [
          0.5425282163431723,
          0.530067319014261,
          0.545555426940692,
          0.5433880403928869,
          0.5715121794644911,
          0.5640529737124796,
          0.5777375225391379,
          0.5590381962291066,
          0.5475941077853175,
          0.5667276900994053,
          0.5650227284103877,
          0.5579595859898114,
          0.5698046297772378,
          0.5657713296951413,
          0.563377738063209,
          0.555859967185349,
          0.5579228531223946
         ]
        },
        {
         "line": {
          "shape": "spline",
          "smoothing": 0.5
         },
         "marker": {
          "size": 4
         },
         "mode": "lines+markers",
         "name": "456",
         "type": "scatter",
         "x": [
          "2020-05-11T07:00:00",
          "2020-05-11T08:00:00",
          "2020-05-11T09:00:00",
          "2020-05-11T10:00:00",
          "2020-05-11T11:00:00",
          "2020-05-11T12:00:00",
          "2020-05-11T13:00:00",
          "2020-05-11T14:00:00",
          "2020-05-11T15:00:00",
          "2020-05-11T16:00:00",
          "2020-05-11T17:00:00",
          "2020-05-11T18:00:00",
          "2020-05-11T19:00:00",
          "2020-05-11T20:00:00",
          "2020-05-11T21:00:00",
          "2020-05-11T22:00:00",
          "2020-05-11T23:00:00"
         ],
         "y": [
          0.5394729223357727,
          0.5462085166670424,
          0.5556020303150493,
          0.5487948933329668,
          0.5552606545075978,
          0.5685562334664652,
          0.5448630690713415,
          0.5581325015957797,
          0.5590490388974513,
          0.5520721816634638,
          0.562559083383043,
          0.563591516779004,
          0.5659677448532794,
          0.5553758579640625,
          0.5582514454490811,
          0.5625055714908728,
          0.5594875843123074
         ]
        }
       ],
       "layout": {
        "hovermode": "x",
        "template": {
         "data": {
          "bar": [
           {
            "error_x": {
             "color": "#2a3f5f"
            },
            "error_y": {
             "color": "#2a3f5f"
            },
            "marker": {
             "line": {
              "color": "#E5ECF6",
              "width": 0.5
             }
            },
            "type": "bar"
           }
          ],
          "barpolar": [
           {
            "marker": {
             "line": {
              "color": "#E5ECF6",
              "width": 0.5
             }
            },
            "type": "barpolar"
           }
          ],
          "carpet": [
           {
            "aaxis": {
             "endlinecolor": "#2a3f5f",
             "gridcolor": "white",
             "linecolor": "white",
             "minorgridcolor": "white",
             "startlinecolor": "#2a3f5f"
            },
            "baxis": {
             "endlinecolor": "#2a3f5f",
             "gridcolor": "white",
             "linecolor": "white",
             "minorgridcolor": "white",
             "startlinecolor": "#2a3f5f"
            },
            "type": "carpet"
           }
          ],
          "choropleth": [
           {
            "colorbar": {
             "outlinewidth": 0,
             "ticks": ""
            },
            "type": "choropleth"
           }
          ],
          "contour": [
           {
            "colorbar": {
             "outlinewidth": 0,
             "ticks": ""
            },
            "colorscale": [
             [
              0,
              "#0d0887"
             ],
             [
              0.1111111111111111,
              "#46039f"
             ],
             [
              0.2222222222222222,
              "#7201a8"
             ],
             [
              0.3333333333333333,
              "#9c179e"
             ],
             [
              0.4444444444444444,
              "#bd3786"
             ],
             [
              0.5555555555555556,
              "#d8576b"
             ],
             [
              0.6666666666666666,
              "#ed7953"
             ],
             [
              0.7777777777777778,
              "#fb9f3a"
             ],
             [
              0.8888888888888888,
              "#fdca26"
             ],
             [
              1,
              "#f0f921"
             ]
            ],
            "type": "contour"
           }
          ],
          "contourcarpet": [
           {
            "colorbar": {
             "outlinewidth": 0,
             "ticks": ""
            },
            "type": "contourcarpet"
           }
          ],
          "heatmap": [
           {
            "colorbar": {
             "outlinewidth": 0,
             "ticks": ""
            },
            "colorscale": [
             [
              0,
              "#0d0887"
             ],
             [
              0.1111111111111111,
              "#46039f"
             ],
             [
              0.2222222222222222,
              "#7201a8"
             ],
             [
              0.3333333333333333,
              "#9c179e"
             ],
             [
              0.4444444444444444,
              "#bd3786"
             ],
             [
              0.5555555555555556,
              "#d8576b"
             ],
             [
              0.6666666666666666,
              "#ed7953"
             ],
             [
              0.7777777777777778,
              "#fb9f3a"
             ],
             [
              0.8888888888888888,
              "#fdca26"
             ],
             [
              1,
              "#f0f921"
             ]
            ],
            "type": "heatmap"
           }
          ],
          "heatmapgl": [
           {
            "colorbar": {
             "outlinewidth": 0,
             "ticks": ""
            },
            "colorscale": [
             [
              0,
              "#0d0887"
             ],
             [
              0.1111111111111111,
              "#46039f"
             ],
             [
              0.2222222222222222,
              "#7201a8"
             ],
             [
              0.3333333333333333,
              "#9c179e"
             ],
             [
              0.4444444444444444,
              "#bd3786"
             ],
             [
              0.5555555555555556,
              "#d8576b"
             ],
             [
              0.6666666666666666,
              "#ed7953"
             ],
             [
              0.7777777777777778,
              "#fb9f3a"
             ],
             [
              0.8888888888888888,
              "#fdca26"
             ],
             [
              1,
              "#f0f921"
             ]
            ],
            "type": "heatmapgl"
           }
          ],
          "histogram": [
           {
            "marker": {
             "colorbar": {
              "outlinewidth": 0,
              "ticks": ""
             }
            },
            "type": "histogram"
           }
          ],
          "histogram2d": [
           {
            "colorbar": {
             "outlinewidth": 0,
             "ticks": ""
            },
            "colorscale": [
             [
              0,
              "#0d0887"
             ],
             [
              0.1111111111111111,
              "#46039f"
             ],
             [
              0.2222222222222222,
              "#7201a8"
             ],
             [
              0.3333333333333333,
              "#9c179e"
             ],
             [
              0.4444444444444444,
              "#bd3786"
             ],
             [
              0.5555555555555556,
              "#d8576b"
             ],
             [
              0.6666666666666666,
              "#ed7953"
             ],
             [
              0.7777777777777778,
              "#fb9f3a"
             ],
             [
              0.8888888888888888,
              "#fdca26"
             ],
             [
              1,
              "#f0f921"
             ]
            ],
            "type": "histogram2d"
           }
          ],
          "histogram2dcontour": [
           {
            "colorbar": {
             "outlinewidth": 0,
             "ticks": ""
            },
            "colorscale": [
             [
              0,
              "#0d0887"
             ],
             [
              0.1111111111111111,
              "#46039f"
             ],
             [
              0.2222222222222222,
              "#7201a8"
             ],
             [
              0.3333333333333333,
              "#9c179e"
             ],
             [
              0.4444444444444444,
              "#bd3786"
             ],
             [
              0.5555555555555556,
              "#d8576b"
             ],
             [
              0.6666666666666666,
              "#ed7953"
             ],
             [
              0.7777777777777778,
              "#fb9f3a"
             ],
             [
              0.8888888888888888,
              "#fdca26"
             ],
             [
              1,
              "#f0f921"
             ]
            ],
            "type": "histogram2dcontour"
           }
          ],
          "mesh3d": [
           {
            "colorbar": {
             "outlinewidth": 0,
             "ticks": ""
            },
            "type": "mesh3d"
           }
          ],
          "parcoords": [
           {
            "line": {
             "colorbar": {
              "outlinewidth": 0,
              "ticks": ""
             }
            },
            "type": "parcoords"
           }
          ],
          "scatter": [
           {
            "marker": {
             "colorbar": {
              "outlinewidth": 0,
              "ticks": ""
             }
            },
            "type": "scatter"
           }
          ],
          "scatter3d": [
           {
            "line": {
             "colorbar": {
              "outlinewidth": 0,
              "ticks": ""
             }
            },
            "marker": {
             "colorbar": {
              "outlinewidth": 0,
              "ticks": ""
             }
            },
            "type": "scatter3d"
           }
          ],
          "scattercarpet": [
           {
            "marker": {
             "colorbar": {
              "outlinewidth": 0,
              "ticks": ""
             }
            },
            "type": "scattercarpet"
           }
          ],
          "scattergeo": [
           {
            "marker": {
             "colorbar": {
              "outlinewidth": 0,
              "ticks": ""
             }
            },
            "type": "scattergeo"
           }
          ],
          "scattergl": [
           {
            "marker": {
             "colorbar": {
              "outlinewidth": 0,
              "ticks": ""
             }
            },
            "type": "scattergl"
           }
          ],
          "scattermapbox": [
           {
            "marker": {
             "colorbar": {
              "outlinewidth": 0,
              "ticks": ""
             }
            },
            "type": "scattermapbox"
           }
          ],
          "scatterpolar": [
           {
            "marker": {
             "colorbar": {
              "outlinewidth": 0,
              "ticks": ""
             }
            },
            "type": "scatterpolar"
           }
          ],
          "scatterpolargl": [
           {
            "marker": {
             "colorbar": {
              "outlinewidth": 0,
              "ticks": ""
             }
            },
            "type": "scatterpolargl"
           }
          ],
          "scatterternary": [
           {
            "marker": {
             "colorbar": {
              "outlinewidth": 0,
              "ticks": ""
             }
            },
            "type": "scatterternary"
           }
          ],
          "surface": [
           {
            "colorbar": {
             "outlinewidth": 0,
             "ticks": ""
            },
            "colorscale": [
             [
              0,
              "#0d0887"
             ],
             [
              0.1111111111111111,
              "#46039f"
             ],
             [
              0.2222222222222222,
              "#7201a8"
             ],
             [
              0.3333333333333333,
              "#9c179e"
             ],
             [
              0.4444444444444444,
              "#bd3786"
             ],
             [
              0.5555555555555556,
              "#d8576b"
             ],
             [
              0.6666666666666666,
              "#ed7953"
             ],
             [
              0.7777777777777778,
              "#fb9f3a"
             ],
             [
              0.8888888888888888,
              "#fdca26"
             ],
             [
              1,
              "#f0f921"
             ]
            ],
            "type": "surface"
           }
          ],
          "table": [
           {
            "cells": {
             "fill": {
              "color": "#EBF0F8"
             },
             "line": {
              "color": "white"
             }
            },
            "header": {
             "fill": {
              "color": "#C8D4E3"
             },
             "line": {
              "color": "white"
             }
            },
            "type": "table"
           }
          ]
         },
         "layout": {
          "annotationdefaults": {
           "arrowcolor": "#2a3f5f",
           "arrowhead": 0,
           "arrowwidth": 1
          },
          "colorscale": {
           "diverging": [
            [
             0,
             "#8e0152"
            ],
            [
             0.1,
             "#c51b7d"
            ],
            [
             0.2,
             "#de77ae"
            ],
            [
             0.3,
             "#f1b6da"
            ],
            [
             0.4,
             "#fde0ef"
            ],
            [
             0.5,
             "#f7f7f7"
            ],
            [
             0.6,
             "#e6f5d0"
            ],
            [
             0.7,
             "#b8e186"
            ],
            [
             0.8,
             "#7fbc41"
            ],
            [
             0.9,
             "#4d9221"
            ],
            [
             1,
             "#276419"
            ]
           ],
           "sequential": [
            [
             0,
             "#0d0887"
            ],
            [
             0.1111111111111111,
             "#46039f"
            ],
            [
             0.2222222222222222,
             "#7201a8"
            ],
            [
             0.3333333333333333,
             "#9c179e"
            ],
            [
             0.4444444444444444,
             "#bd3786"
            ],
            [
             0.5555555555555556,
             "#d8576b"
            ],
            [
             0.6666666666666666,
             "#ed7953"
            ],
            [
             0.7777777777777778,
             "#fb9f3a"
            ],
            [
             0.8888888888888888,
             "#fdca26"
            ],
            [
             1,
             "#f0f921"
            ]
           ],
           "sequentialminus": [
            [
             0,
             "#0d0887"
            ],
            [
             0.1111111111111111,
             "#46039f"
            ],
            [
             0.2222222222222222,
             "#7201a8"
            ],
            [
             0.3333333333333333,
             "#9c179e"
            ],
            [
             0.4444444444444444,
             "#bd3786"
            ],
            [
             0.5555555555555556,
             "#d8576b"
            ],
            [
             0.6666666666666666,
             "#ed7953"
            ],
            [
             0.7777777777777778,
             "#fb9f3a"
            ],
            [
             0.8888888888888888,
             "#fdca26"
            ],
            [
             1,
             "#f0f921"
            ]
           ]
          },
          "colorway": [
           "#636efa",
           "#EF553B",
           "#00cc96",
           "#ab63fa",
           "#FFA15A",
           "#19d3f3",
           "#FF6692",
           "#B6E880",
           "#FF97FF",
           "#FECB52"
          ],
          "font": {
           "color": "#2a3f5f"
          },
          "geo": {
           "bgcolor": "white",
           "lakecolor": "white",
           "landcolor": "#E5ECF6",
           "showlakes": true,
           "showland": true,
           "subunitcolor": "white"
          },
          "hoverlabel": {
           "align": "left"
          },
          "hovermode": "closest",
          "mapbox": {
           "style": "light"
          },
          "paper_bgcolor": "white",
          "plot_bgcolor": "#E5ECF6",
          "polar": {
           "angularaxis": {
            "gridcolor": "white",
            "linecolor": "white",
            "ticks": ""
           },
           "bgcolor": "#E5ECF6",
           "radialaxis": {
            "gridcolor": "white",
            "linecolor": "white",
            "ticks": ""
           }
          },
          "scene": {
           "xaxis": {
            "backgroundcolor": "#E5ECF6",
            "gridcolor": "white",
            "gridwidth": 2,
            "linecolor": "white",
            "showbackground": true,
            "ticks": "",
            "zerolinecolor": "white"
           },
           "yaxis": {
            "backgroundcolor": "#E5ECF6",
            "gridcolor": "white",
            "gridwidth": 2,
            "linecolor": "white",
            "showbackground": true,
            "ticks": "",
            "zerolinecolor": "white"
           },
           "zaxis": {
            "backgroundcolor": "#E5ECF6",
            "gridcolor": "white",
            "gridwidth": 2,
            "linecolor": "white",
            "showbackground": true,
            "ticks": "",
            "zerolinecolor": "white"
           }
          },
          "shapedefaults": {
           "line": {
            "color": "#2a3f5f"
           }
          },
          "ternary": {
           "aaxis": {
            "gridcolor": "white",
            "linecolor": "white",
            "ticks": ""
           },
           "baxis": {
            "gridcolor": "white",
            "linecolor": "white",
            "ticks": ""
           },
           "bgcolor": "#E5ECF6",
           "caxis": {
            "gridcolor": "white",
            "linecolor": "white",
            "ticks": ""
           }
          },
          "title": {
           "x": 0.05
          },
          "xaxis": {
           "automargin": true,
           "gridcolor": "white",
           "linecolor": "white",
           "ticks": "",
           "zerolinecolor": "white",
           "zerolinewidth": 2
          },
          "yaxis": {
           "automargin": true,
           "gridcolor": "white",
           "linecolor": "white",
           "ticks": "",
           "zerolinecolor": "white",
           "zerolinewidth": 2
          }
         }
        },
        "title": {
         "text": "group/auc2"
        },
        "xaxis": {
         "type": "date"
        }
       }
      },
      "text/html": [
       "<div>\n",
       "        \n",
       "        \n",
       "            <div id=\"7c23f565-b390-4541-b66b-b2585a507383\" class=\"plotly-graph-div\" style=\"height:525px; width:100%;\"></div>\n",
       "            <script type=\"text/javascript\">\n",
       "                require([\"plotly\"], function(Plotly) {\n",
       "                    window.PLOTLYENV=window.PLOTLYENV || {};\n",
       "                    \n",
       "                if (document.getElementById(\"7c23f565-b390-4541-b66b-b2585a507383\")) {\n",
       "                    Plotly.newPlot(\n",
       "                        '7c23f565-b390-4541-b66b-b2585a507383',\n",
       "                        [{\"line\": {\"shape\": \"spline\", \"smoothing\": 0.5}, \"marker\": {\"size\": 4}, \"mode\": \"lines+markers\", \"name\": \"15\", \"type\": \"scatter\", \"x\": [\"2020-05-11T07:00:00\", \"2020-05-11T08:00:00\", \"2020-05-11T09:00:00\", \"2020-05-11T10:00:00\", \"2020-05-11T11:00:00\", \"2020-05-11T12:00:00\", \"2020-05-11T13:00:00\", \"2020-05-11T14:00:00\", \"2020-05-11T15:00:00\", \"2020-05-11T16:00:00\", \"2020-05-11T17:00:00\", \"2020-05-11T18:00:00\", \"2020-05-11T19:00:00\", \"2020-05-11T20:00:00\", \"2020-05-11T21:00:00\", \"2020-05-11T22:00:00\", \"2020-05-11T23:00:00\"], \"y\": [0.5432305838486604, 0.5324639903377659, 0.5574073959939604, 0.5329576813167536, 0.5435908478446771, 0.5809750364485561, 0.5794960010411008, 0.57025447910516, 0.5662202485318638, 0.5772247986815133, 0.5549620217942077, 0.5789542598039441, 0.5590029822609109, 0.5598296987279181, 0.551802081868473, 0.5605763636781873, 0.5644726399269748]}, {\"line\": {\"shape\": \"spline\", \"smoothing\": 0.5}, \"marker\": {\"size\": 4}, \"mode\": \"lines+markers\", \"name\": \"45600\", \"type\": \"scatter\", \"x\": [\"2020-05-11T07:00:00\", \"2020-05-11T08:00:00\", \"2020-05-11T09:00:00\", \"2020-05-11T10:00:00\", \"2020-05-11T11:00:00\", \"2020-05-11T12:00:00\", \"2020-05-11T13:00:00\", \"2020-05-11T14:00:00\", \"2020-05-11T15:00:00\", \"2020-05-11T16:00:00\", \"2020-05-11T17:00:00\", \"2020-05-11T18:00:00\", \"2020-05-11T19:00:00\", \"2020-05-11T20:00:00\", \"2020-05-11T21:00:00\", \"2020-05-11T22:00:00\", \"2020-05-11T23:00:00\"], \"y\": [0.519283693806649, 0.5133492712860496, 0.5185702750694424, 0.5260798142319689, 0.5246888646272937, 0.5495716129226537, 0.5379720558471038, 0.5275528796063139, 0.5140361549530622, 0.5177581119043688, 0.5209990236020585, 0.5276156267634602, 0.5337684903467651, 0.5181545353468934, 0.5310252846618211, 0.5305154258007858, 0.5301059647964241]}, {\"line\": {\"shape\": \"spline\", \"smoothing\": 0.5}, \"marker\": {\"size\": 4}, \"mode\": \"lines+markers\", \"name\": \"45601\", \"type\": \"scatter\", \"x\": [\"2020-05-11T07:00:00\", \"2020-05-11T08:00:00\", \"2020-05-11T09:00:00\", \"2020-05-11T10:00:00\", \"2020-05-11T11:00:00\", \"2020-05-11T12:00:00\", \"2020-05-11T13:00:00\", \"2020-05-11T14:00:00\", \"2020-05-11T15:00:00\", \"2020-05-11T16:00:00\", \"2020-05-11T17:00:00\", \"2020-05-11T18:00:00\", \"2020-05-11T19:00:00\", \"2020-05-11T20:00:00\", \"2020-05-11T21:00:00\", \"2020-05-11T22:00:00\", \"2020-05-11T23:00:00\"], \"y\": [0.5226391364218361, 0.5224033160669466, 0.5225769969519187, 0.5280026291552457, 0.5288726961135322, 0.5550797670538603, 0.5348122721136305, 0.5279853487242038, 0.5268384586190129, 0.5190812213460324, 0.525203944344641, 0.5341717372069709, 0.5415197173802433, 0.5240719561850864, 0.5382420047082004, 0.538255055936939, 0.5355865730131311]}, {\"line\": {\"shape\": \"spline\", \"smoothing\": 0.5}, \"marker\": {\"size\": 4}, \"mode\": \"lines+markers\", \"name\": \"45602\", \"type\": \"scatter\", \"x\": [\"2020-05-11T07:00:00\", \"2020-05-11T08:00:00\", \"2020-05-11T09:00:00\", \"2020-05-11T10:00:00\", \"2020-05-11T11:00:00\", \"2020-05-11T12:00:00\", \"2020-05-11T13:00:00\", \"2020-05-11T14:00:00\", \"2020-05-11T15:00:00\", \"2020-05-11T17:00:00\", \"2020-05-11T18:00:00\", \"2020-05-11T19:00:00\", \"2020-05-11T20:00:00\", \"2020-05-11T21:00:00\", \"2020-05-11T22:00:00\", \"2020-05-11T23:00:00\"], \"y\": [0.5276267094021365, 0.5303322624215189, 0.5246355818462489, 0.5304983546128631, 0.5335724068389913, 0.5544933888295303, 0.5515799222001262, 0.5386419424571595, 0.5281467432521275, 0.5250058025613689, 0.5378907498845781, 0.5477747577345924, 0.5322214709389828, 0.5444900377373751, 0.5375703774741593, 0.54241946591149]}, {\"line\": {\"shape\": \"spline\", \"smoothing\": 0.5}, \"marker\": {\"size\": 4}, \"mode\": \"lines+markers\", \"name\": \"8\", \"type\": \"scatter\", \"x\": [\"2020-05-11T07:00:00\", \"2020-05-11T08:00:00\", \"2020-05-11T09:00:00\", \"2020-05-11T10:00:00\", \"2020-05-11T11:00:00\", \"2020-05-11T12:00:00\", \"2020-05-11T13:00:00\", \"2020-05-11T14:00:00\", \"2020-05-11T15:00:00\", \"2020-05-11T16:00:00\", \"2020-05-11T17:00:00\", \"2020-05-11T18:00:00\", \"2020-05-11T19:00:00\", \"2020-05-11T20:00:00\", \"2020-05-11T21:00:00\", \"2020-05-11T22:00:00\", \"2020-05-11T23:00:00\"], \"y\": [0.5425282163431723, 0.530067319014261, 0.545555426940692, 0.5433880403928869, 0.5715121794644911, 0.5640529737124796, 0.5777375225391379, 0.5590381962291066, 0.5475941077853175, 0.5667276900994053, 0.5650227284103877, 0.5579595859898114, 0.5698046297772378, 0.5657713296951413, 0.563377738063209, 0.555859967185349, 0.5579228531223946]}, {\"line\": {\"shape\": \"spline\", \"smoothing\": 0.5}, \"marker\": {\"size\": 4}, \"mode\": \"lines+markers\", \"name\": \"456\", \"type\": \"scatter\", \"x\": [\"2020-05-11T07:00:00\", \"2020-05-11T08:00:00\", \"2020-05-11T09:00:00\", \"2020-05-11T10:00:00\", \"2020-05-11T11:00:00\", \"2020-05-11T12:00:00\", \"2020-05-11T13:00:00\", \"2020-05-11T14:00:00\", \"2020-05-11T15:00:00\", \"2020-05-11T16:00:00\", \"2020-05-11T17:00:00\", \"2020-05-11T18:00:00\", \"2020-05-11T19:00:00\", \"2020-05-11T20:00:00\", \"2020-05-11T21:00:00\", \"2020-05-11T22:00:00\", \"2020-05-11T23:00:00\"], \"y\": [0.5394729223357727, 0.5462085166670424, 0.5556020303150493, 0.5487948933329668, 0.5552606545075978, 0.5685562334664652, 0.5448630690713415, 0.5581325015957797, 0.5590490388974513, 0.5520721816634638, 0.562559083383043, 0.563591516779004, 0.5659677448532794, 0.5553758579640625, 0.5582514454490811, 0.5625055714908728, 0.5594875843123074]}],\n",
       "                        {\"hovermode\": \"x\", \"template\": {\"data\": {\"bar\": [{\"error_x\": {\"color\": \"#2a3f5f\"}, \"error_y\": {\"color\": \"#2a3f5f\"}, \"marker\": {\"line\": {\"color\": \"#E5ECF6\", \"width\": 0.5}}, \"type\": \"bar\"}], \"barpolar\": [{\"marker\": {\"line\": {\"color\": \"#E5ECF6\", \"width\": 0.5}}, \"type\": \"barpolar\"}], \"carpet\": [{\"aaxis\": {\"endlinecolor\": \"#2a3f5f\", \"gridcolor\": \"white\", \"linecolor\": \"white\", \"minorgridcolor\": \"white\", \"startlinecolor\": \"#2a3f5f\"}, \"baxis\": {\"endlinecolor\": \"#2a3f5f\", \"gridcolor\": \"white\", \"linecolor\": \"white\", \"minorgridcolor\": \"white\", \"startlinecolor\": \"#2a3f5f\"}, \"type\": \"carpet\"}], \"choropleth\": [{\"colorbar\": {\"outlinewidth\": 0, \"ticks\": \"\"}, \"type\": \"choropleth\"}], \"contour\": [{\"colorbar\": {\"outlinewidth\": 0, \"ticks\": \"\"}, \"colorscale\": [[0.0, \"#0d0887\"], [0.1111111111111111, \"#46039f\"], [0.2222222222222222, \"#7201a8\"], [0.3333333333333333, \"#9c179e\"], [0.4444444444444444, \"#bd3786\"], [0.5555555555555556, \"#d8576b\"], [0.6666666666666666, \"#ed7953\"], [0.7777777777777778, \"#fb9f3a\"], [0.8888888888888888, \"#fdca26\"], [1.0, \"#f0f921\"]], \"type\": \"contour\"}], \"contourcarpet\": [{\"colorbar\": {\"outlinewidth\": 0, \"ticks\": \"\"}, \"type\": \"contourcarpet\"}], \"heatmap\": [{\"colorbar\": {\"outlinewidth\": 0, \"ticks\": \"\"}, \"colorscale\": [[0.0, \"#0d0887\"], [0.1111111111111111, \"#46039f\"], [0.2222222222222222, \"#7201a8\"], [0.3333333333333333, \"#9c179e\"], [0.4444444444444444, \"#bd3786\"], [0.5555555555555556, \"#d8576b\"], [0.6666666666666666, \"#ed7953\"], [0.7777777777777778, \"#fb9f3a\"], [0.8888888888888888, \"#fdca26\"], [1.0, \"#f0f921\"]], \"type\": \"heatmap\"}], \"heatmapgl\": [{\"colorbar\": {\"outlinewidth\": 0, \"ticks\": \"\"}, \"colorscale\": [[0.0, \"#0d0887\"], [0.1111111111111111, \"#46039f\"], [0.2222222222222222, \"#7201a8\"], [0.3333333333333333, \"#9c179e\"], [0.4444444444444444, \"#bd3786\"], [0.5555555555555556, \"#d8576b\"], [0.6666666666666666, \"#ed7953\"], [0.7777777777777778, \"#fb9f3a\"], [0.8888888888888888, \"#fdca26\"], [1.0, \"#f0f921\"]], \"type\": \"heatmapgl\"}], \"histogram\": [{\"marker\": {\"colorbar\": {\"outlinewidth\": 0, \"ticks\": \"\"}}, \"type\": \"histogram\"}], \"histogram2d\": [{\"colorbar\": {\"outlinewidth\": 0, \"ticks\": \"\"}, \"colorscale\": [[0.0, \"#0d0887\"], [0.1111111111111111, \"#46039f\"], [0.2222222222222222, \"#7201a8\"], [0.3333333333333333, \"#9c179e\"], [0.4444444444444444, \"#bd3786\"], [0.5555555555555556, \"#d8576b\"], [0.6666666666666666, \"#ed7953\"], [0.7777777777777778, \"#fb9f3a\"], [0.8888888888888888, \"#fdca26\"], [1.0, \"#f0f921\"]], \"type\": \"histogram2d\"}], \"histogram2dcontour\": [{\"colorbar\": {\"outlinewidth\": 0, \"ticks\": \"\"}, \"colorscale\": [[0.0, \"#0d0887\"], [0.1111111111111111, \"#46039f\"], [0.2222222222222222, \"#7201a8\"], [0.3333333333333333, \"#9c179e\"], [0.4444444444444444, \"#bd3786\"], [0.5555555555555556, \"#d8576b\"], [0.6666666666666666, \"#ed7953\"], [0.7777777777777778, \"#fb9f3a\"], [0.8888888888888888, \"#fdca26\"], [1.0, \"#f0f921\"]], \"type\": \"histogram2dcontour\"}], \"mesh3d\": [{\"colorbar\": {\"outlinewidth\": 0, \"ticks\": \"\"}, \"type\": \"mesh3d\"}], \"parcoords\": [{\"line\": {\"colorbar\": {\"outlinewidth\": 0, \"ticks\": \"\"}}, \"type\": \"parcoords\"}], \"scatter\": [{\"marker\": {\"colorbar\": {\"outlinewidth\": 0, \"ticks\": \"\"}}, \"type\": \"scatter\"}], \"scatter3d\": [{\"line\": {\"colorbar\": {\"outlinewidth\": 0, \"ticks\": \"\"}}, \"marker\": {\"colorbar\": {\"outlinewidth\": 0, \"ticks\": \"\"}}, \"type\": \"scatter3d\"}], \"scattercarpet\": [{\"marker\": {\"colorbar\": {\"outlinewidth\": 0, \"ticks\": \"\"}}, \"type\": \"scattercarpet\"}], \"scattergeo\": [{\"marker\": {\"colorbar\": {\"outlinewidth\": 0, \"ticks\": \"\"}}, \"type\": \"scattergeo\"}], \"scattergl\": [{\"marker\": {\"colorbar\": {\"outlinewidth\": 0, \"ticks\": \"\"}}, \"type\": \"scattergl\"}], \"scattermapbox\": [{\"marker\": {\"colorbar\": {\"outlinewidth\": 0, \"ticks\": \"\"}}, \"type\": \"scattermapbox\"}], \"scatterpolar\": [{\"marker\": {\"colorbar\": {\"outlinewidth\": 0, \"ticks\": \"\"}}, \"type\": \"scatterpolar\"}], \"scatterpolargl\": [{\"marker\": {\"colorbar\": {\"outlinewidth\": 0, \"ticks\": \"\"}}, \"type\": \"scatterpolargl\"}], \"scatterternary\": [{\"marker\": {\"colorbar\": {\"outlinewidth\": 0, \"ticks\": \"\"}}, \"type\": \"scatterternary\"}], \"surface\": [{\"colorbar\": {\"outlinewidth\": 0, \"ticks\": \"\"}, \"colorscale\": [[0.0, \"#0d0887\"], [0.1111111111111111, \"#46039f\"], [0.2222222222222222, \"#7201a8\"], [0.3333333333333333, \"#9c179e\"], [0.4444444444444444, \"#bd3786\"], [0.5555555555555556, \"#d8576b\"], [0.6666666666666666, \"#ed7953\"], [0.7777777777777778, \"#fb9f3a\"], [0.8888888888888888, \"#fdca26\"], [1.0, \"#f0f921\"]], \"type\": \"surface\"}], \"table\": [{\"cells\": {\"fill\": {\"color\": \"#EBF0F8\"}, \"line\": {\"color\": \"white\"}}, \"header\": {\"fill\": {\"color\": \"#C8D4E3\"}, \"line\": {\"color\": \"white\"}}, \"type\": \"table\"}]}, \"layout\": {\"annotationdefaults\": {\"arrowcolor\": \"#2a3f5f\", \"arrowhead\": 0, \"arrowwidth\": 1}, \"colorscale\": {\"diverging\": [[0, \"#8e0152\"], [0.1, \"#c51b7d\"], [0.2, \"#de77ae\"], [0.3, \"#f1b6da\"], [0.4, \"#fde0ef\"], [0.5, \"#f7f7f7\"], [0.6, \"#e6f5d0\"], [0.7, \"#b8e186\"], [0.8, \"#7fbc41\"], [0.9, \"#4d9221\"], [1, \"#276419\"]], \"sequential\": [[0.0, \"#0d0887\"], [0.1111111111111111, \"#46039f\"], [0.2222222222222222, \"#7201a8\"], [0.3333333333333333, \"#9c179e\"], [0.4444444444444444, \"#bd3786\"], [0.5555555555555556, \"#d8576b\"], [0.6666666666666666, \"#ed7953\"], [0.7777777777777778, \"#fb9f3a\"], [0.8888888888888888, \"#fdca26\"], [1.0, \"#f0f921\"]], \"sequentialminus\": [[0.0, \"#0d0887\"], [0.1111111111111111, \"#46039f\"], [0.2222222222222222, \"#7201a8\"], [0.3333333333333333, \"#9c179e\"], [0.4444444444444444, \"#bd3786\"], [0.5555555555555556, \"#d8576b\"], [0.6666666666666666, \"#ed7953\"], [0.7777777777777778, \"#fb9f3a\"], [0.8888888888888888, \"#fdca26\"], [1.0, \"#f0f921\"]]}, \"colorway\": [\"#636efa\", \"#EF553B\", \"#00cc96\", \"#ab63fa\", \"#FFA15A\", \"#19d3f3\", \"#FF6692\", \"#B6E880\", \"#FF97FF\", \"#FECB52\"], \"font\": {\"color\": \"#2a3f5f\"}, \"geo\": {\"bgcolor\": \"white\", \"lakecolor\": \"white\", \"landcolor\": \"#E5ECF6\", \"showlakes\": true, \"showland\": true, \"subunitcolor\": \"white\"}, \"hoverlabel\": {\"align\": \"left\"}, \"hovermode\": \"closest\", \"mapbox\": {\"style\": \"light\"}, \"paper_bgcolor\": \"white\", \"plot_bgcolor\": \"#E5ECF6\", \"polar\": {\"angularaxis\": {\"gridcolor\": \"white\", \"linecolor\": \"white\", \"ticks\": \"\"}, \"bgcolor\": \"#E5ECF6\", \"radialaxis\": {\"gridcolor\": \"white\", \"linecolor\": \"white\", \"ticks\": \"\"}}, \"scene\": {\"xaxis\": {\"backgroundcolor\": \"#E5ECF6\", \"gridcolor\": \"white\", \"gridwidth\": 2, \"linecolor\": \"white\", \"showbackground\": true, \"ticks\": \"\", \"zerolinecolor\": \"white\"}, \"yaxis\": {\"backgroundcolor\": \"#E5ECF6\", \"gridcolor\": \"white\", \"gridwidth\": 2, \"linecolor\": \"white\", \"showbackground\": true, \"ticks\": \"\", \"zerolinecolor\": \"white\"}, \"zaxis\": {\"backgroundcolor\": \"#E5ECF6\", \"gridcolor\": \"white\", \"gridwidth\": 2, \"linecolor\": \"white\", \"showbackground\": true, \"ticks\": \"\", \"zerolinecolor\": \"white\"}}, \"shapedefaults\": {\"line\": {\"color\": \"#2a3f5f\"}}, \"ternary\": {\"aaxis\": {\"gridcolor\": \"white\", \"linecolor\": \"white\", \"ticks\": \"\"}, \"baxis\": {\"gridcolor\": \"white\", \"linecolor\": \"white\", \"ticks\": \"\"}, \"bgcolor\": \"#E5ECF6\", \"caxis\": {\"gridcolor\": \"white\", \"linecolor\": \"white\", \"ticks\": \"\"}}, \"title\": {\"x\": 0.05}, \"xaxis\": {\"automargin\": true, \"gridcolor\": \"white\", \"linecolor\": \"white\", \"ticks\": \"\", \"zerolinecolor\": \"white\", \"zerolinewidth\": 2}, \"yaxis\": {\"automargin\": true, \"gridcolor\": \"white\", \"linecolor\": \"white\", \"ticks\": \"\", \"zerolinecolor\": \"white\", \"zerolinewidth\": 2}}}, \"title\": {\"text\": \"group/auc2\"}, \"xaxis\": {\"type\": \"date\"}},\n",
       "                        {\"responsive\": true}\n",
       "                    ).then(function(){\n",
       "                            \n",
       "var gd = document.getElementById('7c23f565-b390-4541-b66b-b2585a507383');\n",
       "var x = new MutationObserver(function (mutations, observer) {{\n",
       "        var display = window.getComputedStyle(gd).display;\n",
       "        if (!display || display === 'none') {{\n",
       "            console.log([gd, 'removed!']);\n",
       "            Plotly.purge(gd);\n",
       "            observer.disconnect();\n",
       "        }}\n",
       "}});\n",
       "\n",
       "// Listen for the removal of the full notebook cells\n",
       "var notebookContainer = gd.closest('#notebook-container');\n",
       "if (notebookContainer) {{\n",
       "    x.observe(notebookContainer, {childList: true});\n",
       "}}\n",
       "\n",
       "// Listen for the clearing of the current output cell\n",
       "var outputEl = gd.closest('.output');\n",
       "if (outputEl) {{\n",
       "    x.observe(outputEl, {childList: true});\n",
       "}}\n",
       "\n",
       "                        })\n",
       "                };\n",
       "                });\n",
       "            </script>\n",
       "        </div>"
      ]
     },
     "metadata": {},
     "output_type": "display_data"
    },
    {
     "data": {
      "application/vnd.plotly.v1+json": {
       "config": {
        "linkText": "Export to plot.ly",
        "plotlyServerURL": "https://plot.ly",
        "showLink": false
       },
       "data": [
        {
         "line": {
          "shape": "spline",
          "smoothing": 0.5
         },
         "marker": {
          "size": 4
         },
         "mode": "lines+markers",
         "name": "15",
         "type": "scatter",
         "x": [
          "2020-05-11T07:00:00",
          "2020-05-11T08:00:00",
          "2020-05-11T09:00:00",
          "2020-05-11T10:00:00",
          "2020-05-11T11:00:00",
          "2020-05-11T12:00:00",
          "2020-05-11T13:00:00",
          "2020-05-11T14:00:00",
          "2020-05-11T15:00:00",
          "2020-05-11T16:00:00",
          "2020-05-11T17:00:00",
          "2020-05-11T18:00:00",
          "2020-05-11T19:00:00",
          "2020-05-11T20:00:00",
          "2020-05-11T21:00:00",
          "2020-05-11T22:00:00",
          "2020-05-11T23:00:00"
         ],
         "y": [
          0.4597644647947861,
          0.4440568999151422,
          0.417500633423388,
          0.423751778707764,
          0.43370712454065385,
          0.4885493700746117,
          0.4483240994300378,
          0.4211253208087464,
          0.427797828436011,
          0.4158062386785791,
          0.4209420991613873,
          0.4181878236451232,
          0.4000368891547815,
          0.4303842078525968,
          0.4501401715750207,
          0.4380190439074696,
          0.4273919714195854
         ]
        },
        {
         "line": {
          "shape": "spline",
          "smoothing": 0.5
         },
         "marker": {
          "size": 4
         },
         "mode": "lines+markers",
         "name": "45600",
         "type": "scatter",
         "x": [
          "2020-05-11T07:00:00",
          "2020-05-11T08:00:00",
          "2020-05-11T09:00:00",
          "2020-05-11T10:00:00",
          "2020-05-11T11:00:00",
          "2020-05-11T12:00:00",
          "2020-05-11T13:00:00",
          "2020-05-11T14:00:00",
          "2020-05-11T15:00:00",
          "2020-05-11T16:00:00",
          "2020-05-11T17:00:00",
          "2020-05-11T18:00:00",
          "2020-05-11T19:00:00",
          "2020-05-11T20:00:00",
          "2020-05-11T21:00:00",
          "2020-05-11T22:00:00",
          "2020-05-11T23:00:00"
         ],
         "y": [
          0.6042937125966305,
          0.6102140100791691,
          0.6153062768165762,
          0.6167642814091867,
          0.6334833983315615,
          0.6531636196990528,
          0.6166871337718429,
          0.6082812136776123,
          0.6338610745671474,
          0.6121838770951535,
          0.6149315971154533,
          0.6173612169817624,
          0.6101181214641083,
          0.6207061801890267,
          0.6234658825809598,
          0.609417294105256,
          0.6083048582514083
         ]
        },
        {
         "line": {
          "shape": "spline",
          "smoothing": 0.5
         },
         "marker": {
          "size": 4
         },
         "mode": "lines+markers",
         "name": "45601",
         "type": "scatter",
         "x": [
          "2020-05-11T07:00:00",
          "2020-05-11T08:00:00",
          "2020-05-11T09:00:00",
          "2020-05-11T10:00:00",
          "2020-05-11T11:00:00",
          "2020-05-11T12:00:00",
          "2020-05-11T13:00:00",
          "2020-05-11T14:00:00",
          "2020-05-11T15:00:00",
          "2020-05-11T16:00:00",
          "2020-05-11T17:00:00",
          "2020-05-11T18:00:00",
          "2020-05-11T19:00:00",
          "2020-05-11T20:00:00",
          "2020-05-11T21:00:00",
          "2020-05-11T22:00:00",
          "2020-05-11T23:00:00"
         ],
         "y": [
          0.6059043137767459,
          0.6043143291907629,
          0.5974972972631216,
          0.6147634171539919,
          0.6140797145019619,
          0.619976953638371,
          0.6139069697299702,
          0.6040929798000474,
          0.6131403179113988,
          0.6080636412920328,
          0.625996997096051,
          0.6112415482093772,
          0.6090155201454319,
          0.6075134389255318,
          0.6104052838024421,
          0.6009228677339433,
          0.6103068757153153
         ]
        },
        {
         "line": {
          "shape": "spline",
          "smoothing": 0.5
         },
         "marker": {
          "size": 4
         },
         "mode": "lines+markers",
         "name": "45602",
         "type": "scatter",
         "x": [
          "2020-05-11T07:00:00",
          "2020-05-11T08:00:00",
          "2020-05-11T09:00:00",
          "2020-05-11T10:00:00",
          "2020-05-11T11:00:00",
          "2020-05-11T12:00:00",
          "2020-05-11T13:00:00",
          "2020-05-11T14:00:00",
          "2020-05-11T15:00:00",
          "2020-05-11T17:00:00",
          "2020-05-11T18:00:00",
          "2020-05-11T19:00:00",
          "2020-05-11T20:00:00",
          "2020-05-11T21:00:00",
          "2020-05-11T22:00:00",
          "2020-05-11T23:00:00"
         ],
         "y": [
          0.6032091648019668,
          0.6033628350788259,
          0.6046375809219114,
          0.6180710518964145,
          0.622310288873454,
          0.6327808780502605,
          0.6052147185267882,
          0.6041617377714872,
          0.6228829852691841,
          0.6145008873531068,
          0.6214227181713379,
          0.6179329913342831,
          0.618188539132005,
          0.6172265058428575,
          0.6080107424743029,
          0.6078598272005815
         ]
        },
        {
         "line": {
          "shape": "spline",
          "smoothing": 0.5
         },
         "marker": {
          "size": 4
         },
         "mode": "lines+markers",
         "name": "8",
         "type": "scatter",
         "x": [
          "2020-05-11T07:00:00",
          "2020-05-11T08:00:00",
          "2020-05-11T09:00:00",
          "2020-05-11T10:00:00",
          "2020-05-11T11:00:00",
          "2020-05-11T12:00:00",
          "2020-05-11T13:00:00",
          "2020-05-11T14:00:00",
          "2020-05-11T15:00:00",
          "2020-05-11T16:00:00",
          "2020-05-11T17:00:00",
          "2020-05-11T18:00:00",
          "2020-05-11T19:00:00",
          "2020-05-11T20:00:00",
          "2020-05-11T21:00:00",
          "2020-05-11T22:00:00",
          "2020-05-11T23:00:00"
         ],
         "y": [
          0.4295500958966968,
          0.44016526554673785,
          0.4036049208803044,
          0.4354243781496264,
          0.42025789989853496,
          0.4333234743172632,
          0.4657959045687241,
          0.4181792235552608,
          0.4368505007383485,
          0.4739964580873671,
          0.4411715411172849,
          0.4240430835098431,
          0.4247271033279665,
          0.42740645222692175,
          0.4302709149832479,
          0.43476671249396,
          0.4391718936750458
         ]
        },
        {
         "line": {
          "shape": "spline",
          "smoothing": 0.5
         },
         "marker": {
          "size": 4
         },
         "mode": "lines+markers",
         "name": "456",
         "type": "scatter",
         "x": [
          "2020-05-11T07:00:00",
          "2020-05-11T08:00:00",
          "2020-05-11T09:00:00",
          "2020-05-11T10:00:00",
          "2020-05-11T11:00:00",
          "2020-05-11T12:00:00",
          "2020-05-11T13:00:00",
          "2020-05-11T14:00:00",
          "2020-05-11T15:00:00",
          "2020-05-11T16:00:00",
          "2020-05-11T17:00:00",
          "2020-05-11T18:00:00",
          "2020-05-11T19:00:00",
          "2020-05-11T20:00:00",
          "2020-05-11T21:00:00",
          "2020-05-11T22:00:00",
          "2020-05-11T23:00:00"
         ],
         "y": [
          0.44358997846082415,
          0.44116075190738935,
          0.4447458131123714,
          0.4417174717738432,
          0.4401346617315075,
          0.4537744725244725,
          0.4842368893568406,
          0.4420490837938211,
          0.44670446233794014,
          0.4489969634230503,
          0.4461587919667306,
          0.43199809063704975,
          0.44108029677204974,
          0.4393335020286608,
          0.4425427225906814,
          0.43821662709035136,
          0.4517920997024909
         ]
        }
       ],
       "layout": {
        "hovermode": "x",
        "template": {
         "data": {
          "bar": [
           {
            "error_x": {
             "color": "#2a3f5f"
            },
            "error_y": {
             "color": "#2a3f5f"
            },
            "marker": {
             "line": {
              "color": "#E5ECF6",
              "width": 0.5
             }
            },
            "type": "bar"
           }
          ],
          "barpolar": [
           {
            "marker": {
             "line": {
              "color": "#E5ECF6",
              "width": 0.5
             }
            },
            "type": "barpolar"
           }
          ],
          "carpet": [
           {
            "aaxis": {
             "endlinecolor": "#2a3f5f",
             "gridcolor": "white",
             "linecolor": "white",
             "minorgridcolor": "white",
             "startlinecolor": "#2a3f5f"
            },
            "baxis": {
             "endlinecolor": "#2a3f5f",
             "gridcolor": "white",
             "linecolor": "white",
             "minorgridcolor": "white",
             "startlinecolor": "#2a3f5f"
            },
            "type": "carpet"
           }
          ],
          "choropleth": [
           {
            "colorbar": {
             "outlinewidth": 0,
             "ticks": ""
            },
            "type": "choropleth"
           }
          ],
          "contour": [
           {
            "colorbar": {
             "outlinewidth": 0,
             "ticks": ""
            },
            "colorscale": [
             [
              0,
              "#0d0887"
             ],
             [
              0.1111111111111111,
              "#46039f"
             ],
             [
              0.2222222222222222,
              "#7201a8"
             ],
             [
              0.3333333333333333,
              "#9c179e"
             ],
             [
              0.4444444444444444,
              "#bd3786"
             ],
             [
              0.5555555555555556,
              "#d8576b"
             ],
             [
              0.6666666666666666,
              "#ed7953"
             ],
             [
              0.7777777777777778,
              "#fb9f3a"
             ],
             [
              0.8888888888888888,
              "#fdca26"
             ],
             [
              1,
              "#f0f921"
             ]
            ],
            "type": "contour"
           }
          ],
          "contourcarpet": [
           {
            "colorbar": {
             "outlinewidth": 0,
             "ticks": ""
            },
            "type": "contourcarpet"
           }
          ],
          "heatmap": [
           {
            "colorbar": {
             "outlinewidth": 0,
             "ticks": ""
            },
            "colorscale": [
             [
              0,
              "#0d0887"
             ],
             [
              0.1111111111111111,
              "#46039f"
             ],
             [
              0.2222222222222222,
              "#7201a8"
             ],
             [
              0.3333333333333333,
              "#9c179e"
             ],
             [
              0.4444444444444444,
              "#bd3786"
             ],
             [
              0.5555555555555556,
              "#d8576b"
             ],
             [
              0.6666666666666666,
              "#ed7953"
             ],
             [
              0.7777777777777778,
              "#fb9f3a"
             ],
             [
              0.8888888888888888,
              "#fdca26"
             ],
             [
              1,
              "#f0f921"
             ]
            ],
            "type": "heatmap"
           }
          ],
          "heatmapgl": [
           {
            "colorbar": {
             "outlinewidth": 0,
             "ticks": ""
            },
            "colorscale": [
             [
              0,
              "#0d0887"
             ],
             [
              0.1111111111111111,
              "#46039f"
             ],
             [
              0.2222222222222222,
              "#7201a8"
             ],
             [
              0.3333333333333333,
              "#9c179e"
             ],
             [
              0.4444444444444444,
              "#bd3786"
             ],
             [
              0.5555555555555556,
              "#d8576b"
             ],
             [
              0.6666666666666666,
              "#ed7953"
             ],
             [
              0.7777777777777778,
              "#fb9f3a"
             ],
             [
              0.8888888888888888,
              "#fdca26"
             ],
             [
              1,
              "#f0f921"
             ]
            ],
            "type": "heatmapgl"
           }
          ],
          "histogram": [
           {
            "marker": {
             "colorbar": {
              "outlinewidth": 0,
              "ticks": ""
             }
            },
            "type": "histogram"
           }
          ],
          "histogram2d": [
           {
            "colorbar": {
             "outlinewidth": 0,
             "ticks": ""
            },
            "colorscale": [
             [
              0,
              "#0d0887"
             ],
             [
              0.1111111111111111,
              "#46039f"
             ],
             [
              0.2222222222222222,
              "#7201a8"
             ],
             [
              0.3333333333333333,
              "#9c179e"
             ],
             [
              0.4444444444444444,
              "#bd3786"
             ],
             [
              0.5555555555555556,
              "#d8576b"
             ],
             [
              0.6666666666666666,
              "#ed7953"
             ],
             [
              0.7777777777777778,
              "#fb9f3a"
             ],
             [
              0.8888888888888888,
              "#fdca26"
             ],
             [
              1,
              "#f0f921"
             ]
            ],
            "type": "histogram2d"
           }
          ],
          "histogram2dcontour": [
           {
            "colorbar": {
             "outlinewidth": 0,
             "ticks": ""
            },
            "colorscale": [
             [
              0,
              "#0d0887"
             ],
             [
              0.1111111111111111,
              "#46039f"
             ],
             [
              0.2222222222222222,
              "#7201a8"
             ],
             [
              0.3333333333333333,
              "#9c179e"
             ],
             [
              0.4444444444444444,
              "#bd3786"
             ],
             [
              0.5555555555555556,
              "#d8576b"
             ],
             [
              0.6666666666666666,
              "#ed7953"
             ],
             [
              0.7777777777777778,
              "#fb9f3a"
             ],
             [
              0.8888888888888888,
              "#fdca26"
             ],
             [
              1,
              "#f0f921"
             ]
            ],
            "type": "histogram2dcontour"
           }
          ],
          "mesh3d": [
           {
            "colorbar": {
             "outlinewidth": 0,
             "ticks": ""
            },
            "type": "mesh3d"
           }
          ],
          "parcoords": [
           {
            "line": {
             "colorbar": {
              "outlinewidth": 0,
              "ticks": ""
             }
            },
            "type": "parcoords"
           }
          ],
          "scatter": [
           {
            "marker": {
             "colorbar": {
              "outlinewidth": 0,
              "ticks": ""
             }
            },
            "type": "scatter"
           }
          ],
          "scatter3d": [
           {
            "line": {
             "colorbar": {
              "outlinewidth": 0,
              "ticks": ""
             }
            },
            "marker": {
             "colorbar": {
              "outlinewidth": 0,
              "ticks": ""
             }
            },
            "type": "scatter3d"
           }
          ],
          "scattercarpet": [
           {
            "marker": {
             "colorbar": {
              "outlinewidth": 0,
              "ticks": ""
             }
            },
            "type": "scattercarpet"
           }
          ],
          "scattergeo": [
           {
            "marker": {
             "colorbar": {
              "outlinewidth": 0,
              "ticks": ""
             }
            },
            "type": "scattergeo"
           }
          ],
          "scattergl": [
           {
            "marker": {
             "colorbar": {
              "outlinewidth": 0,
              "ticks": ""
             }
            },
            "type": "scattergl"
           }
          ],
          "scattermapbox": [
           {
            "marker": {
             "colorbar": {
              "outlinewidth": 0,
              "ticks": ""
             }
            },
            "type": "scattermapbox"
           }
          ],
          "scatterpolar": [
           {
            "marker": {
             "colorbar": {
              "outlinewidth": 0,
              "ticks": ""
             }
            },
            "type": "scatterpolar"
           }
          ],
          "scatterpolargl": [
           {
            "marker": {
             "colorbar": {
              "outlinewidth": 0,
              "ticks": ""
             }
            },
            "type": "scatterpolargl"
           }
          ],
          "scatterternary": [
           {
            "marker": {
             "colorbar": {
              "outlinewidth": 0,
              "ticks": ""
             }
            },
            "type": "scatterternary"
           }
          ],
          "surface": [
           {
            "colorbar": {
             "outlinewidth": 0,
             "ticks": ""
            },
            "colorscale": [
             [
              0,
              "#0d0887"
             ],
             [
              0.1111111111111111,
              "#46039f"
             ],
             [
              0.2222222222222222,
              "#7201a8"
             ],
             [
              0.3333333333333333,
              "#9c179e"
             ],
             [
              0.4444444444444444,
              "#bd3786"
             ],
             [
              0.5555555555555556,
              "#d8576b"
             ],
             [
              0.6666666666666666,
              "#ed7953"
             ],
             [
              0.7777777777777778,
              "#fb9f3a"
             ],
             [
              0.8888888888888888,
              "#fdca26"
             ],
             [
              1,
              "#f0f921"
             ]
            ],
            "type": "surface"
           }
          ],
          "table": [
           {
            "cells": {
             "fill": {
              "color": "#EBF0F8"
             },
             "line": {
              "color": "white"
             }
            },
            "header": {
             "fill": {
              "color": "#C8D4E3"
             },
             "line": {
              "color": "white"
             }
            },
            "type": "table"
           }
          ]
         },
         "layout": {
          "annotationdefaults": {
           "arrowcolor": "#2a3f5f",
           "arrowhead": 0,
           "arrowwidth": 1
          },
          "colorscale": {
           "diverging": [
            [
             0,
             "#8e0152"
            ],
            [
             0.1,
             "#c51b7d"
            ],
            [
             0.2,
             "#de77ae"
            ],
            [
             0.3,
             "#f1b6da"
            ],
            [
             0.4,
             "#fde0ef"
            ],
            [
             0.5,
             "#f7f7f7"
            ],
            [
             0.6,
             "#e6f5d0"
            ],
            [
             0.7,
             "#b8e186"
            ],
            [
             0.8,
             "#7fbc41"
            ],
            [
             0.9,
             "#4d9221"
            ],
            [
             1,
             "#276419"
            ]
           ],
           "sequential": [
            [
             0,
             "#0d0887"
            ],
            [
             0.1111111111111111,
             "#46039f"
            ],
            [
             0.2222222222222222,
             "#7201a8"
            ],
            [
             0.3333333333333333,
             "#9c179e"
            ],
            [
             0.4444444444444444,
             "#bd3786"
            ],
            [
             0.5555555555555556,
             "#d8576b"
            ],
            [
             0.6666666666666666,
             "#ed7953"
            ],
            [
             0.7777777777777778,
             "#fb9f3a"
            ],
            [
             0.8888888888888888,
             "#fdca26"
            ],
            [
             1,
             "#f0f921"
            ]
           ],
           "sequentialminus": [
            [
             0,
             "#0d0887"
            ],
            [
             0.1111111111111111,
             "#46039f"
            ],
            [
             0.2222222222222222,
             "#7201a8"
            ],
            [
             0.3333333333333333,
             "#9c179e"
            ],
            [
             0.4444444444444444,
             "#bd3786"
            ],
            [
             0.5555555555555556,
             "#d8576b"
            ],
            [
             0.6666666666666666,
             "#ed7953"
            ],
            [
             0.7777777777777778,
             "#fb9f3a"
            ],
            [
             0.8888888888888888,
             "#fdca26"
            ],
            [
             1,
             "#f0f921"
            ]
           ]
          },
          "colorway": [
           "#636efa",
           "#EF553B",
           "#00cc96",
           "#ab63fa",
           "#FFA15A",
           "#19d3f3",
           "#FF6692",
           "#B6E880",
           "#FF97FF",
           "#FECB52"
          ],
          "font": {
           "color": "#2a3f5f"
          },
          "geo": {
           "bgcolor": "white",
           "lakecolor": "white",
           "landcolor": "#E5ECF6",
           "showlakes": true,
           "showland": true,
           "subunitcolor": "white"
          },
          "hoverlabel": {
           "align": "left"
          },
          "hovermode": "closest",
          "mapbox": {
           "style": "light"
          },
          "paper_bgcolor": "white",
          "plot_bgcolor": "#E5ECF6",
          "polar": {
           "angularaxis": {
            "gridcolor": "white",
            "linecolor": "white",
            "ticks": ""
           },
           "bgcolor": "#E5ECF6",
           "radialaxis": {
            "gridcolor": "white",
            "linecolor": "white",
            "ticks": ""
           }
          },
          "scene": {
           "xaxis": {
            "backgroundcolor": "#E5ECF6",
            "gridcolor": "white",
            "gridwidth": 2,
            "linecolor": "white",
            "showbackground": true,
            "ticks": "",
            "zerolinecolor": "white"
           },
           "yaxis": {
            "backgroundcolor": "#E5ECF6",
            "gridcolor": "white",
            "gridwidth": 2,
            "linecolor": "white",
            "showbackground": true,
            "ticks": "",
            "zerolinecolor": "white"
           },
           "zaxis": {
            "backgroundcolor": "#E5ECF6",
            "gridcolor": "white",
            "gridwidth": 2,
            "linecolor": "white",
            "showbackground": true,
            "ticks": "",
            "zerolinecolor": "white"
           }
          },
          "shapedefaults": {
           "line": {
            "color": "#2a3f5f"
           }
          },
          "ternary": {
           "aaxis": {
            "gridcolor": "white",
            "linecolor": "white",
            "ticks": ""
           },
           "baxis": {
            "gridcolor": "white",
            "linecolor": "white",
            "ticks": ""
           },
           "bgcolor": "#E5ECF6",
           "caxis": {
            "gridcolor": "white",
            "linecolor": "white",
            "ticks": ""
           }
          },
          "title": {
           "x": 0.05
          },
          "xaxis": {
           "automargin": true,
           "gridcolor": "white",
           "linecolor": "white",
           "ticks": "",
           "zerolinecolor": "white",
           "zerolinewidth": 2
          },
          "yaxis": {
           "automargin": true,
           "gridcolor": "white",
           "linecolor": "white",
           "ticks": "",
           "zerolinecolor": "white",
           "zerolinewidth": 2
          }
         }
        },
        "title": {
         "text": "group/click/time_auc"
        },
        "xaxis": {
         "type": "date"
        }
       }
      },
      "text/html": [
       "<div>\n",
       "        \n",
       "        \n",
       "            <div id=\"c3fd3736-223a-4595-9885-09e658ffc14a\" class=\"plotly-graph-div\" style=\"height:525px; width:100%;\"></div>\n",
       "            <script type=\"text/javascript\">\n",
       "                require([\"plotly\"], function(Plotly) {\n",
       "                    window.PLOTLYENV=window.PLOTLYENV || {};\n",
       "                    \n",
       "                if (document.getElementById(\"c3fd3736-223a-4595-9885-09e658ffc14a\")) {\n",
       "                    Plotly.newPlot(\n",
       "                        'c3fd3736-223a-4595-9885-09e658ffc14a',\n",
       "                        [{\"line\": {\"shape\": \"spline\", \"smoothing\": 0.5}, \"marker\": {\"size\": 4}, \"mode\": \"lines+markers\", \"name\": \"15\", \"type\": \"scatter\", \"x\": [\"2020-05-11T07:00:00\", \"2020-05-11T08:00:00\", \"2020-05-11T09:00:00\", \"2020-05-11T10:00:00\", \"2020-05-11T11:00:00\", \"2020-05-11T12:00:00\", \"2020-05-11T13:00:00\", \"2020-05-11T14:00:00\", \"2020-05-11T15:00:00\", \"2020-05-11T16:00:00\", \"2020-05-11T17:00:00\", \"2020-05-11T18:00:00\", \"2020-05-11T19:00:00\", \"2020-05-11T20:00:00\", \"2020-05-11T21:00:00\", \"2020-05-11T22:00:00\", \"2020-05-11T23:00:00\"], \"y\": [0.4597644647947861, 0.4440568999151422, 0.417500633423388, 0.423751778707764, 0.43370712454065385, 0.4885493700746117, 0.4483240994300378, 0.4211253208087464, 0.427797828436011, 0.4158062386785791, 0.4209420991613873, 0.4181878236451232, 0.4000368891547815, 0.4303842078525968, 0.4501401715750207, 0.4380190439074696, 0.4273919714195854]}, {\"line\": {\"shape\": \"spline\", \"smoothing\": 0.5}, \"marker\": {\"size\": 4}, \"mode\": \"lines+markers\", \"name\": \"45600\", \"type\": \"scatter\", \"x\": [\"2020-05-11T07:00:00\", \"2020-05-11T08:00:00\", \"2020-05-11T09:00:00\", \"2020-05-11T10:00:00\", \"2020-05-11T11:00:00\", \"2020-05-11T12:00:00\", \"2020-05-11T13:00:00\", \"2020-05-11T14:00:00\", \"2020-05-11T15:00:00\", \"2020-05-11T16:00:00\", \"2020-05-11T17:00:00\", \"2020-05-11T18:00:00\", \"2020-05-11T19:00:00\", \"2020-05-11T20:00:00\", \"2020-05-11T21:00:00\", \"2020-05-11T22:00:00\", \"2020-05-11T23:00:00\"], \"y\": [0.6042937125966305, 0.6102140100791691, 0.6153062768165762, 0.6167642814091867, 0.6334833983315615, 0.6531636196990528, 0.6166871337718429, 0.6082812136776123, 0.6338610745671474, 0.6121838770951535, 0.6149315971154533, 0.6173612169817624, 0.6101181214641083, 0.6207061801890267, 0.6234658825809598, 0.609417294105256, 0.6083048582514083]}, {\"line\": {\"shape\": \"spline\", \"smoothing\": 0.5}, \"marker\": {\"size\": 4}, \"mode\": \"lines+markers\", \"name\": \"45601\", \"type\": \"scatter\", \"x\": [\"2020-05-11T07:00:00\", \"2020-05-11T08:00:00\", \"2020-05-11T09:00:00\", \"2020-05-11T10:00:00\", \"2020-05-11T11:00:00\", \"2020-05-11T12:00:00\", \"2020-05-11T13:00:00\", \"2020-05-11T14:00:00\", \"2020-05-11T15:00:00\", \"2020-05-11T16:00:00\", \"2020-05-11T17:00:00\", \"2020-05-11T18:00:00\", \"2020-05-11T19:00:00\", \"2020-05-11T20:00:00\", \"2020-05-11T21:00:00\", \"2020-05-11T22:00:00\", \"2020-05-11T23:00:00\"], \"y\": [0.6059043137767459, 0.6043143291907629, 0.5974972972631216, 0.6147634171539919, 0.6140797145019619, 0.619976953638371, 0.6139069697299702, 0.6040929798000474, 0.6131403179113988, 0.6080636412920328, 0.625996997096051, 0.6112415482093772, 0.6090155201454319, 0.6075134389255318, 0.6104052838024421, 0.6009228677339433, 0.6103068757153153]}, {\"line\": {\"shape\": \"spline\", \"smoothing\": 0.5}, \"marker\": {\"size\": 4}, \"mode\": \"lines+markers\", \"name\": \"45602\", \"type\": \"scatter\", \"x\": [\"2020-05-11T07:00:00\", \"2020-05-11T08:00:00\", \"2020-05-11T09:00:00\", \"2020-05-11T10:00:00\", \"2020-05-11T11:00:00\", \"2020-05-11T12:00:00\", \"2020-05-11T13:00:00\", \"2020-05-11T14:00:00\", \"2020-05-11T15:00:00\", \"2020-05-11T17:00:00\", \"2020-05-11T18:00:00\", \"2020-05-11T19:00:00\", \"2020-05-11T20:00:00\", \"2020-05-11T21:00:00\", \"2020-05-11T22:00:00\", \"2020-05-11T23:00:00\"], \"y\": [0.6032091648019668, 0.6033628350788259, 0.6046375809219114, 0.6180710518964145, 0.622310288873454, 0.6327808780502605, 0.6052147185267882, 0.6041617377714872, 0.6228829852691841, 0.6145008873531068, 0.6214227181713379, 0.6179329913342831, 0.618188539132005, 0.6172265058428575, 0.6080107424743029, 0.6078598272005815]}, {\"line\": {\"shape\": \"spline\", \"smoothing\": 0.5}, \"marker\": {\"size\": 4}, \"mode\": \"lines+markers\", \"name\": \"8\", \"type\": \"scatter\", \"x\": [\"2020-05-11T07:00:00\", \"2020-05-11T08:00:00\", \"2020-05-11T09:00:00\", \"2020-05-11T10:00:00\", \"2020-05-11T11:00:00\", \"2020-05-11T12:00:00\", \"2020-05-11T13:00:00\", \"2020-05-11T14:00:00\", \"2020-05-11T15:00:00\", \"2020-05-11T16:00:00\", \"2020-05-11T17:00:00\", \"2020-05-11T18:00:00\", \"2020-05-11T19:00:00\", \"2020-05-11T20:00:00\", \"2020-05-11T21:00:00\", \"2020-05-11T22:00:00\", \"2020-05-11T23:00:00\"], \"y\": [0.4295500958966968, 0.44016526554673785, 0.4036049208803044, 0.4354243781496264, 0.42025789989853496, 0.4333234743172632, 0.4657959045687241, 0.4181792235552608, 0.4368505007383485, 0.4739964580873671, 0.4411715411172849, 0.4240430835098431, 0.4247271033279665, 0.42740645222692175, 0.4302709149832479, 0.43476671249396, 0.4391718936750458]}, {\"line\": {\"shape\": \"spline\", \"smoothing\": 0.5}, \"marker\": {\"size\": 4}, \"mode\": \"lines+markers\", \"name\": \"456\", \"type\": \"scatter\", \"x\": [\"2020-05-11T07:00:00\", \"2020-05-11T08:00:00\", \"2020-05-11T09:00:00\", \"2020-05-11T10:00:00\", \"2020-05-11T11:00:00\", \"2020-05-11T12:00:00\", \"2020-05-11T13:00:00\", \"2020-05-11T14:00:00\", \"2020-05-11T15:00:00\", \"2020-05-11T16:00:00\", \"2020-05-11T17:00:00\", \"2020-05-11T18:00:00\", \"2020-05-11T19:00:00\", \"2020-05-11T20:00:00\", \"2020-05-11T21:00:00\", \"2020-05-11T22:00:00\", \"2020-05-11T23:00:00\"], \"y\": [0.44358997846082415, 0.44116075190738935, 0.4447458131123714, 0.4417174717738432, 0.4401346617315075, 0.4537744725244725, 0.4842368893568406, 0.4420490837938211, 0.44670446233794014, 0.4489969634230503, 0.4461587919667306, 0.43199809063704975, 0.44108029677204974, 0.4393335020286608, 0.4425427225906814, 0.43821662709035136, 0.4517920997024909]}],\n",
       "                        {\"hovermode\": \"x\", \"template\": {\"data\": {\"bar\": [{\"error_x\": {\"color\": \"#2a3f5f\"}, \"error_y\": {\"color\": \"#2a3f5f\"}, \"marker\": {\"line\": {\"color\": \"#E5ECF6\", \"width\": 0.5}}, \"type\": \"bar\"}], \"barpolar\": [{\"marker\": {\"line\": {\"color\": \"#E5ECF6\", \"width\": 0.5}}, \"type\": \"barpolar\"}], \"carpet\": [{\"aaxis\": {\"endlinecolor\": \"#2a3f5f\", \"gridcolor\": \"white\", \"linecolor\": \"white\", \"minorgridcolor\": \"white\", \"startlinecolor\": \"#2a3f5f\"}, \"baxis\": {\"endlinecolor\": \"#2a3f5f\", \"gridcolor\": \"white\", \"linecolor\": \"white\", \"minorgridcolor\": \"white\", \"startlinecolor\": \"#2a3f5f\"}, \"type\": \"carpet\"}], \"choropleth\": [{\"colorbar\": {\"outlinewidth\": 0, \"ticks\": \"\"}, \"type\": \"choropleth\"}], \"contour\": [{\"colorbar\": {\"outlinewidth\": 0, \"ticks\": \"\"}, \"colorscale\": [[0.0, \"#0d0887\"], [0.1111111111111111, \"#46039f\"], [0.2222222222222222, \"#7201a8\"], [0.3333333333333333, \"#9c179e\"], [0.4444444444444444, \"#bd3786\"], [0.5555555555555556, \"#d8576b\"], [0.6666666666666666, \"#ed7953\"], [0.7777777777777778, \"#fb9f3a\"], [0.8888888888888888, \"#fdca26\"], [1.0, \"#f0f921\"]], \"type\": \"contour\"}], \"contourcarpet\": [{\"colorbar\": {\"outlinewidth\": 0, \"ticks\": \"\"}, \"type\": \"contourcarpet\"}], \"heatmap\": [{\"colorbar\": {\"outlinewidth\": 0, \"ticks\": \"\"}, \"colorscale\": [[0.0, \"#0d0887\"], [0.1111111111111111, \"#46039f\"], [0.2222222222222222, \"#7201a8\"], [0.3333333333333333, \"#9c179e\"], [0.4444444444444444, \"#bd3786\"], [0.5555555555555556, \"#d8576b\"], [0.6666666666666666, \"#ed7953\"], [0.7777777777777778, \"#fb9f3a\"], [0.8888888888888888, \"#fdca26\"], [1.0, \"#f0f921\"]], \"type\": \"heatmap\"}], \"heatmapgl\": [{\"colorbar\": {\"outlinewidth\": 0, \"ticks\": \"\"}, \"colorscale\": [[0.0, \"#0d0887\"], [0.1111111111111111, \"#46039f\"], [0.2222222222222222, \"#7201a8\"], [0.3333333333333333, \"#9c179e\"], [0.4444444444444444, \"#bd3786\"], [0.5555555555555556, \"#d8576b\"], [0.6666666666666666, \"#ed7953\"], [0.7777777777777778, \"#fb9f3a\"], [0.8888888888888888, \"#fdca26\"], [1.0, \"#f0f921\"]], \"type\": \"heatmapgl\"}], \"histogram\": [{\"marker\": {\"colorbar\": {\"outlinewidth\": 0, \"ticks\": \"\"}}, \"type\": \"histogram\"}], \"histogram2d\": [{\"colorbar\": {\"outlinewidth\": 0, \"ticks\": \"\"}, \"colorscale\": [[0.0, \"#0d0887\"], [0.1111111111111111, \"#46039f\"], [0.2222222222222222, \"#7201a8\"], [0.3333333333333333, \"#9c179e\"], [0.4444444444444444, \"#bd3786\"], [0.5555555555555556, \"#d8576b\"], [0.6666666666666666, \"#ed7953\"], [0.7777777777777778, \"#fb9f3a\"], [0.8888888888888888, \"#fdca26\"], [1.0, \"#f0f921\"]], \"type\": \"histogram2d\"}], \"histogram2dcontour\": [{\"colorbar\": {\"outlinewidth\": 0, \"ticks\": \"\"}, \"colorscale\": [[0.0, \"#0d0887\"], [0.1111111111111111, \"#46039f\"], [0.2222222222222222, \"#7201a8\"], [0.3333333333333333, \"#9c179e\"], [0.4444444444444444, \"#bd3786\"], [0.5555555555555556, \"#d8576b\"], [0.6666666666666666, \"#ed7953\"], [0.7777777777777778, \"#fb9f3a\"], [0.8888888888888888, \"#fdca26\"], [1.0, \"#f0f921\"]], \"type\": \"histogram2dcontour\"}], \"mesh3d\": [{\"colorbar\": {\"outlinewidth\": 0, \"ticks\": \"\"}, \"type\": \"mesh3d\"}], \"parcoords\": [{\"line\": {\"colorbar\": {\"outlinewidth\": 0, \"ticks\": \"\"}}, \"type\": \"parcoords\"}], \"scatter\": [{\"marker\": {\"colorbar\": {\"outlinewidth\": 0, \"ticks\": \"\"}}, \"type\": \"scatter\"}], \"scatter3d\": [{\"line\": {\"colorbar\": {\"outlinewidth\": 0, \"ticks\": \"\"}}, \"marker\": {\"colorbar\": {\"outlinewidth\": 0, \"ticks\": \"\"}}, \"type\": \"scatter3d\"}], \"scattercarpet\": [{\"marker\": {\"colorbar\": {\"outlinewidth\": 0, \"ticks\": \"\"}}, \"type\": \"scattercarpet\"}], \"scattergeo\": [{\"marker\": {\"colorbar\": {\"outlinewidth\": 0, \"ticks\": \"\"}}, \"type\": \"scattergeo\"}], \"scattergl\": [{\"marker\": {\"colorbar\": {\"outlinewidth\": 0, \"ticks\": \"\"}}, \"type\": \"scattergl\"}], \"scattermapbox\": [{\"marker\": {\"colorbar\": {\"outlinewidth\": 0, \"ticks\": \"\"}}, \"type\": \"scattermapbox\"}], \"scatterpolar\": [{\"marker\": {\"colorbar\": {\"outlinewidth\": 0, \"ticks\": \"\"}}, \"type\": \"scatterpolar\"}], \"scatterpolargl\": [{\"marker\": {\"colorbar\": {\"outlinewidth\": 0, \"ticks\": \"\"}}, \"type\": \"scatterpolargl\"}], \"scatterternary\": [{\"marker\": {\"colorbar\": {\"outlinewidth\": 0, \"ticks\": \"\"}}, \"type\": \"scatterternary\"}], \"surface\": [{\"colorbar\": {\"outlinewidth\": 0, \"ticks\": \"\"}, \"colorscale\": [[0.0, \"#0d0887\"], [0.1111111111111111, \"#46039f\"], [0.2222222222222222, \"#7201a8\"], [0.3333333333333333, \"#9c179e\"], [0.4444444444444444, \"#bd3786\"], [0.5555555555555556, \"#d8576b\"], [0.6666666666666666, \"#ed7953\"], [0.7777777777777778, \"#fb9f3a\"], [0.8888888888888888, \"#fdca26\"], [1.0, \"#f0f921\"]], \"type\": \"surface\"}], \"table\": [{\"cells\": {\"fill\": {\"color\": \"#EBF0F8\"}, \"line\": {\"color\": \"white\"}}, \"header\": {\"fill\": {\"color\": \"#C8D4E3\"}, \"line\": {\"color\": \"white\"}}, \"type\": \"table\"}]}, \"layout\": {\"annotationdefaults\": {\"arrowcolor\": \"#2a3f5f\", \"arrowhead\": 0, \"arrowwidth\": 1}, \"colorscale\": {\"diverging\": [[0, \"#8e0152\"], [0.1, \"#c51b7d\"], [0.2, \"#de77ae\"], [0.3, \"#f1b6da\"], [0.4, \"#fde0ef\"], [0.5, \"#f7f7f7\"], [0.6, \"#e6f5d0\"], [0.7, \"#b8e186\"], [0.8, \"#7fbc41\"], [0.9, \"#4d9221\"], [1, \"#276419\"]], \"sequential\": [[0.0, \"#0d0887\"], [0.1111111111111111, \"#46039f\"], [0.2222222222222222, \"#7201a8\"], [0.3333333333333333, \"#9c179e\"], [0.4444444444444444, \"#bd3786\"], [0.5555555555555556, \"#d8576b\"], [0.6666666666666666, \"#ed7953\"], [0.7777777777777778, \"#fb9f3a\"], [0.8888888888888888, \"#fdca26\"], [1.0, \"#f0f921\"]], \"sequentialminus\": [[0.0, \"#0d0887\"], [0.1111111111111111, \"#46039f\"], [0.2222222222222222, \"#7201a8\"], [0.3333333333333333, \"#9c179e\"], [0.4444444444444444, \"#bd3786\"], [0.5555555555555556, \"#d8576b\"], [0.6666666666666666, \"#ed7953\"], [0.7777777777777778, \"#fb9f3a\"], [0.8888888888888888, \"#fdca26\"], [1.0, \"#f0f921\"]]}, \"colorway\": [\"#636efa\", \"#EF553B\", \"#00cc96\", \"#ab63fa\", \"#FFA15A\", \"#19d3f3\", \"#FF6692\", \"#B6E880\", \"#FF97FF\", \"#FECB52\"], \"font\": {\"color\": \"#2a3f5f\"}, \"geo\": {\"bgcolor\": \"white\", \"lakecolor\": \"white\", \"landcolor\": \"#E5ECF6\", \"showlakes\": true, \"showland\": true, \"subunitcolor\": \"white\"}, \"hoverlabel\": {\"align\": \"left\"}, \"hovermode\": \"closest\", \"mapbox\": {\"style\": \"light\"}, \"paper_bgcolor\": \"white\", \"plot_bgcolor\": \"#E5ECF6\", \"polar\": {\"angularaxis\": {\"gridcolor\": \"white\", \"linecolor\": \"white\", \"ticks\": \"\"}, \"bgcolor\": \"#E5ECF6\", \"radialaxis\": {\"gridcolor\": \"white\", \"linecolor\": \"white\", \"ticks\": \"\"}}, \"scene\": {\"xaxis\": {\"backgroundcolor\": \"#E5ECF6\", \"gridcolor\": \"white\", \"gridwidth\": 2, \"linecolor\": \"white\", \"showbackground\": true, \"ticks\": \"\", \"zerolinecolor\": \"white\"}, \"yaxis\": {\"backgroundcolor\": \"#E5ECF6\", \"gridcolor\": \"white\", \"gridwidth\": 2, \"linecolor\": \"white\", \"showbackground\": true, \"ticks\": \"\", \"zerolinecolor\": \"white\"}, \"zaxis\": {\"backgroundcolor\": \"#E5ECF6\", \"gridcolor\": \"white\", \"gridwidth\": 2, \"linecolor\": \"white\", \"showbackground\": true, \"ticks\": \"\", \"zerolinecolor\": \"white\"}}, \"shapedefaults\": {\"line\": {\"color\": \"#2a3f5f\"}}, \"ternary\": {\"aaxis\": {\"gridcolor\": \"white\", \"linecolor\": \"white\", \"ticks\": \"\"}, \"baxis\": {\"gridcolor\": \"white\", \"linecolor\": \"white\", \"ticks\": \"\"}, \"bgcolor\": \"#E5ECF6\", \"caxis\": {\"gridcolor\": \"white\", \"linecolor\": \"white\", \"ticks\": \"\"}}, \"title\": {\"x\": 0.05}, \"xaxis\": {\"automargin\": true, \"gridcolor\": \"white\", \"linecolor\": \"white\", \"ticks\": \"\", \"zerolinecolor\": \"white\", \"zerolinewidth\": 2}, \"yaxis\": {\"automargin\": true, \"gridcolor\": \"white\", \"linecolor\": \"white\", \"ticks\": \"\", \"zerolinecolor\": \"white\", \"zerolinewidth\": 2}}}, \"title\": {\"text\": \"group/click/time_auc\"}, \"xaxis\": {\"type\": \"date\"}},\n",
       "                        {\"responsive\": true}\n",
       "                    ).then(function(){\n",
       "                            \n",
       "var gd = document.getElementById('c3fd3736-223a-4595-9885-09e658ffc14a');\n",
       "var x = new MutationObserver(function (mutations, observer) {{\n",
       "        var display = window.getComputedStyle(gd).display;\n",
       "        if (!display || display === 'none') {{\n",
       "            console.log([gd, 'removed!']);\n",
       "            Plotly.purge(gd);\n",
       "            observer.disconnect();\n",
       "        }}\n",
       "}});\n",
       "\n",
       "// Listen for the removal of the full notebook cells\n",
       "var notebookContainer = gd.closest('#notebook-container');\n",
       "if (notebookContainer) {{\n",
       "    x.observe(notebookContainer, {childList: true});\n",
       "}}\n",
       "\n",
       "// Listen for the clearing of the current output cell\n",
       "var outputEl = gd.closest('.output');\n",
       "if (outputEl) {{\n",
       "    x.observe(outputEl, {childList: true});\n",
       "}}\n",
       "\n",
       "                        })\n",
       "                };\n",
       "                });\n",
       "            </script>\n",
       "        </div>"
      ]
     },
     "metadata": {},
     "output_type": "display_data"
    },
    {
     "data": {
      "application/vnd.plotly.v1+json": {
       "config": {
        "linkText": "Export to plot.ly",
        "plotlyServerURL": "https://plot.ly",
        "showLink": false
       },
       "data": [
        {
         "line": {
          "shape": "spline",
          "smoothing": 0.5
         },
         "marker": {
          "size": 4
         },
         "mode": "lines+markers",
         "name": "15",
         "type": "scatter",
         "x": [
          "2020-05-11T07:00:00",
          "2020-05-11T08:00:00",
          "2020-05-11T09:00:00",
          "2020-05-11T10:00:00",
          "2020-05-11T11:00:00",
          "2020-05-11T12:00:00",
          "2020-05-11T13:00:00",
          "2020-05-11T14:00:00",
          "2020-05-11T15:00:00",
          "2020-05-11T16:00:00",
          "2020-05-11T17:00:00",
          "2020-05-11T18:00:00",
          "2020-05-11T19:00:00",
          "2020-05-11T20:00:00",
          "2020-05-11T21:00:00",
          "2020-05-11T22:00:00",
          "2020-05-11T23:00:00"
         ],
         "y": [
          0.5624401239114175,
          0.536853331207721,
          0.5663591980423017,
          0.5547139062918183,
          0.5506254451397271,
          0.6389171366091912,
          0.618336040695358,
          0.5808337805873768,
          0.5608691521901131,
          0.5969576831660828,
          0.5570677541521046,
          0.5719623091242061,
          0.5616001979098139,
          0.5666679249492962,
          0.5420673508423433,
          0.5468853768018852,
          0.5470408676591106
         ]
        },
        {
         "line": {
          "shape": "spline",
          "smoothing": 0.5
         },
         "marker": {
          "size": 4
         },
         "mode": "lines+markers",
         "name": "45600",
         "type": "scatter",
         "x": [
          "2020-05-11T07:00:00",
          "2020-05-11T08:00:00",
          "2020-05-11T09:00:00",
          "2020-05-11T10:00:00",
          "2020-05-11T11:00:00",
          "2020-05-11T12:00:00",
          "2020-05-11T13:00:00",
          "2020-05-11T14:00:00",
          "2020-05-11T15:00:00",
          "2020-05-11T16:00:00",
          "2020-05-11T17:00:00",
          "2020-05-11T18:00:00",
          "2020-05-11T19:00:00",
          "2020-05-11T20:00:00",
          "2020-05-11T21:00:00",
          "2020-05-11T22:00:00",
          "2020-05-11T23:00:00"
         ],
         "y": [
          0.5348405483472076,
          0.5287263081582435,
          0.5321113743897342,
          0.5265007343909167,
          0.536520095413632,
          0.6151738626491767,
          0.57258248407081,
          0.5355856369542619,
          0.5238940945954754,
          0.5639712828309775,
          0.5208601409680547,
          0.5368808742928101,
          0.535314694328486,
          0.5230553948415192,
          0.5152416973215992,
          0.5089970685343128,
          0.5050646132823022
         ]
        },
        {
         "line": {
          "shape": "spline",
          "smoothing": 0.5
         },
         "marker": {
          "size": 4
         },
         "mode": "lines+markers",
         "name": "45601",
         "type": "scatter",
         "x": [
          "2020-05-11T07:00:00",
          "2020-05-11T08:00:00",
          "2020-05-11T09:00:00",
          "2020-05-11T10:00:00",
          "2020-05-11T11:00:00",
          "2020-05-11T12:00:00",
          "2020-05-11T13:00:00",
          "2020-05-11T14:00:00",
          "2020-05-11T15:00:00",
          "2020-05-11T16:00:00",
          "2020-05-11T17:00:00",
          "2020-05-11T18:00:00",
          "2020-05-11T19:00:00",
          "2020-05-11T20:00:00",
          "2020-05-11T21:00:00",
          "2020-05-11T22:00:00",
          "2020-05-11T23:00:00"
         ],
         "y": [
          0.5378518352991625,
          0.5395320718079192,
          0.5343854656920203,
          0.5309453235427734,
          0.5398945148582602,
          0.6220668467497645,
          0.5685212136477872,
          0.5370352216006742,
          0.5285891119380247,
          0.5679480850335284,
          0.5218538085736469,
          0.5328098779756731,
          0.5424778183123578,
          0.5265792879557767,
          0.5202664208287935,
          0.5130832335699265,
          0.5075169478646697
         ]
        },
        {
         "line": {
          "shape": "spline",
          "smoothing": 0.5
         },
         "marker": {
          "size": 4
         },
         "mode": "lines+markers",
         "name": "45602",
         "type": "scatter",
         "x": [
          "2020-05-11T07:00:00",
          "2020-05-11T08:00:00",
          "2020-05-11T09:00:00",
          "2020-05-11T10:00:00",
          "2020-05-11T11:00:00",
          "2020-05-11T12:00:00",
          "2020-05-11T13:00:00",
          "2020-05-11T14:00:00",
          "2020-05-11T15:00:00",
          "2020-05-11T17:00:00",
          "2020-05-11T18:00:00",
          "2020-05-11T19:00:00",
          "2020-05-11T20:00:00",
          "2020-05-11T21:00:00",
          "2020-05-11T22:00:00",
          "2020-05-11T23:00:00"
         ],
         "y": [
          0.5396151858500631,
          0.5418602602315927,
          0.536589063065276,
          0.5291397954393968,
          0.5436941638784725,
          0.6141602563425927,
          0.5864989565161812,
          0.5452158238778716,
          0.5326853768789455,
          0.5244733106571503,
          0.5392162778142268,
          0.5412762705215071,
          0.534264543328677,
          0.5236376234430615,
          0.5139761814393722,
          0.5138700338367388
         ]
        },
        {
         "line": {
          "shape": "spline",
          "smoothing": 0.5
         },
         "marker": {
          "size": 4
         },
         "mode": "lines+markers",
         "name": "8",
         "type": "scatter",
         "x": [
          "2020-05-11T07:00:00",
          "2020-05-11T08:00:00",
          "2020-05-11T09:00:00",
          "2020-05-11T10:00:00",
          "2020-05-11T11:00:00",
          "2020-05-11T12:00:00",
          "2020-05-11T13:00:00",
          "2020-05-11T14:00:00",
          "2020-05-11T15:00:00",
          "2020-05-11T16:00:00",
          "2020-05-11T17:00:00",
          "2020-05-11T18:00:00",
          "2020-05-11T19:00:00",
          "2020-05-11T20:00:00",
          "2020-05-11T21:00:00",
          "2020-05-11T22:00:00",
          "2020-05-11T23:00:00"
         ],
         "y": [
          0.5641080308456101,
          0.5486737674619009,
          0.5507032765707043,
          0.5596250037391441,
          0.5814262032747629,
          0.6274561285930502,
          0.6063316926692298,
          0.5639551441444294,
          0.5575463421668597,
          0.6165721742092575,
          0.5674206044287795,
          0.5714227641164314,
          0.5614071438164864,
          0.5699230894562626,
          0.5480927684404909,
          0.5353630534382832,
          0.5426964183557472
         ]
        },
        {
         "line": {
          "shape": "spline",
          "smoothing": 0.5
         },
         "marker": {
          "size": 4
         },
         "mode": "lines+markers",
         "name": "456",
         "type": "scatter",
         "x": [
          "2020-05-11T07:00:00",
          "2020-05-11T08:00:00",
          "2020-05-11T09:00:00",
          "2020-05-11T10:00:00",
          "2020-05-11T11:00:00",
          "2020-05-11T12:00:00",
          "2020-05-11T13:00:00",
          "2020-05-11T14:00:00",
          "2020-05-11T15:00:00",
          "2020-05-11T16:00:00",
          "2020-05-11T17:00:00",
          "2020-05-11T18:00:00",
          "2020-05-11T19:00:00",
          "2020-05-11T20:00:00",
          "2020-05-11T21:00:00",
          "2020-05-11T22:00:00",
          "2020-05-11T23:00:00"
         ],
         "y": [
          0.5526388574688305,
          0.5550388632024341,
          0.5591045299055142,
          0.5494068395390755,
          0.5558273944545216,
          0.6305608492446895,
          0.5810570307559384,
          0.5656266259262308,
          0.556402588898293,
          0.5919685233212111,
          0.5549606422741649,
          0.5632890919138674,
          0.5632803713950497,
          0.5591871621407906,
          0.5455734849789015,
          0.5402949650379906,
          0.5339252911301957
         ]
        }
       ],
       "layout": {
        "hovermode": "x",
        "template": {
         "data": {
          "bar": [
           {
            "error_x": {
             "color": "#2a3f5f"
            },
            "error_y": {
             "color": "#2a3f5f"
            },
            "marker": {
             "line": {
              "color": "#E5ECF6",
              "width": 0.5
             }
            },
            "type": "bar"
           }
          ],
          "barpolar": [
           {
            "marker": {
             "line": {
              "color": "#E5ECF6",
              "width": 0.5
             }
            },
            "type": "barpolar"
           }
          ],
          "carpet": [
           {
            "aaxis": {
             "endlinecolor": "#2a3f5f",
             "gridcolor": "white",
             "linecolor": "white",
             "minorgridcolor": "white",
             "startlinecolor": "#2a3f5f"
            },
            "baxis": {
             "endlinecolor": "#2a3f5f",
             "gridcolor": "white",
             "linecolor": "white",
             "minorgridcolor": "white",
             "startlinecolor": "#2a3f5f"
            },
            "type": "carpet"
           }
          ],
          "choropleth": [
           {
            "colorbar": {
             "outlinewidth": 0,
             "ticks": ""
            },
            "type": "choropleth"
           }
          ],
          "contour": [
           {
            "colorbar": {
             "outlinewidth": 0,
             "ticks": ""
            },
            "colorscale": [
             [
              0,
              "#0d0887"
             ],
             [
              0.1111111111111111,
              "#46039f"
             ],
             [
              0.2222222222222222,
              "#7201a8"
             ],
             [
              0.3333333333333333,
              "#9c179e"
             ],
             [
              0.4444444444444444,
              "#bd3786"
             ],
             [
              0.5555555555555556,
              "#d8576b"
             ],
             [
              0.6666666666666666,
              "#ed7953"
             ],
             [
              0.7777777777777778,
              "#fb9f3a"
             ],
             [
              0.8888888888888888,
              "#fdca26"
             ],
             [
              1,
              "#f0f921"
             ]
            ],
            "type": "contour"
           }
          ],
          "contourcarpet": [
           {
            "colorbar": {
             "outlinewidth": 0,
             "ticks": ""
            },
            "type": "contourcarpet"
           }
          ],
          "heatmap": [
           {
            "colorbar": {
             "outlinewidth": 0,
             "ticks": ""
            },
            "colorscale": [
             [
              0,
              "#0d0887"
             ],
             [
              0.1111111111111111,
              "#46039f"
             ],
             [
              0.2222222222222222,
              "#7201a8"
             ],
             [
              0.3333333333333333,
              "#9c179e"
             ],
             [
              0.4444444444444444,
              "#bd3786"
             ],
             [
              0.5555555555555556,
              "#d8576b"
             ],
             [
              0.6666666666666666,
              "#ed7953"
             ],
             [
              0.7777777777777778,
              "#fb9f3a"
             ],
             [
              0.8888888888888888,
              "#fdca26"
             ],
             [
              1,
              "#f0f921"
             ]
            ],
            "type": "heatmap"
           }
          ],
          "heatmapgl": [
           {
            "colorbar": {
             "outlinewidth": 0,
             "ticks": ""
            },
            "colorscale": [
             [
              0,
              "#0d0887"
             ],
             [
              0.1111111111111111,
              "#46039f"
             ],
             [
              0.2222222222222222,
              "#7201a8"
             ],
             [
              0.3333333333333333,
              "#9c179e"
             ],
             [
              0.4444444444444444,
              "#bd3786"
             ],
             [
              0.5555555555555556,
              "#d8576b"
             ],
             [
              0.6666666666666666,
              "#ed7953"
             ],
             [
              0.7777777777777778,
              "#fb9f3a"
             ],
             [
              0.8888888888888888,
              "#fdca26"
             ],
             [
              1,
              "#f0f921"
             ]
            ],
            "type": "heatmapgl"
           }
          ],
          "histogram": [
           {
            "marker": {
             "colorbar": {
              "outlinewidth": 0,
              "ticks": ""
             }
            },
            "type": "histogram"
           }
          ],
          "histogram2d": [
           {
            "colorbar": {
             "outlinewidth": 0,
             "ticks": ""
            },
            "colorscale": [
             [
              0,
              "#0d0887"
             ],
             [
              0.1111111111111111,
              "#46039f"
             ],
             [
              0.2222222222222222,
              "#7201a8"
             ],
             [
              0.3333333333333333,
              "#9c179e"
             ],
             [
              0.4444444444444444,
              "#bd3786"
             ],
             [
              0.5555555555555556,
              "#d8576b"
             ],
             [
              0.6666666666666666,
              "#ed7953"
             ],
             [
              0.7777777777777778,
              "#fb9f3a"
             ],
             [
              0.8888888888888888,
              "#fdca26"
             ],
             [
              1,
              "#f0f921"
             ]
            ],
            "type": "histogram2d"
           }
          ],
          "histogram2dcontour": [
           {
            "colorbar": {
             "outlinewidth": 0,
             "ticks": ""
            },
            "colorscale": [
             [
              0,
              "#0d0887"
             ],
             [
              0.1111111111111111,
              "#46039f"
             ],
             [
              0.2222222222222222,
              "#7201a8"
             ],
             [
              0.3333333333333333,
              "#9c179e"
             ],
             [
              0.4444444444444444,
              "#bd3786"
             ],
             [
              0.5555555555555556,
              "#d8576b"
             ],
             [
              0.6666666666666666,
              "#ed7953"
             ],
             [
              0.7777777777777778,
              "#fb9f3a"
             ],
             [
              0.8888888888888888,
              "#fdca26"
             ],
             [
              1,
              "#f0f921"
             ]
            ],
            "type": "histogram2dcontour"
           }
          ],
          "mesh3d": [
           {
            "colorbar": {
             "outlinewidth": 0,
             "ticks": ""
            },
            "type": "mesh3d"
           }
          ],
          "parcoords": [
           {
            "line": {
             "colorbar": {
              "outlinewidth": 0,
              "ticks": ""
             }
            },
            "type": "parcoords"
           }
          ],
          "scatter": [
           {
            "marker": {
             "colorbar": {
              "outlinewidth": 0,
              "ticks": ""
             }
            },
            "type": "scatter"
           }
          ],
          "scatter3d": [
           {
            "line": {
             "colorbar": {
              "outlinewidth": 0,
              "ticks": ""
             }
            },
            "marker": {
             "colorbar": {
              "outlinewidth": 0,
              "ticks": ""
             }
            },
            "type": "scatter3d"
           }
          ],
          "scattercarpet": [
           {
            "marker": {
             "colorbar": {
              "outlinewidth": 0,
              "ticks": ""
             }
            },
            "type": "scattercarpet"
           }
          ],
          "scattergeo": [
           {
            "marker": {
             "colorbar": {
              "outlinewidth": 0,
              "ticks": ""
             }
            },
            "type": "scattergeo"
           }
          ],
          "scattergl": [
           {
            "marker": {
             "colorbar": {
              "outlinewidth": 0,
              "ticks": ""
             }
            },
            "type": "scattergl"
           }
          ],
          "scattermapbox": [
           {
            "marker": {
             "colorbar": {
              "outlinewidth": 0,
              "ticks": ""
             }
            },
            "type": "scattermapbox"
           }
          ],
          "scatterpolar": [
           {
            "marker": {
             "colorbar": {
              "outlinewidth": 0,
              "ticks": ""
             }
            },
            "type": "scatterpolar"
           }
          ],
          "scatterpolargl": [
           {
            "marker": {
             "colorbar": {
              "outlinewidth": 0,
              "ticks": ""
             }
            },
            "type": "scatterpolargl"
           }
          ],
          "scatterternary": [
           {
            "marker": {
             "colorbar": {
              "outlinewidth": 0,
              "ticks": ""
             }
            },
            "type": "scatterternary"
           }
          ],
          "surface": [
           {
            "colorbar": {
             "outlinewidth": 0,
             "ticks": ""
            },
            "colorscale": [
             [
              0,
              "#0d0887"
             ],
             [
              0.1111111111111111,
              "#46039f"
             ],
             [
              0.2222222222222222,
              "#7201a8"
             ],
             [
              0.3333333333333333,
              "#9c179e"
             ],
             [
              0.4444444444444444,
              "#bd3786"
             ],
             [
              0.5555555555555556,
              "#d8576b"
             ],
             [
              0.6666666666666666,
              "#ed7953"
             ],
             [
              0.7777777777777778,
              "#fb9f3a"
             ],
             [
              0.8888888888888888,
              "#fdca26"
             ],
             [
              1,
              "#f0f921"
             ]
            ],
            "type": "surface"
           }
          ],
          "table": [
           {
            "cells": {
             "fill": {
              "color": "#EBF0F8"
             },
             "line": {
              "color": "white"
             }
            },
            "header": {
             "fill": {
              "color": "#C8D4E3"
             },
             "line": {
              "color": "white"
             }
            },
            "type": "table"
           }
          ]
         },
         "layout": {
          "annotationdefaults": {
           "arrowcolor": "#2a3f5f",
           "arrowhead": 0,
           "arrowwidth": 1
          },
          "colorscale": {
           "diverging": [
            [
             0,
             "#8e0152"
            ],
            [
             0.1,
             "#c51b7d"
            ],
            [
             0.2,
             "#de77ae"
            ],
            [
             0.3,
             "#f1b6da"
            ],
            [
             0.4,
             "#fde0ef"
            ],
            [
             0.5,
             "#f7f7f7"
            ],
            [
             0.6,
             "#e6f5d0"
            ],
            [
             0.7,
             "#b8e186"
            ],
            [
             0.8,
             "#7fbc41"
            ],
            [
             0.9,
             "#4d9221"
            ],
            [
             1,
             "#276419"
            ]
           ],
           "sequential": [
            [
             0,
             "#0d0887"
            ],
            [
             0.1111111111111111,
             "#46039f"
            ],
            [
             0.2222222222222222,
             "#7201a8"
            ],
            [
             0.3333333333333333,
             "#9c179e"
            ],
            [
             0.4444444444444444,
             "#bd3786"
            ],
            [
             0.5555555555555556,
             "#d8576b"
            ],
            [
             0.6666666666666666,
             "#ed7953"
            ],
            [
             0.7777777777777778,
             "#fb9f3a"
            ],
            [
             0.8888888888888888,
             "#fdca26"
            ],
            [
             1,
             "#f0f921"
            ]
           ],
           "sequentialminus": [
            [
             0,
             "#0d0887"
            ],
            [
             0.1111111111111111,
             "#46039f"
            ],
            [
             0.2222222222222222,
             "#7201a8"
            ],
            [
             0.3333333333333333,
             "#9c179e"
            ],
            [
             0.4444444444444444,
             "#bd3786"
            ],
            [
             0.5555555555555556,
             "#d8576b"
            ],
            [
             0.6666666666666666,
             "#ed7953"
            ],
            [
             0.7777777777777778,
             "#fb9f3a"
            ],
            [
             0.8888888888888888,
             "#fdca26"
            ],
            [
             1,
             "#f0f921"
            ]
           ]
          },
          "colorway": [
           "#636efa",
           "#EF553B",
           "#00cc96",
           "#ab63fa",
           "#FFA15A",
           "#19d3f3",
           "#FF6692",
           "#B6E880",
           "#FF97FF",
           "#FECB52"
          ],
          "font": {
           "color": "#2a3f5f"
          },
          "geo": {
           "bgcolor": "white",
           "lakecolor": "white",
           "landcolor": "#E5ECF6",
           "showlakes": true,
           "showland": true,
           "subunitcolor": "white"
          },
          "hoverlabel": {
           "align": "left"
          },
          "hovermode": "closest",
          "mapbox": {
           "style": "light"
          },
          "paper_bgcolor": "white",
          "plot_bgcolor": "#E5ECF6",
          "polar": {
           "angularaxis": {
            "gridcolor": "white",
            "linecolor": "white",
            "ticks": ""
           },
           "bgcolor": "#E5ECF6",
           "radialaxis": {
            "gridcolor": "white",
            "linecolor": "white",
            "ticks": ""
           }
          },
          "scene": {
           "xaxis": {
            "backgroundcolor": "#E5ECF6",
            "gridcolor": "white",
            "gridwidth": 2,
            "linecolor": "white",
            "showbackground": true,
            "ticks": "",
            "zerolinecolor": "white"
           },
           "yaxis": {
            "backgroundcolor": "#E5ECF6",
            "gridcolor": "white",
            "gridwidth": 2,
            "linecolor": "white",
            "showbackground": true,
            "ticks": "",
            "zerolinecolor": "white"
           },
           "zaxis": {
            "backgroundcolor": "#E5ECF6",
            "gridcolor": "white",
            "gridwidth": 2,
            "linecolor": "white",
            "showbackground": true,
            "ticks": "",
            "zerolinecolor": "white"
           }
          },
          "shapedefaults": {
           "line": {
            "color": "#2a3f5f"
           }
          },
          "ternary": {
           "aaxis": {
            "gridcolor": "white",
            "linecolor": "white",
            "ticks": ""
           },
           "baxis": {
            "gridcolor": "white",
            "linecolor": "white",
            "ticks": ""
           },
           "bgcolor": "#E5ECF6",
           "caxis": {
            "gridcolor": "white",
            "linecolor": "white",
            "ticks": ""
           }
          },
          "title": {
           "x": 0.05
          },
          "xaxis": {
           "automargin": true,
           "gridcolor": "white",
           "linecolor": "white",
           "ticks": "",
           "zerolinecolor": "white",
           "zerolinewidth": 2
          },
          "yaxis": {
           "automargin": true,
           "gridcolor": "white",
           "linecolor": "white",
           "ticks": "",
           "zerolinecolor": "white",
           "zerolinewidth": 2
          }
         }
        },
        "title": {
         "text": "group/ndcg3_click"
        },
        "xaxis": {
         "type": "date"
        }
       }
      },
      "text/html": [
       "<div>\n",
       "        \n",
       "        \n",
       "            <div id=\"c5af2ca2-a62d-43e3-96cf-762d1b14ef5a\" class=\"plotly-graph-div\" style=\"height:525px; width:100%;\"></div>\n",
       "            <script type=\"text/javascript\">\n",
       "                require([\"plotly\"], function(Plotly) {\n",
       "                    window.PLOTLYENV=window.PLOTLYENV || {};\n",
       "                    \n",
       "                if (document.getElementById(\"c5af2ca2-a62d-43e3-96cf-762d1b14ef5a\")) {\n",
       "                    Plotly.newPlot(\n",
       "                        'c5af2ca2-a62d-43e3-96cf-762d1b14ef5a',\n",
       "                        [{\"line\": {\"shape\": \"spline\", \"smoothing\": 0.5}, \"marker\": {\"size\": 4}, \"mode\": \"lines+markers\", \"name\": \"15\", \"type\": \"scatter\", \"x\": [\"2020-05-11T07:00:00\", \"2020-05-11T08:00:00\", \"2020-05-11T09:00:00\", \"2020-05-11T10:00:00\", \"2020-05-11T11:00:00\", \"2020-05-11T12:00:00\", \"2020-05-11T13:00:00\", \"2020-05-11T14:00:00\", \"2020-05-11T15:00:00\", \"2020-05-11T16:00:00\", \"2020-05-11T17:00:00\", \"2020-05-11T18:00:00\", \"2020-05-11T19:00:00\", \"2020-05-11T20:00:00\", \"2020-05-11T21:00:00\", \"2020-05-11T22:00:00\", \"2020-05-11T23:00:00\"], \"y\": [0.5624401239114175, 0.536853331207721, 0.5663591980423017, 0.5547139062918183, 0.5506254451397271, 0.6389171366091912, 0.618336040695358, 0.5808337805873768, 0.5608691521901131, 0.5969576831660828, 0.5570677541521046, 0.5719623091242061, 0.5616001979098139, 0.5666679249492962, 0.5420673508423433, 0.5468853768018852, 0.5470408676591106]}, {\"line\": {\"shape\": \"spline\", \"smoothing\": 0.5}, \"marker\": {\"size\": 4}, \"mode\": \"lines+markers\", \"name\": \"45600\", \"type\": \"scatter\", \"x\": [\"2020-05-11T07:00:00\", \"2020-05-11T08:00:00\", \"2020-05-11T09:00:00\", \"2020-05-11T10:00:00\", \"2020-05-11T11:00:00\", \"2020-05-11T12:00:00\", \"2020-05-11T13:00:00\", \"2020-05-11T14:00:00\", \"2020-05-11T15:00:00\", \"2020-05-11T16:00:00\", \"2020-05-11T17:00:00\", \"2020-05-11T18:00:00\", \"2020-05-11T19:00:00\", \"2020-05-11T20:00:00\", \"2020-05-11T21:00:00\", \"2020-05-11T22:00:00\", \"2020-05-11T23:00:00\"], \"y\": [0.5348405483472076, 0.5287263081582435, 0.5321113743897342, 0.5265007343909167, 0.536520095413632, 0.6151738626491767, 0.57258248407081, 0.5355856369542619, 0.5238940945954754, 0.5639712828309775, 0.5208601409680547, 0.5368808742928101, 0.535314694328486, 0.5230553948415192, 0.5152416973215992, 0.5089970685343128, 0.5050646132823022]}, {\"line\": {\"shape\": \"spline\", \"smoothing\": 0.5}, \"marker\": {\"size\": 4}, \"mode\": \"lines+markers\", \"name\": \"45601\", \"type\": \"scatter\", \"x\": [\"2020-05-11T07:00:00\", \"2020-05-11T08:00:00\", \"2020-05-11T09:00:00\", \"2020-05-11T10:00:00\", \"2020-05-11T11:00:00\", \"2020-05-11T12:00:00\", \"2020-05-11T13:00:00\", \"2020-05-11T14:00:00\", \"2020-05-11T15:00:00\", \"2020-05-11T16:00:00\", \"2020-05-11T17:00:00\", \"2020-05-11T18:00:00\", \"2020-05-11T19:00:00\", \"2020-05-11T20:00:00\", \"2020-05-11T21:00:00\", \"2020-05-11T22:00:00\", \"2020-05-11T23:00:00\"], \"y\": [0.5378518352991625, 0.5395320718079192, 0.5343854656920203, 0.5309453235427734, 0.5398945148582602, 0.6220668467497645, 0.5685212136477872, 0.5370352216006742, 0.5285891119380247, 0.5679480850335284, 0.5218538085736469, 0.5328098779756731, 0.5424778183123578, 0.5265792879557767, 0.5202664208287935, 0.5130832335699265, 0.5075169478646697]}, {\"line\": {\"shape\": \"spline\", \"smoothing\": 0.5}, \"marker\": {\"size\": 4}, \"mode\": \"lines+markers\", \"name\": \"45602\", \"type\": \"scatter\", \"x\": [\"2020-05-11T07:00:00\", \"2020-05-11T08:00:00\", \"2020-05-11T09:00:00\", \"2020-05-11T10:00:00\", \"2020-05-11T11:00:00\", \"2020-05-11T12:00:00\", \"2020-05-11T13:00:00\", \"2020-05-11T14:00:00\", \"2020-05-11T15:00:00\", \"2020-05-11T17:00:00\", \"2020-05-11T18:00:00\", \"2020-05-11T19:00:00\", \"2020-05-11T20:00:00\", \"2020-05-11T21:00:00\", \"2020-05-11T22:00:00\", \"2020-05-11T23:00:00\"], \"y\": [0.5396151858500631, 0.5418602602315927, 0.536589063065276, 0.5291397954393968, 0.5436941638784725, 0.6141602563425927, 0.5864989565161812, 0.5452158238778716, 0.5326853768789455, 0.5244733106571503, 0.5392162778142268, 0.5412762705215071, 0.534264543328677, 0.5236376234430615, 0.5139761814393722, 0.5138700338367388]}, {\"line\": {\"shape\": \"spline\", \"smoothing\": 0.5}, \"marker\": {\"size\": 4}, \"mode\": \"lines+markers\", \"name\": \"8\", \"type\": \"scatter\", \"x\": [\"2020-05-11T07:00:00\", \"2020-05-11T08:00:00\", \"2020-05-11T09:00:00\", \"2020-05-11T10:00:00\", \"2020-05-11T11:00:00\", \"2020-05-11T12:00:00\", \"2020-05-11T13:00:00\", \"2020-05-11T14:00:00\", \"2020-05-11T15:00:00\", \"2020-05-11T16:00:00\", \"2020-05-11T17:00:00\", \"2020-05-11T18:00:00\", \"2020-05-11T19:00:00\", \"2020-05-11T20:00:00\", \"2020-05-11T21:00:00\", \"2020-05-11T22:00:00\", \"2020-05-11T23:00:00\"], \"y\": [0.5641080308456101, 0.5486737674619009, 0.5507032765707043, 0.5596250037391441, 0.5814262032747629, 0.6274561285930502, 0.6063316926692298, 0.5639551441444294, 0.5575463421668597, 0.6165721742092575, 0.5674206044287795, 0.5714227641164314, 0.5614071438164864, 0.5699230894562626, 0.5480927684404909, 0.5353630534382832, 0.5426964183557472]}, {\"line\": {\"shape\": \"spline\", \"smoothing\": 0.5}, \"marker\": {\"size\": 4}, \"mode\": \"lines+markers\", \"name\": \"456\", \"type\": \"scatter\", \"x\": [\"2020-05-11T07:00:00\", \"2020-05-11T08:00:00\", \"2020-05-11T09:00:00\", \"2020-05-11T10:00:00\", \"2020-05-11T11:00:00\", \"2020-05-11T12:00:00\", \"2020-05-11T13:00:00\", \"2020-05-11T14:00:00\", \"2020-05-11T15:00:00\", \"2020-05-11T16:00:00\", \"2020-05-11T17:00:00\", \"2020-05-11T18:00:00\", \"2020-05-11T19:00:00\", \"2020-05-11T20:00:00\", \"2020-05-11T21:00:00\", \"2020-05-11T22:00:00\", \"2020-05-11T23:00:00\"], \"y\": [0.5526388574688305, 0.5550388632024341, 0.5591045299055142, 0.5494068395390755, 0.5558273944545216, 0.6305608492446895, 0.5810570307559384, 0.5656266259262308, 0.556402588898293, 0.5919685233212111, 0.5549606422741649, 0.5632890919138674, 0.5632803713950497, 0.5591871621407906, 0.5455734849789015, 0.5402949650379906, 0.5339252911301957]}],\n",
       "                        {\"hovermode\": \"x\", \"template\": {\"data\": {\"bar\": [{\"error_x\": {\"color\": \"#2a3f5f\"}, \"error_y\": {\"color\": \"#2a3f5f\"}, \"marker\": {\"line\": {\"color\": \"#E5ECF6\", \"width\": 0.5}}, \"type\": \"bar\"}], \"barpolar\": [{\"marker\": {\"line\": {\"color\": \"#E5ECF6\", \"width\": 0.5}}, \"type\": \"barpolar\"}], \"carpet\": [{\"aaxis\": {\"endlinecolor\": \"#2a3f5f\", \"gridcolor\": \"white\", \"linecolor\": \"white\", \"minorgridcolor\": \"white\", \"startlinecolor\": \"#2a3f5f\"}, \"baxis\": {\"endlinecolor\": \"#2a3f5f\", \"gridcolor\": \"white\", \"linecolor\": \"white\", \"minorgridcolor\": \"white\", \"startlinecolor\": \"#2a3f5f\"}, \"type\": \"carpet\"}], \"choropleth\": [{\"colorbar\": {\"outlinewidth\": 0, \"ticks\": \"\"}, \"type\": \"choropleth\"}], \"contour\": [{\"colorbar\": {\"outlinewidth\": 0, \"ticks\": \"\"}, \"colorscale\": [[0.0, \"#0d0887\"], [0.1111111111111111, \"#46039f\"], [0.2222222222222222, \"#7201a8\"], [0.3333333333333333, \"#9c179e\"], [0.4444444444444444, \"#bd3786\"], [0.5555555555555556, \"#d8576b\"], [0.6666666666666666, \"#ed7953\"], [0.7777777777777778, \"#fb9f3a\"], [0.8888888888888888, \"#fdca26\"], [1.0, \"#f0f921\"]], \"type\": \"contour\"}], \"contourcarpet\": [{\"colorbar\": {\"outlinewidth\": 0, \"ticks\": \"\"}, \"type\": \"contourcarpet\"}], \"heatmap\": [{\"colorbar\": {\"outlinewidth\": 0, \"ticks\": \"\"}, \"colorscale\": [[0.0, \"#0d0887\"], [0.1111111111111111, \"#46039f\"], [0.2222222222222222, \"#7201a8\"], [0.3333333333333333, \"#9c179e\"], [0.4444444444444444, \"#bd3786\"], [0.5555555555555556, \"#d8576b\"], [0.6666666666666666, \"#ed7953\"], [0.7777777777777778, \"#fb9f3a\"], [0.8888888888888888, \"#fdca26\"], [1.0, \"#f0f921\"]], \"type\": \"heatmap\"}], \"heatmapgl\": [{\"colorbar\": {\"outlinewidth\": 0, \"ticks\": \"\"}, \"colorscale\": [[0.0, \"#0d0887\"], [0.1111111111111111, \"#46039f\"], [0.2222222222222222, \"#7201a8\"], [0.3333333333333333, \"#9c179e\"], [0.4444444444444444, \"#bd3786\"], [0.5555555555555556, \"#d8576b\"], [0.6666666666666666, \"#ed7953\"], [0.7777777777777778, \"#fb9f3a\"], [0.8888888888888888, \"#fdca26\"], [1.0, \"#f0f921\"]], \"type\": \"heatmapgl\"}], \"histogram\": [{\"marker\": {\"colorbar\": {\"outlinewidth\": 0, \"ticks\": \"\"}}, \"type\": \"histogram\"}], \"histogram2d\": [{\"colorbar\": {\"outlinewidth\": 0, \"ticks\": \"\"}, \"colorscale\": [[0.0, \"#0d0887\"], [0.1111111111111111, \"#46039f\"], [0.2222222222222222, \"#7201a8\"], [0.3333333333333333, \"#9c179e\"], [0.4444444444444444, \"#bd3786\"], [0.5555555555555556, \"#d8576b\"], [0.6666666666666666, \"#ed7953\"], [0.7777777777777778, \"#fb9f3a\"], [0.8888888888888888, \"#fdca26\"], [1.0, \"#f0f921\"]], \"type\": \"histogram2d\"}], \"histogram2dcontour\": [{\"colorbar\": {\"outlinewidth\": 0, \"ticks\": \"\"}, \"colorscale\": [[0.0, \"#0d0887\"], [0.1111111111111111, \"#46039f\"], [0.2222222222222222, \"#7201a8\"], [0.3333333333333333, \"#9c179e\"], [0.4444444444444444, \"#bd3786\"], [0.5555555555555556, \"#d8576b\"], [0.6666666666666666, \"#ed7953\"], [0.7777777777777778, \"#fb9f3a\"], [0.8888888888888888, \"#fdca26\"], [1.0, \"#f0f921\"]], \"type\": \"histogram2dcontour\"}], \"mesh3d\": [{\"colorbar\": {\"outlinewidth\": 0, \"ticks\": \"\"}, \"type\": \"mesh3d\"}], \"parcoords\": [{\"line\": {\"colorbar\": {\"outlinewidth\": 0, \"ticks\": \"\"}}, \"type\": \"parcoords\"}], \"scatter\": [{\"marker\": {\"colorbar\": {\"outlinewidth\": 0, \"ticks\": \"\"}}, \"type\": \"scatter\"}], \"scatter3d\": [{\"line\": {\"colorbar\": {\"outlinewidth\": 0, \"ticks\": \"\"}}, \"marker\": {\"colorbar\": {\"outlinewidth\": 0, \"ticks\": \"\"}}, \"type\": \"scatter3d\"}], \"scattercarpet\": [{\"marker\": {\"colorbar\": {\"outlinewidth\": 0, \"ticks\": \"\"}}, \"type\": \"scattercarpet\"}], \"scattergeo\": [{\"marker\": {\"colorbar\": {\"outlinewidth\": 0, \"ticks\": \"\"}}, \"type\": \"scattergeo\"}], \"scattergl\": [{\"marker\": {\"colorbar\": {\"outlinewidth\": 0, \"ticks\": \"\"}}, \"type\": \"scattergl\"}], \"scattermapbox\": [{\"marker\": {\"colorbar\": {\"outlinewidth\": 0, \"ticks\": \"\"}}, \"type\": \"scattermapbox\"}], \"scatterpolar\": [{\"marker\": {\"colorbar\": {\"outlinewidth\": 0, \"ticks\": \"\"}}, \"type\": \"scatterpolar\"}], \"scatterpolargl\": [{\"marker\": {\"colorbar\": {\"outlinewidth\": 0, \"ticks\": \"\"}}, \"type\": \"scatterpolargl\"}], \"scatterternary\": [{\"marker\": {\"colorbar\": {\"outlinewidth\": 0, \"ticks\": \"\"}}, \"type\": \"scatterternary\"}], \"surface\": [{\"colorbar\": {\"outlinewidth\": 0, \"ticks\": \"\"}, \"colorscale\": [[0.0, \"#0d0887\"], [0.1111111111111111, \"#46039f\"], [0.2222222222222222, \"#7201a8\"], [0.3333333333333333, \"#9c179e\"], [0.4444444444444444, \"#bd3786\"], [0.5555555555555556, \"#d8576b\"], [0.6666666666666666, \"#ed7953\"], [0.7777777777777778, \"#fb9f3a\"], [0.8888888888888888, \"#fdca26\"], [1.0, \"#f0f921\"]], \"type\": \"surface\"}], \"table\": [{\"cells\": {\"fill\": {\"color\": \"#EBF0F8\"}, \"line\": {\"color\": \"white\"}}, \"header\": {\"fill\": {\"color\": \"#C8D4E3\"}, \"line\": {\"color\": \"white\"}}, \"type\": \"table\"}]}, \"layout\": {\"annotationdefaults\": {\"arrowcolor\": \"#2a3f5f\", \"arrowhead\": 0, \"arrowwidth\": 1}, \"colorscale\": {\"diverging\": [[0, \"#8e0152\"], [0.1, \"#c51b7d\"], [0.2, \"#de77ae\"], [0.3, \"#f1b6da\"], [0.4, \"#fde0ef\"], [0.5, \"#f7f7f7\"], [0.6, \"#e6f5d0\"], [0.7, \"#b8e186\"], [0.8, \"#7fbc41\"], [0.9, \"#4d9221\"], [1, \"#276419\"]], \"sequential\": [[0.0, \"#0d0887\"], [0.1111111111111111, \"#46039f\"], [0.2222222222222222, \"#7201a8\"], [0.3333333333333333, \"#9c179e\"], [0.4444444444444444, \"#bd3786\"], [0.5555555555555556, \"#d8576b\"], [0.6666666666666666, \"#ed7953\"], [0.7777777777777778, \"#fb9f3a\"], [0.8888888888888888, \"#fdca26\"], [1.0, \"#f0f921\"]], \"sequentialminus\": [[0.0, \"#0d0887\"], [0.1111111111111111, \"#46039f\"], [0.2222222222222222, \"#7201a8\"], [0.3333333333333333, \"#9c179e\"], [0.4444444444444444, \"#bd3786\"], [0.5555555555555556, \"#d8576b\"], [0.6666666666666666, \"#ed7953\"], [0.7777777777777778, \"#fb9f3a\"], [0.8888888888888888, \"#fdca26\"], [1.0, \"#f0f921\"]]}, \"colorway\": [\"#636efa\", \"#EF553B\", \"#00cc96\", \"#ab63fa\", \"#FFA15A\", \"#19d3f3\", \"#FF6692\", \"#B6E880\", \"#FF97FF\", \"#FECB52\"], \"font\": {\"color\": \"#2a3f5f\"}, \"geo\": {\"bgcolor\": \"white\", \"lakecolor\": \"white\", \"landcolor\": \"#E5ECF6\", \"showlakes\": true, \"showland\": true, \"subunitcolor\": \"white\"}, \"hoverlabel\": {\"align\": \"left\"}, \"hovermode\": \"closest\", \"mapbox\": {\"style\": \"light\"}, \"paper_bgcolor\": \"white\", \"plot_bgcolor\": \"#E5ECF6\", \"polar\": {\"angularaxis\": {\"gridcolor\": \"white\", \"linecolor\": \"white\", \"ticks\": \"\"}, \"bgcolor\": \"#E5ECF6\", \"radialaxis\": {\"gridcolor\": \"white\", \"linecolor\": \"white\", \"ticks\": \"\"}}, \"scene\": {\"xaxis\": {\"backgroundcolor\": \"#E5ECF6\", \"gridcolor\": \"white\", \"gridwidth\": 2, \"linecolor\": \"white\", \"showbackground\": true, \"ticks\": \"\", \"zerolinecolor\": \"white\"}, \"yaxis\": {\"backgroundcolor\": \"#E5ECF6\", \"gridcolor\": \"white\", \"gridwidth\": 2, \"linecolor\": \"white\", \"showbackground\": true, \"ticks\": \"\", \"zerolinecolor\": \"white\"}, \"zaxis\": {\"backgroundcolor\": \"#E5ECF6\", \"gridcolor\": \"white\", \"gridwidth\": 2, \"linecolor\": \"white\", \"showbackground\": true, \"ticks\": \"\", \"zerolinecolor\": \"white\"}}, \"shapedefaults\": {\"line\": {\"color\": \"#2a3f5f\"}}, \"ternary\": {\"aaxis\": {\"gridcolor\": \"white\", \"linecolor\": \"white\", \"ticks\": \"\"}, \"baxis\": {\"gridcolor\": \"white\", \"linecolor\": \"white\", \"ticks\": \"\"}, \"bgcolor\": \"#E5ECF6\", \"caxis\": {\"gridcolor\": \"white\", \"linecolor\": \"white\", \"ticks\": \"\"}}, \"title\": {\"x\": 0.05}, \"xaxis\": {\"automargin\": true, \"gridcolor\": \"white\", \"linecolor\": \"white\", \"ticks\": \"\", \"zerolinecolor\": \"white\", \"zerolinewidth\": 2}, \"yaxis\": {\"automargin\": true, \"gridcolor\": \"white\", \"linecolor\": \"white\", \"ticks\": \"\", \"zerolinecolor\": \"white\", \"zerolinewidth\": 2}}}, \"title\": {\"text\": \"group/ndcg3_click\"}, \"xaxis\": {\"type\": \"date\"}},\n",
       "                        {\"responsive\": true}\n",
       "                    ).then(function(){\n",
       "                            \n",
       "var gd = document.getElementById('c5af2ca2-a62d-43e3-96cf-762d1b14ef5a');\n",
       "var x = new MutationObserver(function (mutations, observer) {{\n",
       "        var display = window.getComputedStyle(gd).display;\n",
       "        if (!display || display === 'none') {{\n",
       "            console.log([gd, 'removed!']);\n",
       "            Plotly.purge(gd);\n",
       "            observer.disconnect();\n",
       "        }}\n",
       "}});\n",
       "\n",
       "// Listen for the removal of the full notebook cells\n",
       "var notebookContainer = gd.closest('#notebook-container');\n",
       "if (notebookContainer) {{\n",
       "    x.observe(notebookContainer, {childList: true});\n",
       "}}\n",
       "\n",
       "// Listen for the clearing of the current output cell\n",
       "var outputEl = gd.closest('.output');\n",
       "if (outputEl) {{\n",
       "    x.observe(outputEl, {childList: true});\n",
       "}}\n",
       "\n",
       "                        })\n",
       "                };\n",
       "                });\n",
       "            </script>\n",
       "        </div>"
      ]
     },
     "metadata": {},
     "output_type": "display_data"
    },
    {
     "data": {
      "application/vnd.plotly.v1+json": {
       "config": {
        "linkText": "Export to plot.ly",
        "plotlyServerURL": "https://plot.ly",
        "showLink": false
       },
       "data": [
        {
         "line": {
          "shape": "spline",
          "smoothing": 0.5
         },
         "marker": {
          "size": 4
         },
         "mode": "lines+markers",
         "name": "15",
         "type": "scatter",
         "x": [
          "2020-05-11T07:00:00",
          "2020-05-11T08:00:00",
          "2020-05-11T09:00:00",
          "2020-05-11T10:00:00",
          "2020-05-11T11:00:00",
          "2020-05-11T12:00:00",
          "2020-05-11T13:00:00",
          "2020-05-11T14:00:00",
          "2020-05-11T15:00:00",
          "2020-05-11T16:00:00",
          "2020-05-11T17:00:00",
          "2020-05-11T18:00:00",
          "2020-05-11T19:00:00",
          "2020-05-11T20:00:00",
          "2020-05-11T21:00:00",
          "2020-05-11T22:00:00",
          "2020-05-11T23:00:00"
         ],
         "y": [
          0.4322268326417704,
          0.3980161190328581,
          0.4425531914893617,
          0.4282945736434109,
          0.425280199252802,
          0.5072697899838449,
          0.5147058823529411,
          0.4727707959305805,
          0.4564459930313589,
          0.4808743169398907,
          0.4439809296781883,
          0.4595545134818289,
          0.4621212121212121,
          0.4652641878669276,
          0.4480271531607976,
          0.4533333333333333,
          0.4479418886198547
         ]
        },
        {
         "line": {
          "shape": "spline",
          "smoothing": 0.5
         },
         "marker": {
          "size": 4
         },
         "mode": "lines+markers",
         "name": "45600",
         "type": "scatter",
         "x": [
          "2020-05-11T07:00:00",
          "2020-05-11T08:00:00",
          "2020-05-11T09:00:00",
          "2020-05-11T10:00:00",
          "2020-05-11T11:00:00",
          "2020-05-11T12:00:00",
          "2020-05-11T13:00:00",
          "2020-05-11T14:00:00",
          "2020-05-11T15:00:00",
          "2020-05-11T16:00:00",
          "2020-05-11T17:00:00",
          "2020-05-11T18:00:00",
          "2020-05-11T19:00:00",
          "2020-05-11T20:00:00",
          "2020-05-11T21:00:00",
          "2020-05-11T22:00:00",
          "2020-05-11T23:00:00"
         ],
         "y": [
          0.4036697247706422,
          0.4072742651723409,
          0.4095585083583369,
          0.3963588506251371,
          0.4157256378084484,
          0.4743104380746349,
          0.4351285189718482,
          0.42435424354243545,
          0.41319240555881775,
          0.4313842482100239,
          0.4089197224975223,
          0.4183734340823225,
          0.4272363150867824,
          0.41017863161442536,
          0.4152965355255432,
          0.40575479566305256,
          0.3964215364412344
         ]
        },
        {
         "line": {
          "shape": "spline",
          "smoothing": 0.5
         },
         "marker": {
          "size": 4
         },
         "mode": "lines+markers",
         "name": "45601",
         "type": "scatter",
         "x": [
          "2020-05-11T07:00:00",
          "2020-05-11T08:00:00",
          "2020-05-11T09:00:00",
          "2020-05-11T10:00:00",
          "2020-05-11T11:00:00",
          "2020-05-11T12:00:00",
          "2020-05-11T13:00:00",
          "2020-05-11T14:00:00",
          "2020-05-11T15:00:00",
          "2020-05-11T16:00:00",
          "2020-05-11T17:00:00",
          "2020-05-11T18:00:00",
          "2020-05-11T19:00:00",
          "2020-05-11T20:00:00",
          "2020-05-11T21:00:00",
          "2020-05-11T22:00:00",
          "2020-05-11T23:00:00"
         ],
         "y": [
          0.4053163961420842,
          0.4104461831253965,
          0.40548649807115295,
          0.40184250932221977,
          0.4167712254286909,
          0.4667387777176853,
          0.4265605875152999,
          0.4198873567683045,
          0.40771188099432376,
          0.43556085918854415,
          0.40555004955401386,
          0.4147941936766753,
          0.4230402441350372,
          0.4125379170879677,
          0.4155901350557839,
          0.408673894912427,
          0.3928102429415627
         ]
        },
        {
         "line": {
          "shape": "spline",
          "smoothing": 0.5
         },
         "marker": {
          "size": 4
         },
         "mode": "lines+markers",
         "name": "45602",
         "type": "scatter",
         "x": [
          "2020-05-11T07:00:00",
          "2020-05-11T08:00:00",
          "2020-05-11T09:00:00",
          "2020-05-11T10:00:00",
          "2020-05-11T11:00:00",
          "2020-05-11T12:00:00",
          "2020-05-11T13:00:00",
          "2020-05-11T14:00:00",
          "2020-05-11T15:00:00",
          "2020-05-11T17:00:00",
          "2020-05-11T18:00:00",
          "2020-05-11T19:00:00",
          "2020-05-11T20:00:00",
          "2020-05-11T21:00:00",
          "2020-05-11T22:00:00",
          "2020-05-11T23:00:00"
         ],
         "y": [
          0.40696306751352623,
          0.4142524846690632,
          0.416845263609087,
          0.4003070848870367,
          0.4150982852363028,
          0.464112250404749,
          0.4565483476132191,
          0.4297921926587687,
          0.4212174593853984,
          0.4025768087215064,
          0.4247365281368065,
          0.43124165554072097,
          0.42214357937310415,
          0.41661773341162656,
          0.4083958854601056,
          0.4010177281680893
         ]
        },
        {
         "line": {
          "shape": "spline",
          "smoothing": 0.5
         },
         "marker": {
          "size": 4
         },
         "mode": "lines+markers",
         "name": "8",
         "type": "scatter",
         "x": [
          "2020-05-11T07:00:00",
          "2020-05-11T08:00:00",
          "2020-05-11T09:00:00",
          "2020-05-11T10:00:00",
          "2020-05-11T11:00:00",
          "2020-05-11T12:00:00",
          "2020-05-11T13:00:00",
          "2020-05-11T14:00:00",
          "2020-05-11T15:00:00",
          "2020-05-11T16:00:00",
          "2020-05-11T17:00:00",
          "2020-05-11T18:00:00",
          "2020-05-11T19:00:00",
          "2020-05-11T20:00:00",
          "2020-05-11T21:00:00",
          "2020-05-11T22:00:00",
          "2020-05-11T23:00:00"
         ],
         "y": [
          0.4467930029154519,
          0.42088197146562906,
          0.4402390438247012,
          0.4423740510697032,
          0.457433290978399,
          0.4774193548387097,
          0.4770318021201414,
          0.442916915720263,
          0.4350148367952522,
          0.5055350553505535,
          0.4611559975139838,
          0.4615384615384616,
          0.4705228031145717,
          0.4737638748738648,
          0.4507795100222717,
          0.4353989469420818,
          0.43570722057368944
         ]
        },
        {
         "line": {
          "shape": "spline",
          "smoothing": 0.5
         },
         "marker": {
          "size": 4
         },
         "mode": "lines+markers",
         "name": "456",
         "type": "scatter",
         "x": [
          "2020-05-11T07:00:00",
          "2020-05-11T08:00:00",
          "2020-05-11T09:00:00",
          "2020-05-11T10:00:00",
          "2020-05-11T11:00:00",
          "2020-05-11T12:00:00",
          "2020-05-11T13:00:00",
          "2020-05-11T14:00:00",
          "2020-05-11T15:00:00",
          "2020-05-11T16:00:00",
          "2020-05-11T17:00:00",
          "2020-05-11T18:00:00",
          "2020-05-11T19:00:00",
          "2020-05-11T20:00:00",
          "2020-05-11T21:00:00",
          "2020-05-11T22:00:00",
          "2020-05-11T23:00:00"
         ],
         "y": [
          0.4286050341096213,
          0.4292662296468598,
          0.4414916416630947,
          0.4358411932441325,
          0.43203680468423256,
          0.4943212547322877,
          0.4577723378212975,
          0.4445523402602447,
          0.4390291642200039,
          0.4665871121718377,
          0.44935579781962337,
          0.4503877510439451,
          0.4632843791722296,
          0.4538254128749578,
          0.4481796829125073,
          0.4384209063108146,
          0.4310571240971766
         ]
        }
       ],
       "layout": {
        "hovermode": "x",
        "template": {
         "data": {
          "bar": [
           {
            "error_x": {
             "color": "#2a3f5f"
            },
            "error_y": {
             "color": "#2a3f5f"
            },
            "marker": {
             "line": {
              "color": "#E5ECF6",
              "width": 0.5
             }
            },
            "type": "bar"
           }
          ],
          "barpolar": [
           {
            "marker": {
             "line": {
              "color": "#E5ECF6",
              "width": 0.5
             }
            },
            "type": "barpolar"
           }
          ],
          "carpet": [
           {
            "aaxis": {
             "endlinecolor": "#2a3f5f",
             "gridcolor": "white",
             "linecolor": "white",
             "minorgridcolor": "white",
             "startlinecolor": "#2a3f5f"
            },
            "baxis": {
             "endlinecolor": "#2a3f5f",
             "gridcolor": "white",
             "linecolor": "white",
             "minorgridcolor": "white",
             "startlinecolor": "#2a3f5f"
            },
            "type": "carpet"
           }
          ],
          "choropleth": [
           {
            "colorbar": {
             "outlinewidth": 0,
             "ticks": ""
            },
            "type": "choropleth"
           }
          ],
          "contour": [
           {
            "colorbar": {
             "outlinewidth": 0,
             "ticks": ""
            },
            "colorscale": [
             [
              0,
              "#0d0887"
             ],
             [
              0.1111111111111111,
              "#46039f"
             ],
             [
              0.2222222222222222,
              "#7201a8"
             ],
             [
              0.3333333333333333,
              "#9c179e"
             ],
             [
              0.4444444444444444,
              "#bd3786"
             ],
             [
              0.5555555555555556,
              "#d8576b"
             ],
             [
              0.6666666666666666,
              "#ed7953"
             ],
             [
              0.7777777777777778,
              "#fb9f3a"
             ],
             [
              0.8888888888888888,
              "#fdca26"
             ],
             [
              1,
              "#f0f921"
             ]
            ],
            "type": "contour"
           }
          ],
          "contourcarpet": [
           {
            "colorbar": {
             "outlinewidth": 0,
             "ticks": ""
            },
            "type": "contourcarpet"
           }
          ],
          "heatmap": [
           {
            "colorbar": {
             "outlinewidth": 0,
             "ticks": ""
            },
            "colorscale": [
             [
              0,
              "#0d0887"
             ],
             [
              0.1111111111111111,
              "#46039f"
             ],
             [
              0.2222222222222222,
              "#7201a8"
             ],
             [
              0.3333333333333333,
              "#9c179e"
             ],
             [
              0.4444444444444444,
              "#bd3786"
             ],
             [
              0.5555555555555556,
              "#d8576b"
             ],
             [
              0.6666666666666666,
              "#ed7953"
             ],
             [
              0.7777777777777778,
              "#fb9f3a"
             ],
             [
              0.8888888888888888,
              "#fdca26"
             ],
             [
              1,
              "#f0f921"
             ]
            ],
            "type": "heatmap"
           }
          ],
          "heatmapgl": [
           {
            "colorbar": {
             "outlinewidth": 0,
             "ticks": ""
            },
            "colorscale": [
             [
              0,
              "#0d0887"
             ],
             [
              0.1111111111111111,
              "#46039f"
             ],
             [
              0.2222222222222222,
              "#7201a8"
             ],
             [
              0.3333333333333333,
              "#9c179e"
             ],
             [
              0.4444444444444444,
              "#bd3786"
             ],
             [
              0.5555555555555556,
              "#d8576b"
             ],
             [
              0.6666666666666666,
              "#ed7953"
             ],
             [
              0.7777777777777778,
              "#fb9f3a"
             ],
             [
              0.8888888888888888,
              "#fdca26"
             ],
             [
              1,
              "#f0f921"
             ]
            ],
            "type": "heatmapgl"
           }
          ],
          "histogram": [
           {
            "marker": {
             "colorbar": {
              "outlinewidth": 0,
              "ticks": ""
             }
            },
            "type": "histogram"
           }
          ],
          "histogram2d": [
           {
            "colorbar": {
             "outlinewidth": 0,
             "ticks": ""
            },
            "colorscale": [
             [
              0,
              "#0d0887"
             ],
             [
              0.1111111111111111,
              "#46039f"
             ],
             [
              0.2222222222222222,
              "#7201a8"
             ],
             [
              0.3333333333333333,
              "#9c179e"
             ],
             [
              0.4444444444444444,
              "#bd3786"
             ],
             [
              0.5555555555555556,
              "#d8576b"
             ],
             [
              0.6666666666666666,
              "#ed7953"
             ],
             [
              0.7777777777777778,
              "#fb9f3a"
             ],
             [
              0.8888888888888888,
              "#fdca26"
             ],
             [
              1,
              "#f0f921"
             ]
            ],
            "type": "histogram2d"
           }
          ],
          "histogram2dcontour": [
           {
            "colorbar": {
             "outlinewidth": 0,
             "ticks": ""
            },
            "colorscale": [
             [
              0,
              "#0d0887"
             ],
             [
              0.1111111111111111,
              "#46039f"
             ],
             [
              0.2222222222222222,
              "#7201a8"
             ],
             [
              0.3333333333333333,
              "#9c179e"
             ],
             [
              0.4444444444444444,
              "#bd3786"
             ],
             [
              0.5555555555555556,
              "#d8576b"
             ],
             [
              0.6666666666666666,
              "#ed7953"
             ],
             [
              0.7777777777777778,
              "#fb9f3a"
             ],
             [
              0.8888888888888888,
              "#fdca26"
             ],
             [
              1,
              "#f0f921"
             ]
            ],
            "type": "histogram2dcontour"
           }
          ],
          "mesh3d": [
           {
            "colorbar": {
             "outlinewidth": 0,
             "ticks": ""
            },
            "type": "mesh3d"
           }
          ],
          "parcoords": [
           {
            "line": {
             "colorbar": {
              "outlinewidth": 0,
              "ticks": ""
             }
            },
            "type": "parcoords"
           }
          ],
          "scatter": [
           {
            "marker": {
             "colorbar": {
              "outlinewidth": 0,
              "ticks": ""
             }
            },
            "type": "scatter"
           }
          ],
          "scatter3d": [
           {
            "line": {
             "colorbar": {
              "outlinewidth": 0,
              "ticks": ""
             }
            },
            "marker": {
             "colorbar": {
              "outlinewidth": 0,
              "ticks": ""
             }
            },
            "type": "scatter3d"
           }
          ],
          "scattercarpet": [
           {
            "marker": {
             "colorbar": {
              "outlinewidth": 0,
              "ticks": ""
             }
            },
            "type": "scattercarpet"
           }
          ],
          "scattergeo": [
           {
            "marker": {
             "colorbar": {
              "outlinewidth": 0,
              "ticks": ""
             }
            },
            "type": "scattergeo"
           }
          ],
          "scattergl": [
           {
            "marker": {
             "colorbar": {
              "outlinewidth": 0,
              "ticks": ""
             }
            },
            "type": "scattergl"
           }
          ],
          "scattermapbox": [
           {
            "marker": {
             "colorbar": {
              "outlinewidth": 0,
              "ticks": ""
             }
            },
            "type": "scattermapbox"
           }
          ],
          "scatterpolar": [
           {
            "marker": {
             "colorbar": {
              "outlinewidth": 0,
              "ticks": ""
             }
            },
            "type": "scatterpolar"
           }
          ],
          "scatterpolargl": [
           {
            "marker": {
             "colorbar": {
              "outlinewidth": 0,
              "ticks": ""
             }
            },
            "type": "scatterpolargl"
           }
          ],
          "scatterternary": [
           {
            "marker": {
             "colorbar": {
              "outlinewidth": 0,
              "ticks": ""
             }
            },
            "type": "scatterternary"
           }
          ],
          "surface": [
           {
            "colorbar": {
             "outlinewidth": 0,
             "ticks": ""
            },
            "colorscale": [
             [
              0,
              "#0d0887"
             ],
             [
              0.1111111111111111,
              "#46039f"
             ],
             [
              0.2222222222222222,
              "#7201a8"
             ],
             [
              0.3333333333333333,
              "#9c179e"
             ],
             [
              0.4444444444444444,
              "#bd3786"
             ],
             [
              0.5555555555555556,
              "#d8576b"
             ],
             [
              0.6666666666666666,
              "#ed7953"
             ],
             [
              0.7777777777777778,
              "#fb9f3a"
             ],
             [
              0.8888888888888888,
              "#fdca26"
             ],
             [
              1,
              "#f0f921"
             ]
            ],
            "type": "surface"
           }
          ],
          "table": [
           {
            "cells": {
             "fill": {
              "color": "#EBF0F8"
             },
             "line": {
              "color": "white"
             }
            },
            "header": {
             "fill": {
              "color": "#C8D4E3"
             },
             "line": {
              "color": "white"
             }
            },
            "type": "table"
           }
          ]
         },
         "layout": {
          "annotationdefaults": {
           "arrowcolor": "#2a3f5f",
           "arrowhead": 0,
           "arrowwidth": 1
          },
          "colorscale": {
           "diverging": [
            [
             0,
             "#8e0152"
            ],
            [
             0.1,
             "#c51b7d"
            ],
            [
             0.2,
             "#de77ae"
            ],
            [
             0.3,
             "#f1b6da"
            ],
            [
             0.4,
             "#fde0ef"
            ],
            [
             0.5,
             "#f7f7f7"
            ],
            [
             0.6,
             "#e6f5d0"
            ],
            [
             0.7,
             "#b8e186"
            ],
            [
             0.8,
             "#7fbc41"
            ],
            [
             0.9,
             "#4d9221"
            ],
            [
             1,
             "#276419"
            ]
           ],
           "sequential": [
            [
             0,
             "#0d0887"
            ],
            [
             0.1111111111111111,
             "#46039f"
            ],
            [
             0.2222222222222222,
             "#7201a8"
            ],
            [
             0.3333333333333333,
             "#9c179e"
            ],
            [
             0.4444444444444444,
             "#bd3786"
            ],
            [
             0.5555555555555556,
             "#d8576b"
            ],
            [
             0.6666666666666666,
             "#ed7953"
            ],
            [
             0.7777777777777778,
             "#fb9f3a"
            ],
            [
             0.8888888888888888,
             "#fdca26"
            ],
            [
             1,
             "#f0f921"
            ]
           ],
           "sequentialminus": [
            [
             0,
             "#0d0887"
            ],
            [
             0.1111111111111111,
             "#46039f"
            ],
            [
             0.2222222222222222,
             "#7201a8"
            ],
            [
             0.3333333333333333,
             "#9c179e"
            ],
            [
             0.4444444444444444,
             "#bd3786"
            ],
            [
             0.5555555555555556,
             "#d8576b"
            ],
            [
             0.6666666666666666,
             "#ed7953"
            ],
            [
             0.7777777777777778,
             "#fb9f3a"
            ],
            [
             0.8888888888888888,
             "#fdca26"
            ],
            [
             1,
             "#f0f921"
            ]
           ]
          },
          "colorway": [
           "#636efa",
           "#EF553B",
           "#00cc96",
           "#ab63fa",
           "#FFA15A",
           "#19d3f3",
           "#FF6692",
           "#B6E880",
           "#FF97FF",
           "#FECB52"
          ],
          "font": {
           "color": "#2a3f5f"
          },
          "geo": {
           "bgcolor": "white",
           "lakecolor": "white",
           "landcolor": "#E5ECF6",
           "showlakes": true,
           "showland": true,
           "subunitcolor": "white"
          },
          "hoverlabel": {
           "align": "left"
          },
          "hovermode": "closest",
          "mapbox": {
           "style": "light"
          },
          "paper_bgcolor": "white",
          "plot_bgcolor": "#E5ECF6",
          "polar": {
           "angularaxis": {
            "gridcolor": "white",
            "linecolor": "white",
            "ticks": ""
           },
           "bgcolor": "#E5ECF6",
           "radialaxis": {
            "gridcolor": "white",
            "linecolor": "white",
            "ticks": ""
           }
          },
          "scene": {
           "xaxis": {
            "backgroundcolor": "#E5ECF6",
            "gridcolor": "white",
            "gridwidth": 2,
            "linecolor": "white",
            "showbackground": true,
            "ticks": "",
            "zerolinecolor": "white"
           },
           "yaxis": {
            "backgroundcolor": "#E5ECF6",
            "gridcolor": "white",
            "gridwidth": 2,
            "linecolor": "white",
            "showbackground": true,
            "ticks": "",
            "zerolinecolor": "white"
           },
           "zaxis": {
            "backgroundcolor": "#E5ECF6",
            "gridcolor": "white",
            "gridwidth": 2,
            "linecolor": "white",
            "showbackground": true,
            "ticks": "",
            "zerolinecolor": "white"
           }
          },
          "shapedefaults": {
           "line": {
            "color": "#2a3f5f"
           }
          },
          "ternary": {
           "aaxis": {
            "gridcolor": "white",
            "linecolor": "white",
            "ticks": ""
           },
           "baxis": {
            "gridcolor": "white",
            "linecolor": "white",
            "ticks": ""
           },
           "bgcolor": "#E5ECF6",
           "caxis": {
            "gridcolor": "white",
            "linecolor": "white",
            "ticks": ""
           }
          },
          "title": {
           "x": 0.05
          },
          "xaxis": {
           "automargin": true,
           "gridcolor": "white",
           "linecolor": "white",
           "ticks": "",
           "zerolinecolor": "white",
           "zerolinewidth": 2
          },
          "yaxis": {
           "automargin": true,
           "gridcolor": "white",
           "linecolor": "white",
           "ticks": "",
           "zerolinecolor": "white",
           "zerolinewidth": 2
          }
         }
        },
        "title": {
         "text": "group/top1_click"
        },
        "xaxis": {
         "type": "date"
        }
       }
      },
      "text/html": [
       "<div>\n",
       "        \n",
       "        \n",
       "            <div id=\"fcd2fa05-3301-4848-b794-997852d1a8ab\" class=\"plotly-graph-div\" style=\"height:525px; width:100%;\"></div>\n",
       "            <script type=\"text/javascript\">\n",
       "                require([\"plotly\"], function(Plotly) {\n",
       "                    window.PLOTLYENV=window.PLOTLYENV || {};\n",
       "                    \n",
       "                if (document.getElementById(\"fcd2fa05-3301-4848-b794-997852d1a8ab\")) {\n",
       "                    Plotly.newPlot(\n",
       "                        'fcd2fa05-3301-4848-b794-997852d1a8ab',\n",
       "                        [{\"line\": {\"shape\": \"spline\", \"smoothing\": 0.5}, \"marker\": {\"size\": 4}, \"mode\": \"lines+markers\", \"name\": \"15\", \"type\": \"scatter\", \"x\": [\"2020-05-11T07:00:00\", \"2020-05-11T08:00:00\", \"2020-05-11T09:00:00\", \"2020-05-11T10:00:00\", \"2020-05-11T11:00:00\", \"2020-05-11T12:00:00\", \"2020-05-11T13:00:00\", \"2020-05-11T14:00:00\", \"2020-05-11T15:00:00\", \"2020-05-11T16:00:00\", \"2020-05-11T17:00:00\", \"2020-05-11T18:00:00\", \"2020-05-11T19:00:00\", \"2020-05-11T20:00:00\", \"2020-05-11T21:00:00\", \"2020-05-11T22:00:00\", \"2020-05-11T23:00:00\"], \"y\": [0.4322268326417704, 0.3980161190328581, 0.4425531914893617, 0.4282945736434109, 0.425280199252802, 0.5072697899838449, 0.5147058823529411, 0.4727707959305805, 0.4564459930313589, 0.4808743169398907, 0.4439809296781883, 0.4595545134818289, 0.4621212121212121, 0.4652641878669276, 0.4480271531607976, 0.4533333333333333, 0.4479418886198547]}, {\"line\": {\"shape\": \"spline\", \"smoothing\": 0.5}, \"marker\": {\"size\": 4}, \"mode\": \"lines+markers\", \"name\": \"45600\", \"type\": \"scatter\", \"x\": [\"2020-05-11T07:00:00\", \"2020-05-11T08:00:00\", \"2020-05-11T09:00:00\", \"2020-05-11T10:00:00\", \"2020-05-11T11:00:00\", \"2020-05-11T12:00:00\", \"2020-05-11T13:00:00\", \"2020-05-11T14:00:00\", \"2020-05-11T15:00:00\", \"2020-05-11T16:00:00\", \"2020-05-11T17:00:00\", \"2020-05-11T18:00:00\", \"2020-05-11T19:00:00\", \"2020-05-11T20:00:00\", \"2020-05-11T21:00:00\", \"2020-05-11T22:00:00\", \"2020-05-11T23:00:00\"], \"y\": [0.4036697247706422, 0.4072742651723409, 0.4095585083583369, 0.3963588506251371, 0.4157256378084484, 0.4743104380746349, 0.4351285189718482, 0.42435424354243545, 0.41319240555881775, 0.4313842482100239, 0.4089197224975223, 0.4183734340823225, 0.4272363150867824, 0.41017863161442536, 0.4152965355255432, 0.40575479566305256, 0.3964215364412344]}, {\"line\": {\"shape\": \"spline\", \"smoothing\": 0.5}, \"marker\": {\"size\": 4}, \"mode\": \"lines+markers\", \"name\": \"45601\", \"type\": \"scatter\", \"x\": [\"2020-05-11T07:00:00\", \"2020-05-11T08:00:00\", \"2020-05-11T09:00:00\", \"2020-05-11T10:00:00\", \"2020-05-11T11:00:00\", \"2020-05-11T12:00:00\", \"2020-05-11T13:00:00\", \"2020-05-11T14:00:00\", \"2020-05-11T15:00:00\", \"2020-05-11T16:00:00\", \"2020-05-11T17:00:00\", \"2020-05-11T18:00:00\", \"2020-05-11T19:00:00\", \"2020-05-11T20:00:00\", \"2020-05-11T21:00:00\", \"2020-05-11T22:00:00\", \"2020-05-11T23:00:00\"], \"y\": [0.4053163961420842, 0.4104461831253965, 0.40548649807115295, 0.40184250932221977, 0.4167712254286909, 0.4667387777176853, 0.4265605875152999, 0.4198873567683045, 0.40771188099432376, 0.43556085918854415, 0.40555004955401386, 0.4147941936766753, 0.4230402441350372, 0.4125379170879677, 0.4155901350557839, 0.408673894912427, 0.3928102429415627]}, {\"line\": {\"shape\": \"spline\", \"smoothing\": 0.5}, \"marker\": {\"size\": 4}, \"mode\": \"lines+markers\", \"name\": \"45602\", \"type\": \"scatter\", \"x\": [\"2020-05-11T07:00:00\", \"2020-05-11T08:00:00\", \"2020-05-11T09:00:00\", \"2020-05-11T10:00:00\", \"2020-05-11T11:00:00\", \"2020-05-11T12:00:00\", \"2020-05-11T13:00:00\", \"2020-05-11T14:00:00\", \"2020-05-11T15:00:00\", \"2020-05-11T17:00:00\", \"2020-05-11T18:00:00\", \"2020-05-11T19:00:00\", \"2020-05-11T20:00:00\", \"2020-05-11T21:00:00\", \"2020-05-11T22:00:00\", \"2020-05-11T23:00:00\"], \"y\": [0.40696306751352623, 0.4142524846690632, 0.416845263609087, 0.4003070848870367, 0.4150982852363028, 0.464112250404749, 0.4565483476132191, 0.4297921926587687, 0.4212174593853984, 0.4025768087215064, 0.4247365281368065, 0.43124165554072097, 0.42214357937310415, 0.41661773341162656, 0.4083958854601056, 0.4010177281680893]}, {\"line\": {\"shape\": \"spline\", \"smoothing\": 0.5}, \"marker\": {\"size\": 4}, \"mode\": \"lines+markers\", \"name\": \"8\", \"type\": \"scatter\", \"x\": [\"2020-05-11T07:00:00\", \"2020-05-11T08:00:00\", \"2020-05-11T09:00:00\", \"2020-05-11T10:00:00\", \"2020-05-11T11:00:00\", \"2020-05-11T12:00:00\", \"2020-05-11T13:00:00\", \"2020-05-11T14:00:00\", \"2020-05-11T15:00:00\", \"2020-05-11T16:00:00\", \"2020-05-11T17:00:00\", \"2020-05-11T18:00:00\", \"2020-05-11T19:00:00\", \"2020-05-11T20:00:00\", \"2020-05-11T21:00:00\", \"2020-05-11T22:00:00\", \"2020-05-11T23:00:00\"], \"y\": [0.4467930029154519, 0.42088197146562906, 0.4402390438247012, 0.4423740510697032, 0.457433290978399, 0.4774193548387097, 0.4770318021201414, 0.442916915720263, 0.4350148367952522, 0.5055350553505535, 0.4611559975139838, 0.4615384615384616, 0.4705228031145717, 0.4737638748738648, 0.4507795100222717, 0.4353989469420818, 0.43570722057368944]}, {\"line\": {\"shape\": \"spline\", \"smoothing\": 0.5}, \"marker\": {\"size\": 4}, \"mode\": \"lines+markers\", \"name\": \"456\", \"type\": \"scatter\", \"x\": [\"2020-05-11T07:00:00\", \"2020-05-11T08:00:00\", \"2020-05-11T09:00:00\", \"2020-05-11T10:00:00\", \"2020-05-11T11:00:00\", \"2020-05-11T12:00:00\", \"2020-05-11T13:00:00\", \"2020-05-11T14:00:00\", \"2020-05-11T15:00:00\", \"2020-05-11T16:00:00\", \"2020-05-11T17:00:00\", \"2020-05-11T18:00:00\", \"2020-05-11T19:00:00\", \"2020-05-11T20:00:00\", \"2020-05-11T21:00:00\", \"2020-05-11T22:00:00\", \"2020-05-11T23:00:00\"], \"y\": [0.4286050341096213, 0.4292662296468598, 0.4414916416630947, 0.4358411932441325, 0.43203680468423256, 0.4943212547322877, 0.4577723378212975, 0.4445523402602447, 0.4390291642200039, 0.4665871121718377, 0.44935579781962337, 0.4503877510439451, 0.4632843791722296, 0.4538254128749578, 0.4481796829125073, 0.4384209063108146, 0.4310571240971766]}],\n",
       "                        {\"hovermode\": \"x\", \"template\": {\"data\": {\"bar\": [{\"error_x\": {\"color\": \"#2a3f5f\"}, \"error_y\": {\"color\": \"#2a3f5f\"}, \"marker\": {\"line\": {\"color\": \"#E5ECF6\", \"width\": 0.5}}, \"type\": \"bar\"}], \"barpolar\": [{\"marker\": {\"line\": {\"color\": \"#E5ECF6\", \"width\": 0.5}}, \"type\": \"barpolar\"}], \"carpet\": [{\"aaxis\": {\"endlinecolor\": \"#2a3f5f\", \"gridcolor\": \"white\", \"linecolor\": \"white\", \"minorgridcolor\": \"white\", \"startlinecolor\": \"#2a3f5f\"}, \"baxis\": {\"endlinecolor\": \"#2a3f5f\", \"gridcolor\": \"white\", \"linecolor\": \"white\", \"minorgridcolor\": \"white\", \"startlinecolor\": \"#2a3f5f\"}, \"type\": \"carpet\"}], \"choropleth\": [{\"colorbar\": {\"outlinewidth\": 0, \"ticks\": \"\"}, \"type\": \"choropleth\"}], \"contour\": [{\"colorbar\": {\"outlinewidth\": 0, \"ticks\": \"\"}, \"colorscale\": [[0.0, \"#0d0887\"], [0.1111111111111111, \"#46039f\"], [0.2222222222222222, \"#7201a8\"], [0.3333333333333333, \"#9c179e\"], [0.4444444444444444, \"#bd3786\"], [0.5555555555555556, \"#d8576b\"], [0.6666666666666666, \"#ed7953\"], [0.7777777777777778, \"#fb9f3a\"], [0.8888888888888888, \"#fdca26\"], [1.0, \"#f0f921\"]], \"type\": \"contour\"}], \"contourcarpet\": [{\"colorbar\": {\"outlinewidth\": 0, \"ticks\": \"\"}, \"type\": \"contourcarpet\"}], \"heatmap\": [{\"colorbar\": {\"outlinewidth\": 0, \"ticks\": \"\"}, \"colorscale\": [[0.0, \"#0d0887\"], [0.1111111111111111, \"#46039f\"], [0.2222222222222222, \"#7201a8\"], [0.3333333333333333, \"#9c179e\"], [0.4444444444444444, \"#bd3786\"], [0.5555555555555556, \"#d8576b\"], [0.6666666666666666, \"#ed7953\"], [0.7777777777777778, \"#fb9f3a\"], [0.8888888888888888, \"#fdca26\"], [1.0, \"#f0f921\"]], \"type\": \"heatmap\"}], \"heatmapgl\": [{\"colorbar\": {\"outlinewidth\": 0, \"ticks\": \"\"}, \"colorscale\": [[0.0, \"#0d0887\"], [0.1111111111111111, \"#46039f\"], [0.2222222222222222, \"#7201a8\"], [0.3333333333333333, \"#9c179e\"], [0.4444444444444444, \"#bd3786\"], [0.5555555555555556, \"#d8576b\"], [0.6666666666666666, \"#ed7953\"], [0.7777777777777778, \"#fb9f3a\"], [0.8888888888888888, \"#fdca26\"], [1.0, \"#f0f921\"]], \"type\": \"heatmapgl\"}], \"histogram\": [{\"marker\": {\"colorbar\": {\"outlinewidth\": 0, \"ticks\": \"\"}}, \"type\": \"histogram\"}], \"histogram2d\": [{\"colorbar\": {\"outlinewidth\": 0, \"ticks\": \"\"}, \"colorscale\": [[0.0, \"#0d0887\"], [0.1111111111111111, \"#46039f\"], [0.2222222222222222, \"#7201a8\"], [0.3333333333333333, \"#9c179e\"], [0.4444444444444444, \"#bd3786\"], [0.5555555555555556, \"#d8576b\"], [0.6666666666666666, \"#ed7953\"], [0.7777777777777778, \"#fb9f3a\"], [0.8888888888888888, \"#fdca26\"], [1.0, \"#f0f921\"]], \"type\": \"histogram2d\"}], \"histogram2dcontour\": [{\"colorbar\": {\"outlinewidth\": 0, \"ticks\": \"\"}, \"colorscale\": [[0.0, \"#0d0887\"], [0.1111111111111111, \"#46039f\"], [0.2222222222222222, \"#7201a8\"], [0.3333333333333333, \"#9c179e\"], [0.4444444444444444, \"#bd3786\"], [0.5555555555555556, \"#d8576b\"], [0.6666666666666666, \"#ed7953\"], [0.7777777777777778, \"#fb9f3a\"], [0.8888888888888888, \"#fdca26\"], [1.0, \"#f0f921\"]], \"type\": \"histogram2dcontour\"}], \"mesh3d\": [{\"colorbar\": {\"outlinewidth\": 0, \"ticks\": \"\"}, \"type\": \"mesh3d\"}], \"parcoords\": [{\"line\": {\"colorbar\": {\"outlinewidth\": 0, \"ticks\": \"\"}}, \"type\": \"parcoords\"}], \"scatter\": [{\"marker\": {\"colorbar\": {\"outlinewidth\": 0, \"ticks\": \"\"}}, \"type\": \"scatter\"}], \"scatter3d\": [{\"line\": {\"colorbar\": {\"outlinewidth\": 0, \"ticks\": \"\"}}, \"marker\": {\"colorbar\": {\"outlinewidth\": 0, \"ticks\": \"\"}}, \"type\": \"scatter3d\"}], \"scattercarpet\": [{\"marker\": {\"colorbar\": {\"outlinewidth\": 0, \"ticks\": \"\"}}, \"type\": \"scattercarpet\"}], \"scattergeo\": [{\"marker\": {\"colorbar\": {\"outlinewidth\": 0, \"ticks\": \"\"}}, \"type\": \"scattergeo\"}], \"scattergl\": [{\"marker\": {\"colorbar\": {\"outlinewidth\": 0, \"ticks\": \"\"}}, \"type\": \"scattergl\"}], \"scattermapbox\": [{\"marker\": {\"colorbar\": {\"outlinewidth\": 0, \"ticks\": \"\"}}, \"type\": \"scattermapbox\"}], \"scatterpolar\": [{\"marker\": {\"colorbar\": {\"outlinewidth\": 0, \"ticks\": \"\"}}, \"type\": \"scatterpolar\"}], \"scatterpolargl\": [{\"marker\": {\"colorbar\": {\"outlinewidth\": 0, \"ticks\": \"\"}}, \"type\": \"scatterpolargl\"}], \"scatterternary\": [{\"marker\": {\"colorbar\": {\"outlinewidth\": 0, \"ticks\": \"\"}}, \"type\": \"scatterternary\"}], \"surface\": [{\"colorbar\": {\"outlinewidth\": 0, \"ticks\": \"\"}, \"colorscale\": [[0.0, \"#0d0887\"], [0.1111111111111111, \"#46039f\"], [0.2222222222222222, \"#7201a8\"], [0.3333333333333333, \"#9c179e\"], [0.4444444444444444, \"#bd3786\"], [0.5555555555555556, \"#d8576b\"], [0.6666666666666666, \"#ed7953\"], [0.7777777777777778, \"#fb9f3a\"], [0.8888888888888888, \"#fdca26\"], [1.0, \"#f0f921\"]], \"type\": \"surface\"}], \"table\": [{\"cells\": {\"fill\": {\"color\": \"#EBF0F8\"}, \"line\": {\"color\": \"white\"}}, \"header\": {\"fill\": {\"color\": \"#C8D4E3\"}, \"line\": {\"color\": \"white\"}}, \"type\": \"table\"}]}, \"layout\": {\"annotationdefaults\": {\"arrowcolor\": \"#2a3f5f\", \"arrowhead\": 0, \"arrowwidth\": 1}, \"colorscale\": {\"diverging\": [[0, \"#8e0152\"], [0.1, \"#c51b7d\"], [0.2, \"#de77ae\"], [0.3, \"#f1b6da\"], [0.4, \"#fde0ef\"], [0.5, \"#f7f7f7\"], [0.6, \"#e6f5d0\"], [0.7, \"#b8e186\"], [0.8, \"#7fbc41\"], [0.9, \"#4d9221\"], [1, \"#276419\"]], \"sequential\": [[0.0, \"#0d0887\"], [0.1111111111111111, \"#46039f\"], [0.2222222222222222, \"#7201a8\"], [0.3333333333333333, \"#9c179e\"], [0.4444444444444444, \"#bd3786\"], [0.5555555555555556, \"#d8576b\"], [0.6666666666666666, \"#ed7953\"], [0.7777777777777778, \"#fb9f3a\"], [0.8888888888888888, \"#fdca26\"], [1.0, \"#f0f921\"]], \"sequentialminus\": [[0.0, \"#0d0887\"], [0.1111111111111111, \"#46039f\"], [0.2222222222222222, \"#7201a8\"], [0.3333333333333333, \"#9c179e\"], [0.4444444444444444, \"#bd3786\"], [0.5555555555555556, \"#d8576b\"], [0.6666666666666666, \"#ed7953\"], [0.7777777777777778, \"#fb9f3a\"], [0.8888888888888888, \"#fdca26\"], [1.0, \"#f0f921\"]]}, \"colorway\": [\"#636efa\", \"#EF553B\", \"#00cc96\", \"#ab63fa\", \"#FFA15A\", \"#19d3f3\", \"#FF6692\", \"#B6E880\", \"#FF97FF\", \"#FECB52\"], \"font\": {\"color\": \"#2a3f5f\"}, \"geo\": {\"bgcolor\": \"white\", \"lakecolor\": \"white\", \"landcolor\": \"#E5ECF6\", \"showlakes\": true, \"showland\": true, \"subunitcolor\": \"white\"}, \"hoverlabel\": {\"align\": \"left\"}, \"hovermode\": \"closest\", \"mapbox\": {\"style\": \"light\"}, \"paper_bgcolor\": \"white\", \"plot_bgcolor\": \"#E5ECF6\", \"polar\": {\"angularaxis\": {\"gridcolor\": \"white\", \"linecolor\": \"white\", \"ticks\": \"\"}, \"bgcolor\": \"#E5ECF6\", \"radialaxis\": {\"gridcolor\": \"white\", \"linecolor\": \"white\", \"ticks\": \"\"}}, \"scene\": {\"xaxis\": {\"backgroundcolor\": \"#E5ECF6\", \"gridcolor\": \"white\", \"gridwidth\": 2, \"linecolor\": \"white\", \"showbackground\": true, \"ticks\": \"\", \"zerolinecolor\": \"white\"}, \"yaxis\": {\"backgroundcolor\": \"#E5ECF6\", \"gridcolor\": \"white\", \"gridwidth\": 2, \"linecolor\": \"white\", \"showbackground\": true, \"ticks\": \"\", \"zerolinecolor\": \"white\"}, \"zaxis\": {\"backgroundcolor\": \"#E5ECF6\", \"gridcolor\": \"white\", \"gridwidth\": 2, \"linecolor\": \"white\", \"showbackground\": true, \"ticks\": \"\", \"zerolinecolor\": \"white\"}}, \"shapedefaults\": {\"line\": {\"color\": \"#2a3f5f\"}}, \"ternary\": {\"aaxis\": {\"gridcolor\": \"white\", \"linecolor\": \"white\", \"ticks\": \"\"}, \"baxis\": {\"gridcolor\": \"white\", \"linecolor\": \"white\", \"ticks\": \"\"}, \"bgcolor\": \"#E5ECF6\", \"caxis\": {\"gridcolor\": \"white\", \"linecolor\": \"white\", \"ticks\": \"\"}}, \"title\": {\"x\": 0.05}, \"xaxis\": {\"automargin\": true, \"gridcolor\": \"white\", \"linecolor\": \"white\", \"ticks\": \"\", \"zerolinecolor\": \"white\", \"zerolinewidth\": 2}, \"yaxis\": {\"automargin\": true, \"gridcolor\": \"white\", \"linecolor\": \"white\", \"ticks\": \"\", \"zerolinecolor\": \"white\", \"zerolinewidth\": 2}}}, \"title\": {\"text\": \"group/top1_click\"}, \"xaxis\": {\"type\": \"date\"}},\n",
       "                        {\"responsive\": true}\n",
       "                    ).then(function(){\n",
       "                            \n",
       "var gd = document.getElementById('fcd2fa05-3301-4848-b794-997852d1a8ab');\n",
       "var x = new MutationObserver(function (mutations, observer) {{\n",
       "        var display = window.getComputedStyle(gd).display;\n",
       "        if (!display || display === 'none') {{\n",
       "            console.log([gd, 'removed!']);\n",
       "            Plotly.purge(gd);\n",
       "            observer.disconnect();\n",
       "        }}\n",
       "}});\n",
       "\n",
       "// Listen for the removal of the full notebook cells\n",
       "var notebookContainer = gd.closest('#notebook-container');\n",
       "if (notebookContainer) {{\n",
       "    x.observe(notebookContainer, {childList: true});\n",
       "}}\n",
       "\n",
       "// Listen for the clearing of the current output cell\n",
       "var outputEl = gd.closest('.output');\n",
       "if (outputEl) {{\n",
       "    x.observe(outputEl, {childList: true});\n",
       "}}\n",
       "\n",
       "                        })\n",
       "                };\n",
       "                });\n",
       "            </script>\n",
       "        </div>"
      ]
     },
     "metadata": {},
     "output_type": "display_data"
    },
    {
     "data": {
      "application/vnd.plotly.v1+json": {
       "config": {
        "linkText": "Export to plot.ly",
        "plotlyServerURL": "https://plot.ly",
        "showLink": false
       },
       "data": [
        {
         "line": {
          "shape": "spline",
          "smoothing": 0.5
         },
         "marker": {
          "size": 4
         },
         "mode": "lines+markers",
         "name": "15",
         "type": "scatter",
         "x": [
          "2020-05-11T07:00:00",
          "2020-05-11T08:00:00",
          "2020-05-11T09:00:00",
          "2020-05-11T10:00:00",
          "2020-05-11T11:00:00",
          "2020-05-11T12:00:00",
          "2020-05-11T13:00:00",
          "2020-05-11T14:00:00",
          "2020-05-11T15:00:00",
          "2020-05-11T16:00:00",
          "2020-05-11T17:00:00",
          "2020-05-11T18:00:00",
          "2020-05-11T19:00:00",
          "2020-05-11T20:00:00",
          "2020-05-11T21:00:00",
          "2020-05-11T22:00:00",
          "2020-05-11T23:00:00"
         ],
         "y": [
          0.16412398595471606,
          0.153377496252599,
          0.15448654273686202,
          0.1592196981094228,
          0.15652252906976746,
          0.16963087248322148,
          0.14764788076385654,
          0.1627240805766032,
          0.16268467707893625,
          0.16155312879181835,
          0.1635568639335036,
          0.16953745808644527,
          0.1616211338091722,
          0.16962346125995656,
          0.17810331534309945,
          0.17130709498361332,
          0.15302849235800994
         ]
        },
        {
         "line": {
          "shape": "spline",
          "smoothing": 0.5
         },
         "marker": {
          "size": 4
         },
         "mode": "lines+markers",
         "name": "45600",
         "type": "scatter",
         "x": [
          "2020-05-11T07:00:00",
          "2020-05-11T08:00:00",
          "2020-05-11T09:00:00",
          "2020-05-11T10:00:00",
          "2020-05-11T11:00:00",
          "2020-05-11T12:00:00",
          "2020-05-11T13:00:00",
          "2020-05-11T14:00:00",
          "2020-05-11T15:00:00",
          "2020-05-11T16:00:00",
          "2020-05-11T17:00:00",
          "2020-05-11T18:00:00",
          "2020-05-11T19:00:00",
          "2020-05-11T20:00:00",
          "2020-05-11T21:00:00",
          "2020-05-11T22:00:00",
          "2020-05-11T23:00:00"
         ],
         "y": [
          0.15388952581427254,
          0.16097770154373928,
          0.15678961888219067,
          0.15699969632553906,
          0.1582325697056355,
          0.16374595378948542,
          0.16056004064811155,
          0.1714907903094093,
          0.16368051265104386,
          0.17008831958823184,
          0.1582884500299222,
          0.16643484906381353,
          0.1794741227664105,
          0.17376300563036767,
          0.17620289575082376,
          0.16925570066931322,
          0.1554156363359078
         ]
        },
        {
         "line": {
          "shape": "spline",
          "smoothing": 0.5
         },
         "marker": {
          "size": 4
         },
         "mode": "lines+markers",
         "name": "45601",
         "type": "scatter",
         "x": [
          "2020-05-11T07:00:00",
          "2020-05-11T08:00:00",
          "2020-05-11T09:00:00",
          "2020-05-11T10:00:00",
          "2020-05-11T11:00:00",
          "2020-05-11T12:00:00",
          "2020-05-11T13:00:00",
          "2020-05-11T14:00:00",
          "2020-05-11T15:00:00",
          "2020-05-11T16:00:00",
          "2020-05-11T17:00:00",
          "2020-05-11T18:00:00",
          "2020-05-11T19:00:00",
          "2020-05-11T20:00:00",
          "2020-05-11T21:00:00",
          "2020-05-11T22:00:00",
          "2020-05-11T23:00:00"
         ],
         "y": [
          0.15388952581427254,
          0.16097770154373928,
          0.15678961888219067,
          0.15699969632553906,
          0.1582325697056355,
          0.16374595378948542,
          0.16056004064811155,
          0.1714907903094093,
          0.16368051265104386,
          0.17008831958823184,
          0.1582884500299222,
          0.16643484906381353,
          0.1794741227664105,
          0.17376300563036767,
          0.17620289575082376,
          0.16925570066931322,
          0.1554156363359078
         ]
        },
        {
         "line": {
          "shape": "spline",
          "smoothing": 0.5
         },
         "marker": {
          "size": 4
         },
         "mode": "lines+markers",
         "name": "45602",
         "type": "scatter",
         "x": [
          "2020-05-11T07:00:00",
          "2020-05-11T08:00:00",
          "2020-05-11T09:00:00",
          "2020-05-11T10:00:00",
          "2020-05-11T11:00:00",
          "2020-05-11T12:00:00",
          "2020-05-11T13:00:00",
          "2020-05-11T14:00:00",
          "2020-05-11T15:00:00",
          "2020-05-11T17:00:00",
          "2020-05-11T18:00:00",
          "2020-05-11T19:00:00",
          "2020-05-11T20:00:00",
          "2020-05-11T21:00:00",
          "2020-05-11T22:00:00",
          "2020-05-11T23:00:00"
         ],
         "y": [
          0.15388952581427254,
          0.16097770154373928,
          0.15678961888219067,
          0.15699969632553906,
          0.1582325697056355,
          0.16276619343389528,
          0.16056004064811155,
          0.1714907903094093,
          0.16368051265104386,
          0.1582884500299222,
          0.16643484906381353,
          0.1794741227664105,
          0.17376300563036767,
          0.17620289575082376,
          0.16925570066931322,
          0.1554156363359078
         ]
        },
        {
         "line": {
          "shape": "spline",
          "smoothing": 0.5
         },
         "marker": {
          "size": 4
         },
         "mode": "lines+markers",
         "name": "8",
         "type": "scatter",
         "x": [
          "2020-05-11T07:00:00",
          "2020-05-11T08:00:00",
          "2020-05-11T09:00:00",
          "2020-05-11T10:00:00",
          "2020-05-11T11:00:00",
          "2020-05-11T12:00:00",
          "2020-05-11T13:00:00",
          "2020-05-11T14:00:00",
          "2020-05-11T15:00:00",
          "2020-05-11T16:00:00",
          "2020-05-11T17:00:00",
          "2020-05-11T18:00:00",
          "2020-05-11T19:00:00",
          "2020-05-11T20:00:00",
          "2020-05-11T21:00:00",
          "2020-05-11T22:00:00",
          "2020-05-11T23:00:00"
         ],
         "y": [
          0.1598867147270855,
          0.1525503531258174,
          0.1511217866816579,
          0.15417017691659646,
          0.1647901740020471,
          0.16753835425383545,
          0.16015049893669228,
          0.1658532176428055,
          0.15821785651640066,
          0.1440349175557711,
          0.15440984035592778,
          0.17021586931155192,
          0.17753851698351206,
          0.17192331478045764,
          0.1694915254237288,
          0.18188441698481625,
          0.16176140193215008
         ]
        },
        {
         "line": {
          "shape": "spline",
          "smoothing": 0.5
         },
         "marker": {
          "size": 4
         },
         "mode": "lines+markers",
         "name": "456",
         "type": "scatter",
         "x": [
          "2020-05-11T07:00:00",
          "2020-05-11T08:00:00",
          "2020-05-11T09:00:00",
          "2020-05-11T10:00:00",
          "2020-05-11T11:00:00",
          "2020-05-11T12:00:00",
          "2020-05-11T13:00:00",
          "2020-05-11T14:00:00",
          "2020-05-11T15:00:00",
          "2020-05-11T16:00:00",
          "2020-05-11T17:00:00",
          "2020-05-11T18:00:00",
          "2020-05-11T19:00:00",
          "2020-05-11T20:00:00",
          "2020-05-11T21:00:00",
          "2020-05-11T22:00:00",
          "2020-05-11T23:00:00"
         ],
         "y": [
          0.15388952581427254,
          0.16097770154373928,
          0.15678961888219067,
          0.15699969632553906,
          0.1582325697056355,
          0.16374595378948542,
          0.16056004064811155,
          0.1714907903094093,
          0.16368051265104386,
          0.17008831958823184,
          0.1582884500299222,
          0.16643484906381353,
          0.1794741227664105,
          0.17376300563036767,
          0.17620289575082376,
          0.16925570066931322,
          0.1554156363359078
         ]
        }
       ],
       "layout": {
        "hovermode": "x",
        "template": {
         "data": {
          "bar": [
           {
            "error_x": {
             "color": "#2a3f5f"
            },
            "error_y": {
             "color": "#2a3f5f"
            },
            "marker": {
             "line": {
              "color": "#E5ECF6",
              "width": 0.5
             }
            },
            "type": "bar"
           }
          ],
          "barpolar": [
           {
            "marker": {
             "line": {
              "color": "#E5ECF6",
              "width": 0.5
             }
            },
            "type": "barpolar"
           }
          ],
          "carpet": [
           {
            "aaxis": {
             "endlinecolor": "#2a3f5f",
             "gridcolor": "white",
             "linecolor": "white",
             "minorgridcolor": "white",
             "startlinecolor": "#2a3f5f"
            },
            "baxis": {
             "endlinecolor": "#2a3f5f",
             "gridcolor": "white",
             "linecolor": "white",
             "minorgridcolor": "white",
             "startlinecolor": "#2a3f5f"
            },
            "type": "carpet"
           }
          ],
          "choropleth": [
           {
            "colorbar": {
             "outlinewidth": 0,
             "ticks": ""
            },
            "type": "choropleth"
           }
          ],
          "contour": [
           {
            "colorbar": {
             "outlinewidth": 0,
             "ticks": ""
            },
            "colorscale": [
             [
              0,
              "#0d0887"
             ],
             [
              0.1111111111111111,
              "#46039f"
             ],
             [
              0.2222222222222222,
              "#7201a8"
             ],
             [
              0.3333333333333333,
              "#9c179e"
             ],
             [
              0.4444444444444444,
              "#bd3786"
             ],
             [
              0.5555555555555556,
              "#d8576b"
             ],
             [
              0.6666666666666666,
              "#ed7953"
             ],
             [
              0.7777777777777778,
              "#fb9f3a"
             ],
             [
              0.8888888888888888,
              "#fdca26"
             ],
             [
              1,
              "#f0f921"
             ]
            ],
            "type": "contour"
           }
          ],
          "contourcarpet": [
           {
            "colorbar": {
             "outlinewidth": 0,
             "ticks": ""
            },
            "type": "contourcarpet"
           }
          ],
          "heatmap": [
           {
            "colorbar": {
             "outlinewidth": 0,
             "ticks": ""
            },
            "colorscale": [
             [
              0,
              "#0d0887"
             ],
             [
              0.1111111111111111,
              "#46039f"
             ],
             [
              0.2222222222222222,
              "#7201a8"
             ],
             [
              0.3333333333333333,
              "#9c179e"
             ],
             [
              0.4444444444444444,
              "#bd3786"
             ],
             [
              0.5555555555555556,
              "#d8576b"
             ],
             [
              0.6666666666666666,
              "#ed7953"
             ],
             [
              0.7777777777777778,
              "#fb9f3a"
             ],
             [
              0.8888888888888888,
              "#fdca26"
             ],
             [
              1,
              "#f0f921"
             ]
            ],
            "type": "heatmap"
           }
          ],
          "heatmapgl": [
           {
            "colorbar": {
             "outlinewidth": 0,
             "ticks": ""
            },
            "colorscale": [
             [
              0,
              "#0d0887"
             ],
             [
              0.1111111111111111,
              "#46039f"
             ],
             [
              0.2222222222222222,
              "#7201a8"
             ],
             [
              0.3333333333333333,
              "#9c179e"
             ],
             [
              0.4444444444444444,
              "#bd3786"
             ],
             [
              0.5555555555555556,
              "#d8576b"
             ],
             [
              0.6666666666666666,
              "#ed7953"
             ],
             [
              0.7777777777777778,
              "#fb9f3a"
             ],
             [
              0.8888888888888888,
              "#fdca26"
             ],
             [
              1,
              "#f0f921"
             ]
            ],
            "type": "heatmapgl"
           }
          ],
          "histogram": [
           {
            "marker": {
             "colorbar": {
              "outlinewidth": 0,
              "ticks": ""
             }
            },
            "type": "histogram"
           }
          ],
          "histogram2d": [
           {
            "colorbar": {
             "outlinewidth": 0,
             "ticks": ""
            },
            "colorscale": [
             [
              0,
              "#0d0887"
             ],
             [
              0.1111111111111111,
              "#46039f"
             ],
             [
              0.2222222222222222,
              "#7201a8"
             ],
             [
              0.3333333333333333,
              "#9c179e"
             ],
             [
              0.4444444444444444,
              "#bd3786"
             ],
             [
              0.5555555555555556,
              "#d8576b"
             ],
             [
              0.6666666666666666,
              "#ed7953"
             ],
             [
              0.7777777777777778,
              "#fb9f3a"
             ],
             [
              0.8888888888888888,
              "#fdca26"
             ],
             [
              1,
              "#f0f921"
             ]
            ],
            "type": "histogram2d"
           }
          ],
          "histogram2dcontour": [
           {
            "colorbar": {
             "outlinewidth": 0,
             "ticks": ""
            },
            "colorscale": [
             [
              0,
              "#0d0887"
             ],
             [
              0.1111111111111111,
              "#46039f"
             ],
             [
              0.2222222222222222,
              "#7201a8"
             ],
             [
              0.3333333333333333,
              "#9c179e"
             ],
             [
              0.4444444444444444,
              "#bd3786"
             ],
             [
              0.5555555555555556,
              "#d8576b"
             ],
             [
              0.6666666666666666,
              "#ed7953"
             ],
             [
              0.7777777777777778,
              "#fb9f3a"
             ],
             [
              0.8888888888888888,
              "#fdca26"
             ],
             [
              1,
              "#f0f921"
             ]
            ],
            "type": "histogram2dcontour"
           }
          ],
          "mesh3d": [
           {
            "colorbar": {
             "outlinewidth": 0,
             "ticks": ""
            },
            "type": "mesh3d"
           }
          ],
          "parcoords": [
           {
            "line": {
             "colorbar": {
              "outlinewidth": 0,
              "ticks": ""
             }
            },
            "type": "parcoords"
           }
          ],
          "scatter": [
           {
            "marker": {
             "colorbar": {
              "outlinewidth": 0,
              "ticks": ""
             }
            },
            "type": "scatter"
           }
          ],
          "scatter3d": [
           {
            "line": {
             "colorbar": {
              "outlinewidth": 0,
              "ticks": ""
             }
            },
            "marker": {
             "colorbar": {
              "outlinewidth": 0,
              "ticks": ""
             }
            },
            "type": "scatter3d"
           }
          ],
          "scattercarpet": [
           {
            "marker": {
             "colorbar": {
              "outlinewidth": 0,
              "ticks": ""
             }
            },
            "type": "scattercarpet"
           }
          ],
          "scattergeo": [
           {
            "marker": {
             "colorbar": {
              "outlinewidth": 0,
              "ticks": ""
             }
            },
            "type": "scattergeo"
           }
          ],
          "scattergl": [
           {
            "marker": {
             "colorbar": {
              "outlinewidth": 0,
              "ticks": ""
             }
            },
            "type": "scattergl"
           }
          ],
          "scattermapbox": [
           {
            "marker": {
             "colorbar": {
              "outlinewidth": 0,
              "ticks": ""
             }
            },
            "type": "scattermapbox"
           }
          ],
          "scatterpolar": [
           {
            "marker": {
             "colorbar": {
              "outlinewidth": 0,
              "ticks": ""
             }
            },
            "type": "scatterpolar"
           }
          ],
          "scatterpolargl": [
           {
            "marker": {
             "colorbar": {
              "outlinewidth": 0,
              "ticks": ""
             }
            },
            "type": "scatterpolargl"
           }
          ],
          "scatterternary": [
           {
            "marker": {
             "colorbar": {
              "outlinewidth": 0,
              "ticks": ""
             }
            },
            "type": "scatterternary"
           }
          ],
          "surface": [
           {
            "colorbar": {
             "outlinewidth": 0,
             "ticks": ""
            },
            "colorscale": [
             [
              0,
              "#0d0887"
             ],
             [
              0.1111111111111111,
              "#46039f"
             ],
             [
              0.2222222222222222,
              "#7201a8"
             ],
             [
              0.3333333333333333,
              "#9c179e"
             ],
             [
              0.4444444444444444,
              "#bd3786"
             ],
             [
              0.5555555555555556,
              "#d8576b"
             ],
             [
              0.6666666666666666,
              "#ed7953"
             ],
             [
              0.7777777777777778,
              "#fb9f3a"
             ],
             [
              0.8888888888888888,
              "#fdca26"
             ],
             [
              1,
              "#f0f921"
             ]
            ],
            "type": "surface"
           }
          ],
          "table": [
           {
            "cells": {
             "fill": {
              "color": "#EBF0F8"
             },
             "line": {
              "color": "white"
             }
            },
            "header": {
             "fill": {
              "color": "#C8D4E3"
             },
             "line": {
              "color": "white"
             }
            },
            "type": "table"
           }
          ]
         },
         "layout": {
          "annotationdefaults": {
           "arrowcolor": "#2a3f5f",
           "arrowhead": 0,
           "arrowwidth": 1
          },
          "colorscale": {
           "diverging": [
            [
             0,
             "#8e0152"
            ],
            [
             0.1,
             "#c51b7d"
            ],
            [
             0.2,
             "#de77ae"
            ],
            [
             0.3,
             "#f1b6da"
            ],
            [
             0.4,
             "#fde0ef"
            ],
            [
             0.5,
             "#f7f7f7"
            ],
            [
             0.6,
             "#e6f5d0"
            ],
            [
             0.7,
             "#b8e186"
            ],
            [
             0.8,
             "#7fbc41"
            ],
            [
             0.9,
             "#4d9221"
            ],
            [
             1,
             "#276419"
            ]
           ],
           "sequential": [
            [
             0,
             "#0d0887"
            ],
            [
             0.1111111111111111,
             "#46039f"
            ],
            [
             0.2222222222222222,
             "#7201a8"
            ],
            [
             0.3333333333333333,
             "#9c179e"
            ],
            [
             0.4444444444444444,
             "#bd3786"
            ],
            [
             0.5555555555555556,
             "#d8576b"
            ],
            [
             0.6666666666666666,
             "#ed7953"
            ],
            [
             0.7777777777777778,
             "#fb9f3a"
            ],
            [
             0.8888888888888888,
             "#fdca26"
            ],
            [
             1,
             "#f0f921"
            ]
           ],
           "sequentialminus": [
            [
             0,
             "#0d0887"
            ],
            [
             0.1111111111111111,
             "#46039f"
            ],
            [
             0.2222222222222222,
             "#7201a8"
            ],
            [
             0.3333333333333333,
             "#9c179e"
            ],
            [
             0.4444444444444444,
             "#bd3786"
            ],
            [
             0.5555555555555556,
             "#d8576b"
            ],
            [
             0.6666666666666666,
             "#ed7953"
            ],
            [
             0.7777777777777778,
             "#fb9f3a"
            ],
            [
             0.8888888888888888,
             "#fdca26"
            ],
            [
             1,
             "#f0f921"
            ]
           ]
          },
          "colorway": [
           "#636efa",
           "#EF553B",
           "#00cc96",
           "#ab63fa",
           "#FFA15A",
           "#19d3f3",
           "#FF6692",
           "#B6E880",
           "#FF97FF",
           "#FECB52"
          ],
          "font": {
           "color": "#2a3f5f"
          },
          "geo": {
           "bgcolor": "white",
           "lakecolor": "white",
           "landcolor": "#E5ECF6",
           "showlakes": true,
           "showland": true,
           "subunitcolor": "white"
          },
          "hoverlabel": {
           "align": "left"
          },
          "hovermode": "closest",
          "mapbox": {
           "style": "light"
          },
          "paper_bgcolor": "white",
          "plot_bgcolor": "#E5ECF6",
          "polar": {
           "angularaxis": {
            "gridcolor": "white",
            "linecolor": "white",
            "ticks": ""
           },
           "bgcolor": "#E5ECF6",
           "radialaxis": {
            "gridcolor": "white",
            "linecolor": "white",
            "ticks": ""
           }
          },
          "scene": {
           "xaxis": {
            "backgroundcolor": "#E5ECF6",
            "gridcolor": "white",
            "gridwidth": 2,
            "linecolor": "white",
            "showbackground": true,
            "ticks": "",
            "zerolinecolor": "white"
           },
           "yaxis": {
            "backgroundcolor": "#E5ECF6",
            "gridcolor": "white",
            "gridwidth": 2,
            "linecolor": "white",
            "showbackground": true,
            "ticks": "",
            "zerolinecolor": "white"
           },
           "zaxis": {
            "backgroundcolor": "#E5ECF6",
            "gridcolor": "white",
            "gridwidth": 2,
            "linecolor": "white",
            "showbackground": true,
            "ticks": "",
            "zerolinecolor": "white"
           }
          },
          "shapedefaults": {
           "line": {
            "color": "#2a3f5f"
           }
          },
          "ternary": {
           "aaxis": {
            "gridcolor": "white",
            "linecolor": "white",
            "ticks": ""
           },
           "baxis": {
            "gridcolor": "white",
            "linecolor": "white",
            "ticks": ""
           },
           "bgcolor": "#E5ECF6",
           "caxis": {
            "gridcolor": "white",
            "linecolor": "white",
            "ticks": ""
           }
          },
          "title": {
           "x": 0.05
          },
          "xaxis": {
           "automargin": true,
           "gridcolor": "white",
           "linecolor": "white",
           "ticks": "",
           "zerolinecolor": "white",
           "zerolinewidth": 2
          },
          "yaxis": {
           "automargin": true,
           "gridcolor": "white",
           "linecolor": "white",
           "ticks": "",
           "zerolinecolor": "white",
           "zerolinewidth": 2
          }
         }
        },
        "title": {
         "text": "stats/click_ratio"
        },
        "xaxis": {
         "type": "date"
        }
       }
      },
      "text/html": [
       "<div>\n",
       "        \n",
       "        \n",
       "            <div id=\"be81bd08-4476-4b01-a491-07393f21bbc4\" class=\"plotly-graph-div\" style=\"height:525px; width:100%;\"></div>\n",
       "            <script type=\"text/javascript\">\n",
       "                require([\"plotly\"], function(Plotly) {\n",
       "                    window.PLOTLYENV=window.PLOTLYENV || {};\n",
       "                    \n",
       "                if (document.getElementById(\"be81bd08-4476-4b01-a491-07393f21bbc4\")) {\n",
       "                    Plotly.newPlot(\n",
       "                        'be81bd08-4476-4b01-a491-07393f21bbc4',\n",
       "                        [{\"line\": {\"shape\": \"spline\", \"smoothing\": 0.5}, \"marker\": {\"size\": 4}, \"mode\": \"lines+markers\", \"name\": \"15\", \"type\": \"scatter\", \"x\": [\"2020-05-11T07:00:00\", \"2020-05-11T08:00:00\", \"2020-05-11T09:00:00\", \"2020-05-11T10:00:00\", \"2020-05-11T11:00:00\", \"2020-05-11T12:00:00\", \"2020-05-11T13:00:00\", \"2020-05-11T14:00:00\", \"2020-05-11T15:00:00\", \"2020-05-11T16:00:00\", \"2020-05-11T17:00:00\", \"2020-05-11T18:00:00\", \"2020-05-11T19:00:00\", \"2020-05-11T20:00:00\", \"2020-05-11T21:00:00\", \"2020-05-11T22:00:00\", \"2020-05-11T23:00:00\"], \"y\": [0.16412398595471606, 0.153377496252599, 0.15448654273686202, 0.1592196981094228, 0.15652252906976746, 0.16963087248322148, 0.14764788076385654, 0.1627240805766032, 0.16268467707893625, 0.16155312879181835, 0.1635568639335036, 0.16953745808644527, 0.1616211338091722, 0.16962346125995656, 0.17810331534309945, 0.17130709498361332, 0.15302849235800994]}, {\"line\": {\"shape\": \"spline\", \"smoothing\": 0.5}, \"marker\": {\"size\": 4}, \"mode\": \"lines+markers\", \"name\": \"45600\", \"type\": \"scatter\", \"x\": [\"2020-05-11T07:00:00\", \"2020-05-11T08:00:00\", \"2020-05-11T09:00:00\", \"2020-05-11T10:00:00\", \"2020-05-11T11:00:00\", \"2020-05-11T12:00:00\", \"2020-05-11T13:00:00\", \"2020-05-11T14:00:00\", \"2020-05-11T15:00:00\", \"2020-05-11T16:00:00\", \"2020-05-11T17:00:00\", \"2020-05-11T18:00:00\", \"2020-05-11T19:00:00\", \"2020-05-11T20:00:00\", \"2020-05-11T21:00:00\", \"2020-05-11T22:00:00\", \"2020-05-11T23:00:00\"], \"y\": [0.15388952581427254, 0.16097770154373928, 0.15678961888219067, 0.15699969632553906, 0.1582325697056355, 0.16374595378948542, 0.16056004064811155, 0.1714907903094093, 0.16368051265104386, 0.17008831958823184, 0.1582884500299222, 0.16643484906381353, 0.1794741227664105, 0.17376300563036767, 0.17620289575082376, 0.16925570066931322, 0.1554156363359078]}, {\"line\": {\"shape\": \"spline\", \"smoothing\": 0.5}, \"marker\": {\"size\": 4}, \"mode\": \"lines+markers\", \"name\": \"45601\", \"type\": \"scatter\", \"x\": [\"2020-05-11T07:00:00\", \"2020-05-11T08:00:00\", \"2020-05-11T09:00:00\", \"2020-05-11T10:00:00\", \"2020-05-11T11:00:00\", \"2020-05-11T12:00:00\", \"2020-05-11T13:00:00\", \"2020-05-11T14:00:00\", \"2020-05-11T15:00:00\", \"2020-05-11T16:00:00\", \"2020-05-11T17:00:00\", \"2020-05-11T18:00:00\", \"2020-05-11T19:00:00\", \"2020-05-11T20:00:00\", \"2020-05-11T21:00:00\", \"2020-05-11T22:00:00\", \"2020-05-11T23:00:00\"], \"y\": [0.15388952581427254, 0.16097770154373928, 0.15678961888219067, 0.15699969632553906, 0.1582325697056355, 0.16374595378948542, 0.16056004064811155, 0.1714907903094093, 0.16368051265104386, 0.17008831958823184, 0.1582884500299222, 0.16643484906381353, 0.1794741227664105, 0.17376300563036767, 0.17620289575082376, 0.16925570066931322, 0.1554156363359078]}, {\"line\": {\"shape\": \"spline\", \"smoothing\": 0.5}, \"marker\": {\"size\": 4}, \"mode\": \"lines+markers\", \"name\": \"45602\", \"type\": \"scatter\", \"x\": [\"2020-05-11T07:00:00\", \"2020-05-11T08:00:00\", \"2020-05-11T09:00:00\", \"2020-05-11T10:00:00\", \"2020-05-11T11:00:00\", \"2020-05-11T12:00:00\", \"2020-05-11T13:00:00\", \"2020-05-11T14:00:00\", \"2020-05-11T15:00:00\", \"2020-05-11T17:00:00\", \"2020-05-11T18:00:00\", \"2020-05-11T19:00:00\", \"2020-05-11T20:00:00\", \"2020-05-11T21:00:00\", \"2020-05-11T22:00:00\", \"2020-05-11T23:00:00\"], \"y\": [0.15388952581427254, 0.16097770154373928, 0.15678961888219067, 0.15699969632553906, 0.1582325697056355, 0.16276619343389528, 0.16056004064811155, 0.1714907903094093, 0.16368051265104386, 0.1582884500299222, 0.16643484906381353, 0.1794741227664105, 0.17376300563036767, 0.17620289575082376, 0.16925570066931322, 0.1554156363359078]}, {\"line\": {\"shape\": \"spline\", \"smoothing\": 0.5}, \"marker\": {\"size\": 4}, \"mode\": \"lines+markers\", \"name\": \"8\", \"type\": \"scatter\", \"x\": [\"2020-05-11T07:00:00\", \"2020-05-11T08:00:00\", \"2020-05-11T09:00:00\", \"2020-05-11T10:00:00\", \"2020-05-11T11:00:00\", \"2020-05-11T12:00:00\", \"2020-05-11T13:00:00\", \"2020-05-11T14:00:00\", \"2020-05-11T15:00:00\", \"2020-05-11T16:00:00\", \"2020-05-11T17:00:00\", \"2020-05-11T18:00:00\", \"2020-05-11T19:00:00\", \"2020-05-11T20:00:00\", \"2020-05-11T21:00:00\", \"2020-05-11T22:00:00\", \"2020-05-11T23:00:00\"], \"y\": [0.1598867147270855, 0.1525503531258174, 0.1511217866816579, 0.15417017691659646, 0.1647901740020471, 0.16753835425383545, 0.16015049893669228, 0.1658532176428055, 0.15821785651640066, 0.1440349175557711, 0.15440984035592778, 0.17021586931155192, 0.17753851698351206, 0.17192331478045764, 0.1694915254237288, 0.18188441698481625, 0.16176140193215008]}, {\"line\": {\"shape\": \"spline\", \"smoothing\": 0.5}, \"marker\": {\"size\": 4}, \"mode\": \"lines+markers\", \"name\": \"456\", \"type\": \"scatter\", \"x\": [\"2020-05-11T07:00:00\", \"2020-05-11T08:00:00\", \"2020-05-11T09:00:00\", \"2020-05-11T10:00:00\", \"2020-05-11T11:00:00\", \"2020-05-11T12:00:00\", \"2020-05-11T13:00:00\", \"2020-05-11T14:00:00\", \"2020-05-11T15:00:00\", \"2020-05-11T16:00:00\", \"2020-05-11T17:00:00\", \"2020-05-11T18:00:00\", \"2020-05-11T19:00:00\", \"2020-05-11T20:00:00\", \"2020-05-11T21:00:00\", \"2020-05-11T22:00:00\", \"2020-05-11T23:00:00\"], \"y\": [0.15388952581427254, 0.16097770154373928, 0.15678961888219067, 0.15699969632553906, 0.1582325697056355, 0.16374595378948542, 0.16056004064811155, 0.1714907903094093, 0.16368051265104386, 0.17008831958823184, 0.1582884500299222, 0.16643484906381353, 0.1794741227664105, 0.17376300563036767, 0.17620289575082376, 0.16925570066931322, 0.1554156363359078]}],\n",
       "                        {\"hovermode\": \"x\", \"template\": {\"data\": {\"bar\": [{\"error_x\": {\"color\": \"#2a3f5f\"}, \"error_y\": {\"color\": \"#2a3f5f\"}, \"marker\": {\"line\": {\"color\": \"#E5ECF6\", \"width\": 0.5}}, \"type\": \"bar\"}], \"barpolar\": [{\"marker\": {\"line\": {\"color\": \"#E5ECF6\", \"width\": 0.5}}, \"type\": \"barpolar\"}], \"carpet\": [{\"aaxis\": {\"endlinecolor\": \"#2a3f5f\", \"gridcolor\": \"white\", \"linecolor\": \"white\", \"minorgridcolor\": \"white\", \"startlinecolor\": \"#2a3f5f\"}, \"baxis\": {\"endlinecolor\": \"#2a3f5f\", \"gridcolor\": \"white\", \"linecolor\": \"white\", \"minorgridcolor\": \"white\", \"startlinecolor\": \"#2a3f5f\"}, \"type\": \"carpet\"}], \"choropleth\": [{\"colorbar\": {\"outlinewidth\": 0, \"ticks\": \"\"}, \"type\": \"choropleth\"}], \"contour\": [{\"colorbar\": {\"outlinewidth\": 0, \"ticks\": \"\"}, \"colorscale\": [[0.0, \"#0d0887\"], [0.1111111111111111, \"#46039f\"], [0.2222222222222222, \"#7201a8\"], [0.3333333333333333, \"#9c179e\"], [0.4444444444444444, \"#bd3786\"], [0.5555555555555556, \"#d8576b\"], [0.6666666666666666, \"#ed7953\"], [0.7777777777777778, \"#fb9f3a\"], [0.8888888888888888, \"#fdca26\"], [1.0, \"#f0f921\"]], \"type\": \"contour\"}], \"contourcarpet\": [{\"colorbar\": {\"outlinewidth\": 0, \"ticks\": \"\"}, \"type\": \"contourcarpet\"}], \"heatmap\": [{\"colorbar\": {\"outlinewidth\": 0, \"ticks\": \"\"}, \"colorscale\": [[0.0, \"#0d0887\"], [0.1111111111111111, \"#46039f\"], [0.2222222222222222, \"#7201a8\"], [0.3333333333333333, \"#9c179e\"], [0.4444444444444444, \"#bd3786\"], [0.5555555555555556, \"#d8576b\"], [0.6666666666666666, \"#ed7953\"], [0.7777777777777778, \"#fb9f3a\"], [0.8888888888888888, \"#fdca26\"], [1.0, \"#f0f921\"]], \"type\": \"heatmap\"}], \"heatmapgl\": [{\"colorbar\": {\"outlinewidth\": 0, \"ticks\": \"\"}, \"colorscale\": [[0.0, \"#0d0887\"], [0.1111111111111111, \"#46039f\"], [0.2222222222222222, \"#7201a8\"], [0.3333333333333333, \"#9c179e\"], [0.4444444444444444, \"#bd3786\"], [0.5555555555555556, \"#d8576b\"], [0.6666666666666666, \"#ed7953\"], [0.7777777777777778, \"#fb9f3a\"], [0.8888888888888888, \"#fdca26\"], [1.0, \"#f0f921\"]], \"type\": \"heatmapgl\"}], \"histogram\": [{\"marker\": {\"colorbar\": {\"outlinewidth\": 0, \"ticks\": \"\"}}, \"type\": \"histogram\"}], \"histogram2d\": [{\"colorbar\": {\"outlinewidth\": 0, \"ticks\": \"\"}, \"colorscale\": [[0.0, \"#0d0887\"], [0.1111111111111111, \"#46039f\"], [0.2222222222222222, \"#7201a8\"], [0.3333333333333333, \"#9c179e\"], [0.4444444444444444, \"#bd3786\"], [0.5555555555555556, \"#d8576b\"], [0.6666666666666666, \"#ed7953\"], [0.7777777777777778, \"#fb9f3a\"], [0.8888888888888888, \"#fdca26\"], [1.0, \"#f0f921\"]], \"type\": \"histogram2d\"}], \"histogram2dcontour\": [{\"colorbar\": {\"outlinewidth\": 0, \"ticks\": \"\"}, \"colorscale\": [[0.0, \"#0d0887\"], [0.1111111111111111, \"#46039f\"], [0.2222222222222222, \"#7201a8\"], [0.3333333333333333, \"#9c179e\"], [0.4444444444444444, \"#bd3786\"], [0.5555555555555556, \"#d8576b\"], [0.6666666666666666, \"#ed7953\"], [0.7777777777777778, \"#fb9f3a\"], [0.8888888888888888, \"#fdca26\"], [1.0, \"#f0f921\"]], \"type\": \"histogram2dcontour\"}], \"mesh3d\": [{\"colorbar\": {\"outlinewidth\": 0, \"ticks\": \"\"}, \"type\": \"mesh3d\"}], \"parcoords\": [{\"line\": {\"colorbar\": {\"outlinewidth\": 0, \"ticks\": \"\"}}, \"type\": \"parcoords\"}], \"scatter\": [{\"marker\": {\"colorbar\": {\"outlinewidth\": 0, \"ticks\": \"\"}}, \"type\": \"scatter\"}], \"scatter3d\": [{\"line\": {\"colorbar\": {\"outlinewidth\": 0, \"ticks\": \"\"}}, \"marker\": {\"colorbar\": {\"outlinewidth\": 0, \"ticks\": \"\"}}, \"type\": \"scatter3d\"}], \"scattercarpet\": [{\"marker\": {\"colorbar\": {\"outlinewidth\": 0, \"ticks\": \"\"}}, \"type\": \"scattercarpet\"}], \"scattergeo\": [{\"marker\": {\"colorbar\": {\"outlinewidth\": 0, \"ticks\": \"\"}}, \"type\": \"scattergeo\"}], \"scattergl\": [{\"marker\": {\"colorbar\": {\"outlinewidth\": 0, \"ticks\": \"\"}}, \"type\": \"scattergl\"}], \"scattermapbox\": [{\"marker\": {\"colorbar\": {\"outlinewidth\": 0, \"ticks\": \"\"}}, \"type\": \"scattermapbox\"}], \"scatterpolar\": [{\"marker\": {\"colorbar\": {\"outlinewidth\": 0, \"ticks\": \"\"}}, \"type\": \"scatterpolar\"}], \"scatterpolargl\": [{\"marker\": {\"colorbar\": {\"outlinewidth\": 0, \"ticks\": \"\"}}, \"type\": \"scatterpolargl\"}], \"scatterternary\": [{\"marker\": {\"colorbar\": {\"outlinewidth\": 0, \"ticks\": \"\"}}, \"type\": \"scatterternary\"}], \"surface\": [{\"colorbar\": {\"outlinewidth\": 0, \"ticks\": \"\"}, \"colorscale\": [[0.0, \"#0d0887\"], [0.1111111111111111, \"#46039f\"], [0.2222222222222222, \"#7201a8\"], [0.3333333333333333, \"#9c179e\"], [0.4444444444444444, \"#bd3786\"], [0.5555555555555556, \"#d8576b\"], [0.6666666666666666, \"#ed7953\"], [0.7777777777777778, \"#fb9f3a\"], [0.8888888888888888, \"#fdca26\"], [1.0, \"#f0f921\"]], \"type\": \"surface\"}], \"table\": [{\"cells\": {\"fill\": {\"color\": \"#EBF0F8\"}, \"line\": {\"color\": \"white\"}}, \"header\": {\"fill\": {\"color\": \"#C8D4E3\"}, \"line\": {\"color\": \"white\"}}, \"type\": \"table\"}]}, \"layout\": {\"annotationdefaults\": {\"arrowcolor\": \"#2a3f5f\", \"arrowhead\": 0, \"arrowwidth\": 1}, \"colorscale\": {\"diverging\": [[0, \"#8e0152\"], [0.1, \"#c51b7d\"], [0.2, \"#de77ae\"], [0.3, \"#f1b6da\"], [0.4, \"#fde0ef\"], [0.5, \"#f7f7f7\"], [0.6, \"#e6f5d0\"], [0.7, \"#b8e186\"], [0.8, \"#7fbc41\"], [0.9, \"#4d9221\"], [1, \"#276419\"]], \"sequential\": [[0.0, \"#0d0887\"], [0.1111111111111111, \"#46039f\"], [0.2222222222222222, \"#7201a8\"], [0.3333333333333333, \"#9c179e\"], [0.4444444444444444, \"#bd3786\"], [0.5555555555555556, \"#d8576b\"], [0.6666666666666666, \"#ed7953\"], [0.7777777777777778, \"#fb9f3a\"], [0.8888888888888888, \"#fdca26\"], [1.0, \"#f0f921\"]], \"sequentialminus\": [[0.0, \"#0d0887\"], [0.1111111111111111, \"#46039f\"], [0.2222222222222222, \"#7201a8\"], [0.3333333333333333, \"#9c179e\"], [0.4444444444444444, \"#bd3786\"], [0.5555555555555556, \"#d8576b\"], [0.6666666666666666, \"#ed7953\"], [0.7777777777777778, \"#fb9f3a\"], [0.8888888888888888, \"#fdca26\"], [1.0, \"#f0f921\"]]}, \"colorway\": [\"#636efa\", \"#EF553B\", \"#00cc96\", \"#ab63fa\", \"#FFA15A\", \"#19d3f3\", \"#FF6692\", \"#B6E880\", \"#FF97FF\", \"#FECB52\"], \"font\": {\"color\": \"#2a3f5f\"}, \"geo\": {\"bgcolor\": \"white\", \"lakecolor\": \"white\", \"landcolor\": \"#E5ECF6\", \"showlakes\": true, \"showland\": true, \"subunitcolor\": \"white\"}, \"hoverlabel\": {\"align\": \"left\"}, \"hovermode\": \"closest\", \"mapbox\": {\"style\": \"light\"}, \"paper_bgcolor\": \"white\", \"plot_bgcolor\": \"#E5ECF6\", \"polar\": {\"angularaxis\": {\"gridcolor\": \"white\", \"linecolor\": \"white\", \"ticks\": \"\"}, \"bgcolor\": \"#E5ECF6\", \"radialaxis\": {\"gridcolor\": \"white\", \"linecolor\": \"white\", \"ticks\": \"\"}}, \"scene\": {\"xaxis\": {\"backgroundcolor\": \"#E5ECF6\", \"gridcolor\": \"white\", \"gridwidth\": 2, \"linecolor\": \"white\", \"showbackground\": true, \"ticks\": \"\", \"zerolinecolor\": \"white\"}, \"yaxis\": {\"backgroundcolor\": \"#E5ECF6\", \"gridcolor\": \"white\", \"gridwidth\": 2, \"linecolor\": \"white\", \"showbackground\": true, \"ticks\": \"\", \"zerolinecolor\": \"white\"}, \"zaxis\": {\"backgroundcolor\": \"#E5ECF6\", \"gridcolor\": \"white\", \"gridwidth\": 2, \"linecolor\": \"white\", \"showbackground\": true, \"ticks\": \"\", \"zerolinecolor\": \"white\"}}, \"shapedefaults\": {\"line\": {\"color\": \"#2a3f5f\"}}, \"ternary\": {\"aaxis\": {\"gridcolor\": \"white\", \"linecolor\": \"white\", \"ticks\": \"\"}, \"baxis\": {\"gridcolor\": \"white\", \"linecolor\": \"white\", \"ticks\": \"\"}, \"bgcolor\": \"#E5ECF6\", \"caxis\": {\"gridcolor\": \"white\", \"linecolor\": \"white\", \"ticks\": \"\"}}, \"title\": {\"x\": 0.05}, \"xaxis\": {\"automargin\": true, \"gridcolor\": \"white\", \"linecolor\": \"white\", \"ticks\": \"\", \"zerolinecolor\": \"white\", \"zerolinewidth\": 2}, \"yaxis\": {\"automargin\": true, \"gridcolor\": \"white\", \"linecolor\": \"white\", \"ticks\": \"\", \"zerolinecolor\": \"white\", \"zerolinewidth\": 2}}}, \"title\": {\"text\": \"stats/click_ratio\"}, \"xaxis\": {\"type\": \"date\"}},\n",
       "                        {\"responsive\": true}\n",
       "                    ).then(function(){\n",
       "                            \n",
       "var gd = document.getElementById('be81bd08-4476-4b01-a491-07393f21bbc4');\n",
       "var x = new MutationObserver(function (mutations, observer) {{\n",
       "        var display = window.getComputedStyle(gd).display;\n",
       "        if (!display || display === 'none') {{\n",
       "            console.log([gd, 'removed!']);\n",
       "            Plotly.purge(gd);\n",
       "            observer.disconnect();\n",
       "        }}\n",
       "}});\n",
       "\n",
       "// Listen for the removal of the full notebook cells\n",
       "var notebookContainer = gd.closest('#notebook-container');\n",
       "if (notebookContainer) {{\n",
       "    x.observe(notebookContainer, {childList: true});\n",
       "}}\n",
       "\n",
       "// Listen for the clearing of the current output cell\n",
       "var outputEl = gd.closest('.output');\n",
       "if (outputEl) {{\n",
       "    x.observe(outputEl, {childList: true});\n",
       "}}\n",
       "\n",
       "                        })\n",
       "                };\n",
       "                });\n",
       "            </script>\n",
       "        </div>"
      ]
     },
     "metadata": {},
     "output_type": "display_data"
    },
    {
     "data": {
      "application/vnd.plotly.v1+json": {
       "config": {
        "linkText": "Export to plot.ly",
        "plotlyServerURL": "https://plot.ly",
        "showLink": false
       },
       "data": [
        {
         "line": {
          "shape": "spline",
          "smoothing": 0.5
         },
         "marker": {
          "size": 4
         },
         "mode": "lines+markers",
         "name": "15",
         "type": "scatter",
         "x": [
          "2020-05-11T07:00:00",
          "2020-05-11T08:00:00",
          "2020-05-11T09:00:00",
          "2020-05-11T10:00:00",
          "2020-05-11T11:00:00",
          "2020-05-11T12:00:00",
          "2020-05-11T13:00:00",
          "2020-05-11T14:00:00",
          "2020-05-11T15:00:00",
          "2020-05-11T16:00:00",
          "2020-05-11T17:00:00",
          "2020-05-11T18:00:00",
          "2020-05-11T19:00:00",
          "2020-05-11T20:00:00",
          "2020-05-11T21:00:00",
          "2020-05-11T22:00:00",
          "2020-05-11T23:00:00"
         ],
         "y": [
          0.6329545454545454,
          0.5154444444444444,
          0.5701388888888891,
          0.4785692951015532,
          0.5245253164556962,
          0.7115384615384616,
          0.4774509803921569,
          0.6643324607329844,
          0.5909644194756554,
          0.6071428571428571,
          0.5234024179620035,
          0.5578341013824886,
          0.6208919319022946,
          0.5089285714285715,
          0.5637844611528822,
          0.5367732982763658,
          0.4605654761904762
         ]
        },
        {
         "line": {
          "shape": "spline",
          "smoothing": 0.5
         },
         "marker": {
          "size": 4
         },
         "mode": "lines+markers",
         "name": "45600",
         "type": "scatter",
         "x": [
          "2020-05-11T07:00:00",
          "2020-05-11T08:00:00",
          "2020-05-11T09:00:00",
          "2020-05-11T10:00:00",
          "2020-05-11T11:00:00",
          "2020-05-11T12:00:00",
          "2020-05-11T13:00:00",
          "2020-05-11T14:00:00",
          "2020-05-11T15:00:00",
          "2020-05-11T16:00:00",
          "2020-05-11T17:00:00",
          "2020-05-11T18:00:00",
          "2020-05-11T19:00:00",
          "2020-05-11T20:00:00",
          "2020-05-11T21:00:00",
          "2020-05-11T22:00:00",
          "2020-05-11T23:00:00"
         ],
         "y": [
          0.5675161812297734,
          0.5772238514173998,
          0.5647090958754439,
          0.6293352122015915,
          0.5084531143052704,
          0.7112612612612613,
          0.4601626016260163,
          0.5993027888446215,
          0.5667989417989419,
          0.6333333333333333,
          0.5663768178795502,
          0.5825607064017659,
          0.5905201916495552,
          0.5895063346439493,
          0.5652467247195418,
          0.5428403044386071,
          0.5669241192411923
         ]
        },
        {
         "line": {
          "shape": "spline",
          "smoothing": 0.5
         },
         "marker": {
          "size": 4
         },
         "mode": "lines+markers",
         "name": "45601",
         "type": "scatter",
         "x": [
          "2020-05-11T07:00:00",
          "2020-05-11T08:00:00",
          "2020-05-11T09:00:00",
          "2020-05-11T10:00:00",
          "2020-05-11T11:00:00",
          "2020-05-11T12:00:00",
          "2020-05-11T13:00:00",
          "2020-05-11T14:00:00",
          "2020-05-11T15:00:00",
          "2020-05-11T16:00:00",
          "2020-05-11T17:00:00",
          "2020-05-11T18:00:00",
          "2020-05-11T19:00:00",
          "2020-05-11T20:00:00",
          "2020-05-11T21:00:00",
          "2020-05-11T22:00:00",
          "2020-05-11T23:00:00"
         ],
         "y": [
          0.6030744336569579,
          0.5686705767350929,
          0.5490758444869344,
          0.6302083333333334,
          0.5066735112936345,
          0.645045045045045,
          0.4329268292682927,
          0.5820669702143806,
          0.5587301587301587,
          0.5833333333333334,
          0.5560564663023679,
          0.5766740250183959,
          0.5754620123203286,
          0.5935998252512015,
          0.5519965482074214,
          0.5513049774365192,
          0.5417528948016753
         ]
        },
        {
         "line": {
          "shape": "spline",
          "smoothing": 0.5
         },
         "marker": {
          "size": 4
         },
         "mode": "lines+markers",
         "name": "45602",
         "type": "scatter",
         "x": [
          "2020-05-11T07:00:00",
          "2020-05-11T08:00:00",
          "2020-05-11T09:00:00",
          "2020-05-11T10:00:00",
          "2020-05-11T11:00:00",
          "2020-05-11T12:00:00",
          "2020-05-11T13:00:00",
          "2020-05-11T14:00:00",
          "2020-05-11T15:00:00",
          "2020-05-11T17:00:00",
          "2020-05-11T18:00:00",
          "2020-05-11T19:00:00",
          "2020-05-11T20:00:00",
          "2020-05-11T21:00:00",
          "2020-05-11T22:00:00",
          "2020-05-11T23:00:00"
         ],
         "y": [
          0.5799757281553398,
          0.5606060606060607,
          0.5783938814531548,
          0.6160850464190982,
          0.5370636550308009,
          0.6684444444444444,
          0.4853658536585366,
          0.5812132422690192,
          0.5788580246913579,
          0.582528117500795,
          0.5987490802060339,
          0.6020533880903491,
          0.5923503713411971,
          0.5557621401113989,
          0.5490149525156597,
          0.5502352796255235
         ]
        },
        {
         "line": {
          "shape": "spline",
          "smoothing": 0.5
         },
         "marker": {
          "size": 4
         },
         "mode": "lines+markers",
         "name": "8",
         "type": "scatter",
         "x": [
          "2020-05-11T07:00:00",
          "2020-05-11T08:00:00",
          "2020-05-11T09:00:00",
          "2020-05-11T10:00:00",
          "2020-05-11T11:00:00",
          "2020-05-11T12:00:00",
          "2020-05-11T13:00:00",
          "2020-05-11T14:00:00",
          "2020-05-11T15:00:00",
          "2020-05-11T16:00:00",
          "2020-05-11T17:00:00",
          "2020-05-11T18:00:00",
          "2020-05-11T19:00:00",
          "2020-05-11T20:00:00",
          "2020-05-11T21:00:00",
          "2020-05-11T22:00:00",
          "2020-05-11T23:00:00"
         ],
         "y": [
          0.5367838541666667,
          0.5610416666666667,
          0.5940814393939394,
          0.5582191780821918,
          0.5297939068100359,
          0.4047619047619047,
          0.40950520833333337,
          0.5162037037037037,
          0.5680729166666667,
          0.2498427672955975,
          0.5189864066193854,
          0.6245555555555555,
          0.570054945054945,
          0.5287077826725404,
          0.5405681818181818,
          0.5507589767298505,
          0.5612740384615386
         ]
        },
        {
         "line": {
          "shape": "spline",
          "smoothing": 0.5
         },
         "marker": {
          "size": 4
         },
         "mode": "lines+markers",
         "name": "456",
         "type": "scatter",
         "x": [
          "2020-05-11T07:00:00",
          "2020-05-11T08:00:00",
          "2020-05-11T09:00:00",
          "2020-05-11T10:00:00",
          "2020-05-11T11:00:00",
          "2020-05-11T12:00:00",
          "2020-05-11T13:00:00",
          "2020-05-11T14:00:00",
          "2020-05-11T15:00:00",
          "2020-05-11T16:00:00",
          "2020-05-11T17:00:00",
          "2020-05-11T18:00:00",
          "2020-05-11T19:00:00",
          "2020-05-11T20:00:00",
          "2020-05-11T21:00:00",
          "2020-05-11T22:00:00",
          "2020-05-11T23:00:00"
         ],
         "y": [
          0.6281553398058253,
          0.6228005865102639,
          0.5573363379768734,
          0.5755311947391689,
          0.4978781656399726,
          0.7378378378378379,
          0.4560975609756098,
          0.57566401062417,
          0.5827436067019399,
          0.5933333333333334,
          0.5718221441582098,
          0.5845842531272994,
          0.5794318959616701,
          0.6183289646133683,
          0.5567996391307759,
          0.5395517612985788,
          0.5713550135501355
         ]
        }
       ],
       "layout": {
        "hovermode": "x",
        "template": {
         "data": {
          "bar": [
           {
            "error_x": {
             "color": "#2a3f5f"
            },
            "error_y": {
             "color": "#2a3f5f"
            },
            "marker": {
             "line": {
              "color": "#E5ECF6",
              "width": 0.5
             }
            },
            "type": "bar"
           }
          ],
          "barpolar": [
           {
            "marker": {
             "line": {
              "color": "#E5ECF6",
              "width": 0.5
             }
            },
            "type": "barpolar"
           }
          ],
          "carpet": [
           {
            "aaxis": {
             "endlinecolor": "#2a3f5f",
             "gridcolor": "white",
             "linecolor": "white",
             "minorgridcolor": "white",
             "startlinecolor": "#2a3f5f"
            },
            "baxis": {
             "endlinecolor": "#2a3f5f",
             "gridcolor": "white",
             "linecolor": "white",
             "minorgridcolor": "white",
             "startlinecolor": "#2a3f5f"
            },
            "type": "carpet"
           }
          ],
          "choropleth": [
           {
            "colorbar": {
             "outlinewidth": 0,
             "ticks": ""
            },
            "type": "choropleth"
           }
          ],
          "contour": [
           {
            "colorbar": {
             "outlinewidth": 0,
             "ticks": ""
            },
            "colorscale": [
             [
              0,
              "#0d0887"
             ],
             [
              0.1111111111111111,
              "#46039f"
             ],
             [
              0.2222222222222222,
              "#7201a8"
             ],
             [
              0.3333333333333333,
              "#9c179e"
             ],
             [
              0.4444444444444444,
              "#bd3786"
             ],
             [
              0.5555555555555556,
              "#d8576b"
             ],
             [
              0.6666666666666666,
              "#ed7953"
             ],
             [
              0.7777777777777778,
              "#fb9f3a"
             ],
             [
              0.8888888888888888,
              "#fdca26"
             ],
             [
              1,
              "#f0f921"
             ]
            ],
            "type": "contour"
           }
          ],
          "contourcarpet": [
           {
            "colorbar": {
             "outlinewidth": 0,
             "ticks": ""
            },
            "type": "contourcarpet"
           }
          ],
          "heatmap": [
           {
            "colorbar": {
             "outlinewidth": 0,
             "ticks": ""
            },
            "colorscale": [
             [
              0,
              "#0d0887"
             ],
             [
              0.1111111111111111,
              "#46039f"
             ],
             [
              0.2222222222222222,
              "#7201a8"
             ],
             [
              0.3333333333333333,
              "#9c179e"
             ],
             [
              0.4444444444444444,
              "#bd3786"
             ],
             [
              0.5555555555555556,
              "#d8576b"
             ],
             [
              0.6666666666666666,
              "#ed7953"
             ],
             [
              0.7777777777777778,
              "#fb9f3a"
             ],
             [
              0.8888888888888888,
              "#fdca26"
             ],
             [
              1,
              "#f0f921"
             ]
            ],
            "type": "heatmap"
           }
          ],
          "heatmapgl": [
           {
            "colorbar": {
             "outlinewidth": 0,
             "ticks": ""
            },
            "colorscale": [
             [
              0,
              "#0d0887"
             ],
             [
              0.1111111111111111,
              "#46039f"
             ],
             [
              0.2222222222222222,
              "#7201a8"
             ],
             [
              0.3333333333333333,
              "#9c179e"
             ],
             [
              0.4444444444444444,
              "#bd3786"
             ],
             [
              0.5555555555555556,
              "#d8576b"
             ],
             [
              0.6666666666666666,
              "#ed7953"
             ],
             [
              0.7777777777777778,
              "#fb9f3a"
             ],
             [
              0.8888888888888888,
              "#fdca26"
             ],
             [
              1,
              "#f0f921"
             ]
            ],
            "type": "heatmapgl"
           }
          ],
          "histogram": [
           {
            "marker": {
             "colorbar": {
              "outlinewidth": 0,
              "ticks": ""
             }
            },
            "type": "histogram"
           }
          ],
          "histogram2d": [
           {
            "colorbar": {
             "outlinewidth": 0,
             "ticks": ""
            },
            "colorscale": [
             [
              0,
              "#0d0887"
             ],
             [
              0.1111111111111111,
              "#46039f"
             ],
             [
              0.2222222222222222,
              "#7201a8"
             ],
             [
              0.3333333333333333,
              "#9c179e"
             ],
             [
              0.4444444444444444,
              "#bd3786"
             ],
             [
              0.5555555555555556,
              "#d8576b"
             ],
             [
              0.6666666666666666,
              "#ed7953"
             ],
             [
              0.7777777777777778,
              "#fb9f3a"
             ],
             [
              0.8888888888888888,
              "#fdca26"
             ],
             [
              1,
              "#f0f921"
             ]
            ],
            "type": "histogram2d"
           }
          ],
          "histogram2dcontour": [
           {
            "colorbar": {
             "outlinewidth": 0,
             "ticks": ""
            },
            "colorscale": [
             [
              0,
              "#0d0887"
             ],
             [
              0.1111111111111111,
              "#46039f"
             ],
             [
              0.2222222222222222,
              "#7201a8"
             ],
             [
              0.3333333333333333,
              "#9c179e"
             ],
             [
              0.4444444444444444,
              "#bd3786"
             ],
             [
              0.5555555555555556,
              "#d8576b"
             ],
             [
              0.6666666666666666,
              "#ed7953"
             ],
             [
              0.7777777777777778,
              "#fb9f3a"
             ],
             [
              0.8888888888888888,
              "#fdca26"
             ],
             [
              1,
              "#f0f921"
             ]
            ],
            "type": "histogram2dcontour"
           }
          ],
          "mesh3d": [
           {
            "colorbar": {
             "outlinewidth": 0,
             "ticks": ""
            },
            "type": "mesh3d"
           }
          ],
          "parcoords": [
           {
            "line": {
             "colorbar": {
              "outlinewidth": 0,
              "ticks": ""
             }
            },
            "type": "parcoords"
           }
          ],
          "scatter": [
           {
            "marker": {
             "colorbar": {
              "outlinewidth": 0,
              "ticks": ""
             }
            },
            "type": "scatter"
           }
          ],
          "scatter3d": [
           {
            "line": {
             "colorbar": {
              "outlinewidth": 0,
              "ticks": ""
             }
            },
            "marker": {
             "colorbar": {
              "outlinewidth": 0,
              "ticks": ""
             }
            },
            "type": "scatter3d"
           }
          ],
          "scattercarpet": [
           {
            "marker": {
             "colorbar": {
              "outlinewidth": 0,
              "ticks": ""
             }
            },
            "type": "scattercarpet"
           }
          ],
          "scattergeo": [
           {
            "marker": {
             "colorbar": {
              "outlinewidth": 0,
              "ticks": ""
             }
            },
            "type": "scattergeo"
           }
          ],
          "scattergl": [
           {
            "marker": {
             "colorbar": {
              "outlinewidth": 0,
              "ticks": ""
             }
            },
            "type": "scattergl"
           }
          ],
          "scattermapbox": [
           {
            "marker": {
             "colorbar": {
              "outlinewidth": 0,
              "ticks": ""
             }
            },
            "type": "scattermapbox"
           }
          ],
          "scatterpolar": [
           {
            "marker": {
             "colorbar": {
              "outlinewidth": 0,
              "ticks": ""
             }
            },
            "type": "scatterpolar"
           }
          ],
          "scatterpolargl": [
           {
            "marker": {
             "colorbar": {
              "outlinewidth": 0,
              "ticks": ""
             }
            },
            "type": "scatterpolargl"
           }
          ],
          "scatterternary": [
           {
            "marker": {
             "colorbar": {
              "outlinewidth": 0,
              "ticks": ""
             }
            },
            "type": "scatterternary"
           }
          ],
          "surface": [
           {
            "colorbar": {
             "outlinewidth": 0,
             "ticks": ""
            },
            "colorscale": [
             [
              0,
              "#0d0887"
             ],
             [
              0.1111111111111111,
              "#46039f"
             ],
             [
              0.2222222222222222,
              "#7201a8"
             ],
             [
              0.3333333333333333,
              "#9c179e"
             ],
             [
              0.4444444444444444,
              "#bd3786"
             ],
             [
              0.5555555555555556,
              "#d8576b"
             ],
             [
              0.6666666666666666,
              "#ed7953"
             ],
             [
              0.7777777777777778,
              "#fb9f3a"
             ],
             [
              0.8888888888888888,
              "#fdca26"
             ],
             [
              1,
              "#f0f921"
             ]
            ],
            "type": "surface"
           }
          ],
          "table": [
           {
            "cells": {
             "fill": {
              "color": "#EBF0F8"
             },
             "line": {
              "color": "white"
             }
            },
            "header": {
             "fill": {
              "color": "#C8D4E3"
             },
             "line": {
              "color": "white"
             }
            },
            "type": "table"
           }
          ]
         },
         "layout": {
          "annotationdefaults": {
           "arrowcolor": "#2a3f5f",
           "arrowhead": 0,
           "arrowwidth": 1
          },
          "colorscale": {
           "diverging": [
            [
             0,
             "#8e0152"
            ],
            [
             0.1,
             "#c51b7d"
            ],
            [
             0.2,
             "#de77ae"
            ],
            [
             0.3,
             "#f1b6da"
            ],
            [
             0.4,
             "#fde0ef"
            ],
            [
             0.5,
             "#f7f7f7"
            ],
            [
             0.6,
             "#e6f5d0"
            ],
            [
             0.7,
             "#b8e186"
            ],
            [
             0.8,
             "#7fbc41"
            ],
            [
             0.9,
             "#4d9221"
            ],
            [
             1,
             "#276419"
            ]
           ],
           "sequential": [
            [
             0,
             "#0d0887"
            ],
            [
             0.1111111111111111,
             "#46039f"
            ],
            [
             0.2222222222222222,
             "#7201a8"
            ],
            [
             0.3333333333333333,
             "#9c179e"
            ],
            [
             0.4444444444444444,
             "#bd3786"
            ],
            [
             0.5555555555555556,
             "#d8576b"
            ],
            [
             0.6666666666666666,
             "#ed7953"
            ],
            [
             0.7777777777777778,
             "#fb9f3a"
            ],
            [
             0.8888888888888888,
             "#fdca26"
            ],
            [
             1,
             "#f0f921"
            ]
           ],
           "sequentialminus": [
            [
             0,
             "#0d0887"
            ],
            [
             0.1111111111111111,
             "#46039f"
            ],
            [
             0.2222222222222222,
             "#7201a8"
            ],
            [
             0.3333333333333333,
             "#9c179e"
            ],
            [
             0.4444444444444444,
             "#bd3786"
            ],
            [
             0.5555555555555556,
             "#d8576b"
            ],
            [
             0.6666666666666666,
             "#ed7953"
            ],
            [
             0.7777777777777778,
             "#fb9f3a"
            ],
            [
             0.8888888888888888,
             "#fdca26"
            ],
            [
             1,
             "#f0f921"
            ]
           ]
          },
          "colorway": [
           "#636efa",
           "#EF553B",
           "#00cc96",
           "#ab63fa",
           "#FFA15A",
           "#19d3f3",
           "#FF6692",
           "#B6E880",
           "#FF97FF",
           "#FECB52"
          ],
          "font": {
           "color": "#2a3f5f"
          },
          "geo": {
           "bgcolor": "white",
           "lakecolor": "white",
           "landcolor": "#E5ECF6",
           "showlakes": true,
           "showland": true,
           "subunitcolor": "white"
          },
          "hoverlabel": {
           "align": "left"
          },
          "hovermode": "closest",
          "mapbox": {
           "style": "light"
          },
          "paper_bgcolor": "white",
          "plot_bgcolor": "#E5ECF6",
          "polar": {
           "angularaxis": {
            "gridcolor": "white",
            "linecolor": "white",
            "ticks": ""
           },
           "bgcolor": "#E5ECF6",
           "radialaxis": {
            "gridcolor": "white",
            "linecolor": "white",
            "ticks": ""
           }
          },
          "scene": {
           "xaxis": {
            "backgroundcolor": "#E5ECF6",
            "gridcolor": "white",
            "gridwidth": 2,
            "linecolor": "white",
            "showbackground": true,
            "ticks": "",
            "zerolinecolor": "white"
           },
           "yaxis": {
            "backgroundcolor": "#E5ECF6",
            "gridcolor": "white",
            "gridwidth": 2,
            "linecolor": "white",
            "showbackground": true,
            "ticks": "",
            "zerolinecolor": "white"
           },
           "zaxis": {
            "backgroundcolor": "#E5ECF6",
            "gridcolor": "white",
            "gridwidth": 2,
            "linecolor": "white",
            "showbackground": true,
            "ticks": "",
            "zerolinecolor": "white"
           }
          },
          "shapedefaults": {
           "line": {
            "color": "#2a3f5f"
           }
          },
          "ternary": {
           "aaxis": {
            "gridcolor": "white",
            "linecolor": "white",
            "ticks": ""
           },
           "baxis": {
            "gridcolor": "white",
            "linecolor": "white",
            "ticks": ""
           },
           "bgcolor": "#E5ECF6",
           "caxis": {
            "gridcolor": "white",
            "linecolor": "white",
            "ticks": ""
           }
          },
          "title": {
           "x": 0.05
          },
          "xaxis": {
           "automargin": true,
           "gridcolor": "white",
           "linecolor": "white",
           "ticks": "",
           "zerolinecolor": "white",
           "zerolinewidth": 2
          },
          "yaxis": {
           "automargin": true,
           "gridcolor": "white",
           "linecolor": "white",
           "ticks": "",
           "zerolinecolor": "white",
           "zerolinewidth": 2
          }
         }
        },
        "title": {
         "text": "cold/group/auc"
        },
        "xaxis": {
         "type": "date"
        }
       }
      },
      "text/html": [
       "<div>\n",
       "        \n",
       "        \n",
       "            <div id=\"ebdaf860-04b9-4e1e-a88d-a1cd076e45a3\" class=\"plotly-graph-div\" style=\"height:525px; width:100%;\"></div>\n",
       "            <script type=\"text/javascript\">\n",
       "                require([\"plotly\"], function(Plotly) {\n",
       "                    window.PLOTLYENV=window.PLOTLYENV || {};\n",
       "                    \n",
       "                if (document.getElementById(\"ebdaf860-04b9-4e1e-a88d-a1cd076e45a3\")) {\n",
       "                    Plotly.newPlot(\n",
       "                        'ebdaf860-04b9-4e1e-a88d-a1cd076e45a3',\n",
       "                        [{\"line\": {\"shape\": \"spline\", \"smoothing\": 0.5}, \"marker\": {\"size\": 4}, \"mode\": \"lines+markers\", \"name\": \"15\", \"type\": \"scatter\", \"x\": [\"2020-05-11T07:00:00\", \"2020-05-11T08:00:00\", \"2020-05-11T09:00:00\", \"2020-05-11T10:00:00\", \"2020-05-11T11:00:00\", \"2020-05-11T12:00:00\", \"2020-05-11T13:00:00\", \"2020-05-11T14:00:00\", \"2020-05-11T15:00:00\", \"2020-05-11T16:00:00\", \"2020-05-11T17:00:00\", \"2020-05-11T18:00:00\", \"2020-05-11T19:00:00\", \"2020-05-11T20:00:00\", \"2020-05-11T21:00:00\", \"2020-05-11T22:00:00\", \"2020-05-11T23:00:00\"], \"y\": [0.6329545454545454, 0.5154444444444444, 0.5701388888888891, 0.4785692951015532, 0.5245253164556962, 0.7115384615384616, 0.4774509803921569, 0.6643324607329844, 0.5909644194756554, 0.6071428571428571, 0.5234024179620035, 0.5578341013824886, 0.6208919319022946, 0.5089285714285715, 0.5637844611528822, 0.5367732982763658, 0.4605654761904762]}, {\"line\": {\"shape\": \"spline\", \"smoothing\": 0.5}, \"marker\": {\"size\": 4}, \"mode\": \"lines+markers\", \"name\": \"45600\", \"type\": \"scatter\", \"x\": [\"2020-05-11T07:00:00\", \"2020-05-11T08:00:00\", \"2020-05-11T09:00:00\", \"2020-05-11T10:00:00\", \"2020-05-11T11:00:00\", \"2020-05-11T12:00:00\", \"2020-05-11T13:00:00\", \"2020-05-11T14:00:00\", \"2020-05-11T15:00:00\", \"2020-05-11T16:00:00\", \"2020-05-11T17:00:00\", \"2020-05-11T18:00:00\", \"2020-05-11T19:00:00\", \"2020-05-11T20:00:00\", \"2020-05-11T21:00:00\", \"2020-05-11T22:00:00\", \"2020-05-11T23:00:00\"], \"y\": [0.5675161812297734, 0.5772238514173998, 0.5647090958754439, 0.6293352122015915, 0.5084531143052704, 0.7112612612612613, 0.4601626016260163, 0.5993027888446215, 0.5667989417989419, 0.6333333333333333, 0.5663768178795502, 0.5825607064017659, 0.5905201916495552, 0.5895063346439493, 0.5652467247195418, 0.5428403044386071, 0.5669241192411923]}, {\"line\": {\"shape\": \"spline\", \"smoothing\": 0.5}, \"marker\": {\"size\": 4}, \"mode\": \"lines+markers\", \"name\": \"45601\", \"type\": \"scatter\", \"x\": [\"2020-05-11T07:00:00\", \"2020-05-11T08:00:00\", \"2020-05-11T09:00:00\", \"2020-05-11T10:00:00\", \"2020-05-11T11:00:00\", \"2020-05-11T12:00:00\", \"2020-05-11T13:00:00\", \"2020-05-11T14:00:00\", \"2020-05-11T15:00:00\", \"2020-05-11T16:00:00\", \"2020-05-11T17:00:00\", \"2020-05-11T18:00:00\", \"2020-05-11T19:00:00\", \"2020-05-11T20:00:00\", \"2020-05-11T21:00:00\", \"2020-05-11T22:00:00\", \"2020-05-11T23:00:00\"], \"y\": [0.6030744336569579, 0.5686705767350929, 0.5490758444869344, 0.6302083333333334, 0.5066735112936345, 0.645045045045045, 0.4329268292682927, 0.5820669702143806, 0.5587301587301587, 0.5833333333333334, 0.5560564663023679, 0.5766740250183959, 0.5754620123203286, 0.5935998252512015, 0.5519965482074214, 0.5513049774365192, 0.5417528948016753]}, {\"line\": {\"shape\": \"spline\", \"smoothing\": 0.5}, \"marker\": {\"size\": 4}, \"mode\": \"lines+markers\", \"name\": \"45602\", \"type\": \"scatter\", \"x\": [\"2020-05-11T07:00:00\", \"2020-05-11T08:00:00\", \"2020-05-11T09:00:00\", \"2020-05-11T10:00:00\", \"2020-05-11T11:00:00\", \"2020-05-11T12:00:00\", \"2020-05-11T13:00:00\", \"2020-05-11T14:00:00\", \"2020-05-11T15:00:00\", \"2020-05-11T17:00:00\", \"2020-05-11T18:00:00\", \"2020-05-11T19:00:00\", \"2020-05-11T20:00:00\", \"2020-05-11T21:00:00\", \"2020-05-11T22:00:00\", \"2020-05-11T23:00:00\"], \"y\": [0.5799757281553398, 0.5606060606060607, 0.5783938814531548, 0.6160850464190982, 0.5370636550308009, 0.6684444444444444, 0.4853658536585366, 0.5812132422690192, 0.5788580246913579, 0.582528117500795, 0.5987490802060339, 0.6020533880903491, 0.5923503713411971, 0.5557621401113989, 0.5490149525156597, 0.5502352796255235]}, {\"line\": {\"shape\": \"spline\", \"smoothing\": 0.5}, \"marker\": {\"size\": 4}, \"mode\": \"lines+markers\", \"name\": \"8\", \"type\": \"scatter\", \"x\": [\"2020-05-11T07:00:00\", \"2020-05-11T08:00:00\", \"2020-05-11T09:00:00\", \"2020-05-11T10:00:00\", \"2020-05-11T11:00:00\", \"2020-05-11T12:00:00\", \"2020-05-11T13:00:00\", \"2020-05-11T14:00:00\", \"2020-05-11T15:00:00\", \"2020-05-11T16:00:00\", \"2020-05-11T17:00:00\", \"2020-05-11T18:00:00\", \"2020-05-11T19:00:00\", \"2020-05-11T20:00:00\", \"2020-05-11T21:00:00\", \"2020-05-11T22:00:00\", \"2020-05-11T23:00:00\"], \"y\": [0.5367838541666667, 0.5610416666666667, 0.5940814393939394, 0.5582191780821918, 0.5297939068100359, 0.4047619047619047, 0.40950520833333337, 0.5162037037037037, 0.5680729166666667, 0.2498427672955975, 0.5189864066193854, 0.6245555555555555, 0.570054945054945, 0.5287077826725404, 0.5405681818181818, 0.5507589767298505, 0.5612740384615386]}, {\"line\": {\"shape\": \"spline\", \"smoothing\": 0.5}, \"marker\": {\"size\": 4}, \"mode\": \"lines+markers\", \"name\": \"456\", \"type\": \"scatter\", \"x\": [\"2020-05-11T07:00:00\", \"2020-05-11T08:00:00\", \"2020-05-11T09:00:00\", \"2020-05-11T10:00:00\", \"2020-05-11T11:00:00\", \"2020-05-11T12:00:00\", \"2020-05-11T13:00:00\", \"2020-05-11T14:00:00\", \"2020-05-11T15:00:00\", \"2020-05-11T16:00:00\", \"2020-05-11T17:00:00\", \"2020-05-11T18:00:00\", \"2020-05-11T19:00:00\", \"2020-05-11T20:00:00\", \"2020-05-11T21:00:00\", \"2020-05-11T22:00:00\", \"2020-05-11T23:00:00\"], \"y\": [0.6281553398058253, 0.6228005865102639, 0.5573363379768734, 0.5755311947391689, 0.4978781656399726, 0.7378378378378379, 0.4560975609756098, 0.57566401062417, 0.5827436067019399, 0.5933333333333334, 0.5718221441582098, 0.5845842531272994, 0.5794318959616701, 0.6183289646133683, 0.5567996391307759, 0.5395517612985788, 0.5713550135501355]}],\n",
       "                        {\"hovermode\": \"x\", \"template\": {\"data\": {\"bar\": [{\"error_x\": {\"color\": \"#2a3f5f\"}, \"error_y\": {\"color\": \"#2a3f5f\"}, \"marker\": {\"line\": {\"color\": \"#E5ECF6\", \"width\": 0.5}}, \"type\": \"bar\"}], \"barpolar\": [{\"marker\": {\"line\": {\"color\": \"#E5ECF6\", \"width\": 0.5}}, \"type\": \"barpolar\"}], \"carpet\": [{\"aaxis\": {\"endlinecolor\": \"#2a3f5f\", \"gridcolor\": \"white\", \"linecolor\": \"white\", \"minorgridcolor\": \"white\", \"startlinecolor\": \"#2a3f5f\"}, \"baxis\": {\"endlinecolor\": \"#2a3f5f\", \"gridcolor\": \"white\", \"linecolor\": \"white\", \"minorgridcolor\": \"white\", \"startlinecolor\": \"#2a3f5f\"}, \"type\": \"carpet\"}], \"choropleth\": [{\"colorbar\": {\"outlinewidth\": 0, \"ticks\": \"\"}, \"type\": \"choropleth\"}], \"contour\": [{\"colorbar\": {\"outlinewidth\": 0, \"ticks\": \"\"}, \"colorscale\": [[0.0, \"#0d0887\"], [0.1111111111111111, \"#46039f\"], [0.2222222222222222, \"#7201a8\"], [0.3333333333333333, \"#9c179e\"], [0.4444444444444444, \"#bd3786\"], [0.5555555555555556, \"#d8576b\"], [0.6666666666666666, \"#ed7953\"], [0.7777777777777778, \"#fb9f3a\"], [0.8888888888888888, \"#fdca26\"], [1.0, \"#f0f921\"]], \"type\": \"contour\"}], \"contourcarpet\": [{\"colorbar\": {\"outlinewidth\": 0, \"ticks\": \"\"}, \"type\": \"contourcarpet\"}], \"heatmap\": [{\"colorbar\": {\"outlinewidth\": 0, \"ticks\": \"\"}, \"colorscale\": [[0.0, \"#0d0887\"], [0.1111111111111111, \"#46039f\"], [0.2222222222222222, \"#7201a8\"], [0.3333333333333333, \"#9c179e\"], [0.4444444444444444, \"#bd3786\"], [0.5555555555555556, \"#d8576b\"], [0.6666666666666666, \"#ed7953\"], [0.7777777777777778, \"#fb9f3a\"], [0.8888888888888888, \"#fdca26\"], [1.0, \"#f0f921\"]], \"type\": \"heatmap\"}], \"heatmapgl\": [{\"colorbar\": {\"outlinewidth\": 0, \"ticks\": \"\"}, \"colorscale\": [[0.0, \"#0d0887\"], [0.1111111111111111, \"#46039f\"], [0.2222222222222222, \"#7201a8\"], [0.3333333333333333, \"#9c179e\"], [0.4444444444444444, \"#bd3786\"], [0.5555555555555556, \"#d8576b\"], [0.6666666666666666, \"#ed7953\"], [0.7777777777777778, \"#fb9f3a\"], [0.8888888888888888, \"#fdca26\"], [1.0, \"#f0f921\"]], \"type\": \"heatmapgl\"}], \"histogram\": [{\"marker\": {\"colorbar\": {\"outlinewidth\": 0, \"ticks\": \"\"}}, \"type\": \"histogram\"}], \"histogram2d\": [{\"colorbar\": {\"outlinewidth\": 0, \"ticks\": \"\"}, \"colorscale\": [[0.0, \"#0d0887\"], [0.1111111111111111, \"#46039f\"], [0.2222222222222222, \"#7201a8\"], [0.3333333333333333, \"#9c179e\"], [0.4444444444444444, \"#bd3786\"], [0.5555555555555556, \"#d8576b\"], [0.6666666666666666, \"#ed7953\"], [0.7777777777777778, \"#fb9f3a\"], [0.8888888888888888, \"#fdca26\"], [1.0, \"#f0f921\"]], \"type\": \"histogram2d\"}], \"histogram2dcontour\": [{\"colorbar\": {\"outlinewidth\": 0, \"ticks\": \"\"}, \"colorscale\": [[0.0, \"#0d0887\"], [0.1111111111111111, \"#46039f\"], [0.2222222222222222, \"#7201a8\"], [0.3333333333333333, \"#9c179e\"], [0.4444444444444444, \"#bd3786\"], [0.5555555555555556, \"#d8576b\"], [0.6666666666666666, \"#ed7953\"], [0.7777777777777778, \"#fb9f3a\"], [0.8888888888888888, \"#fdca26\"], [1.0, \"#f0f921\"]], \"type\": \"histogram2dcontour\"}], \"mesh3d\": [{\"colorbar\": {\"outlinewidth\": 0, \"ticks\": \"\"}, \"type\": \"mesh3d\"}], \"parcoords\": [{\"line\": {\"colorbar\": {\"outlinewidth\": 0, \"ticks\": \"\"}}, \"type\": \"parcoords\"}], \"scatter\": [{\"marker\": {\"colorbar\": {\"outlinewidth\": 0, \"ticks\": \"\"}}, \"type\": \"scatter\"}], \"scatter3d\": [{\"line\": {\"colorbar\": {\"outlinewidth\": 0, \"ticks\": \"\"}}, \"marker\": {\"colorbar\": {\"outlinewidth\": 0, \"ticks\": \"\"}}, \"type\": \"scatter3d\"}], \"scattercarpet\": [{\"marker\": {\"colorbar\": {\"outlinewidth\": 0, \"ticks\": \"\"}}, \"type\": \"scattercarpet\"}], \"scattergeo\": [{\"marker\": {\"colorbar\": {\"outlinewidth\": 0, \"ticks\": \"\"}}, \"type\": \"scattergeo\"}], \"scattergl\": [{\"marker\": {\"colorbar\": {\"outlinewidth\": 0, \"ticks\": \"\"}}, \"type\": \"scattergl\"}], \"scattermapbox\": [{\"marker\": {\"colorbar\": {\"outlinewidth\": 0, \"ticks\": \"\"}}, \"type\": \"scattermapbox\"}], \"scatterpolar\": [{\"marker\": {\"colorbar\": {\"outlinewidth\": 0, \"ticks\": \"\"}}, \"type\": \"scatterpolar\"}], \"scatterpolargl\": [{\"marker\": {\"colorbar\": {\"outlinewidth\": 0, \"ticks\": \"\"}}, \"type\": \"scatterpolargl\"}], \"scatterternary\": [{\"marker\": {\"colorbar\": {\"outlinewidth\": 0, \"ticks\": \"\"}}, \"type\": \"scatterternary\"}], \"surface\": [{\"colorbar\": {\"outlinewidth\": 0, \"ticks\": \"\"}, \"colorscale\": [[0.0, \"#0d0887\"], [0.1111111111111111, \"#46039f\"], [0.2222222222222222, \"#7201a8\"], [0.3333333333333333, \"#9c179e\"], [0.4444444444444444, \"#bd3786\"], [0.5555555555555556, \"#d8576b\"], [0.6666666666666666, \"#ed7953\"], [0.7777777777777778, \"#fb9f3a\"], [0.8888888888888888, \"#fdca26\"], [1.0, \"#f0f921\"]], \"type\": \"surface\"}], \"table\": [{\"cells\": {\"fill\": {\"color\": \"#EBF0F8\"}, \"line\": {\"color\": \"white\"}}, \"header\": {\"fill\": {\"color\": \"#C8D4E3\"}, \"line\": {\"color\": \"white\"}}, \"type\": \"table\"}]}, \"layout\": {\"annotationdefaults\": {\"arrowcolor\": \"#2a3f5f\", \"arrowhead\": 0, \"arrowwidth\": 1}, \"colorscale\": {\"diverging\": [[0, \"#8e0152\"], [0.1, \"#c51b7d\"], [0.2, \"#de77ae\"], [0.3, \"#f1b6da\"], [0.4, \"#fde0ef\"], [0.5, \"#f7f7f7\"], [0.6, \"#e6f5d0\"], [0.7, \"#b8e186\"], [0.8, \"#7fbc41\"], [0.9, \"#4d9221\"], [1, \"#276419\"]], \"sequential\": [[0.0, \"#0d0887\"], [0.1111111111111111, \"#46039f\"], [0.2222222222222222, \"#7201a8\"], [0.3333333333333333, \"#9c179e\"], [0.4444444444444444, \"#bd3786\"], [0.5555555555555556, \"#d8576b\"], [0.6666666666666666, \"#ed7953\"], [0.7777777777777778, \"#fb9f3a\"], [0.8888888888888888, \"#fdca26\"], [1.0, \"#f0f921\"]], \"sequentialminus\": [[0.0, \"#0d0887\"], [0.1111111111111111, \"#46039f\"], [0.2222222222222222, \"#7201a8\"], [0.3333333333333333, \"#9c179e\"], [0.4444444444444444, \"#bd3786\"], [0.5555555555555556, \"#d8576b\"], [0.6666666666666666, \"#ed7953\"], [0.7777777777777778, \"#fb9f3a\"], [0.8888888888888888, \"#fdca26\"], [1.0, \"#f0f921\"]]}, \"colorway\": [\"#636efa\", \"#EF553B\", \"#00cc96\", \"#ab63fa\", \"#FFA15A\", \"#19d3f3\", \"#FF6692\", \"#B6E880\", \"#FF97FF\", \"#FECB52\"], \"font\": {\"color\": \"#2a3f5f\"}, \"geo\": {\"bgcolor\": \"white\", \"lakecolor\": \"white\", \"landcolor\": \"#E5ECF6\", \"showlakes\": true, \"showland\": true, \"subunitcolor\": \"white\"}, \"hoverlabel\": {\"align\": \"left\"}, \"hovermode\": \"closest\", \"mapbox\": {\"style\": \"light\"}, \"paper_bgcolor\": \"white\", \"plot_bgcolor\": \"#E5ECF6\", \"polar\": {\"angularaxis\": {\"gridcolor\": \"white\", \"linecolor\": \"white\", \"ticks\": \"\"}, \"bgcolor\": \"#E5ECF6\", \"radialaxis\": {\"gridcolor\": \"white\", \"linecolor\": \"white\", \"ticks\": \"\"}}, \"scene\": {\"xaxis\": {\"backgroundcolor\": \"#E5ECF6\", \"gridcolor\": \"white\", \"gridwidth\": 2, \"linecolor\": \"white\", \"showbackground\": true, \"ticks\": \"\", \"zerolinecolor\": \"white\"}, \"yaxis\": {\"backgroundcolor\": \"#E5ECF6\", \"gridcolor\": \"white\", \"gridwidth\": 2, \"linecolor\": \"white\", \"showbackground\": true, \"ticks\": \"\", \"zerolinecolor\": \"white\"}, \"zaxis\": {\"backgroundcolor\": \"#E5ECF6\", \"gridcolor\": \"white\", \"gridwidth\": 2, \"linecolor\": \"white\", \"showbackground\": true, \"ticks\": \"\", \"zerolinecolor\": \"white\"}}, \"shapedefaults\": {\"line\": {\"color\": \"#2a3f5f\"}}, \"ternary\": {\"aaxis\": {\"gridcolor\": \"white\", \"linecolor\": \"white\", \"ticks\": \"\"}, \"baxis\": {\"gridcolor\": \"white\", \"linecolor\": \"white\", \"ticks\": \"\"}, \"bgcolor\": \"#E5ECF6\", \"caxis\": {\"gridcolor\": \"white\", \"linecolor\": \"white\", \"ticks\": \"\"}}, \"title\": {\"x\": 0.05}, \"xaxis\": {\"automargin\": true, \"gridcolor\": \"white\", \"linecolor\": \"white\", \"ticks\": \"\", \"zerolinecolor\": \"white\", \"zerolinewidth\": 2}, \"yaxis\": {\"automargin\": true, \"gridcolor\": \"white\", \"linecolor\": \"white\", \"ticks\": \"\", \"zerolinecolor\": \"white\", \"zerolinewidth\": 2}}}, \"title\": {\"text\": \"cold/group/auc\"}, \"xaxis\": {\"type\": \"date\"}},\n",
       "                        {\"responsive\": true}\n",
       "                    ).then(function(){\n",
       "                            \n",
       "var gd = document.getElementById('ebdaf860-04b9-4e1e-a88d-a1cd076e45a3');\n",
       "var x = new MutationObserver(function (mutations, observer) {{\n",
       "        var display = window.getComputedStyle(gd).display;\n",
       "        if (!display || display === 'none') {{\n",
       "            console.log([gd, 'removed!']);\n",
       "            Plotly.purge(gd);\n",
       "            observer.disconnect();\n",
       "        }}\n",
       "}});\n",
       "\n",
       "// Listen for the removal of the full notebook cells\n",
       "var notebookContainer = gd.closest('#notebook-container');\n",
       "if (notebookContainer) {{\n",
       "    x.observe(notebookContainer, {childList: true});\n",
       "}}\n",
       "\n",
       "// Listen for the clearing of the current output cell\n",
       "var outputEl = gd.closest('.output');\n",
       "if (outputEl) {{\n",
       "    x.observe(outputEl, {childList: true});\n",
       "}}\n",
       "\n",
       "                        })\n",
       "                };\n",
       "                });\n",
       "            </script>\n",
       "        </div>"
      ]
     },
     "metadata": {},
     "output_type": "display_data"
    }
   ],
   "source": [
    "gezi.line(df[df.abtest.isin(['45601', '45600', '45602', '8', '15', '456'])], x='hour', y=['auc', 'group/auc', 'group/auc2', 'group/click/time_auc', 'group/ndcg3_click', 'group/top1_click', 'stats/click_ratio', 'cold/group/auc'], color='abtest')"
   ]
  },
  {
   "cell_type": "code",
   "execution_count": 11,
   "metadata": {},
   "outputs": [],
   "source": [
    "# files = glob.glob(f'{root}/{date}*/{product}_metrics_offline.csv')\n",
    "# dfs = []\n",
    "# for i in tqdm(range(len(files))):\n",
    "#   df = pd.read_csv(files[i])\n",
    "#   dfs += [df]\n",
    "    \n",
    "# df = pd.concat(dfs)\n",
    "# df['abtest'] = df['abtest'].astype(str)"
   ]
  },
  {
   "cell_type": "code",
   "execution_count": null,
   "metadata": {},
   "outputs": [],
   "source": []
  },
  {
   "cell_type": "code",
   "execution_count": 12,
   "metadata": {},
   "outputs": [],
   "source": [
    "# csv = f'{root}/{datetime}/{product}_metrics_online.csv'\n",
    "# df = pd.read_csv(csv)"
   ]
  },
  {
   "cell_type": "code",
   "execution_count": null,
   "metadata": {},
   "outputs": [],
   "source": []
  },
  {
   "cell_type": "code",
   "execution_count": 13,
   "metadata": {},
   "outputs": [
    {
     "data": {
      "text/html": [
       "<div>\n",
       "<style scoped>\n",
       "    .dataframe tbody tr th:only-of-type {\n",
       "        vertical-align: middle;\n",
       "    }\n",
       "\n",
       "    .dataframe tbody tr th {\n",
       "        vertical-align: top;\n",
       "    }\n",
       "\n",
       "    .dataframe thead th {\n",
       "        text-align: right;\n",
       "    }\n",
       "</style>\n",
       "<table border=\"1\" class=\"dataframe\">\n",
       "  <thead>\n",
       "    <tr style=\"text-align: right;\">\n",
       "      <th></th>\n",
       "      <th>abtest</th>\n",
       "      <th>group/auc</th>\n",
       "      <th>group/click/time_auc</th>\n",
       "    </tr>\n",
       "  </thead>\n",
       "  <tbody>\n",
       "    <tr>\n",
       "      <th>0</th>\n",
       "      <td>8</td>\n",
       "      <td>0.526795</td>\n",
       "      <td>0.429550</td>\n",
       "    </tr>\n",
       "    <tr>\n",
       "      <th>1</th>\n",
       "      <td>18</td>\n",
       "      <td>0.538440</td>\n",
       "      <td>0.461750</td>\n",
       "    </tr>\n",
       "    <tr>\n",
       "      <th>2</th>\n",
       "      <td>3</td>\n",
       "      <td>0.540457</td>\n",
       "      <td>0.441967</td>\n",
       "    </tr>\n",
       "    <tr>\n",
       "      <th>3</th>\n",
       "      <td>19</td>\n",
       "      <td>0.529114</td>\n",
       "      <td>0.436368</td>\n",
       "    </tr>\n",
       "    <tr>\n",
       "      <th>4</th>\n",
       "      <td>4</td>\n",
       "      <td>0.540819</td>\n",
       "      <td>0.430134</td>\n",
       "    </tr>\n",
       "    <tr>\n",
       "      <th>...</th>\n",
       "      <td>...</td>\n",
       "      <td>...</td>\n",
       "      <td>...</td>\n",
       "    </tr>\n",
       "    <tr>\n",
       "      <th>0</th>\n",
       "      <td>45602</td>\n",
       "      <td>0.550202</td>\n",
       "      <td>0.617933</td>\n",
       "    </tr>\n",
       "    <tr>\n",
       "      <th>0</th>\n",
       "      <td>45602</td>\n",
       "      <td>0.543904</td>\n",
       "      <td>0.618189</td>\n",
       "    </tr>\n",
       "    <tr>\n",
       "      <th>0</th>\n",
       "      <td>45602</td>\n",
       "      <td>0.539055</td>\n",
       "      <td>0.617227</td>\n",
       "    </tr>\n",
       "    <tr>\n",
       "      <th>0</th>\n",
       "      <td>45602</td>\n",
       "      <td>0.545120</td>\n",
       "      <td>0.608011</td>\n",
       "    </tr>\n",
       "    <tr>\n",
       "      <th>0</th>\n",
       "      <td>45602</td>\n",
       "      <td>0.547129</td>\n",
       "      <td>0.607860</td>\n",
       "    </tr>\n",
       "  </tbody>\n",
       "</table>\n",
       "<p>424 rows × 3 columns</p>\n",
       "</div>"
      ],
      "text/plain": [
       "   abtest  group/auc  group/click/time_auc\n",
       "0       8   0.526795              0.429550\n",
       "1      18   0.538440              0.461750\n",
       "2       3   0.540457              0.441967\n",
       "3      19   0.529114              0.436368\n",
       "4       4   0.540819              0.430134\n",
       "..    ...        ...                   ...\n",
       "0   45602   0.550202              0.617933\n",
       "0   45602   0.543904              0.618189\n",
       "0   45602   0.539055              0.617227\n",
       "0   45602   0.545120              0.608011\n",
       "0   45602   0.547129              0.607860\n",
       "\n",
       "[424 rows x 3 columns]"
      ]
     },
     "execution_count": 13,
     "metadata": {},
     "output_type": "execute_result"
    }
   ],
   "source": [
    "df[['abtest', 'group/auc', 'group/click/time_auc']]"
   ]
  },
  {
   "cell_type": "code",
   "execution_count": 14,
   "metadata": {},
   "outputs": [
    {
     "data": {
      "text/plain": [
       "Index(['Click/auc', 'Click/click/loss/dur', 'Click/click/mae',\n",
       "       'Click/click/mean', 'Click/click/mse', 'Click/click/rmse',\n",
       "       'Click/click/time_auc', 'Click/clickmids/auc', 'Click/cold/auc',\n",
       "       'Click/cold/click/time_auc',\n",
       "       ...\n",
       "       'stats/num_instances', 'stats/pos_ratio', 'stats/time_per_click',\n",
       "       'stats/time_per_show', 'stats/time_per_user', 'stats/vtime_per_click',\n",
       "       'stats/vtime_per_show', 'stats/vtime_per_user', 'time_auc',\n",
       "       'vtime_auc'],\n",
       "      dtype='object', length=525)"
      ]
     },
     "execution_count": 14,
     "metadata": {},
     "output_type": "execute_result"
    }
   ],
   "source": [
    "df.columns"
   ]
  },
  {
   "cell_type": "code",
   "execution_count": 15,
   "metadata": {},
   "outputs": [
    {
     "ename": "FileNotFoundError",
     "evalue": "[Errno 2] File b'/search/odin/publicData/CloudS/libowei/rank_online/infos/video/8/020042912/sgsapp_metrics_offline.csv' does not exist: b'/search/odin/publicData/CloudS/libowei/rank_online/infos/video/8/020042912/sgsapp_metrics_offline.csv'",
     "output_type": "error",
     "traceback": [
      "\u001b[0;31m---------------------------------------------------------------------------\u001b[0m",
      "\u001b[0;31mFileNotFoundError\u001b[0m                         Traceback (most recent call last)",
      "\u001b[0;32m<ipython-input-15-5aef076e24fd>\u001b[0m in \u001b[0;36m<module>\u001b[0;34m()\u001b[0m\n\u001b[1;32m      1\u001b[0m \u001b[0mcsv\u001b[0m \u001b[0;34m=\u001b[0m \u001b[0;34mf'{root}/{datetime}/{product}_metrics_offline.csv'\u001b[0m\u001b[0;34m\u001b[0m\u001b[0;34m\u001b[0m\u001b[0m\n\u001b[0;32m----> 2\u001b[0;31m \u001b[0mdf2\u001b[0m \u001b[0;34m=\u001b[0m \u001b[0mpd\u001b[0m\u001b[0;34m.\u001b[0m\u001b[0mread_csv\u001b[0m\u001b[0;34m(\u001b[0m\u001b[0mcsv\u001b[0m\u001b[0;34m)\u001b[0m\u001b[0;34m\u001b[0m\u001b[0;34m\u001b[0m\u001b[0m\n\u001b[0m\u001b[1;32m      3\u001b[0m \u001b[0mdf2\u001b[0m\u001b[0;34m[\u001b[0m\u001b[0;34m[\u001b[0m\u001b[0;34m'abtest'\u001b[0m\u001b[0;34m,\u001b[0m \u001b[0;34m'group/auc'\u001b[0m\u001b[0;34m,\u001b[0m \u001b[0;34m'group/click/time_auc'\u001b[0m\u001b[0;34m]\u001b[0m\u001b[0;34m]\u001b[0m\u001b[0;34m\u001b[0m\u001b[0;34m\u001b[0m\u001b[0m\n",
      "\u001b[0;32m/home/gezi/env/anaconda3/lib/python3.6/site-packages/pandas/io/parsers.py\u001b[0m in \u001b[0;36mparser_f\u001b[0;34m(filepath_or_buffer, sep, delimiter, header, names, index_col, usecols, squeeze, prefix, mangle_dupe_cols, dtype, engine, converters, true_values, false_values, skipinitialspace, skiprows, skipfooter, nrows, na_values, keep_default_na, na_filter, verbose, skip_blank_lines, parse_dates, infer_datetime_format, keep_date_col, date_parser, dayfirst, cache_dates, iterator, chunksize, compression, thousands, decimal, lineterminator, quotechar, quoting, doublequote, escapechar, comment, encoding, dialect, error_bad_lines, warn_bad_lines, delim_whitespace, low_memory, memory_map, float_precision)\u001b[0m\n\u001b[1;32m    683\u001b[0m         )\n\u001b[1;32m    684\u001b[0m \u001b[0;34m\u001b[0m\u001b[0m\n\u001b[0;32m--> 685\u001b[0;31m         \u001b[0;32mreturn\u001b[0m \u001b[0m_read\u001b[0m\u001b[0;34m(\u001b[0m\u001b[0mfilepath_or_buffer\u001b[0m\u001b[0;34m,\u001b[0m \u001b[0mkwds\u001b[0m\u001b[0;34m)\u001b[0m\u001b[0;34m\u001b[0m\u001b[0;34m\u001b[0m\u001b[0m\n\u001b[0m\u001b[1;32m    686\u001b[0m \u001b[0;34m\u001b[0m\u001b[0m\n\u001b[1;32m    687\u001b[0m     \u001b[0mparser_f\u001b[0m\u001b[0;34m.\u001b[0m\u001b[0m__name__\u001b[0m \u001b[0;34m=\u001b[0m \u001b[0mname\u001b[0m\u001b[0;34m\u001b[0m\u001b[0;34m\u001b[0m\u001b[0m\n",
      "\u001b[0;32m/home/gezi/env/anaconda3/lib/python3.6/site-packages/pandas/io/parsers.py\u001b[0m in \u001b[0;36m_read\u001b[0;34m(filepath_or_buffer, kwds)\u001b[0m\n\u001b[1;32m    455\u001b[0m \u001b[0;34m\u001b[0m\u001b[0m\n\u001b[1;32m    456\u001b[0m     \u001b[0;31m# Create the parser.\u001b[0m\u001b[0;34m\u001b[0m\u001b[0;34m\u001b[0m\u001b[0;34m\u001b[0m\u001b[0m\n\u001b[0;32m--> 457\u001b[0;31m     \u001b[0mparser\u001b[0m \u001b[0;34m=\u001b[0m \u001b[0mTextFileReader\u001b[0m\u001b[0;34m(\u001b[0m\u001b[0mfp_or_buf\u001b[0m\u001b[0;34m,\u001b[0m \u001b[0;34m**\u001b[0m\u001b[0mkwds\u001b[0m\u001b[0;34m)\u001b[0m\u001b[0;34m\u001b[0m\u001b[0;34m\u001b[0m\u001b[0m\n\u001b[0m\u001b[1;32m    458\u001b[0m \u001b[0;34m\u001b[0m\u001b[0m\n\u001b[1;32m    459\u001b[0m     \u001b[0;32mif\u001b[0m \u001b[0mchunksize\u001b[0m \u001b[0;32mor\u001b[0m \u001b[0miterator\u001b[0m\u001b[0;34m:\u001b[0m\u001b[0;34m\u001b[0m\u001b[0;34m\u001b[0m\u001b[0m\n",
      "\u001b[0;32m/home/gezi/env/anaconda3/lib/python3.6/site-packages/pandas/io/parsers.py\u001b[0m in \u001b[0;36m__init__\u001b[0;34m(self, f, engine, **kwds)\u001b[0m\n\u001b[1;32m    893\u001b[0m             \u001b[0mself\u001b[0m\u001b[0;34m.\u001b[0m\u001b[0moptions\u001b[0m\u001b[0;34m[\u001b[0m\u001b[0;34m\"has_index_names\"\u001b[0m\u001b[0;34m]\u001b[0m \u001b[0;34m=\u001b[0m \u001b[0mkwds\u001b[0m\u001b[0;34m[\u001b[0m\u001b[0;34m\"has_index_names\"\u001b[0m\u001b[0;34m]\u001b[0m\u001b[0;34m\u001b[0m\u001b[0;34m\u001b[0m\u001b[0m\n\u001b[1;32m    894\u001b[0m \u001b[0;34m\u001b[0m\u001b[0m\n\u001b[0;32m--> 895\u001b[0;31m         \u001b[0mself\u001b[0m\u001b[0;34m.\u001b[0m\u001b[0m_make_engine\u001b[0m\u001b[0;34m(\u001b[0m\u001b[0mself\u001b[0m\u001b[0;34m.\u001b[0m\u001b[0mengine\u001b[0m\u001b[0;34m)\u001b[0m\u001b[0;34m\u001b[0m\u001b[0;34m\u001b[0m\u001b[0m\n\u001b[0m\u001b[1;32m    896\u001b[0m \u001b[0;34m\u001b[0m\u001b[0m\n\u001b[1;32m    897\u001b[0m     \u001b[0;32mdef\u001b[0m \u001b[0mclose\u001b[0m\u001b[0;34m(\u001b[0m\u001b[0mself\u001b[0m\u001b[0;34m)\u001b[0m\u001b[0;34m:\u001b[0m\u001b[0;34m\u001b[0m\u001b[0;34m\u001b[0m\u001b[0m\n",
      "\u001b[0;32m/home/gezi/env/anaconda3/lib/python3.6/site-packages/pandas/io/parsers.py\u001b[0m in \u001b[0;36m_make_engine\u001b[0;34m(self, engine)\u001b[0m\n\u001b[1;32m   1133\u001b[0m     \u001b[0;32mdef\u001b[0m \u001b[0m_make_engine\u001b[0m\u001b[0;34m(\u001b[0m\u001b[0mself\u001b[0m\u001b[0;34m,\u001b[0m \u001b[0mengine\u001b[0m\u001b[0;34m=\u001b[0m\u001b[0;34m\"c\"\u001b[0m\u001b[0;34m)\u001b[0m\u001b[0;34m:\u001b[0m\u001b[0;34m\u001b[0m\u001b[0;34m\u001b[0m\u001b[0m\n\u001b[1;32m   1134\u001b[0m         \u001b[0;32mif\u001b[0m \u001b[0mengine\u001b[0m \u001b[0;34m==\u001b[0m \u001b[0;34m\"c\"\u001b[0m\u001b[0;34m:\u001b[0m\u001b[0;34m\u001b[0m\u001b[0;34m\u001b[0m\u001b[0m\n\u001b[0;32m-> 1135\u001b[0;31m             \u001b[0mself\u001b[0m\u001b[0;34m.\u001b[0m\u001b[0m_engine\u001b[0m \u001b[0;34m=\u001b[0m \u001b[0mCParserWrapper\u001b[0m\u001b[0;34m(\u001b[0m\u001b[0mself\u001b[0m\u001b[0;34m.\u001b[0m\u001b[0mf\u001b[0m\u001b[0;34m,\u001b[0m \u001b[0;34m**\u001b[0m\u001b[0mself\u001b[0m\u001b[0;34m.\u001b[0m\u001b[0moptions\u001b[0m\u001b[0;34m)\u001b[0m\u001b[0;34m\u001b[0m\u001b[0;34m\u001b[0m\u001b[0m\n\u001b[0m\u001b[1;32m   1136\u001b[0m         \u001b[0;32melse\u001b[0m\u001b[0;34m:\u001b[0m\u001b[0;34m\u001b[0m\u001b[0;34m\u001b[0m\u001b[0m\n\u001b[1;32m   1137\u001b[0m             \u001b[0;32mif\u001b[0m \u001b[0mengine\u001b[0m \u001b[0;34m==\u001b[0m \u001b[0;34m\"python\"\u001b[0m\u001b[0;34m:\u001b[0m\u001b[0;34m\u001b[0m\u001b[0;34m\u001b[0m\u001b[0m\n",
      "\u001b[0;32m/home/gezi/env/anaconda3/lib/python3.6/site-packages/pandas/io/parsers.py\u001b[0m in \u001b[0;36m__init__\u001b[0;34m(self, src, **kwds)\u001b[0m\n\u001b[1;32m   1915\u001b[0m         \u001b[0mkwds\u001b[0m\u001b[0;34m[\u001b[0m\u001b[0;34m\"usecols\"\u001b[0m\u001b[0;34m]\u001b[0m \u001b[0;34m=\u001b[0m \u001b[0mself\u001b[0m\u001b[0;34m.\u001b[0m\u001b[0musecols\u001b[0m\u001b[0;34m\u001b[0m\u001b[0;34m\u001b[0m\u001b[0m\n\u001b[1;32m   1916\u001b[0m \u001b[0;34m\u001b[0m\u001b[0m\n\u001b[0;32m-> 1917\u001b[0;31m         \u001b[0mself\u001b[0m\u001b[0;34m.\u001b[0m\u001b[0m_reader\u001b[0m \u001b[0;34m=\u001b[0m \u001b[0mparsers\u001b[0m\u001b[0;34m.\u001b[0m\u001b[0mTextReader\u001b[0m\u001b[0;34m(\u001b[0m\u001b[0msrc\u001b[0m\u001b[0;34m,\u001b[0m \u001b[0;34m**\u001b[0m\u001b[0mkwds\u001b[0m\u001b[0;34m)\u001b[0m\u001b[0;34m\u001b[0m\u001b[0;34m\u001b[0m\u001b[0m\n\u001b[0m\u001b[1;32m   1918\u001b[0m         \u001b[0mself\u001b[0m\u001b[0;34m.\u001b[0m\u001b[0munnamed_cols\u001b[0m \u001b[0;34m=\u001b[0m \u001b[0mself\u001b[0m\u001b[0;34m.\u001b[0m\u001b[0m_reader\u001b[0m\u001b[0;34m.\u001b[0m\u001b[0munnamed_cols\u001b[0m\u001b[0;34m\u001b[0m\u001b[0;34m\u001b[0m\u001b[0m\n\u001b[1;32m   1919\u001b[0m \u001b[0;34m\u001b[0m\u001b[0m\n",
      "\u001b[0;32mpandas/_libs/parsers.pyx\u001b[0m in \u001b[0;36mpandas._libs.parsers.TextReader.__cinit__\u001b[0;34m()\u001b[0m\n",
      "\u001b[0;32mpandas/_libs/parsers.pyx\u001b[0m in \u001b[0;36mpandas._libs.parsers.TextReader._setup_parser_source\u001b[0;34m()\u001b[0m\n",
      "\u001b[0;31mFileNotFoundError\u001b[0m: [Errno 2] File b'/search/odin/publicData/CloudS/libowei/rank_online/infos/video/8/020042912/sgsapp_metrics_offline.csv' does not exist: b'/search/odin/publicData/CloudS/libowei/rank_online/infos/video/8/020042912/sgsapp_metrics_offline.csv'"
     ]
    }
   ],
   "source": [
    "csv = f'{root}/{datetime}/{product}_metrics_offline.csv'\n",
    "df2 = pd.read_csv(csv)\n",
    "df2[['abtest', 'group/auc', 'group/click/time_auc']]"
   ]
  },
  {
   "cell_type": "code",
   "execution_count": null,
   "metadata": {},
   "outputs": [],
   "source": [
    "glob.glob(f'{root}/{datetime}/*')"
   ]
  },
  {
   "cell_type": "code",
   "execution_count": null,
   "metadata": {},
   "outputs": [],
   "source": [
    "d = pd.read_csv(f'{root}/{datetime}/valid.csv')"
   ]
  },
  {
   "cell_type": "code",
   "execution_count": null,
   "metadata": {},
   "outputs": [],
   "source": [
    "d.columns"
   ]
  },
  {
   "cell_type": "code",
   "execution_count": null,
   "metadata": {},
   "outputs": [],
   "source": [
    "d[['lr_score', 'ori_lr_score', 'pred']]"
   ]
  },
  {
   "cell_type": "code",
   "execution_count": null,
   "metadata": {
    "scrolled": true
   },
   "outputs": [],
   "source": [
    "d[d.product_data=='sgsapp'][['lr_score', 'ori_lr_score', 'pred']]"
   ]
  },
  {
   "cell_type": "code",
   "execution_count": null,
   "metadata": {},
   "outputs": [],
   "source": []
  }
 ],
 "metadata": {
  "kernelspec": {
   "display_name": "Python 3",
   "language": "python",
   "name": "python3"
  },
  "language_info": {
   "codemirror_mode": {
    "name": "ipython",
    "version": 3
   },
   "file_extension": ".py",
   "mimetype": "text/x-python",
   "name": "python",
   "nbconvert_exporter": "python",
   "pygments_lexer": "ipython3",
   "version": "3.6.8"
  }
 },
 "nbformat": 4,
 "nbformat_minor": 2
}
