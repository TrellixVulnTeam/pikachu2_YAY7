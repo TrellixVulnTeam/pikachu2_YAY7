{
 "cells": [
  {
   "cell_type": "code",
   "execution_count": 15,
   "metadata": {},
   "outputs": [],
   "source": [
    "import pandas as pd "
   ]
  },
  {
   "cell_type": "code",
   "execution_count": 16,
   "metadata": {},
   "outputs": [],
   "source": [
    "file1 = '/home/gezi/new/temp/feed/rank/portrait/model/v9/deep.fm.weight/model.ckpt-1.00-62147.valid'"
   ]
  },
  {
   "cell_type": "code",
   "execution_count": 17,
   "metadata": {},
   "outputs": [],
   "source": [
    "file2 = '/home/gezi/new/temp/feed/rank/portrait/model/v9/deep.fm.multi.bce.dur1/model.ckpt-1.00-62147.valid'"
   ]
  },
  {
   "cell_type": "code",
   "execution_count": 43,
   "metadata": {},
   "outputs": [],
   "source": [
    "file2 = '/home/gezi/new/temp/feed/rank/portrait/model/v9/deep.fm.multi.bce.dur1.weight//model.ckpt-1.00-62147.valid'"
   ]
  },
  {
   "cell_type": "code",
   "execution_count": 44,
   "metadata": {},
   "outputs": [],
   "source": [
    "names = ['uid', 'docid', 'duration', 'label', 'pred', 'prob']"
   ]
  },
  {
   "cell_type": "code",
   "execution_count": 45,
   "metadata": {},
   "outputs": [],
   "source": [
    "df1 = pd.read_csv(file1, names=names)"
   ]
  },
  {
   "cell_type": "code",
   "execution_count": 47,
   "metadata": {},
   "outputs": [],
   "source": [
    "df2 = pd.read_csv(file2, names=names)"
   ]
  },
  {
   "cell_type": "code",
   "execution_count": 52,
   "metadata": {},
   "outputs": [],
   "source": [
    "df1['id'] = df1['uid'] + '\\t' + df1['docid']"
   ]
  },
  {
   "cell_type": "code",
   "execution_count": 53,
   "metadata": {},
   "outputs": [],
   "source": [
    "df2['id'] = df2['uid'] + '\\t' + df2['docid']"
   ]
  },
  {
   "cell_type": "code",
   "execution_count": 54,
   "metadata": {},
   "outputs": [],
   "source": [
    "df1 = df1.sort_values('id')"
   ]
  },
  {
   "cell_type": "code",
   "execution_count": 55,
   "metadata": {},
   "outputs": [],
   "source": [
    "df2 = df2.sort_values('id')"
   ]
  },
  {
   "cell_type": "code",
   "execution_count": 56,
   "metadata": {},
   "outputs": [
    {
     "data": {
      "text/html": [
       "<div>\n",
       "<style scoped>\n",
       "    .dataframe tbody tr th:only-of-type {\n",
       "        vertical-align: middle;\n",
       "    }\n",
       "\n",
       "    .dataframe tbody tr th {\n",
       "        vertical-align: top;\n",
       "    }\n",
       "\n",
       "    .dataframe thead th {\n",
       "        text-align: right;\n",
       "    }\n",
       "</style>\n",
       "<table border=\"1\" class=\"dataframe\">\n",
       "  <thead>\n",
       "    <tr style=\"text-align: right;\">\n",
       "      <th></th>\n",
       "      <th>uid</th>\n",
       "      <th>docid</th>\n",
       "      <th>duration</th>\n",
       "      <th>label</th>\n",
       "      <th>pred</th>\n",
       "      <th>prob</th>\n",
       "      <th>id</th>\n",
       "    </tr>\n",
       "  </thead>\n",
       "  <tbody>\n",
       "    <tr>\n",
       "      <th>4461748</th>\n",
       "      <td>00001515938605852|84f743</td>\n",
       "      <td>19729g0x09mkeE</td>\n",
       "      <td>54</td>\n",
       "      <td>1.0</td>\n",
       "      <td>-1.257267</td>\n",
       "      <td>0.221445</td>\n",
       "      <td>00001515938605852|84f743\\t19729g0x09mkeE</td>\n",
       "    </tr>\n",
       "    <tr>\n",
       "      <th>2628211</th>\n",
       "      <td>00001515938605852|84f743</td>\n",
       "      <td>open_doc_prod8400581</td>\n",
       "      <td>0</td>\n",
       "      <td>0.0</td>\n",
       "      <td>-0.170684</td>\n",
       "      <td>0.457432</td>\n",
       "      <td>00001515938605852|84f743\\topen_doc_prod8400581</td>\n",
       "    </tr>\n",
       "    <tr>\n",
       "      <th>471898</th>\n",
       "      <td>00001515938605852|84f743</td>\n",
       "      <td>open_doc_prod8459311</td>\n",
       "      <td>0</td>\n",
       "      <td>0.0</td>\n",
       "      <td>-1.227518</td>\n",
       "      <td>0.226616</td>\n",
       "      <td>00001515938605852|84f743\\topen_doc_prod8459311</td>\n",
       "    </tr>\n",
       "    <tr>\n",
       "      <th>3760674</th>\n",
       "      <td>0000862747030420882</td>\n",
       "      <td>20190725A0HG6A00</td>\n",
       "      <td>42</td>\n",
       "      <td>1.0</td>\n",
       "      <td>0.184093</td>\n",
       "      <td>0.545894</td>\n",
       "      <td>0000862747030420882\\t20190725A0HG6A00</td>\n",
       "    </tr>\n",
       "    <tr>\n",
       "      <th>3321439</th>\n",
       "      <td>0000863024049467844</td>\n",
       "      <td>1972480x1jZLqv</td>\n",
       "      <td>0</td>\n",
       "      <td>0.0</td>\n",
       "      <td>-0.283573</td>\n",
       "      <td>0.429578</td>\n",
       "      <td>0000863024049467844\\t1972480x1jZLqv</td>\n",
       "    </tr>\n",
       "  </tbody>\n",
       "</table>\n",
       "</div>"
      ],
      "text/plain": [
       "                              uid                 docid  duration  label  \\\n",
       "4461748  00001515938605852|84f743        19729g0x09mkeE        54    1.0   \n",
       "2628211  00001515938605852|84f743  open_doc_prod8400581         0    0.0   \n",
       "471898   00001515938605852|84f743  open_doc_prod8459311         0    0.0   \n",
       "3760674       0000862747030420882      20190725A0HG6A00        42    1.0   \n",
       "3321439       0000863024049467844        1972480x1jZLqv         0    0.0   \n",
       "\n",
       "             pred      prob                                              id  \n",
       "4461748 -1.257267  0.221445        00001515938605852|84f743\\t19729g0x09mkeE  \n",
       "2628211 -0.170684  0.457432  00001515938605852|84f743\\topen_doc_prod8400581  \n",
       "471898  -1.227518  0.226616  00001515938605852|84f743\\topen_doc_prod8459311  \n",
       "3760674  0.184093  0.545894           0000862747030420882\\t20190725A0HG6A00  \n",
       "3321439 -0.283573  0.429578             0000863024049467844\\t1972480x1jZLqv  "
      ]
     },
     "execution_count": 56,
     "metadata": {},
     "output_type": "execute_result"
    }
   ],
   "source": [
    "df1.head()"
   ]
  },
  {
   "cell_type": "code",
   "execution_count": 57,
   "metadata": {},
   "outputs": [
    {
     "data": {
      "text/html": [
       "<div>\n",
       "<style scoped>\n",
       "    .dataframe tbody tr th:only-of-type {\n",
       "        vertical-align: middle;\n",
       "    }\n",
       "\n",
       "    .dataframe tbody tr th {\n",
       "        vertical-align: top;\n",
       "    }\n",
       "\n",
       "    .dataframe thead th {\n",
       "        text-align: right;\n",
       "    }\n",
       "</style>\n",
       "<table border=\"1\" class=\"dataframe\">\n",
       "  <thead>\n",
       "    <tr style=\"text-align: right;\">\n",
       "      <th></th>\n",
       "      <th>uid</th>\n",
       "      <th>docid</th>\n",
       "      <th>duration</th>\n",
       "      <th>label</th>\n",
       "      <th>pred</th>\n",
       "      <th>prob</th>\n",
       "      <th>id</th>\n",
       "    </tr>\n",
       "  </thead>\n",
       "  <tbody>\n",
       "    <tr>\n",
       "      <th>4461748</th>\n",
       "      <td>00001515938605852|84f743</td>\n",
       "      <td>19729g0x09mkeE</td>\n",
       "      <td>54</td>\n",
       "      <td>1.0</td>\n",
       "      <td>-2.215731</td>\n",
       "      <td>0.098347</td>\n",
       "      <td>00001515938605852|84f743\\t19729g0x09mkeE</td>\n",
       "    </tr>\n",
       "    <tr>\n",
       "      <th>2628211</th>\n",
       "      <td>00001515938605852|84f743</td>\n",
       "      <td>open_doc_prod8400581</td>\n",
       "      <td>0</td>\n",
       "      <td>0.0</td>\n",
       "      <td>-0.781028</td>\n",
       "      <td>0.314098</td>\n",
       "      <td>00001515938605852|84f743\\topen_doc_prod8400581</td>\n",
       "    </tr>\n",
       "    <tr>\n",
       "      <th>471898</th>\n",
       "      <td>00001515938605852|84f743</td>\n",
       "      <td>open_doc_prod8459311</td>\n",
       "      <td>0</td>\n",
       "      <td>0.0</td>\n",
       "      <td>-2.363836</td>\n",
       "      <td>0.085972</td>\n",
       "      <td>00001515938605852|84f743\\topen_doc_prod8459311</td>\n",
       "    </tr>\n",
       "    <tr>\n",
       "      <th>3760674</th>\n",
       "      <td>0000862747030420882</td>\n",
       "      <td>20190725A0HG6A00</td>\n",
       "      <td>42</td>\n",
       "      <td>1.0</td>\n",
       "      <td>-1.022909</td>\n",
       "      <td>0.264461</td>\n",
       "      <td>0000862747030420882\\t20190725A0HG6A00</td>\n",
       "    </tr>\n",
       "    <tr>\n",
       "      <th>3321439</th>\n",
       "      <td>0000863024049467844</td>\n",
       "      <td>1972480x1jZLqv</td>\n",
       "      <td>0</td>\n",
       "      <td>0.0</td>\n",
       "      <td>-1.342980</td>\n",
       "      <td>0.207020</td>\n",
       "      <td>0000863024049467844\\t1972480x1jZLqv</td>\n",
       "    </tr>\n",
       "  </tbody>\n",
       "</table>\n",
       "</div>"
      ],
      "text/plain": [
       "                              uid                 docid  duration  label  \\\n",
       "4461748  00001515938605852|84f743        19729g0x09mkeE        54    1.0   \n",
       "2628211  00001515938605852|84f743  open_doc_prod8400581         0    0.0   \n",
       "471898   00001515938605852|84f743  open_doc_prod8459311         0    0.0   \n",
       "3760674       0000862747030420882      20190725A0HG6A00        42    1.0   \n",
       "3321439       0000863024049467844        1972480x1jZLqv         0    0.0   \n",
       "\n",
       "             pred      prob                                              id  \n",
       "4461748 -2.215731  0.098347        00001515938605852|84f743\\t19729g0x09mkeE  \n",
       "2628211 -0.781028  0.314098  00001515938605852|84f743\\topen_doc_prod8400581  \n",
       "471898  -2.363836  0.085972  00001515938605852|84f743\\topen_doc_prod8459311  \n",
       "3760674 -1.022909  0.264461           0000862747030420882\\t20190725A0HG6A00  \n",
       "3321439 -1.342980  0.207020             0000863024049467844\\t1972480x1jZLqv  "
      ]
     },
     "execution_count": 57,
     "metadata": {},
     "output_type": "execute_result"
    }
   ],
   "source": [
    "df2.head()"
   ]
  },
  {
   "cell_type": "code",
   "execution_count": 58,
   "metadata": {},
   "outputs": [],
   "source": [
    "import copy\n",
    "df = copy.deepcopy(df1)\n",
    "df['prob'] = (df1['prob'] + df2['prob']) * 0.5"
   ]
  },
  {
   "cell_type": "code",
   "execution_count": 59,
   "metadata": {},
   "outputs": [
    {
     "name": "stderr",
     "output_type": "stream",
     "text": [
      "------------auc:0.7867372392425113\n"
     ]
    }
   ],
   "source": [
    "from sklearn.metrics import roc_auc_score\n",
    "import gezi\n",
    "auc = roc_auc_score(df['label'], df['prob'])\n",
    "gezi.sprint(auc)"
   ]
  },
  {
   "cell_type": "code",
   "execution_count": 60,
   "metadata": {},
   "outputs": [
    {
     "data": {
      "text/plain": [
       "4461748     54\n",
       "2628211      0\n",
       "471898       0\n",
       "3760674     42\n",
       "3321439      0\n",
       "          ... \n",
       "2431058      0\n",
       "1934377    115\n",
       "1979058      0\n",
       "4249063      0\n",
       "2635240      0\n",
       "Name: duration, Length: 4544790, dtype: int64"
      ]
     },
     "execution_count": 60,
     "metadata": {},
     "output_type": "execute_result"
    }
   ],
   "source": [
    "df['duration']"
   ]
  },
  {
   "cell_type": "code",
   "execution_count": 61,
   "metadata": {},
   "outputs": [
    {
     "data": {
      "text/plain": [
       "array([0.15989574, 0.38576538, 0.15629416, ..., 0.43465029, 0.13605726,\n",
       "       0.32681077])"
      ]
     },
     "execution_count": 61,
     "metadata": {},
     "output_type": "execute_result"
    }
   ],
   "source": [
    "df['prob'].values"
   ]
  },
  {
   "cell_type": "code",
   "execution_count": 62,
   "metadata": {},
   "outputs": [],
   "source": [
    "inv_ratio, kendall = gezi.metrics.inverse_ratio(df['duration'].values, df['prob'].values)"
   ]
  },
  {
   "cell_type": "code",
   "execution_count": 63,
   "metadata": {},
   "outputs": [
    {
     "data": {
      "text/plain": [
       "0.7737427309414582"
      ]
     },
     "execution_count": 63,
     "metadata": {},
     "output_type": "execute_result"
    }
   ],
   "source": [
    "1 - inv_ratio"
   ]
  },
  {
   "cell_type": "code",
   "execution_count": 64,
   "metadata": {},
   "outputs": [],
   "source": [
    "durations = df['duration'].values\n",
    "filter_flag = durations > 0\n",
    "inv_ratio_click, kendall_click = gezi.metrics.inverse_ratio(durations[filter_flag], df['prob'].values[filter_flag])  "
   ]
  },
  {
   "cell_type": "code",
   "execution_count": 65,
   "metadata": {},
   "outputs": [
    {
     "data": {
      "text/plain": [
       "0.5613936976664744"
      ]
     },
     "execution_count": 65,
     "metadata": {},
     "output_type": "execute_result"
    }
   ],
   "source": [
    "1 - inv_ratio_click"
   ]
  },
  {
   "cell_type": "code",
   "execution_count": null,
   "metadata": {},
   "outputs": [],
   "source": []
  }
 ],
 "metadata": {
  "kernelspec": {
   "display_name": "Python 3",
   "language": "python",
   "name": "python3"
  },
  "language_info": {
   "codemirror_mode": {
    "name": "ipython",
    "version": 3
   },
   "file_extension": ".py",
   "mimetype": "text/x-python",
   "name": "python",
   "nbconvert_exporter": "python",
   "pygments_lexer": "ipython3",
   "version": "3.6.8"
  }
 },
 "nbformat": 4,
 "nbformat_minor": 2
}
