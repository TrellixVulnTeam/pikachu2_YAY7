{
 "cells": [
  {
   "cell_type": "code",
   "execution_count": 1,
   "metadata": {},
   "outputs": [],
   "source": [
    "import gezi\n",
    "import numpy as np"
   ]
  },
  {
   "cell_type": "code",
   "execution_count": 2,
   "metadata": {},
   "outputs": [],
   "source": [
    "x = np.asarray(range(4))\n",
    "y = x * 2"
   ]
  },
  {
   "cell_type": "code",
   "execution_count": 3,
   "metadata": {},
   "outputs": [],
   "source": [
    "f1  = [True, True, False, True]\n",
    "f2 = [False, True, True, True]\n",
    "l = [x, y]\n",
    "filters = [f1, f2]"
   ]
  },
  {
   "cell_type": "code",
   "execution_count": 4,
   "metadata": {},
   "outputs": [],
   "source": [
    "gezi.filter_all(l, filters)"
   ]
  },
  {
   "cell_type": "code",
   "execution_count": 5,
   "metadata": {},
   "outputs": [
    {
     "data": {
      "text/plain": [
       "[array([1, 3]), array([2, 6])]"
      ]
     },
     "execution_count": 5,
     "metadata": {},
     "output_type": "execute_result"
    }
   ],
   "source": [
    "l"
   ]
  },
  {
   "cell_type": "code",
   "execution_count": 34,
   "metadata": {},
   "outputs": [],
   "source": [
    "def is_cb_user(rea):\n",
    "  cb_users = '931,984,925,92'\n",
    "  cb_users = cb_users.split(',')\n",
    "  cb_users = tf.string_to_number(tf.constant(cb_users))\n",
    "  rea_w = None\n",
    "  for i in range(len(cb_users)):\n",
    "    if i == 0:\n",
    "      rea_w = tf.cast(tf.math.equal(rea, cb_users[0]), tf.int32)\n",
    "    else:\n",
    "      rea_w += tf.cast(tf.math.equal(rea, cb_users[i]), tf.int32)\n",
    "  return rea_w"
   ]
  },
  {
   "cell_type": "code",
   "execution_count": 35,
   "metadata": {},
   "outputs": [],
   "source": [
    "import tensorflow as tf"
   ]
  },
  {
   "cell_type": "code",
   "execution_count": 36,
   "metadata": {},
   "outputs": [],
   "source": [
    "tf.enable_eager_execution()"
   ]
  },
  {
   "cell_type": "code",
   "execution_count": 37,
   "metadata": {},
   "outputs": [],
   "source": [
    "x = tf.constant(['923', '931', '5'])"
   ]
  },
  {
   "cell_type": "code",
   "execution_count": 44,
   "metadata": {},
   "outputs": [],
   "source": [
    "def is_cb_user2(rea):\n",
    "  cb_users = '931,984,925,92'\n",
    "  cb_users = cb_users.split(',')\n",
    "  cb_users = [int(x) for x in cb_users]\n",
    "  rea_w = None\n",
    "  for i in range(len(cb_users)):\n",
    "    if i == 0:\n",
    "      rea_w = tf.cast(tf.math.equal(rea, cb_users[0]), tf.int32)\n",
    "    else:\n",
    "      rea_w += tf.cast(tf.math.equal(rea, cb_users[i]), tf.int32)\n",
    "  return rea_w"
   ]
  },
  {
   "cell_type": "code",
   "execution_count": 45,
   "metadata": {},
   "outputs": [
    {
     "data": {
      "text/plain": [
       "<tf.Tensor: id=50, shape=(3,), dtype=int32, numpy=array([0, 1, 0], dtype=int32)>"
      ]
     },
     "execution_count": 45,
     "metadata": {},
     "output_type": "execute_result"
    }
   ],
   "source": [
    "x = tf.constant([923, 931, 5])\n",
    "is_cb_user2(x)"
   ]
  },
  {
   "cell_type": "code",
   "execution_count": null,
   "metadata": {},
   "outputs": [],
   "source": []
  }
 ],
 "metadata": {
  "kernelspec": {
   "display_name": "Python 3",
   "language": "python",
   "name": "python3"
  },
  "language_info": {
   "codemirror_mode": {
    "name": "ipython",
    "version": 3
   },
   "file_extension": ".py",
   "mimetype": "text/x-python",
   "name": "python",
   "nbconvert_exporter": "python",
   "pygments_lexer": "ipython3",
   "version": "3.6.8"
  }
 },
 "nbformat": 4,
 "nbformat_minor": 2
}
