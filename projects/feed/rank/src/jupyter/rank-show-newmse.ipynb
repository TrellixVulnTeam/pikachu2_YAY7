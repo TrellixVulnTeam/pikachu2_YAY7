{
 "cells": [
  {
   "cell_type": "code",
   "execution_count": 1,
   "metadata": {},
   "outputs": [
    {
     "data": {
      "text/html": [
       "        <script type=\"text/javascript\">\n",
       "        window.PlotlyConfig = {MathJaxConfig: 'local'};\n",
       "        if (window.MathJax) {MathJax.Hub.Config({SVG: {font: \"STIX-Web\"}});}\n",
       "        if (typeof require !== 'undefined') {\n",
       "        require.undef(\"plotly\");\n",
       "        requirejs.config({\n",
       "            paths: {\n",
       "                'plotly': ['https://cdn.plot.ly/plotly-latest.min']\n",
       "            }\n",
       "        });\n",
       "        require(['plotly'], function(Plotly) {\n",
       "            window._Plotly = Plotly;\n",
       "        });\n",
       "        }\n",
       "        </script>\n",
       "        "
      ]
     },
     "metadata": {},
     "output_type": "display_data"
    }
   ],
   "source": [
    "import pandas as pd\n",
    "import os\n",
    "import glob\n",
    "import traceback\n",
    "from datetime import datetime\n",
    "import pandas as pd\n",
    "from plotly.graph_objs import Scatter,Layout\n",
    "import plotly\n",
    "import plotly.offline as py\n",
    "import numpy as np\n",
    "import plotly.graph_objs as go\n",
    "from plotly.subplots import make_subplots\n",
    "plotly.offline.init_notebook_mode(connected=True)\n",
    "import plotly.express as px\n",
    "import gezi\n",
    "from gezi import tqdm \n",
    "import pymp\n",
    "import time\n",
    "import qgrid\n",
    "from sklearn.metrics import roc_auc_score\n",
    "from multiprocessing import Manager, cpu_count\n",
    "from projects.feed.rank.utils.doc_info.KV import KV"
   ]
  },
  {
   "cell_type": "code",
   "execution_count": 2,
   "metadata": {},
   "outputs": [
    {
     "data": {
      "text/html": [
       "<style>\n",
       ".output_wrapper, .output {\n",
       "    height:auto !important;\n",
       "    max-height:10000px;  /* your desired max-height here */\n",
       "}\n",
       ".output_scroll {\n",
       "    box-shadow:none !important;\n",
       "    webkit-box-shadow:none !important;\n",
       "}\n",
       "</style>"
      ],
      "text/plain": [
       "<IPython.core.display.HTML object>"
      ]
     },
     "metadata": {},
     "output_type": "display_data"
    }
   ],
   "source": [
    "%%html\n",
    "<style>\n",
    ".output_wrapper, .output {\n",
    "    height:auto !important;\n",
    "    max-height:10000px;  /* your desired max-height here */\n",
    "}\n",
    ".output_scroll {\n",
    "    box-shadow:none !important;\n",
    "    webkit-box-shadow:none !important;\n",
    "}\n",
    "</style>"
   ]
  },
  {
   "cell_type": "code",
   "execution_count": 3,
   "metadata": {},
   "outputs": [
    {
     "name": "stdout",
     "output_type": "stream",
     "text": [
      "/search/odin/publicData/CloudS/libowei/rank_online/infos/tuwen/8/2020050822/valid.csv\n"
     ]
    },
    {
     "data": {
      "text/html": [
       "<div>\n",
       "<style scoped>\n",
       "    .dataframe tbody tr th:only-of-type {\n",
       "        vertical-align: middle;\n",
       "    }\n",
       "\n",
       "    .dataframe tbody tr th {\n",
       "        vertical-align: top;\n",
       "    }\n",
       "\n",
       "    .dataframe thead th {\n",
       "        text-align: right;\n",
       "    }\n",
       "</style>\n",
       "<table border=\"1\" class=\"dataframe\">\n",
       "  <thead>\n",
       "    <tr style=\"text-align: right;\">\n",
       "      <th></th>\n",
       "      <th>doc_topic</th>\n",
       "      <th>abtestid</th>\n",
       "      <th>article_page_time</th>\n",
       "      <th>coldstart_refresh_num</th>\n",
       "      <th>did</th>\n",
       "      <th>distribution</th>\n",
       "      <th>docid</th>\n",
       "      <th>duration</th>\n",
       "      <th>id</th>\n",
       "      <th>impression_time</th>\n",
       "      <th>...</th>\n",
       "      <th>click</th>\n",
       "      <th>weight</th>\n",
       "      <th>cold</th>\n",
       "      <th>product_data</th>\n",
       "      <th>pred</th>\n",
       "      <th>pred_click</th>\n",
       "      <th>pred_dur</th>\n",
       "      <th>hour</th>\n",
       "      <th>dur</th>\n",
       "      <th>mark</th>\n",
       "    </tr>\n",
       "  </thead>\n",
       "  <tbody>\n",
       "    <tr>\n",
       "      <th>50</th>\n",
       "      <td>0</td>\n",
       "      <td>2</td>\n",
       "      <td>1586852566</td>\n",
       "      <td>1</td>\n",
       "      <td>7334023469134679818</td>\n",
       "      <td>0</td>\n",
       "      <td>20414g0l4G4fL2</td>\n",
       "      <td>0</td>\n",
       "      <td>00000000-5a0a-9d0f-512a-c0486bc5b3c9\\t20414g0l...</td>\n",
       "      <td>1588945865</td>\n",
       "      <td>...</td>\n",
       "      <td>0</td>\n",
       "      <td>1.0</td>\n",
       "      <td>0</td>\n",
       "      <td>newmse</td>\n",
       "      <td>0.132690</td>\n",
       "      <td>0.376763</td>\n",
       "      <td>0.354046</td>\n",
       "      <td>2020050822</td>\n",
       "      <td>0</td>\n",
       "      <td>tuwen</td>\n",
       "    </tr>\n",
       "    <tr>\n",
       "      <th>51</th>\n",
       "      <td>0</td>\n",
       "      <td>1</td>\n",
       "      <td>1588932695</td>\n",
       "      <td>3</td>\n",
       "      <td>-8639180447363974982</td>\n",
       "      <td>0</td>\n",
       "      <td>20508i0x4b926J</td>\n",
       "      <td>0</td>\n",
       "      <td>ffffffff-f1b3-e10f-ffff-ffffeec6e737\\t20508i0x...</td>\n",
       "      <td>1588946512</td>\n",
       "      <td>...</td>\n",
       "      <td>0</td>\n",
       "      <td>1.0</td>\n",
       "      <td>0</td>\n",
       "      <td>newmse</td>\n",
       "      <td>0.024684</td>\n",
       "      <td>0.163107</td>\n",
       "      <td>0.171918</td>\n",
       "      <td>2020050822</td>\n",
       "      <td>0</td>\n",
       "      <td>tuwen</td>\n",
       "    </tr>\n",
       "    <tr>\n",
       "      <th>52</th>\n",
       "      <td>0</td>\n",
       "      <td>14</td>\n",
       "      <td>1588749211</td>\n",
       "      <td>1</td>\n",
       "      <td>4420956366464759396</td>\n",
       "      <td>0</td>\n",
       "      <td>20506g0l0NQKbo</td>\n",
       "      <td>146</td>\n",
       "      <td>ffffffff-9f81-581d-ffff-fffff1721281\\t20506g0l...</td>\n",
       "      <td>1588946189</td>\n",
       "      <td>...</td>\n",
       "      <td>1</td>\n",
       "      <td>1.0</td>\n",
       "      <td>0</td>\n",
       "      <td>newmse</td>\n",
       "      <td>0.060682</td>\n",
       "      <td>0.263637</td>\n",
       "      <td>0.209410</td>\n",
       "      <td>2020050822</td>\n",
       "      <td>146</td>\n",
       "      <td>tuwen</td>\n",
       "    </tr>\n",
       "    <tr>\n",
       "      <th>53</th>\n",
       "      <td>0</td>\n",
       "      <td>4</td>\n",
       "      <td>1587975586</td>\n",
       "      <td>7</td>\n",
       "      <td>7992449200751595495</td>\n",
       "      <td>0</td>\n",
       "      <td>20427m0l1ZdcHG</td>\n",
       "      <td>0</td>\n",
       "      <td>00000000-7b0a-2764-14d6-a2757c1151fc\\t20427m0l...</td>\n",
       "      <td>1588948194</td>\n",
       "      <td>...</td>\n",
       "      <td>0</td>\n",
       "      <td>1.0</td>\n",
       "      <td>0</td>\n",
       "      <td>newmse</td>\n",
       "      <td>0.042883</td>\n",
       "      <td>0.191227</td>\n",
       "      <td>0.428480</td>\n",
       "      <td>2020050822</td>\n",
       "      <td>0</td>\n",
       "      <td>tuwen</td>\n",
       "    </tr>\n",
       "    <tr>\n",
       "      <th>54</th>\n",
       "      <td>0</td>\n",
       "      <td>16</td>\n",
       "      <td>1588745148</td>\n",
       "      <td>3</td>\n",
       "      <td>9029453680989744392</td>\n",
       "      <td>0</td>\n",
       "      <td>open_doc_prod28146024</td>\n",
       "      <td>0</td>\n",
       "      <td>ffffffff-9ade-7f35-ffff-ffff82522d10\\topen_doc...</td>\n",
       "      <td>1588947579</td>\n",
       "      <td>...</td>\n",
       "      <td>0</td>\n",
       "      <td>1.0</td>\n",
       "      <td>0</td>\n",
       "      <td>newmse</td>\n",
       "      <td>0.029601</td>\n",
       "      <td>0.165585</td>\n",
       "      <td>0.288455</td>\n",
       "      <td>2020050822</td>\n",
       "      <td>0</td>\n",
       "      <td>tuwen</td>\n",
       "    </tr>\n",
       "  </tbody>\n",
       "</table>\n",
       "<p>5 rows × 46 columns</p>\n",
       "</div>"
      ],
      "text/plain": [
       "    doc_topic  abtestid  article_page_time  coldstart_refresh_num  \\\n",
       "50          0         2         1586852566                      1   \n",
       "51          0         1         1588932695                      3   \n",
       "52          0        14         1588749211                      1   \n",
       "53          0         4         1587975586                      7   \n",
       "54          0        16         1588745148                      3   \n",
       "\n",
       "                    did distribution                  docid  duration  \\\n",
       "50  7334023469134679818            0         20414g0l4G4fL2         0   \n",
       "51 -8639180447363974982            0         20508i0x4b926J         0   \n",
       "52  4420956366464759396            0         20506g0l0NQKbo       146   \n",
       "53  7992449200751595495            0         20427m0l1ZdcHG         0   \n",
       "54  9029453680989744392            0  open_doc_prod28146024         0   \n",
       "\n",
       "                                                   id  impression_time  ...  \\\n",
       "50  00000000-5a0a-9d0f-512a-c0486bc5b3c9\\t20414g0l...       1588945865  ...   \n",
       "51  ffffffff-f1b3-e10f-ffff-ffffeec6e737\\t20508i0x...       1588946512  ...   \n",
       "52  ffffffff-9f81-581d-ffff-fffff1721281\\t20506g0l...       1588946189  ...   \n",
       "53  00000000-7b0a-2764-14d6-a2757c1151fc\\t20427m0l...       1588948194  ...   \n",
       "54  ffffffff-9ade-7f35-ffff-ffff82522d10\\topen_doc...       1588947579  ...   \n",
       "\n",
       "    click weight cold product_data      pred pred_click  pred_dur        hour  \\\n",
       "50      0    1.0    0       newmse  0.132690   0.376763  0.354046  2020050822   \n",
       "51      0    1.0    0       newmse  0.024684   0.163107  0.171918  2020050822   \n",
       "52      1    1.0    0       newmse  0.060682   0.263637  0.209410  2020050822   \n",
       "53      0    1.0    0       newmse  0.042883   0.191227  0.428480  2020050822   \n",
       "54      0    1.0    0       newmse  0.029601   0.165585  0.288455  2020050822   \n",
       "\n",
       "    dur   mark  \n",
       "50    0  tuwen  \n",
       "51    0  tuwen  \n",
       "52  146  tuwen  \n",
       "53    0  tuwen  \n",
       "54    0  tuwen  \n",
       "\n",
       "[5 rows x 46 columns]"
      ]
     },
     "execution_count": 3,
     "metadata": {},
     "output_type": "execute_result"
    }
   ],
   "source": [
    "info_dir = f'/search/odin/publicData/CloudS/libowei/rank_online/infos/tuwen/8'\n",
    "hour = 2020050822\n",
    "info_path = f'{info_dir}/{hour}/valid.csv'\n",
    "print(info_path)\n",
    "df = pd.read_csv(info_path)\n",
    "# df2 = pd.read_csv()\n",
    "# df = df.rename({'duration':'dur'})\n",
    "df['dur'] = df.duration\n",
    "df['mark'] = 'tuwen'\n",
    "info_dir = f'/search/odin/publicData/CloudS/libowei/rank_online/infos/video/8'\n",
    "info_path = f'{info_dir}/{hour}/valid.csv'\n",
    "df2 = pd.read_csv(info_path)\n",
    "df2['dur'] = df.duration\n",
    "df2['mark'] = 'video'\n",
    "df = pd.concat([df, df2])\n",
    "df = df[df.product_data=='newmse']\n",
    "df.head()"
   ]
  },
  {
   "cell_type": "code",
   "execution_count": 4,
   "metadata": {},
   "outputs": [],
   "source": [
    "df['click'] = (df.dur != 0).astype(int)"
   ]
  },
  {
   "cell_type": "code",
   "execution_count": 5,
   "metadata": {},
   "outputs": [
    {
     "name": "stderr",
     "output_type": "stream",
     "text": [
      "get_titles: 100%|##########| 2600/2600 [01:50<00:00, 23.46it/s]\n"
     ]
    }
   ],
   "source": [
    "kv = KV()\n",
    "titles = kv.get_titles(list(set(df.docid.values)))\n",
    "df['title'] = df.docid.apply(lambda x: titles.get(x, ''))"
   ]
  },
  {
   "cell_type": "code",
   "execution_count": 6,
   "metadata": {},
   "outputs": [],
   "source": [
    "pd.set_option('display.max_rows', 1000)\n",
    "pd.set_option(\"display.precision\", 8)"
   ]
  },
  {
   "cell_type": "code",
   "execution_count": 7,
   "metadata": {},
   "outputs": [],
   "source": [
    "if 'article_page_time' not in df.columns:\n",
    "  df.article_page_time = df.impression_time\n",
    "df['page_time'] = (df.impression_time - df.article_page_time) / 60 / 60 / 24"
   ]
  },
  {
   "cell_type": "code",
   "execution_count": 8,
   "metadata": {},
   "outputs": [],
   "source": [
    "df['impression'] = df.mid + '\\t' + df.impression_time.astype(str)"
   ]
  },
  {
   "cell_type": "code",
   "execution_count": 9,
   "metadata": {},
   "outputs": [],
   "source": [
    "mean_duration = df[df.dur > 0].dur.mean()"
   ]
  },
  {
   "cell_type": "code",
   "execution_count": 10,
   "metadata": {},
   "outputs": [
    {
     "data": {
      "text/plain": [
       "81.48809885247468"
      ]
     },
     "execution_count": 10,
     "metadata": {},
     "output_type": "execute_result"
    }
   ],
   "source": [
    "mean_duration"
   ]
  },
  {
   "cell_type": "code",
   "execution_count": 11,
   "metadata": {},
   "outputs": [],
   "source": [
    "from projects.feed.rank.src import util\n",
    "df['cold'] = df.rea.apply(lambda x: int(x) in util.cold_starts)\n",
    "# df = df[df.product_data=='sgsapp']"
   ]
  },
  {
   "cell_type": "code",
   "execution_count": 12,
   "metadata": {},
   "outputs": [],
   "source": [
    "import math\n",
    "df.pred = df.pred.apply(lambda x: math.sqrt(x))"
   ]
  },
  {
   "cell_type": "code",
   "execution_count": 13,
   "metadata": {},
   "outputs": [],
   "source": [
    "cold_mids = set(df[df.cold==True].mid.values)"
   ]
  },
  {
   "cell_type": "code",
   "execution_count": 14,
   "metadata": {},
   "outputs": [
    {
     "data": {
      "text/plain": [
       "199913"
      ]
     },
     "execution_count": 14,
     "metadata": {},
     "output_type": "execute_result"
    }
   ],
   "source": [
    "len(set(df.mid.values))"
   ]
  },
  {
   "cell_type": "code",
   "execution_count": 15,
   "metadata": {},
   "outputs": [
    {
     "data": {
      "text/plain": [
       "31230"
      ]
     },
     "execution_count": 15,
     "metadata": {},
     "output_type": "execute_result"
    }
   ],
   "source": [
    "len(cold_mids)"
   ]
  },
  {
   "cell_type": "code",
   "execution_count": 16,
   "metadata": {},
   "outputs": [],
   "source": [
    "def debug(mid=None, cold=False):\n",
    "  if mid is None:\n",
    "    if not cold:\n",
    "      mid = df.mid.sample(1).values[0]\n",
    "    else:\n",
    "      mid = df[df.mid.isin(cold_mids)].mid.sample(1).values[0]\n",
    "  print('mid:', mid)\n",
    "  cols = ['position', 'title', 'mark', 'dur', 'ori_lr_score', 'ol_pred', 'ol_pred_click', 'ol_pred_dur', 'docid', 'model_ver']\n",
    "#   if 'hour' in df.columns:\n",
    "#     cols += ['hour']\n",
    "  d = df[df.mid==mid]\n",
    "  start_time = d.impression_time.min()\n",
    "  d['time'] = d.impression_time.apply(lambda x: int((x - start_time) / 60))\n",
    "#   cols += ['time']\n",
    "  d = d.sort_values(['impression_time', 'position'])[cols].reset_index(drop=True)\n",
    "#   return d.sort_values(['ori_lr_score'], ascending=False)[cols].reset_index(drop=True)\n",
    "  return d"
   ]
  },
  {
   "cell_type": "code",
   "execution_count": 17,
   "metadata": {},
   "outputs": [
    {
     "name": "stdout",
     "output_type": "stream",
     "text": [
      "mid: e77c1587466574307|a0fb78\n"
     ]
    },
    {
     "data": {
      "text/html": [
       "<div>\n",
       "<style scoped>\n",
       "    .dataframe tbody tr th:only-of-type {\n",
       "        vertical-align: middle;\n",
       "    }\n",
       "\n",
       "    .dataframe tbody tr th {\n",
       "        vertical-align: top;\n",
       "    }\n",
       "\n",
       "    .dataframe thead th {\n",
       "        text-align: right;\n",
       "    }\n",
       "</style>\n",
       "<table border=\"1\" class=\"dataframe\">\n",
       "  <thead>\n",
       "    <tr style=\"text-align: right;\">\n",
       "      <th></th>\n",
       "      <th>position</th>\n",
       "      <th>title</th>\n",
       "      <th>mark</th>\n",
       "      <th>dur</th>\n",
       "      <th>ori_lr_score</th>\n",
       "      <th>ol_pred</th>\n",
       "      <th>ol_pred_click</th>\n",
       "      <th>ol_pred_dur</th>\n",
       "      <th>docid</th>\n",
       "      <th>model_ver</th>\n",
       "    </tr>\n",
       "  </thead>\n",
       "  <tbody>\n",
       "  </tbody>\n",
       "</table>\n",
       "</div>"
      ],
      "text/plain": [
       "Empty DataFrame\n",
       "Columns: [position, title, mark, dur, ori_lr_score, ol_pred, ol_pred_click, ol_pred_dur, docid, model_ver]\n",
       "Index: []"
      ]
     },
     "execution_count": 17,
     "metadata": {},
     "output_type": "execute_result"
    }
   ],
   "source": [
    "debug(\"e77c1587466574307|a0fb78\")"
   ]
  },
  {
   "cell_type": "code",
   "execution_count": 18,
   "metadata": {},
   "outputs": [
    {
     "data": {
      "text/plain": [
       "521837"
      ]
     },
     "execution_count": 18,
     "metadata": {},
     "output_type": "execute_result"
    }
   ],
   "source": [
    "len(set(df.impression.values)) "
   ]
  },
  {
   "cell_type": "code",
   "execution_count": 19,
   "metadata": {},
   "outputs": [
    {
     "data": {
      "text/plain": [
       "199913"
      ]
     },
     "execution_count": 19,
     "metadata": {},
     "output_type": "execute_result"
    }
   ],
   "source": [
    "len(set(df.mid.values))"
   ]
  },
  {
   "cell_type": "code",
   "execution_count": 20,
   "metadata": {},
   "outputs": [
    {
     "data": {
      "text/plain": [
       "2.6103204894128944"
      ]
     },
     "execution_count": 20,
     "metadata": {},
     "output_type": "execute_result"
    }
   ],
   "source": [
    "len(set(df.impression.values))  / len(set(df.mid.values))"
   ]
  },
  {
   "cell_type": "code",
   "execution_count": 21,
   "metadata": {
    "scrolled": true
   },
   "outputs": [
    {
     "data": {
      "text/plain": [
       "144318"
      ]
     },
     "execution_count": 21,
     "metadata": {},
     "output_type": "execute_result"
    }
   ],
   "source": [
    "len(set(df[df.dur!=0].mid.values))"
   ]
  },
  {
   "cell_type": "code",
   "execution_count": 22,
   "metadata": {},
   "outputs": [
    {
     "data": {
      "text/plain": [
       "0.7219040282522897"
      ]
     },
     "execution_count": 22,
     "metadata": {},
     "output_type": "execute_result"
    }
   ],
   "source": [
    "len(set(df[df.dur!=0].mid.values)) / len(set(df.mid.values))"
   ]
  },
  {
   "cell_type": "code",
   "execution_count": null,
   "metadata": {},
   "outputs": [],
   "source": []
  }
 ],
 "metadata": {
  "kernelspec": {
   "display_name": "Python 3",
   "language": "python",
   "name": "python3"
  },
  "language_info": {
   "codemirror_mode": {
    "name": "ipython",
    "version": 3
   },
   "file_extension": ".py",
   "mimetype": "text/x-python",
   "name": "python",
   "nbconvert_exporter": "python",
   "pygments_lexer": "ipython3",
   "version": "3.6.8"
  }
 },
 "nbformat": 4,
 "nbformat_minor": 2
}
