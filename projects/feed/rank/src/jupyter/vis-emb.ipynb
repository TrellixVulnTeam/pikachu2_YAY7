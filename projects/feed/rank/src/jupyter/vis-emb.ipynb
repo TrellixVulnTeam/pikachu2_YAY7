{
 "cells": [
  {
   "cell_type": "code",
   "execution_count": 1,
   "metadata": {},
   "outputs": [],
   "source": [
    "# %%html\n",
    "# <style>\n",
    "# .output_wrapper, .output {\n",
    "#     height:auto !important;\n",
    "#     max-height:1000px;  /* your desired max-height here */\n",
    "# }\n",
    "# .output_scroll {\n",
    "#     box-shadow:none !important;\n",
    "#     webkit-box-shadow:none !important;\n",
    "# }\n",
    "# </style>"
   ]
  },
  {
   "cell_type": "code",
   "execution_count": 2,
   "metadata": {},
   "outputs": [],
   "source": [
    "import tensorflow as tf"
   ]
  },
  {
   "cell_type": "code",
   "execution_count": 3,
   "metadata": {},
   "outputs": [],
   "source": [
    "import melt\n",
    "import numpy as np\n",
    "import gezi\n",
    "from gezi import tqdm\n",
    "# %matplotlib notebook\n",
    "import matplotlib\n",
    "import matplotlib.pyplot as plt\n",
    "import umap"
   ]
  },
  {
   "cell_type": "code",
   "execution_count": 4,
   "metadata": {},
   "outputs": [
    {
     "name": "stdout",
     "output_type": "stream",
     "text": [
      "tensor_name:  wide_deep/wide_1/emb/emb/embeddings2\n",
      "tensor_name:  wide_deep/wide_1/emb/emb/embeddings\n",
      "tensor_name:  wide_deep/wide/emb/emb/embeddings2\n",
      "tensor_name:  wide_deep/wide/emb/emb/embeddings\n",
      "tensor_name:  wide_deep/deep/weekday_emb/embeddings\n",
      "tensor_name:  wide_deep/deep/user_emb/embeddings\n",
      "tensor_name:  wide_deep/deep/topic_emb/embeddings\n",
      "tensor_name:  wide_deep/deep/time_emb/embeddings\n",
      "tensor_name:  wide_deep/deep/mktest_kw_emb/embeddings\n",
      "tensor_name:  wide_deep/deep/kw_emb/embeddings\n",
      "tensor_name:  wide_deep/deep/emb/emb/embeddings2\n",
      "tensor_name:  wide_deep/deep/emb/emb/embeddings\n",
      "tensor_name:  wide_deep/deep/doc_emb/embeddings2\n",
      "tensor_name:  wide_deep/deep/doc_emb/embeddings\n",
      "tensor_name:  wide_deep/deep/distribution_id_emb/embeddings\n",
      "tensor_name:  OptimizeLoss___0/wide_deep/deep/emb/emb/embeddings/Adam\n",
      "tensor_name:  OptimizeLoss___0_1/wide_deep/wide_1/emb/emb/embeddings/Adam\n",
      "tensor_name:  wide_deep/deep/user_emb/embeddings2\n",
      "tensor_name:  OptimizeLoss___0/wide_deep/deep/cold_emb/embeddings/Adam\n",
      "tensor_name:  OptimizeLoss___0/wide_deep/deep/distribution_id_emb/embeddings/Adam\n",
      "tensor_name:  OptimizeLoss___0/wide_deep/deep/topic_emb/embeddings/Adam\n",
      "tensor_name:  wide_deep/deep/cold_emb/embeddings\n",
      "tensor_name:  OptimizeLoss___0/wide_deep/deep/mktest_kw_emb/embeddings/Adam\n",
      "tensor_name:  OptimizeLoss___0/wide_deep/deep/kw_emb/embeddings/Adam\n",
      "tensor_name:  OptimizeLoss___0/wide_deep/deep/product_emb/embeddings/Adam_1\n",
      "tensor_name:  OptimizeLoss___0/wide_deep/deep/emb/emb/embeddings2/Adam_1\n",
      "tensor_name:  OptimizeLoss___0/wide_deep/deep/doc_emb/embeddings2/Adam_1\n",
      "tensor_name:  OptimizeLoss___0/wide_deep/deep/emb/emb/embeddings2/Adam\n",
      "tensor_name:  OptimizeLoss___0/wide_deep/deep/cold_emb/embeddings/Adam_1\n",
      "tensor_name:  OptimizeLoss___0/wide_deep/deep/doc_emb/embeddings/Adam\n",
      "tensor_name:  OptimizeLoss___0_1/wide_deep/wide/emb/emb/embeddings/Adam\n",
      "tensor_name:  OptimizeLoss___0/wide_deep/deep/emb/emb/embeddings/Adam_1\n",
      "tensor_name:  OptimizeLoss___0/wide_deep/deep/doc_emb/embeddings2/Adam\n",
      "tensor_name:  OptimizeLoss___0/wide_deep/deep/weekday_emb/embeddings/Adam_1\n",
      "tensor_name:  OptimizeLoss___0/wide_deep/deep/activity_emb/embeddings/Adam_1\n",
      "tensor_name:  OptimizeLoss___0/wide_deep/deep/user_emb/embeddings/Adam\n",
      "tensor_name:  OptimizeLoss___0/wide_deep/deep/kw_emb/embeddings/Adam_1\n",
      "tensor_name:  OptimizeLoss___0/wide_deep/deep/user_emb/embeddings/Adam_1\n",
      "tensor_name:  OptimizeLoss___0/wide_deep/deep/distribution_id_emb/embeddings/Adam_1\n",
      "tensor_name:  OptimizeLoss___0/wide_deep/deep/timespan_emb/embeddings/Adam\n",
      "tensor_name:  OptimizeLoss___0/wide_deep/deep/mktest_kw_emb/embeddings/Adam_1\n",
      "tensor_name:  OptimizeLoss___0/wide_deep/deep/activity_emb/embeddings/Adam\n",
      "tensor_name:  OptimizeLoss___0_1/wide_deep/wide_1/emb/emb/embeddings/Adam_1\n",
      "tensor_name:  wide_deep/deep/product_emb/embeddings\n",
      "tensor_name:  OptimizeLoss___0/wide_deep/deep/time_emb/embeddings/Adam\n",
      "tensor_name:  wide_deep/deep/timespan_emb/embeddings\n",
      "tensor_name:  OptimizeLoss___0/wide_deep/deep/timespan_emb/embeddings/Adam_1\n",
      "tensor_name:  OptimizeLoss___0/wide_deep/deep/topic_emb/embeddings/Adam_1\n",
      "tensor_name:  OptimizeLoss___0/wide_deep/deep/user_emb/embeddings2/Adam\n",
      "tensor_name:  OptimizeLoss___0/wide_deep/deep/user_emb/embeddings2/Adam_1\n",
      "tensor_name:  OptimizeLoss___0/wide_deep/deep/doc_emb/embeddings/Adam_1\n",
      "tensor_name:  OptimizeLoss___0_1/wide_deep/wide/emb/emb/embeddings/Adam_1\n",
      "tensor_name:  OptimizeLoss___0/wide_deep/deep/weekday_emb/embeddings/Adam\n",
      "tensor_name:  OptimizeLoss___0_1/wide_deep/wide/emb/emb/embeddings2/Adam\n",
      "tensor_name:  OptimizeLoss___0/wide_deep/deep/time_emb/embeddings/Adam_1\n",
      "tensor_name:  OptimizeLoss___0_1/wide_deep/wide_1/emb/emb/embeddings2/Adam\n",
      "tensor_name:  OptimizeLoss___0/wide_deep/deep/product_emb/embeddings/Adam\n",
      "tensor_name:  OptimizeLoss___0_1/wide_deep/wide_1/emb/emb/embeddings2/Adam_1\n",
      "tensor_name:  OptimizeLoss___0_1/wide_deep/wide/emb/emb/embeddings2/Adam_1\n",
      "tensor_name:  wide_deep/deep/activity_emb/embeddings\n"
     ]
    }
   ],
   "source": [
    "from tensorflow.python import pywrap_tensorflow\n",
    "root = '/search/odin/publicData/CloudS/mkyuwen/rank_online/data/video_hour_sgsapp_v1/models/1'\n",
    "model_dir = root + '/2020091522'\n",
    "var_name = 'embeddings'\n",
    "checkpoint_path = melt.get_model_path(model_dir)\n",
    "reader = pywrap_tensorflow.NewCheckpointReader(checkpoint_path)\n",
    "var_to_shape_map = reader.get_variable_to_shape_map()\n",
    "for key in var_to_shape_map:\n",
    "  if var_name in key:\n",
    "    print(\"tensor_name: \", key)\n",
    "#     print(reader.get_tensor(key))"
   ]
  },
  {
   "cell_type": "code",
   "execution_count": 5,
   "metadata": {},
   "outputs": [],
   "source": [
    "# reader.get_tensor('wide_deep/deep/doc_emb/embeddings2')"
   ]
  },
  {
   "cell_type": "code",
   "execution_count": 6,
   "metadata": {},
   "outputs": [],
   "source": [
    "def visualize_embeddings(emb_l, \n",
    "                              output_dir    = \"/home/gezi/tmp\",\n",
    "                              max_size      = 10000000, \n",
    "                              umap_metric   = \"euclidean\",\n",
    "                              use_max_count = True):\n",
    "\n",
    "  E = emb_l\n",
    "  print(\"umap\", E.shape)\n",
    "\n",
    "  # create histogram of norms\n",
    "  bins = 50\n",
    "  norms = [np.linalg.norm(E[i], ord=2) for i in tqdm(range(0,E.shape[0]))]\n",
    "#        plt.hist(norms, bins = bins)\n",
    "#        plt.title(\"Cat norm hist var. \"+str(k))\n",
    "  hist, bins = np.histogram(norms, bins=bins)\n",
    "#     print(norms)\n",
    "  print(hist)\n",
    "  print(bins)\n",
    "  logbins = np.logspace(np.log10(bins[0]),np.log10(bins[-1]),len(bins))\n",
    "\n",
    "  plt.figure(figsize=(8,8))\n",
    "  plt.title(\"Categorical norms: \" + \"cardinality \")\n",
    "  plt.hist(norms, bins=logbins)\n",
    "  plt.xscale(\"log\")\n",
    "#        plt.legend()\n",
    "  plt.show()\n",
    "  plt.savefig(output_dir+\"/cat-norm-histogram.png\")\n",
    "#     plt.close()\n",
    "\n",
    "#     n_vis = min(max_size, E.shape[0])\n",
    "#     min_cnt = 0\n",
    "\n",
    "# #        reducer = umap.UMAP(random_state=42, n_neighbors=25, min_dist=0.1)\n",
    "#     reducer = umap.UMAP(random_state=42, metric=umap_metric)\n",
    "\n",
    "#     if use_max_count is False or n_vis == E.shape[0]:\n",
    "#         Y = reducer.fit_transform(E[:n_vis,:])\n",
    "\n",
    "#     plt.figure(figsize=(8,8))\n",
    "\n",
    "#     linewidth = 0\n",
    "#     size      = 1\n",
    "\n",
    "#     if Y.shape[0] < 2500:\n",
    "#         linewidth = 1 \n",
    "#         size      = 5\n",
    "\n",
    "\n",
    "#     plt.scatter(-Y[:,0], -Y[:,1], s=size, marker=\".\", linewidth=linewidth)\n",
    "\n",
    "#     plt.title(\"UMAP: categorical var. \" + \"  (\" + str(n_vis) + \" of \" + str(E.shape[0]) + \", min count \" + str(min_cnt) + \")\")\n",
    "#     plt.show()\n",
    "#     plt.savefig(output_dir + \"/cat-\" + str(n_vis) + \"-of-\" + str(E.shape[0]) + \"-umap.png\")\n",
    "#     plt.close()\n",
    "  return norms"
   ]
  },
  {
   "cell_type": "code",
   "execution_count": 7,
   "metadata": {},
   "outputs": [
    {
     "name": "stdout",
     "output_type": "stream",
     "text": [
      "umap (3000001, 32)\n"
     ]
    },
    {
     "data": {
      "application/vnd.jupyter.widget-view+json": {
       "model_id": "b978d9e7eaa04593b5f06302325cf748",
       "version_major": 2,
       "version_minor": 0
      },
      "text/plain": [
       "HBox(children=(FloatProgress(value=0.0, max=3000001.0), HTML(value='')))"
      ]
     },
     "metadata": {},
     "output_type": "display_data"
    },
    {
     "name": "stdout",
     "output_type": "stream",
     "text": [
      "\n",
      "[ 630645 1212866  501121  256279  142109   81015   49103   31994   22325\n",
      "   16346   12254    9168    7111    5713    4587    3854    3102    2574\n",
      "    1993    1522    1202     899     640     449     324     229     149\n",
      "     111      89      62      54      31      24      18      10      15\n",
      "       4       4       0       1       0       2       1       0       0\n",
      "       1       0       0       0       1]\n",
      "[0.09766602 0.2110986  0.32453117 0.43796375 0.5513963  0.6648289\n",
      " 0.7782615  0.891694   1.0051266  1.1185592  1.2319918  1.3454243\n",
      " 1.4588569  1.5722895  1.6857221  1.7991546  1.9125872  2.0260198\n",
      " 2.1394525  2.2528849  2.3663175  2.4797502  2.5931826  2.7066152\n",
      " 2.8200479  2.9334803  3.046913   3.1603456  3.2737782  3.3872106\n",
      " 3.5006433  3.614076   3.7275083  3.840941   3.9543736  4.0678062\n",
      " 4.1812387  4.294671   4.408104   4.5215364  4.6349688  4.7484016\n",
      " 4.861834   4.975267   5.0886993  5.2021317  5.3155646  5.428997\n",
      " 5.5424294  5.6558623  5.7692947 ]\n"
     ]
    },
    {
     "data": {
      "image/png": "[encoded data removed]",
      "text/plain": [
       "<Figure size 576x576 with 1 Axes>"
      ]
     },
     "metadata": {
      "needs_background": "light"
     },
     "output_type": "display_data"
    },
    {
     "data": {
      "text/plain": [
       "<Figure size 432x288 with 0 Axes>"
      ]
     },
     "metadata": {},
     "output_type": "display_data"
    }
   ],
   "source": [
    "norms_doc = visualize_embeddings(reader.get_tensor('wide_deep/deep/doc_emb/embeddings'))"
   ]
  },
  {
   "cell_type": "code",
   "execution_count": 8,
   "metadata": {},
   "outputs": [
    {
     "name": "stdout",
     "output_type": "stream",
     "text": [
      "umap (3000001, 32)\n"
     ]
    },
    {
     "data": {
      "application/vnd.jupyter.widget-view+json": {
       "model_id": "7a117d23291a46379e53e26906ca903d",
       "version_major": 2,
       "version_minor": 0
      },
      "text/plain": [
       "HBox(children=(FloatProgress(value=0.0, max=3000001.0), HTML(value='')))"
      ]
     },
     "metadata": {},
     "output_type": "display_data"
    },
    {
     "ename": "KeyboardInterrupt",
     "evalue": "",
     "output_type": "error",
     "traceback": [
      "\u001b[0;31m---------------------------------------------------------------------------\u001b[0m",
      "\u001b[0;31mKeyboardInterrupt\u001b[0m                         Traceback (most recent call last)",
      "\u001b[0;32m<ipython-input-8-f09fed90a3c9>\u001b[0m in \u001b[0;36m<module>\u001b[0;34m()\u001b[0m\n\u001b[0;32m----> 1\u001b[0;31m \u001b[0mnorms_user\u001b[0m\u001b[0;34m=\u001b[0m \u001b[0mvisualize_embeddings\u001b[0m\u001b[0;34m(\u001b[0m\u001b[0mreader\u001b[0m\u001b[0;34m.\u001b[0m\u001b[0mget_tensor\u001b[0m\u001b[0;34m(\u001b[0m\u001b[0;34m'wide_deep/deep/user_emb/embeddings'\u001b[0m\u001b[0;34m)\u001b[0m\u001b[0;34m)\u001b[0m\u001b[0;34m\u001b[0m\u001b[0;34m\u001b[0m\u001b[0m\n\u001b[0m",
      "\u001b[0;32m<ipython-input-6-db858cd8a85a>\u001b[0m in \u001b[0;36mvisualize_embeddings\u001b[0;34m(emb_l, output_dir, max_size, umap_metric, use_max_count)\u001b[0m\n\u001b[1;32m     10\u001b[0m   \u001b[0;31m# create histogram of norms\u001b[0m\u001b[0;34m\u001b[0m\u001b[0;34m\u001b[0m\u001b[0;34m\u001b[0m\u001b[0m\n\u001b[1;32m     11\u001b[0m   \u001b[0mbins\u001b[0m \u001b[0;34m=\u001b[0m \u001b[0;36m50\u001b[0m\u001b[0;34m\u001b[0m\u001b[0;34m\u001b[0m\u001b[0m\n\u001b[0;32m---> 12\u001b[0;31m   \u001b[0mnorms\u001b[0m \u001b[0;34m=\u001b[0m \u001b[0;34m[\u001b[0m\u001b[0mnp\u001b[0m\u001b[0;34m.\u001b[0m\u001b[0mlinalg\u001b[0m\u001b[0;34m.\u001b[0m\u001b[0mnorm\u001b[0m\u001b[0;34m(\u001b[0m\u001b[0mE\u001b[0m\u001b[0;34m[\u001b[0m\u001b[0mi\u001b[0m\u001b[0;34m]\u001b[0m\u001b[0;34m,\u001b[0m \u001b[0mord\u001b[0m\u001b[0;34m=\u001b[0m\u001b[0;36m2\u001b[0m\u001b[0;34m)\u001b[0m \u001b[0;32mfor\u001b[0m \u001b[0mi\u001b[0m \u001b[0;32min\u001b[0m \u001b[0mtqdm\u001b[0m\u001b[0;34m(\u001b[0m\u001b[0mrange\u001b[0m\u001b[0;34m(\u001b[0m\u001b[0;36m0\u001b[0m\u001b[0;34m,\u001b[0m\u001b[0mE\u001b[0m\u001b[0;34m.\u001b[0m\u001b[0mshape\u001b[0m\u001b[0;34m[\u001b[0m\u001b[0;36m0\u001b[0m\u001b[0;34m]\u001b[0m\u001b[0;34m)\u001b[0m\u001b[0;34m)\u001b[0m\u001b[0;34m]\u001b[0m\u001b[0;34m\u001b[0m\u001b[0;34m\u001b[0m\u001b[0m\n\u001b[0m\u001b[1;32m     13\u001b[0m \u001b[0;31m#        plt.hist(norms, bins = bins)\u001b[0m\u001b[0;34m\u001b[0m\u001b[0;34m\u001b[0m\u001b[0;34m\u001b[0m\u001b[0m\n\u001b[1;32m     14\u001b[0m \u001b[0;31m#        plt.title(\"Cat norm hist var. \"+str(k))\u001b[0m\u001b[0;34m\u001b[0m\u001b[0;34m\u001b[0m\u001b[0;34m\u001b[0m\u001b[0m\n",
      "\u001b[0;32m<ipython-input-6-db858cd8a85a>\u001b[0m in \u001b[0;36m<listcomp>\u001b[0;34m(.0)\u001b[0m\n\u001b[1;32m     10\u001b[0m   \u001b[0;31m# create histogram of norms\u001b[0m\u001b[0;34m\u001b[0m\u001b[0;34m\u001b[0m\u001b[0;34m\u001b[0m\u001b[0m\n\u001b[1;32m     11\u001b[0m   \u001b[0mbins\u001b[0m \u001b[0;34m=\u001b[0m \u001b[0;36m50\u001b[0m\u001b[0;34m\u001b[0m\u001b[0;34m\u001b[0m\u001b[0m\n\u001b[0;32m---> 12\u001b[0;31m   \u001b[0mnorms\u001b[0m \u001b[0;34m=\u001b[0m \u001b[0;34m[\u001b[0m\u001b[0mnp\u001b[0m\u001b[0;34m.\u001b[0m\u001b[0mlinalg\u001b[0m\u001b[0;34m.\u001b[0m\u001b[0mnorm\u001b[0m\u001b[0;34m(\u001b[0m\u001b[0mE\u001b[0m\u001b[0;34m[\u001b[0m\u001b[0mi\u001b[0m\u001b[0;34m]\u001b[0m\u001b[0;34m,\u001b[0m \u001b[0mord\u001b[0m\u001b[0;34m=\u001b[0m\u001b[0;36m2\u001b[0m\u001b[0;34m)\u001b[0m \u001b[0;32mfor\u001b[0m \u001b[0mi\u001b[0m \u001b[0;32min\u001b[0m \u001b[0mtqdm\u001b[0m\u001b[0;34m(\u001b[0m\u001b[0mrange\u001b[0m\u001b[0;34m(\u001b[0m\u001b[0;36m0\u001b[0m\u001b[0;34m,\u001b[0m\u001b[0mE\u001b[0m\u001b[0;34m.\u001b[0m\u001b[0mshape\u001b[0m\u001b[0;34m[\u001b[0m\u001b[0;36m0\u001b[0m\u001b[0;34m]\u001b[0m\u001b[0;34m)\u001b[0m\u001b[0;34m)\u001b[0m\u001b[0;34m]\u001b[0m\u001b[0;34m\u001b[0m\u001b[0;34m\u001b[0m\u001b[0m\n\u001b[0m\u001b[1;32m     13\u001b[0m \u001b[0;31m#        plt.hist(norms, bins = bins)\u001b[0m\u001b[0;34m\u001b[0m\u001b[0;34m\u001b[0m\u001b[0;34m\u001b[0m\u001b[0m\n\u001b[1;32m     14\u001b[0m \u001b[0;31m#        plt.title(\"Cat norm hist var. \"+str(k))\u001b[0m\u001b[0;34m\u001b[0m\u001b[0;34m\u001b[0m\u001b[0;34m\u001b[0m\u001b[0m\n",
      "\u001b[0;32m/home/gezi/env/anaconda3/lib/python3.6/site-packages/numpy/linalg/linalg.py\u001b[0m in \u001b[0;36mnorm\u001b[0;34m(x, ord, axis, keepdims)\u001b[0m\n\u001b[1;32m   2449\u001b[0m             \u001b[0;32melse\u001b[0m\u001b[0;34m:\u001b[0m\u001b[0;34m\u001b[0m\u001b[0;34m\u001b[0m\u001b[0m\n\u001b[1;32m   2450\u001b[0m                 \u001b[0msqnorm\u001b[0m \u001b[0;34m=\u001b[0m \u001b[0mdot\u001b[0m\u001b[0;34m(\u001b[0m\u001b[0mx\u001b[0m\u001b[0;34m,\u001b[0m \u001b[0mx\u001b[0m\u001b[0;34m)\u001b[0m\u001b[0;34m\u001b[0m\u001b[0;34m\u001b[0m\u001b[0m\n\u001b[0;32m-> 2451\u001b[0;31m             \u001b[0mret\u001b[0m \u001b[0;34m=\u001b[0m \u001b[0msqrt\u001b[0m\u001b[0;34m(\u001b[0m\u001b[0msqnorm\u001b[0m\u001b[0;34m)\u001b[0m\u001b[0;34m\u001b[0m\u001b[0;34m\u001b[0m\u001b[0m\n\u001b[0m\u001b[1;32m   2452\u001b[0m             \u001b[0;32mif\u001b[0m \u001b[0mkeepdims\u001b[0m\u001b[0;34m:\u001b[0m\u001b[0;34m\u001b[0m\u001b[0;34m\u001b[0m\u001b[0m\n\u001b[1;32m   2453\u001b[0m                 \u001b[0mret\u001b[0m \u001b[0;34m=\u001b[0m \u001b[0mret\u001b[0m\u001b[0;34m.\u001b[0m\u001b[0mreshape\u001b[0m\u001b[0;34m(\u001b[0m\u001b[0mndim\u001b[0m\u001b[0;34m*\u001b[0m\u001b[0;34m[\u001b[0m\u001b[0;36m1\u001b[0m\u001b[0;34m]\u001b[0m\u001b[0;34m)\u001b[0m\u001b[0;34m\u001b[0m\u001b[0;34m\u001b[0m\u001b[0m\n",
      "\u001b[0;31mKeyboardInterrupt\u001b[0m: "
     ]
    }
   ],
   "source": [
    "norms_user= visualize_embeddings(reader.get_tensor('wide_deep/deep/user_emb/embeddings'))"
   ]
  },
  {
   "cell_type": "code",
   "execution_count": null,
   "metadata": {},
   "outputs": [],
   "source": [
    "norms_kw= visualize_embeddings(reader.get_tensor('wide_deep/deep/mktest_kw_emb/embeddings'))"
   ]
  },
  {
   "cell_type": "code",
   "execution_count": null,
   "metadata": {},
   "outputs": [],
   "source": [
    "from tensorflow.python import pywrap_tensorflow\n",
    "root = '/search/odin/publicData/CloudS/mkyuwen/rank_online/data/video_hour_sgsapp_v1/models/1'\n",
    "model_dir = root + '/2020071522'\n",
    "var_name = 'embeddings'\n",
    "checkpoint_path = melt.get_model_path(model_dir)\n",
    "reader = pywrap_tensorflow.NewCheckpointReader(checkpoint_path)\n",
    "var_to_shape_map = reader.get_variable_to_shape_map()"
   ]
  },
  {
   "cell_type": "code",
   "execution_count": null,
   "metadata": {},
   "outputs": [],
   "source": [
    "norms_doc2 = visualize_embeddings(reader.get_tensor('wide_deep/deep/doc_emb/embeddings'))"
   ]
  },
  {
   "cell_type": "code",
   "execution_count": null,
   "metadata": {},
   "outputs": [],
   "source": [
    "norms_user2 = visualize_embeddings(reader.get_tensor('wide_deep/deep/user_emb/embeddings'))"
   ]
  },
  {
   "cell_type": "code",
   "execution_count": null,
   "metadata": {},
   "outputs": [],
   "source": [
    "norms_kw2 = visualize_embeddings(reader.get_tensor('wide_deep/deep/mktest_kw_emb/embeddings'))"
   ]
  },
  {
   "cell_type": "code",
   "execution_count": null,
   "metadata": {},
   "outputs": [],
   "source": [
    "np.sum(np.asarray(norms_doc) - np.asarray(norms_doc2) < 0) / len(norms_doc)"
   ]
  },
  {
   "cell_type": "code",
   "execution_count": null,
   "metadata": {},
   "outputs": [],
   "source": [
    "np.sum(np.asarray(norms_user) - np.asarray(norms_user2) < 0) / len(norms_user)"
   ]
  },
  {
   "cell_type": "code",
   "execution_count": null,
   "metadata": {},
   "outputs": [],
   "source": [
    "np.argsort(norms_doc)"
   ]
  },
  {
   "cell_type": "code",
   "execution_count": null,
   "metadata": {},
   "outputs": [],
   "source": [
    "norms_doc[1994989]"
   ]
  },
  {
   "cell_type": "code",
   "execution_count": null,
   "metadata": {},
   "outputs": [],
   "source": [
    "norms_doc[1024905]"
   ]
  },
  {
   "cell_type": "code",
   "execution_count": null,
   "metadata": {},
   "outputs": [],
   "source": [
    "gezi.metrics.inverse_ratio(np.asarray(norms_doc), np.asarray(norms_doc2))"
   ]
  },
  {
   "cell_type": "code",
   "execution_count": null,
   "metadata": {},
   "outputs": [],
   "source": [
    "gezi.metrics.inverse_ratio(np.asarray(norms_user), np.asarray(norms_user2))"
   ]
  },
  {
   "cell_type": "code",
   "execution_count": null,
   "metadata": {},
   "outputs": [],
   "source": [
    "gezi.metrics.inverse_ratio(np.asarray(norms_kw), np.asarray(norms_kw2))"
   ]
  },
  {
   "cell_type": "code",
   "execution_count": null,
   "metadata": {},
   "outputs": [],
   "source": [
    "norms_doc2[1994989]"
   ]
  },
  {
   "cell_type": "code",
   "execution_count": null,
   "metadata": {},
   "outputs": [],
   "source": [
    "norms_doc2[1024905]"
   ]
  },
  {
   "cell_type": "code",
   "execution_count": null,
   "metadata": {},
   "outputs": [],
   "source": [
    "np.argsort(norms_doc2)"
   ]
  },
  {
   "cell_type": "code",
   "execution_count": null,
   "metadata": {},
   "outputs": [],
   "source": [
    "norms_doc[2527765]"
   ]
  },
  {
   "cell_type": "code",
   "execution_count": null,
   "metadata": {},
   "outputs": [],
   "source": [
    "norms_doc[1360745]"
   ]
  },
  {
   "cell_type": "code",
   "execution_count": null,
   "metadata": {},
   "outputs": [],
   "source": [
    "norms_doc2[1360745]"
   ]
  },
  {
   "cell_type": "code",
   "execution_count": null,
   "metadata": {},
   "outputs": [],
   "source": [
    "norms_doc[327539]"
   ]
  },
  {
   "cell_type": "code",
   "execution_count": null,
   "metadata": {},
   "outputs": [],
   "source": [
    "norms_doc2[327539]"
   ]
  },
  {
   "cell_type": "code",
   "execution_count": null,
   "metadata": {},
   "outputs": [],
   "source": [
    "gezi.metrics.inverse_ratio(np.argsort(norms_kw), np.argsort(norms_kw2))"
   ]
  },
  {
   "cell_type": "code",
   "execution_count": null,
   "metadata": {},
   "outputs": [],
   "source": [
    "np.argsort(norms_kw2)"
   ]
  },
  {
   "cell_type": "code",
   "execution_count": null,
   "metadata": {},
   "outputs": [],
   "source": [
    "norms_kw2[312727]"
   ]
  },
  {
   "cell_type": "code",
   "execution_count": null,
   "metadata": {},
   "outputs": [],
   "source": [
    "norms_kw2[366982]"
   ]
  },
  {
   "cell_type": "code",
   "execution_count": null,
   "metadata": {},
   "outputs": [],
   "source": [
    "norms_kw[312727]"
   ]
  },
  {
   "cell_type": "code",
   "execution_count": null,
   "metadata": {},
   "outputs": [],
   "source": [
    "norms_kw[366982]"
   ]
  },
  {
   "cell_type": "code",
   "execution_count": null,
   "metadata": {},
   "outputs": [],
   "source": [
    "np.sum(np.asarray(norms_kw) - np.asarray(norms_kw2) < 0) / len(norms_kw)"
   ]
  },
  {
   "cell_type": "code",
   "execution_count": null,
   "metadata": {},
   "outputs": [],
   "source": []
  }
 ],
 "metadata": {
  "kernelspec": {
   "display_name": "Python 3",
   "language": "python",
   "name": "python3"
  },
  "language_info": {
   "codemirror_mode": {
    "name": "ipython",
    "version": 3
   },
   "file_extension": ".py",
   "mimetype": "text/x-python",
   "name": "python",
   "nbconvert_exporter": "python",
   "pygments_lexer": "ipython3",
   "version": "3.6.8"
  }
 },
 "nbformat": 4,
 "nbformat_minor": 2
}
