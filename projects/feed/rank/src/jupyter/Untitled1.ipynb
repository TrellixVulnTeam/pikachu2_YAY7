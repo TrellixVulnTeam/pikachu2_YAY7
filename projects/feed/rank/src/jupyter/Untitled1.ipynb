{
 "cells": [
  {
   "cell_type": "code",
   "execution_count": 1,
   "metadata": {},
   "outputs": [
    {
     "name": "stderr",
     "output_type": "stream",
     "text": [
      "/home/gezi/env/anaconda3/lib/python3.6/site-packages/urllib3/connectionpool.py:858: InsecureRequestWarning: Unverified HTTPS request is being made. Adding certificate verification is strongly advised. See: https://urllib3.readthedocs.io/en/latest/advanced-usage.html#ssl-warnings\n",
      "  InsecureRequestWarning)\n"
     ]
    },
    {
     "name": "stdout",
     "output_type": "stream",
     "text": [
      "error\n",
      "over\n"
     ]
    }
   ],
   "source": [
    "import requests\n",
    "import eventlet\n",
    "import time\n",
    " \n",
    "eventlet.monkey_patch()\n",
    " \n",
    "time_limit = 3  #set timeout time 3s\n",
    " \n",
    "with eventlet.Timeout(time_limit,False):\n",
    "    time.sleep(2)\n",
    "    r=requests.get(\"https://me.csdn.net/dcrmg\", verify=False)\n",
    "    print('error')\n",
    "print('over')"
   ]
  },
  {
   "cell_type": "code",
   "execution_count": null,
   "metadata": {},
   "outputs": [],
   "source": [
    "# https://blog.csdn.net/dcrmg/article/details/82850457"
   ]
  },
  {
   "cell_type": "code",
   "execution_count": 7,
   "metadata": {},
   "outputs": [
    {
     "name": "stdout",
     "output_type": "stream",
     "text": [
      "Time out!\n"
     ]
    }
   ],
   "source": [
    "import signal\n",
    "import time\n",
    " \n",
    "def set_timeout(num, callback):\n",
    "    def wrap(func):\n",
    "        def handle(signum, frame):  # 收到信号 SIGALRM 后的回调函数，第一个参数是信号的数字，第二个参数是the interrupted stack frame.\n",
    "            raise RuntimeError\n",
    " \n",
    "        def to_do(*args, **kwargs):\n",
    "            try:\n",
    "                signal.signal(signal.SIGALRM, handle)  # 设置信号和回调函数\n",
    "                signal.alarm(num)  # 设置 num 秒的闹钟\n",
    "                r = func(*args, **kwargs)\n",
    "                signal.alarm(0)  # 关闭闹钟\n",
    "                return r\n",
    "            except RuntimeError as e:\n",
    "                return callback()\n",
    " \n",
    "        return to_do\n",
    " \n",
    "    return wrap\n",
    " \n",
    "def after_timeout():  # 超时后的处理函数\n",
    "    print(\"Time out!\")\n",
    " \n",
    "@set_timeout(2, after_timeout)  # 限时 2 秒超时\n",
    "def connect():  # 要执行的函数\n",
    "    time.sleep(3)  # 函数执行时间，写大于2的值，可测试超时\n",
    "    print('Finished without timeout.')\n",
    "\n",
    "connect()"
   ]
  },
  {
   "cell_type": "code",
   "execution_count": 2,
   "metadata": {},
   "outputs": [
    {
     "name": "stdout",
     "output_type": "stream",
     "text": [
      "Finished without timeout.\n"
     ]
    }
   ],
   "source": [
    "@set_timeout(2, after_timeout)  # 限时 2 秒超时\n",
    "def connect2():  # 要执行的函数\n",
    "    time.sleep(1)  # 函数执行时间，写大于2的值，可测试超时\n",
    "    print('Finished without timeout.')\n",
    "    \n",
    "connect2()"
   ]
  },
  {
   "cell_type": "code",
   "execution_count": 3,
   "metadata": {},
   "outputs": [
    {
     "name": "stdout",
     "output_type": "stream",
     "text": [
      "fail\n"
     ]
    }
   ],
   "source": [
    "@set_timeout(2, lambda: print('fail'))  # 限时 2 秒超时\n",
    "def connect3():  # 要执行的函数\n",
    "    time.sleep(5)  # 函数执行时间，写大于2的值，可测试超时\n",
    "    print('Finished without timeout.')\n",
    "\n",
    "connect3()"
   ]
  },
  {
   "cell_type": "code",
   "execution_count": 9,
   "metadata": {},
   "outputs": [
    {
     "name": "stdout",
     "output_type": "stream",
     "text": [
      "-1\n"
     ]
    }
   ],
   "source": [
    "@set_timeout(2, lambda: -1)  # 限时 2 秒超时\n",
    "def connect4():  # 要执行的函数\n",
    "    time.sleep(5)  # 函数执行时间，写大于2的值，可测试超时\n",
    "    print('Finished without timeout.')\n",
    "    return 0\n",
    "\n",
    "print(connect4())"
   ]
  },
  {
   "cell_type": "code",
   "execution_count": 1,
   "metadata": {},
   "outputs": [],
   "source": [
    "def p(*names):\n",
    "  print(names[0], names[1])"
   ]
  },
  {
   "cell_type": "code",
   "execution_count": 2,
   "metadata": {},
   "outputs": [
    {
     "name": "stdout",
     "output_type": "stream",
     "text": [
      "abc def\n"
     ]
    }
   ],
   "source": [
    "p('abc', 'def')"
   ]
  },
  {
   "cell_type": "code",
   "execution_count": 4,
   "metadata": {},
   "outputs": [
    {
     "name": "stdout",
     "output_type": "stream",
     "text": [
      "abc def\n"
     ]
    }
   ],
   "source": [
    "p(*['abc', 'def'])"
   ]
  },
  {
   "cell_type": "code",
   "execution_count": 5,
   "metadata": {},
   "outputs": [
    {
     "ename": "SyntaxError",
     "evalue": "can't use starred expression here (<ipython-input-5-e88d2742f3b8>, line 1)",
     "output_type": "error",
     "traceback": [
      "\u001b[0;36m  File \u001b[0;32m\"<ipython-input-5-e88d2742f3b8>\"\u001b[0;36m, line \u001b[0;32m1\u001b[0m\n\u001b[0;31m    *['abc', 'def']\u001b[0m\n\u001b[0m                   ^\u001b[0m\n\u001b[0;31mSyntaxError\u001b[0m\u001b[0;31m:\u001b[0m can't use starred expression here\n"
     ]
    }
   ],
   "source": [
    "*['abc', 'def']"
   ]
  },
  {
   "cell_type": "code",
   "execution_count": 1,
   "metadata": {},
   "outputs": [],
   "source": [
    "import torch\n",
    "from torch import nn"
   ]
  },
  {
   "cell_type": "code",
   "execution_count": 2,
   "metadata": {},
   "outputs": [],
   "source": [
    "weight = torch.FloatTensor([[1, 2.3, 3], [4, 5.1, 6.3]])"
   ]
  },
  {
   "cell_type": "code",
   "execution_count": 3,
   "metadata": {},
   "outputs": [
    {
     "data": {
      "text/plain": [
       "tensor([[1.0000, 2.3000, 3.0000],\n",
       "        [4.0000, 5.1000, 6.3000]])"
      ]
     },
     "execution_count": 3,
     "metadata": {},
     "output_type": "execute_result"
    }
   ],
   "source": [
    "weight"
   ]
  },
  {
   "cell_type": "code",
   "execution_count": 4,
   "metadata": {},
   "outputs": [],
   "source": [
    "embeddingbag = nn.EmbeddingBag.from_pretrained(weight, mode='sum')\n",
    "input = torch.LongTensor([[1, 0]])"
   ]
  },
  {
   "cell_type": "code",
   "execution_count": 5,
   "metadata": {},
   "outputs": [
    {
     "data": {
      "text/plain": [
       "tensor([[4.0000, 5.1000, 6.3000]])"
      ]
     },
     "execution_count": 5,
     "metadata": {},
     "output_type": "execute_result"
    }
   ],
   "source": [
    "embeddingbag(input, per_sample_weights=torch.FloatTensor([[1., 0.]]))"
   ]
  },
  {
   "cell_type": "code",
   "execution_count": 9,
   "metadata": {},
   "outputs": [],
   "source": [
    "t = nn.Embedding(3, 1)"
   ]
  },
  {
   "cell_type": "code",
   "execution_count": 12,
   "metadata": {},
   "outputs": [],
   "source": [
    "import numpy as np"
   ]
  },
  {
   "cell_type": "code",
   "execution_count": 13,
   "metadata": {},
   "outputs": [],
   "source": [
    "l = np.asarray([1, 2, 3]).reshape(3, 1)"
   ]
  },
  {
   "cell_type": "code",
   "execution_count": 14,
   "metadata": {},
   "outputs": [
    {
     "data": {
      "text/plain": [
       "array([[1],\n",
       "       [2],\n",
       "       [3]])"
      ]
     },
     "execution_count": 14,
     "metadata": {},
     "output_type": "execute_result"
    }
   ],
   "source": [
    "l"
   ]
  },
  {
   "cell_type": "code",
   "execution_count": 16,
   "metadata": {},
   "outputs": [
    {
     "data": {
      "text/plain": [
       "tensor([[1.],\n",
       "        [2.],\n",
       "        [3.]])"
      ]
     },
     "execution_count": 16,
     "metadata": {},
     "output_type": "execute_result"
    }
   ],
   "source": [
    "t.weight.data.copy_(torch.from_numpy(l))"
   ]
  },
  {
   "cell_type": "code",
   "execution_count": 23,
   "metadata": {},
   "outputs": [],
   "source": [
    "t.weight.requires_grad = False"
   ]
  },
  {
   "cell_type": "code",
   "execution_count": 17,
   "metadata": {},
   "outputs": [],
   "source": [
    "x = torch.IntTensor([[0, 1, 2], [2, 1, 0]])"
   ]
  },
  {
   "cell_type": "code",
   "execution_count": 20,
   "metadata": {},
   "outputs": [],
   "source": [
    "x = x.type(torch.int64)"
   ]
  },
  {
   "cell_type": "code",
   "execution_count": 25,
   "metadata": {},
   "outputs": [
    {
     "data": {
      "text/plain": [
       "tensor([[1., 2., 3.],\n",
       "        [3., 2., 1.]])"
      ]
     },
     "execution_count": 25,
     "metadata": {},
     "output_type": "execute_result"
    }
   ],
   "source": [
    "t(x).squeeze(-1)"
   ]
  },
  {
   "cell_type": "code",
   "execution_count": 27,
   "metadata": {},
   "outputs": [
    {
     "data": {
      "text/plain": [
       "3"
      ]
     },
     "execution_count": 27,
     "metadata": {},
     "output_type": "execute_result"
    }
   ],
   "source": [
    "np.asarray([1,2,3]).shape[0]"
   ]
  },
  {
   "cell_type": "code",
   "execution_count": null,
   "metadata": {},
   "outputs": [],
   "source": []
  }
 ],
 "metadata": {
  "kernelspec": {
   "display_name": "Python 3",
   "language": "python",
   "name": "python3"
  },
  "language_info": {
   "codemirror_mode": {
    "name": "ipython",
    "version": 3
   },
   "file_extension": ".py",
   "mimetype": "text/x-python",
   "name": "python",
   "nbconvert_exporter": "python",
   "pygments_lexer": "ipython3",
   "version": "3.6.8"
  }
 },
 "nbformat": 4,
 "nbformat_minor": 2
}
