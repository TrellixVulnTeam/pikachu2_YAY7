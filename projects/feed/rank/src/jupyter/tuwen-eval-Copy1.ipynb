{
 "cells": [
  {
   "cell_type": "code",
   "execution_count": 1,
   "metadata": {},
   "outputs": [
    {
     "data": {
      "text/html": [
       "        <script type=\"text/javascript\">\n",
       "        window.PlotlyConfig = {MathJaxConfig: 'local'};\n",
       "        if (window.MathJax) {MathJax.Hub.Config({SVG: {font: \"STIX-Web\"}});}\n",
       "        if (typeof require !== 'undefined') {\n",
       "        require.undef(\"plotly\");\n",
       "        requirejs.config({\n",
       "            paths: {\n",
       "                'plotly': ['https://cdn.plot.ly/plotly-latest.min']\n",
       "            }\n",
       "        });\n",
       "        require(['plotly'], function(Plotly) {\n",
       "            window._Plotly = Plotly;\n",
       "        });\n",
       "        }\n",
       "        </script>\n",
       "        "
      ]
     },
     "metadata": {},
     "output_type": "display_data"
    }
   ],
   "source": [
    "import pandas as pd\n",
    "import os\n",
    "import glob\n",
    "import traceback\n",
    "from datetime import datetime\n",
    "import pandas as pd\n",
    "from plotly.graph_objs import Scatter,Layout\n",
    "import plotly\n",
    "import plotly.offline as py\n",
    "import numpy as np\n",
    "import plotly.graph_objs as go\n",
    "from plotly.subplots import make_subplots\n",
    "plotly.offline.init_notebook_mode(connected=True)\n",
    "import plotly.express as px\n",
    "import gezi\n",
    "from gezi import tqdm \n",
    "import pymp\n",
    "import time\n",
    "import qgrid\n",
    "from sklearn.metrics import roc_auc_score\n",
    "from multiprocessing import Manager, cpu_count\n",
    "from projects.feed.rank.utils.doc_info.KV import KV"
   ]
  },
  {
   "cell_type": "code",
   "execution_count": 2,
   "metadata": {},
   "outputs": [
    {
     "data": {
      "text/html": [
       "<style>\n",
       ".output_wrapper, .output {\n",
       "    height:auto !important;\n",
       "    max-height:10000px;  /* your desired max-height here */\n",
       "}\n",
       ".output_scroll {\n",
       "    box-shadow:none !important;\n",
       "    webkit-box-shadow:none !important;\n",
       "}\n",
       "</style>"
      ],
      "text/plain": [
       "<IPython.core.display.HTML object>"
      ]
     },
     "metadata": {},
     "output_type": "display_data"
    }
   ],
   "source": [
    "%%html\n",
    "<style>\n",
    ".output_wrapper, .output {\n",
    "    height:auto !important;\n",
    "    max-height:10000px;  /* your desired max-height here */\n",
    "}\n",
    ".output_scroll {\n",
    "    box-shadow:none !important;\n",
    "    webkit-box-shadow:none !important;\n",
    "}\n",
    "</style>"
   ]
  },
  {
   "cell_type": "code",
   "execution_count": 3,
   "metadata": {},
   "outputs": [
    {
     "name": "stdout",
     "output_type": "stream",
     "text": [
      "/search/odin/publicData/CloudS/libowei/rank_online/infos/tuwen/8/2020050822/valid.csv\n"
     ]
    },
    {
     "data": {
      "text/html": [
       "<div>\n",
       "<style scoped>\n",
       "    .dataframe tbody tr th:only-of-type {\n",
       "        vertical-align: middle;\n",
       "    }\n",
       "\n",
       "    .dataframe tbody tr th {\n",
       "        vertical-align: top;\n",
       "    }\n",
       "\n",
       "    .dataframe thead th {\n",
       "        text-align: right;\n",
       "    }\n",
       "</style>\n",
       "<table border=\"1\" class=\"dataframe\">\n",
       "  <thead>\n",
       "    <tr style=\"text-align: right;\">\n",
       "      <th></th>\n",
       "      <th>doc_topic</th>\n",
       "      <th>abtestid</th>\n",
       "      <th>article_page_time</th>\n",
       "      <th>coldstart_refresh_num</th>\n",
       "      <th>did</th>\n",
       "      <th>distribution</th>\n",
       "      <th>docid</th>\n",
       "      <th>duration</th>\n",
       "      <th>id</th>\n",
       "      <th>impression_time</th>\n",
       "      <th>...</th>\n",
       "      <th>click</th>\n",
       "      <th>weight</th>\n",
       "      <th>cold</th>\n",
       "      <th>product_data</th>\n",
       "      <th>pred</th>\n",
       "      <th>pred_click</th>\n",
       "      <th>pred_dur</th>\n",
       "      <th>hour</th>\n",
       "      <th>dur</th>\n",
       "      <th>mark</th>\n",
       "    </tr>\n",
       "  </thead>\n",
       "  <tbody>\n",
       "    <tr>\n",
       "      <th>0</th>\n",
       "      <td>0</td>\n",
       "      <td>4</td>\n",
       "      <td>1588764222</td>\n",
       "      <td>2</td>\n",
       "      <td>7751987992946443570</td>\n",
       "      <td>3028</td>\n",
       "      <td>20506l0l42osgG</td>\n",
       "      <td>0</td>\n",
       "      <td>721a866655031185162\\t20506l0l42osgG</td>\n",
       "      <td>1588945094</td>\n",
       "      <td>...</td>\n",
       "      <td>0</td>\n",
       "      <td>1.0</td>\n",
       "      <td>0</td>\n",
       "      <td>sgsapp</td>\n",
       "      <td>0.023042</td>\n",
       "      <td>0.088624</td>\n",
       "      <td>0.412387</td>\n",
       "      <td>2020050822</td>\n",
       "      <td>0</td>\n",
       "      <td>tuwen</td>\n",
       "    </tr>\n",
       "    <tr>\n",
       "      <th>1</th>\n",
       "      <td>0</td>\n",
       "      <td>16</td>\n",
       "      <td>1588867796</td>\n",
       "      <td>1</td>\n",
       "      <td>-1694197970914465223</td>\n",
       "      <td>3039</td>\n",
       "      <td>open_doc_prod28265848</td>\n",
       "      <td>64</td>\n",
       "      <td>35c3864826043423386\\topen_doc_prod28265848</td>\n",
       "      <td>1588944890</td>\n",
       "      <td>...</td>\n",
       "      <td>1</td>\n",
       "      <td>1.0</td>\n",
       "      <td>0</td>\n",
       "      <td>sgsapp</td>\n",
       "      <td>0.127533</td>\n",
       "      <td>0.633218</td>\n",
       "      <td>0.123271</td>\n",
       "      <td>2020050822</td>\n",
       "      <td>64</td>\n",
       "      <td>tuwen</td>\n",
       "    </tr>\n",
       "    <tr>\n",
       "      <th>2</th>\n",
       "      <td>0</td>\n",
       "      <td>16</td>\n",
       "      <td>1588640321</td>\n",
       "      <td>7</td>\n",
       "      <td>-4696901797553807890</td>\n",
       "      <td>3116</td>\n",
       "      <td>open_doc_prod28047474</td>\n",
       "      <td>0</td>\n",
       "      <td>3f65860469041174513\\topen_doc_prod28047474</td>\n",
       "      <td>1588948145</td>\n",
       "      <td>...</td>\n",
       "      <td>0</td>\n",
       "      <td>1.0</td>\n",
       "      <td>0</td>\n",
       "      <td>sgsapp</td>\n",
       "      <td>0.054822</td>\n",
       "      <td>0.234560</td>\n",
       "      <td>0.233364</td>\n",
       "      <td>2020050822</td>\n",
       "      <td>0</td>\n",
       "      <td>tuwen</td>\n",
       "    </tr>\n",
       "    <tr>\n",
       "      <th>3</th>\n",
       "      <td>0</td>\n",
       "      <td>0</td>\n",
       "      <td>1588314032</td>\n",
       "      <td>6</td>\n",
       "      <td>-7499005563532932609</td>\n",
       "      <td>3019</td>\n",
       "      <td>20501f0l3qu8D1</td>\n",
       "      <td>0</td>\n",
       "      <td>c85e1588292268995|8a4770\\t20501f0l3qu8D1</td>\n",
       "      <td>1588944951</td>\n",
       "      <td>...</td>\n",
       "      <td>0</td>\n",
       "      <td>1.0</td>\n",
       "      <td>0</td>\n",
       "      <td>sgsapp</td>\n",
       "      <td>0.033811</td>\n",
       "      <td>0.160258</td>\n",
       "      <td>0.237362</td>\n",
       "      <td>2020050822</td>\n",
       "      <td>0</td>\n",
       "      <td>tuwen</td>\n",
       "    </tr>\n",
       "    <tr>\n",
       "      <th>4</th>\n",
       "      <td>0</td>\n",
       "      <td>2</td>\n",
       "      <td>1588922950</td>\n",
       "      <td>1</td>\n",
       "      <td>5004843507350979974</td>\n",
       "      <td>3116</td>\n",
       "      <td>20508f0T39QH90</td>\n",
       "      <td>0</td>\n",
       "      <td>b89e864395038608971\\t20508f0T39QH90</td>\n",
       "      <td>1588946523</td>\n",
       "      <td>...</td>\n",
       "      <td>0</td>\n",
       "      <td>1.0</td>\n",
       "      <td>0</td>\n",
       "      <td>sgsapp</td>\n",
       "      <td>0.013509</td>\n",
       "      <td>0.085229</td>\n",
       "      <td>0.206792</td>\n",
       "      <td>2020050822</td>\n",
       "      <td>0</td>\n",
       "      <td>tuwen</td>\n",
       "    </tr>\n",
       "  </tbody>\n",
       "</table>\n",
       "<p>5 rows × 46 columns</p>\n",
       "</div>"
      ],
      "text/plain": [
       "   doc_topic  abtestid  article_page_time  coldstart_refresh_num  \\\n",
       "0          0         4         1588764222                      2   \n",
       "1          0        16         1588867796                      1   \n",
       "2          0        16         1588640321                      7   \n",
       "3          0         0         1588314032                      6   \n",
       "4          0         2         1588922950                      1   \n",
       "\n",
       "                   did distribution                  docid  duration  \\\n",
       "0  7751987992946443570         3028         20506l0l42osgG         0   \n",
       "1 -1694197970914465223         3039  open_doc_prod28265848        64   \n",
       "2 -4696901797553807890         3116  open_doc_prod28047474         0   \n",
       "3 -7499005563532932609         3019         20501f0l3qu8D1         0   \n",
       "4  5004843507350979974         3116         20508f0T39QH90         0   \n",
       "\n",
       "                                           id  impression_time  ...  click  \\\n",
       "0         721a866655031185162\\t20506l0l42osgG       1588945094  ...      0   \n",
       "1  35c3864826043423386\\topen_doc_prod28265848       1588944890  ...      1   \n",
       "2  3f65860469041174513\\topen_doc_prod28047474       1588948145  ...      0   \n",
       "3    c85e1588292268995|8a4770\\t20501f0l3qu8D1       1588944951  ...      0   \n",
       "4         b89e864395038608971\\t20508f0T39QH90       1588946523  ...      0   \n",
       "\n",
       "  weight cold product_data      pred pred_click  pred_dur        hour  dur  \\\n",
       "0    1.0    0       sgsapp  0.023042   0.088624  0.412387  2020050822    0   \n",
       "1    1.0    0       sgsapp  0.127533   0.633218  0.123271  2020050822   64   \n",
       "2    1.0    0       sgsapp  0.054822   0.234560  0.233364  2020050822    0   \n",
       "3    1.0    0       sgsapp  0.033811   0.160258  0.237362  2020050822    0   \n",
       "4    1.0    0       sgsapp  0.013509   0.085229  0.206792  2020050822    0   \n",
       "\n",
       "    mark  \n",
       "0  tuwen  \n",
       "1  tuwen  \n",
       "2  tuwen  \n",
       "3  tuwen  \n",
       "4  tuwen  \n",
       "\n",
       "[5 rows x 46 columns]"
      ]
     },
     "execution_count": 3,
     "metadata": {},
     "output_type": "execute_result"
    }
   ],
   "source": [
    "info_dir = f'/search/odin/publicData/CloudS/libowei/rank_online/infos/tuwen/8'\n",
    "hour = 2020050822\n",
    "info_path = f'{info_dir}/{hour}/valid.csv'\n",
    "print(info_path)\n",
    "df = pd.read_csv(info_path)\n",
    "# df2 = pd.read_csv()\n",
    "# df = df.rename({'duration':'dur'})\n",
    "df['dur'] = df.duration\n",
    "df['mark'] = 'tuwen'\n",
    "# info_dir = f'/search/odin/publicData/CloudS/libowei/rank_online/infos/video/8'\n",
    "# info_path = f'{info_dir}/{hour}/valid.csv'\n",
    "# df2 = pd.read_csv(info_path)\n",
    "# df2['dur'] = df.duration\n",
    "# df2['mark'] = 'video'\n",
    "# df = pd.concat([df, df2])\n",
    "df = df[df.product_data=='sgsapp']\n",
    "df.head()"
   ]
  },
  {
   "cell_type": "code",
   "execution_count": 4,
   "metadata": {},
   "outputs": [],
   "source": [
    "df['click'] = (df.dur != 0).astype(int)"
   ]
  },
  {
   "cell_type": "code",
   "execution_count": 5,
   "metadata": {},
   "outputs": [],
   "source": [
    "# kv = KV()\n",
    "# titles = kv.get_titles(list(set(df.docid.values)))\n",
    "# df['title'] = df.docid.apply(lambda x: titles.get(x, ''))"
   ]
  },
  {
   "cell_type": "code",
   "execution_count": 6,
   "metadata": {},
   "outputs": [],
   "source": [
    "pd.set_option('display.max_rows', 1000)\n",
    "pd.set_option(\"display.precision\", 8)"
   ]
  },
  {
   "cell_type": "code",
   "execution_count": 7,
   "metadata": {},
   "outputs": [],
   "source": [
    "if 'article_page_time' not in df.columns:\n",
    "  df.article_page_time = df.impression_time\n",
    "df['page_time'] = (df.impression_time - df.article_page_time) / 60 / 60 / 24"
   ]
  },
  {
   "cell_type": "code",
   "execution_count": 8,
   "metadata": {},
   "outputs": [],
   "source": [
    "df['impression'] = df.mid + '\\t' + df.impression_time.astype(str)"
   ]
  },
  {
   "cell_type": "code",
   "execution_count": 9,
   "metadata": {},
   "outputs": [],
   "source": [
    "mean_duration = df[df.dur > 0].dur.mean()"
   ]
  },
  {
   "cell_type": "code",
   "execution_count": 10,
   "metadata": {},
   "outputs": [
    {
     "data": {
      "text/plain": [
       "93.39725693648246"
      ]
     },
     "execution_count": 10,
     "metadata": {},
     "output_type": "execute_result"
    }
   ],
   "source": [
    "mean_duration"
   ]
  },
  {
   "cell_type": "code",
   "execution_count": 11,
   "metadata": {},
   "outputs": [],
   "source": [
    "from projects.feed.rank.src import util\n",
    "df['cold'] = df.rea.apply(lambda x: int(x) in util.cold_starts)\n",
    "# df = df[df.product_data=='sgsapp']"
   ]
  },
  {
   "cell_type": "code",
   "execution_count": 12,
   "metadata": {},
   "outputs": [],
   "source": [
    "import math\n",
    "df.pred = df.pred.apply(lambda x: math.sqrt(x))"
   ]
  },
  {
   "cell_type": "code",
   "execution_count": 13,
   "metadata": {},
   "outputs": [],
   "source": [
    "cold_mids = set(df[df.cold==True].mid.values)"
   ]
  },
  {
   "cell_type": "code",
   "execution_count": 14,
   "metadata": {},
   "outputs": [
    {
     "data": {
      "text/plain": [
       "111499"
      ]
     },
     "execution_count": 14,
     "metadata": {},
     "output_type": "execute_result"
    }
   ],
   "source": [
    "len(set(df.mid.values))"
   ]
  },
  {
   "cell_type": "code",
   "execution_count": 15,
   "metadata": {},
   "outputs": [
    {
     "data": {
      "text/plain": [
       "5800"
      ]
     },
     "execution_count": 15,
     "metadata": {},
     "output_type": "execute_result"
    }
   ],
   "source": [
    "len(cold_mids)"
   ]
  },
  {
   "cell_type": "code",
   "execution_count": 16,
   "metadata": {},
   "outputs": [],
   "source": [
    "# def debug(mid=None, cold=False):\n",
    "#   if mid is None:\n",
    "#     if not cold:\n",
    "#       mid = df.mid.sample(1).values[0]\n",
    "#     else:\n",
    "#       mid = df[df.mid.isin(cold_mids)].mid.sample(1).values[0]\n",
    "#   print('mid:', mid)\n",
    "#   cols = ['position', 'title', 'mark', 'dur', 'ori_lr_score', 'pred', 'pred_click', 'pred_dur', 'docid']\n",
    "# #   if 'hour' in df.columns:\n",
    "# #     cols += ['hour']\n",
    "#   d = df[df.mid==mid]\n",
    "#   start_time = d.impression_time.min()\n",
    "#   d['time'] = d.impression_time.apply(lambda x: int((x - start_time) / 60))\n",
    "# #   cols += ['time']\n",
    "#   d = d.sort_values(['impression_time', 'position'])[cols].reset_index(drop=True)\n",
    "# #   return d.sort_values(['ori_lr_score'], ascending=False)[cols].reset_index(drop=True)\n",
    "#   return d"
   ]
  },
  {
   "cell_type": "code",
   "execution_count": 17,
   "metadata": {},
   "outputs": [],
   "source": [
    "# debug()"
   ]
  },
  {
   "cell_type": "code",
   "execution_count": 18,
   "metadata": {},
   "outputs": [
    {
     "data": {
      "text/plain": [
       "364616"
      ]
     },
     "execution_count": 18,
     "metadata": {},
     "output_type": "execute_result"
    }
   ],
   "source": [
    "len(set(df.impression.values)) "
   ]
  },
  {
   "cell_type": "code",
   "execution_count": 19,
   "metadata": {},
   "outputs": [
    {
     "data": {
      "text/plain": [
       "111499"
      ]
     },
     "execution_count": 19,
     "metadata": {},
     "output_type": "execute_result"
    }
   ],
   "source": [
    "len(set(df.mid.values))"
   ]
  },
  {
   "cell_type": "code",
   "execution_count": 20,
   "metadata": {},
   "outputs": [
    {
     "data": {
      "text/plain": [
       "3.2701279832106116"
      ]
     },
     "execution_count": 20,
     "metadata": {},
     "output_type": "execute_result"
    }
   ],
   "source": [
    "len(set(df.impression.values))  / len(set(df.mid.values))"
   ]
  },
  {
   "cell_type": "code",
   "execution_count": 21,
   "metadata": {},
   "outputs": [
    {
     "data": {
      "text/plain": [
       "99042"
      ]
     },
     "execution_count": 21,
     "metadata": {},
     "output_type": "execute_result"
    }
   ],
   "source": [
    "len(set(df[df.dur!=0].mid.values))"
   ]
  },
  {
   "cell_type": "code",
   "execution_count": 22,
   "metadata": {},
   "outputs": [
    {
     "data": {
      "text/plain": [
       "0.888277024906053"
      ]
     },
     "execution_count": 22,
     "metadata": {},
     "output_type": "execute_result"
    }
   ],
   "source": [
    "len(set(df[df.dur!=0].mid.values)) / len(set(df.mid.values))"
   ]
  },
  {
   "cell_type": "code",
   "execution_count": 23,
   "metadata": {},
   "outputs": [],
   "source": [
    "d_tuwen = df[df.mark=='tuwen']"
   ]
  },
  {
   "cell_type": "code",
   "execution_count": 24,
   "metadata": {},
   "outputs": [],
   "source": [
    "from projects.feed.rank.src.evaluate import evaluate_df as eval\n",
    "import melt "
   ]
  },
  {
   "cell_type": "code",
   "execution_count": 25,
   "metadata": {},
   "outputs": [],
   "source": [
    "melt.init_flags()"
   ]
  },
  {
   "cell_type": "code",
   "execution_count": 31,
   "metadata": {},
   "outputs": [],
   "source": [
    "df.ol_pred =  df.ol_pred_click ** 1.5 * df.ol_pred_dur ** 0.5"
   ]
  },
  {
   "cell_type": "code",
   "execution_count": 32,
   "metadata": {},
   "outputs": [
    {
     "name": "stderr",
     "output_type": "stream",
     "text": [
      "                                                                         \r"
     ]
    },
    {
     "data": {
      "text/plain": [
       "{'auc': 0.7547184982326425,\n",
       " 'mse': 0.0074455728247434265,\n",
       " 'mae': 0.03856948710116614,\n",
       " 'time_auc': 0.7379208411442106,\n",
       " 'mean': 0.0291790570760508,\n",
       " 'loss/click': 0.6279526451823096,\n",
       " 'loss/dur': array(0.10779821, dtype=float32),\n",
       " 'stats/pos_ratio': 0.16470850074916119,\n",
       " 'vtime_auc': nan,\n",
       " 'finish_auc': 0.785833260897298,\n",
       " 'rcr_auc': 0.73556249286443,\n",
       " 'ptime_auc': 0.5270494734037122,\n",
       " 'stats/num_instances': 2197124,\n",
       " 'stats/click_ratio': 0.16470850074916119,\n",
       " 'stats/time_per_show': 0.24864667019822026,\n",
       " 'stats/time_per_click': 0.025943682482356237,\n",
       " 'stats/time_per_user': 0.02482401195900466,\n",
       " 'stats/vtime_per_show': 0.0,\n",
       " 'stats/vtime_per_click': 0.0,\n",
       " 'stats/vtime_per_user': 0.0,\n",
       " 'click/time_auc': 0.5662657950562391,\n",
       " 'click/loss/dur': array(0.5486041, dtype=float32),\n",
       " 'click/mse': 0.03825483490324917,\n",
       " 'click/rmse': 0.8044115675627794,\n",
       " 'click/mae': 0.11856340181396735,\n",
       " 'click/mean': 0.05867625523607259,\n",
       " 'group/auc': 0.6713282952093808,\n",
       " 'group/auc2': 0.6829602728614685,\n",
       " 'group/pos_ratio': 0.2658416858410858,\n",
       " 'group/time_auc': 0.660976106527863,\n",
       " 'group/top1_dur': 53.24985249770552,\n",
       " 'group/top3_dur': 30.26192661070138,\n",
       " 'group/top1_dur_best': 120.69818845330187,\n",
       " 'group/top3_dur_best': 36.76423432915293,\n",
       " 'group/top1_dur_rate': 0.4411818700850501,\n",
       " 'group/top3_dur_rate': 0.8231349615434419,\n",
       " 'group/top1_click': 0.5354177874827263,\n",
       " 'group/top3_click': 0.32812636134341644,\n",
       " 'group/top1_click_best': 1.0,\n",
       " 'group/top3_click_best': 0.3934730510525149,\n",
       " 'group/top1_click_rate': 0.5354177874827263,\n",
       " 'group/top3_click_rate': 0.8339233410412725,\n",
       " 'group/first_click_position': 1.1852748504699515,\n",
       " 'group/last_click_position': 3.1110583668259544,\n",
       " 'group/ndcg3_click': 0.6392743267278689,\n",
       " 'group/ndcg7_click': 0.7266416715239138,\n",
       " 'group/ndcg14_click': 0.7607994527507347,\n",
       " 'group/ndcg_click': 0.760863101455445,\n",
       " 'group/ndcg3_dur': 0.5984158070520925,\n",
       " 'group/ndcg7_dur': 0.6887691027073508,\n",
       " 'group/ndcg14_dur': 0.7203376306848126,\n",
       " 'group/ndcg_dur': 0.7203929097402425,\n",
       " 'group/click/time_auc': 0.5171827157509089,\n",
       " 'group/click/top1_dur': 92.98569774048337,\n",
       " 'group/click/top3_dur': 93.41805936497606,\n",
       " 'group/click/top1_dur_best': 120.69818845330187,\n",
       " 'group/click/top3_dur_best': 94.28728906141045,\n",
       " 'group/click/top1_dur_rate': 0.7703984536309718,\n",
       " 'group/click/top3_dur_rate': 0.9907810511354479,\n",
       " 'group/click/top1_click': 1.0,\n",
       " 'group/click/top3_click': 1.0,\n",
       " 'group/click/top1_click_best': 1.0,\n",
       " 'group/click/top3_click_best': 1.0,\n",
       " 'group/click/top1_click_rate': 1.0,\n",
       " 'group/click/top3_click_rate': 1.0,\n",
       " 'group/click/first_click_position': 0.0,\n",
       " 'group/click/last_click_position': 0.9087365633933563,\n",
       " 'group/click/ndcg3_click': 1.0,\n",
       " 'group/click/ndcg7_click': 1.0,\n",
       " 'group/click/ndcg14_click': 1.0,\n",
       " 'group/click/ndcg_click': 1.0,\n",
       " 'group/click/ndcg3_dur': 0.9324365359442163,\n",
       " 'group/click/ndcg7_dur': 0.9479066148824168,\n",
       " 'group/click/ndcg14_dur': 0.9483792472212113,\n",
       " 'group/click/ndcg_dur': 0.9483792472212113,\n",
       " 'gold/auc': 0.5892362776313212,\n",
       " 'clickmids/auc': 0.733997408408371,\n",
       " 'inv_rate': 0.2652615153995752}"
      ]
     },
     "execution_count": 32,
     "metadata": {},
     "output_type": "execute_result"
    }
   ],
   "source": [
    "result = eval(df, group_by_impression=True, key='ol_pred', eval_click=False, \n",
    "              eval_duration=False, eval_quality=False, eval_cold=False)\n",
    "result "
   ]
  },
  {
   "cell_type": "code",
   "execution_count": null,
   "metadata": {},
   "outputs": [],
   "source": []
  }
 ],
 "metadata": {
  "kernelspec": {
   "display_name": "Python 3",
   "language": "python",
   "name": "python3"
  },
  "language_info": {
   "codemirror_mode": {
    "name": "ipython",
    "version": 3
   },
   "file_extension": ".py",
   "mimetype": "text/x-python",
   "name": "python",
   "nbconvert_exporter": "python",
   "pygments_lexer": "ipython3",
   "version": "3.6.8"
  }
 },
 "nbformat": 4,
 "nbformat_minor": 2
}
