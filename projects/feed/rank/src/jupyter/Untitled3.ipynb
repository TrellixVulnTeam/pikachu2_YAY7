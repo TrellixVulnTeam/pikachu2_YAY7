{
 "cells": [
  {
   "cell_type": "code",
   "execution_count": 6,
   "metadata": {},
   "outputs": [
    {
     "name": "stdout",
     "output_type": "stream",
     "text": [
      "40 1\n",
      "40 2\n",
      "40 3\n",
      "40 4\n",
      "40 5\n",
      "40 6\n",
      "40 7\n",
      "40 8\n",
      "40 9\n",
      "40 10\n",
      "40 11\n",
      "40 12\n",
      "40 13\n",
      "40 14\n",
      "40 15\n",
      "40 16\n",
      "40 17\n",
      "40 18\n",
      "40 19\n",
      "40 20\n",
      "40 21\n",
      "40 22\n",
      "40 23\n",
      "40 24\n",
      "40 25\n",
      "40 26\n",
      "40 27\n",
      "40 28\n",
      "40 29\n",
      "40 30\n",
      "40 31\n",
      "40 32\n",
      "40 33\n",
      "40 34\n",
      "40 35\n",
      "40 36\n",
      "40 37\n",
      "40 38\n",
      "40 39\n",
      "40 0\n"
     ]
    }
   ],
   "source": [
    "import pymp\n",
    "from multiprocessing import Manager, cpu_count \n",
    "from gezi import tqdm\n",
    "with pymp.Parallel(cpu_count()) as p:\n",
    "  print(p.num_threads, p.thread_num)"
   ]
  },
  {
   "cell_type": "code",
   "execution_count": null,
   "metadata": {},
   "outputs": [],
   "source": []
  }
 ],
 "metadata": {
  "kernelspec": {
   "display_name": "Python 3",
   "language": "python",
   "name": "python3"
  },
  "language_info": {
   "codemirror_mode": {
    "name": "ipython",
    "version": 3
   },
   "file_extension": ".py",
   "mimetype": "text/x-python",
   "name": "python",
   "nbconvert_exporter": "python",
   "pygments_lexer": "ipython3",
   "version": "3.6.8"
  }
 },
 "nbformat": 4,
 "nbformat_minor": 2
}
